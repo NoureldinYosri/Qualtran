{
 "cells": [
  {
   "cell_type": "markdown",
   "id": "9b4188e6",
   "metadata": {
    "cq.autogen": "title_cell"
   },
   "source": [
    "# Shor"
   ]
  },
  {
   "cell_type": "code",
   "execution_count": 1,
   "id": "91aaec8f",
   "metadata": {
    "cq.autogen": "top_imports"
   },
   "outputs": [],
   "source": [
    "import cirq\n",
    "import numpy as np\n",
    "import cirq_qubitization\n",
    "import cirq_qubitization.testing as cq_testing\n",
    "from cirq_qubitization.jupyter_tools import display_gate_and_compilation\n",
    "from typing import *"
   ]
  },
  {
   "cell_type": "markdown",
   "id": "abde9b1f",
   "metadata": {
    "cq.autogen": "_make_ModMultiply.md"
   },
   "source": [
    "## `ModMultiply`\n",
    "ModMultiply(exponent_bitsize: int, x_bitsize: int, mul_constant: int, mod_N: int)"
   ]
  },
  {
   "cell_type": "code",
   "execution_count": 2,
   "id": "02ffeff8",
   "metadata": {
    "cq.autogen": "_make_ModMultiply.py"
   },
   "outputs": [
    {
     "data": {
      "application/vnd.jupyter.widget-view+json": {
       "model_id": "d69bccf137804ceb916ff8740ebea05c",
       "version_major": 2,
       "version_minor": 0
      },
      "text/plain": [
       "HBox(children=(Output(outputs=({'output_type': 'display_data', 'data': {'text/plain': '<IPython.core.display.S…"
      ]
     },
     "metadata": {},
     "output_type": "display_data"
    }
   ],
   "source": [
    "from cirq_qubitization.shor.mod_multiply import ModMultiply\n",
    "g = cq_testing.GateHelper(\n",
    "    ModMultiply(exponent_bitsize=3, x_bitsize=3, mul_constant=123, mod_N=5)\n",
    ")\n",
    "\n",
    "display_gate_and_compilation(g)"
   ]
  },
  {
   "cell_type": "code",
   "execution_count": 3,
   "id": "4dc6e042",
   "metadata": {},
   "outputs": [],
   "source": [
    "from cirq_qubitization.atoms import Split, Join\n",
    "from cirq_qubitization.quantum_graph import LeftDangle, RightDangle, DanglingT"
   ]
  },
  {
   "cell_type": "code",
   "execution_count": 4,
   "id": "3f160f0c",
   "metadata": {},
   "outputs": [
    {
     "name": "stdout",
     "output_type": "stream",
     "text": [
      "bbstart {'exponent': <|, 'x': <|} (exponent<5504562224>, x<5504552432>) set()\n",
      "wire_add Wire(left_gate=<|, left_name='exponent', right_gate=Split(bitsize=3)[0], right_name='x')\n",
      "prev_inst {'x': <|, 'y0': Split(bitsize=3)[0], 'y1': Split(bitsize=3)[0], 'y2': Split(bitsize=3)[0]}\n",
      "wire_add Wire(left_gate=Split(bitsize=3)[0], left_name='y2', right_gate=SingleControlModMultiply(x_bitsize=3, mul_constant=1)[1], right_name='control')\n",
      "wire_add Wire(left_gate=<|, left_name='x', right_gate=SingleControlModMultiply(x_bitsize=3, mul_constant=1)[1], right_name='x')\n",
      "prev_inst {'y0': Split(bitsize=3)[0], 'y1': Split(bitsize=3)[0], 'control': SingleControlModMultiply(x_bitsize=3, mul_constant=1)[1], 'x': SingleControlModMultiply(x_bitsize=3, mul_constant=1)[1]}\n",
      "wire_add Wire(left_gate=Split(bitsize=3)[0], left_name='y1', right_gate=SingleControlModMultiply(x_bitsize=3, mul_constant=4)[2], right_name='control')\n",
      "wire_add Wire(left_gate=SingleControlModMultiply(x_bitsize=3, mul_constant=1)[1], left_name='x', right_gate=SingleControlModMultiply(x_bitsize=3, mul_constant=4)[2], right_name='x')\n",
      "prev_inst {'y0': Split(bitsize=3)[0], 'control': SingleControlModMultiply(x_bitsize=3, mul_constant=4)[2], 'x': SingleControlModMultiply(x_bitsize=3, mul_constant=4)[2]}\n",
      "wire_add Wire(left_gate=Split(bitsize=3)[0], left_name='y0', right_gate=SingleControlModMultiply(x_bitsize=3, mul_constant=3)[3], right_name='control')\n",
      "wire_add Wire(left_gate=SingleControlModMultiply(x_bitsize=3, mul_constant=4)[2], left_name='x', right_gate=SingleControlModMultiply(x_bitsize=3, mul_constant=3)[3], right_name='x')\n",
      "prev_inst {'control': SingleControlModMultiply(x_bitsize=3, mul_constant=3)[3], 'x': SingleControlModMultiply(x_bitsize=3, mul_constant=3)[3]}\n"
     ]
    }
   ],
   "source": [
    "from cirq_qubitization.quantum_graph import ModMultiply\n",
    "mm = ModMultiply(exponent_bitsize=3, x_bitsize=3, mul_constant=123, mod_N=5)\n",
    "compbloq = mm.decompose_from_registers()"
   ]
  },
  {
   "cell_type": "code",
   "execution_count": 5,
   "id": "54482f78",
   "metadata": {},
   "outputs": [
    {
     "data": {
      "text/plain": [
       "{SingleControlModMultiply(x_bitsize=3, mul_constant=1)[1],\n",
       " SingleControlModMultiply(x_bitsize=3, mul_constant=3)[3],\n",
       " SingleControlModMultiply(x_bitsize=3, mul_constant=4)[2],\n",
       " Split(bitsize=3)[0]}"
      ]
     },
     "execution_count": 5,
     "metadata": {},
     "output_type": "execute_result"
    }
   ],
   "source": [
    "bloqs = set(wire.left_gate for wire in compbloq._wires if not isinstance(wire.left_gate, DanglingT))\n",
    "bloqs |= set(wire.right_gate for wire in compbloq._wires if not isinstance(wire.right_gate, DanglingT))\n",
    "bloqs"
   ]
  },
  {
   "cell_type": "code",
   "execution_count": 6,
   "id": "e0331bf4",
   "metadata": {},
   "outputs": [
    {
     "data": {
      "text/plain": [
       "[Wire(left_gate=<|, left_name='exponent', right_gate=Split(bitsize=3)[0], right_name='x'),\n",
       " Wire(left_gate=Split(bitsize=3)[0], left_name='y2', right_gate=SingleControlModMultiply(x_bitsize=3, mul_constant=1)[1], right_name='control'),\n",
       " Wire(left_gate=<|, left_name='x', right_gate=SingleControlModMultiply(x_bitsize=3, mul_constant=1)[1], right_name='x'),\n",
       " Wire(left_gate=Split(bitsize=3)[0], left_name='y1', right_gate=SingleControlModMultiply(x_bitsize=3, mul_constant=4)[2], right_name='control'),\n",
       " Wire(left_gate=SingleControlModMultiply(x_bitsize=3, mul_constant=1)[1], left_name='x', right_gate=SingleControlModMultiply(x_bitsize=3, mul_constant=4)[2], right_name='x'),\n",
       " Wire(left_gate=Split(bitsize=3)[0], left_name='y0', right_gate=SingleControlModMultiply(x_bitsize=3, mul_constant=3)[3], right_name='control'),\n",
       " Wire(left_gate=SingleControlModMultiply(x_bitsize=3, mul_constant=4)[2], left_name='x', right_gate=SingleControlModMultiply(x_bitsize=3, mul_constant=3)[3], right_name='x')]"
      ]
     },
     "execution_count": 6,
     "metadata": {},
     "output_type": "execute_result"
    }
   ],
   "source": [
    "compbloq._wires"
   ]
  },
  {
   "cell_type": "code",
   "execution_count": 7,
   "id": "855df9b9",
   "metadata": {},
   "outputs": [],
   "source": [
    "from cirq_qubitization.quantum_graph import QuantumGraph\n",
    "qg = QuantumGraph(bloqs, compbloq._wires, mm.registers)"
   ]
  },
  {
   "cell_type": "code",
   "execution_count": 8,
   "id": "ba08e29d",
   "metadata": {},
   "outputs": [
    {
     "name": "stdout",
     "output_type": "stream",
     "text": [
      "digraph qual {\n",
      "rankdir=LR;\n",
      "subgraph  {\n",
      "rank=same;\n",
      "DanglingT_l_exponent [label=exponent, shape=plaintext];\n",
      "DanglingT_l_x [label=x, shape=plaintext];\n",
      "}\n",
      "\n",
      "Split_0 [label=<<TABLE BORDER=\"1\" CELLBORDER=\"1\" CeLLSPACING=\"3\"><tr><td colspan=\"2\"><font point-size=\"10\">Split</font></td></tr><TR><TD rowspan=\"3\" port=\"x\">in</TD><TD port=\"y0_out\">0</TD></TR><TR><TD port=\"y1_out\">1</TD></TR><TR><TD port=\"y2_out\">2</TD></TR></TABLE>>, shape=plain];\n",
      "SingleControlModMultiply_1 [label=<<TABLE BORDER=\"1\" CELLBORDER=\"1\" CeLLSPACING=\"3\"><tr><td colspan=\"2\"><font point-size=\"10\">SingleControlModMultiply</font></td></tr><TR><TD PORT=\"control\">⬤</TD><TD PORT=\"control_out\">..</TD></TR><TR><TD PORT=\"x\">x</TD><TD PORT=\"x_out\">..</TD></TR></TABLE>>, shape=plain];\n",
      "SingleControlModMultiply_2 [label=<<TABLE BORDER=\"1\" CELLBORDER=\"1\" CeLLSPACING=\"3\"><tr><td colspan=\"2\"><font point-size=\"10\">SingleControlModMultiply</font></td></tr><TR><TD PORT=\"control\">⬤</TD><TD PORT=\"control_out\">..</TD></TR><TR><TD PORT=\"x\">x</TD><TD PORT=\"x_out\">..</TD></TR></TABLE>>, shape=plain];\n",
      "SingleControlModMultiply_3 [label=<<TABLE BORDER=\"1\" CELLBORDER=\"1\" CeLLSPACING=\"3\"><tr><td colspan=\"2\"><font point-size=\"10\">SingleControlModMultiply</font></td></tr><TR><TD PORT=\"control\">⬤</TD><TD PORT=\"control_out\">..</TD></TR><TR><TD PORT=\"x\">x</TD><TD PORT=\"x_out\">..</TD></TR></TABLE>>, shape=plain];\n",
      "subgraph  {\n",
      "rank=same;\n",
      "DanglingT_r_exponent [label=exponent, shape=plaintext];\n",
      "DanglingT_r_x [label=x, shape=plaintext];\n",
      "}\n",
      "\n",
      "DanglingT_l_exponent -> Split_0:x;\n",
      "Split_0:y2_out:e -> SingleControlModMultiply_1:control:w;\n",
      "DanglingT_l_x -> SingleControlModMultiply_1:x;\n",
      "Split_0:y1_out:e -> SingleControlModMultiply_2:control:w;\n",
      "SingleControlModMultiply_1:x_out:e -> SingleControlModMultiply_2:x:w;\n",
      "Split_0:y0_out:e -> SingleControlModMultiply_3:control:w;\n",
      "SingleControlModMultiply_2:x_out:e -> SingleControlModMultiply_3:x:w;\n",
      "}\n",
      "\n"
     ]
    }
   ],
   "source": [
    "print(qg.graphviz().to_string())"
   ]
  },
  {
   "cell_type": "code",
   "execution_count": 9,
   "id": "c389ccae",
   "metadata": {
    "scrolled": false
   },
   "outputs": [
    {
     "data": {
      "image/svg+xml": [
       "<svg xmlns=\"http://www.w3.org/2000/svg\" xmlns:xlink=\"http://www.w3.org/1999/xlink\" width=\"655pt\" height=\"240pt\" viewBox=\"0.00 0.00 655.00 240.00\">\n",
       "<g id=\"graph0\" class=\"graph\" transform=\"scale(1 1) rotate(0) translate(4 236)\">\n",
       "<title>qual</title>\n",
       "<polygon fill=\"white\" stroke=\"transparent\" points=\"-4,4 -4,-236 651,-236 651,4 -4,4\"/>\n",
       "<!-- DanglingT_l_exponent -->\n",
       "<g id=\"node1\" class=\"node\">\n",
       "<title>DanglingT_l_exponent</title>\n",
       "<text text-anchor=\"middle\" x=\"33\" y=\"-102.3\" font-family=\"Times,serif\" font-size=\"14.00\">exponent</text>\n",
       "</g>\n",
       "<!-- Split_0 -->\n",
       "<g id=\"node3\" class=\"node\">\n",
       "<title>Split_0</title>\n",
       "<polygon fill=\"none\" stroke=\"black\" points=\"106.5,-144 106.5,-161 139.5,-161 139.5,-144 106.5,-144\"/>\n",
       "<text text-anchor=\"start\" x=\"113\" y=\"-150\" font-family=\"Times,serif\" font-size=\"10.00\">Split</text>\n",
       "<polygon fill=\"none\" stroke=\"black\" points=\"106.5,-72 106.5,-141 123.5,-141 123.5,-72 106.5,-72\"/>\n",
       "<text text-anchor=\"start\" x=\"109.5\" y=\"-102.8\" font-family=\"Times,serif\" font-size=\"14.00\">in</text>\n",
       "<polygon fill=\"none\" stroke=\"black\" points=\"126.5,-120 126.5,-141 139.5,-141 139.5,-120 126.5,-120\"/>\n",
       "<text text-anchor=\"start\" x=\"129.5\" y=\"-126.8\" font-family=\"Times,serif\" font-size=\"14.00\">0</text>\n",
       "<polygon fill=\"none\" stroke=\"black\" points=\"126.5,-96 126.5,-117 139.5,-117 139.5,-96 126.5,-96\"/>\n",
       "<text text-anchor=\"start\" x=\"129.5\" y=\"-102.8\" font-family=\"Times,serif\" font-size=\"14.00\">1</text>\n",
       "<polygon fill=\"none\" stroke=\"black\" points=\"126.5,-72 126.5,-93 139.5,-93 139.5,-72 126.5,-72\"/>\n",
       "<text text-anchor=\"start\" x=\"129.5\" y=\"-78.8\" font-family=\"Times,serif\" font-size=\"14.00\">2</text>\n",
       "<polygon fill=\"none\" stroke=\"black\" points=\"102,-68.5 102,-165.5 143,-165.5 143,-68.5 102,-68.5\"/>\n",
       "</g>\n",
       "<!-- DanglingT_l_exponent&#45;&gt;Split_0 -->\n",
       "<g id=\"edge1\" class=\"edge\">\n",
       "<title>DanglingT_l_exponent-&gt;Split_0:x</title>\n",
       "<path fill=\"none\" stroke=\"black\" d=\"M66.03,-106C75.19,-106 85.38,-106 95.31,-106\"/>\n",
       "<polygon fill=\"black\" stroke=\"black\" points=\"95.5,-109.5 105.5,-106 95.5,-102.5 95.5,-109.5\"/>\n",
       "</g>\n",
       "<!-- DanglingT_l_x -->\n",
       "<g id=\"node2\" class=\"node\">\n",
       "<title>DanglingT_l_x</title>\n",
       "<text text-anchor=\"middle\" x=\"33\" y=\"-14.3\" font-family=\"Times,serif\" font-size=\"14.00\">x</text>\n",
       "</g>\n",
       "<!-- SingleControlModMultiply_1 -->\n",
       "<g id=\"node4\" class=\"node\">\n",
       "<title>SingleControlModMultiply_1</title>\n",
       "<polygon fill=\"none\" stroke=\"black\" points=\"183,-56 183,-73 307,-73 307,-56 183,-56\"/>\n",
       "<text text-anchor=\"start\" x=\"187.5\" y=\"-62\" font-family=\"Times,serif\" font-size=\"10.00\">SingleControlModMultiply</text>\n",
       "<polygon fill=\"none\" stroke=\"black\" points=\"183,-32 183,-53 248,-53 248,-32 183,-32\"/>\n",
       "<text text-anchor=\"start\" x=\"206.5\" y=\"-38.8\" font-family=\"Times,serif\" font-size=\"14.00\">⬤</text>\n",
       "<polygon fill=\"none\" stroke=\"black\" points=\"251,-32 251,-53 307,-53 307,-32 251,-32\"/>\n",
       "<text text-anchor=\"start\" x=\"275\" y=\"-38.8\" font-family=\"Times,serif\" font-size=\"14.00\">..</text>\n",
       "<polygon fill=\"none\" stroke=\"black\" points=\"183,-8 183,-29 248,-29 248,-8 183,-8\"/>\n",
       "<text text-anchor=\"start\" x=\"212\" y=\"-14.8\" font-family=\"Times,serif\" font-size=\"14.00\">x</text>\n",
       "<polygon fill=\"none\" stroke=\"black\" points=\"251,-8 251,-29 307,-29 307,-8 251,-8\"/>\n",
       "<text text-anchor=\"start\" x=\"275\" y=\"-14.8\" font-family=\"Times,serif\" font-size=\"14.00\">..</text>\n",
       "<polygon fill=\"none\" stroke=\"black\" points=\"179,-4.5 179,-77.5 311,-77.5 311,-4.5 179,-4.5\"/>\n",
       "</g>\n",
       "<!-- DanglingT_l_x&#45;&gt;SingleControlModMultiply_1 -->\n",
       "<g id=\"edge3\" class=\"edge\">\n",
       "<title>DanglingT_l_x-&gt;SingleControlModMultiply_1:x</title>\n",
       "<path fill=\"none\" stroke=\"black\" d=\"M60.2,-18C87.47,-18 131.72,-18 171.89,-18\"/>\n",
       "<polygon fill=\"black\" stroke=\"black\" points=\"172,-21.5 182,-18 172,-14.5 172,-21.5\"/>\n",
       "</g>\n",
       "<!-- Split_0&#45;&gt;SingleControlModMultiply_1 -->\n",
       "<g id=\"edge2\" class=\"edge\">\n",
       "<title>Split_0:e-&gt;SingleControlModMultiply_1:w</title>\n",
       "<path fill=\"none\" stroke=\"black\" d=\"M140.5,-82C161.66,-82 158.76,-54.75 172.02,-45.8\"/>\n",
       "<polygon fill=\"black\" stroke=\"black\" points=\"173.32,-49.07 182,-43 171.43,-42.34 173.32,-49.07\"/>\n",
       "</g>\n",
       "<!-- SingleControlModMultiply_2 -->\n",
       "<g id=\"node5\" class=\"node\">\n",
       "<title>SingleControlModMultiply_2</title>\n",
       "<polygon fill=\"none\" stroke=\"black\" points=\"351,-94 351,-111 475,-111 475,-94 351,-94\"/>\n",
       "<text text-anchor=\"start\" x=\"355.5\" y=\"-100\" font-family=\"Times,serif\" font-size=\"10.00\">SingleControlModMultiply</text>\n",
       "<polygon fill=\"none\" stroke=\"black\" points=\"351,-70 351,-91 416,-91 416,-70 351,-70\"/>\n",
       "<text text-anchor=\"start\" x=\"374.5\" y=\"-76.8\" font-family=\"Times,serif\" font-size=\"14.00\">⬤</text>\n",
       "<polygon fill=\"none\" stroke=\"black\" points=\"419,-70 419,-91 475,-91 475,-70 419,-70\"/>\n",
       "<text text-anchor=\"start\" x=\"443\" y=\"-76.8\" font-family=\"Times,serif\" font-size=\"14.00\">..</text>\n",
       "<polygon fill=\"none\" stroke=\"black\" points=\"351,-46 351,-67 416,-67 416,-46 351,-46\"/>\n",
       "<text text-anchor=\"start\" x=\"380\" y=\"-52.8\" font-family=\"Times,serif\" font-size=\"14.00\">x</text>\n",
       "<polygon fill=\"none\" stroke=\"black\" points=\"419,-46 419,-67 475,-67 475,-46 419,-46\"/>\n",
       "<text text-anchor=\"start\" x=\"443\" y=\"-52.8\" font-family=\"Times,serif\" font-size=\"14.00\">..</text>\n",
       "<polygon fill=\"none\" stroke=\"black\" points=\"347,-42.5 347,-115.5 479,-115.5 479,-42.5 347,-42.5\"/>\n",
       "</g>\n",
       "<!-- Split_0&#45;&gt;SingleControlModMultiply_2 -->\n",
       "<g id=\"edge4\" class=\"edge\">\n",
       "<title>Split_0:e-&gt;SingleControlModMultiply_2:w</title>\n",
       "<path fill=\"none\" stroke=\"black\" d=\"M140.5,-106C216.75,-106 235.41,-97.02 311,-87 324.45,-85.22 329.93,-82.6 339.84,-81.51\"/>\n",
       "<polygon fill=\"black\" stroke=\"black\" points=\"340.19,-85 350,-81 339.84,-78.01 340.19,-85\"/>\n",
       "</g>\n",
       "<!-- SingleControlModMultiply_3 -->\n",
       "<g id=\"node6\" class=\"node\">\n",
       "<title>SingleControlModMultiply_3</title>\n",
       "<polygon fill=\"none\" stroke=\"black\" points=\"519,-125 519,-142 643,-142 643,-125 519,-125\"/>\n",
       "<text text-anchor=\"start\" x=\"523.5\" y=\"-131\" font-family=\"Times,serif\" font-size=\"10.00\">SingleControlModMultiply</text>\n",
       "<polygon fill=\"none\" stroke=\"black\" points=\"519,-101 519,-122 584,-122 584,-101 519,-101\"/>\n",
       "<text text-anchor=\"start\" x=\"542.5\" y=\"-107.8\" font-family=\"Times,serif\" font-size=\"14.00\">⬤</text>\n",
       "<polygon fill=\"none\" stroke=\"black\" points=\"587,-101 587,-122 643,-122 643,-101 587,-101\"/>\n",
       "<text text-anchor=\"start\" x=\"611\" y=\"-107.8\" font-family=\"Times,serif\" font-size=\"14.00\">..</text>\n",
       "<polygon fill=\"none\" stroke=\"black\" points=\"519,-77 519,-98 584,-98 584,-77 519,-77\"/>\n",
       "<text text-anchor=\"start\" x=\"548\" y=\"-83.8\" font-family=\"Times,serif\" font-size=\"14.00\">x</text>\n",
       "<polygon fill=\"none\" stroke=\"black\" points=\"587,-77 587,-98 643,-98 643,-77 587,-77\"/>\n",
       "<text text-anchor=\"start\" x=\"611\" y=\"-83.8\" font-family=\"Times,serif\" font-size=\"14.00\">..</text>\n",
       "<polygon fill=\"none\" stroke=\"black\" points=\"515,-73.5 515,-146.5 647,-146.5 647,-73.5 515,-73.5\"/>\n",
       "</g>\n",
       "<!-- Split_0&#45;&gt;SingleControlModMultiply_3 -->\n",
       "<g id=\"edge6\" class=\"edge\">\n",
       "<title>Split_0:e-&gt;SingleControlModMultiply_3:w</title>\n",
       "<path fill=\"none\" stroke=\"black\" d=\"M140.5,-131C290.97,-131 330.69,-150.42 479,-125 493.07,-122.59 497.81,-116.01 507.92,-113.25\"/>\n",
       "<polygon fill=\"black\" stroke=\"black\" points=\"508.51,-116.7 518,-112 507.65,-109.76 508.51,-116.7\"/>\n",
       "</g>\n",
       "<!-- SingleControlModMultiply_1&#45;&gt;SingleControlModMultiply_2 -->\n",
       "<g id=\"edge5\" class=\"edge\">\n",
       "<title>SingleControlModMultiply_1:e-&gt;SingleControlModMultiply_2:w</title>\n",
       "<path fill=\"none\" stroke=\"black\" d=\"M308,-18C329.04,-18 326.66,-44.55 340.02,-53.27\"/>\n",
       "<polygon fill=\"black\" stroke=\"black\" points=\"339.43,-56.73 350,-56 341.28,-49.98 339.43,-56.73\"/>\n",
       "</g>\n",
       "<!-- SingleControlModMultiply_2&#45;&gt;SingleControlModMultiply_3 -->\n",
       "<g id=\"edge7\" class=\"edge\">\n",
       "<title>SingleControlModMultiply_2:e-&gt;SingleControlModMultiply_3:w</title>\n",
       "<path fill=\"none\" stroke=\"black\" d=\"M476,-56C495.21,-56 495.5,-77.26 508.2,-84.57\"/>\n",
       "<polygon fill=\"black\" stroke=\"black\" points=\"507.45,-87.99 518,-87 509.14,-81.19 507.45,-87.99\"/>\n",
       "</g>\n",
       "<!-- DanglingT_r_exponent -->\n",
       "<g id=\"node7\" class=\"node\">\n",
       "<title>DanglingT_r_exponent</title>\n",
       "<text text-anchor=\"middle\" x=\"33\" y=\"-156.3\" font-family=\"Times,serif\" font-size=\"14.00\">exponent</text>\n",
       "</g>\n",
       "<!-- DanglingT_r_x -->\n",
       "<g id=\"node8\" class=\"node\">\n",
       "<title>DanglingT_r_x</title>\n",
       "<text text-anchor=\"middle\" x=\"33\" y=\"-210.3\" font-family=\"Times,serif\" font-size=\"14.00\">x</text>\n",
       "</g>\n",
       "</g>\n",
       "</svg>"
      ],
      "text/plain": [
       "<IPython.core.display.SVG object>"
      ]
     },
     "execution_count": 9,
     "metadata": {},
     "output_type": "execute_result"
    }
   ],
   "source": [
    "from IPython.display import SVG\n",
    "SVG(qg.graphviz().create_svg())"
   ]
  },
  {
   "cell_type": "markdown",
   "id": "3f320642",
   "metadata": {},
   "source": [
    "```python\n",
    "nodes, edges = g.gate.compute_graph()\n",
    "import networkx as nx\n",
    "from matplotlib import pyplot as plt\n",
    "\n",
    "plt.subplots(figsize=(7,7))\n",
    "gg = nx.from_edgelist(e.tt for e in edges)\n",
    "rs = np.random.RandomState()\n",
    "fuzz = lambda: rs.normal(0, 0.05)\n",
    "\n",
    "pos = {}\n",
    "\n",
    "for yi, r in enumerate(g.r):\n",
    "    pos[LeftDangle, r.name] = (-1, 0.2*yi+fuzz())\n",
    "    pos[RightDangle, r.name] = (len(nodes), 0.2*yi+fuzz())\n",
    "\n",
    "for xi, gate in enumerate(nodes):\n",
    "    \n",
    "    for yi, r in enumerate(gate.registers):\n",
    "        pos[gate, r.name] = (xi+fuzz(), 0.2*yi+fuzz())\n",
    "    \n",
    "    for r1, r2 in zip(gate.registers, gate.registers[1:]):\n",
    "        gg.add_edge((gate, r1.name), (gate, r2.name), typ='vert')\n",
    "    \n",
    "    \n",
    "#pos = nx.spring_layout(gg, pos=pos, iterations=1)\n",
    "nx.draw_networkx(gg, pos=pos)\n",
    "```"
   ]
  },
  {
   "cell_type": "code",
   "execution_count": 10,
   "id": "e950eb91",
   "metadata": {},
   "outputs": [
    {
     "data": {
      "text/html": [
       "<pre style=\"overflow: auto; white-space: pre;\">0: ───@───@───\n",
       "      │   │\n",
       "1: ───X───X───</pre>"
      ],
      "text/plain": [
       "0: ───@───@───\n",
       "      │   │\n",
       "1: ───X───X───"
      ]
     },
     "execution_count": 10,
     "metadata": {},
     "output_type": "execute_result"
    }
   ],
   "source": [
    "import cirq\n",
    "q0, q1 = cirq.LineQubit.range(2)\n",
    "circuit = cirq.Circuit(cirq.CNOT(q0, q1), cirq.CNOT(q0, q1))\n",
    "circuit"
   ]
  },
  {
   "cell_type": "code",
   "execution_count": 11,
   "id": "0f3ba9c7",
   "metadata": {},
   "outputs": [
    {
     "data": {
      "text/plain": [
       "True"
      ]
     },
     "execution_count": 11,
     "metadata": {},
     "output_type": "execute_result"
    }
   ],
   "source": [
    "ops = list(circuit.all_operations())\n",
    "ops[0] == ops[1]"
   ]
  },
  {
   "cell_type": "code",
   "execution_count": 12,
   "id": "06ea2391",
   "metadata": {},
   "outputs": [
    {
     "ename": "TypeError",
     "evalue": "ModMultiply.decompose_from_registers() got an unexpected keyword argument 'exponent'",
     "output_type": "error",
     "traceback": [
      "\u001b[0;31m---------------------------------------------------------------------------\u001b[0m",
      "\u001b[0;31mTypeError\u001b[0m                                 Traceback (most recent call last)",
      "Input \u001b[0;32mIn [12]\u001b[0m, in \u001b[0;36m<cell line: 9>\u001b[0;34m()\u001b[0m\n\u001b[1;32m      7\u001b[0m tracer_qubits \u001b[38;5;241m=\u001b[39m {reg\u001b[38;5;241m.\u001b[39mname: QubitTracer(reg\u001b[38;5;241m.\u001b[39mname, reg\u001b[38;5;241m.\u001b[39mbitsize, graph_builder\u001b[38;5;241m=\u001b[39mgb) \u001b[38;5;28;01mfor\u001b[39;00m reg \u001b[38;5;129;01min\u001b[39;00m gate\u001b[38;5;241m.\u001b[39mregisters}\n\u001b[1;32m      8\u001b[0m gb\u001b[38;5;241m.\u001b[39mleft_gate \u001b[38;5;241m=\u001b[39m {reg\u001b[38;5;241m.\u001b[39mname: LeftDangle \u001b[38;5;28;01mfor\u001b[39;00m reg \u001b[38;5;129;01min\u001b[39;00m gate\u001b[38;5;241m.\u001b[39mregisters}\n\u001b[0;32m----> 9\u001b[0m op \u001b[38;5;241m=\u001b[39m \u001b[38;5;28mlist\u001b[39m(\u001b[43mgate\u001b[49m\u001b[38;5;241;43m.\u001b[39;49m\u001b[43mdecompose_from_registers\u001b[49m\u001b[43m(\u001b[49m\u001b[38;5;241;43m*\u001b[39;49m\u001b[38;5;241;43m*\u001b[39;49m\u001b[43mtracer_qubits\u001b[49m\u001b[43m)\u001b[49m)\n\u001b[1;32m     11\u001b[0m nodes \u001b[38;5;241m=\u001b[39m gb\u001b[38;5;241m.\u001b[39mnodes\n\u001b[1;32m     12\u001b[0m edges \u001b[38;5;241m=\u001b[39m gb\u001b[38;5;241m.\u001b[39mwires\n",
      "\u001b[0;31mTypeError\u001b[0m: ModMultiply.decompose_from_registers() got an unexpected keyword argument 'exponent'"
     ]
    }
   ],
   "source": [
    "from cirq_qubitization.quantum_graph import _QuantumGraphBuilder, QubitTracer\n",
    "\n",
    "gate = ModMultiply(exponent_bitsize=3, x_bitsize=3, mul_constant=123, mod_N=5)\n",
    "g = cq_testing.GateHelper(gate)\n",
    "\n",
    "gb = _QuantumGraphBuilder()\n",
    "tracer_qubits = {reg.name: QubitTracer(reg.name, reg.bitsize, graph_builder=gb) for reg in gate.registers}\n",
    "gb.left_gate = {reg.name: LeftDangle for reg in gate.registers}\n",
    "op = list(gate.decompose_from_registers(**tracer_qubits))\n",
    "\n",
    "nodes = gb.nodes\n",
    "edges = gb.wires"
   ]
  },
  {
   "cell_type": "code",
   "execution_count": null,
   "id": "bd6548da",
   "metadata": {},
   "outputs": [],
   "source": [
    "gate = ModMultiply(exponent_bitsize=3, x_bitsize=3, mul_constant=123, mod_N=5)\n",
    "nodes, edges = gate.compute_graph()"
   ]
  },
  {
   "cell_type": "code",
   "execution_count": null,
   "id": "84ee5291",
   "metadata": {},
   "outputs": [],
   "source": [
    "from cirq_qubitization.shor.mod_multiply import SingleControlModMultiply\n",
    "SingleControlModMultiply(3, 123) == SingleControlModMultiply(3, 123)"
   ]
  },
  {
   "cell_type": "code",
   "execution_count": null,
   "id": "1235ba19",
   "metadata": {},
   "outputs": [],
   "source": [
    "from collections import defaultdict\n",
    "i_by_prefix = defaultdict(lambda: 0)\n",
    "saved = {}\n",
    "\n",
    "def gid(gate, regname):\n",
    "    pot = saved.get((gate, regname), None)\n",
    "    if pot is not None:\n",
    "        return pot\n",
    "    \n",
    "    gname = gate.__class__.__name__\n",
    "    i = i_by_prefix[gname, regname]\n",
    "    i_by_prefix[gname, regname] += 1\n",
    "    name = f'{gname}_{i}_{regname}'\n",
    "    saved[gate, regname] = name\n",
    "    return name"
   ]
  },
  {
   "cell_type": "code",
   "execution_count": null,
   "id": "42bbd1c9",
   "metadata": {},
   "outputs": [],
   "source": [
    "import networkx\n",
    "import pydot\n",
    "\n",
    "graph = pydot.Dot('qual', graph_type='digraph', rankdir='LR')\n",
    "\n",
    "dang = pydot.Subgraph(rank='same')\n",
    "for yi, r in enumerate(g.r):\n",
    "    dang.add_node(pydot.Node(gid(LeftDangle, r.name), label=f'{r.name}', shape='plaintext'))\n",
    "graph.add_subgraph(dang)\n",
    "  \n",
    "for xi, gate in enumerate(nodes):\n",
    "    if isinstance(gate, Split):\n",
    "        graph.add_node(pydot.Node(gid(gate, ''), shape='triangle', label='', orientation=90))\n",
    "        continue\n",
    "    if isinstance(gate, Join):\n",
    "        graph.add_node(pydot.Node(gid(gate, ''), shape='triangle', label='', orientation=-90))\n",
    "        continue\n",
    "    \n",
    "    \n",
    "    ports = [f'<{r.name}>{r.name}' for r in gate.registers]\n",
    "    label = '<<TABLE BORDER=\"1\" CELLBORDER=\"0\" CeLLSPACING=\"0\">'\n",
    "    label += f'<tr><td><font point-size=\"10\">{gate.pretty_name()}</font></td></tr>'\n",
    "    for r in gate.registers:\n",
    "        if r.name == 'control':\n",
    "            celllab='\\u2b24'\n",
    "        else:\n",
    "            celllab=r.name\n",
    "        \n",
    "        label += f'<TR><TD PORT=\"{r.name}\">{celllab}</TD></TR>'\n",
    "    label += '</TABLE>>'\n",
    "    \n",
    "    #graph.add_node(pydot.Node(gid(gate, ''), label='|'.join([f'{gate.__class__.__name__}']+ports)))        \n",
    "    graph.add_node(pydot.Node(gid(gate, ''), label=label, shape='plain'))\n",
    "\n",
    "dang = pydot.Subgraph(rank='same')\n",
    "for yi, r in enumerate(g.r):\n",
    "    dang.add_node(pydot.Node(gid(RightDangle, r.name), label=f'{r.name}', shape='plaintext'))\n",
    "graph.add_subgraph(dang)\n",
    "\n",
    "for wire in edges:\n",
    "    (lg, ln), (rg, rn) = wire.tt\n",
    "    if isinstance(lg, DanglingT):\n",
    "        graph.add_edge(pydot.Edge(gid(lg, ln), gid(rg, '')+':'+rn))\n",
    "    elif isinstance(rg, DanglingT):\n",
    "        graph.add_edge(pydot.Edge(gid(lg, '')+':'+ln, gid(rg, rn)))\n",
    "    else:  \n",
    "        graph.add_edge(pydot.Edge(gid(lg, '')+':'+ln, gid(rg, '')+':'+rn, arrowhead='none'))\n",
    "\n",
    "from IPython.display import SVG\n",
    "SVG(graph.create_svg())"
   ]
  },
  {
   "cell_type": "code",
   "execution_count": null,
   "id": "ad6633d9",
   "metadata": {},
   "outputs": [],
   "source": [
    "print(graph.to_string())"
   ]
  },
  {
   "cell_type": "code",
   "execution_count": null,
   "id": "49e8d28c",
   "metadata": {},
   "outputs": [],
   "source": []
  },
  {
   "cell_type": "code",
   "execution_count": null,
   "id": "a06ebe48",
   "metadata": {},
   "outputs": [],
   "source": []
  },
  {
   "cell_type": "code",
   "execution_count": null,
   "id": "030cdf90",
   "metadata": {},
   "outputs": [],
   "source": []
  },
  {
   "cell_type": "code",
   "execution_count": null,
   "id": "9a6aba89",
   "metadata": {},
   "outputs": [],
   "source": [
    "import networkx\n",
    "import pydot\n",
    "\n",
    "graph = pydot.Dot('qual', graph_type='graph', rankdir='TB')\n",
    "\n",
    "for wire in edges:\n",
    "    (lg, ln), (rg, rn) = wire.tt\n",
    "    graph.add_edge(pydot.Edge(gid(lg, ln), gid(rg, rn)))\n",
    "\n",
    "\n",
    "dang = pydot.Subgraph(rank='same')\n",
    "for yi, r in enumerate(g.r):\n",
    "    dang.add_node(pydot.Node(gid(LeftDangle, r.name), label=f'{LeftDangle}\\n{r.name}'))\n",
    "    #graph.add_node(pydot.Node(gid(RightDangle, r.name), label=f'{RightDangle}\\n{r.name}'))\n",
    "graph.add_subgraph(dang)\n",
    "\n",
    "    \n",
    "for xi, gate in enumerate(nodes):    \n",
    "    \n",
    "    clu = pydot.Cluster(graph_name=gid(gate, 'cluster'), label=f'{gate.__class__.__name__}')\n",
    "    #clu = pydot.Subgraph()\n",
    "    \n",
    "    for yi, r in enumerate(gate.registers):\n",
    "        print(gate, r)\n",
    "        clu.add_node(pydot.Node(gid(gate, r.name), label=f'{r.name}'))\n",
    "        \n",
    "    for r1, r2 in zip(gate.registers, gate.registers[1:]):\n",
    "        clu.add_edge(pydot.Edge(gid(gate, r1.name), gid(gate, r2.name), color='red', constraint=False))\n",
    "    \n",
    "    #clu0.add_subgraph(clu)\n",
    "    graph.add_subgraph(clu)\n",
    "\n",
    "\n",
    "\n",
    "dang = pydot.Subgraph(rank='same')\n",
    "for yi, r in enumerate(g.r):\n",
    "    #graph.add_node(pydot.Node(gid(LeftDangle, r.name), label=f'{LeftDangle}\\n{r.name}'))\n",
    "    dang.add_node(pydot.Node(gid(RightDangle, r.name), label=f'{RightDangle}\\n{r.name}'))\n",
    "graph.add_subgraph(dang)\n",
    "\n",
    "\n",
    "\n",
    "from IPython.display import SVG\n",
    "SVG(graph.create_svg())"
   ]
  },
  {
   "cell_type": "code",
   "execution_count": null,
   "id": "68cb5248",
   "metadata": {},
   "outputs": [],
   "source": [
    "print(graph.to_string())"
   ]
  },
  {
   "cell_type": "code",
   "execution_count": null,
   "id": "616e3814",
   "metadata": {
    "scrolled": false
   },
   "outputs": [],
   "source": [
    "print(graph.create_dot().decode())"
   ]
  },
  {
   "cell_type": "code",
   "execution_count": null,
   "id": "d2203554",
   "metadata": {},
   "outputs": [],
   "source": [
    "n = graph.get_node_list()[0] \n",
    "n.get_name()"
   ]
  },
  {
   "cell_type": "code",
   "execution_count": null,
   "id": "79b601e8",
   "metadata": {},
   "outputs": [],
   "source": [
    "import graphviz\n",
    ">>> dot = graphviz.Digraph(comment='The Round Table')\n",
    ">>> dot.node('A', 'King Arthur')  # doctest: +NO_EXE\n",
    ">>> dot.node('B', 'Sir Bedevere the Wise')\n",
    ">>> dot.node('L', 'Sir Lancelot the Brave')\n",
    "\n",
    ">>> dot.edges(['AB', 'AL'])\n",
    ">>> dot.edge('B', 'L', constraint='false')"
   ]
  },
  {
   "cell_type": "code",
   "execution_count": null,
   "id": "98f5423e",
   "metadata": {},
   "outputs": [],
   "source": [
    "nodes"
   ]
  },
  {
   "cell_type": "code",
   "execution_count": null,
   "id": "569d6f42",
   "metadata": {},
   "outputs": [],
   "source": [
    "nodes[0].registers"
   ]
  },
  {
   "cell_type": "code",
   "execution_count": null,
   "id": "9662d023",
   "metadata": {},
   "outputs": [],
   "source": [
    "list(gg.nodes)"
   ]
  },
  {
   "cell_type": "markdown",
   "id": "e009e473",
   "metadata": {
    "cq.autogen": "_make_SingleControlModMultiply.md"
   },
   "source": [
    "## `SingleControlModMultiply`\n",
    "SingleControlModMultiply(x_bitsize: int, mul_constant: int)"
   ]
  },
  {
   "cell_type": "code",
   "execution_count": null,
   "id": "fa25965f",
   "metadata": {
    "cq.autogen": "_make_SingleControlModMultiply.py"
   },
   "outputs": [],
   "source": [
    "from cirq_qubitization.shor.mod_multiply import SingleControlModMultiply\n",
    "g = cq_testing.GateHelper(\n",
    "    SingleControlModMultiply(x_bitsize=3, mul_constant=123)\n",
    ")\n",
    "\n",
    "display_gate_and_compilation(g)"
   ]
  }
 ],
 "metadata": {
  "kernelspec": {
   "display_name": "Python 3 (ipykernel)",
   "language": "python",
   "name": "python3"
  },
  "language_info": {
   "codemirror_mode": {
    "name": "ipython",
    "version": 3
   },
   "file_extension": ".py",
   "mimetype": "text/x-python",
   "name": "python",
   "nbconvert_exporter": "python",
   "pygments_lexer": "ipython3",
   "version": "3.10.6"
  }
 },
 "nbformat": 4,
 "nbformat_minor": 5
}
