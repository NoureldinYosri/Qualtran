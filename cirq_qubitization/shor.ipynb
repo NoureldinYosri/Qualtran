{
 "cells": [
  {
   "cell_type": "markdown",
   "id": "9b4188e6",
   "metadata": {
    "cq.autogen": "title_cell"
   },
   "source": [
    "# Shor"
   ]
  },
  {
   "cell_type": "code",
   "execution_count": 1,
   "id": "91aaec8f",
   "metadata": {
    "cq.autogen": "top_imports"
   },
   "outputs": [],
   "source": [
    "import cirq\n",
    "import numpy as np\n",
    "import cirq_qubitization\n",
    "import cirq_qubitization.testing as cq_testing\n",
    "from cirq_qubitization.jupyter_tools import display_gate_and_compilation\n",
    "from typing import *"
   ]
  },
  {
   "cell_type": "markdown",
   "id": "abde9b1f",
   "metadata": {
    "cq.autogen": "_make_ModMultiply.md"
   },
   "source": [
    "## `ModMultiply`\n",
    "ModMultiply(exponent_bitsize: int, x_bitsize: int, mul_constant: int, mod_N: int)"
   ]
  },
  {
   "cell_type": "code",
   "execution_count": 2,
   "id": "02ffeff8",
   "metadata": {
    "cq.autogen": "_make_ModMultiply.py"
   },
   "outputs": [
    {
     "data": {
      "application/vnd.jupyter.widget-view+json": {
       "model_id": "4fa29a28647f4b4baf4ff69b41de69e4",
       "version_major": 2,
       "version_minor": 0
      },
      "text/plain": [
       "HBox(children=(Output(outputs=({'output_type': 'display_data', 'data': {'text/plain': '<IPython.core.display.S…"
      ]
     },
     "metadata": {},
     "output_type": "display_data"
    }
   ],
   "source": [
    "from cirq_qubitization.shor.mod_multiply import ModMultiply\n",
    "g = cq_testing.GateHelper(\n",
    "    ModMultiply(exponent_bitsize=3, x_bitsize=3, mul_constant=123, mod_N=5)\n",
    ")\n",
    "\n",
    "display_gate_and_compilation(g)"
   ]
  },
  {
   "cell_type": "code",
   "execution_count": 3,
   "id": "4dc6e042",
   "metadata": {},
   "outputs": [],
   "source": [
    "from cirq_qubitization.atoms import Split, Join\n",
    "from cirq_qubitization.quantum_graph import LeftDangle, RightDangle, DanglingT"
   ]
  },
  {
   "cell_type": "code",
   "execution_count": 4,
   "id": "55136967",
   "metadata": {},
   "outputs": [
    {
     "name": "stdout",
     "output_type": "stream",
     "text": [
      "bbstart {'exponent': <|, 'x': <|} (exponent<5201332784>, x<5201330240>) set()\n",
      "wire_add Wire(left_gate=<|, left_name='exponent', right_gate=Split(bitsize=3)<0>, right_name='sss')\n",
      "prev_inst {'x': <|, 'sss0': Split(bitsize=3)<0>, 'sss1': Split(bitsize=3)<0>, 'sss2': Split(bitsize=3)<0>}\n",
      "wire_add Wire(left_gate=Split(bitsize=3)<0>, left_name='sss2', right_gate=SingleControlModMultiply(x_bitsize=3, mul_constant=1)<1>, right_name='control')\n",
      "wire_add Wire(left_gate=<|, left_name='x', right_gate=SingleControlModMultiply(x_bitsize=3, mul_constant=1)<1>, right_name='x')\n",
      "prev_inst {'sss0': Split(bitsize=3)<0>, 'sss1': Split(bitsize=3)<0>, 'control': SingleControlModMultiply(x_bitsize=3, mul_constant=1)<1>, 'x': SingleControlModMultiply(x_bitsize=3, mul_constant=1)<1>}\n",
      "wire_add Wire(left_gate=Split(bitsize=3)<0>, left_name='sss1', right_gate=SingleControlModMultiply(x_bitsize=3, mul_constant=4)<2>, right_name='control')\n",
      "wire_add Wire(left_gate=SingleControlModMultiply(x_bitsize=3, mul_constant=1)<1>, left_name='x', right_gate=SingleControlModMultiply(x_bitsize=3, mul_constant=4)<2>, right_name='x')\n",
      "prev_inst {'sss0': Split(bitsize=3)<0>, 'control': SingleControlModMultiply(x_bitsize=3, mul_constant=4)<2>, 'x': SingleControlModMultiply(x_bitsize=3, mul_constant=4)<2>}\n",
      "wire_add Wire(left_gate=Split(bitsize=3)<0>, left_name='sss0', right_gate=SingleControlModMultiply(x_bitsize=3, mul_constant=3)<3>, right_name='control')\n",
      "wire_add Wire(left_gate=SingleControlModMultiply(x_bitsize=3, mul_constant=4)<2>, left_name='x', right_gate=SingleControlModMultiply(x_bitsize=3, mul_constant=3)<3>, right_name='x')\n",
      "prev_inst {'control': SingleControlModMultiply(x_bitsize=3, mul_constant=3)<3>, 'x': SingleControlModMultiply(x_bitsize=3, mul_constant=3)<3>}\n"
     ]
    }
   ],
   "source": [
    "from cirq_qubitization.quantum_graph import ModMultiply\n",
    "mm = ModMultiply(exponent_bitsize=3, x_bitsize=3, mul_constant=123, mod_N=5)\n",
    "compbloq = mm.decompose_from_registers()"
   ]
  },
  {
   "cell_type": "code",
   "execution_count": 5,
   "id": "2a4d1be8",
   "metadata": {},
   "outputs": [
    {
     "data": {
      "text/plain": [
       "{SingleControlModMultiply(x_bitsize=3, mul_constant=1)<1>,\n",
       " SingleControlModMultiply(x_bitsize=3, mul_constant=3)<3>,\n",
       " SingleControlModMultiply(x_bitsize=3, mul_constant=4)<2>,\n",
       " Split(bitsize=3)<0>}"
      ]
     },
     "execution_count": 5,
     "metadata": {},
     "output_type": "execute_result"
    }
   ],
   "source": [
    "bloqs = set(wire.left_gate for wire in compbloq._wires if not isinstance(wire.left_gate, DanglingT))\n",
    "bloqs |= set(wire.right_gate for wire in compbloq._wires if not isinstance(wire.right_gate, DanglingT))\n",
    "bloqs"
   ]
  },
  {
   "cell_type": "code",
   "execution_count": 6,
   "id": "207142b0",
   "metadata": {},
   "outputs": [
    {
     "data": {
      "text/plain": [
       "[Wire(left_gate=<|, left_name='exponent', right_gate=Split(bitsize=3)<0>, right_name='sss'),\n",
       " Wire(left_gate=Split(bitsize=3)<0>, left_name='sss2', right_gate=SingleControlModMultiply(x_bitsize=3, mul_constant=1)<1>, right_name='control'),\n",
       " Wire(left_gate=<|, left_name='x', right_gate=SingleControlModMultiply(x_bitsize=3, mul_constant=1)<1>, right_name='x'),\n",
       " Wire(left_gate=Split(bitsize=3)<0>, left_name='sss1', right_gate=SingleControlModMultiply(x_bitsize=3, mul_constant=4)<2>, right_name='control'),\n",
       " Wire(left_gate=SingleControlModMultiply(x_bitsize=3, mul_constant=1)<1>, left_name='x', right_gate=SingleControlModMultiply(x_bitsize=3, mul_constant=4)<2>, right_name='x'),\n",
       " Wire(left_gate=Split(bitsize=3)<0>, left_name='sss0', right_gate=SingleControlModMultiply(x_bitsize=3, mul_constant=3)<3>, right_name='control'),\n",
       " Wire(left_gate=SingleControlModMultiply(x_bitsize=3, mul_constant=4)<2>, left_name='x', right_gate=SingleControlModMultiply(x_bitsize=3, mul_constant=3)<3>, right_name='x')]"
      ]
     },
     "execution_count": 6,
     "metadata": {},
     "output_type": "execute_result"
    }
   ],
   "source": [
    "compbloq._wires"
   ]
  },
  {
   "cell_type": "code",
   "execution_count": 7,
   "id": "6a295fd1",
   "metadata": {},
   "outputs": [],
   "source": [
    "from cirq_qubitization.quantum_graph import GraphDrawer\n",
    "gd = GraphDrawer(bloqs, compbloq._wires, mm.registers)"
   ]
  },
  {
   "cell_type": "code",
   "execution_count": 8,
   "id": "9a0cdf5b",
   "metadata": {},
   "outputs": [
    {
     "name": "stdout",
     "output_type": "stream",
     "text": [
      "digraph qual {\n",
      "rankdir=LR;\n",
      "subgraph  {\n",
      "rank=same;\n",
      "DanglingT_l_exponent [label=exponent, shape=plaintext];\n",
      "DanglingT_l_x [label=x, shape=plaintext];\n",
      "}\n",
      "\n",
      "Split_0 [label=<<TABLE BORDER=\"1\" CELLBORDER=\"1\" CELLSPACING=\"3\"><tr><td colspan=\"2\">Split_0</td></tr><TR><TD rowspan=\"3\" port=\"sss\">in</TD><TD port=\"sss0_out\">0</TD></TR><TR><TD port=\"sss1_out\">1</TD></TR><TR><TD port=\"sss2_out\">2</TD></TR></TABLE>>, shape=plain];\n",
      "SingleControlModMultiply_1 [label=<<TABLE BORDER=\"1\" CELLBORDER=\"1\" CELLSPACING=\"3\"><tr><td colspan=\"2\">SingleControlModMultiply_1</td></tr><TR><TD PORT=\"control\">control</TD><TD PORT=\"control_out\">control_out</TD></TR><TR><TD PORT=\"x\">x</TD><TD PORT=\"x_out\">x_out</TD></TR></TABLE>>, shape=plain];\n",
      "SingleControlModMultiply_2 [label=<<TABLE BORDER=\"1\" CELLBORDER=\"1\" CELLSPACING=\"3\"><tr><td colspan=\"2\">SingleControlModMultiply_2</td></tr><TR><TD PORT=\"control\">control</TD><TD PORT=\"control_out\">control_out</TD></TR><TR><TD PORT=\"x\">x</TD><TD PORT=\"x_out\">x_out</TD></TR></TABLE>>, shape=plain];\n",
      "SingleControlModMultiply_3 [label=<<TABLE BORDER=\"1\" CELLBORDER=\"1\" CELLSPACING=\"3\"><tr><td colspan=\"2\">SingleControlModMultiply_3</td></tr><TR><TD PORT=\"control\">control</TD><TD PORT=\"control_out\">control_out</TD></TR><TR><TD PORT=\"x\">x</TD><TD PORT=\"x_out\">x_out</TD></TR></TABLE>>, shape=plain];\n",
      "subgraph  {\n",
      "rank=same;\n",
      "DanglingT_r_exponent [label=exponent, shape=plaintext];\n",
      "DanglingT_r_x [label=x, shape=plaintext];\n",
      "}\n",
      "\n",
      "DanglingT_l_exponent -> Split_0:sss:w;\n",
      "Split_0:sss2_out:e -> SingleControlModMultiply_1:control:w;\n",
      "DanglingT_l_x -> SingleControlModMultiply_1:x:w;\n",
      "Split_0:sss1_out:e -> SingleControlModMultiply_2:control:w;\n",
      "SingleControlModMultiply_1:x_out:e -> SingleControlModMultiply_2:x:w;\n",
      "Split_0:sss0_out:e -> SingleControlModMultiply_3:control:w;\n",
      "SingleControlModMultiply_2:x_out:e -> SingleControlModMultiply_3:x:w;\n",
      "}\n",
      "\n"
     ]
    }
   ],
   "source": [
    "print(gd.graphviz().to_string())"
   ]
  },
  {
   "cell_type": "code",
   "execution_count": 9,
   "id": "74670ecf",
   "metadata": {
    "scrolled": false
   },
   "outputs": [
    {
     "data": {
      "image/svg+xml": [
       "<svg xmlns=\"http://www.w3.org/2000/svg\" xmlns:xlink=\"http://www.w3.org/1999/xlink\" width=\"818pt\" height=\"244pt\" viewBox=\"0.00 0.00 818.00 244.00\">\n",
       "<g id=\"graph0\" class=\"graph\" transform=\"scale(1 1) rotate(0) translate(4 240)\">\n",
       "<title>qual</title>\n",
       "<polygon fill=\"white\" stroke=\"transparent\" points=\"-4,4 -4,-240 814,-240 814,4 -4,4\"/>\n",
       "<!-- DanglingT_l_exponent -->\n",
       "<g id=\"node1\" class=\"node\">\n",
       "<title>DanglingT_l_exponent</title>\n",
       "<text text-anchor=\"middle\" x=\"33\" y=\"-106.3\" font-family=\"Times,serif\" font-size=\"14.00\">exponent</text>\n",
       "</g>\n",
       "<!-- Split_0 -->\n",
       "<g id=\"node3\" class=\"node\">\n",
       "<title>Split_0</title>\n",
       "<polygon fill=\"none\" stroke=\"black\" points=\"106.5,-148 106.5,-169 155.5,-169 155.5,-148 106.5,-148\"/>\n",
       "<text text-anchor=\"start\" x=\"111\" y=\"-154.8\" font-family=\"Times,serif\" font-size=\"14.00\">Split_0</text>\n",
       "<polygon fill=\"none\" stroke=\"black\" points=\"106.5,-76 106.5,-145 131.5,-145 131.5,-76 106.5,-76\"/>\n",
       "<text text-anchor=\"start\" x=\"113.5\" y=\"-106.8\" font-family=\"Times,serif\" font-size=\"14.00\">in</text>\n",
       "<polygon fill=\"none\" stroke=\"black\" points=\"134.5,-124 134.5,-145 155.5,-145 155.5,-124 134.5,-124\"/>\n",
       "<text text-anchor=\"start\" x=\"141.5\" y=\"-130.8\" font-family=\"Times,serif\" font-size=\"14.00\">0</text>\n",
       "<polygon fill=\"none\" stroke=\"black\" points=\"134.5,-100 134.5,-121 155.5,-121 155.5,-100 134.5,-100\"/>\n",
       "<text text-anchor=\"start\" x=\"141.5\" y=\"-106.8\" font-family=\"Times,serif\" font-size=\"14.00\">1</text>\n",
       "<polygon fill=\"none\" stroke=\"black\" points=\"134.5,-76 134.5,-97 155.5,-97 155.5,-76 134.5,-76\"/>\n",
       "<text text-anchor=\"start\" x=\"141.5\" y=\"-82.8\" font-family=\"Times,serif\" font-size=\"14.00\">2</text>\n",
       "<polygon fill=\"none\" stroke=\"black\" points=\"102,-72.5 102,-173.5 159,-173.5 159,-72.5 102,-72.5\"/>\n",
       "</g>\n",
       "<!-- DanglingT_l_exponent&#45;&gt;Split_0 -->\n",
       "<g id=\"edge1\" class=\"edge\">\n",
       "<title>DanglingT_l_exponent-&gt;Split_0:w</title>\n",
       "<path fill=\"none\" stroke=\"black\" d=\"M66.03,-110C75.19,-110 85.38,-110 95.31,-110\"/>\n",
       "<polygon fill=\"black\" stroke=\"black\" points=\"95.5,-113.5 105.5,-110 95.5,-106.5 95.5,-113.5\"/>\n",
       "</g>\n",
       "<!-- DanglingT_l_x -->\n",
       "<g id=\"node2\" class=\"node\">\n",
       "<title>DanglingT_l_x</title>\n",
       "<text text-anchor=\"middle\" x=\"33\" y=\"-14.3\" font-family=\"Times,serif\" font-size=\"14.00\">x</text>\n",
       "</g>\n",
       "<!-- SingleControlModMultiply_1 -->\n",
       "<g id=\"node4\" class=\"node\">\n",
       "<title>SingleControlModMultiply_1</title>\n",
       "<polygon fill=\"none\" stroke=\"black\" points=\"199.5,-56 199.5,-77 372.5,-77 372.5,-56 199.5,-56\"/>\n",
       "<text text-anchor=\"start\" x=\"204\" y=\"-62.8\" font-family=\"Times,serif\" font-size=\"14.00\">SingleControlModMultiply_1</text>\n",
       "<polygon fill=\"none\" stroke=\"black\" points=\"199.5,-32 199.5,-53 272.5,-53 272.5,-32 199.5,-32\"/>\n",
       "<text text-anchor=\"start\" x=\"216.5\" y=\"-38.8\" font-family=\"Times,serif\" font-size=\"14.00\">control</text>\n",
       "<polygon fill=\"none\" stroke=\"black\" points=\"275.5,-32 275.5,-53 372.5,-53 372.5,-32 275.5,-32\"/>\n",
       "<text text-anchor=\"start\" x=\"292.5\" y=\"-38.8\" font-family=\"Times,serif\" font-size=\"14.00\">control_out</text>\n",
       "<polygon fill=\"none\" stroke=\"black\" points=\"199.5,-8 199.5,-29 272.5,-29 272.5,-8 199.5,-8\"/>\n",
       "<text text-anchor=\"start\" x=\"232.5\" y=\"-14.8\" font-family=\"Times,serif\" font-size=\"14.00\">x</text>\n",
       "<polygon fill=\"none\" stroke=\"black\" points=\"275.5,-8 275.5,-29 372.5,-29 372.5,-8 275.5,-8\"/>\n",
       "<text text-anchor=\"start\" x=\"308.5\" y=\"-14.8\" font-family=\"Times,serif\" font-size=\"14.00\">x_out</text>\n",
       "<polygon fill=\"none\" stroke=\"black\" points=\"195,-4.5 195,-81.5 376,-81.5 376,-4.5 195,-4.5\"/>\n",
       "</g>\n",
       "<!-- DanglingT_l_x&#45;&gt;SingleControlModMultiply_1 -->\n",
       "<g id=\"edge3\" class=\"edge\">\n",
       "<title>DanglingT_l_x-&gt;SingleControlModMultiply_1:w</title>\n",
       "<path fill=\"none\" stroke=\"black\" d=\"M60.21,-18C90.45,-18 141.99,-18 188.38,-18\"/>\n",
       "<polygon fill=\"black\" stroke=\"black\" points=\"188.5,-21.5 198.5,-18 188.5,-14.5 188.5,-21.5\"/>\n",
       "</g>\n",
       "<!-- Split_0&#45;&gt;SingleControlModMultiply_1 -->\n",
       "<g id=\"edge2\" class=\"edge\">\n",
       "<title>Split_0:e-&gt;SingleControlModMultiply_1:w</title>\n",
       "<path fill=\"none\" stroke=\"black\" d=\"M156.5,-86C179.52,-86 174.19,-54.09 188.79,-44.62\"/>\n",
       "<polygon fill=\"black\" stroke=\"black\" points=\"189.76,-47.98 198.5,-42 187.93,-41.23 189.76,-47.98\"/>\n",
       "</g>\n",
       "<!-- SingleControlModMultiply_2 -->\n",
       "<g id=\"node5\" class=\"node\">\n",
       "<title>SingleControlModMultiply_2</title>\n",
       "<polygon fill=\"none\" stroke=\"black\" points=\"416.5,-94 416.5,-115 589.5,-115 589.5,-94 416.5,-94\"/>\n",
       "<text text-anchor=\"start\" x=\"421\" y=\"-100.8\" font-family=\"Times,serif\" font-size=\"14.00\">SingleControlModMultiply_2</text>\n",
       "<polygon fill=\"none\" stroke=\"black\" points=\"416.5,-70 416.5,-91 489.5,-91 489.5,-70 416.5,-70\"/>\n",
       "<text text-anchor=\"start\" x=\"433.5\" y=\"-76.8\" font-family=\"Times,serif\" font-size=\"14.00\">control</text>\n",
       "<polygon fill=\"none\" stroke=\"black\" points=\"492.5,-70 492.5,-91 589.5,-91 589.5,-70 492.5,-70\"/>\n",
       "<text text-anchor=\"start\" x=\"509.5\" y=\"-76.8\" font-family=\"Times,serif\" font-size=\"14.00\">control_out</text>\n",
       "<polygon fill=\"none\" stroke=\"black\" points=\"416.5,-46 416.5,-67 489.5,-67 489.5,-46 416.5,-46\"/>\n",
       "<text text-anchor=\"start\" x=\"449.5\" y=\"-52.8\" font-family=\"Times,serif\" font-size=\"14.00\">x</text>\n",
       "<polygon fill=\"none\" stroke=\"black\" points=\"492.5,-46 492.5,-67 589.5,-67 589.5,-46 492.5,-46\"/>\n",
       "<text text-anchor=\"start\" x=\"525.5\" y=\"-52.8\" font-family=\"Times,serif\" font-size=\"14.00\">x_out</text>\n",
       "<polygon fill=\"none\" stroke=\"black\" points=\"412,-42.5 412,-119.5 593,-119.5 593,-42.5 412,-42.5\"/>\n",
       "</g>\n",
       "<!-- Split_0&#45;&gt;SingleControlModMultiply_2 -->\n",
       "<g id=\"edge4\" class=\"edge\">\n",
       "<title>Split_0:e-&gt;SingleControlModMultiply_2:w</title>\n",
       "<path fill=\"none\" stroke=\"black\" d=\"M156.5,-110C254.42,-110 279.64,-108.43 376,-91 390.01,-88.47 395.12,-83.18 405.37,-80.98\"/>\n",
       "<polygon fill=\"black\" stroke=\"black\" points=\"405.89,-84.45 415.5,-80 405.21,-77.48 405.89,-84.45\"/>\n",
       "</g>\n",
       "<!-- SingleControlModMultiply_3 -->\n",
       "<g id=\"node6\" class=\"node\">\n",
       "<title>SingleControlModMultiply_3</title>\n",
       "<polygon fill=\"none\" stroke=\"black\" points=\"633.5,-128 633.5,-149 806.5,-149 806.5,-128 633.5,-128\"/>\n",
       "<text text-anchor=\"start\" x=\"638\" y=\"-134.8\" font-family=\"Times,serif\" font-size=\"14.00\">SingleControlModMultiply_3</text>\n",
       "<polygon fill=\"none\" stroke=\"black\" points=\"633.5,-104 633.5,-125 706.5,-125 706.5,-104 633.5,-104\"/>\n",
       "<text text-anchor=\"start\" x=\"650.5\" y=\"-110.8\" font-family=\"Times,serif\" font-size=\"14.00\">control</text>\n",
       "<polygon fill=\"none\" stroke=\"black\" points=\"709.5,-104 709.5,-125 806.5,-125 806.5,-104 709.5,-104\"/>\n",
       "<text text-anchor=\"start\" x=\"726.5\" y=\"-110.8\" font-family=\"Times,serif\" font-size=\"14.00\">control_out</text>\n",
       "<polygon fill=\"none\" stroke=\"black\" points=\"633.5,-80 633.5,-101 706.5,-101 706.5,-80 633.5,-80\"/>\n",
       "<text text-anchor=\"start\" x=\"666.5\" y=\"-86.8\" font-family=\"Times,serif\" font-size=\"14.00\">x</text>\n",
       "<polygon fill=\"none\" stroke=\"black\" points=\"709.5,-80 709.5,-101 806.5,-101 806.5,-80 709.5,-80\"/>\n",
       "<text text-anchor=\"start\" x=\"742.5\" y=\"-86.8\" font-family=\"Times,serif\" font-size=\"14.00\">x_out</text>\n",
       "<polygon fill=\"none\" stroke=\"black\" points=\"629,-76.5 629,-153.5 810,-153.5 810,-76.5 629,-76.5\"/>\n",
       "</g>\n",
       "<!-- Split_0&#45;&gt;SingleControlModMultiply_3 -->\n",
       "<g id=\"edge6\" class=\"edge\">\n",
       "<title>Split_0:e-&gt;SingleControlModMultiply_3:w</title>\n",
       "<path fill=\"none\" stroke=\"black\" d=\"M156.5,-135C350.52,-135 402.41,-165.32 593,-129 607.56,-126.23 612.04,-118.49 622.51,-115.35\"/>\n",
       "<polygon fill=\"black\" stroke=\"black\" points=\"623.06,-118.81 632.5,-114 622.12,-111.87 623.06,-118.81\"/>\n",
       "</g>\n",
       "<!-- SingleControlModMultiply_1&#45;&gt;SingleControlModMultiply_2 -->\n",
       "<g id=\"edge5\" class=\"edge\">\n",
       "<title>SingleControlModMultiply_1:e-&gt;SingleControlModMultiply_2:w</title>\n",
       "<path fill=\"none\" stroke=\"black\" d=\"M373.5,-18C394.54,-18 392.16,-44.55 405.52,-53.27\"/>\n",
       "<polygon fill=\"black\" stroke=\"black\" points=\"404.93,-56.73 415.5,-56 406.78,-49.98 404.93,-56.73\"/>\n",
       "</g>\n",
       "<!-- SingleControlModMultiply_2&#45;&gt;SingleControlModMultiply_3 -->\n",
       "<g id=\"edge7\" class=\"edge\">\n",
       "<title>SingleControlModMultiply_2:e-&gt;SingleControlModMultiply_3:w</title>\n",
       "<path fill=\"none\" stroke=\"black\" d=\"M590.5,-56C610.39,-56 609.67,-79.32 622.47,-87.33\"/>\n",
       "<polygon fill=\"black\" stroke=\"black\" points=\"621.94,-90.81 632.5,-90 623.74,-84.05 621.94,-90.81\"/>\n",
       "</g>\n",
       "<!-- DanglingT_r_exponent -->\n",
       "<g id=\"node7\" class=\"node\">\n",
       "<title>DanglingT_r_exponent</title>\n",
       "<text text-anchor=\"middle\" x=\"33\" y=\"-160.3\" font-family=\"Times,serif\" font-size=\"14.00\">exponent</text>\n",
       "</g>\n",
       "<!-- DanglingT_r_x -->\n",
       "<g id=\"node8\" class=\"node\">\n",
       "<title>DanglingT_r_x</title>\n",
       "<text text-anchor=\"middle\" x=\"33\" y=\"-214.3\" font-family=\"Times,serif\" font-size=\"14.00\">x</text>\n",
       "</g>\n",
       "</g>\n",
       "</svg>"
      ],
      "text/plain": [
       "<IPython.core.display.SVG object>"
      ]
     },
     "execution_count": 9,
     "metadata": {},
     "output_type": "execute_result"
    }
   ],
   "source": [
    "from IPython.display import SVG\n",
    "SVG(gd.graphviz().create_svg())"
   ]
  },
  {
   "cell_type": "code",
   "execution_count": 10,
   "id": "74209a19",
   "metadata": {},
   "outputs": [
    {
     "data": {
      "image/svg+xml": [
       "<svg xmlns=\"http://www.w3.org/2000/svg\" xmlns:xlink=\"http://www.w3.org/1999/xlink\" width=\"611pt\" height=\"230pt\" viewBox=\"0.00 0.00 611.00 230.00\">\n",
       "<g id=\"graph0\" class=\"graph\" transform=\"scale(1 1) rotate(0) translate(4 226)\">\n",
       "<title>qual</title>\n",
       "<polygon fill=\"white\" stroke=\"transparent\" points=\"-4,4 -4,-226 607,-226 607,4 -4,4\"/>\n",
       "<!-- DanglingT_l_exponent -->\n",
       "<g id=\"node1\" class=\"node\">\n",
       "<title>DanglingT_l_exponent</title>\n",
       "<text text-anchor=\"middle\" x=\"33\" y=\"-92.3\" font-family=\"Times,serif\" font-size=\"14.00\">exponent</text>\n",
       "</g>\n",
       "<!-- Split_0 -->\n",
       "<g id=\"node3\" class=\"node\">\n",
       "<title>Split_0</title>\n",
       "<polygon fill=\"none\" stroke=\"black\" points=\"102,-128 102,-145 132,-145 132,-128 102,-128\"/>\n",
       "<text text-anchor=\"start\" x=\"107\" y=\"-134\" font-family=\"Times,serif\" font-size=\"10.00\">Split</text>\n",
       "<polygon fill=\"none\" stroke=\"black\" points=\"102,-65 102,-128 119,-128 119,-65 102,-65\"/>\n",
       "<text text-anchor=\"start\" x=\"105\" y=\"-92.8\" font-family=\"Times,serif\" font-size=\"14.00\">in</text>\n",
       "<polygon fill=\"none\" stroke=\"black\" points=\"119,-107 119,-128 132,-128 132,-107 119,-107\"/>\n",
       "<text text-anchor=\"start\" x=\"122\" y=\"-113.8\" font-family=\"Times,serif\" font-size=\"14.00\">0</text>\n",
       "<polygon fill=\"none\" stroke=\"black\" points=\"119,-86 119,-107 132,-107 132,-86 119,-86\"/>\n",
       "<text text-anchor=\"start\" x=\"122\" y=\"-92.8\" font-family=\"Times,serif\" font-size=\"14.00\">1</text>\n",
       "<polygon fill=\"none\" stroke=\"black\" points=\"119,-65 119,-86 132,-86 132,-65 119,-65\"/>\n",
       "<text text-anchor=\"start\" x=\"122\" y=\"-71.8\" font-family=\"Times,serif\" font-size=\"14.00\">2</text>\n",
       "</g>\n",
       "<!-- DanglingT_l_exponent&#45;&gt;Split_0 -->\n",
       "<g id=\"edge1\" class=\"edge\">\n",
       "<title>DanglingT_l_exponent-&gt;Split_0:w</title>\n",
       "<path fill=\"none\" stroke=\"black\" d=\"M66.17,-96C74.31,-96 83.22,-96 91.93,-96\"/>\n",
       "<polygon fill=\"black\" stroke=\"black\" points=\"92,-99.5 102,-96 92,-92.5 92,-99.5\"/>\n",
       "</g>\n",
       "<!-- DanglingT_l_x -->\n",
       "<g id=\"node2\" class=\"node\">\n",
       "<title>DanglingT_l_x</title>\n",
       "<text text-anchor=\"middle\" x=\"33\" y=\"-14.3\" font-family=\"Times,serif\" font-size=\"14.00\">x</text>\n",
       "</g>\n",
       "<!-- SingleControlModMultiply_1 -->\n",
       "<g id=\"node4\" class=\"node\">\n",
       "<title>SingleControlModMultiply_1</title>\n",
       "<polygon fill=\"none\" stroke=\"black\" points=\"168.5,-50 168.5,-67 289.5,-67 289.5,-50 168.5,-50\"/>\n",
       "<text text-anchor=\"start\" x=\"171.5\" y=\"-56\" font-family=\"Times,serif\" font-size=\"10.00\">SingleControlModMultiply</text>\n",
       "<polygon fill=\"none\" stroke=\"black\" points=\"168.5,-29 168.5,-50 233.5,-50 233.5,-29 168.5,-29\"/>\n",
       "<text text-anchor=\"start\" x=\"192\" y=\"-35.8\" font-family=\"Times,serif\" font-size=\"14.00\">⬤</text>\n",
       "<polygon fill=\"none\" stroke=\"black\" points=\"233.5,-29 233.5,-50 289.5,-50 289.5,-29 233.5,-29\"/>\n",
       "<text text-anchor=\"start\" x=\"257.5\" y=\"-35.8\" font-family=\"Times,serif\" font-size=\"14.00\">..</text>\n",
       "<polygon fill=\"none\" stroke=\"black\" points=\"168.5,-8 168.5,-29 233.5,-29 233.5,-8 168.5,-8\"/>\n",
       "<text text-anchor=\"start\" x=\"197.5\" y=\"-14.8\" font-family=\"Times,serif\" font-size=\"14.00\">x</text>\n",
       "<polygon fill=\"none\" stroke=\"black\" points=\"233.5,-8 233.5,-29 289.5,-29 289.5,-8 233.5,-8\"/>\n",
       "<text text-anchor=\"start\" x=\"257.5\" y=\"-14.8\" font-family=\"Times,serif\" font-size=\"14.00\">..</text>\n",
       "</g>\n",
       "<!-- DanglingT_l_x&#45;&gt;SingleControlModMultiply_1 -->\n",
       "<g id=\"edge3\" class=\"edge\">\n",
       "<title>DanglingT_l_x-&gt;SingleControlModMultiply_1:w</title>\n",
       "<path fill=\"none\" stroke=\"black\" d=\"M60.19,-18C84.77,-18 122.89,-18 157.78,-18\"/>\n",
       "<polygon fill=\"black\" stroke=\"black\" points=\"158,-21.5 168,-18 158,-14.5 158,-21.5\"/>\n",
       "</g>\n",
       "<!-- Split_0&#45;&gt;SingleControlModMultiply_1 -->\n",
       "<g id=\"edge2\" class=\"edge\">\n",
       "<title>Split_0:e-&gt;SingleControlModMultiply_1:w</title>\n",
       "<path fill=\"none\" stroke=\"black\" d=\"M132,-75C150.13,-75 147.83,-51.89 158.3,-43.23\"/>\n",
       "<polygon fill=\"black\" stroke=\"black\" points=\"159.62,-46.48 168,-40 157.41,-39.84 159.62,-46.48\"/>\n",
       "</g>\n",
       "<!-- SingleControlModMultiply_2 -->\n",
       "<g id=\"node5\" class=\"node\">\n",
       "<title>SingleControlModMultiply_2</title>\n",
       "<polygon fill=\"none\" stroke=\"black\" points=\"325.5,-88 325.5,-105 446.5,-105 446.5,-88 325.5,-88\"/>\n",
       "<text text-anchor=\"start\" x=\"328.5\" y=\"-94\" font-family=\"Times,serif\" font-size=\"10.00\">SingleControlModMultiply</text>\n",
       "<polygon fill=\"none\" stroke=\"black\" points=\"325.5,-67 325.5,-88 390.5,-88 390.5,-67 325.5,-67\"/>\n",
       "<text text-anchor=\"start\" x=\"349\" y=\"-73.8\" font-family=\"Times,serif\" font-size=\"14.00\">⬤</text>\n",
       "<polygon fill=\"none\" stroke=\"black\" points=\"390.5,-67 390.5,-88 446.5,-88 446.5,-67 390.5,-67\"/>\n",
       "<text text-anchor=\"start\" x=\"414.5\" y=\"-73.8\" font-family=\"Times,serif\" font-size=\"14.00\">..</text>\n",
       "<polygon fill=\"none\" stroke=\"black\" points=\"325.5,-46 325.5,-67 390.5,-67 390.5,-46 325.5,-46\"/>\n",
       "<text text-anchor=\"start\" x=\"354.5\" y=\"-52.8\" font-family=\"Times,serif\" font-size=\"14.00\">x</text>\n",
       "<polygon fill=\"none\" stroke=\"black\" points=\"390.5,-46 390.5,-67 446.5,-67 446.5,-46 390.5,-46\"/>\n",
       "<text text-anchor=\"start\" x=\"414.5\" y=\"-52.8\" font-family=\"Times,serif\" font-size=\"14.00\">..</text>\n",
       "</g>\n",
       "<!-- Split_0&#45;&gt;SingleControlModMultiply_2 -->\n",
       "<g id=\"edge4\" class=\"edge\">\n",
       "<title>Split_0:e-&gt;SingleControlModMultiply_2:w</title>\n",
       "<path fill=\"none\" stroke=\"black\" d=\"M132,-96C214.62,-96 237.04,-79.45 314.72,-78.09\"/>\n",
       "<polygon fill=\"black\" stroke=\"black\" points=\"315.03,-81.59 325,-78 314.97,-74.59 315.03,-81.59\"/>\n",
       "</g>\n",
       "<!-- SingleControlModMultiply_3 -->\n",
       "<g id=\"node6\" class=\"node\">\n",
       "<title>SingleControlModMultiply_3</title>\n",
       "<polygon fill=\"none\" stroke=\"black\" points=\"482.5,-116 482.5,-133 603.5,-133 603.5,-116 482.5,-116\"/>\n",
       "<text text-anchor=\"start\" x=\"485.5\" y=\"-122\" font-family=\"Times,serif\" font-size=\"10.00\">SingleControlModMultiply</text>\n",
       "<polygon fill=\"none\" stroke=\"black\" points=\"482.5,-95 482.5,-116 547.5,-116 547.5,-95 482.5,-95\"/>\n",
       "<text text-anchor=\"start\" x=\"506\" y=\"-101.8\" font-family=\"Times,serif\" font-size=\"14.00\">⬤</text>\n",
       "<polygon fill=\"none\" stroke=\"black\" points=\"547.5,-95 547.5,-116 603.5,-116 603.5,-95 547.5,-95\"/>\n",
       "<text text-anchor=\"start\" x=\"571.5\" y=\"-101.8\" font-family=\"Times,serif\" font-size=\"14.00\">..</text>\n",
       "<polygon fill=\"none\" stroke=\"black\" points=\"482.5,-74 482.5,-95 547.5,-95 547.5,-74 482.5,-74\"/>\n",
       "<text text-anchor=\"start\" x=\"511.5\" y=\"-80.8\" font-family=\"Times,serif\" font-size=\"14.00\">x</text>\n",
       "<polygon fill=\"none\" stroke=\"black\" points=\"547.5,-74 547.5,-95 603.5,-95 603.5,-74 547.5,-74\"/>\n",
       "<text text-anchor=\"start\" x=\"571.5\" y=\"-80.8\" font-family=\"Times,serif\" font-size=\"14.00\">..</text>\n",
       "</g>\n",
       "<!-- Split_0&#45;&gt;SingleControlModMultiply_3 -->\n",
       "<g id=\"edge6\" class=\"edge\">\n",
       "<title>Split_0:e-&gt;SingleControlModMultiply_3:w</title>\n",
       "<path fill=\"none\" stroke=\"black\" d=\"M132,-118C271.56,-118 307.57,-132.71 446,-115 458.4,-113.41 463.21,-109.06 471.99,-107.05\"/>\n",
       "<polygon fill=\"black\" stroke=\"black\" points=\"472.42,-110.52 482,-106 471.69,-103.56 472.42,-110.52\"/>\n",
       "</g>\n",
       "<!-- SingleControlModMultiply_1&#45;&gt;SingleControlModMultiply_2 -->\n",
       "<g id=\"edge5\" class=\"edge\">\n",
       "<title>SingleControlModMultiply_1:e-&gt;SingleControlModMultiply_2:w</title>\n",
       "<path fill=\"none\" stroke=\"black\" d=\"M289,-18C308.08,-18 304.43,-43.57 315.34,-52.76\"/>\n",
       "<polygon fill=\"black\" stroke=\"black\" points=\"314.41,-56.14 325,-56 316.63,-49.5 314.41,-56.14\"/>\n",
       "</g>\n",
       "<!-- SingleControlModMultiply_2&#45;&gt;SingleControlModMultiply_3 -->\n",
       "<g id=\"edge7\" class=\"edge\">\n",
       "<title>SingleControlModMultiply_2:e-&gt;SingleControlModMultiply_3:w</title>\n",
       "<path fill=\"none\" stroke=\"black\" d=\"M446,-56C462.15,-56 462.55,-73.78 472.3,-81\"/>\n",
       "<polygon fill=\"black\" stroke=\"black\" points=\"471.41,-84.39 482,-84 473.48,-77.7 471.41,-84.39\"/>\n",
       "</g>\n",
       "<!-- DanglingT_r_exponent -->\n",
       "<g id=\"node7\" class=\"node\">\n",
       "<title>DanglingT_r_exponent</title>\n",
       "<text text-anchor=\"middle\" x=\"33\" y=\"-146.3\" font-family=\"Times,serif\" font-size=\"14.00\">exponent</text>\n",
       "</g>\n",
       "<!-- DanglingT_r_x -->\n",
       "<g id=\"node8\" class=\"node\">\n",
       "<title>DanglingT_r_x</title>\n",
       "<text text-anchor=\"middle\" x=\"33\" y=\"-200.3\" font-family=\"Times,serif\" font-size=\"14.00\">x</text>\n",
       "</g>\n",
       "</g>\n",
       "</svg>"
      ],
      "text/plain": [
       "<IPython.core.display.SVG object>"
      ]
     },
     "execution_count": 10,
     "metadata": {},
     "output_type": "execute_result"
    }
   ],
   "source": [
    "SVG(gd.to_pretty().graphviz().create_svg())"
   ]
  },
  {
   "cell_type": "code",
   "execution_count": null,
   "id": "17057cda",
   "metadata": {},
   "outputs": [],
   "source": []
  },
  {
   "cell_type": "code",
   "execution_count": null,
   "id": "67c3a05f",
   "metadata": {},
   "outputs": [],
   "source": []
  },
  {
   "cell_type": "code",
   "execution_count": null,
   "id": "e202ecc9",
   "metadata": {},
   "outputs": [],
   "source": []
  },
  {
   "cell_type": "code",
   "execution_count": null,
   "id": "11c6f4a2",
   "metadata": {},
   "outputs": [],
   "source": []
  },
  {
   "cell_type": "code",
   "execution_count": null,
   "id": "61722d67",
   "metadata": {},
   "outputs": [],
   "source": []
  },
  {
   "cell_type": "code",
   "execution_count": null,
   "id": "c9803aa5",
   "metadata": {},
   "outputs": [],
   "source": []
  },
  {
   "cell_type": "markdown",
   "id": "3f320642",
   "metadata": {},
   "source": [
    "```python\n",
    "nodes, edges = g.gate.compute_graph()\n",
    "import networkx as nx\n",
    "from matplotlib import pyplot as plt\n",
    "\n",
    "plt.subplots(figsize=(7,7))\n",
    "gg = nx.from_edgelist(e.tt for e in edges)\n",
    "rs = np.random.RandomState()\n",
    "fuzz = lambda: rs.normal(0, 0.05)\n",
    "\n",
    "pos = {}\n",
    "\n",
    "for yi, r in enumerate(g.r):\n",
    "    pos[LeftDangle, r.name] = (-1, 0.2*yi+fuzz())\n",
    "    pos[RightDangle, r.name] = (len(nodes), 0.2*yi+fuzz())\n",
    "\n",
    "for xi, gate in enumerate(nodes):\n",
    "    \n",
    "    for yi, r in enumerate(gate.registers):\n",
    "        pos[gate, r.name] = (xi+fuzz(), 0.2*yi+fuzz())\n",
    "    \n",
    "    for r1, r2 in zip(gate.registers, gate.registers[1:]):\n",
    "        gg.add_edge((gate, r1.name), (gate, r2.name), typ='vert')\n",
    "    \n",
    "    \n",
    "#pos = nx.spring_layout(gg, pos=pos, iterations=1)\n",
    "nx.draw_networkx(gg, pos=pos)\n",
    "```"
   ]
  },
  {
   "cell_type": "code",
   "execution_count": 11,
   "id": "e950eb91",
   "metadata": {},
   "outputs": [
    {
     "data": {
      "text/html": [
       "<pre style=\"overflow: auto; white-space: pre;\">0: ───@───@───\n",
       "      │   │\n",
       "1: ───X───X───</pre>"
      ],
      "text/plain": [
       "0: ───@───@───\n",
       "      │   │\n",
       "1: ───X───X───"
      ]
     },
     "execution_count": 11,
     "metadata": {},
     "output_type": "execute_result"
    }
   ],
   "source": [
    "import cirq\n",
    "q0, q1 = cirq.LineQubit.range(2)\n",
    "circuit = cirq.Circuit(cirq.CNOT(q0, q1), cirq.CNOT(q0, q1))\n",
    "circuit"
   ]
  },
  {
   "cell_type": "code",
   "execution_count": 12,
   "id": "0f3ba9c7",
   "metadata": {},
   "outputs": [
    {
     "data": {
      "text/plain": [
       "True"
      ]
     },
     "execution_count": 12,
     "metadata": {},
     "output_type": "execute_result"
    }
   ],
   "source": [
    "ops = list(circuit.all_operations())\n",
    "ops[0] == ops[1]"
   ]
  },
  {
   "cell_type": "code",
   "execution_count": 13,
   "id": "06ea2391",
   "metadata": {},
   "outputs": [
    {
     "ename": "TypeError",
     "evalue": "ModMultiply.decompose_from_registers() got an unexpected keyword argument 'exponent'",
     "output_type": "error",
     "traceback": [
      "\u001b[0;31m---------------------------------------------------------------------------\u001b[0m",
      "\u001b[0;31mTypeError\u001b[0m                                 Traceback (most recent call last)",
      "Input \u001b[0;32mIn [13]\u001b[0m, in \u001b[0;36m<cell line: 9>\u001b[0;34m()\u001b[0m\n\u001b[1;32m      7\u001b[0m tracer_qubits \u001b[38;5;241m=\u001b[39m {reg\u001b[38;5;241m.\u001b[39mname: QubitTracer(reg\u001b[38;5;241m.\u001b[39mname, reg\u001b[38;5;241m.\u001b[39mbitsize, graph_builder\u001b[38;5;241m=\u001b[39mgb) \u001b[38;5;28;01mfor\u001b[39;00m reg \u001b[38;5;129;01min\u001b[39;00m gate\u001b[38;5;241m.\u001b[39mregisters}\n\u001b[1;32m      8\u001b[0m gb\u001b[38;5;241m.\u001b[39mleft_gate \u001b[38;5;241m=\u001b[39m {reg\u001b[38;5;241m.\u001b[39mname: LeftDangle \u001b[38;5;28;01mfor\u001b[39;00m reg \u001b[38;5;129;01min\u001b[39;00m gate\u001b[38;5;241m.\u001b[39mregisters}\n\u001b[0;32m----> 9\u001b[0m op \u001b[38;5;241m=\u001b[39m \u001b[38;5;28mlist\u001b[39m(\u001b[43mgate\u001b[49m\u001b[38;5;241;43m.\u001b[39;49m\u001b[43mdecompose_from_registers\u001b[49m\u001b[43m(\u001b[49m\u001b[38;5;241;43m*\u001b[39;49m\u001b[38;5;241;43m*\u001b[39;49m\u001b[43mtracer_qubits\u001b[49m\u001b[43m)\u001b[49m)\n\u001b[1;32m     11\u001b[0m nodes \u001b[38;5;241m=\u001b[39m gb\u001b[38;5;241m.\u001b[39mnodes\n\u001b[1;32m     12\u001b[0m edges \u001b[38;5;241m=\u001b[39m gb\u001b[38;5;241m.\u001b[39mwires\n",
      "\u001b[0;31mTypeError\u001b[0m: ModMultiply.decompose_from_registers() got an unexpected keyword argument 'exponent'"
     ]
    }
   ],
   "source": [
    "from cirq_qubitization.quantum_graph import _QuantumGraphBuilder, QubitTracer\n",
    "\n",
    "gate = ModMultiply(exponent_bitsize=3, x_bitsize=3, mul_constant=123, mod_N=5)\n",
    "g = cq_testing.GateHelper(gate)\n",
    "\n",
    "gb = _QuantumGraphBuilder()\n",
    "tracer_qubits = {reg.name: QubitTracer(reg.name, reg.bitsize, graph_builder=gb) for reg in gate.registers}\n",
    "gb.left_gate = {reg.name: LeftDangle for reg in gate.registers}\n",
    "op = list(gate.decompose_from_registers(**tracer_qubits))\n",
    "\n",
    "nodes = gb.nodes\n",
    "edges = gb.wires"
   ]
  },
  {
   "cell_type": "code",
   "execution_count": null,
   "id": "bd6548da",
   "metadata": {},
   "outputs": [],
   "source": [
    "gate = ModMultiply(exponent_bitsize=3, x_bitsize=3, mul_constant=123, mod_N=5)\n",
    "nodes, edges = gate.compute_graph()"
   ]
  },
  {
   "cell_type": "code",
   "execution_count": null,
   "id": "84ee5291",
   "metadata": {},
   "outputs": [],
   "source": [
    "from cirq_qubitization.shor.mod_multiply import SingleControlModMultiply\n",
    "SingleControlModMultiply(3, 123) == SingleControlModMultiply(3, 123)"
   ]
  },
  {
   "cell_type": "code",
   "execution_count": null,
   "id": "1235ba19",
   "metadata": {},
   "outputs": [],
   "source": [
    "from collections import defaultdict\n",
    "i_by_prefix = defaultdict(lambda: 0)\n",
    "saved = {}\n",
    "\n",
    "def gid(gate, regname):\n",
    "    pot = saved.get((gate, regname), None)\n",
    "    if pot is not None:\n",
    "        return pot\n",
    "    \n",
    "    gname = gate.__class__.__name__\n",
    "    i = i_by_prefix[gname, regname]\n",
    "    i_by_prefix[gname, regname] += 1\n",
    "    name = f'{gname}_{i}_{regname}'\n",
    "    saved[gate, regname] = name\n",
    "    return name"
   ]
  },
  {
   "cell_type": "code",
   "execution_count": null,
   "id": "42bbd1c9",
   "metadata": {},
   "outputs": [],
   "source": [
    "import networkx\n",
    "import pydot\n",
    "\n",
    "graph = pydot.Dot('qual', graph_type='digraph', rankdir='LR')\n",
    "\n",
    "dang = pydot.Subgraph(rank='same')\n",
    "for yi, r in enumerate(g.r):\n",
    "    dang.add_node(pydot.Node(gid(LeftDangle, r.name), label=f'{r.name}', shape='plaintext'))\n",
    "graph.add_subgraph(dang)\n",
    "  \n",
    "for xi, gate in enumerate(nodes):\n",
    "    if isinstance(gate, Split):\n",
    "        graph.add_node(pydot.Node(gid(gate, ''), shape='triangle', label='', orientation=90))\n",
    "        continue\n",
    "    if isinstance(gate, Join):\n",
    "        graph.add_node(pydot.Node(gid(gate, ''), shape='triangle', label='', orientation=-90))\n",
    "        continue\n",
    "    \n",
    "    \n",
    "    ports = [f'<{r.name}>{r.name}' for r in gate.registers]\n",
    "    label = '<<TABLE BORDER=\"1\" CELLBORDER=\"0\" CeLLSPACING=\"0\">'\n",
    "    label += f'<tr><td><font point-size=\"10\">{gate.pretty_name()}</font></td></tr>'\n",
    "    for r in gate.registers:\n",
    "        if r.name == 'control':\n",
    "            celllab='\\u2b24'\n",
    "        else:\n",
    "            celllab=r.name\n",
    "        \n",
    "        label += f'<TR><TD PORT=\"{r.name}\">{celllab}</TD></TR>'\n",
    "    label += '</TABLE>>'\n",
    "    \n",
    "    #graph.add_node(pydot.Node(gid(gate, ''), label='|'.join([f'{gate.__class__.__name__}']+ports)))        \n",
    "    graph.add_node(pydot.Node(gid(gate, ''), label=label, shape='plain'))\n",
    "\n",
    "dang = pydot.Subgraph(rank='same')\n",
    "for yi, r in enumerate(g.r):\n",
    "    dang.add_node(pydot.Node(gid(RightDangle, r.name), label=f'{r.name}', shape='plaintext'))\n",
    "graph.add_subgraph(dang)\n",
    "\n",
    "for wire in edges:\n",
    "    (lg, ln), (rg, rn) = wire.tt\n",
    "    if isinstance(lg, DanglingT):\n",
    "        graph.add_edge(pydot.Edge(gid(lg, ln), gid(rg, '')+':'+rn))\n",
    "    elif isinstance(rg, DanglingT):\n",
    "        graph.add_edge(pydot.Edge(gid(lg, '')+':'+ln, gid(rg, rn)))\n",
    "    else:  \n",
    "        graph.add_edge(pydot.Edge(gid(lg, '')+':'+ln, gid(rg, '')+':'+rn, arrowhead='none'))\n",
    "\n",
    "from IPython.display import SVG\n",
    "SVG(graph.create_svg())"
   ]
  },
  {
   "cell_type": "code",
   "execution_count": null,
   "id": "ad6633d9",
   "metadata": {},
   "outputs": [],
   "source": [
    "print(graph.to_string())"
   ]
  },
  {
   "cell_type": "code",
   "execution_count": null,
   "id": "49e8d28c",
   "metadata": {},
   "outputs": [],
   "source": []
  },
  {
   "cell_type": "code",
   "execution_count": null,
   "id": "a06ebe48",
   "metadata": {},
   "outputs": [],
   "source": []
  },
  {
   "cell_type": "code",
   "execution_count": null,
   "id": "030cdf90",
   "metadata": {},
   "outputs": [],
   "source": []
  },
  {
   "cell_type": "code",
   "execution_count": null,
   "id": "9a6aba89",
   "metadata": {},
   "outputs": [],
   "source": [
    "import networkx\n",
    "import pydot\n",
    "\n",
    "graph = pydot.Dot('qual', graph_type='graph', rankdir='TB')\n",
    "\n",
    "for wire in edges:\n",
    "    (lg, ln), (rg, rn) = wire.tt\n",
    "    graph.add_edge(pydot.Edge(gid(lg, ln), gid(rg, rn)))\n",
    "\n",
    "\n",
    "dang = pydot.Subgraph(rank='same')\n",
    "for yi, r in enumerate(g.r):\n",
    "    dang.add_node(pydot.Node(gid(LeftDangle, r.name), label=f'{LeftDangle}\\n{r.name}'))\n",
    "    #graph.add_node(pydot.Node(gid(RightDangle, r.name), label=f'{RightDangle}\\n{r.name}'))\n",
    "graph.add_subgraph(dang)\n",
    "\n",
    "    \n",
    "for xi, gate in enumerate(nodes):    \n",
    "    \n",
    "    clu = pydot.Cluster(graph_name=gid(gate, 'cluster'), label=f'{gate.__class__.__name__}')\n",
    "    #clu = pydot.Subgraph()\n",
    "    \n",
    "    for yi, r in enumerate(gate.registers):\n",
    "        print(gate, r)\n",
    "        clu.add_node(pydot.Node(gid(gate, r.name), label=f'{r.name}'))\n",
    "        \n",
    "    for r1, r2 in zip(gate.registers, gate.registers[1:]):\n",
    "        clu.add_edge(pydot.Edge(gid(gate, r1.name), gid(gate, r2.name), color='red', constraint=False))\n",
    "    \n",
    "    #clu0.add_subgraph(clu)\n",
    "    graph.add_subgraph(clu)\n",
    "\n",
    "\n",
    "\n",
    "dang = pydot.Subgraph(rank='same')\n",
    "for yi, r in enumerate(g.r):\n",
    "    #graph.add_node(pydot.Node(gid(LeftDangle, r.name), label=f'{LeftDangle}\\n{r.name}'))\n",
    "    dang.add_node(pydot.Node(gid(RightDangle, r.name), label=f'{RightDangle}\\n{r.name}'))\n",
    "graph.add_subgraph(dang)\n",
    "\n",
    "\n",
    "\n",
    "from IPython.display import SVG\n",
    "SVG(graph.create_svg())"
   ]
  },
  {
   "cell_type": "code",
   "execution_count": null,
   "id": "68cb5248",
   "metadata": {},
   "outputs": [],
   "source": [
    "print(graph.to_string())"
   ]
  },
  {
   "cell_type": "code",
   "execution_count": null,
   "id": "616e3814",
   "metadata": {
    "scrolled": false
   },
   "outputs": [],
   "source": [
    "print(graph.create_dot().decode())"
   ]
  },
  {
   "cell_type": "code",
   "execution_count": null,
   "id": "d2203554",
   "metadata": {},
   "outputs": [],
   "source": [
    "n = graph.get_node_list()[0] \n",
    "n.get_name()"
   ]
  },
  {
   "cell_type": "code",
   "execution_count": null,
   "id": "79b601e8",
   "metadata": {},
   "outputs": [],
   "source": [
    "import graphviz\n",
    ">>> dot = graphviz.Digraph(comment='The Round Table')\n",
    ">>> dot.node('A', 'King Arthur')  # doctest: +NO_EXE\n",
    ">>> dot.node('B', 'Sir Bedevere the Wise')\n",
    ">>> dot.node('L', 'Sir Lancelot the Brave')\n",
    "\n",
    ">>> dot.edges(['AB', 'AL'])\n",
    ">>> dot.edge('B', 'L', constraint='false')"
   ]
  },
  {
   "cell_type": "code",
   "execution_count": null,
   "id": "98f5423e",
   "metadata": {},
   "outputs": [],
   "source": [
    "nodes"
   ]
  },
  {
   "cell_type": "code",
   "execution_count": null,
   "id": "569d6f42",
   "metadata": {},
   "outputs": [],
   "source": [
    "nodes[0].registers"
   ]
  },
  {
   "cell_type": "code",
   "execution_count": null,
   "id": "9662d023",
   "metadata": {},
   "outputs": [],
   "source": [
    "list(gg.nodes)"
   ]
  },
  {
   "cell_type": "markdown",
   "id": "e009e473",
   "metadata": {
    "cq.autogen": "_make_SingleControlModMultiply.md"
   },
   "source": [
    "## `SingleControlModMultiply`\n",
    "SingleControlModMultiply(x_bitsize: int, mul_constant: int)"
   ]
  },
  {
   "cell_type": "code",
   "execution_count": null,
   "id": "fa25965f",
   "metadata": {
    "cq.autogen": "_make_SingleControlModMultiply.py"
   },
   "outputs": [],
   "source": [
    "from cirq_qubitization.shor.mod_multiply import SingleControlModMultiply\n",
    "g = cq_testing.GateHelper(\n",
    "    SingleControlModMultiply(x_bitsize=3, mul_constant=123)\n",
    ")\n",
    "\n",
    "display_gate_and_compilation(g)"
   ]
  }
 ],
 "metadata": {
  "kernelspec": {
   "display_name": "Python 3 (ipykernel)",
   "language": "python",
   "name": "python3"
  },
  "language_info": {
   "codemirror_mode": {
    "name": "ipython",
    "version": 3
   },
   "file_extension": ".py",
   "mimetype": "text/x-python",
   "name": "python",
   "nbconvert_exporter": "python",
   "pygments_lexer": "ipython3",
   "version": "3.10.6"
  }
 },
 "nbformat": 4,
 "nbformat_minor": 5
}
