{
 "cells": [
  {
   "cell_type": "markdown",
   "id": "9b4188e6",
   "metadata": {
    "cq.autogen": "title_cell"
   },
   "source": [
    "# Shor"
   ]
  },
  {
   "cell_type": "code",
   "execution_count": 1,
   "id": "91aaec8f",
   "metadata": {
    "cq.autogen": "top_imports"
   },
   "outputs": [],
   "source": [
    "import cirq\n",
    "import numpy as np\n",
    "import cirq_qubitization\n",
    "import cirq_qubitization.testing as cq_testing\n",
    "from cirq_qubitization.jupyter_tools import display_gate_and_compilation\n",
    "from typing import *"
   ]
  },
  {
   "cell_type": "markdown",
   "id": "abde9b1f",
   "metadata": {
    "cq.autogen": "_make_ModMultiply.md"
   },
   "source": [
    "## `ModMultiply`\n",
    "ModMultiply(exponent_bitsize: int, x_bitsize: int, mul_constant: int, mod_N: int)"
   ]
  },
  {
   "cell_type": "code",
   "execution_count": 2,
   "id": "02ffeff8",
   "metadata": {
    "cq.autogen": "_make_ModMultiply.py"
   },
   "outputs": [
    {
     "data": {
      "application/vnd.jupyter.widget-view+json": {
       "model_id": "b24ef66fe6d44a55968a931024092e4e",
       "version_major": 2,
       "version_minor": 0
      },
      "text/plain": [
       "HBox(children=(Output(outputs=({'output_type': 'display_data', 'data': {'text/plain': '<IPython.core.display.S…"
      ]
     },
     "metadata": {},
     "output_type": "display_data"
    }
   ],
   "source": [
    "from cirq_qubitization.shor.mod_multiply import ModMultiply\n",
    "g = cq_testing.GateHelper(\n",
    "    ModMultiply(exponent_bitsize=3, x_bitsize=3, mul_constant=123, mod_N=5)\n",
    ")\n",
    "\n",
    "display_gate_and_compilation(g)"
   ]
  },
  {
   "cell_type": "code",
   "execution_count": 3,
   "id": "4dc6e042",
   "metadata": {},
   "outputs": [],
   "source": [
    "from cirq_qubitization.atoms import Split, Join\n",
    "from cirq_qubitization.quantum_graph import LeftDangle, RightDangle, DanglingT"
   ]
  },
  {
   "cell_type": "code",
   "execution_count": 4,
   "id": "1728622b",
   "metadata": {},
   "outputs": [
    {
     "name": "stdout",
     "output_type": "stream",
     "text": [
      "wire_add <|:exponent -> Split(bitsize=3)<0>:sss\n",
      "wire_add Split(bitsize=3)<0>:sss2 -> SingleControlModMultiply(x_bitsize=3, mul_constant=1)<1>:control\n",
      "wire_add <|:x -> SingleControlModMultiply(x_bitsize=3, mul_constant=1)<1>:x\n",
      "wire_add Split(bitsize=3)<0>:sss1 -> SingleControlModMultiply(x_bitsize=3, mul_constant=4)<2>:control\n",
      "wire_add SingleControlModMultiply(x_bitsize=3, mul_constant=1)<1>:x_out -> SingleControlModMultiply(x_bitsize=3, mul_constant=4)<2>:x\n",
      "wire_add Split(bitsize=3)<0>:sss0 -> SingleControlModMultiply(x_bitsize=3, mul_constant=3)<3>:control\n",
      "wire_add SingleControlModMultiply(x_bitsize=3, mul_constant=4)<2>:x_out -> SingleControlModMultiply(x_bitsize=3, mul_constant=3)<3>:x\n"
     ]
    }
   ],
   "source": [
    "from cirq_qubitization.quantum_graph import ModMultiply\n",
    "mm = ModMultiply(exponent_bitsize=3, x_bitsize=3, mul_constant=123, mod_N=5)\n",
    "compbloq = mm.decompose_from_registers()"
   ]
  },
  {
   "cell_type": "code",
   "execution_count": 5,
   "id": "d13515df",
   "metadata": {},
   "outputs": [
    {
     "data": {
      "text/plain": [
       "{Join(bitsize=3)<4>,\n",
       " SingleControlModMultiply(x_bitsize=3, mul_constant=1)<1>,\n",
       " SingleControlModMultiply(x_bitsize=3, mul_constant=3)<3>,\n",
       " SingleControlModMultiply(x_bitsize=3, mul_constant=4)<2>,\n",
       " Split(bitsize=3)<0>}"
      ]
     },
     "execution_count": 5,
     "metadata": {},
     "output_type": "execute_result"
    }
   ],
   "source": [
    "bloqs = set(wire.left_gate for wire in compbloq._wires if not isinstance(wire.left_gate, DanglingT))\n",
    "bloqs |= set(wire.right_gate for wire in compbloq._wires if not isinstance(wire.right_gate, DanglingT))\n",
    "bloqs"
   ]
  },
  {
   "cell_type": "code",
   "execution_count": 6,
   "id": "d832adaa",
   "metadata": {},
   "outputs": [
    {
     "name": "stdout",
     "output_type": "stream",
     "text": [
      "<|:exponent -> Split(bitsize=3)<0>:sss\n",
      "Split(bitsize=3)<0>:sss2 -> SingleControlModMultiply(x_bitsize=3, mul_constant=1)<1>:control\n",
      "<|:x -> SingleControlModMultiply(x_bitsize=3, mul_constant=1)<1>:x\n",
      "Split(bitsize=3)<0>:sss1 -> SingleControlModMultiply(x_bitsize=3, mul_constant=4)<2>:control\n",
      "SingleControlModMultiply(x_bitsize=3, mul_constant=1)<1>:x_out -> SingleControlModMultiply(x_bitsize=3, mul_constant=4)<2>:x\n",
      "Split(bitsize=3)<0>:sss0 -> SingleControlModMultiply(x_bitsize=3, mul_constant=3)<3>:control\n",
      "SingleControlModMultiply(x_bitsize=3, mul_constant=4)<2>:x_out -> SingleControlModMultiply(x_bitsize=3, mul_constant=3)<3>:x\n",
      "SingleControlModMultiply(x_bitsize=3, mul_constant=3)<3>:control -> Join(bitsize=3)<4>:jjj0\n",
      "SingleControlModMultiply(x_bitsize=3, mul_constant=4)<2>:control -> Join(bitsize=3)<4>:jjj1\n",
      "SingleControlModMultiply(x_bitsize=3, mul_constant=1)<1>:control -> Join(bitsize=3)<4>:jjj2\n",
      "Join(bitsize=3)<4>:jjj -> |>:exponent\n",
      "SingleControlModMultiply(x_bitsize=3, mul_constant=3)<3>:x_out -> |>:x\n"
     ]
    }
   ],
   "source": [
    "for wire in compbloq._wires:\n",
    "    print(wire)"
   ]
  },
  {
   "cell_type": "code",
   "execution_count": 7,
   "id": "e7af131b",
   "metadata": {},
   "outputs": [],
   "source": [
    "from cirq_qubitization.quantum_graph import GraphDrawer\n",
    "gd = GraphDrawer(bloqs, compbloq._wires, mm.registers)"
   ]
  },
  {
   "cell_type": "code",
   "execution_count": 8,
   "id": "8d455a64",
   "metadata": {},
   "outputs": [
    {
     "name": "stdout",
     "output_type": "stream",
     "text": [
      "digraph qual {\n",
      "rankdir=LR;\n",
      "subgraph  {\n",
      "rank=same;\n",
      "DanglingT_l_exponent [label=exponent, shape=plaintext];\n",
      "DanglingT_l_x [label=x, shape=plaintext];\n",
      "}\n",
      "\n",
      "Split_0 [label=<<TABLE BORDER=\"1\" CELLBORDER=\"1\" CELLSPACING=\"3\"><tr><td colspan=\"2\">Split_0</td></tr><TR><TD rowspan=\"3\" port=\"sss\">in</TD><TD port=\"sss0\">0</TD></TR><TR><TD port=\"sss1\">1</TD></TR><TR><TD port=\"sss2\">2</TD></TR></TABLE>>, shape=plain];\n",
      "SingleControlModMultiply_3 [label=<<TABLE BORDER=\"1\" CELLBORDER=\"1\" CELLSPACING=\"3\"><tr><td colspan=\"2\">SingleControlModMultiply_3</td></tr><TR><TD colspan=\"2\" PORT=\"control\">control</TD></TR><TR><TD port=\"x\">x</TD><TD port=\"x_out\">x_out</TD></TR></TABLE>>, shape=plain];\n",
      "SingleControlModMultiply_1 [label=<<TABLE BORDER=\"1\" CELLBORDER=\"1\" CELLSPACING=\"3\"><tr><td colspan=\"2\">SingleControlModMultiply_1</td></tr><TR><TD colspan=\"2\" PORT=\"control\">control</TD></TR><TR><TD port=\"x\">x</TD><TD port=\"x_out\">x_out</TD></TR></TABLE>>, shape=plain];\n",
      "Join_4 [label=<<TABLE BORDER=\"1\" CELLBORDER=\"1\" CELLSPACING=\"3\"><tr><td colspan=\"2\">Join_4</td></tr><TR><TD port=\"jjj0\">0</TD><TD rowspan=\"3\" port=\"jjj\">out</TD></TR><TR><TD port=\"jjj1\">1</TD></TR><TR><TD port=\"jjj2\">2</TD></TR></TABLE>>, shape=plain];\n",
      "SingleControlModMultiply_2 [label=<<TABLE BORDER=\"1\" CELLBORDER=\"1\" CELLSPACING=\"3\"><tr><td colspan=\"2\">SingleControlModMultiply_2</td></tr><TR><TD colspan=\"2\" PORT=\"control\">control</TD></TR><TR><TD port=\"x\">x</TD><TD port=\"x_out\">x_out</TD></TR></TABLE>>, shape=plain];\n",
      "subgraph  {\n",
      "rank=same;\n",
      "DanglingT_r_exponent [label=exponent, shape=plaintext];\n",
      "DanglingT_r_x [label=x, shape=plaintext];\n",
      "}\n",
      "\n",
      "DanglingT_l_exponent -> Split_0:sss:w  [arrowhead=normal];\n",
      "Split_0:sss2:e -> SingleControlModMultiply_1:control:w  [arrowhead=normal];\n",
      "DanglingT_l_x -> SingleControlModMultiply_1:x:w  [arrowhead=normal];\n",
      "Split_0:sss1:e -> SingleControlModMultiply_2:control:w  [arrowhead=normal];\n",
      "SingleControlModMultiply_1:x_out:e -> SingleControlModMultiply_2:x:w  [arrowhead=normal];\n",
      "Split_0:sss0:e -> SingleControlModMultiply_3:control:w  [arrowhead=normal];\n",
      "SingleControlModMultiply_2:x_out:e -> SingleControlModMultiply_3:x:w  [arrowhead=normal];\n",
      "SingleControlModMultiply_3:control:e -> Join_4:jjj0:w  [arrowhead=normal];\n",
      "SingleControlModMultiply_2:control:e -> Join_4:jjj1:w  [arrowhead=normal];\n",
      "SingleControlModMultiply_1:control:e -> Join_4:jjj2:w  [arrowhead=normal];\n",
      "Join_4:jjj:e -> DanglingT_r_exponent  [arrowhead=normal];\n",
      "SingleControlModMultiply_3:x_out:e -> DanglingT_r_x  [arrowhead=normal];\n",
      "}\n",
      "\n"
     ]
    }
   ],
   "source": [
    "print(gd.graphviz().to_string())"
   ]
  },
  {
   "cell_type": "code",
   "execution_count": 9,
   "id": "c362449d",
   "metadata": {
    "scrolled": false
   },
   "outputs": [
    {
     "data": {
      "image/svg+xml": [
       "<svg xmlns=\"http://www.w3.org/2000/svg\" xmlns:xlink=\"http://www.w3.org/1999/xlink\" width=\"1010pt\" height=\"202pt\" viewBox=\"0.00 0.00 1010.00 201.50\">\n",
       "<g id=\"graph0\" class=\"graph\" transform=\"scale(1 1) rotate(0) translate(4 197.5)\">\n",
       "<title>qual</title>\n",
       "<polygon fill=\"white\" stroke=\"transparent\" points=\"-4,4 -4,-197.5 1006,-197.5 1006,4 -4,4\"/>\n",
       "<!-- DanglingT_l_exponent -->\n",
       "<g id=\"node1\" class=\"node\">\n",
       "<title>DanglingT_l_exponent</title>\n",
       "<text text-anchor=\"middle\" x=\"33\" y=\"-106.3\" font-family=\"Times,serif\" font-size=\"14.00\">exponent</text>\n",
       "</g>\n",
       "<!-- Split_0 -->\n",
       "<g id=\"node3\" class=\"node\">\n",
       "<title>Split_0</title>\n",
       "<polygon fill=\"none\" stroke=\"black\" points=\"106.5,-148 106.5,-169 155.5,-169 155.5,-148 106.5,-148\"/>\n",
       "<text text-anchor=\"start\" x=\"111\" y=\"-154.8\" font-family=\"Times,serif\" font-size=\"14.00\">Split_0</text>\n",
       "<polygon fill=\"none\" stroke=\"black\" points=\"106.5,-76 106.5,-145 131.5,-145 131.5,-76 106.5,-76\"/>\n",
       "<text text-anchor=\"start\" x=\"113.5\" y=\"-106.8\" font-family=\"Times,serif\" font-size=\"14.00\">in</text>\n",
       "<polygon fill=\"none\" stroke=\"black\" points=\"134.5,-124 134.5,-145 155.5,-145 155.5,-124 134.5,-124\"/>\n",
       "<text text-anchor=\"start\" x=\"141.5\" y=\"-130.8\" font-family=\"Times,serif\" font-size=\"14.00\">0</text>\n",
       "<polygon fill=\"none\" stroke=\"black\" points=\"134.5,-100 134.5,-121 155.5,-121 155.5,-100 134.5,-100\"/>\n",
       "<text text-anchor=\"start\" x=\"141.5\" y=\"-106.8\" font-family=\"Times,serif\" font-size=\"14.00\">1</text>\n",
       "<polygon fill=\"none\" stroke=\"black\" points=\"134.5,-76 134.5,-97 155.5,-97 155.5,-76 134.5,-76\"/>\n",
       "<text text-anchor=\"start\" x=\"141.5\" y=\"-82.8\" font-family=\"Times,serif\" font-size=\"14.00\">2</text>\n",
       "<polygon fill=\"none\" stroke=\"black\" points=\"102,-72.5 102,-173.5 159,-173.5 159,-72.5 102,-72.5\"/>\n",
       "</g>\n",
       "<!-- DanglingT_l_exponent&#45;&gt;Split_0 -->\n",
       "<g id=\"edge1\" class=\"edge\">\n",
       "<title>DanglingT_l_exponent-&gt;Split_0:w</title>\n",
       "<path fill=\"none\" stroke=\"black\" d=\"M66.03,-110C75.19,-110 85.38,-110 95.31,-110\"/>\n",
       "<polygon fill=\"black\" stroke=\"black\" points=\"95.5,-113.5 105.5,-110 95.5,-106.5 95.5,-113.5\"/>\n",
       "</g>\n",
       "<!-- DanglingT_l_x -->\n",
       "<g id=\"node2\" class=\"node\">\n",
       "<title>DanglingT_l_x</title>\n",
       "<text text-anchor=\"middle\" x=\"33\" y=\"-14.3\" font-family=\"Times,serif\" font-size=\"14.00\">x</text>\n",
       "</g>\n",
       "<!-- SingleControlModMultiply_1 -->\n",
       "<g id=\"node5\" class=\"node\">\n",
       "<title>SingleControlModMultiply_1</title>\n",
       "<polygon fill=\"none\" stroke=\"black\" points=\"199.5,-56 199.5,-77 372.5,-77 372.5,-56 199.5,-56\"/>\n",
       "<text text-anchor=\"start\" x=\"204\" y=\"-62.8\" font-family=\"Times,serif\" font-size=\"14.00\">SingleControlModMultiply_1</text>\n",
       "<polygon fill=\"none\" stroke=\"black\" points=\"199.5,-32 199.5,-53 372.5,-53 372.5,-32 199.5,-32\"/>\n",
       "<text text-anchor=\"start\" x=\"266.5\" y=\"-38.8\" font-family=\"Times,serif\" font-size=\"14.00\">control</text>\n",
       "<polygon fill=\"none\" stroke=\"black\" points=\"199.5,-8 199.5,-29 272.5,-29 272.5,-8 199.5,-8\"/>\n",
       "<text text-anchor=\"start\" x=\"232.5\" y=\"-14.8\" font-family=\"Times,serif\" font-size=\"14.00\">x</text>\n",
       "<polygon fill=\"none\" stroke=\"black\" points=\"275.5,-8 275.5,-29 372.5,-29 372.5,-8 275.5,-8\"/>\n",
       "<text text-anchor=\"start\" x=\"308.5\" y=\"-14.8\" font-family=\"Times,serif\" font-size=\"14.00\">x_out</text>\n",
       "<polygon fill=\"none\" stroke=\"black\" points=\"195,-4.5 195,-81.5 376,-81.5 376,-4.5 195,-4.5\"/>\n",
       "</g>\n",
       "<!-- DanglingT_l_x&#45;&gt;SingleControlModMultiply_1 -->\n",
       "<g id=\"edge3\" class=\"edge\">\n",
       "<title>DanglingT_l_x-&gt;SingleControlModMultiply_1:w</title>\n",
       "<path fill=\"none\" stroke=\"black\" d=\"M60.21,-18C90.45,-18 141.99,-18 188.38,-18\"/>\n",
       "<polygon fill=\"black\" stroke=\"black\" points=\"188.5,-21.5 198.5,-18 188.5,-14.5 188.5,-21.5\"/>\n",
       "</g>\n",
       "<!-- SingleControlModMultiply_3 -->\n",
       "<g id=\"node4\" class=\"node\">\n",
       "<title>SingleControlModMultiply_3</title>\n",
       "<polygon fill=\"none\" stroke=\"black\" points=\"633.5,-168 633.5,-189 806.5,-189 806.5,-168 633.5,-168\"/>\n",
       "<text text-anchor=\"start\" x=\"638\" y=\"-174.8\" font-family=\"Times,serif\" font-size=\"14.00\">SingleControlModMultiply_3</text>\n",
       "<polygon fill=\"none\" stroke=\"black\" points=\"633.5,-144 633.5,-165 806.5,-165 806.5,-144 633.5,-144\"/>\n",
       "<text text-anchor=\"start\" x=\"700.5\" y=\"-150.8\" font-family=\"Times,serif\" font-size=\"14.00\">control</text>\n",
       "<polygon fill=\"none\" stroke=\"black\" points=\"633.5,-120 633.5,-141 706.5,-141 706.5,-120 633.5,-120\"/>\n",
       "<text text-anchor=\"start\" x=\"666.5\" y=\"-126.8\" font-family=\"Times,serif\" font-size=\"14.00\">x</text>\n",
       "<polygon fill=\"none\" stroke=\"black\" points=\"709.5,-120 709.5,-141 806.5,-141 806.5,-120 709.5,-120\"/>\n",
       "<text text-anchor=\"start\" x=\"742.5\" y=\"-126.8\" font-family=\"Times,serif\" font-size=\"14.00\">x_out</text>\n",
       "<polygon fill=\"none\" stroke=\"black\" points=\"629,-116.5 629,-193.5 810,-193.5 810,-116.5 629,-116.5\"/>\n",
       "</g>\n",
       "<!-- Split_0&#45;&gt;SingleControlModMultiply_3 -->\n",
       "<g id=\"edge6\" class=\"edge\">\n",
       "<title>Split_0:e-&gt;SingleControlModMultiply_3:w</title>\n",
       "<path fill=\"none\" stroke=\"black\" d=\"M156.5,-135C364.81,-135 419.04,-153.39 622.39,-153.99\"/>\n",
       "<polygon fill=\"black\" stroke=\"black\" points=\"622.49,-157.49 632.5,-154 622.51,-150.49 622.49,-157.49\"/>\n",
       "</g>\n",
       "<!-- Split_0&#45;&gt;SingleControlModMultiply_1 -->\n",
       "<g id=\"edge2\" class=\"edge\">\n",
       "<title>Split_0:e-&gt;SingleControlModMultiply_1:w</title>\n",
       "<path fill=\"none\" stroke=\"black\" d=\"M156.5,-86C179.52,-86 174.19,-54.09 188.79,-44.62\"/>\n",
       "<polygon fill=\"black\" stroke=\"black\" points=\"189.76,-47.98 198.5,-42 187.93,-41.23 189.76,-47.98\"/>\n",
       "</g>\n",
       "<!-- SingleControlModMultiply_2 -->\n",
       "<g id=\"node7\" class=\"node\">\n",
       "<title>SingleControlModMultiply_2</title>\n",
       "<polygon fill=\"none\" stroke=\"black\" points=\"416.5,-108 416.5,-129 589.5,-129 589.5,-108 416.5,-108\"/>\n",
       "<text text-anchor=\"start\" x=\"421\" y=\"-114.8\" font-family=\"Times,serif\" font-size=\"14.00\">SingleControlModMultiply_2</text>\n",
       "<polygon fill=\"none\" stroke=\"black\" points=\"416.5,-84 416.5,-105 589.5,-105 589.5,-84 416.5,-84\"/>\n",
       "<text text-anchor=\"start\" x=\"483.5\" y=\"-90.8\" font-family=\"Times,serif\" font-size=\"14.00\">control</text>\n",
       "<polygon fill=\"none\" stroke=\"black\" points=\"416.5,-60 416.5,-81 489.5,-81 489.5,-60 416.5,-60\"/>\n",
       "<text text-anchor=\"start\" x=\"449.5\" y=\"-66.8\" font-family=\"Times,serif\" font-size=\"14.00\">x</text>\n",
       "<polygon fill=\"none\" stroke=\"black\" points=\"492.5,-60 492.5,-81 589.5,-81 589.5,-60 492.5,-60\"/>\n",
       "<text text-anchor=\"start\" x=\"525.5\" y=\"-66.8\" font-family=\"Times,serif\" font-size=\"14.00\">x_out</text>\n",
       "<polygon fill=\"none\" stroke=\"black\" points=\"412,-56.5 412,-133.5 593,-133.5 593,-56.5 412,-56.5\"/>\n",
       "</g>\n",
       "<!-- Split_0&#45;&gt;SingleControlModMultiply_2 -->\n",
       "<g id=\"edge4\" class=\"edge\">\n",
       "<title>Split_0:e-&gt;SingleControlModMultiply_2:w</title>\n",
       "<path fill=\"none\" stroke=\"black\" d=\"M156.5,-110C268.34,-110 298.37,-94.95 405.26,-94.04\"/>\n",
       "<polygon fill=\"black\" stroke=\"black\" points=\"405.51,-97.54 415.5,-94 405.49,-90.54 405.51,-97.54\"/>\n",
       "</g>\n",
       "<!-- Join_4 -->\n",
       "<g id=\"node6\" class=\"node\">\n",
       "<title>Join_4</title>\n",
       "<polygon fill=\"none\" stroke=\"black\" points=\"850,-97 850,-118 896,-118 896,-97 850,-97\"/>\n",
       "<text text-anchor=\"start\" x=\"854.5\" y=\"-103.8\" font-family=\"Times,serif\" font-size=\"14.00\">Join_4</text>\n",
       "<polygon fill=\"none\" stroke=\"black\" points=\"850,-73 850,-94 866,-94 866,-73 850,-73\"/>\n",
       "<text text-anchor=\"start\" x=\"854.5\" y=\"-79.8\" font-family=\"Times,serif\" font-size=\"14.00\">0</text>\n",
       "<polygon fill=\"none\" stroke=\"black\" points=\"869,-25 869,-94 896,-94 896,-25 869,-25\"/>\n",
       "<text text-anchor=\"start\" x=\"873.5\" y=\"-55.8\" font-family=\"Times,serif\" font-size=\"14.00\">out</text>\n",
       "<polygon fill=\"none\" stroke=\"black\" points=\"850,-49 850,-70 866,-70 866,-49 850,-49\"/>\n",
       "<text text-anchor=\"start\" x=\"854.5\" y=\"-55.8\" font-family=\"Times,serif\" font-size=\"14.00\">1</text>\n",
       "<polygon fill=\"none\" stroke=\"black\" points=\"850,-25 850,-46 866,-46 866,-25 850,-25\"/>\n",
       "<text text-anchor=\"start\" x=\"854.5\" y=\"-31.8\" font-family=\"Times,serif\" font-size=\"14.00\">2</text>\n",
       "<polygon fill=\"none\" stroke=\"black\" points=\"846,-21.5 846,-122.5 900,-122.5 900,-21.5 846,-21.5\"/>\n",
       "</g>\n",
       "<!-- SingleControlModMultiply_3&#45;&gt;Join_4 -->\n",
       "<g id=\"edge8\" class=\"edge\">\n",
       "<title>SingleControlModMultiply_3:e-&gt;Join_4:w</title>\n",
       "<path fill=\"none\" stroke=\"black\" d=\"M807.5,-154C839.57,-154 818.96,-98.96 839.09,-86.49\"/>\n",
       "<polygon fill=\"black\" stroke=\"black\" points=\"840.16,-89.83 849,-84 838.45,-83.04 840.16,-89.83\"/>\n",
       "</g>\n",
       "<!-- DanglingT_r_x -->\n",
       "<g id=\"node9\" class=\"node\">\n",
       "<title>DanglingT_r_x</title>\n",
       "<text text-anchor=\"middle\" x=\"969\" y=\"-147.3\" font-family=\"Times,serif\" font-size=\"14.00\">x</text>\n",
       "</g>\n",
       "<!-- SingleControlModMultiply_3&#45;&gt;DanglingT_r_x -->\n",
       "<g id=\"edge12\" class=\"edge\">\n",
       "<title>SingleControlModMultiply_3:e-&gt;DanglingT_r_x</title>\n",
       "<path fill=\"none\" stroke=\"black\" d=\"M807.5,-130C830.98,-130 892.17,-138.94 931.85,-145.16\"/>\n",
       "<polygon fill=\"black\" stroke=\"black\" points=\"931.51,-148.65 941.93,-146.75 932.6,-141.73 931.51,-148.65\"/>\n",
       "</g>\n",
       "<!-- SingleControlModMultiply_1&#45;&gt;Join_4 -->\n",
       "<g id=\"edge10\" class=\"edge\">\n",
       "<title>SingleControlModMultiply_1:e-&gt;Join_4:w</title>\n",
       "<path fill=\"none\" stroke=\"black\" d=\"M373.5,-42C581.45,-42 635.9,-35.22 838.91,-35.01\"/>\n",
       "<polygon fill=\"black\" stroke=\"black\" points=\"839,-38.51 849,-35 839,-31.51 839,-38.51\"/>\n",
       "</g>\n",
       "<!-- SingleControlModMultiply_1&#45;&gt;SingleControlModMultiply_2 -->\n",
       "<g id=\"edge5\" class=\"edge\">\n",
       "<title>SingleControlModMultiply_1:e-&gt;SingleControlModMultiply_2:w</title>\n",
       "<path fill=\"none\" stroke=\"black\" d=\"M373.5,-18C399.03,-18 389.76,-56.4 405.5,-67.2\"/>\n",
       "<polygon fill=\"black\" stroke=\"black\" points=\"404.93,-70.68 415.5,-70 406.81,-63.94 404.93,-70.68\"/>\n",
       "</g>\n",
       "<!-- DanglingT_r_exponent -->\n",
       "<g id=\"node8\" class=\"node\">\n",
       "<title>DanglingT_r_exponent</title>\n",
       "<text text-anchor=\"middle\" x=\"969\" y=\"-55.3\" font-family=\"Times,serif\" font-size=\"14.00\">exponent</text>\n",
       "</g>\n",
       "<!-- Join_4&#45;&gt;DanglingT_r_exponent -->\n",
       "<g id=\"edge11\" class=\"edge\">\n",
       "<title>Join_4:e-&gt;DanglingT_r_exponent</title>\n",
       "<path fill=\"none\" stroke=\"black\" d=\"M897,-59C906.32,-59 916.34,-59 925.82,-59\"/>\n",
       "<polygon fill=\"black\" stroke=\"black\" points=\"925.84,-62.5 935.84,-59 925.84,-55.5 925.84,-62.5\"/>\n",
       "</g>\n",
       "<!-- SingleControlModMultiply_2&#45;&gt;SingleControlModMultiply_3 -->\n",
       "<g id=\"edge7\" class=\"edge\">\n",
       "<title>SingleControlModMultiply_2:e-&gt;SingleControlModMultiply_3:w</title>\n",
       "<path fill=\"none\" stroke=\"black\" d=\"M590.5,-70C618.98,-70 604.86,-115.94 622.68,-127.42\"/>\n",
       "<polygon fill=\"black\" stroke=\"black\" points=\"621.94,-130.84 632.5,-130 623.72,-124.07 621.94,-130.84\"/>\n",
       "</g>\n",
       "<!-- SingleControlModMultiply_2&#45;&gt;Join_4 -->\n",
       "<g id=\"edge9\" class=\"edge\">\n",
       "<title>SingleControlModMultiply_2:e-&gt;Join_4:w</title>\n",
       "<path fill=\"none\" stroke=\"black\" d=\"M590.5,-94C702.93,-94 731.37,-61.09 838.71,-59.09\"/>\n",
       "<polygon fill=\"black\" stroke=\"black\" points=\"839.03,-62.59 849,-59 838.97,-55.59 839.03,-62.59\"/>\n",
       "</g>\n",
       "</g>\n",
       "</svg>"
      ],
      "text/plain": [
       "<IPython.core.display.SVG object>"
      ]
     },
     "execution_count": 9,
     "metadata": {},
     "output_type": "execute_result"
    }
   ],
   "source": [
    "from IPython.display import SVG\n",
    "SVG(gd.graphviz().create_svg())"
   ]
  },
  {
   "cell_type": "code",
   "execution_count": 10,
   "id": "7249cf31",
   "metadata": {},
   "outputs": [
    {
     "data": {
      "image/svg+xml": [
       "<svg xmlns=\"http://www.w3.org/2000/svg\" xmlns:xlink=\"http://www.w3.org/1999/xlink\" width=\"743pt\" height=\"174pt\" viewBox=\"0.00 0.00 743.00 173.50\">\n",
       "<g id=\"graph0\" class=\"graph\" transform=\"scale(1 1) rotate(0) translate(4 169.5)\">\n",
       "<title>qual</title>\n",
       "<polygon fill=\"white\" stroke=\"transparent\" points=\"-4,4 -4,-169.5 739,-169.5 739,4 -4,4\"/>\n",
       "<!-- DanglingT_l_exponent -->\n",
       "<g id=\"node1\" class=\"node\">\n",
       "<title>DanglingT_l_exponent</title>\n",
       "<text text-anchor=\"middle\" x=\"33\" y=\"-92.3\" font-family=\"Times,serif\" font-size=\"14.00\">exponent</text>\n",
       "</g>\n",
       "<!-- Split_0 -->\n",
       "<g id=\"node3\" class=\"node\">\n",
       "<title>Split_0</title>\n",
       "<polygon fill=\"none\" stroke=\"black\" points=\"102,-105 102,-111 114,-111 114,-105 102,-105\"/>\n",
       "<polygon fill=\"none\" stroke=\"black\" points=\"102,-87 102,-105 108,-105 108,-87 102,-87\"/>\n",
       "<polygon fill=\"none\" stroke=\"black\" points=\"108,-99 108,-105 114,-105 114,-99 108,-99\"/>\n",
       "<polygon fill=\"none\" stroke=\"black\" points=\"108,-93 108,-99 114,-99 114,-93 108,-93\"/>\n",
       "<polygon fill=\"none\" stroke=\"black\" points=\"108,-87 108,-93 114,-93 114,-87 108,-87\"/>\n",
       "</g>\n",
       "<!-- DanglingT_l_exponent&#45;&gt;Split_0 -->\n",
       "<g id=\"edge1\" class=\"edge\">\n",
       "<title>DanglingT_l_exponent-&gt;Split_0:w</title>\n",
       "<path fill=\"none\" stroke=\"black\" d=\"M66.17,-96C77.5,-96 90.31,-96 102,-96\"/>\n",
       "</g>\n",
       "<!-- DanglingT_l_x -->\n",
       "<g id=\"node2\" class=\"node\">\n",
       "<title>DanglingT_l_x</title>\n",
       "<text text-anchor=\"middle\" x=\"33\" y=\"-14.3\" font-family=\"Times,serif\" font-size=\"14.00\">x</text>\n",
       "</g>\n",
       "<!-- SingleControlModMultiply_1 -->\n",
       "<g id=\"node5\" class=\"node\">\n",
       "<title>SingleControlModMultiply_1</title>\n",
       "<polygon fill=\"none\" stroke=\"black\" points=\"150.5,-50 150.5,-67 271.5,-67 271.5,-50 150.5,-50\"/>\n",
       "<text text-anchor=\"start\" x=\"153.5\" y=\"-56\" font-family=\"Times,serif\" font-size=\"10.00\">SingleControlModMultiply</text>\n",
       "<polygon fill=\"none\" stroke=\"black\" points=\"150.5,-29 150.5,-50 271.5,-50 271.5,-29 150.5,-29\"/>\n",
       "<text text-anchor=\"start\" x=\"202\" y=\"-35.8\" font-family=\"Times,serif\" font-size=\"14.00\">⬤</text>\n",
       "<polygon fill=\"none\" stroke=\"black\" points=\"150.5,-8 150.5,-29 203.5,-29 203.5,-8 150.5,-8\"/>\n",
       "<text text-anchor=\"start\" x=\"173.5\" y=\"-14.8\" font-family=\"Times,serif\" font-size=\"14.00\">x</text>\n",
       "<polygon fill=\"none\" stroke=\"black\" points=\"203.5,-8 203.5,-29 271.5,-29 271.5,-8 203.5,-8\"/>\n",
       "<text text-anchor=\"start\" x=\"227\" y=\"-14.8\" font-family=\"Times,serif\" font-size=\"14.00\">1*x</text>\n",
       "</g>\n",
       "<!-- DanglingT_l_x&#45;&gt;SingleControlModMultiply_1 -->\n",
       "<g id=\"edge3\" class=\"edge\">\n",
       "<title>DanglingT_l_x-&gt;SingleControlModMultiply_1:w</title>\n",
       "<path fill=\"none\" stroke=\"black\" d=\"M60.26,-18C83.77,-18 119.19,-18 150,-18\"/>\n",
       "</g>\n",
       "<!-- SingleControlModMultiply_3 -->\n",
       "<g id=\"node4\" class=\"node\">\n",
       "<title>SingleControlModMultiply_3</title>\n",
       "<polygon fill=\"none\" stroke=\"black\" points=\"464.5,-148 464.5,-165 585.5,-165 585.5,-148 464.5,-148\"/>\n",
       "<text text-anchor=\"start\" x=\"467.5\" y=\"-154\" font-family=\"Times,serif\" font-size=\"10.00\">SingleControlModMultiply</text>\n",
       "<polygon fill=\"none\" stroke=\"black\" points=\"464.5,-127 464.5,-148 585.5,-148 585.5,-127 464.5,-127\"/>\n",
       "<text text-anchor=\"start\" x=\"516\" y=\"-133.8\" font-family=\"Times,serif\" font-size=\"14.00\">⬤</text>\n",
       "<polygon fill=\"none\" stroke=\"black\" points=\"464.5,-106 464.5,-127 517.5,-127 517.5,-106 464.5,-106\"/>\n",
       "<text text-anchor=\"start\" x=\"487.5\" y=\"-112.8\" font-family=\"Times,serif\" font-size=\"14.00\">x</text>\n",
       "<polygon fill=\"none\" stroke=\"black\" points=\"517.5,-106 517.5,-127 585.5,-127 585.5,-106 517.5,-106\"/>\n",
       "<text text-anchor=\"start\" x=\"541\" y=\"-112.8\" font-family=\"Times,serif\" font-size=\"14.00\">3*x</text>\n",
       "</g>\n",
       "<!-- Split_0&#45;&gt;SingleControlModMultiply_3 -->\n",
       "<g id=\"edge6\" class=\"edge\">\n",
       "<title>Split_0:e-&gt;SingleControlModMultiply_3:w</title>\n",
       "<path fill=\"none\" stroke=\"black\" d=\"M114,-102C135.58,-102 285.53,-121.82 307,-124 376.7,-131.08 393.95,-138 464,-138\"/>\n",
       "</g>\n",
       "<!-- Split_0&#45;&gt;SingleControlModMultiply_1 -->\n",
       "<g id=\"edge2\" class=\"edge\">\n",
       "<title>Split_0:e-&gt;SingleControlModMultiply_1:w</title>\n",
       "<path fill=\"none\" stroke=\"black\" d=\"M114,-90C141.38,-90 122.62,-40 150,-40\"/>\n",
       "</g>\n",
       "<!-- SingleControlModMultiply_2 -->\n",
       "<g id=\"node7\" class=\"node\">\n",
       "<title>SingleControlModMultiply_2</title>\n",
       "<polygon fill=\"none\" stroke=\"black\" points=\"307.5,-97 307.5,-114 428.5,-114 428.5,-97 307.5,-97\"/>\n",
       "<text text-anchor=\"start\" x=\"310.5\" y=\"-103\" font-family=\"Times,serif\" font-size=\"10.00\">SingleControlModMultiply</text>\n",
       "<polygon fill=\"none\" stroke=\"black\" points=\"307.5,-76 307.5,-97 428.5,-97 428.5,-76 307.5,-76\"/>\n",
       "<text text-anchor=\"start\" x=\"359\" y=\"-82.8\" font-family=\"Times,serif\" font-size=\"14.00\">⬤</text>\n",
       "<polygon fill=\"none\" stroke=\"black\" points=\"307.5,-55 307.5,-76 360.5,-76 360.5,-55 307.5,-55\"/>\n",
       "<text text-anchor=\"start\" x=\"330.5\" y=\"-61.8\" font-family=\"Times,serif\" font-size=\"14.00\">x</text>\n",
       "<polygon fill=\"none\" stroke=\"black\" points=\"360.5,-55 360.5,-76 428.5,-76 428.5,-55 360.5,-55\"/>\n",
       "<text text-anchor=\"start\" x=\"384\" y=\"-61.8\" font-family=\"Times,serif\" font-size=\"14.00\">4*x</text>\n",
       "</g>\n",
       "<!-- Split_0&#45;&gt;SingleControlModMultiply_2 -->\n",
       "<g id=\"edge4\" class=\"edge\">\n",
       "<title>Split_0:e-&gt;SingleControlModMultiply_2:w</title>\n",
       "<path fill=\"none\" stroke=\"black\" d=\"M114,-96C199.87,-96 221.13,-87 307,-87\"/>\n",
       "</g>\n",
       "<!-- Join_4 -->\n",
       "<g id=\"node6\" class=\"node\">\n",
       "<title>Join_4</title>\n",
       "<polygon fill=\"none\" stroke=\"black\" points=\"621,-80 621,-86 633,-86 633,-80 621,-80\"/>\n",
       "<polygon fill=\"none\" stroke=\"black\" points=\"621,-74 621,-80 627,-80 627,-74 621,-74\"/>\n",
       "<polygon fill=\"none\" stroke=\"black\" points=\"627,-62 627,-80 633,-80 633,-62 627,-62\"/>\n",
       "<polygon fill=\"none\" stroke=\"black\" points=\"621,-68 621,-74 627,-74 627,-68 621,-68\"/>\n",
       "<polygon fill=\"none\" stroke=\"black\" points=\"621,-62 621,-68 627,-68 627,-62 621,-62\"/>\n",
       "</g>\n",
       "<!-- SingleControlModMultiply_3&#45;&gt;Join_4 -->\n",
       "<g id=\"edge8\" class=\"edge\">\n",
       "<title>SingleControlModMultiply_3:e-&gt;Join_4:w</title>\n",
       "<path fill=\"none\" stroke=\"black\" d=\"M585,-138C616.48,-138 589.52,-77 621,-77\"/>\n",
       "</g>\n",
       "<!-- DanglingT_r_x -->\n",
       "<g id=\"node9\" class=\"node\">\n",
       "<title>DanglingT_r_x</title>\n",
       "<text text-anchor=\"middle\" x=\"702\" y=\"-115.3\" font-family=\"Times,serif\" font-size=\"14.00\">x</text>\n",
       "</g>\n",
       "<!-- SingleControlModMultiply_3&#45;&gt;DanglingT_r_x -->\n",
       "<g id=\"edge12\" class=\"edge\">\n",
       "<title>SingleControlModMultiply_3:e-&gt;DanglingT_r_x</title>\n",
       "<path fill=\"none\" stroke=\"black\" d=\"M585,-116C615.82,-116 651.24,-117.07 674.74,-117.93\"/>\n",
       "</g>\n",
       "<!-- SingleControlModMultiply_1&#45;&gt;Join_4 -->\n",
       "<g id=\"edge10\" class=\"edge\">\n",
       "<title>SingleControlModMultiply_1:e-&gt;Join_4:w</title>\n",
       "<path fill=\"none\" stroke=\"black\" d=\"M271,-40C340.83,-40 358.33,-41.24 428,-46 513.99,-51.87 534.81,-65 621,-65\"/>\n",
       "</g>\n",
       "<!-- SingleControlModMultiply_1&#45;&gt;SingleControlModMultiply_2 -->\n",
       "<g id=\"edge5\" class=\"edge\">\n",
       "<title>SingleControlModMultiply_1:e-&gt;SingleControlModMultiply_2:w</title>\n",
       "<path fill=\"none\" stroke=\"black\" d=\"M271,-18C297.31,-18 280.69,-65 307,-65\"/>\n",
       "</g>\n",
       "<!-- DanglingT_r_exponent -->\n",
       "<g id=\"node8\" class=\"node\">\n",
       "<title>DanglingT_r_exponent</title>\n",
       "<text text-anchor=\"middle\" x=\"702\" y=\"-61.3\" font-family=\"Times,serif\" font-size=\"14.00\">exponent</text>\n",
       "</g>\n",
       "<!-- Join_4&#45;&gt;DanglingT_r_exponent -->\n",
       "<g id=\"edge11\" class=\"edge\">\n",
       "<title>Join_4:e-&gt;DanglingT_r_exponent</title>\n",
       "<path fill=\"none\" stroke=\"black\" d=\"M633,-71C644.73,-71 657.56,-70.1 668.88,-69\"/>\n",
       "</g>\n",
       "<!-- SingleControlModMultiply_2&#45;&gt;SingleControlModMultiply_3 -->\n",
       "<g id=\"edge7\" class=\"edge\">\n",
       "<title>SingleControlModMultiply_2:e-&gt;SingleControlModMultiply_3:w</title>\n",
       "<path fill=\"none\" stroke=\"black\" d=\"M428,-65C455.74,-65 436.26,-116 464,-116\"/>\n",
       "</g>\n",
       "<!-- SingleControlModMultiply_2&#45;&gt;Join_4 -->\n",
       "<g id=\"edge9\" class=\"edge\">\n",
       "<title>SingleControlModMultiply_2:e-&gt;Join_4:w</title>\n",
       "<path fill=\"none\" stroke=\"black\" d=\"M428,-87C514.07,-87 534.93,-71 621,-71\"/>\n",
       "</g>\n",
       "</g>\n",
       "</svg>"
      ],
      "text/plain": [
       "<IPython.core.display.SVG object>"
      ]
     },
     "execution_count": 10,
     "metadata": {},
     "output_type": "execute_result"
    }
   ],
   "source": [
    "SVG(gd.to_pretty().graphviz().create_svg())"
   ]
  },
  {
   "cell_type": "code",
   "execution_count": null,
   "id": "df74340d",
   "metadata": {},
   "outputs": [],
   "source": []
  },
  {
   "cell_type": "code",
   "execution_count": null,
   "id": "efd83f6a",
   "metadata": {},
   "outputs": [],
   "source": []
  },
  {
   "cell_type": "code",
   "execution_count": null,
   "id": "8122acae",
   "metadata": {},
   "outputs": [],
   "source": []
  },
  {
   "cell_type": "code",
   "execution_count": null,
   "id": "8cf9ecca",
   "metadata": {},
   "outputs": [],
   "source": []
  },
  {
   "cell_type": "code",
   "execution_count": null,
   "id": "337809ba",
   "metadata": {},
   "outputs": [],
   "source": []
  },
  {
   "cell_type": "code",
   "execution_count": null,
   "id": "adbe2d32",
   "metadata": {},
   "outputs": [],
   "source": []
  },
  {
   "cell_type": "markdown",
   "id": "3f320642",
   "metadata": {},
   "source": [
    "```python\n",
    "nodes, edges = g.gate.compute_graph()\n",
    "import networkx as nx\n",
    "from matplotlib import pyplot as plt\n",
    "\n",
    "plt.subplots(figsize=(7,7))\n",
    "gg = nx.from_edgelist(e.tt for e in edges)\n",
    "rs = np.random.RandomState()\n",
    "fuzz = lambda: rs.normal(0, 0.05)\n",
    "\n",
    "pos = {}\n",
    "\n",
    "for yi, r in enumerate(g.r):\n",
    "    pos[LeftDangle, r.name] = (-1, 0.2*yi+fuzz())\n",
    "    pos[RightDangle, r.name] = (len(nodes), 0.2*yi+fuzz())\n",
    "\n",
    "for xi, gate in enumerate(nodes):\n",
    "    \n",
    "    for yi, r in enumerate(gate.registers):\n",
    "        pos[gate, r.name] = (xi+fuzz(), 0.2*yi+fuzz())\n",
    "    \n",
    "    for r1, r2 in zip(gate.registers, gate.registers[1:]):\n",
    "        gg.add_edge((gate, r1.name), (gate, r2.name), typ='vert')\n",
    "    \n",
    "    \n",
    "#pos = nx.spring_layout(gg, pos=pos, iterations=1)\n",
    "nx.draw_networkx(gg, pos=pos)\n",
    "```"
   ]
  },
  {
   "cell_type": "code",
   "execution_count": 11,
   "id": "e950eb91",
   "metadata": {},
   "outputs": [
    {
     "data": {
      "text/html": [
       "<pre style=\"overflow: auto; white-space: pre;\">0: ───@───@───\n",
       "      │   │\n",
       "1: ───X───X───</pre>"
      ],
      "text/plain": [
       "0: ───@───@───\n",
       "      │   │\n",
       "1: ───X───X───"
      ]
     },
     "execution_count": 11,
     "metadata": {},
     "output_type": "execute_result"
    }
   ],
   "source": [
    "import cirq\n",
    "q0, q1 = cirq.LineQubit.range(2)\n",
    "circuit = cirq.Circuit(cirq.CNOT(q0, q1), cirq.CNOT(q0, q1))\n",
    "circuit"
   ]
  },
  {
   "cell_type": "code",
   "execution_count": 12,
   "id": "0f3ba9c7",
   "metadata": {},
   "outputs": [
    {
     "data": {
      "text/plain": [
       "True"
      ]
     },
     "execution_count": 12,
     "metadata": {},
     "output_type": "execute_result"
    }
   ],
   "source": [
    "ops = list(circuit.all_operations())\n",
    "ops[0] == ops[1]"
   ]
  },
  {
   "cell_type": "code",
   "execution_count": 13,
   "id": "06ea2391",
   "metadata": {},
   "outputs": [
    {
     "ename": "TypeError",
     "evalue": "ModMultiply.decompose_from_registers() got an unexpected keyword argument 'exponent'",
     "output_type": "error",
     "traceback": [
      "\u001b[0;31m---------------------------------------------------------------------------\u001b[0m",
      "\u001b[0;31mTypeError\u001b[0m                                 Traceback (most recent call last)",
      "Input \u001b[0;32mIn [13]\u001b[0m, in \u001b[0;36m<cell line: 9>\u001b[0;34m()\u001b[0m\n\u001b[1;32m      7\u001b[0m tracer_qubits \u001b[38;5;241m=\u001b[39m {reg\u001b[38;5;241m.\u001b[39mname: QubitTracer(reg\u001b[38;5;241m.\u001b[39mname, reg\u001b[38;5;241m.\u001b[39mbitsize, graph_builder\u001b[38;5;241m=\u001b[39mgb) \u001b[38;5;28;01mfor\u001b[39;00m reg \u001b[38;5;129;01min\u001b[39;00m gate\u001b[38;5;241m.\u001b[39mregisters}\n\u001b[1;32m      8\u001b[0m gb\u001b[38;5;241m.\u001b[39mleft_gate \u001b[38;5;241m=\u001b[39m {reg\u001b[38;5;241m.\u001b[39mname: LeftDangle \u001b[38;5;28;01mfor\u001b[39;00m reg \u001b[38;5;129;01min\u001b[39;00m gate\u001b[38;5;241m.\u001b[39mregisters}\n\u001b[0;32m----> 9\u001b[0m op \u001b[38;5;241m=\u001b[39m \u001b[38;5;28mlist\u001b[39m(\u001b[43mgate\u001b[49m\u001b[38;5;241;43m.\u001b[39;49m\u001b[43mdecompose_from_registers\u001b[49m\u001b[43m(\u001b[49m\u001b[38;5;241;43m*\u001b[39;49m\u001b[38;5;241;43m*\u001b[39;49m\u001b[43mtracer_qubits\u001b[49m\u001b[43m)\u001b[49m)\n\u001b[1;32m     11\u001b[0m nodes \u001b[38;5;241m=\u001b[39m gb\u001b[38;5;241m.\u001b[39mnodes\n\u001b[1;32m     12\u001b[0m edges \u001b[38;5;241m=\u001b[39m gb\u001b[38;5;241m.\u001b[39mwires\n",
      "\u001b[0;31mTypeError\u001b[0m: ModMultiply.decompose_from_registers() got an unexpected keyword argument 'exponent'"
     ]
    }
   ],
   "source": [
    "from cirq_qubitization.quantum_graph import _QuantumGraphBuilder, QubitTracer\n",
    "\n",
    "gate = ModMultiply(exponent_bitsize=3, x_bitsize=3, mul_constant=123, mod_N=5)\n",
    "g = cq_testing.GateHelper(gate)\n",
    "\n",
    "gb = _QuantumGraphBuilder()\n",
    "tracer_qubits = {reg.name: QubitTracer(reg.name, reg.bitsize, graph_builder=gb) for reg in gate.registers}\n",
    "gb.left_gate = {reg.name: LeftDangle for reg in gate.registers}\n",
    "op = list(gate.decompose_from_registers(**tracer_qubits))\n",
    "\n",
    "nodes = gb.nodes\n",
    "edges = gb.wires"
   ]
  },
  {
   "cell_type": "code",
   "execution_count": null,
   "id": "bd6548da",
   "metadata": {},
   "outputs": [],
   "source": [
    "gate = ModMultiply(exponent_bitsize=3, x_bitsize=3, mul_constant=123, mod_N=5)\n",
    "nodes, edges = gate.compute_graph()"
   ]
  },
  {
   "cell_type": "code",
   "execution_count": null,
   "id": "84ee5291",
   "metadata": {},
   "outputs": [],
   "source": [
    "from cirq_qubitization.shor.mod_multiply import SingleControlModMultiply\n",
    "SingleControlModMultiply(3, 123) == SingleControlModMultiply(3, 123)"
   ]
  },
  {
   "cell_type": "code",
   "execution_count": null,
   "id": "1235ba19",
   "metadata": {},
   "outputs": [],
   "source": [
    "from collections import defaultdict\n",
    "i_by_prefix = defaultdict(lambda: 0)\n",
    "saved = {}\n",
    "\n",
    "def gid(gate, regname):\n",
    "    pot = saved.get((gate, regname), None)\n",
    "    if pot is not None:\n",
    "        return pot\n",
    "    \n",
    "    gname = gate.__class__.__name__\n",
    "    i = i_by_prefix[gname, regname]\n",
    "    i_by_prefix[gname, regname] += 1\n",
    "    name = f'{gname}_{i}_{regname}'\n",
    "    saved[gate, regname] = name\n",
    "    return name"
   ]
  },
  {
   "cell_type": "code",
   "execution_count": null,
   "id": "42bbd1c9",
   "metadata": {},
   "outputs": [],
   "source": [
    "import networkx\n",
    "import pydot\n",
    "\n",
    "graph = pydot.Dot('qual', graph_type='digraph', rankdir='LR')\n",
    "\n",
    "dang = pydot.Subgraph(rank='same')\n",
    "for yi, r in enumerate(g.r):\n",
    "    dang.add_node(pydot.Node(gid(LeftDangle, r.name), label=f'{r.name}', shape='plaintext'))\n",
    "graph.add_subgraph(dang)\n",
    "  \n",
    "for xi, gate in enumerate(nodes):\n",
    "    if isinstance(gate, Split):\n",
    "        graph.add_node(pydot.Node(gid(gate, ''), shape='triangle', label='', orientation=90))\n",
    "        continue\n",
    "    if isinstance(gate, Join):\n",
    "        graph.add_node(pydot.Node(gid(gate, ''), shape='triangle', label='', orientation=-90))\n",
    "        continue\n",
    "    \n",
    "    \n",
    "    ports = [f'<{r.name}>{r.name}' for r in gate.registers]\n",
    "    label = '<<TABLE BORDER=\"1\" CELLBORDER=\"0\" CeLLSPACING=\"0\">'\n",
    "    label += f'<tr><td><font point-size=\"10\">{gate.pretty_name()}</font></td></tr>'\n",
    "    for r in gate.registers:\n",
    "        if r.name == 'control':\n",
    "            celllab='\\u2b24'\n",
    "        else:\n",
    "            celllab=r.name\n",
    "        \n",
    "        label += f'<TR><TD PORT=\"{r.name}\">{celllab}</TD></TR>'\n",
    "    label += '</TABLE>>'\n",
    "    \n",
    "    #graph.add_node(pydot.Node(gid(gate, ''), label='|'.join([f'{gate.__class__.__name__}']+ports)))        \n",
    "    graph.add_node(pydot.Node(gid(gate, ''), label=label, shape='plain'))\n",
    "\n",
    "dang = pydot.Subgraph(rank='same')\n",
    "for yi, r in enumerate(g.r):\n",
    "    dang.add_node(pydot.Node(gid(RightDangle, r.name), label=f'{r.name}', shape='plaintext'))\n",
    "graph.add_subgraph(dang)\n",
    "\n",
    "for wire in edges:\n",
    "    (lg, ln), (rg, rn) = wire.tt\n",
    "    if isinstance(lg, DanglingT):\n",
    "        graph.add_edge(pydot.Edge(gid(lg, ln), gid(rg, '')+':'+rn))\n",
    "    elif isinstance(rg, DanglingT):\n",
    "        graph.add_edge(pydot.Edge(gid(lg, '')+':'+ln, gid(rg, rn)))\n",
    "    else:  \n",
    "        graph.add_edge(pydot.Edge(gid(lg, '')+':'+ln, gid(rg, '')+':'+rn, arrowhead='none'))\n",
    "\n",
    "from IPython.display import SVG\n",
    "SVG(graph.create_svg())"
   ]
  },
  {
   "cell_type": "code",
   "execution_count": null,
   "id": "ad6633d9",
   "metadata": {},
   "outputs": [],
   "source": [
    "print(graph.to_string())"
   ]
  },
  {
   "cell_type": "code",
   "execution_count": null,
   "id": "49e8d28c",
   "metadata": {},
   "outputs": [],
   "source": []
  },
  {
   "cell_type": "code",
   "execution_count": null,
   "id": "a06ebe48",
   "metadata": {},
   "outputs": [],
   "source": []
  },
  {
   "cell_type": "code",
   "execution_count": null,
   "id": "030cdf90",
   "metadata": {},
   "outputs": [],
   "source": []
  },
  {
   "cell_type": "code",
   "execution_count": null,
   "id": "9a6aba89",
   "metadata": {},
   "outputs": [],
   "source": [
    "import networkx\n",
    "import pydot\n",
    "\n",
    "graph = pydot.Dot('qual', graph_type='graph', rankdir='TB')\n",
    "\n",
    "for wire in edges:\n",
    "    (lg, ln), (rg, rn) = wire.tt\n",
    "    graph.add_edge(pydot.Edge(gid(lg, ln), gid(rg, rn)))\n",
    "\n",
    "\n",
    "dang = pydot.Subgraph(rank='same')\n",
    "for yi, r in enumerate(g.r):\n",
    "    dang.add_node(pydot.Node(gid(LeftDangle, r.name), label=f'{LeftDangle}\\n{r.name}'))\n",
    "    #graph.add_node(pydot.Node(gid(RightDangle, r.name), label=f'{RightDangle}\\n{r.name}'))\n",
    "graph.add_subgraph(dang)\n",
    "\n",
    "    \n",
    "for xi, gate in enumerate(nodes):    \n",
    "    \n",
    "    clu = pydot.Cluster(graph_name=gid(gate, 'cluster'), label=f'{gate.__class__.__name__}')\n",
    "    #clu = pydot.Subgraph()\n",
    "    \n",
    "    for yi, r in enumerate(gate.registers):\n",
    "        print(gate, r)\n",
    "        clu.add_node(pydot.Node(gid(gate, r.name), label=f'{r.name}'))\n",
    "        \n",
    "    for r1, r2 in zip(gate.registers, gate.registers[1:]):\n",
    "        clu.add_edge(pydot.Edge(gid(gate, r1.name), gid(gate, r2.name), color='red', constraint=False))\n",
    "    \n",
    "    #clu0.add_subgraph(clu)\n",
    "    graph.add_subgraph(clu)\n",
    "\n",
    "\n",
    "\n",
    "dang = pydot.Subgraph(rank='same')\n",
    "for yi, r in enumerate(g.r):\n",
    "    #graph.add_node(pydot.Node(gid(LeftDangle, r.name), label=f'{LeftDangle}\\n{r.name}'))\n",
    "    dang.add_node(pydot.Node(gid(RightDangle, r.name), label=f'{RightDangle}\\n{r.name}'))\n",
    "graph.add_subgraph(dang)\n",
    "\n",
    "\n",
    "\n",
    "from IPython.display import SVG\n",
    "SVG(graph.create_svg())"
   ]
  },
  {
   "cell_type": "code",
   "execution_count": null,
   "id": "68cb5248",
   "metadata": {},
   "outputs": [],
   "source": [
    "print(graph.to_string())"
   ]
  },
  {
   "cell_type": "code",
   "execution_count": null,
   "id": "616e3814",
   "metadata": {
    "scrolled": false
   },
   "outputs": [],
   "source": [
    "print(graph.create_dot().decode())"
   ]
  },
  {
   "cell_type": "code",
   "execution_count": null,
   "id": "d2203554",
   "metadata": {},
   "outputs": [],
   "source": [
    "n = graph.get_node_list()[0] \n",
    "n.get_name()"
   ]
  },
  {
   "cell_type": "code",
   "execution_count": null,
   "id": "79b601e8",
   "metadata": {},
   "outputs": [],
   "source": [
    "import graphviz\n",
    ">>> dot = graphviz.Digraph(comment='The Round Table')\n",
    ">>> dot.node('A', 'King Arthur')  # doctest: +NO_EXE\n",
    ">>> dot.node('B', 'Sir Bedevere the Wise')\n",
    ">>> dot.node('L', 'Sir Lancelot the Brave')\n",
    "\n",
    ">>> dot.edges(['AB', 'AL'])\n",
    ">>> dot.edge('B', 'L', constraint='false')"
   ]
  },
  {
   "cell_type": "code",
   "execution_count": null,
   "id": "98f5423e",
   "metadata": {},
   "outputs": [],
   "source": [
    "nodes"
   ]
  },
  {
   "cell_type": "code",
   "execution_count": null,
   "id": "569d6f42",
   "metadata": {},
   "outputs": [],
   "source": [
    "nodes[0].registers"
   ]
  },
  {
   "cell_type": "code",
   "execution_count": null,
   "id": "9662d023",
   "metadata": {},
   "outputs": [],
   "source": [
    "list(gg.nodes)"
   ]
  },
  {
   "cell_type": "markdown",
   "id": "e009e473",
   "metadata": {
    "cq.autogen": "_make_SingleControlModMultiply.md"
   },
   "source": [
    "## `SingleControlModMultiply`\n",
    "SingleControlModMultiply(x_bitsize: int, mul_constant: int)"
   ]
  },
  {
   "cell_type": "code",
   "execution_count": null,
   "id": "fa25965f",
   "metadata": {
    "cq.autogen": "_make_SingleControlModMultiply.py"
   },
   "outputs": [],
   "source": [
    "from cirq_qubitization.shor.mod_multiply import SingleControlModMultiply\n",
    "g = cq_testing.GateHelper(\n",
    "    SingleControlModMultiply(x_bitsize=3, mul_constant=123)\n",
    ")\n",
    "\n",
    "display_gate_and_compilation(g)"
   ]
  }
 ],
 "metadata": {
  "kernelspec": {
   "display_name": "Python 3 (ipykernel)",
   "language": "python",
   "name": "python3"
  },
  "language_info": {
   "codemirror_mode": {
    "name": "ipython",
    "version": 3
   },
   "file_extension": ".py",
   "mimetype": "text/x-python",
   "name": "python",
   "nbconvert_exporter": "python",
   "pygments_lexer": "ipython3",
   "version": "3.10.6"
  }
 },
 "nbformat": 4,
 "nbformat_minor": 5
}
