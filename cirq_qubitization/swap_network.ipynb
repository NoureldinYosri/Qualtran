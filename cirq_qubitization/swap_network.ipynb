{
 "cells": [
  {
   "cell_type": "markdown",
   "id": "b937dbf5",
   "metadata": {},
   "source": [
    "# Swap Network\n",
    "\n",
    "This module contains gates for swapping registers of gates."
   ]
  },
  {
   "cell_type": "code",
   "execution_count": null,
   "id": "08cc5bb0",
   "metadata": {},
   "outputs": [],
   "source": [
    "import cirq\n",
    "import numpy as np\n",
    "import cirq_qubitization.testing as cq_testing\n",
    "from cirq_qubitization.jupyter_tools import display_gate_and_compilation\n",
    "from typing import *"
   ]
  },
  {
   "cell_type": "markdown",
   "id": "63535098",
   "metadata": {},
   "source": [
    "## MultiTargetCSwap\n",
    "\n",
    "Implements a multi-target controlled swap unitary $\\mathrm{CSWAP}_n = |0 \\rangle \\langle 0| I + |1\\rangle\\langle 1| \\mathrm{SWAP}_n$.\n",
    "\n",
    "This decomposes into a qubitwise SWAP on the two target registers, and takes 14*n T-gates.\n",
    "\n",
    "#### References:\n",
    " - [Trading T-gates for dirty qubits in state preparation and unitary synthesis](https://arxiv.org/abs/1812.00954).\n",
    "   Low et. al. 2018. See Appendix B.2.c."
   ]
  },
  {
   "cell_type": "code",
   "execution_count": null,
   "id": "5907e174",
   "metadata": {
    "scrolled": false
   },
   "outputs": [],
   "source": [
    "from cirq_qubitization.swap_network import MultiTargetCSwap\n",
    "\n",
    "g = cq_testing.GateSystem(\n",
    "    MultiTargetCSwap(3)\n",
    ")\n",
    "\n",
    "display_gate_and_compilation(g)"
   ]
  },
  {
   "cell_type": "markdown",
   "id": "8f8b0000",
   "metadata": {},
   "source": [
    "## MultiTargetCSwapApprox\n",
    "\n",
    "Approximately implements a multi-target controlled swap unitary using only 4 * N T-gates.\n",
    "\n",
    "Implements the unitary $\\mathrm{CSWAP}_n = |0\\rangle \\langle 0| I + |1 \\rangle \\langle1| \\mathrm{SWAP}_n$ such that the output state is\n",
    "correct up to a global phase factor of +1 / -1.\n",
    "\n",
    "This is useful when the incorrect phase can be absorbed in a garbage state of an algorithm; and\n",
    "thus ignored, see the reference for more details.\n",
    "\n",
    "#### References:\n",
    " - [Trading T-gates for dirty qubits in state preparation and unitary synthesis](https://arxiv.org/abs/1812.00954).\n",
    "   Low et. al. 2018. See Appendix B.2.c."
   ]
  },
  {
   "cell_type": "code",
   "execution_count": null,
   "id": "bfaa4f63",
   "metadata": {},
   "outputs": [],
   "source": [
    "from cirq_qubitization.swap_network import MultiTargetCSwapApprox\n",
    "\n",
    "g = cq_testing.GateSystem(\n",
    "    MultiTargetCSwapApprox(2)\n",
    ")\n",
    "\n",
    "display_gate_and_compilation(g, vertical=True)"
   ]
  }
 ],
 "metadata": {
  "kernelspec": {
   "display_name": "Python 3 (ipykernel)",
   "language": "python",
   "name": "python3"
  },
  "language_info": {
   "codemirror_mode": {
    "name": "ipython",
    "version": 3
   },
   "file_extension": ".py",
   "mimetype": "text/x-python",
   "name": "python",
   "nbconvert_exporter": "python",
   "pygments_lexer": "ipython3",
   "version": "3.10.5"
  }
 },
 "nbformat": 4,
 "nbformat_minor": 5
}
