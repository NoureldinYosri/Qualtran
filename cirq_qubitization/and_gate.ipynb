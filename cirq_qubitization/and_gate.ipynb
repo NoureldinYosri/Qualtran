{
 "cells": [
  {
   "cell_type": "markdown",
   "id": "93353f4e",
   "metadata": {},
   "source": [
    "# And\n",
    "\n",
    "To do classical logic with a reversible circuit (a pre-requisite for a quantum circuit), we use a three (qu)bit operation called a Toffli gate that takes `[a, b, c]` to `[a, b, c ^ (a & b)]`. If we take `c` to be zero, this is an And gate taking `[a, b]` to `[a, b, a & b]`."
   ]
  },
  {
   "cell_type": "code",
   "execution_count": null,
   "id": "a95dab52",
   "metadata": {},
   "outputs": [],
   "source": [
    "import itertools\n",
    "for a, b, in itertools.product([0, 1], repeat=2):\n",
    "    print(a, b, '->', a & b)"
   ]
  },
  {
   "cell_type": "markdown",
   "id": "37a44523",
   "metadata": {},
   "source": [
    "## Quantum operation\n",
    "\n",
    "We provide a quantum operation for performing quantum And. Specifically, it assumes the third qubit (i.e. the target) is initialized to the `|0>` state."
   ]
  },
  {
   "cell_type": "code",
   "execution_count": null,
   "id": "5c456e50",
   "metadata": {},
   "outputs": [],
   "source": [
    "import cirq\n",
    "from cirq.contrib.svg import SVGCircuit\n",
    "from cirq_qubitization.and_gate import And\n",
    "\n",
    "gate = And()\n",
    "r = gate.registers\n",
    "quregs = r.get_named_qubits()\n",
    "operation = gate.on_registers(**quregs)\n",
    "circuit = cirq.Circuit(operation)\n",
    "SVGCircuit(circuit)"
   ]
  },
  {
   "cell_type": "markdown",
   "id": "b0bb64c1",
   "metadata": {},
   "source": [
    "## Testing classical operations\n",
    "\n",
    "\n",
    "In fault tolerant algorithms, the beefy part of an algorithm usually boils down to \n",
    "devising unitary (reversible) operations that implement a classical operation. In math, \n",
    "this looks like\n",
    "$$\n",
    "U_f |x\\rangle|0\\rangle = |x\\rangle|f(x)\\rangle\n",
    "$$\n",
    "for all $x$.\n",
    "\n",
    "The encompassing quantum algorithm will then run this operation over a superposition\n",
    "and cleverly interfere the resulting state to read out an answer of interest. But we\n",
    "can test the definition of $U_f$ by testing its action on computational basis states.\n",
    "A classical operation is (by definition!) one that takes a computational basis state\n",
    "to one-and-only-one other computational basis state, so we can efficiently track its\n",
    "state."
   ]
  },
  {
   "cell_type": "markdown",
   "id": "6e8c1fbe",
   "metadata": {},
   "source": [
    "### Input generation\n",
    "\n",
    "We can use `itertools.product([0, 1], repeat=n)` to generate all the possible strings\n",
    "of 0s and 1s to use as test input. For gates with named registers, we provide helper methods\n",
    "to generate classical inputs that vary over some registers but keep others fixed to try\n",
    "to control the number of test cases.\n",
    "\n",
    "We operate on 2-dimensional numpy arrays of bits where the second axis is over (qu)bits and the\n",
    "first axis is over all the states we want to check. Numpy vectorized operations are\n",
    "faster and we want to check as many input/output states as feasible!"
   ]
  },
  {
   "cell_type": "code",
   "execution_count": null,
   "id": "c3028bfa",
   "metadata": {},
   "outputs": [],
   "source": [
    "import cirq_qubitization.testing as cq_testing\n",
    "\n",
    "test_inputs = cq_testing.get_classical_inputs(\n",
    "    variable_registers=[r['control']], \n",
    "    fixed_registers={\n",
    "        r['target']: 0, \n",
    "        r['ancilla']: 0\n",
    "    }\n",
    ")\n",
    "test_inputs"
   ]
  },
  {
   "cell_type": "markdown",
   "id": "4ecbd827",
   "metadata": {},
   "source": [
    "### Classical implementations\n",
    "\n",
    "Gates can implement `_apply_classical_from_registers` to provide an efficient, numpy-vectorized\n",
    "version of their classical operation. The wrapping method `apply_classical` manages input validation\n",
    "and output munging. "
   ]
  },
  {
   "cell_type": "code",
   "execution_count": null,
   "id": "42d4b93a",
   "metadata": {},
   "outputs": [],
   "source": [
    "test_outputs = gate.apply_classical(test_inputs)\n",
    "test_outputs"
   ]
  },
  {
   "cell_type": "code",
   "execution_count": null,
   "id": "6ce9dbd3",
   "metadata": {},
   "outputs": [],
   "source": [
    "import numpy as np\n",
    "\n",
    "# Control vals should remain unmodified.\n",
    "np.testing.assert_array_equal(test_inputs['control'], test_outputs['control'])"
   ]
  },
  {
   "cell_type": "code",
   "execution_count": null,
   "id": "81b79853",
   "metadata": {},
   "outputs": [],
   "source": [
    "# not using any ancilla here\n",
    "assert test_inputs['ancilla'].shape[1] == 0\n",
    "assert test_outputs['ancilla'].shape[1] == 0"
   ]
  },
  {
   "cell_type": "markdown",
   "id": "994c0239",
   "metadata": {},
   "source": [
    "## Testing with Tensor Networks\n",
    "\n",
    "We can use Quimb tensor networks to test input/ouput pairs. We include state initialization as 0 or 1 kets and the expected state likewise as 0 or 1 bras. Optimal contraction ordering may enable testing on large-qubit but small-depth circuits that would be out of reach to a naive statevector simulator. "
   ]
  },
  {
   "cell_type": "code",
   "execution_count": null,
   "id": "ca051d43",
   "metadata": {
    "scrolled": false
   },
   "outputs": [],
   "source": [
    "from matplotlib import pyplot as plt\n",
    "fig, ax = plt.subplots(2, 2, figsize=(7, 5))\n",
    "\n",
    "tn_generator = cq_testing.yield_test_tensor_networks(gate, test_inputs, test_outputs)\n",
    "for tn, ax in zip(tn_generator, ax.reshape(-1)):\n",
    "    tn.tn.draw(fix=tn.fix, color=['0', '1'], ax=ax, show_tags=False)\n",
    "    ax.axis('off')\n",
    "    \n",
    "fig.tight_layout()"
   ]
  },
  {
   "cell_type": "markdown",
   "id": "47d6b898",
   "metadata": {},
   "source": [
    "### Contraction\n",
    "The tensor network will contract to `1` for a given input/output pair if the circuit is correct."
   ]
  },
  {
   "cell_type": "code",
   "execution_count": null,
   "id": "ef07cf04",
   "metadata": {},
   "outputs": [],
   "source": [
    "tn_generator = cq_testing.yield_test_tensor_networks(gate, test_inputs, test_outputs)\n",
    "for tn in tn_generator:\n",
    "    amp = tn.tn.contract()\n",
    "    correct = np.isclose(amp, 1, atol=1e-8)\n",
    "    print(tn.input_str, '->', tn.output_str, 'Check ✓' if correct else 'FAIL')   "
   ]
  },
  {
   "cell_type": "markdown",
   "id": "8d4e16dc",
   "metadata": {},
   "source": [
    "## Efficient decomposition\n",
    "\n",
    "\n",
    "The `And` specialization of the Toffli gate permits a specialized decomposition that minimizes the `T`-gate count."
   ]
  },
  {
   "cell_type": "code",
   "execution_count": null,
   "id": "fefe2934",
   "metadata": {},
   "outputs": [],
   "source": [
    "c2 = cirq.Circuit(cirq.decompose_once(operation))\n",
    "SVGCircuit(c2)"
   ]
  },
  {
   "cell_type": "code",
   "execution_count": null,
   "id": "2ec57c0e",
   "metadata": {},
   "outputs": [],
   "source": [
    "input_states = [(a, b, 0) for a, b in itertools.product([0, 1], repeat=2)]\n",
    "output_states = [(a, b, a & b) for a, b, _ in input_states]\n",
    "\n",
    "\n",
    "for inp, out in zip(input_states, output_states):\n",
    "    result = cirq.Simulator().simulate(c2, initial_state=inp)\n",
    "    print(inp, '->', result.dirac_notation())\n",
    "    assert result.dirac_notation()[1:-1] == \"\".join(str(x) for x in out)"
   ]
  },
  {
   "cell_type": "markdown",
   "id": "31ddaea0",
   "metadata": {},
   "source": [
    "## Multi-Control\n",
    "\n",
    "Using a recursive definition, we can implement an And on > 2 control qubits."
   ]
  },
  {
   "cell_type": "code",
   "execution_count": null,
   "id": "dbd74a76",
   "metadata": {},
   "outputs": [],
   "source": [
    "mc_gate = And(cv=(1,1,1,1))\n",
    "mc_r = mc_gate.registers\n",
    "mc_quregs = mc_r.get_named_qubits()\n",
    "mc_operation = mc_gate.on_registers(**mc_quregs)\n",
    "mc_circuit = cirq.Circuit(mc_operation)\n",
    "SVGCircuit(mc_circuit)"
   ]
  },
  {
   "cell_type": "code",
   "execution_count": null,
   "id": "7c4cfd13",
   "metadata": {},
   "outputs": [],
   "source": [
    "SVGCircuit(cirq.Circuit(cirq.decompose_once(mc_operation)))"
   ]
  },
  {
   "cell_type": "code",
   "execution_count": null,
   "id": "62fbdcdc",
   "metadata": {},
   "outputs": [],
   "source": [
    "mc_test_inputs = cq_testing.get_classical_inputs(\n",
    "    variable_registers=[mc_r['control']], \n",
    "    fixed_registers={\n",
    "        mc_r['target']: 0, \n",
    "        mc_r['ancilla']: 0\n",
    "    }\n",
    ")\n",
    "\n",
    "mc_test_outputs = mc_gate.apply_classical(mc_test_inputs)\n",
    "mc_test_outputs"
   ]
  },
  {
   "cell_type": "code",
   "execution_count": null,
   "id": "47152e66",
   "metadata": {},
   "outputs": [],
   "source": [
    "tn_generator = cq_testing.yield_test_tensor_networks(mc_gate, mc_test_inputs, mc_test_outputs)\n",
    "for tn in tn_generator:\n",
    "    amp = tn.tn.contract()\n",
    "    correct = np.isclose(amp, 1, atol=1e-8)\n",
    "    print(tn.input_str, '->', tn.output_str, 'Check ✓' if correct else 'FAIL')   "
   ]
  },
  {
   "cell_type": "code",
   "execution_count": null,
   "id": "015316e0",
   "metadata": {},
   "outputs": [],
   "source": [
    "from matplotlib import pyplot as plt\n",
    "fig, ax = plt.subplots(2, 2, figsize=(7, 5))\n",
    "\n",
    "tn_generator = cq_testing.yield_test_tensor_networks(mc_gate, mc_test_inputs, mc_test_outputs)\n",
    "for tn, ax in zip(tn_generator, ax.reshape(-1)):\n",
    "    tn.tn.draw(fix=tn.fix, color=['0', '1'], ax=ax, show_tags=False)\n",
    "    ax.axis('off')\n",
    "    \n",
    "fig.tight_layout()"
   ]
  },
  {
   "cell_type": "markdown",
   "id": "fa451755",
   "metadata": {},
   "source": [
    "## Uncompute\n",
    "\n",
    "We can save even more `T` gates when \"uncomputing\" an And operation, i.e. performing the adjoint operation by using classical control."
   ]
  },
  {
   "cell_type": "code",
   "execution_count": null,
   "id": "a2878f83",
   "metadata": {},
   "outputs": [],
   "source": [
    "inv_operation = operation ** -1\n",
    "inv_circuit = cirq.Circuit(inv_operation)\n",
    "SVGCircuit(inv_circuit)"
   ]
  },
  {
   "cell_type": "markdown",
   "id": "3a2dcf07",
   "metadata": {},
   "source": [
    "We reset our target using measurement and fix up phases depending on the result of that measurement:"
   ]
  },
  {
   "cell_type": "code",
   "execution_count": null,
   "id": "bd123481",
   "metadata": {},
   "outputs": [],
   "source": [
    "inv_c2 = cirq.Circuit(cirq.decompose_once(inv_operation))\n",
    "inv_c2"
   ]
  },
  {
   "cell_type": "markdown",
   "id": "a99e3bf5",
   "metadata": {},
   "source": [
    "## Test Adjoint"
   ]
  },
  {
   "cell_type": "code",
   "execution_count": null,
   "id": "3cacf727",
   "metadata": {},
   "outputs": [],
   "source": [
    "input_states = [(a, b, a & b) for a, b in itertools.product([0, 1], repeat=2)]\n",
    "output_states = [(a, b, 0) for a, b, _ in input_states]\n",
    "\n",
    "for inp, out in zip(input_states, output_states):\n",
    "    result = cirq.Simulator().simulate(inv_circuit, initial_state=inp)\n",
    "    print(inp, '->', result.dirac_notation())\n",
    "    assert result.dirac_notation()[1:-1] == \"\".join(str(x) for x in out)"
   ]
  }
 ],
 "metadata": {
  "kernelspec": {
   "display_name": "Python 3 (ipykernel)",
   "language": "python",
   "name": "python3"
  },
  "language_info": {
   "codemirror_mode": {
    "name": "ipython",
    "version": 3
   },
   "file_extension": ".py",
   "mimetype": "text/x-python",
   "name": "python",
   "nbconvert_exporter": "python",
   "pygments_lexer": "ipython3",
   "version": "3.9.12"
  }
 },
 "nbformat": 4,
 "nbformat_minor": 5
}
