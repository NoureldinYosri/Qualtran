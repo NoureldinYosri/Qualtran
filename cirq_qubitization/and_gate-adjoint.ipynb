{
 "cells": [
  {
   "cell_type": "markdown",
   "id": "93353f4e",
   "metadata": {},
   "source": [
    "# And\n",
    "\n",
    "To do classical logic with a reversible circuit (a pre-requisite for a quantum circuit), we use a three (qu)bit operation called a Toffli gate that takes `[a, b, c]` to `[a, b, c ^ (a & b)]`. If we take `c` to be zero, this is an And gate taking `[a, b]` to `[a, b, a & b]`."
   ]
  },
  {
   "cell_type": "code",
   "execution_count": null,
   "id": "5c456e50",
   "metadata": {},
   "outputs": [],
   "source": [
    "import cirq\n",
    "from cirq.contrib.svg import SVGCircuit\n",
    "from cirq_qubitization.and_gate import And\n",
    "\n",
    "gate = And()\n",
    "r = gate.registers\n",
    "quregs = r.get_named_qubits()\n",
    "operation = gate.on_registers(**quregs)\n",
    "circuit = cirq.Circuit(operation)\n",
    "SVGCircuit(circuit)"
   ]
  },
  {
   "cell_type": "markdown",
   "id": "fa451755",
   "metadata": {},
   "source": [
    "## Uncompute\n",
    "\n",
    "We can save even more `T` gates when \"uncomputing\" an And operation, i.e. performing the adjoint operation by using classical control."
   ]
  },
  {
   "cell_type": "code",
   "execution_count": null,
   "id": "a2878f83",
   "metadata": {},
   "outputs": [],
   "source": [
    "inv_operation = operation ** -1\n",
    "inv_circuit = cirq.Circuit(inv_operation)\n",
    "SVGCircuit(inv_circuit)"
   ]
  },
  {
   "cell_type": "markdown",
   "id": "3a2dcf07",
   "metadata": {},
   "source": [
    "We reset our target using measurement and fix up phases depending on the result of that measurement:"
   ]
  },
  {
   "cell_type": "code",
   "execution_count": null,
   "id": "bd123481",
   "metadata": {},
   "outputs": [],
   "source": [
    "inv_c2 = cirq.Circuit(cirq.decompose_once(inv_operation))\n",
    "inv_c2"
   ]
  },
  {
   "cell_type": "code",
   "execution_count": null,
   "id": "a8152e5f",
   "metadata": {},
   "outputs": [],
   "source": [
    "cirq.unitary(cirq.CNOT)"
   ]
  },
  {
   "cell_type": "code",
   "execution_count": null,
   "id": "602775a7",
   "metadata": {},
   "outputs": [],
   "source": [
    "for op in inv_c2.all_operations():\n",
    "    print(repr(op))\n",
    "    print(' ', repr(op.gate))"
   ]
  },
  {
   "cell_type": "code",
   "execution_count": null,
   "id": "f751d7be",
   "metadata": {},
   "outputs": [],
   "source": [
    "from cirq_qubitization.quimb_sim import circuit_to_tensors\n",
    "\n",
    "circuit_to_tensors(inv_c2, {}, {})"
   ]
  }
 ],
 "metadata": {
  "kernelspec": {
   "display_name": "Python 3 (ipykernel)",
   "language": "python",
   "name": "python3"
  },
  "language_info": {
   "codemirror_mode": {
    "name": "ipython",
    "version": 3
   },
   "file_extension": ".py",
   "mimetype": "text/x-python",
   "name": "python",
   "nbconvert_exporter": "python",
   "pygments_lexer": "ipython3",
   "version": "3.10.5"
  }
 },
 "nbformat": 4,
 "nbformat_minor": 5
}
