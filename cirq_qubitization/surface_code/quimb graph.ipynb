{
 "cells": [
  {
   "cell_type": "markdown",
   "id": "408c7902",
   "metadata": {},
   "source": [
    "# T distillation"
   ]
  },
  {
   "cell_type": "code",
   "execution_count": null,
   "id": "cc5e527d",
   "metadata": {},
   "outputs": [],
   "source": [
    "%matplotlib inline\n",
    "from matplotlib import pyplot as plt\n",
    "\n",
    "import matplotlib\n",
    "matplotlib.rcParams.update(**{\n",
    "    'axes.titlesize': 14,\n",
    "    'axes.labelsize': 14,\n",
    "    'xtick.labelsize': 12,\n",
    "    'ytick.labelsize': 12,\n",
    "    'legend.fontsize': 12,\n",
    "    'legend.title_fontsize': 12,\n",
    "    'figure.figsize': (7, 5),\n",
    "})"
   ]
  },
  {
   "cell_type": "code",
   "execution_count": null,
   "id": "e5c66767",
   "metadata": {},
   "outputs": [],
   "source": [
    "from cirq_qubitization.quantum_graph.composite_bloq import \\\n",
    "    get_soquets, CompositeBloqBuilder, FancyRegisters"
   ]
  },
  {
   "cell_type": "code",
   "execution_count": null,
   "id": "29034fd6",
   "metadata": {},
   "outputs": [],
   "source": [
    "from cirq_qubitization.quantum_graph.graphviz import PrettyGraphDrawer\n",
    "from IPython.display import SVG\n",
    "\n",
    "def showb(cbloq):\n",
    "    display(SVG(PrettyGraphDrawer(cbloq).get_graph().create_svg()))"
   ]
  },
  {
   "cell_type": "code",
   "execution_count": null,
   "id": "b6fdcf87",
   "metadata": {},
   "outputs": [],
   "source": [
    "import numpy as np\n",
    "import networkx as nx\n",
    "\n",
    "import quimb\n",
    "import quimb.tensor as qtn\n",
    "COLORS=['+', '0', 'COPY', 'XOR', 'CNOT', 'Join']"
   ]
  },
  {
   "cell_type": "code",
   "execution_count": null,
   "id": "fc2bae3d",
   "metadata": {},
   "outputs": [],
   "source": [
    "from cirq_qubitization.quantum_graph.quimb_sim import *\n",
    "from cirq_qubitization.quantum_graph.basic_gates import *"
   ]
  },
  {
   "cell_type": "code",
   "execution_count": null,
   "id": "e7b9bc84",
   "metadata": {},
   "outputs": [],
   "source": [
    "from cirq_qubitization.surface_code.gosc2 import *"
   ]
  },
  {
   "cell_type": "code",
   "execution_count": null,
   "id": "0b99b018",
   "metadata": {
    "scrolled": false
   },
   "outputs": [],
   "source": [
    "#tfact = TFactory().decompose_bloq()\n",
    "cbloq = TIdentity().decompose_bloq()\n",
    "#print(cbloq.debug_text())\n",
    "showb(cbloq)"
   ]
  },
  {
   "cell_type": "code",
   "execution_count": null,
   "id": "aeb0698a",
   "metadata": {},
   "outputs": [],
   "source": [
    "from cirq_qubitization.quantum_graph.composite_bloq import _create_binst_graph, BloqInstance\n",
    "bg = _create_binst_graph(cbloq.connections)\n",
    "bg"
   ]
  },
  {
   "cell_type": "markdown",
   "id": "e7435896",
   "metadata": {},
   "source": [
    "# Score"
   ]
  },
  {
   "cell_type": "code",
   "execution_count": null,
   "id": "3e01fd1d",
   "metadata": {},
   "outputs": [],
   "source": [
    "score = binstgraph_to_musical_score(bg)\n",
    "for s in score:\n",
    "    print(s)\n",
    "maxwidth= max(len(gen) for gen in score)\n",
    "maxwidth\n",
    "\n",
    "def pad_gen(gen):\n",
    "    return gen + (None,) * (maxwidth - len(gen))\n",
    "score = [pad_gen(gen) for gen in score]\n",
    "score = np.array(score)\n",
    "\n",
    "for line in score.T:\n",
    "    items = [f'{x:3d}' if x is not None else ' '*3 for x in line]\n",
    "    print(' '.join(items))"
   ]
  },
  {
   "cell_type": "code",
   "execution_count": null,
   "id": "e76682f9",
   "metadata": {},
   "outputs": [],
   "source": [
    "sg = nx.Graph()\n",
    "\n",
    "prev_xi = {}\n",
    "for ti, moment in enumerate(score):\n",
    "    \n",
    "    seen = {}\n",
    "    for xi, cell in enumerate(moment):\n",
    "        if cell is None:\n",
    "            continue\n",
    "\n",
    "        me = (ti,xi)\n",
    "        sg.add_node(me, i=cell)\n",
    "        \n",
    "        if cell in seen:\n",
    "            sg.add_edge(seen[cell], me, etype='binst')\n",
    "            \n",
    "        if xi in prev_xi:\n",
    "            sg.add_edge(prev_xi[xi], me, etype='qubit')\n",
    "        \n",
    "        seen[cell] = me\n",
    "        prev_xi[xi] = me\n",
    "        \n",
    "            \n",
    "pos = {(t,x): (t,-x) for t,x in sg.nodes}            \n",
    "nx.draw_networkx(sg, pos=pos, labels=dict(sg.nodes.data('i')))"
   ]
  },
  {
   "cell_type": "markdown",
   "id": "b19645eb",
   "metadata": {},
   "source": [
    "# Quimb"
   ]
  },
  {
   "cell_type": "code",
   "execution_count": null,
   "id": "ab7c8ee0",
   "metadata": {},
   "outputs": [],
   "source": [
    "import networkx as nx\n",
    "\n",
    "pos = nx.nx_agraph.graphviz_layout(bg, 'dot')\n",
    "nx.draw_networkx(bg, pos=pos, labels={n: n.bloq.pretty_name() if isinstance(n, BloqInstance) else 'dang' for n in bg.nodes})"
   ]
  },
  {
   "cell_type": "code",
   "execution_count": null,
   "id": "9e2a0b36",
   "metadata": {
    "scrolled": false
   },
   "outputs": [],
   "source": [
    "tn, fix = cbloq_to_quimb(bg, pos=pos)\n",
    "tn.draw( color=['COPY', '+', 'Mx', 'Z'], show_tags=False, fix=fix)"
   ]
  },
  {
   "cell_type": "code",
   "execution_count": null,
   "id": "64c814cb",
   "metadata": {},
   "outputs": [],
   "source": [
    "outs = list(set(tn.all_inds()) - set(tn.inner_inds()))\n",
    "outs"
   ]
  },
  {
   "cell_type": "code",
   "execution_count": null,
   "id": "5d390012",
   "metadata": {},
   "outputs": [],
   "source": [
    "left_soqs = blow_up_soquets(cbloq.registers.lefts(), LeftDangle)['qs']\n",
    "left_soqs"
   ]
  },
  {
   "cell_type": "code",
   "execution_count": null,
   "id": "5262ab2f",
   "metadata": {},
   "outputs": [],
   "source": [
    "from cirq_qubitization.quantum_graph.quantum_graph import LeftDangle, RightDangle\n",
    "\n",
    "right_soqs = blow_up_soquets(cbloq.registers.rights(), RightDangle)['qs']\n",
    "right_soqs"
   ]
  },
  {
   "cell_type": "code",
   "execution_count": null,
   "id": "0787866d",
   "metadata": {},
   "outputs": [],
   "source": [
    "unitary = tn.to_dense(right_soqs, left_soqs)\n",
    "print(np.round(unitary, 3))"
   ]
  },
  {
   "cell_type": "code",
   "execution_count": null,
   "id": "2989dc27",
   "metadata": {},
   "outputs": [],
   "source": [
    "np.where(np.abs(unitary) > 1e-4)"
   ]
  },
  {
   "cell_type": "code",
   "execution_count": null,
   "id": "e857deca",
   "metadata": {},
   "outputs": [],
   "source": [
    "np.round(unitary[np.abs(unitary)>1e-8], 4)"
   ]
  },
  {
   "cell_type": "code",
   "execution_count": null,
   "id": "9fdf467f",
   "metadata": {},
   "outputs": [],
   "source": [
    "import cirq\n",
    "cirq.unitary(cirq.Rz(rads=np.pi/8))"
   ]
  },
  {
   "cell_type": "code",
   "execution_count": null,
   "id": "c47275bc",
   "metadata": {},
   "outputs": [],
   "source": [
    "Z = np.array([[1,0],[0,-1]], dtype=np.complex128)\n",
    "from scipy.linalg import expm\n",
    "cunitary = expm(-1.j * np.pi/(8*2) * Z)\n",
    "print(np.round(cunitary, 3))"
   ]
  },
  {
   "cell_type": "code",
   "execution_count": null,
   "id": "3754cc65",
   "metadata": {},
   "outputs": [],
   "source": [
    "Z = np.array([[1,0],[0,-1]], dtype=np.complex128)\n",
    "from scipy.linalg import expm\n",
    "cunitary = expm(-1.j * np.pi/(8*2) * np.kron(Z,Z))\n",
    "print(np.round(cunitary, 3))"
   ]
  },
  {
   "cell_type": "code",
   "execution_count": null,
   "id": "6c6f24d6",
   "metadata": {},
   "outputs": [],
   "source": [
    "zdata = np.array(list(itertools.product([1, -1], repeat=2)))\n",
    "zdata = np.product(zdata, axis=1)\n",
    "zdata = zdata.reshape((2,) * 2)\n",
    "zdata = np.exp(-1.j * zdata * np.pi / (8 * 2))\n",
    "zdata"
   ]
  },
  {
   "cell_type": "markdown",
   "id": "fabd72ec",
   "metadata": {},
   "source": [
    "## fine just use cirq"
   ]
  },
  {
   "cell_type": "code",
   "execution_count": null,
   "id": "9930168b",
   "metadata": {},
   "outputs": [],
   "source": [
    "import cirq"
   ]
  },
  {
   "cell_type": "code",
   "execution_count": null,
   "id": "878089df",
   "metadata": {},
   "outputs": [],
   "source": [
    "qs = np.array(cirq.LineQubit.range(5))\n",
    "c = cirq.Circuit()\n",
    "\n",
    "Zg = cirq.MatrixGate(expm(-1.j * np.pi/(8*2) * Z), qid_shape=(2,)*1)\n",
    "ZZZ = cirq.MatrixGate(expm(-1.j * np.pi/(8*2) * cirq.kron(Z,Z,Z)), qid_shape=(2,)*3)\n",
    "ZZZZZ = cirq.MatrixGate(expm(-1.j * np.pi/(8*2) * cirq.kron(Z,Z,Z,Z,Z)))\n",
    "\n",
    "for i in range(5):\n",
    "    c += Zg.on(qs[i])\n",
    "    \n",
    "\n",
    "c +=ZZZ.on(*qs[[1, 2, 3]])\n",
    "c +=ZZZ.on(*qs[[0, 1, 2]])\n",
    "c +=ZZZ.on(*qs[[0, 1, 3]])\n",
    "c +=ZZZ.on(*qs[[0, 2, 3]])\n",
    "c +=ZZZ.on(*qs[[0, 3, 4]])\n",
    "c +=ZZZ.on(*qs[[0, 1, 4]])\n",
    "c +=ZZZ.on(*qs[[0, 2, 4]])\n",
    "c +=ZZZZZ.on(*qs)  # 12\n",
    "c +=ZZZ.on(*qs[[2, 3, 4]])\n",
    "c +=ZZZ.on(*qs[[1, 3, 4]])\n",
    "c +=ZZZ.on(*qs[[1, 2, 4]])\n",
    "\n",
    "    \n",
    "from cirq.contrib.svg import SVGCircuit\n",
    "SVGCircuit(c)"
   ]
  },
  {
   "cell_type": "code",
   "execution_count": null,
   "id": "9b365b77",
   "metadata": {},
   "outputs": [],
   "source": [
    "cunitary = cirq.unitary(c)\n",
    "np.where(np.abs(cunitary)>1e-3)"
   ]
  },
  {
   "cell_type": "code",
   "execution_count": null,
   "id": "52383cb4",
   "metadata": {},
   "outputs": [],
   "source": [
    "np.round(cunitary[np.where(np.abs(cunitary)>1e-3)], 8)"
   ]
  },
  {
   "cell_type": "code",
   "execution_count": null,
   "id": "3e0eb086",
   "metadata": {},
   "outputs": [],
   "source": [
    "np.testing.assert_allclose(np.eye(2**5), cunitary)"
   ]
  }
 ],
 "metadata": {
  "kernelspec": {
   "display_name": "Python 3 (ipykernel)",
   "language": "python",
   "name": "python3"
  },
  "language_info": {
   "codemirror_mode": {
    "name": "ipython",
    "version": 3
   },
   "file_extension": ".py",
   "mimetype": "text/x-python",
   "name": "python",
   "nbconvert_exporter": "python",
   "pygments_lexer": "ipython3",
   "version": "3.10.9"
  }
 },
 "nbformat": 4,
 "nbformat_minor": 5
}
