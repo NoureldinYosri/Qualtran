{
  "nbformat": 4,
  "nbformat_minor": 0,
  "metadata": {
    "colab": {
      "provenance": []
    },
    "kernelspec": {
      "name": "python3",
      "display_name": "Python 3"
    },
    "language_info": {
      "name": "python"
    }
  },
  "cells": [
    {
      "cell_type": "markdown",
      "source": [
        "#$4n + \\mathscr{O}(1)$ T Complexity Quantum-Classical Comparison Oracle\n",
        "\n",
        "&nbsp;&nbsp;&nbsp;&nbsp;&nbsp;&nbsp;&nbsp;&nbsp;&nbsp;&nbsp;&nbsp;&nbsp;&nbsp;&nbsp;&nbsp;&nbsp;&nbsp;&nbsp;&nbsp;&nbsp;&nbsp;&nbsp;&nbsp;&nbsp;&nbsp;&nbsp;&nbsp;&nbsp;&nbsp;&nbsp;&nbsp;&nbsp;&nbsp;&nbsp;&nbsp;&nbsp;&nbsp;&nbsp;&nbsp;&nbsp;&nbsp;&nbsp;&nbsp;&nbsp;&nbsp;&nbsp;&nbsp;&nbsp;&nbsp;&nbsp;&nbsp;&nbsp;&nbsp;&nbsp;&nbsp;&nbsp;&nbsp;&nbsp;&nbsp;&nbsp;&nbsp;&nbsp;&nbsp;&nbsp;&nbsp;&nbsp;&nbsp;&nbsp;&nbsp;&nbsp;&nbsp;&nbsp;&nbsp;&nbsp;&nbsp;&nbsp;&nbsp;&nbsp;<a href=\"mailto: noureldinyosri@gmail.com\">Noureldin Yosri</a></br>\n",
        "&nbsp;&nbsp;&nbsp;&nbsp;&nbsp;&nbsp;&nbsp;&nbsp;&nbsp;&nbsp;&nbsp;&nbsp;&nbsp;&nbsp;&nbsp;&nbsp;&nbsp;&nbsp;&nbsp;&nbsp;&nbsp;&nbsp;&nbsp;&nbsp;&nbsp;&nbsp;&nbsp;&nbsp;&nbsp;&nbsp;&nbsp;&nbsp;&nbsp;&nbsp;&nbsp;&nbsp;&nbsp;&nbsp;&nbsp;&nbsp;&nbsp;&nbsp;&nbsp;&nbsp;&nbsp;&nbsp;&nbsp;&nbsp;&nbsp;&nbsp;&nbsp;&nbsp;&nbsp;&nbsp;&nbsp;&nbsp;&nbsp;&nbsp;&nbsp;&nbsp;&nbsp;&nbsp;&nbsp;&nbsp;&nbsp;&nbsp;&nbsp;&nbsp;&nbsp;&nbsp;&nbsp;&nbsp;&nbsp;&nbsp;&nbsp;&nbsp;&nbsp;&nbsp;May 2023"
      ],
      "metadata": {
        "id": "cXYDgQH3jnNQ"
      }
    },
    {
      "cell_type": "markdown",
      "source": [
        "## Abstract\n",
        "This short note reports an improved T gate complexity of $4n + \\mathscr{O}(1)$ for the quantum oracle for comparing a quantum number to a classical number.  "
      ],
      "metadata": {
        "id": "FS_qGUVPouBf"
      }
    },
    {
      "cell_type": "markdown",
      "source": [
        "## Introduction\n",
        "The current optimal implementation of a reversible oracle for comparing two quantum numbers of $n$ qubits each is $8n + \\mathscr{O}(1)$ and is given in the supplementary materials of [Berry et al., 2018](https://doi.org/10.1038/s41534-018-0071-5). Their implementation uses divide and conquer technique to create a binary tree of depth $\\log{n}$ whose leafs are the qubits of then numbers with intermediate values stored in $\\mathscr{O}(n)$ ancillas. Each non leaf node uses two CSWAP operations and the value of the comparison is computed from the root node using one Toffoli. \n",
        "\n",
        "When this decomposition is applied to the case where one input is a list of qubits and the the other is a classical number (i.e. a string of bits) this decomposition gives a $6n + \\mathscr{O}(1)$ T complexity since at the level right above the leafs half of the CSWAP operations collapse to either identity or SWAP, thus the number of CSWAPs becomes $\\approx \\frac{n}{2} + 2 \\times \\frac{n}{2} = \\frac{3n}{2}$, leadining to $4 \\times \\frac{3n}{2} = 6n$ T operations.\n",
        "\n",
        "In this paper we provide a different implementation with $4n + \\mathscr{O}(1)$ T operations count based on modeling the problem as a finite state machine of $2n$ states each having two transitions.\n"
      ],
      "metadata": {
        "id": "_-GG5ry9o6RI"
      }
    },
    {
      "cell_type": "markdown",
      "source": [
        "## Equality as a special case\n",
        "Before we proceed to the comparison oracle we take a look at the equality oracle actually as a special case with a lower T complexity of only $4n + \\mathscr{O}(1)$, as it can be implemented as an And operation. The And operation itself can be done using only $4n + \\mathscr{O}(1)$ as per [Babbush et al., 2018](https://doi.org/10.1103%2Fphysrevx.8.041015) and [Craig Gidney](https://algassert.com/post/1903)."
      ],
      "metadata": {
        "id": "JxeFr2ClqHn9"
      }
    },
    {
      "cell_type": "code",
      "source": [
        "def equality_oracle(A: Sequence[cirq.Qid], B: int, z: cirq.Qid) -> cirq.OP_TREE:\n",
        "  # Returns a decomposition of the oracle O_B |A>z> = |A>|z^(A == B)> in only 4n T operations.\n",
        "  bits = reversed([(B >> i)&1 for i in range(len(A))])\n",
        "  \n",
        "  ancilla = cirq.NamedQubit('and_result')\n",
        "  yield AND(cv=bits).on(*A, ancilla)  # `ancilla` now has the result of equality. uses 4n T operations.\n",
        "  \n",
        "  yield cirq.CNOT(ancilla, z)  # update result qubit.\n",
        "  \n",
        "  yield AND(cv=bits, adjoint=True).on(*A, ancilla)  # `ancilla` now has the result of equality. uses only cliffords and measurements."
      ],
      "metadata": {
        "id": "AAKDUijqrmEG"
      },
      "execution_count": null,
      "outputs": []
    },
    {
      "cell_type": "markdown",
      "source": [
        "## The $ < \\textit{ and } \\leq$ oracles with $4n + \\mathscr{O}(1)$ T gates\n",
        "\n",
        "### Inspiration\n",
        "We will only consider the comparison oracles for $<$ and $\\leq$ since the $>$ and $\\geq$ oracles would be the same by swapping the inputs.\n",
        "\n",
        "Consider a classical algorithm for comparing two numbers $A \\textit{ and } B$ of equal length $n$. The algorithm scans the numbers from left to right until it a index $i^*$ where they differ and returns $A_{i^*} < B_{i^*}$. This is how C/C++ [std::strcmp](https://en.cppreference.com/w/cpp/string/byte/strcmp) works. \n",
        "\n",
        "Implicitly this algorithm has $n + 3$ states $\\{e_0, \\ldots, e_n\\} \\cup \\{L, R\\}$ where being in the $e_k$ state means the prefixes of length $k$ are equal. with transitions being the states governed by:\n",
        "\n",
        "\\begin{equation}\n",
        "\\begin{split}\n",
        "    e_k \\rightarrow e_{k+1} \\textit{ if } u_k = v_k \\\\\n",
        "    e_k \\rightarrow L \\textit{ if } u_k < v_k \\\\\n",
        "    e_k \\rightarrow R \\textit{ if } u_k > v_k \\\\\n",
        "\\end{split}\n",
        "\\end{equation}\n",
        "\n",
        "When the result of comparison between individual indicies becomes probabilistic these states form a Markov decision process with three terminal states $\\{L, e_n, R\\}$. This gives us an inspiration for a new implementation.\n",
        "\n",
        "### Algorithm\n",
        "We start by allocating $n+1$ qubits representing the $e_0, \\ldots, e_n$ states and then scan the qubit register and number from left to right.\n",
        "\n",
        "if the current bit is zero then we only need to compute the $e_k \\rightarrow e_{k+1}$ transition since the qubit can't be less than zero. otherwise we need to compute the transition as well as the $e_k → L$ transition."
      ],
      "metadata": {
        "id": "q8Zyy7SVtnxo"
      }
    },
    {
      "cell_type": "code",
      "source": [
        "def less_than_oracle(A: Sequence[cirq.Qid], B: int, z: cirq.Qid) -> cirq.OP_TREE:\n",
        "  # Returns a decomposition of the oracle O_B |A>z> = |A>|z^(A < B)> in only 4n T operations.\n",
        "  bits = reversed([(B >> i)&1 for i in range(len(A))])\n",
        "\n",
        "  adjoint = []\n",
        "\n",
        "  es = cirq.LineQid.range(len(A), dimension=2)\n",
        "  ek = es.pop(0)\n",
        "\n",
        "  # Initially our belief is that the numbers are equal.\n",
        "  yield cirq.X(ek)\n",
        "  adjoint.append(cirq.X(ek))\n",
        "\n",
        "  ancilla = cirq.LineQid.range(len(A), dimension=2)\n",
        "  for q, b, ekp1 in zip(A, bits, ancilla):\n",
        "    if b:\n",
        "      yield cirq.X(q)\n",
        "      adjoint.append(cirq.X(q))\n",
        "\n",
        "      # Temporarily hold e_k and not q\n",
        "      yield And().on(q, ek, ekp1)\n",
        "      adjoint.append(And(adjoint=True).on(q, ek, ekp1))\n",
        "\n",
        "      # e_{k+1} currently has are_equal so far and (q != b)\n",
        "      # which is equivalent to: Is the current prefix of the qubits < the prefix of B and the previous prefix equal?\n",
        "      yield cirq.CNOT(ekp1, target)\n",
        "\n",
        "      yield cirq.CNOT(ek, ekp1)  # Now e_{k+1} has the prefix equality.\n",
        "      adjoint.append(cirq.CNOT(ek, ekp1))\n",
        "    else:\n",
        "      # e_{k+1} = e_k and not q\n",
        "      yield And(cv=[1, 0]).on(ek, q, ekp1)\n",
        "      adjoint.append(And(cv=[1, 0], adjoint=True).on(ek, q, ekp1))\n",
        "    \n",
        "    ek = ekp1\n",
        "\n",
        "  # For the <= oracle we need one extra clifford operation\n",
        "  # yield cirq.CNOT(are_equal, z)\n",
        "\n",
        "  yield from reversed(adjoint)\n"
      ],
      "metadata": {
        "id": "XCdnBGwzwqK7"
      },
      "execution_count": null,
      "outputs": []
    },
    {
      "cell_type": "markdown",
      "source": [
        "## Improving the constant\n",
        "The implementation above has T complexity of exactly $4n$ since there are exactly $n$ And gates each uses $4$ Ts. Note however that the first of them is not actually needed since one of its inputs is in the $ |1> $ state so it collapses to a `cirq.CNOT`. This gives a T complexity of $4(n-1) = 4n - 4$."
      ],
      "metadata": {
        "id": "qa-90pTK0Spu"
      }
    },
    {
      "cell_type": "markdown",
      "source": [
        "## Drawback\n",
        "The new decomposition improves the T complexity from $6n + \\mathscr{O}(1)$ to $4n + \\mathscr{O}(1)$ however it has linear depth rather than logarithmic depth and both circuits will have linear width."
      ],
      "metadata": {
        "id": "MDysRmBd1LFw"
      }
    }
  ]
}