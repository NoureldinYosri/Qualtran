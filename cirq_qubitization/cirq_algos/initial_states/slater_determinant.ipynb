{
 "cells": [
  {
   "cell_type": "code",
   "execution_count": 22,
   "metadata": {},
   "outputs": [],
   "source": [
    "import cirq\n",
    "from cirq.contrib.svg import SVGCircuit\n",
    "import numpy as np\n",
    "from typing import *\n",
    "import cirq_qubitization.cirq_infra.testing as cq_testing\n",
    "from cirq_qubitization.jupyter_tools import display_gate_and_compilation, svg_circuit"
   ]
  },
  {
   "attachments": {},
   "cell_type": "markdown",
   "metadata": {},
   "source": [
    "# Slater Determinants \n",
    "\n",
    "In this notebook we will discuss preparing Slater determinants as initial states following [[1]](#ref-1), [[2]](#ref-2) and [[3]](#ref-3) for use in first-quantized quantum simulations.\n",
    "\n",
    "A key part of many quantum algorithms is the preparation of an initial state $|\\phi\\rangle$ that has a reasonable overlap with a desired eigenstate, $|\\psi\\rangle$, of a Hamiltonian $H$. For example, in phase estimation the output is an estimate of the eigenvalue with probability $|\\langle \\phi | \\psi\\rangle|^2$, and thus preparing states with good overlap is an important task. For fermionic systems a common initial state is the Hartree-Fock state, which is defined as that Slater Determinant which minimizes the total energy of the system. The Hartree-Fock algorithm yields a set of $N$ \"molecular orbitals\" (MOs) $\\{\\phi_1(\\mathbf{r})\\dots\\phi_N(\\mathbf{r})\\}$ and corresponding single-particle eigenvalues ${\\epsilon_{p}}$. A Slater-Determinant is then typically formed using the $\\eta$ lowest energy molecular orbitals as: \n",
    "\n",
    "$$\n",
    "\\Psi({\\mathbf{r}_1\\cdots\\mathbf{r}_\\eta}) = \\frac{1}{\\sqrt{N}!}\\det \n",
    "    \\left(\n",
    "        \\begin{matrix}\n",
    "        \\phi_1(\\mathbf{\\mathbf{r}_1}) & \\dots & \\phi_\\eta(\\mathbf{r}_\\eta) \\\\\n",
    "        \\vdots & \\dots & \\vdots \\\\\n",
    "        \\phi_1(\\mathbf{\\mathbf{r}_\\eta}) & \\dots & \\phi_\\eta(\\mathbf{r}_\\eta) \\\\\n",
    "        \\end{matrix}\n",
    "    \\right).\n",
    "$$\n",
    "For example, if $\\eta=2$ we have $\\Psi(\\mathbf{r}_1, \\mathbf{r}_2) = \\frac{1}{\\sqrt{2}} (\\phi_1(\\mathbf{r_1})\\phi_2(\\mathbf{r}_2) - \\phi_1(\\mathbf{r}_2)\\phi_2(\\mathbf{r}_1))$. Slater determinants ensure that the many-electron state is antisymmetric under exchange of any pair of electrons $(\\Psi(\\mathbf{r}_1,\\mathbf{r}_2) = - \\Psi(\\mathbf{r}_2, \\mathbf{r}_1))$, which is necessary as electrons are fermions. \n",
    "\n",
    "Normally in chemistry and physics we write Slater determinants with the shorthand $|\\Psi\\rangle = |\\phi_1\\cdots\\phi_\\eta\\rangle$ and typically also work in second quantization. In second quantization we only need to know which single particle orbitals are occupied, and thus the Hartree-Fock state can be written as $|\\underbrace{1\\cdots 1}_{\\eta}\\underbrace{0\\cdots0}_{N-\\eta}\\rangle$, which signifies that the first $\\eta$ MOs are occupied. Fermion statistics are then encoded through the creation and annihilation operators which satisfy $\\{a_p^\\dagger, a_q\\} = \\delta_{pq}$. The ground state of our Hamiltonian $H$ can then be expanded as a linear combination of all possible Slater determinants which can be formed by occupying $\\eta$ electrons in $N$ spin-orbitals, of which there are $ N \\choose \\eta$ in general.\n",
    "\n",
    "The preparation of the Hartree-Fock state in second quantization is trivial if the Hamiltonian is represented in the MO basis, one just needs to set the first $\\eta$ qubits to on. However, for first quantized algorithms the task is more involved.\n",
    "\n",
    "In first quantization, antisymmetrization has to be incorporated explicitly in our state, i.e., we form our Slater determinant through\n",
    "\n",
    "$$\n",
    "|\\phi_1\\dots\\phi_\\eta\\rangle  \\rightarrow \\sum_{\\sigma \\in S_\\eta} (-1)^{\\pi(\\sigma)}|\\phi_{\\sigma(i)}\\dots\\phi_{\\sigma(\\eta)}\\rangle,\n",
    "$$\n",
    "where $\\sigma$ represents a permutation of the electron labels and $\\pi(\\sigma)$ is the parity of the permutation. Assuming our labels are initially sorted then $\\pi(\\sigma) = 0$ for even permutations and $\\pi(\\sigma) = 1$ for an odd permutation. Also note the abuse of the ket notation to represent both product states $|\\phi_{\\sigma(i)}\\dots\\phi_{\\sigma(\\eta)}\\rangle$ and Slater determinants $|\\phi_1\\dots\\phi_\\eta\\rangle$. Note in some texts a distinction is drawn by writing product states as $|\\phi_1\\dots \\phi_\\eta)$, but we won't make that distinction here. It should be obvious from the context which we are referring to.\n",
    "\n",
    "In the above each $\\phi_p$ is associated with a basis function, and each orbital is represented using a register of size $\\log N$. It is also possible to use grid based approaches but we won't discuss that here.\n",
    "A convenient basis to use is a basis of $N$ planewaves:\n",
    "\n",
    "$$\n",
    "\\phi_p(\\mathbf{r}) = \\langle \\mathbf{r}|\\phi_p\\rangle = \\frac{1}{\\sqrt{\\Omega}} e^{i\\mathbf{k}_p\\cdot\\mathbf{r}}\n",
    "$$\n",
    "where\n",
    "$$\n",
    "\\mathbf{k}_p = \\frac{2\\pi \\mathbf{p}}{\\Omega^{1/3}}; \\quad p_{x,y,z} \\in \\left[-\\frac{N^{1/3}-1}{2}, \\frac{N^{1/3}-1}{2}\\right] \n",
    "$$\n",
    "and $\\Omega$ is the volume of a cubic cell.\n",
    "\n",
    "If the Hamiltonian is written in the MO basis then state preparation is straightforward in either representation as we just need to occupy specific orbitals to produce an ordered list of registers. In first quantization representation we then need to antisymmetrize this set of registers given the algorithm in [[1]](#ref-1). Unfortunately, for most systems of interest the Hamiltonian is not expressed in the MO basis (e.g. it might be written in terms of planewaves) and thus we need to prepare a generic state\n",
    "$$\n",
    "|\\phi\\rangle = \\prod_{p}^{\\eta} \\tilde{a}_{p}|0\\rangle\n",
    "$$\n",
    "where\n",
    "$$\n",
    "\\tilde{a}_{p}^{\\dagger} = \\sum_{q} u_{pq} a_q^{\\dagger}\n",
    "$$\n",
    "are spin orbital creation operators in our desired 'rotated' basis, with $u_{pq}$ being a basis rotation matrix (e.g. this might the MO coefficient matrix mapping atomic-orbitals to molecular orbitals, or for plane-wave density functional theory these might be mapping from planewaves to the Kohn-Sham states.)\n",
    "Preparing such a state can be achieved efficiently using the Given's rotation protocol of Ref. [[4]](#ref-4), with implentations provided by [OpenFermion](https://quantumai.google/reference/python/openfermion/linalg/givens_rotations).\n",
    "\n",
    "To start the tutorial we follow [[3]](#ref-3) and first assume we have a second quantized representation of the Slater Determinant (ignoring the complexity of Givens rotation), and try to answer how we use this representation to \"copy\" the information into our first quantized registers.\n",
    "\n",
    "First let's look at the circuit in all its glory:"
   ]
  },
  {
   "cell_type": "code",
   "execution_count": 27,
   "metadata": {},
   "outputs": [
    {
     "data": {
      "image/svg+xml": [
       "<svg xmlns=\"http://www.w3.org/2000/svg\" width=\"236.981328125\" height=\"500.0\"><line x1=\"30.0\" x2=\"206.981328125\" y1=\"25.0\" y2=\"25.0\" stroke=\"#1967d2\" stroke-width=\"1\"/><line x1=\"30.0\" x2=\"206.981328125\" y1=\"75.0\" y2=\"75.0\" stroke=\"#1967d2\" stroke-width=\"1\"/><line x1=\"30.0\" x2=\"206.981328125\" y1=\"125.0\" y2=\"125.0\" stroke=\"#1967d2\" stroke-width=\"1\"/><line x1=\"30.0\" x2=\"206.981328125\" y1=\"175.0\" y2=\"175.0\" stroke=\"#1967d2\" stroke-width=\"1\"/><line x1=\"30.0\" x2=\"206.981328125\" y1=\"225.0\" y2=\"225.0\" stroke=\"#1967d2\" stroke-width=\"1\"/><line x1=\"30.0\" x2=\"206.981328125\" y1=\"275.0\" y2=\"275.0\" stroke=\"#1967d2\" stroke-width=\"1\"/><line x1=\"30.0\" x2=\"206.981328125\" y1=\"325.0\" y2=\"325.0\" stroke=\"#1967d2\" stroke-width=\"1\"/><line x1=\"30.0\" x2=\"206.981328125\" y1=\"375.0\" y2=\"375.0\" stroke=\"#1967d2\" stroke-width=\"1\"/><line x1=\"30.0\" x2=\"206.981328125\" y1=\"425.0\" y2=\"425.0\" stroke=\"#1967d2\" stroke-width=\"1\"/><line x1=\"30.0\" x2=\"206.981328125\" y1=\"475.0\" y2=\"475.0\" stroke=\"#1967d2\" stroke-width=\"1\"/><line x1=\"128.4906640625\" x2=\"128.4906640625\" y1=\"25.0\" y2=\"475.0\" stroke=\"black\" stroke-width=\"3\"/><rect x=\"10.0\" y=\"5.0\" width=\"40\" height=\"40\" stroke=\"black\" fill=\"white\" stroke-width=\"0\"/><text x=\"30.0\" y=\"25.0\" dominant-baseline=\"middle\" text-anchor=\"middle\" font-size=\"14px\" font-family=\"Arial\">q0: </text><rect x=\"10.0\" y=\"55.0\" width=\"40\" height=\"40\" stroke=\"black\" fill=\"white\" stroke-width=\"0\"/><text x=\"30.0\" y=\"75.0\" dominant-baseline=\"middle\" text-anchor=\"middle\" font-size=\"14px\" font-family=\"Arial\">q1: </text><rect x=\"10.0\" y=\"105.0\" width=\"40\" height=\"40\" stroke=\"black\" fill=\"white\" stroke-width=\"0\"/><text x=\"30.0\" y=\"125.0\" dominant-baseline=\"middle\" text-anchor=\"middle\" font-size=\"14px\" font-family=\"Arial\">q2: </text><rect x=\"10.0\" y=\"155.0\" width=\"40\" height=\"40\" stroke=\"black\" fill=\"white\" stroke-width=\"0\"/><text x=\"30.0\" y=\"175.0\" dominant-baseline=\"middle\" text-anchor=\"middle\" font-size=\"14px\" font-family=\"Arial\">q3: </text><rect x=\"10.0\" y=\"205.0\" width=\"40\" height=\"40\" stroke=\"black\" fill=\"white\" stroke-width=\"0\"/><text x=\"30.0\" y=\"225.0\" dominant-baseline=\"middle\" text-anchor=\"middle\" font-size=\"14px\" font-family=\"Arial\">p0: </text><rect x=\"10.0\" y=\"255.0\" width=\"40\" height=\"40\" stroke=\"black\" fill=\"white\" stroke-width=\"0\"/><text x=\"30.0\" y=\"275.0\" dominant-baseline=\"middle\" text-anchor=\"middle\" font-size=\"14px\" font-family=\"Arial\">p1: </text><rect x=\"10.0\" y=\"305.0\" width=\"40\" height=\"40\" stroke=\"black\" fill=\"white\" stroke-width=\"0\"/><text x=\"30.0\" y=\"325.0\" dominant-baseline=\"middle\" text-anchor=\"middle\" font-size=\"14px\" font-family=\"Arial\">p2: </text><rect x=\"10.0\" y=\"355.0\" width=\"40\" height=\"40\" stroke=\"black\" fill=\"white\" stroke-width=\"0\"/><text x=\"30.0\" y=\"375.0\" dominant-baseline=\"middle\" text-anchor=\"middle\" font-size=\"14px\" font-family=\"Arial\">p3: </text><rect x=\"10.0\" y=\"405.0\" width=\"40\" height=\"40\" stroke=\"black\" fill=\"white\" stroke-width=\"0\"/><text x=\"30.0\" y=\"425.0\" dominant-baseline=\"middle\" text-anchor=\"middle\" font-size=\"14px\" font-family=\"Arial\">p4: </text><rect x=\"10.0\" y=\"455.0\" width=\"40\" height=\"40\" stroke=\"black\" fill=\"white\" stroke-width=\"0\"/><text x=\"30.0\" y=\"475.0\" dominant-baseline=\"middle\" text-anchor=\"middle\" font-size=\"14px\" font-family=\"Arial\">p5: </text><rect x=\"70.0\" y=\"5.0\" width=\"116.981328125\" height=\"40\" stroke=\"black\" fill=\"white\" stroke-width=\"1\"/><text x=\"128.4906640625\" y=\"25.0\" dominant-baseline=\"middle\" text-anchor=\"middle\" font-size=\"14px\" font-family=\"Arial\">PrepareSlaterDet</text><rect x=\"70.0\" y=\"55.0\" width=\"116.981328125\" height=\"40\" stroke=\"black\" fill=\"white\" stroke-width=\"1\"/><text x=\"128.4906640625\" y=\"75.0\" dominant-baseline=\"middle\" text-anchor=\"middle\" font-size=\"14px\" font-family=\"Arial\">PrepareSlaterDet</text><rect x=\"70.0\" y=\"105.0\" width=\"116.981328125\" height=\"40\" stroke=\"black\" fill=\"white\" stroke-width=\"1\"/><text x=\"128.4906640625\" y=\"125.0\" dominant-baseline=\"middle\" text-anchor=\"middle\" font-size=\"14px\" font-family=\"Arial\">PrepareSlaterDet</text><rect x=\"70.0\" y=\"155.0\" width=\"116.981328125\" height=\"40\" stroke=\"black\" fill=\"white\" stroke-width=\"1\"/><text x=\"128.4906640625\" y=\"175.0\" dominant-baseline=\"middle\" text-anchor=\"middle\" font-size=\"14px\" font-family=\"Arial\">PrepareSlaterDet</text><rect x=\"70.0\" y=\"205.0\" width=\"116.981328125\" height=\"40\" stroke=\"black\" fill=\"white\" stroke-width=\"1\"/><text x=\"128.4906640625\" y=\"225.0\" dominant-baseline=\"middle\" text-anchor=\"middle\" font-size=\"14px\" font-family=\"Arial\">PrepareSlaterDet</text><rect x=\"70.0\" y=\"255.0\" width=\"116.981328125\" height=\"40\" stroke=\"black\" fill=\"white\" stroke-width=\"1\"/><text x=\"128.4906640625\" y=\"275.0\" dominant-baseline=\"middle\" text-anchor=\"middle\" font-size=\"14px\" font-family=\"Arial\">PrepareSlaterDet</text><rect x=\"70.0\" y=\"305.0\" width=\"116.981328125\" height=\"40\" stroke=\"black\" fill=\"white\" stroke-width=\"1\"/><text x=\"128.4906640625\" y=\"325.0\" dominant-baseline=\"middle\" text-anchor=\"middle\" font-size=\"14px\" font-family=\"Arial\">PrepareSlaterDet</text><rect x=\"70.0\" y=\"355.0\" width=\"116.981328125\" height=\"40\" stroke=\"black\" fill=\"white\" stroke-width=\"1\"/><text x=\"128.4906640625\" y=\"375.0\" dominant-baseline=\"middle\" text-anchor=\"middle\" font-size=\"14px\" font-family=\"Arial\">PrepareSlaterDet</text><rect x=\"70.0\" y=\"405.0\" width=\"116.981328125\" height=\"40\" stroke=\"black\" fill=\"white\" stroke-width=\"1\"/><text x=\"128.4906640625\" y=\"425.0\" dominant-baseline=\"middle\" text-anchor=\"middle\" font-size=\"14px\" font-family=\"Arial\">PrepareSlaterDet</text><rect x=\"70.0\" y=\"455.0\" width=\"116.981328125\" height=\"40\" stroke=\"black\" fill=\"white\" stroke-width=\"1\"/><text x=\"128.4906640625\" y=\"475.0\" dominant-baseline=\"middle\" text-anchor=\"middle\" font-size=\"14px\" font-family=\"Arial\">PrepareSlaterDet</text></svg>"
      ],
      "text/plain": [
       "<IPython.core.display.SVG object>"
      ]
     },
     "execution_count": 27,
     "metadata": {},
     "output_type": "execute_result"
    }
   ],
   "source": [
    "from cirq_qubitization.cirq_algos.initial_states.slater_determinant import SlaterDeterminant \n",
    "\n",
    "eta = 3\n",
    "N = 4\n",
    "g = cq_testing.GateHelper(SlaterDeterminant(eta, N))\n",
    "svg_circuit(g.circuit, registers=g.r)"
   ]
  },
  {
   "attachments": {},
   "cell_type": "markdown",
   "metadata": {},
   "source": [
    "\n",
    "\n",
    "## Mapping Second Quantization to First Quantization\n",
    "\n",
    "To begin we assume we have $N$ second quantized registers (labelled `q`), and $\\eta \\log N$ first quantized registers. We will only describe the more efficient implmentation in [[3]](#ref-3) which has a Toffoli complexity of \n",
    "$$\n",
    "N ( 3\\eta + n_\\eta - 2),\n",
    "$$\n",
    "where $n_\\eta = \\lceil\\log(\\eta + 1)\\rceil$.\n",
    "The basic idea is to iterate over the $N$ second quantized registers and copy the orbital index $p$ into register $\\xi$ of the first quantized registers where $\\xi$ is a running count of the number of electrons found so far in the iteration. This can be achieved using a combination of unary iteration, addition gates and many CX gates for classically copying the data.\n",
    "\n",
    "To proceed we define a register $|\\xi\\rangle$ of size $n_\\eta$ which keeps a running count of the number of electrons, a control register $|\\mathrm{ctrl}\\rangle$ of size $\\eta$ which will correspond to the value of $\\xi$ in one-hot unary, and an ancilla $|\\mathrm{anc}\\rangle$ register of size $\\log N$.\n"
   ]
  },
  {
   "cell_type": "code",
   "execution_count": 21,
   "metadata": {},
   "outputs": [
    {
     "data": {
      "image/svg+xml": [
       "<svg xmlns=\"http://www.w3.org/2000/svg\" width=\"361.6799609375\" height=\"500.0\"><line x1=\"42.58314453125\" x2=\"331.6799609375\" y1=\"25.0\" y2=\"25.0\" stroke=\"#1967d2\" stroke-width=\"1\"/><line x1=\"42.58314453125\" x2=\"331.6799609375\" y1=\"75.0\" y2=\"75.0\" stroke=\"#1967d2\" stroke-width=\"1\"/><line x1=\"42.58314453125\" x2=\"331.6799609375\" y1=\"125.0\" y2=\"125.0\" stroke=\"#1967d2\" stroke-width=\"1\"/><line x1=\"42.58314453125\" x2=\"331.6799609375\" y1=\"175.0\" y2=\"175.0\" stroke=\"#1967d2\" stroke-width=\"1\"/><line x1=\"42.58314453125\" x2=\"331.6799609375\" y1=\"225.0\" y2=\"225.0\" stroke=\"#1967d2\" stroke-width=\"1\"/><line x1=\"42.58314453125\" x2=\"331.6799609375\" y1=\"275.0\" y2=\"275.0\" stroke=\"#1967d2\" stroke-width=\"1\"/><line x1=\"42.58314453125\" x2=\"331.6799609375\" y1=\"325.0\" y2=\"325.0\" stroke=\"#1967d2\" stroke-width=\"1\"/><line x1=\"42.58314453125\" x2=\"331.6799609375\" y1=\"375.0\" y2=\"375.0\" stroke=\"#1967d2\" stroke-width=\"1\"/><line x1=\"42.58314453125\" x2=\"331.6799609375\" y1=\"425.0\" y2=\"425.0\" stroke=\"#1967d2\" stroke-width=\"1\"/><line x1=\"42.58314453125\" x2=\"331.6799609375\" y1=\"475.0\" y2=\"475.0\" stroke=\"#1967d2\" stroke-width=\"1\"/><line x1=\"203.42312500000003\" x2=\"203.42312500000003\" y1=\"25.0\" y2=\"475.0\" stroke=\"black\" stroke-width=\"3\"/><rect x=\"10.0\" y=\"5.0\" width=\"65.1662890625\" height=\"40\" stroke=\"black\" fill=\"white\" stroke-width=\"0\"/><text x=\"42.58314453125\" y=\"25.0\" dominant-baseline=\"middle\" text-anchor=\"middle\" font-size=\"14px\" font-family=\"Arial\">second0: </text><rect x=\"10.0\" y=\"55.0\" width=\"65.1662890625\" height=\"40\" stroke=\"black\" fill=\"white\" stroke-width=\"0\"/><text x=\"42.58314453125\" y=\"75.0\" dominant-baseline=\"middle\" text-anchor=\"middle\" font-size=\"14px\" font-family=\"Arial\">second1: </text><rect x=\"10.0\" y=\"105.0\" width=\"65.1662890625\" height=\"40\" stroke=\"black\" fill=\"white\" stroke-width=\"0\"/><text x=\"42.58314453125\" y=\"125.0\" dominant-baseline=\"middle\" text-anchor=\"middle\" font-size=\"14px\" font-family=\"Arial\">second2: </text><rect x=\"10.0\" y=\"155.0\" width=\"65.1662890625\" height=\"40\" stroke=\"black\" fill=\"white\" stroke-width=\"0\"/><text x=\"42.58314453125\" y=\"175.0\" dominant-baseline=\"middle\" text-anchor=\"middle\" font-size=\"14px\" font-family=\"Arial\">second3: </text><rect x=\"10.0\" y=\"205.0\" width=\"65.1662890625\" height=\"40\" stroke=\"black\" fill=\"white\" stroke-width=\"0\"/><text x=\"42.58314453125\" y=\"225.0\" dominant-baseline=\"middle\" text-anchor=\"middle\" font-size=\"14px\" font-family=\"Arial\">first0: </text><rect x=\"10.0\" y=\"255.0\" width=\"65.1662890625\" height=\"40\" stroke=\"black\" fill=\"white\" stroke-width=\"0\"/><text x=\"42.58314453125\" y=\"275.0\" dominant-baseline=\"middle\" text-anchor=\"middle\" font-size=\"14px\" font-family=\"Arial\">first1: </text><rect x=\"10.0\" y=\"305.0\" width=\"65.1662890625\" height=\"40\" stroke=\"black\" fill=\"white\" stroke-width=\"0\"/><text x=\"42.58314453125\" y=\"325.0\" dominant-baseline=\"middle\" text-anchor=\"middle\" font-size=\"14px\" font-family=\"Arial\">first2: </text><rect x=\"10.0\" y=\"355.0\" width=\"65.1662890625\" height=\"40\" stroke=\"black\" fill=\"white\" stroke-width=\"0\"/><text x=\"42.58314453125\" y=\"375.0\" dominant-baseline=\"middle\" text-anchor=\"middle\" font-size=\"14px\" font-family=\"Arial\">first3: </text><rect x=\"10.0\" y=\"405.0\" width=\"65.1662890625\" height=\"40\" stroke=\"black\" fill=\"white\" stroke-width=\"0\"/><text x=\"42.58314453125\" y=\"425.0\" dominant-baseline=\"middle\" text-anchor=\"middle\" font-size=\"14px\" font-family=\"Arial\">first4: </text><rect x=\"10.0\" y=\"455.0\" width=\"65.1662890625\" height=\"40\" stroke=\"black\" fill=\"white\" stroke-width=\"0\"/><text x=\"42.58314453125\" y=\"475.0\" dominant-baseline=\"middle\" text-anchor=\"middle\" font-size=\"14px\" font-family=\"Arial\">first5: </text><rect x=\"95.16628906250001\" y=\"5.0\" width=\"216.51367187500003\" height=\"40\" stroke=\"black\" fill=\"white\" stroke-width=\"1\"/><text x=\"203.42312500000003\" y=\"25.0\" dominant-baseline=\"middle\" text-anchor=\"middle\" font-size=\"14px\" font-family=\"Arial\">PrepareFromSecondQuantization</text><rect x=\"95.16628906250001\" y=\"55.0\" width=\"216.51367187500003\" height=\"40\" stroke=\"black\" fill=\"white\" stroke-width=\"1\"/><text x=\"203.42312500000003\" y=\"75.0\" dominant-baseline=\"middle\" text-anchor=\"middle\" font-size=\"14px\" font-family=\"Arial\">PrepareFromSecondQuantization</text><rect x=\"95.16628906250001\" y=\"105.0\" width=\"216.51367187500003\" height=\"40\" stroke=\"black\" fill=\"white\" stroke-width=\"1\"/><text x=\"203.42312500000003\" y=\"125.0\" dominant-baseline=\"middle\" text-anchor=\"middle\" font-size=\"14px\" font-family=\"Arial\">PrepareFromSecondQuantization</text><rect x=\"95.16628906250001\" y=\"155.0\" width=\"216.51367187500003\" height=\"40\" stroke=\"black\" fill=\"white\" stroke-width=\"1\"/><text x=\"203.42312500000003\" y=\"175.0\" dominant-baseline=\"middle\" text-anchor=\"middle\" font-size=\"14px\" font-family=\"Arial\">PrepareFromSecondQuantization</text><rect x=\"95.16628906250001\" y=\"205.0\" width=\"216.51367187500003\" height=\"40\" stroke=\"black\" fill=\"white\" stroke-width=\"1\"/><text x=\"203.42312500000003\" y=\"225.0\" dominant-baseline=\"middle\" text-anchor=\"middle\" font-size=\"14px\" font-family=\"Arial\">PrepareFromSecondQuantization</text><rect x=\"95.16628906250001\" y=\"255.0\" width=\"216.51367187500003\" height=\"40\" stroke=\"black\" fill=\"white\" stroke-width=\"1\"/><text x=\"203.42312500000003\" y=\"275.0\" dominant-baseline=\"middle\" text-anchor=\"middle\" font-size=\"14px\" font-family=\"Arial\">PrepareFromSecondQuantization</text><rect x=\"95.16628906250001\" y=\"305.0\" width=\"216.51367187500003\" height=\"40\" stroke=\"black\" fill=\"white\" stroke-width=\"1\"/><text x=\"203.42312500000003\" y=\"325.0\" dominant-baseline=\"middle\" text-anchor=\"middle\" font-size=\"14px\" font-family=\"Arial\">PrepareFromSecondQuantization</text><rect x=\"95.16628906250001\" y=\"355.0\" width=\"216.51367187500003\" height=\"40\" stroke=\"black\" fill=\"white\" stroke-width=\"1\"/><text x=\"203.42312500000003\" y=\"375.0\" dominant-baseline=\"middle\" text-anchor=\"middle\" font-size=\"14px\" font-family=\"Arial\">PrepareFromSecondQuantization</text><rect x=\"95.16628906250001\" y=\"405.0\" width=\"216.51367187500003\" height=\"40\" stroke=\"black\" fill=\"white\" stroke-width=\"1\"/><text x=\"203.42312500000003\" y=\"425.0\" dominant-baseline=\"middle\" text-anchor=\"middle\" font-size=\"14px\" font-family=\"Arial\">PrepareFromSecondQuantization</text><rect x=\"95.16628906250001\" y=\"455.0\" width=\"216.51367187500003\" height=\"40\" stroke=\"black\" fill=\"white\" stroke-width=\"1\"/><text x=\"203.42312500000003\" y=\"475.0\" dominant-baseline=\"middle\" text-anchor=\"middle\" font-size=\"14px\" font-family=\"Arial\">PrepareFromSecondQuantization</text></svg>"
      ],
      "text/plain": [
       "<IPython.core.display.SVG object>"
      ]
     },
     "execution_count": 21,
     "metadata": {},
     "output_type": "execute_result"
    }
   ],
   "source": [
    "from cirq_qubitization.cirq_algos.initial_states.slater_determinant import FromSecondQuantization\n",
    "\n",
    "eta = 3\n",
    "N = 4\n",
    "g = cq_testing.GateHelper(FromSecondQuantization(eta, N))\n",
    "svg_circuit(g.circuit, registers=g.r)"
   ]
  },
  {
   "attachments": {},
   "cell_type": "markdown",
   "metadata": {},
   "source": [
    "## Algorithm for Antisymmetrization\n",
    "\n",
    "Following [[1]](#ref-1) we can generate the state in 4 steps assuming the state $|\\phi_i \\dots \\phi_\\eta\\rangle$ is available. Ref. [[3]](#ref-3) addresses how to prepare this initial product state in the first place.\n",
    "\n",
    "1. Prepare ancillary register `seed` in an even superposition of all length $\\eta$ strings of numbers $0,\\dots,f(\\eta)$ where $f(\\eta) \\ge \\eta^2$.  \n",
    "2. Sort `seed` using a reversible sorting network.\n",
    "3. Delete collisions, i.e., remove strings where orbitals are multiply occupied which are forbidden by Pauli exclusion principle.\n",
    "4. Apply reverse sort to `target` register.\n",
    "\n",
    "After step 4. we have an evenly weighted superposition of all possible permutations of the original labels. Controlled phase gates are applied after each swap to ensure the correct phase. This algorithm costs $\\mathcal{O} (\\eta \\log \\eta \\log N)$ $T$ gates. \n",
    "\n",
    "A circuit for this operation is given below:"
   ]
  },
  {
   "cell_type": "code",
   "execution_count": 25,
   "metadata": {},
   "outputs": [
    {
     "data": {
      "image/svg+xml": [
       "<svg xmlns=\"http://www.w3.org/2000/svg\" width=\"192.9040234375\" height=\"450.0\"><line x1=\"30.0\" x2=\"162.9040234375\" y1=\"25.0\" y2=\"25.0\" stroke=\"#1967d2\" stroke-width=\"1\"/><line x1=\"30.0\" x2=\"162.9040234375\" y1=\"75.0\" y2=\"75.0\" stroke=\"#1967d2\" stroke-width=\"1\"/><line x1=\"30.0\" x2=\"162.9040234375\" y1=\"125.0\" y2=\"125.0\" stroke=\"#1967d2\" stroke-width=\"1\"/><line x1=\"30.0\" x2=\"162.9040234375\" y1=\"175.0\" y2=\"175.0\" stroke=\"#1967d2\" stroke-width=\"1\"/><line x1=\"30.0\" x2=\"162.9040234375\" y1=\"225.0\" y2=\"225.0\" stroke=\"#1967d2\" stroke-width=\"1\"/><line x1=\"30.0\" x2=\"162.9040234375\" y1=\"275.0\" y2=\"275.0\" stroke=\"#1967d2\" stroke-width=\"1\"/><line x1=\"30.0\" x2=\"162.9040234375\" y1=\"325.0\" y2=\"325.0\" stroke=\"#1967d2\" stroke-width=\"1\"/><line x1=\"30.0\" x2=\"162.9040234375\" y1=\"375.0\" y2=\"375.0\" stroke=\"#1967d2\" stroke-width=\"1\"/><line x1=\"30.0\" x2=\"162.9040234375\" y1=\"425.0\" y2=\"425.0\" stroke=\"#1967d2\" stroke-width=\"1\"/><line x1=\"106.45201171875\" x2=\"106.45201171875\" y1=\"25.0\" y2=\"425.0\" stroke=\"black\" stroke-width=\"3\"/><rect x=\"10.0\" y=\"5.0\" width=\"40\" height=\"40\" stroke=\"black\" fill=\"white\" stroke-width=\"0\"/><text x=\"30.0\" y=\"25.0\" dominant-baseline=\"middle\" text-anchor=\"middle\" font-size=\"14px\" font-family=\"Arial\">p0: </text><rect x=\"10.0\" y=\"55.0\" width=\"40\" height=\"40\" stroke=\"black\" fill=\"white\" stroke-width=\"0\"/><text x=\"30.0\" y=\"75.0\" dominant-baseline=\"middle\" text-anchor=\"middle\" font-size=\"14px\" font-family=\"Arial\">p1: </text><rect x=\"10.0\" y=\"105.0\" width=\"40\" height=\"40\" stroke=\"black\" fill=\"white\" stroke-width=\"0\"/><text x=\"30.0\" y=\"125.0\" dominant-baseline=\"middle\" text-anchor=\"middle\" font-size=\"14px\" font-family=\"Arial\">p2: </text><rect x=\"10.0\" y=\"155.0\" width=\"40\" height=\"40\" stroke=\"black\" fill=\"white\" stroke-width=\"0\"/><text x=\"30.0\" y=\"175.0\" dominant-baseline=\"middle\" text-anchor=\"middle\" font-size=\"14px\" font-family=\"Arial\">p3: </text><rect x=\"10.0\" y=\"205.0\" width=\"40\" height=\"40\" stroke=\"black\" fill=\"white\" stroke-width=\"0\"/><text x=\"30.0\" y=\"225.0\" dominant-baseline=\"middle\" text-anchor=\"middle\" font-size=\"14px\" font-family=\"Arial\">p4: </text><rect x=\"10.0\" y=\"255.0\" width=\"40\" height=\"40\" stroke=\"black\" fill=\"white\" stroke-width=\"0\"/><text x=\"30.0\" y=\"275.0\" dominant-baseline=\"middle\" text-anchor=\"middle\" font-size=\"14px\" font-family=\"Arial\">p5: </text><rect x=\"10.0\" y=\"305.0\" width=\"40\" height=\"40\" stroke=\"black\" fill=\"white\" stroke-width=\"0\"/><text x=\"30.0\" y=\"325.0\" dominant-baseline=\"middle\" text-anchor=\"middle\" font-size=\"14px\" font-family=\"Arial\">p6: </text><rect x=\"10.0\" y=\"355.0\" width=\"40\" height=\"40\" stroke=\"black\" fill=\"white\" stroke-width=\"0\"/><text x=\"30.0\" y=\"375.0\" dominant-baseline=\"middle\" text-anchor=\"middle\" font-size=\"14px\" font-family=\"Arial\">p7: </text><rect x=\"10.0\" y=\"405.0\" width=\"40\" height=\"40\" stroke=\"black\" fill=\"white\" stroke-width=\"0\"/><text x=\"30.0\" y=\"425.0\" dominant-baseline=\"middle\" text-anchor=\"middle\" font-size=\"14px\" font-family=\"Arial\">p8: </text><rect x=\"70.0\" y=\"5.0\" width=\"72.9040234375\" height=\"40\" stroke=\"black\" fill=\"white\" stroke-width=\"1\"/><text x=\"106.45201171875\" y=\"25.0\" dominant-baseline=\"middle\" text-anchor=\"middle\" font-size=\"14px\" font-family=\"Arial\">AntiSymm</text><rect x=\"70.0\" y=\"55.0\" width=\"72.9040234375\" height=\"40\" stroke=\"black\" fill=\"white\" stroke-width=\"1\"/><text x=\"106.45201171875\" y=\"75.0\" dominant-baseline=\"middle\" text-anchor=\"middle\" font-size=\"14px\" font-family=\"Arial\">AntiSymm</text><rect x=\"70.0\" y=\"105.0\" width=\"72.9040234375\" height=\"40\" stroke=\"black\" fill=\"white\" stroke-width=\"1\"/><text x=\"106.45201171875\" y=\"125.0\" dominant-baseline=\"middle\" text-anchor=\"middle\" font-size=\"14px\" font-family=\"Arial\">AntiSymm</text><rect x=\"70.0\" y=\"155.0\" width=\"72.9040234375\" height=\"40\" stroke=\"black\" fill=\"white\" stroke-width=\"1\"/><text x=\"106.45201171875\" y=\"175.0\" dominant-baseline=\"middle\" text-anchor=\"middle\" font-size=\"14px\" font-family=\"Arial\">AntiSymm</text><rect x=\"70.0\" y=\"205.0\" width=\"72.9040234375\" height=\"40\" stroke=\"black\" fill=\"white\" stroke-width=\"1\"/><text x=\"106.45201171875\" y=\"225.0\" dominant-baseline=\"middle\" text-anchor=\"middle\" font-size=\"14px\" font-family=\"Arial\">AntiSymm</text><rect x=\"70.0\" y=\"255.0\" width=\"72.9040234375\" height=\"40\" stroke=\"black\" fill=\"white\" stroke-width=\"1\"/><text x=\"106.45201171875\" y=\"275.0\" dominant-baseline=\"middle\" text-anchor=\"middle\" font-size=\"14px\" font-family=\"Arial\">AntiSymm</text><rect x=\"70.0\" y=\"305.0\" width=\"72.9040234375\" height=\"40\" stroke=\"black\" fill=\"white\" stroke-width=\"1\"/><text x=\"106.45201171875\" y=\"325.0\" dominant-baseline=\"middle\" text-anchor=\"middle\" font-size=\"14px\" font-family=\"Arial\">AntiSymm</text><rect x=\"70.0\" y=\"355.0\" width=\"72.9040234375\" height=\"40\" stroke=\"black\" fill=\"white\" stroke-width=\"1\"/><text x=\"106.45201171875\" y=\"375.0\" dominant-baseline=\"middle\" text-anchor=\"middle\" font-size=\"14px\" font-family=\"Arial\">AntiSymm</text><rect x=\"70.0\" y=\"405.0\" width=\"72.9040234375\" height=\"40\" stroke=\"black\" fill=\"white\" stroke-width=\"1\"/><text x=\"106.45201171875\" y=\"425.0\" dominant-baseline=\"middle\" text-anchor=\"middle\" font-size=\"14px\" font-family=\"Arial\">AntiSymm</text></svg>"
      ],
      "text/plain": [
       "<IPython.core.display.SVG object>"
      ]
     },
     "execution_count": 25,
     "metadata": {},
     "output_type": "execute_result"
    }
   ],
   "source": [
    "from cirq_qubitization.cirq_algos.initial_states.slater_determinant import AntiSymmetrize\n",
    "\n",
    "eta = 3\n",
    "N = 4\n",
    "bitsize = int(np.ceil(np.log2(N) + 1))\n",
    "g = cq_testing.GateHelper(AntiSymmetrize(eta, bitsize))\n",
    "svg_circuit(g.circuit, registers=g.r)"
   ]
  },
  {
   "attachments": {},
   "cell_type": "markdown",
   "metadata": {},
   "source": [
    "## Including Givens Rotations\n",
    "..."
   ]
  },
  {
   "attachments": {},
   "cell_type": "markdown",
   "metadata": {},
   "source": [
    "\n",
    "## References\n",
    "<a id=\"ref-1\" /> [1] [Improved techniques for preparing eigenstates of fermionic Hamiltonians](https://www.nature.com/articles/s41534-018-0071-5)\n",
    "\n",
    "<a id=\"ref-2\" /> [2] [Fault-Tolerant Quantum Simulations of Chemistry in First Quantization](https://journals.aps.org/prxquantum/abstract/10.1103/PRXQuantum.2.040332)\n",
    "\n",
    "<a id=\"ref-3\" /> [3] [Quantum simulation of exact electron dynamics can be\n",
    "more efficient than classical mean-field methods](https://arxiv.org/pdf/2301.01203.pdf)\n",
    "\n",
    "<a id=\"ref-4\" /> [4] [Quantum Simulation of Electronic Structure with Linear Depth and Connectivity](https://arxiv.org/abs/1711.04789)"
   ]
  },
  {
   "attachments": {},
   "cell_type": "markdown",
   "metadata": {},
   "source": []
  }
 ],
 "metadata": {
  "kernelspec": {
   "display_name": "qubitization",
   "language": "python",
   "name": "python3"
  },
  "language_info": {
   "codemirror_mode": {
    "name": "ipython",
    "version": 3
   },
   "file_extension": ".py",
   "mimetype": "text/x-python",
   "name": "python",
   "nbconvert_exporter": "python",
   "pygments_lexer": "ipython3",
   "version": "3.10.9"
  },
  "orig_nbformat": 4
 },
 "nbformat": 4,
 "nbformat_minor": 2
}
