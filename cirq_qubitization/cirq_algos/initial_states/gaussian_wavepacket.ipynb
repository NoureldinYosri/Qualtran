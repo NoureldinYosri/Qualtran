{
 "cells": [
  {
   "attachments": {},
   "cell_type": "markdown",
   "metadata": {},
   "source": [
    "# Preparing a Gaussian Wavepacket"
   ]
  },
  {
   "cell_type": "code",
   "execution_count": null,
   "metadata": {},
   "outputs": [],
   "source": [
    "import cirq\n",
    "from cirq.contrib.svg import SVGCircuit\n",
    "import numpy as np\n",
    "from typing import *\n",
    "import cirq_qubitization.cirq_infra.testing as cq_testing\n",
    "from cirq_qubitization.jupyter_tools import display_gate_and_compilation, svg_circuit"
   ]
  },
  {
   "attachments": {},
   "cell_type": "markdown",
   "metadata": {},
   "source": [
    "Ref [[1]](#ref-1) outlines how to approximately prepare a 1D Gaussian state (1DGS)\n",
    "\n",
    "$$\n",
    "\n",
    "|G(\\sigma,\\mu)\\rangle = \\frac{1}{\\mathcal{N}} \\int dx e^{-\\left(\\frac{x-\\mu}{\\sigma}\\right)^2} |x\\rangle; \\quad \\mathcal{N}^2 = \\sigma \\sqrt{2\\pi}\n",
    "\n",
    "$$\n",
    "\n",
    "which is approximated by a discreted 1DGS\n",
    "\n",
    "$$\n",
    "\n",
    "|G_{\\mathrm{KW}}(\\sigma,\\mu)\\rangle = \\sum_{i\\in\\mathbb{Z}} G_(\\sigma,\\mu;i)|i \\rangle\n",
    "\n",
    "$$\n",
    "\n",
    "where\n",
    "\n",
    "$$\n",
    "G(\\sigma,\\mu;i) = \\frac{1}{\\mathcal{N}(\\sigma,\\mu)} e^{\\frac{(i-\\mu)^2}{4\\sigma^2}}, \\quad \\mathcal{N}(\\sigma,\\mu) = \\sum_{i\\in\\mathbb{Z}} e^{\\frac{(i-\\mu)^2}{4\\sigma^2}}.\n",
    "\n",
    "$$\n",
    "\n",
    "In practice, we further approximate \n",
    "\n",
    "$$\n",
    "G_{\\mathrm{KW}}(\\sigma,\\mu,i) \\approx \\sum_j^{2^m-1}G_{\\mathrm{KW}}(\\sigma,\\mu,i+j2^m).\n",
    "$$\n",
    "\n",
    "There are then two approximations: 1) the representation of a Gaussian state defined for continuous values of the position, and 2) the description of this discretized Gaussian using a fixed prescision real numbers, i.e. every real number is associated with a $p$-bit integer. The question is then how to generate this state, and how much do these approximations matter in practice.\n",
    "\n",
    "\n",
    "In our case we just want to prepare the state\n",
    "\n",
    "$$\n",
    "\n",
    "\\psi(k) = C e^{-(k-\\mu)^2/4\\sigma^2}\n",
    "\n",
    "$$\n",
    "\n",
    "which can be approximated as\n",
    "\n",
    "\n",
    "$$\n",
    "\n",
    "|\\psi \\rangle = \\tilde{C} \\sum_n \\delta e^{-n^2/(4\\tilde{\\sigma})^2} |\\delta n\\rangle\n",
    "\n",
    "$$\n",
    "\n",
    "where $k$ is a continuous variable in principle. In practice $k$ lives on a discrete grid given by $[-2\\pi n/L, 2\\pi/L)$, where $L$ is the size of the supercell, and the range of $n$ is usually fixed by the planewave cutoff, $\\frac{1}{2}(k_{\\max}-k_{\\mathrm{mean}})^2 \\le E_{\\mathrm{cut}}$, which for us is typically $n \\approx 61$, $\\delta = 2\\pi/L$\n",
    "\n",
    "The second approach is to use an idea similar to alias sampling described in the linear-T complexity paper. At a high level we can classically compute the amplitudes, load these into a register and probabilistically sample from this distribution such that some uniformly prepared initial state ends up in a correctly weighted state."
   ]
  },
  {
   "attachments": {},
   "cell_type": "markdown",
   "metadata": {},
   "source": [
    "\n",
    "## References\n",
    "<a id=\"ref-1\" /> [1] [Nearly optimal quantum algorithm for generating the ground state\n",
    "of a free quantum field theory](https://arxiv.org/pdf/2110.05708.pdf)\n"
   ]
  },
  {
   "attachments": {},
   "cell_type": "markdown",
   "metadata": {},
   "source": []
  }
 ],
 "metadata": {
  "kernelspec": {
   "display_name": "qubitization",
   "language": "python",
   "name": "python3"
  },
  "language_info": {
   "codemirror_mode": {
    "name": "ipython",
    "version": 3
   },
   "file_extension": ".py",
   "mimetype": "text/x-python",
   "name": "python",
   "nbconvert_exporter": "python",
   "pygments_lexer": "ipython3",
   "version": "3.10.9"
  },
  "orig_nbformat": 4
 },
 "nbformat": 4,
 "nbformat_minor": 2
}
