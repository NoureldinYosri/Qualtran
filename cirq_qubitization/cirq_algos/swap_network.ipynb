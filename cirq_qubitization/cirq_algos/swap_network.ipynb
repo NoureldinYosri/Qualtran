{
 "cells": [
  {
   "cell_type": "markdown",
   "id": "f31db18a",
   "metadata": {
    "cq.autogen": "title_cell"
   },
   "source": [
    "# Swap Network"
   ]
  },
  {
   "cell_type": "code",
   "execution_count": null,
   "id": "9354e0b6",
   "metadata": {
    "cq.autogen": "top_imports"
   },
   "outputs": [],
   "source": [
    "import cirq\n",
    "import numpy as np\n",
    "import cirq_qubitization\n",
    "import cirq_qubitization.cirq_infra.testing as cq_testing\n",
    "from cirq_qubitization.jupyter_tools import display_gate_and_compilation, show_bloq\n",
    "from typing import *"
   ]
  },
  {
   "cell_type": "markdown",
   "id": "f0727311",
   "metadata": {
    "cq.autogen": "_make_MultiTargetCSwap.md"
   },
   "source": [
    "## `MultiTargetCSwap`\n",
    "Implements a multi-target controlled swap unitary $CSWAP_n = |0><0| I + |1><1| SWAP_n$.\n",
    "\n",
    "This decomposes into a qubitwise SWAP on the two target registers, and takes 14*n T-gates.\n",
    "\n",
    "#### References\n",
    "[Trading T-gates for dirty qubits in state preparation and unitary synthesis](https://arxiv.org/abs/1812.00954). Low et. al. 2018. See Appendix B.2.c.\n"
   ]
  },
  {
   "cell_type": "code",
   "execution_count": null,
   "id": "253b1d6a",
   "metadata": {
    "cq.autogen": "_make_MultiTargetCSwap.py"
   },
   "outputs": [],
   "source": [
    "from cirq_qubitization.cirq_algos.swap_network import MultiTargetCSwap\n",
    "\n",
    "g = cq_testing.GateHelper(\n",
    "    MultiTargetCSwap(3)\n",
    ")\n",
    "\n",
    "display_gate_and_compilation(g)"
   ]
  },
  {
   "cell_type": "markdown",
   "id": "4a5975fd",
   "metadata": {
    "cq.autogen": "_make_MultiTargetCSwapApprox.md"
   },
   "source": [
    "## `MultiTargetCSwapApprox`\n",
    "Approximately implements a multi-target controlled swap unitary using only 4 * n T-gates.\n",
    "\n",
    "Implements the unitary $CSWAP_n = |0><0| I + |1><1| SWAP_n$ such that the output state is\n",
    "correct up to a global phase factor of +1 / -1.\n",
    "\n",
    "This is useful when the incorrect phase can be absorbed in a garbage state of an algorithm; and\n",
    "thus ignored, see the reference for more details.\n",
    "\n",
    "#### References\n",
    "[Trading T-gates for dirty qubits in state preparation and unitary synthesis](https://arxiv.org/abs/1812.00954). Low et. al. 2018. See Appendix B.2.c.\n"
   ]
  },
  {
   "cell_type": "code",
   "execution_count": null,
   "id": "972e5895",
   "metadata": {
    "cq.autogen": "_make_MultiTargetCSwapApprox.py"
   },
   "outputs": [],
   "source": [
    "from cirq_qubitization.cirq_algos.swap_network import MultiTargetCSwapApprox\n",
    "\n",
    "g = cq_testing.GateHelper(\n",
    "    MultiTargetCSwapApprox(2)\n",
    ")\n",
    "\n",
    "display_gate_and_compilation(g)"
   ]
  },
  {
   "cell_type": "markdown",
   "id": "62c48f8a",
   "metadata": {
    "cq.autogen": "_make_SwapWithZeroGate.md"
   },
   "source": [
    "## `SwapWithZeroGate`\n",
    "Swaps |Psi_0> with |Psi_x> if selection register stores index `x`.\n",
    "\n",
    "Implements the unitary U |x> |Psi_0> |Psi_1> ... |Psi_{n-1}> --> |x> |Psi_x> |Rest of Psi>.\n",
    "Note that the state of `|Rest of Psi>` is allowed to be anything and should not be depended\n",
    "upon.\n",
    "\n",
    "#### References\n",
    "[Trading T-gates for dirty qubits in state preparation and unitary synthesis] (https://arxiv.org/abs/1812.00954). Low, Kliuchnikov, Schaeffer. 2018.\n"
   ]
  },
  {
   "cell_type": "code",
   "execution_count": null,
   "id": "6fd2a63b",
   "metadata": {
    "scrolled": true
   },
   "outputs": [],
   "source": [
    "from cirq_qubitization.bloq_algos.swap_network import SwapWithZero, MultiTargetCSwap\n",
    "show_bloq(SwapWithZero(2, 3, 4))"
   ]
  },
  {
   "cell_type": "code",
   "execution_count": null,
   "id": "074d8ef0",
   "metadata": {},
   "outputs": [],
   "source": [
    "SwapWithZero(4, 1, 10).t_complexity()"
   ]
  },
  {
   "cell_type": "code",
   "execution_count": null,
   "id": "0c3e28d8",
   "metadata": {
    "scrolled": false
   },
   "outputs": [],
   "source": [
    "show_bloq(SwapWithZero(2, 3, 4).decompose_bloq())"
   ]
  },
  {
   "cell_type": "code",
   "execution_count": null,
   "id": "6adbc69e",
   "metadata": {},
   "outputs": [],
   "source": [
    "show_bloq(MultiTargetCSwap(3))"
   ]
  },
  {
   "cell_type": "code",
   "execution_count": null,
   "id": "b2cfe5f5",
   "metadata": {},
   "outputs": [],
   "source": [
    "show_bloq(MultiTargetCSwap(3).decompose_bloq())"
   ]
  },
  {
   "cell_type": "code",
   "execution_count": null,
   "id": "772467f6",
   "metadata": {
    "cq.autogen": "_make_SwapWithZeroGate.py",
    "scrolled": false
   },
   "outputs": [],
   "source": [
    "from cirq_qubitization.cirq_algos.swap_network import SwapWithZeroGate\n",
    "\n",
    "g = cq_testing.GateHelper(\n",
    "    SwapWithZeroGate(selection_bitsize=2, target_bitsize=3, n_target_registers=4)\n",
    ")\n",
    "\n",
    "display_gate_and_compilation(g)"
   ]
  },
  {
   "cell_type": "code",
   "execution_count": null,
   "id": "0ff7f501",
   "metadata": {},
   "outputs": [],
   "source": [
    "g.circuit"
   ]
  },
  {
   "cell_type": "code",
   "execution_count": null,
   "id": "cb29e9b8",
   "metadata": {
    "scrolled": false
   },
   "outputs": [],
   "source": [
    "cirq.final_state_vector(g.circuit)"
   ]
  },
  {
   "cell_type": "code",
   "execution_count": null,
   "id": "14434b04",
   "metadata": {},
   "outputs": [],
   "source": [
    "gate = SwapWithZeroGate(selection_bitsize=2, target_bitsize=3, n_target_registers=4)\n",
    "gate"
   ]
  },
  {
   "cell_type": "code",
   "execution_count": null,
   "id": "72b3cd3a",
   "metadata": {},
   "outputs": [],
   "source": [
    "gate.decompose_from_registers(**g.quregs)"
   ]
  },
  {
   "cell_type": "code",
   "execution_count": null,
   "id": "a1b4aa15",
   "metadata": {},
   "outputs": [],
   "source": [
    "b = SwapWithZero(2, 3, 4)\n",
    "b.decompose_bloq().to_cirq_circuit(b.registers.get_cirq_quregs())"
   ]
  }
 ],
 "metadata": {
  "kernelspec": {
   "display_name": "Python 3 (ipykernel)",
   "language": "python",
   "name": "python3"
  },
  "language_info": {
   "codemirror_mode": {
    "name": "ipython",
    "version": 3
   },
   "file_extension": ".py",
   "mimetype": "text/x-python",
   "name": "python",
   "nbconvert_exporter": "python",
   "pygments_lexer": "ipython3",
   "version": "3.10.9"
  }
 },
 "nbformat": 4,
 "nbformat_minor": 5
}
