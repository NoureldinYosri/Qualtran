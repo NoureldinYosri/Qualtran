{
 "cells": [
  {
   "cell_type": "code",
   "execution_count": null,
   "id": "28e8e5aa",
   "metadata": {},
   "outputs": [],
   "source": [
    "from functools import cached_property\n",
    "from typing import Any, Dict, Tuple, TYPE_CHECKING\n",
    "\n",
    "import cirq\n",
    "import numpy as np\n",
    "import quimb.tensor as qtn\n",
    "from attrs import frozen\n",
    "from numpy.typing import NDArray\n",
    "from typing import * # TODO\n",
    "\n",
    "from cirq_qubitization import cirq_infra\n",
    "from cirq_qubitization.bloq_algos.and_bloq import And\n",
    "from cirq_qubitization.bloq_algos.basic_gates import XGate, CNOT\n",
    "from cirq_qubitization.bloq_algos.basic_gates.swap import CSwap\n",
    "from cirq_qubitization.quantum_graph.bloq import Bloq\n",
    "from cirq_qubitization.quantum_graph.composite_bloq import CompositeBloqBuilder, SoquetT\n",
    "from cirq_qubitization.quantum_graph.fancy_registers import FancyRegister, FancyRegisters\n",
    "from cirq_qubitization.quantum_graph.quantum_graph import Soquet\n",
    "from cirq_qubitization.t_complexity_protocol import t_complexity, TComplexity\n",
    "\n",
    "from cirq_qubitization.jupyter_tools import show_bloq"
   ]
  },
  {
   "cell_type": "code",
   "execution_count": null,
   "id": "07ba618c",
   "metadata": {},
   "outputs": [],
   "source": [
    "from cirq_qubitization.bloq_algos.unary_iteration import *\n",
    "\n",
    "from cirq_qubitization.bloq_algos.set_constant import SetConstant"
   ]
  },
  {
   "cell_type": "code",
   "execution_count": null,
   "id": "b6a3db99",
   "metadata": {},
   "outputs": [],
   "source": [
    "(10).bit_length()"
   ]
  },
  {
   "cell_type": "code",
   "execution_count": null,
   "id": "b3d642d6",
   "metadata": {},
   "outputs": [],
   "source": [
    "(8).bit_length()"
   ]
  },
  {
   "cell_type": "code",
   "execution_count": null,
   "id": "6f8b99a5",
   "metadata": {},
   "outputs": [],
   "source": [
    "n_items = 10\n",
    "system_bitsize = 32\n",
    "bloqs = tuple(SetConstant(k=k, bitsize=system_bitsize) for k in range(n_items))\n",
    "ui = IndexedBloq(\n",
    "    selection_bitsize=(n_items-1).bit_length(),\n",
    "    target_bitsize=system_bitsize,\n",
    "    bloqs=bloqs,\n",
    "    target_reg_name='x',\n",
    ")\n",
    "show_bloq(ui)"
   ]
  },
  {
   "cell_type": "code",
   "execution_count": null,
   "id": "29806d50",
   "metadata": {},
   "outputs": [],
   "source": [
    "cbloq = ui.decompose_bloq()\n",
    "show_bloq(cbloq)"
   ]
  },
  {
   "cell_type": "code",
   "execution_count": null,
   "id": "59b93dd3",
   "metadata": {},
   "outputs": [],
   "source": [
    "from cirq_qubitization.quantum_graph.musical_score import get_musical_score_data, draw_musical_score, LineManager, dump_musical_score\n",
    "from cirq_qubitization.quantum_graph.quantum_graph import LeftDangle, DanglingT\n",
    "from cirq_qubitization.quantum_graph.util_bloqs import Split, Join\n",
    "from cirq_qubitization.quantum_graph.fancy_registers import Side\n",
    "import heapq\n",
    "\n",
    "# class MyLineManager(LineManager):\n",
    "#     def new_y(self, binst, reg, idx=None):\n",
    "#         if binst is LeftDangle and reg.name == 'target':\n",
    "#             self.available.remove(10)\n",
    "#             return 10\n",
    "        \n",
    "#         if isinstance(binst, DanglingT):\n",
    "#             return super().new_y(binst, reg, idx)\n",
    "        \n",
    "#         if isinstance(binst.bloq, Split):\n",
    "#             i, = idx\n",
    "#             m = 2*i + 2\n",
    "#             self.available.remove(m)\n",
    "#             return m\n",
    "        \n",
    "#         if isinstance(binst.bloq, Join):\n",
    "#             heapq.heappush(self.available, self.split_y)\n",
    "        \n",
    "#         return super().new_y(binst, reg, idx)\n",
    "    \n",
    "#     def free(self, binst, reg, arr):\n",
    "#         if isinstance(binst, DanglingT):\n",
    "#             return super().free(binst, reg, arr)\n",
    "        \n",
    "#         if isinstance(binst.bloq, Split):\n",
    "#             self.finish_hline(arr.y, arr.seq_x)\n",
    "#             self.split_y = arr.y\n",
    "#             # Don't make it available\n",
    "#             return\n",
    "            \n",
    "#         return super().free(binst, reg, arr)\n",
    "        \n",
    "\n",
    "class MyLineManager(LineManager):\n",
    "    def maybe_reserve(self, binst, reg, idx):\n",
    "        if binst is LeftDangle and reg.name == 'selection':\n",
    "            self.reserve_n(reg.bitsize*2, lambda b,r: b.bloq_is(Split))\n",
    "            \n",
    "        if binst.bloq_is(Split):\n",
    "            if reg.side is Side.LEFT:\n",
    "                self.reserve_n(1, lambda b, r: b.bloq_is(Join))\n",
    "            if reg.side is Side.RIGHT:\n",
    "                self.reserve_n(1, lambda b, r: True)\n",
    "        \n",
    "\n",
    "msd = get_musical_score_data(cbloq, MyLineManager())\n",
    "fig, ax = draw_musical_score(msd)\n",
    "fig.set_figwidth(0.4*40)\n",
    "fig.tight_layout()"
   ]
  },
  {
   "cell_type": "code",
   "execution_count": null,
   "id": "7e335232",
   "metadata": {},
   "outputs": [],
   "source": [
    "dump_musical_score(msd, 'ui_decomp')"
   ]
  }
 ],
 "metadata": {
  "kernelspec": {
   "display_name": "Python 3 (ipykernel)",
   "language": "python",
   "name": "python3"
  },
  "language_info": {
   "codemirror_mode": {
    "name": "ipython",
    "version": 3
   },
   "file_extension": ".py",
   "mimetype": "text/x-python",
   "name": "python",
   "nbconvert_exporter": "python",
   "pygments_lexer": "ipython3",
   "version": "3.10.9"
  }
 },
 "nbformat": 4,
 "nbformat_minor": 5
}
