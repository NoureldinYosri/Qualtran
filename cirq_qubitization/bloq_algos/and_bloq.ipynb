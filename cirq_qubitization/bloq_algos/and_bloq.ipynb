{
 "cells": [
  {
   "cell_type": "markdown",
   "id": "0fe14f49",
   "metadata": {
    "cq.autogen": "title_cell"
   },
   "source": [
    "# And"
   ]
  },
  {
   "cell_type": "code",
   "execution_count": null,
   "id": "47e0d2c9",
   "metadata": {
    "cq.autogen": "top_imports"
   },
   "outputs": [],
   "source": [
    "import cirq\n",
    "import numpy as np\n",
    "import cirq_qubitization\n",
    "import cirq_qubitization.cirq_infra.testing as cq_testing\n",
    "from cirq_qubitization.jupyter_tools import display_gate_and_compilation, show_bloq\n",
    "from typing import *"
   ]
  },
  {
   "cell_type": "markdown",
   "id": "dd63e8be",
   "metadata": {
    "cq.autogen": "_make_and.md"
   },
   "source": [
    "## `And`\n",
    "A two-bit and operation.\n",
    "\n",
    "#### Parameters\n",
    " - `cv1`: Whether the first bit is a positive control.\n",
    " - `cv2`: Whether the second bit is a positive control. \n",
    "\n",
    "Registers:\n",
    " - ctrl: A two-bit control register.\n",
    " - (right) target: The output bit.\n",
    "\n",
    "#### References\n",
    "(Encoding Electronic Spectra in Quantum Circuits with Linear T Complexity)[https://arxiv.org/abs/1805.03662]. Babbush et. al. 2018. Section III.A. and Fig. 4. (Verifying Measurement Based Uncomputation)[https://algassert.com/post/1903]. Gidney, C. 2019.\n"
   ]
  },
  {
   "cell_type": "code",
   "execution_count": null,
   "id": "4c4ec376",
   "metadata": {
    "cq.autogen": "_make_and.py"
   },
   "outputs": [],
   "source": [
    "from cirq_qubitization.bloq_algos.and_bloq import And\n",
    "\n",
    "bloq = And()\n",
    "show_bloq(bloq)"
   ]
  },
  {
   "cell_type": "markdown",
   "id": "9f0b6b69",
   "metadata": {},
   "source": [
    "### Test `adjoint`"
   ]
  },
  {
   "cell_type": "code",
   "execution_count": null,
   "id": "3750053b",
   "metadata": {},
   "outputs": [],
   "source": [
    "from cirq_qubitization.quantum_graph.composite_bloq import CompositeBloqBuilder, FancyRegisters\n",
    "\n",
    "bb = CompositeBloqBuilder()\n",
    "q0 = bb.add_register('q0', 1)\n",
    "q1 = bb.add_register('q1', 1)\n",
    "qs, trg = bb.add(And(), ctrl=[q0, q1])\n",
    "(qs,) = bb.add(And(adjoint=True), ctrl=qs, target=trg)\n",
    "cbloq = bb.finalize(q0=qs[0], q1=qs[1])\n",
    "\n",
    "show_bloq(cbloq)"
   ]
  },
  {
   "cell_type": "code",
   "execution_count": null,
   "id": "a65ce1f3",
   "metadata": {},
   "outputs": [],
   "source": [
    "import numpy as np\n",
    "\n",
    "mat = cbloq.tensor_contract()\n",
    "np.testing.assert_allclose(np.eye(4), mat)\n",
    "mat"
   ]
  },
  {
   "cell_type": "markdown",
   "id": "faeca991",
   "metadata": {},
   "source": [
    "## `MultiAnd`\n",
    "A many-bit (multi-control) 'and' operation.\n",
    "\n",
    "#### Parameters\n",
    " - `cvs`: A tuple of control variable settings. Each entry specifies whether that control line is a \"positive\" control (`cv[i]=1`) or a \"negative\" control `0`. \n",
    "\n",
    "Registers:\n",
    " - ctrl: An n-bit control register.\n",
    " - (right) An `n-2` bit junk register to be cleaned up by the inverse operation.\n",
    " - (right) target: The output bit."
    "## Apply Classical"
   ]
  },
  {
   "cell_type": "code",
   "execution_count": null,
   "id": "c8701a60",
   "metadata": {},
   "outputs": [],
   "source": [
    "ctrl = np.array([[1], [1]])\n",
    "\n",
    "And().apply_classical(ctrl=ctrl)"
   ]
  },
  {
   "cell_type": "code",
   "execution_count": null,
   "id": "de27f40d",
   "metadata": {},
   "outputs": [],
   "source": [
    "from cirq_qubitization.bloq_algos.and_bloq import MultiAnd\n",
    "bloq = MultiAnd((1,1,1))\n",
    "show_bloq(bloq.decompose_bloq())"
   ]
  },
  {
   "cell_type": "code",
   "execution_count": null,
   "id": "f93ce8ed",
   "metadata": {
    "scrolled": false
   },
   "outputs": [],
   "source": [
    "from cirq_qubitization.bloq_algos.and_bloq import MultiAnd\n",
    "bloq = MultiAnd((1,1,1,1))\n",
    "show_bloq(bloq.decompose_bloq())"
   ]
  },
  {
   "cell_type": "code",
   "execution_count": null,
   "id": "e6965536",
   "metadata": {},
   "outputs": [],
   "source": [
    "ctrl = [1,1,1,1]\n",
    "ctrl = np.array(ctrl)\n",
    "ctrl = ctrl[:, np.newaxis]\n",
    "bloq.apply_classical(ctrl=ctrl)"
   ]
  },
  {
   "cell_type": "code",
   "execution_count": null,
   "id": "f4406797",
   "metadata": {},
   "outputs": [],
   "source": [
    "bloq = MultiAnd((1,1,1,1))\n",
    "show_bloq(bloq)"
   ]
  },
  {
   "cell_type": "code",
   "execution_count": null,
   "id": "9a502db4",
   "metadata": {},
   "outputs": [],
   "source": [
    "from cirq_qubitization.quantum_graph.classical_sim import _cbloq_apply_classical\n",
    "\n",
    "ctrl = [1,1,0,1]\n",
    "ctrl = np.array(ctrl)\n",
    "ctrl = ctrl[:, np.newaxis]\n",
    "\n",
    "\n",
    "cbloq = bloq.decompose_bloq()\n",
    "data = {'ctrl': ctrl}\n",
    "\n",
    "from cirq_qubitization.quantum_graph.graphviz import ClassicalSimGraphDrawer\n",
    "from IPython.display import SVG\n",
    "\n",
    "SVG(ClassicalSimGraphDrawer(cbloq, data=data).get_graph().create_svg())\n",
    "\n"
   ]
  },
  {
   "cell_type": "code",
   "execution_count": null,
   "id": "f93ce8ed",
   "metadata": {
    "scrolled": false
   },
   "outputs": [],
   "source": [
    "from cirq_qubitization.bloq_algos.and_bloq import MultiAnd\n",
    "bloq = MultiAnd((1,1,1,1))\n",
    "show_bloq(bloq.decompose_bloq())"
   ]
  },
  {
   "cell_type": "markdown",
   "id": "faeca991",
   "metadata": {},
   "source": [
    "## Classical Simulation\n",
    "\n",
    "The `And` gate is classical logic, so we can simulate it on discrete bitstrings."
   ]
  },
  {
   "cell_type": "code",
   "execution_count": null,
   "id": "c8701a60",
   "metadata": {},
   "outputs": [],
   "source": [
    "ctrl = np.array([[1], [1]])\n",
    "And().apply_classical(ctrl=ctrl)"
   ]
  },
  {
   "cell_type": "code",
   "execution_count": null,
   "id": "e6965536",
   "metadata": {},
   "outputs": [],
   "source": [
    "ctrl = [1,1,1,1]\n",
    "ctrl = np.array(ctrl)\n",
    "ctrl = ctrl[:, np.newaxis]\n",
    "MultiAnd((1,1,1,1)).apply_classical(ctrl=ctrl)"
   ]
  },
  {
   "cell_type": "code",
   "execution_count": null,
   "id": "9a502db4",
   "metadata": {},
   "outputs": [],
   "source": [
    "from cirq_qubitization.quantum_graph.classical_sim import _cbloq_apply_classical\n",
    "\n",
    "ctrl = [1,1,0,1]\n",
    "ctrl = np.array(ctrl, dtype=np.uint8)\n",
    "ctrl = ctrl[:, np.newaxis]\n",
    "\n",
    "\n",
    "cbloq = MultiAnd((1,1,1,1)).decompose_bloq()\n",
    "data = {'ctrl': ctrl}\n",
    "\n",
    "from cirq_qubitization.quantum_graph.graphviz import ClassicalSimGraphDrawer\n",
    "ClassicalSimGraphDrawer(cbloq, data=data).get_svg()"
   ]
  }
 ],
 "metadata": {
  "kernelspec": {
   "display_name": "Python 3 (ipykernel)",
   "language": "python",
   "name": "python3"
  },
  "language_info": {
   "codemirror_mode": {
    "name": "ipython",
    "version": 3
   },
   "file_extension": ".py",
   "mimetype": "text/x-python",
   "name": "python",
   "nbconvert_exporter": "python",
   "pygments_lexer": "ipython3",
   "version": "3.10.9"
  }
 },
 "nbformat": 4,
 "nbformat_minor": 5
}
