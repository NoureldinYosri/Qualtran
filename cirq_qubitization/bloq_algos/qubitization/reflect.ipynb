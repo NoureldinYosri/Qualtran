{
 "cells": [
  {
   "cell_type": "code",
   "execution_count": null,
   "id": "76c34d8e",
   "metadata": {},
   "outputs": [],
   "source": [
    "from cirq_qubitization.jupyter_tools import show_bloq\n",
    "\n",
    "from cirq_qubitization.bloq_algos.qubitization.prepare import BlackBoxPrepare, DummyPrepare\n",
    "from cirq_qubitization.bloq_algos.qubitization.reflect import Reflect"
   ]
  },
  {
   "cell_type": "code",
   "execution_count": null,
   "id": "5da34ff9",
   "metadata": {},
   "outputs": [],
   "source": [
    "r = Reflect(BlackBoxPrepare(DummyPrepare()), cv=None)\n",
    "show_bloq(r.decompose_bloq())"
   ]
  },
  {
   "cell_type": "code",
   "execution_count": null,
   "id": "f828c631",
   "metadata": {},
   "outputs": [],
   "source": [
    "r = Reflect(BlackBoxPrepare(DummyPrepare()), cv=1)\n",
    "show_bloq(r.decompose_bloq())"
   ]
  },
  {
   "cell_type": "code",
   "execution_count": null,
   "id": "3e3ef62c",
   "metadata": {},
   "outputs": [],
   "source": [
    "bprep = BlackBoxPrepare(DummyPrepare())\n",
    "show_bloq(bprep)"
   ]
  },
  {
   "cell_type": "code",
   "execution_count": null,
   "id": "b7597baf",
   "metadata": {},
   "outputs": [],
   "source": [
    "show_bloq(DummyPrepare())"
   ]
  },
  {
   "cell_type": "code",
   "execution_count": null,
   "id": "67a42a40",
   "metadata": {},
   "outputs": [],
   "source": [
    "show_bloq(bprep.decompose_bloq())"
   ]
  }
 ],
 "metadata": {
  "kernelspec": {
   "display_name": "Python 3 (ipykernel)",
   "language": "python",
   "name": "python3"
  },
  "language_info": {
   "codemirror_mode": {
    "name": "ipython",
    "version": 3
   },
   "file_extension": ".py",
   "mimetype": "text/x-python",
   "name": "python",
   "nbconvert_exporter": "python",
   "pygments_lexer": "ipython3",
   "version": "3.10.9"
  }
 },
 "nbformat": 4,
 "nbformat_minor": 5
}
