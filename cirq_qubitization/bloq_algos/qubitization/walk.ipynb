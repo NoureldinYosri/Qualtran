{
 "cells": [
  {
   "cell_type": "code",
   "execution_count": null,
   "id": "a55ff488",
   "metadata": {},
   "outputs": [],
   "source": [
    "from cirq_qubitization.jupyter_tools import show_bloq\n",
    "from cirq_qubitization.quantum_graph.musical_score import get_musical_score_data, draw_musical_score, dump_musical_score\n",
    "\n",
    "from cirq_qubitization.bloq_algos.qubitization.prepare import BlackBoxPrepare, DummyPrepare\n",
    "from cirq_qubitization.bloq_algos.qubitization.selectt import BlackBoxSelect, DummySelect\n",
    "from cirq_qubitization.bloq_algos.qubitization.reflect import Reflect\n",
    "from cirq_qubitization.bloq_algos.qubitization.walk import Walk"
   ]
  },
  {
   "cell_type": "code",
   "execution_count": null,
   "id": "4f04d755",
   "metadata": {},
   "outputs": [],
   "source": [
    "w = Walk(\n",
    "    select=BlackBoxSelect(DummySelect()),\n",
    "    prepare=BlackBoxPrepare(DummyPrepare()),\n",
    "    cv=1,\n",
    "    power=1,\n",
    ")"
   ]
  },
  {
   "cell_type": "code",
   "execution_count": null,
   "id": "536ad28a",
   "metadata": {},
   "outputs": [],
   "source": [
    "show_bloq(w)"
   ]
  },
  {
   "cell_type": "code",
   "execution_count": null,
   "id": "b6393bd6",
   "metadata": {},
   "outputs": [],
   "source": [
    "fig, ax = draw_musical_score(get_musical_score_data(w.as_composite_bloq()))"
   ]
  },
  {
   "cell_type": "code",
   "execution_count": null,
   "id": "1beebb7f",
   "metadata": {},
   "outputs": [],
   "source": [
    "from cirq_qubitization.quantum_graph.meta_bloq import ControlledBloq\n",
    "cw = ControlledBloq(w)\n",
    "show_bloq(cw)"
   ]
  },
  {
   "cell_type": "code",
   "execution_count": null,
   "id": "3acb4dc9",
   "metadata": {},
   "outputs": [],
   "source": [
    "show_bloq(w.decompose_bloq())"
   ]
  },
  {
   "cell_type": "code",
   "execution_count": null,
   "id": "9f2e773a",
   "metadata": {},
   "outputs": [],
   "source": [
    "show_bloq(cw.decompose_bloq())"
   ]
  },
  {
   "cell_type": "code",
   "execution_count": null,
   "id": "d8a0fb0b",
   "metadata": {},
   "outputs": [],
   "source": [
    "w3 = w.decompose_bloq().flatten_once(lambda binst: isinstance(binst.bloq, Reflect))\n",
    "show_bloq(w3)"
   ]
  },
  {
   "cell_type": "code",
   "execution_count": null,
   "id": "8bf32718",
   "metadata": {},
   "outputs": [],
   "source": [
    "draw_musical_score(get_musical_score_data(w3))"
   ]
  },
  {
   "cell_type": "code",
   "execution_count": null,
   "id": "5c6b265a",
   "metadata": {},
   "outputs": [],
   "source": [
    "cw3 = cw.decompose_bloq().flatten_once(lambda binst: isinstance(binst.bloq, Reflect))\n",
    "show_bloq(cw3)"
   ]
  },
  {
   "cell_type": "code",
   "execution_count": null,
   "id": "4542f09d",
   "metadata": {},
   "outputs": [],
   "source": [
    "draw_musical_score(get_musical_score_data(cw3))"
   ]
  },
  {
   "cell_type": "markdown",
   "id": "a00225eb",
   "metadata": {},
   "source": [
    "# Phase estimation"
   ]
  },
  {
   "cell_type": "code",
   "execution_count": null,
   "id": "f7163b26",
   "metadata": {},
   "outputs": [],
   "source": [
    "from cirq_qubitization.bloq_algos.qubitization.phase_estimation import phase_estimation"
   ]
  },
  {
   "cell_type": "code",
   "execution_count": null,
   "id": "4d9b6674",
   "metadata": {},
   "outputs": [],
   "source": [
    "pe = phase_estimation(w, m=4)"
   ]
  },
  {
   "cell_type": "code",
   "execution_count": null,
   "id": "990cb87f",
   "metadata": {},
   "outputs": [],
   "source": [
    "#from cirq_qubitization.quantum_graph.graphviz import SoqGraphDrawer"
   ]
  },
  {
   "cell_type": "code",
   "execution_count": null,
   "id": "c067f987",
   "metadata": {},
   "outputs": [],
   "source": [
    "#gg = SoqGraphDrawer(pe).get_graph()"
   ]
  },
  {
   "cell_type": "code",
   "execution_count": null,
   "id": "d88d379a",
   "metadata": {},
   "outputs": [],
   "source": [
    "#print(gg.create(format='dot').decode())"
   ]
  },
  {
   "cell_type": "code",
   "execution_count": null,
   "id": "87de0210",
   "metadata": {
    "scrolled": false
   },
   "outputs": [],
   "source": [
    "#import json\n",
    "#layout = json.loads(gg.create(format='dot_json'))\n",
    "#layout.keys()"
   ]
  },
  {
   "cell_type": "code",
   "execution_count": null,
   "id": "c0c7f345",
   "metadata": {},
   "outputs": [],
   "source": [
    "#o = SoqGraphDrawer(pe).get_svg()\n",
    "#o"
   ]
  },
  {
   "cell_type": "code",
   "execution_count": null,
   "id": "b01edd86",
   "metadata": {},
   "outputs": [],
   "source": [
    "show_bloq(pe)"
   ]
  },
  {
   "cell_type": "code",
   "execution_count": null,
   "id": "8c603a30",
   "metadata": {},
   "outputs": [],
   "source": [
    "from cirq_qubitization.quantum_graph.musical_score import LineManager\n",
    "from cirq_qubitization.quantum_graph.util_bloqs import Split, Join\n",
    "from cirq_qubitization.quantum_graph.quantum_graph import LeftDangle, DanglingT\n",
    "\n",
    "class MyLineManager(LineManager):\n",
    "    def maybe_reserve(self, binst, reg, idx):\n",
    "        if binst is LeftDangle and reg.name == 'phase':\n",
    "            self.reserve_n(reg.bitsize, lambda b, r: not isinstance(b, DanglingT) and isinstance(b.bloq, Split))\n",
    "\n",
    "\n",
    "msd = get_musical_score_data(pe, MyLineManager())\n",
    "dump_musical_score(msd, 'phase_estimation')\n",
    "fig, ax = draw_musical_score(msd)\n",
    "fig.set_figwidth(16*0.8)\n",
    "fig.tight_layout()"
   ]
  }
 ],
 "metadata": {
  "kernelspec": {
   "display_name": "Python 3 (ipykernel)",
   "language": "python",
   "name": "python3"
  },
  "language_info": {
   "codemirror_mode": {
    "name": "ipython",
    "version": 3
   },
   "file_extension": ".py",
   "mimetype": "text/x-python",
   "name": "python",
   "nbconvert_exporter": "python",
   "pygments_lexer": "ipython3",
   "version": "3.10.9"
  }
 },
 "nbformat": 4,
 "nbformat_minor": 5
}
