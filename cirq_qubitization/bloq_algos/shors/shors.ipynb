{
 "cells": [
  {
   "cell_type": "code",
   "execution_count": null,
   "id": "d67bcdd5",
   "metadata": {},
   "outputs": [],
   "source": [
    "from cirq_qubitization.quantum_graph.graphviz import PrettyGraphDrawer\n",
    "from cirq_qubitization.jupyter_tools import show_bloq"
   ]
  },
  {
   "cell_type": "code",
   "execution_count": null,
   "id": "863740de",
   "metadata": {},
   "outputs": [],
   "source": [
    "from cirq_qubitization.bloq_algos.shors import *\n",
    "from cirq_qubitization.bloq_algos.shors.shors import *"
   ]
  },
  {
   "cell_type": "code",
   "execution_count": null,
   "id": "28954ff5",
   "metadata": {},
   "outputs": [],
   "source": [
    "import numpy as np\n",
    "from sympy import S"
   ]
  },
  {
   "cell_type": "code",
   "execution_count": null,
   "id": "c182f5d8",
   "metadata": {},
   "outputs": [],
   "source": [
    "N = 27\n",
    "n = int(np.ceil(np.log2(N)))\n",
    "N, n"
   ]
  },
  {
   "cell_type": "code",
   "execution_count": null,
   "id": "47fb7255",
   "metadata": {},
   "outputs": [],
   "source": [
    "g = np.random.randint(1, N)\n",
    "g"
   ]
  },
  {
   "cell_type": "code",
   "execution_count": null,
   "id": "7db80b79",
   "metadata": {},
   "outputs": [],
   "source": [
    "g = S('g')\n",
    "g"
   ]
  },
  {
   "cell_type": "code",
   "execution_count": null,
   "id": "d6f4d226",
   "metadata": {},
   "outputs": [],
   "source": [
    "bloq = ModExp(g=g, mod_N=N, exp_bitsize=n, x_bitsize=n)\n",
    "show_bloq(bloq)"
   ]
  },
  {
   "cell_type": "code",
   "execution_count": null,
   "id": "c89863f7",
   "metadata": {},
   "outputs": [],
   "source": [
    "cbloq = bloq.decompose_bloq()\n",
    "show_bloq(cbloq)"
   ]
  },
  {
   "cell_type": "code",
   "execution_count": null,
   "id": "e489d189",
   "metadata": {},
   "outputs": [],
   "source": [
    "cmm = CtrlModMul(k=S('k'), x_bitsize=5, mod_N=N)\n",
    "print(cmm)\n",
    "show_bloq(cmm.decompose_bloq())"
   ]
  }
 ],
 "metadata": {
  "kernelspec": {
   "display_name": "Python 3 (ipykernel)",
   "language": "python",
   "name": "python3"
  },
  "language_info": {
   "codemirror_mode": {
    "name": "ipython",
    "version": 3
   },
   "file_extension": ".py",
   "mimetype": "text/x-python",
   "name": "python",
   "nbconvert_exporter": "python",
   "pygments_lexer": "ipython3",
   "version": "3.10.9"
  }
 },
 "nbformat": 4,
 "nbformat_minor": 5
}
