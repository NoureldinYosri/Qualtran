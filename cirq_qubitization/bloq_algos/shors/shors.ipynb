{
 "cells": [
  {
   "cell_type": "markdown",
   "id": "8c28da72",
   "metadata": {},
   "source": [
    "# Shor's Algorithm"
   ]
  },
  {
   "cell_type": "code",
   "execution_count": null,
   "id": "d67bcdd5",
   "metadata": {},
   "outputs": [],
   "source": [
    "from cirq_qubitization.jupyter_tools import show_bloq"
   ]
  },
  {
   "cell_type": "code",
   "execution_count": null,
   "id": "863740de",
   "metadata": {},
   "outputs": [],
   "source": [
    "from cirq_qubitization.bloq_algos.shors import *\n",
    "from cirq_qubitization.bloq_algos.shors.shors import *"
   ]
  },
  {
   "cell_type": "code",
   "execution_count": null,
   "id": "28954ff5",
   "metadata": {},
   "outputs": [],
   "source": [
    "import numpy as np\n",
    "from sympy import S"
   ]
  },
  {
   "cell_type": "markdown",
   "id": "74e6cb0c",
   "metadata": {},
   "source": [
    "## Factor 13 * 17\n",
    "\n",
    " - `N` is the composite number to factor\n",
    " - `n` is its bitsize"
   ]
  },
  {
   "cell_type": "code",
   "execution_count": null,
   "id": "c182f5d8",
   "metadata": {},
   "outputs": [],
   "source": [
    "N = 13*17\n",
    "n = int(np.ceil(np.log2(N)))\n",
    "N, n"
   ]
  },
  {
   "cell_type": "markdown",
   "id": "d54206cf",
   "metadata": {},
   "source": [
    "Pick a random guess to serve as the base of our exponentiation"
   ]
  },
  {
   "cell_type": "code",
   "execution_count": null,
   "id": "47fb7255",
   "metadata": {},
   "outputs": [],
   "source": [
    "g = 8\n",
    "g"
   ]
  },
  {
   "cell_type": "markdown",
   "id": "7c542b60",
   "metadata": {},
   "source": [
    "### Period Finding\n",
    "\n",
    "Find the period of the exponentiation -- namely how long it takes to cycle back to 1 under modular arithmetic."
   ]
  },
  {
   "cell_type": "code",
   "execution_count": null,
   "id": "50a027d8",
   "metadata": {},
   "outputs": [],
   "source": [
    "for e in range(20):\n",
    "    f = (g ** e) % N\n",
    "    \n",
    "    star = ' *' if f == 1 else ''\n",
    "    print(f'{e:5d} {f:5d}{star}')"
   ]
  },
  {
   "cell_type": "code",
   "execution_count": null,
   "id": "b55445ff",
   "metadata": {},
   "outputs": [],
   "source": [
    "# The period is indeed consistent\n",
    "16-8, 8-0"
   ]
  },
  {
   "cell_type": "code",
   "execution_count": null,
   "id": "d7c8cf3f",
   "metadata": {},
   "outputs": [],
   "source": [
    "period = 8"
   ]
  },
  {
   "cell_type": "markdown",
   "id": "367ca473",
   "metadata": {},
   "source": [
    "### Use the period to find factors\n",
    "\n",
    "We can use some numerical tricks to use our period to find two factors."
   ]
  },
  {
   "cell_type": "code",
   "execution_count": null,
   "id": "9aaa0618",
   "metadata": {},
   "outputs": [],
   "source": [
    "assert period %2 == 0\n",
    "assert g**(period//2) != -1\n",
    "\n",
    "half_period = g**(period//2)\n",
    "p1 = half_period + 1\n",
    "m1 = half_period - 1\n",
    "\n",
    "assert (p1*m1) % N == 0"
   ]
  },
  {
   "cell_type": "code",
   "execution_count": null,
   "id": "caea53b2",
   "metadata": {},
   "outputs": [],
   "source": [
    "print(f'gcd{p1%N, N}, gcd{m1%N, N}')\n",
    "import math\n",
    "math.gcd(p1%N, N), math.gcd(m1%N, N)"
   ]
  },
  {
   "cell_type": "markdown",
   "id": "98da5653",
   "metadata": {},
   "source": [
    "## Bloqs\n",
    "\n",
    "We'll do modular exponentiation like above with `g` and `N`. `exponent` is a $2n$ sized input and we will allocate a new $n$ sized register `x` which will contain the output."
   ]
  },
  {
   "cell_type": "code",
   "execution_count": null,
   "id": "d6f4d226",
   "metadata": {},
   "outputs": [],
   "source": [
    "bloq = ModExp.make_for_shor(big_n=N, g=g)\n",
    "show_bloq(bloq)"
   ]
  },
  {
   "cell_type": "code",
   "execution_count": null,
   "id": "800b3f04",
   "metadata": {
    "scrolled": false
   },
   "outputs": [],
   "source": [
    "from sympy import Symbol\n",
    "bloq = ModExp.make_for_shor(big_n=Symbol('N'), g=Symbol('g'))\n",
    "show_bloq(bloq)"
   ]
  },
  {
   "cell_type": "markdown",
   "id": "3d45e95c",
   "metadata": {},
   "source": [
    "### Smaller example"
   ]
  },
  {
   "cell_type": "code",
   "execution_count": null,
   "id": "6414b96e",
   "metadata": {},
   "outputs": [],
   "source": [
    "N = 3*5\n",
    "n = int(np.ceil(np.log2(N)))\n",
    "g = 8\n",
    "\n",
    "for e in range(20):\n",
    "    f = (g ** e) % N\n",
    "    star = ' *' if f == 1 else ''\n",
    "    print(f'{e:5d} {f:5d}{star}')"
   ]
  },
  {
   "cell_type": "code",
   "execution_count": null,
   "id": "b13cae37",
   "metadata": {},
   "outputs": [],
   "source": [
    "bloq = ModExp.make_for_shor(big_n=N, g=g)\n",
    "show_bloq(bloq)"
   ]
  },
  {
   "cell_type": "code",
   "execution_count": null,
   "id": "acef15c5",
   "metadata": {},
   "outputs": [],
   "source": [
    "from cirq_qubitization.bloq_algos.shors.shors import big_endian_bits_to_int, int_to_bits\n",
    "\n",
    "for e in range(20):\n",
    "    out_regs = bloq.apply_classical(exponent=e)\n",
    "    e = out_regs['exponent']\n",
    "    f = out_regs['x']\n",
    "    star = ' *' if f == 1 else ''\n",
    "    print(f'{e:5d} {f:5d}{star}')"
   ]
  },
  {
   "cell_type": "code",
   "execution_count": null,
   "id": "61059d15",
   "metadata": {},
   "outputs": [],
   "source": [
    "from cirq_qubitization.quantum_graph.graphviz import ClassicalSimGraphDrawer\n",
    "ClassicalSimGraphDrawer(bloq, {'exponent': 5}).get_svg()"
   ]
  },
  {
   "cell_type": "code",
   "execution_count": null,
   "id": "c89863f7",
   "metadata": {},
   "outputs": [],
   "source": [
    "cbloq = bloq.decompose_bloq()\n",
    "show_bloq(cbloq)"
   ]
  },
  {
   "cell_type": "code",
   "execution_count": null,
   "id": "2316922a",
   "metadata": {},
   "outputs": [],
   "source": [
    "[pow(g, int(2**j), N) for j in range(8)]"
   ]
  },
  {
   "cell_type": "code",
   "execution_count": null,
   "id": "2f037fb1",
   "metadata": {},
   "outputs": [],
   "source": [
    "ClassicalSimGraphDrawer(cbloq, {'exponent': 5}).get_svg()"
   ]
  },
  {
   "cell_type": "code",
   "execution_count": null,
   "id": "5a239fdb",
   "metadata": {},
   "outputs": [],
   "source": [
    "cbloq.apply_classical(exponent=5)"
   ]
  },
  {
   "cell_type": "code",
   "execution_count": null,
   "id": "73aed05e",
   "metadata": {},
   "outputs": [],
   "source": [
    "from cirq_qubitization.bloq_algos.shors.shors import big_endian_bits_to_int, int_to_bits\n",
    "\n",
    "for ei in range(20):\n",
    "    out_regs = bloq.apply_classical(exponent=ei)\n",
    "    out_regs2 = cbloq.apply_classical(exponent=ei)\n",
    "    \n",
    "    e = out_regs['exponent']\n",
    "    f = out_regs['x']\n",
    "    star = ' *' if f == 1 else ''\n",
    "    \n",
    "    e2 = out_regs2['exponent']\n",
    "    f2 = out_regs2['x']\n",
    "    \n",
    "    print(f'{e:5d} {f:5d}{star:2s}  {e2:5d} {f2:5d}')"
   ]
  },
  {
   "cell_type": "code",
   "execution_count": null,
   "id": "e489d189",
   "metadata": {},
   "outputs": [],
   "source": [
    "cmm = CtrlModMul(k=S('k'), x_bitsize=5, mod_N=N)\n",
    "print(cmm)\n",
    "show_bloq(cmm.decompose_bloq())"
   ]
  }
 ],
 "metadata": {
  "kernelspec": {
   "display_name": "Python 3 (ipykernel)",
   "language": "python",
   "name": "python3"
  },
  "language_info": {
   "codemirror_mode": {
    "name": "ipython",
    "version": 3
   },
   "file_extension": ".py",
   "mimetype": "text/x-python",
   "name": "python",
   "nbconvert_exporter": "python",
   "pygments_lexer": "ipython3",
   "version": "3.10.9"
  }
 },
 "nbformat": 4,
 "nbformat_minor": 5
}
