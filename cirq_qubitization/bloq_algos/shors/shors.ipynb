{
 "cells": [
  {
   "cell_type": "code",
   "execution_count": null,
   "id": "d67bcdd5",
   "metadata": {},
   "outputs": [],
   "source": [
    "from cirq_qubitization.quantum_graph.graphviz import PrettyGraphDrawer\n",
    "from cirq_qubitization.jupyter_tools import show_bloq"
   ]
  },
  {
   "cell_type": "code",
   "execution_count": null,
   "id": "863740de",
   "metadata": {},
   "outputs": [],
   "source": [
    "from cirq_qubitization.bloq_algos.shors import *\n",
    "from cirq_qubitization.bloq_algos.shors.shors import *"
   ]
  },
  {
   "cell_type": "code",
   "execution_count": null,
   "id": "28954ff5",
   "metadata": {},
   "outputs": [],
   "source": [
    "import numpy as np\n",
    "from sympy import S"
   ]
  },
  {
   "cell_type": "code",
   "execution_count": null,
   "id": "c182f5d8",
   "metadata": {},
   "outputs": [],
   "source": [
    "N = 13*17\n",
    "n = int(np.ceil(np.log2(N)))\n",
    "N, n"
   ]
  },
  {
   "cell_type": "code",
   "execution_count": null,
   "id": "47fb7255",
   "metadata": {},
   "outputs": [],
   "source": [
    "g = 8\n",
    "g"
   ]
  },
  {
   "cell_type": "code",
   "execution_count": null,
   "id": "50a027d8",
   "metadata": {},
   "outputs": [],
   "source": [
    "for e in range(20):\n",
    "    f = (g ** e) % N\n",
    "    star = ' *' if f == 1 else ''\n",
    "    print(f'{e:5d} {f:5d}{star}')"
   ]
  },
  {
   "cell_type": "code",
   "execution_count": null,
   "id": "b55445ff",
   "metadata": {},
   "outputs": [],
   "source": [
    "16-8, 8-0"
   ]
  },
  {
   "cell_type": "code",
   "execution_count": null,
   "id": "d7c8cf3f",
   "metadata": {},
   "outputs": [],
   "source": [
    "period = 8"
   ]
  },
  {
   "cell_type": "code",
   "execution_count": null,
   "id": "9aaa0618",
   "metadata": {},
   "outputs": [],
   "source": [
    "assert period %2 == 0\n",
    "assert g**(period//2) != -1\n",
    "\n",
    "half_period = g**(period//2)\n",
    "p1 = half_period + 1\n",
    "m1 = half_period - 1\n",
    "\n",
    "assert (p1*m1) % N == 0"
   ]
  },
  {
   "cell_type": "code",
   "execution_count": null,
   "id": "caea53b2",
   "metadata": {},
   "outputs": [],
   "source": [
    "print(f'gcd{p1%N, N}, gcd{m1%N, N}')\n",
    "import math\n",
    "math.gcd(p1%N, N), math.gcd(m1%N, N)"
   ]
  },
  {
   "cell_type": "code",
   "execution_count": null,
   "id": "d6f4d226",
   "metadata": {},
   "outputs": [],
   "source": [
    "bloq = ModExp.make_for_shor(big_n=N, g=g)\n",
    "show_bloq(bloq)"
   ]
  },
  {
   "cell_type": "code",
   "execution_count": null,
   "id": "acef15c5",
   "metadata": {},
   "outputs": [],
   "source": [
    "from cirq_qubitization.bloq_algos.shors.shors import big_endian_bits_to_int, int_to_bits"
   ]
  },
  {
   "cell_type": "code",
   "execution_count": null,
   "id": "2493aebd",
   "metadata": {},
   "outputs": [],
   "source": [
    "for x in range(100):\n",
    "    y, = big_endian_bits_to_int(int_to_bits(x, 10))\n",
    "    assert x == y, (x,y)"
   ]
  },
  {
   "cell_type": "code",
   "execution_count": null,
   "id": "d6f9f49a",
   "metadata": {},
   "outputs": [],
   "source": [
    "int_to_bits(8, bloq.exp_bitsize)"
   ]
  },
  {
   "cell_type": "code",
   "execution_count": null,
   "id": "24dbd2f6",
   "metadata": {},
   "outputs": [],
   "source": [
    "e, = big_endian_bits_to_int(int_to_bits(8, bloq.exp_bitsize))\n",
    "e"
   ]
  },
  {
   "cell_type": "code",
   "execution_count": null,
   "id": "42765421",
   "metadata": {},
   "outputs": [],
   "source": [
    "bloq.apply_classical(exponent=int_to_bits(8, bloq.exp_bitsize))"
   ]
  },
  {
   "cell_type": "code",
   "execution_count": null,
   "id": "c89863f7",
   "metadata": {},
   "outputs": [],
   "source": [
    "cbloq = bloq.decompose_bloq()\n",
    "show_bloq(cbloq)"
   ]
  },
  {
   "cell_type": "code",
   "execution_count": null,
   "id": "e489d189",
   "metadata": {},
   "outputs": [],
   "source": [
    "cmm = CtrlModMul(k=S('k'), x_bitsize=5, mod_N=N)\n",
    "print(cmm)\n",
    "show_bloq(cmm.decompose_bloq())"
   ]
  }
 ],
 "metadata": {
  "kernelspec": {
   "display_name": "Python 3 (ipykernel)",
   "language": "python",
   "name": "python3"
  },
  "language_info": {
   "codemirror_mode": {
    "name": "ipython",
    "version": 3
   },
   "file_extension": ".py",
   "mimetype": "text/x-python",
   "name": "python",
   "nbconvert_exporter": "python",
   "pygments_lexer": "ipython3",
   "version": "3.10.9"
  }
 },
 "nbformat": 4,
 "nbformat_minor": 5
}
