{
 "cells": [
  {
   "cell_type": "markdown",
   "id": "8c28da72",
   "metadata": {},
   "source": [
    "# Shor's Algorithm\n",
    "\n",
    "Shor's algorithm can find the factors of a large composite number in polynomial time with huge implications on cryptographic security. The crux of the \"quantum\" part of the algorithm involves finding the period of a modular exponentiation operation, which we explore below."
   ]
  },
  {
   "cell_type": "code",
   "execution_count": null,
   "id": "863740de",
   "metadata": {},
   "outputs": [],
   "source": [
    "import numpy as np\n",
    "import sympy\n",
    "\n",
    "from cirq_qubitization.jupyter_tools import show_bloq\n",
    "from cirq_qubitization.bloq_algos.shors import *\n",
    "from cirq_qubitization.bloq_algos.shors.shors import *"
   ]
  },
  {
   "cell_type": "markdown",
   "id": "74e6cb0c",
   "metadata": {},
   "source": [
    "## Example: Factor 13 * 17\n",
    "\n",
    "For sufficiently small problem sizes, we can explore the mechanism of the algorithm classically. Here, we will use period finding to factor `N = 13 * 17`.\n",
    "\n",
    " - `N` is the composite number to factor\n",
    " - `n` is its bitsize"
   ]
  },
  {
   "cell_type": "code",
   "execution_count": null,
   "id": "c182f5d8",
   "metadata": {},
   "outputs": [],
   "source": [
    "N = 13*17\n",
    "n = int(np.ceil(np.log2(N)))\n",
    "N, n"
   ]
  },
  {
   "cell_type": "markdown",
   "id": "d54206cf",
   "metadata": {},
   "source": [
    "The first step is to pick a random guess to serve as the base of our exponentiation (for which we will find the period)."
   ]
  },
  {
   "cell_type": "code",
   "execution_count": null,
   "id": "47fb7255",
   "metadata": {},
   "outputs": [],
   "source": [
    "g = 8\n",
    "g"
   ]
  },
  {
   "cell_type": "markdown",
   "id": "7c542b60",
   "metadata": {},
   "source": [
    "### Modular exponentiation\n",
    "\n",
    "The function $f(e) = g^e\\ \\text{mod}\\ N$ will be periodic in $e$ because of the modulo operation. In particular, we can try subsequent values of $e$ to figure out how long it takes to cycle back to evaluating to $1$."
   ]
  },
  {
   "cell_type": "code",
   "execution_count": null,
   "id": "50a027d8",
   "metadata": {},
   "outputs": [],
   "source": [
    "for e in range(20):\n",
    "    f = (g ** e) % N\n",
    "    \n",
    "    star = ' *' if f == 1 else ''\n",
    "    print(f'{e:5d} {f:5d}{star}')"
   ]
  },
  {
   "cell_type": "markdown",
   "id": "e5f55db8",
   "metadata": {},
   "source": [
    "The code above puts an asterisk when the function evaluates to 1. You can see that the function has a consistent period:"
   ]
  },
  {
   "cell_type": "code",
   "execution_count": null,
   "id": "b55445ff",
   "metadata": {},
   "outputs": [],
   "source": [
    "16-8, 8-0"
   ]
  },
  {
   "cell_type": "code",
   "execution_count": null,
   "id": "d7c8cf3f",
   "metadata": {},
   "outputs": [],
   "source": [
    "period = 8"
   ]
  },
  {
   "cell_type": "markdown",
   "id": "367ca473",
   "metadata": {},
   "source": [
    "### Use the period to find factors\n",
    "\n",
    "For large numbers, finding the period classically takes an exponential number of calls to the exponentiation function. Quantum computers can do it in constant time, see the references.\n",
    "\n",
    "Once we have the period, we can use some numerical tricks to efficiently and classically find the two factors."
   ]
  },
  {
   "cell_type": "code",
   "execution_count": null,
   "id": "9aaa0618",
   "metadata": {},
   "outputs": [],
   "source": [
    "assert period %2 == 0\n",
    "assert g**(period//2) != -1\n",
    "\n",
    "half_period = g**(period//2)\n",
    "p1 = half_period + 1\n",
    "m1 = half_period - 1\n",
    "\n",
    "assert (p1*m1) % N == 0"
   ]
  },
  {
   "cell_type": "code",
   "execution_count": null,
   "id": "caea53b2",
   "metadata": {},
   "outputs": [],
   "source": [
    "print(f'gcd{p1%N, N}, gcd{m1%N, N}')\n",
    "import math\n",
    "math.gcd(p1%N, N), math.gcd(m1%N, N)"
   ]
  },
  {
   "cell_type": "markdown",
   "id": "98da5653",
   "metadata": {},
   "source": [
    "## Bloqs\n",
    "\n",
    "We'll do modular exponentiation like above with `g` and `N`. `exponent` is a $2n$ sized input and we will allocate a new $n$ sized register `x` which will contain the output."
   ]
  },
  {
   "cell_type": "code",
   "execution_count": null,
   "id": "d6f4d226",
   "metadata": {},
   "outputs": [],
   "source": [
    "bloq = ModExp.make_for_shor(big_n=N, g=g)\n",
    "show_bloq(bloq)"
   ]
  },
  {
   "cell_type": "markdown",
   "id": "efd49394",
   "metadata": {},
   "source": [
    "We can simulate individual inputs for `exponent` to check the classical logic."
   ]
  },
  {
   "cell_type": "code",
   "execution_count": null,
   "id": "3852433d",
   "metadata": {},
   "outputs": [],
   "source": [
    "for e in range(20):\n",
    "    f_ref = (g ** e) % N\n",
    "    e, f_bloq  = bloq.call_classically(exponent=e)\n",
    "    assert f_ref == f_bloq\n",
    "\n",
    "print(\"Checks out!\")"
   ]
  },
  {
   "cell_type": "code",
   "execution_count": null,
   "id": "800b3f04",
   "metadata": {
    "scrolled": false
   },
   "outputs": [],
   "source": [
    "from sympy import Symbol\n",
    "show_bloq(\n",
    "    ModExp(base=Symbol('g'), mod=Symbol('N'), exp_bitsize=2*Symbol('n'), x_bitsize=Symbol('n'))\n",
    ")"
   ]
  },
  {
   "cell_type": "markdown",
   "id": "7a949bb7",
   "metadata": {},
   "source": [
    "### Smaller example"
   ]
  },
  {
   "cell_type": "code",
   "execution_count": null,
   "id": "6414b96e",
   "metadata": {},
   "outputs": [],
   "source": [
    "N = 3*5\n",
    "n = int(np.ceil(np.log2(N)))\n",
    "g = 8\n",
    "\n",
    "for e in range(20):\n",
    "    f = (g ** e) % N\n",
    "    star = ' *' if f == 1 else ''\n",
    "    print(f'{e:5d} {f:5d}{star}')"
   ]
  },
  {
   "cell_type": "code",
   "execution_count": null,
   "id": "b13cae37",
   "metadata": {},
   "outputs": [],
   "source": [
    "bloq = ModExp.make_for_shor(big_n=N, g=g)\n",
    "show_bloq(bloq)"
   ]
  },
  {
   "cell_type": "code",
   "execution_count": null,
   "id": "fdfa43a7",
   "metadata": {},
   "outputs": [],
   "source": [
    "import inspect\n",
    "import textwrap\n",
    "from IPython.display import Code"
   ]
  },
  {
   "cell_type": "code",
   "execution_count": null,
   "id": "0428a23c",
   "metadata": {},
   "outputs": [],
   "source": [
    "source = inspect.getsource(bloq.build_composite_bloq)\n",
    "source = textwrap.dedent(source)\n",
    "Code(source, language='python3')"
   ]
  },
  {
   "cell_type": "code",
   "execution_count": null,
   "id": "acef15c5",
   "metadata": {},
   "outputs": [],
   "source": [
    "for e in range(20):\n",
    "    e, f = bloq.call_classically(exponent=e)\n",
    "    \n",
    "    star = ' *' if f == 1 else ''\n",
    "    print(f'{e:5d} {f:5d}{star}')"
   ]
  },
  {
   "cell_type": "code",
   "execution_count": null,
   "id": "61059d15",
   "metadata": {},
   "outputs": [],
   "source": [
    "from cirq_qubitization.quantum_graph.graphviz import ClassicalSimGraphDrawer\n",
    "ClassicalSimGraphDrawer(bloq, {'exponent': 5}).get_svg()"
   ]
  },
  {
   "cell_type": "code",
   "execution_count": null,
   "id": "c89863f7",
   "metadata": {},
   "outputs": [],
   "source": [
    "cbloq = bloq.decompose_bloq()\n",
    "show_bloq(cbloq)"
   ]
  },
  {
   "cell_type": "code",
   "execution_count": null,
   "id": "2f037fb1",
   "metadata": {},
   "outputs": [],
   "source": [
    "ClassicalSimGraphDrawer(cbloq, {'exponent': 5}).get_svg()"
   ]
  },
  {
   "cell_type": "code",
   "execution_count": null,
   "id": "5a239fdb",
   "metadata": {},
   "outputs": [],
   "source": [
    "cbloq.call_classically(exponent=5)"
   ]
  },
  {
   "cell_type": "code",
   "execution_count": null,
   "id": "73aed05e",
   "metadata": {},
   "outputs": [],
   "source": [
    "for ei in range(20):\n",
    "    e, f = bloq.call_classically(exponent=ei)\n",
    "    e2, f2 = cbloq.call_classically(exponent=ei)\n",
    "    \n",
    "    \n",
    "    star = ' *' if f == 1 else ''\n",
    "    \n",
    "    print(f'{e:5d} {f:5d}{star:2s}  {e2:5d} {f2:5d}')"
   ]
  },
  {
   "cell_type": "code",
   "execution_count": null,
   "id": "e489d189",
   "metadata": {},
   "outputs": [],
   "source": [
    "cmm = CtrlModMul(k=8, bitsize=n, mod=N)\n",
    "print(cmm)\n",
    "show_bloq(cmm.decompose_bloq())"
   ]
  }
 ],
 "metadata": {
  "kernelspec": {
   "display_name": "Python 3 (ipykernel)",
   "language": "python",
   "name": "python3"
  },
  "language_info": {
   "codemirror_mode": {
    "name": "ipython",
    "version": 3
   },
   "file_extension": ".py",
   "mimetype": "text/x-python",
   "name": "python",
   "nbconvert_exporter": "python",
   "pygments_lexer": "ipython3",
   "version": "3.10.9"
  }
 },
 "nbformat": 4,
 "nbformat_minor": 5
}
