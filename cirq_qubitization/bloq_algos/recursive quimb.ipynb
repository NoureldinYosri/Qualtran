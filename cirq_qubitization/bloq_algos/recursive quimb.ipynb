{
 "cells": [
  {
   "cell_type": "code",
   "execution_count": null,
   "id": "38f4966e",
   "metadata": {},
   "outputs": [],
   "source": [
    "import itertools\n",
    "from functools import cached_property\n",
    "from typing import Dict\n",
    "\n",
    "import numpy as np\n",
    "import pytest\n",
    "from attrs import frozen\n",
    "\n",
    "import cirq_qubitization.testing as cq_testing\n",
    "from cirq_qubitization.bloq_algos.and_bloq import And\n",
    "from cirq_qubitization.bloq_algos.basic_gates import OneEffect, OneState, ZeroEffect, ZeroState, XGate\n",
    "from cirq_qubitization.quantum_graph.bloq import Bloq\n",
    "from cirq_qubitization.quantum_graph.composite_bloq import CompositeBloqBuilder, SoquetT\n",
    "from cirq_qubitization.quantum_graph.fancy_registers import FancyRegisters\n",
    "from cirq_qubitization.quantum_graph.quimb_sim import cbloq_to_dense"
   ]
  },
  {
   "cell_type": "code",
   "execution_count": null,
   "id": "17e5ca0b",
   "metadata": {},
   "outputs": [],
   "source": [
    "from cirq_qubitization.jupyter_tools import show_bloq"
   ]
  },
  {
   "cell_type": "code",
   "execution_count": null,
   "id": "894bcdb4",
   "metadata": {},
   "outputs": [],
   "source": [
    "@frozen\n",
    "class AndIdentity(Bloq):\n",
    "    @cached_property\n",
    "    def registers(self) -> 'FancyRegisters':\n",
    "        return FancyRegisters.build(q0=1, q1=1)\n",
    "\n",
    "    def build_composite_bloq(\n",
    "        self, bb: 'CompositeBloqBuilder', q0: 'SoquetT', q1: 'SoquetT'\n",
    "    ) -> Dict[str, 'SoquetT']:\n",
    "        qs, trg = bb.add(And(), ctrl=[q0, q1])\n",
    "        ((q0, q1),) = bb.add(And(adjoint=True), ctrl=qs, target=trg)\n",
    "        return {'q0': q0, 'q1': q1}\n"
   ]
  },
  {
   "cell_type": "code",
   "execution_count": null,
   "id": "5b148db7",
   "metadata": {},
   "outputs": [],
   "source": [
    "bloq = AndIdentity()\n",
    "show_bloq(bloq.decompose_bloq())"
   ]
  },
  {
   "cell_type": "code",
   "execution_count": null,
   "id": "a194fd5b",
   "metadata": {},
   "outputs": [],
   "source": [
    "bloq.tensor_contract()"
   ]
  },
  {
   "cell_type": "code",
   "execution_count": null,
   "id": "0c6df18c",
   "metadata": {},
   "outputs": [],
   "source": [
    "bloq.decompose_bloq().tensor_contract()"
   ]
  },
  {
   "cell_type": "code",
   "execution_count": null,
   "id": "2f90ca90",
   "metadata": {},
   "outputs": [],
   "source": [
    "bb = CompositeBloqBuilder()\n",
    "q0 = bb.add_register('q0', 1)\n",
    "q1 = bb.add_register('q1', 1)\n",
    "q0, q1 = bb.add(AndIdentity(), q0=q0, q1=q1)\n",
    "q0, q1 = bb.add(AndIdentity(), q0=q0, q1=q1)\n",
    "cbloq = bb.finalize(q0=q0, q1=q1)\n",
    "show_bloq(cbloq)"
   ]
  },
  {
   "cell_type": "code",
   "execution_count": null,
   "id": "9e24f024",
   "metadata": {},
   "outputs": [],
   "source": [
    "cbloq.tensor_contract()"
   ]
  },
  {
   "cell_type": "code",
   "execution_count": null,
   "id": "68c31f51",
   "metadata": {},
   "outputs": [],
   "source": [
    "bloq = XGate()\n",
    "show_bloq(bloq)"
   ]
  },
  {
   "cell_type": "code",
   "execution_count": null,
   "id": "cb0a5a7b",
   "metadata": {},
   "outputs": [],
   "source": [
    "bloq.tensor_contract()"
   ]
  },
  {
   "cell_type": "code",
   "execution_count": null,
   "id": "6fb9b8d1",
   "metadata": {},
   "outputs": [],
   "source": [
    "bb = CompositeBloqBuilder()\n",
    "q = bb.add_register('q', 1)\n",
    "q, = bb.add(XGate(), q=q)\n",
    "q, = bb.add(XGate(), q=q)\n",
    "xx = bb.finalize(q=q)\n",
    "show_bloq(xx)"
   ]
  },
  {
   "cell_type": "code",
   "execution_count": null,
   "id": "130cfd7a",
   "metadata": {},
   "outputs": [],
   "source": [
    "xx.tensor_contract()"
   ]
  },
  {
   "cell_type": "code",
   "execution_count": null,
   "id": "c2e71f1d",
   "metadata": {},
   "outputs": [],
   "source": [
    "@frozen\n",
    "class XNest(Bloq):\n",
    "    @cached_property\n",
    "    def registers(self) -> 'FancyRegisters':\n",
    "        return FancyRegisters.build(r=1)\n",
    "\n",
    "    def build_composite_bloq(\n",
    "        self, bb: 'CompositeBloqBuilder', r: 'SoquetT'\n",
    "    ) -> Dict[str, 'SoquetT']:\n",
    "        (r,) = bb.add(XGate(), q=r)\n",
    "        return {'r': r}\n",
    "\n",
    "\n",
    "@frozen\n",
    "class XDoubleNest(Bloq):\n",
    "    @cached_property\n",
    "    def registers(self) -> 'FancyRegisters':\n",
    "        return FancyRegisters.build(s=1)\n",
    "\n",
    "    def build_composite_bloq(\n",
    "        self, bb: 'CompositeBloqBuilder', s: 'SoquetT'\n",
    "    ) -> Dict[str, 'SoquetT']:\n",
    "        (s,) = bb.add(XNest(), r=s)\n",
    "        return {'s': s}\n"
   ]
  },
  {
   "cell_type": "code",
   "execution_count": null,
   "id": "133cc0eb",
   "metadata": {},
   "outputs": [],
   "source": [
    "XNest().tensor_contract()"
   ]
  },
  {
   "cell_type": "code",
   "execution_count": null,
   "id": "43ad1147",
   "metadata": {},
   "outputs": [],
   "source": [
    "from cirq_qubitization.quantum_graph.quimb_sim import _bloq_defines_add_my_tensors\n",
    "\n",
    "xx = XDoubleNest()\n",
    "xx = xx.as_composite_bloq()\n",
    "\n",
    "cb = xx.flatten(lambda binst: not _bloq_defines_add_my_tensors(binst.bloq))\n",
    "show_bloq(cb)"
   ]
  },
  {
   "cell_type": "code",
   "execution_count": null,
   "id": "3d82eef3",
   "metadata": {},
   "outputs": [],
   "source": [
    "XDoubleNest().tensor_contract()"
   ]
  },
  {
   "cell_type": "code",
   "execution_count": null,
   "id": "be40f8c5",
   "metadata": {},
   "outputs": [],
   "source": [
    "show_bloq(XDoubleNest().decompose_bloq())"
   ]
  },
  {
   "cell_type": "code",
   "execution_count": null,
   "id": "48330bb0",
   "metadata": {},
   "outputs": [],
   "source": [
    "self = XDoubleNest().decompose_bloq()\n",
    "\n",
    "bb, init_soqs = CompositeBloqBuilder.from_registers(self.registers)\n",
    "binst_map = {}\n",
    "for binst, soqs in self.iter_bloqsoqs(in_soqs=init_soqs, binst_map=binst_map):\n",
    "    new_binst, _ = bb.add_2(binst.bloq, **soqs)\n",
    "    binst_map[binst] = new_binst\n",
    "\n",
    "bb.finalize(**self.final_soqs(binst_map))"
   ]
  },
  {
   "cell_type": "code",
   "execution_count": null,
   "id": "bad7aac9",
   "metadata": {},
   "outputs": [],
   "source": []
  }
 ],
 "metadata": {
  "kernelspec": {
   "display_name": "Python 3 (ipykernel)",
   "language": "python",
   "name": "python3"
  },
  "language_info": {
   "codemirror_mode": {
    "name": "ipython",
    "version": 3
   },
   "file_extension": ".py",
   "mimetype": "text/x-python",
   "name": "python",
   "nbconvert_exporter": "python",
   "pygments_lexer": "ipython3",
   "version": "3.10.9"
  }
 },
 "nbformat": 4,
 "nbformat_minor": 5
}
