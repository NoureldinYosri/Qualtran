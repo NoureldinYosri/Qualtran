{
 "cells": [
  {
   "cell_type": "code",
   "execution_count": null,
   "id": "91aaec8f",
   "metadata": {
    "cq.autogen": "top_imports"
   },
   "outputs": [],
   "source": [
    "import cirq\n",
    "import numpy as np\n",
    "import cirq_qubitization\n",
    "import cirq_qubitization.testing as cq_testing\n",
    "from cirq_qubitization.jupyter_tools import display_gate_and_compilation, show_bloq\n",
    "from cirq.contrib.svg import SVGCircuit\n",
    "from typing import *\n",
    "from pprint import pprint"
   ]
  },
  {
   "cell_type": "code",
   "execution_count": null,
   "id": "718515b1",
   "metadata": {},
   "outputs": [],
   "source": [
    "from cirq_qubitization.quantum_graph.graphviz import GraphDrawer, PrettyGraphDrawer\n",
    "from IPython.display import SVG"
   ]
  },
  {
   "cell_type": "code",
   "execution_count": null,
   "id": "d022f65d",
   "metadata": {},
   "outputs": [],
   "source": [
    "from cirq_qubitization.quantum_graph.meta_bloq import *\n",
    "from cirq_qubitization.quantum_graph.util_bloqs import *\n",
    "from cirq_qubitization.quantum_graph.composite_bloq_test import *"
   ]
  },
  {
   "cell_type": "code",
   "execution_count": null,
   "id": "093e945b",
   "metadata": {},
   "outputs": [],
   "source": [
    "bloq = Atom()\n",
    "show_bloq(bloq)"
   ]
  },
  {
   "cell_type": "code",
   "execution_count": null,
   "id": "e795f222",
   "metadata": {},
   "outputs": [],
   "source": [
    "bloq = TestParallelBloq().decompose_bloq()\n",
    "show_bloq(bloq)"
   ]
  },
  {
   "cell_type": "code",
   "execution_count": null,
   "id": "3c8a0067",
   "metadata": {},
   "outputs": [],
   "source": [
    "bloq.to_cirq_circuit(**bloq.registers.get_named_qubits())"
   ]
  },
  {
   "cell_type": "code",
   "execution_count": null,
   "id": "9a998de0",
   "metadata": {},
   "outputs": [],
   "source": [
    "bloq = TestSerialBloq().decompose_bloq()\n",
    "show_bloq(bloq)"
   ]
  },
  {
   "cell_type": "code",
   "execution_count": null,
   "id": "adc6eb7f",
   "metadata": {},
   "outputs": [],
   "source": [
    "bloq.to_cirq_circuit(**bloq.registers.get_named_qubits())"
   ]
  },
  {
   "cell_type": "code",
   "execution_count": null,
   "id": "24e16216",
   "metadata": {},
   "outputs": [],
   "source": [
    "bb = CompositeBloqBuilder()\n",
    "stuff = bb.add_register('ruff', 3)\n",
    "\n",
    "stuff, = bb.add(TestParallelBloq(), stuff=stuff)\n",
    "stuff, = bb.add(TestParallelBloq(), stuff=stuff)\n",
    "two = bb.finalize(ruff=stuff)\n",
    "show_bloq(two)"
   ]
  },
  {
   "cell_type": "code",
   "execution_count": null,
   "id": "a5754557",
   "metadata": {},
   "outputs": [],
   "source": [
    "from cirq.contrib.svg import SVGCircuit"
   ]
  },
  {
   "cell_type": "code",
   "execution_count": null,
   "id": "694531a1",
   "metadata": {},
   "outputs": [],
   "source": [
    "SVGCircuit(two.to_cirq_circuit(**two.registers.get_named_qubits()))"
   ]
  },
  {
   "cell_type": "code",
   "execution_count": null,
   "id": "8077cdb0",
   "metadata": {},
   "outputs": [],
   "source": [
    "from cirq_qubitization.bloq_algos.and_bloq import And"
   ]
  },
  {
   "cell_type": "code",
   "execution_count": null,
   "id": "37beab93",
   "metadata": {},
   "outputs": [],
   "source": [
    "show_bloq(And())"
   ]
  },
  {
   "cell_type": "code",
   "execution_count": null,
   "id": "7839b865",
   "metadata": {},
   "outputs": [],
   "source": [
    "And().as_composite_bloq().to_cirq_circuit(**And().registers.get_named_qubits())"
   ]
  },
  {
   "cell_type": "code",
   "execution_count": null,
   "id": "2b2fa1c1",
   "metadata": {},
   "outputs": [],
   "source": [
    "bb = CompositeBloqBuilder()\n",
    "a = bb.allocate()\n",
    "b = bb.allocate()\n",
    "a, = bb.add(Atom(), stuff=a)\n",
    "b, = bb.add(Atom(), stuff=b)\n",
    "bb.free(a)\n",
    "bb.free(b)\n",
    "num = bb.finalize()\n",
    "show_bloq(num)"
   ]
  },
  {
   "cell_type": "code",
   "execution_count": null,
   "id": "8c1ba63a",
   "metadata": {},
   "outputs": [],
   "source": [
    "c = num.to_cirq_circuit()\n",
    "c"
   ]
  },
  {
   "cell_type": "code",
   "execution_count": null,
   "id": "a72f90d0",
   "metadata": {},
   "outputs": [],
   "source": [
    "c.moments"
   ]
  }
 ],
 "metadata": {
  "kernelspec": {
   "display_name": "Python 3 (ipykernel)",
   "language": "python",
   "name": "python3"
  },
  "language_info": {
   "codemirror_mode": {
    "name": "ipython",
    "version": 3
   },
   "file_extension": ".py",
   "mimetype": "text/x-python",
   "name": "python",
   "nbconvert_exporter": "python",
   "pygments_lexer": "ipython3",
   "version": "3.10.9"
  }
 },
 "nbformat": 4,
 "nbformat_minor": 5
}
