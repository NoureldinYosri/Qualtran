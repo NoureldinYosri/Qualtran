{
 "cells": [
  {
   "cell_type": "code",
   "execution_count": null,
   "id": "91aaec8f",
   "metadata": {
    "cq.autogen": "top_imports"
   },
   "outputs": [],
   "source": [
    "import cirq\n",
    "import numpy as np\n",
    "import cirq_qubitization\n",
    "import cirq_qubitization.testing as cq_testing\n",
    "from cirq_qubitization.jupyter_tools import display_gate_and_compilation\n",
    "from cirq.contrib.svg import SVGCircuit\n",
    "from typing import *\n",
    "from pprint import pprint"
   ]
  },
  {
   "cell_type": "code",
   "execution_count": null,
   "id": "718515b1",
   "metadata": {},
   "outputs": [],
   "source": [
    "from cirq_qubitization.quantum_graph.graphviz import GraphDrawer, PrettyGraphDrawer\n",
    "from IPython.display import SVG"
   ]
  },
  {
   "cell_type": "code",
   "execution_count": null,
   "id": "d022f65d",
   "metadata": {},
   "outputs": [],
   "source": [
    "from cirq_qubitization.quantum_graph.meta_bloq import *\n",
    "from cirq_qubitization.quantum_graph.util_bloqs import *"
   ]
  },
  {
   "cell_type": "code",
   "execution_count": null,
   "id": "49c1da89",
   "metadata": {},
   "outputs": [],
   "source": [
    "DrawCls = GraphDrawer\n",
    "DrawCls = PrettyGraphDrawer"
   ]
  },
  {
   "cell_type": "markdown",
   "id": "e040d7db",
   "metadata": {},
   "source": [
    "## Test more"
   ]
  },
  {
   "cell_type": "code",
   "execution_count": null,
   "id": "336296e4",
   "metadata": {},
   "outputs": [],
   "source": [
    "bloq = Atom()\n",
    "dr = DrawCls(bloq)\n",
    "SVG(dr.get_graph().create_svg())"
   ]
  },
  {
   "cell_type": "code",
   "execution_count": null,
   "id": "c224715a",
   "metadata": {},
   "outputs": [],
   "source": [
    "bb = CompositeBloqBuilder(FancyRegisters.build(ruff=1))\n",
    "soqs = bb.initial_soquets()\n",
    "ruff = soqs['ruff']\n",
    "\n",
    "ruff, = bb.add(Atom(), stuff=ruff)\n",
    "ruff, = bb.add(Atom(), stuff=ruff)\n",
    "\n",
    "cbloq = bb.finalize(ruff=ruff)\n",
    "print(cbloq.debug_text())\n",
    "SVG(DrawCls(cbloq).get_graph().create_svg())\n"
   ]
  },
  {
   "cell_type": "markdown",
   "id": "23748672",
   "metadata": {},
   "source": [
    "## TestBloq"
   ]
  },
  {
   "cell_type": "code",
   "execution_count": null,
   "id": "093e945b",
   "metadata": {},
   "outputs": [],
   "source": [
    "bloq = Atom()\n",
    "dr = DrawCls(bloq)\n",
    "SVG(dr.get_graph().create_svg())"
   ]
  },
  {
   "cell_type": "code",
   "execution_count": null,
   "id": "e795f222",
   "metadata": {},
   "outputs": [],
   "source": [
    "bloq = TestParallelBloq().decompose_bloq()\n",
    "dr = DrawCls(bloq)\n",
    "SVG(dr.get_graph().create_svg())"
   ]
  },
  {
   "cell_type": "code",
   "execution_count": null,
   "id": "685080ed",
   "metadata": {},
   "outputs": [],
   "source": [
    "bb = CompositeBloqBuilder(FancyRegisters.build(ruff=3))\n",
    "soqs = bb.initial_soquets()\n",
    "ruff = soqs['ruff']\n",
    "\n",
    "ruff, = bb.add(TestParallelBloq(), stuff=ruff)\n",
    "ruff, = bb.add(TestParallelBloq(), stuff=ruff)\n",
    "\n",
    "cbloq = bb.finalize(ruff=ruff)\n",
    "print(cbloq.debug_text())\n",
    "SVG(DrawCls(cbloq).get_graph().create_svg())\n"
   ]
  },
  {
   "cell_type": "code",
   "execution_count": null,
   "id": "496c6411",
   "metadata": {},
   "outputs": [],
   "source": [
    "cbloq2 = cbloq.decompose_bloq()\n",
    "print()\n",
    "print()\n",
    "print(cbloq2.debug_text())\n",
    "\n",
    "SVG(DrawCls(cbloq2).get_graph().create_svg())\n"
   ]
  },
  {
   "cell_type": "code",
   "execution_count": null,
   "id": "de089aa8",
   "metadata": {},
   "outputs": [],
   "source": [
    "bb = CompositeBloqBuilder(FancyRegisters.build(ruff=3))\n",
    "soqs = bb.initial_soquets()\n",
    "ruff = soqs['ruff']\n",
    "\n",
    "ruff, = bb.add(TestParallelBloq(), stuff=ruff)\n",
    "ruff, = bb.add_expand(TestParallelBloq(), stuff=ruff)\n",
    "\n",
    "cbloq = bb.finalize(ruff=ruff)\n",
    "print(cbloq.debug_text())\n",
    "SVG(DrawCls(cbloq).get_graph().create_svg())\n"
   ]
  },
  {
   "cell_type": "code",
   "execution_count": null,
   "id": "10df6880",
   "metadata": {},
   "outputs": [],
   "source": [
    "bb = CompositeBloqBuilder(FancyRegisters.build(ruff=3))\n",
    "soqs = bb.initial_soquets()\n",
    "ruff = soqs['ruff']\n",
    "\n",
    "ruff, = bb.add_expand(TestParallelBloq(), stuff=ruff)\n",
    "ruff, = bb.add(TestParallelBloq(), stuff=ruff)\n",
    "ruff, = bb.add_expand(TestParallelBloq(), stuff=ruff)\n",
    "\n",
    "cbloq = bb.finalize(ruff=ruff)\n",
    "print(cbloq.debug_text())\n",
    "SVG(DrawCls(cbloq).get_graph().create_svg())\n"
   ]
  },
  {
   "cell_type": "markdown",
   "id": "2d3158ce",
   "metadata": {},
   "source": [
    "How do we add? There's a mapping from the out of one to the in of another that's done in python land sortof. When we return the new soquets from an `add` call, we can assign them to various dictionaries for the successor binst (which hasn't been modified yet)"
   ]
  },
  {
   "cell_type": "code",
   "execution_count": null,
   "id": "fee3965f",
   "metadata": {},
   "outputs": [],
   "source": []
  }
 ],
 "metadata": {
  "kernelspec": {
   "display_name": "Python 3 (ipykernel)",
   "language": "python",
   "name": "python3"
  },
  "language_info": {
   "codemirror_mode": {
    "name": "ipython",
    "version": 3
   },
   "file_extension": ".py",
   "mimetype": "text/x-python",
   "name": "python",
   "nbconvert_exporter": "python",
   "pygments_lexer": "ipython3",
   "version": "3.10.9"
  }
 },
 "nbformat": 4,
 "nbformat_minor": 5
}
