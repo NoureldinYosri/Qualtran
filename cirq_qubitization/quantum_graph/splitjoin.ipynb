{
 "cells": [
  {
   "cell_type": "code",
   "execution_count": null,
   "id": "91aaec8f",
   "metadata": {
    "cq.autogen": "top_imports"
   },
   "outputs": [],
   "source": [
    "import cirq\n",
    "import numpy as np\n",
    "import cirq_qubitization\n",
    "import cirq_qubitization.testing as cq_testing\n",
    "from cirq_qubitization.jupyter_tools import display_gate_and_compilation\n",
    "from typing import *\n",
    "from pprint import pprint"
   ]
  },
  {
   "cell_type": "code",
   "execution_count": null,
   "id": "718515b1",
   "metadata": {},
   "outputs": [],
   "source": [
    "from cirq_qubitization.quantum_graph.graphviz import \\\n",
    "    PortGraphDrawer, SimplestGraphDrawer\n",
    "from IPython.display import SVG"
   ]
  },
  {
   "cell_type": "code",
   "execution_count": null,
   "id": "d022f65d",
   "metadata": {},
   "outputs": [],
   "source": [
    "from cirq_qubitization.quantum_graph.examples import SplitJoin\n",
    "bloq = SplitJoin(3)"
   ]
  },
  {
   "cell_type": "code",
   "execution_count": null,
   "id": "0d79908c",
   "metadata": {},
   "outputs": [],
   "source": [
    "gd = SimplestGraphDrawer(bloq)\n",
    "pprint(gd.ids)\n",
    "print(gd.graphviz().to_string())\n",
    "SVG(gd.graphviz().create_svg())"
   ]
  },
  {
   "cell_type": "code",
   "execution_count": null,
   "id": "1e923df9",
   "metadata": {},
   "outputs": [],
   "source": [
    "gd = PortGraphDrawer(bloq)\n",
    "print(gd.graphviz().to_string())\n",
    "SVG(gd.graphviz().create_svg())"
   ]
  },
  {
   "cell_type": "code",
   "execution_count": null,
   "id": "4e396c7f",
   "metadata": {
    "scrolled": false
   },
   "outputs": [],
   "source": [
    "cbloq = bloq.decompose_bloq()\n",
    "gd = SimplestGraphDrawer(cbloq)\n",
    "print(gd.graphviz().to_string())\n",
    "SVG(gd.graphviz().create_svg())"
   ]
  },
  {
   "cell_type": "code",
   "execution_count": null,
   "id": "56159410",
   "metadata": {},
   "outputs": [],
   "source": [
    "gd = PortGraphDrawer(cbloq)\n",
    "print(gd.graphviz().to_string())\n",
    "SVG(gd.graphviz().create_svg())"
   ]
  },
  {
   "cell_type": "code",
   "execution_count": null,
   "id": "f8e996ec",
   "metadata": {
    "scrolled": false
   },
   "outputs": [],
   "source": [
    "display_gate_and_compilation(cq_testing.GateHelper(bloq))"
   ]
  },
  {
   "cell_type": "code",
   "execution_count": null,
   "id": "dbba7494",
   "metadata": {},
   "outputs": [],
   "source": [
    "display_gate_and_compilation(cq_testing.GateHelper(cbloq))"
   ]
  },
  {
   "cell_type": "code",
   "execution_count": null,
   "id": "b04ceb2c",
   "metadata": {},
   "outputs": [],
   "source": []
  },
  {
   "cell_type": "code",
   "execution_count": null,
   "id": "338ec0c0",
   "metadata": {},
   "outputs": [],
   "source": []
  },
  {
   "cell_type": "code",
   "execution_count": null,
   "id": "762ebe88",
   "metadata": {},
   "outputs": [],
   "source": []
  },
  {
   "cell_type": "code",
   "execution_count": null,
   "id": "b9a08613",
   "metadata": {},
   "outputs": [],
   "source": []
  },
  {
   "cell_type": "code",
   "execution_count": null,
   "id": "37d35ddb",
   "metadata": {},
   "outputs": [],
   "source": []
  }
 ],
 "metadata": {
  "kernelspec": {
   "display_name": "Python 3 (ipykernel)",
   "language": "python",
   "name": "python3"
  },
  "language_info": {
   "codemirror_mode": {
    "name": "ipython",
    "version": 3
   },
   "file_extension": ".py",
   "mimetype": "text/x-python",
   "name": "python",
   "nbconvert_exporter": "python",
   "pygments_lexer": "ipython3",
   "version": "3.10.6"
  }
 },
 "nbformat": 4,
 "nbformat_minor": 5
}
