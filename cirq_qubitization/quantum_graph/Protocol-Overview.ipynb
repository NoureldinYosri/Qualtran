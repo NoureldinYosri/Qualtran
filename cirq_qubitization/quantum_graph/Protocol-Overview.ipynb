{
 "cells": [
  {
   "cell_type": "markdown",
   "id": "9640a40f",
   "metadata": {},
   "source": [
    "# Bloqs\n",
    "\n",
    "Bloqs lets you represent high-level quantum programs and subroutines as a hierarchical\n",
    "collection of Python objects. The main interface is the `Bloq` abstract base class."
   ]
  },
  {
   "cell_type": "code",
   "execution_count": null,
   "id": "37c9b7ce",
   "metadata": {},
   "outputs": [],
   "source": [
    "import abc\n",
    "from typing import *\n",
    "import attrs\n",
    "from dataclasses import dataclass"
   ]
  },
  {
   "cell_type": "code",
   "execution_count": null,
   "id": "22d8749d",
   "metadata": {},
   "outputs": [],
   "source": [
    "from cirq_qubitization.quantum_graph.fancy_registers import FancyRegister, Side"
   ]
  },
  {
   "cell_type": "code",
   "execution_count": null,
   "id": "34a159c4",
   "metadata": {},
   "outputs": [],
   "source": [
    "import attrs\n",
    "from cirq_qubitization.quantum_graph.bloq import Bloq\n",
    "from cirq_qubitization.quantum_graph.fancy_registers import FancyRegisters"
   ]
  },
  {
   "cell_type": "code",
   "execution_count": null,
   "id": "5cec9aff",
   "metadata": {},
   "outputs": [],
   "source": [
    "from cirq_qubitization.jupyter_tools import show_bloq"
   ]
  },
  {
   "cell_type": "code",
   "execution_count": null,
   "id": "d4c5721a",
   "metadata": {},
   "outputs": [],
   "source": [
    "class Swap(Bloq):\n",
    "    @property\n",
    "    def registers(self):\n",
    "        return FancyRegisters.build(x=1, y=1)\n",
    "    \n",
    "swap = Swap()\n",
    "show_bloq(swap)"
   ]
  },
  {
   "cell_type": "code",
   "execution_count": null,
   "id": "ced214d4",
   "metadata": {},
   "outputs": [],
   "source": [
    "@dataclass(frozen=True)\n",
    "class ModExp(Bloq):\n",
    "    n: int\n",
    "    \n",
    "    @property\n",
    "    def registers(self):\n",
    "        return FancyRegisters([\n",
    "            FancyRegister('exp', bitsize=2*self.n),\n",
    "            FancyRegister('result', bitsize=self.n, side=Side.RIGHT)\n",
    "        ])\n",
    "    \n",
    "modexp = ModExp(n=1024)\n",
    "show_bloq(modexp)"
   ]
  },
  {
   "cell_type": "code",
   "execution_count": null,
   "id": "9e548b5f",
   "metadata": {},
   "outputs": [],
   "source": [
    "class SwapTwoBits(Bloq):\n",
    "    @property\n",
    "    def registers(self):\n",
    "        return FancyRegisters([\n",
    "            FancyRegister('x', 1),\n",
    "            FancyRegister('y', 1),\n",
    "        ])\n",
    "    \n",
    "    def short_name(self):\n",
    "        return '⇋'"
   ]
  },
  {
   "cell_type": "code",
   "execution_count": null,
   "id": "2a7d7d19",
   "metadata": {
    "scrolled": false
   },
   "outputs": [],
   "source": [
    "swap = SwapTwoBits()\n",
    "show_bloq(swap)"
   ]
  },
  {
   "cell_type": "code",
   "execution_count": null,
   "id": "305ad1ed",
   "metadata": {},
   "outputs": [],
   "source": [
    "from cirq_qubitization.quantum_graph.composite_bloq import CompositeBloqBuilder\n",
    "from cirq_qubitization.bloq_algos.basic_gates import CNOT"
   ]
  },
  {
   "cell_type": "code",
   "execution_count": null,
   "id": "1b2af153",
   "metadata": {},
   "outputs": [],
   "source": [
    "class SwapTwoBits(Bloq):\n",
    "    @property\n",
    "    def registers(self):\n",
    "        return FancyRegisters.build(x=1, y=1)\n",
    "\n",
    "    def build_composite_bloq(\n",
    "        self, bb: 'CompositeBloqBuilder',\n",
    "        *, x, y\n",
    "    ):\n",
    "        x, y = bb.add(CNOT(), ctrl=x, target=y)\n",
    "        y, x = bb.add(CNOT(), ctrl=y, target=x)\n",
    "        x, y = bb.add(CNOT(), ctrl=x, target=y)\n",
    "        return {'x': x, 'y': y}"
   ]
  },
  {
   "cell_type": "code",
   "execution_count": null,
   "id": "9ee43434",
   "metadata": {},
   "outputs": [],
   "source": [
    "swap = SwapTwoBits()\n",
    "show_bloq(swap.decompose_bloq())"
   ]
  },
  {
   "cell_type": "code",
   "execution_count": null,
   "id": "ca3afabe",
   "metadata": {},
   "outputs": [],
   "source": [
    "cbloq = swap.as_composite_bloq()\n",
    "from cirq_qubitization.quantum_graph.musical_score import get_musical_score_data, draw_musical_score, dump_musical_score\n",
    "msd = get_musical_score_data(cbloq)\n",
    "draw_musical_score(msd)\n",
    "dump_musical_score(msd, 'tutorial-swap')"
   ]
  },
  {
   "cell_type": "code",
   "execution_count": null,
   "id": "2c562675",
   "metadata": {},
   "outputs": [],
   "source": [
    "cbloq = swap.decompose_bloq()\n",
    "msd = get_musical_score_data(cbloq)\n",
    "draw_musical_score(msd)\n",
    "dump_musical_score(msd, 'tutorial-swap-cbloq')"
   ]
  },
  {
   "cell_type": "markdown",
   "id": "4f44f287",
   "metadata": {},
   "source": [
    "## Larger registers\n",
    "\n",
    "Our two bloqs have still been operating at the level of individual bits. We now consider\n",
    "a general swap between two `n`-sized registers."
   ]
  },
  {
   "cell_type": "code",
   "execution_count": null,
   "id": "145c65b6",
   "metadata": {},
   "outputs": [],
   "source": [
    "@attrs.frozen\n",
    "class Swap(Bloq):\n",
    "    n: int\n",
    "\n",
    "    @property\n",
    "    def registers(self):\n",
    "        return FancyRegisters([\n",
    "            FancyRegister('x', bitsize=self.n),\n",
    "            FancyRegister('y', bitsize=self.n),\n",
    "        ])"
   ]
  },
  {
   "cell_type": "code",
   "execution_count": null,
   "id": "f2a9c3a7",
   "metadata": {},
   "outputs": [],
   "source": [
    "show_bloq(Swap(n=1000))"
   ]
  },
  {
   "cell_type": "code",
   "execution_count": null,
   "id": "2ebf0d70",
   "metadata": {},
   "outputs": [],
   "source": [
    "from cirq_qubitization.quantum_graph.composite_bloq import SoquetT"
   ]
  },
  {
   "cell_type": "code",
   "execution_count": null,
   "id": "99f9fd52",
   "metadata": {},
   "outputs": [],
   "source": [
    "@attrs.frozen\n",
    "class Swap(Bloq):\n",
    "    n: int\n",
    "\n",
    "    @property\n",
    "    def registers(self):\n",
    "        return FancyRegisters.build(x=self.n, y=self.n)\n",
    "\n",
    "    def build_composite_bloq(\n",
    "            self, bb: 'CompositeBloqBuilder', *, x: SoquetT, y: SoquetT\n",
    "    ) -> Dict[str, SoquetT]:\n",
    "        xs = bb.split(x)\n",
    "        ys = bb.split(y)\n",
    "\n",
    "        for i in range(self.n):\n",
    "            xs[i], ys[i] = bb.add(SwapTwoBits(), x=xs[i], y=ys[i])\n",
    "        return {\n",
    "            'x': bb.join(xs),\n",
    "            'y': bb.join(ys),\n",
    "        }"
   ]
  },
  {
   "cell_type": "code",
   "execution_count": null,
   "id": "c5932695",
   "metadata": {},
   "outputs": [],
   "source": [
    "cbloq = Swap(n=5).decompose_bloq()\n",
    "show_bloq(cbloq)"
   ]
  },
  {
   "cell_type": "code",
   "execution_count": null,
   "id": "b7e27b18",
   "metadata": {},
   "outputs": [],
   "source": [
    "cbloq = Swap(n=5).as_composite_bloq()\n",
    "msd = get_musical_score_data(cbloq)\n",
    "draw_musical_score(msd)\n",
    "dump_musical_score(msd, 'tutorial-multiswap')"
   ]
  },
  {
   "cell_type": "markdown",
   "id": "e74ee2b3",
   "metadata": {},
   "source": [
    "## Bloq protocols\n",
    "\n",
    "Bloqs support a growing list of protocols that let you annotate a given `Bloq` with more\n",
    "definitions or known information. In the following table we summarize the available protocols. Please note that the method you override as a bloq writer is often different than the method you call as a bloq user.\n",
    "\n",
    "<table>\n",
    "<thead>\n",
    "<tr>\n",
    "<th>What</th>\n",
    "<th>Call this</th>\n",
    "<th>Override this</th>\n",
    "<th>Notebook</th>\n",
    "</tr>\n",
    "</thead>\n",
    "<tbody>\n",
    "    \n",
    "<tr><td style='text-align: left;'>Bloq decomposition</td>\n",
    "<td><code>decompose_bloq()</code></td>\n",
    "<td><code>build_composite_bloq(...)</code></td>\n",
    "<td></td>\n",
    "</tr>\n",
    "\n",
    "<tr><td style='text-align: left'>Numerical simulation via<br/>quimb tensor networks</td>\n",
    "<td><code>tensor_contract()</code></td>\n",
    "<td><code>add_my_tensors(...)</code></td>\n",
    "<td></td>\n",
    "</tr>\n",
    "    \n",
    "<tr><td style='text-align: left'>Classical simulation</td>\n",
    "<td><code>call_classically(**vals)</code></td>\n",
    "<td><code>on_classical_vals(...)</code></td>\n",
    "<td>classical_sim.ipynb</td>\n",
    "</tr>\n",
    "    \n",
    "<tr><td style='text-align: left'>Resource counting</td>\n",
    "<td colspan='2' style='text-align: center'><code>t_complexity()</code> for both</td>\n",
    "<td></td>\n",
    "</tr>\n",
    "    \n",
    "<tr><td style='text-align: left'>Conversion to Cirq</td>\n",
    "<td><code>to_cirq_circuit(**quregs)</code></td>\n",
    "<td><code>on_registers(...)</code></td>\n",
    "<td>cirq_gate.ipynb</td>\n",
    "</tr>\n",
    "    \n",
    "</tbody></table>"
   ]
  },
  {
   "cell_type": "code",
   "execution_count": null,
   "id": "9cf24b7b",
   "metadata": {},
   "outputs": [],
   "source": [
    "cbloq = Swap(n=5).decompose_bloq()\n",
    "msd = get_musical_score_data(cbloq)\n",
    "draw_musical_score(msd)\n",
    "dump_musical_score(msd, 'tutorial-multiswap-cbloq')"
   ]
  },
  {
   "cell_type": "code",
   "execution_count": null,
   "id": "51fdc7d7",
   "metadata": {},
   "outputs": [],
   "source": [
    "cbloq = Swap(n=5).decompose_bloq().flatten_once(lambda b: isinstance(b.bloq, SwapTwoBits))\n",
    "msd = get_musical_score_data(cbloq)\n",
    "draw_musical_score(msd)\n",
    "dump_musical_score(msd, 'tutorial-multiswap-cbloq-flat')"
   ]
  },
  {
   "cell_type": "markdown",
   "id": "273425b2",
   "metadata": {},
   "source": [
    "## selectively decompose?"
   ]
  },
  {
   "cell_type": "code",
   "execution_count": null,
   "id": "871f9ac7",
   "metadata": {
    "scrolled": false
   },
   "outputs": [],
   "source": [
    "cbloq = Swap(n=5).as_composite_bloq()\n",
    "draw_musical_score(get_musical_score_data(cbloq))\n",
    "\n",
    "cbloq = cbloq.flatten_once(lambda b: b.i == 0)\n",
    "draw_musical_score(get_musical_score_data(cbloq))\n",
    "\n",
    "cbloq = cbloq.flatten_once(lambda b: b.i == 3)\n",
    "draw_musical_score(get_musical_score_data(cbloq))\n",
    "\n",
    "cbloq = cbloq.flatten_once(lambda b: b.i == 5)\n",
    "draw_musical_score(get_musical_score_data(cbloq))"
   ]
  },
  {
   "cell_type": "markdown",
   "id": "574d3c84",
   "metadata": {},
   "source": [
    "# Tensors"
   ]
  },
  {
   "cell_type": "code",
   "execution_count": null,
   "id": "f217799f",
   "metadata": {},
   "outputs": [],
   "source": [
    "import numpy as np"
   ]
  },
  {
   "cell_type": "code",
   "execution_count": null,
   "id": "e17bdd94",
   "metadata": {},
   "outputs": [],
   "source": [
    "swap_tensor = np.eye(2**2)   \\\n",
    "    .reshape((2,) * 2 * 2)   \\\n",
    "    .transpose([0, 3, 1, 2])\n",
    "\n",
    "swap_tensor.reshape(4,4)"
   ]
  },
  {
   "cell_type": "code",
   "execution_count": null,
   "id": "12665ad6",
   "metadata": {},
   "outputs": [],
   "source": [
    "cswap_tensor = np.eye(2**3).reshape((2,) * 3 * 2)\n",
    "cswap_tensor[1, :, :, 1, ::] = swap_tensor\n",
    "cswap_tensor.reshape(8,8)"
   ]
  },
  {
   "cell_type": "code",
   "execution_count": null,
   "id": "6d9a3abc",
   "metadata": {},
   "outputs": [],
   "source": [
    "import quimb.tensor as qtn"
   ]
  },
  {
   "cell_type": "code",
   "execution_count": null,
   "id": "af61864f",
   "metadata": {},
   "outputs": [],
   "source": [
    "@attrs.frozen\n",
    "class TwoBitCSwap(Bloq):\n",
    "    @property\n",
    "    def registers(self) -> FancyRegisters:\n",
    "        return FancyRegisters.build(ctrl=1, x=1, y=1)\n",
    "\n",
    "    def add_my_tensors(\n",
    "        self, tn: 'qtn.TensorNetwork', tag: Any, *,\n",
    "        incoming: Dict[str, 'SoquetT'], outgoing: Dict[str, 'SoquetT']\n",
    "    ):\n",
    "        out_inds = [outgoing['ctrl'], outgoing['x'], outgoing['y']]\n",
    "        in_inds = [incoming['ctrl'], incoming['x'], incoming['y']]\n",
    "        \n",
    "        tn.add(qtn.Tensor(data=cswap_tensor, inds=out_inds + in_inds))"
   ]
  },
  {
   "cell_type": "code",
   "execution_count": null,
   "id": "58755b8c",
   "metadata": {},
   "outputs": [],
   "source": [
    "from cirq_qubitization.bloq_algos.basic_gates import ZeroEffect, ZeroState, OneEffect, OneState"
   ]
  },
  {
   "cell_type": "code",
   "execution_count": null,
   "id": "91dedec1",
   "metadata": {},
   "outputs": [],
   "source": [
    "def set_ctrl_two_bit_swap(ctrl_bit):\n",
    "    states = [ZeroState(), OneState()]\n",
    "    effs = [ZeroEffect(), OneEffect()]\n",
    "\n",
    "    bb = CompositeBloqBuilder()\n",
    "    (q0,) = bb.add(states[ctrl_bit])\n",
    "    q1 = bb.add_register('q1', 1)\n",
    "    q2 = bb.add_register('q2', 1)\n",
    "    q0, q1, q2 = bb.add(TwoBitCSwap(), ctrl=q0, x=q1, y=q2)\n",
    "    bb.add(effs[ctrl_bit], q=q0)\n",
    "    return bb.finalize(q1=q1, q2=q2)\n",
    "\n",
    "cbloq = set_ctrl_two_bit_swap(ctrl_bit=0)\n",
    "show_bloq(cbloq)"
   ]
  },
  {
   "cell_type": "code",
   "execution_count": null,
   "id": "e9342b0c",
   "metadata": {},
   "outputs": [],
   "source": [
    "cbloq.tensor_contract()"
   ]
  },
  {
   "cell_type": "code",
   "execution_count": null,
   "id": "eb04acd0",
   "metadata": {},
   "outputs": [],
   "source": [
    "set_ctrl_two_bit_swap(ctrl_bit=1) \\\n",
    "    .tensor_contract()"
   ]
  },
  {
   "cell_type": "code",
   "execution_count": null,
   "id": "196b63bd",
   "metadata": {},
   "outputs": [],
   "source": [
    "@attrs.frozen\n",
    "class CSwap(Bloq):\n",
    "\n",
    "\n",
    "    bitsize: int\n",
    "\n",
    "    @property\n",
    "    def registers(self) -> FancyRegisters:\n",
    "        return FancyRegisters.build(ctrl=1, x=self.bitsize, y=self.bitsize)\n",
    "\n",
    "    def build_composite_bloq(\n",
    "        self, bb: 'CompositeBloqBuilder', ctrl: 'SoquetT', x: 'SoquetT', y: 'SoquetT'\n",
    "    ) -> Dict[str, 'SoquetT']:\n",
    "        xs = bb.split(x)\n",
    "        ys = bb.split(y)\n",
    "\n",
    "        for i in range(self.bitsize):\n",
    "            ctrl, xs[i], ys[i] = bb.add(TwoBitCSwap(), ctrl=ctrl, x=xs[i], y=ys[i])\n",
    "\n",
    "        return {'ctrl': ctrl, 'x': bb.join(xs), 'y': bb.join(ys)}"
   ]
  },
  {
   "cell_type": "code",
   "execution_count": null,
   "id": "94fad117",
   "metadata": {},
   "outputs": [],
   "source": [
    "@attrs.frozen\n",
    "class ModExp(Bloq):\n",
    "    base: int\n",
    "    mod: int\n",
    "    exp_bitsize: int\n",
    "    x_bitsize: int\n",
    "\n",
    "    @property\n",
    "    def registers(self) -> 'FancyRegisters':\n",
    "        return FancyRegisters([\n",
    "            FancyRegister('exponent', bitsize=self.exp_bitsize),\n",
    "            FancyRegister('x', bitsize=self.x_bitsize, side=Side.RIGHT),\n",
    "        ])\n",
    "\n",
    "    def on_classical_vals(self, exponent: int):\n",
    "        return {'exponent': exponent, \n",
    "                'x': (self.base**exponent) % self.mod}"
   ]
  },
  {
   "cell_type": "code",
   "execution_count": null,
   "id": "1165d6ae",
   "metadata": {},
   "outputs": [],
   "source": [
    "modexp = ModExp(base=8, mod=13*17, exp_bitsize=8, x_bitsize=8)\n",
    "\n",
    "for exp in range(10):\n",
    "    exponent, f = modexp.call_classically(exponent=exp)\n",
    "    print(exponent, f)"
   ]
  },
  {
   "cell_type": "code",
   "execution_count": null,
   "id": "e0a2fe29",
   "metadata": {},
   "outputs": [],
   "source": [
    "@attrs.frozen\n",
    "class ModExp(Bloq):\n",
    "    base: int\n",
    "    mod: int\n",
    "    exp_bitsize: int\n",
    "    x_bitsize: int\n",
    "\n",
    "    @property\n",
    "    def registers(self) -> 'FancyRegisters':\n",
    "        return FancyRegisters(\n",
    "            [\n",
    "                FancyRegister('exponent', bitsize=self.exp_bitsize),\n",
    "                FancyRegister('x', bitsize=self.x_bitsize, side=Side.RIGHT),\n",
    "            ]\n",
    "        )\n",
    "\n",
    "    def short_name(self) -> str:\n",
    "        return f'{self.base}^e % {self.mod}'\n",
    "\n",
    "    def on_classical_vals(self, exponent: int):\n",
    "        return {'exponent': exponent, \n",
    "                'x': (self.base**exponent) % self.mod}\n",
    "\n",
    "    def CtrlModMul(self, k: int):\n",
    "        return CtrlModMul(k=k, bitsize=self.x_bitsize, mod=self.mod)\n",
    "\n",
    "    def build_composite_bloq(\n",
    "        self, bb: 'CompositeBloqBuilder', exponent: 'SoquetT'\n",
    "    ) -> Dict[str, 'SoquetT']:\n",
    "        (x,) = bb.add(IntState(val=1, bitsize=self.x_bitsize))\n",
    "        exponent = bb.split(exponent)\n",
    "\n",
    "        # https://en.wikipedia.org/wiki/Modular_exponentiation#Right-to-left_binary_method\n",
    "        base = self.base\n",
    "        for j in range(self.exp_bitsize - 1, 0 - 1, -1):\n",
    "            exponent[j], x = bb.add(self.CtrlModMul(k=base), ctrl=exponent[j], x=x)\n",
    "            base = base * base % self.mod\n",
    "\n",
    "        return {'exponent': bb.join(exponent), 'x': x}"
   ]
  }
 ],
 "metadata": {
  "kernelspec": {
   "display_name": "Python 3 (ipykernel)",
   "language": "python",
   "name": "python3"
  },
  "language_info": {
   "codemirror_mode": {
    "name": "ipython",
    "version": 3
   },
   "file_extension": ".py",
   "mimetype": "text/x-python",
   "name": "python",
   "nbconvert_exporter": "python",
   "pygments_lexer": "ipython3",
   "version": "3.10.9"
  }
 },
 "nbformat": 4,
 "nbformat_minor": 5
}
