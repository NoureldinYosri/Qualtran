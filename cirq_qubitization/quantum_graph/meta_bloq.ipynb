{
 "cells": [
  {
   "cell_type": "code",
   "execution_count": null,
   "id": "91aaec8f",
   "metadata": {
    "cq.autogen": "top_imports"
   },
   "outputs": [],
   "source": [
    "import cirq\n",
    "import numpy as np\n",
    "import cirq_qubitization\n",
    "import cirq_qubitization.testing as cq_testing\n",
    "from cirq_qubitization.jupyter_tools import display_gate_and_compilation\n",
    "from cirq.contrib.svg import SVGCircuit\n",
    "from typing import *\n",
    "from pprint import pprint"
   ]
  },
  {
   "cell_type": "code",
   "execution_count": null,
   "id": "718515b1",
   "metadata": {},
   "outputs": [],
   "source": [
    "from cirq_qubitization.quantum_graph.graphviz import GraphDrawer, PrettyGraphDrawer\n",
    "from IPython.display import SVG"
   ]
  },
  {
   "cell_type": "code",
   "execution_count": null,
   "id": "d022f65d",
   "metadata": {},
   "outputs": [],
   "source": [
    "from cirq_qubitization.quantum_graph.meta_bloq import *\n",
    "from cirq_qubitization.quantum_graph.util_bloqs import *"
   ]
  },
  {
   "cell_type": "code",
   "execution_count": null,
   "id": "49c1da89",
   "metadata": {},
   "outputs": [],
   "source": [
    "DrawCls = GraphDrawer\n",
    "DrawCls = PrettyGraphDrawer"
   ]
  },
  {
   "cell_type": "markdown",
   "id": "23748672",
   "metadata": {},
   "source": [
    "## TestBloq"
   ]
  },
  {
   "cell_type": "code",
   "execution_count": null,
   "id": "093e945b",
   "metadata": {},
   "outputs": [],
   "source": [
    "bloq = Atom()\n",
    "dr = DrawCls(bloq)\n",
    "SVG(dr.get_graph().create_svg())"
   ]
  },
  {
   "cell_type": "code",
   "execution_count": null,
   "id": "d32eff04",
   "metadata": {},
   "outputs": [],
   "source": [
    "bloq = TestSerialBloq()\n",
    "dr = DrawCls(bloq)\n",
    "SVG(dr.get_graph().create_svg())"
   ]
  },
  {
   "cell_type": "code",
   "execution_count": null,
   "id": "c5352461",
   "metadata": {},
   "outputs": [],
   "source": [
    "bloq = TestSerialBloq().decompose_bloq()\n",
    "dr = DrawCls(bloq)\n",
    "SVG(dr.get_graph().create_svg())"
   ]
  },
  {
   "cell_type": "code",
   "execution_count": null,
   "id": "6255dcc4",
   "metadata": {},
   "outputs": [],
   "source": [
    "bloq = ControlledBloq(subbloq=Atom())\n",
    "dr = DrawCls(bloq)\n",
    "SVG(dr.get_graph().create_svg())"
   ]
  },
  {
   "cell_type": "code",
   "execution_count": null,
   "id": "495fe2d4",
   "metadata": {},
   "outputs": [],
   "source": [
    "bloq = ControlledBloq(subbloq=TestSerialBloq())\n",
    "dr = DrawCls(bloq)\n",
    "SVG(dr.get_graph().create_svg())"
   ]
  },
  {
   "cell_type": "code",
   "execution_count": null,
   "id": "451411d9",
   "metadata": {},
   "outputs": [],
   "source": [
    "bloq = ControlledBloq(subbloq=TestSerialBloq()).decompose_bloq()\n",
    "print(bloq.debug_text())\n",
    "dr = DrawCls(bloq)\n",
    "SVG(dr.get_graph().create_svg())"
   ]
  },
  {
   "cell_type": "code",
   "execution_count": null,
   "id": "8fdcd64d",
   "metadata": {},
   "outputs": [],
   "source": [
    "bloq = ControlledBloq(subbloq=TestParallelBloq()).decompose_bloq()\n",
    "print(bloq.debug_text())\n",
    "dr = DrawCls(bloq)\n",
    "SVG(dr.get_graph().create_svg())"
   ]
  }
 ],
 "metadata": {
  "kernelspec": {
   "display_name": "Python 3 (ipykernel)",
   "language": "python",
   "name": "python3"
  },
  "language_info": {
   "codemirror_mode": {
    "name": "ipython",
    "version": 3
   },
   "file_extension": ".py",
   "mimetype": "text/x-python",
   "name": "python",
   "nbconvert_exporter": "python",
   "pygments_lexer": "ipython3",
   "version": "3.10.9"
  }
 },
 "nbformat": 4,
 "nbformat_minor": 5
}
