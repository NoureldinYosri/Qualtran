{
 "cells": [
  {
   "cell_type": "code",
   "execution_count": null,
   "id": "98af7cfa",
   "metadata": {},
   "outputs": [],
   "source": [
    "from cirq_qubitization.quantum_graph.swap_network import And, MultiTargetCSwap\n",
    "from cirq_qubitization.quantum_graph.fancy_registers import Side\n",
    "import cirq"
   ]
  },
  {
   "cell_type": "code",
   "execution_count": null,
   "id": "b69e38bb",
   "metadata": {},
   "outputs": [],
   "source": [
    "self = MultiTargetCSwap(3)"
   ]
  },
  {
   "cell_type": "code",
   "execution_count": null,
   "id": "1ab6a0e7",
   "metadata": {},
   "outputs": [],
   "source": [
    "        def qubits_for_reg(name: str, bitsize: int):\n",
    "            return (\n",
    "                [cirq.NamedQubit(f\"{name}\")]\n",
    "                if bitsize == 1\n",
    "                else cirq.NamedQubit.range(bitsize, prefix=name)\n",
    "            )\n",
    "\n",
    "        for reg in self.registers:\n",
    "            if not reg.side == Side.THRU:\n",
    "                raise ValueError(\"Not a thru bloq\")\n",
    "\n",
    "        quregs = {reg.name: qubits_for_reg(reg.name, reg.bitsize) for reg in self.registers}\n",
    "        ops = list(cirq.flatten_to_ops(self.decompose_from_registers(**quregs)))\n"
   ]
  },
  {
   "cell_type": "code",
   "execution_count": null,
   "id": "7bc6be31",
   "metadata": {},
   "outputs": [],
   "source": [
    "quregs"
   ]
  },
  {
   "cell_type": "code",
   "execution_count": null,
   "id": "7191acab",
   "metadata": {},
   "outputs": [],
   "source": [
    "ops"
   ]
  },
  {
   "cell_type": "code",
   "execution_count": null,
   "id": "7ea701ea",
   "metadata": {},
   "outputs": [],
   "source": [
    "from cirq_qubitization.quantum_graph.graphviz import \\\n",
    "    PortGraphDrawer, SimplestGraphDrawer, RegisterGraphDrawer\n",
    "from cirq_qubitization.quantum_graph.graphviz_ports import GraphDrawer, PrettyGraphDrawer\n",
    "from IPython.display import SVG\n",
    "DrawCls = PortGraphDrawer\n",
    "DrawCls = GraphDrawer\n",
    "DrawCls = PrettyGraphDrawer"
   ]
  },
  {
   "cell_type": "code",
   "execution_count": null,
   "id": "2d568a4b",
   "metadata": {},
   "outputs": [],
   "source": [
    "cbloq = self.decompose_bloq()\n",
    "dr = DrawCls(cbloq)\n",
    "SVG(dr.graphviz().create_svg())"
   ]
  }
 ],
 "metadata": {
  "kernelspec": {
   "display_name": "Python 3 (ipykernel)",
   "language": "python",
   "name": "python3"
  },
  "language_info": {
   "codemirror_mode": {
    "name": "ipython",
    "version": 3
   },
   "file_extension": ".py",
   "mimetype": "text/x-python",
   "name": "python",
   "nbconvert_exporter": "python",
   "pygments_lexer": "ipython3",
   "version": "3.10.6"
  }
 },
 "nbformat": 4,
 "nbformat_minor": 5
}
