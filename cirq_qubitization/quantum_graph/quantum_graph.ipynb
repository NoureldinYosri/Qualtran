{
 "cells": [
  {
   "cell_type": "code",
   "execution_count": null,
   "id": "91aaec8f",
   "metadata": {
    "cq.autogen": "top_imports"
   },
   "outputs": [],
   "source": [
    "import cirq\n",
    "import numpy as np\n",
    "import cirq_qubitization\n",
    "import cirq_qubitization.testing as cq_testing\n",
    "from cirq_qubitization.jupyter_tools import display_gate_and_compilation\n",
    "from typing import *"
   ]
  },
  {
   "cell_type": "code",
   "execution_count": null,
   "id": "1728622b",
   "metadata": {},
   "outputs": [],
   "source": [
    "from cirq_qubitization.quantum_graph.shor import ModMultiply\n",
    "mm = ModMultiply(exponent_bitsize=3, x_bitsize=3, mul_constant=123, mod_N=5)\n",
    "cbloq = mm.to_composite_bloq()\n",
    "cbloq"
   ]
  },
  {
   "cell_type": "code",
   "execution_count": null,
   "id": "e65ab9dc",
   "metadata": {},
   "outputs": [],
   "source": [
    "from cirq_qubitization.quantum_graph.graphviz import GraphDrawer, PortGraphDrawer\n",
    "from IPython.display import SVG\n",
    "\n",
    "gd1 = GraphDrawer(mm)\n",
    "SVG(gd1.graphviz().create_svg())"
   ]
  },
  {
   "cell_type": "code",
   "execution_count": null,
   "id": "7ce607be",
   "metadata": {},
   "outputs": [],
   "source": [
    "gd1 = GraphDrawer(mm).to_pretty()\n",
    "SVG(gd1.graphviz().create_svg())"
   ]
  },
  {
   "cell_type": "code",
   "execution_count": null,
   "id": "8d455a64",
   "metadata": {},
   "outputs": [],
   "source": [
    "gd = GraphDrawer(cbloq)\n",
    "print(gd.graphviz().to_string())"
   ]
  },
  {
   "cell_type": "code",
   "execution_count": null,
   "id": "c362449d",
   "metadata": {
    "scrolled": false
   },
   "outputs": [],
   "source": [
    "gd = GraphDrawer(cbloq)\n",
    "SVG(gd.graphviz().create_svg())"
   ]
  },
  {
   "cell_type": "code",
   "execution_count": null,
   "id": "7249cf31",
   "metadata": {},
   "outputs": [],
   "source": [
    "gd = GraphDrawer(cbloq).to_pretty()\n",
    "SVG(gd.graphviz().create_svg())"
   ]
  },
  {
   "cell_type": "code",
   "execution_count": null,
   "id": "e905ab38",
   "metadata": {},
   "outputs": [],
   "source": [
    "gd = PortGraphDrawer(mm)\n",
    "SVG(gd.graphviz().create_svg())"
   ]
  },
  {
   "cell_type": "code",
   "execution_count": null,
   "id": "2597756a",
   "metadata": {},
   "outputs": [],
   "source": [
    "gd = PortGraphDrawer(cbloq)\n",
    "SVG(gd.graphviz().create_svg())"
   ]
  }
 ],
 "metadata": {
  "kernelspec": {
   "display_name": "Python 3 (ipykernel)",
   "language": "python",
   "name": "python3"
  },
  "language_info": {
   "codemirror_mode": {
    "name": "ipython",
    "version": 3
   },
   "file_extension": ".py",
   "mimetype": "text/x-python",
   "name": "python",
   "nbconvert_exporter": "python",
   "pygments_lexer": "ipython3",
   "version": "3.10.6"
  }
 },
 "nbformat": 4,
 "nbformat_minor": 5
}
