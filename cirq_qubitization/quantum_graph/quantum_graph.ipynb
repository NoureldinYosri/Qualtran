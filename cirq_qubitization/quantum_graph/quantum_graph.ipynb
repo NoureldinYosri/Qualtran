{
 "cells": [
  {
   "cell_type": "code",
   "execution_count": null,
   "id": "91aaec8f",
   "metadata": {
    "cq.autogen": "top_imports"
   },
   "outputs": [],
   "source": [
    "import cirq\n",
    "import numpy as np\n",
    "import cirq_qubitization\n",
    "import cirq_qubitization.testing as cq_testing\n",
    "from cirq_qubitization.jupyter_tools import display_gate_and_compilation\n",
    "from typing import *"
   ]
  },
  {
   "cell_type": "code",
   "execution_count": null,
   "id": "d022f65d",
   "metadata": {},
   "outputs": [],
   "source": [
    "from cirq_qubitization.quantum_graph.examples import SplitJoin\n",
    "sj = SplitJoin(3)"
   ]
  },
  {
   "cell_type": "code",
   "execution_count": null,
   "id": "0d79908c",
   "metadata": {},
   "outputs": [],
   "source": [
    "from cirq_qubitization.quantum_graph.graphviz import GraphDrawer, PortGraphDrawer, PrettyGraphDrawer, SimplestGraphDrawer\n",
    "from IPython.display import SVG\n",
    "\n",
    "gd = SimplestGraphDrawer(sj)\n",
    "print(gd.graphviz().to_string())\n",
    "SVG(gd.graphviz().create_svg())"
   ]
  },
  {
   "cell_type": "code",
   "execution_count": null,
   "id": "4e396c7f",
   "metadata": {},
   "outputs": [],
   "source": [
    "cbloq = sj.to_composite_bloq()\n",
    "gd = SimplestGraphDrawer(cbloq)\n",
    "print(gd.graphviz().to_string())\n",
    "\n",
    "SVG(gd.graphviz().create_svg())"
   ]
  },
  {
   "cell_type": "code",
   "execution_count": null,
   "id": "e65ab9dc",
   "metadata": {},
   "outputs": [],
   "source": [
    "from cirq_qubitization.quantum_graph.examples import ModMultiply\n",
    "\n",
    "mm = ModMultiply(3, 4, 123, 5)\n",
    "\n",
    "gd = SimplestGraphDrawer(mm)\n",
    "print(gd.graphviz().to_string())\n",
    "SVG(gd.graphviz().create_svg())"
   ]
  },
  {
   "cell_type": "code",
   "execution_count": null,
   "id": "fdf4eca9",
   "metadata": {},
   "outputs": [],
   "source": [
    "cbloq = mm.to_composite_bloq()\n",
    "gd = SimplestGraphDrawer(cbloq)\n",
    "SVG(gd.graphviz().create_svg())"
   ]
  },
  {
   "cell_type": "markdown",
   "id": "e77a92e9",
   "metadata": {},
   "source": [
    "## Cirq"
   ]
  },
  {
   "cell_type": "code",
   "execution_count": null,
   "id": "f8e996ec",
   "metadata": {
    "scrolled": false
   },
   "outputs": [],
   "source": [
    "display_gate_and_compilation(cq_testing.GateHelper(mm))"
   ]
  },
  {
   "cell_type": "markdown",
   "id": "b41868e0",
   "metadata": {},
   "source": [
    "## Other"
   ]
  },
  {
   "cell_type": "code",
   "execution_count": null,
   "id": "fea59ad8",
   "metadata": {},
   "outputs": [],
   "source": [
    "from cirq_qubitization.quantum_graph.examples import MultiCNOTSplit\n",
    "\n",
    "bloq = MultiCNOTSplit(3)\n",
    "gd = GraphDrawer(bloq)\n",
    "SVG(gd.graphviz().create_svg())"
   ]
  },
  {
   "cell_type": "code",
   "execution_count": null,
   "id": "de957df4",
   "metadata": {},
   "outputs": [],
   "source": [
    "gd = PrettyGraphDrawer(bloq.to_composite_bloq())\n",
    "SVG(gd.graphviz().create_svg())"
   ]
  },
  {
   "cell_type": "code",
   "execution_count": null,
   "id": "d43dd0a5",
   "metadata": {
    "scrolled": false
   },
   "outputs": [],
   "source": [
    "display_gate_and_compilation(cq_testing.GateHelper(bloq))"
   ]
  }
 ],
 "metadata": {
  "kernelspec": {
   "display_name": "Python 3 (ipykernel)",
   "language": "python",
   "name": "python3"
  },
  "language_info": {
   "codemirror_mode": {
    "name": "ipython",
    "version": 3
   },
   "file_extension": ".py",
   "mimetype": "text/x-python",
   "name": "python",
   "nbconvert_exporter": "python",
   "pygments_lexer": "ipython3",
   "version": "3.10.6"
  }
 },
 "nbformat": 4,
 "nbformat_minor": 5
}
