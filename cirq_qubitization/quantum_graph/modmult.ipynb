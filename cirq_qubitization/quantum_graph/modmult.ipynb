{
 "cells": [
  {
   "cell_type": "code",
   "execution_count": null,
   "id": "91aaec8f",
   "metadata": {
    "cq.autogen": "top_imports"
   },
   "outputs": [],
   "source": [
    "import cirq\n",
    "import numpy as np\n",
    "import cirq_qubitization\n",
    "import cirq_qubitization.testing as cq_testing\n",
    "from cirq_qubitization.jupyter_tools import display_gate_and_compilation\n",
    "from typing import *"
   ]
  },
  {
   "cell_type": "code",
   "execution_count": null,
   "id": "0b3bcd10",
   "metadata": {},
   "outputs": [],
   "source": [
    "from cirq_qubitization.quantum_graph.graphviz import \\\n",
    "    GraphDrawer, PortGraphDrawer, PrettyGraphDrawer, SimplestGraphDrawer\n",
    "from IPython.display import SVG"
   ]
  },
  {
   "cell_type": "code",
   "execution_count": null,
   "id": "d022f65d",
   "metadata": {},
   "outputs": [],
   "source": [
    "from cirq_qubitization.quantum_graph.examples import ModMultiply\n",
    "bloq = ModMultiply(exponent_bitsize=3, x_bitsize=4, mul_constant=123, mod_N = 5)"
   ]
  },
  {
   "cell_type": "code",
   "execution_count": null,
   "id": "0d79908c",
   "metadata": {},
   "outputs": [],
   "source": [
    "gd = SimplestGraphDrawer(bloq)\n",
    "print(gd.graphviz().to_string())\n",
    "SVG(gd.graphviz().create_svg())"
   ]
  },
  {
   "cell_type": "code",
   "execution_count": null,
   "id": "63df2baa",
   "metadata": {},
   "outputs": [],
   "source": [
    "gd = PortGraphDrawer(bloq)\n",
    "print(gd.graphviz().to_string())\n",
    "SVG(gd.graphviz().create_svg())"
   ]
  },
  {
   "cell_type": "code",
   "execution_count": null,
   "id": "c6450da6",
   "metadata": {},
   "outputs": [],
   "source": [
    "gd = GraphDrawer(bloq)\n",
    "print(gd.graphviz().to_string())\n",
    "SVG(gd.graphviz().create_svg())"
   ]
  },
  {
   "cell_type": "code",
   "execution_count": null,
   "id": "778cbe0e",
   "metadata": {},
   "outputs": [],
   "source": [
    "gd = PrettyGraphDrawer(bloq)\n",
    "print(gd.graphviz().to_string())\n",
    "SVG(gd.graphviz().create_svg())"
   ]
  },
  {
   "cell_type": "code",
   "execution_count": null,
   "id": "4e396c7f",
   "metadata": {},
   "outputs": [],
   "source": [
    "cbloq = bloq.decompose_bloq()\n",
    "gd = SimplestGraphDrawer(cbloq)\n",
    "print(gd.graphviz().to_string())\n",
    "SVG(gd.graphviz().create_svg())"
   ]
  },
  {
   "cell_type": "code",
   "execution_count": null,
   "id": "3bbc595d",
   "metadata": {},
   "outputs": [],
   "source": [
    "gd = PortGraphDrawer(cbloq)\n",
    "print(gd.graphviz().to_string())\n",
    "SVG(gd.graphviz().create_svg())"
   ]
  },
  {
   "cell_type": "code",
   "execution_count": null,
   "id": "3d1e254e",
   "metadata": {},
   "outputs": [],
   "source": [
    "gd = GraphDrawer(cbloq)\n",
    "print(gd.graphviz().to_string())\n",
    "SVG(gd.graphviz().create_svg())"
   ]
  },
  {
   "cell_type": "code",
   "execution_count": null,
   "id": "8f1c4a04",
   "metadata": {},
   "outputs": [],
   "source": [
    "gd = PrettyGraphDrawer(cbloq)\n",
    "print(gd.graphviz().to_string())\n",
    "SVG(gd.graphviz().create_svg())"
   ]
  },
  {
   "cell_type": "code",
   "execution_count": null,
   "id": "f8e996ec",
   "metadata": {
    "scrolled": false
   },
   "outputs": [],
   "source": [
    "display_gate_and_compilation(cq_testing.GateHelper(bloq))"
   ]
  },
  {
   "cell_type": "code",
   "execution_count": null,
   "id": "fc22c5c8",
   "metadata": {},
   "outputs": [],
   "source": [
    "display_gate_and_compilation(cq_testing.GateHelper(cbloq))"
   ]
  }
 ],
 "metadata": {
  "kernelspec": {
   "display_name": "Python 3 (ipykernel)",
   "language": "python",
   "name": "python3"
  },
  "language_info": {
   "codemirror_mode": {
    "name": "ipython",
    "version": 3
   },
   "file_extension": ".py",
   "mimetype": "text/x-python",
   "name": "python",
   "nbconvert_exporter": "python",
   "pygments_lexer": "ipython3",
   "version": "3.10.6"
  }
 },
 "nbformat": 4,
 "nbformat_minor": 5
}
