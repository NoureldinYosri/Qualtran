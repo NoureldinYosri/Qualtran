{
 "cells": [
  {
   "cell_type": "code",
   "execution_count": null,
   "id": "d2754d27",
   "metadata": {},
   "outputs": [],
   "source": [
    "from cirq_qubitization.quantum_graph.musical_score import *\n",
    "from cirq_qubitization.quantum_graph.composite_bloq_test import *"
   ]
  },
  {
   "cell_type": "code",
   "execution_count": null,
   "id": "8bd97e1d",
   "metadata": {},
   "outputs": [],
   "source": [
    "from cirq_qubitization.jupyter_tools import show_bloq"
   ]
  },
  {
   "cell_type": "code",
   "execution_count": null,
   "id": "9b8c2428",
   "metadata": {},
   "outputs": [],
   "source": [
    "bloq = TestParallelBloq().decompose_bloq()\n",
    "show_bloq(bloq)"
   ]
  },
  {
   "cell_type": "code",
   "execution_count": null,
   "id": "c93a63e6",
   "metadata": {},
   "outputs": [],
   "source": [
    "layers, assign = cbloq_musical_score(bloq.registers, bloq._binst_graph)"
   ]
  },
  {
   "cell_type": "code",
   "execution_count": null,
   "id": "3ce2589f",
   "metadata": {},
   "outputs": [],
   "source": [
    "from matplotlib import pyplot as plt\n",
    "from matplotlib.patches import RegularPolygon\n",
    "from cirq_qubitization.quantum_graph.fancy_registers import Side"
   ]
  },
  {
   "cell_type": "code",
   "execution_count": null,
   "id": "9b40b088",
   "metadata": {},
   "outputs": [],
   "source": [
    "fig, ax = plt.subplots(figsize=(7,5))\n",
    "\n",
    "ax.set_xlim((-2, len(bloq.bloq_instances)+1))\n",
    "ax.set_ylim((min(assign.values())-1, max(assign.values())+1))\n",
    "\n",
    "for soq in bloq.all_soquets:\n",
    "    y = assign[soq]\n",
    "    if soq.binst is LeftDangle:\n",
    "        x = -1\n",
    "    elif soq.binst is RightDangle:\n",
    "        x = len(bloq.bloq_instances)\n",
    "    else:\n",
    "        x = soq.binst.i\n",
    "        \n",
    "    if soq.reg.side is Side.LEFT:\n",
    "        bbox = dict(fc='white', boxstyle='RArrow')\n",
    "    elif soq.reg.side is Side.RIGHT:\n",
    "        bbox = dict(fc='white', boxstyle='LArrow')\n",
    "    else:\n",
    "        bbox = dict(fc='white')\n",
    "    ax.text(x, y, f'{soq.reg.name}', transform=ax.transData, fontsize=10, bbox=bbox)\n"
   ]
  },
  {
   "cell_type": "code",
   "execution_count": null,
   "id": "78e66dc2",
   "metadata": {},
   "outputs": [],
   "source": [
    "from cirq_qubitization.bloq_algos.shors.shors import ModExp\n",
    "N = 3*5\n",
    "n = int(np.ceil(np.log2(N)))\n",
    "g = 8\n",
    "\n",
    "bloq = ModExp.make_for_shor(big_n=N, g=g).decompose_bloq()\n",
    "show_bloq(bloq)"
   ]
  },
  {
   "cell_type": "code",
   "execution_count": null,
   "id": "430a7ee1",
   "metadata": {},
   "outputs": [],
   "source": [
    "layers, assign = cbloq_musical_score(bloq.registers, bloq._binst_graph)\n",
    "fig, ax = plt.subplots(figsize=(7,5))\n",
    "\n",
    "ax.set_xlim((-2, len(bloq.bloq_instances)+1))\n",
    "ax.set_ylim((min(assign.values())-1, max(assign.values())+1))\n",
    "\n",
    "for soq in bloq.all_soquets:\n",
    "    y = assign[soq]\n",
    "    if soq.binst is LeftDangle:\n",
    "        x = -1\n",
    "    elif soq.binst is RightDangle:\n",
    "        x = len(bloq.bloq_instances)\n",
    "    else:\n",
    "        x = soq.binst.i\n",
    "        \n",
    "    if soq.reg.side is Side.LEFT:\n",
    "        bbox = dict(fc='white', boxstyle='RArrow')\n",
    "    elif soq.reg.side is Side.RIGHT:\n",
    "        bbox = dict(fc='white', boxstyle='LArrow')\n",
    "    else:\n",
    "        bbox = dict(fc='white')\n",
    "    ax.text(x, y, f'{soq.reg.name}', transform=ax.transData, fontsize=10, bbox=bbox)\n"
   ]
  },
  {
   "cell_type": "code",
   "execution_count": null,
   "id": "e6804faf",
   "metadata": {},
   "outputs": [],
   "source": []
  }
 ],
 "metadata": {
  "kernelspec": {
   "display_name": "Python 3 (ipykernel)",
   "language": "python",
   "name": "python3"
  },
  "language_info": {
   "codemirror_mode": {
    "name": "ipython",
    "version": 3
   },
   "file_extension": ".py",
   "mimetype": "text/x-python",
   "name": "python",
   "nbconvert_exporter": "python",
   "pygments_lexer": "ipython3",
   "version": "3.10.9"
  }
 },
 "nbformat": 4,
 "nbformat_minor": 5
}
