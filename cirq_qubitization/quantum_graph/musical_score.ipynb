{
 "cells": [
  {
   "cell_type": "markdown",
   "id": "5fa41bdb",
   "metadata": {},
   "source": [
    "# Musical Score\n",
    "\n",
    "The internal representation of a `CompositeBloq` is a directed acyclic graph. Here, we lay out that graph on a \"musical score\", which avoids the problems of edges crossing over each other and is more familiar to quantum computing practitioners.\n",
    "\n",
    "A musical score is one where time proceeds from left to right and each horizontal line\n",
    "represents a qubit or register of qubits."
   ]
  },
  {
   "cell_type": "markdown",
   "id": "664d4689",
   "metadata": {},
   "source": [
    "## Graph\n",
    "\n",
    "Below is a graphviz-rendered view of a 4-bit and's decomposition."
   ]
  },
  {
   "cell_type": "code",
   "execution_count": null,
   "id": "d642c664",
   "metadata": {},
   "outputs": [],
   "source": [
    "from cirq_qubitization.bloq_algos.and_bloq import MultiAnd\n",
    "from cirq_qubitization.jupyter_tools import show_bloq\n",
    "\n",
    "cbloq = MultiAnd((1,1,0,1)).decompose_bloq()\n",
    "show_bloq(cbloq)"
   ]
  },
  {
   "cell_type": "markdown",
   "id": "b5c0f814",
   "metadata": {},
   "source": [
    "## Matplotlib musical score\n",
    "\n",
    "The first step to drawing a musical score diagram is to call `get_musical_score_data` on the composite bloq, which will lay out the various symbols on the score and return a data structure containing position and other information. We provide two backends for actually drawing the score as laid out in `msd`. `draw_musical_score` will use matplotlib to draw a diagram."
   ]
  },
  {
   "cell_type": "code",
   "execution_count": null,
   "id": "fcbbcc9b",
   "metadata": {},
   "outputs": [],
   "source": [
    "from cirq_qubitization.quantum_graph.musical_score import get_musical_score_data, draw_musical_score\n",
    "msd = get_musical_score_data(cbloq)\n",
    "fig, ax = draw_musical_score(msd)\n",
    "fig.tight_layout()"
   ]
  },
  {
   "cell_type": "markdown",
   "id": "b76e47bd",
   "metadata": {},
   "source": [
    "## Javascript musical score\n",
    "\n",
    "We can dump the salient visualization information to JSON so it can be loaded from javascript and displayed using the d3-based drawing utilities in `musical_score.js`. See `musical_score.html` where we load in this information."
   ]
  },
  {
   "cell_type": "code",
   "execution_count": null,
   "id": "38271e89",
   "metadata": {},
   "outputs": [],
   "source": [
    "from cirq_qubitization.quantum_graph.musical_score import dump_musical_score\n",
    "\n",
    "dump_musical_score(msd, name='musical_score_example')"
   ]
  },
  {
   "cell_type": "markdown",
   "id": "78bac715",
   "metadata": {},
   "source": [
    "## In Jupyter"
   ]
  },
  {
   "cell_type": "code",
   "execution_count": null,
   "id": "62d170aa",
   "metadata": {},
   "outputs": [],
   "source": [
    "%%javascript\n",
    "require.config({ \n",
    "     paths: { \n",
    "     d3: 'https://d3js.org/d3.v5.min'\n",
    "}});"
   ]
  },
  {
   "cell_type": "code",
   "execution_count": null,
   "id": "09a83bde",
   "metadata": {},
   "outputs": [],
   "source": [
    "from IPython.display import Javascript"
   ]
  },
  {
   "cell_type": "code",
   "execution_count": null,
   "id": "1de2a1aa",
   "metadata": {},
   "outputs": [],
   "source": [
    "%%javascript\n",
    "\n",
    "    let xDomain = [-2, 5];\n",
    "    let yDomain = [0, 7];"
   ]
  },
  {
   "cell_type": "code",
   "execution_count": null,
   "id": "a2369def",
   "metadata": {},
   "outputs": [],
   "source": [
    "#Javascript(filename='d3.v7.min.js')"
   ]
  },
  {
   "cell_type": "code",
   "execution_count": null,
   "id": "4f340288",
   "metadata": {},
   "outputs": [],
   "source": [
    "from IPython.display import HTML"
   ]
  },
  {
   "cell_type": "code",
   "execution_count": null,
   "id": "9fdf6c9c",
   "metadata": {},
   "outputs": [],
   "source": [
    "HTML(r\"\"\"\n",
    "\n",
    "<div id=\"content\">\n",
    "\n",
    "</div>\n",
    "\n",
    "\"\"\")"
   ]
  },
  {
   "cell_type": "code",
   "execution_count": null,
   "id": "2740332e",
   "metadata": {},
   "outputs": [],
   "source": [
    "Javascript(filename='musical_score.js')"
   ]
  },
  {
   "cell_type": "code",
   "execution_count": null,
   "id": "9063339c",
   "metadata": {},
   "outputs": [],
   "source": [
    "%%javascript\n",
    "make_from_data(\"musical_score_example.json\");"
   ]
  }
 ],
 "metadata": {
  "kernelspec": {
   "display_name": "Python 3 (ipykernel)",
   "language": "python",
   "name": "python3"
  },
  "language_info": {
   "codemirror_mode": {
    "name": "ipython",
    "version": 3
   },
   "file_extension": ".py",
   "mimetype": "text/x-python",
   "name": "python",
   "nbconvert_exporter": "python",
   "pygments_lexer": "ipython3",
   "version": "3.10.9"
  }
 },
 "nbformat": 4,
 "nbformat_minor": 5
}
