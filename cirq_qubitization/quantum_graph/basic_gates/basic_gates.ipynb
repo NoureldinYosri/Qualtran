{
 "cells": [
  {
   "cell_type": "markdown",
   "id": "45febd47",
   "metadata": {},
   "source": [
    "# Basic Gates"
   ]
  },
  {
   "cell_type": "code",
   "execution_count": null,
   "id": "cc5e527d",
   "metadata": {},
   "outputs": [],
   "source": [
    "%matplotlib inline\n",
    "from matplotlib import pyplot as plt\n",
    "\n",
    "import matplotlib\n",
    "matplotlib.rcParams.update(**{\n",
    "    'axes.titlesize': 14,\n",
    "    'axes.labelsize': 14,\n",
    "    'xtick.labelsize': 12,\n",
    "    'ytick.labelsize': 12,\n",
    "    'legend.fontsize': 12,\n",
    "    'legend.title_fontsize': 12,\n",
    "    'figure.figsize': (7, 5),\n",
    "})"
   ]
  },
  {
   "cell_type": "code",
   "execution_count": null,
   "id": "e5c66767",
   "metadata": {},
   "outputs": [],
   "source": [
    "from cirq_qubitization.quantum_graph.composite_bloq import \\\n",
    "    get_soquets, CompositeBloqBuilder, FancyRegisters"
   ]
  },
  {
   "cell_type": "code",
   "execution_count": null,
   "id": "29034fd6",
   "metadata": {},
   "outputs": [],
   "source": [
    "from cirq_qubitization.quantum_graph.graphviz import PrettyGraphDrawer\n",
    "from IPython.display import SVG\n",
    "\n",
    "def showb(cbloq):\n",
    "    display(SVG(PrettyGraphDrawer(cbloq).get_graph().create_svg()))"
   ]
  },
  {
   "cell_type": "code",
   "execution_count": null,
   "id": "b6fdcf87",
   "metadata": {},
   "outputs": [],
   "source": [
    "import numpy as np\n",
    "import networkx as nx\n",
    "\n",
    "import quimb\n",
    "import quimb.tensor as qtn\n",
    "COLORS=['+', '0', 'COPY', 'XOR', 'CNOT', 'Join']"
   ]
  },
  {
   "cell_type": "code",
   "execution_count": null,
   "id": "fc2bae3d",
   "metadata": {},
   "outputs": [],
   "source": [
    "from cirq_qubitization.quantum_graph.quimb_sim import *\n",
    "from cirq_qubitization.quantum_graph.basic_gates import *"
   ]
  },
  {
   "cell_type": "markdown",
   "id": "3151763e",
   "metadata": {},
   "source": [
    "## Quimb"
   ]
  },
  {
   "cell_type": "markdown",
   "id": "07fc47fd",
   "metadata": {},
   "source": [
    "### Zero"
   ]
  },
  {
   "cell_type": "code",
   "execution_count": null,
   "id": "c67aafd2",
   "metadata": {},
   "outputs": [],
   "source": [
    "bb = CompositeBloqBuilder()\n",
    "\n",
    "q, = bb.add(ZeroState())\n",
    "cbloq = bb.fancy_finalize(my_fancy_q=q)\n",
    "\n",
    "csoqs = get_soquets(cbloq.registers)\n",
    "print(cbloq.debug_text())\n",
    "showb(cbloq)"
   ]
  },
  {
   "cell_type": "code",
   "execution_count": null,
   "id": "3c791bd1",
   "metadata": {},
   "outputs": [],
   "source": [
    "tn, fix = cbloq_to_quimb(cbloq, pos=nx.nx_agraph.graphviz_layout(cbloq._binst_graph, 'dot'))\n",
    "tn.draw(color=COLORS, show_tags=False, fix=fix)"
   ]
  },
  {
   "cell_type": "code",
   "execution_count": null,
   "id": "8ce5204a",
   "metadata": {},
   "outputs": [],
   "source": [
    "tn.to_dense([csoqs['my_fancy_q']])"
   ]
  },
  {
   "cell_type": "markdown",
   "id": "cb24c264",
   "metadata": {},
   "source": [
    "### CNOT wireshape"
   ]
  },
  {
   "cell_type": "code",
   "execution_count": null,
   "id": "b62823d4",
   "metadata": {},
   "outputs": [],
   "source": [
    "from cirq_qubitization.quantum_graph.quimb_sim_test import CNOT_wireshape\n",
    "\n",
    "bb = CompositeBloqBuilder(FancyRegisters([\n",
    "    FancyRegister('qubits', 1, wireshape=(2,),)\n",
    "]))\n",
    "\n",
    "isoqs = bb.initial_soquets()\n",
    "(qubits), = bb.add(CNOT_wireshape(), qubits=isoqs['qubits'])\n",
    "cbloq = bb.finalize(qubits=qubits)\n",
    "\n",
    "csoqs = get_soquets(cbloq.registers)\n",
    "print(cbloq.debug_text())\n",
    "showb(cbloq)"
   ]
  },
  {
   "cell_type": "code",
   "execution_count": null,
   "id": "1e2bd75d",
   "metadata": {},
   "outputs": [],
   "source": [
    "tn, fix = cbloq_to_quimb(cbloq, pos=nx.nx_agraph.graphviz_layout(cbloq._binst_graph, 'dot'))\n",
    "tn.draw(color=COLORS, show_tags=False, fix=fix)"
   ]
  },
  {
   "cell_type": "code",
   "execution_count": null,
   "id": "181a4c33",
   "metadata": {},
   "outputs": [],
   "source": [
    "tn.to_dense(\n",
    "    (csoqs['qubits'][0], csoqs['qubits'][1]), \n",
    "    (isoqs['qubits'][0], isoqs['qubits'][1]),\n",
    ")"
   ]
  },
  {
   "cell_type": "markdown",
   "id": "58e25da9",
   "metadata": {},
   "source": [
    "### CNOT normal"
   ]
  },
  {
   "cell_type": "code",
   "execution_count": null,
   "id": "62326dcf",
   "metadata": {},
   "outputs": [],
   "source": [
    "bb = CompositeBloqBuilder(FancyRegisters.build(c=1, t=1))\n",
    "\n",
    "isoqs = bb.initial_soquets()\n",
    "cc,tt = bb.add(CNOT(), ctrl=isoqs['c'], target=isoqs['t'])\n",
    "cbloq = bb.finalize(c=cc, t=tt)\n",
    "\n",
    "csoqs = get_soquets(cbloq.registers)\n",
    "print(cbloq.debug_text())\n",
    "showb(cbloq)"
   ]
  },
  {
   "cell_type": "code",
   "execution_count": null,
   "id": "da6d80a7",
   "metadata": {},
   "outputs": [],
   "source": [
    "tn, fix = cbloq_to_quimb(cbloq, pos=nx.nx_agraph.graphviz_layout(cbloq._binst_graph, 'dot'))\n",
    "tn.draw(color=COLORS, show_tags=False, fix=fix)"
   ]
  },
  {
   "cell_type": "code",
   "execution_count": null,
   "id": "d11a3840",
   "metadata": {},
   "outputs": [],
   "source": [
    "tn.to_dense(\n",
    "    (csoqs['c'], csoqs['t']), \n",
    "    (isoqs['c'], isoqs['t']),\n",
    ")"
   ]
  },
  {
   "cell_type": "markdown",
   "id": "b41af689",
   "metadata": {},
   "source": [
    "### Bell"
   ]
  },
  {
   "cell_type": "code",
   "execution_count": null,
   "id": "7edb137c",
   "metadata": {},
   "outputs": [],
   "source": [
    "bb = CompositeBloqBuilder()\n",
    "\n",
    "q0, = bb.add(PlusState())\n",
    "q1, = bb.add(ZeroState())\n",
    "\n",
    "c, t = bb.add(CNOT(), ctrl=q0, target=q1)\n",
    "\n",
    "cbloq = bb.fancy_finalize(q0=c, q1=t)\n",
    "csoqs = get_soquets(cbloq.registers)\n",
    "print(cbloq.debug_text())\n",
    "showb(cbloq)"
   ]
  },
  {
   "cell_type": "code",
   "execution_count": null,
   "id": "2a1caed5",
   "metadata": {},
   "outputs": [],
   "source": [
    "tn, fix = cbloq_to_quimb(cbloq, pos=nx.nx_agraph.graphviz_layout(cbloq._binst_graph, 'dot'))\n",
    "tn.draw(color=COLORS, show_tags=False, fix=fix)"
   ]
  },
  {
   "cell_type": "code",
   "execution_count": null,
   "id": "732b490d",
   "metadata": {},
   "outputs": [],
   "source": [
    "tn.to_dense(\n",
    "    (csoqs['q0'], csoqs['q1']), \n",
    ")"
   ]
  },
  {
   "cell_type": "markdown",
   "id": "43fec8ec",
   "metadata": {},
   "source": [
    "### Bell 2"
   ]
  },
  {
   "cell_type": "code",
   "execution_count": null,
   "id": "a8569bb8",
   "metadata": {},
   "outputs": [],
   "source": [
    "bb = CompositeBloqBuilder()\n",
    "\n",
    "q0, = bb.add(PlusState())\n",
    "q1, = bb.add(ZeroState())\n",
    "\n",
    "qubits, = bb.add(CNOT_wireshape(), qubits=[q0,q1])\n",
    "\n",
    "cbloq = bb.fancy_finalize(qubits=qubits)\n",
    "csoqs = get_soquets(cbloq.registers)\n",
    "print(cbloq.debug_text())\n",
    "showb(cbloq)"
   ]
  },
  {
   "cell_type": "code",
   "execution_count": null,
   "id": "534d7513",
   "metadata": {},
   "outputs": [],
   "source": [
    "tn, fix = cbloq_to_quimb(cbloq, pos=nx.nx_agraph.graphviz_layout(cbloq._binst_graph, 'dot'))\n",
    "tn.draw(color=COLORS, show_tags=False, fix=fix)"
   ]
  },
  {
   "cell_type": "code",
   "execution_count": null,
   "id": "8be95415",
   "metadata": {},
   "outputs": [],
   "source": [
    "tn.to_dense(\n",
    "    (csoqs['qubits'][0], csoqs['qubits'][1]), \n",
    ")"
   ]
  },
  {
   "cell_type": "markdown",
   "id": "ffdfd659",
   "metadata": {},
   "source": [
    "### Bell 3"
   ]
  },
  {
   "cell_type": "code",
   "execution_count": null,
   "id": "570bbbd0",
   "metadata": {},
   "outputs": [],
   "source": [
    "from cirq_qubitization.quantum_graph.quimb_sim_test import CNOT_bitsize\n",
    "\n",
    "bb = CompositeBloqBuilder()\n",
    "\n",
    "q0, = bb.add(PlusState())\n",
    "q1, = bb.add(ZeroState())\n",
    "\n",
    "qs = bb.join(np.array([q0,q1]))\n",
    "\n",
    "qs, = bb.add(CNOT_bitsize(), reg=qs)\n",
    "\n",
    "cbloq = bb.fancy_finalize(qs=qs)\n",
    "csoqs = get_soquets(cbloq.registers)\n",
    "print(cbloq.debug_text())\n",
    "showb(cbloq)"
   ]
  },
  {
   "cell_type": "code",
   "execution_count": null,
   "id": "057e189c",
   "metadata": {},
   "outputs": [],
   "source": [
    "tn, fix = cbloq_to_quimb(cbloq, pos=nx.nx_agraph.graphviz_layout(cbloq._binst_graph, 'dot'))\n",
    "tn.draw(color=COLORS, show_tags=False, fix=fix)"
   ]
  },
  {
   "cell_type": "code",
   "execution_count": null,
   "id": "5dd8ef29",
   "metadata": {},
   "outputs": [],
   "source": [
    "tn.to_dense(\n",
    "    (csoqs['qs'],)\n",
    ")"
   ]
  }
 ],
 "metadata": {
  "kernelspec": {
   "display_name": "Python 3 (ipykernel)",
   "language": "python",
   "name": "python3"
  },
  "language_info": {
   "codemirror_mode": {
    "name": "ipython",
    "version": 3
   },
   "file_extension": ".py",
   "mimetype": "text/x-python",
   "name": "python",
   "nbconvert_exporter": "python",
   "pygments_lexer": "ipython3",
   "version": "3.10.9"
  }
 },
 "nbformat": 4,
 "nbformat_minor": 5
}
