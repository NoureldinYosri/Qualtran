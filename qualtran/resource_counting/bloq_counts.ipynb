{
 "cells": [
  {
   "cell_type": "markdown",
   "id": "1fd2bad2",
   "metadata": {},
   "source": [
    "# The Bloq Counts Protocol\n",
    "\n",
    "`Bloq.bloq_counts(ssa)` is a protocol that queries the number of each distinct subbloq in the parent bloq's decomposition. This can be derived from the full decomposition or annotated directly by overriding the `bloq_counts` method."
   ]
  },
  {
   "cell_type": "code",
   "execution_count": 1,
   "id": "ef985a45",
   "metadata": {},
   "outputs": [],
   "source": [
    "from qualtran.resource_counting import get_bloq_counts_graph, print_counts_graph, \\\n",
    "    GraphvizCounts, markdown_counts_graph, markdown_counts_sigma, SympySymbolAllocator"
   ]
  },
  {
   "cell_type": "markdown",
   "id": "44c8cb64",
   "metadata": {},
   "source": [
    "## Basic counts graph of `And`"
   ]
  },
  {
   "cell_type": "code",
   "execution_count": 2,
   "id": "38e14dac",
   "metadata": {},
   "outputs": [
    {
     "name": "stdout",
     "output_type": "stream",
     "text": [
      "MultiAnd(cvs=(1, 1, 1, 1, 1, 1), adjoint=False) -- 5 -> And(cv1=1, cv2=1, adjoint=False)\n",
      "And(cv1=1, cv2=1, adjoint=False) -- 9 -> ArbitraryClifford(n=2)\n",
      "And(cv1=1, cv2=1, adjoint=False) -- 4 -> TGate()\n"
     ]
    }
   ],
   "source": [
    "from qualtran.bloqs.and_bloq import MultiAnd, And\n",
    "\n",
    "graph, sigma = get_bloq_counts_graph(MultiAnd(cvs=(1,)*6))\n",
    "print_counts_graph(graph)"
   ]
  },
  {
   "cell_type": "code",
   "execution_count": 3,
   "id": "68cb3c3b",
   "metadata": {},
   "outputs": [
    {
     "data": {
      "text/markdown": [
       " - `MultiAnd(cvs=(1, 1, 1, 1, 1, 1), adjoint=False)`\n",
       "   - `MultiAnd(cvs=(1, 1, 1, 1, 1, 1), adjoint=False)`: $\\displaystyle 5$\n",
       " - `And(cv1=1, cv2=1, adjoint=False)`\n",
       "   - `And(cv1=1, cv2=1, adjoint=False)`: $\\displaystyle 9$\n",
       "   - `And(cv1=1, cv2=1, adjoint=False)`: $\\displaystyle 4$\n"
      ],
      "text/plain": [
       "<IPython.core.display.Markdown object>"
      ]
     },
     "execution_count": 3,
     "metadata": {},
     "output_type": "execute_result"
    }
   ],
   "source": [
    "markdown_counts_graph(graph)"
   ]
  },
  {
   "cell_type": "code",
   "execution_count": 4,
   "id": "62a69633",
   "metadata": {},
   "outputs": [
    {
     "data": {
      "image/svg+xml": [
       "<svg xmlns=\"http://www.w3.org/2000/svg\" xmlns:xlink=\"http://www.w3.org/1999/xlink\" width=\"307pt\" height=\"218pt\" viewBox=\"0.00 0.00 307.00 218.00\">\n",
       "<g id=\"graph0\" class=\"graph\" transform=\"scale(1 1) rotate(0) translate(4 214)\">\n",
       "<title>counts</title>\n",
       "<polygon fill=\"white\" stroke=\"transparent\" points=\"-4,4 -4,-214 303,-214 303,4 -4,4\"/>\n",
       "<!-- b0 -->\n",
       "<g id=\"node1\" class=\"node\">\n",
       "<title>b0</title>\n",
       "<polygon fill=\"none\" stroke=\"black\" points=\"299,-210 0,-210 0,-174 299,-174 299,-210\"/>\n",
       "<text text-anchor=\"start\" x=\"137.5\" y=\"-193.8\" font-family=\"Times,serif\" font-size=\"14.00\">And</text>\n",
       "<text text-anchor=\"start\" x=\"8\" y=\"-183\" font-family=\"monospace\" font-size=\"10.00\">MultiAnd(cvs=(1, 1, 1, 1, 1, 1), adjoint=False)</text>\n",
       "</g>\n",
       "<!-- b1 -->\n",
       "<g id=\"node2\" class=\"node\">\n",
       "<title>b1</title>\n",
       "<polygon fill=\"none\" stroke=\"black\" points=\"254,-123 45,-123 45,-87 254,-87 254,-123\"/>\n",
       "<text text-anchor=\"start\" x=\"137.5\" y=\"-106.8\" font-family=\"Times,serif\" font-size=\"14.00\">And</text>\n",
       "<text text-anchor=\"start\" x=\"53\" y=\"-96\" font-family=\"monospace\" font-size=\"10.00\">And(cv1=1, cv2=1, adjoint=False)</text>\n",
       "</g>\n",
       "<!-- b0&#45;&gt;b1 -->\n",
       "<g id=\"edge1\" class=\"edge\">\n",
       "<title>b0-&gt;b1</title>\n",
       "<path fill=\"none\" stroke=\"black\" d=\"M149.5,-173.8C149.5,-162.16 149.5,-146.55 149.5,-133.24\"/>\n",
       "<polygon fill=\"black\" stroke=\"black\" points=\"153,-133.18 149.5,-123.18 146,-133.18 153,-133.18\"/>\n",
       "<text text-anchor=\"middle\" x=\"153\" y=\"-144.8\" font-family=\"Times,serif\" font-size=\"14.00\">5</text>\n",
       "</g>\n",
       "<!-- b2 -->\n",
       "<g id=\"node3\" class=\"node\">\n",
       "<title>b2</title>\n",
       "<polygon fill=\"none\" stroke=\"black\" points=\"163,-36 14,-36 14,0 163,0 163,-36\"/>\n",
       "<text text-anchor=\"start\" x=\"41.5\" y=\"-19.8\" font-family=\"Times,serif\" font-size=\"14.00\">ArbitraryClifford</text>\n",
       "<text text-anchor=\"start\" x=\"22\" y=\"-9\" font-family=\"monospace\" font-size=\"10.00\">ArbitraryClifford(n=2)</text>\n",
       "</g>\n",
       "<!-- b1&#45;&gt;b2 -->\n",
       "<g id=\"edge2\" class=\"edge\">\n",
       "<title>b1-&gt;b2</title>\n",
       "<path fill=\"none\" stroke=\"black\" d=\"M137.16,-86.8C128.47,-74.7 116.71,-58.3 106.92,-44.67\"/>\n",
       "<polygon fill=\"black\" stroke=\"black\" points=\"109.5,-42.26 100.83,-36.18 103.81,-46.34 109.5,-42.26\"/>\n",
       "<text text-anchor=\"middle\" x=\"127\" y=\"-57.8\" font-family=\"Times,serif\" font-size=\"14.00\">9</text>\n",
       "</g>\n",
       "<!-- b3 -->\n",
       "<g id=\"node4\" class=\"node\">\n",
       "<title>b3</title>\n",
       "<polygon fill=\"none\" stroke=\"black\" points=\"240,-36 181,-36 181,0 240,0 240,-36\"/>\n",
       "<text text-anchor=\"start\" x=\"193.5\" y=\"-19.8\" font-family=\"Times,serif\" font-size=\"14.00\">TGate</text>\n",
       "<text text-anchor=\"start\" x=\"189\" y=\"-9\" font-family=\"monospace\" font-size=\"10.00\">TGate()</text>\n",
       "</g>\n",
       "<!-- b1&#45;&gt;b3 -->\n",
       "<g id=\"edge3\" class=\"edge\">\n",
       "<title>b1-&gt;b3</title>\n",
       "<path fill=\"none\" stroke=\"black\" d=\"M161.84,-86.8C170.53,-74.7 182.29,-58.3 192.08,-44.67\"/>\n",
       "<polygon fill=\"black\" stroke=\"black\" points=\"195.19,-46.34 198.17,-36.18 189.5,-42.26 195.19,-46.34\"/>\n",
       "<text text-anchor=\"middle\" x=\"187\" y=\"-57.8\" font-family=\"Times,serif\" font-size=\"14.00\">4</text>\n",
       "</g>\n",
       "</g>\n",
       "</svg>"
      ],
      "text/plain": [
       "<IPython.core.display.SVG object>"
      ]
     },
     "execution_count": 4,
     "metadata": {},
     "output_type": "execute_result"
    }
   ],
   "source": [
    "GraphvizCounts(graph).get_svg()"
   ]
  },
  {
   "cell_type": "code",
   "execution_count": 5,
   "id": "54b71267",
   "metadata": {},
   "outputs": [
    {
     "data": {
      "text/markdown": [
       " - `ArbitraryClifford(n=2)`: 45\n",
       " - `TGate()`: 20"
      ],
      "text/plain": [
       "<IPython.core.display.Markdown object>"
      ]
     },
     "execution_count": 5,
     "metadata": {},
     "output_type": "execute_result"
    }
   ],
   "source": [
    "markdown_counts_sigma(sigma)"
   ]
  },
  {
   "cell_type": "markdown",
   "id": "2e4aa56b",
   "metadata": {},
   "source": [
    "## Importance of bloq generalization\n",
    "\n",
    "Often, bloqs have attributes that are important for describing their specific action but don't affect the bloq's resource cost. For example, `Rx(0.12)` and `Rx(0.13)` should probably be considered equal when counting the number of operations. Another example is given below where we group all two-bit `And` operations no matter their control values. \n",
    "\n",
    "`get_bloq_counts_graph` takes an optional callable that takes specific bloqs to general bloqs. See below for an example of what happens to the `MultiAnd` counts graph without generalization, and how we can use it to replace specific control values with sympy symbols."
   ]
  },
  {
   "cell_type": "code",
   "execution_count": 6,
   "id": "3c9f2b05",
   "metadata": {},
   "outputs": [
    {
     "data": {
      "image/svg+xml": [
       "<svg xmlns=\"http://www.w3.org/2000/svg\" xmlns:xlink=\"http://www.w3.org/1999/xlink\" width=\"444pt\" height=\"218pt\" viewBox=\"0.00 0.00 444.00 218.00\">\n",
       "<g id=\"graph0\" class=\"graph\" transform=\"scale(1 1) rotate(0) translate(4 214)\">\n",
       "<title>counts</title>\n",
       "<polygon fill=\"white\" stroke=\"transparent\" points=\"-4,4 -4,-214 440,-214 440,4 -4,4\"/>\n",
       "<!-- b0 -->\n",
       "<g id=\"node1\" class=\"node\">\n",
       "<title>b0</title>\n",
       "<polygon fill=\"none\" stroke=\"black\" points=\"367,-210 68,-210 68,-174 367,-174 367,-210\"/>\n",
       "<text text-anchor=\"start\" x=\"205.5\" y=\"-193.8\" font-family=\"Times,serif\" font-size=\"14.00\">And</text>\n",
       "<text text-anchor=\"start\" x=\"76\" y=\"-183\" font-family=\"monospace\" font-size=\"10.00\">MultiAnd(cvs=(1, 0, 1, 0, 1, 0), adjoint=False)</text>\n",
       "</g>\n",
       "<!-- b1 -->\n",
       "<g id=\"node2\" class=\"node\">\n",
       "<title>b1</title>\n",
       "<polygon fill=\"none\" stroke=\"black\" points=\"209,-123 0,-123 0,-87 209,-87 209,-123\"/>\n",
       "<text text-anchor=\"start\" x=\"92.5\" y=\"-106.8\" font-family=\"Times,serif\" font-size=\"14.00\">And</text>\n",
       "<text text-anchor=\"start\" x=\"8\" y=\"-96\" font-family=\"monospace\" font-size=\"10.00\">And(cv1=1, cv2=1, adjoint=False)</text>\n",
       "</g>\n",
       "<!-- b0&#45;&gt;b1 -->\n",
       "<g id=\"edge1\" class=\"edge\">\n",
       "<title>b0-&gt;b1</title>\n",
       "<path fill=\"none\" stroke=\"black\" d=\"M194.63,-173.8C177.63,-161.01 154.24,-143.42 135.55,-129.36\"/>\n",
       "<polygon fill=\"black\" stroke=\"black\" points=\"137.43,-126.39 127.33,-123.18 133.22,-131.98 137.43,-126.39\"/>\n",
       "<text text-anchor=\"middle\" x=\"172\" y=\"-144.8\" font-family=\"Times,serif\" font-size=\"14.00\">2</text>\n",
       "</g>\n",
       "<!-- b2 -->\n",
       "<g id=\"node3\" class=\"node\">\n",
       "<title>b2</title>\n",
       "<polygon fill=\"none\" stroke=\"black\" points=\"436,-123 227,-123 227,-87 436,-87 436,-123\"/>\n",
       "<text text-anchor=\"start\" x=\"319.5\" y=\"-106.8\" font-family=\"Times,serif\" font-size=\"14.00\">And</text>\n",
       "<text text-anchor=\"start\" x=\"235\" y=\"-96\" font-family=\"monospace\" font-size=\"10.00\">And(cv1=1, cv2=0, adjoint=False)</text>\n",
       "</g>\n",
       "<!-- b0&#45;&gt;b2 -->\n",
       "<g id=\"edge2\" class=\"edge\">\n",
       "<title>b0-&gt;b2</title>\n",
       "<path fill=\"none\" stroke=\"black\" d=\"M240.57,-173.8C257.8,-160.95 281.53,-143.26 300.43,-129.17\"/>\n",
       "<polygon fill=\"black\" stroke=\"black\" points=\"302.54,-131.96 308.46,-123.18 298.36,-126.35 302.54,-131.96\"/>\n",
       "<text text-anchor=\"middle\" x=\"284\" y=\"-144.8\" font-family=\"Times,serif\" font-size=\"14.00\">3</text>\n",
       "</g>\n",
       "<!-- b3 -->\n",
       "<g id=\"node4\" class=\"node\">\n",
       "<title>b3</title>\n",
       "<polygon fill=\"none\" stroke=\"black\" points=\"212,-36 153,-36 153,0 212,0 212,-36\"/>\n",
       "<text text-anchor=\"start\" x=\"165.5\" y=\"-19.8\" font-family=\"Times,serif\" font-size=\"14.00\">TGate</text>\n",
       "<text text-anchor=\"start\" x=\"161\" y=\"-9\" font-family=\"monospace\" font-size=\"10.00\">TGate()</text>\n",
       "</g>\n",
       "<!-- b1&#45;&gt;b3 -->\n",
       "<g id=\"edge4\" class=\"edge\">\n",
       "<title>b1-&gt;b3</title>\n",
       "<path fill=\"none\" stroke=\"black\" d=\"M120.28,-86.8C131.6,-74.47 147.01,-57.68 159.66,-43.89\"/>\n",
       "<polygon fill=\"black\" stroke=\"black\" points=\"162.56,-45.91 166.74,-36.18 157.4,-41.18 162.56,-45.91\"/>\n",
       "<text text-anchor=\"middle\" x=\"152\" y=\"-57.8\" font-family=\"Times,serif\" font-size=\"14.00\">4</text>\n",
       "</g>\n",
       "<!-- b4 -->\n",
       "<g id=\"node5\" class=\"node\">\n",
       "<title>b4</title>\n",
       "<polygon fill=\"none\" stroke=\"black\" points=\"392,-36 243,-36 243,0 392,0 392,-36\"/>\n",
       "<text text-anchor=\"start\" x=\"270.5\" y=\"-19.8\" font-family=\"Times,serif\" font-size=\"14.00\">ArbitraryClifford</text>\n",
       "<text text-anchor=\"start\" x=\"251\" y=\"-9\" font-family=\"monospace\" font-size=\"10.00\">ArbitraryClifford(n=2)</text>\n",
       "</g>\n",
       "<!-- b1&#45;&gt;b4 -->\n",
       "<g id=\"edge3\" class=\"edge\">\n",
       "<title>b1-&gt;b4</title>\n",
       "<path fill=\"none\" stroke=\"black\" d=\"M147.35,-86.9C181.36,-73.33 229.06,-54.29 265.3,-39.83\"/>\n",
       "<polygon fill=\"black\" stroke=\"black\" points=\"266.73,-43.03 274.72,-36.07 264.14,-36.53 266.73,-43.03\"/>\n",
       "<text text-anchor=\"middle\" x=\"228\" y=\"-57.8\" font-family=\"Times,serif\" font-size=\"14.00\">9</text>\n",
       "</g>\n",
       "<!-- b2&#45;&gt;b3 -->\n",
       "<g id=\"edge5\" class=\"edge\">\n",
       "<title>b2-&gt;b3</title>\n",
       "<path fill=\"none\" stroke=\"black\" d=\"M301.35,-86.8C278.17,-73.58 246,-55.22 220.97,-40.94\"/>\n",
       "<polygon fill=\"black\" stroke=\"black\" points=\"222.52,-37.8 212.1,-35.89 219.05,-43.88 222.52,-37.8\"/>\n",
       "<text text-anchor=\"middle\" x=\"270\" y=\"-57.8\" font-family=\"Times,serif\" font-size=\"14.00\">4</text>\n",
       "</g>\n",
       "<!-- b2&#45;&gt;b4 -->\n",
       "<g id=\"edge6\" class=\"edge\">\n",
       "<title>b2-&gt;b4</title>\n",
       "<path fill=\"none\" stroke=\"black\" d=\"M328.67,-86.8C326.75,-75.16 324.18,-59.55 321.99,-46.24\"/>\n",
       "<polygon fill=\"black\" stroke=\"black\" points=\"325.41,-45.47 320.33,-36.18 318.5,-46.61 325.41,-45.47\"/>\n",
       "<text text-anchor=\"middle\" x=\"331.5\" y=\"-57.8\" font-family=\"Times,serif\" font-size=\"14.00\">11</text>\n",
       "</g>\n",
       "</g>\n",
       "</svg>"
      ],
      "text/plain": [
       "<IPython.core.display.SVG object>"
      ]
     },
     "execution_count": 6,
     "metadata": {},
     "output_type": "execute_result"
    }
   ],
   "source": [
    "graph, sigma = get_bloq_counts_graph(MultiAnd(cvs=(1,0)*3))\n",
    "GraphvizCounts(graph).get_svg()"
   ]
  },
  {
   "cell_type": "code",
   "execution_count": 7,
   "id": "f5e33995",
   "metadata": {},
   "outputs": [
    {
     "data": {
      "image/svg+xml": [
       "<svg xmlns=\"http://www.w3.org/2000/svg\" xmlns:xlink=\"http://www.w3.org/1999/xlink\" width=\"307pt\" height=\"218pt\" viewBox=\"0.00 0.00 307.00 218.00\">\n",
       "<g id=\"graph0\" class=\"graph\" transform=\"scale(1 1) rotate(0) translate(4 214)\">\n",
       "<title>counts</title>\n",
       "<polygon fill=\"white\" stroke=\"transparent\" points=\"-4,4 -4,-214 303,-214 303,4 -4,4\"/>\n",
       "<!-- b0 -->\n",
       "<g id=\"node1\" class=\"node\">\n",
       "<title>b0</title>\n",
       "<polygon fill=\"none\" stroke=\"black\" points=\"299,-210 0,-210 0,-174 299,-174 299,-210\"/>\n",
       "<text text-anchor=\"start\" x=\"137.5\" y=\"-193.8\" font-family=\"Times,serif\" font-size=\"14.00\">And</text>\n",
       "<text text-anchor=\"start\" x=\"8\" y=\"-183\" font-family=\"monospace\" font-size=\"10.00\">MultiAnd(cvs=(1, 0, 1, 0, 1, 0), adjoint=False)</text>\n",
       "</g>\n",
       "<!-- b1 -->\n",
       "<g id=\"node2\" class=\"node\">\n",
       "<title>b1</title>\n",
       "<polygon fill=\"none\" stroke=\"black\" points=\"278,-123 21,-123 21,-87 278,-87 278,-123\"/>\n",
       "<text text-anchor=\"start\" x=\"137.5\" y=\"-106.8\" font-family=\"Times,serif\" font-size=\"14.00\">And</text>\n",
       "<text text-anchor=\"start\" x=\"29\" y=\"-96\" font-family=\"monospace\" font-size=\"10.00\">And(cv1=_cv10, cv2=_cv20, adjoint=False)</text>\n",
       "</g>\n",
       "<!-- b0&#45;&gt;b1 -->\n",
       "<g id=\"edge1\" class=\"edge\">\n",
       "<title>b0-&gt;b1</title>\n",
       "<path fill=\"none\" stroke=\"black\" d=\"M149.5,-173.8C149.5,-162.16 149.5,-146.55 149.5,-133.24\"/>\n",
       "<polygon fill=\"black\" stroke=\"black\" points=\"153,-133.18 149.5,-123.18 146,-133.18 153,-133.18\"/>\n",
       "<text text-anchor=\"middle\" x=\"153\" y=\"-144.8\" font-family=\"Times,serif\" font-size=\"14.00\">5</text>\n",
       "</g>\n",
       "<!-- b2 -->\n",
       "<g id=\"node3\" class=\"node\">\n",
       "<title>b2</title>\n",
       "<polygon fill=\"none\" stroke=\"black\" points=\"118,-36 59,-36 59,0 118,0 118,-36\"/>\n",
       "<text text-anchor=\"start\" x=\"71.5\" y=\"-19.8\" font-family=\"Times,serif\" font-size=\"14.00\">TGate</text>\n",
       "<text text-anchor=\"start\" x=\"67\" y=\"-9\" font-family=\"monospace\" font-size=\"10.00\">TGate()</text>\n",
       "</g>\n",
       "<!-- b1&#45;&gt;b2 -->\n",
       "<g id=\"edge2\" class=\"edge\">\n",
       "<title>b1-&gt;b2</title>\n",
       "<path fill=\"none\" stroke=\"black\" d=\"M137.16,-86.8C128.47,-74.7 116.71,-58.3 106.92,-44.67\"/>\n",
       "<polygon fill=\"black\" stroke=\"black\" points=\"109.5,-42.26 100.83,-36.18 103.81,-46.34 109.5,-42.26\"/>\n",
       "<text text-anchor=\"middle\" x=\"127\" y=\"-57.8\" font-family=\"Times,serif\" font-size=\"14.00\">8</text>\n",
       "</g>\n",
       "<!-- b3 -->\n",
       "<g id=\"node4\" class=\"node\">\n",
       "<title>b3</title>\n",
       "<polygon fill=\"none\" stroke=\"black\" points=\"285,-36 136,-36 136,0 285,0 285,-36\"/>\n",
       "<text text-anchor=\"start\" x=\"163.5\" y=\"-19.8\" font-family=\"Times,serif\" font-size=\"14.00\">ArbitraryClifford</text>\n",
       "<text text-anchor=\"start\" x=\"144\" y=\"-9\" font-family=\"monospace\" font-size=\"10.00\">ArbitraryClifford(n=2)</text>\n",
       "</g>\n",
       "<!-- b1&#45;&gt;b3 -->\n",
       "<g id=\"edge3\" class=\"edge\">\n",
       "<title>b1-&gt;b3</title>\n",
       "<path fill=\"none\" stroke=\"black\" d=\"M161.84,-86.8C170.53,-74.7 182.29,-58.3 192.08,-44.67\"/>\n",
       "<polygon fill=\"black\" stroke=\"black\" points=\"195.19,-46.34 198.17,-36.18 189.5,-42.26 195.19,-46.34\"/>\n",
       "<text text-anchor=\"middle\" x=\"196.5\" y=\"-57.8\" font-family=\"Times,serif\" font-size=\"14.00\">O(1)</text>\n",
       "</g>\n",
       "</g>\n",
       "</svg>"
      ],
      "text/plain": [
       "<IPython.core.display.SVG object>"
      ]
     },
     "execution_count": 7,
     "metadata": {},
     "output_type": "execute_result"
    }
   ],
   "source": [
    "import attrs\n",
    "\n",
    "ssa = SympySymbolAllocator()\n",
    "cv1 = ssa.new_symbol('cv1')\n",
    "cv2 = ssa.new_symbol('cv2')\n",
    "\n",
    "\n",
    "def generalize(bloq):\n",
    "    if isinstance(bloq, And):\n",
    "        return attrs.evolve(bloq, cv1=cv1, cv2=cv2)\n",
    "    \n",
    "    return bloq\n",
    "\n",
    "graph, sigma = get_bloq_counts_graph(MultiAnd(cvs=(1,0)*3), generalize, ssa)\n",
    "GraphvizCounts(graph).get_svg()"
   ]
  },
  {
   "cell_type": "code",
   "execution_count": 8,
   "id": "7cd3ea34",
   "metadata": {},
   "outputs": [
    {
     "data": {
      "text/markdown": [
       " - `TGate()`: 20\n",
       " - `ArbitraryClifford(n=2)`: $\\displaystyle O\\left(1\\right)$"
      ],
      "text/plain": [
       "<IPython.core.display.Markdown object>"
      ]
     },
     "execution_count": 8,
     "metadata": {},
     "output_type": "execute_result"
    }
   ],
   "source": [
    "markdown_counts_sigma(sigma)"
   ]
  }
 ],
 "metadata": {
  "kernelspec": {
   "display_name": "Python 3 (ipykernel)",
   "language": "python",
   "name": "python3"
  },
  "language_info": {
   "codemirror_mode": {
    "name": "ipython",
    "version": 3
   },
   "file_extension": ".py",
   "mimetype": "text/x-python",
   "name": "python",
   "nbconvert_exporter": "python",
   "pygments_lexer": "ipython3",
   "version": "3.11.5"
  }
 },
 "nbformat": 4,
 "nbformat_minor": 5
}
