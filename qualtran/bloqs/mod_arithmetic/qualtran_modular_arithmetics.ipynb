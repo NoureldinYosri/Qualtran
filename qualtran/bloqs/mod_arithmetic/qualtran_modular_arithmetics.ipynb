{
 "cells": [
  {
   "cell_type": "markdown",
   "metadata": {},
   "source": [
    "---\n",
    "title: Quantum Modular Arithmetic in Qualtran\n",
    "author: [Noureldin Yosri](https://github.com/NoureldinYosri)\n",
    "date: today\n",
    "..."
   ]
  },
  {
   "cell_type": "markdown",
   "metadata": {
    "id": "wMDM6DC6FJlO"
   },
   "source": [
    "# Introduction\n",
    "\n",
    "Modular arithmetic is the backbone of number theortic and cryptographic algorithms such as factoring and elliptic curve cryptography. Qualtran provides a library of the state of the art constructions for peforming these operations on a fault tolerant quantum computer.\n",
    "\n",
    "This notebook shows the different operations, their constructions and computational costs. The following table lists the different operations, their costs and source of the construction.\n",
    "\n",
    "| operation                      | Bloq                                                                               | Qualtran Toffoli Cost     | Toffoli Cost From [Figure 8](https://arxiv.org/abs/2306.08585)   | references                                                                                                                                                                                                                                                                                                                                                                                                                  |\n",
    "|:-------------------------------|:-----------------------------------------------------------------------------------|:--------------------------|:-----------------------------------------------------------------|:----------------------------------------------------------------------------------------------------------------------------------------------------------------------------------------------------------------------------------------------------------------------------------------------------------------------------------------------------------------------------------------------------------------------------|\n",
    "| modular addition               | `qualtran.bloqs.mod_arithmetic.mod_addition.ModAdd`                                | $4 n - 1$                 | $4 n$                                                            | [How to compute a 256-bit elliptic curve private key with only 50 million Toffoli gates](https://arxiv.org/abs/2306.08585)                                                                                                                                                                                                                                                                                                  |\n",
    "| modular controlled addition    | `qualtran.bloqs.mod_arithmetic.mod_addition.CModAdd`                               | $5 n + 1$                 | $5 n$                                                            | [How to compute a 256-bit elliptic curve private key with only 50 million Toffoli gates](https://arxiv.org/abs/2306.08585)                                                                                                                                                                                                                                                                                                  |\n",
    "| modular negation               | `qualtran.bloqs.mod_arithmetic.mod_subtraction.ModNeg`                             | $3 n - 3$                 | $2 n$                                                            | [How to compute a 256-bit elliptic curve private key with only 50 million Toffoli gates](https://arxiv.org/abs/2306.08585)                                                                                                                                                                                                                                                                                                  |\n",
    "| modular controlled negation    | `qualtran.bloqs.mod_arithmetic.mod_subtraction.CModNeg`                            | $3 n - 2$                 | $3 n$                                                            | [How to compute a 256-bit elliptic curve private key with only 50 million Toffoli gates](https://arxiv.org/abs/2306.08585)                                                                                                                                                                                                                                                                                                  |\n",
    "| modular subtraction            | `qualtran.bloqs.mod_arithmetic.mod_subtraction.ModSub`                             | $6 n - 3$                 | $6 n$                                                            | [How to compute a 256-bit elliptic curve private key with only 50 million Toffoli gates](https://arxiv.org/abs/2306.08585)                                                                                                                                                                                                                                                                                                  |\n",
    "| modular controlled subtraction | `qualtran.bloqs.mod_arithmetic.mod_subtraction.CModSub`                            | $7 n - 1$                 | $7 n$                                                            | [How to compute a 256-bit elliptic curve private key with only 50 million Toffoli gates](https://arxiv.org/abs/2306.08585)                                                                                                                                                                                                                                                                                                  |\n",
    "| modular doubling               | `qualtran.bloqs.mod_arithmetic.mod_multiplication.ModDbl`                          | $2 n + 1$                 | $2 n$                                                            | [How to compute a 256-bit elliptic curve private key with only 50 million Toffoli gates](https://arxiv.org/abs/2306.08585)                                                                                                                                                                                                                                                                                                  |\n",
    "| modular multiplication         | `qualtran.bloqs.mod_arithmetic.mod_multiplication.DirtyOutOfPlaceMontgomeryModMul` | $2.25 n^{2} +$$ 7.25 n - 1$ | $2.25 n^{2} + 9 n$                                               | - [Performance Analysis of a Repetition Cat Code Architecture: Computing 256-bit Elliptic Curve Logarithm in 9 Hours with 126 133 Cat Qubits](https://arxiv.org/abs/2302.06639)</br>- [How to compute a 256-bit elliptic curve private key with only 50 million Toffoli gates](https://arxiv.org/abs/2306.08585)                                                                                                            |\n",
    "| modular multiplicative inverse | `qualtran.bloqs.mod_arithmetic.mod_division.KaliskiModInverse`                     | $26 n^{2} + 9 n - 1$      | $26 n^{2} + 2 n$                                                 | - [Performance Analysis of a Repetition Cat Code Architecture: Computing 256-bit Elliptic Curve Logarithm in 9 Hours with 126 133 Cat Qubits](https://arxiv.org/abs/2302.06639)</br>- [Improved quantum circuits for elliptic curve discrete logarithms](https://arxiv.org/abs/2001.09580)</br>- [How to compute a 256-bit elliptic curve private key with only 50 million Toffoli gates](https://arxiv.org/abs/2306.08585) |\n",
    "\n",
    "\n",
    "\n",
    "\n",
    "If you compare qualtran's costs with the costs from Figure 8 of [How to compute a 256-bit elliptic curve private key with only 50 million Toffoli gates](https://arxiv.org/abs/2306.08585) you will find that generally we match the coefficient of the leading term while having smaller coefficients for the lower terms and we also list the constants. The two exception to this are modular negation where we have a higher leading coefficient ($3$ vs $2$) and modular inversion where we match the leading coefficient but have a higher coefficient for the lower term ($9$ vs $2$).\n",
    "\n",
    "### Modular Negatition\n",
    "The strucutre of the construction of this operation consists of two operations that cost $n$ toffolis between two n-bit toffolis resulting in $3n$ toffolis. The authors of [How to compute a 256-bit elliptic curve private key with only 50 million Toffoli gates](https://arxiv.org/abs/2306.08585) suggests using measurement based uncomputation (see. [Halving the cost of quantum addition](https://quantum-journal.org/papers/q-2018-06-18-74/#)) to turn the last n-bit toffoli into measurements + cliffords thus reducing the cost to $2n$. However, measurement based uncomputation doesn't strictly apply here since the control register is modified between the initial `And` computation and its adjoint/uncomputation, this leads to a mismatch between the value in the register and the value in the hidden ancillas with the overall effect being the introduction of random phase flips. That is the final state will have some coefficients multiplied by $-1$ randomly. We chose not to introduce this effect into our construction.\n",
    "\n",
    "\n",
    "### Modular Inversion\n",
    "Our cost for this operation $26n^2+9n-1$ which differs from their cost of $26n^2+2n$ by $7n-1$. The reason of this, is the constants that they omitted for the other operations. This operation consists of a loop that repeats the same circuit $2n$ times, thus the constants of that inner circuit contribute to the coefficient of $n$ since they get multiplied by $2n$. This bloq shows Qualtran's ability to compute accurate resource estimates."
   ]
  },
  {
   "cell_type": "markdown",
   "metadata": {
    "id": "eR9WcJmytsr4"
   },
   "source": [
    "## Assumptions\n",
    "1. Certain operations (e.g. modular doubling) assume the modulus is odd. This is because most applications (e.g. factoring) have this assumption and because the construction becomes simpler.\n",
    "1.  All operations assume their inputs are valid. For example modular inversion assumes that all the input states have an inverse and modular multiplication assumes that its inputs are $\\in [1, \\mod)$ that is they exclude $0$.\n",
    "1. In literature modular operations are assumed to become identity when they apply to states outside their valid range. For example, the circuit applying modular negation modulu $m$ with $n$ bits is defined as\n",
    "$$\n",
    "\\mathbb{O} \\ket{x} →\n",
    "\\begin{cases}\n",
    "\\ket{- x \\mod m} & 0 \\leq x < m \\\\\n",
    "\\ket{x} & p < x < 2^n\n",
    "\\end{cases}\n",
    "$$\n",
    "This is done to ensure that the circuit is unitary. However, constructions always assume that their inputs are valid as explained above.\n",
    "\n",
    "\n",
    "\n",
    "## Correctness checks for constructions\n",
    "Qualtran provides a suite of tools to check the correctness of bloq construction/decomposition. Out of them, we highlight the classical simulation check. This check is very important to arithmetic bloqs since it ensure that if the input is a single classical state then final state is the expected single classical state with one of the limitations of this test being that it can't detect problems with phases.\n",
    "\n",
    "Even with this limitation the classical simulation check was able to detect problems with constructions from the literature. For the example, the use of measurement based uncomputation to lower the cost of modular negation in [How to compute a 256-bit elliptic curve private key\n",
    "with only 50 million Toffoli gates](https://arxiv.org/pdf/2306.08585) where it is not applicable.\n",
    "\n",
    "A second test is checking the matrix of the construction which we calculate using tensor network contraction. Since all modular arithmetic function are reversible functions, their matrices are permutation matrices. More preciesly the submatrix for the valid input range (e.g. $[0, \\mod) × [0, \\mod)$ for modular negation) should be a permutation matrix."
   ]
  },
  {
   "cell_type": "code",
   "execution_count": 25,
   "metadata": {
    "id": "eJ--ENSj4fZq"
   },
   "outputs": [],
   "source": [
    "import qualtran\n",
    "import cirq\n",
    "import sympy\n",
    "import numpy as np\n",
    "\n",
    "from qualtran import QMontgomeryUInt\n",
    "from qualtran.drawing import show_bloq, show_call_graph\n",
    "import qualtran.bloqs.mod_arithmetic as qma\n",
    "from qualtran.resource_counting import get_cost_value, QECGatesCost"
   ]
  },
  {
   "cell_type": "markdown",
   "metadata": {
    "id": "5SjFPIudBVJr"
   },
   "source": [
    "### Addition\n",
    "Quantum modular addition performs the transformation $\\ket{x} \\ket{y} → \\ket{x} \\ket{(x+y) \\mod m}$\n",
    "\n",
    "In qualtran the bloq that represents this operation is `ModAdd`. The circuit construction for this operation is a translation of the classical program:\n",
    "\n",
    "```python\n",
    "def add_mod(x, y, m):\n",
    "    y += x  # normal in-place addition y := x + y.\n",
    "    y -= m  # subtract constant y := x + y - m.\n",
    "    c = y < 0  # c := (x + y - m < 0)\n",
    "    if c:\n",
    "      y += m  # y := x + y\n",
    "    else:\n",
    "      #  y := x + y - m  which is >= 0\n",
    "    c ^= y > x  # Regardless of what happened in the condition above c := 1\n",
    "    c ^= 1  # c := 0\n",
    "    return x, y\n",
    "```\n",
    "\n",
    "Which means we will do:\n",
    "1. one addition\n",
    "1. two addition with a constant\n",
    "1. one bit flip\n",
    "\n",
    "Note that the check $y < 0$ is done by simply checking the overflow bit.\n",
    "\n",
    "Which can be seen the call graph below"
   ]
  },
  {
   "cell_type": "code",
   "execution_count": 3,
   "metadata": {
    "colab": {
     "base_uri": "https://localhost:8080/",
     "height": 563
    },
    "id": "2YIWlwoOBSZE",
    "outputId": "0c797205-fa6c-480c-f1a7-2cdedfbb7ddb"
   },
   "outputs": [
    {
     "data": {
      "image/svg+xml": [
       "<svg xmlns=\"http://www.w3.org/2000/svg\" xmlns:xlink=\"http://www.w3.org/1999/xlink\" width=\"234pt\" height=\"98pt\" viewBox=\"0.00 0.00 234.00 98.00\">\n",
       "<g id=\"graph0\" class=\"graph\" transform=\"scale(1 1) rotate(0) translate(4 94)\">\n",
       "<title>my_graph</title>\n",
       "<polygon fill=\"white\" stroke=\"transparent\" points=\"-4,4 -4,-94 230,-94 230,4 -4,4\"/>\n",
       "<!-- x_G3 -->\n",
       "<g id=\"node1\" class=\"node\">\n",
       "<title>x_G3</title>\n",
       "<text text-anchor=\"middle\" x=\"27\" y=\"-68.3\" font-family=\"Times,serif\" font-size=\"14.00\">x</text>\n",
       "</g>\n",
       "<!-- ModAdd -->\n",
       "<g id=\"node3\" class=\"node\">\n",
       "<title>ModAdd</title>\n",
       "<polygon fill=\"none\" stroke=\"black\" points=\"91,-66 91,-83 135,-83 135,-66 91,-66\"/>\n",
       "<text text-anchor=\"start\" x=\"94\" y=\"-72\" font-family=\"Times,serif\" font-size=\"10.00\">ModAdd</text>\n",
       "<polygon fill=\"none\" stroke=\"black\" points=\"91,-45 91,-66 135,-66 135,-45 91,-45\"/>\n",
       "<text text-anchor=\"start\" x=\"109.5\" y=\"-51.8\" font-family=\"Times,serif\" font-size=\"14.00\">x</text>\n",
       "<polygon fill=\"none\" stroke=\"black\" points=\"91,-24 91,-45 135,-45 135,-24 91,-24\"/>\n",
       "<text text-anchor=\"start\" x=\"109.5\" y=\"-30.8\" font-family=\"Times,serif\" font-size=\"14.00\">y</text>\n",
       "</g>\n",
       "<!-- x_G3&#45;&gt;ModAdd -->\n",
       "<g id=\"edge1\" class=\"edge\">\n",
       "<title>x_G3:e-&gt;ModAdd:w</title>\n",
       "<path fill=\"none\" stroke=\"black\" d=\"M54,-72C71.22,-72 72.97,-57.23 88.98,-56.07\"/>\n",
       "<ellipse fill=\"black\" stroke=\"black\" cx=\"90\" cy=\"-56.04\" rx=\"1\" ry=\"1\"/>\n",
       "<text text-anchor=\"middle\" x=\"72.5\" y=\"-67\" font-family=\"Times,serif\" font-size=\"10.00\">3</text>\n",
       "</g>\n",
       "<!-- y_G5 -->\n",
       "<g id=\"node2\" class=\"node\">\n",
       "<title>y_G5</title>\n",
       "<text text-anchor=\"middle\" x=\"27\" y=\"-14.3\" font-family=\"Times,serif\" font-size=\"14.00\">y</text>\n",
       "</g>\n",
       "<!-- y_G5&#45;&gt;ModAdd -->\n",
       "<g id=\"edge2\" class=\"edge\">\n",
       "<title>y_G5:e-&gt;ModAdd:w</title>\n",
       "<path fill=\"none\" stroke=\"black\" d=\"M54,-18C71.22,-18 72.97,-32.77 88.98,-33.93\"/>\n",
       "<ellipse fill=\"black\" stroke=\"black\" cx=\"90\" cy=\"-33.96\" rx=\"1\" ry=\"1\"/>\n",
       "<text text-anchor=\"middle\" x=\"72.5\" y=\"-29\" font-family=\"Times,serif\" font-size=\"10.00\">3</text>\n",
       "</g>\n",
       "<!-- x_G4 -->\n",
       "<g id=\"node4\" class=\"node\">\n",
       "<title>x_G4</title>\n",
       "<text text-anchor=\"middle\" x=\"199\" y=\"-68.3\" font-family=\"Times,serif\" font-size=\"14.00\">x</text>\n",
       "</g>\n",
       "<!-- ModAdd&#45;&gt;x_G4 -->\n",
       "<g id=\"edge3\" class=\"edge\">\n",
       "<title>ModAdd:e-&gt;x_G4:w</title>\n",
       "<path fill=\"none\" stroke=\"black\" d=\"M135,-56C152.22,-56 153.97,-70.77 169.98,-71.93\"/>\n",
       "<ellipse fill=\"black\" stroke=\"black\" cx=\"171\" cy=\"-71.96\" rx=\"1\" ry=\"1\"/>\n",
       "<text text-anchor=\"middle\" x=\"153.5\" y=\"-67\" font-family=\"Times,serif\" font-size=\"10.00\">3</text>\n",
       "</g>\n",
       "<!-- y_G1 -->\n",
       "<g id=\"node5\" class=\"node\">\n",
       "<title>y_G1</title>\n",
       "<text text-anchor=\"middle\" x=\"199\" y=\"-14.3\" font-family=\"Times,serif\" font-size=\"14.00\">y</text>\n",
       "</g>\n",
       "<!-- ModAdd&#45;&gt;y_G1 -->\n",
       "<g id=\"edge4\" class=\"edge\">\n",
       "<title>ModAdd:e-&gt;y_G1:w</title>\n",
       "<path fill=\"none\" stroke=\"black\" d=\"M135,-34C152.22,-34 153.97,-19.23 169.98,-18.07\"/>\n",
       "<ellipse fill=\"black\" stroke=\"black\" cx=\"171\" cy=\"-18.04\" rx=\"1\" ry=\"1\"/>\n",
       "<text text-anchor=\"middle\" x=\"153.5\" y=\"-29\" font-family=\"Times,serif\" font-size=\"10.00\">3</text>\n",
       "</g>\n",
       "</g>\n",
       "</svg>"
      ],
      "text/plain": [
       "<IPython.core.display.SVG object>"
      ]
     },
     "metadata": {},
     "output_type": "display_data"
    },
    {
     "data": {
      "image/svg+xml": [
       "<svg xmlns=\"http://www.w3.org/2000/svg\" xmlns:xlink=\"http://www.w3.org/1999/xlink\" width=\"625pt\" height=\"305pt\" viewBox=\"0.00 0.00 624.50 305.00\">\n",
       "<g id=\"graph0\" class=\"graph\" transform=\"scale(1 1) rotate(0) translate(4 301)\">\n",
       "<title>counts</title>\n",
       "<polygon fill=\"white\" stroke=\"transparent\" points=\"-4,4 -4,-301 620.5,-301 620.5,4 -4,4\"/>\n",
       "<!-- b0 -->\n",
       "<g id=\"node1\" class=\"node\">\n",
       "<title>b0</title>\n",
       "<polygon fill=\"none\" stroke=\"black\" points=\"264,-269.5 264,-292.5 358,-292.5 358,-269.5 264,-269.5\"/>\n",
       "<text text-anchor=\"start\" x=\"292\" y=\"-278.5\" font-family=\"Times,serif\" font-size=\"10.00\">ModAdd</text>\n",
       "<polygon fill=\"none\" stroke=\"black\" points=\"264,-246.5 264,-269.5 335,-269.5 335,-246.5 264,-246.5\"/>\n",
       "<text text-anchor=\"start\" x=\"285.5\" y=\"-255.5\" font-family=\"Times,serif\" font-size=\"10.00\">Qubits</text>\n",
       "<polygon fill=\"none\" stroke=\"black\" points=\"335,-246.5 335,-269.5 358,-269.5 358,-246.5 335,-246.5\"/>\n",
       "<text text-anchor=\"start\" x=\"341\" y=\"-255.5\" font-family=\"Times,serif\" font-size=\"10.00\">15</text>\n",
       "<polygon fill=\"none\" stroke=\"black\" points=\"264,-223.5 264,-246.5 335,-246.5 335,-223.5 264,-223.5\"/>\n",
       "<text text-anchor=\"start\" x=\"288.5\" y=\"-232.5\" font-family=\"Times,serif\" font-size=\"10.00\">Ands</text>\n",
       "<polygon fill=\"none\" stroke=\"black\" points=\"335,-223.5 335,-246.5 358,-246.5 358,-223.5 335,-223.5\"/>\n",
       "<text text-anchor=\"start\" x=\"341.5\" y=\"-232.5\" font-family=\"Times,serif\" font-size=\"10.00\">11</text>\n",
       "<polygon fill=\"none\" stroke=\"black\" points=\"264,-200.5 264,-223.5 335,-223.5 335,-200.5 264,-200.5\"/>\n",
       "<text text-anchor=\"start\" x=\"281\" y=\"-209.5\" font-family=\"Times,serif\" font-size=\"10.00\">Cliffords</text>\n",
       "<polygon fill=\"none\" stroke=\"black\" points=\"335,-200.5 335,-223.5 358,-223.5 358,-200.5 335,-200.5\"/>\n",
       "<text text-anchor=\"start\" x=\"341\" y=\"-209.5\" font-family=\"Times,serif\" font-size=\"10.00\">88</text>\n",
       "<polygon fill=\"none\" stroke=\"black\" points=\"264,-177.5 264,-200.5 335,-200.5 335,-177.5 264,-177.5\"/>\n",
       "<text text-anchor=\"start\" x=\"270\" y=\"-186.5\" font-family=\"Times,serif\" font-size=\"10.00\">Measurements</text>\n",
       "<polygon fill=\"none\" stroke=\"black\" points=\"335,-177.5 335,-200.5 358,-200.5 358,-177.5 335,-177.5\"/>\n",
       "<text text-anchor=\"start\" x=\"341.5\" y=\"-186.5\" font-family=\"Times,serif\" font-size=\"10.00\">11</text>\n",
       "</g>\n",
       "<!-- b1 -->\n",
       "<g id=\"node2\" class=\"node\">\n",
       "<title>b1</title>\n",
       "<polygon fill=\"none\" stroke=\"black\" points=\"8,-84.5 8,-107.5 102,-107.5 102,-84.5 8,-84.5\"/>\n",
       "<text text-anchor=\"start\" x=\"45.5\" y=\"-93.5\" font-family=\"Times,serif\" font-size=\"10.00\">Add</text>\n",
       "<polygon fill=\"none\" stroke=\"black\" points=\"8,-61.5 8,-84.5 79,-84.5 79,-61.5 8,-61.5\"/>\n",
       "<text text-anchor=\"start\" x=\"32.5\" y=\"-70.5\" font-family=\"Times,serif\" font-size=\"10.00\">Ands</text>\n",
       "<polygon fill=\"none\" stroke=\"black\" points=\"79,-61.5 79,-84.5 102,-84.5 102,-61.5 79,-61.5\"/>\n",
       "<text text-anchor=\"start\" x=\"87.5\" y=\"-70.5\" font-family=\"Times,serif\" font-size=\"10.00\">3</text>\n",
       "<polygon fill=\"none\" stroke=\"black\" points=\"8,-38.5 8,-61.5 79,-61.5 79,-38.5 8,-38.5\"/>\n",
       "<text text-anchor=\"start\" x=\"25\" y=\"-47.5\" font-family=\"Times,serif\" font-size=\"10.00\">Cliffords</text>\n",
       "<polygon fill=\"none\" stroke=\"black\" points=\"79,-38.5 79,-61.5 102,-61.5 102,-38.5 79,-38.5\"/>\n",
       "<text text-anchor=\"start\" x=\"85\" y=\"-47.5\" font-family=\"Times,serif\" font-size=\"10.00\">18</text>\n",
       "<polygon fill=\"none\" stroke=\"black\" points=\"8,-15.5 8,-38.5 79,-38.5 79,-15.5 8,-15.5\"/>\n",
       "<text text-anchor=\"start\" x=\"14\" y=\"-24.5\" font-family=\"Times,serif\" font-size=\"10.00\">Measurements</text>\n",
       "<polygon fill=\"none\" stroke=\"black\" points=\"79,-15.5 79,-38.5 102,-38.5 102,-15.5 79,-15.5\"/>\n",
       "<text text-anchor=\"start\" x=\"87.5\" y=\"-24.5\" font-family=\"Times,serif\" font-size=\"10.00\">3</text>\n",
       "</g>\n",
       "<!-- b0&#45;&gt;b1 -->\n",
       "<g id=\"edge1\" class=\"edge\">\n",
       "<title>b0-&gt;b1</title>\n",
       "<path fill=\"none\" stroke=\"black\" d=\"M255.93,-206.91C216.36,-186.05 162.54,-155.53 119,-123 116.91,-121.44 114.81,-119.82 112.72,-118.15\"/>\n",
       "<polygon fill=\"black\" stroke=\"black\" points=\"114.64,-115.19 104.7,-111.52 110.18,-120.59 114.64,-115.19\"/>\n",
       "<text text-anchor=\"middle\" x=\"168.5\" y=\"-144.8\" font-family=\"Times,serif\" font-size=\"14.00\">1</text>\n",
       "</g>\n",
       "<!-- b2 -->\n",
       "<g id=\"node3\" class=\"node\">\n",
       "<title>b2</title>\n",
       "<polygon fill=\"none\" stroke=\"black\" points=\"136,-84.5 136,-107.5 230,-107.5 230,-84.5 136,-84.5\"/>\n",
       "<text text-anchor=\"start\" x=\"170\" y=\"-93.5\" font-family=\"Times,serif\" font-size=\"10.00\">AddK</text>\n",
       "<polygon fill=\"none\" stroke=\"black\" points=\"136,-61.5 136,-84.5 207,-84.5 207,-61.5 136,-61.5\"/>\n",
       "<text text-anchor=\"start\" x=\"160.5\" y=\"-70.5\" font-family=\"Times,serif\" font-size=\"10.00\">Ands</text>\n",
       "<polygon fill=\"none\" stroke=\"black\" points=\"207,-61.5 207,-84.5 230,-84.5 230,-61.5 207,-61.5\"/>\n",
       "<text text-anchor=\"start\" x=\"215.5\" y=\"-70.5\" font-family=\"Times,serif\" font-size=\"10.00\">3</text>\n",
       "<polygon fill=\"none\" stroke=\"black\" points=\"136,-38.5 136,-61.5 207,-61.5 207,-38.5 136,-38.5\"/>\n",
       "<text text-anchor=\"start\" x=\"153\" y=\"-47.5\" font-family=\"Times,serif\" font-size=\"10.00\">Cliffords</text>\n",
       "<polygon fill=\"none\" stroke=\"black\" points=\"207,-38.5 207,-61.5 230,-61.5 230,-38.5 207,-38.5\"/>\n",
       "<text text-anchor=\"start\" x=\"213\" y=\"-47.5\" font-family=\"Times,serif\" font-size=\"10.00\">22</text>\n",
       "<polygon fill=\"none\" stroke=\"black\" points=\"136,-15.5 136,-38.5 207,-38.5 207,-15.5 136,-15.5\"/>\n",
       "<text text-anchor=\"start\" x=\"142\" y=\"-24.5\" font-family=\"Times,serif\" font-size=\"10.00\">Measurements</text>\n",
       "<polygon fill=\"none\" stroke=\"black\" points=\"207,-15.5 207,-38.5 230,-38.5 230,-15.5 207,-15.5\"/>\n",
       "<text text-anchor=\"start\" x=\"215.5\" y=\"-24.5\" font-family=\"Times,serif\" font-size=\"10.00\">3</text>\n",
       "</g>\n",
       "<!-- b0&#45;&gt;b2 -->\n",
       "<g id=\"edge2\" class=\"edge\">\n",
       "<title>b0-&gt;b2</title>\n",
       "<path fill=\"none\" stroke=\"black\" d=\"M265.87,-173.86C252.82,-156.32 238.62,-137.24 225.72,-119.9\"/>\n",
       "<polygon fill=\"black\" stroke=\"black\" points=\"228.28,-117.48 219.5,-111.55 222.66,-121.66 228.28,-117.48\"/>\n",
       "<text text-anchor=\"middle\" x=\"254.5\" y=\"-144.8\" font-family=\"Times,serif\" font-size=\"14.00\">1</text>\n",
       "</g>\n",
       "<!-- b3 -->\n",
       "<g id=\"node4\" class=\"node\">\n",
       "<title>b3</title>\n",
       "<polygon fill=\"none\" stroke=\"black\" points=\"264,-84.5 264,-107.5 358,-107.5 358,-84.5 264,-84.5\"/>\n",
       "<text text-anchor=\"start\" x=\"298\" y=\"-93.5\" font-family=\"Times,serif\" font-size=\"10.00\">AddK</text>\n",
       "<polygon fill=\"none\" stroke=\"black\" points=\"264,-61.5 264,-84.5 335,-84.5 335,-61.5 264,-61.5\"/>\n",
       "<text text-anchor=\"start\" x=\"288.5\" y=\"-70.5\" font-family=\"Times,serif\" font-size=\"10.00\">Ands</text>\n",
       "<polygon fill=\"none\" stroke=\"black\" points=\"335,-61.5 335,-84.5 358,-84.5 358,-61.5 335,-61.5\"/>\n",
       "<text text-anchor=\"start\" x=\"343.5\" y=\"-70.5\" font-family=\"Times,serif\" font-size=\"10.00\">2</text>\n",
       "<polygon fill=\"none\" stroke=\"black\" points=\"264,-38.5 264,-61.5 335,-61.5 335,-38.5 264,-38.5\"/>\n",
       "<text text-anchor=\"start\" x=\"281\" y=\"-47.5\" font-family=\"Times,serif\" font-size=\"10.00\">Cliffords</text>\n",
       "<polygon fill=\"none\" stroke=\"black\" points=\"335,-38.5 335,-61.5 358,-61.5 358,-38.5 335,-38.5\"/>\n",
       "<text text-anchor=\"start\" x=\"341\" y=\"-47.5\" font-family=\"Times,serif\" font-size=\"10.00\">17</text>\n",
       "<polygon fill=\"none\" stroke=\"black\" points=\"264,-15.5 264,-38.5 335,-38.5 335,-15.5 264,-15.5\"/>\n",
       "<text text-anchor=\"start\" x=\"270\" y=\"-24.5\" font-family=\"Times,serif\" font-size=\"10.00\">Measurements</text>\n",
       "<polygon fill=\"none\" stroke=\"black\" points=\"335,-15.5 335,-38.5 358,-38.5 358,-15.5 335,-15.5\"/>\n",
       "<text text-anchor=\"start\" x=\"343.5\" y=\"-24.5\" font-family=\"Times,serif\" font-size=\"10.00\">2</text>\n",
       "</g>\n",
       "<!-- b0&#45;&gt;b3 -->\n",
       "<g id=\"edge3\" class=\"edge\">\n",
       "<title>b0-&gt;b3</title>\n",
       "<path fill=\"none\" stroke=\"black\" d=\"M311,-173.86C311,-156.96 311,-138.62 311,-121.8\"/>\n",
       "<polygon fill=\"black\" stroke=\"black\" points=\"314.5,-121.55 311,-111.55 307.5,-121.55 314.5,-121.55\"/>\n",
       "<text text-anchor=\"middle\" x=\"314.5\" y=\"-144.8\" font-family=\"Times,serif\" font-size=\"14.00\">1</text>\n",
       "</g>\n",
       "<!-- b4 -->\n",
       "<g id=\"node5\" class=\"node\">\n",
       "<title>b4</title>\n",
       "<polygon fill=\"none\" stroke=\"black\" points=\"393,-95.5 393,-118.5 508,-118.5 508,-95.5 393,-95.5\"/>\n",
       "<text text-anchor=\"start\" x=\"399\" y=\"-104.5\" font-family=\"Times,serif\" font-size=\"10.00\">LinearDepthGreaterThan</text>\n",
       "<polygon fill=\"none\" stroke=\"black\" points=\"393,-72.5 393,-95.5 474,-95.5 474,-72.5 393,-72.5\"/>\n",
       "<text text-anchor=\"start\" x=\"419.5\" y=\"-81.5\" font-family=\"Times,serif\" font-size=\"10.00\">Qubits</text>\n",
       "<polygon fill=\"none\" stroke=\"black\" points=\"474,-72.5 474,-95.5 508,-95.5 508,-72.5 474,-72.5\"/>\n",
       "<text text-anchor=\"start\" x=\"485.5\" y=\"-81.5\" font-family=\"Times,serif\" font-size=\"10.00\">12</text>\n",
       "<polygon fill=\"none\" stroke=\"black\" points=\"393,-49.5 393,-72.5 474,-72.5 474,-49.5 393,-49.5\"/>\n",
       "<text text-anchor=\"start\" x=\"422.5\" y=\"-58.5\" font-family=\"Times,serif\" font-size=\"10.00\">Ands</text>\n",
       "<polygon fill=\"none\" stroke=\"black\" points=\"474,-49.5 474,-72.5 508,-72.5 508,-49.5 474,-49.5\"/>\n",
       "<text text-anchor=\"start\" x=\"488\" y=\"-58.5\" font-family=\"Times,serif\" font-size=\"10.00\">3</text>\n",
       "<polygon fill=\"none\" stroke=\"black\" points=\"393,-26.5 393,-49.5 474,-49.5 474,-26.5 393,-26.5\"/>\n",
       "<text text-anchor=\"start\" x=\"415\" y=\"-35.5\" font-family=\"Times,serif\" font-size=\"10.00\">Cliffords</text>\n",
       "<polygon fill=\"none\" stroke=\"black\" points=\"474,-26.5 474,-49.5 508,-49.5 508,-26.5 474,-26.5\"/>\n",
       "<text text-anchor=\"start\" x=\"485.5\" y=\"-35.5\" font-family=\"Times,serif\" font-size=\"10.00\">30</text>\n",
       "<polygon fill=\"none\" stroke=\"black\" points=\"393,-3.5 393,-26.5 474,-26.5 474,-3.5 393,-3.5\"/>\n",
       "<text text-anchor=\"start\" x=\"404\" y=\"-12.5\" font-family=\"Times,serif\" font-size=\"10.00\">Measurements</text>\n",
       "<polygon fill=\"none\" stroke=\"black\" points=\"474,-3.5 474,-26.5 508,-26.5 508,-3.5 474,-3.5\"/>\n",
       "<text text-anchor=\"start\" x=\"488\" y=\"-12.5\" font-family=\"Times,serif\" font-size=\"10.00\">3</text>\n",
       "</g>\n",
       "<!-- b0&#45;&gt;b4 -->\n",
       "<g id=\"edge4\" class=\"edge\">\n",
       "<title>b0-&gt;b4</title>\n",
       "<path fill=\"none\" stroke=\"black\" d=\"M360.01,-173.86C371.22,-159.99 383.21,-145.15 394.67,-130.97\"/>\n",
       "<polygon fill=\"black\" stroke=\"black\" points=\"397.4,-133.15 400.97,-123.17 391.96,-128.75 397.4,-133.15\"/>\n",
       "<text text-anchor=\"middle\" x=\"388.5\" y=\"-144.8\" font-family=\"Times,serif\" font-size=\"14.00\">1</text>\n",
       "</g>\n",
       "<!-- b5 -->\n",
       "<g id=\"node6\" class=\"node\">\n",
       "<title>b5</title>\n",
       "<polygon fill=\"none\" stroke=\"black\" points=\"542,-72.5 542,-95.5 609,-95.5 609,-72.5 542,-72.5\"/>\n",
       "<text text-anchor=\"start\" x=\"561.5\" y=\"-81.5\" font-family=\"Times,serif\" font-size=\"10.00\">XGate</text>\n",
       "<polygon fill=\"none\" stroke=\"black\" points=\"542,-49.5 542,-72.5 591,-72.5 591,-49.5 542,-49.5\"/>\n",
       "<text text-anchor=\"start\" x=\"552.5\" y=\"-58.5\" font-family=\"Times,serif\" font-size=\"10.00\">Qubits</text>\n",
       "<polygon fill=\"none\" stroke=\"black\" points=\"591,-49.5 591,-72.5 609,-72.5 609,-49.5 591,-49.5\"/>\n",
       "<text text-anchor=\"start\" x=\"597\" y=\"-58.5\" font-family=\"Times,serif\" font-size=\"10.00\">1</text>\n",
       "<polygon fill=\"none\" stroke=\"black\" points=\"542,-26.5 542,-49.5 591,-49.5 591,-26.5 542,-26.5\"/>\n",
       "<text text-anchor=\"start\" x=\"548\" y=\"-35.5\" font-family=\"Times,serif\" font-size=\"10.00\">Cliffords</text>\n",
       "<polygon fill=\"none\" stroke=\"black\" points=\"591,-26.5 591,-49.5 609,-49.5 609,-26.5 591,-26.5\"/>\n",
       "<text text-anchor=\"start\" x=\"597\" y=\"-35.5\" font-family=\"Times,serif\" font-size=\"10.00\">1</text>\n",
       "</g>\n",
       "<!-- b0&#45;&gt;b5 -->\n",
       "<g id=\"edge5\" class=\"edge\">\n",
       "<title>b0-&gt;b5</title>\n",
       "<path fill=\"none\" stroke=\"black\" d=\"M366.11,-212.75C411.3,-193.31 475.5,-161.93 524,-123 529.67,-118.45 535.18,-113.19 540.35,-107.72\"/>\n",
       "<polygon fill=\"black\" stroke=\"black\" points=\"543.06,-109.93 547.17,-100.16 537.87,-105.24 543.06,-109.93\"/>\n",
       "<text text-anchor=\"middle\" x=\"501.5\" y=\"-144.8\" font-family=\"Times,serif\" font-size=\"14.00\">1</text>\n",
       "</g>\n",
       "</g>\n",
       "</svg>"
      ],
      "text/plain": [
       "<IPython.core.display.SVG object>"
      ]
     },
     "metadata": {},
     "output_type": "display_data"
    }
   ],
   "source": [
    "bitsize = 3\n",
    "mod = 7\n",
    "\n",
    "add = qma.ModAdd(bitsize, mod)\n",
    "show_bloq(add)\n",
    "show_call_graph(add, max_depth=1)"
   ]
  },
  {
   "cell_type": "code",
   "execution_count": 4,
   "metadata": {
    "colab": {
     "base_uri": "https://localhost:8080/"
    },
    "id": "pUDsoRpBQ4uC",
    "outputId": "d5bf5307-b48b-444c-933c-dab2cc8dd46d"
   },
   "outputs": [
    {
     "name": "stdout",
     "output_type": "stream",
     "text": [
      "passed classical check :D\n"
     ]
    }
   ],
   "source": [
    "# To check the correctness we first do a classical simulation check\n",
    "for x in range(mod):\n",
    "    for y in range(mod):\n",
    "        assert add.call_classically(x=x, y=y) == (x, (x + y) % mod)\n",
    "print('passed classical check :D')"
   ]
  },
  {
   "cell_type": "code",
   "execution_count": 5,
   "metadata": {
    "colab": {
     "base_uri": "https://localhost:8080/"
    },
    "id": "8O9RbxF2PLjd",
    "outputId": "f09683aa-6536-461e-fec2-16273637c311"
   },
   "outputs": [
    {
     "name": "stdout",
     "output_type": "stream",
     "text": [
      "passed classical check :D\n"
     ]
    }
   ],
   "source": [
    "# Secondly we check that the construction/decomposition also passes the classical check.\n",
    "add_decom = add.decompose_bloq()\n",
    "for x in range(mod):\n",
    "    for y in range(mod):\n",
    "        assert add_decom.call_classically(x=x, y=y) == (x, (x + y) % mod)\n",
    "print('passed classical check :D')"
   ]
  },
  {
   "cell_type": "code",
   "execution_count": 12,
   "metadata": {
    "colab": {
     "base_uri": "https://localhost:8080/"
    },
    "id": "rV0e_lJfRqJW",
    "outputId": "807768f6-45f9-4221-b3da-9c5b2ba09ad4"
   },
   "outputs": [
    {
     "name": "stdout",
     "output_type": "stream",
     "text": [
      "passed phase check :D\n"
     ]
    }
   ],
   "source": [
    "# Thirdly we check that the unitary doesn't add any phases.\n",
    "matrix = add.tensor_contract()\n",
    "eps = 1e-6\n",
    "is_zero = np.abs(matrix) < eps\n",
    "is_one = np.abs(matrix - 1) < eps\n",
    "assert np.all(is_zero | is_one)  # all entries are ~0 or ~1\n",
    "print('passed phase check :D')"
   ]
  },
  {
   "cell_type": "code",
   "execution_count": 18,
   "metadata": {
    "colab": {
     "base_uri": "https://localhost:8080/"
    },
    "id": "EfseX_p6SMKD",
    "outputId": "f2330d6b-99e9-42b0-a29f-ee8dcc3bbc1f"
   },
   "outputs": [
    {
     "name": "stdout",
     "output_type": "stream",
     "text": [
      "toffoli cost: 4*n - 1\n",
      "passed symbolic cost check :D\n"
     ]
    }
   ],
   "source": [
    "# Finally we check the toffoli cost\n",
    "# According to table 5 in https://arxiv.org/pdf/2306.08585 this toffoli cost should be 4n up to a constant.\n",
    "symbolic_n, symbolic_mod = sympy.symbols('n m')\n",
    "cost = get_cost_value(qma.ModAdd(symbolic_n, symbolic_mod), QECGatesCost()).total_toffoli_only()\n",
    "print('toffoli cost:', cost)\n",
    "const = cost.subs(symbolic_n, 0)\n",
    "assert cost - const == 4 * symbolic_n\n",
    "print('passed symbolic cost check :D')"
   ]
  },
  {
   "cell_type": "code",
   "execution_count": 24,
   "metadata": {
    "id": "egBCKvtqSYh7"
   },
   "outputs": [],
   "source": [
    "# To help with other operations we create a test suite\n",
    "\n",
    "\n",
    "def check_no_phase_change(blq, eps=1e-6):\n",
    "    matrix = blq.tensor_contract()\n",
    "    is_zero = np.abs(matrix) < eps\n",
    "    is_one = np.abs(matrix - 1) < eps\n",
    "    assert np.all(is_zero | is_one)  # all entries are ~0 or ~1\n",
    "    print('passed phase check :D')\n",
    "\n",
    "\n",
    "def check_symbolic_cost(blq, formula):\n",
    "    cost = get_cost_value(blq, QECGatesCost()).total_toffoli_only()\n",
    "    print(f'toffoli cost of {blq}:', cost)\n",
    "    print(f'expect: {formula}')\n",
    "    const = cost.subs(symbolic_n, 0)\n",
    "    assert cost - const == formula\n",
    "    print('passed symbolic cost check :D')"
   ]
  },
  {
   "cell_type": "markdown",
   "metadata": {
    "id": "gI5bdDX5WV3M"
   },
   "source": [
    "## Controlled Modular Addition\n",
    "\n",
    "It's often useful to have special constructions of the controlled version of an operation. That is because controlling every suboperation of the original construction -while being correct- is expensive since it turns every CNOT into a toffoli and every toffoli ladder of size $n$ to a toffoli ladder of size $n+1$.\n",
    "\n",
    "For the case of controlled modular addition, it is enough to control the first addition and comparision.\n",
    "\n",
    "```python\n",
    "def controlled_add_mod(ctr, x, y, m):\n",
    "    if ctrl:\n",
    "      y += x  # normal in-place addition.\n",
    "    y -= m  # subtract constant.\n",
    "    c = y < 0\n",
    "    if c:\n",
    "      y += m\n",
    "    if ctrl:\n",
    "      c ^= y > x  # after this line `c = 1`\n",
    "    c ^= 1\n",
    "    return x, y\n",
    "```"
   ]
  },
  {
   "cell_type": "code",
   "execution_count": 20,
   "metadata": {
    "colab": {
     "base_uri": "https://localhost:8080/",
     "height": 635
    },
    "id": "Tyjk06Z0T0pU",
    "outputId": "b4d9c42e-be86-4749-c31f-8a68c832e6b9"
   },
   "outputs": [
    {
     "data": {
      "image/svg+xml": [
       "<svg xmlns=\"http://www.w3.org/2000/svg\" xmlns:xlink=\"http://www.w3.org/1999/xlink\" width=\"241pt\" height=\"152pt\" viewBox=\"0.00 0.00 241.00 152.00\">\n",
       "<g id=\"graph0\" class=\"graph\" transform=\"scale(1 1) rotate(0) translate(4 148)\">\n",
       "<title>my_graph</title>\n",
       "<polygon fill=\"white\" stroke=\"transparent\" points=\"-4,4 -4,-148 237,-148 237,4 -4,4\"/>\n",
       "<!-- ctrl_G2 -->\n",
       "<g id=\"node1\" class=\"node\">\n",
       "<title>ctrl_G2</title>\n",
       "<text text-anchor=\"middle\" x=\"27\" y=\"-122.3\" font-family=\"Times,serif\" font-size=\"14.00\">ctrl</text>\n",
       "</g>\n",
       "<!-- CModAdd -->\n",
       "<g id=\"node4\" class=\"node\">\n",
       "<title>CModAdd</title>\n",
       "<polygon fill=\"none\" stroke=\"black\" points=\"91.5,-104 91.5,-121 142.5,-121 142.5,-104 91.5,-104\"/>\n",
       "<text text-anchor=\"start\" x=\"94.5\" y=\"-110\" font-family=\"Times,serif\" font-size=\"10.00\">CModAdd</text>\n",
       "<polygon fill=\"none\" stroke=\"black\" points=\"91.5,-83 91.5,-104 142.5,-104 142.5,-83 91.5,-83\"/>\n",
       "<text text-anchor=\"start\" x=\"107.5\" y=\"-89.8\" font-family=\"Times,serif\" font-size=\"14.00\">ctrl</text>\n",
       "<polygon fill=\"none\" stroke=\"black\" points=\"91.5,-62 91.5,-83 142.5,-83 142.5,-62 91.5,-62\"/>\n",
       "<text text-anchor=\"start\" x=\"113.5\" y=\"-68.8\" font-family=\"Times,serif\" font-size=\"14.00\">x</text>\n",
       "<polygon fill=\"none\" stroke=\"black\" points=\"91.5,-41 91.5,-62 142.5,-62 142.5,-41 91.5,-41\"/>\n",
       "<text text-anchor=\"start\" x=\"113.5\" y=\"-47.8\" font-family=\"Times,serif\" font-size=\"14.00\">y</text>\n",
       "</g>\n",
       "<!-- ctrl_G2&#45;&gt;CModAdd -->\n",
       "<g id=\"edge1\" class=\"edge\">\n",
       "<title>ctrl_G2:e-&gt;CModAdd:w</title>\n",
       "<path fill=\"none\" stroke=\"black\" d=\"M54,-126C74.89,-126 69.72,-96.45 88.58,-94.14\"/>\n",
       "<ellipse fill=\"black\" stroke=\"black\" cx=\"90\" cy=\"-94.06\" rx=\"1\" ry=\"1\"/>\n",
       "<text text-anchor=\"middle\" x=\"72.5\" y=\"-113\" font-family=\"Times,serif\" font-size=\"10.00\">1</text>\n",
       "</g>\n",
       "<!-- x_G3 -->\n",
       "<g id=\"node2\" class=\"node\">\n",
       "<title>x_G3</title>\n",
       "<text text-anchor=\"middle\" x=\"27\" y=\"-68.3\" font-family=\"Times,serif\" font-size=\"14.00\">x</text>\n",
       "</g>\n",
       "<!-- x_G3&#45;&gt;CModAdd -->\n",
       "<g id=\"edge2\" class=\"edge\">\n",
       "<title>x_G3:e-&gt;CModAdd:w</title>\n",
       "<path fill=\"none\" stroke=\"black\" d=\"M54,-72C69.67,-72 74.14,-72 88.77,-72\"/>\n",
       "<ellipse fill=\"black\" stroke=\"black\" cx=\"90\" cy=\"-72\" rx=\"1\" ry=\"1\"/>\n",
       "<text text-anchor=\"middle\" x=\"72.5\" y=\"-75\" font-family=\"Times,serif\" font-size=\"10.00\">3</text>\n",
       "</g>\n",
       "<!-- y_G5 -->\n",
       "<g id=\"node3\" class=\"node\">\n",
       "<title>y_G5</title>\n",
       "<text text-anchor=\"middle\" x=\"27\" y=\"-14.3\" font-family=\"Times,serif\" font-size=\"14.00\">y</text>\n",
       "</g>\n",
       "<!-- y_G5&#45;&gt;CModAdd -->\n",
       "<g id=\"edge3\" class=\"edge\">\n",
       "<title>y_G5:e-&gt;CModAdd:w</title>\n",
       "<path fill=\"none\" stroke=\"black\" d=\"M54,-18C75.17,-18 69.47,-48.47 88.55,-50.85\"/>\n",
       "<ellipse fill=\"black\" stroke=\"black\" cx=\"90\" cy=\"-50.94\" rx=\"1\" ry=\"1\"/>\n",
       "<text text-anchor=\"middle\" x=\"72.5\" y=\"-39\" font-family=\"Times,serif\" font-size=\"10.00\">3</text>\n",
       "</g>\n",
       "<!-- ctrl_G0 -->\n",
       "<g id=\"node5\" class=\"node\">\n",
       "<title>ctrl_G0</title>\n",
       "<text text-anchor=\"middle\" x=\"206\" y=\"-122.3\" font-family=\"Times,serif\" font-size=\"14.00\">ctrl</text>\n",
       "</g>\n",
       "<!-- CModAdd&#45;&gt;ctrl_G0 -->\n",
       "<g id=\"edge4\" class=\"edge\">\n",
       "<title>CModAdd:e-&gt;ctrl_G0:w</title>\n",
       "<path fill=\"none\" stroke=\"black\" d=\"M142,-94C162.89,-94 157.72,-123.55 176.58,-125.86\"/>\n",
       "<ellipse fill=\"black\" stroke=\"black\" cx=\"178\" cy=\"-125.94\" rx=\"1\" ry=\"1\"/>\n",
       "<text text-anchor=\"middle\" x=\"160.5\" y=\"-113\" font-family=\"Times,serif\" font-size=\"10.00\">1</text>\n",
       "</g>\n",
       "<!-- x_G8 -->\n",
       "<g id=\"node6\" class=\"node\">\n",
       "<title>x_G8</title>\n",
       "<text text-anchor=\"middle\" x=\"206\" y=\"-68.3\" font-family=\"Times,serif\" font-size=\"14.00\">x</text>\n",
       "</g>\n",
       "<!-- CModAdd&#45;&gt;x_G8 -->\n",
       "<g id=\"edge5\" class=\"edge\">\n",
       "<title>CModAdd:e-&gt;x_G8:w</title>\n",
       "<path fill=\"none\" stroke=\"black\" d=\"M142,-72C157.67,-72 162.14,-72 176.77,-72\"/>\n",
       "<ellipse fill=\"black\" stroke=\"black\" cx=\"178\" cy=\"-72\" rx=\"1\" ry=\"1\"/>\n",
       "<text text-anchor=\"middle\" x=\"160.5\" y=\"-75\" font-family=\"Times,serif\" font-size=\"10.00\">3</text>\n",
       "</g>\n",
       "<!-- y_G7 -->\n",
       "<g id=\"node7\" class=\"node\">\n",
       "<title>y_G7</title>\n",
       "<text text-anchor=\"middle\" x=\"206\" y=\"-14.3\" font-family=\"Times,serif\" font-size=\"14.00\">y</text>\n",
       "</g>\n",
       "<!-- CModAdd&#45;&gt;y_G7 -->\n",
       "<g id=\"edge6\" class=\"edge\">\n",
       "<title>CModAdd:e-&gt;y_G7:w</title>\n",
       "<path fill=\"none\" stroke=\"black\" d=\"M142,-51C163.17,-51 157.47,-20.53 176.55,-18.15\"/>\n",
       "<ellipse fill=\"black\" stroke=\"black\" cx=\"178\" cy=\"-18.06\" rx=\"1\" ry=\"1\"/>\n",
       "<text text-anchor=\"middle\" x=\"160.5\" y=\"-39\" font-family=\"Times,serif\" font-size=\"10.00\">3</text>\n",
       "</g>\n",
       "</g>\n",
       "</svg>"
      ],
      "text/plain": [
       "<IPython.core.display.SVG object>"
      ]
     },
     "metadata": {},
     "output_type": "display_data"
    },
    {
     "data": {
      "image/svg+xml": [
       "<svg xmlns=\"http://www.w3.org/2000/svg\" xmlns:xlink=\"http://www.w3.org/1999/xlink\" width=\"632pt\" height=\"305pt\" viewBox=\"0.00 0.00 631.50 305.00\">\n",
       "<g id=\"graph0\" class=\"graph\" transform=\"scale(1 1) rotate(0) translate(4 301)\">\n",
       "<title>counts</title>\n",
       "<polygon fill=\"white\" stroke=\"transparent\" points=\"-4,4 -4,-301 627.5,-301 627.5,4 -4,4\"/>\n",
       "<!-- b0 -->\n",
       "<g id=\"node1\" class=\"node\">\n",
       "<title>b0</title>\n",
       "<polygon fill=\"none\" stroke=\"black\" points=\"262,-269.5 262,-292.5 361,-292.5 361,-269.5 262,-269.5\"/>\n",
       "<text text-anchor=\"start\" x=\"289\" y=\"-278.5\" font-family=\"Times,serif\" font-size=\"10.00\">CModAdd</text>\n",
       "<polygon fill=\"none\" stroke=\"black\" points=\"262,-246.5 262,-269.5 333,-269.5 333,-246.5 262,-246.5\"/>\n",
       "<text text-anchor=\"start\" x=\"283.5\" y=\"-255.5\" font-family=\"Times,serif\" font-size=\"10.00\">Qubits</text>\n",
       "<polygon fill=\"none\" stroke=\"black\" points=\"333,-246.5 333,-269.5 361,-269.5 361,-246.5 333,-246.5\"/>\n",
       "<text text-anchor=\"start\" x=\"341.5\" y=\"-255.5\" font-family=\"Times,serif\" font-size=\"10.00\">16</text>\n",
       "<polygon fill=\"none\" stroke=\"black\" points=\"262,-223.5 262,-246.5 333,-246.5 333,-223.5 262,-223.5\"/>\n",
       "<text text-anchor=\"start\" x=\"286.5\" y=\"-232.5\" font-family=\"Times,serif\" font-size=\"10.00\">Ands</text>\n",
       "<polygon fill=\"none\" stroke=\"black\" points=\"333,-223.5 333,-246.5 361,-246.5 361,-223.5 333,-223.5\"/>\n",
       "<text text-anchor=\"start\" x=\"341.5\" y=\"-232.5\" font-family=\"Times,serif\" font-size=\"10.00\">16</text>\n",
       "<polygon fill=\"none\" stroke=\"black\" points=\"262,-200.5 262,-223.5 333,-223.5 333,-200.5 262,-200.5\"/>\n",
       "<text text-anchor=\"start\" x=\"279\" y=\"-209.5\" font-family=\"Times,serif\" font-size=\"10.00\">Cliffords</text>\n",
       "<polygon fill=\"none\" stroke=\"black\" points=\"333,-200.5 333,-223.5 361,-223.5 361,-200.5 333,-200.5\"/>\n",
       "<text text-anchor=\"start\" x=\"339\" y=\"-209.5\" font-family=\"Times,serif\" font-size=\"10.00\">125</text>\n",
       "<polygon fill=\"none\" stroke=\"black\" points=\"262,-177.5 262,-200.5 333,-200.5 333,-177.5 262,-177.5\"/>\n",
       "<text text-anchor=\"start\" x=\"268\" y=\"-186.5\" font-family=\"Times,serif\" font-size=\"10.00\">Measurements</text>\n",
       "<polygon fill=\"none\" stroke=\"black\" points=\"333,-177.5 333,-200.5 361,-200.5 361,-177.5 333,-177.5\"/>\n",
       "<text text-anchor=\"start\" x=\"341.5\" y=\"-186.5\" font-family=\"Times,serif\" font-size=\"10.00\">16</text>\n",
       "</g>\n",
       "<!-- b1 -->\n",
       "<g id=\"node2\" class=\"node\">\n",
       "<title>b1</title>\n",
       "<polygon fill=\"none\" stroke=\"black\" points=\"8,-95.5 8,-118.5 102,-118.5 102,-95.5 8,-95.5\"/>\n",
       "<text text-anchor=\"start\" x=\"42.5\" y=\"-104.5\" font-family=\"Times,serif\" font-size=\"10.00\">CAdd</text>\n",
       "<polygon fill=\"none\" stroke=\"black\" points=\"8,-72.5 8,-95.5 79,-95.5 79,-72.5 8,-72.5\"/>\n",
       "<text text-anchor=\"start\" x=\"29.5\" y=\"-81.5\" font-family=\"Times,serif\" font-size=\"10.00\">Qubits</text>\n",
       "<polygon fill=\"none\" stroke=\"black\" points=\"79,-72.5 79,-95.5 102,-95.5 102,-72.5 79,-72.5\"/>\n",
       "<text text-anchor=\"start\" x=\"85\" y=\"-81.5\" font-family=\"Times,serif\" font-size=\"10.00\">14</text>\n",
       "<polygon fill=\"none\" stroke=\"black\" points=\"8,-49.5 8,-72.5 79,-72.5 79,-49.5 8,-49.5\"/>\n",
       "<text text-anchor=\"start\" x=\"32.5\" y=\"-58.5\" font-family=\"Times,serif\" font-size=\"10.00\">Ands</text>\n",
       "<polygon fill=\"none\" stroke=\"black\" points=\"79,-49.5 79,-72.5 102,-72.5 102,-49.5 79,-49.5\"/>\n",
       "<text text-anchor=\"start\" x=\"87.5\" y=\"-58.5\" font-family=\"Times,serif\" font-size=\"10.00\">6</text>\n",
       "<polygon fill=\"none\" stroke=\"black\" points=\"8,-26.5 8,-49.5 79,-49.5 79,-26.5 8,-26.5\"/>\n",
       "<text text-anchor=\"start\" x=\"25\" y=\"-35.5\" font-family=\"Times,serif\" font-size=\"10.00\">Cliffords</text>\n",
       "<polygon fill=\"none\" stroke=\"black\" points=\"79,-26.5 79,-49.5 102,-49.5 102,-26.5 79,-26.5\"/>\n",
       "<text text-anchor=\"start\" x=\"85\" y=\"-35.5\" font-family=\"Times,serif\" font-size=\"10.00\">21</text>\n",
       "<polygon fill=\"none\" stroke=\"black\" points=\"8,-3.5 8,-26.5 79,-26.5 79,-3.5 8,-3.5\"/>\n",
       "<text text-anchor=\"start\" x=\"14\" y=\"-12.5\" font-family=\"Times,serif\" font-size=\"10.00\">Measurements</text>\n",
       "<polygon fill=\"none\" stroke=\"black\" points=\"79,-3.5 79,-26.5 102,-26.5 102,-3.5 79,-3.5\"/>\n",
       "<text text-anchor=\"start\" x=\"87.5\" y=\"-12.5\" font-family=\"Times,serif\" font-size=\"10.00\">6</text>\n",
       "</g>\n",
       "<!-- b0&#45;&gt;b1 -->\n",
       "<g id=\"edge1\" class=\"edge\">\n",
       "<title>b0-&gt;b1</title>\n",
       "<path fill=\"none\" stroke=\"black\" d=\"M253.39,-205.56C214.08,-184.75 161.61,-154.84 119,-123 118.72,-122.79 118.45,-122.59 118.17,-122.38\"/>\n",
       "<polygon fill=\"black\" stroke=\"black\" points=\"120.2,-119.52 110.18,-116.09 115.87,-125.02 120.2,-119.52\"/>\n",
       "<text text-anchor=\"middle\" x=\"168.5\" y=\"-144.8\" font-family=\"Times,serif\" font-size=\"14.00\">1</text>\n",
       "</g>\n",
       "<!-- b2 -->\n",
       "<g id=\"node3\" class=\"node\">\n",
       "<title>b2</title>\n",
       "<polygon fill=\"none\" stroke=\"black\" points=\"136,-95.5 136,-118.5 230,-118.5 230,-95.5 136,-95.5\"/>\n",
       "<text text-anchor=\"start\" x=\"170\" y=\"-104.5\" font-family=\"Times,serif\" font-size=\"10.00\">AddK</text>\n",
       "<polygon fill=\"none\" stroke=\"black\" points=\"136,-72.5 136,-95.5 207,-95.5 207,-72.5 136,-72.5\"/>\n",
       "<text text-anchor=\"start\" x=\"157.5\" y=\"-81.5\" font-family=\"Times,serif\" font-size=\"10.00\">Qubits</text>\n",
       "<polygon fill=\"none\" stroke=\"black\" points=\"207,-72.5 207,-95.5 230,-95.5 230,-72.5 207,-72.5\"/>\n",
       "<text text-anchor=\"start\" x=\"213.5\" y=\"-81.5\" font-family=\"Times,serif\" font-size=\"10.00\">11</text>\n",
       "<polygon fill=\"none\" stroke=\"black\" points=\"136,-49.5 136,-72.5 207,-72.5 207,-49.5 136,-49.5\"/>\n",
       "<text text-anchor=\"start\" x=\"160.5\" y=\"-58.5\" font-family=\"Times,serif\" font-size=\"10.00\">Ands</text>\n",
       "<polygon fill=\"none\" stroke=\"black\" points=\"207,-49.5 207,-72.5 230,-72.5 230,-49.5 207,-49.5\"/>\n",
       "<text text-anchor=\"start\" x=\"215.5\" y=\"-58.5\" font-family=\"Times,serif\" font-size=\"10.00\">3</text>\n",
       "<polygon fill=\"none\" stroke=\"black\" points=\"136,-26.5 136,-49.5 207,-49.5 207,-26.5 136,-26.5\"/>\n",
       "<text text-anchor=\"start\" x=\"153\" y=\"-35.5\" font-family=\"Times,serif\" font-size=\"10.00\">Cliffords</text>\n",
       "<polygon fill=\"none\" stroke=\"black\" points=\"207,-26.5 207,-49.5 230,-49.5 230,-26.5 207,-26.5\"/>\n",
       "<text text-anchor=\"start\" x=\"213\" y=\"-35.5\" font-family=\"Times,serif\" font-size=\"10.00\">22</text>\n",
       "<polygon fill=\"none\" stroke=\"black\" points=\"136,-3.5 136,-26.5 207,-26.5 207,-3.5 136,-3.5\"/>\n",
       "<text text-anchor=\"start\" x=\"142\" y=\"-12.5\" font-family=\"Times,serif\" font-size=\"10.00\">Measurements</text>\n",
       "<polygon fill=\"none\" stroke=\"black\" points=\"207,-3.5 207,-26.5 230,-26.5 230,-3.5 207,-3.5\"/>\n",
       "<text text-anchor=\"start\" x=\"215.5\" y=\"-12.5\" font-family=\"Times,serif\" font-size=\"10.00\">3</text>\n",
       "</g>\n",
       "<!-- b0&#45;&gt;b2 -->\n",
       "<g id=\"edge2\" class=\"edge\">\n",
       "<title>b0-&gt;b2</title>\n",
       "<path fill=\"none\" stroke=\"black\" d=\"M265.87,-173.86C255.64,-160.11 244.71,-145.42 234.25,-131.36\"/>\n",
       "<polygon fill=\"black\" stroke=\"black\" points=\"236.93,-129.11 228.15,-123.17 231.31,-133.28 236.93,-129.11\"/>\n",
       "<text text-anchor=\"middle\" x=\"254.5\" y=\"-144.8\" font-family=\"Times,serif\" font-size=\"14.00\">1</text>\n",
       "</g>\n",
       "<!-- b3 -->\n",
       "<g id=\"node4\" class=\"node\">\n",
       "<title>b3</title>\n",
       "<polygon fill=\"none\" stroke=\"black\" points=\"264,-95.5 264,-118.5 358,-118.5 358,-95.5 264,-95.5\"/>\n",
       "<text text-anchor=\"start\" x=\"298\" y=\"-104.5\" font-family=\"Times,serif\" font-size=\"10.00\">AddK</text>\n",
       "<polygon fill=\"none\" stroke=\"black\" points=\"264,-72.5 264,-95.5 335,-95.5 335,-72.5 264,-72.5\"/>\n",
       "<text text-anchor=\"start\" x=\"285.5\" y=\"-81.5\" font-family=\"Times,serif\" font-size=\"10.00\">Qubits</text>\n",
       "<polygon fill=\"none\" stroke=\"black\" points=\"335,-72.5 335,-95.5 358,-95.5 358,-72.5 335,-72.5\"/>\n",
       "<text text-anchor=\"start\" x=\"343.5\" y=\"-81.5\" font-family=\"Times,serif\" font-size=\"10.00\">9</text>\n",
       "<polygon fill=\"none\" stroke=\"black\" points=\"264,-49.5 264,-72.5 335,-72.5 335,-49.5 264,-49.5\"/>\n",
       "<text text-anchor=\"start\" x=\"288.5\" y=\"-58.5\" font-family=\"Times,serif\" font-size=\"10.00\">Ands</text>\n",
       "<polygon fill=\"none\" stroke=\"black\" points=\"335,-49.5 335,-72.5 358,-72.5 358,-49.5 335,-49.5\"/>\n",
       "<text text-anchor=\"start\" x=\"343.5\" y=\"-58.5\" font-family=\"Times,serif\" font-size=\"10.00\">2</text>\n",
       "<polygon fill=\"none\" stroke=\"black\" points=\"264,-26.5 264,-49.5 335,-49.5 335,-26.5 264,-26.5\"/>\n",
       "<text text-anchor=\"start\" x=\"281\" y=\"-35.5\" font-family=\"Times,serif\" font-size=\"10.00\">Cliffords</text>\n",
       "<polygon fill=\"none\" stroke=\"black\" points=\"335,-26.5 335,-49.5 358,-49.5 358,-26.5 335,-26.5\"/>\n",
       "<text text-anchor=\"start\" x=\"341\" y=\"-35.5\" font-family=\"Times,serif\" font-size=\"10.00\">17</text>\n",
       "<polygon fill=\"none\" stroke=\"black\" points=\"264,-3.5 264,-26.5 335,-26.5 335,-3.5 264,-3.5\"/>\n",
       "<text text-anchor=\"start\" x=\"270\" y=\"-12.5\" font-family=\"Times,serif\" font-size=\"10.00\">Measurements</text>\n",
       "<polygon fill=\"none\" stroke=\"black\" points=\"335,-3.5 335,-26.5 358,-26.5 358,-3.5 335,-3.5\"/>\n",
       "<text text-anchor=\"start\" x=\"343.5\" y=\"-12.5\" font-family=\"Times,serif\" font-size=\"10.00\">2</text>\n",
       "</g>\n",
       "<!-- b0&#45;&gt;b3 -->\n",
       "<g id=\"edge3\" class=\"edge\">\n",
       "<title>b0-&gt;b3</title>\n",
       "<path fill=\"none\" stroke=\"black\" d=\"M311,-173.86C311,-160.76 311,-146.79 311,-133.34\"/>\n",
       "<polygon fill=\"black\" stroke=\"black\" points=\"314.5,-133.17 311,-123.17 307.5,-133.17 314.5,-133.17\"/>\n",
       "<text text-anchor=\"middle\" x=\"314.5\" y=\"-144.8\" font-family=\"Times,serif\" font-size=\"14.00\">1</text>\n",
       "</g>\n",
       "<!-- b4 -->\n",
       "<g id=\"node5\" class=\"node\">\n",
       "<title>b4</title>\n",
       "<polygon fill=\"none\" stroke=\"black\" points=\"392,-95.5 392,-118.5 514,-118.5 514,-95.5 392,-95.5\"/>\n",
       "<text text-anchor=\"start\" x=\"398\" y=\"-104.5\" font-family=\"Times,serif\" font-size=\"10.00\">CLinearDepthGreaterThan</text>\n",
       "<polygon fill=\"none\" stroke=\"black\" points=\"392,-72.5 392,-95.5 477,-95.5 477,-72.5 392,-72.5\"/>\n",
       "<text text-anchor=\"start\" x=\"420.5\" y=\"-81.5\" font-family=\"Times,serif\" font-size=\"10.00\">Qubits</text>\n",
       "<polygon fill=\"none\" stroke=\"black\" points=\"477,-72.5 477,-95.5 514,-95.5 514,-72.5 477,-72.5\"/>\n",
       "<text text-anchor=\"start\" x=\"490\" y=\"-81.5\" font-family=\"Times,serif\" font-size=\"10.00\">16</text>\n",
       "<polygon fill=\"none\" stroke=\"black\" points=\"392,-49.5 392,-72.5 477,-72.5 477,-49.5 392,-49.5\"/>\n",
       "<text text-anchor=\"start\" x=\"423.5\" y=\"-58.5\" font-family=\"Times,serif\" font-size=\"10.00\">Ands</text>\n",
       "<polygon fill=\"none\" stroke=\"black\" points=\"477,-49.5 477,-72.5 514,-72.5 514,-49.5 477,-49.5\"/>\n",
       "<text text-anchor=\"start\" x=\"492.5\" y=\"-58.5\" font-family=\"Times,serif\" font-size=\"10.00\">5</text>\n",
       "<polygon fill=\"none\" stroke=\"black\" points=\"392,-26.5 392,-49.5 477,-49.5 477,-26.5 392,-26.5\"/>\n",
       "<text text-anchor=\"start\" x=\"416\" y=\"-35.5\" font-family=\"Times,serif\" font-size=\"10.00\">Cliffords</text>\n",
       "<polygon fill=\"none\" stroke=\"black\" points=\"477,-26.5 477,-49.5 514,-49.5 514,-26.5 477,-26.5\"/>\n",
       "<text text-anchor=\"start\" x=\"490\" y=\"-35.5\" font-family=\"Times,serif\" font-size=\"10.00\">64</text>\n",
       "<polygon fill=\"none\" stroke=\"black\" points=\"392,-3.5 392,-26.5 477,-26.5 477,-3.5 392,-3.5\"/>\n",
       "<text text-anchor=\"start\" x=\"405\" y=\"-12.5\" font-family=\"Times,serif\" font-size=\"10.00\">Measurements</text>\n",
       "<polygon fill=\"none\" stroke=\"black\" points=\"477,-3.5 477,-26.5 514,-26.5 514,-3.5 477,-3.5\"/>\n",
       "<text text-anchor=\"start\" x=\"492.5\" y=\"-12.5\" font-family=\"Times,serif\" font-size=\"10.00\">5</text>\n",
       "</g>\n",
       "<!-- b0&#45;&gt;b4 -->\n",
       "<g id=\"edge4\" class=\"edge\">\n",
       "<title>b0-&gt;b4</title>\n",
       "<path fill=\"none\" stroke=\"black\" d=\"M361.06,-173.86C372.52,-159.99 384.77,-145.15 396.47,-130.97\"/>\n",
       "<polygon fill=\"black\" stroke=\"black\" points=\"399.24,-133.11 402.91,-123.17 393.84,-128.66 399.24,-133.11\"/>\n",
       "<text text-anchor=\"middle\" x=\"390.5\" y=\"-144.8\" font-family=\"Times,serif\" font-size=\"14.00\">1</text>\n",
       "</g>\n",
       "<!-- b5 -->\n",
       "<g id=\"node6\" class=\"node\">\n",
       "<title>b5</title>\n",
       "<polygon fill=\"none\" stroke=\"black\" points=\"549,-72.5 549,-95.5 616,-95.5 616,-72.5 549,-72.5\"/>\n",
       "<text text-anchor=\"start\" x=\"568.5\" y=\"-81.5\" font-family=\"Times,serif\" font-size=\"10.00\">XGate</text>\n",
       "<polygon fill=\"none\" stroke=\"black\" points=\"549,-49.5 549,-72.5 598,-72.5 598,-49.5 549,-49.5\"/>\n",
       "<text text-anchor=\"start\" x=\"559.5\" y=\"-58.5\" font-family=\"Times,serif\" font-size=\"10.00\">Qubits</text>\n",
       "<polygon fill=\"none\" stroke=\"black\" points=\"598,-49.5 598,-72.5 616,-72.5 616,-49.5 598,-49.5\"/>\n",
       "<text text-anchor=\"start\" x=\"604\" y=\"-58.5\" font-family=\"Times,serif\" font-size=\"10.00\">1</text>\n",
       "<polygon fill=\"none\" stroke=\"black\" points=\"549,-26.5 549,-49.5 598,-49.5 598,-26.5 549,-26.5\"/>\n",
       "<text text-anchor=\"start\" x=\"555\" y=\"-35.5\" font-family=\"Times,serif\" font-size=\"10.00\">Cliffords</text>\n",
       "<polygon fill=\"none\" stroke=\"black\" points=\"598,-26.5 598,-49.5 616,-49.5 616,-26.5 598,-26.5\"/>\n",
       "<text text-anchor=\"start\" x=\"604\" y=\"-35.5\" font-family=\"Times,serif\" font-size=\"10.00\">1</text>\n",
       "</g>\n",
       "<!-- b0&#45;&gt;b5 -->\n",
       "<g id=\"edge5\" class=\"edge\">\n",
       "<title>b0-&gt;b5</title>\n",
       "<path fill=\"none\" stroke=\"black\" d=\"M368.9,-212.72C415.55,-193.46 481.32,-162.34 531,-123 536.7,-118.49 542.23,-113.25 547.4,-107.79\"/>\n",
       "<polygon fill=\"black\" stroke=\"black\" points=\"550.12,-110 554.23,-100.24 544.93,-105.31 550.12,-110\"/>\n",
       "<text text-anchor=\"middle\" x=\"507.5\" y=\"-144.8\" font-family=\"Times,serif\" font-size=\"14.00\">1</text>\n",
       "</g>\n",
       "</g>\n",
       "</svg>"
      ],
      "text/plain": [
       "<IPython.core.display.SVG object>"
      ]
     },
     "metadata": {},
     "output_type": "display_data"
    }
   ],
   "source": [
    "cadd = qma.CModAdd(qualtran.QMontgomeryUInt(bitsize), mod)\n",
    "show_bloq(cadd)\n",
    "show_call_graph(cadd, max_depth=1)"
   ]
  },
  {
   "cell_type": "code",
   "execution_count": 21,
   "metadata": {
    "colab": {
     "base_uri": "https://localhost:8080/"
    },
    "id": "ug1x6YyhaGnN",
    "outputId": "6d350c03-9af0-4a66-eaec-8a8252803e4d"
   },
   "outputs": [
    {
     "name": "stdout",
     "output_type": "stream",
     "text": [
      "cadd passed classical check :D\n",
      "construction of cadd passed classical check :D\n"
     ]
    }
   ],
   "source": [
    "for ctrl in range(2):\n",
    "    for x in range(mod):\n",
    "        for y in range(mod):\n",
    "            want = (x + y) % mod if ctrl else y\n",
    "            assert cadd.call_classically(ctrl=ctrl, x=x, y=y) == (ctrl, x, want)\n",
    "print('cadd passed classical check :D')\n",
    "cadd_decom = cadd.decompose_bloq()\n",
    "for ctrl in range(2):\n",
    "    for x in range(mod):\n",
    "        for y in range(mod):\n",
    "            want = (x + y) % mod if ctrl else y\n",
    "            assert cadd_decom.call_classically(ctrl=ctrl, x=x, y=y) == (ctrl, x, want)\n",
    "print('construction of cadd passed classical check :D')"
   ]
  },
  {
   "cell_type": "code",
   "execution_count": 23,
   "metadata": {
    "colab": {
     "base_uri": "https://localhost:8080/"
    },
    "id": "pPqkrKz-T_Nk",
    "outputId": "d144d5f8-0ad3-4636-fd00-ec94c2b96404"
   },
   "outputs": [
    {
     "name": "stdout",
     "output_type": "stream",
     "text": [
      "passed phase check :D\n",
      "toffoli cost of CModAdd: 5*n + 1\n",
      "expect 5*n\n",
      "passed symbolic cost check :D\n"
     ]
    }
   ],
   "source": [
    "check_no_phase_change(cadd)\n",
    "check_symbolic_cost(qma.CModAdd(QMontgomeryUInt(symbolic_n), symbolic_mod), 5 * symbolic_n)"
   ]
  },
  {
   "cell_type": "markdown",
   "metadata": {
    "id": "Khhh79zybVtG"
   },
   "source": []
  },
  {
   "cell_type": "code",
   "execution_count": null,
   "metadata": {
    "id": "gniHK1YVWRkM"
   },
   "outputs": [],
   "source": []
  },
  {
   "cell_type": "code",
   "execution_count": null,
   "metadata": {
    "id": "hJa4jCVIbMIR"
   },
   "outputs": [],
   "source": []
  }
 ],
 "metadata": {
  "colab": {
   "provenance": []
  },
  "kernelspec": {
   "display_name": "Python 3",
   "name": "python3"
  },
  "language_info": {
   "name": "python"
  }
 },
 "nbformat": 4,
 "nbformat_minor": 0
}
