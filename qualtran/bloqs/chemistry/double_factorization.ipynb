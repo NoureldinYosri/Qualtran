{
 "cells": [
  {
   "cell_type": "markdown",
   "id": "940163a0",
   "metadata": {
    "cq.autogen": "title_cell"
   },
   "source": [
    "# Double Factorization\n",
    "\n",
    "Bloqs for the double-factorized chemistry Hamiltonian in second quantization.\n",
    "\n",
    "Recall that for the single factorized Hamiltonian we have\n",
    "$$\n",
    "H = \\sum_{pq}T'_{pq} a_p^\\dagger a_q + \\frac{1}{2} \\sum_l \\left(\\sum_{pq} \n",
    "W_{pq}^{(l)} a_p^\\dagger a_q\\right)^2.\n",
    "$$\n",
    "One arrives at the double factorized (DF) Hamiltonian by further factorizing the\n",
    "$W_{pq}^{(l)}$ terms as\n",
    "$$\n",
    "W^{(l)}_{pq} = \\sum_{k} U^{(l)}_{pk} f_k^{(l)} U^{(l)*}_{qk},\n",
    "$$\n",
    "so that\n",
    "$$\n",
    "H = \\sum_{pq}T'_{pq} a_p^\\dagger a_q + \\frac{1}{2} \\sum_l U^{(l)}\\left(\\sum_{k}^{\\Xi^{(l)}} \n",
    "f_k^{(l)} n_k\\right)^2 U^{(l)\\dagger}\n",
    "$$\n",
    "where $\\Xi^{(l)} $ is the rank of second factorization. In principle one can\n",
    "truncate the second factorization to reduce the amount of information required\n",
    "to specify the Hamiltonian. However this somewhat complicates the implementation\n",
    "and it is more convenient to fix the rank of the second factorization for all\n",
    "$l$ terms. Nevertheless the authors of Ref[1] chose to do it the hard way."
   ]
  },
  {
   "cell_type": "code",
   "execution_count": 1,
   "id": "9a2c0af1",
   "metadata": {
    "cq.autogen": "top_imports"
   },
   "outputs": [],
   "source": [
    "from qualtran import Bloq, CompositeBloq, BloqBuilder, Signature, Register\n",
    "from qualtran.drawing import show_bloq\n",
    "from typing import *\n",
    "import numpy as np"
   ]
  },
  {
   "cell_type": "markdown",
   "id": "c499fbcf",
   "metadata": {
    "cq.autogen": "_make_double_factorization.md"
   },
   "source": [
    "## `DoubleFactorization`\n",
    "Block encoding of double factorization Hamiltonian.\n",
    "\n",
    "Implements Fig. 15 in the reference.\n",
    "\n",
    "#### Parameters\n",
    " - `num_spin_orb`: The number of spin orbitals. Typically called N.\n",
    " - `num_aux`: Dimension of auxiliary index for double factorized Hamiltonian. Called L in Ref[1].\n",
    " - `num_bits_state_prep`: The number of bits of precision for coherent alias sampling. Called aleph (fancy N) in Ref[1].\n",
    " - `num_bits_rot`: Number of bits of precision for rotations for amplitude amplification in uniform state preparation. Called b_r in Ref[1].\n",
    " - `qroam_k_factor`: QROAM blocking factor for data prepared over l (auxiliary) index. Defaults to 1 (i.e. use QROM). \n",
    "\n",
    "#### Registers\n",
    " - `l`: register to store L values for auxiliary index.\n",
    " - `succ_pq`: flag for success of this state preparation.\n",
    " - `succ_l`: flag for success of this state preparation. \n",
    "\n",
    "Refererences:\n",
    "    [Even More Efficient Quantum Computations of Chemistry Through Tensor\n",
    "        hypercontraction](https://journals.aps.org/prxquantum/pdf/10.1103/prxquantum.2.030305)"
   ]
  },
  {
   "cell_type": "code",
   "execution_count": 2,
   "id": "18d66a51",
   "metadata": {
    "cq.autogen": "_make_double_factorization.py"
   },
   "outputs": [
    {
     "ename": "ValueError",
     "evalue": "Invalid Connection OutputIndexedData(num_aux=20, num_spin_orb=10, num_xi=8, num_bits_rot_aa=8, ko=1, adjoint=False)<6>.rot -> BlockEncodeChebyshevPolynomial(block_encoding=DoubleFactorizationOneBody(num_aux=20, num_spin_orb=10, num_xi=8, num_bits_state_prep=8, num_bits_rot_aa=8, num_bits_rot=24, adjoint=False), order=2)<8>.rot: shape mismatch: 8 != 1",
     "output_type": "error",
     "traceback": [
      "\u001b[0;31m---------------------------------------------------------------------------\u001b[0m",
      "\u001b[0;31mValueError\u001b[0m                                Traceback (most recent call last)",
      "\u001b[1;32m/usr/local/google/home/fmalone/projects/qualtran/qualtran/bloqs/chemistry/double_factorization.ipynb Cell 4\u001b[0m line \u001b[0;36m4\n\u001b[1;32m      <a href='vscode-notebook-cell://ssh-remote%2Bfmalone.c.googlers.com/usr/local/google/home/fmalone/projects/qualtran/qualtran/bloqs/chemistry/double_factorization.ipynb#W3sdnNjb2RlLXJlbW90ZQ%3D%3D?line=0'>1</a>\u001b[0m \u001b[39mfrom\u001b[39;00m \u001b[39mqualtran\u001b[39;00m\u001b[39m.\u001b[39;00m\u001b[39mbloqs\u001b[39;00m\u001b[39m.\u001b[39;00m\u001b[39mchemistry\u001b[39;00m\u001b[39m.\u001b[39;00m\u001b[39mdouble_factorization\u001b[39;00m \u001b[39mimport\u001b[39;00m DoubleFactorization\n\u001b[1;32m      <a href='vscode-notebook-cell://ssh-remote%2Bfmalone.c.googlers.com/usr/local/google/home/fmalone/projects/qualtran/qualtran/bloqs/chemistry/double_factorization.ipynb#W3sdnNjb2RlLXJlbW90ZQ%3D%3D?line=2'>3</a>\u001b[0m bloq \u001b[39m=\u001b[39m DoubleFactorization(\u001b[39m10\u001b[39m, \u001b[39m20\u001b[39m, \u001b[39m8\u001b[39m)\n\u001b[0;32m----> <a href='vscode-notebook-cell://ssh-remote%2Bfmalone.c.googlers.com/usr/local/google/home/fmalone/projects/qualtran/qualtran/bloqs/chemistry/double_factorization.ipynb#W3sdnNjb2RlLXJlbW90ZQ%3D%3D?line=3'>4</a>\u001b[0m show_bloq(bloq\u001b[39m.\u001b[39;49mdecompose_bloq())\n",
      "File \u001b[0;32m~/projects/qualtran/qualtran/drawing/_show_funcs.py:34\u001b[0m, in \u001b[0;36mshow_bloq\u001b[0;34m(bloq)\u001b[0m\n\u001b[1;32m     32\u001b[0m \u001b[39mdef\u001b[39;00m \u001b[39mshow_bloq\u001b[39m(bloq: \u001b[39m'\u001b[39m\u001b[39mBloq\u001b[39m\u001b[39m'\u001b[39m):\n\u001b[1;32m     33\u001b[0m \u001b[39m    \u001b[39m\u001b[39m\"\"\"Display a graph representation of the bloq in IPython.\"\"\"\u001b[39;00m\n\u001b[0;32m---> 34\u001b[0m     IPython\u001b[39m.\u001b[39mdisplay\u001b[39m.\u001b[39mdisplay(PrettyGraphDrawer(bloq)\u001b[39m.\u001b[39;49mget_svg())\n",
      "File \u001b[0;32m~/projects/qualtran/qualtran/drawing/graphviz.py:362\u001b[0m, in \u001b[0;36mGraphDrawer.get_svg\u001b[0;34m(self)\u001b[0m\n\u001b[1;32m    360\u001b[0m \u001b[39mdef\u001b[39;00m \u001b[39mget_svg\u001b[39m(\u001b[39mself\u001b[39m) \u001b[39m-\u001b[39m\u001b[39m>\u001b[39m IPython\u001b[39m.\u001b[39mdisplay\u001b[39m.\u001b[39mSVG:\n\u001b[1;32m    361\u001b[0m \u001b[39m    \u001b[39m\u001b[39m\"\"\"Get an IPython SVG object displaying the graph.\"\"\"\u001b[39;00m\n\u001b[0;32m--> 362\u001b[0m     \u001b[39mreturn\u001b[39;00m IPython\u001b[39m.\u001b[39mdisplay\u001b[39m.\u001b[39mSVG(\u001b[39mself\u001b[39;49m\u001b[39m.\u001b[39;49mget_svg_bytes())\n",
      "File \u001b[0;32m~/projects/qualtran/qualtran/drawing/graphviz.py:358\u001b[0m, in \u001b[0;36mGraphDrawer.get_svg_bytes\u001b[0;34m(self)\u001b[0m\n\u001b[1;32m    356\u001b[0m \u001b[39mdef\u001b[39;00m \u001b[39mget_svg_bytes\u001b[39m(\u001b[39mself\u001b[39m) \u001b[39m-\u001b[39m\u001b[39m>\u001b[39m \u001b[39mbytes\u001b[39m:\n\u001b[1;32m    357\u001b[0m \u001b[39m    \u001b[39m\u001b[39m\"\"\"Get the SVG code (as bytes) for drawing the graph.\"\"\"\u001b[39;00m\n\u001b[0;32m--> 358\u001b[0m     \u001b[39mreturn\u001b[39;00m \u001b[39mself\u001b[39;49m\u001b[39m.\u001b[39;49mget_graph()\u001b[39m.\u001b[39mcreate_svg()\n",
      "File \u001b[0;32m~/projects/qualtran/qualtran/drawing/graphviz.py:352\u001b[0m, in \u001b[0;36mGraphDrawer.get_graph\u001b[0;34m(self)\u001b[0m\n\u001b[1;32m    349\u001b[0m graph \u001b[39m=\u001b[39m \u001b[39mself\u001b[39m\u001b[39m.\u001b[39madd_dangles(graph, \u001b[39mself\u001b[39m\u001b[39m.\u001b[39m_cbloq\u001b[39m.\u001b[39msignature, RightDangle)\n\u001b[1;32m    351\u001b[0m \u001b[39mfor\u001b[39;00m cxn \u001b[39min\u001b[39;00m \u001b[39mself\u001b[39m\u001b[39m.\u001b[39m_cbloq\u001b[39m.\u001b[39mconnections:\n\u001b[0;32m--> 352\u001b[0m     graph \u001b[39m=\u001b[39m \u001b[39mself\u001b[39;49m\u001b[39m.\u001b[39;49madd_cxn(graph, cxn)\n\u001b[1;32m    354\u001b[0m \u001b[39mreturn\u001b[39;00m graph\n",
      "File \u001b[0;32m~/projects/qualtran/qualtran/drawing/graphviz.py:335\u001b[0m, in \u001b[0;36mGraphDrawer.add_cxn\u001b[0;34m(self, graph, cxn)\u001b[0m\n\u001b[1;32m    332\u001b[0m \u001b[39melse\u001b[39;00m:\n\u001b[1;32m    333\u001b[0m     right \u001b[39m=\u001b[39m \u001b[39mf\u001b[39m\u001b[39m'\u001b[39m\u001b[39m{\u001b[39;00m\u001b[39mself\u001b[39m\u001b[39m.\u001b[39mids[cxn\u001b[39m.\u001b[39mright\u001b[39m.\u001b[39mbinst]\u001b[39m}\u001b[39;00m\u001b[39m:\u001b[39m\u001b[39m{\u001b[39;00m\u001b[39mself\u001b[39m\u001b[39m.\u001b[39mids[cxn\u001b[39m.\u001b[39mright]\u001b[39m}\u001b[39;00m\u001b[39m:w\u001b[39m\u001b[39m'\u001b[39m\n\u001b[0;32m--> 335\u001b[0m graph\u001b[39m.\u001b[39madd_edge(\u001b[39mself\u001b[39;49m\u001b[39m.\u001b[39;49mcxn_edge(left, right, cxn))\n\u001b[1;32m    336\u001b[0m \u001b[39mreturn\u001b[39;00m graph\n",
      "File \u001b[0;32m~/projects/qualtran/qualtran/drawing/graphviz.py:393\u001b[0m, in \u001b[0;36mPrettyGraphDrawer.cxn_edge\u001b[0;34m(self, left_id, right_id, cxn)\u001b[0m\n\u001b[1;32m    389\u001b[0m \u001b[39mdef\u001b[39;00m \u001b[39mcxn_edge\u001b[39m(\u001b[39mself\u001b[39m, left_id: \u001b[39mstr\u001b[39m, right_id: \u001b[39mstr\u001b[39m, cxn: Connection) \u001b[39m-\u001b[39m\u001b[39m>\u001b[39m pydot\u001b[39m.\u001b[39mEdge:\n\u001b[1;32m    390\u001b[0m     \u001b[39mreturn\u001b[39;00m pydot\u001b[39m.\u001b[39mEdge(\n\u001b[1;32m    391\u001b[0m         left_id,\n\u001b[1;32m    392\u001b[0m         right_id,\n\u001b[0;32m--> 393\u001b[0m         label\u001b[39m=\u001b[39m\u001b[39mself\u001b[39;49m\u001b[39m.\u001b[39;49mcxn_label(cxn),\n\u001b[1;32m    394\u001b[0m         labelfloat\u001b[39m=\u001b[39m\u001b[39mTrue\u001b[39;00m,\n\u001b[1;32m    395\u001b[0m         fontsize\u001b[39m=\u001b[39m\u001b[39m10\u001b[39m,\n\u001b[1;32m    396\u001b[0m         arrowhead\u001b[39m=\u001b[39m\u001b[39m'\u001b[39m\u001b[39mdot\u001b[39m\u001b[39m'\u001b[39m,\n\u001b[1;32m    397\u001b[0m         arrowsize\u001b[39m=\u001b[39m\u001b[39m0.25\u001b[39m,\n\u001b[1;32m    398\u001b[0m     )\n",
      "File \u001b[0;32m~/projects/qualtran/qualtran/drawing/graphviz.py:308\u001b[0m, in \u001b[0;36mGraphDrawer.cxn_label\u001b[0;34m(self, cxn)\u001b[0m\n\u001b[1;32m    306\u001b[0m \u001b[39mdef\u001b[39;00m \u001b[39mcxn_label\u001b[39m(\u001b[39mself\u001b[39m, cxn: Connection) \u001b[39m-\u001b[39m\u001b[39m>\u001b[39m \u001b[39mstr\u001b[39m:\n\u001b[1;32m    307\u001b[0m \u001b[39m    \u001b[39m\u001b[39m\"\"\"Overridable method to return labels for connections.\"\"\"\u001b[39;00m\n\u001b[0;32m--> 308\u001b[0m     \u001b[39mreturn\u001b[39;00m \u001b[39mstr\u001b[39m(cxn\u001b[39m.\u001b[39;49mshape)\n",
      "File \u001b[0;32m~/projects/qualtran/qualtran/_infra/quantum_graph.py:152\u001b[0m, in \u001b[0;36mConnection.shape\u001b[0;34m(self)\u001b[0m\n\u001b[1;32m    149\u001b[0m rs \u001b[39m=\u001b[39m \u001b[39mself\u001b[39m\u001b[39m.\u001b[39mright\u001b[39m.\u001b[39mreg\u001b[39m.\u001b[39mbitsize\n\u001b[1;32m    151\u001b[0m \u001b[39mif\u001b[39;00m ls \u001b[39m!=\u001b[39m rs:\n\u001b[0;32m--> 152\u001b[0m     \u001b[39mraise\u001b[39;00m \u001b[39mValueError\u001b[39;00m(\u001b[39mf\u001b[39m\u001b[39m\"\u001b[39m\u001b[39mInvalid Connection \u001b[39m\u001b[39m{\u001b[39;00m\u001b[39mself\u001b[39m\u001b[39m}\u001b[39;00m\u001b[39m: shape mismatch: \u001b[39m\u001b[39m{\u001b[39;00mls\u001b[39m}\u001b[39;00m\u001b[39m != \u001b[39m\u001b[39m{\u001b[39;00mrs\u001b[39m}\u001b[39;00m\u001b[39m\"\u001b[39m)\n\u001b[1;32m    153\u001b[0m \u001b[39mreturn\u001b[39;00m ls\n",
      "\u001b[0;31mValueError\u001b[0m: Invalid Connection OutputIndexedData(num_aux=20, num_spin_orb=10, num_xi=8, num_bits_rot_aa=8, ko=1, adjoint=False)<6>.rot -> BlockEncodeChebyshevPolynomial(block_encoding=DoubleFactorizationOneBody(num_aux=20, num_spin_orb=10, num_xi=8, num_bits_state_prep=8, num_bits_rot_aa=8, num_bits_rot=24, adjoint=False), order=2)<8>.rot: shape mismatch: 8 != 1"
     ]
    }
   ],
   "source": [
    "from qualtran.bloqs.chemistry.double_factorization import DoubleFactorization\n",
    "\n",
    "bloq = DoubleFactorization(10, 20, 8)\n",
    "show_bloq(bloq.decompose_bloq())"
   ]
  },
  {
   "cell_type": "code",
   "execution_count": null,
   "id": "9eaba3f9",
   "metadata": {},
   "outputs": [],
   "source": [
    "from qualtran.resource_counting import get_bloq_counts_graph\n",
    "from qualtran.drawing import show_counts_graph, show_counts_sigma\n",
    "from qualtran.bloqs.util_bloqs import Split, Join, Allocate, Free\n",
    "\n",
    "def generalize(bloq):\n",
    "    if isinstance(bloq, (Split, Join, Allocate, Free)):\n",
    "        return None\n",
    "    return bloq\n",
    "\n",
    "graph, sigma = get_bloq_counts_graph(DoubleFactorization(10, 50, 10//2, num_bits_state_prep=12, num_bits_rot_aa_inner=7, num_bits_rot_aa_outer=1, num_bits_rot=12), generalizer=generalize)\n",
    "show_counts_graph(graph)"
   ]
  },
  {
   "cell_type": "code",
   "execution_count": null,
   "id": "c8a4fe0c",
   "metadata": {},
   "outputs": [],
   "source": [
    "# outer prep (correct)\n",
    "(116*2 + 176 + 60) / 4"
   ]
  },
  {
   "cell_type": "code",
   "execution_count": null,
   "id": "7e1630a7",
   "metadata": {},
   "outputs": [],
   "source": [
    "# in-data off by 6\n",
    "print((60+180) / 4)"
   ]
  },
  {
   "cell_type": "code",
   "execution_count": null,
   "id": "bfe5688f",
   "metadata": {},
   "outputs": [],
   "source": [
    "# state prep reg 2 (off by 1 for qrom)\n",
    "2 * (128  + 460) / 4"
   ]
  },
  {
   "cell_type": "code",
   "execution_count": null,
   "id": "e85b0296",
   "metadata": {},
   "outputs": [],
   "source": [
    "2 * ( 2 * 204)/4 + 294 # off by 1"
   ]
  },
  {
   "cell_type": "code",
   "execution_count": null,
   "id": "80061482",
   "metadata": {},
   "outputs": [],
   "source": [
    "2*(428 + 752 + 128 + 428 + 2*20) / 4"
   ]
  },
  {
   "cell_type": "code",
   "execution_count": null,
   "id": "319ae1ed",
   "metadata": {},
   "outputs": [],
   "source": []
  }
 ],
 "metadata": {
  "kernelspec": {
   "display_name": "Python 3",
   "language": "python",
   "name": "python3"
  },
  "language_info": {
   "codemirror_mode": {
    "name": "ipython",
    "version": 3
   },
   "file_extension": ".py",
   "mimetype": "text/x-python",
   "name": "python",
   "nbconvert_exporter": "python",
   "pygments_lexer": "ipython3",
   "version": "3.11.5"
  }
 },
 "nbformat": 4,
 "nbformat_minor": 5
}
