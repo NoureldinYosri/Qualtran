{
 "cells": [
  {
   "cell_type": "markdown",
   "id": "940163a0",
   "metadata": {
    "cq.autogen": "title_cell"
   },
   "source": [
    "# Double Factorization\n",
    "\n",
    "Bloqs for the double-factorized chemistry Hamiltonian in second quantization.\n",
    "\n",
    "Recall that for the single factorized Hamiltonian we have\n",
    "$$\n",
    "    H = \\sum_{pq}T'_{pq} a_p^\\dagger a_q + \\frac{1}{2} \\sum_l \\left(\\sum_{pq} \n",
    "W_{pq}^{(l)} a_p^\\dagger a_q\\right)^2.\n",
    "$$\n",
    "One arrives at the double factorized (DF) Hamiltonian by further factorizing the\n",
    "$W_{pq}^{(l)}$ terms as\n",
    "$$\n",
    "    W^{(l)}_{pq} = \\sum_{k} U^{(l)}_{pk} f_k^{(l)} U^{(l)*}_{qk},\n",
    "$$\n",
    "so that\n",
    "$$\n",
    "    H = \\sum_{pq}T'_{pq} a_p^\\dagger a_q + \\frac{1}{2} \\sum_l U^{(l)}\\left(\\sum_{k}^{\\Xi^{(l)}} \n",
    "f_k^{(l)} n_k\\right)^2 U^{(l)\\dagger}\n",
    "$$\n",
    "where $\\Xi^{(l)} $ is the rank of second factorization. In principle one can\n",
    "truncate the second factorization to reduce the amount of information required\n",
    "to specify the Hamiltonian. However this somewhat complicates the implementation\n",
    "and it is more convenient to fix the rank of the second factorization for all\n",
    "$l$ terms. Nevertheless the authors of Ref[1] chose to do it the hard way."
   ]
  },
  {
   "cell_type": "code",
   "execution_count": null,
   "id": "9a2c0af1",
   "metadata": {
    "cq.autogen": "top_imports"
   },
   "outputs": [],
   "source": [
    "from qualtran import Bloq, CompositeBloq, BloqBuilder, Signature, Register\n",
    "from qualtran.drawing import show_bloq\n",
    "from typing import *\n",
    "import numpy as np"
   ]
  },
  {
   "cell_type": "markdown",
   "id": "c499fbcf",
   "metadata": {
    "cq.autogen": "_make_double_factorization.md"
   },
   "source": [
    "## `DoubleFactorization`\n",
    "Block encoding of double factorization Hamiltonian.\n",
    "\n",
    "Implements Fig. 15 in the reference.\n",
    "\n",
    "#### Parameters\n",
    " - `num_spin_orb`: The number of spin orbitals. Typically called N.\n",
    " - `num_aux`: Dimension of auxiliary index for double factorized Hamiltonian. Called L in Ref[1].\n",
    " - `num_xi`: Rank of second factorization. Full rank implies xi = num_spin_orb // 2.\n",
    " - `num_bits_state_prep`: The number of bits of precision for coherent alias sampling. Called aleph (fancy N) in Ref[1].\n",
    " - `num_bits_rot`: Number of bits of precision for rotations for amplitude amplification in uniform state preparation. Called b_r in Ref[1].\n",
    " - `qroam_k_factor`: QROAM blocking factor for data prepared over l (auxiliary) index. Defaults to 1 (i.e. use QROM). \n",
    "\n",
    "#### Registers\n",
    " - `l`: register to store L values for auxiliary index.\n",
    " - `succ_pq`: flag for success of this state preparation.\n",
    " - `succ_l`: flag for success of this state preparation. \n",
    "\n",
    "Refererences:\n",
    "    [Even More Efficient Quantum Computations of Chemistry Through Tensor\n",
    "        hypercontraction](https://journals.aps.org/prxquantum/pdf/10.1103/prxquantum.2.030305)"
   ]
  },
  {
   "cell_type": "code",
   "execution_count": null,
   "id": "18d66a51",
   "metadata": {
    "cq.autogen": "_make_double_factorization.py"
   },
   "outputs": [],
   "source": [
    "from qualtran.bloqs.chemistry.double_factorization import DoubleFactorization\n",
    "\n",
    "bloq = DoubleFactorization(10, 20, 8)\n",
    "show_bloq(bloq)"
   ]
  },
  {
   "cell_type": "code",
   "execution_count": null,
   "id": "9eaba3f9",
   "metadata": {},
   "outputs": [],
   "source": [
    "from qualtran.resource_counting import get_bloq_counts_graph\n",
    "from qualtran.drawing import show_counts_graph, show_counts_sigma\n",
    "from qualtran.bloqs.util_bloqs import Split, Join, Allocate, Free\n",
    "\n",
    "def generalize(bloq):\n",
    "    if isinstance(bloq, (Split, Join, Allocate, Free)):\n",
    "        return None\n",
    "    return bloq\n",
    "\n",
    "graph, sigma = get_bloq_counts_graph(DoubleFactorization(4, 10, 4), generalizer=generalize)\n",
    "show_counts_graph(graph)"
   ]
  }
 ],
 "metadata": {
  "kernelspec": {
   "display_name": "Python 3",
   "language": "python",
   "name": "python3"
  },
  "language_info": {
   "codemirror_mode": {
    "name": "ipython",
    "version": 3
   },
   "file_extension": ".py",
   "mimetype": "text/x-python",
   "name": "python",
   "nbconvert_exporter": "python",
   "pygments_lexer": "ipython3",
   "version": "3.11.5"
  }
 },
 "nbformat": 4,
 "nbformat_minor": 5
}
