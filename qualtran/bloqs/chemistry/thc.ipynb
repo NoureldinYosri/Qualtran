{
 "cells": [
  {
   "cell_type": "markdown",
   "id": "8a1cab3e",
   "metadata": {
    "cq.autogen": "title_cell"
   },
   "source": [
    "# Tensor Hypercontraction\n",
    "\n",
    "SELECT and PREPARE for the molecular tensor hypercontraction (THC) hamiltonian"
   ]
  },
  {
   "cell_type": "code",
   "execution_count": null,
   "id": "76fe66a3",
   "metadata": {
    "cq.autogen": "top_imports"
   },
   "outputs": [],
   "source": [
    "from qualtran import Bloq, CompositeBloq, BloqBuilder, Signature, Register\n",
    "from qualtran.drawing import show_bloq\n",
    "from typing import *\n",
    "import numpy as np"
   ]
  },
  {
   "cell_type": "markdown",
   "id": "1423d573",
   "metadata": {
    "cq.autogen": "_make_uniform_superposition.md"
   },
   "source": [
    "## `UniformSuperpositionTHC`\n",
    "Prepare uniform superposition state for THC.\n",
    "\n",
    "$$\n",
    "    |0\\rangle^{\\otimes 2\\log(M+1)} \\rightarrow \\sum_{\\mu\\le\\nu}^{M} |\\mu\\rangle|\\nu\\rangle + \\sum_{\\mu}^{N/2}|\\mu\\rangle|\\nu=M+1\\rangle,\n",
    "$$\n",
    "\n",
    "where $M$ is the THC auxiliary dimension, and $N$ is the number of spin orbitals.\n",
    "\n",
    "The toffoli complexity of this gate should be 10 * log(M+1) + 2 b_r - 9.\n",
    "Currently it is a good deal larger due to:\n",
    "    1. inverting inequality tests should not need more toffolis.\n",
    "    2. We are not using phase-gradient gate toffoli cost for Ry rotations\n",
    "\n",
    "#### Parameters\n",
    " - `num_mu`: THC auxiliary index dimension $M$\n",
    " - `num_spin_orb`: number of spin orbitals $N$ \n",
    "\n",
    "Registers:\n",
    "- mu: $\\mu$ register.\n",
    "- nu: $\\nu$ register.\n",
    "- succ: ancilla flagging success of amplitude amplification.\n",
    "- eq_nu_mp1: ancillas for flagging if $\\nu = M+1$.\n",
    "\n",
    "#### References\n",
    "[Even more efficient quantum computations of chemistry through tensor hypercontraction](https://arxiv.org/pdf/2011.03494.pdf). Eq. 29.\n"
   ]
  },
  {
   "cell_type": "code",
   "execution_count": null,
   "id": "1b6bb0e0",
   "metadata": {
    "cq.autogen": "_make_uniform_superposition.py"
   },
   "outputs": [],
   "source": [
    "from qualtran.bloqs.chemistry.thc import UniformSuperpositionTHC\n",
    "\n",
    "num_mu = 10\n",
    "num_spin_orb = 4\n",
    "bloq = UniformSuperpositionTHC(num_mu=num_mu, num_spin_orb=num_spin_orb)\n",
    "show_bloq(bloq)"
   ]
  },
  {
   "cell_type": "markdown",
   "id": "5b253057",
   "metadata": {
    "cq.autogen": "_make_prepare.md"
   },
   "source": [
    "## `PrepareTHC`\n",
    "State Preparation for THC Hamilontian.\n",
    "\n",
    "Prepares the state\n",
    "\n",
    "$$\n",
    "    \\frac{1}{\\sqrt{\\lambda}}|+\\rangle|+\\rangle\\left[\n",
    "        \\sum_\\ell^{N/2} \\sqrt{t_\\ell}|\\ell\\rangle|M+1\\rangle\n",
    "        + \\frac{1}{\\sqrt{2}} \\sum_{\\mu\\le\\nu}^M \\sqrt{\\zeta_{\\mu\\nu}} |\\mu\\rangle|\\nu\\rangle\n",
    "    \\right].\n",
    "$$\n",
    "\n",
    "Note we use UniformSuperpositionTHC as a subroutine as part of this bloq in\n",
    "contrast to the reference which keeps them separate.\n",
    "\n",
    "#### Parameters\n",
    " - `num_mu`: THC auxiliary index dimension $M$\n",
    " - `num_spin_orb`: number of spin orbitals $N$\n",
    " - `alt_mu`: Alternate values for mu indices.\n",
    " - `alt_nu`: Alternate values for nu indices.\n",
    " - `alt_theta`: Alternate values for theta indices.\n",
    " - `theta`: Signs of lcu coefficients.\n",
    " - `keep`: keep values.\n",
    " - `keep_bitsize`: number of bits for keep register for coherent alias sampling. \n",
    "\n",
    "Registers:\n",
    " - mu: $\\mu$ register.\n",
    " - nu: $\\nu$ register.\n",
    " - theta: sign register.\n",
    " - succ: success flag qubit from uniform state preparation\n",
    " - eq_nu_mp1: flag for if $nu = M+1$\n",
    " - plus_a / plus_b: plus state for controlled swaps on spins.\n",
    "\n",
    "#### References\n",
    "[Even more efficient quantum computations of chemistry through tensor hypercontraction](https://arxiv.org/pdf/2011.03494.pdf) Fig. 2 and Fig. 3.\n"
   ]
  },
  {
   "cell_type": "code",
   "execution_count": null,
   "id": "c4886f09",
   "metadata": {
    "cq.autogen": "_make_prepare.py"
   },
   "outputs": [],
   "source": [
    "from qualtran.bloqs.chemistry.thc import PrepareTHC\n",
    "\n",
    "num_spat = 4\n",
    "num_mu = 8\n",
    "t_l = np.random.normal(0, 1, size=num_spat)\n",
    "zeta = np.random.normal(0, 1, size=(num_mu, num_mu))\n",
    "zeta = 0.5 * (zeta + zeta.T)\n",
    "eps = 1e-3\n",
    "bloq = PrepareTHC.build(t_l, zeta, probability_epsilon=eps)\n",
    "show_bloq(bloq)"
   ]
  }
 ],
 "metadata": {
  "kernelspec": {
   "display_name": "Python 3",
   "language": "python",
   "name": "python3"
  },
  "language_info": {
   "codemirror_mode": {
    "name": "ipython",
    "version": 3
   },
   "file_extension": ".py",
   "mimetype": "text/x-python",
   "name": "python",
   "nbconvert_exporter": "python",
   "pygments_lexer": "ipython3",
   "version": "3.11.5"
  }
 },
 "nbformat": 4,
 "nbformat_minor": 5
}
