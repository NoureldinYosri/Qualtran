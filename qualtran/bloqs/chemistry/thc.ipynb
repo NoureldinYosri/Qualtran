{
 "cells": [
  {
   "cell_type": "markdown",
   "id": "8a1cab3e",
   "metadata": {
    "cq.autogen": "title_cell"
   },
   "source": [
    "# Tensor Hypercontraction\n",
    "\n",
    "In this notebook we describe the implementation of SELECT and PREPARE for the tensor hypercontraction (THC) factorized form of the second quantized chemistry hamiltonian.\n",
    "We will discuss the THC Hamiltonian (which asymptotically yields the lowest complexity of all second quantized algorithms), before discussing the symmetries which can be exploited, and finally provide circuits and costs for PREPARE and SELECT, comparing to available [reference values](https://arxiv.org/pdf/2011.03494.pdf) where possible."
   ]
  },
  {
   "cell_type": "code",
   "execution_count": null,
   "id": "76fe66a3",
   "metadata": {
    "cq.autogen": "top_imports"
   },
   "outputs": [],
   "source": [
    "from qualtran import Bloq, CompositeBloq, BloqBuilder, Signature, Register\n",
    "from qualtran.drawing import show_bloq\n",
    "from typing import *\n",
    "import numpy as np\n",
    "import cirq"
   ]
  },
  {
   "cell_type": "markdown",
   "id": "980ee37f",
   "metadata": {},
   "source": [
    "## `State preparation`\n",
    "\n",
    "PREPARE in THC requires state preparation to occur in two steps. In the first step we prepare a uniform superposition over a number of registers before we load the appropriate Hamiltonian coefficients which are defined over the registers we prepared in the first step. That is, if $H = \\sum_{pq}^N \\zeta_{pq} a^{\\dagger}_p a_q$ then we need at least two registers ($p$ and $q$) each of size $\\lceil \\log N \\rceil$ bits. The state we want to prepare is of the form $|\\psi\\rangle \\sim \\sum_{pq} \\sqrt{\\zeta_{pq}}|pq\\rangle$. This second step usually involves loading the parameters in QROM (or more commonly QRO(A)M) before performing alias sampling to prepare the appropriate superposition state. At a high level step one usually has a logarithmic cost in the size of the registers, while step 2 has a cost that goes like $\\sqrt{d}$ where $d$ is the amount of data to load and arises from the QROM circuit (in the above example $d = N^2$). As step 2 is typically **the** dominant cost in the second quantized algorithms, a lot of effort is placed on loading the **minimum** amount of data required to specify the Hamiltonian. In particular, the quantum chemistry Hamiltonian exhibits several symmetries which can be exploited to reduce the QROM cost by several factors of two.\n",
    "\n",
    "### `Symmetries`\n",
    "\n",
    "### `Simplified Example`\n",
    "\n",
    "#### `Uniform superposition`\n",
    "Before discussing the two THC PREPARE circuits, it is helpful to think about implementing a simplified state preparation circuit which can be analyzed more easily. Specifically let us consider the example above and try to implement the state\n",
    "\n",
    "$$\n",
    "|0\\rangle^{\\otimes 2 \\log M} \\rightarrow \\frac{1}{\\sqrt{\\lambda}} \\sum_{\\mu\\le\\nu}^M\\sqrt{\\zeta_{\\mu\\nu}}|\\mu\\rangle|\\nu\\rangle,\n",
    "$$\n",
    "which demonstrates the main ideas. Above we are essentially assuming our matrix $\\zeta$ is symmetric so that we only need to load $d = M (M+1)/2$ data rather than $M^2$ which is a modest, but useful improvement.\n",
    "We will also assume for the moment that the matrix has all positive matrix elements.\n",
    "\n",
    "Step 1 is to prepare a uniform superposition over our registers. We will use a single round of amplitude amplification to boost our success probability to close to 1. Our circuit is a simplified version of that given in Fig. 3 of [Ref 1](https://arxiv.org/pdf/2011.03494.pdf). Here it is: "
   ]
  },
  {
   "cell_type": "code",
   "execution_count": null,
   "id": "e42cfb87",
   "metadata": {},
   "outputs": [],
   "source": [
    "import numpy as np\n",
    "import cirq_ft\n",
    "from cirq_ft.infra import testing as cft_testing\n",
    "from cirq_ft.infra.jupyter_tools import display_gate_and_compilation\n",
    "from qualtran.bloqs.chemistry.thc_tutorial import UniformPrepareUpperTriangular\n",
    "\n",
    "# dim := M here \n",
    "# Let's keep it simple with a 2x2 matrix to prepare\n",
    "dim = 2\n",
    "zeta = np.random.randint(0, 10, size=(dim, dim))\n",
    "\n",
    "upper_triang = UniformPrepareUpperTriangular(n=dim)\n",
    "context_manager = cirq_ft.GreedyQubitManager(prefix=\"_a\", maximize_reuse=True)\n",
    "upper_triang_gh = cft_testing.GateHelper(\n",
    "    upper_triang, context=context_manager\n",
    ")\n",
    "\n",
    "display_gate_and_compilation(upper_triang_gh)"
   ]
  },
  {
   "cell_type": "markdown",
   "id": "76f02a3f",
   "metadata": {},
   "source": [
    "Walking through the circuit left to right we have:\n",
    "\n",
    "1. Prepare a uniform superposition over the $p$ and $q$ registers with Hadamards with zero Toffoli cost.\n",
    "2. We rotate an ancilla qubit by \"adding a constant into a phase gradient register\". There are a few things to unpack here:\n",
    "    * The constant (i.e. angle) is given by $0.436 \\pi = \\arccos(1-8/10)$, where $8=2^{4-1}$ and $10 = 4 \\times (4 + 1) / 2$. That is, (one minus) the ratio of the number of bits used needed to prepare our state and the amount of data we are going to prepare. The choice of this angle is described in more detail in the [amplitude amplification tutorial]().\n",
    "    * The phase gradient register is a relatively cheap way to implement single qubit rotations fault tolerantly. For the moment let us just note that for us we need a single qubit $R_y$ gate and it costs b_r - 3 Toffolis, where $b_r=7$ is the number of bits used to represent the angle and this has found to be sufficient. See [techniques for single qubit rotations]() for further discussion on fault tolerant implementations of single qubit rotations.\n",
    "3. Next we perform an inequality test on the $p$ and $q$ registers, and write the result of $p\\le q$ into another ancilla register. This has cost n_p - 1 Toffolis where $n_p$ is the number of bits required to represent the range of $p$ values.\n",
    "4. We use a Toffoli gate to control off of the result of the inequality test and the $Ry$ rotation. If both these succeed then we set the third ancilla to on and phase this ancilla with a $Z$ gate. We then undo the Toffoli. This step has a cost of 2 Toffoli gates and 1 Clifford operation.\n",
    "5. We undo the inequality test and Hadamards and reflect around zero and apply the Hadamards again. The reflection has a Toffoli cost 2 n_p + 1\n",
    "\n",
    "Phew! That's quite a lot just to prepare a uniform superposition state. Let's check our predicted T count (which we take from the THC paper) against that computed by our circuit: "
   ]
  },
  {
   "cell_type": "code",
   "execution_count": null,
   "id": "20ee9c2a",
   "metadata": {},
   "outputs": [],
   "source": [
    "from cirq_ft.infra import t_complexity\n",
    "tcomp_cirq = t_complexity(upper_triang)\n",
    "n_p = 2 # we need 2 bits for our example\n",
    "b_r = 7 # Taken from the THC reference.\n",
    "# vs (only count toffolis)\n",
    "# If we assume the same cost as cirq_ft for a Toffoli of 7 T gates then we multiply everything by 7\n",
    "expected = 7 * (\n",
    "    2*(b_r - 3) # 2x rotations\n",
    "    +\n",
    "    2*(n_p - 1)# 2x inequality\n",
    "    +\n",
    "    2 # Two Toffolis for phasing third ancilla.\n",
    "    +\n",
    "    2 * n_p + 1 # Cost for reflections\n",
    ")\n",
    "# Add in the cost of rotations to the cirq t complexity cost\n",
    "print(f\"Computed = {tcomp_cirq.t + 2*(b_r-3)*7} vs Expected = {expected}\")\n",
    "# print(f\"Computed = {tcomp_cirq.t} vs Expected = {expected}. Difference = {tcomp_cirq.t-expected}.\")"
   ]
  },
  {
   "cell_type": "markdown",
   "id": "adb605bd",
   "metadata": {},
   "source": [
    "Oh no! Our computed estimate differs from our enumeration. What happened? We see that our calculated cost for the inequality tests is 24 T gates vs what we expect from $2\\times7\\times(n_p - 1) = 14$. Our computed reflections also cost 40 T gates rather 35 T gates which we expect. These two differences make up 10 + 5 = 15. These small differences highlight some of the complications which arise when trying to reproduce resource estimates `exactly`, i.e. the costs associated with different primitives may be slightly different than those listed in the paper, which is an unfortunate fact of life.\n",
    "\n",
    "Anyway, let's move on and check that our circuit is actually correct. Here we will make use of some utility functions and analyze the statevector."
   ]
  },
  {
   "cell_type": "code",
   "execution_count": null,
   "id": "1918b311",
   "metadata": {},
   "outputs": [],
   "source": [
    "from qualtran.bloqs.chemistry.thc_tutorial import analyze_state_vector\n",
    "state_vector = analyze_state_vector(upper_triang_gh, length=dim*dim)\n",
    "print(cirq.dirac_notation(state_vector))"
   ]
  },
  {
   "cell_type": "markdown",
   "id": "b058f227",
   "metadata": {},
   "source": [
    "We see that (as hoped), we have successfully prepared the state with $p \\le q$, where $p$ is stored in binary in the first two bits and q the second two, and our normalization seems to be consistent. (What is cirq doing when I just provide the circuit and not the decomposed one?) "
   ]
  },
  {
   "cell_type": "markdown",
   "id": "795cec00",
   "metadata": {},
   "source": [
    "#### `State Preparation`\n",
    "\n",
    "Now that we have our initial state we can prepare our amplitudes using [coherent alias sampling](). Here is our simplified circuit:"
   ]
  },
  {
   "cell_type": "code",
   "execution_count": null,
   "id": "fa073074",
   "metadata": {},
   "outputs": [],
   "source": [
    "from qualtran.bloqs.chemistry.thc_tutorial import PrepareUpperTriangular\n",
    "flat_data = zeta[np.triu_indices(dim)]\n",
    "assert len(flat_data) == dim * (dim + 1) // 2\n",
    "lambda_zeta  = np.sum(np.abs(flat_data))\n",
    "probs = flat_data / np.sqrt(lambda_zeta)\n",
    "# number of bits of precision for lcu probabilities\n",
    "mu = 3\n",
    "prep = PrepareUpperTriangular.build(dim, probs, epsilon=2**-mu / len(probs))\n",
    "ut_prep_gh = cft_testing.GateHelper(\n",
    "    prep\n",
    ")\n",
    "\n",
    "display_gate_and_compilation(ut_prep_gh)"
   ]
  },
  {
   "cell_type": "code",
   "execution_count": null,
   "id": "08f0a247",
   "metadata": {},
   "outputs": [],
   "source": [
    "from qualtran.bloqs.chemistry.thc_tutorial import analyze_state_vector\n",
    "state_vector = analyze_state_vector(ut_prep_gh, length=dim*dim)\n",
    "print(state_vector)"
   ]
  },
  {
   "cell_type": "code",
   "execution_count": null,
   "id": "496c9c45",
   "metadata": {},
   "outputs": [],
   "source": [
    "prep = cirq_ft.PrepareUniformSuperposition(3)\n",
    "one_d_prep = cft_testing.GateHelper(\n",
    "    prep\n",
    ")\n",
    "state_vector = analyze_state_vector(gate_helper, length=dim*dim)\n",
    "print(state_vector*state_vector.conj())"
   ]
  },
  {
   "cell_type": "markdown",
   "id": "1423d573",
   "metadata": {
    "cq.autogen": "_make_uniform_superposition.md"
   },
   "source": [
    "## `UniformSuperpositionTHC`\n",
    "Prepare uniform superposition state for THC.\n",
    "\n",
    "$$\n",
    "    |0\\rangle^{\\otimes 2\\log(M+1)} \\rightarrow \\sum_{\\mu\\le\\nu}^{M} |\\mu\\rangle|\\nu\\rangle + \\sum_{\\mu}^{N/2}|\\mu\\rangle|\\nu=M+1\\rangle,\n",
    "$$\n",
    "\n",
    "where $M$ is the THC auxiliary dimension, and $N$ is the number of spin orbitals.\n",
    "\n",
    "The toffoli complexity of this gate should be 10 * log(M+1) + 2 b_r - 9.\n",
    "Currently it is a good deal larger due to:\n",
    "    1. inverting inequality tests should not need more toffolis.\n",
    "    2. We are not using phase-gradient gate toffoli cost for Ry rotations\n",
    "\n",
    "#### Parameters\n",
    " - `num_mu`: THC auxiliary index dimension $M$\n",
    " - `num_spin_orb`: number of spin orbitals $N$ \n",
    "\n",
    "Registers:\n",
    "- mu: $\\mu$ register.\n",
    "- nu: $\\nu$ register.\n",
    "- succ: ancilla flagging success of amplitude amplification.\n",
    "- eq_nu_mp1: ancillas for flagging if $\\nu = M+1$.\n",
    "\n",
    "#### References\n",
    "[Even more efficient quantum computations of chemistry through tensor hypercontraction](https://arxiv.org/pdf/2011.03494.pdf). Eq. 29.\n"
   ]
  },
  {
   "cell_type": "code",
   "execution_count": null,
   "id": "1b6bb0e0",
   "metadata": {
    "cq.autogen": "_make_uniform_superposition.py"
   },
   "outputs": [],
   "source": [
    "from qualtran.bloqs.chemistry.thc import UniformSuperpositionTHC\n",
    "\n",
    "num_mu = 10\n",
    "num_spin_orb = 4\n",
    "bloq = UniformSuperpositionTHC(num_mu=num_mu, num_spin_orb=num_spin_orb)\n",
    "show_bloq(bloq)"
   ]
  },
  {
   "cell_type": "code",
   "execution_count": null,
   "id": "ebfe7689",
   "metadata": {},
   "outputs": [],
   "source": [
    "from qualtran.drawing import get_musical_score_data, draw_musical_score\n",
    "cbloq = bloq.decompose_bloq()\n",
    "msd = get_musical_score_data(cbloq)\n",
    "fig, ax = draw_musical_score(msd)\n",
    "fig.tight_layout()\n",
    "print(cbloq.t_complexity())"
   ]
  },
  {
   "cell_type": "code",
   "execution_count": null,
   "id": "08a77982",
   "metadata": {},
   "outputs": [],
   "source": [
    "import matplotlib.pyplot as plt\n",
    "t_comp = []\n",
    "num_spatial = range(50, 10_000, 100)\n",
    "for ns in num_spatial:\n",
    "    bloq = UniformSuperpositionTHC(num_mu=6*ns, num_spin_orb=2*ns)\n",
    "    t_comp.append(bloq.decompose_bloq().t_complexity().t)\n",
    "\n",
    "plt.plot(num_spatial, np.array(t_comp)/11, marker='o')\n",
    "plt.plot(num_spatial, 10*np.array([(6*ns).bit_length() for ns in num_spatial]) + 3)\n",
    "# plt.yscale(\"log\")\n",
    "# plt.xscale(\"log\")"
   ]
  },
  {
   "cell_type": "markdown",
   "id": "5b253057",
   "metadata": {
    "cq.autogen": "_make_prepare.md"
   },
   "source": [
    "## `PrepareTHC`\n",
    "State Preparation for THC Hamilontian.\n",
    "\n",
    "Prepares the state\n",
    "\n",
    "$$\n",
    "    \\frac{1}{\\sqrt{\\lambda}}|+\\rangle|+\\rangle\\left[\n",
    "        \\sum_\\ell^{N/2} \\sqrt{t_\\ell}|\\ell\\rangle|M+1\\rangle\n",
    "        + \\frac{1}{\\sqrt{2}} \\sum_{\\mu\\le\\nu}^M \\sqrt{\\zeta_{\\mu\\nu}} |\\mu\\rangle|\\nu\\rangle\n",
    "    \\right].\n",
    "$$\n",
    "\n",
    "#### Parameters\n",
    " - `num_mu`: THC auxiliary index dimension $M$\n",
    " - `num_spin_orb`: number of spin orbitals $N$\n",
    " - `keep_bitsize`: number of bits for keep register for coherent alias sampling. \n",
    "\n",
    "Registers:\n",
    " - mu: $\\mu$ register.\n",
    " - nu: $\\nu$ register.\n",
    " - theta: sign register.\n",
    "\n",
    "#### References\n",
    "[Even more efficient quantum computations of chemistry through tensor hypercontraction](https://arxiv.org/pdf/2011.03494.pdf) Fig. 2 and Fig. 3.\n"
   ]
  },
  {
   "cell_type": "code",
   "execution_count": null,
   "id": "c4886f09",
   "metadata": {
    "cq.autogen": "_make_prepare.py"
   },
   "outputs": [],
   "source": [
    "from qualtran.bloqs.chemistry.thc import PrepareTHC\n",
    "\n",
    "num_mu = 10\n",
    "num_spin_orb = 4\n",
    "\n",
    "bloq = PrepareTHC(num_mu=num_mu, num_spin_orb=num_spin_orb, keep_bitsize=8)\n",
    "show_bloq(bloq)"
   ]
  },
  {
   "cell_type": "code",
   "execution_count": null,
   "id": "93e23c6b",
   "metadata": {},
   "outputs": [],
   "source": [
    "cbloq = bloq.decompose_bloq() \n",
    "show_bloq(cbloq)"
   ]
  },
  {
   "cell_type": "code",
   "execution_count": null,
   "id": "dca4a7e0",
   "metadata": {},
   "outputs": [],
   "source": [
    "from qualtran.drawing import get_musical_score_data, draw_musical_score\n",
    "cbloq = bloq.decompose_bloq()\n",
    "msd = get_musical_score_data(cbloq)\n",
    "fig, ax = draw_musical_score(msd)\n",
    "fig.tight_layout()"
   ]
  },
  {
   "cell_type": "code",
   "execution_count": null,
   "id": "7b4ffed8",
   "metadata": {},
   "outputs": [],
   "source": [
    "print(cbloq.t_complexity())"
   ]
  },
  {
   "cell_type": "code",
   "execution_count": null,
   "id": "70282cd5",
   "metadata": {},
   "outputs": [],
   "source": [
    "%pip install openfermion\n",
    "%pip install pyscf"
   ]
  },
  {
   "cell_type": "code",
   "execution_count": null,
   "id": "da33771f",
   "metadata": {},
   "outputs": [],
   "source": [
    "import numpy as np\n",
    "from openfermion.resource_estimates.utils import QR, QI\n",
    "def prepare_cost(M, n, chi, stps):\n",
    "    # The number of bits used for each register.\n",
    "    nM = np.ceil(np.log2(M + 1))\n",
    "    # This is the number of distinct items of data we need to output.\n",
    "    d = M * (M + 1) // 2 + n // 2\n",
    "    # The number of bits used for the contiguous register.\n",
    "    # and 2 for the two sign bits, as in Eq. (29).\n",
    "    m = 2 * nM + 2 + chi\n",
    "    # Set it to be the number of bits that minimises the cost, usually 7.\n",
    "    # Python is 0-index, so need to add the one back in vs mathematica nb\n",
    "    br = 7 + 1\n",
    "\n",
    "    # This is the costing for preparing the equal superposition over the\n",
    "    # input registers from below Eq. (27).\n",
    "    cp1 = 2 * (10 * nM + 2 * br - 9)\n",
    "\n",
    "    # This is the cost of computing the contiguous register and inverting it.\n",
    "    # This is with a sophisticated scheme adding together triplets of bits.\n",
    "    # This is the cost of step 2 in the list on pages 15 and 16, with a factor\n",
    "    # of 2 to account for its inverse.\n",
    "    cp2 = 2 * (nM**2 + nM - 1)\n",
    "\n",
    "    # This is the cost of the QROM for the state preparation in step 3 and its\n",
    "    # inverse. Note: arg_min is first value, min is second value\n",
    "    cp3 = QR(d, m)[1] + QI(d)[1]\n",
    "\n",
    "    # The cost for the inequality test in step 4 and its inverse.\n",
    "    cp4 = 2 * chi\n",
    "\n",
    "    # The cost 2*nM for the controlled swap in step 5 and its inverse.\n",
    "    cp5 = 4 * nM\n",
    "\n",
    "    # Then there is a cost of nM + 1 for swapping the mu and nu registers in\n",
    "    # step 6, where the + 1 is because we need to control on two registers.\n",
    "    # There is the same cost for the inverse.\n",
    "    cp6 = 2 * nM + 2\n",
    "\n",
    "    # This is the total cost in Eq. (32).\n",
    "    print(cp1, cp2, cp3, cp4, cp5, cp6)\n",
    "    CPCP = cp1 + cp2 + cp3 + cp4 + cp5 + cp6\n",
    "    return CPCP"
   ]
  },
  {
   "cell_type": "code",
   "execution_count": null,
   "id": "cb556edd",
   "metadata": {},
   "outputs": [],
   "source": [
    "import matplotlib.pyplot as plt\n",
    "t_comp = []\n",
    "t_comp_of = []\n",
    "num_spatial = range(10, 100, 100)\n",
    "for ns in num_spatial:\n",
    "    bloq = PrepareTHC(num_mu=6*ns, num_spin_orb=2*ns, keep_bitsize=12)\n",
    "    bloq2 = UniformSuperpositionTHC(num_mu=6*ns, num_spin_orb=2*ns)\n",
    "    t_comp.append(bloq.decompose_bloq().t_complexity().t-bloq2.decompose_bloq().t_complexity().t)\n",
    "    t_comp_of.append(prepare_cost(6*ns, 2*ns, 12, 10))\n",
    "\n",
    "plt.xscale(\"log\")\n",
    "plt.yscale(\"log\")\n",
    "plt.plot(num_spatial, np.array(t_comp), marker='o')\n",
    "plt.plot(num_spatial, np.array(t_comp_of), marker='^')"
   ]
  }
 ],
 "metadata": {
  "kernelspec": {
   "display_name": "Python 3",
   "language": "python",
   "name": "python3"
  },
  "language_info": {
   "codemirror_mode": {
    "name": "ipython",
    "version": 3
   },
   "file_extension": ".py",
   "mimetype": "text/x-python",
   "name": "python",
   "nbconvert_exporter": "python",
   "pygments_lexer": "ipython3",
   "version": "3.11.5"
  }
 },
 "nbformat": 4,
 "nbformat_minor": 5
}
