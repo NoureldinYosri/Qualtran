{
 "cells": [
  {
   "cell_type": "markdown",
   "id": "8a1cab3e",
   "metadata": {
    "cq.autogen": "title_cell"
   },
   "source": [
    "# Tensor Hypercontraction\n",
    "\n",
    "SELECT and PREPARE for the molecular tensor hypercontraction (THC) hamiltonian"
   ]
  },
  {
   "cell_type": "code",
   "execution_count": 3,
   "id": "76fe66a3",
   "metadata": {
    "cq.autogen": "top_imports"
   },
   "outputs": [],
   "source": [
    "from qualtran import Bloq, CompositeBloq, BloqBuilder, Signature, Register\n",
    "from qualtran.drawing import show_bloq\n",
    "from typing import *\n",
    "import numpy as np"
   ]
  },
  {
   "cell_type": "markdown",
   "id": "1423d573",
   "metadata": {
    "cq.autogen": "_make_uniform_superposition.md"
   },
   "source": [
    "## `UniformSuperpositionTHC`\n",
    "Prepare uniform superposition state for THC.\n",
    "\n",
    "$$\n",
    "    |0\\rangle^{\\otimes 2\\log(M+1)} \\rightarrow \\sum_{\\mu\\le\\nu}^{M} |\\mu\\rangle|\\nu\\rangle + \\sum_{\\mu}^{N/2}|\\mu\\rangle|\\nu=M+1\\rangle,\n",
    "$$\n",
    "\n",
    "where $M$ is the THC auxiliary dimension, and $N$ is the number of spin orbitals.\n",
    "\n",
    "The toffoli complexity of this gate should be 10 * log(M+1) + 2 b_r - 9.\n",
    "Currently it is a good deal larger due to:\n",
    "    1. inverting inequality tests should not need more toffolis.\n",
    "    2. We are not using phase-gradient gate toffoli cost for Ry rotations\n",
    "\n",
    "#### Parameters\n",
    " - `num_mu`: THC auxiliary index dimension $M$\n",
    " - `num_spin_orb`: number of spin orbitals $N$ \n",
    "\n",
    "Registers:\n",
    "- mu: $\\mu$ register.\n",
    "- nu: $\\nu$ register.\n",
    "- succ: ancilla flagging success of amplitude amplification.\n",
    "- eq_nu_mp1: ancillas for flagging if $\\nu = M+1$.\n",
    "\n",
    "#### References\n",
    "[Even more efficient quantum computations of chemistry through tensor hypercontraction](https://arxiv.org/pdf/2011.03494.pdf). Eq. 29.\n"
   ]
  },
  {
   "cell_type": "code",
   "execution_count": 17,
   "id": "1b6bb0e0",
   "metadata": {
    "cq.autogen": "_make_uniform_superposition.py"
   },
   "outputs": [
    {
     "data": {
      "image/svg+xml": [
       "<svg xmlns=\"http://www.w3.org/2000/svg\" xmlns:xlink=\"http://www.w3.org/1999/xlink\" width=\"315pt\" height=\"206pt\" viewBox=\"0.00 0.00 315.00 206.00\">\n",
       "<g id=\"graph0\" class=\"graph\" transform=\"scale(1 1) rotate(0) translate(4 202)\">\n",
       "<title>my_graph</title>\n",
       "<polygon fill=\"white\" stroke=\"transparent\" points=\"-4,4 -4,-202 311,-202 311,4 -4,4\"/>\n",
       "<!-- mu_G6 -->\n",
       "<g id=\"node1\" class=\"node\">\n",
       "<title>mu_G6</title>\n",
       "<text text-anchor=\"middle\" x=\"40.5\" y=\"-176.3\" font-family=\"Times,serif\" font-size=\"14.00\">mu</text>\n",
       "</g>\n",
       "<!-- UniformSuperpositionTHC -->\n",
       "<g id=\"node5\" class=\"node\">\n",
       "<title>UniformSuperpositionTHC</title>\n",
       "<polygon fill=\"none\" stroke=\"black\" points=\"118.5,-141 118.5,-158 189.5,-158 189.5,-141 118.5,-141\"/>\n",
       "<text text-anchor=\"start\" x=\"138\" y=\"-147\" font-family=\"Times,serif\" font-size=\"10.00\">Unifor..</text>\n",
       "<polygon fill=\"none\" stroke=\"black\" points=\"118.5,-120 118.5,-141 189.5,-141 189.5,-120 118.5,-120\"/>\n",
       "<text text-anchor=\"start\" x=\"144.5\" y=\"-126.8\" font-family=\"Times,serif\" font-size=\"14.00\">mu</text>\n",
       "<polygon fill=\"none\" stroke=\"black\" points=\"118.5,-99 118.5,-120 189.5,-120 189.5,-99 118.5,-99\"/>\n",
       "<text text-anchor=\"start\" x=\"147\" y=\"-105.8\" font-family=\"Times,serif\" font-size=\"14.00\">nu</text>\n",
       "<polygon fill=\"none\" stroke=\"black\" points=\"118.5,-78 118.5,-99 189.5,-99 189.5,-78 118.5,-78\"/>\n",
       "<text text-anchor=\"start\" x=\"141.5\" y=\"-84.8\" font-family=\"Times,serif\" font-size=\"14.00\">succ</text>\n",
       "<polygon fill=\"none\" stroke=\"black\" points=\"118.5,-57 118.5,-78 189.5,-78 189.5,-57 118.5,-57\"/>\n",
       "<text text-anchor=\"start\" x=\"121.5\" y=\"-63.8\" font-family=\"Times,serif\" font-size=\"14.00\">eq_nu_mp1</text>\n",
       "</g>\n",
       "<!-- mu_G6&#45;&gt;UniformSuperpositionTHC -->\n",
       "<g id=\"edge1\" class=\"edge\">\n",
       "<title>mu_G6:e-&gt;UniformSuperpositionTHC:w</title>\n",
       "<path fill=\"none\" stroke=\"black\" d=\"M68.5,-180C98.73,-180 87.6,-133.27 115.89,-131.08\"/>\n",
       "<ellipse fill=\"black\" stroke=\"black\" cx=\"117\" cy=\"-131.04\" rx=\"1\" ry=\"1\"/>\n",
       "<text text-anchor=\"middle\" x=\"99.5\" y=\"-144\" font-family=\"Times,serif\" font-size=\"10.00\">4</text>\n",
       "</g>\n",
       "<!-- nu_G8 -->\n",
       "<g id=\"node2\" class=\"node\">\n",
       "<title>nu_G8</title>\n",
       "<text text-anchor=\"middle\" x=\"40.5\" y=\"-122.3\" font-family=\"Times,serif\" font-size=\"14.00\">nu</text>\n",
       "</g>\n",
       "<!-- nu_G8&#45;&gt;UniformSuperpositionTHC -->\n",
       "<g id=\"edge2\" class=\"edge\">\n",
       "<title>nu_G8:e-&gt;UniformSuperpositionTHC:w</title>\n",
       "<path fill=\"none\" stroke=\"black\" d=\"M68.5,-126C90.9,-126 94.66,-110.98 115.89,-110.05\"/>\n",
       "<ellipse fill=\"black\" stroke=\"black\" cx=\"117\" cy=\"-110.02\" rx=\"1\" ry=\"1\"/>\n",
       "<text text-anchor=\"middle\" x=\"99.5\" y=\"-117\" font-family=\"Times,serif\" font-size=\"10.00\">4</text>\n",
       "</g>\n",
       "<!-- succ_G10 -->\n",
       "<g id=\"node3\" class=\"node\">\n",
       "<title>succ_G10</title>\n",
       "<text text-anchor=\"middle\" x=\"40.5\" y=\"-68.3\" font-family=\"Times,serif\" font-size=\"14.00\">succ</text>\n",
       "</g>\n",
       "<!-- succ_G10&#45;&gt;UniformSuperpositionTHC -->\n",
       "<g id=\"edge3\" class=\"edge\">\n",
       "<title>succ_G10:e-&gt;UniformSuperpositionTHC:w</title>\n",
       "<path fill=\"none\" stroke=\"black\" d=\"M68.5,-72C90.9,-72 94.66,-87.02 115.89,-87.95\"/>\n",
       "<ellipse fill=\"black\" stroke=\"black\" cx=\"117\" cy=\"-87.98\" rx=\"1\" ry=\"1\"/>\n",
       "<text text-anchor=\"middle\" x=\"99.5\" y=\"-86\" font-family=\"Times,serif\" font-size=\"10.00\">1</text>\n",
       "</g>\n",
       "<!-- eq_nu_mp1_G2 -->\n",
       "<g id=\"node4\" class=\"node\">\n",
       "<title>eq_nu_mp1_G2</title>\n",
       "<text text-anchor=\"middle\" x=\"40.5\" y=\"-14.3\" font-family=\"Times,serif\" font-size=\"14.00\">eq_nu_mp1</text>\n",
       "</g>\n",
       "<!-- eq_nu_mp1_G2&#45;&gt;UniformSuperpositionTHC -->\n",
       "<g id=\"edge4\" class=\"edge\">\n",
       "<title>eq_nu_mp1_G2:e-&gt;UniformSuperpositionTHC:w</title>\n",
       "<path fill=\"none\" stroke=\"black\" d=\"M81,-18C107.54,-18 91.64,-64.36 115.86,-66.89\"/>\n",
       "<ellipse fill=\"black\" stroke=\"black\" cx=\"117\" cy=\"-66.95\" rx=\"1\" ry=\"1\"/>\n",
       "<text text-anchor=\"middle\" x=\"99.5\" y=\"-47\" font-family=\"Times,serif\" font-size=\"10.00\">1</text>\n",
       "</g>\n",
       "<!-- mu_G5 -->\n",
       "<g id=\"node6\" class=\"node\">\n",
       "<title>mu_G5</title>\n",
       "<text text-anchor=\"middle\" x=\"266.5\" y=\"-176.3\" font-family=\"Times,serif\" font-size=\"14.00\">mu</text>\n",
       "</g>\n",
       "<!-- UniformSuperpositionTHC&#45;&gt;mu_G5 -->\n",
       "<g id=\"edge5\" class=\"edge\">\n",
       "<title>UniformSuperpositionTHC:e-&gt;mu_G5:w</title>\n",
       "<path fill=\"none\" stroke=\"black\" d=\"M189,-131C219.23,-131 208.1,-177.73 236.39,-179.92\"/>\n",
       "<ellipse fill=\"black\" stroke=\"black\" cx=\"237.5\" cy=\"-179.96\" rx=\"1\" ry=\"1\"/>\n",
       "<text text-anchor=\"middle\" x=\"207.5\" y=\"-144\" font-family=\"Times,serif\" font-size=\"10.00\">4</text>\n",
       "</g>\n",
       "<!-- nu_G3 -->\n",
       "<g id=\"node7\" class=\"node\">\n",
       "<title>nu_G3</title>\n",
       "<text text-anchor=\"middle\" x=\"266.5\" y=\"-122.3\" font-family=\"Times,serif\" font-size=\"14.00\">nu</text>\n",
       "</g>\n",
       "<!-- UniformSuperpositionTHC&#45;&gt;nu_G3 -->\n",
       "<g id=\"edge6\" class=\"edge\">\n",
       "<title>UniformSuperpositionTHC:e-&gt;nu_G3:w</title>\n",
       "<path fill=\"none\" stroke=\"black\" d=\"M189,-110C211.4,-110 215.16,-125.02 236.39,-125.95\"/>\n",
       "<ellipse fill=\"black\" stroke=\"black\" cx=\"237.5\" cy=\"-125.98\" rx=\"1\" ry=\"1\"/>\n",
       "<text text-anchor=\"middle\" x=\"207.5\" y=\"-117\" font-family=\"Times,serif\" font-size=\"10.00\">4</text>\n",
       "</g>\n",
       "<!-- succ_G0 -->\n",
       "<g id=\"node8\" class=\"node\">\n",
       "<title>succ_G0</title>\n",
       "<text text-anchor=\"middle\" x=\"266.5\" y=\"-68.3\" font-family=\"Times,serif\" font-size=\"14.00\">succ</text>\n",
       "</g>\n",
       "<!-- UniformSuperpositionTHC&#45;&gt;succ_G0 -->\n",
       "<g id=\"edge7\" class=\"edge\">\n",
       "<title>UniformSuperpositionTHC:e-&gt;succ_G0:w</title>\n",
       "<path fill=\"none\" stroke=\"black\" d=\"M189,-88C211.4,-88 215.16,-72.98 236.39,-72.05\"/>\n",
       "<ellipse fill=\"black\" stroke=\"black\" cx=\"237.5\" cy=\"-72.02\" rx=\"1\" ry=\"1\"/>\n",
       "<text text-anchor=\"middle\" x=\"207.5\" y=\"-86\" font-family=\"Times,serif\" font-size=\"10.00\">1</text>\n",
       "</g>\n",
       "<!-- eq_nu_mp1_G9 -->\n",
       "<g id=\"node9\" class=\"node\">\n",
       "<title>eq_nu_mp1_G9</title>\n",
       "<text text-anchor=\"middle\" x=\"266.5\" y=\"-14.3\" font-family=\"Times,serif\" font-size=\"14.00\">eq_nu_mp1</text>\n",
       "</g>\n",
       "<!-- UniformSuperpositionTHC&#45;&gt;eq_nu_mp1_G9 -->\n",
       "<g id=\"edge8\" class=\"edge\">\n",
       "<title>UniformSuperpositionTHC:e-&gt;eq_nu_mp1_G9:w</title>\n",
       "<path fill=\"none\" stroke=\"black\" d=\"M189,-67C215.54,-67 199.64,-20.64 223.86,-18.11\"/>\n",
       "<ellipse fill=\"black\" stroke=\"black\" cx=\"225\" cy=\"-18.05\" rx=\"1\" ry=\"1\"/>\n",
       "<text text-anchor=\"middle\" x=\"207.5\" y=\"-47\" font-family=\"Times,serif\" font-size=\"10.00\">1</text>\n",
       "</g>\n",
       "</g>\n",
       "</svg>"
      ],
      "text/plain": [
       "<IPython.core.display.SVG object>"
      ]
     },
     "metadata": {},
     "output_type": "display_data"
    }
   ],
   "source": [
    "from qualtran.bloqs.chemistry.thc import UniformSuperpositionTHC\n",
    "\n",
    "num_mu = 10\n",
    "num_spin_orb = 4\n",
    "bloq = UniformSuperpositionTHC(num_mu=num_mu, num_spin_orb=num_spin_orb)\n",
    "show_bloq(bloq)"
   ]
  },
  {
   "cell_type": "markdown",
   "id": "5b253057",
   "metadata": {
    "cq.autogen": "_make_prepare.md"
   },
   "source": [
    "## `PrepareTHC`\n",
    "State Preparation for THC Hamilontian.\n",
    "\n",
    "Prepares the state\n",
    "\n",
    "$$\n",
    "    \\frac{1}{\\sqrt{\\lambda}}|+\\rangle|+\\rangle\\left[\n",
    "        \\sum_\\ell^{N/2} \\sqrt{t_\\ell}|\\ell\\rangle|M+1\\rangle\n",
    "        + \\frac{1}{\\sqrt{2}} \\sum_{\\mu\\le\\nu}^M \\sqrt{\\zeta_{\\mu\\nu}} |\\mu\\rangle|\\nu\\rangle\n",
    "    \\right].\n",
    "$$\n",
    "\n",
    "Note we use UniformSuperpositionTHC as a subroutine as part of this bloq in\n",
    "contrast to the reference which keeps them separate.\n",
    "\n",
    "#### Parameters\n",
    " - `num_mu`: THC auxiliary index dimension $M$\n",
    " - `num_spin_orb`: number of spin orbitals $N$\n",
    " - `alt_mu`: Alternate values for mu indices.\n",
    " - `alt_nu`: Alternate values for nu indices.\n",
    " - `alt_theta`: Alternate values for theta indices.\n",
    " - `theta`: Signs of lcu coefficients.\n",
    " - `keep`: keep values.\n",
    " - `keep_bitsize`: number of bits for keep register for coherent alias sampling. \n",
    "\n",
    "Registers:\n",
    " - mu: $\\mu$ register.\n",
    " - nu: $\\nu$ register.\n",
    " - theta: sign register.\n",
    " - succ: success flag qubit from uniform state preparation\n",
    " - eq_nu_mp1: flag for if $nu = M+1$\n",
    " - plus_a / plus_b: plus state for controlled swaps on spins.\n",
    "\n",
    "#### References\n",
    "[Even more efficient quantum computations of chemistry through tensor hypercontraction](https://arxiv.org/pdf/2011.03494.pdf) Fig. 2 and Fig. 3.\n"
   ]
  },
  {
   "cell_type": "code",
   "execution_count": 14,
   "id": "c4886f09",
   "metadata": {
    "cq.autogen": "_make_prepare.py"
   },
   "outputs": [
    {
     "name": "stdout",
     "output_type": "stream",
     "text": [
      "T-count:   1144\n",
      "Rotations: 0\n",
      "Cliffords: 4143\n",
      "\n"
     ]
    }
   ],
   "source": [
    "from qualtran.bloqs.chemistry.thc import PrepareTHC\n",
    "\n",
    "num_spat = 4\n",
    "num_mu = 8\n",
    "t_l = np.random.normal(0, 1, size=num_spat)\n",
    "zeta = np.random.normal(0, 1, size=(num_mu, num_mu))\n",
    "zeta = 0.5 * (zeta + zeta.T)\n",
    "eps = 1e-3\n",
    "bloq = PrepareTHC.build(t_l, zeta, probability_epsilon=eps)"
   ]
  },
  {
   "cell_type": "code",
   "execution_count": null,
   "id": "ec8f8b91",
   "metadata": {},
   "outputs": [],
   "source": [
    "from qualtran.resource_counting import get_bloq_counts_graph, print_counts_graph, \\\n",
    "    GraphvizCounts, markdown_counts_graph, markdown_counts_sigma, SympySymbolAllocator\n",
    "from qualtran.bloqs.and_bloq import MultiAnd, And\n",
    "\n",
    "graph, sigma = get_bloq_counts_graph(bloq)\n",
    "print_counts_graph(graph)"
   ]
  },
  {
   "cell_type": "code",
   "execution_count": null,
   "id": "4be74e26",
   "metadata": {},
   "outputs": [],
   "source": []
  }
 ],
 "metadata": {
  "kernelspec": {
   "display_name": "Python 3",
   "language": "python",
   "name": "python3"
  },
  "language_info": {
   "codemirror_mode": {
    "name": "ipython",
    "version": 3
   },
   "file_extension": ".py",
   "mimetype": "text/x-python",
   "name": "python",
   "nbconvert_exporter": "python",
   "pygments_lexer": "ipython3",
   "version": "3.11.5"
  }
 },
 "nbformat": 4,
 "nbformat_minor": 5
}
