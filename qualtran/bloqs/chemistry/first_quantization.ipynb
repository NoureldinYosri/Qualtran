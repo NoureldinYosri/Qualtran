{
 "cells": [
  {
   "cell_type": "markdown",
   "id": "86f77953",
   "metadata": {
    "cq.autogen": "title_cell"
   },
   "source": [
    "# First Quantization\n",
    "\n",
    "SELECT and PREPARE for the first quantized chemistry Hamiltonian."
   ]
  },
  {
   "cell_type": "code",
   "execution_count": 1,
   "id": "3f016706",
   "metadata": {
    "cq.autogen": "top_imports"
   },
   "outputs": [],
   "source": [
    "from qualtran import Bloq, CompositeBloq, BloqBuilder, Signature, Register\n",
    "from qualtran.drawing import show_bloq\n",
    "from typing import *\n",
    "import numpy as np"
   ]
  },
  {
   "cell_type": "markdown",
   "id": "d633363f",
   "metadata": {
    "cq.autogen": "_make_prepare_kinetic.md"
   },
   "source": [
    "## `PrepareKineticFirstQuantization`\n",
    "PREPARE for the kinetic energy operator for the first quantized chemistry Hamiltonian.\n",
    "\n",
    "This prepares the state\n",
    "\n",
    "$$\n",
    "    |+\\rangle\\sum_{j=1}^{\\eta}|j\\rangle\\sum_{w=0}^{2}|w\\rangle\\sum_{r=0}^{n_{p}-2}2^{r/2}|r\\rangle\n",
    "    \\sum_{s=0}^{n_{p}-2}2^{s/2}|s\\rangle\n",
    "$$\n",
    "\n",
    "#### Parameters\n",
    " - `num_pw_each_dim`: The number of planewaves in each of the x, y and z directions. In total, for a cubic box, there are N = num_pw_each_dim**3 planewaves. The number of bits required (in each dimension) is thus $log N^1/3 + 1$, where the + 1 is for the sign bit.\n",
    " - `eta`: The number of electrons.\n",
    " - `num_bits_rot_aa`: The number of bits of precision for the single qubit rotation for amplitude amplification. Called $b_r$ in the reference. \n",
    "\n",
    "Registers:\n",
    "\n",
    "#### References\n",
    "[Fault-Tolerant Quantum Simulations of Chemistry in First Quantization] (https://arxiv.org/abs/2105.12767) page 19, section B\n"
   ]
  },
  {
   "cell_type": "code",
   "execution_count": 2,
   "id": "a64d0cf0",
   "metadata": {
    "cq.autogen": "_make_prepare_kinetic.py"
   },
   "outputs": [
    {
     "data": {
      "image/svg+xml": [
       "<svg xmlns=\"http://www.w3.org/2000/svg\" xmlns:xlink=\"http://www.w3.org/1999/xlink\" width=\"227pt\" height=\"206pt\" viewBox=\"0.00 0.00 227.00 206.00\">\n",
       "<g id=\"graph0\" class=\"graph\" transform=\"scale(1 1) rotate(0) translate(4 202)\">\n",
       "<title>my_graph</title>\n",
       "<polygon fill=\"white\" stroke=\"transparent\" points=\"-4,4 -4,-202 223,-202 223,4 -4,4\"/>\n",
       "<!-- plus_G5 -->\n",
       "<g id=\"node1\" class=\"node\">\n",
       "<title>plus_G5</title>\n",
       "<text text-anchor=\"middle\" x=\"27\" y=\"-176.3\" font-family=\"Times,serif\" font-size=\"14.00\">plus</text>\n",
       "</g>\n",
       "<!-- PrepareKineticFirstQuantization -->\n",
       "<g id=\"node5\" class=\"node\">\n",
       "<title>PrepareKineticFirstQuantization</title>\n",
       "<polygon fill=\"none\" stroke=\"black\" points=\"91.5,-141 91.5,-158 128.5,-158 128.5,-141 91.5,-141\"/>\n",
       "<text text-anchor=\"start\" x=\"94.5\" y=\"-147\" font-family=\"Times,serif\" font-size=\"10.00\">Prepar..</text>\n",
       "<polygon fill=\"none\" stroke=\"black\" points=\"91.5,-120 91.5,-141 128.5,-141 128.5,-120 91.5,-120\"/>\n",
       "<text text-anchor=\"start\" x=\"98.5\" y=\"-126.8\" font-family=\"Times,serif\" font-size=\"14.00\">plus</text>\n",
       "<polygon fill=\"none\" stroke=\"black\" points=\"91.5,-99 91.5,-120 128.5,-120 128.5,-99 91.5,-99\"/>\n",
       "<text text-anchor=\"start\" x=\"105\" y=\"-105.8\" font-family=\"Times,serif\" font-size=\"14.00\">w</text>\n",
       "<polygon fill=\"none\" stroke=\"black\" points=\"91.5,-78 91.5,-99 128.5,-99 128.5,-78 91.5,-78\"/>\n",
       "<text text-anchor=\"start\" x=\"107.5\" y=\"-84.8\" font-family=\"Times,serif\" font-size=\"14.00\">r</text>\n",
       "<polygon fill=\"none\" stroke=\"black\" points=\"91.5,-57 91.5,-78 128.5,-78 128.5,-57 91.5,-57\"/>\n",
       "<text text-anchor=\"start\" x=\"107\" y=\"-63.8\" font-family=\"Times,serif\" font-size=\"14.00\">s</text>\n",
       "</g>\n",
       "<!-- plus_G5&#45;&gt;PrepareKineticFirstQuantization -->\n",
       "<g id=\"edge1\" class=\"edge\">\n",
       "<title>plus_G5:e-&gt;PrepareKineticFirstQuantization:w</title>\n",
       "<path fill=\"none\" stroke=\"black\" d=\"M54,-180C80.54,-180 64.64,-133.64 88.86,-131.11\"/>\n",
       "<ellipse fill=\"black\" stroke=\"black\" cx=\"90\" cy=\"-131.05\" rx=\"1\" ry=\"1\"/>\n",
       "<text text-anchor=\"middle\" x=\"72.5\" y=\"-159\" font-family=\"Times,serif\" font-size=\"10.00\">1</text>\n",
       "</g>\n",
       "<!-- w_G10 -->\n",
       "<g id=\"node2\" class=\"node\">\n",
       "<title>w_G10</title>\n",
       "<text text-anchor=\"middle\" x=\"27\" y=\"-122.3\" font-family=\"Times,serif\" font-size=\"14.00\">w</text>\n",
       "</g>\n",
       "<!-- w_G10&#45;&gt;PrepareKineticFirstQuantization -->\n",
       "<g id=\"edge2\" class=\"edge\">\n",
       "<title>w_G10:e-&gt;PrepareKineticFirstQuantization:w</title>\n",
       "<path fill=\"none\" stroke=\"black\" d=\"M54,-126C71.22,-126 72.97,-111.23 88.98,-110.07\"/>\n",
       "<ellipse fill=\"black\" stroke=\"black\" cx=\"90\" cy=\"-110.04\" rx=\"1\" ry=\"1\"/>\n",
       "<text text-anchor=\"middle\" x=\"72.5\" y=\"-121\" font-family=\"Times,serif\" font-size=\"10.00\">3</text>\n",
       "</g>\n",
       "<!-- r_G3 -->\n",
       "<g id=\"node3\" class=\"node\">\n",
       "<title>r_G3</title>\n",
       "<text text-anchor=\"middle\" x=\"27\" y=\"-68.3\" font-family=\"Times,serif\" font-size=\"14.00\">r</text>\n",
       "</g>\n",
       "<!-- r_G3&#45;&gt;PrepareKineticFirstQuantization -->\n",
       "<g id=\"edge3\" class=\"edge\">\n",
       "<title>r_G3:e-&gt;PrepareKineticFirstQuantization:w</title>\n",
       "<path fill=\"none\" stroke=\"black\" d=\"M54,-72C71.22,-72 72.97,-86.77 88.98,-87.93\"/>\n",
       "<ellipse fill=\"black\" stroke=\"black\" cx=\"90\" cy=\"-87.96\" rx=\"1\" ry=\"1\"/>\n",
       "<text text-anchor=\"middle\" x=\"72.5\" y=\"-83\" font-family=\"Times,serif\" font-size=\"10.00\">13</text>\n",
       "</g>\n",
       "<!-- s_G0 -->\n",
       "<g id=\"node4\" class=\"node\">\n",
       "<title>s_G0</title>\n",
       "<text text-anchor=\"middle\" x=\"27\" y=\"-14.3\" font-family=\"Times,serif\" font-size=\"14.00\">s</text>\n",
       "</g>\n",
       "<!-- s_G0&#45;&gt;PrepareKineticFirstQuantization -->\n",
       "<g id=\"edge4\" class=\"edge\">\n",
       "<title>s_G0:e-&gt;PrepareKineticFirstQuantization:w</title>\n",
       "<path fill=\"none\" stroke=\"black\" d=\"M54,-18C80.54,-18 64.64,-64.36 88.86,-66.89\"/>\n",
       "<ellipse fill=\"black\" stroke=\"black\" cx=\"90\" cy=\"-66.95\" rx=\"1\" ry=\"1\"/>\n",
       "<text text-anchor=\"middle\" x=\"72.5\" y=\"-47\" font-family=\"Times,serif\" font-size=\"10.00\">13</text>\n",
       "</g>\n",
       "<!-- plus_G8 -->\n",
       "<g id=\"node6\" class=\"node\">\n",
       "<title>plus_G8</title>\n",
       "<text text-anchor=\"middle\" x=\"192\" y=\"-176.3\" font-family=\"Times,serif\" font-size=\"14.00\">plus</text>\n",
       "</g>\n",
       "<!-- PrepareKineticFirstQuantization&#45;&gt;plus_G8 -->\n",
       "<g id=\"edge5\" class=\"edge\">\n",
       "<title>PrepareKineticFirstQuantization:e-&gt;plus_G8:w</title>\n",
       "<path fill=\"none\" stroke=\"black\" d=\"M128,-131C154.54,-131 138.64,-177.36 162.86,-179.89\"/>\n",
       "<ellipse fill=\"black\" stroke=\"black\" cx=\"164\" cy=\"-179.95\" rx=\"1\" ry=\"1\"/>\n",
       "<text text-anchor=\"middle\" x=\"146.5\" y=\"-159\" font-family=\"Times,serif\" font-size=\"10.00\">1</text>\n",
       "</g>\n",
       "<!-- w_G1 -->\n",
       "<g id=\"node7\" class=\"node\">\n",
       "<title>w_G1</title>\n",
       "<text text-anchor=\"middle\" x=\"192\" y=\"-122.3\" font-family=\"Times,serif\" font-size=\"14.00\">w</text>\n",
       "</g>\n",
       "<!-- PrepareKineticFirstQuantization&#45;&gt;w_G1 -->\n",
       "<g id=\"edge6\" class=\"edge\">\n",
       "<title>PrepareKineticFirstQuantization:e-&gt;w_G1:w</title>\n",
       "<path fill=\"none\" stroke=\"black\" d=\"M128,-110C145.22,-110 146.97,-124.77 162.98,-125.93\"/>\n",
       "<ellipse fill=\"black\" stroke=\"black\" cx=\"164\" cy=\"-125.96\" rx=\"1\" ry=\"1\"/>\n",
       "<text text-anchor=\"middle\" x=\"146.5\" y=\"-121\" font-family=\"Times,serif\" font-size=\"10.00\">3</text>\n",
       "</g>\n",
       "<!-- r_G7 -->\n",
       "<g id=\"node8\" class=\"node\">\n",
       "<title>r_G7</title>\n",
       "<text text-anchor=\"middle\" x=\"192\" y=\"-68.3\" font-family=\"Times,serif\" font-size=\"14.00\">r</text>\n",
       "</g>\n",
       "<!-- PrepareKineticFirstQuantization&#45;&gt;r_G7 -->\n",
       "<g id=\"edge7\" class=\"edge\">\n",
       "<title>PrepareKineticFirstQuantization:e-&gt;r_G7:w</title>\n",
       "<path fill=\"none\" stroke=\"black\" d=\"M128,-88C145.22,-88 146.97,-73.23 162.98,-72.07\"/>\n",
       "<ellipse fill=\"black\" stroke=\"black\" cx=\"164\" cy=\"-72.04\" rx=\"1\" ry=\"1\"/>\n",
       "<text text-anchor=\"middle\" x=\"146.5\" y=\"-83\" font-family=\"Times,serif\" font-size=\"10.00\">13</text>\n",
       "</g>\n",
       "<!-- s_G11 -->\n",
       "<g id=\"node9\" class=\"node\">\n",
       "<title>s_G11</title>\n",
       "<text text-anchor=\"middle\" x=\"192\" y=\"-14.3\" font-family=\"Times,serif\" font-size=\"14.00\">s</text>\n",
       "</g>\n",
       "<!-- PrepareKineticFirstQuantization&#45;&gt;s_G11 -->\n",
       "<g id=\"edge8\" class=\"edge\">\n",
       "<title>PrepareKineticFirstQuantization:e-&gt;s_G11:w</title>\n",
       "<path fill=\"none\" stroke=\"black\" d=\"M128,-67C154.54,-67 138.64,-20.64 162.86,-18.11\"/>\n",
       "<ellipse fill=\"black\" stroke=\"black\" cx=\"164\" cy=\"-18.05\" rx=\"1\" ry=\"1\"/>\n",
       "<text text-anchor=\"middle\" x=\"146.5\" y=\"-47\" font-family=\"Times,serif\" font-size=\"10.00\">13</text>\n",
       "</g>\n",
       "</g>\n",
       "</svg>"
      ],
      "text/plain": [
       "<IPython.core.display.SVG object>"
      ]
     },
     "metadata": {},
     "output_type": "display_data"
    }
   ],
   "source": [
    "from qualtran.bloqs.chemistry.first_quantization import PrepareKineticFirstQuantization\n",
    "\n",
    "num_pw = (2 * 10 + 1) ** 3\n",
    "eta = 10\n",
    "bloq = PrepareKineticFirstQuantization(num_pw, eta)\n",
    "show_bloq(bloq)"
   ]
  }
 ],
 "metadata": {
  "kernelspec": {
   "display_name": "Python 3",
   "language": "python",
   "name": "python3"
  },
  "language_info": {
   "codemirror_mode": {
    "name": "ipython",
    "version": 3
   },
   "file_extension": ".py",
   "mimetype": "text/x-python",
   "name": "python",
   "nbconvert_exporter": "python",
   "pygments_lexer": "ipython3",
   "version": "3.11.5"
  }
 },
 "nbformat": 4,
 "nbformat_minor": 5
}
