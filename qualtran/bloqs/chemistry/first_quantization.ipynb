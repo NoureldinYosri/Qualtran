{
 "cells": [
  {
   "cell_type": "markdown",
   "id": "86f77953",
   "metadata": {
    "cq.autogen": "title_cell"
   },
   "source": [
    "# First Quantization\n",
    "\n",
    "SELECT and PREPARE for the first quantized chemistry Hamiltonian.\n",
    "\n",
    "Here we assume the Born-Oppenheimer Hamiltonian and seek to simulate a\n",
    "collection of $\\eta$ electrons and $L$ static nuclei (of charge $\\zeta_\\ell$)\n",
    "with a Hamiltonian given by:\n",
    "$$\n",
    "H_{BO} = T + U + V + \\frac{1}{2}\n",
    "\\sum_{\\ell\\ne\\kappa=1}^L\\frac{\\zeta_\\ell\\zeta_\\kappa}{\\lVert R_\\ell - R_\\kappa \\rVert}\n",
    "$$\n",
    "\n",
    "In the first quantized approach we assume periodic boundary conditions and use a\n",
    "plane wave Galerkin discretization.\n",
    "A plane wave basis function is given by\n",
    "$$\n",
    "\\phi_p(r) = \\frac{1}{\\sqrt{\\Omega}} e^{-i k_p\\cdot r}\n",
    "$$\n",
    "where $r$ is a position vector in real space, $\\Omega$ is the simulation cell\n",
    "volume and $k_p$ is a reciprocal lattice vector.\n",
    "In three dimensions we have\n",
    "$$\n",
    "k_p = \\frac{2\\pi p }{\\Omega}\n",
    "$$\n",
    "for $p \\in G$ and\n",
    "$$\n",
    "G = \\left[-\\frac{N^{1/3} -\n",
    "1}{2},\\frac{N^{1/3} - 1}{2}\\right]^{\\otimes 3} \\subset \\mathbb{Z}^3,\n",
    "$$\n",
    "and $N$ is the total number of planewaves.\n",
    "\n",
    "With these definitions we can write the components of the Hamiltonian as:\n",
    "$$\n",
    "T = \\sum_{i}^\\eta\\sum_{p\\in G}\\frac{\\lVert k_p\\rVert^2}{2} |p\\rangle\\langle p|_i\n",
    "$$\n",
    "which defines the kinetic energy of the electrons,\n",
    "$$\n",
    "U = -\\frac{4\\pi}{\\Omega}\n",
    "\\sum_{\\ell=1}^L \\sum_{i}^\\eta\n",
    "\\sum_{p,q\\in G, p\\ne q}\n",
    "\\left(\n",
    "    \\zeta_{\\ell}\n",
    "    \\frac{e^{i k_{q-p}\\cdot R_\\ell}}{\\lVert k_{p-q}\\rVert^2}\n",
    "    |p\\rangle\\langle q|_i\n",
    "\\right)\n",
    "$$\n",
    "describes the interaction of the electrons and the nuclei, and,\n",
    "$$\n",
    "V = \\frac{2\\pi}{\\Omega}\n",
    "\\sum_{i\\ne j=1}^\\eta\n",
    "\\sum_{p,q\\in G, p\\ne q}\n",
    "\\sum_{\\nu \\in G_0}\n",
    "\\left(\n",
    "    \\frac{1}{\\lVert k_{\\nu}\\rVert^2}\n",
    "    |p + \\nu\\rangle\\langle p|_i\n",
    "    |q -\\nu\\rangle\\langle q|_i\n",
    "\\right)\n",
    "$$\n",
    "describes the electron-electron interaction. The notation $|p\\rangle\\langle p|_i$ is shorthand for\n",
    "$I_1\\otimes\\cdots\\otimes |p\\rangle \\langle p |_j \\otimes \\cdots \\otimes I_\\eta$.\n",
    "The system is represented using a set of $\\eta$ signed integer registers each of\n",
    "size $3 n_p$ where $n_p =  \\lceil \\log (N^{1/3} + 1) \\rceil$, with the factor of\n",
    "3 accounting for the 3 spatial dimensions.\n",
    "\n",
    "In the first quantized approach, fermion antisymmetry is encoded through initial\n",
    "state preparation. Spin labels are also absent and should be accounted for\n",
    "during state preparation. The cost of initial state preparation is typically\n",
    "ignored."
   ]
  },
  {
   "cell_type": "code",
   "execution_count": null,
   "id": "3f016706",
   "metadata": {
    "cq.autogen": "top_imports"
   },
   "outputs": [],
   "source": [
    "from qualtran import Bloq, CompositeBloq, BloqBuilder, Signature, Register\n",
    "from qualtran.drawing import show_bloq\n",
    "from typing import *\n",
    "import numpy as np"
   ]
  },
  {
   "cell_type": "markdown",
   "id": "d633363f",
   "metadata": {
    "cq.autogen": "_make_prepare_kinetic.md"
   },
   "source": [
    "## `PrepareTFirstQuantization`\n",
    "PREPARE for the kinetic energy operator for the first quantized chemistry Hamiltonian.\n",
    "\n",
    "This prepares the state\n",
    "\n",
    "$$\n",
    "    |+\\rangle\\sum_{j=1}^{\\eta}|j\\rangle\\sum_{w=0}^{2}|w\\rangle\n",
    "    \\sum_{r=0}^{n_{p}-2}2^{r/2}|r\\rangle\n",
    "    \\sum_{s=0}^{n_{p}-2}2^{s/2}|s\\rangle\n",
    "$$\n",
    "\n",
    "We assume that the uniform superposition over ($i$ and) $j$ has already occured via\n",
    "UniformSuperPositionIJFirstQuantization.\n",
    "\n",
    "#### Parameters\n",
    " - `num_bits_p`: The number of bits to represent each dimension of the momentum register.\n",
    " - `eta`: The number of electrons.\n",
    " - `num_bits_rot_aa`: The number of bits of precision for the single qubit rotation for amplitude amplification. Called $b_r$ in the reference.\n",
    " - `adjoint`: whether to dagger the bloq or not. \n",
    "\n",
    "#### Registers\n",
    " - `plus`: A $|+\\rangle$ state register.\n",
    " - `w`: a register to index one of three components of the momenta.\n",
    " - `r`: a register encoding bits for each component of the momenta.\n",
    " - `s`: a register encoding bits for each component of the momenta. \n",
    "\n",
    "#### References\n",
    "[Fault-Tolerant Quantum Simulations of Chemistry in First Quantization]( https://arxiv.org/abs/2105.12767) page 19, section B\n"
   ]
  },
  {
   "cell_type": "code",
   "execution_count": null,
   "id": "a64d0cf0",
   "metadata": {
    "cq.autogen": "_make_prepare_kinetic.py"
   },
   "outputs": [],
   "source": [
    "from qualtran.bloqs.chemistry.first_quantization import PrepareTFirstQuantization\n",
    "\n",
    "num_bits_p = 6\n",
    "eta = 10\n",
    "bloq = PrepareTFirstQuantization(num_bits_p, eta)\n",
    "show_bloq(bloq)"
   ]
  },
  {
   "cell_type": "markdown",
   "id": "bc649149",
   "metadata": {
    "cq.autogen": "_make_select_kinetic.md"
   },
   "source": [
    "## `SelectTFirstQuantization`\n",
    "SELECT for the kinetic energy operator for the first quantized chemistry Hamiltonian.\n",
    "\n",
    "#### Parameters\n",
    " - `num_bits_p`: The number of bits to represent each dimension of the momentum register.\n",
    " - `eta`: The number of electrons. \n",
    "\n",
    "#### Registers\n",
    " - `sys`: The system register.\n",
    " - `plus`: A $|+\\rangle$ state.\n",
    " - `flag_T`: a flag to control on the success of the $T$ state preparation. \n",
    "\n",
    "#### References\n",
    "[Fault-Tolerant Quantum Simulations of Chemistry in First Quantization]( https://arxiv.org/abs/2105.12767) page 20, section B\n"
   ]
  },
  {
   "cell_type": "code",
   "execution_count": null,
   "id": "210364ff",
   "metadata": {
    "cq.autogen": "_make_select_kinetic.py"
   },
   "outputs": [],
   "source": [
    "from qualtran.bloqs.chemistry.first_quantization import SelectTFirstQuantization\n",
    "\n",
    "num_bits_p = 6\n",
    "eta = 10\n",
    "bloq = SelectTFirstQuantization(num_bits_p, eta)\n",
    "show_bloq(bloq)"
   ]
  },
  {
   "cell_type": "markdown",
   "id": "e88d839a",
   "metadata": {
    "cq.autogen": "_make_select_potential.md"
   },
   "source": [
    "## `SelectUVFirstQuantization`\n",
    "SELECT for the U and V operators for the first quantized chemistry Hamiltonian.\n",
    "\n",
    "This does not include the controlled swaps from p_i and q_j into ancilla registers and back again.\n",
    "\n",
    "#### Parameters\n",
    " - `num_bits_p`: The number of bits to represent each dimension of the momentum register.\n",
    " - `eta`: The number of electrons.\n",
    " - `num_bits_nuc_pos`: The number of bits to store each component of the nuclear positions. $n_R$ in the reference. \n",
    "\n",
    "Registers:\n",
    "\n",
    "#### References\n",
    "[Fault-Tolerant Quantum Simulations of Chemistry in First Quantization]( https://arxiv.org/abs/2105.12767)\n"
   ]
  },
  {
   "cell_type": "code",
   "execution_count": null,
   "id": "6902451e",
   "metadata": {
    "cq.autogen": "_make_select_potential.py"
   },
   "outputs": [],
   "source": [
    "from qualtran.bloqs.chemistry.first_quantization import SelectUVFirstQuantization\n",
    "\n",
    "num_bits_p = 6\n",
    "eta = 10\n",
    "bloq = SelectUVFirstQuantization(num_bits_p, eta, 10)\n",
    "show_bloq(bloq)"
   ]
  },
  {
   "cell_type": "markdown",
   "id": "5e7bea6f",
   "metadata": {
    "cq.autogen": "_make_prepare_potential.md"
   },
   "source": [
    "## `PrepareUVFistQuantization`\n",
    "PREPARE the U and V parts of the Hamiltonian.\n",
    "\n",
    "#### Parameters\n",
    " - `num_bits_p`: The number of bits to represent each dimension of the momentum register.\n",
    " - `eta`: The number of electrons.\n",
    " - `num_atoms`: The number of atoms. $L$ in the reference.\n",
    " - `m_param`: $\\mathcal{M}$ in the reference.\n",
    " - `lambda_zeta`: sum of nuclear charges.\n",
    " - `num_bits_nuc_pos`: The number of bits of precision for representing the nuclear coordinates. \n",
    "\n",
    "#### Registers\n",
    " - `mu`: The state controlling the nested boxes procedure.\n",
    " - `nu`: The momentum transfer register.\n",
    " - `m`: an ancilla register in a uniform superposition.\n",
    " - `l`: The register for atomic species.\n",
    " - `flag_nu`: Flag for success of the state preparation. \n",
    "\n",
    "#### References\n",
    "[Fault-Tolerant Quantum Simulations of Chemistry in First Quantization]( https://arxiv.org/abs/2105.12767) page 19, section B\n"
   ]
  },
  {
   "cell_type": "code",
   "execution_count": null,
   "id": "2b581700",
   "metadata": {
    "cq.autogen": "_make_prepare_potential.py"
   },
   "outputs": [],
   "source": [
    "from qualtran.bloqs.chemistry.first_quantization import PrepareUVFistQuantization\n",
    "\n",
    "num_bits_p = 6\n",
    "num_atoms = 10\n",
    "eta = 10\n",
    "m_param = 2**8\n",
    "lambda_zeta = 10\n",
    "num_bits_nuc_pos = 4\n",
    "prep = PrepareUVFistQuantization(\n",
    "    num_bits_p, eta, num_atoms, m_param, lambda_zeta, num_bits_nuc_pos\n",
    ")\n",
    "bloq = prep\n",
    "show_bloq(bloq)"
   ]
  },
  {
   "cell_type": "markdown",
   "id": "247dc0fc",
   "metadata": {
    "cq.autogen": "_make_prepare_nu_state.md"
   },
   "source": [
    "## `PrepareNuState`\n",
    "PREPARE for the $\\nu$ state for the $U$ and $V$ components of the Hamiltonian.\n",
    "\n",
    "Prepares a state of the form\n",
    "\n",
    "$$\n",
    "    \\frac{1}{\\sqrt{\\mathcal{M}2^{n_p + 2}}}\n",
    "    \\sum_{\\mu=2}^{n_p+1}\\sum_{\\nu \\in B_\\mu}\n",
    "    \\sum_{m=0}^{\\lceil \\mathcal M(2^{\\mu-2}/\\lVert\\nu\\rVert)^2\\rceil-1}\n",
    "    \\frac{1}{2^\\mu}|\\mu\\rangle|\\nu_x\\rangle|\\nu_y\\rangle|\\nu_z\\rangle|m\\rangle|0\\rangle\n",
    "$$\n",
    "\n",
    "#### Parameters\n",
    " - `num_bits_p`: The number of bits to represent each dimension of the momentum register.\n",
    " - `m_param`: $\\mathcal{M}$ in the reference.\n",
    " - `lambda_zeta`: sum of nuclear charges.\n",
    " - `er_lambda_zeta`: eq 91 of the referce. Cost of erasing qrom. \n",
    "\n",
    "#### Registers\n",
    " - `mu`: The state controlling the nested boxes procedure.\n",
    " - `nu`: The momentum transfer register.\n",
    " - `m`: an ancilla register in a uniform superposition.\n",
    " - `flag_nu`: Flag for success of the state preparation. \n",
    "\n",
    "#### References\n",
    "[Fault-Tolerant Quantum Simulations of Chemistry in First Quantization]( https://arxiv.org/abs/2105.12767) page 19, section B\n"
   ]
  },
  {
   "cell_type": "code",
   "execution_count": null,
   "id": "eaaffb6b",
   "metadata": {
    "cq.autogen": "_make_prepare_nu_state.py"
   },
   "outputs": [],
   "source": [
    "from qualtran.bloqs.chemistry.first_quantization import PrepareNuState\n",
    "\n",
    "num_bits_p = 6\n",
    "m_param = 2 ** (2 * num_bits_p + 3)\n",
    "bloq = PrepareNuState(num_bits_p, m_param)\n",
    "show_bloq(bloq)"
   ]
  },
  {
   "cell_type": "code",
   "execution_count": null,
   "id": "8b95b98b",
   "metadata": {},
   "outputs": [],
   "source": [
    "from qualtran.resource_counting import get_bloq_counts_graph\n",
    "from qualtran.drawing import GraphvizCounts\n",
    "graph, sigma = get_bloq_counts_graph(bloq)\n",
    "GraphvizCounts(graph).get_svg()"
   ]
  }
 ],
 "metadata": {
  "kernelspec": {
   "display_name": "Python 3",
   "language": "python",
   "name": "python3"
  },
  "language_info": {
   "codemirror_mode": {
    "name": "ipython",
    "version": 3
   },
   "file_extension": ".py",
   "mimetype": "text/x-python",
   "name": "python",
   "nbconvert_exporter": "python",
   "pygments_lexer": "ipython3",
   "version": "3.11.5"
  }
 },
 "nbformat": 4,
 "nbformat_minor": 5
}
