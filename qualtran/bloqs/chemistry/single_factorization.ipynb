{
 "cells": [
  {
   "cell_type": "markdown",
   "id": "d133313f",
   "metadata": {
    "cq.autogen": "title_cell"
   },
   "source": [
    "# Single Factorization"
   ]
  },
  {
   "cell_type": "code",
   "execution_count": null,
   "id": "093a9323",
   "metadata": {
    "cq.autogen": "top_imports"
   },
   "outputs": [],
   "source": [
    "from qualtran import Bloq, CompositeBloq, BloqBuilder, Signature, Register\n",
    "from qualtran.drawing import show_bloq\n",
    "from typing import *\n",
    "import numpy as np"
   ]
  },
  {
   "cell_type": "markdown",
   "id": "2f342a47",
   "metadata": {
    "cq.autogen": "_make_single_factorization.md"
   },
   "source": [
    "## `SingleFactorization`\n",
    "Block encoding of single factorization Hamiltonian.\n",
    "\n",
    "Implements Fig. 15 in the reference.\n",
    "\n",
    "#### Parameters\n",
    " - `num_spin_orb`: The number of spin orbitals. Typically called N.\n",
    " - `num_aux`: Dimension of auxiliary index for single factorized Hamiltonian. Called L in Ref[1].\n",
    " - `num_bits_state_prep`: The number of bits of precision for coherent alias sampling. Called aleph (fancy N) in Ref[1].\n",
    " - `num_bits_rot`: Number of bits of precision for rotations for amplitude amplification in uniform state preparation. Called b_r in Ref[1].\n",
    " - `qroam_k_factor`: QROAM blocking factor for data prepared over l (auxiliary) index. Defaults to 1 (i.e. use QROM). \n",
    "\n",
    "#### Registers\n",
    " - `l`: register to store L values for auxiliary index.\n",
    " - `succ_pq`: flag for success of this state preparation.\n",
    " - `succ_l`: flag for success of this state preparation. \n",
    "\n",
    "Refererences:\n",
    "    [Even More Efficient Quantum Computations of Chemistry Through Tensor\n",
    "        hypercontraction](https://journals.aps.org/prxquantum/pdf/10.1103/prxquantum.2.030305)"
   ]
  },
  {
   "cell_type": "code",
   "execution_count": null,
   "id": "dbd0daa6",
   "metadata": {
    "cq.autogen": "_make_single_factorization.py"
   },
   "outputs": [],
   "source": [
    "from qualtran.bloqs.chemistry.single_factorization import SingleFactorization\n",
    "\n",
    "bloq = SingleFactorization(10, 20, 8)\n",
    "show_bloq(bloq)"
   ]
  },
  {
   "cell_type": "code",
   "execution_count": null,
   "id": "3de4571a",
   "metadata": {},
   "outputs": [],
   "source": [
    "from qualtran.resource_counting import get_bloq_counts_graph\n",
    "from qualtran.drawing import show_counts_graph, show_counts_sigma\n",
    "\n",
    "graph, sigma = get_bloq_counts_graph(SingleFactorization(10, 50, 12, 1, 6, 2, 8, 4, 4, 2, 8))\n",
    "show_counts_graph(graph)"
   ]
  },
  {
   "cell_type": "code",
   "execution_count": null,
   "id": "18502cc0",
   "metadata": {},
   "outputs": [],
   "source": [
    "2*64/4"
   ]
  },
  {
   "cell_type": "code",
   "execution_count": null,
   "id": "fcd208d3",
   "metadata": {},
   "outputs": [],
   "source": [
    "from qualtran.bloqs.block_encoding import Reflection\n",
    "\n",
    "bloq = Reflection(6, 2)\n",
    "show_bloq(bloq.decompose_bloq())"
   ]
  }
 ],
 "metadata": {
  "kernelspec": {
   "display_name": "Python 3",
   "language": "python",
   "name": "python3"
  },
  "language_info": {
   "codemirror_mode": {
    "name": "ipython",
    "version": 3
   },
   "file_extension": ".py",
   "mimetype": "text/x-python",
   "name": "python",
   "nbconvert_exporter": "python",
   "pygments_lexer": "ipython3",
   "version": "3.9.6"
  }
 },
 "nbformat": 4,
 "nbformat_minor": 5
}
