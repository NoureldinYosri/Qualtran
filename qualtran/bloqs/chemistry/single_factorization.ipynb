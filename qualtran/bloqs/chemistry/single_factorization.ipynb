{
 "cells": [
  {
   "cell_type": "markdown",
   "id": "d133313f",
   "metadata": {
    "cq.autogen": "title_cell"
   },
   "source": [
    "# Single Factorization"
   ]
  },
  {
   "cell_type": "code",
   "execution_count": null,
   "id": "093a9323",
   "metadata": {
    "cq.autogen": "top_imports"
   },
   "outputs": [],
   "source": [
    "from qualtran import Bloq, CompositeBloq, BloqBuilder, Signature, Register\n",
    "from qualtran.drawing import show_bloq\n",
    "from typing import *\n",
    "import numpy as np"
   ]
  },
  {
   "cell_type": "markdown",
   "id": "2f342a47",
   "metadata": {
    "cq.autogen": "_make_single_factorization.md"
   },
   "source": [
    "## `SingleFactorization`\n",
    "Block encoding of single factorization one-body Hamiltonian."
   ]
  },
  {
   "cell_type": "code",
   "execution_count": null,
   "id": "dbd0daa6",
   "metadata": {
    "cq.autogen": "_make_single_factorization.py"
   },
   "outputs": [],
   "source": [
    "from qualtran.bloqs.chemistry.single_factorization import SingleFactorization\n",
    "\n",
    "bloq = SingleFactorization(10, 20, 8)\n",
    "show_bloq(bloq.decompose_bloq())"
   ]
  },
  {
   "cell_type": "code",
   "execution_count": null,
   "id": "3de4571a",
   "metadata": {},
   "outputs": [],
   "source": []
  }
 ],
 "metadata": {
  "kernelspec": {
   "display_name": "Python 3",
   "language": "python",
   "name": "python3"
  },
  "language_info": {
   "codemirror_mode": {
    "name": "ipython",
    "version": 3
   },
   "file_extension": ".py",
   "mimetype": "text/x-python",
   "name": "python",
   "nbconvert_exporter": "python",
   "pygments_lexer": "ipython3",
   "version": "3.9.6"
  }
 },
 "nbformat": 4,
 "nbformat_minor": 5
}
