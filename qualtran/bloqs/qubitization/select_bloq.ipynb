{
 "cells": [
  {
   "cell_type": "markdown",
   "id": "163678e5",
   "metadata": {
    "cq.autogen": "title_cell"
   },
   "source": [
    "# Qubitization Select\n",
    "\n",
    "the Select interface and associated bloqs.\n",
    "\n",
    "Note: we cannot name this module `select` or it breaks the builtin `selectors` module."
   ]
  },
  {
   "cell_type": "code",
   "execution_count": null,
   "id": "4c6a55a9",
   "metadata": {
    "cq.autogen": "top_imports"
   },
   "outputs": [],
   "source": [
    "import cirq\n",
    "import numpy as np\n",
    "import qualtran\n",
    "import cirq_ft\n",
    "import cirq_ft.infra.testing as cq_testing\n",
    "from qualtran.jupyter_tools import display_gate_and_compilation, show_bloq\n",
    "from typing import *"
   ]
  },
  {
   "cell_type": "markdown",
   "id": "4a70dc58",
   "metadata": {
    "cq.autogen": "_make_select.md"
   },
   "source": [
    "## `MySelect`\n",
    "The SELECT Oracle interface.\n",
    "\n",
    "The action of a SELECT oracle on a selection register $|l\\rangle$ and target register\n",
    "$|\\Psi\\rangle$ can be defined as:\n",
    "\n",
    "$$\n",
    "    \\mathrm{SELECT} = \\sum_{l}|l \\rangle \\langle l| \\otimes U_l\n",
    "$$\n",
    "\n",
    "In other words, the `SELECT` oracle applies $l$'th unitary $U_{l}$ on the target register\n",
    "$|\\Psi\\rangle$ when the selection register stores integer $l$.\n",
    "\n",
    "$$\n",
    "    \\mathrm{SELECT}|l\\rangle |\\Psi\\rangle = |l\\rangle U_{l}|\\Psi\\rangle\n",
    "$$\n",
    "\n",
    "Implementations of `Select` must return `control_registers`, `selection_registers`,\n",
    "and `system_registers` so that registers can be routed by `BlackBoxSelect`."
   ]
  },
  {
   "cell_type": "code",
   "execution_count": null,
   "id": "283cf90c",
   "metadata": {
    "cq.autogen": "_make_select.py"
   },
   "outputs": [],
   "source": [
    "from attrs import frozen\n",
    "\n",
    "from qualtran import Register, Signature\n",
    "from qualtran.bloqs.qubitization.select_bloq import Select\n",
    "\n",
    "@frozen\n",
    "class MySelect(Select):\n",
    "    __doc__ = Select.__doc__\n",
    "\n",
    "    @property\n",
    "    def control_registers(self) -> List[Register]:\n",
    "        return []\n",
    "\n",
    "    @property\n",
    "    def selection_registers(self) -> List[Register]:\n",
    "        return list(Signature.build(p=32, q=32, spin=1))\n",
    "\n",
    "    @property\n",
    "    def system_register(self) -> Register:\n",
    "        return Register(name='psi', bitsize=128)\n",
    "\n",
    "bloq = MySelect()\n",
    "show_bloq(bloq)"
   ]
  },
  {
   "cell_type": "markdown",
   "id": "e61e06d7",
   "metadata": {
    "cq.autogen": "_make_black_box_select.md"
   },
   "source": [
    "## `BlackBoxSelect`\n",
    "A 'black box' Select bloq.\n",
    "\n",
    "The `SELECT` operation applies the $l$'th unitary $U_{l}$ on the system register\n",
    "when the selection register stores integer $l$.\n",
    "\n",
    "When implementing specific `Select` bloqs, it is helpful to have multiple selection\n",
    "registers each with semantic meaning. For example: you could have spatial or spin coordinates\n",
    "on different, named registers. The `Select` interface encourages this. `BlackBoxSelect`\n",
    "uses the properties on the `Select` interface to provide a \"black box\" view of a select\n",
    "operation that just has a selection and system register.\n",
    "\n",
    "During decomposition, this bloq will use the `Partition` utility bloq to partition\n",
    "and route the parts of the unified selection register to the `Select` bloq.\n",
    "\n",
    "#### Parameters\n",
    " - `select`: The bloq implementing the `Select` interface. \n",
    "\n",
    "Registers:\n",
    " - selection: The combined selection register\n",
    " - system: The combined system register"
   ]
  },
  {
   "cell_type": "code",
   "execution_count": null,
   "id": "bdb3e14f",
   "metadata": {
    "cq.autogen": "_make_black_box_select.py"
   },
   "outputs": [],
   "source": [
    "from qualtran.bloqs.qubitization.select_bloq import BlackBoxSelect, DummySelect\n",
    "\n",
    "bloq = BlackBoxSelect(DummySelect())\n",
    "show_bloq(bloq)"
   ]
  },
  {
   "cell_type": "code",
   "execution_count": null,
   "id": "e6339bff",
   "metadata": {},
   "outputs": [],
   "source": [
    "show_bloq(bloq.decompose_bloq())"
   ]
  },
  {
   "cell_type": "code",
   "execution_count": null,
   "id": "530c9385",
   "metadata": {},
   "outputs": [],
   "source": [
    "c_bbs = bloq.controlled()\n",
    "show_bloq(c_bbs)"
   ]
  },
  {
   "cell_type": "code",
   "execution_count": null,
   "id": "14c1acd5",
   "metadata": {},
   "outputs": [],
   "source": [
    "show_bloq(c_bbs.decompose_bloq())"
   ]
  }
 ],
 "metadata": {
  "kernelspec": {
   "display_name": "Python 3 (ipykernel)",
   "language": "python",
   "name": "python3"
  },
  "language_info": {
   "codemirror_mode": {
    "name": "ipython",
    "version": 3
   },
   "file_extension": ".py",
   "mimetype": "text/x-python",
   "name": "python",
   "nbconvert_exporter": "python",
   "pygments_lexer": "ipython3",
   "version": "3.10.9"
  }
 },
 "nbformat": 4,
 "nbformat_minor": 5
}
