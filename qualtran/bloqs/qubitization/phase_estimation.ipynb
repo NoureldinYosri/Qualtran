{
 "cells": [
  {
   "cell_type": "markdown",
   "id": "d4fa6a15",
   "metadata": {
    "cq.autogen": "title_cell"
   },
   "source": [
    "# Qubitization Phase Estimation"
   ]
  },
  {
   "cell_type": "code",
   "execution_count": null,
   "id": "bd27dc7f",
   "metadata": {
    "cq.autogen": "top_imports"
   },
   "outputs": [],
   "source": [
    "import cirq\n",
    "import numpy as np\n",
    "import qualtran\n",
    "import cirq_ft\n",
    "import cirq_ft.infra.testing as cq_testing\n",
    "from qualtran.jupyter_tools import display_gate_and_compilation, show_bloq\n",
    "from typing import *"
   ]
  },
  {
   "cell_type": "markdown",
   "id": "c495c2ee",
   "metadata": {
    "cq.autogen": "_make_phase_esimation.md"
   },
   "source": [
    "## `PhaseEstimation`\n",
    "Heisenberg limited phase estimation circuit for learning eigenphase of `walk`.\n",
    "\n",
    " Heisenberg limited phase estimation circuit\n",
    "for learning eigenphases of the `walk` operator with `m` bits of accuracy. The\n",
    "circuit is implemented as given in Fig.2 of Ref-1.\n",
    "\n",
    "#### Parameters\n",
    " - `walk`: Qubitization walk operator.\n",
    " - `m`: Number of bits of accuracy for phase estimation. \n",
    "\n",
    "Ref:\n",
    "    1) [Encoding Electronic Spectra in Quantum Circuits with Linear T Complexity]\n",
    "        (https://arxiv.org/abs/1805.03662)\n",
    "        Fig. 2"
   ]
  },
  {
   "cell_type": "code",
   "execution_count": null,
   "id": "fe48bb45",
   "metadata": {
    "cq.autogen": "_make_phase_esimation.py"
   },
   "outputs": [],
   "source": [
    "from qualtran.bloqs.qubitization.phase_estimation import PhaseEstimation\n",
    "from qualtran.bloqs.qubitization.prepare import BlackBoxPrepare, DummyPrepare\n",
    "from qualtran.bloqs.qubitization.select_bloq import BlackBoxSelect, DummySelect\n",
    "from qualtran.bloqs.qubitization.walk import Walk\n",
    "\n",
    "walk = Walk(select=BlackBoxSelect(DummySelect()), prepare=BlackBoxPrepare(DummyPrepare()))\n",
    "\n",
    "bloq = PhaseEstimation(walk, m=4)\n",
    "show_bloq(bloq)"
   ]
  },
  {
   "cell_type": "code",
   "execution_count": null,
   "id": "05cedc6a",
   "metadata": {},
   "outputs": [],
   "source": [
    "from qualtran.drawing import get_musical_score_data, draw_musical_score\n",
    "cbloq = bloq.decompose_bloq()\n",
    "msd = get_musical_score_data(cbloq)\n",
    "fig, ax = draw_musical_score(msd)\n",
    "ax.axis('off')\n",
    "fig.set_figwidth(10)\n",
    "fig.tight_layout()"
   ]
  }
 ],
 "metadata": {
  "kernelspec": {
   "display_name": "Python 3 (ipykernel)",
   "language": "python",
   "name": "python3"
  },
  "language_info": {
   "codemirror_mode": {
    "name": "ipython",
    "version": 3
   },
   "file_extension": ".py",
   "mimetype": "text/x-python",
   "name": "python",
   "nbconvert_exporter": "python",
   "pygments_lexer": "ipython3",
   "version": "3.10.9"
  }
 },
 "nbformat": 4,
 "nbformat_minor": 5
}
