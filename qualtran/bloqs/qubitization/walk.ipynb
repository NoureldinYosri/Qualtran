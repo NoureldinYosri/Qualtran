{
 "cells": [
  {
   "cell_type": "markdown",
   "id": "c5becbb3",
   "metadata": {
    "cq.autogen": "title_cell"
   },
   "source": [
    "# Qubitization Walk Operator"
   ]
  },
  {
   "cell_type": "code",
   "execution_count": null,
   "id": "9e112b63",
   "metadata": {
    "cq.autogen": "top_imports"
   },
   "outputs": [],
   "source": [
    "import cirq\n",
    "import numpy as np\n",
    "import qualtran\n",
    "import cirq_ft\n",
    "import cirq_ft.infra.testing as cq_testing\n",
    "from qualtran.jupyter_tools import display_gate_and_compilation, show_bloq\n",
    "from typing import *"
   ]
  },
  {
   "cell_type": "markdown",
   "id": "3f3033f7",
   "metadata": {
    "cq.autogen": "_make_walk.md"
   },
   "source": [
    "## `Walk`\n",
    "Constructs a Szegedy Quantum Walk operator using `select` and `prepare`.\n",
    "\n",
    "$\\def\\select{\\mathrm{SELECT}} \\def\\prepare{\\mathrm{PREPARE}} \\def\\r{\\rangle} \\def\\l{\\langle}$\n",
    "Constructs the walk operator $W = R_L \\cdot \\select$, which is a product of\n",
    "reflection $R_L = (2|L \\r\\l L| - I)$ and $\\select=\\sum_l |l\\r\\l l|H_l$.\n",
    "$L$ is the state prepared by $\\prepare|\\vec0\\r = |L\\r$\n",
    "\n",
    "The action of $W$ partitions the Hilbert space into a direct sum of two-dimensional irreducible\n",
    "vector spaces. For an arbitrary eigenstate $|k\\r$ of $H$ with eigenvalue $E_k$, $|\\ell\\r|k\\r$\n",
    "and an orthogonal state $\\phi_{k}$ span the irreducible two-dimensional space that $|\\ell\\r|k\\r$\n",
    "is in under the action of $W$. In this space, $W$ implements a Pauli-Y rotation by an angle of\n",
    "$-2\\arccos(E_k / \\lambda)$.\n",
    "\n",
    "Thus, the walk operator $W$ encodes the spectrum of $H$ as a function of eigenphases of $W$\n",
    "s.t. $\\mathrm{spectrum}(H) = \\lambda \\cos(\\arg(\\mathrm{spectrum}(W)))$\n",
    "where $\\arg(e^{i\\phi}) = \\phi$.\n",
    "\n",
    "#### Parameters\n",
    " - `select`: The SELECT lcu gate implementing $\\select=\\sum_l |l\\r\\l l|H_l$.\n",
    " - `prepare`: The PREPARE lcu gate implementing $\\prepare|\\vec0> = \\sum_l \\sqrt{\\frac{w_l}{\\lambda}} |l\\r = |\\ell\\r$\n",
    " - `power`: Constructs $W^n$ by repeatedly decomposing into `power` copies of $W$. Defaults to 1. \n",
    "\n",
    "#### References\n",
    "[Encoding Electronic Spectra in Quantum Circuits with Linear T Complexity](https://arxiv.org/abs/1805.03662). Babbush et. al. (2018). Figure 1.\n"
   ]
  },
  {
   "cell_type": "code",
   "execution_count": null,
   "id": "f904cc39",
   "metadata": {
    "cq.autogen": "_make_walk.py"
   },
   "outputs": [],
   "source": [
    "from qualtran.bloqs.qubitization.prepare import BlackBoxPrepare, DummyPrepare\n",
    "from qualtran.bloqs.qubitization.select_bloq import BlackBoxSelect, DummySelect\n",
    "from qualtran.bloqs.qubitization.walk import Walk\n",
    "\n",
    "select = BlackBoxSelect(DummySelect())\n",
    "prepare = BlackBoxPrepare(DummyPrepare())\n",
    "\n",
    "bloq = Walk(select=select, prepare=prepare)\n",
    "show_bloq(bloq)"
   ]
  },
  {
   "cell_type": "code",
   "execution_count": null,
   "id": "1beebb7f",
   "metadata": {},
   "outputs": [],
   "source": [
    "walk = Walk(select=select, prepare=prepare)\n",
    "cwalk = walk.controlled()\n",
    "show_bloq(cwalk)"
   ]
  },
  {
   "cell_type": "code",
   "execution_count": null,
   "id": "3acb4dc9",
   "metadata": {},
   "outputs": [],
   "source": [
    "show_bloq(walk.decompose_bloq())"
   ]
  },
  {
   "cell_type": "code",
   "execution_count": null,
   "id": "9f2e773a",
   "metadata": {},
   "outputs": [],
   "source": [
    "show_bloq(cwalk.decompose_bloq())"
   ]
  },
  {
   "cell_type": "markdown",
   "id": "fa42bfe4",
   "metadata": {
    "cq.autogen": "_make_reflect.md"
   },
   "source": [
    "## `Reflect`\n",
    "Applies reflection around a state prepared by `prepare`\n",
    "\n",
    "$\\def\\select{\\mathrm{SELECT}} \\def\\prepare{\\mathrm{PREPARE}} \\def\\r{\\rangle} \\def\\l{\\langle}$\n",
    "Applies $R_s = I - 2|s\\r\\l s|$ using $R_s = P^†(I - 2|0\\r\\l 0|)P$ where $P$ prepares the state\n",
    "along which we want to reflect: $P|0\\r = |s\\r$.\n",
    "\n",
    "The reflection operator that adds a $-1$ phase to all states in the subspace spanned by $|s\\r$.\n",
    "\n",
    "#### Parameters\n",
    " - `prepare`: The prepare bloq.\n",
    " - `cv`: If 0/1, a controlled version of the reflection operator is constructed. Defaults to None, in which case the resulting reflection operator is not controlled. \n",
    "\n",
    "#### References\n",
    "[Encoding Electronic Spectra in Quantum Circuits with Linear T Complexity](https://arxiv.org/abs/1805.03662). Babbush et. al. (2018). Figure 1.\n"
   ]
  },
  {
   "cell_type": "code",
   "execution_count": null,
   "id": "cced37b7",
   "metadata": {
    "cq.autogen": "_make_reflect.py"
   },
   "outputs": [],
   "source": [
    "from qualtran.bloqs.qubitization.prepare import BlackBoxPrepare, DummyPrepare\n",
    "from qualtran.bloqs.qubitization.reflect import Reflect\n",
    "\n",
    "prepare = BlackBoxPrepare(DummyPrepare())\n",
    "bloq = Reflect(prepare=prepare)\n",
    "show_bloq(bloq)"
   ]
  },
  {
   "cell_type": "code",
   "execution_count": null,
   "id": "5112a66f",
   "metadata": {},
   "outputs": [],
   "source": [
    "# decomposition using ancilla to perform the reflection\n",
    "show_bloq(bloq.decompose_bloq())"
   ]
  },
  {
   "cell_type": "code",
   "execution_count": null,
   "id": "ef4dd90b",
   "metadata": {},
   "outputs": [],
   "source": [
    "# decomposition of the controlled version which uses the control\n",
    "# line to do the refelction.\n",
    "show_bloq(bloq.controlled().decompose_bloq())"
   ]
  },
  {
   "cell_type": "markdown",
   "id": "662ffd55",
   "metadata": {},
   "source": [
    "## Walk with reflect decomposition\n",
    "\n",
    "We show the decomposition of `Walk` while flat-decomposing the `R[Prep]` bloq as well."
   ]
  },
  {
   "cell_type": "code",
   "execution_count": null,
   "id": "a55ff488",
   "metadata": {},
   "outputs": [],
   "source": [
    "from qualtran.drawing import (\n",
    "    get_musical_score_data, draw_musical_score, dump_musical_score)"
   ]
  },
  {
   "cell_type": "code",
   "execution_count": null,
   "id": "8bf32718",
   "metadata": {},
   "outputs": [],
   "source": [
    "# Uncontrolled\n",
    "walk_flat = walk.decompose_bloq().flatten_once(lambda binst: isinstance(binst.bloq, Reflect))\n",
    "fig, ax = draw_musical_score(get_musical_score_data(walk_flat))\n",
    "fig.set_figwidth(8)\n",
    "ax.axis('off')\n",
    "fig.tight_layout()"
   ]
  },
  {
   "cell_type": "code",
   "execution_count": null,
   "id": "5c6b265a",
   "metadata": {},
   "outputs": [],
   "source": [
    "# Controlled\n",
    "cwalk_flat = cwalk.decompose_bloq().flatten_once(lambda binst: isinstance(binst.bloq, Reflect))\n",
    "fig, ax = draw_musical_score(get_musical_score_data(cwalk_flat))\n",
    "fig.set_figwidth(8.5)\n",
    "ax.axis('off')\n",
    "fig.tight_layout()"
   ]
  },
  {
   "cell_type": "markdown",
   "id": "7812f64d",
   "metadata": {},
   "source": [
    "## Walk with select decomposition\n",
    "\n",
    "We show the decomposition of `Walk` where we break-out the specific `Select` registers out of `BlackBoxSelect`."
   ]
  },
  {
   "cell_type": "code",
   "execution_count": null,
   "id": "90b30b5d",
   "metadata": {},
   "outputs": [],
   "source": [
    "from qualtran.bloqs.controlled_bloq import ControlledBloq\n",
    "from qualtran.bloqs.util_bloqs import Partition\n",
    "from qualtran import LeftDangle\n",
    "from qualtran.drawing import LineManager\n",
    "\n",
    "c5 = cwalk_flat.flatten_once(lambda b: isinstance(b.bloq, (ControlledBloq)))\n",
    "\n",
    "class LM(LineManager):\n",
    "    def maybe_reserve(self, binst, reg, idx):\n",
    "        if binst is LeftDangle and reg.name == 'selection':\n",
    "            self.reserve_n(3, lambda b,r: b.bloq_is(Partition))\n",
    "\n",
    "fig, ax = draw_musical_score(get_musical_score_data(c5, LM()))\n",
    "fig.set_figwidth(7.5)\n",
    "fig.tight_layout()"
   ]
  },
  {
   "cell_type": "code",
   "execution_count": null,
   "id": "281e3d0a",
   "metadata": {},
   "outputs": [],
   "source": []
  }
 ],
 "metadata": {
  "kernelspec": {
   "display_name": "Python 3 (ipykernel)",
   "language": "python",
   "name": "python3"
  },
  "language_info": {
   "codemirror_mode": {
    "name": "ipython",
    "version": 3
   },
   "file_extension": ".py",
   "mimetype": "text/x-python",
   "name": "python",
   "nbconvert_exporter": "python",
   "pygments_lexer": "ipython3",
   "version": "3.10.9"
  }
 },
 "nbformat": 4,
 "nbformat_minor": 5
}
