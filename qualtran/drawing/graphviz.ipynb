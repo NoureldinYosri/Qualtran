{
 "cells": [
  {
   "cell_type": "markdown",
   "id": "41fecc30",
   "metadata": {},
   "source": [
    "# Graphviz\n",
    "\n",
    "We include code for converting composite bloqs to graphs, drawn with graphviz."
   ]
  },
  {
   "cell_type": "code",
   "execution_count": null,
   "id": "718515b1",
   "metadata": {},
   "outputs": [],
   "source": [
    "from qualtran.drawing import GraphDrawer, PrettyGraphDrawer\n",
    "from qualtran.drawing.graphviz_test import Atom, TestParallelBloq\n",
    "\n",
    "from IPython.display import SVG\n",
    "\n",
    "def show_bloq(bloq, draw_cls=PrettyGraphDrawer):\n",
    "    display(SVG(draw_cls(bloq).get_graph().create_svg()))"
   ]
  },
  {
   "cell_type": "markdown",
   "id": "8b968c08",
   "metadata": {},
   "source": [
    "Each constituent bloq is a table whose header contains the bloq name. Each row is a register. Edges represent connections between soquets. Each edge is labeled with the bitsize of the connected registers. Dangling soquets (corresponding to the enclosing bloq's registers) are drawn as plain text."
   ]
  },
  {
   "cell_type": "code",
   "execution_count": null,
   "id": "767bb12a",
   "metadata": {},
   "outputs": [],
   "source": [
    "show_bloq(Atom())"
   ]
  },
  {
   "cell_type": "code",
   "execution_count": null,
   "id": "05c06c0c",
   "metadata": {},
   "outputs": [],
   "source": [
    "show_bloq(TestParallelBloq())"
   ]
  },
  {
   "cell_type": "code",
   "execution_count": null,
   "id": "58b65061",
   "metadata": {},
   "outputs": [],
   "source": [
    "show_bloq(TestParallelBloq().decompose_bloq())"
   ]
  },
  {
   "cell_type": "markdown",
   "id": "431413a1",
   "metadata": {},
   "source": [
    "### `GraphDrawer`\n",
    "\n",
    "The `PrettyGraphDrawer` abbreviates names, hides some details of reshaping bloqs, and chooses drawing parameters to give a compact visualization of the bloq. `GraphDrawer` does not add any styling information and relies on graphviz defaults."
   ]
  },
  {
   "cell_type": "code",
   "execution_count": null,
   "id": "719532ad",
   "metadata": {},
   "outputs": [],
   "source": [
    "show_bloq(TestParallelBloq().decompose_bloq(), draw_cls=GraphDrawer)"
   ]
  },
  {
   "cell_type": "markdown",
   "id": "e5cd3633",
   "metadata": {},
   "source": [
    "### `pydot`\n",
    "\n",
    "We use `pydot` to manupulate graphviz graphs. You can get that graph directly:"
   ]
  },
  {
   "cell_type": "code",
   "execution_count": null,
   "id": "47f60696",
   "metadata": {},
   "outputs": [],
   "source": [
    "cbloq = TestParallelBloq().decompose_bloq()\n",
    "pgd = PrettyGraphDrawer(cbloq)\n",
    "graph = pgd.get_graph()\n",
    "print(graph.to_string())"
   ]
  },
  {
   "cell_type": "code",
   "execution_count": null,
   "id": "34e1166b",
   "metadata": {},
   "outputs": [],
   "source": [
    "import pydot"
   ]
  },
  {
   "cell_type": "code",
   "execution_count": null,
   "id": "ba0abcf0",
   "metadata": {},
   "outputs": [],
   "source": [
    "graph2, = pydot.graph_from_dot_data(graph.create_dot().decode())"
   ]
  },
  {
   "cell_type": "code",
   "execution_count": null,
   "id": "525c0044",
   "metadata": {
    "scrolled": true
   },
   "outputs": [],
   "source": [
    "nodes = graph2.get_nodes()\n",
    "node = nodes[2]\n",
    "node.obj_dict"
   ]
  },
  {
   "cell_type": "code",
   "execution_count": null,
   "id": "e6466f6f",
   "metadata": {},
   "outputs": [],
   "source": [
    "[(node.get_name(), node.obj_dict['type']) for node in nodes]"
   ]
  },
  {
   "cell_type": "code",
   "execution_count": null,
   "id": "dd0c6590",
   "metadata": {},
   "outputs": [],
   "source": [
    "pos_dict = {node.get_name(): node.get_pos() for node in nodes}\n",
    "pos_dict"
   ]
  },
  {
   "cell_type": "code",
   "execution_count": null,
   "id": "a4589410",
   "metadata": {},
   "outputs": [],
   "source": [
    "binst_pos = {}\n",
    "for binst in cbloq.bloq_instances:\n",
    "    graphviz_id = pgd.ids[binst]\n",
    "    strpos = pos_dict[graphviz_id]\n",
    "    if strpos is None:\n",
    "        raise ValueError(f\"Graphviz didn't provide a pos for {binst}\")\n",
    "    \n",
    "    binst_pos[binst.i] = strpos"
   ]
  },
  {
   "cell_type": "code",
   "execution_count": null,
   "id": "fe24acab",
   "metadata": {},
   "outputs": [],
   "source": [
    "binst_pos"
   ]
  },
  {
   "cell_type": "code",
   "execution_count": null,
   "id": "cc630f40",
   "metadata": {},
   "outputs": [],
   "source": [
    "pgd.ids"
   ]
  },
  {
   "cell_type": "code",
   "execution_count": null,
   "id": "8cbfbc40",
   "metadata": {},
   "outputs": [],
   "source": [
    "print(graph.create_dot().decode())"
   ]
  },
  {
   "cell_type": "markdown",
   "id": "bfaeb3e8",
   "metadata": {},
   "source": [
    "## Register Groups\n",
    "\n",
    "We group left and right registers with shared names. This section shows some usual and unusual register specifications to test the graphviz logic for making the table rows match up."
   ]
  },
  {
   "cell_type": "code",
   "execution_count": null,
   "id": "12aa623b",
   "metadata": {},
   "outputs": [],
   "source": [
    "from qualtran import Bloq, Register, Signature, Side\n",
    "\n",
    "class SignatureBloq(Bloq):\n",
    "    \"\"\"Placeholder bloq that lets you specify its signature.\"\"\"\n",
    "    def __init__(self, signature: Signature):\n",
    "        self._signature = signature\n",
    "        \n",
    "    @property\n",
    "    def signature(self) -> Signature:\n",
    "        return self._signature\n",
    "        \n",
    "    def short_name(self):\n",
    "        return 'Bloq'"
   ]
  },
  {
   "cell_type": "code",
   "execution_count": null,
   "id": "d0233c20",
   "metadata": {},
   "outputs": [],
   "source": [
    "bloq = SignatureBloq(Signature([\n",
    "    Register('x', 100),\n",
    "    Register('y', 200),\n",
    "]))\n",
    "show_bloq(bloq)"
   ]
  },
  {
   "cell_type": "code",
   "execution_count": null,
   "id": "2ea26cf4",
   "metadata": {},
   "outputs": [],
   "source": [
    "bloq = SignatureBloq(Signature([\n",
    "    Register('x', 100),\n",
    "    Register('a', 2, shape=(2,), side=Side.LEFT),\n",
    "    Register('y', 200),\n",
    "]))\n",
    "show_bloq(bloq)"
   ]
  },
  {
   "cell_type": "code",
   "execution_count": null,
   "id": "a34add74",
   "metadata": {},
   "outputs": [],
   "source": [
    "bloq = SignatureBloq(Signature([\n",
    "    Register('x', 100),\n",
    "    Register('a', 2, shape=(2,2), side=Side.LEFT),\n",
    "    Register('a', 8,  side=Side.RIGHT),\n",
    "    Register('y', 200),\n",
    "]))\n",
    "show_bloq(bloq)"
   ]
  },
  {
   "cell_type": "code",
   "execution_count": null,
   "id": "656c7f39",
   "metadata": {},
   "outputs": [],
   "source": [
    "bloq = SignatureBloq(Signature([\n",
    "    Register('x', 100),\n",
    "    Register('a', 2, shape=(2,2), side=Side.LEFT),\n",
    "    Register('a', 4, shape=(2,), side=Side.RIGHT),\n",
    "    Register('y', 200),\n",
    "]))\n",
    "show_bloq(bloq)"
   ]
  },
  {
   "cell_type": "code",
   "execution_count": null,
   "id": "0c2afb65",
   "metadata": {},
   "outputs": [],
   "source": []
  }
 ],
 "metadata": {
  "kernelspec": {
   "display_name": "Python 3 (ipykernel)",
   "language": "python",
   "name": "python3"
  },
  "language_info": {
   "codemirror_mode": {
    "name": "ipython",
    "version": 3
   },
   "file_extension": ".py",
   "mimetype": "text/x-python",
   "name": "python",
   "nbconvert_exporter": "python",
   "pygments_lexer": "ipython3",
   "version": "3.10.9"
  }
 },
 "nbformat": 4,
 "nbformat_minor": 5
}
