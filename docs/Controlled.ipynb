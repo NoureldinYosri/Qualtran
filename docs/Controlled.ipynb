{
 "cells": [
  {
   "cell_type": "markdown",
   "id": "180029ee",
   "metadata": {},
   "source": [
    "# Controlled\n",
    "\n",
    "The controlled protocol lets you request a 'controlled' version of a bloq.\n",
    "\n",
    "A key feature of any program is the ability to do branching. That is, choose what operations to do based on input. The primitive branching feature in quantum algorithms is the idea of a controlled bloq.\n",
    "\n",
    "In its simplest form, a control bit is specified as an (additional) input to a bloq and the bloq is active when the control input is in the $|1\\rangle$ state. Otherwise, the bloq's operation is not performed (said another way: the Identity bloq is performed). The control input can be in superposition. "
   ]
  },
  {
   "cell_type": "code",
   "execution_count": 1,
   "id": "344b415f",
   "metadata": {},
   "outputs": [
    {
     "data": {
      "image/svg+xml": [
       "<svg xmlns=\"http://www.w3.org/2000/svg\" xmlns:xlink=\"http://www.w3.org/1999/xlink\" width=\"204pt\" height=\"54pt\" viewBox=\"0.00 0.00 204.00 54.00\">\n",
       "<g id=\"graph0\" class=\"graph\" transform=\"scale(1 1) rotate(0) translate(4 50)\">\n",
       "<title>my_graph</title>\n",
       "<polygon fill=\"white\" stroke=\"transparent\" points=\"-4,4 -4,-50 200,-50 200,4 -4,4\"/>\n",
       "<!-- q_G2 -->\n",
       "<g id=\"node1\" class=\"node\">\n",
       "<title>q_G2</title>\n",
       "<text text-anchor=\"middle\" x=\"27\" y=\"-14.3\" font-family=\"Times,serif\" font-size=\"14.00\">q</text>\n",
       "</g>\n",
       "<!-- XGate -->\n",
       "<g id=\"node2\" class=\"node\">\n",
       "<title>XGate</title>\n",
       "<polygon fill=\"none\" stroke=\"black\" points=\"91,-29 91,-46 105,-46 105,-29 91,-29\"/>\n",
       "<text text-anchor=\"start\" x=\"94\" y=\"-35\" font-family=\"Times,serif\" font-size=\"10.00\">X</text>\n",
       "<polygon fill=\"none\" stroke=\"black\" points=\"91,-8 91,-29 105,-29 105,-8 91,-8\"/>\n",
       "<text text-anchor=\"start\" x=\"94.5\" y=\"-14.8\" font-family=\"Times,serif\" font-size=\"14.00\">q</text>\n",
       "</g>\n",
       "<!-- q_G2&#45;&gt;XGate -->\n",
       "<g id=\"edge1\" class=\"edge\">\n",
       "<title>q_G2:e-&gt;XGate:w</title>\n",
       "<path fill=\"none\" stroke=\"black\" d=\"M54,-18C69.67,-18 74.14,-18 88.77,-18\"/>\n",
       "<ellipse fill=\"black\" stroke=\"black\" cx=\"90\" cy=\"-18\" rx=\"1\" ry=\"1\"/>\n",
       "<text text-anchor=\"middle\" x=\"72.5\" y=\"-21\" font-family=\"Times,serif\" font-size=\"10.00\">1</text>\n",
       "</g>\n",
       "<!-- q_G0 -->\n",
       "<g id=\"node3\" class=\"node\">\n",
       "<title>q_G0</title>\n",
       "<text text-anchor=\"middle\" x=\"169\" y=\"-14.3\" font-family=\"Times,serif\" font-size=\"14.00\">q</text>\n",
       "</g>\n",
       "<!-- XGate&#45;&gt;q_G0 -->\n",
       "<g id=\"edge2\" class=\"edge\">\n",
       "<title>XGate:e-&gt;q_G0:w</title>\n",
       "<path fill=\"none\" stroke=\"black\" d=\"M105,-18C120.67,-18 125.14,-18 139.77,-18\"/>\n",
       "<ellipse fill=\"black\" stroke=\"black\" cx=\"141\" cy=\"-18\" rx=\"1\" ry=\"1\"/>\n",
       "<text text-anchor=\"middle\" x=\"123.5\" y=\"-21\" font-family=\"Times,serif\" font-size=\"10.00\">1</text>\n",
       "</g>\n",
       "</g>\n",
       "</svg>"
      ],
      "text/plain": [
       "<IPython.core.display.SVG object>"
      ]
     },
     "metadata": {},
     "output_type": "display_data"
    },
    {
     "data": {
      "image/svg+xml": [
       "<svg xmlns=\"http://www.w3.org/2000/svg\" xmlns:xlink=\"http://www.w3.org/1999/xlink\" width=\"227pt\" height=\"98pt\" viewBox=\"0.00 0.00 227.00 98.00\">\n",
       "<g id=\"graph0\" class=\"graph\" transform=\"scale(1 1) rotate(0) translate(4 94)\">\n",
       "<title>my_graph</title>\n",
       "<polygon fill=\"white\" stroke=\"transparent\" points=\"-4,4 -4,-94 223,-94 223,4 -4,4\"/>\n",
       "<!-- ctrl_G5 -->\n",
       "<g id=\"node1\" class=\"node\">\n",
       "<title>ctrl_G5</title>\n",
       "<text text-anchor=\"middle\" x=\"27\" y=\"-68.3\" font-family=\"Times,serif\" font-size=\"14.00\">ctrl</text>\n",
       "</g>\n",
       "<!-- CNOT -->\n",
       "<g id=\"node3\" class=\"node\">\n",
       "<title>CNOT</title>\n",
       "<polygon fill=\"none\" stroke=\"black\" points=\"91.5,-66 91.5,-83 128.5,-83 128.5,-66 91.5,-66\"/>\n",
       "<text text-anchor=\"start\" x=\"96\" y=\"-72\" font-family=\"Times,serif\" font-size=\"10.00\">CNOT</text>\n",
       "<polygon fill=\"none\" stroke=\"black\" points=\"91.5,-45 91.5,-66 128.5,-66 128.5,-45 91.5,-45\"/>\n",
       "<text text-anchor=\"start\" x=\"100.5\" y=\"-51.8\" font-family=\"Times,serif\" font-size=\"14.00\">ctrl</text>\n",
       "<polygon fill=\"none\" stroke=\"black\" points=\"91.5,-24 91.5,-45 128.5,-45 128.5,-24 91.5,-24\"/>\n",
       "<text text-anchor=\"start\" x=\"94.5\" y=\"-30.8\" font-family=\"Times,serif\" font-size=\"14.00\">target</text>\n",
       "</g>\n",
       "<!-- ctrl_G5&#45;&gt;CNOT -->\n",
       "<g id=\"edge1\" class=\"edge\">\n",
       "<title>ctrl_G5:e-&gt;CNOT:w</title>\n",
       "<path fill=\"none\" stroke=\"black\" d=\"M54,-72C71.22,-72 72.97,-57.23 88.98,-56.07\"/>\n",
       "<ellipse fill=\"black\" stroke=\"black\" cx=\"90\" cy=\"-56.04\" rx=\"1\" ry=\"1\"/>\n",
       "<text text-anchor=\"middle\" x=\"72.5\" y=\"-67\" font-family=\"Times,serif\" font-size=\"10.00\">1</text>\n",
       "</g>\n",
       "<!-- target_G3 -->\n",
       "<g id=\"node2\" class=\"node\">\n",
       "<title>target_G3</title>\n",
       "<text text-anchor=\"middle\" x=\"27\" y=\"-14.3\" font-family=\"Times,serif\" font-size=\"14.00\">target</text>\n",
       "</g>\n",
       "<!-- target_G3&#45;&gt;CNOT -->\n",
       "<g id=\"edge2\" class=\"edge\">\n",
       "<title>target_G3:e-&gt;CNOT:w</title>\n",
       "<path fill=\"none\" stroke=\"black\" d=\"M54,-18C71.22,-18 72.97,-32.77 88.98,-33.93\"/>\n",
       "<ellipse fill=\"black\" stroke=\"black\" cx=\"90\" cy=\"-33.96\" rx=\"1\" ry=\"1\"/>\n",
       "<text text-anchor=\"middle\" x=\"72.5\" y=\"-29\" font-family=\"Times,serif\" font-size=\"10.00\">1</text>\n",
       "</g>\n",
       "<!-- ctrl_G1 -->\n",
       "<g id=\"node4\" class=\"node\">\n",
       "<title>ctrl_G1</title>\n",
       "<text text-anchor=\"middle\" x=\"192\" y=\"-68.3\" font-family=\"Times,serif\" font-size=\"14.00\">ctrl</text>\n",
       "</g>\n",
       "<!-- CNOT&#45;&gt;ctrl_G1 -->\n",
       "<g id=\"edge3\" class=\"edge\">\n",
       "<title>CNOT:e-&gt;ctrl_G1:w</title>\n",
       "<path fill=\"none\" stroke=\"black\" d=\"M128,-56C145.22,-56 146.97,-70.77 162.98,-71.93\"/>\n",
       "<ellipse fill=\"black\" stroke=\"black\" cx=\"164\" cy=\"-71.96\" rx=\"1\" ry=\"1\"/>\n",
       "<text text-anchor=\"middle\" x=\"146.5\" y=\"-67\" font-family=\"Times,serif\" font-size=\"10.00\">1</text>\n",
       "</g>\n",
       "<!-- target_G0 -->\n",
       "<g id=\"node5\" class=\"node\">\n",
       "<title>target_G0</title>\n",
       "<text text-anchor=\"middle\" x=\"192\" y=\"-14.3\" font-family=\"Times,serif\" font-size=\"14.00\">target</text>\n",
       "</g>\n",
       "<!-- CNOT&#45;&gt;target_G0 -->\n",
       "<g id=\"edge4\" class=\"edge\">\n",
       "<title>CNOT:e-&gt;target_G0:w</title>\n",
       "<path fill=\"none\" stroke=\"black\" d=\"M128,-34C145.22,-34 146.97,-19.23 162.98,-18.07\"/>\n",
       "<ellipse fill=\"black\" stroke=\"black\" cx=\"164\" cy=\"-18.04\" rx=\"1\" ry=\"1\"/>\n",
       "<text text-anchor=\"middle\" x=\"146.5\" y=\"-29\" font-family=\"Times,serif\" font-size=\"10.00\">1</text>\n",
       "</g>\n",
       "</g>\n",
       "</svg>"
      ],
      "text/plain": [
       "<IPython.core.display.SVG object>"
      ]
     },
     "metadata": {},
     "output_type": "display_data"
    }
   ],
   "source": [
    "from qualtran.drawing import show_bloq\n",
    "from qualtran.bloqs.basic_gates import XGate\n",
    "\n",
    "x = XGate()\n",
    "\n",
    "show_bloq(x)\n",
    "show_bloq(x.controlled())"
   ]
  },
  {
   "cell_type": "markdown",
   "id": "455f4c8a",
   "metadata": {},
   "source": [
    "## Interface\n",
    "\n",
    "The method for accessing the controlled version of a bloq is calling `Bloq.controlled(ctrl_spec)`. `ctrl_spec` is an instance of `CtrlSpec` which specifies how to control the bloq. \n",
    "\n",
    "`CtrlSpec` supports additional control specifications:\n",
    " 1. 'negative' controls where the bloq is active if the input is |0>.\n",
    " 2. integer-equality controls where a `bitsize`-sized input must match an integer control value.\n",
    " 3. ndarrays of control values, where the bloq is active if **all** inputs are active.\n",
    " 4. Multiple control registers, control values for each of which can be specified\n",
    "    using 1-3 above.\n",
    "\n",
    "For example:\n",
    " \n",
    " 1. `CtrlSpec(qdtypes=QUInt(4), cvs=0b0110)`: Ctrl for a single register, of type `QUInt(4)` and shape `()`, is active when the soquet of the input register takes value 6."
   ]
  },
  {
   "cell_type": "code",
   "execution_count": 2,
   "id": "7f55acb5",
   "metadata": {},
   "outputs": [
    {
     "data": {
      "image/png": "[encoded data removed]",
      "text/plain": [
       "<Figure size 320x200 with 1 Axes>"
      ]
     },
     "metadata": {},
     "output_type": "display_data"
    }
   ],
   "source": [
    "from qualtran import CtrlSpec, QUInt, QBit\n",
    "\n",
    "ctrl_spec = CtrlSpec(qdtypes=QUInt(4), cvs=0b0110)\n",
    "assert ctrl_spec.is_active(6)\n",
    "cx = x.controlled(ctrl_spec=ctrl_spec)\n",
    "show_bloq(cx, type='musical_score')"
   ]
  },
  {
   "cell_type": "markdown",
   "id": "95a4c968-dea5-4f8e-9752-68e13224bf4c",
   "metadata": {},
   "source": [
    " 2. `CtrlSpec(cvs=[0, 1, 1, 0])`: Ctrl for a single register, of type `QBit()` and shape `(4,)`, is active when soquets of input register take values `[0, 1, 1, 0]`."
   ]
  },
  {
   "cell_type": "code",
   "execution_count": 3,
   "id": "4e2b1bb0-2e68-4f3e-a05c-0bfe7c822ab2",
   "metadata": {},
   "outputs": [
    {
     "data": {
      "image/png": "[encoded data removed]",
      "text/plain": [
       "<Figure size 320x440 with 1 Axes>"
      ]
     },
     "metadata": {},
     "output_type": "display_data"
    }
   ],
   "source": [
    "ctrl_spec = CtrlSpec(cvs=[0, 1, 1, 0])\n",
    "assert ctrl_spec.is_active([0, 1, 1, 0])\n",
    "cx = x.controlled(ctrl_spec=ctrl_spec)\n",
    "show_bloq(cx, type='musical_score')"
   ]
  },
  {
   "cell_type": "markdown",
   "id": "a0c79e8f-991d-45a5-a628-6928b615bfc0",
   "metadata": {},
   "source": [
    " 3. `CtrlSpec(qdtypes=[QBit(), QBit()], cvs=[[0, 1], [1, 0]]).is_active([0, 1], [1, 0])`:\n",
    "    Ctrl for 2 registers, each of type `QBit()` and shape `(2,)`, is active when the soquet for\n",
    "    each register takes values `[0, 1]` and  `[1, 0]` respectively."
   ]
  },
  {
   "cell_type": "code",
   "execution_count": 4,
   "id": "dbbc994a-5a2d-42b7-998c-70a8b8b52f16",
   "metadata": {},
   "outputs": [
    {
     "data": {
      "image/png": "[encoded data removed]",
      "text/plain": [
       "<Figure size 320x440 with 1 Axes>"
      ]
     },
     "metadata": {},
     "output_type": "display_data"
    }
   ],
   "source": [
    "import numpy as np\n",
    "\n",
    "ctrl_spec = CtrlSpec(qdtypes=[QBit(), QBit()], cvs=[[0, 1], [1, 0]])\n",
    "assert ctrl_spec.is_active([0, 1], [1, 0])\n",
    "cx = x.controlled(ctrl_spec=ctrl_spec)\n",
    "show_bloq(cx, type='musical_score')"
   ]
  },
  {
   "cell_type": "markdown",
   "id": "76350f9c",
   "metadata": {},
   "source": [
    "The controlled bloq is defined by its decomposition in addition to its classical and quantum simulation protocols. For a general bloq, we can provide a decomposition of its controlled version by controlling each of the subbloqs."
   ]
  },
  {
   "cell_type": "code",
   "execution_count": 5,
   "id": "ac9bf2ae",
   "metadata": {},
   "outputs": [
    {
     "data": {
      "image/png": "[encoded data removed]",
      "text/plain": [
       "<Figure size 480x120 with 1 Axes>"
      ]
     },
     "metadata": {},
     "output_type": "display_data"
    },
    {
     "data": {
      "image/png": "[encoded data removed]",
      "text/plain": [
       "<Figure size 480x200 with 1 Axes>"
      ]
     },
     "metadata": {},
     "output_type": "display_data"
    }
   ],
   "source": [
    "from qualtran.bloqs.for_testing import TestSerialCombo\n",
    "\n",
    "serial = TestSerialCombo()\n",
    "cserial = serial.controlled()\n",
    "show_bloq(serial.decompose_bloq(), type='musical_score')\n",
    "show_bloq(cserial.decompose_bloq(), type='musical_score')"
   ]
  },
  {
   "cell_type": "markdown",
   "id": "7f26d386",
   "metadata": {},
   "source": [
    "## Implementation\n",
    "\n",
    "Bloq authors can override `Bloq.get_ctrl_system(...)` to provide a custom controlled version of a bloq. Please read the docstrings for this method to understand the required return values.\n",
    "\n",
    "We've already seen an example where `XGate().controlled()` will give the `CNOT` bloq. "
   ]
  },
  {
   "cell_type": "code",
   "execution_count": 6,
   "id": "2524c557",
   "metadata": {},
   "outputs": [
    {
     "name": "stdout",
     "output_type": "stream",
     "text": [
      "CNOT()\n"
     ]
    }
   ],
   "source": [
    "cx = XGate().controlled()\n",
    "print(cx)"
   ]
  },
  {
   "cell_type": "markdown",
   "id": "d7b490bb",
   "metadata": {},
   "source": [
    "This behavior may depend on the control spec. For example, if we want to control on the input line being in the state corresponding to the unsigned integer `255`, we wouldn't get a `CNOT` bloq."
   ]
  },
  {
   "cell_type": "code",
   "execution_count": 7,
   "id": "a42248a8",
   "metadata": {},
   "outputs": [
    {
     "name": "stdout",
     "output_type": "stream",
     "text": [
      "C[XGate()]\n"
     ]
    },
    {
     "data": {
      "image/png": "[encoded data removed]",
      "text/plain": [
       "<Figure size 320x200 with 1 Axes>"
      ]
     },
     "metadata": {},
     "output_type": "display_data"
    }
   ],
   "source": [
    "from qualtran import QInt\n",
    "c255x = XGate().controlled(CtrlSpec(QInt(8), cvs=255))\n",
    "show_bloq(c255x, type='musical_score')\n",
    "print(c255x)"
   ]
  },
  {
   "cell_type": "markdown",
   "id": "8603f99f",
   "metadata": {},
   "source": [
    "## Default Fallback\n",
    "\n",
    "If a bloq does not override `get_ctrl_system`, the system will use the `qualtran.Controlled` meta-bloq to wrap the original bloq"
   ]
  },
  {
   "cell_type": "code",
   "execution_count": 8,
   "id": "6255dcc4",
   "metadata": {},
   "outputs": [
    {
     "data": {
      "text/plain": [
       "Controlled(subbloq=TestAtom(), ctrl_spec=CtrlSpec(qdtypes=(QBit(),), cvs=(array(1),)))"
      ]
     },
     "execution_count": 8,
     "metadata": {},
     "output_type": "execute_result"
    }
   ],
   "source": [
    "from qualtran.bloqs.for_testing import TestAtom\n",
    "\n",
    "atom = TestAtom()\n",
    "catom = atom.controlled()\n",
    "catom"
   ]
  },
  {
   "cell_type": "markdown",
   "id": "1f0452eb",
   "metadata": {},
   "source": [
    "This metabloq forms an important part of the 'controlled' protocol. It adapts the other qualtran protocols to handle controlled versions of arbitrary bloqs. It delegates its protocols to the wrapped bloq.\n",
    "\n",
    " - **Signature:** That of the wrapped bloq with new registers according to `ctrl_spec`.\n",
    " - **Decomposition:** The controlled version of a composite bloq is formed by controlling each\n",
    "   of the subbloqs.\n",
    " - **Classical simulation:** This uses the control spec’s activation method to check classical values.\n",
    "   If the gate is meant to be active, the wrapped classical simulation protocol is employed.\n",
    "   Otherwise: the input values are returned unchanged.\n",
    " - **Tensor simulation:** Currently, tensor simulation will proceed via the decomposition.\n",
    " - **Call graph:** The wrapped bloq's call graph with controlled versions of each subbloq.\n",
    " - **Wire_symbol:** Existing registers delegate to the wrapped bloq. New control registers use the\n",
    "   wire symbol information provided by the control spec.\n",
    " - **Names:** The wrapped bloq's names encased with \"C[...]\"\n",
    " - **Adjoint:** Use the default fallback. The control lines are all symmetric.\n",
    " - **Cirq**: Use the default fallback. No translation to `cirq.ControlledOperation` is done."
   ]
  },
  {
   "cell_type": "code",
   "execution_count": 9,
   "id": "12a460f0",
   "metadata": {},
   "outputs": [
    {
     "data": {
      "image/png": "[encoded data removed]",
      "text/plain": [
       "<Figure size 640x520 with 1 Axes>"
      ]
     },
     "metadata": {},
     "output_type": "display_data"
    }
   ],
   "source": [
    "# Use the default fallback for `OnEach`; but the subbloqs all have custom\n",
    "# controlled behavior: \n",
    "#  C^2[X]        -> Toffoli\n",
    "#  C[Split/Join] -> Split/Join\n",
    "from qualtran.bloqs.basic_gates import OnEach\n",
    "\n",
    "ccx3 = OnEach(n=3, gate=x).controlled(CtrlSpec(cvs=(1,1)))\n",
    "show_bloq(ccx3.decompose_bloq(), type='musical_score')"
   ]
  }
 ],
 "metadata": {
  "kernelspec": {
   "display_name": "Python 3 (ipykernel)",
   "language": "python",
   "name": "python3"
  },
  "language_info": {
   "codemirror_mode": {
    "name": "ipython",
    "version": 3
   },
   "file_extension": ".py",
   "mimetype": "text/x-python",
   "name": "python",
   "nbconvert_exporter": "python",
   "pygments_lexer": "ipython3",
   "version": "3.11.8"
  }
 },
 "nbformat": 4,
 "nbformat_minor": 5
}
