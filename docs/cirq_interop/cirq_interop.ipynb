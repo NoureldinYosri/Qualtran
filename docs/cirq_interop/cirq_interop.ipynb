{
 "cells": [
  {
   "cell_type": "markdown",
   "id": "eb6226ee",
   "metadata": {},
   "source": [
    "# Cirq Conversion\n",
    "\n",
    "Cirq is a quantum SDK for explicitly addressing physical qubits and scheduling gates. You can consider it analogous to a quantum assembly language. The bloqs infrastructure provides interoperability with Cirq."
   ]
  },
  {
   "cell_type": "code",
   "execution_count": 1,
   "id": "a2aee820",
   "metadata": {
    "execution": {
     "iopub.execute_input": "2023-07-14T16:48:22.592461Z",
     "iopub.status.busy": "2023-07-14T16:48:22.591890Z",
     "iopub.status.idle": "2023-07-14T16:48:23.715727Z",
     "shell.execute_reply": "2023-07-14T16:48:23.715105Z"
    }
   },
   "outputs": [],
   "source": [
    "import cirq\n",
    "from cirq.contrib.svg import SVGCircuit\n",
    "\n",
    "from qualtran import Bloq, CompositeBloq, BloqBuilder, Signature\n",
    "from qualtran.drawing import show_bloq"
   ]
  },
  {
   "cell_type": "markdown",
   "id": "1e14d29e",
   "metadata": {},
   "source": [
    "## Using Cirq gates from Bloqs\n",
    "\n",
    " - `CirqGateAsBloq(gate)` lets you use any Cirq gate in your composite bloqs.\n",
    " - `CompositeBloq.from_cirq_circuit(circuit)` lets you turn any Cirq circuit into an equivalent `CompositeBloq`. Each subbloq will be a `CirqGateAsBloq` wrapper."
   ]
  },
  {
   "cell_type": "markdown",
   "id": "5dd2cc96",
   "metadata": {},
   "source": [
    "### `CirqGateAsBloq`\n",
    "\n",
    "This wrapper uses the Cirq \"calling convention\" of one thru-register composted of a 1d array of qubits."
   ]
  },
  {
   "cell_type": "code",
   "execution_count": 2,
   "id": "02cb4281",
   "metadata": {
    "execution": {
     "iopub.execute_input": "2023-07-14T16:48:23.720161Z",
     "iopub.status.busy": "2023-07-14T16:48:23.719872Z",
     "iopub.status.idle": "2023-07-14T16:48:25.311723Z",
     "shell.execute_reply": "2023-07-14T16:48:25.311192Z"
    }
   },
   "outputs": [
    {
     "name": "stdout",
     "output_type": "stream",
     "text": [
      "CirqGateAsBloq(gate=cirq.QuantumFourierTransformGate(num_qubits=5, without_reverse=False))\n",
      "  Register(name='qubits', bitsize=1, shape=(5,), side=<Side.THRU: 3>)\n"
     ]
    }
   ],
   "source": [
    "from qualtran.cirq_interop import CirqGateAsBloq\n",
    "\n",
    "cgab = CirqGateAsBloq(cirq.QuantumFourierTransformGate(num_qubits=5))\n",
    "print(cgab)\n",
    "for reg in cgab.signature:\n",
    "    print(' ', reg)"
   ]
  },
  {
   "cell_type": "code",
   "execution_count": 3,
   "id": "8ba385b0",
   "metadata": {
    "execution": {
     "iopub.execute_input": "2023-07-14T16:48:25.315529Z",
     "iopub.status.busy": "2023-07-14T16:48:25.315365Z",
     "iopub.status.idle": "2023-07-14T16:48:25.393984Z",
     "shell.execute_reply": "2023-07-14T16:48:25.393228Z"
    }
   },
   "outputs": [
    {
     "data": {
      "image/svg+xml": [
       "<svg xmlns=\"http://www.w3.org/2000/svg\" xmlns:xlink=\"http://www.w3.org/1999/xlink\" width=\"248pt\" height=\"260pt\" viewBox=\"0.00 0.00 248.00 260.00\">\n",
       "<g id=\"graph0\" class=\"graph\" transform=\"scale(1 1) rotate(0) translate(4 256)\">\n",
       "<title>my_graph</title>\n",
       "<polygon fill=\"white\" stroke=\"transparent\" points=\"-4,4 -4,-256 244,-256 244,4 -4,4\"/>\n",
       "<!-- qubits_G13 -->\n",
       "<g id=\"node1\" class=\"node\">\n",
       "<title>qubits_G13</title>\n",
       "<text text-anchor=\"middle\" x=\"32.5\" y=\"-230.3\" font-family=\"Times,serif\" font-size=\"14.00\">qubits[0]</text>\n",
       "</g>\n",
       "<!-- CirqGateAsBloq -->\n",
       "<g id=\"node6\" class=\"node\">\n",
       "<title>CirqGateAsBloq</title>\n",
       "<polygon fill=\"none\" stroke=\"black\" points=\"102,-179 102,-196 138,-196 138,-179 102,-179\"/>\n",
       "<text text-anchor=\"start\" x=\"105\" y=\"-185\" font-family=\"Times,serif\" font-size=\"10.00\">cirq.qft</text>\n",
       "<polygon fill=\"none\" stroke=\"black\" points=\"102,-158 102,-179 138,-179 138,-158 102,-158\"/>\n",
       "<text text-anchor=\"start\" x=\"113\" y=\"-164.8\" font-family=\"Times,serif\" font-size=\"14.00\">q0</text>\n",
       "<polygon fill=\"none\" stroke=\"black\" points=\"102,-137 102,-158 138,-158 138,-137 102,-137\"/>\n",
       "<text text-anchor=\"start\" x=\"113\" y=\"-143.8\" font-family=\"Times,serif\" font-size=\"14.00\">q1</text>\n",
       "<polygon fill=\"none\" stroke=\"black\" points=\"102,-116 102,-137 138,-137 138,-116 102,-116\"/>\n",
       "<text text-anchor=\"start\" x=\"113\" y=\"-122.8\" font-family=\"Times,serif\" font-size=\"14.00\">q2</text>\n",
       "<polygon fill=\"none\" stroke=\"black\" points=\"102,-95 102,-116 138,-116 138,-95 102,-95\"/>\n",
       "<text text-anchor=\"start\" x=\"113\" y=\"-101.8\" font-family=\"Times,serif\" font-size=\"14.00\">q3</text>\n",
       "<polygon fill=\"none\" stroke=\"black\" points=\"102,-74 102,-95 138,-95 138,-74 102,-74\"/>\n",
       "<text text-anchor=\"start\" x=\"113\" y=\"-80.8\" font-family=\"Times,serif\" font-size=\"14.00\">q4</text>\n",
       "</g>\n",
       "<!-- qubits_G13&#45;&gt;CirqGateAsBloq -->\n",
       "<g id=\"edge1\" class=\"edge\">\n",
       "<title>qubits_G13:e-&gt;CirqGateAsBloq:w</title>\n",
       "<path fill=\"none\" stroke=\"black\" d=\"M65,-234C97.46,-234 70.11,-172.01 99.76,-169.11\"/>\n",
       "<ellipse fill=\"black\" stroke=\"black\" cx=\"101\" cy=\"-169.05\" rx=\"1\" ry=\"1\"/>\n",
       "<text text-anchor=\"middle\" x=\"83.5\" y=\"-210\" font-family=\"Times,serif\" font-size=\"10.00\">1</text>\n",
       "</g>\n",
       "<!-- qubits_G5 -->\n",
       "<g id=\"node2\" class=\"node\">\n",
       "<title>qubits_G5</title>\n",
       "<text text-anchor=\"middle\" x=\"32.5\" y=\"-176.3\" font-family=\"Times,serif\" font-size=\"14.00\">qubits[1]</text>\n",
       "</g>\n",
       "<!-- qubits_G5&#45;&gt;CirqGateAsBloq -->\n",
       "<g id=\"edge2\" class=\"edge\">\n",
       "<title>qubits_G5:e-&gt;CirqGateAsBloq:w</title>\n",
       "<path fill=\"none\" stroke=\"black\" d=\"M65,-180C85.89,-180 80.72,-150.45 99.58,-148.14\"/>\n",
       "<ellipse fill=\"black\" stroke=\"black\" cx=\"101\" cy=\"-148.06\" rx=\"1\" ry=\"1\"/>\n",
       "<text text-anchor=\"middle\" x=\"83.5\" y=\"-167\" font-family=\"Times,serif\" font-size=\"10.00\">1</text>\n",
       "</g>\n",
       "<!-- qubits_G1 -->\n",
       "<g id=\"node3\" class=\"node\">\n",
       "<title>qubits_G1</title>\n",
       "<text text-anchor=\"middle\" x=\"32.5\" y=\"-122.3\" font-family=\"Times,serif\" font-size=\"14.00\">qubits[2]</text>\n",
       "</g>\n",
       "<!-- qubits_G1&#45;&gt;CirqGateAsBloq -->\n",
       "<g id=\"edge3\" class=\"edge\">\n",
       "<title>qubits_G1:e-&gt;CirqGateAsBloq:w</title>\n",
       "<path fill=\"none\" stroke=\"black\" d=\"M65,-126C80.67,-126 85.14,-126 99.77,-126\"/>\n",
       "<ellipse fill=\"black\" stroke=\"black\" cx=\"101\" cy=\"-126\" rx=\"1\" ry=\"1\"/>\n",
       "<text text-anchor=\"middle\" x=\"83.5\" y=\"-129\" font-family=\"Times,serif\" font-size=\"10.00\">1</text>\n",
       "</g>\n",
       "<!-- qubits_G11 -->\n",
       "<g id=\"node4\" class=\"node\">\n",
       "<title>qubits_G11</title>\n",
       "<text text-anchor=\"middle\" x=\"32.5\" y=\"-68.3\" font-family=\"Times,serif\" font-size=\"14.00\">qubits[3]</text>\n",
       "</g>\n",
       "<!-- qubits_G11&#45;&gt;CirqGateAsBloq -->\n",
       "<g id=\"edge4\" class=\"edge\">\n",
       "<title>qubits_G11:e-&gt;CirqGateAsBloq:w</title>\n",
       "<path fill=\"none\" stroke=\"black\" d=\"M65,-72C86.17,-72 80.47,-102.47 99.55,-104.85\"/>\n",
       "<ellipse fill=\"black\" stroke=\"black\" cx=\"101\" cy=\"-104.94\" rx=\"1\" ry=\"1\"/>\n",
       "<text text-anchor=\"middle\" x=\"83.5\" y=\"-92\" font-family=\"Times,serif\" font-size=\"10.00\">1</text>\n",
       "</g>\n",
       "<!-- qubits_G3 -->\n",
       "<g id=\"node5\" class=\"node\">\n",
       "<title>qubits_G3</title>\n",
       "<text text-anchor=\"middle\" x=\"32.5\" y=\"-14.3\" font-family=\"Times,serif\" font-size=\"14.00\">qubits[4]</text>\n",
       "</g>\n",
       "<!-- qubits_G3&#45;&gt;CirqGateAsBloq -->\n",
       "<g id=\"edge5\" class=\"edge\">\n",
       "<title>qubits_G3:e-&gt;CirqGateAsBloq:w</title>\n",
       "<path fill=\"none\" stroke=\"black\" d=\"M65,-18C97.84,-18 69.75,-80.94 99.74,-83.89\"/>\n",
       "<ellipse fill=\"black\" stroke=\"black\" cx=\"101\" cy=\"-83.95\" rx=\"1\" ry=\"1\"/>\n",
       "<text text-anchor=\"middle\" x=\"83.5\" y=\"-62\" font-family=\"Times,serif\" font-size=\"10.00\">1</text>\n",
       "</g>\n",
       "<!-- qubits_G8 -->\n",
       "<g id=\"node7\" class=\"node\">\n",
       "<title>qubits_G8</title>\n",
       "<text text-anchor=\"middle\" x=\"207.5\" y=\"-230.3\" font-family=\"Times,serif\" font-size=\"14.00\">qubits[0]</text>\n",
       "</g>\n",
       "<!-- CirqGateAsBloq&#45;&gt;qubits_G8 -->\n",
       "<g id=\"edge6\" class=\"edge\">\n",
       "<title>CirqGateAsBloq:e-&gt;qubits_G8:w</title>\n",
       "<path fill=\"none\" stroke=\"black\" d=\"M138,-169C170.46,-169 143.11,-230.99 172.76,-233.89\"/>\n",
       "<ellipse fill=\"black\" stroke=\"black\" cx=\"174\" cy=\"-233.95\" rx=\"1\" ry=\"1\"/>\n",
       "<text text-anchor=\"middle\" x=\"156.5\" y=\"-210\" font-family=\"Times,serif\" font-size=\"10.00\">1</text>\n",
       "</g>\n",
       "<!-- qubits_G2 -->\n",
       "<g id=\"node8\" class=\"node\">\n",
       "<title>qubits_G2</title>\n",
       "<text text-anchor=\"middle\" x=\"207.5\" y=\"-176.3\" font-family=\"Times,serif\" font-size=\"14.00\">qubits[1]</text>\n",
       "</g>\n",
       "<!-- CirqGateAsBloq&#45;&gt;qubits_G2 -->\n",
       "<g id=\"edge7\" class=\"edge\">\n",
       "<title>CirqGateAsBloq:e-&gt;qubits_G2:w</title>\n",
       "<path fill=\"none\" stroke=\"black\" d=\"M138,-148C158.89,-148 153.72,-177.55 172.58,-179.86\"/>\n",
       "<ellipse fill=\"black\" stroke=\"black\" cx=\"174\" cy=\"-179.94\" rx=\"1\" ry=\"1\"/>\n",
       "<text text-anchor=\"middle\" x=\"156.5\" y=\"-167\" font-family=\"Times,serif\" font-size=\"10.00\">1</text>\n",
       "</g>\n",
       "<!-- qubits_G9 -->\n",
       "<g id=\"node9\" class=\"node\">\n",
       "<title>qubits_G9</title>\n",
       "<text text-anchor=\"middle\" x=\"207.5\" y=\"-122.3\" font-family=\"Times,serif\" font-size=\"14.00\">qubits[2]</text>\n",
       "</g>\n",
       "<!-- CirqGateAsBloq&#45;&gt;qubits_G9 -->\n",
       "<g id=\"edge8\" class=\"edge\">\n",
       "<title>CirqGateAsBloq:e-&gt;qubits_G9:w</title>\n",
       "<path fill=\"none\" stroke=\"black\" d=\"M138,-126C153.67,-126 158.14,-126 172.77,-126\"/>\n",
       "<ellipse fill=\"black\" stroke=\"black\" cx=\"174\" cy=\"-126\" rx=\"1\" ry=\"1\"/>\n",
       "<text text-anchor=\"middle\" x=\"156.5\" y=\"-129\" font-family=\"Times,serif\" font-size=\"10.00\">1</text>\n",
       "</g>\n",
       "<!-- qubits_G4 -->\n",
       "<g id=\"node10\" class=\"node\">\n",
       "<title>qubits_G4</title>\n",
       "<text text-anchor=\"middle\" x=\"207.5\" y=\"-68.3\" font-family=\"Times,serif\" font-size=\"14.00\">qubits[3]</text>\n",
       "</g>\n",
       "<!-- CirqGateAsBloq&#45;&gt;qubits_G4 -->\n",
       "<g id=\"edge9\" class=\"edge\">\n",
       "<title>CirqGateAsBloq:e-&gt;qubits_G4:w</title>\n",
       "<path fill=\"none\" stroke=\"black\" d=\"M138,-105C159.17,-105 153.47,-74.53 172.55,-72.15\"/>\n",
       "<ellipse fill=\"black\" stroke=\"black\" cx=\"174\" cy=\"-72.06\" rx=\"1\" ry=\"1\"/>\n",
       "<text text-anchor=\"middle\" x=\"156.5\" y=\"-92\" font-family=\"Times,serif\" font-size=\"10.00\">1</text>\n",
       "</g>\n",
       "<!-- qubits_G10 -->\n",
       "<g id=\"node11\" class=\"node\">\n",
       "<title>qubits_G10</title>\n",
       "<text text-anchor=\"middle\" x=\"207.5\" y=\"-14.3\" font-family=\"Times,serif\" font-size=\"14.00\">qubits[4]</text>\n",
       "</g>\n",
       "<!-- CirqGateAsBloq&#45;&gt;qubits_G10 -->\n",
       "<g id=\"edge10\" class=\"edge\">\n",
       "<title>CirqGateAsBloq:e-&gt;qubits_G10:w</title>\n",
       "<path fill=\"none\" stroke=\"black\" d=\"M138,-84C170.84,-84 142.75,-21.06 172.74,-18.11\"/>\n",
       "<ellipse fill=\"black\" stroke=\"black\" cx=\"174\" cy=\"-18.05\" rx=\"1\" ry=\"1\"/>\n",
       "<text text-anchor=\"middle\" x=\"156.5\" y=\"-62\" font-family=\"Times,serif\" font-size=\"10.00\">1</text>\n",
       "</g>\n",
       "</g>\n",
       "</svg>"
      ],
      "text/plain": [
       "<IPython.core.display.SVG object>"
      ]
     },
     "metadata": {},
     "output_type": "display_data"
    }
   ],
   "source": [
    "show_bloq(cgab)"
   ]
  },
  {
   "cell_type": "markdown",
   "id": "847b01e7",
   "metadata": {},
   "source": [
    "### `CompositeBloq.from_cirq_circuit`\n",
    "\n",
    "A Cirq circuit can be converted to a composite bloq by wrapping each operation with the `CirqGateAsBloq` wrapper. "
   ]
  },
  {
   "cell_type": "code",
   "execution_count": 4,
   "id": "3fa0b8e9",
   "metadata": {
    "execution": {
     "iopub.execute_input": "2023-07-14T16:48:25.398823Z",
     "iopub.status.busy": "2023-07-14T16:48:25.398508Z",
     "iopub.status.idle": "2023-07-14T16:48:25.633285Z",
     "shell.execute_reply": "2023-07-14T16:48:25.632506Z"
    }
   },
   "outputs": [
    {
     "data": {
      "image/svg+xml": [
       "<svg xmlns=\"http://www.w3.org/2000/svg\" width=\"486.6403515625\" height=\"240.0\"><line x1=\"30.0\" x2=\"456.6403515625\" y1=\"45.0\" y2=\"45.0\" stroke=\"#1967d2\" stroke-width=\"1\" /><line x1=\"30.0\" x2=\"456.6403515625\" y1=\"95.0\" y2=\"95.0\" stroke=\"#1967d2\" stroke-width=\"1\" /><line x1=\"30.0\" x2=\"456.6403515625\" y1=\"145.0\" y2=\"145.0\" stroke=\"#1967d2\" stroke-width=\"1\" /><line x1=\"30.0\" x2=\"456.6403515625\" y1=\"195.0\" y2=\"195.0\" stroke=\"#1967d2\" stroke-width=\"1\" /><line x1=\"286.6403515625\" x2=\"376.6403515625\" y1=\"5.0\" y2=\"5.0\" stroke=\"black\" stroke-width=\"1\" /><line x1=\"286.6403515625\" x2=\"376.6403515625\" y1=\"235.0\" y2=\"235.0\" stroke=\"black\" stroke-width=\"1\" /><line x1=\"120.0\" x2=\"216.6403515625\" y1=\"5.0\" y2=\"5.0\" stroke=\"black\" stroke-width=\"1\" /><line x1=\"120.0\" x2=\"216.6403515625\" y1=\"235.0\" y2=\"235.0\" stroke=\"black\" stroke-width=\"1\" /><line x1=\"90.0\" x2=\"90.0\" y1=\"145.0\" y2=\"195.0\" stroke=\"black\" stroke-width=\"3\" /><line x1=\"143.32017578125\" x2=\"143.32017578125\" y1=\"45.0\" y2=\"145.0\" stroke=\"black\" stroke-width=\"3\" /><line x1=\"186.6403515625\" x2=\"186.6403515625\" y1=\"95.0\" y2=\"195.0\" stroke=\"black\" stroke-width=\"3\" /><line x1=\"346.6403515625\" x2=\"346.6403515625\" y1=\"45.0\" y2=\"195.0\" stroke=\"black\" stroke-width=\"3\" /><line x1=\"416.6403515625\" x2=\"416.6403515625\" y1=\"95.0\" y2=\"145.0\" stroke=\"black\" stroke-width=\"3\" /><line x1=\"286.6403515625\" x2=\"286.6403515625\" y1=\"5.0\" y2=\"15.0\" stroke=\"black\" stroke-width=\"3\" /><line x1=\"376.6403515625\" x2=\"376.6403515625\" y1=\"5.0\" y2=\"15.0\" stroke=\"black\" stroke-width=\"3\" /><line x1=\"286.6403515625\" x2=\"286.6403515625\" y1=\"225.0\" y2=\"235.0\" stroke=\"black\" stroke-width=\"3\" /><line x1=\"376.6403515625\" x2=\"376.6403515625\" y1=\"225.0\" y2=\"235.0\" stroke=\"black\" stroke-width=\"3\" /><line x1=\"120.0\" x2=\"120.0\" y1=\"5.0\" y2=\"15.0\" stroke=\"black\" stroke-width=\"3\" /><line x1=\"216.6403515625\" x2=\"216.6403515625\" y1=\"5.0\" y2=\"15.0\" stroke=\"black\" stroke-width=\"3\" /><line x1=\"120.0\" x2=\"120.0\" y1=\"225.0\" y2=\"235.0\" stroke=\"black\" stroke-width=\"3\" /><line x1=\"216.6403515625\" x2=\"216.6403515625\" y1=\"225.0\" y2=\"235.0\" stroke=\"black\" stroke-width=\"3\" /><rect x=\"10.0\" y=\"25.0\" width=\"40\" height=\"40\" stroke=\"black\" fill=\"white\" stroke-width=\"0\" /><text x=\"30.0\" y=\"45.0\" dominant-baseline=\"middle\" text-anchor=\"middle\" font-size=\"14px\" font-family=\"Arial\">0: </text><rect x=\"10.0\" y=\"75.0\" width=\"40\" height=\"40\" stroke=\"black\" fill=\"white\" stroke-width=\"0\" /><text x=\"30.0\" y=\"95.0\" dominant-baseline=\"middle\" text-anchor=\"middle\" font-size=\"14px\" font-family=\"Arial\">1: </text><rect x=\"10.0\" y=\"125.0\" width=\"40\" height=\"40\" stroke=\"black\" fill=\"white\" stroke-width=\"0\" /><text x=\"30.0\" y=\"145.0\" dominant-baseline=\"middle\" text-anchor=\"middle\" font-size=\"14px\" font-family=\"Arial\">2: </text><rect x=\"10.0\" y=\"175.0\" width=\"40\" height=\"40\" stroke=\"black\" fill=\"white\" stroke-width=\"0\" /><text x=\"30.0\" y=\"195.0\" dominant-baseline=\"middle\" text-anchor=\"middle\" font-size=\"14px\" font-family=\"Arial\">3: </text><text x=\"90.0\" y=\"198.0\" dominant-baseline=\"middle\" text-anchor=\"middle\" font-size=\"40px\" font-family=\"Arial\">×</text><text x=\"90.0\" y=\"148.0\" dominant-baseline=\"middle\" text-anchor=\"middle\" font-size=\"40px\" font-family=\"Arial\">×</text><rect x=\"70.0\" y=\"75.0\" width=\"40\" height=\"40\" stroke=\"black\" fill=\"white\" stroke-width=\"1\" /><text x=\"90.0\" y=\"95.0\" dominant-baseline=\"middle\" text-anchor=\"middle\" font-size=\"18px\" font-family=\"Arial\">X</text><rect x=\"119.99999999999999\" y=\"25.0\" width=\"46.6403515625\" height=\"40\" stroke=\"black\" fill=\"white\" stroke-width=\"1\" /><text x=\"143.32017578125\" y=\"45.0\" dominant-baseline=\"middle\" text-anchor=\"middle\" font-size=\"14px\" font-family=\"Arial\">iSwap</text><rect x=\"119.99999999999999\" y=\"125.0\" width=\"46.6403515625\" height=\"40\" stroke=\"black\" fill=\"white\" stroke-width=\"1\" /><text x=\"143.32017578125\" y=\"145.0\" dominant-baseline=\"middle\" text-anchor=\"middle\" font-size=\"14px\" font-family=\"Arial\">iSwap</text><circle cx=\"186.6403515625\" cy=\"195.0\" r=\"10.0\" /><circle cx=\"186.6403515625\" cy=\"95.0\" r=\"10.0\" /><rect x=\"236.64035156249997\" y=\"25.0\" width=\"40\" height=\"40\" stroke=\"black\" fill=\"white\" stroke-width=\"1\" /><text x=\"256.6403515625\" y=\"45.0\" dominant-baseline=\"middle\" text-anchor=\"middle\" font-size=\"18px\" font-family=\"Arial\">T</text><rect x=\"236.64035156249997\" y=\"175.0\" width=\"40\" height=\"40\" stroke=\"black\" fill=\"white\" stroke-width=\"1\" /><text x=\"256.6403515625\" y=\"195.0\" dominant-baseline=\"middle\" text-anchor=\"middle\" font-size=\"18px\" font-family=\"Arial\">T</text><rect x=\"236.64035156249997\" y=\"125.0\" width=\"40\" height=\"40\" stroke=\"black\" fill=\"white\" stroke-width=\"1\" /><text x=\"256.6403515625\" y=\"145.0\" dominant-baseline=\"middle\" text-anchor=\"middle\" font-size=\"18px\" font-family=\"Arial\">S</text><rect x=\"286.6403515625\" y=\"75.0\" width=\"40\" height=\"40\" stroke=\"black\" fill=\"white\" stroke-width=\"1\" /><text x=\"306.6403515625\" y=\"95.0\" dominant-baseline=\"middle\" text-anchor=\"middle\" font-size=\"18px\" font-family=\"Arial\">X</text><rect x=\"286.6403515625\" y=\"125.0\" width=\"40\" height=\"40\" stroke=\"black\" fill=\"white\" stroke-width=\"1\" /><text x=\"306.6403515625\" y=\"145.0\" dominant-baseline=\"middle\" text-anchor=\"middle\" font-size=\"18px\" font-family=\"Arial\">S</text><circle cx=\"346.6403515625\" cy=\"195.0\" r=\"10.0\" /><circle cx=\"346.6403515625\" cy=\"45.0\" r=\"10.0\" /><rect x=\"396.6403515625\" y=\"25.0\" width=\"40\" height=\"40\" stroke=\"black\" fill=\"white\" stroke-width=\"1\" /><text x=\"416.6403515625\" y=\"45.0\" dominant-baseline=\"middle\" text-anchor=\"middle\" font-size=\"18px\" font-family=\"Arial\">T</text><circle cx=\"416.6403515625\" cy=\"145.0\" r=\"10.0\" /><rect x=\"396.6403515625\" y=\"75.0\" width=\"40\" height=\"40\" stroke=\"black\" fill=\"white\" stroke-width=\"1\" /><text x=\"416.6403515625\" y=\"95.0\" dominant-baseline=\"middle\" text-anchor=\"middle\" font-size=\"18px\" font-family=\"Arial\">X</text></svg>"
      ],
      "text/plain": [
       "<cirq.contrib.svg.svg.SVGCircuit at 0x7fa70f304f10>"
      ]
     },
     "metadata": {},
     "output_type": "display_data"
    },
    {
     "data": {
      "image/svg+xml": [
       "<svg xmlns=\"http://www.w3.org/2000/svg\" xmlns:xlink=\"http://www.w3.org/1999/xlink\" width=\"616pt\" height=\"236pt\" viewBox=\"0.00 0.00 616.00 236.00\">\n",
       "<g id=\"graph0\" class=\"graph\" transform=\"scale(1 1) rotate(0) translate(4 232)\">\n",
       "<title>my_graph</title>\n",
       "<polygon fill=\"white\" stroke=\"transparent\" points=\"-4,4 -4,-232 612,-232 612,4 -4,4\"/>\n",
       "<!-- qubits_G42 -->\n",
       "<g id=\"node1\" class=\"node\">\n",
       "<title>qubits_G42</title>\n",
       "<text text-anchor=\"middle\" x=\"32.5\" y=\"-176.3\" font-family=\"Times,serif\" font-size=\"14.00\">qubits[0]</text>\n",
       "</g>\n",
       "<!-- CirqGateAsBloq_G16 -->\n",
       "<g id=\"node14\" class=\"node\">\n",
       "<title>CirqGateAsBloq_G16</title>\n",
       "<polygon fill=\"none\" stroke=\"black\" points=\"190,-176 190,-193 244,-193 244,-176 190,-176\"/>\n",
       "<text text-anchor=\"start\" x=\"193\" y=\"-182\" font-family=\"Times,serif\" font-size=\"10.00\">cirq.ISWAP</text>\n",
       "<polygon fill=\"none\" stroke=\"black\" points=\"190,-155 190,-176 244,-176 244,-155 190,-155\"/>\n",
       "<text text-anchor=\"start\" x=\"210\" y=\"-161.8\" font-family=\"Times,serif\" font-size=\"14.00\">q0</text>\n",
       "<polygon fill=\"none\" stroke=\"black\" points=\"190,-134 190,-155 244,-155 244,-134 190,-134\"/>\n",
       "<text text-anchor=\"start\" x=\"210\" y=\"-140.8\" font-family=\"Times,serif\" font-size=\"14.00\">q1</text>\n",
       "</g>\n",
       "<!-- qubits_G42&#45;&gt;CirqGateAsBloq_G16 -->\n",
       "<g id=\"edge4\" class=\"edge\">\n",
       "<title>qubits_G42:e-&gt;CirqGateAsBloq_G16:w</title>\n",
       "<path fill=\"none\" stroke=\"black\" d=\"M65,-180C120.14,-180 133.73,-166.38 187.73,-166.01\"/>\n",
       "<ellipse fill=\"black\" stroke=\"black\" cx=\"189\" cy=\"-166\" rx=\"1\" ry=\"1\"/>\n",
       "<text text-anchor=\"middle\" x=\"127.5\" y=\"-180\" font-family=\"Times,serif\" font-size=\"10.00\">1</text>\n",
       "</g>\n",
       "<!-- qubits_G37 -->\n",
       "<g id=\"node2\" class=\"node\">\n",
       "<title>qubits_G37</title>\n",
       "<text text-anchor=\"middle\" x=\"32.5\" y=\"-14.3\" font-family=\"Times,serif\" font-size=\"14.00\">qubits[1]</text>\n",
       "</g>\n",
       "<!-- CirqGateAsBloq_G4 -->\n",
       "<g id=\"node8\" class=\"node\">\n",
       "<title>CirqGateAsBloq_G4</title>\n",
       "<polygon fill=\"none\" stroke=\"black\" points=\"111.5,-36 111.5,-53 143.5,-53 143.5,-36 111.5,-36\"/>\n",
       "<text text-anchor=\"start\" x=\"114.5\" y=\"-42\" font-family=\"Times,serif\" font-size=\"10.00\">cirq.X</text>\n",
       "<polygon fill=\"none\" stroke=\"black\" points=\"111.5,-15 111.5,-36 143.5,-36 143.5,-15 111.5,-15\"/>\n",
       "<text text-anchor=\"start\" x=\"120.5\" y=\"-21.8\" font-family=\"Times,serif\" font-size=\"14.00\">q0</text>\n",
       "</g>\n",
       "<!-- qubits_G37&#45;&gt;CirqGateAsBloq_G4 -->\n",
       "<g id=\"edge3\" class=\"edge\">\n",
       "<title>qubits_G37:e-&gt;CirqGateAsBloq_G4:w</title>\n",
       "<path fill=\"none\" stroke=\"black\" d=\"M65,-18C84.66,-18 89.66,-24.46 108.17,-24.97\"/>\n",
       "<ellipse fill=\"black\" stroke=\"black\" cx=\"109.5\" cy=\"-24.99\" rx=\"1\" ry=\"1\"/>\n",
       "<text text-anchor=\"middle\" x=\"83.5\" y=\"-24\" font-family=\"Times,serif\" font-size=\"10.00\">1</text>\n",
       "</g>\n",
       "<!-- qubits_G44 -->\n",
       "<g id=\"node3\" class=\"node\">\n",
       "<title>qubits_G44</title>\n",
       "<text text-anchor=\"middle\" x=\"32.5\" y=\"-68.3\" font-family=\"Times,serif\" font-size=\"14.00\">qubits[2]</text>\n",
       "</g>\n",
       "<!-- CirqGateAsBloq -->\n",
       "<g id=\"node5\" class=\"node\">\n",
       "<title>CirqGateAsBloq</title>\n",
       "<polygon fill=\"none\" stroke=\"black\" points=\"102.5,-123 102.5,-140 153.5,-140 153.5,-123 102.5,-123\"/>\n",
       "<text text-anchor=\"start\" x=\"105.5\" y=\"-129\" font-family=\"Times,serif\" font-size=\"10.00\">cirq.SWAP</text>\n",
       "<polygon fill=\"none\" stroke=\"black\" points=\"102.5,-102 102.5,-123 153.5,-123 153.5,-102 102.5,-102\"/>\n",
       "<text text-anchor=\"start\" x=\"121\" y=\"-108.8\" font-family=\"Times,serif\" font-size=\"14.00\">q0</text>\n",
       "<polygon fill=\"none\" stroke=\"black\" points=\"102.5,-81 102.5,-102 153.5,-102 153.5,-81 102.5,-81\"/>\n",
       "<text text-anchor=\"start\" x=\"121\" y=\"-87.8\" font-family=\"Times,serif\" font-size=\"14.00\">q1</text>\n",
       "</g>\n",
       "<!-- qubits_G44&#45;&gt;CirqGateAsBloq -->\n",
       "<g id=\"edge2\" class=\"edge\">\n",
       "<title>qubits_G44:e-&gt;CirqGateAsBloq:w</title>\n",
       "<path fill=\"none\" stroke=\"black\" d=\"M65,-72C82.76,-72 83.48,-89.54 99.92,-90.92\"/>\n",
       "<ellipse fill=\"black\" stroke=\"black\" cx=\"101\" cy=\"-90.96\" rx=\"1\" ry=\"1\"/>\n",
       "<text text-anchor=\"middle\" x=\"83.5\" y=\"-84\" font-family=\"Times,serif\" font-size=\"10.00\">1</text>\n",
       "</g>\n",
       "<!-- qubits_G27 -->\n",
       "<g id=\"node4\" class=\"node\">\n",
       "<title>qubits_G27</title>\n",
       "<text text-anchor=\"middle\" x=\"32.5\" y=\"-122.3\" font-family=\"Times,serif\" font-size=\"14.00\">qubits[3]</text>\n",
       "</g>\n",
       "<!-- qubits_G27&#45;&gt;CirqGateAsBloq -->\n",
       "<g id=\"edge1\" class=\"edge\">\n",
       "<title>qubits_G27:e-&gt;CirqGateAsBloq:w</title>\n",
       "<path fill=\"none\" stroke=\"black\" d=\"M65,-126C81.61,-126 84.34,-114.19 99.65,-113.08\"/>\n",
       "<ellipse fill=\"black\" stroke=\"black\" cx=\"101\" cy=\"-113.04\" rx=\"1\" ry=\"1\"/>\n",
       "<text text-anchor=\"middle\" x=\"83.5\" y=\"-122\" font-family=\"Times,serif\" font-size=\"10.00\">1</text>\n",
       "</g>\n",
       "<!-- CirqGateAsBloq&#45;&gt;CirqGateAsBloq_G16 -->\n",
       "<g id=\"edge5\" class=\"edge\">\n",
       "<title>CirqGateAsBloq:e-&gt;CirqGateAsBloq_G16:w</title>\n",
       "<path fill=\"none\" stroke=\"black\" d=\"M153,-91C180.94,-91 162.35,-141.14 187.75,-143.88\"/>\n",
       "<ellipse fill=\"black\" stroke=\"black\" cx=\"189\" cy=\"-143.95\" rx=\"1\" ry=\"1\"/>\n",
       "<text text-anchor=\"middle\" x=\"171.5\" y=\"-122\" font-family=\"Times,serif\" font-size=\"10.00\">1</text>\n",
       "</g>\n",
       "<!-- CirqGateAsBloq_G18 -->\n",
       "<g id=\"node15\" class=\"node\">\n",
       "<title>CirqGateAsBloq_G18</title>\n",
       "<polygon fill=\"none\" stroke=\"black\" points=\"199,-76 199,-93 236,-93 236,-76 199,-76\"/>\n",
       "<text text-anchor=\"start\" x=\"202\" y=\"-82\" font-family=\"Times,serif\" font-size=\"10.00\">cirq.CZ</text>\n",
       "<polygon fill=\"none\" stroke=\"black\" points=\"199,-55 199,-76 236,-76 236,-55 199,-55\"/>\n",
       "<text text-anchor=\"start\" x=\"210.5\" y=\"-61.8\" font-family=\"Times,serif\" font-size=\"14.00\">q0</text>\n",
       "<polygon fill=\"none\" stroke=\"black\" points=\"199,-34 199,-55 236,-55 236,-34 199,-34\"/>\n",
       "<text text-anchor=\"start\" x=\"210.5\" y=\"-40.8\" font-family=\"Times,serif\" font-size=\"14.00\">q1</text>\n",
       "</g>\n",
       "<!-- CirqGateAsBloq&#45;&gt;CirqGateAsBloq_G18 -->\n",
       "<g id=\"edge6\" class=\"edge\">\n",
       "<title>CirqGateAsBloq:e-&gt;CirqGateAsBloq_G18:w</title>\n",
       "<path fill=\"none\" stroke=\"black\" d=\"M153,-113C170.49,-113 158.29,-90.01 171,-78 180.02,-69.47 184.38,-66.34 195.92,-66.03\"/>\n",
       "<ellipse fill=\"black\" stroke=\"black\" cx=\"197\" cy=\"-66.01\" rx=\"1\" ry=\"1\"/>\n",
       "<text text-anchor=\"middle\" x=\"171.5\" y=\"-81\" font-family=\"Times,serif\" font-size=\"10.00\">1</text>\n",
       "</g>\n",
       "<!-- CirqGateAsBloq_G0 -->\n",
       "<g id=\"node6\" class=\"node\">\n",
       "<title>CirqGateAsBloq_G0</title>\n",
       "<polygon fill=\"none\" stroke=\"black\" points=\"281.5,-142 281.5,-159 311.5,-159 311.5,-142 281.5,-142\"/>\n",
       "<text text-anchor=\"start\" x=\"284.5\" y=\"-148\" font-family=\"Times,serif\" font-size=\"10.00\">cirq.S</text>\n",
       "<polygon fill=\"none\" stroke=\"black\" points=\"281.5,-121 281.5,-142 311.5,-142 311.5,-121 281.5,-121\"/>\n",
       "<text text-anchor=\"start\" x=\"289.5\" y=\"-127.8\" font-family=\"Times,serif\" font-size=\"14.00\">q0</text>\n",
       "</g>\n",
       "<!-- CirqGateAsBloq_G6 -->\n",
       "<g id=\"node9\" class=\"node\">\n",
       "<title>CirqGateAsBloq_G6</title>\n",
       "<polygon fill=\"none\" stroke=\"black\" points=\"383.5,-115 383.5,-132 413.5,-132 413.5,-115 383.5,-115\"/>\n",
       "<text text-anchor=\"start\" x=\"386.5\" y=\"-121\" font-family=\"Times,serif\" font-size=\"10.00\">cirq.S</text>\n",
       "<polygon fill=\"none\" stroke=\"black\" points=\"383.5,-94 383.5,-115 413.5,-115 413.5,-94 383.5,-94\"/>\n",
       "<text text-anchor=\"start\" x=\"391.5\" y=\"-100.8\" font-family=\"Times,serif\" font-size=\"14.00\">q0</text>\n",
       "</g>\n",
       "<!-- CirqGateAsBloq_G0&#45;&gt;CirqGateAsBloq_G6 -->\n",
       "<g id=\"edge12\" class=\"edge\">\n",
       "<title>CirqGateAsBloq_G0:e-&gt;CirqGateAsBloq_G6:w</title>\n",
       "<path fill=\"none\" stroke=\"black\" d=\"M312,-131C344.77,-131 348.77,-105.25 380.19,-104.04\"/>\n",
       "<ellipse fill=\"black\" stroke=\"black\" cx=\"381.5\" cy=\"-104.02\" rx=\"1\" ry=\"1\"/>\n",
       "<text text-anchor=\"middle\" x=\"346\" y=\"-130\" font-family=\"Times,serif\" font-size=\"10.00\">1</text>\n",
       "</g>\n",
       "<!-- CirqGateAsBloq_G2 -->\n",
       "<g id=\"node7\" class=\"node\">\n",
       "<title>CirqGateAsBloq_G2</title>\n",
       "<polygon fill=\"none\" stroke=\"black\" points=\"380.5,-194 380.5,-211 417.5,-211 417.5,-194 380.5,-194\"/>\n",
       "<text text-anchor=\"start\" x=\"383.5\" y=\"-200\" font-family=\"Times,serif\" font-size=\"10.00\">cirq.CZ</text>\n",
       "<polygon fill=\"none\" stroke=\"black\" points=\"380.5,-173 380.5,-194 417.5,-194 417.5,-173 380.5,-173\"/>\n",
       "<text text-anchor=\"start\" x=\"392\" y=\"-179.8\" font-family=\"Times,serif\" font-size=\"14.00\">q0</text>\n",
       "<polygon fill=\"none\" stroke=\"black\" points=\"380.5,-152 380.5,-173 417.5,-173 417.5,-152 380.5,-152\"/>\n",
       "<text text-anchor=\"start\" x=\"392\" y=\"-158.8\" font-family=\"Times,serif\" font-size=\"14.00\">q1</text>\n",
       "</g>\n",
       "<!-- CirqGateAsBloq_G10 -->\n",
       "<g id=\"node11\" class=\"node\">\n",
       "<title>CirqGateAsBloq_G10</title>\n",
       "<polygon fill=\"none\" stroke=\"black\" points=\"465,-157 465,-174 496,-174 496,-157 465,-157\"/>\n",
       "<text text-anchor=\"start\" x=\"468\" y=\"-163\" font-family=\"Times,serif\" font-size=\"10.00\">cirq.T</text>\n",
       "<polygon fill=\"none\" stroke=\"black\" points=\"465,-136 465,-157 496,-157 496,-136 465,-136\"/>\n",
       "<text text-anchor=\"start\" x=\"473.5\" y=\"-142.8\" font-family=\"Times,serif\" font-size=\"14.00\">q0</text>\n",
       "</g>\n",
       "<!-- CirqGateAsBloq_G2&#45;&gt;CirqGateAsBloq_G10 -->\n",
       "<g id=\"edge15\" class=\"edge\">\n",
       "<title>CirqGateAsBloq_G2:e-&gt;CirqGateAsBloq_G10:w</title>\n",
       "<path fill=\"none\" stroke=\"black\" d=\"M417,-162C438.38,-162 441.74,-146.98 461.99,-146.05\"/>\n",
       "<ellipse fill=\"black\" stroke=\"black\" cx=\"463\" cy=\"-146.02\" rx=\"1\" ry=\"1\"/>\n",
       "<text text-anchor=\"middle\" x=\"435.5\" y=\"-160\" font-family=\"Times,serif\" font-size=\"10.00\">1</text>\n",
       "</g>\n",
       "<!-- qubits_G24 -->\n",
       "<g id=\"node20\" class=\"node\">\n",
       "<title>qubits_G24</title>\n",
       "<text text-anchor=\"middle\" x=\"575.5\" y=\"-206.3\" font-family=\"Times,serif\" font-size=\"14.00\">qubits[3]</text>\n",
       "</g>\n",
       "<!-- CirqGateAsBloq_G2&#45;&gt;qubits_G24 -->\n",
       "<g id=\"edge21\" class=\"edge\">\n",
       "<title>CirqGateAsBloq_G2:e-&gt;qubits_G24:w</title>\n",
       "<path fill=\"none\" stroke=\"black\" d=\"M417,-184C473.4,-184 485.49,-209.29 540.68,-209.99\"/>\n",
       "<ellipse fill=\"black\" stroke=\"black\" cx=\"542\" cy=\"-209.99\" rx=\"1\" ry=\"1\"/>\n",
       "<text text-anchor=\"middle\" x=\"480\" y=\"-208\" font-family=\"Times,serif\" font-size=\"10.00\">1</text>\n",
       "</g>\n",
       "<!-- CirqGateAsBloq_G4&#45;&gt;CirqGateAsBloq_G18 -->\n",
       "<g id=\"edge7\" class=\"edge\">\n",
       "<title>CirqGateAsBloq_G4:e-&gt;CirqGateAsBloq_G18:w</title>\n",
       "<path fill=\"none\" stroke=\"black\" d=\"M144.5,-25C169.04,-25 172.58,-42.98 195.98,-43.96\"/>\n",
       "<ellipse fill=\"black\" stroke=\"black\" cx=\"197\" cy=\"-43.98\" rx=\"1\" ry=\"1\"/>\n",
       "<text text-anchor=\"middle\" x=\"171.5\" y=\"-38\" font-family=\"Times,serif\" font-size=\"10.00\">1</text>\n",
       "</g>\n",
       "<!-- CirqGateAsBloq_G12 -->\n",
       "<g id=\"node12\" class=\"node\">\n",
       "<title>CirqGateAsBloq_G12</title>\n",
       "<polygon fill=\"none\" stroke=\"black\" points=\"454,-97 454,-114 506,-114 506,-97 454,-97\"/>\n",
       "<text text-anchor=\"start\" x=\"457\" y=\"-103\" font-family=\"Times,serif\" font-size=\"10.00\">cirq.CNOT</text>\n",
       "<polygon fill=\"none\" stroke=\"black\" points=\"454,-76 454,-97 506,-97 506,-76 454,-76\"/>\n",
       "<text text-anchor=\"start\" x=\"473\" y=\"-82.8\" font-family=\"Times,serif\" font-size=\"14.00\">q0</text>\n",
       "<polygon fill=\"none\" stroke=\"black\" points=\"454,-55 454,-76 506,-76 506,-55 454,-55\"/>\n",
       "<text text-anchor=\"start\" x=\"473\" y=\"-61.8\" font-family=\"Times,serif\" font-size=\"14.00\">q1</text>\n",
       "</g>\n",
       "<!-- CirqGateAsBloq_G6&#45;&gt;CirqGateAsBloq_G12 -->\n",
       "<g id=\"edge16\" class=\"edge\">\n",
       "<title>CirqGateAsBloq_G6:e-&gt;CirqGateAsBloq_G12:w</title>\n",
       "<path fill=\"none\" stroke=\"black\" d=\"M414.5,-104C432.87,-104 434.76,-88.3 451.84,-87.08\"/>\n",
       "<ellipse fill=\"black\" stroke=\"black\" cx=\"453\" cy=\"-87.04\" rx=\"1\" ry=\"1\"/>\n",
       "<text text-anchor=\"middle\" x=\"435.5\" y=\"-97\" font-family=\"Times,serif\" font-size=\"10.00\">1</text>\n",
       "</g>\n",
       "<!-- CirqGateAsBloq_G8 -->\n",
       "<g id=\"node10\" class=\"node\">\n",
       "<title>CirqGateAsBloq_G8</title>\n",
       "<polygon fill=\"none\" stroke=\"black\" points=\"281.5,-198 281.5,-215 312.5,-215 312.5,-198 281.5,-198\"/>\n",
       "<text text-anchor=\"start\" x=\"284.5\" y=\"-204\" font-family=\"Times,serif\" font-size=\"10.00\">cirq.T</text>\n",
       "<polygon fill=\"none\" stroke=\"black\" points=\"281.5,-177 281.5,-198 312.5,-198 312.5,-177 281.5,-177\"/>\n",
       "<text text-anchor=\"start\" x=\"290\" y=\"-183.8\" font-family=\"Times,serif\" font-size=\"14.00\">q0</text>\n",
       "</g>\n",
       "<!-- CirqGateAsBloq_G8&#45;&gt;CirqGateAsBloq_G2 -->\n",
       "<g id=\"edge14\" class=\"edge\">\n",
       "<title>CirqGateAsBloq_G8:e-&gt;CirqGateAsBloq_G2:w</title>\n",
       "<path fill=\"none\" stroke=\"black\" d=\"M312,-187C323,-187 320.13,-174.86 330,-170 349.56,-160.37 357.03,-161.89 377.93,-161.99\"/>\n",
       "<ellipse fill=\"black\" stroke=\"black\" cx=\"379\" cy=\"-162\" rx=\"1\" ry=\"1\"/>\n",
       "<text text-anchor=\"middle\" x=\"346\" y=\"-173\" font-family=\"Times,serif\" font-size=\"10.00\">1</text>\n",
       "</g>\n",
       "<!-- qubits_G40 -->\n",
       "<g id=\"node17\" class=\"node\">\n",
       "<title>qubits_G40</title>\n",
       "<text text-anchor=\"middle\" x=\"575.5\" y=\"-142.3\" font-family=\"Times,serif\" font-size=\"14.00\">qubits[0]</text>\n",
       "</g>\n",
       "<!-- CirqGateAsBloq_G10&#45;&gt;qubits_G40 -->\n",
       "<g id=\"edge18\" class=\"edge\">\n",
       "<title>CirqGateAsBloq_G10:e-&gt;qubits_G40:w</title>\n",
       "<path fill=\"none\" stroke=\"black\" d=\"M497,-146C516.65,-146 522.13,-146 540.67,-146\"/>\n",
       "<ellipse fill=\"black\" stroke=\"black\" cx=\"542\" cy=\"-146\" rx=\"1\" ry=\"1\"/>\n",
       "<text text-anchor=\"middle\" x=\"524.5\" y=\"-149\" font-family=\"Times,serif\" font-size=\"10.00\">1</text>\n",
       "</g>\n",
       "<!-- qubits_G36 -->\n",
       "<g id=\"node18\" class=\"node\">\n",
       "<title>qubits_G36</title>\n",
       "<text text-anchor=\"middle\" x=\"575.5\" y=\"-33.3\" font-family=\"Times,serif\" font-size=\"14.00\">qubits[1]</text>\n",
       "</g>\n",
       "<!-- CirqGateAsBloq_G12&#45;&gt;qubits_G36 -->\n",
       "<g id=\"edge19\" class=\"edge\">\n",
       "<title>CirqGateAsBloq_G12:e-&gt;qubits_G36:w</title>\n",
       "<path fill=\"none\" stroke=\"black\" d=\"M506,-65C525.82,-65 522.67,-39.14 540.69,-37.12\"/>\n",
       "<ellipse fill=\"black\" stroke=\"black\" cx=\"542\" cy=\"-37.05\" rx=\"1\" ry=\"1\"/>\n",
       "<text text-anchor=\"middle\" x=\"524.5\" y=\"-55\" font-family=\"Times,serif\" font-size=\"10.00\">1</text>\n",
       "</g>\n",
       "<!-- qubits_G45 -->\n",
       "<g id=\"node19\" class=\"node\">\n",
       "<title>qubits_G45</title>\n",
       "<text text-anchor=\"middle\" x=\"575.5\" y=\"-87.3\" font-family=\"Times,serif\" font-size=\"14.00\">qubits[2]</text>\n",
       "</g>\n",
       "<!-- CirqGateAsBloq_G12&#45;&gt;qubits_G45 -->\n",
       "<g id=\"edge20\" class=\"edge\">\n",
       "<title>CirqGateAsBloq_G12:e-&gt;qubits_G45:w</title>\n",
       "<path fill=\"none\" stroke=\"black\" d=\"M506,-87C521.76,-87 526.06,-90.63 540.75,-90.97\"/>\n",
       "<ellipse fill=\"black\" stroke=\"black\" cx=\"542\" cy=\"-90.99\" rx=\"1\" ry=\"1\"/>\n",
       "<text text-anchor=\"middle\" x=\"524.5\" y=\"-92\" font-family=\"Times,serif\" font-size=\"10.00\">1</text>\n",
       "</g>\n",
       "<!-- CirqGateAsBloq_G14 -->\n",
       "<g id=\"node13\" class=\"node\">\n",
       "<title>CirqGateAsBloq_G14</title>\n",
       "<polygon fill=\"none\" stroke=\"black\" points=\"330,-63 330,-80 362,-80 362,-63 330,-63\"/>\n",
       "<text text-anchor=\"start\" x=\"333\" y=\"-69\" font-family=\"Times,serif\" font-size=\"10.00\">cirq.X</text>\n",
       "<polygon fill=\"none\" stroke=\"black\" points=\"330,-42 330,-63 362,-63 362,-42 330,-42\"/>\n",
       "<text text-anchor=\"start\" x=\"339\" y=\"-48.8\" font-family=\"Times,serif\" font-size=\"14.00\">q0</text>\n",
       "</g>\n",
       "<!-- CirqGateAsBloq_G14&#45;&gt;CirqGateAsBloq_G12 -->\n",
       "<g id=\"edge17\" class=\"edge\">\n",
       "<title>CirqGateAsBloq_G14:e-&gt;CirqGateAsBloq_G12:w</title>\n",
       "<path fill=\"none\" stroke=\"black\" d=\"M362,-52C402.49,-52 412.33,-64.5 451.62,-64.99\"/>\n",
       "<ellipse fill=\"black\" stroke=\"black\" cx=\"453\" cy=\"-64.99\" rx=\"1\" ry=\"1\"/>\n",
       "<text text-anchor=\"middle\" x=\"398.5\" y=\"-64\" font-family=\"Times,serif\" font-size=\"10.00\">1</text>\n",
       "</g>\n",
       "<!-- CirqGateAsBloq_G16&#45;&gt;CirqGateAsBloq_G0 -->\n",
       "<g id=\"edge10\" class=\"edge\">\n",
       "<title>CirqGateAsBloq_G16:e-&gt;CirqGateAsBloq_G0:w</title>\n",
       "<path fill=\"none\" stroke=\"black\" d=\"M244,-144C260.61,-144 263.34,-132.19 278.65,-131.08\"/>\n",
       "<ellipse fill=\"black\" stroke=\"black\" cx=\"280\" cy=\"-131.04\" rx=\"1\" ry=\"1\"/>\n",
       "<text text-anchor=\"middle\" x=\"262.5\" y=\"-140\" font-family=\"Times,serif\" font-size=\"10.00\">1</text>\n",
       "</g>\n",
       "<!-- CirqGateAsBloq_G16&#45;&gt;CirqGateAsBloq_G8 -->\n",
       "<g id=\"edge8\" class=\"edge\">\n",
       "<title>CirqGateAsBloq_G16:e-&gt;CirqGateAsBloq_G8:w</title>\n",
       "<path fill=\"none\" stroke=\"black\" d=\"M244,-166C262.17,-166 262.13,-185.39 278.87,-186.91\"/>\n",
       "<ellipse fill=\"black\" stroke=\"black\" cx=\"280\" cy=\"-186.96\" rx=\"1\" ry=\"1\"/>\n",
       "<text text-anchor=\"middle\" x=\"262.5\" y=\"-179\" font-family=\"Times,serif\" font-size=\"10.00\">1</text>\n",
       "</g>\n",
       "<!-- CirqGateAsBloq_G18&#45;&gt;CirqGateAsBloq_G14 -->\n",
       "<g id=\"edge11\" class=\"edge\">\n",
       "<title>CirqGateAsBloq_G18:e-&gt;CirqGateAsBloq_G14:w</title>\n",
       "<path fill=\"none\" stroke=\"black\" d=\"M237,-44C277.68,-44 288.11,-51.69 327.6,-51.99\"/>\n",
       "<ellipse fill=\"black\" stroke=\"black\" cx=\"329\" cy=\"-52\" rx=\"1\" ry=\"1\"/>\n",
       "<text text-anchor=\"middle\" x=\"262.5\" y=\"-49\" font-family=\"Times,serif\" font-size=\"10.00\">1</text>\n",
       "</g>\n",
       "<!-- CirqGateAsBloq_G20 -->\n",
       "<g id=\"node16\" class=\"node\">\n",
       "<title>CirqGateAsBloq_G20</title>\n",
       "<polygon fill=\"none\" stroke=\"black\" points=\"281.5,-86 281.5,-103 312.5,-103 312.5,-86 281.5,-86\"/>\n",
       "<text text-anchor=\"start\" x=\"284.5\" y=\"-92\" font-family=\"Times,serif\" font-size=\"10.00\">cirq.T</text>\n",
       "<polygon fill=\"none\" stroke=\"black\" points=\"281.5,-65 281.5,-86 312.5,-86 312.5,-65 281.5,-65\"/>\n",
       "<text text-anchor=\"start\" x=\"290\" y=\"-71.8\" font-family=\"Times,serif\" font-size=\"14.00\">q0</text>\n",
       "</g>\n",
       "<!-- CirqGateAsBloq_G18&#45;&gt;CirqGateAsBloq_G20 -->\n",
       "<g id=\"edge9\" class=\"edge\">\n",
       "<title>CirqGateAsBloq_G18:e-&gt;CirqGateAsBloq_G20:w</title>\n",
       "<path fill=\"none\" stroke=\"black\" d=\"M237,-66C256.18,-66 260.7,-74.31 278.73,-74.96\"/>\n",
       "<ellipse fill=\"black\" stroke=\"black\" cx=\"280\" cy=\"-74.98\" rx=\"1\" ry=\"1\"/>\n",
       "<text text-anchor=\"middle\" x=\"262.5\" y=\"-74\" font-family=\"Times,serif\" font-size=\"10.00\">1</text>\n",
       "</g>\n",
       "<!-- CirqGateAsBloq_G20&#45;&gt;CirqGateAsBloq_G2 -->\n",
       "<g id=\"edge13\" class=\"edge\">\n",
       "<title>CirqGateAsBloq_G20:e-&gt;CirqGateAsBloq_G2:w</title>\n",
       "<path fill=\"none\" stroke=\"black\" d=\"M312,-75C351.92,-75 304.67,-132.15 330,-163 344.82,-181.05 355.23,-183.84 377.78,-183.99\"/>\n",
       "<ellipse fill=\"black\" stroke=\"black\" cx=\"379\" cy=\"-184\" rx=\"1\" ry=\"1\"/>\n",
       "<text text-anchor=\"middle\" x=\"346\" y=\"-185\" font-family=\"Times,serif\" font-size=\"10.00\">1</text>\n",
       "</g>\n",
       "</g>\n",
       "</svg>"
      ],
      "text/plain": [
       "<IPython.core.display.SVG object>"
      ]
     },
     "metadata": {},
     "output_type": "display_data"
    }
   ],
   "source": [
    "# Make a random cirq circuit\n",
    "qubits = cirq.LineQubit.range(4)\n",
    "circuit = cirq.testing.random_circuit(qubits, n_moments=5, op_density=1.0, random_state=52)\n",
    "\n",
    "# Convert to CompositeBloq\n",
    "cbloq = CompositeBloq.from_cirq_circuit(circuit)\n",
    "display(SVGCircuit(circuit))\n",
    "show_bloq(cbloq)"
   ]
  },
  {
   "cell_type": "markdown",
   "id": "5d9997f4",
   "metadata": {},
   "source": [
    "### Unitaries\n",
    "\n",
    "Both containers support numerical contraction to a dense unitary matrix. Cirq contracts operations in order. Bloqs use `quimb` to find a good contraction ordering and perform the contraction. "
   ]
  },
  {
   "cell_type": "code",
   "execution_count": 5,
   "id": "85a40f2a",
   "metadata": {
    "execution": {
     "iopub.execute_input": "2023-07-14T16:48:25.636603Z",
     "iopub.status.busy": "2023-07-14T16:48:25.636357Z",
     "iopub.status.idle": "2023-07-14T16:48:25.645175Z",
     "shell.execute_reply": "2023-07-14T16:48:25.644389Z"
    }
   },
   "outputs": [],
   "source": [
    "import numpy as np\n",
    "\n",
    "bloq_unitary = cbloq.tensor_contract()\n",
    "cirq_unitary = circuit.unitary(qubits)\n",
    "np.testing.assert_allclose(cirq_unitary, bloq_unitary, atol=1e-8)"
   ]
  },
  {
   "cell_type": "markdown",
   "id": "2fe60767",
   "metadata": {},
   "source": [
    "### Back to `cirq.Circuit`"
   ]
  },
  {
   "cell_type": "code",
   "execution_count": 6,
   "id": "97be35a3",
   "metadata": {
    "execution": {
     "iopub.execute_input": "2023-07-14T16:48:25.647826Z",
     "iopub.status.busy": "2023-07-14T16:48:25.647592Z",
     "iopub.status.idle": "2023-07-14T16:48:25.787141Z",
     "shell.execute_reply": "2023-07-14T16:48:25.786619Z"
    }
   },
   "outputs": [
    {
     "data": {
      "image/svg+xml": [
       "<svg xmlns=\"http://www.w3.org/2000/svg\" width=\"486.6403515625\" height=\"240.0\"><line x1=\"30.0\" x2=\"456.6403515625\" y1=\"45.0\" y2=\"45.0\" stroke=\"#1967d2\" stroke-width=\"1\" /><line x1=\"30.0\" x2=\"456.6403515625\" y1=\"95.0\" y2=\"95.0\" stroke=\"#1967d2\" stroke-width=\"1\" /><line x1=\"30.0\" x2=\"456.6403515625\" y1=\"145.0\" y2=\"145.0\" stroke=\"#1967d2\" stroke-width=\"1\" /><line x1=\"30.0\" x2=\"456.6403515625\" y1=\"195.0\" y2=\"195.0\" stroke=\"#1967d2\" stroke-width=\"1\" /><line x1=\"286.6403515625\" x2=\"376.6403515625\" y1=\"5.0\" y2=\"5.0\" stroke=\"black\" stroke-width=\"1\" /><line x1=\"286.6403515625\" x2=\"376.6403515625\" y1=\"235.0\" y2=\"235.0\" stroke=\"black\" stroke-width=\"1\" /><line x1=\"120.0\" x2=\"216.6403515625\" y1=\"5.0\" y2=\"5.0\" stroke=\"black\" stroke-width=\"1\" /><line x1=\"120.0\" x2=\"216.6403515625\" y1=\"235.0\" y2=\"235.0\" stroke=\"black\" stroke-width=\"1\" /><line x1=\"90.0\" x2=\"90.0\" y1=\"145.0\" y2=\"195.0\" stroke=\"black\" stroke-width=\"3\" /><line x1=\"143.32017578125\" x2=\"143.32017578125\" y1=\"45.0\" y2=\"145.0\" stroke=\"black\" stroke-width=\"3\" /><line x1=\"186.6403515625\" x2=\"186.6403515625\" y1=\"95.0\" y2=\"195.0\" stroke=\"black\" stroke-width=\"3\" /><line x1=\"346.6403515625\" x2=\"346.6403515625\" y1=\"45.0\" y2=\"195.0\" stroke=\"black\" stroke-width=\"3\" /><line x1=\"416.6403515625\" x2=\"416.6403515625\" y1=\"95.0\" y2=\"145.0\" stroke=\"black\" stroke-width=\"3\" /><line x1=\"286.6403515625\" x2=\"286.6403515625\" y1=\"5.0\" y2=\"15.0\" stroke=\"black\" stroke-width=\"3\" /><line x1=\"376.6403515625\" x2=\"376.6403515625\" y1=\"5.0\" y2=\"15.0\" stroke=\"black\" stroke-width=\"3\" /><line x1=\"286.6403515625\" x2=\"286.6403515625\" y1=\"225.0\" y2=\"235.0\" stroke=\"black\" stroke-width=\"3\" /><line x1=\"376.6403515625\" x2=\"376.6403515625\" y1=\"225.0\" y2=\"235.0\" stroke=\"black\" stroke-width=\"3\" /><line x1=\"120.0\" x2=\"120.0\" y1=\"5.0\" y2=\"15.0\" stroke=\"black\" stroke-width=\"3\" /><line x1=\"216.6403515625\" x2=\"216.6403515625\" y1=\"5.0\" y2=\"15.0\" stroke=\"black\" stroke-width=\"3\" /><line x1=\"120.0\" x2=\"120.0\" y1=\"225.0\" y2=\"235.0\" stroke=\"black\" stroke-width=\"3\" /><line x1=\"216.6403515625\" x2=\"216.6403515625\" y1=\"225.0\" y2=\"235.0\" stroke=\"black\" stroke-width=\"3\" /><rect x=\"10.0\" y=\"25.0\" width=\"40\" height=\"40\" stroke=\"black\" fill=\"white\" stroke-width=\"0\" /><text x=\"30.0\" y=\"45.0\" dominant-baseline=\"middle\" text-anchor=\"middle\" font-size=\"14px\" font-family=\"Arial\">0: </text><rect x=\"10.0\" y=\"75.0\" width=\"40\" height=\"40\" stroke=\"black\" fill=\"white\" stroke-width=\"0\" /><text x=\"30.0\" y=\"95.0\" dominant-baseline=\"middle\" text-anchor=\"middle\" font-size=\"14px\" font-family=\"Arial\">1: </text><rect x=\"10.0\" y=\"125.0\" width=\"40\" height=\"40\" stroke=\"black\" fill=\"white\" stroke-width=\"0\" /><text x=\"30.0\" y=\"145.0\" dominant-baseline=\"middle\" text-anchor=\"middle\" font-size=\"14px\" font-family=\"Arial\">2: </text><rect x=\"10.0\" y=\"175.0\" width=\"40\" height=\"40\" stroke=\"black\" fill=\"white\" stroke-width=\"0\" /><text x=\"30.0\" y=\"195.0\" dominant-baseline=\"middle\" text-anchor=\"middle\" font-size=\"14px\" font-family=\"Arial\">3: </text><text x=\"90.0\" y=\"198.0\" dominant-baseline=\"middle\" text-anchor=\"middle\" font-size=\"40px\" font-family=\"Arial\">×</text><text x=\"90.0\" y=\"148.0\" dominant-baseline=\"middle\" text-anchor=\"middle\" font-size=\"40px\" font-family=\"Arial\">×</text><rect x=\"70.0\" y=\"75.0\" width=\"40\" height=\"40\" stroke=\"black\" fill=\"white\" stroke-width=\"1\" /><text x=\"90.0\" y=\"95.0\" dominant-baseline=\"middle\" text-anchor=\"middle\" font-size=\"18px\" font-family=\"Arial\">X</text><rect x=\"119.99999999999999\" y=\"25.0\" width=\"46.6403515625\" height=\"40\" stroke=\"black\" fill=\"white\" stroke-width=\"1\" /><text x=\"143.32017578125\" y=\"45.0\" dominant-baseline=\"middle\" text-anchor=\"middle\" font-size=\"14px\" font-family=\"Arial\">iSwap</text><rect x=\"119.99999999999999\" y=\"125.0\" width=\"46.6403515625\" height=\"40\" stroke=\"black\" fill=\"white\" stroke-width=\"1\" /><text x=\"143.32017578125\" y=\"145.0\" dominant-baseline=\"middle\" text-anchor=\"middle\" font-size=\"14px\" font-family=\"Arial\">iSwap</text><circle cx=\"186.6403515625\" cy=\"195.0\" r=\"10.0\" /><circle cx=\"186.6403515625\" cy=\"95.0\" r=\"10.0\" /><rect x=\"236.64035156249997\" y=\"25.0\" width=\"40\" height=\"40\" stroke=\"black\" fill=\"white\" stroke-width=\"1\" /><text x=\"256.6403515625\" y=\"45.0\" dominant-baseline=\"middle\" text-anchor=\"middle\" font-size=\"18px\" font-family=\"Arial\">T</text><rect x=\"236.64035156249997\" y=\"125.0\" width=\"40\" height=\"40\" stroke=\"black\" fill=\"white\" stroke-width=\"1\" /><text x=\"256.6403515625\" y=\"145.0\" dominant-baseline=\"middle\" text-anchor=\"middle\" font-size=\"18px\" font-family=\"Arial\">S</text><rect x=\"236.64035156249997\" y=\"175.0\" width=\"40\" height=\"40\" stroke=\"black\" fill=\"white\" stroke-width=\"1\" /><text x=\"256.6403515625\" y=\"195.0\" dominant-baseline=\"middle\" text-anchor=\"middle\" font-size=\"18px\" font-family=\"Arial\">T</text><rect x=\"236.64035156249997\" y=\"75.0\" width=\"40\" height=\"40\" stroke=\"black\" fill=\"white\" stroke-width=\"1\" /><text x=\"256.6403515625\" y=\"95.0\" dominant-baseline=\"middle\" text-anchor=\"middle\" font-size=\"18px\" font-family=\"Arial\">X</text><rect x=\"286.6403515625\" y=\"125.0\" width=\"40\" height=\"40\" stroke=\"black\" fill=\"white\" stroke-width=\"1\" /><text x=\"306.6403515625\" y=\"145.0\" dominant-baseline=\"middle\" text-anchor=\"middle\" font-size=\"18px\" font-family=\"Arial\">S</text><circle cx=\"346.6403515625\" cy=\"195.0\" r=\"10.0\" /><circle cx=\"346.6403515625\" cy=\"45.0\" r=\"10.0\" /><circle cx=\"416.6403515625\" cy=\"145.0\" r=\"10.0\" /><rect x=\"396.6403515625\" y=\"75.0\" width=\"40\" height=\"40\" stroke=\"black\" fill=\"white\" stroke-width=\"1\" /><text x=\"416.6403515625\" y=\"95.0\" dominant-baseline=\"middle\" text-anchor=\"middle\" font-size=\"18px\" font-family=\"Arial\">X</text><rect x=\"396.6403515625\" y=\"25.0\" width=\"40\" height=\"40\" stroke=\"black\" fill=\"white\" stroke-width=\"1\" /><text x=\"416.6403515625\" y=\"45.0\" dominant-baseline=\"middle\" text-anchor=\"middle\" font-size=\"18px\" font-family=\"Arial\">T</text></svg>"
      ],
      "text/plain": [
       "<cirq.contrib.svg.svg.SVGCircuit at 0x7fa70f305420>"
      ]
     },
     "execution_count": 6,
     "metadata": {},
     "output_type": "execute_result"
    }
   ],
   "source": [
    "# Note: a 1d `shape` bloq register is actually two-dimensional in cirq conversion\n",
    "# because of the implicit `bitsize` dimension (which must be explicit during cirq conversion).\n",
    "# CirqGateAsBloq has registers of bitsize=1 and shape=(n,); hence the list transpose below.\n",
    "circuit2, _ = cbloq.to_cirq_circuit(qubits=[[q] for q in qubits], qubit_manager=cirq.ops.SimpleQubitManager())\n",
    "SVGCircuit(circuit2)"
   ]
  },
  {
   "cell_type": "code",
   "execution_count": 7,
   "id": "f95dbe1d",
   "metadata": {
    "execution": {
     "iopub.execute_input": "2023-07-14T16:48:25.791927Z",
     "iopub.status.busy": "2023-07-14T16:48:25.791726Z",
     "iopub.status.idle": "2023-07-14T16:48:25.797534Z",
     "shell.execute_reply": "2023-07-14T16:48:25.796351Z"
    }
   },
   "outputs": [
    {
     "data": {
      "text/plain": [
       "False"
      ]
     },
     "execution_count": 7,
     "metadata": {},
     "output_type": "execute_result"
    }
   ],
   "source": [
    "# We lose the moment structure during the roundtrip.\n",
    "circuit == circuit2"
   ]
  },
  {
   "cell_type": "code",
   "execution_count": 8,
   "id": "ce93a502",
   "metadata": {
    "execution": {
     "iopub.execute_input": "2023-07-14T16:48:25.801166Z",
     "iopub.status.busy": "2023-07-14T16:48:25.800360Z",
     "iopub.status.idle": "2023-07-14T16:48:25.806819Z",
     "shell.execute_reply": "2023-07-14T16:48:25.806359Z"
    }
   },
   "outputs": [
    {
     "data": {
      "text/plain": [
       "True"
      ]
     },
     "execution_count": 8,
     "metadata": {},
     "output_type": "execute_result"
    }
   ],
   "source": [
    "# But the left-aligned `circuit` is recovered.\n",
    "cirq.Circuit(circuit.all_operations()) == circuit2"
   ]
  },
  {
   "cell_type": "markdown",
   "id": "03f03231",
   "metadata": {},
   "source": [
    "## Converting Bloqs to Cirq objects\n",
    "\n",
    " - `Bloq.as_cirq_op` is an overridable method to declare what cirq operation corresponds to a bloq.\n",
    " - `CompositeBloq.to_cirq_circuit` will export a CompositeBloq to a cirq circuit.\n",
    " - `BloqAsCirqGate` provides a shim for using bloqs in cirq circuits automatically."
   ]
  },
  {
   "cell_type": "markdown",
   "id": "6efb079b",
   "metadata": {},
   "source": [
    "### `as_cirq_op` \n",
    "\n",
    "Bloqs can override `as_cirq_op` to optionally declare their corresponding Cirq operation. For example, the `SwapTwoBits` bloqs from the tutorial corresponds to `cirq.SWAP`.\n",
    "\n",
    "The bloqs infrastructure will call `as_cirq_op` with keyword arguments mapping register names to `np.ndarray`s of `cirq.Qid` whose shape is `reg.shape + (reg.bitsize,)`. The type alias `CirqQuregT` is provided for convenience.\n",
    "\n",
    "The method must return both the Cirq operation as well as a mapping from right register names to arrays of output `cirq.Qid`. This is to permit the use of `cirq_ft.infra.qubit_manager` allocation facilities."
   ]
  },
  {
   "cell_type": "code",
   "execution_count": 9,
   "id": "9aa00801",
   "metadata": {
    "execution": {
     "iopub.execute_input": "2023-07-14T16:48:25.809531Z",
     "iopub.status.busy": "2023-07-14T16:48:25.809292Z",
     "iopub.status.idle": "2023-07-14T16:48:25.813925Z",
     "shell.execute_reply": "2023-07-14T16:48:25.813276Z"
    }
   },
   "outputs": [],
   "source": [
    "import attrs\n",
    "from typing import *\n",
    "\n",
    "from qualtran.cirq_interop import CirqQuregT\n",
    "\n",
    "@attrs.frozen\n",
    "class SwapTwoBits(Bloq):\n",
    "    @property\n",
    "    def signature(self):\n",
    "        return Signature.build(x=1, y=1)\n",
    "    \n",
    "    def as_cirq_op(\n",
    "            self, qubit_manager, x: CirqQuregT, y: CirqQuregT\n",
    "    ) -> Tuple[cirq.Operation, Dict[str, CirqQuregT]]:\n",
    "        x, = x  # each is an array of length one\n",
    "        y, = y\n",
    "        op = cirq.SWAP(x, y)\n",
    "        out_quregs = {'x': [x], 'y': [y]}\n",
    "        return op, out_quregs"
   ]
  },
  {
   "cell_type": "code",
   "execution_count": 10,
   "id": "78dd903f",
   "metadata": {
    "execution": {
     "iopub.execute_input": "2023-07-14T16:48:25.816610Z",
     "iopub.status.busy": "2023-07-14T16:48:25.816334Z",
     "iopub.status.idle": "2023-07-14T16:48:25.842544Z",
     "shell.execute_reply": "2023-07-14T16:48:25.841970Z"
    }
   },
   "outputs": [
    {
     "data": {
      "image/svg+xml": [
       "<svg xmlns=\"http://www.w3.org/2000/svg\" width=\"160.0\" height=\"100.0\"><line x1=\"30.0\" x2=\"130.0\" y1=\"25.0\" y2=\"25.0\" stroke=\"#1967d2\" stroke-width=\"1\" /><line x1=\"30.0\" x2=\"130.0\" y1=\"75.0\" y2=\"75.0\" stroke=\"#1967d2\" stroke-width=\"1\" /><line x1=\"90.0\" x2=\"90.0\" y1=\"25.0\" y2=\"75.0\" stroke=\"black\" stroke-width=\"3\" /><rect x=\"10.0\" y=\"5.0\" width=\"40\" height=\"40\" stroke=\"black\" fill=\"white\" stroke-width=\"0\" /><text x=\"30.0\" y=\"25.0\" dominant-baseline=\"middle\" text-anchor=\"middle\" font-size=\"14px\" font-family=\"Arial\">q1: </text><rect x=\"10.0\" y=\"55.0\" width=\"40\" height=\"40\" stroke=\"black\" fill=\"white\" stroke-width=\"0\" /><text x=\"30.0\" y=\"75.0\" dominant-baseline=\"middle\" text-anchor=\"middle\" font-size=\"14px\" font-family=\"Arial\">q2: </text><text x=\"90.0\" y=\"28.0\" dominant-baseline=\"middle\" text-anchor=\"middle\" font-size=\"40px\" font-family=\"Arial\">×</text><text x=\"90.0\" y=\"78.0\" dominant-baseline=\"middle\" text-anchor=\"middle\" font-size=\"40px\" font-family=\"Arial\">×</text></svg>"
      ],
      "text/plain": [
       "<cirq.contrib.svg.svg.SVGCircuit at 0x7fa70f04eef0>"
      ]
     },
     "execution_count": 10,
     "metadata": {},
     "output_type": "execute_result"
    }
   ],
   "source": [
    "circuit, out_quregs = SwapTwoBits().as_composite_bloq()\\\n",
    "    .to_cirq_circuit(x=[cirq.NamedQubit('q1')], y=[cirq.NamedQubit('q2')])\n",
    "SVGCircuit(circuit)"
   ]
  },
  {
   "cell_type": "markdown",
   "id": "ca594c53",
   "metadata": {},
   "source": [
    "### `CompositeBloq.to_cirq_circuit`\n",
    "\n",
    "A composite bloq can be turned into a circuit composed of the result of `as_cirq_op` for each of the subbloqs.\n",
    "\n",
    "A bloq's `Signature` has a helper method to instantiate Cirq qubits in the correct form for input to the function."
   ]
  },
  {
   "cell_type": "code",
   "execution_count": 11,
   "id": "569218e8",
   "metadata": {
    "execution": {
     "iopub.execute_input": "2023-07-14T16:48:25.846412Z",
     "iopub.status.busy": "2023-07-14T16:48:25.846225Z",
     "iopub.status.idle": "2023-07-14T16:48:25.850848Z",
     "shell.execute_reply": "2023-07-14T16:48:25.850202Z"
    }
   },
   "outputs": [
    {
     "data": {
      "text/plain": [
       "{'x': [cirq.NamedQubit('x')], 'y': [cirq.NamedQubit('y')]}"
      ]
     },
     "execution_count": 11,
     "metadata": {},
     "output_type": "execute_result"
    }
   ],
   "source": [
    "SwapTwoBits().signature.get_cirq_quregs()"
   ]
  },
  {
   "cell_type": "code",
   "execution_count": 12,
   "id": "9a06155b",
   "metadata": {
    "execution": {
     "iopub.execute_input": "2023-07-14T16:48:25.853552Z",
     "iopub.status.busy": "2023-07-14T16:48:25.853252Z",
     "iopub.status.idle": "2023-07-14T16:48:25.934665Z",
     "shell.execute_reply": "2023-07-14T16:48:25.934115Z"
    }
   },
   "outputs": [
    {
     "data": {
      "image/svg+xml": [
       "<svg xmlns=\"http://www.w3.org/2000/svg\" xmlns:xlink=\"http://www.w3.org/1999/xlink\" width=\"319pt\" height=\"98pt\" viewBox=\"0.00 0.00 319.00 98.00\">\n",
       "<g id=\"graph0\" class=\"graph\" transform=\"scale(1 1) rotate(0) translate(4 94)\">\n",
       "<title>my_graph</title>\n",
       "<polygon fill=\"white\" stroke=\"transparent\" points=\"-4,4 -4,-94 315,-94 315,4 -4,4\"/>\n",
       "<!-- x_G7 -->\n",
       "<g id=\"node1\" class=\"node\">\n",
       "<title>x_G7</title>\n",
       "<text text-anchor=\"middle\" x=\"27\" y=\"-68.3\" font-family=\"Times,serif\" font-size=\"14.00\">x</text>\n",
       "</g>\n",
       "<!-- SwapTwoBits -->\n",
       "<g id=\"node3\" class=\"node\">\n",
       "<title>SwapTwoBits</title>\n",
       "<polygon fill=\"none\" stroke=\"black\" points=\"91,-66 91,-83 137,-83 137,-66 91,-66\"/>\n",
       "<text text-anchor=\"start\" x=\"94\" y=\"-72\" font-family=\"Times,serif\" font-size=\"10.00\">SwapTw..</text>\n",
       "<polygon fill=\"none\" stroke=\"black\" points=\"91,-45 91,-66 137,-66 137,-45 91,-45\"/>\n",
       "<text text-anchor=\"start\" x=\"110.5\" y=\"-51.8\" font-family=\"Times,serif\" font-size=\"14.00\">x</text>\n",
       "<polygon fill=\"none\" stroke=\"black\" points=\"91,-24 91,-45 137,-45 137,-24 91,-24\"/>\n",
       "<text text-anchor=\"start\" x=\"110.5\" y=\"-30.8\" font-family=\"Times,serif\" font-size=\"14.00\">y</text>\n",
       "</g>\n",
       "<!-- x_G7&#45;&gt;SwapTwoBits -->\n",
       "<g id=\"edge1\" class=\"edge\">\n",
       "<title>x_G7:e-&gt;SwapTwoBits:w</title>\n",
       "<path fill=\"none\" stroke=\"black\" d=\"M54,-72C71.22,-72 72.97,-57.23 88.98,-56.07\"/>\n",
       "<ellipse fill=\"black\" stroke=\"black\" cx=\"90\" cy=\"-56.04\" rx=\"1\" ry=\"1\"/>\n",
       "<text text-anchor=\"middle\" x=\"72.5\" y=\"-67\" font-family=\"Times,serif\" font-size=\"10.00\">1</text>\n",
       "</g>\n",
       "<!-- y_G4 -->\n",
       "<g id=\"node2\" class=\"node\">\n",
       "<title>y_G4</title>\n",
       "<text text-anchor=\"middle\" x=\"27\" y=\"-14.3\" font-family=\"Times,serif\" font-size=\"14.00\">y</text>\n",
       "</g>\n",
       "<!-- y_G4&#45;&gt;SwapTwoBits -->\n",
       "<g id=\"edge2\" class=\"edge\">\n",
       "<title>y_G4:e-&gt;SwapTwoBits:w</title>\n",
       "<path fill=\"none\" stroke=\"black\" d=\"M54,-18C71.22,-18 72.97,-32.77 88.98,-33.93\"/>\n",
       "<ellipse fill=\"black\" stroke=\"black\" cx=\"90\" cy=\"-33.96\" rx=\"1\" ry=\"1\"/>\n",
       "<text text-anchor=\"middle\" x=\"72.5\" y=\"-29\" font-family=\"Times,serif\" font-size=\"10.00\">1</text>\n",
       "</g>\n",
       "<!-- SwapTwoBits_G0 -->\n",
       "<g id=\"node4\" class=\"node\">\n",
       "<title>SwapTwoBits_G0</title>\n",
       "<polygon fill=\"none\" stroke=\"black\" points=\"174,-66 174,-83 220,-83 220,-66 174,-66\"/>\n",
       "<text text-anchor=\"start\" x=\"177\" y=\"-72\" font-family=\"Times,serif\" font-size=\"10.00\">SwapTw..</text>\n",
       "<polygon fill=\"none\" stroke=\"black\" points=\"174,-45 174,-66 220,-66 220,-45 174,-45\"/>\n",
       "<text text-anchor=\"start\" x=\"193.5\" y=\"-51.8\" font-family=\"Times,serif\" font-size=\"14.00\">x</text>\n",
       "<polygon fill=\"none\" stroke=\"black\" points=\"174,-24 174,-45 220,-45 220,-24 174,-24\"/>\n",
       "<text text-anchor=\"start\" x=\"193.5\" y=\"-30.8\" font-family=\"Times,serif\" font-size=\"14.00\">y</text>\n",
       "</g>\n",
       "<!-- SwapTwoBits&#45;&gt;SwapTwoBits_G0 -->\n",
       "<g id=\"edge3\" class=\"edge\">\n",
       "<title>SwapTwoBits:e-&gt;SwapTwoBits_G0:w</title>\n",
       "<path fill=\"none\" stroke=\"black\" d=\"M137,-56C152.67,-56 157.14,-56 171.77,-56\"/>\n",
       "<ellipse fill=\"black\" stroke=\"black\" cx=\"173\" cy=\"-56\" rx=\"1\" ry=\"1\"/>\n",
       "<text text-anchor=\"middle\" x=\"155.5\" y=\"-59\" font-family=\"Times,serif\" font-size=\"10.00\">1</text>\n",
       "</g>\n",
       "<!-- SwapTwoBits&#45;&gt;SwapTwoBits_G0 -->\n",
       "<g id=\"edge4\" class=\"edge\">\n",
       "<title>SwapTwoBits:e-&gt;SwapTwoBits_G0:w</title>\n",
       "<path fill=\"none\" stroke=\"black\" d=\"M137,-34C152.67,-34 157.14,-34 171.77,-34\"/>\n",
       "<ellipse fill=\"black\" stroke=\"black\" cx=\"173\" cy=\"-34\" rx=\"1\" ry=\"1\"/>\n",
       "<text text-anchor=\"middle\" x=\"155.5\" y=\"-37\" font-family=\"Times,serif\" font-size=\"10.00\">1</text>\n",
       "</g>\n",
       "<!-- x_G6 -->\n",
       "<g id=\"node5\" class=\"node\">\n",
       "<title>x_G6</title>\n",
       "<text text-anchor=\"middle\" x=\"284\" y=\"-68.3\" font-family=\"Times,serif\" font-size=\"14.00\">x</text>\n",
       "</g>\n",
       "<!-- SwapTwoBits_G0&#45;&gt;x_G6 -->\n",
       "<g id=\"edge5\" class=\"edge\">\n",
       "<title>SwapTwoBits_G0:e-&gt;x_G6:w</title>\n",
       "<path fill=\"none\" stroke=\"black\" d=\"M220,-56C237.22,-56 238.97,-70.77 254.98,-71.93\"/>\n",
       "<ellipse fill=\"black\" stroke=\"black\" cx=\"256\" cy=\"-71.96\" rx=\"1\" ry=\"1\"/>\n",
       "<text text-anchor=\"middle\" x=\"238.5\" y=\"-67\" font-family=\"Times,serif\" font-size=\"10.00\">1</text>\n",
       "</g>\n",
       "<!-- y_G8 -->\n",
       "<g id=\"node6\" class=\"node\">\n",
       "<title>y_G8</title>\n",
       "<text text-anchor=\"middle\" x=\"284\" y=\"-14.3\" font-family=\"Times,serif\" font-size=\"14.00\">y</text>\n",
       "</g>\n",
       "<!-- SwapTwoBits_G0&#45;&gt;y_G8 -->\n",
       "<g id=\"edge6\" class=\"edge\">\n",
       "<title>SwapTwoBits_G0:e-&gt;y_G8:w</title>\n",
       "<path fill=\"none\" stroke=\"black\" d=\"M220,-34C237.22,-34 238.97,-19.23 254.98,-18.07\"/>\n",
       "<ellipse fill=\"black\" stroke=\"black\" cx=\"256\" cy=\"-18.04\" rx=\"1\" ry=\"1\"/>\n",
       "<text text-anchor=\"middle\" x=\"238.5\" y=\"-29\" font-family=\"Times,serif\" font-size=\"10.00\">1</text>\n",
       "</g>\n",
       "</g>\n",
       "</svg>"
      ],
      "text/plain": [
       "<IPython.core.display.SVG object>"
      ]
     },
     "metadata": {},
     "output_type": "display_data"
    },
    {
     "data": {
      "image/svg+xml": [
       "<svg xmlns=\"http://www.w3.org/2000/svg\" width=\"220.0\" height=\"100.0\"><line x1=\"30.0\" x2=\"190.0\" y1=\"25.0\" y2=\"25.0\" stroke=\"#1967d2\" stroke-width=\"1\" /><line x1=\"30.0\" x2=\"190.0\" y1=\"75.0\" y2=\"75.0\" stroke=\"#1967d2\" stroke-width=\"1\" /><line x1=\"90.0\" x2=\"90.0\" y1=\"25.0\" y2=\"75.0\" stroke=\"black\" stroke-width=\"3\" /><line x1=\"150.0\" x2=\"150.0\" y1=\"25.0\" y2=\"75.0\" stroke=\"black\" stroke-width=\"3\" /><rect x=\"10.0\" y=\"5.0\" width=\"40\" height=\"40\" stroke=\"black\" fill=\"white\" stroke-width=\"0\" /><text x=\"30.0\" y=\"25.0\" dominant-baseline=\"middle\" text-anchor=\"middle\" font-size=\"14px\" font-family=\"Arial\">x: </text><rect x=\"10.0\" y=\"55.0\" width=\"40\" height=\"40\" stroke=\"black\" fill=\"white\" stroke-width=\"0\" /><text x=\"30.0\" y=\"75.0\" dominant-baseline=\"middle\" text-anchor=\"middle\" font-size=\"14px\" font-family=\"Arial\">y: </text><text x=\"90.0\" y=\"28.0\" dominant-baseline=\"middle\" text-anchor=\"middle\" font-size=\"40px\" font-family=\"Arial\">×</text><text x=\"90.0\" y=\"78.0\" dominant-baseline=\"middle\" text-anchor=\"middle\" font-size=\"40px\" font-family=\"Arial\">×</text><text x=\"150.0\" y=\"28.0\" dominant-baseline=\"middle\" text-anchor=\"middle\" font-size=\"40px\" font-family=\"Arial\">×</text><text x=\"150.0\" y=\"78.0\" dominant-baseline=\"middle\" text-anchor=\"middle\" font-size=\"40px\" font-family=\"Arial\">×</text></svg>"
      ],
      "text/plain": [
       "<cirq.contrib.svg.svg.SVGCircuit at 0x7fa70f04ec20>"
      ]
     },
     "metadata": {},
     "output_type": "display_data"
    }
   ],
   "source": [
    "# Build a simple composite bloq\n",
    "bb = BloqBuilder()\n",
    "x = bb.add_register('x', 1)\n",
    "y = bb.add_register('y', 1)\n",
    "x, y = bb.add(SwapTwoBits(), x=x, y=y)\n",
    "x, y = bb.add(SwapTwoBits(), x=x, y=y)\n",
    "cbloq = bb.finalize(x=x, y=y)\n",
    "\n",
    "# Turn it into a cirq circuit\n",
    "quregs = cbloq.signature.get_cirq_quregs()\n",
    "circuit, _ = cbloq.to_cirq_circuit(**quregs)\n",
    "\n",
    "# Observe\n",
    "show_bloq(cbloq)\n",
    "display(SVGCircuit(circuit))"
   ]
  },
  {
   "cell_type": "markdown",
   "id": "01bf3b99",
   "metadata": {},
   "source": [
    "### `BloqAsCirqGate`\n",
    "\n",
    "The default behavior of `as_cirq_op` will shim the bloq into this object which lets you use a bloq in cirq circuits.\n",
    "\n",
    "Below, we reproduce the multi-bit swap from the tutorial. This time, we do not implement `as_cirq_op` ourselves. This is appropriate if there isn't an equivalent gate in Cirq, which is likely the case for high-level bloqs."
   ]
  },
  {
   "cell_type": "code",
   "execution_count": 13,
   "id": "c36205ba",
   "metadata": {
    "execution": {
     "iopub.execute_input": "2023-07-14T16:48:25.938438Z",
     "iopub.status.busy": "2023-07-14T16:48:25.938235Z",
     "iopub.status.idle": "2023-07-14T16:48:25.943815Z",
     "shell.execute_reply": "2023-07-14T16:48:25.942974Z"
    }
   },
   "outputs": [],
   "source": [
    "@attrs.frozen\n",
    "class Swap(Bloq):\n",
    "    n: int\n",
    "\n",
    "    @property\n",
    "    def signature(self):\n",
    "        return Signature.build(x=self.n, y=self.n)\n",
    "\n",
    "    def build_composite_bloq(\n",
    "            self, bb: 'BloqBuilder', *, x: 'SoquetT', y: 'SoquetT'\n",
    "    ) -> Dict[str, 'SoquetT']:\n",
    "        xs = bb.split(x)\n",
    "        ys = bb.split(y)\n",
    "        for i in range(self.n):\n",
    "            xs[i], ys[i] = bb.add(SwapTwoBits(), x=xs[i], y=ys[i])\n",
    "        return {'x': bb.join(xs), 'y': bb.join(ys)}"
   ]
  },
  {
   "cell_type": "code",
   "execution_count": 14,
   "id": "1824c829",
   "metadata": {
    "execution": {
     "iopub.execute_input": "2023-07-14T16:48:25.947695Z",
     "iopub.status.busy": "2023-07-14T16:48:25.947385Z",
     "iopub.status.idle": "2023-07-14T16:48:26.018668Z",
     "shell.execute_reply": "2023-07-14T16:48:26.017919Z"
    }
   },
   "outputs": [
    {
     "data": {
      "image/svg+xml": [
       "<svg xmlns=\"http://www.w3.org/2000/svg\" xmlns:xlink=\"http://www.w3.org/1999/xlink\" width=\"219pt\" height=\"98pt\" viewBox=\"0.00 0.00 219.00 98.00\">\n",
       "<g id=\"graph0\" class=\"graph\" transform=\"scale(1 1) rotate(0) translate(4 94)\">\n",
       "<title>my_graph</title>\n",
       "<polygon fill=\"white\" stroke=\"transparent\" points=\"-4,4 -4,-94 215,-94 215,4 -4,4\"/>\n",
       "<!-- x_G0 -->\n",
       "<g id=\"node1\" class=\"node\">\n",
       "<title>x_G0</title>\n",
       "<text text-anchor=\"middle\" x=\"27\" y=\"-68.3\" font-family=\"Times,serif\" font-size=\"14.00\">x</text>\n",
       "</g>\n",
       "<!-- Swap -->\n",
       "<g id=\"node3\" class=\"node\">\n",
       "<title>Swap</title>\n",
       "<polygon fill=\"none\" stroke=\"black\" points=\"91.5,-66 91.5,-83 120.5,-83 120.5,-66 91.5,-66\"/>\n",
       "<text text-anchor=\"start\" x=\"94.5\" y=\"-72\" font-family=\"Times,serif\" font-size=\"10.00\">Swap</text>\n",
       "<polygon fill=\"none\" stroke=\"black\" points=\"91.5,-45 91.5,-66 120.5,-66 120.5,-45 91.5,-45\"/>\n",
       "<text text-anchor=\"start\" x=\"102.5\" y=\"-51.8\" font-family=\"Times,serif\" font-size=\"14.00\">x</text>\n",
       "<polygon fill=\"none\" stroke=\"black\" points=\"91.5,-24 91.5,-45 120.5,-45 120.5,-24 91.5,-24\"/>\n",
       "<text text-anchor=\"start\" x=\"102.5\" y=\"-30.8\" font-family=\"Times,serif\" font-size=\"14.00\">y</text>\n",
       "</g>\n",
       "<!-- x_G0&#45;&gt;Swap -->\n",
       "<g id=\"edge1\" class=\"edge\">\n",
       "<title>x_G0:e-&gt;Swap:w</title>\n",
       "<path fill=\"none\" stroke=\"black\" d=\"M54,-72C71.22,-72 72.97,-57.23 88.98,-56.07\"/>\n",
       "<ellipse fill=\"black\" stroke=\"black\" cx=\"90\" cy=\"-56.04\" rx=\"1\" ry=\"1\"/>\n",
       "<text text-anchor=\"middle\" x=\"72.5\" y=\"-67\" font-family=\"Times,serif\" font-size=\"10.00\">5</text>\n",
       "</g>\n",
       "<!-- y_G3 -->\n",
       "<g id=\"node2\" class=\"node\">\n",
       "<title>y_G3</title>\n",
       "<text text-anchor=\"middle\" x=\"27\" y=\"-14.3\" font-family=\"Times,serif\" font-size=\"14.00\">y</text>\n",
       "</g>\n",
       "<!-- y_G3&#45;&gt;Swap -->\n",
       "<g id=\"edge2\" class=\"edge\">\n",
       "<title>y_G3:e-&gt;Swap:w</title>\n",
       "<path fill=\"none\" stroke=\"black\" d=\"M54,-18C71.22,-18 72.97,-32.77 88.98,-33.93\"/>\n",
       "<ellipse fill=\"black\" stroke=\"black\" cx=\"90\" cy=\"-33.96\" rx=\"1\" ry=\"1\"/>\n",
       "<text text-anchor=\"middle\" x=\"72.5\" y=\"-29\" font-family=\"Times,serif\" font-size=\"10.00\">5</text>\n",
       "</g>\n",
       "<!-- x_G5 -->\n",
       "<g id=\"node4\" class=\"node\">\n",
       "<title>x_G5</title>\n",
       "<text text-anchor=\"middle\" x=\"184\" y=\"-68.3\" font-family=\"Times,serif\" font-size=\"14.00\">x</text>\n",
       "</g>\n",
       "<!-- Swap&#45;&gt;x_G5 -->\n",
       "<g id=\"edge3\" class=\"edge\">\n",
       "<title>Swap:e-&gt;x_G5:w</title>\n",
       "<path fill=\"none\" stroke=\"black\" d=\"M120,-56C137.22,-56 138.97,-70.77 154.98,-71.93\"/>\n",
       "<ellipse fill=\"black\" stroke=\"black\" cx=\"156\" cy=\"-71.96\" rx=\"1\" ry=\"1\"/>\n",
       "<text text-anchor=\"middle\" x=\"138.5\" y=\"-67\" font-family=\"Times,serif\" font-size=\"10.00\">5</text>\n",
       "</g>\n",
       "<!-- y_G2 -->\n",
       "<g id=\"node5\" class=\"node\">\n",
       "<title>y_G2</title>\n",
       "<text text-anchor=\"middle\" x=\"184\" y=\"-14.3\" font-family=\"Times,serif\" font-size=\"14.00\">y</text>\n",
       "</g>\n",
       "<!-- Swap&#45;&gt;y_G2 -->\n",
       "<g id=\"edge4\" class=\"edge\">\n",
       "<title>Swap:e-&gt;y_G2:w</title>\n",
       "<path fill=\"none\" stroke=\"black\" d=\"M120,-34C137.22,-34 138.97,-19.23 154.98,-18.07\"/>\n",
       "<ellipse fill=\"black\" stroke=\"black\" cx=\"156\" cy=\"-18.04\" rx=\"1\" ry=\"1\"/>\n",
       "<text text-anchor=\"middle\" x=\"138.5\" y=\"-29\" font-family=\"Times,serif\" font-size=\"10.00\">5</text>\n",
       "</g>\n",
       "</g>\n",
       "</svg>"
      ],
      "text/plain": [
       "<IPython.core.display.SVG object>"
      ]
     },
     "metadata": {},
     "output_type": "display_data"
    }
   ],
   "source": [
    "swap = Swap(n=5)\n",
    "show_bloq(swap)"
   ]
  },
  {
   "cell_type": "markdown",
   "id": "4eae1c53",
   "metadata": {},
   "source": [
    "Instead, we get a `BloqAsCirqGate` by default."
   ]
  },
  {
   "cell_type": "code",
   "execution_count": 15,
   "id": "5e76fb54",
   "metadata": {
    "execution": {
     "iopub.execute_input": "2023-07-14T16:48:26.021491Z",
     "iopub.status.busy": "2023-07-14T16:48:26.021172Z",
     "iopub.status.idle": "2023-07-14T16:48:26.027469Z",
     "shell.execute_reply": "2023-07-14T16:48:26.026877Z"
    }
   },
   "outputs": [
    {
     "data": {
      "text/plain": [
       "BloqAsCirqGate(Swap(n=5))"
      ]
     },
     "execution_count": 15,
     "metadata": {},
     "output_type": "execute_result"
    }
   ],
   "source": [
    "circuit, _ = swap.as_composite_bloq().to_cirq_circuit(\n",
    "    x=cirq.LineQubit.range(5), y=cirq.LineQubit.range(100,105))\n",
    "\n",
    "op = next(circuit.all_operations())\n",
    "op.gate"
   ]
  },
  {
   "cell_type": "markdown",
   "id": "d506ce16",
   "metadata": {},
   "source": [
    "This wrapper can delegate cirq `decompose` calls to bloq decomposition. If the bloqs in the decomposition have native `as_cirq_op` operations, then we successfully have a standard Cirq circuit."
   ]
  },
  {
   "cell_type": "code",
   "execution_count": 16,
   "id": "ca5b5881",
   "metadata": {
    "execution": {
     "iopub.execute_input": "2023-07-14T16:48:26.030279Z",
     "iopub.status.busy": "2023-07-14T16:48:26.030092Z",
     "iopub.status.idle": "2023-07-14T16:48:26.036108Z",
     "shell.execute_reply": "2023-07-14T16:48:26.035458Z"
    }
   },
   "outputs": [
    {
     "name": "stdout",
     "output_type": "stream",
     "text": [
      "cirq.Circuit([\n",
      "    cirq.Moment(\n",
      "        cirq.SWAP(cirq.LineQubit(0), cirq.LineQubit(100)),\n",
      "        cirq.SWAP(cirq.LineQubit(1), cirq.LineQubit(101)),\n",
      "        cirq.SWAP(cirq.LineQubit(2), cirq.LineQubit(102)),\n",
      "        cirq.SWAP(cirq.LineQubit(3), cirq.LineQubit(103)),\n",
      "        cirq.SWAP(cirq.LineQubit(4), cirq.LineQubit(104)),\n",
      "    ),\n",
      "])\n"
     ]
    }
   ],
   "source": [
    "swap_decomp_circuit = cirq.Circuit(cirq.decompose_once(op))\n",
    "print(repr(swap_decomp_circuit))"
   ]
  },
  {
   "cell_type": "code",
   "execution_count": 17,
   "id": "3fd9ebd7",
   "metadata": {
    "execution": {
     "iopub.execute_input": "2023-07-14T16:48:26.038874Z",
     "iopub.status.busy": "2023-07-14T16:48:26.038578Z",
     "iopub.status.idle": "2023-07-14T16:48:26.556176Z",
     "shell.execute_reply": "2023-07-14T16:48:26.555630Z"
    },
    "scrolled": false
   },
   "outputs": [
    {
     "data": {
      "application/vnd.jupyter.widget-view+json": {
       "model_id": "97c28f77aba74fdc8a2e7e5ef13cb955",
       "version_major": 2,
       "version_minor": 0
      },
      "text/plain": [
       "HBox(children=(Output(outputs=({'output_type': 'display_data', 'data': {'text/plain': '<IPython.core.display.S…"
      ]
     },
     "metadata": {},
     "output_type": "display_data"
    }
   ],
   "source": [
    "import cirq_ft.infra.testing as cq_testing\n",
    "from cirq_ft.infra.jupyter_tools import display_gate_and_compilation\n",
    "\n",
    "g = cq_testing.GateHelper(op.gate)\n",
    "display_gate_and_compilation(g, include_costs=False)"
   ]
  },
  {
   "cell_type": "markdown",
   "id": "6b16c692",
   "metadata": {},
   "source": [
    "### Allocation and de-allocation\n",
    "\n",
    "Cirq conversion can allocate and deallocate qubits with the help of `cirq_ft.infra.qubit_manager` tools. As an example, we look at the `MultiAnd` bloq. Behind the scenes, this uses the default `BloqAsCirqGate` shim which will allocate the target and junk right-only registers automatically."
   ]
  },
  {
   "cell_type": "code",
   "execution_count": 18,
   "id": "7b846fba",
   "metadata": {
    "execution": {
     "iopub.execute_input": "2023-07-14T16:48:26.559944Z",
     "iopub.status.busy": "2023-07-14T16:48:26.559577Z",
     "iopub.status.idle": "2023-07-14T16:48:26.582717Z",
     "shell.execute_reply": "2023-07-14T16:48:26.581998Z"
    }
   },
   "outputs": [],
   "source": [
    "from qualtran.bloqs.and_bloq import MultiAnd\n",
    "\n",
    "multi_and = MultiAnd(cvs=(1, 1, 1, 1))"
   ]
  },
  {
   "cell_type": "markdown",
   "id": "d266e6b8",
   "metadata": {},
   "source": [
    "Our input Cirq qubit registers include just the control qubits."
   ]
  },
  {
   "cell_type": "code",
   "execution_count": 19,
   "id": "0f13f658",
   "metadata": {
    "execution": {
     "iopub.execute_input": "2023-07-14T16:48:26.588247Z",
     "iopub.status.busy": "2023-07-14T16:48:26.587281Z",
     "iopub.status.idle": "2023-07-14T16:48:26.594348Z",
     "shell.execute_reply": "2023-07-14T16:48:26.593689Z"
    }
   },
   "outputs": [
    {
     "data": {
      "text/plain": [
       "{'ctrl': array([[cirq.NamedQubit('ctrl[0, 0]')],\n",
       "        [cirq.NamedQubit('ctrl[1, 0]')],\n",
       "        [cirq.NamedQubit('ctrl[2, 0]')],\n",
       "        [cirq.NamedQubit('ctrl[3, 0]')]], dtype=object)}"
      ]
     },
     "execution_count": 19,
     "metadata": {},
     "output_type": "execute_result"
    }
   ],
   "source": [
    "cirq_quregs = multi_and.signature.get_cirq_quregs()\n",
    "cirq_quregs"
   ]
  },
  {
   "cell_type": "code",
   "execution_count": 20,
   "id": "a956c712",
   "metadata": {
    "execution": {
     "iopub.execute_input": "2023-07-14T16:48:26.596793Z",
     "iopub.status.busy": "2023-07-14T16:48:26.596601Z",
     "iopub.status.idle": "2023-07-14T16:48:26.806033Z",
     "shell.execute_reply": "2023-07-14T16:48:26.805466Z"
    }
   },
   "outputs": [
    {
     "data": {
      "image/svg+xml": [
       "<svg xmlns=\"http://www.w3.org/2000/svg\" width=\"318.26125\" height=\"350.0\"><line x1=\"40.956328125\" x2=\"288.26125\" y1=\"25.0\" y2=\"25.0\" stroke=\"#1967d2\" stroke-width=\"1\" /><line x1=\"40.956328125\" x2=\"288.26125\" y1=\"75.0\" y2=\"75.0\" stroke=\"#1967d2\" stroke-width=\"1\" /><line x1=\"40.956328125\" x2=\"288.26125\" y1=\"125.0\" y2=\"125.0\" stroke=\"#1967d2\" stroke-width=\"1\" /><line x1=\"40.956328125\" x2=\"288.26125\" y1=\"175.0\" y2=\"175.0\" stroke=\"#1967d2\" stroke-width=\"1\" /><line x1=\"40.956328125\" x2=\"288.26125\" y1=\"225.0\" y2=\"225.0\" stroke=\"#1967d2\" stroke-width=\"1\" /><line x1=\"40.956328125\" x2=\"288.26125\" y1=\"275.0\" y2=\"275.0\" stroke=\"#1967d2\" stroke-width=\"1\" /><line x1=\"40.956328125\" x2=\"288.26125\" y1=\"325.0\" y2=\"325.0\" stroke=\"#1967d2\" stroke-width=\"1\" /><line x1=\"114.637421875\" x2=\"114.637421875\" y1=\"25.0\" y2=\"225.0\" stroke=\"black\" stroke-width=\"3\" /><line x1=\"180.086953125\" x2=\"180.086953125\" y1=\"25.0\" y2=\"275.0\" stroke=\"black\" stroke-width=\"3\" /><line x1=\"245.53648437500001\" x2=\"245.53648437500001\" y1=\"75.0\" y2=\"325.0\" stroke=\"black\" stroke-width=\"3\" /><rect x=\"10.0\" y=\"5.0\" width=\"61.91265625\" height=\"40\" stroke=\"black\" fill=\"white\" stroke-width=\"0\" /><text x=\"40.956328125\" y=\"25.0\" dominant-baseline=\"middle\" text-anchor=\"middle\" font-size=\"14px\" font-family=\"Arial\">_c(0): </text><rect x=\"10.0\" y=\"55.0\" width=\"61.91265625\" height=\"40\" stroke=\"black\" fill=\"white\" stroke-width=\"0\" /><text x=\"40.956328125\" y=\"75.0\" dominant-baseline=\"middle\" text-anchor=\"middle\" font-size=\"14px\" font-family=\"Arial\">_c(1): </text><rect x=\"10.0\" y=\"105.0\" width=\"61.91265625\" height=\"40\" stroke=\"black\" fill=\"white\" stroke-width=\"0\" /><text x=\"40.956328125\" y=\"125.0\" dominant-baseline=\"middle\" text-anchor=\"middle\" font-size=\"14px\" font-family=\"Arial\">_c(2): </text><rect x=\"10.0\" y=\"155.0\" width=\"61.91265625\" height=\"40\" stroke=\"black\" fill=\"white\" stroke-width=\"0\" /><text x=\"40.956328125\" y=\"175.0\" dominant-baseline=\"middle\" text-anchor=\"middle\" font-size=\"14px\" font-family=\"Arial\">ctrl[0, 0]: </text><rect x=\"10.0\" y=\"205.0\" width=\"61.91265625\" height=\"40\" stroke=\"black\" fill=\"white\" stroke-width=\"0\" /><text x=\"40.956328125\" y=\"225.0\" dominant-baseline=\"middle\" text-anchor=\"middle\" font-size=\"14px\" font-family=\"Arial\">ctrl[1, 0]: </text><rect x=\"10.0\" y=\"255.0\" width=\"61.91265625\" height=\"40\" stroke=\"black\" fill=\"white\" stroke-width=\"0\" /><text x=\"40.956328125\" y=\"275.0\" dominant-baseline=\"middle\" text-anchor=\"middle\" font-size=\"14px\" font-family=\"Arial\">ctrl[2, 0]: </text><rect x=\"10.0\" y=\"305.0\" width=\"61.91265625\" height=\"40\" stroke=\"black\" fill=\"white\" stroke-width=\"0\" /><text x=\"40.956328125\" y=\"325.0\" dominant-baseline=\"middle\" text-anchor=\"middle\" font-size=\"14px\" font-family=\"Arial\">ctrl[3, 0]: </text><rect x=\"91.91265625\" y=\"155.0\" width=\"45.44953125000001\" height=\"40\" stroke=\"black\" fill=\"white\" stroke-width=\"1\" /><text x=\"114.637421875\" y=\"175.0\" dominant-baseline=\"middle\" text-anchor=\"middle\" font-size=\"14px\" font-family=\"Arial\">ctrl</text><rect x=\"91.91265625\" y=\"205.0\" width=\"45.44953125000001\" height=\"40\" stroke=\"black\" fill=\"white\" stroke-width=\"1\" /><text x=\"114.637421875\" y=\"225.0\" dominant-baseline=\"middle\" text-anchor=\"middle\" font-size=\"14px\" font-family=\"Arial\">ctrl</text><rect x=\"91.91265625\" y=\"5.0\" width=\"45.44953125000001\" height=\"40\" stroke=\"black\" fill=\"white\" stroke-width=\"1\" /><text x=\"114.637421875\" y=\"25.0\" dominant-baseline=\"middle\" text-anchor=\"middle\" font-size=\"14px\" font-family=\"Arial\">target</text><rect x=\"157.3621875\" y=\"5.0\" width=\"45.44953125000001\" height=\"40\" stroke=\"black\" fill=\"white\" stroke-width=\"1\" /><text x=\"180.086953125\" y=\"25.0\" dominant-baseline=\"middle\" text-anchor=\"middle\" font-size=\"14px\" font-family=\"Arial\">ctrl</text><rect x=\"157.3621875\" y=\"255.0\" width=\"45.44953125000001\" height=\"40\" stroke=\"black\" fill=\"white\" stroke-width=\"1\" /><text x=\"180.086953125\" y=\"275.0\" dominant-baseline=\"middle\" text-anchor=\"middle\" font-size=\"14px\" font-family=\"Arial\">ctrl</text><rect x=\"157.3621875\" y=\"55.0\" width=\"45.44953125000001\" height=\"40\" stroke=\"black\" fill=\"white\" stroke-width=\"1\" /><text x=\"180.086953125\" y=\"75.0\" dominant-baseline=\"middle\" text-anchor=\"middle\" font-size=\"14px\" font-family=\"Arial\">target</text><rect x=\"222.81171875\" y=\"55.0\" width=\"45.44953125000001\" height=\"40\" stroke=\"black\" fill=\"white\" stroke-width=\"1\" /><text x=\"245.53648437500001\" y=\"75.0\" dominant-baseline=\"middle\" text-anchor=\"middle\" font-size=\"14px\" font-family=\"Arial\">ctrl</text><rect x=\"222.81171875\" y=\"305.0\" width=\"45.44953125000001\" height=\"40\" stroke=\"black\" fill=\"white\" stroke-width=\"1\" /><text x=\"245.53648437500001\" y=\"325.0\" dominant-baseline=\"middle\" text-anchor=\"middle\" font-size=\"14px\" font-family=\"Arial\">ctrl</text><rect x=\"222.81171875\" y=\"105.0\" width=\"45.44953125000001\" height=\"40\" stroke=\"black\" fill=\"white\" stroke-width=\"1\" /><text x=\"245.53648437500001\" y=\"125.0\" dominant-baseline=\"middle\" text-anchor=\"middle\" font-size=\"14px\" font-family=\"Arial\">target</text></svg>"
      ],
      "text/plain": [
       "<cirq.contrib.svg.svg.SVGCircuit at 0x7fa70f844400>"
      ]
     },
     "execution_count": 20,
     "metadata": {},
     "output_type": "execute_result"
    }
   ],
   "source": [
    "multi_and_circuit, out_quregs = multi_and.decompose_bloq().to_cirq_circuit(**cirq_quregs)\n",
    "SVGCircuit(multi_and_circuit)"
   ]
  },
  {
   "cell_type": "markdown",
   "id": "f99495e0",
   "metadata": {},
   "source": [
    "The second return value of `as_cirq_op` and `to_cirq_circuit` is the output cirq qubit registers that we can use to identify allocated qubits."
   ]
  },
  {
   "cell_type": "code",
   "execution_count": 21,
   "id": "fb2890bd",
   "metadata": {
    "execution": {
     "iopub.execute_input": "2023-07-14T16:48:26.810987Z",
     "iopub.status.busy": "2023-07-14T16:48:26.810749Z",
     "iopub.status.idle": "2023-07-14T16:48:26.815527Z",
     "shell.execute_reply": "2023-07-14T16:48:26.814948Z"
    }
   },
   "outputs": [
    {
     "data": {
      "text/plain": [
       "{'ctrl': array([[cirq.NamedQubit('ctrl[0, 0]')],\n",
       "        [cirq.NamedQubit('ctrl[1, 0]')],\n",
       "        [cirq.NamedQubit('ctrl[2, 0]')],\n",
       "        [cirq.NamedQubit('ctrl[3, 0]')]], dtype=object),\n",
       " 'junk': array([[cirq.ops.CleanQubit(0)],\n",
       "        [cirq.ops.CleanQubit(1)]], dtype=object),\n",
       " 'target': array([cirq.ops.CleanQubit(2)], dtype=object)}"
      ]
     },
     "execution_count": 21,
     "metadata": {},
     "output_type": "execute_result"
    }
   ],
   "source": [
    "# Note the new precense of `junk` and `target` entries.\n",
    "out_quregs"
   ]
  }
 ],
 "metadata": {
  "kernelspec": {
   "display_name": "Python 3 (ipykernel)",
   "language": "python",
   "name": "python3"
  },
  "language_info": {
   "codemirror_mode": {
    "name": "ipython",
    "version": 3
   },
   "file_extension": ".py",
   "mimetype": "text/x-python",
   "name": "python",
   "nbconvert_exporter": "python",
   "pygments_lexer": "ipython3",
   "version": "3.10.11"
  },
  "widgets": {
   "application/vnd.jupyter.widget-state+json": {
    "state": {
     "2994bcdee96f4f3f9179c6d88ec9824e": {
      "model_module": "@jupyter-widgets/output",
      "model_module_version": "1.0.0",
      "model_name": "OutputModel",
      "state": {
       "_dom_classes": [],
       "_model_module": "@jupyter-widgets/output",
       "_model_module_version": "1.0.0",
       "_model_name": "OutputModel",
       "_view_count": null,
       "_view_module": "@jupyter-widgets/output",
       "_view_module_version": "1.0.0",
       "_view_name": "OutputView",
       "layout": "IPY_MODEL_d1ba03af525d45858497d352f3b85508",
       "msg_id": "",
       "outputs": [
        {
         "data": {
          "image/svg+xml": "<svg xmlns=\"http://www.w3.org/2000/svg\" width=\"160.0\" height=\"500.0\"><line x1=\"30.0\" x2=\"130.0\" y1=\"25.0\" y2=\"25.0\" stroke=\"#1967d2\" stroke-width=\"1\"/><line x1=\"30.0\" x2=\"130.0\" y1=\"75.0\" y2=\"75.0\" stroke=\"#1967d2\" stroke-width=\"1\"/><line x1=\"30.0\" x2=\"130.0\" y1=\"125.0\" y2=\"125.0\" stroke=\"#1967d2\" stroke-width=\"1\"/><line x1=\"30.0\" x2=\"130.0\" y1=\"175.0\" y2=\"175.0\" stroke=\"#1967d2\" stroke-width=\"1\"/><line x1=\"30.0\" x2=\"130.0\" y1=\"225.0\" y2=\"225.0\" stroke=\"#1967d2\" stroke-width=\"1\"/><line x1=\"30.0\" x2=\"130.0\" y1=\"275.0\" y2=\"275.0\" stroke=\"#1967d2\" stroke-width=\"1\"/><line x1=\"30.0\" x2=\"130.0\" y1=\"325.0\" y2=\"325.0\" stroke=\"#1967d2\" stroke-width=\"1\"/><line x1=\"30.0\" x2=\"130.0\" y1=\"375.0\" y2=\"375.0\" stroke=\"#1967d2\" stroke-width=\"1\"/><line x1=\"30.0\" x2=\"130.0\" y1=\"425.0\" y2=\"425.0\" stroke=\"#1967d2\" stroke-width=\"1\"/><line x1=\"30.0\" x2=\"130.0\" y1=\"475.0\" y2=\"475.0\" stroke=\"#1967d2\" stroke-width=\"1\"/><line x1=\"90.0\" x2=\"90.0\" y1=\"25.0\" y2=\"475.0\" stroke=\"black\" stroke-width=\"3\"/><rect x=\"10.0\" y=\"5.0\" width=\"40\" height=\"40\" stroke=\"black\" fill=\"white\" stroke-width=\"0\"/><text x=\"30.0\" y=\"25.0\" dominant-baseline=\"middle\" text-anchor=\"middle\" font-size=\"14px\" font-family=\"Arial\">x0: </text><rect x=\"10.0\" y=\"55.0\" width=\"40\" height=\"40\" stroke=\"black\" fill=\"white\" stroke-width=\"0\"/><text x=\"30.0\" y=\"75.0\" dominant-baseline=\"middle\" text-anchor=\"middle\" font-size=\"14px\" font-family=\"Arial\">x1: </text><rect x=\"10.0\" y=\"105.0\" width=\"40\" height=\"40\" stroke=\"black\" fill=\"white\" stroke-width=\"0\"/><text x=\"30.0\" y=\"125.0\" dominant-baseline=\"middle\" text-anchor=\"middle\" font-size=\"14px\" font-family=\"Arial\">x2: </text><rect x=\"10.0\" y=\"155.0\" width=\"40\" height=\"40\" stroke=\"black\" fill=\"white\" stroke-width=\"0\"/><text x=\"30.0\" y=\"175.0\" dominant-baseline=\"middle\" text-anchor=\"middle\" font-size=\"14px\" font-family=\"Arial\">x3: </text><rect x=\"10.0\" y=\"205.0\" width=\"40\" height=\"40\" stroke=\"black\" fill=\"white\" stroke-width=\"0\"/><text x=\"30.0\" y=\"225.0\" dominant-baseline=\"middle\" text-anchor=\"middle\" font-size=\"14px\" font-family=\"Arial\">x4: </text><rect x=\"10.0\" y=\"255.0\" width=\"40\" height=\"40\" stroke=\"black\" fill=\"white\" stroke-width=\"0\"/><text x=\"30.0\" y=\"275.0\" dominant-baseline=\"middle\" text-anchor=\"middle\" font-size=\"14px\" font-family=\"Arial\">y0: </text><rect x=\"10.0\" y=\"305.0\" width=\"40\" height=\"40\" stroke=\"black\" fill=\"white\" stroke-width=\"0\"/><text x=\"30.0\" y=\"325.0\" dominant-baseline=\"middle\" text-anchor=\"middle\" font-size=\"14px\" font-family=\"Arial\">y1: </text><rect x=\"10.0\" y=\"355.0\" width=\"40\" height=\"40\" stroke=\"black\" fill=\"white\" stroke-width=\"0\"/><text x=\"30.0\" y=\"375.0\" dominant-baseline=\"middle\" text-anchor=\"middle\" font-size=\"14px\" font-family=\"Arial\">y2: </text><rect x=\"10.0\" y=\"405.0\" width=\"40\" height=\"40\" stroke=\"black\" fill=\"white\" stroke-width=\"0\"/><text x=\"30.0\" y=\"425.0\" dominant-baseline=\"middle\" text-anchor=\"middle\" font-size=\"14px\" font-family=\"Arial\">y3: </text><rect x=\"10.0\" y=\"455.0\" width=\"40\" height=\"40\" stroke=\"black\" fill=\"white\" stroke-width=\"0\"/><text x=\"30.0\" y=\"475.0\" dominant-baseline=\"middle\" text-anchor=\"middle\" font-size=\"14px\" font-family=\"Arial\">y4: </text><rect x=\"70.0\" y=\"5.0\" width=\"40\" height=\"40\" stroke=\"black\" fill=\"white\" stroke-width=\"1\"/><text x=\"90.0\" y=\"25.0\" dominant-baseline=\"middle\" text-anchor=\"middle\" font-size=\"18px\" font-family=\"Arial\">x</text><rect x=\"70.0\" y=\"55.0\" width=\"40\" height=\"40\" stroke=\"black\" fill=\"white\" stroke-width=\"1\"/><text x=\"90.0\" y=\"75.0\" dominant-baseline=\"middle\" text-anchor=\"middle\" font-size=\"18px\" font-family=\"Arial\">x</text><rect x=\"70.0\" y=\"105.0\" width=\"40\" height=\"40\" stroke=\"black\" fill=\"white\" stroke-width=\"1\"/><text x=\"90.0\" y=\"125.0\" dominant-baseline=\"middle\" text-anchor=\"middle\" font-size=\"18px\" font-family=\"Arial\">x</text><rect x=\"70.0\" y=\"155.0\" width=\"40\" height=\"40\" stroke=\"black\" fill=\"white\" stroke-width=\"1\"/><text x=\"90.0\" y=\"175.0\" dominant-baseline=\"middle\" text-anchor=\"middle\" font-size=\"18px\" font-family=\"Arial\">x</text><rect x=\"70.0\" y=\"205.0\" width=\"40\" height=\"40\" stroke=\"black\" fill=\"white\" stroke-width=\"1\"/><text x=\"90.0\" y=\"225.0\" dominant-baseline=\"middle\" text-anchor=\"middle\" font-size=\"18px\" font-family=\"Arial\">x</text><rect x=\"70.0\" y=\"255.0\" width=\"40\" height=\"40\" stroke=\"black\" fill=\"white\" stroke-width=\"1\"/><text x=\"90.0\" y=\"275.0\" dominant-baseline=\"middle\" text-anchor=\"middle\" font-size=\"18px\" font-family=\"Arial\">y</text><rect x=\"70.0\" y=\"305.0\" width=\"40\" height=\"40\" stroke=\"black\" fill=\"white\" stroke-width=\"1\"/><text x=\"90.0\" y=\"325.0\" dominant-baseline=\"middle\" text-anchor=\"middle\" font-size=\"18px\" font-family=\"Arial\">y</text><rect x=\"70.0\" y=\"355.0\" width=\"40\" height=\"40\" stroke=\"black\" fill=\"white\" stroke-width=\"1\"/><text x=\"90.0\" y=\"375.0\" dominant-baseline=\"middle\" text-anchor=\"middle\" font-size=\"18px\" font-family=\"Arial\">y</text><rect x=\"70.0\" y=\"405.0\" width=\"40\" height=\"40\" stroke=\"black\" fill=\"white\" stroke-width=\"1\"/><text x=\"90.0\" y=\"425.0\" dominant-baseline=\"middle\" text-anchor=\"middle\" font-size=\"18px\" font-family=\"Arial\">y</text><rect x=\"70.0\" y=\"455.0\" width=\"40\" height=\"40\" stroke=\"black\" fill=\"white\" stroke-width=\"1\"/><text x=\"90.0\" y=\"475.0\" dominant-baseline=\"middle\" text-anchor=\"middle\" font-size=\"18px\" font-family=\"Arial\">y</text></svg>",
          "text/plain": "<IPython.core.display.SVG object>"
         },
         "metadata": {},
         "output_type": "display_data"
        }
       ],
       "tabbable": null,
       "tooltip": null
      }
     },
     "557d73e4923b46abb5b01f8d0f575890": {
      "model_module": "@jupyter-widgets/base",
      "model_module_version": "2.0.0",
      "model_name": "LayoutModel",
      "state": {
       "_model_module": "@jupyter-widgets/base",
       "_model_module_version": "2.0.0",
       "_model_name": "LayoutModel",
       "_view_count": null,
       "_view_module": "@jupyter-widgets/base",
       "_view_module_version": "2.0.0",
       "_view_name": "LayoutView",
       "align_content": null,
       "align_items": null,
       "align_self": null,
       "border_bottom": null,
       "border_left": null,
       "border_right": null,
       "border_top": null,
       "bottom": null,
       "display": null,
       "flex": null,
       "flex_flow": null,
       "grid_area": null,
       "grid_auto_columns": null,
       "grid_auto_flow": null,
       "grid_auto_rows": null,
       "grid_column": null,
       "grid_gap": null,
       "grid_row": null,
       "grid_template_areas": null,
       "grid_template_columns": null,
       "grid_template_rows": null,
       "height": null,
       "justify_content": null,
       "justify_items": null,
       "left": null,
       "margin": null,
       "max_height": null,
       "max_width": null,
       "min_height": null,
       "min_width": null,
       "object_fit": null,
       "object_position": null,
       "order": null,
       "overflow": null,
       "padding": null,
       "right": null,
       "top": null,
       "visibility": null,
       "width": null
      }
     },
     "5854eaeab6384f39b4294f97b7db500b": {
      "model_module": "@jupyter-widgets/base",
      "model_module_version": "2.0.0",
      "model_name": "LayoutModel",
      "state": {
       "_model_module": "@jupyter-widgets/base",
       "_model_module_version": "2.0.0",
       "_model_name": "LayoutModel",
       "_view_count": null,
       "_view_module": "@jupyter-widgets/base",
       "_view_module_version": "2.0.0",
       "_view_name": "LayoutView",
       "align_content": null,
       "align_items": null,
       "align_self": null,
       "border_bottom": null,
       "border_left": null,
       "border_right": null,
       "border_top": null,
       "bottom": null,
       "display": null,
       "flex": null,
       "flex_flow": null,
       "grid_area": null,
       "grid_auto_columns": null,
       "grid_auto_flow": null,
       "grid_auto_rows": null,
       "grid_column": null,
       "grid_gap": null,
       "grid_row": null,
       "grid_template_areas": null,
       "grid_template_columns": null,
       "grid_template_rows": null,
       "height": null,
       "justify_content": null,
       "justify_items": null,
       "left": null,
       "margin": null,
       "max_height": null,
       "max_width": null,
       "min_height": null,
       "min_width": null,
       "object_fit": null,
       "object_position": null,
       "order": null,
       "overflow": null,
       "padding": null,
       "right": null,
       "top": null,
       "visibility": null,
       "width": null
      }
     },
     "8c5f31c997cd4023a0e203f47a553e56": {
      "model_module": "@jupyter-widgets/output",
      "model_module_version": "1.0.0",
      "model_name": "OutputModel",
      "state": {
       "_dom_classes": [],
       "_model_module": "@jupyter-widgets/output",
       "_model_module_version": "1.0.0",
       "_model_name": "OutputModel",
       "_view_count": null,
       "_view_module": "@jupyter-widgets/output",
       "_view_module_version": "1.0.0",
       "_view_name": "OutputView",
       "layout": "IPY_MODEL_5854eaeab6384f39b4294f97b7db500b",
       "msg_id": "",
       "outputs": [
        {
         "data": {
          "image/svg+xml": "<svg xmlns=\"http://www.w3.org/2000/svg\" width=\"320.0\" height=\"540.0\"><line x1=\"30.0\" x2=\"290.0\" y1=\"45.0\" y2=\"45.0\" stroke=\"#1967d2\" stroke-width=\"1\"/><line x1=\"30.0\" x2=\"290.0\" y1=\"95.0\" y2=\"95.0\" stroke=\"#1967d2\" stroke-width=\"1\"/><line x1=\"30.0\" x2=\"290.0\" y1=\"145.0\" y2=\"145.0\" stroke=\"#1967d2\" stroke-width=\"1\"/><line x1=\"30.0\" x2=\"290.0\" y1=\"195.0\" y2=\"195.0\" stroke=\"#1967d2\" stroke-width=\"1\"/><line x1=\"30.0\" x2=\"290.0\" y1=\"245.0\" y2=\"245.0\" stroke=\"#1967d2\" stroke-width=\"1\"/><line x1=\"30.0\" x2=\"290.0\" y1=\"295.0\" y2=\"295.0\" stroke=\"#1967d2\" stroke-width=\"1\"/><line x1=\"30.0\" x2=\"290.0\" y1=\"345.0\" y2=\"345.0\" stroke=\"#1967d2\" stroke-width=\"1\"/><line x1=\"30.0\" x2=\"290.0\" y1=\"395.0\" y2=\"395.0\" stroke=\"#1967d2\" stroke-width=\"1\"/><line x1=\"30.0\" x2=\"290.0\" y1=\"445.0\" y2=\"445.0\" stroke=\"#1967d2\" stroke-width=\"1\"/><line x1=\"30.0\" x2=\"290.0\" y1=\"495.0\" y2=\"495.0\" stroke=\"#1967d2\" stroke-width=\"1\"/><line x1=\"60.0\" x2=\"270.0\" y1=\"5.0\" y2=\"5.0\" stroke=\"black\" stroke-width=\"1\"/><line x1=\"60.0\" x2=\"270.0\" y1=\"535.0\" y2=\"535.0\" stroke=\"black\" stroke-width=\"1\"/><line x1=\"80.0\" x2=\"80.0\" y1=\"45.0\" y2=\"295.0\" stroke=\"black\" stroke-width=\"3\"/><line x1=\"120.0\" x2=\"120.0\" y1=\"95.0\" y2=\"345.0\" stroke=\"black\" stroke-width=\"3\"/><line x1=\"160.0\" x2=\"160.0\" y1=\"145.0\" y2=\"395.0\" stroke=\"black\" stroke-width=\"3\"/><line x1=\"200.0\" x2=\"200.0\" y1=\"195.0\" y2=\"445.0\" stroke=\"black\" stroke-width=\"3\"/><line x1=\"240.0\" x2=\"240.0\" y1=\"245.0\" y2=\"495.0\" stroke=\"black\" stroke-width=\"3\"/><line x1=\"60.0\" x2=\"60.0\" y1=\"5.0\" y2=\"15.0\" stroke=\"black\" stroke-width=\"3\"/><line x1=\"270.0\" x2=\"270.0\" y1=\"5.0\" y2=\"15.0\" stroke=\"black\" stroke-width=\"3\"/><line x1=\"60.0\" x2=\"60.0\" y1=\"525.0\" y2=\"535.0\" stroke=\"black\" stroke-width=\"3\"/><line x1=\"270.0\" x2=\"270.0\" y1=\"525.0\" y2=\"535.0\" stroke=\"black\" stroke-width=\"3\"/><rect x=\"10.0\" y=\"25.0\" width=\"40\" height=\"40\" stroke=\"black\" fill=\"white\" stroke-width=\"0\"/><text x=\"30.0\" y=\"45.0\" dominant-baseline=\"middle\" text-anchor=\"middle\" font-size=\"14px\" font-family=\"Arial\">x0: </text><rect x=\"10.0\" y=\"75.0\" width=\"40\" height=\"40\" stroke=\"black\" fill=\"white\" stroke-width=\"0\"/><text x=\"30.0\" y=\"95.0\" dominant-baseline=\"middle\" text-anchor=\"middle\" font-size=\"14px\" font-family=\"Arial\">x1: </text><rect x=\"10.0\" y=\"125.0\" width=\"40\" height=\"40\" stroke=\"black\" fill=\"white\" stroke-width=\"0\"/><text x=\"30.0\" y=\"145.0\" dominant-baseline=\"middle\" text-anchor=\"middle\" font-size=\"14px\" font-family=\"Arial\">x2: </text><rect x=\"10.0\" y=\"175.0\" width=\"40\" height=\"40\" stroke=\"black\" fill=\"white\" stroke-width=\"0\"/><text x=\"30.0\" y=\"195.0\" dominant-baseline=\"middle\" text-anchor=\"middle\" font-size=\"14px\" font-family=\"Arial\">x3: </text><rect x=\"10.0\" y=\"225.0\" width=\"40\" height=\"40\" stroke=\"black\" fill=\"white\" stroke-width=\"0\"/><text x=\"30.0\" y=\"245.0\" dominant-baseline=\"middle\" text-anchor=\"middle\" font-size=\"14px\" font-family=\"Arial\">x4: </text><rect x=\"10.0\" y=\"275.0\" width=\"40\" height=\"40\" stroke=\"black\" fill=\"white\" stroke-width=\"0\"/><text x=\"30.0\" y=\"295.0\" dominant-baseline=\"middle\" text-anchor=\"middle\" font-size=\"14px\" font-family=\"Arial\">y0: </text><rect x=\"10.0\" y=\"325.0\" width=\"40\" height=\"40\" stroke=\"black\" fill=\"white\" stroke-width=\"0\"/><text x=\"30.0\" y=\"345.0\" dominant-baseline=\"middle\" text-anchor=\"middle\" font-size=\"14px\" font-family=\"Arial\">y1: </text><rect x=\"10.0\" y=\"375.0\" width=\"40\" height=\"40\" stroke=\"black\" fill=\"white\" stroke-width=\"0\"/><text x=\"30.0\" y=\"395.0\" dominant-baseline=\"middle\" text-anchor=\"middle\" font-size=\"14px\" font-family=\"Arial\">y2: </text><rect x=\"10.0\" y=\"425.0\" width=\"40\" height=\"40\" stroke=\"black\" fill=\"white\" stroke-width=\"0\"/><text x=\"30.0\" y=\"445.0\" dominant-baseline=\"middle\" text-anchor=\"middle\" font-size=\"14px\" font-family=\"Arial\">y3: </text><rect x=\"10.0\" y=\"475.0\" width=\"40\" height=\"40\" stroke=\"black\" fill=\"white\" stroke-width=\"0\"/><text x=\"30.0\" y=\"495.0\" dominant-baseline=\"middle\" text-anchor=\"middle\" font-size=\"14px\" font-family=\"Arial\">y4: </text><text x=\"80.0\" y=\"48.0\" dominant-baseline=\"middle\" text-anchor=\"middle\" font-size=\"40px\" font-family=\"Arial\">×</text><text x=\"80.0\" y=\"298.0\" dominant-baseline=\"middle\" text-anchor=\"middle\" font-size=\"40px\" font-family=\"Arial\">×</text><text x=\"120.0\" y=\"98.0\" dominant-baseline=\"middle\" text-anchor=\"middle\" font-size=\"40px\" font-family=\"Arial\">×</text><text x=\"120.0\" y=\"348.0\" dominant-baseline=\"middle\" text-anchor=\"middle\" font-size=\"40px\" font-family=\"Arial\">×</text><text x=\"160.0\" y=\"148.0\" dominant-baseline=\"middle\" text-anchor=\"middle\" font-size=\"40px\" font-family=\"Arial\">×</text><text x=\"160.0\" y=\"398.0\" dominant-baseline=\"middle\" text-anchor=\"middle\" font-size=\"40px\" font-family=\"Arial\">×</text><text x=\"200.0\" y=\"198.0\" dominant-baseline=\"middle\" text-anchor=\"middle\" font-size=\"40px\" font-family=\"Arial\">×</text><text x=\"200.0\" y=\"448.0\" dominant-baseline=\"middle\" text-anchor=\"middle\" font-size=\"40px\" font-family=\"Arial\">×</text><text x=\"240.0\" y=\"248.0\" dominant-baseline=\"middle\" text-anchor=\"middle\" font-size=\"40px\" font-family=\"Arial\">×</text><text x=\"240.0\" y=\"498.0\" dominant-baseline=\"middle\" text-anchor=\"middle\" font-size=\"40px\" font-family=\"Arial\">×</text></svg>",
          "text/plain": "<IPython.core.display.SVG object>"
         },
         "metadata": {},
         "output_type": "display_data"
        }
       ],
       "tabbable": null,
       "tooltip": null
      }
     },
     "97c28f77aba74fdc8a2e7e5ef13cb955": {
      "model_module": "@jupyter-widgets/controls",
      "model_module_version": "2.0.0",
      "model_name": "HBoxModel",
      "state": {
       "_dom_classes": [],
       "_model_module": "@jupyter-widgets/controls",
       "_model_module_version": "2.0.0",
       "_model_name": "HBoxModel",
       "_view_count": null,
       "_view_module": "@jupyter-widgets/controls",
       "_view_module_version": "2.0.0",
       "_view_name": "HBoxView",
       "box_style": "",
       "children": [
        "IPY_MODEL_2994bcdee96f4f3f9179c6d88ec9824e",
        "IPY_MODEL_8c5f31c997cd4023a0e203f47a553e56"
       ],
       "layout": "IPY_MODEL_557d73e4923b46abb5b01f8d0f575890",
       "tabbable": null,
       "tooltip": null
      }
     },
     "d1ba03af525d45858497d352f3b85508": {
      "model_module": "@jupyter-widgets/base",
      "model_module_version": "2.0.0",
      "model_name": "LayoutModel",
      "state": {
       "_model_module": "@jupyter-widgets/base",
       "_model_module_version": "2.0.0",
       "_model_name": "LayoutModel",
       "_view_count": null,
       "_view_module": "@jupyter-widgets/base",
       "_view_module_version": "2.0.0",
       "_view_name": "LayoutView",
       "align_content": null,
       "align_items": null,
       "align_self": null,
       "border_bottom": null,
       "border_left": null,
       "border_right": null,
       "border_top": null,
       "bottom": null,
       "display": null,
       "flex": null,
       "flex_flow": null,
       "grid_area": null,
       "grid_auto_columns": null,
       "grid_auto_flow": null,
       "grid_auto_rows": null,
       "grid_column": null,
       "grid_gap": null,
       "grid_row": null,
       "grid_template_areas": null,
       "grid_template_columns": null,
       "grid_template_rows": null,
       "height": null,
       "justify_content": null,
       "justify_items": null,
       "left": null,
       "margin": null,
       "max_height": null,
       "max_width": null,
       "min_height": null,
       "min_width": null,
       "object_fit": null,
       "object_position": null,
       "order": null,
       "overflow": null,
       "padding": null,
       "right": null,
       "top": null,
       "visibility": null,
       "width": null
      }
     }
    },
    "version_major": 2,
    "version_minor": 0
   }
  }
 },
 "nbformat": 4,
 "nbformat_minor": 5
}
