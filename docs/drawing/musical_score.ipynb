{
 "cells": [
  {
   "cell_type": "markdown",
   "id": "5fa41bdb",
   "metadata": {},
   "source": [
    "# Musical Score\n",
    "\n",
    "The internal representation of a `CompositeBloq` is a directed acyclic graph. Here, we lay out that graph on a \"musical score\", which avoids the problems of edges crossing over each other and is more familiar to quantum computing practitioners.\n",
    "\n",
    "A musical score is one where time proceeds from left to right and each horizontal line\n",
    "represents a qubit or register of qubits."
   ]
  },
  {
   "cell_type": "markdown",
   "id": "664d4689",
   "metadata": {},
   "source": [
    "## Graph\n",
    "\n",
    "Below is a graphviz-rendered view of a 4-bit and's decomposition."
   ]
  },
  {
   "cell_type": "code",
   "execution_count": 1,
   "id": "d642c664",
   "metadata": {
    "execution": {
     "iopub.execute_input": "2023-07-14T16:48:33.448325Z",
     "iopub.status.busy": "2023-07-14T16:48:33.447938Z",
     "iopub.status.idle": "2023-07-14T16:48:36.362591Z",
     "shell.execute_reply": "2023-07-14T16:48:36.362071Z"
    }
   },
   "outputs": [
    {
     "data": {
      "image/svg+xml": [
       "<svg xmlns=\"http://www.w3.org/2000/svg\" xmlns:xlink=\"http://www.w3.org/1999/xlink\" width=\"395pt\" height=\"368pt\" viewBox=\"0.00 0.00 395.00 368.00\">\n",
       "<g id=\"graph0\" class=\"graph\" transform=\"scale(1 1) rotate(0) translate(4 364)\">\n",
       "<title>my_graph</title>\n",
       "<polygon fill=\"white\" stroke=\"transparent\" points=\"-4,4 -4,-364 391,-364 391,4 -4,4\"/>\n",
       "<!-- ctrl_G17 -->\n",
       "<g id=\"node1\" class=\"node\">\n",
       "<title>ctrl_G17</title>\n",
       "<text text-anchor=\"middle\" x=\"27\" y=\"-316.3\" font-family=\"Times,serif\" font-size=\"14.00\">ctrl[0]</text>\n",
       "</g>\n",
       "<!-- And_G3 -->\n",
       "<g id=\"node7\" class=\"node\">\n",
       "<title>And_G3</title>\n",
       "<polygon fill=\"none\" stroke=\"black\" points=\"91.5,-320 91.5,-337 134.5,-337 134.5,-320 91.5,-320\"/>\n",
       "<text text-anchor=\"start\" x=\"103.5\" y=\"-326\" font-family=\"Times,serif\" font-size=\"10.00\">And</text>\n",
       "<polygon fill=\"none\" stroke=\"black\" points=\"91.5,-299 91.5,-320 134.5,-320 134.5,-299 91.5,-299\"/>\n",
       "<text text-anchor=\"start\" x=\"96\" y=\"-305.8\" font-family=\"Times,serif\" font-size=\"14.00\">ctrl[0]</text>\n",
       "<polygon fill=\"none\" stroke=\"black\" points=\"91.5,-278 91.5,-299 134.5,-299 134.5,-278 91.5,-278\"/>\n",
       "<text text-anchor=\"start\" x=\"96\" y=\"-284.8\" font-family=\"Times,serif\" font-size=\"14.00\">ctrl[1]</text>\n",
       "<polygon fill=\"none\" stroke=\"black\" points=\"91.5,-257 91.5,-278 97.5,-278 97.5,-257 91.5,-257\"/>\n",
       "<polygon fill=\"none\" stroke=\"black\" points=\"97.5,-257 97.5,-278 134.5,-278 134.5,-257 97.5,-257\"/>\n",
       "<text text-anchor=\"start\" x=\"100.5\" y=\"-263.8\" font-family=\"Times,serif\" font-size=\"14.00\">target</text>\n",
       "</g>\n",
       "<!-- ctrl_G17&#45;&gt;And_G3 -->\n",
       "<g id=\"edge1\" class=\"edge\">\n",
       "<title>ctrl_G17:e-&gt;And_G3:w</title>\n",
       "<path fill=\"none\" stroke=\"black\" d=\"M54,-320C70.24,-320 73.66,-310.92 88.69,-310.06\"/>\n",
       "<ellipse fill=\"black\" stroke=\"black\" cx=\"90\" cy=\"-310.03\" rx=\"1\" ry=\"1\"/>\n",
       "<text text-anchor=\"middle\" x=\"72.5\" y=\"-318\" font-family=\"Times,serif\" font-size=\"10.00\">1</text>\n",
       "</g>\n",
       "<!-- ctrl_G16 -->\n",
       "<g id=\"node2\" class=\"node\">\n",
       "<title>ctrl_G16</title>\n",
       "<text text-anchor=\"middle\" x=\"27\" y=\"-262.3\" font-family=\"Times,serif\" font-size=\"14.00\">ctrl[1]</text>\n",
       "</g>\n",
       "<!-- ctrl_G16&#45;&gt;And_G3 -->\n",
       "<g id=\"edge2\" class=\"edge\">\n",
       "<title>ctrl_G16:e-&gt;And_G3:w</title>\n",
       "<path fill=\"none\" stroke=\"black\" d=\"M54,-266C72.38,-266 71.94,-286.31 88.85,-287.9\"/>\n",
       "<ellipse fill=\"black\" stroke=\"black\" cx=\"90\" cy=\"-287.95\" rx=\"1\" ry=\"1\"/>\n",
       "<text text-anchor=\"middle\" x=\"72.5\" y=\"-280\" font-family=\"Times,serif\" font-size=\"10.00\">1</text>\n",
       "</g>\n",
       "<!-- ctrl_G18 -->\n",
       "<g id=\"node3\" class=\"node\">\n",
       "<title>ctrl_G18</title>\n",
       "<text text-anchor=\"middle\" x=\"27\" y=\"-197.3\" font-family=\"Times,serif\" font-size=\"14.00\">ctrl[2]</text>\n",
       "</g>\n",
       "<!-- And_G0 -->\n",
       "<g id=\"node6\" class=\"node\">\n",
       "<title>And_G0</title>\n",
       "<polygon fill=\"none\" stroke=\"black\" points=\"171.5,-233 171.5,-250 214.5,-250 214.5,-233 171.5,-233\"/>\n",
       "<text text-anchor=\"start\" x=\"183.5\" y=\"-239\" font-family=\"Times,serif\" font-size=\"10.00\">And</text>\n",
       "<polygon fill=\"none\" stroke=\"black\" points=\"171.5,-212 171.5,-233 214.5,-233 214.5,-212 171.5,-212\"/>\n",
       "<text text-anchor=\"start\" x=\"176\" y=\"-218.8\" font-family=\"Times,serif\" font-size=\"14.00\">ctrl[0]</text>\n",
       "<polygon fill=\"none\" stroke=\"black\" points=\"171.5,-191 171.5,-212 214.5,-212 214.5,-191 171.5,-191\"/>\n",
       "<text text-anchor=\"start\" x=\"176\" y=\"-197.8\" font-family=\"Times,serif\" font-size=\"14.00\">ctrl[1]</text>\n",
       "<polygon fill=\"none\" stroke=\"black\" points=\"171.5,-170 171.5,-191 177.5,-191 177.5,-170 171.5,-170\"/>\n",
       "<polygon fill=\"none\" stroke=\"black\" points=\"177.5,-170 177.5,-191 214.5,-191 214.5,-170 177.5,-170\"/>\n",
       "<text text-anchor=\"start\" x=\"180.5\" y=\"-176.8\" font-family=\"Times,serif\" font-size=\"14.00\">target</text>\n",
       "</g>\n",
       "<!-- ctrl_G18&#45;&gt;And_G0 -->\n",
       "<g id=\"edge4\" class=\"edge\">\n",
       "<title>ctrl_G18:e-&gt;And_G0:w</title>\n",
       "<path fill=\"none\" stroke=\"black\" d=\"M54,-201C105.29,-201 118.64,-201 168.89,-201\"/>\n",
       "<ellipse fill=\"black\" stroke=\"black\" cx=\"170\" cy=\"-201\" rx=\"1\" ry=\"1\"/>\n",
       "<text text-anchor=\"middle\" x=\"112.5\" y=\"-204\" font-family=\"Times,serif\" font-size=\"10.00\">1</text>\n",
       "</g>\n",
       "<!-- ctrl_G6 -->\n",
       "<g id=\"node4\" class=\"node\">\n",
       "<title>ctrl_G6</title>\n",
       "<text text-anchor=\"middle\" x=\"27\" y=\"-80.3\" font-family=\"Times,serif\" font-size=\"14.00\">ctrl[3]</text>\n",
       "</g>\n",
       "<!-- And -->\n",
       "<g id=\"node5\" class=\"node\">\n",
       "<title>And</title>\n",
       "<polygon fill=\"none\" stroke=\"black\" points=\"251.5,-116 251.5,-133 294.5,-133 294.5,-116 251.5,-116\"/>\n",
       "<text text-anchor=\"start\" x=\"263.5\" y=\"-122\" font-family=\"Times,serif\" font-size=\"10.00\">And</text>\n",
       "<polygon fill=\"none\" stroke=\"black\" points=\"251.5,-95 251.5,-116 294.5,-116 294.5,-95 251.5,-95\"/>\n",
       "<text text-anchor=\"start\" x=\"256\" y=\"-101.8\" font-family=\"Times,serif\" font-size=\"14.00\">ctrl[0]</text>\n",
       "<polygon fill=\"none\" stroke=\"black\" points=\"251.5,-74 251.5,-95 294.5,-95 294.5,-74 251.5,-74\"/>\n",
       "<text text-anchor=\"start\" x=\"256\" y=\"-80.8\" font-family=\"Times,serif\" font-size=\"14.00\">ctrl[1]</text>\n",
       "<polygon fill=\"none\" stroke=\"black\" points=\"251.5,-53 251.5,-74 257.5,-74 257.5,-53 251.5,-53\"/>\n",
       "<polygon fill=\"none\" stroke=\"black\" points=\"257.5,-53 257.5,-74 294.5,-74 294.5,-53 257.5,-53\"/>\n",
       "<text text-anchor=\"start\" x=\"260.5\" y=\"-59.8\" font-family=\"Times,serif\" font-size=\"14.00\">target</text>\n",
       "</g>\n",
       "<!-- ctrl_G6&#45;&gt;And -->\n",
       "<g id=\"edge6\" class=\"edge\">\n",
       "<title>ctrl_G6:e-&gt;And:w</title>\n",
       "<path fill=\"none\" stroke=\"black\" d=\"M54,-84C140.87,-84 163.1,-84 248.96,-84\"/>\n",
       "<ellipse fill=\"black\" stroke=\"black\" cx=\"250\" cy=\"-84\" rx=\"1\" ry=\"1\"/>\n",
       "<text text-anchor=\"middle\" x=\"152.5\" y=\"-87\" font-family=\"Times,serif\" font-size=\"10.00\">1</text>\n",
       "</g>\n",
       "<!-- ctrl_G20 -->\n",
       "<g id=\"node11\" class=\"node\">\n",
       "<title>ctrl_G20</title>\n",
       "<text text-anchor=\"middle\" x=\"359\" y=\"-68.3\" font-family=\"Times,serif\" font-size=\"14.00\">ctrl[3]</text>\n",
       "</g>\n",
       "<!-- And&#45;&gt;ctrl_G20 -->\n",
       "<g id=\"edge10\" class=\"edge\">\n",
       "<title>And:e-&gt;ctrl_G20:w</title>\n",
       "<path fill=\"none\" stroke=\"black\" d=\"M294,-84C310.48,-84 313.45,-73.1 328.66,-72.08\"/>\n",
       "<ellipse fill=\"black\" stroke=\"black\" cx=\"330\" cy=\"-72.03\" rx=\"1\" ry=\"1\"/>\n",
       "<text text-anchor=\"middle\" x=\"312.5\" y=\"-81\" font-family=\"Times,serif\" font-size=\"10.00\">1</text>\n",
       "</g>\n",
       "<!-- junk -->\n",
       "<g id=\"node13\" class=\"node\">\n",
       "<title>junk</title>\n",
       "<text text-anchor=\"middle\" x=\"359\" y=\"-122.3\" font-family=\"Times,serif\" font-size=\"14.00\">junk[1]</text>\n",
       "</g>\n",
       "<!-- And&#45;&gt;junk -->\n",
       "<g id=\"edge12\" class=\"edge\">\n",
       "<title>And:e-&gt;junk:w</title>\n",
       "<path fill=\"none\" stroke=\"black\" d=\"M294,-106C311.96,-106 312.31,-124.47 328.89,-125.91\"/>\n",
       "<ellipse fill=\"black\" stroke=\"black\" cx=\"330\" cy=\"-125.96\" rx=\"1\" ry=\"1\"/>\n",
       "<text text-anchor=\"middle\" x=\"312.5\" y=\"-119\" font-family=\"Times,serif\" font-size=\"10.00\">1</text>\n",
       "</g>\n",
       "<!-- target_G19 -->\n",
       "<g id=\"node14\" class=\"node\">\n",
       "<title>target_G19</title>\n",
       "<text text-anchor=\"middle\" x=\"359\" y=\"-14.3\" font-family=\"Times,serif\" font-size=\"14.00\">target</text>\n",
       "</g>\n",
       "<!-- And&#45;&gt;target_G19 -->\n",
       "<g id=\"edge13\" class=\"edge\">\n",
       "<title>And:e-&gt;target_G19:w</title>\n",
       "<path fill=\"none\" stroke=\"black\" d=\"M294,-63C319.18,-63 305.89,-20.43 328.97,-18.1\"/>\n",
       "<ellipse fill=\"black\" stroke=\"black\" cx=\"330\" cy=\"-18.05\" rx=\"1\" ry=\"1\"/>\n",
       "<text text-anchor=\"middle\" x=\"312.5\" y=\"-45\" font-family=\"Times,serif\" font-size=\"10.00\">1</text>\n",
       "</g>\n",
       "<!-- And_G0&#45;&gt;And -->\n",
       "<g id=\"edge5\" class=\"edge\">\n",
       "<title>And_G0:e-&gt;And:w</title>\n",
       "<path fill=\"none\" stroke=\"black\" d=\"M214,-180C250.05,-180 215.63,-108.86 248.93,-106.08\"/>\n",
       "<ellipse fill=\"black\" stroke=\"black\" cx=\"250\" cy=\"-106.04\" rx=\"1\" ry=\"1\"/>\n",
       "<text text-anchor=\"middle\" x=\"232.5\" y=\"-162\" font-family=\"Times,serif\" font-size=\"10.00\">1</text>\n",
       "</g>\n",
       "<!-- ctrl_G15 -->\n",
       "<g id=\"node10\" class=\"node\">\n",
       "<title>ctrl_G15</title>\n",
       "<text text-anchor=\"middle\" x=\"359\" y=\"-176.3\" font-family=\"Times,serif\" font-size=\"14.00\">ctrl[2]</text>\n",
       "</g>\n",
       "<!-- And_G0&#45;&gt;ctrl_G15 -->\n",
       "<g id=\"edge9\" class=\"edge\">\n",
       "<title>And_G0:e-&gt;ctrl_G15:w</title>\n",
       "<path fill=\"none\" stroke=\"black\" d=\"M214,-201C266.11,-201 277.85,-180.57 328.86,-180.01\"/>\n",
       "<ellipse fill=\"black\" stroke=\"black\" cx=\"330\" cy=\"-180.01\" rx=\"1\" ry=\"1\"/>\n",
       "<text text-anchor=\"middle\" x=\"272.5\" y=\"-200\" font-family=\"Times,serif\" font-size=\"10.00\">1</text>\n",
       "</g>\n",
       "<!-- junk_G14 -->\n",
       "<g id=\"node12\" class=\"node\">\n",
       "<title>junk_G14</title>\n",
       "<text text-anchor=\"middle\" x=\"359\" y=\"-230.3\" font-family=\"Times,serif\" font-size=\"14.00\">junk[0]</text>\n",
       "</g>\n",
       "<!-- And_G0&#45;&gt;junk_G14 -->\n",
       "<g id=\"edge11\" class=\"edge\">\n",
       "<title>And_G0:e-&gt;junk_G14:w</title>\n",
       "<path fill=\"none\" stroke=\"black\" d=\"M214,-223C265.52,-223 278.42,-233.7 328.88,-233.99\"/>\n",
       "<ellipse fill=\"black\" stroke=\"black\" cx=\"330\" cy=\"-234\" rx=\"1\" ry=\"1\"/>\n",
       "<text text-anchor=\"middle\" x=\"272.5\" y=\"-234\" font-family=\"Times,serif\" font-size=\"10.00\">1</text>\n",
       "</g>\n",
       "<!-- And_G3&#45;&gt;And_G0 -->\n",
       "<g id=\"edge3\" class=\"edge\">\n",
       "<title>And_G3:e-&gt;And_G0:w</title>\n",
       "<path fill=\"none\" stroke=\"black\" d=\"M134,-267C158.85,-267 146.19,-225.37 168.99,-223.1\"/>\n",
       "<ellipse fill=\"black\" stroke=\"black\" cx=\"170\" cy=\"-223.05\" rx=\"1\" ry=\"1\"/>\n",
       "<text text-anchor=\"middle\" x=\"152.5\" y=\"-249\" font-family=\"Times,serif\" font-size=\"10.00\">1</text>\n",
       "</g>\n",
       "<!-- ctrl_G10 -->\n",
       "<g id=\"node8\" class=\"node\">\n",
       "<title>ctrl_G10</title>\n",
       "<text text-anchor=\"middle\" x=\"359\" y=\"-338.3\" font-family=\"Times,serif\" font-size=\"14.00\">ctrl[0]</text>\n",
       "</g>\n",
       "<!-- And_G3&#45;&gt;ctrl_G10 -->\n",
       "<g id=\"edge7\" class=\"edge\">\n",
       "<title>And_G3:e-&gt;ctrl_G10:w</title>\n",
       "<path fill=\"none\" stroke=\"black\" d=\"M134,-310C222.01,-310 241.99,-341.5 328.93,-341.99\"/>\n",
       "<ellipse fill=\"black\" stroke=\"black\" cx=\"330\" cy=\"-342\" rx=\"1\" ry=\"1\"/>\n",
       "<text text-anchor=\"middle\" x=\"232.5\" y=\"-329\" font-family=\"Times,serif\" font-size=\"10.00\">1</text>\n",
       "</g>\n",
       "<!-- ctrl_G8 -->\n",
       "<g id=\"node9\" class=\"node\">\n",
       "<title>ctrl_G8</title>\n",
       "<text text-anchor=\"middle\" x=\"359\" y=\"-284.3\" font-family=\"Times,serif\" font-size=\"14.00\">ctrl[1]</text>\n",
       "</g>\n",
       "<!-- And_G3&#45;&gt;ctrl_G8 -->\n",
       "<g id=\"edge8\" class=\"edge\">\n",
       "<title>And_G3:e-&gt;ctrl_G8:w</title>\n",
       "<path fill=\"none\" stroke=\"black\" d=\"M134,-288C220.87,-288 243.1,-288 328.96,-288\"/>\n",
       "<ellipse fill=\"black\" stroke=\"black\" cx=\"330\" cy=\"-288\" rx=\"1\" ry=\"1\"/>\n",
       "<text text-anchor=\"middle\" x=\"232.5\" y=\"-291\" font-family=\"Times,serif\" font-size=\"10.00\">1</text>\n",
       "</g>\n",
       "</g>\n",
       "</svg>"
      ],
      "text/plain": [
       "<IPython.core.display.SVG object>"
      ]
     },
     "metadata": {},
     "output_type": "display_data"
    }
   ],
   "source": [
    "from qualtran.bloqs.and_bloq import MultiAnd\n",
    "from qualtran.drawing import show_bloq\n",
    "\n",
    "cbloq = MultiAnd((1,1,0,1)).decompose_bloq()\n",
    "show_bloq(cbloq)"
   ]
  },
  {
   "cell_type": "markdown",
   "id": "b5c0f814",
   "metadata": {},
   "source": [
    "## Matplotlib musical score\n",
    "\n",
    "The first step to drawing a musical score diagram is to call `get_musical_score_data` on the composite bloq, which will lay out the various symbols on the score and return a data structure containing position and other information. We provide two backends for actually drawing the score as laid out in `msd`. `draw_musical_score` will use matplotlib to draw a diagram."
   ]
  },
  {
   "cell_type": "code",
   "execution_count": 2,
   "id": "fcbbcc9b",
   "metadata": {
    "execution": {
     "iopub.execute_input": "2023-07-14T16:48:36.368102Z",
     "iopub.status.busy": "2023-07-14T16:48:36.367686Z",
     "iopub.status.idle": "2023-07-14T16:48:36.580827Z",
     "shell.execute_reply": "2023-07-14T16:48:36.580297Z"
    }
   },
   "outputs": [
    {
     "name": "stderr",
     "output_type": "stream",
     "text": [
      "/tmp/ipykernel_1174320/3983523133.py:4: UserWarning: The figure layout has changed to tight\n",
      "  fig.tight_layout()\n"
     ]
    },
    {
     "data": {
      "image/png": "[encoded data removed]",
      "text/plain": [
       "<Figure size 500x500 with 1 Axes>"
      ]
     },
     "metadata": {},
     "output_type": "display_data"
    }
   ],
   "source": [
    "from qualtran.drawing import get_musical_score_data, draw_musical_score\n",
    "msd = get_musical_score_data(cbloq)\n",
    "fig, ax = draw_musical_score(msd)\n",
    "fig.tight_layout()"
   ]
  },
  {
   "cell_type": "markdown",
   "id": "b76e47bd",
   "metadata": {},
   "source": [
    "## Javascript musical score\n",
    "\n",
    "We can dump the salient visualization information to JSON so it can be loaded from javascript and displayed using the d3-based drawing utilities in `musical_score.js`. See `musical_score.html` where we load in this information."
   ]
  },
  {
   "cell_type": "code",
   "execution_count": 3,
   "id": "38271e89",
   "metadata": {
    "execution": {
     "iopub.execute_input": "2023-07-14T16:48:36.586295Z",
     "iopub.status.busy": "2023-07-14T16:48:36.586088Z",
     "iopub.status.idle": "2023-07-14T16:48:36.590225Z",
     "shell.execute_reply": "2023-07-14T16:48:36.589635Z"
    }
   },
   "outputs": [],
   "source": [
    "from qualtran.drawing import dump_musical_score\n",
    "\n",
    "dump_musical_score(msd, name='musical_score_example')"
   ]
  }
 ],
 "metadata": {
  "kernelspec": {
   "display_name": "Python 3 (ipykernel)",
   "language": "python",
   "name": "python3"
  },
  "language_info": {
   "codemirror_mode": {
    "name": "ipython",
    "version": 3
   },
   "file_extension": ".py",
   "mimetype": "text/x-python",
   "name": "python",
   "nbconvert_exporter": "python",
   "pygments_lexer": "ipython3",
   "version": "3.10.11"
  }
 },
 "nbformat": 4,
 "nbformat_minor": 5
}
