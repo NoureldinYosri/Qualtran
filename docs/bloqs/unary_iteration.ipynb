{
 "cells": [
  {
   "cell_type": "code",
   "execution_count": 1,
   "id": "e2fa907b",
   "metadata": {
    "execution": {
     "iopub.execute_input": "2023-10-30T23:24:54.248646Z",
     "iopub.status.busy": "2023-10-30T23:24:54.248300Z",
     "iopub.status.idle": "2023-10-30T23:24:54.254062Z",
     "shell.execute_reply": "2023-10-30T23:24:54.253501Z"
    }
   },
   "outputs": [],
   "source": [
    "#  Copyright 2023 Google LLC\n",
    "#\n",
    "#  Licensed under the Apache License, Version 2.0 (the \"License\");\n",
    "#  you may not use this file except in compliance with the License.\n",
    "#  You may obtain a copy of the License at\n",
    "#\n",
    "#      https://www.apache.org/licenses/LICENSE-2.0\n",
    "#\n",
    "#  Unless required by applicable law or agreed to in writing, software\n",
    "#  distributed under the License is distributed on an \"AS IS\" BASIS,\n",
    "#  WITHOUT WARRANTIES OR CONDITIONS OF ANY KIND, either express or implied.\n",
    "#  See the License for the specific language governing permissions and\n",
    "#  limitations under the License."
   ]
  },
  {
   "cell_type": "markdown",
   "id": "49b5e1e6",
   "metadata": {},
   "source": [
    "# Unary Iteration"
   ]
  },
  {
   "cell_type": "markdown",
   "id": "fcdb39f2",
   "metadata": {},
   "source": [
    "Given an array of potential operations, for example:\n",
    "\n",
    "    ops = [X(i) for i in range(5)]\n",
    "    \n",
    "we would like to select an operation to apply:\n",
    "\n",
    "    n = 4 --> apply ops[4]\n",
    "    \n",
    "If $n$ is a quantum integer, we need to apply the transformation\n",
    "\n",
    "$$\n",
    "    |n \\rangle |\\psi\\rangle \\rightarrow |n\\rangle \\, \\mathrm{ops}_n \\cdot |\\psi\\rangle\n",
    "$$\n",
    "\n",
    "The simplest conceptual way to do this is to use a \"total control\" quantum circuit where you introduce a multi-controlled operation for each of the `len(ops)` possible `n` values."
   ]
  },
  {
   "cell_type": "code",
   "execution_count": 2,
   "id": "0148f529",
   "metadata": {
    "execution": {
     "iopub.execute_input": "2023-10-30T23:24:54.257264Z",
     "iopub.status.busy": "2023-10-30T23:24:54.257020Z",
     "iopub.status.idle": "2023-10-30T23:24:55.188385Z",
     "shell.execute_reply": "2023-10-30T23:24:55.188093Z"
    }
   },
   "outputs": [],
   "source": [
    "import cirq\n",
    "from cirq.contrib.svg import SVGCircuit\n",
    "import numpy as np\n",
    "from typing import *"
   ]
  },
  {
   "cell_type": "code",
   "execution_count": 3,
   "id": "32e90969",
   "metadata": {
    "execution": {
     "iopub.execute_input": "2023-10-30T23:24:55.190240Z",
     "iopub.status.busy": "2023-10-30T23:24:55.190090Z",
     "iopub.status.idle": "2023-10-30T23:24:55.191933Z",
     "shell.execute_reply": "2023-10-30T23:24:55.191655Z"
    }
   },
   "outputs": [],
   "source": [
    "import operator\n",
    "import cirq._compat\n",
    "import itertools"
   ]
  },
  {
   "cell_type": "markdown",
   "id": "a6d947da",
   "metadata": {},
   "source": [
    "## Total Control\n",
    "\n",
    "Here, we'll use Sympy's boolean logic to show how total control works. We perform an `And( ... )` for each possible bit pattern. We use an `Xnor` on each selection bit to toggle whether it's a positive or negative control (filled or open circle in quantum circuit diagrams).\n",
    "\n",
    "In this example, we indeed consider $X_n$ as our potential operations and toggle bits in the `target` register according to the total control."
   ]
  },
  {
   "cell_type": "code",
   "execution_count": 4,
   "id": "8e61bf03",
   "metadata": {
    "execution": {
     "iopub.execute_input": "2023-10-30T23:24:55.193603Z",
     "iopub.status.busy": "2023-10-30T23:24:55.193490Z",
     "iopub.status.idle": "2023-10-30T23:24:55.197069Z",
     "shell.execute_reply": "2023-10-30T23:24:55.196814Z"
    },
    "scrolled": false
   },
   "outputs": [
    {
     "name": "stdout",
     "output_type": "stream",
     "text": [
      "Selection is [0, 0, 0]\n",
      "Step 0, apply total control: (0, 0, 0)\n",
      "  -> At this stage, 0= and our output bit is set\n",
      "Step 1, apply total control: (0, 0, 1)\n",
      "Step 2, apply total control: (0, 1, 0)\n",
      "Step 3, apply total control: (0, 1, 1)\n",
      "Step 4, apply total control: (1, 0, 0)\n",
      "Step 5, apply total control: (1, 0, 1)\n",
      "Step 6, apply total control: (1, 1, 0)\n",
      "Step 7, apply total control: (1, 1, 1)\n",
      "\n",
      "Target:\n",
      "[True, False, False, False, False, False, False, False]\n"
     ]
    }
   ],
   "source": [
    "import sympy as S\n",
    "import sympy.logic.boolalg as slb\n",
    "\n",
    "def total_control(selection, target):\n",
    "    \"\"\"Toggle bits in `target` depending on `selection`.\"\"\"\n",
    "    print(f\"Selection is {selection}\")\n",
    "    \n",
    "    for n, trial in enumerate(itertools.product((0, 1), repeat=len(selection))):\n",
    "        print(f\"Step {n}, apply total control: {trial}\")\n",
    "        target[n] ^= slb.And(*[slb.Xnor(s, t) for s, t in zip(selection, trial)])\n",
    "          \n",
    "        if target[n] == S.true:\n",
    "            print(f\"  -> At this stage, {n}= and our output bit is set\")\n",
    "\n",
    "        \n",
    "selection = [0, 0, 0]\n",
    "target = [False]*8\n",
    "total_control(selection, target)    \n",
    "print()\n",
    "print(\"Target:\")\n",
    "print(target)"
   ]
  },
  {
   "cell_type": "markdown",
   "id": "e572a31d",
   "metadata": {},
   "source": [
    "Note that our target register shows we have indeed applied $X_\\mathrm{0b010}$. Try changing `selection` to other bit patterns and notice how it changes."
   ]
  },
  {
   "cell_type": "markdown",
   "id": "a4a75f61",
   "metadata": {},
   "source": [
    "Of course, we don't know what state the selection register will be in. We can use sympy's support for symbolic boolean logic to verify our gadget for all possible selection inputs."
   ]
  },
  {
   "cell_type": "code",
   "execution_count": 5,
   "id": "5df67d45",
   "metadata": {
    "execution": {
     "iopub.execute_input": "2023-10-30T23:24:55.198540Z",
     "iopub.status.busy": "2023-10-30T23:24:55.198461Z",
     "iopub.status.idle": "2023-10-30T23:24:55.202203Z",
     "shell.execute_reply": "2023-10-30T23:24:55.201941Z"
    }
   },
   "outputs": [
    {
     "name": "stdout",
     "output_type": "stream",
     "text": [
      "Selection is [s0, s1, s2]\n",
      "Step 0, apply total control: (0, 0, 0)\n",
      "Step 1, apply total control: (0, 0, 1)\n",
      "Step 2, apply total control: (0, 1, 0)\n",
      "Step 3, apply total control: (0, 1, 1)\n",
      "Step 4, apply total control: (1, 0, 0)\n",
      "Step 5, apply total control: (1, 0, 1)\n",
      "Step 6, apply total control: (1, 1, 0)\n",
      "Step 7, apply total control: (1, 1, 1)\n",
      "\n",
      "Target:\n",
      "0= ~s0 & ~s1 & ~s2\n",
      "1= s2 & ~s0 & ~s1\n",
      "2= s1 & ~s0 & ~s2\n",
      "3= s1 & s2 & ~s0\n",
      "4= s0 & ~s1 & ~s2\n",
      "5= s0 & s2 & ~s1\n",
      "6= s0 & s1 & ~s2\n",
      "7= s0 & s1 & s2\n"
     ]
    }
   ],
   "source": [
    "selection = [S.Symbol(f's{i}') for i in range(3)]\n",
    "target = [S.false for i in range(2**len(selection)) ]\n",
    "total_control(selection, target)\n",
    "\n",
    "print()\n",
    "print(\"Target:\")\n",
    "for n, t in enumerate(target):\n",
    "    print(f'{n}= {t}')\n",
    "    \n",
    "tc_target = target.copy()"
   ]
  },
  {
   "cell_type": "markdown",
   "id": "deab0553",
   "metadata": {},
   "source": [
    "As expected, the \"not pattern\" (where `~` is boolean not) matches the binary representations of `n`."
   ]
  },
  {
   "cell_type": "markdown",
   "id": "81b69e70",
   "metadata": {},
   "source": [
    "## Unary Iteration with segment trees\n",
    "\n",
    "A [segment tree](https://en.wikipedia.org/wiki/Segment_tree) is a data structure that allows logrithmic-time querying of intervals. We use a segment tree where each interval is length 1 and comprises all the `n` integers we may select.\n",
    "\n",
    "It is defined recursively by dividing the input interval into two half-size intervals until the left limit meets the right limit."
   ]
  },
  {
   "cell_type": "code",
   "execution_count": 6,
   "id": "ab998aa4",
   "metadata": {
    "execution": {
     "iopub.execute_input": "2023-10-30T23:24:55.203763Z",
     "iopub.status.busy": "2023-10-30T23:24:55.203680Z",
     "iopub.status.idle": "2023-10-30T23:24:55.206443Z",
     "shell.execute_reply": "2023-10-30T23:24:55.206216Z"
    }
   },
   "outputs": [],
   "source": [
    "def segtree(ctrl, selection, target, depth, left, right):\n",
    "    \"\"\"Toggle bits in `target` depending on `selection` using a recursive segment tree.\"\"\"\n",
    "    print(f'depth={depth} left={left} right={right}', end=' ')\n",
    "    \n",
    "    if left == (right - 1):\n",
    "        # Leaf of the recusion.\n",
    "        print(f'n={n} ctrl={ctrl}')\n",
    "        target[left] ^= ctrl\n",
    "        return \n",
    "    print()\n",
    "    \n",
    "    assert depth < len(selection)\n",
    "    mid = (left + right) >> 1\n",
    "    \n",
    "    # Recurse left interval\n",
    "    new_ctrl = slb.And(ctrl, slb.Not(selection[depth]))\n",
    "    segtree(ctrl=new_ctrl, selection=selection, target=target, depth=depth+1, left=left, right=mid)\n",
    "    \n",
    "    # Recurse right interval\n",
    "    new_ctrl = slb.And(ctrl, selection[depth])\n",
    "    segtree(ctrl=new_ctrl, selection=selection, target=target, depth=depth+1, left=mid, right=right)\n",
    "    \n",
    "    # Quantum note:\n",
    "    # instead of throwing away the first value of `new_ctrl` and re-anding\n",
    "    # with selection, we can just invert the first one (but only if `ctrl` is active)\n",
    "    # new_ctrl ^= ctrl"
   ]
  },
  {
   "cell_type": "code",
   "execution_count": 7,
   "id": "6a514ee6",
   "metadata": {
    "execution": {
     "iopub.execute_input": "2023-10-30T23:24:55.208053Z",
     "iopub.status.busy": "2023-10-30T23:24:55.207944Z",
     "iopub.status.idle": "2023-10-30T23:24:55.214835Z",
     "shell.execute_reply": "2023-10-30T23:24:55.214598Z"
    }
   },
   "outputs": [
    {
     "name": "stdout",
     "output_type": "stream",
     "text": [
      "depth=0 left=0 right=8 \n",
      "depth=1 left=0 right=4 \n",
      "depth=2 left=0 right=2 \n",
      "depth=3 left=0 right=1 n=7 ctrl=~s0 & ~s1 & ~s2\n",
      "depth=3 left=1 right=2 n=7 ctrl=s2 & ~s0 & ~s1\n",
      "depth=2 left=2 right=4 \n",
      "depth=3 left=2 right=3 n=7 ctrl=s1 & ~s0 & ~s2\n",
      "depth=3 left=3 right=4 n=7 ctrl=s1 & s2 & ~s0\n",
      "depth=1 left=4 right=8 \n",
      "depth=2 left=4 right=6 \n",
      "depth=3 left=4 right=5 n=7 ctrl=s0 & ~s1 & ~s2\n",
      "depth=3 left=5 right=6 n=7 ctrl=s0 & s2 & ~s1\n",
      "depth=2 left=6 right=8 \n",
      "depth=3 left=6 right=7 n=7 ctrl=s0 & s1 & ~s2\n",
      "depth=3 left=7 right=8 n=7 ctrl=s0 & s1 & s2\n",
      "\n",
      "Target:\n",
      "n=0 ~s0 & ~s1 & ~s2\n",
      "n=1 s2 & ~s0 & ~s1\n",
      "n=2 s1 & ~s0 & ~s2\n",
      "n=3 s1 & s2 & ~s0\n",
      "n=4 s0 & ~s1 & ~s2\n",
      "n=5 s0 & s2 & ~s1\n",
      "n=6 s0 & s1 & ~s2\n",
      "n=7 s0 & s1 & s2\n"
     ]
    }
   ],
   "source": [
    "selection = [S.Symbol(f's{i}') for i in range(3)]\n",
    "target = [S.false for i in range(2**len(selection)) ]\n",
    "segtree(S.true, selection, target, 0, 0, 2**len(selection))\n",
    "\n",
    "print()\n",
    "print(\"Target:\")\n",
    "for n, t in enumerate(target):\n",
    "    print(f'n={n} {slb.simplify_logic(t)}')"
   ]
  },
  {
   "cell_type": "code",
   "execution_count": 8,
   "id": "23d91438",
   "metadata": {
    "execution": {
     "iopub.execute_input": "2023-10-30T23:24:55.216304Z",
     "iopub.status.busy": "2023-10-30T23:24:55.216217Z",
     "iopub.status.idle": "2023-10-30T23:24:55.221730Z",
     "shell.execute_reply": "2023-10-30T23:24:55.221470Z"
    }
   },
   "outputs": [
    {
     "name": "stdout",
     "output_type": "stream",
     "text": [
      "n   | segtree            | total control      | same?\n",
      "  0 | ~s0 & ~s1 & ~s2    | ~s0 & ~s1 & ~s2    | True\n",
      "  1 | s2 & ~s0 & ~s1     | s2 & ~s0 & ~s1     | True\n",
      "  2 | s1 & ~s0 & ~s2     | s1 & ~s0 & ~s2     | True\n",
      "  3 | s1 & s2 & ~s0      | s1 & s2 & ~s0      | True\n",
      "  4 | s0 & ~s1 & ~s2     | s0 & ~s1 & ~s2     | True\n",
      "  5 | s0 & s2 & ~s1      | s0 & s2 & ~s1      | True\n",
      "  6 | s0 & s1 & ~s2      | s0 & s1 & ~s2      | True\n",
      "  7 | s0 & s1 & s2       | s0 & s1 & s2       | True\n"
     ]
    }
   ],
   "source": [
    "print(f\"{'n':3s} | {'segtree':18s} | {'total control':18s} | same?\")\n",
    "for n, (t1, t2) in enumerate(zip(target, tc_target)):\n",
    "    t1 = slb.simplify_logic(t1)\n",
    "    print(f'{n:3d} | {str(t1):18s} | {str(t2):18s} | {str(t1==t2)}')"
   ]
  },
  {
   "cell_type": "markdown",
   "id": "e39448e6",
   "metadata": {},
   "source": [
    "## Quantum Circuit\n",
    "\n",
    "We can translate the boolean logic to reversible, quantum logic. It is instructive to start from the suboptimal total control quantum circuit for comparison purposes. We can build this as in the sympy boolean-logic case by adding controlled X operations to the target signature, with the controls on the selection signature toggled on or off according to the binary representation of the selection index.\n",
    "\n",
    "Let us first build a GateWithRegisters object to implement the circuit"
   ]
  },
  {
   "cell_type": "code",
   "execution_count": 9,
   "id": "6b37d717",
   "metadata": {
    "execution": {
     "iopub.execute_input": "2023-10-30T23:24:55.223183Z",
     "iopub.status.busy": "2023-10-30T23:24:55.223096Z",
     "iopub.status.idle": "2023-10-30T23:24:56.018034Z",
     "shell.execute_reply": "2023-10-30T23:24:56.017737Z"
    }
   },
   "outputs": [
    {
     "name": "stderr",
     "output_type": "stream",
     "text": [
      "OMP: Info #276: omp_set_nested routine deprecated, please use omp_set_max_active_levels instead.\n"
     ]
    }
   ],
   "source": [
    "import cirq\n",
    "from cirq._compat import cached_property\n",
    "from qualtran import Signature, GateWithRegisters\n",
    "from qualtran.cirq_interop.bit_tools import iter_bits\n",
    "\n",
    "class TotallyControlledNot(GateWithRegisters):\n",
    "    \n",
    "    def __init__(self, selection_bitsize: int, target_bitsize: int, control_bitsize: int = 1):\n",
    "        self._selection_bitsize = selection_bitsize\n",
    "        self._target_bitsize = target_bitsize\n",
    "        self._control_bitsize = control_bitsize\n",
    "\n",
    "    @cached_property\n",
    "    def signature(self) -> Signature:\n",
    "        return Signature(\n",
    "            [\n",
    "                *Signature.build(control=self._control_bitsize),\n",
    "                *Signature.build(selection=self._selection_bitsize),\n",
    "                *Signature.build(target=self._target_bitsize)\n",
    "            ]\n",
    "        )\n",
    "\n",
    "    def decompose_from_registers(self, **qubit_regs: Sequence[cirq.Qid]) -> cirq.OP_TREE:\n",
    "        num_controls = self._control_bitsize + self._selection_bitsize\n",
    "        for target_bit in range(self._target_bitsize):\n",
    "            bit_pattern = iter_bits(target_bit, self._selection_bitsize)\n",
    "            control_values = [1]*self._control_bitsize + list(bit_pattern)\n",
    "            yield cirq.X.controlled(\n",
    "                num_controls=num_controls,\n",
    "                control_values=control_values\n",
    "                ).on(\n",
    "                    *qubit_regs[\"control\"], \n",
    "                    *qubit_regs[\"selection\"],\n",
    "                    qubit_regs[\"target\"][-(target_bit+1)])\n",
    "        "
   ]
  },
  {
   "cell_type": "code",
   "execution_count": 10,
   "id": "1f7b6758",
   "metadata": {
    "execution": {
     "iopub.execute_input": "2023-10-30T23:24:56.019741Z",
     "iopub.status.busy": "2023-10-30T23:24:56.019650Z",
     "iopub.status.idle": "2023-10-30T23:24:56.195865Z",
     "shell.execute_reply": "2023-10-30T23:24:56.195567Z"
    }
   },
   "outputs": [
    {
     "data": {
      "image/svg+xml": [
       "<svg xmlns=\"http://www.w3.org/2000/svg\" width=\"435.276640625\" height=\"450.0\"><line x1=\"47.63832031250001\" x2=\"405.276640625\" y1=\"25.0\" y2=\"25.0\" stroke=\"#1967d2\" stroke-width=\"1\" /><line x1=\"47.63832031250001\" x2=\"405.276640625\" y1=\"75.0\" y2=\"75.0\" stroke=\"#1967d2\" stroke-width=\"1\" /><line x1=\"47.63832031250001\" x2=\"405.276640625\" y1=\"125.0\" y2=\"125.0\" stroke=\"#1967d2\" stroke-width=\"1\" /><line x1=\"47.63832031250001\" x2=\"405.276640625\" y1=\"175.0\" y2=\"175.0\" stroke=\"#1967d2\" stroke-width=\"1\" /><line x1=\"47.63832031250001\" x2=\"405.276640625\" y1=\"225.0\" y2=\"225.0\" stroke=\"#1967d2\" stroke-width=\"1\" /><line x1=\"47.63832031250001\" x2=\"405.276640625\" y1=\"275.0\" y2=\"275.0\" stroke=\"#1967d2\" stroke-width=\"1\" /><line x1=\"47.63832031250001\" x2=\"405.276640625\" y1=\"325.0\" y2=\"325.0\" stroke=\"#1967d2\" stroke-width=\"1\" /><line x1=\"47.63832031250001\" x2=\"405.276640625\" y1=\"375.0\" y2=\"375.0\" stroke=\"#1967d2\" stroke-width=\"1\" /><line x1=\"47.63832031250001\" x2=\"405.276640625\" y1=\"425.0\" y2=\"425.0\" stroke=\"#1967d2\" stroke-width=\"1\" /><line x1=\"125.27664062500001\" x2=\"125.27664062500001\" y1=\"25.0\" y2=\"425.0\" stroke=\"black\" stroke-width=\"3\" /><line x1=\"185.27664062500003\" x2=\"185.27664062500003\" y1=\"25.0\" y2=\"375.0\" stroke=\"black\" stroke-width=\"3\" /><line x1=\"245.27664062500003\" x2=\"245.27664062500003\" y1=\"25.0\" y2=\"325.0\" stroke=\"black\" stroke-width=\"3\" /><line x1=\"305.276640625\" x2=\"305.276640625\" y1=\"25.0\" y2=\"275.0\" stroke=\"black\" stroke-width=\"3\" /><line x1=\"365.276640625\" x2=\"365.276640625\" y1=\"25.0\" y2=\"225.0\" stroke=\"black\" stroke-width=\"3\" /><rect x=\"10.0\" y=\"5.0\" width=\"75.27664062500001\" height=\"40\" stroke=\"black\" fill=\"white\" stroke-width=\"0\" /><text x=\"47.63832031250001\" y=\"25.0\" dominant-baseline=\"middle\" text-anchor=\"middle\" font-size=\"14px\" font-family=\"Arial:style=normal:variant=normal:weight=normal:stretch=normal:size=10.0\">control: </text><rect x=\"10.0\" y=\"55.0\" width=\"75.27664062500001\" height=\"40\" stroke=\"black\" fill=\"white\" stroke-width=\"0\" /><text x=\"47.63832031250001\" y=\"75.0\" dominant-baseline=\"middle\" text-anchor=\"middle\" font-size=\"14px\" font-family=\"Arial:style=normal:variant=normal:weight=normal:stretch=normal:size=10.0\">selection0: </text><rect x=\"10.0\" y=\"105.0\" width=\"75.27664062500001\" height=\"40\" stroke=\"black\" fill=\"white\" stroke-width=\"0\" /><text x=\"47.63832031250001\" y=\"125.0\" dominant-baseline=\"middle\" text-anchor=\"middle\" font-size=\"14px\" font-family=\"Arial:style=normal:variant=normal:weight=normal:stretch=normal:size=10.0\">selection1: </text><rect x=\"10.0\" y=\"155.0\" width=\"75.27664062500001\" height=\"40\" stroke=\"black\" fill=\"white\" stroke-width=\"0\" /><text x=\"47.63832031250001\" y=\"175.0\" dominant-baseline=\"middle\" text-anchor=\"middle\" font-size=\"14px\" font-family=\"Arial:style=normal:variant=normal:weight=normal:stretch=normal:size=10.0\">selection2: </text><rect x=\"10.0\" y=\"205.0\" width=\"75.27664062500001\" height=\"40\" stroke=\"black\" fill=\"white\" stroke-width=\"0\" /><text x=\"47.63832031250001\" y=\"225.0\" dominant-baseline=\"middle\" text-anchor=\"middle\" font-size=\"14px\" font-family=\"Arial:style=normal:variant=normal:weight=normal:stretch=normal:size=10.0\">target0: </text><rect x=\"10.0\" y=\"255.0\" width=\"75.27664062500001\" height=\"40\" stroke=\"black\" fill=\"white\" stroke-width=\"0\" /><text x=\"47.63832031250001\" y=\"275.0\" dominant-baseline=\"middle\" text-anchor=\"middle\" font-size=\"14px\" font-family=\"Arial:style=normal:variant=normal:weight=normal:stretch=normal:size=10.0\">target1: </text><rect x=\"10.0\" y=\"305.0\" width=\"75.27664062500001\" height=\"40\" stroke=\"black\" fill=\"white\" stroke-width=\"0\" /><text x=\"47.63832031250001\" y=\"325.0\" dominant-baseline=\"middle\" text-anchor=\"middle\" font-size=\"14px\" font-family=\"Arial:style=normal:variant=normal:weight=normal:stretch=normal:size=10.0\">target2: </text><rect x=\"10.0\" y=\"355.0\" width=\"75.27664062500001\" height=\"40\" stroke=\"black\" fill=\"white\" stroke-width=\"0\" /><text x=\"47.63832031250001\" y=\"375.0\" dominant-baseline=\"middle\" text-anchor=\"middle\" font-size=\"14px\" font-family=\"Arial:style=normal:variant=normal:weight=normal:stretch=normal:size=10.0\">target3: </text><rect x=\"10.0\" y=\"405.0\" width=\"75.27664062500001\" height=\"40\" stroke=\"black\" fill=\"white\" stroke-width=\"0\" /><text x=\"47.63832031250001\" y=\"425.0\" dominant-baseline=\"middle\" text-anchor=\"middle\" font-size=\"14px\" font-family=\"Arial:style=normal:variant=normal:weight=normal:stretch=normal:size=10.0\">target4: </text><circle cx=\"125.27664062500001\" cy=\"25.0\" r=\"10.0\" /><rect x=\"105.27664062500001\" y=\"55.0\" width=\"40\" height=\"40\" stroke=\"black\" fill=\"white\" stroke-width=\"1\" /><text x=\"125.27664062500001\" y=\"75.0\" dominant-baseline=\"middle\" text-anchor=\"middle\" font-size=\"14px\" font-family=\"Arial:style=normal:variant=normal:weight=normal:stretch=normal:size=10.0\">(0)</text><rect x=\"105.27664062500001\" y=\"105.0\" width=\"40\" height=\"40\" stroke=\"black\" fill=\"white\" stroke-width=\"1\" /><text x=\"125.27664062500001\" y=\"125.0\" dominant-baseline=\"middle\" text-anchor=\"middle\" font-size=\"14px\" font-family=\"Arial:style=normal:variant=normal:weight=normal:stretch=normal:size=10.0\">(0)</text><rect x=\"105.27664062500001\" y=\"155.0\" width=\"40\" height=\"40\" stroke=\"black\" fill=\"white\" stroke-width=\"1\" /><text x=\"125.27664062500001\" y=\"175.0\" dominant-baseline=\"middle\" text-anchor=\"middle\" font-size=\"14px\" font-family=\"Arial:style=normal:variant=normal:weight=normal:stretch=normal:size=10.0\">(0)</text><rect x=\"105.27664062500001\" y=\"405.0\" width=\"40\" height=\"40\" stroke=\"black\" fill=\"white\" stroke-width=\"1\" /><text x=\"125.27664062500001\" y=\"425.0\" dominant-baseline=\"middle\" text-anchor=\"middle\" font-size=\"18px\" font-family=\"Arial:style=normal:variant=normal:weight=normal:stretch=normal:size=10.0\">X</text><circle cx=\"185.27664062500003\" cy=\"25.0\" r=\"10.0\" /><rect x=\"165.27664062500003\" y=\"55.0\" width=\"40\" height=\"40\" stroke=\"black\" fill=\"white\" stroke-width=\"1\" /><text x=\"185.27664062500003\" y=\"75.0\" dominant-baseline=\"middle\" text-anchor=\"middle\" font-size=\"14px\" font-family=\"Arial:style=normal:variant=normal:weight=normal:stretch=normal:size=10.0\">(0)</text><rect x=\"165.27664062500003\" y=\"105.0\" width=\"40\" height=\"40\" stroke=\"black\" fill=\"white\" stroke-width=\"1\" /><text x=\"185.27664062500003\" y=\"125.0\" dominant-baseline=\"middle\" text-anchor=\"middle\" font-size=\"14px\" font-family=\"Arial:style=normal:variant=normal:weight=normal:stretch=normal:size=10.0\">(0)</text><circle cx=\"185.27664062500003\" cy=\"175.0\" r=\"10.0\" /><rect x=\"165.27664062500003\" y=\"355.0\" width=\"40\" height=\"40\" stroke=\"black\" fill=\"white\" stroke-width=\"1\" /><text x=\"185.27664062500003\" y=\"375.0\" dominant-baseline=\"middle\" text-anchor=\"middle\" font-size=\"18px\" font-family=\"Arial:style=normal:variant=normal:weight=normal:stretch=normal:size=10.0\">X</text><circle cx=\"245.27664062500003\" cy=\"25.0\" r=\"10.0\" /><rect x=\"225.27664062500003\" y=\"55.0\" width=\"40\" height=\"40\" stroke=\"black\" fill=\"white\" stroke-width=\"1\" /><text x=\"245.27664062500003\" y=\"75.0\" dominant-baseline=\"middle\" text-anchor=\"middle\" font-size=\"14px\" font-family=\"Arial:style=normal:variant=normal:weight=normal:stretch=normal:size=10.0\">(0)</text><circle cx=\"245.27664062500003\" cy=\"125.0\" r=\"10.0\" /><rect x=\"225.27664062500003\" y=\"155.0\" width=\"40\" height=\"40\" stroke=\"black\" fill=\"white\" stroke-width=\"1\" /><text x=\"245.27664062500003\" y=\"175.0\" dominant-baseline=\"middle\" text-anchor=\"middle\" font-size=\"14px\" font-family=\"Arial:style=normal:variant=normal:weight=normal:stretch=normal:size=10.0\">(0)</text><rect x=\"225.27664062500003\" y=\"305.0\" width=\"40\" height=\"40\" stroke=\"black\" fill=\"white\" stroke-width=\"1\" /><text x=\"245.27664062500003\" y=\"325.0\" dominant-baseline=\"middle\" text-anchor=\"middle\" font-size=\"18px\" font-family=\"Arial:style=normal:variant=normal:weight=normal:stretch=normal:size=10.0\">X</text><circle cx=\"305.276640625\" cy=\"25.0\" r=\"10.0\" /><rect x=\"285.276640625\" y=\"55.0\" width=\"40\" height=\"40\" stroke=\"black\" fill=\"white\" stroke-width=\"1\" /><text x=\"305.276640625\" y=\"75.0\" dominant-baseline=\"middle\" text-anchor=\"middle\" font-size=\"14px\" font-family=\"Arial:style=normal:variant=normal:weight=normal:stretch=normal:size=10.0\">(0)</text><circle cx=\"305.276640625\" cy=\"125.0\" r=\"10.0\" /><circle cx=\"305.276640625\" cy=\"175.0\" r=\"10.0\" /><rect x=\"285.276640625\" y=\"255.0\" width=\"40\" height=\"40\" stroke=\"black\" fill=\"white\" stroke-width=\"1\" /><text x=\"305.276640625\" y=\"275.0\" dominant-baseline=\"middle\" text-anchor=\"middle\" font-size=\"18px\" font-family=\"Arial:style=normal:variant=normal:weight=normal:stretch=normal:size=10.0\">X</text><circle cx=\"365.276640625\" cy=\"25.0\" r=\"10.0\" /><circle cx=\"365.276640625\" cy=\"75.0\" r=\"10.0\" /><rect x=\"345.276640625\" y=\"105.0\" width=\"40\" height=\"40\" stroke=\"black\" fill=\"white\" stroke-width=\"1\" /><text x=\"365.276640625\" y=\"125.0\" dominant-baseline=\"middle\" text-anchor=\"middle\" font-size=\"14px\" font-family=\"Arial:style=normal:variant=normal:weight=normal:stretch=normal:size=10.0\">(0)</text><rect x=\"345.276640625\" y=\"155.0\" width=\"40\" height=\"40\" stroke=\"black\" fill=\"white\" stroke-width=\"1\" /><text x=\"365.276640625\" y=\"175.0\" dominant-baseline=\"middle\" text-anchor=\"middle\" font-size=\"14px\" font-family=\"Arial:style=normal:variant=normal:weight=normal:stretch=normal:size=10.0\">(0)</text><rect x=\"345.276640625\" y=\"205.0\" width=\"40\" height=\"40\" stroke=\"black\" fill=\"white\" stroke-width=\"1\" /><text x=\"365.276640625\" y=\"225.0\" dominant-baseline=\"middle\" text-anchor=\"middle\" font-size=\"18px\" font-family=\"Arial:style=normal:variant=normal:weight=normal:stretch=normal:size=10.0\">X</text></svg>"
      ],
      "text/plain": [
       "<cirq.contrib.svg.svg.SVGCircuit at 0x15350d600>"
      ]
     },
     "execution_count": 10,
     "metadata": {},
     "output_type": "execute_result"
    }
   ],
   "source": [
    "import qualtran.cirq_interop.testing as cq_testing\n",
    "tc_not = TotallyControlledNot(3, 5)\n",
    "tc = cq_testing.GateHelper(tc_not)\n",
    "cirq.Circuit((cirq.decompose_once(tc.operation)))\n",
    "SVGCircuit(cirq.Circuit(cirq.decompose_once(tc.operation)))"
   ]
  },
  {
   "cell_type": "markdown",
   "id": "7b28663a",
   "metadata": {},
   "source": [
    "## Tests for Correctness\n",
    "\n",
    "We can use a full statevector simulation to compare the desired statevector to the one generated by the unary iteration circuit for each basis state."
   ]
  },
  {
   "cell_type": "code",
   "execution_count": 11,
   "id": "574c5058",
   "metadata": {
    "execution": {
     "iopub.execute_input": "2023-10-30T23:24:56.197499Z",
     "iopub.status.busy": "2023-10-30T23:24:56.197377Z",
     "iopub.status.idle": "2023-10-30T23:24:56.290377Z",
     "shell.execute_reply": "2023-10-30T23:24:56.290047Z"
    }
   },
   "outputs": [
    {
     "name": "stdout",
     "output_type": "stream",
     "text": [
      "n=0 checked!\n",
      "n=1 checked!\n",
      "n=2 checked!\n",
      "n=3 checked!\n",
      "n=4 checked!\n"
     ]
    },
    {
     "name": "stderr",
     "output_type": "stream",
     "text": [
      "/Users/mpharrigan/qutran/py310-cf/lib/python3.10/site-packages/numpy/linalg/linalg.py:2146: RuntimeWarning: divide by zero encountered in det\n",
      "  r = _umath_linalg.det(a, signature=signature)\n",
      "/Users/mpharrigan/qutran/py310-cf/lib/python3.10/site-packages/numpy/linalg/linalg.py:2146: RuntimeWarning: invalid value encountered in det\n",
      "  r = _umath_linalg.det(a, signature=signature)\n"
     ]
    }
   ],
   "source": [
    "selection_bitsize = 3\n",
    "target_bitsize = 5\n",
    "for n in range(target_bitsize):\n",
    "    # Initial qubit values\n",
    "    qubit_vals = {q: 0 for q in tc.all_qubits}\n",
    "    # All controls 'on' to activate circuit\n",
    "    qubit_vals.update({c: 1 for c in tc.quregs['control']})\n",
    "    # Set selection according to `n`\n",
    "    qubit_vals.update(zip(tc.quregs['selection'], iter_bits(n, selection_bitsize)))\n",
    "\n",
    "    initial_state = [qubit_vals[x] for x in tc.all_qubits]\n",
    "    final_state = [qubit_vals[x] for x in tc.all_qubits]\n",
    "    final_state[-(n+1)] = 1\n",
    "    cq_testing.assert_circuit_inp_out_cirqsim(\n",
    "        tc.circuit, tc.all_qubits, initial_state, final_state\n",
    "    )\n",
    "    print(f'n={n} checked!')"
   ]
  },
  {
   "cell_type": "markdown",
   "id": "d76fcf8f",
   "metadata": {},
   "source": [
    "## Towards a segment tree \n",
    "\n",
    "Next let's see how we can reduce the circuit to the observe the tree structure.\n",
    "First let's recall what we are trying to do with the controlled not. Given a\n",
    "selection integer (say 3 = 011), we want to toggle the bit in the target\n",
    "register to on if the qubit 1 and 2 are set to on in the selection register."
   ]
  },
  {
   "cell_type": "code",
   "execution_count": 12,
   "id": "3aca2666",
   "metadata": {
    "execution": {
     "iopub.execute_input": "2023-10-30T23:24:56.292057Z",
     "iopub.status.busy": "2023-10-30T23:24:56.291965Z",
     "iopub.status.idle": "2023-10-30T23:24:56.302864Z",
     "shell.execute_reply": "2023-10-30T23:24:56.302362Z"
    }
   },
   "outputs": [
    {
     "name": "stdout",
     "output_type": "stream",
     "text": [
      "simulated:  101101000\n",
      "expected :  101101000\n"
     ]
    }
   ],
   "source": [
    "# The selection bits [1-3] are set according to binary representation of the number 3 (011)\n",
    "initial_state = [1, 0, 1, 1, 0, 0, 0, 0, 0]\n",
    "final_state = [1, 0, 1, 1, 0, 1, 0, 0, 0]\n",
    "actual, should_be = cq_testing.get_circuit_inp_out_cirqsim(\n",
    "        tc.circuit, tc.all_qubits, initial_state, final_state\n",
    "    )\n",
    "print(\"simulated: \", actual)\n",
    "print(\"expected : \", should_be)\n"
   ]
  },
  {
   "cell_type": "markdown",
   "id": "4640eeed",
   "metadata": {},
   "source": [
    "Now what is important to note is that we can remove many repeated controlled operations by using ancilla qubits to flag what part of the circuit we need to apply, this works because we know the bit pattern of nearby integers is very similar. \n",
    "\n",
    "A circuit demonstrating this for our example is given below."
   ]
  },
  {
   "cell_type": "code",
   "execution_count": 13,
   "id": "ef853ae7",
   "metadata": {
    "execution": {
     "iopub.execute_input": "2023-10-30T23:24:56.305749Z",
     "iopub.status.busy": "2023-10-30T23:24:56.305397Z",
     "iopub.status.idle": "2023-10-30T23:24:56.480086Z",
     "shell.execute_reply": "2023-10-30T23:24:56.479787Z"
    }
   },
   "outputs": [
    {
     "data": {
      "image/svg+xml": [
       "<svg xmlns=\"http://www.w3.org/2000/svg\" width=\"886.4064062499999\" height=\"450.0\"><line x1=\"30.0\" x2=\"856.4064062499999\" y1=\"25.0\" y2=\"25.0\" stroke=\"#1967d2\" stroke-width=\"1\" /><line x1=\"30.0\" x2=\"856.4064062499999\" y1=\"75.0\" y2=\"75.0\" stroke=\"#1967d2\" stroke-width=\"1\" /><line x1=\"30.0\" x2=\"856.4064062499999\" y1=\"125.0\" y2=\"125.0\" stroke=\"#1967d2\" stroke-width=\"1\" /><line x1=\"30.0\" x2=\"856.4064062499999\" y1=\"175.0\" y2=\"175.0\" stroke=\"#1967d2\" stroke-width=\"1\" /><line x1=\"30.0\" x2=\"856.4064062499999\" y1=\"225.0\" y2=\"225.0\" stroke=\"#1967d2\" stroke-width=\"1\" /><line x1=\"30.0\" x2=\"856.4064062499999\" y1=\"275.0\" y2=\"275.0\" stroke=\"#1967d2\" stroke-width=\"1\" /><line x1=\"30.0\" x2=\"856.4064062499999\" y1=\"325.0\" y2=\"325.0\" stroke=\"#1967d2\" stroke-width=\"1\" /><line x1=\"30.0\" x2=\"856.4064062499999\" y1=\"375.0\" y2=\"375.0\" stroke=\"#1967d2\" stroke-width=\"1\" /><line x1=\"30.0\" x2=\"856.4064062499999\" y1=\"425.0\" y2=\"425.0\" stroke=\"#1967d2\" stroke-width=\"1\" /><line x1=\"90.0\" x2=\"90.0\" y1=\"25.0\" y2=\"125.0\" stroke=\"black\" stroke-width=\"3\" /><line x1=\"150.0\" x2=\"150.0\" y1=\"125.0\" y2=\"225.0\" stroke=\"black\" stroke-width=\"3\" /><line x1=\"210.0\" x2=\"210.0\" y1=\"225.0\" y2=\"425.0\" stroke=\"black\" stroke-width=\"3\" /><line x1=\"270.0\" x2=\"270.0\" y1=\"125.0\" y2=\"225.0\" stroke=\"black\" stroke-width=\"3\" /><line x1=\"330.0\" x2=\"330.0\" y1=\"225.0\" y2=\"375.0\" stroke=\"black\" stroke-width=\"3\" /><line x1=\"391.067734375\" x2=\"391.067734375\" y1=\"125.0\" y2=\"225.0\" stroke=\"black\" stroke-width=\"3\" /><line x1=\"452.13546875000003\" x2=\"452.13546875000003\" y1=\"25.0\" y2=\"125.0\" stroke=\"black\" stroke-width=\"3\" /><line x1=\"512.13546875\" x2=\"512.13546875\" y1=\"125.0\" y2=\"225.0\" stroke=\"black\" stroke-width=\"3\" /><line x1=\"572.13546875\" x2=\"572.13546875\" y1=\"225.0\" y2=\"325.0\" stroke=\"black\" stroke-width=\"3\" /><line x1=\"632.13546875\" x2=\"632.13546875\" y1=\"125.0\" y2=\"225.0\" stroke=\"black\" stroke-width=\"3\" /><line x1=\"692.13546875\" x2=\"692.13546875\" y1=\"225.0\" y2=\"275.0\" stroke=\"black\" stroke-width=\"3\" /><line x1=\"753.203203125\" x2=\"753.203203125\" y1=\"125.0\" y2=\"225.0\" stroke=\"black\" stroke-width=\"3\" /><line x1=\"815.3386718749999\" x2=\"815.3386718749999\" y1=\"25.0\" y2=\"125.0\" stroke=\"black\" stroke-width=\"3\" /><rect x=\"10.0\" y=\"5.0\" width=\"40\" height=\"40\" stroke=\"black\" fill=\"white\" stroke-width=\"0\" /><text x=\"30.0\" y=\"25.0\" dominant-baseline=\"middle\" text-anchor=\"middle\" font-size=\"14px\" font-family=\"Arial:style=normal:variant=normal:weight=normal:stretch=normal:size=10.0\">0: </text><rect x=\"10.0\" y=\"55.0\" width=\"40\" height=\"40\" stroke=\"black\" fill=\"white\" stroke-width=\"0\" /><text x=\"30.0\" y=\"75.0\" dominant-baseline=\"middle\" text-anchor=\"middle\" font-size=\"14px\" font-family=\"Arial:style=normal:variant=normal:weight=normal:stretch=normal:size=10.0\">1: </text><rect x=\"10.0\" y=\"105.0\" width=\"40\" height=\"40\" stroke=\"black\" fill=\"white\" stroke-width=\"0\" /><text x=\"30.0\" y=\"125.0\" dominant-baseline=\"middle\" text-anchor=\"middle\" font-size=\"14px\" font-family=\"Arial:style=normal:variant=normal:weight=normal:stretch=normal:size=10.0\">2: </text><rect x=\"10.0\" y=\"155.0\" width=\"40\" height=\"40\" stroke=\"black\" fill=\"white\" stroke-width=\"0\" /><text x=\"30.0\" y=\"175.0\" dominant-baseline=\"middle\" text-anchor=\"middle\" font-size=\"14px\" font-family=\"Arial:style=normal:variant=normal:weight=normal:stretch=normal:size=10.0\">3: </text><rect x=\"10.0\" y=\"205.0\" width=\"40\" height=\"40\" stroke=\"black\" fill=\"white\" stroke-width=\"0\" /><text x=\"30.0\" y=\"225.0\" dominant-baseline=\"middle\" text-anchor=\"middle\" font-size=\"14px\" font-family=\"Arial:style=normal:variant=normal:weight=normal:stretch=normal:size=10.0\">4: </text><rect x=\"10.0\" y=\"255.0\" width=\"40\" height=\"40\" stroke=\"black\" fill=\"white\" stroke-width=\"0\" /><text x=\"30.0\" y=\"275.0\" dominant-baseline=\"middle\" text-anchor=\"middle\" font-size=\"14px\" font-family=\"Arial:style=normal:variant=normal:weight=normal:stretch=normal:size=10.0\">5: </text><rect x=\"10.0\" y=\"305.0\" width=\"40\" height=\"40\" stroke=\"black\" fill=\"white\" stroke-width=\"0\" /><text x=\"30.0\" y=\"325.0\" dominant-baseline=\"middle\" text-anchor=\"middle\" font-size=\"14px\" font-family=\"Arial:style=normal:variant=normal:weight=normal:stretch=normal:size=10.0\">6: </text><rect x=\"10.0\" y=\"355.0\" width=\"40\" height=\"40\" stroke=\"black\" fill=\"white\" stroke-width=\"0\" /><text x=\"30.0\" y=\"375.0\" dominant-baseline=\"middle\" text-anchor=\"middle\" font-size=\"14px\" font-family=\"Arial:style=normal:variant=normal:weight=normal:stretch=normal:size=10.0\">7: </text><rect x=\"10.0\" y=\"405.0\" width=\"40\" height=\"40\" stroke=\"black\" fill=\"white\" stroke-width=\"0\" /><text x=\"30.0\" y=\"425.0\" dominant-baseline=\"middle\" text-anchor=\"middle\" font-size=\"14px\" font-family=\"Arial:style=normal:variant=normal:weight=normal:stretch=normal:size=10.0\">8: </text><circle cx=\"90.0\" cy=\"25.0\" r=\"10.0\" /><rect x=\"70.0\" y=\"55.0\" width=\"40\" height=\"40\" stroke=\"black\" fill=\"white\" stroke-width=\"1\" /><text x=\"90.0\" y=\"75.0\" dominant-baseline=\"middle\" text-anchor=\"middle\" font-size=\"14px\" font-family=\"Arial:style=normal:variant=normal:weight=normal:stretch=normal:size=10.0\">(0)</text><rect x=\"70.0\" y=\"105.0\" width=\"40\" height=\"40\" stroke=\"black\" fill=\"white\" stroke-width=\"1\" /><text x=\"90.0\" y=\"125.0\" dominant-baseline=\"middle\" text-anchor=\"middle\" font-size=\"14px\" font-family=\"Arial:style=normal:variant=normal:weight=normal:stretch=normal:size=10.0\">And</text><circle cx=\"150.0\" cy=\"125.0\" r=\"10.0\" /><rect x=\"130.0\" y=\"155.0\" width=\"40\" height=\"40\" stroke=\"black\" fill=\"white\" stroke-width=\"1\" /><text x=\"150.0\" y=\"175.0\" dominant-baseline=\"middle\" text-anchor=\"middle\" font-size=\"14px\" font-family=\"Arial:style=normal:variant=normal:weight=normal:stretch=normal:size=10.0\">(0)</text><rect x=\"130.0\" y=\"205.0\" width=\"40\" height=\"40\" stroke=\"black\" fill=\"white\" stroke-width=\"1\" /><text x=\"150.0\" y=\"225.0\" dominant-baseline=\"middle\" text-anchor=\"middle\" font-size=\"14px\" font-family=\"Arial:style=normal:variant=normal:weight=normal:stretch=normal:size=10.0\">And</text><circle cx=\"210.0\" cy=\"225.0\" r=\"10.0\" /><rect x=\"190.0\" y=\"405.0\" width=\"40\" height=\"40\" stroke=\"black\" fill=\"white\" stroke-width=\"1\" /><text x=\"210.0\" y=\"425.0\" dominant-baseline=\"middle\" text-anchor=\"middle\" font-size=\"18px\" font-family=\"Arial:style=normal:variant=normal:weight=normal:stretch=normal:size=10.0\">X</text><circle cx=\"270.0\" cy=\"125.0\" r=\"10.0\" /><rect x=\"250.0\" y=\"205.0\" width=\"40\" height=\"40\" stroke=\"black\" fill=\"white\" stroke-width=\"1\" /><text x=\"270.0\" y=\"225.0\" dominant-baseline=\"middle\" text-anchor=\"middle\" font-size=\"18px\" font-family=\"Arial:style=normal:variant=normal:weight=normal:stretch=normal:size=10.0\">X</text><circle cx=\"330.0\" cy=\"225.0\" r=\"10.0\" /><rect x=\"310.0\" y=\"355.0\" width=\"40\" height=\"40\" stroke=\"black\" fill=\"white\" stroke-width=\"1\" /><text x=\"330.0\" y=\"375.0\" dominant-baseline=\"middle\" text-anchor=\"middle\" font-size=\"18px\" font-family=\"Arial:style=normal:variant=normal:weight=normal:stretch=normal:size=10.0\">X</text><circle cx=\"391.067734375\" cy=\"125.0\" r=\"10.0\" /><circle cx=\"391.067734375\" cy=\"175.0\" r=\"10.0\" /><rect x=\"370.0\" y=\"205.0\" width=\"42.13546875000001\" height=\"40\" stroke=\"black\" fill=\"white\" stroke-width=\"1\" /><text x=\"391.067734375\" y=\"225.0\" dominant-baseline=\"middle\" text-anchor=\"middle\" font-size=\"14px\" font-family=\"Arial:style=normal:variant=normal:weight=normal:stretch=normal:size=10.0\">And†</text><circle cx=\"452.13546875000003\" cy=\"25.0\" r=\"10.0\" /><rect x=\"432.13546875000003\" y=\"105.0\" width=\"40\" height=\"40\" stroke=\"black\" fill=\"white\" stroke-width=\"1\" /><text x=\"452.13546875000003\" y=\"125.0\" dominant-baseline=\"middle\" text-anchor=\"middle\" font-size=\"18px\" font-family=\"Arial:style=normal:variant=normal:weight=normal:stretch=normal:size=10.0\">X</text><circle cx=\"512.13546875\" cy=\"125.0\" r=\"10.0\" /><rect x=\"492.13546875\" y=\"155.0\" width=\"40\" height=\"40\" stroke=\"black\" fill=\"white\" stroke-width=\"1\" /><text x=\"512.13546875\" y=\"175.0\" dominant-baseline=\"middle\" text-anchor=\"middle\" font-size=\"14px\" font-family=\"Arial:style=normal:variant=normal:weight=normal:stretch=normal:size=10.0\">(0)</text><rect x=\"492.13546875\" y=\"205.0\" width=\"40\" height=\"40\" stroke=\"black\" fill=\"white\" stroke-width=\"1\" /><text x=\"512.13546875\" y=\"225.0\" dominant-baseline=\"middle\" text-anchor=\"middle\" font-size=\"14px\" font-family=\"Arial:style=normal:variant=normal:weight=normal:stretch=normal:size=10.0\">And</text><circle cx=\"572.13546875\" cy=\"225.0\" r=\"10.0\" /><rect x=\"552.13546875\" y=\"305.0\" width=\"40\" height=\"40\" stroke=\"black\" fill=\"white\" stroke-width=\"1\" /><text x=\"572.13546875\" y=\"325.0\" dominant-baseline=\"middle\" text-anchor=\"middle\" font-size=\"18px\" font-family=\"Arial:style=normal:variant=normal:weight=normal:stretch=normal:size=10.0\">X</text><circle cx=\"632.13546875\" cy=\"125.0\" r=\"10.0\" /><rect x=\"612.13546875\" y=\"205.0\" width=\"40\" height=\"40\" stroke=\"black\" fill=\"white\" stroke-width=\"1\" /><text x=\"632.13546875\" y=\"225.0\" dominant-baseline=\"middle\" text-anchor=\"middle\" font-size=\"18px\" font-family=\"Arial:style=normal:variant=normal:weight=normal:stretch=normal:size=10.0\">X</text><circle cx=\"692.13546875\" cy=\"225.0\" r=\"10.0\" /><rect x=\"672.13546875\" y=\"255.0\" width=\"40\" height=\"40\" stroke=\"black\" fill=\"white\" stroke-width=\"1\" /><text x=\"692.13546875\" y=\"275.0\" dominant-baseline=\"middle\" text-anchor=\"middle\" font-size=\"18px\" font-family=\"Arial:style=normal:variant=normal:weight=normal:stretch=normal:size=10.0\">X</text><circle cx=\"753.203203125\" cy=\"125.0\" r=\"10.0\" /><circle cx=\"753.203203125\" cy=\"175.0\" r=\"10.0\" /><rect x=\"732.13546875\" y=\"205.0\" width=\"42.13546875000001\" height=\"40\" stroke=\"black\" fill=\"white\" stroke-width=\"1\" /><text x=\"753.203203125\" y=\"225.0\" dominant-baseline=\"middle\" text-anchor=\"middle\" font-size=\"14px\" font-family=\"Arial:style=normal:variant=normal:weight=normal:stretch=normal:size=10.0\">And†</text><circle cx=\"815.3386718749999\" cy=\"25.0\" r=\"10.0\" /><circle cx=\"815.3386718749999\" cy=\"75.0\" r=\"10.0\" /><rect x=\"794.2709375\" y=\"105.0\" width=\"42.13546875000001\" height=\"40\" stroke=\"black\" fill=\"white\" stroke-width=\"1\" /><text x=\"815.3386718749999\" y=\"125.0\" dominant-baseline=\"middle\" text-anchor=\"middle\" font-size=\"14px\" font-family=\"Arial:style=normal:variant=normal:weight=normal:stretch=normal:size=10.0\">And†</text></svg>"
      ],
      "text/plain": [
       "<cirq.contrib.svg.svg.SVGCircuit at 0x1565a0fa0>"
      ]
     },
     "execution_count": 13,
     "metadata": {},
     "output_type": "execute_result"
    }
   ],
   "source": [
    "from qualtran.bloqs.and_bloq import And\n",
    "\n",
    "selection_bitsize = 2\n",
    "target_bitsize = 4\n",
    "qubits = cirq.LineQubit(0).range(1 + selection_bitsize * 2 + target_bitsize)\n",
    "circuit = cirq.Circuit()\n",
    "circuit.append(\n",
    "    [\n",
    "        And(1, 0).on(qubits[0], qubits[1], qubits[2]),\n",
    "        And(1, 0).on(qubits[2], qubits[3], qubits[4]),\n",
    "        cirq.CX(qubits[4], qubits[8]),\n",
    "        cirq.CNOT(qubits[2], qubits[4]),\n",
    "        cirq.CX(qubits[4], qubits[7]),\n",
    "        And(adjoint=True).on(qubits[2], qubits[3], qubits[4]),\n",
    "        cirq.CNOT(qubits[0], qubits[2]),\n",
    "        And(1, 0).on(qubits[2], qubits[3], qubits[4]),\n",
    "        cirq.CX(qubits[4], qubits[6]),\n",
    "        cirq.CNOT(qubits[2], qubits[4]),\n",
    "        cirq.CX(qubits[4], qubits[5]),\n",
    "        And(adjoint=True).on(qubits[2], qubits[3], qubits[4]),\n",
    "        And(adjoint=True).on(qubits[0], qubits[1], qubits[2]),\n",
    "    ]\n",
    ")\n",
    "\n",
    "SVGCircuit(circuit)"
   ]
  },
  {
   "cell_type": "markdown",
   "id": "b9d45d52",
   "metadata": {},
   "source": [
    "Reading from left to right we first check the control is set to on and the selection qubit is off, if both these conditions are met then the ancilla qubit is now set to 1. The next control checks if the previous condition was met and likewise the second selection index is also off. At this point if both these conditions are met we must be indexing 0 as the first two qubits are set to off (00), otherwise we know that we want to apply X to qubit 1 so we perform a CNOT operation to flip the bit value in the second ancilla qubit, before returning back up the circuit. Now if the left half of the circuit was not applied (i.e. the first selection register was set to 1) then the CNOT between the control qubit and the first ancilla qubit causes the ancilla qubit to toggle on. This triggers the right side of the circuit, which now performs the previously described operations to figure out if the lowest bit is set. Combining these two then yields the expected controlled X operation. \n",
    "\n",
    "Below we check the circuit is giving the expected behaviour."
   ]
  },
  {
   "cell_type": "code",
   "execution_count": 14,
   "id": "83d1287d",
   "metadata": {
    "execution": {
     "iopub.execute_input": "2023-10-30T23:24:56.481848Z",
     "iopub.status.busy": "2023-10-30T23:24:56.481735Z",
     "iopub.status.idle": "2023-10-30T23:24:56.496170Z",
     "shell.execute_reply": "2023-10-30T23:24:56.495868Z"
    }
   },
   "outputs": [
    {
     "name": "stdout",
     "output_type": "stream",
     "text": [
      "simulated: 110101000, index set in string 5\n"
     ]
    }
   ],
   "source": [
    "initial_state = [1, 0, 0, 0, 0, 0, 0, 0, 0]\n",
    "target_indx = 3\n",
    "sel_bits = list(iter_bits(target_indx, selection_bitsize))\n",
    "sel_indices = [i for i in range(1, 2*selection_bitsize+1, 2)]\n",
    "initial_state[sel_indices[0]] = sel_bits[0]\n",
    "initial_state[sel_indices[1]] = sel_bits[1]\n",
    "result = cirq.Simulator(dtype=np.complex128).simulate(\n",
    "    circuit, initial_state=initial_state\n",
    ")\n",
    "actual = result.dirac_notation(decimals=2)[1:-1]\n",
    "print(\"simulated: {}, index set in string {}\".format(actual, len(qubits)-1-target_indx))"
   ]
  },
  {
   "cell_type": "markdown",
   "id": "a86e0d42",
   "metadata": {},
   "source": [
    "Extending the above idea to larger ranges of integers is relatively straightforward. For example consider the next simplest case of $L=8 = 2^3$. The circuit above takes care of the last two bits and can be duplicated. For the extra bit we just need to add a additional `AND` operations, and a CNOT to switch between the original range `[0,3]` or the new range `[4,7]` depending on whether the new selection register is off or on respectively. This procedure can be repeated and we can begin to notice the recursive tree-like structure. \n",
    "\n",
    "This structure is just the segtree described previously for boolean logic and this gives is the basic idea of unary iteration, \n",
    "which uses `L-1` `AND` operations. Below the `ApplyXToLthQubit` builds the controlled Not operation using the `UnaryIterationGate` as a base class which defines the `decompose_from_registers` method appropriately to recursively construct the unary iteration circuit.\n",
    "\n",
    "Note below a different ordering of ancilla and selection qubits is taken to what was used in the simpler `L=4` example."
   ]
  },
  {
   "cell_type": "code",
   "execution_count": 15,
   "id": "9cba52b1",
   "metadata": {
    "execution": {
     "iopub.execute_input": "2023-10-30T23:24:56.497677Z",
     "iopub.status.busy": "2023-10-30T23:24:56.497587Z",
     "iopub.status.idle": "2023-10-30T23:24:56.501925Z",
     "shell.execute_reply": "2023-10-30T23:24:56.501696Z"
    }
   },
   "outputs": [],
   "source": [
    "from qualtran import Register, SelectionRegister\n",
    "from qualtran.bloqs.unary_iteration_bloq import UnaryIterationGate\n",
    "from cirq._compat import cached_property\n",
    "\n",
    "class ApplyXToLthQubit(UnaryIterationGate):\n",
    "    def __init__(self, selection_bitsize: int, target_bitsize: int, control_bitsize: int = 1):\n",
    "        self._selection_bitsize = selection_bitsize\n",
    "        self._target_bitsize = target_bitsize\n",
    "        self._control_bitsize = control_bitsize\n",
    "\n",
    "    @cached_property\n",
    "    def control_registers(self) -> Tuple[Register, ...]:\n",
    "        return Register('control', self._control_bitsize),\n",
    "\n",
    "    @cached_property\n",
    "    def selection_registers(self) -> Tuple[SelectionRegister, ...]:\n",
    "        return SelectionRegister('selection', self._selection_bitsize, self._target_bitsize),\n",
    "\n",
    "    @cached_property\n",
    "    def target_registers(self) -> Tuple[Register, ...]:\n",
    "        return Register('target', self._target_bitsize),\n",
    "\n",
    "    def nth_operation(\n",
    "        self, context, control: cirq.Qid, selection: int, target: Sequence[cirq.Qid]\n",
    "    ) -> cirq.OP_TREE:\n",
    "        return cirq.CNOT(control, target[-(selection + 1)])"
   ]
  },
  {
   "cell_type": "code",
   "execution_count": 16,
   "id": "a1e4bafa",
   "metadata": {
    "execution": {
     "iopub.execute_input": "2023-10-30T23:24:56.503418Z",
     "iopub.status.busy": "2023-10-30T23:24:56.503341Z",
     "iopub.status.idle": "2023-10-30T23:24:56.827620Z",
     "shell.execute_reply": "2023-10-30T23:24:56.827206Z"
    }
   },
   "outputs": [
    {
     "data": {
      "image/svg+xml": [
       "<svg xmlns=\"http://www.w3.org/2000/svg\" width=\"1310.0055859375\" height=\"600.0\"><line x1=\"120.73185546875001\" x2=\"1280.0055859375\" y1=\"25.0\" y2=\"25.0\" stroke=\"#1967d2\" stroke-width=\"1\" /><line x1=\"120.73185546875001\" x2=\"1280.0055859375\" y1=\"75.0\" y2=\"75.0\" stroke=\"#1967d2\" stroke-width=\"1\" /><line x1=\"120.73185546875001\" x2=\"1280.0055859375\" y1=\"125.0\" y2=\"125.0\" stroke=\"#1967d2\" stroke-width=\"1\" /><line x1=\"120.73185546875001\" x2=\"1280.0055859375\" y1=\"175.0\" y2=\"175.0\" stroke=\"#1967d2\" stroke-width=\"1\" /><line x1=\"120.73185546875001\" x2=\"1280.0055859375\" y1=\"225.0\" y2=\"225.0\" stroke=\"#1967d2\" stroke-width=\"1\" /><line x1=\"120.73185546875001\" x2=\"1280.0055859375\" y1=\"275.0\" y2=\"275.0\" stroke=\"#1967d2\" stroke-width=\"1\" /><line x1=\"120.73185546875001\" x2=\"1280.0055859375\" y1=\"325.0\" y2=\"325.0\" stroke=\"#1967d2\" stroke-width=\"1\" /><line x1=\"120.73185546875001\" x2=\"1280.0055859375\" y1=\"375.0\" y2=\"375.0\" stroke=\"#1967d2\" stroke-width=\"1\" /><line x1=\"120.73185546875001\" x2=\"1280.0055859375\" y1=\"425.0\" y2=\"425.0\" stroke=\"#1967d2\" stroke-width=\"1\" /><line x1=\"120.73185546875001\" x2=\"1280.0055859375\" y1=\"475.0\" y2=\"475.0\" stroke=\"#1967d2\" stroke-width=\"1\" /><line x1=\"120.73185546875001\" x2=\"1280.0055859375\" y1=\"525.0\" y2=\"525.0\" stroke=\"#1967d2\" stroke-width=\"1\" /><line x1=\"120.73185546875001\" x2=\"1280.0055859375\" y1=\"575.0\" y2=\"575.0\" stroke=\"#1967d2\" stroke-width=\"1\" /><line x1=\"271.4637109375\" x2=\"271.4637109375\" y1=\"25.0\" y2=\"225.0\" stroke=\"black\" stroke-width=\"3\" /><line x1=\"331.4637109375\" x2=\"331.4637109375\" y1=\"25.0\" y2=\"275.0\" stroke=\"black\" stroke-width=\"3\" /><line x1=\"391.4637109375\" x2=\"391.4637109375\" y1=\"75.0\" y2=\"325.0\" stroke=\"black\" stroke-width=\"3\" /><line x1=\"451.4637109375\" x2=\"451.4637109375\" y1=\"125.0\" y2=\"575.0\" stroke=\"black\" stroke-width=\"3\" /><line x1=\"511.4637109375\" x2=\"511.4637109375\" y1=\"75.0\" y2=\"125.0\" stroke=\"black\" stroke-width=\"3\" /><line x1=\"571.4637109375001\" x2=\"571.4637109375001\" y1=\"125.0\" y2=\"525.0\" stroke=\"black\" stroke-width=\"3\" /><line x1=\"632.5314453125001\" x2=\"632.5314453125001\" y1=\"75.0\" y2=\"325.0\" stroke=\"black\" stroke-width=\"3\" /><line x1=\"693.5991796875\" x2=\"693.5991796875\" y1=\"25.0\" y2=\"75.0\" stroke=\"black\" stroke-width=\"3\" /><line x1=\"753.5991796875\" x2=\"753.5991796875\" y1=\"75.0\" y2=\"325.0\" stroke=\"black\" stroke-width=\"3\" /><line x1=\"813.5991796875\" x2=\"813.5991796875\" y1=\"125.0\" y2=\"475.0\" stroke=\"black\" stroke-width=\"3\" /><line x1=\"873.5991796875\" x2=\"873.5991796875\" y1=\"75.0\" y2=\"125.0\" stroke=\"black\" stroke-width=\"3\" /><line x1=\"933.5991796875\" x2=\"933.5991796875\" y1=\"125.0\" y2=\"425.0\" stroke=\"black\" stroke-width=\"3\" /><line x1=\"994.6669140625\" x2=\"994.6669140625\" y1=\"75.0\" y2=\"325.0\" stroke=\"black\" stroke-width=\"3\" /><line x1=\"1056.8023828125001\" x2=\"1056.8023828125001\" y1=\"25.0\" y2=\"275.0\" stroke=\"black\" stroke-width=\"3\" /><line x1=\"1117.8701171875\" x2=\"1117.8701171875\" y1=\"25.0\" y2=\"175.0\" stroke=\"black\" stroke-width=\"3\" /><line x1=\"1177.8701171875\" x2=\"1177.8701171875\" y1=\"25.0\" y2=\"375.0\" stroke=\"black\" stroke-width=\"3\" /><line x1=\"1238.9378515625\" x2=\"1238.9378515625\" y1=\"25.0\" y2=\"225.0\" stroke=\"black\" stroke-width=\"3\" /><rect x=\"10.0\" y=\"5.0\" width=\"221.46371093750003\" height=\"40\" stroke=\"black\" fill=\"white\" stroke-width=\"0\" /><text x=\"120.73185546875001\" y=\"25.0\" dominant-baseline=\"middle\" text-anchor=\"middle\" font-size=\"14px\" font-family=\"Arial:style=normal:variant=normal:weight=normal:stretch=normal:size=10.0\">_decompose_protocol_2050_c(0): </text><rect x=\"10.0\" y=\"55.0\" width=\"221.46371093750003\" height=\"40\" stroke=\"black\" fill=\"white\" stroke-width=\"0\" /><text x=\"120.73185546875001\" y=\"75.0\" dominant-baseline=\"middle\" text-anchor=\"middle\" font-size=\"14px\" font-family=\"Arial:style=normal:variant=normal:weight=normal:stretch=normal:size=10.0\">_decompose_protocol_2050_c(1): </text><rect x=\"10.0\" y=\"105.0\" width=\"221.46371093750003\" height=\"40\" stroke=\"black\" fill=\"white\" stroke-width=\"0\" /><text x=\"120.73185546875001\" y=\"125.0\" dominant-baseline=\"middle\" text-anchor=\"middle\" font-size=\"14px\" font-family=\"Arial:style=normal:variant=normal:weight=normal:stretch=normal:size=10.0\">_decompose_protocol_2050_c(2): </text><rect x=\"10.0\" y=\"155.0\" width=\"221.46371093750003\" height=\"40\" stroke=\"black\" fill=\"white\" stroke-width=\"0\" /><text x=\"120.73185546875001\" y=\"175.0\" dominant-baseline=\"middle\" text-anchor=\"middle\" font-size=\"14px\" font-family=\"Arial:style=normal:variant=normal:weight=normal:stretch=normal:size=10.0\">control: </text><rect x=\"10.0\" y=\"205.0\" width=\"221.46371093750003\" height=\"40\" stroke=\"black\" fill=\"white\" stroke-width=\"0\" /><text x=\"120.73185546875001\" y=\"225.0\" dominant-baseline=\"middle\" text-anchor=\"middle\" font-size=\"14px\" font-family=\"Arial:style=normal:variant=normal:weight=normal:stretch=normal:size=10.0\">selection0: </text><rect x=\"10.0\" y=\"255.0\" width=\"221.46371093750003\" height=\"40\" stroke=\"black\" fill=\"white\" stroke-width=\"0\" /><text x=\"120.73185546875001\" y=\"275.0\" dominant-baseline=\"middle\" text-anchor=\"middle\" font-size=\"14px\" font-family=\"Arial:style=normal:variant=normal:weight=normal:stretch=normal:size=10.0\">selection1: </text><rect x=\"10.0\" y=\"305.0\" width=\"221.46371093750003\" height=\"40\" stroke=\"black\" fill=\"white\" stroke-width=\"0\" /><text x=\"120.73185546875001\" y=\"325.0\" dominant-baseline=\"middle\" text-anchor=\"middle\" font-size=\"14px\" font-family=\"Arial:style=normal:variant=normal:weight=normal:stretch=normal:size=10.0\">selection2: </text><rect x=\"10.0\" y=\"355.0\" width=\"221.46371093750003\" height=\"40\" stroke=\"black\" fill=\"white\" stroke-width=\"0\" /><text x=\"120.73185546875001\" y=\"375.0\" dominant-baseline=\"middle\" text-anchor=\"middle\" font-size=\"14px\" font-family=\"Arial:style=normal:variant=normal:weight=normal:stretch=normal:size=10.0\">target0: </text><rect x=\"10.0\" y=\"405.0\" width=\"221.46371093750003\" height=\"40\" stroke=\"black\" fill=\"white\" stroke-width=\"0\" /><text x=\"120.73185546875001\" y=\"425.0\" dominant-baseline=\"middle\" text-anchor=\"middle\" font-size=\"14px\" font-family=\"Arial:style=normal:variant=normal:weight=normal:stretch=normal:size=10.0\">target1: </text><rect x=\"10.0\" y=\"455.0\" width=\"221.46371093750003\" height=\"40\" stroke=\"black\" fill=\"white\" stroke-width=\"0\" /><text x=\"120.73185546875001\" y=\"475.0\" dominant-baseline=\"middle\" text-anchor=\"middle\" font-size=\"14px\" font-family=\"Arial:style=normal:variant=normal:weight=normal:stretch=normal:size=10.0\">target2: </text><rect x=\"10.0\" y=\"505.0\" width=\"221.46371093750003\" height=\"40\" stroke=\"black\" fill=\"white\" stroke-width=\"0\" /><text x=\"120.73185546875001\" y=\"525.0\" dominant-baseline=\"middle\" text-anchor=\"middle\" font-size=\"14px\" font-family=\"Arial:style=normal:variant=normal:weight=normal:stretch=normal:size=10.0\">target3: </text><rect x=\"10.0\" y=\"555.0\" width=\"221.46371093750003\" height=\"40\" stroke=\"black\" fill=\"white\" stroke-width=\"0\" /><text x=\"120.73185546875001\" y=\"575.0\" dominant-baseline=\"middle\" text-anchor=\"middle\" font-size=\"14px\" font-family=\"Arial:style=normal:variant=normal:weight=normal:stretch=normal:size=10.0\">target4: </text><circle cx=\"271.4637109375\" cy=\"175.0\" r=\"10.0\" /><rect x=\"251.46371093750003\" y=\"205.0\" width=\"40\" height=\"40\" stroke=\"black\" fill=\"white\" stroke-width=\"1\" /><text x=\"271.4637109375\" y=\"225.0\" dominant-baseline=\"middle\" text-anchor=\"middle\" font-size=\"14px\" font-family=\"Arial:style=normal:variant=normal:weight=normal:stretch=normal:size=10.0\">(0)</text><rect x=\"251.46371093750003\" y=\"5.0\" width=\"40\" height=\"40\" stroke=\"black\" fill=\"white\" stroke-width=\"1\" /><text x=\"271.4637109375\" y=\"25.0\" dominant-baseline=\"middle\" text-anchor=\"middle\" font-size=\"14px\" font-family=\"Arial:style=normal:variant=normal:weight=normal:stretch=normal:size=10.0\">And</text><circle cx=\"331.4637109375\" cy=\"25.0\" r=\"10.0\" /><rect x=\"311.4637109375\" y=\"255.0\" width=\"40\" height=\"40\" stroke=\"black\" fill=\"white\" stroke-width=\"1\" /><text x=\"331.4637109375\" y=\"275.0\" dominant-baseline=\"middle\" text-anchor=\"middle\" font-size=\"14px\" font-family=\"Arial:style=normal:variant=normal:weight=normal:stretch=normal:size=10.0\">(0)</text><rect x=\"311.4637109375\" y=\"55.0\" width=\"40\" height=\"40\" stroke=\"black\" fill=\"white\" stroke-width=\"1\" /><text x=\"331.4637109375\" y=\"75.0\" dominant-baseline=\"middle\" text-anchor=\"middle\" font-size=\"14px\" font-family=\"Arial:style=normal:variant=normal:weight=normal:stretch=normal:size=10.0\">And</text><circle cx=\"391.4637109375\" cy=\"75.0\" r=\"10.0\" /><rect x=\"371.4637109375\" y=\"305.0\" width=\"40\" height=\"40\" stroke=\"black\" fill=\"white\" stroke-width=\"1\" /><text x=\"391.4637109375\" y=\"325.0\" dominant-baseline=\"middle\" text-anchor=\"middle\" font-size=\"14px\" font-family=\"Arial:style=normal:variant=normal:weight=normal:stretch=normal:size=10.0\">(0)</text><rect x=\"371.4637109375\" y=\"105.0\" width=\"40\" height=\"40\" stroke=\"black\" fill=\"white\" stroke-width=\"1\" /><text x=\"391.4637109375\" y=\"125.0\" dominant-baseline=\"middle\" text-anchor=\"middle\" font-size=\"14px\" font-family=\"Arial:style=normal:variant=normal:weight=normal:stretch=normal:size=10.0\">And</text><circle cx=\"451.4637109375\" cy=\"125.0\" r=\"10.0\" /><rect x=\"431.4637109375\" y=\"555.0\" width=\"40\" height=\"40\" stroke=\"black\" fill=\"white\" stroke-width=\"1\" /><text x=\"451.4637109375\" y=\"575.0\" dominant-baseline=\"middle\" text-anchor=\"middle\" font-size=\"18px\" font-family=\"Arial:style=normal:variant=normal:weight=normal:stretch=normal:size=10.0\">X</text><circle cx=\"511.4637109375\" cy=\"75.0\" r=\"10.0\" /><rect x=\"491.4637109375\" y=\"105.0\" width=\"40\" height=\"40\" stroke=\"black\" fill=\"white\" stroke-width=\"1\" /><text x=\"511.4637109375\" y=\"125.0\" dominant-baseline=\"middle\" text-anchor=\"middle\" font-size=\"18px\" font-family=\"Arial:style=normal:variant=normal:weight=normal:stretch=normal:size=10.0\">X</text><circle cx=\"571.4637109375001\" cy=\"125.0\" r=\"10.0\" /><rect x=\"551.4637109375001\" y=\"505.0\" width=\"40\" height=\"40\" stroke=\"black\" fill=\"white\" stroke-width=\"1\" /><text x=\"571.4637109375001\" y=\"525.0\" dominant-baseline=\"middle\" text-anchor=\"middle\" font-size=\"18px\" font-family=\"Arial:style=normal:variant=normal:weight=normal:stretch=normal:size=10.0\">X</text><circle cx=\"632.5314453125001\" cy=\"75.0\" r=\"10.0\" /><circle cx=\"632.5314453125001\" cy=\"325.0\" r=\"10.0\" /><rect x=\"611.4637109375001\" y=\"105.0\" width=\"42.13546875000001\" height=\"40\" stroke=\"black\" fill=\"white\" stroke-width=\"1\" /><text x=\"632.5314453125001\" y=\"125.0\" dominant-baseline=\"middle\" text-anchor=\"middle\" font-size=\"14px\" font-family=\"Arial:style=normal:variant=normal:weight=normal:stretch=normal:size=10.0\">And†</text><circle cx=\"693.5991796875\" cy=\"25.0\" r=\"10.0\" /><rect x=\"673.5991796875\" y=\"55.0\" width=\"40\" height=\"40\" stroke=\"black\" fill=\"white\" stroke-width=\"1\" /><text x=\"693.5991796875\" y=\"75.0\" dominant-baseline=\"middle\" text-anchor=\"middle\" font-size=\"18px\" font-family=\"Arial:style=normal:variant=normal:weight=normal:stretch=normal:size=10.0\">X</text><circle cx=\"753.5991796875\" cy=\"75.0\" r=\"10.0\" /><rect x=\"733.5991796875\" y=\"305.0\" width=\"40\" height=\"40\" stroke=\"black\" fill=\"white\" stroke-width=\"1\" /><text x=\"753.5991796875\" y=\"325.0\" dominant-baseline=\"middle\" text-anchor=\"middle\" font-size=\"14px\" font-family=\"Arial:style=normal:variant=normal:weight=normal:stretch=normal:size=10.0\">(0)</text><rect x=\"733.5991796875\" y=\"105.0\" width=\"40\" height=\"40\" stroke=\"black\" fill=\"white\" stroke-width=\"1\" /><text x=\"753.5991796875\" y=\"125.0\" dominant-baseline=\"middle\" text-anchor=\"middle\" font-size=\"14px\" font-family=\"Arial:style=normal:variant=normal:weight=normal:stretch=normal:size=10.0\">And</text><circle cx=\"813.5991796875\" cy=\"125.0\" r=\"10.0\" /><rect x=\"793.5991796875\" y=\"455.0\" width=\"40\" height=\"40\" stroke=\"black\" fill=\"white\" stroke-width=\"1\" /><text x=\"813.5991796875\" y=\"475.0\" dominant-baseline=\"middle\" text-anchor=\"middle\" font-size=\"18px\" font-family=\"Arial:style=normal:variant=normal:weight=normal:stretch=normal:size=10.0\">X</text><circle cx=\"873.5991796875\" cy=\"75.0\" r=\"10.0\" /><rect x=\"853.5991796875\" y=\"105.0\" width=\"40\" height=\"40\" stroke=\"black\" fill=\"white\" stroke-width=\"1\" /><text x=\"873.5991796875\" y=\"125.0\" dominant-baseline=\"middle\" text-anchor=\"middle\" font-size=\"18px\" font-family=\"Arial:style=normal:variant=normal:weight=normal:stretch=normal:size=10.0\">X</text><circle cx=\"933.5991796875\" cy=\"125.0\" r=\"10.0\" /><rect x=\"913.5991796875\" y=\"405.0\" width=\"40\" height=\"40\" stroke=\"black\" fill=\"white\" stroke-width=\"1\" /><text x=\"933.5991796875\" y=\"425.0\" dominant-baseline=\"middle\" text-anchor=\"middle\" font-size=\"18px\" font-family=\"Arial:style=normal:variant=normal:weight=normal:stretch=normal:size=10.0\">X</text><circle cx=\"994.6669140625\" cy=\"75.0\" r=\"10.0\" /><circle cx=\"994.6669140625\" cy=\"325.0\" r=\"10.0\" /><rect x=\"973.5991796875\" y=\"105.0\" width=\"42.13546875000001\" height=\"40\" stroke=\"black\" fill=\"white\" stroke-width=\"1\" /><text x=\"994.6669140625\" y=\"125.0\" dominant-baseline=\"middle\" text-anchor=\"middle\" font-size=\"14px\" font-family=\"Arial:style=normal:variant=normal:weight=normal:stretch=normal:size=10.0\">And†</text><circle cx=\"1056.8023828125001\" cy=\"25.0\" r=\"10.0\" /><circle cx=\"1056.8023828125001\" cy=\"275.0\" r=\"10.0\" /><rect x=\"1035.7346484375\" y=\"55.0\" width=\"42.13546875000001\" height=\"40\" stroke=\"black\" fill=\"white\" stroke-width=\"1\" /><text x=\"1056.8023828125001\" y=\"75.0\" dominant-baseline=\"middle\" text-anchor=\"middle\" font-size=\"14px\" font-family=\"Arial:style=normal:variant=normal:weight=normal:stretch=normal:size=10.0\">And†</text><circle cx=\"1117.8701171875\" cy=\"175.0\" r=\"10.0\" /><rect x=\"1097.8701171875\" y=\"5.0\" width=\"40\" height=\"40\" stroke=\"black\" fill=\"white\" stroke-width=\"1\" /><text x=\"1117.8701171875\" y=\"25.0\" dominant-baseline=\"middle\" text-anchor=\"middle\" font-size=\"18px\" font-family=\"Arial:style=normal:variant=normal:weight=normal:stretch=normal:size=10.0\">X</text><circle cx=\"1177.8701171875\" cy=\"25.0\" r=\"10.0\" /><rect x=\"1157.8701171875\" y=\"355.0\" width=\"40\" height=\"40\" stroke=\"black\" fill=\"white\" stroke-width=\"1\" /><text x=\"1177.8701171875\" y=\"375.0\" dominant-baseline=\"middle\" text-anchor=\"middle\" font-size=\"18px\" font-family=\"Arial:style=normal:variant=normal:weight=normal:stretch=normal:size=10.0\">X</text><circle cx=\"1238.9378515625\" cy=\"175.0\" r=\"10.0\" /><circle cx=\"1238.9378515625\" cy=\"225.0\" r=\"10.0\" /><rect x=\"1217.8701171875\" y=\"5.0\" width=\"42.13546875000001\" height=\"40\" stroke=\"black\" fill=\"white\" stroke-width=\"1\" /><text x=\"1238.9378515625\" y=\"25.0\" dominant-baseline=\"middle\" text-anchor=\"middle\" font-size=\"14px\" font-family=\"Arial:style=normal:variant=normal:weight=normal:stretch=normal:size=10.0\">And†</text></svg>"
      ],
      "text/plain": [
       "<cirq.contrib.svg.svg.SVGCircuit at 0x156602c20>"
      ]
     },
     "execution_count": 16,
     "metadata": {},
     "output_type": "execute_result"
    }
   ],
   "source": [
    "import qualtran.cirq_interop.testing as cq_testing\n",
    "selection_bitsize = 3\n",
    "target_bitsize = 5\n",
    "\n",
    "g = cq_testing.GateHelper(\n",
    "    ApplyXToLthQubit(selection_bitsize, target_bitsize))\n",
    "SVGCircuit(cirq.Circuit(cirq.decompose_once(g.operation)))"
   ]
  },
  {
   "cell_type": "markdown",
   "id": "13773620",
   "metadata": {},
   "source": [
    "## Tests for Correctness\n",
    "\n",
    "We can use a full statevector simulation to check again that the optimized circuit produces the expected result."
   ]
  },
  {
   "cell_type": "code",
   "execution_count": 17,
   "id": "32ae469b",
   "metadata": {
    "execution": {
     "iopub.execute_input": "2023-10-30T23:24:56.829361Z",
     "iopub.status.busy": "2023-10-30T23:24:56.829231Z",
     "iopub.status.idle": "2023-10-30T23:24:57.168505Z",
     "shell.execute_reply": "2023-10-30T23:24:57.168229Z"
    }
   },
   "outputs": [
    {
     "name": "stdout",
     "output_type": "stream",
     "text": [
      "n=0 checked!\n",
      "n=1 checked!\n",
      "n=2 checked!\n",
      "n=3 checked!\n"
     ]
    },
    {
     "name": "stdout",
     "output_type": "stream",
     "text": [
      "n=4 checked!\n"
     ]
    }
   ],
   "source": [
    "from qualtran.cirq_interop.bit_tools import iter_bits\n",
    "\n",
    "for n in range(target_bitsize):\n",
    "    # Initial qubit values\n",
    "    qubit_vals = {q: 0 for q in g.all_qubits}\n",
    "    # All controls 'on' to activate circuit\n",
    "    qubit_vals.update({c: 1 for c in g.quregs['control']})\n",
    "    # Set selection according to `n`\n",
    "    qubit_vals.update(zip(g.quregs['selection'], iter_bits(n, selection_bitsize)))\n",
    "\n",
    "    initial_state = [qubit_vals[x] for x in g.all_qubits]\n",
    "    qubit_vals[g.quregs['target'][-(n + 1)]] = 1\n",
    "    final_state = [qubit_vals[x] for x in g.all_qubits]\n",
    "    cq_testing.assert_circuit_inp_out_cirqsim(\n",
    "        g.decomposed_circuit, g.all_qubits, initial_state, final_state\n",
    "    )\n",
    "    print(f'n={n} checked!')"
   ]
  }
 ],
 "metadata": {
  "kernelspec": {
   "display_name": "Python 3",
   "language": "python",
   "name": "python3"
  },
  "language_info": {
   "codemirror_mode": {
    "name": "ipython",
    "version": 3
   },
   "file_extension": ".py",
   "mimetype": "text/x-python",
   "name": "python",
   "nbconvert_exporter": "python",
   "pygments_lexer": "ipython3",
   "version": "3.10.9"
  }
 },
 "nbformat": 4,
 "nbformat_minor": 5
}
