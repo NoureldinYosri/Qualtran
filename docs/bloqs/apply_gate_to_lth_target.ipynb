{
 "cells": [
  {
   "cell_type": "code",
   "execution_count": 1,
   "id": "60432dd0",
   "metadata": {
    "execution": {
     "iopub.execute_input": "2023-10-30T23:23:37.597320Z",
     "iopub.status.busy": "2023-10-30T23:23:37.597047Z",
     "iopub.status.idle": "2023-10-30T23:23:37.602075Z",
     "shell.execute_reply": "2023-10-30T23:23:37.601546Z"
    }
   },
   "outputs": [],
   "source": [
    "#  Copyright 2023 Google LLC\n",
    "#\n",
    "#  Licensed under the Apache License, Version 2.0 (the \"License\");\n",
    "#  you may not use this file except in compliance with the License.\n",
    "#  You may obtain a copy of the License at\n",
    "#\n",
    "#      https://www.apache.org/licenses/LICENSE-2.0\n",
    "#\n",
    "#  Unless required by applicable law or agreed to in writing, software\n",
    "#  distributed under the License is distributed on an \"AS IS\" BASIS,\n",
    "#  WITHOUT WARRANTIES OR CONDITIONS OF ANY KIND, either express or implied.\n",
    "#  See the License for the specific language governing permissions and\n",
    "#  limitations under the License."
   ]
  },
  {
   "cell_type": "markdown",
   "id": "ac3bfb05",
   "metadata": {
    "cq.autogen": "title_cell"
   },
   "source": [
    "# Apply to L-th Target"
   ]
  },
  {
   "cell_type": "code",
   "execution_count": 2,
   "id": "4e214a27",
   "metadata": {
    "cq.autogen": "top_imports",
    "execution": {
     "iopub.execute_input": "2023-10-30T23:23:37.604767Z",
     "iopub.status.busy": "2023-10-30T23:23:37.604538Z",
     "iopub.status.idle": "2023-10-30T23:23:39.522244Z",
     "shell.execute_reply": "2023-10-30T23:23:39.521964Z"
    }
   },
   "outputs": [
    {
     "name": "stderr",
     "output_type": "stream",
     "text": [
      "OMP: Info #276: omp_set_nested routine deprecated, please use omp_set_max_active_levels instead.\n"
     ]
    }
   ],
   "source": [
    "import cirq\n",
    "import numpy as np\n",
    "from qualtran import Signature, SelectionRegister\n",
    "from qualtran.bloqs.apply_gate_to_lth_target import ApplyGateToLthQubit\n",
    "import qualtran.cirq_interop.testing as cq_testing\n",
    "from qualtran.cirq_interop.jupyter_tools import display_gate_and_compilation\n",
    "from typing import *"
   ]
  },
  {
   "cell_type": "markdown",
   "id": "249829b0",
   "metadata": {
    "cq.autogen": "_make_ApplyGateToLthQubit.md"
   },
   "source": [
    "## `ApplyGateToLthQubit`\n",
    "A controlled SELECT operation for single-qubit gates.\n",
    "\n",
    "$$\n",
    "\\mathrm{SELECT} = \\sum_{l}|l \\rangle \\langle l| \\otimes [G(l)]_l\n",
    "$$\n",
    "\n",
    "Where $G$ is a function that maps an index to a single-qubit gate.\n",
    "\n",
    "This gate uses the unary iteration scheme to apply `nth_gate(selection)` to the\n",
    "`selection`-th qubit of `target` all controlled by the `control` register.\n",
    "\n",
    "#### Parameters\n",
    " - `selection_regs`: Indexing `select` signature of type Tuple[`SelectionRegister`, ...]. It also contains information about the iteration length of each selection register.\n",
    " - `nth_gate`: A function mapping the composite selection index to a single-qubit gate.\n",
    " - `control_regs`: Control signature for constructing a controlled version of the gate.\n"
   ]
  },
  {
   "cell_type": "code",
   "execution_count": 3,
   "id": "b8d2a7bf",
   "metadata": {
    "cq.autogen": "_make_ApplyGateToLthQubit.py",
    "execution": {
     "iopub.execute_input": "2023-10-30T23:23:39.524077Z",
     "iopub.status.busy": "2023-10-30T23:23:39.523925Z",
     "iopub.status.idle": "2023-10-30T23:23:40.098675Z",
     "shell.execute_reply": "2023-10-30T23:23:40.098380Z"
    }
   },
   "outputs": [
    {
     "data": {
      "application/vnd.jupyter.widget-view+json": {
       "model_id": "819e3f928ef64cf5ad0a1adad33778d2",
       "version_major": 2,
       "version_minor": 0
      },
      "text/plain": [
       "HBox(children=(Output(outputs=({'output_type': 'display_data', 'data': {'text/plain': '<IPython.core.display.S…"
      ]
     },
     "metadata": {},
     "output_type": "display_data"
    }
   ],
   "source": [
    "def _z_to_odd(n: int):\n",
    "    if n % 2 == 1:\n",
    "        return cirq.Z\n",
    "    return cirq.I\n",
    "\n",
    "apply_z_to_odd = ApplyGateToLthQubit(\n",
    "    SelectionRegister('selection', 3, 4),\n",
    "    nth_gate=_z_to_odd,\n",
    "    control_regs=Signature.build(control=2),\n",
    ")\n",
    "\n",
    "g = cq_testing.GateHelper(\n",
    "    apply_z_to_odd\n",
    ")\n",
    "\n",
    "display_gate_and_compilation(g)"
   ]
  }
 ],
 "metadata": {
  "kernelspec": {
   "display_name": "Python 3",
   "language": "python",
   "name": "python3"
  },
  "language_info": {
   "codemirror_mode": {
    "name": "ipython",
    "version": 3
   },
   "file_extension": ".py",
   "mimetype": "text/x-python",
   "name": "python",
   "nbconvert_exporter": "python",
   "pygments_lexer": "ipython3",
   "version": "3.10.9"
  },
  "widgets": {
   "application/vnd.jupyter.widget-state+json": {
    "state": {
     "33030fc7d52d4a53ab8bdea9309b045a": {
      "model_module": "@jupyter-widgets/base",
      "model_module_version": "2.0.0",
      "model_name": "LayoutModel",
      "state": {
       "_model_module": "@jupyter-widgets/base",
       "_model_module_version": "2.0.0",
       "_model_name": "LayoutModel",
       "_view_count": null,
       "_view_module": "@jupyter-widgets/base",
       "_view_module_version": "2.0.0",
       "_view_name": "LayoutView",
       "align_content": null,
       "align_items": null,
       "align_self": null,
       "border_bottom": null,
       "border_left": null,
       "border_right": null,
       "border_top": null,
       "bottom": null,
       "display": null,
       "flex": null,
       "flex_flow": null,
       "grid_area": null,
       "grid_auto_columns": null,
       "grid_auto_flow": null,
       "grid_auto_rows": null,
       "grid_column": null,
       "grid_gap": null,
       "grid_row": null,
       "grid_template_areas": null,
       "grid_template_columns": null,
       "grid_template_rows": null,
       "height": null,
       "justify_content": null,
       "justify_items": null,
       "left": null,
       "margin": null,
       "max_height": null,
       "max_width": null,
       "min_height": null,
       "min_width": null,
       "object_fit": null,
       "object_position": null,
       "order": null,
       "overflow": null,
       "padding": null,
       "right": null,
       "top": null,
       "visibility": null,
       "width": null
      }
     },
     "819e3f928ef64cf5ad0a1adad33778d2": {
      "model_module": "@jupyter-widgets/controls",
      "model_module_version": "2.0.0",
      "model_name": "HBoxModel",
      "state": {
       "_dom_classes": [],
       "_model_module": "@jupyter-widgets/controls",
       "_model_module_version": "2.0.0",
       "_model_name": "HBoxModel",
       "_view_count": null,
       "_view_module": "@jupyter-widgets/controls",
       "_view_module_version": "2.0.0",
       "_view_name": "HBoxView",
       "box_style": "",
       "children": [
        "IPY_MODEL_ba4824682f544ae985d251edf08fb5d8",
        "IPY_MODEL_ae1abba60bc84b6eae113937414ff352"
       ],
       "layout": "IPY_MODEL_95aa360a25bd423698a82ce82160dda2",
       "tabbable": null,
       "tooltip": null
      }
     },
     "95aa360a25bd423698a82ce82160dda2": {
      "model_module": "@jupyter-widgets/base",
      "model_module_version": "2.0.0",
      "model_name": "LayoutModel",
      "state": {
       "_model_module": "@jupyter-widgets/base",
       "_model_module_version": "2.0.0",
       "_model_name": "LayoutModel",
       "_view_count": null,
       "_view_module": "@jupyter-widgets/base",
       "_view_module_version": "2.0.0",
       "_view_name": "LayoutView",
       "align_content": null,
       "align_items": null,
       "align_self": null,
       "border_bottom": null,
       "border_left": null,
       "border_right": null,
       "border_top": null,
       "bottom": null,
       "display": null,
       "flex": null,
       "flex_flow": null,
       "grid_area": null,
       "grid_auto_columns": null,
       "grid_auto_flow": null,
       "grid_auto_rows": null,
       "grid_column": null,
       "grid_gap": null,
       "grid_row": null,
       "grid_template_areas": null,
       "grid_template_columns": null,
       "grid_template_rows": null,
       "height": null,
       "justify_content": null,
       "justify_items": null,
       "left": null,
       "margin": null,
       "max_height": null,
       "max_width": null,
       "min_height": null,
       "min_width": null,
       "object_fit": null,
       "object_position": null,
       "order": null,
       "overflow": null,
       "padding": null,
       "right": null,
       "top": null,
       "visibility": null,
       "width": null
      }
     },
     "ae1abba60bc84b6eae113937414ff352": {
      "model_module": "@jupyter-widgets/output",
      "model_module_version": "1.0.0",
      "model_name": "OutputModel",
      "state": {
       "_dom_classes": [],
       "_model_module": "@jupyter-widgets/output",
       "_model_module_version": "1.0.0",
       "_model_name": "OutputModel",
       "_view_count": null,
       "_view_module": "@jupyter-widgets/output",
       "_view_module_version": "1.0.0",
       "_view_name": "OutputView",
       "layout": "IPY_MODEL_33030fc7d52d4a53ab8bdea9309b045a",
       "msg_id": "",
       "outputs": [
        {
         "data": {
          "image/svg+xml": "<svg xmlns=\"http://www.w3.org/2000/svg\" width=\"1630.0463281250004\" height=\"600.0\"><line x1=\"109.05265625000001\" x2=\"1600.0463281250004\" y1=\"25.0\" y2=\"25.0\" stroke=\"#1967d2\" stroke-width=\"1\"/><line x1=\"109.05265625000001\" x2=\"1600.0463281250004\" y1=\"75.0\" y2=\"75.0\" stroke=\"#1967d2\" stroke-width=\"1\"/><line x1=\"109.05265625000001\" x2=\"1600.0463281250004\" y1=\"125.0\" y2=\"125.0\" stroke=\"#1967d2\" stroke-width=\"1\"/><line x1=\"109.05265625000001\" x2=\"1600.0463281250004\" y1=\"175.0\" y2=\"175.0\" stroke=\"#1967d2\" stroke-width=\"1\"/><line x1=\"109.05265625000001\" x2=\"1600.0463281250004\" y1=\"225.0\" y2=\"225.0\" stroke=\"#1967d2\" stroke-width=\"1\"/><line x1=\"109.05265625000001\" x2=\"1600.0463281250004\" y1=\"275.0\" y2=\"275.0\" stroke=\"#1967d2\" stroke-width=\"1\"/><line x1=\"109.05265625000001\" x2=\"1600.0463281250004\" y1=\"325.0\" y2=\"325.0\" stroke=\"#1967d2\" stroke-width=\"1\"/><line x1=\"109.05265625000001\" x2=\"1600.0463281250004\" y1=\"375.0\" y2=\"375.0\" stroke=\"#1967d2\" stroke-width=\"1\"/><line x1=\"109.05265625000001\" x2=\"1600.0463281250004\" y1=\"425.0\" y2=\"425.0\" stroke=\"#1967d2\" stroke-width=\"1\"/><line x1=\"109.05265625000001\" x2=\"1600.0463281250004\" y1=\"475.0\" y2=\"475.0\" stroke=\"#1967d2\" stroke-width=\"1\"/><line x1=\"109.05265625000001\" x2=\"1600.0463281250004\" y1=\"525.0\" y2=\"525.0\" stroke=\"#1967d2\" stroke-width=\"1\"/><line x1=\"109.05265625000001\" x2=\"1600.0463281250004\" y1=\"575.0\" y2=\"575.0\" stroke=\"#1967d2\" stroke-width=\"1\"/><line x1=\"263.8366796875\" x2=\"263.8366796875\" y1=\"25.0\" y2=\"475.0\" stroke=\"black\" stroke-width=\"3\"/><line x1=\"355.29941406250003\" x2=\"355.29941406250003\" y1=\"175.0\" y2=\"525.0\" stroke=\"black\" stroke-width=\"3\"/><line x1=\"446.7621484375\" x2=\"446.7621484375\" y1=\"225.0\" y2=\"575.0\" stroke=\"black\" stroke-width=\"3\"/><line x1=\"538.2248828125\" x2=\"538.2248828125\" y1=\"275.0\" y2=\"575.0\" stroke=\"black\" stroke-width=\"3\"/><line x1=\"629.6876171875\" x2=\"629.6876171875\" y1=\"525.0\" y2=\"575.0\" stroke=\"black\" stroke-width=\"3\"/><line x1=\"721.1503515625\" x2=\"721.1503515625\" y1=\"325.0\" y2=\"575.0\" stroke=\"black\" stroke-width=\"3\"/><line x1=\"812.6130859374999\" x2=\"812.6130859374999\" y1=\"225.0\" y2=\"575.0\" stroke=\"black\" stroke-width=\"3\"/><line x1=\"904.0758203124999\" x2=\"904.0758203124999\" y1=\"475.0\" y2=\"525.0\" stroke=\"black\" stroke-width=\"3\"/><line x1=\"995.5385546874999\" x2=\"995.5385546874999\" y1=\"225.0\" y2=\"575.0\" stroke=\"black\" stroke-width=\"3\"/><line x1=\"1087.0012890624998\" x2=\"1087.0012890624998\" y1=\"375.0\" y2=\"575.0\" stroke=\"black\" stroke-width=\"3\"/><line x1=\"1178.4640234375\" x2=\"1178.4640234375\" y1=\"525.0\" y2=\"575.0\" stroke=\"black\" stroke-width=\"3\"/><line x1=\"1269.9267578125\" x2=\"1269.9267578125\" y1=\"425.0\" y2=\"575.0\" stroke=\"black\" stroke-width=\"3\"/><line x1=\"1361.3894921875\" x2=\"1361.3894921875\" y1=\"225.0\" y2=\"575.0\" stroke=\"black\" stroke-width=\"3\"/><line x1=\"1452.8522265625002\" x2=\"1452.8522265625002\" y1=\"175.0\" y2=\"525.0\" stroke=\"black\" stroke-width=\"3\"/><line x1=\"1544.3149609375002\" x2=\"1544.3149609375002\" y1=\"25.0\" y2=\"475.0\" stroke=\"black\" stroke-width=\"3\"/><rect x=\"10.0\" y=\"5.0\" width=\"198.10531250000003\" height=\"40\" stroke=\"black\" fill=\"white\" stroke-width=\"0\"/><text x=\"109.05265625000001\" y=\"25.0\" dominant-baseline=\"middle\" text-anchor=\"middle\" font-size=\"14px\" font-family=\"Arial:style=normal:variant=normal:weight=normal:stretch=normal:size=10.0\">control0: </text><rect x=\"10.0\" y=\"55.0\" width=\"198.10531250000003\" height=\"40\" stroke=\"black\" fill=\"white\" stroke-width=\"0\"/><text x=\"109.05265625000001\" y=\"75.0\" dominant-baseline=\"middle\" text-anchor=\"middle\" font-size=\"14px\" font-family=\"Arial:style=normal:variant=normal:weight=normal:stretch=normal:size=10.0\">control1: </text><rect x=\"10.0\" y=\"105.0\" width=\"198.10531250000003\" height=\"40\" stroke=\"black\" fill=\"white\" stroke-width=\"0\"/><text x=\"109.05265625000001\" y=\"125.0\" dominant-baseline=\"middle\" text-anchor=\"middle\" font-size=\"14px\" font-family=\"Arial:style=normal:variant=normal:weight=normal:stretch=normal:size=10.0\">selection0: </text><rect x=\"10.0\" y=\"155.0\" width=\"198.10531250000003\" height=\"40\" stroke=\"black\" fill=\"white\" stroke-width=\"0\"/><text x=\"109.05265625000001\" y=\"175.0\" dominant-baseline=\"middle\" text-anchor=\"middle\" font-size=\"14px\" font-family=\"Arial:style=normal:variant=normal:weight=normal:stretch=normal:size=10.0\">selection1: </text><rect x=\"10.0\" y=\"205.0\" width=\"198.10531250000003\" height=\"40\" stroke=\"black\" fill=\"white\" stroke-width=\"0\"/><text x=\"109.05265625000001\" y=\"225.0\" dominant-baseline=\"middle\" text-anchor=\"middle\" font-size=\"14px\" font-family=\"Arial:style=normal:variant=normal:weight=normal:stretch=normal:size=10.0\">selection2: </text><rect x=\"10.0\" y=\"255.0\" width=\"198.10531250000003\" height=\"40\" stroke=\"black\" fill=\"white\" stroke-width=\"0\"/><text x=\"109.05265625000001\" y=\"275.0\" dominant-baseline=\"middle\" text-anchor=\"middle\" font-size=\"14px\" font-family=\"Arial:style=normal:variant=normal:weight=normal:stretch=normal:size=10.0\">target0: </text><rect x=\"10.0\" y=\"305.0\" width=\"198.10531250000003\" height=\"40\" stroke=\"black\" fill=\"white\" stroke-width=\"0\"/><text x=\"109.05265625000001\" y=\"325.0\" dominant-baseline=\"middle\" text-anchor=\"middle\" font-size=\"14px\" font-family=\"Arial:style=normal:variant=normal:weight=normal:stretch=normal:size=10.0\">target1: </text><rect x=\"10.0\" y=\"355.0\" width=\"198.10531250000003\" height=\"40\" stroke=\"black\" fill=\"white\" stroke-width=\"0\"/><text x=\"109.05265625000001\" y=\"375.0\" dominant-baseline=\"middle\" text-anchor=\"middle\" font-size=\"14px\" font-family=\"Arial:style=normal:variant=normal:weight=normal:stretch=normal:size=10.0\">target2: </text><rect x=\"10.0\" y=\"405.0\" width=\"198.10531250000003\" height=\"40\" stroke=\"black\" fill=\"white\" stroke-width=\"0\"/><text x=\"109.05265625000001\" y=\"425.0\" dominant-baseline=\"middle\" text-anchor=\"middle\" font-size=\"14px\" font-family=\"Arial:style=normal:variant=normal:weight=normal:stretch=normal:size=10.0\">target3: </text><rect x=\"10.0\" y=\"455.0\" width=\"198.10531250000003\" height=\"40\" stroke=\"black\" fill=\"white\" stroke-width=\"0\"/><text x=\"109.05265625000001\" y=\"475.0\" dominant-baseline=\"middle\" text-anchor=\"middle\" font-size=\"14px\" font-family=\"Arial:style=normal:variant=normal:weight=normal:stretch=normal:size=10.0\">_decompose_protocol_0_c(0): </text><rect x=\"10.0\" y=\"505.0\" width=\"198.10531250000003\" height=\"40\" stroke=\"black\" fill=\"white\" stroke-width=\"0\"/><text x=\"109.05265625000001\" y=\"525.0\" dominant-baseline=\"middle\" text-anchor=\"middle\" font-size=\"14px\" font-family=\"Arial:style=normal:variant=normal:weight=normal:stretch=normal:size=10.0\">_decompose_protocol_0_c(2): </text><rect x=\"10.0\" y=\"555.0\" width=\"198.10531250000003\" height=\"40\" stroke=\"black\" fill=\"white\" stroke-width=\"0\"/><text x=\"109.05265625000001\" y=\"575.0\" dominant-baseline=\"middle\" text-anchor=\"middle\" font-size=\"14px\" font-family=\"Arial:style=normal:variant=normal:weight=normal:stretch=normal:size=10.0\">_decompose_protocol_0_c(3): </text><rect x=\"228.10531250000003\" y=\"5.0\" width=\"71.462734375\" height=\"40\" stroke=\"black\" fill=\"white\" stroke-width=\"1\"/><text x=\"263.8366796875\" y=\"25.0\" dominant-baseline=\"middle\" text-anchor=\"middle\" font-size=\"14px\" font-family=\"Arial:style=normal:variant=normal:weight=normal:stretch=normal:size=10.0\">@['t:4,r:0']</text><circle cx=\"263.8366796875\" cy=\"75.0\" r=\"10.0\"/><rect x=\"228.10531250000003\" y=\"455.0\" width=\"71.462734375\" height=\"40\" stroke=\"black\" fill=\"white\" stroke-width=\"1\"/><text x=\"263.8366796875\" y=\"475.0\" dominant-baseline=\"middle\" text-anchor=\"middle\" font-size=\"14px\" font-family=\"Arial:style=normal:variant=normal:weight=normal:stretch=normal:size=10.0\">And</text><rect x=\"319.56804687500005\" y=\"455.0\" width=\"71.462734375\" height=\"40\" stroke=\"black\" fill=\"white\" stroke-width=\"1\"/><text x=\"355.29941406250003\" y=\"475.0\" dominant-baseline=\"middle\" text-anchor=\"middle\" font-size=\"14px\" font-family=\"Arial:style=normal:variant=normal:weight=normal:stretch=normal:size=10.0\">@['t:4,r:0']</text><rect x=\"319.56804687500005\" y=\"155.0\" width=\"71.462734375\" height=\"40\" stroke=\"black\" fill=\"white\" stroke-width=\"1\"/><text x=\"355.29941406250003\" y=\"175.0\" dominant-baseline=\"middle\" text-anchor=\"middle\" font-size=\"14px\" font-family=\"Arial:style=normal:variant=normal:weight=normal:stretch=normal:size=10.0\">(0)</text><rect x=\"319.56804687500005\" y=\"505.0\" width=\"71.462734375\" height=\"40\" stroke=\"black\" fill=\"white\" stroke-width=\"1\"/><text x=\"355.29941406250003\" y=\"525.0\" dominant-baseline=\"middle\" text-anchor=\"middle\" font-size=\"14px\" font-family=\"Arial:style=normal:variant=normal:weight=normal:stretch=normal:size=10.0\">And</text><rect x=\"411.03078125\" y=\"505.0\" width=\"71.462734375\" height=\"40\" stroke=\"black\" fill=\"white\" stroke-width=\"1\"/><text x=\"446.7621484375\" y=\"525.0\" dominant-baseline=\"middle\" text-anchor=\"middle\" font-size=\"14px\" font-family=\"Arial:style=normal:variant=normal:weight=normal:stretch=normal:size=10.0\">@['t:4,r:0']</text><rect x=\"411.03078125\" y=\"205.0\" width=\"71.462734375\" height=\"40\" stroke=\"black\" fill=\"white\" stroke-width=\"1\"/><text x=\"446.7621484375\" y=\"225.0\" dominant-baseline=\"middle\" text-anchor=\"middle\" font-size=\"14px\" font-family=\"Arial:style=normal:variant=normal:weight=normal:stretch=normal:size=10.0\">(0)</text><rect x=\"411.03078125\" y=\"555.0\" width=\"71.462734375\" height=\"40\" stroke=\"black\" fill=\"white\" stroke-width=\"1\"/><text x=\"446.7621484375\" y=\"575.0\" dominant-baseline=\"middle\" text-anchor=\"middle\" font-size=\"14px\" font-family=\"Arial:style=normal:variant=normal:weight=normal:stretch=normal:size=10.0\">And</text><rect x=\"502.49351562500004\" y=\"555.0\" width=\"71.462734375\" height=\"40\" stroke=\"black\" fill=\"white\" stroke-width=\"1\"/><text x=\"538.2248828125\" y=\"575.0\" dominant-baseline=\"middle\" text-anchor=\"middle\" font-size=\"14px\" font-family=\"Arial:style=normal:variant=normal:weight=normal:stretch=normal:size=10.0\">@['t:0,r:0']</text><rect x=\"502.49351562500004\" y=\"255.0\" width=\"71.462734375\" height=\"40\" stroke=\"black\" fill=\"white\" stroke-width=\"1\"/><text x=\"538.2248828125\" y=\"275.0\" dominant-baseline=\"middle\" text-anchor=\"middle\" font-size=\"18px\" font-family=\"Arial:style=normal:variant=normal:weight=normal:stretch=normal:size=10.0\">I</text><rect x=\"593.95625\" y=\"505.0\" width=\"71.462734375\" height=\"40\" stroke=\"black\" fill=\"white\" stroke-width=\"1\"/><text x=\"629.6876171875\" y=\"525.0\" dominant-baseline=\"middle\" text-anchor=\"middle\" font-size=\"14px\" font-family=\"Arial:style=normal:variant=normal:weight=normal:stretch=normal:size=10.0\">@['t:0,r:0']</text><rect x=\"593.95625\" y=\"555.0\" width=\"71.462734375\" height=\"40\" stroke=\"black\" fill=\"white\" stroke-width=\"1\"/><text x=\"629.6876171875\" y=\"575.0\" dominant-baseline=\"middle\" text-anchor=\"middle\" font-size=\"18px\" font-family=\"Arial:style=normal:variant=normal:weight=normal:stretch=normal:size=10.0\">X</text><rect x=\"685.4189843749999\" y=\"555.0\" width=\"71.462734375\" height=\"40\" stroke=\"black\" fill=\"white\" stroke-width=\"1\"/><text x=\"721.1503515625\" y=\"575.0\" dominant-baseline=\"middle\" text-anchor=\"middle\" font-size=\"14px\" font-family=\"Arial:style=normal:variant=normal:weight=normal:stretch=normal:size=10.0\">@['t:0,r:0']</text><circle cx=\"721.1503515625\" cy=\"325.0\" r=\"10.0\"/><rect x=\"776.8817187499999\" y=\"505.0\" width=\"71.462734375\" height=\"40\" stroke=\"black\" fill=\"white\" stroke-width=\"1\"/><text x=\"812.6130859374999\" y=\"525.0\" dominant-baseline=\"middle\" text-anchor=\"middle\" font-size=\"14px\" font-family=\"Arial:style=normal:variant=normal:weight=normal:stretch=normal:size=10.0\">@['t:0,r:0']</text><circle cx=\"812.6130859374999\" cy=\"225.0\" r=\"10.0\"/><rect x=\"776.8817187499999\" y=\"555.0\" width=\"71.462734375\" height=\"40\" stroke=\"black\" fill=\"white\" stroke-width=\"1\"/><text x=\"812.6130859374999\" y=\"575.0\" dominant-baseline=\"middle\" text-anchor=\"middle\" font-size=\"14px\" font-family=\"Arial:style=normal:variant=normal:weight=normal:stretch=normal:size=10.0\">And†</text><rect x=\"868.3444531249999\" y=\"455.0\" width=\"71.462734375\" height=\"40\" stroke=\"black\" fill=\"white\" stroke-width=\"1\"/><text x=\"904.0758203124999\" y=\"475.0\" dominant-baseline=\"middle\" text-anchor=\"middle\" font-size=\"14px\" font-family=\"Arial:style=normal:variant=normal:weight=normal:stretch=normal:size=10.0\">@['t:0,r:0']</text><rect x=\"868.3444531249999\" y=\"505.0\" width=\"71.462734375\" height=\"40\" stroke=\"black\" fill=\"white\" stroke-width=\"1\"/><text x=\"904.0758203124999\" y=\"525.0\" dominant-baseline=\"middle\" text-anchor=\"middle\" font-size=\"18px\" font-family=\"Arial:style=normal:variant=normal:weight=normal:stretch=normal:size=10.0\">X</text><rect x=\"959.8071874999998\" y=\"505.0\" width=\"71.462734375\" height=\"40\" stroke=\"black\" fill=\"white\" stroke-width=\"1\"/><text x=\"995.5385546874999\" y=\"525.0\" dominant-baseline=\"middle\" text-anchor=\"middle\" font-size=\"14px\" font-family=\"Arial:style=normal:variant=normal:weight=normal:stretch=normal:size=10.0\">@['t:4,r:0']</text><rect x=\"959.8071874999998\" y=\"205.0\" width=\"71.462734375\" height=\"40\" stroke=\"black\" fill=\"white\" stroke-width=\"1\"/><text x=\"995.5385546874999\" y=\"225.0\" dominant-baseline=\"middle\" text-anchor=\"middle\" font-size=\"14px\" font-family=\"Arial:style=normal:variant=normal:weight=normal:stretch=normal:size=10.0\">(0)</text><rect x=\"959.8071874999998\" y=\"555.0\" width=\"71.462734375\" height=\"40\" stroke=\"black\" fill=\"white\" stroke-width=\"1\"/><text x=\"995.5385546874999\" y=\"575.0\" dominant-baseline=\"middle\" text-anchor=\"middle\" font-size=\"14px\" font-family=\"Arial:style=normal:variant=normal:weight=normal:stretch=normal:size=10.0\">And</text><rect x=\"1051.269921875\" y=\"555.0\" width=\"71.462734375\" height=\"40\" stroke=\"black\" fill=\"white\" stroke-width=\"1\"/><text x=\"1087.0012890624998\" y=\"575.0\" dominant-baseline=\"middle\" text-anchor=\"middle\" font-size=\"14px\" font-family=\"Arial:style=normal:variant=normal:weight=normal:stretch=normal:size=10.0\">@['t:0,r:0']</text><rect x=\"1051.269921875\" y=\"355.0\" width=\"71.462734375\" height=\"40\" stroke=\"black\" fill=\"white\" stroke-width=\"1\"/><text x=\"1087.0012890624998\" y=\"375.0\" dominant-baseline=\"middle\" text-anchor=\"middle\" font-size=\"18px\" font-family=\"Arial:style=normal:variant=normal:weight=normal:stretch=normal:size=10.0\">I</text><rect x=\"1142.73265625\" y=\"505.0\" width=\"71.462734375\" height=\"40\" stroke=\"black\" fill=\"white\" stroke-width=\"1\"/><text x=\"1178.4640234375\" y=\"525.0\" dominant-baseline=\"middle\" text-anchor=\"middle\" font-size=\"14px\" font-family=\"Arial:style=normal:variant=normal:weight=normal:stretch=normal:size=10.0\">@['t:0,r:0']</text><rect x=\"1142.73265625\" y=\"555.0\" width=\"71.462734375\" height=\"40\" stroke=\"black\" fill=\"white\" stroke-width=\"1\"/><text x=\"1178.4640234375\" y=\"575.0\" dominant-baseline=\"middle\" text-anchor=\"middle\" font-size=\"18px\" font-family=\"Arial:style=normal:variant=normal:weight=normal:stretch=normal:size=10.0\">X</text><rect x=\"1234.195390625\" y=\"555.0\" width=\"71.462734375\" height=\"40\" stroke=\"black\" fill=\"white\" stroke-width=\"1\"/><text x=\"1269.9267578125\" y=\"575.0\" dominant-baseline=\"middle\" text-anchor=\"middle\" font-size=\"14px\" font-family=\"Arial:style=normal:variant=normal:weight=normal:stretch=normal:size=10.0\">@['t:0,r:0']</text><circle cx=\"1269.9267578125\" cy=\"425.0\" r=\"10.0\"/><rect x=\"1325.6581250000002\" y=\"505.0\" width=\"71.462734375\" height=\"40\" stroke=\"black\" fill=\"white\" stroke-width=\"1\"/><text x=\"1361.3894921875\" y=\"525.0\" dominant-baseline=\"middle\" text-anchor=\"middle\" font-size=\"14px\" font-family=\"Arial:style=normal:variant=normal:weight=normal:stretch=normal:size=10.0\">@['t:0,r:0']</text><circle cx=\"1361.3894921875\" cy=\"225.0\" r=\"10.0\"/><rect x=\"1325.6581250000002\" y=\"555.0\" width=\"71.462734375\" height=\"40\" stroke=\"black\" fill=\"white\" stroke-width=\"1\"/><text x=\"1361.3894921875\" y=\"575.0\" dominant-baseline=\"middle\" text-anchor=\"middle\" font-size=\"14px\" font-family=\"Arial:style=normal:variant=normal:weight=normal:stretch=normal:size=10.0\">And†</text><rect x=\"1417.1208593750002\" y=\"455.0\" width=\"71.462734375\" height=\"40\" stroke=\"black\" fill=\"white\" stroke-width=\"1\"/><text x=\"1452.8522265625002\" y=\"475.0\" dominant-baseline=\"middle\" text-anchor=\"middle\" font-size=\"14px\" font-family=\"Arial:style=normal:variant=normal:weight=normal:stretch=normal:size=10.0\">@['t:0,r:0']</text><circle cx=\"1452.8522265625002\" cy=\"175.0\" r=\"10.0\"/><rect x=\"1417.1208593750002\" y=\"505.0\" width=\"71.462734375\" height=\"40\" stroke=\"black\" fill=\"white\" stroke-width=\"1\"/><text x=\"1452.8522265625002\" y=\"525.0\" dominant-baseline=\"middle\" text-anchor=\"middle\" font-size=\"14px\" font-family=\"Arial:style=normal:variant=normal:weight=normal:stretch=normal:size=10.0\">And†</text><rect x=\"1508.5835937500003\" y=\"5.0\" width=\"71.462734375\" height=\"40\" stroke=\"black\" fill=\"white\" stroke-width=\"1\"/><text x=\"1544.3149609375002\" y=\"25.0\" dominant-baseline=\"middle\" text-anchor=\"middle\" font-size=\"14px\" font-family=\"Arial:style=normal:variant=normal:weight=normal:stretch=normal:size=10.0\">@['t:0,r:0']</text><circle cx=\"1544.3149609375002\" cy=\"75.0\" r=\"10.0\"/><rect x=\"1508.5835937500003\" y=\"455.0\" width=\"71.462734375\" height=\"40\" stroke=\"black\" fill=\"white\" stroke-width=\"1\"/><text x=\"1544.3149609375002\" y=\"475.0\" dominant-baseline=\"middle\" text-anchor=\"middle\" font-size=\"14px\" font-family=\"Arial:style=normal:variant=normal:weight=normal:stretch=normal:size=10.0\">And†</text></svg>",
          "text/plain": "<IPython.core.display.SVG object>"
         },
         "metadata": {},
         "output_type": "display_data"
        }
       ],
       "tabbable": null,
       "tooltip": null
      }
     },
     "ba4824682f544ae985d251edf08fb5d8": {
      "model_module": "@jupyter-widgets/output",
      "model_module_version": "1.0.0",
      "model_name": "OutputModel",
      "state": {
       "_dom_classes": [],
       "_model_module": "@jupyter-widgets/output",
       "_model_module_version": "1.0.0",
       "_model_name": "OutputModel",
       "_view_count": null,
       "_view_module": "@jupyter-widgets/output",
       "_view_module_version": "1.0.0",
       "_view_name": "OutputView",
       "layout": "IPY_MODEL_d38fc2eb2779411eb733442d103a3e7e",
       "msg_id": "",
       "outputs": [
        {
         "data": {
          "image/svg+xml": "<svg xmlns=\"http://www.w3.org/2000/svg\" width=\"234.52550781250002\" height=\"450.0\"><line x1=\"47.63832031250001\" x2=\"204.52550781250002\" y1=\"25.0\" y2=\"25.0\" stroke=\"#1967d2\" stroke-width=\"1\"/><line x1=\"47.63832031250001\" x2=\"204.52550781250002\" y1=\"75.0\" y2=\"75.0\" stroke=\"#1967d2\" stroke-width=\"1\"/><line x1=\"47.63832031250001\" x2=\"204.52550781250002\" y1=\"125.0\" y2=\"125.0\" stroke=\"#1967d2\" stroke-width=\"1\"/><line x1=\"47.63832031250001\" x2=\"204.52550781250002\" y1=\"175.0\" y2=\"175.0\" stroke=\"#1967d2\" stroke-width=\"1\"/><line x1=\"47.63832031250001\" x2=\"204.52550781250002\" y1=\"225.0\" y2=\"225.0\" stroke=\"#1967d2\" stroke-width=\"1\"/><line x1=\"47.63832031250001\" x2=\"204.52550781250002\" y1=\"275.0\" y2=\"275.0\" stroke=\"#1967d2\" stroke-width=\"1\"/><line x1=\"47.63832031250001\" x2=\"204.52550781250002\" y1=\"325.0\" y2=\"325.0\" stroke=\"#1967d2\" stroke-width=\"1\"/><line x1=\"47.63832031250001\" x2=\"204.52550781250002\" y1=\"375.0\" y2=\"375.0\" stroke=\"#1967d2\" stroke-width=\"1\"/><line x1=\"47.63832031250001\" x2=\"204.52550781250002\" y1=\"425.0\" y2=\"425.0\" stroke=\"#1967d2\" stroke-width=\"1\"/><line x1=\"144.90107421875\" x2=\"144.90107421875\" y1=\"25.0\" y2=\"425.0\" stroke=\"black\" stroke-width=\"3\"/><rect x=\"10.0\" y=\"5.0\" width=\"75.27664062500001\" height=\"40\" stroke=\"black\" fill=\"white\" stroke-width=\"0\"/><text x=\"47.63832031250001\" y=\"25.0\" dominant-baseline=\"middle\" text-anchor=\"middle\" font-size=\"14px\" font-family=\"Arial:style=normal:variant=normal:weight=normal:stretch=normal:size=10.0\">control0: </text><rect x=\"10.0\" y=\"55.0\" width=\"75.27664062500001\" height=\"40\" stroke=\"black\" fill=\"white\" stroke-width=\"0\"/><text x=\"47.63832031250001\" y=\"75.0\" dominant-baseline=\"middle\" text-anchor=\"middle\" font-size=\"14px\" font-family=\"Arial:style=normal:variant=normal:weight=normal:stretch=normal:size=10.0\">control1: </text><rect x=\"10.0\" y=\"105.0\" width=\"75.27664062500001\" height=\"40\" stroke=\"black\" fill=\"white\" stroke-width=\"0\"/><text x=\"47.63832031250001\" y=\"125.0\" dominant-baseline=\"middle\" text-anchor=\"middle\" font-size=\"14px\" font-family=\"Arial:style=normal:variant=normal:weight=normal:stretch=normal:size=10.0\">selection0: </text><rect x=\"10.0\" y=\"155.0\" width=\"75.27664062500001\" height=\"40\" stroke=\"black\" fill=\"white\" stroke-width=\"0\"/><text x=\"47.63832031250001\" y=\"175.0\" dominant-baseline=\"middle\" text-anchor=\"middle\" font-size=\"14px\" font-family=\"Arial:style=normal:variant=normal:weight=normal:stretch=normal:size=10.0\">selection1: </text><rect x=\"10.0\" y=\"205.0\" width=\"75.27664062500001\" height=\"40\" stroke=\"black\" fill=\"white\" stroke-width=\"0\"/><text x=\"47.63832031250001\" y=\"225.0\" dominant-baseline=\"middle\" text-anchor=\"middle\" font-size=\"14px\" font-family=\"Arial:style=normal:variant=normal:weight=normal:stretch=normal:size=10.0\">selection2: </text><rect x=\"10.0\" y=\"255.0\" width=\"75.27664062500001\" height=\"40\" stroke=\"black\" fill=\"white\" stroke-width=\"0\"/><text x=\"47.63832031250001\" y=\"275.0\" dominant-baseline=\"middle\" text-anchor=\"middle\" font-size=\"14px\" font-family=\"Arial:style=normal:variant=normal:weight=normal:stretch=normal:size=10.0\">target0: </text><rect x=\"10.0\" y=\"305.0\" width=\"75.27664062500001\" height=\"40\" stroke=\"black\" fill=\"white\" stroke-width=\"0\"/><text x=\"47.63832031250001\" y=\"325.0\" dominant-baseline=\"middle\" text-anchor=\"middle\" font-size=\"14px\" font-family=\"Arial:style=normal:variant=normal:weight=normal:stretch=normal:size=10.0\">target1: </text><rect x=\"10.0\" y=\"355.0\" width=\"75.27664062500001\" height=\"40\" stroke=\"black\" fill=\"white\" stroke-width=\"0\"/><text x=\"47.63832031250001\" y=\"375.0\" dominant-baseline=\"middle\" text-anchor=\"middle\" font-size=\"14px\" font-family=\"Arial:style=normal:variant=normal:weight=normal:stretch=normal:size=10.0\">target2: </text><rect x=\"10.0\" y=\"405.0\" width=\"75.27664062500001\" height=\"40\" stroke=\"black\" fill=\"white\" stroke-width=\"0\"/><text x=\"47.63832031250001\" y=\"425.0\" dominant-baseline=\"middle\" text-anchor=\"middle\" font-size=\"14px\" font-family=\"Arial:style=normal:variant=normal:weight=normal:stretch=normal:size=10.0\">target3: </text><rect x=\"105.276640625\" y=\"5.0\" width=\"79.24886718750001\" height=\"40\" stroke=\"black\" fill=\"white\" stroke-width=\"1\"/><text x=\"144.90107421875\" y=\"25.0\" dominant-baseline=\"middle\" text-anchor=\"middle\" font-size=\"14px\" font-family=\"Arial:style=normal:variant=normal:weight=normal:stretch=normal:size=10.0\">@['t:16,r:0']</text><circle cx=\"144.90107421875\" cy=\"75.0\" r=\"10.0\"/><rect x=\"105.276640625\" y=\"105.0\" width=\"79.24886718750001\" height=\"40\" stroke=\"black\" fill=\"white\" stroke-width=\"1\"/><text x=\"144.90107421875\" y=\"125.0\" dominant-baseline=\"middle\" text-anchor=\"middle\" font-size=\"14px\" font-family=\"Arial:style=normal:variant=normal:weight=normal:stretch=normal:size=10.0\">In</text><rect x=\"105.276640625\" y=\"155.0\" width=\"79.24886718750001\" height=\"40\" stroke=\"black\" fill=\"white\" stroke-width=\"1\"/><text x=\"144.90107421875\" y=\"175.0\" dominant-baseline=\"middle\" text-anchor=\"middle\" font-size=\"14px\" font-family=\"Arial:style=normal:variant=normal:weight=normal:stretch=normal:size=10.0\">In</text><rect x=\"105.276640625\" y=\"205.0\" width=\"79.24886718750001\" height=\"40\" stroke=\"black\" fill=\"white\" stroke-width=\"1\"/><text x=\"144.90107421875\" y=\"225.0\" dominant-baseline=\"middle\" text-anchor=\"middle\" font-size=\"14px\" font-family=\"Arial:style=normal:variant=normal:weight=normal:stretch=normal:size=10.0\">In</text><rect x=\"105.276640625\" y=\"255.0\" width=\"79.24886718750001\" height=\"40\" stroke=\"black\" fill=\"white\" stroke-width=\"1\"/><text x=\"144.90107421875\" y=\"275.0\" dominant-baseline=\"middle\" text-anchor=\"middle\" font-size=\"18px\" font-family=\"Arial:style=normal:variant=normal:weight=normal:stretch=normal:size=10.0\">I</text><rect x=\"105.276640625\" y=\"305.0\" width=\"79.24886718750001\" height=\"40\" stroke=\"black\" fill=\"white\" stroke-width=\"1\"/><text x=\"144.90107421875\" y=\"325.0\" dominant-baseline=\"middle\" text-anchor=\"middle\" font-size=\"18px\" font-family=\"Arial:style=normal:variant=normal:weight=normal:stretch=normal:size=10.0\">Z</text><rect x=\"105.276640625\" y=\"355.0\" width=\"79.24886718750001\" height=\"40\" stroke=\"black\" fill=\"white\" stroke-width=\"1\"/><text x=\"144.90107421875\" y=\"375.0\" dominant-baseline=\"middle\" text-anchor=\"middle\" font-size=\"18px\" font-family=\"Arial:style=normal:variant=normal:weight=normal:stretch=normal:size=10.0\">I</text><rect x=\"105.276640625\" y=\"405.0\" width=\"79.24886718750001\" height=\"40\" stroke=\"black\" fill=\"white\" stroke-width=\"1\"/><text x=\"144.90107421875\" y=\"425.0\" dominant-baseline=\"middle\" text-anchor=\"middle\" font-size=\"18px\" font-family=\"Arial:style=normal:variant=normal:weight=normal:stretch=normal:size=10.0\">Z</text></svg>",
          "text/plain": "<IPython.core.display.SVG object>"
         },
         "metadata": {},
         "output_type": "display_data"
        }
       ],
       "tabbable": null,
       "tooltip": null
      }
     },
     "d38fc2eb2779411eb733442d103a3e7e": {
      "model_module": "@jupyter-widgets/base",
      "model_module_version": "2.0.0",
      "model_name": "LayoutModel",
      "state": {
       "_model_module": "@jupyter-widgets/base",
       "_model_module_version": "2.0.0",
       "_model_name": "LayoutModel",
       "_view_count": null,
       "_view_module": "@jupyter-widgets/base",
       "_view_module_version": "2.0.0",
       "_view_name": "LayoutView",
       "align_content": null,
       "align_items": null,
       "align_self": null,
       "border_bottom": null,
       "border_left": null,
       "border_right": null,
       "border_top": null,
       "bottom": null,
       "display": null,
       "flex": null,
       "flex_flow": null,
       "grid_area": null,
       "grid_auto_columns": null,
       "grid_auto_flow": null,
       "grid_auto_rows": null,
       "grid_column": null,
       "grid_gap": null,
       "grid_row": null,
       "grid_template_areas": null,
       "grid_template_columns": null,
       "grid_template_rows": null,
       "height": null,
       "justify_content": null,
       "justify_items": null,
       "left": null,
       "margin": null,
       "max_height": null,
       "max_width": null,
       "min_height": null,
       "min_width": null,
       "object_fit": null,
       "object_position": null,
       "order": null,
       "overflow": null,
       "padding": null,
       "right": null,
       "top": null,
       "visibility": null,
       "width": null
      }
     }
    },
    "version_major": 2,
    "version_minor": 0
   }
  }
 },
 "nbformat": 4,
 "nbformat_minor": 5
}
