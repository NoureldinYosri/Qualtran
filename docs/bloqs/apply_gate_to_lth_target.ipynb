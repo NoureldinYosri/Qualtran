{
 "cells": [
  {
   "cell_type": "code",
   "execution_count": 1,
   "id": "60432dd0",
   "metadata": {},
   "outputs": [],
   "source": [
    "#  Copyright 2023 Google LLC\n",
    "#\n",
    "#  Licensed under the Apache License, Version 2.0 (the \"License\");\n",
    "#  you may not use this file except in compliance with the License.\n",
    "#  You may obtain a copy of the License at\n",
    "#\n",
    "#      https://www.apache.org/licenses/LICENSE-2.0\n",
    "#\n",
    "#  Unless required by applicable law or agreed to in writing, software\n",
    "#  distributed under the License is distributed on an \"AS IS\" BASIS,\n",
    "#  WITHOUT WARRANTIES OR CONDITIONS OF ANY KIND, either express or implied.\n",
    "#  See the License for the specific language governing permissions and\n",
    "#  limitations under the License."
   ]
  },
  {
   "cell_type": "markdown",
   "id": "ac3bfb05",
   "metadata": {
    "cq.autogen": "title_cell"
   },
   "source": [
    "# Apply to Lth Target"
   ]
  },
  {
   "cell_type": "code",
   "execution_count": 2,
   "id": "4e214a27",
   "metadata": {
    "cq.autogen": "top_imports"
   },
   "outputs": [],
   "source": [
    "from qualtran import Bloq, CompositeBloq, BloqBuilder, Signature, Register\n",
    "from qualtran.drawing import show_bloq, show_call_graph, show_counts_sigma\n",
    "from typing import *\n",
    "import numpy as np\n",
    "import sympy\n",
    "import cirq"
   ]
  },
  {
   "cell_type": "markdown",
   "id": "249829b0",
   "metadata": {
    "cq.autogen": "ApplyGateToLthQubit.bloq_doc.md"
   },
   "source": [
    "## `ApplyGateToLthQubit`\n",
    "A controlled SELECT operation for single-qubit gates.\n",
    "\n",
    "$$\n",
    "\\mathrm{SELECT} = \\sum_{l}|l \\rangle \\langle l| \\otimes [G(l)]_l\n",
    "$$\n",
    "\n",
    "Where $G$ is a function that maps an index to a single-qubit gate.\n",
    "\n",
    "This gate uses the unary iteration scheme to apply `nth_gate(selection)` to the\n",
    "`selection`-th qubit of `target` all controlled by the `control` register.\n",
    "\n",
    "#### Parameters\n",
    " - `selection_regs`: Indexing `select` signature of type Tuple[[`Register`](/reference/qualtran/Register.md), ...]. It also contains information about the iteration length of each selection register.\n",
    " - `nth_gate`: A function mapping the composite selection index to a single-qubit gate.\n",
    " - `control_regs`: Control signature for constructing a controlled version of the gate. \n",
    "\n",
    "#### References\n",
    "[Encoding Electronic Spectra in Quantum Circuits with Linear T Complexity](https://arxiv.org/abs/1805.03662).\n",
    "Babbush et. al. (2018). Section III.A. and Figure 7.\n"
   ]
  },
  {
   "cell_type": "code",
   "execution_count": 3,
   "id": "b8d2a7bf",
   "metadata": {
    "cq.autogen": "ApplyGateToLthQubit.bloq_doc.py"
   },
   "outputs": [],
   "source": [
    "from qualtran.bloqs.apply_gate_to_lth_target import ApplyGateToLthQubit"
   ]
  },
  {
   "cell_type": "markdown",
   "id": "4fb12f9c",
   "metadata": {
    "cq.autogen": "ApplyGateToLthQubit.example_instances.md"
   },
   "source": [
    "### Example Instances"
   ]
  },
  {
   "cell_type": "code",
   "execution_count": 4,
   "id": "8ed7d01a",
   "metadata": {
    "cq.autogen": "ApplyGateToLthQubit.apply_z_to_odd"
   },
   "outputs": [],
   "source": [
    "from qualtran import BoundedQUInt, Register\n",
    "\n",
    "def _z_to_odd(n: int):\n",
    "    if n % 2 == 1:\n",
    "        return cirq.Z\n",
    "    return cirq.I\n",
    "\n",
    "apply_z_to_odd = ApplyGateToLthQubit(\n",
    "    Register('selection', BoundedQUInt(3, 4)),\n",
    "    nth_gate=_z_to_odd,\n",
    "    control_regs=Signature.build(control=2),\n",
    ")\n"
   ]
  },
  {
   "cell_type": "markdown",
   "id": "19527432",
   "metadata": {
    "cq.autogen": "ApplyGateToLthQubit.graphical_signature.md"
   },
   "source": [
    "#### Graphical Signature"
   ]
  },
  {
   "cell_type": "code",
   "execution_count": 5,
   "id": "f0c83967",
   "metadata": {
    "cq.autogen": "ApplyGateToLthQubit.graphical_signature.py"
   },
   "outputs": [
    {
     "data": {
      "application/vnd.jupyter.widget-view+json": {
       "model_id": "c665dfd55425443d929017cb078c2537",
       "version_major": 2,
       "version_minor": 0
      },
      "text/plain": [
       "HBox(children=(Output(outputs=({'output_type': 'display_data', 'data': {'text/plain': '<IPython.core.display.M…"
      ]
     },
     "metadata": {},
     "output_type": "display_data"
    }
   ],
   "source": [
    "from qualtran.drawing import show_bloqs\n",
    "show_bloqs([apply_z_to_odd],\n",
    "           ['`apply_z_to_odd`'])"
   ]
  },
  {
   "cell_type": "markdown",
   "id": "5dedba84",
   "metadata": {},
   "source": [
    "## Decomposition"
   ]
  },
  {
   "cell_type": "code",
   "execution_count": 6,
   "id": "d61a8c3f",
   "metadata": {},
   "outputs": [
    {
     "data": {
      "application/vnd.jupyter.widget-view+json": {
       "model_id": "87ad539eca3349b69ae2417d695d1da7",
       "version_major": 2,
       "version_minor": 0
      },
      "text/plain": [
       "HBox(children=(Output(outputs=({'output_type': 'display_data', 'data': {'text/plain': '<IPython.core.display.S…"
      ]
     },
     "metadata": {},
     "output_type": "display_data"
    }
   ],
   "source": [
    "import qualtran.cirq_interop.testing as cq_testing\n",
    "from qualtran.cirq_interop.jupyter_tools import display_gate_and_compilation\n",
    "\n",
    "g = cq_testing.GateHelper(\n",
    "    apply_z_to_odd\n",
    ")\n",
    "\n",
    "display_gate_and_compilation(g)"
   ]
  },
  {
   "cell_type": "markdown",
   "id": "96e5f93d",
   "metadata": {
    "cq.autogen": "ApplyGateToLthQubit.call_graph.md"
   },
   "source": [
    "### Call Graph"
   ]
  },
  {
   "cell_type": "code",
   "execution_count": 7,
   "id": "01d191bb",
   "metadata": {
    "cq.autogen": "ApplyGateToLthQubit.call_graph.py"
   },
   "outputs": [
    {
     "data": {
      "image/svg+xml": [
       "<svg xmlns=\"http://www.w3.org/2000/svg\" xmlns:xlink=\"http://www.w3.org/1999/xlink\" width=\"1262pt\" height=\"305pt\" viewBox=\"0.00 0.00 1262.00 305.00\">\n",
       "<g id=\"graph0\" class=\"graph\" transform=\"scale(1 1) rotate(0) translate(4 301)\">\n",
       "<title>counts</title>\n",
       "<polygon fill=\"white\" stroke=\"transparent\" points=\"-4,4 -4,-301 1258,-301 1258,4 -4,4\"/>\n",
       "<!-- b0 -->\n",
       "<g id=\"node1\" class=\"node\">\n",
       "<title>b0</title>\n",
       "<polygon fill=\"none\" stroke=\"black\" points=\"1056.5,-297 577.5,-297 577.5,-261 1056.5,-261 1056.5,-297\"/>\n",
       "<text text-anchor=\"start\" x=\"755\" y=\"-280.8\" font-family=\"Times,serif\" font-size=\"14.00\">ApplyGateToLthQubit</text>\n",
       "<text text-anchor=\"start\" x=\"585.5\" y=\"-270\" font-family=\"monospace\" font-size=\"10.00\">selection_regs=(Registe ..., nth_gate=&lt;functio ..., control_regs=(Registe ...</text>\n",
       "</g>\n",
       "<!-- b1 -->\n",
       "<g id=\"node2\" class=\"node\">\n",
       "<title>b1</title>\n",
       "<polygon fill=\"none\" stroke=\"black\" points=\"54,-210 0,-210 0,-174 54,-174 54,-210\"/>\n",
       "<text text-anchor=\"start\" x=\"14\" y=\"-193.8\" font-family=\"Times,serif\" font-size=\"14.00\">Split</text>\n",
       "<text text-anchor=\"start\" x=\"17.5\" y=\"-183\" font-family=\"monospace\" font-size=\"10.00\">n=2</text>\n",
       "</g>\n",
       "<!-- b0&#45;&gt;b1 -->\n",
       "<g id=\"edge1\" class=\"edge\">\n",
       "<title>b0-&gt;b1</title>\n",
       "<path fill=\"none\" stroke=\"black\" d=\"M577.25,-270.13C430.03,-264.25 255.95,-255.15 182,-243 130.8,-234.59 116.03,-229.68 63.77,-210.04\"/>\n",
       "<polygon fill=\"black\" stroke=\"black\" points=\"64.9,-206.73 54.31,-206.49 62.44,-213.28 64.9,-206.73\"/>\n",
       "<text text-anchor=\"middle\" x=\"185.5\" y=\"-231.8\" font-family=\"Times,serif\" font-size=\"14.00\">1</text>\n",
       "</g>\n",
       "<!-- b2 -->\n",
       "<g id=\"node3\" class=\"node\">\n",
       "<title>b2</title>\n",
       "<polygon fill=\"none\" stroke=\"black\" points=\"126,-210 72,-210 72,-174 126,-174 126,-210\"/>\n",
       "<text text-anchor=\"start\" x=\"86\" y=\"-193.8\" font-family=\"Times,serif\" font-size=\"14.00\">Split</text>\n",
       "<text text-anchor=\"start\" x=\"89.5\" y=\"-183\" font-family=\"monospace\" font-size=\"10.00\">n=4</text>\n",
       "</g>\n",
       "<!-- b0&#45;&gt;b2 -->\n",
       "<g id=\"edge2\" class=\"edge\">\n",
       "<title>b0-&gt;b2</title>\n",
       "<path fill=\"none\" stroke=\"black\" d=\"M577.2,-270.88C483.22,-265.9 374.7,-257.42 277,-243 215.91,-233.98 197.87,-231.51 135.76,-209.94\"/>\n",
       "<polygon fill=\"black\" stroke=\"black\" points=\"136.86,-206.61 126.27,-206.61 134.55,-213.22 136.86,-206.61\"/>\n",
       "<text text-anchor=\"middle\" x=\"280.5\" y=\"-231.8\" font-family=\"Times,serif\" font-size=\"14.00\">1</text>\n",
       "</g>\n",
       "<!-- b3 -->\n",
       "<g id=\"node4\" class=\"node\">\n",
       "<title>b3</title>\n",
       "<polygon fill=\"none\" stroke=\"black\" points=\"198,-210 144,-210 144,-174 198,-174 198,-210\"/>\n",
       "<text text-anchor=\"start\" x=\"158\" y=\"-193.8\" font-family=\"Times,serif\" font-size=\"14.00\">Split</text>\n",
       "<text text-anchor=\"start\" x=\"161.5\" y=\"-183\" font-family=\"monospace\" font-size=\"10.00\">n=3</text>\n",
       "</g>\n",
       "<!-- b0&#45;&gt;b3 -->\n",
       "<g id=\"edge3\" class=\"edge\">\n",
       "<title>b0-&gt;b3</title>\n",
       "<path fill=\"none\" stroke=\"black\" d=\"M577.41,-269.58C466.39,-261.18 333.38,-244.71 207.94,-209.73\"/>\n",
       "<polygon fill=\"black\" stroke=\"black\" points=\"208.73,-206.32 198.16,-206.96 206.82,-213.05 208.73,-206.32\"/>\n",
       "<text text-anchor=\"middle\" x=\"358.5\" y=\"-231.8\" font-family=\"Times,serif\" font-size=\"14.00\">1</text>\n",
       "</g>\n",
       "<!-- b4 -->\n",
       "<g id=\"node5\" class=\"node\">\n",
       "<title>b4</title>\n",
       "<polygon fill=\"none\" stroke=\"black\" points=\"407.5,-210 216.5,-210 216.5,-174 407.5,-174 407.5,-210\"/>\n",
       "<text text-anchor=\"start\" x=\"300\" y=\"-193.8\" font-family=\"Times,serif\" font-size=\"14.00\">And</text>\n",
       "<text text-anchor=\"start\" x=\"224.5\" y=\"-183\" font-family=\"monospace\" font-size=\"10.00\">cv1=1, cv2=0, uncompute=False</text>\n",
       "</g>\n",
       "<!-- b0&#45;&gt;b4 -->\n",
       "<g id=\"edge4\" class=\"edge\">\n",
       "<title>b0-&gt;b4</title>\n",
       "<path fill=\"none\" stroke=\"black\" d=\"M715.72,-260.95C629.22,-246.39 505.23,-225.52 417.53,-210.76\"/>\n",
       "<polygon fill=\"black\" stroke=\"black\" points=\"418,-207.29 407.56,-209.08 416.84,-214.2 418,-207.29\"/>\n",
       "<text text-anchor=\"middle\" x=\"598.5\" y=\"-231.8\" font-family=\"Times,serif\" font-size=\"14.00\">3</text>\n",
       "</g>\n",
       "<!-- b5 -->\n",
       "<g id=\"node6\" class=\"node\">\n",
       "<title>b5</title>\n",
       "<polygon fill=\"none\" stroke=\"black\" points=\"1037.5,-210 918.5,-210 918.5,-174 1037.5,-174 1037.5,-210\"/>\n",
       "<text text-anchor=\"start\" x=\"958.5\" y=\"-193.8\" font-family=\"Times,serif\" font-size=\"14.00\">cirq.CI</text>\n",
       "<text text-anchor=\"start\" x=\"926.5\" y=\"-183\" font-family=\"monospace\" font-size=\"10.00\">gate=cirq.Con ...</text>\n",
       "</g>\n",
       "<!-- b0&#45;&gt;b5 -->\n",
       "<g id=\"edge5\" class=\"edge\">\n",
       "<title>b0-&gt;b5</title>\n",
       "<path fill=\"none\" stroke=\"black\" d=\"M867.48,-260.84C880.63,-255.71 894.59,-249.66 907,-243 921.25,-235.36 936.02,-225.34 948.38,-216.29\"/>\n",
       "<polygon fill=\"black\" stroke=\"black\" points=\"950.59,-219 956.51,-210.21 946.4,-213.39 950.59,-219\"/>\n",
       "<text text-anchor=\"middle\" x=\"935.5\" y=\"-231.8\" font-family=\"Times,serif\" font-size=\"14.00\">2</text>\n",
       "</g>\n",
       "<!-- b6 -->\n",
       "<g id=\"node7\" class=\"node\">\n",
       "<title>b6</title>\n",
       "<polygon fill=\"none\" stroke=\"black\" points=\"1110,-210 1056,-210 1056,-174 1110,-174 1110,-210\"/>\n",
       "<text text-anchor=\"start\" x=\"1071.5\" y=\"-193.8\" font-family=\"Times,serif\" font-size=\"14.00\">Join</text>\n",
       "<text text-anchor=\"start\" x=\"1073.5\" y=\"-183\" font-family=\"monospace\" font-size=\"10.00\">n=2</text>\n",
       "</g>\n",
       "<!-- b0&#45;&gt;b6 -->\n",
       "<g id=\"edge6\" class=\"edge\">\n",
       "<title>b0-&gt;b6</title>\n",
       "<path fill=\"none\" stroke=\"black\" d=\"M884.86,-260.98C930.95,-248.66 992.94,-230.6 1046,-210 1046.1,-209.96 1046.2,-209.92 1046.3,-209.88\"/>\n",
       "<polygon fill=\"black\" stroke=\"black\" points=\"1047.78,-213.06 1055.68,-206 1045.1,-206.59 1047.78,-213.06\"/>\n",
       "<text text-anchor=\"middle\" x=\"994.5\" y=\"-231.8\" font-family=\"Times,serif\" font-size=\"14.00\">1</text>\n",
       "</g>\n",
       "<!-- b7 -->\n",
       "<g id=\"node8\" class=\"node\">\n",
       "<title>b7</title>\n",
       "<polygon fill=\"none\" stroke=\"black\" points=\"616.5,-210 425.5,-210 425.5,-174 616.5,-174 616.5,-210\"/>\n",
       "<text text-anchor=\"start\" x=\"509\" y=\"-193.8\" font-family=\"Times,serif\" font-size=\"14.00\">And</text>\n",
       "<text text-anchor=\"start\" x=\"433.5\" y=\"-183\" font-family=\"monospace\" font-size=\"10.00\">cv1=1, cv2=1, uncompute=False</text>\n",
       "</g>\n",
       "<!-- b0&#45;&gt;b7 -->\n",
       "<g id=\"edge9\" class=\"edge\">\n",
       "<title>b0-&gt;b7</title>\n",
       "<path fill=\"none\" stroke=\"black\" d=\"M757.46,-260.9C709.18,-247.04 641.08,-227.48 590.35,-212.92\"/>\n",
       "<polygon fill=\"black\" stroke=\"black\" points=\"591.03,-209.47 580.45,-210.07 589.09,-216.2 591.03,-209.47\"/>\n",
       "<text text-anchor=\"middle\" x=\"690.5\" y=\"-231.8\" font-family=\"Times,serif\" font-size=\"14.00\">1</text>\n",
       "</g>\n",
       "<!-- b8 -->\n",
       "<g id=\"node9\" class=\"node\">\n",
       "<title>b8</title>\n",
       "<polygon fill=\"none\" stroke=\"black\" points=\"1182,-210 1128,-210 1128,-174 1182,-174 1182,-210\"/>\n",
       "<text text-anchor=\"start\" x=\"1143.5\" y=\"-193.8\" font-family=\"Times,serif\" font-size=\"14.00\">Join</text>\n",
       "<text text-anchor=\"start\" x=\"1145.5\" y=\"-183\" font-family=\"monospace\" font-size=\"10.00\">n=4</text>\n",
       "</g>\n",
       "<!-- b0&#45;&gt;b8 -->\n",
       "<g id=\"edge10\" class=\"edge\">\n",
       "<title>b0-&gt;b8</title>\n",
       "<path fill=\"none\" stroke=\"black\" d=\"M925.65,-260.97C981.45,-250.46 1050.21,-234.79 1118.11,-210.03\"/>\n",
       "<polygon fill=\"black\" stroke=\"black\" points=\"1119.53,-213.24 1127.68,-206.47 1117.09,-206.67 1119.53,-213.24\"/>\n",
       "<text text-anchor=\"middle\" x=\"1066.5\" y=\"-231.8\" font-family=\"Times,serif\" font-size=\"14.00\">1</text>\n",
       "</g>\n",
       "<!-- b9 -->\n",
       "<g id=\"node10\" class=\"node\">\n",
       "<title>b9</title>\n",
       "<polygon fill=\"none\" stroke=\"black\" points=\"1254,-210 1200,-210 1200,-174 1254,-174 1254,-210\"/>\n",
       "<text text-anchor=\"start\" x=\"1215.5\" y=\"-193.8\" font-family=\"Times,serif\" font-size=\"14.00\">Join</text>\n",
       "<text text-anchor=\"start\" x=\"1217.5\" y=\"-183\" font-family=\"monospace\" font-size=\"10.00\">n=3</text>\n",
       "</g>\n",
       "<!-- b0&#45;&gt;b9 -->\n",
       "<g id=\"edge11\" class=\"edge\">\n",
       "<title>b0-&gt;b9</title>\n",
       "<path fill=\"none\" stroke=\"black\" d=\"M981.46,-261C1045.11,-251.27 1117.99,-236.22 1189.99,-210.06\"/>\n",
       "<polygon fill=\"black\" stroke=\"black\" points=\"1191.52,-213.23 1199.68,-206.47 1189.09,-206.67 1191.52,-213.23\"/>\n",
       "<text text-anchor=\"middle\" x=\"1136.5\" y=\"-231.8\" font-family=\"Times,serif\" font-size=\"14.00\">1</text>\n",
       "</g>\n",
       "<!-- b10 -->\n",
       "<g id=\"node11\" class=\"node\">\n",
       "<title>b10</title>\n",
       "<polygon fill=\"none\" stroke=\"black\" points=\"819.5,-210 634.5,-210 634.5,-174 819.5,-174 819.5,-210\"/>\n",
       "<text text-anchor=\"start\" x=\"711.5\" y=\"-193.8\" font-family=\"Times,serif\" font-size=\"14.00\">And†</text>\n",
       "<text text-anchor=\"start\" x=\"642.5\" y=\"-183\" font-family=\"monospace\" font-size=\"10.00\">cv1=1, cv2=1, uncompute=True</text>\n",
       "</g>\n",
       "<!-- b0&#45;&gt;b10 -->\n",
       "<g id=\"edge12\" class=\"edge\">\n",
       "<title>b0-&gt;b10</title>\n",
       "<path fill=\"none\" stroke=\"black\" d=\"M798.79,-260.8C785.49,-248.24 767.29,-231.05 752.54,-217.12\"/>\n",
       "<polygon fill=\"black\" stroke=\"black\" points=\"754.86,-214.5 745.19,-210.18 750.05,-219.59 754.86,-214.5\"/>\n",
       "<text text-anchor=\"middle\" x=\"781.5\" y=\"-231.8\" font-family=\"Times,serif\" font-size=\"14.00\">4</text>\n",
       "</g>\n",
       "<!-- b11 -->\n",
       "<g id=\"node12\" class=\"node\">\n",
       "<title>b11</title>\n",
       "<polygon fill=\"none\" stroke=\"black\" points=\"1019.5,-123 918.5,-123 918.5,-87 1019.5,-87 1019.5,-123\"/>\n",
       "<text text-anchor=\"start\" x=\"938\" y=\"-106.8\" font-family=\"Times,serif\" font-size=\"14.00\">cirq.CNOT</text>\n",
       "<text text-anchor=\"start\" x=\"926.5\" y=\"-96\" font-family=\"monospace\" font-size=\"10.00\">gate=cirq.CNOT</text>\n",
       "</g>\n",
       "<!-- b0&#45;&gt;b11 -->\n",
       "<g id=\"edge7\" class=\"edge\">\n",
       "<title>b0-&gt;b11</title>\n",
       "<path fill=\"none\" stroke=\"black\" d=\"M841.68,-260.93C848.39,-255.63 855.35,-249.47 861,-243 884.45,-216.12 880.21,-202.24 902,-174 914.1,-158.31 929.51,-142.45 942.5,-129.99\"/>\n",
       "<polygon fill=\"black\" stroke=\"black\" points=\"944.95,-132.49 949.82,-123.08 940.15,-127.4 944.95,-132.49\"/>\n",
       "<text text-anchor=\"middle\" x=\"905.5\" y=\"-188.3\" font-family=\"Times,serif\" font-size=\"14.00\">3</text>\n",
       "</g>\n",
       "<!-- b14 -->\n",
       "<g id=\"node15\" class=\"node\">\n",
       "<title>b14</title>\n",
       "<polygon fill=\"none\" stroke=\"black\" points=\"891.5,-36 802.5,-36 802.5,0 891.5,0 891.5,-36\"/>\n",
       "<text text-anchor=\"start\" x=\"825.5\" y=\"-19.8\" font-family=\"Times,serif\" font-size=\"14.00\">cirq.CZ</text>\n",
       "<text text-anchor=\"start\" x=\"810.5\" y=\"-9\" font-family=\"monospace\" font-size=\"10.00\">gate=cirq.CZ</text>\n",
       "</g>\n",
       "<!-- b0&#45;&gt;b14 -->\n",
       "<g id=\"edge8\" class=\"edge\">\n",
       "<title>b0-&gt;b14</title>\n",
       "<path fill=\"none\" stroke=\"black\" d=\"M820.05,-261C822.44,-247.27 825.73,-227.43 828,-210 835.59,-151.81 841.73,-83.29 844.82,-46.19\"/>\n",
       "<polygon fill=\"black\" stroke=\"black\" points=\"848.32,-46.41 845.65,-36.16 841.34,-45.84 848.32,-46.41\"/>\n",
       "<text text-anchor=\"middle\" x=\"839.5\" y=\"-144.8\" font-family=\"Times,serif\" font-size=\"14.00\">2</text>\n",
       "</g>\n",
       "<!-- b12 -->\n",
       "<g id=\"node13\" class=\"node\">\n",
       "<title>b12</title>\n",
       "<polygon fill=\"none\" stroke=\"black\" points=\"427.5,-123 314.5,-123 314.5,-87 427.5,-87 427.5,-123\"/>\n",
       "<text text-anchor=\"start\" x=\"366.5\" y=\"-106.8\" font-family=\"Times,serif\" font-size=\"14.00\">T</text>\n",
       "<text text-anchor=\"start\" x=\"322.5\" y=\"-96\" font-family=\"monospace\" font-size=\"10.00\">is_adjoint=False</text>\n",
       "</g>\n",
       "<!-- b4&#45;&gt;b12 -->\n",
       "<g id=\"edge14\" class=\"edge\">\n",
       "<title>b4-&gt;b12</title>\n",
       "<path fill=\"none\" stroke=\"black\" d=\"M323.94,-173.8C332.34,-161.7 343.72,-145.3 353.18,-131.67\"/>\n",
       "<polygon fill=\"black\" stroke=\"black\" points=\"356.25,-133.39 359.08,-123.18 350.5,-129.39 356.25,-133.39\"/>\n",
       "<text text-anchor=\"middle\" x=\"349.5\" y=\"-144.8\" font-family=\"Times,serif\" font-size=\"14.00\">4</text>\n",
       "</g>\n",
       "<!-- b13 -->\n",
       "<g id=\"node14\" class=\"node\">\n",
       "<title>b13</title>\n",
       "<polygon fill=\"none\" stroke=\"black\" points=\"576,-123 466,-123 466,-87 576,-87 576,-123\"/>\n",
       "<text text-anchor=\"start\" x=\"474\" y=\"-106.8\" font-family=\"Times,serif\" font-size=\"14.00\">ArbitraryClifford</text>\n",
       "<text text-anchor=\"start\" x=\"511.5\" y=\"-96\" font-family=\"monospace\" font-size=\"10.00\">n=2</text>\n",
       "</g>\n",
       "<!-- b4&#45;&gt;b13 -->\n",
       "<g id=\"edge13\" class=\"edge\">\n",
       "<title>b4-&gt;b13</title>\n",
       "<path fill=\"none\" stroke=\"black\" d=\"M345.12,-173.98C365.56,-163.78 392.48,-150.92 417,-141 429.72,-135.85 443.51,-130.83 456.77,-126.27\"/>\n",
       "<polygon fill=\"black\" stroke=\"black\" points=\"457.96,-129.57 466.3,-123.04 455.71,-122.94 457.96,-129.57\"/>\n",
       "<text text-anchor=\"middle\" x=\"424\" y=\"-144.8\" font-family=\"Times,serif\" font-size=\"14.00\">11</text>\n",
       "</g>\n",
       "<!-- b5&#45;&gt;b11 -->\n",
       "<g id=\"edge15\" class=\"edge\">\n",
       "<title>b5-&gt;b11</title>\n",
       "<path fill=\"none\" stroke=\"black\" d=\"M976.18,-173.8C974.95,-162.16 973.29,-146.55 971.88,-133.24\"/>\n",
       "<polygon fill=\"black\" stroke=\"black\" points=\"975.35,-132.75 970.82,-123.18 968.39,-133.49 975.35,-132.75\"/>\n",
       "<text text-anchor=\"middle\" x=\"978.5\" y=\"-144.8\" font-family=\"Times,serif\" font-size=\"14.00\">2</text>\n",
       "</g>\n",
       "<!-- b7&#45;&gt;b12 -->\n",
       "<g id=\"edge19\" class=\"edge\">\n",
       "<title>b7-&gt;b12</title>\n",
       "<path fill=\"none\" stroke=\"black\" d=\"M492.05,-173.92C475.42,-164.16 454.1,-151.78 435,-141 427.47,-136.75 419.4,-132.28 411.62,-128.01\"/>\n",
       "<polygon fill=\"black\" stroke=\"black\" points=\"413.12,-124.84 402.67,-123.1 409.76,-130.98 413.12,-124.84\"/>\n",
       "<text text-anchor=\"middle\" x=\"465.5\" y=\"-144.8\" font-family=\"Times,serif\" font-size=\"14.00\">4</text>\n",
       "</g>\n",
       "<!-- b7&#45;&gt;b13 -->\n",
       "<g id=\"edge20\" class=\"edge\">\n",
       "<title>b7-&gt;b13</title>\n",
       "<path fill=\"none\" stroke=\"black\" d=\"M521,-173.8C521,-162.16 521,-146.55 521,-133.24\"/>\n",
       "<polygon fill=\"black\" stroke=\"black\" points=\"524.5,-133.18 521,-123.18 517.5,-133.18 524.5,-133.18\"/>\n",
       "<text text-anchor=\"middle\" x=\"524.5\" y=\"-144.8\" font-family=\"Times,serif\" font-size=\"14.00\">9</text>\n",
       "</g>\n",
       "<!-- b10&#45;&gt;b13 -->\n",
       "<g id=\"edge21\" class=\"edge\">\n",
       "<title>b10-&gt;b13</title>\n",
       "<path fill=\"none\" stroke=\"black\" d=\"M685.31,-173.8C652.54,-160.27 606.74,-141.38 571.81,-126.97\"/>\n",
       "<polygon fill=\"black\" stroke=\"black\" points=\"572.85,-123.61 562.27,-123.03 570.18,-130.08 572.85,-123.61\"/>\n",
       "<text text-anchor=\"middle\" x=\"640.5\" y=\"-144.8\" font-family=\"Times,serif\" font-size=\"14.00\">4</text>\n",
       "</g>\n",
       "<!-- b11&#45;&gt;b14 -->\n",
       "<g id=\"edge16\" class=\"edge\">\n",
       "<title>b11-&gt;b14</title>\n",
       "<path fill=\"none\" stroke=\"black\" d=\"M944.31,-86.8C925.79,-73.9 900.25,-56.1 879.98,-41.98\"/>\n",
       "<polygon fill=\"black\" stroke=\"black\" points=\"881.86,-39.02 871.65,-36.18 877.86,-44.76 881.86,-39.02\"/>\n",
       "<text text-anchor=\"middle\" x=\"919.5\" y=\"-57.8\" font-family=\"Times,serif\" font-size=\"14.00\">1</text>\n",
       "</g>\n",
       "<!-- b15 -->\n",
       "<g id=\"node16\" class=\"node\">\n",
       "<title>b15</title>\n",
       "<polygon fill=\"none\" stroke=\"black\" points=\"1165.5,-36 1046.5,-36 1046.5,0 1165.5,0 1165.5,-36\"/>\n",
       "<text text-anchor=\"start\" x=\"1071\" y=\"-19.8\" font-family=\"Times,serif\" font-size=\"14.00\">cirq.Y**-0.5</text>\n",
       "<text text-anchor=\"start\" x=\"1054.5\" y=\"-9\" font-family=\"monospace\" font-size=\"10.00\">gate=(cirq.Y* ...</text>\n",
       "</g>\n",
       "<!-- b11&#45;&gt;b15 -->\n",
       "<g id=\"edge17\" class=\"edge\">\n",
       "<title>b11-&gt;b15</title>\n",
       "<path fill=\"none\" stroke=\"black\" d=\"M996.72,-86.8C1017.71,-73.78 1046.72,-55.78 1069.57,-41.6\"/>\n",
       "<polygon fill=\"black\" stroke=\"black\" points=\"1071.67,-44.42 1078.32,-36.18 1067.97,-38.47 1071.67,-44.42\"/>\n",
       "<text text-anchor=\"middle\" x=\"1049.5\" y=\"-57.8\" font-family=\"Times,serif\" font-size=\"14.00\">1</text>\n",
       "</g>\n",
       "<!-- b16 -->\n",
       "<g id=\"node17\" class=\"node\">\n",
       "<title>b16</title>\n",
       "<polygon fill=\"none\" stroke=\"black\" points=\"1028.5,-36 909.5,-36 909.5,0 1028.5,0 1028.5,-36\"/>\n",
       "<text text-anchor=\"start\" x=\"936\" y=\"-19.8\" font-family=\"Times,serif\" font-size=\"14.00\">cirq.Y**0.5</text>\n",
       "<text text-anchor=\"start\" x=\"917.5\" y=\"-9\" font-family=\"monospace\" font-size=\"10.00\">gate=(cirq.Y* ...</text>\n",
       "</g>\n",
       "<!-- b11&#45;&gt;b16 -->\n",
       "<g id=\"edge18\" class=\"edge\">\n",
       "<title>b11-&gt;b16</title>\n",
       "<path fill=\"none\" stroke=\"black\" d=\"M969,-86.8C969,-75.16 969,-59.55 969,-46.24\"/>\n",
       "<polygon fill=\"black\" stroke=\"black\" points=\"972.5,-46.18 969,-36.18 965.5,-46.18 972.5,-46.18\"/>\n",
       "<text text-anchor=\"middle\" x=\"972.5\" y=\"-57.8\" font-family=\"Times,serif\" font-size=\"14.00\">1</text>\n",
       "</g>\n",
       "</g>\n",
       "</svg>"
      ],
      "text/plain": [
       "<IPython.core.display.SVG object>"
      ]
     },
     "metadata": {},
     "output_type": "display_data"
    },
    {
     "data": {
      "text/markdown": [
       "#### Counts totals:\n",
       " - `ArbitraryClifford(n=2)`: 58\n",
       " - `CZ`: 9\n",
       " - `Join(n=2)`: 1\n",
       " - `Join(n=3)`: 1\n",
       " - `Join(n=4)`: 1\n",
       " - `Split(n=2)`: 1\n",
       " - `Split(n=3)`: 1\n",
       " - `Split(n=4)`: 1\n",
       " - `TGate()`: 16\n",
       " - `Y**-0.5`: 7\n",
       " - `Y**0.5`: 7"
      ],
      "text/plain": [
       "<IPython.core.display.Markdown object>"
      ]
     },
     "metadata": {},
     "output_type": "display_data"
    }
   ],
   "source": [
    "apply_z_to_odd_g, apply_z_to_odd_sigma = apply_z_to_odd.call_graph()\n",
    "show_call_graph(apply_z_to_odd_g)\n",
    "show_counts_sigma(apply_z_to_odd_sigma)"
   ]
  }
 ],
 "metadata": {
  "kernelspec": {
   "display_name": "Python 3",
   "language": "python",
   "name": "python3"
  },
  "language_info": {
   "codemirror_mode": {
    "name": "ipython",
    "version": 3
   },
   "file_extension": ".py",
   "mimetype": "text/x-python",
   "name": "python",
   "nbconvert_exporter": "python",
   "pygments_lexer": "ipython3",
   "version": "3.10.12"
  },
  "widgets": {
   "application/vnd.jupyter.widget-state+json": {
    "state": {
     "110ee7048788480d9b29ad0235503fb6": {
      "model_module": "@jupyter-widgets/base",
      "model_module_version": "2.0.0",
      "model_name": "LayoutModel",
      "state": {
       "_model_module": "@jupyter-widgets/base",
       "_model_module_version": "2.0.0",
       "_model_name": "LayoutModel",
       "_view_count": null,
       "_view_module": "@jupyter-widgets/base",
       "_view_module_version": "2.0.0",
       "_view_name": "LayoutView",
       "align_content": null,
       "align_items": null,
       "align_self": null,
       "border_bottom": null,
       "border_left": null,
       "border_right": null,
       "border_top": null,
       "bottom": null,
       "display": null,
       "flex": null,
       "flex_flow": null,
       "grid_area": null,
       "grid_auto_columns": null,
       "grid_auto_flow": null,
       "grid_auto_rows": null,
       "grid_column": null,
       "grid_gap": null,
       "grid_row": null,
       "grid_template_areas": null,
       "grid_template_columns": null,
       "grid_template_rows": null,
       "height": null,
       "justify_content": null,
       "justify_items": null,
       "left": null,
       "margin": null,
       "max_height": null,
       "max_width": null,
       "min_height": null,
       "min_width": null,
       "object_fit": null,
       "object_position": null,
       "order": null,
       "overflow": null,
       "padding": null,
       "right": null,
       "top": null,
       "visibility": null,
       "width": null
      }
     },
     "21628195096d48cf80206e95178c87ec": {
      "model_module": "@jupyter-widgets/base",
      "model_module_version": "2.0.0",
      "model_name": "LayoutModel",
      "state": {
       "_model_module": "@jupyter-widgets/base",
       "_model_module_version": "2.0.0",
       "_model_name": "LayoutModel",
       "_view_count": null,
       "_view_module": "@jupyter-widgets/base",
       "_view_module_version": "2.0.0",
       "_view_name": "LayoutView",
       "align_content": null,
       "align_items": null,
       "align_self": null,
       "border_bottom": null,
       "border_left": null,
       "border_right": null,
       "border_top": null,
       "bottom": null,
       "display": null,
       "flex": null,
       "flex_flow": null,
       "grid_area": null,
       "grid_auto_columns": null,
       "grid_auto_flow": null,
       "grid_auto_rows": null,
       "grid_column": null,
       "grid_gap": null,
       "grid_row": null,
       "grid_template_areas": null,
       "grid_template_columns": null,
       "grid_template_rows": null,
       "height": null,
       "justify_content": null,
       "justify_items": null,
       "left": null,
       "margin": null,
       "max_height": null,
       "max_width": null,
       "min_height": null,
       "min_width": null,
       "object_fit": null,
       "object_position": null,
       "order": null,
       "overflow": null,
       "padding": null,
       "right": null,
       "top": null,
       "visibility": null,
       "width": null
      }
     },
     "37251662d3c44c4e8440bbcb4603765d": {
      "model_module": "@jupyter-widgets/output",
      "model_module_version": "1.0.0",
      "model_name": "OutputModel",
      "state": {
       "_dom_classes": [],
       "_model_module": "@jupyter-widgets/output",
       "_model_module_version": "1.0.0",
       "_model_name": "OutputModel",
       "_view_count": null,
       "_view_module": "@jupyter-widgets/output",
       "_view_module_version": "1.0.0",
       "_view_name": "OutputView",
       "layout": "IPY_MODEL_110ee7048788480d9b29ad0235503fb6",
       "msg_id": "",
       "outputs": [
        {
         "data": {
          "image/svg+xml": "<svg xmlns=\"http://www.w3.org/2000/svg\" width=\"1630.0463281250004\" height=\"600.0\"><line x1=\"109.05265625000001\" x2=\"1600.0463281250004\" y1=\"25.0\" y2=\"25.0\" stroke=\"#1967d2\" stroke-width=\"1\"/><line x1=\"109.05265625000001\" x2=\"1600.0463281250004\" y1=\"75.0\" y2=\"75.0\" stroke=\"#1967d2\" stroke-width=\"1\"/><line x1=\"109.05265625000001\" x2=\"1600.0463281250004\" y1=\"125.0\" y2=\"125.0\" stroke=\"#1967d2\" stroke-width=\"1\"/><line x1=\"109.05265625000001\" x2=\"1600.0463281250004\" y1=\"175.0\" y2=\"175.0\" stroke=\"#1967d2\" stroke-width=\"1\"/><line x1=\"109.05265625000001\" x2=\"1600.0463281250004\" y1=\"225.0\" y2=\"225.0\" stroke=\"#1967d2\" stroke-width=\"1\"/><line x1=\"109.05265625000001\" x2=\"1600.0463281250004\" y1=\"275.0\" y2=\"275.0\" stroke=\"#1967d2\" stroke-width=\"1\"/><line x1=\"109.05265625000001\" x2=\"1600.0463281250004\" y1=\"325.0\" y2=\"325.0\" stroke=\"#1967d2\" stroke-width=\"1\"/><line x1=\"109.05265625000001\" x2=\"1600.0463281250004\" y1=\"375.0\" y2=\"375.0\" stroke=\"#1967d2\" stroke-width=\"1\"/><line x1=\"109.05265625000001\" x2=\"1600.0463281250004\" y1=\"425.0\" y2=\"425.0\" stroke=\"#1967d2\" stroke-width=\"1\"/><line x1=\"109.05265625000001\" x2=\"1600.0463281250004\" y1=\"475.0\" y2=\"475.0\" stroke=\"#1967d2\" stroke-width=\"1\"/><line x1=\"109.05265625000001\" x2=\"1600.0463281250004\" y1=\"525.0\" y2=\"525.0\" stroke=\"#1967d2\" stroke-width=\"1\"/><line x1=\"109.05265625000001\" x2=\"1600.0463281250004\" y1=\"575.0\" y2=\"575.0\" stroke=\"#1967d2\" stroke-width=\"1\"/><line x1=\"263.8366796875\" x2=\"263.8366796875\" y1=\"25.0\" y2=\"475.0\" stroke=\"black\" stroke-width=\"3\"/><line x1=\"355.29941406250003\" x2=\"355.29941406250003\" y1=\"175.0\" y2=\"525.0\" stroke=\"black\" stroke-width=\"3\"/><line x1=\"446.7621484375\" x2=\"446.7621484375\" y1=\"225.0\" y2=\"575.0\" stroke=\"black\" stroke-width=\"3\"/><line x1=\"538.2248828125\" x2=\"538.2248828125\" y1=\"275.0\" y2=\"575.0\" stroke=\"black\" stroke-width=\"3\"/><line x1=\"629.6876171875\" x2=\"629.6876171875\" y1=\"525.0\" y2=\"575.0\" stroke=\"black\" stroke-width=\"3\"/><line x1=\"721.1503515625\" x2=\"721.1503515625\" y1=\"325.0\" y2=\"575.0\" stroke=\"black\" stroke-width=\"3\"/><line x1=\"812.6130859374999\" x2=\"812.6130859374999\" y1=\"225.0\" y2=\"575.0\" stroke=\"black\" stroke-width=\"3\"/><line x1=\"904.0758203124999\" x2=\"904.0758203124999\" y1=\"475.0\" y2=\"525.0\" stroke=\"black\" stroke-width=\"3\"/><line x1=\"995.5385546874999\" x2=\"995.5385546874999\" y1=\"225.0\" y2=\"575.0\" stroke=\"black\" stroke-width=\"3\"/><line x1=\"1087.0012890624998\" x2=\"1087.0012890624998\" y1=\"375.0\" y2=\"575.0\" stroke=\"black\" stroke-width=\"3\"/><line x1=\"1178.4640234375\" x2=\"1178.4640234375\" y1=\"525.0\" y2=\"575.0\" stroke=\"black\" stroke-width=\"3\"/><line x1=\"1269.9267578125\" x2=\"1269.9267578125\" y1=\"425.0\" y2=\"575.0\" stroke=\"black\" stroke-width=\"3\"/><line x1=\"1361.3894921875\" x2=\"1361.3894921875\" y1=\"225.0\" y2=\"575.0\" stroke=\"black\" stroke-width=\"3\"/><line x1=\"1452.8522265625002\" x2=\"1452.8522265625002\" y1=\"175.0\" y2=\"525.0\" stroke=\"black\" stroke-width=\"3\"/><line x1=\"1544.3149609375002\" x2=\"1544.3149609375002\" y1=\"25.0\" y2=\"475.0\" stroke=\"black\" stroke-width=\"3\"/><rect x=\"10.0\" y=\"5.0\" width=\"198.10531250000003\" height=\"40\" stroke=\"black\" fill=\"white\" stroke-width=\"0\"/><text x=\"109.05265625000001\" y=\"25.0\" dominant-baseline=\"middle\" text-anchor=\"middle\" font-size=\"14px\" font-family=\"Arial:style=normal:variant=normal:weight=normal:stretch=normal:size=10.0\">control0: </text><rect x=\"10.0\" y=\"55.0\" width=\"198.10531250000003\" height=\"40\" stroke=\"black\" fill=\"white\" stroke-width=\"0\"/><text x=\"109.05265625000001\" y=\"75.0\" dominant-baseline=\"middle\" text-anchor=\"middle\" font-size=\"14px\" font-family=\"Arial:style=normal:variant=normal:weight=normal:stretch=normal:size=10.0\">control1: </text><rect x=\"10.0\" y=\"105.0\" width=\"198.10531250000003\" height=\"40\" stroke=\"black\" fill=\"white\" stroke-width=\"0\"/><text x=\"109.05265625000001\" y=\"125.0\" dominant-baseline=\"middle\" text-anchor=\"middle\" font-size=\"14px\" font-family=\"Arial:style=normal:variant=normal:weight=normal:stretch=normal:size=10.0\">selection0: </text><rect x=\"10.0\" y=\"155.0\" width=\"198.10531250000003\" height=\"40\" stroke=\"black\" fill=\"white\" stroke-width=\"0\"/><text x=\"109.05265625000001\" y=\"175.0\" dominant-baseline=\"middle\" text-anchor=\"middle\" font-size=\"14px\" font-family=\"Arial:style=normal:variant=normal:weight=normal:stretch=normal:size=10.0\">selection1: </text><rect x=\"10.0\" y=\"205.0\" width=\"198.10531250000003\" height=\"40\" stroke=\"black\" fill=\"white\" stroke-width=\"0\"/><text x=\"109.05265625000001\" y=\"225.0\" dominant-baseline=\"middle\" text-anchor=\"middle\" font-size=\"14px\" font-family=\"Arial:style=normal:variant=normal:weight=normal:stretch=normal:size=10.0\">selection2: </text><rect x=\"10.0\" y=\"255.0\" width=\"198.10531250000003\" height=\"40\" stroke=\"black\" fill=\"white\" stroke-width=\"0\"/><text x=\"109.05265625000001\" y=\"275.0\" dominant-baseline=\"middle\" text-anchor=\"middle\" font-size=\"14px\" font-family=\"Arial:style=normal:variant=normal:weight=normal:stretch=normal:size=10.0\">target0: </text><rect x=\"10.0\" y=\"305.0\" width=\"198.10531250000003\" height=\"40\" stroke=\"black\" fill=\"white\" stroke-width=\"0\"/><text x=\"109.05265625000001\" y=\"325.0\" dominant-baseline=\"middle\" text-anchor=\"middle\" font-size=\"14px\" font-family=\"Arial:style=normal:variant=normal:weight=normal:stretch=normal:size=10.0\">target1: </text><rect x=\"10.0\" y=\"355.0\" width=\"198.10531250000003\" height=\"40\" stroke=\"black\" fill=\"white\" stroke-width=\"0\"/><text x=\"109.05265625000001\" y=\"375.0\" dominant-baseline=\"middle\" text-anchor=\"middle\" font-size=\"14px\" font-family=\"Arial:style=normal:variant=normal:weight=normal:stretch=normal:size=10.0\">target2: </text><rect x=\"10.0\" y=\"405.0\" width=\"198.10531250000003\" height=\"40\" stroke=\"black\" fill=\"white\" stroke-width=\"0\"/><text x=\"109.05265625000001\" y=\"425.0\" dominant-baseline=\"middle\" text-anchor=\"middle\" font-size=\"14px\" font-family=\"Arial:style=normal:variant=normal:weight=normal:stretch=normal:size=10.0\">target3: </text><rect x=\"10.0\" y=\"455.0\" width=\"198.10531250000003\" height=\"40\" stroke=\"black\" fill=\"white\" stroke-width=\"0\"/><text x=\"109.05265625000001\" y=\"475.0\" dominant-baseline=\"middle\" text-anchor=\"middle\" font-size=\"14px\" font-family=\"Arial:style=normal:variant=normal:weight=normal:stretch=normal:size=10.0\">_decompose_protocol_0_c(0): </text><rect x=\"10.0\" y=\"505.0\" width=\"198.10531250000003\" height=\"40\" stroke=\"black\" fill=\"white\" stroke-width=\"0\"/><text x=\"109.05265625000001\" y=\"525.0\" dominant-baseline=\"middle\" text-anchor=\"middle\" font-size=\"14px\" font-family=\"Arial:style=normal:variant=normal:weight=normal:stretch=normal:size=10.0\">_decompose_protocol_0_c(2): </text><rect x=\"10.0\" y=\"555.0\" width=\"198.10531250000003\" height=\"40\" stroke=\"black\" fill=\"white\" stroke-width=\"0\"/><text x=\"109.05265625000001\" y=\"575.0\" dominant-baseline=\"middle\" text-anchor=\"middle\" font-size=\"14px\" font-family=\"Arial:style=normal:variant=normal:weight=normal:stretch=normal:size=10.0\">_decompose_protocol_0_c(3): </text><rect x=\"228.10531250000003\" y=\"5.0\" width=\"71.462734375\" height=\"40\" stroke=\"black\" fill=\"white\" stroke-width=\"1\"/><text x=\"263.8366796875\" y=\"25.0\" dominant-baseline=\"middle\" text-anchor=\"middle\" font-size=\"14px\" font-family=\"Arial:style=normal:variant=normal:weight=normal:stretch=normal:size=10.0\">@['t:4,r:0']</text><circle cx=\"263.8366796875\" cy=\"75.0\" r=\"10.0\"/><rect x=\"228.10531250000003\" y=\"455.0\" width=\"71.462734375\" height=\"40\" stroke=\"black\" fill=\"white\" stroke-width=\"1\"/><text x=\"263.8366796875\" y=\"475.0\" dominant-baseline=\"middle\" text-anchor=\"middle\" font-size=\"14px\" font-family=\"Arial:style=normal:variant=normal:weight=normal:stretch=normal:size=10.0\">And</text><rect x=\"319.56804687500005\" y=\"455.0\" width=\"71.462734375\" height=\"40\" stroke=\"black\" fill=\"white\" stroke-width=\"1\"/><text x=\"355.29941406250003\" y=\"475.0\" dominant-baseline=\"middle\" text-anchor=\"middle\" font-size=\"14px\" font-family=\"Arial:style=normal:variant=normal:weight=normal:stretch=normal:size=10.0\">@['t:4,r:0']</text><rect x=\"319.56804687500005\" y=\"155.0\" width=\"71.462734375\" height=\"40\" stroke=\"black\" fill=\"white\" stroke-width=\"1\"/><text x=\"355.29941406250003\" y=\"175.0\" dominant-baseline=\"middle\" text-anchor=\"middle\" font-size=\"14px\" font-family=\"Arial:style=normal:variant=normal:weight=normal:stretch=normal:size=10.0\">(0)</text><rect x=\"319.56804687500005\" y=\"505.0\" width=\"71.462734375\" height=\"40\" stroke=\"black\" fill=\"white\" stroke-width=\"1\"/><text x=\"355.29941406250003\" y=\"525.0\" dominant-baseline=\"middle\" text-anchor=\"middle\" font-size=\"14px\" font-family=\"Arial:style=normal:variant=normal:weight=normal:stretch=normal:size=10.0\">And</text><rect x=\"411.03078125\" y=\"505.0\" width=\"71.462734375\" height=\"40\" stroke=\"black\" fill=\"white\" stroke-width=\"1\"/><text x=\"446.7621484375\" y=\"525.0\" dominant-baseline=\"middle\" text-anchor=\"middle\" font-size=\"14px\" font-family=\"Arial:style=normal:variant=normal:weight=normal:stretch=normal:size=10.0\">@['t:4,r:0']</text><rect x=\"411.03078125\" y=\"205.0\" width=\"71.462734375\" height=\"40\" stroke=\"black\" fill=\"white\" stroke-width=\"1\"/><text x=\"446.7621484375\" y=\"225.0\" dominant-baseline=\"middle\" text-anchor=\"middle\" font-size=\"14px\" font-family=\"Arial:style=normal:variant=normal:weight=normal:stretch=normal:size=10.0\">(0)</text><rect x=\"411.03078125\" y=\"555.0\" width=\"71.462734375\" height=\"40\" stroke=\"black\" fill=\"white\" stroke-width=\"1\"/><text x=\"446.7621484375\" y=\"575.0\" dominant-baseline=\"middle\" text-anchor=\"middle\" font-size=\"14px\" font-family=\"Arial:style=normal:variant=normal:weight=normal:stretch=normal:size=10.0\">And</text><rect x=\"502.49351562500004\" y=\"555.0\" width=\"71.462734375\" height=\"40\" stroke=\"black\" fill=\"white\" stroke-width=\"1\"/><text x=\"538.2248828125\" y=\"575.0\" dominant-baseline=\"middle\" text-anchor=\"middle\" font-size=\"14px\" font-family=\"Arial:style=normal:variant=normal:weight=normal:stretch=normal:size=10.0\">@['t:0,r:0']</text><rect x=\"502.49351562500004\" y=\"255.0\" width=\"71.462734375\" height=\"40\" stroke=\"black\" fill=\"white\" stroke-width=\"1\"/><text x=\"538.2248828125\" y=\"275.0\" dominant-baseline=\"middle\" text-anchor=\"middle\" font-size=\"18px\" font-family=\"Arial:style=normal:variant=normal:weight=normal:stretch=normal:size=10.0\">I</text><rect x=\"593.95625\" y=\"505.0\" width=\"71.462734375\" height=\"40\" stroke=\"black\" fill=\"white\" stroke-width=\"1\"/><text x=\"629.6876171875\" y=\"525.0\" dominant-baseline=\"middle\" text-anchor=\"middle\" font-size=\"14px\" font-family=\"Arial:style=normal:variant=normal:weight=normal:stretch=normal:size=10.0\">@['t:0,r:0']</text><rect x=\"593.95625\" y=\"555.0\" width=\"71.462734375\" height=\"40\" stroke=\"black\" fill=\"white\" stroke-width=\"1\"/><text x=\"629.6876171875\" y=\"575.0\" dominant-baseline=\"middle\" text-anchor=\"middle\" font-size=\"18px\" font-family=\"Arial:style=normal:variant=normal:weight=normal:stretch=normal:size=10.0\">X</text><rect x=\"685.4189843749999\" y=\"555.0\" width=\"71.462734375\" height=\"40\" stroke=\"black\" fill=\"white\" stroke-width=\"1\"/><text x=\"721.1503515625\" y=\"575.0\" dominant-baseline=\"middle\" text-anchor=\"middle\" font-size=\"14px\" font-family=\"Arial:style=normal:variant=normal:weight=normal:stretch=normal:size=10.0\">@['t:0,r:0']</text><circle cx=\"721.1503515625\" cy=\"325.0\" r=\"10.0\"/><rect x=\"776.8817187499999\" y=\"505.0\" width=\"71.462734375\" height=\"40\" stroke=\"black\" fill=\"white\" stroke-width=\"1\"/><text x=\"812.6130859374999\" y=\"525.0\" dominant-baseline=\"middle\" text-anchor=\"middle\" font-size=\"14px\" font-family=\"Arial:style=normal:variant=normal:weight=normal:stretch=normal:size=10.0\">@['t:0,r:0']</text><circle cx=\"812.6130859374999\" cy=\"225.0\" r=\"10.0\"/><rect x=\"776.8817187499999\" y=\"555.0\" width=\"71.462734375\" height=\"40\" stroke=\"black\" fill=\"white\" stroke-width=\"1\"/><text x=\"812.6130859374999\" y=\"575.0\" dominant-baseline=\"middle\" text-anchor=\"middle\" font-size=\"14px\" font-family=\"Arial:style=normal:variant=normal:weight=normal:stretch=normal:size=10.0\">And†</text><rect x=\"868.3444531249999\" y=\"455.0\" width=\"71.462734375\" height=\"40\" stroke=\"black\" fill=\"white\" stroke-width=\"1\"/><text x=\"904.0758203124999\" y=\"475.0\" dominant-baseline=\"middle\" text-anchor=\"middle\" font-size=\"14px\" font-family=\"Arial:style=normal:variant=normal:weight=normal:stretch=normal:size=10.0\">@['t:0,r:0']</text><rect x=\"868.3444531249999\" y=\"505.0\" width=\"71.462734375\" height=\"40\" stroke=\"black\" fill=\"white\" stroke-width=\"1\"/><text x=\"904.0758203124999\" y=\"525.0\" dominant-baseline=\"middle\" text-anchor=\"middle\" font-size=\"18px\" font-family=\"Arial:style=normal:variant=normal:weight=normal:stretch=normal:size=10.0\">X</text><rect x=\"959.8071874999998\" y=\"505.0\" width=\"71.462734375\" height=\"40\" stroke=\"black\" fill=\"white\" stroke-width=\"1\"/><text x=\"995.5385546874999\" y=\"525.0\" dominant-baseline=\"middle\" text-anchor=\"middle\" font-size=\"14px\" font-family=\"Arial:style=normal:variant=normal:weight=normal:stretch=normal:size=10.0\">@['t:4,r:0']</text><rect x=\"959.8071874999998\" y=\"205.0\" width=\"71.462734375\" height=\"40\" stroke=\"black\" fill=\"white\" stroke-width=\"1\"/><text x=\"995.5385546874999\" y=\"225.0\" dominant-baseline=\"middle\" text-anchor=\"middle\" font-size=\"14px\" font-family=\"Arial:style=normal:variant=normal:weight=normal:stretch=normal:size=10.0\">(0)</text><rect x=\"959.8071874999998\" y=\"555.0\" width=\"71.462734375\" height=\"40\" stroke=\"black\" fill=\"white\" stroke-width=\"1\"/><text x=\"995.5385546874999\" y=\"575.0\" dominant-baseline=\"middle\" text-anchor=\"middle\" font-size=\"14px\" font-family=\"Arial:style=normal:variant=normal:weight=normal:stretch=normal:size=10.0\">And</text><rect x=\"1051.269921875\" y=\"555.0\" width=\"71.462734375\" height=\"40\" stroke=\"black\" fill=\"white\" stroke-width=\"1\"/><text x=\"1087.0012890624998\" y=\"575.0\" dominant-baseline=\"middle\" text-anchor=\"middle\" font-size=\"14px\" font-family=\"Arial:style=normal:variant=normal:weight=normal:stretch=normal:size=10.0\">@['t:0,r:0']</text><rect x=\"1051.269921875\" y=\"355.0\" width=\"71.462734375\" height=\"40\" stroke=\"black\" fill=\"white\" stroke-width=\"1\"/><text x=\"1087.0012890624998\" y=\"375.0\" dominant-baseline=\"middle\" text-anchor=\"middle\" font-size=\"18px\" font-family=\"Arial:style=normal:variant=normal:weight=normal:stretch=normal:size=10.0\">I</text><rect x=\"1142.73265625\" y=\"505.0\" width=\"71.462734375\" height=\"40\" stroke=\"black\" fill=\"white\" stroke-width=\"1\"/><text x=\"1178.4640234375\" y=\"525.0\" dominant-baseline=\"middle\" text-anchor=\"middle\" font-size=\"14px\" font-family=\"Arial:style=normal:variant=normal:weight=normal:stretch=normal:size=10.0\">@['t:0,r:0']</text><rect x=\"1142.73265625\" y=\"555.0\" width=\"71.462734375\" height=\"40\" stroke=\"black\" fill=\"white\" stroke-width=\"1\"/><text x=\"1178.4640234375\" y=\"575.0\" dominant-baseline=\"middle\" text-anchor=\"middle\" font-size=\"18px\" font-family=\"Arial:style=normal:variant=normal:weight=normal:stretch=normal:size=10.0\">X</text><rect x=\"1234.195390625\" y=\"555.0\" width=\"71.462734375\" height=\"40\" stroke=\"black\" fill=\"white\" stroke-width=\"1\"/><text x=\"1269.9267578125\" y=\"575.0\" dominant-baseline=\"middle\" text-anchor=\"middle\" font-size=\"14px\" font-family=\"Arial:style=normal:variant=normal:weight=normal:stretch=normal:size=10.0\">@['t:0,r:0']</text><circle cx=\"1269.9267578125\" cy=\"425.0\" r=\"10.0\"/><rect x=\"1325.6581250000002\" y=\"505.0\" width=\"71.462734375\" height=\"40\" stroke=\"black\" fill=\"white\" stroke-width=\"1\"/><text x=\"1361.3894921875\" y=\"525.0\" dominant-baseline=\"middle\" text-anchor=\"middle\" font-size=\"14px\" font-family=\"Arial:style=normal:variant=normal:weight=normal:stretch=normal:size=10.0\">@['t:0,r:0']</text><circle cx=\"1361.3894921875\" cy=\"225.0\" r=\"10.0\"/><rect x=\"1325.6581250000002\" y=\"555.0\" width=\"71.462734375\" height=\"40\" stroke=\"black\" fill=\"white\" stroke-width=\"1\"/><text x=\"1361.3894921875\" y=\"575.0\" dominant-baseline=\"middle\" text-anchor=\"middle\" font-size=\"14px\" font-family=\"Arial:style=normal:variant=normal:weight=normal:stretch=normal:size=10.0\">And†</text><rect x=\"1417.1208593750002\" y=\"455.0\" width=\"71.462734375\" height=\"40\" stroke=\"black\" fill=\"white\" stroke-width=\"1\"/><text x=\"1452.8522265625002\" y=\"475.0\" dominant-baseline=\"middle\" text-anchor=\"middle\" font-size=\"14px\" font-family=\"Arial:style=normal:variant=normal:weight=normal:stretch=normal:size=10.0\">@['t:0,r:0']</text><circle cx=\"1452.8522265625002\" cy=\"175.0\" r=\"10.0\"/><rect x=\"1417.1208593750002\" y=\"505.0\" width=\"71.462734375\" height=\"40\" stroke=\"black\" fill=\"white\" stroke-width=\"1\"/><text x=\"1452.8522265625002\" y=\"525.0\" dominant-baseline=\"middle\" text-anchor=\"middle\" font-size=\"14px\" font-family=\"Arial:style=normal:variant=normal:weight=normal:stretch=normal:size=10.0\">And†</text><rect x=\"1508.5835937500003\" y=\"5.0\" width=\"71.462734375\" height=\"40\" stroke=\"black\" fill=\"white\" stroke-width=\"1\"/><text x=\"1544.3149609375002\" y=\"25.0\" dominant-baseline=\"middle\" text-anchor=\"middle\" font-size=\"14px\" font-family=\"Arial:style=normal:variant=normal:weight=normal:stretch=normal:size=10.0\">@['t:0,r:0']</text><circle cx=\"1544.3149609375002\" cy=\"75.0\" r=\"10.0\"/><rect x=\"1508.5835937500003\" y=\"455.0\" width=\"71.462734375\" height=\"40\" stroke=\"black\" fill=\"white\" stroke-width=\"1\"/><text x=\"1544.3149609375002\" y=\"475.0\" dominant-baseline=\"middle\" text-anchor=\"middle\" font-size=\"14px\" font-family=\"Arial:style=normal:variant=normal:weight=normal:stretch=normal:size=10.0\">And†</text></svg>",
          "text/plain": "<IPython.core.display.SVG object>"
         },
         "metadata": {},
         "output_type": "display_data"
        }
       ],
       "tabbable": null,
       "tooltip": null
      }
     },
     "873979cc73b84a6cb4ee7bcc46ea6d90": {
      "model_module": "@jupyter-widgets/base",
      "model_module_version": "2.0.0",
      "model_name": "LayoutModel",
      "state": {
       "_model_module": "@jupyter-widgets/base",
       "_model_module_version": "2.0.0",
       "_model_name": "LayoutModel",
       "_view_count": null,
       "_view_module": "@jupyter-widgets/base",
       "_view_module_version": "2.0.0",
       "_view_name": "LayoutView",
       "align_content": null,
       "align_items": null,
       "align_self": null,
       "border_bottom": null,
       "border_left": null,
       "border_right": null,
       "border_top": null,
       "bottom": null,
       "display": null,
       "flex": null,
       "flex_flow": null,
       "grid_area": null,
       "grid_auto_columns": null,
       "grid_auto_flow": null,
       "grid_auto_rows": null,
       "grid_column": null,
       "grid_gap": null,
       "grid_row": null,
       "grid_template_areas": null,
       "grid_template_columns": null,
       "grid_template_rows": null,
       "height": null,
       "justify_content": null,
       "justify_items": null,
       "left": null,
       "margin": null,
       "max_height": null,
       "max_width": null,
       "min_height": null,
       "min_width": null,
       "object_fit": null,
       "object_position": null,
       "order": null,
       "overflow": null,
       "padding": null,
       "right": null,
       "top": null,
       "visibility": null,
       "width": null
      }
     },
     "87ad539eca3349b69ae2417d695d1da7": {
      "model_module": "@jupyter-widgets/controls",
      "model_module_version": "2.0.0",
      "model_name": "HBoxModel",
      "state": {
       "_dom_classes": [],
       "_model_module": "@jupyter-widgets/controls",
       "_model_module_version": "2.0.0",
       "_model_name": "HBoxModel",
       "_view_count": null,
       "_view_module": "@jupyter-widgets/controls",
       "_view_module_version": "2.0.0",
       "_view_name": "HBoxView",
       "box_style": "",
       "children": [
        "IPY_MODEL_a760f9652c1742fbad98557c25ffe739",
        "IPY_MODEL_37251662d3c44c4e8440bbcb4603765d"
       ],
       "layout": "IPY_MODEL_873979cc73b84a6cb4ee7bcc46ea6d90",
       "tabbable": null,
       "tooltip": null
      }
     },
     "9c5bf7b2217c4399b03a1decf14fdd0f": {
      "model_module": "@jupyter-widgets/output",
      "model_module_version": "1.0.0",
      "model_name": "OutputModel",
      "state": {
       "_dom_classes": [],
       "_model_module": "@jupyter-widgets/output",
       "_model_module_version": "1.0.0",
       "_model_name": "OutputModel",
       "_view_count": null,
       "_view_module": "@jupyter-widgets/output",
       "_view_module_version": "1.0.0",
       "_view_name": "OutputView",
       "layout": "IPY_MODEL_f21c63d6e61d4d709c72d8a3d9445ce0",
       "msg_id": "",
       "outputs": [
        {
         "data": {
          "text/markdown": "`apply_z_to_odd`",
          "text/plain": "<IPython.core.display.Markdown object>"
         },
         "metadata": {},
         "output_type": "display_data"
        },
        {
         "data": {
          "image/svg+xml": "<svg xmlns=\"http://www.w3.org/2000/svg\" xmlns:xlink=\"http://www.w3.org/1999/xlink\" width=\"267pt\" height=\"152pt\" viewBox=\"0.00 0.00 267.00 152.00\">\n<g id=\"graph0\" class=\"graph\" transform=\"scale(1 1) rotate(0) translate(4 148)\">\n<title>my_graph</title>\n<polygon fill=\"white\" stroke=\"transparent\" points=\"-4,4 -4,-148 263,-148 263,4 -4,4\"/>\n<!-- control_G0 -->\n<g id=\"node1\" class=\"node\">\n<title>control_G0</title>\n<text text-anchor=\"middle\" x=\"32.5\" y=\"-122.3\" font-family=\"Times,serif\" font-size=\"14.00\">control</text>\n</g>\n<!-- ApplyGateToLthQubit -->\n<g id=\"node4\" class=\"node\">\n<title>ApplyGateToLthQubit</title>\n<polygon fill=\"none\" stroke=\"black\" points=\"102.5,-104 102.5,-121 157.5,-121 157.5,-104 102.5,-104\"/>\n<text text-anchor=\"start\" x=\"107\" y=\"-110\" font-family=\"Times,serif\" font-size=\"10.00\">ApplyGat..</text>\n<polygon fill=\"none\" stroke=\"black\" points=\"102.5,-83 102.5,-104 157.5,-104 157.5,-83 102.5,-83\"/>\n<text text-anchor=\"start\" x=\"110.5\" y=\"-89.8\" font-family=\"Times,serif\" font-size=\"14.00\">control</text>\n<polygon fill=\"none\" stroke=\"black\" points=\"102.5,-62 102.5,-83 157.5,-83 157.5,-62 102.5,-62\"/>\n<text text-anchor=\"start\" x=\"105.5\" y=\"-68.8\" font-family=\"Times,serif\" font-size=\"14.00\">selection</text>\n<polygon fill=\"none\" stroke=\"black\" points=\"102.5,-41 102.5,-62 157.5,-62 157.5,-41 102.5,-41\"/>\n<text text-anchor=\"start\" x=\"114.5\" y=\"-47.8\" font-family=\"Times,serif\" font-size=\"14.00\">target</text>\n</g>\n<!-- control_G0&#45;&gt;ApplyGateToLthQubit -->\n<g id=\"edge1\" class=\"edge\">\n<title>control_G0:e-&gt;ApplyGateToLthQubit:w</title>\n<path fill=\"none\" stroke=\"black\" d=\"M61.5,-126C83.72,-126 79.37,-95.97 99.93,-94.09\"/>\n<ellipse fill=\"black\" stroke=\"black\" cx=\"101\" cy=\"-94.04\" rx=\"1\" ry=\"1\"/>\n<text text-anchor=\"middle\" x=\"83.5\" y=\"-110\" font-family=\"Times,serif\" font-size=\"10.00\">2</text>\n</g>\n<!-- selection_G5 -->\n<g id=\"node2\" class=\"node\">\n<title>selection_G5</title>\n<text text-anchor=\"middle\" x=\"32.5\" y=\"-68.3\" font-family=\"Times,serif\" font-size=\"14.00\">selection</text>\n</g>\n<!-- selection_G5&#45;&gt;ApplyGateToLthQubit -->\n<g id=\"edge2\" class=\"edge\">\n<title>selection_G5:e-&gt;ApplyGateToLthQubit:w</title>\n<path fill=\"none\" stroke=\"black\" d=\"M65,-72C80.67,-72 85.14,-72 99.77,-72\"/>\n<ellipse fill=\"black\" stroke=\"black\" cx=\"101\" cy=\"-72\" rx=\"1\" ry=\"1\"/>\n<text text-anchor=\"middle\" x=\"83.5\" y=\"-75\" font-family=\"Times,serif\" font-size=\"10.00\">3</text>\n</g>\n<!-- target_G4 -->\n<g id=\"node3\" class=\"node\">\n<title>target_G4</title>\n<text text-anchor=\"middle\" x=\"32.5\" y=\"-14.3\" font-family=\"Times,serif\" font-size=\"14.00\">target</text>\n</g>\n<!-- target_G4&#45;&gt;ApplyGateToLthQubit -->\n<g id=\"edge3\" class=\"edge\">\n<title>target_G4:e-&gt;ApplyGateToLthQubit:w</title>\n<path fill=\"none\" stroke=\"black\" d=\"M60.5,-18C83.33,-18 78.76,-48.97 99.87,-50.91\"/>\n<ellipse fill=\"black\" stroke=\"black\" cx=\"101\" cy=\"-50.96\" rx=\"1\" ry=\"1\"/>\n<text text-anchor=\"middle\" x=\"83.5\" y=\"-43\" font-family=\"Times,serif\" font-size=\"10.00\">4</text>\n</g>\n<!-- control_G2 -->\n<g id=\"node5\" class=\"node\">\n<title>control_G2</title>\n<text text-anchor=\"middle\" x=\"226.5\" y=\"-122.3\" font-family=\"Times,serif\" font-size=\"14.00\">control</text>\n</g>\n<!-- ApplyGateToLthQubit&#45;&gt;control_G2 -->\n<g id=\"edge4\" class=\"edge\">\n<title>ApplyGateToLthQubit:e-&gt;control_G2:w</title>\n<path fill=\"none\" stroke=\"black\" d=\"M157,-94C179.22,-94 174.87,-124.03 195.43,-125.91\"/>\n<ellipse fill=\"black\" stroke=\"black\" cx=\"196.5\" cy=\"-125.96\" rx=\"1\" ry=\"1\"/>\n<text text-anchor=\"middle\" x=\"175.5\" y=\"-110\" font-family=\"Times,serif\" font-size=\"10.00\">2</text>\n</g>\n<!-- selection_G7 -->\n<g id=\"node6\" class=\"node\">\n<title>selection_G7</title>\n<text text-anchor=\"middle\" x=\"226.5\" y=\"-68.3\" font-family=\"Times,serif\" font-size=\"14.00\">selection</text>\n</g>\n<!-- ApplyGateToLthQubit&#45;&gt;selection_G7 -->\n<g id=\"edge5\" class=\"edge\">\n<title>ApplyGateToLthQubit:e-&gt;selection_G7:w</title>\n<path fill=\"none\" stroke=\"black\" d=\"M157,-72C172.67,-72 177.14,-72 191.77,-72\"/>\n<ellipse fill=\"black\" stroke=\"black\" cx=\"193\" cy=\"-72\" rx=\"1\" ry=\"1\"/>\n<text text-anchor=\"middle\" x=\"175.5\" y=\"-75\" font-family=\"Times,serif\" font-size=\"10.00\">3</text>\n</g>\n<!-- target_G3 -->\n<g id=\"node7\" class=\"node\">\n<title>target_G3</title>\n<text text-anchor=\"middle\" x=\"226.5\" y=\"-14.3\" font-family=\"Times,serif\" font-size=\"14.00\">target</text>\n</g>\n<!-- ApplyGateToLthQubit&#45;&gt;target_G3 -->\n<g id=\"edge6\" class=\"edge\">\n<title>ApplyGateToLthQubit:e-&gt;target_G3:w</title>\n<path fill=\"none\" stroke=\"black\" d=\"M157,-51C179.83,-51 175.26,-20.03 196.37,-18.09\"/>\n<ellipse fill=\"black\" stroke=\"black\" cx=\"197.5\" cy=\"-18.04\" rx=\"1\" ry=\"1\"/>\n<text text-anchor=\"middle\" x=\"175.5\" y=\"-43\" font-family=\"Times,serif\" font-size=\"10.00\">4</text>\n</g>\n</g>\n</svg>",
          "text/plain": "<IPython.core.display.SVG object>"
         },
         "metadata": {},
         "output_type": "display_data"
        }
       ],
       "tabbable": null,
       "tooltip": null
      }
     },
     "a760f9652c1742fbad98557c25ffe739": {
      "model_module": "@jupyter-widgets/output",
      "model_module_version": "1.0.0",
      "model_name": "OutputModel",
      "state": {
       "_dom_classes": [],
       "_model_module": "@jupyter-widgets/output",
       "_model_module_version": "1.0.0",
       "_model_name": "OutputModel",
       "_view_count": null,
       "_view_module": "@jupyter-widgets/output",
       "_view_module_version": "1.0.0",
       "_view_name": "OutputView",
       "layout": "IPY_MODEL_21628195096d48cf80206e95178c87ec",
       "msg_id": "",
       "outputs": [
        {
         "data": {
          "image/svg+xml": "<svg xmlns=\"http://www.w3.org/2000/svg\" width=\"234.52550781250002\" height=\"450.0\"><line x1=\"47.63832031250001\" x2=\"204.52550781250002\" y1=\"25.0\" y2=\"25.0\" stroke=\"#1967d2\" stroke-width=\"1\"/><line x1=\"47.63832031250001\" x2=\"204.52550781250002\" y1=\"75.0\" y2=\"75.0\" stroke=\"#1967d2\" stroke-width=\"1\"/><line x1=\"47.63832031250001\" x2=\"204.52550781250002\" y1=\"125.0\" y2=\"125.0\" stroke=\"#1967d2\" stroke-width=\"1\"/><line x1=\"47.63832031250001\" x2=\"204.52550781250002\" y1=\"175.0\" y2=\"175.0\" stroke=\"#1967d2\" stroke-width=\"1\"/><line x1=\"47.63832031250001\" x2=\"204.52550781250002\" y1=\"225.0\" y2=\"225.0\" stroke=\"#1967d2\" stroke-width=\"1\"/><line x1=\"47.63832031250001\" x2=\"204.52550781250002\" y1=\"275.0\" y2=\"275.0\" stroke=\"#1967d2\" stroke-width=\"1\"/><line x1=\"47.63832031250001\" x2=\"204.52550781250002\" y1=\"325.0\" y2=\"325.0\" stroke=\"#1967d2\" stroke-width=\"1\"/><line x1=\"47.63832031250001\" x2=\"204.52550781250002\" y1=\"375.0\" y2=\"375.0\" stroke=\"#1967d2\" stroke-width=\"1\"/><line x1=\"47.63832031250001\" x2=\"204.52550781250002\" y1=\"425.0\" y2=\"425.0\" stroke=\"#1967d2\" stroke-width=\"1\"/><line x1=\"144.90107421875\" x2=\"144.90107421875\" y1=\"25.0\" y2=\"425.0\" stroke=\"black\" stroke-width=\"3\"/><rect x=\"10.0\" y=\"5.0\" width=\"75.27664062500001\" height=\"40\" stroke=\"black\" fill=\"white\" stroke-width=\"0\"/><text x=\"47.63832031250001\" y=\"25.0\" dominant-baseline=\"middle\" text-anchor=\"middle\" font-size=\"14px\" font-family=\"Arial:style=normal:variant=normal:weight=normal:stretch=normal:size=10.0\">control0: </text><rect x=\"10.0\" y=\"55.0\" width=\"75.27664062500001\" height=\"40\" stroke=\"black\" fill=\"white\" stroke-width=\"0\"/><text x=\"47.63832031250001\" y=\"75.0\" dominant-baseline=\"middle\" text-anchor=\"middle\" font-size=\"14px\" font-family=\"Arial:style=normal:variant=normal:weight=normal:stretch=normal:size=10.0\">control1: </text><rect x=\"10.0\" y=\"105.0\" width=\"75.27664062500001\" height=\"40\" stroke=\"black\" fill=\"white\" stroke-width=\"0\"/><text x=\"47.63832031250001\" y=\"125.0\" dominant-baseline=\"middle\" text-anchor=\"middle\" font-size=\"14px\" font-family=\"Arial:style=normal:variant=normal:weight=normal:stretch=normal:size=10.0\">selection0: </text><rect x=\"10.0\" y=\"155.0\" width=\"75.27664062500001\" height=\"40\" stroke=\"black\" fill=\"white\" stroke-width=\"0\"/><text x=\"47.63832031250001\" y=\"175.0\" dominant-baseline=\"middle\" text-anchor=\"middle\" font-size=\"14px\" font-family=\"Arial:style=normal:variant=normal:weight=normal:stretch=normal:size=10.0\">selection1: </text><rect x=\"10.0\" y=\"205.0\" width=\"75.27664062500001\" height=\"40\" stroke=\"black\" fill=\"white\" stroke-width=\"0\"/><text x=\"47.63832031250001\" y=\"225.0\" dominant-baseline=\"middle\" text-anchor=\"middle\" font-size=\"14px\" font-family=\"Arial:style=normal:variant=normal:weight=normal:stretch=normal:size=10.0\">selection2: </text><rect x=\"10.0\" y=\"255.0\" width=\"75.27664062500001\" height=\"40\" stroke=\"black\" fill=\"white\" stroke-width=\"0\"/><text x=\"47.63832031250001\" y=\"275.0\" dominant-baseline=\"middle\" text-anchor=\"middle\" font-size=\"14px\" font-family=\"Arial:style=normal:variant=normal:weight=normal:stretch=normal:size=10.0\">target0: </text><rect x=\"10.0\" y=\"305.0\" width=\"75.27664062500001\" height=\"40\" stroke=\"black\" fill=\"white\" stroke-width=\"0\"/><text x=\"47.63832031250001\" y=\"325.0\" dominant-baseline=\"middle\" text-anchor=\"middle\" font-size=\"14px\" font-family=\"Arial:style=normal:variant=normal:weight=normal:stretch=normal:size=10.0\">target1: </text><rect x=\"10.0\" y=\"355.0\" width=\"75.27664062500001\" height=\"40\" stroke=\"black\" fill=\"white\" stroke-width=\"0\"/><text x=\"47.63832031250001\" y=\"375.0\" dominant-baseline=\"middle\" text-anchor=\"middle\" font-size=\"14px\" font-family=\"Arial:style=normal:variant=normal:weight=normal:stretch=normal:size=10.0\">target2: </text><rect x=\"10.0\" y=\"405.0\" width=\"75.27664062500001\" height=\"40\" stroke=\"black\" fill=\"white\" stroke-width=\"0\"/><text x=\"47.63832031250001\" y=\"425.0\" dominant-baseline=\"middle\" text-anchor=\"middle\" font-size=\"14px\" font-family=\"Arial:style=normal:variant=normal:weight=normal:stretch=normal:size=10.0\">target3: </text><rect x=\"105.276640625\" y=\"5.0\" width=\"79.24886718750001\" height=\"40\" stroke=\"black\" fill=\"white\" stroke-width=\"1\"/><text x=\"144.90107421875\" y=\"25.0\" dominant-baseline=\"middle\" text-anchor=\"middle\" font-size=\"14px\" font-family=\"Arial:style=normal:variant=normal:weight=normal:stretch=normal:size=10.0\">@['t:16,r:0']</text><circle cx=\"144.90107421875\" cy=\"75.0\" r=\"10.0\"/><rect x=\"105.276640625\" y=\"105.0\" width=\"79.24886718750001\" height=\"40\" stroke=\"black\" fill=\"white\" stroke-width=\"1\"/><text x=\"144.90107421875\" y=\"125.0\" dominant-baseline=\"middle\" text-anchor=\"middle\" font-size=\"14px\" font-family=\"Arial:style=normal:variant=normal:weight=normal:stretch=normal:size=10.0\">In</text><rect x=\"105.276640625\" y=\"155.0\" width=\"79.24886718750001\" height=\"40\" stroke=\"black\" fill=\"white\" stroke-width=\"1\"/><text x=\"144.90107421875\" y=\"175.0\" dominant-baseline=\"middle\" text-anchor=\"middle\" font-size=\"14px\" font-family=\"Arial:style=normal:variant=normal:weight=normal:stretch=normal:size=10.0\">In</text><rect x=\"105.276640625\" y=\"205.0\" width=\"79.24886718750001\" height=\"40\" stroke=\"black\" fill=\"white\" stroke-width=\"1\"/><text x=\"144.90107421875\" y=\"225.0\" dominant-baseline=\"middle\" text-anchor=\"middle\" font-size=\"14px\" font-family=\"Arial:style=normal:variant=normal:weight=normal:stretch=normal:size=10.0\">In</text><rect x=\"105.276640625\" y=\"255.0\" width=\"79.24886718750001\" height=\"40\" stroke=\"black\" fill=\"white\" stroke-width=\"1\"/><text x=\"144.90107421875\" y=\"275.0\" dominant-baseline=\"middle\" text-anchor=\"middle\" font-size=\"18px\" font-family=\"Arial:style=normal:variant=normal:weight=normal:stretch=normal:size=10.0\">I</text><rect x=\"105.276640625\" y=\"305.0\" width=\"79.24886718750001\" height=\"40\" stroke=\"black\" fill=\"white\" stroke-width=\"1\"/><text x=\"144.90107421875\" y=\"325.0\" dominant-baseline=\"middle\" text-anchor=\"middle\" font-size=\"18px\" font-family=\"Arial:style=normal:variant=normal:weight=normal:stretch=normal:size=10.0\">Z</text><rect x=\"105.276640625\" y=\"355.0\" width=\"79.24886718750001\" height=\"40\" stroke=\"black\" fill=\"white\" stroke-width=\"1\"/><text x=\"144.90107421875\" y=\"375.0\" dominant-baseline=\"middle\" text-anchor=\"middle\" font-size=\"18px\" font-family=\"Arial:style=normal:variant=normal:weight=normal:stretch=normal:size=10.0\">I</text><rect x=\"105.276640625\" y=\"405.0\" width=\"79.24886718750001\" height=\"40\" stroke=\"black\" fill=\"white\" stroke-width=\"1\"/><text x=\"144.90107421875\" y=\"425.0\" dominant-baseline=\"middle\" text-anchor=\"middle\" font-size=\"18px\" font-family=\"Arial:style=normal:variant=normal:weight=normal:stretch=normal:size=10.0\">Z</text></svg>",
          "text/plain": "<IPython.core.display.SVG object>"
         },
         "metadata": {},
         "output_type": "display_data"
        }
       ],
       "tabbable": null,
       "tooltip": null
      }
     },
     "c601acc6f73844a0b472eb9e1075e89e": {
      "model_module": "@jupyter-widgets/base",
      "model_module_version": "2.0.0",
      "model_name": "LayoutModel",
      "state": {
       "_model_module": "@jupyter-widgets/base",
       "_model_module_version": "2.0.0",
       "_model_name": "LayoutModel",
       "_view_count": null,
       "_view_module": "@jupyter-widgets/base",
       "_view_module_version": "2.0.0",
       "_view_name": "LayoutView",
       "align_content": null,
       "align_items": null,
       "align_self": null,
       "border_bottom": null,
       "border_left": null,
       "border_right": null,
       "border_top": null,
       "bottom": null,
       "display": null,
       "flex": null,
       "flex_flow": null,
       "grid_area": null,
       "grid_auto_columns": null,
       "grid_auto_flow": null,
       "grid_auto_rows": null,
       "grid_column": null,
       "grid_gap": null,
       "grid_row": null,
       "grid_template_areas": null,
       "grid_template_columns": null,
       "grid_template_rows": null,
       "height": null,
       "justify_content": null,
       "justify_items": null,
       "left": null,
       "margin": null,
       "max_height": null,
       "max_width": null,
       "min_height": null,
       "min_width": null,
       "object_fit": null,
       "object_position": null,
       "order": null,
       "overflow": null,
       "padding": null,
       "right": null,
       "top": null,
       "visibility": null,
       "width": null
      }
     },
     "c665dfd55425443d929017cb078c2537": {
      "model_module": "@jupyter-widgets/controls",
      "model_module_version": "2.0.0",
      "model_name": "HBoxModel",
      "state": {
       "_dom_classes": [],
       "_model_module": "@jupyter-widgets/controls",
       "_model_module_version": "2.0.0",
       "_model_name": "HBoxModel",
       "_view_count": null,
       "_view_module": "@jupyter-widgets/controls",
       "_view_module_version": "2.0.0",
       "_view_name": "HBoxView",
       "box_style": "",
       "children": [
        "IPY_MODEL_9c5bf7b2217c4399b03a1decf14fdd0f"
       ],
       "layout": "IPY_MODEL_c601acc6f73844a0b472eb9e1075e89e",
       "tabbable": null,
       "tooltip": null
      }
     },
     "f21c63d6e61d4d709c72d8a3d9445ce0": {
      "model_module": "@jupyter-widgets/base",
      "model_module_version": "2.0.0",
      "model_name": "LayoutModel",
      "state": {
       "_model_module": "@jupyter-widgets/base",
       "_model_module_version": "2.0.0",
       "_model_name": "LayoutModel",
       "_view_count": null,
       "_view_module": "@jupyter-widgets/base",
       "_view_module_version": "2.0.0",
       "_view_name": "LayoutView",
       "align_content": null,
       "align_items": null,
       "align_self": null,
       "border_bottom": null,
       "border_left": null,
       "border_right": null,
       "border_top": null,
       "bottom": null,
       "display": null,
       "flex": null,
       "flex_flow": null,
       "grid_area": null,
       "grid_auto_columns": null,
       "grid_auto_flow": null,
       "grid_auto_rows": null,
       "grid_column": null,
       "grid_gap": null,
       "grid_row": null,
       "grid_template_areas": null,
       "grid_template_columns": null,
       "grid_template_rows": null,
       "height": null,
       "justify_content": null,
       "justify_items": null,
       "left": null,
       "margin": null,
       "max_height": null,
       "max_width": null,
       "min_height": null,
       "min_width": null,
       "object_fit": null,
       "object_position": null,
       "order": null,
       "overflow": null,
       "padding": null,
       "right": null,
       "top": null,
       "visibility": null,
       "width": null
      }
     }
    },
    "version_major": 2,
    "version_minor": 0
   }
  }
 },
 "nbformat": 4,
 "nbformat_minor": 5
}
