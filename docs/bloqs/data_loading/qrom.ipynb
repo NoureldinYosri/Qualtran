{
 "cells": [
  {
   "cell_type": "markdown",
   "id": "ffe91e97",
   "metadata": {
    "cq.autogen": "title_cell"
   },
   "source": [
    "# QROM\n",
    "\n",
    "Quantum read-only memory."
   ]
  },
  {
   "cell_type": "code",
   "execution_count": 1,
   "id": "2737c79f",
   "metadata": {
    "cq.autogen": "top_imports"
   },
   "outputs": [],
   "source": [
    "from qualtran import Bloq, CompositeBloq, BloqBuilder, Signature, Register\n",
    "from qualtran import QBit, QInt, QUInt, QAny\n",
    "from qualtran.drawing import show_bloq, show_call_graph, show_counts_sigma\n",
    "from typing import *\n",
    "import numpy as np\n",
    "import sympy\n",
    "import cirq"
   ]
  },
  {
   "cell_type": "markdown",
   "id": "4ea4344b",
   "metadata": {
    "cq.autogen": "QROM.bloq_doc.md"
   },
   "source": [
    "## `QROM`\n",
    "Bloq to load `data[l]` in the target register when the selection stores an index `l`.\n",
    "\n",
    "In the case of multidimensional `data[p,q,r,...]` we use multiple named\n",
    "selection registers to index and load the data named selection0, selection1, ...\n",
    "\n",
    "When the input data elements contain consecutive entries of identical data elements to\n",
    "load, the QROM also implements the \"variable-spaced\" QROM optimization described in Ref [2].\n",
    "\n",
    "#### Parameters\n",
    " - `data`: List of numpy ndarrays specifying the data to load. If the length of this list is greater than one then we use the same selection indices to load each dataset (for example, to load alt and keep data for state preparation). Each data set is required to have the same shape and to be of integer type.\n",
    " - `selection_bitsizes`: The number of bits used to represent each selection register corresponding to the size of each dimension of the array. Should be the same length as the shape of each of the datasets.\n",
    " - `target_bitsizes`: The number of bits used to represent the data signature. This can be deduced from the maximum element of each of the datasets. Should be of length len(data), i.e. the number of datasets.\n",
    " - `num_controls`: The number of control signature. \n",
    "\n",
    "#### References\n",
    " - [Encoding Electronic Spectra in Quantum Circuits with Linear T Complexity](https://arxiv.org/abs/1805.03662).     Babbush et. al. (2018). Figure 1.\n",
    " - [Compilation of Fault-Tolerant Quantum Heuristics for Combinatorial Optimization](https://arxiv.org/abs/2007.07391).     Babbush et. al. (2020). Figure 3.\n"
   ]
  },
  {
   "cell_type": "code",
   "execution_count": 2,
   "id": "af317b30",
   "metadata": {
    "cq.autogen": "QROM.bloq_doc.py"
   },
   "outputs": [],
   "source": [
    "from qualtran.bloqs.data_loading.qrom import QROM"
   ]
  },
  {
   "cell_type": "markdown",
   "id": "d5d3a19d",
   "metadata": {
    "cq.autogen": "QROM.example_instances.md"
   },
   "source": [
    "### Example Instances"
   ]
  },
  {
   "cell_type": "code",
   "execution_count": 3,
   "id": "5f02d641",
   "metadata": {
    "cq.autogen": "QROM.qrom_small"
   },
   "outputs": [],
   "source": [
    "data = np.arange(5)\n",
    "qrom_small = QROM([data], selection_bitsizes=(3,), target_bitsizes=(3,))"
   ]
  },
  {
   "cell_type": "code",
   "execution_count": 4,
   "id": "c2f8b350",
   "metadata": {
    "cq.autogen": "QROM.qrom_multi_data"
   },
   "outputs": [],
   "source": [
    "data1 = np.arange(5)\n",
    "data2 = np.arange(5) + 1\n",
    "qrom_multi_data = QROM([data1, data2], selection_bitsizes=(3,), target_bitsizes=(3, 4))"
   ]
  },
  {
   "cell_type": "code",
   "execution_count": 5,
   "id": "036cf220",
   "metadata": {
    "cq.autogen": "QROM.qrom_multi_dim"
   },
   "outputs": [],
   "source": [
    "data1 = np.arange(9).reshape((3, 3))\n",
    "data2 = (np.arange(9) + 1).reshape((3, 3))\n",
    "qrom_multi_dim = QROM([data1, data2], selection_bitsizes=(2, 2), target_bitsizes=(8, 8))"
   ]
  },
  {
   "cell_type": "markdown",
   "id": "b92d1c8e",
   "metadata": {
    "cq.autogen": "QROM.graphical_signature.md"
   },
   "source": [
    "#### Graphical Signature"
   ]
  },
  {
   "cell_type": "code",
   "execution_count": 6,
   "id": "9681cfed",
   "metadata": {
    "cq.autogen": "QROM.graphical_signature.py"
   },
   "outputs": [
    {
     "data": {
      "application/vnd.jupyter.widget-view+json": {
       "model_id": "3ccefa3c1647437eb142ada20ef0f462",
       "version_major": 2,
       "version_minor": 0
      },
      "text/plain": [
       "HBox(children=(Output(outputs=({'output_type': 'display_data', 'data': {'text/plain': '<IPython.core.display.M…"
      ]
     },
     "metadata": {},
     "output_type": "display_data"
    }
   ],
   "source": [
    "from qualtran.drawing import show_bloqs\n",
    "show_bloqs([qrom_small, qrom_multi_data, qrom_multi_dim],\n",
    "           ['`qrom_small`', '`qrom_multi_data`', '`qrom_multi_dim`'])"
   ]
  },
  {
   "cell_type": "markdown",
   "id": "8eb02cb9",
   "metadata": {
    "cq.autogen": "QROM.call_graph.md"
   },
   "source": [
    "### Call Graph"
   ]
  },
  {
   "cell_type": "code",
   "execution_count": 7,
   "id": "7f29f104",
   "metadata": {
    "cq.autogen": "QROM.call_graph.py"
   },
   "outputs": [
    {
     "data": {
      "image/svg+xml": [
       "<svg xmlns=\"http://www.w3.org/2000/svg\" xmlns:xlink=\"http://www.w3.org/1999/xlink\" width=\"547pt\" height=\"131pt\" viewBox=\"0.00 0.00 547.00 131.00\">\n",
       "<g id=\"graph0\" class=\"graph\" transform=\"scale(1 1) rotate(0) translate(4 127)\">\n",
       "<title>counts</title>\n",
       "<polygon fill=\"white\" stroke=\"transparent\" points=\"-4,4 -4,-127 543,-127 543,4 -4,4\"/>\n",
       "<!-- b0 -->\n",
       "<g id=\"node1\" class=\"node\">\n",
       "<title>b0</title>\n",
       "<polygon fill=\"none\" stroke=\"black\" points=\"516.5,-123 19.5,-123 19.5,-87 516.5,-87 516.5,-123\"/>\n",
       "<text text-anchor=\"start\" x=\"247\" y=\"-106.8\" font-family=\"Times,serif\" font-size=\"14.00\">QROM</text>\n",
       "<text text-anchor=\"start\" x=\"27.5\" y=\"-96\" font-family=\"monospace\" font-size=\"10.00\">data=(array([ ..., selection_bitsizes=(3,), target_bitsizes=(3,), num_controls=0</text>\n",
       "</g>\n",
       "<!-- b1 -->\n",
       "<g id=\"node2\" class=\"node\">\n",
       "<title>b1</title>\n",
       "<polygon fill=\"none\" stroke=\"black\" points=\"54,-36 0,-36 0,0 54,0 54,-36\"/>\n",
       "<text text-anchor=\"start\" x=\"9\" y=\"-14.3\" font-family=\"Times,serif\" font-size=\"14.00\">XGate</text>\n",
       "</g>\n",
       "<!-- b0&#45;&gt;b1 -->\n",
       "<g id=\"edge1\" class=\"edge\">\n",
       "<title>b0-&gt;b1</title>\n",
       "<path fill=\"none\" stroke=\"black\" d=\"M210.34,-86.92C171.15,-74.85 118.1,-57.59 63.8,-36.11\"/>\n",
       "<polygon fill=\"black\" stroke=\"black\" points=\"64.95,-32.8 54.37,-32.34 62.35,-39.3 64.95,-32.8\"/>\n",
       "<text text-anchor=\"middle\" x=\"156.5\" y=\"-57.8\" font-family=\"Times,serif\" font-size=\"14.00\">2</text>\n",
       "</g>\n",
       "<!-- b2 -->\n",
       "<g id=\"node3\" class=\"node\">\n",
       "<title>b2</title>\n",
       "<polygon fill=\"none\" stroke=\"black\" points=\"257.5,-36 72.5,-36 72.5,0 257.5,0 257.5,-36\"/>\n",
       "<text text-anchor=\"start\" x=\"149.5\" y=\"-19.8\" font-family=\"Times,serif\" font-size=\"14.00\">And†</text>\n",
       "<text text-anchor=\"start\" x=\"80.5\" y=\"-9\" font-family=\"monospace\" font-size=\"10.00\">cv1=1, cv2=1, uncompute=True</text>\n",
       "</g>\n",
       "<!-- b0&#45;&gt;b2 -->\n",
       "<g id=\"edge2\" class=\"edge\">\n",
       "<title>b0-&gt;b2</title>\n",
       "<path fill=\"none\" stroke=\"black\" d=\"M247.16,-86.8C231.8,-74.13 210.72,-56.73 193.76,-42.74\"/>\n",
       "<polygon fill=\"black\" stroke=\"black\" points=\"195.75,-39.84 185.81,-36.18 191.3,-45.24 195.75,-39.84\"/>\n",
       "<text text-anchor=\"middle\" x=\"226.5\" y=\"-57.8\" font-family=\"Times,serif\" font-size=\"14.00\">3</text>\n",
       "</g>\n",
       "<!-- b3 -->\n",
       "<g id=\"node4\" class=\"node\">\n",
       "<title>b3</title>\n",
       "<polygon fill=\"none\" stroke=\"black\" points=\"466.5,-36 275.5,-36 275.5,0 466.5,0 466.5,-36\"/>\n",
       "<text text-anchor=\"start\" x=\"359\" y=\"-19.8\" font-family=\"Times,serif\" font-size=\"14.00\">And</text>\n",
       "<text text-anchor=\"start\" x=\"283.5\" y=\"-9\" font-family=\"monospace\" font-size=\"10.00\">cv1=1, cv2=0, uncompute=False</text>\n",
       "</g>\n",
       "<!-- b0&#45;&gt;b3 -->\n",
       "<g id=\"edge3\" class=\"edge\">\n",
       "<title>b0-&gt;b3</title>\n",
       "<path fill=\"none\" stroke=\"black\" d=\"M288.84,-86.8C304.2,-74.13 325.28,-56.73 342.24,-42.74\"/>\n",
       "<polygon fill=\"black\" stroke=\"black\" points=\"344.7,-45.24 350.19,-36.18 340.25,-39.84 344.7,-45.24\"/>\n",
       "<text text-anchor=\"middle\" x=\"329.5\" y=\"-57.8\" font-family=\"Times,serif\" font-size=\"14.00\">3</text>\n",
       "</g>\n",
       "<!-- b4 -->\n",
       "<g id=\"node5\" class=\"node\">\n",
       "<title>b4</title>\n",
       "<polygon fill=\"none\" stroke=\"black\" points=\"539,-36 485,-36 485,0 539,0 539,-36\"/>\n",
       "<text text-anchor=\"start\" x=\"493.5\" y=\"-14.3\" font-family=\"Times,serif\" font-size=\"14.00\">CNOT</text>\n",
       "</g>\n",
       "<!-- b0&#45;&gt;b4 -->\n",
       "<g id=\"edge4\" class=\"edge\">\n",
       "<title>b0-&gt;b4</title>\n",
       "<path fill=\"none\" stroke=\"black\" d=\"M325.73,-86.96C367.6,-74.14 425.35,-55.49 475,-36 475.1,-35.96 475.2,-35.92 475.3,-35.88\"/>\n",
       "<polygon fill=\"black\" stroke=\"black\" points=\"476.79,-39.05 484.67,-31.98 474.09,-32.59 476.79,-39.05\"/>\n",
       "<text text-anchor=\"middle\" x=\"428.5\" y=\"-57.8\" font-family=\"Times,serif\" font-size=\"14.00\">8</text>\n",
       "</g>\n",
       "</g>\n",
       "</svg>"
      ],
      "text/plain": [
       "<IPython.core.display.SVG object>"
      ]
     },
     "metadata": {},
     "output_type": "display_data"
    },
    {
     "data": {
      "text/markdown": [
       "#### Counts totals:\n",
       " - `And(cv1=1, cv2=0, uncompute=False)`: 3\n",
       " - `And(cv1=1, cv2=1, uncompute=True)`: 3\n",
       " - `CNOT()`: 8\n",
       " - `XGate()`: 2"
      ],
      "text/plain": [
       "<IPython.core.display.Markdown object>"
      ]
     },
     "metadata": {},
     "output_type": "display_data"
    }
   ],
   "source": [
    "from qualtran.resource_counting.generalizers import ignore_split_join\n",
    "qrom_small_g, qrom_small_sigma = qrom_small.call_graph(max_depth=1, generalizer=ignore_split_join)\n",
    "show_call_graph(qrom_small_g)\n",
    "show_counts_sigma(qrom_small_sigma)"
   ]
  }
 ],
 "metadata": {
  "kernelspec": {
   "display_name": "Python 3 (ipykernel)",
   "language": "python",
   "name": "python3"
  },
  "language_info": {
   "codemirror_mode": {
    "name": "ipython",
    "version": 3
   },
   "file_extension": ".py",
   "mimetype": "text/x-python",
   "name": "python",
   "nbconvert_exporter": "python",
   "pygments_lexer": "ipython3",
   "version": "3.11.8"
  },
  "widgets": {
   "application/vnd.jupyter.widget-state+json": {
    "state": {
     "110459164acb4f50988c84a1175c331a": {
      "model_module": "@jupyter-widgets/output",
      "model_module_version": "1.0.0",
      "model_name": "OutputModel",
      "state": {
       "_dom_classes": [],
       "_model_module": "@jupyter-widgets/output",
       "_model_module_version": "1.0.0",
       "_model_name": "OutputModel",
       "_view_count": null,
       "_view_module": "@jupyter-widgets/output",
       "_view_module_version": "1.0.0",
       "_view_name": "OutputView",
       "layout": "IPY_MODEL_70f8aa5e5a754d6da56faa53042ed55b",
       "msg_id": "",
       "outputs": [
        {
         "data": {
          "text/markdown": "`qrom_multi_dim`",
          "text/plain": "<IPython.core.display.Markdown object>"
         },
         "metadata": {},
         "output_type": "display_data"
        },
        {
         "data": {
          "image/svg+xml": "<svg xmlns=\"http://www.w3.org/2000/svg\" xmlns:xlink=\"http://www.w3.org/1999/xlink\" width=\"285pt\" height=\"206pt\" viewBox=\"0.00 0.00 285.00 206.00\">\n<g id=\"graph0\" class=\"graph\" transform=\"scale(1 1) rotate(0) translate(4 202)\">\n<title>my_graph</title>\n<polygon fill=\"white\" stroke=\"transparent\" points=\"-4,4 -4,-202 281,-202 281,4 -4,4\"/>\n<!-- selection0_G10 -->\n<g id=\"node1\" class=\"node\">\n<title>selection0_G10</title>\n<text text-anchor=\"middle\" x=\"35.5\" y=\"-176.3\" font-family=\"Times,serif\" font-size=\"14.00\">selection0</text>\n</g>\n<!-- QROM -->\n<g id=\"node5\" class=\"node\">\n<title>QROM</title>\n<polygon fill=\"none\" stroke=\"black\" points=\"108.5,-141 108.5,-158 169.5,-158 169.5,-141 108.5,-141\"/>\n<text text-anchor=\"start\" x=\"123.5\" y=\"-147\" font-family=\"Times,serif\" font-size=\"10.00\">QROM</text>\n<polygon fill=\"none\" stroke=\"black\" points=\"108.5,-120 108.5,-141 169.5,-141 169.5,-120 108.5,-120\"/>\n<text text-anchor=\"start\" x=\"111.5\" y=\"-126.8\" font-family=\"Times,serif\" font-size=\"14.00\">selection0</text>\n<polygon fill=\"none\" stroke=\"black\" points=\"108.5,-99 108.5,-120 169.5,-120 169.5,-99 108.5,-99\"/>\n<text text-anchor=\"start\" x=\"111.5\" y=\"-105.8\" font-family=\"Times,serif\" font-size=\"14.00\">selection1</text>\n<polygon fill=\"none\" stroke=\"black\" points=\"108.5,-78 108.5,-99 169.5,-99 169.5,-78 108.5,-78\"/>\n<text text-anchor=\"start\" x=\"116.5\" y=\"-84.8\" font-family=\"Times,serif\" font-size=\"14.00\">target0_</text>\n<polygon fill=\"none\" stroke=\"black\" points=\"108.5,-57 108.5,-78 169.5,-78 169.5,-57 108.5,-57\"/>\n<text text-anchor=\"start\" x=\"116.5\" y=\"-63.8\" font-family=\"Times,serif\" font-size=\"14.00\">target1_</text>\n</g>\n<!-- selection0_G10&#45;&gt;QROM -->\n<g id=\"edge1\" class=\"edge\">\n<title>selection0_G10:e-&gt;QROM:w</title>\n<path fill=\"none\" stroke=\"black\" d=\"M71,-180C97.54,-180 81.64,-133.64 105.86,-131.11\"/>\n<ellipse fill=\"black\" stroke=\"black\" cx=\"107\" cy=\"-131.05\" rx=\"1\" ry=\"1\"/>\n<text text-anchor=\"middle\" x=\"89.5\" y=\"-159\" font-family=\"Times,serif\" font-size=\"10.00\">2</text>\n</g>\n<!-- selection1_G11 -->\n<g id=\"node2\" class=\"node\">\n<title>selection1_G11</title>\n<text text-anchor=\"middle\" x=\"35.5\" y=\"-122.3\" font-family=\"Times,serif\" font-size=\"14.00\">selection1</text>\n</g>\n<!-- selection1_G11&#45;&gt;QROM -->\n<g id=\"edge2\" class=\"edge\">\n<title>selection1_G11:e-&gt;QROM:w</title>\n<path fill=\"none\" stroke=\"black\" d=\"M71,-126C88.22,-126 89.97,-111.23 105.98,-110.07\"/>\n<ellipse fill=\"black\" stroke=\"black\" cx=\"107\" cy=\"-110.04\" rx=\"1\" ry=\"1\"/>\n<text text-anchor=\"middle\" x=\"89.5\" y=\"-121\" font-family=\"Times,serif\" font-size=\"10.00\">2</text>\n</g>\n<!-- target0__G4 -->\n<g id=\"node3\" class=\"node\">\n<title>target0__G4</title>\n<text text-anchor=\"middle\" x=\"35.5\" y=\"-68.3\" font-family=\"Times,serif\" font-size=\"14.00\">target0_</text>\n</g>\n<!-- target0__G4&#45;&gt;QROM -->\n<g id=\"edge3\" class=\"edge\">\n<title>target0__G4:e-&gt;QROM:w</title>\n<path fill=\"none\" stroke=\"black\" d=\"M67.5,-72C86.1,-72 88.48,-86.77 105.81,-87.93\"/>\n<ellipse fill=\"black\" stroke=\"black\" cx=\"107\" cy=\"-87.97\" rx=\"1\" ry=\"1\"/>\n<text text-anchor=\"middle\" x=\"89.5\" y=\"-84\" font-family=\"Times,serif\" font-size=\"10.00\">8</text>\n</g>\n<!-- target1__G1 -->\n<g id=\"node4\" class=\"node\">\n<title>target1__G1</title>\n<text text-anchor=\"middle\" x=\"35.5\" y=\"-14.3\" font-family=\"Times,serif\" font-size=\"14.00\">target1_</text>\n</g>\n<!-- target1__G1&#45;&gt;QROM -->\n<g id=\"edge4\" class=\"edge\">\n<title>target1__G1:e-&gt;QROM:w</title>\n<path fill=\"none\" stroke=\"black\" d=\"M67.5,-18C94.98,-18 80.59,-64.36 105.78,-66.89\"/>\n<ellipse fill=\"black\" stroke=\"black\" cx=\"107\" cy=\"-66.95\" rx=\"1\" ry=\"1\"/>\n<text text-anchor=\"middle\" x=\"89.5\" y=\"-53\" font-family=\"Times,serif\" font-size=\"10.00\">8</text>\n</g>\n<!-- selection0_G5 -->\n<g id=\"node6\" class=\"node\">\n<title>selection0_G5</title>\n<text text-anchor=\"middle\" x=\"241.5\" y=\"-176.3\" font-family=\"Times,serif\" font-size=\"14.00\">selection0</text>\n</g>\n<!-- QROM&#45;&gt;selection0_G5 -->\n<g id=\"edge5\" class=\"edge\">\n<title>QROM:e-&gt;selection0_G5:w</title>\n<path fill=\"none\" stroke=\"black\" d=\"M169,-131C195.54,-131 179.64,-177.36 203.86,-179.89\"/>\n<ellipse fill=\"black\" stroke=\"black\" cx=\"205\" cy=\"-179.95\" rx=\"1\" ry=\"1\"/>\n<text text-anchor=\"middle\" x=\"187.5\" y=\"-159\" font-family=\"Times,serif\" font-size=\"10.00\">2</text>\n</g>\n<!-- selection1_G6 -->\n<g id=\"node7\" class=\"node\">\n<title>selection1_G6</title>\n<text text-anchor=\"middle\" x=\"241.5\" y=\"-122.3\" font-family=\"Times,serif\" font-size=\"14.00\">selection1</text>\n</g>\n<!-- QROM&#45;&gt;selection1_G6 -->\n<g id=\"edge6\" class=\"edge\">\n<title>QROM:e-&gt;selection1_G6:w</title>\n<path fill=\"none\" stroke=\"black\" d=\"M169,-110C186.22,-110 187.97,-124.77 203.98,-125.93\"/>\n<ellipse fill=\"black\" stroke=\"black\" cx=\"205\" cy=\"-125.96\" rx=\"1\" ry=\"1\"/>\n<text text-anchor=\"middle\" x=\"187.5\" y=\"-121\" font-family=\"Times,serif\" font-size=\"10.00\">2</text>\n</g>\n<!-- target0__G2 -->\n<g id=\"node8\" class=\"node\">\n<title>target0__G2</title>\n<text text-anchor=\"middle\" x=\"241.5\" y=\"-68.3\" font-family=\"Times,serif\" font-size=\"14.00\">target0_</text>\n</g>\n<!-- QROM&#45;&gt;target0__G2 -->\n<g id=\"edge7\" class=\"edge\">\n<title>QROM:e-&gt;target0__G2:w</title>\n<path fill=\"none\" stroke=\"black\" d=\"M169,-88C187.6,-88 189.98,-73.23 207.31,-72.07\"/>\n<ellipse fill=\"black\" stroke=\"black\" cx=\"208.5\" cy=\"-72.03\" rx=\"1\" ry=\"1\"/>\n<text text-anchor=\"middle\" x=\"187.5\" y=\"-84\" font-family=\"Times,serif\" font-size=\"10.00\">8</text>\n</g>\n<!-- target1__G7 -->\n<g id=\"node9\" class=\"node\">\n<title>target1__G7</title>\n<text text-anchor=\"middle\" x=\"241.5\" y=\"-14.3\" font-family=\"Times,serif\" font-size=\"14.00\">target1_</text>\n</g>\n<!-- QROM&#45;&gt;target1__G7 -->\n<g id=\"edge8\" class=\"edge\">\n<title>QROM:e-&gt;target1__G7:w</title>\n<path fill=\"none\" stroke=\"black\" d=\"M169,-67C196.48,-67 182.09,-20.64 207.28,-18.11\"/>\n<ellipse fill=\"black\" stroke=\"black\" cx=\"208.5\" cy=\"-18.05\" rx=\"1\" ry=\"1\"/>\n<text text-anchor=\"middle\" x=\"187.5\" y=\"-53\" font-family=\"Times,serif\" font-size=\"10.00\">8</text>\n</g>\n</g>\n</svg>",
          "text/plain": "<IPython.core.display.SVG object>"
         },
         "metadata": {},
         "output_type": "display_data"
        }
       ],
       "tabbable": null,
       "tooltip": null
      }
     },
     "172418b6b5ee48d5963e119b30b5b78e": {
      "model_module": "@jupyter-widgets/base",
      "model_module_version": "2.0.0",
      "model_name": "LayoutModel",
      "state": {
       "_model_module": "@jupyter-widgets/base",
       "_model_module_version": "2.0.0",
       "_model_name": "LayoutModel",
       "_view_count": null,
       "_view_module": "@jupyter-widgets/base",
       "_view_module_version": "2.0.0",
       "_view_name": "LayoutView",
       "align_content": null,
       "align_items": null,
       "align_self": null,
       "border_bottom": null,
       "border_left": null,
       "border_right": null,
       "border_top": null,
       "bottom": null,
       "display": null,
       "flex": null,
       "flex_flow": null,
       "grid_area": null,
       "grid_auto_columns": null,
       "grid_auto_flow": null,
       "grid_auto_rows": null,
       "grid_column": null,
       "grid_gap": null,
       "grid_row": null,
       "grid_template_areas": null,
       "grid_template_columns": null,
       "grid_template_rows": null,
       "height": null,
       "justify_content": null,
       "justify_items": null,
       "left": null,
       "margin": null,
       "max_height": null,
       "max_width": null,
       "min_height": null,
       "min_width": null,
       "object_fit": null,
       "object_position": null,
       "order": null,
       "overflow": null,
       "padding": null,
       "right": null,
       "top": null,
       "visibility": null,
       "width": null
      }
     },
     "1a38e54e438e4801b5f8e974689be6fc": {
      "model_module": "@jupyter-widgets/output",
      "model_module_version": "1.0.0",
      "model_name": "OutputModel",
      "state": {
       "_dom_classes": [],
       "_model_module": "@jupyter-widgets/output",
       "_model_module_version": "1.0.0",
       "_model_name": "OutputModel",
       "_view_count": null,
       "_view_module": "@jupyter-widgets/output",
       "_view_module_version": "1.0.0",
       "_view_name": "OutputView",
       "layout": "IPY_MODEL_172418b6b5ee48d5963e119b30b5b78e",
       "msg_id": "",
       "outputs": [
        {
         "data": {
          "text/markdown": "`qrom_multi_data`",
          "text/plain": "<IPython.core.display.Markdown object>"
         },
         "metadata": {},
         "output_type": "display_data"
        },
        {
         "data": {
          "image/svg+xml": "<svg xmlns=\"http://www.w3.org/2000/svg\" xmlns:xlink=\"http://www.w3.org/1999/xlink\" width=\"267pt\" height=\"152pt\" viewBox=\"0.00 0.00 267.00 152.00\">\n<g id=\"graph0\" class=\"graph\" transform=\"scale(1 1) rotate(0) translate(4 148)\">\n<title>my_graph</title>\n<polygon fill=\"white\" stroke=\"transparent\" points=\"-4,4 -4,-148 263,-148 263,4 -4,4\"/>\n<!-- selection_G2 -->\n<g id=\"node1\" class=\"node\">\n<title>selection_G2</title>\n<text text-anchor=\"middle\" x=\"32.5\" y=\"-122.3\" font-family=\"Times,serif\" font-size=\"14.00\">selection</text>\n</g>\n<!-- QROM -->\n<g id=\"node4\" class=\"node\">\n<title>QROM</title>\n<polygon fill=\"none\" stroke=\"black\" points=\"102.5,-104 102.5,-121 157.5,-121 157.5,-104 102.5,-104\"/>\n<text text-anchor=\"start\" x=\"114.5\" y=\"-110\" font-family=\"Times,serif\" font-size=\"10.00\">QROM</text>\n<polygon fill=\"none\" stroke=\"black\" points=\"102.5,-83 102.5,-104 157.5,-104 157.5,-83 102.5,-83\"/>\n<text text-anchor=\"start\" x=\"105.5\" y=\"-89.8\" font-family=\"Times,serif\" font-size=\"14.00\">selection</text>\n<polygon fill=\"none\" stroke=\"black\" points=\"102.5,-62 102.5,-83 157.5,-83 157.5,-62 102.5,-62\"/>\n<text text-anchor=\"start\" x=\"107.5\" y=\"-68.8\" font-family=\"Times,serif\" font-size=\"14.00\">target0_</text>\n<polygon fill=\"none\" stroke=\"black\" points=\"102.5,-41 102.5,-62 157.5,-62 157.5,-41 102.5,-41\"/>\n<text text-anchor=\"start\" x=\"107.5\" y=\"-47.8\" font-family=\"Times,serif\" font-size=\"14.00\">target1_</text>\n</g>\n<!-- selection_G2&#45;&gt;QROM -->\n<g id=\"edge1\" class=\"edge\">\n<title>selection_G2:e-&gt;QROM:w</title>\n<path fill=\"none\" stroke=\"black\" d=\"M65,-126C85.89,-126 80.72,-96.45 99.58,-94.14\"/>\n<ellipse fill=\"black\" stroke=\"black\" cx=\"101\" cy=\"-94.06\" rx=\"1\" ry=\"1\"/>\n<text text-anchor=\"middle\" x=\"83.5\" y=\"-113\" font-family=\"Times,serif\" font-size=\"10.00\">3</text>\n</g>\n<!-- target0__G5 -->\n<g id=\"node2\" class=\"node\">\n<title>target0__G5</title>\n<text text-anchor=\"middle\" x=\"32.5\" y=\"-68.3\" font-family=\"Times,serif\" font-size=\"14.00\">target0_</text>\n</g>\n<!-- target0__G5&#45;&gt;QROM -->\n<g id=\"edge2\" class=\"edge\">\n<title>target0__G5:e-&gt;QROM:w</title>\n<path fill=\"none\" stroke=\"black\" d=\"M64.5,-72C80.39,-72 84.92,-72 99.74,-72\"/>\n<ellipse fill=\"black\" stroke=\"black\" cx=\"101\" cy=\"-72\" rx=\"1\" ry=\"1\"/>\n<text text-anchor=\"middle\" x=\"83.5\" y=\"-75\" font-family=\"Times,serif\" font-size=\"10.00\">3</text>\n</g>\n<!-- target1__G7 -->\n<g id=\"node3\" class=\"node\">\n<title>target1__G7</title>\n<text text-anchor=\"middle\" x=\"32.5\" y=\"-14.3\" font-family=\"Times,serif\" font-size=\"14.00\">target1_</text>\n</g>\n<!-- target1__G7&#45;&gt;QROM -->\n<g id=\"edge3\" class=\"edge\">\n<title>target1__G7:e-&gt;QROM:w</title>\n<path fill=\"none\" stroke=\"black\" d=\"M64.5,-18C86.01,-18 80.2,-48.97 100,-50.91\"/>\n<ellipse fill=\"black\" stroke=\"black\" cx=\"101\" cy=\"-50.95\" rx=\"1\" ry=\"1\"/>\n<text text-anchor=\"middle\" x=\"83.5\" y=\"-39\" font-family=\"Times,serif\" font-size=\"10.00\">4</text>\n</g>\n<!-- selection_G8 -->\n<g id=\"node5\" class=\"node\">\n<title>selection_G8</title>\n<text text-anchor=\"middle\" x=\"226.5\" y=\"-122.3\" font-family=\"Times,serif\" font-size=\"14.00\">selection</text>\n</g>\n<!-- QROM&#45;&gt;selection_G8 -->\n<g id=\"edge4\" class=\"edge\">\n<title>QROM:e-&gt;selection_G8:w</title>\n<path fill=\"none\" stroke=\"black\" d=\"M157,-94C177.89,-94 172.72,-123.55 191.58,-125.86\"/>\n<ellipse fill=\"black\" stroke=\"black\" cx=\"193\" cy=\"-125.94\" rx=\"1\" ry=\"1\"/>\n<text text-anchor=\"middle\" x=\"175.5\" y=\"-113\" font-family=\"Times,serif\" font-size=\"10.00\">3</text>\n</g>\n<!-- target0__G0 -->\n<g id=\"node6\" class=\"node\">\n<title>target0__G0</title>\n<text text-anchor=\"middle\" x=\"226.5\" y=\"-68.3\" font-family=\"Times,serif\" font-size=\"14.00\">target0_</text>\n</g>\n<!-- QROM&#45;&gt;target0__G0 -->\n<g id=\"edge5\" class=\"edge\">\n<title>QROM:e-&gt;target0__G0:w</title>\n<path fill=\"none\" stroke=\"black\" d=\"M157,-72C172.89,-72 177.42,-72 192.24,-72\"/>\n<ellipse fill=\"black\" stroke=\"black\" cx=\"193.5\" cy=\"-72\" rx=\"1\" ry=\"1\"/>\n<text text-anchor=\"middle\" x=\"175.5\" y=\"-75\" font-family=\"Times,serif\" font-size=\"10.00\">3</text>\n</g>\n<!-- target1__G4 -->\n<g id=\"node7\" class=\"node\">\n<title>target1__G4</title>\n<text text-anchor=\"middle\" x=\"226.5\" y=\"-14.3\" font-family=\"Times,serif\" font-size=\"14.00\">target1_</text>\n</g>\n<!-- QROM&#45;&gt;target1__G4 -->\n<g id=\"edge6\" class=\"edge\">\n<title>QROM:e-&gt;target1__G4:w</title>\n<path fill=\"none\" stroke=\"black\" d=\"M157,-51C178.51,-51 172.7,-20.03 192.5,-18.09\"/>\n<ellipse fill=\"black\" stroke=\"black\" cx=\"193.5\" cy=\"-18.05\" rx=\"1\" ry=\"1\"/>\n<text text-anchor=\"middle\" x=\"175.5\" y=\"-39\" font-family=\"Times,serif\" font-size=\"10.00\">4</text>\n</g>\n</g>\n</svg>",
          "text/plain": "<IPython.core.display.SVG object>"
         },
         "metadata": {},
         "output_type": "display_data"
        }
       ],
       "tabbable": null,
       "tooltip": null
      }
     },
     "1c971ffa28a744c6894ab8e467bc083d": {
      "model_module": "@jupyter-widgets/base",
      "model_module_version": "2.0.0",
      "model_name": "LayoutModel",
      "state": {
       "_model_module": "@jupyter-widgets/base",
       "_model_module_version": "2.0.0",
       "_model_name": "LayoutModel",
       "_view_count": null,
       "_view_module": "@jupyter-widgets/base",
       "_view_module_version": "2.0.0",
       "_view_name": "LayoutView",
       "align_content": null,
       "align_items": null,
       "align_self": null,
       "border_bottom": null,
       "border_left": null,
       "border_right": null,
       "border_top": null,
       "bottom": null,
       "display": null,
       "flex": null,
       "flex_flow": null,
       "grid_area": null,
       "grid_auto_columns": null,
       "grid_auto_flow": null,
       "grid_auto_rows": null,
       "grid_column": null,
       "grid_gap": null,
       "grid_row": null,
       "grid_template_areas": null,
       "grid_template_columns": null,
       "grid_template_rows": null,
       "height": null,
       "justify_content": null,
       "justify_items": null,
       "left": null,
       "margin": null,
       "max_height": null,
       "max_width": null,
       "min_height": null,
       "min_width": null,
       "object_fit": null,
       "object_position": null,
       "order": null,
       "overflow": null,
       "padding": null,
       "right": null,
       "top": null,
       "visibility": null,
       "width": null
      }
     },
     "3ccefa3c1647437eb142ada20ef0f462": {
      "model_module": "@jupyter-widgets/controls",
      "model_module_version": "2.0.0",
      "model_name": "HBoxModel",
      "state": {
       "_dom_classes": [],
       "_model_module": "@jupyter-widgets/controls",
       "_model_module_version": "2.0.0",
       "_model_name": "HBoxModel",
       "_view_count": null,
       "_view_module": "@jupyter-widgets/controls",
       "_view_module_version": "2.0.0",
       "_view_name": "HBoxView",
       "box_style": "",
       "children": [
        "IPY_MODEL_ec03926b882f4eae8938cc14dd14cfac",
        "IPY_MODEL_1a38e54e438e4801b5f8e974689be6fc",
        "IPY_MODEL_110459164acb4f50988c84a1175c331a"
       ],
       "layout": "IPY_MODEL_921b1c80eed54d4bb17707dc7fdfe331",
       "tabbable": null,
       "tooltip": null
      }
     },
     "70f8aa5e5a754d6da56faa53042ed55b": {
      "model_module": "@jupyter-widgets/base",
      "model_module_version": "2.0.0",
      "model_name": "LayoutModel",
      "state": {
       "_model_module": "@jupyter-widgets/base",
       "_model_module_version": "2.0.0",
       "_model_name": "LayoutModel",
       "_view_count": null,
       "_view_module": "@jupyter-widgets/base",
       "_view_module_version": "2.0.0",
       "_view_name": "LayoutView",
       "align_content": null,
       "align_items": null,
       "align_self": null,
       "border_bottom": null,
       "border_left": null,
       "border_right": null,
       "border_top": null,
       "bottom": null,
       "display": null,
       "flex": null,
       "flex_flow": null,
       "grid_area": null,
       "grid_auto_columns": null,
       "grid_auto_flow": null,
       "grid_auto_rows": null,
       "grid_column": null,
       "grid_gap": null,
       "grid_row": null,
       "grid_template_areas": null,
       "grid_template_columns": null,
       "grid_template_rows": null,
       "height": null,
       "justify_content": null,
       "justify_items": null,
       "left": null,
       "margin": null,
       "max_height": null,
       "max_width": null,
       "min_height": null,
       "min_width": null,
       "object_fit": null,
       "object_position": null,
       "order": null,
       "overflow": null,
       "padding": null,
       "right": null,
       "top": null,
       "visibility": null,
       "width": null
      }
     },
     "921b1c80eed54d4bb17707dc7fdfe331": {
      "model_module": "@jupyter-widgets/base",
      "model_module_version": "2.0.0",
      "model_name": "LayoutModel",
      "state": {
       "_model_module": "@jupyter-widgets/base",
       "_model_module_version": "2.0.0",
       "_model_name": "LayoutModel",
       "_view_count": null,
       "_view_module": "@jupyter-widgets/base",
       "_view_module_version": "2.0.0",
       "_view_name": "LayoutView",
       "align_content": null,
       "align_items": null,
       "align_self": null,
       "border_bottom": null,
       "border_left": null,
       "border_right": null,
       "border_top": null,
       "bottom": null,
       "display": null,
       "flex": null,
       "flex_flow": null,
       "grid_area": null,
       "grid_auto_columns": null,
       "grid_auto_flow": null,
       "grid_auto_rows": null,
       "grid_column": null,
       "grid_gap": null,
       "grid_row": null,
       "grid_template_areas": null,
       "grid_template_columns": null,
       "grid_template_rows": null,
       "height": null,
       "justify_content": null,
       "justify_items": null,
       "left": null,
       "margin": null,
       "max_height": null,
       "max_width": null,
       "min_height": null,
       "min_width": null,
       "object_fit": null,
       "object_position": null,
       "order": null,
       "overflow": null,
       "padding": null,
       "right": null,
       "top": null,
       "visibility": null,
       "width": null
      }
     },
     "ec03926b882f4eae8938cc14dd14cfac": {
      "model_module": "@jupyter-widgets/output",
      "model_module_version": "1.0.0",
      "model_name": "OutputModel",
      "state": {
       "_dom_classes": [],
       "_model_module": "@jupyter-widgets/output",
       "_model_module_version": "1.0.0",
       "_model_name": "OutputModel",
       "_view_count": null,
       "_view_module": "@jupyter-widgets/output",
       "_view_module_version": "1.0.0",
       "_view_name": "OutputView",
       "layout": "IPY_MODEL_1c971ffa28a744c6894ab8e467bc083d",
       "msg_id": "",
       "outputs": [
        {
         "data": {
          "text/markdown": "`qrom_small`",
          "text/plain": "<IPython.core.display.Markdown object>"
         },
         "metadata": {},
         "output_type": "display_data"
        },
        {
         "data": {
          "image/svg+xml": "<svg xmlns=\"http://www.w3.org/2000/svg\" xmlns:xlink=\"http://www.w3.org/1999/xlink\" width=\"267pt\" height=\"98pt\" viewBox=\"0.00 0.00 267.00 98.00\">\n<g id=\"graph0\" class=\"graph\" transform=\"scale(1 1) rotate(0) translate(4 94)\">\n<title>my_graph</title>\n<polygon fill=\"white\" stroke=\"transparent\" points=\"-4,4 -4,-94 263,-94 263,4 -4,4\"/>\n<!-- selection_G5 -->\n<g id=\"node1\" class=\"node\">\n<title>selection_G5</title>\n<text text-anchor=\"middle\" x=\"32.5\" y=\"-68.3\" font-family=\"Times,serif\" font-size=\"14.00\">selection</text>\n</g>\n<!-- QROM -->\n<g id=\"node3\" class=\"node\">\n<title>QROM</title>\n<polygon fill=\"none\" stroke=\"black\" points=\"102.5,-66 102.5,-83 157.5,-83 157.5,-66 102.5,-66\"/>\n<text text-anchor=\"start\" x=\"114.5\" y=\"-72\" font-family=\"Times,serif\" font-size=\"10.00\">QROM</text>\n<polygon fill=\"none\" stroke=\"black\" points=\"102.5,-45 102.5,-66 157.5,-66 157.5,-45 102.5,-45\"/>\n<text text-anchor=\"start\" x=\"105.5\" y=\"-51.8\" font-family=\"Times,serif\" font-size=\"14.00\">selection</text>\n<polygon fill=\"none\" stroke=\"black\" points=\"102.5,-24 102.5,-45 157.5,-45 157.5,-24 102.5,-24\"/>\n<text text-anchor=\"start\" x=\"107.5\" y=\"-30.8\" font-family=\"Times,serif\" font-size=\"14.00\">target0_</text>\n</g>\n<!-- selection_G5&#45;&gt;QROM -->\n<g id=\"edge1\" class=\"edge\">\n<title>selection_G5:e-&gt;QROM:w</title>\n<path fill=\"none\" stroke=\"black\" d=\"M65,-72C82.22,-72 83.97,-57.23 99.98,-56.07\"/>\n<ellipse fill=\"black\" stroke=\"black\" cx=\"101\" cy=\"-56.04\" rx=\"1\" ry=\"1\"/>\n<text text-anchor=\"middle\" x=\"83.5\" y=\"-67\" font-family=\"Times,serif\" font-size=\"10.00\">3</text>\n</g>\n<!-- target0__G2 -->\n<g id=\"node2\" class=\"node\">\n<title>target0__G2</title>\n<text text-anchor=\"middle\" x=\"32.5\" y=\"-14.3\" font-family=\"Times,serif\" font-size=\"14.00\">target0_</text>\n</g>\n<!-- target0__G2&#45;&gt;QROM -->\n<g id=\"edge2\" class=\"edge\">\n<title>target0__G2:e-&gt;QROM:w</title>\n<path fill=\"none\" stroke=\"black\" d=\"M64.5,-18C81.91,-18 83.76,-32.77 99.95,-33.93\"/>\n<ellipse fill=\"black\" stroke=\"black\" cx=\"101\" cy=\"-33.97\" rx=\"1\" ry=\"1\"/>\n<text text-anchor=\"middle\" x=\"83.5\" y=\"-30\" font-family=\"Times,serif\" font-size=\"10.00\">3</text>\n</g>\n<!-- selection_G1 -->\n<g id=\"node4\" class=\"node\">\n<title>selection_G1</title>\n<text text-anchor=\"middle\" x=\"226.5\" y=\"-68.3\" font-family=\"Times,serif\" font-size=\"14.00\">selection</text>\n</g>\n<!-- QROM&#45;&gt;selection_G1 -->\n<g id=\"edge3\" class=\"edge\">\n<title>QROM:e-&gt;selection_G1:w</title>\n<path fill=\"none\" stroke=\"black\" d=\"M157,-56C174.22,-56 175.97,-70.77 191.98,-71.93\"/>\n<ellipse fill=\"black\" stroke=\"black\" cx=\"193\" cy=\"-71.96\" rx=\"1\" ry=\"1\"/>\n<text text-anchor=\"middle\" x=\"175.5\" y=\"-67\" font-family=\"Times,serif\" font-size=\"10.00\">3</text>\n</g>\n<!-- target0__G4 -->\n<g id=\"node5\" class=\"node\">\n<title>target0__G4</title>\n<text text-anchor=\"middle\" x=\"226.5\" y=\"-14.3\" font-family=\"Times,serif\" font-size=\"14.00\">target0_</text>\n</g>\n<!-- QROM&#45;&gt;target0__G4 -->\n<g id=\"edge4\" class=\"edge\">\n<title>QROM:e-&gt;target0__G4:w</title>\n<path fill=\"none\" stroke=\"black\" d=\"M157,-34C174.41,-34 176.26,-19.23 192.45,-18.07\"/>\n<ellipse fill=\"black\" stroke=\"black\" cx=\"193.5\" cy=\"-18.03\" rx=\"1\" ry=\"1\"/>\n<text text-anchor=\"middle\" x=\"175.5\" y=\"-30\" font-family=\"Times,serif\" font-size=\"10.00\">3</text>\n</g>\n</g>\n</svg>",
          "text/plain": "<IPython.core.display.SVG object>"
         },
         "metadata": {},
         "output_type": "display_data"
        }
       ],
       "tabbable": null,
       "tooltip": null
      }
     }
    },
    "version_major": 2,
    "version_minor": 0
   }
  }
 },
 "nbformat": 4,
 "nbformat_minor": 5
}
