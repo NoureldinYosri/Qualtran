{
 "cells": [
  {
   "cell_type": "code",
   "execution_count": 1,
   "id": "773cf7e2",
   "metadata": {
    "execution": {
     "iopub.execute_input": "2023-10-30T23:24:31.100057Z",
     "iopub.status.busy": "2023-10-30T23:24:31.099646Z",
     "iopub.status.idle": "2023-10-30T23:24:31.104771Z",
     "shell.execute_reply": "2023-10-30T23:24:31.104265Z"
    }
   },
   "outputs": [],
   "source": [
    "#  Copyright 2023 Google LLC\n",
    "#\n",
    "#  Licensed under the Apache License, Version 2.0 (the \"License\");\n",
    "#  you may not use this file except in compliance with the License.\n",
    "#  You may obtain a copy of the License at\n",
    "#\n",
    "#      https://www.apache.org/licenses/LICENSE-2.0\n",
    "#\n",
    "#  Unless required by applicable law or agreed to in writing, software\n",
    "#  distributed under the License is distributed on an \"AS IS\" BASIS,\n",
    "#  WITHOUT WARRANTIES OR CONDITIONS OF ANY KIND, either express or implied.\n",
    "#  See the License for the specific language governing permissions and\n",
    "#  limitations under the License."
   ]
  },
  {
   "cell_type": "markdown",
   "id": "ffe91e97",
   "metadata": {
    "cq.autogen": "title_cell"
   },
   "source": [
    "# QROM"
   ]
  },
  {
   "cell_type": "code",
   "execution_count": 2,
   "id": "2737c79f",
   "metadata": {
    "cq.autogen": "top_imports",
    "execution": {
     "iopub.execute_input": "2023-10-30T23:24:31.107889Z",
     "iopub.status.busy": "2023-10-30T23:24:31.107537Z",
     "iopub.status.idle": "2023-10-30T23:24:33.062192Z",
     "shell.execute_reply": "2023-10-30T23:24:33.061904Z"
    }
   },
   "outputs": [
    {
     "name": "stderr",
     "output_type": "stream",
     "text": [
      "OMP: Info #276: omp_set_nested routine deprecated, please use omp_set_max_active_levels instead.\n"
     ]
    }
   ],
   "source": [
    "import cirq\n",
    "import numpy as np\n",
    "import qualtran.cirq_interop.testing as cq_testing\n",
    "from qualtran.cirq_interop.jupyter_tools import display_gate_and_compilation\n",
    "from typing import *"
   ]
  },
  {
   "cell_type": "markdown",
   "id": "5d6a18ce",
   "metadata": {
    "cq.autogen": "_make_QROM.md"
   },
   "source": [
    "## `QROM`\n",
    "Gate to load data[l] in the target register when the selection stores an index l.\n",
    "\n",
    "In the case of multi-dimensional data[p,q,r,...] we use of multple name\n",
    "selection signature [p, q, r, ...] to index and load the data.\n",
    "\n",
    "#### Parameters\n",
    " - `data`: List of numpy ndarrays specifying the data to load. If the length of this list is greater than one then we use the same selection indices to load each dataset (for example, to load alt and keep data for state preparation). Each data set is required to have the same shape and to be of integer type.\n",
    " - `selection_bitsizes`: The number of bits used to represent each selection register corresponding to the size of each dimension of the array. Should be the same length as the shape of each of the datasets.\n",
    " - `target_bitsizes`: The number of bits used to represent the data signature. This can be deduced from the maximum element of each of the datasets. Should be of length len(data), i.e. the number of datasets.\n",
    " - `num_controls`: The number of control signature.\n"
   ]
  },
  {
   "cell_type": "code",
   "execution_count": 3,
   "id": "7a91a2db",
   "metadata": {
    "cq.autogen": "_make_QROM.py",
    "execution": {
     "iopub.execute_input": "2023-10-30T23:24:33.064092Z",
     "iopub.status.busy": "2023-10-30T23:24:33.063912Z",
     "iopub.status.idle": "2023-10-30T23:24:33.596492Z",
     "shell.execute_reply": "2023-10-30T23:24:33.596182Z"
    }
   },
   "outputs": [
    {
     "data": {
      "application/vnd.jupyter.widget-view+json": {
       "model_id": "6408210327424b3da4e33851bab21159",
       "version_major": 2,
       "version_minor": 0
      },
      "text/plain": [
       "HBox(children=(Output(outputs=({'output_type': 'display_data', 'data': {'text/plain': '<IPython.core.display.S…"
      ]
     },
     "metadata": {},
     "output_type": "display_data"
    }
   ],
   "source": [
    "from qualtran.bloqs.qrom import QROM\n",
    "\n",
    "g = cq_testing.GateHelper(\n",
    "    QROM([np.array([1, 2, 3, 4, 5])], selection_bitsizes=(3,), target_bitsizes=(3,))\n",
    ")\n",
    "\n",
    "display_gate_and_compilation(g)"
   ]
  }
 ],
 "metadata": {
  "kernelspec": {
   "display_name": "Python 3",
   "language": "python",
   "name": "python3"
  },
  "language_info": {
   "codemirror_mode": {
    "name": "ipython",
    "version": 3
   },
   "file_extension": ".py",
   "mimetype": "text/x-python",
   "name": "python",
   "nbconvert_exporter": "python",
   "pygments_lexer": "ipython3",
   "version": "3.10.9"
  },
  "widgets": {
   "application/vnd.jupyter.widget-state+json": {
    "state": {
     "4085a75283064f1bbd77ac2017765da4": {
      "model_module": "@jupyter-widgets/output",
      "model_module_version": "1.0.0",
      "model_name": "OutputModel",
      "state": {
       "_dom_classes": [],
       "_model_module": "@jupyter-widgets/output",
       "_model_module_version": "1.0.0",
       "_model_name": "OutputModel",
       "_view_count": null,
       "_view_module": "@jupyter-widgets/output",
       "_view_module_version": "1.0.0",
       "_view_name": "OutputView",
       "layout": "IPY_MODEL_9c13a7960f7d40a0aaba11b0b702b518",
       "msg_id": "",
       "outputs": [
        {
         "data": {
          "image/svg+xml": "<svg xmlns=\"http://www.w3.org/2000/svg\" width=\"231.44250000000002\" height=\"300.0\"><line x1=\"47.63832031250001\" x2=\"201.44250000000002\" y1=\"25.0\" y2=\"25.0\" stroke=\"#1967d2\" stroke-width=\"1\"/><line x1=\"47.63832031250001\" x2=\"201.44250000000002\" y1=\"75.0\" y2=\"75.0\" stroke=\"#1967d2\" stroke-width=\"1\"/><line x1=\"47.63832031250001\" x2=\"201.44250000000002\" y1=\"125.0\" y2=\"125.0\" stroke=\"#1967d2\" stroke-width=\"1\"/><line x1=\"47.63832031250001\" x2=\"201.44250000000002\" y1=\"175.0\" y2=\"175.0\" stroke=\"#1967d2\" stroke-width=\"1\"/><line x1=\"47.63832031250001\" x2=\"201.44250000000002\" y1=\"225.0\" y2=\"225.0\" stroke=\"#1967d2\" stroke-width=\"1\"/><line x1=\"47.63832031250001\" x2=\"201.44250000000002\" y1=\"275.0\" y2=\"275.0\" stroke=\"#1967d2\" stroke-width=\"1\"/><line x1=\"143.3595703125\" x2=\"143.3595703125\" y1=\"25.0\" y2=\"275.0\" stroke=\"black\" stroke-width=\"3\"/><rect x=\"10.0\" y=\"5.0\" width=\"75.27664062500001\" height=\"40\" stroke=\"black\" fill=\"white\" stroke-width=\"0\"/><text x=\"47.63832031250001\" y=\"25.0\" dominant-baseline=\"middle\" text-anchor=\"middle\" font-size=\"14px\" font-family=\"Arial:style=normal:variant=normal:weight=normal:stretch=normal:size=10.0\">selection0: </text><rect x=\"10.0\" y=\"55.0\" width=\"75.27664062500001\" height=\"40\" stroke=\"black\" fill=\"white\" stroke-width=\"0\"/><text x=\"47.63832031250001\" y=\"75.0\" dominant-baseline=\"middle\" text-anchor=\"middle\" font-size=\"14px\" font-family=\"Arial:style=normal:variant=normal:weight=normal:stretch=normal:size=10.0\">selection1: </text><rect x=\"10.0\" y=\"105.0\" width=\"75.27664062500001\" height=\"40\" stroke=\"black\" fill=\"white\" stroke-width=\"0\"/><text x=\"47.63832031250001\" y=\"125.0\" dominant-baseline=\"middle\" text-anchor=\"middle\" font-size=\"14px\" font-family=\"Arial:style=normal:variant=normal:weight=normal:stretch=normal:size=10.0\">selection2: </text><rect x=\"10.0\" y=\"155.0\" width=\"75.27664062500001\" height=\"40\" stroke=\"black\" fill=\"white\" stroke-width=\"0\"/><text x=\"47.63832031250001\" y=\"175.0\" dominant-baseline=\"middle\" text-anchor=\"middle\" font-size=\"14px\" font-family=\"Arial:style=normal:variant=normal:weight=normal:stretch=normal:size=10.0\">target00: </text><rect x=\"10.0\" y=\"205.0\" width=\"75.27664062500001\" height=\"40\" stroke=\"black\" fill=\"white\" stroke-width=\"0\"/><text x=\"47.63832031250001\" y=\"225.0\" dominant-baseline=\"middle\" text-anchor=\"middle\" font-size=\"14px\" font-family=\"Arial:style=normal:variant=normal:weight=normal:stretch=normal:size=10.0\">target01: </text><rect x=\"10.0\" y=\"255.0\" width=\"75.27664062500001\" height=\"40\" stroke=\"black\" fill=\"white\" stroke-width=\"0\"/><text x=\"47.63832031250001\" y=\"275.0\" dominant-baseline=\"middle\" text-anchor=\"middle\" font-size=\"14px\" font-family=\"Arial:style=normal:variant=normal:weight=normal:stretch=normal:size=10.0\">target02: </text><rect x=\"105.276640625\" y=\"5.0\" width=\"76.16585937500001\" height=\"40\" stroke=\"black\" fill=\"white\" stroke-width=\"1\"/><text x=\"143.3595703125\" y=\"25.0\" dominant-baseline=\"middle\" text-anchor=\"middle\" font-size=\"14px\" font-family=\"Arial:style=normal:variant=normal:weight=normal:stretch=normal:size=10.0\">In['t:12,r:0']</text><rect x=\"105.276640625\" y=\"55.0\" width=\"76.16585937500001\" height=\"40\" stroke=\"black\" fill=\"white\" stroke-width=\"1\"/><text x=\"143.3595703125\" y=\"75.0\" dominant-baseline=\"middle\" text-anchor=\"middle\" font-size=\"14px\" font-family=\"Arial:style=normal:variant=normal:weight=normal:stretch=normal:size=10.0\">In</text><rect x=\"105.276640625\" y=\"105.0\" width=\"76.16585937500001\" height=\"40\" stroke=\"black\" fill=\"white\" stroke-width=\"1\"/><text x=\"143.3595703125\" y=\"125.0\" dominant-baseline=\"middle\" text-anchor=\"middle\" font-size=\"14px\" font-family=\"Arial:style=normal:variant=normal:weight=normal:stretch=normal:size=10.0\">In</text><rect x=\"105.276640625\" y=\"155.0\" width=\"76.16585937500001\" height=\"40\" stroke=\"black\" fill=\"white\" stroke-width=\"1\"/><text x=\"143.3595703125\" y=\"175.0\" dominant-baseline=\"middle\" text-anchor=\"middle\" font-size=\"14px\" font-family=\"Arial:style=normal:variant=normal:weight=normal:stretch=normal:size=10.0\">QROM_0</text><rect x=\"105.276640625\" y=\"205.0\" width=\"76.16585937500001\" height=\"40\" stroke=\"black\" fill=\"white\" stroke-width=\"1\"/><text x=\"143.3595703125\" y=\"225.0\" dominant-baseline=\"middle\" text-anchor=\"middle\" font-size=\"14px\" font-family=\"Arial:style=normal:variant=normal:weight=normal:stretch=normal:size=10.0\">QROM_0</text><rect x=\"105.276640625\" y=\"255.0\" width=\"76.16585937500001\" height=\"40\" stroke=\"black\" fill=\"white\" stroke-width=\"1\"/><text x=\"143.3595703125\" y=\"275.0\" dominant-baseline=\"middle\" text-anchor=\"middle\" font-size=\"14px\" font-family=\"Arial:style=normal:variant=normal:weight=normal:stretch=normal:size=10.0\">QROM_0</text></svg>",
          "text/plain": "<IPython.core.display.SVG object>"
         },
         "metadata": {},
         "output_type": "display_data"
        }
       ],
       "tabbable": null,
       "tooltip": null
      }
     },
     "42b97ebf21db446ea25d85599e20d2a0": {
      "model_module": "@jupyter-widgets/base",
      "model_module_version": "2.0.0",
      "model_name": "LayoutModel",
      "state": {
       "_model_module": "@jupyter-widgets/base",
       "_model_module_version": "2.0.0",
       "_model_name": "LayoutModel",
       "_view_count": null,
       "_view_module": "@jupyter-widgets/base",
       "_view_module_version": "2.0.0",
       "_view_name": "LayoutView",
       "align_content": null,
       "align_items": null,
       "align_self": null,
       "border_bottom": null,
       "border_left": null,
       "border_right": null,
       "border_top": null,
       "bottom": null,
       "display": null,
       "flex": null,
       "flex_flow": null,
       "grid_area": null,
       "grid_auto_columns": null,
       "grid_auto_flow": null,
       "grid_auto_rows": null,
       "grid_column": null,
       "grid_gap": null,
       "grid_row": null,
       "grid_template_areas": null,
       "grid_template_columns": null,
       "grid_template_rows": null,
       "height": null,
       "justify_content": null,
       "justify_items": null,
       "left": null,
       "margin": null,
       "max_height": null,
       "max_width": null,
       "min_height": null,
       "min_width": null,
       "object_fit": null,
       "object_position": null,
       "order": null,
       "overflow": null,
       "padding": null,
       "right": null,
       "top": null,
       "visibility": null,
       "width": null
      }
     },
     "6408210327424b3da4e33851bab21159": {
      "model_module": "@jupyter-widgets/controls",
      "model_module_version": "2.0.0",
      "model_name": "HBoxModel",
      "state": {
       "_dom_classes": [],
       "_model_module": "@jupyter-widgets/controls",
       "_model_module_version": "2.0.0",
       "_model_name": "HBoxModel",
       "_view_count": null,
       "_view_module": "@jupyter-widgets/controls",
       "_view_module_version": "2.0.0",
       "_view_name": "HBoxView",
       "box_style": "",
       "children": [
        "IPY_MODEL_4085a75283064f1bbd77ac2017765da4",
        "IPY_MODEL_7f6f87a14f194b1cabcbc91281c68021"
       ],
       "layout": "IPY_MODEL_42b97ebf21db446ea25d85599e20d2a0",
       "tabbable": null,
       "tooltip": null
      }
     },
     "7f6f87a14f194b1cabcbc91281c68021": {
      "model_module": "@jupyter-widgets/output",
      "model_module_version": "1.0.0",
      "model_name": "OutputModel",
      "state": {
       "_dom_classes": [],
       "_model_module": "@jupyter-widgets/output",
       "_model_module_version": "1.0.0",
       "_model_name": "OutputModel",
       "_view_count": null,
       "_view_module": "@jupyter-widgets/output",
       "_view_module_version": "1.0.0",
       "_view_name": "OutputView",
       "layout": "IPY_MODEL_f7851bb3b256417d9a70f63c53653d14",
       "msg_id": "",
       "outputs": [
        {
         "data": {
          "image/svg+xml": "<svg xmlns=\"http://www.w3.org/2000/svg\" width=\"1896.0821093750003\" height=\"400.0\"><line x1=\"109.05265625000001\" x2=\"1866.0821093750003\" y1=\"25.0\" y2=\"25.0\" stroke=\"#1967d2\" stroke-width=\"1\"/><line x1=\"109.05265625000001\" x2=\"1866.0821093750003\" y1=\"75.0\" y2=\"75.0\" stroke=\"#1967d2\" stroke-width=\"1\"/><line x1=\"109.05265625000001\" x2=\"1866.0821093750003\" y1=\"125.0\" y2=\"125.0\" stroke=\"#1967d2\" stroke-width=\"1\"/><line x1=\"109.05265625000001\" x2=\"1866.0821093750003\" y1=\"175.0\" y2=\"175.0\" stroke=\"#1967d2\" stroke-width=\"1\"/><line x1=\"109.05265625000001\" x2=\"1866.0821093750003\" y1=\"225.0\" y2=\"225.0\" stroke=\"#1967d2\" stroke-width=\"1\"/><line x1=\"109.05265625000001\" x2=\"1866.0821093750003\" y1=\"275.0\" y2=\"275.0\" stroke=\"#1967d2\" stroke-width=\"1\"/><line x1=\"109.05265625000001\" x2=\"1866.0821093750003\" y1=\"325.0\" y2=\"325.0\" stroke=\"#1967d2\" stroke-width=\"1\"/><line x1=\"109.05265625000001\" x2=\"1866.0821093750003\" y1=\"375.0\" y2=\"375.0\" stroke=\"#1967d2\" stroke-width=\"1\"/><line x1=\"351.123203125\" x2=\"351.123203125\" y1=\"25.0\" y2=\"325.0\" stroke=\"black\" stroke-width=\"3\"/><line x1=\"442.58593749999994\" x2=\"442.58593749999994\" y1=\"125.0\" y2=\"375.0\" stroke=\"black\" stroke-width=\"3\"/><line x1=\"534.048671875\" x2=\"534.048671875\" y1=\"275.0\" y2=\"375.0\" stroke=\"black\" stroke-width=\"3\"/><line x1=\"625.5114062499999\" x2=\"625.5114062499999\" y1=\"325.0\" y2=\"375.0\" stroke=\"black\" stroke-width=\"3\"/><line x1=\"716.9741406249999\" x2=\"716.9741406249999\" y1=\"225.0\" y2=\"375.0\" stroke=\"black\" stroke-width=\"3\"/><line x1=\"808.4368749999999\" x2=\"808.4368749999999\" y1=\"125.0\" y2=\"375.0\" stroke=\"black\" stroke-width=\"3\"/><line x1=\"899.8996093749998\" x2=\"899.8996093749998\" y1=\"25.0\" y2=\"325.0\" stroke=\"black\" stroke-width=\"3\"/><line x1=\"991.3623437499998\" x2=\"991.3623437499998\" y1=\"125.0\" y2=\"375.0\" stroke=\"black\" stroke-width=\"3\"/><line x1=\"1082.8250781249997\" x2=\"1082.8250781249997\" y1=\"225.0\" y2=\"375.0\" stroke=\"black\" stroke-width=\"3\"/><line x1=\"1174.2878124999997\" x2=\"1174.2878124999997\" y1=\"275.0\" y2=\"375.0\" stroke=\"black\" stroke-width=\"3\"/><line x1=\"1265.7505468749998\" x2=\"1265.7505468749998\" y1=\"325.0\" y2=\"375.0\" stroke=\"black\" stroke-width=\"3\"/><line x1=\"1357.21328125\" x2=\"1357.21328125\" y1=\"175.0\" y2=\"375.0\" stroke=\"black\" stroke-width=\"3\"/><line x1=\"1448.676015625\" x2=\"1448.676015625\" y1=\"125.0\" y2=\"375.0\" stroke=\"black\" stroke-width=\"3\"/><line x1=\"1540.13875\" x2=\"1540.13875\" y1=\"25.0\" y2=\"325.0\" stroke=\"black\" stroke-width=\"3\"/><line x1=\"1718.8880078125\" x2=\"1718.8880078125\" y1=\"25.0\" y2=\"175.0\" stroke=\"black\" stroke-width=\"3\"/><line x1=\"1810.3507421875001\" x2=\"1810.3507421875001\" y1=\"25.0\" y2=\"275.0\" stroke=\"black\" stroke-width=\"3\"/><rect x=\"10.0\" y=\"5.0\" width=\"198.10531250000003\" height=\"40\" stroke=\"black\" fill=\"white\" stroke-width=\"0\"/><text x=\"109.05265625000001\" y=\"25.0\" dominant-baseline=\"middle\" text-anchor=\"middle\" font-size=\"14px\" font-family=\"Arial:style=normal:variant=normal:weight=normal:stretch=normal:size=10.0\">selection0: </text><rect x=\"10.0\" y=\"55.0\" width=\"198.10531250000003\" height=\"40\" stroke=\"black\" fill=\"white\" stroke-width=\"0\"/><text x=\"109.05265625000001\" y=\"75.0\" dominant-baseline=\"middle\" text-anchor=\"middle\" font-size=\"14px\" font-family=\"Arial:style=normal:variant=normal:weight=normal:stretch=normal:size=10.0\">selection1: </text><rect x=\"10.0\" y=\"105.0\" width=\"198.10531250000003\" height=\"40\" stroke=\"black\" fill=\"white\" stroke-width=\"0\"/><text x=\"109.05265625000001\" y=\"125.0\" dominant-baseline=\"middle\" text-anchor=\"middle\" font-size=\"14px\" font-family=\"Arial:style=normal:variant=normal:weight=normal:stretch=normal:size=10.0\">selection2: </text><rect x=\"10.0\" y=\"155.0\" width=\"198.10531250000003\" height=\"40\" stroke=\"black\" fill=\"white\" stroke-width=\"0\"/><text x=\"109.05265625000001\" y=\"175.0\" dominant-baseline=\"middle\" text-anchor=\"middle\" font-size=\"14px\" font-family=\"Arial:style=normal:variant=normal:weight=normal:stretch=normal:size=10.0\">target00: </text><rect x=\"10.0\" y=\"205.0\" width=\"198.10531250000003\" height=\"40\" stroke=\"black\" fill=\"white\" stroke-width=\"0\"/><text x=\"109.05265625000001\" y=\"225.0\" dominant-baseline=\"middle\" text-anchor=\"middle\" font-size=\"14px\" font-family=\"Arial:style=normal:variant=normal:weight=normal:stretch=normal:size=10.0\">target01: </text><rect x=\"10.0\" y=\"255.0\" width=\"198.10531250000003\" height=\"40\" stroke=\"black\" fill=\"white\" stroke-width=\"0\"/><text x=\"109.05265625000001\" y=\"275.0\" dominant-baseline=\"middle\" text-anchor=\"middle\" font-size=\"14px\" font-family=\"Arial:style=normal:variant=normal:weight=normal:stretch=normal:size=10.0\">target02: </text><rect x=\"10.0\" y=\"305.0\" width=\"198.10531250000003\" height=\"40\" stroke=\"black\" fill=\"white\" stroke-width=\"0\"/><text x=\"109.05265625000001\" y=\"325.0\" dominant-baseline=\"middle\" text-anchor=\"middle\" font-size=\"14px\" font-family=\"Arial:style=normal:variant=normal:weight=normal:stretch=normal:size=10.0\">_decompose_protocol_0_c(0): </text><rect x=\"10.0\" y=\"355.0\" width=\"198.10531250000003\" height=\"40\" stroke=\"black\" fill=\"white\" stroke-width=\"0\"/><text x=\"109.05265625000001\" y=\"375.0\" dominant-baseline=\"middle\" text-anchor=\"middle\" font-size=\"14px\" font-family=\"Arial:style=normal:variant=normal:weight=normal:stretch=normal:size=10.0\">_decompose_protocol_0_c(1): </text><rect x=\"228.10531250000003\" y=\"5.0\" width=\"67.2865234375\" height=\"40\" stroke=\"black\" fill=\"white\" stroke-width=\"1\"/><text x=\"261.74857421875004\" y=\"25.0\" dominant-baseline=\"middle\" text-anchor=\"middle\" font-size=\"14px\" font-family=\"Arial:style=normal:variant=normal:weight=normal:stretch=normal:size=10.0\">X['t:0,r:0']</text><rect x=\"315.3918359375\" y=\"5.0\" width=\"71.462734375\" height=\"40\" stroke=\"black\" fill=\"white\" stroke-width=\"1\"/><text x=\"351.123203125\" y=\"25.0\" dominant-baseline=\"middle\" text-anchor=\"middle\" font-size=\"14px\" font-family=\"Arial:style=normal:variant=normal:weight=normal:stretch=normal:size=10.0\">@['t:4,r:0']</text><rect x=\"315.3918359375\" y=\"55.0\" width=\"71.462734375\" height=\"40\" stroke=\"black\" fill=\"white\" stroke-width=\"1\"/><text x=\"351.123203125\" y=\"75.0\" dominant-baseline=\"middle\" text-anchor=\"middle\" font-size=\"14px\" font-family=\"Arial:style=normal:variant=normal:weight=normal:stretch=normal:size=10.0\">(0)</text><rect x=\"315.3918359375\" y=\"305.0\" width=\"71.462734375\" height=\"40\" stroke=\"black\" fill=\"white\" stroke-width=\"1\"/><text x=\"351.123203125\" y=\"325.0\" dominant-baseline=\"middle\" text-anchor=\"middle\" font-size=\"14px\" font-family=\"Arial:style=normal:variant=normal:weight=normal:stretch=normal:size=10.0\">And</text><rect x=\"406.85457031249996\" y=\"305.0\" width=\"71.462734375\" height=\"40\" stroke=\"black\" fill=\"white\" stroke-width=\"1\"/><text x=\"442.58593749999994\" y=\"325.0\" dominant-baseline=\"middle\" text-anchor=\"middle\" font-size=\"14px\" font-family=\"Arial:style=normal:variant=normal:weight=normal:stretch=normal:size=10.0\">@['t:4,r:0']</text><rect x=\"406.85457031249996\" y=\"105.0\" width=\"71.462734375\" height=\"40\" stroke=\"black\" fill=\"white\" stroke-width=\"1\"/><text x=\"442.58593749999994\" y=\"125.0\" dominant-baseline=\"middle\" text-anchor=\"middle\" font-size=\"14px\" font-family=\"Arial:style=normal:variant=normal:weight=normal:stretch=normal:size=10.0\">(0)</text><rect x=\"406.85457031249996\" y=\"355.0\" width=\"71.462734375\" height=\"40\" stroke=\"black\" fill=\"white\" stroke-width=\"1\"/><text x=\"442.58593749999994\" y=\"375.0\" dominant-baseline=\"middle\" text-anchor=\"middle\" font-size=\"14px\" font-family=\"Arial:style=normal:variant=normal:weight=normal:stretch=normal:size=10.0\">And</text><rect x=\"498.3173046875\" y=\"355.0\" width=\"71.462734375\" height=\"40\" stroke=\"black\" fill=\"white\" stroke-width=\"1\"/><text x=\"534.048671875\" y=\"375.0\" dominant-baseline=\"middle\" text-anchor=\"middle\" font-size=\"14px\" font-family=\"Arial:style=normal:variant=normal:weight=normal:stretch=normal:size=10.0\">@['t:0,r:0']</text><rect x=\"498.3173046875\" y=\"255.0\" width=\"71.462734375\" height=\"40\" stroke=\"black\" fill=\"white\" stroke-width=\"1\"/><text x=\"534.048671875\" y=\"275.0\" dominant-baseline=\"middle\" text-anchor=\"middle\" font-size=\"18px\" font-family=\"Arial:style=normal:variant=normal:weight=normal:stretch=normal:size=10.0\">X</text><rect x=\"589.7800390624999\" y=\"305.0\" width=\"71.462734375\" height=\"40\" stroke=\"black\" fill=\"white\" stroke-width=\"1\"/><text x=\"625.5114062499999\" y=\"325.0\" dominant-baseline=\"middle\" text-anchor=\"middle\" font-size=\"14px\" font-family=\"Arial:style=normal:variant=normal:weight=normal:stretch=normal:size=10.0\">@['t:0,r:0']</text><rect x=\"589.7800390624999\" y=\"355.0\" width=\"71.462734375\" height=\"40\" stroke=\"black\" fill=\"white\" stroke-width=\"1\"/><text x=\"625.5114062499999\" y=\"375.0\" dominant-baseline=\"middle\" text-anchor=\"middle\" font-size=\"18px\" font-family=\"Arial:style=normal:variant=normal:weight=normal:stretch=normal:size=10.0\">X</text><rect x=\"681.2427734374999\" y=\"355.0\" width=\"71.462734375\" height=\"40\" stroke=\"black\" fill=\"white\" stroke-width=\"1\"/><text x=\"716.9741406249999\" y=\"375.0\" dominant-baseline=\"middle\" text-anchor=\"middle\" font-size=\"14px\" font-family=\"Arial:style=normal:variant=normal:weight=normal:stretch=normal:size=10.0\">@['t:0,r:0']</text><rect x=\"681.2427734374999\" y=\"205.0\" width=\"71.462734375\" height=\"40\" stroke=\"black\" fill=\"white\" stroke-width=\"1\"/><text x=\"716.9741406249999\" y=\"225.0\" dominant-baseline=\"middle\" text-anchor=\"middle\" font-size=\"18px\" font-family=\"Arial:style=normal:variant=normal:weight=normal:stretch=normal:size=10.0\">X</text><rect x=\"772.7055078124998\" y=\"305.0\" width=\"71.462734375\" height=\"40\" stroke=\"black\" fill=\"white\" stroke-width=\"1\"/><text x=\"808.4368749999999\" y=\"325.0\" dominant-baseline=\"middle\" text-anchor=\"middle\" font-size=\"14px\" font-family=\"Arial:style=normal:variant=normal:weight=normal:stretch=normal:size=10.0\">@['t:0,r:0']</text><circle cx=\"808.4368749999999\" cy=\"125.0\" r=\"10.0\"/><rect x=\"772.7055078124998\" y=\"355.0\" width=\"71.462734375\" height=\"40\" stroke=\"black\" fill=\"white\" stroke-width=\"1\"/><text x=\"808.4368749999999\" y=\"375.0\" dominant-baseline=\"middle\" text-anchor=\"middle\" font-size=\"14px\" font-family=\"Arial:style=normal:variant=normal:weight=normal:stretch=normal:size=10.0\">And†</text><rect x=\"864.1682421874998\" y=\"5.0\" width=\"71.462734375\" height=\"40\" stroke=\"black\" fill=\"white\" stroke-width=\"1\"/><text x=\"899.8996093749998\" y=\"25.0\" dominant-baseline=\"middle\" text-anchor=\"middle\" font-size=\"14px\" font-family=\"Arial:style=normal:variant=normal:weight=normal:stretch=normal:size=10.0\">@['t:0,r:0']</text><rect x=\"864.1682421874998\" y=\"305.0\" width=\"71.462734375\" height=\"40\" stroke=\"black\" fill=\"white\" stroke-width=\"1\"/><text x=\"899.8996093749998\" y=\"325.0\" dominant-baseline=\"middle\" text-anchor=\"middle\" font-size=\"18px\" font-family=\"Arial:style=normal:variant=normal:weight=normal:stretch=normal:size=10.0\">X</text><rect x=\"955.6309765624998\" y=\"305.0\" width=\"71.462734375\" height=\"40\" stroke=\"black\" fill=\"white\" stroke-width=\"1\"/><text x=\"991.3623437499998\" y=\"325.0\" dominant-baseline=\"middle\" text-anchor=\"middle\" font-size=\"14px\" font-family=\"Arial:style=normal:variant=normal:weight=normal:stretch=normal:size=10.0\">@['t:4,r:0']</text><rect x=\"955.6309765624998\" y=\"105.0\" width=\"71.462734375\" height=\"40\" stroke=\"black\" fill=\"white\" stroke-width=\"1\"/><text x=\"991.3623437499998\" y=\"125.0\" dominant-baseline=\"middle\" text-anchor=\"middle\" font-size=\"14px\" font-family=\"Arial:style=normal:variant=normal:weight=normal:stretch=normal:size=10.0\">(0)</text><rect x=\"955.6309765624998\" y=\"355.0\" width=\"71.462734375\" height=\"40\" stroke=\"black\" fill=\"white\" stroke-width=\"1\"/><text x=\"991.3623437499998\" y=\"375.0\" dominant-baseline=\"middle\" text-anchor=\"middle\" font-size=\"14px\" font-family=\"Arial:style=normal:variant=normal:weight=normal:stretch=normal:size=10.0\">And</text><rect x=\"1047.0937109374997\" y=\"355.0\" width=\"71.462734375\" height=\"40\" stroke=\"black\" fill=\"white\" stroke-width=\"1\"/><text x=\"1082.8250781249997\" y=\"375.0\" dominant-baseline=\"middle\" text-anchor=\"middle\" font-size=\"14px\" font-family=\"Arial:style=normal:variant=normal:weight=normal:stretch=normal:size=10.0\">@['t:0,r:0']</text><rect x=\"1047.0937109374997\" y=\"205.0\" width=\"71.462734375\" height=\"40\" stroke=\"black\" fill=\"white\" stroke-width=\"1\"/><text x=\"1082.8250781249997\" y=\"225.0\" dominant-baseline=\"middle\" text-anchor=\"middle\" font-size=\"18px\" font-family=\"Arial:style=normal:variant=normal:weight=normal:stretch=normal:size=10.0\">X</text><rect x=\"1138.5564453124998\" y=\"355.0\" width=\"71.462734375\" height=\"40\" stroke=\"black\" fill=\"white\" stroke-width=\"1\"/><text x=\"1174.2878124999997\" y=\"375.0\" dominant-baseline=\"middle\" text-anchor=\"middle\" font-size=\"14px\" font-family=\"Arial:style=normal:variant=normal:weight=normal:stretch=normal:size=10.0\">@['t:0,r:0']</text><rect x=\"1138.5564453124998\" y=\"255.0\" width=\"71.462734375\" height=\"40\" stroke=\"black\" fill=\"white\" stroke-width=\"1\"/><text x=\"1174.2878124999997\" y=\"275.0\" dominant-baseline=\"middle\" text-anchor=\"middle\" font-size=\"18px\" font-family=\"Arial:style=normal:variant=normal:weight=normal:stretch=normal:size=10.0\">X</text><rect x=\"1230.0191796875\" y=\"305.0\" width=\"71.462734375\" height=\"40\" stroke=\"black\" fill=\"white\" stroke-width=\"1\"/><text x=\"1265.7505468749998\" y=\"325.0\" dominant-baseline=\"middle\" text-anchor=\"middle\" font-size=\"14px\" font-family=\"Arial:style=normal:variant=normal:weight=normal:stretch=normal:size=10.0\">@['t:0,r:0']</text><rect x=\"1230.0191796875\" y=\"355.0\" width=\"71.462734375\" height=\"40\" stroke=\"black\" fill=\"white\" stroke-width=\"1\"/><text x=\"1265.7505468749998\" y=\"375.0\" dominant-baseline=\"middle\" text-anchor=\"middle\" font-size=\"18px\" font-family=\"Arial:style=normal:variant=normal:weight=normal:stretch=normal:size=10.0\">X</text><rect x=\"1321.4819140625\" y=\"355.0\" width=\"71.462734375\" height=\"40\" stroke=\"black\" fill=\"white\" stroke-width=\"1\"/><text x=\"1357.21328125\" y=\"375.0\" dominant-baseline=\"middle\" text-anchor=\"middle\" font-size=\"14px\" font-family=\"Arial:style=normal:variant=normal:weight=normal:stretch=normal:size=10.0\">@['t:0,r:0']</text><rect x=\"1321.4819140625\" y=\"155.0\" width=\"71.462734375\" height=\"40\" stroke=\"black\" fill=\"white\" stroke-width=\"1\"/><text x=\"1357.21328125\" y=\"175.0\" dominant-baseline=\"middle\" text-anchor=\"middle\" font-size=\"18px\" font-family=\"Arial:style=normal:variant=normal:weight=normal:stretch=normal:size=10.0\">X</text><rect x=\"1412.9446484375\" y=\"305.0\" width=\"71.462734375\" height=\"40\" stroke=\"black\" fill=\"white\" stroke-width=\"1\"/><text x=\"1448.676015625\" y=\"325.0\" dominant-baseline=\"middle\" text-anchor=\"middle\" font-size=\"14px\" font-family=\"Arial:style=normal:variant=normal:weight=normal:stretch=normal:size=10.0\">@['t:0,r:0']</text><circle cx=\"1448.676015625\" cy=\"125.0\" r=\"10.0\"/><rect x=\"1412.9446484375\" y=\"355.0\" width=\"71.462734375\" height=\"40\" stroke=\"black\" fill=\"white\" stroke-width=\"1\"/><text x=\"1448.676015625\" y=\"375.0\" dominant-baseline=\"middle\" text-anchor=\"middle\" font-size=\"14px\" font-family=\"Arial:style=normal:variant=normal:weight=normal:stretch=normal:size=10.0\">And†</text><rect x=\"1504.4073828125001\" y=\"5.0\" width=\"71.462734375\" height=\"40\" stroke=\"black\" fill=\"white\" stroke-width=\"1\"/><text x=\"1540.13875\" y=\"25.0\" dominant-baseline=\"middle\" text-anchor=\"middle\" font-size=\"14px\" font-family=\"Arial:style=normal:variant=normal:weight=normal:stretch=normal:size=10.0\">@['t:0,r:0']</text><circle cx=\"1540.13875\" cy=\"75.0\" r=\"10.0\"/><rect x=\"1504.4073828125001\" y=\"305.0\" width=\"71.462734375\" height=\"40\" stroke=\"black\" fill=\"white\" stroke-width=\"1\"/><text x=\"1540.13875\" y=\"325.0\" dominant-baseline=\"middle\" text-anchor=\"middle\" font-size=\"14px\" font-family=\"Arial:style=normal:variant=normal:weight=normal:stretch=normal:size=10.0\">And†</text><rect x=\"1595.8701171875002\" y=\"5.0\" width=\"67.2865234375\" height=\"40\" stroke=\"black\" fill=\"white\" stroke-width=\"1\"/><text x=\"1629.5133789062502\" y=\"25.0\" dominant-baseline=\"middle\" text-anchor=\"middle\" font-size=\"14px\" font-family=\"Arial:style=normal:variant=normal:weight=normal:stretch=normal:size=10.0\">X['t:0,r:0']</text><rect x=\"1683.1566406250001\" y=\"5.0\" width=\"71.462734375\" height=\"40\" stroke=\"black\" fill=\"white\" stroke-width=\"1\"/><text x=\"1718.8880078125\" y=\"25.0\" dominant-baseline=\"middle\" text-anchor=\"middle\" font-size=\"14px\" font-family=\"Arial:style=normal:variant=normal:weight=normal:stretch=normal:size=10.0\">@['t:0,r:0']</text><rect x=\"1683.1566406250001\" y=\"155.0\" width=\"71.462734375\" height=\"40\" stroke=\"black\" fill=\"white\" stroke-width=\"1\"/><text x=\"1718.8880078125\" y=\"175.0\" dominant-baseline=\"middle\" text-anchor=\"middle\" font-size=\"18px\" font-family=\"Arial:style=normal:variant=normal:weight=normal:stretch=normal:size=10.0\">X</text><rect x=\"1774.6193750000002\" y=\"5.0\" width=\"71.462734375\" height=\"40\" stroke=\"black\" fill=\"white\" stroke-width=\"1\"/><text x=\"1810.3507421875001\" y=\"25.0\" dominant-baseline=\"middle\" text-anchor=\"middle\" font-size=\"14px\" font-family=\"Arial:style=normal:variant=normal:weight=normal:stretch=normal:size=10.0\">@['t:0,r:0']</text><rect x=\"1774.6193750000002\" y=\"255.0\" width=\"71.462734375\" height=\"40\" stroke=\"black\" fill=\"white\" stroke-width=\"1\"/><text x=\"1810.3507421875001\" y=\"275.0\" dominant-baseline=\"middle\" text-anchor=\"middle\" font-size=\"18px\" font-family=\"Arial:style=normal:variant=normal:weight=normal:stretch=normal:size=10.0\">X</text></svg>",
          "text/plain": "<IPython.core.display.SVG object>"
         },
         "metadata": {},
         "output_type": "display_data"
        }
       ],
       "tabbable": null,
       "tooltip": null
      }
     },
     "9c13a7960f7d40a0aaba11b0b702b518": {
      "model_module": "@jupyter-widgets/base",
      "model_module_version": "2.0.0",
      "model_name": "LayoutModel",
      "state": {
       "_model_module": "@jupyter-widgets/base",
       "_model_module_version": "2.0.0",
       "_model_name": "LayoutModel",
       "_view_count": null,
       "_view_module": "@jupyter-widgets/base",
       "_view_module_version": "2.0.0",
       "_view_name": "LayoutView",
       "align_content": null,
       "align_items": null,
       "align_self": null,
       "border_bottom": null,
       "border_left": null,
       "border_right": null,
       "border_top": null,
       "bottom": null,
       "display": null,
       "flex": null,
       "flex_flow": null,
       "grid_area": null,
       "grid_auto_columns": null,
       "grid_auto_flow": null,
       "grid_auto_rows": null,
       "grid_column": null,
       "grid_gap": null,
       "grid_row": null,
       "grid_template_areas": null,
       "grid_template_columns": null,
       "grid_template_rows": null,
       "height": null,
       "justify_content": null,
       "justify_items": null,
       "left": null,
       "margin": null,
       "max_height": null,
       "max_width": null,
       "min_height": null,
       "min_width": null,
       "object_fit": null,
       "object_position": null,
       "order": null,
       "overflow": null,
       "padding": null,
       "right": null,
       "top": null,
       "visibility": null,
       "width": null
      }
     },
     "f7851bb3b256417d9a70f63c53653d14": {
      "model_module": "@jupyter-widgets/base",
      "model_module_version": "2.0.0",
      "model_name": "LayoutModel",
      "state": {
       "_model_module": "@jupyter-widgets/base",
       "_model_module_version": "2.0.0",
       "_model_name": "LayoutModel",
       "_view_count": null,
       "_view_module": "@jupyter-widgets/base",
       "_view_module_version": "2.0.0",
       "_view_name": "LayoutView",
       "align_content": null,
       "align_items": null,
       "align_self": null,
       "border_bottom": null,
       "border_left": null,
       "border_right": null,
       "border_top": null,
       "bottom": null,
       "display": null,
       "flex": null,
       "flex_flow": null,
       "grid_area": null,
       "grid_auto_columns": null,
       "grid_auto_flow": null,
       "grid_auto_rows": null,
       "grid_column": null,
       "grid_gap": null,
       "grid_row": null,
       "grid_template_areas": null,
       "grid_template_columns": null,
       "grid_template_rows": null,
       "height": null,
       "justify_content": null,
       "justify_items": null,
       "left": null,
       "margin": null,
       "max_height": null,
       "max_width": null,
       "min_height": null,
       "min_width": null,
       "object_fit": null,
       "object_position": null,
       "order": null,
       "overflow": null,
       "padding": null,
       "right": null,
       "top": null,
       "visibility": null,
       "width": null
      }
     }
    },
    "version_major": 2,
    "version_minor": 0
   }
  }
 },
 "nbformat": 4,
 "nbformat_minor": 5
}
