{
 "cells": [
  {
   "cell_type": "markdown",
   "id": "20aaa8c7",
   "metadata": {
    "cq.autogen": "title_cell"
   },
   "source": [
    "# Modular Subtraction"
   ]
  },
  {
   "cell_type": "code",
   "execution_count": 1,
   "id": "968c2b06",
   "metadata": {
    "cq.autogen": "top_imports"
   },
   "outputs": [],
   "source": [
    "from qualtran import Bloq, CompositeBloq, BloqBuilder, Signature, Register\n",
    "from qualtran import QBit, QInt, QUInt, QAny\n",
    "from qualtran.drawing import show_bloq, show_call_graph, show_counts_sigma\n",
    "from typing import *\n",
    "import numpy as np\n",
    "import sympy\n",
    "import cirq"
   ]
  },
  {
   "cell_type": "markdown",
   "id": "6ed3d20c",
   "metadata": {
    "cq.autogen": "ModNeg.bloq_doc.md"
   },
   "source": [
    "## `ModNeg`\n",
    "Performs modular negation.\n",
    "\n",
    "Applies the operation $\\ket{x} \\rightarrow \\ket{-x \\% p}$\n",
    "\n",
    "Note: This implements the decomposition from Fig 6 in but doesn't match table 8\n",
    "since we don't use measurement based uncompution because that introduces random phase flips.\n",
    "\n",
    "#### Parameters\n",
    " - `dtype`: Datatype of the register.\n",
    " - `p`: The modulus for the negation. \n",
    "\n",
    "#### Registers\n",
    " - `x`: The register contraining the integer we negate. \n",
    "\n",
    "#### References\n",
    " - [How to compute a 256-bit elliptic curve private key with only 50 million Toffoli gates](https://arxiv.org/abs/2306.08585). Fig 6b\n"
   ]
  },
  {
   "cell_type": "code",
   "execution_count": 2,
   "id": "24d9ba35",
   "metadata": {
    "cq.autogen": "ModNeg.bloq_doc.py"
   },
   "outputs": [],
   "source": [
    "from qualtran.bloqs.mod_arithmetic import ModNeg"
   ]
  },
  {
   "cell_type": "markdown",
   "id": "8d97be2c",
   "metadata": {
    "cq.autogen": "ModNeg.example_instances.md"
   },
   "source": [
    "### Example Instances"
   ]
  },
  {
   "cell_type": "code",
   "execution_count": 3,
   "id": "f1c17cde",
   "metadata": {
    "cq.autogen": "ModNeg.mod_neg"
   },
   "outputs": [],
   "source": [
    "n = 32\n",
    "prime = sympy.Symbol('p')\n",
    "mod_neg = ModNeg(QUInt(n), mod=prime)"
   ]
  },
  {
   "cell_type": "markdown",
   "id": "0801878d",
   "metadata": {
    "cq.autogen": "ModNeg.graphical_signature.md"
   },
   "source": [
    "#### Graphical Signature"
   ]
  },
  {
   "cell_type": "code",
   "execution_count": 4,
   "id": "2dfc00e4",
   "metadata": {
    "cq.autogen": "ModNeg.graphical_signature.py"
   },
   "outputs": [
    {
     "data": {
      "application/vnd.jupyter.widget-view+json": {
       "model_id": "8080b2bf1b6e406c8d722b56c95c3fc9",
       "version_major": 2,
       "version_minor": 0
      },
      "text/plain": [
       "HBox(children=(Output(outputs=({'output_type': 'display_data', 'data': {'text/plain': '<IPython.core.display.M…"
      ]
     },
     "metadata": {},
     "output_type": "display_data"
    }
   ],
   "source": [
    "from qualtran.drawing import show_bloqs\n",
    "show_bloqs([mod_neg],\n",
    "           ['`mod_neg`'])"
   ]
  },
  {
   "cell_type": "markdown",
   "id": "dfdb9be7",
   "metadata": {
    "cq.autogen": "ModNeg.call_graph.md"
   },
   "source": [
    "### Call Graph"
   ]
  },
  {
   "cell_type": "code",
   "execution_count": 5,
   "id": "0f9ac01b",
   "metadata": {
    "cq.autogen": "ModNeg.call_graph.py"
   },
   "outputs": [
    {
     "data": {
      "image/svg+xml": [
       "<svg xmlns=\"http://www.w3.org/2000/svg\" xmlns:xlink=\"http://www.w3.org/1999/xlink\" width=\"899pt\" height=\"131pt\" viewBox=\"0.00 0.00 899.00 131.00\">\n",
       "<g id=\"graph0\" class=\"graph\" transform=\"scale(1 1) rotate(0) translate(4 127)\">\n",
       "<title>counts</title>\n",
       "<polygon fill=\"white\" stroke=\"transparent\" points=\"-4,4 -4,-127 895,-127 895,4 -4,4\"/>\n",
       "<!-- b0 -->\n",
       "<g id=\"node1\" class=\"node\">\n",
       "<title>b0</title>\n",
       "<polygon fill=\"none\" stroke=\"black\" points=\"559,-123 392,-123 392,-87 559,-87 559,-123\"/>\n",
       "<text text-anchor=\"start\" x=\"451\" y=\"-106.8\" font-family=\"Times,serif\" font-size=\"14.00\">ModNeg</text>\n",
       "<text text-anchor=\"start\" x=\"400\" y=\"-96\" font-family=\"monospace\" font-size=\"10.00\">dtype=QUInt(bi ..., mod=p</text>\n",
       "</g>\n",
       "<!-- b1 -->\n",
       "<g id=\"node2\" class=\"node\">\n",
       "<title>b1</title>\n",
       "<polygon fill=\"none\" stroke=\"black\" points=\"137,-36 0,-36 0,0 137,0 137,-36\"/>\n",
       "<text text-anchor=\"start\" x=\"45.5\" y=\"-19.8\" font-family=\"Times,serif\" font-size=\"14.00\">C^32X†</text>\n",
       "<text text-anchor=\"start\" x=\"8\" y=\"-9\" font-family=\"monospace\" font-size=\"10.00\">subbloq=MultiCon ...</text>\n",
       "</g>\n",
       "<!-- b0&#45;&gt;b1 -->\n",
       "<g id=\"edge1\" class=\"edge\">\n",
       "<title>b0-&gt;b1</title>\n",
       "<path fill=\"none\" stroke=\"black\" d=\"M391.68,-87.07C327.35,-73.99 236.05,-55.27 147.3,-36.37\"/>\n",
       "<polygon fill=\"black\" stroke=\"black\" points=\"147.85,-32.91 137.34,-34.25 146.39,-39.76 147.85,-32.91\"/>\n",
       "<text text-anchor=\"middle\" x=\"303\" y=\"-57.8\" font-family=\"Times,serif\" font-size=\"14.00\">1</text>\n",
       "</g>\n",
       "<!-- b2 -->\n",
       "<g id=\"node3\" class=\"node\">\n",
       "<title>b2</title>\n",
       "<polygon fill=\"none\" stroke=\"black\" points=\"430,-36 155,-36 155,0 430,0 430,-36\"/>\n",
       "<text text-anchor=\"start\" x=\"275.5\" y=\"-19.8\" font-family=\"Times,serif\" font-size=\"14.00\">AddK</text>\n",
       "<text text-anchor=\"start\" x=\"163\" y=\"-9\" font-family=\"monospace\" font-size=\"10.00\">bitsize=32, k=p + 1, cvs=(1,), signed=False</text>\n",
       "</g>\n",
       "<!-- b0&#45;&gt;b2 -->\n",
       "<g id=\"edge2\" class=\"edge\">\n",
       "<title>b0-&gt;b2</title>\n",
       "<path fill=\"none\" stroke=\"black\" d=\"M438.47,-86.8C409.6,-73.39 369.36,-54.7 338.44,-40.34\"/>\n",
       "<polygon fill=\"black\" stroke=\"black\" points=\"339.71,-37.07 329.16,-36.03 336.76,-43.42 339.71,-37.07\"/>\n",
       "<text text-anchor=\"middle\" x=\"399\" y=\"-57.8\" font-family=\"Times,serif\" font-size=\"14.00\">1</text>\n",
       "</g>\n",
       "<!-- b3 -->\n",
       "<g id=\"node4\" class=\"node\">\n",
       "<title>b3</title>\n",
       "<polygon fill=\"none\" stroke=\"black\" points=\"502.5,-36 448.5,-36 448.5,0 502.5,0 502.5,-36\"/>\n",
       "<text text-anchor=\"start\" x=\"457.5\" y=\"-14.3\" font-family=\"Times,serif\" font-size=\"14.00\">XGate</text>\n",
       "</g>\n",
       "<!-- b0&#45;&gt;b3 -->\n",
       "<g id=\"edge3\" class=\"edge\">\n",
       "<title>b0-&gt;b3</title>\n",
       "<path fill=\"none\" stroke=\"black\" d=\"M475.5,-86.8C475.5,-75.16 475.5,-59.55 475.5,-46.24\"/>\n",
       "<polygon fill=\"black\" stroke=\"black\" points=\"479,-46.18 475.5,-36.18 472,-46.18 479,-46.18\"/>\n",
       "<text text-anchor=\"middle\" x=\"479\" y=\"-57.8\" font-family=\"Times,serif\" font-size=\"14.00\">2</text>\n",
       "</g>\n",
       "<!-- b4 -->\n",
       "<g id=\"node5\" class=\"node\">\n",
       "<title>b4</title>\n",
       "<polygon fill=\"none\" stroke=\"black\" points=\"640,-36 521,-36 521,0 640,0 640,-36\"/>\n",
       "<text text-anchor=\"start\" x=\"529\" y=\"-19.8\" font-family=\"Times,serif\" font-size=\"14.00\">MultiTargetCNOT</text>\n",
       "<text text-anchor=\"start\" x=\"550\" y=\"-9\" font-family=\"monospace\" font-size=\"10.00\">bitsize=32</text>\n",
       "</g>\n",
       "<!-- b0&#45;&gt;b4 -->\n",
       "<g id=\"edge4\" class=\"edge\">\n",
       "<title>b0-&gt;b4</title>\n",
       "<path fill=\"none\" stroke=\"black\" d=\"M496.75,-86.8C512.4,-74.13 533.89,-56.73 551.18,-42.74\"/>\n",
       "<polygon fill=\"black\" stroke=\"black\" points=\"553.71,-45.19 559.28,-36.18 549.31,-39.75 553.71,-45.19\"/>\n",
       "<text text-anchor=\"middle\" x=\"538\" y=\"-57.8\" font-family=\"Times,serif\" font-size=\"14.00\">1</text>\n",
       "</g>\n",
       "<!-- b5 -->\n",
       "<g id=\"node6\" class=\"node\">\n",
       "<title>b5</title>\n",
       "<polygon fill=\"none\" stroke=\"black\" points=\"891,-36 658,-36 658,0 891,0 891,-36\"/>\n",
       "<text text-anchor=\"start\" x=\"754.5\" y=\"-19.8\" font-family=\"Times,serif\" font-size=\"14.00\">C^32X</text>\n",
       "<text text-anchor=\"start\" x=\"666\" y=\"-9\" font-family=\"monospace\" font-size=\"10.00\">cvs=(0, 0, 0 ..., target_gate=cirq.X</text>\n",
       "</g>\n",
       "<!-- b0&#45;&gt;b5 -->\n",
       "<g id=\"edge5\" class=\"edge\">\n",
       "<title>b0-&gt;b5</title>\n",
       "<path fill=\"none\" stroke=\"black\" d=\"M535.65,-86.9C584.51,-73.01 653.49,-53.4 704.77,-38.82\"/>\n",
       "<polygon fill=\"black\" stroke=\"black\" points=\"705.79,-42.17 714.45,-36.07 703.87,-35.44 705.79,-42.17\"/>\n",
       "<text text-anchor=\"middle\" x=\"647\" y=\"-57.8\" font-family=\"Times,serif\" font-size=\"14.00\">1</text>\n",
       "</g>\n",
       "</g>\n",
       "</svg>"
      ],
      "text/plain": [
       "<IPython.core.display.SVG object>"
      ]
     },
     "metadata": {},
     "output_type": "display_data"
    },
    {
     "data": {
      "text/markdown": [
       "#### Counts totals:\n",
       " - `AddK`: 1\n",
       " - `Adjoint(subbloq=MultiControlX)`: 1\n",
       " - `MultiControlX`: 1\n",
       " - `MultiTargetCNOT`: 1\n",
       " - `XGate`: 2"
      ],
      "text/plain": [
       "<IPython.core.display.Markdown object>"
      ]
     },
     "metadata": {},
     "output_type": "display_data"
    }
   ],
   "source": [
    "from qualtran.resource_counting.generalizers import ignore_split_join\n",
    "mod_neg_g, mod_neg_sigma = mod_neg.call_graph(max_depth=1, generalizer=ignore_split_join)\n",
    "show_call_graph(mod_neg_g)\n",
    "show_counts_sigma(mod_neg_sigma)"
   ]
  },
  {
   "cell_type": "markdown",
   "id": "4dded926",
   "metadata": {
    "cq.autogen": "CModNeg.bloq_doc.md"
   },
   "source": [
    "## `CModNeg`\n",
    "Performs controlled modular negation.\n",
    "\n",
    "Applies the operation $\\ket{c}\\ket{x} \\rightarrow \\ket{c}\\ket{(-1)^c x\\%p}$\n",
    "\n",
    "Note: while this matches the count from Fig 8, it's a different decomposition that controls\n",
    "only the Add operation instead of turning the CNOTs into toffolis.\n",
    "\n",
    "#### Parameters\n",
    " - `dtype`: Datatype of the register.\n",
    " - `p`: The modulus for the negation.\n",
    " - `cv`: value at which the gate is active. \n",
    "\n",
    "#### Registers\n",
    " - `ctrl`: Control bit.\n",
    " - `x`: The register contraining the integer we negate. \n",
    "\n",
    "#### References\n",
    " - [How to compute a 256-bit elliptic curve private key with only 50 million Toffoli gates](https://arxiv.org/abs/2306.08585). Fig 6b and 8\n"
   ]
  },
  {
   "cell_type": "code",
   "execution_count": 6,
   "id": "5dd057d2",
   "metadata": {
    "cq.autogen": "CModNeg.bloq_doc.py"
   },
   "outputs": [],
   "source": [
    "from qualtran.bloqs.mod_arithmetic import CModNeg"
   ]
  },
  {
   "cell_type": "markdown",
   "id": "0f082f26",
   "metadata": {
    "cq.autogen": "CModNeg.example_instances.md"
   },
   "source": [
    "### Example Instances"
   ]
  },
  {
   "cell_type": "code",
   "execution_count": 7,
   "id": "a5c3fb4f",
   "metadata": {
    "cq.autogen": "CModNeg.cmod_neg"
   },
   "outputs": [],
   "source": [
    "n = 32\n",
    "prime = sympy.Symbol('p')\n",
    "cmod_neg = CModNeg(QUInt(n), mod=prime)"
   ]
  },
  {
   "cell_type": "markdown",
   "id": "211a2fc0",
   "metadata": {
    "cq.autogen": "CModNeg.graphical_signature.md"
   },
   "source": [
    "#### Graphical Signature"
   ]
  },
  {
   "cell_type": "code",
   "execution_count": 8,
   "id": "ccd14293",
   "metadata": {
    "cq.autogen": "CModNeg.graphical_signature.py"
   },
   "outputs": [
    {
     "data": {
      "application/vnd.jupyter.widget-view+json": {
       "model_id": "5be656c11e324cc886c940a579a2d8d6",
       "version_major": 2,
       "version_minor": 0
      },
      "text/plain": [
       "HBox(children=(Output(outputs=({'output_type': 'display_data', 'data': {'text/plain': '<IPython.core.display.M…"
      ]
     },
     "metadata": {},
     "output_type": "display_data"
    }
   ],
   "source": [
    "from qualtran.drawing import show_bloqs\n",
    "show_bloqs([cmod_neg],\n",
    "           ['`cmod_neg`'])"
   ]
  },
  {
   "cell_type": "markdown",
   "id": "29fa3263",
   "metadata": {
    "cq.autogen": "CModNeg.call_graph.md"
   },
   "source": [
    "### Call Graph"
   ]
  },
  {
   "cell_type": "code",
   "execution_count": 9,
   "id": "b0f0b7ea",
   "metadata": {
    "cq.autogen": "CModNeg.call_graph.py"
   },
   "outputs": [
    {
     "data": {
      "image/svg+xml": [
       "<svg xmlns=\"http://www.w3.org/2000/svg\" xmlns:xlink=\"http://www.w3.org/1999/xlink\" width=\"1311pt\" height=\"131pt\" viewBox=\"0.00 0.00 1311.00 131.00\">\n",
       "<g id=\"graph0\" class=\"graph\" transform=\"scale(1 1) rotate(0) translate(4 127)\">\n",
       "<title>counts</title>\n",
       "<polygon fill=\"white\" stroke=\"transparent\" points=\"-4,4 -4,-127 1307,-127 1307,4 -4,4\"/>\n",
       "<!-- b0 -->\n",
       "<g id=\"node1\" class=\"node\">\n",
       "<title>b0</title>\n",
       "<polygon fill=\"none\" stroke=\"black\" points=\"786,-123 583,-123 583,-87 786,-87 786,-123\"/>\n",
       "<text text-anchor=\"start\" x=\"655.5\" y=\"-106.8\" font-family=\"Times,serif\" font-size=\"14.00\">CModNeg</text>\n",
       "<text text-anchor=\"start\" x=\"591\" y=\"-96\" font-family=\"monospace\" font-size=\"10.00\">dtype=QUInt(bi ..., mod=p, cv=1</text>\n",
       "</g>\n",
       "<!-- b1 -->\n",
       "<g id=\"node2\" class=\"node\">\n",
       "<title>b1</title>\n",
       "<polygon fill=\"none\" stroke=\"black\" points=\"137,-36 0,-36 0,0 137,0 137,-36\"/>\n",
       "<text text-anchor=\"start\" x=\"45.5\" y=\"-19.8\" font-family=\"Times,serif\" font-size=\"14.00\">C^32X†</text>\n",
       "<text text-anchor=\"start\" x=\"8\" y=\"-9\" font-family=\"monospace\" font-size=\"10.00\">subbloq=MultiCon ...</text>\n",
       "</g>\n",
       "<!-- b0&#45;&gt;b1 -->\n",
       "<g id=\"edge1\" class=\"edge\">\n",
       "<title>b0-&gt;b1</title>\n",
       "<path fill=\"none\" stroke=\"black\" d=\"M582.76,-93.98C476.42,-82.86 304.56,-63.09 147.6,-36.29\"/>\n",
       "<polygon fill=\"black\" stroke=\"black\" points=\"147.73,-32.76 137.29,-34.51 146.55,-39.66 147.73,-32.76\"/>\n",
       "<text text-anchor=\"middle\" x=\"371\" y=\"-57.8\" font-family=\"Times,serif\" font-size=\"14.00\">1</text>\n",
       "</g>\n",
       "<!-- b2 -->\n",
       "<g id=\"node3\" class=\"node\">\n",
       "<title>b2</title>\n",
       "<polygon fill=\"none\" stroke=\"black\" points=\"346,-36 155,-36 155,0 346,0 346,-36\"/>\n",
       "<text text-anchor=\"start\" x=\"238.5\" y=\"-19.8\" font-family=\"Times,serif\" font-size=\"14.00\">And</text>\n",
       "<text text-anchor=\"start\" x=\"163\" y=\"-9\" font-family=\"monospace\" font-size=\"10.00\">cv1=1, cv2=1, uncompute=False</text>\n",
       "</g>\n",
       "<!-- b0&#45;&gt;b2 -->\n",
       "<g id=\"edge2\" class=\"edge\">\n",
       "<title>b0-&gt;b2</title>\n",
       "<path fill=\"none\" stroke=\"black\" d=\"M597.46,-86.95C525.11,-72.78 422.25,-52.64 347.32,-37.96\"/>\n",
       "<polygon fill=\"black\" stroke=\"black\" points=\"347.89,-34.51 337.4,-36.02 346.54,-41.38 347.89,-34.51\"/>\n",
       "<text text-anchor=\"middle\" x=\"497\" y=\"-57.8\" font-family=\"Times,serif\" font-size=\"14.00\">1</text>\n",
       "</g>\n",
       "<!-- b3 -->\n",
       "<g id=\"node4\" class=\"node\">\n",
       "<title>b3</title>\n",
       "<polygon fill=\"none\" stroke=\"black\" points=\"639,-36 364,-36 364,0 639,0 639,-36\"/>\n",
       "<text text-anchor=\"start\" x=\"484.5\" y=\"-19.8\" font-family=\"Times,serif\" font-size=\"14.00\">AddK</text>\n",
       "<text text-anchor=\"start\" x=\"372\" y=\"-9\" font-family=\"monospace\" font-size=\"10.00\">bitsize=32, k=p + 1, cvs=(1,), signed=False</text>\n",
       "</g>\n",
       "<!-- b0&#45;&gt;b3 -->\n",
       "<g id=\"edge3\" class=\"edge\">\n",
       "<title>b0-&gt;b3</title>\n",
       "<path fill=\"none\" stroke=\"black\" d=\"M647.47,-86.8C618.6,-73.39 578.36,-54.7 547.44,-40.34\"/>\n",
       "<polygon fill=\"black\" stroke=\"black\" points=\"548.71,-37.07 538.16,-36.03 545.76,-43.42 548.71,-37.07\"/>\n",
       "<text text-anchor=\"middle\" x=\"608\" y=\"-57.8\" font-family=\"Times,serif\" font-size=\"14.00\">1</text>\n",
       "</g>\n",
       "<!-- b4 -->\n",
       "<g id=\"node5\" class=\"node\">\n",
       "<title>b4</title>\n",
       "<polygon fill=\"none\" stroke=\"black\" points=\"711.5,-36 657.5,-36 657.5,0 711.5,0 711.5,-36\"/>\n",
       "<text text-anchor=\"start\" x=\"666.5\" y=\"-14.3\" font-family=\"Times,serif\" font-size=\"14.00\">XGate</text>\n",
       "</g>\n",
       "<!-- b0&#45;&gt;b4 -->\n",
       "<g id=\"edge4\" class=\"edge\">\n",
       "<title>b0-&gt;b4</title>\n",
       "<path fill=\"none\" stroke=\"black\" d=\"M684.5,-86.8C684.5,-75.16 684.5,-59.55 684.5,-46.24\"/>\n",
       "<polygon fill=\"black\" stroke=\"black\" points=\"688,-46.18 684.5,-36.18 681,-46.18 688,-46.18\"/>\n",
       "<text text-anchor=\"middle\" x=\"688\" y=\"-57.8\" font-family=\"Times,serif\" font-size=\"14.00\">2</text>\n",
       "</g>\n",
       "<!-- b5 -->\n",
       "<g id=\"node6\" class=\"node\">\n",
       "<title>b5</title>\n",
       "<polygon fill=\"none\" stroke=\"black\" points=\"849,-36 730,-36 730,0 849,0 849,-36\"/>\n",
       "<text text-anchor=\"start\" x=\"738\" y=\"-19.8\" font-family=\"Times,serif\" font-size=\"14.00\">MultiTargetCNOT</text>\n",
       "<text text-anchor=\"start\" x=\"759\" y=\"-9\" font-family=\"monospace\" font-size=\"10.00\">bitsize=32</text>\n",
       "</g>\n",
       "<!-- b0&#45;&gt;b5 -->\n",
       "<g id=\"edge5\" class=\"edge\">\n",
       "<title>b0-&gt;b5</title>\n",
       "<path fill=\"none\" stroke=\"black\" d=\"M705.75,-86.8C721.4,-74.13 742.89,-56.73 760.18,-42.74\"/>\n",
       "<polygon fill=\"black\" stroke=\"black\" points=\"762.71,-45.19 768.28,-36.18 758.31,-39.75 762.71,-45.19\"/>\n",
       "<text text-anchor=\"middle\" x=\"747\" y=\"-57.8\" font-family=\"Times,serif\" font-size=\"14.00\">1</text>\n",
       "</g>\n",
       "<!-- b6 -->\n",
       "<g id=\"node7\" class=\"node\">\n",
       "<title>b6</title>\n",
       "<polygon fill=\"none\" stroke=\"black\" points=\"1100,-36 867,-36 867,0 1100,0 1100,-36\"/>\n",
       "<text text-anchor=\"start\" x=\"963.5\" y=\"-19.8\" font-family=\"Times,serif\" font-size=\"14.00\">C^32X</text>\n",
       "<text text-anchor=\"start\" x=\"875\" y=\"-9\" font-family=\"monospace\" font-size=\"10.00\">cvs=(0, 0, 0 ..., target_gate=cirq.X</text>\n",
       "</g>\n",
       "<!-- b0&#45;&gt;b6 -->\n",
       "<g id=\"edge6\" class=\"edge\">\n",
       "<title>b0-&gt;b6</title>\n",
       "<path fill=\"none\" stroke=\"black\" d=\"M744.65,-86.9C793.51,-73.01 862.49,-53.4 913.77,-38.82\"/>\n",
       "<polygon fill=\"black\" stroke=\"black\" points=\"914.79,-42.17 923.45,-36.07 912.87,-35.44 914.79,-42.17\"/>\n",
       "<text text-anchor=\"middle\" x=\"856\" y=\"-57.8\" font-family=\"Times,serif\" font-size=\"14.00\">1</text>\n",
       "</g>\n",
       "<!-- b7 -->\n",
       "<g id=\"node8\" class=\"node\">\n",
       "<title>b7</title>\n",
       "<polygon fill=\"none\" stroke=\"black\" points=\"1303,-36 1118,-36 1118,0 1303,0 1303,-36\"/>\n",
       "<text text-anchor=\"start\" x=\"1195\" y=\"-19.8\" font-family=\"Times,serif\" font-size=\"14.00\">And†</text>\n",
       "<text text-anchor=\"start\" x=\"1126\" y=\"-9\" font-family=\"monospace\" font-size=\"10.00\">cv1=1, cv2=1, uncompute=True</text>\n",
       "</g>\n",
       "<!-- b0&#45;&gt;b7 -->\n",
       "<g id=\"edge7\" class=\"edge\">\n",
       "<title>b0-&gt;b7</title>\n",
       "<path fill=\"none\" stroke=\"black\" d=\"M786.05,-87.89C869.53,-74.61 991.2,-55.16 1107.76,-36.12\"/>\n",
       "<polygon fill=\"black\" stroke=\"black\" points=\"1108.63,-39.52 1117.94,-34.45 1107.5,-32.61 1108.63,-39.52\"/>\n",
       "<text text-anchor=\"middle\" x=\"996\" y=\"-57.8\" font-family=\"Times,serif\" font-size=\"14.00\">1</text>\n",
       "</g>\n",
       "</g>\n",
       "</svg>"
      ],
      "text/plain": [
       "<IPython.core.display.SVG object>"
      ]
     },
     "metadata": {},
     "output_type": "display_data"
    },
    {
     "data": {
      "text/markdown": [
       "#### Counts totals:\n",
       " - `AddK`: 1\n",
       " - `Adjoint(subbloq=MultiControlX)`: 1\n",
       " - `And`: 1\n",
       " - `And†`: 1\n",
       " - `MultiControlX`: 1\n",
       " - `MultiTargetCNOT`: 1\n",
       " - `XGate`: 2"
      ],
      "text/plain": [
       "<IPython.core.display.Markdown object>"
      ]
     },
     "metadata": {},
     "output_type": "display_data"
    }
   ],
   "source": [
    "from qualtran.resource_counting.generalizers import ignore_split_join\n",
    "cmod_neg_g, cmod_neg_sigma = cmod_neg.call_graph(max_depth=1, generalizer=ignore_split_join)\n",
    "show_call_graph(cmod_neg_g)\n",
    "show_counts_sigma(cmod_neg_sigma)"
   ]
  },
  {
   "cell_type": "markdown",
   "id": "14a3fbc6",
   "metadata": {
    "cq.autogen": "ModSub.bloq_doc.md"
   },
   "source": [
    "## `ModSub`\n",
    "Performs modular subtraction.\n",
    "\n",
    "Applies the operation $\\ket{x} \\ket{y} \\rightarrow \\ket{x} \\ket{y-x \\% p}$\n",
    "\n",
    "#### Parameters\n",
    " - `dtype`: Datatype of the register.\n",
    " - `p`: The modulus for the negation. \n",
    "\n",
    "#### Registers\n",
    " - `x`: The register contraining the first integer.\n",
    " - `y`: The register contraining the second integer. \n",
    "\n",
    "#### References\n",
    " - [How to compute a 256-bit elliptic curve private key with only 50 million Toffoli gates](https://arxiv.org/abs/2306.08585). Fig 6c and 8\n"
   ]
  },
  {
   "cell_type": "code",
   "execution_count": 10,
   "id": "a073f504",
   "metadata": {
    "cq.autogen": "ModSub.bloq_doc.py"
   },
   "outputs": [],
   "source": [
    "from qualtran.bloqs.mod_arithmetic import ModSub"
   ]
  },
  {
   "cell_type": "markdown",
   "id": "1820700b",
   "metadata": {
    "cq.autogen": "ModSub.example_instances.md"
   },
   "source": [
    "### Example Instances"
   ]
  },
  {
   "cell_type": "code",
   "execution_count": 11,
   "id": "0e42061f",
   "metadata": {
    "cq.autogen": "ModSub.modsub_symb"
   },
   "outputs": [],
   "source": [
    "n, p = sympy.symbols('n p')\n",
    "modsub_symb = ModSub(QUInt(n), p)"
   ]
  },
  {
   "cell_type": "markdown",
   "id": "e61d3cf3",
   "metadata": {
    "cq.autogen": "ModSub.graphical_signature.md"
   },
   "source": [
    "#### Graphical Signature"
   ]
  },
  {
   "cell_type": "code",
   "execution_count": 12,
   "id": "d5f8d669",
   "metadata": {
    "cq.autogen": "ModSub.graphical_signature.py"
   },
   "outputs": [
    {
     "data": {
      "application/vnd.jupyter.widget-view+json": {
       "model_id": "b8490070443f4a25af2872510f8da688",
       "version_major": 2,
       "version_minor": 0
      },
      "text/plain": [
       "HBox(children=(Output(outputs=({'output_type': 'display_data', 'data': {'text/plain': '<IPython.core.display.M…"
      ]
     },
     "metadata": {},
     "output_type": "display_data"
    }
   ],
   "source": [
    "from qualtran.drawing import show_bloqs\n",
    "show_bloqs([modsub_symb],\n",
    "           ['`modsub_symb`'])"
   ]
  },
  {
   "cell_type": "markdown",
   "id": "ac2ff24b",
   "metadata": {
    "cq.autogen": "ModSub.call_graph.md"
   },
   "source": [
    "### Call Graph"
   ]
  },
  {
   "cell_type": "code",
   "execution_count": 13,
   "id": "17efb6be",
   "metadata": {
    "cq.autogen": "ModSub.call_graph.py"
   },
   "outputs": [
    {
     "data": {
      "image/svg+xml": [
       "<svg xmlns=\"http://www.w3.org/2000/svg\" xmlns:xlink=\"http://www.w3.org/1999/xlink\" width=\"694pt\" height=\"131pt\" viewBox=\"0.00 0.00 694.00 131.00\">\n",
       "<g id=\"graph0\" class=\"graph\" transform=\"scale(1 1) rotate(0) translate(4 127)\">\n",
       "<title>counts</title>\n",
       "<polygon fill=\"white\" stroke=\"transparent\" points=\"-4,4 -4,-127 690,-127 690,4 -4,4\"/>\n",
       "<!-- b0 -->\n",
       "<g id=\"node1\" class=\"node\">\n",
       "<title>b0</title>\n",
       "<polygon fill=\"none\" stroke=\"black\" points=\"390,-123 223,-123 223,-87 390,-87 390,-123\"/>\n",
       "<text text-anchor=\"start\" x=\"282.5\" y=\"-106.8\" font-family=\"Times,serif\" font-size=\"14.00\">ModSub</text>\n",
       "<text text-anchor=\"start\" x=\"231\" y=\"-96\" font-family=\"monospace\" font-size=\"10.00\">dtype=QUInt(bi ..., mod=p</text>\n",
       "</g>\n",
       "<!-- b1 -->\n",
       "<g id=\"node2\" class=\"node\">\n",
       "<title>b1</title>\n",
       "<polygon fill=\"none\" stroke=\"black\" points=\"113,-36 0,-36 0,0 113,0 113,-36\"/>\n",
       "<text text-anchor=\"start\" x=\"31.5\" y=\"-19.8\" font-family=\"Times,serif\" font-size=\"14.00\">ModAdd</text>\n",
       "<text text-anchor=\"start\" x=\"8\" y=\"-9\" font-family=\"monospace\" font-size=\"10.00\">bitsize=n, mod=p</text>\n",
       "</g>\n",
       "<!-- b0&#45;&gt;b1 -->\n",
       "<g id=\"edge1\" class=\"edge\">\n",
       "<title>b0-&gt;b1</title>\n",
       "<path fill=\"none\" stroke=\"black\" d=\"M256.21,-86.9C215.86,-73.18 159.12,-53.89 116.42,-39.37\"/>\n",
       "<polygon fill=\"black\" stroke=\"black\" points=\"117.3,-35.98 106.71,-36.07 115.05,-42.6 117.3,-35.98\"/>\n",
       "<text text-anchor=\"middle\" x=\"200\" y=\"-57.8\" font-family=\"Times,serif\" font-size=\"14.00\">1</text>\n",
       "</g>\n",
       "<!-- b2 -->\n",
       "<g id=\"node3\" class=\"node\">\n",
       "<title>b2</title>\n",
       "<polygon fill=\"none\" stroke=\"black\" points=\"268,-36 131,-36 131,0 268,0 268,-36\"/>\n",
       "<text text-anchor=\"start\" x=\"179.5\" y=\"-19.8\" font-family=\"Times,serif\" font-size=\"14.00\">AddK†</text>\n",
       "<text text-anchor=\"start\" x=\"139\" y=\"-9\" font-family=\"monospace\" font-size=\"10.00\">subbloq=AddK(bit ...</text>\n",
       "</g>\n",
       "<!-- b0&#45;&gt;b2 -->\n",
       "<g id=\"edge2\" class=\"edge\">\n",
       "<title>b0-&gt;b2</title>\n",
       "<path fill=\"none\" stroke=\"black\" d=\"M284.85,-86.8C268.89,-74.13 247,-56.73 229.38,-42.74\"/>\n",
       "<polygon fill=\"black\" stroke=\"black\" points=\"231.13,-39.66 221.12,-36.18 226.77,-45.14 231.13,-39.66\"/>\n",
       "<text text-anchor=\"middle\" x=\"263\" y=\"-57.8\" font-family=\"Times,serif\" font-size=\"14.00\">1</text>\n",
       "</g>\n",
       "<!-- b3 -->\n",
       "<g id=\"node4\" class=\"node\">\n",
       "<title>b3</title>\n",
       "<polygon fill=\"none\" stroke=\"black\" points=\"543,-36 286,-36 286,0 543,0 543,-36\"/>\n",
       "<text text-anchor=\"start\" x=\"397.5\" y=\"-19.8\" font-family=\"Times,serif\" font-size=\"14.00\">AddK</text>\n",
       "<text text-anchor=\"start\" x=\"294\" y=\"-9\" font-family=\"monospace\" font-size=\"10.00\">bitsize=n, k=p + 1, cvs=(), signed=False</text>\n",
       "</g>\n",
       "<!-- b0&#45;&gt;b3 -->\n",
       "<g id=\"edge3\" class=\"edge\">\n",
       "<title>b0-&gt;b3</title>\n",
       "<path fill=\"none\" stroke=\"black\" d=\"M328.36,-86.8C344.46,-74.13 366.56,-56.73 384.34,-42.74\"/>\n",
       "<polygon fill=\"black\" stroke=\"black\" points=\"386.98,-45.11 392.68,-36.18 382.65,-39.61 386.98,-45.11\"/>\n",
       "<text text-anchor=\"middle\" x=\"371\" y=\"-57.8\" font-family=\"Times,serif\" font-size=\"14.00\">1</text>\n",
       "</g>\n",
       "<!-- b4 -->\n",
       "<g id=\"node5\" class=\"node\">\n",
       "<title>b4</title>\n",
       "<polygon fill=\"none\" stroke=\"black\" points=\"686,-36 561,-36 561,0 686,0 686,-36\"/>\n",
       "<text text-anchor=\"start\" x=\"592.5\" y=\"-19.8\" font-family=\"Times,serif\" font-size=\"14.00\">BitwiseNot</text>\n",
       "<text text-anchor=\"start\" x=\"569\" y=\"-9\" font-family=\"monospace\" font-size=\"10.00\">dtype=QUInt(bi ...</text>\n",
       "</g>\n",
       "<!-- b0&#45;&gt;b4 -->\n",
       "<g id=\"edge4\" class=\"edge\">\n",
       "<title>b0-&gt;b4</title>\n",
       "<path fill=\"none\" stroke=\"black\" d=\"M370.27,-86.9C422.52,-72.89 496.47,-53.06 550.97,-38.45\"/>\n",
       "<polygon fill=\"black\" stroke=\"black\" points=\"552.16,-41.75 560.91,-35.78 550.35,-34.99 552.16,-41.75\"/>\n",
       "<text text-anchor=\"middle\" x=\"488\" y=\"-57.8\" font-family=\"Times,serif\" font-size=\"14.00\">2</text>\n",
       "</g>\n",
       "</g>\n",
       "</svg>"
      ],
      "text/plain": [
       "<IPython.core.display.SVG object>"
      ]
     },
     "metadata": {},
     "output_type": "display_data"
    },
    {
     "data": {
      "text/markdown": [
       "#### Counts totals:\n",
       " - `AddK`: 1\n",
       " - `Adjoint(subbloq=AddK)`: 1\n",
       " - `BitwiseNot`: 2\n",
       " - `ModAdd`: 1"
      ],
      "text/plain": [
       "<IPython.core.display.Markdown object>"
      ]
     },
     "metadata": {},
     "output_type": "display_data"
    }
   ],
   "source": [
    "from qualtran.resource_counting.generalizers import ignore_split_join\n",
    "modsub_symb_g, modsub_symb_sigma = modsub_symb.call_graph(max_depth=1, generalizer=ignore_split_join)\n",
    "show_call_graph(modsub_symb_g)\n",
    "show_counts_sigma(modsub_symb_sigma)"
   ]
  },
  {
   "cell_type": "markdown",
   "id": "e2ca65c8",
   "metadata": {
    "cq.autogen": "CModSub.bloq_doc.md"
   },
   "source": [
    "## `CModSub`\n",
    "Performs controlled modular subtraction.\n",
    "\n",
    "Applies the operation $\\ket{c}\\ket{x} \\ket{y} \\rightarrow \\ket{c}\\ket{x} \\ket{y-cx \\% p}$\n",
    "\n",
    "#### Parameters\n",
    " - `dtype`: Datatype of the register.\n",
    " - `p`: The modulus for the negation.\n",
    " - `cv`: value at which the bloq is active. \n",
    "\n",
    "#### Registers\n",
    " - `ctrl`: control register.\n",
    " - `x`: The register contraining the first integer.\n",
    " - `y`: The register contraining the second integer. \n",
    "\n",
    "#### References\n",
    " - [How to compute a 256-bit elliptic curve private key with only 50 million Toffoli gates](https://arxiv.org/abs/2306.08585). Fig 6c and 8\n"
   ]
  },
  {
   "cell_type": "code",
   "execution_count": 14,
   "id": "f3075f45",
   "metadata": {
    "cq.autogen": "CModSub.bloq_doc.py"
   },
   "outputs": [],
   "source": [
    "from qualtran.bloqs.mod_arithmetic import CModSub"
   ]
  },
  {
   "cell_type": "markdown",
   "id": "5413f37d",
   "metadata": {
    "cq.autogen": "CModSub.example_instances.md"
   },
   "source": [
    "### Example Instances"
   ]
  },
  {
   "cell_type": "code",
   "execution_count": 15,
   "id": "1d257167",
   "metadata": {
    "cq.autogen": "CModSub.cmodsub_symb"
   },
   "outputs": [],
   "source": [
    "n, p = sympy.symbols('n p')\n",
    "cmodsub_symb = CModSub(QUInt(n), p)"
   ]
  },
  {
   "cell_type": "markdown",
   "id": "83c7dc30",
   "metadata": {
    "cq.autogen": "CModSub.graphical_signature.md"
   },
   "source": [
    "#### Graphical Signature"
   ]
  },
  {
   "cell_type": "code",
   "execution_count": 16,
   "id": "d08073ac",
   "metadata": {
    "cq.autogen": "CModSub.graphical_signature.py"
   },
   "outputs": [
    {
     "data": {
      "application/vnd.jupyter.widget-view+json": {
       "model_id": "5bd7229b654c40b088dc1e91fc43791d",
       "version_major": 2,
       "version_minor": 0
      },
      "text/plain": [
       "HBox(children=(Output(outputs=({'output_type': 'display_data', 'data': {'text/plain': '<IPython.core.display.M…"
      ]
     },
     "metadata": {},
     "output_type": "display_data"
    }
   ],
   "source": [
    "from qualtran.drawing import show_bloqs\n",
    "show_bloqs([cmodsub_symb],\n",
    "           ['`cmodsub_symb`'])"
   ]
  },
  {
   "cell_type": "markdown",
   "id": "b4e6b051",
   "metadata": {
    "cq.autogen": "CModSub.call_graph.md"
   },
   "source": [
    "### Call Graph"
   ]
  },
  {
   "cell_type": "code",
   "execution_count": 17,
   "id": "53f671dd",
   "metadata": {
    "cq.autogen": "CModSub.call_graph.py"
   },
   "outputs": [
    {
     "data": {
      "image/svg+xml": [
       "<svg xmlns=\"http://www.w3.org/2000/svg\" xmlns:xlink=\"http://www.w3.org/1999/xlink\" width=\"784pt\" height=\"131pt\" viewBox=\"0.00 0.00 784.00 131.00\">\n",
       "<g id=\"graph0\" class=\"graph\" transform=\"scale(1 1) rotate(0) translate(4 127)\">\n",
       "<title>counts</title>\n",
       "<polygon fill=\"white\" stroke=\"transparent\" points=\"-4,4 -4,-127 780,-127 780,4 -4,4\"/>\n",
       "<!-- b0 -->\n",
       "<g id=\"node1\" class=\"node\">\n",
       "<title>b0</title>\n",
       "<polygon fill=\"none\" stroke=\"black\" points=\"482,-123 279,-123 279,-87 482,-87 482,-123\"/>\n",
       "<text text-anchor=\"start\" x=\"352\" y=\"-106.8\" font-family=\"Times,serif\" font-size=\"14.00\">CModSub</text>\n",
       "<text text-anchor=\"start\" x=\"287\" y=\"-96\" font-family=\"monospace\" font-size=\"10.00\">dtype=QUInt(bi ..., mod=p, cv=1</text>\n",
       "</g>\n",
       "<!-- b1 -->\n",
       "<g id=\"node2\" class=\"node\">\n",
       "<title>b1</title>\n",
       "<polygon fill=\"none\" stroke=\"black\" points=\"137,-36 0,-36 0,0 137,0 137,-36\"/>\n",
       "<text text-anchor=\"start\" x=\"48.5\" y=\"-19.8\" font-family=\"Times,serif\" font-size=\"14.00\">AddK†</text>\n",
       "<text text-anchor=\"start\" x=\"8\" y=\"-9\" font-family=\"monospace\" font-size=\"10.00\">subbloq=AddK(bit ...</text>\n",
       "</g>\n",
       "<!-- b0&#45;&gt;b1 -->\n",
       "<g id=\"edge1\" class=\"edge\">\n",
       "<title>b0-&gt;b1</title>\n",
       "<path fill=\"none\" stroke=\"black\" d=\"M317.74,-86.9C266.64,-72.98 194.47,-53.32 140.93,-38.73\"/>\n",
       "<polygon fill=\"black\" stroke=\"black\" points=\"141.73,-35.32 131.16,-36.07 139.89,-42.08 141.73,-35.32\"/>\n",
       "<text text-anchor=\"middle\" x=\"247\" y=\"-57.8\" font-family=\"Times,serif\" font-size=\"14.00\">1</text>\n",
       "</g>\n",
       "<!-- b2 -->\n",
       "<g id=\"node3\" class=\"node\">\n",
       "<title>b2</title>\n",
       "<polygon fill=\"none\" stroke=\"black\" points=\"358,-36 155,-36 155,0 358,0 358,-36\"/>\n",
       "<text text-anchor=\"start\" x=\"227\" y=\"-19.8\" font-family=\"Times,serif\" font-size=\"14.00\">CModAdd</text>\n",
       "<text text-anchor=\"start\" x=\"163\" y=\"-9\" font-family=\"monospace\" font-size=\"10.00\">dtype=QUInt(bi ..., mod=p, cv=1</text>\n",
       "</g>\n",
       "<!-- b0&#45;&gt;b2 -->\n",
       "<g id=\"edge2\" class=\"edge\">\n",
       "<title>b0-&gt;b2</title>\n",
       "<path fill=\"none\" stroke=\"black\" d=\"M355.41,-86.8C336.58,-73.9 310.62,-56.1 290.02,-41.98\"/>\n",
       "<polygon fill=\"black\" stroke=\"black\" points=\"291.78,-38.94 281.56,-36.18 287.83,-44.72 291.78,-38.94\"/>\n",
       "<text text-anchor=\"middle\" x=\"330\" y=\"-57.8\" font-family=\"Times,serif\" font-size=\"14.00\">1</text>\n",
       "</g>\n",
       "<!-- b3 -->\n",
       "<g id=\"node4\" class=\"node\">\n",
       "<title>b3</title>\n",
       "<polygon fill=\"none\" stroke=\"black\" points=\"633,-36 376,-36 376,0 633,0 633,-36\"/>\n",
       "<text text-anchor=\"start\" x=\"487.5\" y=\"-19.8\" font-family=\"Times,serif\" font-size=\"14.00\">AddK</text>\n",
       "<text text-anchor=\"start\" x=\"384\" y=\"-9\" font-family=\"monospace\" font-size=\"10.00\">bitsize=n, k=p + 1, cvs=(), signed=False</text>\n",
       "</g>\n",
       "<!-- b0&#45;&gt;b3 -->\n",
       "<g id=\"edge3\" class=\"edge\">\n",
       "<title>b0-&gt;b3</title>\n",
       "<path fill=\"none\" stroke=\"black\" d=\"M405.59,-86.8C424.42,-73.9 450.38,-56.1 470.98,-41.98\"/>\n",
       "<polygon fill=\"black\" stroke=\"black\" points=\"473.17,-44.72 479.44,-36.18 469.22,-38.94 473.17,-44.72\"/>\n",
       "<text text-anchor=\"middle\" x=\"454\" y=\"-57.8\" font-family=\"Times,serif\" font-size=\"14.00\">1</text>\n",
       "</g>\n",
       "<!-- b4 -->\n",
       "<g id=\"node5\" class=\"node\">\n",
       "<title>b4</title>\n",
       "<polygon fill=\"none\" stroke=\"black\" points=\"776,-36 651,-36 651,0 776,0 776,-36\"/>\n",
       "<text text-anchor=\"start\" x=\"682.5\" y=\"-19.8\" font-family=\"Times,serif\" font-size=\"14.00\">BitwiseNot</text>\n",
       "<text text-anchor=\"start\" x=\"659\" y=\"-9\" font-family=\"monospace\" font-size=\"10.00\">dtype=QUInt(bi ...</text>\n",
       "</g>\n",
       "<!-- b0&#45;&gt;b4 -->\n",
       "<g id=\"edge4\" class=\"edge\">\n",
       "<title>b0-&gt;b4</title>\n",
       "<path fill=\"none\" stroke=\"black\" d=\"M447.49,-86.9C503.59,-72.58 583.51,-52.18 641.09,-37.48\"/>\n",
       "<polygon fill=\"black\" stroke=\"black\" points=\"642.02,-40.86 650.84,-34.99 640.29,-34.08 642.02,-40.86\"/>\n",
       "<text text-anchor=\"middle\" x=\"571\" y=\"-57.8\" font-family=\"Times,serif\" font-size=\"14.00\">2</text>\n",
       "</g>\n",
       "</g>\n",
       "</svg>"
      ],
      "text/plain": [
       "<IPython.core.display.SVG object>"
      ]
     },
     "metadata": {},
     "output_type": "display_data"
    },
    {
     "data": {
      "text/markdown": [
       "#### Counts totals:\n",
       " - `AddK`: 1\n",
       " - `Adjoint(subbloq=AddK)`: 1\n",
       " - `BitwiseNot`: 2\n",
       " - `CModAdd`: 1"
      ],
      "text/plain": [
       "<IPython.core.display.Markdown object>"
      ]
     },
     "metadata": {},
     "output_type": "display_data"
    }
   ],
   "source": [
    "from qualtran.resource_counting.generalizers import ignore_split_join\n",
    "cmodsub_symb_g, cmodsub_symb_sigma = cmodsub_symb.call_graph(max_depth=1, generalizer=ignore_split_join)\n",
    "show_call_graph(cmodsub_symb_g)\n",
    "show_counts_sigma(cmodsub_symb_sigma)"
   ]
  }
 ],
 "metadata": {
  "kernelspec": {
   "display_name": "Python 3",
   "language": "python",
   "name": "python3"
  },
  "language_info": {
   "codemirror_mode": {
    "name": "ipython",
    "version": 3
   },
   "file_extension": ".py",
   "mimetype": "text/x-python",
   "name": "python",
   "nbconvert_exporter": "python",
   "pygments_lexer": "ipython3",
   "version": "3.11.8"
  },
  "widgets": {
   "application/vnd.jupyter.widget-state+json": {
    "state": {
     "10e4bf98838244f4b4961c3d9b2a79c4": {
      "model_module": "@jupyter-widgets/base",
      "model_module_version": "2.0.0",
      "model_name": "LayoutModel",
      "state": {
       "_model_module": "@jupyter-widgets/base",
       "_model_module_version": "2.0.0",
       "_model_name": "LayoutModel",
       "_view_count": null,
       "_view_module": "@jupyter-widgets/base",
       "_view_module_version": "2.0.0",
       "_view_name": "LayoutView",
       "align_content": null,
       "align_items": null,
       "align_self": null,
       "border_bottom": null,
       "border_left": null,
       "border_right": null,
       "border_top": null,
       "bottom": null,
       "display": null,
       "flex": null,
       "flex_flow": null,
       "grid_area": null,
       "grid_auto_columns": null,
       "grid_auto_flow": null,
       "grid_auto_rows": null,
       "grid_column": null,
       "grid_gap": null,
       "grid_row": null,
       "grid_template_areas": null,
       "grid_template_columns": null,
       "grid_template_rows": null,
       "height": null,
       "justify_content": null,
       "justify_items": null,
       "left": null,
       "margin": null,
       "max_height": null,
       "max_width": null,
       "min_height": null,
       "min_width": null,
       "object_fit": null,
       "object_position": null,
       "order": null,
       "overflow": null,
       "padding": null,
       "right": null,
       "top": null,
       "visibility": null,
       "width": null
      }
     },
     "2e5d4cc7e7df449d90d32527d334b3b4": {
      "model_module": "@jupyter-widgets/output",
      "model_module_version": "1.0.0",
      "model_name": "OutputModel",
      "state": {
       "_dom_classes": [],
       "_model_module": "@jupyter-widgets/output",
       "_model_module_version": "1.0.0",
       "_model_name": "OutputModel",
       "_view_count": null,
       "_view_module": "@jupyter-widgets/output",
       "_view_module_version": "1.0.0",
       "_view_name": "OutputView",
       "layout": "IPY_MODEL_538b37cbc0f04160bab21394d182fbfb",
       "msg_id": "",
       "outputs": [
        {
         "data": {
          "text/markdown": "`modsub_symb`",
          "text/plain": "<IPython.core.display.Markdown object>"
         },
         "metadata": {},
         "output_type": "display_data"
        },
        {
         "data": {
          "image/svg+xml": "<svg xmlns=\"http://www.w3.org/2000/svg\" xmlns:xlink=\"http://www.w3.org/1999/xlink\" width=\"232pt\" height=\"98pt\" viewBox=\"0.00 0.00 232.00 98.00\">\n<g id=\"graph0\" class=\"graph\" transform=\"scale(1 1) rotate(0) translate(4 94)\">\n<title>my_graph</title>\n<polygon fill=\"white\" stroke=\"transparent\" points=\"-4,4 -4,-94 228,-94 228,4 -4,4\"/>\n<!-- x_G3 -->\n<g id=\"node1\" class=\"node\">\n<title>x_G3</title>\n<text text-anchor=\"middle\" x=\"27\" y=\"-68.3\" font-family=\"Times,serif\" font-size=\"14.00\">x</text>\n</g>\n<!-- ModSub -->\n<g id=\"node3\" class=\"node\">\n<title>ModSub</title>\n<polygon fill=\"none\" stroke=\"black\" points=\"91,-66 91,-83 133,-83 133,-66 91,-66\"/>\n<text text-anchor=\"start\" x=\"94\" y=\"-72\" font-family=\"Times,serif\" font-size=\"10.00\">ModSub</text>\n<polygon fill=\"none\" stroke=\"black\" points=\"91,-45 91,-66 133,-66 133,-45 91,-45\"/>\n<text text-anchor=\"start\" x=\"108.5\" y=\"-51.8\" font-family=\"Times,serif\" font-size=\"14.00\">x</text>\n<polygon fill=\"none\" stroke=\"black\" points=\"91,-24 91,-45 133,-45 133,-24 91,-24\"/>\n<text text-anchor=\"start\" x=\"108.5\" y=\"-30.8\" font-family=\"Times,serif\" font-size=\"14.00\">y</text>\n</g>\n<!-- x_G3&#45;&gt;ModSub -->\n<g id=\"edge1\" class=\"edge\">\n<title>x_G3:e-&gt;ModSub:w</title>\n<path fill=\"none\" stroke=\"black\" d=\"M54,-72C71.22,-72 72.97,-57.23 88.98,-56.07\"/>\n<ellipse fill=\"black\" stroke=\"black\" cx=\"90\" cy=\"-56.04\" rx=\"1\" ry=\"1\"/>\n<text text-anchor=\"middle\" x=\"72.5\" y=\"-67\" font-family=\"Times,serif\" font-size=\"10.00\">n</text>\n</g>\n<!-- y_G0 -->\n<g id=\"node2\" class=\"node\">\n<title>y_G0</title>\n<text text-anchor=\"middle\" x=\"27\" y=\"-14.3\" font-family=\"Times,serif\" font-size=\"14.00\">y</text>\n</g>\n<!-- y_G0&#45;&gt;ModSub -->\n<g id=\"edge2\" class=\"edge\">\n<title>y_G0:e-&gt;ModSub:w</title>\n<path fill=\"none\" stroke=\"black\" d=\"M54,-18C71.22,-18 72.97,-32.77 88.98,-33.93\"/>\n<ellipse fill=\"black\" stroke=\"black\" cx=\"90\" cy=\"-33.96\" rx=\"1\" ry=\"1\"/>\n<text text-anchor=\"middle\" x=\"72.5\" y=\"-29\" font-family=\"Times,serif\" font-size=\"10.00\">n</text>\n</g>\n<!-- x_G2 -->\n<g id=\"node4\" class=\"node\">\n<title>x_G2</title>\n<text text-anchor=\"middle\" x=\"197\" y=\"-68.3\" font-family=\"Times,serif\" font-size=\"14.00\">x</text>\n</g>\n<!-- ModSub&#45;&gt;x_G2 -->\n<g id=\"edge3\" class=\"edge\">\n<title>ModSub:e-&gt;x_G2:w</title>\n<path fill=\"none\" stroke=\"black\" d=\"M133,-56C150.22,-56 151.97,-70.77 167.98,-71.93\"/>\n<ellipse fill=\"black\" stroke=\"black\" cx=\"169\" cy=\"-71.96\" rx=\"1\" ry=\"1\"/>\n<text text-anchor=\"middle\" x=\"151.5\" y=\"-67\" font-family=\"Times,serif\" font-size=\"10.00\">n</text>\n</g>\n<!-- y_G1 -->\n<g id=\"node5\" class=\"node\">\n<title>y_G1</title>\n<text text-anchor=\"middle\" x=\"197\" y=\"-14.3\" font-family=\"Times,serif\" font-size=\"14.00\">y</text>\n</g>\n<!-- ModSub&#45;&gt;y_G1 -->\n<g id=\"edge4\" class=\"edge\">\n<title>ModSub:e-&gt;y_G1:w</title>\n<path fill=\"none\" stroke=\"black\" d=\"M133,-34C150.22,-34 151.97,-19.23 167.98,-18.07\"/>\n<ellipse fill=\"black\" stroke=\"black\" cx=\"169\" cy=\"-18.04\" rx=\"1\" ry=\"1\"/>\n<text text-anchor=\"middle\" x=\"151.5\" y=\"-29\" font-family=\"Times,serif\" font-size=\"10.00\">n</text>\n</g>\n</g>\n</svg>",
          "text/plain": "<IPython.core.display.SVG object>"
         },
         "metadata": {},
         "output_type": "display_data"
        }
       ],
       "tabbable": null,
       "tooltip": null
      }
     },
     "474a4b08882f4d06b2a628ff6e2300e1": {
      "model_module": "@jupyter-widgets/output",
      "model_module_version": "1.0.0",
      "model_name": "OutputModel",
      "state": {
       "_dom_classes": [],
       "_model_module": "@jupyter-widgets/output",
       "_model_module_version": "1.0.0",
       "_model_name": "OutputModel",
       "_view_count": null,
       "_view_module": "@jupyter-widgets/output",
       "_view_module_version": "1.0.0",
       "_view_name": "OutputView",
       "layout": "IPY_MODEL_10e4bf98838244f4b4961c3d9b2a79c4",
       "msg_id": "",
       "outputs": [
        {
         "data": {
          "text/markdown": "`mod_neg`",
          "text/plain": "<IPython.core.display.Markdown object>"
         },
         "metadata": {},
         "output_type": "display_data"
        },
        {
         "data": {
          "image/svg+xml": "<svg xmlns=\"http://www.w3.org/2000/svg\" xmlns:xlink=\"http://www.w3.org/1999/xlink\" width=\"233pt\" height=\"54pt\" viewBox=\"0.00 0.00 233.00 54.00\">\n<g id=\"graph0\" class=\"graph\" transform=\"scale(1 1) rotate(0) translate(4 50)\">\n<title>my_graph</title>\n<polygon fill=\"white\" stroke=\"transparent\" points=\"-4,4 -4,-50 229,-50 229,4 -4,4\"/>\n<!-- x_G0 -->\n<g id=\"node1\" class=\"node\">\n<title>x_G0</title>\n<text text-anchor=\"middle\" x=\"27\" y=\"-14.3\" font-family=\"Times,serif\" font-size=\"14.00\">x</text>\n</g>\n<!-- ModNeg -->\n<g id=\"node2\" class=\"node\">\n<title>ModNeg</title>\n<polygon fill=\"none\" stroke=\"black\" points=\"91.5,-29 91.5,-46 134.5,-46 134.5,-29 91.5,-29\"/>\n<text text-anchor=\"start\" x=\"94.5\" y=\"-35\" font-family=\"Times,serif\" font-size=\"10.00\">ModNeg</text>\n<polygon fill=\"none\" stroke=\"black\" points=\"91.5,-8 91.5,-29 134.5,-29 134.5,-8 91.5,-8\"/>\n<text text-anchor=\"start\" x=\"109.5\" y=\"-14.8\" font-family=\"Times,serif\" font-size=\"14.00\">x</text>\n</g>\n<!-- x_G0&#45;&gt;ModNeg -->\n<g id=\"edge1\" class=\"edge\">\n<title>x_G0:e-&gt;ModNeg:w</title>\n<path fill=\"none\" stroke=\"black\" d=\"M54,-18C69.67,-18 74.14,-18 88.77,-18\"/>\n<ellipse fill=\"black\" stroke=\"black\" cx=\"90\" cy=\"-18\" rx=\"1\" ry=\"1\"/>\n<text text-anchor=\"middle\" x=\"72.5\" y=\"-21\" font-family=\"Times,serif\" font-size=\"10.00\">32</text>\n</g>\n<!-- x_G2 -->\n<g id=\"node3\" class=\"node\">\n<title>x_G2</title>\n<text text-anchor=\"middle\" x=\"198\" y=\"-14.3\" font-family=\"Times,serif\" font-size=\"14.00\">x</text>\n</g>\n<!-- ModNeg&#45;&gt;x_G2 -->\n<g id=\"edge2\" class=\"edge\">\n<title>ModNeg:e-&gt;x_G2:w</title>\n<path fill=\"none\" stroke=\"black\" d=\"M134,-18C149.67,-18 154.14,-18 168.77,-18\"/>\n<ellipse fill=\"black\" stroke=\"black\" cx=\"170\" cy=\"-18\" rx=\"1\" ry=\"1\"/>\n<text text-anchor=\"middle\" x=\"152.5\" y=\"-21\" font-family=\"Times,serif\" font-size=\"10.00\">32</text>\n</g>\n</g>\n</svg>",
          "text/plain": "<IPython.core.display.SVG object>"
         },
         "metadata": {},
         "output_type": "display_data"
        }
       ],
       "tabbable": null,
       "tooltip": null
      }
     },
     "519d5cddcac944249ffb609e9206c732": {
      "model_module": "@jupyter-widgets/output",
      "model_module_version": "1.0.0",
      "model_name": "OutputModel",
      "state": {
       "_dom_classes": [],
       "_model_module": "@jupyter-widgets/output",
       "_model_module_version": "1.0.0",
       "_model_name": "OutputModel",
       "_view_count": null,
       "_view_module": "@jupyter-widgets/output",
       "_view_module_version": "1.0.0",
       "_view_name": "OutputView",
       "layout": "IPY_MODEL_96e40df4bd0b4b758b15e1b341f05ef1",
       "msg_id": "",
       "outputs": [
        {
         "data": {
          "text/markdown": "`cmodsub_symb`",
          "text/plain": "<IPython.core.display.Markdown object>"
         },
         "metadata": {},
         "output_type": "display_data"
        },
        {
         "data": {
          "image/svg+xml": "<svg xmlns=\"http://www.w3.org/2000/svg\" xmlns:xlink=\"http://www.w3.org/1999/xlink\" width=\"239pt\" height=\"152pt\" viewBox=\"0.00 0.00 239.00 152.00\">\n<g id=\"graph0\" class=\"graph\" transform=\"scale(1 1) rotate(0) translate(4 148)\">\n<title>my_graph</title>\n<polygon fill=\"white\" stroke=\"transparent\" points=\"-4,4 -4,-148 235,-148 235,4 -4,4\"/>\n<!-- ctrl_G2 -->\n<g id=\"node1\" class=\"node\">\n<title>ctrl_G2</title>\n<text text-anchor=\"middle\" x=\"27\" y=\"-122.3\" font-family=\"Times,serif\" font-size=\"14.00\">ctrl</text>\n</g>\n<!-- CModSub -->\n<g id=\"node4\" class=\"node\">\n<title>CModSub</title>\n<polygon fill=\"none\" stroke=\"black\" points=\"91.5,-104 91.5,-121 140.5,-121 140.5,-104 91.5,-104\"/>\n<text text-anchor=\"start\" x=\"94.5\" y=\"-110\" font-family=\"Times,serif\" font-size=\"10.00\">CModSub</text>\n<polygon fill=\"none\" stroke=\"black\" points=\"91.5,-83 91.5,-104 140.5,-104 140.5,-83 91.5,-83\"/>\n<text text-anchor=\"start\" x=\"106.5\" y=\"-89.8\" font-family=\"Times,serif\" font-size=\"14.00\">ctrl</text>\n<polygon fill=\"none\" stroke=\"black\" points=\"91.5,-62 91.5,-83 140.5,-83 140.5,-62 91.5,-62\"/>\n<text text-anchor=\"start\" x=\"112.5\" y=\"-68.8\" font-family=\"Times,serif\" font-size=\"14.00\">x</text>\n<polygon fill=\"none\" stroke=\"black\" points=\"91.5,-41 91.5,-62 140.5,-62 140.5,-41 91.5,-41\"/>\n<text text-anchor=\"start\" x=\"112.5\" y=\"-47.8\" font-family=\"Times,serif\" font-size=\"14.00\">y</text>\n</g>\n<!-- ctrl_G2&#45;&gt;CModSub -->\n<g id=\"edge1\" class=\"edge\">\n<title>ctrl_G2:e-&gt;CModSub:w</title>\n<path fill=\"none\" stroke=\"black\" d=\"M54,-126C74.89,-126 69.72,-96.45 88.58,-94.14\"/>\n<ellipse fill=\"black\" stroke=\"black\" cx=\"90\" cy=\"-94.06\" rx=\"1\" ry=\"1\"/>\n<text text-anchor=\"middle\" x=\"72.5\" y=\"-113\" font-family=\"Times,serif\" font-size=\"10.00\">1</text>\n</g>\n<!-- x_G7 -->\n<g id=\"node2\" class=\"node\">\n<title>x_G7</title>\n<text text-anchor=\"middle\" x=\"27\" y=\"-68.3\" font-family=\"Times,serif\" font-size=\"14.00\">x</text>\n</g>\n<!-- x_G7&#45;&gt;CModSub -->\n<g id=\"edge2\" class=\"edge\">\n<title>x_G7:e-&gt;CModSub:w</title>\n<path fill=\"none\" stroke=\"black\" d=\"M54,-72C69.67,-72 74.14,-72 88.77,-72\"/>\n<ellipse fill=\"black\" stroke=\"black\" cx=\"90\" cy=\"-72\" rx=\"1\" ry=\"1\"/>\n<text text-anchor=\"middle\" x=\"72.5\" y=\"-75\" font-family=\"Times,serif\" font-size=\"10.00\">n</text>\n</g>\n<!-- y_G4 -->\n<g id=\"node3\" class=\"node\">\n<title>y_G4</title>\n<text text-anchor=\"middle\" x=\"27\" y=\"-14.3\" font-family=\"Times,serif\" font-size=\"14.00\">y</text>\n</g>\n<!-- y_G4&#45;&gt;CModSub -->\n<g id=\"edge3\" class=\"edge\">\n<title>y_G4:e-&gt;CModSub:w</title>\n<path fill=\"none\" stroke=\"black\" d=\"M54,-18C75.17,-18 69.47,-48.47 88.55,-50.85\"/>\n<ellipse fill=\"black\" stroke=\"black\" cx=\"90\" cy=\"-50.94\" rx=\"1\" ry=\"1\"/>\n<text text-anchor=\"middle\" x=\"72.5\" y=\"-39\" font-family=\"Times,serif\" font-size=\"10.00\">n</text>\n</g>\n<!-- ctrl_G3 -->\n<g id=\"node5\" class=\"node\">\n<title>ctrl_G3</title>\n<text text-anchor=\"middle\" x=\"204\" y=\"-122.3\" font-family=\"Times,serif\" font-size=\"14.00\">ctrl</text>\n</g>\n<!-- CModSub&#45;&gt;ctrl_G3 -->\n<g id=\"edge4\" class=\"edge\">\n<title>CModSub:e-&gt;ctrl_G3:w</title>\n<path fill=\"none\" stroke=\"black\" d=\"M140,-94C160.89,-94 155.72,-123.55 174.58,-125.86\"/>\n<ellipse fill=\"black\" stroke=\"black\" cx=\"176\" cy=\"-125.94\" rx=\"1\" ry=\"1\"/>\n<text text-anchor=\"middle\" x=\"158.5\" y=\"-113\" font-family=\"Times,serif\" font-size=\"10.00\">1</text>\n</g>\n<!-- x_G1 -->\n<g id=\"node6\" class=\"node\">\n<title>x_G1</title>\n<text text-anchor=\"middle\" x=\"204\" y=\"-68.3\" font-family=\"Times,serif\" font-size=\"14.00\">x</text>\n</g>\n<!-- CModSub&#45;&gt;x_G1 -->\n<g id=\"edge5\" class=\"edge\">\n<title>CModSub:e-&gt;x_G1:w</title>\n<path fill=\"none\" stroke=\"black\" d=\"M140,-72C155.67,-72 160.14,-72 174.77,-72\"/>\n<ellipse fill=\"black\" stroke=\"black\" cx=\"176\" cy=\"-72\" rx=\"1\" ry=\"1\"/>\n<text text-anchor=\"middle\" x=\"158.5\" y=\"-75\" font-family=\"Times,serif\" font-size=\"10.00\">n</text>\n</g>\n<!-- y_G6 -->\n<g id=\"node7\" class=\"node\">\n<title>y_G6</title>\n<text text-anchor=\"middle\" x=\"204\" y=\"-14.3\" font-family=\"Times,serif\" font-size=\"14.00\">y</text>\n</g>\n<!-- CModSub&#45;&gt;y_G6 -->\n<g id=\"edge6\" class=\"edge\">\n<title>CModSub:e-&gt;y_G6:w</title>\n<path fill=\"none\" stroke=\"black\" d=\"M140,-51C161.17,-51 155.47,-20.53 174.55,-18.15\"/>\n<ellipse fill=\"black\" stroke=\"black\" cx=\"176\" cy=\"-18.06\" rx=\"1\" ry=\"1\"/>\n<text text-anchor=\"middle\" x=\"158.5\" y=\"-39\" font-family=\"Times,serif\" font-size=\"10.00\">n</text>\n</g>\n</g>\n</svg>",
          "text/plain": "<IPython.core.display.SVG object>"
         },
         "metadata": {},
         "output_type": "display_data"
        }
       ],
       "tabbable": null,
       "tooltip": null
      }
     },
     "538b37cbc0f04160bab21394d182fbfb": {
      "model_module": "@jupyter-widgets/base",
      "model_module_version": "2.0.0",
      "model_name": "LayoutModel",
      "state": {
       "_model_module": "@jupyter-widgets/base",
       "_model_module_version": "2.0.0",
       "_model_name": "LayoutModel",
       "_view_count": null,
       "_view_module": "@jupyter-widgets/base",
       "_view_module_version": "2.0.0",
       "_view_name": "LayoutView",
       "align_content": null,
       "align_items": null,
       "align_self": null,
       "border_bottom": null,
       "border_left": null,
       "border_right": null,
       "border_top": null,
       "bottom": null,
       "display": null,
       "flex": null,
       "flex_flow": null,
       "grid_area": null,
       "grid_auto_columns": null,
       "grid_auto_flow": null,
       "grid_auto_rows": null,
       "grid_column": null,
       "grid_gap": null,
       "grid_row": null,
       "grid_template_areas": null,
       "grid_template_columns": null,
       "grid_template_rows": null,
       "height": null,
       "justify_content": null,
       "justify_items": null,
       "left": null,
       "margin": null,
       "max_height": null,
       "max_width": null,
       "min_height": null,
       "min_width": null,
       "object_fit": null,
       "object_position": null,
       "order": null,
       "overflow": null,
       "padding": null,
       "right": null,
       "top": null,
       "visibility": null,
       "width": null
      }
     },
     "5bd7229b654c40b088dc1e91fc43791d": {
      "model_module": "@jupyter-widgets/controls",
      "model_module_version": "2.0.0",
      "model_name": "HBoxModel",
      "state": {
       "_dom_classes": [],
       "_model_module": "@jupyter-widgets/controls",
       "_model_module_version": "2.0.0",
       "_model_name": "HBoxModel",
       "_view_count": null,
       "_view_module": "@jupyter-widgets/controls",
       "_view_module_version": "2.0.0",
       "_view_name": "HBoxView",
       "box_style": "",
       "children": [
        "IPY_MODEL_519d5cddcac944249ffb609e9206c732"
       ],
       "layout": "IPY_MODEL_9b6a43867afa432da25487b24fa1897d",
       "tabbable": null,
       "tooltip": null
      }
     },
     "5be656c11e324cc886c940a579a2d8d6": {
      "model_module": "@jupyter-widgets/controls",
      "model_module_version": "2.0.0",
      "model_name": "HBoxModel",
      "state": {
       "_dom_classes": [],
       "_model_module": "@jupyter-widgets/controls",
       "_model_module_version": "2.0.0",
       "_model_name": "HBoxModel",
       "_view_count": null,
       "_view_module": "@jupyter-widgets/controls",
       "_view_module_version": "2.0.0",
       "_view_name": "HBoxView",
       "box_style": "",
       "children": [
        "IPY_MODEL_eeecff3198624d4db7b8547a291d6004"
       ],
       "layout": "IPY_MODEL_7e94e07bb500417f946149bf9e2066e3",
       "tabbable": null,
       "tooltip": null
      }
     },
     "7e94e07bb500417f946149bf9e2066e3": {
      "model_module": "@jupyter-widgets/base",
      "model_module_version": "2.0.0",
      "model_name": "LayoutModel",
      "state": {
       "_model_module": "@jupyter-widgets/base",
       "_model_module_version": "2.0.0",
       "_model_name": "LayoutModel",
       "_view_count": null,
       "_view_module": "@jupyter-widgets/base",
       "_view_module_version": "2.0.0",
       "_view_name": "LayoutView",
       "align_content": null,
       "align_items": null,
       "align_self": null,
       "border_bottom": null,
       "border_left": null,
       "border_right": null,
       "border_top": null,
       "bottom": null,
       "display": null,
       "flex": null,
       "flex_flow": null,
       "grid_area": null,
       "grid_auto_columns": null,
       "grid_auto_flow": null,
       "grid_auto_rows": null,
       "grid_column": null,
       "grid_gap": null,
       "grid_row": null,
       "grid_template_areas": null,
       "grid_template_columns": null,
       "grid_template_rows": null,
       "height": null,
       "justify_content": null,
       "justify_items": null,
       "left": null,
       "margin": null,
       "max_height": null,
       "max_width": null,
       "min_height": null,
       "min_width": null,
       "object_fit": null,
       "object_position": null,
       "order": null,
       "overflow": null,
       "padding": null,
       "right": null,
       "top": null,
       "visibility": null,
       "width": null
      }
     },
     "8080b2bf1b6e406c8d722b56c95c3fc9": {
      "model_module": "@jupyter-widgets/controls",
      "model_module_version": "2.0.0",
      "model_name": "HBoxModel",
      "state": {
       "_dom_classes": [],
       "_model_module": "@jupyter-widgets/controls",
       "_model_module_version": "2.0.0",
       "_model_name": "HBoxModel",
       "_view_count": null,
       "_view_module": "@jupyter-widgets/controls",
       "_view_module_version": "2.0.0",
       "_view_name": "HBoxView",
       "box_style": "",
       "children": [
        "IPY_MODEL_474a4b08882f4d06b2a628ff6e2300e1"
       ],
       "layout": "IPY_MODEL_8c61fd82c22f4292bb5a784c5da975fb",
       "tabbable": null,
       "tooltip": null
      }
     },
     "8c61fd82c22f4292bb5a784c5da975fb": {
      "model_module": "@jupyter-widgets/base",
      "model_module_version": "2.0.0",
      "model_name": "LayoutModel",
      "state": {
       "_model_module": "@jupyter-widgets/base",
       "_model_module_version": "2.0.0",
       "_model_name": "LayoutModel",
       "_view_count": null,
       "_view_module": "@jupyter-widgets/base",
       "_view_module_version": "2.0.0",
       "_view_name": "LayoutView",
       "align_content": null,
       "align_items": null,
       "align_self": null,
       "border_bottom": null,
       "border_left": null,
       "border_right": null,
       "border_top": null,
       "bottom": null,
       "display": null,
       "flex": null,
       "flex_flow": null,
       "grid_area": null,
       "grid_auto_columns": null,
       "grid_auto_flow": null,
       "grid_auto_rows": null,
       "grid_column": null,
       "grid_gap": null,
       "grid_row": null,
       "grid_template_areas": null,
       "grid_template_columns": null,
       "grid_template_rows": null,
       "height": null,
       "justify_content": null,
       "justify_items": null,
       "left": null,
       "margin": null,
       "max_height": null,
       "max_width": null,
       "min_height": null,
       "min_width": null,
       "object_fit": null,
       "object_position": null,
       "order": null,
       "overflow": null,
       "padding": null,
       "right": null,
       "top": null,
       "visibility": null,
       "width": null
      }
     },
     "96e40df4bd0b4b758b15e1b341f05ef1": {
      "model_module": "@jupyter-widgets/base",
      "model_module_version": "2.0.0",
      "model_name": "LayoutModel",
      "state": {
       "_model_module": "@jupyter-widgets/base",
       "_model_module_version": "2.0.0",
       "_model_name": "LayoutModel",
       "_view_count": null,
       "_view_module": "@jupyter-widgets/base",
       "_view_module_version": "2.0.0",
       "_view_name": "LayoutView",
       "align_content": null,
       "align_items": null,
       "align_self": null,
       "border_bottom": null,
       "border_left": null,
       "border_right": null,
       "border_top": null,
       "bottom": null,
       "display": null,
       "flex": null,
       "flex_flow": null,
       "grid_area": null,
       "grid_auto_columns": null,
       "grid_auto_flow": null,
       "grid_auto_rows": null,
       "grid_column": null,
       "grid_gap": null,
       "grid_row": null,
       "grid_template_areas": null,
       "grid_template_columns": null,
       "grid_template_rows": null,
       "height": null,
       "justify_content": null,
       "justify_items": null,
       "left": null,
       "margin": null,
       "max_height": null,
       "max_width": null,
       "min_height": null,
       "min_width": null,
       "object_fit": null,
       "object_position": null,
       "order": null,
       "overflow": null,
       "padding": null,
       "right": null,
       "top": null,
       "visibility": null,
       "width": null
      }
     },
     "9b6a43867afa432da25487b24fa1897d": {
      "model_module": "@jupyter-widgets/base",
      "model_module_version": "2.0.0",
      "model_name": "LayoutModel",
      "state": {
       "_model_module": "@jupyter-widgets/base",
       "_model_module_version": "2.0.0",
       "_model_name": "LayoutModel",
       "_view_count": null,
       "_view_module": "@jupyter-widgets/base",
       "_view_module_version": "2.0.0",
       "_view_name": "LayoutView",
       "align_content": null,
       "align_items": null,
       "align_self": null,
       "border_bottom": null,
       "border_left": null,
       "border_right": null,
       "border_top": null,
       "bottom": null,
       "display": null,
       "flex": null,
       "flex_flow": null,
       "grid_area": null,
       "grid_auto_columns": null,
       "grid_auto_flow": null,
       "grid_auto_rows": null,
       "grid_column": null,
       "grid_gap": null,
       "grid_row": null,
       "grid_template_areas": null,
       "grid_template_columns": null,
       "grid_template_rows": null,
       "height": null,
       "justify_content": null,
       "justify_items": null,
       "left": null,
       "margin": null,
       "max_height": null,
       "max_width": null,
       "min_height": null,
       "min_width": null,
       "object_fit": null,
       "object_position": null,
       "order": null,
       "overflow": null,
       "padding": null,
       "right": null,
       "top": null,
       "visibility": null,
       "width": null
      }
     },
     "af50f26b5884409ca55696d76ccda5fe": {
      "model_module": "@jupyter-widgets/base",
      "model_module_version": "2.0.0",
      "model_name": "LayoutModel",
      "state": {
       "_model_module": "@jupyter-widgets/base",
       "_model_module_version": "2.0.0",
       "_model_name": "LayoutModel",
       "_view_count": null,
       "_view_module": "@jupyter-widgets/base",
       "_view_module_version": "2.0.0",
       "_view_name": "LayoutView",
       "align_content": null,
       "align_items": null,
       "align_self": null,
       "border_bottom": null,
       "border_left": null,
       "border_right": null,
       "border_top": null,
       "bottom": null,
       "display": null,
       "flex": null,
       "flex_flow": null,
       "grid_area": null,
       "grid_auto_columns": null,
       "grid_auto_flow": null,
       "grid_auto_rows": null,
       "grid_column": null,
       "grid_gap": null,
       "grid_row": null,
       "grid_template_areas": null,
       "grid_template_columns": null,
       "grid_template_rows": null,
       "height": null,
       "justify_content": null,
       "justify_items": null,
       "left": null,
       "margin": null,
       "max_height": null,
       "max_width": null,
       "min_height": null,
       "min_width": null,
       "object_fit": null,
       "object_position": null,
       "order": null,
       "overflow": null,
       "padding": null,
       "right": null,
       "top": null,
       "visibility": null,
       "width": null
      }
     },
     "b8490070443f4a25af2872510f8da688": {
      "model_module": "@jupyter-widgets/controls",
      "model_module_version": "2.0.0",
      "model_name": "HBoxModel",
      "state": {
       "_dom_classes": [],
       "_model_module": "@jupyter-widgets/controls",
       "_model_module_version": "2.0.0",
       "_model_name": "HBoxModel",
       "_view_count": null,
       "_view_module": "@jupyter-widgets/controls",
       "_view_module_version": "2.0.0",
       "_view_name": "HBoxView",
       "box_style": "",
       "children": [
        "IPY_MODEL_2e5d4cc7e7df449d90d32527d334b3b4"
       ],
       "layout": "IPY_MODEL_be9b8099a6214554ac3438abafdca8ab",
       "tabbable": null,
       "tooltip": null
      }
     },
     "be9b8099a6214554ac3438abafdca8ab": {
      "model_module": "@jupyter-widgets/base",
      "model_module_version": "2.0.0",
      "model_name": "LayoutModel",
      "state": {
       "_model_module": "@jupyter-widgets/base",
       "_model_module_version": "2.0.0",
       "_model_name": "LayoutModel",
       "_view_count": null,
       "_view_module": "@jupyter-widgets/base",
       "_view_module_version": "2.0.0",
       "_view_name": "LayoutView",
       "align_content": null,
       "align_items": null,
       "align_self": null,
       "border_bottom": null,
       "border_left": null,
       "border_right": null,
       "border_top": null,
       "bottom": null,
       "display": null,
       "flex": null,
       "flex_flow": null,
       "grid_area": null,
       "grid_auto_columns": null,
       "grid_auto_flow": null,
       "grid_auto_rows": null,
       "grid_column": null,
       "grid_gap": null,
       "grid_row": null,
       "grid_template_areas": null,
       "grid_template_columns": null,
       "grid_template_rows": null,
       "height": null,
       "justify_content": null,
       "justify_items": null,
       "left": null,
       "margin": null,
       "max_height": null,
       "max_width": null,
       "min_height": null,
       "min_width": null,
       "object_fit": null,
       "object_position": null,
       "order": null,
       "overflow": null,
       "padding": null,
       "right": null,
       "top": null,
       "visibility": null,
       "width": null
      }
     },
     "eeecff3198624d4db7b8547a291d6004": {
      "model_module": "@jupyter-widgets/output",
      "model_module_version": "1.0.0",
      "model_name": "OutputModel",
      "state": {
       "_dom_classes": [],
       "_model_module": "@jupyter-widgets/output",
       "_model_module_version": "1.0.0",
       "_model_name": "OutputModel",
       "_view_count": null,
       "_view_module": "@jupyter-widgets/output",
       "_view_module_version": "1.0.0",
       "_view_name": "OutputView",
       "layout": "IPY_MODEL_af50f26b5884409ca55696d76ccda5fe",
       "msg_id": "",
       "outputs": [
        {
         "data": {
          "text/markdown": "`cmod_neg`",
          "text/plain": "<IPython.core.display.Markdown object>"
         },
         "metadata": {},
         "output_type": "display_data"
        },
        {
         "data": {
          "image/svg+xml": "<svg xmlns=\"http://www.w3.org/2000/svg\" xmlns:xlink=\"http://www.w3.org/1999/xlink\" width=\"240pt\" height=\"98pt\" viewBox=\"0.00 0.00 240.00 98.00\">\n<g id=\"graph0\" class=\"graph\" transform=\"scale(1 1) rotate(0) translate(4 94)\">\n<title>my_graph</title>\n<polygon fill=\"white\" stroke=\"transparent\" points=\"-4,4 -4,-94 236,-94 236,4 -4,4\"/>\n<!-- ctrl_G5 -->\n<g id=\"node1\" class=\"node\">\n<title>ctrl_G5</title>\n<text text-anchor=\"middle\" x=\"27\" y=\"-68.3\" font-family=\"Times,serif\" font-size=\"14.00\">ctrl</text>\n</g>\n<!-- CModNeg -->\n<g id=\"node3\" class=\"node\">\n<title>CModNeg</title>\n<polygon fill=\"none\" stroke=\"black\" points=\"91,-66 91,-83 141,-83 141,-66 91,-66\"/>\n<text text-anchor=\"start\" x=\"94\" y=\"-72\" font-family=\"Times,serif\" font-size=\"10.00\">CModNeg</text>\n<polygon fill=\"none\" stroke=\"black\" points=\"91,-45 91,-66 141,-66 141,-45 91,-45\"/>\n<text text-anchor=\"start\" x=\"106.5\" y=\"-51.8\" font-family=\"Times,serif\" font-size=\"14.00\">ctrl</text>\n<polygon fill=\"none\" stroke=\"black\" points=\"91,-24 91,-45 141,-45 141,-24 91,-24\"/>\n<text text-anchor=\"start\" x=\"112.5\" y=\"-30.8\" font-family=\"Times,serif\" font-size=\"14.00\">x</text>\n</g>\n<!-- ctrl_G5&#45;&gt;CModNeg -->\n<g id=\"edge1\" class=\"edge\">\n<title>ctrl_G5:e-&gt;CModNeg:w</title>\n<path fill=\"none\" stroke=\"black\" d=\"M54,-72C71.22,-72 72.97,-57.23 88.98,-56.07\"/>\n<ellipse fill=\"black\" stroke=\"black\" cx=\"90\" cy=\"-56.04\" rx=\"1\" ry=\"1\"/>\n<text text-anchor=\"middle\" x=\"72.5\" y=\"-67\" font-family=\"Times,serif\" font-size=\"10.00\">1</text>\n</g>\n<!-- x_G3 -->\n<g id=\"node2\" class=\"node\">\n<title>x_G3</title>\n<text text-anchor=\"middle\" x=\"27\" y=\"-14.3\" font-family=\"Times,serif\" font-size=\"14.00\">x</text>\n</g>\n<!-- x_G3&#45;&gt;CModNeg -->\n<g id=\"edge2\" class=\"edge\">\n<title>x_G3:e-&gt;CModNeg:w</title>\n<path fill=\"none\" stroke=\"black\" d=\"M54,-18C71.22,-18 72.97,-32.77 88.98,-33.93\"/>\n<ellipse fill=\"black\" stroke=\"black\" cx=\"90\" cy=\"-33.96\" rx=\"1\" ry=\"1\"/>\n<text text-anchor=\"middle\" x=\"72.5\" y=\"-29\" font-family=\"Times,serif\" font-size=\"10.00\">32</text>\n</g>\n<!-- ctrl_G1 -->\n<g id=\"node4\" class=\"node\">\n<title>ctrl_G1</title>\n<text text-anchor=\"middle\" x=\"205\" y=\"-68.3\" font-family=\"Times,serif\" font-size=\"14.00\">ctrl</text>\n</g>\n<!-- CModNeg&#45;&gt;ctrl_G1 -->\n<g id=\"edge3\" class=\"edge\">\n<title>CModNeg:e-&gt;ctrl_G1:w</title>\n<path fill=\"none\" stroke=\"black\" d=\"M141,-56C158.22,-56 159.97,-70.77 175.98,-71.93\"/>\n<ellipse fill=\"black\" stroke=\"black\" cx=\"177\" cy=\"-71.96\" rx=\"1\" ry=\"1\"/>\n<text text-anchor=\"middle\" x=\"159.5\" y=\"-67\" font-family=\"Times,serif\" font-size=\"10.00\">1</text>\n</g>\n<!-- x_G4 -->\n<g id=\"node5\" class=\"node\">\n<title>x_G4</title>\n<text text-anchor=\"middle\" x=\"205\" y=\"-14.3\" font-family=\"Times,serif\" font-size=\"14.00\">x</text>\n</g>\n<!-- CModNeg&#45;&gt;x_G4 -->\n<g id=\"edge4\" class=\"edge\">\n<title>CModNeg:e-&gt;x_G4:w</title>\n<path fill=\"none\" stroke=\"black\" d=\"M141,-34C158.22,-34 159.97,-19.23 175.98,-18.07\"/>\n<ellipse fill=\"black\" stroke=\"black\" cx=\"177\" cy=\"-18.04\" rx=\"1\" ry=\"1\"/>\n<text text-anchor=\"middle\" x=\"159.5\" y=\"-29\" font-family=\"Times,serif\" font-size=\"10.00\">32</text>\n</g>\n</g>\n</svg>",
          "text/plain": "<IPython.core.display.SVG object>"
         },
         "metadata": {},
         "output_type": "display_data"
        }
       ],
       "tabbable": null,
       "tooltip": null
      }
     }
    },
    "version_major": 2,
    "version_minor": 0
   }
  }
 },
 "nbformat": 4,
 "nbformat_minor": 5
}
