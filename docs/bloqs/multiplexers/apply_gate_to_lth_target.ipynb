{
 "cells": [
  {
   "cell_type": "code",
   "execution_count": 1,
   "id": "60432dd0",
   "metadata": {},
   "outputs": [],
   "source": [
    "#  Copyright 2023 Google LLC\n",
    "#\n",
    "#  Licensed under the Apache License, Version 2.0 (the \"License\");\n",
    "#  you may not use this file except in compliance with the License.\n",
    "#  You may obtain a copy of the License at\n",
    "#\n",
    "#      https://www.apache.org/licenses/LICENSE-2.0\n",
    "#\n",
    "#  Unless required by applicable law or agreed to in writing, software\n",
    "#  distributed under the License is distributed on an \"AS IS\" BASIS,\n",
    "#  WITHOUT WARRANTIES OR CONDITIONS OF ANY KIND, either express or implied.\n",
    "#  See the License for the specific language governing permissions and\n",
    "#  limitations under the License."
   ]
  },
  {
   "cell_type": "markdown",
   "id": "ac3bfb05",
   "metadata": {
    "cq.autogen": "title_cell"
   },
   "source": [
    "# Apply to Lth Target"
   ]
  },
  {
   "cell_type": "code",
   "execution_count": 2,
   "id": "4e214a27",
   "metadata": {
    "cq.autogen": "top_imports"
   },
   "outputs": [],
   "source": [
    "from qualtran import Bloq, CompositeBloq, BloqBuilder, Signature, Register\n",
    "from qualtran import QBit, QInt, QUInt, QAny\n",
    "from qualtran.drawing import show_bloq, show_call_graph, show_counts_sigma\n",
    "from typing import *\n",
    "import numpy as np\n",
    "import sympy\n",
    "import cirq"
   ]
  },
  {
   "cell_type": "markdown",
   "id": "249829b0",
   "metadata": {
    "cq.autogen": "ApplyGateToLthQubit.bloq_doc.md"
   },
   "source": [
    "## `ApplyGateToLthQubit`\n",
    "A controlled SELECT operation for single-qubit gates.\n",
    "\n",
    "$$\n",
    "\\mathrm{SELECT} = \\sum_{l}|l \\rangle \\langle l| \\otimes [G(l)]_l\n",
    "$$\n",
    "\n",
    "Where $G$ is a function that maps an index to a single-qubit gate.\n",
    "\n",
    "This gate uses the unary iteration scheme to apply `nth_gate(selection)` to the\n",
    "`selection`-th qubit of `target` all controlled by the `control` register.\n",
    "\n",
    "#### Parameters\n",
    " - `selection_regs`: Indexing `select` signature of type Tuple[[`Register`](/reference/qualtran/Register.md), ...]. It also contains information about the iteration length of each selection register.\n",
    " - `nth_gate`: A function mapping the composite selection index to a single-qubit gate.\n",
    " - `control_regs`: Control signature for constructing a controlled version of the gate. \n",
    "\n",
    "#### References\n",
    " - [Encoding Electronic Spectra in Quantum Circuits with Linear T Complexity](https://arxiv.org/abs/1805.03662). Babbush et. al. (2018). Section III.A. and Figure 7.\n"
   ]
  },
  {
   "cell_type": "code",
   "execution_count": 3,
   "id": "b8d2a7bf",
   "metadata": {
    "cq.autogen": "ApplyGateToLthQubit.bloq_doc.py"
   },
   "outputs": [],
   "source": [
    "from qualtran.bloqs.multiplexers.apply_gate_to_lth_target import ApplyGateToLthQubit"
   ]
  },
  {
   "cell_type": "markdown",
   "id": "4fb12f9c",
   "metadata": {
    "cq.autogen": "ApplyGateToLthQubit.example_instances.md"
   },
   "source": [
    "### Example Instances"
   ]
  },
  {
   "cell_type": "code",
   "execution_count": 4,
   "id": "8ed7d01a",
   "metadata": {
    "cq.autogen": "ApplyGateToLthQubit.apply_z_to_odd"
   },
   "outputs": [],
   "source": [
    "from qualtran import BoundedQUInt, Register\n",
    "\n",
    "def _z_to_odd(n: int):\n",
    "    if n % 2 == 1:\n",
    "        return cirq.Z\n",
    "    return cirq.I\n",
    "\n",
    "apply_z_to_odd = ApplyGateToLthQubit(\n",
    "    Register('selection', BoundedQUInt(3, 4)),\n",
    "    nth_gate=_z_to_odd,\n",
    "    control_regs=Signature.build(control=2),\n",
    ")\n"
   ]
  },
  {
   "cell_type": "markdown",
   "id": "19527432",
   "metadata": {
    "cq.autogen": "ApplyGateToLthQubit.graphical_signature.md"
   },
   "source": [
    "#### Graphical Signature"
   ]
  },
  {
   "cell_type": "code",
   "execution_count": 5,
   "id": "f0c83967",
   "metadata": {
    "cq.autogen": "ApplyGateToLthQubit.graphical_signature.py"
   },
   "outputs": [
    {
     "data": {
      "application/vnd.jupyter.widget-view+json": {
       "model_id": "afb2425f23864bbb82d9b968c0aed2c0",
       "version_major": 2,
       "version_minor": 0
      },
      "text/plain": [
       "HBox(children=(Output(outputs=({'output_type': 'display_data', 'data': {'text/plain': '<IPython.core.display.M…"
      ]
     },
     "metadata": {},
     "output_type": "display_data"
    }
   ],
   "source": [
    "from qualtran.drawing import show_bloqs\n",
    "show_bloqs([apply_z_to_odd],\n",
    "           ['`apply_z_to_odd`'])"
   ]
  },
  {
   "cell_type": "markdown",
   "id": "5dedba84",
   "metadata": {},
   "source": [
    "## Decomposition"
   ]
  },
  {
   "cell_type": "code",
   "execution_count": 6,
   "id": "d61a8c3f",
   "metadata": {},
   "outputs": [
    {
     "data": {
      "application/vnd.jupyter.widget-view+json": {
       "model_id": "c08c26b7c87e44d29f911eba6a3b9cc2",
       "version_major": 2,
       "version_minor": 0
      },
      "text/plain": [
       "HBox(children=(Output(outputs=({'output_type': 'display_data', 'data': {'text/plain': '<IPython.core.display.S…"
      ]
     },
     "metadata": {},
     "output_type": "display_data"
    }
   ],
   "source": [
    "import qualtran.cirq_interop.testing as cq_testing\n",
    "from qualtran.cirq_interop.jupyter_tools import display_gate_and_compilation\n",
    "\n",
    "g = cq_testing.GateHelper(\n",
    "    apply_z_to_odd\n",
    ")\n",
    "\n",
    "display_gate_and_compilation(g)"
   ]
  },
  {
   "cell_type": "markdown",
   "id": "96e5f93d",
   "metadata": {
    "cq.autogen": "ApplyGateToLthQubit.call_graph.md"
   },
   "source": [
    "### Call Graph"
   ]
  },
  {
   "cell_type": "code",
   "execution_count": 7,
   "id": "01d191bb",
   "metadata": {
    "cq.autogen": "ApplyGateToLthQubit.call_graph.py"
   },
   "outputs": [
    {
     "data": {
      "image/svg+xml": [
       "<svg xmlns=\"http://www.w3.org/2000/svg\" xmlns:xlink=\"http://www.w3.org/1999/xlink\" width=\"1264pt\" height=\"131pt\" viewBox=\"0.00 0.00 1264.00 131.00\">\n",
       "<g id=\"graph0\" class=\"graph\" transform=\"scale(1 1) rotate(0) translate(4 127)\">\n",
       "<title>counts</title>\n",
       "<polygon fill=\"white\" stroke=\"transparent\" points=\"-4,4 -4,-127 1260,-127 1260,4 -4,4\"/>\n",
       "<!-- b0 -->\n",
       "<g id=\"node1\" class=\"node\">\n",
       "<title>b0</title>\n",
       "<polygon fill=\"none\" stroke=\"black\" points=\"963,-123 484,-123 484,-87 963,-87 963,-123\"/>\n",
       "<text text-anchor=\"start\" x=\"661.5\" y=\"-106.8\" font-family=\"Times,serif\" font-size=\"14.00\">ApplyGateToLthQubit</text>\n",
       "<text text-anchor=\"start\" x=\"492\" y=\"-96\" font-family=\"monospace\" font-size=\"10.00\">selection_regs=(Registe ..., nth_gate=&lt;functio ..., control_regs=(Registe ...</text>\n",
       "</g>\n",
       "<!-- b1 -->\n",
       "<g id=\"node2\" class=\"node\">\n",
       "<title>b1</title>\n",
       "<polygon fill=\"none\" stroke=\"black\" points=\"191,-36 0,-36 0,0 191,0 191,-36\"/>\n",
       "<text text-anchor=\"start\" x=\"83.5\" y=\"-19.8\" font-family=\"Times,serif\" font-size=\"14.00\">And</text>\n",
       "<text text-anchor=\"start\" x=\"8\" y=\"-9\" font-family=\"monospace\" font-size=\"10.00\">cv1=1, cv2=0, uncompute=False</text>\n",
       "</g>\n",
       "<!-- b0&#45;&gt;b1 -->\n",
       "<g id=\"edge1\" class=\"edge\">\n",
       "<title>b0-&gt;b1</title>\n",
       "<path fill=\"none\" stroke=\"black\" d=\"M582.38,-86.97C479.39,-74.23 336.15,-55.9 201.35,-36.25\"/>\n",
       "<polygon fill=\"black\" stroke=\"black\" points=\"201.65,-32.76 191.25,-34.77 200.64,-39.68 201.65,-32.76\"/>\n",
       "<text text-anchor=\"middle\" x=\"433\" y=\"-57.8\" font-family=\"Times,serif\" font-size=\"14.00\">3</text>\n",
       "</g>\n",
       "<!-- b2 -->\n",
       "<g id=\"node3\" class=\"node\">\n",
       "<title>b2</title>\n",
       "<polygon fill=\"none\" stroke=\"black\" points=\"472,-36 209,-36 209,0 472,0 472,-36\"/>\n",
       "<text text-anchor=\"start\" x=\"307\" y=\"-19.8\" font-family=\"Times,serif\" font-size=\"14.00\">CZPowGate</text>\n",
       "<text text-anchor=\"start\" x=\"217\" y=\"-9\" font-family=\"monospace\" font-size=\"10.00\">exponent=1.0, global_shift=0.0, eps=1e-11</text>\n",
       "</g>\n",
       "<!-- b0&#45;&gt;b2 -->\n",
       "<g id=\"edge2\" class=\"edge\">\n",
       "<title>b0-&gt;b2</title>\n",
       "<path fill=\"none\" stroke=\"black\" d=\"M646.45,-86.9C583.08,-72.84 493.3,-52.91 427.38,-38.28\"/>\n",
       "<polygon fill=\"black\" stroke=\"black\" points=\"427.94,-34.82 417.42,-36.07 426.43,-41.65 427.94,-34.82\"/>\n",
       "<text text-anchor=\"middle\" x=\"559\" y=\"-57.8\" font-family=\"Times,serif\" font-size=\"14.00\">2</text>\n",
       "</g>\n",
       "<!-- b3 -->\n",
       "<g id=\"node4\" class=\"node\">\n",
       "<title>b3</title>\n",
       "<polygon fill=\"none\" stroke=\"black\" points=\"771,-36 490,-36 490,0 771,0 771,-36\"/>\n",
       "<text text-anchor=\"start\" x=\"606.5\" y=\"-19.8\" font-family=\"Times,serif\" font-size=\"14.00\">C[cirq.I]</text>\n",
       "<text text-anchor=\"start\" x=\"498\" y=\"-9\" font-family=\"monospace\" font-size=\"10.00\">subbloq=CirqGate ..., ctrl_spec=CtrlSpec ...</text>\n",
       "</g>\n",
       "<!-- b0&#45;&gt;b3 -->\n",
       "<g id=\"edge3\" class=\"edge\">\n",
       "<title>b0-&gt;b3</title>\n",
       "<path fill=\"none\" stroke=\"black\" d=\"M704.68,-86.8C690.94,-74.24 672.13,-57.05 656.89,-43.12\"/>\n",
       "<polygon fill=\"black\" stroke=\"black\" points=\"659.03,-40.34 649.29,-36.18 654.31,-45.51 659.03,-40.34\"/>\n",
       "<text text-anchor=\"middle\" x=\"687\" y=\"-57.8\" font-family=\"Times,serif\" font-size=\"14.00\">2</text>\n",
       "</g>\n",
       "<!-- b4 -->\n",
       "<g id=\"node5\" class=\"node\">\n",
       "<title>b4</title>\n",
       "<polygon fill=\"none\" stroke=\"black\" points=\"843.5,-36 789.5,-36 789.5,0 843.5,0 843.5,-36\"/>\n",
       "<text text-anchor=\"start\" x=\"798\" y=\"-14.3\" font-family=\"Times,serif\" font-size=\"14.00\">CNOT</text>\n",
       "</g>\n",
       "<!-- b0&#45;&gt;b4 -->\n",
       "<g id=\"edge4\" class=\"edge\">\n",
       "<title>b0-&gt;b4</title>\n",
       "<path fill=\"none\" stroke=\"black\" d=\"M742.32,-86.8C756.06,-74.24 774.87,-57.05 790.11,-43.12\"/>\n",
       "<polygon fill=\"black\" stroke=\"black\" points=\"792.69,-45.51 797.71,-36.18 787.97,-40.34 792.69,-45.51\"/>\n",
       "<text text-anchor=\"middle\" x=\"780\" y=\"-57.8\" font-family=\"Times,serif\" font-size=\"14.00\">3</text>\n",
       "</g>\n",
       "<!-- b5 -->\n",
       "<g id=\"node6\" class=\"node\">\n",
       "<title>b5</title>\n",
       "<polygon fill=\"none\" stroke=\"black\" points=\"1053,-36 862,-36 862,0 1053,0 1053,-36\"/>\n",
       "<text text-anchor=\"start\" x=\"945.5\" y=\"-19.8\" font-family=\"Times,serif\" font-size=\"14.00\">And</text>\n",
       "<text text-anchor=\"start\" x=\"870\" y=\"-9\" font-family=\"monospace\" font-size=\"10.00\">cv1=1, cv2=1, uncompute=False</text>\n",
       "</g>\n",
       "<!-- b0&#45;&gt;b5 -->\n",
       "<g id=\"edge5\" class=\"edge\">\n",
       "<title>b0-&gt;b5</title>\n",
       "<path fill=\"none\" stroke=\"black\" d=\"M770.57,-86.9C808.18,-73.24 861,-54.05 900.91,-39.56\"/>\n",
       "<polygon fill=\"black\" stroke=\"black\" points=\"902.3,-42.78 910.5,-36.07 899.91,-36.2 902.3,-42.78\"/>\n",
       "<text text-anchor=\"middle\" x=\"859\" y=\"-57.8\" font-family=\"Times,serif\" font-size=\"14.00\">1</text>\n",
       "</g>\n",
       "<!-- b6 -->\n",
       "<g id=\"node7\" class=\"node\">\n",
       "<title>b6</title>\n",
       "<polygon fill=\"none\" stroke=\"black\" points=\"1256,-36 1071,-36 1071,0 1256,0 1256,-36\"/>\n",
       "<text text-anchor=\"start\" x=\"1148\" y=\"-19.8\" font-family=\"Times,serif\" font-size=\"14.00\">And†</text>\n",
       "<text text-anchor=\"start\" x=\"1079\" y=\"-9\" font-family=\"monospace\" font-size=\"10.00\">cv1=1, cv2=1, uncompute=True</text>\n",
       "</g>\n",
       "<!-- b0&#45;&gt;b6 -->\n",
       "<g id=\"edge6\" class=\"edge\">\n",
       "<title>b0-&gt;b6</title>\n",
       "<path fill=\"none\" stroke=\"black\" d=\"M811.75,-86.95C885.09,-72.78 989.38,-52.64 1065.34,-37.96\"/>\n",
       "<polygon fill=\"black\" stroke=\"black\" points=\"1066.25,-41.35 1075.4,-36.02 1064.92,-34.48 1066.25,-41.35\"/>\n",
       "<text text-anchor=\"middle\" x=\"974\" y=\"-57.8\" font-family=\"Times,serif\" font-size=\"14.00\">4</text>\n",
       "</g>\n",
       "</g>\n",
       "</svg>"
      ],
      "text/plain": [
       "<IPython.core.display.SVG object>"
      ]
     },
     "metadata": {},
     "output_type": "display_data"
    },
    {
     "data": {
      "text/markdown": [
       "#### Counts totals:\n",
       " - `And(cv1=1, cv2=0, uncompute=False)`: 3\n",
       " - `And(cv1=1, cv2=1, uncompute=False)`: 1\n",
       " - `And(cv1=1, cv2=1, uncompute=True)`: 4\n",
       " - `CNOT()`: 3\n",
       " - `CZ`: 2\n",
       " - `C[I]`: 2"
      ],
      "text/plain": [
       "<IPython.core.display.Markdown object>"
      ]
     },
     "metadata": {},
     "output_type": "display_data"
    }
   ],
   "source": [
    "from qualtran.resource_counting.generalizers import ignore_split_join\n",
    "apply_z_to_odd_g, apply_z_to_odd_sigma = apply_z_to_odd.call_graph(max_depth=1, generalizer=ignore_split_join)\n",
    "show_call_graph(apply_z_to_odd_g)\n",
    "show_counts_sigma(apply_z_to_odd_sigma)"
   ]
  }
 ],
 "metadata": {
  "kernelspec": {
   "display_name": "Python 3",
   "language": "python",
   "name": "python3"
  },
  "language_info": {
   "codemirror_mode": {
    "name": "ipython",
    "version": 3
   },
   "file_extension": ".py",
   "mimetype": "text/x-python",
   "name": "python",
   "nbconvert_exporter": "python",
   "pygments_lexer": "ipython3",
   "version": "3.11.8"
  },
  "widgets": {
   "application/vnd.jupyter.widget-state+json": {
    "state": {
     "1f7434d8e4b740fc9277316c097e3a0b": {
      "model_module": "@jupyter-widgets/output",
      "model_module_version": "1.0.0",
      "model_name": "OutputModel",
      "state": {
       "_dom_classes": [],
       "_model_module": "@jupyter-widgets/output",
       "_model_module_version": "1.0.0",
       "_model_name": "OutputModel",
       "_view_count": null,
       "_view_module": "@jupyter-widgets/output",
       "_view_module_version": "1.0.0",
       "_view_name": "OutputView",
       "layout": "IPY_MODEL_50d15c4bd2294dccb26e616b8129df01",
       "msg_id": "",
       "outputs": [
        {
         "data": {
          "image/svg+xml": "<svg xmlns=\"http://www.w3.org/2000/svg\" width=\"256.255859375\" height=\"450.0\"><line x1=\"52.077578125\" x2=\"226.255859375\" y1=\"25.0\" y2=\"25.0\" stroke=\"#1967d2\" stroke-width=\"1\"/><line x1=\"52.077578125\" x2=\"226.255859375\" y1=\"75.0\" y2=\"75.0\" stroke=\"#1967d2\" stroke-width=\"1\"/><line x1=\"52.077578125\" x2=\"226.255859375\" y1=\"125.0\" y2=\"125.0\" stroke=\"#1967d2\" stroke-width=\"1\"/><line x1=\"52.077578125\" x2=\"226.255859375\" y1=\"175.0\" y2=\"175.0\" stroke=\"#1967d2\" stroke-width=\"1\"/><line x1=\"52.077578125\" x2=\"226.255859375\" y1=\"225.0\" y2=\"225.0\" stroke=\"#1967d2\" stroke-width=\"1\"/><line x1=\"52.077578125\" x2=\"226.255859375\" y1=\"275.0\" y2=\"275.0\" stroke=\"#1967d2\" stroke-width=\"1\"/><line x1=\"52.077578125\" x2=\"226.255859375\" y1=\"325.0\" y2=\"325.0\" stroke=\"#1967d2\" stroke-width=\"1\"/><line x1=\"52.077578125\" x2=\"226.255859375\" y1=\"375.0\" y2=\"375.0\" stroke=\"#1967d2\" stroke-width=\"1\"/><line x1=\"52.077578125\" x2=\"226.255859375\" y1=\"425.0\" y2=\"425.0\" stroke=\"#1967d2\" stroke-width=\"1\"/><line x1=\"160.2055078125\" x2=\"160.2055078125\" y1=\"25.0\" y2=\"425.0\" stroke=\"black\" stroke-width=\"3\"/><rect x=\"10.0\" y=\"5.0\" width=\"84.15515625\" height=\"40\" stroke=\"black\" fill=\"white\" stroke-width=\"0\"/><text x=\"52.077578125\" y=\"25.0\" dominant-baseline=\"middle\" text-anchor=\"middle\" font-size=\"14px\" font-family=\"sans\\-serif:style=normal:variant=normal:weight=normal:stretch=normal:size=10.0\">control0: </text><rect x=\"10.0\" y=\"55.0\" width=\"84.15515625\" height=\"40\" stroke=\"black\" fill=\"white\" stroke-width=\"0\"/><text x=\"52.077578125\" y=\"75.0\" dominant-baseline=\"middle\" text-anchor=\"middle\" font-size=\"14px\" font-family=\"sans\\-serif:style=normal:variant=normal:weight=normal:stretch=normal:size=10.0\">control1: </text><rect x=\"10.0\" y=\"105.0\" width=\"84.15515625\" height=\"40\" stroke=\"black\" fill=\"white\" stroke-width=\"0\"/><text x=\"52.077578125\" y=\"125.0\" dominant-baseline=\"middle\" text-anchor=\"middle\" font-size=\"14px\" font-family=\"sans\\-serif:style=normal:variant=normal:weight=normal:stretch=normal:size=10.0\">selection0: </text><rect x=\"10.0\" y=\"155.0\" width=\"84.15515625\" height=\"40\" stroke=\"black\" fill=\"white\" stroke-width=\"0\"/><text x=\"52.077578125\" y=\"175.0\" dominant-baseline=\"middle\" text-anchor=\"middle\" font-size=\"14px\" font-family=\"sans\\-serif:style=normal:variant=normal:weight=normal:stretch=normal:size=10.0\">selection1: </text><rect x=\"10.0\" y=\"205.0\" width=\"84.15515625\" height=\"40\" stroke=\"black\" fill=\"white\" stroke-width=\"0\"/><text x=\"52.077578125\" y=\"225.0\" dominant-baseline=\"middle\" text-anchor=\"middle\" font-size=\"14px\" font-family=\"sans\\-serif:style=normal:variant=normal:weight=normal:stretch=normal:size=10.0\">selection2: </text><rect x=\"10.0\" y=\"255.0\" width=\"84.15515625\" height=\"40\" stroke=\"black\" fill=\"white\" stroke-width=\"0\"/><text x=\"52.077578125\" y=\"275.0\" dominant-baseline=\"middle\" text-anchor=\"middle\" font-size=\"14px\" font-family=\"sans\\-serif:style=normal:variant=normal:weight=normal:stretch=normal:size=10.0\">target0: </text><rect x=\"10.0\" y=\"305.0\" width=\"84.15515625\" height=\"40\" stroke=\"black\" fill=\"white\" stroke-width=\"0\"/><text x=\"52.077578125\" y=\"325.0\" dominant-baseline=\"middle\" text-anchor=\"middle\" font-size=\"14px\" font-family=\"sans\\-serif:style=normal:variant=normal:weight=normal:stretch=normal:size=10.0\">target1: </text><rect x=\"10.0\" y=\"355.0\" width=\"84.15515625\" height=\"40\" stroke=\"black\" fill=\"white\" stroke-width=\"0\"/><text x=\"52.077578125\" y=\"375.0\" dominant-baseline=\"middle\" text-anchor=\"middle\" font-size=\"14px\" font-family=\"sans\\-serif:style=normal:variant=normal:weight=normal:stretch=normal:size=10.0\">target2: </text><rect x=\"10.0\" y=\"405.0\" width=\"84.15515625\" height=\"40\" stroke=\"black\" fill=\"white\" stroke-width=\"0\"/><text x=\"52.077578125\" y=\"425.0\" dominant-baseline=\"middle\" text-anchor=\"middle\" font-size=\"14px\" font-family=\"sans\\-serif:style=normal:variant=normal:weight=normal:stretch=normal:size=10.0\">target3: </text><rect x=\"114.15515625\" y=\"5.0\" width=\"92.10070312500001\" height=\"40\" stroke=\"black\" fill=\"white\" stroke-width=\"1\"/><text x=\"160.2055078125\" y=\"25.0\" dominant-baseline=\"middle\" text-anchor=\"middle\" font-size=\"14px\" font-family=\"sans\\-serif:style=normal:variant=normal:weight=normal:stretch=normal:size=10.0\">@['t:16,r:0']</text><circle cx=\"160.2055078125\" cy=\"75.0\" r=\"10.0\"/><rect x=\"114.15515625\" y=\"105.0\" width=\"92.10070312500001\" height=\"40\" stroke=\"black\" fill=\"white\" stroke-width=\"1\"/><text x=\"160.2055078125\" y=\"125.0\" dominant-baseline=\"middle\" text-anchor=\"middle\" font-size=\"14px\" font-family=\"sans\\-serif:style=normal:variant=normal:weight=normal:stretch=normal:size=10.0\">In</text><rect x=\"114.15515625\" y=\"155.0\" width=\"92.10070312500001\" height=\"40\" stroke=\"black\" fill=\"white\" stroke-width=\"1\"/><text x=\"160.2055078125\" y=\"175.0\" dominant-baseline=\"middle\" text-anchor=\"middle\" font-size=\"14px\" font-family=\"sans\\-serif:style=normal:variant=normal:weight=normal:stretch=normal:size=10.0\">In</text><rect x=\"114.15515625\" y=\"205.0\" width=\"92.10070312500001\" height=\"40\" stroke=\"black\" fill=\"white\" stroke-width=\"1\"/><text x=\"160.2055078125\" y=\"225.0\" dominant-baseline=\"middle\" text-anchor=\"middle\" font-size=\"14px\" font-family=\"sans\\-serif:style=normal:variant=normal:weight=normal:stretch=normal:size=10.0\">In</text><rect x=\"114.15515625\" y=\"255.0\" width=\"92.10070312500001\" height=\"40\" stroke=\"black\" fill=\"white\" stroke-width=\"1\"/><text x=\"160.2055078125\" y=\"275.0\" dominant-baseline=\"middle\" text-anchor=\"middle\" font-size=\"18px\" font-family=\"sans\\-serif:style=normal:variant=normal:weight=normal:stretch=normal:size=10.0\">I</text><rect x=\"114.15515625\" y=\"305.0\" width=\"92.10070312500001\" height=\"40\" stroke=\"black\" fill=\"white\" stroke-width=\"1\"/><text x=\"160.2055078125\" y=\"325.0\" dominant-baseline=\"middle\" text-anchor=\"middle\" font-size=\"18px\" font-family=\"sans\\-serif:style=normal:variant=normal:weight=normal:stretch=normal:size=10.0\">Z</text><rect x=\"114.15515625\" y=\"355.0\" width=\"92.10070312500001\" height=\"40\" stroke=\"black\" fill=\"white\" stroke-width=\"1\"/><text x=\"160.2055078125\" y=\"375.0\" dominant-baseline=\"middle\" text-anchor=\"middle\" font-size=\"18px\" font-family=\"sans\\-serif:style=normal:variant=normal:weight=normal:stretch=normal:size=10.0\">I</text><rect x=\"114.15515625\" y=\"405.0\" width=\"92.10070312500001\" height=\"40\" stroke=\"black\" fill=\"white\" stroke-width=\"1\"/><text x=\"160.2055078125\" y=\"425.0\" dominant-baseline=\"middle\" text-anchor=\"middle\" font-size=\"18px\" font-family=\"sans\\-serif:style=normal:variant=normal:weight=normal:stretch=normal:size=10.0\">Z</text></svg>",
          "text/plain": "<IPython.core.display.SVG object>"
         },
         "metadata": {},
         "output_type": "display_data"
        }
       ],
       "tabbable": null,
       "tooltip": null
      }
     },
     "46bfc263bb6a4933af030fbd9a8d07a2": {
      "model_module": "@jupyter-widgets/base",
      "model_module_version": "2.0.0",
      "model_name": "LayoutModel",
      "state": {
       "_model_module": "@jupyter-widgets/base",
       "_model_module_version": "2.0.0",
       "_model_name": "LayoutModel",
       "_view_count": null,
       "_view_module": "@jupyter-widgets/base",
       "_view_module_version": "2.0.0",
       "_view_name": "LayoutView",
       "align_content": null,
       "align_items": null,
       "align_self": null,
       "border_bottom": null,
       "border_left": null,
       "border_right": null,
       "border_top": null,
       "bottom": null,
       "display": null,
       "flex": null,
       "flex_flow": null,
       "grid_area": null,
       "grid_auto_columns": null,
       "grid_auto_flow": null,
       "grid_auto_rows": null,
       "grid_column": null,
       "grid_gap": null,
       "grid_row": null,
       "grid_template_areas": null,
       "grid_template_columns": null,
       "grid_template_rows": null,
       "height": null,
       "justify_content": null,
       "justify_items": null,
       "left": null,
       "margin": null,
       "max_height": null,
       "max_width": null,
       "min_height": null,
       "min_width": null,
       "object_fit": null,
       "object_position": null,
       "order": null,
       "overflow": null,
       "padding": null,
       "right": null,
       "top": null,
       "visibility": null,
       "width": null
      }
     },
     "50d15c4bd2294dccb26e616b8129df01": {
      "model_module": "@jupyter-widgets/base",
      "model_module_version": "2.0.0",
      "model_name": "LayoutModel",
      "state": {
       "_model_module": "@jupyter-widgets/base",
       "_model_module_version": "2.0.0",
       "_model_name": "LayoutModel",
       "_view_count": null,
       "_view_module": "@jupyter-widgets/base",
       "_view_module_version": "2.0.0",
       "_view_name": "LayoutView",
       "align_content": null,
       "align_items": null,
       "align_self": null,
       "border_bottom": null,
       "border_left": null,
       "border_right": null,
       "border_top": null,
       "bottom": null,
       "display": null,
       "flex": null,
       "flex_flow": null,
       "grid_area": null,
       "grid_auto_columns": null,
       "grid_auto_flow": null,
       "grid_auto_rows": null,
       "grid_column": null,
       "grid_gap": null,
       "grid_row": null,
       "grid_template_areas": null,
       "grid_template_columns": null,
       "grid_template_rows": null,
       "height": null,
       "justify_content": null,
       "justify_items": null,
       "left": null,
       "margin": null,
       "max_height": null,
       "max_width": null,
       "min_height": null,
       "min_width": null,
       "object_fit": null,
       "object_position": null,
       "order": null,
       "overflow": null,
       "padding": null,
       "right": null,
       "top": null,
       "visibility": null,
       "width": null
      }
     },
     "afb2425f23864bbb82d9b968c0aed2c0": {
      "model_module": "@jupyter-widgets/controls",
      "model_module_version": "2.0.0",
      "model_name": "HBoxModel",
      "state": {
       "_dom_classes": [],
       "_model_module": "@jupyter-widgets/controls",
       "_model_module_version": "2.0.0",
       "_model_name": "HBoxModel",
       "_view_count": null,
       "_view_module": "@jupyter-widgets/controls",
       "_view_module_version": "2.0.0",
       "_view_name": "HBoxView",
       "box_style": "",
       "children": [
        "IPY_MODEL_b7f3bec9a7e140218f99ae76ce97cc3f"
       ],
       "layout": "IPY_MODEL_46bfc263bb6a4933af030fbd9a8d07a2",
       "tabbable": null,
       "tooltip": null
      }
     },
     "b7f3bec9a7e140218f99ae76ce97cc3f": {
      "model_module": "@jupyter-widgets/output",
      "model_module_version": "1.0.0",
      "model_name": "OutputModel",
      "state": {
       "_dom_classes": [],
       "_model_module": "@jupyter-widgets/output",
       "_model_module_version": "1.0.0",
       "_model_name": "OutputModel",
       "_view_count": null,
       "_view_module": "@jupyter-widgets/output",
       "_view_module_version": "1.0.0",
       "_view_name": "OutputView",
       "layout": "IPY_MODEL_c8cda2979bd146c58d8fd4b3f40c0403",
       "msg_id": "",
       "outputs": [
        {
         "data": {
          "text/markdown": "`apply_z_to_odd`",
          "text/plain": "<IPython.core.display.Markdown object>"
         },
         "metadata": {},
         "output_type": "display_data"
        },
        {
         "data": {
          "image/svg+xml": "<svg xmlns=\"http://www.w3.org/2000/svg\" xmlns:xlink=\"http://www.w3.org/1999/xlink\" width=\"267pt\" height=\"152pt\" viewBox=\"0.00 0.00 267.00 152.00\">\n<g id=\"graph0\" class=\"graph\" transform=\"scale(1 1) rotate(0) translate(4 148)\">\n<title>my_graph</title>\n<polygon fill=\"white\" stroke=\"transparent\" points=\"-4,4 -4,-148 263,-148 263,4 -4,4\"/>\n<!-- control_G7 -->\n<g id=\"node1\" class=\"node\">\n<title>control_G7</title>\n<text text-anchor=\"middle\" x=\"32.5\" y=\"-122.3\" font-family=\"Times,serif\" font-size=\"14.00\">control</text>\n</g>\n<!-- ApplyGateToLthQubit -->\n<g id=\"node4\" class=\"node\">\n<title>ApplyGateToLthQubit</title>\n<polygon fill=\"none\" stroke=\"black\" points=\"102.5,-104 102.5,-121 157.5,-121 157.5,-104 102.5,-104\"/>\n<text text-anchor=\"start\" x=\"107\" y=\"-110\" font-family=\"Times,serif\" font-size=\"10.00\">ApplyGat..</text>\n<polygon fill=\"none\" stroke=\"black\" points=\"102.5,-83 102.5,-104 157.5,-104 157.5,-83 102.5,-83\"/>\n<text text-anchor=\"start\" x=\"110.5\" y=\"-89.8\" font-family=\"Times,serif\" font-size=\"14.00\">control</text>\n<polygon fill=\"none\" stroke=\"black\" points=\"102.5,-62 102.5,-83 157.5,-83 157.5,-62 102.5,-62\"/>\n<text text-anchor=\"start\" x=\"105.5\" y=\"-68.8\" font-family=\"Times,serif\" font-size=\"14.00\">selection</text>\n<polygon fill=\"none\" stroke=\"black\" points=\"102.5,-41 102.5,-62 157.5,-62 157.5,-41 102.5,-41\"/>\n<text text-anchor=\"start\" x=\"114.5\" y=\"-47.8\" font-family=\"Times,serif\" font-size=\"14.00\">target</text>\n</g>\n<!-- control_G7&#45;&gt;ApplyGateToLthQubit -->\n<g id=\"edge1\" class=\"edge\">\n<title>control_G7:e-&gt;ApplyGateToLthQubit:w</title>\n<path fill=\"none\" stroke=\"black\" d=\"M61.5,-126C83.72,-126 79.37,-95.97 99.93,-94.09\"/>\n<ellipse fill=\"black\" stroke=\"black\" cx=\"101\" cy=\"-94.04\" rx=\"1\" ry=\"1\"/>\n<text text-anchor=\"middle\" x=\"83.5\" y=\"-110\" font-family=\"Times,serif\" font-size=\"10.00\">2</text>\n</g>\n<!-- selection_G2 -->\n<g id=\"node2\" class=\"node\">\n<title>selection_G2</title>\n<text text-anchor=\"middle\" x=\"32.5\" y=\"-68.3\" font-family=\"Times,serif\" font-size=\"14.00\">selection</text>\n</g>\n<!-- selection_G2&#45;&gt;ApplyGateToLthQubit -->\n<g id=\"edge2\" class=\"edge\">\n<title>selection_G2:e-&gt;ApplyGateToLthQubit:w</title>\n<path fill=\"none\" stroke=\"black\" d=\"M65,-72C80.67,-72 85.14,-72 99.77,-72\"/>\n<ellipse fill=\"black\" stroke=\"black\" cx=\"101\" cy=\"-72\" rx=\"1\" ry=\"1\"/>\n<text text-anchor=\"middle\" x=\"83.5\" y=\"-75\" font-family=\"Times,serif\" font-size=\"10.00\">3</text>\n</g>\n<!-- target_G5 -->\n<g id=\"node3\" class=\"node\">\n<title>target_G5</title>\n<text text-anchor=\"middle\" x=\"32.5\" y=\"-14.3\" font-family=\"Times,serif\" font-size=\"14.00\">target</text>\n</g>\n<!-- target_G5&#45;&gt;ApplyGateToLthQubit -->\n<g id=\"edge3\" class=\"edge\">\n<title>target_G5:e-&gt;ApplyGateToLthQubit:w</title>\n<path fill=\"none\" stroke=\"black\" d=\"M60.5,-18C83.33,-18 78.76,-48.97 99.87,-50.91\"/>\n<ellipse fill=\"black\" stroke=\"black\" cx=\"101\" cy=\"-50.96\" rx=\"1\" ry=\"1\"/>\n<text text-anchor=\"middle\" x=\"83.5\" y=\"-43\" font-family=\"Times,serif\" font-size=\"10.00\">4</text>\n</g>\n<!-- control_G8 -->\n<g id=\"node5\" class=\"node\">\n<title>control_G8</title>\n<text text-anchor=\"middle\" x=\"226.5\" y=\"-122.3\" font-family=\"Times,serif\" font-size=\"14.00\">control</text>\n</g>\n<!-- ApplyGateToLthQubit&#45;&gt;control_G8 -->\n<g id=\"edge4\" class=\"edge\">\n<title>ApplyGateToLthQubit:e-&gt;control_G8:w</title>\n<path fill=\"none\" stroke=\"black\" d=\"M157,-94C179.22,-94 174.87,-124.03 195.43,-125.91\"/>\n<ellipse fill=\"black\" stroke=\"black\" cx=\"196.5\" cy=\"-125.96\" rx=\"1\" ry=\"1\"/>\n<text text-anchor=\"middle\" x=\"175.5\" y=\"-110\" font-family=\"Times,serif\" font-size=\"10.00\">2</text>\n</g>\n<!-- selection_G6 -->\n<g id=\"node6\" class=\"node\">\n<title>selection_G6</title>\n<text text-anchor=\"middle\" x=\"226.5\" y=\"-68.3\" font-family=\"Times,serif\" font-size=\"14.00\">selection</text>\n</g>\n<!-- ApplyGateToLthQubit&#45;&gt;selection_G6 -->\n<g id=\"edge5\" class=\"edge\">\n<title>ApplyGateToLthQubit:e-&gt;selection_G6:w</title>\n<path fill=\"none\" stroke=\"black\" d=\"M157,-72C172.67,-72 177.14,-72 191.77,-72\"/>\n<ellipse fill=\"black\" stroke=\"black\" cx=\"193\" cy=\"-72\" rx=\"1\" ry=\"1\"/>\n<text text-anchor=\"middle\" x=\"175.5\" y=\"-75\" font-family=\"Times,serif\" font-size=\"10.00\">3</text>\n</g>\n<!-- target_G1 -->\n<g id=\"node7\" class=\"node\">\n<title>target_G1</title>\n<text text-anchor=\"middle\" x=\"226.5\" y=\"-14.3\" font-family=\"Times,serif\" font-size=\"14.00\">target</text>\n</g>\n<!-- ApplyGateToLthQubit&#45;&gt;target_G1 -->\n<g id=\"edge6\" class=\"edge\">\n<title>ApplyGateToLthQubit:e-&gt;target_G1:w</title>\n<path fill=\"none\" stroke=\"black\" d=\"M157,-51C179.83,-51 175.26,-20.03 196.37,-18.09\"/>\n<ellipse fill=\"black\" stroke=\"black\" cx=\"197.5\" cy=\"-18.04\" rx=\"1\" ry=\"1\"/>\n<text text-anchor=\"middle\" x=\"175.5\" y=\"-43\" font-family=\"Times,serif\" font-size=\"10.00\">4</text>\n</g>\n</g>\n</svg>",
          "text/plain": "<IPython.core.display.SVG object>"
         },
         "metadata": {},
         "output_type": "display_data"
        }
       ],
       "tabbable": null,
       "tooltip": null
      }
     },
     "c08c26b7c87e44d29f911eba6a3b9cc2": {
      "model_module": "@jupyter-widgets/controls",
      "model_module_version": "2.0.0",
      "model_name": "HBoxModel",
      "state": {
       "_dom_classes": [],
       "_model_module": "@jupyter-widgets/controls",
       "_model_module_version": "2.0.0",
       "_model_name": "HBoxModel",
       "_view_count": null,
       "_view_module": "@jupyter-widgets/controls",
       "_view_module_version": "2.0.0",
       "_view_name": "HBoxView",
       "box_style": "",
       "children": [
        "IPY_MODEL_1f7434d8e4b740fc9277316c097e3a0b",
        "IPY_MODEL_fefc304d8ed5443899ba9e02c2b410fd"
       ],
       "layout": "IPY_MODEL_eb837754dfbd46539fef6180249a32ec",
       "tabbable": null,
       "tooltip": null
      }
     },
     "c8cda2979bd146c58d8fd4b3f40c0403": {
      "model_module": "@jupyter-widgets/base",
      "model_module_version": "2.0.0",
      "model_name": "LayoutModel",
      "state": {
       "_model_module": "@jupyter-widgets/base",
       "_model_module_version": "2.0.0",
       "_model_name": "LayoutModel",
       "_view_count": null,
       "_view_module": "@jupyter-widgets/base",
       "_view_module_version": "2.0.0",
       "_view_name": "LayoutView",
       "align_content": null,
       "align_items": null,
       "align_self": null,
       "border_bottom": null,
       "border_left": null,
       "border_right": null,
       "border_top": null,
       "bottom": null,
       "display": null,
       "flex": null,
       "flex_flow": null,
       "grid_area": null,
       "grid_auto_columns": null,
       "grid_auto_flow": null,
       "grid_auto_rows": null,
       "grid_column": null,
       "grid_gap": null,
       "grid_row": null,
       "grid_template_areas": null,
       "grid_template_columns": null,
       "grid_template_rows": null,
       "height": null,
       "justify_content": null,
       "justify_items": null,
       "left": null,
       "margin": null,
       "max_height": null,
       "max_width": null,
       "min_height": null,
       "min_width": null,
       "object_fit": null,
       "object_position": null,
       "order": null,
       "overflow": null,
       "padding": null,
       "right": null,
       "top": null,
       "visibility": null,
       "width": null
      }
     },
     "eb837754dfbd46539fef6180249a32ec": {
      "model_module": "@jupyter-widgets/base",
      "model_module_version": "2.0.0",
      "model_name": "LayoutModel",
      "state": {
       "_model_module": "@jupyter-widgets/base",
       "_model_module_version": "2.0.0",
       "_model_name": "LayoutModel",
       "_view_count": null,
       "_view_module": "@jupyter-widgets/base",
       "_view_module_version": "2.0.0",
       "_view_name": "LayoutView",
       "align_content": null,
       "align_items": null,
       "align_self": null,
       "border_bottom": null,
       "border_left": null,
       "border_right": null,
       "border_top": null,
       "bottom": null,
       "display": null,
       "flex": null,
       "flex_flow": null,
       "grid_area": null,
       "grid_auto_columns": null,
       "grid_auto_flow": null,
       "grid_auto_rows": null,
       "grid_column": null,
       "grid_gap": null,
       "grid_row": null,
       "grid_template_areas": null,
       "grid_template_columns": null,
       "grid_template_rows": null,
       "height": null,
       "justify_content": null,
       "justify_items": null,
       "left": null,
       "margin": null,
       "max_height": null,
       "max_width": null,
       "min_height": null,
       "min_width": null,
       "object_fit": null,
       "object_position": null,
       "order": null,
       "overflow": null,
       "padding": null,
       "right": null,
       "top": null,
       "visibility": null,
       "width": null
      }
     },
     "f90b576ba8f643ad8d63ba25f5ca872a": {
      "model_module": "@jupyter-widgets/base",
      "model_module_version": "2.0.0",
      "model_name": "LayoutModel",
      "state": {
       "_model_module": "@jupyter-widgets/base",
       "_model_module_version": "2.0.0",
       "_model_name": "LayoutModel",
       "_view_count": null,
       "_view_module": "@jupyter-widgets/base",
       "_view_module_version": "2.0.0",
       "_view_name": "LayoutView",
       "align_content": null,
       "align_items": null,
       "align_self": null,
       "border_bottom": null,
       "border_left": null,
       "border_right": null,
       "border_top": null,
       "bottom": null,
       "display": null,
       "flex": null,
       "flex_flow": null,
       "grid_area": null,
       "grid_auto_columns": null,
       "grid_auto_flow": null,
       "grid_auto_rows": null,
       "grid_column": null,
       "grid_gap": null,
       "grid_row": null,
       "grid_template_areas": null,
       "grid_template_columns": null,
       "grid_template_rows": null,
       "height": null,
       "justify_content": null,
       "justify_items": null,
       "left": null,
       "margin": null,
       "max_height": null,
       "max_width": null,
       "min_height": null,
       "min_width": null,
       "object_fit": null,
       "object_position": null,
       "order": null,
       "overflow": null,
       "padding": null,
       "right": null,
       "top": null,
       "visibility": null,
       "width": null
      }
     },
     "fefc304d8ed5443899ba9e02c2b410fd": {
      "model_module": "@jupyter-widgets/output",
      "model_module_version": "1.0.0",
      "model_name": "OutputModel",
      "state": {
       "_dom_classes": [],
       "_model_module": "@jupyter-widgets/output",
       "_model_module_version": "1.0.0",
       "_model_name": "OutputModel",
       "_view_count": null,
       "_view_module": "@jupyter-widgets/output",
       "_view_module_version": "1.0.0",
       "_view_name": "OutputView",
       "layout": "IPY_MODEL_f90b576ba8f643ad8d63ba25f5ca872a",
       "msg_id": "",
       "outputs": [
        {
         "data": {
          "image/svg+xml": "<svg xmlns=\"http://www.w3.org/2000/svg\" width=\"1823.417500000001\" height=\"600.0\"><line x1=\"117.75767578125\" x2=\"1793.417500000001\" y1=\"25.0\" y2=\"25.0\" stroke=\"#1967d2\" stroke-width=\"1\"/><line x1=\"117.75767578125\" x2=\"1793.417500000001\" y1=\"75.0\" y2=\"75.0\" stroke=\"#1967d2\" stroke-width=\"1\"/><line x1=\"117.75767578125\" x2=\"1793.417500000001\" y1=\"125.0\" y2=\"125.0\" stroke=\"#1967d2\" stroke-width=\"1\"/><line x1=\"117.75767578125\" x2=\"1793.417500000001\" y1=\"175.0\" y2=\"175.0\" stroke=\"#1967d2\" stroke-width=\"1\"/><line x1=\"117.75767578125\" x2=\"1793.417500000001\" y1=\"225.0\" y2=\"225.0\" stroke=\"#1967d2\" stroke-width=\"1\"/><line x1=\"117.75767578125\" x2=\"1793.417500000001\" y1=\"275.0\" y2=\"275.0\" stroke=\"#1967d2\" stroke-width=\"1\"/><line x1=\"117.75767578125\" x2=\"1793.417500000001\" y1=\"325.0\" y2=\"325.0\" stroke=\"#1967d2\" stroke-width=\"1\"/><line x1=\"117.75767578125\" x2=\"1793.417500000001\" y1=\"375.0\" y2=\"375.0\" stroke=\"#1967d2\" stroke-width=\"1\"/><line x1=\"117.75767578125\" x2=\"1793.417500000001\" y1=\"425.0\" y2=\"425.0\" stroke=\"#1967d2\" stroke-width=\"1\"/><line x1=\"117.75767578125\" x2=\"1793.417500000001\" y1=\"475.0\" y2=\"475.0\" stroke=\"#1967d2\" stroke-width=\"1\"/><line x1=\"117.75767578125\" x2=\"1793.417500000001\" y1=\"525.0\" y2=\"525.0\" stroke=\"#1967d2\" stroke-width=\"1\"/><line x1=\"117.75767578125\" x2=\"1793.417500000001\" y1=\"575.0\" y2=\"575.0\" stroke=\"#1967d2\" stroke-width=\"1\"/><line x1=\"287.11208984375\" x2=\"287.11208984375\" y1=\"25.0\" y2=\"475.0\" stroke=\"black\" stroke-width=\"3\"/><line x1=\"390.30556640625\" x2=\"390.30556640625\" y1=\"175.0\" y2=\"525.0\" stroke=\"black\" stroke-width=\"3\"/><line x1=\"493.49904296875\" x2=\"493.49904296875\" y1=\"225.0\" y2=\"575.0\" stroke=\"black\" stroke-width=\"3\"/><line x1=\"596.6925195312501\" x2=\"596.6925195312501\" y1=\"275.0\" y2=\"575.0\" stroke=\"black\" stroke-width=\"3\"/><line x1=\"699.8859960937501\" x2=\"699.8859960937501\" y1=\"525.0\" y2=\"575.0\" stroke=\"black\" stroke-width=\"3\"/><line x1=\"803.0794726562501\" x2=\"803.0794726562501\" y1=\"325.0\" y2=\"575.0\" stroke=\"black\" stroke-width=\"3\"/><line x1=\"906.2729492187501\" x2=\"906.2729492187501\" y1=\"225.0\" y2=\"575.0\" stroke=\"black\" stroke-width=\"3\"/><line x1=\"1009.4664257812501\" x2=\"1009.4664257812501\" y1=\"475.0\" y2=\"525.0\" stroke=\"black\" stroke-width=\"3\"/><line x1=\"1112.6599023437502\" x2=\"1112.6599023437502\" y1=\"225.0\" y2=\"575.0\" stroke=\"black\" stroke-width=\"3\"/><line x1=\"1215.8533789062503\" x2=\"1215.8533789062503\" y1=\"375.0\" y2=\"575.0\" stroke=\"black\" stroke-width=\"3\"/><line x1=\"1319.0468554687504\" x2=\"1319.0468554687504\" y1=\"525.0\" y2=\"575.0\" stroke=\"black\" stroke-width=\"3\"/><line x1=\"1422.2403320312505\" x2=\"1422.2403320312505\" y1=\"425.0\" y2=\"575.0\" stroke=\"black\" stroke-width=\"3\"/><line x1=\"1525.4338085937507\" x2=\"1525.4338085937507\" y1=\"225.0\" y2=\"575.0\" stroke=\"black\" stroke-width=\"3\"/><line x1=\"1628.6272851562508\" x2=\"1628.6272851562508\" y1=\"175.0\" y2=\"525.0\" stroke=\"black\" stroke-width=\"3\"/><line x1=\"1731.8207617187509\" x2=\"1731.8207617187509\" y1=\"25.0\" y2=\"475.0\" stroke=\"black\" stroke-width=\"3\"/><rect x=\"10.0\" y=\"5.0\" width=\"215.5153515625\" height=\"40\" stroke=\"black\" fill=\"white\" stroke-width=\"0\"/><text x=\"117.75767578125\" y=\"25.0\" dominant-baseline=\"middle\" text-anchor=\"middle\" font-size=\"14px\" font-family=\"sans\\-serif:style=normal:variant=normal:weight=normal:stretch=normal:size=10.0\">control0: </text><rect x=\"10.0\" y=\"55.0\" width=\"215.5153515625\" height=\"40\" stroke=\"black\" fill=\"white\" stroke-width=\"0\"/><text x=\"117.75767578125\" y=\"75.0\" dominant-baseline=\"middle\" text-anchor=\"middle\" font-size=\"14px\" font-family=\"sans\\-serif:style=normal:variant=normal:weight=normal:stretch=normal:size=10.0\">control1: </text><rect x=\"10.0\" y=\"105.0\" width=\"215.5153515625\" height=\"40\" stroke=\"black\" fill=\"white\" stroke-width=\"0\"/><text x=\"117.75767578125\" y=\"125.0\" dominant-baseline=\"middle\" text-anchor=\"middle\" font-size=\"14px\" font-family=\"sans\\-serif:style=normal:variant=normal:weight=normal:stretch=normal:size=10.0\">selection0: </text><rect x=\"10.0\" y=\"155.0\" width=\"215.5153515625\" height=\"40\" stroke=\"black\" fill=\"white\" stroke-width=\"0\"/><text x=\"117.75767578125\" y=\"175.0\" dominant-baseline=\"middle\" text-anchor=\"middle\" font-size=\"14px\" font-family=\"sans\\-serif:style=normal:variant=normal:weight=normal:stretch=normal:size=10.0\">selection1: </text><rect x=\"10.0\" y=\"205.0\" width=\"215.5153515625\" height=\"40\" stroke=\"black\" fill=\"white\" stroke-width=\"0\"/><text x=\"117.75767578125\" y=\"225.0\" dominant-baseline=\"middle\" text-anchor=\"middle\" font-size=\"14px\" font-family=\"sans\\-serif:style=normal:variant=normal:weight=normal:stretch=normal:size=10.0\">selection2: </text><rect x=\"10.0\" y=\"255.0\" width=\"215.5153515625\" height=\"40\" stroke=\"black\" fill=\"white\" stroke-width=\"0\"/><text x=\"117.75767578125\" y=\"275.0\" dominant-baseline=\"middle\" text-anchor=\"middle\" font-size=\"14px\" font-family=\"sans\\-serif:style=normal:variant=normal:weight=normal:stretch=normal:size=10.0\">target0: </text><rect x=\"10.0\" y=\"305.0\" width=\"215.5153515625\" height=\"40\" stroke=\"black\" fill=\"white\" stroke-width=\"0\"/><text x=\"117.75767578125\" y=\"325.0\" dominant-baseline=\"middle\" text-anchor=\"middle\" font-size=\"14px\" font-family=\"sans\\-serif:style=normal:variant=normal:weight=normal:stretch=normal:size=10.0\">target1: </text><rect x=\"10.0\" y=\"355.0\" width=\"215.5153515625\" height=\"40\" stroke=\"black\" fill=\"white\" stroke-width=\"0\"/><text x=\"117.75767578125\" y=\"375.0\" dominant-baseline=\"middle\" text-anchor=\"middle\" font-size=\"14px\" font-family=\"sans\\-serif:style=normal:variant=normal:weight=normal:stretch=normal:size=10.0\">target2: </text><rect x=\"10.0\" y=\"405.0\" width=\"215.5153515625\" height=\"40\" stroke=\"black\" fill=\"white\" stroke-width=\"0\"/><text x=\"117.75767578125\" y=\"425.0\" dominant-baseline=\"middle\" text-anchor=\"middle\" font-size=\"14px\" font-family=\"sans\\-serif:style=normal:variant=normal:weight=normal:stretch=normal:size=10.0\">target3: </text><rect x=\"10.0\" y=\"455.0\" width=\"215.5153515625\" height=\"40\" stroke=\"black\" fill=\"white\" stroke-width=\"0\"/><text x=\"117.75767578125\" y=\"475.0\" dominant-baseline=\"middle\" text-anchor=\"middle\" font-size=\"14px\" font-family=\"sans\\-serif:style=normal:variant=normal:weight=normal:stretch=normal:size=10.0\">_decompose_protocol_3_c(0): </text><rect x=\"10.0\" y=\"505.0\" width=\"215.5153515625\" height=\"40\" stroke=\"black\" fill=\"white\" stroke-width=\"0\"/><text x=\"117.75767578125\" y=\"525.0\" dominant-baseline=\"middle\" text-anchor=\"middle\" font-size=\"14px\" font-family=\"sans\\-serif:style=normal:variant=normal:weight=normal:stretch=normal:size=10.0\">_decompose_protocol_3_c(2): </text><rect x=\"10.0\" y=\"555.0\" width=\"215.5153515625\" height=\"40\" stroke=\"black\" fill=\"white\" stroke-width=\"0\"/><text x=\"117.75767578125\" y=\"575.0\" dominant-baseline=\"middle\" text-anchor=\"middle\" font-size=\"14px\" font-family=\"sans\\-serif:style=normal:variant=normal:weight=normal:stretch=normal:size=10.0\">_decompose_protocol_3_c(3): </text><rect x=\"245.51535156250003\" y=\"5.0\" width=\"83.19347656250001\" height=\"40\" stroke=\"black\" fill=\"white\" stroke-width=\"1\"/><text x=\"287.11208984375\" y=\"25.0\" dominant-baseline=\"middle\" text-anchor=\"middle\" font-size=\"14px\" font-family=\"sans\\-serif:style=normal:variant=normal:weight=normal:stretch=normal:size=10.0\">@['t:4,r:0']</text><circle cx=\"287.11208984375\" cy=\"75.0\" r=\"10.0\"/><rect x=\"245.51535156250003\" y=\"455.0\" width=\"83.19347656250001\" height=\"40\" stroke=\"black\" fill=\"white\" stroke-width=\"1\"/><text x=\"287.11208984375\" y=\"475.0\" dominant-baseline=\"middle\" text-anchor=\"middle\" font-size=\"14px\" font-family=\"sans\\-serif:style=normal:variant=normal:weight=normal:stretch=normal:size=10.0\">And</text><rect x=\"348.708828125\" y=\"455.0\" width=\"83.19347656250001\" height=\"40\" stroke=\"black\" fill=\"white\" stroke-width=\"1\"/><text x=\"390.30556640625\" y=\"475.0\" dominant-baseline=\"middle\" text-anchor=\"middle\" font-size=\"14px\" font-family=\"sans\\-serif:style=normal:variant=normal:weight=normal:stretch=normal:size=10.0\">@['t:4,r:0']</text><rect x=\"348.708828125\" y=\"155.0\" width=\"83.19347656250001\" height=\"40\" stroke=\"black\" fill=\"white\" stroke-width=\"1\"/><text x=\"390.30556640625\" y=\"175.0\" dominant-baseline=\"middle\" text-anchor=\"middle\" font-size=\"14px\" font-family=\"sans\\-serif:style=normal:variant=normal:weight=normal:stretch=normal:size=10.0\">(0)</text><rect x=\"348.708828125\" y=\"505.0\" width=\"83.19347656250001\" height=\"40\" stroke=\"black\" fill=\"white\" stroke-width=\"1\"/><text x=\"390.30556640625\" y=\"525.0\" dominant-baseline=\"middle\" text-anchor=\"middle\" font-size=\"14px\" font-family=\"sans\\-serif:style=normal:variant=normal:weight=normal:stretch=normal:size=10.0\">And</text><rect x=\"451.9023046875\" y=\"505.0\" width=\"83.19347656250001\" height=\"40\" stroke=\"black\" fill=\"white\" stroke-width=\"1\"/><text x=\"493.49904296875\" y=\"525.0\" dominant-baseline=\"middle\" text-anchor=\"middle\" font-size=\"14px\" font-family=\"sans\\-serif:style=normal:variant=normal:weight=normal:stretch=normal:size=10.0\">@['t:4,r:0']</text><rect x=\"451.9023046875\" y=\"205.0\" width=\"83.19347656250001\" height=\"40\" stroke=\"black\" fill=\"white\" stroke-width=\"1\"/><text x=\"493.49904296875\" y=\"225.0\" dominant-baseline=\"middle\" text-anchor=\"middle\" font-size=\"14px\" font-family=\"sans\\-serif:style=normal:variant=normal:weight=normal:stretch=normal:size=10.0\">(0)</text><rect x=\"451.9023046875\" y=\"555.0\" width=\"83.19347656250001\" height=\"40\" stroke=\"black\" fill=\"white\" stroke-width=\"1\"/><text x=\"493.49904296875\" y=\"575.0\" dominant-baseline=\"middle\" text-anchor=\"middle\" font-size=\"14px\" font-family=\"sans\\-serif:style=normal:variant=normal:weight=normal:stretch=normal:size=10.0\">And</text><rect x=\"555.0957812500001\" y=\"555.0\" width=\"83.19347656250001\" height=\"40\" stroke=\"black\" fill=\"white\" stroke-width=\"1\"/><text x=\"596.6925195312501\" y=\"575.0\" dominant-baseline=\"middle\" text-anchor=\"middle\" font-size=\"14px\" font-family=\"sans\\-serif:style=normal:variant=normal:weight=normal:stretch=normal:size=10.0\">@['t:0,r:0']</text><rect x=\"555.0957812500001\" y=\"255.0\" width=\"83.19347656250001\" height=\"40\" stroke=\"black\" fill=\"white\" stroke-width=\"1\"/><text x=\"596.6925195312501\" y=\"275.0\" dominant-baseline=\"middle\" text-anchor=\"middle\" font-size=\"18px\" font-family=\"sans\\-serif:style=normal:variant=normal:weight=normal:stretch=normal:size=10.0\">I</text><rect x=\"658.2892578125001\" y=\"505.0\" width=\"83.19347656250001\" height=\"40\" stroke=\"black\" fill=\"white\" stroke-width=\"1\"/><text x=\"699.8859960937501\" y=\"525.0\" dominant-baseline=\"middle\" text-anchor=\"middle\" font-size=\"14px\" font-family=\"sans\\-serif:style=normal:variant=normal:weight=normal:stretch=normal:size=10.0\">@['t:0,r:0']</text><rect x=\"658.2892578125001\" y=\"555.0\" width=\"83.19347656250001\" height=\"40\" stroke=\"black\" fill=\"white\" stroke-width=\"1\"/><text x=\"699.8859960937501\" y=\"575.0\" dominant-baseline=\"middle\" text-anchor=\"middle\" font-size=\"18px\" font-family=\"sans\\-serif:style=normal:variant=normal:weight=normal:stretch=normal:size=10.0\">X</text><rect x=\"761.4827343750001\" y=\"555.0\" width=\"83.19347656250001\" height=\"40\" stroke=\"black\" fill=\"white\" stroke-width=\"1\"/><text x=\"803.0794726562501\" y=\"575.0\" dominant-baseline=\"middle\" text-anchor=\"middle\" font-size=\"14px\" font-family=\"sans\\-serif:style=normal:variant=normal:weight=normal:stretch=normal:size=10.0\">@['t:0,r:0']</text><circle cx=\"803.0794726562501\" cy=\"325.0\" r=\"10.0\"/><rect x=\"864.6762109375001\" y=\"505.0\" width=\"83.19347656250001\" height=\"40\" stroke=\"black\" fill=\"white\" stroke-width=\"1\"/><text x=\"906.2729492187501\" y=\"525.0\" dominant-baseline=\"middle\" text-anchor=\"middle\" font-size=\"14px\" font-family=\"sans\\-serif:style=normal:variant=normal:weight=normal:stretch=normal:size=10.0\">@['t:0,r:0']</text><circle cx=\"906.2729492187501\" cy=\"225.0\" r=\"10.0\"/><rect x=\"864.6762109375001\" y=\"555.0\" width=\"83.19347656250001\" height=\"40\" stroke=\"black\" fill=\"white\" stroke-width=\"1\"/><text x=\"906.2729492187501\" y=\"575.0\" dominant-baseline=\"middle\" text-anchor=\"middle\" font-size=\"14px\" font-family=\"sans\\-serif:style=normal:variant=normal:weight=normal:stretch=normal:size=10.0\">And†</text><rect x=\"967.8696875\" y=\"455.0\" width=\"83.19347656250001\" height=\"40\" stroke=\"black\" fill=\"white\" stroke-width=\"1\"/><text x=\"1009.4664257812501\" y=\"475.0\" dominant-baseline=\"middle\" text-anchor=\"middle\" font-size=\"14px\" font-family=\"sans\\-serif:style=normal:variant=normal:weight=normal:stretch=normal:size=10.0\">@['t:0,r:0']</text><rect x=\"967.8696875\" y=\"505.0\" width=\"83.19347656250001\" height=\"40\" stroke=\"black\" fill=\"white\" stroke-width=\"1\"/><text x=\"1009.4664257812501\" y=\"525.0\" dominant-baseline=\"middle\" text-anchor=\"middle\" font-size=\"18px\" font-family=\"sans\\-serif:style=normal:variant=normal:weight=normal:stretch=normal:size=10.0\">X</text><rect x=\"1071.0631640625002\" y=\"505.0\" width=\"83.19347656250001\" height=\"40\" stroke=\"black\" fill=\"white\" stroke-width=\"1\"/><text x=\"1112.6599023437502\" y=\"525.0\" dominant-baseline=\"middle\" text-anchor=\"middle\" font-size=\"14px\" font-family=\"sans\\-serif:style=normal:variant=normal:weight=normal:stretch=normal:size=10.0\">@['t:4,r:0']</text><rect x=\"1071.0631640625002\" y=\"205.0\" width=\"83.19347656250001\" height=\"40\" stroke=\"black\" fill=\"white\" stroke-width=\"1\"/><text x=\"1112.6599023437502\" y=\"225.0\" dominant-baseline=\"middle\" text-anchor=\"middle\" font-size=\"14px\" font-family=\"sans\\-serif:style=normal:variant=normal:weight=normal:stretch=normal:size=10.0\">(0)</text><rect x=\"1071.0631640625002\" y=\"555.0\" width=\"83.19347656250001\" height=\"40\" stroke=\"black\" fill=\"white\" stroke-width=\"1\"/><text x=\"1112.6599023437502\" y=\"575.0\" dominant-baseline=\"middle\" text-anchor=\"middle\" font-size=\"14px\" font-family=\"sans\\-serif:style=normal:variant=normal:weight=normal:stretch=normal:size=10.0\">And</text><rect x=\"1174.2566406250003\" y=\"555.0\" width=\"83.19347656250001\" height=\"40\" stroke=\"black\" fill=\"white\" stroke-width=\"1\"/><text x=\"1215.8533789062503\" y=\"575.0\" dominant-baseline=\"middle\" text-anchor=\"middle\" font-size=\"14px\" font-family=\"sans\\-serif:style=normal:variant=normal:weight=normal:stretch=normal:size=10.0\">@['t:0,r:0']</text><rect x=\"1174.2566406250003\" y=\"355.0\" width=\"83.19347656250001\" height=\"40\" stroke=\"black\" fill=\"white\" stroke-width=\"1\"/><text x=\"1215.8533789062503\" y=\"375.0\" dominant-baseline=\"middle\" text-anchor=\"middle\" font-size=\"18px\" font-family=\"sans\\-serif:style=normal:variant=normal:weight=normal:stretch=normal:size=10.0\">I</text><rect x=\"1277.4501171875004\" y=\"505.0\" width=\"83.19347656250001\" height=\"40\" stroke=\"black\" fill=\"white\" stroke-width=\"1\"/><text x=\"1319.0468554687504\" y=\"525.0\" dominant-baseline=\"middle\" text-anchor=\"middle\" font-size=\"14px\" font-family=\"sans\\-serif:style=normal:variant=normal:weight=normal:stretch=normal:size=10.0\">@['t:0,r:0']</text><rect x=\"1277.4501171875004\" y=\"555.0\" width=\"83.19347656250001\" height=\"40\" stroke=\"black\" fill=\"white\" stroke-width=\"1\"/><text x=\"1319.0468554687504\" y=\"575.0\" dominant-baseline=\"middle\" text-anchor=\"middle\" font-size=\"18px\" font-family=\"sans\\-serif:style=normal:variant=normal:weight=normal:stretch=normal:size=10.0\">X</text><rect x=\"1380.6435937500005\" y=\"555.0\" width=\"83.19347656250001\" height=\"40\" stroke=\"black\" fill=\"white\" stroke-width=\"1\"/><text x=\"1422.2403320312505\" y=\"575.0\" dominant-baseline=\"middle\" text-anchor=\"middle\" font-size=\"14px\" font-family=\"sans\\-serif:style=normal:variant=normal:weight=normal:stretch=normal:size=10.0\">@['t:0,r:0']</text><circle cx=\"1422.2403320312505\" cy=\"425.0\" r=\"10.0\"/><rect x=\"1483.8370703125006\" y=\"505.0\" width=\"83.19347656250001\" height=\"40\" stroke=\"black\" fill=\"white\" stroke-width=\"1\"/><text x=\"1525.4338085937507\" y=\"525.0\" dominant-baseline=\"middle\" text-anchor=\"middle\" font-size=\"14px\" font-family=\"sans\\-serif:style=normal:variant=normal:weight=normal:stretch=normal:size=10.0\">@['t:0,r:0']</text><circle cx=\"1525.4338085937507\" cy=\"225.0\" r=\"10.0\"/><rect x=\"1483.8370703125006\" y=\"555.0\" width=\"83.19347656250001\" height=\"40\" stroke=\"black\" fill=\"white\" stroke-width=\"1\"/><text x=\"1525.4338085937507\" y=\"575.0\" dominant-baseline=\"middle\" text-anchor=\"middle\" font-size=\"14px\" font-family=\"sans\\-serif:style=normal:variant=normal:weight=normal:stretch=normal:size=10.0\">And†</text><rect x=\"1587.0305468750007\" y=\"455.0\" width=\"83.19347656250001\" height=\"40\" stroke=\"black\" fill=\"white\" stroke-width=\"1\"/><text x=\"1628.6272851562508\" y=\"475.0\" dominant-baseline=\"middle\" text-anchor=\"middle\" font-size=\"14px\" font-family=\"sans\\-serif:style=normal:variant=normal:weight=normal:stretch=normal:size=10.0\">@['t:0,r:0']</text><circle cx=\"1628.6272851562508\" cy=\"175.0\" r=\"10.0\"/><rect x=\"1587.0305468750007\" y=\"505.0\" width=\"83.19347656250001\" height=\"40\" stroke=\"black\" fill=\"white\" stroke-width=\"1\"/><text x=\"1628.6272851562508\" y=\"525.0\" dominant-baseline=\"middle\" text-anchor=\"middle\" font-size=\"14px\" font-family=\"sans\\-serif:style=normal:variant=normal:weight=normal:stretch=normal:size=10.0\">And†</text><rect x=\"1690.2240234375008\" y=\"5.0\" width=\"83.19347656250001\" height=\"40\" stroke=\"black\" fill=\"white\" stroke-width=\"1\"/><text x=\"1731.8207617187509\" y=\"25.0\" dominant-baseline=\"middle\" text-anchor=\"middle\" font-size=\"14px\" font-family=\"sans\\-serif:style=normal:variant=normal:weight=normal:stretch=normal:size=10.0\">@['t:0,r:0']</text><circle cx=\"1731.8207617187509\" cy=\"75.0\" r=\"10.0\"/><rect x=\"1690.2240234375008\" y=\"455.0\" width=\"83.19347656250001\" height=\"40\" stroke=\"black\" fill=\"white\" stroke-width=\"1\"/><text x=\"1731.8207617187509\" y=\"475.0\" dominant-baseline=\"middle\" text-anchor=\"middle\" font-size=\"14px\" font-family=\"sans\\-serif:style=normal:variant=normal:weight=normal:stretch=normal:size=10.0\">And†</text></svg>",
          "text/plain": "<IPython.core.display.SVG object>"
         },
         "metadata": {},
         "output_type": "display_data"
        }
       ],
       "tabbable": null,
       "tooltip": null
      }
     }
    },
    "version_major": 2,
    "version_minor": 0
   }
  }
 },
 "nbformat": 4,
 "nbformat_minor": 5
}
