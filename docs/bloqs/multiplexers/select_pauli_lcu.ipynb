{
 "cells": [
  {
   "cell_type": "markdown",
   "id": "ea8ed4b7",
   "metadata": {
    "cq.autogen": "title_cell"
   },
   "source": [
    "# Generic Select\n",
    "\n",
    "Bloqs for applying SELECT unitary for LCU of Pauli Strings."
   ]
  },
  {
   "cell_type": "code",
   "execution_count": 1,
   "id": "ec00185c",
   "metadata": {
    "cq.autogen": "top_imports"
   },
   "outputs": [],
   "source": [
    "from qualtran import Bloq, CompositeBloq, BloqBuilder, Signature, Register\n",
    "from qualtran import QBit, QInt, QUInt, QAny\n",
    "from qualtran.drawing import show_bloq, show_call_graph, show_counts_sigma\n",
    "from typing import *\n",
    "import numpy as np\n",
    "import sympy\n",
    "import cirq"
   ]
  },
  {
   "cell_type": "markdown",
   "id": "1672a1ee",
   "metadata": {
    "cq.autogen": "SelectPauliLCU.bloq_doc.md"
   },
   "source": [
    "## `SelectPauliLCU`\n",
    "A SELECT bloq for selecting and applying operators from an array of `PauliString`s.\n",
    "\n",
    "$$\n",
    "\\mathrm{SELECT} = \\sum_{l}|l \\rangle \\langle l| \\otimes U_l\n",
    "$$\n",
    "\n",
    "Where $U_l$ is a member of the Pauli group.\n",
    "\n",
    "This bloq uses the unary iteration scheme to apply `select_unitaries[selection]` to `target`\n",
    "controlled on the single-bit `control` register.\n",
    "\n",
    "#### Parameters\n",
    " - `selection_bitsize`: The size of the indexing `select` register. This should be at least `log2(len(select_unitaries))`\n",
    " - `target_bitsize`: The size of the `target` register.\n",
    " - `select_unitaries`: List of `DensePauliString`s to apply to the `target` register. Each dense pauli string must contain `target_bitsize` terms.\n",
    " - `control_val`: Optional control value. If specified, a singly controlled gate is constructed.\n"
   ]
  },
  {
   "cell_type": "code",
   "execution_count": 2,
   "id": "118a3051",
   "metadata": {
    "cq.autogen": "SelectPauliLCU.bloq_doc.py"
   },
   "outputs": [],
   "source": [
    "from qualtran.bloqs.multiplexers.select_pauli_lcu import SelectPauliLCU"
   ]
  },
  {
   "cell_type": "markdown",
   "id": "0efc274b",
   "metadata": {
    "cq.autogen": "SelectPauliLCU.example_instances.md"
   },
   "source": [
    "### Example Instances"
   ]
  },
  {
   "cell_type": "code",
   "execution_count": 3,
   "id": "1d707ae3",
   "metadata": {
    "cq.autogen": "SelectPauliLCU.select_pauli_lcu"
   },
   "outputs": [],
   "source": [
    "target_bitsize = 4\n",
    "us = ['XIXI', 'YIYI', 'ZZZZ', 'ZXYZ']\n",
    "us = [cirq.DensePauliString(u) for u in us]\n",
    "selection_bitsize = int(np.ceil(np.log2(len(us))))\n",
    "select_pauli_lcu = SelectPauliLCU(selection_bitsize, target_bitsize, select_unitaries=us)"
   ]
  },
  {
   "cell_type": "markdown",
   "id": "094d37fa",
   "metadata": {
    "cq.autogen": "SelectPauliLCU.graphical_signature.md"
   },
   "source": [
    "#### Graphical Signature"
   ]
  },
  {
   "cell_type": "code",
   "execution_count": 4,
   "id": "d4c2c22a",
   "metadata": {
    "cq.autogen": "SelectPauliLCU.graphical_signature.py"
   },
   "outputs": [
    {
     "data": {
      "application/vnd.jupyter.widget-view+json": {
       "model_id": "dc8bb020b3f54dd78cdd3c0e53291c11",
       "version_major": 2,
       "version_minor": 0
      },
      "text/plain": [
       "HBox(children=(Output(outputs=({'output_type': 'display_data', 'data': {'text/plain': '<IPython.core.display.M…"
      ]
     },
     "metadata": {},
     "output_type": "display_data"
    }
   ],
   "source": [
    "from qualtran.drawing import show_bloqs\n",
    "show_bloqs([select_pauli_lcu],\n",
    "           ['`select_pauli_lcu`'])"
   ]
  },
  {
   "cell_type": "markdown",
   "id": "a832dbef",
   "metadata": {
    "cq.autogen": "SelectPauliLCU.call_graph.md"
   },
   "source": [
    "### Call Graph"
   ]
  },
  {
   "cell_type": "code",
   "execution_count": 5,
   "id": "bef28dee",
   "metadata": {
    "cq.autogen": "SelectPauliLCU.call_graph.py"
   },
   "outputs": [
    {
     "data": {
      "image/svg+xml": [
       "<svg xmlns=\"http://www.w3.org/2000/svg\" xmlns:xlink=\"http://www.w3.org/1999/xlink\" width=\"1744pt\" height=\"131pt\" viewBox=\"0.00 0.00 1744.00 131.00\">\n",
       "<g id=\"graph0\" class=\"graph\" transform=\"scale(1 1) rotate(0) translate(4 127)\">\n",
       "<title>counts</title>\n",
       "<polygon fill=\"white\" stroke=\"transparent\" points=\"-4,4 -4,-127 1740,-127 1740,4 -4,4\"/>\n",
       "<!-- b0 -->\n",
       "<g id=\"node1\" class=\"node\">\n",
       "<title>b0</title>\n",
       "<polygon fill=\"none\" stroke=\"black\" points=\"1133,-123 600,-123 600,-87 1133,-87 1133,-123\"/>\n",
       "<text text-anchor=\"start\" x=\"822.5\" y=\"-106.8\" font-family=\"Times,serif\" font-size=\"14.00\">SelectPauliLCU</text>\n",
       "<text text-anchor=\"start\" x=\"608\" y=\"-96\" font-family=\"monospace\" font-size=\"10.00\">selection_bitsize=2, target_bitsize=4, select_unitaries=(cirq.De ..., control_val=None</text>\n",
       "</g>\n",
       "<!-- b1 -->\n",
       "<g id=\"node2\" class=\"node\">\n",
       "<title>b1</title>\n",
       "<polygon fill=\"none\" stroke=\"black\" points=\"281,-36 0,-36 0,0 281,0 281,-36\"/>\n",
       "<text text-anchor=\"start\" x=\"98\" y=\"-19.8\" font-family=\"Times,serif\" font-size=\"14.00\">C[cirq.+ZZZZ]</text>\n",
       "<text text-anchor=\"start\" x=\"8\" y=\"-9\" font-family=\"monospace\" font-size=\"10.00\">subbloq=CirqGate ..., ctrl_spec=CtrlSpec ...</text>\n",
       "</g>\n",
       "<!-- b0&#45;&gt;b1 -->\n",
       "<g id=\"edge1\" class=\"edge\">\n",
       "<title>b0-&gt;b1</title>\n",
       "<path fill=\"none\" stroke=\"black\" d=\"M608.51,-87C550.5,-82.12 489.31,-76.14 432.5,-69 367.27,-60.8 294.38,-48.32 237.74,-37.89\"/>\n",
       "<polygon fill=\"black\" stroke=\"black\" points=\"238.19,-34.41 227.72,-36.03 236.92,-41.29 238.19,-34.41\"/>\n",
       "<text text-anchor=\"middle\" x=\"436\" y=\"-57.8\" font-family=\"Times,serif\" font-size=\"14.00\">1</text>\n",
       "</g>\n",
       "<!-- b2 -->\n",
       "<g id=\"node3\" class=\"node\">\n",
       "<title>b2</title>\n",
       "<polygon fill=\"none\" stroke=\"black\" points=\"353.5,-36 299.5,-36 299.5,0 353.5,0 353.5,-36\"/>\n",
       "<text text-anchor=\"start\" x=\"308.5\" y=\"-14.3\" font-family=\"Times,serif\" font-size=\"14.00\">XGate</text>\n",
       "</g>\n",
       "<!-- b0&#45;&gt;b2 -->\n",
       "<g id=\"edge2\" class=\"edge\">\n",
       "<title>b0-&gt;b2</title>\n",
       "<path fill=\"none\" stroke=\"black\" d=\"M627.77,-86.96C545.73,-77.29 453.79,-62.16 363.28,-35.74\"/>\n",
       "<polygon fill=\"black\" stroke=\"black\" points=\"364.26,-32.38 353.68,-32.89 362.27,-39.09 364.26,-32.38\"/>\n",
       "<text text-anchor=\"middle\" x=\"502\" y=\"-57.8\" font-family=\"Times,serif\" font-size=\"14.00\">2</text>\n",
       "</g>\n",
       "<!-- b3 -->\n",
       "<g id=\"node4\" class=\"node\">\n",
       "<title>b3</title>\n",
       "<polygon fill=\"none\" stroke=\"black\" points=\"653,-36 372,-36 372,0 653,0 653,-36\"/>\n",
       "<text text-anchor=\"start\" x=\"468.5\" y=\"-19.8\" font-family=\"Times,serif\" font-size=\"14.00\">C[cirq.+ZXYZ]</text>\n",
       "<text text-anchor=\"start\" x=\"380\" y=\"-9\" font-family=\"monospace\" font-size=\"10.00\">subbloq=CirqGate ..., ctrl_spec=CtrlSpec ...</text>\n",
       "</g>\n",
       "<!-- b0&#45;&gt;b3 -->\n",
       "<g id=\"edge3\" class=\"edge\">\n",
       "<title>b0-&gt;b3</title>\n",
       "<path fill=\"none\" stroke=\"black\" d=\"M795.29,-86.9C736.96,-72.89 654.41,-53.07 593.55,-38.46\"/>\n",
       "<polygon fill=\"black\" stroke=\"black\" points=\"594.14,-35 583.6,-36.07 592.5,-41.81 594.14,-35\"/>\n",
       "<text text-anchor=\"middle\" x=\"715\" y=\"-57.8\" font-family=\"Times,serif\" font-size=\"14.00\">1</text>\n",
       "</g>\n",
       "<!-- b4 -->\n",
       "<g id=\"node5\" class=\"node\">\n",
       "<title>b4</title>\n",
       "<polygon fill=\"none\" stroke=\"black\" points=\"856,-36 671,-36 671,0 856,0 856,-36\"/>\n",
       "<text text-anchor=\"start\" x=\"748\" y=\"-19.8\" font-family=\"Times,serif\" font-size=\"14.00\">And†</text>\n",
       "<text text-anchor=\"start\" x=\"679\" y=\"-9\" font-family=\"monospace\" font-size=\"10.00\">cv1=1, cv2=1, uncompute=True</text>\n",
       "</g>\n",
       "<!-- b0&#45;&gt;b4 -->\n",
       "<g id=\"edge4\" class=\"edge\">\n",
       "<title>b0-&gt;b4</title>\n",
       "<path fill=\"none\" stroke=\"black\" d=\"M845.66,-86.8C830.3,-74.13 809.22,-56.73 792.26,-42.74\"/>\n",
       "<polygon fill=\"black\" stroke=\"black\" points=\"794.25,-39.84 784.31,-36.18 789.8,-45.24 794.25,-39.84\"/>\n",
       "<text text-anchor=\"middle\" x=\"825\" y=\"-57.8\" font-family=\"Times,serif\" font-size=\"14.00\">2</text>\n",
       "</g>\n",
       "<!-- b5 -->\n",
       "<g id=\"node6\" class=\"node\">\n",
       "<title>b5</title>\n",
       "<polygon fill=\"none\" stroke=\"black\" points=\"1065,-36 874,-36 874,0 1065,0 1065,-36\"/>\n",
       "<text text-anchor=\"start\" x=\"957.5\" y=\"-19.8\" font-family=\"Times,serif\" font-size=\"14.00\">And</text>\n",
       "<text text-anchor=\"start\" x=\"882\" y=\"-9\" font-family=\"monospace\" font-size=\"10.00\">cv1=1, cv2=0, uncompute=False</text>\n",
       "</g>\n",
       "<!-- b0&#45;&gt;b5 -->\n",
       "<g id=\"edge5\" class=\"edge\">\n",
       "<title>b0-&gt;b5</title>\n",
       "<path fill=\"none\" stroke=\"black\" d=\"M887.34,-86.8C902.7,-74.13 923.78,-56.73 940.74,-42.74\"/>\n",
       "<polygon fill=\"black\" stroke=\"black\" points=\"943.2,-45.24 948.69,-36.18 938.75,-39.84 943.2,-45.24\"/>\n",
       "<text text-anchor=\"middle\" x=\"928\" y=\"-57.8\" font-family=\"Times,serif\" font-size=\"14.00\">2</text>\n",
       "</g>\n",
       "<!-- b6 -->\n",
       "<g id=\"node7\" class=\"node\">\n",
       "<title>b6</title>\n",
       "<polygon fill=\"none\" stroke=\"black\" points=\"1137.5,-36 1083.5,-36 1083.5,0 1137.5,0 1137.5,-36\"/>\n",
       "<text text-anchor=\"start\" x=\"1092\" y=\"-14.3\" font-family=\"Times,serif\" font-size=\"14.00\">CNOT</text>\n",
       "</g>\n",
       "<!-- b0&#45;&gt;b6 -->\n",
       "<g id=\"edge6\" class=\"edge\">\n",
       "<title>b0-&gt;b6</title>\n",
       "<path fill=\"none\" stroke=\"black\" d=\"M924.23,-86.96C966.1,-74.14 1023.85,-55.49 1073.5,-36 1073.6,-35.96 1073.7,-35.92 1073.8,-35.88\"/>\n",
       "<polygon fill=\"black\" stroke=\"black\" points=\"1075.29,-39.05 1083.17,-31.98 1072.59,-32.59 1075.29,-39.05\"/>\n",
       "<text text-anchor=\"middle\" x=\"1027\" y=\"-57.8\" font-family=\"Times,serif\" font-size=\"14.00\">2</text>\n",
       "</g>\n",
       "<!-- b7 -->\n",
       "<g id=\"node8\" class=\"node\">\n",
       "<title>b7</title>\n",
       "<polygon fill=\"none\" stroke=\"black\" points=\"1437,-36 1156,-36 1156,0 1437,0 1437,-36\"/>\n",
       "<text text-anchor=\"start\" x=\"1261\" y=\"-19.8\" font-family=\"Times,serif\" font-size=\"14.00\">C[cirq.+YY]</text>\n",
       "<text text-anchor=\"start\" x=\"1164\" y=\"-9\" font-family=\"monospace\" font-size=\"10.00\">subbloq=CirqGate ..., ctrl_spec=CtrlSpec ...</text>\n",
       "</g>\n",
       "<!-- b0&#45;&gt;b7 -->\n",
       "<g id=\"edge7\" class=\"edge\">\n",
       "<title>b0-&gt;b7</title>\n",
       "<path fill=\"none\" stroke=\"black\" d=\"M952.74,-86.95C1024.42,-72.78 1126.33,-52.64 1200.57,-37.96\"/>\n",
       "<polygon fill=\"black\" stroke=\"black\" points=\"1201.27,-41.39 1210.4,-36.02 1199.91,-34.53 1201.27,-41.39\"/>\n",
       "<text text-anchor=\"middle\" x=\"1111\" y=\"-57.8\" font-family=\"Times,serif\" font-size=\"14.00\">1</text>\n",
       "</g>\n",
       "<!-- b8 -->\n",
       "<g id=\"node9\" class=\"node\">\n",
       "<title>b8</title>\n",
       "<polygon fill=\"none\" stroke=\"black\" points=\"1736,-36 1455,-36 1455,0 1736,0 1736,-36\"/>\n",
       "<text text-anchor=\"start\" x=\"1560\" y=\"-19.8\" font-family=\"Times,serif\" font-size=\"14.00\">C[cirq.+XX]</text>\n",
       "<text text-anchor=\"start\" x=\"1463\" y=\"-9\" font-family=\"monospace\" font-size=\"10.00\">subbloq=CirqGate ..., ctrl_spec=CtrlSpec ...</text>\n",
       "</g>\n",
       "<!-- b0&#45;&gt;b8 -->\n",
       "<g id=\"edge8\" class=\"edge\">\n",
       "<title>b0-&gt;b8</title>\n",
       "<path fill=\"none\" stroke=\"black\" d=\"M1012.71,-86.95C1138.06,-72.34 1317.94,-51.36 1444.62,-36.59\"/>\n",
       "<polygon fill=\"black\" stroke=\"black\" points=\"1445.27,-40.04 1454.8,-35.41 1444.46,-33.09 1445.27,-40.04\"/>\n",
       "<text text-anchor=\"middle\" x=\"1279\" y=\"-57.8\" font-family=\"Times,serif\" font-size=\"14.00\">1</text>\n",
       "</g>\n",
       "</g>\n",
       "</svg>"
      ],
      "text/plain": [
       "<IPython.core.display.SVG object>"
      ]
     },
     "metadata": {},
     "output_type": "display_data"
    },
    {
     "data": {
      "text/markdown": [
       "#### Counts totals:\n",
       " - `And`: 2\n",
       " - `And†`: 2\n",
       " - `CNOT`: 2\n",
       " - `C[+XX]`: 1\n",
       " - `C[+YY]`: 1\n",
       " - `C[+ZXYZ]`: 1\n",
       " - `C[+ZZZZ]`: 1\n",
       " - `XGate`: 2"
      ],
      "text/plain": [
       "<IPython.core.display.Markdown object>"
      ]
     },
     "metadata": {},
     "output_type": "display_data"
    }
   ],
   "source": [
    "from qualtran.resource_counting.generalizers import ignore_split_join\n",
    "select_pauli_lcu_g, select_pauli_lcu_sigma = select_pauli_lcu.call_graph(max_depth=1, generalizer=ignore_split_join)\n",
    "show_call_graph(select_pauli_lcu_g)\n",
    "show_counts_sigma(select_pauli_lcu_sigma)"
   ]
  }
 ],
 "metadata": {
  "kernelspec": {
   "display_name": "Python 3",
   "language": "python",
   "name": "python3"
  },
  "language_info": {
   "codemirror_mode": {
    "name": "ipython",
    "version": 3
   },
   "file_extension": ".py",
   "mimetype": "text/x-python",
   "name": "python",
   "nbconvert_exporter": "python",
   "pygments_lexer": "ipython3",
   "version": "3.11.8"
  },
  "widgets": {
   "application/vnd.jupyter.widget-state+json": {
    "state": {
     "7c1b3b132cbd4d799b18e49cb7637197": {
      "model_module": "@jupyter-widgets/base",
      "model_module_version": "2.0.0",
      "model_name": "LayoutModel",
      "state": {
       "_model_module": "@jupyter-widgets/base",
       "_model_module_version": "2.0.0",
       "_model_name": "LayoutModel",
       "_view_count": null,
       "_view_module": "@jupyter-widgets/base",
       "_view_module_version": "2.0.0",
       "_view_name": "LayoutView",
       "align_content": null,
       "align_items": null,
       "align_self": null,
       "border_bottom": null,
       "border_left": null,
       "border_right": null,
       "border_top": null,
       "bottom": null,
       "display": null,
       "flex": null,
       "flex_flow": null,
       "grid_area": null,
       "grid_auto_columns": null,
       "grid_auto_flow": null,
       "grid_auto_rows": null,
       "grid_column": null,
       "grid_gap": null,
       "grid_row": null,
       "grid_template_areas": null,
       "grid_template_columns": null,
       "grid_template_rows": null,
       "height": null,
       "justify_content": null,
       "justify_items": null,
       "left": null,
       "margin": null,
       "max_height": null,
       "max_width": null,
       "min_height": null,
       "min_width": null,
       "object_fit": null,
       "object_position": null,
       "order": null,
       "overflow": null,
       "padding": null,
       "right": null,
       "top": null,
       "visibility": null,
       "width": null
      }
     },
     "c83e736ebada4c80a67bcc088231a1bc": {
      "model_module": "@jupyter-widgets/base",
      "model_module_version": "2.0.0",
      "model_name": "LayoutModel",
      "state": {
       "_model_module": "@jupyter-widgets/base",
       "_model_module_version": "2.0.0",
       "_model_name": "LayoutModel",
       "_view_count": null,
       "_view_module": "@jupyter-widgets/base",
       "_view_module_version": "2.0.0",
       "_view_name": "LayoutView",
       "align_content": null,
       "align_items": null,
       "align_self": null,
       "border_bottom": null,
       "border_left": null,
       "border_right": null,
       "border_top": null,
       "bottom": null,
       "display": null,
       "flex": null,
       "flex_flow": null,
       "grid_area": null,
       "grid_auto_columns": null,
       "grid_auto_flow": null,
       "grid_auto_rows": null,
       "grid_column": null,
       "grid_gap": null,
       "grid_row": null,
       "grid_template_areas": null,
       "grid_template_columns": null,
       "grid_template_rows": null,
       "height": null,
       "justify_content": null,
       "justify_items": null,
       "left": null,
       "margin": null,
       "max_height": null,
       "max_width": null,
       "min_height": null,
       "min_width": null,
       "object_fit": null,
       "object_position": null,
       "order": null,
       "overflow": null,
       "padding": null,
       "right": null,
       "top": null,
       "visibility": null,
       "width": null
      }
     },
     "dc8bb020b3f54dd78cdd3c0e53291c11": {
      "model_module": "@jupyter-widgets/controls",
      "model_module_version": "2.0.0",
      "model_name": "HBoxModel",
      "state": {
       "_dom_classes": [],
       "_model_module": "@jupyter-widgets/controls",
       "_model_module_version": "2.0.0",
       "_model_name": "HBoxModel",
       "_view_count": null,
       "_view_module": "@jupyter-widgets/controls",
       "_view_module_version": "2.0.0",
       "_view_name": "HBoxView",
       "box_style": "",
       "children": [
        "IPY_MODEL_e1f46bd071af4e74b1a958bc7b193c80"
       ],
       "layout": "IPY_MODEL_c83e736ebada4c80a67bcc088231a1bc",
       "tabbable": null,
       "tooltip": null
      }
     },
     "e1f46bd071af4e74b1a958bc7b193c80": {
      "model_module": "@jupyter-widgets/output",
      "model_module_version": "1.0.0",
      "model_name": "OutputModel",
      "state": {
       "_dom_classes": [],
       "_model_module": "@jupyter-widgets/output",
       "_model_module_version": "1.0.0",
       "_model_name": "OutputModel",
       "_view_count": null,
       "_view_module": "@jupyter-widgets/output",
       "_view_module_version": "1.0.0",
       "_view_name": "OutputView",
       "layout": "IPY_MODEL_7c1b3b132cbd4d799b18e49cb7637197",
       "msg_id": "",
       "outputs": [
        {
         "data": {
          "text/markdown": "`select_pauli_lcu`",
          "text/plain": "<IPython.core.display.Markdown object>"
         },
         "metadata": {},
         "output_type": "display_data"
        },
        {
         "data": {
          "image/svg+xml": "<svg xmlns=\"http://www.w3.org/2000/svg\" xmlns:xlink=\"http://www.w3.org/1999/xlink\" width=\"285pt\" height=\"98pt\" viewBox=\"0.00 0.00 285.00 98.00\">\n<g id=\"graph0\" class=\"graph\" transform=\"scale(1 1) rotate(0) translate(4 94)\">\n<title>my_graph</title>\n<polygon fill=\"white\" stroke=\"transparent\" points=\"-4,4 -4,-94 281,-94 281,4 -4,4\"/>\n<!-- selection_G3 -->\n<g id=\"node1\" class=\"node\">\n<title>selection_G3</title>\n<text text-anchor=\"middle\" x=\"32.5\" y=\"-68.3\" font-family=\"Times,serif\" font-size=\"14.00\">selection</text>\n</g>\n<!-- SelectPauliLCU -->\n<g id=\"node3\" class=\"node\">\n<title>SelectPauliLCU</title>\n<polygon fill=\"none\" stroke=\"black\" points=\"102.5,-66 102.5,-83 175.5,-83 175.5,-66 102.5,-66\"/>\n<text text-anchor=\"start\" x=\"105.5\" y=\"-72\" font-family=\"Times,serif\" font-size=\"10.00\">SelectPauliLCU</text>\n<polygon fill=\"none\" stroke=\"black\" points=\"102.5,-45 102.5,-66 175.5,-66 175.5,-45 102.5,-45\"/>\n<text text-anchor=\"start\" x=\"114.5\" y=\"-51.8\" font-family=\"Times,serif\" font-size=\"14.00\">selection</text>\n<polygon fill=\"none\" stroke=\"black\" points=\"102.5,-24 102.5,-45 175.5,-45 175.5,-24 102.5,-24\"/>\n<text text-anchor=\"start\" x=\"123.5\" y=\"-30.8\" font-family=\"Times,serif\" font-size=\"14.00\">target</text>\n</g>\n<!-- selection_G3&#45;&gt;SelectPauliLCU -->\n<g id=\"edge1\" class=\"edge\">\n<title>selection_G3:e-&gt;SelectPauliLCU:w</title>\n<path fill=\"none\" stroke=\"black\" d=\"M65,-72C82.22,-72 83.97,-57.23 99.98,-56.07\"/>\n<ellipse fill=\"black\" stroke=\"black\" cx=\"101\" cy=\"-56.04\" rx=\"1\" ry=\"1\"/>\n<text text-anchor=\"middle\" x=\"83.5\" y=\"-67\" font-family=\"Times,serif\" font-size=\"10.00\">2</text>\n</g>\n<!-- target_G4 -->\n<g id=\"node2\" class=\"node\">\n<title>target_G4</title>\n<text text-anchor=\"middle\" x=\"32.5\" y=\"-14.3\" font-family=\"Times,serif\" font-size=\"14.00\">target</text>\n</g>\n<!-- target_G4&#45;&gt;SelectPauliLCU -->\n<g id=\"edge2\" class=\"edge\">\n<title>target_G4:e-&gt;SelectPauliLCU:w</title>\n<path fill=\"none\" stroke=\"black\" d=\"M60.5,-18C79.5,-18 82.05,-32.77 99.76,-33.93\"/>\n<ellipse fill=\"black\" stroke=\"black\" cx=\"101\" cy=\"-33.97\" rx=\"1\" ry=\"1\"/>\n<text text-anchor=\"middle\" x=\"83.5\" y=\"-31\" font-family=\"Times,serif\" font-size=\"10.00\">4</text>\n</g>\n<!-- selection_G1 -->\n<g id=\"node4\" class=\"node\">\n<title>selection_G1</title>\n<text text-anchor=\"middle\" x=\"244.5\" y=\"-68.3\" font-family=\"Times,serif\" font-size=\"14.00\">selection</text>\n</g>\n<!-- SelectPauliLCU&#45;&gt;selection_G1 -->\n<g id=\"edge3\" class=\"edge\">\n<title>SelectPauliLCU:e-&gt;selection_G1:w</title>\n<path fill=\"none\" stroke=\"black\" d=\"M175,-56C192.22,-56 193.97,-70.77 209.98,-71.93\"/>\n<ellipse fill=\"black\" stroke=\"black\" cx=\"211\" cy=\"-71.96\" rx=\"1\" ry=\"1\"/>\n<text text-anchor=\"middle\" x=\"193.5\" y=\"-67\" font-family=\"Times,serif\" font-size=\"10.00\">2</text>\n</g>\n<!-- target_G5 -->\n<g id=\"node5\" class=\"node\">\n<title>target_G5</title>\n<text text-anchor=\"middle\" x=\"244.5\" y=\"-14.3\" font-family=\"Times,serif\" font-size=\"14.00\">target</text>\n</g>\n<!-- SelectPauliLCU&#45;&gt;target_G5 -->\n<g id=\"edge4\" class=\"edge\">\n<title>SelectPauliLCU:e-&gt;target_G5:w</title>\n<path fill=\"none\" stroke=\"black\" d=\"M175,-34C194,-34 196.55,-19.23 214.26,-18.07\"/>\n<ellipse fill=\"black\" stroke=\"black\" cx=\"215.5\" cy=\"-18.03\" rx=\"1\" ry=\"1\"/>\n<text text-anchor=\"middle\" x=\"193.5\" y=\"-31\" font-family=\"Times,serif\" font-size=\"10.00\">4</text>\n</g>\n</g>\n</svg>",
          "text/plain": "<IPython.core.display.SVG object>"
         },
         "metadata": {},
         "output_type": "display_data"
        }
       ],
       "tabbable": null,
       "tooltip": null
      }
     }
    },
    "version_major": 2,
    "version_minor": 0
   }
  }
 },
 "nbformat": 4,
 "nbformat_minor": 5
}
