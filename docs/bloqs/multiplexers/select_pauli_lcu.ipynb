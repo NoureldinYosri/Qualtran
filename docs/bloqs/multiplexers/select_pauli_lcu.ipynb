{
 "cells": [
  {
   "cell_type": "markdown",
   "id": "ea8ed4b7",
   "metadata": {
    "cq.autogen": "title_cell"
   },
   "source": [
    "# Generic Select\n",
    "\n",
    "Bloqs for applying SELECT unitary for LCU of Pauli Strings."
   ]
  },
  {
   "cell_type": "code",
   "execution_count": 1,
   "id": "ec00185c",
   "metadata": {
    "cq.autogen": "top_imports"
   },
   "outputs": [],
   "source": [
    "from qualtran import Bloq, CompositeBloq, BloqBuilder, Signature, Register\n",
    "from qualtran import QBit, QInt, QUInt, QAny\n",
    "from qualtran.drawing import show_bloq, show_call_graph, show_counts_sigma\n",
    "from typing import *\n",
    "import numpy as np\n",
    "import sympy\n",
    "import cirq"
   ]
  },
  {
   "cell_type": "markdown",
   "id": "1672a1ee",
   "metadata": {
    "cq.autogen": "SelectPauliLCU.bloq_doc.md"
   },
   "source": [
    "## `SelectPauliLCU`\n",
    "A SELECT bloq for selecting and applying operators from an array of `PauliString`s.\n",
    "\n",
    "$$\n",
    "\\mathrm{SELECT} = \\sum_{l}|l \\rangle \\langle l| \\otimes U_l\n",
    "$$\n",
    "\n",
    "Where $U_l$ is a member of the Pauli group.\n",
    "\n",
    "This bloq uses the unary iteration scheme to apply `select_unitaries[selection]` to `target`\n",
    "controlled on the single-bit `control` register.\n",
    "\n",
    "#### Parameters\n",
    " - `selection_bitsize`: The size of the indexing `select` register. This should be at least `log2(len(select_unitaries))`\n",
    " - `target_bitsize`: The size of the `target` register.\n",
    " - `select_unitaries`: List of `DensePauliString`s to apply to the `target` register. Each dense pauli string must contain `target_bitsize` terms.\n",
    " - `control_val`: Optional control value. If specified, a singly controlled gate is constructed.\n"
   ]
  },
  {
   "cell_type": "code",
   "execution_count": 2,
   "id": "118a3051",
   "metadata": {
    "cq.autogen": "SelectPauliLCU.bloq_doc.py"
   },
   "outputs": [],
   "source": [
    "from qualtran.bloqs.multiplexers.select_pauli_lcu import SelectPauliLCU"
   ]
  },
  {
   "cell_type": "markdown",
   "id": "0efc274b",
   "metadata": {
    "cq.autogen": "SelectPauliLCU.example_instances.md"
   },
   "source": [
    "### Example Instances"
   ]
  },
  {
   "cell_type": "code",
   "execution_count": 3,
   "id": "1d707ae3",
   "metadata": {
    "cq.autogen": "SelectPauliLCU.select_pauli_lcu"
   },
   "outputs": [],
   "source": [
    "target_bitsize = 4\n",
    "us = ['XIXI', 'YIYI', 'ZZZZ', 'ZXYZ']\n",
    "us = [cirq.DensePauliString(u) for u in us]\n",
    "selection_bitsize = int(np.ceil(np.log2(len(us))))\n",
    "select_pauli_lcu = SelectPauliLCU(selection_bitsize, target_bitsize, select_unitaries=us)"
   ]
  },
  {
   "cell_type": "markdown",
   "id": "094d37fa",
   "metadata": {
    "cq.autogen": "SelectPauliLCU.graphical_signature.md"
   },
   "source": [
    "#### Graphical Signature"
   ]
  },
  {
   "cell_type": "code",
   "execution_count": 4,
   "id": "d4c2c22a",
   "metadata": {
    "cq.autogen": "SelectPauliLCU.graphical_signature.py"
   },
   "outputs": [
    {
     "data": {
      "application/vnd.jupyter.widget-view+json": {
       "model_id": "20ae5a41462d4dd891ec6e6a23b517f1",
       "version_major": 2,
       "version_minor": 0
      },
      "text/plain": [
       "HBox(children=(Output(outputs=({'output_type': 'display_data', 'data': {'text/plain': '<IPython.core.display.M…"
      ]
     },
     "metadata": {},
     "output_type": "display_data"
    }
   ],
   "source": [
    "from qualtran.drawing import show_bloqs\n",
    "show_bloqs([select_pauli_lcu],\n",
    "           ['`select_pauli_lcu`'])"
   ]
  },
  {
   "cell_type": "markdown",
   "id": "a832dbef",
   "metadata": {
    "cq.autogen": "SelectPauliLCU.call_graph.md"
   },
   "source": [
    "### Call Graph"
   ]
  },
  {
   "cell_type": "code",
   "execution_count": 5,
   "id": "bef28dee",
   "metadata": {
    "cq.autogen": "SelectPauliLCU.call_graph.py"
   },
   "outputs": [
    {
     "data": {
      "image/svg+xml": [
       "<svg xmlns=\"http://www.w3.org/2000/svg\" xmlns:xlink=\"http://www.w3.org/1999/xlink\" width=\"1744pt\" height=\"131pt\" viewBox=\"0.00 0.00 1743.50 131.00\">\n",
       "<g id=\"graph0\" class=\"graph\" transform=\"scale(1 1) rotate(0) translate(4 127)\">\n",
       "<title>counts</title>\n",
       "<polygon fill=\"white\" stroke=\"transparent\" points=\"-4,4 -4,-127 1739.5,-127 1739.5,4 -4,4\"/>\n",
       "<!-- b0 -->\n",
       "<g id=\"node1\" class=\"node\">\n",
       "<title>b0</title>\n",
       "<polygon fill=\"none\" stroke=\"black\" points=\"1155,-123 622,-123 622,-87 1155,-87 1155,-123\"/>\n",
       "<text text-anchor=\"start\" x=\"844.5\" y=\"-106.8\" font-family=\"Times,serif\" font-size=\"14.00\">SelectPauliLCU</text>\n",
       "<text text-anchor=\"start\" x=\"630\" y=\"-96\" font-family=\"monospace\" font-size=\"10.00\">selection_bitsize=2, target_bitsize=4, select_unitaries=(cirq.De ..., control_val=None</text>\n",
       "</g>\n",
       "<!-- b1 -->\n",
       "<g id=\"node2\" class=\"node\">\n",
       "<title>b1</title>\n",
       "<polygon fill=\"none\" stroke=\"black\" points=\"281,-36 0,-36 0,0 281,0 281,-36\"/>\n",
       "<text text-anchor=\"start\" x=\"105\" y=\"-19.8\" font-family=\"Times,serif\" font-size=\"14.00\">C[cirq.+XX]</text>\n",
       "<text text-anchor=\"start\" x=\"8\" y=\"-9\" font-family=\"monospace\" font-size=\"10.00\">subbloq=CirqGate ..., ctrl_spec=CtrlSpec ...</text>\n",
       "</g>\n",
       "<!-- b0&#45;&gt;b1 -->\n",
       "<g id=\"edge1\" class=\"edge\">\n",
       "<title>b0-&gt;b1</title>\n",
       "<path fill=\"none\" stroke=\"black\" d=\"M738.33,-86.98C619.78,-73.53 449.85,-54.25 291.68,-36.25\"/>\n",
       "<polygon fill=\"black\" stroke=\"black\" points=\"291.61,-32.72 281.27,-35.06 290.81,-39.67 291.61,-32.72\"/>\n",
       "<text text-anchor=\"middle\" x=\"572\" y=\"-57.8\" font-family=\"Times,serif\" font-size=\"14.00\">1</text>\n",
       "</g>\n",
       "<!-- b2 -->\n",
       "<g id=\"node3\" class=\"node\">\n",
       "<title>b2</title>\n",
       "<polygon fill=\"none\" stroke=\"black\" points=\"580,-36 299,-36 299,0 580,0 580,-36\"/>\n",
       "<text text-anchor=\"start\" x=\"404\" y=\"-19.8\" font-family=\"Times,serif\" font-size=\"14.00\">C[cirq.+YY]</text>\n",
       "<text text-anchor=\"start\" x=\"307\" y=\"-9\" font-family=\"monospace\" font-size=\"10.00\">subbloq=CirqGate ..., ctrl_spec=CtrlSpec ...</text>\n",
       "</g>\n",
       "<!-- b0&#45;&gt;b2 -->\n",
       "<g id=\"edge2\" class=\"edge\">\n",
       "<title>b0-&gt;b2</title>\n",
       "<path fill=\"none\" stroke=\"black\" d=\"M798.45,-86.95C723.6,-72.78 617.19,-52.64 539.66,-37.96\"/>\n",
       "<polygon fill=\"black\" stroke=\"black\" points=\"539.88,-34.44 529.4,-36.02 538.58,-41.32 539.88,-34.44\"/>\n",
       "<text text-anchor=\"middle\" x=\"695\" y=\"-57.8\" font-family=\"Times,serif\" font-size=\"14.00\">1</text>\n",
       "</g>\n",
       "<!-- b3 -->\n",
       "<g id=\"node4\" class=\"node\">\n",
       "<title>b3</title>\n",
       "<polygon fill=\"none\" stroke=\"black\" points=\"652.5,-36 598.5,-36 598.5,0 652.5,0 652.5,-36\"/>\n",
       "<text text-anchor=\"start\" x=\"607.5\" y=\"-14.3\" font-family=\"Times,serif\" font-size=\"14.00\">XGate</text>\n",
       "</g>\n",
       "<!-- b0&#45;&gt;b3 -->\n",
       "<g id=\"edge3\" class=\"edge\">\n",
       "<title>b0-&gt;b3</title>\n",
       "<path fill=\"none\" stroke=\"black\" d=\"M822.06,-86.93C778.65,-75.13 720.75,-58.16 662.23,-36.02\"/>\n",
       "<polygon fill=\"black\" stroke=\"black\" points=\"663.42,-32.73 652.83,-32.43 660.92,-39.27 663.42,-32.73\"/>\n",
       "<text text-anchor=\"middle\" x=\"758\" y=\"-57.8\" font-family=\"Times,serif\" font-size=\"14.00\">2</text>\n",
       "</g>\n",
       "<!-- b4 -->\n",
       "<g id=\"node5\" class=\"node\">\n",
       "<title>b4</title>\n",
       "<polygon fill=\"none\" stroke=\"black\" points=\"856,-36 671,-36 671,0 856,0 856,-36\"/>\n",
       "<text text-anchor=\"start\" x=\"748\" y=\"-19.8\" font-family=\"Times,serif\" font-size=\"14.00\">And†</text>\n",
       "<text text-anchor=\"start\" x=\"679\" y=\"-9\" font-family=\"monospace\" font-size=\"10.00\">cv1=1, cv2=1, uncompute=True</text>\n",
       "</g>\n",
       "<!-- b0&#45;&gt;b4 -->\n",
       "<g id=\"edge4\" class=\"edge\">\n",
       "<title>b0-&gt;b4</title>\n",
       "<path fill=\"none\" stroke=\"black\" d=\"M863.2,-86.8C844.23,-73.9 818.06,-56.1 797.29,-41.98\"/>\n",
       "<polygon fill=\"black\" stroke=\"black\" points=\"799,-38.9 788.76,-36.18 795.06,-44.69 799,-38.9\"/>\n",
       "<text text-anchor=\"middle\" x=\"837\" y=\"-57.8\" font-family=\"Times,serif\" font-size=\"14.00\">2</text>\n",
       "</g>\n",
       "<!-- b5 -->\n",
       "<g id=\"node6\" class=\"node\">\n",
       "<title>b5</title>\n",
       "<polygon fill=\"none\" stroke=\"black\" points=\"1155,-36 874,-36 874,0 1155,0 1155,-36\"/>\n",
       "<text text-anchor=\"start\" x=\"970.5\" y=\"-19.8\" font-family=\"Times,serif\" font-size=\"14.00\">C[cirq.+ZXYZ]</text>\n",
       "<text text-anchor=\"start\" x=\"882\" y=\"-9\" font-family=\"monospace\" font-size=\"10.00\">subbloq=CirqGate ..., ctrl_spec=CtrlSpec ...</text>\n",
       "</g>\n",
       "<!-- b0&#45;&gt;b5 -->\n",
       "<g id=\"edge5\" class=\"edge\">\n",
       "<title>b0-&gt;b5</title>\n",
       "<path fill=\"none\" stroke=\"black\" d=\"M914,-86.8C933.21,-73.84 959.74,-55.94 980.72,-41.79\"/>\n",
       "<polygon fill=\"black\" stroke=\"black\" points=\"982.71,-44.67 989.04,-36.18 978.79,-38.87 982.71,-44.67\"/>\n",
       "<text text-anchor=\"middle\" x=\"963\" y=\"-57.8\" font-family=\"Times,serif\" font-size=\"14.00\">1</text>\n",
       "</g>\n",
       "<!-- b6 -->\n",
       "<g id=\"node7\" class=\"node\">\n",
       "<title>b6</title>\n",
       "<polygon fill=\"none\" stroke=\"black\" points=\"1454,-36 1173,-36 1173,0 1454,0 1454,-36\"/>\n",
       "<text text-anchor=\"start\" x=\"1271\" y=\"-19.8\" font-family=\"Times,serif\" font-size=\"14.00\">C[cirq.+ZZZZ]</text>\n",
       "<text text-anchor=\"start\" x=\"1181\" y=\"-9\" font-family=\"monospace\" font-size=\"10.00\">subbloq=CirqGate ..., ctrl_spec=CtrlSpec ...</text>\n",
       "</g>\n",
       "<!-- b0&#45;&gt;b6 -->\n",
       "<g id=\"edge6\" class=\"edge\">\n",
       "<title>b0-&gt;b6</title>\n",
       "<path fill=\"none\" stroke=\"black\" d=\"M973.74,-86.95C1044.44,-72.81 1144.9,-52.72 1218.24,-38.05\"/>\n",
       "<polygon fill=\"black\" stroke=\"black\" points=\"1219.28,-41.41 1228.4,-36.02 1217.91,-34.55 1219.28,-41.41\"/>\n",
       "<text text-anchor=\"middle\" x=\"1130\" y=\"-57.8\" font-family=\"Times,serif\" font-size=\"14.00\">1</text>\n",
       "</g>\n",
       "<!-- b7 -->\n",
       "<g id=\"node8\" class=\"node\">\n",
       "<title>b7</title>\n",
       "<polygon fill=\"none\" stroke=\"black\" points=\"1663,-36 1472,-36 1472,0 1663,0 1663,-36\"/>\n",
       "<text text-anchor=\"start\" x=\"1555.5\" y=\"-19.8\" font-family=\"Times,serif\" font-size=\"14.00\">And</text>\n",
       "<text text-anchor=\"start\" x=\"1480\" y=\"-9\" font-family=\"monospace\" font-size=\"10.00\">cv1=1, cv2=0, uncompute=False</text>\n",
       "</g>\n",
       "<!-- b0&#45;&gt;b7 -->\n",
       "<g id=\"edge7\" class=\"edge\">\n",
       "<title>b0-&gt;b7</title>\n",
       "<path fill=\"none\" stroke=\"black\" d=\"M1047.71,-86.98C1160.46,-74.49 1315.48,-56.43 1461.88,-36.05\"/>\n",
       "<polygon fill=\"black\" stroke=\"black\" points=\"1462.54,-39.5 1471.96,-34.65 1461.57,-32.56 1462.54,-39.5\"/>\n",
       "<text text-anchor=\"middle\" x=\"1325\" y=\"-57.8\" font-family=\"Times,serif\" font-size=\"14.00\">2</text>\n",
       "</g>\n",
       "<!-- b8 -->\n",
       "<g id=\"node9\" class=\"node\">\n",
       "<title>b8</title>\n",
       "<polygon fill=\"none\" stroke=\"black\" points=\"1735.5,-36 1681.5,-36 1681.5,0 1735.5,0 1735.5,-36\"/>\n",
       "<text text-anchor=\"start\" x=\"1690\" y=\"-14.3\" font-family=\"Times,serif\" font-size=\"14.00\">CNOT</text>\n",
       "</g>\n",
       "<!-- b0&#45;&gt;b8 -->\n",
       "<g id=\"edge8\" class=\"edge\">\n",
       "<title>b0-&gt;b8</title>\n",
       "<path fill=\"none\" stroke=\"black\" d=\"M1155.46,-90.88C1343.22,-79.75 1577.15,-61.49 1671.5,-36 1671.6,-35.97 1671.7,-35.94 1671.81,-35.92\"/>\n",
       "<polygon fill=\"black\" stroke=\"black\" points=\"1673.05,-39.19 1681.4,-32.68 1670.81,-32.56 1673.05,-39.19\"/>\n",
       "<text text-anchor=\"middle\" x=\"1565\" y=\"-57.8\" font-family=\"Times,serif\" font-size=\"14.00\">2</text>\n",
       "</g>\n",
       "</g>\n",
       "</svg>"
      ],
      "text/plain": [
       "<IPython.core.display.SVG object>"
      ]
     },
     "metadata": {},
     "output_type": "display_data"
    },
    {
     "data": {
      "text/markdown": [
       "#### Counts totals:\n",
       " - `And(cv1=1, cv2=0, uncompute=False)`: 2\n",
       " - `And(cv1=1, cv2=1, uncompute=True)`: 2\n",
       " - `CNOT()`: 2\n",
       " - `C[+XX]`: 1\n",
       " - `C[+YY]`: 1\n",
       " - `C[+ZXYZ]`: 1\n",
       " - `C[+ZZZZ]`: 1\n",
       " - `XGate()`: 2"
      ],
      "text/plain": [
       "<IPython.core.display.Markdown object>"
      ]
     },
     "metadata": {},
     "output_type": "display_data"
    }
   ],
   "source": [
    "from qualtran.resource_counting.generalizers import ignore_split_join\n",
    "select_pauli_lcu_g, select_pauli_lcu_sigma = select_pauli_lcu.call_graph(max_depth=1, generalizer=ignore_split_join)\n",
    "show_call_graph(select_pauli_lcu_g)\n",
    "show_counts_sigma(select_pauli_lcu_sigma)"
   ]
  }
 ],
 "metadata": {
  "kernelspec": {
   "display_name": "Python 3",
   "language": "python",
   "name": "python3"
  },
  "language_info": {
   "codemirror_mode": {
    "name": "ipython",
    "version": 3
   },
   "file_extension": ".py",
   "mimetype": "text/x-python",
   "name": "python",
   "nbconvert_exporter": "python",
   "pygments_lexer": "ipython3",
   "version": "3.11.8"
  },
  "widgets": {
   "application/vnd.jupyter.widget-state+json": {
    "state": {
     "01dbac52086d45689f97be671d8470e5": {
      "model_module": "@jupyter-widgets/output",
      "model_module_version": "1.0.0",
      "model_name": "OutputModel",
      "state": {
       "_dom_classes": [],
       "_model_module": "@jupyter-widgets/output",
       "_model_module_version": "1.0.0",
       "_model_name": "OutputModel",
       "_view_count": null,
       "_view_module": "@jupyter-widgets/output",
       "_view_module_version": "1.0.0",
       "_view_name": "OutputView",
       "layout": "IPY_MODEL_904674c9d69549b2ba9badc3d8ebc348",
       "msg_id": "",
       "outputs": [
        {
         "data": {
          "text/markdown": "`select_pauli_lcu`",
          "text/plain": "<IPython.core.display.Markdown object>"
         },
         "metadata": {},
         "output_type": "display_data"
        },
        {
         "data": {
          "image/svg+xml": "<svg xmlns=\"http://www.w3.org/2000/svg\" xmlns:xlink=\"http://www.w3.org/1999/xlink\" width=\"267pt\" height=\"98pt\" viewBox=\"0.00 0.00 267.00 98.00\">\n<g id=\"graph0\" class=\"graph\" transform=\"scale(1 1) rotate(0) translate(4 94)\">\n<title>my_graph</title>\n<polygon fill=\"white\" stroke=\"transparent\" points=\"-4,4 -4,-94 263,-94 263,4 -4,4\"/>\n<!-- selection_G3 -->\n<g id=\"node1\" class=\"node\">\n<title>selection_G3</title>\n<text text-anchor=\"middle\" x=\"32.5\" y=\"-68.3\" font-family=\"Times,serif\" font-size=\"14.00\">selection</text>\n</g>\n<!-- SelectPauliLCU -->\n<g id=\"node3\" class=\"node\">\n<title>SelectPauliLCU</title>\n<polygon fill=\"none\" stroke=\"black\" points=\"102.5,-66 102.5,-83 157.5,-83 157.5,-66 102.5,-66\"/>\n<text text-anchor=\"start\" x=\"110\" y=\"-72\" font-family=\"Times,serif\" font-size=\"10.00\">SelectPa..</text>\n<polygon fill=\"none\" stroke=\"black\" points=\"102.5,-45 102.5,-66 157.5,-66 157.5,-45 102.5,-45\"/>\n<text text-anchor=\"start\" x=\"105.5\" y=\"-51.8\" font-family=\"Times,serif\" font-size=\"14.00\">selection</text>\n<polygon fill=\"none\" stroke=\"black\" points=\"102.5,-24 102.5,-45 157.5,-45 157.5,-24 102.5,-24\"/>\n<text text-anchor=\"start\" x=\"114.5\" y=\"-30.8\" font-family=\"Times,serif\" font-size=\"14.00\">target</text>\n</g>\n<!-- selection_G3&#45;&gt;SelectPauliLCU -->\n<g id=\"edge1\" class=\"edge\">\n<title>selection_G3:e-&gt;SelectPauliLCU:w</title>\n<path fill=\"none\" stroke=\"black\" d=\"M65,-72C82.22,-72 83.97,-57.23 99.98,-56.07\"/>\n<ellipse fill=\"black\" stroke=\"black\" cx=\"101\" cy=\"-56.04\" rx=\"1\" ry=\"1\"/>\n<text text-anchor=\"middle\" x=\"83.5\" y=\"-67\" font-family=\"Times,serif\" font-size=\"10.00\">2</text>\n</g>\n<!-- target_G5 -->\n<g id=\"node2\" class=\"node\">\n<title>target_G5</title>\n<text text-anchor=\"middle\" x=\"32.5\" y=\"-14.3\" font-family=\"Times,serif\" font-size=\"14.00\">target</text>\n</g>\n<!-- target_G5&#45;&gt;SelectPauliLCU -->\n<g id=\"edge2\" class=\"edge\">\n<title>target_G5:e-&gt;SelectPauliLCU:w</title>\n<path fill=\"none\" stroke=\"black\" d=\"M60.5,-18C79.5,-18 82.05,-32.77 99.76,-33.93\"/>\n<ellipse fill=\"black\" stroke=\"black\" cx=\"101\" cy=\"-33.97\" rx=\"1\" ry=\"1\"/>\n<text text-anchor=\"middle\" x=\"83.5\" y=\"-31\" font-family=\"Times,serif\" font-size=\"10.00\">4</text>\n</g>\n<!-- selection_G2 -->\n<g id=\"node4\" class=\"node\">\n<title>selection_G2</title>\n<text text-anchor=\"middle\" x=\"226.5\" y=\"-68.3\" font-family=\"Times,serif\" font-size=\"14.00\">selection</text>\n</g>\n<!-- SelectPauliLCU&#45;&gt;selection_G2 -->\n<g id=\"edge3\" class=\"edge\">\n<title>SelectPauliLCU:e-&gt;selection_G2:w</title>\n<path fill=\"none\" stroke=\"black\" d=\"M157,-56C174.22,-56 175.97,-70.77 191.98,-71.93\"/>\n<ellipse fill=\"black\" stroke=\"black\" cx=\"193\" cy=\"-71.96\" rx=\"1\" ry=\"1\"/>\n<text text-anchor=\"middle\" x=\"175.5\" y=\"-67\" font-family=\"Times,serif\" font-size=\"10.00\">2</text>\n</g>\n<!-- target_G0 -->\n<g id=\"node5\" class=\"node\">\n<title>target_G0</title>\n<text text-anchor=\"middle\" x=\"226.5\" y=\"-14.3\" font-family=\"Times,serif\" font-size=\"14.00\">target</text>\n</g>\n<!-- SelectPauliLCU&#45;&gt;target_G0 -->\n<g id=\"edge4\" class=\"edge\">\n<title>SelectPauliLCU:e-&gt;target_G0:w</title>\n<path fill=\"none\" stroke=\"black\" d=\"M157,-34C176,-34 178.55,-19.23 196.26,-18.07\"/>\n<ellipse fill=\"black\" stroke=\"black\" cx=\"197.5\" cy=\"-18.03\" rx=\"1\" ry=\"1\"/>\n<text text-anchor=\"middle\" x=\"175.5\" y=\"-31\" font-family=\"Times,serif\" font-size=\"10.00\">4</text>\n</g>\n</g>\n</svg>",
          "text/plain": "<IPython.core.display.SVG object>"
         },
         "metadata": {},
         "output_type": "display_data"
        }
       ],
       "tabbable": null,
       "tooltip": null
      }
     },
     "20ae5a41462d4dd891ec6e6a23b517f1": {
      "model_module": "@jupyter-widgets/controls",
      "model_module_version": "2.0.0",
      "model_name": "HBoxModel",
      "state": {
       "_dom_classes": [],
       "_model_module": "@jupyter-widgets/controls",
       "_model_module_version": "2.0.0",
       "_model_name": "HBoxModel",
       "_view_count": null,
       "_view_module": "@jupyter-widgets/controls",
       "_view_module_version": "2.0.0",
       "_view_name": "HBoxView",
       "box_style": "",
       "children": [
        "IPY_MODEL_01dbac52086d45689f97be671d8470e5"
       ],
       "layout": "IPY_MODEL_3d2787af8c094785bfeb3921e5345dad",
       "tabbable": null,
       "tooltip": null
      }
     },
     "3d2787af8c094785bfeb3921e5345dad": {
      "model_module": "@jupyter-widgets/base",
      "model_module_version": "2.0.0",
      "model_name": "LayoutModel",
      "state": {
       "_model_module": "@jupyter-widgets/base",
       "_model_module_version": "2.0.0",
       "_model_name": "LayoutModel",
       "_view_count": null,
       "_view_module": "@jupyter-widgets/base",
       "_view_module_version": "2.0.0",
       "_view_name": "LayoutView",
       "align_content": null,
       "align_items": null,
       "align_self": null,
       "border_bottom": null,
       "border_left": null,
       "border_right": null,
       "border_top": null,
       "bottom": null,
       "display": null,
       "flex": null,
       "flex_flow": null,
       "grid_area": null,
       "grid_auto_columns": null,
       "grid_auto_flow": null,
       "grid_auto_rows": null,
       "grid_column": null,
       "grid_gap": null,
       "grid_row": null,
       "grid_template_areas": null,
       "grid_template_columns": null,
       "grid_template_rows": null,
       "height": null,
       "justify_content": null,
       "justify_items": null,
       "left": null,
       "margin": null,
       "max_height": null,
       "max_width": null,
       "min_height": null,
       "min_width": null,
       "object_fit": null,
       "object_position": null,
       "order": null,
       "overflow": null,
       "padding": null,
       "right": null,
       "top": null,
       "visibility": null,
       "width": null
      }
     },
     "904674c9d69549b2ba9badc3d8ebc348": {
      "model_module": "@jupyter-widgets/base",
      "model_module_version": "2.0.0",
      "model_name": "LayoutModel",
      "state": {
       "_model_module": "@jupyter-widgets/base",
       "_model_module_version": "2.0.0",
       "_model_name": "LayoutModel",
       "_view_count": null,
       "_view_module": "@jupyter-widgets/base",
       "_view_module_version": "2.0.0",
       "_view_name": "LayoutView",
       "align_content": null,
       "align_items": null,
       "align_self": null,
       "border_bottom": null,
       "border_left": null,
       "border_right": null,
       "border_top": null,
       "bottom": null,
       "display": null,
       "flex": null,
       "flex_flow": null,
       "grid_area": null,
       "grid_auto_columns": null,
       "grid_auto_flow": null,
       "grid_auto_rows": null,
       "grid_column": null,
       "grid_gap": null,
       "grid_row": null,
       "grid_template_areas": null,
       "grid_template_columns": null,
       "grid_template_rows": null,
       "height": null,
       "justify_content": null,
       "justify_items": null,
       "left": null,
       "margin": null,
       "max_height": null,
       "max_width": null,
       "min_height": null,
       "min_width": null,
       "object_fit": null,
       "object_position": null,
       "order": null,
       "overflow": null,
       "padding": null,
       "right": null,
       "top": null,
       "visibility": null,
       "width": null
      }
     }
    },
    "version_major": 2,
    "version_minor": 0
   }
  }
 },
 "nbformat": 4,
 "nbformat_minor": 5
}
