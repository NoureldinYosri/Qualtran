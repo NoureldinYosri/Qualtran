{
 "cells": [
  {
   "cell_type": "markdown",
   "id": "ea8ed4b7",
   "metadata": {
    "cq.autogen": "title_cell"
   },
   "source": [
    "# Generic Select\n",
    "\n",
    "Bloqs for applying SELECT unitary for LCU of Pauli Strings."
   ]
  },
  {
   "cell_type": "code",
   "execution_count": 1,
   "id": "ec00185c",
   "metadata": {
    "cq.autogen": "top_imports"
   },
   "outputs": [],
   "source": [
    "from qualtran import Bloq, CompositeBloq, BloqBuilder, Signature, Register\n",
    "from qualtran import QBit, QInt, QUInt, QAny\n",
    "from qualtran.drawing import show_bloq, show_call_graph, show_counts_sigma\n",
    "from typing import *\n",
    "import numpy as np\n",
    "import sympy\n",
    "import cirq"
   ]
  },
  {
   "cell_type": "markdown",
   "id": "1672a1ee",
   "metadata": {
    "cq.autogen": "SelectPauliLCU.bloq_doc.md"
   },
   "source": [
    "## `SelectPauliLCU`\n",
    "A SELECT bloq for selecting and applying operators from an array of `PauliString`s.\n",
    "\n",
    "$$\n",
    "\\mathrm{SELECT} = \\sum_{l}|l \\rangle \\langle l| \\otimes U_l\n",
    "$$\n",
    "\n",
    "Where $U_l$ is a member of the Pauli group.\n",
    "\n",
    "This bloq uses the unary iteration scheme to apply `select_unitaries[selection]` to `target`\n",
    "controlled on the single-bit `control` register.\n",
    "\n",
    "#### Parameters\n",
    " - `selection_bitsize`: The size of the indexing `select` register. This should be at least `log2(len(select_unitaries))`\n",
    " - `target_bitsize`: The size of the `target` register.\n",
    " - `select_unitaries`: List of `DensePauliString`s to apply to the `target` register. Each dense pauli string must contain `target_bitsize` terms.\n",
    " - `control_val`: Optional control value. If specified, a singly controlled gate is constructed.\n"
   ]
  },
  {
   "cell_type": "code",
   "execution_count": 2,
   "id": "118a3051",
   "metadata": {
    "cq.autogen": "SelectPauliLCU.bloq_doc.py"
   },
   "outputs": [],
   "source": [
    "from qualtran.bloqs.multiplexers.select_pauli_lcu import SelectPauliLCU"
   ]
  },
  {
   "cell_type": "markdown",
   "id": "0efc274b",
   "metadata": {
    "cq.autogen": "SelectPauliLCU.example_instances.md"
   },
   "source": [
    "### Example Instances"
   ]
  },
  {
   "cell_type": "code",
   "execution_count": 3,
   "id": "1d707ae3",
   "metadata": {
    "cq.autogen": "SelectPauliLCU.select_pauli_lcu"
   },
   "outputs": [],
   "source": [
    "target_bitsize = 4\n",
    "us = ['XIXI', 'YIYI', 'ZZZZ', 'ZXYZ']\n",
    "us = [cirq.DensePauliString(u) for u in us]\n",
    "selection_bitsize = int(np.ceil(np.log2(len(us))))\n",
    "select_pauli_lcu = SelectPauliLCU(selection_bitsize, target_bitsize, select_unitaries=us)"
   ]
  },
  {
   "cell_type": "markdown",
   "id": "094d37fa",
   "metadata": {
    "cq.autogen": "SelectPauliLCU.graphical_signature.md"
   },
   "source": [
    "#### Graphical Signature"
   ]
  },
  {
   "cell_type": "code",
   "execution_count": 4,
   "id": "d4c2c22a",
   "metadata": {
    "cq.autogen": "SelectPauliLCU.graphical_signature.py"
   },
   "outputs": [
    {
     "data": {
      "application/vnd.jupyter.widget-view+json": {
       "model_id": "441e69f19f7f432eb7f185c5624f133c",
       "version_major": 2,
       "version_minor": 0
      },
      "text/plain": [
       "HBox(children=(Output(outputs=({'output_type': 'display_data', 'data': {'text/plain': '<IPython.core.display.M…"
      ]
     },
     "metadata": {},
     "output_type": "display_data"
    }
   ],
   "source": [
    "from qualtran.drawing import show_bloqs\n",
    "show_bloqs([select_pauli_lcu],\n",
    "           ['`select_pauli_lcu`'])"
   ]
  },
  {
   "cell_type": "markdown",
   "id": "a832dbef",
   "metadata": {
    "cq.autogen": "SelectPauliLCU.call_graph.md"
   },
   "source": [
    "### Call Graph"
   ]
  },
  {
   "cell_type": "code",
   "execution_count": 5,
   "id": "bef28dee",
   "metadata": {
    "cq.autogen": "SelectPauliLCU.call_graph.py"
   },
   "outputs": [
    {
     "data": {
      "image/svg+xml": [
       "<svg xmlns=\"http://www.w3.org/2000/svg\" xmlns:xlink=\"http://www.w3.org/1999/xlink\" width=\"1096pt\" height=\"131pt\" viewBox=\"0.00 0.00 1096.00 131.00\">\n",
       "<g id=\"graph0\" class=\"graph\" transform=\"scale(1 1) rotate(0) translate(4 127)\">\n",
       "<title>counts</title>\n",
       "<polygon fill=\"white\" stroke=\"transparent\" points=\"-4,4 -4,-127 1092,-127 1092,4 -4,4\"/>\n",
       "<!-- b0 -->\n",
       "<g id=\"node1\" class=\"node\">\n",
       "<title>b0</title>\n",
       "<polygon fill=\"none\" stroke=\"black\" points=\"909,-123 376,-123 376,-87 909,-87 909,-123\"/>\n",
       "<text text-anchor=\"start\" x=\"598.5\" y=\"-106.8\" font-family=\"Times,serif\" font-size=\"14.00\">SelectPauliLCU</text>\n",
       "<text text-anchor=\"start\" x=\"384\" y=\"-96\" font-family=\"monospace\" font-size=\"10.00\">selection_bitsize=2, target_bitsize=4, select_unitaries=(cirq.De ..., control_val=None</text>\n",
       "</g>\n",
       "<!-- b1 -->\n",
       "<g id=\"node2\" class=\"node\">\n",
       "<title>b1</title>\n",
       "<polygon fill=\"none\" stroke=\"black\" points=\"185,-36 0,-36 0,0 185,0 185,-36\"/>\n",
       "<text text-anchor=\"start\" x=\"77\" y=\"-19.8\" font-family=\"Times,serif\" font-size=\"14.00\">And†</text>\n",
       "<text text-anchor=\"start\" x=\"8\" y=\"-9\" font-family=\"monospace\" font-size=\"10.00\">cv1=1, cv2=1, uncompute=True</text>\n",
       "</g>\n",
       "<!-- b0&#45;&gt;b1 -->\n",
       "<g id=\"edge1\" class=\"edge\">\n",
       "<title>b0-&gt;b1</title>\n",
       "<path fill=\"none\" stroke=\"black\" d=\"M525.64,-86.97C437.44,-73.97 313.17,-55.3 195.17,-36.26\"/>\n",
       "<polygon fill=\"black\" stroke=\"black\" points=\"195.66,-32.79 185.23,-34.65 194.54,-39.71 195.66,-32.79\"/>\n",
       "<text text-anchor=\"middle\" x=\"406\" y=\"-57.8\" font-family=\"Times,serif\" font-size=\"14.00\">2</text>\n",
       "</g>\n",
       "<!-- b2 -->\n",
       "<g id=\"node3\" class=\"node\">\n",
       "<title>b2</title>\n",
       "<polygon fill=\"none\" stroke=\"black\" points=\"322,-36 203,-36 203,0 322,0 322,-36\"/>\n",
       "<text text-anchor=\"start\" x=\"224.5\" y=\"-19.8\" font-family=\"Times,serif\" font-size=\"14.00\">cirq.C+ZZZZ</text>\n",
       "<text text-anchor=\"start\" x=\"211\" y=\"-9\" font-family=\"monospace\" font-size=\"10.00\">gate=cirq.Con ...</text>\n",
       "</g>\n",
       "<!-- b0&#45;&gt;b2 -->\n",
       "<g id=\"edge2\" class=\"edge\">\n",
       "<title>b0-&gt;b2</title>\n",
       "<path fill=\"none\" stroke=\"black\" d=\"M561.22,-86.99C500.56,-74.14 415.42,-55.74 332.07,-36.34\"/>\n",
       "<polygon fill=\"black\" stroke=\"black\" points=\"332.71,-32.89 322.18,-34.03 331.12,-39.71 332.71,-32.89\"/>\n",
       "<text text-anchor=\"middle\" x=\"480\" y=\"-57.8\" font-family=\"Times,serif\" font-size=\"14.00\">1</text>\n",
       "</g>\n",
       "<!-- b3 -->\n",
       "<g id=\"node4\" class=\"node\">\n",
       "<title>b3</title>\n",
       "<polygon fill=\"none\" stroke=\"black\" points=\"459,-36 340,-36 340,0 459,0 459,-36\"/>\n",
       "<text text-anchor=\"start\" x=\"368.5\" y=\"-19.8\" font-family=\"Times,serif\" font-size=\"14.00\">cirq.C+XX</text>\n",
       "<text text-anchor=\"start\" x=\"348\" y=\"-9\" font-family=\"monospace\" font-size=\"10.00\">gate=cirq.Con ...</text>\n",
       "</g>\n",
       "<!-- b0&#45;&gt;b3 -->\n",
       "<g id=\"edge3\" class=\"edge\">\n",
       "<title>b0-&gt;b3</title>\n",
       "<path fill=\"none\" stroke=\"black\" d=\"M593.62,-86.9C554.48,-73.21 499.47,-53.97 458,-39.46\"/>\n",
       "<polygon fill=\"black\" stroke=\"black\" points=\"458.9,-36.07 448.3,-36.07 456.59,-42.68 458.9,-36.07\"/>\n",
       "<text text-anchor=\"middle\" x=\"540\" y=\"-57.8\" font-family=\"Times,serif\" font-size=\"14.00\">1</text>\n",
       "</g>\n",
       "<!-- b4 -->\n",
       "<g id=\"node5\" class=\"node\">\n",
       "<title>b4</title>\n",
       "<polygon fill=\"none\" stroke=\"black\" points=\"668,-36 477,-36 477,0 668,0 668,-36\"/>\n",
       "<text text-anchor=\"start\" x=\"560.5\" y=\"-19.8\" font-family=\"Times,serif\" font-size=\"14.00\">And</text>\n",
       "<text text-anchor=\"start\" x=\"485\" y=\"-9\" font-family=\"monospace\" font-size=\"10.00\">cv1=1, cv2=0, uncompute=False</text>\n",
       "</g>\n",
       "<!-- b0&#45;&gt;b4 -->\n",
       "<g id=\"edge4\" class=\"edge\">\n",
       "<title>b0-&gt;b4</title>\n",
       "<path fill=\"none\" stroke=\"black\" d=\"M628.33,-86.8C618.28,-74.59 604.61,-57.99 593.32,-44.28\"/>\n",
       "<polygon fill=\"black\" stroke=\"black\" points=\"595.7,-41.67 586.64,-36.18 590.3,-46.12 595.7,-41.67\"/>\n",
       "<text text-anchor=\"middle\" x=\"616\" y=\"-57.8\" font-family=\"Times,serif\" font-size=\"14.00\">2</text>\n",
       "</g>\n",
       "<!-- b5 -->\n",
       "<g id=\"node6\" class=\"node\">\n",
       "<title>b5</title>\n",
       "<polygon fill=\"none\" stroke=\"black\" points=\"740.5,-36 686.5,-36 686.5,0 740.5,0 740.5,-36\"/>\n",
       "<text text-anchor=\"start\" x=\"695\" y=\"-14.3\" font-family=\"Times,serif\" font-size=\"14.00\">CNOT</text>\n",
       "</g>\n",
       "<!-- b0&#45;&gt;b5 -->\n",
       "<g id=\"edge5\" class=\"edge\">\n",
       "<title>b0-&gt;b5</title>\n",
       "<path fill=\"none\" stroke=\"black\" d=\"M656.87,-86.8C667.17,-74.47 681.19,-57.68 692.71,-43.89\"/>\n",
       "<polygon fill=\"black\" stroke=\"black\" points=\"695.43,-46.09 699.15,-36.18 690.06,-41.61 695.43,-46.09\"/>\n",
       "<text text-anchor=\"middle\" x=\"686\" y=\"-57.8\" font-family=\"Times,serif\" font-size=\"14.00\">2</text>\n",
       "</g>\n",
       "<!-- b6 -->\n",
       "<g id=\"node7\" class=\"node\">\n",
       "<title>b6</title>\n",
       "<polygon fill=\"none\" stroke=\"black\" points=\"878,-36 759,-36 759,0 878,0 878,-36\"/>\n",
       "<text text-anchor=\"start\" x=\"779\" y=\"-19.8\" font-family=\"Times,serif\" font-size=\"14.00\">cirq.C+ZXYZ</text>\n",
       "<text text-anchor=\"start\" x=\"767\" y=\"-9\" font-family=\"monospace\" font-size=\"10.00\">gate=cirq.Con ...</text>\n",
       "</g>\n",
       "<!-- b0&#45;&gt;b6 -->\n",
       "<g id=\"edge6\" class=\"edge\">\n",
       "<title>b0-&gt;b6</title>\n",
       "<path fill=\"none\" stroke=\"black\" d=\"M678.12,-86.8C705.76,-73.45 744.25,-54.86 773.93,-40.52\"/>\n",
       "<polygon fill=\"black\" stroke=\"black\" points=\"775.75,-43.53 783.24,-36.03 772.71,-37.23 775.75,-43.53\"/>\n",
       "<text text-anchor=\"middle\" x=\"745\" y=\"-57.8\" font-family=\"Times,serif\" font-size=\"14.00\">1</text>\n",
       "</g>\n",
       "<!-- b7 -->\n",
       "<g id=\"node8\" class=\"node\">\n",
       "<title>b7</title>\n",
       "<polygon fill=\"none\" stroke=\"black\" points=\"950.5,-36 896.5,-36 896.5,0 950.5,0 950.5,-36\"/>\n",
       "<text text-anchor=\"start\" x=\"905.5\" y=\"-14.3\" font-family=\"Times,serif\" font-size=\"14.00\">XGate</text>\n",
       "</g>\n",
       "<!-- b0&#45;&gt;b7 -->\n",
       "<g id=\"edge7\" class=\"edge\">\n",
       "<title>b0-&gt;b7</title>\n",
       "<path fill=\"none\" stroke=\"black\" d=\"M715.25,-86.95C764.27,-74.68 830.04,-56.69 886.5,-36 886.6,-35.96 886.7,-35.93 886.8,-35.89\"/>\n",
       "<polygon fill=\"black\" stroke=\"black\" points=\"888.24,-39.08 896.22,-32.12 885.64,-32.58 888.24,-39.08\"/>\n",
       "<text text-anchor=\"middle\" x=\"831\" y=\"-57.8\" font-family=\"Times,serif\" font-size=\"14.00\">2</text>\n",
       "</g>\n",
       "<!-- b8 -->\n",
       "<g id=\"node9\" class=\"node\">\n",
       "<title>b8</title>\n",
       "<polygon fill=\"none\" stroke=\"black\" points=\"1088,-36 969,-36 969,0 1088,0 1088,-36\"/>\n",
       "<text text-anchor=\"start\" x=\"997.5\" y=\"-19.8\" font-family=\"Times,serif\" font-size=\"14.00\">cirq.C+YY</text>\n",
       "<text text-anchor=\"start\" x=\"977\" y=\"-9\" font-family=\"monospace\" font-size=\"10.00\">gate=cirq.Con ...</text>\n",
       "</g>\n",
       "<!-- b0&#45;&gt;b8 -->\n",
       "<g id=\"edge8\" class=\"edge\">\n",
       "<title>b0-&gt;b8</title>\n",
       "<path fill=\"none\" stroke=\"black\" d=\"M746.82,-86.98C776.54,-81.7 808.88,-75.53 838.5,-69 878.69,-60.14 923.2,-48.52 959.03,-38.72\"/>\n",
       "<polygon fill=\"black\" stroke=\"black\" points=\"960.19,-42.03 968.9,-36 958.33,-35.28 960.19,-42.03\"/>\n",
       "<text text-anchor=\"middle\" x=\"900\" y=\"-57.8\" font-family=\"Times,serif\" font-size=\"14.00\">1</text>\n",
       "</g>\n",
       "</g>\n",
       "</svg>"
      ],
      "text/plain": [
       "<IPython.core.display.SVG object>"
      ]
     },
     "metadata": {},
     "output_type": "display_data"
    },
    {
     "data": {
      "text/markdown": [
       "#### Counts totals:\n",
       " - `And(cv1=1, cv2=0, uncompute=False)`: 2\n",
       " - `And(cv1=1, cv2=1, uncompute=True)`: 2\n",
       " - `C+XX`: 1\n",
       " - `C+YY`: 1\n",
       " - `C+ZXYZ`: 1\n",
       " - `C+ZZZZ`: 1\n",
       " - `CNOT()`: 2\n",
       " - `XGate()`: 2"
      ],
      "text/plain": [
       "<IPython.core.display.Markdown object>"
      ]
     },
     "metadata": {},
     "output_type": "display_data"
    }
   ],
   "source": [
    "from qualtran.resource_counting.generalizers import ignore_split_join\n",
    "select_pauli_lcu_g, select_pauli_lcu_sigma = select_pauli_lcu.call_graph(max_depth=1, generalizer=ignore_split_join)\n",
    "show_call_graph(select_pauli_lcu_g)\n",
    "show_counts_sigma(select_pauli_lcu_sigma)"
   ]
  }
 ],
 "metadata": {
  "kernelspec": {
   "display_name": "Python 3",
   "language": "python",
   "name": "python3"
  },
  "language_info": {
   "codemirror_mode": {
    "name": "ipython",
    "version": 3
   },
   "file_extension": ".py",
   "mimetype": "text/x-python",
   "name": "python",
   "nbconvert_exporter": "python",
   "pygments_lexer": "ipython3",
   "version": "3.11.8"
  },
  "widgets": {
   "application/vnd.jupyter.widget-state+json": {
    "state": {
     "441e69f19f7f432eb7f185c5624f133c": {
      "model_module": "@jupyter-widgets/controls",
      "model_module_version": "2.0.0",
      "model_name": "HBoxModel",
      "state": {
       "_dom_classes": [],
       "_model_module": "@jupyter-widgets/controls",
       "_model_module_version": "2.0.0",
       "_model_name": "HBoxModel",
       "_view_count": null,
       "_view_module": "@jupyter-widgets/controls",
       "_view_module_version": "2.0.0",
       "_view_name": "HBoxView",
       "box_style": "",
       "children": [
        "IPY_MODEL_7ecf5981257f489cace7101534bcc397"
       ],
       "layout": "IPY_MODEL_fd8848cd9dbf47479d29bf321d8c9c04",
       "tabbable": null,
       "tooltip": null
      }
     },
     "473cfa6369c04b0d90febe172f583eaa": {
      "model_module": "@jupyter-widgets/base",
      "model_module_version": "2.0.0",
      "model_name": "LayoutModel",
      "state": {
       "_model_module": "@jupyter-widgets/base",
       "_model_module_version": "2.0.0",
       "_model_name": "LayoutModel",
       "_view_count": null,
       "_view_module": "@jupyter-widgets/base",
       "_view_module_version": "2.0.0",
       "_view_name": "LayoutView",
       "align_content": null,
       "align_items": null,
       "align_self": null,
       "border_bottom": null,
       "border_left": null,
       "border_right": null,
       "border_top": null,
       "bottom": null,
       "display": null,
       "flex": null,
       "flex_flow": null,
       "grid_area": null,
       "grid_auto_columns": null,
       "grid_auto_flow": null,
       "grid_auto_rows": null,
       "grid_column": null,
       "grid_gap": null,
       "grid_row": null,
       "grid_template_areas": null,
       "grid_template_columns": null,
       "grid_template_rows": null,
       "height": null,
       "justify_content": null,
       "justify_items": null,
       "left": null,
       "margin": null,
       "max_height": null,
       "max_width": null,
       "min_height": null,
       "min_width": null,
       "object_fit": null,
       "object_position": null,
       "order": null,
       "overflow": null,
       "padding": null,
       "right": null,
       "top": null,
       "visibility": null,
       "width": null
      }
     },
     "7ecf5981257f489cace7101534bcc397": {
      "model_module": "@jupyter-widgets/output",
      "model_module_version": "1.0.0",
      "model_name": "OutputModel",
      "state": {
       "_dom_classes": [],
       "_model_module": "@jupyter-widgets/output",
       "_model_module_version": "1.0.0",
       "_model_name": "OutputModel",
       "_view_count": null,
       "_view_module": "@jupyter-widgets/output",
       "_view_module_version": "1.0.0",
       "_view_name": "OutputView",
       "layout": "IPY_MODEL_473cfa6369c04b0d90febe172f583eaa",
       "msg_id": "",
       "outputs": [
        {
         "data": {
          "text/markdown": "`select_pauli_lcu`",
          "text/plain": "<IPython.core.display.Markdown object>"
         },
         "metadata": {},
         "output_type": "display_data"
        },
        {
         "data": {
          "image/svg+xml": "<svg xmlns=\"http://www.w3.org/2000/svg\" xmlns:xlink=\"http://www.w3.org/1999/xlink\" width=\"267pt\" height=\"98pt\" viewBox=\"0.00 0.00 267.00 98.00\">\n<g id=\"graph0\" class=\"graph\" transform=\"scale(1 1) rotate(0) translate(4 94)\">\n<title>my_graph</title>\n<polygon fill=\"white\" stroke=\"transparent\" points=\"-4,4 -4,-94 263,-94 263,4 -4,4\"/>\n<!-- selection_G0 -->\n<g id=\"node1\" class=\"node\">\n<title>selection_G0</title>\n<text text-anchor=\"middle\" x=\"32.5\" y=\"-68.3\" font-family=\"Times,serif\" font-size=\"14.00\">selection</text>\n</g>\n<!-- SelectPauliLCU -->\n<g id=\"node3\" class=\"node\">\n<title>SelectPauliLCU</title>\n<polygon fill=\"none\" stroke=\"black\" points=\"102.5,-66 102.5,-83 157.5,-83 157.5,-66 102.5,-66\"/>\n<text text-anchor=\"start\" x=\"110\" y=\"-72\" font-family=\"Times,serif\" font-size=\"10.00\">SelectPa..</text>\n<polygon fill=\"none\" stroke=\"black\" points=\"102.5,-45 102.5,-66 157.5,-66 157.5,-45 102.5,-45\"/>\n<text text-anchor=\"start\" x=\"105.5\" y=\"-51.8\" font-family=\"Times,serif\" font-size=\"14.00\">selection</text>\n<polygon fill=\"none\" stroke=\"black\" points=\"102.5,-24 102.5,-45 157.5,-45 157.5,-24 102.5,-24\"/>\n<text text-anchor=\"start\" x=\"114.5\" y=\"-30.8\" font-family=\"Times,serif\" font-size=\"14.00\">target</text>\n</g>\n<!-- selection_G0&#45;&gt;SelectPauliLCU -->\n<g id=\"edge1\" class=\"edge\">\n<title>selection_G0:e-&gt;SelectPauliLCU:w</title>\n<path fill=\"none\" stroke=\"black\" d=\"M65,-72C82.22,-72 83.97,-57.23 99.98,-56.07\"/>\n<ellipse fill=\"black\" stroke=\"black\" cx=\"101\" cy=\"-56.04\" rx=\"1\" ry=\"1\"/>\n<text text-anchor=\"middle\" x=\"83.5\" y=\"-67\" font-family=\"Times,serif\" font-size=\"10.00\">2</text>\n</g>\n<!-- target_G3 -->\n<g id=\"node2\" class=\"node\">\n<title>target_G3</title>\n<text text-anchor=\"middle\" x=\"32.5\" y=\"-14.3\" font-family=\"Times,serif\" font-size=\"14.00\">target</text>\n</g>\n<!-- target_G3&#45;&gt;SelectPauliLCU -->\n<g id=\"edge2\" class=\"edge\">\n<title>target_G3:e-&gt;SelectPauliLCU:w</title>\n<path fill=\"none\" stroke=\"black\" d=\"M60.5,-18C79.5,-18 82.05,-32.77 99.76,-33.93\"/>\n<ellipse fill=\"black\" stroke=\"black\" cx=\"101\" cy=\"-33.97\" rx=\"1\" ry=\"1\"/>\n<text text-anchor=\"middle\" x=\"83.5\" y=\"-31\" font-family=\"Times,serif\" font-size=\"10.00\">4</text>\n</g>\n<!-- selection_G1 -->\n<g id=\"node4\" class=\"node\">\n<title>selection_G1</title>\n<text text-anchor=\"middle\" x=\"226.5\" y=\"-68.3\" font-family=\"Times,serif\" font-size=\"14.00\">selection</text>\n</g>\n<!-- SelectPauliLCU&#45;&gt;selection_G1 -->\n<g id=\"edge3\" class=\"edge\">\n<title>SelectPauliLCU:e-&gt;selection_G1:w</title>\n<path fill=\"none\" stroke=\"black\" d=\"M157,-56C174.22,-56 175.97,-70.77 191.98,-71.93\"/>\n<ellipse fill=\"black\" stroke=\"black\" cx=\"193\" cy=\"-71.96\" rx=\"1\" ry=\"1\"/>\n<text text-anchor=\"middle\" x=\"175.5\" y=\"-67\" font-family=\"Times,serif\" font-size=\"10.00\">2</text>\n</g>\n<!-- target_G4 -->\n<g id=\"node5\" class=\"node\">\n<title>target_G4</title>\n<text text-anchor=\"middle\" x=\"226.5\" y=\"-14.3\" font-family=\"Times,serif\" font-size=\"14.00\">target</text>\n</g>\n<!-- SelectPauliLCU&#45;&gt;target_G4 -->\n<g id=\"edge4\" class=\"edge\">\n<title>SelectPauliLCU:e-&gt;target_G4:w</title>\n<path fill=\"none\" stroke=\"black\" d=\"M157,-34C176,-34 178.55,-19.23 196.26,-18.07\"/>\n<ellipse fill=\"black\" stroke=\"black\" cx=\"197.5\" cy=\"-18.03\" rx=\"1\" ry=\"1\"/>\n<text text-anchor=\"middle\" x=\"175.5\" y=\"-31\" font-family=\"Times,serif\" font-size=\"10.00\">4</text>\n</g>\n</g>\n</svg>",
          "text/plain": "<IPython.core.display.SVG object>"
         },
         "metadata": {},
         "output_type": "display_data"
        }
       ],
       "tabbable": null,
       "tooltip": null
      }
     },
     "fd8848cd9dbf47479d29bf321d8c9c04": {
      "model_module": "@jupyter-widgets/base",
      "model_module_version": "2.0.0",
      "model_name": "LayoutModel",
      "state": {
       "_model_module": "@jupyter-widgets/base",
       "_model_module_version": "2.0.0",
       "_model_name": "LayoutModel",
       "_view_count": null,
       "_view_module": "@jupyter-widgets/base",
       "_view_module_version": "2.0.0",
       "_view_name": "LayoutView",
       "align_content": null,
       "align_items": null,
       "align_self": null,
       "border_bottom": null,
       "border_left": null,
       "border_right": null,
       "border_top": null,
       "bottom": null,
       "display": null,
       "flex": null,
       "flex_flow": null,
       "grid_area": null,
       "grid_auto_columns": null,
       "grid_auto_flow": null,
       "grid_auto_rows": null,
       "grid_column": null,
       "grid_gap": null,
       "grid_row": null,
       "grid_template_areas": null,
       "grid_template_columns": null,
       "grid_template_rows": null,
       "height": null,
       "justify_content": null,
       "justify_items": null,
       "left": null,
       "margin": null,
       "max_height": null,
       "max_width": null,
       "min_height": null,
       "min_width": null,
       "object_fit": null,
       "object_position": null,
       "order": null,
       "overflow": null,
       "padding": null,
       "right": null,
       "top": null,
       "visibility": null,
       "width": null
      }
     }
    },
    "version_major": 2,
    "version_minor": 0
   }
  }
 },
 "nbformat": 4,
 "nbformat_minor": 5
}
