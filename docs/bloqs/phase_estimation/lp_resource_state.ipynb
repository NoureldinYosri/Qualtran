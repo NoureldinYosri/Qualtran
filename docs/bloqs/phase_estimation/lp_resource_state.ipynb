{
 "cells": [
  {
   "cell_type": "markdown",
   "id": "84254116",
   "metadata": {
    "cq.autogen": "title_cell"
   },
   "source": [
    "# Optimal resource states for Phase Estimation by A. Luis and J. Peřina\n",
    "\n",
    "Resource states proposed by A. Luis and J. Peřina (1996) for optimal phase measurements"
   ]
  },
  {
   "cell_type": "code",
   "execution_count": 1,
   "id": "911d8f72",
   "metadata": {
    "cq.autogen": "top_imports"
   },
   "outputs": [],
   "source": [
    "from qualtran import Bloq, CompositeBloq, BloqBuilder, Signature, Register\n",
    "from qualtran import QBit, QInt, QUInt, QAny\n",
    "from qualtran.drawing import show_bloq, show_call_graph, show_counts_sigma\n",
    "from typing import *\n",
    "import numpy as np\n",
    "import sympy\n",
    "import cirq"
   ]
  },
  {
   "cell_type": "markdown",
   "id": "88cd4ee5",
   "metadata": {
    "cq.autogen": "LPRSInterimPrep.bloq_doc.md"
   },
   "source": [
    "## `LPRSInterimPrep`\n",
    "Helper Bloq to prepare an intermediate resource state which can be used in AA\n",
    "\n",
    "Specifically, this prepares the state\n",
    "\n",
    "$$\n",
    "    \\sqrt{\\frac{1}{2^{m}}}\\sum_{n=0}^{2^m - 1}\\left(\\cos{\\left(\\frac{\\pi(n+1)}{2^m+1}\\right)}\n",
    "    |n\\rangle|0\\rangle + i\\sin{\\left(\\frac{\\pi(n+1)}{2^m+1}\\right)}|n\\rangle|1\\rangle\\right)\n",
    "$$\n",
    "\n",
    "This is the state obtained after applying the Hadamard on the flag qubit as described in\n",
    "Eq 19 of https://arxiv.org/pdf/1805.03662.pdf, which can then be used in a single round of\n",
    "Amplitude Amplification to boost the amplitude of desired resource state to 1."
   ]
  },
  {
   "cell_type": "code",
   "execution_count": 2,
   "id": "14b96f3c",
   "metadata": {
    "cq.autogen": "LPRSInterimPrep.bloq_doc.py"
   },
   "outputs": [],
   "source": [
    "from qualtran.bloqs.phase_estimation.lp_resource_state import LPRSInterimPrep"
   ]
  },
  {
   "cell_type": "markdown",
   "id": "3010bc2b",
   "metadata": {
    "cq.autogen": "LPRSInterimPrep.example_instances.md"
   },
   "source": [
    "### Example Instances"
   ]
  },
  {
   "cell_type": "code",
   "execution_count": 3,
   "id": "e464fe0a",
   "metadata": {
    "cq.autogen": "LPRSInterimPrep.lprs_interim_prep"
   },
   "outputs": [],
   "source": [
    "lprs_interim_prep = LPRSInterimPrep(5)"
   ]
  },
  {
   "cell_type": "markdown",
   "id": "3e0b5c82",
   "metadata": {
    "cq.autogen": "LPRSInterimPrep.graphical_signature.md"
   },
   "source": [
    "#### Graphical Signature"
   ]
  },
  {
   "cell_type": "code",
   "execution_count": 4,
   "id": "0765c81a",
   "metadata": {
    "cq.autogen": "LPRSInterimPrep.graphical_signature.py"
   },
   "outputs": [
    {
     "data": {
      "application/vnd.jupyter.widget-view+json": {
       "model_id": "49f80a04a15e43f2b0bfcc3c1866f4e2",
       "version_major": 2,
       "version_minor": 0
      },
      "text/plain": [
       "HBox(children=(Output(outputs=({'output_type': 'display_data', 'data': {'text/plain': '<IPython.core.display.M…"
      ]
     },
     "metadata": {},
     "output_type": "display_data"
    }
   ],
   "source": [
    "from qualtran.drawing import show_bloqs\n",
    "show_bloqs([lprs_interim_prep],\n",
    "           ['`lprs_interim_prep`'])"
   ]
  },
  {
   "cell_type": "markdown",
   "id": "95cefe6c",
   "metadata": {
    "cq.autogen": "LPRSInterimPrep.call_graph.md"
   },
   "source": [
    "### Call Graph"
   ]
  },
  {
   "cell_type": "code",
   "execution_count": 5,
   "id": "2f4c201a",
   "metadata": {
    "cq.autogen": "LPRSInterimPrep.call_graph.py"
   },
   "outputs": [
    {
     "data": {
      "image/svg+xml": [
       "<svg xmlns=\"http://www.w3.org/2000/svg\" xmlns:xlink=\"http://www.w3.org/1999/xlink\" width=\"1787pt\" height=\"131pt\" viewBox=\"0.00 0.00 1787.00 131.00\">\n",
       "<g id=\"graph0\" class=\"graph\" transform=\"scale(1 1) rotate(0) translate(4 127)\">\n",
       "<title>counts</title>\n",
       "<polygon fill=\"white\" stroke=\"transparent\" points=\"-4,4 -4,-127 1783,-127 1783,4 -4,4\"/>\n",
       "<!-- b0 -->\n",
       "<g id=\"node1\" class=\"node\">\n",
       "<title>b0</title>\n",
       "<polygon fill=\"none\" stroke=\"black\" points=\"1016,-123 879,-123 879,-87 1016,-87 1016,-123\"/>\n",
       "<text text-anchor=\"start\" x=\"931\" y=\"-106.8\" font-family=\"Times,serif\" font-size=\"14.00\">LPRS</text>\n",
       "<text text-anchor=\"start\" x=\"887\" y=\"-96\" font-family=\"monospace\" font-size=\"10.00\">bitsize=5, eps=1e-11</text>\n",
       "</g>\n",
       "<!-- b1 -->\n",
       "<g id=\"node2\" class=\"node\">\n",
       "<title>b1</title>\n",
       "<polygon fill=\"none\" stroke=\"black\" points=\"281,-36 0,-36 0,0 281,0 281,-36\"/>\n",
       "<text text-anchor=\"start\" x=\"123.5\" y=\"-19.8\" font-family=\"Times,serif\" font-size=\"14.00\">C[Rz]</text>\n",
       "<text text-anchor=\"start\" x=\"8\" y=\"-9\" font-family=\"monospace\" font-size=\"10.00\">subbloq=Rz(angle ..., ctrl_spec=CtrlSpec ...</text>\n",
       "</g>\n",
       "<!-- b0&#45;&gt;b1 -->\n",
       "<g id=\"edge1\" class=\"edge\">\n",
       "<title>b0-&gt;b1</title>\n",
       "<path fill=\"none\" stroke=\"black\" d=\"M878.8,-97.14C760.88,-85.32 512.11,-60.14 291.43,-36.2\"/>\n",
       "<polygon fill=\"black\" stroke=\"black\" points=\"291.59,-32.7 281.27,-35.1 290.83,-39.66 291.59,-32.7\"/>\n",
       "<text text-anchor=\"middle\" x=\"600\" y=\"-57.8\" font-family=\"Times,serif\" font-size=\"14.00\">1</text>\n",
       "</g>\n",
       "<!-- b2 -->\n",
       "<g id=\"node3\" class=\"node\">\n",
       "<title>b2</title>\n",
       "<polygon fill=\"none\" stroke=\"black\" points=\"490,-36 299,-36 299,0 490,0 490,-36\"/>\n",
       "<text text-anchor=\"start\" x=\"386.5\" y=\"-19.8\" font-family=\"Times,serif\" font-size=\"14.00\">Rz</text>\n",
       "<text text-anchor=\"start\" x=\"307\" y=\"-9\" font-family=\"monospace\" font-size=\"10.00\">angle=-0.19039 ..., eps=1e-11</text>\n",
       "</g>\n",
       "<!-- b0&#45;&gt;b2 -->\n",
       "<g id=\"edge2\" class=\"edge\">\n",
       "<title>b0-&gt;b2</title>\n",
       "<path fill=\"none\" stroke=\"black\" d=\"M879,-93.88C792.98,-81.12 640.59,-58.31 500.34,-36.28\"/>\n",
       "<polygon fill=\"black\" stroke=\"black\" points=\"500.69,-32.79 490.26,-34.7 499.6,-39.71 500.69,-32.79\"/>\n",
       "<text text-anchor=\"middle\" x=\"712\" y=\"-57.8\" font-family=\"Times,serif\" font-size=\"14.00\">1</text>\n",
       "</g>\n",
       "<!-- b3 -->\n",
       "<g id=\"node4\" class=\"node\">\n",
       "<title>b3</title>\n",
       "<polygon fill=\"none\" stroke=\"black\" points=\"789,-36 508,-36 508,0 789,0 789,-36\"/>\n",
       "<text text-anchor=\"start\" x=\"631.5\" y=\"-19.8\" font-family=\"Times,serif\" font-size=\"14.00\">C[Rz]</text>\n",
       "<text text-anchor=\"start\" x=\"516\" y=\"-9\" font-family=\"monospace\" font-size=\"10.00\">subbloq=Rz(angle ..., ctrl_spec=CtrlSpec ...</text>\n",
       "</g>\n",
       "<!-- b0&#45;&gt;b3 -->\n",
       "<g id=\"edge3\" class=\"edge\">\n",
       "<title>b0-&gt;b3</title>\n",
       "<path fill=\"none\" stroke=\"black\" d=\"M887.35,-86.9C838.49,-73.01 769.51,-53.4 718.23,-38.82\"/>\n",
       "<polygon fill=\"black\" stroke=\"black\" points=\"719.13,-35.44 708.55,-36.07 717.21,-42.17 719.13,-35.44\"/>\n",
       "<text text-anchor=\"middle\" x=\"820\" y=\"-57.8\" font-family=\"Times,serif\" font-size=\"14.00\">1</text>\n",
       "</g>\n",
       "<!-- b4 -->\n",
       "<g id=\"node5\" class=\"node\">\n",
       "<title>b4</title>\n",
       "<polygon fill=\"none\" stroke=\"black\" points=\"1088,-36 807,-36 807,0 1088,0 1088,-36\"/>\n",
       "<text text-anchor=\"start\" x=\"930.5\" y=\"-19.8\" font-family=\"Times,serif\" font-size=\"14.00\">C[Rz]</text>\n",
       "<text text-anchor=\"start\" x=\"815\" y=\"-9\" font-family=\"monospace\" font-size=\"10.00\">subbloq=Rz(angle ..., ctrl_spec=CtrlSpec ...</text>\n",
       "</g>\n",
       "<!-- b0&#45;&gt;b4 -->\n",
       "<g id=\"edge4\" class=\"edge\">\n",
       "<title>b0-&gt;b4</title>\n",
       "<path fill=\"none\" stroke=\"black\" d=\"M947.5,-86.8C947.5,-75.16 947.5,-59.55 947.5,-46.24\"/>\n",
       "<polygon fill=\"black\" stroke=\"black\" points=\"951,-46.18 947.5,-36.18 944,-46.18 951,-46.18\"/>\n",
       "<text text-anchor=\"middle\" x=\"951\" y=\"-57.8\" font-family=\"Times,serif\" font-size=\"14.00\">1</text>\n",
       "</g>\n",
       "<!-- b5 -->\n",
       "<g id=\"node6\" class=\"node\">\n",
       "<title>b5</title>\n",
       "<polygon fill=\"none\" stroke=\"black\" points=\"1387,-36 1106,-36 1106,0 1387,0 1387,-36\"/>\n",
       "<text text-anchor=\"start\" x=\"1229.5\" y=\"-19.8\" font-family=\"Times,serif\" font-size=\"14.00\">C[Rz]</text>\n",
       "<text text-anchor=\"start\" x=\"1114\" y=\"-9\" font-family=\"monospace\" font-size=\"10.00\">subbloq=Rz(angle ..., ctrl_spec=CtrlSpec ...</text>\n",
       "</g>\n",
       "<!-- b0&#45;&gt;b5 -->\n",
       "<g id=\"edge5\" class=\"edge\">\n",
       "<title>b0-&gt;b5</title>\n",
       "<path fill=\"none\" stroke=\"black\" d=\"M1007.65,-86.9C1056.51,-73.01 1125.49,-53.4 1176.77,-38.82\"/>\n",
       "<polygon fill=\"black\" stroke=\"black\" points=\"1177.79,-42.17 1186.45,-36.07 1175.87,-35.44 1177.79,-42.17\"/>\n",
       "<text text-anchor=\"middle\" x=\"1119\" y=\"-57.8\" font-family=\"Times,serif\" font-size=\"14.00\">1</text>\n",
       "</g>\n",
       "<!-- b6 -->\n",
       "<g id=\"node7\" class=\"node\">\n",
       "<title>b6</title>\n",
       "<polygon fill=\"none\" stroke=\"black\" points=\"1479.5,-36 1405.5,-36 1405.5,0 1479.5,0 1479.5,-36\"/>\n",
       "<text text-anchor=\"start\" x=\"1413.5\" y=\"-14.3\" font-family=\"Times,serif\" font-size=\"14.00\">Hadamard</text>\n",
       "</g>\n",
       "<!-- b0&#45;&gt;b6 -->\n",
       "<g id=\"edge6\" class=\"edge\">\n",
       "<title>b0-&gt;b6</title>\n",
       "<path fill=\"none\" stroke=\"black\" d=\"M1016.26,-97.8C1104.92,-88.84 1263.4,-69.57 1395.5,-36 1395.6,-35.97 1395.7,-35.95 1395.8,-35.92\"/>\n",
       "<polygon fill=\"black\" stroke=\"black\" points=\"1396.6,-39.34 1405.25,-33.22 1394.67,-32.61 1396.6,-39.34\"/>\n",
       "<text text-anchor=\"middle\" x=\"1315\" y=\"-57.8\" font-family=\"Times,serif\" font-size=\"14.00\">7</text>\n",
       "</g>\n",
       "<!-- b7 -->\n",
       "<g id=\"node8\" class=\"node\">\n",
       "<title>b7</title>\n",
       "<polygon fill=\"none\" stroke=\"black\" points=\"1779,-36 1498,-36 1498,0 1779,0 1779,-36\"/>\n",
       "<text text-anchor=\"start\" x=\"1621.5\" y=\"-19.8\" font-family=\"Times,serif\" font-size=\"14.00\">C[Rz]</text>\n",
       "<text text-anchor=\"start\" x=\"1506\" y=\"-9\" font-family=\"monospace\" font-size=\"10.00\">subbloq=Rz(angle ..., ctrl_spec=CtrlSpec ...</text>\n",
       "</g>\n",
       "<!-- b0&#45;&gt;b7 -->\n",
       "<g id=\"edge7\" class=\"edge\">\n",
       "<title>b0-&gt;b7</title>\n",
       "<path fill=\"none\" stroke=\"black\" d=\"M1016.07,-98.92C1091.37,-93.04 1215.78,-82.41 1322.5,-69 1392.19,-60.24 1470.14,-47.94 1531.18,-37.72\"/>\n",
       "<polygon fill=\"black\" stroke=\"black\" points=\"1531.93,-41.15 1541.22,-36.04 1530.77,-34.24 1531.93,-41.15\"/>\n",
       "<text text-anchor=\"middle\" x=\"1431\" y=\"-57.8\" font-family=\"Times,serif\" font-size=\"14.00\">1</text>\n",
       "</g>\n",
       "</g>\n",
       "</svg>"
      ],
      "text/plain": [
       "<IPython.core.display.SVG object>"
      ]
     },
     "metadata": {},
     "output_type": "display_data"
    },
    {
     "data": {
      "text/markdown": [
       "#### Counts totals:\n",
       " - `C[Rz(-0.0606060606060606π)]`: 1\n",
       " - `C[Rz(-0.1212121212121212π)]`: 1\n",
       " - `C[Rz(-0.2424242424242424π)]`: 1\n",
       " - `C[Rz(-0.4848484848484848π)]`: 1\n",
       " - `C[Rz(-0.9696969696969696π)]`: 1\n",
       " - `H`: 7\n",
       " - `Rz(-0.0606060606060606π)`: 1"
      ],
      "text/plain": [
       "<IPython.core.display.Markdown object>"
      ]
     },
     "metadata": {},
     "output_type": "display_data"
    }
   ],
   "source": [
    "from qualtran.resource_counting.generalizers import ignore_split_join\n",
    "lprs_interim_prep_g, lprs_interim_prep_sigma = lprs_interim_prep.call_graph(max_depth=1, generalizer=ignore_split_join)\n",
    "show_call_graph(lprs_interim_prep_g)\n",
    "show_counts_sigma(lprs_interim_prep_sigma)"
   ]
  },
  {
   "cell_type": "markdown",
   "id": "a7241381",
   "metadata": {
    "cq.autogen": "LPResourceState.bloq_doc.md"
   },
   "source": [
    "## `LPResourceState`\n",
    "Prepares optimal resource state $\\chi_{m}$ proposed by A. Luis and J. Peřina (1996)\n",
    "\n",
    "Uses a single round of amplitude amplification, as described in Ref 2, to prepare the\n",
    "resource state from Ref 1 described as\n",
    "\n",
    "$$\n",
    "\\chi_{m} = \\sqrt{\\frac{2}{2^m + 1}}\\sum_{n=0}^{2^m - 1}\\sin{\\frac{\\pi(n+1)}{2^m+1}}|n\\rangle\n",
    "$$\n",
    "\n",
    "#### Parameters\n",
    " - `bitsize`: The size of the phase register to prepare the resource state on.  \n",
    "\n",
    "#### References\n",
    " - [Optimum phase-shift estimation and the quantum description of the phase difference](https://journals.aps.org/pra/abstract/10.1103/PhysRevA.54.4564). \n",
    " - [Encoding Electronic Spectra in Quantum Circuits with Linear T Complexity](https://arxiv.org/abs/1805.03662). Section II-B\n"
   ]
  },
  {
   "cell_type": "code",
   "execution_count": 6,
   "id": "6c5516d2",
   "metadata": {
    "cq.autogen": "LPResourceState.bloq_doc.py"
   },
   "outputs": [],
   "source": [
    "from qualtran.bloqs.phase_estimation.lp_resource_state import LPResourceState"
   ]
  },
  {
   "cell_type": "markdown",
   "id": "cfbba478",
   "metadata": {
    "cq.autogen": "LPResourceState.example_instances.md"
   },
   "source": [
    "### Example Instances"
   ]
  },
  {
   "cell_type": "code",
   "execution_count": 7,
   "id": "c240f76f",
   "metadata": {
    "cq.autogen": "LPResourceState.lp_resource_state_small"
   },
   "outputs": [],
   "source": [
    "lp_resource_state_small = LPResourceState(5)"
   ]
  },
  {
   "cell_type": "code",
   "execution_count": 8,
   "id": "dca73bc2",
   "metadata": {
    "cq.autogen": "LPResourceState.lp_resource_state_symbolic"
   },
   "outputs": [],
   "source": [
    "import sympy\n",
    "\n",
    "lp_resource_state_symbolic = LPResourceState(sympy.Symbol('n'))"
   ]
  },
  {
   "cell_type": "markdown",
   "id": "88c02acd",
   "metadata": {
    "cq.autogen": "LPResourceState.graphical_signature.md"
   },
   "source": [
    "#### Graphical Signature"
   ]
  },
  {
   "cell_type": "code",
   "execution_count": 9,
   "id": "68ccc4f5",
   "metadata": {
    "cq.autogen": "LPResourceState.graphical_signature.py"
   },
   "outputs": [
    {
     "data": {
      "application/vnd.jupyter.widget-view+json": {
       "model_id": "d7e0dd9f3ebb4877a3e699bee7e65d5b",
       "version_major": 2,
       "version_minor": 0
      },
      "text/plain": [
       "HBox(children=(Output(outputs=({'output_type': 'display_data', 'data': {'text/plain': '<IPython.core.display.M…"
      ]
     },
     "metadata": {},
     "output_type": "display_data"
    }
   ],
   "source": [
    "from qualtran.drawing import show_bloqs\n",
    "show_bloqs([lp_resource_state_small, lp_resource_state_symbolic],\n",
    "           ['`lp_resource_state_small`', '`lp_resource_state_symbolic`'])"
   ]
  },
  {
   "cell_type": "markdown",
   "id": "3784b8e4",
   "metadata": {
    "cq.autogen": "LPResourceState.call_graph.md"
   },
   "source": [
    "### Call Graph"
   ]
  },
  {
   "cell_type": "code",
   "execution_count": 10,
   "id": "ce116ae5",
   "metadata": {
    "cq.autogen": "LPResourceState.call_graph.py"
   },
   "outputs": [
    {
     "data": {
      "image/svg+xml": [
       "<svg xmlns=\"http://www.w3.org/2000/svg\" xmlns:xlink=\"http://www.w3.org/1999/xlink\" width=\"1299pt\" height=\"131pt\" viewBox=\"0.00 0.00 1299.00 131.00\">\n",
       "<g id=\"graph0\" class=\"graph\" transform=\"scale(1 1) rotate(0) translate(4 127)\">\n",
       "<title>counts</title>\n",
       "<polygon fill=\"white\" stroke=\"transparent\" points=\"-4,4 -4,-127 1295,-127 1295,4 -4,4\"/>\n",
       "<!-- b0 -->\n",
       "<g id=\"node1\" class=\"node\">\n",
       "<title>b0</title>\n",
       "<polygon fill=\"none\" stroke=\"black\" points=\"623.5,-123 513.5,-123 513.5,-87 623.5,-87 623.5,-123\"/>\n",
       "<text text-anchor=\"start\" x=\"521.5\" y=\"-106.8\" font-family=\"Times,serif\" font-size=\"14.00\">LPResourceState</text>\n",
       "<text text-anchor=\"start\" x=\"541\" y=\"-96\" font-family=\"monospace\" font-size=\"10.00\">bitsize=5</text>\n",
       "</g>\n",
       "<!-- b1 -->\n",
       "<g id=\"node2\" class=\"node\">\n",
       "<title>b1</title>\n",
       "<polygon fill=\"none\" stroke=\"black\" points=\"137,-36 0,-36 0,0 137,0 137,-36\"/>\n",
       "<text text-anchor=\"start\" x=\"52\" y=\"-19.8\" font-family=\"Times,serif\" font-size=\"14.00\">LPRS</text>\n",
       "<text text-anchor=\"start\" x=\"8\" y=\"-9\" font-family=\"monospace\" font-size=\"10.00\">bitsize=5, eps=1e-11</text>\n",
       "</g>\n",
       "<!-- b0&#45;&gt;b1 -->\n",
       "<g id=\"edge1\" class=\"edge\">\n",
       "<title>b0-&gt;b1</title>\n",
       "<path fill=\"none\" stroke=\"black\" d=\"M513.23,-96.16C434.18,-84.71 284.08,-62.12 147.14,-36.27\"/>\n",
       "<polygon fill=\"black\" stroke=\"black\" points=\"147.78,-32.82 137.31,-34.4 146.48,-39.7 147.78,-32.82\"/>\n",
       "<text text-anchor=\"middle\" x=\"335\" y=\"-57.8\" font-family=\"Times,serif\" font-size=\"14.00\">2</text>\n",
       "</g>\n",
       "<!-- b2 -->\n",
       "<g id=\"node3\" class=\"node\">\n",
       "<title>b2</title>\n",
       "<polygon fill=\"none\" stroke=\"black\" points=\"346,-36 155,-36 155,0 346,0 346,-36\"/>\n",
       "<text text-anchor=\"start\" x=\"242.5\" y=\"-19.8\" font-family=\"Times,serif\" font-size=\"14.00\">Ry</text>\n",
       "<text text-anchor=\"start\" x=\"163\" y=\"-9\" font-family=\"monospace\" font-size=\"10.00\">angle=1.540488 ..., eps=1e-11</text>\n",
       "</g>\n",
       "<!-- b0&#45;&gt;b2 -->\n",
       "<g id=\"edge2\" class=\"edge\">\n",
       "<title>b0-&gt;b2</title>\n",
       "<path fill=\"none\" stroke=\"black\" d=\"M513.47,-89.29C461.04,-75.28 381.75,-54.08 323.95,-38.63\"/>\n",
       "<polygon fill=\"black\" stroke=\"black\" points=\"324.71,-35.21 314.14,-36.01 322.9,-41.97 324.71,-35.21\"/>\n",
       "<text text-anchor=\"middle\" x=\"433\" y=\"-57.8\" font-family=\"Times,serif\" font-size=\"14.00\">3</text>\n",
       "</g>\n",
       "<!-- b3 -->\n",
       "<g id=\"node4\" class=\"node\">\n",
       "<title>b3</title>\n",
       "<polygon fill=\"none\" stroke=\"black\" points=\"418.5,-36 364.5,-36 364.5,0 418.5,0 418.5,-36\"/>\n",
       "<text text-anchor=\"start\" x=\"373.5\" y=\"-14.3\" font-family=\"Times,serif\" font-size=\"14.00\">XGate</text>\n",
       "</g>\n",
       "<!-- b0&#45;&gt;b3 -->\n",
       "<g id=\"edge3\" class=\"edge\">\n",
       "<title>b0-&gt;b3</title>\n",
       "<path fill=\"none\" stroke=\"black\" d=\"M532.68,-86.8C502.11,-72.12 458.34,-51.1 427.66,-36.37\"/>\n",
       "<polygon fill=\"black\" stroke=\"black\" points=\"429.12,-33.18 418.59,-32.01 426.09,-39.49 429.12,-33.18\"/>\n",
       "<text text-anchor=\"middle\" x=\"495\" y=\"-57.8\" font-family=\"Times,serif\" font-size=\"14.00\">4</text>\n",
       "</g>\n",
       "<!-- b4 -->\n",
       "<g id=\"node5\" class=\"node\">\n",
       "<title>b4</title>\n",
       "<polygon fill=\"none\" stroke=\"black\" points=\"700,-36 437,-36 437,0 700,0 700,-36\"/>\n",
       "<text text-anchor=\"start\" x=\"535\" y=\"-19.8\" font-family=\"Times,serif\" font-size=\"14.00\">CZPowGate</text>\n",
       "<text text-anchor=\"start\" x=\"445\" y=\"-9\" font-family=\"monospace\" font-size=\"10.00\">exponent=1.0, global_shift=0.0, eps=1e-11</text>\n",
       "</g>\n",
       "<!-- b0&#45;&gt;b4 -->\n",
       "<g id=\"edge4\" class=\"edge\">\n",
       "<title>b0-&gt;b4</title>\n",
       "<path fill=\"none\" stroke=\"black\" d=\"M568.5,-86.8C568.5,-75.16 568.5,-59.55 568.5,-46.24\"/>\n",
       "<polygon fill=\"black\" stroke=\"black\" points=\"572,-46.18 568.5,-36.18 565,-46.18 572,-46.18\"/>\n",
       "<text text-anchor=\"middle\" x=\"572\" y=\"-57.8\" font-family=\"Times,serif\" font-size=\"14.00\">1</text>\n",
       "</g>\n",
       "<!-- b5 -->\n",
       "<g id=\"node6\" class=\"node\">\n",
       "<title>b5</title>\n",
       "<polygon fill=\"none\" stroke=\"black\" points=\"855,-36 718,-36 718,0 855,0 855,-36\"/>\n",
       "<text text-anchor=\"start\" x=\"766.5\" y=\"-19.8\" font-family=\"Times,serif\" font-size=\"14.00\">LPRS†</text>\n",
       "<text text-anchor=\"start\" x=\"726\" y=\"-9\" font-family=\"monospace\" font-size=\"10.00\">subbloq=LPRSInte ...</text>\n",
       "</g>\n",
       "<!-- b0&#45;&gt;b5 -->\n",
       "<g id=\"edge5\" class=\"edge\">\n",
       "<title>b0-&gt;b5</title>\n",
       "<path fill=\"none\" stroke=\"black\" d=\"M612.35,-86.9C647.16,-73.33 695.98,-54.29 733.07,-39.83\"/>\n",
       "<polygon fill=\"black\" stroke=\"black\" points=\"734.67,-42.97 742.72,-36.07 732.13,-36.44 734.67,-42.97\"/>\n",
       "<text text-anchor=\"middle\" x=\"695\" y=\"-57.8\" font-family=\"Times,serif\" font-size=\"14.00\">1</text>\n",
       "</g>\n",
       "<!-- b6 -->\n",
       "<g id=\"node7\" class=\"node\">\n",
       "<title>b6</title>\n",
       "<polygon fill=\"none\" stroke=\"black\" points=\"1106,-36 873,-36 873,0 1106,0 1106,-36\"/>\n",
       "<text text-anchor=\"start\" x=\"974\" y=\"-19.8\" font-family=\"Times,serif\" font-size=\"14.00\">C^6Z</text>\n",
       "<text text-anchor=\"start\" x=\"881\" y=\"-9\" font-family=\"monospace\" font-size=\"10.00\">cvs=(0, 0, 0 ..., target_gate=cirq.Z</text>\n",
       "</g>\n",
       "<!-- b0&#45;&gt;b6 -->\n",
       "<g id=\"edge6\" class=\"edge\">\n",
       "<title>b0-&gt;b6</title>\n",
       "<path fill=\"none\" stroke=\"black\" d=\"M623.54,-92.89C692.4,-78.99 811.4,-54.96 894.96,-38.09\"/>\n",
       "<polygon fill=\"black\" stroke=\"black\" points=\"895.86,-41.48 904.97,-36.07 894.48,-34.61 895.86,-41.48\"/>\n",
       "<text text-anchor=\"middle\" x=\"808\" y=\"-57.8\" font-family=\"Times,serif\" font-size=\"14.00\">1</text>\n",
       "</g>\n",
       "<!-- b7 -->\n",
       "<g id=\"node8\" class=\"node\">\n",
       "<title>b7</title>\n",
       "<polygon fill=\"none\" stroke=\"black\" points=\"1291,-36 1124,-36 1124,0 1291,0 1291,-36\"/>\n",
       "<text text-anchor=\"start\" x=\"1186.5\" y=\"-19.8\" font-family=\"Times,serif\" font-size=\"14.00\">GPhase</text>\n",
       "<text text-anchor=\"start\" x=\"1132\" y=\"-9\" font-family=\"monospace\" font-size=\"10.00\">coefficient=1j, eps=1e-11</text>\n",
       "</g>\n",
       "<!-- b0&#45;&gt;b7 -->\n",
       "<g id=\"edge7\" class=\"edge\">\n",
       "<title>b0-&gt;b7</title>\n",
       "<path fill=\"none\" stroke=\"black\" d=\"M623.67,-98.18C720.63,-87.72 928.12,-64.31 1113.93,-36.04\"/>\n",
       "<polygon fill=\"black\" stroke=\"black\" points=\"1114.53,-39.49 1123.89,-34.52 1113.47,-32.57 1114.53,-39.49\"/>\n",
       "<text text-anchor=\"middle\" x=\"984\" y=\"-57.8\" font-family=\"Times,serif\" font-size=\"14.00\">1</text>\n",
       "</g>\n",
       "</g>\n",
       "</svg>"
      ],
      "text/plain": [
       "<IPython.core.display.SVG object>"
      ]
     },
     "metadata": {},
     "output_type": "display_data"
    },
    {
     "data": {
      "text/markdown": [
       "#### Counts totals:\n",
       " - `Adjoint(subbloq=LPRSInterimPrep)`: 1\n",
       " - `CZ`: 1\n",
       " - `GPhase(1j)`: 1\n",
       " - `LPRSInterimPrep`: 2\n",
       " - `MultiControlPauli`: 1\n",
       " - `Ry(0.4903527690225672π)`: 3\n",
       " - `XGate`: 4"
      ],
      "text/plain": [
       "<IPython.core.display.Markdown object>"
      ]
     },
     "metadata": {},
     "output_type": "display_data"
    }
   ],
   "source": [
    "from qualtran.resource_counting.generalizers import ignore_split_join\n",
    "lp_resource_state_small_g, lp_resource_state_small_sigma = lp_resource_state_small.call_graph(max_depth=1, generalizer=ignore_split_join)\n",
    "show_call_graph(lp_resource_state_small_g)\n",
    "show_counts_sigma(lp_resource_state_small_sigma)"
   ]
  }
 ],
 "metadata": {
  "kernelspec": {
   "display_name": "Python 3",
   "language": "python",
   "name": "python3"
  },
  "language_info": {
   "codemirror_mode": {
    "name": "ipython",
    "version": 3
   },
   "file_extension": ".py",
   "mimetype": "text/x-python",
   "name": "python",
   "nbconvert_exporter": "python",
   "pygments_lexer": "ipython3",
   "version": "3.11.8"
  },
  "widgets": {
   "application/vnd.jupyter.widget-state+json": {
    "state": {
     "136f758853eb4e41bddbcbf47b7145e0": {
      "model_module": "@jupyter-widgets/base",
      "model_module_version": "2.0.0",
      "model_name": "LayoutModel",
      "state": {
       "_model_module": "@jupyter-widgets/base",
       "_model_module_version": "2.0.0",
       "_model_name": "LayoutModel",
       "_view_count": null,
       "_view_module": "@jupyter-widgets/base",
       "_view_module_version": "2.0.0",
       "_view_name": "LayoutView",
       "align_content": null,
       "align_items": null,
       "align_self": null,
       "border_bottom": null,
       "border_left": null,
       "border_right": null,
       "border_top": null,
       "bottom": null,
       "display": null,
       "flex": null,
       "flex_flow": null,
       "grid_area": null,
       "grid_auto_columns": null,
       "grid_auto_flow": null,
       "grid_auto_rows": null,
       "grid_column": null,
       "grid_gap": null,
       "grid_row": null,
       "grid_template_areas": null,
       "grid_template_columns": null,
       "grid_template_rows": null,
       "height": null,
       "justify_content": null,
       "justify_items": null,
       "left": null,
       "margin": null,
       "max_height": null,
       "max_width": null,
       "min_height": null,
       "min_width": null,
       "object_fit": null,
       "object_position": null,
       "order": null,
       "overflow": null,
       "padding": null,
       "right": null,
       "top": null,
       "visibility": null,
       "width": null
      }
     },
     "23e105756eb448ca8fd29a7e28f8e626": {
      "model_module": "@jupyter-widgets/output",
      "model_module_version": "1.0.0",
      "model_name": "OutputModel",
      "state": {
       "_dom_classes": [],
       "_model_module": "@jupyter-widgets/output",
       "_model_module_version": "1.0.0",
       "_model_name": "OutputModel",
       "_view_count": null,
       "_view_module": "@jupyter-widgets/output",
       "_view_module_version": "1.0.0",
       "_view_name": "OutputView",
       "layout": "IPY_MODEL_b2703f1dda444886b91c8773d877b9e7",
       "msg_id": "",
       "outputs": [
        {
         "data": {
          "text/markdown": "`lprs_interim_prep`",
          "text/plain": "<IPython.core.display.Markdown object>"
         },
         "metadata": {},
         "output_type": "display_data"
        },
        {
         "data": {
          "image/svg+xml": "<svg xmlns=\"http://www.w3.org/2000/svg\" xmlns:xlink=\"http://www.w3.org/1999/xlink\" width=\"267pt\" height=\"98pt\" viewBox=\"0.00 0.00 267.00 98.00\">\n<g id=\"graph0\" class=\"graph\" transform=\"scale(1 1) rotate(0) translate(4 94)\">\n<title>my_graph</title>\n<polygon fill=\"white\" stroke=\"transparent\" points=\"-4,4 -4,-94 263,-94 263,4 -4,4\"/>\n<!-- m_G3 -->\n<g id=\"node1\" class=\"node\">\n<title>m_G3</title>\n<text text-anchor=\"middle\" x=\"27\" y=\"-68.3\" font-family=\"Times,serif\" font-size=\"14.00\">m</text>\n</g>\n<!-- LPRSInterimPrep -->\n<g id=\"node3\" class=\"node\">\n<title>LPRSInterimPrep</title>\n<polygon fill=\"none\" stroke=\"black\" points=\"91.5,-66 91.5,-83 168.5,-83 168.5,-66 91.5,-66\"/>\n<text text-anchor=\"start\" x=\"94.5\" y=\"-72\" font-family=\"Times,serif\" font-size=\"10.00\">LPRSInterimPrep</text>\n<polygon fill=\"none\" stroke=\"black\" points=\"91.5,-45 91.5,-66 168.5,-66 168.5,-45 91.5,-45\"/>\n<text text-anchor=\"start\" x=\"124\" y=\"-51.8\" font-family=\"Times,serif\" font-size=\"14.00\">m</text>\n<polygon fill=\"none\" stroke=\"black\" points=\"91.5,-24 91.5,-45 168.5,-45 168.5,-24 91.5,-24\"/>\n<text text-anchor=\"start\" x=\"120.5\" y=\"-30.8\" font-family=\"Times,serif\" font-size=\"14.00\">anc</text>\n</g>\n<!-- m_G3&#45;&gt;LPRSInterimPrep -->\n<g id=\"edge1\" class=\"edge\">\n<title>m_G3:e-&gt;LPRSInterimPrep:w</title>\n<path fill=\"none\" stroke=\"black\" d=\"M54,-72C71.22,-72 72.97,-57.23 88.98,-56.07\"/>\n<ellipse fill=\"black\" stroke=\"black\" cx=\"90\" cy=\"-56.04\" rx=\"1\" ry=\"1\"/>\n<text text-anchor=\"middle\" x=\"72.5\" y=\"-67\" font-family=\"Times,serif\" font-size=\"10.00\">5</text>\n</g>\n<!-- anc_G5 -->\n<g id=\"node2\" class=\"node\">\n<title>anc_G5</title>\n<text text-anchor=\"middle\" x=\"27\" y=\"-14.3\" font-family=\"Times,serif\" font-size=\"14.00\">anc</text>\n</g>\n<!-- anc_G5&#45;&gt;LPRSInterimPrep -->\n<g id=\"edge2\" class=\"edge\">\n<title>anc_G5:e-&gt;LPRSInterimPrep:w</title>\n<path fill=\"none\" stroke=\"black\" d=\"M54,-18C71.22,-18 72.97,-32.77 88.98,-33.93\"/>\n<ellipse fill=\"black\" stroke=\"black\" cx=\"90\" cy=\"-33.96\" rx=\"1\" ry=\"1\"/>\n<text text-anchor=\"middle\" x=\"72.5\" y=\"-29\" font-family=\"Times,serif\" font-size=\"10.00\">1</text>\n</g>\n<!-- m_G0 -->\n<g id=\"node4\" class=\"node\">\n<title>m_G0</title>\n<text text-anchor=\"middle\" x=\"232\" y=\"-68.3\" font-family=\"Times,serif\" font-size=\"14.00\">m</text>\n</g>\n<!-- LPRSInterimPrep&#45;&gt;m_G0 -->\n<g id=\"edge3\" class=\"edge\">\n<title>LPRSInterimPrep:e-&gt;m_G0:w</title>\n<path fill=\"none\" stroke=\"black\" d=\"M168,-56C185.22,-56 186.97,-70.77 202.98,-71.93\"/>\n<ellipse fill=\"black\" stroke=\"black\" cx=\"204\" cy=\"-71.96\" rx=\"1\" ry=\"1\"/>\n<text text-anchor=\"middle\" x=\"186.5\" y=\"-67\" font-family=\"Times,serif\" font-size=\"10.00\">5</text>\n</g>\n<!-- anc_G2 -->\n<g id=\"node5\" class=\"node\">\n<title>anc_G2</title>\n<text text-anchor=\"middle\" x=\"232\" y=\"-14.3\" font-family=\"Times,serif\" font-size=\"14.00\">anc</text>\n</g>\n<!-- LPRSInterimPrep&#45;&gt;anc_G2 -->\n<g id=\"edge4\" class=\"edge\">\n<title>LPRSInterimPrep:e-&gt;anc_G2:w</title>\n<path fill=\"none\" stroke=\"black\" d=\"M168,-34C185.22,-34 186.97,-19.23 202.98,-18.07\"/>\n<ellipse fill=\"black\" stroke=\"black\" cx=\"204\" cy=\"-18.04\" rx=\"1\" ry=\"1\"/>\n<text text-anchor=\"middle\" x=\"186.5\" y=\"-29\" font-family=\"Times,serif\" font-size=\"10.00\">1</text>\n</g>\n</g>\n</svg>",
          "text/plain": "<IPython.core.display.SVG object>"
         },
         "metadata": {},
         "output_type": "display_data"
        }
       ],
       "tabbable": null,
       "tooltip": null
      }
     },
     "49f80a04a15e43f2b0bfcc3c1866f4e2": {
      "model_module": "@jupyter-widgets/controls",
      "model_module_version": "2.0.0",
      "model_name": "HBoxModel",
      "state": {
       "_dom_classes": [],
       "_model_module": "@jupyter-widgets/controls",
       "_model_module_version": "2.0.0",
       "_model_name": "HBoxModel",
       "_view_count": null,
       "_view_module": "@jupyter-widgets/controls",
       "_view_module_version": "2.0.0",
       "_view_name": "HBoxView",
       "box_style": "",
       "children": [
        "IPY_MODEL_23e105756eb448ca8fd29a7e28f8e626"
       ],
       "layout": "IPY_MODEL_735490f0b1974edaa5028ccfde6458f6",
       "tabbable": null,
       "tooltip": null
      }
     },
     "735490f0b1974edaa5028ccfde6458f6": {
      "model_module": "@jupyter-widgets/base",
      "model_module_version": "2.0.0",
      "model_name": "LayoutModel",
      "state": {
       "_model_module": "@jupyter-widgets/base",
       "_model_module_version": "2.0.0",
       "_model_name": "LayoutModel",
       "_view_count": null,
       "_view_module": "@jupyter-widgets/base",
       "_view_module_version": "2.0.0",
       "_view_name": "LayoutView",
       "align_content": null,
       "align_items": null,
       "align_self": null,
       "border_bottom": null,
       "border_left": null,
       "border_right": null,
       "border_top": null,
       "bottom": null,
       "display": null,
       "flex": null,
       "flex_flow": null,
       "grid_area": null,
       "grid_auto_columns": null,
       "grid_auto_flow": null,
       "grid_auto_rows": null,
       "grid_column": null,
       "grid_gap": null,
       "grid_row": null,
       "grid_template_areas": null,
       "grid_template_columns": null,
       "grid_template_rows": null,
       "height": null,
       "justify_content": null,
       "justify_items": null,
       "left": null,
       "margin": null,
       "max_height": null,
       "max_width": null,
       "min_height": null,
       "min_width": null,
       "object_fit": null,
       "object_position": null,
       "order": null,
       "overflow": null,
       "padding": null,
       "right": null,
       "top": null,
       "visibility": null,
       "width": null
      }
     },
     "b2703f1dda444886b91c8773d877b9e7": {
      "model_module": "@jupyter-widgets/base",
      "model_module_version": "2.0.0",
      "model_name": "LayoutModel",
      "state": {
       "_model_module": "@jupyter-widgets/base",
       "_model_module_version": "2.0.0",
       "_model_name": "LayoutModel",
       "_view_count": null,
       "_view_module": "@jupyter-widgets/base",
       "_view_module_version": "2.0.0",
       "_view_name": "LayoutView",
       "align_content": null,
       "align_items": null,
       "align_self": null,
       "border_bottom": null,
       "border_left": null,
       "border_right": null,
       "border_top": null,
       "bottom": null,
       "display": null,
       "flex": null,
       "flex_flow": null,
       "grid_area": null,
       "grid_auto_columns": null,
       "grid_auto_flow": null,
       "grid_auto_rows": null,
       "grid_column": null,
       "grid_gap": null,
       "grid_row": null,
       "grid_template_areas": null,
       "grid_template_columns": null,
       "grid_template_rows": null,
       "height": null,
       "justify_content": null,
       "justify_items": null,
       "left": null,
       "margin": null,
       "max_height": null,
       "max_width": null,
       "min_height": null,
       "min_width": null,
       "object_fit": null,
       "object_position": null,
       "order": null,
       "overflow": null,
       "padding": null,
       "right": null,
       "top": null,
       "visibility": null,
       "width": null
      }
     },
     "d1712e9f50ba4662b19aa3c76c39337a": {
      "model_module": "@jupyter-widgets/output",
      "model_module_version": "1.0.0",
      "model_name": "OutputModel",
      "state": {
       "_dom_classes": [],
       "_model_module": "@jupyter-widgets/output",
       "_model_module_version": "1.0.0",
       "_model_name": "OutputModel",
       "_view_count": null,
       "_view_module": "@jupyter-widgets/output",
       "_view_module_version": "1.0.0",
       "_view_name": "OutputView",
       "layout": "IPY_MODEL_f9e34b8c61354bfc8883cc0f0bcef77f",
       "msg_id": "",
       "outputs": [
        {
         "data": {
          "text/markdown": "`lp_resource_state_small`",
          "text/plain": "<IPython.core.display.Markdown object>"
         },
         "metadata": {},
         "output_type": "display_data"
        },
        {
         "data": {
          "image/svg+xml": "<svg xmlns=\"http://www.w3.org/2000/svg\" xmlns:xlink=\"http://www.w3.org/1999/xlink\" width=\"266pt\" height=\"54pt\" viewBox=\"0.00 0.00 266.00 54.00\">\n<g id=\"graph0\" class=\"graph\" transform=\"scale(1 1) rotate(0) translate(4 50)\">\n<title>my_graph</title>\n<polygon fill=\"white\" stroke=\"transparent\" points=\"-4,4 -4,-50 262,-50 262,4 -4,4\"/>\n<!-- m_G0 -->\n<g id=\"node1\" class=\"node\">\n<title>m_G0</title>\n<text text-anchor=\"middle\" x=\"27\" y=\"-14.3\" font-family=\"Times,serif\" font-size=\"14.00\">m</text>\n</g>\n<!-- LPResourceState -->\n<g id=\"node2\" class=\"node\">\n<title>LPResourceState</title>\n<polygon fill=\"none\" stroke=\"black\" points=\"91,-29 91,-46 167,-46 167,-29 91,-29\"/>\n<text text-anchor=\"start\" x=\"94\" y=\"-35\" font-family=\"Times,serif\" font-size=\"10.00\">LPResourceState</text>\n<polygon fill=\"none\" stroke=\"black\" points=\"91,-8 91,-29 167,-29 167,-8 91,-8\"/>\n<text text-anchor=\"start\" x=\"123\" y=\"-14.8\" font-family=\"Times,serif\" font-size=\"14.00\">m</text>\n</g>\n<!-- m_G0&#45;&gt;LPResourceState -->\n<g id=\"edge1\" class=\"edge\">\n<title>m_G0:e-&gt;LPResourceState:w</title>\n<path fill=\"none\" stroke=\"black\" d=\"M54,-18C69.67,-18 74.14,-18 88.77,-18\"/>\n<ellipse fill=\"black\" stroke=\"black\" cx=\"90\" cy=\"-18\" rx=\"1\" ry=\"1\"/>\n<text text-anchor=\"middle\" x=\"72.5\" y=\"-21\" font-family=\"Times,serif\" font-size=\"10.00\">5</text>\n</g>\n<!-- m_G1 -->\n<g id=\"node3\" class=\"node\">\n<title>m_G1</title>\n<text text-anchor=\"middle\" x=\"231\" y=\"-14.3\" font-family=\"Times,serif\" font-size=\"14.00\">m</text>\n</g>\n<!-- LPResourceState&#45;&gt;m_G1 -->\n<g id=\"edge2\" class=\"edge\">\n<title>LPResourceState:e-&gt;m_G1:w</title>\n<path fill=\"none\" stroke=\"black\" d=\"M167,-18C182.67,-18 187.14,-18 201.77,-18\"/>\n<ellipse fill=\"black\" stroke=\"black\" cx=\"203\" cy=\"-18\" rx=\"1\" ry=\"1\"/>\n<text text-anchor=\"middle\" x=\"185.5\" y=\"-21\" font-family=\"Times,serif\" font-size=\"10.00\">5</text>\n</g>\n</g>\n</svg>",
          "text/plain": "<IPython.core.display.SVG object>"
         },
         "metadata": {},
         "output_type": "display_data"
        }
       ],
       "tabbable": null,
       "tooltip": null
      }
     },
     "d7e0dd9f3ebb4877a3e699bee7e65d5b": {
      "model_module": "@jupyter-widgets/controls",
      "model_module_version": "2.0.0",
      "model_name": "HBoxModel",
      "state": {
       "_dom_classes": [],
       "_model_module": "@jupyter-widgets/controls",
       "_model_module_version": "2.0.0",
       "_model_name": "HBoxModel",
       "_view_count": null,
       "_view_module": "@jupyter-widgets/controls",
       "_view_module_version": "2.0.0",
       "_view_name": "HBoxView",
       "box_style": "",
       "children": [
        "IPY_MODEL_d1712e9f50ba4662b19aa3c76c39337a",
        "IPY_MODEL_ea2e46fbc82d4188a8a98bb5284e15c3"
       ],
       "layout": "IPY_MODEL_fd504e22d0e34cd8a430afcb32d13239",
       "tabbable": null,
       "tooltip": null
      }
     },
     "ea2e46fbc82d4188a8a98bb5284e15c3": {
      "model_module": "@jupyter-widgets/output",
      "model_module_version": "1.0.0",
      "model_name": "OutputModel",
      "state": {
       "_dom_classes": [],
       "_model_module": "@jupyter-widgets/output",
       "_model_module_version": "1.0.0",
       "_model_name": "OutputModel",
       "_view_count": null,
       "_view_module": "@jupyter-widgets/output",
       "_view_module_version": "1.0.0",
       "_view_name": "OutputView",
       "layout": "IPY_MODEL_136f758853eb4e41bddbcbf47b7145e0",
       "msg_id": "",
       "outputs": [
        {
         "data": {
          "text/markdown": "`lp_resource_state_symbolic`",
          "text/plain": "<IPython.core.display.Markdown object>"
         },
         "metadata": {},
         "output_type": "display_data"
        },
        {
         "data": {
          "image/svg+xml": "<svg xmlns=\"http://www.w3.org/2000/svg\" xmlns:xlink=\"http://www.w3.org/1999/xlink\" width=\"266pt\" height=\"54pt\" viewBox=\"0.00 0.00 266.00 54.00\">\n<g id=\"graph0\" class=\"graph\" transform=\"scale(1 1) rotate(0) translate(4 50)\">\n<title>my_graph</title>\n<polygon fill=\"white\" stroke=\"transparent\" points=\"-4,4 -4,-50 262,-50 262,4 -4,4\"/>\n<!-- m_G1 -->\n<g id=\"node1\" class=\"node\">\n<title>m_G1</title>\n<text text-anchor=\"middle\" x=\"27\" y=\"-14.3\" font-family=\"Times,serif\" font-size=\"14.00\">m</text>\n</g>\n<!-- LPResourceState -->\n<g id=\"node2\" class=\"node\">\n<title>LPResourceState</title>\n<polygon fill=\"none\" stroke=\"black\" points=\"91,-29 91,-46 167,-46 167,-29 91,-29\"/>\n<text text-anchor=\"start\" x=\"94\" y=\"-35\" font-family=\"Times,serif\" font-size=\"10.00\">LPResourceState</text>\n<polygon fill=\"none\" stroke=\"black\" points=\"91,-8 91,-29 167,-29 167,-8 91,-8\"/>\n<text text-anchor=\"start\" x=\"123\" y=\"-14.8\" font-family=\"Times,serif\" font-size=\"14.00\">m</text>\n</g>\n<!-- m_G1&#45;&gt;LPResourceState -->\n<g id=\"edge1\" class=\"edge\">\n<title>m_G1:e-&gt;LPResourceState:w</title>\n<path fill=\"none\" stroke=\"black\" d=\"M54,-18C69.67,-18 74.14,-18 88.77,-18\"/>\n<ellipse fill=\"black\" stroke=\"black\" cx=\"90\" cy=\"-18\" rx=\"1\" ry=\"1\"/>\n<text text-anchor=\"middle\" x=\"72.5\" y=\"-21\" font-family=\"Times,serif\" font-size=\"10.00\">n</text>\n</g>\n<!-- m_G0 -->\n<g id=\"node3\" class=\"node\">\n<title>m_G0</title>\n<text text-anchor=\"middle\" x=\"231\" y=\"-14.3\" font-family=\"Times,serif\" font-size=\"14.00\">m</text>\n</g>\n<!-- LPResourceState&#45;&gt;m_G0 -->\n<g id=\"edge2\" class=\"edge\">\n<title>LPResourceState:e-&gt;m_G0:w</title>\n<path fill=\"none\" stroke=\"black\" d=\"M167,-18C182.67,-18 187.14,-18 201.77,-18\"/>\n<ellipse fill=\"black\" stroke=\"black\" cx=\"203\" cy=\"-18\" rx=\"1\" ry=\"1\"/>\n<text text-anchor=\"middle\" x=\"185.5\" y=\"-21\" font-family=\"Times,serif\" font-size=\"10.00\">n</text>\n</g>\n</g>\n</svg>",
          "text/plain": "<IPython.core.display.SVG object>"
         },
         "metadata": {},
         "output_type": "display_data"
        }
       ],
       "tabbable": null,
       "tooltip": null
      }
     },
     "f9e34b8c61354bfc8883cc0f0bcef77f": {
      "model_module": "@jupyter-widgets/base",
      "model_module_version": "2.0.0",
      "model_name": "LayoutModel",
      "state": {
       "_model_module": "@jupyter-widgets/base",
       "_model_module_version": "2.0.0",
       "_model_name": "LayoutModel",
       "_view_count": null,
       "_view_module": "@jupyter-widgets/base",
       "_view_module_version": "2.0.0",
       "_view_name": "LayoutView",
       "align_content": null,
       "align_items": null,
       "align_self": null,
       "border_bottom": null,
       "border_left": null,
       "border_right": null,
       "border_top": null,
       "bottom": null,
       "display": null,
       "flex": null,
       "flex_flow": null,
       "grid_area": null,
       "grid_auto_columns": null,
       "grid_auto_flow": null,
       "grid_auto_rows": null,
       "grid_column": null,
       "grid_gap": null,
       "grid_row": null,
       "grid_template_areas": null,
       "grid_template_columns": null,
       "grid_template_rows": null,
       "height": null,
       "justify_content": null,
       "justify_items": null,
       "left": null,
       "margin": null,
       "max_height": null,
       "max_width": null,
       "min_height": null,
       "min_width": null,
       "object_fit": null,
       "object_position": null,
       "order": null,
       "overflow": null,
       "padding": null,
       "right": null,
       "top": null,
       "visibility": null,
       "width": null
      }
     },
     "fd504e22d0e34cd8a430afcb32d13239": {
      "model_module": "@jupyter-widgets/base",
      "model_module_version": "2.0.0",
      "model_name": "LayoutModel",
      "state": {
       "_model_module": "@jupyter-widgets/base",
       "_model_module_version": "2.0.0",
       "_model_name": "LayoutModel",
       "_view_count": null,
       "_view_module": "@jupyter-widgets/base",
       "_view_module_version": "2.0.0",
       "_view_name": "LayoutView",
       "align_content": null,
       "align_items": null,
       "align_self": null,
       "border_bottom": null,
       "border_left": null,
       "border_right": null,
       "border_top": null,
       "bottom": null,
       "display": null,
       "flex": null,
       "flex_flow": null,
       "grid_area": null,
       "grid_auto_columns": null,
       "grid_auto_flow": null,
       "grid_auto_rows": null,
       "grid_column": null,
       "grid_gap": null,
       "grid_row": null,
       "grid_template_areas": null,
       "grid_template_columns": null,
       "grid_template_rows": null,
       "height": null,
       "justify_content": null,
       "justify_items": null,
       "left": null,
       "margin": null,
       "max_height": null,
       "max_width": null,
       "min_height": null,
       "min_width": null,
       "object_fit": null,
       "object_position": null,
       "order": null,
       "overflow": null,
       "padding": null,
       "right": null,
       "top": null,
       "visibility": null,
       "width": null
      }
     }
    },
    "version_major": 2,
    "version_minor": 0
   }
  }
 },
 "nbformat": 4,
 "nbformat_minor": 5
}
