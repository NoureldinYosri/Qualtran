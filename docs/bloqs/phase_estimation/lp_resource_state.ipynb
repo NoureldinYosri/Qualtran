{
 "cells": [
  {
   "cell_type": "markdown",
   "id": "84254116",
   "metadata": {
    "cq.autogen": "title_cell"
   },
   "source": [
    "# Optimal resource states for Phase Estimation by A. Luis and J. Peřina\n",
    "\n",
    "Resource states proposed by A. Luis and J. Peřina (1996) for optimal phase measurements"
   ]
  },
  {
   "cell_type": "code",
   "execution_count": 1,
   "id": "911d8f72",
   "metadata": {
    "cq.autogen": "top_imports"
   },
   "outputs": [],
   "source": [
    "from qualtran import Bloq, CompositeBloq, BloqBuilder, Signature, Register\n",
    "from qualtran import QBit, QInt, QUInt, QAny\n",
    "from qualtran.drawing import show_bloq, show_call_graph, show_counts_sigma\n",
    "from typing import *\n",
    "import numpy as np\n",
    "import sympy\n",
    "import cirq"
   ]
  },
  {
   "cell_type": "markdown",
   "id": "88cd4ee5",
   "metadata": {
    "cq.autogen": "LPRSInterimPrep.bloq_doc.md"
   },
   "source": [
    "## `LPRSInterimPrep`\n",
    "Helper Bloq to prepare an intermediate resource state which can be used in AA\n",
    "\n",
    "Specifically, this prepares the state\n",
    "\n",
    "$$\n",
    "    \\sqrt{\\frac{1}{2^{m}}}\\sum_{n=0}^{2^m - 1}\\left(\\cos{\\left(\\frac{\\pi(n+1)}{2^m+1}\\right)}\n",
    "    |n\\rangle|0\\rangle + i\\sin{\\left(\\frac{\\pi(n+1)}{2^m+1}\\right)}|n\\rangle|1\\rangle\\right)\n",
    "$$\n",
    "\n",
    "This is the state obtained after applying the Hadamard on the flag qubit as described in\n",
    "Eq 19 of https://arxiv.org/pdf/1805.03662.pdf, which can then be used in a single round of\n",
    "Amplitude Amplification to boost the amplitude of desired resource state to 1."
   ]
  },
  {
   "cell_type": "code",
   "execution_count": 2,
   "id": "14b96f3c",
   "metadata": {
    "cq.autogen": "LPRSInterimPrep.bloq_doc.py"
   },
   "outputs": [],
   "source": [
    "from qualtran.bloqs.phase_estimation.lp_resource_state import LPRSInterimPrep"
   ]
  },
  {
   "cell_type": "markdown",
   "id": "3010bc2b",
   "metadata": {
    "cq.autogen": "LPRSInterimPrep.example_instances.md"
   },
   "source": [
    "### Example Instances"
   ]
  },
  {
   "cell_type": "code",
   "execution_count": 3,
   "id": "e464fe0a",
   "metadata": {
    "cq.autogen": "LPRSInterimPrep.lprs_interim_prep"
   },
   "outputs": [],
   "source": [
    "lprs_interim_prep = LPRSInterimPrep(5)"
   ]
  },
  {
   "cell_type": "markdown",
   "id": "3e0b5c82",
   "metadata": {
    "cq.autogen": "LPRSInterimPrep.graphical_signature.md"
   },
   "source": [
    "#### Graphical Signature"
   ]
  },
  {
   "cell_type": "code",
   "execution_count": 4,
   "id": "0765c81a",
   "metadata": {
    "cq.autogen": "LPRSInterimPrep.graphical_signature.py"
   },
   "outputs": [
    {
     "data": {
      "application/vnd.jupyter.widget-view+json": {
       "model_id": "841d454c1be448bf8df88933bac3f27a",
       "version_major": 2,
       "version_minor": 0
      },
      "text/plain": [
       "HBox(children=(Output(outputs=({'output_type': 'display_data', 'data': {'text/plain': '<IPython.core.display.M…"
      ]
     },
     "metadata": {},
     "output_type": "display_data"
    }
   ],
   "source": [
    "from qualtran.drawing import show_bloqs\n",
    "show_bloqs([lprs_interim_prep],\n",
    "           ['`lprs_interim_prep`'])"
   ]
  },
  {
   "cell_type": "markdown",
   "id": "95cefe6c",
   "metadata": {
    "cq.autogen": "LPRSInterimPrep.call_graph.md"
   },
   "source": [
    "### Call Graph"
   ]
  },
  {
   "cell_type": "code",
   "execution_count": 5,
   "id": "2f4c201a",
   "metadata": {
    "cq.autogen": "LPRSInterimPrep.call_graph.py"
   },
   "outputs": [
    {
     "data": {
      "image/svg+xml": [
       "<svg xmlns=\"http://www.w3.org/2000/svg\" xmlns:xlink=\"http://www.w3.org/1999/xlink\" width=\"1787pt\" height=\"131pt\" viewBox=\"0.00 0.00 1786.50 131.00\">\n",
       "<g id=\"graph0\" class=\"graph\" transform=\"scale(1 1) rotate(0) translate(4 127)\">\n",
       "<title>counts</title>\n",
       "<polygon fill=\"white\" stroke=\"transparent\" points=\"-4,4 -4,-127 1782.5,-127 1782.5,4 -4,4\"/>\n",
       "<!-- b0 -->\n",
       "<g id=\"node1\" class=\"node\">\n",
       "<title>b0</title>\n",
       "<polygon fill=\"none\" stroke=\"black\" points=\"1061,-123 924,-123 924,-87 1061,-87 1061,-123\"/>\n",
       "<text text-anchor=\"start\" x=\"943.5\" y=\"-106.8\" font-family=\"Times,serif\" font-size=\"14.00\">LPRSInterimPrep</text>\n",
       "<text text-anchor=\"start\" x=\"932\" y=\"-96\" font-family=\"monospace\" font-size=\"10.00\">bitsize=5, eps=1e-11</text>\n",
       "</g>\n",
       "<!-- b1 -->\n",
       "<g id=\"node2\" class=\"node\">\n",
       "<title>b1</title>\n",
       "<polygon fill=\"none\" stroke=\"black\" points=\"281,-36 0,-36 0,0 281,0 281,-36\"/>\n",
       "<text text-anchor=\"start\" x=\"123.5\" y=\"-19.8\" font-family=\"Times,serif\" font-size=\"14.00\">C[Rz]</text>\n",
       "<text text-anchor=\"start\" x=\"8\" y=\"-9\" font-family=\"monospace\" font-size=\"10.00\">subbloq=Rz(angle ..., ctrl_spec=CtrlSpec ...</text>\n",
       "</g>\n",
       "<!-- b0&#45;&gt;b1 -->\n",
       "<g id=\"edge1\" class=\"edge\">\n",
       "<title>b0-&gt;b1</title>\n",
       "<path fill=\"none\" stroke=\"black\" d=\"M923.61,-97.73C799.44,-86.35 529.58,-61.21 291.51,-36.2\"/>\n",
       "<polygon fill=\"black\" stroke=\"black\" points=\"291.58,-32.69 281.27,-35.13 290.85,-39.65 291.58,-32.69\"/>\n",
       "<text text-anchor=\"middle\" x=\"621\" y=\"-57.8\" font-family=\"Times,serif\" font-size=\"14.00\">1</text>\n",
       "</g>\n",
       "<!-- b2 -->\n",
       "<g id=\"node3\" class=\"node\">\n",
       "<title>b2</title>\n",
       "<polygon fill=\"none\" stroke=\"black\" points=\"580,-36 299,-36 299,0 580,0 580,-36\"/>\n",
       "<text text-anchor=\"start\" x=\"422.5\" y=\"-19.8\" font-family=\"Times,serif\" font-size=\"14.00\">C[Rz]</text>\n",
       "<text text-anchor=\"start\" x=\"307\" y=\"-9\" font-family=\"monospace\" font-size=\"10.00\">subbloq=Rz(angle ..., ctrl_spec=CtrlSpec ...</text>\n",
       "</g>\n",
       "<!-- b0&#45;&gt;b2 -->\n",
       "<g id=\"edge2\" class=\"edge\">\n",
       "<title>b0-&gt;b2</title>\n",
       "<path fill=\"none\" stroke=\"black\" d=\"M923.86,-93.45C833.1,-79.5 671.66,-54.69 560.27,-37.56\"/>\n",
       "<polygon fill=\"black\" stroke=\"black\" points=\"560.74,-34.09 550.32,-36.03 559.68,-41.01 560.74,-34.09\"/>\n",
       "<text text-anchor=\"middle\" x=\"753\" y=\"-57.8\" font-family=\"Times,serif\" font-size=\"14.00\">1</text>\n",
       "</g>\n",
       "<!-- b3 -->\n",
       "<g id=\"node4\" class=\"node\">\n",
       "<title>b3</title>\n",
       "<polygon fill=\"none\" stroke=\"black\" points=\"879,-36 598,-36 598,0 879,0 879,-36\"/>\n",
       "<text text-anchor=\"start\" x=\"721.5\" y=\"-19.8\" font-family=\"Times,serif\" font-size=\"14.00\">C[Rz]</text>\n",
       "<text text-anchor=\"start\" x=\"606\" y=\"-9\" font-family=\"monospace\" font-size=\"10.00\">subbloq=Rz(angle ..., ctrl_spec=CtrlSpec ...</text>\n",
       "</g>\n",
       "<!-- b0&#45;&gt;b3 -->\n",
       "<g id=\"edge3\" class=\"edge\">\n",
       "<title>b0-&gt;b3</title>\n",
       "<path fill=\"none\" stroke=\"black\" d=\"M941.4,-86.9C900.33,-73.15 842.51,-53.81 799.1,-39.28\"/>\n",
       "<polygon fill=\"black\" stroke=\"black\" points=\"800.11,-35.93 789.51,-36.07 797.89,-42.56 800.11,-35.93\"/>\n",
       "<text text-anchor=\"middle\" x=\"885\" y=\"-57.8\" font-family=\"Times,serif\" font-size=\"14.00\">1</text>\n",
       "</g>\n",
       "<!-- b4 -->\n",
       "<g id=\"node5\" class=\"node\">\n",
       "<title>b4</title>\n",
       "<polygon fill=\"none\" stroke=\"black\" points=\"1088,-36 897,-36 897,0 1088,0 1088,-36\"/>\n",
       "<text text-anchor=\"start\" x=\"984.5\" y=\"-19.8\" font-family=\"Times,serif\" font-size=\"14.00\">Rz</text>\n",
       "<text text-anchor=\"start\" x=\"905\" y=\"-9\" font-family=\"monospace\" font-size=\"10.00\">angle=-0.19039 ..., eps=1e-11</text>\n",
       "</g>\n",
       "<!-- b0&#45;&gt;b4 -->\n",
       "<g id=\"edge4\" class=\"edge\">\n",
       "<title>b0-&gt;b4</title>\n",
       "<path fill=\"none\" stroke=\"black\" d=\"M992.5,-86.8C992.5,-75.16 992.5,-59.55 992.5,-46.24\"/>\n",
       "<polygon fill=\"black\" stroke=\"black\" points=\"996,-46.18 992.5,-36.18 989,-46.18 996,-46.18\"/>\n",
       "<text text-anchor=\"middle\" x=\"996\" y=\"-57.8\" font-family=\"Times,serif\" font-size=\"14.00\">1</text>\n",
       "</g>\n",
       "<!-- b5 -->\n",
       "<g id=\"node6\" class=\"node\">\n",
       "<title>b5</title>\n",
       "<polygon fill=\"none\" stroke=\"black\" points=\"1387,-36 1106,-36 1106,0 1387,0 1387,-36\"/>\n",
       "<text text-anchor=\"start\" x=\"1229.5\" y=\"-19.8\" font-family=\"Times,serif\" font-size=\"14.00\">C[Rz]</text>\n",
       "<text text-anchor=\"start\" x=\"1114\" y=\"-9\" font-family=\"monospace\" font-size=\"10.00\">subbloq=Rz(angle ..., ctrl_spec=CtrlSpec ...</text>\n",
       "</g>\n",
       "<!-- b0&#45;&gt;b5 -->\n",
       "<g id=\"edge5\" class=\"edge\">\n",
       "<title>b0-&gt;b5</title>\n",
       "<path fill=\"none\" stroke=\"black\" d=\"M1043.6,-86.9C1084.67,-73.15 1142.49,-53.81 1185.9,-39.28\"/>\n",
       "<polygon fill=\"black\" stroke=\"black\" points=\"1187.11,-42.56 1195.49,-36.07 1184.89,-35.93 1187.11,-42.56\"/>\n",
       "<text text-anchor=\"middle\" x=\"1139\" y=\"-57.8\" font-family=\"Times,serif\" font-size=\"14.00\">1</text>\n",
       "</g>\n",
       "<!-- b6 -->\n",
       "<g id=\"node7\" class=\"node\">\n",
       "<title>b6</title>\n",
       "<polygon fill=\"none\" stroke=\"black\" points=\"1686,-36 1405,-36 1405,0 1686,0 1686,-36\"/>\n",
       "<text text-anchor=\"start\" x=\"1528.5\" y=\"-19.8\" font-family=\"Times,serif\" font-size=\"14.00\">C[Rz]</text>\n",
       "<text text-anchor=\"start\" x=\"1413\" y=\"-9\" font-family=\"monospace\" font-size=\"10.00\">subbloq=Rz(angle ..., ctrl_spec=CtrlSpec ...</text>\n",
       "</g>\n",
       "<!-- b0&#45;&gt;b6 -->\n",
       "<g id=\"edge6\" class=\"edge\">\n",
       "<title>b0-&gt;b6</title>\n",
       "<path fill=\"none\" stroke=\"black\" d=\"M1061.14,-93.45C1151.9,-79.5 1313.34,-54.69 1424.73,-37.56\"/>\n",
       "<polygon fill=\"black\" stroke=\"black\" points=\"1425.32,-41.01 1434.68,-36.03 1424.26,-34.09 1425.32,-41.01\"/>\n",
       "<text text-anchor=\"middle\" x=\"1306\" y=\"-57.8\" font-family=\"Times,serif\" font-size=\"14.00\">1</text>\n",
       "</g>\n",
       "<!-- b7 -->\n",
       "<g id=\"node8\" class=\"node\">\n",
       "<title>b7</title>\n",
       "<polygon fill=\"none\" stroke=\"black\" points=\"1778.5,-36 1704.5,-36 1704.5,0 1778.5,0 1778.5,-36\"/>\n",
       "<text text-anchor=\"start\" x=\"1712.5\" y=\"-14.3\" font-family=\"Times,serif\" font-size=\"14.00\">Hadamard</text>\n",
       "</g>\n",
       "<!-- b0&#45;&gt;b7 -->\n",
       "<g id=\"edge7\" class=\"edge\">\n",
       "<title>b0-&gt;b7</title>\n",
       "<path fill=\"none\" stroke=\"black\" d=\"M1061.16,-103.03C1187.87,-99.98 1466.36,-87.45 1694.5,-36 1694.6,-35.98 1694.7,-35.95 1694.8,-35.93\"/>\n",
       "<polygon fill=\"black\" stroke=\"black\" points=\"1695.53,-39.36 1704.3,-33.41 1693.73,-32.59 1695.53,-39.36\"/>\n",
       "<text text-anchor=\"middle\" x=\"1605\" y=\"-57.8\" font-family=\"Times,serif\" font-size=\"14.00\">7</text>\n",
       "</g>\n",
       "</g>\n",
       "</svg>"
      ],
      "text/plain": [
       "<IPython.core.display.SVG object>"
      ]
     },
     "metadata": {},
     "output_type": "display_data"
    },
    {
     "data": {
      "text/markdown": [
       "#### Counts totals:\n",
       " - `C[Rz(-0.0606060606060606π)]`: 1\n",
       " - `C[Rz(-0.1212121212121212π)]`: 1\n",
       " - `C[Rz(-0.2424242424242424π)]`: 1\n",
       " - `C[Rz(-0.4848484848484848π)]`: 1\n",
       " - `C[Rz(-0.9696969696969696π)]`: 1\n",
       " - `Hadamard()`: 7\n",
       " - `Rz(-0.0606060606060606π)`: 1"
      ],
      "text/plain": [
       "<IPython.core.display.Markdown object>"
      ]
     },
     "metadata": {},
     "output_type": "display_data"
    }
   ],
   "source": [
    "from qualtran.resource_counting.generalizers import ignore_split_join\n",
    "lprs_interim_prep_g, lprs_interim_prep_sigma = lprs_interim_prep.call_graph(max_depth=1, generalizer=ignore_split_join)\n",
    "show_call_graph(lprs_interim_prep_g)\n",
    "show_counts_sigma(lprs_interim_prep_sigma)"
   ]
  },
  {
   "cell_type": "markdown",
   "id": "a7241381",
   "metadata": {
    "cq.autogen": "LPResourceState.bloq_doc.md"
   },
   "source": [
    "## `LPResourceState`\n",
    "Prepares optimal resource state $\\chi_{m}$ proposed by A. Luis and J. Peřina (1996)\n",
    "\n",
    "Uses a single round of amplitude amplification, as described in Ref 2, to prepare the\n",
    "resource state from Ref 1 described as\n",
    "\n",
    "$$\n",
    "\\chi_{m} = \\sqrt{\\frac{2}{2^m + 1}}\\sum_{n=0}^{2^m - 1}\\sin{\\frac{\\pi(n+1)}{2^m+1}}|n\\rangle\n",
    "$$\n",
    "\n",
    "#### Parameters\n",
    " - `bitsize`: The size of the phase register to prepare the resource state on.  \n",
    "\n",
    "#### References\n",
    " - [Optimum phase-shift estimation and the quantum description of the phase difference](https://journals.aps.org/pra/abstract/10.1103/PhysRevA.54.4564). \n",
    " - [Encoding Electronic Spectra in Quantum Circuits with Linear T Complexity](https://arxiv.org/abs/1805.03662). Section II-B\n"
   ]
  },
  {
   "cell_type": "code",
   "execution_count": 6,
   "id": "6c5516d2",
   "metadata": {
    "cq.autogen": "LPResourceState.bloq_doc.py"
   },
   "outputs": [],
   "source": [
    "from qualtran.bloqs.phase_estimation.lp_resource_state import LPResourceState"
   ]
  },
  {
   "cell_type": "markdown",
   "id": "cfbba478",
   "metadata": {
    "cq.autogen": "LPResourceState.example_instances.md"
   },
   "source": [
    "### Example Instances"
   ]
  },
  {
   "cell_type": "code",
   "execution_count": 7,
   "id": "c240f76f",
   "metadata": {
    "cq.autogen": "LPResourceState.lp_resource_state_small"
   },
   "outputs": [],
   "source": [
    "lp_resource_state_small = LPResourceState(5)"
   ]
  },
  {
   "cell_type": "code",
   "execution_count": 8,
   "id": "dca73bc2",
   "metadata": {
    "cq.autogen": "LPResourceState.lp_resource_state_symbolic"
   },
   "outputs": [],
   "source": [
    "import sympy\n",
    "\n",
    "# Note: Symbolic callgraphs currently don't work due to\n",
    "# https://github.com/quantumlib/Qualtran/issues/786\n",
    "\n",
    "lp_resource_state_symbolic = LPResourceState(sympy.Symbol('n'))"
   ]
  },
  {
   "cell_type": "markdown",
   "id": "88c02acd",
   "metadata": {
    "cq.autogen": "LPResourceState.graphical_signature.md"
   },
   "source": [
    "#### Graphical Signature"
   ]
  },
  {
   "cell_type": "code",
   "execution_count": 9,
   "id": "68ccc4f5",
   "metadata": {
    "cq.autogen": "LPResourceState.graphical_signature.py"
   },
   "outputs": [
    {
     "data": {
      "application/vnd.jupyter.widget-view+json": {
       "model_id": "34939183a1484ec7991633c4716a51dc",
       "version_major": 2,
       "version_minor": 0
      },
      "text/plain": [
       "HBox(children=(Output(outputs=({'output_type': 'display_data', 'data': {'text/plain': '<IPython.core.display.M…"
      ]
     },
     "metadata": {},
     "output_type": "display_data"
    }
   ],
   "source": [
    "from qualtran.drawing import show_bloqs\n",
    "show_bloqs([lp_resource_state_small, lp_resource_state_symbolic],\n",
    "           ['`lp_resource_state_small`', '`lp_resource_state_symbolic`'])"
   ]
  },
  {
   "cell_type": "markdown",
   "id": "3784b8e4",
   "metadata": {
    "cq.autogen": "LPResourceState.call_graph.md"
   },
   "source": [
    "### Call Graph"
   ]
  },
  {
   "cell_type": "code",
   "execution_count": 10,
   "id": "ce116ae5",
   "metadata": {
    "cq.autogen": "LPResourceState.call_graph.py"
   },
   "outputs": [
    {
     "data": {
      "image/svg+xml": [
       "<svg xmlns=\"http://www.w3.org/2000/svg\" xmlns:xlink=\"http://www.w3.org/1999/xlink\" width=\"1299pt\" height=\"131pt\" viewBox=\"0.00 0.00 1299.00 131.00\">\n",
       "<g id=\"graph0\" class=\"graph\" transform=\"scale(1 1) rotate(0) translate(4 127)\">\n",
       "<title>counts</title>\n",
       "<polygon fill=\"white\" stroke=\"transparent\" points=\"-4,4 -4,-127 1295,-127 1295,4 -4,4\"/>\n",
       "<!-- b0 -->\n",
       "<g id=\"node1\" class=\"node\">\n",
       "<title>b0</title>\n",
       "<polygon fill=\"none\" stroke=\"black\" points=\"755.5,-123 645.5,-123 645.5,-87 755.5,-87 755.5,-123\"/>\n",
       "<text text-anchor=\"start\" x=\"653.5\" y=\"-106.8\" font-family=\"Times,serif\" font-size=\"14.00\">LPResourceState</text>\n",
       "<text text-anchor=\"start\" x=\"673\" y=\"-96\" font-family=\"monospace\" font-size=\"10.00\">bitsize=5</text>\n",
       "</g>\n",
       "<!-- b1 -->\n",
       "<g id=\"node2\" class=\"node\">\n",
       "<title>b1</title>\n",
       "<polygon fill=\"none\" stroke=\"black\" points=\"233,-36 0,-36 0,0 233,0 233,-36\"/>\n",
       "<text text-anchor=\"start\" x=\"66.5\" y=\"-19.8\" font-family=\"Times,serif\" font-size=\"14.00\">MultiControlPauli</text>\n",
       "<text text-anchor=\"start\" x=\"8\" y=\"-9\" font-family=\"monospace\" font-size=\"10.00\">cvs=(0, 0, 0 ..., target_gate=cirq.Z</text>\n",
       "</g>\n",
       "<!-- b0&#45;&gt;b1 -->\n",
       "<g id=\"edge1\" class=\"edge\">\n",
       "<title>b0-&gt;b1</title>\n",
       "<path fill=\"none\" stroke=\"black\" d=\"M645.3,-95.97C553.73,-82.64 368.16,-55.63 243.06,-37.42\"/>\n",
       "<polygon fill=\"black\" stroke=\"black\" points=\"243.43,-33.94 233.03,-35.96 242.42,-40.86 243.43,-33.94\"/>\n",
       "<text text-anchor=\"middle\" x=\"447\" y=\"-57.8\" font-family=\"Times,serif\" font-size=\"14.00\">1</text>\n",
       "</g>\n",
       "<!-- b2 -->\n",
       "<g id=\"node3\" class=\"node\">\n",
       "<title>b2</title>\n",
       "<polygon fill=\"none\" stroke=\"black\" points=\"514,-36 251,-36 251,0 514,0 514,-36\"/>\n",
       "<text text-anchor=\"start\" x=\"349\" y=\"-19.8\" font-family=\"Times,serif\" font-size=\"14.00\">CZPowGate</text>\n",
       "<text text-anchor=\"start\" x=\"259\" y=\"-9\" font-family=\"monospace\" font-size=\"10.00\">exponent=1.0, global_shift=0.0, eps=1e-11</text>\n",
       "</g>\n",
       "<!-- b0&#45;&gt;b2 -->\n",
       "<g id=\"edge2\" class=\"edge\">\n",
       "<title>b0-&gt;b2</title>\n",
       "<path fill=\"none\" stroke=\"black\" d=\"M645.47,-89.29C593.04,-75.28 513.75,-54.08 455.95,-38.63\"/>\n",
       "<polygon fill=\"black\" stroke=\"black\" points=\"456.71,-35.21 446.14,-36.01 454.9,-41.97 456.71,-35.21\"/>\n",
       "<text text-anchor=\"middle\" x=\"565\" y=\"-57.8\" font-family=\"Times,serif\" font-size=\"14.00\">1</text>\n",
       "</g>\n",
       "<!-- b3 -->\n",
       "<g id=\"node4\" class=\"node\">\n",
       "<title>b3</title>\n",
       "<polygon fill=\"none\" stroke=\"black\" points=\"586.5,-36 532.5,-36 532.5,0 586.5,0 586.5,-36\"/>\n",
       "<text text-anchor=\"start\" x=\"541.5\" y=\"-14.3\" font-family=\"Times,serif\" font-size=\"14.00\">XGate</text>\n",
       "</g>\n",
       "<!-- b0&#45;&gt;b3 -->\n",
       "<g id=\"edge3\" class=\"edge\">\n",
       "<title>b0-&gt;b3</title>\n",
       "<path fill=\"none\" stroke=\"black\" d=\"M671.97,-86.8C649.85,-73.46 619.06,-54.91 595.29,-40.58\"/>\n",
       "<polygon fill=\"black\" stroke=\"black\" points=\"596.93,-37.48 586.56,-35.31 593.31,-43.47 596.93,-37.48\"/>\n",
       "<text text-anchor=\"middle\" x=\"642\" y=\"-57.8\" font-family=\"Times,serif\" font-size=\"14.00\">4</text>\n",
       "</g>\n",
       "<!-- b4 -->\n",
       "<g id=\"node5\" class=\"node\">\n",
       "<title>b4</title>\n",
       "<polygon fill=\"none\" stroke=\"black\" points=\"796,-36 605,-36 605,0 796,0 796,-36\"/>\n",
       "<text text-anchor=\"start\" x=\"692.5\" y=\"-19.8\" font-family=\"Times,serif\" font-size=\"14.00\">Ry</text>\n",
       "<text text-anchor=\"start\" x=\"613\" y=\"-9\" font-family=\"monospace\" font-size=\"10.00\">angle=1.540488 ..., eps=1e-11</text>\n",
       "</g>\n",
       "<!-- b0&#45;&gt;b4 -->\n",
       "<g id=\"edge4\" class=\"edge\">\n",
       "<title>b0-&gt;b4</title>\n",
       "<path fill=\"none\" stroke=\"black\" d=\"M700.5,-86.8C700.5,-75.16 700.5,-59.55 700.5,-46.24\"/>\n",
       "<polygon fill=\"black\" stroke=\"black\" points=\"704,-46.18 700.5,-36.18 697,-46.18 704,-46.18\"/>\n",
       "<text text-anchor=\"middle\" x=\"704\" y=\"-57.8\" font-family=\"Times,serif\" font-size=\"14.00\">3</text>\n",
       "</g>\n",
       "<!-- b5 -->\n",
       "<g id=\"node6\" class=\"node\">\n",
       "<title>b5</title>\n",
       "<polygon fill=\"none\" stroke=\"black\" points=\"981,-36 814,-36 814,0 981,0 981,-36\"/>\n",
       "<text text-anchor=\"start\" x=\"876.5\" y=\"-19.8\" font-family=\"Times,serif\" font-size=\"14.00\">GPhase</text>\n",
       "<text text-anchor=\"start\" x=\"822\" y=\"-9\" font-family=\"monospace\" font-size=\"10.00\">coefficient=1j, eps=1e-11</text>\n",
       "</g>\n",
       "<!-- b0&#45;&gt;b5 -->\n",
       "<g id=\"edge5\" class=\"edge\">\n",
       "<title>b0-&gt;b5</title>\n",
       "<path fill=\"none\" stroke=\"black\" d=\"M740.37,-86.8C771.58,-73.33 815.13,-54.54 848.48,-40.15\"/>\n",
       "<polygon fill=\"black\" stroke=\"black\" points=\"850.23,-43.21 858.03,-36.03 847.46,-36.78 850.23,-43.21\"/>\n",
       "<text text-anchor=\"middle\" x=\"815\" y=\"-57.8\" font-family=\"Times,serif\" font-size=\"14.00\">1</text>\n",
       "</g>\n",
       "<!-- b6 -->\n",
       "<g id=\"node7\" class=\"node\">\n",
       "<title>b6</title>\n",
       "<polygon fill=\"none\" stroke=\"black\" points=\"1136,-36 999,-36 999,0 1136,0 1136,-36\"/>\n",
       "<text text-anchor=\"start\" x=\"1015\" y=\"-19.8\" font-family=\"Times,serif\" font-size=\"14.00\">LPRSInterimPrep†</text>\n",
       "<text text-anchor=\"start\" x=\"1007\" y=\"-9\" font-family=\"monospace\" font-size=\"10.00\">subbloq=LPRSInte ...</text>\n",
       "</g>\n",
       "<!-- b0&#45;&gt;b6 -->\n",
       "<g id=\"edge6\" class=\"edge\">\n",
       "<title>b0-&gt;b6</title>\n",
       "<path fill=\"none\" stroke=\"black\" d=\"M755.84,-91.18C817.77,-76.84 918.61,-53.48 988.75,-37.24\"/>\n",
       "<polygon fill=\"black\" stroke=\"black\" points=\"989.91,-40.56 998.87,-34.9 988.33,-33.74 989.91,-40.56\"/>\n",
       "<text text-anchor=\"middle\" x=\"910\" y=\"-57.8\" font-family=\"Times,serif\" font-size=\"14.00\">1</text>\n",
       "</g>\n",
       "<!-- b7 -->\n",
       "<g id=\"node8\" class=\"node\">\n",
       "<title>b7</title>\n",
       "<polygon fill=\"none\" stroke=\"black\" points=\"1291,-36 1154,-36 1154,0 1291,0 1291,-36\"/>\n",
       "<text text-anchor=\"start\" x=\"1173.5\" y=\"-19.8\" font-family=\"Times,serif\" font-size=\"14.00\">LPRSInterimPrep</text>\n",
       "<text text-anchor=\"start\" x=\"1162\" y=\"-9\" font-family=\"monospace\" font-size=\"10.00\">bitsize=5, eps=1e-11</text>\n",
       "</g>\n",
       "<!-- b0&#45;&gt;b7 -->\n",
       "<g id=\"edge7\" class=\"edge\">\n",
       "<title>b0-&gt;b7</title>\n",
       "<path fill=\"none\" stroke=\"black\" d=\"M755.72,-96.68C837.98,-85.52 997.76,-62.88 1143.61,-36.1\"/>\n",
       "<polygon fill=\"black\" stroke=\"black\" points=\"1144.45,-39.51 1153.64,-34.25 1143.17,-32.63 1144.45,-39.51\"/>\n",
       "<text text-anchor=\"middle\" x=\"1039\" y=\"-57.8\" font-family=\"Times,serif\" font-size=\"14.00\">2</text>\n",
       "</g>\n",
       "</g>\n",
       "</svg>"
      ],
      "text/plain": [
       "<IPython.core.display.SVG object>"
      ]
     },
     "metadata": {},
     "output_type": "display_data"
    },
    {
     "data": {
      "text/markdown": [
       "#### Counts totals:\n",
       " - `1j`: 1\n",
       " - `Adjoint(subbloq=LPRSInterimPrep(bitsize=5, eps=1e-11))`: 1\n",
       " - `CZ`: 1\n",
       " - `LPRSInterimPrep(bitsize=5, eps=1e-11)`: 2\n",
       " - `MultiControlPauli(cvs=(0, 0, 0, 0, 0, 0), target_gate=cirq.Z)`: 1\n",
       " - `Ry(0.4903527690225672π)`: 3\n",
       " - `XGate()`: 4"
      ],
      "text/plain": [
       "<IPython.core.display.Markdown object>"
      ]
     },
     "metadata": {},
     "output_type": "display_data"
    }
   ],
   "source": [
    "from qualtran.resource_counting.generalizers import ignore_split_join\n",
    "lp_resource_state_small_g, lp_resource_state_small_sigma = lp_resource_state_small.call_graph(max_depth=1, generalizer=ignore_split_join)\n",
    "show_call_graph(lp_resource_state_small_g)\n",
    "show_counts_sigma(lp_resource_state_small_sigma)"
   ]
  }
 ],
 "metadata": {
  "kernelspec": {
   "display_name": "Python 3",
   "language": "python",
   "name": "python3"
  },
  "language_info": {
   "codemirror_mode": {
    "name": "ipython",
    "version": 3
   },
   "file_extension": ".py",
   "mimetype": "text/x-python",
   "name": "python",
   "nbconvert_exporter": "python",
   "pygments_lexer": "ipython3",
   "version": "3.11.8"
  },
  "widgets": {
   "application/vnd.jupyter.widget-state+json": {
    "state": {
     "22f4832a814f48b7a5e1b54fca2a4642": {
      "model_module": "@jupyter-widgets/output",
      "model_module_version": "1.0.0",
      "model_name": "OutputModel",
      "state": {
       "_dom_classes": [],
       "_model_module": "@jupyter-widgets/output",
       "_model_module_version": "1.0.0",
       "_model_name": "OutputModel",
       "_view_count": null,
       "_view_module": "@jupyter-widgets/output",
       "_view_module_version": "1.0.0",
       "_view_name": "OutputView",
       "layout": "IPY_MODEL_284eb3146f2d4b91b064a12aa9ef4cff",
       "msg_id": "",
       "outputs": [
        {
         "data": {
          "text/markdown": "`lprs_interim_prep`",
          "text/plain": "<IPython.core.display.Markdown object>"
         },
         "metadata": {},
         "output_type": "display_data"
        },
        {
         "data": {
          "image/svg+xml": "<svg xmlns=\"http://www.w3.org/2000/svg\" xmlns:xlink=\"http://www.w3.org/1999/xlink\" width=\"220pt\" height=\"98pt\" viewBox=\"0.00 0.00 220.00 98.00\">\n<g id=\"graph0\" class=\"graph\" transform=\"scale(1 1) rotate(0) translate(4 94)\">\n<title>my_graph</title>\n<polygon fill=\"white\" stroke=\"transparent\" points=\"-4,4 -4,-94 216,-94 216,4 -4,4\"/>\n<!-- m_G5 -->\n<g id=\"node1\" class=\"node\">\n<title>m_G5</title>\n<text text-anchor=\"middle\" x=\"27\" y=\"-68.3\" font-family=\"Times,serif\" font-size=\"14.00\">m</text>\n</g>\n<!-- LPRSInterimPrep -->\n<g id=\"node3\" class=\"node\">\n<title>LPRSInterimPrep</title>\n<polygon fill=\"none\" stroke=\"black\" points=\"91,-66 91,-83 121,-83 121,-66 91,-66\"/>\n<text text-anchor=\"start\" x=\"94\" y=\"-72\" font-family=\"Times,serif\" font-size=\"10.00\">LPRS</text>\n<polygon fill=\"none\" stroke=\"black\" points=\"91,-45 91,-66 121,-66 121,-45 91,-45\"/>\n<text text-anchor=\"start\" x=\"100\" y=\"-51.8\" font-family=\"Times,serif\" font-size=\"14.00\">m</text>\n<polygon fill=\"none\" stroke=\"black\" points=\"91,-24 91,-45 121,-45 121,-24 91,-24\"/>\n<text text-anchor=\"start\" x=\"96.5\" y=\"-30.8\" font-family=\"Times,serif\" font-size=\"14.00\">anc</text>\n</g>\n<!-- m_G5&#45;&gt;LPRSInterimPrep -->\n<g id=\"edge1\" class=\"edge\">\n<title>m_G5:e-&gt;LPRSInterimPrep:w</title>\n<path fill=\"none\" stroke=\"black\" d=\"M54,-72C71.22,-72 72.97,-57.23 88.98,-56.07\"/>\n<ellipse fill=\"black\" stroke=\"black\" cx=\"90\" cy=\"-56.04\" rx=\"1\" ry=\"1\"/>\n<text text-anchor=\"middle\" x=\"72.5\" y=\"-67\" font-family=\"Times,serif\" font-size=\"10.00\">5</text>\n</g>\n<!-- anc_G3 -->\n<g id=\"node2\" class=\"node\">\n<title>anc_G3</title>\n<text text-anchor=\"middle\" x=\"27\" y=\"-14.3\" font-family=\"Times,serif\" font-size=\"14.00\">anc</text>\n</g>\n<!-- anc_G3&#45;&gt;LPRSInterimPrep -->\n<g id=\"edge2\" class=\"edge\">\n<title>anc_G3:e-&gt;LPRSInterimPrep:w</title>\n<path fill=\"none\" stroke=\"black\" d=\"M54,-18C71.22,-18 72.97,-32.77 88.98,-33.93\"/>\n<ellipse fill=\"black\" stroke=\"black\" cx=\"90\" cy=\"-33.96\" rx=\"1\" ry=\"1\"/>\n<text text-anchor=\"middle\" x=\"72.5\" y=\"-29\" font-family=\"Times,serif\" font-size=\"10.00\">1</text>\n</g>\n<!-- m_G0 -->\n<g id=\"node4\" class=\"node\">\n<title>m_G0</title>\n<text text-anchor=\"middle\" x=\"185\" y=\"-68.3\" font-family=\"Times,serif\" font-size=\"14.00\">m</text>\n</g>\n<!-- LPRSInterimPrep&#45;&gt;m_G0 -->\n<g id=\"edge3\" class=\"edge\">\n<title>LPRSInterimPrep:e-&gt;m_G0:w</title>\n<path fill=\"none\" stroke=\"black\" d=\"M121,-56C138.22,-56 139.97,-70.77 155.98,-71.93\"/>\n<ellipse fill=\"black\" stroke=\"black\" cx=\"157\" cy=\"-71.96\" rx=\"1\" ry=\"1\"/>\n<text text-anchor=\"middle\" x=\"139.5\" y=\"-67\" font-family=\"Times,serif\" font-size=\"10.00\">5</text>\n</g>\n<!-- anc_G4 -->\n<g id=\"node5\" class=\"node\">\n<title>anc_G4</title>\n<text text-anchor=\"middle\" x=\"185\" y=\"-14.3\" font-family=\"Times,serif\" font-size=\"14.00\">anc</text>\n</g>\n<!-- LPRSInterimPrep&#45;&gt;anc_G4 -->\n<g id=\"edge4\" class=\"edge\">\n<title>LPRSInterimPrep:e-&gt;anc_G4:w</title>\n<path fill=\"none\" stroke=\"black\" d=\"M121,-34C138.22,-34 139.97,-19.23 155.98,-18.07\"/>\n<ellipse fill=\"black\" stroke=\"black\" cx=\"157\" cy=\"-18.04\" rx=\"1\" ry=\"1\"/>\n<text text-anchor=\"middle\" x=\"139.5\" y=\"-29\" font-family=\"Times,serif\" font-size=\"10.00\">1</text>\n</g>\n</g>\n</svg>",
          "text/plain": "<IPython.core.display.SVG object>"
         },
         "metadata": {},
         "output_type": "display_data"
        }
       ],
       "tabbable": null,
       "tooltip": null
      }
     },
     "25296fb00b1b47a79e0340ca133176ad": {
      "model_module": "@jupyter-widgets/output",
      "model_module_version": "1.0.0",
      "model_name": "OutputModel",
      "state": {
       "_dom_classes": [],
       "_model_module": "@jupyter-widgets/output",
       "_model_module_version": "1.0.0",
       "_model_name": "OutputModel",
       "_view_count": null,
       "_view_module": "@jupyter-widgets/output",
       "_view_module_version": "1.0.0",
       "_view_name": "OutputView",
       "layout": "IPY_MODEL_6c5b67c2f3bd413fa37db5dbae565e2c",
       "msg_id": "",
       "outputs": [
        {
         "data": {
          "text/markdown": "`lp_resource_state_small`",
          "text/plain": "<IPython.core.display.Markdown object>"
         },
         "metadata": {},
         "output_type": "display_data"
        },
        {
         "data": {
          "image/svg+xml": "<svg xmlns=\"http://www.w3.org/2000/svg\" xmlns:xlink=\"http://www.w3.org/1999/xlink\" width=\"241pt\" height=\"54pt\" viewBox=\"0.00 0.00 241.00 54.00\">\n<g id=\"graph0\" class=\"graph\" transform=\"scale(1 1) rotate(0) translate(4 50)\">\n<title>my_graph</title>\n<polygon fill=\"white\" stroke=\"transparent\" points=\"-4,4 -4,-50 237,-50 237,4 -4,4\"/>\n<!-- m_G0 -->\n<g id=\"node1\" class=\"node\">\n<title>m_G0</title>\n<text text-anchor=\"middle\" x=\"27\" y=\"-14.3\" font-family=\"Times,serif\" font-size=\"14.00\">m</text>\n</g>\n<!-- LPResourceState -->\n<g id=\"node2\" class=\"node\">\n<title>LPResourceState</title>\n<polygon fill=\"none\" stroke=\"black\" points=\"91.5,-29 91.5,-46 142.5,-46 142.5,-29 91.5,-29\"/>\n<text text-anchor=\"start\" x=\"94.5\" y=\"-35\" font-family=\"Times,serif\" font-size=\"10.00\">LPResour..</text>\n<polygon fill=\"none\" stroke=\"black\" points=\"91.5,-8 91.5,-29 142.5,-29 142.5,-8 91.5,-8\"/>\n<text text-anchor=\"start\" x=\"111\" y=\"-14.8\" font-family=\"Times,serif\" font-size=\"14.00\">m</text>\n</g>\n<!-- m_G0&#45;&gt;LPResourceState -->\n<g id=\"edge1\" class=\"edge\">\n<title>m_G0:e-&gt;LPResourceState:w</title>\n<path fill=\"none\" stroke=\"black\" d=\"M54,-18C69.67,-18 74.14,-18 88.77,-18\"/>\n<ellipse fill=\"black\" stroke=\"black\" cx=\"90\" cy=\"-18\" rx=\"1\" ry=\"1\"/>\n<text text-anchor=\"middle\" x=\"72.5\" y=\"-21\" font-family=\"Times,serif\" font-size=\"10.00\">5</text>\n</g>\n<!-- m_G1 -->\n<g id=\"node3\" class=\"node\">\n<title>m_G1</title>\n<text text-anchor=\"middle\" x=\"206\" y=\"-14.3\" font-family=\"Times,serif\" font-size=\"14.00\">m</text>\n</g>\n<!-- LPResourceState&#45;&gt;m_G1 -->\n<g id=\"edge2\" class=\"edge\">\n<title>LPResourceState:e-&gt;m_G1:w</title>\n<path fill=\"none\" stroke=\"black\" d=\"M142,-18C157.67,-18 162.14,-18 176.77,-18\"/>\n<ellipse fill=\"black\" stroke=\"black\" cx=\"178\" cy=\"-18\" rx=\"1\" ry=\"1\"/>\n<text text-anchor=\"middle\" x=\"160.5\" y=\"-21\" font-family=\"Times,serif\" font-size=\"10.00\">5</text>\n</g>\n</g>\n</svg>",
          "text/plain": "<IPython.core.display.SVG object>"
         },
         "metadata": {},
         "output_type": "display_data"
        }
       ],
       "tabbable": null,
       "tooltip": null
      }
     },
     "284eb3146f2d4b91b064a12aa9ef4cff": {
      "model_module": "@jupyter-widgets/base",
      "model_module_version": "2.0.0",
      "model_name": "LayoutModel",
      "state": {
       "_model_module": "@jupyter-widgets/base",
       "_model_module_version": "2.0.0",
       "_model_name": "LayoutModel",
       "_view_count": null,
       "_view_module": "@jupyter-widgets/base",
       "_view_module_version": "2.0.0",
       "_view_name": "LayoutView",
       "align_content": null,
       "align_items": null,
       "align_self": null,
       "border_bottom": null,
       "border_left": null,
       "border_right": null,
       "border_top": null,
       "bottom": null,
       "display": null,
       "flex": null,
       "flex_flow": null,
       "grid_area": null,
       "grid_auto_columns": null,
       "grid_auto_flow": null,
       "grid_auto_rows": null,
       "grid_column": null,
       "grid_gap": null,
       "grid_row": null,
       "grid_template_areas": null,
       "grid_template_columns": null,
       "grid_template_rows": null,
       "height": null,
       "justify_content": null,
       "justify_items": null,
       "left": null,
       "margin": null,
       "max_height": null,
       "max_width": null,
       "min_height": null,
       "min_width": null,
       "object_fit": null,
       "object_position": null,
       "order": null,
       "overflow": null,
       "padding": null,
       "right": null,
       "top": null,
       "visibility": null,
       "width": null
      }
     },
     "34939183a1484ec7991633c4716a51dc": {
      "model_module": "@jupyter-widgets/controls",
      "model_module_version": "2.0.0",
      "model_name": "HBoxModel",
      "state": {
       "_dom_classes": [],
       "_model_module": "@jupyter-widgets/controls",
       "_model_module_version": "2.0.0",
       "_model_name": "HBoxModel",
       "_view_count": null,
       "_view_module": "@jupyter-widgets/controls",
       "_view_module_version": "2.0.0",
       "_view_name": "HBoxView",
       "box_style": "",
       "children": [
        "IPY_MODEL_25296fb00b1b47a79e0340ca133176ad",
        "IPY_MODEL_db423121d720451e8e20e9cb6415da0a"
       ],
       "layout": "IPY_MODEL_45d93f62efc04a37acd6e96b16da2d4f",
       "tabbable": null,
       "tooltip": null
      }
     },
     "45d93f62efc04a37acd6e96b16da2d4f": {
      "model_module": "@jupyter-widgets/base",
      "model_module_version": "2.0.0",
      "model_name": "LayoutModel",
      "state": {
       "_model_module": "@jupyter-widgets/base",
       "_model_module_version": "2.0.0",
       "_model_name": "LayoutModel",
       "_view_count": null,
       "_view_module": "@jupyter-widgets/base",
       "_view_module_version": "2.0.0",
       "_view_name": "LayoutView",
       "align_content": null,
       "align_items": null,
       "align_self": null,
       "border_bottom": null,
       "border_left": null,
       "border_right": null,
       "border_top": null,
       "bottom": null,
       "display": null,
       "flex": null,
       "flex_flow": null,
       "grid_area": null,
       "grid_auto_columns": null,
       "grid_auto_flow": null,
       "grid_auto_rows": null,
       "grid_column": null,
       "grid_gap": null,
       "grid_row": null,
       "grid_template_areas": null,
       "grid_template_columns": null,
       "grid_template_rows": null,
       "height": null,
       "justify_content": null,
       "justify_items": null,
       "left": null,
       "margin": null,
       "max_height": null,
       "max_width": null,
       "min_height": null,
       "min_width": null,
       "object_fit": null,
       "object_position": null,
       "order": null,
       "overflow": null,
       "padding": null,
       "right": null,
       "top": null,
       "visibility": null,
       "width": null
      }
     },
     "6c5b67c2f3bd413fa37db5dbae565e2c": {
      "model_module": "@jupyter-widgets/base",
      "model_module_version": "2.0.0",
      "model_name": "LayoutModel",
      "state": {
       "_model_module": "@jupyter-widgets/base",
       "_model_module_version": "2.0.0",
       "_model_name": "LayoutModel",
       "_view_count": null,
       "_view_module": "@jupyter-widgets/base",
       "_view_module_version": "2.0.0",
       "_view_name": "LayoutView",
       "align_content": null,
       "align_items": null,
       "align_self": null,
       "border_bottom": null,
       "border_left": null,
       "border_right": null,
       "border_top": null,
       "bottom": null,
       "display": null,
       "flex": null,
       "flex_flow": null,
       "grid_area": null,
       "grid_auto_columns": null,
       "grid_auto_flow": null,
       "grid_auto_rows": null,
       "grid_column": null,
       "grid_gap": null,
       "grid_row": null,
       "grid_template_areas": null,
       "grid_template_columns": null,
       "grid_template_rows": null,
       "height": null,
       "justify_content": null,
       "justify_items": null,
       "left": null,
       "margin": null,
       "max_height": null,
       "max_width": null,
       "min_height": null,
       "min_width": null,
       "object_fit": null,
       "object_position": null,
       "order": null,
       "overflow": null,
       "padding": null,
       "right": null,
       "top": null,
       "visibility": null,
       "width": null
      }
     },
     "841d454c1be448bf8df88933bac3f27a": {
      "model_module": "@jupyter-widgets/controls",
      "model_module_version": "2.0.0",
      "model_name": "HBoxModel",
      "state": {
       "_dom_classes": [],
       "_model_module": "@jupyter-widgets/controls",
       "_model_module_version": "2.0.0",
       "_model_name": "HBoxModel",
       "_view_count": null,
       "_view_module": "@jupyter-widgets/controls",
       "_view_module_version": "2.0.0",
       "_view_name": "HBoxView",
       "box_style": "",
       "children": [
        "IPY_MODEL_22f4832a814f48b7a5e1b54fca2a4642"
       ],
       "layout": "IPY_MODEL_a7a4768b5b3d4032a46442b75312b117",
       "tabbable": null,
       "tooltip": null
      }
     },
     "a7a4768b5b3d4032a46442b75312b117": {
      "model_module": "@jupyter-widgets/base",
      "model_module_version": "2.0.0",
      "model_name": "LayoutModel",
      "state": {
       "_model_module": "@jupyter-widgets/base",
       "_model_module_version": "2.0.0",
       "_model_name": "LayoutModel",
       "_view_count": null,
       "_view_module": "@jupyter-widgets/base",
       "_view_module_version": "2.0.0",
       "_view_name": "LayoutView",
       "align_content": null,
       "align_items": null,
       "align_self": null,
       "border_bottom": null,
       "border_left": null,
       "border_right": null,
       "border_top": null,
       "bottom": null,
       "display": null,
       "flex": null,
       "flex_flow": null,
       "grid_area": null,
       "grid_auto_columns": null,
       "grid_auto_flow": null,
       "grid_auto_rows": null,
       "grid_column": null,
       "grid_gap": null,
       "grid_row": null,
       "grid_template_areas": null,
       "grid_template_columns": null,
       "grid_template_rows": null,
       "height": null,
       "justify_content": null,
       "justify_items": null,
       "left": null,
       "margin": null,
       "max_height": null,
       "max_width": null,
       "min_height": null,
       "min_width": null,
       "object_fit": null,
       "object_position": null,
       "order": null,
       "overflow": null,
       "padding": null,
       "right": null,
       "top": null,
       "visibility": null,
       "width": null
      }
     },
     "db423121d720451e8e20e9cb6415da0a": {
      "model_module": "@jupyter-widgets/output",
      "model_module_version": "1.0.0",
      "model_name": "OutputModel",
      "state": {
       "_dom_classes": [],
       "_model_module": "@jupyter-widgets/output",
       "_model_module_version": "1.0.0",
       "_model_name": "OutputModel",
       "_view_count": null,
       "_view_module": "@jupyter-widgets/output",
       "_view_module_version": "1.0.0",
       "_view_name": "OutputView",
       "layout": "IPY_MODEL_f9e544f3c1584d0885ea63f33545a5c7",
       "msg_id": "",
       "outputs": [
        {
         "data": {
          "text/markdown": "`lp_resource_state_symbolic`",
          "text/plain": "<IPython.core.display.Markdown object>"
         },
         "metadata": {},
         "output_type": "display_data"
        },
        {
         "data": {
          "image/svg+xml": "<svg xmlns=\"http://www.w3.org/2000/svg\" xmlns:xlink=\"http://www.w3.org/1999/xlink\" width=\"241pt\" height=\"54pt\" viewBox=\"0.00 0.00 241.00 54.00\">\n<g id=\"graph0\" class=\"graph\" transform=\"scale(1 1) rotate(0) translate(4 50)\">\n<title>my_graph</title>\n<polygon fill=\"white\" stroke=\"transparent\" points=\"-4,4 -4,-50 237,-50 237,4 -4,4\"/>\n<!-- m_G1 -->\n<g id=\"node1\" class=\"node\">\n<title>m_G1</title>\n<text text-anchor=\"middle\" x=\"27\" y=\"-14.3\" font-family=\"Times,serif\" font-size=\"14.00\">m</text>\n</g>\n<!-- LPResourceState -->\n<g id=\"node2\" class=\"node\">\n<title>LPResourceState</title>\n<polygon fill=\"none\" stroke=\"black\" points=\"91.5,-29 91.5,-46 142.5,-46 142.5,-29 91.5,-29\"/>\n<text text-anchor=\"start\" x=\"94.5\" y=\"-35\" font-family=\"Times,serif\" font-size=\"10.00\">LPResour..</text>\n<polygon fill=\"none\" stroke=\"black\" points=\"91.5,-8 91.5,-29 142.5,-29 142.5,-8 91.5,-8\"/>\n<text text-anchor=\"start\" x=\"111\" y=\"-14.8\" font-family=\"Times,serif\" font-size=\"14.00\">m</text>\n</g>\n<!-- m_G1&#45;&gt;LPResourceState -->\n<g id=\"edge1\" class=\"edge\">\n<title>m_G1:e-&gt;LPResourceState:w</title>\n<path fill=\"none\" stroke=\"black\" d=\"M54,-18C69.67,-18 74.14,-18 88.77,-18\"/>\n<ellipse fill=\"black\" stroke=\"black\" cx=\"90\" cy=\"-18\" rx=\"1\" ry=\"1\"/>\n<text text-anchor=\"middle\" x=\"72.5\" y=\"-21\" font-family=\"Times,serif\" font-size=\"10.00\">n</text>\n</g>\n<!-- m_G2 -->\n<g id=\"node3\" class=\"node\">\n<title>m_G2</title>\n<text text-anchor=\"middle\" x=\"206\" y=\"-14.3\" font-family=\"Times,serif\" font-size=\"14.00\">m</text>\n</g>\n<!-- LPResourceState&#45;&gt;m_G2 -->\n<g id=\"edge2\" class=\"edge\">\n<title>LPResourceState:e-&gt;m_G2:w</title>\n<path fill=\"none\" stroke=\"black\" d=\"M142,-18C157.67,-18 162.14,-18 176.77,-18\"/>\n<ellipse fill=\"black\" stroke=\"black\" cx=\"178\" cy=\"-18\" rx=\"1\" ry=\"1\"/>\n<text text-anchor=\"middle\" x=\"160.5\" y=\"-21\" font-family=\"Times,serif\" font-size=\"10.00\">n</text>\n</g>\n</g>\n</svg>",
          "text/plain": "<IPython.core.display.SVG object>"
         },
         "metadata": {},
         "output_type": "display_data"
        }
       ],
       "tabbable": null,
       "tooltip": null
      }
     },
     "f9e544f3c1584d0885ea63f33545a5c7": {
      "model_module": "@jupyter-widgets/base",
      "model_module_version": "2.0.0",
      "model_name": "LayoutModel",
      "state": {
       "_model_module": "@jupyter-widgets/base",
       "_model_module_version": "2.0.0",
       "_model_name": "LayoutModel",
       "_view_count": null,
       "_view_module": "@jupyter-widgets/base",
       "_view_module_version": "2.0.0",
       "_view_name": "LayoutView",
       "align_content": null,
       "align_items": null,
       "align_self": null,
       "border_bottom": null,
       "border_left": null,
       "border_right": null,
       "border_top": null,
       "bottom": null,
       "display": null,
       "flex": null,
       "flex_flow": null,
       "grid_area": null,
       "grid_auto_columns": null,
       "grid_auto_flow": null,
       "grid_auto_rows": null,
       "grid_column": null,
       "grid_gap": null,
       "grid_row": null,
       "grid_template_areas": null,
       "grid_template_columns": null,
       "grid_template_rows": null,
       "height": null,
       "justify_content": null,
       "justify_items": null,
       "left": null,
       "margin": null,
       "max_height": null,
       "max_width": null,
       "min_height": null,
       "min_width": null,
       "object_fit": null,
       "object_position": null,
       "order": null,
       "overflow": null,
       "padding": null,
       "right": null,
       "top": null,
       "visibility": null,
       "width": null
      }
     }
    },
    "version_major": 2,
    "version_minor": 0
   }
  }
 },
 "nbformat": 4,
 "nbformat_minor": 5
}
