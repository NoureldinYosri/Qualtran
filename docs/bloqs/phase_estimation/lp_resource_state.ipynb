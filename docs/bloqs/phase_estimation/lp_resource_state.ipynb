{
 "cells": [
  {
   "cell_type": "markdown",
   "id": "84254116",
   "metadata": {
    "cq.autogen": "title_cell"
   },
   "source": [
    "# Optimal resource states for Phase Estimation by A. Luis and J. Peřina\n",
    "\n",
    "Resource states proposed by A. Luis and J. Peřina (1996) for optimal phase measurements"
   ]
  },
  {
   "cell_type": "code",
   "execution_count": 1,
   "id": "911d8f72",
   "metadata": {
    "cq.autogen": "top_imports"
   },
   "outputs": [],
   "source": [
    "from qualtran import Bloq, CompositeBloq, BloqBuilder, Signature, Register\n",
    "from qualtran import QBit, QInt, QUInt, QAny\n",
    "from qualtran.drawing import show_bloq, show_call_graph, show_counts_sigma\n",
    "from typing import *\n",
    "import numpy as np\n",
    "import sympy\n",
    "import cirq"
   ]
  },
  {
   "cell_type": "markdown",
   "id": "88cd4ee5",
   "metadata": {
    "cq.autogen": "LPRSInterimPrep.bloq_doc.md"
   },
   "source": [
    "## `LPRSInterimPrep`\n",
    "Helper Bloq to prepare an intermediate resource state which can be used in AA\n",
    "\n",
    "Specifically, this prepares the state\n",
    "\n",
    "$$\n",
    "    \\sqrt{\\frac{1}{2^{m}}}\\sum_{n=0}^{2^m - 1}\\left(\\cos{\\left(\\frac{\\pi(n+1)}{2^m+1}\\right)}\n",
    "    |n\\rangle|0\\rangle + i\\sin{\\left(\\frac{\\pi(n+1)}{2^m+1}\\right)}|n\\rangle|1\\rangle\\right)\n",
    "$$\n",
    "\n",
    "This is the state obtained after applying the Hadamard on the flag qubit as described in\n",
    "Eq 19 of https://arxiv.org/pdf/1805.03662.pdf, which can then be used in a single round of\n",
    "Amplitude Amplification to boost the amplitude of desired resource state to 1."
   ]
  },
  {
   "cell_type": "code",
   "execution_count": 2,
   "id": "14b96f3c",
   "metadata": {
    "cq.autogen": "LPRSInterimPrep.bloq_doc.py"
   },
   "outputs": [],
   "source": [
    "from qualtran.bloqs.phase_estimation.lp_resource_state import LPRSInterimPrep"
   ]
  },
  {
   "cell_type": "markdown",
   "id": "3010bc2b",
   "metadata": {
    "cq.autogen": "LPRSInterimPrep.example_instances.md"
   },
   "source": [
    "### Example Instances"
   ]
  },
  {
   "cell_type": "code",
   "execution_count": 3,
   "id": "e464fe0a",
   "metadata": {
    "cq.autogen": "LPRSInterimPrep.lprs_interim_prep"
   },
   "outputs": [],
   "source": [
    "lprs_interim_prep = LPRSInterimPrep(5)"
   ]
  },
  {
   "cell_type": "markdown",
   "id": "3e0b5c82",
   "metadata": {
    "cq.autogen": "LPRSInterimPrep.graphical_signature.md"
   },
   "source": [
    "#### Graphical Signature"
   ]
  },
  {
   "cell_type": "code",
   "execution_count": 4,
   "id": "0765c81a",
   "metadata": {
    "cq.autogen": "LPRSInterimPrep.graphical_signature.py"
   },
   "outputs": [
    {
     "data": {
      "application/vnd.jupyter.widget-view+json": {
       "model_id": "5ae01da018394813aed721aa51e0856d",
       "version_major": 2,
       "version_minor": 0
      },
      "text/plain": [
       "HBox(children=(Output(outputs=({'output_type': 'display_data', 'data': {'text/plain': '<IPython.core.display.M…"
      ]
     },
     "metadata": {},
     "output_type": "display_data"
    }
   ],
   "source": [
    "from qualtran.drawing import show_bloqs\n",
    "show_bloqs([lprs_interim_prep],\n",
    "           ['`lprs_interim_prep`'])"
   ]
  },
  {
   "cell_type": "markdown",
   "id": "95cefe6c",
   "metadata": {
    "cq.autogen": "LPRSInterimPrep.call_graph.md"
   },
   "source": [
    "### Call Graph"
   ]
  },
  {
   "cell_type": "code",
   "execution_count": 5,
   "id": "2f4c201a",
   "metadata": {
    "cq.autogen": "LPRSInterimPrep.call_graph.py"
   },
   "outputs": [
    {
     "data": {
      "image/svg+xml": [
       "<svg xmlns=\"http://www.w3.org/2000/svg\" xmlns:xlink=\"http://www.w3.org/1999/xlink\" width=\"1787pt\" height=\"131pt\" viewBox=\"0.00 0.00 1787.00 131.00\">\n",
       "<g id=\"graph0\" class=\"graph\" transform=\"scale(1 1) rotate(0) translate(4 127)\">\n",
       "<title>counts</title>\n",
       "<polygon fill=\"white\" stroke=\"transparent\" points=\"-4,4 -4,-127 1783,-127 1783,4 -4,4\"/>\n",
       "<!-- b0 -->\n",
       "<g id=\"node1\" class=\"node\">\n",
       "<title>b0</title>\n",
       "<polygon fill=\"none\" stroke=\"black\" points=\"1003,-123 866,-123 866,-87 1003,-87 1003,-123\"/>\n",
       "<text text-anchor=\"start\" x=\"885.5\" y=\"-106.8\" font-family=\"Times,serif\" font-size=\"14.00\">LPRSInterimPrep</text>\n",
       "<text text-anchor=\"start\" x=\"874\" y=\"-96\" font-family=\"monospace\" font-size=\"10.00\">bitsize=5, eps=1e-11</text>\n",
       "</g>\n",
       "<!-- b1 -->\n",
       "<g id=\"node2\" class=\"node\">\n",
       "<title>b1</title>\n",
       "<polygon fill=\"none\" stroke=\"black\" points=\"281,-36 0,-36 0,0 281,0 281,-36\"/>\n",
       "<text text-anchor=\"start\" x=\"123.5\" y=\"-19.8\" font-family=\"Times,serif\" font-size=\"14.00\">C[Rz]</text>\n",
       "<text text-anchor=\"start\" x=\"8\" y=\"-9\" font-family=\"monospace\" font-size=\"10.00\">subbloq=Rz(angle ..., ctrl_spec=CtrlSpec ...</text>\n",
       "</g>\n",
       "<!-- b0&#45;&gt;b1 -->\n",
       "<g id=\"edge1\" class=\"edge\">\n",
       "<title>b0-&gt;b1</title>\n",
       "<path fill=\"none\" stroke=\"black\" d=\"M865.75,-96.95C749.66,-84.99 507.1,-59.84 291.52,-36.22\"/>\n",
       "<polygon fill=\"black\" stroke=\"black\" points=\"291.59,-32.7 281.27,-35.09 290.83,-39.66 291.59,-32.7\"/>\n",
       "<text text-anchor=\"middle\" x=\"594\" y=\"-57.8\" font-family=\"Times,serif\" font-size=\"14.00\">1</text>\n",
       "</g>\n",
       "<!-- b2 -->\n",
       "<g id=\"node3\" class=\"node\">\n",
       "<title>b2</title>\n",
       "<polygon fill=\"none\" stroke=\"black\" points=\"580,-36 299,-36 299,0 580,0 580,-36\"/>\n",
       "<text text-anchor=\"start\" x=\"422.5\" y=\"-19.8\" font-family=\"Times,serif\" font-size=\"14.00\">C[Rz]</text>\n",
       "<text text-anchor=\"start\" x=\"307\" y=\"-9\" font-family=\"monospace\" font-size=\"10.00\">subbloq=Rz(angle ..., ctrl_spec=CtrlSpec ...</text>\n",
       "</g>\n",
       "<!-- b0&#45;&gt;b2 -->\n",
       "<g id=\"edge2\" class=\"edge\">\n",
       "<title>b0-&gt;b2</title>\n",
       "<path fill=\"none\" stroke=\"black\" d=\"M865.93,-92.23C783.9,-78.14 645.52,-54.38 548.71,-37.75\"/>\n",
       "<polygon fill=\"black\" stroke=\"black\" points=\"549.04,-34.26 538.59,-36.02 547.86,-41.16 549.04,-34.26\"/>\n",
       "<text text-anchor=\"middle\" x=\"721\" y=\"-57.8\" font-family=\"Times,serif\" font-size=\"14.00\">1</text>\n",
       "</g>\n",
       "<!-- b3 -->\n",
       "<g id=\"node4\" class=\"node\">\n",
       "<title>b3</title>\n",
       "<polygon fill=\"none\" stroke=\"black\" points=\"879,-36 598,-36 598,0 879,0 879,-36\"/>\n",
       "<text text-anchor=\"start\" x=\"721.5\" y=\"-19.8\" font-family=\"Times,serif\" font-size=\"14.00\">C[Rz]</text>\n",
       "<text text-anchor=\"start\" x=\"606\" y=\"-9\" font-family=\"monospace\" font-size=\"10.00\">subbloq=Rz(angle ..., ctrl_spec=CtrlSpec ...</text>\n",
       "</g>\n",
       "<!-- b0&#45;&gt;b3 -->\n",
       "<g id=\"edge3\" class=\"edge\">\n",
       "<title>b0-&gt;b3</title>\n",
       "<path fill=\"none\" stroke=\"black\" d=\"M894.84,-86.8C863.78,-73.33 820.45,-54.54 787.27,-40.15\"/>\n",
       "<polygon fill=\"black\" stroke=\"black\" points=\"788.34,-36.8 777.77,-36.03 785.55,-43.22 788.34,-36.8\"/>\n",
       "<text text-anchor=\"middle\" x=\"852\" y=\"-57.8\" font-family=\"Times,serif\" font-size=\"14.00\">1</text>\n",
       "</g>\n",
       "<!-- b4 -->\n",
       "<g id=\"node5\" class=\"node\">\n",
       "<title>b4</title>\n",
       "<polygon fill=\"none\" stroke=\"black\" points=\"971.5,-36 897.5,-36 897.5,0 971.5,0 971.5,-36\"/>\n",
       "<text text-anchor=\"start\" x=\"905.5\" y=\"-14.3\" font-family=\"Times,serif\" font-size=\"14.00\">Hadamard</text>\n",
       "</g>\n",
       "<!-- b0&#45;&gt;b4 -->\n",
       "<g id=\"edge4\" class=\"edge\">\n",
       "<title>b0-&gt;b4</title>\n",
       "<path fill=\"none\" stroke=\"black\" d=\"M934.5,-86.8C934.5,-75.16 934.5,-59.55 934.5,-46.24\"/>\n",
       "<polygon fill=\"black\" stroke=\"black\" points=\"938,-46.18 934.5,-36.18 931,-46.18 938,-46.18\"/>\n",
       "<text text-anchor=\"middle\" x=\"938\" y=\"-57.8\" font-family=\"Times,serif\" font-size=\"14.00\">7</text>\n",
       "</g>\n",
       "<!-- b5 -->\n",
       "<g id=\"node6\" class=\"node\">\n",
       "<title>b5</title>\n",
       "<polygon fill=\"none\" stroke=\"black\" points=\"1271,-36 990,-36 990,0 1271,0 1271,-36\"/>\n",
       "<text text-anchor=\"start\" x=\"1113.5\" y=\"-19.8\" font-family=\"Times,serif\" font-size=\"14.00\">C[Rz]</text>\n",
       "<text text-anchor=\"start\" x=\"998\" y=\"-9\" font-family=\"monospace\" font-size=\"10.00\">subbloq=Rz(angle ..., ctrl_spec=CtrlSpec ...</text>\n",
       "</g>\n",
       "<!-- b0&#45;&gt;b5 -->\n",
       "<g id=\"edge5\" class=\"edge\">\n",
       "<title>b0-&gt;b5</title>\n",
       "<path fill=\"none\" stroke=\"black\" d=\"M974.16,-86.8C1005.22,-73.33 1048.55,-54.54 1081.73,-40.15\"/>\n",
       "<polygon fill=\"black\" stroke=\"black\" points=\"1083.45,-43.22 1091.23,-36.03 1080.66,-36.8 1083.45,-43.22\"/>\n",
       "<text text-anchor=\"middle\" x=\"1048\" y=\"-57.8\" font-family=\"Times,serif\" font-size=\"14.00\">1</text>\n",
       "</g>\n",
       "<!-- b6 -->\n",
       "<g id=\"node7\" class=\"node\">\n",
       "<title>b6</title>\n",
       "<polygon fill=\"none\" stroke=\"black\" points=\"1480,-36 1289,-36 1289,0 1480,0 1480,-36\"/>\n",
       "<text text-anchor=\"start\" x=\"1376.5\" y=\"-19.8\" font-family=\"Times,serif\" font-size=\"14.00\">Rz</text>\n",
       "<text text-anchor=\"start\" x=\"1297\" y=\"-9\" font-family=\"monospace\" font-size=\"10.00\">angle=-0.19039 ..., eps=1e-11</text>\n",
       "</g>\n",
       "<!-- b0&#45;&gt;b6 -->\n",
       "<g id=\"edge6\" class=\"edge\">\n",
       "<title>b0-&gt;b6</title>\n",
       "<path fill=\"none\" stroke=\"black\" d=\"M1003.34,-91C1078.29,-76.84 1198.88,-54.06 1284.32,-37.92\"/>\n",
       "<polygon fill=\"black\" stroke=\"black\" points=\"1285.13,-41.33 1294.3,-36.04 1283.83,-34.45 1285.13,-41.33\"/>\n",
       "<text text-anchor=\"middle\" x=\"1190\" y=\"-57.8\" font-family=\"Times,serif\" font-size=\"14.00\">1</text>\n",
       "</g>\n",
       "<!-- b7 -->\n",
       "<g id=\"node8\" class=\"node\">\n",
       "<title>b7</title>\n",
       "<polygon fill=\"none\" stroke=\"black\" points=\"1779,-36 1498,-36 1498,0 1779,0 1779,-36\"/>\n",
       "<text text-anchor=\"start\" x=\"1621.5\" y=\"-19.8\" font-family=\"Times,serif\" font-size=\"14.00\">C[Rz]</text>\n",
       "<text text-anchor=\"start\" x=\"1506\" y=\"-9\" font-family=\"monospace\" font-size=\"10.00\">subbloq=Rz(angle ..., ctrl_spec=CtrlSpec ...</text>\n",
       "</g>\n",
       "<!-- b0&#45;&gt;b7 -->\n",
       "<g id=\"edge7\" class=\"edge\">\n",
       "<title>b0-&gt;b7</title>\n",
       "<path fill=\"none\" stroke=\"black\" d=\"M1003.28,-95.7C1114.81,-82.23 1337.69,-55.32 1487.5,-37.23\"/>\n",
       "<polygon fill=\"black\" stroke=\"black\" points=\"1488.2,-40.67 1497.71,-36 1487.36,-33.72 1488.2,-40.67\"/>\n",
       "<text text-anchor=\"middle\" x=\"1333\" y=\"-57.8\" font-family=\"Times,serif\" font-size=\"14.00\">1</text>\n",
       "</g>\n",
       "</g>\n",
       "</svg>"
      ],
      "text/plain": [
       "<IPython.core.display.SVG object>"
      ]
     },
     "metadata": {},
     "output_type": "display_data"
    },
    {
     "data": {
      "text/markdown": [
       "#### Counts totals:\n",
       " - `C[Rz(-0.0606060606060606π)]`: 1\n",
       " - `C[Rz(-0.1212121212121212π)]`: 1\n",
       " - `C[Rz(-0.2424242424242424π)]`: 1\n",
       " - `C[Rz(-0.4848484848484848π)]`: 1\n",
       " - `C[Rz(-0.9696969696969696π)]`: 1\n",
       " - `Hadamard()`: 7\n",
       " - `Rz(-0.0606060606060606π)`: 1"
      ],
      "text/plain": [
       "<IPython.core.display.Markdown object>"
      ]
     },
     "metadata": {},
     "output_type": "display_data"
    }
   ],
   "source": [
    "from qualtran.resource_counting.generalizers import ignore_split_join\n",
    "lprs_interim_prep_g, lprs_interim_prep_sigma = lprs_interim_prep.call_graph(max_depth=1, generalizer=ignore_split_join)\n",
    "show_call_graph(lprs_interim_prep_g)\n",
    "show_counts_sigma(lprs_interim_prep_sigma)"
   ]
  },
  {
   "cell_type": "markdown",
   "id": "a7241381",
   "metadata": {
    "cq.autogen": "LPResourceState.bloq_doc.md"
   },
   "source": [
    "## `LPResourceState`\n",
    "Prepares optimal resource state $\\chi_{m}$ proposed by A. Luis and J. Peřina (1996)\n",
    "\n",
    "Uses a single round of amplitude amplification, as described in Ref 2, to prepare the\n",
    "resource state from Ref 1 described as\n",
    "\n",
    "$$\n",
    "\\chi_{m} = \\sqrt{\\frac{2}{2^m + 1}}\\sum_{n=0}^{2^m - 1}\\sin{\\frac{\\pi(n+1)}{2^m+1}}|n\\rangle\n",
    "$$\n",
    "\n",
    "#### Parameters\n",
    " - `bitsize`: The size of the phase register to prepare the resource state on.  \n",
    "\n",
    "#### References\n",
    " - [Optimum phase-shift estimation and the quantum description of the phase difference](https://journals.aps.org/pra/abstract/10.1103/PhysRevA.54.4564). \n",
    " - [Encoding Electronic Spectra in Quantum Circuits with Linear T Complexity](https://arxiv.org/abs/1805.03662). Section II-B\n"
   ]
  },
  {
   "cell_type": "code",
   "execution_count": 6,
   "id": "6c5516d2",
   "metadata": {
    "cq.autogen": "LPResourceState.bloq_doc.py"
   },
   "outputs": [],
   "source": [
    "from qualtran.bloqs.phase_estimation.lp_resource_state import LPResourceState"
   ]
  },
  {
   "cell_type": "markdown",
   "id": "cfbba478",
   "metadata": {
    "cq.autogen": "LPResourceState.example_instances.md"
   },
   "source": [
    "### Example Instances"
   ]
  },
  {
   "cell_type": "code",
   "execution_count": 7,
   "id": "c240f76f",
   "metadata": {
    "cq.autogen": "LPResourceState.lp_resource_state_small"
   },
   "outputs": [],
   "source": [
    "lp_resource_state_small = LPResourceState(5)"
   ]
  },
  {
   "cell_type": "code",
   "execution_count": 8,
   "id": "dca73bc2",
   "metadata": {
    "cq.autogen": "LPResourceState.lp_resource_state_symbolic"
   },
   "outputs": [],
   "source": [
    "import sympy\n",
    "\n",
    "# Note: Symbolic callgraphs currently don't work due to\n",
    "# https://github.com/quantumlib/Qualtran/issues/786\n",
    "\n",
    "lp_resource_state_symbolic = LPResourceState(sympy.Symbol('n'))"
   ]
  },
  {
   "cell_type": "markdown",
   "id": "88c02acd",
   "metadata": {
    "cq.autogen": "LPResourceState.graphical_signature.md"
   },
   "source": [
    "#### Graphical Signature"
   ]
  },
  {
   "cell_type": "code",
   "execution_count": 9,
   "id": "68ccc4f5",
   "metadata": {
    "cq.autogen": "LPResourceState.graphical_signature.py"
   },
   "outputs": [
    {
     "data": {
      "application/vnd.jupyter.widget-view+json": {
       "model_id": "4cda30cc0723475daec79923c43988ca",
       "version_major": 2,
       "version_minor": 0
      },
      "text/plain": [
       "HBox(children=(Output(outputs=({'output_type': 'display_data', 'data': {'text/plain': '<IPython.core.display.M…"
      ]
     },
     "metadata": {},
     "output_type": "display_data"
    }
   ],
   "source": [
    "from qualtran.drawing import show_bloqs\n",
    "show_bloqs([lp_resource_state_small, lp_resource_state_symbolic],\n",
    "           ['`lp_resource_state_small`', '`lp_resource_state_symbolic`'])"
   ]
  },
  {
   "cell_type": "markdown",
   "id": "3784b8e4",
   "metadata": {
    "cq.autogen": "LPResourceState.call_graph.md"
   },
   "source": [
    "### Call Graph"
   ]
  },
  {
   "cell_type": "code",
   "execution_count": 10,
   "id": "ce116ae5",
   "metadata": {
    "cq.autogen": "LPResourceState.call_graph.py"
   },
   "outputs": [
    {
     "data": {
      "image/svg+xml": [
       "<svg xmlns=\"http://www.w3.org/2000/svg\" xmlns:xlink=\"http://www.w3.org/1999/xlink\" width=\"1299pt\" height=\"131pt\" viewBox=\"0.00 0.00 1298.50 131.00\">\n",
       "<g id=\"graph0\" class=\"graph\" transform=\"scale(1 1) rotate(0) translate(4 127)\">\n",
       "<title>counts</title>\n",
       "<polygon fill=\"white\" stroke=\"transparent\" points=\"-4,4 -4,-127 1294.5,-127 1294.5,4 -4,4\"/>\n",
       "<!-- b0 -->\n",
       "<g id=\"node1\" class=\"node\">\n",
       "<title>b0</title>\n",
       "<polygon fill=\"none\" stroke=\"black\" points=\"792.5,-123 682.5,-123 682.5,-87 792.5,-87 792.5,-123\"/>\n",
       "<text text-anchor=\"start\" x=\"690.5\" y=\"-106.8\" font-family=\"Times,serif\" font-size=\"14.00\">LPResourceState</text>\n",
       "<text text-anchor=\"start\" x=\"710\" y=\"-96\" font-family=\"monospace\" font-size=\"10.00\">bitsize=5</text>\n",
       "</g>\n",
       "<!-- b1 -->\n",
       "<g id=\"node2\" class=\"node\">\n",
       "<title>b1</title>\n",
       "<polygon fill=\"none\" stroke=\"black\" points=\"167,-36 0,-36 0,0 167,0 167,-36\"/>\n",
       "<text text-anchor=\"start\" x=\"62.5\" y=\"-19.8\" font-family=\"Times,serif\" font-size=\"14.00\">GPhase</text>\n",
       "<text text-anchor=\"start\" x=\"8\" y=\"-9\" font-family=\"monospace\" font-size=\"10.00\">coefficient=1j, eps=1e-11</text>\n",
       "</g>\n",
       "<!-- b0&#45;&gt;b1 -->\n",
       "<g id=\"edge1\" class=\"edge\">\n",
       "<title>b0-&gt;b1</title>\n",
       "<path fill=\"none\" stroke=\"black\" d=\"M682.3,-98.48C583.14,-88.3 368.09,-65.08 177.14,-36.21\"/>\n",
       "<polygon fill=\"black\" stroke=\"black\" points=\"177.61,-32.74 167.2,-34.69 176.56,-39.66 177.61,-32.74\"/>\n",
       "<text text-anchor=\"middle\" x=\"411\" y=\"-57.8\" font-family=\"Times,serif\" font-size=\"14.00\">1</text>\n",
       "</g>\n",
       "<!-- b2 -->\n",
       "<g id=\"node3\" class=\"node\">\n",
       "<title>b2</title>\n",
       "<polygon fill=\"none\" stroke=\"black\" points=\"448,-36 185,-36 185,0 448,0 448,-36\"/>\n",
       "<text text-anchor=\"start\" x=\"283\" y=\"-19.8\" font-family=\"Times,serif\" font-size=\"14.00\">CZPowGate</text>\n",
       "<text text-anchor=\"start\" x=\"193\" y=\"-9\" font-family=\"monospace\" font-size=\"10.00\">exponent=1.0, global_shift=0.0, eps=1e-11</text>\n",
       "</g>\n",
       "<!-- b0&#45;&gt;b2 -->\n",
       "<g id=\"edge2\" class=\"edge\">\n",
       "<title>b0-&gt;b2</title>\n",
       "<path fill=\"none\" stroke=\"black\" d=\"M682.46,-92.89C613.6,-78.99 494.6,-54.96 411.04,-38.09\"/>\n",
       "<polygon fill=\"black\" stroke=\"black\" points=\"411.52,-34.61 401.03,-36.07 410.14,-41.48 411.52,-34.61\"/>\n",
       "<text text-anchor=\"middle\" x=\"556\" y=\"-57.8\" font-family=\"Times,serif\" font-size=\"14.00\">1</text>\n",
       "</g>\n",
       "<!-- b3 -->\n",
       "<g id=\"node4\" class=\"node\">\n",
       "<title>b3</title>\n",
       "<polygon fill=\"none\" stroke=\"black\" points=\"603,-36 466,-36 466,0 603,0 603,-36\"/>\n",
       "<text text-anchor=\"start\" x=\"482\" y=\"-19.8\" font-family=\"Times,serif\" font-size=\"14.00\">LPRSInterimPrep†</text>\n",
       "<text text-anchor=\"start\" x=\"474\" y=\"-9\" font-family=\"monospace\" font-size=\"10.00\">subbloq=LPRSInte ...</text>\n",
       "</g>\n",
       "<!-- b0&#45;&gt;b3 -->\n",
       "<g id=\"edge3\" class=\"edge\">\n",
       "<title>b0-&gt;b3</title>\n",
       "<path fill=\"none\" stroke=\"black\" d=\"M696.42,-86.8C664.12,-73.27 618.99,-54.38 584.57,-39.97\"/>\n",
       "<polygon fill=\"black\" stroke=\"black\" points=\"585.75,-36.66 575.17,-36.03 583.04,-43.12 585.75,-36.66\"/>\n",
       "<text text-anchor=\"middle\" x=\"652\" y=\"-57.8\" font-family=\"Times,serif\" font-size=\"14.00\">1</text>\n",
       "</g>\n",
       "<!-- b4 -->\n",
       "<g id=\"node5\" class=\"node\">\n",
       "<title>b4</title>\n",
       "<polygon fill=\"none\" stroke=\"black\" points=\"854,-36 621,-36 621,0 854,0 854,-36\"/>\n",
       "<text text-anchor=\"start\" x=\"687.5\" y=\"-19.8\" font-family=\"Times,serif\" font-size=\"14.00\">MultiControlPauli</text>\n",
       "<text text-anchor=\"start\" x=\"629\" y=\"-9\" font-family=\"monospace\" font-size=\"10.00\">cvs=(0, 0, 0 ..., target_gate=cirq.Z</text>\n",
       "</g>\n",
       "<!-- b0&#45;&gt;b4 -->\n",
       "<g id=\"edge4\" class=\"edge\">\n",
       "<title>b0-&gt;b4</title>\n",
       "<path fill=\"none\" stroke=\"black\" d=\"M737.5,-86.8C737.5,-75.16 737.5,-59.55 737.5,-46.24\"/>\n",
       "<polygon fill=\"black\" stroke=\"black\" points=\"741,-46.18 737.5,-36.18 734,-46.18 741,-46.18\"/>\n",
       "<text text-anchor=\"middle\" x=\"741\" y=\"-57.8\" font-family=\"Times,serif\" font-size=\"14.00\">1</text>\n",
       "</g>\n",
       "<!-- b5 -->\n",
       "<g id=\"node6\" class=\"node\">\n",
       "<title>b5</title>\n",
       "<polygon fill=\"none\" stroke=\"black\" points=\"1009,-36 872,-36 872,0 1009,0 1009,-36\"/>\n",
       "<text text-anchor=\"start\" x=\"891.5\" y=\"-19.8\" font-family=\"Times,serif\" font-size=\"14.00\">LPRSInterimPrep</text>\n",
       "<text text-anchor=\"start\" x=\"880\" y=\"-9\" font-family=\"monospace\" font-size=\"10.00\">bitsize=5, eps=1e-11</text>\n",
       "</g>\n",
       "<!-- b0&#45;&gt;b5 -->\n",
       "<g id=\"edge5\" class=\"edge\">\n",
       "<title>b0-&gt;b5</title>\n",
       "<path fill=\"none\" stroke=\"black\" d=\"M778.58,-86.8C810.88,-73.27 856.01,-54.38 890.43,-39.97\"/>\n",
       "<polygon fill=\"black\" stroke=\"black\" points=\"891.96,-43.12 899.83,-36.03 889.25,-36.66 891.96,-43.12\"/>\n",
       "<text text-anchor=\"middle\" x=\"855\" y=\"-57.8\" font-family=\"Times,serif\" font-size=\"14.00\">2</text>\n",
       "</g>\n",
       "<!-- b6 -->\n",
       "<g id=\"node7\" class=\"node\">\n",
       "<title>b6</title>\n",
       "<polygon fill=\"none\" stroke=\"black\" points=\"1218,-36 1027,-36 1027,0 1218,0 1218,-36\"/>\n",
       "<text text-anchor=\"start\" x=\"1114.5\" y=\"-19.8\" font-family=\"Times,serif\" font-size=\"14.00\">Ry</text>\n",
       "<text text-anchor=\"start\" x=\"1035\" y=\"-9\" font-family=\"monospace\" font-size=\"10.00\">angle=1.540488 ..., eps=1e-11</text>\n",
       "</g>\n",
       "<!-- b0&#45;&gt;b6 -->\n",
       "<g id=\"edge6\" class=\"edge\">\n",
       "<title>b0-&gt;b6</title>\n",
       "<path fill=\"none\" stroke=\"black\" d=\"M792.66,-91.82C856.04,-77.83 960.86,-54.69 1035.31,-38.25\"/>\n",
       "<polygon fill=\"black\" stroke=\"black\" points=\"1036.14,-41.65 1045.15,-36.08 1034.63,-34.82 1036.14,-41.65\"/>\n",
       "<text text-anchor=\"middle\" x=\"957\" y=\"-57.8\" font-family=\"Times,serif\" font-size=\"14.00\">3</text>\n",
       "</g>\n",
       "<!-- b7 -->\n",
       "<g id=\"node8\" class=\"node\">\n",
       "<title>b7</title>\n",
       "<polygon fill=\"none\" stroke=\"black\" points=\"1290.5,-36 1236.5,-36 1236.5,0 1290.5,0 1290.5,-36\"/>\n",
       "<text text-anchor=\"start\" x=\"1245.5\" y=\"-14.3\" font-family=\"Times,serif\" font-size=\"14.00\">XGate</text>\n",
       "</g>\n",
       "<!-- b0&#45;&gt;b7 -->\n",
       "<g id=\"edge7\" class=\"edge\">\n",
       "<title>b0-&gt;b7</title>\n",
       "<path fill=\"none\" stroke=\"black\" d=\"M792.87,-101.56C884.68,-96.36 1073.48,-80.74 1226.5,-36 1226.6,-35.97 1226.7,-35.94 1226.81,-35.91\"/>\n",
       "<polygon fill=\"black\" stroke=\"black\" points=\"1228.09,-39.17 1236.36,-32.55 1225.77,-32.56 1228.09,-39.17\"/>\n",
       "<text text-anchor=\"middle\" x=\"1152\" y=\"-57.8\" font-family=\"Times,serif\" font-size=\"14.00\">4</text>\n",
       "</g>\n",
       "</g>\n",
       "</svg>"
      ],
      "text/plain": [
       "<IPython.core.display.SVG object>"
      ]
     },
     "metadata": {},
     "output_type": "display_data"
    },
    {
     "data": {
      "text/markdown": [
       "#### Counts totals:\n",
       " - `1j`: 1\n",
       " - `Adjoint(subbloq=LPRSInterimPrep(bitsize=5, eps=1e-11))`: 1\n",
       " - `CZ`: 1\n",
       " - `LPRSInterimPrep(bitsize=5, eps=1e-11)`: 2\n",
       " - `MultiControlPauli(cvs=(0, 0, 0, 0, 0, 0), target_gate=cirq.Z)`: 1\n",
       " - `Ry(0.4903527690225672π)`: 3\n",
       " - `XGate()`: 4"
      ],
      "text/plain": [
       "<IPython.core.display.Markdown object>"
      ]
     },
     "metadata": {},
     "output_type": "display_data"
    }
   ],
   "source": [
    "from qualtran.resource_counting.generalizers import ignore_split_join\n",
    "lp_resource_state_small_g, lp_resource_state_small_sigma = lp_resource_state_small.call_graph(max_depth=1, generalizer=ignore_split_join)\n",
    "show_call_graph(lp_resource_state_small_g)\n",
    "show_counts_sigma(lp_resource_state_small_sigma)"
   ]
  }
 ],
 "metadata": {
  "kernelspec": {
   "display_name": "Python 3",
   "language": "python",
   "name": "python3"
  },
  "language_info": {
   "codemirror_mode": {
    "name": "ipython",
    "version": 3
   },
   "file_extension": ".py",
   "mimetype": "text/x-python",
   "name": "python",
   "nbconvert_exporter": "python",
   "pygments_lexer": "ipython3",
   "version": "3.11.8"
  },
  "widgets": {
   "application/vnd.jupyter.widget-state+json": {
    "state": {
     "13f6906fec9b423e84c91df38fda42eb": {
      "model_module": "@jupyter-widgets/output",
      "model_module_version": "1.0.0",
      "model_name": "OutputModel",
      "state": {
       "_dom_classes": [],
       "_model_module": "@jupyter-widgets/output",
       "_model_module_version": "1.0.0",
       "_model_name": "OutputModel",
       "_view_count": null,
       "_view_module": "@jupyter-widgets/output",
       "_view_module_version": "1.0.0",
       "_view_name": "OutputView",
       "layout": "IPY_MODEL_4862f32f693d494a8ec23093c057979f",
       "msg_id": "",
       "outputs": [
        {
         "data": {
          "text/markdown": "`lp_resource_state_small`",
          "text/plain": "<IPython.core.display.Markdown object>"
         },
         "metadata": {},
         "output_type": "display_data"
        },
        {
         "data": {
          "image/svg+xml": "<svg xmlns=\"http://www.w3.org/2000/svg\" xmlns:xlink=\"http://www.w3.org/1999/xlink\" width=\"241pt\" height=\"54pt\" viewBox=\"0.00 0.00 241.00 54.00\">\n<g id=\"graph0\" class=\"graph\" transform=\"scale(1 1) rotate(0) translate(4 50)\">\n<title>my_graph</title>\n<polygon fill=\"white\" stroke=\"transparent\" points=\"-4,4 -4,-50 237,-50 237,4 -4,4\"/>\n<!-- m_G1 -->\n<g id=\"node1\" class=\"node\">\n<title>m_G1</title>\n<text text-anchor=\"middle\" x=\"27\" y=\"-14.3\" font-family=\"Times,serif\" font-size=\"14.00\">m</text>\n</g>\n<!-- LPResourceState -->\n<g id=\"node2\" class=\"node\">\n<title>LPResourceState</title>\n<polygon fill=\"none\" stroke=\"black\" points=\"91.5,-29 91.5,-46 142.5,-46 142.5,-29 91.5,-29\"/>\n<text text-anchor=\"start\" x=\"94.5\" y=\"-35\" font-family=\"Times,serif\" font-size=\"10.00\">LPResour..</text>\n<polygon fill=\"none\" stroke=\"black\" points=\"91.5,-8 91.5,-29 142.5,-29 142.5,-8 91.5,-8\"/>\n<text text-anchor=\"start\" x=\"111\" y=\"-14.8\" font-family=\"Times,serif\" font-size=\"14.00\">m</text>\n</g>\n<!-- m_G1&#45;&gt;LPResourceState -->\n<g id=\"edge1\" class=\"edge\">\n<title>m_G1:e-&gt;LPResourceState:w</title>\n<path fill=\"none\" stroke=\"black\" d=\"M54,-18C69.67,-18 74.14,-18 88.77,-18\"/>\n<ellipse fill=\"black\" stroke=\"black\" cx=\"90\" cy=\"-18\" rx=\"1\" ry=\"1\"/>\n<text text-anchor=\"middle\" x=\"72.5\" y=\"-21\" font-family=\"Times,serif\" font-size=\"10.00\">5</text>\n</g>\n<!-- m_G2 -->\n<g id=\"node3\" class=\"node\">\n<title>m_G2</title>\n<text text-anchor=\"middle\" x=\"206\" y=\"-14.3\" font-family=\"Times,serif\" font-size=\"14.00\">m</text>\n</g>\n<!-- LPResourceState&#45;&gt;m_G2 -->\n<g id=\"edge2\" class=\"edge\">\n<title>LPResourceState:e-&gt;m_G2:w</title>\n<path fill=\"none\" stroke=\"black\" d=\"M142,-18C157.67,-18 162.14,-18 176.77,-18\"/>\n<ellipse fill=\"black\" stroke=\"black\" cx=\"178\" cy=\"-18\" rx=\"1\" ry=\"1\"/>\n<text text-anchor=\"middle\" x=\"160.5\" y=\"-21\" font-family=\"Times,serif\" font-size=\"10.00\">5</text>\n</g>\n</g>\n</svg>",
          "text/plain": "<IPython.core.display.SVG object>"
         },
         "metadata": {},
         "output_type": "display_data"
        }
       ],
       "tabbable": null,
       "tooltip": null
      }
     },
     "2c4a91a5e22b42d297bd97353aa9dd72": {
      "model_module": "@jupyter-widgets/base",
      "model_module_version": "2.0.0",
      "model_name": "LayoutModel",
      "state": {
       "_model_module": "@jupyter-widgets/base",
       "_model_module_version": "2.0.0",
       "_model_name": "LayoutModel",
       "_view_count": null,
       "_view_module": "@jupyter-widgets/base",
       "_view_module_version": "2.0.0",
       "_view_name": "LayoutView",
       "align_content": null,
       "align_items": null,
       "align_self": null,
       "border_bottom": null,
       "border_left": null,
       "border_right": null,
       "border_top": null,
       "bottom": null,
       "display": null,
       "flex": null,
       "flex_flow": null,
       "grid_area": null,
       "grid_auto_columns": null,
       "grid_auto_flow": null,
       "grid_auto_rows": null,
       "grid_column": null,
       "grid_gap": null,
       "grid_row": null,
       "grid_template_areas": null,
       "grid_template_columns": null,
       "grid_template_rows": null,
       "height": null,
       "justify_content": null,
       "justify_items": null,
       "left": null,
       "margin": null,
       "max_height": null,
       "max_width": null,
       "min_height": null,
       "min_width": null,
       "object_fit": null,
       "object_position": null,
       "order": null,
       "overflow": null,
       "padding": null,
       "right": null,
       "top": null,
       "visibility": null,
       "width": null
      }
     },
     "3dad301aa6c949d9a4e84c72a8a76648": {
      "model_module": "@jupyter-widgets/output",
      "model_module_version": "1.0.0",
      "model_name": "OutputModel",
      "state": {
       "_dom_classes": [],
       "_model_module": "@jupyter-widgets/output",
       "_model_module_version": "1.0.0",
       "_model_name": "OutputModel",
       "_view_count": null,
       "_view_module": "@jupyter-widgets/output",
       "_view_module_version": "1.0.0",
       "_view_name": "OutputView",
       "layout": "IPY_MODEL_9bc06d7df9694f1f81e24d193513ade3",
       "msg_id": "",
       "outputs": [
        {
         "data": {
          "text/markdown": "`lprs_interim_prep`",
          "text/plain": "<IPython.core.display.Markdown object>"
         },
         "metadata": {},
         "output_type": "display_data"
        },
        {
         "data": {
          "image/svg+xml": "<svg xmlns=\"http://www.w3.org/2000/svg\" xmlns:xlink=\"http://www.w3.org/1999/xlink\" width=\"220pt\" height=\"98pt\" viewBox=\"0.00 0.00 220.00 98.00\">\n<g id=\"graph0\" class=\"graph\" transform=\"scale(1 1) rotate(0) translate(4 94)\">\n<title>my_graph</title>\n<polygon fill=\"white\" stroke=\"transparent\" points=\"-4,4 -4,-94 216,-94 216,4 -4,4\"/>\n<!-- m_G5 -->\n<g id=\"node1\" class=\"node\">\n<title>m_G5</title>\n<text text-anchor=\"middle\" x=\"27\" y=\"-68.3\" font-family=\"Times,serif\" font-size=\"14.00\">m</text>\n</g>\n<!-- LPRSInterimPrep -->\n<g id=\"node3\" class=\"node\">\n<title>LPRSInterimPrep</title>\n<polygon fill=\"none\" stroke=\"black\" points=\"91,-66 91,-83 121,-83 121,-66 91,-66\"/>\n<text text-anchor=\"start\" x=\"94\" y=\"-72\" font-family=\"Times,serif\" font-size=\"10.00\">LPRS</text>\n<polygon fill=\"none\" stroke=\"black\" points=\"91,-45 91,-66 121,-66 121,-45 91,-45\"/>\n<text text-anchor=\"start\" x=\"100\" y=\"-51.8\" font-family=\"Times,serif\" font-size=\"14.00\">m</text>\n<polygon fill=\"none\" stroke=\"black\" points=\"91,-24 91,-45 121,-45 121,-24 91,-24\"/>\n<text text-anchor=\"start\" x=\"96.5\" y=\"-30.8\" font-family=\"Times,serif\" font-size=\"14.00\">anc</text>\n</g>\n<!-- m_G5&#45;&gt;LPRSInterimPrep -->\n<g id=\"edge1\" class=\"edge\">\n<title>m_G5:e-&gt;LPRSInterimPrep:w</title>\n<path fill=\"none\" stroke=\"black\" d=\"M54,-72C71.22,-72 72.97,-57.23 88.98,-56.07\"/>\n<ellipse fill=\"black\" stroke=\"black\" cx=\"90\" cy=\"-56.04\" rx=\"1\" ry=\"1\"/>\n<text text-anchor=\"middle\" x=\"72.5\" y=\"-67\" font-family=\"Times,serif\" font-size=\"10.00\">5</text>\n</g>\n<!-- anc_G3 -->\n<g id=\"node2\" class=\"node\">\n<title>anc_G3</title>\n<text text-anchor=\"middle\" x=\"27\" y=\"-14.3\" font-family=\"Times,serif\" font-size=\"14.00\">anc</text>\n</g>\n<!-- anc_G3&#45;&gt;LPRSInterimPrep -->\n<g id=\"edge2\" class=\"edge\">\n<title>anc_G3:e-&gt;LPRSInterimPrep:w</title>\n<path fill=\"none\" stroke=\"black\" d=\"M54,-18C71.22,-18 72.97,-32.77 88.98,-33.93\"/>\n<ellipse fill=\"black\" stroke=\"black\" cx=\"90\" cy=\"-33.96\" rx=\"1\" ry=\"1\"/>\n<text text-anchor=\"middle\" x=\"72.5\" y=\"-29\" font-family=\"Times,serif\" font-size=\"10.00\">1</text>\n</g>\n<!-- m_G2 -->\n<g id=\"node4\" class=\"node\">\n<title>m_G2</title>\n<text text-anchor=\"middle\" x=\"185\" y=\"-68.3\" font-family=\"Times,serif\" font-size=\"14.00\">m</text>\n</g>\n<!-- LPRSInterimPrep&#45;&gt;m_G2 -->\n<g id=\"edge3\" class=\"edge\">\n<title>LPRSInterimPrep:e-&gt;m_G2:w</title>\n<path fill=\"none\" stroke=\"black\" d=\"M121,-56C138.22,-56 139.97,-70.77 155.98,-71.93\"/>\n<ellipse fill=\"black\" stroke=\"black\" cx=\"157\" cy=\"-71.96\" rx=\"1\" ry=\"1\"/>\n<text text-anchor=\"middle\" x=\"139.5\" y=\"-67\" font-family=\"Times,serif\" font-size=\"10.00\">5</text>\n</g>\n<!-- anc_G4 -->\n<g id=\"node5\" class=\"node\">\n<title>anc_G4</title>\n<text text-anchor=\"middle\" x=\"185\" y=\"-14.3\" font-family=\"Times,serif\" font-size=\"14.00\">anc</text>\n</g>\n<!-- LPRSInterimPrep&#45;&gt;anc_G4 -->\n<g id=\"edge4\" class=\"edge\">\n<title>LPRSInterimPrep:e-&gt;anc_G4:w</title>\n<path fill=\"none\" stroke=\"black\" d=\"M121,-34C138.22,-34 139.97,-19.23 155.98,-18.07\"/>\n<ellipse fill=\"black\" stroke=\"black\" cx=\"157\" cy=\"-18.04\" rx=\"1\" ry=\"1\"/>\n<text text-anchor=\"middle\" x=\"139.5\" y=\"-29\" font-family=\"Times,serif\" font-size=\"10.00\">1</text>\n</g>\n</g>\n</svg>",
          "text/plain": "<IPython.core.display.SVG object>"
         },
         "metadata": {},
         "output_type": "display_data"
        }
       ],
       "tabbable": null,
       "tooltip": null
      }
     },
     "4862f32f693d494a8ec23093c057979f": {
      "model_module": "@jupyter-widgets/base",
      "model_module_version": "2.0.0",
      "model_name": "LayoutModel",
      "state": {
       "_model_module": "@jupyter-widgets/base",
       "_model_module_version": "2.0.0",
       "_model_name": "LayoutModel",
       "_view_count": null,
       "_view_module": "@jupyter-widgets/base",
       "_view_module_version": "2.0.0",
       "_view_name": "LayoutView",
       "align_content": null,
       "align_items": null,
       "align_self": null,
       "border_bottom": null,
       "border_left": null,
       "border_right": null,
       "border_top": null,
       "bottom": null,
       "display": null,
       "flex": null,
       "flex_flow": null,
       "grid_area": null,
       "grid_auto_columns": null,
       "grid_auto_flow": null,
       "grid_auto_rows": null,
       "grid_column": null,
       "grid_gap": null,
       "grid_row": null,
       "grid_template_areas": null,
       "grid_template_columns": null,
       "grid_template_rows": null,
       "height": null,
       "justify_content": null,
       "justify_items": null,
       "left": null,
       "margin": null,
       "max_height": null,
       "max_width": null,
       "min_height": null,
       "min_width": null,
       "object_fit": null,
       "object_position": null,
       "order": null,
       "overflow": null,
       "padding": null,
       "right": null,
       "top": null,
       "visibility": null,
       "width": null
      }
     },
     "4cda30cc0723475daec79923c43988ca": {
      "model_module": "@jupyter-widgets/controls",
      "model_module_version": "2.0.0",
      "model_name": "HBoxModel",
      "state": {
       "_dom_classes": [],
       "_model_module": "@jupyter-widgets/controls",
       "_model_module_version": "2.0.0",
       "_model_name": "HBoxModel",
       "_view_count": null,
       "_view_module": "@jupyter-widgets/controls",
       "_view_module_version": "2.0.0",
       "_view_name": "HBoxView",
       "box_style": "",
       "children": [
        "IPY_MODEL_13f6906fec9b423e84c91df38fda42eb",
        "IPY_MODEL_fce4c1f17b014a238c4d1fb6be01f6a0"
       ],
       "layout": "IPY_MODEL_980e48d456a04a609c0957100e28973c",
       "tabbable": null,
       "tooltip": null
      }
     },
     "5ae01da018394813aed721aa51e0856d": {
      "model_module": "@jupyter-widgets/controls",
      "model_module_version": "2.0.0",
      "model_name": "HBoxModel",
      "state": {
       "_dom_classes": [],
       "_model_module": "@jupyter-widgets/controls",
       "_model_module_version": "2.0.0",
       "_model_name": "HBoxModel",
       "_view_count": null,
       "_view_module": "@jupyter-widgets/controls",
       "_view_module_version": "2.0.0",
       "_view_name": "HBoxView",
       "box_style": "",
       "children": [
        "IPY_MODEL_3dad301aa6c949d9a4e84c72a8a76648"
       ],
       "layout": "IPY_MODEL_2c4a91a5e22b42d297bd97353aa9dd72",
       "tabbable": null,
       "tooltip": null
      }
     },
     "980e48d456a04a609c0957100e28973c": {
      "model_module": "@jupyter-widgets/base",
      "model_module_version": "2.0.0",
      "model_name": "LayoutModel",
      "state": {
       "_model_module": "@jupyter-widgets/base",
       "_model_module_version": "2.0.0",
       "_model_name": "LayoutModel",
       "_view_count": null,
       "_view_module": "@jupyter-widgets/base",
       "_view_module_version": "2.0.0",
       "_view_name": "LayoutView",
       "align_content": null,
       "align_items": null,
       "align_self": null,
       "border_bottom": null,
       "border_left": null,
       "border_right": null,
       "border_top": null,
       "bottom": null,
       "display": null,
       "flex": null,
       "flex_flow": null,
       "grid_area": null,
       "grid_auto_columns": null,
       "grid_auto_flow": null,
       "grid_auto_rows": null,
       "grid_column": null,
       "grid_gap": null,
       "grid_row": null,
       "grid_template_areas": null,
       "grid_template_columns": null,
       "grid_template_rows": null,
       "height": null,
       "justify_content": null,
       "justify_items": null,
       "left": null,
       "margin": null,
       "max_height": null,
       "max_width": null,
       "min_height": null,
       "min_width": null,
       "object_fit": null,
       "object_position": null,
       "order": null,
       "overflow": null,
       "padding": null,
       "right": null,
       "top": null,
       "visibility": null,
       "width": null
      }
     },
     "9bc06d7df9694f1f81e24d193513ade3": {
      "model_module": "@jupyter-widgets/base",
      "model_module_version": "2.0.0",
      "model_name": "LayoutModel",
      "state": {
       "_model_module": "@jupyter-widgets/base",
       "_model_module_version": "2.0.0",
       "_model_name": "LayoutModel",
       "_view_count": null,
       "_view_module": "@jupyter-widgets/base",
       "_view_module_version": "2.0.0",
       "_view_name": "LayoutView",
       "align_content": null,
       "align_items": null,
       "align_self": null,
       "border_bottom": null,
       "border_left": null,
       "border_right": null,
       "border_top": null,
       "bottom": null,
       "display": null,
       "flex": null,
       "flex_flow": null,
       "grid_area": null,
       "grid_auto_columns": null,
       "grid_auto_flow": null,
       "grid_auto_rows": null,
       "grid_column": null,
       "grid_gap": null,
       "grid_row": null,
       "grid_template_areas": null,
       "grid_template_columns": null,
       "grid_template_rows": null,
       "height": null,
       "justify_content": null,
       "justify_items": null,
       "left": null,
       "margin": null,
       "max_height": null,
       "max_width": null,
       "min_height": null,
       "min_width": null,
       "object_fit": null,
       "object_position": null,
       "order": null,
       "overflow": null,
       "padding": null,
       "right": null,
       "top": null,
       "visibility": null,
       "width": null
      }
     },
     "d1b603b38d084048893b0a5c1b828ec4": {
      "model_module": "@jupyter-widgets/base",
      "model_module_version": "2.0.0",
      "model_name": "LayoutModel",
      "state": {
       "_model_module": "@jupyter-widgets/base",
       "_model_module_version": "2.0.0",
       "_model_name": "LayoutModel",
       "_view_count": null,
       "_view_module": "@jupyter-widgets/base",
       "_view_module_version": "2.0.0",
       "_view_name": "LayoutView",
       "align_content": null,
       "align_items": null,
       "align_self": null,
       "border_bottom": null,
       "border_left": null,
       "border_right": null,
       "border_top": null,
       "bottom": null,
       "display": null,
       "flex": null,
       "flex_flow": null,
       "grid_area": null,
       "grid_auto_columns": null,
       "grid_auto_flow": null,
       "grid_auto_rows": null,
       "grid_column": null,
       "grid_gap": null,
       "grid_row": null,
       "grid_template_areas": null,
       "grid_template_columns": null,
       "grid_template_rows": null,
       "height": null,
       "justify_content": null,
       "justify_items": null,
       "left": null,
       "margin": null,
       "max_height": null,
       "max_width": null,
       "min_height": null,
       "min_width": null,
       "object_fit": null,
       "object_position": null,
       "order": null,
       "overflow": null,
       "padding": null,
       "right": null,
       "top": null,
       "visibility": null,
       "width": null
      }
     },
     "fce4c1f17b014a238c4d1fb6be01f6a0": {
      "model_module": "@jupyter-widgets/output",
      "model_module_version": "1.0.0",
      "model_name": "OutputModel",
      "state": {
       "_dom_classes": [],
       "_model_module": "@jupyter-widgets/output",
       "_model_module_version": "1.0.0",
       "_model_name": "OutputModel",
       "_view_count": null,
       "_view_module": "@jupyter-widgets/output",
       "_view_module_version": "1.0.0",
       "_view_name": "OutputView",
       "layout": "IPY_MODEL_d1b603b38d084048893b0a5c1b828ec4",
       "msg_id": "",
       "outputs": [
        {
         "data": {
          "text/markdown": "`lp_resource_state_symbolic`",
          "text/plain": "<IPython.core.display.Markdown object>"
         },
         "metadata": {},
         "output_type": "display_data"
        },
        {
         "data": {
          "image/svg+xml": "<svg xmlns=\"http://www.w3.org/2000/svg\" xmlns:xlink=\"http://www.w3.org/1999/xlink\" width=\"241pt\" height=\"54pt\" viewBox=\"0.00 0.00 241.00 54.00\">\n<g id=\"graph0\" class=\"graph\" transform=\"scale(1 1) rotate(0) translate(4 50)\">\n<title>my_graph</title>\n<polygon fill=\"white\" stroke=\"transparent\" points=\"-4,4 -4,-50 237,-50 237,4 -4,4\"/>\n<!-- m_G0 -->\n<g id=\"node1\" class=\"node\">\n<title>m_G0</title>\n<text text-anchor=\"middle\" x=\"27\" y=\"-14.3\" font-family=\"Times,serif\" font-size=\"14.00\">m</text>\n</g>\n<!-- LPResourceState -->\n<g id=\"node2\" class=\"node\">\n<title>LPResourceState</title>\n<polygon fill=\"none\" stroke=\"black\" points=\"91.5,-29 91.5,-46 142.5,-46 142.5,-29 91.5,-29\"/>\n<text text-anchor=\"start\" x=\"94.5\" y=\"-35\" font-family=\"Times,serif\" font-size=\"10.00\">LPResour..</text>\n<polygon fill=\"none\" stroke=\"black\" points=\"91.5,-8 91.5,-29 142.5,-29 142.5,-8 91.5,-8\"/>\n<text text-anchor=\"start\" x=\"111\" y=\"-14.8\" font-family=\"Times,serif\" font-size=\"14.00\">m</text>\n</g>\n<!-- m_G0&#45;&gt;LPResourceState -->\n<g id=\"edge1\" class=\"edge\">\n<title>m_G0:e-&gt;LPResourceState:w</title>\n<path fill=\"none\" stroke=\"black\" d=\"M54,-18C69.67,-18 74.14,-18 88.77,-18\"/>\n<ellipse fill=\"black\" stroke=\"black\" cx=\"90\" cy=\"-18\" rx=\"1\" ry=\"1\"/>\n<text text-anchor=\"middle\" x=\"72.5\" y=\"-21\" font-family=\"Times,serif\" font-size=\"10.00\">n</text>\n</g>\n<!-- m_G1 -->\n<g id=\"node3\" class=\"node\">\n<title>m_G1</title>\n<text text-anchor=\"middle\" x=\"206\" y=\"-14.3\" font-family=\"Times,serif\" font-size=\"14.00\">m</text>\n</g>\n<!-- LPResourceState&#45;&gt;m_G1 -->\n<g id=\"edge2\" class=\"edge\">\n<title>LPResourceState:e-&gt;m_G1:w</title>\n<path fill=\"none\" stroke=\"black\" d=\"M142,-18C157.67,-18 162.14,-18 176.77,-18\"/>\n<ellipse fill=\"black\" stroke=\"black\" cx=\"178\" cy=\"-18\" rx=\"1\" ry=\"1\"/>\n<text text-anchor=\"middle\" x=\"160.5\" y=\"-21\" font-family=\"Times,serif\" font-size=\"10.00\">n</text>\n</g>\n</g>\n</svg>",
          "text/plain": "<IPython.core.display.SVG object>"
         },
         "metadata": {},
         "output_type": "display_data"
        }
       ],
       "tabbable": null,
       "tooltip": null
      }
     }
    },
    "version_major": 2,
    "version_minor": 0
   }
  }
 },
 "nbformat": 4,
 "nbformat_minor": 5
}
