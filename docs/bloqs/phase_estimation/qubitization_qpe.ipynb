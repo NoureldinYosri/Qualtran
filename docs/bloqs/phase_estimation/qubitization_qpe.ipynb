{
 "cells": [
  {
   "cell_type": "markdown",
   "id": "8a9351ad",
   "metadata": {
    "cq.autogen": "title_cell"
   },
   "source": [
    "# Qubitization Phase Estimation"
   ]
  },
  {
   "cell_type": "code",
   "execution_count": 1,
   "id": "5edd9118",
   "metadata": {
    "cq.autogen": "top_imports"
   },
   "outputs": [],
   "source": [
    "from qualtran import Bloq, CompositeBloq, BloqBuilder, Signature, Register\n",
    "from qualtran import QBit, QInt, QUInt, QAny\n",
    "from qualtran.drawing import show_bloq, show_call_graph, show_counts_sigma\n",
    "from typing import *\n",
    "import numpy as np\n",
    "import sympy\n",
    "import cirq"
   ]
  },
  {
   "cell_type": "markdown",
   "id": "6d311772",
   "metadata": {
    "cq.autogen": "QubitizationQPE.bloq_doc.md"
   },
   "source": [
    "## `QubitizationQPE`\n",
    "Heisenberg limited phase estimation circuit for learning eigenphase of `walk`.\n",
    "\n",
    "The Bloq yields an OPTREE to construct Heisenberg limited phase estimation circuit\n",
    "for learning eigenphases of the `walk` operator with `m` bits of accuracy. The\n",
    "circuit is implemented as given in Fig.2 of Ref-1.\n",
    "\n",
    "```\n",
    "       ┌─────────┐                                     ┌─────────┐\n",
    "  |0> -│         │-------------------------(0)---(0)---│         │---M--- [m1]:highest bit\n",
    "       │         │                          |     |    │         │\n",
    "  |0> -│         │----------------(0)---(0)-+-----+----│         │---M--- [m2]\n",
    "       │CtrlState│                 |     |  |     |    │ QFT_inv │\n",
    "  |0> -│  Prep   │-------(0)---(0)-+-----+--+-----+----│         │---M--- [m3]\n",
    "       │         │        |     |  |     |  |     |    │         │\n",
    "  |0> -│         │---@----+-----+--+-----+--+-----+----│         │---M--- [m4]:lowest bit\n",
    "       └─────────┘   |    |     |  |     |  |     |    └─────────┘\n",
    "|Psi> ---------------W----R-W^2-R--R-W^4-R--R-W^8-R---------------------- |Psi>\n",
    "\n",
    "```\n",
    "\n",
    "TODO: Note that there are slight differences between the Fig2 of the Ref[1] and the circuit\n",
    "      implemented here. Further investigation is required to reconcile the difference.\n",
    "\n",
    "#### Parameters\n",
    " - `walk`: Bloq representing the Qubitization walk operator to run the phase estimation protocol on.\n",
    " - `m_bits`: Bitsize of the phase register to be used during phase estimation.\n",
    " - `ctrl_state_prep`: Bloq to prepare the control state on the phase register. Defaults to `OnEach(self.m_bits, Hadamard())`.\n",
    " - `qft_inv`: Bloq to apply inverse QFT on the phase register. Defaults to `QFTTextBook(self.m_bits).adjoint()`  \n",
    "\n",
    "#### Registers\n",
    " - `qpe_reg`: Control register of type `QFxp(self.m_bits, self.m_bits)` for phase estimation.\n",
    " - `target registers`: All registers used in `self.unitary.signature` \n",
    "\n",
    "#### References\n",
    " - [Encoding Electronic Spectra in Quantum Circuits with Linear T Complexity](https://arxiv.org/abs/1805.03662). Fig. 2\n"
   ]
  },
  {
   "cell_type": "code",
   "execution_count": 2,
   "id": "64641b14",
   "metadata": {
    "cq.autogen": "QubitizationQPE.bloq_doc.py"
   },
   "outputs": [],
   "source": [
    "from qualtran.bloqs.phase_estimation import QubitizationQPE"
   ]
  },
  {
   "cell_type": "markdown",
   "id": "1521d292",
   "metadata": {
    "cq.autogen": "QubitizationQPE.example_instances.md"
   },
   "source": [
    "### Example Instances"
   ]
  },
  {
   "cell_type": "code",
   "execution_count": 3,
   "id": "3521613b",
   "metadata": {
    "cq.autogen": "QubitizationQPE.qubitization_qpe_hubbard_model_small"
   },
   "outputs": [],
   "source": [
    "import numpy as np\n",
    "\n",
    "from qualtran.bloqs.chemistry.hubbard_model.qubitization import (\n",
    "    get_walk_operator_for_hubbard_model,\n",
    ")\n",
    "from qualtran.bloqs.phase_estimation import LPResourceState, QubitizationQPE\n",
    "\n",
    "x_dim, y_dim, t = 2, 2, 2\n",
    "u = 4 * t\n",
    "walk = get_walk_operator_for_hubbard_model(x_dim, y_dim, t, u)\n",
    "\n",
    "algo_eps = t / 100\n",
    "N = x_dim * y_dim * 2\n",
    "qlambda = 2 * N * t + (N * u) // 2\n",
    "qpe_eps = algo_eps / (qlambda * np.sqrt(2))\n",
    "qubitization_qpe_hubbard_model_small = QubitizationQPE(\n",
    "    walk, LPResourceState.from_standard_deviation_eps(qpe_eps)\n",
    ")"
   ]
  },
  {
   "cell_type": "code",
   "execution_count": 4,
   "id": "f6a6e748",
   "metadata": {
    "cq.autogen": "QubitizationQPE.qubitization_qpe_sparse_chem"
   },
   "outputs": [],
   "source": [
    "import numpy as np\n",
    "\n",
    "from qualtran.bloqs.chemistry.sparse.prepare_test import build_random_test_integrals\n",
    "from qualtran.bloqs.chemistry.sparse.walk_operator import get_walk_operator_for_sparse_chem_ham\n",
    "from qualtran.bloqs.phase_estimation import LPResourceState, QubitizationQPE\n",
    "\n",
    "num_spatial = 6\n",
    "tpq, eris = build_random_test_integrals(num_spatial // 2, seed=7)\n",
    "walk = get_walk_operator_for_sparse_chem_ham(\n",
    "    tpq, eris, num_bits_rot_aa=8, num_bits_state_prep=16\n",
    ")\n",
    "\n",
    "algo_eps = 0.0016\n",
    "qlambda = np.sum(np.abs(tpq)) + 0.5 * np.sum(np.abs(eris))\n",
    "qpe_eps = algo_eps / (qlambda * np.sqrt(2))\n",
    "qubitization_qpe_sparse_chem = QubitizationQPE(\n",
    "    walk, LPResourceState.from_standard_deviation_eps(qpe_eps)\n",
    ")"
   ]
  },
  {
   "cell_type": "code",
   "execution_count": 5,
   "id": "8879e3e4",
   "metadata": {
    "cq.autogen": "QubitizationQPE.qubitization_qpe_chem_thc"
   },
   "outputs": [],
   "source": [
    "from openfermion.resource_estimates.utils import QI\n",
    "\n",
    "from qualtran.bloqs.chemistry.thc.prepare_test import build_random_test_integrals\n",
    "from qualtran.bloqs.chemistry.thc.walk_operator import get_walk_operator_for_thc_ham\n",
    "from qualtran.bloqs.phase_estimation import LPResourceState, QubitizationQPE\n",
    "\n",
    "# Li et al parameters from openfermion.resource_estimates.thc.compute_cost_thc_test\n",
    "num_spinorb = 152\n",
    "num_bits_state_prep = 10\n",
    "num_bits_rot = 20\n",
    "thc_dim = 450\n",
    "num_spat = num_spinorb // 2\n",
    "qroam_blocking_factor = np.power(2, QI(thc_dim + num_spat)[0])\n",
    "t_l, eta, zeta = build_random_test_integrals(thc_dim, num_spinorb // 2, seed=7)\n",
    "walk = get_walk_operator_for_thc_ham(\n",
    "    t_l,\n",
    "    eta,\n",
    "    zeta,\n",
    "    num_bits_state_prep=num_bits_state_prep,\n",
    "    num_bits_theta=num_bits_rot,\n",
    "    kr1=qroam_blocking_factor,\n",
    "    kr2=qroam_blocking_factor,\n",
    ")\n",
    "\n",
    "algo_eps = 0.0016\n",
    "qpe_eps = algo_eps / (walk.block_encoding.alpha * 2**0.5)\n",
    "qubitization_qpe_chem_thc = QubitizationQPE(\n",
    "    walk, LPResourceState.from_standard_deviation_eps(qpe_eps)\n",
    ")"
   ]
  },
  {
   "cell_type": "markdown",
   "id": "b19f9365",
   "metadata": {
    "cq.autogen": "QubitizationQPE.graphical_signature.md"
   },
   "source": [
    "#### Graphical Signature"
   ]
  },
  {
   "cell_type": "code",
   "execution_count": 6,
   "id": "82261d0a",
   "metadata": {
    "cq.autogen": "QubitizationQPE.graphical_signature.py"
   },
   "outputs": [
    {
     "data": {
      "application/vnd.jupyter.widget-view+json": {
       "model_id": "221735551c854a00b865ca8a436cacd6",
       "version_major": 2,
       "version_minor": 0
      },
      "text/plain": [
       "HBox(children=(Output(outputs=({'output_type': 'display_data', 'data': {'text/plain': '<IPython.core.display.M…"
      ]
     },
     "metadata": {},
     "output_type": "display_data"
    }
   ],
   "source": [
    "from qualtran.drawing import show_bloqs\n",
    "show_bloqs([qubitization_qpe_hubbard_model_small, qubitization_qpe_sparse_chem, qubitization_qpe_chem_thc],\n",
    "           ['`qubitization_qpe_hubbard_model_small`', '`qubitization_qpe_sparse_chem`', '`qubitization_qpe_chem_thc`'])"
   ]
  },
  {
   "cell_type": "markdown",
   "id": "a3597eeb",
   "metadata": {
    "cq.autogen": "QubitizationQPE.call_graph.md"
   },
   "source": [
    "### Call Graph"
   ]
  },
  {
   "cell_type": "code",
   "execution_count": 7,
   "id": "27176312",
   "metadata": {
    "cq.autogen": "QubitizationQPE.call_graph.py"
   },
   "outputs": [
    {
     "data": {
      "image/svg+xml": [
       "<svg xmlns=\"http://www.w3.org/2000/svg\" xmlns:xlink=\"http://www.w3.org/1999/xlink\" width=\"1513pt\" height=\"131pt\" viewBox=\"0.00 0.00 1512.50 131.00\">\n",
       "<g id=\"graph0\" class=\"graph\" transform=\"scale(1 1) rotate(0) translate(4 127)\">\n",
       "<title>counts</title>\n",
       "<polygon fill=\"white\" stroke=\"transparent\" points=\"-4,4 -4,-127 1508.5,-127 1508.5,4 -4,4\"/>\n",
       "<!-- b0 -->\n",
       "<g id=\"node1\" class=\"node\">\n",
       "<title>b0</title>\n",
       "<polygon fill=\"none\" stroke=\"black\" points=\"711.5,-123 280.5,-123 280.5,-87 711.5,-87 711.5,-123\"/>\n",
       "<text text-anchor=\"start\" x=\"438\" y=\"-106.8\" font-family=\"Times,serif\" font-size=\"14.00\">QubitizationQPE[14]</text>\n",
       "<text text-anchor=\"start\" x=\"288.5\" y=\"-96\" font-family=\"monospace\" font-size=\"10.00\">walk=Qubitiza ..., ctrl_state_prep=LPResour ..., qft_inv=Adjoint( ...</text>\n",
       "</g>\n",
       "<!-- b1 -->\n",
       "<g id=\"node2\" class=\"node\">\n",
       "<title>b1</title>\n",
       "<polygon fill=\"none\" stroke=\"black\" points=\"110,-36 0,-36 0,0 110,0 110,-36\"/>\n",
       "<text text-anchor=\"start\" x=\"8\" y=\"-19.8\" font-family=\"Times,serif\" font-size=\"14.00\">LPResourceState</text>\n",
       "<text text-anchor=\"start\" x=\"24.5\" y=\"-9\" font-family=\"monospace\" font-size=\"10.00\">bitsize=14</text>\n",
       "</g>\n",
       "<!-- b0&#45;&gt;b1 -->\n",
       "<g id=\"edge1\" class=\"edge\">\n",
       "<title>b0-&gt;b1</title>\n",
       "<path fill=\"none\" stroke=\"black\" d=\"M388.28,-86.96C315.14,-74.83 216.07,-57.3 119.98,-36.13\"/>\n",
       "<polygon fill=\"black\" stroke=\"black\" points=\"120.61,-32.69 110.09,-33.94 119.09,-39.52 120.61,-32.69\"/>\n",
       "<text text-anchor=\"middle\" x=\"287.5\" y=\"-57.8\" font-family=\"Times,serif\" font-size=\"14.00\">1</text>\n",
       "</g>\n",
       "<!-- b2 -->\n",
       "<g id=\"node3\" class=\"node\">\n",
       "<title>b2</title>\n",
       "<polygon fill=\"none\" stroke=\"black\" points=\"265.5,-36 128.5,-36 128.5,0 265.5,0 265.5,-36\"/>\n",
       "<text text-anchor=\"start\" x=\"153.5\" y=\"-19.8\" font-family=\"Times,serif\" font-size=\"14.00\">QFTTextBook†</text>\n",
       "<text text-anchor=\"start\" x=\"136.5\" y=\"-9\" font-family=\"monospace\" font-size=\"10.00\">subbloq=QFTTextB ...</text>\n",
       "</g>\n",
       "<!-- b0&#45;&gt;b2 -->\n",
       "<g id=\"edge2\" class=\"edge\">\n",
       "<title>b0-&gt;b2</title>\n",
       "<path fill=\"none\" stroke=\"black\" d=\"M435.85,-86.9C386.99,-73.01 318.01,-53.4 266.73,-38.82\"/>\n",
       "<polygon fill=\"black\" stroke=\"black\" points=\"267.63,-35.44 257.05,-36.07 265.71,-42.17 267.63,-35.44\"/>\n",
       "<text text-anchor=\"middle\" x=\"368.5\" y=\"-57.8\" font-family=\"Times,serif\" font-size=\"14.00\">1</text>\n",
       "</g>\n",
       "<!-- b3 -->\n",
       "<g id=\"node4\" class=\"node\">\n",
       "<title>b3</title>\n",
       "<polygon fill=\"none\" stroke=\"black\" points=\"708.5,-36 283.5,-36 283.5,0 708.5,0 708.5,-36\"/>\n",
       "<text text-anchor=\"start\" x=\"431\" y=\"-19.8\" font-family=\"Times,serif\" font-size=\"14.00\">ReflectionUsingPrepare</text>\n",
       "<text text-anchor=\"start\" x=\"291.5\" y=\"-9\" font-family=\"monospace\" font-size=\"10.00\">prepare_gate=PrepareH ..., control_val=0, global_phase=-1, eps=1e-11</text>\n",
       "</g>\n",
       "<!-- b0&#45;&gt;b3 -->\n",
       "<g id=\"edge3\" class=\"edge\">\n",
       "<title>b0-&gt;b3</title>\n",
       "<path fill=\"none\" stroke=\"black\" d=\"M496,-86.8C496,-75.16 496,-59.55 496,-46.24\"/>\n",
       "<polygon fill=\"black\" stroke=\"black\" points=\"499.5,-46.18 496,-36.18 492.5,-46.18 499.5,-46.18\"/>\n",
       "<text text-anchor=\"middle\" x=\"503\" y=\"-57.8\" font-family=\"Times,serif\" font-size=\"14.00\">26</text>\n",
       "</g>\n",
       "<!-- b4 -->\n",
       "<g id=\"node5\" class=\"node\">\n",
       "<title>b4</title>\n",
       "<polygon fill=\"none\" stroke=\"black\" points=\"1115.5,-36 726.5,-36 726.5,0 1115.5,0 1115.5,-36\"/>\n",
       "<text text-anchor=\"start\" x=\"848.5\" y=\"-19.8\" font-family=\"Times,serif\" font-size=\"14.00\">QubitizationWalkOperator</text>\n",
       "<text text-anchor=\"start\" x=\"734.5\" y=\"-9\" font-family=\"monospace\" font-size=\"10.00\">block_encoding=SelectBl ..., control_val=None, uncompute=False</text>\n",
       "</g>\n",
       "<!-- b0&#45;&gt;b4 -->\n",
       "<g id=\"edge4\" class=\"edge\">\n",
       "<title>b0-&gt;b4</title>\n",
       "<path fill=\"none\" stroke=\"black\" d=\"M581.24,-86.95C651.94,-72.81 752.4,-52.72 825.74,-38.05\"/>\n",
       "<polygon fill=\"black\" stroke=\"black\" points=\"826.78,-41.41 835.9,-36.02 825.41,-34.55 826.78,-41.41\"/>\n",
       "<text text-anchor=\"middle\" x=\"751\" y=\"-57.8\" font-family=\"Times,serif\" font-size=\"14.00\">16382</text>\n",
       "</g>\n",
       "<!-- b5 -->\n",
       "<g id=\"node6\" class=\"node\">\n",
       "<title>b5</title>\n",
       "<polygon fill=\"none\" stroke=\"black\" points=\"1504.5,-36 1133.5,-36 1133.5,0 1504.5,0 1504.5,-36\"/>\n",
       "<text text-anchor=\"start\" x=\"1246.5\" y=\"-19.8\" font-family=\"Times,serif\" font-size=\"14.00\">QubitizationWalkOperator</text>\n",
       "<text text-anchor=\"start\" x=\"1141.5\" y=\"-9\" font-family=\"monospace\" font-size=\"10.00\">block_encoding=SelectBl ..., control_val=1, uncompute=False</text>\n",
       "</g>\n",
       "<!-- b0&#45;&gt;b5 -->\n",
       "<g id=\"edge5\" class=\"edge\">\n",
       "<title>b0-&gt;b5</title>\n",
       "<path fill=\"none\" stroke=\"black\" d=\"M661.06,-86.95C801.06,-72.49 1001.29,-51.81 1144.04,-37.07\"/>\n",
       "<polygon fill=\"black\" stroke=\"black\" points=\"1144.62,-40.53 1154.21,-36.02 1143.91,-33.57 1144.62,-40.53\"/>\n",
       "<text text-anchor=\"middle\" x=\"960.5\" y=\"-57.8\" font-family=\"Times,serif\" font-size=\"14.00\">1</text>\n",
       "</g>\n",
       "</g>\n",
       "</svg>"
      ],
      "text/plain": [
       "<IPython.core.display.SVG object>"
      ]
     },
     "metadata": {},
     "output_type": "display_data"
    },
    {
     "data": {
      "text/markdown": [
       "#### Counts totals:\n",
       " - `Adjoint(subbloq=QFTTextBook)`: 1\n",
       " - `LPResourceState`: 1\n",
       " - `QubitizationWalkOperator`: 1\n",
       " - `QubitizationWalkOperator`: 16382\n",
       " - `ReflectionUsingPrepare`: 26"
      ],
      "text/plain": [
       "<IPython.core.display.Markdown object>"
      ]
     },
     "metadata": {},
     "output_type": "display_data"
    }
   ],
   "source": [
    "from qualtran.resource_counting.generalizers import ignore_split_join\n",
    "qubitization_qpe_hubbard_model_small_g, qubitization_qpe_hubbard_model_small_sigma = qubitization_qpe_hubbard_model_small.call_graph(max_depth=1, generalizer=ignore_split_join)\n",
    "show_call_graph(qubitization_qpe_hubbard_model_small_g)\n",
    "show_counts_sigma(qubitization_qpe_hubbard_model_small_sigma)"
   ]
  }
 ],
 "metadata": {
  "kernelspec": {
   "display_name": "Python 3 (ipykernel)",
   "language": "python",
   "name": "python3"
  },
  "language_info": {
   "codemirror_mode": {
    "name": "ipython",
    "version": 3
   },
   "file_extension": ".py",
   "mimetype": "text/x-python",
   "name": "python",
   "nbconvert_exporter": "python",
   "pygments_lexer": "ipython3",
   "version": "3.11.8"
  },
  "widgets": {
   "application/vnd.jupyter.widget-state+json": {
    "state": {
     "0d792ea38d5846d580e4b0ea5b8d93f7": {
      "model_module": "@jupyter-widgets/output",
      "model_module_version": "1.0.0",
      "model_name": "OutputModel",
      "state": {
       "_dom_classes": [],
       "_model_module": "@jupyter-widgets/output",
       "_model_module_version": "1.0.0",
       "_model_name": "OutputModel",
       "_view_count": null,
       "_view_module": "@jupyter-widgets/output",
       "_view_module_version": "1.0.0",
       "_view_name": "OutputView",
       "layout": "IPY_MODEL_42108b70809e4c2db61b156205689452",
       "msg_id": "",
       "outputs": [
        {
         "data": {
          "text/markdown": "`qubitization_qpe_sparse_chem`",
          "text/plain": "<IPython.core.display.Markdown object>"
         },
         "metadata": {},
         "output_type": "display_data"
        },
        {
         "data": {
          "image/svg+xml": "<svg xmlns=\"http://www.w3.org/2000/svg\" xmlns:xlink=\"http://www.w3.org/1999/xlink\" width=\"308pt\" height=\"800pt\" viewBox=\"0.00 0.00 308.00 800.00\">\n<g id=\"graph0\" class=\"graph\" transform=\"scale(1 1) rotate(0) translate(4 796)\">\n<title>my_graph</title>\n<polygon fill=\"white\" stroke=\"transparent\" points=\"-4,4 -4,-796 304,-796 304,4 -4,4\"/>\n<!-- rot_aa_G19 -->\n<g id=\"node1\" class=\"node\">\n<title>rot_aa_G19</title>\n<text text-anchor=\"middle\" x=\"37\" y=\"-733.3\" font-family=\"Times,serif\" font-size=\"14.00\">rot_aa</text>\n</g>\n<!-- QubitizationQPE -->\n<g id=\"node15\" class=\"node\">\n<title>QubitizationQPE</title>\n<polygon fill=\"none\" stroke=\"black\" points=\"111,-554 111,-571 189,-571 189,-554 111,-554\"/>\n<text text-anchor=\"start\" x=\"114\" y=\"-560\" font-family=\"Times,serif\" font-size=\"10.00\">QubitizationQPE</text>\n<polygon fill=\"none\" stroke=\"black\" points=\"111,-533 111,-554 128,-554 128,-533 111,-533\"/>\n<polygon fill=\"none\" stroke=\"black\" points=\"128,-533 128,-554 189,-554 189,-533 128,-533\"/>\n<text text-anchor=\"start\" x=\"136.5\" y=\"-539.8\" font-family=\"Times,serif\" font-size=\"14.00\">qpe_reg</text>\n<polygon fill=\"none\" stroke=\"black\" points=\"111,-512 111,-533 189,-533 189,-512 111,-512\"/>\n<text text-anchor=\"start\" x=\"133\" y=\"-518.8\" font-family=\"Times,serif\" font-size=\"14.00\">rot_aa</text>\n<polygon fill=\"none\" stroke=\"black\" points=\"111,-491 111,-512 189,-512 189,-491 111,-491\"/>\n<text text-anchor=\"start\" x=\"133\" y=\"-497.8\" font-family=\"Times,serif\" font-size=\"14.00\">sigma</text>\n<polygon fill=\"none\" stroke=\"black\" points=\"111,-470 111,-491 189,-491 189,-470 111,-470\"/>\n<text text-anchor=\"start\" x=\"146.5\" y=\"-476.8\" font-family=\"Times,serif\" font-size=\"14.00\">p</text>\n<polygon fill=\"none\" stroke=\"black\" points=\"111,-449 111,-470 189,-470 189,-449 111,-449\"/>\n<text text-anchor=\"start\" x=\"129\" y=\"-455.8\" font-family=\"Times,serif\" font-size=\"14.00\">flag_1b</text>\n<polygon fill=\"none\" stroke=\"black\" points=\"111,-428 111,-449 189,-449 189,-428 111,-428\"/>\n<text text-anchor=\"start\" x=\"146.5\" y=\"-434.8\" font-family=\"Times,serif\" font-size=\"14.00\">q</text>\n<polygon fill=\"none\" stroke=\"black\" points=\"111,-407 111,-428 189,-428 189,-407 111,-407\"/>\n<text text-anchor=\"start\" x=\"127.5\" y=\"-413.8\" font-family=\"Times,serif\" font-size=\"14.00\">swap_rs</text>\n<polygon fill=\"none\" stroke=\"black\" points=\"111,-386 111,-407 189,-407 189,-386 111,-386\"/>\n<text text-anchor=\"start\" x=\"125.5\" y=\"-392.8\" font-family=\"Times,serif\" font-size=\"14.00\">swap_pq</text>\n<polygon fill=\"none\" stroke=\"black\" points=\"111,-365 111,-386 189,-386 189,-365 111,-365\"/>\n<text text-anchor=\"start\" x=\"147\" y=\"-371.8\" font-family=\"Times,serif\" font-size=\"14.00\">s</text>\n<polygon fill=\"none\" stroke=\"black\" points=\"111,-344 111,-365 189,-365 189,-344 111,-344\"/>\n<text text-anchor=\"start\" x=\"135\" y=\"-350.8\" font-family=\"Times,serif\" font-size=\"14.00\">alpha</text>\n<polygon fill=\"none\" stroke=\"black\" points=\"111,-323 111,-344 189,-344 189,-323 111,-323\"/>\n<text text-anchor=\"start\" x=\"121\" y=\"-329.8\" font-family=\"Times,serif\" font-size=\"14.00\">swap_pqrs</text>\n<polygon fill=\"none\" stroke=\"black\" points=\"111,-302 111,-323 189,-323 189,-302 111,-302\"/>\n<text text-anchor=\"start\" x=\"146.5\" y=\"-308.8\" font-family=\"Times,serif\" font-size=\"14.00\">d</text>\n<polygon fill=\"none\" stroke=\"black\" points=\"111,-281 111,-302 189,-302 189,-281 111,-281\"/>\n<text text-anchor=\"start\" x=\"138.5\" y=\"-287.8\" font-family=\"Times,serif\" font-size=\"14.00\">beta</text>\n<polygon fill=\"none\" stroke=\"black\" points=\"111,-260 111,-281 189,-281 189,-260 111,-260\"/>\n<text text-anchor=\"start\" x=\"147.5\" y=\"-266.8\" font-family=\"Times,serif\" font-size=\"14.00\">r</text>\n<polygon fill=\"none\" stroke=\"black\" points=\"111,-239 111,-260 189,-260 189,-239 111,-239\"/>\n<text text-anchor=\"start\" x=\"141\" y=\"-245.8\" font-family=\"Times,serif\" font-size=\"14.00\">sys</text>\n</g>\n<!-- rot_aa_G19&#45;&gt;QubitizationQPE -->\n<g id=\"edge1\" class=\"edge\">\n<title>rot_aa_G19:e-&gt;QubitizationQPE:w</title>\n<path fill=\"none\" stroke=\"black\" d=\"M65,-737C77.65,-737 70.77,-722.23 74,-710 74.16,-709.4 105.96,-545.57 110.48,-525.09\"/>\n<ellipse fill=\"black\" stroke=\"black\" cx=\"110.76\" cy=\"-523.97\" rx=\"1\" ry=\"1\"/>\n<text text-anchor=\"middle\" x=\"92.5\" y=\"-619\" font-family=\"Times,serif\" font-size=\"10.00\">1</text>\n</g>\n<!-- sigma_G1 -->\n<g id=\"node2\" class=\"node\">\n<title>sigma_G1</title>\n<text text-anchor=\"middle\" x=\"37\" y=\"-679.3\" font-family=\"Times,serif\" font-size=\"14.00\">sigma</text>\n</g>\n<!-- sigma_G1&#45;&gt;QubitizationQPE -->\n<g id=\"edge2\" class=\"edge\">\n<title>sigma_G1:e-&gt;QubitizationQPE:w</title>\n<path fill=\"none\" stroke=\"black\" d=\"M65,-683C101.83,-683 83.57,-640.61 93,-605 98.76,-583.24 88.45,-506.98 108.92,-502.23\"/>\n<ellipse fill=\"black\" stroke=\"black\" cx=\"110.01\" cy=\"-502.11\" rx=\"1\" ry=\"1\"/>\n<text text-anchor=\"middle\" x=\"92.5\" y=\"-610\" font-family=\"Times,serif\" font-size=\"10.00\">16</text>\n</g>\n<!-- p_G22 -->\n<g id=\"node3\" class=\"node\">\n<title>p_G22</title>\n<text text-anchor=\"middle\" x=\"37\" y=\"-625.3\" font-family=\"Times,serif\" font-size=\"14.00\">p</text>\n</g>\n<!-- p_G22&#45;&gt;QubitizationQPE -->\n<g id=\"edge3\" class=\"edge\">\n<title>p_G22:e-&gt;QubitizationQPE:w</title>\n<path fill=\"none\" stroke=\"black\" d=\"M65,-629C133.07,-629 44.25,-484.45 108.64,-481.06\"/>\n<ellipse fill=\"black\" stroke=\"black\" cx=\"110\" cy=\"-481.03\" rx=\"1\" ry=\"1\"/>\n<text text-anchor=\"middle\" x=\"92.5\" y=\"-603\" font-family=\"Times,serif\" font-size=\"10.00\">2</text>\n</g>\n<!-- flag_1b_G42 -->\n<g id=\"node4\" class=\"node\">\n<title>flag_1b_G42</title>\n<text text-anchor=\"middle\" x=\"37\" y=\"-571.3\" font-family=\"Times,serif\" font-size=\"14.00\">flag_1b</text>\n</g>\n<!-- flag_1b_G42&#45;&gt;QubitizationQPE -->\n<g id=\"edge4\" class=\"edge\">\n<title>flag_1b_G42:e-&gt;QubitizationQPE:w</title>\n<path fill=\"none\" stroke=\"black\" d=\"M67,-575C120.98,-575 58.04,-463.12 108.82,-460.06\"/>\n<ellipse fill=\"black\" stroke=\"black\" cx=\"110\" cy=\"-460.03\" rx=\"1\" ry=\"1\"/>\n<text text-anchor=\"middle\" x=\"92.5\" y=\"-470\" font-family=\"Times,serif\" font-size=\"10.00\">1</text>\n</g>\n<!-- q_G40 -->\n<g id=\"node5\" class=\"node\">\n<title>q_G40</title>\n<text text-anchor=\"middle\" x=\"37\" y=\"-517.3\" font-family=\"Times,serif\" font-size=\"14.00\">q</text>\n</g>\n<!-- q_G40&#45;&gt;QubitizationQPE -->\n<g id=\"edge5\" class=\"edge\">\n<title>q_G40:e-&gt;QubitizationQPE:w</title>\n<path fill=\"none\" stroke=\"black\" d=\"M65,-521C105.97,-521 70.65,-442.17 108.64,-439.09\"/>\n<ellipse fill=\"black\" stroke=\"black\" cx=\"110\" cy=\"-439.04\" rx=\"1\" ry=\"1\"/>\n<text text-anchor=\"middle\" x=\"92.5\" y=\"-453\" font-family=\"Times,serif\" font-size=\"10.00\">2</text>\n</g>\n<!-- swap_rs_G34 -->\n<g id=\"node6\" class=\"node\">\n<title>swap_rs_G34</title>\n<text text-anchor=\"middle\" x=\"37\" y=\"-463.3\" font-family=\"Times,serif\" font-size=\"14.00\">swap_rs</text>\n</g>\n<!-- swap_rs_G34&#45;&gt;QubitizationQPE -->\n<g id=\"edge6\" class=\"edge\">\n<title>swap_rs_G34:e-&gt;QubitizationQPE:w</title>\n<path fill=\"none\" stroke=\"black\" d=\"M69,-467C96.9,-467 83.12,-420.64 108.74,-418.11\"/>\n<ellipse fill=\"black\" stroke=\"black\" cx=\"110\" cy=\"-418.05\" rx=\"1\" ry=\"1\"/>\n<text text-anchor=\"middle\" x=\"92.5\" y=\"-438\" font-family=\"Times,serif\" font-size=\"10.00\">1</text>\n</g>\n<!-- swap_pq_G5 -->\n<g id=\"node7\" class=\"node\">\n<title>swap_pq_G5</title>\n<text text-anchor=\"middle\" x=\"37\" y=\"-409.3\" font-family=\"Times,serif\" font-size=\"14.00\">swap_pq</text>\n</g>\n<!-- swap_pq_G5&#45;&gt;QubitizationQPE -->\n<g id=\"edge7\" class=\"edge\">\n<title>swap_pq_G5:e-&gt;QubitizationQPE:w</title>\n<path fill=\"none\" stroke=\"black\" d=\"M71,-413C89.56,-413 91.55,-397.3 108.82,-396.08\"/>\n<ellipse fill=\"black\" stroke=\"black\" cx=\"110\" cy=\"-396.03\" rx=\"1\" ry=\"1\"/>\n<text text-anchor=\"middle\" x=\"92.5\" y=\"-406\" font-family=\"Times,serif\" font-size=\"10.00\">1</text>\n</g>\n<!-- s_G8 -->\n<g id=\"node8\" class=\"node\">\n<title>s_G8</title>\n<text text-anchor=\"middle\" x=\"37\" y=\"-355.3\" font-family=\"Times,serif\" font-size=\"14.00\">s</text>\n</g>\n<!-- s_G8&#45;&gt;QubitizationQPE -->\n<g id=\"edge8\" class=\"edge\">\n<title>s_G8:e-&gt;QubitizationQPE:w</title>\n<path fill=\"none\" stroke=\"black\" d=\"M65,-359C85.8,-359 89.11,-373.77 108.55,-374.93\"/>\n<ellipse fill=\"black\" stroke=\"black\" cx=\"110\" cy=\"-374.97\" rx=\"1\" ry=\"1\"/>\n<text text-anchor=\"middle\" x=\"92.5\" y=\"-372\" font-family=\"Times,serif\" font-size=\"10.00\">2</text>\n</g>\n<!-- alpha_G28 -->\n<g id=\"node9\" class=\"node\">\n<title>alpha_G28</title>\n<text text-anchor=\"middle\" x=\"37\" y=\"-301.3\" font-family=\"Times,serif\" font-size=\"14.00\">alpha</text>\n</g>\n<!-- alpha_G28&#45;&gt;QubitizationQPE -->\n<g id=\"edge9\" class=\"edge\">\n<title>alpha_G28:e-&gt;QubitizationQPE:w</title>\n<path fill=\"none\" stroke=\"black\" d=\"M65,-305C94.17,-305 81.75,-351.73 108.97,-353.92\"/>\n<ellipse fill=\"black\" stroke=\"black\" cx=\"110\" cy=\"-353.96\" rx=\"1\" ry=\"1\"/>\n<text text-anchor=\"middle\" x=\"92.5\" y=\"-345\" font-family=\"Times,serif\" font-size=\"10.00\">1</text>\n</g>\n<!-- swap_pqrs_G41 -->\n<g id=\"node10\" class=\"node\">\n<title>swap_pqrs_G41</title>\n<text text-anchor=\"middle\" x=\"37\" y=\"-247.3\" font-family=\"Times,serif\" font-size=\"14.00\">swap_pqrs</text>\n</g>\n<!-- swap_pqrs_G41&#45;&gt;QubitizationQPE -->\n<g id=\"edge10\" class=\"edge\">\n<title>swap_pqrs_G41:e-&gt;QubitizationQPE:w</title>\n<path fill=\"none\" stroke=\"black\" d=\"M74,-251C113.2,-251 72.66,-329.83 108.75,-332.91\"/>\n<ellipse fill=\"black\" stroke=\"black\" cx=\"110\" cy=\"-332.96\" rx=\"1\" ry=\"1\"/>\n<text text-anchor=\"middle\" x=\"92.5\" y=\"-318\" font-family=\"Times,serif\" font-size=\"10.00\">1</text>\n</g>\n<!-- d_G37 -->\n<g id=\"node11\" class=\"node\">\n<title>d_G37</title>\n<text text-anchor=\"middle\" x=\"37\" y=\"-193.3\" font-family=\"Times,serif\" font-size=\"14.00\">d</text>\n</g>\n<!-- d_G37&#45;&gt;QubitizationQPE -->\n<g id=\"edge11\" class=\"edge\">\n<title>d_G37:e-&gt;QubitizationQPE:w</title>\n<path fill=\"none\" stroke=\"black\" d=\"M65,-197C96.86,-197 81.28,-233.37 93,-263 101.27,-283.9 88.64,-310.29 108.93,-311.92\"/>\n<ellipse fill=\"black\" stroke=\"black\" cx=\"110\" cy=\"-311.96\" rx=\"1\" ry=\"1\"/>\n<text text-anchor=\"middle\" x=\"92.5\" y=\"-266\" font-family=\"Times,serif\" font-size=\"10.00\">5</text>\n</g>\n<!-- beta_G35 -->\n<g id=\"node12\" class=\"node\">\n<title>beta_G35</title>\n<text text-anchor=\"middle\" x=\"37\" y=\"-139.3\" font-family=\"Times,serif\" font-size=\"14.00\">beta</text>\n</g>\n<!-- beta_G35&#45;&gt;QubitizationQPE -->\n<g id=\"edge12\" class=\"edge\">\n<title>beta_G35:e-&gt;QubitizationQPE:w</title>\n<path fill=\"none\" stroke=\"black\" d=\"M65,-143C81.55,-143 92.87,-279.66 109.01,-290.34\"/>\n<ellipse fill=\"black\" stroke=\"black\" cx=\"110.05\" cy=\"-290.69\" rx=\"1\" ry=\"1\"/>\n<text text-anchor=\"middle\" x=\"92.5\" y=\"-241\" font-family=\"Times,serif\" font-size=\"10.00\">1</text>\n</g>\n<!-- r_G31 -->\n<g id=\"node13\" class=\"node\">\n<title>r_G31</title>\n<text text-anchor=\"middle\" x=\"37\" y=\"-85.3\" font-family=\"Times,serif\" font-size=\"14.00\">r</text>\n</g>\n<!-- r_G31&#45;&gt;QubitizationQPE -->\n<g id=\"edge13\" class=\"edge\">\n<title>r_G31:e-&gt;QubitizationQPE:w</title>\n<path fill=\"none\" stroke=\"black\" d=\"M65,-89C84.94,-89 89.87,-256.14 108.64,-269.19\"/>\n<ellipse fill=\"black\" stroke=\"black\" cx=\"110.05\" cy=\"-269.68\" rx=\"1\" ry=\"1\"/>\n<text text-anchor=\"middle\" x=\"92.5\" y=\"-214\" font-family=\"Times,serif\" font-size=\"10.00\">2</text>\n</g>\n<!-- sys_G36 -->\n<g id=\"node14\" class=\"node\">\n<title>sys_G36</title>\n<text text-anchor=\"middle\" x=\"37\" y=\"-31.3\" font-family=\"Times,serif\" font-size=\"14.00\">sys</text>\n</g>\n<!-- sys_G36&#45;&gt;QubitizationQPE -->\n<g id=\"edge14\" class=\"edge\">\n<title>sys_G36:e-&gt;QubitizationQPE:w</title>\n<path fill=\"none\" stroke=\"black\" d=\"M65,-35C88.56,-35 86.82,-235.83 108.8,-248.39\"/>\n<ellipse fill=\"black\" stroke=\"black\" cx=\"110.04\" cy=\"-248.73\" rx=\"1\" ry=\"1\"/>\n<text text-anchor=\"middle\" x=\"92.5\" y=\"-189\" font-family=\"Times,serif\" font-size=\"10.00\">6</text>\n</g>\n<!-- qpe_reg_G20 -->\n<g id=\"node16\" class=\"node\">\n<title>qpe_reg_G20</title>\n<text text-anchor=\"middle\" x=\"263\" y=\"-770.3\" font-family=\"Times,serif\" font-size=\"14.00\">qpe_reg</text>\n</g>\n<!-- QubitizationQPE&#45;&gt;qpe_reg_G20 -->\n<g id=\"edge15\" class=\"edge\">\n<title>QubitizationQPE:e-&gt;qpe_reg_G20:w</title>\n<path fill=\"none\" stroke=\"black\" d=\"M189,-544C214.65,-544 202.32,-632.78 207,-658 214.38,-697.77 217.39,-707.48 226,-747 228.45,-758.26 220.78,-772.14 229.94,-773.83\"/>\n<ellipse fill=\"black\" stroke=\"black\" cx=\"231\" cy=\"-773.92\" rx=\"1\" ry=\"1\"/>\n<text text-anchor=\"middle\" x=\"207.5\" y=\"-665\" font-family=\"Times,serif\" font-size=\"10.00\">21</text>\n</g>\n<!-- rot_aa_G26 -->\n<g id=\"node17\" class=\"node\">\n<title>rot_aa_G26</title>\n<text text-anchor=\"middle\" x=\"263\" y=\"-716.3\" font-family=\"Times,serif\" font-size=\"14.00\">rot_aa</text>\n</g>\n<!-- QubitizationQPE&#45;&gt;rot_aa_G26 -->\n<g id=\"edge16\" class=\"edge\">\n<title>QubitizationQPE:e-&gt;rot_aa_G26:w</title>\n<path fill=\"none\" stroke=\"black\" d=\"M189,-523C217.5,-523 199.65,-622.46 207,-650 215.43,-681.62 202.14,-718.24 232.72,-719.94\"/>\n<ellipse fill=\"black\" stroke=\"black\" cx=\"234\" cy=\"-719.97\" rx=\"1\" ry=\"1\"/>\n<text text-anchor=\"middle\" x=\"207.5\" y=\"-656\" font-family=\"Times,serif\" font-size=\"10.00\">1</text>\n</g>\n<!-- sigma_G14 -->\n<g id=\"node18\" class=\"node\">\n<title>sigma_G14</title>\n<text text-anchor=\"middle\" x=\"263\" y=\"-662.3\" font-family=\"Times,serif\" font-size=\"14.00\">sigma</text>\n</g>\n<!-- QubitizationQPE&#45;&gt;sigma_G14 -->\n<g id=\"edge17\" class=\"edge\">\n<title>QubitizationQPE:e-&gt;sigma_G14:w</title>\n<path fill=\"none\" stroke=\"black\" d=\"M189,-502C263.96,-502 161.34,-662.81 232.83,-665.95\"/>\n<ellipse fill=\"black\" stroke=\"black\" cx=\"234\" cy=\"-665.98\" rx=\"1\" ry=\"1\"/>\n<text text-anchor=\"middle\" x=\"207.5\" y=\"-648\" font-family=\"Times,serif\" font-size=\"10.00\">16</text>\n</g>\n<!-- p_G30 -->\n<g id=\"node19\" class=\"node\">\n<title>p_G30</title>\n<text text-anchor=\"middle\" x=\"263\" y=\"-608.3\" font-family=\"Times,serif\" font-size=\"14.00\">p</text>\n</g>\n<!-- QubitizationQPE&#45;&gt;p_G30 -->\n<g id=\"edge18\" class=\"edge\">\n<title>QubitizationQPE:e-&gt;p_G30:w</title>\n<path fill=\"none\" stroke=\"black\" d=\"M189,-481C249.98,-481 175.09,-608.95 232.89,-611.95\"/>\n<ellipse fill=\"black\" stroke=\"black\" cx=\"234\" cy=\"-611.97\" rx=\"1\" ry=\"1\"/>\n<text text-anchor=\"middle\" x=\"207.5\" y=\"-490\" font-family=\"Times,serif\" font-size=\"10.00\">2</text>\n</g>\n<!-- flag_1b_G18 -->\n<g id=\"node20\" class=\"node\">\n<title>flag_1b_G18</title>\n<text text-anchor=\"middle\" x=\"263\" y=\"-554.3\" font-family=\"Times,serif\" font-size=\"14.00\">flag_1b</text>\n</g>\n<!-- QubitizationQPE&#45;&gt;flag_1b_G18 -->\n<g id=\"edge19\" class=\"edge\">\n<title>QubitizationQPE:e-&gt;flag_1b_G18:w</title>\n<path fill=\"none\" stroke=\"black\" d=\"M189,-460C236,-460 186.84,-554.96 230.83,-557.93\"/>\n<ellipse fill=\"black\" stroke=\"black\" cx=\"232\" cy=\"-557.97\" rx=\"1\" ry=\"1\"/>\n<text text-anchor=\"middle\" x=\"207.5\" y=\"-473\" font-family=\"Times,serif\" font-size=\"10.00\">1</text>\n</g>\n<!-- q_G10 -->\n<g id=\"node21\" class=\"node\">\n<title>q_G10</title>\n<text text-anchor=\"middle\" x=\"263\" y=\"-500.3\" font-family=\"Times,serif\" font-size=\"14.00\">q</text>\n</g>\n<!-- QubitizationQPE&#45;&gt;q_G10 -->\n<g id=\"edge20\" class=\"edge\">\n<title>QubitizationQPE:e-&gt;q_G10:w</title>\n<path fill=\"none\" stroke=\"black\" d=\"M189,-439C223.7,-439 200.55,-501.49 232.99,-503.93\"/>\n<ellipse fill=\"black\" stroke=\"black\" cx=\"234\" cy=\"-503.96\" rx=\"1\" ry=\"1\"/>\n<text text-anchor=\"middle\" x=\"207.5\" y=\"-456\" font-family=\"Times,serif\" font-size=\"10.00\">2</text>\n</g>\n<!-- swap_rs_G0 -->\n<g id=\"node22\" class=\"node\">\n<title>swap_rs_G0</title>\n<text text-anchor=\"middle\" x=\"263\" y=\"-446.3\" font-family=\"Times,serif\" font-size=\"14.00\">swap_rs</text>\n</g>\n<!-- QubitizationQPE&#45;&gt;swap_rs_G0 -->\n<g id=\"edge21\" class=\"edge\">\n<title>QubitizationQPE:e-&gt;swap_rs_G0:w</title>\n<path fill=\"none\" stroke=\"black\" d=\"M189,-418C211.73,-418 207.81,-448.03 228.88,-449.91\"/>\n<ellipse fill=\"black\" stroke=\"black\" cx=\"230\" cy=\"-449.96\" rx=\"1\" ry=\"1\"/>\n<text text-anchor=\"middle\" x=\"207.5\" y=\"-433\" font-family=\"Times,serif\" font-size=\"10.00\">1</text>\n</g>\n<!-- swap_pq_G23 -->\n<g id=\"node23\" class=\"node\">\n<title>swap_pq_G23</title>\n<text text-anchor=\"middle\" x=\"263\" y=\"-392.3\" font-family=\"Times,serif\" font-size=\"14.00\">swap_pq</text>\n</g>\n<!-- QubitizationQPE&#45;&gt;swap_pq_G23 -->\n<g id=\"edge22\" class=\"edge\">\n<title>QubitizationQPE:e-&gt;swap_pq_G23:w</title>\n<path fill=\"none\" stroke=\"black\" d=\"M189,-396C206.08,-396 210.85,-396 226.98,-396\"/>\n<ellipse fill=\"black\" stroke=\"black\" cx=\"228\" cy=\"-396\" rx=\"1\" ry=\"1\"/>\n<text text-anchor=\"middle\" x=\"207.5\" y=\"-399\" font-family=\"Times,serif\" font-size=\"10.00\">1</text>\n</g>\n<!-- s_G21 -->\n<g id=\"node24\" class=\"node\">\n<title>s_G21</title>\n<text text-anchor=\"middle\" x=\"263\" y=\"-338.3\" font-family=\"Times,serif\" font-size=\"14.00\">s</text>\n</g>\n<!-- QubitizationQPE&#45;&gt;s_G21 -->\n<g id=\"edge23\" class=\"edge\">\n<title>QubitizationQPE:e-&gt;s_G21:w</title>\n<path fill=\"none\" stroke=\"black\" d=\"M189,-375C213.47,-375 210.05,-343.78 233,-342.07\"/>\n<ellipse fill=\"black\" stroke=\"black\" cx=\"234\" cy=\"-342.04\" rx=\"1\" ry=\"1\"/>\n<text text-anchor=\"middle\" x=\"207.5\" y=\"-368\" font-family=\"Times,serif\" font-size=\"10.00\">2</text>\n</g>\n<!-- alpha_G32 -->\n<g id=\"node25\" class=\"node\">\n<title>alpha_G32</title>\n<text text-anchor=\"middle\" x=\"263\" y=\"-284.3\" font-family=\"Times,serif\" font-size=\"14.00\">alpha</text>\n</g>\n<!-- QubitizationQPE&#45;&gt;alpha_G32 -->\n<g id=\"edge24\" class=\"edge\">\n<title>QubitizationQPE:e-&gt;alpha_G32:w</title>\n<path fill=\"none\" stroke=\"black\" d=\"M189,-354C224.06,-354 200.22,-290.55 232.97,-288.07\"/>\n<ellipse fill=\"black\" stroke=\"black\" cx=\"234\" cy=\"-288.04\" rx=\"1\" ry=\"1\"/>\n<text text-anchor=\"middle\" x=\"207.5\" y=\"-344\" font-family=\"Times,serif\" font-size=\"10.00\">1</text>\n</g>\n<!-- swap_pqrs_G11 -->\n<g id=\"node26\" class=\"node\">\n<title>swap_pqrs_G11</title>\n<text text-anchor=\"middle\" x=\"263\" y=\"-230.3\" font-family=\"Times,serif\" font-size=\"14.00\">swap_pqrs</text>\n</g>\n<!-- QubitizationQPE&#45;&gt;swap_pqrs_G11 -->\n<g id=\"edge25\" class=\"edge\">\n<title>QubitizationQPE:e-&gt;swap_pqrs_G11:w</title>\n<path fill=\"none\" stroke=\"black\" d=\"M189,-333C235.24,-333 180.78,-237.07 223.87,-234.07\"/>\n<ellipse fill=\"black\" stroke=\"black\" cx=\"225\" cy=\"-234.03\" rx=\"1\" ry=\"1\"/>\n<text text-anchor=\"middle\" x=\"207.5\" y=\"-323\" font-family=\"Times,serif\" font-size=\"10.00\">1</text>\n</g>\n<!-- d_G7 -->\n<g id=\"node27\" class=\"node\">\n<title>d_G7</title>\n<text text-anchor=\"middle\" x=\"263\" y=\"-176.3\" font-family=\"Times,serif\" font-size=\"14.00\">d</text>\n</g>\n<!-- QubitizationQPE&#45;&gt;d_G7 -->\n<g id=\"edge26\" class=\"edge\">\n<title>QubitizationQPE:e-&gt;d_G7:w</title>\n<path fill=\"none\" stroke=\"black\" d=\"M189,-312C221.55,-312 196.16,-271.7 207,-241 216.7,-213.53 205.71,-181.54 232.97,-180.05\"/>\n<ellipse fill=\"black\" stroke=\"black\" cx=\"234\" cy=\"-180.03\" rx=\"1\" ry=\"1\"/>\n<text text-anchor=\"middle\" x=\"207.5\" y=\"-244\" font-family=\"Times,serif\" font-size=\"10.00\">5</text>\n</g>\n<!-- beta_G39 -->\n<g id=\"node28\" class=\"node\">\n<title>beta_G39</title>\n<text text-anchor=\"middle\" x=\"263\" y=\"-122.3\" font-family=\"Times,serif\" font-size=\"14.00\">beta</text>\n</g>\n<!-- QubitizationQPE&#45;&gt;beta_G39 -->\n<g id=\"edge27\" class=\"edge\">\n<title>QubitizationQPE:e-&gt;beta_G39:w</title>\n<path fill=\"none\" stroke=\"black\" d=\"M189,-291C198,-291 222.59,-143.55 233.29,-127.43\"/>\n<ellipse fill=\"black\" stroke=\"black\" cx=\"234.23\" cy=\"-126.64\" rx=\"1\" ry=\"1\"/>\n<text text-anchor=\"middle\" x=\"207.5\" y=\"-231\" font-family=\"Times,serif\" font-size=\"10.00\">1</text>\n</g>\n<!-- r_G6 -->\n<g id=\"node29\" class=\"node\">\n<title>r_G6</title>\n<text text-anchor=\"middle\" x=\"263\" y=\"-68.3\" font-family=\"Times,serif\" font-size=\"14.00\">r</text>\n</g>\n<!-- QubitizationQPE&#45;&gt;r_G6 -->\n<g id=\"edge28\" class=\"edge\">\n<title>QubitizationQPE:e-&gt;r_G6:w</title>\n<path fill=\"none\" stroke=\"black\" d=\"M189,-270C210.88,-270 212.34,-84.18 232.94,-72.57\"/>\n<ellipse fill=\"black\" stroke=\"black\" cx=\"234.04\" cy=\"-72.27\" rx=\"1\" ry=\"1\"/>\n<text text-anchor=\"middle\" x=\"207.5\" y=\"-208\" font-family=\"Times,serif\" font-size=\"10.00\">2</text>\n</g>\n<!-- sys_G25 -->\n<g id=\"node30\" class=\"node\">\n<title>sys_G25</title>\n<text text-anchor=\"middle\" x=\"263\" y=\"-14.3\" font-family=\"Times,serif\" font-size=\"14.00\">sys</text>\n</g>\n<!-- QubitizationQPE&#45;&gt;sys_G25 -->\n<g id=\"edge29\" class=\"edge\">\n<title>QubitizationQPE:e-&gt;sys_G25:w</title>\n<path fill=\"none\" stroke=\"black\" d=\"M189,-249C214.46,-249 209.15,-30.46 232.92,-18.51\"/>\n<ellipse fill=\"black\" stroke=\"black\" cx=\"234.03\" cy=\"-18.24\" rx=\"1\" ry=\"1\"/>\n<text text-anchor=\"middle\" x=\"207.5\" y=\"-184\" font-family=\"Times,serif\" font-size=\"10.00\">6</text>\n</g>\n</g>\n</svg>",
          "text/plain": "<IPython.core.display.SVG object>"
         },
         "metadata": {},
         "output_type": "display_data"
        }
       ],
       "tabbable": null,
       "tooltip": null
      }
     },
     "221735551c854a00b865ca8a436cacd6": {
      "model_module": "@jupyter-widgets/controls",
      "model_module_version": "2.0.0",
      "model_name": "HBoxModel",
      "state": {
       "_dom_classes": [],
       "_model_module": "@jupyter-widgets/controls",
       "_model_module_version": "2.0.0",
       "_model_name": "HBoxModel",
       "_view_count": null,
       "_view_module": "@jupyter-widgets/controls",
       "_view_module_version": "2.0.0",
       "_view_name": "HBoxView",
       "box_style": "",
       "children": [
        "IPY_MODEL_5852db5cf22f41ad923216df29c47e27",
        "IPY_MODEL_0d792ea38d5846d580e4b0ea5b8d93f7",
        "IPY_MODEL_98f138d289314c968111b9daddabf058"
       ],
       "layout": "IPY_MODEL_5e40a3a630354eeebc02e70855b0b84e",
       "tabbable": null,
       "tooltip": null
      }
     },
     "42108b70809e4c2db61b156205689452": {
      "model_module": "@jupyter-widgets/base",
      "model_module_version": "2.0.0",
      "model_name": "LayoutModel",
      "state": {
       "_model_module": "@jupyter-widgets/base",
       "_model_module_version": "2.0.0",
       "_model_name": "LayoutModel",
       "_view_count": null,
       "_view_module": "@jupyter-widgets/base",
       "_view_module_version": "2.0.0",
       "_view_name": "LayoutView",
       "align_content": null,
       "align_items": null,
       "align_self": null,
       "border_bottom": null,
       "border_left": null,
       "border_right": null,
       "border_top": null,
       "bottom": null,
       "display": null,
       "flex": null,
       "flex_flow": null,
       "grid_area": null,
       "grid_auto_columns": null,
       "grid_auto_flow": null,
       "grid_auto_rows": null,
       "grid_column": null,
       "grid_gap": null,
       "grid_row": null,
       "grid_template_areas": null,
       "grid_template_columns": null,
       "grid_template_rows": null,
       "height": null,
       "justify_content": null,
       "justify_items": null,
       "left": null,
       "margin": null,
       "max_height": null,
       "max_width": null,
       "min_height": null,
       "min_width": null,
       "object_fit": null,
       "object_position": null,
       "order": null,
       "overflow": null,
       "padding": null,
       "right": null,
       "top": null,
       "visibility": null,
       "width": null
      }
     },
     "5852db5cf22f41ad923216df29c47e27": {
      "model_module": "@jupyter-widgets/output",
      "model_module_version": "1.0.0",
      "model_name": "OutputModel",
      "state": {
       "_dom_classes": [],
       "_model_module": "@jupyter-widgets/output",
       "_model_module_version": "1.0.0",
       "_model_name": "OutputModel",
       "_view_count": null,
       "_view_module": "@jupyter-widgets/output",
       "_view_module_version": "1.0.0",
       "_view_name": "OutputView",
       "layout": "IPY_MODEL_f1c001261ee04d93a46f7f1e823b7c16",
       "msg_id": "",
       "outputs": [
        {
         "data": {
          "text/markdown": "`qubitization_qpe_hubbard_model_small`",
          "text/plain": "<IPython.core.display.Markdown object>"
         },
         "metadata": {},
         "output_type": "display_data"
        },
        {
         "data": {
          "image/svg+xml": "<svg xmlns=\"http://www.w3.org/2000/svg\" xmlns:xlink=\"http://www.w3.org/1999/xlink\" width=\"274pt\" height=\"530pt\" viewBox=\"0.00 0.00 274.00 530.00\">\n<g id=\"graph0\" class=\"graph\" transform=\"scale(1 1) rotate(0) translate(4 526)\">\n<title>my_graph</title>\n<polygon fill=\"white\" stroke=\"transparent\" points=\"-4,4 -4,-526 270,-526 270,4 -4,4\"/>\n<!-- beta_G18 -->\n<g id=\"node1\" class=\"node\">\n<title>beta_G18</title>\n<text text-anchor=\"middle\" x=\"27\" y=\"-462.3\" font-family=\"Times,serif\" font-size=\"14.00\">beta</text>\n</g>\n<!-- QubitizationQPE -->\n<g id=\"node10\" class=\"node\">\n<title>QubitizationQPE</title>\n<polygon fill=\"none\" stroke=\"black\" points=\"91,-366 91,-383 169,-383 169,-366 91,-366\"/>\n<text text-anchor=\"start\" x=\"94\" y=\"-372\" font-family=\"Times,serif\" font-size=\"10.00\">QubitizationQPE</text>\n<polygon fill=\"none\" stroke=\"black\" points=\"91,-345 91,-366 108,-366 108,-345 91,-345\"/>\n<polygon fill=\"none\" stroke=\"black\" points=\"108,-345 108,-366 169,-366 169,-345 108,-345\"/>\n<text text-anchor=\"start\" x=\"116.5\" y=\"-351.8\" font-family=\"Times,serif\" font-size=\"14.00\">qpe_reg</text>\n<polygon fill=\"none\" stroke=\"black\" points=\"91,-324 91,-345 169,-345 169,-324 91,-324\"/>\n<text text-anchor=\"start\" x=\"118.5\" y=\"-330.8\" font-family=\"Times,serif\" font-size=\"14.00\">beta</text>\n<polygon fill=\"none\" stroke=\"black\" points=\"91,-303 91,-324 169,-324 169,-303 91,-303\"/>\n<text text-anchor=\"start\" x=\"125\" y=\"-309.8\" font-family=\"Times,serif\" font-size=\"14.00\">U</text>\n<polygon fill=\"none\" stroke=\"black\" points=\"91,-282 91,-303 169,-303 169,-282 91,-282\"/>\n<text text-anchor=\"start\" x=\"115\" y=\"-288.8\" font-family=\"Times,serif\" font-size=\"14.00\">alpha</text>\n<polygon fill=\"none\" stroke=\"black\" points=\"91,-261 91,-282 169,-282 169,-261 91,-261\"/>\n<text text-anchor=\"start\" x=\"119.5\" y=\"-267.8\" font-family=\"Times,serif\" font-size=\"14.00\">q_y</text>\n<polygon fill=\"none\" stroke=\"black\" points=\"91,-240 91,-261 169,-261 169,-240 91,-240\"/>\n<text text-anchor=\"start\" x=\"119.5\" y=\"-246.8\" font-family=\"Times,serif\" font-size=\"14.00\">p_x</text>\n<polygon fill=\"none\" stroke=\"black\" points=\"91,-219 91,-240 169,-240 169,-219 91,-219\"/>\n<text text-anchor=\"start\" x=\"125\" y=\"-225.8\" font-family=\"Times,serif\" font-size=\"14.00\">V</text>\n<polygon fill=\"none\" stroke=\"black\" points=\"91,-198 91,-219 169,-219 169,-198 91,-198\"/>\n<text text-anchor=\"start\" x=\"119.5\" y=\"-204.8\" font-family=\"Times,serif\" font-size=\"14.00\">p_y</text>\n<polygon fill=\"none\" stroke=\"black\" points=\"91,-177 91,-198 169,-198 169,-177 91,-177\"/>\n<text text-anchor=\"start\" x=\"119.5\" y=\"-183.8\" font-family=\"Times,serif\" font-size=\"14.00\">q_x</text>\n<polygon fill=\"none\" stroke=\"black\" points=\"91,-156 91,-177 169,-177 169,-156 91,-156\"/>\n<text text-anchor=\"start\" x=\"114.5\" y=\"-162.8\" font-family=\"Times,serif\" font-size=\"14.00\">target</text>\n</g>\n<!-- beta_G18&#45;&gt;QubitizationQPE -->\n<g id=\"edge1\" class=\"edge\">\n<title>beta_G18:e-&gt;QubitizationQPE:w</title>\n<path fill=\"none\" stroke=\"black\" d=\"M54,-466C83.54,-466 61.82,-341.07 88.96,-335.21\"/>\n<ellipse fill=\"black\" stroke=\"black\" cx=\"90.01\" cy=\"-335.1\" rx=\"1\" ry=\"1\"/>\n<text text-anchor=\"middle\" x=\"72.5\" y=\"-411\" font-family=\"Times,serif\" font-size=\"10.00\">1</text>\n</g>\n<!-- U_G13 -->\n<g id=\"node2\" class=\"node\">\n<title>U_G13</title>\n<text text-anchor=\"middle\" x=\"27\" y=\"-408.3\" font-family=\"Times,serif\" font-size=\"14.00\">U</text>\n</g>\n<!-- U_G13&#45;&gt;QubitizationQPE -->\n<g id=\"edge2\" class=\"edge\">\n<title>U_G13:e-&gt;QubitizationQPE:w</title>\n<path fill=\"none\" stroke=\"black\" d=\"M54,-412C76.55,-412 68.29,-320.03 88.91,-314.28\"/>\n<ellipse fill=\"black\" stroke=\"black\" cx=\"90.01\" cy=\"-314.13\" rx=\"1\" ry=\"1\"/>\n<text text-anchor=\"middle\" x=\"72.5\" y=\"-368\" font-family=\"Times,serif\" font-size=\"10.00\">1</text>\n</g>\n<!-- alpha_G4 -->\n<g id=\"node3\" class=\"node\">\n<title>alpha_G4</title>\n<text text-anchor=\"middle\" x=\"27\" y=\"-354.3\" font-family=\"Times,serif\" font-size=\"14.00\">alpha</text>\n</g>\n<!-- alpha_G4&#45;&gt;QubitizationQPE -->\n<g id=\"edge3\" class=\"edge\">\n<title>alpha_G4:e-&gt;QubitizationQPE:w</title>\n<path fill=\"none\" stroke=\"black\" d=\"M54,-358C86.46,-358 59.11,-296.01 88.76,-293.11\"/>\n<ellipse fill=\"black\" stroke=\"black\" cx=\"90\" cy=\"-293.05\" rx=\"1\" ry=\"1\"/>\n<text text-anchor=\"middle\" x=\"72.5\" y=\"-334\" font-family=\"Times,serif\" font-size=\"10.00\">1</text>\n</g>\n<!-- q_y_G1 -->\n<g id=\"node4\" class=\"node\">\n<title>q_y_G1</title>\n<text text-anchor=\"middle\" x=\"27\" y=\"-300.3\" font-family=\"Times,serif\" font-size=\"14.00\">q_y</text>\n</g>\n<!-- q_y_G1&#45;&gt;QubitizationQPE -->\n<g id=\"edge4\" class=\"edge\">\n<title>q_y_G1:e-&gt;QubitizationQPE:w</title>\n<path fill=\"none\" stroke=\"black\" d=\"M54,-304C74.89,-304 69.72,-274.45 88.58,-272.14\"/>\n<ellipse fill=\"black\" stroke=\"black\" cx=\"90\" cy=\"-272.06\" rx=\"1\" ry=\"1\"/>\n<text text-anchor=\"middle\" x=\"72.5\" y=\"-291\" font-family=\"Times,serif\" font-size=\"10.00\">1</text>\n</g>\n<!-- p_x_G16 -->\n<g id=\"node5\" class=\"node\">\n<title>p_x_G16</title>\n<text text-anchor=\"middle\" x=\"27\" y=\"-246.3\" font-family=\"Times,serif\" font-size=\"14.00\">p_x</text>\n</g>\n<!-- p_x_G16&#45;&gt;QubitizationQPE -->\n<g id=\"edge5\" class=\"edge\">\n<title>p_x_G16:e-&gt;QubitizationQPE:w</title>\n<path fill=\"none\" stroke=\"black\" d=\"M54,-250C69.67,-250 74.14,-250 88.77,-250\"/>\n<ellipse fill=\"black\" stroke=\"black\" cx=\"90\" cy=\"-250\" rx=\"1\" ry=\"1\"/>\n<text text-anchor=\"middle\" x=\"72.5\" y=\"-253\" font-family=\"Times,serif\" font-size=\"10.00\">1</text>\n</g>\n<!-- V_G20 -->\n<g id=\"node6\" class=\"node\">\n<title>V_G20</title>\n<text text-anchor=\"middle\" x=\"27\" y=\"-192.3\" font-family=\"Times,serif\" font-size=\"14.00\">V</text>\n</g>\n<!-- V_G20&#45;&gt;QubitizationQPE -->\n<g id=\"edge6\" class=\"edge\">\n<title>V_G20:e-&gt;QubitizationQPE:w</title>\n<path fill=\"none\" stroke=\"black\" d=\"M54,-196C75.17,-196 69.47,-226.47 88.55,-228.85\"/>\n<ellipse fill=\"black\" stroke=\"black\" cx=\"90\" cy=\"-228.94\" rx=\"1\" ry=\"1\"/>\n<text text-anchor=\"middle\" x=\"72.5\" y=\"-216\" font-family=\"Times,serif\" font-size=\"10.00\">1</text>\n</g>\n<!-- p_y_G0 -->\n<g id=\"node7\" class=\"node\">\n<title>p_y_G0</title>\n<text text-anchor=\"middle\" x=\"27\" y=\"-138.3\" font-family=\"Times,serif\" font-size=\"14.00\">p_y</text>\n</g>\n<!-- p_y_G0&#45;&gt;QubitizationQPE -->\n<g id=\"edge7\" class=\"edge\">\n<title>p_y_G0:e-&gt;QubitizationQPE:w</title>\n<path fill=\"none\" stroke=\"black\" d=\"M54,-142C86.84,-142 58.75,-204.94 88.74,-207.89\"/>\n<ellipse fill=\"black\" stroke=\"black\" cx=\"90\" cy=\"-207.95\" rx=\"1\" ry=\"1\"/>\n<text text-anchor=\"middle\" x=\"72.5\" y=\"-185\" font-family=\"Times,serif\" font-size=\"10.00\">1</text>\n</g>\n<!-- q_x_G2 -->\n<g id=\"node8\" class=\"node\">\n<title>q_x_G2</title>\n<text text-anchor=\"middle\" x=\"27\" y=\"-84.3\" font-family=\"Times,serif\" font-size=\"14.00\">q_x</text>\n</g>\n<!-- q_x_G2&#45;&gt;QubitizationQPE -->\n<g id=\"edge8\" class=\"edge\">\n<title>q_x_G2:e-&gt;QubitizationQPE:w</title>\n<path fill=\"none\" stroke=\"black\" d=\"M54,-88C76.75,-88 68.1,-180.91 88.89,-186.72\"/>\n<ellipse fill=\"black\" stroke=\"black\" cx=\"90.01\" cy=\"-186.87\" rx=\"1\" ry=\"1\"/>\n<text text-anchor=\"middle\" x=\"72.5\" y=\"-143\" font-family=\"Times,serif\" font-size=\"10.00\">1</text>\n</g>\n<!-- target_G15 -->\n<g id=\"node9\" class=\"node\">\n<title>target_G15</title>\n<text text-anchor=\"middle\" x=\"27\" y=\"-30.3\" font-family=\"Times,serif\" font-size=\"14.00\">target</text>\n</g>\n<!-- target_G15&#45;&gt;QubitizationQPE -->\n<g id=\"edge9\" class=\"edge\">\n<title>target_G15:e-&gt;QubitizationQPE:w</title>\n<path fill=\"none\" stroke=\"black\" d=\"M54,-34C83.75,-34 61.63,-159.89 88.95,-165.79\"/>\n<ellipse fill=\"black\" stroke=\"black\" cx=\"90.01\" cy=\"-165.9\" rx=\"1\" ry=\"1\"/>\n<text text-anchor=\"middle\" x=\"72.5\" y=\"-111\" font-family=\"Times,serif\" font-size=\"10.00\">8</text>\n</g>\n<!-- qpe_reg_G11 -->\n<g id=\"node11\" class=\"node\">\n<title>qpe_reg_G11</title>\n<text text-anchor=\"middle\" x=\"236\" y=\"-500.3\" font-family=\"Times,serif\" font-size=\"14.00\">qpe_reg</text>\n</g>\n<!-- QubitizationQPE&#45;&gt;qpe_reg_G11 -->\n<g id=\"edge10\" class=\"edge\">\n<title>QubitizationQPE:e-&gt;qpe_reg_G11:w</title>\n<path fill=\"none\" stroke=\"black\" d=\"M169,-356C188.09,-356 182.28,-421.5 187,-440 194.16,-468.08 177.16,-502.35 203.99,-503.94\"/>\n<ellipse fill=\"black\" stroke=\"black\" cx=\"205\" cy=\"-503.97\" rx=\"1\" ry=\"1\"/>\n<text text-anchor=\"middle\" x=\"187.5\" y=\"-446\" font-family=\"Times,serif\" font-size=\"10.00\">14</text>\n</g>\n<!-- beta_G28 -->\n<g id=\"node12\" class=\"node\">\n<title>beta_G28</title>\n<text text-anchor=\"middle\" x=\"236\" y=\"-446.3\" font-family=\"Times,serif\" font-size=\"14.00\">beta</text>\n</g>\n<!-- QubitizationQPE&#45;&gt;beta_G28 -->\n<g id=\"edge11\" class=\"edge\">\n<title>QubitizationQPE:e-&gt;beta_G28:w</title>\n<path fill=\"none\" stroke=\"black\" d=\"M169,-335C222.23,-335 155.89,-446.88 205.85,-449.94\"/>\n<ellipse fill=\"black\" stroke=\"black\" cx=\"207\" cy=\"-449.97\" rx=\"1\" ry=\"1\"/>\n<text text-anchor=\"middle\" x=\"187.5\" y=\"-438\" font-family=\"Times,serif\" font-size=\"10.00\">1</text>\n</g>\n<!-- U_G25 -->\n<g id=\"node13\" class=\"node\">\n<title>U_G25</title>\n<text text-anchor=\"middle\" x=\"236\" y=\"-392.3\" font-family=\"Times,serif\" font-size=\"14.00\">U</text>\n</g>\n<!-- QubitizationQPE&#45;&gt;U_G25 -->\n<g id=\"edge12\" class=\"edge\">\n<title>QubitizationQPE:e-&gt;U_G25:w</title>\n<path fill=\"none\" stroke=\"black\" d=\"M169,-314C208.57,-314 169.24,-392.83 205.73,-395.91\"/>\n<ellipse fill=\"black\" stroke=\"black\" cx=\"207\" cy=\"-395.96\" rx=\"1\" ry=\"1\"/>\n<text text-anchor=\"middle\" x=\"187.5\" y=\"-336\" font-family=\"Times,serif\" font-size=\"10.00\">1</text>\n</g>\n<!-- alpha_G17 -->\n<g id=\"node14\" class=\"node\">\n<title>alpha_G17</title>\n<text text-anchor=\"middle\" x=\"236\" y=\"-338.3\" font-family=\"Times,serif\" font-size=\"14.00\">alpha</text>\n</g>\n<!-- QubitizationQPE&#45;&gt;alpha_G17 -->\n<g id=\"edge13\" class=\"edge\">\n<title>QubitizationQPE:e-&gt;alpha_G17:w</title>\n<path fill=\"none\" stroke=\"black\" d=\"M169,-293C196.07,-293 181.04,-339.36 205.81,-341.89\"/>\n<ellipse fill=\"black\" stroke=\"black\" cx=\"207\" cy=\"-341.95\" rx=\"1\" ry=\"1\"/>\n<text text-anchor=\"middle\" x=\"187.5\" y=\"-317\" font-family=\"Times,serif\" font-size=\"10.00\">1</text>\n</g>\n<!-- q_y_G10 -->\n<g id=\"node15\" class=\"node\">\n<title>q_y_G10</title>\n<text text-anchor=\"middle\" x=\"236\" y=\"-284.3\" font-family=\"Times,serif\" font-size=\"14.00\">q_y</text>\n</g>\n<!-- QubitizationQPE&#45;&gt;q_y_G10 -->\n<g id=\"edge14\" class=\"edge\">\n<title>QubitizationQPE:e-&gt;q_y_G10:w</title>\n<path fill=\"none\" stroke=\"black\" d=\"M169,-272C187,-272 189.12,-286.77 205.88,-287.93\"/>\n<ellipse fill=\"black\" stroke=\"black\" cx=\"207\" cy=\"-287.97\" rx=\"1\" ry=\"1\"/>\n<text text-anchor=\"middle\" x=\"187.5\" y=\"-282\" font-family=\"Times,serif\" font-size=\"10.00\">1</text>\n</g>\n<!-- p_x_G26 -->\n<g id=\"node16\" class=\"node\">\n<title>p_x_G26</title>\n<text text-anchor=\"middle\" x=\"236\" y=\"-230.3\" font-family=\"Times,serif\" font-size=\"14.00\">p_x</text>\n</g>\n<!-- QubitizationQPE&#45;&gt;p_x_G26 -->\n<g id=\"edge15\" class=\"edge\">\n<title>QubitizationQPE:e-&gt;p_x_G26:w</title>\n<path fill=\"none\" stroke=\"black\" d=\"M169,-250C187,-250 189.12,-235.23 205.88,-234.07\"/>\n<ellipse fill=\"black\" stroke=\"black\" cx=\"207\" cy=\"-234.03\" rx=\"1\" ry=\"1\"/>\n<text text-anchor=\"middle\" x=\"187.5\" y=\"-245\" font-family=\"Times,serif\" font-size=\"10.00\">1</text>\n</g>\n<!-- V_G6 -->\n<g id=\"node17\" class=\"node\">\n<title>V_G6</title>\n<text text-anchor=\"middle\" x=\"236\" y=\"-176.3\" font-family=\"Times,serif\" font-size=\"14.00\">V</text>\n</g>\n<!-- QubitizationQPE&#45;&gt;V_G6 -->\n<g id=\"edge16\" class=\"edge\">\n<title>QubitizationQPE:e-&gt;V_G6:w</title>\n<path fill=\"none\" stroke=\"black\" d=\"M169,-229C196.07,-229 181.04,-182.64 205.81,-180.11\"/>\n<ellipse fill=\"black\" stroke=\"black\" cx=\"207\" cy=\"-180.05\" rx=\"1\" ry=\"1\"/>\n<text text-anchor=\"middle\" x=\"187.5\" y=\"-213\" font-family=\"Times,serif\" font-size=\"10.00\">1</text>\n</g>\n<!-- p_y_G24 -->\n<g id=\"node18\" class=\"node\">\n<title>p_y_G24</title>\n<text text-anchor=\"middle\" x=\"236\" y=\"-122.3\" font-family=\"Times,serif\" font-size=\"14.00\">p_y</text>\n</g>\n<!-- QubitizationQPE&#45;&gt;p_y_G24 -->\n<g id=\"edge17\" class=\"edge\">\n<title>QubitizationQPE:e-&gt;p_y_G24:w</title>\n<path fill=\"none\" stroke=\"black\" d=\"M169,-208C208.57,-208 169.24,-129.17 205.73,-126.09\"/>\n<ellipse fill=\"black\" stroke=\"black\" cx=\"207\" cy=\"-126.04\" rx=\"1\" ry=\"1\"/>\n<text text-anchor=\"middle\" x=\"187.5\" y=\"-195\" font-family=\"Times,serif\" font-size=\"10.00\">1</text>\n</g>\n<!-- q_x_G14 -->\n<g id=\"node19\" class=\"node\">\n<title>q_x_G14</title>\n<text text-anchor=\"middle\" x=\"236\" y=\"-68.3\" font-family=\"Times,serif\" font-size=\"14.00\">q_x</text>\n</g>\n<!-- QubitizationQPE&#45;&gt;q_x_G14 -->\n<g id=\"edge18\" class=\"edge\">\n<title>QubitizationQPE:e-&gt;q_x_G14:w</title>\n<path fill=\"none\" stroke=\"black\" d=\"M169,-187C222.23,-187 155.89,-75.12 205.85,-72.06\"/>\n<ellipse fill=\"black\" stroke=\"black\" cx=\"207\" cy=\"-72.03\" rx=\"1\" ry=\"1\"/>\n<text text-anchor=\"middle\" x=\"187.5\" y=\"-180\" font-family=\"Times,serif\" font-size=\"10.00\">1</text>\n</g>\n<!-- target_G7 -->\n<g id=\"node20\" class=\"node\">\n<title>target_G7</title>\n<text text-anchor=\"middle\" x=\"236\" y=\"-14.3\" font-family=\"Times,serif\" font-size=\"14.00\">target</text>\n</g>\n<!-- QubitizationQPE&#45;&gt;target_G7 -->\n<g id=\"edge19\" class=\"edge\">\n<title>QubitizationQPE:e-&gt;target_G7:w</title>\n<path fill=\"none\" stroke=\"black\" d=\"M169,-166C188.09,-166 182.02,-100.43 187,-82 194.63,-53.78 178.84,-19.64 205.97,-18.06\"/>\n<ellipse fill=\"black\" stroke=\"black\" cx=\"207\" cy=\"-18.03\" rx=\"1\" ry=\"1\"/>\n<text text-anchor=\"middle\" x=\"187.5\" y=\"-85\" font-family=\"Times,serif\" font-size=\"10.00\">8</text>\n</g>\n</g>\n</svg>",
          "text/plain": "<IPython.core.display.SVG object>"
         },
         "metadata": {},
         "output_type": "display_data"
        }
       ],
       "tabbable": null,
       "tooltip": null
      }
     },
     "5e40a3a630354eeebc02e70855b0b84e": {
      "model_module": "@jupyter-widgets/base",
      "model_module_version": "2.0.0",
      "model_name": "LayoutModel",
      "state": {
       "_model_module": "@jupyter-widgets/base",
       "_model_module_version": "2.0.0",
       "_model_name": "LayoutModel",
       "_view_count": null,
       "_view_module": "@jupyter-widgets/base",
       "_view_module_version": "2.0.0",
       "_view_name": "LayoutView",
       "align_content": null,
       "align_items": null,
       "align_self": null,
       "border_bottom": null,
       "border_left": null,
       "border_right": null,
       "border_top": null,
       "bottom": null,
       "display": null,
       "flex": null,
       "flex_flow": null,
       "grid_area": null,
       "grid_auto_columns": null,
       "grid_auto_flow": null,
       "grid_auto_rows": null,
       "grid_column": null,
       "grid_gap": null,
       "grid_row": null,
       "grid_template_areas": null,
       "grid_template_columns": null,
       "grid_template_rows": null,
       "height": null,
       "justify_content": null,
       "justify_items": null,
       "left": null,
       "margin": null,
       "max_height": null,
       "max_width": null,
       "min_height": null,
       "min_width": null,
       "object_fit": null,
       "object_position": null,
       "order": null,
       "overflow": null,
       "padding": null,
       "right": null,
       "top": null,
       "visibility": null,
       "width": null
      }
     },
     "98f138d289314c968111b9daddabf058": {
      "model_module": "@jupyter-widgets/output",
      "model_module_version": "1.0.0",
      "model_name": "OutputModel",
      "state": {
       "_dom_classes": [],
       "_model_module": "@jupyter-widgets/output",
       "_model_module_version": "1.0.0",
       "_model_name": "OutputModel",
       "_view_count": null,
       "_view_module": "@jupyter-widgets/output",
       "_view_module_version": "1.0.0",
       "_view_name": "OutputView",
       "layout": "IPY_MODEL_c7303aa111694877842dff88e53dbc7a",
       "msg_id": "",
       "outputs": [
        {
         "data": {
          "text/markdown": "`qubitization_qpe_chem_thc`",
          "text/plain": "<IPython.core.display.Markdown object>"
         },
         "metadata": {},
         "output_type": "display_data"
        },
        {
         "data": {
          "image/svg+xml": "<svg xmlns=\"http://www.w3.org/2000/svg\" xmlns:xlink=\"http://www.w3.org/1999/xlink\" width=\"322pt\" height=\"638pt\" viewBox=\"0.00 0.00 322.00 638.00\">\n<g id=\"graph0\" class=\"graph\" transform=\"scale(1 1) rotate(0) translate(4 634)\">\n<title>my_graph</title>\n<polygon fill=\"white\" stroke=\"transparent\" points=\"-4,4 -4,-634 318,-634 318,4 -4,4\"/>\n<!-- plus_mn_G6 -->\n<g id=\"node1\" class=\"node\">\n<title>plus_mn_G6</title>\n<text text-anchor=\"middle\" x=\"40.5\" y=\"-570.3\" font-family=\"Times,serif\" font-size=\"14.00\">plus_mn</text>\n</g>\n<!-- QubitizationQPE -->\n<g id=\"node12\" class=\"node\">\n<title>QubitizationQPE</title>\n<polygon fill=\"none\" stroke=\"black\" points=\"118,-441 118,-458 196,-458 196,-441 118,-441\"/>\n<text text-anchor=\"start\" x=\"121\" y=\"-447\" font-family=\"Times,serif\" font-size=\"10.00\">QubitizationQPE</text>\n<polygon fill=\"none\" stroke=\"black\" points=\"118,-420 118,-441 135,-441 135,-420 118,-420\"/>\n<polygon fill=\"none\" stroke=\"black\" points=\"135,-420 135,-441 196,-441 196,-420 135,-420\"/>\n<text text-anchor=\"start\" x=\"143.5\" y=\"-426.8\" font-family=\"Times,serif\" font-size=\"14.00\">qpe_reg</text>\n<polygon fill=\"none\" stroke=\"black\" points=\"118,-399 118,-420 196,-420 196,-399 118,-399\"/>\n<text text-anchor=\"start\" x=\"133\" y=\"-405.8\" font-family=\"Times,serif\" font-size=\"14.00\">plus_mn</text>\n<polygon fill=\"none\" stroke=\"black\" points=\"118,-378 118,-399 196,-399 196,-378 118,-378\"/>\n<text text-anchor=\"start\" x=\"149\" y=\"-384.8\" font-family=\"Times,serif\" font-size=\"14.00\">rot</text>\n<polygon fill=\"none\" stroke=\"black\" points=\"118,-357 118,-378 196,-378 196,-357 118,-357\"/>\n<text text-anchor=\"start\" x=\"139\" y=\"-363.8\" font-family=\"Times,serif\" font-size=\"14.00\">plus_a</text>\n<polygon fill=\"none\" stroke=\"black\" points=\"118,-336 118,-357 196,-357 196,-336 118,-336\"/>\n<text text-anchor=\"start\" x=\"150\" y=\"-342.8\" font-family=\"Times,serif\" font-size=\"14.00\">nu</text>\n<polygon fill=\"none\" stroke=\"black\" points=\"118,-315 118,-336 196,-336 196,-315 118,-315\"/>\n<text text-anchor=\"start\" x=\"138.5\" y=\"-321.8\" font-family=\"Times,serif\" font-size=\"14.00\">plus_b</text>\n<polygon fill=\"none\" stroke=\"black\" points=\"118,-294 118,-315 196,-315 196,-294 118,-294\"/>\n<text text-anchor=\"start\" x=\"140\" y=\"-300.8\" font-family=\"Times,serif\" font-size=\"14.00\">sigma</text>\n<polygon fill=\"none\" stroke=\"black\" points=\"118,-273 118,-294 196,-294 196,-273 118,-273\"/>\n<text text-anchor=\"start\" x=\"147.5\" y=\"-279.8\" font-family=\"Times,serif\" font-size=\"14.00\">mu</text>\n<polygon fill=\"none\" stroke=\"black\" points=\"118,-252 118,-273 196,-273 196,-252 118,-252\"/>\n<text text-anchor=\"start\" x=\"124.5\" y=\"-258.8\" font-family=\"Times,serif\" font-size=\"14.00\">nu_eq_mp1</text>\n<polygon fill=\"none\" stroke=\"black\" points=\"118,-231 118,-252 196,-252 196,-231 118,-231\"/>\n<text text-anchor=\"start\" x=\"144.5\" y=\"-237.8\" font-family=\"Times,serif\" font-size=\"14.00\">succ</text>\n<polygon fill=\"none\" stroke=\"black\" points=\"118,-210 118,-231 196,-231 196,-210 118,-210\"/>\n<text text-anchor=\"start\" x=\"141.5\" y=\"-216.8\" font-family=\"Times,serif\" font-size=\"14.00\">sys_a</text>\n<polygon fill=\"none\" stroke=\"black\" points=\"118,-189 118,-210 196,-210 196,-189 118,-189\"/>\n<text text-anchor=\"start\" x=\"141.5\" y=\"-195.8\" font-family=\"Times,serif\" font-size=\"14.00\">sys_b</text>\n</g>\n<!-- plus_mn_G6&#45;&gt;QubitizationQPE -->\n<g id=\"edge1\" class=\"edge\">\n<title>plus_mn_G6:e-&gt;QubitizationQPE:w</title>\n<path fill=\"none\" stroke=\"black\" d=\"M73.5,-574C148.29,-574 44.54,-413.19 115.84,-410.05\"/>\n<ellipse fill=\"black\" stroke=\"black\" cx=\"117\" cy=\"-410.02\" rx=\"1\" ry=\"1\"/>\n<text text-anchor=\"middle\" x=\"99.5\" y=\"-559\" font-family=\"Times,serif\" font-size=\"10.00\">1</text>\n</g>\n<!-- rot_G29 -->\n<g id=\"node2\" class=\"node\">\n<title>rot_G29</title>\n<text text-anchor=\"middle\" x=\"40.5\" y=\"-516.3\" font-family=\"Times,serif\" font-size=\"14.00\">rot</text>\n</g>\n<!-- rot_G29&#45;&gt;QubitizationQPE -->\n<g id=\"edge2\" class=\"edge\">\n<title>rot_G29:e-&gt;QubitizationQPE:w</title>\n<path fill=\"none\" stroke=\"black\" d=\"M68.5,-520C130.01,-520 57.5,-392.05 115.87,-389.05\"/>\n<ellipse fill=\"black\" stroke=\"black\" cx=\"117\" cy=\"-389.03\" rx=\"1\" ry=\"1\"/>\n<text text-anchor=\"middle\" x=\"99.5\" y=\"-398\" font-family=\"Times,serif\" font-size=\"10.00\">1</text>\n</g>\n<!-- plus_a_G21 -->\n<g id=\"node3\" class=\"node\">\n<title>plus_a_G21</title>\n<text text-anchor=\"middle\" x=\"40.5\" y=\"-462.3\" font-family=\"Times,serif\" font-size=\"14.00\">plus_a</text>\n</g>\n<!-- plus_a_G21&#45;&gt;QubitizationQPE -->\n<g id=\"edge3\" class=\"edge\">\n<title>plus_a_G21:e-&gt;QubitizationQPE:w</title>\n<path fill=\"none\" stroke=\"black\" d=\"M68.5,-466C116.53,-466 70.68,-371.04 115.78,-368.07\"/>\n<ellipse fill=\"black\" stroke=\"black\" cx=\"117\" cy=\"-368.03\" rx=\"1\" ry=\"1\"/>\n<text text-anchor=\"middle\" x=\"99.5\" y=\"-379\" font-family=\"Times,serif\" font-size=\"10.00\">1</text>\n</g>\n<!-- nu_G24 -->\n<g id=\"node4\" class=\"node\">\n<title>nu_G24</title>\n<text text-anchor=\"middle\" x=\"40.5\" y=\"-408.3\" font-family=\"Times,serif\" font-size=\"14.00\">nu</text>\n</g>\n<!-- nu_G24&#45;&gt;QubitizationQPE -->\n<g id=\"edge4\" class=\"edge\">\n<title>nu_G24:e-&gt;QubitizationQPE:w</title>\n<path fill=\"none\" stroke=\"black\" d=\"M68.5,-412C104.1,-412 82.57,-349.51 115.94,-347.07\"/>\n<ellipse fill=\"black\" stroke=\"black\" cx=\"117\" cy=\"-347.04\" rx=\"1\" ry=\"1\"/>\n<text text-anchor=\"middle\" x=\"99.5\" y=\"-360\" font-family=\"Times,serif\" font-size=\"10.00\">9</text>\n</g>\n<!-- plus_b_G13 -->\n<g id=\"node5\" class=\"node\">\n<title>plus_b_G13</title>\n<text text-anchor=\"middle\" x=\"40.5\" y=\"-354.3\" font-family=\"Times,serif\" font-size=\"14.00\">plus_b</text>\n</g>\n<!-- plus_b_G13&#45;&gt;QubitizationQPE -->\n<g id=\"edge5\" class=\"edge\">\n<title>plus_b_G13:e-&gt;QubitizationQPE:w</title>\n<path fill=\"none\" stroke=\"black\" d=\"M68.5,-358C93.98,-358 91.94,-327.73 115.92,-326.07\"/>\n<ellipse fill=\"black\" stroke=\"black\" cx=\"117\" cy=\"-326.03\" rx=\"1\" ry=\"1\"/>\n<text text-anchor=\"middle\" x=\"99.5\" y=\"-337\" font-family=\"Times,serif\" font-size=\"10.00\">1</text>\n</g>\n<!-- sigma_G26 -->\n<g id=\"node6\" class=\"node\">\n<title>sigma_G26</title>\n<text text-anchor=\"middle\" x=\"40.5\" y=\"-300.3\" font-family=\"Times,serif\" font-size=\"14.00\">sigma</text>\n</g>\n<!-- sigma_G26&#45;&gt;QubitizationQPE -->\n<g id=\"edge6\" class=\"edge\">\n<title>sigma_G26:e-&gt;QubitizationQPE:w</title>\n<path fill=\"none\" stroke=\"black\" d=\"M68.5,-304C89.81,-304 95.64,-304 115.98,-304\"/>\n<ellipse fill=\"black\" stroke=\"black\" cx=\"117\" cy=\"-304\" rx=\"1\" ry=\"1\"/>\n<text text-anchor=\"middle\" x=\"99.5\" y=\"-307\" font-family=\"Times,serif\" font-size=\"10.00\">10</text>\n</g>\n<!-- mu_G34 -->\n<g id=\"node7\" class=\"node\">\n<title>mu_G34</title>\n<text text-anchor=\"middle\" x=\"40.5\" y=\"-246.3\" font-family=\"Times,serif\" font-size=\"14.00\">mu</text>\n</g>\n<!-- mu_G34&#45;&gt;QubitizationQPE -->\n<g id=\"edge7\" class=\"edge\">\n<title>mu_G34:e-&gt;QubitizationQPE:w</title>\n<path fill=\"none\" stroke=\"black\" d=\"M68.5,-250C94.22,-250 91.72,-281.22 115.9,-282.93\"/>\n<ellipse fill=\"black\" stroke=\"black\" cx=\"117\" cy=\"-282.97\" rx=\"1\" ry=\"1\"/>\n<text text-anchor=\"middle\" x=\"99.5\" y=\"-278\" font-family=\"Times,serif\" font-size=\"10.00\">9</text>\n</g>\n<!-- nu_eq_mp1_G12 -->\n<g id=\"node8\" class=\"node\">\n<title>nu_eq_mp1_G12</title>\n<text text-anchor=\"middle\" x=\"40.5\" y=\"-192.3\" font-family=\"Times,serif\" font-size=\"14.00\">nu_eq_mp1</text>\n</g>\n<!-- nu_eq_mp1_G12&#45;&gt;QubitizationQPE -->\n<g id=\"edge8\" class=\"edge\">\n<title>nu_eq_mp1_G12:e-&gt;QubitizationQPE:w</title>\n<path fill=\"none\" stroke=\"black\" d=\"M81,-196C113.84,-196 85.75,-258.94 115.74,-261.89\"/>\n<ellipse fill=\"black\" stroke=\"black\" cx=\"117\" cy=\"-261.95\" rx=\"1\" ry=\"1\"/>\n<text text-anchor=\"middle\" x=\"99.5\" y=\"-239\" font-family=\"Times,serif\" font-size=\"10.00\">1</text>\n</g>\n<!-- succ_G0 -->\n<g id=\"node9\" class=\"node\">\n<title>succ_G0</title>\n<text text-anchor=\"middle\" x=\"40.5\" y=\"-138.3\" font-family=\"Times,serif\" font-size=\"14.00\">succ</text>\n</g>\n<!-- succ_G0&#45;&gt;QubitizationQPE -->\n<g id=\"edge9\" class=\"edge\">\n<title>succ_G0:e-&gt;QubitizationQPE:w</title>\n<path fill=\"none\" stroke=\"black\" d=\"M68.5,-142C80.13,-142 103.02,-230.47 115.87,-240.14\"/>\n<ellipse fill=\"black\" stroke=\"black\" cx=\"117.07\" cy=\"-240.63\" rx=\"1\" ry=\"1\"/>\n<text text-anchor=\"middle\" x=\"99.5\" y=\"-211\" font-family=\"Times,serif\" font-size=\"10.00\">1</text>\n</g>\n<!-- sys_a_G5 -->\n<g id=\"node10\" class=\"node\">\n<title>sys_a_G5</title>\n<text text-anchor=\"middle\" x=\"40.5\" y=\"-84.3\" font-family=\"Times,serif\" font-size=\"14.00\">sys_a</text>\n</g>\n<!-- sys_a_G5&#45;&gt;QubitizationQPE -->\n<g id=\"edge10\" class=\"edge\">\n<title>sys_a_G5:e-&gt;QubitizationQPE:w</title>\n<path fill=\"none\" stroke=\"black\" d=\"M68.5,-88C99.09,-88 87.26,-213.89 115.87,-219.79\"/>\n<ellipse fill=\"black\" stroke=\"black\" cx=\"117.01\" cy=\"-219.9\" rx=\"1\" ry=\"1\"/>\n<text text-anchor=\"middle\" x=\"99.5\" y=\"-194\" font-family=\"Times,serif\" font-size=\"10.00\">76</text>\n</g>\n<!-- sys_b_G19 -->\n<g id=\"node11\" class=\"node\">\n<title>sys_b_G19</title>\n<text text-anchor=\"middle\" x=\"40.5\" y=\"-30.3\" font-family=\"Times,serif\" font-size=\"14.00\">sys_b</text>\n</g>\n<!-- sys_b_G19&#45;&gt;QubitizationQPE -->\n<g id=\"edge11\" class=\"edge\">\n<title>sys_b_G19:e-&gt;QubitizationQPE:w</title>\n<path fill=\"none\" stroke=\"black\" d=\"M68.5,-34C106.03,-34 80.75,-192.62 115.83,-198.81\"/>\n<ellipse fill=\"black\" stroke=\"black\" cx=\"117\" cy=\"-198.91\" rx=\"1\" ry=\"1\"/>\n<text text-anchor=\"middle\" x=\"99.5\" y=\"-178\" font-family=\"Times,serif\" font-size=\"10.00\">76</text>\n</g>\n<!-- qpe_reg_G28 -->\n<g id=\"node13\" class=\"node\">\n<title>qpe_reg_G28</title>\n<text text-anchor=\"middle\" x=\"273.5\" y=\"-608.3\" font-family=\"Times,serif\" font-size=\"14.00\">qpe_reg</text>\n</g>\n<!-- QubitizationQPE&#45;&gt;qpe_reg_G28 -->\n<g id=\"edge12\" class=\"edge\">\n<title>QubitizationQPE:e-&gt;qpe_reg_G28:w</title>\n<path fill=\"none\" stroke=\"black\" d=\"M196,-431C220.77,-431 207.35,-517.14 214,-541 222.92,-572.99 209.17,-610.21 240.19,-611.94\"/>\n<ellipse fill=\"black\" stroke=\"black\" cx=\"241.5\" cy=\"-611.97\" rx=\"1\" ry=\"1\"/>\n<text text-anchor=\"middle\" x=\"214.5\" y=\"-547\" font-family=\"Times,serif\" font-size=\"10.00\">40</text>\n</g>\n<!-- plus_mn_G18 -->\n<g id=\"node14\" class=\"node\">\n<title>plus_mn_G18</title>\n<text text-anchor=\"middle\" x=\"273.5\" y=\"-554.3\" font-family=\"Times,serif\" font-size=\"14.00\">plus_mn</text>\n</g>\n<!-- QubitizationQPE&#45;&gt;plus_mn_G18 -->\n<g id=\"edge13\" class=\"edge\">\n<title>QubitizationQPE:e-&gt;plus_mn_G18:w</title>\n<path fill=\"none\" stroke=\"black\" d=\"M196,-410C263.88,-410 173.97,-554.55 238.15,-557.94\"/>\n<ellipse fill=\"black\" stroke=\"black\" cx=\"239.5\" cy=\"-557.97\" rx=\"1\" ry=\"1\"/>\n<text text-anchor=\"middle\" x=\"214.5\" y=\"-539\" font-family=\"Times,serif\" font-size=\"10.00\">1</text>\n</g>\n<!-- rot_G1 -->\n<g id=\"node15\" class=\"node\">\n<title>rot_G1</title>\n<text text-anchor=\"middle\" x=\"273.5\" y=\"-500.3\" font-family=\"Times,serif\" font-size=\"14.00\">rot</text>\n</g>\n<!-- QubitizationQPE&#45;&gt;rot_G1 -->\n<g id=\"edge14\" class=\"edge\">\n<title>QubitizationQPE:e-&gt;rot_G1:w</title>\n<path fill=\"none\" stroke=\"black\" d=\"M196,-389C250.88,-389 191.52,-500.88 243.28,-503.94\"/>\n<ellipse fill=\"black\" stroke=\"black\" cx=\"244.5\" cy=\"-503.97\" rx=\"1\" ry=\"1\"/>\n<text text-anchor=\"middle\" x=\"214.5\" y=\"-399\" font-family=\"Times,serif\" font-size=\"10.00\">1</text>\n</g>\n<!-- plus_a_G31 -->\n<g id=\"node16\" class=\"node\">\n<title>plus_a_G31</title>\n<text text-anchor=\"middle\" x=\"273.5\" y=\"-446.3\" font-family=\"Times,serif\" font-size=\"14.00\">plus_a</text>\n</g>\n<!-- QubitizationQPE&#45;&gt;plus_a_G31 -->\n<g id=\"edge15\" class=\"edge\">\n<title>QubitizationQPE:e-&gt;plus_a_G31:w</title>\n<path fill=\"none\" stroke=\"black\" d=\"M196,-368C237.74,-368 204.29,-446.83 243.09,-449.91\"/>\n<ellipse fill=\"black\" stroke=\"black\" cx=\"244.5\" cy=\"-449.96\" rx=\"1\" ry=\"1\"/>\n<text text-anchor=\"middle\" x=\"214.5\" y=\"-381\" font-family=\"Times,serif\" font-size=\"10.00\">1</text>\n</g>\n<!-- nu_G3 -->\n<g id=\"node17\" class=\"node\">\n<title>nu_G3</title>\n<text text-anchor=\"middle\" x=\"273.5\" y=\"-392.3\" font-family=\"Times,serif\" font-size=\"14.00\">nu</text>\n</g>\n<!-- QubitizationQPE&#45;&gt;nu_G3 -->\n<g id=\"edge16\" class=\"edge\">\n<title>QubitizationQPE:e-&gt;nu_G3:w</title>\n<path fill=\"none\" stroke=\"black\" d=\"M196,-347C226.23,-347 215.1,-393.73 243.39,-395.92\"/>\n<ellipse fill=\"black\" stroke=\"black\" cx=\"244.5\" cy=\"-395.96\" rx=\"1\" ry=\"1\"/>\n<text text-anchor=\"middle\" x=\"214.5\" y=\"-360\" font-family=\"Times,serif\" font-size=\"10.00\">9</text>\n</g>\n<!-- plus_b_G23 -->\n<g id=\"node18\" class=\"node\">\n<title>plus_b_G23</title>\n<text text-anchor=\"middle\" x=\"273.5\" y=\"-338.3\" font-family=\"Times,serif\" font-size=\"14.00\">plus_b</text>\n</g>\n<!-- QubitizationQPE&#45;&gt;plus_b_G23 -->\n<g id=\"edge17\" class=\"edge\">\n<title>QubitizationQPE:e-&gt;plus_b_G23:w</title>\n<path fill=\"none\" stroke=\"black\" d=\"M196,-326C218.4,-326 222.16,-341.02 243.39,-341.95\"/>\n<ellipse fill=\"black\" stroke=\"black\" cx=\"244.5\" cy=\"-341.98\" rx=\"1\" ry=\"1\"/>\n<text text-anchor=\"middle\" x=\"214.5\" y=\"-333\" font-family=\"Times,serif\" font-size=\"10.00\">1</text>\n</g>\n<!-- sigma_G33 -->\n<g id=\"node19\" class=\"node\">\n<title>sigma_G33</title>\n<text text-anchor=\"middle\" x=\"273.5\" y=\"-284.3\" font-family=\"Times,serif\" font-size=\"14.00\">sigma</text>\n</g>\n<!-- QubitizationQPE&#45;&gt;sigma_G33 -->\n<g id=\"edge18\" class=\"edge\">\n<title>QubitizationQPE:e-&gt;sigma_G33:w</title>\n<path fill=\"none\" stroke=\"black\" d=\"M196,-304C218.4,-304 222.16,-288.98 243.39,-288.05\"/>\n<ellipse fill=\"black\" stroke=\"black\" cx=\"244.5\" cy=\"-288.02\" rx=\"1\" ry=\"1\"/>\n<text text-anchor=\"middle\" x=\"214.5\" y=\"-302\" font-family=\"Times,serif\" font-size=\"10.00\">10</text>\n</g>\n<!-- mu_G4 -->\n<g id=\"node20\" class=\"node\">\n<title>mu_G4</title>\n<text text-anchor=\"middle\" x=\"273.5\" y=\"-230.3\" font-family=\"Times,serif\" font-size=\"14.00\">mu</text>\n</g>\n<!-- QubitizationQPE&#45;&gt;mu_G4 -->\n<g id=\"edge19\" class=\"edge\">\n<title>QubitizationQPE:e-&gt;mu_G4:w</title>\n<path fill=\"none\" stroke=\"black\" d=\"M196,-283C226.23,-283 215.1,-236.27 243.39,-234.08\"/>\n<ellipse fill=\"black\" stroke=\"black\" cx=\"244.5\" cy=\"-234.04\" rx=\"1\" ry=\"1\"/>\n<text text-anchor=\"middle\" x=\"214.5\" y=\"-275\" font-family=\"Times,serif\" font-size=\"10.00\">9</text>\n</g>\n<!-- nu_eq_mp1_G20 -->\n<g id=\"node21\" class=\"node\">\n<title>nu_eq_mp1_G20</title>\n<text text-anchor=\"middle\" x=\"273.5\" y=\"-176.3\" font-family=\"Times,serif\" font-size=\"14.00\">nu_eq_mp1</text>\n</g>\n<!-- QubitizationQPE&#45;&gt;nu_eq_mp1_G20 -->\n<g id=\"edge20\" class=\"edge\">\n<title>QubitizationQPE:e-&gt;nu_eq_mp1_G20:w</title>\n<path fill=\"none\" stroke=\"black\" d=\"M196,-262C235.2,-262 194.66,-183.17 230.75,-180.09\"/>\n<ellipse fill=\"black\" stroke=\"black\" cx=\"232\" cy=\"-180.04\" rx=\"1\" ry=\"1\"/>\n<text text-anchor=\"middle\" x=\"214.5\" y=\"-247\" font-family=\"Times,serif\" font-size=\"10.00\">1</text>\n</g>\n<!-- succ_G11 -->\n<g id=\"node22\" class=\"node\">\n<title>succ_G11</title>\n<text text-anchor=\"middle\" x=\"273.5\" y=\"-122.3\" font-family=\"Times,serif\" font-size=\"14.00\">succ</text>\n</g>\n<!-- QubitizationQPE&#45;&gt;succ_G11 -->\n<g id=\"edge21\" class=\"edge\">\n<title>QubitizationQPE:e-&gt;succ_G11:w</title>\n<path fill=\"none\" stroke=\"black\" d=\"M196,-241C219.2,-241 204.99,-213.38 214,-192 226.32,-162.75 213.62,-127.69 243.29,-126.06\"/>\n<ellipse fill=\"black\" stroke=\"black\" cx=\"244.5\" cy=\"-126.03\" rx=\"1\" ry=\"1\"/>\n<text text-anchor=\"middle\" x=\"214.5\" y=\"-195\" font-family=\"Times,serif\" font-size=\"10.00\">1</text>\n</g>\n<!-- sys_a_G15 -->\n<g id=\"node23\" class=\"node\">\n<title>sys_a_G15</title>\n<text text-anchor=\"middle\" x=\"273.5\" y=\"-68.3\" font-family=\"Times,serif\" font-size=\"14.00\">sys_a</text>\n</g>\n<!-- QubitizationQPE&#45;&gt;sys_a_G15 -->\n<g id=\"edge22\" class=\"edge\">\n<title>QubitizationQPE:e-&gt;sys_a_G15:w</title>\n<path fill=\"none\" stroke=\"black\" d=\"M196,-220C212.66,-220 227,-83.34 243.48,-72.66\"/>\n<ellipse fill=\"black\" stroke=\"black\" cx=\"244.55\" cy=\"-72.31\" rx=\"1\" ry=\"1\"/>\n<text text-anchor=\"middle\" x=\"214.5\" y=\"-175\" font-family=\"Times,serif\" font-size=\"10.00\">76</text>\n</g>\n<!-- sys_b_G30 -->\n<g id=\"node24\" class=\"node\">\n<title>sys_b_G30</title>\n<text text-anchor=\"middle\" x=\"273.5\" y=\"-14.3\" font-family=\"Times,serif\" font-size=\"14.00\">sys_b</text>\n</g>\n<!-- QubitizationQPE&#45;&gt;sys_b_G30 -->\n<g id=\"edge23\" class=\"edge\">\n<title>QubitizationQPE:e-&gt;sys_b_G30:w</title>\n<path fill=\"none\" stroke=\"black\" d=\"M196,-199C216.04,-199 224.02,-31.86 243.11,-18.81\"/>\n<ellipse fill=\"black\" stroke=\"black\" cx=\"244.55\" cy=\"-18.32\" rx=\"1\" ry=\"1\"/>\n<text text-anchor=\"middle\" x=\"214.5\" y=\"-149\" font-family=\"Times,serif\" font-size=\"10.00\">76</text>\n</g>\n</g>\n</svg>",
          "text/plain": "<IPython.core.display.SVG object>"
         },
         "metadata": {},
         "output_type": "display_data"
        }
       ],
       "tabbable": null,
       "tooltip": null
      }
     },
     "c7303aa111694877842dff88e53dbc7a": {
      "model_module": "@jupyter-widgets/base",
      "model_module_version": "2.0.0",
      "model_name": "LayoutModel",
      "state": {
       "_model_module": "@jupyter-widgets/base",
       "_model_module_version": "2.0.0",
       "_model_name": "LayoutModel",
       "_view_count": null,
       "_view_module": "@jupyter-widgets/base",
       "_view_module_version": "2.0.0",
       "_view_name": "LayoutView",
       "align_content": null,
       "align_items": null,
       "align_self": null,
       "border_bottom": null,
       "border_left": null,
       "border_right": null,
       "border_top": null,
       "bottom": null,
       "display": null,
       "flex": null,
       "flex_flow": null,
       "grid_area": null,
       "grid_auto_columns": null,
       "grid_auto_flow": null,
       "grid_auto_rows": null,
       "grid_column": null,
       "grid_gap": null,
       "grid_row": null,
       "grid_template_areas": null,
       "grid_template_columns": null,
       "grid_template_rows": null,
       "height": null,
       "justify_content": null,
       "justify_items": null,
       "left": null,
       "margin": null,
       "max_height": null,
       "max_width": null,
       "min_height": null,
       "min_width": null,
       "object_fit": null,
       "object_position": null,
       "order": null,
       "overflow": null,
       "padding": null,
       "right": null,
       "top": null,
       "visibility": null,
       "width": null
      }
     },
     "f1c001261ee04d93a46f7f1e823b7c16": {
      "model_module": "@jupyter-widgets/base",
      "model_module_version": "2.0.0",
      "model_name": "LayoutModel",
      "state": {
       "_model_module": "@jupyter-widgets/base",
       "_model_module_version": "2.0.0",
       "_model_name": "LayoutModel",
       "_view_count": null,
       "_view_module": "@jupyter-widgets/base",
       "_view_module_version": "2.0.0",
       "_view_name": "LayoutView",
       "align_content": null,
       "align_items": null,
       "align_self": null,
       "border_bottom": null,
       "border_left": null,
       "border_right": null,
       "border_top": null,
       "bottom": null,
       "display": null,
       "flex": null,
       "flex_flow": null,
       "grid_area": null,
       "grid_auto_columns": null,
       "grid_auto_flow": null,
       "grid_auto_rows": null,
       "grid_column": null,
       "grid_gap": null,
       "grid_row": null,
       "grid_template_areas": null,
       "grid_template_columns": null,
       "grid_template_rows": null,
       "height": null,
       "justify_content": null,
       "justify_items": null,
       "left": null,
       "margin": null,
       "max_height": null,
       "max_width": null,
       "min_height": null,
       "min_width": null,
       "object_fit": null,
       "object_position": null,
       "order": null,
       "overflow": null,
       "padding": null,
       "right": null,
       "top": null,
       "visibility": null,
       "width": null
      }
     }
    },
    "version_major": 2,
    "version_minor": 0
   }
  }
 },
 "nbformat": 4,
 "nbformat_minor": 5
}
