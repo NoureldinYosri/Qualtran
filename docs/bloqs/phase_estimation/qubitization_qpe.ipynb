{
 "cells": [
  {
   "cell_type": "markdown",
   "id": "8a9351ad",
   "metadata": {
    "cq.autogen": "title_cell"
   },
   "source": [
    "# Qubitization Phase Estimation"
   ]
  },
  {
   "cell_type": "code",
   "execution_count": 1,
   "id": "5edd9118",
   "metadata": {
    "cq.autogen": "top_imports"
   },
   "outputs": [],
   "source": [
    "from qualtran import Bloq, CompositeBloq, BloqBuilder, Signature, Register\n",
    "from qualtran import QBit, QInt, QUInt, QAny\n",
    "from qualtran.drawing import show_bloq, show_call_graph, show_counts_sigma\n",
    "from typing import *\n",
    "import numpy as np\n",
    "import sympy\n",
    "import cirq"
   ]
  },
  {
   "cell_type": "markdown",
   "id": "6d311772",
   "metadata": {
    "cq.autogen": "QubitizationQPE.bloq_doc.md"
   },
   "source": [
    "## `QubitizationQPE`\n",
    "Heisenberg limited phase estimation circuit for learning eigenphase of `walk`.\n",
    "\n",
    "The Bloq yields an OPTREE to construct Heisenberg limited phase estimation circuit\n",
    "for learning eigenphases of the `walk` operator with `m` bits of accuracy. The\n",
    "circuit is implemented as given in Fig.2 of Ref-1.\n",
    "\n",
    "    ```\n",
    "       ┌─────────┐                                     ┌─────────┐\n",
    "  |0> -│         │-------------------------(0)---(0)---│         │---M--- [m1]:highest bit\n",
    "       │         │                          |     |    │         │\n",
    "  |0> -│         │----------------(0)---(0)-+-----+----│         │---M--- [m2]\n",
    "       │CtrlState│                 |     |  |     |    │ QFT_inv │\n",
    "  |0> -│  Prep   │-------(0)---(0)-+-----+--+-----+----│         │---M--- [m3]\n",
    "       │         │        |     |  |     |  |     |    │         │\n",
    "  |0> -│         │---@----+-----+--+-----+--+-----+----│         │---M--- [m4]:lowest bit\n",
    "       └─────────┘   |    |     |  |     |  |     |    └─────────┘\n",
    "|Psi> ---------------W----R-W^2-R--R-W^4-R--R-W^8-R---------------------- |Psi>\n",
    "    ```\n",
    "\n",
    "TODO: Note that there are slight differences between the Fig2 of the Ref[1] and the circuit\n",
    "      implemented here. Further investigation is required to reconcile the difference.\n",
    "\n",
    "#### Parameters\n",
    " - `walk`: Bloq representing the Qubitization walk operator to run the phase estimation protocol on.\n",
    " - `m_bits`: Bitsize of the phase register to be used during phase estimation.\n",
    " - `ctrl_state_prep`: Bloq to prepare the control state on the phase register. Defaults to `OnEach(self.m_bits, Hadamard())`.\n",
    " - `qft_inv`: Bloq to apply inverse QFT on the phase register. Defaults to `QFTTextBook(self.m_bits).adjoint()`  \n",
    "\n",
    "#### Registers\n",
    " - `qpe_reg`: Control register of type `QFxp(self.m_bits, self.m_bits)` for phase estimation.\n",
    " - `target registers`: All registers used in `self.unitary.signature` \n",
    "\n",
    "#### References\n",
    " - [Encoding Electronic Spectra in Quantum Circuits with Linear T Complexity](https://arxiv.org/abs/1805.03662). Fig. 2\n"
   ]
  },
  {
   "cell_type": "code",
   "execution_count": 2,
   "id": "64641b14",
   "metadata": {
    "cq.autogen": "QubitizationQPE.bloq_doc.py"
   },
   "outputs": [],
   "source": [
    "from qualtran.bloqs.phase_estimation.qubitization_qpe import QubitizationQPE"
   ]
  },
  {
   "cell_type": "markdown",
   "id": "1521d292",
   "metadata": {
    "cq.autogen": "QubitizationQPE.example_instances.md"
   },
   "source": [
    "### Example Instances"
   ]
  },
  {
   "cell_type": "code",
   "execution_count": 3,
   "id": "3521613b",
   "metadata": {
    "cq.autogen": "QubitizationQPE.qubitization_qpe_hubbard_model_small"
   },
   "outputs": [],
   "source": [
    "import numpy as np\n",
    "\n",
    "from qualtran.bloqs.chemistry.hubbard_model.qubitization import (\n",
    "    get_walk_operator_for_hubbard_model,\n",
    ")\n",
    "from qualtran.bloqs.phase_estimation import QubitizationQPE\n",
    "\n",
    "x_dim, y_dim, t = 2, 2, 2\n",
    "u = 4 * t\n",
    "walk = get_walk_operator_for_hubbard_model(x_dim, y_dim, t, u)\n",
    "\n",
    "algo_eps = t / 100\n",
    "N = x_dim * y_dim * 2\n",
    "qlambda = 2 * N * t + (N * u) // 2\n",
    "qpe_eps = algo_eps / (qlambda * np.sqrt(2))\n",
    "qubitization_qpe_hubbard_model_small = QubitizationQPE.from_standard_deviation_eps(\n",
    "    walk, qpe_eps\n",
    ")"
   ]
  },
  {
   "cell_type": "code",
   "execution_count": 4,
   "id": "f6a6e748",
   "metadata": {
    "cq.autogen": "QubitizationQPE.qubitization_qpe_sparse_chem"
   },
   "outputs": [],
   "source": [
    "import numpy as np\n",
    "\n",
    "from qualtran.bloqs.chemistry.sparse.prepare_test import build_random_test_integrals\n",
    "from qualtran.bloqs.chemistry.sparse.walk_operator import get_walk_operator_for_sparse_chem_ham\n",
    "from qualtran.bloqs.phase_estimation import QubitizationQPE\n",
    "\n",
    "num_spatial = 6\n",
    "tpq, eris = build_random_test_integrals(num_spatial // 2)\n",
    "walk = get_walk_operator_for_sparse_chem_ham(\n",
    "    tpq, eris, num_bits_rot_aa=8, num_bits_state_prep=16\n",
    ")\n",
    "\n",
    "algo_eps = 0.0016\n",
    "qlambda = np.sum(np.abs(tpq)) + 0.5 * np.sum(np.abs(eris))\n",
    "qpe_eps = algo_eps / (qlambda * np.sqrt(2))\n",
    "qubitization_qpe_sparse_chem = QubitizationQPE.from_standard_deviation_eps(walk, qpe_eps)"
   ]
  },
  {
   "cell_type": "code",
   "execution_count": 5,
   "id": "8879e3e4",
   "metadata": {
    "cq.autogen": "QubitizationQPE.qubitization_qpe_chem_thc"
   },
   "outputs": [],
   "source": [
    "from openfermion.resource_estimates.utils import QI\n",
    "\n",
    "from qualtran.bloqs.chemistry.thc.walk_operator import get_walk_operator_for_thc_ham\n",
    "\n",
    "# Li et al parameters from openfermion.resource_estimates.thc.compute_cost_thc_test\n",
    "num_spinorb = 152\n",
    "num_bits_state_prep = 10\n",
    "num_bits_rot = 20\n",
    "thc_dim = 450\n",
    "num_spat = num_spinorb // 2\n",
    "tpq = np.random.normal(size=(num_spat, num_spat))\n",
    "tpq = 0.5 * (tpq + tpq) / 2\n",
    "zeta = np.random.normal(size=(thc_dim, thc_dim))\n",
    "zeta = 0.5 * (zeta + zeta) / 2\n",
    "qroam_blocking_factor = np.power(2, QI(thc_dim + num_spat)[0])\n",
    "walk = get_walk_operator_for_thc_ham(\n",
    "    tpq,\n",
    "    zeta,\n",
    "    num_bits_state_prep=num_bits_state_prep,\n",
    "    num_bits_theta=num_bits_rot,\n",
    "    kr1=qroam_blocking_factor,\n",
    "    kr2=qroam_blocking_factor,\n",
    ")\n",
    "\n",
    "algo_eps = 0.0016\n",
    "qlambda = 1201.5\n",
    "qpe_eps = algo_eps / (qlambda * np.sqrt(2))\n",
    "qubitization_qpe_chem_thc = QubitizationQPE.from_standard_deviation_eps(walk, qpe_eps)"
   ]
  },
  {
   "cell_type": "markdown",
   "id": "b19f9365",
   "metadata": {
    "cq.autogen": "QubitizationQPE.graphical_signature.md"
   },
   "source": [
    "#### Graphical Signature"
   ]
  },
  {
   "cell_type": "code",
   "execution_count": 6,
   "id": "82261d0a",
   "metadata": {
    "cq.autogen": "QubitizationQPE.graphical_signature.py"
   },
   "outputs": [
    {
     "data": {
      "application/vnd.jupyter.widget-view+json": {
       "model_id": "97ae3705f42b4b4789efa00f71ce9f4e",
       "version_major": 2,
       "version_minor": 0
      },
      "text/plain": [
       "HBox(children=(Output(outputs=({'output_type': 'display_data', 'data': {'text/plain': '<IPython.core.display.M…"
      ]
     },
     "metadata": {},
     "output_type": "display_data"
    }
   ],
   "source": [
    "from qualtran.drawing import show_bloqs\n",
    "show_bloqs([qubitization_qpe_hubbard_model_small, qubitization_qpe_sparse_chem, qubitization_qpe_chem_thc],\n",
    "           ['`qubitization_qpe_hubbard_model_small`', '`qubitization_qpe_sparse_chem`', '`qubitization_qpe_chem_thc`'])"
   ]
  },
  {
   "cell_type": "markdown",
   "id": "a3597eeb",
   "metadata": {
    "cq.autogen": "QubitizationQPE.call_graph.md"
   },
   "source": [
    "### Call Graph"
   ]
  },
  {
   "cell_type": "code",
   "execution_count": 7,
   "id": "27176312",
   "metadata": {
    "cq.autogen": "QubitizationQPE.call_graph.py"
   },
   "outputs": [
    {
     "data": {
      "image/svg+xml": [
       "<svg xmlns=\"http://www.w3.org/2000/svg\" xmlns:xlink=\"http://www.w3.org/1999/xlink\" width=\"1681pt\" height=\"131pt\" viewBox=\"0.00 0.00 1681.00 131.00\">\n",
       "<g id=\"graph0\" class=\"graph\" transform=\"scale(1 1) rotate(0) translate(4 127)\">\n",
       "<title>counts</title>\n",
       "<polygon fill=\"white\" stroke=\"transparent\" points=\"-4,4 -4,-127 1677,-127 1677,4 -4,4\"/>\n",
       "<!-- b0 -->\n",
       "<g id=\"node1\" class=\"node\">\n",
       "<title>b0</title>\n",
       "<polygon fill=\"none\" stroke=\"black\" points=\"1122,-123 625,-123 625,-87 1122,-87 1122,-123\"/>\n",
       "<text text-anchor=\"start\" x=\"815.5\" y=\"-106.8\" font-family=\"Times,serif\" font-size=\"14.00\">QubitizationQPE[14]</text>\n",
       "<text text-anchor=\"start\" x=\"633\" y=\"-96\" font-family=\"monospace\" font-size=\"10.00\">walk=Qubitiza ..., m_bits=14, ctrl_state_prep=LPResour ..., qft_inv=Adjoint( ...</text>\n",
       "</g>\n",
       "<!-- b1 -->\n",
       "<g id=\"node2\" class=\"node\">\n",
       "<title>b1</title>\n",
       "<polygon fill=\"none\" stroke=\"black\" points=\"473,-36 0,-36 0,0 473,0 473,-36\"/>\n",
       "<text text-anchor=\"start\" x=\"164\" y=\"-19.8\" font-family=\"Times,serif\" font-size=\"14.00\">QubitizationWalkOperator</text>\n",
       "<text text-anchor=\"start\" x=\"8\" y=\"-9\" font-family=\"monospace\" font-size=\"10.00\">select=SelectHu ..., prepare=PrepareH ..., control_val=None, uncompute=False</text>\n",
       "</g>\n",
       "<!-- b0&#45;&gt;b1 -->\n",
       "<g id=\"edge1\" class=\"edge\">\n",
       "<title>b0-&gt;b1</title>\n",
       "<path fill=\"none\" stroke=\"black\" d=\"M745.74,-86.95C638.15,-72.59 484.57,-52.1 374.25,-37.38\"/>\n",
       "<polygon fill=\"black\" stroke=\"black\" points=\"374.42,-33.87 364.05,-36.02 373.49,-40.81 374.42,-33.87\"/>\n",
       "<text text-anchor=\"middle\" x=\"610.5\" y=\"-57.8\" font-family=\"Times,serif\" font-size=\"14.00\">16382</text>\n",
       "</g>\n",
       "<!-- b2 -->\n",
       "<g id=\"node3\" class=\"node\">\n",
       "<title>b2</title>\n",
       "<polygon fill=\"none\" stroke=\"black\" points=\"628,-36 491,-36 491,0 628,0 628,-36\"/>\n",
       "<text text-anchor=\"start\" x=\"516\" y=\"-19.8\" font-family=\"Times,serif\" font-size=\"14.00\">QFTTextBook†</text>\n",
       "<text text-anchor=\"start\" x=\"499\" y=\"-9\" font-family=\"monospace\" font-size=\"10.00\">subbloq=QFTTextB ...</text>\n",
       "</g>\n",
       "<!-- b0&#45;&gt;b2 -->\n",
       "<g id=\"edge2\" class=\"edge\">\n",
       "<title>b0-&gt;b2</title>\n",
       "<path fill=\"none\" stroke=\"black\" d=\"M810.34,-86.9C758.91,-72.98 686.28,-53.32 632.4,-38.73\"/>\n",
       "<polygon fill=\"black\" stroke=\"black\" points=\"633.13,-35.31 622.56,-36.07 631.3,-42.06 633.13,-35.31\"/>\n",
       "<text text-anchor=\"middle\" x=\"739\" y=\"-57.8\" font-family=\"Times,serif\" font-size=\"14.00\">1</text>\n",
       "</g>\n",
       "<!-- b3 -->\n",
       "<g id=\"node4\" class=\"node\">\n",
       "<title>b3</title>\n",
       "<polygon fill=\"none\" stroke=\"black\" points=\"1101,-36 646,-36 646,0 1101,0 1101,-36\"/>\n",
       "<text text-anchor=\"start\" x=\"801\" y=\"-19.8\" font-family=\"Times,serif\" font-size=\"14.00\">QubitizationWalkOperator</text>\n",
       "<text text-anchor=\"start\" x=\"654\" y=\"-9\" font-family=\"monospace\" font-size=\"10.00\">select=SelectHu ..., prepare=PrepareH ..., control_val=1, uncompute=False</text>\n",
       "</g>\n",
       "<!-- b0&#45;&gt;b3 -->\n",
       "<g id=\"edge3\" class=\"edge\">\n",
       "<title>b0-&gt;b3</title>\n",
       "<path fill=\"none\" stroke=\"black\" d=\"M873.5,-86.8C873.5,-75.16 873.5,-59.55 873.5,-46.24\"/>\n",
       "<polygon fill=\"black\" stroke=\"black\" points=\"877,-46.18 873.5,-36.18 870,-46.18 877,-46.18\"/>\n",
       "<text text-anchor=\"middle\" x=\"877\" y=\"-57.8\" font-family=\"Times,serif\" font-size=\"14.00\">1</text>\n",
       "</g>\n",
       "<!-- b4 -->\n",
       "<g id=\"node5\" class=\"node\">\n",
       "<title>b4</title>\n",
       "<polygon fill=\"none\" stroke=\"black\" points=\"1229.5,-36 1119.5,-36 1119.5,0 1229.5,0 1229.5,-36\"/>\n",
       "<text text-anchor=\"start\" x=\"1127.5\" y=\"-19.8\" font-family=\"Times,serif\" font-size=\"14.00\">LPResourceState</text>\n",
       "<text text-anchor=\"start\" x=\"1144\" y=\"-9\" font-family=\"monospace\" font-size=\"10.00\">bitsize=14</text>\n",
       "</g>\n",
       "<!-- b0&#45;&gt;b4 -->\n",
       "<g id=\"edge4\" class=\"edge\">\n",
       "<title>b0-&gt;b4</title>\n",
       "<path fill=\"none\" stroke=\"black\" d=\"M934.05,-86.9C984.93,-72.53 1057.49,-52.04 1109.57,-37.34\"/>\n",
       "<polygon fill=\"black\" stroke=\"black\" points=\"1110.7,-40.65 1119.37,-34.57 1108.79,-33.92 1110.7,-40.65\"/>\n",
       "<text text-anchor=\"middle\" x=\"1046\" y=\"-57.8\" font-family=\"Times,serif\" font-size=\"14.00\">1</text>\n",
       "</g>\n",
       "<!-- b5 -->\n",
       "<g id=\"node6\" class=\"node\">\n",
       "<title>b5</title>\n",
       "<polygon fill=\"none\" stroke=\"black\" points=\"1673,-36 1248,-36 1248,0 1673,0 1673,-36\"/>\n",
       "<text text-anchor=\"start\" x=\"1395.5\" y=\"-19.8\" font-family=\"Times,serif\" font-size=\"14.00\">ReflectionUsingPrepare</text>\n",
       "<text text-anchor=\"start\" x=\"1256\" y=\"-9\" font-family=\"monospace\" font-size=\"10.00\">prepare_gate=PrepareH ..., control_val=0, global_phase=-1, eps=1e-11</text>\n",
       "</g>\n",
       "<!-- b0&#45;&gt;b5 -->\n",
       "<g id=\"edge5\" class=\"edge\">\n",
       "<title>b0-&gt;b5</title>\n",
       "<path fill=\"none\" stroke=\"black\" d=\"M991.23,-86.95C1090.18,-72.62 1231.33,-52.18 1332.95,-37.47\"/>\n",
       "<polygon fill=\"black\" stroke=\"black\" points=\"1333.57,-40.92 1342.97,-36.02 1332.57,-33.99 1333.57,-40.92\"/>\n",
       "<text text-anchor=\"middle\" x=\"1209.5\" y=\"-57.8\" font-family=\"Times,serif\" font-size=\"14.00\">26</text>\n",
       "</g>\n",
       "</g>\n",
       "</svg>"
      ],
      "text/plain": [
       "<IPython.core.display.SVG object>"
      ]
     },
     "metadata": {},
     "output_type": "display_data"
    },
    {
     "data": {
      "text/markdown": [
       "#### Counts totals:\n",
       " - `Adjoint(subbloq=QFTTextBook)`: 1\n",
       " - `LPResourceState`: 1\n",
       " - `QubitizationWalkOperator`: 1\n",
       " - `QubitizationWalkOperator`: 16382\n",
       " - `ReflectionUsingPrepare`: 26"
      ],
      "text/plain": [
       "<IPython.core.display.Markdown object>"
      ]
     },
     "metadata": {},
     "output_type": "display_data"
    }
   ],
   "source": [
    "from qualtran.resource_counting.generalizers import ignore_split_join\n",
    "qubitization_qpe_hubbard_model_small_g, qubitization_qpe_hubbard_model_small_sigma = qubitization_qpe_hubbard_model_small.call_graph(max_depth=1, generalizer=ignore_split_join)\n",
    "show_call_graph(qubitization_qpe_hubbard_model_small_g)\n",
    "show_counts_sigma(qubitization_qpe_hubbard_model_small_sigma)"
   ]
  }
 ],
 "metadata": {
  "kernelspec": {
   "display_name": "Python 3 (ipykernel)",
   "language": "python",
   "name": "python3"
  },
  "language_info": {
   "codemirror_mode": {
    "name": "ipython",
    "version": 3
   },
   "file_extension": ".py",
   "mimetype": "text/x-python",
   "name": "python",
   "nbconvert_exporter": "python",
   "pygments_lexer": "ipython3",
   "version": "3.11.8"
  },
  "widgets": {
   "application/vnd.jupyter.widget-state+json": {
    "state": {
     "177fc889d01c40488213bdada0792db9": {
      "model_module": "@jupyter-widgets/base",
      "model_module_version": "2.0.0",
      "model_name": "LayoutModel",
      "state": {
       "_model_module": "@jupyter-widgets/base",
       "_model_module_version": "2.0.0",
       "_model_name": "LayoutModel",
       "_view_count": null,
       "_view_module": "@jupyter-widgets/base",
       "_view_module_version": "2.0.0",
       "_view_name": "LayoutView",
       "align_content": null,
       "align_items": null,
       "align_self": null,
       "border_bottom": null,
       "border_left": null,
       "border_right": null,
       "border_top": null,
       "bottom": null,
       "display": null,
       "flex": null,
       "flex_flow": null,
       "grid_area": null,
       "grid_auto_columns": null,
       "grid_auto_flow": null,
       "grid_auto_rows": null,
       "grid_column": null,
       "grid_gap": null,
       "grid_row": null,
       "grid_template_areas": null,
       "grid_template_columns": null,
       "grid_template_rows": null,
       "height": null,
       "justify_content": null,
       "justify_items": null,
       "left": null,
       "margin": null,
       "max_height": null,
       "max_width": null,
       "min_height": null,
       "min_width": null,
       "object_fit": null,
       "object_position": null,
       "order": null,
       "overflow": null,
       "padding": null,
       "right": null,
       "top": null,
       "visibility": null,
       "width": null
      }
     },
     "323177a507da4af2ba26e995538f79db": {
      "model_module": "@jupyter-widgets/base",
      "model_module_version": "2.0.0",
      "model_name": "LayoutModel",
      "state": {
       "_model_module": "@jupyter-widgets/base",
       "_model_module_version": "2.0.0",
       "_model_name": "LayoutModel",
       "_view_count": null,
       "_view_module": "@jupyter-widgets/base",
       "_view_module_version": "2.0.0",
       "_view_name": "LayoutView",
       "align_content": null,
       "align_items": null,
       "align_self": null,
       "border_bottom": null,
       "border_left": null,
       "border_right": null,
       "border_top": null,
       "bottom": null,
       "display": null,
       "flex": null,
       "flex_flow": null,
       "grid_area": null,
       "grid_auto_columns": null,
       "grid_auto_flow": null,
       "grid_auto_rows": null,
       "grid_column": null,
       "grid_gap": null,
       "grid_row": null,
       "grid_template_areas": null,
       "grid_template_columns": null,
       "grid_template_rows": null,
       "height": null,
       "justify_content": null,
       "justify_items": null,
       "left": null,
       "margin": null,
       "max_height": null,
       "max_width": null,
       "min_height": null,
       "min_width": null,
       "object_fit": null,
       "object_position": null,
       "order": null,
       "overflow": null,
       "padding": null,
       "right": null,
       "top": null,
       "visibility": null,
       "width": null
      }
     },
     "47f6bd48ea1d4d54a13a982482800178": {
      "model_module": "@jupyter-widgets/output",
      "model_module_version": "1.0.0",
      "model_name": "OutputModel",
      "state": {
       "_dom_classes": [],
       "_model_module": "@jupyter-widgets/output",
       "_model_module_version": "1.0.0",
       "_model_name": "OutputModel",
       "_view_count": null,
       "_view_module": "@jupyter-widgets/output",
       "_view_module_version": "1.0.0",
       "_view_name": "OutputView",
       "layout": "IPY_MODEL_d374e37c4e4c4829bd09d7afe935e9ce",
       "msg_id": "",
       "outputs": [
        {
         "data": {
          "text/markdown": "`qubitization_qpe_chem_thc`",
          "text/plain": "<IPython.core.display.Markdown object>"
         },
         "metadata": {},
         "output_type": "display_data"
        },
        {
         "data": {
          "image/svg+xml": "<svg xmlns=\"http://www.w3.org/2000/svg\" xmlns:xlink=\"http://www.w3.org/1999/xlink\" width=\"322pt\" height=\"638pt\" viewBox=\"0.00 0.00 322.00 638.00\">\n<g id=\"graph0\" class=\"graph\" transform=\"scale(1 1) rotate(0) translate(4 634)\">\n<title>my_graph</title>\n<polygon fill=\"white\" stroke=\"transparent\" points=\"-4,4 -4,-634 318,-634 318,4 -4,4\"/>\n<!-- qpe_reg_G19 -->\n<g id=\"node1\" class=\"node\">\n<title>qpe_reg_G19</title>\n<text text-anchor=\"middle\" x=\"40.5\" y=\"-608.3\" font-family=\"Times,serif\" font-size=\"14.00\">qpe_reg</text>\n</g>\n<!-- QubitizationQPE -->\n<g id=\"node13\" class=\"node\">\n<title>QubitizationQPE</title>\n<polygon fill=\"none\" stroke=\"black\" points=\"118,-441 118,-458 196,-458 196,-441 118,-441\"/>\n<text text-anchor=\"start\" x=\"121\" y=\"-447\" font-family=\"Times,serif\" font-size=\"10.00\">QubitizationQPE</text>\n<polygon fill=\"none\" stroke=\"black\" points=\"118,-420 118,-441 196,-441 196,-420 118,-420\"/>\n<text text-anchor=\"start\" x=\"135\" y=\"-426.8\" font-family=\"Times,serif\" font-size=\"14.00\">qpe_reg</text>\n<polygon fill=\"none\" stroke=\"black\" points=\"118,-399 118,-420 196,-420 196,-399 118,-399\"/>\n<text text-anchor=\"start\" x=\"147.5\" y=\"-405.8\" font-family=\"Times,serif\" font-size=\"14.00\">mu</text>\n<polygon fill=\"none\" stroke=\"black\" points=\"118,-378 118,-399 196,-399 196,-378 118,-378\"/>\n<text text-anchor=\"start\" x=\"150\" y=\"-384.8\" font-family=\"Times,serif\" font-size=\"14.00\">nu</text>\n<polygon fill=\"none\" stroke=\"black\" points=\"118,-357 118,-378 196,-378 196,-357 118,-357\"/>\n<text text-anchor=\"start\" x=\"133\" y=\"-363.8\" font-family=\"Times,serif\" font-size=\"14.00\">plus_mn</text>\n<polygon fill=\"none\" stroke=\"black\" points=\"118,-336 118,-357 196,-357 196,-336 118,-336\"/>\n<text text-anchor=\"start\" x=\"139\" y=\"-342.8\" font-family=\"Times,serif\" font-size=\"14.00\">plus_a</text>\n<polygon fill=\"none\" stroke=\"black\" points=\"118,-315 118,-336 196,-336 196,-315 118,-315\"/>\n<text text-anchor=\"start\" x=\"138.5\" y=\"-321.8\" font-family=\"Times,serif\" font-size=\"14.00\">plus_b</text>\n<polygon fill=\"none\" stroke=\"black\" points=\"118,-294 118,-315 196,-315 196,-294 118,-294\"/>\n<text text-anchor=\"start\" x=\"140\" y=\"-300.8\" font-family=\"Times,serif\" font-size=\"14.00\">sigma</text>\n<polygon fill=\"none\" stroke=\"black\" points=\"118,-273 118,-294 196,-294 196,-273 118,-273\"/>\n<text text-anchor=\"start\" x=\"149\" y=\"-279.8\" font-family=\"Times,serif\" font-size=\"14.00\">rot</text>\n<polygon fill=\"none\" stroke=\"black\" points=\"118,-252 118,-273 196,-273 196,-252 118,-252\"/>\n<text text-anchor=\"start\" x=\"144.5\" y=\"-258.8\" font-family=\"Times,serif\" font-size=\"14.00\">succ</text>\n<polygon fill=\"none\" stroke=\"black\" points=\"118,-231 118,-252 196,-252 196,-231 118,-231\"/>\n<text text-anchor=\"start\" x=\"124.5\" y=\"-237.8\" font-family=\"Times,serif\" font-size=\"14.00\">nu_eq_mp1</text>\n<polygon fill=\"none\" stroke=\"black\" points=\"118,-210 118,-231 196,-231 196,-210 118,-210\"/>\n<text text-anchor=\"start\" x=\"141.5\" y=\"-216.8\" font-family=\"Times,serif\" font-size=\"14.00\">sys_a</text>\n<polygon fill=\"none\" stroke=\"black\" points=\"118,-189 118,-210 196,-210 196,-189 118,-189\"/>\n<text text-anchor=\"start\" x=\"141.5\" y=\"-195.8\" font-family=\"Times,serif\" font-size=\"14.00\">sys_b</text>\n</g>\n<!-- qpe_reg_G19&#45;&gt;QubitizationQPE -->\n<g id=\"edge1\" class=\"edge\">\n<title>qpe_reg_G19:e-&gt;QubitizationQPE:w</title>\n<path fill=\"none\" stroke=\"black\" d=\"M71.5,-612C153.75,-612 37.26,-434.52 115.62,-431.05\"/>\n<ellipse fill=\"black\" stroke=\"black\" cx=\"117\" cy=\"-431.02\" rx=\"1\" ry=\"1\"/>\n<text text-anchor=\"middle\" x=\"99.5\" y=\"-599\" font-family=\"Times,serif\" font-size=\"10.00\">22</text>\n</g>\n<!-- mu_G7 -->\n<g id=\"node2\" class=\"node\">\n<title>mu_G7</title>\n<text text-anchor=\"middle\" x=\"40.5\" y=\"-554.3\" font-family=\"Times,serif\" font-size=\"14.00\">mu</text>\n</g>\n<!-- mu_G7&#45;&gt;QubitizationQPE -->\n<g id=\"edge2\" class=\"edge\">\n<title>mu_G7:e-&gt;QubitizationQPE:w</title>\n<path fill=\"none\" stroke=\"black\" d=\"M68.5,-558C137.05,-558 50.71,-413.45 115.63,-410.06\"/>\n<ellipse fill=\"black\" stroke=\"black\" cx=\"117\" cy=\"-410.03\" rx=\"1\" ry=\"1\"/>\n<text text-anchor=\"middle\" x=\"99.5\" y=\"-418\" font-family=\"Times,serif\" font-size=\"10.00\">9</text>\n</g>\n<!-- nu_G4 -->\n<g id=\"node3\" class=\"node\">\n<title>nu_G4</title>\n<text text-anchor=\"middle\" x=\"40.5\" y=\"-500.3\" font-family=\"Times,serif\" font-size=\"14.00\">nu</text>\n</g>\n<!-- nu_G4&#45;&gt;QubitizationQPE -->\n<g id=\"edge3\" class=\"edge\">\n<title>nu_G4:e-&gt;QubitizationQPE:w</title>\n<path fill=\"none\" stroke=\"black\" d=\"M68.5,-504C123.38,-504 64.02,-392.12 115.78,-389.06\"/>\n<ellipse fill=\"black\" stroke=\"black\" cx=\"117\" cy=\"-389.03\" rx=\"1\" ry=\"1\"/>\n<text text-anchor=\"middle\" x=\"99.5\" y=\"-399\" font-family=\"Times,serif\" font-size=\"10.00\">9</text>\n</g>\n<!-- plus_mn_G8 -->\n<g id=\"node4\" class=\"node\">\n<title>plus_mn_G8</title>\n<text text-anchor=\"middle\" x=\"40.5\" y=\"-446.3\" font-family=\"Times,serif\" font-size=\"14.00\">plus_mn</text>\n</g>\n<!-- plus_mn_G8&#45;&gt;QubitizationQPE -->\n<g id=\"edge4\" class=\"edge\">\n<title>plus_mn_G8:e-&gt;QubitizationQPE:w</title>\n<path fill=\"none\" stroke=\"black\" d=\"M73.5,-450C114.16,-450 78.01,-371.17 115.66,-368.09\"/>\n<ellipse fill=\"black\" stroke=\"black\" cx=\"117\" cy=\"-368.04\" rx=\"1\" ry=\"1\"/>\n<text text-anchor=\"middle\" x=\"99.5\" y=\"-384\" font-family=\"Times,serif\" font-size=\"10.00\">1</text>\n</g>\n<!-- plus_a_G16 -->\n<g id=\"node5\" class=\"node\">\n<title>plus_a_G16</title>\n<text text-anchor=\"middle\" x=\"40.5\" y=\"-392.3\" font-family=\"Times,serif\" font-size=\"14.00\">plus_a</text>\n</g>\n<!-- plus_a_G16&#45;&gt;QubitizationQPE -->\n<g id=\"edge5\" class=\"edge\">\n<title>plus_a_G16:e-&gt;QubitizationQPE:w</title>\n<path fill=\"none\" stroke=\"black\" d=\"M68.5,-396C98.73,-396 87.6,-349.27 115.89,-347.08\"/>\n<ellipse fill=\"black\" stroke=\"black\" cx=\"117\" cy=\"-347.04\" rx=\"1\" ry=\"1\"/>\n<text text-anchor=\"middle\" x=\"99.5\" y=\"-360\" font-family=\"Times,serif\" font-size=\"10.00\">1</text>\n</g>\n<!-- plus_b_G34 -->\n<g id=\"node6\" class=\"node\">\n<title>plus_b_G34</title>\n<text text-anchor=\"middle\" x=\"40.5\" y=\"-338.3\" font-family=\"Times,serif\" font-size=\"14.00\">plus_b</text>\n</g>\n<!-- plus_b_G34&#45;&gt;QubitizationQPE -->\n<g id=\"edge6\" class=\"edge\">\n<title>plus_b_G34:e-&gt;QubitizationQPE:w</title>\n<path fill=\"none\" stroke=\"black\" d=\"M68.5,-342C90.9,-342 94.66,-326.98 115.89,-326.05\"/>\n<ellipse fill=\"black\" stroke=\"black\" cx=\"117\" cy=\"-326.02\" rx=\"1\" ry=\"1\"/>\n<text text-anchor=\"middle\" x=\"99.5\" y=\"-333\" font-family=\"Times,serif\" font-size=\"10.00\">1</text>\n</g>\n<!-- sigma_G13 -->\n<g id=\"node7\" class=\"node\">\n<title>sigma_G13</title>\n<text text-anchor=\"middle\" x=\"40.5\" y=\"-284.3\" font-family=\"Times,serif\" font-size=\"14.00\">sigma</text>\n</g>\n<!-- sigma_G13&#45;&gt;QubitizationQPE -->\n<g id=\"edge7\" class=\"edge\">\n<title>sigma_G13:e-&gt;QubitizationQPE:w</title>\n<path fill=\"none\" stroke=\"black\" d=\"M68.5,-288C90.9,-288 94.66,-303.02 115.89,-303.95\"/>\n<ellipse fill=\"black\" stroke=\"black\" cx=\"117\" cy=\"-303.98\" rx=\"1\" ry=\"1\"/>\n<text text-anchor=\"middle\" x=\"99.5\" y=\"-302\" font-family=\"Times,serif\" font-size=\"10.00\">10</text>\n</g>\n<!-- rot_G15 -->\n<g id=\"node8\" class=\"node\">\n<title>rot_G15</title>\n<text text-anchor=\"middle\" x=\"40.5\" y=\"-230.3\" font-family=\"Times,serif\" font-size=\"14.00\">rot</text>\n</g>\n<!-- rot_G15&#45;&gt;QubitizationQPE -->\n<g id=\"edge8\" class=\"edge\">\n<title>rot_G15:e-&gt;QubitizationQPE:w</title>\n<path fill=\"none\" stroke=\"black\" d=\"M68.5,-234C98.73,-234 87.6,-280.73 115.89,-282.92\"/>\n<ellipse fill=\"black\" stroke=\"black\" cx=\"117\" cy=\"-282.96\" rx=\"1\" ry=\"1\"/>\n<text text-anchor=\"middle\" x=\"99.5\" y=\"-275\" font-family=\"Times,serif\" font-size=\"10.00\">1</text>\n</g>\n<!-- succ_G26 -->\n<g id=\"node9\" class=\"node\">\n<title>succ_G26</title>\n<text text-anchor=\"middle\" x=\"40.5\" y=\"-176.3\" font-family=\"Times,serif\" font-size=\"14.00\">succ</text>\n</g>\n<!-- succ_G26&#45;&gt;QubitizationQPE -->\n<g id=\"edge9\" class=\"edge\">\n<title>succ_G26:e-&gt;QubitizationQPE:w</title>\n<path fill=\"none\" stroke=\"black\" d=\"M68.5,-180C110.24,-180 76.79,-258.83 115.59,-261.91\"/>\n<ellipse fill=\"black\" stroke=\"black\" cx=\"117\" cy=\"-261.96\" rx=\"1\" ry=\"1\"/>\n<text text-anchor=\"middle\" x=\"99.5\" y=\"-254\" font-family=\"Times,serif\" font-size=\"10.00\">1</text>\n</g>\n<!-- nu_eq_mp1_G2 -->\n<g id=\"node10\" class=\"node\">\n<title>nu_eq_mp1_G2</title>\n<text text-anchor=\"middle\" x=\"40.5\" y=\"-122.3\" font-family=\"Times,serif\" font-size=\"14.00\">nu_eq_mp1</text>\n</g>\n<!-- nu_eq_mp1_G2&#45;&gt;QubitizationQPE -->\n<g id=\"edge10\" class=\"edge\">\n<title>nu_eq_mp1_G2:e-&gt;QubitizationQPE:w</title>\n<path fill=\"none\" stroke=\"black\" d=\"M81,-126C133.96,-126 66.21,-237.88 115.87,-240.94\"/>\n<ellipse fill=\"black\" stroke=\"black\" cx=\"117\" cy=\"-240.97\" rx=\"1\" ry=\"1\"/>\n<text text-anchor=\"middle\" x=\"99.5\" y=\"-234\" font-family=\"Times,serif\" font-size=\"10.00\">1</text>\n</g>\n<!-- sys_a_G27 -->\n<g id=\"node11\" class=\"node\">\n<title>sys_a_G27</title>\n<text text-anchor=\"middle\" x=\"40.5\" y=\"-68.3\" font-family=\"Times,serif\" font-size=\"14.00\">sys_a</text>\n</g>\n<!-- sys_a_G27&#45;&gt;QubitizationQPE -->\n<g id=\"edge11\" class=\"edge\">\n<title>sys_a_G27:e-&gt;QubitizationQPE:w</title>\n<path fill=\"none\" stroke=\"black\" d=\"M68.5,-72C98.23,-72 89.95,-103.03 100,-131 106.56,-149.25 98.5,-214.61 115.77,-219.69\"/>\n<ellipse fill=\"black\" stroke=\"black\" cx=\"117.01\" cy=\"-219.86\" rx=\"1\" ry=\"1\"/>\n<text text-anchor=\"middle\" x=\"99.5\" y=\"-134\" font-family=\"Times,serif\" font-size=\"10.00\">76</text>\n</g>\n<!-- sys_b_G23 -->\n<g id=\"node12\" class=\"node\">\n<title>sys_b_G23</title>\n<text text-anchor=\"middle\" x=\"40.5\" y=\"-14.3\" font-family=\"Times,serif\" font-size=\"14.00\">sys_b</text>\n</g>\n<!-- sys_b_G23&#45;&gt;QubitizationQPE -->\n<g id=\"edge12\" class=\"edge\">\n<title>sys_b_G23:e-&gt;QubitizationQPE:w</title>\n<path fill=\"none\" stroke=\"black\" d=\"M68.5,-18C81.72,-18 76.66,-32.51 81,-45 81.17,-45.48 112.53,-178.17 117.38,-196.83\"/>\n<ellipse fill=\"black\" stroke=\"black\" cx=\"117.72\" cy=\"-198.04\" rx=\"1\" ry=\"1\"/>\n<text text-anchor=\"middle\" x=\"99.5\" y=\"-126\" font-family=\"Times,serif\" font-size=\"10.00\">76</text>\n</g>\n<!-- qpe_reg_G25 -->\n<g id=\"node14\" class=\"node\">\n<title>qpe_reg_G25</title>\n<text text-anchor=\"middle\" x=\"273.5\" y=\"-608.3\" font-family=\"Times,serif\" font-size=\"14.00\">qpe_reg</text>\n</g>\n<!-- QubitizationQPE&#45;&gt;qpe_reg_G25 -->\n<g id=\"edge13\" class=\"edge\">\n<title>QubitizationQPE:e-&gt;qpe_reg_G25:w</title>\n<path fill=\"none\" stroke=\"black\" d=\"M196,-431C278.25,-431 161.76,-608.48 240.12,-611.95\"/>\n<ellipse fill=\"black\" stroke=\"black\" cx=\"241.5\" cy=\"-611.98\" rx=\"1\" ry=\"1\"/>\n<text text-anchor=\"middle\" x=\"214.5\" y=\"-599\" font-family=\"Times,serif\" font-size=\"10.00\">22</text>\n</g>\n<!-- mu_G12 -->\n<g id=\"node15\" class=\"node\">\n<title>mu_G12</title>\n<text text-anchor=\"middle\" x=\"273.5\" y=\"-554.3\" font-family=\"Times,serif\" font-size=\"14.00\">mu</text>\n</g>\n<!-- QubitizationQPE&#45;&gt;mu_G12 -->\n<g id=\"edge14\" class=\"edge\">\n<title>QubitizationQPE:e-&gt;mu_G12:w</title>\n<path fill=\"none\" stroke=\"black\" d=\"M196,-410C264.55,-410 178.21,-554.55 243.13,-557.94\"/>\n<ellipse fill=\"black\" stroke=\"black\" cx=\"244.5\" cy=\"-557.97\" rx=\"1\" ry=\"1\"/>\n<text text-anchor=\"middle\" x=\"214.5\" y=\"-418\" font-family=\"Times,serif\" font-size=\"10.00\">9</text>\n</g>\n<!-- nu_G0 -->\n<g id=\"node16\" class=\"node\">\n<title>nu_G0</title>\n<text text-anchor=\"middle\" x=\"273.5\" y=\"-500.3\" font-family=\"Times,serif\" font-size=\"14.00\">nu</text>\n</g>\n<!-- QubitizationQPE&#45;&gt;nu_G0 -->\n<g id=\"edge15\" class=\"edge\">\n<title>QubitizationQPE:e-&gt;nu_G0:w</title>\n<path fill=\"none\" stroke=\"black\" d=\"M196,-389C250.88,-389 191.52,-500.88 243.28,-503.94\"/>\n<ellipse fill=\"black\" stroke=\"black\" cx=\"244.5\" cy=\"-503.97\" rx=\"1\" ry=\"1\"/>\n<text text-anchor=\"middle\" x=\"214.5\" y=\"-399\" font-family=\"Times,serif\" font-size=\"10.00\">9</text>\n</g>\n<!-- plus_mn_G5 -->\n<g id=\"node17\" class=\"node\">\n<title>plus_mn_G5</title>\n<text text-anchor=\"middle\" x=\"273.5\" y=\"-446.3\" font-family=\"Times,serif\" font-size=\"14.00\">plus_mn</text>\n</g>\n<!-- QubitizationQPE&#45;&gt;plus_mn_G5 -->\n<g id=\"edge16\" class=\"edge\">\n<title>QubitizationQPE:e-&gt;plus_mn_G5:w</title>\n<path fill=\"none\" stroke=\"black\" d=\"M196,-368C236.66,-368 200.51,-446.83 238.16,-449.91\"/>\n<ellipse fill=\"black\" stroke=\"black\" cx=\"239.5\" cy=\"-449.96\" rx=\"1\" ry=\"1\"/>\n<text text-anchor=\"middle\" x=\"214.5\" y=\"-384\" font-family=\"Times,serif\" font-size=\"10.00\">1</text>\n</g>\n<!-- plus_a_G14 -->\n<g id=\"node18\" class=\"node\">\n<title>plus_a_G14</title>\n<text text-anchor=\"middle\" x=\"273.5\" y=\"-392.3\" font-family=\"Times,serif\" font-size=\"14.00\">plus_a</text>\n</g>\n<!-- QubitizationQPE&#45;&gt;plus_a_G14 -->\n<g id=\"edge17\" class=\"edge\">\n<title>QubitizationQPE:e-&gt;plus_a_G14:w</title>\n<path fill=\"none\" stroke=\"black\" d=\"M196,-347C226.23,-347 215.1,-393.73 243.39,-395.92\"/>\n<ellipse fill=\"black\" stroke=\"black\" cx=\"244.5\" cy=\"-395.96\" rx=\"1\" ry=\"1\"/>\n<text text-anchor=\"middle\" x=\"214.5\" y=\"-360\" font-family=\"Times,serif\" font-size=\"10.00\">1</text>\n</g>\n<!-- plus_b_G32 -->\n<g id=\"node19\" class=\"node\">\n<title>plus_b_G32</title>\n<text text-anchor=\"middle\" x=\"273.5\" y=\"-338.3\" font-family=\"Times,serif\" font-size=\"14.00\">plus_b</text>\n</g>\n<!-- QubitizationQPE&#45;&gt;plus_b_G32 -->\n<g id=\"edge18\" class=\"edge\">\n<title>QubitizationQPE:e-&gt;plus_b_G32:w</title>\n<path fill=\"none\" stroke=\"black\" d=\"M196,-326C218.4,-326 222.16,-341.02 243.39,-341.95\"/>\n<ellipse fill=\"black\" stroke=\"black\" cx=\"244.5\" cy=\"-341.98\" rx=\"1\" ry=\"1\"/>\n<text text-anchor=\"middle\" x=\"214.5\" y=\"-333\" font-family=\"Times,serif\" font-size=\"10.00\">1</text>\n</g>\n<!-- sigma_G17 -->\n<g id=\"node20\" class=\"node\">\n<title>sigma_G17</title>\n<text text-anchor=\"middle\" x=\"273.5\" y=\"-284.3\" font-family=\"Times,serif\" font-size=\"14.00\">sigma</text>\n</g>\n<!-- QubitizationQPE&#45;&gt;sigma_G17 -->\n<g id=\"edge19\" class=\"edge\">\n<title>QubitizationQPE:e-&gt;sigma_G17:w</title>\n<path fill=\"none\" stroke=\"black\" d=\"M196,-304C218.4,-304 222.16,-288.98 243.39,-288.05\"/>\n<ellipse fill=\"black\" stroke=\"black\" cx=\"244.5\" cy=\"-288.02\" rx=\"1\" ry=\"1\"/>\n<text text-anchor=\"middle\" x=\"214.5\" y=\"-302\" font-family=\"Times,serif\" font-size=\"10.00\">10</text>\n</g>\n<!-- rot_G21 -->\n<g id=\"node21\" class=\"node\">\n<title>rot_G21</title>\n<text text-anchor=\"middle\" x=\"273.5\" y=\"-230.3\" font-family=\"Times,serif\" font-size=\"14.00\">rot</text>\n</g>\n<!-- QubitizationQPE&#45;&gt;rot_G21 -->\n<g id=\"edge20\" class=\"edge\">\n<title>QubitizationQPE:e-&gt;rot_G21:w</title>\n<path fill=\"none\" stroke=\"black\" d=\"M196,-283C226.23,-283 215.1,-236.27 243.39,-234.08\"/>\n<ellipse fill=\"black\" stroke=\"black\" cx=\"244.5\" cy=\"-234.04\" rx=\"1\" ry=\"1\"/>\n<text text-anchor=\"middle\" x=\"214.5\" y=\"-275\" font-family=\"Times,serif\" font-size=\"10.00\">1</text>\n</g>\n<!-- succ_G30 -->\n<g id=\"node22\" class=\"node\">\n<title>succ_G30</title>\n<text text-anchor=\"middle\" x=\"273.5\" y=\"-176.3\" font-family=\"Times,serif\" font-size=\"14.00\">succ</text>\n</g>\n<!-- QubitizationQPE&#45;&gt;succ_G30 -->\n<g id=\"edge21\" class=\"edge\">\n<title>QubitizationQPE:e-&gt;succ_G30:w</title>\n<path fill=\"none\" stroke=\"black\" d=\"M196,-262C237.74,-262 204.29,-183.17 243.09,-180.09\"/>\n<ellipse fill=\"black\" stroke=\"black\" cx=\"244.5\" cy=\"-180.04\" rx=\"1\" ry=\"1\"/>\n<text text-anchor=\"middle\" x=\"214.5\" y=\"-254\" font-family=\"Times,serif\" font-size=\"10.00\">1</text>\n</g>\n<!-- nu_eq_mp1_G1 -->\n<g id=\"node23\" class=\"node\">\n<title>nu_eq_mp1_G1</title>\n<text text-anchor=\"middle\" x=\"273.5\" y=\"-122.3\" font-family=\"Times,serif\" font-size=\"14.00\">nu_eq_mp1</text>\n</g>\n<!-- QubitizationQPE&#45;&gt;nu_eq_mp1_G1 -->\n<g id=\"edge22\" class=\"edge\">\n<title>QubitizationQPE:e-&gt;nu_eq_mp1_G1:w</title>\n<path fill=\"none\" stroke=\"black\" d=\"M196,-241C248.96,-241 181.21,-129.12 230.87,-126.06\"/>\n<ellipse fill=\"black\" stroke=\"black\" cx=\"232\" cy=\"-126.03\" rx=\"1\" ry=\"1\"/>\n<text text-anchor=\"middle\" x=\"214.5\" y=\"-234\" font-family=\"Times,serif\" font-size=\"10.00\">1</text>\n</g>\n<!-- sys_a_G31 -->\n<g id=\"node24\" class=\"node\">\n<title>sys_a_G31</title>\n<text text-anchor=\"middle\" x=\"273.5\" y=\"-68.3\" font-family=\"Times,serif\" font-size=\"14.00\">sys_a</text>\n</g>\n<!-- QubitizationQPE&#45;&gt;sys_a_G31 -->\n<g id=\"edge23\" class=\"edge\">\n<title>QubitizationQPE:e-&gt;sys_a_G31:w</title>\n<path fill=\"none\" stroke=\"black\" d=\"M196,-220C216.18,-220 207.18,-149.99 214,-131 223.82,-103.68 216.15,-73.45 243.47,-72.05\"/>\n<ellipse fill=\"black\" stroke=\"black\" cx=\"244.5\" cy=\"-72.03\" rx=\"1\" ry=\"1\"/>\n<text text-anchor=\"middle\" x=\"214.5\" y=\"-134\" font-family=\"Times,serif\" font-size=\"10.00\">76</text>\n</g>\n<!-- sys_b_G28 -->\n<g id=\"node25\" class=\"node\">\n<title>sys_b_G28</title>\n<text text-anchor=\"middle\" x=\"273.5\" y=\"-14.3\" font-family=\"Times,serif\" font-size=\"14.00\">sys_b</text>\n</g>\n<!-- QubitizationQPE&#45;&gt;sys_b_G28 -->\n<g id=\"edge24\" class=\"edge\">\n<title>QubitizationQPE:e-&gt;sys_b_G28:w</title>\n<path fill=\"none\" stroke=\"black\" d=\"M196,-199C196.55,-199 232.82,-45.52 233,-45 237.11,-33.19 232.8,-19.58 243.49,-18.13\"/>\n<ellipse fill=\"black\" stroke=\"black\" cx=\"244.5\" cy=\"-18.06\" rx=\"1\" ry=\"1\"/>\n<text text-anchor=\"middle\" x=\"214.5\" y=\"-126\" font-family=\"Times,serif\" font-size=\"10.00\">76</text>\n</g>\n</g>\n</svg>",
          "text/plain": "<IPython.core.display.SVG object>"
         },
         "metadata": {},
         "output_type": "display_data"
        }
       ],
       "tabbable": null,
       "tooltip": null
      }
     },
     "544f30ff6ed146778551de8b68f24fef": {
      "model_module": "@jupyter-widgets/output",
      "model_module_version": "1.0.0",
      "model_name": "OutputModel",
      "state": {
       "_dom_classes": [],
       "_model_module": "@jupyter-widgets/output",
       "_model_module_version": "1.0.0",
       "_model_name": "OutputModel",
       "_view_count": null,
       "_view_module": "@jupyter-widgets/output",
       "_view_module_version": "1.0.0",
       "_view_name": "OutputView",
       "layout": "IPY_MODEL_177fc889d01c40488213bdada0792db9",
       "msg_id": "",
       "outputs": [
        {
         "data": {
          "text/markdown": "`qubitization_qpe_sparse_chem`",
          "text/plain": "<IPython.core.display.Markdown object>"
         },
         "metadata": {},
         "output_type": "display_data"
        },
        {
         "data": {
          "image/svg+xml": "<svg xmlns=\"http://www.w3.org/2000/svg\" xmlns:xlink=\"http://www.w3.org/1999/xlink\" width=\"308pt\" height=\"800pt\" viewBox=\"0.00 0.00 308.00 800.00\">\n<g id=\"graph0\" class=\"graph\" transform=\"scale(1 1) rotate(0) translate(4 796)\">\n<title>my_graph</title>\n<polygon fill=\"white\" stroke=\"transparent\" points=\"-4,4 -4,-796 304,-796 304,4 -4,4\"/>\n<!-- qpe_reg_G40 -->\n<g id=\"node1\" class=\"node\">\n<title>qpe_reg_G40</title>\n<text text-anchor=\"middle\" x=\"37\" y=\"-770.3\" font-family=\"Times,serif\" font-size=\"14.00\">qpe_reg</text>\n</g>\n<!-- QubitizationQPE -->\n<g id=\"node16\" class=\"node\">\n<title>QubitizationQPE</title>\n<polygon fill=\"none\" stroke=\"black\" points=\"111,-554 111,-571 189,-571 189,-554 111,-554\"/>\n<text text-anchor=\"start\" x=\"114\" y=\"-560\" font-family=\"Times,serif\" font-size=\"10.00\">QubitizationQPE</text>\n<polygon fill=\"none\" stroke=\"black\" points=\"111,-533 111,-554 189,-554 189,-533 111,-533\"/>\n<text text-anchor=\"start\" x=\"128\" y=\"-539.8\" font-family=\"Times,serif\" font-size=\"14.00\">qpe_reg</text>\n<polygon fill=\"none\" stroke=\"black\" points=\"111,-512 111,-533 189,-533 189,-512 111,-512\"/>\n<text text-anchor=\"start\" x=\"146.5\" y=\"-518.8\" font-family=\"Times,serif\" font-size=\"14.00\">d</text>\n<polygon fill=\"none\" stroke=\"black\" points=\"111,-491 111,-512 189,-512 189,-491 111,-491\"/>\n<text text-anchor=\"start\" x=\"146.5\" y=\"-497.8\" font-family=\"Times,serif\" font-size=\"14.00\">p</text>\n<polygon fill=\"none\" stroke=\"black\" points=\"111,-470 111,-491 189,-491 189,-470 111,-470\"/>\n<text text-anchor=\"start\" x=\"146.5\" y=\"-476.8\" font-family=\"Times,serif\" font-size=\"14.00\">q</text>\n<polygon fill=\"none\" stroke=\"black\" points=\"111,-449 111,-470 189,-470 189,-449 111,-449\"/>\n<text text-anchor=\"start\" x=\"147.5\" y=\"-455.8\" font-family=\"Times,serif\" font-size=\"14.00\">r</text>\n<polygon fill=\"none\" stroke=\"black\" points=\"111,-428 111,-449 189,-449 189,-428 111,-428\"/>\n<text text-anchor=\"start\" x=\"147\" y=\"-434.8\" font-family=\"Times,serif\" font-size=\"14.00\">s</text>\n<polygon fill=\"none\" stroke=\"black\" points=\"111,-407 111,-428 189,-428 189,-407 111,-407\"/>\n<text text-anchor=\"start\" x=\"133\" y=\"-413.8\" font-family=\"Times,serif\" font-size=\"14.00\">sigma</text>\n<polygon fill=\"none\" stroke=\"black\" points=\"111,-386 111,-407 189,-407 189,-386 111,-386\"/>\n<text text-anchor=\"start\" x=\"135\" y=\"-392.8\" font-family=\"Times,serif\" font-size=\"14.00\">alpha</text>\n<polygon fill=\"none\" stroke=\"black\" points=\"111,-365 111,-386 189,-386 189,-365 111,-365\"/>\n<text text-anchor=\"start\" x=\"138.5\" y=\"-371.8\" font-family=\"Times,serif\" font-size=\"14.00\">beta</text>\n<polygon fill=\"none\" stroke=\"black\" points=\"111,-344 111,-365 189,-365 189,-344 111,-344\"/>\n<text text-anchor=\"start\" x=\"133\" y=\"-350.8\" font-family=\"Times,serif\" font-size=\"14.00\">rot_aa</text>\n<polygon fill=\"none\" stroke=\"black\" points=\"111,-323 111,-344 189,-344 189,-323 111,-323\"/>\n<text text-anchor=\"start\" x=\"125.5\" y=\"-329.8\" font-family=\"Times,serif\" font-size=\"14.00\">swap_pq</text>\n<polygon fill=\"none\" stroke=\"black\" points=\"111,-302 111,-323 189,-323 189,-302 111,-302\"/>\n<text text-anchor=\"start\" x=\"127.5\" y=\"-308.8\" font-family=\"Times,serif\" font-size=\"14.00\">swap_rs</text>\n<polygon fill=\"none\" stroke=\"black\" points=\"111,-281 111,-302 189,-302 189,-281 111,-281\"/>\n<text text-anchor=\"start\" x=\"121\" y=\"-287.8\" font-family=\"Times,serif\" font-size=\"14.00\">swap_pqrs</text>\n<polygon fill=\"none\" stroke=\"black\" points=\"111,-260 111,-281 189,-281 189,-260 111,-260\"/>\n<text text-anchor=\"start\" x=\"129\" y=\"-266.8\" font-family=\"Times,serif\" font-size=\"14.00\">flag_1b</text>\n<polygon fill=\"none\" stroke=\"black\" points=\"111,-239 111,-260 189,-260 189,-239 111,-239\"/>\n<text text-anchor=\"start\" x=\"141\" y=\"-245.8\" font-family=\"Times,serif\" font-size=\"14.00\">sys</text>\n</g>\n<!-- qpe_reg_G40&#45;&gt;QubitizationQPE -->\n<g id=\"edge1\" class=\"edge\">\n<title>qpe_reg_G40:e-&gt;QubitizationQPE:w</title>\n<path fill=\"none\" stroke=\"black\" d=\"M68,-774C80.29,-774 71.38,-759.01 74,-747 82.61,-707.48 85.62,-697.77 93,-658 97.55,-633.47 86.01,-548.81 108.98,-544.2\"/>\n<ellipse fill=\"black\" stroke=\"black\" cx=\"110\" cy=\"-544.1\" rx=\"1\" ry=\"1\"/>\n<text text-anchor=\"middle\" x=\"92.5\" y=\"-665\" font-family=\"Times,serif\" font-size=\"10.00\">21</text>\n</g>\n<!-- d_G17 -->\n<g id=\"node2\" class=\"node\">\n<title>d_G17</title>\n<text text-anchor=\"middle\" x=\"37\" y=\"-716.3\" font-family=\"Times,serif\" font-size=\"14.00\">d</text>\n</g>\n<!-- d_G17&#45;&gt;QubitizationQPE -->\n<g id=\"edge2\" class=\"edge\">\n<title>d_G17:e-&gt;QubitizationQPE:w</title>\n<path fill=\"none\" stroke=\"black\" d=\"M65,-720C98.51,-720 84.36,-682.38 93,-650 100.14,-623.21 83.45,-528.39 108.76,-523.22\"/>\n<ellipse fill=\"black\" stroke=\"black\" cx=\"110\" cy=\"-523.1\" rx=\"1\" ry=\"1\"/>\n<text text-anchor=\"middle\" x=\"92.5\" y=\"-656\" font-family=\"Times,serif\" font-size=\"10.00\">5</text>\n</g>\n<!-- p_G21 -->\n<g id=\"node3\" class=\"node\">\n<title>p_G21</title>\n<text text-anchor=\"middle\" x=\"37\" y=\"-662.3\" font-family=\"Times,serif\" font-size=\"14.00\">p</text>\n</g>\n<!-- p_G21&#45;&gt;QubitizationQPE -->\n<g id=\"edge3\" class=\"edge\">\n<title>p_G21:e-&gt;QubitizationQPE:w</title>\n<path fill=\"none\" stroke=\"black\" d=\"M65,-666C139.96,-666 37.34,-505.19 108.83,-502.05\"/>\n<ellipse fill=\"black\" stroke=\"black\" cx=\"110\" cy=\"-502.02\" rx=\"1\" ry=\"1\"/>\n<text text-anchor=\"middle\" x=\"92.5\" y=\"-648\" font-family=\"Times,serif\" font-size=\"10.00\">2</text>\n</g>\n<!-- q_G43 -->\n<g id=\"node4\" class=\"node\">\n<title>q_G43</title>\n<text text-anchor=\"middle\" x=\"37\" y=\"-608.3\" font-family=\"Times,serif\" font-size=\"14.00\">q</text>\n</g>\n<!-- q_G43&#45;&gt;QubitizationQPE -->\n<g id=\"edge4\" class=\"edge\">\n<title>q_G43:e-&gt;QubitizationQPE:w</title>\n<path fill=\"none\" stroke=\"black\" d=\"M65,-612C125.98,-612 51.09,-484.05 108.89,-481.05\"/>\n<ellipse fill=\"black\" stroke=\"black\" cx=\"110\" cy=\"-481.03\" rx=\"1\" ry=\"1\"/>\n<text text-anchor=\"middle\" x=\"92.5\" y=\"-490\" font-family=\"Times,serif\" font-size=\"10.00\">2</text>\n</g>\n<!-- r_G1 -->\n<g id=\"node5\" class=\"node\">\n<title>r_G1</title>\n<text text-anchor=\"middle\" x=\"37\" y=\"-554.3\" font-family=\"Times,serif\" font-size=\"14.00\">r</text>\n</g>\n<!-- r_G1&#45;&gt;QubitizationQPE -->\n<g id=\"edge5\" class=\"edge\">\n<title>r_G1:e-&gt;QubitizationQPE:w</title>\n<path fill=\"none\" stroke=\"black\" d=\"M65,-558C112.36,-558 64.43,-463.04 108.82,-460.07\"/>\n<ellipse fill=\"black\" stroke=\"black\" cx=\"110\" cy=\"-460.03\" rx=\"1\" ry=\"1\"/>\n<text text-anchor=\"middle\" x=\"92.5\" y=\"-473\" font-family=\"Times,serif\" font-size=\"10.00\">2</text>\n</g>\n<!-- s_G26 -->\n<g id=\"node6\" class=\"node\">\n<title>s_G26</title>\n<text text-anchor=\"middle\" x=\"37\" y=\"-500.3\" font-family=\"Times,serif\" font-size=\"14.00\">s</text>\n</g>\n<!-- s_G26&#45;&gt;QubitizationQPE -->\n<g id=\"edge6\" class=\"edge\">\n<title>s_G26:e-&gt;QubitizationQPE:w</title>\n<path fill=\"none\" stroke=\"black\" d=\"M65,-504C99.7,-504 76.55,-441.51 108.99,-439.07\"/>\n<ellipse fill=\"black\" stroke=\"black\" cx=\"110\" cy=\"-439.04\" rx=\"1\" ry=\"1\"/>\n<text text-anchor=\"middle\" x=\"92.5\" y=\"-456\" font-family=\"Times,serif\" font-size=\"10.00\">2</text>\n</g>\n<!-- sigma_G41 -->\n<g id=\"node7\" class=\"node\">\n<title>sigma_G41</title>\n<text text-anchor=\"middle\" x=\"37\" y=\"-446.3\" font-family=\"Times,serif\" font-size=\"14.00\">sigma</text>\n</g>\n<!-- sigma_G41&#45;&gt;QubitizationQPE -->\n<g id=\"edge7\" class=\"edge\">\n<title>sigma_G41:e-&gt;QubitizationQPE:w</title>\n<path fill=\"none\" stroke=\"black\" d=\"M65,-450C89.13,-450 86.31,-419.97 108.75,-418.09\"/>\n<ellipse fill=\"black\" stroke=\"black\" cx=\"110\" cy=\"-418.04\" rx=\"1\" ry=\"1\"/>\n<text text-anchor=\"middle\" x=\"92.5\" y=\"-430\" font-family=\"Times,serif\" font-size=\"10.00\">16</text>\n</g>\n<!-- alpha_G3 -->\n<g id=\"node8\" class=\"node\">\n<title>alpha_G3</title>\n<text text-anchor=\"middle\" x=\"37\" y=\"-392.3\" font-family=\"Times,serif\" font-size=\"14.00\">alpha</text>\n</g>\n<!-- alpha_G3&#45;&gt;QubitizationQPE -->\n<g id=\"edge8\" class=\"edge\">\n<title>alpha_G3:e-&gt;QubitizationQPE:w</title>\n<path fill=\"none\" stroke=\"black\" d=\"M65,-396C84.65,-396 90.13,-396 108.67,-396\"/>\n<ellipse fill=\"black\" stroke=\"black\" cx=\"110\" cy=\"-396\" rx=\"1\" ry=\"1\"/>\n<text text-anchor=\"middle\" x=\"92.5\" y=\"-399\" font-family=\"Times,serif\" font-size=\"10.00\">1</text>\n</g>\n<!-- beta_G8 -->\n<g id=\"node9\" class=\"node\">\n<title>beta_G8</title>\n<text text-anchor=\"middle\" x=\"37\" y=\"-338.3\" font-family=\"Times,serif\" font-size=\"14.00\">beta</text>\n</g>\n<!-- beta_G8&#45;&gt;QubitizationQPE -->\n<g id=\"edge9\" class=\"edge\">\n<title>beta_G8:e-&gt;QubitizationQPE:w</title>\n<path fill=\"none\" stroke=\"black\" d=\"M65,-342C89.47,-342 86.05,-373.22 109,-374.93\"/>\n<ellipse fill=\"black\" stroke=\"black\" cx=\"110\" cy=\"-374.96\" rx=\"1\" ry=\"1\"/>\n<text text-anchor=\"middle\" x=\"92.5\" y=\"-368\" font-family=\"Times,serif\" font-size=\"10.00\">1</text>\n</g>\n<!-- rot_aa_G37 -->\n<g id=\"node10\" class=\"node\">\n<title>rot_aa_G37</title>\n<text text-anchor=\"middle\" x=\"37\" y=\"-284.3\" font-family=\"Times,serif\" font-size=\"14.00\">rot_aa</text>\n</g>\n<!-- rot_aa_G37&#45;&gt;QubitizationQPE -->\n<g id=\"edge10\" class=\"edge\">\n<title>rot_aa_G37:e-&gt;QubitizationQPE:w</title>\n<path fill=\"none\" stroke=\"black\" d=\"M65,-288C100.06,-288 76.22,-351.45 108.97,-353.93\"/>\n<ellipse fill=\"black\" stroke=\"black\" cx=\"110\" cy=\"-353.96\" rx=\"1\" ry=\"1\"/>\n<text text-anchor=\"middle\" x=\"92.5\" y=\"-344\" font-family=\"Times,serif\" font-size=\"10.00\">1</text>\n</g>\n<!-- swap_pq_G12 -->\n<g id=\"node11\" class=\"node\">\n<title>swap_pq_G12</title>\n<text text-anchor=\"middle\" x=\"37\" y=\"-230.3\" font-family=\"Times,serif\" font-size=\"14.00\">swap_pq</text>\n</g>\n<!-- swap_pq_G12&#45;&gt;QubitizationQPE -->\n<g id=\"edge11\" class=\"edge\">\n<title>swap_pq_G12:e-&gt;QubitizationQPE:w</title>\n<path fill=\"none\" stroke=\"black\" d=\"M71,-234C117.71,-234 65.24,-329.93 108.85,-332.93\"/>\n<ellipse fill=\"black\" stroke=\"black\" cx=\"110\" cy=\"-332.97\" rx=\"1\" ry=\"1\"/>\n<text text-anchor=\"middle\" x=\"92.5\" y=\"-323\" font-family=\"Times,serif\" font-size=\"10.00\">1</text>\n</g>\n<!-- swap_rs_G29 -->\n<g id=\"node12\" class=\"node\">\n<title>swap_rs_G29</title>\n<text text-anchor=\"middle\" x=\"37\" y=\"-176.3\" font-family=\"Times,serif\" font-size=\"14.00\">swap_rs</text>\n</g>\n<!-- swap_rs_G29&#45;&gt;QubitizationQPE -->\n<g id=\"edge12\" class=\"edge\">\n<title>swap_rs_G29:e-&gt;QubitizationQPE:w</title>\n<path fill=\"none\" stroke=\"black\" d=\"M69,-180C76.21,-180 100.05,-296.02 109.34,-310.52\"/>\n<ellipse fill=\"black\" stroke=\"black\" cx=\"110.26\" cy=\"-311.33\" rx=\"1\" ry=\"1\"/>\n<text text-anchor=\"middle\" x=\"92.5\" y=\"-256\" font-family=\"Times,serif\" font-size=\"10.00\">1</text>\n</g>\n<!-- swap_pqrs_G35 -->\n<g id=\"node13\" class=\"node\">\n<title>swap_pqrs_G35</title>\n<text text-anchor=\"middle\" x=\"37\" y=\"-122.3\" font-family=\"Times,serif\" font-size=\"14.00\">swap_pqrs</text>\n</g>\n<!-- swap_pqrs_G35&#45;&gt;QubitizationQPE -->\n<g id=\"edge13\" class=\"edge\">\n<title>swap_pqrs_G35:e-&gt;QubitizationQPE:w</title>\n<path fill=\"none\" stroke=\"black\" d=\"M74,-126C110.84,-126 74.88,-284.62 108.88,-290.81\"/>\n<ellipse fill=\"black\" stroke=\"black\" cx=\"110\" cy=\"-290.91\" rx=\"1\" ry=\"1\"/>\n<text text-anchor=\"middle\" x=\"92.5\" y=\"-249\" font-family=\"Times,serif\" font-size=\"10.00\">1</text>\n</g>\n<!-- flag_1b_G2 -->\n<g id=\"node14\" class=\"node\">\n<title>flag_1b_G2</title>\n<text text-anchor=\"middle\" x=\"37\" y=\"-68.3\" font-family=\"Times,serif\" font-size=\"14.00\">flag_1b</text>\n</g>\n<!-- flag_1b_G2&#45;&gt;QubitizationQPE -->\n<g id=\"edge14\" class=\"edge\">\n<title>flag_1b_G2:e-&gt;QubitizationQPE:w</title>\n<path fill=\"none\" stroke=\"black\" d=\"M67,-72C110.35,-72 83.51,-123.7 93,-166 97.97,-188.17 88.19,-264.99 108.9,-269.77\"/>\n<ellipse fill=\"black\" stroke=\"black\" cx=\"110.01\" cy=\"-269.89\" rx=\"1\" ry=\"1\"/>\n<text text-anchor=\"middle\" x=\"92.5\" y=\"-169\" font-family=\"Times,serif\" font-size=\"10.00\">1</text>\n</g>\n<!-- sys_G15 -->\n<g id=\"node15\" class=\"node\">\n<title>sys_G15</title>\n<text text-anchor=\"middle\" x=\"37\" y=\"-14.3\" font-family=\"Times,serif\" font-size=\"14.00\">sys</text>\n</g>\n<!-- sys_G15&#45;&gt;QubitizationQPE -->\n<g id=\"edge15\" class=\"edge\">\n<title>sys_G15:e-&gt;QubitizationQPE:w</title>\n<path fill=\"none\" stroke=\"black\" d=\"M65,-18C98.51,-18 84.84,-55.5 93,-88 97.21,-104.78 93.33,-237.98 108.99,-248.36\"/>\n<ellipse fill=\"black\" stroke=\"black\" cx=\"110.05\" cy=\"-248.7\" rx=\"1\" ry=\"1\"/>\n<text text-anchor=\"middle\" x=\"92.5\" y=\"-91\" font-family=\"Times,serif\" font-size=\"10.00\">6</text>\n</g>\n<!-- qpe_reg_G38 -->\n<g id=\"node17\" class=\"node\">\n<title>qpe_reg_G38</title>\n<text text-anchor=\"middle\" x=\"263\" y=\"-770.3\" font-family=\"Times,serif\" font-size=\"14.00\">qpe_reg</text>\n</g>\n<!-- QubitizationQPE&#45;&gt;qpe_reg_G38 -->\n<g id=\"edge16\" class=\"edge\">\n<title>QubitizationQPE:e-&gt;qpe_reg_G38:w</title>\n<path fill=\"none\" stroke=\"black\" d=\"M189,-544C214.65,-544 202.32,-632.78 207,-658 214.38,-697.77 217.39,-707.48 226,-747 228.45,-758.26 220.78,-772.14 229.94,-773.83\"/>\n<ellipse fill=\"black\" stroke=\"black\" cx=\"231\" cy=\"-773.92\" rx=\"1\" ry=\"1\"/>\n<text text-anchor=\"middle\" x=\"207.5\" y=\"-665\" font-family=\"Times,serif\" font-size=\"10.00\">21</text>\n</g>\n<!-- d_G20 -->\n<g id=\"node18\" class=\"node\">\n<title>d_G20</title>\n<text text-anchor=\"middle\" x=\"263\" y=\"-716.3\" font-family=\"Times,serif\" font-size=\"14.00\">d</text>\n</g>\n<!-- QubitizationQPE&#45;&gt;d_G20 -->\n<g id=\"edge17\" class=\"edge\">\n<title>QubitizationQPE:e-&gt;d_G20:w</title>\n<path fill=\"none\" stroke=\"black\" d=\"M189,-523C217.5,-523 199.65,-622.46 207,-650 215.43,-681.62 202.14,-718.24 232.72,-719.94\"/>\n<ellipse fill=\"black\" stroke=\"black\" cx=\"234\" cy=\"-719.97\" rx=\"1\" ry=\"1\"/>\n<text text-anchor=\"middle\" x=\"207.5\" y=\"-656\" font-family=\"Times,serif\" font-size=\"10.00\">5</text>\n</g>\n<!-- p_G18 -->\n<g id=\"node19\" class=\"node\">\n<title>p_G18</title>\n<text text-anchor=\"middle\" x=\"263\" y=\"-662.3\" font-family=\"Times,serif\" font-size=\"14.00\">p</text>\n</g>\n<!-- QubitizationQPE&#45;&gt;p_G18 -->\n<g id=\"edge18\" class=\"edge\">\n<title>QubitizationQPE:e-&gt;p_G18:w</title>\n<path fill=\"none\" stroke=\"black\" d=\"M189,-502C263.96,-502 161.34,-662.81 232.83,-665.95\"/>\n<ellipse fill=\"black\" stroke=\"black\" cx=\"234\" cy=\"-665.98\" rx=\"1\" ry=\"1\"/>\n<text text-anchor=\"middle\" x=\"207.5\" y=\"-648\" font-family=\"Times,serif\" font-size=\"10.00\">2</text>\n</g>\n<!-- q_G7 -->\n<g id=\"node20\" class=\"node\">\n<title>q_G7</title>\n<text text-anchor=\"middle\" x=\"263\" y=\"-608.3\" font-family=\"Times,serif\" font-size=\"14.00\">q</text>\n</g>\n<!-- QubitizationQPE&#45;&gt;q_G7 -->\n<g id=\"edge19\" class=\"edge\">\n<title>QubitizationQPE:e-&gt;q_G7:w</title>\n<path fill=\"none\" stroke=\"black\" d=\"M189,-481C249.98,-481 175.09,-608.95 232.89,-611.95\"/>\n<ellipse fill=\"black\" stroke=\"black\" cx=\"234\" cy=\"-611.97\" rx=\"1\" ry=\"1\"/>\n<text text-anchor=\"middle\" x=\"207.5\" y=\"-490\" font-family=\"Times,serif\" font-size=\"10.00\">2</text>\n</g>\n<!-- r_G11 -->\n<g id=\"node21\" class=\"node\">\n<title>r_G11</title>\n<text text-anchor=\"middle\" x=\"263\" y=\"-554.3\" font-family=\"Times,serif\" font-size=\"14.00\">r</text>\n</g>\n<!-- QubitizationQPE&#45;&gt;r_G11 -->\n<g id=\"edge20\" class=\"edge\">\n<title>QubitizationQPE:e-&gt;r_G11:w</title>\n<path fill=\"none\" stroke=\"black\" d=\"M189,-460C236.36,-460 188.43,-554.96 232.82,-557.93\"/>\n<ellipse fill=\"black\" stroke=\"black\" cx=\"234\" cy=\"-557.97\" rx=\"1\" ry=\"1\"/>\n<text text-anchor=\"middle\" x=\"207.5\" y=\"-473\" font-family=\"Times,serif\" font-size=\"10.00\">2</text>\n</g>\n<!-- s_G23 -->\n<g id=\"node22\" class=\"node\">\n<title>s_G23</title>\n<text text-anchor=\"middle\" x=\"263\" y=\"-500.3\" font-family=\"Times,serif\" font-size=\"14.00\">s</text>\n</g>\n<!-- QubitizationQPE&#45;&gt;s_G23 -->\n<g id=\"edge21\" class=\"edge\">\n<title>QubitizationQPE:e-&gt;s_G23:w</title>\n<path fill=\"none\" stroke=\"black\" d=\"M189,-439C223.7,-439 200.55,-501.49 232.99,-503.93\"/>\n<ellipse fill=\"black\" stroke=\"black\" cx=\"234\" cy=\"-503.96\" rx=\"1\" ry=\"1\"/>\n<text text-anchor=\"middle\" x=\"207.5\" y=\"-456\" font-family=\"Times,serif\" font-size=\"10.00\">2</text>\n</g>\n<!-- sigma_G0 -->\n<g id=\"node23\" class=\"node\">\n<title>sigma_G0</title>\n<text text-anchor=\"middle\" x=\"263\" y=\"-446.3\" font-family=\"Times,serif\" font-size=\"14.00\">sigma</text>\n</g>\n<!-- QubitizationQPE&#45;&gt;sigma_G0 -->\n<g id=\"edge22\" class=\"edge\">\n<title>QubitizationQPE:e-&gt;sigma_G0:w</title>\n<path fill=\"none\" stroke=\"black\" d=\"M189,-418C213.13,-418 210.31,-448.03 232.75,-449.91\"/>\n<ellipse fill=\"black\" stroke=\"black\" cx=\"234\" cy=\"-449.96\" rx=\"1\" ry=\"1\"/>\n<text text-anchor=\"middle\" x=\"207.5\" y=\"-430\" font-family=\"Times,serif\" font-size=\"10.00\">16</text>\n</g>\n<!-- alpha_G16 -->\n<g id=\"node24\" class=\"node\">\n<title>alpha_G16</title>\n<text text-anchor=\"middle\" x=\"263\" y=\"-392.3\" font-family=\"Times,serif\" font-size=\"14.00\">alpha</text>\n</g>\n<!-- QubitizationQPE&#45;&gt;alpha_G16 -->\n<g id=\"edge23\" class=\"edge\">\n<title>QubitizationQPE:e-&gt;alpha_G16:w</title>\n<path fill=\"none\" stroke=\"black\" d=\"M189,-396C208.65,-396 214.13,-396 232.67,-396\"/>\n<ellipse fill=\"black\" stroke=\"black\" cx=\"234\" cy=\"-396\" rx=\"1\" ry=\"1\"/>\n<text text-anchor=\"middle\" x=\"207.5\" y=\"-399\" font-family=\"Times,serif\" font-size=\"10.00\">1</text>\n</g>\n<!-- beta_G6 -->\n<g id=\"node25\" class=\"node\">\n<title>beta_G6</title>\n<text text-anchor=\"middle\" x=\"263\" y=\"-338.3\" font-family=\"Times,serif\" font-size=\"14.00\">beta</text>\n</g>\n<!-- QubitizationQPE&#45;&gt;beta_G6 -->\n<g id=\"edge24\" class=\"edge\">\n<title>QubitizationQPE:e-&gt;beta_G6:w</title>\n<path fill=\"none\" stroke=\"black\" d=\"M189,-375C213.47,-375 210.05,-343.78 233,-342.07\"/>\n<ellipse fill=\"black\" stroke=\"black\" cx=\"234\" cy=\"-342.04\" rx=\"1\" ry=\"1\"/>\n<text text-anchor=\"middle\" x=\"207.5\" y=\"-368\" font-family=\"Times,serif\" font-size=\"10.00\">1</text>\n</g>\n<!-- rot_aa_G36 -->\n<g id=\"node26\" class=\"node\">\n<title>rot_aa_G36</title>\n<text text-anchor=\"middle\" x=\"263\" y=\"-284.3\" font-family=\"Times,serif\" font-size=\"14.00\">rot_aa</text>\n</g>\n<!-- QubitizationQPE&#45;&gt;rot_aa_G36 -->\n<g id=\"edge25\" class=\"edge\">\n<title>QubitizationQPE:e-&gt;rot_aa_G36:w</title>\n<path fill=\"none\" stroke=\"black\" d=\"M189,-354C224.06,-354 200.22,-290.55 232.97,-288.07\"/>\n<ellipse fill=\"black\" stroke=\"black\" cx=\"234\" cy=\"-288.04\" rx=\"1\" ry=\"1\"/>\n<text text-anchor=\"middle\" x=\"207.5\" y=\"-344\" font-family=\"Times,serif\" font-size=\"10.00\">1</text>\n</g>\n<!-- swap_pq_G10 -->\n<g id=\"node27\" class=\"node\">\n<title>swap_pq_G10</title>\n<text text-anchor=\"middle\" x=\"263\" y=\"-230.3\" font-family=\"Times,serif\" font-size=\"14.00\">swap_pq</text>\n</g>\n<!-- QubitizationQPE&#45;&gt;swap_pq_G10 -->\n<g id=\"edge26\" class=\"edge\">\n<title>QubitizationQPE:e-&gt;swap_pq_G10:w</title>\n<path fill=\"none\" stroke=\"black\" d=\"M189,-333C235.71,-333 183.24,-237.07 226.85,-234.07\"/>\n<ellipse fill=\"black\" stroke=\"black\" cx=\"228\" cy=\"-234.03\" rx=\"1\" ry=\"1\"/>\n<text text-anchor=\"middle\" x=\"207.5\" y=\"-323\" font-family=\"Times,serif\" font-size=\"10.00\">1</text>\n</g>\n<!-- swap_rs_G28 -->\n<g id=\"node28\" class=\"node\">\n<title>swap_rs_G28</title>\n<text text-anchor=\"middle\" x=\"263\" y=\"-176.3\" font-family=\"Times,serif\" font-size=\"14.00\">swap_rs</text>\n</g>\n<!-- QubitizationQPE&#45;&gt;swap_rs_G28 -->\n<g id=\"edge27\" class=\"edge\">\n<title>QubitizationQPE:e-&gt;swap_rs_G28:w</title>\n<path fill=\"none\" stroke=\"black\" d=\"M189,-312C196.21,-312 220.05,-195.98 229.34,-181.48\"/>\n<ellipse fill=\"black\" stroke=\"black\" cx=\"230.26\" cy=\"-180.67\" rx=\"1\" ry=\"1\"/>\n<text text-anchor=\"middle\" x=\"207.5\" y=\"-256\" font-family=\"Times,serif\" font-size=\"10.00\">1</text>\n</g>\n<!-- swap_pqrs_G33 -->\n<g id=\"node29\" class=\"node\">\n<title>swap_pqrs_G33</title>\n<text text-anchor=\"middle\" x=\"263\" y=\"-122.3\" font-family=\"Times,serif\" font-size=\"14.00\">swap_pqrs</text>\n</g>\n<!-- QubitizationQPE&#45;&gt;swap_pqrs_G33 -->\n<g id=\"edge28\" class=\"edge\">\n<title>QubitizationQPE:e-&gt;swap_pqrs_G33:w</title>\n<path fill=\"none\" stroke=\"black\" d=\"M189,-291C225.84,-291 189.88,-132.38 223.88,-126.19\"/>\n<ellipse fill=\"black\" stroke=\"black\" cx=\"225\" cy=\"-126.09\" rx=\"1\" ry=\"1\"/>\n<text text-anchor=\"middle\" x=\"207.5\" y=\"-249\" font-family=\"Times,serif\" font-size=\"10.00\">1</text>\n</g>\n<!-- flag_1b_G42 -->\n<g id=\"node30\" class=\"node\">\n<title>flag_1b_G42</title>\n<text text-anchor=\"middle\" x=\"263\" y=\"-68.3\" font-family=\"Times,serif\" font-size=\"14.00\">flag_1b</text>\n</g>\n<!-- QubitizationQPE&#45;&gt;flag_1b_G42 -->\n<g id=\"edge29\" class=\"edge\">\n<title>QubitizationQPE:e-&gt;flag_1b_G42:w</title>\n<path fill=\"none\" stroke=\"black\" d=\"M189,-270C212.45,-270 201.87,-188.89 207,-166 216.3,-124.53 190.69,-74.02 230.54,-72.06\"/>\n<ellipse fill=\"black\" stroke=\"black\" cx=\"232\" cy=\"-72.02\" rx=\"1\" ry=\"1\"/>\n<text text-anchor=\"middle\" x=\"207.5\" y=\"-169\" font-family=\"Times,serif\" font-size=\"10.00\">1</text>\n</g>\n<!-- sys_G14 -->\n<g id=\"node31\" class=\"node\">\n<title>sys_G14</title>\n<text text-anchor=\"middle\" x=\"263\" y=\"-14.3\" font-family=\"Times,serif\" font-size=\"14.00\">sys</text>\n</g>\n<!-- QubitizationQPE&#45;&gt;sys_G14 -->\n<g id=\"edge30\" class=\"edge\">\n<title>QubitizationQPE:e-&gt;sys_G14:w</title>\n<path fill=\"none\" stroke=\"black\" d=\"M189,-249C207,-249 202.62,-105.46 207,-88 214.97,-56.26 202.12,-19.76 232.72,-18.06\"/>\n<ellipse fill=\"black\" stroke=\"black\" cx=\"234\" cy=\"-18.03\" rx=\"1\" ry=\"1\"/>\n<text text-anchor=\"middle\" x=\"207.5\" y=\"-91\" font-family=\"Times,serif\" font-size=\"10.00\">6</text>\n</g>\n</g>\n</svg>",
          "text/plain": "<IPython.core.display.SVG object>"
         },
         "metadata": {},
         "output_type": "display_data"
        }
       ],
       "tabbable": null,
       "tooltip": null
      }
     },
     "88c29d39bfab4deabadc6fe6db11f46d": {
      "model_module": "@jupyter-widgets/base",
      "model_module_version": "2.0.0",
      "model_name": "LayoutModel",
      "state": {
       "_model_module": "@jupyter-widgets/base",
       "_model_module_version": "2.0.0",
       "_model_name": "LayoutModel",
       "_view_count": null,
       "_view_module": "@jupyter-widgets/base",
       "_view_module_version": "2.0.0",
       "_view_name": "LayoutView",
       "align_content": null,
       "align_items": null,
       "align_self": null,
       "border_bottom": null,
       "border_left": null,
       "border_right": null,
       "border_top": null,
       "bottom": null,
       "display": null,
       "flex": null,
       "flex_flow": null,
       "grid_area": null,
       "grid_auto_columns": null,
       "grid_auto_flow": null,
       "grid_auto_rows": null,
       "grid_column": null,
       "grid_gap": null,
       "grid_row": null,
       "grid_template_areas": null,
       "grid_template_columns": null,
       "grid_template_rows": null,
       "height": null,
       "justify_content": null,
       "justify_items": null,
       "left": null,
       "margin": null,
       "max_height": null,
       "max_width": null,
       "min_height": null,
       "min_width": null,
       "object_fit": null,
       "object_position": null,
       "order": null,
       "overflow": null,
       "padding": null,
       "right": null,
       "top": null,
       "visibility": null,
       "width": null
      }
     },
     "97ae3705f42b4b4789efa00f71ce9f4e": {
      "model_module": "@jupyter-widgets/controls",
      "model_module_version": "2.0.0",
      "model_name": "HBoxModel",
      "state": {
       "_dom_classes": [],
       "_model_module": "@jupyter-widgets/controls",
       "_model_module_version": "2.0.0",
       "_model_name": "HBoxModel",
       "_view_count": null,
       "_view_module": "@jupyter-widgets/controls",
       "_view_module_version": "2.0.0",
       "_view_name": "HBoxView",
       "box_style": "",
       "children": [
        "IPY_MODEL_b2e4039c80a34e7994b82275167a1aee",
        "IPY_MODEL_544f30ff6ed146778551de8b68f24fef",
        "IPY_MODEL_47f6bd48ea1d4d54a13a982482800178"
       ],
       "layout": "IPY_MODEL_88c29d39bfab4deabadc6fe6db11f46d",
       "tabbable": null,
       "tooltip": null
      }
     },
     "b2e4039c80a34e7994b82275167a1aee": {
      "model_module": "@jupyter-widgets/output",
      "model_module_version": "1.0.0",
      "model_name": "OutputModel",
      "state": {
       "_dom_classes": [],
       "_model_module": "@jupyter-widgets/output",
       "_model_module_version": "1.0.0",
       "_model_name": "OutputModel",
       "_view_count": null,
       "_view_module": "@jupyter-widgets/output",
       "_view_module_version": "1.0.0",
       "_view_name": "OutputView",
       "layout": "IPY_MODEL_323177a507da4af2ba26e995538f79db",
       "msg_id": "",
       "outputs": [
        {
         "data": {
          "text/markdown": "`qubitization_qpe_hubbard_model_small`",
          "text/plain": "<IPython.core.display.Markdown object>"
         },
         "metadata": {},
         "output_type": "display_data"
        },
        {
         "data": {
          "image/svg+xml": "<svg xmlns=\"http://www.w3.org/2000/svg\" xmlns:xlink=\"http://www.w3.org/1999/xlink\" width=\"280pt\" height=\"530pt\" viewBox=\"0.00 0.00 280.00 530.00\">\n<g id=\"graph0\" class=\"graph\" transform=\"scale(1 1) rotate(0) translate(4 526)\">\n<title>my_graph</title>\n<polygon fill=\"white\" stroke=\"transparent\" points=\"-4,4 -4,-526 276,-526 276,4 -4,4\"/>\n<!-- qpe_reg_G7 -->\n<g id=\"node1\" class=\"node\">\n<title>qpe_reg_G7</title>\n<text text-anchor=\"middle\" x=\"30\" y=\"-500.3\" font-family=\"Times,serif\" font-size=\"14.00\">qpe_reg</text>\n</g>\n<!-- QubitizationQPE -->\n<g id=\"node11\" class=\"node\">\n<title>QubitizationQPE</title>\n<polygon fill=\"none\" stroke=\"black\" points=\"97,-366 97,-383 175,-383 175,-366 97,-366\"/>\n<text text-anchor=\"start\" x=\"100\" y=\"-372\" font-family=\"Times,serif\" font-size=\"10.00\">QubitizationQPE</text>\n<polygon fill=\"none\" stroke=\"black\" points=\"97,-345 97,-366 175,-366 175,-345 97,-345\"/>\n<text text-anchor=\"start\" x=\"114\" y=\"-351.8\" font-family=\"Times,serif\" font-size=\"14.00\">qpe_reg</text>\n<polygon fill=\"none\" stroke=\"black\" points=\"97,-324 97,-345 175,-345 175,-324 97,-324\"/>\n<text text-anchor=\"start\" x=\"131\" y=\"-330.8\" font-family=\"Times,serif\" font-size=\"14.00\">U</text>\n<polygon fill=\"none\" stroke=\"black\" points=\"97,-303 97,-324 175,-324 175,-303 97,-303\"/>\n<text text-anchor=\"start\" x=\"131\" y=\"-309.8\" font-family=\"Times,serif\" font-size=\"14.00\">V</text>\n<polygon fill=\"none\" stroke=\"black\" points=\"97,-282 97,-303 175,-303 175,-282 97,-282\"/>\n<text text-anchor=\"start\" x=\"125.5\" y=\"-288.8\" font-family=\"Times,serif\" font-size=\"14.00\">p_x</text>\n<polygon fill=\"none\" stroke=\"black\" points=\"97,-261 97,-282 175,-282 175,-261 97,-261\"/>\n<text text-anchor=\"start\" x=\"125.5\" y=\"-267.8\" font-family=\"Times,serif\" font-size=\"14.00\">p_y</text>\n<polygon fill=\"none\" stroke=\"black\" points=\"97,-240 97,-261 175,-261 175,-240 97,-240\"/>\n<text text-anchor=\"start\" x=\"121\" y=\"-246.8\" font-family=\"Times,serif\" font-size=\"14.00\">alpha</text>\n<polygon fill=\"none\" stroke=\"black\" points=\"97,-219 97,-240 175,-240 175,-219 97,-219\"/>\n<text text-anchor=\"start\" x=\"125.5\" y=\"-225.8\" font-family=\"Times,serif\" font-size=\"14.00\">q_x</text>\n<polygon fill=\"none\" stroke=\"black\" points=\"97,-198 97,-219 175,-219 175,-198 97,-198\"/>\n<text text-anchor=\"start\" x=\"125.5\" y=\"-204.8\" font-family=\"Times,serif\" font-size=\"14.00\">q_y</text>\n<polygon fill=\"none\" stroke=\"black\" points=\"97,-177 97,-198 175,-198 175,-177 97,-177\"/>\n<text text-anchor=\"start\" x=\"124.5\" y=\"-183.8\" font-family=\"Times,serif\" font-size=\"14.00\">beta</text>\n<polygon fill=\"none\" stroke=\"black\" points=\"97,-156 97,-177 175,-177 175,-156 97,-156\"/>\n<text text-anchor=\"start\" x=\"120.5\" y=\"-162.8\" font-family=\"Times,serif\" font-size=\"14.00\">target</text>\n</g>\n<!-- qpe_reg_G7&#45;&gt;QubitizationQPE -->\n<g id=\"edge1\" class=\"edge\">\n<title>qpe_reg_G7:e-&gt;QubitizationQPE:w</title>\n<path fill=\"none\" stroke=\"black\" d=\"M60,-504C89.67,-504 71.66,-468.75 79,-440 83.54,-422.22 78.35,-361.05 94.87,-356.29\"/>\n<ellipse fill=\"black\" stroke=\"black\" cx=\"96.01\" cy=\"-356.14\" rx=\"1\" ry=\"1\"/>\n<text text-anchor=\"middle\" x=\"78.5\" y=\"-446\" font-family=\"Times,serif\" font-size=\"10.00\">14</text>\n</g>\n<!-- U_G15 -->\n<g id=\"node2\" class=\"node\">\n<title>U_G15</title>\n<text text-anchor=\"middle\" x=\"30\" y=\"-446.3\" font-family=\"Times,serif\" font-size=\"14.00\">U</text>\n</g>\n<!-- U_G15&#45;&gt;QubitizationQPE -->\n<g id=\"edge2\" class=\"edge\">\n<title>U_G15:e-&gt;QubitizationQPE:w</title>\n<path fill=\"none\" stroke=\"black\" d=\"M58,-450C111.23,-450 44.89,-338.12 94.85,-335.06\"/>\n<ellipse fill=\"black\" stroke=\"black\" cx=\"96\" cy=\"-335.03\" rx=\"1\" ry=\"1\"/>\n<text text-anchor=\"middle\" x=\"78.5\" y=\"-438\" font-family=\"Times,serif\" font-size=\"10.00\">1</text>\n</g>\n<!-- V_G5 -->\n<g id=\"node3\" class=\"node\">\n<title>V_G5</title>\n<text text-anchor=\"middle\" x=\"30\" y=\"-392.3\" font-family=\"Times,serif\" font-size=\"14.00\">V</text>\n</g>\n<!-- V_G5&#45;&gt;QubitizationQPE -->\n<g id=\"edge3\" class=\"edge\">\n<title>V_G5:e-&gt;QubitizationQPE:w</title>\n<path fill=\"none\" stroke=\"black\" d=\"M58,-396C97.57,-396 58.24,-317.17 94.73,-314.09\"/>\n<ellipse fill=\"black\" stroke=\"black\" cx=\"96\" cy=\"-314.04\" rx=\"1\" ry=\"1\"/>\n<text text-anchor=\"middle\" x=\"78.5\" y=\"-336\" font-family=\"Times,serif\" font-size=\"10.00\">1</text>\n</g>\n<!-- p_x_G20 -->\n<g id=\"node4\" class=\"node\">\n<title>p_x_G20</title>\n<text text-anchor=\"middle\" x=\"30\" y=\"-338.3\" font-family=\"Times,serif\" font-size=\"14.00\">p_x</text>\n</g>\n<!-- p_x_G20&#45;&gt;QubitizationQPE -->\n<g id=\"edge4\" class=\"edge\">\n<title>p_x_G20:e-&gt;QubitizationQPE:w</title>\n<path fill=\"none\" stroke=\"black\" d=\"M58,-342C85.07,-342 70.04,-295.64 94.81,-293.11\"/>\n<ellipse fill=\"black\" stroke=\"black\" cx=\"96\" cy=\"-293.05\" rx=\"1\" ry=\"1\"/>\n<text text-anchor=\"middle\" x=\"78.5\" y=\"-317\" font-family=\"Times,serif\" font-size=\"10.00\">1</text>\n</g>\n<!-- p_y_G13 -->\n<g id=\"node5\" class=\"node\">\n<title>p_y_G13</title>\n<text text-anchor=\"middle\" x=\"30\" y=\"-284.3\" font-family=\"Times,serif\" font-size=\"14.00\">p_y</text>\n</g>\n<!-- p_y_G13&#45;&gt;QubitizationQPE -->\n<g id=\"edge5\" class=\"edge\">\n<title>p_y_G13:e-&gt;QubitizationQPE:w</title>\n<path fill=\"none\" stroke=\"black\" d=\"M58,-288C76,-288 78.12,-273.23 94.88,-272.07\"/>\n<ellipse fill=\"black\" stroke=\"black\" cx=\"96\" cy=\"-272.03\" rx=\"1\" ry=\"1\"/>\n<text text-anchor=\"middle\" x=\"78.5\" y=\"-282\" font-family=\"Times,serif\" font-size=\"10.00\">1</text>\n</g>\n<!-- alpha_G4 -->\n<g id=\"node6\" class=\"node\">\n<title>alpha_G4</title>\n<text text-anchor=\"middle\" x=\"30\" y=\"-230.3\" font-family=\"Times,serif\" font-size=\"14.00\">alpha</text>\n</g>\n<!-- alpha_G4&#45;&gt;QubitizationQPE -->\n<g id=\"edge6\" class=\"edge\">\n<title>alpha_G4:e-&gt;QubitizationQPE:w</title>\n<path fill=\"none\" stroke=\"black\" d=\"M58,-234C76,-234 78.12,-248.77 94.88,-249.93\"/>\n<ellipse fill=\"black\" stroke=\"black\" cx=\"96\" cy=\"-249.97\" rx=\"1\" ry=\"1\"/>\n<text text-anchor=\"middle\" x=\"78.5\" y=\"-245\" font-family=\"Times,serif\" font-size=\"10.00\">1</text>\n</g>\n<!-- q_x_G25 -->\n<g id=\"node7\" class=\"node\">\n<title>q_x_G25</title>\n<text text-anchor=\"middle\" x=\"30\" y=\"-176.3\" font-family=\"Times,serif\" font-size=\"14.00\">q_x</text>\n</g>\n<!-- q_x_G25&#45;&gt;QubitizationQPE -->\n<g id=\"edge7\" class=\"edge\">\n<title>q_x_G25:e-&gt;QubitizationQPE:w</title>\n<path fill=\"none\" stroke=\"black\" d=\"M58,-180C85.07,-180 70.04,-226.36 94.81,-228.89\"/>\n<ellipse fill=\"black\" stroke=\"black\" cx=\"96\" cy=\"-228.95\" rx=\"1\" ry=\"1\"/>\n<text text-anchor=\"middle\" x=\"78.5\" y=\"-213\" font-family=\"Times,serif\" font-size=\"10.00\">1</text>\n</g>\n<!-- q_y_G28 -->\n<g id=\"node8\" class=\"node\">\n<title>q_y_G28</title>\n<text text-anchor=\"middle\" x=\"30\" y=\"-122.3\" font-family=\"Times,serif\" font-size=\"14.00\">q_y</text>\n</g>\n<!-- q_y_G28&#45;&gt;QubitizationQPE -->\n<g id=\"edge8\" class=\"edge\">\n<title>q_y_G28:e-&gt;QubitizationQPE:w</title>\n<path fill=\"none\" stroke=\"black\" d=\"M58,-126C97.57,-126 58.24,-204.83 94.73,-207.91\"/>\n<ellipse fill=\"black\" stroke=\"black\" cx=\"96\" cy=\"-207.96\" rx=\"1\" ry=\"1\"/>\n<text text-anchor=\"middle\" x=\"78.5\" y=\"-195\" font-family=\"Times,serif\" font-size=\"10.00\">1</text>\n</g>\n<!-- beta_G8 -->\n<g id=\"node9\" class=\"node\">\n<title>beta_G8</title>\n<text text-anchor=\"middle\" x=\"30\" y=\"-68.3\" font-family=\"Times,serif\" font-size=\"14.00\">beta</text>\n</g>\n<!-- beta_G8&#45;&gt;QubitizationQPE -->\n<g id=\"edge9\" class=\"edge\">\n<title>beta_G8:e-&gt;QubitizationQPE:w</title>\n<path fill=\"none\" stroke=\"black\" d=\"M58,-72C111.23,-72 44.89,-183.88 94.85,-186.94\"/>\n<ellipse fill=\"black\" stroke=\"black\" cx=\"96\" cy=\"-186.97\" rx=\"1\" ry=\"1\"/>\n<text text-anchor=\"middle\" x=\"78.5\" y=\"-180\" font-family=\"Times,serif\" font-size=\"10.00\">1</text>\n</g>\n<!-- target_G16 -->\n<g id=\"node10\" class=\"node\">\n<title>target_G16</title>\n<text text-anchor=\"middle\" x=\"30\" y=\"-14.3\" font-family=\"Times,serif\" font-size=\"14.00\">target</text>\n</g>\n<!-- target_G16&#45;&gt;QubitizationQPE -->\n<g id=\"edge10\" class=\"edge\">\n<title>target_G16:e-&gt;QubitizationQPE:w</title>\n<path fill=\"none\" stroke=\"black\" d=\"M58,-18C87.94,-18 71.19,-53.1 79,-82 83.79,-99.71 78.37,-160.95 94.88,-165.71\"/>\n<ellipse fill=\"black\" stroke=\"black\" cx=\"96.01\" cy=\"-165.86\" rx=\"1\" ry=\"1\"/>\n<text text-anchor=\"middle\" x=\"78.5\" y=\"-85\" font-family=\"Times,serif\" font-size=\"10.00\">8</text>\n</g>\n<!-- qpe_reg_G3 -->\n<g id=\"node12\" class=\"node\">\n<title>qpe_reg_G3</title>\n<text text-anchor=\"middle\" x=\"242\" y=\"-500.3\" font-family=\"Times,serif\" font-size=\"14.00\">qpe_reg</text>\n</g>\n<!-- QubitizationQPE&#45;&gt;qpe_reg_G3 -->\n<g id=\"edge11\" class=\"edge\">\n<title>QubitizationQPE:e-&gt;qpe_reg_G3:w</title>\n<path fill=\"none\" stroke=\"black\" d=\"M175,-356C194.09,-356 188.28,-421.5 193,-440 200.16,-468.08 183.16,-502.35 209.99,-503.94\"/>\n<ellipse fill=\"black\" stroke=\"black\" cx=\"211\" cy=\"-503.97\" rx=\"1\" ry=\"1\"/>\n<text text-anchor=\"middle\" x=\"193.5\" y=\"-446\" font-family=\"Times,serif\" font-size=\"10.00\">14</text>\n</g>\n<!-- U_G11 -->\n<g id=\"node13\" class=\"node\">\n<title>U_G11</title>\n<text text-anchor=\"middle\" x=\"242\" y=\"-446.3\" font-family=\"Times,serif\" font-size=\"14.00\">U</text>\n</g>\n<!-- QubitizationQPE&#45;&gt;U_G11 -->\n<g id=\"edge12\" class=\"edge\">\n<title>QubitizationQPE:e-&gt;U_G11:w</title>\n<path fill=\"none\" stroke=\"black\" d=\"M175,-335C228.23,-335 161.89,-446.88 211.85,-449.94\"/>\n<ellipse fill=\"black\" stroke=\"black\" cx=\"213\" cy=\"-449.97\" rx=\"1\" ry=\"1\"/>\n<text text-anchor=\"middle\" x=\"193.5\" y=\"-438\" font-family=\"Times,serif\" font-size=\"10.00\">1</text>\n</g>\n<!-- V_G1 -->\n<g id=\"node14\" class=\"node\">\n<title>V_G1</title>\n<text text-anchor=\"middle\" x=\"242\" y=\"-392.3\" font-family=\"Times,serif\" font-size=\"14.00\">V</text>\n</g>\n<!-- QubitizationQPE&#45;&gt;V_G1 -->\n<g id=\"edge13\" class=\"edge\">\n<title>QubitizationQPE:e-&gt;V_G1:w</title>\n<path fill=\"none\" stroke=\"black\" d=\"M175,-314C214.57,-314 175.24,-392.83 211.73,-395.91\"/>\n<ellipse fill=\"black\" stroke=\"black\" cx=\"213\" cy=\"-395.96\" rx=\"1\" ry=\"1\"/>\n<text text-anchor=\"middle\" x=\"193.5\" y=\"-336\" font-family=\"Times,serif\" font-size=\"10.00\">1</text>\n</g>\n<!-- p_x_G18 -->\n<g id=\"node15\" class=\"node\">\n<title>p_x_G18</title>\n<text text-anchor=\"middle\" x=\"242\" y=\"-338.3\" font-family=\"Times,serif\" font-size=\"14.00\">p_x</text>\n</g>\n<!-- QubitizationQPE&#45;&gt;p_x_G18 -->\n<g id=\"edge14\" class=\"edge\">\n<title>QubitizationQPE:e-&gt;p_x_G18:w</title>\n<path fill=\"none\" stroke=\"black\" d=\"M175,-293C202.07,-293 187.04,-339.36 211.81,-341.89\"/>\n<ellipse fill=\"black\" stroke=\"black\" cx=\"213\" cy=\"-341.95\" rx=\"1\" ry=\"1\"/>\n<text text-anchor=\"middle\" x=\"193.5\" y=\"-317\" font-family=\"Times,serif\" font-size=\"10.00\">1</text>\n</g>\n<!-- p_y_G10 -->\n<g id=\"node16\" class=\"node\">\n<title>p_y_G10</title>\n<text text-anchor=\"middle\" x=\"242\" y=\"-284.3\" font-family=\"Times,serif\" font-size=\"14.00\">p_y</text>\n</g>\n<!-- QubitizationQPE&#45;&gt;p_y_G10 -->\n<g id=\"edge15\" class=\"edge\">\n<title>QubitizationQPE:e-&gt;p_y_G10:w</title>\n<path fill=\"none\" stroke=\"black\" d=\"M175,-272C193,-272 195.12,-286.77 211.88,-287.93\"/>\n<ellipse fill=\"black\" stroke=\"black\" cx=\"213\" cy=\"-287.97\" rx=\"1\" ry=\"1\"/>\n<text text-anchor=\"middle\" x=\"193.5\" y=\"-282\" font-family=\"Times,serif\" font-size=\"10.00\">1</text>\n</g>\n<!-- alpha_G19 -->\n<g id=\"node17\" class=\"node\">\n<title>alpha_G19</title>\n<text text-anchor=\"middle\" x=\"242\" y=\"-230.3\" font-family=\"Times,serif\" font-size=\"14.00\">alpha</text>\n</g>\n<!-- QubitizationQPE&#45;&gt;alpha_G19 -->\n<g id=\"edge16\" class=\"edge\">\n<title>QubitizationQPE:e-&gt;alpha_G19:w</title>\n<path fill=\"none\" stroke=\"black\" d=\"M175,-250C193,-250 195.12,-235.23 211.88,-234.07\"/>\n<ellipse fill=\"black\" stroke=\"black\" cx=\"213\" cy=\"-234.03\" rx=\"1\" ry=\"1\"/>\n<text text-anchor=\"middle\" x=\"193.5\" y=\"-245\" font-family=\"Times,serif\" font-size=\"10.00\">1</text>\n</g>\n<!-- q_x_G23 -->\n<g id=\"node18\" class=\"node\">\n<title>q_x_G23</title>\n<text text-anchor=\"middle\" x=\"242\" y=\"-176.3\" font-family=\"Times,serif\" font-size=\"14.00\">q_x</text>\n</g>\n<!-- QubitizationQPE&#45;&gt;q_x_G23 -->\n<g id=\"edge17\" class=\"edge\">\n<title>QubitizationQPE:e-&gt;q_x_G23:w</title>\n<path fill=\"none\" stroke=\"black\" d=\"M175,-229C202.07,-229 187.04,-182.64 211.81,-180.11\"/>\n<ellipse fill=\"black\" stroke=\"black\" cx=\"213\" cy=\"-180.05\" rx=\"1\" ry=\"1\"/>\n<text text-anchor=\"middle\" x=\"193.5\" y=\"-213\" font-family=\"Times,serif\" font-size=\"10.00\">1</text>\n</g>\n<!-- q_y_G26 -->\n<g id=\"node19\" class=\"node\">\n<title>q_y_G26</title>\n<text text-anchor=\"middle\" x=\"242\" y=\"-122.3\" font-family=\"Times,serif\" font-size=\"14.00\">q_y</text>\n</g>\n<!-- QubitizationQPE&#45;&gt;q_y_G26 -->\n<g id=\"edge18\" class=\"edge\">\n<title>QubitizationQPE:e-&gt;q_y_G26:w</title>\n<path fill=\"none\" stroke=\"black\" d=\"M175,-208C214.57,-208 175.24,-129.17 211.73,-126.09\"/>\n<ellipse fill=\"black\" stroke=\"black\" cx=\"213\" cy=\"-126.04\" rx=\"1\" ry=\"1\"/>\n<text text-anchor=\"middle\" x=\"193.5\" y=\"-195\" font-family=\"Times,serif\" font-size=\"10.00\">1</text>\n</g>\n<!-- beta_G6 -->\n<g id=\"node20\" class=\"node\">\n<title>beta_G6</title>\n<text text-anchor=\"middle\" x=\"242\" y=\"-68.3\" font-family=\"Times,serif\" font-size=\"14.00\">beta</text>\n</g>\n<!-- QubitizationQPE&#45;&gt;beta_G6 -->\n<g id=\"edge19\" class=\"edge\">\n<title>QubitizationQPE:e-&gt;beta_G6:w</title>\n<path fill=\"none\" stroke=\"black\" d=\"M175,-187C228.23,-187 161.89,-75.12 211.85,-72.06\"/>\n<ellipse fill=\"black\" stroke=\"black\" cx=\"213\" cy=\"-72.03\" rx=\"1\" ry=\"1\"/>\n<text text-anchor=\"middle\" x=\"193.5\" y=\"-180\" font-family=\"Times,serif\" font-size=\"10.00\">1</text>\n</g>\n<!-- target_G14 -->\n<g id=\"node21\" class=\"node\">\n<title>target_G14</title>\n<text text-anchor=\"middle\" x=\"242\" y=\"-14.3\" font-family=\"Times,serif\" font-size=\"14.00\">target</text>\n</g>\n<!-- QubitizationQPE&#45;&gt;target_G14 -->\n<g id=\"edge20\" class=\"edge\">\n<title>QubitizationQPE:e-&gt;target_G14:w</title>\n<path fill=\"none\" stroke=\"black\" d=\"M175,-166C194.09,-166 188.02,-100.43 193,-82 200.63,-53.78 184.84,-19.64 211.97,-18.06\"/>\n<ellipse fill=\"black\" stroke=\"black\" cx=\"213\" cy=\"-18.03\" rx=\"1\" ry=\"1\"/>\n<text text-anchor=\"middle\" x=\"193.5\" y=\"-85\" font-family=\"Times,serif\" font-size=\"10.00\">8</text>\n</g>\n</g>\n</svg>",
          "text/plain": "<IPython.core.display.SVG object>"
         },
         "metadata": {},
         "output_type": "display_data"
        }
       ],
       "tabbable": null,
       "tooltip": null
      }
     },
     "d374e37c4e4c4829bd09d7afe935e9ce": {
      "model_module": "@jupyter-widgets/base",
      "model_module_version": "2.0.0",
      "model_name": "LayoutModel",
      "state": {
       "_model_module": "@jupyter-widgets/base",
       "_model_module_version": "2.0.0",
       "_model_name": "LayoutModel",
       "_view_count": null,
       "_view_module": "@jupyter-widgets/base",
       "_view_module_version": "2.0.0",
       "_view_name": "LayoutView",
       "align_content": null,
       "align_items": null,
       "align_self": null,
       "border_bottom": null,
       "border_left": null,
       "border_right": null,
       "border_top": null,
       "bottom": null,
       "display": null,
       "flex": null,
       "flex_flow": null,
       "grid_area": null,
       "grid_auto_columns": null,
       "grid_auto_flow": null,
       "grid_auto_rows": null,
       "grid_column": null,
       "grid_gap": null,
       "grid_row": null,
       "grid_template_areas": null,
       "grid_template_columns": null,
       "grid_template_rows": null,
       "height": null,
       "justify_content": null,
       "justify_items": null,
       "left": null,
       "margin": null,
       "max_height": null,
       "max_width": null,
       "min_height": null,
       "min_width": null,
       "object_fit": null,
       "object_position": null,
       "order": null,
       "overflow": null,
       "padding": null,
       "right": null,
       "top": null,
       "visibility": null,
       "width": null
      }
     }
    },
    "version_major": 2,
    "version_minor": 0
   }
  }
 },
 "nbformat": 4,
 "nbformat_minor": 5
}
