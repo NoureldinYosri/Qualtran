{
 "cells": [
  {
   "cell_type": "markdown",
   "id": "0fe14f49",
   "metadata": {
    "cq.autogen": "title_cell"
   },
   "source": [
    "# And\n",
    "\n",
    "Bloqs for doing \"AND\" logical operations.\n",
    "\n",
    "The behavior is modified by the 'control variable' attributes. A traditional value of '1'\n",
    "means that a bit value of '1' is logical true for the and operation. A control value of\n",
    "'0' means that a bit value of '0' is the logical true.\n",
    "\n",
    "The `Toffoli` bloq is similar to the `And` bloq. Toffoli will flip the target bit according\n",
    "to the and of its control registers. `And` will output the result into a fresh register."
   ]
  },
  {
   "cell_type": "code",
   "execution_count": 1,
   "id": "47e0d2c9",
   "metadata": {
    "cq.autogen": "top_imports"
   },
   "outputs": [],
   "source": [
    "from qualtran import Bloq, CompositeBloq, BloqBuilder, Signature, Register\n",
    "from qualtran.drawing import show_bloq, show_call_graph, show_counts_sigma\n",
    "from typing import *\n",
    "import numpy as np\n",
    "import sympy\n",
    "import cirq"
   ]
  },
  {
   "cell_type": "markdown",
   "id": "dd63e8be",
   "metadata": {
    "cq.autogen": "And.bloq_doc.md"
   },
   "source": [
    "## `And`\n",
    "A two-bit 'and' operation optimized for T-count.\n",
    "\n",
    "#### Parameters\n",
    " - `cv1`: Whether the first bit is a positive control.\n",
    " - `cv2`: Whether the second bit is a positive control. \n",
    "\n",
    "#### Registers\n",
    " - `ctrl`: A two-bit control register.\n",
    " - `target [right]`: The output bit. \n",
    "\n",
    "#### References\n",
    "- [Encoding Electronic Spectra in Quantum Circuits with Linear T Complexity](https://arxiv.org/abs/1805.03662).\n",
    "       Babbush et. al. 2018. Section III.A. and Fig. 4.\n",
    "- [Verifying Measurement Based Uncomputation](https://algassert.com/post/1903). Gidney, C. 2019.\n"
   ]
  },
  {
   "cell_type": "code",
   "execution_count": 2,
   "id": "4c4ec376",
   "metadata": {
    "cq.autogen": "And.bloq_doc.py"
   },
   "outputs": [],
   "source": [
    "from qualtran.bloqs.and_bloq import And"
   ]
  },
  {
   "cell_type": "markdown",
   "id": "797e03e0",
   "metadata": {
    "cq.autogen": "And.example_instances.md"
   },
   "source": [
    "### Example Instances"
   ]
  },
  {
   "cell_type": "code",
   "execution_count": 3,
   "id": "222e5c17",
   "metadata": {
    "cq.autogen": "And.and_bloq"
   },
   "outputs": [],
   "source": [
    "and_bloq = And()"
   ]
  },
  {
   "cell_type": "markdown",
   "id": "83ee1466",
   "metadata": {
    "cq.autogen": "And.graphical_signature.md"
   },
   "source": [
    "#### Graphical Signature"
   ]
  },
  {
   "cell_type": "code",
   "execution_count": 4,
   "id": "099456c6",
   "metadata": {
    "cq.autogen": "And.graphical_signature.py"
   },
   "outputs": [
    {
     "data": {
      "application/vnd.jupyter.widget-view+json": {
       "model_id": "0ee83471d7f34d539b9fbb7325f3173e",
       "version_major": 2,
       "version_minor": 0
      },
      "text/plain": [
       "HBox(children=(Output(outputs=({'output_type': 'display_data', 'data': {'text/plain': '<IPython.core.display.M…"
      ]
     },
     "metadata": {},
     "output_type": "display_data"
    }
   ],
   "source": [
    "from qualtran.drawing import show_bloqs\n",
    "show_bloqs([and_bloq],\n",
    "           ['`and_bloq`'])"
   ]
  },
  {
   "cell_type": "markdown",
   "id": "589f32bb",
   "metadata": {
    "cq.autogen": "And.call_graph.md"
   },
   "source": [
    "### Call Graph"
   ]
  },
  {
   "cell_type": "code",
   "execution_count": 5,
   "id": "3da10012",
   "metadata": {
    "cq.autogen": "And.call_graph.py"
   },
   "outputs": [
    {
     "data": {
      "image/svg+xml": [
       "<svg xmlns=\"http://www.w3.org/2000/svg\" xmlns:xlink=\"http://www.w3.org/1999/xlink\" width=\"250pt\" height=\"131pt\" viewBox=\"0.00 0.00 249.50 131.00\">\n",
       "<g id=\"graph0\" class=\"graph\" transform=\"scale(1 1) rotate(0) translate(4 127)\">\n",
       "<title>counts</title>\n",
       "<polygon fill=\"white\" stroke=\"transparent\" points=\"-4,4 -4,-127 245.5,-127 245.5,4 -4,4\"/>\n",
       "<!-- b0 -->\n",
       "<g id=\"node1\" class=\"node\">\n",
       "<title>b0</title>\n",
       "<polygon fill=\"none\" stroke=\"black\" points=\"215.5,-123 24.5,-123 24.5,-87 215.5,-87 215.5,-123\"/>\n",
       "<text text-anchor=\"start\" x=\"108\" y=\"-106.8\" font-family=\"Times,serif\" font-size=\"14.00\">And</text>\n",
       "<text text-anchor=\"start\" x=\"32.5\" y=\"-96\" font-family=\"monospace\" font-size=\"10.00\">cv1=1, cv2=1, uncompute=False</text>\n",
       "</g>\n",
       "<!-- b1 -->\n",
       "<g id=\"node2\" class=\"node\">\n",
       "<title>b1</title>\n",
       "<polygon fill=\"none\" stroke=\"black\" points=\"110,-36 0,-36 0,0 110,0 110,-36\"/>\n",
       "<text text-anchor=\"start\" x=\"8\" y=\"-19.8\" font-family=\"Times,serif\" font-size=\"14.00\">ArbitraryClifford</text>\n",
       "<text text-anchor=\"start\" x=\"45.5\" y=\"-9\" font-family=\"monospace\" font-size=\"10.00\">n=2</text>\n",
       "</g>\n",
       "<!-- b0&#45;&gt;b1 -->\n",
       "<g id=\"edge1\" class=\"edge\">\n",
       "<title>b0-&gt;b1</title>\n",
       "<path fill=\"none\" stroke=\"black\" d=\"M106.85,-86.8C97.51,-74.59 84.82,-57.99 74.33,-44.28\"/>\n",
       "<polygon fill=\"black\" stroke=\"black\" points=\"76.99,-41.99 68.13,-36.18 71.43,-46.25 76.99,-41.99\"/>\n",
       "<text text-anchor=\"middle\" x=\"95.5\" y=\"-57.8\" font-family=\"Times,serif\" font-size=\"14.00\">9</text>\n",
       "</g>\n",
       "<!-- b2 -->\n",
       "<g id=\"node3\" class=\"node\">\n",
       "<title>b2</title>\n",
       "<polygon fill=\"none\" stroke=\"black\" points=\"241.5,-36 128.5,-36 128.5,0 241.5,0 241.5,-36\"/>\n",
       "<text text-anchor=\"start\" x=\"180.5\" y=\"-19.8\" font-family=\"Times,serif\" font-size=\"14.00\">T</text>\n",
       "<text text-anchor=\"start\" x=\"136.5\" y=\"-9\" font-family=\"monospace\" font-size=\"10.00\">is_adjoint=False</text>\n",
       "</g>\n",
       "<!-- b0&#45;&gt;b2 -->\n",
       "<g id=\"edge2\" class=\"edge\">\n",
       "<title>b0-&gt;b2</title>\n",
       "<path fill=\"none\" stroke=\"black\" d=\"M133.15,-86.8C142.49,-74.59 155.18,-57.99 165.67,-44.28\"/>\n",
       "<polygon fill=\"black\" stroke=\"black\" points=\"168.57,-46.25 171.87,-36.18 163.01,-41.99 168.57,-46.25\"/>\n",
       "<text text-anchor=\"middle\" x=\"159.5\" y=\"-57.8\" font-family=\"Times,serif\" font-size=\"14.00\">4</text>\n",
       "</g>\n",
       "</g>\n",
       "</svg>"
      ],
      "text/plain": [
       "<IPython.core.display.SVG object>"
      ]
     },
     "metadata": {},
     "output_type": "display_data"
    },
    {
     "data": {
      "text/markdown": [
       "#### Counts totals:\n",
       " - `ArbitraryClifford(n=2)`: 9\n",
       " - `TGate()`: 4"
      ],
      "text/plain": [
       "<IPython.core.display.Markdown object>"
      ]
     },
     "metadata": {},
     "output_type": "display_data"
    }
   ],
   "source": [
    "and_bloq_g, and_bloq_sigma = and_bloq.call_graph()\n",
    "show_call_graph(and_bloq_g)\n",
    "show_counts_sigma(and_bloq_sigma)"
   ]
  },
  {
   "cell_type": "markdown",
   "id": "50800962",
   "metadata": {
    "cq.autogen": "MultiAnd.bloq_doc.md"
   },
   "source": [
    "## `MultiAnd`\n",
    "A many-bit (multi-control) 'and' operation.\n",
    "\n",
    "#### Parameters\n",
    " - `cvs`: A tuple of control variable settings. Each entry specifies whether that control line is a \"positive\" control (`cv[i]=1`) or a \"negative\" control `0`. \n",
    "\n",
    "#### Registers\n",
    " - `ctrl`: An n-bit control register.\n",
    " - `junk [right]`: An `n-2` bit junk register to be cleaned up by the inverse operation.\n",
    " - `target [right]`: The output bit.\n"
   ]
  },
  {
   "cell_type": "code",
   "execution_count": 6,
   "id": "51233de9",
   "metadata": {
    "cq.autogen": "MultiAnd.bloq_doc.py"
   },
   "outputs": [],
   "source": [
    "from qualtran.bloqs.and_bloq import MultiAnd"
   ]
  },
  {
   "cell_type": "markdown",
   "id": "0de01272",
   "metadata": {
    "cq.autogen": "MultiAnd.example_instances.md"
   },
   "source": [
    "### Example Instances"
   ]
  },
  {
   "cell_type": "code",
   "execution_count": 7,
   "id": "e3624703",
   "metadata": {
    "cq.autogen": "MultiAnd.multi_and"
   },
   "outputs": [],
   "source": [
    "multi_and = MultiAnd(cvs=(1,) * 4)"
   ]
  },
  {
   "cell_type": "markdown",
   "id": "bec95a47",
   "metadata": {
    "cq.autogen": "MultiAnd.graphical_signature.md"
   },
   "source": [
    "#### Graphical Signature"
   ]
  },
  {
   "cell_type": "code",
   "execution_count": 8,
   "id": "2065cd95",
   "metadata": {
    "cq.autogen": "MultiAnd.graphical_signature.py"
   },
   "outputs": [
    {
     "data": {
      "application/vnd.jupyter.widget-view+json": {
       "model_id": "3277386c48c74f819400eafa7382b5cf",
       "version_major": 2,
       "version_minor": 0
      },
      "text/plain": [
       "HBox(children=(Output(outputs=({'output_type': 'display_data', 'data': {'text/plain': '<IPython.core.display.M…"
      ]
     },
     "metadata": {},
     "output_type": "display_data"
    }
   ],
   "source": [
    "from qualtran.drawing import show_bloqs\n",
    "show_bloqs([multi_and],\n",
    "           ['`multi_and`'])"
   ]
  },
  {
   "cell_type": "markdown",
   "id": "533031f3",
   "metadata": {
    "cq.autogen": "MultiAnd.call_graph.md"
   },
   "source": [
    "### Call Graph"
   ]
  },
  {
   "cell_type": "code",
   "execution_count": 9,
   "id": "8b08e41b",
   "metadata": {
    "cq.autogen": "MultiAnd.call_graph.py"
   },
   "outputs": [
    {
     "data": {
      "image/svg+xml": [
       "<svg xmlns=\"http://www.w3.org/2000/svg\" xmlns:xlink=\"http://www.w3.org/1999/xlink\" width=\"250pt\" height=\"218pt\" viewBox=\"0.00 0.00 249.50 218.00\">\n",
       "<g id=\"graph0\" class=\"graph\" transform=\"scale(1 1) rotate(0) translate(4 214)\">\n",
       "<title>counts</title>\n",
       "<polygon fill=\"white\" stroke=\"transparent\" points=\"-4,4 -4,-214 245.5,-214 245.5,4 -4,4\"/>\n",
       "<!-- b0 -->\n",
       "<g id=\"node1\" class=\"node\">\n",
       "<title>b0</title>\n",
       "<polygon fill=\"none\" stroke=\"black\" points=\"176.5,-210 63.5,-210 63.5,-174 176.5,-174 176.5,-210\"/>\n",
       "<text text-anchor=\"start\" x=\"92.5\" y=\"-193.8\" font-family=\"Times,serif\" font-size=\"14.00\">MultiAnd</text>\n",
       "<text text-anchor=\"start\" x=\"71.5\" y=\"-183\" font-family=\"monospace\" font-size=\"10.00\">cvs=(1, 1, 1, 1)</text>\n",
       "</g>\n",
       "<!-- b1 -->\n",
       "<g id=\"node2\" class=\"node\">\n",
       "<title>b1</title>\n",
       "<polygon fill=\"none\" stroke=\"black\" points=\"215.5,-123 24.5,-123 24.5,-87 215.5,-87 215.5,-123\"/>\n",
       "<text text-anchor=\"start\" x=\"108\" y=\"-106.8\" font-family=\"Times,serif\" font-size=\"14.00\">And</text>\n",
       "<text text-anchor=\"start\" x=\"32.5\" y=\"-96\" font-family=\"monospace\" font-size=\"10.00\">cv1=1, cv2=1, uncompute=False</text>\n",
       "</g>\n",
       "<!-- b0&#45;&gt;b1 -->\n",
       "<g id=\"edge1\" class=\"edge\">\n",
       "<title>b0-&gt;b1</title>\n",
       "<path fill=\"none\" stroke=\"black\" d=\"M120,-173.8C120,-162.16 120,-146.55 120,-133.24\"/>\n",
       "<polygon fill=\"black\" stroke=\"black\" points=\"123.5,-133.18 120,-123.18 116.5,-133.18 123.5,-133.18\"/>\n",
       "<text text-anchor=\"middle\" x=\"123.5\" y=\"-144.8\" font-family=\"Times,serif\" font-size=\"14.00\">3</text>\n",
       "</g>\n",
       "<!-- b2 -->\n",
       "<g id=\"node3\" class=\"node\">\n",
       "<title>b2</title>\n",
       "<polygon fill=\"none\" stroke=\"black\" points=\"110,-36 0,-36 0,0 110,0 110,-36\"/>\n",
       "<text text-anchor=\"start\" x=\"8\" y=\"-19.8\" font-family=\"Times,serif\" font-size=\"14.00\">ArbitraryClifford</text>\n",
       "<text text-anchor=\"start\" x=\"45.5\" y=\"-9\" font-family=\"monospace\" font-size=\"10.00\">n=2</text>\n",
       "</g>\n",
       "<!-- b1&#45;&gt;b2 -->\n",
       "<g id=\"edge2\" class=\"edge\">\n",
       "<title>b1-&gt;b2</title>\n",
       "<path fill=\"none\" stroke=\"black\" d=\"M106.85,-86.8C97.51,-74.59 84.82,-57.99 74.33,-44.28\"/>\n",
       "<polygon fill=\"black\" stroke=\"black\" points=\"76.99,-41.99 68.13,-36.18 71.43,-46.25 76.99,-41.99\"/>\n",
       "<text text-anchor=\"middle\" x=\"95.5\" y=\"-57.8\" font-family=\"Times,serif\" font-size=\"14.00\">9</text>\n",
       "</g>\n",
       "<!-- b3 -->\n",
       "<g id=\"node4\" class=\"node\">\n",
       "<title>b3</title>\n",
       "<polygon fill=\"none\" stroke=\"black\" points=\"241.5,-36 128.5,-36 128.5,0 241.5,0 241.5,-36\"/>\n",
       "<text text-anchor=\"start\" x=\"180.5\" y=\"-19.8\" font-family=\"Times,serif\" font-size=\"14.00\">T</text>\n",
       "<text text-anchor=\"start\" x=\"136.5\" y=\"-9\" font-family=\"monospace\" font-size=\"10.00\">is_adjoint=False</text>\n",
       "</g>\n",
       "<!-- b1&#45;&gt;b3 -->\n",
       "<g id=\"edge3\" class=\"edge\">\n",
       "<title>b1-&gt;b3</title>\n",
       "<path fill=\"none\" stroke=\"black\" d=\"M133.15,-86.8C142.49,-74.59 155.18,-57.99 165.67,-44.28\"/>\n",
       "<polygon fill=\"black\" stroke=\"black\" points=\"168.57,-46.25 171.87,-36.18 163.01,-41.99 168.57,-46.25\"/>\n",
       "<text text-anchor=\"middle\" x=\"159.5\" y=\"-57.8\" font-family=\"Times,serif\" font-size=\"14.00\">4</text>\n",
       "</g>\n",
       "</g>\n",
       "</svg>"
      ],
      "text/plain": [
       "<IPython.core.display.SVG object>"
      ]
     },
     "metadata": {},
     "output_type": "display_data"
    },
    {
     "data": {
      "text/markdown": [
       "#### Counts totals:\n",
       " - `ArbitraryClifford(n=2)`: 27\n",
       " - `TGate()`: 12"
      ],
      "text/plain": [
       "<IPython.core.display.Markdown object>"
      ]
     },
     "metadata": {},
     "output_type": "display_data"
    }
   ],
   "source": [
    "multi_and_g, multi_and_sigma = multi_and.call_graph()\n",
    "show_call_graph(multi_and_g)\n",
    "show_counts_sigma(multi_and_sigma)"
   ]
  },
  {
   "cell_type": "markdown",
   "id": "1a29bb95",
   "metadata": {},
   "source": [
    "## Additional Demos"
   ]
  },
  {
   "cell_type": "markdown",
   "id": "bc24c183",
   "metadata": {},
   "source": [
    "### Testing with states and effects\n",
    "\n",
    "We can use `ZeroState` and its friends to test the truth table on this classical logic."
   ]
  },
  {
   "cell_type": "code",
   "execution_count": 10,
   "id": "979530da",
   "metadata": {},
   "outputs": [
    {
     "data": {
      "image/svg+xml": [
       "<svg xmlns=\"http://www.w3.org/2000/svg\" xmlns:xlink=\"http://www.w3.org/1999/xlink\" width=\"280pt\" height=\"233pt\" viewBox=\"0.00 0.00 280.00 233.00\">\n",
       "<g id=\"graph0\" class=\"graph\" transform=\"scale(1 1) rotate(0) translate(4 229)\">\n",
       "<title>my_graph</title>\n",
       "<polygon fill=\"white\" stroke=\"transparent\" points=\"-4,4 -4,-229 276,-229 276,4 -4,4\"/>\n",
       "<!-- And -->\n",
       "<g id=\"node1\" class=\"node\">\n",
       "<title>And</title>\n",
       "<polygon fill=\"none\" stroke=\"black\" points=\"56.5,-173 56.5,-190 99.5,-190 99.5,-173 56.5,-173\"/>\n",
       "<text text-anchor=\"start\" x=\"68.5\" y=\"-179\" font-family=\"Times,serif\" font-size=\"10.00\">And</text>\n",
       "<polygon fill=\"none\" stroke=\"black\" points=\"56.5,-152 56.5,-173 99.5,-173 99.5,-152 56.5,-152\"/>\n",
       "<text text-anchor=\"start\" x=\"61\" y=\"-158.8\" font-family=\"Times,serif\" font-size=\"14.00\">ctrl[0]</text>\n",
       "<polygon fill=\"none\" stroke=\"black\" points=\"56.5,-131 56.5,-152 99.5,-152 99.5,-131 56.5,-131\"/>\n",
       "<text text-anchor=\"start\" x=\"61\" y=\"-137.8\" font-family=\"Times,serif\" font-size=\"14.00\">ctrl[1]</text>\n",
       "<polygon fill=\"none\" stroke=\"black\" points=\"56.5,-110 56.5,-131 62.5,-131 62.5,-110 56.5,-110\"/>\n",
       "<polygon fill=\"none\" stroke=\"black\" points=\"62.5,-110 62.5,-131 99.5,-131 99.5,-110 62.5,-110\"/>\n",
       "<text text-anchor=\"start\" x=\"65.5\" y=\"-116.8\" font-family=\"Times,serif\" font-size=\"14.00\">target</text>\n",
       "</g>\n",
       "<!-- And_G3 -->\n",
       "<g id=\"node5\" class=\"node\">\n",
       "<title>And_G3</title>\n",
       "<polygon fill=\"none\" stroke=\"black\" points=\"136.5,-96 136.5,-113 179.5,-113 179.5,-96 136.5,-96\"/>\n",
       "<text text-anchor=\"start\" x=\"148.5\" y=\"-102\" font-family=\"Times,serif\" font-size=\"10.00\">And</text>\n",
       "<polygon fill=\"none\" stroke=\"black\" points=\"136.5,-75 136.5,-96 179.5,-96 179.5,-75 136.5,-75\"/>\n",
       "<text text-anchor=\"start\" x=\"141\" y=\"-81.8\" font-family=\"Times,serif\" font-size=\"14.00\">ctrl[0]</text>\n",
       "<polygon fill=\"none\" stroke=\"black\" points=\"136.5,-54 136.5,-75 179.5,-75 179.5,-54 136.5,-54\"/>\n",
       "<text text-anchor=\"start\" x=\"141\" y=\"-60.8\" font-family=\"Times,serif\" font-size=\"14.00\">ctrl[1]</text>\n",
       "<polygon fill=\"none\" stroke=\"black\" points=\"136.5,-33 136.5,-54 142.5,-54 142.5,-33 136.5,-33\"/>\n",
       "<polygon fill=\"none\" stroke=\"black\" points=\"142.5,-33 142.5,-54 179.5,-54 179.5,-33 142.5,-33\"/>\n",
       "<text text-anchor=\"start\" x=\"145.5\" y=\"-39.8\" font-family=\"Times,serif\" font-size=\"14.00\">target</text>\n",
       "</g>\n",
       "<!-- And&#45;&gt;And_G3 -->\n",
       "<g id=\"edge3\" class=\"edge\">\n",
       "<title>And:e-&gt;And_G3:w</title>\n",
       "<path fill=\"none\" stroke=\"black\" d=\"M99,-120C120.64,-120 114.12,-88.09 133.99,-86.1\"/>\n",
       "<ellipse fill=\"black\" stroke=\"black\" cx=\"135\" cy=\"-86.05\" rx=\"1\" ry=\"1\"/>\n",
       "<text text-anchor=\"middle\" x=\"117.5\" y=\"-108\" font-family=\"Times,serif\" font-size=\"10.00\">1</text>\n",
       "</g>\n",
       "<!-- OneEffect_G6 -->\n",
       "<g id=\"node6\" class=\"node\">\n",
       "<title>OneEffect_G6</title>\n",
       "<polygon fill=\"none\" stroke=\"black\" points=\"148.5,-152 148.5,-169 167.5,-169 167.5,-152 148.5,-152\"/>\n",
       "<text text-anchor=\"start\" x=\"155\" y=\"-158\" font-family=\"Times,serif\" font-size=\"10.00\">1</text>\n",
       "<polygon fill=\"none\" stroke=\"black\" points=\"148.5,-131 148.5,-152 161.5,-152 161.5,-131 148.5,-131\"/>\n",
       "<text text-anchor=\"start\" x=\"151.5\" y=\"-137.8\" font-family=\"Times,serif\" font-size=\"14.00\">q</text>\n",
       "<polygon fill=\"none\" stroke=\"black\" points=\"161.5,-131 161.5,-152 167.5,-152 167.5,-131 161.5,-131\"/>\n",
       "</g>\n",
       "<!-- And&#45;&gt;OneEffect_G6 -->\n",
       "<g id=\"edge6\" class=\"edge\">\n",
       "<title>And:e-&gt;OneEffect_G6:w</title>\n",
       "<path fill=\"none\" stroke=\"black\" d=\"M99,-141C119.71,-141 125.5,-141 145.05,-141\"/>\n",
       "<ellipse fill=\"black\" stroke=\"black\" cx=\"146.5\" cy=\"-141\" rx=\"1\" ry=\"1\"/>\n",
       "<text text-anchor=\"middle\" x=\"117.5\" y=\"-144\" font-family=\"Times,serif\" font-size=\"10.00\">1</text>\n",
       "</g>\n",
       "<!-- OneEffect_G10 -->\n",
       "<g id=\"node8\" class=\"node\">\n",
       "<title>OneEffect_G10</title>\n",
       "<polygon fill=\"none\" stroke=\"black\" points=\"148.5,-208 148.5,-225 167.5,-225 167.5,-208 148.5,-208\"/>\n",
       "<text text-anchor=\"start\" x=\"155\" y=\"-214\" font-family=\"Times,serif\" font-size=\"10.00\">1</text>\n",
       "<polygon fill=\"none\" stroke=\"black\" points=\"148.5,-187 148.5,-208 161.5,-208 161.5,-187 148.5,-187\"/>\n",
       "<text text-anchor=\"start\" x=\"151.5\" y=\"-193.8\" font-family=\"Times,serif\" font-size=\"14.00\">q</text>\n",
       "<polygon fill=\"none\" stroke=\"black\" points=\"161.5,-187 161.5,-208 167.5,-208 167.5,-187 161.5,-187\"/>\n",
       "</g>\n",
       "<!-- And&#45;&gt;OneEffect_G10 -->\n",
       "<g id=\"edge5\" class=\"edge\">\n",
       "<title>And:e-&gt;OneEffect_G10:w</title>\n",
       "<path fill=\"none\" stroke=\"black\" d=\"M99,-163C124.6,-163 121.38,-195.17 145.41,-196.93\"/>\n",
       "<ellipse fill=\"black\" stroke=\"black\" cx=\"146.5\" cy=\"-196.96\" rx=\"1\" ry=\"1\"/>\n",
       "<text text-anchor=\"middle\" x=\"117.5\" y=\"-175\" font-family=\"Times,serif\" font-size=\"10.00\">1</text>\n",
       "</g>\n",
       "<!-- OneState -->\n",
       "<g id=\"node2\" class=\"node\">\n",
       "<title>OneState</title>\n",
       "<polygon fill=\"none\" stroke=\"black\" points=\"68.5,-75 68.5,-92 87.5,-92 87.5,-75 68.5,-75\"/>\n",
       "<text text-anchor=\"start\" x=\"75\" y=\"-81\" font-family=\"Times,serif\" font-size=\"10.00\">1</text>\n",
       "<polygon fill=\"none\" stroke=\"black\" points=\"68.5,-54 68.5,-75 74.5,-75 74.5,-54 68.5,-54\"/>\n",
       "<polygon fill=\"none\" stroke=\"black\" points=\"74.5,-54 74.5,-75 87.5,-75 87.5,-54 74.5,-54\"/>\n",
       "<text text-anchor=\"start\" x=\"77.5\" y=\"-60.8\" font-family=\"Times,serif\" font-size=\"14.00\">q</text>\n",
       "</g>\n",
       "<!-- OneState&#45;&gt;And_G3 -->\n",
       "<g id=\"edge4\" class=\"edge\">\n",
       "<title>OneState:e-&gt;And_G3:w</title>\n",
       "<path fill=\"none\" stroke=\"black\" d=\"M88.5,-64C108.79,-64 114.45,-64 133.6,-64\"/>\n",
       "<ellipse fill=\"black\" stroke=\"black\" cx=\"135\" cy=\"-64\" rx=\"1\" ry=\"1\"/>\n",
       "<text text-anchor=\"middle\" x=\"117.5\" y=\"-67\" font-family=\"Times,serif\" font-size=\"10.00\">1</text>\n",
       "</g>\n",
       "<!-- OneEffect -->\n",
       "<g id=\"node3\" class=\"node\">\n",
       "<title>OneEffect</title>\n",
       "<polygon fill=\"none\" stroke=\"black\" points=\"235,-75 235,-92 254,-92 254,-75 235,-75\"/>\n",
       "<text text-anchor=\"start\" x=\"241.5\" y=\"-81\" font-family=\"Times,serif\" font-size=\"10.00\">1</text>\n",
       "<polygon fill=\"none\" stroke=\"black\" points=\"235,-54 235,-75 248,-75 248,-54 235,-54\"/>\n",
       "<text text-anchor=\"start\" x=\"238\" y=\"-60.8\" font-family=\"Times,serif\" font-size=\"14.00\">q</text>\n",
       "<polygon fill=\"none\" stroke=\"black\" points=\"248,-54 248,-75 254,-75 254,-54 248,-54\"/>\n",
       "</g>\n",
       "<!-- OneState_G1 -->\n",
       "<g id=\"node4\" class=\"node\">\n",
       "<title>OneState_G1</title>\n",
       "<polygon fill=\"none\" stroke=\"black\" points=\"0.5,-135 0.5,-152 19.5,-152 19.5,-135 0.5,-135\"/>\n",
       "<text text-anchor=\"start\" x=\"7\" y=\"-141\" font-family=\"Times,serif\" font-size=\"10.00\">1</text>\n",
       "<polygon fill=\"none\" stroke=\"black\" points=\"0.5,-114 0.5,-135 6.5,-135 6.5,-114 0.5,-114\"/>\n",
       "<polygon fill=\"none\" stroke=\"black\" points=\"6.5,-114 6.5,-135 19.5,-135 19.5,-114 6.5,-114\"/>\n",
       "<text text-anchor=\"start\" x=\"9.5\" y=\"-120.8\" font-family=\"Times,serif\" font-size=\"14.00\">q</text>\n",
       "</g>\n",
       "<!-- OneState_G1&#45;&gt;And -->\n",
       "<g id=\"edge2\" class=\"edge\">\n",
       "<title>OneState_G1:e-&gt;And:w</title>\n",
       "<path fill=\"none\" stroke=\"black\" d=\"M19,-124C36.39,-124 37.81,-139.7 53.96,-140.92\"/>\n",
       "<ellipse fill=\"black\" stroke=\"black\" cx=\"55\" cy=\"-140.96\" rx=\"1\" ry=\"1\"/>\n",
       "<text text-anchor=\"middle\" x=\"37.5\" y=\"-136\" font-family=\"Times,serif\" font-size=\"10.00\">1</text>\n",
       "</g>\n",
       "<!-- And_G3&#45;&gt;OneEffect -->\n",
       "<g id=\"edge7\" class=\"edge\">\n",
       "<title>And_G3:e-&gt;OneEffect:w</title>\n",
       "<path fill=\"none\" stroke=\"black\" d=\"M179,-64C202.68,-64 209.16,-64 231.76,-64\"/>\n",
       "<ellipse fill=\"black\" stroke=\"black\" cx=\"233\" cy=\"-64\" rx=\"1\" ry=\"1\"/>\n",
       "<text text-anchor=\"middle\" x=\"197.5\" y=\"-67\" font-family=\"Times,serif\" font-size=\"10.00\">1</text>\n",
       "</g>\n",
       "<!-- junk -->\n",
       "<g id=\"node9\" class=\"node\">\n",
       "<title>junk</title>\n",
       "<text text-anchor=\"middle\" x=\"244\" y=\"-124.3\" font-family=\"Times,serif\" font-size=\"14.00\">junk[0]</text>\n",
       "</g>\n",
       "<!-- And_G3&#45;&gt;junk -->\n",
       "<g id=\"edge8\" class=\"edge\">\n",
       "<title>And_G3:e-&gt;junk:w</title>\n",
       "<path fill=\"none\" stroke=\"black\" d=\"M179,-86C203.1,-86 191.88,-125.42 213.78,-127.88\"/>\n",
       "<ellipse fill=\"black\" stroke=\"black\" cx=\"215\" cy=\"-127.95\" rx=\"1\" ry=\"1\"/>\n",
       "<text text-anchor=\"middle\" x=\"197.5\" y=\"-112\" font-family=\"Times,serif\" font-size=\"10.00\">1</text>\n",
       "</g>\n",
       "<!-- res -->\n",
       "<g id=\"node10\" class=\"node\">\n",
       "<title>res</title>\n",
       "<text text-anchor=\"middle\" x=\"244\" y=\"-14.3\" font-family=\"Times,serif\" font-size=\"14.00\">res</text>\n",
       "</g>\n",
       "<!-- And_G3&#45;&gt;res -->\n",
       "<g id=\"edge9\" class=\"edge\">\n",
       "<title>And_G3:e-&gt;res:w</title>\n",
       "<path fill=\"none\" stroke=\"black\" d=\"M179,-43C198.07,-43 196.33,-19.91 213.77,-18.11\"/>\n",
       "<ellipse fill=\"black\" stroke=\"black\" cx=\"215\" cy=\"-18.05\" rx=\"1\" ry=\"1\"/>\n",
       "<text text-anchor=\"middle\" x=\"197.5\" y=\"-34\" font-family=\"Times,serif\" font-size=\"10.00\">1</text>\n",
       "</g>\n",
       "<!-- OneState_G8 -->\n",
       "<g id=\"node7\" class=\"node\">\n",
       "<title>OneState_G8</title>\n",
       "<polygon fill=\"none\" stroke=\"black\" points=\"0.5,-191 0.5,-208 19.5,-208 19.5,-191 0.5,-191\"/>\n",
       "<text text-anchor=\"start\" x=\"7\" y=\"-197\" font-family=\"Times,serif\" font-size=\"10.00\">1</text>\n",
       "<polygon fill=\"none\" stroke=\"black\" points=\"0.5,-170 0.5,-191 6.5,-191 6.5,-170 0.5,-170\"/>\n",
       "<polygon fill=\"none\" stroke=\"black\" points=\"6.5,-170 6.5,-191 19.5,-191 19.5,-170 6.5,-170\"/>\n",
       "<text text-anchor=\"start\" x=\"9.5\" y=\"-176.8\" font-family=\"Times,serif\" font-size=\"14.00\">q</text>\n",
       "</g>\n",
       "<!-- OneState_G8&#45;&gt;And -->\n",
       "<g id=\"edge1\" class=\"edge\">\n",
       "<title>OneState_G8:e-&gt;And:w</title>\n",
       "<path fill=\"none\" stroke=\"black\" d=\"M19,-180C36.39,-180 37.81,-164.3 53.96,-163.08\"/>\n",
       "<ellipse fill=\"black\" stroke=\"black\" cx=\"55\" cy=\"-163.04\" rx=\"1\" ry=\"1\"/>\n",
       "<text text-anchor=\"middle\" x=\"37.5\" y=\"-174\" font-family=\"Times,serif\" font-size=\"10.00\">1</text>\n",
       "</g>\n",
       "</g>\n",
       "</svg>"
      ],
      "text/plain": [
       "<IPython.core.display.SVG object>"
      ]
     },
     "metadata": {},
     "output_type": "display_data"
    }
   ],
   "source": [
    "from qualtran.bloqs.basic_gates import OneEffect, OneState, ZeroEffect, ZeroState\n",
    "\n",
    "state = [ZeroState(), OneState()]\n",
    "eff = [ZeroEffect(), OneEffect()]\n",
    "\n",
    "# Experiment with changing the following:\n",
    "cvs = (1, 1, 1)\n",
    "ctrl_string = (1, 1, 1)\n",
    "\n",
    "\n",
    "bb = BloqBuilder()\n",
    "ctrl_qs = [bb.add(state[c]) for c in ctrl_string]\n",
    "ctrl_qs, junk, res = bb.add_from(MultiAnd(cvs), ctrl=ctrl_qs)\n",
    "for c, q in zip(ctrl_string, ctrl_qs):\n",
    "    bb.add(eff[c], q=q)\n",
    "\n",
    "cbloq = bb.finalize(junk=junk, res=res)\n",
    "show_bloq(cbloq)"
   ]
  },
  {
   "cell_type": "code",
   "execution_count": 11,
   "id": "aa0ec9b1",
   "metadata": {},
   "outputs": [
    {
     "data": {
      "text/plain": [
       "array([1])"
      ]
     },
     "execution_count": 11,
     "metadata": {},
     "output_type": "execute_result"
    }
   ],
   "source": [
    "# Our tensor network now just has the result index and a junk index.\n",
    "# We use `np.where` to find non-zero entries into this.\n",
    "# In fact -- the second index corresponding to `res` is the bit output\n",
    "vec = cbloq.tensor_contract()\n",
    "junk_i, res_i = np.where(vec.reshape((2, 2)))\n",
    "res_i"
   ]
  },
  {
   "cell_type": "code",
   "execution_count": 12,
   "id": "6ee9b855",
   "metadata": {},
   "outputs": [
    {
     "data": {
      "text/plain": [
       "True"
      ]
     },
     "execution_count": 12,
     "metadata": {},
     "output_type": "execute_result"
    }
   ],
   "source": [
    "# The truthiness of the non-zero res index should match the desired logical function.\n",
    "should_be = np.all(ctrl_string == cvs)\n",
    "should_be"
   ]
  },
  {
   "cell_type": "markdown",
   "id": "faeca991",
   "metadata": {},
   "source": [
    "### Classical Simulation\n",
    "\n",
    "The `And` gate is classical logic, so we can simulate it on discrete bitstrings."
   ]
  },
  {
   "cell_type": "code",
   "execution_count": 13,
   "id": "c8701a60",
   "metadata": {},
   "outputs": [
    {
     "data": {
      "text/plain": [
       "1"
      ]
     },
     "execution_count": 13,
     "metadata": {},
     "output_type": "execute_result"
    }
   ],
   "source": [
    "ctrl, out = And().call_classically(ctrl=np.array([1, 1]))\n",
    "out"
   ]
  },
  {
   "cell_type": "code",
   "execution_count": 14,
   "id": "e6965536",
   "metadata": {},
   "outputs": [
    {
     "data": {
      "text/plain": [
       "1"
      ]
     },
     "execution_count": 14,
     "metadata": {},
     "output_type": "execute_result"
    }
   ],
   "source": [
    "ctrl = np.array([1,1,1,1])\n",
    "ctrl, junk, out = MultiAnd((1,1,1,1)).call_classically(ctrl=ctrl)\n",
    "out"
   ]
  },
  {
   "cell_type": "code",
   "execution_count": 15,
   "id": "9a502db4",
   "metadata": {},
   "outputs": [
    {
     "data": {
      "image/svg+xml": [
       "<svg xmlns=\"http://www.w3.org/2000/svg\" xmlns:xlink=\"http://www.w3.org/1999/xlink\" width=\"395pt\" height=\"368pt\" viewBox=\"0.00 0.00 395.00 368.00\">\n",
       "<g id=\"graph0\" class=\"graph\" transform=\"scale(1 1) rotate(0) translate(4 364)\">\n",
       "<title>my_graph</title>\n",
       "<polygon fill=\"white\" stroke=\"transparent\" points=\"-4,4 -4,-364 391,-364 391,4 -4,4\"/>\n",
       "<!-- ctrl_G21 -->\n",
       "<g id=\"node1\" class=\"node\">\n",
       "<title>ctrl_G21</title>\n",
       "<text text-anchor=\"middle\" x=\"27\" y=\"-316.3\" font-family=\"Times,serif\" font-size=\"14.00\">ctrl[0]</text>\n",
       "</g>\n",
       "<!-- And_G0 -->\n",
       "<g id=\"node6\" class=\"node\">\n",
       "<title>And_G0</title>\n",
       "<polygon fill=\"none\" stroke=\"black\" points=\"91.5,-320 91.5,-337 134.5,-337 134.5,-320 91.5,-320\"/>\n",
       "<text text-anchor=\"start\" x=\"103.5\" y=\"-326\" font-family=\"Times,serif\" font-size=\"10.00\">And</text>\n",
       "<polygon fill=\"none\" stroke=\"black\" points=\"91.5,-299 91.5,-320 134.5,-320 134.5,-299 91.5,-299\"/>\n",
       "<text text-anchor=\"start\" x=\"96\" y=\"-305.8\" font-family=\"Times,serif\" font-size=\"14.00\">ctrl[0]</text>\n",
       "<polygon fill=\"none\" stroke=\"black\" points=\"91.5,-278 91.5,-299 134.5,-299 134.5,-278 91.5,-278\"/>\n",
       "<text text-anchor=\"start\" x=\"96\" y=\"-284.8\" font-family=\"Times,serif\" font-size=\"14.00\">ctrl[1]</text>\n",
       "<polygon fill=\"none\" stroke=\"black\" points=\"91.5,-257 91.5,-278 97.5,-278 97.5,-257 91.5,-257\"/>\n",
       "<polygon fill=\"none\" stroke=\"black\" points=\"97.5,-257 97.5,-278 134.5,-278 134.5,-257 97.5,-257\"/>\n",
       "<text text-anchor=\"start\" x=\"100.5\" y=\"-263.8\" font-family=\"Times,serif\" font-size=\"14.00\">target</text>\n",
       "</g>\n",
       "<!-- ctrl_G21&#45;&gt;And_G0 -->\n",
       "<g id=\"edge1\" class=\"edge\">\n",
       "<title>ctrl_G21:e-&gt;And_G0:w</title>\n",
       "<path fill=\"none\" stroke=\"black\" d=\"M54,-320C70.24,-320 73.66,-310.92 88.69,-310.06\"/>\n",
       "<ellipse fill=\"black\" stroke=\"black\" cx=\"90\" cy=\"-310.03\" rx=\"1\" ry=\"1\"/>\n",
       "<text text-anchor=\"middle\" x=\"72.5\" y=\"-318\" font-family=\"Times,serif\" font-size=\"10.00\" fill=\"darkblue\">1</text>\n",
       "</g>\n",
       "<!-- ctrl_G17 -->\n",
       "<g id=\"node2\" class=\"node\">\n",
       "<title>ctrl_G17</title>\n",
       "<text text-anchor=\"middle\" x=\"27\" y=\"-262.3\" font-family=\"Times,serif\" font-size=\"14.00\">ctrl[1]</text>\n",
       "</g>\n",
       "<!-- ctrl_G17&#45;&gt;And_G0 -->\n",
       "<g id=\"edge2\" class=\"edge\">\n",
       "<title>ctrl_G17:e-&gt;And_G0:w</title>\n",
       "<path fill=\"none\" stroke=\"black\" d=\"M54,-266C72.38,-266 71.94,-286.31 88.85,-287.9\"/>\n",
       "<ellipse fill=\"black\" stroke=\"black\" cx=\"90\" cy=\"-287.95\" rx=\"1\" ry=\"1\"/>\n",
       "<text text-anchor=\"middle\" x=\"72.5\" y=\"-280\" font-family=\"Times,serif\" font-size=\"10.00\" fill=\"darkblue\">1</text>\n",
       "</g>\n",
       "<!-- ctrl_G23 -->\n",
       "<g id=\"node3\" class=\"node\">\n",
       "<title>ctrl_G23</title>\n",
       "<text text-anchor=\"middle\" x=\"27\" y=\"-197.3\" font-family=\"Times,serif\" font-size=\"14.00\">ctrl[2]</text>\n",
       "</g>\n",
       "<!-- And_G3 -->\n",
       "<g id=\"node7\" class=\"node\">\n",
       "<title>And_G3</title>\n",
       "<polygon fill=\"none\" stroke=\"black\" points=\"171.5,-233 171.5,-250 214.5,-250 214.5,-233 171.5,-233\"/>\n",
       "<text text-anchor=\"start\" x=\"183.5\" y=\"-239\" font-family=\"Times,serif\" font-size=\"10.00\">And</text>\n",
       "<polygon fill=\"none\" stroke=\"black\" points=\"171.5,-212 171.5,-233 214.5,-233 214.5,-212 171.5,-212\"/>\n",
       "<text text-anchor=\"start\" x=\"176\" y=\"-218.8\" font-family=\"Times,serif\" font-size=\"14.00\">ctrl[0]</text>\n",
       "<polygon fill=\"none\" stroke=\"black\" points=\"171.5,-191 171.5,-212 214.5,-212 214.5,-191 171.5,-191\"/>\n",
       "<text text-anchor=\"start\" x=\"176\" y=\"-197.8\" font-family=\"Times,serif\" font-size=\"14.00\">ctrl[1]</text>\n",
       "<polygon fill=\"none\" stroke=\"black\" points=\"171.5,-170 171.5,-191 177.5,-191 177.5,-170 171.5,-170\"/>\n",
       "<polygon fill=\"none\" stroke=\"black\" points=\"177.5,-170 177.5,-191 214.5,-191 214.5,-170 177.5,-170\"/>\n",
       "<text text-anchor=\"start\" x=\"180.5\" y=\"-176.8\" font-family=\"Times,serif\" font-size=\"14.00\">target</text>\n",
       "</g>\n",
       "<!-- ctrl_G23&#45;&gt;And_G3 -->\n",
       "<g id=\"edge4\" class=\"edge\">\n",
       "<title>ctrl_G23:e-&gt;And_G3:w</title>\n",
       "<path fill=\"none\" stroke=\"black\" d=\"M54,-201C105.29,-201 118.64,-201 168.89,-201\"/>\n",
       "<ellipse fill=\"black\" stroke=\"black\" cx=\"170\" cy=\"-201\" rx=\"1\" ry=\"1\"/>\n",
       "<text text-anchor=\"middle\" x=\"112.5\" y=\"-204\" font-family=\"Times,serif\" font-size=\"10.00\" fill=\"darkblue\">0</text>\n",
       "</g>\n",
       "<!-- ctrl_G6 -->\n",
       "<g id=\"node4\" class=\"node\">\n",
       "<title>ctrl_G6</title>\n",
       "<text text-anchor=\"middle\" x=\"27\" y=\"-80.3\" font-family=\"Times,serif\" font-size=\"14.00\">ctrl[3]</text>\n",
       "</g>\n",
       "<!-- And -->\n",
       "<g id=\"node5\" class=\"node\">\n",
       "<title>And</title>\n",
       "<polygon fill=\"none\" stroke=\"black\" points=\"251.5,-116 251.5,-133 294.5,-133 294.5,-116 251.5,-116\"/>\n",
       "<text text-anchor=\"start\" x=\"263.5\" y=\"-122\" font-family=\"Times,serif\" font-size=\"10.00\">And</text>\n",
       "<polygon fill=\"none\" stroke=\"black\" points=\"251.5,-95 251.5,-116 294.5,-116 294.5,-95 251.5,-95\"/>\n",
       "<text text-anchor=\"start\" x=\"256\" y=\"-101.8\" font-family=\"Times,serif\" font-size=\"14.00\">ctrl[0]</text>\n",
       "<polygon fill=\"none\" stroke=\"black\" points=\"251.5,-74 251.5,-95 294.5,-95 294.5,-74 251.5,-74\"/>\n",
       "<text text-anchor=\"start\" x=\"256\" y=\"-80.8\" font-family=\"Times,serif\" font-size=\"14.00\">ctrl[1]</text>\n",
       "<polygon fill=\"none\" stroke=\"black\" points=\"251.5,-53 251.5,-74 257.5,-74 257.5,-53 251.5,-53\"/>\n",
       "<polygon fill=\"none\" stroke=\"black\" points=\"257.5,-53 257.5,-74 294.5,-74 294.5,-53 257.5,-53\"/>\n",
       "<text text-anchor=\"start\" x=\"260.5\" y=\"-59.8\" font-family=\"Times,serif\" font-size=\"14.00\">target</text>\n",
       "</g>\n",
       "<!-- ctrl_G6&#45;&gt;And -->\n",
       "<g id=\"edge6\" class=\"edge\">\n",
       "<title>ctrl_G6:e-&gt;And:w</title>\n",
       "<path fill=\"none\" stroke=\"black\" d=\"M54,-84C140.87,-84 163.1,-84 248.96,-84\"/>\n",
       "<ellipse fill=\"black\" stroke=\"black\" cx=\"250\" cy=\"-84\" rx=\"1\" ry=\"1\"/>\n",
       "<text text-anchor=\"middle\" x=\"152.5\" y=\"-87\" font-family=\"Times,serif\" font-size=\"10.00\" fill=\"darkblue\">1</text>\n",
       "</g>\n",
       "<!-- ctrl_G24 -->\n",
       "<g id=\"node11\" class=\"node\">\n",
       "<title>ctrl_G24</title>\n",
       "<text text-anchor=\"middle\" x=\"359\" y=\"-68.3\" font-family=\"Times,serif\" font-size=\"14.00\">ctrl[3]</text>\n",
       "</g>\n",
       "<!-- And&#45;&gt;ctrl_G24 -->\n",
       "<g id=\"edge10\" class=\"edge\">\n",
       "<title>And:e-&gt;ctrl_G24:w</title>\n",
       "<path fill=\"none\" stroke=\"black\" d=\"M294,-84C310.48,-84 313.45,-73.1 328.66,-72.08\"/>\n",
       "<ellipse fill=\"black\" stroke=\"black\" cx=\"330\" cy=\"-72.03\" rx=\"1\" ry=\"1\"/>\n",
       "<text text-anchor=\"middle\" x=\"312.5\" y=\"-81\" font-family=\"Times,serif\" font-size=\"10.00\" fill=\"darkblue\">1</text>\n",
       "</g>\n",
       "<!-- junk -->\n",
       "<g id=\"node13\" class=\"node\">\n",
       "<title>junk</title>\n",
       "<text text-anchor=\"middle\" x=\"359\" y=\"-122.3\" font-family=\"Times,serif\" font-size=\"14.00\">junk[1]</text>\n",
       "</g>\n",
       "<!-- And&#45;&gt;junk -->\n",
       "<g id=\"edge12\" class=\"edge\">\n",
       "<title>And:e-&gt;junk:w</title>\n",
       "<path fill=\"none\" stroke=\"black\" d=\"M294,-106C311.96,-106 312.31,-124.47 328.89,-125.91\"/>\n",
       "<ellipse fill=\"black\" stroke=\"black\" cx=\"330\" cy=\"-125.96\" rx=\"1\" ry=\"1\"/>\n",
       "<text text-anchor=\"middle\" x=\"312.5\" y=\"-119\" font-family=\"Times,serif\" font-size=\"10.00\" fill=\"darkblue\">0</text>\n",
       "</g>\n",
       "<!-- target_G7 -->\n",
       "<g id=\"node14\" class=\"node\">\n",
       "<title>target_G7</title>\n",
       "<text text-anchor=\"middle\" x=\"359\" y=\"-14.3\" font-family=\"Times,serif\" font-size=\"14.00\">target</text>\n",
       "</g>\n",
       "<!-- And&#45;&gt;target_G7 -->\n",
       "<g id=\"edge13\" class=\"edge\">\n",
       "<title>And:e-&gt;target_G7:w</title>\n",
       "<path fill=\"none\" stroke=\"black\" d=\"M294,-63C319.18,-63 305.89,-20.43 328.97,-18.1\"/>\n",
       "<ellipse fill=\"black\" stroke=\"black\" cx=\"330\" cy=\"-18.05\" rx=\"1\" ry=\"1\"/>\n",
       "<text text-anchor=\"middle\" x=\"312.5\" y=\"-45\" font-family=\"Times,serif\" font-size=\"10.00\" fill=\"darkblue\">0</text>\n",
       "</g>\n",
       "<!-- And_G0&#45;&gt;And_G3 -->\n",
       "<g id=\"edge3\" class=\"edge\">\n",
       "<title>And_G0:e-&gt;And_G3:w</title>\n",
       "<path fill=\"none\" stroke=\"black\" d=\"M134,-267C158.85,-267 146.19,-225.37 168.99,-223.1\"/>\n",
       "<ellipse fill=\"black\" stroke=\"black\" cx=\"170\" cy=\"-223.05\" rx=\"1\" ry=\"1\"/>\n",
       "<text text-anchor=\"middle\" x=\"152.5\" y=\"-249\" font-family=\"Times,serif\" font-size=\"10.00\" fill=\"darkblue\">1</text>\n",
       "</g>\n",
       "<!-- ctrl_G13 -->\n",
       "<g id=\"node8\" class=\"node\">\n",
       "<title>ctrl_G13</title>\n",
       "<text text-anchor=\"middle\" x=\"359\" y=\"-338.3\" font-family=\"Times,serif\" font-size=\"14.00\">ctrl[0]</text>\n",
       "</g>\n",
       "<!-- And_G0&#45;&gt;ctrl_G13 -->\n",
       "<g id=\"edge7\" class=\"edge\">\n",
       "<title>And_G0:e-&gt;ctrl_G13:w</title>\n",
       "<path fill=\"none\" stroke=\"black\" d=\"M134,-310C222.01,-310 241.99,-341.5 328.93,-341.99\"/>\n",
       "<ellipse fill=\"black\" stroke=\"black\" cx=\"330\" cy=\"-342\" rx=\"1\" ry=\"1\"/>\n",
       "<text text-anchor=\"middle\" x=\"232.5\" y=\"-329\" font-family=\"Times,serif\" font-size=\"10.00\" fill=\"darkblue\">1</text>\n",
       "</g>\n",
       "<!-- ctrl_G12 -->\n",
       "<g id=\"node9\" class=\"node\">\n",
       "<title>ctrl_G12</title>\n",
       "<text text-anchor=\"middle\" x=\"359\" y=\"-284.3\" font-family=\"Times,serif\" font-size=\"14.00\">ctrl[1]</text>\n",
       "</g>\n",
       "<!-- And_G0&#45;&gt;ctrl_G12 -->\n",
       "<g id=\"edge8\" class=\"edge\">\n",
       "<title>And_G0:e-&gt;ctrl_G12:w</title>\n",
       "<path fill=\"none\" stroke=\"black\" d=\"M134,-288C220.87,-288 243.1,-288 328.96,-288\"/>\n",
       "<ellipse fill=\"black\" stroke=\"black\" cx=\"330\" cy=\"-288\" rx=\"1\" ry=\"1\"/>\n",
       "<text text-anchor=\"middle\" x=\"232.5\" y=\"-291\" font-family=\"Times,serif\" font-size=\"10.00\" fill=\"darkblue\">1</text>\n",
       "</g>\n",
       "<!-- And_G3&#45;&gt;And -->\n",
       "<g id=\"edge5\" class=\"edge\">\n",
       "<title>And_G3:e-&gt;And:w</title>\n",
       "<path fill=\"none\" stroke=\"black\" d=\"M214,-180C250.05,-180 215.63,-108.86 248.93,-106.08\"/>\n",
       "<ellipse fill=\"black\" stroke=\"black\" cx=\"250\" cy=\"-106.04\" rx=\"1\" ry=\"1\"/>\n",
       "<text text-anchor=\"middle\" x=\"232.5\" y=\"-162\" font-family=\"Times,serif\" font-size=\"10.00\" fill=\"darkblue\">0</text>\n",
       "</g>\n",
       "<!-- ctrl_G15 -->\n",
       "<g id=\"node10\" class=\"node\">\n",
       "<title>ctrl_G15</title>\n",
       "<text text-anchor=\"middle\" x=\"359\" y=\"-176.3\" font-family=\"Times,serif\" font-size=\"14.00\">ctrl[2]</text>\n",
       "</g>\n",
       "<!-- And_G3&#45;&gt;ctrl_G15 -->\n",
       "<g id=\"edge9\" class=\"edge\">\n",
       "<title>And_G3:e-&gt;ctrl_G15:w</title>\n",
       "<path fill=\"none\" stroke=\"black\" d=\"M214,-201C266.11,-201 277.85,-180.57 328.86,-180.01\"/>\n",
       "<ellipse fill=\"black\" stroke=\"black\" cx=\"330\" cy=\"-180.01\" rx=\"1\" ry=\"1\"/>\n",
       "<text text-anchor=\"middle\" x=\"272.5\" y=\"-200\" font-family=\"Times,serif\" font-size=\"10.00\" fill=\"darkblue\">0</text>\n",
       "</g>\n",
       "<!-- junk_G8 -->\n",
       "<g id=\"node12\" class=\"node\">\n",
       "<title>junk_G8</title>\n",
       "<text text-anchor=\"middle\" x=\"359\" y=\"-230.3\" font-family=\"Times,serif\" font-size=\"14.00\">junk[0]</text>\n",
       "</g>\n",
       "<!-- And_G3&#45;&gt;junk_G8 -->\n",
       "<g id=\"edge11\" class=\"edge\">\n",
       "<title>And_G3:e-&gt;junk_G8:w</title>\n",
       "<path fill=\"none\" stroke=\"black\" d=\"M214,-223C265.52,-223 278.42,-233.7 328.88,-233.99\"/>\n",
       "<ellipse fill=\"black\" stroke=\"black\" cx=\"330\" cy=\"-234\" rx=\"1\" ry=\"1\"/>\n",
       "<text text-anchor=\"middle\" x=\"272.5\" y=\"-234\" font-family=\"Times,serif\" font-size=\"10.00\" fill=\"darkblue\">1</text>\n",
       "</g>\n",
       "</g>\n",
       "</svg>"
      ],
      "text/plain": [
       "<IPython.core.display.SVG object>"
      ]
     },
     "execution_count": 15,
     "metadata": {},
     "output_type": "execute_result"
    }
   ],
   "source": [
    "from qualtran.drawing import ClassicalSimGraphDrawer\n",
    "\n",
    "ClassicalSimGraphDrawer(\n",
    "    MultiAnd((1,1,1,1)).decompose_bloq(), \n",
    "    vals=dict(ctrl=[1,1,0,1])\n",
    ").get_svg()"
   ]
  }
 ],
 "metadata": {
  "kernelspec": {
   "display_name": "Python 3 (ipykernel)",
   "language": "python",
   "name": "python3"
  },
  "language_info": {
   "codemirror_mode": {
    "name": "ipython",
    "version": 3
   },
   "file_extension": ".py",
   "mimetype": "text/x-python",
   "name": "python",
   "nbconvert_exporter": "python",
   "pygments_lexer": "ipython3",
   "version": "3.10.12"
  },
  "widgets": {
   "application/vnd.jupyter.widget-state+json": {
    "state": {
     "04e36a49a2d04e57b3563b168b8018bb": {
      "model_module": "@jupyter-widgets/base",
      "model_module_version": "2.0.0",
      "model_name": "LayoutModel",
      "state": {
       "_model_module": "@jupyter-widgets/base",
       "_model_module_version": "2.0.0",
       "_model_name": "LayoutModel",
       "_view_count": null,
       "_view_module": "@jupyter-widgets/base",
       "_view_module_version": "2.0.0",
       "_view_name": "LayoutView",
       "align_content": null,
       "align_items": null,
       "align_self": null,
       "border_bottom": null,
       "border_left": null,
       "border_right": null,
       "border_top": null,
       "bottom": null,
       "display": null,
       "flex": null,
       "flex_flow": null,
       "grid_area": null,
       "grid_auto_columns": null,
       "grid_auto_flow": null,
       "grid_auto_rows": null,
       "grid_column": null,
       "grid_gap": null,
       "grid_row": null,
       "grid_template_areas": null,
       "grid_template_columns": null,
       "grid_template_rows": null,
       "height": null,
       "justify_content": null,
       "justify_items": null,
       "left": null,
       "margin": null,
       "max_height": null,
       "max_width": null,
       "min_height": null,
       "min_width": null,
       "object_fit": null,
       "object_position": null,
       "order": null,
       "overflow": null,
       "padding": null,
       "right": null,
       "top": null,
       "visibility": null,
       "width": null
      }
     },
     "0ee83471d7f34d539b9fbb7325f3173e": {
      "model_module": "@jupyter-widgets/controls",
      "model_module_version": "2.0.0",
      "model_name": "HBoxModel",
      "state": {
       "_dom_classes": [],
       "_model_module": "@jupyter-widgets/controls",
       "_model_module_version": "2.0.0",
       "_model_name": "HBoxModel",
       "_view_count": null,
       "_view_module": "@jupyter-widgets/controls",
       "_view_module_version": "2.0.0",
       "_view_name": "HBoxView",
       "box_style": "",
       "children": [
        "IPY_MODEL_5cb3ada061ea43358d73c498a1816c5b"
       ],
       "layout": "IPY_MODEL_f6b574e8142347b4ba196bf51cd19eca",
       "tabbable": null,
       "tooltip": null
      }
     },
     "20ed2b7eb56548f6ad54909f8d866a32": {
      "model_module": "@jupyter-widgets/base",
      "model_module_version": "2.0.0",
      "model_name": "LayoutModel",
      "state": {
       "_model_module": "@jupyter-widgets/base",
       "_model_module_version": "2.0.0",
       "_model_name": "LayoutModel",
       "_view_count": null,
       "_view_module": "@jupyter-widgets/base",
       "_view_module_version": "2.0.0",
       "_view_name": "LayoutView",
       "align_content": null,
       "align_items": null,
       "align_self": null,
       "border_bottom": null,
       "border_left": null,
       "border_right": null,
       "border_top": null,
       "bottom": null,
       "display": null,
       "flex": null,
       "flex_flow": null,
       "grid_area": null,
       "grid_auto_columns": null,
       "grid_auto_flow": null,
       "grid_auto_rows": null,
       "grid_column": null,
       "grid_gap": null,
       "grid_row": null,
       "grid_template_areas": null,
       "grid_template_columns": null,
       "grid_template_rows": null,
       "height": null,
       "justify_content": null,
       "justify_items": null,
       "left": null,
       "margin": null,
       "max_height": null,
       "max_width": null,
       "min_height": null,
       "min_width": null,
       "object_fit": null,
       "object_position": null,
       "order": null,
       "overflow": null,
       "padding": null,
       "right": null,
       "top": null,
       "visibility": null,
       "width": null
      }
     },
     "3277386c48c74f819400eafa7382b5cf": {
      "model_module": "@jupyter-widgets/controls",
      "model_module_version": "2.0.0",
      "model_name": "HBoxModel",
      "state": {
       "_dom_classes": [],
       "_model_module": "@jupyter-widgets/controls",
       "_model_module_version": "2.0.0",
       "_model_name": "HBoxModel",
       "_view_count": null,
       "_view_module": "@jupyter-widgets/controls",
       "_view_module_version": "2.0.0",
       "_view_name": "HBoxView",
       "box_style": "",
       "children": [
        "IPY_MODEL_f613f9590e4846e38ad43719b2e60c63"
       ],
       "layout": "IPY_MODEL_04e36a49a2d04e57b3563b168b8018bb",
       "tabbable": null,
       "tooltip": null
      }
     },
     "5cb3ada061ea43358d73c498a1816c5b": {
      "model_module": "@jupyter-widgets/output",
      "model_module_version": "1.0.0",
      "model_name": "OutputModel",
      "state": {
       "_dom_classes": [],
       "_model_module": "@jupyter-widgets/output",
       "_model_module_version": "1.0.0",
       "_model_name": "OutputModel",
       "_view_count": null,
       "_view_module": "@jupyter-widgets/output",
       "_view_module_version": "1.0.0",
       "_view_name": "OutputView",
       "layout": "IPY_MODEL_20ed2b7eb56548f6ad54909f8d866a32",
       "msg_id": "",
       "outputs": [
        {
         "data": {
          "text/markdown": "`and_bloq`",
          "text/plain": "<IPython.core.display.Markdown object>"
         },
         "metadata": {},
         "output_type": "display_data"
        },
        {
         "data": {
          "image/svg+xml": "<svg xmlns=\"http://www.w3.org/2000/svg\" xmlns:xlink=\"http://www.w3.org/1999/xlink\" width=\"233pt\" height=\"152pt\" viewBox=\"0.00 0.00 233.00 152.00\">\n<g id=\"graph0\" class=\"graph\" transform=\"scale(1 1) rotate(0) translate(4 148)\">\n<title>my_graph</title>\n<polygon fill=\"white\" stroke=\"transparent\" points=\"-4,4 -4,-148 229,-148 229,4 -4,4\"/>\n<!-- ctrl_G5 -->\n<g id=\"node1\" class=\"node\">\n<title>ctrl_G5</title>\n<text text-anchor=\"middle\" x=\"27\" y=\"-106.3\" font-family=\"Times,serif\" font-size=\"14.00\">ctrl[0]</text>\n</g>\n<!-- And -->\n<g id=\"node3\" class=\"node\">\n<title>And</title>\n<polygon fill=\"none\" stroke=\"black\" points=\"91.5,-104 91.5,-121 134.5,-121 134.5,-104 91.5,-104\"/>\n<text text-anchor=\"start\" x=\"103.5\" y=\"-110\" font-family=\"Times,serif\" font-size=\"10.00\">And</text>\n<polygon fill=\"none\" stroke=\"black\" points=\"91.5,-83 91.5,-104 134.5,-104 134.5,-83 91.5,-83\"/>\n<text text-anchor=\"start\" x=\"96\" y=\"-89.8\" font-family=\"Times,serif\" font-size=\"14.00\">ctrl[0]</text>\n<polygon fill=\"none\" stroke=\"black\" points=\"91.5,-62 91.5,-83 134.5,-83 134.5,-62 91.5,-62\"/>\n<text text-anchor=\"start\" x=\"96\" y=\"-68.8\" font-family=\"Times,serif\" font-size=\"14.00\">ctrl[1]</text>\n<polygon fill=\"none\" stroke=\"black\" points=\"91.5,-41 91.5,-62 97.5,-62 97.5,-41 91.5,-41\"/>\n<polygon fill=\"none\" stroke=\"black\" points=\"97.5,-41 97.5,-62 134.5,-62 134.5,-41 97.5,-41\"/>\n<text text-anchor=\"start\" x=\"100.5\" y=\"-47.8\" font-family=\"Times,serif\" font-size=\"14.00\">target</text>\n</g>\n<!-- ctrl_G5&#45;&gt;And -->\n<g id=\"edge1\" class=\"edge\">\n<title>ctrl_G5:e-&gt;And:w</title>\n<path fill=\"none\" stroke=\"black\" d=\"M54,-110C71.22,-110 72.97,-95.23 88.98,-94.07\"/>\n<ellipse fill=\"black\" stroke=\"black\" cx=\"90\" cy=\"-94.04\" rx=\"1\" ry=\"1\"/>\n<text text-anchor=\"middle\" x=\"72.5\" y=\"-105\" font-family=\"Times,serif\" font-size=\"10.00\">1</text>\n</g>\n<!-- ctrl_G2 -->\n<g id=\"node2\" class=\"node\">\n<title>ctrl_G2</title>\n<text text-anchor=\"middle\" x=\"27\" y=\"-52.3\" font-family=\"Times,serif\" font-size=\"14.00\">ctrl[1]</text>\n</g>\n<!-- ctrl_G2&#45;&gt;And -->\n<g id=\"edge2\" class=\"edge\">\n<title>ctrl_G2:e-&gt;And:w</title>\n<path fill=\"none\" stroke=\"black\" d=\"M54,-56C71.22,-56 72.97,-70.77 88.98,-71.93\"/>\n<ellipse fill=\"black\" stroke=\"black\" cx=\"90\" cy=\"-71.96\" rx=\"1\" ry=\"1\"/>\n<text text-anchor=\"middle\" x=\"72.5\" y=\"-68\" font-family=\"Times,serif\" font-size=\"10.00\">1</text>\n</g>\n<!-- ctrl_G7 -->\n<g id=\"node4\" class=\"node\">\n<title>ctrl_G7</title>\n<text text-anchor=\"middle\" x=\"198\" y=\"-122.3\" font-family=\"Times,serif\" font-size=\"14.00\">ctrl[0]</text>\n</g>\n<!-- And&#45;&gt;ctrl_G7 -->\n<g id=\"edge3\" class=\"edge\">\n<title>And:e-&gt;ctrl_G7:w</title>\n<path fill=\"none\" stroke=\"black\" d=\"M134,-94C154.89,-94 149.72,-123.55 168.58,-125.86\"/>\n<ellipse fill=\"black\" stroke=\"black\" cx=\"170\" cy=\"-125.94\" rx=\"1\" ry=\"1\"/>\n<text text-anchor=\"middle\" x=\"152.5\" y=\"-113\" font-family=\"Times,serif\" font-size=\"10.00\">1</text>\n</g>\n<!-- ctrl_G6 -->\n<g id=\"node5\" class=\"node\">\n<title>ctrl_G6</title>\n<text text-anchor=\"middle\" x=\"198\" y=\"-68.3\" font-family=\"Times,serif\" font-size=\"14.00\">ctrl[1]</text>\n</g>\n<!-- And&#45;&gt;ctrl_G6 -->\n<g id=\"edge4\" class=\"edge\">\n<title>And:e-&gt;ctrl_G6:w</title>\n<path fill=\"none\" stroke=\"black\" d=\"M134,-72C149.67,-72 154.14,-72 168.77,-72\"/>\n<ellipse fill=\"black\" stroke=\"black\" cx=\"170\" cy=\"-72\" rx=\"1\" ry=\"1\"/>\n<text text-anchor=\"middle\" x=\"152.5\" y=\"-75\" font-family=\"Times,serif\" font-size=\"10.00\">1</text>\n</g>\n<!-- target_G1 -->\n<g id=\"node6\" class=\"node\">\n<title>target_G1</title>\n<text text-anchor=\"middle\" x=\"198\" y=\"-14.3\" font-family=\"Times,serif\" font-size=\"14.00\">target</text>\n</g>\n<!-- And&#45;&gt;target_G1 -->\n<g id=\"edge5\" class=\"edge\">\n<title>And:e-&gt;target_G1:w</title>\n<path fill=\"none\" stroke=\"black\" d=\"M134,-51C155.17,-51 149.47,-20.53 168.55,-18.15\"/>\n<ellipse fill=\"black\" stroke=\"black\" cx=\"170\" cy=\"-18.06\" rx=\"1\" ry=\"1\"/>\n<text text-anchor=\"middle\" x=\"152.5\" y=\"-39\" font-family=\"Times,serif\" font-size=\"10.00\">1</text>\n</g>\n</g>\n</svg>",
          "text/plain": "<IPython.core.display.SVG object>"
         },
         "metadata": {},
         "output_type": "display_data"
        }
       ],
       "tabbable": null,
       "tooltip": null
      }
     },
     "8df18ca801b84f09b978f7976d7f645e": {
      "model_module": "@jupyter-widgets/base",
      "model_module_version": "2.0.0",
      "model_name": "LayoutModel",
      "state": {
       "_model_module": "@jupyter-widgets/base",
       "_model_module_version": "2.0.0",
       "_model_name": "LayoutModel",
       "_view_count": null,
       "_view_module": "@jupyter-widgets/base",
       "_view_module_version": "2.0.0",
       "_view_name": "LayoutView",
       "align_content": null,
       "align_items": null,
       "align_self": null,
       "border_bottom": null,
       "border_left": null,
       "border_right": null,
       "border_top": null,
       "bottom": null,
       "display": null,
       "flex": null,
       "flex_flow": null,
       "grid_area": null,
       "grid_auto_columns": null,
       "grid_auto_flow": null,
       "grid_auto_rows": null,
       "grid_column": null,
       "grid_gap": null,
       "grid_row": null,
       "grid_template_areas": null,
       "grid_template_columns": null,
       "grid_template_rows": null,
       "height": null,
       "justify_content": null,
       "justify_items": null,
       "left": null,
       "margin": null,
       "max_height": null,
       "max_width": null,
       "min_height": null,
       "min_width": null,
       "object_fit": null,
       "object_position": null,
       "order": null,
       "overflow": null,
       "padding": null,
       "right": null,
       "top": null,
       "visibility": null,
       "width": null
      }
     },
     "f613f9590e4846e38ad43719b2e60c63": {
      "model_module": "@jupyter-widgets/output",
      "model_module_version": "1.0.0",
      "model_name": "OutputModel",
      "state": {
       "_dom_classes": [],
       "_model_module": "@jupyter-widgets/output",
       "_model_module_version": "1.0.0",
       "_model_name": "OutputModel",
       "_view_count": null,
       "_view_module": "@jupyter-widgets/output",
       "_view_module_version": "1.0.0",
       "_view_name": "OutputView",
       "layout": "IPY_MODEL_8df18ca801b84f09b978f7976d7f645e",
       "msg_id": "",
       "outputs": [
        {
         "data": {
          "text/markdown": "`multi_and`",
          "text/plain": "<IPython.core.display.Markdown object>"
         },
         "metadata": {},
         "output_type": "display_data"
        },
        {
         "data": {
          "image/svg+xml": "<svg xmlns=\"http://www.w3.org/2000/svg\" xmlns:xlink=\"http://www.w3.org/1999/xlink\" width=\"244pt\" height=\"368pt\" viewBox=\"0.00 0.00 244.00 368.00\">\n<g id=\"graph0\" class=\"graph\" transform=\"scale(1 1) rotate(0) translate(4 364)\">\n<title>my_graph</title>\n<polygon fill=\"white\" stroke=\"transparent\" points=\"-4,4 -4,-364 240,-364 240,4 -4,4\"/>\n<!-- ctrl_G11 -->\n<g id=\"node1\" class=\"node\">\n<title>ctrl_G11</title>\n<text text-anchor=\"middle\" x=\"27\" y=\"-290.3\" font-family=\"Times,serif\" font-size=\"14.00\">ctrl[0]</text>\n</g>\n<!-- MultiAnd -->\n<g id=\"node5\" class=\"node\">\n<title>MultiAnd</title>\n<polygon fill=\"none\" stroke=\"black\" points=\"91,-254 91,-271 143,-271 143,-254 91,-254\"/>\n<text text-anchor=\"start\" x=\"107.5\" y=\"-260\" font-family=\"Times,serif\" font-size=\"10.00\">And</text>\n<polygon fill=\"none\" stroke=\"black\" points=\"91,-233 91,-254 143,-254 143,-233 91,-233\"/>\n<text text-anchor=\"start\" x=\"100\" y=\"-239.8\" font-family=\"Times,serif\" font-size=\"14.00\">ctrl[0]</text>\n<polygon fill=\"none\" stroke=\"black\" points=\"91,-212 91,-233 143,-233 143,-212 91,-212\"/>\n<text text-anchor=\"start\" x=\"100\" y=\"-218.8\" font-family=\"Times,serif\" font-size=\"14.00\">ctrl[1]</text>\n<polygon fill=\"none\" stroke=\"black\" points=\"91,-191 91,-212 143,-212 143,-191 91,-191\"/>\n<text text-anchor=\"start\" x=\"100\" y=\"-197.8\" font-family=\"Times,serif\" font-size=\"14.00\">ctrl[2]</text>\n<polygon fill=\"none\" stroke=\"black\" points=\"91,-170 91,-191 143,-191 143,-170 91,-170\"/>\n<text text-anchor=\"start\" x=\"100\" y=\"-176.8\" font-family=\"Times,serif\" font-size=\"14.00\">ctrl[3]</text>\n<polygon fill=\"none\" stroke=\"black\" points=\"91,-149 91,-170 97,-170 97,-149 91,-149\"/>\n<polygon fill=\"none\" stroke=\"black\" points=\"97,-149 97,-170 143,-170 143,-149 97,-149\"/>\n<text text-anchor=\"start\" x=\"100\" y=\"-155.8\" font-family=\"Times,serif\" font-size=\"14.00\">junk[0]</text>\n<polygon fill=\"none\" stroke=\"black\" points=\"91,-128 91,-149 97,-149 97,-128 91,-128\"/>\n<polygon fill=\"none\" stroke=\"black\" points=\"97,-128 97,-149 143,-149 143,-128 97,-128\"/>\n<text text-anchor=\"start\" x=\"100\" y=\"-134.8\" font-family=\"Times,serif\" font-size=\"14.00\">junk[1]</text>\n<polygon fill=\"none\" stroke=\"black\" points=\"91,-107 91,-128 97,-128 97,-107 91,-107\"/>\n<polygon fill=\"none\" stroke=\"black\" points=\"97,-107 97,-128 143,-128 143,-107 97,-107\"/>\n<text text-anchor=\"start\" x=\"104.5\" y=\"-113.8\" font-family=\"Times,serif\" font-size=\"14.00\">target</text>\n</g>\n<!-- ctrl_G11&#45;&gt;MultiAnd -->\n<g id=\"edge1\" class=\"edge\">\n<title>ctrl_G11:e-&gt;MultiAnd:w</title>\n<path fill=\"none\" stroke=\"black\" d=\"M54,-294C80.89,-294 64.32,-246.7 88.83,-244.11\"/>\n<ellipse fill=\"black\" stroke=\"black\" cx=\"90\" cy=\"-244.05\" rx=\"1\" ry=\"1\"/>\n<text text-anchor=\"middle\" x=\"72.5\" y=\"-273\" font-family=\"Times,serif\" font-size=\"10.00\">1</text>\n</g>\n<!-- ctrl_G9 -->\n<g id=\"node2\" class=\"node\">\n<title>ctrl_G9</title>\n<text text-anchor=\"middle\" x=\"27\" y=\"-236.3\" font-family=\"Times,serif\" font-size=\"14.00\">ctrl[1]</text>\n</g>\n<!-- ctrl_G9&#45;&gt;MultiAnd -->\n<g id=\"edge2\" class=\"edge\">\n<title>ctrl_G9:e-&gt;MultiAnd:w</title>\n<path fill=\"none\" stroke=\"black\" d=\"M54,-240C71.39,-240 72.81,-224.3 88.96,-223.08\"/>\n<ellipse fill=\"black\" stroke=\"black\" cx=\"90\" cy=\"-223.04\" rx=\"1\" ry=\"1\"/>\n<text text-anchor=\"middle\" x=\"72.5\" y=\"-234\" font-family=\"Times,serif\" font-size=\"10.00\">1</text>\n</g>\n<!-- ctrl_G13 -->\n<g id=\"node3\" class=\"node\">\n<title>ctrl_G13</title>\n<text text-anchor=\"middle\" x=\"27\" y=\"-182.3\" font-family=\"Times,serif\" font-size=\"14.00\">ctrl[2]</text>\n</g>\n<!-- ctrl_G13&#45;&gt;MultiAnd -->\n<g id=\"edge3\" class=\"edge\">\n<title>ctrl_G13:e-&gt;MultiAnd:w</title>\n<path fill=\"none\" stroke=\"black\" d=\"M54,-186C71.22,-186 72.97,-200.77 88.98,-201.93\"/>\n<ellipse fill=\"black\" stroke=\"black\" cx=\"90\" cy=\"-201.96\" rx=\"1\" ry=\"1\"/>\n<text text-anchor=\"middle\" x=\"72.5\" y=\"-197\" font-family=\"Times,serif\" font-size=\"10.00\">1</text>\n</g>\n<!-- ctrl_G1 -->\n<g id=\"node4\" class=\"node\">\n<title>ctrl_G1</title>\n<text text-anchor=\"middle\" x=\"27\" y=\"-128.3\" font-family=\"Times,serif\" font-size=\"14.00\">ctrl[3]</text>\n</g>\n<!-- ctrl_G1&#45;&gt;MultiAnd -->\n<g id=\"edge4\" class=\"edge\">\n<title>ctrl_G1:e-&gt;MultiAnd:w</title>\n<path fill=\"none\" stroke=\"black\" d=\"M54,-132C80.2,-132 64.95,-177.41 88.89,-179.89\"/>\n<ellipse fill=\"black\" stroke=\"black\" cx=\"90\" cy=\"-179.95\" rx=\"1\" ry=\"1\"/>\n<text text-anchor=\"middle\" x=\"72.5\" y=\"-160\" font-family=\"Times,serif\" font-size=\"10.00\">1</text>\n</g>\n<!-- ctrl_G7 -->\n<g id=\"node6\" class=\"node\">\n<title>ctrl_G7</title>\n<text text-anchor=\"middle\" x=\"208\" y=\"-338.3\" font-family=\"Times,serif\" font-size=\"14.00\">ctrl[0]</text>\n</g>\n<!-- MultiAnd&#45;&gt;ctrl_G7 -->\n<g id=\"edge5\" class=\"edge\">\n<title>MultiAnd:e-&gt;ctrl_G7:w</title>\n<path fill=\"none\" stroke=\"black\" d=\"M143,-244C165.55,-244 157.29,-335.97 177.91,-341.72\"/>\n<ellipse fill=\"black\" stroke=\"black\" cx=\"179.01\" cy=\"-341.87\" rx=\"1\" ry=\"1\"/>\n<text text-anchor=\"middle\" x=\"161.5\" y=\"-298\" font-family=\"Times,serif\" font-size=\"10.00\">1</text>\n</g>\n<!-- ctrl_G6 -->\n<g id=\"node7\" class=\"node\">\n<title>ctrl_G6</title>\n<text text-anchor=\"middle\" x=\"208\" y=\"-284.3\" font-family=\"Times,serif\" font-size=\"14.00\">ctrl[1]</text>\n</g>\n<!-- MultiAnd&#45;&gt;ctrl_G6 -->\n<g id=\"edge6\" class=\"edge\">\n<title>MultiAnd:e-&gt;ctrl_G6:w</title>\n<path fill=\"none\" stroke=\"black\" d=\"M143,-223C175.46,-223 148.11,-284.99 177.76,-287.89\"/>\n<ellipse fill=\"black\" stroke=\"black\" cx=\"179\" cy=\"-287.95\" rx=\"1\" ry=\"1\"/>\n<text text-anchor=\"middle\" x=\"161.5\" y=\"-264\" font-family=\"Times,serif\" font-size=\"10.00\">1</text>\n</g>\n<!-- ctrl_G8 -->\n<g id=\"node8\" class=\"node\">\n<title>ctrl_G8</title>\n<text text-anchor=\"middle\" x=\"208\" y=\"-230.3\" font-family=\"Times,serif\" font-size=\"14.00\">ctrl[2]</text>\n</g>\n<!-- MultiAnd&#45;&gt;ctrl_G8 -->\n<g id=\"edge7\" class=\"edge\">\n<title>MultiAnd:e-&gt;ctrl_G8:w</title>\n<path fill=\"none\" stroke=\"black\" d=\"M143,-202C163.89,-202 158.72,-231.55 177.58,-233.86\"/>\n<ellipse fill=\"black\" stroke=\"black\" cx=\"179\" cy=\"-233.94\" rx=\"1\" ry=\"1\"/>\n<text text-anchor=\"middle\" x=\"161.5\" y=\"-221\" font-family=\"Times,serif\" font-size=\"10.00\">1</text>\n</g>\n<!-- ctrl_G14 -->\n<g id=\"node9\" class=\"node\">\n<title>ctrl_G14</title>\n<text text-anchor=\"middle\" x=\"208\" y=\"-176.3\" font-family=\"Times,serif\" font-size=\"14.00\">ctrl[3]</text>\n</g>\n<!-- MultiAnd&#45;&gt;ctrl_G14 -->\n<g id=\"edge8\" class=\"edge\">\n<title>MultiAnd:e-&gt;ctrl_G14:w</title>\n<path fill=\"none\" stroke=\"black\" d=\"M143,-180C158.67,-180 163.14,-180 177.77,-180\"/>\n<ellipse fill=\"black\" stroke=\"black\" cx=\"179\" cy=\"-180\" rx=\"1\" ry=\"1\"/>\n<text text-anchor=\"middle\" x=\"161.5\" y=\"-183\" font-family=\"Times,serif\" font-size=\"10.00\">1</text>\n</g>\n<!-- junk_G4 -->\n<g id=\"node10\" class=\"node\">\n<title>junk_G4</title>\n<text text-anchor=\"middle\" x=\"208\" y=\"-122.3\" font-family=\"Times,serif\" font-size=\"14.00\">junk[0]</text>\n</g>\n<!-- MultiAnd&#45;&gt;junk_G4 -->\n<g id=\"edge9\" class=\"edge\">\n<title>MultiAnd:e-&gt;junk_G4:w</title>\n<path fill=\"none\" stroke=\"black\" d=\"M143,-159C164.17,-159 158.47,-128.53 177.55,-126.15\"/>\n<ellipse fill=\"black\" stroke=\"black\" cx=\"179\" cy=\"-126.06\" rx=\"1\" ry=\"1\"/>\n<text text-anchor=\"middle\" x=\"161.5\" y=\"-146\" font-family=\"Times,serif\" font-size=\"10.00\">1</text>\n</g>\n<!-- junk_G2 -->\n<g id=\"node11\" class=\"node\">\n<title>junk_G2</title>\n<text text-anchor=\"middle\" x=\"208\" y=\"-68.3\" font-family=\"Times,serif\" font-size=\"14.00\">junk[1]</text>\n</g>\n<!-- MultiAnd&#45;&gt;junk_G2 -->\n<g id=\"edge10\" class=\"edge\">\n<title>MultiAnd:e-&gt;junk_G2:w</title>\n<path fill=\"none\" stroke=\"black\" d=\"M143,-138C175.84,-138 147.75,-75.06 177.74,-72.11\"/>\n<ellipse fill=\"black\" stroke=\"black\" cx=\"179\" cy=\"-72.05\" rx=\"1\" ry=\"1\"/>\n<text text-anchor=\"middle\" x=\"161.5\" y=\"-116\" font-family=\"Times,serif\" font-size=\"10.00\">1</text>\n</g>\n<!-- target_G3 -->\n<g id=\"node12\" class=\"node\">\n<title>target_G3</title>\n<text text-anchor=\"middle\" x=\"208\" y=\"-14.3\" font-family=\"Times,serif\" font-size=\"14.00\">target</text>\n</g>\n<!-- MultiAnd&#45;&gt;target_G3 -->\n<g id=\"edge11\" class=\"edge\">\n<title>MultiAnd:e-&gt;target_G3:w</title>\n<path fill=\"none\" stroke=\"black\" d=\"M143,-117C165.75,-117 157.1,-24.09 177.89,-18.28\"/>\n<ellipse fill=\"black\" stroke=\"black\" cx=\"179.01\" cy=\"-18.13\" rx=\"1\" ry=\"1\"/>\n<text text-anchor=\"middle\" x=\"161.5\" y=\"-74\" font-family=\"Times,serif\" font-size=\"10.00\">1</text>\n</g>\n</g>\n</svg>",
          "text/plain": "<IPython.core.display.SVG object>"
         },
         "metadata": {},
         "output_type": "display_data"
        }
       ],
       "tabbable": null,
       "tooltip": null
      }
     },
     "f6b574e8142347b4ba196bf51cd19eca": {
      "model_module": "@jupyter-widgets/base",
      "model_module_version": "2.0.0",
      "model_name": "LayoutModel",
      "state": {
       "_model_module": "@jupyter-widgets/base",
       "_model_module_version": "2.0.0",
       "_model_name": "LayoutModel",
       "_view_count": null,
       "_view_module": "@jupyter-widgets/base",
       "_view_module_version": "2.0.0",
       "_view_name": "LayoutView",
       "align_content": null,
       "align_items": null,
       "align_self": null,
       "border_bottom": null,
       "border_left": null,
       "border_right": null,
       "border_top": null,
       "bottom": null,
       "display": null,
       "flex": null,
       "flex_flow": null,
       "grid_area": null,
       "grid_auto_columns": null,
       "grid_auto_flow": null,
       "grid_auto_rows": null,
       "grid_column": null,
       "grid_gap": null,
       "grid_row": null,
       "grid_template_areas": null,
       "grid_template_columns": null,
       "grid_template_rows": null,
       "height": null,
       "justify_content": null,
       "justify_items": null,
       "left": null,
       "margin": null,
       "max_height": null,
       "max_width": null,
       "min_height": null,
       "min_width": null,
       "object_fit": null,
       "object_position": null,
       "order": null,
       "overflow": null,
       "padding": null,
       "right": null,
       "top": null,
       "visibility": null,
       "width": null
      }
     }
    },
    "version_major": 2,
    "version_minor": 0
   }
  }
 },
 "nbformat": 4,
 "nbformat_minor": 5
}
