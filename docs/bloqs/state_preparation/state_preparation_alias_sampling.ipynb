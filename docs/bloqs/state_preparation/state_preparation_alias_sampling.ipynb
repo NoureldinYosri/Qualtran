{
 "cells": [
  {
   "cell_type": "markdown",
   "id": "0b54e6c7",
   "metadata": {
    "cq.autogen": "title_cell"
   },
   "source": [
    "# State Preparation via Alias Sampling\n",
    "\n",
    "Gates for preparing coefficient states.\n",
    "\n",
    "In section III.D. of the [Linear T paper](https://arxiv.org/abs/1805.03662) the authors introduce\n",
    "a technique for initializing a state with $L$ unique coefficients (provided by a classical\n",
    "database) with a number of T gates scaling as 4L + O(log(1/eps)) where eps is the\n",
    "largest absolute error that one can tolerate in the prepared amplitudes."
   ]
  },
  {
   "cell_type": "code",
   "execution_count": 1,
   "id": "40df8d85",
   "metadata": {
    "cq.autogen": "top_imports"
   },
   "outputs": [],
   "source": [
    "from qualtran import Bloq, CompositeBloq, BloqBuilder, Signature, Register\n",
    "from qualtran import QBit, QInt, QUInt, QAny\n",
    "from qualtran.drawing import show_bloq, show_call_graph, show_counts_sigma\n",
    "from typing import *\n",
    "import numpy as np\n",
    "import sympy\n",
    "import cirq"
   ]
  },
  {
   "cell_type": "markdown",
   "id": "375acf91",
   "metadata": {
    "cq.autogen": "StatePreparationAliasSampling.bloq_doc.md"
   },
   "source": [
    "## `StatePreparationAliasSampling`\n",
    "Initialize a state with $L$ coefficients using coherent alias sampling.\n",
    "\n",
    "In particular, given coefficients $w_\\ell$, we take the zero state to:\n",
    "\n",
    "$$\n",
    "\\sum_{\\ell=0}^{L-1} \\sqrt{p_\\ell} |\\ell\\rangle |\\mathrm{temp}_\\ell\\rangle\n",
    "$$\n",
    "\n",
    "where the probabilities $p_\\ell$ are $\\mu$-bit binary approximations to the true values\n",
    "$w_\\ell / \\lambda$ (where $\\lambda = \\sum_\\ell w_\\ell$).\n",
    "Note that the temporary register must be treated with care, see the details in Section III.D.\n",
    "of the reference.\n",
    "\n",
    "This construction is designed to work specifically when you don't require specific phases,\n",
    "and the problem is reduced to [classical alias sampling]\n",
    "(https://en.wikipedia.org/wiki/Alias_method). We sample `l` with probability `p[l]` by first\n",
    "selecting `l` uniformly at random and then returning it with probability `keep[l] / 2**mu`;\n",
    "otherwise returning `alt[l]`.\n",
    "\n",
    "This gate corresponds to the following operations:\n",
    " - UNIFORM_L on the selection register\n",
    " - H^mu on the sigma register\n",
    " - QROM addressed by the selection register into the alt and keep signature.\n",
    " - LessThanEqualGate comparing the keep and sigma signature.\n",
    " - Coherent swap between the selection register and alt register if the comparison\n",
    "   returns True.\n",
    "\n",
    "Total space will be (2 * log(L) + 2 mu + 1) work qubits + log(L) ancillas for QROM.\n",
    "The 1 ancilla in work qubits is for the `LessThanEqualGate` followed by coherent swap.\n",
    "\n",
    "#### Registers\n",
    " - `selection`: The input/output register $|\\mathrm{ind}_l\\rangle$ of size lg(L) where the desired coefficient state is prepared. Default name is 'selection' if the builder methods on the class are used. Or else, users can specify custom named registers\n",
    " - `sigma_mu`: A mu-sized register containing uniform probabilities for comparison against `keep`.\n",
    " - `alt`: A lg(L)-sized register of alternate indices\n",
    " - `keep`: a mu-sized register of probabilities of keeping the initially sampled index.\n",
    " - `less_than_equal`: one bit for the result of the comparison. \n",
    "\n",
    "#### Parameters\n",
    " - `selection_registers`: The input/output registers to prepare the state on (see Registers section).\n",
    " - `keep`: The discretized `keep` probabilities for alias sampling.\n",
    " - `alt`: The alternate/alias values to swap.\n",
    " - `mu`: The number of bits to approximate the `keep` probabilities.\n",
    " - `sum_of_unnormalized_probabilities`: The total of the input unnormalized probabilities, i.e., $\\lambda$. This is used as the `PrepareOracle.l1_norm_of_coeffs` property. \n",
    "\n",
    "#### References\n",
    " - [Encoding Electronic Spectra in Quantum Circuits with Linear T Complexity](https://arxiv.org/abs/1805.03662). Babbush et. al. (2018). Section III.D. and Figure 11.\n"
   ]
  },
  {
   "cell_type": "code",
   "execution_count": 2,
   "id": "4383c10a",
   "metadata": {
    "cq.autogen": "StatePreparationAliasSampling.bloq_doc.py"
   },
   "outputs": [],
   "source": [
    "from qualtran.bloqs.state_preparation import StatePreparationAliasSampling"
   ]
  },
  {
   "cell_type": "markdown",
   "id": "b7943612",
   "metadata": {
    "cq.autogen": "StatePreparationAliasSampling.example_instances.md"
   },
   "source": [
    "### Example Instances"
   ]
  },
  {
   "cell_type": "code",
   "execution_count": 3,
   "id": "0f939ef0",
   "metadata": {
    "cq.autogen": "StatePreparationAliasSampling.state_prep_alias"
   },
   "outputs": [],
   "source": [
    "coeffs = [1.0, 1, 3, 2]\n",
    "mu = 3\n",
    "state_prep_alias = StatePreparationAliasSampling.from_probabilities(\n",
    "    coeffs, precision=2**-mu / len(coeffs) * sum(coeffs)\n",
    ")"
   ]
  },
  {
   "cell_type": "code",
   "execution_count": 4,
   "id": "717afc71",
   "metadata": {
    "cq.autogen": "StatePreparationAliasSampling.state_prep_alias_symb"
   },
   "outputs": [],
   "source": [
    "import sympy\n",
    "\n",
    "n_coeffs, sum_coeff, eps = sympy.symbols(r\"L \\lambda \\epsilon\")\n",
    "state_prep_alias_symb = StatePreparationAliasSampling.from_n_coeff(\n",
    "    n_coeffs, sum_coeff, precision=eps\n",
    ")"
   ]
  },
  {
   "cell_type": "markdown",
   "id": "75ef3e40",
   "metadata": {
    "cq.autogen": "StatePreparationAliasSampling.graphical_signature.md"
   },
   "source": [
    "#### Graphical Signature"
   ]
  },
  {
   "cell_type": "code",
   "execution_count": 5,
   "id": "c014ed7a",
   "metadata": {
    "cq.autogen": "StatePreparationAliasSampling.graphical_signature.py"
   },
   "outputs": [
    {
     "data": {
      "application/vnd.jupyter.widget-view+json": {
       "model_id": "3fc2ab384f894e9f9b1a0a77f29b2369",
       "version_major": 2,
       "version_minor": 0
      },
      "text/plain": [
       "HBox(children=(Output(outputs=({'output_type': 'display_data', 'data': {'text/plain': '<IPython.core.display.M…"
      ]
     },
     "metadata": {},
     "output_type": "display_data"
    }
   ],
   "source": [
    "from qualtran.drawing import show_bloqs\n",
    "show_bloqs([state_prep_alias, state_prep_alias_symb],\n",
    "           ['`state_prep_alias`', '`state_prep_alias_symb`'])"
   ]
  },
  {
   "cell_type": "markdown",
   "id": "9e7748f0",
   "metadata": {
    "cq.autogen": "StatePreparationAliasSampling.call_graph.md"
   },
   "source": [
    "### Call Graph"
   ]
  },
  {
   "cell_type": "code",
   "execution_count": 6,
   "id": "ca170386",
   "metadata": {
    "cq.autogen": "StatePreparationAliasSampling.call_graph.py"
   },
   "outputs": [
    {
     "data": {
      "image/svg+xml": [
       "<svg xmlns=\"http://www.w3.org/2000/svg\" xmlns:xlink=\"http://www.w3.org/1999/xlink\" width=\"1274pt\" height=\"131pt\" viewBox=\"0.00 0.00 1273.50 131.00\">\n",
       "<g id=\"graph0\" class=\"graph\" transform=\"scale(1 1) rotate(0) translate(4 127)\">\n",
       "<title>counts</title>\n",
       "<polygon fill=\"white\" stroke=\"transparent\" points=\"-4,4 -4,-127 1269.5,-127 1269.5,4 -4,4\"/>\n",
       "<!-- b0 -->\n",
       "<g id=\"node1\" class=\"node\">\n",
       "<title>b0</title>\n",
       "<polygon fill=\"none\" stroke=\"black\" points=\"972,-123 271,-123 271,-87 972,-87 972,-123\"/>\n",
       "<text text-anchor=\"start\" x=\"536\" y=\"-106.8\" font-family=\"Times,serif\" font-size=\"14.00\">StatePreparationAliasSampling</text>\n",
       "<text text-anchor=\"start\" x=\"279\" y=\"-96\" font-family=\"monospace\" font-size=\"10.00\">selection_registers=(Registe ..., alt=array([2 ..., keep=array([5 ..., mu=3, sum_of_unnormalized_probabilities=7.0</text>\n",
       "</g>\n",
       "<!-- b1 -->\n",
       "<g id=\"node2\" class=\"node\">\n",
       "<title>b1</title>\n",
       "<polygon fill=\"none\" stroke=\"black\" points=\"71,-36 0,-36 0,0 71,0 71,-36\"/>\n",
       "<text text-anchor=\"start\" x=\"15.5\" y=\"-19.8\" font-family=\"Times,serif\" font-size=\"14.00\">CSwap</text>\n",
       "<text text-anchor=\"start\" x=\"8\" y=\"-9\" font-family=\"monospace\" font-size=\"10.00\">bitsize=2</text>\n",
       "</g>\n",
       "<!-- b0&#45;&gt;b1 -->\n",
       "<g id=\"edge1\" class=\"edge\">\n",
       "<title>b0-&gt;b1</title>\n",
       "<path fill=\"none\" stroke=\"black\" d=\"M385.08,-86.97C292.15,-77.11 184.84,-61.8 81,-36.09\"/>\n",
       "<polygon fill=\"black\" stroke=\"black\" points=\"81.84,-32.69 71.29,-33.65 80.13,-39.48 81.84,-32.69\"/>\n",
       "<text text-anchor=\"middle\" x=\"245\" y=\"-57.8\" font-family=\"Times,serif\" font-size=\"14.00\">1</text>\n",
       "</g>\n",
       "<!-- b2 -->\n",
       "<g id=\"node3\" class=\"node\">\n",
       "<title>b2</title>\n",
       "<polygon fill=\"none\" stroke=\"black\" points=\"250,-36 89,-36 89,0 250,0 250,-36\"/>\n",
       "<text text-anchor=\"start\" x=\"127\" y=\"-19.8\" font-family=\"Times,serif\" font-size=\"14.00\">LessThanEqual</text>\n",
       "<text text-anchor=\"start\" x=\"97\" y=\"-9\" font-family=\"monospace\" font-size=\"10.00\">x_bitsize=3, y_bitsize=3</text>\n",
       "</g>\n",
       "<!-- b0&#45;&gt;b2 -->\n",
       "<g id=\"edge2\" class=\"edge\">\n",
       "<title>b0-&gt;b2</title>\n",
       "<path fill=\"none\" stroke=\"black\" d=\"M530.11,-86.97C459.13,-73.73 357.94,-54.8 260.1,-36.3\"/>\n",
       "<polygon fill=\"black\" stroke=\"black\" points=\"260.5,-32.81 250.03,-34.39 259.2,-39.69 260.5,-32.81\"/>\n",
       "<text text-anchor=\"middle\" x=\"432\" y=\"-57.8\" font-family=\"Times,serif\" font-size=\"14.00\">1</text>\n",
       "</g>\n",
       "<!-- b3 -->\n",
       "<g id=\"node4\" class=\"node\">\n",
       "<title>b3</title>\n",
       "<polygon fill=\"none\" stroke=\"black\" points=\"975,-36 268,-36 268,0 975,0 975,-36\"/>\n",
       "<text text-anchor=\"start\" x=\"600.5\" y=\"-19.8\" font-family=\"Times,serif\" font-size=\"14.00\">QROM</text>\n",
       "<text text-anchor=\"start\" x=\"276\" y=\"-9\" font-family=\"monospace\" font-size=\"10.00\">data_or_shape=(array([ ..., selection_bitsizes=(2,), target_bitsizes=(2, 3), target_shapes=((), ()), num_controls=0</text>\n",
       "</g>\n",
       "<!-- b0&#45;&gt;b3 -->\n",
       "<g id=\"edge3\" class=\"edge\">\n",
       "<title>b0-&gt;b3</title>\n",
       "<path fill=\"none\" stroke=\"black\" d=\"M621.5,-86.8C621.5,-75.16 621.5,-59.55 621.5,-46.24\"/>\n",
       "<polygon fill=\"black\" stroke=\"black\" points=\"625,-46.18 621.5,-36.18 618,-46.18 625,-46.18\"/>\n",
       "<text text-anchor=\"middle\" x=\"625\" y=\"-57.8\" font-family=\"Times,serif\" font-size=\"14.00\">1</text>\n",
       "</g>\n",
       "<!-- b4 -->\n",
       "<g id=\"node5\" class=\"node\">\n",
       "<title>b4</title>\n",
       "<polygon fill=\"none\" stroke=\"black\" points=\"1067.5,-36 993.5,-36 993.5,0 1067.5,0 1067.5,-36\"/>\n",
       "<text text-anchor=\"start\" x=\"1001.5\" y=\"-14.3\" font-family=\"Times,serif\" font-size=\"14.00\">Hadamard</text>\n",
       "</g>\n",
       "<!-- b0&#45;&gt;b4 -->\n",
       "<g id=\"edge4\" class=\"edge\">\n",
       "<title>b0-&gt;b4</title>\n",
       "<path fill=\"none\" stroke=\"black\" d=\"M738.33,-86.97C809.79,-75.34 902.68,-58.05 983.5,-36 983.6,-35.97 983.7,-35.94 983.81,-35.92\"/>\n",
       "<polygon fill=\"black\" stroke=\"black\" points=\"984.9,-39.24 993.48,-33.02 982.89,-32.54 984.9,-39.24\"/>\n",
       "<text text-anchor=\"middle\" x=\"909\" y=\"-57.8\" font-family=\"Times,serif\" font-size=\"14.00\">3</text>\n",
       "</g>\n",
       "<!-- b5 -->\n",
       "<g id=\"node6\" class=\"node\">\n",
       "<title>b5</title>\n",
       "<polygon fill=\"none\" stroke=\"black\" points=\"1265.5,-36 1085.5,-36 1085.5,0 1265.5,0 1265.5,-36\"/>\n",
       "<text text-anchor=\"start\" x=\"1093.5\" y=\"-19.8\" font-family=\"Times,serif\" font-size=\"14.00\">PrepareUniformSuperposition</text>\n",
       "<text text-anchor=\"start\" x=\"1142\" y=\"-9\" font-family=\"monospace\" font-size=\"10.00\">n=4, cvs=()</text>\n",
       "</g>\n",
       "<!-- b0&#45;&gt;b5 -->\n",
       "<g id=\"edge5\" class=\"edge\">\n",
       "<title>b0-&gt;b5</title>\n",
       "<path fill=\"none\" stroke=\"black\" d=\"M782.93,-86.99C826.39,-81.83 873.31,-75.72 916.5,-69 972.8,-60.24 1035.56,-48.18 1085.2,-38.1\"/>\n",
       "<polygon fill=\"black\" stroke=\"black\" points=\"1086.17,-41.48 1095.26,-36.05 1084.77,-34.62 1086.17,-41.48\"/>\n",
       "<text text-anchor=\"middle\" x=\"1006\" y=\"-57.8\" font-family=\"Times,serif\" font-size=\"14.00\">1</text>\n",
       "</g>\n",
       "</g>\n",
       "</svg>"
      ],
      "text/plain": [
       "<IPython.core.display.SVG object>"
      ]
     },
     "metadata": {},
     "output_type": "display_data"
    },
    {
     "data": {
      "text/markdown": [
       "#### Counts totals:\n",
       " - `CSwap`: 1\n",
       " - `H`: 3\n",
       " - `LessThanEqual`: 1\n",
       " - `PrepareUniformSuperposition`: 1\n",
       " - `QROM`: 1"
      ],
      "text/plain": [
       "<IPython.core.display.Markdown object>"
      ]
     },
     "metadata": {},
     "output_type": "display_data"
    }
   ],
   "source": [
    "from qualtran.resource_counting.generalizers import ignore_split_join\n",
    "state_prep_alias_g, state_prep_alias_sigma = state_prep_alias.call_graph(max_depth=1, generalizer=ignore_split_join)\n",
    "show_call_graph(state_prep_alias_g)\n",
    "show_counts_sigma(state_prep_alias_sigma)"
   ]
  },
  {
   "cell_type": "markdown",
   "id": "f1559dde",
   "metadata": {
    "cq.autogen": "SparseStatePreparationAliasSampling.bloq_doc.md"
   },
   "source": [
    "## `SparseStatePreparationAliasSampling`\n",
    "Initialize a $d$-sparse state over $L$ indices using coherent alias sampling.\n",
    "\n",
    "In particular, we take the zero state to:\n",
    "\n",
    "$$\n",
    "    \\sum_{j=0}^{d-1} \\sqrt{p_{\\mathrm{ind}_j}} |\\mathrm{ind}_j\\rangle |\\mathrm{temp}_j\\rangle\n",
    "$$\n",
    "\n",
    "where $\\mathrm{ind}_j \\in [0, L)$ is the index of the $j$-th non-zero coefficient,\n",
    "and the probabilities $p_l$ are $\\mu$-bit binary approximations to the true values,\n",
    "and the register $|\\mathrm{temp}_j\\rangle$ may be entangled with the index register.\n",
    "\n",
    "This bloq is nearly identical to :class:`StatePreparationByAliasSampling`, except\n",
    "that it loads the non-zero indices from the QROM and prepares a dense state on them.\n",
    "In comparison, this uses $\\lceil \\log d \\rceil$ extra ancilla qubits, and reduces\n",
    "the iteration length to $d$ from $L$.\n",
    "\n",
    "See :class:`StatePreparationAliasSampling` for an exposition on alias sampling.\n",
    "\n",
    "\n",
    "#### Registers\n",
    " - `selection`: The input/output register $|\\mathrm{ind}_l\\rangle$ of size lg(L) where the desired coefficient state is prepared.\n",
    " - `sigma_mu`: A mu-sized register containing uniform probabilities for comparison against `keep`.\n",
    " - `sparse_index`: A lg(d)-sized register storing the sparse index $j \\in [0, d)$.\n",
    " - `alt`: A lg(L)-sized register of alternate indices\n",
    " - `keep`: a mu-sized register of probabilities of keeping the initially sampled index.\n",
    " - `less_than_equal`: one bit for the result of the comparison. \n",
    "\n",
    "This gate corresponds to the following operations:\n",
    " - UNIFORM_d on the `sparse_index` register.\n",
    " - H^mu on the `sigma` register.\n",
    " - QROM addressed by the `sparse_index` register into the `selection`, `alt`, and `keep` signature.\n",
    " - LessThanEqualGate comparing the `keep` and `sigma` registers.\n",
    " - Coherent swap between the `selection` and `alt` registers if the comparison returns True.\n",
    "\n",
    "Total space will be $(2 \\log(L) + \\log(d) + 2 \\mu + 1)$ work qubits + $log(L)$ ancillas for QROM.\n",
    "\n",
    "#### References\n",
    " - [1] [Qubitization of Arbitrary Basis Quantum Chemistry Leveraging Sparsity and Low Rank Factorization](https://arxiv.org/pdf/1902.02134#page=15.30) Berry et al. (2019). Section 5, Eqs. 43, 44. [2] [Encoding Electronic Spectra in Quantum Circuits with Linear T Complexity](https://arxiv.org/abs/1805.03662). Babbush et al. (2018). Section III.D. and Figure 11.\n"
   ]
  },
  {
   "cell_type": "code",
   "execution_count": 7,
   "id": "a5c09b86",
   "metadata": {
    "cq.autogen": "SparseStatePreparationAliasSampling.bloq_doc.py"
   },
   "outputs": [],
   "source": [
    "from qualtran.bloqs.state_preparation import SparseStatePreparationAliasSampling"
   ]
  },
  {
   "cell_type": "markdown",
   "id": "4cba7cd8",
   "metadata": {
    "cq.autogen": "SparseStatePreparationAliasSampling.example_instances.md"
   },
   "source": [
    "### Example Instances"
   ]
  },
  {
   "cell_type": "code",
   "execution_count": 8,
   "id": "90068f1c",
   "metadata": {
    "cq.autogen": "SparseStatePreparationAliasSampling.sparse_state_prep_alias"
   },
   "outputs": [],
   "source": [
    "coeff_map = {0: 1.0, 3: 1.0, 5: 3.0, 7: 2.0}\n",
    "N = 9\n",
    "mu = 3\n",
    "sparse_state_prep_alias = SparseStatePreparationAliasSampling.from_sparse_dict(\n",
    "    coeff_map, N, precision=2**-mu / len(coeff_map)\n",
    ")"
   ]
  },
  {
   "cell_type": "code",
   "execution_count": 9,
   "id": "beeea709",
   "metadata": {
    "cq.autogen": "SparseStatePreparationAliasSampling.sparse_state_prep_alias_from_list"
   },
   "outputs": [],
   "source": [
    "coeffs = [1.0, 0, 0, 1, 0, 3, 0, 2, 0]\n",
    "mu = 3\n",
    "sparse_state_prep_alias_from_list = (\n",
    "    SparseStatePreparationAliasSampling.from_dense_probabilities(coeffs, precision=2**-mu / 4)\n",
    ")"
   ]
  },
  {
   "cell_type": "code",
   "execution_count": 10,
   "id": "1bf9d4f9",
   "metadata": {
    "cq.autogen": "SparseStatePreparationAliasSampling.sparse_state_prep_alias_symb"
   },
   "outputs": [],
   "source": [
    "import sympy\n",
    "\n",
    "n_coeffs, n_nonzero_coeffs, sum_coeff, eps = sympy.symbols(r\"L d \\lambda \\epsilon\")\n",
    "sparse_state_prep_alias_symb = SparseStatePreparationAliasSampling.from_n_coeff(\n",
    "    n_coeffs, n_nonzero_coeffs, sum_coeff, precision=eps\n",
    ")"
   ]
  },
  {
   "cell_type": "markdown",
   "id": "d3ca3eec",
   "metadata": {
    "cq.autogen": "SparseStatePreparationAliasSampling.graphical_signature.md"
   },
   "source": [
    "#### Graphical Signature"
   ]
  },
  {
   "cell_type": "code",
   "execution_count": 11,
   "id": "7a294570",
   "metadata": {
    "cq.autogen": "SparseStatePreparationAliasSampling.graphical_signature.py"
   },
   "outputs": [
    {
     "data": {
      "application/vnd.jupyter.widget-view+json": {
       "model_id": "af91050a079040cb9a6c250d69c360ae",
       "version_major": 2,
       "version_minor": 0
      },
      "text/plain": [
       "HBox(children=(Output(outputs=({'output_type': 'display_data', 'data': {'text/plain': '<IPython.core.display.M…"
      ]
     },
     "metadata": {},
     "output_type": "display_data"
    }
   ],
   "source": [
    "from qualtran.drawing import show_bloqs\n",
    "show_bloqs([sparse_state_prep_alias, sparse_state_prep_alias_from_list, sparse_state_prep_alias_symb],\n",
    "           ['`sparse_state_prep_alias`', '`sparse_state_prep_alias_from_list`', '`sparse_state_prep_alias_symb`'])"
   ]
  },
  {
   "cell_type": "markdown",
   "id": "4f02d080",
   "metadata": {
    "cq.autogen": "SparseStatePreparationAliasSampling.call_graph.md"
   },
   "source": [
    "### Call Graph"
   ]
  },
  {
   "cell_type": "code",
   "execution_count": 12,
   "id": "56ac92d0",
   "metadata": {
    "cq.autogen": "SparseStatePreparationAliasSampling.call_graph.py"
   },
   "outputs": [
    {
     "data": {
      "image/svg+xml": [
       "<svg xmlns=\"http://www.w3.org/2000/svg\" xmlns:xlink=\"http://www.w3.org/1999/xlink\" width=\"1492pt\" height=\"131pt\" viewBox=\"0.00 0.00 1492.00 131.00\">\n",
       "<g id=\"graph0\" class=\"graph\" transform=\"scale(1 1) rotate(0) translate(4 127)\">\n",
       "<title>counts</title>\n",
       "<polygon fill=\"white\" stroke=\"transparent\" points=\"-4,4 -4,-127 1488,-127 1488,4 -4,4\"/>\n",
       "<!-- b0 -->\n",
       "<g id=\"node1\" class=\"node\">\n",
       "<title>b0</title>\n",
       "<polygon fill=\"none\" stroke=\"black\" points=\"691,-123 26,-123 26,-87 691,-87 691,-123\"/>\n",
       "<text text-anchor=\"start\" x=\"255\" y=\"-106.8\" font-family=\"Times,serif\" font-size=\"14.00\">SparseStatePreparationAliasSampling</text>\n",
       "<text text-anchor=\"start\" x=\"34\" y=\"-96\" font-family=\"monospace\" font-size=\"10.00\">selection_registers=(Registe ..., index=array([0 ..., alt=array([5 ..., keep=array([5 ..., [2 addtl fields].</text>\n",
       "</g>\n",
       "<!-- b1 -->\n",
       "<g id=\"node2\" class=\"node\">\n",
       "<title>b1</title>\n",
       "<polygon fill=\"none\" stroke=\"black\" points=\"161,-36 0,-36 0,0 161,0 161,-36\"/>\n",
       "<text text-anchor=\"start\" x=\"38\" y=\"-19.8\" font-family=\"Times,serif\" font-size=\"14.00\">LessThanEqual</text>\n",
       "<text text-anchor=\"start\" x=\"8\" y=\"-9\" font-family=\"monospace\" font-size=\"10.00\">x_bitsize=3, y_bitsize=3</text>\n",
       "</g>\n",
       "<!-- b0&#45;&gt;b1 -->\n",
       "<g id=\"edge1\" class=\"edge\">\n",
       "<title>b0-&gt;b1</title>\n",
       "<path fill=\"none\" stroke=\"black\" d=\"M302.58,-86.9C257.33,-73.07 193.54,-53.56 145.93,-39.01\"/>\n",
       "<polygon fill=\"black\" stroke=\"black\" points=\"146.92,-35.65 136.33,-36.07 144.87,-42.34 146.92,-35.65\"/>\n",
       "<text text-anchor=\"middle\" x=\"240\" y=\"-57.8\" font-family=\"Times,serif\" font-size=\"14.00\">1</text>\n",
       "</g>\n",
       "<!-- b2 -->\n",
       "<g id=\"node3\" class=\"node\">\n",
       "<title>b2</title>\n",
       "<polygon fill=\"none\" stroke=\"black\" points=\"250,-36 179,-36 179,0 250,0 250,-36\"/>\n",
       "<text text-anchor=\"start\" x=\"194.5\" y=\"-19.8\" font-family=\"Times,serif\" font-size=\"14.00\">CSwap</text>\n",
       "<text text-anchor=\"start\" x=\"187\" y=\"-9\" font-family=\"monospace\" font-size=\"10.00\">bitsize=4</text>\n",
       "</g>\n",
       "<!-- b0&#45;&gt;b2 -->\n",
       "<g id=\"edge2\" class=\"edge\">\n",
       "<title>b0-&gt;b2</title>\n",
       "<path fill=\"none\" stroke=\"black\" d=\"M329.36,-86.8C307.21,-73.72 276.54,-55.62 252.47,-41.41\"/>\n",
       "<polygon fill=\"black\" stroke=\"black\" points=\"253.99,-38.24 243.6,-36.18 250.43,-44.27 253.99,-38.24\"/>\n",
       "<text text-anchor=\"middle\" x=\"299\" y=\"-57.8\" font-family=\"Times,serif\" font-size=\"14.00\">1</text>\n",
       "</g>\n",
       "<!-- b3 -->\n",
       "<g id=\"node4\" class=\"node\">\n",
       "<title>b3</title>\n",
       "<polygon fill=\"none\" stroke=\"black\" points=\"448.5,-36 268.5,-36 268.5,0 448.5,0 448.5,-36\"/>\n",
       "<text text-anchor=\"start\" x=\"276.5\" y=\"-19.8\" font-family=\"Times,serif\" font-size=\"14.00\">PrepareUniformSuperposition</text>\n",
       "<text text-anchor=\"start\" x=\"325\" y=\"-9\" font-family=\"monospace\" font-size=\"10.00\">n=4, cvs=()</text>\n",
       "</g>\n",
       "<!-- b0&#45;&gt;b3 -->\n",
       "<g id=\"edge3\" class=\"edge\">\n",
       "<title>b0-&gt;b3</title>\n",
       "<path fill=\"none\" stroke=\"black\" d=\"M358.5,-86.8C358.5,-75.16 358.5,-59.55 358.5,-46.24\"/>\n",
       "<polygon fill=\"black\" stroke=\"black\" points=\"362,-46.18 358.5,-36.18 355,-46.18 362,-46.18\"/>\n",
       "<text text-anchor=\"middle\" x=\"362\" y=\"-57.8\" font-family=\"Times,serif\" font-size=\"14.00\">1</text>\n",
       "</g>\n",
       "<!-- b4 -->\n",
       "<g id=\"node5\" class=\"node\">\n",
       "<title>b4</title>\n",
       "<polygon fill=\"none\" stroke=\"black\" points=\"1215,-36 466,-36 466,0 1215,0 1215,-36\"/>\n",
       "<text text-anchor=\"start\" x=\"819.5\" y=\"-19.8\" font-family=\"Times,serif\" font-size=\"14.00\">QROM</text>\n",
       "<text text-anchor=\"start\" x=\"474\" y=\"-9\" font-family=\"monospace\" font-size=\"10.00\">data_or_shape=(array([ ..., selection_bitsizes=(2,), target_bitsizes=(4, 4, 3), target_shapes=((), (), ()), num_controls=0</text>\n",
       "</g>\n",
       "<!-- b0&#45;&gt;b4 -->\n",
       "<g id=\"edge4\" class=\"edge\">\n",
       "<title>b0-&gt;b4</title>\n",
       "<path fill=\"none\" stroke=\"black\" d=\"M455.17,-86.95C535.85,-72.73 650.69,-52.47 733.99,-37.78\"/>\n",
       "<polygon fill=\"black\" stroke=\"black\" points=\"734.75,-41.2 743.99,-36.02 733.53,-34.31 734.75,-41.2\"/>\n",
       "<text text-anchor=\"middle\" x=\"632\" y=\"-57.8\" font-family=\"Times,serif\" font-size=\"14.00\">1</text>\n",
       "</g>\n",
       "<!-- b5 -->\n",
       "<g id=\"node6\" class=\"node\">\n",
       "<title>b5</title>\n",
       "<polygon fill=\"none\" stroke=\"black\" points=\"1484,-36 1233,-36 1233,0 1484,0 1484,-36\"/>\n",
       "<text text-anchor=\"start\" x=\"1336.5\" y=\"-19.8\" font-family=\"Times,serif\" font-size=\"14.00\">OnEach</text>\n",
       "<text text-anchor=\"start\" x=\"1241\" y=\"-9\" font-family=\"monospace\" font-size=\"10.00\">n=3, gate=Hadamard(), target_dtype=None</text>\n",
       "</g>\n",
       "<!-- b0&#45;&gt;b5 -->\n",
       "<g id=\"edge5\" class=\"edge\">\n",
       "<title>b0-&gt;b5</title>\n",
       "<path fill=\"none\" stroke=\"black\" d=\"M615.21,-86.98C784.77,-74.98 1012.09,-57.43 1222.75,-36.05\"/>\n",
       "<polygon fill=\"black\" stroke=\"black\" points=\"1223.17,-39.52 1232.77,-35.03 1222.46,-32.56 1223.17,-39.52\"/>\n",
       "<text text-anchor=\"middle\" x=\"1014\" y=\"-57.8\" font-family=\"Times,serif\" font-size=\"14.00\">1</text>\n",
       "</g>\n",
       "</g>\n",
       "</svg>"
      ],
      "text/plain": [
       "<IPython.core.display.SVG object>"
      ]
     },
     "metadata": {},
     "output_type": "display_data"
    },
    {
     "data": {
      "text/markdown": [
       "#### Counts totals:\n",
       " - `CSwap`: 1\n",
       " - `H⨂3`: 1\n",
       " - `LessThanEqual`: 1\n",
       " - `PrepareUniformSuperposition`: 1\n",
       " - `QROM`: 1"
      ],
      "text/plain": [
       "<IPython.core.display.Markdown object>"
      ]
     },
     "metadata": {},
     "output_type": "display_data"
    }
   ],
   "source": [
    "from qualtran.resource_counting.generalizers import ignore_split_join\n",
    "sparse_state_prep_alias_g, sparse_state_prep_alias_sigma = sparse_state_prep_alias.call_graph(max_depth=1, generalizer=ignore_split_join)\n",
    "show_call_graph(sparse_state_prep_alias_g)\n",
    "show_counts_sigma(sparse_state_prep_alias_sigma)"
   ]
  }
 ],
 "metadata": {
  "kernelspec": {
   "display_name": "Python 3",
   "language": "python",
   "name": "python3"
  },
  "language_info": {
   "codemirror_mode": {
    "name": "ipython",
    "version": 3
   },
   "file_extension": ".py",
   "mimetype": "text/x-python",
   "name": "python",
   "nbconvert_exporter": "python",
   "pygments_lexer": "ipython3",
   "version": "3.11.8"
  },
  "widgets": {
   "application/vnd.jupyter.widget-state+json": {
    "state": {
     "22dcaf1b1b484f39aab21d297bfe1cc2": {
      "model_module": "@jupyter-widgets/base",
      "model_module_version": "2.0.0",
      "model_name": "LayoutModel",
      "state": {
       "_model_module": "@jupyter-widgets/base",
       "_model_module_version": "2.0.0",
       "_model_name": "LayoutModel",
       "_view_count": null,
       "_view_module": "@jupyter-widgets/base",
       "_view_module_version": "2.0.0",
       "_view_name": "LayoutView",
       "align_content": null,
       "align_items": null,
       "align_self": null,
       "border_bottom": null,
       "border_left": null,
       "border_right": null,
       "border_top": null,
       "bottom": null,
       "display": null,
       "flex": null,
       "flex_flow": null,
       "grid_area": null,
       "grid_auto_columns": null,
       "grid_auto_flow": null,
       "grid_auto_rows": null,
       "grid_column": null,
       "grid_gap": null,
       "grid_row": null,
       "grid_template_areas": null,
       "grid_template_columns": null,
       "grid_template_rows": null,
       "height": null,
       "justify_content": null,
       "justify_items": null,
       "left": null,
       "margin": null,
       "max_height": null,
       "max_width": null,
       "min_height": null,
       "min_width": null,
       "object_fit": null,
       "object_position": null,
       "order": null,
       "overflow": null,
       "padding": null,
       "right": null,
       "top": null,
       "visibility": null,
       "width": null
      }
     },
     "3fc2ab384f894e9f9b1a0a77f29b2369": {
      "model_module": "@jupyter-widgets/controls",
      "model_module_version": "2.0.0",
      "model_name": "HBoxModel",
      "state": {
       "_dom_classes": [],
       "_model_module": "@jupyter-widgets/controls",
       "_model_module_version": "2.0.0",
       "_model_name": "HBoxModel",
       "_view_count": null,
       "_view_module": "@jupyter-widgets/controls",
       "_view_module_version": "2.0.0",
       "_view_name": "HBoxView",
       "box_style": "",
       "children": [
        "IPY_MODEL_e96578042a66458298eb401010a2d71a",
        "IPY_MODEL_5ff7f6ac3c814abc85255fb279532c18"
       ],
       "layout": "IPY_MODEL_9cee21000621495a8547a6117cf8db2f",
       "tabbable": null,
       "tooltip": null
      }
     },
     "4f992b3d072a462ea1f31a68a727755a": {
      "model_module": "@jupyter-widgets/base",
      "model_module_version": "2.0.0",
      "model_name": "LayoutModel",
      "state": {
       "_model_module": "@jupyter-widgets/base",
       "_model_module_version": "2.0.0",
       "_model_name": "LayoutModel",
       "_view_count": null,
       "_view_module": "@jupyter-widgets/base",
       "_view_module_version": "2.0.0",
       "_view_name": "LayoutView",
       "align_content": null,
       "align_items": null,
       "align_self": null,
       "border_bottom": null,
       "border_left": null,
       "border_right": null,
       "border_top": null,
       "bottom": null,
       "display": null,
       "flex": null,
       "flex_flow": null,
       "grid_area": null,
       "grid_auto_columns": null,
       "grid_auto_flow": null,
       "grid_auto_rows": null,
       "grid_column": null,
       "grid_gap": null,
       "grid_row": null,
       "grid_template_areas": null,
       "grid_template_columns": null,
       "grid_template_rows": null,
       "height": null,
       "justify_content": null,
       "justify_items": null,
       "left": null,
       "margin": null,
       "max_height": null,
       "max_width": null,
       "min_height": null,
       "min_width": null,
       "object_fit": null,
       "object_position": null,
       "order": null,
       "overflow": null,
       "padding": null,
       "right": null,
       "top": null,
       "visibility": null,
       "width": null
      }
     },
     "5c7304b00fe946afbb55413b5a0aa91c": {
      "model_module": "@jupyter-widgets/base",
      "model_module_version": "2.0.0",
      "model_name": "LayoutModel",
      "state": {
       "_model_module": "@jupyter-widgets/base",
       "_model_module_version": "2.0.0",
       "_model_name": "LayoutModel",
       "_view_count": null,
       "_view_module": "@jupyter-widgets/base",
       "_view_module_version": "2.0.0",
       "_view_name": "LayoutView",
       "align_content": null,
       "align_items": null,
       "align_self": null,
       "border_bottom": null,
       "border_left": null,
       "border_right": null,
       "border_top": null,
       "bottom": null,
       "display": null,
       "flex": null,
       "flex_flow": null,
       "grid_area": null,
       "grid_auto_columns": null,
       "grid_auto_flow": null,
       "grid_auto_rows": null,
       "grid_column": null,
       "grid_gap": null,
       "grid_row": null,
       "grid_template_areas": null,
       "grid_template_columns": null,
       "grid_template_rows": null,
       "height": null,
       "justify_content": null,
       "justify_items": null,
       "left": null,
       "margin": null,
       "max_height": null,
       "max_width": null,
       "min_height": null,
       "min_width": null,
       "object_fit": null,
       "object_position": null,
       "order": null,
       "overflow": null,
       "padding": null,
       "right": null,
       "top": null,
       "visibility": null,
       "width": null
      }
     },
     "5ff7f6ac3c814abc85255fb279532c18": {
      "model_module": "@jupyter-widgets/output",
      "model_module_version": "1.0.0",
      "model_name": "OutputModel",
      "state": {
       "_dom_classes": [],
       "_model_module": "@jupyter-widgets/output",
       "_model_module_version": "1.0.0",
       "_model_name": "OutputModel",
       "_view_count": null,
       "_view_module": "@jupyter-widgets/output",
       "_view_module_version": "1.0.0",
       "_view_name": "OutputView",
       "layout": "IPY_MODEL_4f992b3d072a462ea1f31a68a727755a",
       "msg_id": "",
       "outputs": [
        {
         "data": {
          "text/markdown": "`state_prep_alias_symb`",
          "text/plain": "<IPython.core.display.Markdown object>"
         },
         "metadata": {},
         "output_type": "display_data"
        },
        {
         "data": {
          "image/svg+xml": "<svg xmlns=\"http://www.w3.org/2000/svg\" xmlns:xlink=\"http://www.w3.org/1999/xlink\" width=\"422pt\" height=\"260pt\" viewBox=\"0.00 0.00 422.00 260.00\">\n<g id=\"graph0\" class=\"graph\" transform=\"scale(1 1) rotate(0) translate(4 256)\">\n<title>my_graph</title>\n<polygon fill=\"white\" stroke=\"transparent\" points=\"-4,4 -4,-256 418,-256 418,4 -4,4\"/>\n<!-- selection_G0 -->\n<g id=\"node1\" class=\"node\">\n<title>selection_G0</title>\n<text text-anchor=\"middle\" x=\"51.5\" y=\"-230.3\" font-family=\"Times,serif\" font-size=\"14.00\">selection</text>\n</g>\n<!-- StatePreparationAliasSampling -->\n<g id=\"node6\" class=\"node\">\n<title>StatePreparationAliasSampling</title>\n<polygon fill=\"none\" stroke=\"black\" points=\"140,-179 140,-196 274,-196 274,-179 140,-179\"/>\n<text text-anchor=\"start\" x=\"143\" y=\"-185\" font-family=\"Times,serif\" font-size=\"10.00\">StatePreparationAliasSampling</text>\n<polygon fill=\"none\" stroke=\"black\" points=\"140,-158 140,-179 274,-179 274,-158 140,-158\"/>\n<text text-anchor=\"start\" x=\"182.5\" y=\"-164.8\" font-family=\"Times,serif\" font-size=\"14.00\">selection</text>\n<polygon fill=\"none\" stroke=\"black\" points=\"140,-137 140,-158 274,-158 274,-137 140,-137\"/>\n<text text-anchor=\"start\" x=\"178\" y=\"-143.8\" font-family=\"Times,serif\" font-size=\"14.00\">sigma_mu</text>\n<polygon fill=\"none\" stroke=\"black\" points=\"140,-116 140,-137 274,-137 274,-116 140,-116\"/>\n<text text-anchor=\"start\" x=\"200\" y=\"-122.8\" font-family=\"Times,serif\" font-size=\"14.00\">alt</text>\n<polygon fill=\"none\" stroke=\"black\" points=\"140,-95 140,-116 274,-116 274,-95 140,-95\"/>\n<text text-anchor=\"start\" x=\"194\" y=\"-101.8\" font-family=\"Times,serif\" font-size=\"14.00\">keep</text>\n<polygon fill=\"none\" stroke=\"black\" points=\"140,-74 140,-95 274,-95 274,-74 140,-74\"/>\n<text text-anchor=\"start\" x=\"163.5\" y=\"-80.8\" font-family=\"Times,serif\" font-size=\"14.00\">less_than_equal</text>\n</g>\n<!-- selection_G0&#45;&gt;StatePreparationAliasSampling -->\n<g id=\"edge1\" class=\"edge\">\n<title>selection_G0:e-&gt;StatePreparationAliasSampling:w</title>\n<path fill=\"none\" stroke=\"black\" d=\"M85.5,-234C122.46,-234 103.09,-171.51 137.86,-169.07\"/>\n<ellipse fill=\"black\" stroke=\"black\" cx=\"139\" cy=\"-169.03\" rx=\"1\" ry=\"1\"/>\n<text text-anchor=\"middle\" x=\"121.5\" y=\"-181\" font-family=\"Times,serif\" font-size=\"10.00\">ceiling(log2(floor(L)))</text>\n</g>\n<!-- sigma_mu_G13 -->\n<g id=\"node2\" class=\"node\">\n<title>sigma_mu_G13</title>\n<text text-anchor=\"middle\" x=\"51.5\" y=\"-176.3\" font-family=\"Times,serif\" font-size=\"14.00\">sigma_mu</text>\n</g>\n<!-- sigma_mu_G13&#45;&gt;StatePreparationAliasSampling -->\n<g id=\"edge2\" class=\"edge\">\n<title>sigma_mu_G13:e-&gt;StatePreparationAliasSampling:w</title>\n<path fill=\"none\" stroke=\"black\" d=\"M89.5,-180C115.34,-180 113.55,-149.73 137.88,-148.07\"/>\n<ellipse fill=\"black\" stroke=\"black\" cx=\"139\" cy=\"-148.03\" rx=\"1\" ry=\"1\"/>\n<text text-anchor=\"start\" x=\"79.5\" y=\"-169\" font-family=\"Times,serif\" font-size=\"10.00\">ceiling(log2(</text>\n<text text-anchor=\"middle\" x=\"121.5\" y=\"-158\" font-family=\"Times,serif\" font-size=\"10.00\">ambda/(L*epsilon)))</text>\n</g>\n<!-- alt_G14 -->\n<g id=\"node3\" class=\"node\">\n<title>alt_G14</title>\n<text text-anchor=\"middle\" x=\"51.5\" y=\"-122.3\" font-family=\"Times,serif\" font-size=\"14.00\">alt</text>\n</g>\n<!-- alt_G14&#45;&gt;StatePreparationAliasSampling -->\n<g id=\"edge3\" class=\"edge\">\n<title>alt_G14:e-&gt;StatePreparationAliasSampling:w</title>\n<path fill=\"none\" stroke=\"black\" d=\"M79.5,-126C105.65,-126 112.73,-126 137.84,-126\"/>\n<ellipse fill=\"black\" stroke=\"black\" cx=\"139\" cy=\"-126\" rx=\"1\" ry=\"1\"/>\n<text text-anchor=\"middle\" x=\"121.5\" y=\"-129\" font-family=\"Times,serif\" font-size=\"10.00\">ceiling(log2(floor(L)))</text>\n</g>\n<!-- keep_G2 -->\n<g id=\"node4\" class=\"node\">\n<title>keep_G2</title>\n<text text-anchor=\"middle\" x=\"51.5\" y=\"-68.3\" font-family=\"Times,serif\" font-size=\"14.00\">keep</text>\n</g>\n<!-- keep_G2&#45;&gt;StatePreparationAliasSampling -->\n<g id=\"edge4\" class=\"edge\">\n<title>keep_G2:e-&gt;StatePreparationAliasSampling:w</title>\n<path fill=\"none\" stroke=\"black\" d=\"M79.5,-72C109.41,-72 109.39,-103.47 137.9,-104.95\"/>\n<ellipse fill=\"black\" stroke=\"black\" cx=\"139\" cy=\"-104.97\" rx=\"1\" ry=\"1\"/>\n<text text-anchor=\"start\" x=\"79.5\" y=\"-113\" font-family=\"Times,serif\" font-size=\"10.00\">ceiling(log2(</text>\n<text text-anchor=\"middle\" x=\"121.5\" y=\"-102\" font-family=\"Times,serif\" font-size=\"10.00\">ambda/(L*epsilon)))</text>\n</g>\n<!-- less_than_equal_G4 -->\n<g id=\"node5\" class=\"node\">\n<title>less_than_equal_G4</title>\n<text text-anchor=\"middle\" x=\"51.5\" y=\"-14.3\" font-family=\"Times,serif\" font-size=\"14.00\">less_than_equal</text>\n</g>\n<!-- less_than_equal_G4&#45;&gt;StatePreparationAliasSampling -->\n<g id=\"edge5\" class=\"edge\">\n<title>less_than_equal_G4:e-&gt;StatePreparationAliasSampling:w</title>\n<path fill=\"none\" stroke=\"black\" d=\"M103,-18C135.84,-18 107.75,-80.94 137.74,-83.89\"/>\n<ellipse fill=\"black\" stroke=\"black\" cx=\"139\" cy=\"-83.95\" rx=\"1\" ry=\"1\"/>\n<text text-anchor=\"middle\" x=\"121.5\" y=\"-62\" font-family=\"Times,serif\" font-size=\"10.00\">1</text>\n</g>\n<!-- selection_G1 -->\n<g id=\"node7\" class=\"node\">\n<title>selection_G1</title>\n<text text-anchor=\"middle\" x=\"362.5\" y=\"-230.3\" font-family=\"Times,serif\" font-size=\"14.00\">selection</text>\n</g>\n<!-- StatePreparationAliasSampling&#45;&gt;selection_G1 -->\n<g id=\"edge6\" class=\"edge\">\n<title>StatePreparationAliasSampling:e-&gt;selection_G1:w</title>\n<path fill=\"none\" stroke=\"black\" d=\"M274,-169C310.96,-169 291.59,-231.49 326.36,-233.93\"/>\n<ellipse fill=\"black\" stroke=\"black\" cx=\"327.5\" cy=\"-233.97\" rx=\"1\" ry=\"1\"/>\n<text text-anchor=\"middle\" x=\"292.5\" y=\"-181\" font-family=\"Times,serif\" font-size=\"10.00\">ceiling(log2(floor(L)))</text>\n</g>\n<!-- sigma_mu_G8 -->\n<g id=\"node8\" class=\"node\">\n<title>sigma_mu_G8</title>\n<text text-anchor=\"middle\" x=\"362.5\" y=\"-176.3\" font-family=\"Times,serif\" font-size=\"14.00\">sigma_mu</text>\n</g>\n<!-- StatePreparationAliasSampling&#45;&gt;sigma_mu_G8 -->\n<g id=\"edge7\" class=\"edge\">\n<title>StatePreparationAliasSampling:e-&gt;sigma_mu_G8:w</title>\n<path fill=\"none\" stroke=\"black\" d=\"M274,-148C299.84,-148 298.05,-178.27 322.38,-179.93\"/>\n<ellipse fill=\"black\" stroke=\"black\" cx=\"323.5\" cy=\"-179.97\" rx=\"1\" ry=\"1\"/>\n<text text-anchor=\"start\" x=\"250.5\" y=\"-169\" font-family=\"Times,serif\" font-size=\"10.00\">ceiling(log2(</text>\n<text text-anchor=\"middle\" x=\"292.5\" y=\"-158\" font-family=\"Times,serif\" font-size=\"10.00\">ambda/(L*epsilon)))</text>\n</g>\n<!-- alt_G10 -->\n<g id=\"node9\" class=\"node\">\n<title>alt_G10</title>\n<text text-anchor=\"middle\" x=\"362.5\" y=\"-122.3\" font-family=\"Times,serif\" font-size=\"14.00\">alt</text>\n</g>\n<!-- StatePreparationAliasSampling&#45;&gt;alt_G10 -->\n<g id=\"edge8\" class=\"edge\">\n<title>StatePreparationAliasSampling:e-&gt;alt_G10:w</title>\n<path fill=\"none\" stroke=\"black\" d=\"M274,-126C300.15,-126 307.23,-126 332.34,-126\"/>\n<ellipse fill=\"black\" stroke=\"black\" cx=\"333.5\" cy=\"-126\" rx=\"1\" ry=\"1\"/>\n<text text-anchor=\"middle\" x=\"292.5\" y=\"-129\" font-family=\"Times,serif\" font-size=\"10.00\">ceiling(log2(floor(L)))</text>\n</g>\n<!-- keep_G3 -->\n<g id=\"node10\" class=\"node\">\n<title>keep_G3</title>\n<text text-anchor=\"middle\" x=\"362.5\" y=\"-68.3\" font-family=\"Times,serif\" font-size=\"14.00\">keep</text>\n</g>\n<!-- StatePreparationAliasSampling&#45;&gt;keep_G3 -->\n<g id=\"edge9\" class=\"edge\">\n<title>StatePreparationAliasSampling:e-&gt;keep_G3:w</title>\n<path fill=\"none\" stroke=\"black\" d=\"M274,-105C303.91,-105 303.89,-73.53 332.4,-72.05\"/>\n<ellipse fill=\"black\" stroke=\"black\" cx=\"333.5\" cy=\"-72.03\" rx=\"1\" ry=\"1\"/>\n<text text-anchor=\"start\" x=\"250.5\" y=\"-113\" font-family=\"Times,serif\" font-size=\"10.00\">ceiling(log2(</text>\n<text text-anchor=\"middle\" x=\"292.5\" y=\"-102\" font-family=\"Times,serif\" font-size=\"10.00\">ambda/(L*epsilon)))</text>\n</g>\n<!-- less_than_equal_G9 -->\n<g id=\"node11\" class=\"node\">\n<title>less_than_equal_G9</title>\n<text text-anchor=\"middle\" x=\"362.5\" y=\"-14.3\" font-family=\"Times,serif\" font-size=\"14.00\">less_than_equal</text>\n</g>\n<!-- StatePreparationAliasSampling&#45;&gt;less_than_equal_G9 -->\n<g id=\"edge10\" class=\"edge\">\n<title>StatePreparationAliasSampling:e-&gt;less_than_equal_G9:w</title>\n<path fill=\"none\" stroke=\"black\" d=\"M274,-84C306.84,-84 278.75,-21.06 308.74,-18.11\"/>\n<ellipse fill=\"black\" stroke=\"black\" cx=\"310\" cy=\"-18.05\" rx=\"1\" ry=\"1\"/>\n<text text-anchor=\"middle\" x=\"292.5\" y=\"-62\" font-family=\"Times,serif\" font-size=\"10.00\">1</text>\n</g>\n</g>\n</svg>",
          "text/plain": "<IPython.core.display.SVG object>"
         },
         "metadata": {},
         "output_type": "display_data"
        }
       ],
       "tabbable": null,
       "tooltip": null
      }
     },
     "765b0d46b1174019a21e4b77a1a3cf3f": {
      "model_module": "@jupyter-widgets/base",
      "model_module_version": "2.0.0",
      "model_name": "LayoutModel",
      "state": {
       "_model_module": "@jupyter-widgets/base",
       "_model_module_version": "2.0.0",
       "_model_name": "LayoutModel",
       "_view_count": null,
       "_view_module": "@jupyter-widgets/base",
       "_view_module_version": "2.0.0",
       "_view_name": "LayoutView",
       "align_content": null,
       "align_items": null,
       "align_self": null,
       "border_bottom": null,
       "border_left": null,
       "border_right": null,
       "border_top": null,
       "bottom": null,
       "display": null,
       "flex": null,
       "flex_flow": null,
       "grid_area": null,
       "grid_auto_columns": null,
       "grid_auto_flow": null,
       "grid_auto_rows": null,
       "grid_column": null,
       "grid_gap": null,
       "grid_row": null,
       "grid_template_areas": null,
       "grid_template_columns": null,
       "grid_template_rows": null,
       "height": null,
       "justify_content": null,
       "justify_items": null,
       "left": null,
       "margin": null,
       "max_height": null,
       "max_width": null,
       "min_height": null,
       "min_width": null,
       "object_fit": null,
       "object_position": null,
       "order": null,
       "overflow": null,
       "padding": null,
       "right": null,
       "top": null,
       "visibility": null,
       "width": null
      }
     },
     "7f35c98c1aac4b7daba7fb34dc8cab86": {
      "model_module": "@jupyter-widgets/base",
      "model_module_version": "2.0.0",
      "model_name": "LayoutModel",
      "state": {
       "_model_module": "@jupyter-widgets/base",
       "_model_module_version": "2.0.0",
       "_model_name": "LayoutModel",
       "_view_count": null,
       "_view_module": "@jupyter-widgets/base",
       "_view_module_version": "2.0.0",
       "_view_name": "LayoutView",
       "align_content": null,
       "align_items": null,
       "align_self": null,
       "border_bottom": null,
       "border_left": null,
       "border_right": null,
       "border_top": null,
       "bottom": null,
       "display": null,
       "flex": null,
       "flex_flow": null,
       "grid_area": null,
       "grid_auto_columns": null,
       "grid_auto_flow": null,
       "grid_auto_rows": null,
       "grid_column": null,
       "grid_gap": null,
       "grid_row": null,
       "grid_template_areas": null,
       "grid_template_columns": null,
       "grid_template_rows": null,
       "height": null,
       "justify_content": null,
       "justify_items": null,
       "left": null,
       "margin": null,
       "max_height": null,
       "max_width": null,
       "min_height": null,
       "min_width": null,
       "object_fit": null,
       "object_position": null,
       "order": null,
       "overflow": null,
       "padding": null,
       "right": null,
       "top": null,
       "visibility": null,
       "width": null
      }
     },
     "7fb544ba12204a80885ed7a13288bb01": {
      "model_module": "@jupyter-widgets/output",
      "model_module_version": "1.0.0",
      "model_name": "OutputModel",
      "state": {
       "_dom_classes": [],
       "_model_module": "@jupyter-widgets/output",
       "_model_module_version": "1.0.0",
       "_model_name": "OutputModel",
       "_view_count": null,
       "_view_module": "@jupyter-widgets/output",
       "_view_module_version": "1.0.0",
       "_view_name": "OutputView",
       "layout": "IPY_MODEL_ad6162c35b474f60895ec2dfca679aaa",
       "msg_id": "",
       "outputs": [
        {
         "data": {
          "text/markdown": "`sparse_state_prep_alias`",
          "text/plain": "<IPython.core.display.Markdown object>"
         },
         "metadata": {},
         "output_type": "display_data"
        },
        {
         "data": {
          "image/svg+xml": "<svg xmlns=\"http://www.w3.org/2000/svg\" xmlns:xlink=\"http://www.w3.org/1999/xlink\" width=\"448pt\" height=\"314pt\" viewBox=\"0.00 0.00 448.00 314.00\">\n<g id=\"graph0\" class=\"graph\" transform=\"scale(1 1) rotate(0) translate(4 310)\">\n<title>my_graph</title>\n<polygon fill=\"white\" stroke=\"transparent\" points=\"-4,4 -4,-310 444,-310 444,4 -4,4\"/>\n<!-- selection_G0 -->\n<g id=\"node1\" class=\"node\">\n<title>selection_G0</title>\n<text text-anchor=\"middle\" x=\"51.5\" y=\"-284.3\" font-family=\"Times,serif\" font-size=\"14.00\">selection</text>\n</g>\n<!-- SparseStatePreparationAliasSampling -->\n<g id=\"node7\" class=\"node\">\n<title>SparseStatePreparationAliasSampling</title>\n<polygon fill=\"none\" stroke=\"black\" points=\"140,-216 140,-233 300,-233 300,-216 140,-216\"/>\n<text text-anchor=\"start\" x=\"143\" y=\"-222\" font-family=\"Times,serif\" font-size=\"10.00\">SparseStatePreparationAliasSampling</text>\n<polygon fill=\"none\" stroke=\"black\" points=\"140,-195 140,-216 300,-216 300,-195 140,-195\"/>\n<text text-anchor=\"start\" x=\"195.5\" y=\"-201.8\" font-family=\"Times,serif\" font-size=\"14.00\">selection</text>\n<polygon fill=\"none\" stroke=\"black\" points=\"140,-174 140,-195 300,-195 300,-174 140,-174\"/>\n<text text-anchor=\"start\" x=\"191\" y=\"-180.8\" font-family=\"Times,serif\" font-size=\"14.00\">sigma_mu</text>\n<polygon fill=\"none\" stroke=\"black\" points=\"140,-153 140,-174 300,-174 300,-153 140,-153\"/>\n<text text-anchor=\"start\" x=\"184.5\" y=\"-159.8\" font-family=\"Times,serif\" font-size=\"14.00\">sparse_index</text>\n<polygon fill=\"none\" stroke=\"black\" points=\"140,-132 140,-153 300,-153 300,-132 140,-132\"/>\n<text text-anchor=\"start\" x=\"213\" y=\"-138.8\" font-family=\"Times,serif\" font-size=\"14.00\">alt</text>\n<polygon fill=\"none\" stroke=\"black\" points=\"140,-111 140,-132 300,-132 300,-111 140,-111\"/>\n<text text-anchor=\"start\" x=\"207\" y=\"-117.8\" font-family=\"Times,serif\" font-size=\"14.00\">keep</text>\n<polygon fill=\"none\" stroke=\"black\" points=\"140,-90 140,-111 300,-111 300,-90 140,-90\"/>\n<text text-anchor=\"start\" x=\"176.5\" y=\"-96.8\" font-family=\"Times,serif\" font-size=\"14.00\">less_than_equal</text>\n</g>\n<!-- selection_G0&#45;&gt;SparseStatePreparationAliasSampling -->\n<g id=\"edge1\" class=\"edge\">\n<title>selection_G0:e-&gt;SparseStatePreparationAliasSampling:w</title>\n<path fill=\"none\" stroke=\"black\" d=\"M85.5,-288C128.41,-288 97.5,-209.17 137.52,-206.09\"/>\n<ellipse fill=\"black\" stroke=\"black\" cx=\"139\" cy=\"-206.04\" rx=\"1\" ry=\"1\"/>\n<text text-anchor=\"middle\" x=\"121.5\" y=\"-217\" font-family=\"Times,serif\" font-size=\"10.00\">4</text>\n</g>\n<!-- sigma_mu_G9 -->\n<g id=\"node2\" class=\"node\">\n<title>sigma_mu_G9</title>\n<text text-anchor=\"middle\" x=\"51.5\" y=\"-230.3\" font-family=\"Times,serif\" font-size=\"14.00\">sigma_mu</text>\n</g>\n<!-- sigma_mu_G9&#45;&gt;SparseStatePreparationAliasSampling -->\n<g id=\"edge2\" class=\"edge\">\n<title>sigma_mu_G9:e-&gt;SparseStatePreparationAliasSampling:w</title>\n<path fill=\"none\" stroke=\"black\" d=\"M89.5,-234C120.04,-234 109.27,-187.27 137.87,-185.08\"/>\n<ellipse fill=\"black\" stroke=\"black\" cx=\"139\" cy=\"-185.04\" rx=\"1\" ry=\"1\"/>\n<text text-anchor=\"middle\" x=\"121.5\" y=\"-198\" font-family=\"Times,serif\" font-size=\"10.00\">3</text>\n</g>\n<!-- sparse_index_G11 -->\n<g id=\"node3\" class=\"node\">\n<title>sparse_index_G11</title>\n<text text-anchor=\"middle\" x=\"51.5\" y=\"-176.3\" font-family=\"Times,serif\" font-size=\"14.00\">sparse_index</text>\n</g>\n<!-- sparse_index_G11&#45;&gt;SparseStatePreparationAliasSampling -->\n<g id=\"edge3\" class=\"edge\">\n<title>sparse_index_G11:e-&gt;SparseStatePreparationAliasSampling:w</title>\n<path fill=\"none\" stroke=\"black\" d=\"M96.5,-180C116.29,-180 119.19,-165.23 137.67,-164.07\"/>\n<ellipse fill=\"black\" stroke=\"black\" cx=\"139\" cy=\"-164.03\" rx=\"1\" ry=\"1\"/>\n<text text-anchor=\"middle\" x=\"121.5\" y=\"-173\" font-family=\"Times,serif\" font-size=\"10.00\">2</text>\n</g>\n<!-- alt_G3 -->\n<g id=\"node4\" class=\"node\">\n<title>alt_G3</title>\n<text text-anchor=\"middle\" x=\"51.5\" y=\"-122.3\" font-family=\"Times,serif\" font-size=\"14.00\">alt</text>\n</g>\n<!-- alt_G3&#45;&gt;SparseStatePreparationAliasSampling -->\n<g id=\"edge4\" class=\"edge\">\n<title>alt_G3:e-&gt;SparseStatePreparationAliasSampling:w</title>\n<path fill=\"none\" stroke=\"black\" d=\"M79.5,-126C106.55,-126 111.9,-141.14 137.77,-141.96\"/>\n<ellipse fill=\"black\" stroke=\"black\" cx=\"139\" cy=\"-141.98\" rx=\"1\" ry=\"1\"/>\n<text text-anchor=\"middle\" x=\"121.5\" y=\"-141\" font-family=\"Times,serif\" font-size=\"10.00\">4</text>\n</g>\n<!-- keep_G6 -->\n<g id=\"node5\" class=\"node\">\n<title>keep_G6</title>\n<text text-anchor=\"middle\" x=\"51.5\" y=\"-68.3\" font-family=\"Times,serif\" font-size=\"14.00\">keep</text>\n</g>\n<!-- keep_G6&#45;&gt;SparseStatePreparationAliasSampling -->\n<g id=\"edge5\" class=\"edge\">\n<title>keep_G6:e-&gt;SparseStatePreparationAliasSampling:w</title>\n<path fill=\"none\" stroke=\"black\" d=\"M79.5,-72C113.29,-72 105.78,-118.73 137.64,-120.92\"/>\n<ellipse fill=\"black\" stroke=\"black\" cx=\"139\" cy=\"-120.97\" rx=\"1\" ry=\"1\"/>\n<text text-anchor=\"middle\" x=\"121.5\" y=\"-116\" font-family=\"Times,serif\" font-size=\"10.00\">3</text>\n</g>\n<!-- less_than_equal_G1 -->\n<g id=\"node6\" class=\"node\">\n<title>less_than_equal_G1</title>\n<text text-anchor=\"middle\" x=\"51.5\" y=\"-14.3\" font-family=\"Times,serif\" font-size=\"14.00\">less_than_equal</text>\n</g>\n<!-- less_than_equal_G1&#45;&gt;SparseStatePreparationAliasSampling -->\n<g id=\"edge6\" class=\"edge\">\n<title>less_than_equal_G1:e-&gt;SparseStatePreparationAliasSampling:w</title>\n<path fill=\"none\" stroke=\"black\" d=\"M103,-18C142.2,-18 101.66,-96.83 137.75,-99.91\"/>\n<ellipse fill=\"black\" stroke=\"black\" cx=\"139\" cy=\"-99.96\" rx=\"1\" ry=\"1\"/>\n<text text-anchor=\"middle\" x=\"121.5\" y=\"-85\" font-family=\"Times,serif\" font-size=\"10.00\">1</text>\n</g>\n<!-- selection_G17 -->\n<g id=\"node8\" class=\"node\">\n<title>selection_G17</title>\n<text text-anchor=\"middle\" x=\"388.5\" y=\"-284.3\" font-family=\"Times,serif\" font-size=\"14.00\">selection</text>\n</g>\n<!-- SparseStatePreparationAliasSampling&#45;&gt;selection_G17 -->\n<g id=\"edge7\" class=\"edge\">\n<title>SparseStatePreparationAliasSampling:e-&gt;selection_G17:w</title>\n<path fill=\"none\" stroke=\"black\" d=\"M300,-206C342.91,-206 312,-284.83 352.02,-287.91\"/>\n<ellipse fill=\"black\" stroke=\"black\" cx=\"353.5\" cy=\"-287.96\" rx=\"1\" ry=\"1\"/>\n<text text-anchor=\"middle\" x=\"318.5\" y=\"-217\" font-family=\"Times,serif\" font-size=\"10.00\">4</text>\n</g>\n<!-- sigma_mu_G14 -->\n<g id=\"node9\" class=\"node\">\n<title>sigma_mu_G14</title>\n<text text-anchor=\"middle\" x=\"388.5\" y=\"-230.3\" font-family=\"Times,serif\" font-size=\"14.00\">sigma_mu</text>\n</g>\n<!-- SparseStatePreparationAliasSampling&#45;&gt;sigma_mu_G14 -->\n<g id=\"edge8\" class=\"edge\">\n<title>SparseStatePreparationAliasSampling:e-&gt;sigma_mu_G14:w</title>\n<path fill=\"none\" stroke=\"black\" d=\"M300,-185C330.54,-185 319.77,-231.73 348.37,-233.92\"/>\n<ellipse fill=\"black\" stroke=\"black\" cx=\"349.5\" cy=\"-233.96\" rx=\"1\" ry=\"1\"/>\n<text text-anchor=\"middle\" x=\"318.5\" y=\"-198\" font-family=\"Times,serif\" font-size=\"10.00\">3</text>\n</g>\n<!-- sparse_index_G16 -->\n<g id=\"node10\" class=\"node\">\n<title>sparse_index_G16</title>\n<text text-anchor=\"middle\" x=\"388.5\" y=\"-176.3\" font-family=\"Times,serif\" font-size=\"14.00\">sparse_index</text>\n</g>\n<!-- SparseStatePreparationAliasSampling&#45;&gt;sparse_index_G16 -->\n<g id=\"edge9\" class=\"edge\">\n<title>SparseStatePreparationAliasSampling:e-&gt;sparse_index_G16:w</title>\n<path fill=\"none\" stroke=\"black\" d=\"M300,-164C319.79,-164 322.69,-178.77 341.17,-179.93\"/>\n<ellipse fill=\"black\" stroke=\"black\" cx=\"342.5\" cy=\"-179.97\" rx=\"1\" ry=\"1\"/>\n<text text-anchor=\"middle\" x=\"318.5\" y=\"-173\" font-family=\"Times,serif\" font-size=\"10.00\">2</text>\n</g>\n<!-- alt_G7 -->\n<g id=\"node11\" class=\"node\">\n<title>alt_G7</title>\n<text text-anchor=\"middle\" x=\"388.5\" y=\"-122.3\" font-family=\"Times,serif\" font-size=\"14.00\">alt</text>\n</g>\n<!-- SparseStatePreparationAliasSampling&#45;&gt;alt_G7 -->\n<g id=\"edge10\" class=\"edge\">\n<title>SparseStatePreparationAliasSampling:e-&gt;alt_G7:w</title>\n<path fill=\"none\" stroke=\"black\" d=\"M300,-142C327.05,-142 332.4,-126.86 358.27,-126.04\"/>\n<ellipse fill=\"black\" stroke=\"black\" cx=\"359.5\" cy=\"-126.02\" rx=\"1\" ry=\"1\"/>\n<text text-anchor=\"middle\" x=\"318.5\" y=\"-141\" font-family=\"Times,serif\" font-size=\"10.00\">4</text>\n</g>\n<!-- keep_G12 -->\n<g id=\"node12\" class=\"node\">\n<title>keep_G12</title>\n<text text-anchor=\"middle\" x=\"388.5\" y=\"-68.3\" font-family=\"Times,serif\" font-size=\"14.00\">keep</text>\n</g>\n<!-- SparseStatePreparationAliasSampling&#45;&gt;keep_G12 -->\n<g id=\"edge11\" class=\"edge\">\n<title>SparseStatePreparationAliasSampling:e-&gt;keep_G12:w</title>\n<path fill=\"none\" stroke=\"black\" d=\"M300,-121C333.79,-121 326.28,-74.27 358.14,-72.08\"/>\n<ellipse fill=\"black\" stroke=\"black\" cx=\"359.5\" cy=\"-72.03\" rx=\"1\" ry=\"1\"/>\n<text text-anchor=\"middle\" x=\"318.5\" y=\"-116\" font-family=\"Times,serif\" font-size=\"10.00\">3</text>\n</g>\n<!-- less_than_equal_G5 -->\n<g id=\"node13\" class=\"node\">\n<title>less_than_equal_G5</title>\n<text text-anchor=\"middle\" x=\"388.5\" y=\"-14.3\" font-family=\"Times,serif\" font-size=\"14.00\">less_than_equal</text>\n</g>\n<!-- SparseStatePreparationAliasSampling&#45;&gt;less_than_equal_G5 -->\n<g id=\"edge12\" class=\"edge\">\n<title>SparseStatePreparationAliasSampling:e-&gt;less_than_equal_G5:w</title>\n<path fill=\"none\" stroke=\"black\" d=\"M300,-100C339.2,-100 298.66,-21.17 334.75,-18.09\"/>\n<ellipse fill=\"black\" stroke=\"black\" cx=\"336\" cy=\"-18.04\" rx=\"1\" ry=\"1\"/>\n<text text-anchor=\"middle\" x=\"318.5\" y=\"-85\" font-family=\"Times,serif\" font-size=\"10.00\">1</text>\n</g>\n</g>\n</svg>",
          "text/plain": "<IPython.core.display.SVG object>"
         },
         "metadata": {},
         "output_type": "display_data"
        }
       ],
       "tabbable": null,
       "tooltip": null
      }
     },
     "9cee21000621495a8547a6117cf8db2f": {
      "model_module": "@jupyter-widgets/base",
      "model_module_version": "2.0.0",
      "model_name": "LayoutModel",
      "state": {
       "_model_module": "@jupyter-widgets/base",
       "_model_module_version": "2.0.0",
       "_model_name": "LayoutModel",
       "_view_count": null,
       "_view_module": "@jupyter-widgets/base",
       "_view_module_version": "2.0.0",
       "_view_name": "LayoutView",
       "align_content": null,
       "align_items": null,
       "align_self": null,
       "border_bottom": null,
       "border_left": null,
       "border_right": null,
       "border_top": null,
       "bottom": null,
       "display": null,
       "flex": null,
       "flex_flow": null,
       "grid_area": null,
       "grid_auto_columns": null,
       "grid_auto_flow": null,
       "grid_auto_rows": null,
       "grid_column": null,
       "grid_gap": null,
       "grid_row": null,
       "grid_template_areas": null,
       "grid_template_columns": null,
       "grid_template_rows": null,
       "height": null,
       "justify_content": null,
       "justify_items": null,
       "left": null,
       "margin": null,
       "max_height": null,
       "max_width": null,
       "min_height": null,
       "min_width": null,
       "object_fit": null,
       "object_position": null,
       "order": null,
       "overflow": null,
       "padding": null,
       "right": null,
       "top": null,
       "visibility": null,
       "width": null
      }
     },
     "ad6162c35b474f60895ec2dfca679aaa": {
      "model_module": "@jupyter-widgets/base",
      "model_module_version": "2.0.0",
      "model_name": "LayoutModel",
      "state": {
       "_model_module": "@jupyter-widgets/base",
       "_model_module_version": "2.0.0",
       "_model_name": "LayoutModel",
       "_view_count": null,
       "_view_module": "@jupyter-widgets/base",
       "_view_module_version": "2.0.0",
       "_view_name": "LayoutView",
       "align_content": null,
       "align_items": null,
       "align_self": null,
       "border_bottom": null,
       "border_left": null,
       "border_right": null,
       "border_top": null,
       "bottom": null,
       "display": null,
       "flex": null,
       "flex_flow": null,
       "grid_area": null,
       "grid_auto_columns": null,
       "grid_auto_flow": null,
       "grid_auto_rows": null,
       "grid_column": null,
       "grid_gap": null,
       "grid_row": null,
       "grid_template_areas": null,
       "grid_template_columns": null,
       "grid_template_rows": null,
       "height": null,
       "justify_content": null,
       "justify_items": null,
       "left": null,
       "margin": null,
       "max_height": null,
       "max_width": null,
       "min_height": null,
       "min_width": null,
       "object_fit": null,
       "object_position": null,
       "order": null,
       "overflow": null,
       "padding": null,
       "right": null,
       "top": null,
       "visibility": null,
       "width": null
      }
     },
     "af91050a079040cb9a6c250d69c360ae": {
      "model_module": "@jupyter-widgets/controls",
      "model_module_version": "2.0.0",
      "model_name": "HBoxModel",
      "state": {
       "_dom_classes": [],
       "_model_module": "@jupyter-widgets/controls",
       "_model_module_version": "2.0.0",
       "_model_name": "HBoxModel",
       "_view_count": null,
       "_view_module": "@jupyter-widgets/controls",
       "_view_module_version": "2.0.0",
       "_view_name": "HBoxView",
       "box_style": "",
       "children": [
        "IPY_MODEL_7fb544ba12204a80885ed7a13288bb01",
        "IPY_MODEL_b67a8b0e15d848d89c02d2a2fa676a28",
        "IPY_MODEL_f39b422659e54a4ca70f0dd81049e1c1"
       ],
       "layout": "IPY_MODEL_7f35c98c1aac4b7daba7fb34dc8cab86",
       "tabbable": null,
       "tooltip": null
      }
     },
     "b67a8b0e15d848d89c02d2a2fa676a28": {
      "model_module": "@jupyter-widgets/output",
      "model_module_version": "1.0.0",
      "model_name": "OutputModel",
      "state": {
       "_dom_classes": [],
       "_model_module": "@jupyter-widgets/output",
       "_model_module_version": "1.0.0",
       "_model_name": "OutputModel",
       "_view_count": null,
       "_view_module": "@jupyter-widgets/output",
       "_view_module_version": "1.0.0",
       "_view_name": "OutputView",
       "layout": "IPY_MODEL_22dcaf1b1b484f39aab21d297bfe1cc2",
       "msg_id": "",
       "outputs": [
        {
         "data": {
          "text/markdown": "`sparse_state_prep_alias_from_list`",
          "text/plain": "<IPython.core.display.Markdown object>"
         },
         "metadata": {},
         "output_type": "display_data"
        },
        {
         "data": {
          "image/svg+xml": "<svg xmlns=\"http://www.w3.org/2000/svg\" xmlns:xlink=\"http://www.w3.org/1999/xlink\" width=\"448pt\" height=\"314pt\" viewBox=\"0.00 0.00 448.00 314.00\">\n<g id=\"graph0\" class=\"graph\" transform=\"scale(1 1) rotate(0) translate(4 310)\">\n<title>my_graph</title>\n<polygon fill=\"white\" stroke=\"transparent\" points=\"-4,4 -4,-310 444,-310 444,4 -4,4\"/>\n<!-- selection_G0 -->\n<g id=\"node1\" class=\"node\">\n<title>selection_G0</title>\n<text text-anchor=\"middle\" x=\"51.5\" y=\"-284.3\" font-family=\"Times,serif\" font-size=\"14.00\">selection</text>\n</g>\n<!-- SparseStatePreparationAliasSampling -->\n<g id=\"node7\" class=\"node\">\n<title>SparseStatePreparationAliasSampling</title>\n<polygon fill=\"none\" stroke=\"black\" points=\"140,-216 140,-233 300,-233 300,-216 140,-216\"/>\n<text text-anchor=\"start\" x=\"143\" y=\"-222\" font-family=\"Times,serif\" font-size=\"10.00\">SparseStatePreparationAliasSampling</text>\n<polygon fill=\"none\" stroke=\"black\" points=\"140,-195 140,-216 300,-216 300,-195 140,-195\"/>\n<text text-anchor=\"start\" x=\"195.5\" y=\"-201.8\" font-family=\"Times,serif\" font-size=\"14.00\">selection</text>\n<polygon fill=\"none\" stroke=\"black\" points=\"140,-174 140,-195 300,-195 300,-174 140,-174\"/>\n<text text-anchor=\"start\" x=\"191\" y=\"-180.8\" font-family=\"Times,serif\" font-size=\"14.00\">sigma_mu</text>\n<polygon fill=\"none\" stroke=\"black\" points=\"140,-153 140,-174 300,-174 300,-153 140,-153\"/>\n<text text-anchor=\"start\" x=\"184.5\" y=\"-159.8\" font-family=\"Times,serif\" font-size=\"14.00\">sparse_index</text>\n<polygon fill=\"none\" stroke=\"black\" points=\"140,-132 140,-153 300,-153 300,-132 140,-132\"/>\n<text text-anchor=\"start\" x=\"213\" y=\"-138.8\" font-family=\"Times,serif\" font-size=\"14.00\">alt</text>\n<polygon fill=\"none\" stroke=\"black\" points=\"140,-111 140,-132 300,-132 300,-111 140,-111\"/>\n<text text-anchor=\"start\" x=\"207\" y=\"-117.8\" font-family=\"Times,serif\" font-size=\"14.00\">keep</text>\n<polygon fill=\"none\" stroke=\"black\" points=\"140,-90 140,-111 300,-111 300,-90 140,-90\"/>\n<text text-anchor=\"start\" x=\"176.5\" y=\"-96.8\" font-family=\"Times,serif\" font-size=\"14.00\">less_than_equal</text>\n</g>\n<!-- selection_G0&#45;&gt;SparseStatePreparationAliasSampling -->\n<g id=\"edge1\" class=\"edge\">\n<title>selection_G0:e-&gt;SparseStatePreparationAliasSampling:w</title>\n<path fill=\"none\" stroke=\"black\" d=\"M85.5,-288C128.41,-288 97.5,-209.17 137.52,-206.09\"/>\n<ellipse fill=\"black\" stroke=\"black\" cx=\"139\" cy=\"-206.04\" rx=\"1\" ry=\"1\"/>\n<text text-anchor=\"middle\" x=\"121.5\" y=\"-217\" font-family=\"Times,serif\" font-size=\"10.00\">4</text>\n</g>\n<!-- sigma_mu_G9 -->\n<g id=\"node2\" class=\"node\">\n<title>sigma_mu_G9</title>\n<text text-anchor=\"middle\" x=\"51.5\" y=\"-230.3\" font-family=\"Times,serif\" font-size=\"14.00\">sigma_mu</text>\n</g>\n<!-- sigma_mu_G9&#45;&gt;SparseStatePreparationAliasSampling -->\n<g id=\"edge2\" class=\"edge\">\n<title>sigma_mu_G9:e-&gt;SparseStatePreparationAliasSampling:w</title>\n<path fill=\"none\" stroke=\"black\" d=\"M89.5,-234C120.04,-234 109.27,-187.27 137.87,-185.08\"/>\n<ellipse fill=\"black\" stroke=\"black\" cx=\"139\" cy=\"-185.04\" rx=\"1\" ry=\"1\"/>\n<text text-anchor=\"middle\" x=\"121.5\" y=\"-198\" font-family=\"Times,serif\" font-size=\"10.00\">3</text>\n</g>\n<!-- sparse_index_G11 -->\n<g id=\"node3\" class=\"node\">\n<title>sparse_index_G11</title>\n<text text-anchor=\"middle\" x=\"51.5\" y=\"-176.3\" font-family=\"Times,serif\" font-size=\"14.00\">sparse_index</text>\n</g>\n<!-- sparse_index_G11&#45;&gt;SparseStatePreparationAliasSampling -->\n<g id=\"edge3\" class=\"edge\">\n<title>sparse_index_G11:e-&gt;SparseStatePreparationAliasSampling:w</title>\n<path fill=\"none\" stroke=\"black\" d=\"M96.5,-180C116.29,-180 119.19,-165.23 137.67,-164.07\"/>\n<ellipse fill=\"black\" stroke=\"black\" cx=\"139\" cy=\"-164.03\" rx=\"1\" ry=\"1\"/>\n<text text-anchor=\"middle\" x=\"121.5\" y=\"-173\" font-family=\"Times,serif\" font-size=\"10.00\">2</text>\n</g>\n<!-- alt_G3 -->\n<g id=\"node4\" class=\"node\">\n<title>alt_G3</title>\n<text text-anchor=\"middle\" x=\"51.5\" y=\"-122.3\" font-family=\"Times,serif\" font-size=\"14.00\">alt</text>\n</g>\n<!-- alt_G3&#45;&gt;SparseStatePreparationAliasSampling -->\n<g id=\"edge4\" class=\"edge\">\n<title>alt_G3:e-&gt;SparseStatePreparationAliasSampling:w</title>\n<path fill=\"none\" stroke=\"black\" d=\"M79.5,-126C106.55,-126 111.9,-141.14 137.77,-141.96\"/>\n<ellipse fill=\"black\" stroke=\"black\" cx=\"139\" cy=\"-141.98\" rx=\"1\" ry=\"1\"/>\n<text text-anchor=\"middle\" x=\"121.5\" y=\"-141\" font-family=\"Times,serif\" font-size=\"10.00\">4</text>\n</g>\n<!-- keep_G6 -->\n<g id=\"node5\" class=\"node\">\n<title>keep_G6</title>\n<text text-anchor=\"middle\" x=\"51.5\" y=\"-68.3\" font-family=\"Times,serif\" font-size=\"14.00\">keep</text>\n</g>\n<!-- keep_G6&#45;&gt;SparseStatePreparationAliasSampling -->\n<g id=\"edge5\" class=\"edge\">\n<title>keep_G6:e-&gt;SparseStatePreparationAliasSampling:w</title>\n<path fill=\"none\" stroke=\"black\" d=\"M79.5,-72C113.29,-72 105.78,-118.73 137.64,-120.92\"/>\n<ellipse fill=\"black\" stroke=\"black\" cx=\"139\" cy=\"-120.97\" rx=\"1\" ry=\"1\"/>\n<text text-anchor=\"middle\" x=\"121.5\" y=\"-116\" font-family=\"Times,serif\" font-size=\"10.00\">3</text>\n</g>\n<!-- less_than_equal_G1 -->\n<g id=\"node6\" class=\"node\">\n<title>less_than_equal_G1</title>\n<text text-anchor=\"middle\" x=\"51.5\" y=\"-14.3\" font-family=\"Times,serif\" font-size=\"14.00\">less_than_equal</text>\n</g>\n<!-- less_than_equal_G1&#45;&gt;SparseStatePreparationAliasSampling -->\n<g id=\"edge6\" class=\"edge\">\n<title>less_than_equal_G1:e-&gt;SparseStatePreparationAliasSampling:w</title>\n<path fill=\"none\" stroke=\"black\" d=\"M103,-18C142.2,-18 101.66,-96.83 137.75,-99.91\"/>\n<ellipse fill=\"black\" stroke=\"black\" cx=\"139\" cy=\"-99.96\" rx=\"1\" ry=\"1\"/>\n<text text-anchor=\"middle\" x=\"121.5\" y=\"-85\" font-family=\"Times,serif\" font-size=\"10.00\">1</text>\n</g>\n<!-- selection_G17 -->\n<g id=\"node8\" class=\"node\">\n<title>selection_G17</title>\n<text text-anchor=\"middle\" x=\"388.5\" y=\"-284.3\" font-family=\"Times,serif\" font-size=\"14.00\">selection</text>\n</g>\n<!-- SparseStatePreparationAliasSampling&#45;&gt;selection_G17 -->\n<g id=\"edge7\" class=\"edge\">\n<title>SparseStatePreparationAliasSampling:e-&gt;selection_G17:w</title>\n<path fill=\"none\" stroke=\"black\" d=\"M300,-206C342.91,-206 312,-284.83 352.02,-287.91\"/>\n<ellipse fill=\"black\" stroke=\"black\" cx=\"353.5\" cy=\"-287.96\" rx=\"1\" ry=\"1\"/>\n<text text-anchor=\"middle\" x=\"318.5\" y=\"-217\" font-family=\"Times,serif\" font-size=\"10.00\">4</text>\n</g>\n<!-- sigma_mu_G14 -->\n<g id=\"node9\" class=\"node\">\n<title>sigma_mu_G14</title>\n<text text-anchor=\"middle\" x=\"388.5\" y=\"-230.3\" font-family=\"Times,serif\" font-size=\"14.00\">sigma_mu</text>\n</g>\n<!-- SparseStatePreparationAliasSampling&#45;&gt;sigma_mu_G14 -->\n<g id=\"edge8\" class=\"edge\">\n<title>SparseStatePreparationAliasSampling:e-&gt;sigma_mu_G14:w</title>\n<path fill=\"none\" stroke=\"black\" d=\"M300,-185C330.54,-185 319.77,-231.73 348.37,-233.92\"/>\n<ellipse fill=\"black\" stroke=\"black\" cx=\"349.5\" cy=\"-233.96\" rx=\"1\" ry=\"1\"/>\n<text text-anchor=\"middle\" x=\"318.5\" y=\"-198\" font-family=\"Times,serif\" font-size=\"10.00\">3</text>\n</g>\n<!-- sparse_index_G16 -->\n<g id=\"node10\" class=\"node\">\n<title>sparse_index_G16</title>\n<text text-anchor=\"middle\" x=\"388.5\" y=\"-176.3\" font-family=\"Times,serif\" font-size=\"14.00\">sparse_index</text>\n</g>\n<!-- SparseStatePreparationAliasSampling&#45;&gt;sparse_index_G16 -->\n<g id=\"edge9\" class=\"edge\">\n<title>SparseStatePreparationAliasSampling:e-&gt;sparse_index_G16:w</title>\n<path fill=\"none\" stroke=\"black\" d=\"M300,-164C319.79,-164 322.69,-178.77 341.17,-179.93\"/>\n<ellipse fill=\"black\" stroke=\"black\" cx=\"342.5\" cy=\"-179.97\" rx=\"1\" ry=\"1\"/>\n<text text-anchor=\"middle\" x=\"318.5\" y=\"-173\" font-family=\"Times,serif\" font-size=\"10.00\">2</text>\n</g>\n<!-- alt_G7 -->\n<g id=\"node11\" class=\"node\">\n<title>alt_G7</title>\n<text text-anchor=\"middle\" x=\"388.5\" y=\"-122.3\" font-family=\"Times,serif\" font-size=\"14.00\">alt</text>\n</g>\n<!-- SparseStatePreparationAliasSampling&#45;&gt;alt_G7 -->\n<g id=\"edge10\" class=\"edge\">\n<title>SparseStatePreparationAliasSampling:e-&gt;alt_G7:w</title>\n<path fill=\"none\" stroke=\"black\" d=\"M300,-142C327.05,-142 332.4,-126.86 358.27,-126.04\"/>\n<ellipse fill=\"black\" stroke=\"black\" cx=\"359.5\" cy=\"-126.02\" rx=\"1\" ry=\"1\"/>\n<text text-anchor=\"middle\" x=\"318.5\" y=\"-141\" font-family=\"Times,serif\" font-size=\"10.00\">4</text>\n</g>\n<!-- keep_G12 -->\n<g id=\"node12\" class=\"node\">\n<title>keep_G12</title>\n<text text-anchor=\"middle\" x=\"388.5\" y=\"-68.3\" font-family=\"Times,serif\" font-size=\"14.00\">keep</text>\n</g>\n<!-- SparseStatePreparationAliasSampling&#45;&gt;keep_G12 -->\n<g id=\"edge11\" class=\"edge\">\n<title>SparseStatePreparationAliasSampling:e-&gt;keep_G12:w</title>\n<path fill=\"none\" stroke=\"black\" d=\"M300,-121C333.79,-121 326.28,-74.27 358.14,-72.08\"/>\n<ellipse fill=\"black\" stroke=\"black\" cx=\"359.5\" cy=\"-72.03\" rx=\"1\" ry=\"1\"/>\n<text text-anchor=\"middle\" x=\"318.5\" y=\"-116\" font-family=\"Times,serif\" font-size=\"10.00\">3</text>\n</g>\n<!-- less_than_equal_G5 -->\n<g id=\"node13\" class=\"node\">\n<title>less_than_equal_G5</title>\n<text text-anchor=\"middle\" x=\"388.5\" y=\"-14.3\" font-family=\"Times,serif\" font-size=\"14.00\">less_than_equal</text>\n</g>\n<!-- SparseStatePreparationAliasSampling&#45;&gt;less_than_equal_G5 -->\n<g id=\"edge12\" class=\"edge\">\n<title>SparseStatePreparationAliasSampling:e-&gt;less_than_equal_G5:w</title>\n<path fill=\"none\" stroke=\"black\" d=\"M300,-100C339.2,-100 298.66,-21.17 334.75,-18.09\"/>\n<ellipse fill=\"black\" stroke=\"black\" cx=\"336\" cy=\"-18.04\" rx=\"1\" ry=\"1\"/>\n<text text-anchor=\"middle\" x=\"318.5\" y=\"-85\" font-family=\"Times,serif\" font-size=\"10.00\">1</text>\n</g>\n</g>\n</svg>",
          "text/plain": "<IPython.core.display.SVG object>"
         },
         "metadata": {},
         "output_type": "display_data"
        }
       ],
       "tabbable": null,
       "tooltip": null
      }
     },
     "e96578042a66458298eb401010a2d71a": {
      "model_module": "@jupyter-widgets/output",
      "model_module_version": "1.0.0",
      "model_name": "OutputModel",
      "state": {
       "_dom_classes": [],
       "_model_module": "@jupyter-widgets/output",
       "_model_module_version": "1.0.0",
       "_model_name": "OutputModel",
       "_view_count": null,
       "_view_module": "@jupyter-widgets/output",
       "_view_module_version": "1.0.0",
       "_view_name": "OutputView",
       "layout": "IPY_MODEL_5c7304b00fe946afbb55413b5a0aa91c",
       "msg_id": "",
       "outputs": [
        {
         "data": {
          "text/markdown": "`state_prep_alias`",
          "text/plain": "<IPython.core.display.Markdown object>"
         },
         "metadata": {},
         "output_type": "display_data"
        },
        {
         "data": {
          "image/svg+xml": "<svg xmlns=\"http://www.w3.org/2000/svg\" xmlns:xlink=\"http://www.w3.org/1999/xlink\" width=\"422pt\" height=\"260pt\" viewBox=\"0.00 0.00 422.00 260.00\">\n<g id=\"graph0\" class=\"graph\" transform=\"scale(1 1) rotate(0) translate(4 256)\">\n<title>my_graph</title>\n<polygon fill=\"white\" stroke=\"transparent\" points=\"-4,4 -4,-256 418,-256 418,4 -4,4\"/>\n<!-- selection_G5 -->\n<g id=\"node1\" class=\"node\">\n<title>selection_G5</title>\n<text text-anchor=\"middle\" x=\"51.5\" y=\"-230.3\" font-family=\"Times,serif\" font-size=\"14.00\">selection</text>\n</g>\n<!-- StatePreparationAliasSampling -->\n<g id=\"node6\" class=\"node\">\n<title>StatePreparationAliasSampling</title>\n<polygon fill=\"none\" stroke=\"black\" points=\"140,-179 140,-196 274,-196 274,-179 140,-179\"/>\n<text text-anchor=\"start\" x=\"143\" y=\"-185\" font-family=\"Times,serif\" font-size=\"10.00\">StatePreparationAliasSampling</text>\n<polygon fill=\"none\" stroke=\"black\" points=\"140,-158 140,-179 274,-179 274,-158 140,-158\"/>\n<text text-anchor=\"start\" x=\"182.5\" y=\"-164.8\" font-family=\"Times,serif\" font-size=\"14.00\">selection</text>\n<polygon fill=\"none\" stroke=\"black\" points=\"140,-137 140,-158 274,-158 274,-137 140,-137\"/>\n<text text-anchor=\"start\" x=\"178\" y=\"-143.8\" font-family=\"Times,serif\" font-size=\"14.00\">sigma_mu</text>\n<polygon fill=\"none\" stroke=\"black\" points=\"140,-116 140,-137 274,-137 274,-116 140,-116\"/>\n<text text-anchor=\"start\" x=\"200\" y=\"-122.8\" font-family=\"Times,serif\" font-size=\"14.00\">alt</text>\n<polygon fill=\"none\" stroke=\"black\" points=\"140,-95 140,-116 274,-116 274,-95 140,-95\"/>\n<text text-anchor=\"start\" x=\"194\" y=\"-101.8\" font-family=\"Times,serif\" font-size=\"14.00\">keep</text>\n<polygon fill=\"none\" stroke=\"black\" points=\"140,-74 140,-95 274,-95 274,-74 140,-74\"/>\n<text text-anchor=\"start\" x=\"163.5\" y=\"-80.8\" font-family=\"Times,serif\" font-size=\"14.00\">less_than_equal</text>\n</g>\n<!-- selection_G5&#45;&gt;StatePreparationAliasSampling -->\n<g id=\"edge1\" class=\"edge\">\n<title>selection_G5:e-&gt;StatePreparationAliasSampling:w</title>\n<path fill=\"none\" stroke=\"black\" d=\"M85.5,-234C122.46,-234 103.09,-171.51 137.86,-169.07\"/>\n<ellipse fill=\"black\" stroke=\"black\" cx=\"139\" cy=\"-169.03\" rx=\"1\" ry=\"1\"/>\n<text text-anchor=\"middle\" x=\"121.5\" y=\"-181\" font-family=\"Times,serif\" font-size=\"10.00\">2</text>\n</g>\n<!-- sigma_mu_G1 -->\n<g id=\"node2\" class=\"node\">\n<title>sigma_mu_G1</title>\n<text text-anchor=\"middle\" x=\"51.5\" y=\"-176.3\" font-family=\"Times,serif\" font-size=\"14.00\">sigma_mu</text>\n</g>\n<!-- sigma_mu_G1&#45;&gt;StatePreparationAliasSampling -->\n<g id=\"edge2\" class=\"edge\">\n<title>sigma_mu_G1:e-&gt;StatePreparationAliasSampling:w</title>\n<path fill=\"none\" stroke=\"black\" d=\"M89.5,-180C115.34,-180 113.55,-149.73 137.88,-148.07\"/>\n<ellipse fill=\"black\" stroke=\"black\" cx=\"139\" cy=\"-148.03\" rx=\"1\" ry=\"1\"/>\n<text text-anchor=\"middle\" x=\"121.5\" y=\"-158\" font-family=\"Times,serif\" font-size=\"10.00\">3</text>\n</g>\n<!-- alt_G7 -->\n<g id=\"node3\" class=\"node\">\n<title>alt_G7</title>\n<text text-anchor=\"middle\" x=\"51.5\" y=\"-122.3\" font-family=\"Times,serif\" font-size=\"14.00\">alt</text>\n</g>\n<!-- alt_G7&#45;&gt;StatePreparationAliasSampling -->\n<g id=\"edge3\" class=\"edge\">\n<title>alt_G7:e-&gt;StatePreparationAliasSampling:w</title>\n<path fill=\"none\" stroke=\"black\" d=\"M79.5,-126C105.65,-126 112.73,-126 137.84,-126\"/>\n<ellipse fill=\"black\" stroke=\"black\" cx=\"139\" cy=\"-126\" rx=\"1\" ry=\"1\"/>\n<text text-anchor=\"middle\" x=\"121.5\" y=\"-129\" font-family=\"Times,serif\" font-size=\"10.00\">2</text>\n</g>\n<!-- keep_G0 -->\n<g id=\"node4\" class=\"node\">\n<title>keep_G0</title>\n<text text-anchor=\"middle\" x=\"51.5\" y=\"-68.3\" font-family=\"Times,serif\" font-size=\"14.00\">keep</text>\n</g>\n<!-- keep_G0&#45;&gt;StatePreparationAliasSampling -->\n<g id=\"edge4\" class=\"edge\">\n<title>keep_G0:e-&gt;StatePreparationAliasSampling:w</title>\n<path fill=\"none\" stroke=\"black\" d=\"M79.5,-72C109.41,-72 109.39,-103.47 137.9,-104.95\"/>\n<ellipse fill=\"black\" stroke=\"black\" cx=\"139\" cy=\"-104.97\" rx=\"1\" ry=\"1\"/>\n<text text-anchor=\"middle\" x=\"121.5\" y=\"-102\" font-family=\"Times,serif\" font-size=\"10.00\">3</text>\n</g>\n<!-- less_than_equal_G2 -->\n<g id=\"node5\" class=\"node\">\n<title>less_than_equal_G2</title>\n<text text-anchor=\"middle\" x=\"51.5\" y=\"-14.3\" font-family=\"Times,serif\" font-size=\"14.00\">less_than_equal</text>\n</g>\n<!-- less_than_equal_G2&#45;&gt;StatePreparationAliasSampling -->\n<g id=\"edge5\" class=\"edge\">\n<title>less_than_equal_G2:e-&gt;StatePreparationAliasSampling:w</title>\n<path fill=\"none\" stroke=\"black\" d=\"M103,-18C135.84,-18 107.75,-80.94 137.74,-83.89\"/>\n<ellipse fill=\"black\" stroke=\"black\" cx=\"139\" cy=\"-83.95\" rx=\"1\" ry=\"1\"/>\n<text text-anchor=\"middle\" x=\"121.5\" y=\"-62\" font-family=\"Times,serif\" font-size=\"10.00\">1</text>\n</g>\n<!-- selection_G14 -->\n<g id=\"node7\" class=\"node\">\n<title>selection_G14</title>\n<text text-anchor=\"middle\" x=\"362.5\" y=\"-230.3\" font-family=\"Times,serif\" font-size=\"14.00\">selection</text>\n</g>\n<!-- StatePreparationAliasSampling&#45;&gt;selection_G14 -->\n<g id=\"edge6\" class=\"edge\">\n<title>StatePreparationAliasSampling:e-&gt;selection_G14:w</title>\n<path fill=\"none\" stroke=\"black\" d=\"M274,-169C310.96,-169 291.59,-231.49 326.36,-233.93\"/>\n<ellipse fill=\"black\" stroke=\"black\" cx=\"327.5\" cy=\"-233.97\" rx=\"1\" ry=\"1\"/>\n<text text-anchor=\"middle\" x=\"292.5\" y=\"-181\" font-family=\"Times,serif\" font-size=\"10.00\">2</text>\n</g>\n<!-- sigma_mu_G11 -->\n<g id=\"node8\" class=\"node\">\n<title>sigma_mu_G11</title>\n<text text-anchor=\"middle\" x=\"362.5\" y=\"-176.3\" font-family=\"Times,serif\" font-size=\"14.00\">sigma_mu</text>\n</g>\n<!-- StatePreparationAliasSampling&#45;&gt;sigma_mu_G11 -->\n<g id=\"edge7\" class=\"edge\">\n<title>StatePreparationAliasSampling:e-&gt;sigma_mu_G11:w</title>\n<path fill=\"none\" stroke=\"black\" d=\"M274,-148C299.84,-148 298.05,-178.27 322.38,-179.93\"/>\n<ellipse fill=\"black\" stroke=\"black\" cx=\"323.5\" cy=\"-179.97\" rx=\"1\" ry=\"1\"/>\n<text text-anchor=\"middle\" x=\"292.5\" y=\"-158\" font-family=\"Times,serif\" font-size=\"10.00\">3</text>\n</g>\n<!-- alt_G10 -->\n<g id=\"node9\" class=\"node\">\n<title>alt_G10</title>\n<text text-anchor=\"middle\" x=\"362.5\" y=\"-122.3\" font-family=\"Times,serif\" font-size=\"14.00\">alt</text>\n</g>\n<!-- StatePreparationAliasSampling&#45;&gt;alt_G10 -->\n<g id=\"edge8\" class=\"edge\">\n<title>StatePreparationAliasSampling:e-&gt;alt_G10:w</title>\n<path fill=\"none\" stroke=\"black\" d=\"M274,-126C300.15,-126 307.23,-126 332.34,-126\"/>\n<ellipse fill=\"black\" stroke=\"black\" cx=\"333.5\" cy=\"-126\" rx=\"1\" ry=\"1\"/>\n<text text-anchor=\"middle\" x=\"292.5\" y=\"-129\" font-family=\"Times,serif\" font-size=\"10.00\">2</text>\n</g>\n<!-- keep_G6 -->\n<g id=\"node10\" class=\"node\">\n<title>keep_G6</title>\n<text text-anchor=\"middle\" x=\"362.5\" y=\"-68.3\" font-family=\"Times,serif\" font-size=\"14.00\">keep</text>\n</g>\n<!-- StatePreparationAliasSampling&#45;&gt;keep_G6 -->\n<g id=\"edge9\" class=\"edge\">\n<title>StatePreparationAliasSampling:e-&gt;keep_G6:w</title>\n<path fill=\"none\" stroke=\"black\" d=\"M274,-105C303.91,-105 303.89,-73.53 332.4,-72.05\"/>\n<ellipse fill=\"black\" stroke=\"black\" cx=\"333.5\" cy=\"-72.03\" rx=\"1\" ry=\"1\"/>\n<text text-anchor=\"middle\" x=\"292.5\" y=\"-102\" font-family=\"Times,serif\" font-size=\"10.00\">3</text>\n</g>\n<!-- less_than_equal_G9 -->\n<g id=\"node11\" class=\"node\">\n<title>less_than_equal_G9</title>\n<text text-anchor=\"middle\" x=\"362.5\" y=\"-14.3\" font-family=\"Times,serif\" font-size=\"14.00\">less_than_equal</text>\n</g>\n<!-- StatePreparationAliasSampling&#45;&gt;less_than_equal_G9 -->\n<g id=\"edge10\" class=\"edge\">\n<title>StatePreparationAliasSampling:e-&gt;less_than_equal_G9:w</title>\n<path fill=\"none\" stroke=\"black\" d=\"M274,-84C306.84,-84 278.75,-21.06 308.74,-18.11\"/>\n<ellipse fill=\"black\" stroke=\"black\" cx=\"310\" cy=\"-18.05\" rx=\"1\" ry=\"1\"/>\n<text text-anchor=\"middle\" x=\"292.5\" y=\"-62\" font-family=\"Times,serif\" font-size=\"10.00\">1</text>\n</g>\n</g>\n</svg>",
          "text/plain": "<IPython.core.display.SVG object>"
         },
         "metadata": {},
         "output_type": "display_data"
        }
       ],
       "tabbable": null,
       "tooltip": null
      }
     },
     "f39b422659e54a4ca70f0dd81049e1c1": {
      "model_module": "@jupyter-widgets/output",
      "model_module_version": "1.0.0",
      "model_name": "OutputModel",
      "state": {
       "_dom_classes": [],
       "_model_module": "@jupyter-widgets/output",
       "_model_module_version": "1.0.0",
       "_model_name": "OutputModel",
       "_view_count": null,
       "_view_module": "@jupyter-widgets/output",
       "_view_module_version": "1.0.0",
       "_view_name": "OutputView",
       "layout": "IPY_MODEL_765b0d46b1174019a21e4b77a1a3cf3f",
       "msg_id": "",
       "outputs": [
        {
         "data": {
          "text/markdown": "`sparse_state_prep_alias_symb`",
          "text/plain": "<IPython.core.display.Markdown object>"
         },
         "metadata": {},
         "output_type": "display_data"
        },
        {
         "data": {
          "image/svg+xml": "<svg xmlns=\"http://www.w3.org/2000/svg\" xmlns:xlink=\"http://www.w3.org/1999/xlink\" width=\"448pt\" height=\"314pt\" viewBox=\"0.00 0.00 448.00 314.00\">\n<g id=\"graph0\" class=\"graph\" transform=\"scale(1 1) rotate(0) translate(4 310)\">\n<title>my_graph</title>\n<polygon fill=\"white\" stroke=\"transparent\" points=\"-4,4 -4,-310 444,-310 444,4 -4,4\"/>\n<!-- selection_G0 -->\n<g id=\"node1\" class=\"node\">\n<title>selection_G0</title>\n<text text-anchor=\"middle\" x=\"51.5\" y=\"-284.3\" font-family=\"Times,serif\" font-size=\"14.00\">selection</text>\n</g>\n<!-- SparseStatePreparationAliasSampling -->\n<g id=\"node7\" class=\"node\">\n<title>SparseStatePreparationAliasSampling</title>\n<polygon fill=\"none\" stroke=\"black\" points=\"140,-216 140,-233 300,-233 300,-216 140,-216\"/>\n<text text-anchor=\"start\" x=\"143\" y=\"-222\" font-family=\"Times,serif\" font-size=\"10.00\">SparseStatePreparationAliasSampling</text>\n<polygon fill=\"none\" stroke=\"black\" points=\"140,-195 140,-216 300,-216 300,-195 140,-195\"/>\n<text text-anchor=\"start\" x=\"195.5\" y=\"-201.8\" font-family=\"Times,serif\" font-size=\"14.00\">selection</text>\n<polygon fill=\"none\" stroke=\"black\" points=\"140,-174 140,-195 300,-195 300,-174 140,-174\"/>\n<text text-anchor=\"start\" x=\"191\" y=\"-180.8\" font-family=\"Times,serif\" font-size=\"14.00\">sigma_mu</text>\n<polygon fill=\"none\" stroke=\"black\" points=\"140,-153 140,-174 300,-174 300,-153 140,-153\"/>\n<text text-anchor=\"start\" x=\"184.5\" y=\"-159.8\" font-family=\"Times,serif\" font-size=\"14.00\">sparse_index</text>\n<polygon fill=\"none\" stroke=\"black\" points=\"140,-132 140,-153 300,-153 300,-132 140,-132\"/>\n<text text-anchor=\"start\" x=\"213\" y=\"-138.8\" font-family=\"Times,serif\" font-size=\"14.00\">alt</text>\n<polygon fill=\"none\" stroke=\"black\" points=\"140,-111 140,-132 300,-132 300,-111 140,-111\"/>\n<text text-anchor=\"start\" x=\"207\" y=\"-117.8\" font-family=\"Times,serif\" font-size=\"14.00\">keep</text>\n<polygon fill=\"none\" stroke=\"black\" points=\"140,-90 140,-111 300,-111 300,-90 140,-90\"/>\n<text text-anchor=\"start\" x=\"176.5\" y=\"-96.8\" font-family=\"Times,serif\" font-size=\"14.00\">less_than_equal</text>\n</g>\n<!-- selection_G0&#45;&gt;SparseStatePreparationAliasSampling -->\n<g id=\"edge1\" class=\"edge\">\n<title>selection_G0:e-&gt;SparseStatePreparationAliasSampling:w</title>\n<path fill=\"none\" stroke=\"black\" d=\"M85.5,-288C128.41,-288 97.5,-209.17 137.52,-206.09\"/>\n<ellipse fill=\"black\" stroke=\"black\" cx=\"139\" cy=\"-206.04\" rx=\"1\" ry=\"1\"/>\n<text text-anchor=\"middle\" x=\"121.5\" y=\"-217\" font-family=\"Times,serif\" font-size=\"10.00\">ceiling(log2(floor(L)))</text>\n</g>\n<!-- sigma_mu_G17 -->\n<g id=\"node2\" class=\"node\">\n<title>sigma_mu_G17</title>\n<text text-anchor=\"middle\" x=\"51.5\" y=\"-230.3\" font-family=\"Times,serif\" font-size=\"14.00\">sigma_mu</text>\n</g>\n<!-- sigma_mu_G17&#45;&gt;SparseStatePreparationAliasSampling -->\n<g id=\"edge2\" class=\"edge\">\n<title>sigma_mu_G17:e-&gt;SparseStatePreparationAliasSampling:w</title>\n<path fill=\"none\" stroke=\"black\" d=\"M89.5,-234C120.04,-234 109.27,-187.27 137.87,-185.08\"/>\n<ellipse fill=\"black\" stroke=\"black\" cx=\"139\" cy=\"-185.04\" rx=\"1\" ry=\"1\"/>\n<text text-anchor=\"middle\" x=\"121.5\" y=\"-198\" font-family=\"Times,serif\" font-size=\"10.00\">ceiling(log2(1/(L*epsilon)))</text>\n</g>\n<!-- sparse_index_G16 -->\n<g id=\"node3\" class=\"node\">\n<title>sparse_index_G16</title>\n<text text-anchor=\"middle\" x=\"51.5\" y=\"-176.3\" font-family=\"Times,serif\" font-size=\"14.00\">sparse_index</text>\n</g>\n<!-- sparse_index_G16&#45;&gt;SparseStatePreparationAliasSampling -->\n<g id=\"edge3\" class=\"edge\">\n<title>sparse_index_G16:e-&gt;SparseStatePreparationAliasSampling:w</title>\n<path fill=\"none\" stroke=\"black\" d=\"M96.5,-180C116.29,-180 119.19,-165.23 137.67,-164.07\"/>\n<ellipse fill=\"black\" stroke=\"black\" cx=\"139\" cy=\"-164.03\" rx=\"1\" ry=\"1\"/>\n<text text-anchor=\"middle\" x=\"121.5\" y=\"-173\" font-family=\"Times,serif\" font-size=\"10.00\">ceiling(log2(floor(d)))</text>\n</g>\n<!-- alt_G11 -->\n<g id=\"node4\" class=\"node\">\n<title>alt_G11</title>\n<text text-anchor=\"middle\" x=\"51.5\" y=\"-122.3\" font-family=\"Times,serif\" font-size=\"14.00\">alt</text>\n</g>\n<!-- alt_G11&#45;&gt;SparseStatePreparationAliasSampling -->\n<g id=\"edge4\" class=\"edge\">\n<title>alt_G11:e-&gt;SparseStatePreparationAliasSampling:w</title>\n<path fill=\"none\" stroke=\"black\" d=\"M79.5,-126C106.55,-126 111.9,-141.14 137.77,-141.96\"/>\n<ellipse fill=\"black\" stroke=\"black\" cx=\"139\" cy=\"-141.98\" rx=\"1\" ry=\"1\"/>\n<text text-anchor=\"middle\" x=\"121.5\" y=\"-141\" font-family=\"Times,serif\" font-size=\"10.00\">ceiling(log2(floor(L)))</text>\n</g>\n<!-- keep_G12 -->\n<g id=\"node5\" class=\"node\">\n<title>keep_G12</title>\n<text text-anchor=\"middle\" x=\"51.5\" y=\"-68.3\" font-family=\"Times,serif\" font-size=\"14.00\">keep</text>\n</g>\n<!-- keep_G12&#45;&gt;SparseStatePreparationAliasSampling -->\n<g id=\"edge5\" class=\"edge\">\n<title>keep_G12:e-&gt;SparseStatePreparationAliasSampling:w</title>\n<path fill=\"none\" stroke=\"black\" d=\"M79.5,-72C113.29,-72 105.78,-118.73 137.64,-120.92\"/>\n<ellipse fill=\"black\" stroke=\"black\" cx=\"139\" cy=\"-120.97\" rx=\"1\" ry=\"1\"/>\n<text text-anchor=\"middle\" x=\"121.5\" y=\"-116\" font-family=\"Times,serif\" font-size=\"10.00\">ceiling(log2(1/(L*epsilon)))</text>\n</g>\n<!-- less_than_equal_G3 -->\n<g id=\"node6\" class=\"node\">\n<title>less_than_equal_G3</title>\n<text text-anchor=\"middle\" x=\"51.5\" y=\"-14.3\" font-family=\"Times,serif\" font-size=\"14.00\">less_than_equal</text>\n</g>\n<!-- less_than_equal_G3&#45;&gt;SparseStatePreparationAliasSampling -->\n<g id=\"edge6\" class=\"edge\">\n<title>less_than_equal_G3:e-&gt;SparseStatePreparationAliasSampling:w</title>\n<path fill=\"none\" stroke=\"black\" d=\"M103,-18C142.2,-18 101.66,-96.83 137.75,-99.91\"/>\n<ellipse fill=\"black\" stroke=\"black\" cx=\"139\" cy=\"-99.96\" rx=\"1\" ry=\"1\"/>\n<text text-anchor=\"middle\" x=\"121.5\" y=\"-85\" font-family=\"Times,serif\" font-size=\"10.00\">1</text>\n</g>\n<!-- selection_G2 -->\n<g id=\"node8\" class=\"node\">\n<title>selection_G2</title>\n<text text-anchor=\"middle\" x=\"388.5\" y=\"-284.3\" font-family=\"Times,serif\" font-size=\"14.00\">selection</text>\n</g>\n<!-- SparseStatePreparationAliasSampling&#45;&gt;selection_G2 -->\n<g id=\"edge7\" class=\"edge\">\n<title>SparseStatePreparationAliasSampling:e-&gt;selection_G2:w</title>\n<path fill=\"none\" stroke=\"black\" d=\"M300,-206C342.91,-206 312,-284.83 352.02,-287.91\"/>\n<ellipse fill=\"black\" stroke=\"black\" cx=\"353.5\" cy=\"-287.96\" rx=\"1\" ry=\"1\"/>\n<text text-anchor=\"middle\" x=\"318.5\" y=\"-217\" font-family=\"Times,serif\" font-size=\"10.00\">ceiling(log2(floor(L)))</text>\n</g>\n<!-- sigma_mu_G7 -->\n<g id=\"node9\" class=\"node\">\n<title>sigma_mu_G7</title>\n<text text-anchor=\"middle\" x=\"388.5\" y=\"-230.3\" font-family=\"Times,serif\" font-size=\"14.00\">sigma_mu</text>\n</g>\n<!-- SparseStatePreparationAliasSampling&#45;&gt;sigma_mu_G7 -->\n<g id=\"edge8\" class=\"edge\">\n<title>SparseStatePreparationAliasSampling:e-&gt;sigma_mu_G7:w</title>\n<path fill=\"none\" stroke=\"black\" d=\"M300,-185C330.54,-185 319.77,-231.73 348.37,-233.92\"/>\n<ellipse fill=\"black\" stroke=\"black\" cx=\"349.5\" cy=\"-233.96\" rx=\"1\" ry=\"1\"/>\n<text text-anchor=\"middle\" x=\"318.5\" y=\"-198\" font-family=\"Times,serif\" font-size=\"10.00\">ceiling(log2(1/(L*epsilon)))</text>\n</g>\n<!-- sparse_index_G4 -->\n<g id=\"node10\" class=\"node\">\n<title>sparse_index_G4</title>\n<text text-anchor=\"middle\" x=\"388.5\" y=\"-176.3\" font-family=\"Times,serif\" font-size=\"14.00\">sparse_index</text>\n</g>\n<!-- SparseStatePreparationAliasSampling&#45;&gt;sparse_index_G4 -->\n<g id=\"edge9\" class=\"edge\">\n<title>SparseStatePreparationAliasSampling:e-&gt;sparse_index_G4:w</title>\n<path fill=\"none\" stroke=\"black\" d=\"M300,-164C319.79,-164 322.69,-178.77 341.17,-179.93\"/>\n<ellipse fill=\"black\" stroke=\"black\" cx=\"342.5\" cy=\"-179.97\" rx=\"1\" ry=\"1\"/>\n<text text-anchor=\"middle\" x=\"318.5\" y=\"-173\" font-family=\"Times,serif\" font-size=\"10.00\">ceiling(log2(floor(d)))</text>\n</g>\n<!-- alt_G10 -->\n<g id=\"node11\" class=\"node\">\n<title>alt_G10</title>\n<text text-anchor=\"middle\" x=\"388.5\" y=\"-122.3\" font-family=\"Times,serif\" font-size=\"14.00\">alt</text>\n</g>\n<!-- SparseStatePreparationAliasSampling&#45;&gt;alt_G10 -->\n<g id=\"edge10\" class=\"edge\">\n<title>SparseStatePreparationAliasSampling:e-&gt;alt_G10:w</title>\n<path fill=\"none\" stroke=\"black\" d=\"M300,-142C327.05,-142 332.4,-126.86 358.27,-126.04\"/>\n<ellipse fill=\"black\" stroke=\"black\" cx=\"359.5\" cy=\"-126.02\" rx=\"1\" ry=\"1\"/>\n<text text-anchor=\"middle\" x=\"318.5\" y=\"-141\" font-family=\"Times,serif\" font-size=\"10.00\">ceiling(log2(floor(L)))</text>\n</g>\n<!-- keep_G14 -->\n<g id=\"node12\" class=\"node\">\n<title>keep_G14</title>\n<text text-anchor=\"middle\" x=\"388.5\" y=\"-68.3\" font-family=\"Times,serif\" font-size=\"14.00\">keep</text>\n</g>\n<!-- SparseStatePreparationAliasSampling&#45;&gt;keep_G14 -->\n<g id=\"edge11\" class=\"edge\">\n<title>SparseStatePreparationAliasSampling:e-&gt;keep_G14:w</title>\n<path fill=\"none\" stroke=\"black\" d=\"M300,-121C333.79,-121 326.28,-74.27 358.14,-72.08\"/>\n<ellipse fill=\"black\" stroke=\"black\" cx=\"359.5\" cy=\"-72.03\" rx=\"1\" ry=\"1\"/>\n<text text-anchor=\"middle\" x=\"318.5\" y=\"-116\" font-family=\"Times,serif\" font-size=\"10.00\">ceiling(log2(1/(L*epsilon)))</text>\n</g>\n<!-- less_than_equal_G9 -->\n<g id=\"node13\" class=\"node\">\n<title>less_than_equal_G9</title>\n<text text-anchor=\"middle\" x=\"388.5\" y=\"-14.3\" font-family=\"Times,serif\" font-size=\"14.00\">less_than_equal</text>\n</g>\n<!-- SparseStatePreparationAliasSampling&#45;&gt;less_than_equal_G9 -->\n<g id=\"edge12\" class=\"edge\">\n<title>SparseStatePreparationAliasSampling:e-&gt;less_than_equal_G9:w</title>\n<path fill=\"none\" stroke=\"black\" d=\"M300,-100C339.2,-100 298.66,-21.17 334.75,-18.09\"/>\n<ellipse fill=\"black\" stroke=\"black\" cx=\"336\" cy=\"-18.04\" rx=\"1\" ry=\"1\"/>\n<text text-anchor=\"middle\" x=\"318.5\" y=\"-85\" font-family=\"Times,serif\" font-size=\"10.00\">1</text>\n</g>\n</g>\n</svg>",
          "text/plain": "<IPython.core.display.SVG object>"
         },
         "metadata": {},
         "output_type": "display_data"
        }
       ],
       "tabbable": null,
       "tooltip": null
      }
     }
    },
    "version_major": 2,
    "version_minor": 0
   }
  }
 },
 "nbformat": 4,
 "nbformat_minor": 5
}
