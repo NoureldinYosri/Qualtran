{
 "cells": [
  {
   "cell_type": "markdown",
   "id": "0b54e6c7",
   "metadata": {
    "cq.autogen": "title_cell"
   },
   "source": [
    "# State Preparation via Alias Sampling\n",
    "\n",
    "Gates for preparing coefficient states.\n",
    "\n",
    "In section III.D. of the [Linear T paper](https://arxiv.org/abs/1805.03662) the authors introduce\n",
    "a technique for initializing a state with $L$ unique coefficients (provided by a classical\n",
    "database) with a number of T gates scaling as 4L + O(log(1/eps)) where eps is the\n",
    "largest absolute error that one can tolerate in the prepared amplitudes."
   ]
  },
  {
   "cell_type": "code",
   "execution_count": 1,
   "id": "40df8d85",
   "metadata": {
    "cq.autogen": "top_imports"
   },
   "outputs": [],
   "source": [
    "from qualtran import Bloq, CompositeBloq, BloqBuilder, Signature, Register\n",
    "from qualtran import QBit, QInt, QUInt, QAny\n",
    "from qualtran.drawing import show_bloq, show_call_graph, show_counts_sigma\n",
    "from typing import *\n",
    "import numpy as np\n",
    "import sympy\n",
    "import cirq"
   ]
  },
  {
   "cell_type": "markdown",
   "id": "375acf91",
   "metadata": {
    "cq.autogen": "StatePreparationAliasSampling.bloq_doc.md"
   },
   "source": [
    "## `StatePreparationAliasSampling`\n",
    "Initialize a state with $L$ unique coefficients using coherent alias sampling.\n",
    "\n",
    "In particular, we take the zero state to:\n",
    "\n",
    "$$\n",
    "\\sum_{\\ell=0}^{L-1} \\sqrt{p_\\ell} |\\ell\\rangle |\\mathrm{temp}_\\ell\\rangle\n",
    "$$\n",
    "\n",
    "where the probabilities $p_\\ell$ are $\\mu$-bit binary approximations to the true values and\n",
    "where the temporary register must be treated with care, see the details in Section III.D. of\n",
    "the reference.\n",
    "\n",
    "The preparation is equivalent to [classical alias sampling]\n",
    "(https://en.wikipedia.org/wiki/Alias_method): we sample `l` with probability `p[l]` by first\n",
    "selecting `l` uniformly at random and then returning it with probability `keep[l] / 2**mu`;\n",
    "otherwise returning `alt[l]`.\n",
    "\n",
    "Signature:\n",
    "    selection: The input/output register $|\\ell\\rangle$ of size lg(L) where the desired\n",
    "        coefficient state is prepared.\n",
    "    temp: Work space comprised of sub signature:\n",
    "        - sigma: A mu-sized register containing uniform probabilities for comparison against\n",
    "            `keep`.\n",
    "        - alt: A lg(L)-sized register of alternate indices\n",
    "        - keep: a mu-sized register of probabilities of keeping the initially sampled index.\n",
    "        - one bit for the result of the comparison.\n",
    "\n",
    "This gate corresponds to the following operations:\n",
    " - UNIFORM_L on the selection register\n",
    " - H^mu on the sigma register\n",
    " - QROM addressed by the selection register into the alt and keep signature.\n",
    " - LessThanEqualGate comparing the keep and sigma signature.\n",
    " - Coherent swap between the selection register and alt register if the comparison\n",
    "   returns True.\n",
    "\n",
    "Total space will be (2 * log(L) + 2 mu + 1) work qubits + log(L) ancillas for QROM.\n",
    "The 1 ancilla in work qubits is for the `LessThanEqualGate` followed by coherent swap.\n",
    "\n",
    "#### References\n",
    " - [Encoding Electronic Spectra in Quantum Circuits with Linear T Complexity](https://arxiv.org/abs/1805.03662). Babbush et. al. (2018). Section III.D. and Figure 11.\n"
   ]
  },
  {
   "cell_type": "code",
   "execution_count": 2,
   "id": "4383c10a",
   "metadata": {
    "cq.autogen": "StatePreparationAliasSampling.bloq_doc.py"
   },
   "outputs": [],
   "source": [
    "from qualtran.bloqs.state_preparation import StatePreparationAliasSampling"
   ]
  },
  {
   "cell_type": "markdown",
   "id": "b7943612",
   "metadata": {
    "cq.autogen": "StatePreparationAliasSampling.example_instances.md"
   },
   "source": [
    "### Example Instances"
   ]
  },
  {
   "cell_type": "code",
   "execution_count": 3,
   "id": "0f939ef0",
   "metadata": {
    "cq.autogen": "StatePreparationAliasSampling.state_prep_alias"
   },
   "outputs": [],
   "source": [
    "coeffs = [1.0, 1, 3, 2]\n",
    "mu = 3\n",
    "state_prep_alias = StatePreparationAliasSampling.from_lcu_probs(\n",
    "    coeffs, probability_epsilon=2**-mu / len(coeffs)\n",
    ")"
   ]
  },
  {
   "cell_type": "code",
   "execution_count": 4,
   "id": "717afc71",
   "metadata": {
    "cq.autogen": "StatePreparationAliasSampling.state_prep_alias_symb"
   },
   "outputs": [],
   "source": [
    "import sympy\n",
    "\n",
    "n_coeffs, sum_coeff, eps = sympy.symbols(r\"L S \\epsilon\")\n",
    "state_prep_alias_symb = StatePreparationAliasSampling.from_n_coeff(\n",
    "    n_coeffs, sum_coeff, probability_epsilon=eps\n",
    ")"
   ]
  },
  {
   "cell_type": "markdown",
   "id": "75ef3e40",
   "metadata": {
    "cq.autogen": "StatePreparationAliasSampling.graphical_signature.md"
   },
   "source": [
    "#### Graphical Signature"
   ]
  },
  {
   "cell_type": "code",
   "execution_count": 5,
   "id": "c014ed7a",
   "metadata": {
    "cq.autogen": "StatePreparationAliasSampling.graphical_signature.py"
   },
   "outputs": [
    {
     "data": {
      "application/vnd.jupyter.widget-view+json": {
       "model_id": "671739a4d8aa49168784fc0ccb384c01",
       "version_major": 2,
       "version_minor": 0
      },
      "text/plain": [
       "HBox(children=(Output(outputs=({'output_type': 'display_data', 'data': {'text/plain': '<IPython.core.display.M…"
      ]
     },
     "metadata": {},
     "output_type": "display_data"
    }
   ],
   "source": [
    "from qualtran.drawing import show_bloqs\n",
    "show_bloqs([state_prep_alias, state_prep_alias_symb],\n",
    "           ['`state_prep_alias`', '`state_prep_alias_symb`'])"
   ]
  },
  {
   "cell_type": "markdown",
   "id": "9e7748f0",
   "metadata": {
    "cq.autogen": "StatePreparationAliasSampling.call_graph.md"
   },
   "source": [
    "### Call Graph"
   ]
  },
  {
   "cell_type": "code",
   "execution_count": 6,
   "id": "ca170386",
   "metadata": {
    "cq.autogen": "StatePreparationAliasSampling.call_graph.py"
   },
   "outputs": [
    {
     "data": {
      "image/svg+xml": [
       "<svg xmlns=\"http://www.w3.org/2000/svg\" xmlns:xlink=\"http://www.w3.org/1999/xlink\" width=\"1274pt\" height=\"131pt\" viewBox=\"0.00 0.00 1273.50 131.00\">\n",
       "<g id=\"graph0\" class=\"graph\" transform=\"scale(1 1) rotate(0) translate(4 127)\">\n",
       "<title>counts</title>\n",
       "<polygon fill=\"white\" stroke=\"transparent\" points=\"-4,4 -4,-127 1269.5,-127 1269.5,4 -4,4\"/>\n",
       "<!-- b0 -->\n",
       "<g id=\"node1\" class=\"node\">\n",
       "<title>b0</title>\n",
       "<polygon fill=\"none\" stroke=\"black\" points=\"946.5,-123 341.5,-123 341.5,-87 946.5,-87 946.5,-123\"/>\n",
       "<text text-anchor=\"start\" x=\"558.5\" y=\"-106.8\" font-family=\"Times,serif\" font-size=\"14.00\">StatePreparationAliasSampling</text>\n",
       "<text text-anchor=\"start\" x=\"349.5\" y=\"-96\" font-family=\"monospace\" font-size=\"10.00\">selection_registers=(Registe ..., alt=array([2 ..., keep=array([5 ..., mu=3, sum_of_lcu_coeffs=7.0</text>\n",
       "</g>\n",
       "<!-- b1 -->\n",
       "<g id=\"node2\" class=\"node\">\n",
       "<title>b1</title>\n",
       "<polygon fill=\"none\" stroke=\"black\" points=\"74,-36 0,-36 0,0 74,0 74,-36\"/>\n",
       "<text text-anchor=\"start\" x=\"8\" y=\"-14.3\" font-family=\"Times,serif\" font-size=\"14.00\">Hadamard</text>\n",
       "</g>\n",
       "<!-- b0&#45;&gt;b1 -->\n",
       "<g id=\"edge1\" class=\"edge\">\n",
       "<title>b0-&gt;b1</title>\n",
       "<path fill=\"none\" stroke=\"black\" d=\"M400.52,-86.97C304.03,-77.09 192.38,-61.75 83.99,-35.93\"/>\n",
       "<polygon fill=\"black\" stroke=\"black\" points=\"84.72,-32.51 74.18,-33.57 83.08,-39.32 84.72,-32.51\"/>\n",
       "<text text-anchor=\"middle\" x=\"254.5\" y=\"-57.8\" font-family=\"Times,serif\" font-size=\"14.00\">3</text>\n",
       "</g>\n",
       "<!-- b2 -->\n",
       "<g id=\"node3\" class=\"node\">\n",
       "<title>b2</title>\n",
       "<polygon fill=\"none\" stroke=\"black\" points=\"272,-36 92,-36 92,0 272,0 272,-36\"/>\n",
       "<text text-anchor=\"start\" x=\"100\" y=\"-19.8\" font-family=\"Times,serif\" font-size=\"14.00\">PrepareUniformSuperposition</text>\n",
       "<text text-anchor=\"start\" x=\"148.5\" y=\"-9\" font-family=\"monospace\" font-size=\"10.00\">n=4, cvs=()</text>\n",
       "</g>\n",
       "<!-- b0&#45;&gt;b2 -->\n",
       "<g id=\"edge2\" class=\"edge\">\n",
       "<title>b0-&gt;b2</title>\n",
       "<path fill=\"none\" stroke=\"black\" d=\"M551.34,-86.95C473.41,-72.61 362.22,-52.16 282.23,-37.44\"/>\n",
       "<polygon fill=\"black\" stroke=\"black\" points=\"282.61,-33.95 272.15,-35.59 281.35,-40.84 282.61,-33.95\"/>\n",
       "<text text-anchor=\"middle\" x=\"444.5\" y=\"-57.8\" font-family=\"Times,serif\" font-size=\"14.00\">1</text>\n",
       "</g>\n",
       "<!-- b3 -->\n",
       "<g id=\"node4\" class=\"node\">\n",
       "<title>b3</title>\n",
       "<polygon fill=\"none\" stroke=\"black\" points=\"997.5,-36 290.5,-36 290.5,0 997.5,0 997.5,-36\"/>\n",
       "<text text-anchor=\"start\" x=\"623\" y=\"-19.8\" font-family=\"Times,serif\" font-size=\"14.00\">QROM</text>\n",
       "<text text-anchor=\"start\" x=\"298.5\" y=\"-9\" font-family=\"monospace\" font-size=\"10.00\">data_or_shape=(array([ ..., selection_bitsizes=(2,), target_bitsizes=(2, 3), target_shapes=((), ()), num_controls=0</text>\n",
       "</g>\n",
       "<!-- b0&#45;&gt;b3 -->\n",
       "<g id=\"edge3\" class=\"edge\">\n",
       "<title>b0-&gt;b3</title>\n",
       "<path fill=\"none\" stroke=\"black\" d=\"M644,-86.8C644,-75.16 644,-59.55 644,-46.24\"/>\n",
       "<polygon fill=\"black\" stroke=\"black\" points=\"647.5,-46.18 644,-36.18 640.5,-46.18 647.5,-46.18\"/>\n",
       "<text text-anchor=\"middle\" x=\"647.5\" y=\"-57.8\" font-family=\"Times,serif\" font-size=\"14.00\">1</text>\n",
       "</g>\n",
       "<!-- b4 -->\n",
       "<g id=\"node5\" class=\"node\">\n",
       "<title>b4</title>\n",
       "<polygon fill=\"none\" stroke=\"black\" points=\"1176.5,-36 1015.5,-36 1015.5,0 1176.5,0 1176.5,-36\"/>\n",
       "<text text-anchor=\"start\" x=\"1053.5\" y=\"-19.8\" font-family=\"Times,serif\" font-size=\"14.00\">LessThanEqual</text>\n",
       "<text text-anchor=\"start\" x=\"1023.5\" y=\"-9\" font-family=\"monospace\" font-size=\"10.00\">x_bitsize=3, y_bitsize=3</text>\n",
       "</g>\n",
       "<!-- b0&#45;&gt;b4 -->\n",
       "<g id=\"edge4\" class=\"edge\">\n",
       "<title>b0-&gt;b4</title>\n",
       "<path fill=\"none\" stroke=\"black\" d=\"M734.75,-86.98C805.54,-73.7 906.64,-54.71 1004.93,-36.2\"/>\n",
       "<polygon fill=\"black\" stroke=\"black\" points=\"1005.87,-39.59 1015.05,-34.29 1004.57,-32.71 1005.87,-39.59\"/>\n",
       "<text text-anchor=\"middle\" x=\"910.5\" y=\"-57.8\" font-family=\"Times,serif\" font-size=\"14.00\">1</text>\n",
       "</g>\n",
       "<!-- b5 -->\n",
       "<g id=\"node6\" class=\"node\">\n",
       "<title>b5</title>\n",
       "<polygon fill=\"none\" stroke=\"black\" points=\"1265.5,-36 1194.5,-36 1194.5,0 1265.5,0 1265.5,-36\"/>\n",
       "<text text-anchor=\"start\" x=\"1210\" y=\"-19.8\" font-family=\"Times,serif\" font-size=\"14.00\">CSwap</text>\n",
       "<text text-anchor=\"start\" x=\"1202.5\" y=\"-9\" font-family=\"monospace\" font-size=\"10.00\">bitsize=2</text>\n",
       "</g>\n",
       "<!-- b0&#45;&gt;b5 -->\n",
       "<g id=\"edge5\" class=\"edge\">\n",
       "<title>b0-&gt;b5</title>\n",
       "<path fill=\"none\" stroke=\"black\" d=\"M875.89,-86.99C969.5,-77.09 1078.28,-61.75 1184.45,-35.79\"/>\n",
       "<polygon fill=\"black\" stroke=\"black\" points=\"1185.52,-39.13 1194.38,-33.33 1183.83,-32.33 1185.52,-39.13\"/>\n",
       "<text text-anchor=\"middle\" x=\"1101.5\" y=\"-57.8\" font-family=\"Times,serif\" font-size=\"14.00\">1</text>\n",
       "</g>\n",
       "</g>\n",
       "</svg>"
      ],
      "text/plain": [
       "<IPython.core.display.SVG object>"
      ]
     },
     "metadata": {},
     "output_type": "display_data"
    },
    {
     "data": {
      "text/markdown": [
       "#### Counts totals:\n",
       " - `CSwap`: 1\n",
       " - `H`: 3\n",
       " - `LessThanEqual`: 1\n",
       " - `PrepareUniformSuperposition`: 1\n",
       " - `QROM`: 1"
      ],
      "text/plain": [
       "<IPython.core.display.Markdown object>"
      ]
     },
     "metadata": {},
     "output_type": "display_data"
    }
   ],
   "source": [
    "from qualtran.resource_counting.generalizers import ignore_split_join\n",
    "state_prep_alias_g, state_prep_alias_sigma = state_prep_alias.call_graph(max_depth=1, generalizer=ignore_split_join)\n",
    "show_call_graph(state_prep_alias_g)\n",
    "show_counts_sigma(state_prep_alias_sigma)"
   ]
  }
 ],
 "metadata": {
  "kernelspec": {
   "display_name": "Python 3",
   "language": "python",
   "name": "python3"
  },
  "language_info": {
   "codemirror_mode": {
    "name": "ipython",
    "version": 3
   },
   "file_extension": ".py",
   "mimetype": "text/x-python",
   "name": "python",
   "nbconvert_exporter": "python",
   "pygments_lexer": "ipython3",
   "version": "3.11.8"
  },
  "widgets": {
   "application/vnd.jupyter.widget-state+json": {
    "state": {
     "22a2a6e5c3d9443a861ad80ac2c249fc": {
      "model_module": "@jupyter-widgets/output",
      "model_module_version": "1.0.0",
      "model_name": "OutputModel",
      "state": {
       "_dom_classes": [],
       "_model_module": "@jupyter-widgets/output",
       "_model_module_version": "1.0.0",
       "_model_name": "OutputModel",
       "_view_count": null,
       "_view_module": "@jupyter-widgets/output",
       "_view_module_version": "1.0.0",
       "_view_name": "OutputView",
       "layout": "IPY_MODEL_5ba5f081a6d64d86a5a422ac4993f230",
       "msg_id": "",
       "outputs": [
        {
         "data": {
          "text/markdown": "`state_prep_alias`",
          "text/plain": "<IPython.core.display.Markdown object>"
         },
         "metadata": {},
         "output_type": "display_data"
        },
        {
         "data": {
          "image/svg+xml": "<svg xmlns=\"http://www.w3.org/2000/svg\" xmlns:xlink=\"http://www.w3.org/1999/xlink\" width=\"422pt\" height=\"260pt\" viewBox=\"0.00 0.00 422.00 260.00\">\n<g id=\"graph0\" class=\"graph\" transform=\"scale(1 1) rotate(0) translate(4 256)\">\n<title>my_graph</title>\n<polygon fill=\"white\" stroke=\"transparent\" points=\"-4,4 -4,-256 418,-256 418,4 -4,4\"/>\n<!-- selection_G7 -->\n<g id=\"node1\" class=\"node\">\n<title>selection_G7</title>\n<text text-anchor=\"middle\" x=\"51.5\" y=\"-230.3\" font-family=\"Times,serif\" font-size=\"14.00\">selection</text>\n</g>\n<!-- StatePreparationAliasSampling -->\n<g id=\"node6\" class=\"node\">\n<title>StatePreparationAliasSampling</title>\n<polygon fill=\"none\" stroke=\"black\" points=\"140,-179 140,-196 274,-196 274,-179 140,-179\"/>\n<text text-anchor=\"start\" x=\"143\" y=\"-185\" font-family=\"Times,serif\" font-size=\"10.00\">StatePreparationAliasSampling</text>\n<polygon fill=\"none\" stroke=\"black\" points=\"140,-158 140,-179 274,-179 274,-158 140,-158\"/>\n<text text-anchor=\"start\" x=\"182.5\" y=\"-164.8\" font-family=\"Times,serif\" font-size=\"14.00\">selection</text>\n<polygon fill=\"none\" stroke=\"black\" points=\"140,-137 140,-158 274,-158 274,-137 140,-137\"/>\n<text text-anchor=\"start\" x=\"178\" y=\"-143.8\" font-family=\"Times,serif\" font-size=\"14.00\">sigma_mu</text>\n<polygon fill=\"none\" stroke=\"black\" points=\"140,-116 140,-137 274,-137 274,-116 140,-116\"/>\n<text text-anchor=\"start\" x=\"200\" y=\"-122.8\" font-family=\"Times,serif\" font-size=\"14.00\">alt</text>\n<polygon fill=\"none\" stroke=\"black\" points=\"140,-95 140,-116 274,-116 274,-95 140,-95\"/>\n<text text-anchor=\"start\" x=\"194\" y=\"-101.8\" font-family=\"Times,serif\" font-size=\"14.00\">keep</text>\n<polygon fill=\"none\" stroke=\"black\" points=\"140,-74 140,-95 274,-95 274,-74 140,-74\"/>\n<text text-anchor=\"start\" x=\"163.5\" y=\"-80.8\" font-family=\"Times,serif\" font-size=\"14.00\">less_than_equal</text>\n</g>\n<!-- selection_G7&#45;&gt;StatePreparationAliasSampling -->\n<g id=\"edge1\" class=\"edge\">\n<title>selection_G7:e-&gt;StatePreparationAliasSampling:w</title>\n<path fill=\"none\" stroke=\"black\" d=\"M85.5,-234C122.46,-234 103.09,-171.51 137.86,-169.07\"/>\n<ellipse fill=\"black\" stroke=\"black\" cx=\"139\" cy=\"-169.03\" rx=\"1\" ry=\"1\"/>\n<text text-anchor=\"middle\" x=\"121.5\" y=\"-181\" font-family=\"Times,serif\" font-size=\"10.00\">2</text>\n</g>\n<!-- sigma_mu_G12 -->\n<g id=\"node2\" class=\"node\">\n<title>sigma_mu_G12</title>\n<text text-anchor=\"middle\" x=\"51.5\" y=\"-176.3\" font-family=\"Times,serif\" font-size=\"14.00\">sigma_mu</text>\n</g>\n<!-- sigma_mu_G12&#45;&gt;StatePreparationAliasSampling -->\n<g id=\"edge2\" class=\"edge\">\n<title>sigma_mu_G12:e-&gt;StatePreparationAliasSampling:w</title>\n<path fill=\"none\" stroke=\"black\" d=\"M89.5,-180C115.34,-180 113.55,-149.73 137.88,-148.07\"/>\n<ellipse fill=\"black\" stroke=\"black\" cx=\"139\" cy=\"-148.03\" rx=\"1\" ry=\"1\"/>\n<text text-anchor=\"middle\" x=\"121.5\" y=\"-158\" font-family=\"Times,serif\" font-size=\"10.00\">3</text>\n</g>\n<!-- alt_G0 -->\n<g id=\"node3\" class=\"node\">\n<title>alt_G0</title>\n<text text-anchor=\"middle\" x=\"51.5\" y=\"-122.3\" font-family=\"Times,serif\" font-size=\"14.00\">alt</text>\n</g>\n<!-- alt_G0&#45;&gt;StatePreparationAliasSampling -->\n<g id=\"edge3\" class=\"edge\">\n<title>alt_G0:e-&gt;StatePreparationAliasSampling:w</title>\n<path fill=\"none\" stroke=\"black\" d=\"M79.5,-126C105.65,-126 112.73,-126 137.84,-126\"/>\n<ellipse fill=\"black\" stroke=\"black\" cx=\"139\" cy=\"-126\" rx=\"1\" ry=\"1\"/>\n<text text-anchor=\"middle\" x=\"121.5\" y=\"-129\" font-family=\"Times,serif\" font-size=\"10.00\">2</text>\n</g>\n<!-- keep_G1 -->\n<g id=\"node4\" class=\"node\">\n<title>keep_G1</title>\n<text text-anchor=\"middle\" x=\"51.5\" y=\"-68.3\" font-family=\"Times,serif\" font-size=\"14.00\">keep</text>\n</g>\n<!-- keep_G1&#45;&gt;StatePreparationAliasSampling -->\n<g id=\"edge4\" class=\"edge\">\n<title>keep_G1:e-&gt;StatePreparationAliasSampling:w</title>\n<path fill=\"none\" stroke=\"black\" d=\"M79.5,-72C109.41,-72 109.39,-103.47 137.9,-104.95\"/>\n<ellipse fill=\"black\" stroke=\"black\" cx=\"139\" cy=\"-104.97\" rx=\"1\" ry=\"1\"/>\n<text text-anchor=\"middle\" x=\"121.5\" y=\"-102\" font-family=\"Times,serif\" font-size=\"10.00\">3</text>\n</g>\n<!-- less_than_equal_G9 -->\n<g id=\"node5\" class=\"node\">\n<title>less_than_equal_G9</title>\n<text text-anchor=\"middle\" x=\"51.5\" y=\"-14.3\" font-family=\"Times,serif\" font-size=\"14.00\">less_than_equal</text>\n</g>\n<!-- less_than_equal_G9&#45;&gt;StatePreparationAliasSampling -->\n<g id=\"edge5\" class=\"edge\">\n<title>less_than_equal_G9:e-&gt;StatePreparationAliasSampling:w</title>\n<path fill=\"none\" stroke=\"black\" d=\"M103,-18C135.84,-18 107.75,-80.94 137.74,-83.89\"/>\n<ellipse fill=\"black\" stroke=\"black\" cx=\"139\" cy=\"-83.95\" rx=\"1\" ry=\"1\"/>\n<text text-anchor=\"middle\" x=\"121.5\" y=\"-62\" font-family=\"Times,serif\" font-size=\"10.00\">1</text>\n</g>\n<!-- selection_G6 -->\n<g id=\"node7\" class=\"node\">\n<title>selection_G6</title>\n<text text-anchor=\"middle\" x=\"362.5\" y=\"-230.3\" font-family=\"Times,serif\" font-size=\"14.00\">selection</text>\n</g>\n<!-- StatePreparationAliasSampling&#45;&gt;selection_G6 -->\n<g id=\"edge6\" class=\"edge\">\n<title>StatePreparationAliasSampling:e-&gt;selection_G6:w</title>\n<path fill=\"none\" stroke=\"black\" d=\"M274,-169C310.96,-169 291.59,-231.49 326.36,-233.93\"/>\n<ellipse fill=\"black\" stroke=\"black\" cx=\"327.5\" cy=\"-233.97\" rx=\"1\" ry=\"1\"/>\n<text text-anchor=\"middle\" x=\"292.5\" y=\"-181\" font-family=\"Times,serif\" font-size=\"10.00\">2</text>\n</g>\n<!-- sigma_mu_G5 -->\n<g id=\"node8\" class=\"node\">\n<title>sigma_mu_G5</title>\n<text text-anchor=\"middle\" x=\"362.5\" y=\"-176.3\" font-family=\"Times,serif\" font-size=\"14.00\">sigma_mu</text>\n</g>\n<!-- StatePreparationAliasSampling&#45;&gt;sigma_mu_G5 -->\n<g id=\"edge7\" class=\"edge\">\n<title>StatePreparationAliasSampling:e-&gt;sigma_mu_G5:w</title>\n<path fill=\"none\" stroke=\"black\" d=\"M274,-148C299.84,-148 298.05,-178.27 322.38,-179.93\"/>\n<ellipse fill=\"black\" stroke=\"black\" cx=\"323.5\" cy=\"-179.97\" rx=\"1\" ry=\"1\"/>\n<text text-anchor=\"middle\" x=\"292.5\" y=\"-158\" font-family=\"Times,serif\" font-size=\"10.00\">3</text>\n</g>\n<!-- alt_G8 -->\n<g id=\"node9\" class=\"node\">\n<title>alt_G8</title>\n<text text-anchor=\"middle\" x=\"362.5\" y=\"-122.3\" font-family=\"Times,serif\" font-size=\"14.00\">alt</text>\n</g>\n<!-- StatePreparationAliasSampling&#45;&gt;alt_G8 -->\n<g id=\"edge8\" class=\"edge\">\n<title>StatePreparationAliasSampling:e-&gt;alt_G8:w</title>\n<path fill=\"none\" stroke=\"black\" d=\"M274,-126C300.15,-126 307.23,-126 332.34,-126\"/>\n<ellipse fill=\"black\" stroke=\"black\" cx=\"333.5\" cy=\"-126\" rx=\"1\" ry=\"1\"/>\n<text text-anchor=\"middle\" x=\"292.5\" y=\"-129\" font-family=\"Times,serif\" font-size=\"10.00\">2</text>\n</g>\n<!-- keep_G11 -->\n<g id=\"node10\" class=\"node\">\n<title>keep_G11</title>\n<text text-anchor=\"middle\" x=\"362.5\" y=\"-68.3\" font-family=\"Times,serif\" font-size=\"14.00\">keep</text>\n</g>\n<!-- StatePreparationAliasSampling&#45;&gt;keep_G11 -->\n<g id=\"edge9\" class=\"edge\">\n<title>StatePreparationAliasSampling:e-&gt;keep_G11:w</title>\n<path fill=\"none\" stroke=\"black\" d=\"M274,-105C303.91,-105 303.89,-73.53 332.4,-72.05\"/>\n<ellipse fill=\"black\" stroke=\"black\" cx=\"333.5\" cy=\"-72.03\" rx=\"1\" ry=\"1\"/>\n<text text-anchor=\"middle\" x=\"292.5\" y=\"-102\" font-family=\"Times,serif\" font-size=\"10.00\">3</text>\n</g>\n<!-- less_than_equal_G2 -->\n<g id=\"node11\" class=\"node\">\n<title>less_than_equal_G2</title>\n<text text-anchor=\"middle\" x=\"362.5\" y=\"-14.3\" font-family=\"Times,serif\" font-size=\"14.00\">less_than_equal</text>\n</g>\n<!-- StatePreparationAliasSampling&#45;&gt;less_than_equal_G2 -->\n<g id=\"edge10\" class=\"edge\">\n<title>StatePreparationAliasSampling:e-&gt;less_than_equal_G2:w</title>\n<path fill=\"none\" stroke=\"black\" d=\"M274,-84C306.84,-84 278.75,-21.06 308.74,-18.11\"/>\n<ellipse fill=\"black\" stroke=\"black\" cx=\"310\" cy=\"-18.05\" rx=\"1\" ry=\"1\"/>\n<text text-anchor=\"middle\" x=\"292.5\" y=\"-62\" font-family=\"Times,serif\" font-size=\"10.00\">1</text>\n</g>\n</g>\n</svg>",
          "text/plain": "<IPython.core.display.SVG object>"
         },
         "metadata": {},
         "output_type": "display_data"
        }
       ],
       "tabbable": null,
       "tooltip": null
      }
     },
     "4350514b0ef04c8f847b25f8cef974ac": {
      "model_module": "@jupyter-widgets/output",
      "model_module_version": "1.0.0",
      "model_name": "OutputModel",
      "state": {
       "_dom_classes": [],
       "_model_module": "@jupyter-widgets/output",
       "_model_module_version": "1.0.0",
       "_model_name": "OutputModel",
       "_view_count": null,
       "_view_module": "@jupyter-widgets/output",
       "_view_module_version": "1.0.0",
       "_view_name": "OutputView",
       "layout": "IPY_MODEL_cc2ed814f4274cceb79297094e2da9a7",
       "msg_id": "",
       "outputs": [
        {
         "data": {
          "text/markdown": "`state_prep_alias_symb`",
          "text/plain": "<IPython.core.display.Markdown object>"
         },
         "metadata": {},
         "output_type": "display_data"
        },
        {
         "data": {
          "image/svg+xml": "<svg xmlns=\"http://www.w3.org/2000/svg\" xmlns:xlink=\"http://www.w3.org/1999/xlink\" width=\"422pt\" height=\"260pt\" viewBox=\"0.00 0.00 422.00 260.00\">\n<g id=\"graph0\" class=\"graph\" transform=\"scale(1 1) rotate(0) translate(4 256)\">\n<title>my_graph</title>\n<polygon fill=\"white\" stroke=\"transparent\" points=\"-4,4 -4,-256 418,-256 418,4 -4,4\"/>\n<!-- selection_G11 -->\n<g id=\"node1\" class=\"node\">\n<title>selection_G11</title>\n<text text-anchor=\"middle\" x=\"51.5\" y=\"-230.3\" font-family=\"Times,serif\" font-size=\"14.00\">selection</text>\n</g>\n<!-- StatePreparationAliasSampling -->\n<g id=\"node6\" class=\"node\">\n<title>StatePreparationAliasSampling</title>\n<polygon fill=\"none\" stroke=\"black\" points=\"140,-179 140,-196 274,-196 274,-179 140,-179\"/>\n<text text-anchor=\"start\" x=\"143\" y=\"-185\" font-family=\"Times,serif\" font-size=\"10.00\">StatePreparationAliasSampling</text>\n<polygon fill=\"none\" stroke=\"black\" points=\"140,-158 140,-179 274,-179 274,-158 140,-158\"/>\n<text text-anchor=\"start\" x=\"182.5\" y=\"-164.8\" font-family=\"Times,serif\" font-size=\"14.00\">selection</text>\n<polygon fill=\"none\" stroke=\"black\" points=\"140,-137 140,-158 274,-158 274,-137 140,-137\"/>\n<text text-anchor=\"start\" x=\"178\" y=\"-143.8\" font-family=\"Times,serif\" font-size=\"14.00\">sigma_mu</text>\n<polygon fill=\"none\" stroke=\"black\" points=\"140,-116 140,-137 274,-137 274,-116 140,-116\"/>\n<text text-anchor=\"start\" x=\"200\" y=\"-122.8\" font-family=\"Times,serif\" font-size=\"14.00\">alt</text>\n<polygon fill=\"none\" stroke=\"black\" points=\"140,-95 140,-116 274,-116 274,-95 140,-95\"/>\n<text text-anchor=\"start\" x=\"194\" y=\"-101.8\" font-family=\"Times,serif\" font-size=\"14.00\">keep</text>\n<polygon fill=\"none\" stroke=\"black\" points=\"140,-74 140,-95 274,-95 274,-74 140,-74\"/>\n<text text-anchor=\"start\" x=\"163.5\" y=\"-80.8\" font-family=\"Times,serif\" font-size=\"14.00\">less_than_equal</text>\n</g>\n<!-- selection_G11&#45;&gt;StatePreparationAliasSampling -->\n<g id=\"edge1\" class=\"edge\">\n<title>selection_G11:e-&gt;StatePreparationAliasSampling:w</title>\n<path fill=\"none\" stroke=\"black\" d=\"M85.5,-234C122.46,-234 103.09,-171.51 137.86,-169.07\"/>\n<ellipse fill=\"black\" stroke=\"black\" cx=\"139\" cy=\"-169.03\" rx=\"1\" ry=\"1\"/>\n<text text-anchor=\"middle\" x=\"121.5\" y=\"-181\" font-family=\"Times,serif\" font-size=\"10.00\">ceiling(log2(L - 1))</text>\n</g>\n<!-- sigma_mu_G2 -->\n<g id=\"node2\" class=\"node\">\n<title>sigma_mu_G2</title>\n<text text-anchor=\"middle\" x=\"51.5\" y=\"-176.3\" font-family=\"Times,serif\" font-size=\"14.00\">sigma_mu</text>\n</g>\n<!-- sigma_mu_G2&#45;&gt;StatePreparationAliasSampling -->\n<g id=\"edge2\" class=\"edge\">\n<title>sigma_mu_G2:e-&gt;StatePreparationAliasSampling:w</title>\n<path fill=\"none\" stroke=\"black\" d=\"M89.5,-180C115.34,-180 113.55,-149.73 137.88,-148.07\"/>\n<ellipse fill=\"black\" stroke=\"black\" cx=\"139\" cy=\"-148.03\" rx=\"1\" ry=\"1\"/>\n<text text-anchor=\"middle\" x=\"121.5\" y=\"-158\" font-family=\"Times,serif\" font-size=\"10.00\">ceiling(log2(1/(L*epsilon)))</text>\n</g>\n<!-- alt_G12 -->\n<g id=\"node3\" class=\"node\">\n<title>alt_G12</title>\n<text text-anchor=\"middle\" x=\"51.5\" y=\"-122.3\" font-family=\"Times,serif\" font-size=\"14.00\">alt</text>\n</g>\n<!-- alt_G12&#45;&gt;StatePreparationAliasSampling -->\n<g id=\"edge3\" class=\"edge\">\n<title>alt_G12:e-&gt;StatePreparationAliasSampling:w</title>\n<path fill=\"none\" stroke=\"black\" d=\"M79.5,-126C105.65,-126 112.73,-126 137.84,-126\"/>\n<ellipse fill=\"black\" stroke=\"black\" cx=\"139\" cy=\"-126\" rx=\"1\" ry=\"1\"/>\n<text text-anchor=\"middle\" x=\"121.5\" y=\"-129\" font-family=\"Times,serif\" font-size=\"10.00\">ceiling(log2(L - 1))</text>\n</g>\n<!-- keep_G4 -->\n<g id=\"node4\" class=\"node\">\n<title>keep_G4</title>\n<text text-anchor=\"middle\" x=\"51.5\" y=\"-68.3\" font-family=\"Times,serif\" font-size=\"14.00\">keep</text>\n</g>\n<!-- keep_G4&#45;&gt;StatePreparationAliasSampling -->\n<g id=\"edge4\" class=\"edge\">\n<title>keep_G4:e-&gt;StatePreparationAliasSampling:w</title>\n<path fill=\"none\" stroke=\"black\" d=\"M79.5,-72C109.41,-72 109.39,-103.47 137.9,-104.95\"/>\n<ellipse fill=\"black\" stroke=\"black\" cx=\"139\" cy=\"-104.97\" rx=\"1\" ry=\"1\"/>\n<text text-anchor=\"middle\" x=\"121.5\" y=\"-102\" font-family=\"Times,serif\" font-size=\"10.00\">ceiling(log2(1/(L*epsilon)))</text>\n</g>\n<!-- less_than_equal_G6 -->\n<g id=\"node5\" class=\"node\">\n<title>less_than_equal_G6</title>\n<text text-anchor=\"middle\" x=\"51.5\" y=\"-14.3\" font-family=\"Times,serif\" font-size=\"14.00\">less_than_equal</text>\n</g>\n<!-- less_than_equal_G6&#45;&gt;StatePreparationAliasSampling -->\n<g id=\"edge5\" class=\"edge\">\n<title>less_than_equal_G6:e-&gt;StatePreparationAliasSampling:w</title>\n<path fill=\"none\" stroke=\"black\" d=\"M103,-18C135.84,-18 107.75,-80.94 137.74,-83.89\"/>\n<ellipse fill=\"black\" stroke=\"black\" cx=\"139\" cy=\"-83.95\" rx=\"1\" ry=\"1\"/>\n<text text-anchor=\"middle\" x=\"121.5\" y=\"-62\" font-family=\"Times,serif\" font-size=\"10.00\">1</text>\n</g>\n<!-- selection_G3 -->\n<g id=\"node7\" class=\"node\">\n<title>selection_G3</title>\n<text text-anchor=\"middle\" x=\"362.5\" y=\"-230.3\" font-family=\"Times,serif\" font-size=\"14.00\">selection</text>\n</g>\n<!-- StatePreparationAliasSampling&#45;&gt;selection_G3 -->\n<g id=\"edge6\" class=\"edge\">\n<title>StatePreparationAliasSampling:e-&gt;selection_G3:w</title>\n<path fill=\"none\" stroke=\"black\" d=\"M274,-169C310.96,-169 291.59,-231.49 326.36,-233.93\"/>\n<ellipse fill=\"black\" stroke=\"black\" cx=\"327.5\" cy=\"-233.97\" rx=\"1\" ry=\"1\"/>\n<text text-anchor=\"middle\" x=\"292.5\" y=\"-181\" font-family=\"Times,serif\" font-size=\"10.00\">ceiling(log2(L - 1))</text>\n</g>\n<!-- sigma_mu_G10 -->\n<g id=\"node8\" class=\"node\">\n<title>sigma_mu_G10</title>\n<text text-anchor=\"middle\" x=\"362.5\" y=\"-176.3\" font-family=\"Times,serif\" font-size=\"14.00\">sigma_mu</text>\n</g>\n<!-- StatePreparationAliasSampling&#45;&gt;sigma_mu_G10 -->\n<g id=\"edge7\" class=\"edge\">\n<title>StatePreparationAliasSampling:e-&gt;sigma_mu_G10:w</title>\n<path fill=\"none\" stroke=\"black\" d=\"M274,-148C299.84,-148 298.05,-178.27 322.38,-179.93\"/>\n<ellipse fill=\"black\" stroke=\"black\" cx=\"323.5\" cy=\"-179.97\" rx=\"1\" ry=\"1\"/>\n<text text-anchor=\"middle\" x=\"292.5\" y=\"-158\" font-family=\"Times,serif\" font-size=\"10.00\">ceiling(log2(1/(L*epsilon)))</text>\n</g>\n<!-- alt_G9 -->\n<g id=\"node9\" class=\"node\">\n<title>alt_G9</title>\n<text text-anchor=\"middle\" x=\"362.5\" y=\"-122.3\" font-family=\"Times,serif\" font-size=\"14.00\">alt</text>\n</g>\n<!-- StatePreparationAliasSampling&#45;&gt;alt_G9 -->\n<g id=\"edge8\" class=\"edge\">\n<title>StatePreparationAliasSampling:e-&gt;alt_G9:w</title>\n<path fill=\"none\" stroke=\"black\" d=\"M274,-126C300.15,-126 307.23,-126 332.34,-126\"/>\n<ellipse fill=\"black\" stroke=\"black\" cx=\"333.5\" cy=\"-126\" rx=\"1\" ry=\"1\"/>\n<text text-anchor=\"middle\" x=\"292.5\" y=\"-129\" font-family=\"Times,serif\" font-size=\"10.00\">ceiling(log2(L - 1))</text>\n</g>\n<!-- keep_G13 -->\n<g id=\"node10\" class=\"node\">\n<title>keep_G13</title>\n<text text-anchor=\"middle\" x=\"362.5\" y=\"-68.3\" font-family=\"Times,serif\" font-size=\"14.00\">keep</text>\n</g>\n<!-- StatePreparationAliasSampling&#45;&gt;keep_G13 -->\n<g id=\"edge9\" class=\"edge\">\n<title>StatePreparationAliasSampling:e-&gt;keep_G13:w</title>\n<path fill=\"none\" stroke=\"black\" d=\"M274,-105C303.91,-105 303.89,-73.53 332.4,-72.05\"/>\n<ellipse fill=\"black\" stroke=\"black\" cx=\"333.5\" cy=\"-72.03\" rx=\"1\" ry=\"1\"/>\n<text text-anchor=\"middle\" x=\"292.5\" y=\"-102\" font-family=\"Times,serif\" font-size=\"10.00\">ceiling(log2(1/(L*epsilon)))</text>\n</g>\n<!-- less_than_equal_G1 -->\n<g id=\"node11\" class=\"node\">\n<title>less_than_equal_G1</title>\n<text text-anchor=\"middle\" x=\"362.5\" y=\"-14.3\" font-family=\"Times,serif\" font-size=\"14.00\">less_than_equal</text>\n</g>\n<!-- StatePreparationAliasSampling&#45;&gt;less_than_equal_G1 -->\n<g id=\"edge10\" class=\"edge\">\n<title>StatePreparationAliasSampling:e-&gt;less_than_equal_G1:w</title>\n<path fill=\"none\" stroke=\"black\" d=\"M274,-84C306.84,-84 278.75,-21.06 308.74,-18.11\"/>\n<ellipse fill=\"black\" stroke=\"black\" cx=\"310\" cy=\"-18.05\" rx=\"1\" ry=\"1\"/>\n<text text-anchor=\"middle\" x=\"292.5\" y=\"-62\" font-family=\"Times,serif\" font-size=\"10.00\">1</text>\n</g>\n</g>\n</svg>",
          "text/plain": "<IPython.core.display.SVG object>"
         },
         "metadata": {},
         "output_type": "display_data"
        }
       ],
       "tabbable": null,
       "tooltip": null
      }
     },
     "5ba5f081a6d64d86a5a422ac4993f230": {
      "model_module": "@jupyter-widgets/base",
      "model_module_version": "2.0.0",
      "model_name": "LayoutModel",
      "state": {
       "_model_module": "@jupyter-widgets/base",
       "_model_module_version": "2.0.0",
       "_model_name": "LayoutModel",
       "_view_count": null,
       "_view_module": "@jupyter-widgets/base",
       "_view_module_version": "2.0.0",
       "_view_name": "LayoutView",
       "align_content": null,
       "align_items": null,
       "align_self": null,
       "border_bottom": null,
       "border_left": null,
       "border_right": null,
       "border_top": null,
       "bottom": null,
       "display": null,
       "flex": null,
       "flex_flow": null,
       "grid_area": null,
       "grid_auto_columns": null,
       "grid_auto_flow": null,
       "grid_auto_rows": null,
       "grid_column": null,
       "grid_gap": null,
       "grid_row": null,
       "grid_template_areas": null,
       "grid_template_columns": null,
       "grid_template_rows": null,
       "height": null,
       "justify_content": null,
       "justify_items": null,
       "left": null,
       "margin": null,
       "max_height": null,
       "max_width": null,
       "min_height": null,
       "min_width": null,
       "object_fit": null,
       "object_position": null,
       "order": null,
       "overflow": null,
       "padding": null,
       "right": null,
       "top": null,
       "visibility": null,
       "width": null
      }
     },
     "671739a4d8aa49168784fc0ccb384c01": {
      "model_module": "@jupyter-widgets/controls",
      "model_module_version": "2.0.0",
      "model_name": "HBoxModel",
      "state": {
       "_dom_classes": [],
       "_model_module": "@jupyter-widgets/controls",
       "_model_module_version": "2.0.0",
       "_model_name": "HBoxModel",
       "_view_count": null,
       "_view_module": "@jupyter-widgets/controls",
       "_view_module_version": "2.0.0",
       "_view_name": "HBoxView",
       "box_style": "",
       "children": [
        "IPY_MODEL_22a2a6e5c3d9443a861ad80ac2c249fc",
        "IPY_MODEL_4350514b0ef04c8f847b25f8cef974ac"
       ],
       "layout": "IPY_MODEL_7572bc06f3964747bd98ef5145932eda",
       "tabbable": null,
       "tooltip": null
      }
     },
     "7572bc06f3964747bd98ef5145932eda": {
      "model_module": "@jupyter-widgets/base",
      "model_module_version": "2.0.0",
      "model_name": "LayoutModel",
      "state": {
       "_model_module": "@jupyter-widgets/base",
       "_model_module_version": "2.0.0",
       "_model_name": "LayoutModel",
       "_view_count": null,
       "_view_module": "@jupyter-widgets/base",
       "_view_module_version": "2.0.0",
       "_view_name": "LayoutView",
       "align_content": null,
       "align_items": null,
       "align_self": null,
       "border_bottom": null,
       "border_left": null,
       "border_right": null,
       "border_top": null,
       "bottom": null,
       "display": null,
       "flex": null,
       "flex_flow": null,
       "grid_area": null,
       "grid_auto_columns": null,
       "grid_auto_flow": null,
       "grid_auto_rows": null,
       "grid_column": null,
       "grid_gap": null,
       "grid_row": null,
       "grid_template_areas": null,
       "grid_template_columns": null,
       "grid_template_rows": null,
       "height": null,
       "justify_content": null,
       "justify_items": null,
       "left": null,
       "margin": null,
       "max_height": null,
       "max_width": null,
       "min_height": null,
       "min_width": null,
       "object_fit": null,
       "object_position": null,
       "order": null,
       "overflow": null,
       "padding": null,
       "right": null,
       "top": null,
       "visibility": null,
       "width": null
      }
     },
     "cc2ed814f4274cceb79297094e2da9a7": {
      "model_module": "@jupyter-widgets/base",
      "model_module_version": "2.0.0",
      "model_name": "LayoutModel",
      "state": {
       "_model_module": "@jupyter-widgets/base",
       "_model_module_version": "2.0.0",
       "_model_name": "LayoutModel",
       "_view_count": null,
       "_view_module": "@jupyter-widgets/base",
       "_view_module_version": "2.0.0",
       "_view_name": "LayoutView",
       "align_content": null,
       "align_items": null,
       "align_self": null,
       "border_bottom": null,
       "border_left": null,
       "border_right": null,
       "border_top": null,
       "bottom": null,
       "display": null,
       "flex": null,
       "flex_flow": null,
       "grid_area": null,
       "grid_auto_columns": null,
       "grid_auto_flow": null,
       "grid_auto_rows": null,
       "grid_column": null,
       "grid_gap": null,
       "grid_row": null,
       "grid_template_areas": null,
       "grid_template_columns": null,
       "grid_template_rows": null,
       "height": null,
       "justify_content": null,
       "justify_items": null,
       "left": null,
       "margin": null,
       "max_height": null,
       "max_width": null,
       "min_height": null,
       "min_width": null,
       "object_fit": null,
       "object_position": null,
       "order": null,
       "overflow": null,
       "padding": null,
       "right": null,
       "top": null,
       "visibility": null,
       "width": null
      }
     }
    },
    "version_major": 2,
    "version_minor": 0
   }
  }
 },
 "nbformat": 4,
 "nbformat_minor": 5
}
