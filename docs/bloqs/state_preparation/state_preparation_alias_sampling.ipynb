{
 "cells": [
  {
   "cell_type": "markdown",
   "id": "0b54e6c7",
   "metadata": {
    "cq.autogen": "title_cell"
   },
   "source": [
    "# State Preparation via Alias Sampling\n",
    "\n",
    "Gates for preparing coefficient states.\n",
    "\n",
    "In section III.D. of the [Linear T paper](https://arxiv.org/abs/1805.03662) the authors introduce\n",
    "a technique for initializing a state with $L$ unique coefficients (provided by a classical\n",
    "database) with a number of T gates scaling as 4L + O(log(1/eps)) where eps is the\n",
    "largest absolute error that one can tolerate in the prepared amplitudes."
   ]
  },
  {
   "cell_type": "code",
   "execution_count": 1,
   "id": "40df8d85",
   "metadata": {
    "cq.autogen": "top_imports"
   },
   "outputs": [],
   "source": [
    "from qualtran import Bloq, CompositeBloq, BloqBuilder, Signature, Register\n",
    "from qualtran import QBit, QInt, QUInt, QAny\n",
    "from qualtran.drawing import show_bloq, show_call_graph, show_counts_sigma\n",
    "from typing import *\n",
    "import numpy as np\n",
    "import sympy\n",
    "import cirq"
   ]
  },
  {
   "cell_type": "markdown",
   "id": "375acf91",
   "metadata": {
    "cq.autogen": "StatePreparationAliasSampling.bloq_doc.md"
   },
   "source": [
    "## `StatePreparationAliasSampling`\n",
    "Initialize a state with $L$ unique coefficients using coherent alias sampling.\n",
    "\n",
    "In particular, we take the zero state to:\n",
    "\n",
    "$$\n",
    "\\sum_{\\ell=0}^{L-1} \\sqrt{p_\\ell} |\\ell\\rangle |\\mathrm{temp}_\\ell\\rangle\n",
    "$$\n",
    "\n",
    "where the probabilities $p_\\ell$ are $\\mu$-bit binary approximations to the true values and\n",
    "where the temporary register must be treated with care, see the details in Section III.D. of\n",
    "the reference.\n",
    "\n",
    "The preparation is equivalent to [classical alias sampling]\n",
    "(https://en.wikipedia.org/wiki/Alias_method): we sample `l` with probability `p[l]` by first\n",
    "selecting `l` uniformly at random and then returning it with probability `keep[l] / 2**mu`;\n",
    "otherwise returning `alt[l]`.\n",
    "\n",
    "Signature:\n",
    "    selection: The input/output register $|\\ell\\rangle$ of size lg(L) where the desired\n",
    "        coefficient state is prepared.\n",
    "    temp: Work space comprised of sub signature:\n",
    "        - sigma: A mu-sized register containing uniform probabilities for comparison against\n",
    "            `keep`.\n",
    "        - alt: A lg(L)-sized register of alternate indices\n",
    "        - keep: a mu-sized register of probabilities of keeping the initially sampled index.\n",
    "        - one bit for the result of the comparison.\n",
    "\n",
    "This gate corresponds to the following operations:\n",
    " - UNIFORM_L on the selection register\n",
    " - H^mu on the sigma register\n",
    " - QROM addressed by the selection register into the alt and keep signature.\n",
    " - LessThanEqualGate comparing the keep and sigma signature.\n",
    " - Coherent swap between the selection register and alt register if the comparison\n",
    "   returns True.\n",
    "\n",
    "Total space will be (2 * log(L) + 2 mu + 1) work qubits + log(L) ancillas for QROM.\n",
    "The 1 ancilla in work qubits is for the `LessThanEqualGate` followed by coherent swap.\n",
    "\n",
    "#### References\n",
    " - [Encoding Electronic Spectra in Quantum Circuits with Linear T Complexity](https://arxiv.org/abs/1805.03662). Babbush et. al. (2018). Section III.D. and Figure 11.\n"
   ]
  },
  {
   "cell_type": "code",
   "execution_count": 2,
   "id": "4383c10a",
   "metadata": {
    "cq.autogen": "StatePreparationAliasSampling.bloq_doc.py"
   },
   "outputs": [],
   "source": [
    "from qualtran.bloqs.state_preparation import StatePreparationAliasSampling"
   ]
  },
  {
   "cell_type": "markdown",
   "id": "b7943612",
   "metadata": {
    "cq.autogen": "StatePreparationAliasSampling.example_instances.md"
   },
   "source": [
    "### Example Instances"
   ]
  },
  {
   "cell_type": "code",
   "execution_count": 3,
   "id": "0f939ef0",
   "metadata": {
    "cq.autogen": "StatePreparationAliasSampling.state_prep_alias"
   },
   "outputs": [],
   "source": [
    "coeffs = np.array([1.0, 1, 3, 2])\n",
    "mu = 3\n",
    "state_prep_alias = StatePreparationAliasSampling.from_lcu_probs(\n",
    "    coeffs, probability_epsilon=2**-mu / len(coeffs)\n",
    ")"
   ]
  },
  {
   "cell_type": "markdown",
   "id": "75ef3e40",
   "metadata": {
    "cq.autogen": "StatePreparationAliasSampling.graphical_signature.md"
   },
   "source": [
    "#### Graphical Signature"
   ]
  },
  {
   "cell_type": "code",
   "execution_count": 4,
   "id": "c014ed7a",
   "metadata": {
    "cq.autogen": "StatePreparationAliasSampling.graphical_signature.py"
   },
   "outputs": [
    {
     "data": {
      "application/vnd.jupyter.widget-view+json": {
       "model_id": "64b59793f2e34a2c8ff843de3a247b5d",
       "version_major": 2,
       "version_minor": 0
      },
      "text/plain": [
       "HBox(children=(Output(outputs=({'output_type': 'display_data', 'data': {'text/plain': '<IPython.core.display.M…"
      ]
     },
     "metadata": {},
     "output_type": "display_data"
    }
   ],
   "source": [
    "from qualtran.drawing import show_bloqs\n",
    "show_bloqs([state_prep_alias],\n",
    "           ['`state_prep_alias`'])"
   ]
  },
  {
   "cell_type": "markdown",
   "id": "9e7748f0",
   "metadata": {
    "cq.autogen": "StatePreparationAliasSampling.call_graph.md"
   },
   "source": [
    "### Call Graph"
   ]
  },
  {
   "cell_type": "code",
   "execution_count": 5,
   "id": "ca170386",
   "metadata": {
    "cq.autogen": "StatePreparationAliasSampling.call_graph.py"
   },
   "outputs": [
    {
     "data": {
      "image/svg+xml": [
       "<svg xmlns=\"http://www.w3.org/2000/svg\" xmlns:xlink=\"http://www.w3.org/1999/xlink\" width=\"1076pt\" height=\"131pt\" viewBox=\"0.00 0.00 1076.00 131.00\">\n",
       "<g id=\"graph0\" class=\"graph\" transform=\"scale(1 1) rotate(0) translate(4 127)\">\n",
       "<title>counts</title>\n",
       "<polygon fill=\"white\" stroke=\"transparent\" points=\"-4,4 -4,-127 1072,-127 1072,4 -4,4\"/>\n",
       "<!-- b0 -->\n",
       "<g id=\"node1\" class=\"node\">\n",
       "<title>b0</title>\n",
       "<polygon fill=\"none\" stroke=\"black\" points=\"558,-123 91,-123 91,-87 558,-87 558,-123\"/>\n",
       "<text text-anchor=\"start\" x=\"239\" y=\"-106.8\" font-family=\"Times,serif\" font-size=\"14.00\">StatePreparationAliasSampling</text>\n",
       "<text text-anchor=\"start\" x=\"99\" y=\"-96\" font-family=\"monospace\" font-size=\"10.00\">selection_registers=(Registe ..., alt=array([2 ..., keep=array([5 ..., mu=3</text>\n",
       "</g>\n",
       "<!-- b1 -->\n",
       "<g id=\"node2\" class=\"node\">\n",
       "<title>b1</title>\n",
       "<polygon fill=\"none\" stroke=\"black\" points=\"71,-36 0,-36 0,0 71,0 71,-36\"/>\n",
       "<text text-anchor=\"start\" x=\"15.5\" y=\"-19.8\" font-family=\"Times,serif\" font-size=\"14.00\">CSwap</text>\n",
       "<text text-anchor=\"start\" x=\"8\" y=\"-9\" font-family=\"monospace\" font-size=\"10.00\">bitsize=2</text>\n",
       "</g>\n",
       "<!-- b0&#45;&gt;b1 -->\n",
       "<g id=\"edge1\" class=\"edge\">\n",
       "<title>b0-&gt;b1</title>\n",
       "<path fill=\"none\" stroke=\"black\" d=\"M257.22,-86.98C210.25,-74.7 146,-57.11 80.87,-35.98\"/>\n",
       "<polygon fill=\"black\" stroke=\"black\" points=\"81.85,-32.62 71.26,-32.84 79.68,-39.27 81.85,-32.62\"/>\n",
       "<text text-anchor=\"middle\" x=\"191\" y=\"-57.8\" font-family=\"Times,serif\" font-size=\"14.00\">1</text>\n",
       "</g>\n",
       "<!-- b2 -->\n",
       "<g id=\"node3\" class=\"node\">\n",
       "<title>b2</title>\n",
       "<polygon fill=\"none\" stroke=\"black\" points=\"269.5,-36 89.5,-36 89.5,0 269.5,0 269.5,-36\"/>\n",
       "<text text-anchor=\"start\" x=\"97.5\" y=\"-19.8\" font-family=\"Times,serif\" font-size=\"14.00\">PrepareUniformSuperposition</text>\n",
       "<text text-anchor=\"start\" x=\"146\" y=\"-9\" font-family=\"monospace\" font-size=\"10.00\">n=4, cvs=()</text>\n",
       "</g>\n",
       "<!-- b0&#45;&gt;b2 -->\n",
       "<g id=\"edge2\" class=\"edge\">\n",
       "<title>b0-&gt;b2</title>\n",
       "<path fill=\"none\" stroke=\"black\" d=\"M295.16,-86.8C272.85,-73.72 241.97,-55.62 217.73,-41.41\"/>\n",
       "<polygon fill=\"black\" stroke=\"black\" points=\"219.2,-38.21 208.8,-36.18 215.66,-44.25 219.2,-38.21\"/>\n",
       "<text text-anchor=\"middle\" x=\"265\" y=\"-57.8\" font-family=\"Times,serif\" font-size=\"14.00\">1</text>\n",
       "</g>\n",
       "<!-- b3 -->\n",
       "<g id=\"node4\" class=\"node\">\n",
       "<title>b3</title>\n",
       "<polygon fill=\"none\" stroke=\"black\" points=\"361.5,-36 287.5,-36 287.5,0 361.5,0 361.5,-36\"/>\n",
       "<text text-anchor=\"start\" x=\"295.5\" y=\"-14.3\" font-family=\"Times,serif\" font-size=\"14.00\">Hadamard</text>\n",
       "</g>\n",
       "<!-- b0&#45;&gt;b3 -->\n",
       "<g id=\"edge3\" class=\"edge\">\n",
       "<title>b0-&gt;b3</title>\n",
       "<path fill=\"none\" stroke=\"black\" d=\"M324.5,-86.8C324.5,-75.16 324.5,-59.55 324.5,-46.24\"/>\n",
       "<polygon fill=\"black\" stroke=\"black\" points=\"328,-46.18 324.5,-36.18 321,-46.18 328,-46.18\"/>\n",
       "<text text-anchor=\"middle\" x=\"328\" y=\"-57.8\" font-family=\"Times,serif\" font-size=\"14.00\">3</text>\n",
       "</g>\n",
       "<!-- b4 -->\n",
       "<g id=\"node5\" class=\"node\">\n",
       "<title>b4</title>\n",
       "<polygon fill=\"none\" stroke=\"black\" points=\"889,-36 380,-36 380,0 889,0 889,-36\"/>\n",
       "<text text-anchor=\"start\" x=\"613.5\" y=\"-19.8\" font-family=\"Times,serif\" font-size=\"14.00\">QROM</text>\n",
       "<text text-anchor=\"start\" x=\"388\" y=\"-9\" font-family=\"monospace\" font-size=\"10.00\">data=(array([ ..., selection_bitsizes=(2,), target_bitsizes=(2, 3), num_controls=0</text>\n",
       "</g>\n",
       "<!-- b0&#45;&gt;b4 -->\n",
       "<g id=\"edge4\" class=\"edge\">\n",
       "<title>b0-&gt;b4</title>\n",
       "<path fill=\"none\" stroke=\"black\" d=\"M386.86,-86.9C437.63,-72.98 509.34,-53.32 562.53,-38.73\"/>\n",
       "<polygon fill=\"black\" stroke=\"black\" points=\"563.52,-42.09 572.24,-36.07 561.67,-35.34 563.52,-42.09\"/>\n",
       "<text text-anchor=\"middle\" x=\"502\" y=\"-57.8\" font-family=\"Times,serif\" font-size=\"14.00\">1</text>\n",
       "</g>\n",
       "<!-- b5 -->\n",
       "<g id=\"node6\" class=\"node\">\n",
       "<title>b5</title>\n",
       "<polygon fill=\"none\" stroke=\"black\" points=\"1068,-36 907,-36 907,0 1068,0 1068,-36\"/>\n",
       "<text text-anchor=\"start\" x=\"945\" y=\"-19.8\" font-family=\"Times,serif\" font-size=\"14.00\">LessThanEqual</text>\n",
       "<text text-anchor=\"start\" x=\"915\" y=\"-9\" font-family=\"monospace\" font-size=\"10.00\">x_bitsize=3, y_bitsize=3</text>\n",
       "</g>\n",
       "<!-- b0&#45;&gt;b5 -->\n",
       "<g id=\"edge5\" class=\"edge\">\n",
       "<title>b0-&gt;b5</title>\n",
       "<path fill=\"none\" stroke=\"black\" d=\"M493.84,-86.99C605.45,-75.03 755.02,-57.62 896.43,-36.11\"/>\n",
       "<polygon fill=\"black\" stroke=\"black\" points=\"897.24,-39.53 906.59,-34.55 896.18,-32.61 897.24,-39.53\"/>\n",
       "<text text-anchor=\"middle\" x=\"760\" y=\"-57.8\" font-family=\"Times,serif\" font-size=\"14.00\">1</text>\n",
       "</g>\n",
       "</g>\n",
       "</svg>"
      ],
      "text/plain": [
       "<IPython.core.display.SVG object>"
      ]
     },
     "metadata": {},
     "output_type": "display_data"
    },
    {
     "data": {
      "text/markdown": [
       "#### Counts totals:\n",
       " - `CSwap(bitsize=2)`: 1\n",
       " - `Hadamard()`: 3\n",
       " - `LessThanEqual(x_bitsize=3, y_bitsize=3)`: 1\n",
       " - `PrepareUniformSuperposition(n=4, cvs=())`: 1\n",
       " - `QROM(data=(array([2, 2, 3, 3]), array([5, 4, 7, 0])), selection_bitsizes=(2,), target_bitsizes=(2, 3), num_controls=0)`: 1"
      ],
      "text/plain": [
       "<IPython.core.display.Markdown object>"
      ]
     },
     "metadata": {},
     "output_type": "display_data"
    }
   ],
   "source": [
    "from qualtran.resource_counting.generalizers import ignore_split_join\n",
    "state_prep_alias_g, state_prep_alias_sigma = state_prep_alias.call_graph(max_depth=1, generalizer=ignore_split_join)\n",
    "show_call_graph(state_prep_alias_g)\n",
    "show_counts_sigma(state_prep_alias_sigma)"
   ]
  }
 ],
 "metadata": {
  "kernelspec": {
   "display_name": "Python 3",
   "language": "python",
   "name": "python3"
  },
  "language_info": {
   "codemirror_mode": {
    "name": "ipython",
    "version": 3
   },
   "file_extension": ".py",
   "mimetype": "text/x-python",
   "name": "python",
   "nbconvert_exporter": "python",
   "pygments_lexer": "ipython3",
   "version": "3.11.8"
  },
  "widgets": {
   "application/vnd.jupyter.widget-state+json": {
    "state": {
     "31056407097f4eb582b13b535b89200f": {
      "model_module": "@jupyter-widgets/base",
      "model_module_version": "2.0.0",
      "model_name": "LayoutModel",
      "state": {
       "_model_module": "@jupyter-widgets/base",
       "_model_module_version": "2.0.0",
       "_model_name": "LayoutModel",
       "_view_count": null,
       "_view_module": "@jupyter-widgets/base",
       "_view_module_version": "2.0.0",
       "_view_name": "LayoutView",
       "align_content": null,
       "align_items": null,
       "align_self": null,
       "border_bottom": null,
       "border_left": null,
       "border_right": null,
       "border_top": null,
       "bottom": null,
       "display": null,
       "flex": null,
       "flex_flow": null,
       "grid_area": null,
       "grid_auto_columns": null,
       "grid_auto_flow": null,
       "grid_auto_rows": null,
       "grid_column": null,
       "grid_gap": null,
       "grid_row": null,
       "grid_template_areas": null,
       "grid_template_columns": null,
       "grid_template_rows": null,
       "height": null,
       "justify_content": null,
       "justify_items": null,
       "left": null,
       "margin": null,
       "max_height": null,
       "max_width": null,
       "min_height": null,
       "min_width": null,
       "object_fit": null,
       "object_position": null,
       "order": null,
       "overflow": null,
       "padding": null,
       "right": null,
       "top": null,
       "visibility": null,
       "width": null
      }
     },
     "64b59793f2e34a2c8ff843de3a247b5d": {
      "model_module": "@jupyter-widgets/controls",
      "model_module_version": "2.0.0",
      "model_name": "HBoxModel",
      "state": {
       "_dom_classes": [],
       "_model_module": "@jupyter-widgets/controls",
       "_model_module_version": "2.0.0",
       "_model_name": "HBoxModel",
       "_view_count": null,
       "_view_module": "@jupyter-widgets/controls",
       "_view_module_version": "2.0.0",
       "_view_name": "HBoxView",
       "box_style": "",
       "children": [
        "IPY_MODEL_b93033d8b18745b7a17b4c8b3ff285e9"
       ],
       "layout": "IPY_MODEL_78fef36491774bf48ea97e54860b081f",
       "tabbable": null,
       "tooltip": null
      }
     },
     "78fef36491774bf48ea97e54860b081f": {
      "model_module": "@jupyter-widgets/base",
      "model_module_version": "2.0.0",
      "model_name": "LayoutModel",
      "state": {
       "_model_module": "@jupyter-widgets/base",
       "_model_module_version": "2.0.0",
       "_model_name": "LayoutModel",
       "_view_count": null,
       "_view_module": "@jupyter-widgets/base",
       "_view_module_version": "2.0.0",
       "_view_name": "LayoutView",
       "align_content": null,
       "align_items": null,
       "align_self": null,
       "border_bottom": null,
       "border_left": null,
       "border_right": null,
       "border_top": null,
       "bottom": null,
       "display": null,
       "flex": null,
       "flex_flow": null,
       "grid_area": null,
       "grid_auto_columns": null,
       "grid_auto_flow": null,
       "grid_auto_rows": null,
       "grid_column": null,
       "grid_gap": null,
       "grid_row": null,
       "grid_template_areas": null,
       "grid_template_columns": null,
       "grid_template_rows": null,
       "height": null,
       "justify_content": null,
       "justify_items": null,
       "left": null,
       "margin": null,
       "max_height": null,
       "max_width": null,
       "min_height": null,
       "min_width": null,
       "object_fit": null,
       "object_position": null,
       "order": null,
       "overflow": null,
       "padding": null,
       "right": null,
       "top": null,
       "visibility": null,
       "width": null
      }
     },
     "b93033d8b18745b7a17b4c8b3ff285e9": {
      "model_module": "@jupyter-widgets/output",
      "model_module_version": "1.0.0",
      "model_name": "OutputModel",
      "state": {
       "_dom_classes": [],
       "_model_module": "@jupyter-widgets/output",
       "_model_module_version": "1.0.0",
       "_model_name": "OutputModel",
       "_view_count": null,
       "_view_module": "@jupyter-widgets/output",
       "_view_module_version": "1.0.0",
       "_view_name": "OutputView",
       "layout": "IPY_MODEL_31056407097f4eb582b13b535b89200f",
       "msg_id": "",
       "outputs": [
        {
         "data": {
          "text/markdown": "`state_prep_alias`",
          "text/plain": "<IPython.core.display.Markdown object>"
         },
         "metadata": {},
         "output_type": "display_data"
        },
        {
         "data": {
          "image/svg+xml": "<svg xmlns=\"http://www.w3.org/2000/svg\" xmlns:xlink=\"http://www.w3.org/1999/xlink\" width=\"381pt\" height=\"260pt\" viewBox=\"0.00 0.00 381.00 260.00\">\n<g id=\"graph0\" class=\"graph\" transform=\"scale(1 1) rotate(0) translate(4 256)\">\n<title>my_graph</title>\n<polygon fill=\"white\" stroke=\"transparent\" points=\"-4,4 -4,-256 377,-256 377,4 -4,4\"/>\n<!-- selection_G14 -->\n<g id=\"node1\" class=\"node\">\n<title>selection_G14</title>\n<text text-anchor=\"middle\" x=\"51.5\" y=\"-230.3\" font-family=\"Times,serif\" font-size=\"14.00\">selection</text>\n</g>\n<!-- StatePreparationAliasSampling -->\n<g id=\"node6\" class=\"node\">\n<title>StatePreparationAliasSampling</title>\n<polygon fill=\"none\" stroke=\"black\" points=\"140.5,-179 140.5,-196 233.5,-196 233.5,-179 140.5,-179\"/>\n<text text-anchor=\"start\" x=\"168\" y=\"-185\" font-family=\"Times,serif\" font-size=\"10.00\">StatePre..</text>\n<polygon fill=\"none\" stroke=\"black\" points=\"140.5,-158 140.5,-179 233.5,-179 233.5,-158 140.5,-158\"/>\n<text text-anchor=\"start\" x=\"162.5\" y=\"-164.8\" font-family=\"Times,serif\" font-size=\"14.00\">selection</text>\n<polygon fill=\"none\" stroke=\"black\" points=\"140.5,-137 140.5,-158 233.5,-158 233.5,-137 140.5,-137\"/>\n<text text-anchor=\"start\" x=\"158\" y=\"-143.8\" font-family=\"Times,serif\" font-size=\"14.00\">sigma_mu</text>\n<polygon fill=\"none\" stroke=\"black\" points=\"140.5,-116 140.5,-137 233.5,-137 233.5,-116 140.5,-116\"/>\n<text text-anchor=\"start\" x=\"180\" y=\"-122.8\" font-family=\"Times,serif\" font-size=\"14.00\">alt</text>\n<polygon fill=\"none\" stroke=\"black\" points=\"140.5,-95 140.5,-116 233.5,-116 233.5,-95 140.5,-95\"/>\n<text text-anchor=\"start\" x=\"174\" y=\"-101.8\" font-family=\"Times,serif\" font-size=\"14.00\">keep</text>\n<polygon fill=\"none\" stroke=\"black\" points=\"140.5,-74 140.5,-95 233.5,-95 233.5,-74 140.5,-74\"/>\n<text text-anchor=\"start\" x=\"143.5\" y=\"-80.8\" font-family=\"Times,serif\" font-size=\"14.00\">less_than_equal</text>\n</g>\n<!-- selection_G14&#45;&gt;StatePreparationAliasSampling -->\n<g id=\"edge1\" class=\"edge\">\n<title>selection_G14:e-&gt;StatePreparationAliasSampling:w</title>\n<path fill=\"none\" stroke=\"black\" d=\"M85.5,-234C122.46,-234 103.09,-171.51 137.86,-169.07\"/>\n<ellipse fill=\"black\" stroke=\"black\" cx=\"139\" cy=\"-169.03\" rx=\"1\" ry=\"1\"/>\n<text text-anchor=\"middle\" x=\"121.5\" y=\"-181\" font-family=\"Times,serif\" font-size=\"10.00\">2</text>\n</g>\n<!-- sigma_mu_G7 -->\n<g id=\"node2\" class=\"node\">\n<title>sigma_mu_G7</title>\n<text text-anchor=\"middle\" x=\"51.5\" y=\"-176.3\" font-family=\"Times,serif\" font-size=\"14.00\">sigma_mu</text>\n</g>\n<!-- sigma_mu_G7&#45;&gt;StatePreparationAliasSampling -->\n<g id=\"edge2\" class=\"edge\">\n<title>sigma_mu_G7:e-&gt;StatePreparationAliasSampling:w</title>\n<path fill=\"none\" stroke=\"black\" d=\"M89.5,-180C115.34,-180 113.55,-149.73 137.88,-148.07\"/>\n<ellipse fill=\"black\" stroke=\"black\" cx=\"139\" cy=\"-148.03\" rx=\"1\" ry=\"1\"/>\n<text text-anchor=\"middle\" x=\"121.5\" y=\"-158\" font-family=\"Times,serif\" font-size=\"10.00\">3</text>\n</g>\n<!-- alt_G8 -->\n<g id=\"node3\" class=\"node\">\n<title>alt_G8</title>\n<text text-anchor=\"middle\" x=\"51.5\" y=\"-122.3\" font-family=\"Times,serif\" font-size=\"14.00\">alt</text>\n</g>\n<!-- alt_G8&#45;&gt;StatePreparationAliasSampling -->\n<g id=\"edge3\" class=\"edge\">\n<title>alt_G8:e-&gt;StatePreparationAliasSampling:w</title>\n<path fill=\"none\" stroke=\"black\" d=\"M79.5,-126C105.65,-126 112.73,-126 137.84,-126\"/>\n<ellipse fill=\"black\" stroke=\"black\" cx=\"139\" cy=\"-126\" rx=\"1\" ry=\"1\"/>\n<text text-anchor=\"middle\" x=\"121.5\" y=\"-129\" font-family=\"Times,serif\" font-size=\"10.00\">2</text>\n</g>\n<!-- keep_G2 -->\n<g id=\"node4\" class=\"node\">\n<title>keep_G2</title>\n<text text-anchor=\"middle\" x=\"51.5\" y=\"-68.3\" font-family=\"Times,serif\" font-size=\"14.00\">keep</text>\n</g>\n<!-- keep_G2&#45;&gt;StatePreparationAliasSampling -->\n<g id=\"edge4\" class=\"edge\">\n<title>keep_G2:e-&gt;StatePreparationAliasSampling:w</title>\n<path fill=\"none\" stroke=\"black\" d=\"M79.5,-72C109.41,-72 109.39,-103.47 137.9,-104.95\"/>\n<ellipse fill=\"black\" stroke=\"black\" cx=\"139\" cy=\"-104.97\" rx=\"1\" ry=\"1\"/>\n<text text-anchor=\"middle\" x=\"121.5\" y=\"-102\" font-family=\"Times,serif\" font-size=\"10.00\">3</text>\n</g>\n<!-- less_than_equal_G0 -->\n<g id=\"node5\" class=\"node\">\n<title>less_than_equal_G0</title>\n<text text-anchor=\"middle\" x=\"51.5\" y=\"-14.3\" font-family=\"Times,serif\" font-size=\"14.00\">less_than_equal</text>\n</g>\n<!-- less_than_equal_G0&#45;&gt;StatePreparationAliasSampling -->\n<g id=\"edge5\" class=\"edge\">\n<title>less_than_equal_G0:e-&gt;StatePreparationAliasSampling:w</title>\n<path fill=\"none\" stroke=\"black\" d=\"M103,-18C135.84,-18 107.75,-80.94 137.74,-83.89\"/>\n<ellipse fill=\"black\" stroke=\"black\" cx=\"139\" cy=\"-83.95\" rx=\"1\" ry=\"1\"/>\n<text text-anchor=\"middle\" x=\"121.5\" y=\"-62\" font-family=\"Times,serif\" font-size=\"10.00\">1</text>\n</g>\n<!-- selection_G10 -->\n<g id=\"node7\" class=\"node\">\n<title>selection_G10</title>\n<text text-anchor=\"middle\" x=\"321.5\" y=\"-230.3\" font-family=\"Times,serif\" font-size=\"14.00\">selection</text>\n</g>\n<!-- StatePreparationAliasSampling&#45;&gt;selection_G10 -->\n<g id=\"edge6\" class=\"edge\">\n<title>StatePreparationAliasSampling:e-&gt;selection_G10:w</title>\n<path fill=\"none\" stroke=\"black\" d=\"M233,-169C269.96,-169 250.59,-231.49 285.36,-233.93\"/>\n<ellipse fill=\"black\" stroke=\"black\" cx=\"286.5\" cy=\"-233.97\" rx=\"1\" ry=\"1\"/>\n<text text-anchor=\"middle\" x=\"251.5\" y=\"-181\" font-family=\"Times,serif\" font-size=\"10.00\">2</text>\n</g>\n<!-- sigma_mu_G13 -->\n<g id=\"node8\" class=\"node\">\n<title>sigma_mu_G13</title>\n<text text-anchor=\"middle\" x=\"321.5\" y=\"-176.3\" font-family=\"Times,serif\" font-size=\"14.00\">sigma_mu</text>\n</g>\n<!-- StatePreparationAliasSampling&#45;&gt;sigma_mu_G13 -->\n<g id=\"edge7\" class=\"edge\">\n<title>StatePreparationAliasSampling:e-&gt;sigma_mu_G13:w</title>\n<path fill=\"none\" stroke=\"black\" d=\"M233,-148C258.84,-148 257.05,-178.27 281.38,-179.93\"/>\n<ellipse fill=\"black\" stroke=\"black\" cx=\"282.5\" cy=\"-179.97\" rx=\"1\" ry=\"1\"/>\n<text text-anchor=\"middle\" x=\"251.5\" y=\"-158\" font-family=\"Times,serif\" font-size=\"10.00\">3</text>\n</g>\n<!-- alt_G11 -->\n<g id=\"node9\" class=\"node\">\n<title>alt_G11</title>\n<text text-anchor=\"middle\" x=\"321.5\" y=\"-122.3\" font-family=\"Times,serif\" font-size=\"14.00\">alt</text>\n</g>\n<!-- StatePreparationAliasSampling&#45;&gt;alt_G11 -->\n<g id=\"edge8\" class=\"edge\">\n<title>StatePreparationAliasSampling:e-&gt;alt_G11:w</title>\n<path fill=\"none\" stroke=\"black\" d=\"M233,-126C259.15,-126 266.23,-126 291.34,-126\"/>\n<ellipse fill=\"black\" stroke=\"black\" cx=\"292.5\" cy=\"-126\" rx=\"1\" ry=\"1\"/>\n<text text-anchor=\"middle\" x=\"251.5\" y=\"-129\" font-family=\"Times,serif\" font-size=\"10.00\">2</text>\n</g>\n<!-- keep_G9 -->\n<g id=\"node10\" class=\"node\">\n<title>keep_G9</title>\n<text text-anchor=\"middle\" x=\"321.5\" y=\"-68.3\" font-family=\"Times,serif\" font-size=\"14.00\">keep</text>\n</g>\n<!-- StatePreparationAliasSampling&#45;&gt;keep_G9 -->\n<g id=\"edge9\" class=\"edge\">\n<title>StatePreparationAliasSampling:e-&gt;keep_G9:w</title>\n<path fill=\"none\" stroke=\"black\" d=\"M233,-105C262.91,-105 262.89,-73.53 291.4,-72.05\"/>\n<ellipse fill=\"black\" stroke=\"black\" cx=\"292.5\" cy=\"-72.03\" rx=\"1\" ry=\"1\"/>\n<text text-anchor=\"middle\" x=\"251.5\" y=\"-102\" font-family=\"Times,serif\" font-size=\"10.00\">3</text>\n</g>\n<!-- less_than_equal_G12 -->\n<g id=\"node11\" class=\"node\">\n<title>less_than_equal_G12</title>\n<text text-anchor=\"middle\" x=\"321.5\" y=\"-14.3\" font-family=\"Times,serif\" font-size=\"14.00\">less_than_equal</text>\n</g>\n<!-- StatePreparationAliasSampling&#45;&gt;less_than_equal_G12 -->\n<g id=\"edge10\" class=\"edge\">\n<title>StatePreparationAliasSampling:e-&gt;less_than_equal_G12:w</title>\n<path fill=\"none\" stroke=\"black\" d=\"M233,-84C265.84,-84 237.75,-21.06 267.74,-18.11\"/>\n<ellipse fill=\"black\" stroke=\"black\" cx=\"269\" cy=\"-18.05\" rx=\"1\" ry=\"1\"/>\n<text text-anchor=\"middle\" x=\"251.5\" y=\"-62\" font-family=\"Times,serif\" font-size=\"10.00\">1</text>\n</g>\n</g>\n</svg>",
          "text/plain": "<IPython.core.display.SVG object>"
         },
         "metadata": {},
         "output_type": "display_data"
        }
       ],
       "tabbable": null,
       "tooltip": null
      }
     }
    },
    "version_major": 2,
    "version_minor": 0
   }
  }
 },
 "nbformat": 4,
 "nbformat_minor": 5
}
