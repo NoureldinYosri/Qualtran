{
 "cells": [
  {
   "cell_type": "markdown",
   "id": "9a9d3252",
   "metadata": {
    "cq.autogen": "title_cell"
   },
   "source": [
    "# Prepare Uniform Superposition"
   ]
  },
  {
   "cell_type": "code",
   "execution_count": 1,
   "id": "7c8d8ac9",
   "metadata": {
    "cq.autogen": "top_imports"
   },
   "outputs": [],
   "source": [
    "from qualtran import Bloq, CompositeBloq, BloqBuilder, Signature, Register\n",
    "from qualtran import QBit, QInt, QUInt, QAny\n",
    "from qualtran.drawing import show_bloq, show_call_graph, show_counts_sigma\n",
    "from typing import *\n",
    "import numpy as np\n",
    "import sympy\n",
    "import cirq"
   ]
  },
  {
   "cell_type": "markdown",
   "id": "def95de5",
   "metadata": {
    "cq.autogen": "PrepareUniformSuperposition.bloq_doc.md"
   },
   "source": [
    "## `PrepareUniformSuperposition`\n",
    "Prepares a uniform superposition over first $n$ basis states using $O(log(n))$ T-gates.\n",
    "\n",
    "Performs a single round of amplitude amplification and prepares a uniform superposition over\n",
    "the first $n$ basis states $|0>, |1>, ..., |n - 1>$. The expected T-complexity should be\n",
    "$10 * log(L) + 2 * K$ T-gates and $2$ single qubit rotation gates, where $n = L * 2^K$.\n",
    "\n",
    "However, the current T-complexity is $12 * log(L)$ T-gates and $2 + 2 * (K + log(L))$ rotations\n",
    "because of two open issues:\n",
    " - https://github.com/quantumlib/Qualtran/issues/233 and\n",
    " - https://github.com/quantumlib/Qualtran/issues/235\n",
    "\n",
    "#### Parameters\n",
    " - `n`: The gate prepares a uniform superposition over first $n$ basis states.\n",
    " - `cvs`: Control values for each control qubit. If specified, a controlled version of the gate is constructed. \n",
    "\n",
    "#### References\n",
    " - [Encoding Electronic Spectra in Quantum Circuits with Linear T Complexity](https://arxiv.org/abs/1805.03662). Fig 12.\n"
   ]
  },
  {
   "cell_type": "code",
   "execution_count": 2,
   "id": "310d03d9",
   "metadata": {
    "cq.autogen": "PrepareUniformSuperposition.bloq_doc.py"
   },
   "outputs": [],
   "source": [
    "from qualtran.bloqs.state_preparation import PrepareUniformSuperposition"
   ]
  },
  {
   "cell_type": "markdown",
   "id": "5b29f5e7",
   "metadata": {
    "cq.autogen": "PrepareUniformSuperposition.example_instances.md"
   },
   "source": [
    "### Example Instances"
   ]
  },
  {
   "cell_type": "code",
   "execution_count": 3,
   "id": "8ce0c967",
   "metadata": {
    "cq.autogen": "PrepareUniformSuperposition.prep_uniform"
   },
   "outputs": [],
   "source": [
    "prep_uniform = PrepareUniformSuperposition(n=5)"
   ]
  },
  {
   "cell_type": "code",
   "execution_count": 4,
   "id": "cbd8e75c",
   "metadata": {
    "cq.autogen": "PrepareUniformSuperposition.c_prep_uniform"
   },
   "outputs": [],
   "source": [
    "c_prep_uniform = PrepareUniformSuperposition(n=5, cvs=[1])"
   ]
  },
  {
   "cell_type": "markdown",
   "id": "1adad413",
   "metadata": {
    "cq.autogen": "PrepareUniformSuperposition.graphical_signature.md"
   },
   "source": [
    "#### Graphical Signature"
   ]
  },
  {
   "cell_type": "code",
   "execution_count": 5,
   "id": "40adbbcc",
   "metadata": {
    "cq.autogen": "PrepareUniformSuperposition.graphical_signature.py"
   },
   "outputs": [
    {
     "data": {
      "application/vnd.jupyter.widget-view+json": {
       "model_id": "44d3a15013de4caa9889847ca750c9e2",
       "version_major": 2,
       "version_minor": 0
      },
      "text/plain": [
       "HBox(children=(Output(outputs=({'output_type': 'display_data', 'data': {'text/plain': '<IPython.core.display.M…"
      ]
     },
     "metadata": {},
     "output_type": "display_data"
    }
   ],
   "source": [
    "from qualtran.drawing import show_bloqs\n",
    "show_bloqs([prep_uniform, c_prep_uniform],\n",
    "           ['`prep_uniform`', '`c_prep_uniform`'])"
   ]
  },
  {
   "cell_type": "markdown",
   "id": "d5b67f42",
   "metadata": {
    "cq.autogen": "PrepareUniformSuperposition.call_graph.md"
   },
   "source": [
    "### Call Graph"
   ]
  },
  {
   "cell_type": "code",
   "execution_count": 6,
   "id": "2fbbacaf",
   "metadata": {
    "cq.autogen": "PrepareUniformSuperposition.call_graph.py"
   },
   "outputs": [
    {
     "data": {
      "image/svg+xml": [
       "<svg xmlns=\"http://www.w3.org/2000/svg\" xmlns:xlink=\"http://www.w3.org/1999/xlink\" width=\"1157pt\" height=\"131pt\" viewBox=\"0.00 0.00 1157.00 131.00\">\n",
       "<g id=\"graph0\" class=\"graph\" transform=\"scale(1 1) rotate(0) translate(4 127)\">\n",
       "<title>counts</title>\n",
       "<polygon fill=\"white\" stroke=\"transparent\" points=\"-4,4 -4,-127 1153,-127 1153,4 -4,4\"/>\n",
       "<!-- b0 -->\n",
       "<g id=\"node1\" class=\"node\">\n",
       "<title>b0</title>\n",
       "<polygon fill=\"none\" stroke=\"black\" points=\"663.5,-123 483.5,-123 483.5,-87 663.5,-87 663.5,-123\"/>\n",
       "<text text-anchor=\"start\" x=\"491.5\" y=\"-106.8\" font-family=\"Times,serif\" font-size=\"14.00\">PrepareUniformSuperposition</text>\n",
       "<text text-anchor=\"start\" x=\"540\" y=\"-96\" font-family=\"monospace\" font-size=\"10.00\">n=5, cvs=()</text>\n",
       "</g>\n",
       "<!-- b1 -->\n",
       "<g id=\"node2\" class=\"node\">\n",
       "<title>b1</title>\n",
       "<polygon fill=\"none\" stroke=\"black\" points=\"203,-36 0,-36 0,0 203,0 203,-36\"/>\n",
       "<text text-anchor=\"start\" x=\"78.5\" y=\"-19.8\" font-family=\"Times,serif\" font-size=\"14.00\">Allocate</text>\n",
       "<text text-anchor=\"start\" x=\"8\" y=\"-9\" font-family=\"monospace\" font-size=\"10.00\">dtype=QAny(bit ..., dirty=False</text>\n",
       "</g>\n",
       "<!-- b0&#45;&gt;b1 -->\n",
       "<g id=\"edge1\" class=\"edge\">\n",
       "<title>b0-&gt;b1</title>\n",
       "<path fill=\"none\" stroke=\"black\" d=\"M483.33,-87.76C404.26,-73.52 289.28,-52.82 206.18,-37.85\"/>\n",
       "<polygon fill=\"black\" stroke=\"black\" points=\"206.67,-34.38 196.2,-36.05 205.42,-41.27 206.67,-34.38\"/>\n",
       "<text text-anchor=\"middle\" x=\"370\" y=\"-57.8\" font-family=\"Times,serif\" font-size=\"14.00\">1</text>\n",
       "</g>\n",
       "<!-- b2 -->\n",
       "<g id=\"node3\" class=\"node\">\n",
       "<title>b2</title>\n",
       "<polygon fill=\"none\" stroke=\"black\" points=\"394,-36 221,-36 221,0 394,0 394,-36\"/>\n",
       "<text text-anchor=\"start\" x=\"257\" y=\"-19.8\" font-family=\"Times,serif\" font-size=\"14.00\">LessThanConstant</text>\n",
       "<text text-anchor=\"start\" x=\"229\" y=\"-9\" font-family=\"monospace\" font-size=\"10.00\">bitsize=3, less_than_val=5</text>\n",
       "</g>\n",
       "<!-- b0&#45;&gt;b2 -->\n",
       "<g id=\"edge2\" class=\"edge\">\n",
       "<title>b0-&gt;b2</title>\n",
       "<path fill=\"none\" stroke=\"black\" d=\"M519.99,-86.9C476.88,-73.13 416.17,-53.73 370.68,-39.19\"/>\n",
       "<polygon fill=\"black\" stroke=\"black\" points=\"371.51,-35.78 360.92,-36.07 369.38,-42.45 371.51,-35.78\"/>\n",
       "<text text-anchor=\"middle\" x=\"460\" y=\"-57.8\" font-family=\"Times,serif\" font-size=\"14.00\">2</text>\n",
       "</g>\n",
       "<!-- b3 -->\n",
       "<g id=\"node4\" class=\"node\">\n",
       "<title>b3</title>\n",
       "<polygon fill=\"none\" stroke=\"black\" points=\"486.5,-36 412.5,-36 412.5,0 486.5,0 486.5,-36\"/>\n",
       "<text text-anchor=\"start\" x=\"420.5\" y=\"-14.3\" font-family=\"Times,serif\" font-size=\"14.00\">Hadamard</text>\n",
       "</g>\n",
       "<!-- b0&#45;&gt;b3 -->\n",
       "<g id=\"edge3\" class=\"edge\">\n",
       "<title>b0-&gt;b3</title>\n",
       "<path fill=\"none\" stroke=\"black\" d=\"M548.41,-86.8C529.58,-73.9 503.62,-56.1 483.02,-41.98\"/>\n",
       "<polygon fill=\"black\" stroke=\"black\" points=\"484.78,-38.94 474.56,-36.18 480.83,-44.72 484.78,-38.94\"/>\n",
       "<text text-anchor=\"middle\" x=\"523\" y=\"-57.8\" font-family=\"Times,serif\" font-size=\"14.00\">9</text>\n",
       "</g>\n",
       "<!-- b4 -->\n",
       "<g id=\"node5\" class=\"node\">\n",
       "<title>b4</title>\n",
       "<polygon fill=\"none\" stroke=\"black\" points=\"642,-36 505,-36 505,0 642,0 642,-36\"/>\n",
       "<text text-anchor=\"start\" x=\"543\" y=\"-19.8\" font-family=\"Times,serif\" font-size=\"14.00\">MultiAnd†</text>\n",
       "<text text-anchor=\"start\" x=\"513\" y=\"-9\" font-family=\"monospace\" font-size=\"10.00\">subbloq=MultiAnd ...</text>\n",
       "</g>\n",
       "<!-- b0&#45;&gt;b4 -->\n",
       "<g id=\"edge4\" class=\"edge\">\n",
       "<title>b0-&gt;b4</title>\n",
       "<path fill=\"none\" stroke=\"black\" d=\"M573.5,-86.8C573.5,-75.16 573.5,-59.55 573.5,-46.24\"/>\n",
       "<polygon fill=\"black\" stroke=\"black\" points=\"577,-46.18 573.5,-36.18 570,-46.18 577,-46.18\"/>\n",
       "<text text-anchor=\"middle\" x=\"577\" y=\"-57.8\" font-family=\"Times,serif\" font-size=\"14.00\">1</text>\n",
       "</g>\n",
       "<!-- b5 -->\n",
       "<g id=\"node6\" class=\"node\">\n",
       "<title>b5</title>\n",
       "<polygon fill=\"none\" stroke=\"black\" points=\"851,-36 660,-36 660,0 851,0 851,-36\"/>\n",
       "<text text-anchor=\"start\" x=\"747.5\" y=\"-19.8\" font-family=\"Times,serif\" font-size=\"14.00\">Rz</text>\n",
       "<text text-anchor=\"start\" x=\"668\" y=\"-9\" font-family=\"monospace\" font-size=\"10.00\">angle=1.369438 ..., eps=1e-11</text>\n",
       "</g>\n",
       "<!-- b0&#45;&gt;b5 -->\n",
       "<g id=\"edge5\" class=\"edge\">\n",
       "<title>b0-&gt;b5</title>\n",
       "<path fill=\"none\" stroke=\"black\" d=\"M610.33,-86.8C639.04,-73.39 679.06,-54.7 709.81,-40.34\"/>\n",
       "<polygon fill=\"black\" stroke=\"black\" points=\"711.46,-43.43 719.04,-36.03 708.49,-37.09 711.46,-43.43\"/>\n",
       "<text text-anchor=\"middle\" x=\"679\" y=\"-57.8\" font-family=\"Times,serif\" font-size=\"14.00\">2</text>\n",
       "</g>\n",
       "<!-- b6 -->\n",
       "<g id=\"node7\" class=\"node\">\n",
       "<title>b6</title>\n",
       "<polygon fill=\"none\" stroke=\"black\" points=\"1036,-36 869,-36 869,0 1036,0 1036,-36\"/>\n",
       "<text text-anchor=\"start\" x=\"940\" y=\"-19.8\" font-family=\"Times,serif\" font-size=\"14.00\">Free</text>\n",
       "<text text-anchor=\"start\" x=\"877\" y=\"-9\" font-family=\"monospace\" font-size=\"10.00\">dtype=QBit(), dirty=False</text>\n",
       "</g>\n",
       "<!-- b0&#45;&gt;b6 -->\n",
       "<g id=\"edge6\" class=\"edge\">\n",
       "<title>b0-&gt;b6</title>\n",
       "<path fill=\"none\" stroke=\"black\" d=\"M649.74,-86.9C712.45,-72.84 801.3,-52.91 866.53,-38.28\"/>\n",
       "<polygon fill=\"black\" stroke=\"black\" points=\"867.39,-41.68 876.38,-36.07 865.86,-34.84 867.39,-41.68\"/>\n",
       "<text text-anchor=\"middle\" x=\"790\" y=\"-57.8\" font-family=\"Times,serif\" font-size=\"14.00\">1</text>\n",
       "</g>\n",
       "<!-- b7 -->\n",
       "<g id=\"node8\" class=\"node\">\n",
       "<title>b7</title>\n",
       "<polygon fill=\"none\" stroke=\"black\" points=\"1149,-36 1054,-36 1054,0 1149,0 1149,-36\"/>\n",
       "<text text-anchor=\"start\" x=\"1074\" y=\"-19.8\" font-family=\"Times,serif\" font-size=\"14.00\">MultiAnd</text>\n",
       "<text text-anchor=\"start\" x=\"1062\" y=\"-9\" font-family=\"monospace\" font-size=\"10.00\">cvs=(0, 0, 0)</text>\n",
       "</g>\n",
       "<!-- b0&#45;&gt;b7 -->\n",
       "<g id=\"edge7\" class=\"edge\">\n",
       "<title>b0-&gt;b7</title>\n",
       "<path fill=\"none\" stroke=\"black\" d=\"M663.62,-94.96C756.71,-84.72 906.18,-65.77 1043.85,-35.96\"/>\n",
       "<polygon fill=\"black\" stroke=\"black\" points=\"1044.72,-39.35 1053.74,-33.8 1043.22,-32.52 1044.72,-39.35\"/>\n",
       "<text text-anchor=\"middle\" x=\"946\" y=\"-57.8\" font-family=\"Times,serif\" font-size=\"14.00\">1</text>\n",
       "</g>\n",
       "</g>\n",
       "</svg>"
      ],
      "text/plain": [
       "<IPython.core.display.SVG object>"
      ]
     },
     "metadata": {},
     "output_type": "display_data"
    },
    {
     "data": {
      "text/markdown": [
       "#### Counts totals:\n",
       " - `Adjoint(subbloq=MultiAnd(n=3))`: 1\n",
       " - `Allocate`: 1\n",
       " - `Free`: 1\n",
       " - `H`: 9\n",
       " - `LessThanConstant`: 2\n",
       " - `MultiAnd(n=3)`: 1\n",
       " - `Rz(0.43590578315102513π)`: 2"
      ],
      "text/plain": [
       "<IPython.core.display.Markdown object>"
      ]
     },
     "metadata": {},
     "output_type": "display_data"
    }
   ],
   "source": [
    "from qualtran.resource_counting.generalizers import ignore_split_join\n",
    "prep_uniform_g, prep_uniform_sigma = prep_uniform.call_graph(max_depth=1, generalizer=ignore_split_join)\n",
    "show_call_graph(prep_uniform_g)\n",
    "show_counts_sigma(prep_uniform_sigma)"
   ]
  }
 ],
 "metadata": {
  "kernelspec": {
   "display_name": "Python 3 (ipykernel)",
   "language": "python",
   "name": "python3"
  },
  "language_info": {
   "codemirror_mode": {
    "name": "ipython",
    "version": 3
   },
   "file_extension": ".py",
   "mimetype": "text/x-python",
   "name": "python",
   "nbconvert_exporter": "python",
   "pygments_lexer": "ipython3",
   "version": "3.11.8"
  },
  "widgets": {
   "application/vnd.jupyter.widget-state+json": {
    "state": {
     "44d3a15013de4caa9889847ca750c9e2": {
      "model_module": "@jupyter-widgets/controls",
      "model_module_version": "2.0.0",
      "model_name": "HBoxModel",
      "state": {
       "_dom_classes": [],
       "_model_module": "@jupyter-widgets/controls",
       "_model_module_version": "2.0.0",
       "_model_name": "HBoxModel",
       "_view_count": null,
       "_view_module": "@jupyter-widgets/controls",
       "_view_module_version": "2.0.0",
       "_view_name": "HBoxView",
       "box_style": "",
       "children": [
        "IPY_MODEL_c4b966e957aa46619f3571509d719464",
        "IPY_MODEL_e39ba6c2efba4b6293520ea3c950fc16"
       ],
       "layout": "IPY_MODEL_a2d3fdcbfa494b3496244d5d2d97d16a",
       "tabbable": null,
       "tooltip": null
      }
     },
     "9fa955a0f14e4268b522ae765cbd2d8b": {
      "model_module": "@jupyter-widgets/base",
      "model_module_version": "2.0.0",
      "model_name": "LayoutModel",
      "state": {
       "_model_module": "@jupyter-widgets/base",
       "_model_module_version": "2.0.0",
       "_model_name": "LayoutModel",
       "_view_count": null,
       "_view_module": "@jupyter-widgets/base",
       "_view_module_version": "2.0.0",
       "_view_name": "LayoutView",
       "align_content": null,
       "align_items": null,
       "align_self": null,
       "border_bottom": null,
       "border_left": null,
       "border_right": null,
       "border_top": null,
       "bottom": null,
       "display": null,
       "flex": null,
       "flex_flow": null,
       "grid_area": null,
       "grid_auto_columns": null,
       "grid_auto_flow": null,
       "grid_auto_rows": null,
       "grid_column": null,
       "grid_gap": null,
       "grid_row": null,
       "grid_template_areas": null,
       "grid_template_columns": null,
       "grid_template_rows": null,
       "height": null,
       "justify_content": null,
       "justify_items": null,
       "left": null,
       "margin": null,
       "max_height": null,
       "max_width": null,
       "min_height": null,
       "min_width": null,
       "object_fit": null,
       "object_position": null,
       "order": null,
       "overflow": null,
       "padding": null,
       "right": null,
       "top": null,
       "visibility": null,
       "width": null
      }
     },
     "a2d3fdcbfa494b3496244d5d2d97d16a": {
      "model_module": "@jupyter-widgets/base",
      "model_module_version": "2.0.0",
      "model_name": "LayoutModel",
      "state": {
       "_model_module": "@jupyter-widgets/base",
       "_model_module_version": "2.0.0",
       "_model_name": "LayoutModel",
       "_view_count": null,
       "_view_module": "@jupyter-widgets/base",
       "_view_module_version": "2.0.0",
       "_view_name": "LayoutView",
       "align_content": null,
       "align_items": null,
       "align_self": null,
       "border_bottom": null,
       "border_left": null,
       "border_right": null,
       "border_top": null,
       "bottom": null,
       "display": null,
       "flex": null,
       "flex_flow": null,
       "grid_area": null,
       "grid_auto_columns": null,
       "grid_auto_flow": null,
       "grid_auto_rows": null,
       "grid_column": null,
       "grid_gap": null,
       "grid_row": null,
       "grid_template_areas": null,
       "grid_template_columns": null,
       "grid_template_rows": null,
       "height": null,
       "justify_content": null,
       "justify_items": null,
       "left": null,
       "margin": null,
       "max_height": null,
       "max_width": null,
       "min_height": null,
       "min_width": null,
       "object_fit": null,
       "object_position": null,
       "order": null,
       "overflow": null,
       "padding": null,
       "right": null,
       "top": null,
       "visibility": null,
       "width": null
      }
     },
     "c4b966e957aa46619f3571509d719464": {
      "model_module": "@jupyter-widgets/output",
      "model_module_version": "1.0.0",
      "model_name": "OutputModel",
      "state": {
       "_dom_classes": [],
       "_model_module": "@jupyter-widgets/output",
       "_model_module_version": "1.0.0",
       "_model_name": "OutputModel",
       "_view_count": null,
       "_view_module": "@jupyter-widgets/output",
       "_view_module_version": "1.0.0",
       "_view_name": "OutputView",
       "layout": "IPY_MODEL_c934826da9ce47c4b39c707304343b57",
       "msg_id": "",
       "outputs": [
        {
         "data": {
          "text/markdown": "`prep_uniform`",
          "text/plain": "<IPython.core.display.Markdown object>"
         },
         "metadata": {},
         "output_type": "display_data"
        },
        {
         "data": {
          "image/svg+xml": "<svg xmlns=\"http://www.w3.org/2000/svg\" xmlns:xlink=\"http://www.w3.org/1999/xlink\" width=\"318pt\" height=\"54pt\" viewBox=\"0.00 0.00 318.00 54.00\">\n<g id=\"graph0\" class=\"graph\" transform=\"scale(1 1) rotate(0) translate(4 50)\">\n<title>my_graph</title>\n<polygon fill=\"white\" stroke=\"transparent\" points=\"-4,4 -4,-50 314,-50 314,4 -4,4\"/>\n<!-- target_G0 -->\n<g id=\"node1\" class=\"node\">\n<title>target_G0</title>\n<text text-anchor=\"middle\" x=\"27\" y=\"-14.3\" font-family=\"Times,serif\" font-size=\"14.00\">target</text>\n</g>\n<!-- PrepareUniformSuperposition -->\n<g id=\"node2\" class=\"node\">\n<title>PrepareUniformSuperposition</title>\n<polygon fill=\"none\" stroke=\"black\" points=\"91,-29 91,-46 219,-46 219,-29 91,-29\"/>\n<text text-anchor=\"start\" x=\"94\" y=\"-35\" font-family=\"Times,serif\" font-size=\"10.00\">PrepareUniformSuperposition</text>\n<polygon fill=\"none\" stroke=\"black\" points=\"91,-8 91,-29 219,-29 219,-8 91,-8\"/>\n<text text-anchor=\"start\" x=\"139.5\" y=\"-14.8\" font-family=\"Times,serif\" font-size=\"14.00\">target</text>\n</g>\n<!-- target_G0&#45;&gt;PrepareUniformSuperposition -->\n<g id=\"edge1\" class=\"edge\">\n<title>target_G0:e-&gt;PrepareUniformSuperposition:w</title>\n<path fill=\"none\" stroke=\"black\" d=\"M54,-18C69.67,-18 74.14,-18 88.77,-18\"/>\n<ellipse fill=\"black\" stroke=\"black\" cx=\"90\" cy=\"-18\" rx=\"1\" ry=\"1\"/>\n<text text-anchor=\"middle\" x=\"72.5\" y=\"-21\" font-family=\"Times,serif\" font-size=\"10.00\">3</text>\n</g>\n<!-- target_G1 -->\n<g id=\"node3\" class=\"node\">\n<title>target_G1</title>\n<text text-anchor=\"middle\" x=\"283\" y=\"-14.3\" font-family=\"Times,serif\" font-size=\"14.00\">target</text>\n</g>\n<!-- PrepareUniformSuperposition&#45;&gt;target_G1 -->\n<g id=\"edge2\" class=\"edge\">\n<title>PrepareUniformSuperposition:e-&gt;target_G1:w</title>\n<path fill=\"none\" stroke=\"black\" d=\"M219,-18C234.67,-18 239.14,-18 253.77,-18\"/>\n<ellipse fill=\"black\" stroke=\"black\" cx=\"255\" cy=\"-18\" rx=\"1\" ry=\"1\"/>\n<text text-anchor=\"middle\" x=\"237.5\" y=\"-21\" font-family=\"Times,serif\" font-size=\"10.00\">3</text>\n</g>\n</g>\n</svg>",
          "text/plain": "<IPython.core.display.SVG object>"
         },
         "metadata": {},
         "output_type": "display_data"
        }
       ],
       "tabbable": null,
       "tooltip": null
      }
     },
     "c934826da9ce47c4b39c707304343b57": {
      "model_module": "@jupyter-widgets/base",
      "model_module_version": "2.0.0",
      "model_name": "LayoutModel",
      "state": {
       "_model_module": "@jupyter-widgets/base",
       "_model_module_version": "2.0.0",
       "_model_name": "LayoutModel",
       "_view_count": null,
       "_view_module": "@jupyter-widgets/base",
       "_view_module_version": "2.0.0",
       "_view_name": "LayoutView",
       "align_content": null,
       "align_items": null,
       "align_self": null,
       "border_bottom": null,
       "border_left": null,
       "border_right": null,
       "border_top": null,
       "bottom": null,
       "display": null,
       "flex": null,
       "flex_flow": null,
       "grid_area": null,
       "grid_auto_columns": null,
       "grid_auto_flow": null,
       "grid_auto_rows": null,
       "grid_column": null,
       "grid_gap": null,
       "grid_row": null,
       "grid_template_areas": null,
       "grid_template_columns": null,
       "grid_template_rows": null,
       "height": null,
       "justify_content": null,
       "justify_items": null,
       "left": null,
       "margin": null,
       "max_height": null,
       "max_width": null,
       "min_height": null,
       "min_width": null,
       "object_fit": null,
       "object_position": null,
       "order": null,
       "overflow": null,
       "padding": null,
       "right": null,
       "top": null,
       "visibility": null,
       "width": null
      }
     },
     "e39ba6c2efba4b6293520ea3c950fc16": {
      "model_module": "@jupyter-widgets/output",
      "model_module_version": "1.0.0",
      "model_name": "OutputModel",
      "state": {
       "_dom_classes": [],
       "_model_module": "@jupyter-widgets/output",
       "_model_module_version": "1.0.0",
       "_model_name": "OutputModel",
       "_view_count": null,
       "_view_module": "@jupyter-widgets/output",
       "_view_module_version": "1.0.0",
       "_view_name": "OutputView",
       "layout": "IPY_MODEL_9fa955a0f14e4268b522ae765cbd2d8b",
       "msg_id": "",
       "outputs": [
        {
         "data": {
          "text/markdown": "`c_prep_uniform`",
          "text/plain": "<IPython.core.display.Markdown object>"
         },
         "metadata": {},
         "output_type": "display_data"
        },
        {
         "data": {
          "image/svg+xml": "<svg xmlns=\"http://www.w3.org/2000/svg\" xmlns:xlink=\"http://www.w3.org/1999/xlink\" width=\"318pt\" height=\"98pt\" viewBox=\"0.00 0.00 318.00 98.00\">\n<g id=\"graph0\" class=\"graph\" transform=\"scale(1 1) rotate(0) translate(4 94)\">\n<title>my_graph</title>\n<polygon fill=\"white\" stroke=\"transparent\" points=\"-4,4 -4,-94 314,-94 314,4 -4,4\"/>\n<!-- ctrl_G3 -->\n<g id=\"node1\" class=\"node\">\n<title>ctrl_G3</title>\n<text text-anchor=\"middle\" x=\"27\" y=\"-68.3\" font-family=\"Times,serif\" font-size=\"14.00\">ctrl</text>\n</g>\n<!-- PrepareUniformSuperposition -->\n<g id=\"node3\" class=\"node\">\n<title>PrepareUniformSuperposition</title>\n<polygon fill=\"none\" stroke=\"black\" points=\"91,-66 91,-83 219,-83 219,-66 91,-66\"/>\n<text text-anchor=\"start\" x=\"94\" y=\"-72\" font-family=\"Times,serif\" font-size=\"10.00\">PrepareUniformSuperposition</text>\n<polygon fill=\"none\" stroke=\"black\" points=\"91,-45 91,-66 219,-66 219,-45 91,-45\"/>\n<text text-anchor=\"start\" x=\"145.5\" y=\"-51.8\" font-family=\"Times,serif\" font-size=\"14.00\">ctrl</text>\n<polygon fill=\"none\" stroke=\"black\" points=\"91,-24 91,-45 219,-45 219,-24 91,-24\"/>\n<text text-anchor=\"start\" x=\"139.5\" y=\"-30.8\" font-family=\"Times,serif\" font-size=\"14.00\">target</text>\n</g>\n<!-- ctrl_G3&#45;&gt;PrepareUniformSuperposition -->\n<g id=\"edge1\" class=\"edge\">\n<title>ctrl_G3:e-&gt;PrepareUniformSuperposition:w</title>\n<path fill=\"none\" stroke=\"black\" d=\"M54,-72C71.22,-72 72.97,-57.23 88.98,-56.07\"/>\n<ellipse fill=\"black\" stroke=\"black\" cx=\"90\" cy=\"-56.04\" rx=\"1\" ry=\"1\"/>\n<text text-anchor=\"middle\" x=\"72.5\" y=\"-67\" font-family=\"Times,serif\" font-size=\"10.00\">1</text>\n</g>\n<!-- target_G0 -->\n<g id=\"node2\" class=\"node\">\n<title>target_G0</title>\n<text text-anchor=\"middle\" x=\"27\" y=\"-14.3\" font-family=\"Times,serif\" font-size=\"14.00\">target</text>\n</g>\n<!-- target_G0&#45;&gt;PrepareUniformSuperposition -->\n<g id=\"edge2\" class=\"edge\">\n<title>target_G0:e-&gt;PrepareUniformSuperposition:w</title>\n<path fill=\"none\" stroke=\"black\" d=\"M54,-18C71.22,-18 72.97,-32.77 88.98,-33.93\"/>\n<ellipse fill=\"black\" stroke=\"black\" cx=\"90\" cy=\"-33.96\" rx=\"1\" ry=\"1\"/>\n<text text-anchor=\"middle\" x=\"72.5\" y=\"-29\" font-family=\"Times,serif\" font-size=\"10.00\">3</text>\n</g>\n<!-- ctrl_G5 -->\n<g id=\"node4\" class=\"node\">\n<title>ctrl_G5</title>\n<text text-anchor=\"middle\" x=\"283\" y=\"-68.3\" font-family=\"Times,serif\" font-size=\"14.00\">ctrl</text>\n</g>\n<!-- PrepareUniformSuperposition&#45;&gt;ctrl_G5 -->\n<g id=\"edge3\" class=\"edge\">\n<title>PrepareUniformSuperposition:e-&gt;ctrl_G5:w</title>\n<path fill=\"none\" stroke=\"black\" d=\"M219,-56C236.22,-56 237.97,-70.77 253.98,-71.93\"/>\n<ellipse fill=\"black\" stroke=\"black\" cx=\"255\" cy=\"-71.96\" rx=\"1\" ry=\"1\"/>\n<text text-anchor=\"middle\" x=\"237.5\" y=\"-67\" font-family=\"Times,serif\" font-size=\"10.00\">1</text>\n</g>\n<!-- target_G4 -->\n<g id=\"node5\" class=\"node\">\n<title>target_G4</title>\n<text text-anchor=\"middle\" x=\"283\" y=\"-14.3\" font-family=\"Times,serif\" font-size=\"14.00\">target</text>\n</g>\n<!-- PrepareUniformSuperposition&#45;&gt;target_G4 -->\n<g id=\"edge4\" class=\"edge\">\n<title>PrepareUniformSuperposition:e-&gt;target_G4:w</title>\n<path fill=\"none\" stroke=\"black\" d=\"M219,-34C236.22,-34 237.97,-19.23 253.98,-18.07\"/>\n<ellipse fill=\"black\" stroke=\"black\" cx=\"255\" cy=\"-18.04\" rx=\"1\" ry=\"1\"/>\n<text text-anchor=\"middle\" x=\"237.5\" y=\"-29\" font-family=\"Times,serif\" font-size=\"10.00\">3</text>\n</g>\n</g>\n</svg>",
          "text/plain": "<IPython.core.display.SVG object>"
         },
         "metadata": {},
         "output_type": "display_data"
        }
       ],
       "tabbable": null,
       "tooltip": null
      }
     }
    },
    "version_major": 2,
    "version_minor": 0
   }
  }
 },
 "nbformat": 4,
 "nbformat_minor": 5
}
