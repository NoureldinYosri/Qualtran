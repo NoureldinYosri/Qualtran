{
 "cells": [
  {
   "cell_type": "markdown",
   "id": "9a9d3252",
   "metadata": {
    "cq.autogen": "title_cell"
   },
   "source": [
    "# Prepare Uniform Superposition"
   ]
  },
  {
   "cell_type": "code",
   "execution_count": 1,
   "id": "7c8d8ac9",
   "metadata": {
    "cq.autogen": "top_imports"
   },
   "outputs": [],
   "source": [
    "from qualtran import Bloq, CompositeBloq, BloqBuilder, Signature, Register\n",
    "from qualtran import QBit, QInt, QUInt, QAny\n",
    "from qualtran.drawing import show_bloq, show_call_graph, show_counts_sigma\n",
    "from typing import *\n",
    "import numpy as np\n",
    "import sympy\n",
    "import cirq"
   ]
  },
  {
   "cell_type": "markdown",
   "id": "def95de5",
   "metadata": {
    "cq.autogen": "PrepareUniformSuperposition.bloq_doc.md"
   },
   "source": [
    "## `PrepareUniformSuperposition`\n",
    "Prepares a uniform superposition over first $n$ basis states using $O(log(n))$ T-gates.\n",
    "\n",
    "Performs a single round of amplitude amplification and prepares a uniform superposition over\n",
    "the first $n$ basis states $|0>, |1>, ..., |n - 1>$. The expected T-complexity should be\n",
    "$10 * log(L) + 2 * K$ T-gates and $2$ single qubit rotation gates, where $n = L * 2^K$.\n",
    "\n",
    "However, the current T-complexity is $12 * log(L)$ T-gates and $2 + 2 * (K + log(L))$ rotations\n",
    "because of two open issues:\n",
    " - https://github.com/quantumlib/Qualtran/issues/233 and\n",
    " - https://github.com/quantumlib/Qualtran/issues/235\n",
    "\n",
    "#### Parameters\n",
    " - `n`: The gate prepares a uniform superposition over first $n$ basis states.\n",
    " - `cvs`: Control values for each control qubit. If specified, a controlled version of the gate is constructed. \n",
    "\n",
    "#### References\n",
    " - [Encoding Electronic Spectra in Quantum Circuits with Linear T Complexity](https://arxiv.org/abs/1805.03662). Fig 12.\n"
   ]
  },
  {
   "cell_type": "code",
   "execution_count": 2,
   "id": "310d03d9",
   "metadata": {
    "cq.autogen": "PrepareUniformSuperposition.bloq_doc.py"
   },
   "outputs": [],
   "source": [
    "from qualtran.bloqs.state_preparation import PrepareUniformSuperposition"
   ]
  },
  {
   "cell_type": "markdown",
   "id": "5b29f5e7",
   "metadata": {
    "cq.autogen": "PrepareUniformSuperposition.example_instances.md"
   },
   "source": [
    "### Example Instances"
   ]
  },
  {
   "cell_type": "code",
   "execution_count": 3,
   "id": "8ce0c967",
   "metadata": {
    "cq.autogen": "PrepareUniformSuperposition.prep_uniform"
   },
   "outputs": [],
   "source": [
    "prep_uniform = PrepareUniformSuperposition(n=5)"
   ]
  },
  {
   "cell_type": "code",
   "execution_count": 4,
   "id": "cbd8e75c",
   "metadata": {
    "cq.autogen": "PrepareUniformSuperposition.c_prep_uniform"
   },
   "outputs": [],
   "source": [
    "c_prep_uniform = PrepareUniformSuperposition(n=5, cvs=[1])"
   ]
  },
  {
   "cell_type": "markdown",
   "id": "1adad413",
   "metadata": {
    "cq.autogen": "PrepareUniformSuperposition.graphical_signature.md"
   },
   "source": [
    "#### Graphical Signature"
   ]
  },
  {
   "cell_type": "code",
   "execution_count": 5,
   "id": "40adbbcc",
   "metadata": {
    "cq.autogen": "PrepareUniformSuperposition.graphical_signature.py"
   },
   "outputs": [
    {
     "data": {
      "application/vnd.jupyter.widget-view+json": {
       "model_id": "ad6b879e2e704b8ab24599187d81ed2e",
       "version_major": 2,
       "version_minor": 0
      },
      "text/plain": [
       "HBox(children=(Output(outputs=({'output_type': 'display_data', 'data': {'text/plain': '<IPython.core.display.M…"
      ]
     },
     "metadata": {},
     "output_type": "display_data"
    }
   ],
   "source": [
    "from qualtran.drawing import show_bloqs\n",
    "show_bloqs([prep_uniform, c_prep_uniform],\n",
    "           ['`prep_uniform`', '`c_prep_uniform`'])"
   ]
  },
  {
   "cell_type": "markdown",
   "id": "d5b67f42",
   "metadata": {
    "cq.autogen": "PrepareUniformSuperposition.call_graph.md"
   },
   "source": [
    "### Call Graph"
   ]
  },
  {
   "cell_type": "code",
   "execution_count": 6,
   "id": "2fbbacaf",
   "metadata": {
    "cq.autogen": "PrepareUniformSuperposition.call_graph.py"
   },
   "outputs": [
    {
     "data": {
      "image/svg+xml": [
       "<svg xmlns=\"http://www.w3.org/2000/svg\" xmlns:xlink=\"http://www.w3.org/1999/xlink\" width=\"1001pt\" height=\"131pt\" viewBox=\"0.00 0.00 1001.00 131.00\">\n",
       "<g id=\"graph0\" class=\"graph\" transform=\"scale(1 1) rotate(0) translate(4 127)\">\n",
       "<title>counts</title>\n",
       "<polygon fill=\"white\" stroke=\"transparent\" points=\"-4,4 -4,-127 997,-127 997,4 -4,4\"/>\n",
       "<!-- b0 -->\n",
       "<g id=\"node1\" class=\"node\">\n",
       "<title>b0</title>\n",
       "<polygon fill=\"none\" stroke=\"black\" points=\"539.5,-123 359.5,-123 359.5,-87 539.5,-87 539.5,-123\"/>\n",
       "<text text-anchor=\"start\" x=\"367.5\" y=\"-106.8\" font-family=\"Times,serif\" font-size=\"14.00\">PrepareUniformSuperposition</text>\n",
       "<text text-anchor=\"start\" x=\"416\" y=\"-96\" font-family=\"monospace\" font-size=\"10.00\">n=5, cvs=()</text>\n",
       "</g>\n",
       "<!-- b1 -->\n",
       "<g id=\"node2\" class=\"node\">\n",
       "<title>b1</title>\n",
       "<polygon fill=\"none\" stroke=\"black\" points=\"95,-36 0,-36 0,0 95,0 95,-36\"/>\n",
       "<text text-anchor=\"start\" x=\"20\" y=\"-19.8\" font-family=\"Times,serif\" font-size=\"14.00\">MultiAnd</text>\n",
       "<text text-anchor=\"start\" x=\"8\" y=\"-9\" font-family=\"monospace\" font-size=\"10.00\">cvs=(0, 0, 0)</text>\n",
       "</g>\n",
       "<!-- b0&#45;&gt;b1 -->\n",
       "<g id=\"edge1\" class=\"edge\">\n",
       "<title>b0-&gt;b1</title>\n",
       "<path fill=\"none\" stroke=\"black\" d=\"M359.3,-89.02C291.53,-77.12 196.33,-59.06 104.78,-36.22\"/>\n",
       "<polygon fill=\"black\" stroke=\"black\" points=\"105.63,-32.82 95.07,-33.77 103.92,-39.61 105.63,-32.82\"/>\n",
       "<text text-anchor=\"middle\" x=\"249\" y=\"-57.8\" font-family=\"Times,serif\" font-size=\"14.00\">1</text>\n",
       "</g>\n",
       "<!-- b2 -->\n",
       "<g id=\"node3\" class=\"node\">\n",
       "<title>b2</title>\n",
       "<polygon fill=\"none\" stroke=\"black\" points=\"202,-36 113,-36 113,0 202,0 202,-36\"/>\n",
       "<text text-anchor=\"start\" x=\"145\" y=\"-19.8\" font-family=\"Times,serif\" font-size=\"14.00\">Free</text>\n",
       "<text text-anchor=\"start\" x=\"121\" y=\"-9\" font-family=\"monospace\" font-size=\"10.00\">dtype=QBit()</text>\n",
       "</g>\n",
       "<!-- b0&#45;&gt;b2 -->\n",
       "<g id=\"edge2\" class=\"edge\">\n",
       "<title>b0-&gt;b2</title>\n",
       "<path fill=\"none\" stroke=\"black\" d=\"M387.44,-86.95C341.36,-74.15 276.77,-55.92 211.86,-36.37\"/>\n",
       "<polygon fill=\"black\" stroke=\"black\" points=\"212.87,-33.02 202.29,-33.48 210.85,-39.72 212.87,-33.02\"/>\n",
       "<text text-anchor=\"middle\" x=\"326\" y=\"-57.8\" font-family=\"Times,serif\" font-size=\"14.00\">1</text>\n",
       "</g>\n",
       "<!-- b3 -->\n",
       "<g id=\"node4\" class=\"node\">\n",
       "<title>b3</title>\n",
       "<polygon fill=\"none\" stroke=\"black\" points=\"345,-36 220,-36 220,0 345,0 345,-36\"/>\n",
       "<text text-anchor=\"start\" x=\"259.5\" y=\"-19.8\" font-family=\"Times,serif\" font-size=\"14.00\">Allocate</text>\n",
       "<text text-anchor=\"start\" x=\"228\" y=\"-9\" font-family=\"monospace\" font-size=\"10.00\">dtype=QAny(bit ...</text>\n",
       "</g>\n",
       "<!-- b0&#45;&gt;b3 -->\n",
       "<g id=\"edge3\" class=\"edge\">\n",
       "<title>b0-&gt;b3</title>\n",
       "<path fill=\"none\" stroke=\"black\" d=\"M415.71,-86.8C389.59,-73.51 353.27,-55.02 325.15,-40.71\"/>\n",
       "<polygon fill=\"black\" stroke=\"black\" points=\"326.46,-37.45 315.96,-36.03 323.28,-43.69 326.46,-37.45\"/>\n",
       "<text text-anchor=\"middle\" x=\"380\" y=\"-57.8\" font-family=\"Times,serif\" font-size=\"14.00\">1</text>\n",
       "</g>\n",
       "<!-- b4 -->\n",
       "<g id=\"node5\" class=\"node\">\n",
       "<title>b4</title>\n",
       "<polygon fill=\"none\" stroke=\"black\" points=\"536,-36 363,-36 363,0 536,0 536,-36\"/>\n",
       "<text text-anchor=\"start\" x=\"399\" y=\"-19.8\" font-family=\"Times,serif\" font-size=\"14.00\">LessThanConstant</text>\n",
       "<text text-anchor=\"start\" x=\"371\" y=\"-9\" font-family=\"monospace\" font-size=\"10.00\">bitsize=3, less_than_val=5</text>\n",
       "</g>\n",
       "<!-- b0&#45;&gt;b4 -->\n",
       "<g id=\"edge4\" class=\"edge\">\n",
       "<title>b0-&gt;b4</title>\n",
       "<path fill=\"none\" stroke=\"black\" d=\"M449.5,-86.8C449.5,-75.16 449.5,-59.55 449.5,-46.24\"/>\n",
       "<polygon fill=\"black\" stroke=\"black\" points=\"453,-46.18 449.5,-36.18 446,-46.18 453,-46.18\"/>\n",
       "<text text-anchor=\"middle\" x=\"453\" y=\"-57.8\" font-family=\"Times,serif\" font-size=\"14.00\">2</text>\n",
       "</g>\n",
       "<!-- b5 -->\n",
       "<g id=\"node6\" class=\"node\">\n",
       "<title>b5</title>\n",
       "<polygon fill=\"none\" stroke=\"black\" points=\"745,-36 554,-36 554,0 745,0 745,-36\"/>\n",
       "<text text-anchor=\"start\" x=\"641.5\" y=\"-19.8\" font-family=\"Times,serif\" font-size=\"14.00\">Rz</text>\n",
       "<text text-anchor=\"start\" x=\"562\" y=\"-9\" font-family=\"monospace\" font-size=\"10.00\">angle=1.369438 ..., eps=1e-11</text>\n",
       "</g>\n",
       "<!-- b0&#45;&gt;b5 -->\n",
       "<g id=\"edge5\" class=\"edge\">\n",
       "<title>b0-&gt;b5</title>\n",
       "<path fill=\"none\" stroke=\"black\" d=\"M489.97,-86.8C521.79,-73.27 566.26,-54.38 600.17,-39.97\"/>\n",
       "<polygon fill=\"black\" stroke=\"black\" points=\"601.59,-43.16 609.43,-36.03 598.86,-36.72 601.59,-43.16\"/>\n",
       "<text text-anchor=\"middle\" x=\"565\" y=\"-57.8\" font-family=\"Times,serif\" font-size=\"14.00\">2</text>\n",
       "</g>\n",
       "<!-- b6 -->\n",
       "<g id=\"node7\" class=\"node\">\n",
       "<title>b6</title>\n",
       "<polygon fill=\"none\" stroke=\"black\" points=\"837.5,-36 763.5,-36 763.5,0 837.5,0 837.5,-36\"/>\n",
       "<text text-anchor=\"start\" x=\"771.5\" y=\"-14.3\" font-family=\"Times,serif\" font-size=\"14.00\">Hadamard</text>\n",
       "</g>\n",
       "<!-- b0&#45;&gt;b6 -->\n",
       "<g id=\"edge6\" class=\"edge\">\n",
       "<title>b0-&gt;b6</title>\n",
       "<path fill=\"none\" stroke=\"black\" d=\"M539.72,-86.95C600.6,-74.68 682.5,-56.69 753.5,-36 753.6,-35.97 753.7,-35.94 753.8,-35.91\"/>\n",
       "<polygon fill=\"black\" stroke=\"black\" points=\"754.94,-39.22 763.44,-32.9 752.85,-32.54 754.94,-39.22\"/>\n",
       "<text text-anchor=\"middle\" x=\"683\" y=\"-57.8\" font-family=\"Times,serif\" font-size=\"14.00\">9</text>\n",
       "</g>\n",
       "<!-- b7 -->\n",
       "<g id=\"node8\" class=\"node\">\n",
       "<title>b7</title>\n",
       "<polygon fill=\"none\" stroke=\"black\" points=\"993,-36 856,-36 856,0 993,0 993,-36\"/>\n",
       "<text text-anchor=\"start\" x=\"894\" y=\"-19.8\" font-family=\"Times,serif\" font-size=\"14.00\">MultiAnd†</text>\n",
       "<text text-anchor=\"start\" x=\"864\" y=\"-9\" font-family=\"monospace\" font-size=\"10.00\">subbloq=MultiAnd ...</text>\n",
       "</g>\n",
       "<!-- b0&#45;&gt;b7 -->\n",
       "<g id=\"edge7\" class=\"edge\">\n",
       "<title>b0-&gt;b7</title>\n",
       "<path fill=\"none\" stroke=\"black\" d=\"M539.56,-92.32C584.94,-86.08 640.76,-77.86 690.5,-69 757.13,-57.13 775.58,-51.4 845.4,-36.24\"/>\n",
       "<polygon fill=\"black\" stroke=\"black\" points=\"846.57,-39.57 855.6,-34.04 845.09,-32.73 846.57,-39.57\"/>\n",
       "<text text-anchor=\"middle\" x=\"767\" y=\"-57.8\" font-family=\"Times,serif\" font-size=\"14.00\">1</text>\n",
       "</g>\n",
       "</g>\n",
       "</svg>"
      ],
      "text/plain": [
       "<IPython.core.display.SVG object>"
      ]
     },
     "metadata": {},
     "output_type": "display_data"
    },
    {
     "data": {
      "text/markdown": [
       "#### Counts totals:\n",
       " - `Adjoint(subbloq=MultiAnd(cvs=(0, 0, 0)))`: 1\n",
       " - `Allocate(dtype=QAny(bitsize=1))`: 1\n",
       " - `Free(dtype=QBit())`: 1\n",
       " - `Hadamard()`: 9\n",
       " - `LessThanConstant(bitsize=3, less_than_val=5)`: 2\n",
       " - `MultiAnd(cvs=(0, 0, 0))`: 1\n",
       " - `Rz(0.43590578315102513π)`: 2"
      ],
      "text/plain": [
       "<IPython.core.display.Markdown object>"
      ]
     },
     "metadata": {},
     "output_type": "display_data"
    }
   ],
   "source": [
    "from qualtran.resource_counting.generalizers import ignore_split_join\n",
    "prep_uniform_g, prep_uniform_sigma = prep_uniform.call_graph(max_depth=1, generalizer=ignore_split_join)\n",
    "show_call_graph(prep_uniform_g)\n",
    "show_counts_sigma(prep_uniform_sigma)"
   ]
  }
 ],
 "metadata": {
  "kernelspec": {
   "display_name": "Python 3 (ipykernel)",
   "language": "python",
   "name": "python3"
  },
  "language_info": {
   "codemirror_mode": {
    "name": "ipython",
    "version": 3
   },
   "file_extension": ".py",
   "mimetype": "text/x-python",
   "name": "python",
   "nbconvert_exporter": "python",
   "pygments_lexer": "ipython3",
   "version": "3.11.8"
  },
  "widgets": {
   "application/vnd.jupyter.widget-state+json": {
    "state": {
     "0a78e82a5e2b42768ffbb90b7e72f6db": {
      "model_module": "@jupyter-widgets/base",
      "model_module_version": "2.0.0",
      "model_name": "LayoutModel",
      "state": {
       "_model_module": "@jupyter-widgets/base",
       "_model_module_version": "2.0.0",
       "_model_name": "LayoutModel",
       "_view_count": null,
       "_view_module": "@jupyter-widgets/base",
       "_view_module_version": "2.0.0",
       "_view_name": "LayoutView",
       "align_content": null,
       "align_items": null,
       "align_self": null,
       "border_bottom": null,
       "border_left": null,
       "border_right": null,
       "border_top": null,
       "bottom": null,
       "display": null,
       "flex": null,
       "flex_flow": null,
       "grid_area": null,
       "grid_auto_columns": null,
       "grid_auto_flow": null,
       "grid_auto_rows": null,
       "grid_column": null,
       "grid_gap": null,
       "grid_row": null,
       "grid_template_areas": null,
       "grid_template_columns": null,
       "grid_template_rows": null,
       "height": null,
       "justify_content": null,
       "justify_items": null,
       "left": null,
       "margin": null,
       "max_height": null,
       "max_width": null,
       "min_height": null,
       "min_width": null,
       "object_fit": null,
       "object_position": null,
       "order": null,
       "overflow": null,
       "padding": null,
       "right": null,
       "top": null,
       "visibility": null,
       "width": null
      }
     },
     "11e377d70da04a979cd09ce960b8272b": {
      "model_module": "@jupyter-widgets/base",
      "model_module_version": "2.0.0",
      "model_name": "LayoutModel",
      "state": {
       "_model_module": "@jupyter-widgets/base",
       "_model_module_version": "2.0.0",
       "_model_name": "LayoutModel",
       "_view_count": null,
       "_view_module": "@jupyter-widgets/base",
       "_view_module_version": "2.0.0",
       "_view_name": "LayoutView",
       "align_content": null,
       "align_items": null,
       "align_self": null,
       "border_bottom": null,
       "border_left": null,
       "border_right": null,
       "border_top": null,
       "bottom": null,
       "display": null,
       "flex": null,
       "flex_flow": null,
       "grid_area": null,
       "grid_auto_columns": null,
       "grid_auto_flow": null,
       "grid_auto_rows": null,
       "grid_column": null,
       "grid_gap": null,
       "grid_row": null,
       "grid_template_areas": null,
       "grid_template_columns": null,
       "grid_template_rows": null,
       "height": null,
       "justify_content": null,
       "justify_items": null,
       "left": null,
       "margin": null,
       "max_height": null,
       "max_width": null,
       "min_height": null,
       "min_width": null,
       "object_fit": null,
       "object_position": null,
       "order": null,
       "overflow": null,
       "padding": null,
       "right": null,
       "top": null,
       "visibility": null,
       "width": null
      }
     },
     "28d21a557a0d4917ba650b3c40967a5f": {
      "model_module": "@jupyter-widgets/output",
      "model_module_version": "1.0.0",
      "model_name": "OutputModel",
      "state": {
       "_dom_classes": [],
       "_model_module": "@jupyter-widgets/output",
       "_model_module_version": "1.0.0",
       "_model_name": "OutputModel",
       "_view_count": null,
       "_view_module": "@jupyter-widgets/output",
       "_view_module_version": "1.0.0",
       "_view_name": "OutputView",
       "layout": "IPY_MODEL_0a78e82a5e2b42768ffbb90b7e72f6db",
       "msg_id": "",
       "outputs": [
        {
         "data": {
          "text/markdown": "`prep_uniform`",
          "text/plain": "<IPython.core.display.Markdown object>"
         },
         "metadata": {},
         "output_type": "display_data"
        },
        {
         "data": {
          "image/svg+xml": "<svg xmlns=\"http://www.w3.org/2000/svg\" xmlns:xlink=\"http://www.w3.org/1999/xlink\" width=\"271pt\" height=\"54pt\" viewBox=\"0.00 0.00 271.00 54.00\">\n<g id=\"graph0\" class=\"graph\" transform=\"scale(1 1) rotate(0) translate(4 50)\">\n<title>my_graph</title>\n<polygon fill=\"white\" stroke=\"transparent\" points=\"-4,4 -4,-50 267,-50 267,4 -4,4\"/>\n<!-- target_G0 -->\n<g id=\"node1\" class=\"node\">\n<title>target_G0</title>\n<text text-anchor=\"middle\" x=\"27\" y=\"-14.3\" font-family=\"Times,serif\" font-size=\"14.00\">target</text>\n</g>\n<!-- PrepareUniformSuperposition -->\n<g id=\"node2\" class=\"node\">\n<title>PrepareUniformSuperposition</title>\n<polygon fill=\"none\" stroke=\"black\" points=\"91.5,-29 91.5,-46 172.5,-46 172.5,-29 91.5,-29\"/>\n<text text-anchor=\"start\" x=\"94.5\" y=\"-35\" font-family=\"Times,serif\" font-size=\"10.00\">$\\sum_l |l\\rangle$</text>\n<polygon fill=\"none\" stroke=\"black\" points=\"91.5,-8 91.5,-29 172.5,-29 172.5,-8 91.5,-8\"/>\n<text text-anchor=\"start\" x=\"116.5\" y=\"-14.8\" font-family=\"Times,serif\" font-size=\"14.00\">target</text>\n</g>\n<!-- target_G0&#45;&gt;PrepareUniformSuperposition -->\n<g id=\"edge1\" class=\"edge\">\n<title>target_G0:e-&gt;PrepareUniformSuperposition:w</title>\n<path fill=\"none\" stroke=\"black\" d=\"M54,-18C69.67,-18 74.14,-18 88.77,-18\"/>\n<ellipse fill=\"black\" stroke=\"black\" cx=\"90\" cy=\"-18\" rx=\"1\" ry=\"1\"/>\n<text text-anchor=\"middle\" x=\"72.5\" y=\"-21\" font-family=\"Times,serif\" font-size=\"10.00\">3</text>\n</g>\n<!-- target_G1 -->\n<g id=\"node3\" class=\"node\">\n<title>target_G1</title>\n<text text-anchor=\"middle\" x=\"236\" y=\"-14.3\" font-family=\"Times,serif\" font-size=\"14.00\">target</text>\n</g>\n<!-- PrepareUniformSuperposition&#45;&gt;target_G1 -->\n<g id=\"edge2\" class=\"edge\">\n<title>PrepareUniformSuperposition:e-&gt;target_G1:w</title>\n<path fill=\"none\" stroke=\"black\" d=\"M172,-18C187.67,-18 192.14,-18 206.77,-18\"/>\n<ellipse fill=\"black\" stroke=\"black\" cx=\"208\" cy=\"-18\" rx=\"1\" ry=\"1\"/>\n<text text-anchor=\"middle\" x=\"190.5\" y=\"-21\" font-family=\"Times,serif\" font-size=\"10.00\">3</text>\n</g>\n</g>\n</svg>",
          "text/plain": "<IPython.core.display.SVG object>"
         },
         "metadata": {},
         "output_type": "display_data"
        }
       ],
       "tabbable": null,
       "tooltip": null
      }
     },
     "8992f4089a654eaf9dcf38d0fdc9901d": {
      "model_module": "@jupyter-widgets/base",
      "model_module_version": "2.0.0",
      "model_name": "LayoutModel",
      "state": {
       "_model_module": "@jupyter-widgets/base",
       "_model_module_version": "2.0.0",
       "_model_name": "LayoutModel",
       "_view_count": null,
       "_view_module": "@jupyter-widgets/base",
       "_view_module_version": "2.0.0",
       "_view_name": "LayoutView",
       "align_content": null,
       "align_items": null,
       "align_self": null,
       "border_bottom": null,
       "border_left": null,
       "border_right": null,
       "border_top": null,
       "bottom": null,
       "display": null,
       "flex": null,
       "flex_flow": null,
       "grid_area": null,
       "grid_auto_columns": null,
       "grid_auto_flow": null,
       "grid_auto_rows": null,
       "grid_column": null,
       "grid_gap": null,
       "grid_row": null,
       "grid_template_areas": null,
       "grid_template_columns": null,
       "grid_template_rows": null,
       "height": null,
       "justify_content": null,
       "justify_items": null,
       "left": null,
       "margin": null,
       "max_height": null,
       "max_width": null,
       "min_height": null,
       "min_width": null,
       "object_fit": null,
       "object_position": null,
       "order": null,
       "overflow": null,
       "padding": null,
       "right": null,
       "top": null,
       "visibility": null,
       "width": null
      }
     },
     "ad6b879e2e704b8ab24599187d81ed2e": {
      "model_module": "@jupyter-widgets/controls",
      "model_module_version": "2.0.0",
      "model_name": "HBoxModel",
      "state": {
       "_dom_classes": [],
       "_model_module": "@jupyter-widgets/controls",
       "_model_module_version": "2.0.0",
       "_model_name": "HBoxModel",
       "_view_count": null,
       "_view_module": "@jupyter-widgets/controls",
       "_view_module_version": "2.0.0",
       "_view_name": "HBoxView",
       "box_style": "",
       "children": [
        "IPY_MODEL_28d21a557a0d4917ba650b3c40967a5f",
        "IPY_MODEL_d4a727dd027a43128ea45706dc76e58c"
       ],
       "layout": "IPY_MODEL_8992f4089a654eaf9dcf38d0fdc9901d",
       "tabbable": null,
       "tooltip": null
      }
     },
     "d4a727dd027a43128ea45706dc76e58c": {
      "model_module": "@jupyter-widgets/output",
      "model_module_version": "1.0.0",
      "model_name": "OutputModel",
      "state": {
       "_dom_classes": [],
       "_model_module": "@jupyter-widgets/output",
       "_model_module_version": "1.0.0",
       "_model_name": "OutputModel",
       "_view_count": null,
       "_view_module": "@jupyter-widgets/output",
       "_view_module_version": "1.0.0",
       "_view_name": "OutputView",
       "layout": "IPY_MODEL_11e377d70da04a979cd09ce960b8272b",
       "msg_id": "",
       "outputs": [
        {
         "data": {
          "text/markdown": "`c_prep_uniform`",
          "text/plain": "<IPython.core.display.Markdown object>"
         },
         "metadata": {},
         "output_type": "display_data"
        },
        {
         "data": {
          "image/svg+xml": "<svg xmlns=\"http://www.w3.org/2000/svg\" xmlns:xlink=\"http://www.w3.org/1999/xlink\" width=\"271pt\" height=\"98pt\" viewBox=\"0.00 0.00 271.00 98.00\">\n<g id=\"graph0\" class=\"graph\" transform=\"scale(1 1) rotate(0) translate(4 94)\">\n<title>my_graph</title>\n<polygon fill=\"white\" stroke=\"transparent\" points=\"-4,4 -4,-94 267,-94 267,4 -4,4\"/>\n<!-- ctrl_G0 -->\n<g id=\"node1\" class=\"node\">\n<title>ctrl_G0</title>\n<text text-anchor=\"middle\" x=\"27\" y=\"-68.3\" font-family=\"Times,serif\" font-size=\"14.00\">ctrl</text>\n</g>\n<!-- PrepareUniformSuperposition -->\n<g id=\"node3\" class=\"node\">\n<title>PrepareUniformSuperposition</title>\n<polygon fill=\"none\" stroke=\"black\" points=\"91.5,-66 91.5,-83 172.5,-83 172.5,-66 91.5,-66\"/>\n<text text-anchor=\"start\" x=\"94.5\" y=\"-72\" font-family=\"Times,serif\" font-size=\"10.00\">$\\sum_l |l\\rangle$</text>\n<polygon fill=\"none\" stroke=\"black\" points=\"91.5,-45 91.5,-66 172.5,-66 172.5,-45 91.5,-45\"/>\n<text text-anchor=\"start\" x=\"122.5\" y=\"-51.8\" font-family=\"Times,serif\" font-size=\"14.00\">ctrl</text>\n<polygon fill=\"none\" stroke=\"black\" points=\"91.5,-24 91.5,-45 172.5,-45 172.5,-24 91.5,-24\"/>\n<text text-anchor=\"start\" x=\"116.5\" y=\"-30.8\" font-family=\"Times,serif\" font-size=\"14.00\">target</text>\n</g>\n<!-- ctrl_G0&#45;&gt;PrepareUniformSuperposition -->\n<g id=\"edge1\" class=\"edge\">\n<title>ctrl_G0:e-&gt;PrepareUniformSuperposition:w</title>\n<path fill=\"none\" stroke=\"black\" d=\"M54,-72C71.22,-72 72.97,-57.23 88.98,-56.07\"/>\n<ellipse fill=\"black\" stroke=\"black\" cx=\"90\" cy=\"-56.04\" rx=\"1\" ry=\"1\"/>\n<text text-anchor=\"middle\" x=\"72.5\" y=\"-67\" font-family=\"Times,serif\" font-size=\"10.00\">1</text>\n</g>\n<!-- target_G1 -->\n<g id=\"node2\" class=\"node\">\n<title>target_G1</title>\n<text text-anchor=\"middle\" x=\"27\" y=\"-14.3\" font-family=\"Times,serif\" font-size=\"14.00\">target</text>\n</g>\n<!-- target_G1&#45;&gt;PrepareUniformSuperposition -->\n<g id=\"edge2\" class=\"edge\">\n<title>target_G1:e-&gt;PrepareUniformSuperposition:w</title>\n<path fill=\"none\" stroke=\"black\" d=\"M54,-18C71.22,-18 72.97,-32.77 88.98,-33.93\"/>\n<ellipse fill=\"black\" stroke=\"black\" cx=\"90\" cy=\"-33.96\" rx=\"1\" ry=\"1\"/>\n<text text-anchor=\"middle\" x=\"72.5\" y=\"-29\" font-family=\"Times,serif\" font-size=\"10.00\">3</text>\n</g>\n<!-- ctrl_G3 -->\n<g id=\"node4\" class=\"node\">\n<title>ctrl_G3</title>\n<text text-anchor=\"middle\" x=\"236\" y=\"-68.3\" font-family=\"Times,serif\" font-size=\"14.00\">ctrl</text>\n</g>\n<!-- PrepareUniformSuperposition&#45;&gt;ctrl_G3 -->\n<g id=\"edge3\" class=\"edge\">\n<title>PrepareUniformSuperposition:e-&gt;ctrl_G3:w</title>\n<path fill=\"none\" stroke=\"black\" d=\"M172,-56C189.22,-56 190.97,-70.77 206.98,-71.93\"/>\n<ellipse fill=\"black\" stroke=\"black\" cx=\"208\" cy=\"-71.96\" rx=\"1\" ry=\"1\"/>\n<text text-anchor=\"middle\" x=\"190.5\" y=\"-67\" font-family=\"Times,serif\" font-size=\"10.00\">1</text>\n</g>\n<!-- target_G2 -->\n<g id=\"node5\" class=\"node\">\n<title>target_G2</title>\n<text text-anchor=\"middle\" x=\"236\" y=\"-14.3\" font-family=\"Times,serif\" font-size=\"14.00\">target</text>\n</g>\n<!-- PrepareUniformSuperposition&#45;&gt;target_G2 -->\n<g id=\"edge4\" class=\"edge\">\n<title>PrepareUniformSuperposition:e-&gt;target_G2:w</title>\n<path fill=\"none\" stroke=\"black\" d=\"M172,-34C189.22,-34 190.97,-19.23 206.98,-18.07\"/>\n<ellipse fill=\"black\" stroke=\"black\" cx=\"208\" cy=\"-18.04\" rx=\"1\" ry=\"1\"/>\n<text text-anchor=\"middle\" x=\"190.5\" y=\"-29\" font-family=\"Times,serif\" font-size=\"10.00\">3</text>\n</g>\n</g>\n</svg>",
          "text/plain": "<IPython.core.display.SVG object>"
         },
         "metadata": {},
         "output_type": "display_data"
        }
       ],
       "tabbable": null,
       "tooltip": null
      }
     }
    },
    "version_major": 2,
    "version_minor": 0
   }
  }
 },
 "nbformat": 4,
 "nbformat_minor": 5
}
