{
 "cells": [
  {
   "cell_type": "markdown",
   "id": "d317cae7",
   "metadata": {
    "cq.autogen": "title_cell"
   },
   "source": [
    "# State Preparation Using Rotations\n",
    "\n",
    "Controlled State preparation.\n",
    "\n",
    "This algorithm prepares a state $|\\psi\\rangle$ in a register initially at $|0\\rangle$ by using\n",
    "rotations $R_y$ for encoding amplitudes and $R_z$ for encoding phases.\n",
    "\n",
    "Assume one wants to prepare the amplitude of a one qubit state\n",
    "\n",
    "$$\n",
    "\\sqrt{p_0} |0\\rangle + \\sqrt{p_1} |1\\rangle.\n",
    "$$\n",
    "\n",
    "This can be achieved by a rotation $R_y(\\theta)$ where $\\theta = \\cos^{-1}(\\sqrt{p_0})$.\n",
    "For encoding the amplitude of a n-qubit quantum state one could use a similar approach to this, but\n",
    "chaining conditional probabilities: first rotate qubit 1 by $\\theta = \\cos^{-1}(\\sqrt{p_0})$, then\n",
    "the second qubit by $\\theta_0 = \\cos^{-1}(\\sqrt{p_{00}/p_{0}})$, conditioned on the first one being\n",
    "in $|0\\rangle$ and $\\theta_1 = \\cos^{-1}(\\sqrt{p_{10}/p_{1}})$ conditioned by the first being in\n",
    "$|1\\rangle$, and so on. Here $p_y$ means the probability that the first len(y) qubits of the\n",
    "original state are in the state $y$. Refer to equation (8) of [1] for the details.\n",
    "\n",
    "This general scheme is handled by StatePreparationViaRotations. This class also uses\n",
    "RotationTree to get the angles of rotation needed (which are converted to the value to be loaded\n",
    "to the ROM to achieve such a rotation). RotationTree is a tree data structure which holds the\n",
    "accumulated probability of each substring, i.e., the root holds the probability of measuring the\n",
    "first qubit at 0, the branch1 node the probability of measuring the second qubit at 0 if the first\n",
    "was measured at 1 and so on. The $2^i$ rotations needed to prepare the ith qubit are performed by\n",
    "PRGAViaPhaseGradient. This essentially is a rotation gate array, that is, given a list of\n",
    "angles it performs the kth rotation when the selection register is on state $|k\\rangle$. This\n",
    "rotation is done in the Z axis, but for encoding amplitude a rotation around Ry is needed, thus the\n",
    "need of a $R_x(\\pm \\pi/2)$ gate before and after encoding the amplitudes of each qubit.\n",
    "\n",
    "In order to perform the rotations as efficiently as possible, the angles are loaded into a register\n",
    "(rot\\_reg) which is added into a phase gradient. Then phase kickback causes an overall offset of\n",
    "$e^{i2\\pi x/2^b}$, where $x$ is the angle value loaded and $b$ the size of the rot\\_reg. Below is an\n",
    "example for rot\\_reg\\_size=2.\n",
    "\n",
    "First there is the rot\\_reg register with the value to be rotated (3 in this case) and the phase\n",
    "gradient\n",
    "\n",
    "$$\n",
    "|3\\rangle(e^{2\\pi i 0/4}|0\\rangle + e^{2\\pi i 1/4}|1\\rangle +\n",
    "          e^{2\\pi i 2/4}|2\\rangle + e^{2\\pi i 3/4}|3\\rangle).\n",
    "$$\n",
    "\n",
    "Then the rot\\_reg $|3\\rangle$ register is added to the phase gradient and store the result in the\n",
    "phase gradient register\n",
    "\n",
    "$$\n",
    "|3\\rangle(e^{2\\pi i 0/4}|3\\rangle + e^{2\\pi i 1/4}|0\\rangle +\n",
    "          e^{2\\pi i 2/4}|1\\rangle + e^{2\\pi i 3/4}|2\\rangle),\n",
    "$$\n",
    "\n",
    "but this is equivalent to the original state with a phase offset of $e^{2\\pi i 1/4}$.\n",
    "\n",
    "\n",
    "References:\n",
    "    [Trading T-gates for dirty qubits in state preparation and unitary synthesis]\n",
    "    (https://arxiv.org/abs/1812.00954).\n",
    "        Low, Kliuchnikov, Schaeffer. 2018."
   ]
  },
  {
   "cell_type": "code",
   "execution_count": 1,
   "id": "8503ea6a",
   "metadata": {
    "cq.autogen": "top_imports"
   },
   "outputs": [],
   "source": [
    "from qualtran import Bloq, CompositeBloq, BloqBuilder, Signature, Register\n",
    "from qualtran import QBit, QInt, QUInt, QAny\n",
    "from qualtran.drawing import show_bloq, show_call_graph, show_counts_sigma\n",
    "from typing import *\n",
    "import numpy as np\n",
    "import sympy\n",
    "import cirq"
   ]
  },
  {
   "cell_type": "markdown",
   "id": "7e8c4520",
   "metadata": {
    "cq.autogen": "StatePreparationViaRotations.bloq_doc.md"
   },
   "source": [
    "## `StatePreparationViaRotations`\n",
    "Controlled state preparation without entangled residual using Ry and Rz rotations from [1].\n",
    "\n",
    "Given a quantum state of which the list of coefficients $c_i$ is known\n",
    "$$\n",
    "    |\\psi \\rangle = \\sum_{i=0}^{N-1}c_{i}|i\\rangle\n",
    "$$\n",
    "this gate prepares $|\\psi\\rangle$ from $|0\\rangle$ conditioned by a control qubit\n",
    "$$\n",
    "    U((|0\\rangle + |1\\rangle)|0\\rangle) = |0\\rangle |0\\rangle + |1\\rangle |\\psi\\rangle.\n",
    "$$\n",
    "\n",
    "#### Parameters\n",
    " - `phase_bitsize`: size of the register that is used to store the rotation angles. Bigger values increase the accuracy of the results.\n",
    " - `state_coefficients`: tuple of length 2^state_bitsizes that contains the complex coefficients of the state.\n",
    " - `control_bitsize`: number of qubits of the control register. Set to zero for an uncontrolled gate. \n",
    "\n",
    "#### References\n",
    " - [Trading T-gates for dirty qubits in state preparation and unitary synthesis](https://arxiv.org/abs/1812.00954). Low, Kliuchnikov, Schaeffer. 2018.\n"
   ]
  },
  {
   "cell_type": "code",
   "execution_count": 2,
   "id": "f1e3b82f",
   "metadata": {
    "cq.autogen": "StatePreparationViaRotations.bloq_doc.py"
   },
   "outputs": [],
   "source": [
    "from qualtran.bloqs.state_preparation.state_preparation_via_rotation import StatePreparationViaRotations"
   ]
  },
  {
   "cell_type": "markdown",
   "id": "5f208fa8",
   "metadata": {
    "cq.autogen": "StatePreparationViaRotations.example_instances.md"
   },
   "source": [
    "### Example Instances"
   ]
  },
  {
   "cell_type": "code",
   "execution_count": 3,
   "id": "c68e5fd9",
   "metadata": {
    "cq.autogen": "StatePreparationViaRotations.state_prep_via_rotation"
   },
   "outputs": [],
   "source": [
    "state_coefs = (\n",
    "    (-0.42677669529663675 - 0.1767766952966366j),\n",
    "    (0.17677669529663664 - 0.4267766952966367j),\n",
    "    (0.17677669529663675 - 0.1767766952966368j),\n",
    "    (0.07322330470336305 - 0.07322330470336309j),\n",
    "    (0.4267766952966366 - 0.17677669529663692j),\n",
    "    (0.42677669529663664 + 0.17677669529663675j),\n",
    "    (0.0732233047033631 + 0.17677669529663678j),\n",
    "    (-0.07322330470336308 - 0.17677669529663678j),\n",
    ")\n",
    "state_prep_via_rotation = StatePreparationViaRotations(\n",
    "    phase_bitsize=2, state_coefficients=state_coefs\n",
    ")"
   ]
  },
  {
   "cell_type": "markdown",
   "id": "a2669c47",
   "metadata": {
    "cq.autogen": "StatePreparationViaRotations.graphical_signature.md"
   },
   "source": [
    "#### Graphical Signature"
   ]
  },
  {
   "cell_type": "code",
   "execution_count": 4,
   "id": "09a897a8",
   "metadata": {
    "cq.autogen": "StatePreparationViaRotations.graphical_signature.py"
   },
   "outputs": [
    {
     "data": {
      "application/vnd.jupyter.widget-view+json": {
       "model_id": "5f49fd93ab594a33b164379c2641a201",
       "version_major": 2,
       "version_minor": 0
      },
      "text/plain": [
       "HBox(children=(Output(outputs=({'output_type': 'display_data', 'data': {'text/plain': '<IPython.core.display.M…"
      ]
     },
     "metadata": {},
     "output_type": "display_data"
    }
   ],
   "source": [
    "from qualtran.drawing import show_bloqs\n",
    "show_bloqs([state_prep_via_rotation],\n",
    "           ['`state_prep_via_rotation`'])"
   ]
  },
  {
   "cell_type": "markdown",
   "id": "6aa59344",
   "metadata": {
    "cq.autogen": "StatePreparationViaRotations.call_graph.md"
   },
   "source": [
    "### Call Graph"
   ]
  },
  {
   "cell_type": "code",
   "execution_count": 5,
   "id": "939bd8f8",
   "metadata": {
    "cq.autogen": "StatePreparationViaRotations.call_graph.py"
   },
   "outputs": [
    {
     "data": {
      "image/svg+xml": [
       "<svg xmlns=\"http://www.w3.org/2000/svg\" xmlns:xlink=\"http://www.w3.org/1999/xlink\" width=\"2707pt\" height=\"131pt\" viewBox=\"0.00 0.00 2707.00 131.00\">\n",
       "<g id=\"graph0\" class=\"graph\" transform=\"scale(1 1) rotate(0) translate(4 127)\">\n",
       "<title>counts</title>\n",
       "<polygon fill=\"white\" stroke=\"transparent\" points=\"-4,4 -4,-127 2703,-127 2703,4 -4,4\"/>\n",
       "<!-- b0 -->\n",
       "<g id=\"node1\" class=\"node\">\n",
       "<title>b0</title>\n",
       "<polygon fill=\"none\" stroke=\"black\" points=\"1327,-123 806,-123 806,-87 1327,-87 1327,-123\"/>\n",
       "<text text-anchor=\"start\" x=\"986\" y=\"-106.8\" font-family=\"Times,serif\" font-size=\"14.00\">StatePreparationViaRotations</text>\n",
       "<text text-anchor=\"start\" x=\"814\" y=\"-96\" font-family=\"monospace\" font-size=\"10.00\">phase_bitsize=2, state_coefficients=((-0.426 ..., control_bitsize=0, uncompute=False</text>\n",
       "</g>\n",
       "<!-- b1 -->\n",
       "<g id=\"node2\" class=\"node\">\n",
       "<title>b1</title>\n",
       "<polygon fill=\"none\" stroke=\"black\" points=\"461,-36 0,-36 0,0 461,0 461,-36\"/>\n",
       "<text text-anchor=\"start\" x=\"164\" y=\"-19.8\" font-family=\"Times,serif\" font-size=\"14.00\">PRGAViaPhaseGradient</text>\n",
       "<text text-anchor=\"start\" x=\"8\" y=\"-9\" font-family=\"monospace\" font-size=\"10.00\">selection_bitsize=1, phase_bitsize=2, rom_values=(0, 0), control_bitsize=1</text>\n",
       "</g>\n",
       "<!-- b0&#45;&gt;b1 -->\n",
       "<g id=\"edge1\" class=\"edge\">\n",
       "<title>b0-&gt;b1</title>\n",
       "<path fill=\"none\" stroke=\"black\" d=\"M899.08,-86.98C756.9,-72.52 553.41,-51.83 408.33,-37.08\"/>\n",
       "<polygon fill=\"black\" stroke=\"black\" points=\"408.29,-33.56 397.99,-36.03 407.59,-40.52 408.29,-33.56\"/>\n",
       "<text text-anchor=\"middle\" x=\"703\" y=\"-57.8\" font-family=\"Times,serif\" font-size=\"14.00\">1</text>\n",
       "</g>\n",
       "<!-- b2 -->\n",
       "<g id=\"node3\" class=\"node\">\n",
       "<title>b2</title>\n",
       "<polygon fill=\"none\" stroke=\"black\" points=\"670,-36 479,-36 479,0 670,0 670,-36\"/>\n",
       "<text text-anchor=\"start\" x=\"566.5\" y=\"-19.8\" font-family=\"Times,serif\" font-size=\"14.00\">Rx</text>\n",
       "<text text-anchor=\"start\" x=\"487\" y=\"-9\" font-family=\"monospace\" font-size=\"10.00\">angle=1.570796 ..., eps=1e-11</text>\n",
       "</g>\n",
       "<!-- b0&#45;&gt;b2 -->\n",
       "<g id=\"edge2\" class=\"edge\">\n",
       "<title>b0-&gt;b2</title>\n",
       "<path fill=\"none\" stroke=\"black\" d=\"M967.82,-86.95C884.44,-72.55 765.32,-51.97 680.05,-37.23\"/>\n",
       "<polygon fill=\"black\" stroke=\"black\" points=\"680.53,-33.77 670.08,-35.51 679.34,-40.66 680.53,-33.77\"/>\n",
       "<text text-anchor=\"middle\" x=\"854\" y=\"-57.8\" font-family=\"Times,serif\" font-size=\"14.00\">3</text>\n",
       "</g>\n",
       "<!-- b3 -->\n",
       "<g id=\"node4\" class=\"node\">\n",
       "<title>b3</title>\n",
       "<polygon fill=\"none\" stroke=\"black\" points=\"879,-36 688,-36 688,0 879,0 879,-36\"/>\n",
       "<text text-anchor=\"start\" x=\"775.5\" y=\"-19.8\" font-family=\"Times,serif\" font-size=\"14.00\">Rx</text>\n",
       "<text text-anchor=\"start\" x=\"696\" y=\"-9\" font-family=\"monospace\" font-size=\"10.00\">angle=-1.57079 ..., eps=1e-11</text>\n",
       "</g>\n",
       "<!-- b0&#45;&gt;b3 -->\n",
       "<g id=\"edge3\" class=\"edge\">\n",
       "<title>b0-&gt;b3</title>\n",
       "<path fill=\"none\" stroke=\"black\" d=\"M1009.57,-86.9C963.51,-73.07 898.58,-53.56 850.11,-39.01\"/>\n",
       "<polygon fill=\"black\" stroke=\"black\" points=\"850.92,-35.6 840.34,-36.07 848.91,-42.3 850.92,-35.6\"/>\n",
       "<text text-anchor=\"middle\" x=\"946\" y=\"-57.8\" font-family=\"Times,serif\" font-size=\"14.00\">3</text>\n",
       "</g>\n",
       "<!-- b4 -->\n",
       "<g id=\"node5\" class=\"node\">\n",
       "<title>b4</title>\n",
       "<polygon fill=\"none\" stroke=\"black\" points=\"986,-36 897,-36 897,0 986,0 986,-36\"/>\n",
       "<text text-anchor=\"start\" x=\"929\" y=\"-19.8\" font-family=\"Times,serif\" font-size=\"14.00\">Free</text>\n",
       "<text text-anchor=\"start\" x=\"905\" y=\"-9\" font-family=\"monospace\" font-size=\"10.00\">dtype=QBit()</text>\n",
       "</g>\n",
       "<!-- b0&#45;&gt;b4 -->\n",
       "<g id=\"edge4\" class=\"edge\">\n",
       "<title>b0-&gt;b4</title>\n",
       "<path fill=\"none\" stroke=\"black\" d=\"M1041.2,-86.8C1022.23,-73.9 996.06,-56.1 975.29,-41.98\"/>\n",
       "<polygon fill=\"black\" stroke=\"black\" points=\"977,-38.9 966.76,-36.18 973.06,-44.69 977,-38.9\"/>\n",
       "<text text-anchor=\"middle\" x=\"1015\" y=\"-57.8\" font-family=\"Times,serif\" font-size=\"14.00\">1</text>\n",
       "</g>\n",
       "<!-- b5 -->\n",
       "<g id=\"node6\" class=\"node\">\n",
       "<title>b5</title>\n",
       "<polygon fill=\"none\" stroke=\"black\" points=\"1129,-36 1004,-36 1004,0 1129,0 1129,-36\"/>\n",
       "<text text-anchor=\"start\" x=\"1043.5\" y=\"-19.8\" font-family=\"Times,serif\" font-size=\"14.00\">Allocate</text>\n",
       "<text text-anchor=\"start\" x=\"1012\" y=\"-9\" font-family=\"monospace\" font-size=\"10.00\">dtype=QAny(bit ...</text>\n",
       "</g>\n",
       "<!-- b0&#45;&gt;b5 -->\n",
       "<g id=\"edge5\" class=\"edge\">\n",
       "<title>b0-&gt;b5</title>\n",
       "<path fill=\"none\" stroke=\"black\" d=\"M1066.5,-86.8C1066.5,-75.16 1066.5,-59.55 1066.5,-46.24\"/>\n",
       "<polygon fill=\"black\" stroke=\"black\" points=\"1070,-46.18 1066.5,-36.18 1063,-46.18 1070,-46.18\"/>\n",
       "<text text-anchor=\"middle\" x=\"1070\" y=\"-57.8\" font-family=\"Times,serif\" font-size=\"14.00\">1</text>\n",
       "</g>\n",
       "<!-- b6 -->\n",
       "<g id=\"node7\" class=\"node\">\n",
       "<title>b6</title>\n",
       "<polygon fill=\"none\" stroke=\"black\" points=\"1644,-36 1147,-36 1147,0 1644,0 1644,-36\"/>\n",
       "<text text-anchor=\"start\" x=\"1329\" y=\"-19.8\" font-family=\"Times,serif\" font-size=\"14.00\">PRGAViaPhaseGradient</text>\n",
       "<text text-anchor=\"start\" x=\"1155\" y=\"-9\" font-family=\"monospace\" font-size=\"10.00\">selection_bitsize=3, phase_bitsize=2, rom_values=(1, 2, 2 ..., control_bitsize=1</text>\n",
       "</g>\n",
       "<!-- b0&#45;&gt;b6 -->\n",
       "<g id=\"edge6\" class=\"edge\">\n",
       "<title>b0-&gt;b6</title>\n",
       "<path fill=\"none\" stroke=\"black\" d=\"M1132.68,-86.9C1186.67,-72.95 1262.98,-53.24 1319.47,-38.64\"/>\n",
       "<polygon fill=\"black\" stroke=\"black\" points=\"1320.62,-41.96 1329.42,-36.07 1318.87,-35.18 1320.62,-41.96\"/>\n",
       "<text text-anchor=\"middle\" x=\"1255\" y=\"-57.8\" font-family=\"Times,serif\" font-size=\"14.00\">1</text>\n",
       "</g>\n",
       "<!-- b7 -->\n",
       "<g id=\"node8\" class=\"node\">\n",
       "<title>b7</title>\n",
       "<polygon fill=\"none\" stroke=\"black\" points=\"2159,-36 1662,-36 1662,0 2159,0 2159,-36\"/>\n",
       "<text text-anchor=\"start\" x=\"1844\" y=\"-19.8\" font-family=\"Times,serif\" font-size=\"14.00\">PRGAViaPhaseGradient</text>\n",
       "<text text-anchor=\"start\" x=\"1670\" y=\"-9\" font-family=\"monospace\" font-size=\"10.00\">selection_bitsize=2, phase_bitsize=2, rom_values=(1, 1, 1, 1), control_bitsize=1</text>\n",
       "</g>\n",
       "<!-- b0&#45;&gt;b7 -->\n",
       "<g id=\"edge7\" class=\"edge\">\n",
       "<title>b0-&gt;b7</title>\n",
       "<path fill=\"none\" stroke=\"black\" d=\"M1235.52,-86.98C1379.21,-72.51 1584.91,-51.79 1731.4,-37.04\"/>\n",
       "<polygon fill=\"black\" stroke=\"black\" points=\"1731.81,-40.51 1741.41,-36.03 1731.11,-33.55 1731.81,-40.51\"/>\n",
       "<text text-anchor=\"middle\" x=\"1543\" y=\"-57.8\" font-family=\"Times,serif\" font-size=\"14.00\">1</text>\n",
       "</g>\n",
       "<!-- b8 -->\n",
       "<g id=\"node9\" class=\"node\">\n",
       "<title>b8</title>\n",
       "<polygon fill=\"none\" stroke=\"black\" points=\"2231.5,-36 2177.5,-36 2177.5,0 2231.5,0 2231.5,-36\"/>\n",
       "<text text-anchor=\"start\" x=\"2186.5\" y=\"-14.3\" font-family=\"Times,serif\" font-size=\"14.00\">XGate</text>\n",
       "</g>\n",
       "<!-- b0&#45;&gt;b8 -->\n",
       "<g id=\"edge8\" class=\"edge\">\n",
       "<title>b0-&gt;b8</title>\n",
       "<path fill=\"none\" stroke=\"black\" d=\"M1327.18,-98.92C1601.5,-91.61 2014.33,-74.49 2167.5,-36 2167.6,-35.97 2167.71,-35.95 2167.81,-35.92\"/>\n",
       "<polygon fill=\"black\" stroke=\"black\" points=\"2169,-39.21 2177.43,-32.79 2166.84,-32.56 2169,-39.21\"/>\n",
       "<text text-anchor=\"middle\" x=\"2061\" y=\"-57.8\" font-family=\"Times,serif\" font-size=\"14.00\">2</text>\n",
       "</g>\n",
       "<!-- b9 -->\n",
       "<g id=\"node10\" class=\"node\">\n",
       "<title>b9</title>\n",
       "<polygon fill=\"none\" stroke=\"black\" points=\"2699,-36 2250,-36 2250,0 2699,0 2699,-36\"/>\n",
       "<text text-anchor=\"start\" x=\"2408\" y=\"-19.8\" font-family=\"Times,serif\" font-size=\"14.00\">PRGAViaPhaseGradient</text>\n",
       "<text text-anchor=\"start\" x=\"2258\" y=\"-9\" font-family=\"monospace\" font-size=\"10.00\">selection_bitsize=0, phase_bitsize=2, rom_values=(1,), control_bitsize=1</text>\n",
       "</g>\n",
       "<!-- b0&#45;&gt;b9 -->\n",
       "<g id=\"edge9\" class=\"edge\">\n",
       "<title>b0-&gt;b9</title>\n",
       "<path fill=\"none\" stroke=\"black\" d=\"M1327.15,-101.15C1529.59,-97.42 1817.21,-88.82 2068.5,-69 2162.53,-61.58 2268.28,-48.4 2348.27,-37.44\"/>\n",
       "<polygon fill=\"black\" stroke=\"black\" points=\"2348.97,-40.87 2358.39,-36.04 2348.01,-33.94 2348.97,-40.87\"/>\n",
       "<text text-anchor=\"middle\" x=\"2218\" y=\"-57.8\" font-family=\"Times,serif\" font-size=\"14.00\">1</text>\n",
       "</g>\n",
       "</g>\n",
       "</svg>"
      ],
      "text/plain": [
       "<IPython.core.display.SVG object>"
      ]
     },
     "metadata": {},
     "output_type": "display_data"
    },
    {
     "data": {
      "text/markdown": [
       "#### Counts totals:\n",
       " - `Allocate(dtype=QAny(bitsize=1))`: 1\n",
       " - `Free(dtype=QBit())`: 1\n",
       " - `PRGAViaPhaseGradient(selection_bitsize=0, phase_bitsize=2, rom_values=(1,), control_bitsize=1)`: 1\n",
       " - `PRGAViaPhaseGradient(selection_bitsize=1, phase_bitsize=2, rom_values=(0, 0), control_bitsize=1)`: 1\n",
       " - `PRGAViaPhaseGradient(selection_bitsize=2, phase_bitsize=2, rom_values=(1, 1, 1, 1), control_bitsize=1)`: 1\n",
       " - `PRGAViaPhaseGradient(selection_bitsize=3, phase_bitsize=2, rom_values=(1, 2, 2, 2, 3, 3, 0, 2), control_bitsize=1)`: 1\n",
       " - `Rx(-0.5π)`: 3\n",
       " - `Rx(0.5π)`: 3\n",
       " - `XGate()`: 2"
      ],
      "text/plain": [
       "<IPython.core.display.Markdown object>"
      ]
     },
     "metadata": {},
     "output_type": "display_data"
    }
   ],
   "source": [
    "from qualtran.resource_counting.generalizers import ignore_split_join\n",
    "state_prep_via_rotation_g, state_prep_via_rotation_sigma = state_prep_via_rotation.call_graph(max_depth=1, generalizer=ignore_split_join)\n",
    "show_call_graph(state_prep_via_rotation_g)\n",
    "show_counts_sigma(state_prep_via_rotation_sigma)"
   ]
  }
 ],
 "metadata": {
  "kernelspec": {
   "display_name": "Python 3",
   "language": "python",
   "name": "python3"
  },
  "language_info": {
   "codemirror_mode": {
    "name": "ipython",
    "version": 3
   },
   "file_extension": ".py",
   "mimetype": "text/x-python",
   "name": "python",
   "nbconvert_exporter": "python",
   "pygments_lexer": "ipython3",
   "version": "3.11.8"
  },
  "widgets": {
   "application/vnd.jupyter.widget-state+json": {
    "state": {
     "5f49fd93ab594a33b164379c2641a201": {
      "model_module": "@jupyter-widgets/controls",
      "model_module_version": "2.0.0",
      "model_name": "HBoxModel",
      "state": {
       "_dom_classes": [],
       "_model_module": "@jupyter-widgets/controls",
       "_model_module_version": "2.0.0",
       "_model_name": "HBoxModel",
       "_view_count": null,
       "_view_module": "@jupyter-widgets/controls",
       "_view_module_version": "2.0.0",
       "_view_name": "HBoxView",
       "box_style": "",
       "children": [
        "IPY_MODEL_62e7a64195fd4909b9ba58acbf729e79"
       ],
       "layout": "IPY_MODEL_8aeba1409d5244cbbeb932aa6d078c4e",
       "tabbable": null,
       "tooltip": null
      }
     },
     "62e7a64195fd4909b9ba58acbf729e79": {
      "model_module": "@jupyter-widgets/output",
      "model_module_version": "1.0.0",
      "model_name": "OutputModel",
      "state": {
       "_dom_classes": [],
       "_model_module": "@jupyter-widgets/output",
       "_model_module_version": "1.0.0",
       "_model_name": "OutputModel",
       "_view_count": null,
       "_view_module": "@jupyter-widgets/output",
       "_view_module_version": "1.0.0",
       "_view_name": "OutputView",
       "layout": "IPY_MODEL_c3217848c7114e19a36857a7413650df",
       "msg_id": "",
       "outputs": [
        {
         "data": {
          "text/markdown": "`state_prep_via_rotation`",
          "text/plain": "<IPython.core.display.Markdown object>"
         },
         "metadata": {},
         "output_type": "display_data"
        },
        {
         "data": {
          "image/svg+xml": "<svg xmlns=\"http://www.w3.org/2000/svg\" xmlns:xlink=\"http://www.w3.org/1999/xlink\" width=\"366pt\" height=\"98pt\" viewBox=\"0.00 0.00 366.00 98.00\">\n<g id=\"graph0\" class=\"graph\" transform=\"scale(1 1) rotate(0) translate(4 94)\">\n<title>my_graph</title>\n<polygon fill=\"white\" stroke=\"transparent\" points=\"-4,4 -4,-94 362,-94 362,4 -4,4\"/>\n<!-- target_state_G4 -->\n<g id=\"node1\" class=\"node\">\n<title>target_state_G4</title>\n<text text-anchor=\"middle\" x=\"49\" y=\"-68.3\" font-family=\"Times,serif\" font-size=\"14.00\">target_state</text>\n</g>\n<!-- StatePreparationViaRotations -->\n<g id=\"node3\" class=\"node\">\n<title>StatePreparationViaRotations</title>\n<polygon fill=\"none\" stroke=\"black\" points=\"135,-66 135,-83 223,-83 223,-66 135,-66\"/>\n<text text-anchor=\"start\" x=\"160\" y=\"-72\" font-family=\"Times,serif\" font-size=\"10.00\">StatePre..</text>\n<polygon fill=\"none\" stroke=\"black\" points=\"135,-45 135,-66 223,-66 223,-45 135,-45\"/>\n<text text-anchor=\"start\" x=\"147.5\" y=\"-51.8\" font-family=\"Times,serif\" font-size=\"14.00\">target_state</text>\n<polygon fill=\"none\" stroke=\"black\" points=\"135,-24 135,-45 223,-45 223,-24 135,-24\"/>\n<text text-anchor=\"start\" x=\"138\" y=\"-30.8\" font-family=\"Times,serif\" font-size=\"14.00\">phase_gradient</text>\n</g>\n<!-- target_state_G4&#45;&gt;StatePreparationViaRotations -->\n<g id=\"edge1\" class=\"edge\">\n<title>target_state_G4:e-&gt;StatePreparationViaRotations:w</title>\n<path fill=\"none\" stroke=\"black\" d=\"M90,-72C110.4,-72 113.55,-57.23 132.6,-56.07\"/>\n<ellipse fill=\"black\" stroke=\"black\" cx=\"134\" cy=\"-56.03\" rx=\"1\" ry=\"1\"/>\n<text text-anchor=\"middle\" x=\"116.5\" y=\"-64\" font-family=\"Times,serif\" font-size=\"10.00\">3</text>\n</g>\n<!-- phase_gradient_G5 -->\n<g id=\"node2\" class=\"node\">\n<title>phase_gradient_G5</title>\n<text text-anchor=\"middle\" x=\"49\" y=\"-14.3\" font-family=\"Times,serif\" font-size=\"14.00\">phase_gradient</text>\n</g>\n<!-- phase_gradient_G5&#45;&gt;StatePreparationViaRotations -->\n<g id=\"edge2\" class=\"edge\">\n<title>phase_gradient_G5:e-&gt;StatePreparationViaRotations:w</title>\n<path fill=\"none\" stroke=\"black\" d=\"M98,-18C115.22,-18 116.97,-32.77 132.98,-33.93\"/>\n<ellipse fill=\"black\" stroke=\"black\" cx=\"134\" cy=\"-33.96\" rx=\"1\" ry=\"1\"/>\n<text text-anchor=\"middle\" x=\"116.5\" y=\"-29\" font-family=\"Times,serif\" font-size=\"10.00\">2</text>\n</g>\n<!-- target_state_G0 -->\n<g id=\"node4\" class=\"node\">\n<title>target_state_G0</title>\n<text text-anchor=\"middle\" x=\"309\" y=\"-68.3\" font-family=\"Times,serif\" font-size=\"14.00\">target_state</text>\n</g>\n<!-- StatePreparationViaRotations&#45;&gt;target_state_G0 -->\n<g id=\"edge3\" class=\"edge\">\n<title>StatePreparationViaRotations:e-&gt;target_state_G0:w</title>\n<path fill=\"none\" stroke=\"black\" d=\"M223,-56C243.4,-56 246.55,-70.77 265.6,-71.93\"/>\n<ellipse fill=\"black\" stroke=\"black\" cx=\"267\" cy=\"-71.97\" rx=\"1\" ry=\"1\"/>\n<text text-anchor=\"middle\" x=\"241.5\" y=\"-64\" font-family=\"Times,serif\" font-size=\"10.00\">3</text>\n</g>\n<!-- phase_gradient_G2 -->\n<g id=\"node5\" class=\"node\">\n<title>phase_gradient_G2</title>\n<text text-anchor=\"middle\" x=\"309\" y=\"-14.3\" font-family=\"Times,serif\" font-size=\"14.00\">phase_gradient</text>\n</g>\n<!-- StatePreparationViaRotations&#45;&gt;phase_gradient_G2 -->\n<g id=\"edge4\" class=\"edge\">\n<title>StatePreparationViaRotations:e-&gt;phase_gradient_G2:w</title>\n<path fill=\"none\" stroke=\"black\" d=\"M223,-34C240.22,-34 241.97,-19.23 257.98,-18.07\"/>\n<ellipse fill=\"black\" stroke=\"black\" cx=\"259\" cy=\"-18.04\" rx=\"1\" ry=\"1\"/>\n<text text-anchor=\"middle\" x=\"241.5\" y=\"-29\" font-family=\"Times,serif\" font-size=\"10.00\">2</text>\n</g>\n</g>\n</svg>",
          "text/plain": "<IPython.core.display.SVG object>"
         },
         "metadata": {},
         "output_type": "display_data"
        }
       ],
       "tabbable": null,
       "tooltip": null
      }
     },
     "8aeba1409d5244cbbeb932aa6d078c4e": {
      "model_module": "@jupyter-widgets/base",
      "model_module_version": "2.0.0",
      "model_name": "LayoutModel",
      "state": {
       "_model_module": "@jupyter-widgets/base",
       "_model_module_version": "2.0.0",
       "_model_name": "LayoutModel",
       "_view_count": null,
       "_view_module": "@jupyter-widgets/base",
       "_view_module_version": "2.0.0",
       "_view_name": "LayoutView",
       "align_content": null,
       "align_items": null,
       "align_self": null,
       "border_bottom": null,
       "border_left": null,
       "border_right": null,
       "border_top": null,
       "bottom": null,
       "display": null,
       "flex": null,
       "flex_flow": null,
       "grid_area": null,
       "grid_auto_columns": null,
       "grid_auto_flow": null,
       "grid_auto_rows": null,
       "grid_column": null,
       "grid_gap": null,
       "grid_row": null,
       "grid_template_areas": null,
       "grid_template_columns": null,
       "grid_template_rows": null,
       "height": null,
       "justify_content": null,
       "justify_items": null,
       "left": null,
       "margin": null,
       "max_height": null,
       "max_width": null,
       "min_height": null,
       "min_width": null,
       "object_fit": null,
       "object_position": null,
       "order": null,
       "overflow": null,
       "padding": null,
       "right": null,
       "top": null,
       "visibility": null,
       "width": null
      }
     },
     "c3217848c7114e19a36857a7413650df": {
      "model_module": "@jupyter-widgets/base",
      "model_module_version": "2.0.0",
      "model_name": "LayoutModel",
      "state": {
       "_model_module": "@jupyter-widgets/base",
       "_model_module_version": "2.0.0",
       "_model_name": "LayoutModel",
       "_view_count": null,
       "_view_module": "@jupyter-widgets/base",
       "_view_module_version": "2.0.0",
       "_view_name": "LayoutView",
       "align_content": null,
       "align_items": null,
       "align_self": null,
       "border_bottom": null,
       "border_left": null,
       "border_right": null,
       "border_top": null,
       "bottom": null,
       "display": null,
       "flex": null,
       "flex_flow": null,
       "grid_area": null,
       "grid_auto_columns": null,
       "grid_auto_flow": null,
       "grid_auto_rows": null,
       "grid_column": null,
       "grid_gap": null,
       "grid_row": null,
       "grid_template_areas": null,
       "grid_template_columns": null,
       "grid_template_rows": null,
       "height": null,
       "justify_content": null,
       "justify_items": null,
       "left": null,
       "margin": null,
       "max_height": null,
       "max_width": null,
       "min_height": null,
       "min_width": null,
       "object_fit": null,
       "object_position": null,
       "order": null,
       "overflow": null,
       "padding": null,
       "right": null,
       "top": null,
       "visibility": null,
       "width": null
      }
     }
    },
    "version_major": 2,
    "version_minor": 0
   }
  }
 },
 "nbformat": 4,
 "nbformat_minor": 5
}
