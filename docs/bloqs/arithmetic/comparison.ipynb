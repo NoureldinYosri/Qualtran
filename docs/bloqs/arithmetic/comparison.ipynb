{
 "cells": [
  {
   "cell_type": "markdown",
   "id": "23228f10",
   "metadata": {
    "cq.autogen": "title_cell"
   },
   "source": [
    "# Comparison"
   ]
  },
  {
   "cell_type": "code",
   "execution_count": 1,
   "id": "100135a5",
   "metadata": {
    "cq.autogen": "top_imports"
   },
   "outputs": [],
   "source": [
    "from qualtran import Bloq, CompositeBloq, BloqBuilder, Signature, Register\n",
    "from qualtran import QBit, QInt, QUInt, QAny\n",
    "from qualtran.drawing import show_bloq, show_call_graph, show_counts_sigma\n",
    "from typing import *\n",
    "import numpy as np\n",
    "import sympy\n",
    "import cirq"
   ]
  },
  {
   "cell_type": "markdown",
   "id": "583b18fb",
   "metadata": {
    "cq.autogen": "GreaterThan.bloq_doc.md"
   },
   "source": [
    "## `GreaterThan`\n",
    "Compare two integers.\n",
    "\n",
    "Implements $U|a\\rangle|b\\rangle|0\\rangle \\rightarrow\n",
    "|a\\rangle|b\\rangle|a > b\\rangle$ using $8n T$  gates.\n",
    "\n",
    "The bloq_counts and t_complexity are derived from equivalent qualtran gates\n",
    "assuming a clean decomposition which should yield identical costs.\n",
    "\n",
    "See: https://github.com/quantumlib/Qualtran/pull/381 and\n",
    "https://qualtran.readthedocs.io/en/latest/bloqs/comparison_gates.html\n",
    "\n",
    "#### Parameters\n",
    " - `bitsize`: Number of bits used to represent the two integers a and b. \n",
    "\n",
    "#### Registers\n",
    " - `a`: n-bit-sized input registers.\n",
    " - `b`: n-bit-sized input registers.\n",
    " - `target`: A single bit output register to store the result of A > B.\n"
   ]
  },
  {
   "cell_type": "code",
   "execution_count": 2,
   "id": "4897dd68",
   "metadata": {
    "cq.autogen": "GreaterThan.bloq_doc.py"
   },
   "outputs": [],
   "source": [
    "from qualtran.bloqs.arithmetic import GreaterThan"
   ]
  },
  {
   "cell_type": "markdown",
   "id": "7888a98f",
   "metadata": {
    "cq.autogen": "GreaterThan.example_instances.md"
   },
   "source": [
    "### Example Instances"
   ]
  },
  {
   "cell_type": "code",
   "execution_count": 3,
   "id": "98aa6041",
   "metadata": {
    "cq.autogen": "GreaterThan.greater_than"
   },
   "outputs": [],
   "source": [
    "greater_than = GreaterThan(a_bitsize=4, b_bitsize=4)"
   ]
  },
  {
   "cell_type": "markdown",
   "id": "ceac73b4",
   "metadata": {
    "cq.autogen": "GreaterThan.graphical_signature.md"
   },
   "source": [
    "#### Graphical Signature"
   ]
  },
  {
   "cell_type": "code",
   "execution_count": 4,
   "id": "c82d95fe",
   "metadata": {
    "cq.autogen": "GreaterThan.graphical_signature.py"
   },
   "outputs": [
    {
     "data": {
      "application/vnd.jupyter.widget-view+json": {
       "model_id": "2ebedd58de664b36b794206d73d07ad4",
       "version_major": 2,
       "version_minor": 0
      },
      "text/plain": [
       "HBox(children=(Output(outputs=({'output_type': 'display_data', 'data': {'text/plain': '<IPython.core.display.M…"
      ]
     },
     "metadata": {},
     "output_type": "display_data"
    }
   ],
   "source": [
    "from qualtran.drawing import show_bloqs\n",
    "show_bloqs([greater_than],\n",
    "           ['`greater_than`'])"
   ]
  },
  {
   "cell_type": "markdown",
   "id": "3afdc24f",
   "metadata": {
    "cq.autogen": "GreaterThan.call_graph.md"
   },
   "source": [
    "### Call Graph"
   ]
  },
  {
   "cell_type": "code",
   "execution_count": 5,
   "id": "88ae5ce9",
   "metadata": {
    "cq.autogen": "GreaterThan.call_graph.py"
   },
   "outputs": [
    {
     "data": {
      "image/svg+xml": [
       "<svg xmlns=\"http://www.w3.org/2000/svg\" xmlns:xlink=\"http://www.w3.org/1999/xlink\" width=\"242pt\" height=\"131pt\" viewBox=\"0.00 0.00 241.50 131.00\">\n",
       "<g id=\"graph0\" class=\"graph\" transform=\"scale(1 1) rotate(0) translate(4 127)\">\n",
       "<title>counts</title>\n",
       "<polygon fill=\"white\" stroke=\"transparent\" points=\"-4,4 -4,-127 237.5,-127 237.5,4 -4,4\"/>\n",
       "<!-- b0 -->\n",
       "<g id=\"node1\" class=\"node\">\n",
       "<title>b0</title>\n",
       "<polygon fill=\"none\" stroke=\"black\" points=\"170.5,-123 9.5,-123 9.5,-87 170.5,-87 170.5,-123\"/>\n",
       "<text text-anchor=\"start\" x=\"55.5\" y=\"-106.8\" font-family=\"Times,serif\" font-size=\"14.00\">GreaterThan</text>\n",
       "<text text-anchor=\"start\" x=\"17.5\" y=\"-96\" font-family=\"monospace\" font-size=\"10.00\">a_bitsize=4, b_bitsize=4</text>\n",
       "</g>\n",
       "<!-- b1 -->\n",
       "<g id=\"node2\" class=\"node\">\n",
       "<title>b1</title>\n",
       "<polygon fill=\"none\" stroke=\"black\" points=\"54,-36 0,-36 0,0 54,0 54,-36\"/>\n",
       "<text text-anchor=\"start\" x=\"9\" y=\"-14.3\" font-family=\"Times,serif\" font-size=\"14.00\">XGate</text>\n",
       "</g>\n",
       "<!-- b0&#45;&gt;b1 -->\n",
       "<g id=\"edge1\" class=\"edge\">\n",
       "<title>b0-&gt;b1</title>\n",
       "<path fill=\"none\" stroke=\"black\" d=\"M77.25,-86.8C68.2,-74.59 55.9,-57.99 45.74,-44.28\"/>\n",
       "<polygon fill=\"black\" stroke=\"black\" points=\"48.5,-42.13 39.73,-36.18 42.87,-46.29 48.5,-42.13\"/>\n",
       "<text text-anchor=\"middle\" x=\"66.5\" y=\"-57.8\" font-family=\"Times,serif\" font-size=\"14.00\">1</text>\n",
       "</g>\n",
       "<!-- b2 -->\n",
       "<g id=\"node3\" class=\"node\">\n",
       "<title>b2</title>\n",
       "<polygon fill=\"none\" stroke=\"black\" points=\"233.5,-36 72.5,-36 72.5,0 233.5,0 233.5,-36\"/>\n",
       "<text text-anchor=\"start\" x=\"110.5\" y=\"-19.8\" font-family=\"Times,serif\" font-size=\"14.00\">LessThanEqual</text>\n",
       "<text text-anchor=\"start\" x=\"80.5\" y=\"-9\" font-family=\"monospace\" font-size=\"10.00\">x_bitsize=4, y_bitsize=4</text>\n",
       "</g>\n",
       "<!-- b0&#45;&gt;b2 -->\n",
       "<g id=\"edge2\" class=\"edge\">\n",
       "<title>b0-&gt;b2</title>\n",
       "<path fill=\"none\" stroke=\"black\" d=\"M102.75,-86.8C111.8,-74.59 124.1,-57.99 134.26,-44.28\"/>\n",
       "<polygon fill=\"black\" stroke=\"black\" points=\"137.13,-46.29 140.27,-36.18 131.5,-42.13 137.13,-46.29\"/>\n",
       "<text text-anchor=\"middle\" x=\"128.5\" y=\"-57.8\" font-family=\"Times,serif\" font-size=\"14.00\">1</text>\n",
       "</g>\n",
       "</g>\n",
       "</svg>"
      ],
      "text/plain": [
       "<IPython.core.display.SVG object>"
      ]
     },
     "metadata": {},
     "output_type": "display_data"
    },
    {
     "data": {
      "text/markdown": [
       "#### Counts totals:\n",
       " - `LessThanEqual`: 1\n",
       " - `XGate`: 1"
      ],
      "text/plain": [
       "<IPython.core.display.Markdown object>"
      ]
     },
     "metadata": {},
     "output_type": "display_data"
    }
   ],
   "source": [
    "from qualtran.resource_counting.generalizers import ignore_split_join\n",
    "greater_than_g, greater_than_sigma = greater_than.call_graph(max_depth=1, generalizer=ignore_split_join)\n",
    "show_call_graph(greater_than_g)\n",
    "show_counts_sigma(greater_than_sigma)"
   ]
  },
  {
   "cell_type": "markdown",
   "id": "532b6bf1",
   "metadata": {
    "cq.autogen": "GreaterThanConstant.bloq_doc.md"
   },
   "source": [
    "## `GreaterThanConstant`\n",
    "Implements $U_a|x\\rangle = U_a|x\\rangle|z\\rangle = |x\\rangle |z \\land (x > a)\\rangle$\n",
    "\n",
    "The bloq_counts and t_complexity are derived from equivalent qualtran gates\n",
    "assuming a clean decomposition which should yield identical costs.\n",
    "\n",
    "See: https://github.com/quantumlib/Qualtran/pull/381 and\n",
    "https://qualtran.readthedocs.io/en/latest/bloqs/comparison_gates.html\n",
    "\n",
    "\n",
    "#### Parameters\n",
    " - `bitsize`: bitsize of x register.\n",
    " - `val`: integer to compare x against (a above.) \n",
    "\n",
    "#### Registers\n",
    " - `x`: Register to compare against val.\n",
    " - `target`: Register to hold result of comparison.\n"
   ]
  },
  {
   "cell_type": "code",
   "execution_count": 6,
   "id": "79cf881f",
   "metadata": {
    "cq.autogen": "GreaterThanConstant.bloq_doc.py"
   },
   "outputs": [],
   "source": [
    "from qualtran.bloqs.arithmetic import GreaterThanConstant"
   ]
  },
  {
   "cell_type": "markdown",
   "id": "262b3978",
   "metadata": {
    "cq.autogen": "GreaterThanConstant.example_instances.md"
   },
   "source": [
    "### Example Instances"
   ]
  },
  {
   "cell_type": "code",
   "execution_count": 7,
   "id": "4e9495bc",
   "metadata": {
    "cq.autogen": "GreaterThanConstant.gt_k"
   },
   "outputs": [],
   "source": [
    "gt_k = GreaterThanConstant(bitsize=4, val=13)"
   ]
  },
  {
   "cell_type": "markdown",
   "id": "692cf0da",
   "metadata": {
    "cq.autogen": "GreaterThanConstant.graphical_signature.md"
   },
   "source": [
    "#### Graphical Signature"
   ]
  },
  {
   "cell_type": "code",
   "execution_count": 8,
   "id": "49de22c1",
   "metadata": {
    "cq.autogen": "GreaterThanConstant.graphical_signature.py"
   },
   "outputs": [
    {
     "data": {
      "application/vnd.jupyter.widget-view+json": {
       "model_id": "845a49dfa62545089dcee97da5372aa8",
       "version_major": 2,
       "version_minor": 0
      },
      "text/plain": [
       "HBox(children=(Output(outputs=({'output_type': 'display_data', 'data': {'text/plain': '<IPython.core.display.M…"
      ]
     },
     "metadata": {},
     "output_type": "display_data"
    }
   ],
   "source": [
    "from qualtran.drawing import show_bloqs\n",
    "show_bloqs([gt_k],\n",
    "           ['`gt_k`'])"
   ]
  },
  {
   "cell_type": "markdown",
   "id": "ca10fb8f",
   "metadata": {
    "cq.autogen": "GreaterThanConstant.call_graph.md"
   },
   "source": [
    "### Call Graph"
   ]
  },
  {
   "cell_type": "code",
   "execution_count": 9,
   "id": "ce7758c2",
   "metadata": {
    "cq.autogen": "GreaterThanConstant.call_graph.py"
   },
   "outputs": [
    {
     "data": {
      "image/svg+xml": [
       "<svg xmlns=\"http://www.w3.org/2000/svg\" xmlns:xlink=\"http://www.w3.org/1999/xlink\" width=\"187pt\" height=\"131pt\" viewBox=\"0.00 0.00 187.00 131.00\">\n",
       "<g id=\"graph0\" class=\"graph\" transform=\"scale(1 1) rotate(0) translate(4 127)\">\n",
       "<title>counts</title>\n",
       "<polygon fill=\"white\" stroke=\"transparent\" points=\"-4,4 -4,-127 183,-127 183,4 -4,4\"/>\n",
       "<!-- b0 -->\n",
       "<g id=\"node1\" class=\"node\">\n",
       "<title>b0</title>\n",
       "<polygon fill=\"none\" stroke=\"black\" points=\"156,-123 23,-123 23,-87 156,-87 156,-123\"/>\n",
       "<text text-anchor=\"start\" x=\"31\" y=\"-106.8\" font-family=\"Times,serif\" font-size=\"14.00\">GreaterThanConstant</text>\n",
       "<text text-anchor=\"start\" x=\"38\" y=\"-96\" font-family=\"monospace\" font-size=\"10.00\">bitsize=4, val=13</text>\n",
       "</g>\n",
       "<!-- b1 -->\n",
       "<g id=\"node2\" class=\"node\">\n",
       "<title>b1</title>\n",
       "<polygon fill=\"none\" stroke=\"black\" points=\"179,-36 0,-36 0,0 179,0 179,-36\"/>\n",
       "<text text-anchor=\"start\" x=\"39\" y=\"-19.8\" font-family=\"Times,serif\" font-size=\"14.00\">LessThanConstant</text>\n",
       "<text text-anchor=\"start\" x=\"8\" y=\"-9\" font-family=\"monospace\" font-size=\"10.00\">bitsize=4, less_than_val=13</text>\n",
       "</g>\n",
       "<!-- b0&#45;&gt;b1 -->\n",
       "<g id=\"edge1\" class=\"edge\">\n",
       "<title>b0-&gt;b1</title>\n",
       "<path fill=\"none\" stroke=\"black\" d=\"M89.5,-86.8C89.5,-75.16 89.5,-59.55 89.5,-46.24\"/>\n",
       "<polygon fill=\"black\" stroke=\"black\" points=\"93,-46.18 89.5,-36.18 86,-46.18 93,-46.18\"/>\n",
       "<text text-anchor=\"middle\" x=\"93\" y=\"-57.8\" font-family=\"Times,serif\" font-size=\"14.00\">1</text>\n",
       "</g>\n",
       "</g>\n",
       "</svg>"
      ],
      "text/plain": [
       "<IPython.core.display.SVG object>"
      ]
     },
     "metadata": {},
     "output_type": "display_data"
    },
    {
     "data": {
      "text/markdown": [
       "#### Counts totals:\n",
       " - `LessThanConstant`: 1"
      ],
      "text/plain": [
       "<IPython.core.display.Markdown object>"
      ]
     },
     "metadata": {},
     "output_type": "display_data"
    }
   ],
   "source": [
    "from qualtran.resource_counting.generalizers import ignore_split_join\n",
    "gt_k_g, gt_k_sigma = gt_k.call_graph(max_depth=1, generalizer=ignore_split_join)\n",
    "show_call_graph(gt_k_g)\n",
    "show_counts_sigma(gt_k_sigma)"
   ]
  },
  {
   "cell_type": "markdown",
   "id": "8948042c",
   "metadata": {
    "cq.autogen": "EqualsAConstant.bloq_doc.md"
   },
   "source": [
    "## `EqualsAConstant`\n",
    "Implements $U_a|x\\rangle|z\\rangle = |x\\rangle |z \\oplus (x = a)\\rangle$\n",
    "\n",
    "The bloq_counts and t_complexity are derived from:\n",
    "https://qualtran.readthedocs.io/en/latest/bloqs/comparison_gates.html#equality-as-a-special-case\n",
    "\n",
    "#### Parameters\n",
    " - `bitsize`: bitsize of x register.\n",
    " - `val`: integer to compare x against (a above.) \n",
    "\n",
    "#### Registers\n",
    " - `x`: Register to compare against val.\n",
    " - `target`: Register to hold result of comparison.\n"
   ]
  },
  {
   "cell_type": "code",
   "execution_count": 10,
   "id": "8975c3d4",
   "metadata": {
    "cq.autogen": "EqualsAConstant.bloq_doc.py"
   },
   "outputs": [],
   "source": [
    "from qualtran.bloqs.arithmetic import EqualsAConstant"
   ]
  },
  {
   "cell_type": "markdown",
   "id": "8d9dfb80",
   "metadata": {
    "cq.autogen": "EqualsAConstant.example_instances.md"
   },
   "source": [
    "### Example Instances"
   ]
  },
  {
   "cell_type": "code",
   "execution_count": 11,
   "id": "596fef5f",
   "metadata": {
    "cq.autogen": "EqualsAConstant.eq_k"
   },
   "outputs": [],
   "source": [
    "eq_k = EqualsAConstant(bitsize=4, val=13)"
   ]
  },
  {
   "cell_type": "markdown",
   "id": "867bb5ac",
   "metadata": {
    "cq.autogen": "EqualsAConstant.graphical_signature.md"
   },
   "source": [
    "#### Graphical Signature"
   ]
  },
  {
   "cell_type": "code",
   "execution_count": 12,
   "id": "a3d3be59",
   "metadata": {
    "cq.autogen": "EqualsAConstant.graphical_signature.py"
   },
   "outputs": [
    {
     "data": {
      "application/vnd.jupyter.widget-view+json": {
       "model_id": "56d0ead7b5a345fdb4bf0183cb81ff13",
       "version_major": 2,
       "version_minor": 0
      },
      "text/plain": [
       "HBox(children=(Output(outputs=({'output_type': 'display_data', 'data': {'text/plain': '<IPython.core.display.M…"
      ]
     },
     "metadata": {},
     "output_type": "display_data"
    }
   ],
   "source": [
    "from qualtran.drawing import show_bloqs\n",
    "show_bloqs([eq_k],\n",
    "           ['`eq_k`'])"
   ]
  },
  {
   "cell_type": "markdown",
   "id": "c672c228",
   "metadata": {
    "cq.autogen": "EqualsAConstant.call_graph.md"
   },
   "source": [
    "### Call Graph"
   ]
  },
  {
   "cell_type": "code",
   "execution_count": 13,
   "id": "735d36af",
   "metadata": {
    "cq.autogen": "EqualsAConstant.call_graph.py"
   },
   "outputs": [
    {
     "data": {
      "image/svg+xml": [
       "<svg xmlns=\"http://www.w3.org/2000/svg\" xmlns:xlink=\"http://www.w3.org/1999/xlink\" width=\"241pt\" height=\"131pt\" viewBox=\"0.00 0.00 241.00 131.00\">\n",
       "<g id=\"graph0\" class=\"graph\" transform=\"scale(1 1) rotate(0) translate(4 127)\">\n",
       "<title>counts</title>\n",
       "<polygon fill=\"white\" stroke=\"transparent\" points=\"-4,4 -4,-127 237,-127 237,4 -4,4\"/>\n",
       "<!-- b0 -->\n",
       "<g id=\"node1\" class=\"node\">\n",
       "<title>b0</title>\n",
       "<polygon fill=\"none\" stroke=\"black\" points=\"176,-123 57,-123 57,-87 176,-87 176,-123\"/>\n",
       "<text text-anchor=\"start\" x=\"69\" y=\"-106.8\" font-family=\"Times,serif\" font-size=\"14.00\">EqualsAConstant</text>\n",
       "<text text-anchor=\"start\" x=\"65\" y=\"-96\" font-family=\"monospace\" font-size=\"10.00\">bitsize=4, val=13</text>\n",
       "</g>\n",
       "<!-- b1 -->\n",
       "<g id=\"node2\" class=\"node\">\n",
       "<title>b1</title>\n",
       "<polygon fill=\"none\" stroke=\"black\" points=\"233,-36 0,-36 0,0 233,0 233,-36\"/>\n",
       "<text text-anchor=\"start\" x=\"100\" y=\"-19.8\" font-family=\"Times,serif\" font-size=\"14.00\">C^4X</text>\n",
       "<text text-anchor=\"start\" x=\"8\" y=\"-9\" font-family=\"monospace\" font-size=\"10.00\">cvs=(1, 1, 0, 1), target_gate=cirq.X</text>\n",
       "</g>\n",
       "<!-- b0&#45;&gt;b1 -->\n",
       "<g id=\"edge1\" class=\"edge\">\n",
       "<title>b0-&gt;b1</title>\n",
       "<path fill=\"none\" stroke=\"black\" d=\"M116.5,-86.8C116.5,-75.16 116.5,-59.55 116.5,-46.24\"/>\n",
       "<polygon fill=\"black\" stroke=\"black\" points=\"120,-46.18 116.5,-36.18 113,-46.18 120,-46.18\"/>\n",
       "<text text-anchor=\"middle\" x=\"120\" y=\"-57.8\" font-family=\"Times,serif\" font-size=\"14.00\">1</text>\n",
       "</g>\n",
       "</g>\n",
       "</svg>"
      ],
      "text/plain": [
       "<IPython.core.display.SVG object>"
      ]
     },
     "metadata": {},
     "output_type": "display_data"
    },
    {
     "data": {
      "text/markdown": [
       "#### Counts totals:\n",
       " - `MultiControlX`: 1"
      ],
      "text/plain": [
       "<IPython.core.display.Markdown object>"
      ]
     },
     "metadata": {},
     "output_type": "display_data"
    }
   ],
   "source": [
    "from qualtran.resource_counting.generalizers import ignore_split_join\n",
    "eq_k_g, eq_k_sigma = eq_k.call_graph(max_depth=1, generalizer=ignore_split_join)\n",
    "show_call_graph(eq_k_g)\n",
    "show_counts_sigma(eq_k_sigma)"
   ]
  },
  {
   "cell_type": "markdown",
   "id": "5d4a473d",
   "metadata": {
    "cq.autogen": "LessThanConstant.bloq_doc.md"
   },
   "source": [
    "## `LessThanConstant`\n",
    "Applies U_a|x>|z> = |x> |z ^ (x < a)>"
   ]
  },
  {
   "cell_type": "code",
   "execution_count": 14,
   "id": "f978cd77",
   "metadata": {
    "cq.autogen": "LessThanConstant.bloq_doc.py"
   },
   "outputs": [],
   "source": [
    "from qualtran.bloqs.arithmetic import LessThanConstant"
   ]
  },
  {
   "cell_type": "markdown",
   "id": "1ff5855a",
   "metadata": {
    "cq.autogen": "LessThanConstant.example_instances.md"
   },
   "source": [
    "### Example Instances"
   ]
  },
  {
   "cell_type": "code",
   "execution_count": 15,
   "id": "f0e3705e",
   "metadata": {
    "cq.autogen": "LessThanConstant.lt_k_symb"
   },
   "outputs": [],
   "source": [
    "n, k = sympy.symbols(\"n k\")\n",
    "lt_k_symb = LessThanConstant(bitsize=n, less_than_val=k)"
   ]
  },
  {
   "cell_type": "code",
   "execution_count": 16,
   "id": "65845541",
   "metadata": {
    "cq.autogen": "LessThanConstant.lt_k"
   },
   "outputs": [],
   "source": [
    "lt_k = LessThanConstant(bitsize=8, less_than_val=5)"
   ]
  },
  {
   "cell_type": "markdown",
   "id": "697c19b4",
   "metadata": {
    "cq.autogen": "LessThanConstant.graphical_signature.md"
   },
   "source": [
    "#### Graphical Signature"
   ]
  },
  {
   "cell_type": "code",
   "execution_count": 17,
   "id": "c722a3c7",
   "metadata": {
    "cq.autogen": "LessThanConstant.graphical_signature.py"
   },
   "outputs": [
    {
     "data": {
      "application/vnd.jupyter.widget-view+json": {
       "model_id": "4452fd06dfeb480c87aeec90dc853aa5",
       "version_major": 2,
       "version_minor": 0
      },
      "text/plain": [
       "HBox(children=(Output(outputs=({'output_type': 'display_data', 'data': {'text/plain': '<IPython.core.display.M…"
      ]
     },
     "metadata": {},
     "output_type": "display_data"
    }
   ],
   "source": [
    "from qualtran.drawing import show_bloqs\n",
    "show_bloqs([lt_k, lt_k_symb],\n",
    "           ['`lt_k`', '`lt_k_symb`'])"
   ]
  },
  {
   "cell_type": "markdown",
   "id": "9ac764fa",
   "metadata": {
    "cq.autogen": "LessThanConstant.call_graph.md"
   },
   "source": [
    "### Call Graph"
   ]
  },
  {
   "cell_type": "code",
   "execution_count": 18,
   "id": "b8de0ffc",
   "metadata": {
    "cq.autogen": "LessThanConstant.call_graph.py"
   },
   "outputs": [
    {
     "data": {
      "image/svg+xml": [
       "<svg xmlns=\"http://www.w3.org/2000/svg\" xmlns:xlink=\"http://www.w3.org/1999/xlink\" width=\"547pt\" height=\"131pt\" viewBox=\"0.00 0.00 546.50 131.00\">\n",
       "<g id=\"graph0\" class=\"graph\" transform=\"scale(1 1) rotate(0) translate(4 127)\">\n",
       "<title>counts</title>\n",
       "<polygon fill=\"white\" stroke=\"transparent\" points=\"-4,4 -4,-127 542.5,-127 542.5,4 -4,4\"/>\n",
       "<!-- b0 -->\n",
       "<g id=\"node1\" class=\"node\">\n",
       "<title>b0</title>\n",
       "<polygon fill=\"none\" stroke=\"black\" points=\"455,-123 282,-123 282,-87 455,-87 455,-123\"/>\n",
       "<text text-anchor=\"start\" x=\"318\" y=\"-106.8\" font-family=\"Times,serif\" font-size=\"14.00\">LessThanConstant</text>\n",
       "<text text-anchor=\"start\" x=\"290\" y=\"-96\" font-family=\"monospace\" font-size=\"10.00\">bitsize=8, less_than_val=5</text>\n",
       "</g>\n",
       "<!-- b1 -->\n",
       "<g id=\"node2\" class=\"node\">\n",
       "<title>b1</title>\n",
       "<polygon fill=\"none\" stroke=\"black\" points=\"185,-36 0,-36 0,0 185,0 185,-36\"/>\n",
       "<text text-anchor=\"start\" x=\"77\" y=\"-19.8\" font-family=\"Times,serif\" font-size=\"14.00\">And†</text>\n",
       "<text text-anchor=\"start\" x=\"8\" y=\"-9\" font-family=\"monospace\" font-size=\"10.00\">cv1=1, cv2=1, uncompute=True</text>\n",
       "</g>\n",
       "<!-- b0&#45;&gt;b1 -->\n",
       "<g id=\"edge1\" class=\"edge\">\n",
       "<title>b0-&gt;b1</title>\n",
       "<path fill=\"none\" stroke=\"black\" d=\"M312.98,-86.9C268.16,-73.1 205,-53.65 157.76,-39.1\"/>\n",
       "<polygon fill=\"black\" stroke=\"black\" points=\"158.52,-35.67 147.93,-36.07 156.46,-42.36 158.52,-35.67\"/>\n",
       "<text text-anchor=\"middle\" x=\"251\" y=\"-57.8\" font-family=\"Times,serif\" font-size=\"14.00\">8</text>\n",
       "</g>\n",
       "<!-- b2 -->\n",
       "<g id=\"node3\" class=\"node\">\n",
       "<title>b2</title>\n",
       "<polygon fill=\"none\" stroke=\"black\" points=\"394,-36 203,-36 203,0 394,0 394,-36\"/>\n",
       "<text text-anchor=\"start\" x=\"286.5\" y=\"-19.8\" font-family=\"Times,serif\" font-size=\"14.00\">And</text>\n",
       "<text text-anchor=\"start\" x=\"211\" y=\"-9\" font-family=\"monospace\" font-size=\"10.00\">cv1=1, cv2=1, uncompute=False</text>\n",
       "</g>\n",
       "<!-- b0&#45;&gt;b2 -->\n",
       "<g id=\"edge2\" class=\"edge\">\n",
       "<title>b0-&gt;b2</title>\n",
       "<path fill=\"none\" stroke=\"black\" d=\"M354.33,-86.8C344.28,-74.59 330.61,-57.99 319.32,-44.28\"/>\n",
       "<polygon fill=\"black\" stroke=\"black\" points=\"321.7,-41.67 312.64,-36.18 316.3,-46.12 321.7,-41.67\"/>\n",
       "<text text-anchor=\"middle\" x=\"342\" y=\"-57.8\" font-family=\"Times,serif\" font-size=\"14.00\">8</text>\n",
       "</g>\n",
       "<!-- b3 -->\n",
       "<g id=\"node4\" class=\"node\">\n",
       "<title>b3</title>\n",
       "<polygon fill=\"none\" stroke=\"black\" points=\"466.5,-36 412.5,-36 412.5,0 466.5,0 466.5,-36\"/>\n",
       "<text text-anchor=\"start\" x=\"421\" y=\"-14.3\" font-family=\"Times,serif\" font-size=\"14.00\">CNOT</text>\n",
       "</g>\n",
       "<!-- b0&#45;&gt;b3 -->\n",
       "<g id=\"edge3\" class=\"edge\">\n",
       "<title>b0-&gt;b3</title>\n",
       "<path fill=\"none\" stroke=\"black\" d=\"M382.87,-86.8C393.17,-74.47 407.19,-57.68 418.71,-43.89\"/>\n",
       "<polygon fill=\"black\" stroke=\"black\" points=\"421.43,-46.09 425.15,-36.18 416.06,-41.61 421.43,-46.09\"/>\n",
       "<text text-anchor=\"middle\" x=\"415.5\" y=\"-57.8\" font-family=\"Times,serif\" font-size=\"14.00\">18</text>\n",
       "</g>\n",
       "<!-- b4 -->\n",
       "<g id=\"node5\" class=\"node\">\n",
       "<title>b4</title>\n",
       "<polygon fill=\"none\" stroke=\"black\" points=\"538.5,-36 484.5,-36 484.5,0 538.5,0 538.5,-36\"/>\n",
       "<text text-anchor=\"start\" x=\"493.5\" y=\"-14.3\" font-family=\"Times,serif\" font-size=\"14.00\">XGate</text>\n",
       "</g>\n",
       "<!-- b0&#45;&gt;b4 -->\n",
       "<g id=\"edge4\" class=\"edge\">\n",
       "<title>b0-&gt;b4</title>\n",
       "<path fill=\"none\" stroke=\"black\" d=\"M397.44,-86.8C419.87,-73.46 451.09,-54.91 475.2,-40.58\"/>\n",
       "<polygon fill=\"black\" stroke=\"black\" points=\"477.25,-43.43 484.06,-35.31 473.68,-37.41 477.25,-43.43\"/>\n",
       "<text text-anchor=\"middle\" x=\"453\" y=\"-57.8\" font-family=\"Times,serif\" font-size=\"14.00\">6</text>\n",
       "</g>\n",
       "</g>\n",
       "</svg>"
      ],
      "text/plain": [
       "<IPython.core.display.SVG object>"
      ]
     },
     "metadata": {},
     "output_type": "display_data"
    },
    {
     "data": {
      "text/markdown": [
       "#### Counts totals:\n",
       " - `And`: 8\n",
       " - `And†`: 8\n",
       " - `CNOT`: 18\n",
       " - `XGate`: 6"
      ],
      "text/plain": [
       "<IPython.core.display.Markdown object>"
      ]
     },
     "metadata": {},
     "output_type": "display_data"
    }
   ],
   "source": [
    "from qualtran.resource_counting.generalizers import ignore_split_join\n",
    "lt_k_g, lt_k_sigma = lt_k.call_graph(max_depth=1, generalizer=ignore_split_join)\n",
    "show_call_graph(lt_k_g)\n",
    "show_counts_sigma(lt_k_sigma)"
   ]
  },
  {
   "cell_type": "markdown",
   "id": "58d1a6a6",
   "metadata": {
    "cq.autogen": "BiQubitsMixer.bloq_doc.md"
   },
   "source": [
    "## `BiQubitsMixer`\n",
    "Implements the COMPARE2 subroutine from the reference (Fig. 1)\n",
    "\n",
    "This gates mixes the values in a way that preserves the result of comparison.\n",
    "The signature being compared are 2-qubit signature where\n",
    "\n",
    "    x = 2*x_msb + x_lsb\n",
    "    y = 2*y_msb + y_lsb\n",
    "\n",
    "The Gate mixes the 4 qubits so that sign(x - y) = sign(x_lsb' - y_lsb') where x_lsb' and y_lsb'\n",
    "are the final values of x_lsb' and y_lsb'.\n",
    "\n",
    "Note that the ancilla qubits are used to reduce the T-count and the user\n",
    "should clean the qubits at a later point in time with the adjoint gate.\n",
    "See: https://github.com/quantumlib/Cirq/pull/6313 and\n",
    "https://github.com/quantumlib/Qualtran/issues/389\n",
    "\n",
    "#### References\n",
    " - Supplementary Materials: Improved Techniques for Preparing Eigenstates of Fermionic Hamiltonians https://static-content.springer.com/esm/art%3A10.1038%2Fs41534-018-0071-5/MediaObjects/41534_2018_71_MOESM1_ESM.pdf\n"
   ]
  },
  {
   "cell_type": "code",
   "execution_count": 19,
   "id": "1603c8b5",
   "metadata": {
    "cq.autogen": "BiQubitsMixer.bloq_doc.py"
   },
   "outputs": [],
   "source": [
    "from qualtran.bloqs.arithmetic import BiQubitsMixer"
   ]
  },
  {
   "cell_type": "markdown",
   "id": "78cbdc47",
   "metadata": {
    "cq.autogen": "BiQubitsMixer.example_instances.md"
   },
   "source": [
    "### Example Instances"
   ]
  },
  {
   "cell_type": "code",
   "execution_count": 20,
   "id": "d69a00ae",
   "metadata": {
    "cq.autogen": "BiQubitsMixer.bi_qubits_mixer"
   },
   "outputs": [],
   "source": [
    "bi_qubits_mixer = BiQubitsMixer()"
   ]
  },
  {
   "cell_type": "markdown",
   "id": "1f0bfe08",
   "metadata": {
    "cq.autogen": "BiQubitsMixer.graphical_signature.md"
   },
   "source": [
    "#### Graphical Signature"
   ]
  },
  {
   "cell_type": "code",
   "execution_count": 21,
   "id": "7558ee56",
   "metadata": {
    "cq.autogen": "BiQubitsMixer.graphical_signature.py"
   },
   "outputs": [
    {
     "data": {
      "application/vnd.jupyter.widget-view+json": {
       "model_id": "9b80968626e9419fbc56bd4e44dac9d7",
       "version_major": 2,
       "version_minor": 0
      },
      "text/plain": [
       "HBox(children=(Output(outputs=({'output_type': 'display_data', 'data': {'text/plain': '<IPython.core.display.M…"
      ]
     },
     "metadata": {},
     "output_type": "display_data"
    }
   ],
   "source": [
    "from qualtran.drawing import show_bloqs\n",
    "show_bloqs([bi_qubits_mixer],\n",
    "           ['`bi_qubits_mixer`'])"
   ]
  },
  {
   "cell_type": "markdown",
   "id": "a5c34728",
   "metadata": {
    "cq.autogen": "BiQubitsMixer.call_graph.md"
   },
   "source": [
    "### Call Graph"
   ]
  },
  {
   "cell_type": "code",
   "execution_count": 22,
   "id": "0daf86df",
   "metadata": {
    "cq.autogen": "BiQubitsMixer.call_graph.py"
   },
   "outputs": [
    {
     "data": {
      "image/svg+xml": [
       "<svg xmlns=\"http://www.w3.org/2000/svg\" xmlns:xlink=\"http://www.w3.org/1999/xlink\" width=\"344pt\" height=\"131pt\" viewBox=\"0.00 0.00 344.00 131.00\">\n",
       "<g id=\"graph0\" class=\"graph\" transform=\"scale(1 1) rotate(0) translate(4 127)\">\n",
       "<title>counts</title>\n",
       "<polygon fill=\"white\" stroke=\"transparent\" points=\"-4,4 -4,-127 340,-127 340,4 -4,4\"/>\n",
       "<!-- b0 -->\n",
       "<g id=\"node1\" class=\"node\">\n",
       "<title>b0</title>\n",
       "<polygon fill=\"none\" stroke=\"black\" points=\"224.5,-123 111.5,-123 111.5,-87 224.5,-87 224.5,-123\"/>\n",
       "<text text-anchor=\"start\" x=\"126.5\" y=\"-106.8\" font-family=\"Times,serif\" font-size=\"14.00\">BiQubitsMixer</text>\n",
       "<text text-anchor=\"start\" x=\"119.5\" y=\"-96\" font-family=\"monospace\" font-size=\"10.00\">is_adjoint=False</text>\n",
       "</g>\n",
       "<!-- b1 -->\n",
       "<g id=\"node2\" class=\"node\">\n",
       "<title>b1</title>\n",
       "<polygon fill=\"none\" stroke=\"black\" points=\"54,-36 0,-36 0,0 54,0 54,-36\"/>\n",
       "<text text-anchor=\"start\" x=\"9\" y=\"-14.3\" font-family=\"Times,serif\" font-size=\"14.00\">XGate</text>\n",
       "</g>\n",
       "<!-- b0&#45;&gt;b1 -->\n",
       "<g id=\"edge1\" class=\"edge\">\n",
       "<title>b0-&gt;b1</title>\n",
       "<path fill=\"none\" stroke=\"black\" d=\"M139.47,-86.8C117.35,-73.46 86.56,-54.91 62.79,-40.58\"/>\n",
       "<polygon fill=\"black\" stroke=\"black\" points=\"64.43,-37.48 54.06,-35.31 60.81,-43.47 64.43,-37.48\"/>\n",
       "<text text-anchor=\"middle\" x=\"109.5\" y=\"-57.8\" font-family=\"Times,serif\" font-size=\"14.00\">1</text>\n",
       "</g>\n",
       "<!-- b2 -->\n",
       "<g id=\"node3\" class=\"node\">\n",
       "<title>b2</title>\n",
       "<polygon fill=\"none\" stroke=\"black\" points=\"263.5,-36 72.5,-36 72.5,0 263.5,0 263.5,-36\"/>\n",
       "<text text-anchor=\"start\" x=\"156\" y=\"-19.8\" font-family=\"Times,serif\" font-size=\"14.00\">And</text>\n",
       "<text text-anchor=\"start\" x=\"80.5\" y=\"-9\" font-family=\"monospace\" font-size=\"10.00\">cv1=1, cv2=1, uncompute=False</text>\n",
       "</g>\n",
       "<!-- b0&#45;&gt;b2 -->\n",
       "<g id=\"edge2\" class=\"edge\">\n",
       "<title>b0-&gt;b2</title>\n",
       "<path fill=\"none\" stroke=\"black\" d=\"M168,-86.8C168,-75.16 168,-59.55 168,-46.24\"/>\n",
       "<polygon fill=\"black\" stroke=\"black\" points=\"171.5,-46.18 168,-36.18 164.5,-46.18 171.5,-46.18\"/>\n",
       "<text text-anchor=\"middle\" x=\"171.5\" y=\"-57.8\" font-family=\"Times,serif\" font-size=\"14.00\">2</text>\n",
       "</g>\n",
       "<!-- b3 -->\n",
       "<g id=\"node4\" class=\"node\">\n",
       "<title>b3</title>\n",
       "<polygon fill=\"none\" stroke=\"black\" points=\"336,-36 282,-36 282,0 336,0 336,-36\"/>\n",
       "<text text-anchor=\"start\" x=\"290.5\" y=\"-14.3\" font-family=\"Times,serif\" font-size=\"14.00\">CNOT</text>\n",
       "</g>\n",
       "<!-- b0&#45;&gt;b3 -->\n",
       "<g id=\"edge3\" class=\"edge\">\n",
       "<title>b0-&gt;b3</title>\n",
       "<path fill=\"none\" stroke=\"black\" d=\"M196.53,-86.8C218.65,-73.46 249.44,-54.91 273.21,-40.58\"/>\n",
       "<polygon fill=\"black\" stroke=\"black\" points=\"275.19,-43.47 281.94,-35.31 271.57,-37.48 275.19,-43.47\"/>\n",
       "<text text-anchor=\"middle\" x=\"250.5\" y=\"-57.8\" font-family=\"Times,serif\" font-size=\"14.00\">9</text>\n",
       "</g>\n",
       "</g>\n",
       "</svg>"
      ],
      "text/plain": [
       "<IPython.core.display.SVG object>"
      ]
     },
     "metadata": {},
     "output_type": "display_data"
    },
    {
     "data": {
      "text/markdown": [
       "#### Counts totals:\n",
       " - `And`: 2\n",
       " - `CNOT`: 9\n",
       " - `XGate`: 1"
      ],
      "text/plain": [
       "<IPython.core.display.Markdown object>"
      ]
     },
     "metadata": {},
     "output_type": "display_data"
    }
   ],
   "source": [
    "from qualtran.resource_counting.generalizers import ignore_split_join\n",
    "bi_qubits_mixer_g, bi_qubits_mixer_sigma = bi_qubits_mixer.call_graph(max_depth=1, generalizer=ignore_split_join)\n",
    "show_call_graph(bi_qubits_mixer_g)\n",
    "show_counts_sigma(bi_qubits_mixer_sigma)"
   ]
  },
  {
   "cell_type": "markdown",
   "id": "19ccfb41",
   "metadata": {
    "cq.autogen": "SingleQubitCompare.bloq_doc.md"
   },
   "source": [
    "## `SingleQubitCompare`\n",
    "Applies U|a>|b>|0>|0> = |a> |a=b> |(a<b)> |(a>b)>\n",
    "\n",
    "#### References\n",
    " - Supplementary Materials: Improved Techniques for Preparing Eigenstates of Fermionic Hamiltonians. Figure 3. https://static-content.springer.com/esm/art%3A10.1038%2Fs41534-018-0071-5/MediaObjects/41534_2018_71_MOESM1_ESM.pdf\n"
   ]
  },
  {
   "cell_type": "code",
   "execution_count": 23,
   "id": "ae8f37f5",
   "metadata": {
    "cq.autogen": "SingleQubitCompare.bloq_doc.py"
   },
   "outputs": [],
   "source": [
    "from qualtran.bloqs.arithmetic import SingleQubitCompare"
   ]
  },
  {
   "cell_type": "markdown",
   "id": "61ef1472",
   "metadata": {
    "cq.autogen": "SingleQubitCompare.example_instances.md"
   },
   "source": [
    "### Example Instances"
   ]
  },
  {
   "cell_type": "code",
   "execution_count": 24,
   "id": "534c5c22",
   "metadata": {
    "cq.autogen": "SingleQubitCompare.sq_cmp"
   },
   "outputs": [],
   "source": [
    "sq_cmp = SingleQubitCompare()"
   ]
  },
  {
   "cell_type": "markdown",
   "id": "2843d328",
   "metadata": {
    "cq.autogen": "SingleQubitCompare.graphical_signature.md"
   },
   "source": [
    "#### Graphical Signature"
   ]
  },
  {
   "cell_type": "code",
   "execution_count": 25,
   "id": "d5dcf72e",
   "metadata": {
    "cq.autogen": "SingleQubitCompare.graphical_signature.py"
   },
   "outputs": [
    {
     "data": {
      "application/vnd.jupyter.widget-view+json": {
       "model_id": "90d404a3bd6d4b2481bbc81c9b713182",
       "version_major": 2,
       "version_minor": 0
      },
      "text/plain": [
       "HBox(children=(Output(outputs=({'output_type': 'display_data', 'data': {'text/plain': '<IPython.core.display.M…"
      ]
     },
     "metadata": {},
     "output_type": "display_data"
    }
   ],
   "source": [
    "from qualtran.drawing import show_bloqs\n",
    "show_bloqs([sq_cmp],\n",
    "           ['`sq_cmp`'])"
   ]
  },
  {
   "cell_type": "markdown",
   "id": "ee1cc222",
   "metadata": {
    "cq.autogen": "SingleQubitCompare.call_graph.md"
   },
   "source": [
    "### Call Graph"
   ]
  },
  {
   "cell_type": "code",
   "execution_count": 26,
   "id": "c96f20fc",
   "metadata": {
    "cq.autogen": "SingleQubitCompare.call_graph.py"
   },
   "outputs": [
    {
     "data": {
      "image/svg+xml": [
       "<svg xmlns=\"http://www.w3.org/2000/svg\" xmlns:xlink=\"http://www.w3.org/1999/xlink\" width=\"344pt\" height=\"131pt\" viewBox=\"0.00 0.00 344.00 131.00\">\n",
       "<g id=\"graph0\" class=\"graph\" transform=\"scale(1 1) rotate(0) translate(4 127)\">\n",
       "<title>counts</title>\n",
       "<polygon fill=\"white\" stroke=\"transparent\" points=\"-4,4 -4,-127 340,-127 340,4 -4,4\"/>\n",
       "<!-- b0 -->\n",
       "<g id=\"node1\" class=\"node\">\n",
       "<title>b0</title>\n",
       "<polygon fill=\"none\" stroke=\"black\" points=\"234,-123 102,-123 102,-87 234,-87 234,-123\"/>\n",
       "<text text-anchor=\"start\" x=\"110\" y=\"-106.8\" font-family=\"Times,serif\" font-size=\"14.00\">SingleQubitCompare</text>\n",
       "<text text-anchor=\"start\" x=\"119.5\" y=\"-96\" font-family=\"monospace\" font-size=\"10.00\">is_adjoint=False</text>\n",
       "</g>\n",
       "<!-- b1 -->\n",
       "<g id=\"node2\" class=\"node\">\n",
       "<title>b1</title>\n",
       "<polygon fill=\"none\" stroke=\"black\" points=\"54,-36 0,-36 0,0 54,0 54,-36\"/>\n",
       "<text text-anchor=\"start\" x=\"9\" y=\"-14.3\" font-family=\"Times,serif\" font-size=\"14.00\">XGate</text>\n",
       "</g>\n",
       "<!-- b0&#45;&gt;b1 -->\n",
       "<g id=\"edge1\" class=\"edge\">\n",
       "<title>b0-&gt;b1</title>\n",
       "<path fill=\"none\" stroke=\"black\" d=\"M139.47,-86.8C117.35,-73.46 86.56,-54.91 62.79,-40.58\"/>\n",
       "<polygon fill=\"black\" stroke=\"black\" points=\"64.43,-37.48 54.06,-35.31 60.81,-43.47 64.43,-37.48\"/>\n",
       "<text text-anchor=\"middle\" x=\"109.5\" y=\"-57.8\" font-family=\"Times,serif\" font-size=\"14.00\">1</text>\n",
       "</g>\n",
       "<!-- b2 -->\n",
       "<g id=\"node3\" class=\"node\">\n",
       "<title>b2</title>\n",
       "<polygon fill=\"none\" stroke=\"black\" points=\"263.5,-36 72.5,-36 72.5,0 263.5,0 263.5,-36\"/>\n",
       "<text text-anchor=\"start\" x=\"156\" y=\"-19.8\" font-family=\"Times,serif\" font-size=\"14.00\">And</text>\n",
       "<text text-anchor=\"start\" x=\"80.5\" y=\"-9\" font-family=\"monospace\" font-size=\"10.00\">cv1=1, cv2=1, uncompute=False</text>\n",
       "</g>\n",
       "<!-- b0&#45;&gt;b2 -->\n",
       "<g id=\"edge2\" class=\"edge\">\n",
       "<title>b0-&gt;b2</title>\n",
       "<path fill=\"none\" stroke=\"black\" d=\"M168,-86.8C168,-75.16 168,-59.55 168,-46.24\"/>\n",
       "<polygon fill=\"black\" stroke=\"black\" points=\"171.5,-46.18 168,-36.18 164.5,-46.18 171.5,-46.18\"/>\n",
       "<text text-anchor=\"middle\" x=\"171.5\" y=\"-57.8\" font-family=\"Times,serif\" font-size=\"14.00\">1</text>\n",
       "</g>\n",
       "<!-- b3 -->\n",
       "<g id=\"node4\" class=\"node\">\n",
       "<title>b3</title>\n",
       "<polygon fill=\"none\" stroke=\"black\" points=\"336,-36 282,-36 282,0 336,0 336,-36\"/>\n",
       "<text text-anchor=\"start\" x=\"290.5\" y=\"-14.3\" font-family=\"Times,serif\" font-size=\"14.00\">CNOT</text>\n",
       "</g>\n",
       "<!-- b0&#45;&gt;b3 -->\n",
       "<g id=\"edge3\" class=\"edge\">\n",
       "<title>b0-&gt;b3</title>\n",
       "<path fill=\"none\" stroke=\"black\" d=\"M196.53,-86.8C218.65,-73.46 249.44,-54.91 273.21,-40.58\"/>\n",
       "<polygon fill=\"black\" stroke=\"black\" points=\"275.19,-43.47 281.94,-35.31 271.57,-37.48 275.19,-43.47\"/>\n",
       "<text text-anchor=\"middle\" x=\"250.5\" y=\"-57.8\" font-family=\"Times,serif\" font-size=\"14.00\">4</text>\n",
       "</g>\n",
       "</g>\n",
       "</svg>"
      ],
      "text/plain": [
       "<IPython.core.display.SVG object>"
      ]
     },
     "metadata": {},
     "output_type": "display_data"
    },
    {
     "data": {
      "text/markdown": [
       "#### Counts totals:\n",
       " - `And`: 1\n",
       " - `CNOT`: 4\n",
       " - `XGate`: 1"
      ],
      "text/plain": [
       "<IPython.core.display.Markdown object>"
      ]
     },
     "metadata": {},
     "output_type": "display_data"
    }
   ],
   "source": [
    "from qualtran.resource_counting.generalizers import ignore_split_join\n",
    "sq_cmp_g, sq_cmp_sigma = sq_cmp.call_graph(max_depth=1, generalizer=ignore_split_join)\n",
    "show_call_graph(sq_cmp_g)\n",
    "show_counts_sigma(sq_cmp_sigma)"
   ]
  },
  {
   "cell_type": "markdown",
   "id": "50d83fdb",
   "metadata": {
    "cq.autogen": "LessThanEqual.bloq_doc.md"
   },
   "source": [
    "## `LessThanEqual`\n",
    "Applies U|x>|y>|z> = |x>|y> |z ^ (x <= y)>\n",
    "\n",
    "Decomposes the gate in a T-complexity optimal way.\n",
    "\n",
    "The construction can be broken in 4 parts:\n",
    " 1. In case of differing bitsizes then a multicontrol And Gate\n",
    "    (Section III.A. of the first reference) is used to check whether\n",
    "    the extra prefix is equal to zero and the result is stored in the `prefix_equality` qubit.\n",
    " 2. The tree structure (Fig. 2) of the second reference.\n",
    "    followed by a `SingleQubitCompare` to compute the result of comparison of\n",
    "    the suffixes of equal length. The result is stored in `less_than` and `greater_than` and\n",
    "    equality in `qubits[-2]`\n",
    " 3. The results from the previous two steps are combined to update the target qubit.\n",
    " 4. The adjoint of the previous operations is added to restore the input qubits\n",
    "    to their original state and clean the ancilla qubits.\n",
    "\n",
    "When both registers are of the same size the T complexity is\n",
    "8n - 4 as in the second reference.\n",
    "\n",
    "When the registers differ in size and `n` is the size of the smaller one and\n",
    "`d` is the difference in size, the T complexity is the sum of the tree\n",
    "decomposition as before giving 8n + O(1); and the T complexity of an `And` gate\n",
    "over `d` registers giving 4d + O(1). This totals 8n + 4d + O(1).\n",
    "\n",
    "#### References\n",
    " - [Encoding Electronic Spectra in Quantum Circuits with Linear T Complexity](https://arxiv.org/abs/1805.03662). \n",
    " - Supplementary Materials: Improved Techniques for Preparing Eigenstates of Fermionic Hamiltonians. https://static-content.springer.com/esm/art%3A10.1038%2Fs41534-018-0071-5/MediaObjects/41534_2018_71_MOESM1_ESM.pdf\n"
   ]
  },
  {
   "cell_type": "code",
   "execution_count": 27,
   "id": "31d1717c",
   "metadata": {
    "cq.autogen": "LessThanEqual.bloq_doc.py"
   },
   "outputs": [],
   "source": [
    "from qualtran.bloqs.arithmetic import LessThanEqual"
   ]
  },
  {
   "cell_type": "markdown",
   "id": "bb520292",
   "metadata": {
    "cq.autogen": "LessThanEqual.example_instances.md"
   },
   "source": [
    "### Example Instances"
   ]
  },
  {
   "cell_type": "code",
   "execution_count": 28,
   "id": "8c60d014",
   "metadata": {
    "cq.autogen": "LessThanEqual.leq_symb"
   },
   "outputs": [],
   "source": [
    "n1, n2 = sympy.symbols('n1 n2')\n",
    "leq_symb = LessThanEqual(x_bitsize=n1, y_bitsize=n2)"
   ]
  },
  {
   "cell_type": "code",
   "execution_count": 29,
   "id": "545b145c",
   "metadata": {
    "cq.autogen": "LessThanEqual.leq"
   },
   "outputs": [],
   "source": [
    "leq = LessThanEqual(x_bitsize=4, y_bitsize=8)"
   ]
  },
  {
   "cell_type": "markdown",
   "id": "40db2f9f",
   "metadata": {
    "cq.autogen": "LessThanEqual.graphical_signature.md"
   },
   "source": [
    "#### Graphical Signature"
   ]
  },
  {
   "cell_type": "code",
   "execution_count": 30,
   "id": "bc035e97",
   "metadata": {
    "cq.autogen": "LessThanEqual.graphical_signature.py"
   },
   "outputs": [
    {
     "data": {
      "application/vnd.jupyter.widget-view+json": {
       "model_id": "b36cdfbbaf6746788b1cbd8a0cb11131",
       "version_major": 2,
       "version_minor": 0
      },
      "text/plain": [
       "HBox(children=(Output(outputs=({'output_type': 'display_data', 'data': {'text/plain': '<IPython.core.display.M…"
      ]
     },
     "metadata": {},
     "output_type": "display_data"
    }
   ],
   "source": [
    "from qualtran.drawing import show_bloqs\n",
    "show_bloqs([leq, leq_symb],\n",
    "           ['`leq`', '`leq_symb`'])"
   ]
  },
  {
   "cell_type": "markdown",
   "id": "1fe92bed",
   "metadata": {
    "cq.autogen": "LessThanEqual.call_graph.md"
   },
   "source": [
    "### Call Graph"
   ]
  },
  {
   "cell_type": "code",
   "execution_count": 31,
   "id": "dcd53c93",
   "metadata": {
    "cq.autogen": "LessThanEqual.call_graph.py"
   },
   "outputs": [
    {
     "data": {
      "image/svg+xml": [
       "<svg xmlns=\"http://www.w3.org/2000/svg\" xmlns:xlink=\"http://www.w3.org/1999/xlink\" width=\"1391pt\" height=\"131pt\" viewBox=\"0.00 0.00 1390.50 131.00\">\n",
       "<g id=\"graph0\" class=\"graph\" transform=\"scale(1 1) rotate(0) translate(4 127)\">\n",
       "<title>counts</title>\n",
       "<polygon fill=\"white\" stroke=\"transparent\" points=\"-4,4 -4,-127 1386.5,-127 1386.5,4 -4,4\"/>\n",
       "<!-- b0 -->\n",
       "<g id=\"node1\" class=\"node\">\n",
       "<title>b0</title>\n",
       "<polygon fill=\"none\" stroke=\"black\" points=\"851,-123 690,-123 690,-87 851,-87 851,-123\"/>\n",
       "<text text-anchor=\"start\" x=\"728\" y=\"-106.8\" font-family=\"Times,serif\" font-size=\"14.00\">LessThanEqual</text>\n",
       "<text text-anchor=\"start\" x=\"698\" y=\"-96\" font-family=\"monospace\" font-size=\"10.00\">x_bitsize=4, y_bitsize=8</text>\n",
       "</g>\n",
       "<!-- b1 -->\n",
       "<g id=\"node2\" class=\"node\">\n",
       "<title>b1</title>\n",
       "<polygon fill=\"none\" stroke=\"black\" points=\"137,-36 0,-36 0,0 137,0 137,-36\"/>\n",
       "<text text-anchor=\"start\" x=\"38\" y=\"-19.8\" font-family=\"Times,serif\" font-size=\"14.00\">MultiAnd†</text>\n",
       "<text text-anchor=\"start\" x=\"8\" y=\"-9\" font-family=\"monospace\" font-size=\"10.00\">subbloq=MultiAnd ...</text>\n",
       "</g>\n",
       "<!-- b0&#45;&gt;b1 -->\n",
       "<g id=\"edge1\" class=\"edge\">\n",
       "<title>b0-&gt;b1</title>\n",
       "<path fill=\"none\" stroke=\"black\" d=\"M689.55,-98.94C571.87,-90.75 346.68,-71.96 147.37,-36.27\"/>\n",
       "<polygon fill=\"black\" stroke=\"black\" points=\"147.76,-32.79 137.3,-34.45 146.51,-39.68 147.76,-32.79\"/>\n",
       "<text text-anchor=\"middle\" x=\"372\" y=\"-57.8\" font-family=\"Times,serif\" font-size=\"14.00\">1</text>\n",
       "</g>\n",
       "<!-- b2 -->\n",
       "<g id=\"node3\" class=\"node\">\n",
       "<title>b2</title>\n",
       "<polygon fill=\"none\" stroke=\"black\" points=\"268,-36 155,-36 155,0 268,0 268,-36\"/>\n",
       "<text text-anchor=\"start\" x=\"184\" y=\"-19.8\" font-family=\"Times,serif\" font-size=\"14.00\">MultiAnd</text>\n",
       "<text text-anchor=\"start\" x=\"163\" y=\"-9\" font-family=\"monospace\" font-size=\"10.00\">cvs=(0, 0, 0, 0)</text>\n",
       "</g>\n",
       "<!-- b0&#45;&gt;b2 -->\n",
       "<g id=\"edge2\" class=\"edge\">\n",
       "<title>b0-&gt;b2</title>\n",
       "<path fill=\"none\" stroke=\"black\" d=\"M689.58,-95.85C593.44,-85.5 428.14,-65.58 278,-36.18\"/>\n",
       "<polygon fill=\"black\" stroke=\"black\" points=\"278.62,-32.74 268.13,-34.23 277.26,-39.61 278.62,-32.74\"/>\n",
       "<text text-anchor=\"middle\" x=\"470\" y=\"-57.8\" font-family=\"Times,serif\" font-size=\"14.00\">1</text>\n",
       "</g>\n",
       "<!-- b3 -->\n",
       "<g id=\"node4\" class=\"node\">\n",
       "<title>b3</title>\n",
       "<polygon fill=\"none\" stroke=\"black\" points=\"471,-36 286,-36 286,0 471,0 471,-36\"/>\n",
       "<text text-anchor=\"start\" x=\"363\" y=\"-19.8\" font-family=\"Times,serif\" font-size=\"14.00\">And†</text>\n",
       "<text text-anchor=\"start\" x=\"294\" y=\"-9\" font-family=\"monospace\" font-size=\"10.00\">cv1=1, cv2=0, uncompute=True</text>\n",
       "</g>\n",
       "<!-- b0&#45;&gt;b3 -->\n",
       "<g id=\"edge3\" class=\"edge\">\n",
       "<title>b0-&gt;b3</title>\n",
       "<path fill=\"none\" stroke=\"black\" d=\"M691.64,-86.9C626.65,-72.81 534.51,-52.83 467,-38.19\"/>\n",
       "<polygon fill=\"black\" stroke=\"black\" points=\"467.74,-34.77 457.23,-36.07 466.26,-41.61 467.74,-34.77\"/>\n",
       "<text text-anchor=\"middle\" x=\"602\" y=\"-57.8\" font-family=\"Times,serif\" font-size=\"14.00\">1</text>\n",
       "</g>\n",
       "<!-- b4 -->\n",
       "<g id=\"node5\" class=\"node\">\n",
       "<title>b4</title>\n",
       "<polygon fill=\"none\" stroke=\"black\" points=\"596,-36 489,-36 489,0 596,0 596,-36\"/>\n",
       "<text text-anchor=\"start\" x=\"501\" y=\"-19.8\" font-family=\"Times,serif\" font-size=\"14.00\">BiQubitsMixer</text>\n",
       "<text text-anchor=\"start\" x=\"497\" y=\"-9\" font-family=\"monospace\" font-size=\"10.00\">is_adjoint=True</text>\n",
       "</g>\n",
       "<!-- b0&#45;&gt;b4 -->\n",
       "<g id=\"edge4\" class=\"edge\">\n",
       "<title>b0-&gt;b4</title>\n",
       "<path fill=\"none\" stroke=\"black\" d=\"M724.64,-86.9C688.07,-73.27 636.74,-54.13 597.88,-39.65\"/>\n",
       "<polygon fill=\"black\" stroke=\"black\" points=\"598.88,-36.29 588.29,-36.07 596.44,-42.84 598.88,-36.29\"/>\n",
       "<text text-anchor=\"middle\" x=\"674\" y=\"-57.8\" font-family=\"Times,serif\" font-size=\"14.00\">3</text>\n",
       "</g>\n",
       "<!-- b5 -->\n",
       "<g id=\"node6\" class=\"node\">\n",
       "<title>b5</title>\n",
       "<polygon fill=\"none\" stroke=\"black\" points=\"746.5,-36 614.5,-36 614.5,0 746.5,0 746.5,-36\"/>\n",
       "<text text-anchor=\"start\" x=\"622.5\" y=\"-19.8\" font-family=\"Times,serif\" font-size=\"14.00\">SingleQubitCompare</text>\n",
       "<text text-anchor=\"start\" x=\"635\" y=\"-9\" font-family=\"monospace\" font-size=\"10.00\">is_adjoint=True</text>\n",
       "</g>\n",
       "<!-- b0&#45;&gt;b5 -->\n",
       "<g id=\"edge5\" class=\"edge\">\n",
       "<title>b0-&gt;b5</title>\n",
       "<path fill=\"none\" stroke=\"black\" d=\"M752.29,-86.8C738.99,-74.24 720.79,-57.05 706.04,-43.12\"/>\n",
       "<polygon fill=\"black\" stroke=\"black\" points=\"708.36,-40.5 698.69,-36.18 703.55,-45.59 708.36,-40.5\"/>\n",
       "<text text-anchor=\"middle\" x=\"735\" y=\"-57.8\" font-family=\"Times,serif\" font-size=\"14.00\">1</text>\n",
       "</g>\n",
       "<!-- b6 -->\n",
       "<g id=\"node7\" class=\"node\">\n",
       "<title>b6</title>\n",
       "<polygon fill=\"none\" stroke=\"black\" points=\"956,-36 765,-36 765,0 956,0 956,-36\"/>\n",
       "<text text-anchor=\"start\" x=\"848.5\" y=\"-19.8\" font-family=\"Times,serif\" font-size=\"14.00\">And</text>\n",
       "<text text-anchor=\"start\" x=\"773\" y=\"-9\" font-family=\"monospace\" font-size=\"10.00\">cv1=1, cv2=0, uncompute=False</text>\n",
       "</g>\n",
       "<!-- b0&#45;&gt;b6 -->\n",
       "<g id=\"edge6\" class=\"edge\">\n",
       "<title>b0-&gt;b6</title>\n",
       "<path fill=\"none\" stroke=\"black\" d=\"M788.71,-86.8C802.01,-74.24 820.21,-57.05 834.96,-43.12\"/>\n",
       "<polygon fill=\"black\" stroke=\"black\" points=\"837.45,-45.59 842.31,-36.18 832.64,-40.5 837.45,-45.59\"/>\n",
       "<text text-anchor=\"middle\" x=\"825\" y=\"-57.8\" font-family=\"Times,serif\" font-size=\"14.00\">1</text>\n",
       "</g>\n",
       "<!-- b7 -->\n",
       "<g id=\"node8\" class=\"node\">\n",
       "<title>b7</title>\n",
       "<polygon fill=\"none\" stroke=\"black\" points=\"1028.5,-36 974.5,-36 974.5,0 1028.5,0 1028.5,-36\"/>\n",
       "<text text-anchor=\"start\" x=\"983.5\" y=\"-14.3\" font-family=\"Times,serif\" font-size=\"14.00\">XGate</text>\n",
       "</g>\n",
       "<!-- b0&#45;&gt;b7 -->\n",
       "<g id=\"edge7\" class=\"edge\">\n",
       "<title>b0-&gt;b7</title>\n",
       "<path fill=\"none\" stroke=\"black\" d=\"M823.28,-86.99C862.58,-73.96 917.34,-55.05 964.5,-36 964.6,-35.96 964.7,-35.92 964.8,-35.88\"/>\n",
       "<polygon fill=\"black\" stroke=\"black\" points=\"966.31,-39.04 974.15,-31.91 963.57,-32.6 966.31,-39.04\"/>\n",
       "<text text-anchor=\"middle\" x=\"921\" y=\"-57.8\" font-family=\"Times,serif\" font-size=\"14.00\">1</text>\n",
       "</g>\n",
       "<!-- b8 -->\n",
       "<g id=\"node9\" class=\"node\">\n",
       "<title>b8</title>\n",
       "<polygon fill=\"none\" stroke=\"black\" points=\"1178.5,-36 1046.5,-36 1046.5,0 1178.5,0 1178.5,-36\"/>\n",
       "<text text-anchor=\"start\" x=\"1054.5\" y=\"-19.8\" font-family=\"Times,serif\" font-size=\"14.00\">SingleQubitCompare</text>\n",
       "<text text-anchor=\"start\" x=\"1064\" y=\"-9\" font-family=\"monospace\" font-size=\"10.00\">is_adjoint=False</text>\n",
       "</g>\n",
       "<!-- b0&#45;&gt;b8 -->\n",
       "<g id=\"edge8\" class=\"edge\">\n",
       "<title>b0-&gt;b8</title>\n",
       "<path fill=\"none\" stroke=\"black\" d=\"M851.05,-86.93C875.94,-81.45 903.4,-75.19 928.5,-69 966.38,-59.66 1008.39,-48.32 1042.69,-38.81\"/>\n",
       "<polygon fill=\"black\" stroke=\"black\" points=\"1043.91,-42.1 1052.61,-36.05 1042.03,-35.36 1043.91,-42.1\"/>\n",
       "<text text-anchor=\"middle\" x=\"988\" y=\"-57.8\" font-family=\"Times,serif\" font-size=\"14.00\">1</text>\n",
       "</g>\n",
       "<!-- b9 -->\n",
       "<g id=\"node10\" class=\"node\">\n",
       "<title>b9</title>\n",
       "<polygon fill=\"none\" stroke=\"black\" points=\"1310,-36 1197,-36 1197,0 1310,0 1310,-36\"/>\n",
       "<text text-anchor=\"start\" x=\"1212\" y=\"-19.8\" font-family=\"Times,serif\" font-size=\"14.00\">BiQubitsMixer</text>\n",
       "<text text-anchor=\"start\" x=\"1205\" y=\"-9\" font-family=\"monospace\" font-size=\"10.00\">is_adjoint=False</text>\n",
       "</g>\n",
       "<!-- b0&#45;&gt;b9 -->\n",
       "<g id=\"edge9\" class=\"edge\">\n",
       "<title>b0-&gt;b9</title>\n",
       "<path fill=\"none\" stroke=\"black\" d=\"M851.27,-93.25C933.38,-81.77 1064.36,-61.95 1186.76,-36.06\"/>\n",
       "<polygon fill=\"black\" stroke=\"black\" points=\"1187.64,-39.46 1196.69,-33.95 1186.18,-32.61 1187.64,-39.46\"/>\n",
       "<text text-anchor=\"middle\" x=\"1089\" y=\"-57.8\" font-family=\"Times,serif\" font-size=\"14.00\">3</text>\n",
       "</g>\n",
       "<!-- b10 -->\n",
       "<g id=\"node11\" class=\"node\">\n",
       "<title>b10</title>\n",
       "<polygon fill=\"none\" stroke=\"black\" points=\"1382.5,-36 1328.5,-36 1328.5,0 1382.5,0 1382.5,-36\"/>\n",
       "<text text-anchor=\"start\" x=\"1337\" y=\"-14.3\" font-family=\"Times,serif\" font-size=\"14.00\">CNOT</text>\n",
       "</g>\n",
       "<!-- b0&#45;&gt;b10 -->\n",
       "<g id=\"edge10\" class=\"edge\">\n",
       "<title>b0-&gt;b10</title>\n",
       "<path fill=\"none\" stroke=\"black\" d=\"M851.14,-102.29C959.53,-98.13 1157.23,-83.97 1318.5,-36 1318.6,-35.97 1318.7,-35.94 1318.81,-35.91\"/>\n",
       "<polygon fill=\"black\" stroke=\"black\" points=\"1320.1,-39.16 1328.36,-32.52 1317.76,-32.57 1320.1,-39.16\"/>\n",
       "<text text-anchor=\"middle\" x=\"1250\" y=\"-57.8\" font-family=\"Times,serif\" font-size=\"14.00\">2</text>\n",
       "</g>\n",
       "</g>\n",
       "</svg>"
      ],
      "text/plain": [
       "<IPython.core.display.SVG object>"
      ]
     },
     "metadata": {},
     "output_type": "display_data"
    },
    {
     "data": {
      "text/markdown": [
       "#### Counts totals:\n",
       " - `Adjoint(subbloq=MultiAnd(n=4))`: 1\n",
       " - `And`: 1\n",
       " - `And†`: 1\n",
       " - `BiQubitsMixer`: 3\n",
       " - `BiQubitsMixer`: 3\n",
       " - `CNOT`: 2\n",
       " - `MultiAnd(n=4)`: 1\n",
       " - `SingleQubitCompare`: 1\n",
       " - `SingleQubitCompare`: 1\n",
       " - `XGate`: 1"
      ],
      "text/plain": [
       "<IPython.core.display.Markdown object>"
      ]
     },
     "metadata": {},
     "output_type": "display_data"
    }
   ],
   "source": [
    "from qualtran.resource_counting.generalizers import ignore_split_join\n",
    "leq_g, leq_sigma = leq.call_graph(max_depth=1, generalizer=ignore_split_join)\n",
    "show_call_graph(leq_g)\n",
    "show_counts_sigma(leq_sigma)"
   ]
  },
  {
   "cell_type": "markdown",
   "id": "27543be2",
   "metadata": {
    "cq.autogen": "CLinearDepthGreaterThan.bloq_doc.md"
   },
   "source": [
    "## `CLinearDepthGreaterThan`\n",
    "Controlled greater than between two integers.\n",
    "\n",
    "Implements $\\ket{c}\\ket{a}\\ket{b}\\ket{t} \\xrightarrow[]{} \\ket{c}\\ket{a}\\ket{b}\\ket{t ⨁ ((a > b)c)}>$\n",
    "using $n+2$ Toffoli gates.\n",
    "\n",
    "Note: the true cost is $n+1$ but an extra Toffoli comes from OutOfPlaceAdder which operates\n",
    "on $n+1$ qubits rather than $n$. Changing the definition of OutOfPlaceAdder will remove this\n",
    "extra Toffoli.\n",
    "\n",
    "This comparator relies on the fact that ~(~b + a) = b - a. If a > b, then b - a < 0. We\n",
    "implement it by flipping all the bits in b, computing the first half of the addition circuit,\n",
    "copying out the carry, and uncomputing the addition circuit.\n",
    "\n",
    "#### Parameters\n",
    " - `dtype`: type of the integer registers.\n",
    " - `cv`: ctrl value at which the bloq is active. \n",
    "\n",
    "#### Registers\n",
    " - `a`: dtype input registers.\n",
    " - `b`: dtype input registers.\n",
    " - `target`: A single bit output register to store the result of a > b. \n",
    "\n",
    "#### References\n",
    " - [Halving the cost of quantum addition](https://arxiv.org/abs/1709.06648). \n",
    " - [Improved quantum circuits for elliptic curve discrete logarithms](https://arxiv.org/abs/2306.08585).     page 7.\n"
   ]
  },
  {
   "cell_type": "code",
   "execution_count": 32,
   "id": "d4533e31",
   "metadata": {
    "cq.autogen": "CLinearDepthGreaterThan.bloq_doc.py"
   },
   "outputs": [],
   "source": [
    "from qualtran.bloqs.arithmetic import CLinearDepthGreaterThan"
   ]
  },
  {
   "cell_type": "markdown",
   "id": "9dcfa76a",
   "metadata": {
    "cq.autogen": "CLinearDepthGreaterThan.example_instances.md"
   },
   "source": [
    "### Example Instances"
   ]
  },
  {
   "cell_type": "code",
   "execution_count": 33,
   "id": "6b7ec12f",
   "metadata": {
    "cq.autogen": "CLinearDepthGreaterThan.clineardepthgreaterthan_example"
   },
   "outputs": [],
   "source": [
    "clineardepthgreaterthan_example = CLinearDepthGreaterThan(QInt(5))"
   ]
  },
  {
   "cell_type": "markdown",
   "id": "70bc70c6",
   "metadata": {
    "cq.autogen": "CLinearDepthGreaterThan.graphical_signature.md"
   },
   "source": [
    "#### Graphical Signature"
   ]
  },
  {
   "cell_type": "code",
   "execution_count": 34,
   "id": "b6bf0dce",
   "metadata": {
    "cq.autogen": "CLinearDepthGreaterThan.graphical_signature.py"
   },
   "outputs": [
    {
     "data": {
      "application/vnd.jupyter.widget-view+json": {
       "model_id": "deaf400ddb30443e802d764d2ec1b4de",
       "version_major": 2,
       "version_minor": 0
      },
      "text/plain": [
       "HBox(children=(Output(outputs=({'output_type': 'display_data', 'data': {'text/plain': '<IPython.core.display.M…"
      ]
     },
     "metadata": {},
     "output_type": "display_data"
    }
   ],
   "source": [
    "from qualtran.drawing import show_bloqs\n",
    "show_bloqs([clineardepthgreaterthan_example],\n",
    "           ['`clineardepthgreaterthan_example`'])"
   ]
  },
  {
   "cell_type": "markdown",
   "id": "9a2d7925",
   "metadata": {
    "cq.autogen": "CLinearDepthGreaterThan.call_graph.md"
   },
   "source": [
    "### Call Graph"
   ]
  },
  {
   "cell_type": "code",
   "execution_count": 35,
   "id": "30e9a77b",
   "metadata": {
    "cq.autogen": "CLinearDepthGreaterThan.call_graph.py"
   },
   "outputs": [
    {
     "data": {
      "image/svg+xml": [
       "<svg xmlns=\"http://www.w3.org/2000/svg\" xmlns:xlink=\"http://www.w3.org/1999/xlink\" width=\"1501pt\" height=\"131pt\" viewBox=\"0.00 0.00 1501.00 131.00\">\n",
       "<g id=\"graph0\" class=\"graph\" transform=\"scale(1 1) rotate(0) translate(4 127)\">\n",
       "<title>counts</title>\n",
       "<polygon fill=\"white\" stroke=\"transparent\" points=\"-4,4 -4,-127 1497,-127 1497,4 -4,4\"/>\n",
       "<!-- b0 -->\n",
       "<g id=\"node1\" class=\"node\">\n",
       "<title>b0</title>\n",
       "<polygon fill=\"none\" stroke=\"black\" points=\"782.5,-123 620.5,-123 620.5,-87 782.5,-87 782.5,-123\"/>\n",
       "<text text-anchor=\"start\" x=\"628.5\" y=\"-106.8\" font-family=\"Times,serif\" font-size=\"14.00\">CLinearDepthGreaterThan</text>\n",
       "<text text-anchor=\"start\" x=\"629\" y=\"-96\" font-family=\"monospace\" font-size=\"10.00\">dtype=QInt(bit ..., cv=1</text>\n",
       "</g>\n",
       "<!-- b1 -->\n",
       "<g id=\"node2\" class=\"node\">\n",
       "<title>b1</title>\n",
       "<polygon fill=\"none\" stroke=\"black\" points=\"197,-36 0,-36 0,0 197,0 197,-36\"/>\n",
       "<text text-anchor=\"start\" x=\"84.5\" y=\"-19.8\" font-family=\"Times,serif\" font-size=\"14.00\">CCX</text>\n",
       "<text text-anchor=\"start\" x=\"8\" y=\"-9\" font-family=\"monospace\" font-size=\"10.00\">cvs=(1, 1), target_gate=cirq.X</text>\n",
       "</g>\n",
       "<!-- b0&#45;&gt;b1 -->\n",
       "<g id=\"edge1\" class=\"edge\">\n",
       "<title>b0-&gt;b1</title>\n",
       "<path fill=\"none\" stroke=\"black\" d=\"M620.22,-94.25C564.99,-87.49 490.28,-78.11 424.5,-69 330.14,-55.93 304.41,-51.35 207,-36.23\"/>\n",
       "<polygon fill=\"black\" stroke=\"black\" points=\"207.45,-32.76 197.03,-34.68 206.37,-39.68 207.45,-32.76\"/>\n",
       "<text text-anchor=\"middle\" x=\"428\" y=\"-57.8\" font-family=\"Times,serif\" font-size=\"14.00\">1</text>\n",
       "</g>\n",
       "<!-- b2 -->\n",
       "<g id=\"node3\" class=\"node\">\n",
       "<title>b2</title>\n",
       "<polygon fill=\"none\" stroke=\"black\" points=\"340,-36 215,-36 215,0 340,0 340,-36\"/>\n",
       "<text text-anchor=\"start\" x=\"246.5\" y=\"-19.8\" font-family=\"Times,serif\" font-size=\"14.00\">BitwiseNot</text>\n",
       "<text text-anchor=\"start\" x=\"223\" y=\"-9\" font-family=\"monospace\" font-size=\"10.00\">dtype=QInt(bit ...</text>\n",
       "</g>\n",
       "<!-- b0&#45;&gt;b2 -->\n",
       "<g id=\"edge2\" class=\"edge\">\n",
       "<title>b0-&gt;b2</title>\n",
       "<path fill=\"none\" stroke=\"black\" d=\"M620.32,-89.43C550.95,-76.73 448.26,-57.35 349.99,-36.28\"/>\n",
       "<polygon fill=\"black\" stroke=\"black\" points=\"350.7,-32.85 340.19,-34.17 349.22,-39.7 350.7,-32.85\"/>\n",
       "<text text-anchor=\"middle\" x=\"507\" y=\"-57.8\" font-family=\"Times,serif\" font-size=\"14.00\">2</text>\n",
       "</g>\n",
       "<!-- b3 -->\n",
       "<g id=\"node4\" class=\"node\">\n",
       "<title>b3</title>\n",
       "<polygon fill=\"none\" stroke=\"black\" points=\"537,-36 358,-36 358,0 537,0 537,-36\"/>\n",
       "<text text-anchor=\"start\" x=\"422\" y=\"-19.8\" font-family=\"Times,serif\" font-size=\"14.00\">c = a + b</text>\n",
       "<text text-anchor=\"start\" x=\"366\" y=\"-9\" font-family=\"monospace\" font-size=\"10.00\">bitsize=6, is_adjoint=False</text>\n",
       "</g>\n",
       "<!-- b0&#45;&gt;b3 -->\n",
       "<g id=\"edge3\" class=\"edge\">\n",
       "<title>b0-&gt;b3</title>\n",
       "<path fill=\"none\" stroke=\"black\" d=\"M650.4,-86.9C609.33,-73.15 551.51,-53.81 508.1,-39.28\"/>\n",
       "<polygon fill=\"black\" stroke=\"black\" points=\"509.11,-35.93 498.51,-36.07 506.89,-42.56 509.11,-35.93\"/>\n",
       "<text text-anchor=\"middle\" x=\"594\" y=\"-57.8\" font-family=\"Times,serif\" font-size=\"14.00\">1</text>\n",
       "</g>\n",
       "<!-- b4 -->\n",
       "<g id=\"node5\" class=\"node\">\n",
       "<title>b4</title>\n",
       "<polygon fill=\"none\" stroke=\"black\" points=\"848,-36 555,-36 555,0 848,0 848,-36\"/>\n",
       "<text text-anchor=\"start\" x=\"665\" y=\"-19.8\" font-family=\"Times,serif\" font-size=\"14.00\">SignTruncate</text>\n",
       "<text text-anchor=\"start\" x=\"563\" y=\"-9\" font-family=\"monospace\" font-size=\"10.00\">inp_dtype=QInt(bit ..., out_dtype=QInt(bit ...</text>\n",
       "</g>\n",
       "<!-- b0&#45;&gt;b4 -->\n",
       "<g id=\"edge4\" class=\"edge\">\n",
       "<title>b0-&gt;b4</title>\n",
       "<path fill=\"none\" stroke=\"black\" d=\"M701.5,-86.8C701.5,-75.16 701.5,-59.55 701.5,-46.24\"/>\n",
       "<polygon fill=\"black\" stroke=\"black\" points=\"705,-46.18 701.5,-36.18 698,-46.18 705,-46.18\"/>\n",
       "<text text-anchor=\"middle\" x=\"705\" y=\"-57.8\" font-family=\"Times,serif\" font-size=\"14.00\">2</text>\n",
       "</g>\n",
       "<!-- b5 -->\n",
       "<g id=\"node6\" class=\"node\">\n",
       "<title>b5</title>\n",
       "<polygon fill=\"none\" stroke=\"black\" points=\"991,-36 866,-36 866,0 991,0 991,-36\"/>\n",
       "<text text-anchor=\"start\" x=\"897.5\" y=\"-19.8\" font-family=\"Times,serif\" font-size=\"14.00\">BitwiseNot</text>\n",
       "<text text-anchor=\"start\" x=\"874\" y=\"-9\" font-family=\"monospace\" font-size=\"10.00\">dtype=QUInt(bi ...</text>\n",
       "</g>\n",
       "<!-- b0&#45;&gt;b5 -->\n",
       "<g id=\"edge5\" class=\"edge\">\n",
       "<title>b0-&gt;b5</title>\n",
       "<path fill=\"none\" stroke=\"black\" d=\"M747.16,-86.9C783.57,-73.27 834.67,-54.13 873.36,-39.65\"/>\n",
       "<polygon fill=\"black\" stroke=\"black\" points=\"874.77,-42.86 882.91,-36.07 872.32,-36.3 874.77,-42.86\"/>\n",
       "<text text-anchor=\"middle\" x=\"833\" y=\"-57.8\" font-family=\"Times,serif\" font-size=\"14.00\">2</text>\n",
       "</g>\n",
       "<!-- b6 -->\n",
       "<g id=\"node7\" class=\"node\">\n",
       "<title>b6</title>\n",
       "<polygon fill=\"none\" stroke=\"black\" points=\"1302,-36 1009,-36 1009,0 1302,0 1302,-36\"/>\n",
       "<text text-anchor=\"start\" x=\"1123.5\" y=\"-19.8\" font-family=\"Times,serif\" font-size=\"14.00\">SignExtend</text>\n",
       "<text text-anchor=\"start\" x=\"1017\" y=\"-9\" font-family=\"monospace\" font-size=\"10.00\">inp_dtype=QInt(bit ..., out_dtype=QInt(bit ...</text>\n",
       "</g>\n",
       "<!-- b0&#45;&gt;b6 -->\n",
       "<g id=\"edge6\" class=\"edge\">\n",
       "<title>b0-&gt;b6</title>\n",
       "<path fill=\"none\" stroke=\"black\" d=\"M782.67,-88.8C858.69,-74.57 972.56,-53.25 1054.44,-37.92\"/>\n",
       "<polygon fill=\"black\" stroke=\"black\" points=\"1055.33,-41.32 1064.51,-36.04 1054.04,-34.44 1055.33,-41.32\"/>\n",
       "<text text-anchor=\"middle\" x=\"960\" y=\"-57.8\" font-family=\"Times,serif\" font-size=\"14.00\">2</text>\n",
       "</g>\n",
       "<!-- b7 -->\n",
       "<g id=\"node8\" class=\"node\">\n",
       "<title>b7</title>\n",
       "<polygon fill=\"none\" stroke=\"black\" points=\"1493,-36 1320,-36 1320,0 1493,0 1493,-36\"/>\n",
       "<text text-anchor=\"start\" x=\"1381\" y=\"-19.8\" font-family=\"Times,serif\" font-size=\"14.00\">c = a + b</text>\n",
       "<text text-anchor=\"start\" x=\"1328\" y=\"-9\" font-family=\"monospace\" font-size=\"10.00\">bitsize=6, is_adjoint=True</text>\n",
       "</g>\n",
       "<!-- b0&#45;&gt;b7 -->\n",
       "<g id=\"edge7\" class=\"edge\">\n",
       "<title>b0-&gt;b7</title>\n",
       "<path fill=\"none\" stroke=\"black\" d=\"M782.63,-96.68C897.71,-85.9 1115.14,-64.14 1309.69,-36.22\"/>\n",
       "<polygon fill=\"black\" stroke=\"black\" points=\"1310.42,-39.65 1319.82,-34.76 1309.42,-32.72 1310.42,-39.65\"/>\n",
       "<text text-anchor=\"middle\" x=\"1165\" y=\"-57.8\" font-family=\"Times,serif\" font-size=\"14.00\">1</text>\n",
       "</g>\n",
       "</g>\n",
       "</svg>"
      ],
      "text/plain": [
       "<IPython.core.display.SVG object>"
      ]
     },
     "metadata": {},
     "output_type": "display_data"
    },
    {
     "data": {
      "text/markdown": [
       "#### Counts totals:\n",
       " - `BitwiseNot`: 2\n",
       " - `BitwiseNot`: 2\n",
       " - `MultiControlX`: 1\n",
       " - `OutOfPlaceAdder`: 1\n",
       " - `OutOfPlaceAdder`: 1\n",
       " - `SignExtend`: 2\n",
       " - `SignTruncate`: 2"
      ],
      "text/plain": [
       "<IPython.core.display.Markdown object>"
      ]
     },
     "metadata": {},
     "output_type": "display_data"
    }
   ],
   "source": [
    "from qualtran.resource_counting.generalizers import ignore_split_join\n",
    "clineardepthgreaterthan_example_g, clineardepthgreaterthan_example_sigma = clineardepthgreaterthan_example.call_graph(max_depth=1, generalizer=ignore_split_join)\n",
    "show_call_graph(clineardepthgreaterthan_example_g)\n",
    "show_counts_sigma(clineardepthgreaterthan_example_sigma)"
   ]
  }
 ],
 "metadata": {
  "kernelspec": {
   "display_name": "Python 3 (ipykernel)",
   "language": "python",
   "name": "python3"
  },
  "language_info": {
   "codemirror_mode": {
    "name": "ipython",
    "version": 3
   },
   "file_extension": ".py",
   "mimetype": "text/x-python",
   "name": "python",
   "nbconvert_exporter": "python",
   "pygments_lexer": "ipython3",
   "version": "3.11.8"
  },
  "widgets": {
   "application/vnd.jupyter.widget-state+json": {
    "state": {
     "014c5e4895914a97b1b63e0fd3666f0c": {
      "model_module": "@jupyter-widgets/base",
      "model_module_version": "2.0.0",
      "model_name": "LayoutModel",
      "state": {
       "_model_module": "@jupyter-widgets/base",
       "_model_module_version": "2.0.0",
       "_model_name": "LayoutModel",
       "_view_count": null,
       "_view_module": "@jupyter-widgets/base",
       "_view_module_version": "2.0.0",
       "_view_name": "LayoutView",
       "align_content": null,
       "align_items": null,
       "align_self": null,
       "border_bottom": null,
       "border_left": null,
       "border_right": null,
       "border_top": null,
       "bottom": null,
       "display": null,
       "flex": null,
       "flex_flow": null,
       "grid_area": null,
       "grid_auto_columns": null,
       "grid_auto_flow": null,
       "grid_auto_rows": null,
       "grid_column": null,
       "grid_gap": null,
       "grid_row": null,
       "grid_template_areas": null,
       "grid_template_columns": null,
       "grid_template_rows": null,
       "height": null,
       "justify_content": null,
       "justify_items": null,
       "left": null,
       "margin": null,
       "max_height": null,
       "max_width": null,
       "min_height": null,
       "min_width": null,
       "object_fit": null,
       "object_position": null,
       "order": null,
       "overflow": null,
       "padding": null,
       "right": null,
       "top": null,
       "visibility": null,
       "width": null
      }
     },
     "17efd4e12b5c46b59b4f8ec3c1114d55": {
      "model_module": "@jupyter-widgets/base",
      "model_module_version": "2.0.0",
      "model_name": "LayoutModel",
      "state": {
       "_model_module": "@jupyter-widgets/base",
       "_model_module_version": "2.0.0",
       "_model_name": "LayoutModel",
       "_view_count": null,
       "_view_module": "@jupyter-widgets/base",
       "_view_module_version": "2.0.0",
       "_view_name": "LayoutView",
       "align_content": null,
       "align_items": null,
       "align_self": null,
       "border_bottom": null,
       "border_left": null,
       "border_right": null,
       "border_top": null,
       "bottom": null,
       "display": null,
       "flex": null,
       "flex_flow": null,
       "grid_area": null,
       "grid_auto_columns": null,
       "grid_auto_flow": null,
       "grid_auto_rows": null,
       "grid_column": null,
       "grid_gap": null,
       "grid_row": null,
       "grid_template_areas": null,
       "grid_template_columns": null,
       "grid_template_rows": null,
       "height": null,
       "justify_content": null,
       "justify_items": null,
       "left": null,
       "margin": null,
       "max_height": null,
       "max_width": null,
       "min_height": null,
       "min_width": null,
       "object_fit": null,
       "object_position": null,
       "order": null,
       "overflow": null,
       "padding": null,
       "right": null,
       "top": null,
       "visibility": null,
       "width": null
      }
     },
     "1874b4d046284256bb54282f660048d2": {
      "model_module": "@jupyter-widgets/base",
      "model_module_version": "2.0.0",
      "model_name": "LayoutModel",
      "state": {
       "_model_module": "@jupyter-widgets/base",
       "_model_module_version": "2.0.0",
       "_model_name": "LayoutModel",
       "_view_count": null,
       "_view_module": "@jupyter-widgets/base",
       "_view_module_version": "2.0.0",
       "_view_name": "LayoutView",
       "align_content": null,
       "align_items": null,
       "align_self": null,
       "border_bottom": null,
       "border_left": null,
       "border_right": null,
       "border_top": null,
       "bottom": null,
       "display": null,
       "flex": null,
       "flex_flow": null,
       "grid_area": null,
       "grid_auto_columns": null,
       "grid_auto_flow": null,
       "grid_auto_rows": null,
       "grid_column": null,
       "grid_gap": null,
       "grid_row": null,
       "grid_template_areas": null,
       "grid_template_columns": null,
       "grid_template_rows": null,
       "height": null,
       "justify_content": null,
       "justify_items": null,
       "left": null,
       "margin": null,
       "max_height": null,
       "max_width": null,
       "min_height": null,
       "min_width": null,
       "object_fit": null,
       "object_position": null,
       "order": null,
       "overflow": null,
       "padding": null,
       "right": null,
       "top": null,
       "visibility": null,
       "width": null
      }
     },
     "1998b43bcaa94908af33b4daf9d51464": {
      "model_module": "@jupyter-widgets/output",
      "model_module_version": "1.0.0",
      "model_name": "OutputModel",
      "state": {
       "_dom_classes": [],
       "_model_module": "@jupyter-widgets/output",
       "_model_module_version": "1.0.0",
       "_model_name": "OutputModel",
       "_view_count": null,
       "_view_module": "@jupyter-widgets/output",
       "_view_module_version": "1.0.0",
       "_view_name": "OutputView",
       "layout": "IPY_MODEL_014c5e4895914a97b1b63e0fd3666f0c",
       "msg_id": "",
       "outputs": [
        {
         "data": {
          "text/markdown": "`sq_cmp`",
          "text/plain": "<IPython.core.display.Markdown object>"
         },
         "metadata": {},
         "output_type": "display_data"
        },
        {
         "data": {
          "image/svg+xml": "<svg xmlns=\"http://www.w3.org/2000/svg\" xmlns:xlink=\"http://www.w3.org/1999/xlink\" width=\"314pt\" height=\"206pt\" viewBox=\"0.00 0.00 314.00 206.00\">\n<g id=\"graph0\" class=\"graph\" transform=\"scale(1 1) rotate(0) translate(4 202)\">\n<title>my_graph</title>\n<polygon fill=\"white\" stroke=\"transparent\" points=\"-4,4 -4,-202 310,-202 310,4 -4,4\"/>\n<!-- a_G9 -->\n<g id=\"node1\" class=\"node\">\n<title>a_G9</title>\n<text text-anchor=\"middle\" x=\"27\" y=\"-143.3\" font-family=\"Times,serif\" font-size=\"14.00\">a</text>\n</g>\n<!-- SingleQubitCompare -->\n<g id=\"node3\" class=\"node\">\n<title>SingleQubitCompare</title>\n<polygon fill=\"none\" stroke=\"black\" points=\"91,-141 91,-158 185,-158 185,-141 91,-141\"/>\n<text text-anchor=\"start\" x=\"94\" y=\"-147\" font-family=\"Times,serif\" font-size=\"10.00\">SingleQubitCompare</text>\n<polygon fill=\"none\" stroke=\"black\" points=\"91,-120 91,-141 185,-141 185,-120 91,-120\"/>\n<text text-anchor=\"start\" x=\"134.5\" y=\"-126.8\" font-family=\"Times,serif\" font-size=\"14.00\">a</text>\n<polygon fill=\"none\" stroke=\"black\" points=\"91,-99 91,-120 185,-120 185,-99 91,-99\"/>\n<text text-anchor=\"start\" x=\"134.5\" y=\"-105.8\" font-family=\"Times,serif\" font-size=\"14.00\">b</text>\n<polygon fill=\"none\" stroke=\"black\" points=\"91,-78 91,-99 104,-99 104,-78 91,-78\"/>\n<polygon fill=\"none\" stroke=\"black\" points=\"104,-78 104,-99 185,-99 185,-78 104,-78\"/>\n<text text-anchor=\"start\" x=\"119\" y=\"-84.8\" font-family=\"Times,serif\" font-size=\"14.00\">less_than</text>\n<polygon fill=\"none\" stroke=\"black\" points=\"91,-57 91,-78 104,-78 104,-57 91,-57\"/>\n<polygon fill=\"none\" stroke=\"black\" points=\"104,-57 104,-78 185,-78 185,-57 104,-57\"/>\n<text text-anchor=\"start\" x=\"110.5\" y=\"-63.8\" font-family=\"Times,serif\" font-size=\"14.00\">greater_than</text>\n</g>\n<!-- a_G9&#45;&gt;SingleQubitCompare -->\n<g id=\"edge1\" class=\"edge\">\n<title>a_G9:e-&gt;SingleQubitCompare:w</title>\n<path fill=\"none\" stroke=\"black\" d=\"M54,-147C71.22,-147 72.97,-132.23 88.98,-131.07\"/>\n<ellipse fill=\"black\" stroke=\"black\" cx=\"90\" cy=\"-131.04\" rx=\"1\" ry=\"1\"/>\n<text text-anchor=\"middle\" x=\"72.5\" y=\"-142\" font-family=\"Times,serif\" font-size=\"10.00\">1</text>\n</g>\n<!-- b_G8 -->\n<g id=\"node2\" class=\"node\">\n<title>b_G8</title>\n<text text-anchor=\"middle\" x=\"27\" y=\"-89.3\" font-family=\"Times,serif\" font-size=\"14.00\">b</text>\n</g>\n<!-- b_G8&#45;&gt;SingleQubitCompare -->\n<g id=\"edge2\" class=\"edge\">\n<title>b_G8:e-&gt;SingleQubitCompare:w</title>\n<path fill=\"none\" stroke=\"black\" d=\"M54,-93C71.39,-93 72.81,-108.7 88.96,-109.92\"/>\n<ellipse fill=\"black\" stroke=\"black\" cx=\"90\" cy=\"-109.96\" rx=\"1\" ry=\"1\"/>\n<text text-anchor=\"middle\" x=\"72.5\" y=\"-104\" font-family=\"Times,serif\" font-size=\"10.00\">1</text>\n</g>\n<!-- a_G1 -->\n<g id=\"node4\" class=\"node\">\n<title>a_G1</title>\n<text text-anchor=\"middle\" x=\"264\" y=\"-176.3\" font-family=\"Times,serif\" font-size=\"14.00\">a</text>\n</g>\n<!-- SingleQubitCompare&#45;&gt;a_G1 -->\n<g id=\"edge3\" class=\"edge\">\n<title>SingleQubitCompare:e-&gt;a_G1:w</title>\n<path fill=\"none\" stroke=\"black\" d=\"M185,-131C215.7,-131 205.1,-177.73 233.86,-179.92\"/>\n<ellipse fill=\"black\" stroke=\"black\" cx=\"235\" cy=\"-179.96\" rx=\"1\" ry=\"1\"/>\n<text text-anchor=\"middle\" x=\"203.5\" y=\"-144\" font-family=\"Times,serif\" font-size=\"10.00\">1</text>\n</g>\n<!-- b_G3 -->\n<g id=\"node5\" class=\"node\">\n<title>b_G3</title>\n<text text-anchor=\"middle\" x=\"264\" y=\"-122.3\" font-family=\"Times,serif\" font-size=\"14.00\">b</text>\n</g>\n<!-- SingleQubitCompare&#45;&gt;b_G3 -->\n<g id=\"edge4\" class=\"edge\">\n<title>SingleQubitCompare:e-&gt;b_G3:w</title>\n<path fill=\"none\" stroke=\"black\" d=\"M185,-110C208.01,-110 212.01,-125.02 233.83,-125.95\"/>\n<ellipse fill=\"black\" stroke=\"black\" cx=\"235\" cy=\"-125.98\" rx=\"1\" ry=\"1\"/>\n<text text-anchor=\"middle\" x=\"203.5\" y=\"-117\" font-family=\"Times,serif\" font-size=\"10.00\">1</text>\n</g>\n<!-- less_than_G2 -->\n<g id=\"node6\" class=\"node\">\n<title>less_than_G2</title>\n<text text-anchor=\"middle\" x=\"264\" y=\"-68.3\" font-family=\"Times,serif\" font-size=\"14.00\">less_than</text>\n</g>\n<!-- SingleQubitCompare&#45;&gt;less_than_G2 -->\n<g id=\"edge5\" class=\"edge\">\n<title>SingleQubitCompare:e-&gt;less_than_G2:w</title>\n<path fill=\"none\" stroke=\"black\" d=\"M185,-88C205,-88 207.98,-73.23 226.64,-72.07\"/>\n<ellipse fill=\"black\" stroke=\"black\" cx=\"228\" cy=\"-72.03\" rx=\"1\" ry=\"1\"/>\n<text text-anchor=\"middle\" x=\"203.5\" y=\"-85\" font-family=\"Times,serif\" font-size=\"10.00\">1</text>\n</g>\n<!-- greater_than_G7 -->\n<g id=\"node7\" class=\"node\">\n<title>greater_than_G7</title>\n<text text-anchor=\"middle\" x=\"264\" y=\"-14.3\" font-family=\"Times,serif\" font-size=\"14.00\">greater_than</text>\n</g>\n<!-- SingleQubitCompare&#45;&gt;greater_than_G7 -->\n<g id=\"edge6\" class=\"edge\">\n<title>SingleQubitCompare:e-&gt;greater_than_G7:w</title>\n<path fill=\"none\" stroke=\"black\" d=\"M185,-67C211.54,-67 195.64,-20.64 219.86,-18.11\"/>\n<ellipse fill=\"black\" stroke=\"black\" cx=\"221\" cy=\"-18.05\" rx=\"1\" ry=\"1\"/>\n<text text-anchor=\"middle\" x=\"203.5\" y=\"-47\" font-family=\"Times,serif\" font-size=\"10.00\">1</text>\n</g>\n</g>\n</svg>",
          "text/plain": "<IPython.core.display.SVG object>"
         },
         "metadata": {},
         "output_type": "display_data"
        }
       ],
       "tabbable": null,
       "tooltip": null
      }
     },
     "1d3ec04f03ad4275b09ee6f311935373": {
      "model_module": "@jupyter-widgets/base",
      "model_module_version": "2.0.0",
      "model_name": "LayoutModel",
      "state": {
       "_model_module": "@jupyter-widgets/base",
       "_model_module_version": "2.0.0",
       "_model_name": "LayoutModel",
       "_view_count": null,
       "_view_module": "@jupyter-widgets/base",
       "_view_module_version": "2.0.0",
       "_view_name": "LayoutView",
       "align_content": null,
       "align_items": null,
       "align_self": null,
       "border_bottom": null,
       "border_left": null,
       "border_right": null,
       "border_top": null,
       "bottom": null,
       "display": null,
       "flex": null,
       "flex_flow": null,
       "grid_area": null,
       "grid_auto_columns": null,
       "grid_auto_flow": null,
       "grid_auto_rows": null,
       "grid_column": null,
       "grid_gap": null,
       "grid_row": null,
       "grid_template_areas": null,
       "grid_template_columns": null,
       "grid_template_rows": null,
       "height": null,
       "justify_content": null,
       "justify_items": null,
       "left": null,
       "margin": null,
       "max_height": null,
       "max_width": null,
       "min_height": null,
       "min_width": null,
       "object_fit": null,
       "object_position": null,
       "order": null,
       "overflow": null,
       "padding": null,
       "right": null,
       "top": null,
       "visibility": null,
       "width": null
      }
     },
     "2def5c1730ae46d2a19f9e16f1a7c886": {
      "model_module": "@jupyter-widgets/base",
      "model_module_version": "2.0.0",
      "model_name": "LayoutModel",
      "state": {
       "_model_module": "@jupyter-widgets/base",
       "_model_module_version": "2.0.0",
       "_model_name": "LayoutModel",
       "_view_count": null,
       "_view_module": "@jupyter-widgets/base",
       "_view_module_version": "2.0.0",
       "_view_name": "LayoutView",
       "align_content": null,
       "align_items": null,
       "align_self": null,
       "border_bottom": null,
       "border_left": null,
       "border_right": null,
       "border_top": null,
       "bottom": null,
       "display": null,
       "flex": null,
       "flex_flow": null,
       "grid_area": null,
       "grid_auto_columns": null,
       "grid_auto_flow": null,
       "grid_auto_rows": null,
       "grid_column": null,
       "grid_gap": null,
       "grid_row": null,
       "grid_template_areas": null,
       "grid_template_columns": null,
       "grid_template_rows": null,
       "height": null,
       "justify_content": null,
       "justify_items": null,
       "left": null,
       "margin": null,
       "max_height": null,
       "max_width": null,
       "min_height": null,
       "min_width": null,
       "object_fit": null,
       "object_position": null,
       "order": null,
       "overflow": null,
       "padding": null,
       "right": null,
       "top": null,
       "visibility": null,
       "width": null
      }
     },
     "2ebedd58de664b36b794206d73d07ad4": {
      "model_module": "@jupyter-widgets/controls",
      "model_module_version": "2.0.0",
      "model_name": "HBoxModel",
      "state": {
       "_dom_classes": [],
       "_model_module": "@jupyter-widgets/controls",
       "_model_module_version": "2.0.0",
       "_model_name": "HBoxModel",
       "_view_count": null,
       "_view_module": "@jupyter-widgets/controls",
       "_view_module_version": "2.0.0",
       "_view_name": "HBoxView",
       "box_style": "",
       "children": [
        "IPY_MODEL_d36d92cdf346403b907e73315e1c4b03"
       ],
       "layout": "IPY_MODEL_4f9ee3b9a23b4115a9bab47b41a63475",
       "tabbable": null,
       "tooltip": null
      }
     },
     "32235f4a35a640b6b1ee483d4e80e865": {
      "model_module": "@jupyter-widgets/base",
      "model_module_version": "2.0.0",
      "model_name": "LayoutModel",
      "state": {
       "_model_module": "@jupyter-widgets/base",
       "_model_module_version": "2.0.0",
       "_model_name": "LayoutModel",
       "_view_count": null,
       "_view_module": "@jupyter-widgets/base",
       "_view_module_version": "2.0.0",
       "_view_name": "LayoutView",
       "align_content": null,
       "align_items": null,
       "align_self": null,
       "border_bottom": null,
       "border_left": null,
       "border_right": null,
       "border_top": null,
       "bottom": null,
       "display": null,
       "flex": null,
       "flex_flow": null,
       "grid_area": null,
       "grid_auto_columns": null,
       "grid_auto_flow": null,
       "grid_auto_rows": null,
       "grid_column": null,
       "grid_gap": null,
       "grid_row": null,
       "grid_template_areas": null,
       "grid_template_columns": null,
       "grid_template_rows": null,
       "height": null,
       "justify_content": null,
       "justify_items": null,
       "left": null,
       "margin": null,
       "max_height": null,
       "max_width": null,
       "min_height": null,
       "min_width": null,
       "object_fit": null,
       "object_position": null,
       "order": null,
       "overflow": null,
       "padding": null,
       "right": null,
       "top": null,
       "visibility": null,
       "width": null
      }
     },
     "4452fd06dfeb480c87aeec90dc853aa5": {
      "model_module": "@jupyter-widgets/controls",
      "model_module_version": "2.0.0",
      "model_name": "HBoxModel",
      "state": {
       "_dom_classes": [],
       "_model_module": "@jupyter-widgets/controls",
       "_model_module_version": "2.0.0",
       "_model_name": "HBoxModel",
       "_view_count": null,
       "_view_module": "@jupyter-widgets/controls",
       "_view_module_version": "2.0.0",
       "_view_name": "HBoxView",
       "box_style": "",
       "children": [
        "IPY_MODEL_d1997ffedb0e42cf8f42ea3386eaae23",
        "IPY_MODEL_74305146279244699389cdb1b51bef20"
       ],
       "layout": "IPY_MODEL_ac21670e97f04d7e9ecdac0931b9ac9c",
       "tabbable": null,
       "tooltip": null
      }
     },
     "488f8eef491743b8a69a3f34ace6f6a2": {
      "model_module": "@jupyter-widgets/output",
      "model_module_version": "1.0.0",
      "model_name": "OutputModel",
      "state": {
       "_dom_classes": [],
       "_model_module": "@jupyter-widgets/output",
       "_model_module_version": "1.0.0",
       "_model_name": "OutputModel",
       "_view_count": null,
       "_view_module": "@jupyter-widgets/output",
       "_view_module_version": "1.0.0",
       "_view_name": "OutputView",
       "layout": "IPY_MODEL_6326a4d2f1254f0c9b12546c50a3ce33",
       "msg_id": "",
       "outputs": [
        {
         "data": {
          "text/markdown": "`leq`",
          "text/plain": "<IPython.core.display.Markdown object>"
         },
         "metadata": {},
         "output_type": "display_data"
        },
        {
         "data": {
          "image/svg+xml": "<svg xmlns=\"http://www.w3.org/2000/svg\" xmlns:xlink=\"http://www.w3.org/1999/xlink\" width=\"260pt\" height=\"152pt\" viewBox=\"0.00 0.00 260.00 152.00\">\n<g id=\"graph0\" class=\"graph\" transform=\"scale(1 1) rotate(0) translate(4 148)\">\n<title>my_graph</title>\n<polygon fill=\"white\" stroke=\"transparent\" points=\"-4,4 -4,-148 256,-148 256,4 -4,4\"/>\n<!-- x_G8 -->\n<g id=\"node1\" class=\"node\">\n<title>x_G8</title>\n<text text-anchor=\"middle\" x=\"27\" y=\"-122.3\" font-family=\"Times,serif\" font-size=\"14.00\">x</text>\n</g>\n<!-- LessThanEqual -->\n<g id=\"node4\" class=\"node\">\n<title>LessThanEqual</title>\n<polygon fill=\"none\" stroke=\"black\" points=\"91,-104 91,-121 161,-121 161,-104 91,-104\"/>\n<text text-anchor=\"start\" x=\"94\" y=\"-110\" font-family=\"Times,serif\" font-size=\"10.00\">LessThanEqual</text>\n<polygon fill=\"none\" stroke=\"black\" points=\"91,-83 91,-104 161,-104 161,-83 91,-83\"/>\n<text text-anchor=\"start\" x=\"122.5\" y=\"-89.8\" font-family=\"Times,serif\" font-size=\"14.00\">x</text>\n<polygon fill=\"none\" stroke=\"black\" points=\"91,-62 91,-83 161,-83 161,-62 91,-62\"/>\n<text text-anchor=\"start\" x=\"122.5\" y=\"-68.8\" font-family=\"Times,serif\" font-size=\"14.00\">y</text>\n<polygon fill=\"none\" stroke=\"black\" points=\"91,-41 91,-62 161,-62 161,-41 91,-41\"/>\n<text text-anchor=\"start\" x=\"110.5\" y=\"-47.8\" font-family=\"Times,serif\" font-size=\"14.00\">target</text>\n</g>\n<!-- x_G8&#45;&gt;LessThanEqual -->\n<g id=\"edge1\" class=\"edge\">\n<title>x_G8:e-&gt;LessThanEqual:w</title>\n<path fill=\"none\" stroke=\"black\" d=\"M54,-126C74.89,-126 69.72,-96.45 88.58,-94.14\"/>\n<ellipse fill=\"black\" stroke=\"black\" cx=\"90\" cy=\"-94.06\" rx=\"1\" ry=\"1\"/>\n<text text-anchor=\"middle\" x=\"72.5\" y=\"-113\" font-family=\"Times,serif\" font-size=\"10.00\">4</text>\n</g>\n<!-- y_G1 -->\n<g id=\"node2\" class=\"node\">\n<title>y_G1</title>\n<text text-anchor=\"middle\" x=\"27\" y=\"-68.3\" font-family=\"Times,serif\" font-size=\"14.00\">y</text>\n</g>\n<!-- y_G1&#45;&gt;LessThanEqual -->\n<g id=\"edge2\" class=\"edge\">\n<title>y_G1:e-&gt;LessThanEqual:w</title>\n<path fill=\"none\" stroke=\"black\" d=\"M54,-72C69.67,-72 74.14,-72 88.77,-72\"/>\n<ellipse fill=\"black\" stroke=\"black\" cx=\"90\" cy=\"-72\" rx=\"1\" ry=\"1\"/>\n<text text-anchor=\"middle\" x=\"72.5\" y=\"-75\" font-family=\"Times,serif\" font-size=\"10.00\">8</text>\n</g>\n<!-- target_G0 -->\n<g id=\"node3\" class=\"node\">\n<title>target_G0</title>\n<text text-anchor=\"middle\" x=\"27\" y=\"-14.3\" font-family=\"Times,serif\" font-size=\"14.00\">target</text>\n</g>\n<!-- target_G0&#45;&gt;LessThanEqual -->\n<g id=\"edge3\" class=\"edge\">\n<title>target_G0:e-&gt;LessThanEqual:w</title>\n<path fill=\"none\" stroke=\"black\" d=\"M54,-18C75.17,-18 69.47,-48.47 88.55,-50.85\"/>\n<ellipse fill=\"black\" stroke=\"black\" cx=\"90\" cy=\"-50.94\" rx=\"1\" ry=\"1\"/>\n<text text-anchor=\"middle\" x=\"72.5\" y=\"-39\" font-family=\"Times,serif\" font-size=\"10.00\">1</text>\n</g>\n<!-- x_G4 -->\n<g id=\"node5\" class=\"node\">\n<title>x_G4</title>\n<text text-anchor=\"middle\" x=\"225\" y=\"-122.3\" font-family=\"Times,serif\" font-size=\"14.00\">x</text>\n</g>\n<!-- LessThanEqual&#45;&gt;x_G4 -->\n<g id=\"edge4\" class=\"edge\">\n<title>LessThanEqual:e-&gt;x_G4:w</title>\n<path fill=\"none\" stroke=\"black\" d=\"M161,-94C181.89,-94 176.72,-123.55 195.58,-125.86\"/>\n<ellipse fill=\"black\" stroke=\"black\" cx=\"197\" cy=\"-125.94\" rx=\"1\" ry=\"1\"/>\n<text text-anchor=\"middle\" x=\"179.5\" y=\"-113\" font-family=\"Times,serif\" font-size=\"10.00\">4</text>\n</g>\n<!-- y_G7 -->\n<g id=\"node6\" class=\"node\">\n<title>y_G7</title>\n<text text-anchor=\"middle\" x=\"225\" y=\"-68.3\" font-family=\"Times,serif\" font-size=\"14.00\">y</text>\n</g>\n<!-- LessThanEqual&#45;&gt;y_G7 -->\n<g id=\"edge5\" class=\"edge\">\n<title>LessThanEqual:e-&gt;y_G7:w</title>\n<path fill=\"none\" stroke=\"black\" d=\"M161,-72C176.67,-72 181.14,-72 195.77,-72\"/>\n<ellipse fill=\"black\" stroke=\"black\" cx=\"197\" cy=\"-72\" rx=\"1\" ry=\"1\"/>\n<text text-anchor=\"middle\" x=\"179.5\" y=\"-75\" font-family=\"Times,serif\" font-size=\"10.00\">8</text>\n</g>\n<!-- target_G2 -->\n<g id=\"node7\" class=\"node\">\n<title>target_G2</title>\n<text text-anchor=\"middle\" x=\"225\" y=\"-14.3\" font-family=\"Times,serif\" font-size=\"14.00\">target</text>\n</g>\n<!-- LessThanEqual&#45;&gt;target_G2 -->\n<g id=\"edge6\" class=\"edge\">\n<title>LessThanEqual:e-&gt;target_G2:w</title>\n<path fill=\"none\" stroke=\"black\" d=\"M161,-51C182.17,-51 176.47,-20.53 195.55,-18.15\"/>\n<ellipse fill=\"black\" stroke=\"black\" cx=\"197\" cy=\"-18.06\" rx=\"1\" ry=\"1\"/>\n<text text-anchor=\"middle\" x=\"179.5\" y=\"-39\" font-family=\"Times,serif\" font-size=\"10.00\">1</text>\n</g>\n</g>\n</svg>",
          "text/plain": "<IPython.core.display.SVG object>"
         },
         "metadata": {},
         "output_type": "display_data"
        }
       ],
       "tabbable": null,
       "tooltip": null
      }
     },
     "49eb178e07644b25ad9d59172593b183": {
      "model_module": "@jupyter-widgets/output",
      "model_module_version": "1.0.0",
      "model_name": "OutputModel",
      "state": {
       "_dom_classes": [],
       "_model_module": "@jupyter-widgets/output",
       "_model_module_version": "1.0.0",
       "_model_name": "OutputModel",
       "_view_count": null,
       "_view_module": "@jupyter-widgets/output",
       "_view_module_version": "1.0.0",
       "_view_name": "OutputView",
       "layout": "IPY_MODEL_7c04132918ae4251bf332b1b7abf517b",
       "msg_id": "",
       "outputs": [
        {
         "data": {
          "text/markdown": "`leq_symb`",
          "text/plain": "<IPython.core.display.Markdown object>"
         },
         "metadata": {},
         "output_type": "display_data"
        },
        {
         "data": {
          "image/svg+xml": "<svg xmlns=\"http://www.w3.org/2000/svg\" xmlns:xlink=\"http://www.w3.org/1999/xlink\" width=\"260pt\" height=\"152pt\" viewBox=\"0.00 0.00 260.00 152.00\">\n<g id=\"graph0\" class=\"graph\" transform=\"scale(1 1) rotate(0) translate(4 148)\">\n<title>my_graph</title>\n<polygon fill=\"white\" stroke=\"transparent\" points=\"-4,4 -4,-148 256,-148 256,4 -4,4\"/>\n<!-- x_G5 -->\n<g id=\"node1\" class=\"node\">\n<title>x_G5</title>\n<text text-anchor=\"middle\" x=\"27\" y=\"-122.3\" font-family=\"Times,serif\" font-size=\"14.00\">x</text>\n</g>\n<!-- LessThanEqual -->\n<g id=\"node4\" class=\"node\">\n<title>LessThanEqual</title>\n<polygon fill=\"none\" stroke=\"black\" points=\"91,-104 91,-121 161,-121 161,-104 91,-104\"/>\n<text text-anchor=\"start\" x=\"94\" y=\"-110\" font-family=\"Times,serif\" font-size=\"10.00\">LessThanEqual</text>\n<polygon fill=\"none\" stroke=\"black\" points=\"91,-83 91,-104 161,-104 161,-83 91,-83\"/>\n<text text-anchor=\"start\" x=\"122.5\" y=\"-89.8\" font-family=\"Times,serif\" font-size=\"14.00\">x</text>\n<polygon fill=\"none\" stroke=\"black\" points=\"91,-62 91,-83 161,-83 161,-62 91,-62\"/>\n<text text-anchor=\"start\" x=\"122.5\" y=\"-68.8\" font-family=\"Times,serif\" font-size=\"14.00\">y</text>\n<polygon fill=\"none\" stroke=\"black\" points=\"91,-41 91,-62 161,-62 161,-41 91,-41\"/>\n<text text-anchor=\"start\" x=\"110.5\" y=\"-47.8\" font-family=\"Times,serif\" font-size=\"14.00\">target</text>\n</g>\n<!-- x_G5&#45;&gt;LessThanEqual -->\n<g id=\"edge1\" class=\"edge\">\n<title>x_G5:e-&gt;LessThanEqual:w</title>\n<path fill=\"none\" stroke=\"black\" d=\"M54,-126C74.89,-126 69.72,-96.45 88.58,-94.14\"/>\n<ellipse fill=\"black\" stroke=\"black\" cx=\"90\" cy=\"-94.06\" rx=\"1\" ry=\"1\"/>\n<text text-anchor=\"middle\" x=\"72.5\" y=\"-113\" font-family=\"Times,serif\" font-size=\"10.00\">n1</text>\n</g>\n<!-- y_G6 -->\n<g id=\"node2\" class=\"node\">\n<title>y_G6</title>\n<text text-anchor=\"middle\" x=\"27\" y=\"-68.3\" font-family=\"Times,serif\" font-size=\"14.00\">y</text>\n</g>\n<!-- y_G6&#45;&gt;LessThanEqual -->\n<g id=\"edge2\" class=\"edge\">\n<title>y_G6:e-&gt;LessThanEqual:w</title>\n<path fill=\"none\" stroke=\"black\" d=\"M54,-72C69.67,-72 74.14,-72 88.77,-72\"/>\n<ellipse fill=\"black\" stroke=\"black\" cx=\"90\" cy=\"-72\" rx=\"1\" ry=\"1\"/>\n<text text-anchor=\"middle\" x=\"72.5\" y=\"-75\" font-family=\"Times,serif\" font-size=\"10.00\">n2</text>\n</g>\n<!-- target_G1 -->\n<g id=\"node3\" class=\"node\">\n<title>target_G1</title>\n<text text-anchor=\"middle\" x=\"27\" y=\"-14.3\" font-family=\"Times,serif\" font-size=\"14.00\">target</text>\n</g>\n<!-- target_G1&#45;&gt;LessThanEqual -->\n<g id=\"edge3\" class=\"edge\">\n<title>target_G1:e-&gt;LessThanEqual:w</title>\n<path fill=\"none\" stroke=\"black\" d=\"M54,-18C75.17,-18 69.47,-48.47 88.55,-50.85\"/>\n<ellipse fill=\"black\" stroke=\"black\" cx=\"90\" cy=\"-50.94\" rx=\"1\" ry=\"1\"/>\n<text text-anchor=\"middle\" x=\"72.5\" y=\"-39\" font-family=\"Times,serif\" font-size=\"10.00\">1</text>\n</g>\n<!-- x_G0 -->\n<g id=\"node5\" class=\"node\">\n<title>x_G0</title>\n<text text-anchor=\"middle\" x=\"225\" y=\"-122.3\" font-family=\"Times,serif\" font-size=\"14.00\">x</text>\n</g>\n<!-- LessThanEqual&#45;&gt;x_G0 -->\n<g id=\"edge4\" class=\"edge\">\n<title>LessThanEqual:e-&gt;x_G0:w</title>\n<path fill=\"none\" stroke=\"black\" d=\"M161,-94C181.89,-94 176.72,-123.55 195.58,-125.86\"/>\n<ellipse fill=\"black\" stroke=\"black\" cx=\"197\" cy=\"-125.94\" rx=\"1\" ry=\"1\"/>\n<text text-anchor=\"middle\" x=\"179.5\" y=\"-113\" font-family=\"Times,serif\" font-size=\"10.00\">n1</text>\n</g>\n<!-- y_G3 -->\n<g id=\"node6\" class=\"node\">\n<title>y_G3</title>\n<text text-anchor=\"middle\" x=\"225\" y=\"-68.3\" font-family=\"Times,serif\" font-size=\"14.00\">y</text>\n</g>\n<!-- LessThanEqual&#45;&gt;y_G3 -->\n<g id=\"edge5\" class=\"edge\">\n<title>LessThanEqual:e-&gt;y_G3:w</title>\n<path fill=\"none\" stroke=\"black\" d=\"M161,-72C176.67,-72 181.14,-72 195.77,-72\"/>\n<ellipse fill=\"black\" stroke=\"black\" cx=\"197\" cy=\"-72\" rx=\"1\" ry=\"1\"/>\n<text text-anchor=\"middle\" x=\"179.5\" y=\"-75\" font-family=\"Times,serif\" font-size=\"10.00\">n2</text>\n</g>\n<!-- target_G2 -->\n<g id=\"node7\" class=\"node\">\n<title>target_G2</title>\n<text text-anchor=\"middle\" x=\"225\" y=\"-14.3\" font-family=\"Times,serif\" font-size=\"14.00\">target</text>\n</g>\n<!-- LessThanEqual&#45;&gt;target_G2 -->\n<g id=\"edge6\" class=\"edge\">\n<title>LessThanEqual:e-&gt;target_G2:w</title>\n<path fill=\"none\" stroke=\"black\" d=\"M161,-51C182.17,-51 176.47,-20.53 195.55,-18.15\"/>\n<ellipse fill=\"black\" stroke=\"black\" cx=\"197\" cy=\"-18.06\" rx=\"1\" ry=\"1\"/>\n<text text-anchor=\"middle\" x=\"179.5\" y=\"-39\" font-family=\"Times,serif\" font-size=\"10.00\">1</text>\n</g>\n</g>\n</svg>",
          "text/plain": "<IPython.core.display.SVG object>"
         },
         "metadata": {},
         "output_type": "display_data"
        }
       ],
       "tabbable": null,
       "tooltip": null
      }
     },
     "4db7b6c939f244a3af2f561c6b677e48": {
      "model_module": "@jupyter-widgets/output",
      "model_module_version": "1.0.0",
      "model_name": "OutputModel",
      "state": {
       "_dom_classes": [],
       "_model_module": "@jupyter-widgets/output",
       "_model_module_version": "1.0.0",
       "_model_name": "OutputModel",
       "_view_count": null,
       "_view_module": "@jupyter-widgets/output",
       "_view_module_version": "1.0.0",
       "_view_name": "OutputView",
       "layout": "IPY_MODEL_e487744fa17c49f89c463eceed520a4b",
       "msg_id": "",
       "outputs": [
        {
         "data": {
          "text/markdown": "`gt_k`",
          "text/plain": "<IPython.core.display.Markdown object>"
         },
         "metadata": {},
         "output_type": "display_data"
        },
        {
         "data": {
          "image/svg+xml": "<svg xmlns=\"http://www.w3.org/2000/svg\" xmlns:xlink=\"http://www.w3.org/1999/xlink\" width=\"284pt\" height=\"98pt\" viewBox=\"0.00 0.00 284.00 98.00\">\n<g id=\"graph0\" class=\"graph\" transform=\"scale(1 1) rotate(0) translate(4 94)\">\n<title>my_graph</title>\n<polygon fill=\"white\" stroke=\"transparent\" points=\"-4,4 -4,-94 280,-94 280,4 -4,4\"/>\n<!-- x_G5 -->\n<g id=\"node1\" class=\"node\">\n<title>x_G5</title>\n<text text-anchor=\"middle\" x=\"27\" y=\"-68.3\" font-family=\"Times,serif\" font-size=\"14.00\">x</text>\n</g>\n<!-- GreaterThanConstant -->\n<g id=\"node3\" class=\"node\">\n<title>GreaterThanConstant</title>\n<polygon fill=\"none\" stroke=\"black\" points=\"91,-66 91,-83 185,-83 185,-66 91,-66\"/>\n<text text-anchor=\"start\" x=\"94\" y=\"-72\" font-family=\"Times,serif\" font-size=\"10.00\">GreaterThanConstant</text>\n<polygon fill=\"none\" stroke=\"black\" points=\"91,-45 91,-66 185,-66 185,-45 91,-45\"/>\n<text text-anchor=\"start\" x=\"134.5\" y=\"-51.8\" font-family=\"Times,serif\" font-size=\"14.00\">x</text>\n<polygon fill=\"none\" stroke=\"black\" points=\"91,-24 91,-45 185,-45 185,-24 91,-24\"/>\n<text text-anchor=\"start\" x=\"122.5\" y=\"-30.8\" font-family=\"Times,serif\" font-size=\"14.00\">target</text>\n</g>\n<!-- x_G5&#45;&gt;GreaterThanConstant -->\n<g id=\"edge1\" class=\"edge\">\n<title>x_G5:e-&gt;GreaterThanConstant:w</title>\n<path fill=\"none\" stroke=\"black\" d=\"M54,-72C71.22,-72 72.97,-57.23 88.98,-56.07\"/>\n<ellipse fill=\"black\" stroke=\"black\" cx=\"90\" cy=\"-56.04\" rx=\"1\" ry=\"1\"/>\n<text text-anchor=\"middle\" x=\"72.5\" y=\"-67\" font-family=\"Times,serif\" font-size=\"10.00\">4</text>\n</g>\n<!-- target_G0 -->\n<g id=\"node2\" class=\"node\">\n<title>target_G0</title>\n<text text-anchor=\"middle\" x=\"27\" y=\"-14.3\" font-family=\"Times,serif\" font-size=\"14.00\">target</text>\n</g>\n<!-- target_G0&#45;&gt;GreaterThanConstant -->\n<g id=\"edge2\" class=\"edge\">\n<title>target_G0:e-&gt;GreaterThanConstant:w</title>\n<path fill=\"none\" stroke=\"black\" d=\"M54,-18C71.22,-18 72.97,-32.77 88.98,-33.93\"/>\n<ellipse fill=\"black\" stroke=\"black\" cx=\"90\" cy=\"-33.96\" rx=\"1\" ry=\"1\"/>\n<text text-anchor=\"middle\" x=\"72.5\" y=\"-29\" font-family=\"Times,serif\" font-size=\"10.00\">1</text>\n</g>\n<!-- x_G4 -->\n<g id=\"node4\" class=\"node\">\n<title>x_G4</title>\n<text text-anchor=\"middle\" x=\"249\" y=\"-68.3\" font-family=\"Times,serif\" font-size=\"14.00\">x</text>\n</g>\n<!-- GreaterThanConstant&#45;&gt;x_G4 -->\n<g id=\"edge3\" class=\"edge\">\n<title>GreaterThanConstant:e-&gt;x_G4:w</title>\n<path fill=\"none\" stroke=\"black\" d=\"M185,-56C202.22,-56 203.97,-70.77 219.98,-71.93\"/>\n<ellipse fill=\"black\" stroke=\"black\" cx=\"221\" cy=\"-71.96\" rx=\"1\" ry=\"1\"/>\n<text text-anchor=\"middle\" x=\"203.5\" y=\"-67\" font-family=\"Times,serif\" font-size=\"10.00\">4</text>\n</g>\n<!-- target_G3 -->\n<g id=\"node5\" class=\"node\">\n<title>target_G3</title>\n<text text-anchor=\"middle\" x=\"249\" y=\"-14.3\" font-family=\"Times,serif\" font-size=\"14.00\">target</text>\n</g>\n<!-- GreaterThanConstant&#45;&gt;target_G3 -->\n<g id=\"edge4\" class=\"edge\">\n<title>GreaterThanConstant:e-&gt;target_G3:w</title>\n<path fill=\"none\" stroke=\"black\" d=\"M185,-34C202.22,-34 203.97,-19.23 219.98,-18.07\"/>\n<ellipse fill=\"black\" stroke=\"black\" cx=\"221\" cy=\"-18.04\" rx=\"1\" ry=\"1\"/>\n<text text-anchor=\"middle\" x=\"203.5\" y=\"-29\" font-family=\"Times,serif\" font-size=\"10.00\">1</text>\n</g>\n</g>\n</svg>",
          "text/plain": "<IPython.core.display.SVG object>"
         },
         "metadata": {},
         "output_type": "display_data"
        }
       ],
       "tabbable": null,
       "tooltip": null
      }
     },
     "4f1c704500664446b0d91e9ef9c4cad9": {
      "model_module": "@jupyter-widgets/base",
      "model_module_version": "2.0.0",
      "model_name": "LayoutModel",
      "state": {
       "_model_module": "@jupyter-widgets/base",
       "_model_module_version": "2.0.0",
       "_model_name": "LayoutModel",
       "_view_count": null,
       "_view_module": "@jupyter-widgets/base",
       "_view_module_version": "2.0.0",
       "_view_name": "LayoutView",
       "align_content": null,
       "align_items": null,
       "align_self": null,
       "border_bottom": null,
       "border_left": null,
       "border_right": null,
       "border_top": null,
       "bottom": null,
       "display": null,
       "flex": null,
       "flex_flow": null,
       "grid_area": null,
       "grid_auto_columns": null,
       "grid_auto_flow": null,
       "grid_auto_rows": null,
       "grid_column": null,
       "grid_gap": null,
       "grid_row": null,
       "grid_template_areas": null,
       "grid_template_columns": null,
       "grid_template_rows": null,
       "height": null,
       "justify_content": null,
       "justify_items": null,
       "left": null,
       "margin": null,
       "max_height": null,
       "max_width": null,
       "min_height": null,
       "min_width": null,
       "object_fit": null,
       "object_position": null,
       "order": null,
       "overflow": null,
       "padding": null,
       "right": null,
       "top": null,
       "visibility": null,
       "width": null
      }
     },
     "4f9ee3b9a23b4115a9bab47b41a63475": {
      "model_module": "@jupyter-widgets/base",
      "model_module_version": "2.0.0",
      "model_name": "LayoutModel",
      "state": {
       "_model_module": "@jupyter-widgets/base",
       "_model_module_version": "2.0.0",
       "_model_name": "LayoutModel",
       "_view_count": null,
       "_view_module": "@jupyter-widgets/base",
       "_view_module_version": "2.0.0",
       "_view_name": "LayoutView",
       "align_content": null,
       "align_items": null,
       "align_self": null,
       "border_bottom": null,
       "border_left": null,
       "border_right": null,
       "border_top": null,
       "bottom": null,
       "display": null,
       "flex": null,
       "flex_flow": null,
       "grid_area": null,
       "grid_auto_columns": null,
       "grid_auto_flow": null,
       "grid_auto_rows": null,
       "grid_column": null,
       "grid_gap": null,
       "grid_row": null,
       "grid_template_areas": null,
       "grid_template_columns": null,
       "grid_template_rows": null,
       "height": null,
       "justify_content": null,
       "justify_items": null,
       "left": null,
       "margin": null,
       "max_height": null,
       "max_width": null,
       "min_height": null,
       "min_width": null,
       "object_fit": null,
       "object_position": null,
       "order": null,
       "overflow": null,
       "padding": null,
       "right": null,
       "top": null,
       "visibility": null,
       "width": null
      }
     },
     "545f7f0b1a0f466181be8adb56c013d8": {
      "model_module": "@jupyter-widgets/base",
      "model_module_version": "2.0.0",
      "model_name": "LayoutModel",
      "state": {
       "_model_module": "@jupyter-widgets/base",
       "_model_module_version": "2.0.0",
       "_model_name": "LayoutModel",
       "_view_count": null,
       "_view_module": "@jupyter-widgets/base",
       "_view_module_version": "2.0.0",
       "_view_name": "LayoutView",
       "align_content": null,
       "align_items": null,
       "align_self": null,
       "border_bottom": null,
       "border_left": null,
       "border_right": null,
       "border_top": null,
       "bottom": null,
       "display": null,
       "flex": null,
       "flex_flow": null,
       "grid_area": null,
       "grid_auto_columns": null,
       "grid_auto_flow": null,
       "grid_auto_rows": null,
       "grid_column": null,
       "grid_gap": null,
       "grid_row": null,
       "grid_template_areas": null,
       "grid_template_columns": null,
       "grid_template_rows": null,
       "height": null,
       "justify_content": null,
       "justify_items": null,
       "left": null,
       "margin": null,
       "max_height": null,
       "max_width": null,
       "min_height": null,
       "min_width": null,
       "object_fit": null,
       "object_position": null,
       "order": null,
       "overflow": null,
       "padding": null,
       "right": null,
       "top": null,
       "visibility": null,
       "width": null
      }
     },
     "56d0ead7b5a345fdb4bf0183cb81ff13": {
      "model_module": "@jupyter-widgets/controls",
      "model_module_version": "2.0.0",
      "model_name": "HBoxModel",
      "state": {
       "_dom_classes": [],
       "_model_module": "@jupyter-widgets/controls",
       "_model_module_version": "2.0.0",
       "_model_name": "HBoxModel",
       "_view_count": null,
       "_view_module": "@jupyter-widgets/controls",
       "_view_module_version": "2.0.0",
       "_view_name": "HBoxView",
       "box_style": "",
       "children": [
        "IPY_MODEL_88dd375fd75442789f468c72e402cda5"
       ],
       "layout": "IPY_MODEL_6c964f10e15d43918693ecac9d4ae4f9",
       "tabbable": null,
       "tooltip": null
      }
     },
     "6326a4d2f1254f0c9b12546c50a3ce33": {
      "model_module": "@jupyter-widgets/base",
      "model_module_version": "2.0.0",
      "model_name": "LayoutModel",
      "state": {
       "_model_module": "@jupyter-widgets/base",
       "_model_module_version": "2.0.0",
       "_model_name": "LayoutModel",
       "_view_count": null,
       "_view_module": "@jupyter-widgets/base",
       "_view_module_version": "2.0.0",
       "_view_name": "LayoutView",
       "align_content": null,
       "align_items": null,
       "align_self": null,
       "border_bottom": null,
       "border_left": null,
       "border_right": null,
       "border_top": null,
       "bottom": null,
       "display": null,
       "flex": null,
       "flex_flow": null,
       "grid_area": null,
       "grid_auto_columns": null,
       "grid_auto_flow": null,
       "grid_auto_rows": null,
       "grid_column": null,
       "grid_gap": null,
       "grid_row": null,
       "grid_template_areas": null,
       "grid_template_columns": null,
       "grid_template_rows": null,
       "height": null,
       "justify_content": null,
       "justify_items": null,
       "left": null,
       "margin": null,
       "max_height": null,
       "max_width": null,
       "min_height": null,
       "min_width": null,
       "object_fit": null,
       "object_position": null,
       "order": null,
       "overflow": null,
       "padding": null,
       "right": null,
       "top": null,
       "visibility": null,
       "width": null
      }
     },
     "6c964f10e15d43918693ecac9d4ae4f9": {
      "model_module": "@jupyter-widgets/base",
      "model_module_version": "2.0.0",
      "model_name": "LayoutModel",
      "state": {
       "_model_module": "@jupyter-widgets/base",
       "_model_module_version": "2.0.0",
       "_model_name": "LayoutModel",
       "_view_count": null,
       "_view_module": "@jupyter-widgets/base",
       "_view_module_version": "2.0.0",
       "_view_name": "LayoutView",
       "align_content": null,
       "align_items": null,
       "align_self": null,
       "border_bottom": null,
       "border_left": null,
       "border_right": null,
       "border_top": null,
       "bottom": null,
       "display": null,
       "flex": null,
       "flex_flow": null,
       "grid_area": null,
       "grid_auto_columns": null,
       "grid_auto_flow": null,
       "grid_auto_rows": null,
       "grid_column": null,
       "grid_gap": null,
       "grid_row": null,
       "grid_template_areas": null,
       "grid_template_columns": null,
       "grid_template_rows": null,
       "height": null,
       "justify_content": null,
       "justify_items": null,
       "left": null,
       "margin": null,
       "max_height": null,
       "max_width": null,
       "min_height": null,
       "min_width": null,
       "object_fit": null,
       "object_position": null,
       "order": null,
       "overflow": null,
       "padding": null,
       "right": null,
       "top": null,
       "visibility": null,
       "width": null
      }
     },
     "74305146279244699389cdb1b51bef20": {
      "model_module": "@jupyter-widgets/output",
      "model_module_version": "1.0.0",
      "model_name": "OutputModel",
      "state": {
       "_dom_classes": [],
       "_model_module": "@jupyter-widgets/output",
       "_model_module_version": "1.0.0",
       "_model_name": "OutputModel",
       "_view_count": null,
       "_view_module": "@jupyter-widgets/output",
       "_view_module_version": "1.0.0",
       "_view_name": "OutputView",
       "layout": "IPY_MODEL_d6829c2322114b7394f94bfc9fa427c0",
       "msg_id": "",
       "outputs": [
        {
         "data": {
          "text/markdown": "`lt_k_symb`",
          "text/plain": "<IPython.core.display.Markdown object>"
         },
         "metadata": {},
         "output_type": "display_data"
        },
        {
         "data": {
          "image/svg+xml": "<svg xmlns=\"http://www.w3.org/2000/svg\" xmlns:xlink=\"http://www.w3.org/1999/xlink\" width=\"272pt\" height=\"98pt\" viewBox=\"0.00 0.00 272.00 98.00\">\n<g id=\"graph0\" class=\"graph\" transform=\"scale(1 1) rotate(0) translate(4 94)\">\n<title>my_graph</title>\n<polygon fill=\"white\" stroke=\"transparent\" points=\"-4,4 -4,-94 268,-94 268,4 -4,4\"/>\n<!-- x_G5 -->\n<g id=\"node1\" class=\"node\">\n<title>x_G5</title>\n<text text-anchor=\"middle\" x=\"27\" y=\"-68.3\" font-family=\"Times,serif\" font-size=\"14.00\">x</text>\n</g>\n<!-- LessThanConstant -->\n<g id=\"node3\" class=\"node\">\n<title>LessThanConstant</title>\n<polygon fill=\"none\" stroke=\"black\" points=\"91,-66 91,-83 173,-83 173,-66 91,-66\"/>\n<text text-anchor=\"start\" x=\"94\" y=\"-72\" font-family=\"Times,serif\" font-size=\"10.00\">LessThanConstant</text>\n<polygon fill=\"none\" stroke=\"black\" points=\"91,-45 91,-66 173,-66 173,-45 91,-45\"/>\n<text text-anchor=\"start\" x=\"128.5\" y=\"-51.8\" font-family=\"Times,serif\" font-size=\"14.00\">x</text>\n<polygon fill=\"none\" stroke=\"black\" points=\"91,-24 91,-45 173,-45 173,-24 91,-24\"/>\n<text text-anchor=\"start\" x=\"116.5\" y=\"-30.8\" font-family=\"Times,serif\" font-size=\"14.00\">target</text>\n</g>\n<!-- x_G5&#45;&gt;LessThanConstant -->\n<g id=\"edge1\" class=\"edge\">\n<title>x_G5:e-&gt;LessThanConstant:w</title>\n<path fill=\"none\" stroke=\"black\" d=\"M54,-72C71.22,-72 72.97,-57.23 88.98,-56.07\"/>\n<ellipse fill=\"black\" stroke=\"black\" cx=\"90\" cy=\"-56.04\" rx=\"1\" ry=\"1\"/>\n<text text-anchor=\"middle\" x=\"72.5\" y=\"-67\" font-family=\"Times,serif\" font-size=\"10.00\">n</text>\n</g>\n<!-- target_G1 -->\n<g id=\"node2\" class=\"node\">\n<title>target_G1</title>\n<text text-anchor=\"middle\" x=\"27\" y=\"-14.3\" font-family=\"Times,serif\" font-size=\"14.00\">target</text>\n</g>\n<!-- target_G1&#45;&gt;LessThanConstant -->\n<g id=\"edge2\" class=\"edge\">\n<title>target_G1:e-&gt;LessThanConstant:w</title>\n<path fill=\"none\" stroke=\"black\" d=\"M54,-18C71.22,-18 72.97,-32.77 88.98,-33.93\"/>\n<ellipse fill=\"black\" stroke=\"black\" cx=\"90\" cy=\"-33.96\" rx=\"1\" ry=\"1\"/>\n<text text-anchor=\"middle\" x=\"72.5\" y=\"-29\" font-family=\"Times,serif\" font-size=\"10.00\">1</text>\n</g>\n<!-- x_G0 -->\n<g id=\"node4\" class=\"node\">\n<title>x_G0</title>\n<text text-anchor=\"middle\" x=\"237\" y=\"-68.3\" font-family=\"Times,serif\" font-size=\"14.00\">x</text>\n</g>\n<!-- LessThanConstant&#45;&gt;x_G0 -->\n<g id=\"edge3\" class=\"edge\">\n<title>LessThanConstant:e-&gt;x_G0:w</title>\n<path fill=\"none\" stroke=\"black\" d=\"M173,-56C190.22,-56 191.97,-70.77 207.98,-71.93\"/>\n<ellipse fill=\"black\" stroke=\"black\" cx=\"209\" cy=\"-71.96\" rx=\"1\" ry=\"1\"/>\n<text text-anchor=\"middle\" x=\"191.5\" y=\"-67\" font-family=\"Times,serif\" font-size=\"10.00\">n</text>\n</g>\n<!-- target_G3 -->\n<g id=\"node5\" class=\"node\">\n<title>target_G3</title>\n<text text-anchor=\"middle\" x=\"237\" y=\"-14.3\" font-family=\"Times,serif\" font-size=\"14.00\">target</text>\n</g>\n<!-- LessThanConstant&#45;&gt;target_G3 -->\n<g id=\"edge4\" class=\"edge\">\n<title>LessThanConstant:e-&gt;target_G3:w</title>\n<path fill=\"none\" stroke=\"black\" d=\"M173,-34C190.22,-34 191.97,-19.23 207.98,-18.07\"/>\n<ellipse fill=\"black\" stroke=\"black\" cx=\"209\" cy=\"-18.04\" rx=\"1\" ry=\"1\"/>\n<text text-anchor=\"middle\" x=\"191.5\" y=\"-29\" font-family=\"Times,serif\" font-size=\"10.00\">1</text>\n</g>\n</g>\n</svg>",
          "text/plain": "<IPython.core.display.SVG object>"
         },
         "metadata": {},
         "output_type": "display_data"
        }
       ],
       "tabbable": null,
       "tooltip": null
      }
     },
     "7c04132918ae4251bf332b1b7abf517b": {
      "model_module": "@jupyter-widgets/base",
      "model_module_version": "2.0.0",
      "model_name": "LayoutModel",
      "state": {
       "_model_module": "@jupyter-widgets/base",
       "_model_module_version": "2.0.0",
       "_model_name": "LayoutModel",
       "_view_count": null,
       "_view_module": "@jupyter-widgets/base",
       "_view_module_version": "2.0.0",
       "_view_name": "LayoutView",
       "align_content": null,
       "align_items": null,
       "align_self": null,
       "border_bottom": null,
       "border_left": null,
       "border_right": null,
       "border_top": null,
       "bottom": null,
       "display": null,
       "flex": null,
       "flex_flow": null,
       "grid_area": null,
       "grid_auto_columns": null,
       "grid_auto_flow": null,
       "grid_auto_rows": null,
       "grid_column": null,
       "grid_gap": null,
       "grid_row": null,
       "grid_template_areas": null,
       "grid_template_columns": null,
       "grid_template_rows": null,
       "height": null,
       "justify_content": null,
       "justify_items": null,
       "left": null,
       "margin": null,
       "max_height": null,
       "max_width": null,
       "min_height": null,
       "min_width": null,
       "object_fit": null,
       "object_position": null,
       "order": null,
       "overflow": null,
       "padding": null,
       "right": null,
       "top": null,
       "visibility": null,
       "width": null
      }
     },
     "845a49dfa62545089dcee97da5372aa8": {
      "model_module": "@jupyter-widgets/controls",
      "model_module_version": "2.0.0",
      "model_name": "HBoxModel",
      "state": {
       "_dom_classes": [],
       "_model_module": "@jupyter-widgets/controls",
       "_model_module_version": "2.0.0",
       "_model_name": "HBoxModel",
       "_view_count": null,
       "_view_module": "@jupyter-widgets/controls",
       "_view_module_version": "2.0.0",
       "_view_name": "HBoxView",
       "box_style": "",
       "children": [
        "IPY_MODEL_4db7b6c939f244a3af2f561c6b677e48"
       ],
       "layout": "IPY_MODEL_2def5c1730ae46d2a19f9e16f1a7c886",
       "tabbable": null,
       "tooltip": null
      }
     },
     "88dd375fd75442789f468c72e402cda5": {
      "model_module": "@jupyter-widgets/output",
      "model_module_version": "1.0.0",
      "model_name": "OutputModel",
      "state": {
       "_dom_classes": [],
       "_model_module": "@jupyter-widgets/output",
       "_model_module_version": "1.0.0",
       "_model_name": "OutputModel",
       "_view_count": null,
       "_view_module": "@jupyter-widgets/output",
       "_view_module_version": "1.0.0",
       "_view_name": "OutputView",
       "layout": "IPY_MODEL_17efd4e12b5c46b59b4f8ec3c1114d55",
       "msg_id": "",
       "outputs": [
        {
         "data": {
          "text/markdown": "`eq_k`",
          "text/plain": "<IPython.core.display.Markdown object>"
         },
         "metadata": {},
         "output_type": "display_data"
        },
        {
         "data": {
          "image/svg+xml": "<svg xmlns=\"http://www.w3.org/2000/svg\" xmlns:xlink=\"http://www.w3.org/1999/xlink\" width=\"269pt\" height=\"98pt\" viewBox=\"0.00 0.00 269.00 98.00\">\n<g id=\"graph0\" class=\"graph\" transform=\"scale(1 1) rotate(0) translate(4 94)\">\n<title>my_graph</title>\n<polygon fill=\"white\" stroke=\"transparent\" points=\"-4,4 -4,-94 265,-94 265,4 -4,4\"/>\n<!-- x_G5 -->\n<g id=\"node1\" class=\"node\">\n<title>x_G5</title>\n<text text-anchor=\"middle\" x=\"27\" y=\"-68.3\" font-family=\"Times,serif\" font-size=\"14.00\">x</text>\n</g>\n<!-- EqualsAConstant -->\n<g id=\"node3\" class=\"node\">\n<title>EqualsAConstant</title>\n<polygon fill=\"none\" stroke=\"black\" points=\"91.5,-66 91.5,-83 170.5,-83 170.5,-66 91.5,-66\"/>\n<text text-anchor=\"start\" x=\"94.5\" y=\"-72\" font-family=\"Times,serif\" font-size=\"10.00\">EqualsAConstant</text>\n<polygon fill=\"none\" stroke=\"black\" points=\"91.5,-45 91.5,-66 170.5,-66 170.5,-45 91.5,-45\"/>\n<text text-anchor=\"start\" x=\"127.5\" y=\"-51.8\" font-family=\"Times,serif\" font-size=\"14.00\">x</text>\n<polygon fill=\"none\" stroke=\"black\" points=\"91.5,-24 91.5,-45 170.5,-45 170.5,-24 91.5,-24\"/>\n<text text-anchor=\"start\" x=\"115.5\" y=\"-30.8\" font-family=\"Times,serif\" font-size=\"14.00\">target</text>\n</g>\n<!-- x_G5&#45;&gt;EqualsAConstant -->\n<g id=\"edge1\" class=\"edge\">\n<title>x_G5:e-&gt;EqualsAConstant:w</title>\n<path fill=\"none\" stroke=\"black\" d=\"M54,-72C71.22,-72 72.97,-57.23 88.98,-56.07\"/>\n<ellipse fill=\"black\" stroke=\"black\" cx=\"90\" cy=\"-56.04\" rx=\"1\" ry=\"1\"/>\n<text text-anchor=\"middle\" x=\"72.5\" y=\"-67\" font-family=\"Times,serif\" font-size=\"10.00\">4</text>\n</g>\n<!-- target_G0 -->\n<g id=\"node2\" class=\"node\">\n<title>target_G0</title>\n<text text-anchor=\"middle\" x=\"27\" y=\"-14.3\" font-family=\"Times,serif\" font-size=\"14.00\">target</text>\n</g>\n<!-- target_G0&#45;&gt;EqualsAConstant -->\n<g id=\"edge2\" class=\"edge\">\n<title>target_G0:e-&gt;EqualsAConstant:w</title>\n<path fill=\"none\" stroke=\"black\" d=\"M54,-18C71.22,-18 72.97,-32.77 88.98,-33.93\"/>\n<ellipse fill=\"black\" stroke=\"black\" cx=\"90\" cy=\"-33.96\" rx=\"1\" ry=\"1\"/>\n<text text-anchor=\"middle\" x=\"72.5\" y=\"-29\" font-family=\"Times,serif\" font-size=\"10.00\">1</text>\n</g>\n<!-- x_G4 -->\n<g id=\"node4\" class=\"node\">\n<title>x_G4</title>\n<text text-anchor=\"middle\" x=\"234\" y=\"-68.3\" font-family=\"Times,serif\" font-size=\"14.00\">x</text>\n</g>\n<!-- EqualsAConstant&#45;&gt;x_G4 -->\n<g id=\"edge3\" class=\"edge\">\n<title>EqualsAConstant:e-&gt;x_G4:w</title>\n<path fill=\"none\" stroke=\"black\" d=\"M170,-56C187.22,-56 188.97,-70.77 204.98,-71.93\"/>\n<ellipse fill=\"black\" stroke=\"black\" cx=\"206\" cy=\"-71.96\" rx=\"1\" ry=\"1\"/>\n<text text-anchor=\"middle\" x=\"188.5\" y=\"-67\" font-family=\"Times,serif\" font-size=\"10.00\">4</text>\n</g>\n<!-- target_G3 -->\n<g id=\"node5\" class=\"node\">\n<title>target_G3</title>\n<text text-anchor=\"middle\" x=\"234\" y=\"-14.3\" font-family=\"Times,serif\" font-size=\"14.00\">target</text>\n</g>\n<!-- EqualsAConstant&#45;&gt;target_G3 -->\n<g id=\"edge4\" class=\"edge\">\n<title>EqualsAConstant:e-&gt;target_G3:w</title>\n<path fill=\"none\" stroke=\"black\" d=\"M170,-34C187.22,-34 188.97,-19.23 204.98,-18.07\"/>\n<ellipse fill=\"black\" stroke=\"black\" cx=\"206\" cy=\"-18.04\" rx=\"1\" ry=\"1\"/>\n<text text-anchor=\"middle\" x=\"188.5\" y=\"-29\" font-family=\"Times,serif\" font-size=\"10.00\">1</text>\n</g>\n</g>\n</svg>",
          "text/plain": "<IPython.core.display.SVG object>"
         },
         "metadata": {},
         "output_type": "display_data"
        }
       ],
       "tabbable": null,
       "tooltip": null
      }
     },
     "891b5c85c62c49d58f58b96bddf2e421": {
      "model_module": "@jupyter-widgets/base",
      "model_module_version": "2.0.0",
      "model_name": "LayoutModel",
      "state": {
       "_model_module": "@jupyter-widgets/base",
       "_model_module_version": "2.0.0",
       "_model_name": "LayoutModel",
       "_view_count": null,
       "_view_module": "@jupyter-widgets/base",
       "_view_module_version": "2.0.0",
       "_view_name": "LayoutView",
       "align_content": null,
       "align_items": null,
       "align_self": null,
       "border_bottom": null,
       "border_left": null,
       "border_right": null,
       "border_top": null,
       "bottom": null,
       "display": null,
       "flex": null,
       "flex_flow": null,
       "grid_area": null,
       "grid_auto_columns": null,
       "grid_auto_flow": null,
       "grid_auto_rows": null,
       "grid_column": null,
       "grid_gap": null,
       "grid_row": null,
       "grid_template_areas": null,
       "grid_template_columns": null,
       "grid_template_rows": null,
       "height": null,
       "justify_content": null,
       "justify_items": null,
       "left": null,
       "margin": null,
       "max_height": null,
       "max_width": null,
       "min_height": null,
       "min_width": null,
       "object_fit": null,
       "object_position": null,
       "order": null,
       "overflow": null,
       "padding": null,
       "right": null,
       "top": null,
       "visibility": null,
       "width": null
      }
     },
     "90d404a3bd6d4b2481bbc81c9b713182": {
      "model_module": "@jupyter-widgets/controls",
      "model_module_version": "2.0.0",
      "model_name": "HBoxModel",
      "state": {
       "_dom_classes": [],
       "_model_module": "@jupyter-widgets/controls",
       "_model_module_version": "2.0.0",
       "_model_name": "HBoxModel",
       "_view_count": null,
       "_view_module": "@jupyter-widgets/controls",
       "_view_module_version": "2.0.0",
       "_view_name": "HBoxView",
       "box_style": "",
       "children": [
        "IPY_MODEL_1998b43bcaa94908af33b4daf9d51464"
       ],
       "layout": "IPY_MODEL_1d3ec04f03ad4275b09ee6f311935373",
       "tabbable": null,
       "tooltip": null
      }
     },
     "939e3e53bdf44ba8b55db1842006c49b": {
      "model_module": "@jupyter-widgets/output",
      "model_module_version": "1.0.0",
      "model_name": "OutputModel",
      "state": {
       "_dom_classes": [],
       "_model_module": "@jupyter-widgets/output",
       "_model_module_version": "1.0.0",
       "_model_name": "OutputModel",
       "_view_count": null,
       "_view_module": "@jupyter-widgets/output",
       "_view_module_version": "1.0.0",
       "_view_name": "OutputView",
       "layout": "IPY_MODEL_c35dc50b74b04f5f8525206a0adaac5c",
       "msg_id": "",
       "outputs": [
        {
         "data": {
          "text/markdown": "`clineardepthgreaterthan_example`",
          "text/plain": "<IPython.core.display.Markdown object>"
         },
         "metadata": {},
         "output_type": "display_data"
        },
        {
         "data": {
          "image/svg+xml": "<svg xmlns=\"http://www.w3.org/2000/svg\" xmlns:xlink=\"http://www.w3.org/1999/xlink\" width=\"306pt\" height=\"206pt\" viewBox=\"0.00 0.00 306.00 206.00\">\n<g id=\"graph0\" class=\"graph\" transform=\"scale(1 1) rotate(0) translate(4 202)\">\n<title>my_graph</title>\n<polygon fill=\"white\" stroke=\"transparent\" points=\"-4,4 -4,-202 302,-202 302,4 -4,4\"/>\n<!-- ctrl_G3 -->\n<g id=\"node1\" class=\"node\">\n<title>ctrl_G3</title>\n<text text-anchor=\"middle\" x=\"27\" y=\"-176.3\" font-family=\"Times,serif\" font-size=\"14.00\">ctrl</text>\n</g>\n<!-- CLinearDepthGreaterThan -->\n<g id=\"node5\" class=\"node\">\n<title>CLinearDepthGreaterThan</title>\n<polygon fill=\"none\" stroke=\"black\" points=\"91,-141 91,-158 207,-158 207,-141 91,-141\"/>\n<text text-anchor=\"start\" x=\"94\" y=\"-147\" font-family=\"Times,serif\" font-size=\"10.00\">CLinearDepthGreaterThan</text>\n<polygon fill=\"none\" stroke=\"black\" points=\"91,-120 91,-141 207,-141 207,-120 91,-120\"/>\n<text text-anchor=\"start\" x=\"139.5\" y=\"-126.8\" font-family=\"Times,serif\" font-size=\"14.00\">ctrl</text>\n<polygon fill=\"none\" stroke=\"black\" points=\"91,-99 91,-120 207,-120 207,-99 91,-99\"/>\n<text text-anchor=\"start\" x=\"145.5\" y=\"-105.8\" font-family=\"Times,serif\" font-size=\"14.00\">a</text>\n<polygon fill=\"none\" stroke=\"black\" points=\"91,-78 91,-99 207,-99 207,-78 91,-78\"/>\n<text text-anchor=\"start\" x=\"145.5\" y=\"-84.8\" font-family=\"Times,serif\" font-size=\"14.00\">b</text>\n<polygon fill=\"none\" stroke=\"black\" points=\"91,-57 91,-78 207,-78 207,-57 91,-57\"/>\n<text text-anchor=\"start\" x=\"133.5\" y=\"-63.8\" font-family=\"Times,serif\" font-size=\"14.00\">target</text>\n</g>\n<!-- ctrl_G3&#45;&gt;CLinearDepthGreaterThan -->\n<g id=\"edge1\" class=\"edge\">\n<title>ctrl_G3:e-&gt;CLinearDepthGreaterThan:w</title>\n<path fill=\"none\" stroke=\"black\" d=\"M54,-180C80.54,-180 64.64,-133.64 88.86,-131.11\"/>\n<ellipse fill=\"black\" stroke=\"black\" cx=\"90\" cy=\"-131.05\" rx=\"1\" ry=\"1\"/>\n<text text-anchor=\"middle\" x=\"72.5\" y=\"-159\" font-family=\"Times,serif\" font-size=\"10.00\">1</text>\n</g>\n<!-- a_G10 -->\n<g id=\"node2\" class=\"node\">\n<title>a_G10</title>\n<text text-anchor=\"middle\" x=\"27\" y=\"-122.3\" font-family=\"Times,serif\" font-size=\"14.00\">a</text>\n</g>\n<!-- a_G10&#45;&gt;CLinearDepthGreaterThan -->\n<g id=\"edge2\" class=\"edge\">\n<title>a_G10:e-&gt;CLinearDepthGreaterThan:w</title>\n<path fill=\"none\" stroke=\"black\" d=\"M54,-126C71.22,-126 72.97,-111.23 88.98,-110.07\"/>\n<ellipse fill=\"black\" stroke=\"black\" cx=\"90\" cy=\"-110.04\" rx=\"1\" ry=\"1\"/>\n<text text-anchor=\"middle\" x=\"72.5\" y=\"-121\" font-family=\"Times,serif\" font-size=\"10.00\">5</text>\n</g>\n<!-- b_G0 -->\n<g id=\"node3\" class=\"node\">\n<title>b_G0</title>\n<text text-anchor=\"middle\" x=\"27\" y=\"-68.3\" font-family=\"Times,serif\" font-size=\"14.00\">b</text>\n</g>\n<!-- b_G0&#45;&gt;CLinearDepthGreaterThan -->\n<g id=\"edge3\" class=\"edge\">\n<title>b_G0:e-&gt;CLinearDepthGreaterThan:w</title>\n<path fill=\"none\" stroke=\"black\" d=\"M54,-72C71.22,-72 72.97,-86.77 88.98,-87.93\"/>\n<ellipse fill=\"black\" stroke=\"black\" cx=\"90\" cy=\"-87.96\" rx=\"1\" ry=\"1\"/>\n<text text-anchor=\"middle\" x=\"72.5\" y=\"-83\" font-family=\"Times,serif\" font-size=\"10.00\">5</text>\n</g>\n<!-- target_G1 -->\n<g id=\"node4\" class=\"node\">\n<title>target_G1</title>\n<text text-anchor=\"middle\" x=\"27\" y=\"-14.3\" font-family=\"Times,serif\" font-size=\"14.00\">target</text>\n</g>\n<!-- target_G1&#45;&gt;CLinearDepthGreaterThan -->\n<g id=\"edge4\" class=\"edge\">\n<title>target_G1:e-&gt;CLinearDepthGreaterThan:w</title>\n<path fill=\"none\" stroke=\"black\" d=\"M54,-18C80.54,-18 64.64,-64.36 88.86,-66.89\"/>\n<ellipse fill=\"black\" stroke=\"black\" cx=\"90\" cy=\"-66.95\" rx=\"1\" ry=\"1\"/>\n<text text-anchor=\"middle\" x=\"72.5\" y=\"-47\" font-family=\"Times,serif\" font-size=\"10.00\">1</text>\n</g>\n<!-- ctrl_G8 -->\n<g id=\"node6\" class=\"node\">\n<title>ctrl_G8</title>\n<text text-anchor=\"middle\" x=\"271\" y=\"-176.3\" font-family=\"Times,serif\" font-size=\"14.00\">ctrl</text>\n</g>\n<!-- CLinearDepthGreaterThan&#45;&gt;ctrl_G8 -->\n<g id=\"edge5\" class=\"edge\">\n<title>CLinearDepthGreaterThan:e-&gt;ctrl_G8:w</title>\n<path fill=\"none\" stroke=\"black\" d=\"M207,-131C233.54,-131 217.64,-177.36 241.86,-179.89\"/>\n<ellipse fill=\"black\" stroke=\"black\" cx=\"243\" cy=\"-179.95\" rx=\"1\" ry=\"1\"/>\n<text text-anchor=\"middle\" x=\"225.5\" y=\"-159\" font-family=\"Times,serif\" font-size=\"10.00\">1</text>\n</g>\n<!-- a_G6 -->\n<g id=\"node7\" class=\"node\">\n<title>a_G6</title>\n<text text-anchor=\"middle\" x=\"271\" y=\"-122.3\" font-family=\"Times,serif\" font-size=\"14.00\">a</text>\n</g>\n<!-- CLinearDepthGreaterThan&#45;&gt;a_G6 -->\n<g id=\"edge6\" class=\"edge\">\n<title>CLinearDepthGreaterThan:e-&gt;a_G6:w</title>\n<path fill=\"none\" stroke=\"black\" d=\"M207,-110C224.22,-110 225.97,-124.77 241.98,-125.93\"/>\n<ellipse fill=\"black\" stroke=\"black\" cx=\"243\" cy=\"-125.96\" rx=\"1\" ry=\"1\"/>\n<text text-anchor=\"middle\" x=\"225.5\" y=\"-121\" font-family=\"Times,serif\" font-size=\"10.00\">5</text>\n</g>\n<!-- b_G11 -->\n<g id=\"node8\" class=\"node\">\n<title>b_G11</title>\n<text text-anchor=\"middle\" x=\"271\" y=\"-68.3\" font-family=\"Times,serif\" font-size=\"14.00\">b</text>\n</g>\n<!-- CLinearDepthGreaterThan&#45;&gt;b_G11 -->\n<g id=\"edge7\" class=\"edge\">\n<title>CLinearDepthGreaterThan:e-&gt;b_G11:w</title>\n<path fill=\"none\" stroke=\"black\" d=\"M207,-88C224.22,-88 225.97,-73.23 241.98,-72.07\"/>\n<ellipse fill=\"black\" stroke=\"black\" cx=\"243\" cy=\"-72.04\" rx=\"1\" ry=\"1\"/>\n<text text-anchor=\"middle\" x=\"225.5\" y=\"-83\" font-family=\"Times,serif\" font-size=\"10.00\">5</text>\n</g>\n<!-- target_G4 -->\n<g id=\"node9\" class=\"node\">\n<title>target_G4</title>\n<text text-anchor=\"middle\" x=\"271\" y=\"-14.3\" font-family=\"Times,serif\" font-size=\"14.00\">target</text>\n</g>\n<!-- CLinearDepthGreaterThan&#45;&gt;target_G4 -->\n<g id=\"edge8\" class=\"edge\">\n<title>CLinearDepthGreaterThan:e-&gt;target_G4:w</title>\n<path fill=\"none\" stroke=\"black\" d=\"M207,-67C233.54,-67 217.64,-20.64 241.86,-18.11\"/>\n<ellipse fill=\"black\" stroke=\"black\" cx=\"243\" cy=\"-18.05\" rx=\"1\" ry=\"1\"/>\n<text text-anchor=\"middle\" x=\"225.5\" y=\"-47\" font-family=\"Times,serif\" font-size=\"10.00\">1</text>\n</g>\n</g>\n</svg>",
          "text/plain": "<IPython.core.display.SVG object>"
         },
         "metadata": {},
         "output_type": "display_data"
        }
       ],
       "tabbable": null,
       "tooltip": null
      }
     },
     "99db653b64af4b6cb7dadd778b65439f": {
      "model_module": "@jupyter-widgets/output",
      "model_module_version": "1.0.0",
      "model_name": "OutputModel",
      "state": {
       "_dom_classes": [],
       "_model_module": "@jupyter-widgets/output",
       "_model_module_version": "1.0.0",
       "_model_name": "OutputModel",
       "_view_count": null,
       "_view_module": "@jupyter-widgets/output",
       "_view_module_version": "1.0.0",
       "_view_name": "OutputView",
       "layout": "IPY_MODEL_32235f4a35a640b6b1ee483d4e80e865",
       "msg_id": "",
       "outputs": [
        {
         "data": {
          "text/markdown": "`bi_qubits_mixer`",
          "text/plain": "<IPython.core.display.Markdown object>"
         },
         "metadata": {},
         "output_type": "display_data"
        },
        {
         "data": {
          "image/svg+xml": "<svg xmlns=\"http://www.w3.org/2000/svg\" xmlns:xlink=\"http://www.w3.org/1999/xlink\" width=\"259pt\" height=\"152pt\" viewBox=\"0.00 0.00 259.00 152.00\">\n<g id=\"graph0\" class=\"graph\" transform=\"scale(1 1) rotate(0) translate(4 148)\">\n<title>my_graph</title>\n<polygon fill=\"white\" stroke=\"transparent\" points=\"-4,4 -4,-148 255,-148 255,4 -4,4\"/>\n<!-- x_G6 -->\n<g id=\"node1\" class=\"node\">\n<title>x_G6</title>\n<text text-anchor=\"middle\" x=\"27\" y=\"-106.3\" font-family=\"Times,serif\" font-size=\"14.00\">x</text>\n</g>\n<!-- BiQubitsMixer -->\n<g id=\"node3\" class=\"node\">\n<title>BiQubitsMixer</title>\n<polygon fill=\"none\" stroke=\"black\" points=\"91.5,-104 91.5,-121 160.5,-121 160.5,-104 91.5,-104\"/>\n<text text-anchor=\"start\" x=\"94.5\" y=\"-110\" font-family=\"Times,serif\" font-size=\"10.00\">BiQubitsMixer</text>\n<polygon fill=\"none\" stroke=\"black\" points=\"91.5,-83 91.5,-104 160.5,-104 160.5,-83 91.5,-83\"/>\n<text text-anchor=\"start\" x=\"122.5\" y=\"-89.8\" font-family=\"Times,serif\" font-size=\"14.00\">x</text>\n<polygon fill=\"none\" stroke=\"black\" points=\"91.5,-62 91.5,-83 160.5,-83 160.5,-62 91.5,-62\"/>\n<text text-anchor=\"start\" x=\"122.5\" y=\"-68.8\" font-family=\"Times,serif\" font-size=\"14.00\">y</text>\n<polygon fill=\"none\" stroke=\"black\" points=\"91.5,-41 91.5,-62 107.5,-62 107.5,-41 91.5,-41\"/>\n<polygon fill=\"none\" stroke=\"black\" points=\"107.5,-41 107.5,-62 160.5,-62 160.5,-41 107.5,-41\"/>\n<text text-anchor=\"start\" x=\"115.5\" y=\"-47.8\" font-family=\"Times,serif\" font-size=\"14.00\">ancilla</text>\n</g>\n<!-- x_G6&#45;&gt;BiQubitsMixer -->\n<g id=\"edge1\" class=\"edge\">\n<title>x_G6:e-&gt;BiQubitsMixer:w</title>\n<path fill=\"none\" stroke=\"black\" d=\"M54,-110C71.22,-110 72.97,-95.23 88.98,-94.07\"/>\n<ellipse fill=\"black\" stroke=\"black\" cx=\"90\" cy=\"-94.04\" rx=\"1\" ry=\"1\"/>\n<text text-anchor=\"middle\" x=\"72.5\" y=\"-105\" font-family=\"Times,serif\" font-size=\"10.00\">2</text>\n</g>\n<!-- y_G3 -->\n<g id=\"node2\" class=\"node\">\n<title>y_G3</title>\n<text text-anchor=\"middle\" x=\"27\" y=\"-52.3\" font-family=\"Times,serif\" font-size=\"14.00\">y</text>\n</g>\n<!-- y_G3&#45;&gt;BiQubitsMixer -->\n<g id=\"edge2\" class=\"edge\">\n<title>y_G3:e-&gt;BiQubitsMixer:w</title>\n<path fill=\"none\" stroke=\"black\" d=\"M54,-56C71.22,-56 72.97,-70.77 88.98,-71.93\"/>\n<ellipse fill=\"black\" stroke=\"black\" cx=\"90\" cy=\"-71.96\" rx=\"1\" ry=\"1\"/>\n<text text-anchor=\"middle\" x=\"72.5\" y=\"-68\" font-family=\"Times,serif\" font-size=\"10.00\">2</text>\n</g>\n<!-- x_G0 -->\n<g id=\"node4\" class=\"node\">\n<title>x_G0</title>\n<text text-anchor=\"middle\" x=\"224\" y=\"-122.3\" font-family=\"Times,serif\" font-size=\"14.00\">x</text>\n</g>\n<!-- BiQubitsMixer&#45;&gt;x_G0 -->\n<g id=\"edge3\" class=\"edge\">\n<title>BiQubitsMixer:e-&gt;x_G0:w</title>\n<path fill=\"none\" stroke=\"black\" d=\"M160,-94C180.89,-94 175.72,-123.55 194.58,-125.86\"/>\n<ellipse fill=\"black\" stroke=\"black\" cx=\"196\" cy=\"-125.94\" rx=\"1\" ry=\"1\"/>\n<text text-anchor=\"middle\" x=\"178.5\" y=\"-113\" font-family=\"Times,serif\" font-size=\"10.00\">2</text>\n</g>\n<!-- y_G1 -->\n<g id=\"node5\" class=\"node\">\n<title>y_G1</title>\n<text text-anchor=\"middle\" x=\"224\" y=\"-68.3\" font-family=\"Times,serif\" font-size=\"14.00\">y</text>\n</g>\n<!-- BiQubitsMixer&#45;&gt;y_G1 -->\n<g id=\"edge4\" class=\"edge\">\n<title>BiQubitsMixer:e-&gt;y_G1:w</title>\n<path fill=\"none\" stroke=\"black\" d=\"M160,-72C175.67,-72 180.14,-72 194.77,-72\"/>\n<ellipse fill=\"black\" stroke=\"black\" cx=\"196\" cy=\"-72\" rx=\"1\" ry=\"1\"/>\n<text text-anchor=\"middle\" x=\"178.5\" y=\"-75\" font-family=\"Times,serif\" font-size=\"10.00\">2</text>\n</g>\n<!-- ancilla_G2 -->\n<g id=\"node6\" class=\"node\">\n<title>ancilla_G2</title>\n<text text-anchor=\"middle\" x=\"224\" y=\"-14.3\" font-family=\"Times,serif\" font-size=\"14.00\">ancilla</text>\n</g>\n<!-- BiQubitsMixer&#45;&gt;ancilla_G2 -->\n<g id=\"edge5\" class=\"edge\">\n<title>BiQubitsMixer:e-&gt;ancilla_G2:w</title>\n<path fill=\"none\" stroke=\"black\" d=\"M160,-51C181.17,-51 175.47,-20.53 194.55,-18.15\"/>\n<ellipse fill=\"black\" stroke=\"black\" cx=\"196\" cy=\"-18.06\" rx=\"1\" ry=\"1\"/>\n<text text-anchor=\"middle\" x=\"178.5\" y=\"-39\" font-family=\"Times,serif\" font-size=\"10.00\">3</text>\n</g>\n</g>\n</svg>",
          "text/plain": "<IPython.core.display.SVG object>"
         },
         "metadata": {},
         "output_type": "display_data"
        }
       ],
       "tabbable": null,
       "tooltip": null
      }
     },
     "9b80968626e9419fbc56bd4e44dac9d7": {
      "model_module": "@jupyter-widgets/controls",
      "model_module_version": "2.0.0",
      "model_name": "HBoxModel",
      "state": {
       "_dom_classes": [],
       "_model_module": "@jupyter-widgets/controls",
       "_model_module_version": "2.0.0",
       "_model_name": "HBoxModel",
       "_view_count": null,
       "_view_module": "@jupyter-widgets/controls",
       "_view_module_version": "2.0.0",
       "_view_name": "HBoxView",
       "box_style": "",
       "children": [
        "IPY_MODEL_99db653b64af4b6cb7dadd778b65439f"
       ],
       "layout": "IPY_MODEL_891b5c85c62c49d58f58b96bddf2e421",
       "tabbable": null,
       "tooltip": null
      }
     },
     "ac21670e97f04d7e9ecdac0931b9ac9c": {
      "model_module": "@jupyter-widgets/base",
      "model_module_version": "2.0.0",
      "model_name": "LayoutModel",
      "state": {
       "_model_module": "@jupyter-widgets/base",
       "_model_module_version": "2.0.0",
       "_model_name": "LayoutModel",
       "_view_count": null,
       "_view_module": "@jupyter-widgets/base",
       "_view_module_version": "2.0.0",
       "_view_name": "LayoutView",
       "align_content": null,
       "align_items": null,
       "align_self": null,
       "border_bottom": null,
       "border_left": null,
       "border_right": null,
       "border_top": null,
       "bottom": null,
       "display": null,
       "flex": null,
       "flex_flow": null,
       "grid_area": null,
       "grid_auto_columns": null,
       "grid_auto_flow": null,
       "grid_auto_rows": null,
       "grid_column": null,
       "grid_gap": null,
       "grid_row": null,
       "grid_template_areas": null,
       "grid_template_columns": null,
       "grid_template_rows": null,
       "height": null,
       "justify_content": null,
       "justify_items": null,
       "left": null,
       "margin": null,
       "max_height": null,
       "max_width": null,
       "min_height": null,
       "min_width": null,
       "object_fit": null,
       "object_position": null,
       "order": null,
       "overflow": null,
       "padding": null,
       "right": null,
       "top": null,
       "visibility": null,
       "width": null
      }
     },
     "b36cdfbbaf6746788b1cbd8a0cb11131": {
      "model_module": "@jupyter-widgets/controls",
      "model_module_version": "2.0.0",
      "model_name": "HBoxModel",
      "state": {
       "_dom_classes": [],
       "_model_module": "@jupyter-widgets/controls",
       "_model_module_version": "2.0.0",
       "_model_name": "HBoxModel",
       "_view_count": null,
       "_view_module": "@jupyter-widgets/controls",
       "_view_module_version": "2.0.0",
       "_view_name": "HBoxView",
       "box_style": "",
       "children": [
        "IPY_MODEL_488f8eef491743b8a69a3f34ace6f6a2",
        "IPY_MODEL_49eb178e07644b25ad9d59172593b183"
       ],
       "layout": "IPY_MODEL_4f1c704500664446b0d91e9ef9c4cad9",
       "tabbable": null,
       "tooltip": null
      }
     },
     "c35dc50b74b04f5f8525206a0adaac5c": {
      "model_module": "@jupyter-widgets/base",
      "model_module_version": "2.0.0",
      "model_name": "LayoutModel",
      "state": {
       "_model_module": "@jupyter-widgets/base",
       "_model_module_version": "2.0.0",
       "_model_name": "LayoutModel",
       "_view_count": null,
       "_view_module": "@jupyter-widgets/base",
       "_view_module_version": "2.0.0",
       "_view_name": "LayoutView",
       "align_content": null,
       "align_items": null,
       "align_self": null,
       "border_bottom": null,
       "border_left": null,
       "border_right": null,
       "border_top": null,
       "bottom": null,
       "display": null,
       "flex": null,
       "flex_flow": null,
       "grid_area": null,
       "grid_auto_columns": null,
       "grid_auto_flow": null,
       "grid_auto_rows": null,
       "grid_column": null,
       "grid_gap": null,
       "grid_row": null,
       "grid_template_areas": null,
       "grid_template_columns": null,
       "grid_template_rows": null,
       "height": null,
       "justify_content": null,
       "justify_items": null,
       "left": null,
       "margin": null,
       "max_height": null,
       "max_width": null,
       "min_height": null,
       "min_width": null,
       "object_fit": null,
       "object_position": null,
       "order": null,
       "overflow": null,
       "padding": null,
       "right": null,
       "top": null,
       "visibility": null,
       "width": null
      }
     },
     "cb66b14874314fa38c759484c2c9942d": {
      "model_module": "@jupyter-widgets/base",
      "model_module_version": "2.0.0",
      "model_name": "LayoutModel",
      "state": {
       "_model_module": "@jupyter-widgets/base",
       "_model_module_version": "2.0.0",
       "_model_name": "LayoutModel",
       "_view_count": null,
       "_view_module": "@jupyter-widgets/base",
       "_view_module_version": "2.0.0",
       "_view_name": "LayoutView",
       "align_content": null,
       "align_items": null,
       "align_self": null,
       "border_bottom": null,
       "border_left": null,
       "border_right": null,
       "border_top": null,
       "bottom": null,
       "display": null,
       "flex": null,
       "flex_flow": null,
       "grid_area": null,
       "grid_auto_columns": null,
       "grid_auto_flow": null,
       "grid_auto_rows": null,
       "grid_column": null,
       "grid_gap": null,
       "grid_row": null,
       "grid_template_areas": null,
       "grid_template_columns": null,
       "grid_template_rows": null,
       "height": null,
       "justify_content": null,
       "justify_items": null,
       "left": null,
       "margin": null,
       "max_height": null,
       "max_width": null,
       "min_height": null,
       "min_width": null,
       "object_fit": null,
       "object_position": null,
       "order": null,
       "overflow": null,
       "padding": null,
       "right": null,
       "top": null,
       "visibility": null,
       "width": null
      }
     },
     "d1997ffedb0e42cf8f42ea3386eaae23": {
      "model_module": "@jupyter-widgets/output",
      "model_module_version": "1.0.0",
      "model_name": "OutputModel",
      "state": {
       "_dom_classes": [],
       "_model_module": "@jupyter-widgets/output",
       "_model_module_version": "1.0.0",
       "_model_name": "OutputModel",
       "_view_count": null,
       "_view_module": "@jupyter-widgets/output",
       "_view_module_version": "1.0.0",
       "_view_name": "OutputView",
       "layout": "IPY_MODEL_cb66b14874314fa38c759484c2c9942d",
       "msg_id": "",
       "outputs": [
        {
         "data": {
          "text/markdown": "`lt_k`",
          "text/plain": "<IPython.core.display.Markdown object>"
         },
         "metadata": {},
         "output_type": "display_data"
        },
        {
         "data": {
          "image/svg+xml": "<svg xmlns=\"http://www.w3.org/2000/svg\" xmlns:xlink=\"http://www.w3.org/1999/xlink\" width=\"272pt\" height=\"98pt\" viewBox=\"0.00 0.00 272.00 98.00\">\n<g id=\"graph0\" class=\"graph\" transform=\"scale(1 1) rotate(0) translate(4 94)\">\n<title>my_graph</title>\n<polygon fill=\"white\" stroke=\"transparent\" points=\"-4,4 -4,-94 268,-94 268,4 -4,4\"/>\n<!-- x_G2 -->\n<g id=\"node1\" class=\"node\">\n<title>x_G2</title>\n<text text-anchor=\"middle\" x=\"27\" y=\"-68.3\" font-family=\"Times,serif\" font-size=\"14.00\">x</text>\n</g>\n<!-- LessThanConstant -->\n<g id=\"node3\" class=\"node\">\n<title>LessThanConstant</title>\n<polygon fill=\"none\" stroke=\"black\" points=\"91,-66 91,-83 173,-83 173,-66 91,-66\"/>\n<text text-anchor=\"start\" x=\"94\" y=\"-72\" font-family=\"Times,serif\" font-size=\"10.00\">LessThanConstant</text>\n<polygon fill=\"none\" stroke=\"black\" points=\"91,-45 91,-66 173,-66 173,-45 91,-45\"/>\n<text text-anchor=\"start\" x=\"128.5\" y=\"-51.8\" font-family=\"Times,serif\" font-size=\"14.00\">x</text>\n<polygon fill=\"none\" stroke=\"black\" points=\"91,-24 91,-45 173,-45 173,-24 91,-24\"/>\n<text text-anchor=\"start\" x=\"116.5\" y=\"-30.8\" font-family=\"Times,serif\" font-size=\"14.00\">target</text>\n</g>\n<!-- x_G2&#45;&gt;LessThanConstant -->\n<g id=\"edge1\" class=\"edge\">\n<title>x_G2:e-&gt;LessThanConstant:w</title>\n<path fill=\"none\" stroke=\"black\" d=\"M54,-72C71.22,-72 72.97,-57.23 88.98,-56.07\"/>\n<ellipse fill=\"black\" stroke=\"black\" cx=\"90\" cy=\"-56.04\" rx=\"1\" ry=\"1\"/>\n<text text-anchor=\"middle\" x=\"72.5\" y=\"-67\" font-family=\"Times,serif\" font-size=\"10.00\">8</text>\n</g>\n<!-- target_G1 -->\n<g id=\"node2\" class=\"node\">\n<title>target_G1</title>\n<text text-anchor=\"middle\" x=\"27\" y=\"-14.3\" font-family=\"Times,serif\" font-size=\"14.00\">target</text>\n</g>\n<!-- target_G1&#45;&gt;LessThanConstant -->\n<g id=\"edge2\" class=\"edge\">\n<title>target_G1:e-&gt;LessThanConstant:w</title>\n<path fill=\"none\" stroke=\"black\" d=\"M54,-18C71.22,-18 72.97,-32.77 88.98,-33.93\"/>\n<ellipse fill=\"black\" stroke=\"black\" cx=\"90\" cy=\"-33.96\" rx=\"1\" ry=\"1\"/>\n<text text-anchor=\"middle\" x=\"72.5\" y=\"-29\" font-family=\"Times,serif\" font-size=\"10.00\">1</text>\n</g>\n<!-- x_G4 -->\n<g id=\"node4\" class=\"node\">\n<title>x_G4</title>\n<text text-anchor=\"middle\" x=\"237\" y=\"-68.3\" font-family=\"Times,serif\" font-size=\"14.00\">x</text>\n</g>\n<!-- LessThanConstant&#45;&gt;x_G4 -->\n<g id=\"edge3\" class=\"edge\">\n<title>LessThanConstant:e-&gt;x_G4:w</title>\n<path fill=\"none\" stroke=\"black\" d=\"M173,-56C190.22,-56 191.97,-70.77 207.98,-71.93\"/>\n<ellipse fill=\"black\" stroke=\"black\" cx=\"209\" cy=\"-71.96\" rx=\"1\" ry=\"1\"/>\n<text text-anchor=\"middle\" x=\"191.5\" y=\"-67\" font-family=\"Times,serif\" font-size=\"10.00\">8</text>\n</g>\n<!-- target_G5 -->\n<g id=\"node5\" class=\"node\">\n<title>target_G5</title>\n<text text-anchor=\"middle\" x=\"237\" y=\"-14.3\" font-family=\"Times,serif\" font-size=\"14.00\">target</text>\n</g>\n<!-- LessThanConstant&#45;&gt;target_G5 -->\n<g id=\"edge4\" class=\"edge\">\n<title>LessThanConstant:e-&gt;target_G5:w</title>\n<path fill=\"none\" stroke=\"black\" d=\"M173,-34C190.22,-34 191.97,-19.23 207.98,-18.07\"/>\n<ellipse fill=\"black\" stroke=\"black\" cx=\"209\" cy=\"-18.04\" rx=\"1\" ry=\"1\"/>\n<text text-anchor=\"middle\" x=\"191.5\" y=\"-29\" font-family=\"Times,serif\" font-size=\"10.00\">1</text>\n</g>\n</g>\n</svg>",
          "text/plain": "<IPython.core.display.SVG object>"
         },
         "metadata": {},
         "output_type": "display_data"
        }
       ],
       "tabbable": null,
       "tooltip": null
      }
     },
     "d36d92cdf346403b907e73315e1c4b03": {
      "model_module": "@jupyter-widgets/output",
      "model_module_version": "1.0.0",
      "model_name": "OutputModel",
      "state": {
       "_dom_classes": [],
       "_model_module": "@jupyter-widgets/output",
       "_model_module_version": "1.0.0",
       "_model_name": "OutputModel",
       "_view_count": null,
       "_view_module": "@jupyter-widgets/output",
       "_view_module_version": "1.0.0",
       "_view_name": "OutputView",
       "layout": "IPY_MODEL_1874b4d046284256bb54282f660048d2",
       "msg_id": "",
       "outputs": [
        {
         "data": {
          "text/markdown": "`greater_than`",
          "text/plain": "<IPython.core.display.Markdown object>"
         },
         "metadata": {},
         "output_type": "display_data"
        },
        {
         "data": {
          "image/svg+xml": "<svg xmlns=\"http://www.w3.org/2000/svg\" xmlns:xlink=\"http://www.w3.org/1999/xlink\" width=\"248pt\" height=\"152pt\" viewBox=\"0.00 0.00 248.00 152.00\">\n<g id=\"graph0\" class=\"graph\" transform=\"scale(1 1) rotate(0) translate(4 148)\">\n<title>my_graph</title>\n<polygon fill=\"white\" stroke=\"transparent\" points=\"-4,4 -4,-148 244,-148 244,4 -4,4\"/>\n<!-- a_G8 -->\n<g id=\"node1\" class=\"node\">\n<title>a_G8</title>\n<text text-anchor=\"middle\" x=\"27\" y=\"-122.3\" font-family=\"Times,serif\" font-size=\"14.00\">a</text>\n</g>\n<!-- GreaterThan -->\n<g id=\"node4\" class=\"node\">\n<title>GreaterThan</title>\n<polygon fill=\"none\" stroke=\"black\" points=\"91,-104 91,-121 149,-121 149,-104 91,-104\"/>\n<text text-anchor=\"start\" x=\"94\" y=\"-110\" font-family=\"Times,serif\" font-size=\"10.00\">GreaterThan</text>\n<polygon fill=\"none\" stroke=\"black\" points=\"91,-83 91,-104 149,-104 149,-83 91,-83\"/>\n<text text-anchor=\"start\" x=\"116.5\" y=\"-89.8\" font-family=\"Times,serif\" font-size=\"14.00\">a</text>\n<polygon fill=\"none\" stroke=\"black\" points=\"91,-62 91,-83 149,-83 149,-62 91,-62\"/>\n<text text-anchor=\"start\" x=\"116.5\" y=\"-68.8\" font-family=\"Times,serif\" font-size=\"14.00\">b</text>\n<polygon fill=\"none\" stroke=\"black\" points=\"91,-41 91,-62 149,-62 149,-41 91,-41\"/>\n<text text-anchor=\"start\" x=\"104.5\" y=\"-47.8\" font-family=\"Times,serif\" font-size=\"14.00\">target</text>\n</g>\n<!-- a_G8&#45;&gt;GreaterThan -->\n<g id=\"edge1\" class=\"edge\">\n<title>a_G8:e-&gt;GreaterThan:w</title>\n<path fill=\"none\" stroke=\"black\" d=\"M54,-126C74.89,-126 69.72,-96.45 88.58,-94.14\"/>\n<ellipse fill=\"black\" stroke=\"black\" cx=\"90\" cy=\"-94.06\" rx=\"1\" ry=\"1\"/>\n<text text-anchor=\"middle\" x=\"72.5\" y=\"-113\" font-family=\"Times,serif\" font-size=\"10.00\">4</text>\n</g>\n<!-- b_G7 -->\n<g id=\"node2\" class=\"node\">\n<title>b_G7</title>\n<text text-anchor=\"middle\" x=\"27\" y=\"-68.3\" font-family=\"Times,serif\" font-size=\"14.00\">b</text>\n</g>\n<!-- b_G7&#45;&gt;GreaterThan -->\n<g id=\"edge2\" class=\"edge\">\n<title>b_G7:e-&gt;GreaterThan:w</title>\n<path fill=\"none\" stroke=\"black\" d=\"M54,-72C69.67,-72 74.14,-72 88.77,-72\"/>\n<ellipse fill=\"black\" stroke=\"black\" cx=\"90\" cy=\"-72\" rx=\"1\" ry=\"1\"/>\n<text text-anchor=\"middle\" x=\"72.5\" y=\"-75\" font-family=\"Times,serif\" font-size=\"10.00\">4</text>\n</g>\n<!-- target_G1 -->\n<g id=\"node3\" class=\"node\">\n<title>target_G1</title>\n<text text-anchor=\"middle\" x=\"27\" y=\"-14.3\" font-family=\"Times,serif\" font-size=\"14.00\">target</text>\n</g>\n<!-- target_G1&#45;&gt;GreaterThan -->\n<g id=\"edge3\" class=\"edge\">\n<title>target_G1:e-&gt;GreaterThan:w</title>\n<path fill=\"none\" stroke=\"black\" d=\"M54,-18C75.17,-18 69.47,-48.47 88.55,-50.85\"/>\n<ellipse fill=\"black\" stroke=\"black\" cx=\"90\" cy=\"-50.94\" rx=\"1\" ry=\"1\"/>\n<text text-anchor=\"middle\" x=\"72.5\" y=\"-39\" font-family=\"Times,serif\" font-size=\"10.00\">1</text>\n</g>\n<!-- a_G0 -->\n<g id=\"node5\" class=\"node\">\n<title>a_G0</title>\n<text text-anchor=\"middle\" x=\"213\" y=\"-122.3\" font-family=\"Times,serif\" font-size=\"14.00\">a</text>\n</g>\n<!-- GreaterThan&#45;&gt;a_G0 -->\n<g id=\"edge4\" class=\"edge\">\n<title>GreaterThan:e-&gt;a_G0:w</title>\n<path fill=\"none\" stroke=\"black\" d=\"M149,-94C169.89,-94 164.72,-123.55 183.58,-125.86\"/>\n<ellipse fill=\"black\" stroke=\"black\" cx=\"185\" cy=\"-125.94\" rx=\"1\" ry=\"1\"/>\n<text text-anchor=\"middle\" x=\"167.5\" y=\"-113\" font-family=\"Times,serif\" font-size=\"10.00\">4</text>\n</g>\n<!-- b_G4 -->\n<g id=\"node6\" class=\"node\">\n<title>b_G4</title>\n<text text-anchor=\"middle\" x=\"213\" y=\"-68.3\" font-family=\"Times,serif\" font-size=\"14.00\">b</text>\n</g>\n<!-- GreaterThan&#45;&gt;b_G4 -->\n<g id=\"edge5\" class=\"edge\">\n<title>GreaterThan:e-&gt;b_G4:w</title>\n<path fill=\"none\" stroke=\"black\" d=\"M149,-72C164.67,-72 169.14,-72 183.77,-72\"/>\n<ellipse fill=\"black\" stroke=\"black\" cx=\"185\" cy=\"-72\" rx=\"1\" ry=\"1\"/>\n<text text-anchor=\"middle\" x=\"167.5\" y=\"-75\" font-family=\"Times,serif\" font-size=\"10.00\">4</text>\n</g>\n<!-- target_G5 -->\n<g id=\"node7\" class=\"node\">\n<title>target_G5</title>\n<text text-anchor=\"middle\" x=\"213\" y=\"-14.3\" font-family=\"Times,serif\" font-size=\"14.00\">target</text>\n</g>\n<!-- GreaterThan&#45;&gt;target_G5 -->\n<g id=\"edge6\" class=\"edge\">\n<title>GreaterThan:e-&gt;target_G5:w</title>\n<path fill=\"none\" stroke=\"black\" d=\"M149,-51C170.17,-51 164.47,-20.53 183.55,-18.15\"/>\n<ellipse fill=\"black\" stroke=\"black\" cx=\"185\" cy=\"-18.06\" rx=\"1\" ry=\"1\"/>\n<text text-anchor=\"middle\" x=\"167.5\" y=\"-39\" font-family=\"Times,serif\" font-size=\"10.00\">1</text>\n</g>\n</g>\n</svg>",
          "text/plain": "<IPython.core.display.SVG object>"
         },
         "metadata": {},
         "output_type": "display_data"
        }
       ],
       "tabbable": null,
       "tooltip": null
      }
     },
     "d6829c2322114b7394f94bfc9fa427c0": {
      "model_module": "@jupyter-widgets/base",
      "model_module_version": "2.0.0",
      "model_name": "LayoutModel",
      "state": {
       "_model_module": "@jupyter-widgets/base",
       "_model_module_version": "2.0.0",
       "_model_name": "LayoutModel",
       "_view_count": null,
       "_view_module": "@jupyter-widgets/base",
       "_view_module_version": "2.0.0",
       "_view_name": "LayoutView",
       "align_content": null,
       "align_items": null,
       "align_self": null,
       "border_bottom": null,
       "border_left": null,
       "border_right": null,
       "border_top": null,
       "bottom": null,
       "display": null,
       "flex": null,
       "flex_flow": null,
       "grid_area": null,
       "grid_auto_columns": null,
       "grid_auto_flow": null,
       "grid_auto_rows": null,
       "grid_column": null,
       "grid_gap": null,
       "grid_row": null,
       "grid_template_areas": null,
       "grid_template_columns": null,
       "grid_template_rows": null,
       "height": null,
       "justify_content": null,
       "justify_items": null,
       "left": null,
       "margin": null,
       "max_height": null,
       "max_width": null,
       "min_height": null,
       "min_width": null,
       "object_fit": null,
       "object_position": null,
       "order": null,
       "overflow": null,
       "padding": null,
       "right": null,
       "top": null,
       "visibility": null,
       "width": null
      }
     },
     "deaf400ddb30443e802d764d2ec1b4de": {
      "model_module": "@jupyter-widgets/controls",
      "model_module_version": "2.0.0",
      "model_name": "HBoxModel",
      "state": {
       "_dom_classes": [],
       "_model_module": "@jupyter-widgets/controls",
       "_model_module_version": "2.0.0",
       "_model_name": "HBoxModel",
       "_view_count": null,
       "_view_module": "@jupyter-widgets/controls",
       "_view_module_version": "2.0.0",
       "_view_name": "HBoxView",
       "box_style": "",
       "children": [
        "IPY_MODEL_939e3e53bdf44ba8b55db1842006c49b"
       ],
       "layout": "IPY_MODEL_545f7f0b1a0f466181be8adb56c013d8",
       "tabbable": null,
       "tooltip": null
      }
     },
     "e487744fa17c49f89c463eceed520a4b": {
      "model_module": "@jupyter-widgets/base",
      "model_module_version": "2.0.0",
      "model_name": "LayoutModel",
      "state": {
       "_model_module": "@jupyter-widgets/base",
       "_model_module_version": "2.0.0",
       "_model_name": "LayoutModel",
       "_view_count": null,
       "_view_module": "@jupyter-widgets/base",
       "_view_module_version": "2.0.0",
       "_view_name": "LayoutView",
       "align_content": null,
       "align_items": null,
       "align_self": null,
       "border_bottom": null,
       "border_left": null,
       "border_right": null,
       "border_top": null,
       "bottom": null,
       "display": null,
       "flex": null,
       "flex_flow": null,
       "grid_area": null,
       "grid_auto_columns": null,
       "grid_auto_flow": null,
       "grid_auto_rows": null,
       "grid_column": null,
       "grid_gap": null,
       "grid_row": null,
       "grid_template_areas": null,
       "grid_template_columns": null,
       "grid_template_rows": null,
       "height": null,
       "justify_content": null,
       "justify_items": null,
       "left": null,
       "margin": null,
       "max_height": null,
       "max_width": null,
       "min_height": null,
       "min_width": null,
       "object_fit": null,
       "object_position": null,
       "order": null,
       "overflow": null,
       "padding": null,
       "right": null,
       "top": null,
       "visibility": null,
       "width": null
      }
     }
    },
    "version_major": 2,
    "version_minor": 0
   }
  }
 },
 "nbformat": 4,
 "nbformat_minor": 5
}
