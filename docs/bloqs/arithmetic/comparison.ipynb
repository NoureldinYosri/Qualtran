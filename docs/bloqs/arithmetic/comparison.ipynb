{
 "cells": [
  {
   "cell_type": "markdown",
   "id": "23228f10",
   "metadata": {
    "cq.autogen": "title_cell"
   },
   "source": [
    "# Comparison"
   ]
  },
  {
   "cell_type": "code",
   "execution_count": 1,
   "id": "100135a5",
   "metadata": {
    "cq.autogen": "top_imports"
   },
   "outputs": [],
   "source": [
    "from qualtran import Bloq, CompositeBloq, BloqBuilder, Signature, Register\n",
    "from qualtran import QBit, QInt, QUInt, QAny\n",
    "from qualtran.drawing import show_bloq, show_call_graph, show_counts_sigma\n",
    "from typing import *\n",
    "import numpy as np\n",
    "import sympy\n",
    "import cirq"
   ]
  },
  {
   "cell_type": "markdown",
   "id": "583b18fb",
   "metadata": {
    "cq.autogen": "GreaterThan.bloq_doc.md"
   },
   "source": [
    "## `GreaterThan`\n",
    "Compare two integers.\n",
    "\n",
    "Implements $U|a\\rangle|b\\rangle|0\\rangle \\rightarrow\n",
    "|a\\rangle|b\\rangle|a > b\\rangle$ using $8n T$  gates.\n",
    "\n",
    "The bloq_counts and t_complexity are derived from equivalent qualtran gates\n",
    "assuming a clean decomposition which should yield identical costs.\n",
    "\n",
    "See: https://github.com/quantumlib/Qualtran/pull/381 and\n",
    "https://qualtran.readthedocs.io/en/latest/bloqs/comparison_gates.html\n",
    "\n",
    "#### Parameters\n",
    " - `bitsize`: Number of bits used to represent the two integers a and b. \n",
    "\n",
    "#### Registers\n",
    " - `a`: n-bit-sized input registers.\n",
    " - `b`: n-bit-sized input registers.\n",
    " - `target`: A single bit output register to store the result of A > B.\n"
   ]
  },
  {
   "cell_type": "code",
   "execution_count": 2,
   "id": "4897dd68",
   "metadata": {
    "cq.autogen": "GreaterThan.bloq_doc.py"
   },
   "outputs": [],
   "source": [
    "from qualtran.bloqs.arithmetic import GreaterThan"
   ]
  },
  {
   "cell_type": "markdown",
   "id": "7888a98f",
   "metadata": {
    "cq.autogen": "GreaterThan.example_instances.md"
   },
   "source": [
    "### Example Instances"
   ]
  },
  {
   "cell_type": "code",
   "execution_count": 3,
   "id": "98aa6041",
   "metadata": {
    "cq.autogen": "GreaterThan.greater_than"
   },
   "outputs": [],
   "source": [
    "greater_than = GreaterThan(a_bitsize=4, b_bitsize=4)"
   ]
  },
  {
   "cell_type": "markdown",
   "id": "ceac73b4",
   "metadata": {
    "cq.autogen": "GreaterThan.graphical_signature.md"
   },
   "source": [
    "#### Graphical Signature"
   ]
  },
  {
   "cell_type": "code",
   "execution_count": 4,
   "id": "c82d95fe",
   "metadata": {
    "cq.autogen": "GreaterThan.graphical_signature.py"
   },
   "outputs": [
    {
     "data": {
      "application/vnd.jupyter.widget-view+json": {
       "model_id": "b8fb35938ff147e58bf768480c73a46d",
       "version_major": 2,
       "version_minor": 0
      },
      "text/plain": [
       "HBox(children=(Output(outputs=({'output_type': 'display_data', 'data': {'text/plain': '<IPython.core.display.M…"
      ]
     },
     "metadata": {},
     "output_type": "display_data"
    }
   ],
   "source": [
    "from qualtran.drawing import show_bloqs\n",
    "show_bloqs([greater_than],\n",
    "           ['`greater_than`'])"
   ]
  },
  {
   "cell_type": "markdown",
   "id": "3afdc24f",
   "metadata": {
    "cq.autogen": "GreaterThan.call_graph.md"
   },
   "source": [
    "### Call Graph"
   ]
  },
  {
   "cell_type": "code",
   "execution_count": 5,
   "id": "88ae5ce9",
   "metadata": {
    "cq.autogen": "GreaterThan.call_graph.py"
   },
   "outputs": [
    {
     "data": {
      "image/svg+xml": [
       "<svg xmlns=\"http://www.w3.org/2000/svg\" xmlns:xlink=\"http://www.w3.org/1999/xlink\" width=\"169pt\" height=\"131pt\" viewBox=\"0.00 0.00 169.00 131.00\">\n",
       "<g id=\"graph0\" class=\"graph\" transform=\"scale(1 1) rotate(0) translate(4 127)\">\n",
       "<title>counts</title>\n",
       "<polygon fill=\"white\" stroke=\"transparent\" points=\"-4,4 -4,-127 165,-127 165,4 -4,4\"/>\n",
       "<!-- b0 -->\n",
       "<g id=\"node1\" class=\"node\">\n",
       "<title>b0</title>\n",
       "<polygon fill=\"none\" stroke=\"black\" points=\"161,-123 0,-123 0,-87 161,-87 161,-123\"/>\n",
       "<text text-anchor=\"start\" x=\"46\" y=\"-106.8\" font-family=\"Times,serif\" font-size=\"14.00\">GreaterThan</text>\n",
       "<text text-anchor=\"start\" x=\"8\" y=\"-96\" font-family=\"monospace\" font-size=\"10.00\">a_bitsize=4, b_bitsize=4</text>\n",
       "</g>\n",
       "<!-- b1 -->\n",
       "<g id=\"node2\" class=\"node\">\n",
       "<title>b1</title>\n",
       "<polygon fill=\"none\" stroke=\"black\" points=\"137,-36 24,-36 24,0 137,0 137,-36\"/>\n",
       "<text text-anchor=\"start\" x=\"76\" y=\"-19.8\" font-family=\"Times,serif\" font-size=\"14.00\">T</text>\n",
       "<text text-anchor=\"start\" x=\"32\" y=\"-9\" font-family=\"monospace\" font-size=\"10.00\">is_adjoint=False</text>\n",
       "</g>\n",
       "<!-- b0&#45;&gt;b1 -->\n",
       "<g id=\"edge1\" class=\"edge\">\n",
       "<title>b0-&gt;b1</title>\n",
       "<path fill=\"none\" stroke=\"black\" d=\"M80.5,-86.8C80.5,-75.16 80.5,-59.55 80.5,-46.24\"/>\n",
       "<polygon fill=\"black\" stroke=\"black\" points=\"84,-46.18 80.5,-36.18 77,-46.18 84,-46.18\"/>\n",
       "<text text-anchor=\"middle\" x=\"87.5\" y=\"-57.8\" font-family=\"Times,serif\" font-size=\"14.00\">28</text>\n",
       "</g>\n",
       "</g>\n",
       "</svg>"
      ],
      "text/plain": [
       "<IPython.core.display.SVG object>"
      ]
     },
     "metadata": {},
     "output_type": "display_data"
    },
    {
     "data": {
      "text/markdown": [
       "#### Counts totals:\n",
       " - `TGate()`: 28"
      ],
      "text/plain": [
       "<IPython.core.display.Markdown object>"
      ]
     },
     "metadata": {},
     "output_type": "display_data"
    }
   ],
   "source": [
    "from qualtran.resource_counting.generalizers import ignore_split_join\n",
    "greater_than_g, greater_than_sigma = greater_than.call_graph(max_depth=1, generalizer=ignore_split_join)\n",
    "show_call_graph(greater_than_g)\n",
    "show_counts_sigma(greater_than_sigma)"
   ]
  },
  {
   "cell_type": "markdown",
   "id": "532b6bf1",
   "metadata": {
    "cq.autogen": "GreaterThanConstant.bloq_doc.md"
   },
   "source": [
    "## `GreaterThanConstant`\n",
    "Implements $U_a|x\\rangle = U_a|x\\rangle|z\\rangle = |x\\rangle |z \\land (x > a)\\rangle$\n",
    "\n",
    "The bloq_counts and t_complexity are derived from equivalent qualtran gates\n",
    "assuming a clean decomposition which should yield identical costs.\n",
    "\n",
    "See: https://github.com/quantumlib/Qualtran/pull/381 and\n",
    "https://qualtran.readthedocs.io/en/latest/bloqs/comparison_gates.html\n",
    "\n",
    "\n",
    "#### Parameters\n",
    " - `bitsize`: bitsize of x register.\n",
    " - `val`: integer to compare x against (a above.) \n",
    "\n",
    "#### Registers\n",
    " - `x`: Register to compare against val.\n",
    " - `target`: Register to hold result of comparison.\n"
   ]
  },
  {
   "cell_type": "code",
   "execution_count": 6,
   "id": "79cf881f",
   "metadata": {
    "cq.autogen": "GreaterThanConstant.bloq_doc.py"
   },
   "outputs": [],
   "source": [
    "from qualtran.bloqs.arithmetic import GreaterThanConstant"
   ]
  },
  {
   "cell_type": "markdown",
   "id": "262b3978",
   "metadata": {
    "cq.autogen": "GreaterThanConstant.example_instances.md"
   },
   "source": [
    "### Example Instances"
   ]
  },
  {
   "cell_type": "code",
   "execution_count": 7,
   "id": "4e9495bc",
   "metadata": {
    "cq.autogen": "GreaterThanConstant.gt_k"
   },
   "outputs": [],
   "source": [
    "gt_k = GreaterThanConstant(bitsize=4, val=13)"
   ]
  },
  {
   "cell_type": "markdown",
   "id": "692cf0da",
   "metadata": {
    "cq.autogen": "GreaterThanConstant.graphical_signature.md"
   },
   "source": [
    "#### Graphical Signature"
   ]
  },
  {
   "cell_type": "code",
   "execution_count": 8,
   "id": "49de22c1",
   "metadata": {
    "cq.autogen": "GreaterThanConstant.graphical_signature.py"
   },
   "outputs": [
    {
     "data": {
      "application/vnd.jupyter.widget-view+json": {
       "model_id": "0227931651a34d06a2bee8763da725ed",
       "version_major": 2,
       "version_minor": 0
      },
      "text/plain": [
       "HBox(children=(Output(outputs=({'output_type': 'display_data', 'data': {'text/plain': '<IPython.core.display.M…"
      ]
     },
     "metadata": {},
     "output_type": "display_data"
    }
   ],
   "source": [
    "from qualtran.drawing import show_bloqs\n",
    "show_bloqs([gt_k],\n",
    "           ['`gt_k`'])"
   ]
  },
  {
   "cell_type": "markdown",
   "id": "ca10fb8f",
   "metadata": {
    "cq.autogen": "GreaterThanConstant.call_graph.md"
   },
   "source": [
    "### Call Graph"
   ]
  },
  {
   "cell_type": "code",
   "execution_count": 9,
   "id": "ce7758c2",
   "metadata": {
    "cq.autogen": "GreaterThanConstant.call_graph.py"
   },
   "outputs": [
    {
     "data": {
      "image/svg+xml": [
       "<svg xmlns=\"http://www.w3.org/2000/svg\" xmlns:xlink=\"http://www.w3.org/1999/xlink\" width=\"141pt\" height=\"131pt\" viewBox=\"0.00 0.00 141.00 131.00\">\n",
       "<g id=\"graph0\" class=\"graph\" transform=\"scale(1 1) rotate(0) translate(4 127)\">\n",
       "<title>counts</title>\n",
       "<polygon fill=\"white\" stroke=\"transparent\" points=\"-4,4 -4,-127 137,-127 137,4 -4,4\"/>\n",
       "<!-- b0 -->\n",
       "<g id=\"node1\" class=\"node\">\n",
       "<title>b0</title>\n",
       "<polygon fill=\"none\" stroke=\"black\" points=\"133,-123 0,-123 0,-87 133,-87 133,-123\"/>\n",
       "<text text-anchor=\"start\" x=\"8\" y=\"-106.8\" font-family=\"Times,serif\" font-size=\"14.00\">GreaterThanConstant</text>\n",
       "<text text-anchor=\"start\" x=\"15\" y=\"-96\" font-family=\"monospace\" font-size=\"10.00\">bitsize=4, val=13</text>\n",
       "</g>\n",
       "<!-- b1 -->\n",
       "<g id=\"node2\" class=\"node\">\n",
       "<title>b1</title>\n",
       "<polygon fill=\"none\" stroke=\"black\" points=\"123,-36 10,-36 10,0 123,0 123,-36\"/>\n",
       "<text text-anchor=\"start\" x=\"62\" y=\"-19.8\" font-family=\"Times,serif\" font-size=\"14.00\">T</text>\n",
       "<text text-anchor=\"start\" x=\"18\" y=\"-9\" font-family=\"monospace\" font-size=\"10.00\">is_adjoint=False</text>\n",
       "</g>\n",
       "<!-- b0&#45;&gt;b1 -->\n",
       "<g id=\"edge1\" class=\"edge\">\n",
       "<title>b0-&gt;b1</title>\n",
       "<path fill=\"none\" stroke=\"black\" d=\"M66.5,-86.8C66.5,-75.16 66.5,-59.55 66.5,-46.24\"/>\n",
       "<polygon fill=\"black\" stroke=\"black\" points=\"70,-46.18 66.5,-36.18 63,-46.18 70,-46.18\"/>\n",
       "<text text-anchor=\"middle\" x=\"73.5\" y=\"-57.8\" font-family=\"Times,serif\" font-size=\"14.00\">16</text>\n",
       "</g>\n",
       "</g>\n",
       "</svg>"
      ],
      "text/plain": [
       "<IPython.core.display.SVG object>"
      ]
     },
     "metadata": {},
     "output_type": "display_data"
    },
    {
     "data": {
      "text/markdown": [
       "#### Counts totals:\n",
       " - `TGate()`: 16"
      ],
      "text/plain": [
       "<IPython.core.display.Markdown object>"
      ]
     },
     "metadata": {},
     "output_type": "display_data"
    }
   ],
   "source": [
    "from qualtran.resource_counting.generalizers import ignore_split_join\n",
    "gt_k_g, gt_k_sigma = gt_k.call_graph(max_depth=1, generalizer=ignore_split_join)\n",
    "show_call_graph(gt_k_g)\n",
    "show_counts_sigma(gt_k_sigma)"
   ]
  },
  {
   "cell_type": "markdown",
   "id": "8948042c",
   "metadata": {
    "cq.autogen": "EqualsAConstant.bloq_doc.md"
   },
   "source": [
    "## `EqualsAConstant`\n",
    "Implements $U_a|x\\rangle = U_a|x\\rangle|z\\rangle = |x\\rangle |z \\land (x = a)\\rangle$\n",
    "\n",
    "The bloq_counts and t_complexity are derived from:\n",
    "https://qualtran.readthedocs.io/en/latest/bloqs/comparison_gates.html#equality-as-a-special-case\n",
    "\n",
    "#### Parameters\n",
    " - `bitsize`: bitsize of x register.\n",
    " - `val`: integer to compare x against (a above.) \n",
    "\n",
    "#### Registers\n",
    " - `x`: Register to compare against val.\n",
    " - `target`: Register to hold result of comparison.\n"
   ]
  },
  {
   "cell_type": "code",
   "execution_count": 10,
   "id": "8975c3d4",
   "metadata": {
    "cq.autogen": "EqualsAConstant.bloq_doc.py"
   },
   "outputs": [],
   "source": [
    "from qualtran.bloqs.arithmetic import EqualsAConstant"
   ]
  },
  {
   "cell_type": "markdown",
   "id": "8d9dfb80",
   "metadata": {
    "cq.autogen": "EqualsAConstant.example_instances.md"
   },
   "source": [
    "### Example Instances"
   ]
  },
  {
   "cell_type": "code",
   "execution_count": 11,
   "id": "596fef5f",
   "metadata": {
    "cq.autogen": "EqualsAConstant.eq_k"
   },
   "outputs": [],
   "source": [
    "eq_k = EqualsAConstant(bitsize=4, val=13)"
   ]
  },
  {
   "cell_type": "markdown",
   "id": "867bb5ac",
   "metadata": {
    "cq.autogen": "EqualsAConstant.graphical_signature.md"
   },
   "source": [
    "#### Graphical Signature"
   ]
  },
  {
   "cell_type": "code",
   "execution_count": 12,
   "id": "a3d3be59",
   "metadata": {
    "cq.autogen": "EqualsAConstant.graphical_signature.py"
   },
   "outputs": [
    {
     "data": {
      "application/vnd.jupyter.widget-view+json": {
       "model_id": "a2cd22303283470a840b3e63c32c8d1e",
       "version_major": 2,
       "version_minor": 0
      },
      "text/plain": [
       "HBox(children=(Output(outputs=({'output_type': 'display_data', 'data': {'text/plain': '<IPython.core.display.M…"
      ]
     },
     "metadata": {},
     "output_type": "display_data"
    }
   ],
   "source": [
    "from qualtran.drawing import show_bloqs\n",
    "show_bloqs([eq_k],\n",
    "           ['`eq_k`'])"
   ]
  },
  {
   "cell_type": "markdown",
   "id": "c672c228",
   "metadata": {
    "cq.autogen": "EqualsAConstant.call_graph.md"
   },
   "source": [
    "### Call Graph"
   ]
  },
  {
   "cell_type": "code",
   "execution_count": 13,
   "id": "735d36af",
   "metadata": {
    "cq.autogen": "EqualsAConstant.call_graph.py"
   },
   "outputs": [
    {
     "data": {
      "image/svg+xml": [
       "<svg xmlns=\"http://www.w3.org/2000/svg\" xmlns:xlink=\"http://www.w3.org/1999/xlink\" width=\"127pt\" height=\"131pt\" viewBox=\"0.00 0.00 127.00 131.00\">\n",
       "<g id=\"graph0\" class=\"graph\" transform=\"scale(1 1) rotate(0) translate(4 127)\">\n",
       "<title>counts</title>\n",
       "<polygon fill=\"white\" stroke=\"transparent\" points=\"-4,4 -4,-127 123,-127 123,4 -4,4\"/>\n",
       "<!-- b0 -->\n",
       "<g id=\"node1\" class=\"node\">\n",
       "<title>b0</title>\n",
       "<polygon fill=\"none\" stroke=\"black\" points=\"119,-123 0,-123 0,-87 119,-87 119,-123\"/>\n",
       "<text text-anchor=\"start\" x=\"12\" y=\"-106.8\" font-family=\"Times,serif\" font-size=\"14.00\">EqualsAConstant</text>\n",
       "<text text-anchor=\"start\" x=\"8\" y=\"-96\" font-family=\"monospace\" font-size=\"10.00\">bitsize=4, val=13</text>\n",
       "</g>\n",
       "<!-- b1 -->\n",
       "<g id=\"node2\" class=\"node\">\n",
       "<title>b1</title>\n",
       "<polygon fill=\"none\" stroke=\"black\" points=\"116,-36 3,-36 3,0 116,0 116,-36\"/>\n",
       "<text text-anchor=\"start\" x=\"55\" y=\"-19.8\" font-family=\"Times,serif\" font-size=\"14.00\">T</text>\n",
       "<text text-anchor=\"start\" x=\"11\" y=\"-9\" font-family=\"monospace\" font-size=\"10.00\">is_adjoint=False</text>\n",
       "</g>\n",
       "<!-- b0&#45;&gt;b1 -->\n",
       "<g id=\"edge1\" class=\"edge\">\n",
       "<title>b0-&gt;b1</title>\n",
       "<path fill=\"none\" stroke=\"black\" d=\"M59.5,-86.8C59.5,-75.16 59.5,-59.55 59.5,-46.24\"/>\n",
       "<polygon fill=\"black\" stroke=\"black\" points=\"63,-46.18 59.5,-36.18 56,-46.18 63,-46.18\"/>\n",
       "<text text-anchor=\"middle\" x=\"66.5\" y=\"-57.8\" font-family=\"Times,serif\" font-size=\"14.00\">12</text>\n",
       "</g>\n",
       "</g>\n",
       "</svg>"
      ],
      "text/plain": [
       "<IPython.core.display.SVG object>"
      ]
     },
     "metadata": {},
     "output_type": "display_data"
    },
    {
     "data": {
      "text/markdown": [
       "#### Counts totals:\n",
       " - `TGate()`: 12"
      ],
      "text/plain": [
       "<IPython.core.display.Markdown object>"
      ]
     },
     "metadata": {},
     "output_type": "display_data"
    }
   ],
   "source": [
    "from qualtran.resource_counting.generalizers import ignore_split_join\n",
    "eq_k_g, eq_k_sigma = eq_k.call_graph(max_depth=1, generalizer=ignore_split_join)\n",
    "show_call_graph(eq_k_g)\n",
    "show_counts_sigma(eq_k_sigma)"
   ]
  },
  {
   "cell_type": "markdown",
   "id": "5d4a473d",
   "metadata": {
    "cq.autogen": "LessThanConstant.bloq_doc.md"
   },
   "source": [
    "## `LessThanConstant`\n",
    "Applies U_a|x>|z> = |x> |z ^ (x < a)>"
   ]
  },
  {
   "cell_type": "code",
   "execution_count": 14,
   "id": "f978cd77",
   "metadata": {
    "cq.autogen": "LessThanConstant.bloq_doc.py"
   },
   "outputs": [],
   "source": [
    "from qualtran.bloqs.arithmetic import LessThanConstant"
   ]
  },
  {
   "cell_type": "markdown",
   "id": "1ff5855a",
   "metadata": {
    "cq.autogen": "LessThanConstant.example_instances.md"
   },
   "source": [
    "### Example Instances"
   ]
  },
  {
   "cell_type": "code",
   "execution_count": 15,
   "id": "f0e3705e",
   "metadata": {
    "cq.autogen": "LessThanConstant.lt_k_symb"
   },
   "outputs": [],
   "source": [
    "n, k = sympy.symbols(\"n k\")\n",
    "lt_k_symb = LessThanConstant(bitsize=n, less_than_val=k)"
   ]
  },
  {
   "cell_type": "code",
   "execution_count": 16,
   "id": "65845541",
   "metadata": {
    "cq.autogen": "LessThanConstant.lt_k"
   },
   "outputs": [],
   "source": [
    "lt_k = LessThanConstant(bitsize=8, less_than_val=5)"
   ]
  },
  {
   "cell_type": "markdown",
   "id": "697c19b4",
   "metadata": {
    "cq.autogen": "LessThanConstant.graphical_signature.md"
   },
   "source": [
    "#### Graphical Signature"
   ]
  },
  {
   "cell_type": "code",
   "execution_count": 17,
   "id": "c722a3c7",
   "metadata": {
    "cq.autogen": "LessThanConstant.graphical_signature.py"
   },
   "outputs": [
    {
     "data": {
      "application/vnd.jupyter.widget-view+json": {
       "model_id": "45f7fc3550f444918e9ae7f57a88793e",
       "version_major": 2,
       "version_minor": 0
      },
      "text/plain": [
       "HBox(children=(Output(outputs=({'output_type': 'display_data', 'data': {'text/plain': '<IPython.core.display.M…"
      ]
     },
     "metadata": {},
     "output_type": "display_data"
    }
   ],
   "source": [
    "from qualtran.drawing import show_bloqs\n",
    "show_bloqs([lt_k, lt_k_symb],\n",
    "           ['`lt_k`', '`lt_k_symb`'])"
   ]
  },
  {
   "cell_type": "markdown",
   "id": "9ac764fa",
   "metadata": {
    "cq.autogen": "LessThanConstant.call_graph.md"
   },
   "source": [
    "### Call Graph"
   ]
  },
  {
   "cell_type": "code",
   "execution_count": 18,
   "id": "b8de0ffc",
   "metadata": {
    "cq.autogen": "LessThanConstant.call_graph.py"
   },
   "outputs": [
    {
     "data": {
      "image/svg+xml": [
       "<svg xmlns=\"http://www.w3.org/2000/svg\" xmlns:xlink=\"http://www.w3.org/1999/xlink\" width=\"797pt\" height=\"131pt\" viewBox=\"0.00 0.00 797.00 131.00\">\n",
       "<g id=\"graph0\" class=\"graph\" transform=\"scale(1 1) rotate(0) translate(4 127)\">\n",
       "<title>counts</title>\n",
       "<polygon fill=\"white\" stroke=\"transparent\" points=\"-4,4 -4,-127 793,-127 793,4 -4,4\"/>\n",
       "<!-- b0 -->\n",
       "<g id=\"node1\" class=\"node\">\n",
       "<title>b0</title>\n",
       "<polygon fill=\"none\" stroke=\"black\" points=\"363,-123 190,-123 190,-87 363,-87 363,-123\"/>\n",
       "<text text-anchor=\"start\" x=\"226\" y=\"-106.8\" font-family=\"Times,serif\" font-size=\"14.00\">LessThanConstant</text>\n",
       "<text text-anchor=\"start\" x=\"198\" y=\"-96\" font-family=\"monospace\" font-size=\"10.00\">bitsize=8, less_than_val=5</text>\n",
       "</g>\n",
       "<!-- b1 -->\n",
       "<g id=\"node2\" class=\"node\">\n",
       "<title>b1</title>\n",
       "<polygon fill=\"none\" stroke=\"black\" points=\"89,-36 0,-36 0,0 89,0 89,-36\"/>\n",
       "<text text-anchor=\"start\" x=\"32\" y=\"-19.8\" font-family=\"Times,serif\" font-size=\"14.00\">Free</text>\n",
       "<text text-anchor=\"start\" x=\"8\" y=\"-9\" font-family=\"monospace\" font-size=\"10.00\">dtype=QBit()</text>\n",
       "</g>\n",
       "<!-- b0&#45;&gt;b1 -->\n",
       "<g id=\"edge1\" class=\"edge\">\n",
       "<title>b0-&gt;b1</title>\n",
       "<path fill=\"none\" stroke=\"black\" d=\"M229.83,-86.9C191.94,-73.02 138.45,-53.42 98.67,-38.85\"/>\n",
       "<polygon fill=\"black\" stroke=\"black\" points=\"99.72,-35.5 89.13,-35.35 97.31,-42.08 99.72,-35.5\"/>\n",
       "<text text-anchor=\"middle\" x=\"178\" y=\"-57.8\" font-family=\"Times,serif\" font-size=\"14.00\">1</text>\n",
       "</g>\n",
       "<!-- b2 -->\n",
       "<g id=\"node3\" class=\"node\">\n",
       "<title>b2</title>\n",
       "<polygon fill=\"none\" stroke=\"black\" points=\"161.5,-36 107.5,-36 107.5,0 161.5,0 161.5,-36\"/>\n",
       "<text text-anchor=\"start\" x=\"116\" y=\"-14.3\" font-family=\"Times,serif\" font-size=\"14.00\">CNOT</text>\n",
       "</g>\n",
       "<!-- b0&#45;&gt;b2 -->\n",
       "<g id=\"edge2\" class=\"edge\">\n",
       "<title>b0-&gt;b2</title>\n",
       "<path fill=\"none\" stroke=\"black\" d=\"M247.76,-86.8C225.49,-73.46 194.48,-54.91 170.54,-40.58\"/>\n",
       "<polygon fill=\"black\" stroke=\"black\" points=\"172.13,-37.44 161.75,-35.31 168.53,-43.45 172.13,-37.44\"/>\n",
       "<text text-anchor=\"middle\" x=\"221.5\" y=\"-57.8\" font-family=\"Times,serif\" font-size=\"14.00\">18</text>\n",
       "</g>\n",
       "<!-- b3 -->\n",
       "<g id=\"node4\" class=\"node\">\n",
       "<title>b3</title>\n",
       "<polygon fill=\"none\" stroke=\"black\" points=\"233.5,-36 179.5,-36 179.5,0 233.5,0 233.5,-36\"/>\n",
       "<text text-anchor=\"start\" x=\"188.5\" y=\"-14.3\" font-family=\"Times,serif\" font-size=\"14.00\">XGate</text>\n",
       "</g>\n",
       "<!-- b0&#45;&gt;b3 -->\n",
       "<g id=\"edge3\" class=\"edge\">\n",
       "<title>b0-&gt;b3</title>\n",
       "<path fill=\"none\" stroke=\"black\" d=\"M262.33,-86.8C252.28,-74.59 238.61,-57.99 227.32,-44.28\"/>\n",
       "<polygon fill=\"black\" stroke=\"black\" points=\"229.7,-41.67 220.64,-36.18 224.3,-46.12 229.7,-41.67\"/>\n",
       "<text text-anchor=\"middle\" x=\"250\" y=\"-57.8\" font-family=\"Times,serif\" font-size=\"14.00\">6</text>\n",
       "</g>\n",
       "<!-- b4 -->\n",
       "<g id=\"node5\" class=\"node\">\n",
       "<title>b4</title>\n",
       "<polygon fill=\"none\" stroke=\"black\" points=\"443,-36 252,-36 252,0 443,0 443,-36\"/>\n",
       "<text text-anchor=\"start\" x=\"335.5\" y=\"-19.8\" font-family=\"Times,serif\" font-size=\"14.00\">And</text>\n",
       "<text text-anchor=\"start\" x=\"260\" y=\"-9\" font-family=\"monospace\" font-size=\"10.00\">cv1=1, cv2=1, uncompute=False</text>\n",
       "</g>\n",
       "<!-- b0&#45;&gt;b4 -->\n",
       "<g id=\"edge4\" class=\"edge\">\n",
       "<title>b0-&gt;b4</title>\n",
       "<path fill=\"none\" stroke=\"black\" d=\"M290.87,-86.8C301.17,-74.47 315.19,-57.68 326.71,-43.89\"/>\n",
       "<polygon fill=\"black\" stroke=\"black\" points=\"329.43,-46.09 333.15,-36.18 324.06,-41.61 329.43,-46.09\"/>\n",
       "<text text-anchor=\"middle\" x=\"320\" y=\"-57.8\" font-family=\"Times,serif\" font-size=\"14.00\">8</text>\n",
       "</g>\n",
       "<!-- b5 -->\n",
       "<g id=\"node6\" class=\"node\">\n",
       "<title>b5</title>\n",
       "<polygon fill=\"none\" stroke=\"black\" points=\"646,-36 461,-36 461,0 646,0 646,-36\"/>\n",
       "<text text-anchor=\"start\" x=\"538\" y=\"-19.8\" font-family=\"Times,serif\" font-size=\"14.00\">And†</text>\n",
       "<text text-anchor=\"start\" x=\"469\" y=\"-9\" font-family=\"monospace\" font-size=\"10.00\">cv1=1, cv2=1, uncompute=True</text>\n",
       "</g>\n",
       "<!-- b0&#45;&gt;b5 -->\n",
       "<g id=\"edge5\" class=\"edge\">\n",
       "<title>b0-&gt;b5</title>\n",
       "<path fill=\"none\" stroke=\"black\" d=\"M332.22,-86.9C377.3,-73.07 440.86,-53.56 488.3,-39.01\"/>\n",
       "<polygon fill=\"black\" stroke=\"black\" points=\"489.33,-42.35 497.87,-36.07 487.28,-35.66 489.33,-42.35\"/>\n",
       "<text text-anchor=\"middle\" x=\"436\" y=\"-57.8\" font-family=\"Times,serif\" font-size=\"14.00\">8</text>\n",
       "</g>\n",
       "<!-- b6 -->\n",
       "<g id=\"node7\" class=\"node\">\n",
       "<title>b6</title>\n",
       "<polygon fill=\"none\" stroke=\"black\" points=\"789,-36 664,-36 664,0 789,0 789,-36\"/>\n",
       "<text text-anchor=\"start\" x=\"703.5\" y=\"-19.8\" font-family=\"Times,serif\" font-size=\"14.00\">Allocate</text>\n",
       "<text text-anchor=\"start\" x=\"672\" y=\"-9\" font-family=\"monospace\" font-size=\"10.00\">dtype=QAny(bit ...</text>\n",
       "</g>\n",
       "<!-- b0&#45;&gt;b6 -->\n",
       "<g id=\"edge6\" class=\"edge\">\n",
       "<title>b0-&gt;b6</title>\n",
       "<path fill=\"none\" stroke=\"black\" d=\"M363.08,-89.79C437.54,-77.25 548.01,-57.91 653.82,-36.09\"/>\n",
       "<polygon fill=\"black\" stroke=\"black\" points=\"654.63,-39.49 663.72,-34.03 653.21,-32.64 654.63,-39.49\"/>\n",
       "<text text-anchor=\"middle\" x=\"565\" y=\"-57.8\" font-family=\"Times,serif\" font-size=\"14.00\">1</text>\n",
       "</g>\n",
       "</g>\n",
       "</svg>"
      ],
      "text/plain": [
       "<IPython.core.display.SVG object>"
      ]
     },
     "metadata": {},
     "output_type": "display_data"
    },
    {
     "data": {
      "text/markdown": [
       "#### Counts totals:\n",
       " - `Allocate(dtype=QAny(bitsize=1))`: 1\n",
       " - `And(cv1=1, cv2=1, uncompute=False)`: 8\n",
       " - `And(cv1=1, cv2=1, uncompute=True)`: 8\n",
       " - `CNOT()`: 18\n",
       " - `Free(dtype=QBit())`: 1\n",
       " - `XGate()`: 6"
      ],
      "text/plain": [
       "<IPython.core.display.Markdown object>"
      ]
     },
     "metadata": {},
     "output_type": "display_data"
    }
   ],
   "source": [
    "from qualtran.resource_counting.generalizers import ignore_split_join\n",
    "lt_k_g, lt_k_sigma = lt_k.call_graph(max_depth=1, generalizer=ignore_split_join)\n",
    "show_call_graph(lt_k_g)\n",
    "show_counts_sigma(lt_k_sigma)"
   ]
  },
  {
   "cell_type": "markdown",
   "id": "58d1a6a6",
   "metadata": {
    "cq.autogen": "BiQubitsMixer.bloq_doc.md"
   },
   "source": [
    "## `BiQubitsMixer`\n",
    "Implements the COMPARE2 subroutine from the reference (Fig. 1)\n",
    "\n",
    "This gates mixes the values in a way that preserves the result of comparison.\n",
    "The signature being compared are 2-qubit signature where\n",
    "\n",
    "    x = 2*x_msb + x_lsb\n",
    "    y = 2*y_msb + y_lsb\n",
    "\n",
    "The Gate mixes the 4 qubits so that sign(x - y) = sign(x_lsb' - y_lsb') where x_lsb' and y_lsb'\n",
    "are the final values of x_lsb' and y_lsb'.\n",
    "\n",
    "Note that the ancilla qubits are used to reduce the T-count and the user\n",
    "should clean the qubits at a later point in time with the adjoint gate.\n",
    "See: https://github.com/quantumlib/Cirq/pull/6313 and\n",
    "https://github.com/quantumlib/Qualtran/issues/389\n",
    "\n",
    "#### References\n",
    " - Supplementary Materials: Improved Techniques for Preparing Eigenstates of Fermionic Hamiltonians https://static-content.springer.com/esm/art%3A10.1038%2Fs41534-018-0071-5/MediaObjects/41534_2018_71_MOESM1_ESM.pdf\n"
   ]
  },
  {
   "cell_type": "code",
   "execution_count": 19,
   "id": "1603c8b5",
   "metadata": {
    "cq.autogen": "BiQubitsMixer.bloq_doc.py"
   },
   "outputs": [],
   "source": [
    "from qualtran.bloqs.arithmetic import BiQubitsMixer"
   ]
  },
  {
   "cell_type": "markdown",
   "id": "78cbdc47",
   "metadata": {
    "cq.autogen": "BiQubitsMixer.example_instances.md"
   },
   "source": [
    "### Example Instances"
   ]
  },
  {
   "cell_type": "code",
   "execution_count": 20,
   "id": "d69a00ae",
   "metadata": {
    "cq.autogen": "BiQubitsMixer.bi_qubits_mixer"
   },
   "outputs": [],
   "source": [
    "bi_qubits_mixer = BiQubitsMixer()"
   ]
  },
  {
   "cell_type": "markdown",
   "id": "1f0bfe08",
   "metadata": {
    "cq.autogen": "BiQubitsMixer.graphical_signature.md"
   },
   "source": [
    "#### Graphical Signature"
   ]
  },
  {
   "cell_type": "code",
   "execution_count": 21,
   "id": "7558ee56",
   "metadata": {
    "cq.autogen": "BiQubitsMixer.graphical_signature.py"
   },
   "outputs": [
    {
     "data": {
      "application/vnd.jupyter.widget-view+json": {
       "model_id": "8616d3d73ce044bf830af64c14f9655e",
       "version_major": 2,
       "version_minor": 0
      },
      "text/plain": [
       "HBox(children=(Output(outputs=({'output_type': 'display_data', 'data': {'text/plain': '<IPython.core.display.M…"
      ]
     },
     "metadata": {},
     "output_type": "display_data"
    }
   ],
   "source": [
    "from qualtran.drawing import show_bloqs\n",
    "show_bloqs([bi_qubits_mixer],\n",
    "           ['`bi_qubits_mixer`'])"
   ]
  },
  {
   "cell_type": "markdown",
   "id": "a5c34728",
   "metadata": {
    "cq.autogen": "BiQubitsMixer.call_graph.md"
   },
   "source": [
    "### Call Graph"
   ]
  },
  {
   "cell_type": "code",
   "execution_count": 22,
   "id": "0daf86df",
   "metadata": {
    "cq.autogen": "BiQubitsMixer.call_graph.py"
   },
   "outputs": [
    {
     "data": {
      "image/svg+xml": [
       "<svg xmlns=\"http://www.w3.org/2000/svg\" xmlns:xlink=\"http://www.w3.org/1999/xlink\" width=\"487pt\" height=\"131pt\" viewBox=\"0.00 0.00 486.50 131.00\">\n",
       "<g id=\"graph0\" class=\"graph\" transform=\"scale(1 1) rotate(0) translate(4 127)\">\n",
       "<title>counts</title>\n",
       "<polygon fill=\"white\" stroke=\"transparent\" points=\"-4,4 -4,-127 482.5,-127 482.5,4 -4,4\"/>\n",
       "<!-- b0 -->\n",
       "<g id=\"node1\" class=\"node\">\n",
       "<title>b0</title>\n",
       "<polygon fill=\"none\" stroke=\"black\" points=\"225.5,-123 112.5,-123 112.5,-87 225.5,-87 225.5,-123\"/>\n",
       "<text text-anchor=\"start\" x=\"127.5\" y=\"-106.8\" font-family=\"Times,serif\" font-size=\"14.00\">BiQubitsMixer</text>\n",
       "<text text-anchor=\"start\" x=\"120.5\" y=\"-96\" font-family=\"monospace\" font-size=\"10.00\">is_adjoint=False</text>\n",
       "</g>\n",
       "<!-- b1 -->\n",
       "<g id=\"node2\" class=\"node\">\n",
       "<title>b1</title>\n",
       "<polygon fill=\"none\" stroke=\"black\" points=\"54,-36 0,-36 0,0 54,0 54,-36\"/>\n",
       "<text text-anchor=\"start\" x=\"9\" y=\"-14.3\" font-family=\"Times,serif\" font-size=\"14.00\">XGate</text>\n",
       "</g>\n",
       "<!-- b0&#45;&gt;b1 -->\n",
       "<g id=\"edge1\" class=\"edge\">\n",
       "<title>b0-&gt;b1</title>\n",
       "<path fill=\"none\" stroke=\"black\" d=\"M140.26,-86.8C117.99,-73.46 86.98,-54.91 63.04,-40.58\"/>\n",
       "<polygon fill=\"black\" stroke=\"black\" points=\"64.63,-37.44 54.25,-35.31 61.03,-43.45 64.63,-37.44\"/>\n",
       "<text text-anchor=\"middle\" x=\"110.5\" y=\"-57.8\" font-family=\"Times,serif\" font-size=\"14.00\">1</text>\n",
       "</g>\n",
       "<!-- b2 -->\n",
       "<g id=\"node3\" class=\"node\">\n",
       "<title>b2</title>\n",
       "<polygon fill=\"none\" stroke=\"black\" points=\"126,-36 72,-36 72,0 126,0 126,-36\"/>\n",
       "<text text-anchor=\"start\" x=\"80.5\" y=\"-14.3\" font-family=\"Times,serif\" font-size=\"14.00\">CNOT</text>\n",
       "</g>\n",
       "<!-- b0&#45;&gt;b2 -->\n",
       "<g id=\"edge2\" class=\"edge\">\n",
       "<title>b0-&gt;b2</title>\n",
       "<path fill=\"none\" stroke=\"black\" d=\"M154.83,-86.8C144.78,-74.59 131.11,-57.99 119.82,-44.28\"/>\n",
       "<polygon fill=\"black\" stroke=\"black\" points=\"122.2,-41.67 113.14,-36.18 116.8,-46.12 122.2,-41.67\"/>\n",
       "<text text-anchor=\"middle\" x=\"142.5\" y=\"-57.8\" font-family=\"Times,serif\" font-size=\"14.00\">9</text>\n",
       "</g>\n",
       "<!-- b3 -->\n",
       "<g id=\"node4\" class=\"node\">\n",
       "<title>b3</title>\n",
       "<polygon fill=\"none\" stroke=\"black\" points=\"335.5,-36 144.5,-36 144.5,0 335.5,0 335.5,-36\"/>\n",
       "<text text-anchor=\"start\" x=\"228\" y=\"-19.8\" font-family=\"Times,serif\" font-size=\"14.00\">And</text>\n",
       "<text text-anchor=\"start\" x=\"152.5\" y=\"-9\" font-family=\"monospace\" font-size=\"10.00\">cv1=1, cv2=1, uncompute=False</text>\n",
       "</g>\n",
       "<!-- b0&#45;&gt;b3 -->\n",
       "<g id=\"edge3\" class=\"edge\">\n",
       "<title>b0-&gt;b3</title>\n",
       "<path fill=\"none\" stroke=\"black\" d=\"M183.37,-86.8C193.67,-74.47 207.69,-57.68 219.21,-43.89\"/>\n",
       "<polygon fill=\"black\" stroke=\"black\" points=\"221.93,-46.09 225.65,-36.18 216.56,-41.61 221.93,-46.09\"/>\n",
       "<text text-anchor=\"middle\" x=\"212.5\" y=\"-57.8\" font-family=\"Times,serif\" font-size=\"14.00\">2</text>\n",
       "</g>\n",
       "<!-- b4 -->\n",
       "<g id=\"node5\" class=\"node\">\n",
       "<title>b4</title>\n",
       "<polygon fill=\"none\" stroke=\"black\" points=\"478.5,-36 353.5,-36 353.5,0 478.5,0 478.5,-36\"/>\n",
       "<text text-anchor=\"start\" x=\"393\" y=\"-19.8\" font-family=\"Times,serif\" font-size=\"14.00\">Allocate</text>\n",
       "<text text-anchor=\"start\" x=\"361.5\" y=\"-9\" font-family=\"monospace\" font-size=\"10.00\">dtype=QAny(bit ...</text>\n",
       "</g>\n",
       "<!-- b0&#45;&gt;b4 -->\n",
       "<g id=\"edge4\" class=\"edge\">\n",
       "<title>b0-&gt;b4</title>\n",
       "<path fill=\"none\" stroke=\"black\" d=\"M218.69,-86.9C258.55,-73.18 314.62,-53.89 356.8,-39.37\"/>\n",
       "<polygon fill=\"black\" stroke=\"black\" points=\"358.08,-42.64 366.39,-36.07 355.8,-36.02 358.08,-42.64\"/>\n",
       "<text text-anchor=\"middle\" x=\"311.5\" y=\"-57.8\" font-family=\"Times,serif\" font-size=\"14.00\">1</text>\n",
       "</g>\n",
       "</g>\n",
       "</svg>"
      ],
      "text/plain": [
       "<IPython.core.display.SVG object>"
      ]
     },
     "metadata": {},
     "output_type": "display_data"
    },
    {
     "data": {
      "text/markdown": [
       "#### Counts totals:\n",
       " - `Allocate(dtype=QAny(bitsize=1))`: 1\n",
       " - `And(cv1=1, cv2=1, uncompute=False)`: 2\n",
       " - `CNOT()`: 9\n",
       " - `XGate()`: 1"
      ],
      "text/plain": [
       "<IPython.core.display.Markdown object>"
      ]
     },
     "metadata": {},
     "output_type": "display_data"
    }
   ],
   "source": [
    "from qualtran.resource_counting.generalizers import ignore_split_join\n",
    "bi_qubits_mixer_g, bi_qubits_mixer_sigma = bi_qubits_mixer.call_graph(max_depth=1, generalizer=ignore_split_join)\n",
    "show_call_graph(bi_qubits_mixer_g)\n",
    "show_counts_sigma(bi_qubits_mixer_sigma)"
   ]
  },
  {
   "cell_type": "markdown",
   "id": "19ccfb41",
   "metadata": {
    "cq.autogen": "SingleQubitCompare.bloq_doc.md"
   },
   "source": [
    "## `SingleQubitCompare`\n",
    "Applies U|a>|b>|0>|0> = |a> |a=b> |(a<b)> |(a>b)>\n",
    "\n",
    "#### References\n",
    " - Supplementary Materials: Improved Techniques for Preparing Eigenstates of Fermionic Hamiltonians. Figure 3. https://static-content.springer.com/esm/art%3A10.1038%2Fs41534-018-0071-5/MediaObjects/41534_2018_71_MOESM1_ESM.pdf\n"
   ]
  },
  {
   "cell_type": "code",
   "execution_count": 23,
   "id": "ae8f37f5",
   "metadata": {
    "cq.autogen": "SingleQubitCompare.bloq_doc.py"
   },
   "outputs": [],
   "source": [
    "from qualtran.bloqs.arithmetic import SingleQubitCompare"
   ]
  },
  {
   "cell_type": "markdown",
   "id": "61ef1472",
   "metadata": {
    "cq.autogen": "SingleQubitCompare.example_instances.md"
   },
   "source": [
    "### Example Instances"
   ]
  },
  {
   "cell_type": "code",
   "execution_count": 24,
   "id": "534c5c22",
   "metadata": {
    "cq.autogen": "SingleQubitCompare.sq_cmp"
   },
   "outputs": [],
   "source": [
    "sq_cmp = SingleQubitCompare()"
   ]
  },
  {
   "cell_type": "markdown",
   "id": "2843d328",
   "metadata": {
    "cq.autogen": "SingleQubitCompare.graphical_signature.md"
   },
   "source": [
    "#### Graphical Signature"
   ]
  },
  {
   "cell_type": "code",
   "execution_count": 25,
   "id": "d5dcf72e",
   "metadata": {
    "cq.autogen": "SingleQubitCompare.graphical_signature.py"
   },
   "outputs": [
    {
     "data": {
      "application/vnd.jupyter.widget-view+json": {
       "model_id": "88335f1deb7c42539275b2968946e26e",
       "version_major": 2,
       "version_minor": 0
      },
      "text/plain": [
       "HBox(children=(Output(outputs=({'output_type': 'display_data', 'data': {'text/plain': '<IPython.core.display.M…"
      ]
     },
     "metadata": {},
     "output_type": "display_data"
    }
   ],
   "source": [
    "from qualtran.drawing import show_bloqs\n",
    "show_bloqs([sq_cmp],\n",
    "           ['`sq_cmp`'])"
   ]
  },
  {
   "cell_type": "markdown",
   "id": "ee1cc222",
   "metadata": {
    "cq.autogen": "SingleQubitCompare.call_graph.md"
   },
   "source": [
    "### Call Graph"
   ]
  },
  {
   "cell_type": "code",
   "execution_count": 26,
   "id": "c96f20fc",
   "metadata": {
    "cq.autogen": "SingleQubitCompare.call_graph.py"
   },
   "outputs": [
    {
     "data": {
      "image/svg+xml": [
       "<svg xmlns=\"http://www.w3.org/2000/svg\" xmlns:xlink=\"http://www.w3.org/1999/xlink\" width=\"488pt\" height=\"131pt\" viewBox=\"0.00 0.00 487.50 131.00\">\n",
       "<g id=\"graph0\" class=\"graph\" transform=\"scale(1 1) rotate(0) translate(4 127)\">\n",
       "<title>counts</title>\n",
       "<polygon fill=\"white\" stroke=\"transparent\" points=\"-4,4 -4,-127 483.5,-127 483.5,4 -4,4\"/>\n",
       "<!-- b0 -->\n",
       "<g id=\"node1\" class=\"node\">\n",
       "<title>b0</title>\n",
       "<polygon fill=\"none\" stroke=\"black\" points=\"304,-123 172,-123 172,-87 304,-87 304,-123\"/>\n",
       "<text text-anchor=\"start\" x=\"180\" y=\"-106.8\" font-family=\"Times,serif\" font-size=\"14.00\">SingleQubitCompare</text>\n",
       "<text text-anchor=\"start\" x=\"189.5\" y=\"-96\" font-family=\"monospace\" font-size=\"10.00\">is_adjoint=False</text>\n",
       "</g>\n",
       "<!-- b1 -->\n",
       "<g id=\"node2\" class=\"node\">\n",
       "<title>b1</title>\n",
       "<polygon fill=\"none\" stroke=\"black\" points=\"54,-36 0,-36 0,0 54,0 54,-36\"/>\n",
       "<text text-anchor=\"start\" x=\"8.5\" y=\"-14.3\" font-family=\"Times,serif\" font-size=\"14.00\">CNOT</text>\n",
       "</g>\n",
       "<!-- b0&#45;&gt;b1 -->\n",
       "<g id=\"edge1\" class=\"edge\">\n",
       "<title>b0-&gt;b1</title>\n",
       "<path fill=\"none\" stroke=\"black\" d=\"M191.58,-86.98C158.25,-74.53 112.12,-56.84 63.47,-36.07\"/>\n",
       "<polygon fill=\"black\" stroke=\"black\" points=\"64.6,-32.75 54.03,-32.02 61.84,-39.18 64.6,-32.75\"/>\n",
       "<text text-anchor=\"middle\" x=\"147.5\" y=\"-57.8\" font-family=\"Times,serif\" font-size=\"14.00\">4</text>\n",
       "</g>\n",
       "<!-- b2 -->\n",
       "<g id=\"node3\" class=\"node\">\n",
       "<title>b2</title>\n",
       "<polygon fill=\"none\" stroke=\"black\" points=\"263.5,-36 72.5,-36 72.5,0 263.5,0 263.5,-36\"/>\n",
       "<text text-anchor=\"start\" x=\"156\" y=\"-19.8\" font-family=\"Times,serif\" font-size=\"14.00\">And</text>\n",
       "<text text-anchor=\"start\" x=\"80.5\" y=\"-9\" font-family=\"monospace\" font-size=\"10.00\">cv1=0, cv2=1, uncompute=False</text>\n",
       "</g>\n",
       "<!-- b0&#45;&gt;b2 -->\n",
       "<g id=\"edge2\" class=\"edge\">\n",
       "<title>b0-&gt;b2</title>\n",
       "<path fill=\"none\" stroke=\"black\" d=\"M223.83,-86.8C213.78,-74.59 200.11,-57.99 188.82,-44.28\"/>\n",
       "<polygon fill=\"black\" stroke=\"black\" points=\"191.2,-41.67 182.14,-36.18 185.8,-46.12 191.2,-41.67\"/>\n",
       "<text text-anchor=\"middle\" x=\"211.5\" y=\"-57.8\" font-family=\"Times,serif\" font-size=\"14.00\">1</text>\n",
       "</g>\n",
       "<!-- b3 -->\n",
       "<g id=\"node4\" class=\"node\">\n",
       "<title>b3</title>\n",
       "<polygon fill=\"none\" stroke=\"black\" points=\"336,-36 282,-36 282,0 336,0 336,-36\"/>\n",
       "<text text-anchor=\"start\" x=\"291\" y=\"-14.3\" font-family=\"Times,serif\" font-size=\"14.00\">XGate</text>\n",
       "</g>\n",
       "<!-- b0&#45;&gt;b3 -->\n",
       "<g id=\"edge3\" class=\"edge\">\n",
       "<title>b0-&gt;b3</title>\n",
       "<path fill=\"none\" stroke=\"black\" d=\"M252.37,-86.8C262.67,-74.47 276.69,-57.68 288.21,-43.89\"/>\n",
       "<polygon fill=\"black\" stroke=\"black\" points=\"290.93,-46.09 294.65,-36.18 285.56,-41.61 290.93,-46.09\"/>\n",
       "<text text-anchor=\"middle\" x=\"281.5\" y=\"-57.8\" font-family=\"Times,serif\" font-size=\"14.00\">1</text>\n",
       "</g>\n",
       "<!-- b4 -->\n",
       "<g id=\"node5\" class=\"node\">\n",
       "<title>b4</title>\n",
       "<polygon fill=\"none\" stroke=\"black\" points=\"479.5,-36 354.5,-36 354.5,0 479.5,0 479.5,-36\"/>\n",
       "<text text-anchor=\"start\" x=\"394\" y=\"-19.8\" font-family=\"Times,serif\" font-size=\"14.00\">Allocate</text>\n",
       "<text text-anchor=\"start\" x=\"362.5\" y=\"-9\" font-family=\"monospace\" font-size=\"10.00\">dtype=QAny(bit ...</text>\n",
       "</g>\n",
       "<!-- b0&#45;&gt;b4 -->\n",
       "<g id=\"edge4\" class=\"edge\">\n",
       "<title>b0-&gt;b4</title>\n",
       "<path fill=\"none\" stroke=\"black\" d=\"M274.22,-86.8C302.46,-73.39 341.82,-54.7 372.07,-40.34\"/>\n",
       "<polygon fill=\"black\" stroke=\"black\" points=\"373.6,-43.48 381.14,-36.03 370.6,-37.16 373.6,-43.48\"/>\n",
       "<text text-anchor=\"middle\" x=\"342.5\" y=\"-57.8\" font-family=\"Times,serif\" font-size=\"14.00\">1</text>\n",
       "</g>\n",
       "</g>\n",
       "</svg>"
      ],
      "text/plain": [
       "<IPython.core.display.SVG object>"
      ]
     },
     "metadata": {},
     "output_type": "display_data"
    },
    {
     "data": {
      "text/markdown": [
       "#### Counts totals:\n",
       " - `Allocate(dtype=QAny(bitsize=1))`: 1\n",
       " - `And(cv1=0, cv2=1, uncompute=False)`: 1\n",
       " - `CNOT()`: 4\n",
       " - `XGate()`: 1"
      ],
      "text/plain": [
       "<IPython.core.display.Markdown object>"
      ]
     },
     "metadata": {},
     "output_type": "display_data"
    }
   ],
   "source": [
    "from qualtran.resource_counting.generalizers import ignore_split_join\n",
    "sq_cmp_g, sq_cmp_sigma = sq_cmp.call_graph(max_depth=1, generalizer=ignore_split_join)\n",
    "show_call_graph(sq_cmp_g)\n",
    "show_counts_sigma(sq_cmp_sigma)"
   ]
  },
  {
   "cell_type": "markdown",
   "id": "50d83fdb",
   "metadata": {
    "cq.autogen": "LessThanEqual.bloq_doc.md"
   },
   "source": [
    "## `LessThanEqual`\n",
    "Applies U|x>|y>|z> = |x>|y> |z ^ (x <= y)>\n",
    "\n",
    "Decomposes the gate in a T-complexity optimal way.\n",
    "\n",
    "The construction can be broken in 4 parts:\n",
    " 1. In case of differing bitsizes then a multicontrol And Gate\n",
    "    (Section III.A. of the first reference) is used to check whether\n",
    "    the extra prefix is equal to zero and the result is stored in the `prefix_equality` qubit.\n",
    " 2. The tree structure (Fig. 2) of the second reference.\n",
    "    followed by a `SingleQubitCompare` to compute the result of comparison of\n",
    "    the suffixes of equal length. The result is stored in `less_than` and `greater_than` and\n",
    "    equality in `qubits[-2]`\n",
    " 3. The results from the previous two steps are combined to update the target qubit.\n",
    " 4. The adjoint of the previous operations is added to restore the input qubits\n",
    "    to their original state and clean the ancilla qubits.\n",
    "\n",
    "When both registers are of the same size the T complexity is\n",
    "8n - 4 as in the second reference.\n",
    "\n",
    "When the registers differ in size and `n` is the size of the smaller one and\n",
    "`d` is the difference in size, the T complexity is the sum of the tree\n",
    "decomposition as before giving 8n + O(1); and the T complexity of an `And` gate\n",
    "over `d` registers giving 4d + O(1). This totals 8n + 4d + O(1).\n",
    "\n",
    "#### References\n",
    " - [Encoding Electronic Spectra in Quantum Circuits with Linear T Complexity](https://arxiv.org/abs/1805.03662). \n",
    " - Supplementary Materials: Improved Techniques for Preparing Eigenstates of Fermionic Hamiltonians. https://static-content.springer.com/esm/art%3A10.1038%2Fs41534-018-0071-5/MediaObjects/41534_2018_71_MOESM1_ESM.pdf\n"
   ]
  },
  {
   "cell_type": "code",
   "execution_count": 27,
   "id": "31d1717c",
   "metadata": {
    "cq.autogen": "LessThanEqual.bloq_doc.py"
   },
   "outputs": [],
   "source": [
    "from qualtran.bloqs.arithmetic import LessThanEqual"
   ]
  },
  {
   "cell_type": "markdown",
   "id": "bb520292",
   "metadata": {
    "cq.autogen": "LessThanEqual.example_instances.md"
   },
   "source": [
    "### Example Instances"
   ]
  },
  {
   "cell_type": "code",
   "execution_count": 28,
   "id": "8c60d014",
   "metadata": {
    "cq.autogen": "LessThanEqual.leq_symb"
   },
   "outputs": [],
   "source": [
    "n1, n2 = sympy.symbols('n1 n2')\n",
    "leq_symb = LessThanEqual(x_bitsize=n1, y_bitsize=n2)"
   ]
  },
  {
   "cell_type": "code",
   "execution_count": 29,
   "id": "545b145c",
   "metadata": {
    "cq.autogen": "LessThanEqual.leq"
   },
   "outputs": [],
   "source": [
    "leq = LessThanEqual(x_bitsize=4, y_bitsize=8)"
   ]
  },
  {
   "cell_type": "markdown",
   "id": "40db2f9f",
   "metadata": {
    "cq.autogen": "LessThanEqual.graphical_signature.md"
   },
   "source": [
    "#### Graphical Signature"
   ]
  },
  {
   "cell_type": "code",
   "execution_count": 30,
   "id": "bc035e97",
   "metadata": {
    "cq.autogen": "LessThanEqual.graphical_signature.py"
   },
   "outputs": [
    {
     "data": {
      "application/vnd.jupyter.widget-view+json": {
       "model_id": "f5df67de72bd4ecda3db6fc38f935965",
       "version_major": 2,
       "version_minor": 0
      },
      "text/plain": [
       "HBox(children=(Output(outputs=({'output_type': 'display_data', 'data': {'text/plain': '<IPython.core.display.M…"
      ]
     },
     "metadata": {},
     "output_type": "display_data"
    }
   ],
   "source": [
    "from qualtran.drawing import show_bloqs\n",
    "show_bloqs([leq, leq_symb],\n",
    "           ['`leq`', '`leq_symb`'])"
   ]
  },
  {
   "cell_type": "markdown",
   "id": "1fe92bed",
   "metadata": {
    "cq.autogen": "LessThanEqual.call_graph.md"
   },
   "source": [
    "### Call Graph"
   ]
  },
  {
   "cell_type": "code",
   "execution_count": 31,
   "id": "dcd53c93",
   "metadata": {
    "cq.autogen": "LessThanEqual.call_graph.py"
   },
   "outputs": [
    {
     "data": {
      "image/svg+xml": [
       "<svg xmlns=\"http://www.w3.org/2000/svg\" xmlns:xlink=\"http://www.w3.org/1999/xlink\" width=\"1390pt\" height=\"131pt\" viewBox=\"0.00 0.00 1390.00 131.00\">\n",
       "<g id=\"graph0\" class=\"graph\" transform=\"scale(1 1) rotate(0) translate(4 127)\">\n",
       "<title>counts</title>\n",
       "<polygon fill=\"white\" stroke=\"transparent\" points=\"-4,4 -4,-127 1386,-127 1386,4 -4,4\"/>\n",
       "<!-- b0 -->\n",
       "<g id=\"node1\" class=\"node\">\n",
       "<title>b0</title>\n",
       "<polygon fill=\"none\" stroke=\"black\" points=\"836,-123 675,-123 675,-87 836,-87 836,-123\"/>\n",
       "<text text-anchor=\"start\" x=\"713\" y=\"-106.8\" font-family=\"Times,serif\" font-size=\"14.00\">LessThanEqual</text>\n",
       "<text text-anchor=\"start\" x=\"683\" y=\"-96\" font-family=\"monospace\" font-size=\"10.00\">x_bitsize=4, y_bitsize=8</text>\n",
       "</g>\n",
       "<!-- b1 -->\n",
       "<g id=\"node2\" class=\"node\">\n",
       "<title>b1</title>\n",
       "<polygon fill=\"none\" stroke=\"black\" points=\"113,-36 0,-36 0,0 113,0 113,-36\"/>\n",
       "<text text-anchor=\"start\" x=\"29\" y=\"-19.8\" font-family=\"Times,serif\" font-size=\"14.00\">MultiAnd</text>\n",
       "<text text-anchor=\"start\" x=\"8\" y=\"-9\" font-family=\"monospace\" font-size=\"10.00\">cvs=(0, 0, 0, 0)</text>\n",
       "</g>\n",
       "<!-- b0&#45;&gt;b1 -->\n",
       "<g id=\"edge1\" class=\"edge\">\n",
       "<title>b0-&gt;b1</title>\n",
       "<path fill=\"none\" stroke=\"black\" d=\"M674.98,-102.47C576.3,-99.65 404.23,-91.65 258.5,-69 212.75,-61.89 162.19,-49.37 123.1,-38.64\"/>\n",
       "<polygon fill=\"black\" stroke=\"black\" points=\"123.99,-35.25 113.42,-35.95 122.12,-42 123.99,-35.25\"/>\n",
       "<text text-anchor=\"middle\" x=\"262\" y=\"-57.8\" font-family=\"Times,serif\" font-size=\"14.00\">1</text>\n",
       "</g>\n",
       "<!-- b2 -->\n",
       "<g id=\"node3\" class=\"node\">\n",
       "<title>b2</title>\n",
       "<polygon fill=\"none\" stroke=\"black\" points=\"185.5,-36 131.5,-36 131.5,0 185.5,0 185.5,-36\"/>\n",
       "<text text-anchor=\"start\" x=\"140.5\" y=\"-14.3\" font-family=\"Times,serif\" font-size=\"14.00\">XGate</text>\n",
       "</g>\n",
       "<!-- b0&#45;&gt;b2 -->\n",
       "<g id=\"edge2\" class=\"edge\">\n",
       "<title>b0-&gt;b2</title>\n",
       "<path fill=\"none\" stroke=\"black\" d=\"M674.93,-102.29C566.55,-98.22 368.4,-84.53 195.45,-35.74\"/>\n",
       "<polygon fill=\"black\" stroke=\"black\" points=\"196.24,-32.32 185.66,-32.93 194.31,-39.05 196.24,-32.32\"/>\n",
       "<text text-anchor=\"middle\" x=\"334\" y=\"-57.8\" font-family=\"Times,serif\" font-size=\"14.00\">1</text>\n",
       "</g>\n",
       "<!-- b3 -->\n",
       "<g id=\"node4\" class=\"node\">\n",
       "<title>b3</title>\n",
       "<polygon fill=\"none\" stroke=\"black\" points=\"389,-36 204,-36 204,0 389,0 389,-36\"/>\n",
       "<text text-anchor=\"start\" x=\"281\" y=\"-19.8\" font-family=\"Times,serif\" font-size=\"14.00\">And†</text>\n",
       "<text text-anchor=\"start\" x=\"212\" y=\"-9\" font-family=\"monospace\" font-size=\"10.00\">cv1=1, cv2=0, uncompute=True</text>\n",
       "</g>\n",
       "<!-- b0&#45;&gt;b3 -->\n",
       "<g id=\"edge3\" class=\"edge\">\n",
       "<title>b0-&gt;b3</title>\n",
       "<path fill=\"none\" stroke=\"black\" d=\"M674.76,-89.05C597.88,-74.81 481.88,-53.33 398.62,-37.91\"/>\n",
       "<polygon fill=\"black\" stroke=\"black\" points=\"399.1,-34.44 388.63,-36.06 397.82,-41.32 399.1,-34.44\"/>\n",
       "<text text-anchor=\"middle\" x=\"557\" y=\"-57.8\" font-family=\"Times,serif\" font-size=\"14.00\">1</text>\n",
       "</g>\n",
       "<!-- b4 -->\n",
       "<g id=\"node5\" class=\"node\">\n",
       "<title>b4</title>\n",
       "<polygon fill=\"none\" stroke=\"black\" points=\"598,-36 407,-36 407,0 598,0 598,-36\"/>\n",
       "<text text-anchor=\"start\" x=\"490.5\" y=\"-19.8\" font-family=\"Times,serif\" font-size=\"14.00\">And</text>\n",
       "<text text-anchor=\"start\" x=\"415\" y=\"-9\" font-family=\"monospace\" font-size=\"10.00\">cv1=1, cv2=0, uncompute=False</text>\n",
       "</g>\n",
       "<!-- b0&#45;&gt;b4 -->\n",
       "<g id=\"edge4\" class=\"edge\">\n",
       "<title>b0-&gt;b4</title>\n",
       "<path fill=\"none\" stroke=\"black\" d=\"M704.61,-86.9C663.69,-73.15 606.11,-53.81 562.86,-39.28\"/>\n",
       "<polygon fill=\"black\" stroke=\"black\" points=\"563.91,-35.94 553.31,-36.07 561.68,-42.57 563.91,-35.94\"/>\n",
       "<text text-anchor=\"middle\" x=\"648\" y=\"-57.8\" font-family=\"Times,serif\" font-size=\"14.00\">1</text>\n",
       "</g>\n",
       "<!-- b5 -->\n",
       "<g id=\"node6\" class=\"node\">\n",
       "<title>b5</title>\n",
       "<polygon fill=\"none\" stroke=\"black\" points=\"753,-36 616,-36 616,0 753,0 753,-36\"/>\n",
       "<text text-anchor=\"start\" x=\"654\" y=\"-19.8\" font-family=\"Times,serif\" font-size=\"14.00\">MultiAnd†</text>\n",
       "<text text-anchor=\"start\" x=\"624\" y=\"-9\" font-family=\"monospace\" font-size=\"10.00\">subbloq=MultiAnd ...</text>\n",
       "</g>\n",
       "<!-- b0&#45;&gt;b5 -->\n",
       "<g id=\"edge5\" class=\"edge\">\n",
       "<title>b0-&gt;b5</title>\n",
       "<path fill=\"none\" stroke=\"black\" d=\"M741.13,-86.8C730.83,-74.47 716.81,-57.68 705.29,-43.89\"/>\n",
       "<polygon fill=\"black\" stroke=\"black\" points=\"707.94,-41.61 698.85,-36.18 702.57,-46.09 707.94,-41.61\"/>\n",
       "<text text-anchor=\"middle\" x=\"728\" y=\"-57.8\" font-family=\"Times,serif\" font-size=\"14.00\">1</text>\n",
       "</g>\n",
       "<!-- b6 -->\n",
       "<g id=\"node7\" class=\"node\">\n",
       "<title>b6</title>\n",
       "<polygon fill=\"none\" stroke=\"black\" points=\"884,-36 771,-36 771,0 884,0 884,-36\"/>\n",
       "<text text-anchor=\"start\" x=\"786\" y=\"-19.8\" font-family=\"Times,serif\" font-size=\"14.00\">BiQubitsMixer</text>\n",
       "<text text-anchor=\"start\" x=\"779\" y=\"-9\" font-family=\"monospace\" font-size=\"10.00\">is_adjoint=False</text>\n",
       "</g>\n",
       "<!-- b0&#45;&gt;b6 -->\n",
       "<g id=\"edge6\" class=\"edge\">\n",
       "<title>b0-&gt;b6</title>\n",
       "<path fill=\"none\" stroke=\"black\" d=\"M770.07,-86.8C780.51,-74.47 794.74,-57.68 806.42,-43.89\"/>\n",
       "<polygon fill=\"black\" stroke=\"black\" points=\"809.16,-46.07 812.95,-36.18 803.82,-41.54 809.16,-46.07\"/>\n",
       "<text text-anchor=\"middle\" x=\"800\" y=\"-57.8\" font-family=\"Times,serif\" font-size=\"14.00\">3</text>\n",
       "</g>\n",
       "<!-- b7 -->\n",
       "<g id=\"node8\" class=\"node\">\n",
       "<title>b7</title>\n",
       "<polygon fill=\"none\" stroke=\"black\" points=\"956.5,-36 902.5,-36 902.5,0 956.5,0 956.5,-36\"/>\n",
       "<text text-anchor=\"start\" x=\"911\" y=\"-14.3\" font-family=\"Times,serif\" font-size=\"14.00\">CNOT</text>\n",
       "</g>\n",
       "<!-- b0&#45;&gt;b7 -->\n",
       "<g id=\"edge7\" class=\"edge\">\n",
       "<title>b0-&gt;b7</title>\n",
       "<path fill=\"none\" stroke=\"black\" d=\"M790.71,-86.8C820.46,-72.27 862.91,-51.53 893.02,-36.82\"/>\n",
       "<polygon fill=\"black\" stroke=\"black\" points=\"894.88,-39.81 902.32,-32.28 891.8,-33.52 894.88,-39.81\"/>\n",
       "<text text-anchor=\"middle\" x=\"857\" y=\"-57.8\" font-family=\"Times,serif\" font-size=\"14.00\">2</text>\n",
       "</g>\n",
       "<!-- b8 -->\n",
       "<g id=\"node9\" class=\"node\">\n",
       "<title>b8</title>\n",
       "<polygon fill=\"none\" stroke=\"black\" points=\"1106.5,-36 974.5,-36 974.5,0 1106.5,0 1106.5,-36\"/>\n",
       "<text text-anchor=\"start\" x=\"982.5\" y=\"-19.8\" font-family=\"Times,serif\" font-size=\"14.00\">SingleQubitCompare</text>\n",
       "<text text-anchor=\"start\" x=\"995\" y=\"-9\" font-family=\"monospace\" font-size=\"10.00\">is_adjoint=True</text>\n",
       "</g>\n",
       "<!-- b0&#45;&gt;b8 -->\n",
       "<g id=\"edge8\" class=\"edge\">\n",
       "<title>b0-&gt;b8</title>\n",
       "<path fill=\"none\" stroke=\"black\" d=\"M812.83,-86.9C859.21,-73.07 924.61,-53.56 973.42,-39.01\"/>\n",
       "<polygon fill=\"black\" stroke=\"black\" points=\"974.68,-42.28 983.26,-36.07 972.68,-35.58 974.68,-42.28\"/>\n",
       "<text text-anchor=\"middle\" x=\"919\" y=\"-57.8\" font-family=\"Times,serif\" font-size=\"14.00\">1</text>\n",
       "</g>\n",
       "<!-- b9 -->\n",
       "<g id=\"node10\" class=\"node\">\n",
       "<title>b9</title>\n",
       "<polygon fill=\"none\" stroke=\"black\" points=\"1256.5,-36 1124.5,-36 1124.5,0 1256.5,0 1256.5,-36\"/>\n",
       "<text text-anchor=\"start\" x=\"1132.5\" y=\"-19.8\" font-family=\"Times,serif\" font-size=\"14.00\">SingleQubitCompare</text>\n",
       "<text text-anchor=\"start\" x=\"1142\" y=\"-9\" font-family=\"monospace\" font-size=\"10.00\">is_adjoint=False</text>\n",
       "</g>\n",
       "<!-- b0&#45;&gt;b9 -->\n",
       "<g id=\"edge9\" class=\"edge\">\n",
       "<title>b0-&gt;b9</title>\n",
       "<path fill=\"none\" stroke=\"black\" d=\"M836.09,-89.64C906.88,-76.83 1012.88,-57.16 1114.46,-36.18\"/>\n",
       "<polygon fill=\"black\" stroke=\"black\" points=\"1115.19,-39.6 1124.27,-34.15 1113.77,-32.75 1115.19,-39.6\"/>\n",
       "<text text-anchor=\"middle\" x=\"1021\" y=\"-57.8\" font-family=\"Times,serif\" font-size=\"14.00\">1</text>\n",
       "</g>\n",
       "<!-- b10 -->\n",
       "<g id=\"node11\" class=\"node\">\n",
       "<title>b10</title>\n",
       "<polygon fill=\"none\" stroke=\"black\" points=\"1382,-36 1275,-36 1275,0 1382,0 1382,-36\"/>\n",
       "<text text-anchor=\"start\" x=\"1287\" y=\"-19.8\" font-family=\"Times,serif\" font-size=\"14.00\">BiQubitsMixer</text>\n",
       "<text text-anchor=\"start\" x=\"1283\" y=\"-9\" font-family=\"monospace\" font-size=\"10.00\">is_adjoint=True</text>\n",
       "</g>\n",
       "<!-- b0&#45;&gt;b10 -->\n",
       "<g id=\"edge10\" class=\"edge\">\n",
       "<title>b0-&gt;b10</title>\n",
       "<path fill=\"none\" stroke=\"black\" d=\"M836.01,-96.7C934.93,-86.97 1107.9,-67.44 1265.14,-35.92\"/>\n",
       "<polygon fill=\"black\" stroke=\"black\" points=\"1265.89,-39.34 1274.99,-33.93 1264.5,-32.48 1265.89,-39.34\"/>\n",
       "<text text-anchor=\"middle\" x=\"1159\" y=\"-57.8\" font-family=\"Times,serif\" font-size=\"14.00\">3</text>\n",
       "</g>\n",
       "</g>\n",
       "</svg>"
      ],
      "text/plain": [
       "<IPython.core.display.SVG object>"
      ]
     },
     "metadata": {},
     "output_type": "display_data"
    },
    {
     "data": {
      "text/markdown": [
       "#### Counts totals:\n",
       " - `Adjoint(subbloq=MultiAnd(cvs=(0, 0, 0, 0)))`: 1\n",
       " - `And(cv1=1, cv2=0, uncompute=False)`: 1\n",
       " - `And(cv1=1, cv2=0, uncompute=True)`: 1\n",
       " - `BiQubitsMixer(is_adjoint=False)`: 3\n",
       " - `BiQubitsMixer(is_adjoint=True)`: 3\n",
       " - `CNOT()`: 2\n",
       " - `MultiAnd(cvs=(0, 0, 0, 0))`: 1\n",
       " - `SingleQubitCompare(is_adjoint=False)`: 1\n",
       " - `SingleQubitCompare(is_adjoint=True)`: 1\n",
       " - `XGate()`: 1"
      ],
      "text/plain": [
       "<IPython.core.display.Markdown object>"
      ]
     },
     "metadata": {},
     "output_type": "display_data"
    }
   ],
   "source": [
    "from qualtran.resource_counting.generalizers import ignore_split_join\n",
    "leq_g, leq_sigma = leq.call_graph(max_depth=1, generalizer=ignore_split_join)\n",
    "show_call_graph(leq_g)\n",
    "show_counts_sigma(leq_sigma)"
   ]
  }
 ],
 "metadata": {
  "kernelspec": {
   "display_name": "Python 3 (ipykernel)",
   "language": "python",
   "name": "python3"
  },
  "language_info": {
   "codemirror_mode": {
    "name": "ipython",
    "version": 3
   },
   "file_extension": ".py",
   "mimetype": "text/x-python",
   "name": "python",
   "nbconvert_exporter": "python",
   "pygments_lexer": "ipython3",
   "version": "3.11.8"
  },
  "widgets": {
   "application/vnd.jupyter.widget-state+json": {
    "state": {
     "0227931651a34d06a2bee8763da725ed": {
      "model_module": "@jupyter-widgets/controls",
      "model_module_version": "2.0.0",
      "model_name": "HBoxModel",
      "state": {
       "_dom_classes": [],
       "_model_module": "@jupyter-widgets/controls",
       "_model_module_version": "2.0.0",
       "_model_name": "HBoxModel",
       "_view_count": null,
       "_view_module": "@jupyter-widgets/controls",
       "_view_module_version": "2.0.0",
       "_view_name": "HBoxView",
       "box_style": "",
       "children": [
        "IPY_MODEL_a0a86dd0d25045a8a0e9923334bf04a5"
       ],
       "layout": "IPY_MODEL_cd320bb985544ae2a2963f028facd861",
       "tabbable": null,
       "tooltip": null
      }
     },
     "13d2f286eadc4a499c211779500ebf69": {
      "model_module": "@jupyter-widgets/base",
      "model_module_version": "2.0.0",
      "model_name": "LayoutModel",
      "state": {
       "_model_module": "@jupyter-widgets/base",
       "_model_module_version": "2.0.0",
       "_model_name": "LayoutModel",
       "_view_count": null,
       "_view_module": "@jupyter-widgets/base",
       "_view_module_version": "2.0.0",
       "_view_name": "LayoutView",
       "align_content": null,
       "align_items": null,
       "align_self": null,
       "border_bottom": null,
       "border_left": null,
       "border_right": null,
       "border_top": null,
       "bottom": null,
       "display": null,
       "flex": null,
       "flex_flow": null,
       "grid_area": null,
       "grid_auto_columns": null,
       "grid_auto_flow": null,
       "grid_auto_rows": null,
       "grid_column": null,
       "grid_gap": null,
       "grid_row": null,
       "grid_template_areas": null,
       "grid_template_columns": null,
       "grid_template_rows": null,
       "height": null,
       "justify_content": null,
       "justify_items": null,
       "left": null,
       "margin": null,
       "max_height": null,
       "max_width": null,
       "min_height": null,
       "min_width": null,
       "object_fit": null,
       "object_position": null,
       "order": null,
       "overflow": null,
       "padding": null,
       "right": null,
       "top": null,
       "visibility": null,
       "width": null
      }
     },
     "1b20932309cc4dc78698f8bdb7ec213f": {
      "model_module": "@jupyter-widgets/output",
      "model_module_version": "1.0.0",
      "model_name": "OutputModel",
      "state": {
       "_dom_classes": [],
       "_model_module": "@jupyter-widgets/output",
       "_model_module_version": "1.0.0",
       "_model_name": "OutputModel",
       "_view_count": null,
       "_view_module": "@jupyter-widgets/output",
       "_view_module_version": "1.0.0",
       "_view_name": "OutputView",
       "layout": "IPY_MODEL_a21425859f8d4c98a5f5a17c150e51b5",
       "msg_id": "",
       "outputs": [
        {
         "data": {
          "text/markdown": "`lt_k_symb`",
          "text/plain": "<IPython.core.display.Markdown object>"
         },
         "metadata": {},
         "output_type": "display_data"
        },
        {
         "data": {
          "image/svg+xml": "<svg xmlns=\"http://www.w3.org/2000/svg\" xmlns:xlink=\"http://www.w3.org/1999/xlink\" width=\"227pt\" height=\"98pt\" viewBox=\"0.00 0.00 227.00 98.00\">\n<g id=\"graph0\" class=\"graph\" transform=\"scale(1 1) rotate(0) translate(4 94)\">\n<title>my_graph</title>\n<polygon fill=\"white\" stroke=\"transparent\" points=\"-4,4 -4,-94 223,-94 223,4 -4,4\"/>\n<!-- x_G0 -->\n<g id=\"node1\" class=\"node\">\n<title>x_G0</title>\n<text text-anchor=\"middle\" x=\"27\" y=\"-68.3\" font-family=\"Times,serif\" font-size=\"14.00\">x</text>\n</g>\n<!-- LessThanConstant -->\n<g id=\"node3\" class=\"node\">\n<title>LessThanConstant</title>\n<polygon fill=\"none\" stroke=\"black\" points=\"91.5,-66 91.5,-83 128.5,-83 128.5,-66 91.5,-66\"/>\n<text text-anchor=\"start\" x=\"101.5\" y=\"-72\" font-family=\"Times,serif\" font-size=\"10.00\">x&lt;k</text>\n<polygon fill=\"none\" stroke=\"black\" points=\"91.5,-45 91.5,-66 128.5,-66 128.5,-45 91.5,-45\"/>\n<text text-anchor=\"start\" x=\"106.5\" y=\"-51.8\" font-family=\"Times,serif\" font-size=\"14.00\">x</text>\n<polygon fill=\"none\" stroke=\"black\" points=\"91.5,-24 91.5,-45 128.5,-45 128.5,-24 91.5,-24\"/>\n<text text-anchor=\"start\" x=\"94.5\" y=\"-30.8\" font-family=\"Times,serif\" font-size=\"14.00\">target</text>\n</g>\n<!-- x_G0&#45;&gt;LessThanConstant -->\n<g id=\"edge1\" class=\"edge\">\n<title>x_G0:e-&gt;LessThanConstant:w</title>\n<path fill=\"none\" stroke=\"black\" d=\"M54,-72C71.22,-72 72.97,-57.23 88.98,-56.07\"/>\n<ellipse fill=\"black\" stroke=\"black\" cx=\"90\" cy=\"-56.04\" rx=\"1\" ry=\"1\"/>\n<text text-anchor=\"middle\" x=\"72.5\" y=\"-67\" font-family=\"Times,serif\" font-size=\"10.00\">n</text>\n</g>\n<!-- target_G2 -->\n<g id=\"node2\" class=\"node\">\n<title>target_G2</title>\n<text text-anchor=\"middle\" x=\"27\" y=\"-14.3\" font-family=\"Times,serif\" font-size=\"14.00\">target</text>\n</g>\n<!-- target_G2&#45;&gt;LessThanConstant -->\n<g id=\"edge2\" class=\"edge\">\n<title>target_G2:e-&gt;LessThanConstant:w</title>\n<path fill=\"none\" stroke=\"black\" d=\"M54,-18C71.22,-18 72.97,-32.77 88.98,-33.93\"/>\n<ellipse fill=\"black\" stroke=\"black\" cx=\"90\" cy=\"-33.96\" rx=\"1\" ry=\"1\"/>\n<text text-anchor=\"middle\" x=\"72.5\" y=\"-29\" font-family=\"Times,serif\" font-size=\"10.00\">1</text>\n</g>\n<!-- x_G1 -->\n<g id=\"node4\" class=\"node\">\n<title>x_G1</title>\n<text text-anchor=\"middle\" x=\"192\" y=\"-68.3\" font-family=\"Times,serif\" font-size=\"14.00\">x</text>\n</g>\n<!-- LessThanConstant&#45;&gt;x_G1 -->\n<g id=\"edge3\" class=\"edge\">\n<title>LessThanConstant:e-&gt;x_G1:w</title>\n<path fill=\"none\" stroke=\"black\" d=\"M128,-56C145.22,-56 146.97,-70.77 162.98,-71.93\"/>\n<ellipse fill=\"black\" stroke=\"black\" cx=\"164\" cy=\"-71.96\" rx=\"1\" ry=\"1\"/>\n<text text-anchor=\"middle\" x=\"146.5\" y=\"-67\" font-family=\"Times,serif\" font-size=\"10.00\">n</text>\n</g>\n<!-- target_G3 -->\n<g id=\"node5\" class=\"node\">\n<title>target_G3</title>\n<text text-anchor=\"middle\" x=\"192\" y=\"-14.3\" font-family=\"Times,serif\" font-size=\"14.00\">target</text>\n</g>\n<!-- LessThanConstant&#45;&gt;target_G3 -->\n<g id=\"edge4\" class=\"edge\">\n<title>LessThanConstant:e-&gt;target_G3:w</title>\n<path fill=\"none\" stroke=\"black\" d=\"M128,-34C145.22,-34 146.97,-19.23 162.98,-18.07\"/>\n<ellipse fill=\"black\" stroke=\"black\" cx=\"164\" cy=\"-18.04\" rx=\"1\" ry=\"1\"/>\n<text text-anchor=\"middle\" x=\"146.5\" y=\"-29\" font-family=\"Times,serif\" font-size=\"10.00\">1</text>\n</g>\n</g>\n</svg>",
          "text/plain": "<IPython.core.display.SVG object>"
         },
         "metadata": {},
         "output_type": "display_data"
        }
       ],
       "tabbable": null,
       "tooltip": null
      }
     },
     "1f30dbb1c1484db38bd1a3b5cb0ff71c": {
      "model_module": "@jupyter-widgets/output",
      "model_module_version": "1.0.0",
      "model_name": "OutputModel",
      "state": {
       "_dom_classes": [],
       "_model_module": "@jupyter-widgets/output",
       "_model_module_version": "1.0.0",
       "_model_name": "OutputModel",
       "_view_count": null,
       "_view_module": "@jupyter-widgets/output",
       "_view_module_version": "1.0.0",
       "_view_name": "OutputView",
       "layout": "IPY_MODEL_38dfa6d106ba416f927fd368963c6697",
       "msg_id": "",
       "outputs": [
        {
         "data": {
          "text/markdown": "`eq_k`",
          "text/plain": "<IPython.core.display.Markdown object>"
         },
         "metadata": {},
         "output_type": "display_data"
        },
        {
         "data": {
          "image/svg+xml": "<svg xmlns=\"http://www.w3.org/2000/svg\" xmlns:xlink=\"http://www.w3.org/1999/xlink\" width=\"229pt\" height=\"98pt\" viewBox=\"0.00 0.00 229.00 98.00\">\n<g id=\"graph0\" class=\"graph\" transform=\"scale(1 1) rotate(0) translate(4 94)\">\n<title>my_graph</title>\n<polygon fill=\"white\" stroke=\"transparent\" points=\"-4,4 -4,-94 225,-94 225,4 -4,4\"/>\n<!-- x_G0 -->\n<g id=\"node1\" class=\"node\">\n<title>x_G0</title>\n<text text-anchor=\"middle\" x=\"27\" y=\"-68.3\" font-family=\"Times,serif\" font-size=\"14.00\">x</text>\n</g>\n<!-- EqualsAConstant -->\n<g id=\"node3\" class=\"node\">\n<title>EqualsAConstant</title>\n<polygon fill=\"none\" stroke=\"black\" points=\"91.5,-66 91.5,-83 130.5,-83 130.5,-66 91.5,-66\"/>\n<text text-anchor=\"start\" x=\"94.5\" y=\"-72\" font-family=\"Times,serif\" font-size=\"10.00\">x == 13</text>\n<polygon fill=\"none\" stroke=\"black\" points=\"91.5,-45 91.5,-66 130.5,-66 130.5,-45 91.5,-45\"/>\n<text text-anchor=\"start\" x=\"107.5\" y=\"-51.8\" font-family=\"Times,serif\" font-size=\"14.00\">x</text>\n<polygon fill=\"none\" stroke=\"black\" points=\"91.5,-24 91.5,-45 130.5,-45 130.5,-24 91.5,-24\"/>\n<text text-anchor=\"start\" x=\"95.5\" y=\"-30.8\" font-family=\"Times,serif\" font-size=\"14.00\">target</text>\n</g>\n<!-- x_G0&#45;&gt;EqualsAConstant -->\n<g id=\"edge1\" class=\"edge\">\n<title>x_G0:e-&gt;EqualsAConstant:w</title>\n<path fill=\"none\" stroke=\"black\" d=\"M54,-72C71.22,-72 72.97,-57.23 88.98,-56.07\"/>\n<ellipse fill=\"black\" stroke=\"black\" cx=\"90\" cy=\"-56.04\" rx=\"1\" ry=\"1\"/>\n<text text-anchor=\"middle\" x=\"72.5\" y=\"-67\" font-family=\"Times,serif\" font-size=\"10.00\">4</text>\n</g>\n<!-- target_G5 -->\n<g id=\"node2\" class=\"node\">\n<title>target_G5</title>\n<text text-anchor=\"middle\" x=\"27\" y=\"-14.3\" font-family=\"Times,serif\" font-size=\"14.00\">target</text>\n</g>\n<!-- target_G5&#45;&gt;EqualsAConstant -->\n<g id=\"edge2\" class=\"edge\">\n<title>target_G5:e-&gt;EqualsAConstant:w</title>\n<path fill=\"none\" stroke=\"black\" d=\"M54,-18C71.22,-18 72.97,-32.77 88.98,-33.93\"/>\n<ellipse fill=\"black\" stroke=\"black\" cx=\"90\" cy=\"-33.96\" rx=\"1\" ry=\"1\"/>\n<text text-anchor=\"middle\" x=\"72.5\" y=\"-29\" font-family=\"Times,serif\" font-size=\"10.00\">1</text>\n</g>\n<!-- x_G1 -->\n<g id=\"node4\" class=\"node\">\n<title>x_G1</title>\n<text text-anchor=\"middle\" x=\"194\" y=\"-68.3\" font-family=\"Times,serif\" font-size=\"14.00\">x</text>\n</g>\n<!-- EqualsAConstant&#45;&gt;x_G1 -->\n<g id=\"edge3\" class=\"edge\">\n<title>EqualsAConstant:e-&gt;x_G1:w</title>\n<path fill=\"none\" stroke=\"black\" d=\"M130,-56C147.22,-56 148.97,-70.77 164.98,-71.93\"/>\n<ellipse fill=\"black\" stroke=\"black\" cx=\"166\" cy=\"-71.96\" rx=\"1\" ry=\"1\"/>\n<text text-anchor=\"middle\" x=\"148.5\" y=\"-67\" font-family=\"Times,serif\" font-size=\"10.00\">4</text>\n</g>\n<!-- target_G4 -->\n<g id=\"node5\" class=\"node\">\n<title>target_G4</title>\n<text text-anchor=\"middle\" x=\"194\" y=\"-14.3\" font-family=\"Times,serif\" font-size=\"14.00\">target</text>\n</g>\n<!-- EqualsAConstant&#45;&gt;target_G4 -->\n<g id=\"edge4\" class=\"edge\">\n<title>EqualsAConstant:e-&gt;target_G4:w</title>\n<path fill=\"none\" stroke=\"black\" d=\"M130,-34C147.22,-34 148.97,-19.23 164.98,-18.07\"/>\n<ellipse fill=\"black\" stroke=\"black\" cx=\"166\" cy=\"-18.04\" rx=\"1\" ry=\"1\"/>\n<text text-anchor=\"middle\" x=\"148.5\" y=\"-29\" font-family=\"Times,serif\" font-size=\"10.00\">1</text>\n</g>\n</g>\n</svg>",
          "text/plain": "<IPython.core.display.SVG object>"
         },
         "metadata": {},
         "output_type": "display_data"
        }
       ],
       "tabbable": null,
       "tooltip": null
      }
     },
     "38dfa6d106ba416f927fd368963c6697": {
      "model_module": "@jupyter-widgets/base",
      "model_module_version": "2.0.0",
      "model_name": "LayoutModel",
      "state": {
       "_model_module": "@jupyter-widgets/base",
       "_model_module_version": "2.0.0",
       "_model_name": "LayoutModel",
       "_view_count": null,
       "_view_module": "@jupyter-widgets/base",
       "_view_module_version": "2.0.0",
       "_view_name": "LayoutView",
       "align_content": null,
       "align_items": null,
       "align_self": null,
       "border_bottom": null,
       "border_left": null,
       "border_right": null,
       "border_top": null,
       "bottom": null,
       "display": null,
       "flex": null,
       "flex_flow": null,
       "grid_area": null,
       "grid_auto_columns": null,
       "grid_auto_flow": null,
       "grid_auto_rows": null,
       "grid_column": null,
       "grid_gap": null,
       "grid_row": null,
       "grid_template_areas": null,
       "grid_template_columns": null,
       "grid_template_rows": null,
       "height": null,
       "justify_content": null,
       "justify_items": null,
       "left": null,
       "margin": null,
       "max_height": null,
       "max_width": null,
       "min_height": null,
       "min_width": null,
       "object_fit": null,
       "object_position": null,
       "order": null,
       "overflow": null,
       "padding": null,
       "right": null,
       "top": null,
       "visibility": null,
       "width": null
      }
     },
     "45f7fc3550f444918e9ae7f57a88793e": {
      "model_module": "@jupyter-widgets/controls",
      "model_module_version": "2.0.0",
      "model_name": "HBoxModel",
      "state": {
       "_dom_classes": [],
       "_model_module": "@jupyter-widgets/controls",
       "_model_module_version": "2.0.0",
       "_model_name": "HBoxModel",
       "_view_count": null,
       "_view_module": "@jupyter-widgets/controls",
       "_view_module_version": "2.0.0",
       "_view_name": "HBoxView",
       "box_style": "",
       "children": [
        "IPY_MODEL_fcd933fb09d745df8e81fc848eab327d",
        "IPY_MODEL_1b20932309cc4dc78698f8bdb7ec213f"
       ],
       "layout": "IPY_MODEL_d15724e070e648a790a3b4a4f19e18a5",
       "tabbable": null,
       "tooltip": null
      }
     },
     "48733e04216147b98613b9aba903d7b7": {
      "model_module": "@jupyter-widgets/base",
      "model_module_version": "2.0.0",
      "model_name": "LayoutModel",
      "state": {
       "_model_module": "@jupyter-widgets/base",
       "_model_module_version": "2.0.0",
       "_model_name": "LayoutModel",
       "_view_count": null,
       "_view_module": "@jupyter-widgets/base",
       "_view_module_version": "2.0.0",
       "_view_name": "LayoutView",
       "align_content": null,
       "align_items": null,
       "align_self": null,
       "border_bottom": null,
       "border_left": null,
       "border_right": null,
       "border_top": null,
       "bottom": null,
       "display": null,
       "flex": null,
       "flex_flow": null,
       "grid_area": null,
       "grid_auto_columns": null,
       "grid_auto_flow": null,
       "grid_auto_rows": null,
       "grid_column": null,
       "grid_gap": null,
       "grid_row": null,
       "grid_template_areas": null,
       "grid_template_columns": null,
       "grid_template_rows": null,
       "height": null,
       "justify_content": null,
       "justify_items": null,
       "left": null,
       "margin": null,
       "max_height": null,
       "max_width": null,
       "min_height": null,
       "min_width": null,
       "object_fit": null,
       "object_position": null,
       "order": null,
       "overflow": null,
       "padding": null,
       "right": null,
       "top": null,
       "visibility": null,
       "width": null
      }
     },
     "49cb8fddc8f84f9ca6e520df2fafdac3": {
      "model_module": "@jupyter-widgets/output",
      "model_module_version": "1.0.0",
      "model_name": "OutputModel",
      "state": {
       "_dom_classes": [],
       "_model_module": "@jupyter-widgets/output",
       "_model_module_version": "1.0.0",
       "_model_name": "OutputModel",
       "_view_count": null,
       "_view_module": "@jupyter-widgets/output",
       "_view_module_version": "1.0.0",
       "_view_name": "OutputView",
       "layout": "IPY_MODEL_48733e04216147b98613b9aba903d7b7",
       "msg_id": "",
       "outputs": [
        {
         "data": {
          "text/markdown": "`leq_symb`",
          "text/plain": "<IPython.core.display.Markdown object>"
         },
         "metadata": {},
         "output_type": "display_data"
        },
        {
         "data": {
          "image/svg+xml": "<svg xmlns=\"http://www.w3.org/2000/svg\" xmlns:xlink=\"http://www.w3.org/1999/xlink\" width=\"227pt\" height=\"152pt\" viewBox=\"0.00 0.00 227.00 152.00\">\n<g id=\"graph0\" class=\"graph\" transform=\"scale(1 1) rotate(0) translate(4 148)\">\n<title>my_graph</title>\n<polygon fill=\"white\" stroke=\"transparent\" points=\"-4,4 -4,-148 223,-148 223,4 -4,4\"/>\n<!-- x_G7 -->\n<g id=\"node1\" class=\"node\">\n<title>x_G7</title>\n<text text-anchor=\"middle\" x=\"27\" y=\"-122.3\" font-family=\"Times,serif\" font-size=\"14.00\">x</text>\n</g>\n<!-- LessThanEqual -->\n<g id=\"node4\" class=\"node\">\n<title>LessThanEqual</title>\n<polygon fill=\"none\" stroke=\"black\" points=\"91.5,-104 91.5,-121 128.5,-121 128.5,-104 91.5,-104\"/>\n<text text-anchor=\"start\" x=\"96\" y=\"-110\" font-family=\"Times,serif\" font-size=\"10.00\">x &lt;= y</text>\n<polygon fill=\"none\" stroke=\"black\" points=\"91.5,-83 91.5,-104 128.5,-104 128.5,-83 91.5,-83\"/>\n<text text-anchor=\"start\" x=\"106.5\" y=\"-89.8\" font-family=\"Times,serif\" font-size=\"14.00\">x</text>\n<polygon fill=\"none\" stroke=\"black\" points=\"91.5,-62 91.5,-83 128.5,-83 128.5,-62 91.5,-62\"/>\n<text text-anchor=\"start\" x=\"106.5\" y=\"-68.8\" font-family=\"Times,serif\" font-size=\"14.00\">y</text>\n<polygon fill=\"none\" stroke=\"black\" points=\"91.5,-41 91.5,-62 128.5,-62 128.5,-41 91.5,-41\"/>\n<text text-anchor=\"start\" x=\"94.5\" y=\"-47.8\" font-family=\"Times,serif\" font-size=\"14.00\">target</text>\n</g>\n<!-- x_G7&#45;&gt;LessThanEqual -->\n<g id=\"edge1\" class=\"edge\">\n<title>x_G7:e-&gt;LessThanEqual:w</title>\n<path fill=\"none\" stroke=\"black\" d=\"M54,-126C74.89,-126 69.72,-96.45 88.58,-94.14\"/>\n<ellipse fill=\"black\" stroke=\"black\" cx=\"90\" cy=\"-94.06\" rx=\"1\" ry=\"1\"/>\n<text text-anchor=\"middle\" x=\"72.5\" y=\"-113\" font-family=\"Times,serif\" font-size=\"10.00\">n1</text>\n</g>\n<!-- y_G0 -->\n<g id=\"node2\" class=\"node\">\n<title>y_G0</title>\n<text text-anchor=\"middle\" x=\"27\" y=\"-68.3\" font-family=\"Times,serif\" font-size=\"14.00\">y</text>\n</g>\n<!-- y_G0&#45;&gt;LessThanEqual -->\n<g id=\"edge2\" class=\"edge\">\n<title>y_G0:e-&gt;LessThanEqual:w</title>\n<path fill=\"none\" stroke=\"black\" d=\"M54,-72C69.67,-72 74.14,-72 88.77,-72\"/>\n<ellipse fill=\"black\" stroke=\"black\" cx=\"90\" cy=\"-72\" rx=\"1\" ry=\"1\"/>\n<text text-anchor=\"middle\" x=\"72.5\" y=\"-75\" font-family=\"Times,serif\" font-size=\"10.00\">n2</text>\n</g>\n<!-- target_G6 -->\n<g id=\"node3\" class=\"node\">\n<title>target_G6</title>\n<text text-anchor=\"middle\" x=\"27\" y=\"-14.3\" font-family=\"Times,serif\" font-size=\"14.00\">target</text>\n</g>\n<!-- target_G6&#45;&gt;LessThanEqual -->\n<g id=\"edge3\" class=\"edge\">\n<title>target_G6:e-&gt;LessThanEqual:w</title>\n<path fill=\"none\" stroke=\"black\" d=\"M54,-18C75.17,-18 69.47,-48.47 88.55,-50.85\"/>\n<ellipse fill=\"black\" stroke=\"black\" cx=\"90\" cy=\"-50.94\" rx=\"1\" ry=\"1\"/>\n<text text-anchor=\"middle\" x=\"72.5\" y=\"-39\" font-family=\"Times,serif\" font-size=\"10.00\">1</text>\n</g>\n<!-- x_G3 -->\n<g id=\"node5\" class=\"node\">\n<title>x_G3</title>\n<text text-anchor=\"middle\" x=\"192\" y=\"-122.3\" font-family=\"Times,serif\" font-size=\"14.00\">x</text>\n</g>\n<!-- LessThanEqual&#45;&gt;x_G3 -->\n<g id=\"edge4\" class=\"edge\">\n<title>LessThanEqual:e-&gt;x_G3:w</title>\n<path fill=\"none\" stroke=\"black\" d=\"M128,-94C148.89,-94 143.72,-123.55 162.58,-125.86\"/>\n<ellipse fill=\"black\" stroke=\"black\" cx=\"164\" cy=\"-125.94\" rx=\"1\" ry=\"1\"/>\n<text text-anchor=\"middle\" x=\"146.5\" y=\"-113\" font-family=\"Times,serif\" font-size=\"10.00\">n1</text>\n</g>\n<!-- y_G1 -->\n<g id=\"node6\" class=\"node\">\n<title>y_G1</title>\n<text text-anchor=\"middle\" x=\"192\" y=\"-68.3\" font-family=\"Times,serif\" font-size=\"14.00\">y</text>\n</g>\n<!-- LessThanEqual&#45;&gt;y_G1 -->\n<g id=\"edge5\" class=\"edge\">\n<title>LessThanEqual:e-&gt;y_G1:w</title>\n<path fill=\"none\" stroke=\"black\" d=\"M128,-72C143.67,-72 148.14,-72 162.77,-72\"/>\n<ellipse fill=\"black\" stroke=\"black\" cx=\"164\" cy=\"-72\" rx=\"1\" ry=\"1\"/>\n<text text-anchor=\"middle\" x=\"146.5\" y=\"-75\" font-family=\"Times,serif\" font-size=\"10.00\">n2</text>\n</g>\n<!-- target_G2 -->\n<g id=\"node7\" class=\"node\">\n<title>target_G2</title>\n<text text-anchor=\"middle\" x=\"192\" y=\"-14.3\" font-family=\"Times,serif\" font-size=\"14.00\">target</text>\n</g>\n<!-- LessThanEqual&#45;&gt;target_G2 -->\n<g id=\"edge6\" class=\"edge\">\n<title>LessThanEqual:e-&gt;target_G2:w</title>\n<path fill=\"none\" stroke=\"black\" d=\"M128,-51C149.17,-51 143.47,-20.53 162.55,-18.15\"/>\n<ellipse fill=\"black\" stroke=\"black\" cx=\"164\" cy=\"-18.06\" rx=\"1\" ry=\"1\"/>\n<text text-anchor=\"middle\" x=\"146.5\" y=\"-39\" font-family=\"Times,serif\" font-size=\"10.00\">1</text>\n</g>\n</g>\n</svg>",
          "text/plain": "<IPython.core.display.SVG object>"
         },
         "metadata": {},
         "output_type": "display_data"
        }
       ],
       "tabbable": null,
       "tooltip": null
      }
     },
     "60b7493d5e684484b5e4e45a232e8b3a": {
      "model_module": "@jupyter-widgets/base",
      "model_module_version": "2.0.0",
      "model_name": "LayoutModel",
      "state": {
       "_model_module": "@jupyter-widgets/base",
       "_model_module_version": "2.0.0",
       "_model_name": "LayoutModel",
       "_view_count": null,
       "_view_module": "@jupyter-widgets/base",
       "_view_module_version": "2.0.0",
       "_view_name": "LayoutView",
       "align_content": null,
       "align_items": null,
       "align_self": null,
       "border_bottom": null,
       "border_left": null,
       "border_right": null,
       "border_top": null,
       "bottom": null,
       "display": null,
       "flex": null,
       "flex_flow": null,
       "grid_area": null,
       "grid_auto_columns": null,
       "grid_auto_flow": null,
       "grid_auto_rows": null,
       "grid_column": null,
       "grid_gap": null,
       "grid_row": null,
       "grid_template_areas": null,
       "grid_template_columns": null,
       "grid_template_rows": null,
       "height": null,
       "justify_content": null,
       "justify_items": null,
       "left": null,
       "margin": null,
       "max_height": null,
       "max_width": null,
       "min_height": null,
       "min_width": null,
       "object_fit": null,
       "object_position": null,
       "order": null,
       "overflow": null,
       "padding": null,
       "right": null,
       "top": null,
       "visibility": null,
       "width": null
      }
     },
     "7e15456ef8414c86983d4c8f68a3f4c6": {
      "model_module": "@jupyter-widgets/base",
      "model_module_version": "2.0.0",
      "model_name": "LayoutModel",
      "state": {
       "_model_module": "@jupyter-widgets/base",
       "_model_module_version": "2.0.0",
       "_model_name": "LayoutModel",
       "_view_count": null,
       "_view_module": "@jupyter-widgets/base",
       "_view_module_version": "2.0.0",
       "_view_name": "LayoutView",
       "align_content": null,
       "align_items": null,
       "align_self": null,
       "border_bottom": null,
       "border_left": null,
       "border_right": null,
       "border_top": null,
       "bottom": null,
       "display": null,
       "flex": null,
       "flex_flow": null,
       "grid_area": null,
       "grid_auto_columns": null,
       "grid_auto_flow": null,
       "grid_auto_rows": null,
       "grid_column": null,
       "grid_gap": null,
       "grid_row": null,
       "grid_template_areas": null,
       "grid_template_columns": null,
       "grid_template_rows": null,
       "height": null,
       "justify_content": null,
       "justify_items": null,
       "left": null,
       "margin": null,
       "max_height": null,
       "max_width": null,
       "min_height": null,
       "min_width": null,
       "object_fit": null,
       "object_position": null,
       "order": null,
       "overflow": null,
       "padding": null,
       "right": null,
       "top": null,
       "visibility": null,
       "width": null
      }
     },
     "8421c7c5d1194a66885e4222eb01b003": {
      "model_module": "@jupyter-widgets/output",
      "model_module_version": "1.0.0",
      "model_name": "OutputModel",
      "state": {
       "_dom_classes": [],
       "_model_module": "@jupyter-widgets/output",
       "_model_module_version": "1.0.0",
       "_model_name": "OutputModel",
       "_view_count": null,
       "_view_module": "@jupyter-widgets/output",
       "_view_module_version": "1.0.0",
       "_view_name": "OutputView",
       "layout": "IPY_MODEL_7e15456ef8414c86983d4c8f68a3f4c6",
       "msg_id": "",
       "outputs": [
        {
         "data": {
          "text/markdown": "`greater_than`",
          "text/plain": "<IPython.core.display.Markdown object>"
         },
         "metadata": {},
         "output_type": "display_data"
        },
        {
         "data": {
          "image/svg+xml": "<svg xmlns=\"http://www.w3.org/2000/svg\" xmlns:xlink=\"http://www.w3.org/1999/xlink\" width=\"227pt\" height=\"152pt\" viewBox=\"0.00 0.00 227.00 152.00\">\n<g id=\"graph0\" class=\"graph\" transform=\"scale(1 1) rotate(0) translate(4 148)\">\n<title>my_graph</title>\n<polygon fill=\"white\" stroke=\"transparent\" points=\"-4,4 -4,-148 223,-148 223,4 -4,4\"/>\n<!-- a_G8 -->\n<g id=\"node1\" class=\"node\">\n<title>a_G8</title>\n<text text-anchor=\"middle\" x=\"27\" y=\"-122.3\" font-family=\"Times,serif\" font-size=\"14.00\">a</text>\n</g>\n<!-- GreaterThan -->\n<g id=\"node4\" class=\"node\">\n<title>GreaterThan</title>\n<polygon fill=\"none\" stroke=\"black\" points=\"91.5,-104 91.5,-121 128.5,-121 128.5,-104 91.5,-104\"/>\n<text text-anchor=\"start\" x=\"102\" y=\"-110\" font-family=\"Times,serif\" font-size=\"10.00\">a&gt;b</text>\n<polygon fill=\"none\" stroke=\"black\" points=\"91.5,-83 91.5,-104 128.5,-104 128.5,-83 91.5,-83\"/>\n<text text-anchor=\"start\" x=\"106.5\" y=\"-89.8\" font-family=\"Times,serif\" font-size=\"14.00\">a</text>\n<polygon fill=\"none\" stroke=\"black\" points=\"91.5,-62 91.5,-83 128.5,-83 128.5,-62 91.5,-62\"/>\n<text text-anchor=\"start\" x=\"106.5\" y=\"-68.8\" font-family=\"Times,serif\" font-size=\"14.00\">b</text>\n<polygon fill=\"none\" stroke=\"black\" points=\"91.5,-41 91.5,-62 128.5,-62 128.5,-41 91.5,-41\"/>\n<text text-anchor=\"start\" x=\"94.5\" y=\"-47.8\" font-family=\"Times,serif\" font-size=\"14.00\">target</text>\n</g>\n<!-- a_G8&#45;&gt;GreaterThan -->\n<g id=\"edge1\" class=\"edge\">\n<title>a_G8:e-&gt;GreaterThan:w</title>\n<path fill=\"none\" stroke=\"black\" d=\"M54,-126C74.89,-126 69.72,-96.45 88.58,-94.14\"/>\n<ellipse fill=\"black\" stroke=\"black\" cx=\"90\" cy=\"-94.06\" rx=\"1\" ry=\"1\"/>\n<text text-anchor=\"middle\" x=\"72.5\" y=\"-113\" font-family=\"Times,serif\" font-size=\"10.00\">4</text>\n</g>\n<!-- b_G0 -->\n<g id=\"node2\" class=\"node\">\n<title>b_G0</title>\n<text text-anchor=\"middle\" x=\"27\" y=\"-68.3\" font-family=\"Times,serif\" font-size=\"14.00\">b</text>\n</g>\n<!-- b_G0&#45;&gt;GreaterThan -->\n<g id=\"edge2\" class=\"edge\">\n<title>b_G0:e-&gt;GreaterThan:w</title>\n<path fill=\"none\" stroke=\"black\" d=\"M54,-72C69.67,-72 74.14,-72 88.77,-72\"/>\n<ellipse fill=\"black\" stroke=\"black\" cx=\"90\" cy=\"-72\" rx=\"1\" ry=\"1\"/>\n<text text-anchor=\"middle\" x=\"72.5\" y=\"-75\" font-family=\"Times,serif\" font-size=\"10.00\">4</text>\n</g>\n<!-- target_G7 -->\n<g id=\"node3\" class=\"node\">\n<title>target_G7</title>\n<text text-anchor=\"middle\" x=\"27\" y=\"-14.3\" font-family=\"Times,serif\" font-size=\"14.00\">target</text>\n</g>\n<!-- target_G7&#45;&gt;GreaterThan -->\n<g id=\"edge3\" class=\"edge\">\n<title>target_G7:e-&gt;GreaterThan:w</title>\n<path fill=\"none\" stroke=\"black\" d=\"M54,-18C75.17,-18 69.47,-48.47 88.55,-50.85\"/>\n<ellipse fill=\"black\" stroke=\"black\" cx=\"90\" cy=\"-50.94\" rx=\"1\" ry=\"1\"/>\n<text text-anchor=\"middle\" x=\"72.5\" y=\"-39\" font-family=\"Times,serif\" font-size=\"10.00\">1</text>\n</g>\n<!-- a_G5 -->\n<g id=\"node5\" class=\"node\">\n<title>a_G5</title>\n<text text-anchor=\"middle\" x=\"192\" y=\"-122.3\" font-family=\"Times,serif\" font-size=\"14.00\">a</text>\n</g>\n<!-- GreaterThan&#45;&gt;a_G5 -->\n<g id=\"edge4\" class=\"edge\">\n<title>GreaterThan:e-&gt;a_G5:w</title>\n<path fill=\"none\" stroke=\"black\" d=\"M128,-94C148.89,-94 143.72,-123.55 162.58,-125.86\"/>\n<ellipse fill=\"black\" stroke=\"black\" cx=\"164\" cy=\"-125.94\" rx=\"1\" ry=\"1\"/>\n<text text-anchor=\"middle\" x=\"146.5\" y=\"-113\" font-family=\"Times,serif\" font-size=\"10.00\">4</text>\n</g>\n<!-- b_G6 -->\n<g id=\"node6\" class=\"node\">\n<title>b_G6</title>\n<text text-anchor=\"middle\" x=\"192\" y=\"-68.3\" font-family=\"Times,serif\" font-size=\"14.00\">b</text>\n</g>\n<!-- GreaterThan&#45;&gt;b_G6 -->\n<g id=\"edge5\" class=\"edge\">\n<title>GreaterThan:e-&gt;b_G6:w</title>\n<path fill=\"none\" stroke=\"black\" d=\"M128,-72C143.67,-72 148.14,-72 162.77,-72\"/>\n<ellipse fill=\"black\" stroke=\"black\" cx=\"164\" cy=\"-72\" rx=\"1\" ry=\"1\"/>\n<text text-anchor=\"middle\" x=\"146.5\" y=\"-75\" font-family=\"Times,serif\" font-size=\"10.00\">4</text>\n</g>\n<!-- target_G1 -->\n<g id=\"node7\" class=\"node\">\n<title>target_G1</title>\n<text text-anchor=\"middle\" x=\"192\" y=\"-14.3\" font-family=\"Times,serif\" font-size=\"14.00\">target</text>\n</g>\n<!-- GreaterThan&#45;&gt;target_G1 -->\n<g id=\"edge6\" class=\"edge\">\n<title>GreaterThan:e-&gt;target_G1:w</title>\n<path fill=\"none\" stroke=\"black\" d=\"M128,-51C149.17,-51 143.47,-20.53 162.55,-18.15\"/>\n<ellipse fill=\"black\" stroke=\"black\" cx=\"164\" cy=\"-18.06\" rx=\"1\" ry=\"1\"/>\n<text text-anchor=\"middle\" x=\"146.5\" y=\"-39\" font-family=\"Times,serif\" font-size=\"10.00\">1</text>\n</g>\n</g>\n</svg>",
          "text/plain": "<IPython.core.display.SVG object>"
         },
         "metadata": {},
         "output_type": "display_data"
        }
       ],
       "tabbable": null,
       "tooltip": null
      }
     },
     "8616d3d73ce044bf830af64c14f9655e": {
      "model_module": "@jupyter-widgets/controls",
      "model_module_version": "2.0.0",
      "model_name": "HBoxModel",
      "state": {
       "_dom_classes": [],
       "_model_module": "@jupyter-widgets/controls",
       "_model_module_version": "2.0.0",
       "_model_name": "HBoxModel",
       "_view_count": null,
       "_view_module": "@jupyter-widgets/controls",
       "_view_module_version": "2.0.0",
       "_view_name": "HBoxView",
       "box_style": "",
       "children": [
        "IPY_MODEL_b6fe710fdd3a45f0995d8b5c43bba954"
       ],
       "layout": "IPY_MODEL_d774edb1d7d3453796d4ec3e862fa636",
       "tabbable": null,
       "tooltip": null
      }
     },
     "88335f1deb7c42539275b2968946e26e": {
      "model_module": "@jupyter-widgets/controls",
      "model_module_version": "2.0.0",
      "model_name": "HBoxModel",
      "state": {
       "_dom_classes": [],
       "_model_module": "@jupyter-widgets/controls",
       "_model_module_version": "2.0.0",
       "_model_name": "HBoxModel",
       "_view_count": null,
       "_view_module": "@jupyter-widgets/controls",
       "_view_module_version": "2.0.0",
       "_view_name": "HBoxView",
       "box_style": "",
       "children": [
        "IPY_MODEL_b654e14eb064421389279be7047222a8"
       ],
       "layout": "IPY_MODEL_ea9621d1e6dc4bc4a1ae55175adfc6a3",
       "tabbable": null,
       "tooltip": null
      }
     },
     "8e98f21c677447e8aff7a268c56bca5d": {
      "model_module": "@jupyter-widgets/output",
      "model_module_version": "1.0.0",
      "model_name": "OutputModel",
      "state": {
       "_dom_classes": [],
       "_model_module": "@jupyter-widgets/output",
       "_model_module_version": "1.0.0",
       "_model_name": "OutputModel",
       "_view_count": null,
       "_view_module": "@jupyter-widgets/output",
       "_view_module_version": "1.0.0",
       "_view_name": "OutputView",
       "layout": "IPY_MODEL_a896ae5a0be24c53b2736cac2f001def",
       "msg_id": "",
       "outputs": [
        {
         "data": {
          "text/markdown": "`leq`",
          "text/plain": "<IPython.core.display.Markdown object>"
         },
         "metadata": {},
         "output_type": "display_data"
        },
        {
         "data": {
          "image/svg+xml": "<svg xmlns=\"http://www.w3.org/2000/svg\" xmlns:xlink=\"http://www.w3.org/1999/xlink\" width=\"227pt\" height=\"152pt\" viewBox=\"0.00 0.00 227.00 152.00\">\n<g id=\"graph0\" class=\"graph\" transform=\"scale(1 1) rotate(0) translate(4 148)\">\n<title>my_graph</title>\n<polygon fill=\"white\" stroke=\"transparent\" points=\"-4,4 -4,-148 223,-148 223,4 -4,4\"/>\n<!-- x_G5 -->\n<g id=\"node1\" class=\"node\">\n<title>x_G5</title>\n<text text-anchor=\"middle\" x=\"27\" y=\"-122.3\" font-family=\"Times,serif\" font-size=\"14.00\">x</text>\n</g>\n<!-- LessThanEqual -->\n<g id=\"node4\" class=\"node\">\n<title>LessThanEqual</title>\n<polygon fill=\"none\" stroke=\"black\" points=\"91.5,-104 91.5,-121 128.5,-121 128.5,-104 91.5,-104\"/>\n<text text-anchor=\"start\" x=\"96\" y=\"-110\" font-family=\"Times,serif\" font-size=\"10.00\">x &lt;= y</text>\n<polygon fill=\"none\" stroke=\"black\" points=\"91.5,-83 91.5,-104 128.5,-104 128.5,-83 91.5,-83\"/>\n<text text-anchor=\"start\" x=\"106.5\" y=\"-89.8\" font-family=\"Times,serif\" font-size=\"14.00\">x</text>\n<polygon fill=\"none\" stroke=\"black\" points=\"91.5,-62 91.5,-83 128.5,-83 128.5,-62 91.5,-62\"/>\n<text text-anchor=\"start\" x=\"106.5\" y=\"-68.8\" font-family=\"Times,serif\" font-size=\"14.00\">y</text>\n<polygon fill=\"none\" stroke=\"black\" points=\"91.5,-41 91.5,-62 128.5,-62 128.5,-41 91.5,-41\"/>\n<text text-anchor=\"start\" x=\"94.5\" y=\"-47.8\" font-family=\"Times,serif\" font-size=\"14.00\">target</text>\n</g>\n<!-- x_G5&#45;&gt;LessThanEqual -->\n<g id=\"edge1\" class=\"edge\">\n<title>x_G5:e-&gt;LessThanEqual:w</title>\n<path fill=\"none\" stroke=\"black\" d=\"M54,-126C74.89,-126 69.72,-96.45 88.58,-94.14\"/>\n<ellipse fill=\"black\" stroke=\"black\" cx=\"90\" cy=\"-94.06\" rx=\"1\" ry=\"1\"/>\n<text text-anchor=\"middle\" x=\"72.5\" y=\"-113\" font-family=\"Times,serif\" font-size=\"10.00\">4</text>\n</g>\n<!-- y_G3 -->\n<g id=\"node2\" class=\"node\">\n<title>y_G3</title>\n<text text-anchor=\"middle\" x=\"27\" y=\"-68.3\" font-family=\"Times,serif\" font-size=\"14.00\">y</text>\n</g>\n<!-- y_G3&#45;&gt;LessThanEqual -->\n<g id=\"edge2\" class=\"edge\">\n<title>y_G3:e-&gt;LessThanEqual:w</title>\n<path fill=\"none\" stroke=\"black\" d=\"M54,-72C69.67,-72 74.14,-72 88.77,-72\"/>\n<ellipse fill=\"black\" stroke=\"black\" cx=\"90\" cy=\"-72\" rx=\"1\" ry=\"1\"/>\n<text text-anchor=\"middle\" x=\"72.5\" y=\"-75\" font-family=\"Times,serif\" font-size=\"10.00\">8</text>\n</g>\n<!-- target_G6 -->\n<g id=\"node3\" class=\"node\">\n<title>target_G6</title>\n<text text-anchor=\"middle\" x=\"27\" y=\"-14.3\" font-family=\"Times,serif\" font-size=\"14.00\">target</text>\n</g>\n<!-- target_G6&#45;&gt;LessThanEqual -->\n<g id=\"edge3\" class=\"edge\">\n<title>target_G6:e-&gt;LessThanEqual:w</title>\n<path fill=\"none\" stroke=\"black\" d=\"M54,-18C75.17,-18 69.47,-48.47 88.55,-50.85\"/>\n<ellipse fill=\"black\" stroke=\"black\" cx=\"90\" cy=\"-50.94\" rx=\"1\" ry=\"1\"/>\n<text text-anchor=\"middle\" x=\"72.5\" y=\"-39\" font-family=\"Times,serif\" font-size=\"10.00\">1</text>\n</g>\n<!-- x_G0 -->\n<g id=\"node5\" class=\"node\">\n<title>x_G0</title>\n<text text-anchor=\"middle\" x=\"192\" y=\"-122.3\" font-family=\"Times,serif\" font-size=\"14.00\">x</text>\n</g>\n<!-- LessThanEqual&#45;&gt;x_G0 -->\n<g id=\"edge4\" class=\"edge\">\n<title>LessThanEqual:e-&gt;x_G0:w</title>\n<path fill=\"none\" stroke=\"black\" d=\"M128,-94C148.89,-94 143.72,-123.55 162.58,-125.86\"/>\n<ellipse fill=\"black\" stroke=\"black\" cx=\"164\" cy=\"-125.94\" rx=\"1\" ry=\"1\"/>\n<text text-anchor=\"middle\" x=\"146.5\" y=\"-113\" font-family=\"Times,serif\" font-size=\"10.00\">4</text>\n</g>\n<!-- y_G8 -->\n<g id=\"node6\" class=\"node\">\n<title>y_G8</title>\n<text text-anchor=\"middle\" x=\"192\" y=\"-68.3\" font-family=\"Times,serif\" font-size=\"14.00\">y</text>\n</g>\n<!-- LessThanEqual&#45;&gt;y_G8 -->\n<g id=\"edge5\" class=\"edge\">\n<title>LessThanEqual:e-&gt;y_G8:w</title>\n<path fill=\"none\" stroke=\"black\" d=\"M128,-72C143.67,-72 148.14,-72 162.77,-72\"/>\n<ellipse fill=\"black\" stroke=\"black\" cx=\"164\" cy=\"-72\" rx=\"1\" ry=\"1\"/>\n<text text-anchor=\"middle\" x=\"146.5\" y=\"-75\" font-family=\"Times,serif\" font-size=\"10.00\">8</text>\n</g>\n<!-- target_G1 -->\n<g id=\"node7\" class=\"node\">\n<title>target_G1</title>\n<text text-anchor=\"middle\" x=\"192\" y=\"-14.3\" font-family=\"Times,serif\" font-size=\"14.00\">target</text>\n</g>\n<!-- LessThanEqual&#45;&gt;target_G1 -->\n<g id=\"edge6\" class=\"edge\">\n<title>LessThanEqual:e-&gt;target_G1:w</title>\n<path fill=\"none\" stroke=\"black\" d=\"M128,-51C149.17,-51 143.47,-20.53 162.55,-18.15\"/>\n<ellipse fill=\"black\" stroke=\"black\" cx=\"164\" cy=\"-18.06\" rx=\"1\" ry=\"1\"/>\n<text text-anchor=\"middle\" x=\"146.5\" y=\"-39\" font-family=\"Times,serif\" font-size=\"10.00\">1</text>\n</g>\n</g>\n</svg>",
          "text/plain": "<IPython.core.display.SVG object>"
         },
         "metadata": {},
         "output_type": "display_data"
        }
       ],
       "tabbable": null,
       "tooltip": null
      }
     },
     "951be8166d564b3dbc845be9234ca552": {
      "model_module": "@jupyter-widgets/base",
      "model_module_version": "2.0.0",
      "model_name": "LayoutModel",
      "state": {
       "_model_module": "@jupyter-widgets/base",
       "_model_module_version": "2.0.0",
       "_model_name": "LayoutModel",
       "_view_count": null,
       "_view_module": "@jupyter-widgets/base",
       "_view_module_version": "2.0.0",
       "_view_name": "LayoutView",
       "align_content": null,
       "align_items": null,
       "align_self": null,
       "border_bottom": null,
       "border_left": null,
       "border_right": null,
       "border_top": null,
       "bottom": null,
       "display": null,
       "flex": null,
       "flex_flow": null,
       "grid_area": null,
       "grid_auto_columns": null,
       "grid_auto_flow": null,
       "grid_auto_rows": null,
       "grid_column": null,
       "grid_gap": null,
       "grid_row": null,
       "grid_template_areas": null,
       "grid_template_columns": null,
       "grid_template_rows": null,
       "height": null,
       "justify_content": null,
       "justify_items": null,
       "left": null,
       "margin": null,
       "max_height": null,
       "max_width": null,
       "min_height": null,
       "min_width": null,
       "object_fit": null,
       "object_position": null,
       "order": null,
       "overflow": null,
       "padding": null,
       "right": null,
       "top": null,
       "visibility": null,
       "width": null
      }
     },
     "a0a86dd0d25045a8a0e9923334bf04a5": {
      "model_module": "@jupyter-widgets/output",
      "model_module_version": "1.0.0",
      "model_name": "OutputModel",
      "state": {
       "_dom_classes": [],
       "_model_module": "@jupyter-widgets/output",
       "_model_module_version": "1.0.0",
       "_model_name": "OutputModel",
       "_view_count": null,
       "_view_module": "@jupyter-widgets/output",
       "_view_module_version": "1.0.0",
       "_view_name": "OutputView",
       "layout": "IPY_MODEL_60b7493d5e684484b5e4e45a232e8b3a",
       "msg_id": "",
       "outputs": [
        {
         "data": {
          "text/markdown": "`gt_k`",
          "text/plain": "<IPython.core.display.Markdown object>"
         },
         "metadata": {},
         "output_type": "display_data"
        },
        {
         "data": {
          "image/svg+xml": "<svg xmlns=\"http://www.w3.org/2000/svg\" xmlns:xlink=\"http://www.w3.org/1999/xlink\" width=\"227pt\" height=\"98pt\" viewBox=\"0.00 0.00 227.00 98.00\">\n<g id=\"graph0\" class=\"graph\" transform=\"scale(1 1) rotate(0) translate(4 94)\">\n<title>my_graph</title>\n<polygon fill=\"white\" stroke=\"transparent\" points=\"-4,4 -4,-94 223,-94 223,4 -4,4\"/>\n<!-- x_G2 -->\n<g id=\"node1\" class=\"node\">\n<title>x_G2</title>\n<text text-anchor=\"middle\" x=\"27\" y=\"-68.3\" font-family=\"Times,serif\" font-size=\"14.00\">x</text>\n</g>\n<!-- GreaterThanConstant -->\n<g id=\"node3\" class=\"node\">\n<title>GreaterThanConstant</title>\n<polygon fill=\"none\" stroke=\"black\" points=\"91.5,-66 91.5,-83 128.5,-83 128.5,-66 91.5,-66\"/>\n<text text-anchor=\"start\" x=\"96.5\" y=\"-72\" font-family=\"Times,serif\" font-size=\"10.00\">x &gt; 13</text>\n<polygon fill=\"none\" stroke=\"black\" points=\"91.5,-45 91.5,-66 128.5,-66 128.5,-45 91.5,-45\"/>\n<text text-anchor=\"start\" x=\"106.5\" y=\"-51.8\" font-family=\"Times,serif\" font-size=\"14.00\">x</text>\n<polygon fill=\"none\" stroke=\"black\" points=\"91.5,-24 91.5,-45 128.5,-45 128.5,-24 91.5,-24\"/>\n<text text-anchor=\"start\" x=\"94.5\" y=\"-30.8\" font-family=\"Times,serif\" font-size=\"14.00\">target</text>\n</g>\n<!-- x_G2&#45;&gt;GreaterThanConstant -->\n<g id=\"edge1\" class=\"edge\">\n<title>x_G2:e-&gt;GreaterThanConstant:w</title>\n<path fill=\"none\" stroke=\"black\" d=\"M54,-72C71.22,-72 72.97,-57.23 88.98,-56.07\"/>\n<ellipse fill=\"black\" stroke=\"black\" cx=\"90\" cy=\"-56.04\" rx=\"1\" ry=\"1\"/>\n<text text-anchor=\"middle\" x=\"72.5\" y=\"-67\" font-family=\"Times,serif\" font-size=\"10.00\">4</text>\n</g>\n<!-- target_G4 -->\n<g id=\"node2\" class=\"node\">\n<title>target_G4</title>\n<text text-anchor=\"middle\" x=\"27\" y=\"-14.3\" font-family=\"Times,serif\" font-size=\"14.00\">target</text>\n</g>\n<!-- target_G4&#45;&gt;GreaterThanConstant -->\n<g id=\"edge2\" class=\"edge\">\n<title>target_G4:e-&gt;GreaterThanConstant:w</title>\n<path fill=\"none\" stroke=\"black\" d=\"M54,-18C71.22,-18 72.97,-32.77 88.98,-33.93\"/>\n<ellipse fill=\"black\" stroke=\"black\" cx=\"90\" cy=\"-33.96\" rx=\"1\" ry=\"1\"/>\n<text text-anchor=\"middle\" x=\"72.5\" y=\"-29\" font-family=\"Times,serif\" font-size=\"10.00\">1</text>\n</g>\n<!-- x_G1 -->\n<g id=\"node4\" class=\"node\">\n<title>x_G1</title>\n<text text-anchor=\"middle\" x=\"192\" y=\"-68.3\" font-family=\"Times,serif\" font-size=\"14.00\">x</text>\n</g>\n<!-- GreaterThanConstant&#45;&gt;x_G1 -->\n<g id=\"edge3\" class=\"edge\">\n<title>GreaterThanConstant:e-&gt;x_G1:w</title>\n<path fill=\"none\" stroke=\"black\" d=\"M128,-56C145.22,-56 146.97,-70.77 162.98,-71.93\"/>\n<ellipse fill=\"black\" stroke=\"black\" cx=\"164\" cy=\"-71.96\" rx=\"1\" ry=\"1\"/>\n<text text-anchor=\"middle\" x=\"146.5\" y=\"-67\" font-family=\"Times,serif\" font-size=\"10.00\">4</text>\n</g>\n<!-- target_G5 -->\n<g id=\"node5\" class=\"node\">\n<title>target_G5</title>\n<text text-anchor=\"middle\" x=\"192\" y=\"-14.3\" font-family=\"Times,serif\" font-size=\"14.00\">target</text>\n</g>\n<!-- GreaterThanConstant&#45;&gt;target_G5 -->\n<g id=\"edge4\" class=\"edge\">\n<title>GreaterThanConstant:e-&gt;target_G5:w</title>\n<path fill=\"none\" stroke=\"black\" d=\"M128,-34C145.22,-34 146.97,-19.23 162.98,-18.07\"/>\n<ellipse fill=\"black\" stroke=\"black\" cx=\"164\" cy=\"-18.04\" rx=\"1\" ry=\"1\"/>\n<text text-anchor=\"middle\" x=\"146.5\" y=\"-29\" font-family=\"Times,serif\" font-size=\"10.00\">1</text>\n</g>\n</g>\n</svg>",
          "text/plain": "<IPython.core.display.SVG object>"
         },
         "metadata": {},
         "output_type": "display_data"
        }
       ],
       "tabbable": null,
       "tooltip": null
      }
     },
     "a21425859f8d4c98a5f5a17c150e51b5": {
      "model_module": "@jupyter-widgets/base",
      "model_module_version": "2.0.0",
      "model_name": "LayoutModel",
      "state": {
       "_model_module": "@jupyter-widgets/base",
       "_model_module_version": "2.0.0",
       "_model_name": "LayoutModel",
       "_view_count": null,
       "_view_module": "@jupyter-widgets/base",
       "_view_module_version": "2.0.0",
       "_view_name": "LayoutView",
       "align_content": null,
       "align_items": null,
       "align_self": null,
       "border_bottom": null,
       "border_left": null,
       "border_right": null,
       "border_top": null,
       "bottom": null,
       "display": null,
       "flex": null,
       "flex_flow": null,
       "grid_area": null,
       "grid_auto_columns": null,
       "grid_auto_flow": null,
       "grid_auto_rows": null,
       "grid_column": null,
       "grid_gap": null,
       "grid_row": null,
       "grid_template_areas": null,
       "grid_template_columns": null,
       "grid_template_rows": null,
       "height": null,
       "justify_content": null,
       "justify_items": null,
       "left": null,
       "margin": null,
       "max_height": null,
       "max_width": null,
       "min_height": null,
       "min_width": null,
       "object_fit": null,
       "object_position": null,
       "order": null,
       "overflow": null,
       "padding": null,
       "right": null,
       "top": null,
       "visibility": null,
       "width": null
      }
     },
     "a2cd22303283470a840b3e63c32c8d1e": {
      "model_module": "@jupyter-widgets/controls",
      "model_module_version": "2.0.0",
      "model_name": "HBoxModel",
      "state": {
       "_dom_classes": [],
       "_model_module": "@jupyter-widgets/controls",
       "_model_module_version": "2.0.0",
       "_model_name": "HBoxModel",
       "_view_count": null,
       "_view_module": "@jupyter-widgets/controls",
       "_view_module_version": "2.0.0",
       "_view_name": "HBoxView",
       "box_style": "",
       "children": [
        "IPY_MODEL_1f30dbb1c1484db38bd1a3b5cb0ff71c"
       ],
       "layout": "IPY_MODEL_13d2f286eadc4a499c211779500ebf69",
       "tabbable": null,
       "tooltip": null
      }
     },
     "a78870e14a774a81a704d5691122de46": {
      "model_module": "@jupyter-widgets/base",
      "model_module_version": "2.0.0",
      "model_name": "LayoutModel",
      "state": {
       "_model_module": "@jupyter-widgets/base",
       "_model_module_version": "2.0.0",
       "_model_name": "LayoutModel",
       "_view_count": null,
       "_view_module": "@jupyter-widgets/base",
       "_view_module_version": "2.0.0",
       "_view_name": "LayoutView",
       "align_content": null,
       "align_items": null,
       "align_self": null,
       "border_bottom": null,
       "border_left": null,
       "border_right": null,
       "border_top": null,
       "bottom": null,
       "display": null,
       "flex": null,
       "flex_flow": null,
       "grid_area": null,
       "grid_auto_columns": null,
       "grid_auto_flow": null,
       "grid_auto_rows": null,
       "grid_column": null,
       "grid_gap": null,
       "grid_row": null,
       "grid_template_areas": null,
       "grid_template_columns": null,
       "grid_template_rows": null,
       "height": null,
       "justify_content": null,
       "justify_items": null,
       "left": null,
       "margin": null,
       "max_height": null,
       "max_width": null,
       "min_height": null,
       "min_width": null,
       "object_fit": null,
       "object_position": null,
       "order": null,
       "overflow": null,
       "padding": null,
       "right": null,
       "top": null,
       "visibility": null,
       "width": null
      }
     },
     "a896ae5a0be24c53b2736cac2f001def": {
      "model_module": "@jupyter-widgets/base",
      "model_module_version": "2.0.0",
      "model_name": "LayoutModel",
      "state": {
       "_model_module": "@jupyter-widgets/base",
       "_model_module_version": "2.0.0",
       "_model_name": "LayoutModel",
       "_view_count": null,
       "_view_module": "@jupyter-widgets/base",
       "_view_module_version": "2.0.0",
       "_view_name": "LayoutView",
       "align_content": null,
       "align_items": null,
       "align_self": null,
       "border_bottom": null,
       "border_left": null,
       "border_right": null,
       "border_top": null,
       "bottom": null,
       "display": null,
       "flex": null,
       "flex_flow": null,
       "grid_area": null,
       "grid_auto_columns": null,
       "grid_auto_flow": null,
       "grid_auto_rows": null,
       "grid_column": null,
       "grid_gap": null,
       "grid_row": null,
       "grid_template_areas": null,
       "grid_template_columns": null,
       "grid_template_rows": null,
       "height": null,
       "justify_content": null,
       "justify_items": null,
       "left": null,
       "margin": null,
       "max_height": null,
       "max_width": null,
       "min_height": null,
       "min_width": null,
       "object_fit": null,
       "object_position": null,
       "order": null,
       "overflow": null,
       "padding": null,
       "right": null,
       "top": null,
       "visibility": null,
       "width": null
      }
     },
     "ac2358c7f50a4cc9a6780246ab9288c5": {
      "model_module": "@jupyter-widgets/base",
      "model_module_version": "2.0.0",
      "model_name": "LayoutModel",
      "state": {
       "_model_module": "@jupyter-widgets/base",
       "_model_module_version": "2.0.0",
       "_model_name": "LayoutModel",
       "_view_count": null,
       "_view_module": "@jupyter-widgets/base",
       "_view_module_version": "2.0.0",
       "_view_name": "LayoutView",
       "align_content": null,
       "align_items": null,
       "align_self": null,
       "border_bottom": null,
       "border_left": null,
       "border_right": null,
       "border_top": null,
       "bottom": null,
       "display": null,
       "flex": null,
       "flex_flow": null,
       "grid_area": null,
       "grid_auto_columns": null,
       "grid_auto_flow": null,
       "grid_auto_rows": null,
       "grid_column": null,
       "grid_gap": null,
       "grid_row": null,
       "grid_template_areas": null,
       "grid_template_columns": null,
       "grid_template_rows": null,
       "height": null,
       "justify_content": null,
       "justify_items": null,
       "left": null,
       "margin": null,
       "max_height": null,
       "max_width": null,
       "min_height": null,
       "min_width": null,
       "object_fit": null,
       "object_position": null,
       "order": null,
       "overflow": null,
       "padding": null,
       "right": null,
       "top": null,
       "visibility": null,
       "width": null
      }
     },
     "b654e14eb064421389279be7047222a8": {
      "model_module": "@jupyter-widgets/output",
      "model_module_version": "1.0.0",
      "model_name": "OutputModel",
      "state": {
       "_dom_classes": [],
       "_model_module": "@jupyter-widgets/output",
       "_model_module_version": "1.0.0",
       "_model_name": "OutputModel",
       "_view_count": null,
       "_view_module": "@jupyter-widgets/output",
       "_view_module_version": "1.0.0",
       "_view_name": "OutputView",
       "layout": "IPY_MODEL_a78870e14a774a81a704d5691122de46",
       "msg_id": "",
       "outputs": [
        {
         "data": {
          "text/markdown": "`sq_cmp`",
          "text/plain": "<IPython.core.display.Markdown object>"
         },
         "metadata": {},
         "output_type": "display_data"
        },
        {
         "data": {
          "image/svg+xml": "<svg xmlns=\"http://www.w3.org/2000/svg\" xmlns:xlink=\"http://www.w3.org/1999/xlink\" width=\"300pt\" height=\"206pt\" viewBox=\"0.00 0.00 300.00 206.00\">\n<g id=\"graph0\" class=\"graph\" transform=\"scale(1 1) rotate(0) translate(4 202)\">\n<title>my_graph</title>\n<polygon fill=\"white\" stroke=\"transparent\" points=\"-4,4 -4,-202 296,-202 296,4 -4,4\"/>\n<!-- a_G1 -->\n<g id=\"node1\" class=\"node\">\n<title>a_G1</title>\n<text text-anchor=\"middle\" x=\"27\" y=\"-143.3\" font-family=\"Times,serif\" font-size=\"14.00\">a</text>\n</g>\n<!-- SingleQubitCompare -->\n<g id=\"node3\" class=\"node\">\n<title>SingleQubitCompare</title>\n<polygon fill=\"none\" stroke=\"black\" points=\"91,-141 91,-158 171,-158 171,-141 91,-141\"/>\n<text text-anchor=\"start\" x=\"109\" y=\"-147\" font-family=\"Times,serif\" font-size=\"10.00\">SingleQu..</text>\n<polygon fill=\"none\" stroke=\"black\" points=\"91,-120 91,-141 171,-141 171,-120 91,-120\"/>\n<text text-anchor=\"start\" x=\"127.5\" y=\"-126.8\" font-family=\"Times,serif\" font-size=\"14.00\">a</text>\n<polygon fill=\"none\" stroke=\"black\" points=\"91,-99 91,-120 171,-120 171,-99 91,-99\"/>\n<text text-anchor=\"start\" x=\"127.5\" y=\"-105.8\" font-family=\"Times,serif\" font-size=\"14.00\">b</text>\n<polygon fill=\"none\" stroke=\"black\" points=\"91,-78 91,-99 97,-99 97,-78 91,-78\"/>\n<polygon fill=\"none\" stroke=\"black\" points=\"97,-78 97,-99 171,-99 171,-78 97,-78\"/>\n<text text-anchor=\"start\" x=\"108.5\" y=\"-84.8\" font-family=\"Times,serif\" font-size=\"14.00\">less_than</text>\n<polygon fill=\"none\" stroke=\"black\" points=\"91,-57 91,-78 97,-78 97,-57 91,-57\"/>\n<polygon fill=\"none\" stroke=\"black\" points=\"97,-57 97,-78 171,-78 171,-57 97,-57\"/>\n<text text-anchor=\"start\" x=\"100\" y=\"-63.8\" font-family=\"Times,serif\" font-size=\"14.00\">greater_than</text>\n</g>\n<!-- a_G1&#45;&gt;SingleQubitCompare -->\n<g id=\"edge1\" class=\"edge\">\n<title>a_G1:e-&gt;SingleQubitCompare:w</title>\n<path fill=\"none\" stroke=\"black\" d=\"M54,-147C71.22,-147 72.97,-132.23 88.98,-131.07\"/>\n<ellipse fill=\"black\" stroke=\"black\" cx=\"90\" cy=\"-131.04\" rx=\"1\" ry=\"1\"/>\n<text text-anchor=\"middle\" x=\"72.5\" y=\"-142\" font-family=\"Times,serif\" font-size=\"10.00\">1</text>\n</g>\n<!-- b_G4 -->\n<g id=\"node2\" class=\"node\">\n<title>b_G4</title>\n<text text-anchor=\"middle\" x=\"27\" y=\"-89.3\" font-family=\"Times,serif\" font-size=\"14.00\">b</text>\n</g>\n<!-- b_G4&#45;&gt;SingleQubitCompare -->\n<g id=\"edge2\" class=\"edge\">\n<title>b_G4:e-&gt;SingleQubitCompare:w</title>\n<path fill=\"none\" stroke=\"black\" d=\"M54,-93C71.39,-93 72.81,-108.7 88.96,-109.92\"/>\n<ellipse fill=\"black\" stroke=\"black\" cx=\"90\" cy=\"-109.96\" rx=\"1\" ry=\"1\"/>\n<text text-anchor=\"middle\" x=\"72.5\" y=\"-104\" font-family=\"Times,serif\" font-size=\"10.00\">1</text>\n</g>\n<!-- a_G7 -->\n<g id=\"node4\" class=\"node\">\n<title>a_G7</title>\n<text text-anchor=\"middle\" x=\"250\" y=\"-176.3\" font-family=\"Times,serif\" font-size=\"14.00\">a</text>\n</g>\n<!-- SingleQubitCompare&#45;&gt;a_G7 -->\n<g id=\"edge3\" class=\"edge\">\n<title>SingleQubitCompare:e-&gt;a_G7:w</title>\n<path fill=\"none\" stroke=\"black\" d=\"M171,-131C201.7,-131 191.1,-177.73 219.86,-179.92\"/>\n<ellipse fill=\"black\" stroke=\"black\" cx=\"221\" cy=\"-179.96\" rx=\"1\" ry=\"1\"/>\n<text text-anchor=\"middle\" x=\"189.5\" y=\"-144\" font-family=\"Times,serif\" font-size=\"10.00\">1</text>\n</g>\n<!-- b_G0 -->\n<g id=\"node5\" class=\"node\">\n<title>b_G0</title>\n<text text-anchor=\"middle\" x=\"250\" y=\"-122.3\" font-family=\"Times,serif\" font-size=\"14.00\">b</text>\n</g>\n<!-- SingleQubitCompare&#45;&gt;b_G0 -->\n<g id=\"edge4\" class=\"edge\">\n<title>SingleQubitCompare:e-&gt;b_G0:w</title>\n<path fill=\"none\" stroke=\"black\" d=\"M171,-110C194.01,-110 198.01,-125.02 219.83,-125.95\"/>\n<ellipse fill=\"black\" stroke=\"black\" cx=\"221\" cy=\"-125.98\" rx=\"1\" ry=\"1\"/>\n<text text-anchor=\"middle\" x=\"189.5\" y=\"-117\" font-family=\"Times,serif\" font-size=\"10.00\">1</text>\n</g>\n<!-- less_than_G3 -->\n<g id=\"node6\" class=\"node\">\n<title>less_than_G3</title>\n<text text-anchor=\"middle\" x=\"250\" y=\"-68.3\" font-family=\"Times,serif\" font-size=\"14.00\">less_than</text>\n</g>\n<!-- SingleQubitCompare&#45;&gt;less_than_G3 -->\n<g id=\"edge5\" class=\"edge\">\n<title>SingleQubitCompare:e-&gt;less_than_G3:w</title>\n<path fill=\"none\" stroke=\"black\" d=\"M171,-88C191,-88 193.98,-73.23 212.64,-72.07\"/>\n<ellipse fill=\"black\" stroke=\"black\" cx=\"214\" cy=\"-72.03\" rx=\"1\" ry=\"1\"/>\n<text text-anchor=\"middle\" x=\"189.5\" y=\"-85\" font-family=\"Times,serif\" font-size=\"10.00\">1</text>\n</g>\n<!-- greater_than_G2 -->\n<g id=\"node7\" class=\"node\">\n<title>greater_than_G2</title>\n<text text-anchor=\"middle\" x=\"250\" y=\"-14.3\" font-family=\"Times,serif\" font-size=\"14.00\">greater_than</text>\n</g>\n<!-- SingleQubitCompare&#45;&gt;greater_than_G2 -->\n<g id=\"edge6\" class=\"edge\">\n<title>SingleQubitCompare:e-&gt;greater_than_G2:w</title>\n<path fill=\"none\" stroke=\"black\" d=\"M171,-67C197.54,-67 181.64,-20.64 205.86,-18.11\"/>\n<ellipse fill=\"black\" stroke=\"black\" cx=\"207\" cy=\"-18.05\" rx=\"1\" ry=\"1\"/>\n<text text-anchor=\"middle\" x=\"189.5\" y=\"-47\" font-family=\"Times,serif\" font-size=\"10.00\">1</text>\n</g>\n</g>\n</svg>",
          "text/plain": "<IPython.core.display.SVG object>"
         },
         "metadata": {},
         "output_type": "display_data"
        }
       ],
       "tabbable": null,
       "tooltip": null
      }
     },
     "b6fe710fdd3a45f0995d8b5c43bba954": {
      "model_module": "@jupyter-widgets/output",
      "model_module_version": "1.0.0",
      "model_name": "OutputModel",
      "state": {
       "_dom_classes": [],
       "_model_module": "@jupyter-widgets/output",
       "_model_module_version": "1.0.0",
       "_model_name": "OutputModel",
       "_view_count": null,
       "_view_module": "@jupyter-widgets/output",
       "_view_module_version": "1.0.0",
       "_view_name": "OutputView",
       "layout": "IPY_MODEL_f06f254c7c5c42d2a9bac7e1771a6e70",
       "msg_id": "",
       "outputs": [
        {
         "data": {
          "text/markdown": "`bi_qubits_mixer`",
          "text/plain": "<IPython.core.display.Markdown object>"
         },
         "metadata": {},
         "output_type": "display_data"
        },
        {
         "data": {
          "image/svg+xml": "<svg xmlns=\"http://www.w3.org/2000/svg\" xmlns:xlink=\"http://www.w3.org/1999/xlink\" width=\"239pt\" height=\"152pt\" viewBox=\"0.00 0.00 239.00 152.00\">\n<g id=\"graph0\" class=\"graph\" transform=\"scale(1 1) rotate(0) translate(4 148)\">\n<title>my_graph</title>\n<polygon fill=\"white\" stroke=\"transparent\" points=\"-4,4 -4,-148 235,-148 235,4 -4,4\"/>\n<!-- x_G6 -->\n<g id=\"node1\" class=\"node\">\n<title>x_G6</title>\n<text text-anchor=\"middle\" x=\"27\" y=\"-106.3\" font-family=\"Times,serif\" font-size=\"14.00\">x</text>\n</g>\n<!-- BiQubitsMixer -->\n<g id=\"node3\" class=\"node\">\n<title>BiQubitsMixer</title>\n<polygon fill=\"none\" stroke=\"black\" points=\"91.5,-104 91.5,-121 140.5,-121 140.5,-104 91.5,-104\"/>\n<text text-anchor=\"start\" x=\"94.5\" y=\"-110\" font-family=\"Times,serif\" font-size=\"10.00\">BiQubits..</text>\n<polygon fill=\"none\" stroke=\"black\" points=\"91.5,-83 91.5,-104 140.5,-104 140.5,-83 91.5,-83\"/>\n<text text-anchor=\"start\" x=\"112.5\" y=\"-89.8\" font-family=\"Times,serif\" font-size=\"14.00\">x</text>\n<polygon fill=\"none\" stroke=\"black\" points=\"91.5,-62 91.5,-83 140.5,-83 140.5,-62 91.5,-62\"/>\n<text text-anchor=\"start\" x=\"112.5\" y=\"-68.8\" font-family=\"Times,serif\" font-size=\"14.00\">y</text>\n<polygon fill=\"none\" stroke=\"black\" points=\"91.5,-41 91.5,-62 97.5,-62 97.5,-41 91.5,-41\"/>\n<polygon fill=\"none\" stroke=\"black\" points=\"97.5,-41 97.5,-62 140.5,-62 140.5,-41 97.5,-41\"/>\n<text text-anchor=\"start\" x=\"100.5\" y=\"-47.8\" font-family=\"Times,serif\" font-size=\"14.00\">ancilla</text>\n</g>\n<!-- x_G6&#45;&gt;BiQubitsMixer -->\n<g id=\"edge1\" class=\"edge\">\n<title>x_G6:e-&gt;BiQubitsMixer:w</title>\n<path fill=\"none\" stroke=\"black\" d=\"M54,-110C71.22,-110 72.97,-95.23 88.98,-94.07\"/>\n<ellipse fill=\"black\" stroke=\"black\" cx=\"90\" cy=\"-94.04\" rx=\"1\" ry=\"1\"/>\n<text text-anchor=\"middle\" x=\"72.5\" y=\"-105\" font-family=\"Times,serif\" font-size=\"10.00\">2</text>\n</g>\n<!-- y_G0 -->\n<g id=\"node2\" class=\"node\">\n<title>y_G0</title>\n<text text-anchor=\"middle\" x=\"27\" y=\"-52.3\" font-family=\"Times,serif\" font-size=\"14.00\">y</text>\n</g>\n<!-- y_G0&#45;&gt;BiQubitsMixer -->\n<g id=\"edge2\" class=\"edge\">\n<title>y_G0:e-&gt;BiQubitsMixer:w</title>\n<path fill=\"none\" stroke=\"black\" d=\"M54,-56C71.22,-56 72.97,-70.77 88.98,-71.93\"/>\n<ellipse fill=\"black\" stroke=\"black\" cx=\"90\" cy=\"-71.96\" rx=\"1\" ry=\"1\"/>\n<text text-anchor=\"middle\" x=\"72.5\" y=\"-68\" font-family=\"Times,serif\" font-size=\"10.00\">2</text>\n</g>\n<!-- x_G4 -->\n<g id=\"node4\" class=\"node\">\n<title>x_G4</title>\n<text text-anchor=\"middle\" x=\"204\" y=\"-122.3\" font-family=\"Times,serif\" font-size=\"14.00\">x</text>\n</g>\n<!-- BiQubitsMixer&#45;&gt;x_G4 -->\n<g id=\"edge3\" class=\"edge\">\n<title>BiQubitsMixer:e-&gt;x_G4:w</title>\n<path fill=\"none\" stroke=\"black\" d=\"M140,-94C160.89,-94 155.72,-123.55 174.58,-125.86\"/>\n<ellipse fill=\"black\" stroke=\"black\" cx=\"176\" cy=\"-125.94\" rx=\"1\" ry=\"1\"/>\n<text text-anchor=\"middle\" x=\"158.5\" y=\"-113\" font-family=\"Times,serif\" font-size=\"10.00\">2</text>\n</g>\n<!-- y_G3 -->\n<g id=\"node5\" class=\"node\">\n<title>y_G3</title>\n<text text-anchor=\"middle\" x=\"204\" y=\"-68.3\" font-family=\"Times,serif\" font-size=\"14.00\">y</text>\n</g>\n<!-- BiQubitsMixer&#45;&gt;y_G3 -->\n<g id=\"edge4\" class=\"edge\">\n<title>BiQubitsMixer:e-&gt;y_G3:w</title>\n<path fill=\"none\" stroke=\"black\" d=\"M140,-72C155.67,-72 160.14,-72 174.77,-72\"/>\n<ellipse fill=\"black\" stroke=\"black\" cx=\"176\" cy=\"-72\" rx=\"1\" ry=\"1\"/>\n<text text-anchor=\"middle\" x=\"158.5\" y=\"-75\" font-family=\"Times,serif\" font-size=\"10.00\">2</text>\n</g>\n<!-- ancilla_G5 -->\n<g id=\"node6\" class=\"node\">\n<title>ancilla_G5</title>\n<text text-anchor=\"middle\" x=\"204\" y=\"-14.3\" font-family=\"Times,serif\" font-size=\"14.00\">ancilla</text>\n</g>\n<!-- BiQubitsMixer&#45;&gt;ancilla_G5 -->\n<g id=\"edge5\" class=\"edge\">\n<title>BiQubitsMixer:e-&gt;ancilla_G5:w</title>\n<path fill=\"none\" stroke=\"black\" d=\"M140,-51C161.17,-51 155.47,-20.53 174.55,-18.15\"/>\n<ellipse fill=\"black\" stroke=\"black\" cx=\"176\" cy=\"-18.06\" rx=\"1\" ry=\"1\"/>\n<text text-anchor=\"middle\" x=\"158.5\" y=\"-39\" font-family=\"Times,serif\" font-size=\"10.00\">3</text>\n</g>\n</g>\n</svg>",
          "text/plain": "<IPython.core.display.SVG object>"
         },
         "metadata": {},
         "output_type": "display_data"
        }
       ],
       "tabbable": null,
       "tooltip": null
      }
     },
     "b8fb35938ff147e58bf768480c73a46d": {
      "model_module": "@jupyter-widgets/controls",
      "model_module_version": "2.0.0",
      "model_name": "HBoxModel",
      "state": {
       "_dom_classes": [],
       "_model_module": "@jupyter-widgets/controls",
       "_model_module_version": "2.0.0",
       "_model_name": "HBoxModel",
       "_view_count": null,
       "_view_module": "@jupyter-widgets/controls",
       "_view_module_version": "2.0.0",
       "_view_name": "HBoxView",
       "box_style": "",
       "children": [
        "IPY_MODEL_8421c7c5d1194a66885e4222eb01b003"
       ],
       "layout": "IPY_MODEL_ac2358c7f50a4cc9a6780246ab9288c5",
       "tabbable": null,
       "tooltip": null
      }
     },
     "cd320bb985544ae2a2963f028facd861": {
      "model_module": "@jupyter-widgets/base",
      "model_module_version": "2.0.0",
      "model_name": "LayoutModel",
      "state": {
       "_model_module": "@jupyter-widgets/base",
       "_model_module_version": "2.0.0",
       "_model_name": "LayoutModel",
       "_view_count": null,
       "_view_module": "@jupyter-widgets/base",
       "_view_module_version": "2.0.0",
       "_view_name": "LayoutView",
       "align_content": null,
       "align_items": null,
       "align_self": null,
       "border_bottom": null,
       "border_left": null,
       "border_right": null,
       "border_top": null,
       "bottom": null,
       "display": null,
       "flex": null,
       "flex_flow": null,
       "grid_area": null,
       "grid_auto_columns": null,
       "grid_auto_flow": null,
       "grid_auto_rows": null,
       "grid_column": null,
       "grid_gap": null,
       "grid_row": null,
       "grid_template_areas": null,
       "grid_template_columns": null,
       "grid_template_rows": null,
       "height": null,
       "justify_content": null,
       "justify_items": null,
       "left": null,
       "margin": null,
       "max_height": null,
       "max_width": null,
       "min_height": null,
       "min_width": null,
       "object_fit": null,
       "object_position": null,
       "order": null,
       "overflow": null,
       "padding": null,
       "right": null,
       "top": null,
       "visibility": null,
       "width": null
      }
     },
     "d15724e070e648a790a3b4a4f19e18a5": {
      "model_module": "@jupyter-widgets/base",
      "model_module_version": "2.0.0",
      "model_name": "LayoutModel",
      "state": {
       "_model_module": "@jupyter-widgets/base",
       "_model_module_version": "2.0.0",
       "_model_name": "LayoutModel",
       "_view_count": null,
       "_view_module": "@jupyter-widgets/base",
       "_view_module_version": "2.0.0",
       "_view_name": "LayoutView",
       "align_content": null,
       "align_items": null,
       "align_self": null,
       "border_bottom": null,
       "border_left": null,
       "border_right": null,
       "border_top": null,
       "bottom": null,
       "display": null,
       "flex": null,
       "flex_flow": null,
       "grid_area": null,
       "grid_auto_columns": null,
       "grid_auto_flow": null,
       "grid_auto_rows": null,
       "grid_column": null,
       "grid_gap": null,
       "grid_row": null,
       "grid_template_areas": null,
       "grid_template_columns": null,
       "grid_template_rows": null,
       "height": null,
       "justify_content": null,
       "justify_items": null,
       "left": null,
       "margin": null,
       "max_height": null,
       "max_width": null,
       "min_height": null,
       "min_width": null,
       "object_fit": null,
       "object_position": null,
       "order": null,
       "overflow": null,
       "padding": null,
       "right": null,
       "top": null,
       "visibility": null,
       "width": null
      }
     },
     "d774edb1d7d3453796d4ec3e862fa636": {
      "model_module": "@jupyter-widgets/base",
      "model_module_version": "2.0.0",
      "model_name": "LayoutModel",
      "state": {
       "_model_module": "@jupyter-widgets/base",
       "_model_module_version": "2.0.0",
       "_model_name": "LayoutModel",
       "_view_count": null,
       "_view_module": "@jupyter-widgets/base",
       "_view_module_version": "2.0.0",
       "_view_name": "LayoutView",
       "align_content": null,
       "align_items": null,
       "align_self": null,
       "border_bottom": null,
       "border_left": null,
       "border_right": null,
       "border_top": null,
       "bottom": null,
       "display": null,
       "flex": null,
       "flex_flow": null,
       "grid_area": null,
       "grid_auto_columns": null,
       "grid_auto_flow": null,
       "grid_auto_rows": null,
       "grid_column": null,
       "grid_gap": null,
       "grid_row": null,
       "grid_template_areas": null,
       "grid_template_columns": null,
       "grid_template_rows": null,
       "height": null,
       "justify_content": null,
       "justify_items": null,
       "left": null,
       "margin": null,
       "max_height": null,
       "max_width": null,
       "min_height": null,
       "min_width": null,
       "object_fit": null,
       "object_position": null,
       "order": null,
       "overflow": null,
       "padding": null,
       "right": null,
       "top": null,
       "visibility": null,
       "width": null
      }
     },
     "e6c080a421184441b7c907ce9a487c1f": {
      "model_module": "@jupyter-widgets/base",
      "model_module_version": "2.0.0",
      "model_name": "LayoutModel",
      "state": {
       "_model_module": "@jupyter-widgets/base",
       "_model_module_version": "2.0.0",
       "_model_name": "LayoutModel",
       "_view_count": null,
       "_view_module": "@jupyter-widgets/base",
       "_view_module_version": "2.0.0",
       "_view_name": "LayoutView",
       "align_content": null,
       "align_items": null,
       "align_self": null,
       "border_bottom": null,
       "border_left": null,
       "border_right": null,
       "border_top": null,
       "bottom": null,
       "display": null,
       "flex": null,
       "flex_flow": null,
       "grid_area": null,
       "grid_auto_columns": null,
       "grid_auto_flow": null,
       "grid_auto_rows": null,
       "grid_column": null,
       "grid_gap": null,
       "grid_row": null,
       "grid_template_areas": null,
       "grid_template_columns": null,
       "grid_template_rows": null,
       "height": null,
       "justify_content": null,
       "justify_items": null,
       "left": null,
       "margin": null,
       "max_height": null,
       "max_width": null,
       "min_height": null,
       "min_width": null,
       "object_fit": null,
       "object_position": null,
       "order": null,
       "overflow": null,
       "padding": null,
       "right": null,
       "top": null,
       "visibility": null,
       "width": null
      }
     },
     "ea9621d1e6dc4bc4a1ae55175adfc6a3": {
      "model_module": "@jupyter-widgets/base",
      "model_module_version": "2.0.0",
      "model_name": "LayoutModel",
      "state": {
       "_model_module": "@jupyter-widgets/base",
       "_model_module_version": "2.0.0",
       "_model_name": "LayoutModel",
       "_view_count": null,
       "_view_module": "@jupyter-widgets/base",
       "_view_module_version": "2.0.0",
       "_view_name": "LayoutView",
       "align_content": null,
       "align_items": null,
       "align_self": null,
       "border_bottom": null,
       "border_left": null,
       "border_right": null,
       "border_top": null,
       "bottom": null,
       "display": null,
       "flex": null,
       "flex_flow": null,
       "grid_area": null,
       "grid_auto_columns": null,
       "grid_auto_flow": null,
       "grid_auto_rows": null,
       "grid_column": null,
       "grid_gap": null,
       "grid_row": null,
       "grid_template_areas": null,
       "grid_template_columns": null,
       "grid_template_rows": null,
       "height": null,
       "justify_content": null,
       "justify_items": null,
       "left": null,
       "margin": null,
       "max_height": null,
       "max_width": null,
       "min_height": null,
       "min_width": null,
       "object_fit": null,
       "object_position": null,
       "order": null,
       "overflow": null,
       "padding": null,
       "right": null,
       "top": null,
       "visibility": null,
       "width": null
      }
     },
     "f06f254c7c5c42d2a9bac7e1771a6e70": {
      "model_module": "@jupyter-widgets/base",
      "model_module_version": "2.0.0",
      "model_name": "LayoutModel",
      "state": {
       "_model_module": "@jupyter-widgets/base",
       "_model_module_version": "2.0.0",
       "_model_name": "LayoutModel",
       "_view_count": null,
       "_view_module": "@jupyter-widgets/base",
       "_view_module_version": "2.0.0",
       "_view_name": "LayoutView",
       "align_content": null,
       "align_items": null,
       "align_self": null,
       "border_bottom": null,
       "border_left": null,
       "border_right": null,
       "border_top": null,
       "bottom": null,
       "display": null,
       "flex": null,
       "flex_flow": null,
       "grid_area": null,
       "grid_auto_columns": null,
       "grid_auto_flow": null,
       "grid_auto_rows": null,
       "grid_column": null,
       "grid_gap": null,
       "grid_row": null,
       "grid_template_areas": null,
       "grid_template_columns": null,
       "grid_template_rows": null,
       "height": null,
       "justify_content": null,
       "justify_items": null,
       "left": null,
       "margin": null,
       "max_height": null,
       "max_width": null,
       "min_height": null,
       "min_width": null,
       "object_fit": null,
       "object_position": null,
       "order": null,
       "overflow": null,
       "padding": null,
       "right": null,
       "top": null,
       "visibility": null,
       "width": null
      }
     },
     "f5df67de72bd4ecda3db6fc38f935965": {
      "model_module": "@jupyter-widgets/controls",
      "model_module_version": "2.0.0",
      "model_name": "HBoxModel",
      "state": {
       "_dom_classes": [],
       "_model_module": "@jupyter-widgets/controls",
       "_model_module_version": "2.0.0",
       "_model_name": "HBoxModel",
       "_view_count": null,
       "_view_module": "@jupyter-widgets/controls",
       "_view_module_version": "2.0.0",
       "_view_name": "HBoxView",
       "box_style": "",
       "children": [
        "IPY_MODEL_8e98f21c677447e8aff7a268c56bca5d",
        "IPY_MODEL_49cb8fddc8f84f9ca6e520df2fafdac3"
       ],
       "layout": "IPY_MODEL_e6c080a421184441b7c907ce9a487c1f",
       "tabbable": null,
       "tooltip": null
      }
     },
     "fcd933fb09d745df8e81fc848eab327d": {
      "model_module": "@jupyter-widgets/output",
      "model_module_version": "1.0.0",
      "model_name": "OutputModel",
      "state": {
       "_dom_classes": [],
       "_model_module": "@jupyter-widgets/output",
       "_model_module_version": "1.0.0",
       "_model_name": "OutputModel",
       "_view_count": null,
       "_view_module": "@jupyter-widgets/output",
       "_view_module_version": "1.0.0",
       "_view_name": "OutputView",
       "layout": "IPY_MODEL_951be8166d564b3dbc845be9234ca552",
       "msg_id": "",
       "outputs": [
        {
         "data": {
          "text/markdown": "`lt_k`",
          "text/plain": "<IPython.core.display.Markdown object>"
         },
         "metadata": {},
         "output_type": "display_data"
        },
        {
         "data": {
          "image/svg+xml": "<svg xmlns=\"http://www.w3.org/2000/svg\" xmlns:xlink=\"http://www.w3.org/1999/xlink\" width=\"227pt\" height=\"98pt\" viewBox=\"0.00 0.00 227.00 98.00\">\n<g id=\"graph0\" class=\"graph\" transform=\"scale(1 1) rotate(0) translate(4 94)\">\n<title>my_graph</title>\n<polygon fill=\"white\" stroke=\"transparent\" points=\"-4,4 -4,-94 223,-94 223,4 -4,4\"/>\n<!-- x_G5 -->\n<g id=\"node1\" class=\"node\">\n<title>x_G5</title>\n<text text-anchor=\"middle\" x=\"27\" y=\"-68.3\" font-family=\"Times,serif\" font-size=\"14.00\">x</text>\n</g>\n<!-- LessThanConstant -->\n<g id=\"node3\" class=\"node\">\n<title>LessThanConstant</title>\n<polygon fill=\"none\" stroke=\"black\" points=\"91.5,-66 91.5,-83 128.5,-83 128.5,-66 91.5,-66\"/>\n<text text-anchor=\"start\" x=\"101.5\" y=\"-72\" font-family=\"Times,serif\" font-size=\"10.00\">x&lt;5</text>\n<polygon fill=\"none\" stroke=\"black\" points=\"91.5,-45 91.5,-66 128.5,-66 128.5,-45 91.5,-45\"/>\n<text text-anchor=\"start\" x=\"106.5\" y=\"-51.8\" font-family=\"Times,serif\" font-size=\"14.00\">x</text>\n<polygon fill=\"none\" stroke=\"black\" points=\"91.5,-24 91.5,-45 128.5,-45 128.5,-24 91.5,-24\"/>\n<text text-anchor=\"start\" x=\"94.5\" y=\"-30.8\" font-family=\"Times,serif\" font-size=\"14.00\">target</text>\n</g>\n<!-- x_G5&#45;&gt;LessThanConstant -->\n<g id=\"edge1\" class=\"edge\">\n<title>x_G5:e-&gt;LessThanConstant:w</title>\n<path fill=\"none\" stroke=\"black\" d=\"M54,-72C71.22,-72 72.97,-57.23 88.98,-56.07\"/>\n<ellipse fill=\"black\" stroke=\"black\" cx=\"90\" cy=\"-56.04\" rx=\"1\" ry=\"1\"/>\n<text text-anchor=\"middle\" x=\"72.5\" y=\"-67\" font-family=\"Times,serif\" font-size=\"10.00\">8</text>\n</g>\n<!-- target_G2 -->\n<g id=\"node2\" class=\"node\">\n<title>target_G2</title>\n<text text-anchor=\"middle\" x=\"27\" y=\"-14.3\" font-family=\"Times,serif\" font-size=\"14.00\">target</text>\n</g>\n<!-- target_G2&#45;&gt;LessThanConstant -->\n<g id=\"edge2\" class=\"edge\">\n<title>target_G2:e-&gt;LessThanConstant:w</title>\n<path fill=\"none\" stroke=\"black\" d=\"M54,-18C71.22,-18 72.97,-32.77 88.98,-33.93\"/>\n<ellipse fill=\"black\" stroke=\"black\" cx=\"90\" cy=\"-33.96\" rx=\"1\" ry=\"1\"/>\n<text text-anchor=\"middle\" x=\"72.5\" y=\"-29\" font-family=\"Times,serif\" font-size=\"10.00\">1</text>\n</g>\n<!-- x_G0 -->\n<g id=\"node4\" class=\"node\">\n<title>x_G0</title>\n<text text-anchor=\"middle\" x=\"192\" y=\"-68.3\" font-family=\"Times,serif\" font-size=\"14.00\">x</text>\n</g>\n<!-- LessThanConstant&#45;&gt;x_G0 -->\n<g id=\"edge3\" class=\"edge\">\n<title>LessThanConstant:e-&gt;x_G0:w</title>\n<path fill=\"none\" stroke=\"black\" d=\"M128,-56C145.22,-56 146.97,-70.77 162.98,-71.93\"/>\n<ellipse fill=\"black\" stroke=\"black\" cx=\"164\" cy=\"-71.96\" rx=\"1\" ry=\"1\"/>\n<text text-anchor=\"middle\" x=\"146.5\" y=\"-67\" font-family=\"Times,serif\" font-size=\"10.00\">8</text>\n</g>\n<!-- target_G3 -->\n<g id=\"node5\" class=\"node\">\n<title>target_G3</title>\n<text text-anchor=\"middle\" x=\"192\" y=\"-14.3\" font-family=\"Times,serif\" font-size=\"14.00\">target</text>\n</g>\n<!-- LessThanConstant&#45;&gt;target_G3 -->\n<g id=\"edge4\" class=\"edge\">\n<title>LessThanConstant:e-&gt;target_G3:w</title>\n<path fill=\"none\" stroke=\"black\" d=\"M128,-34C145.22,-34 146.97,-19.23 162.98,-18.07\"/>\n<ellipse fill=\"black\" stroke=\"black\" cx=\"164\" cy=\"-18.04\" rx=\"1\" ry=\"1\"/>\n<text text-anchor=\"middle\" x=\"146.5\" y=\"-29\" font-family=\"Times,serif\" font-size=\"10.00\">1</text>\n</g>\n</g>\n</svg>",
          "text/plain": "<IPython.core.display.SVG object>"
         },
         "metadata": {},
         "output_type": "display_data"
        }
       ],
       "tabbable": null,
       "tooltip": null
      }
     }
    },
    "version_major": 2,
    "version_minor": 0
   }
  }
 },
 "nbformat": 4,
 "nbformat_minor": 5
}
