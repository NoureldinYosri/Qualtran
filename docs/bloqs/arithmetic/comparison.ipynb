{
 "cells": [
  {
   "cell_type": "markdown",
   "id": "23228f10",
   "metadata": {
    "cq.autogen": "title_cell"
   },
   "source": [
    "# Comparison"
   ]
  },
  {
   "cell_type": "code",
   "execution_count": 1,
   "id": "100135a5",
   "metadata": {
    "cq.autogen": "top_imports"
   },
   "outputs": [],
   "source": [
    "from qualtran import Bloq, CompositeBloq, BloqBuilder, Signature, Register\n",
    "from qualtran import QBit, QInt, QUInt, QAny\n",
    "from qualtran.drawing import show_bloq, show_call_graph, show_counts_sigma\n",
    "from typing import *\n",
    "import numpy as np\n",
    "import sympy\n",
    "import cirq"
   ]
  },
  {
   "cell_type": "markdown",
   "id": "583b18fb",
   "metadata": {
    "cq.autogen": "GreaterThan.bloq_doc.md"
   },
   "source": [
    "## `GreaterThan`\n",
    "Compare two integers.\n",
    "\n",
    "Implements $U|a\\rangle|b\\rangle|0\\rangle \\rightarrow\n",
    "|a\\rangle|b\\rangle|a > b\\rangle$ using $8n T$  gates.\n",
    "\n",
    "The bloq_counts and t_complexity are derived from equivalent qualtran gates\n",
    "assuming a clean decomposition which should yield identical costs.\n",
    "\n",
    "See: https://github.com/quantumlib/Qualtran/pull/381 and\n",
    "https://qualtran.readthedocs.io/en/latest/bloqs/comparison_gates.html\n",
    "\n",
    "#### Parameters\n",
    " - `bitsize`: Number of bits used to represent the two integers a and b. \n",
    "\n",
    "#### Registers\n",
    " - `a`: n-bit-sized input registers.\n",
    " - `b`: n-bit-sized input registers.\n",
    " - `target`: A single bit output register to store the result of A > B.\n"
   ]
  },
  {
   "cell_type": "code",
   "execution_count": 2,
   "id": "4897dd68",
   "metadata": {
    "cq.autogen": "GreaterThan.bloq_doc.py"
   },
   "outputs": [],
   "source": [
    "from qualtran.bloqs.arithmetic import GreaterThan"
   ]
  },
  {
   "cell_type": "markdown",
   "id": "7888a98f",
   "metadata": {
    "cq.autogen": "GreaterThan.example_instances.md"
   },
   "source": [
    "### Example Instances"
   ]
  },
  {
   "cell_type": "code",
   "execution_count": 3,
   "id": "98aa6041",
   "metadata": {
    "cq.autogen": "GreaterThan.greater_than"
   },
   "outputs": [],
   "source": [
    "greater_than = GreaterThan(a_bitsize=4, b_bitsize=4)"
   ]
  },
  {
   "cell_type": "markdown",
   "id": "ceac73b4",
   "metadata": {
    "cq.autogen": "GreaterThan.graphical_signature.md"
   },
   "source": [
    "#### Graphical Signature"
   ]
  },
  {
   "cell_type": "code",
   "execution_count": 4,
   "id": "c82d95fe",
   "metadata": {
    "cq.autogen": "GreaterThan.graphical_signature.py"
   },
   "outputs": [
    {
     "data": {
      "application/vnd.jupyter.widget-view+json": {
       "model_id": "4a8ffbe2391c4d4498f1a1fe09ef633c",
       "version_major": 2,
       "version_minor": 0
      },
      "text/plain": [
       "HBox(children=(Output(outputs=({'output_type': 'display_data', 'data': {'text/plain': '<IPython.core.display.M…"
      ]
     },
     "metadata": {},
     "output_type": "display_data"
    }
   ],
   "source": [
    "from qualtran.drawing import show_bloqs\n",
    "show_bloqs([greater_than],\n",
    "           ['`greater_than`'])"
   ]
  },
  {
   "cell_type": "markdown",
   "id": "3afdc24f",
   "metadata": {
    "cq.autogen": "GreaterThan.call_graph.md"
   },
   "source": [
    "### Call Graph"
   ]
  },
  {
   "cell_type": "code",
   "execution_count": 5,
   "id": "88ae5ce9",
   "metadata": {
    "cq.autogen": "GreaterThan.call_graph.py"
   },
   "outputs": [
    {
     "data": {
      "image/svg+xml": [
       "<svg xmlns=\"http://www.w3.org/2000/svg\" xmlns:xlink=\"http://www.w3.org/1999/xlink\" width=\"169pt\" height=\"131pt\" viewBox=\"0.00 0.00 169.00 131.00\">\n",
       "<g id=\"graph0\" class=\"graph\" transform=\"scale(1 1) rotate(0) translate(4 127)\">\n",
       "<title>counts</title>\n",
       "<polygon fill=\"white\" stroke=\"transparent\" points=\"-4,4 -4,-127 165,-127 165,4 -4,4\"/>\n",
       "<!-- b0 -->\n",
       "<g id=\"node1\" class=\"node\">\n",
       "<title>b0</title>\n",
       "<polygon fill=\"none\" stroke=\"black\" points=\"161,-123 0,-123 0,-87 161,-87 161,-123\"/>\n",
       "<text text-anchor=\"start\" x=\"46\" y=\"-106.8\" font-family=\"Times,serif\" font-size=\"14.00\">GreaterThan</text>\n",
       "<text text-anchor=\"start\" x=\"8\" y=\"-96\" font-family=\"monospace\" font-size=\"10.00\">a_bitsize=4, b_bitsize=4</text>\n",
       "</g>\n",
       "<!-- b1 -->\n",
       "<g id=\"node2\" class=\"node\">\n",
       "<title>b1</title>\n",
       "<polygon fill=\"none\" stroke=\"black\" points=\"161,-36 0,-36 0,0 161,0 161,-36\"/>\n",
       "<text text-anchor=\"start\" x=\"38\" y=\"-19.8\" font-family=\"Times,serif\" font-size=\"14.00\">LessThanEqual</text>\n",
       "<text text-anchor=\"start\" x=\"8\" y=\"-9\" font-family=\"monospace\" font-size=\"10.00\">x_bitsize=4, y_bitsize=4</text>\n",
       "</g>\n",
       "<!-- b0&#45;&gt;b1 -->\n",
       "<g id=\"edge1\" class=\"edge\">\n",
       "<title>b0-&gt;b1</title>\n",
       "<path fill=\"none\" stroke=\"black\" d=\"M80.5,-86.8C80.5,-75.16 80.5,-59.55 80.5,-46.24\"/>\n",
       "<polygon fill=\"black\" stroke=\"black\" points=\"84,-46.18 80.5,-36.18 77,-46.18 84,-46.18\"/>\n",
       "<text text-anchor=\"middle\" x=\"84\" y=\"-57.8\" font-family=\"Times,serif\" font-size=\"14.00\">1</text>\n",
       "</g>\n",
       "</g>\n",
       "</svg>"
      ],
      "text/plain": [
       "<IPython.core.display.SVG object>"
      ]
     },
     "metadata": {},
     "output_type": "display_data"
    },
    {
     "data": {
      "text/markdown": [
       "#### Counts totals:\n",
       " - `LessThanEqual`: 1"
      ],
      "text/plain": [
       "<IPython.core.display.Markdown object>"
      ]
     },
     "metadata": {},
     "output_type": "display_data"
    }
   ],
   "source": [
    "from qualtran.resource_counting.generalizers import ignore_split_join\n",
    "greater_than_g, greater_than_sigma = greater_than.call_graph(max_depth=1, generalizer=ignore_split_join)\n",
    "show_call_graph(greater_than_g)\n",
    "show_counts_sigma(greater_than_sigma)"
   ]
  },
  {
   "cell_type": "markdown",
   "id": "532b6bf1",
   "metadata": {
    "cq.autogen": "GreaterThanConstant.bloq_doc.md"
   },
   "source": [
    "## `GreaterThanConstant`\n",
    "Implements $U_a|x\\rangle = U_a|x\\rangle|z\\rangle = |x\\rangle |z \\land (x > a)\\rangle$\n",
    "\n",
    "The bloq_counts and t_complexity are derived from equivalent qualtran gates\n",
    "assuming a clean decomposition which should yield identical costs.\n",
    "\n",
    "See: https://github.com/quantumlib/Qualtran/pull/381 and\n",
    "https://qualtran.readthedocs.io/en/latest/bloqs/comparison_gates.html\n",
    "\n",
    "\n",
    "#### Parameters\n",
    " - `bitsize`: bitsize of x register.\n",
    " - `val`: integer to compare x against (a above.) \n",
    "\n",
    "#### Registers\n",
    " - `x`: Register to compare against val.\n",
    " - `target`: Register to hold result of comparison.\n"
   ]
  },
  {
   "cell_type": "code",
   "execution_count": 6,
   "id": "79cf881f",
   "metadata": {
    "cq.autogen": "GreaterThanConstant.bloq_doc.py"
   },
   "outputs": [],
   "source": [
    "from qualtran.bloqs.arithmetic import GreaterThanConstant"
   ]
  },
  {
   "cell_type": "markdown",
   "id": "262b3978",
   "metadata": {
    "cq.autogen": "GreaterThanConstant.example_instances.md"
   },
   "source": [
    "### Example Instances"
   ]
  },
  {
   "cell_type": "code",
   "execution_count": 7,
   "id": "4e9495bc",
   "metadata": {
    "cq.autogen": "GreaterThanConstant.gt_k"
   },
   "outputs": [],
   "source": [
    "gt_k = GreaterThanConstant(bitsize=4, val=13)"
   ]
  },
  {
   "cell_type": "markdown",
   "id": "692cf0da",
   "metadata": {
    "cq.autogen": "GreaterThanConstant.graphical_signature.md"
   },
   "source": [
    "#### Graphical Signature"
   ]
  },
  {
   "cell_type": "code",
   "execution_count": 8,
   "id": "49de22c1",
   "metadata": {
    "cq.autogen": "GreaterThanConstant.graphical_signature.py"
   },
   "outputs": [
    {
     "data": {
      "application/vnd.jupyter.widget-view+json": {
       "model_id": "b5aa5b5ba5964d98ba76978bafa8e411",
       "version_major": 2,
       "version_minor": 0
      },
      "text/plain": [
       "HBox(children=(Output(outputs=({'output_type': 'display_data', 'data': {'text/plain': '<IPython.core.display.M…"
      ]
     },
     "metadata": {},
     "output_type": "display_data"
    }
   ],
   "source": [
    "from qualtran.drawing import show_bloqs\n",
    "show_bloqs([gt_k],\n",
    "           ['`gt_k`'])"
   ]
  },
  {
   "cell_type": "markdown",
   "id": "ca10fb8f",
   "metadata": {
    "cq.autogen": "GreaterThanConstant.call_graph.md"
   },
   "source": [
    "### Call Graph"
   ]
  },
  {
   "cell_type": "code",
   "execution_count": 9,
   "id": "ce7758c2",
   "metadata": {
    "cq.autogen": "GreaterThanConstant.call_graph.py"
   },
   "outputs": [
    {
     "data": {
      "image/svg+xml": [
       "<svg xmlns=\"http://www.w3.org/2000/svg\" xmlns:xlink=\"http://www.w3.org/1999/xlink\" width=\"187pt\" height=\"131pt\" viewBox=\"0.00 0.00 187.00 131.00\">\n",
       "<g id=\"graph0\" class=\"graph\" transform=\"scale(1 1) rotate(0) translate(4 127)\">\n",
       "<title>counts</title>\n",
       "<polygon fill=\"white\" stroke=\"transparent\" points=\"-4,4 -4,-127 183,-127 183,4 -4,4\"/>\n",
       "<!-- b0 -->\n",
       "<g id=\"node1\" class=\"node\">\n",
       "<title>b0</title>\n",
       "<polygon fill=\"none\" stroke=\"black\" points=\"156,-123 23,-123 23,-87 156,-87 156,-123\"/>\n",
       "<text text-anchor=\"start\" x=\"31\" y=\"-106.8\" font-family=\"Times,serif\" font-size=\"14.00\">GreaterThanConstant</text>\n",
       "<text text-anchor=\"start\" x=\"38\" y=\"-96\" font-family=\"monospace\" font-size=\"10.00\">bitsize=4, val=13</text>\n",
       "</g>\n",
       "<!-- b1 -->\n",
       "<g id=\"node2\" class=\"node\">\n",
       "<title>b1</title>\n",
       "<polygon fill=\"none\" stroke=\"black\" points=\"179,-36 0,-36 0,0 179,0 179,-36\"/>\n",
       "<text text-anchor=\"start\" x=\"39\" y=\"-19.8\" font-family=\"Times,serif\" font-size=\"14.00\">LessThanConstant</text>\n",
       "<text text-anchor=\"start\" x=\"8\" y=\"-9\" font-family=\"monospace\" font-size=\"10.00\">bitsize=4, less_than_val=13</text>\n",
       "</g>\n",
       "<!-- b0&#45;&gt;b1 -->\n",
       "<g id=\"edge1\" class=\"edge\">\n",
       "<title>b0-&gt;b1</title>\n",
       "<path fill=\"none\" stroke=\"black\" d=\"M89.5,-86.8C89.5,-75.16 89.5,-59.55 89.5,-46.24\"/>\n",
       "<polygon fill=\"black\" stroke=\"black\" points=\"93,-46.18 89.5,-36.18 86,-46.18 93,-46.18\"/>\n",
       "<text text-anchor=\"middle\" x=\"93\" y=\"-57.8\" font-family=\"Times,serif\" font-size=\"14.00\">1</text>\n",
       "</g>\n",
       "</g>\n",
       "</svg>"
      ],
      "text/plain": [
       "<IPython.core.display.SVG object>"
      ]
     },
     "metadata": {},
     "output_type": "display_data"
    },
    {
     "data": {
      "text/markdown": [
       "#### Counts totals:\n",
       " - `LessThanConstant`: 1"
      ],
      "text/plain": [
       "<IPython.core.display.Markdown object>"
      ]
     },
     "metadata": {},
     "output_type": "display_data"
    }
   ],
   "source": [
    "from qualtran.resource_counting.generalizers import ignore_split_join\n",
    "gt_k_g, gt_k_sigma = gt_k.call_graph(max_depth=1, generalizer=ignore_split_join)\n",
    "show_call_graph(gt_k_g)\n",
    "show_counts_sigma(gt_k_sigma)"
   ]
  },
  {
   "cell_type": "markdown",
   "id": "8948042c",
   "metadata": {
    "cq.autogen": "EqualsAConstant.bloq_doc.md"
   },
   "source": [
    "## `EqualsAConstant`\n",
    "Implements $U_a|x\\rangle = U_a|x\\rangle|z\\rangle = |x\\rangle |z \\land (x = a)\\rangle$\n",
    "\n",
    "The bloq_counts and t_complexity are derived from:\n",
    "https://qualtran.readthedocs.io/en/latest/bloqs/comparison_gates.html#equality-as-a-special-case\n",
    "\n",
    "#### Parameters\n",
    " - `bitsize`: bitsize of x register.\n",
    " - `val`: integer to compare x against (a above.) \n",
    "\n",
    "#### Registers\n",
    " - `x`: Register to compare against val.\n",
    " - `target`: Register to hold result of comparison.\n"
   ]
  },
  {
   "cell_type": "code",
   "execution_count": 10,
   "id": "8975c3d4",
   "metadata": {
    "cq.autogen": "EqualsAConstant.bloq_doc.py"
   },
   "outputs": [],
   "source": [
    "from qualtran.bloqs.arithmetic import EqualsAConstant"
   ]
  },
  {
   "cell_type": "markdown",
   "id": "8d9dfb80",
   "metadata": {
    "cq.autogen": "EqualsAConstant.example_instances.md"
   },
   "source": [
    "### Example Instances"
   ]
  },
  {
   "cell_type": "code",
   "execution_count": 11,
   "id": "596fef5f",
   "metadata": {
    "cq.autogen": "EqualsAConstant.eq_k"
   },
   "outputs": [],
   "source": [
    "eq_k = EqualsAConstant(bitsize=4, val=13)"
   ]
  },
  {
   "cell_type": "markdown",
   "id": "867bb5ac",
   "metadata": {
    "cq.autogen": "EqualsAConstant.graphical_signature.md"
   },
   "source": [
    "#### Graphical Signature"
   ]
  },
  {
   "cell_type": "code",
   "execution_count": 12,
   "id": "a3d3be59",
   "metadata": {
    "cq.autogen": "EqualsAConstant.graphical_signature.py"
   },
   "outputs": [
    {
     "data": {
      "application/vnd.jupyter.widget-view+json": {
       "model_id": "d8be60e434a740e9b54c0f6425d96218",
       "version_major": 2,
       "version_minor": 0
      },
      "text/plain": [
       "HBox(children=(Output(outputs=({'output_type': 'display_data', 'data': {'text/plain': '<IPython.core.display.M…"
      ]
     },
     "metadata": {},
     "output_type": "display_data"
    }
   ],
   "source": [
    "from qualtran.drawing import show_bloqs\n",
    "show_bloqs([eq_k],\n",
    "           ['`eq_k`'])"
   ]
  },
  {
   "cell_type": "markdown",
   "id": "c672c228",
   "metadata": {
    "cq.autogen": "EqualsAConstant.call_graph.md"
   },
   "source": [
    "### Call Graph"
   ]
  },
  {
   "cell_type": "code",
   "execution_count": 13,
   "id": "735d36af",
   "metadata": {
    "cq.autogen": "EqualsAConstant.call_graph.py"
   },
   "outputs": [
    {
     "data": {
      "image/svg+xml": [
       "<svg xmlns=\"http://www.w3.org/2000/svg\" xmlns:xlink=\"http://www.w3.org/1999/xlink\" width=\"127pt\" height=\"131pt\" viewBox=\"0.00 0.00 127.00 131.00\">\n",
       "<g id=\"graph0\" class=\"graph\" transform=\"scale(1 1) rotate(0) translate(4 127)\">\n",
       "<title>counts</title>\n",
       "<polygon fill=\"white\" stroke=\"transparent\" points=\"-4,4 -4,-127 123,-127 123,4 -4,4\"/>\n",
       "<!-- b0 -->\n",
       "<g id=\"node1\" class=\"node\">\n",
       "<title>b0</title>\n",
       "<polygon fill=\"none\" stroke=\"black\" points=\"119,-123 0,-123 0,-87 119,-87 119,-123\"/>\n",
       "<text text-anchor=\"start\" x=\"12\" y=\"-106.8\" font-family=\"Times,serif\" font-size=\"14.00\">EqualsAConstant</text>\n",
       "<text text-anchor=\"start\" x=\"8\" y=\"-96\" font-family=\"monospace\" font-size=\"10.00\">bitsize=4, val=13</text>\n",
       "</g>\n",
       "<!-- b1 -->\n",
       "<g id=\"node2\" class=\"node\">\n",
       "<title>b1</title>\n",
       "<polygon fill=\"none\" stroke=\"black\" points=\"116,-36 3,-36 3,0 116,0 116,-36\"/>\n",
       "<text text-anchor=\"start\" x=\"55\" y=\"-19.8\" font-family=\"Times,serif\" font-size=\"14.00\">T</text>\n",
       "<text text-anchor=\"start\" x=\"11\" y=\"-9\" font-family=\"monospace\" font-size=\"10.00\">is_adjoint=False</text>\n",
       "</g>\n",
       "<!-- b0&#45;&gt;b1 -->\n",
       "<g id=\"edge1\" class=\"edge\">\n",
       "<title>b0-&gt;b1</title>\n",
       "<path fill=\"none\" stroke=\"black\" d=\"M59.5,-86.8C59.5,-75.16 59.5,-59.55 59.5,-46.24\"/>\n",
       "<polygon fill=\"black\" stroke=\"black\" points=\"63,-46.18 59.5,-36.18 56,-46.18 63,-46.18\"/>\n",
       "<text text-anchor=\"middle\" x=\"66.5\" y=\"-57.8\" font-family=\"Times,serif\" font-size=\"14.00\">12</text>\n",
       "</g>\n",
       "</g>\n",
       "</svg>"
      ],
      "text/plain": [
       "<IPython.core.display.SVG object>"
      ]
     },
     "metadata": {},
     "output_type": "display_data"
    },
    {
     "data": {
      "text/markdown": [
       "#### Counts totals:\n",
       " - `T`: 12"
      ],
      "text/plain": [
       "<IPython.core.display.Markdown object>"
      ]
     },
     "metadata": {},
     "output_type": "display_data"
    }
   ],
   "source": [
    "from qualtran.resource_counting.generalizers import ignore_split_join\n",
    "eq_k_g, eq_k_sigma = eq_k.call_graph(max_depth=1, generalizer=ignore_split_join)\n",
    "show_call_graph(eq_k_g)\n",
    "show_counts_sigma(eq_k_sigma)"
   ]
  },
  {
   "cell_type": "markdown",
   "id": "5d4a473d",
   "metadata": {
    "cq.autogen": "LessThanConstant.bloq_doc.md"
   },
   "source": [
    "## `LessThanConstant`\n",
    "Applies U_a|x>|z> = |x> |z ^ (x < a)>"
   ]
  },
  {
   "cell_type": "code",
   "execution_count": 14,
   "id": "f978cd77",
   "metadata": {
    "cq.autogen": "LessThanConstant.bloq_doc.py"
   },
   "outputs": [],
   "source": [
    "from qualtran.bloqs.arithmetic import LessThanConstant"
   ]
  },
  {
   "cell_type": "markdown",
   "id": "1ff5855a",
   "metadata": {
    "cq.autogen": "LessThanConstant.example_instances.md"
   },
   "source": [
    "### Example Instances"
   ]
  },
  {
   "cell_type": "code",
   "execution_count": 15,
   "id": "f0e3705e",
   "metadata": {
    "cq.autogen": "LessThanConstant.lt_k_symb"
   },
   "outputs": [],
   "source": [
    "n, k = sympy.symbols(\"n k\")\n",
    "lt_k_symb = LessThanConstant(bitsize=n, less_than_val=k)"
   ]
  },
  {
   "cell_type": "code",
   "execution_count": 16,
   "id": "65845541",
   "metadata": {
    "cq.autogen": "LessThanConstant.lt_k"
   },
   "outputs": [],
   "source": [
    "lt_k = LessThanConstant(bitsize=8, less_than_val=5)"
   ]
  },
  {
   "cell_type": "markdown",
   "id": "697c19b4",
   "metadata": {
    "cq.autogen": "LessThanConstant.graphical_signature.md"
   },
   "source": [
    "#### Graphical Signature"
   ]
  },
  {
   "cell_type": "code",
   "execution_count": 17,
   "id": "c722a3c7",
   "metadata": {
    "cq.autogen": "LessThanConstant.graphical_signature.py"
   },
   "outputs": [
    {
     "data": {
      "application/vnd.jupyter.widget-view+json": {
       "model_id": "ec02b04433dc4d04b63c06b9a499ac04",
       "version_major": 2,
       "version_minor": 0
      },
      "text/plain": [
       "HBox(children=(Output(outputs=({'output_type': 'display_data', 'data': {'text/plain': '<IPython.core.display.M…"
      ]
     },
     "metadata": {},
     "output_type": "display_data"
    }
   ],
   "source": [
    "from qualtran.drawing import show_bloqs\n",
    "show_bloqs([lt_k, lt_k_symb],\n",
    "           ['`lt_k`', '`lt_k_symb`'])"
   ]
  },
  {
   "cell_type": "markdown",
   "id": "9ac764fa",
   "metadata": {
    "cq.autogen": "LessThanConstant.call_graph.md"
   },
   "source": [
    "### Call Graph"
   ]
  },
  {
   "cell_type": "code",
   "execution_count": 18,
   "id": "b8de0ffc",
   "metadata": {
    "cq.autogen": "LessThanConstant.call_graph.py"
   },
   "outputs": [
    {
     "data": {
      "image/svg+xml": [
       "<svg xmlns=\"http://www.w3.org/2000/svg\" xmlns:xlink=\"http://www.w3.org/1999/xlink\" width=\"548pt\" height=\"131pt\" viewBox=\"0.00 0.00 547.50 131.00\">\n",
       "<g id=\"graph0\" class=\"graph\" transform=\"scale(1 1) rotate(0) translate(4 127)\">\n",
       "<title>counts</title>\n",
       "<polygon fill=\"white\" stroke=\"transparent\" points=\"-4,4 -4,-127 543.5,-127 543.5,4 -4,4\"/>\n",
       "<!-- b0 -->\n",
       "<g id=\"node1\" class=\"node\">\n",
       "<title>b0</title>\n",
       "<polygon fill=\"none\" stroke=\"black\" points=\"392,-123 219,-123 219,-87 392,-87 392,-123\"/>\n",
       "<text text-anchor=\"start\" x=\"255\" y=\"-106.8\" font-family=\"Times,serif\" font-size=\"14.00\">LessThanConstant</text>\n",
       "<text text-anchor=\"start\" x=\"227\" y=\"-96\" font-family=\"monospace\" font-size=\"10.00\">bitsize=8, less_than_val=5</text>\n",
       "</g>\n",
       "<!-- b1 -->\n",
       "<g id=\"node2\" class=\"node\">\n",
       "<title>b1</title>\n",
       "<polygon fill=\"none\" stroke=\"black\" points=\"191,-36 0,-36 0,0 191,0 191,-36\"/>\n",
       "<text text-anchor=\"start\" x=\"83.5\" y=\"-19.8\" font-family=\"Times,serif\" font-size=\"14.00\">And</text>\n",
       "<text text-anchor=\"start\" x=\"8\" y=\"-9\" font-family=\"monospace\" font-size=\"10.00\">cv1=1, cv2=1, uncompute=False</text>\n",
       "</g>\n",
       "<!-- b0&#45;&gt;b1 -->\n",
       "<g id=\"edge1\" class=\"edge\">\n",
       "<title>b0-&gt;b1</title>\n",
       "<path fill=\"none\" stroke=\"black\" d=\"M263.26,-86.9C229.72,-73.33 182.7,-54.29 146.97,-39.83\"/>\n",
       "<polygon fill=\"black\" stroke=\"black\" points=\"148.26,-36.58 137.68,-36.07 145.63,-43.07 148.26,-36.58\"/>\n",
       "<text text-anchor=\"middle\" x=\"217\" y=\"-57.8\" font-family=\"Times,serif\" font-size=\"14.00\">8</text>\n",
       "</g>\n",
       "<!-- b2 -->\n",
       "<g id=\"node3\" class=\"node\">\n",
       "<title>b2</title>\n",
       "<polygon fill=\"none\" stroke=\"black\" points=\"263.5,-36 209.5,-36 209.5,0 263.5,0 263.5,-36\"/>\n",
       "<text text-anchor=\"start\" x=\"218\" y=\"-14.3\" font-family=\"Times,serif\" font-size=\"14.00\">CNOT</text>\n",
       "</g>\n",
       "<!-- b0&#45;&gt;b2 -->\n",
       "<g id=\"edge2\" class=\"edge\">\n",
       "<title>b0-&gt;b2</title>\n",
       "<path fill=\"none\" stroke=\"black\" d=\"M291.54,-86.8C281.62,-74.59 268.15,-57.99 257.02,-44.28\"/>\n",
       "<polygon fill=\"black\" stroke=\"black\" points=\"259.46,-41.73 250.44,-36.18 254.03,-46.15 259.46,-41.73\"/>\n",
       "<text text-anchor=\"middle\" x=\"282.5\" y=\"-57.8\" font-family=\"Times,serif\" font-size=\"14.00\">18</text>\n",
       "</g>\n",
       "<!-- b3 -->\n",
       "<g id=\"node4\" class=\"node\">\n",
       "<title>b3</title>\n",
       "<polygon fill=\"none\" stroke=\"black\" points=\"467,-36 282,-36 282,0 467,0 467,-36\"/>\n",
       "<text text-anchor=\"start\" x=\"359\" y=\"-19.8\" font-family=\"Times,serif\" font-size=\"14.00\">And†</text>\n",
       "<text text-anchor=\"start\" x=\"290\" y=\"-9\" font-family=\"monospace\" font-size=\"10.00\">cv1=1, cv2=1, uncompute=True</text>\n",
       "</g>\n",
       "<!-- b0&#45;&gt;b3 -->\n",
       "<g id=\"edge3\" class=\"edge\">\n",
       "<title>b0-&gt;b3</title>\n",
       "<path fill=\"none\" stroke=\"black\" d=\"M319.46,-86.8C329.38,-74.59 342.85,-57.99 353.98,-44.28\"/>\n",
       "<polygon fill=\"black\" stroke=\"black\" points=\"356.97,-46.15 360.56,-36.18 351.54,-41.73 356.97,-46.15\"/>\n",
       "<text text-anchor=\"middle\" x=\"348\" y=\"-57.8\" font-family=\"Times,serif\" font-size=\"14.00\">8</text>\n",
       "</g>\n",
       "<!-- b4 -->\n",
       "<g id=\"node5\" class=\"node\">\n",
       "<title>b4</title>\n",
       "<polygon fill=\"none\" stroke=\"black\" points=\"539.5,-36 485.5,-36 485.5,0 539.5,0 539.5,-36\"/>\n",
       "<text text-anchor=\"start\" x=\"494.5\" y=\"-14.3\" font-family=\"Times,serif\" font-size=\"14.00\">XGate</text>\n",
       "</g>\n",
       "<!-- b0&#45;&gt;b4 -->\n",
       "<g id=\"edge4\" class=\"edge\">\n",
       "<title>b0-&gt;b4</title>\n",
       "<path fill=\"none\" stroke=\"black\" d=\"M349.78,-86.99C384.23,-73.59 433.15,-54.19 475.5,-36 475.7,-35.91 475.91,-35.83 476.11,-35.74\"/>\n",
       "<polygon fill=\"black\" stroke=\"black\" points=\"477.76,-38.84 485.49,-31.6 474.93,-32.43 477.76,-38.84\"/>\n",
       "<text text-anchor=\"middle\" x=\"433\" y=\"-57.8\" font-family=\"Times,serif\" font-size=\"14.00\">6</text>\n",
       "</g>\n",
       "</g>\n",
       "</svg>"
      ],
      "text/plain": [
       "<IPython.core.display.SVG object>"
      ]
     },
     "metadata": {},
     "output_type": "display_data"
    },
    {
     "data": {
      "text/markdown": [
       "#### Counts totals:\n",
       " - `And`: 8\n",
       " - `And†`: 8\n",
       " - `CNOT`: 18\n",
       " - `XGate`: 6"
      ],
      "text/plain": [
       "<IPython.core.display.Markdown object>"
      ]
     },
     "metadata": {},
     "output_type": "display_data"
    }
   ],
   "source": [
    "from qualtran.resource_counting.generalizers import ignore_split_join\n",
    "lt_k_g, lt_k_sigma = lt_k.call_graph(max_depth=1, generalizer=ignore_split_join)\n",
    "show_call_graph(lt_k_g)\n",
    "show_counts_sigma(lt_k_sigma)"
   ]
  },
  {
   "cell_type": "markdown",
   "id": "58d1a6a6",
   "metadata": {
    "cq.autogen": "BiQubitsMixer.bloq_doc.md"
   },
   "source": [
    "## `BiQubitsMixer`\n",
    "Implements the COMPARE2 subroutine from the reference (Fig. 1)\n",
    "\n",
    "This gates mixes the values in a way that preserves the result of comparison.\n",
    "The signature being compared are 2-qubit signature where\n",
    "\n",
    "    x = 2*x_msb + x_lsb\n",
    "    y = 2*y_msb + y_lsb\n",
    "\n",
    "The Gate mixes the 4 qubits so that sign(x - y) = sign(x_lsb' - y_lsb') where x_lsb' and y_lsb'\n",
    "are the final values of x_lsb' and y_lsb'.\n",
    "\n",
    "Note that the ancilla qubits are used to reduce the T-count and the user\n",
    "should clean the qubits at a later point in time with the adjoint gate.\n",
    "See: https://github.com/quantumlib/Cirq/pull/6313 and\n",
    "https://github.com/quantumlib/Qualtran/issues/389\n",
    "\n",
    "#### References\n",
    " - Supplementary Materials: Improved Techniques for Preparing Eigenstates of Fermionic Hamiltonians https://static-content.springer.com/esm/art%3A10.1038%2Fs41534-018-0071-5/MediaObjects/41534_2018_71_MOESM1_ESM.pdf\n"
   ]
  },
  {
   "cell_type": "code",
   "execution_count": 19,
   "id": "1603c8b5",
   "metadata": {
    "cq.autogen": "BiQubitsMixer.bloq_doc.py"
   },
   "outputs": [],
   "source": [
    "from qualtran.bloqs.arithmetic import BiQubitsMixer"
   ]
  },
  {
   "cell_type": "markdown",
   "id": "78cbdc47",
   "metadata": {
    "cq.autogen": "BiQubitsMixer.example_instances.md"
   },
   "source": [
    "### Example Instances"
   ]
  },
  {
   "cell_type": "code",
   "execution_count": 20,
   "id": "d69a00ae",
   "metadata": {
    "cq.autogen": "BiQubitsMixer.bi_qubits_mixer"
   },
   "outputs": [],
   "source": [
    "bi_qubits_mixer = BiQubitsMixer()"
   ]
  },
  {
   "cell_type": "markdown",
   "id": "1f0bfe08",
   "metadata": {
    "cq.autogen": "BiQubitsMixer.graphical_signature.md"
   },
   "source": [
    "#### Graphical Signature"
   ]
  },
  {
   "cell_type": "code",
   "execution_count": 21,
   "id": "7558ee56",
   "metadata": {
    "cq.autogen": "BiQubitsMixer.graphical_signature.py"
   },
   "outputs": [
    {
     "data": {
      "application/vnd.jupyter.widget-view+json": {
       "model_id": "5d130bc59e9b444893ad6e17eaf47191",
       "version_major": 2,
       "version_minor": 0
      },
      "text/plain": [
       "HBox(children=(Output(outputs=({'output_type': 'display_data', 'data': {'text/plain': '<IPython.core.display.M…"
      ]
     },
     "metadata": {},
     "output_type": "display_data"
    }
   ],
   "source": [
    "from qualtran.drawing import show_bloqs\n",
    "show_bloqs([bi_qubits_mixer],\n",
    "           ['`bi_qubits_mixer`'])"
   ]
  },
  {
   "cell_type": "markdown",
   "id": "a5c34728",
   "metadata": {
    "cq.autogen": "BiQubitsMixer.call_graph.md"
   },
   "source": [
    "### Call Graph"
   ]
  },
  {
   "cell_type": "code",
   "execution_count": 22,
   "id": "0daf86df",
   "metadata": {
    "cq.autogen": "BiQubitsMixer.call_graph.py"
   },
   "outputs": [
    {
     "data": {
      "image/svg+xml": [
       "<svg xmlns=\"http://www.w3.org/2000/svg\" xmlns:xlink=\"http://www.w3.org/1999/xlink\" width=\"344pt\" height=\"131pt\" viewBox=\"0.00 0.00 343.50 131.00\">\n",
       "<g id=\"graph0\" class=\"graph\" transform=\"scale(1 1) rotate(0) translate(4 127)\">\n",
       "<title>counts</title>\n",
       "<polygon fill=\"white\" stroke=\"transparent\" points=\"-4,4 -4,-127 339.5,-127 339.5,4 -4,4\"/>\n",
       "<!-- b0 -->\n",
       "<g id=\"node1\" class=\"node\">\n",
       "<title>b0</title>\n",
       "<polygon fill=\"none\" stroke=\"black\" points=\"155.5,-123 42.5,-123 42.5,-87 155.5,-87 155.5,-123\"/>\n",
       "<text text-anchor=\"start\" x=\"57.5\" y=\"-106.8\" font-family=\"Times,serif\" font-size=\"14.00\">BiQubitsMixer</text>\n",
       "<text text-anchor=\"start\" x=\"50.5\" y=\"-96\" font-family=\"monospace\" font-size=\"10.00\">is_adjoint=False</text>\n",
       "</g>\n",
       "<!-- b1 -->\n",
       "<g id=\"node2\" class=\"node\">\n",
       "<title>b1</title>\n",
       "<polygon fill=\"none\" stroke=\"black\" points=\"54,-36 0,-36 0,0 54,0 54,-36\"/>\n",
       "<text text-anchor=\"start\" x=\"9\" y=\"-14.3\" font-family=\"Times,serif\" font-size=\"14.00\">XGate</text>\n",
       "</g>\n",
       "<!-- b0&#45;&gt;b1 -->\n",
       "<g id=\"edge1\" class=\"edge\">\n",
       "<title>b0-&gt;b1</title>\n",
       "<path fill=\"none\" stroke=\"black\" d=\"M84.43,-86.8C73.99,-74.47 59.76,-57.68 48.08,-43.89\"/>\n",
       "<polygon fill=\"black\" stroke=\"black\" points=\"50.68,-41.54 41.55,-36.18 45.34,-46.07 50.68,-41.54\"/>\n",
       "<text text-anchor=\"middle\" x=\"71.5\" y=\"-57.8\" font-family=\"Times,serif\" font-size=\"14.00\">1</text>\n",
       "</g>\n",
       "<!-- b2 -->\n",
       "<g id=\"node3\" class=\"node\">\n",
       "<title>b2</title>\n",
       "<polygon fill=\"none\" stroke=\"black\" points=\"126,-36 72,-36 72,0 126,0 126,-36\"/>\n",
       "<text text-anchor=\"start\" x=\"80.5\" y=\"-14.3\" font-family=\"Times,serif\" font-size=\"14.00\">CNOT</text>\n",
       "</g>\n",
       "<!-- b0&#45;&gt;b2 -->\n",
       "<g id=\"edge2\" class=\"edge\">\n",
       "<title>b0-&gt;b2</title>\n",
       "<path fill=\"none\" stroke=\"black\" d=\"M99,-86.8C99,-75.16 99,-59.55 99,-46.24\"/>\n",
       "<polygon fill=\"black\" stroke=\"black\" points=\"102.5,-46.18 99,-36.18 95.5,-46.18 102.5,-46.18\"/>\n",
       "<text text-anchor=\"middle\" x=\"102.5\" y=\"-57.8\" font-family=\"Times,serif\" font-size=\"14.00\">9</text>\n",
       "</g>\n",
       "<!-- b3 -->\n",
       "<g id=\"node4\" class=\"node\">\n",
       "<title>b3</title>\n",
       "<polygon fill=\"none\" stroke=\"black\" points=\"335.5,-36 144.5,-36 144.5,0 335.5,0 335.5,-36\"/>\n",
       "<text text-anchor=\"start\" x=\"228\" y=\"-19.8\" font-family=\"Times,serif\" font-size=\"14.00\">And</text>\n",
       "<text text-anchor=\"start\" x=\"152.5\" y=\"-9\" font-family=\"monospace\" font-size=\"10.00\">cv1=1, cv2=1, uncompute=False</text>\n",
       "</g>\n",
       "<!-- b0&#45;&gt;b3 -->\n",
       "<g id=\"edge3\" class=\"edge\">\n",
       "<title>b0-&gt;b3</title>\n",
       "<path fill=\"none\" stroke=\"black\" d=\"M127.53,-86.8C149.23,-73.72 179.25,-55.62 202.82,-41.41\"/>\n",
       "<polygon fill=\"black\" stroke=\"black\" points=\"204.75,-44.34 211.51,-36.18 201.14,-38.34 204.75,-44.34\"/>\n",
       "<text text-anchor=\"middle\" x=\"181.5\" y=\"-57.8\" font-family=\"Times,serif\" font-size=\"14.00\">2</text>\n",
       "</g>\n",
       "</g>\n",
       "</svg>"
      ],
      "text/plain": [
       "<IPython.core.display.SVG object>"
      ]
     },
     "metadata": {},
     "output_type": "display_data"
    },
    {
     "data": {
      "text/markdown": [
       "#### Counts totals:\n",
       " - `And`: 2\n",
       " - `CNOT`: 9\n",
       " - `XGate`: 1"
      ],
      "text/plain": [
       "<IPython.core.display.Markdown object>"
      ]
     },
     "metadata": {},
     "output_type": "display_data"
    }
   ],
   "source": [
    "from qualtran.resource_counting.generalizers import ignore_split_join\n",
    "bi_qubits_mixer_g, bi_qubits_mixer_sigma = bi_qubits_mixer.call_graph(max_depth=1, generalizer=ignore_split_join)\n",
    "show_call_graph(bi_qubits_mixer_g)\n",
    "show_counts_sigma(bi_qubits_mixer_sigma)"
   ]
  },
  {
   "cell_type": "markdown",
   "id": "19ccfb41",
   "metadata": {
    "cq.autogen": "SingleQubitCompare.bloq_doc.md"
   },
   "source": [
    "## `SingleQubitCompare`\n",
    "Applies U|a>|b>|0>|0> = |a> |a=b> |(a<b)> |(a>b)>\n",
    "\n",
    "#### References\n",
    " - Supplementary Materials: Improved Techniques for Preparing Eigenstates of Fermionic Hamiltonians. Figure 3. https://static-content.springer.com/esm/art%3A10.1038%2Fs41534-018-0071-5/MediaObjects/41534_2018_71_MOESM1_ESM.pdf\n"
   ]
  },
  {
   "cell_type": "code",
   "execution_count": 23,
   "id": "ae8f37f5",
   "metadata": {
    "cq.autogen": "SingleQubitCompare.bloq_doc.py"
   },
   "outputs": [],
   "source": [
    "from qualtran.bloqs.arithmetic import SingleQubitCompare"
   ]
  },
  {
   "cell_type": "markdown",
   "id": "61ef1472",
   "metadata": {
    "cq.autogen": "SingleQubitCompare.example_instances.md"
   },
   "source": [
    "### Example Instances"
   ]
  },
  {
   "cell_type": "code",
   "execution_count": 24,
   "id": "534c5c22",
   "metadata": {
    "cq.autogen": "SingleQubitCompare.sq_cmp"
   },
   "outputs": [],
   "source": [
    "sq_cmp = SingleQubitCompare()"
   ]
  },
  {
   "cell_type": "markdown",
   "id": "2843d328",
   "metadata": {
    "cq.autogen": "SingleQubitCompare.graphical_signature.md"
   },
   "source": [
    "#### Graphical Signature"
   ]
  },
  {
   "cell_type": "code",
   "execution_count": 25,
   "id": "d5dcf72e",
   "metadata": {
    "cq.autogen": "SingleQubitCompare.graphical_signature.py"
   },
   "outputs": [
    {
     "data": {
      "application/vnd.jupyter.widget-view+json": {
       "model_id": "cc3495c9f52648a689f4863299b59711",
       "version_major": 2,
       "version_minor": 0
      },
      "text/plain": [
       "HBox(children=(Output(outputs=({'output_type': 'display_data', 'data': {'text/plain': '<IPython.core.display.M…"
      ]
     },
     "metadata": {},
     "output_type": "display_data"
    }
   ],
   "source": [
    "from qualtran.drawing import show_bloqs\n",
    "show_bloqs([sq_cmp],\n",
    "           ['`sq_cmp`'])"
   ]
  },
  {
   "cell_type": "markdown",
   "id": "ee1cc222",
   "metadata": {
    "cq.autogen": "SingleQubitCompare.call_graph.md"
   },
   "source": [
    "### Call Graph"
   ]
  },
  {
   "cell_type": "code",
   "execution_count": 26,
   "id": "c96f20fc",
   "metadata": {
    "cq.autogen": "SingleQubitCompare.call_graph.py"
   },
   "outputs": [
    {
     "data": {
      "image/svg+xml": [
       "<svg xmlns=\"http://www.w3.org/2000/svg\" xmlns:xlink=\"http://www.w3.org/1999/xlink\" width=\"344pt\" height=\"131pt\" viewBox=\"0.00 0.00 343.50 131.00\">\n",
       "<g id=\"graph0\" class=\"graph\" transform=\"scale(1 1) rotate(0) translate(4 127)\">\n",
       "<title>counts</title>\n",
       "<polygon fill=\"white\" stroke=\"transparent\" points=\"-4,4 -4,-127 339.5,-127 339.5,4 -4,4\"/>\n",
       "<!-- b0 -->\n",
       "<g id=\"node1\" class=\"node\">\n",
       "<title>b0</title>\n",
       "<polygon fill=\"none\" stroke=\"black\" points=\"165,-123 33,-123 33,-87 165,-87 165,-123\"/>\n",
       "<text text-anchor=\"start\" x=\"41\" y=\"-106.8\" font-family=\"Times,serif\" font-size=\"14.00\">SingleQubitCompare</text>\n",
       "<text text-anchor=\"start\" x=\"50.5\" y=\"-96\" font-family=\"monospace\" font-size=\"10.00\">is_adjoint=False</text>\n",
       "</g>\n",
       "<!-- b1 -->\n",
       "<g id=\"node2\" class=\"node\">\n",
       "<title>b1</title>\n",
       "<polygon fill=\"none\" stroke=\"black\" points=\"54,-36 0,-36 0,0 54,0 54,-36\"/>\n",
       "<text text-anchor=\"start\" x=\"9\" y=\"-14.3\" font-family=\"Times,serif\" font-size=\"14.00\">XGate</text>\n",
       "</g>\n",
       "<!-- b0&#45;&gt;b1 -->\n",
       "<g id=\"edge1\" class=\"edge\">\n",
       "<title>b0-&gt;b1</title>\n",
       "<path fill=\"none\" stroke=\"black\" d=\"M84.43,-86.8C73.99,-74.47 59.76,-57.68 48.08,-43.89\"/>\n",
       "<polygon fill=\"black\" stroke=\"black\" points=\"50.68,-41.54 41.55,-36.18 45.34,-46.07 50.68,-41.54\"/>\n",
       "<text text-anchor=\"middle\" x=\"71.5\" y=\"-57.8\" font-family=\"Times,serif\" font-size=\"14.00\">1</text>\n",
       "</g>\n",
       "<!-- b2 -->\n",
       "<g id=\"node3\" class=\"node\">\n",
       "<title>b2</title>\n",
       "<polygon fill=\"none\" stroke=\"black\" points=\"126,-36 72,-36 72,0 126,0 126,-36\"/>\n",
       "<text text-anchor=\"start\" x=\"80.5\" y=\"-14.3\" font-family=\"Times,serif\" font-size=\"14.00\">CNOT</text>\n",
       "</g>\n",
       "<!-- b0&#45;&gt;b2 -->\n",
       "<g id=\"edge2\" class=\"edge\">\n",
       "<title>b0-&gt;b2</title>\n",
       "<path fill=\"none\" stroke=\"black\" d=\"M99,-86.8C99,-75.16 99,-59.55 99,-46.24\"/>\n",
       "<polygon fill=\"black\" stroke=\"black\" points=\"102.5,-46.18 99,-36.18 95.5,-46.18 102.5,-46.18\"/>\n",
       "<text text-anchor=\"middle\" x=\"102.5\" y=\"-57.8\" font-family=\"Times,serif\" font-size=\"14.00\">4</text>\n",
       "</g>\n",
       "<!-- b3 -->\n",
       "<g id=\"node4\" class=\"node\">\n",
       "<title>b3</title>\n",
       "<polygon fill=\"none\" stroke=\"black\" points=\"335.5,-36 144.5,-36 144.5,0 335.5,0 335.5,-36\"/>\n",
       "<text text-anchor=\"start\" x=\"228\" y=\"-19.8\" font-family=\"Times,serif\" font-size=\"14.00\">And</text>\n",
       "<text text-anchor=\"start\" x=\"152.5\" y=\"-9\" font-family=\"monospace\" font-size=\"10.00\">cv1=1, cv2=1, uncompute=False</text>\n",
       "</g>\n",
       "<!-- b0&#45;&gt;b3 -->\n",
       "<g id=\"edge3\" class=\"edge\">\n",
       "<title>b0-&gt;b3</title>\n",
       "<path fill=\"none\" stroke=\"black\" d=\"M127.53,-86.8C149.23,-73.72 179.25,-55.62 202.82,-41.41\"/>\n",
       "<polygon fill=\"black\" stroke=\"black\" points=\"204.75,-44.34 211.51,-36.18 201.14,-38.34 204.75,-44.34\"/>\n",
       "<text text-anchor=\"middle\" x=\"181.5\" y=\"-57.8\" font-family=\"Times,serif\" font-size=\"14.00\">1</text>\n",
       "</g>\n",
       "</g>\n",
       "</svg>"
      ],
      "text/plain": [
       "<IPython.core.display.SVG object>"
      ]
     },
     "metadata": {},
     "output_type": "display_data"
    },
    {
     "data": {
      "text/markdown": [
       "#### Counts totals:\n",
       " - `And`: 1\n",
       " - `CNOT`: 4\n",
       " - `XGate`: 1"
      ],
      "text/plain": [
       "<IPython.core.display.Markdown object>"
      ]
     },
     "metadata": {},
     "output_type": "display_data"
    }
   ],
   "source": [
    "from qualtran.resource_counting.generalizers import ignore_split_join\n",
    "sq_cmp_g, sq_cmp_sigma = sq_cmp.call_graph(max_depth=1, generalizer=ignore_split_join)\n",
    "show_call_graph(sq_cmp_g)\n",
    "show_counts_sigma(sq_cmp_sigma)"
   ]
  },
  {
   "cell_type": "markdown",
   "id": "50d83fdb",
   "metadata": {
    "cq.autogen": "LessThanEqual.bloq_doc.md"
   },
   "source": [
    "## `LessThanEqual`\n",
    "Applies U|x>|y>|z> = |x>|y> |z ^ (x <= y)>\n",
    "\n",
    "Decomposes the gate in a T-complexity optimal way.\n",
    "\n",
    "The construction can be broken in 4 parts:\n",
    " 1. In case of differing bitsizes then a multicontrol And Gate\n",
    "    (Section III.A. of the first reference) is used to check whether\n",
    "    the extra prefix is equal to zero and the result is stored in the `prefix_equality` qubit.\n",
    " 2. The tree structure (Fig. 2) of the second reference.\n",
    "    followed by a `SingleQubitCompare` to compute the result of comparison of\n",
    "    the suffixes of equal length. The result is stored in `less_than` and `greater_than` and\n",
    "    equality in `qubits[-2]`\n",
    " 3. The results from the previous two steps are combined to update the target qubit.\n",
    " 4. The adjoint of the previous operations is added to restore the input qubits\n",
    "    to their original state and clean the ancilla qubits.\n",
    "\n",
    "When both registers are of the same size the T complexity is\n",
    "8n - 4 as in the second reference.\n",
    "\n",
    "When the registers differ in size and `n` is the size of the smaller one and\n",
    "`d` is the difference in size, the T complexity is the sum of the tree\n",
    "decomposition as before giving 8n + O(1); and the T complexity of an `And` gate\n",
    "over `d` registers giving 4d + O(1). This totals 8n + 4d + O(1).\n",
    "\n",
    "#### References\n",
    " - [Encoding Electronic Spectra in Quantum Circuits with Linear T Complexity](https://arxiv.org/abs/1805.03662). \n",
    " - Supplementary Materials: Improved Techniques for Preparing Eigenstates of Fermionic Hamiltonians. https://static-content.springer.com/esm/art%3A10.1038%2Fs41534-018-0071-5/MediaObjects/41534_2018_71_MOESM1_ESM.pdf\n"
   ]
  },
  {
   "cell_type": "code",
   "execution_count": 27,
   "id": "31d1717c",
   "metadata": {
    "cq.autogen": "LessThanEqual.bloq_doc.py"
   },
   "outputs": [],
   "source": [
    "from qualtran.bloqs.arithmetic import LessThanEqual"
   ]
  },
  {
   "cell_type": "markdown",
   "id": "bb520292",
   "metadata": {
    "cq.autogen": "LessThanEqual.example_instances.md"
   },
   "source": [
    "### Example Instances"
   ]
  },
  {
   "cell_type": "code",
   "execution_count": 28,
   "id": "8c60d014",
   "metadata": {
    "cq.autogen": "LessThanEqual.leq_symb"
   },
   "outputs": [],
   "source": [
    "n1, n2 = sympy.symbols('n1 n2')\n",
    "leq_symb = LessThanEqual(x_bitsize=n1, y_bitsize=n2)"
   ]
  },
  {
   "cell_type": "code",
   "execution_count": 29,
   "id": "545b145c",
   "metadata": {
    "cq.autogen": "LessThanEqual.leq"
   },
   "outputs": [],
   "source": [
    "leq = LessThanEqual(x_bitsize=4, y_bitsize=8)"
   ]
  },
  {
   "cell_type": "markdown",
   "id": "40db2f9f",
   "metadata": {
    "cq.autogen": "LessThanEqual.graphical_signature.md"
   },
   "source": [
    "#### Graphical Signature"
   ]
  },
  {
   "cell_type": "code",
   "execution_count": 30,
   "id": "bc035e97",
   "metadata": {
    "cq.autogen": "LessThanEqual.graphical_signature.py"
   },
   "outputs": [
    {
     "data": {
      "application/vnd.jupyter.widget-view+json": {
       "model_id": "1541860fafa24fbcb5aec7c7cc6faf66",
       "version_major": 2,
       "version_minor": 0
      },
      "text/plain": [
       "HBox(children=(Output(outputs=({'output_type': 'display_data', 'data': {'text/plain': '<IPython.core.display.M…"
      ]
     },
     "metadata": {},
     "output_type": "display_data"
    }
   ],
   "source": [
    "from qualtran.drawing import show_bloqs\n",
    "show_bloqs([leq, leq_symb],\n",
    "           ['`leq`', '`leq_symb`'])"
   ]
  },
  {
   "cell_type": "markdown",
   "id": "1fe92bed",
   "metadata": {
    "cq.autogen": "LessThanEqual.call_graph.md"
   },
   "source": [
    "### Call Graph"
   ]
  },
  {
   "cell_type": "code",
   "execution_count": 31,
   "id": "dcd53c93",
   "metadata": {
    "cq.autogen": "LessThanEqual.call_graph.py"
   },
   "outputs": [
    {
     "data": {
      "image/svg+xml": [
       "<svg xmlns=\"http://www.w3.org/2000/svg\" xmlns:xlink=\"http://www.w3.org/1999/xlink\" width=\"1390pt\" height=\"131pt\" viewBox=\"0.00 0.00 1390.00 131.00\">\n",
       "<g id=\"graph0\" class=\"graph\" transform=\"scale(1 1) rotate(0) translate(4 127)\">\n",
       "<title>counts</title>\n",
       "<polygon fill=\"white\" stroke=\"transparent\" points=\"-4,4 -4,-127 1386,-127 1386,4 -4,4\"/>\n",
       "<!-- b0 -->\n",
       "<g id=\"node1\" class=\"node\">\n",
       "<title>b0</title>\n",
       "<polygon fill=\"none\" stroke=\"black\" points=\"777,-123 616,-123 616,-87 777,-87 777,-123\"/>\n",
       "<text text-anchor=\"start\" x=\"654\" y=\"-106.8\" font-family=\"Times,serif\" font-size=\"14.00\">LessThanEqual</text>\n",
       "<text text-anchor=\"start\" x=\"624\" y=\"-96\" font-family=\"monospace\" font-size=\"10.00\">x_bitsize=4, y_bitsize=8</text>\n",
       "</g>\n",
       "<!-- b1 -->\n",
       "<g id=\"node2\" class=\"node\">\n",
       "<title>b1</title>\n",
       "<polygon fill=\"none\" stroke=\"black\" points=\"137,-36 0,-36 0,0 137,0 137,-36\"/>\n",
       "<text text-anchor=\"start\" x=\"38\" y=\"-19.8\" font-family=\"Times,serif\" font-size=\"14.00\">MultiAnd†</text>\n",
       "<text text-anchor=\"start\" x=\"8\" y=\"-9\" font-family=\"monospace\" font-size=\"10.00\">subbloq=MultiAnd ...</text>\n",
       "</g>\n",
       "<!-- b0&#45;&gt;b1 -->\n",
       "<g id=\"edge1\" class=\"edge\">\n",
       "<title>b0-&gt;b1</title>\n",
       "<path fill=\"none\" stroke=\"black\" d=\"M615.88,-96.86C547.11,-90.48 445.66,-80.41 357.5,-69 266.07,-57.17 240.87,-53.84 147.2,-36.28\"/>\n",
       "<polygon fill=\"black\" stroke=\"black\" points=\"147.78,-32.82 137.3,-34.41 146.48,-39.7 147.78,-32.82\"/>\n",
       "<text text-anchor=\"middle\" x=\"361\" y=\"-57.8\" font-family=\"Times,serif\" font-size=\"14.00\">1</text>\n",
       "</g>\n",
       "<!-- b2 -->\n",
       "<g id=\"node3\" class=\"node\">\n",
       "<title>b2</title>\n",
       "<polygon fill=\"none\" stroke=\"black\" points=\"268,-36 155,-36 155,0 268,0 268,-36\"/>\n",
       "<text text-anchor=\"start\" x=\"170\" y=\"-19.8\" font-family=\"Times,serif\" font-size=\"14.00\">BiQubitsMixer</text>\n",
       "<text text-anchor=\"start\" x=\"163\" y=\"-9\" font-family=\"monospace\" font-size=\"10.00\">is_adjoint=False</text>\n",
       "</g>\n",
       "<!-- b0&#45;&gt;b2 -->\n",
       "<g id=\"edge2\" class=\"edge\">\n",
       "<title>b0-&gt;b2</title>\n",
       "<path fill=\"none\" stroke=\"black\" d=\"M615.92,-93.45C533.27,-82.07 400.88,-62.26 278.1,-36.26\"/>\n",
       "<polygon fill=\"black\" stroke=\"black\" points=\"278.66,-32.8 268.15,-34.13 277.2,-39.64 278.66,-32.8\"/>\n",
       "<text text-anchor=\"middle\" x=\"453\" y=\"-57.8\" font-family=\"Times,serif\" font-size=\"14.00\">3</text>\n",
       "</g>\n",
       "<!-- b3 -->\n",
       "<g id=\"node4\" class=\"node\">\n",
       "<title>b3</title>\n",
       "<polygon fill=\"none\" stroke=\"black\" points=\"393,-36 286,-36 286,0 393,0 393,-36\"/>\n",
       "<text text-anchor=\"start\" x=\"298\" y=\"-19.8\" font-family=\"Times,serif\" font-size=\"14.00\">BiQubitsMixer</text>\n",
       "<text text-anchor=\"start\" x=\"294\" y=\"-9\" font-family=\"monospace\" font-size=\"10.00\">is_adjoint=True</text>\n",
       "</g>\n",
       "<!-- b0&#45;&gt;b3 -->\n",
       "<g id=\"edge3\" class=\"edge\">\n",
       "<title>b0-&gt;b3</title>\n",
       "<path fill=\"none\" stroke=\"black\" d=\"M618.65,-86.97C561.5,-74.26 481.75,-56.08 403.29,-36.41\"/>\n",
       "<polygon fill=\"black\" stroke=\"black\" points=\"403.78,-32.92 393.23,-33.88 402.08,-39.71 403.78,-32.92\"/>\n",
       "<text text-anchor=\"middle\" x=\"543\" y=\"-57.8\" font-family=\"Times,serif\" font-size=\"14.00\">3</text>\n",
       "</g>\n",
       "<!-- b4 -->\n",
       "<g id=\"node5\" class=\"node\">\n",
       "<title>b4</title>\n",
       "<polygon fill=\"none\" stroke=\"black\" points=\"596,-36 411,-36 411,0 596,0 596,-36\"/>\n",
       "<text text-anchor=\"start\" x=\"488\" y=\"-19.8\" font-family=\"Times,serif\" font-size=\"14.00\">And†</text>\n",
       "<text text-anchor=\"start\" x=\"419\" y=\"-9\" font-family=\"monospace\" font-size=\"10.00\">cv1=1, cv2=0, uncompute=True</text>\n",
       "</g>\n",
       "<!-- b0&#45;&gt;b4 -->\n",
       "<g id=\"edge4\" class=\"edge\">\n",
       "<title>b0-&gt;b4</title>\n",
       "<path fill=\"none\" stroke=\"black\" d=\"M657.44,-86.8C626.87,-73.33 584.19,-54.54 551.53,-40.15\"/>\n",
       "<polygon fill=\"black\" stroke=\"black\" points=\"552.73,-36.86 542.17,-36.03 549.91,-43.26 552.73,-36.86\"/>\n",
       "<text text-anchor=\"middle\" x=\"616\" y=\"-57.8\" font-family=\"Times,serif\" font-size=\"14.00\">1</text>\n",
       "</g>\n",
       "<!-- b5 -->\n",
       "<g id=\"node6\" class=\"node\">\n",
       "<title>b5</title>\n",
       "<polygon fill=\"none\" stroke=\"black\" points=\"668.5,-36 614.5,-36 614.5,0 668.5,0 668.5,-36\"/>\n",
       "<text text-anchor=\"start\" x=\"623\" y=\"-14.3\" font-family=\"Times,serif\" font-size=\"14.00\">CNOT</text>\n",
       "</g>\n",
       "<!-- b0&#45;&gt;b5 -->\n",
       "<g id=\"edge5\" class=\"edge\">\n",
       "<title>b0-&gt;b5</title>\n",
       "<path fill=\"none\" stroke=\"black\" d=\"M685.37,-86.8C677.54,-74.7 666.93,-58.3 658.11,-44.67\"/>\n",
       "<polygon fill=\"black\" stroke=\"black\" points=\"660.98,-42.67 652.61,-36.18 655.11,-46.47 660.98,-42.67\"/>\n",
       "<text text-anchor=\"middle\" x=\"676\" y=\"-57.8\" font-family=\"Times,serif\" font-size=\"14.00\">2</text>\n",
       "</g>\n",
       "<!-- b6 -->\n",
       "<g id=\"node7\" class=\"node\">\n",
       "<title>b6</title>\n",
       "<polygon fill=\"none\" stroke=\"black\" points=\"818.5,-36 686.5,-36 686.5,0 818.5,0 818.5,-36\"/>\n",
       "<text text-anchor=\"start\" x=\"694.5\" y=\"-19.8\" font-family=\"Times,serif\" font-size=\"14.00\">SingleQubitCompare</text>\n",
       "<text text-anchor=\"start\" x=\"704\" y=\"-9\" font-family=\"monospace\" font-size=\"10.00\">is_adjoint=False</text>\n",
       "</g>\n",
       "<!-- b0&#45;&gt;b6 -->\n",
       "<g id=\"edge6\" class=\"edge\">\n",
       "<title>b0-&gt;b6</title>\n",
       "<path fill=\"none\" stroke=\"black\" d=\"M707.83,-86.8C715.8,-74.7 726.61,-58.3 735.59,-44.67\"/>\n",
       "<polygon fill=\"black\" stroke=\"black\" points=\"738.61,-46.45 741.18,-36.18 732.76,-42.6 738.61,-46.45\"/>\n",
       "<text text-anchor=\"middle\" x=\"732\" y=\"-57.8\" font-family=\"Times,serif\" font-size=\"14.00\">1</text>\n",
       "</g>\n",
       "<!-- b7 -->\n",
       "<g id=\"node8\" class=\"node\">\n",
       "<title>b7</title>\n",
       "<polygon fill=\"none\" stroke=\"black\" points=\"968.5,-36 836.5,-36 836.5,0 968.5,0 968.5,-36\"/>\n",
       "<text text-anchor=\"start\" x=\"844.5\" y=\"-19.8\" font-family=\"Times,serif\" font-size=\"14.00\">SingleQubitCompare</text>\n",
       "<text text-anchor=\"start\" x=\"857\" y=\"-9\" font-family=\"monospace\" font-size=\"10.00\">is_adjoint=True</text>\n",
       "</g>\n",
       "<!-- b0&#45;&gt;b7 -->\n",
       "<g id=\"edge7\" class=\"edge\">\n",
       "<title>b0-&gt;b7</title>\n",
       "<path fill=\"none\" stroke=\"black\" d=\"M738.19,-86.8C770.96,-73.27 816.76,-54.38 851.69,-39.97\"/>\n",
       "<polygon fill=\"black\" stroke=\"black\" points=\"853.32,-43.08 861.23,-36.03 850.65,-36.61 853.32,-43.08\"/>\n",
       "<text text-anchor=\"middle\" x=\"816\" y=\"-57.8\" font-family=\"Times,serif\" font-size=\"14.00\">1</text>\n",
       "</g>\n",
       "<!-- b8 -->\n",
       "<g id=\"node9\" class=\"node\">\n",
       "<title>b8</title>\n",
       "<polygon fill=\"none\" stroke=\"black\" points=\"1178,-36 987,-36 987,0 1178,0 1178,-36\"/>\n",
       "<text text-anchor=\"start\" x=\"1070.5\" y=\"-19.8\" font-family=\"Times,serif\" font-size=\"14.00\">And</text>\n",
       "<text text-anchor=\"start\" x=\"995\" y=\"-9\" font-family=\"monospace\" font-size=\"10.00\">cv1=1, cv2=0, uncompute=False</text>\n",
       "</g>\n",
       "<!-- b0&#45;&gt;b8 -->\n",
       "<g id=\"edge8\" class=\"edge\">\n",
       "<title>b0-&gt;b8</title>\n",
       "<path fill=\"none\" stroke=\"black\" d=\"M774.15,-86.9C838.02,-72.84 928.5,-52.91 994.94,-38.28\"/>\n",
       "<polygon fill=\"black\" stroke=\"black\" points=\"995.96,-41.64 1004.98,-36.07 994.46,-34.8 995.96,-41.64\"/>\n",
       "<text text-anchor=\"middle\" x=\"917\" y=\"-57.8\" font-family=\"Times,serif\" font-size=\"14.00\">1</text>\n",
       "</g>\n",
       "<!-- b9 -->\n",
       "<g id=\"node10\" class=\"node\">\n",
       "<title>b9</title>\n",
       "<polygon fill=\"none\" stroke=\"black\" points=\"1250.5,-36 1196.5,-36 1196.5,0 1250.5,0 1250.5,-36\"/>\n",
       "<text text-anchor=\"start\" x=\"1205.5\" y=\"-14.3\" font-family=\"Times,serif\" font-size=\"14.00\">XGate</text>\n",
       "</g>\n",
       "<!-- b0&#45;&gt;b9 -->\n",
       "<g id=\"edge9\" class=\"edge\">\n",
       "<title>b0-&gt;b9</title>\n",
       "<path fill=\"none\" stroke=\"black\" d=\"M777.36,-100.03C875.76,-93.55 1046.15,-77.01 1186.5,-36 1186.6,-35.97 1186.7,-35.94 1186.81,-35.91\"/>\n",
       "<polygon fill=\"black\" stroke=\"black\" points=\"1188.09,-39.17 1196.36,-32.55 1185.77,-32.56 1188.09,-39.17\"/>\n",
       "<text text-anchor=\"middle\" x=\"1112\" y=\"-57.8\" font-family=\"Times,serif\" font-size=\"14.00\">1</text>\n",
       "</g>\n",
       "<!-- b10 -->\n",
       "<g id=\"node11\" class=\"node\">\n",
       "<title>b10</title>\n",
       "<polygon fill=\"none\" stroke=\"black\" points=\"1382,-36 1269,-36 1269,0 1382,0 1382,-36\"/>\n",
       "<text text-anchor=\"start\" x=\"1298\" y=\"-19.8\" font-family=\"Times,serif\" font-size=\"14.00\">MultiAnd</text>\n",
       "<text text-anchor=\"start\" x=\"1277\" y=\"-9\" font-family=\"monospace\" font-size=\"10.00\">cvs=(0, 0, 0, 0)</text>\n",
       "</g>\n",
       "<!-- b0&#45;&gt;b10 -->\n",
       "<g id=\"edge10\" class=\"edge\">\n",
       "<title>b0-&gt;b10</title>\n",
       "<path fill=\"none\" stroke=\"black\" d=\"M777.23,-100.9C862.67,-96.78 1001.23,-87.73 1119.5,-69 1166.68,-61.53 1218.98,-48.78 1259.07,-38.03\"/>\n",
       "<polygon fill=\"black\" stroke=\"black\" points=\"1259.99,-41.4 1268.73,-35.41 1258.16,-34.65 1259.99,-41.4\"/>\n",
       "<text text-anchor=\"middle\" x=\"1198\" y=\"-57.8\" font-family=\"Times,serif\" font-size=\"14.00\">1</text>\n",
       "</g>\n",
       "</g>\n",
       "</svg>"
      ],
      "text/plain": [
       "<IPython.core.display.SVG object>"
      ]
     },
     "metadata": {},
     "output_type": "display_data"
    },
    {
     "data": {
      "text/markdown": [
       "#### Counts totals:\n",
       " - `Adjoint(subbloq=MultiAnd(n=4))`: 1\n",
       " - `And`: 1\n",
       " - `And†`: 1\n",
       " - `BiQubitsMixer`: 3\n",
       " - `BiQubitsMixer`: 3\n",
       " - `CNOT`: 2\n",
       " - `MultiAnd(n=4)`: 1\n",
       " - `SingleQubitCompare`: 1\n",
       " - `SingleQubitCompare`: 1\n",
       " - `XGate`: 1"
      ],
      "text/plain": [
       "<IPython.core.display.Markdown object>"
      ]
     },
     "metadata": {},
     "output_type": "display_data"
    }
   ],
   "source": [
    "from qualtran.resource_counting.generalizers import ignore_split_join\n",
    "leq_g, leq_sigma = leq.call_graph(max_depth=1, generalizer=ignore_split_join)\n",
    "show_call_graph(leq_g)\n",
    "show_counts_sigma(leq_sigma)"
   ]
  }
 ],
 "metadata": {
  "kernelspec": {
   "display_name": "Python 3 (ipykernel)",
   "language": "python",
   "name": "python3"
  },
  "language_info": {
   "codemirror_mode": {
    "name": "ipython",
    "version": 3
   },
   "file_extension": ".py",
   "mimetype": "text/x-python",
   "name": "python",
   "nbconvert_exporter": "python",
   "pygments_lexer": "ipython3",
   "version": "3.11.8"
  },
  "widgets": {
   "application/vnd.jupyter.widget-state+json": {
    "state": {
     "00dfe9282f234b378d9b22298b7fbf13": {
      "model_module": "@jupyter-widgets/output",
      "model_module_version": "1.0.0",
      "model_name": "OutputModel",
      "state": {
       "_dom_classes": [],
       "_model_module": "@jupyter-widgets/output",
       "_model_module_version": "1.0.0",
       "_model_name": "OutputModel",
       "_view_count": null,
       "_view_module": "@jupyter-widgets/output",
       "_view_module_version": "1.0.0",
       "_view_name": "OutputView",
       "layout": "IPY_MODEL_bbfb930087844bc1aea36a8b5a20bf29",
       "msg_id": "",
       "outputs": [
        {
         "data": {
          "text/markdown": "`leq_symb`",
          "text/plain": "<IPython.core.display.Markdown object>"
         },
         "metadata": {},
         "output_type": "display_data"
        },
        {
         "data": {
          "image/svg+xml": "<svg xmlns=\"http://www.w3.org/2000/svg\" xmlns:xlink=\"http://www.w3.org/1999/xlink\" width=\"260pt\" height=\"152pt\" viewBox=\"0.00 0.00 260.00 152.00\">\n<g id=\"graph0\" class=\"graph\" transform=\"scale(1 1) rotate(0) translate(4 148)\">\n<title>my_graph</title>\n<polygon fill=\"white\" stroke=\"transparent\" points=\"-4,4 -4,-148 256,-148 256,4 -4,4\"/>\n<!-- x_G3 -->\n<g id=\"node1\" class=\"node\">\n<title>x_G3</title>\n<text text-anchor=\"middle\" x=\"27\" y=\"-122.3\" font-family=\"Times,serif\" font-size=\"14.00\">x</text>\n</g>\n<!-- LessThanEqual -->\n<g id=\"node4\" class=\"node\">\n<title>LessThanEqual</title>\n<polygon fill=\"none\" stroke=\"black\" points=\"91,-104 91,-121 161,-121 161,-104 91,-104\"/>\n<text text-anchor=\"start\" x=\"94\" y=\"-110\" font-family=\"Times,serif\" font-size=\"10.00\">LessThanEqual</text>\n<polygon fill=\"none\" stroke=\"black\" points=\"91,-83 91,-104 161,-104 161,-83 91,-83\"/>\n<text text-anchor=\"start\" x=\"122.5\" y=\"-89.8\" font-family=\"Times,serif\" font-size=\"14.00\">x</text>\n<polygon fill=\"none\" stroke=\"black\" points=\"91,-62 91,-83 161,-83 161,-62 91,-62\"/>\n<text text-anchor=\"start\" x=\"122.5\" y=\"-68.8\" font-family=\"Times,serif\" font-size=\"14.00\">y</text>\n<polygon fill=\"none\" stroke=\"black\" points=\"91,-41 91,-62 161,-62 161,-41 91,-41\"/>\n<text text-anchor=\"start\" x=\"110.5\" y=\"-47.8\" font-family=\"Times,serif\" font-size=\"14.00\">target</text>\n</g>\n<!-- x_G3&#45;&gt;LessThanEqual -->\n<g id=\"edge1\" class=\"edge\">\n<title>x_G3:e-&gt;LessThanEqual:w</title>\n<path fill=\"none\" stroke=\"black\" d=\"M54,-126C74.89,-126 69.72,-96.45 88.58,-94.14\"/>\n<ellipse fill=\"black\" stroke=\"black\" cx=\"90\" cy=\"-94.06\" rx=\"1\" ry=\"1\"/>\n<text text-anchor=\"middle\" x=\"72.5\" y=\"-113\" font-family=\"Times,serif\" font-size=\"10.00\">n1</text>\n</g>\n<!-- y_G7 -->\n<g id=\"node2\" class=\"node\">\n<title>y_G7</title>\n<text text-anchor=\"middle\" x=\"27\" y=\"-68.3\" font-family=\"Times,serif\" font-size=\"14.00\">y</text>\n</g>\n<!-- y_G7&#45;&gt;LessThanEqual -->\n<g id=\"edge2\" class=\"edge\">\n<title>y_G7:e-&gt;LessThanEqual:w</title>\n<path fill=\"none\" stroke=\"black\" d=\"M54,-72C69.67,-72 74.14,-72 88.77,-72\"/>\n<ellipse fill=\"black\" stroke=\"black\" cx=\"90\" cy=\"-72\" rx=\"1\" ry=\"1\"/>\n<text text-anchor=\"middle\" x=\"72.5\" y=\"-75\" font-family=\"Times,serif\" font-size=\"10.00\">n2</text>\n</g>\n<!-- target_G8 -->\n<g id=\"node3\" class=\"node\">\n<title>target_G8</title>\n<text text-anchor=\"middle\" x=\"27\" y=\"-14.3\" font-family=\"Times,serif\" font-size=\"14.00\">target</text>\n</g>\n<!-- target_G8&#45;&gt;LessThanEqual -->\n<g id=\"edge3\" class=\"edge\">\n<title>target_G8:e-&gt;LessThanEqual:w</title>\n<path fill=\"none\" stroke=\"black\" d=\"M54,-18C75.17,-18 69.47,-48.47 88.55,-50.85\"/>\n<ellipse fill=\"black\" stroke=\"black\" cx=\"90\" cy=\"-50.94\" rx=\"1\" ry=\"1\"/>\n<text text-anchor=\"middle\" x=\"72.5\" y=\"-39\" font-family=\"Times,serif\" font-size=\"10.00\">1</text>\n</g>\n<!-- x_G6 -->\n<g id=\"node5\" class=\"node\">\n<title>x_G6</title>\n<text text-anchor=\"middle\" x=\"225\" y=\"-122.3\" font-family=\"Times,serif\" font-size=\"14.00\">x</text>\n</g>\n<!-- LessThanEqual&#45;&gt;x_G6 -->\n<g id=\"edge4\" class=\"edge\">\n<title>LessThanEqual:e-&gt;x_G6:w</title>\n<path fill=\"none\" stroke=\"black\" d=\"M161,-94C181.89,-94 176.72,-123.55 195.58,-125.86\"/>\n<ellipse fill=\"black\" stroke=\"black\" cx=\"197\" cy=\"-125.94\" rx=\"1\" ry=\"1\"/>\n<text text-anchor=\"middle\" x=\"179.5\" y=\"-113\" font-family=\"Times,serif\" font-size=\"10.00\">n1</text>\n</g>\n<!-- y_G0 -->\n<g id=\"node6\" class=\"node\">\n<title>y_G0</title>\n<text text-anchor=\"middle\" x=\"225\" y=\"-68.3\" font-family=\"Times,serif\" font-size=\"14.00\">y</text>\n</g>\n<!-- LessThanEqual&#45;&gt;y_G0 -->\n<g id=\"edge5\" class=\"edge\">\n<title>LessThanEqual:e-&gt;y_G0:w</title>\n<path fill=\"none\" stroke=\"black\" d=\"M161,-72C176.67,-72 181.14,-72 195.77,-72\"/>\n<ellipse fill=\"black\" stroke=\"black\" cx=\"197\" cy=\"-72\" rx=\"1\" ry=\"1\"/>\n<text text-anchor=\"middle\" x=\"179.5\" y=\"-75\" font-family=\"Times,serif\" font-size=\"10.00\">n2</text>\n</g>\n<!-- target_G1 -->\n<g id=\"node7\" class=\"node\">\n<title>target_G1</title>\n<text text-anchor=\"middle\" x=\"225\" y=\"-14.3\" font-family=\"Times,serif\" font-size=\"14.00\">target</text>\n</g>\n<!-- LessThanEqual&#45;&gt;target_G1 -->\n<g id=\"edge6\" class=\"edge\">\n<title>LessThanEqual:e-&gt;target_G1:w</title>\n<path fill=\"none\" stroke=\"black\" d=\"M161,-51C182.17,-51 176.47,-20.53 195.55,-18.15\"/>\n<ellipse fill=\"black\" stroke=\"black\" cx=\"197\" cy=\"-18.06\" rx=\"1\" ry=\"1\"/>\n<text text-anchor=\"middle\" x=\"179.5\" y=\"-39\" font-family=\"Times,serif\" font-size=\"10.00\">1</text>\n</g>\n</g>\n</svg>",
          "text/plain": "<IPython.core.display.SVG object>"
         },
         "metadata": {},
         "output_type": "display_data"
        }
       ],
       "tabbable": null,
       "tooltip": null
      }
     },
     "1541860fafa24fbcb5aec7c7cc6faf66": {
      "model_module": "@jupyter-widgets/controls",
      "model_module_version": "2.0.0",
      "model_name": "HBoxModel",
      "state": {
       "_dom_classes": [],
       "_model_module": "@jupyter-widgets/controls",
       "_model_module_version": "2.0.0",
       "_model_name": "HBoxModel",
       "_view_count": null,
       "_view_module": "@jupyter-widgets/controls",
       "_view_module_version": "2.0.0",
       "_view_name": "HBoxView",
       "box_style": "",
       "children": [
        "IPY_MODEL_a2787af44ac943aebc245449ade7860f",
        "IPY_MODEL_00dfe9282f234b378d9b22298b7fbf13"
       ],
       "layout": "IPY_MODEL_76efabb543f44dcab93e3a07ad75f821",
       "tabbable": null,
       "tooltip": null
      }
     },
     "26421fcda0bb4f969b438924366179f2": {
      "model_module": "@jupyter-widgets/output",
      "model_module_version": "1.0.0",
      "model_name": "OutputModel",
      "state": {
       "_dom_classes": [],
       "_model_module": "@jupyter-widgets/output",
       "_model_module_version": "1.0.0",
       "_model_name": "OutputModel",
       "_view_count": null,
       "_view_module": "@jupyter-widgets/output",
       "_view_module_version": "1.0.0",
       "_view_name": "OutputView",
       "layout": "IPY_MODEL_8b2b88fbe797413eaeefef5c1218480e",
       "msg_id": "",
       "outputs": [
        {
         "data": {
          "text/markdown": "`sq_cmp`",
          "text/plain": "<IPython.core.display.Markdown object>"
         },
         "metadata": {},
         "output_type": "display_data"
        },
        {
         "data": {
          "image/svg+xml": "<svg xmlns=\"http://www.w3.org/2000/svg\" xmlns:xlink=\"http://www.w3.org/1999/xlink\" width=\"314pt\" height=\"206pt\" viewBox=\"0.00 0.00 314.00 206.00\">\n<g id=\"graph0\" class=\"graph\" transform=\"scale(1 1) rotate(0) translate(4 202)\">\n<title>my_graph</title>\n<polygon fill=\"white\" stroke=\"transparent\" points=\"-4,4 -4,-202 310,-202 310,4 -4,4\"/>\n<!-- a_G8 -->\n<g id=\"node1\" class=\"node\">\n<title>a_G8</title>\n<text text-anchor=\"middle\" x=\"27\" y=\"-143.3\" font-family=\"Times,serif\" font-size=\"14.00\">a</text>\n</g>\n<!-- SingleQubitCompare -->\n<g id=\"node3\" class=\"node\">\n<title>SingleQubitCompare</title>\n<polygon fill=\"none\" stroke=\"black\" points=\"91,-141 91,-158 185,-158 185,-141 91,-141\"/>\n<text text-anchor=\"start\" x=\"94\" y=\"-147\" font-family=\"Times,serif\" font-size=\"10.00\">SingleQubitCompare</text>\n<polygon fill=\"none\" stroke=\"black\" points=\"91,-120 91,-141 185,-141 185,-120 91,-120\"/>\n<text text-anchor=\"start\" x=\"134.5\" y=\"-126.8\" font-family=\"Times,serif\" font-size=\"14.00\">a</text>\n<polygon fill=\"none\" stroke=\"black\" points=\"91,-99 91,-120 185,-120 185,-99 91,-99\"/>\n<text text-anchor=\"start\" x=\"134.5\" y=\"-105.8\" font-family=\"Times,serif\" font-size=\"14.00\">b</text>\n<polygon fill=\"none\" stroke=\"black\" points=\"91,-78 91,-99 104,-99 104,-78 91,-78\"/>\n<polygon fill=\"none\" stroke=\"black\" points=\"104,-78 104,-99 185,-99 185,-78 104,-78\"/>\n<text text-anchor=\"start\" x=\"119\" y=\"-84.8\" font-family=\"Times,serif\" font-size=\"14.00\">less_than</text>\n<polygon fill=\"none\" stroke=\"black\" points=\"91,-57 91,-78 104,-78 104,-57 91,-57\"/>\n<polygon fill=\"none\" stroke=\"black\" points=\"104,-57 104,-78 185,-78 185,-57 104,-57\"/>\n<text text-anchor=\"start\" x=\"110.5\" y=\"-63.8\" font-family=\"Times,serif\" font-size=\"14.00\">greater_than</text>\n</g>\n<!-- a_G8&#45;&gt;SingleQubitCompare -->\n<g id=\"edge1\" class=\"edge\">\n<title>a_G8:e-&gt;SingleQubitCompare:w</title>\n<path fill=\"none\" stroke=\"black\" d=\"M54,-147C71.22,-147 72.97,-132.23 88.98,-131.07\"/>\n<ellipse fill=\"black\" stroke=\"black\" cx=\"90\" cy=\"-131.04\" rx=\"1\" ry=\"1\"/>\n<text text-anchor=\"middle\" x=\"72.5\" y=\"-142\" font-family=\"Times,serif\" font-size=\"10.00\">1</text>\n</g>\n<!-- b_G2 -->\n<g id=\"node2\" class=\"node\">\n<title>b_G2</title>\n<text text-anchor=\"middle\" x=\"27\" y=\"-89.3\" font-family=\"Times,serif\" font-size=\"14.00\">b</text>\n</g>\n<!-- b_G2&#45;&gt;SingleQubitCompare -->\n<g id=\"edge2\" class=\"edge\">\n<title>b_G2:e-&gt;SingleQubitCompare:w</title>\n<path fill=\"none\" stroke=\"black\" d=\"M54,-93C71.39,-93 72.81,-108.7 88.96,-109.92\"/>\n<ellipse fill=\"black\" stroke=\"black\" cx=\"90\" cy=\"-109.96\" rx=\"1\" ry=\"1\"/>\n<text text-anchor=\"middle\" x=\"72.5\" y=\"-104\" font-family=\"Times,serif\" font-size=\"10.00\">1</text>\n</g>\n<!-- a_G4 -->\n<g id=\"node4\" class=\"node\">\n<title>a_G4</title>\n<text text-anchor=\"middle\" x=\"264\" y=\"-176.3\" font-family=\"Times,serif\" font-size=\"14.00\">a</text>\n</g>\n<!-- SingleQubitCompare&#45;&gt;a_G4 -->\n<g id=\"edge3\" class=\"edge\">\n<title>SingleQubitCompare:e-&gt;a_G4:w</title>\n<path fill=\"none\" stroke=\"black\" d=\"M185,-131C215.7,-131 205.1,-177.73 233.86,-179.92\"/>\n<ellipse fill=\"black\" stroke=\"black\" cx=\"235\" cy=\"-179.96\" rx=\"1\" ry=\"1\"/>\n<text text-anchor=\"middle\" x=\"203.5\" y=\"-144\" font-family=\"Times,serif\" font-size=\"10.00\">1</text>\n</g>\n<!-- b_G5 -->\n<g id=\"node5\" class=\"node\">\n<title>b_G5</title>\n<text text-anchor=\"middle\" x=\"264\" y=\"-122.3\" font-family=\"Times,serif\" font-size=\"14.00\">b</text>\n</g>\n<!-- SingleQubitCompare&#45;&gt;b_G5 -->\n<g id=\"edge4\" class=\"edge\">\n<title>SingleQubitCompare:e-&gt;b_G5:w</title>\n<path fill=\"none\" stroke=\"black\" d=\"M185,-110C208.01,-110 212.01,-125.02 233.83,-125.95\"/>\n<ellipse fill=\"black\" stroke=\"black\" cx=\"235\" cy=\"-125.98\" rx=\"1\" ry=\"1\"/>\n<text text-anchor=\"middle\" x=\"203.5\" y=\"-117\" font-family=\"Times,serif\" font-size=\"10.00\">1</text>\n</g>\n<!-- less_than_G3 -->\n<g id=\"node6\" class=\"node\">\n<title>less_than_G3</title>\n<text text-anchor=\"middle\" x=\"264\" y=\"-68.3\" font-family=\"Times,serif\" font-size=\"14.00\">less_than</text>\n</g>\n<!-- SingleQubitCompare&#45;&gt;less_than_G3 -->\n<g id=\"edge5\" class=\"edge\">\n<title>SingleQubitCompare:e-&gt;less_than_G3:w</title>\n<path fill=\"none\" stroke=\"black\" d=\"M185,-88C205,-88 207.98,-73.23 226.64,-72.07\"/>\n<ellipse fill=\"black\" stroke=\"black\" cx=\"228\" cy=\"-72.03\" rx=\"1\" ry=\"1\"/>\n<text text-anchor=\"middle\" x=\"203.5\" y=\"-85\" font-family=\"Times,serif\" font-size=\"10.00\">1</text>\n</g>\n<!-- greater_than_G0 -->\n<g id=\"node7\" class=\"node\">\n<title>greater_than_G0</title>\n<text text-anchor=\"middle\" x=\"264\" y=\"-14.3\" font-family=\"Times,serif\" font-size=\"14.00\">greater_than</text>\n</g>\n<!-- SingleQubitCompare&#45;&gt;greater_than_G0 -->\n<g id=\"edge6\" class=\"edge\">\n<title>SingleQubitCompare:e-&gt;greater_than_G0:w</title>\n<path fill=\"none\" stroke=\"black\" d=\"M185,-67C211.54,-67 195.64,-20.64 219.86,-18.11\"/>\n<ellipse fill=\"black\" stroke=\"black\" cx=\"221\" cy=\"-18.05\" rx=\"1\" ry=\"1\"/>\n<text text-anchor=\"middle\" x=\"203.5\" y=\"-47\" font-family=\"Times,serif\" font-size=\"10.00\">1</text>\n</g>\n</g>\n</svg>",
          "text/plain": "<IPython.core.display.SVG object>"
         },
         "metadata": {},
         "output_type": "display_data"
        }
       ],
       "tabbable": null,
       "tooltip": null
      }
     },
     "2a8a71cdda794c1784cd2713fa5fec75": {
      "model_module": "@jupyter-widgets/output",
      "model_module_version": "1.0.0",
      "model_name": "OutputModel",
      "state": {
       "_dom_classes": [],
       "_model_module": "@jupyter-widgets/output",
       "_model_module_version": "1.0.0",
       "_model_name": "OutputModel",
       "_view_count": null,
       "_view_module": "@jupyter-widgets/output",
       "_view_module_version": "1.0.0",
       "_view_name": "OutputView",
       "layout": "IPY_MODEL_7dadbb9714cc43769f7058f80b39a321",
       "msg_id": "",
       "outputs": [
        {
         "data": {
          "text/markdown": "`lt_k`",
          "text/plain": "<IPython.core.display.Markdown object>"
         },
         "metadata": {},
         "output_type": "display_data"
        },
        {
         "data": {
          "image/svg+xml": "<svg xmlns=\"http://www.w3.org/2000/svg\" xmlns:xlink=\"http://www.w3.org/1999/xlink\" width=\"272pt\" height=\"98pt\" viewBox=\"0.00 0.00 272.00 98.00\">\n<g id=\"graph0\" class=\"graph\" transform=\"scale(1 1) rotate(0) translate(4 94)\">\n<title>my_graph</title>\n<polygon fill=\"white\" stroke=\"transparent\" points=\"-4,4 -4,-94 268,-94 268,4 -4,4\"/>\n<!-- x_G2 -->\n<g id=\"node1\" class=\"node\">\n<title>x_G2</title>\n<text text-anchor=\"middle\" x=\"27\" y=\"-68.3\" font-family=\"Times,serif\" font-size=\"14.00\">x</text>\n</g>\n<!-- LessThanConstant -->\n<g id=\"node3\" class=\"node\">\n<title>LessThanConstant</title>\n<polygon fill=\"none\" stroke=\"black\" points=\"91,-66 91,-83 173,-83 173,-66 91,-66\"/>\n<text text-anchor=\"start\" x=\"94\" y=\"-72\" font-family=\"Times,serif\" font-size=\"10.00\">LessThanConstant</text>\n<polygon fill=\"none\" stroke=\"black\" points=\"91,-45 91,-66 173,-66 173,-45 91,-45\"/>\n<text text-anchor=\"start\" x=\"128.5\" y=\"-51.8\" font-family=\"Times,serif\" font-size=\"14.00\">x</text>\n<polygon fill=\"none\" stroke=\"black\" points=\"91,-24 91,-45 173,-45 173,-24 91,-24\"/>\n<text text-anchor=\"start\" x=\"116.5\" y=\"-30.8\" font-family=\"Times,serif\" font-size=\"14.00\">target</text>\n</g>\n<!-- x_G2&#45;&gt;LessThanConstant -->\n<g id=\"edge1\" class=\"edge\">\n<title>x_G2:e-&gt;LessThanConstant:w</title>\n<path fill=\"none\" stroke=\"black\" d=\"M54,-72C71.22,-72 72.97,-57.23 88.98,-56.07\"/>\n<ellipse fill=\"black\" stroke=\"black\" cx=\"90\" cy=\"-56.04\" rx=\"1\" ry=\"1\"/>\n<text text-anchor=\"middle\" x=\"72.5\" y=\"-67\" font-family=\"Times,serif\" font-size=\"10.00\">8</text>\n</g>\n<!-- target_G4 -->\n<g id=\"node2\" class=\"node\">\n<title>target_G4</title>\n<text text-anchor=\"middle\" x=\"27\" y=\"-14.3\" font-family=\"Times,serif\" font-size=\"14.00\">target</text>\n</g>\n<!-- target_G4&#45;&gt;LessThanConstant -->\n<g id=\"edge2\" class=\"edge\">\n<title>target_G4:e-&gt;LessThanConstant:w</title>\n<path fill=\"none\" stroke=\"black\" d=\"M54,-18C71.22,-18 72.97,-32.77 88.98,-33.93\"/>\n<ellipse fill=\"black\" stroke=\"black\" cx=\"90\" cy=\"-33.96\" rx=\"1\" ry=\"1\"/>\n<text text-anchor=\"middle\" x=\"72.5\" y=\"-29\" font-family=\"Times,serif\" font-size=\"10.00\">1</text>\n</g>\n<!-- x_G1 -->\n<g id=\"node4\" class=\"node\">\n<title>x_G1</title>\n<text text-anchor=\"middle\" x=\"237\" y=\"-68.3\" font-family=\"Times,serif\" font-size=\"14.00\">x</text>\n</g>\n<!-- LessThanConstant&#45;&gt;x_G1 -->\n<g id=\"edge3\" class=\"edge\">\n<title>LessThanConstant:e-&gt;x_G1:w</title>\n<path fill=\"none\" stroke=\"black\" d=\"M173,-56C190.22,-56 191.97,-70.77 207.98,-71.93\"/>\n<ellipse fill=\"black\" stroke=\"black\" cx=\"209\" cy=\"-71.96\" rx=\"1\" ry=\"1\"/>\n<text text-anchor=\"middle\" x=\"191.5\" y=\"-67\" font-family=\"Times,serif\" font-size=\"10.00\">8</text>\n</g>\n<!-- target_G0 -->\n<g id=\"node5\" class=\"node\">\n<title>target_G0</title>\n<text text-anchor=\"middle\" x=\"237\" y=\"-14.3\" font-family=\"Times,serif\" font-size=\"14.00\">target</text>\n</g>\n<!-- LessThanConstant&#45;&gt;target_G0 -->\n<g id=\"edge4\" class=\"edge\">\n<title>LessThanConstant:e-&gt;target_G0:w</title>\n<path fill=\"none\" stroke=\"black\" d=\"M173,-34C190.22,-34 191.97,-19.23 207.98,-18.07\"/>\n<ellipse fill=\"black\" stroke=\"black\" cx=\"209\" cy=\"-18.04\" rx=\"1\" ry=\"1\"/>\n<text text-anchor=\"middle\" x=\"191.5\" y=\"-29\" font-family=\"Times,serif\" font-size=\"10.00\">1</text>\n</g>\n</g>\n</svg>",
          "text/plain": "<IPython.core.display.SVG object>"
         },
         "metadata": {},
         "output_type": "display_data"
        }
       ],
       "tabbable": null,
       "tooltip": null
      }
     },
     "41a9d224407742e98f7eddb1e2ca7075": {
      "model_module": "@jupyter-widgets/base",
      "model_module_version": "2.0.0",
      "model_name": "LayoutModel",
      "state": {
       "_model_module": "@jupyter-widgets/base",
       "_model_module_version": "2.0.0",
       "_model_name": "LayoutModel",
       "_view_count": null,
       "_view_module": "@jupyter-widgets/base",
       "_view_module_version": "2.0.0",
       "_view_name": "LayoutView",
       "align_content": null,
       "align_items": null,
       "align_self": null,
       "border_bottom": null,
       "border_left": null,
       "border_right": null,
       "border_top": null,
       "bottom": null,
       "display": null,
       "flex": null,
       "flex_flow": null,
       "grid_area": null,
       "grid_auto_columns": null,
       "grid_auto_flow": null,
       "grid_auto_rows": null,
       "grid_column": null,
       "grid_gap": null,
       "grid_row": null,
       "grid_template_areas": null,
       "grid_template_columns": null,
       "grid_template_rows": null,
       "height": null,
       "justify_content": null,
       "justify_items": null,
       "left": null,
       "margin": null,
       "max_height": null,
       "max_width": null,
       "min_height": null,
       "min_width": null,
       "object_fit": null,
       "object_position": null,
       "order": null,
       "overflow": null,
       "padding": null,
       "right": null,
       "top": null,
       "visibility": null,
       "width": null
      }
     },
     "45e246f16316419c8670b3f7a20bc9d4": {
      "model_module": "@jupyter-widgets/output",
      "model_module_version": "1.0.0",
      "model_name": "OutputModel",
      "state": {
       "_dom_classes": [],
       "_model_module": "@jupyter-widgets/output",
       "_model_module_version": "1.0.0",
       "_model_name": "OutputModel",
       "_view_count": null,
       "_view_module": "@jupyter-widgets/output",
       "_view_module_version": "1.0.0",
       "_view_name": "OutputView",
       "layout": "IPY_MODEL_47fdd4901b124170b038185edcbd8371",
       "msg_id": "",
       "outputs": [
        {
         "data": {
          "text/markdown": "`lt_k_symb`",
          "text/plain": "<IPython.core.display.Markdown object>"
         },
         "metadata": {},
         "output_type": "display_data"
        },
        {
         "data": {
          "image/svg+xml": "<svg xmlns=\"http://www.w3.org/2000/svg\" xmlns:xlink=\"http://www.w3.org/1999/xlink\" width=\"272pt\" height=\"98pt\" viewBox=\"0.00 0.00 272.00 98.00\">\n<g id=\"graph0\" class=\"graph\" transform=\"scale(1 1) rotate(0) translate(4 94)\">\n<title>my_graph</title>\n<polygon fill=\"white\" stroke=\"transparent\" points=\"-4,4 -4,-94 268,-94 268,4 -4,4\"/>\n<!-- x_G3 -->\n<g id=\"node1\" class=\"node\">\n<title>x_G3</title>\n<text text-anchor=\"middle\" x=\"27\" y=\"-68.3\" font-family=\"Times,serif\" font-size=\"14.00\">x</text>\n</g>\n<!-- LessThanConstant -->\n<g id=\"node3\" class=\"node\">\n<title>LessThanConstant</title>\n<polygon fill=\"none\" stroke=\"black\" points=\"91,-66 91,-83 173,-83 173,-66 91,-66\"/>\n<text text-anchor=\"start\" x=\"94\" y=\"-72\" font-family=\"Times,serif\" font-size=\"10.00\">LessThanConstant</text>\n<polygon fill=\"none\" stroke=\"black\" points=\"91,-45 91,-66 173,-66 173,-45 91,-45\"/>\n<text text-anchor=\"start\" x=\"128.5\" y=\"-51.8\" font-family=\"Times,serif\" font-size=\"14.00\">x</text>\n<polygon fill=\"none\" stroke=\"black\" points=\"91,-24 91,-45 173,-45 173,-24 91,-24\"/>\n<text text-anchor=\"start\" x=\"116.5\" y=\"-30.8\" font-family=\"Times,serif\" font-size=\"14.00\">target</text>\n</g>\n<!-- x_G3&#45;&gt;LessThanConstant -->\n<g id=\"edge1\" class=\"edge\">\n<title>x_G3:e-&gt;LessThanConstant:w</title>\n<path fill=\"none\" stroke=\"black\" d=\"M54,-72C71.22,-72 72.97,-57.23 88.98,-56.07\"/>\n<ellipse fill=\"black\" stroke=\"black\" cx=\"90\" cy=\"-56.04\" rx=\"1\" ry=\"1\"/>\n<text text-anchor=\"middle\" x=\"72.5\" y=\"-67\" font-family=\"Times,serif\" font-size=\"10.00\">n</text>\n</g>\n<!-- target_G4 -->\n<g id=\"node2\" class=\"node\">\n<title>target_G4</title>\n<text text-anchor=\"middle\" x=\"27\" y=\"-14.3\" font-family=\"Times,serif\" font-size=\"14.00\">target</text>\n</g>\n<!-- target_G4&#45;&gt;LessThanConstant -->\n<g id=\"edge2\" class=\"edge\">\n<title>target_G4:e-&gt;LessThanConstant:w</title>\n<path fill=\"none\" stroke=\"black\" d=\"M54,-18C71.22,-18 72.97,-32.77 88.98,-33.93\"/>\n<ellipse fill=\"black\" stroke=\"black\" cx=\"90\" cy=\"-33.96\" rx=\"1\" ry=\"1\"/>\n<text text-anchor=\"middle\" x=\"72.5\" y=\"-29\" font-family=\"Times,serif\" font-size=\"10.00\">1</text>\n</g>\n<!-- x_G0 -->\n<g id=\"node4\" class=\"node\">\n<title>x_G0</title>\n<text text-anchor=\"middle\" x=\"237\" y=\"-68.3\" font-family=\"Times,serif\" font-size=\"14.00\">x</text>\n</g>\n<!-- LessThanConstant&#45;&gt;x_G0 -->\n<g id=\"edge3\" class=\"edge\">\n<title>LessThanConstant:e-&gt;x_G0:w</title>\n<path fill=\"none\" stroke=\"black\" d=\"M173,-56C190.22,-56 191.97,-70.77 207.98,-71.93\"/>\n<ellipse fill=\"black\" stroke=\"black\" cx=\"209\" cy=\"-71.96\" rx=\"1\" ry=\"1\"/>\n<text text-anchor=\"middle\" x=\"191.5\" y=\"-67\" font-family=\"Times,serif\" font-size=\"10.00\">n</text>\n</g>\n<!-- target_G2 -->\n<g id=\"node5\" class=\"node\">\n<title>target_G2</title>\n<text text-anchor=\"middle\" x=\"237\" y=\"-14.3\" font-family=\"Times,serif\" font-size=\"14.00\">target</text>\n</g>\n<!-- LessThanConstant&#45;&gt;target_G2 -->\n<g id=\"edge4\" class=\"edge\">\n<title>LessThanConstant:e-&gt;target_G2:w</title>\n<path fill=\"none\" stroke=\"black\" d=\"M173,-34C190.22,-34 191.97,-19.23 207.98,-18.07\"/>\n<ellipse fill=\"black\" stroke=\"black\" cx=\"209\" cy=\"-18.04\" rx=\"1\" ry=\"1\"/>\n<text text-anchor=\"middle\" x=\"191.5\" y=\"-29\" font-family=\"Times,serif\" font-size=\"10.00\">1</text>\n</g>\n</g>\n</svg>",
          "text/plain": "<IPython.core.display.SVG object>"
         },
         "metadata": {},
         "output_type": "display_data"
        }
       ],
       "tabbable": null,
       "tooltip": null
      }
     },
     "47fdd4901b124170b038185edcbd8371": {
      "model_module": "@jupyter-widgets/base",
      "model_module_version": "2.0.0",
      "model_name": "LayoutModel",
      "state": {
       "_model_module": "@jupyter-widgets/base",
       "_model_module_version": "2.0.0",
       "_model_name": "LayoutModel",
       "_view_count": null,
       "_view_module": "@jupyter-widgets/base",
       "_view_module_version": "2.0.0",
       "_view_name": "LayoutView",
       "align_content": null,
       "align_items": null,
       "align_self": null,
       "border_bottom": null,
       "border_left": null,
       "border_right": null,
       "border_top": null,
       "bottom": null,
       "display": null,
       "flex": null,
       "flex_flow": null,
       "grid_area": null,
       "grid_auto_columns": null,
       "grid_auto_flow": null,
       "grid_auto_rows": null,
       "grid_column": null,
       "grid_gap": null,
       "grid_row": null,
       "grid_template_areas": null,
       "grid_template_columns": null,
       "grid_template_rows": null,
       "height": null,
       "justify_content": null,
       "justify_items": null,
       "left": null,
       "margin": null,
       "max_height": null,
       "max_width": null,
       "min_height": null,
       "min_width": null,
       "object_fit": null,
       "object_position": null,
       "order": null,
       "overflow": null,
       "padding": null,
       "right": null,
       "top": null,
       "visibility": null,
       "width": null
      }
     },
     "4a8ffbe2391c4d4498f1a1fe09ef633c": {
      "model_module": "@jupyter-widgets/controls",
      "model_module_version": "2.0.0",
      "model_name": "HBoxModel",
      "state": {
       "_dom_classes": [],
       "_model_module": "@jupyter-widgets/controls",
       "_model_module_version": "2.0.0",
       "_model_name": "HBoxModel",
       "_view_count": null,
       "_view_module": "@jupyter-widgets/controls",
       "_view_module_version": "2.0.0",
       "_view_name": "HBoxView",
       "box_style": "",
       "children": [
        "IPY_MODEL_991d28b57ce4429f80230ddc96dc4900"
       ],
       "layout": "IPY_MODEL_b9d4f4ef6f15443a9f9b937e0084bf77",
       "tabbable": null,
       "tooltip": null
      }
     },
     "4f9e9189a3004a0cac98bf179f42484f": {
      "model_module": "@jupyter-widgets/base",
      "model_module_version": "2.0.0",
      "model_name": "LayoutModel",
      "state": {
       "_model_module": "@jupyter-widgets/base",
       "_model_module_version": "2.0.0",
       "_model_name": "LayoutModel",
       "_view_count": null,
       "_view_module": "@jupyter-widgets/base",
       "_view_module_version": "2.0.0",
       "_view_name": "LayoutView",
       "align_content": null,
       "align_items": null,
       "align_self": null,
       "border_bottom": null,
       "border_left": null,
       "border_right": null,
       "border_top": null,
       "bottom": null,
       "display": null,
       "flex": null,
       "flex_flow": null,
       "grid_area": null,
       "grid_auto_columns": null,
       "grid_auto_flow": null,
       "grid_auto_rows": null,
       "grid_column": null,
       "grid_gap": null,
       "grid_row": null,
       "grid_template_areas": null,
       "grid_template_columns": null,
       "grid_template_rows": null,
       "height": null,
       "justify_content": null,
       "justify_items": null,
       "left": null,
       "margin": null,
       "max_height": null,
       "max_width": null,
       "min_height": null,
       "min_width": null,
       "object_fit": null,
       "object_position": null,
       "order": null,
       "overflow": null,
       "padding": null,
       "right": null,
       "top": null,
       "visibility": null,
       "width": null
      }
     },
     "505beace17a1419daacd98858e01d871": {
      "model_module": "@jupyter-widgets/output",
      "model_module_version": "1.0.0",
      "model_name": "OutputModel",
      "state": {
       "_dom_classes": [],
       "_model_module": "@jupyter-widgets/output",
       "_model_module_version": "1.0.0",
       "_model_name": "OutputModel",
       "_view_count": null,
       "_view_module": "@jupyter-widgets/output",
       "_view_module_version": "1.0.0",
       "_view_name": "OutputView",
       "layout": "IPY_MODEL_7f442c567fbc4023976a21a034649c77",
       "msg_id": "",
       "outputs": [
        {
         "data": {
          "text/markdown": "`bi_qubits_mixer`",
          "text/plain": "<IPython.core.display.Markdown object>"
         },
         "metadata": {},
         "output_type": "display_data"
        },
        {
         "data": {
          "image/svg+xml": "<svg xmlns=\"http://www.w3.org/2000/svg\" xmlns:xlink=\"http://www.w3.org/1999/xlink\" width=\"259pt\" height=\"152pt\" viewBox=\"0.00 0.00 259.00 152.00\">\n<g id=\"graph0\" class=\"graph\" transform=\"scale(1 1) rotate(0) translate(4 148)\">\n<title>my_graph</title>\n<polygon fill=\"white\" stroke=\"transparent\" points=\"-4,4 -4,-148 255,-148 255,4 -4,4\"/>\n<!-- x_G6 -->\n<g id=\"node1\" class=\"node\">\n<title>x_G6</title>\n<text text-anchor=\"middle\" x=\"27\" y=\"-106.3\" font-family=\"Times,serif\" font-size=\"14.00\">x</text>\n</g>\n<!-- BiQubitsMixer -->\n<g id=\"node3\" class=\"node\">\n<title>BiQubitsMixer</title>\n<polygon fill=\"none\" stroke=\"black\" points=\"91.5,-104 91.5,-121 160.5,-121 160.5,-104 91.5,-104\"/>\n<text text-anchor=\"start\" x=\"94.5\" y=\"-110\" font-family=\"Times,serif\" font-size=\"10.00\">BiQubitsMixer</text>\n<polygon fill=\"none\" stroke=\"black\" points=\"91.5,-83 91.5,-104 160.5,-104 160.5,-83 91.5,-83\"/>\n<text text-anchor=\"start\" x=\"122.5\" y=\"-89.8\" font-family=\"Times,serif\" font-size=\"14.00\">x</text>\n<polygon fill=\"none\" stroke=\"black\" points=\"91.5,-62 91.5,-83 160.5,-83 160.5,-62 91.5,-62\"/>\n<text text-anchor=\"start\" x=\"122.5\" y=\"-68.8\" font-family=\"Times,serif\" font-size=\"14.00\">y</text>\n<polygon fill=\"none\" stroke=\"black\" points=\"91.5,-41 91.5,-62 107.5,-62 107.5,-41 91.5,-41\"/>\n<polygon fill=\"none\" stroke=\"black\" points=\"107.5,-41 107.5,-62 160.5,-62 160.5,-41 107.5,-41\"/>\n<text text-anchor=\"start\" x=\"115.5\" y=\"-47.8\" font-family=\"Times,serif\" font-size=\"14.00\">ancilla</text>\n</g>\n<!-- x_G6&#45;&gt;BiQubitsMixer -->\n<g id=\"edge1\" class=\"edge\">\n<title>x_G6:e-&gt;BiQubitsMixer:w</title>\n<path fill=\"none\" stroke=\"black\" d=\"M54,-110C71.22,-110 72.97,-95.23 88.98,-94.07\"/>\n<ellipse fill=\"black\" stroke=\"black\" cx=\"90\" cy=\"-94.04\" rx=\"1\" ry=\"1\"/>\n<text text-anchor=\"middle\" x=\"72.5\" y=\"-105\" font-family=\"Times,serif\" font-size=\"10.00\">2</text>\n</g>\n<!-- y_G4 -->\n<g id=\"node2\" class=\"node\">\n<title>y_G4</title>\n<text text-anchor=\"middle\" x=\"27\" y=\"-52.3\" font-family=\"Times,serif\" font-size=\"14.00\">y</text>\n</g>\n<!-- y_G4&#45;&gt;BiQubitsMixer -->\n<g id=\"edge2\" class=\"edge\">\n<title>y_G4:e-&gt;BiQubitsMixer:w</title>\n<path fill=\"none\" stroke=\"black\" d=\"M54,-56C71.22,-56 72.97,-70.77 88.98,-71.93\"/>\n<ellipse fill=\"black\" stroke=\"black\" cx=\"90\" cy=\"-71.96\" rx=\"1\" ry=\"1\"/>\n<text text-anchor=\"middle\" x=\"72.5\" y=\"-68\" font-family=\"Times,serif\" font-size=\"10.00\">2</text>\n</g>\n<!-- x_G3 -->\n<g id=\"node4\" class=\"node\">\n<title>x_G3</title>\n<text text-anchor=\"middle\" x=\"224\" y=\"-122.3\" font-family=\"Times,serif\" font-size=\"14.00\">x</text>\n</g>\n<!-- BiQubitsMixer&#45;&gt;x_G3 -->\n<g id=\"edge3\" class=\"edge\">\n<title>BiQubitsMixer:e-&gt;x_G3:w</title>\n<path fill=\"none\" stroke=\"black\" d=\"M160,-94C180.89,-94 175.72,-123.55 194.58,-125.86\"/>\n<ellipse fill=\"black\" stroke=\"black\" cx=\"196\" cy=\"-125.94\" rx=\"1\" ry=\"1\"/>\n<text text-anchor=\"middle\" x=\"178.5\" y=\"-113\" font-family=\"Times,serif\" font-size=\"10.00\">2</text>\n</g>\n<!-- y_G0 -->\n<g id=\"node5\" class=\"node\">\n<title>y_G0</title>\n<text text-anchor=\"middle\" x=\"224\" y=\"-68.3\" font-family=\"Times,serif\" font-size=\"14.00\">y</text>\n</g>\n<!-- BiQubitsMixer&#45;&gt;y_G0 -->\n<g id=\"edge4\" class=\"edge\">\n<title>BiQubitsMixer:e-&gt;y_G0:w</title>\n<path fill=\"none\" stroke=\"black\" d=\"M160,-72C175.67,-72 180.14,-72 194.77,-72\"/>\n<ellipse fill=\"black\" stroke=\"black\" cx=\"196\" cy=\"-72\" rx=\"1\" ry=\"1\"/>\n<text text-anchor=\"middle\" x=\"178.5\" y=\"-75\" font-family=\"Times,serif\" font-size=\"10.00\">2</text>\n</g>\n<!-- ancilla_G7 -->\n<g id=\"node6\" class=\"node\">\n<title>ancilla_G7</title>\n<text text-anchor=\"middle\" x=\"224\" y=\"-14.3\" font-family=\"Times,serif\" font-size=\"14.00\">ancilla</text>\n</g>\n<!-- BiQubitsMixer&#45;&gt;ancilla_G7 -->\n<g id=\"edge5\" class=\"edge\">\n<title>BiQubitsMixer:e-&gt;ancilla_G7:w</title>\n<path fill=\"none\" stroke=\"black\" d=\"M160,-51C181.17,-51 175.47,-20.53 194.55,-18.15\"/>\n<ellipse fill=\"black\" stroke=\"black\" cx=\"196\" cy=\"-18.06\" rx=\"1\" ry=\"1\"/>\n<text text-anchor=\"middle\" x=\"178.5\" y=\"-39\" font-family=\"Times,serif\" font-size=\"10.00\">3</text>\n</g>\n</g>\n</svg>",
          "text/plain": "<IPython.core.display.SVG object>"
         },
         "metadata": {},
         "output_type": "display_data"
        }
       ],
       "tabbable": null,
       "tooltip": null
      }
     },
     "5bbb632dd4994926a1e8cffb73f884d0": {
      "model_module": "@jupyter-widgets/base",
      "model_module_version": "2.0.0",
      "model_name": "LayoutModel",
      "state": {
       "_model_module": "@jupyter-widgets/base",
       "_model_module_version": "2.0.0",
       "_model_name": "LayoutModel",
       "_view_count": null,
       "_view_module": "@jupyter-widgets/base",
       "_view_module_version": "2.0.0",
       "_view_name": "LayoutView",
       "align_content": null,
       "align_items": null,
       "align_self": null,
       "border_bottom": null,
       "border_left": null,
       "border_right": null,
       "border_top": null,
       "bottom": null,
       "display": null,
       "flex": null,
       "flex_flow": null,
       "grid_area": null,
       "grid_auto_columns": null,
       "grid_auto_flow": null,
       "grid_auto_rows": null,
       "grid_column": null,
       "grid_gap": null,
       "grid_row": null,
       "grid_template_areas": null,
       "grid_template_columns": null,
       "grid_template_rows": null,
       "height": null,
       "justify_content": null,
       "justify_items": null,
       "left": null,
       "margin": null,
       "max_height": null,
       "max_width": null,
       "min_height": null,
       "min_width": null,
       "object_fit": null,
       "object_position": null,
       "order": null,
       "overflow": null,
       "padding": null,
       "right": null,
       "top": null,
       "visibility": null,
       "width": null
      }
     },
     "5d130bc59e9b444893ad6e17eaf47191": {
      "model_module": "@jupyter-widgets/controls",
      "model_module_version": "2.0.0",
      "model_name": "HBoxModel",
      "state": {
       "_dom_classes": [],
       "_model_module": "@jupyter-widgets/controls",
       "_model_module_version": "2.0.0",
       "_model_name": "HBoxModel",
       "_view_count": null,
       "_view_module": "@jupyter-widgets/controls",
       "_view_module_version": "2.0.0",
       "_view_name": "HBoxView",
       "box_style": "",
       "children": [
        "IPY_MODEL_505beace17a1419daacd98858e01d871"
       ],
       "layout": "IPY_MODEL_8775ad9ca7594aa0b8bad9c1f311cc44",
       "tabbable": null,
       "tooltip": null
      }
     },
     "76efabb543f44dcab93e3a07ad75f821": {
      "model_module": "@jupyter-widgets/base",
      "model_module_version": "2.0.0",
      "model_name": "LayoutModel",
      "state": {
       "_model_module": "@jupyter-widgets/base",
       "_model_module_version": "2.0.0",
       "_model_name": "LayoutModel",
       "_view_count": null,
       "_view_module": "@jupyter-widgets/base",
       "_view_module_version": "2.0.0",
       "_view_name": "LayoutView",
       "align_content": null,
       "align_items": null,
       "align_self": null,
       "border_bottom": null,
       "border_left": null,
       "border_right": null,
       "border_top": null,
       "bottom": null,
       "display": null,
       "flex": null,
       "flex_flow": null,
       "grid_area": null,
       "grid_auto_columns": null,
       "grid_auto_flow": null,
       "grid_auto_rows": null,
       "grid_column": null,
       "grid_gap": null,
       "grid_row": null,
       "grid_template_areas": null,
       "grid_template_columns": null,
       "grid_template_rows": null,
       "height": null,
       "justify_content": null,
       "justify_items": null,
       "left": null,
       "margin": null,
       "max_height": null,
       "max_width": null,
       "min_height": null,
       "min_width": null,
       "object_fit": null,
       "object_position": null,
       "order": null,
       "overflow": null,
       "padding": null,
       "right": null,
       "top": null,
       "visibility": null,
       "width": null
      }
     },
     "7dadbb9714cc43769f7058f80b39a321": {
      "model_module": "@jupyter-widgets/base",
      "model_module_version": "2.0.0",
      "model_name": "LayoutModel",
      "state": {
       "_model_module": "@jupyter-widgets/base",
       "_model_module_version": "2.0.0",
       "_model_name": "LayoutModel",
       "_view_count": null,
       "_view_module": "@jupyter-widgets/base",
       "_view_module_version": "2.0.0",
       "_view_name": "LayoutView",
       "align_content": null,
       "align_items": null,
       "align_self": null,
       "border_bottom": null,
       "border_left": null,
       "border_right": null,
       "border_top": null,
       "bottom": null,
       "display": null,
       "flex": null,
       "flex_flow": null,
       "grid_area": null,
       "grid_auto_columns": null,
       "grid_auto_flow": null,
       "grid_auto_rows": null,
       "grid_column": null,
       "grid_gap": null,
       "grid_row": null,
       "grid_template_areas": null,
       "grid_template_columns": null,
       "grid_template_rows": null,
       "height": null,
       "justify_content": null,
       "justify_items": null,
       "left": null,
       "margin": null,
       "max_height": null,
       "max_width": null,
       "min_height": null,
       "min_width": null,
       "object_fit": null,
       "object_position": null,
       "order": null,
       "overflow": null,
       "padding": null,
       "right": null,
       "top": null,
       "visibility": null,
       "width": null
      }
     },
     "7ea2771d5a2849df86094faf48b1669f": {
      "model_module": "@jupyter-widgets/base",
      "model_module_version": "2.0.0",
      "model_name": "LayoutModel",
      "state": {
       "_model_module": "@jupyter-widgets/base",
       "_model_module_version": "2.0.0",
       "_model_name": "LayoutModel",
       "_view_count": null,
       "_view_module": "@jupyter-widgets/base",
       "_view_module_version": "2.0.0",
       "_view_name": "LayoutView",
       "align_content": null,
       "align_items": null,
       "align_self": null,
       "border_bottom": null,
       "border_left": null,
       "border_right": null,
       "border_top": null,
       "bottom": null,
       "display": null,
       "flex": null,
       "flex_flow": null,
       "grid_area": null,
       "grid_auto_columns": null,
       "grid_auto_flow": null,
       "grid_auto_rows": null,
       "grid_column": null,
       "grid_gap": null,
       "grid_row": null,
       "grid_template_areas": null,
       "grid_template_columns": null,
       "grid_template_rows": null,
       "height": null,
       "justify_content": null,
       "justify_items": null,
       "left": null,
       "margin": null,
       "max_height": null,
       "max_width": null,
       "min_height": null,
       "min_width": null,
       "object_fit": null,
       "object_position": null,
       "order": null,
       "overflow": null,
       "padding": null,
       "right": null,
       "top": null,
       "visibility": null,
       "width": null
      }
     },
     "7f442c567fbc4023976a21a034649c77": {
      "model_module": "@jupyter-widgets/base",
      "model_module_version": "2.0.0",
      "model_name": "LayoutModel",
      "state": {
       "_model_module": "@jupyter-widgets/base",
       "_model_module_version": "2.0.0",
       "_model_name": "LayoutModel",
       "_view_count": null,
       "_view_module": "@jupyter-widgets/base",
       "_view_module_version": "2.0.0",
       "_view_name": "LayoutView",
       "align_content": null,
       "align_items": null,
       "align_self": null,
       "border_bottom": null,
       "border_left": null,
       "border_right": null,
       "border_top": null,
       "bottom": null,
       "display": null,
       "flex": null,
       "flex_flow": null,
       "grid_area": null,
       "grid_auto_columns": null,
       "grid_auto_flow": null,
       "grid_auto_rows": null,
       "grid_column": null,
       "grid_gap": null,
       "grid_row": null,
       "grid_template_areas": null,
       "grid_template_columns": null,
       "grid_template_rows": null,
       "height": null,
       "justify_content": null,
       "justify_items": null,
       "left": null,
       "margin": null,
       "max_height": null,
       "max_width": null,
       "min_height": null,
       "min_width": null,
       "object_fit": null,
       "object_position": null,
       "order": null,
       "overflow": null,
       "padding": null,
       "right": null,
       "top": null,
       "visibility": null,
       "width": null
      }
     },
     "8775ad9ca7594aa0b8bad9c1f311cc44": {
      "model_module": "@jupyter-widgets/base",
      "model_module_version": "2.0.0",
      "model_name": "LayoutModel",
      "state": {
       "_model_module": "@jupyter-widgets/base",
       "_model_module_version": "2.0.0",
       "_model_name": "LayoutModel",
       "_view_count": null,
       "_view_module": "@jupyter-widgets/base",
       "_view_module_version": "2.0.0",
       "_view_name": "LayoutView",
       "align_content": null,
       "align_items": null,
       "align_self": null,
       "border_bottom": null,
       "border_left": null,
       "border_right": null,
       "border_top": null,
       "bottom": null,
       "display": null,
       "flex": null,
       "flex_flow": null,
       "grid_area": null,
       "grid_auto_columns": null,
       "grid_auto_flow": null,
       "grid_auto_rows": null,
       "grid_column": null,
       "grid_gap": null,
       "grid_row": null,
       "grid_template_areas": null,
       "grid_template_columns": null,
       "grid_template_rows": null,
       "height": null,
       "justify_content": null,
       "justify_items": null,
       "left": null,
       "margin": null,
       "max_height": null,
       "max_width": null,
       "min_height": null,
       "min_width": null,
       "object_fit": null,
       "object_position": null,
       "order": null,
       "overflow": null,
       "padding": null,
       "right": null,
       "top": null,
       "visibility": null,
       "width": null
      }
     },
     "88d373fe65ed413eb5fcaf0095d05fdf": {
      "model_module": "@jupyter-widgets/base",
      "model_module_version": "2.0.0",
      "model_name": "LayoutModel",
      "state": {
       "_model_module": "@jupyter-widgets/base",
       "_model_module_version": "2.0.0",
       "_model_name": "LayoutModel",
       "_view_count": null,
       "_view_module": "@jupyter-widgets/base",
       "_view_module_version": "2.0.0",
       "_view_name": "LayoutView",
       "align_content": null,
       "align_items": null,
       "align_self": null,
       "border_bottom": null,
       "border_left": null,
       "border_right": null,
       "border_top": null,
       "bottom": null,
       "display": null,
       "flex": null,
       "flex_flow": null,
       "grid_area": null,
       "grid_auto_columns": null,
       "grid_auto_flow": null,
       "grid_auto_rows": null,
       "grid_column": null,
       "grid_gap": null,
       "grid_row": null,
       "grid_template_areas": null,
       "grid_template_columns": null,
       "grid_template_rows": null,
       "height": null,
       "justify_content": null,
       "justify_items": null,
       "left": null,
       "margin": null,
       "max_height": null,
       "max_width": null,
       "min_height": null,
       "min_width": null,
       "object_fit": null,
       "object_position": null,
       "order": null,
       "overflow": null,
       "padding": null,
       "right": null,
       "top": null,
       "visibility": null,
       "width": null
      }
     },
     "8aa66b16b3b64c9ca16e13ef477f473b": {
      "model_module": "@jupyter-widgets/base",
      "model_module_version": "2.0.0",
      "model_name": "LayoutModel",
      "state": {
       "_model_module": "@jupyter-widgets/base",
       "_model_module_version": "2.0.0",
       "_model_name": "LayoutModel",
       "_view_count": null,
       "_view_module": "@jupyter-widgets/base",
       "_view_module_version": "2.0.0",
       "_view_name": "LayoutView",
       "align_content": null,
       "align_items": null,
       "align_self": null,
       "border_bottom": null,
       "border_left": null,
       "border_right": null,
       "border_top": null,
       "bottom": null,
       "display": null,
       "flex": null,
       "flex_flow": null,
       "grid_area": null,
       "grid_auto_columns": null,
       "grid_auto_flow": null,
       "grid_auto_rows": null,
       "grid_column": null,
       "grid_gap": null,
       "grid_row": null,
       "grid_template_areas": null,
       "grid_template_columns": null,
       "grid_template_rows": null,
       "height": null,
       "justify_content": null,
       "justify_items": null,
       "left": null,
       "margin": null,
       "max_height": null,
       "max_width": null,
       "min_height": null,
       "min_width": null,
       "object_fit": null,
       "object_position": null,
       "order": null,
       "overflow": null,
       "padding": null,
       "right": null,
       "top": null,
       "visibility": null,
       "width": null
      }
     },
     "8b2b88fbe797413eaeefef5c1218480e": {
      "model_module": "@jupyter-widgets/base",
      "model_module_version": "2.0.0",
      "model_name": "LayoutModel",
      "state": {
       "_model_module": "@jupyter-widgets/base",
       "_model_module_version": "2.0.0",
       "_model_name": "LayoutModel",
       "_view_count": null,
       "_view_module": "@jupyter-widgets/base",
       "_view_module_version": "2.0.0",
       "_view_name": "LayoutView",
       "align_content": null,
       "align_items": null,
       "align_self": null,
       "border_bottom": null,
       "border_left": null,
       "border_right": null,
       "border_top": null,
       "bottom": null,
       "display": null,
       "flex": null,
       "flex_flow": null,
       "grid_area": null,
       "grid_auto_columns": null,
       "grid_auto_flow": null,
       "grid_auto_rows": null,
       "grid_column": null,
       "grid_gap": null,
       "grid_row": null,
       "grid_template_areas": null,
       "grid_template_columns": null,
       "grid_template_rows": null,
       "height": null,
       "justify_content": null,
       "justify_items": null,
       "left": null,
       "margin": null,
       "max_height": null,
       "max_width": null,
       "min_height": null,
       "min_width": null,
       "object_fit": null,
       "object_position": null,
       "order": null,
       "overflow": null,
       "padding": null,
       "right": null,
       "top": null,
       "visibility": null,
       "width": null
      }
     },
     "991d28b57ce4429f80230ddc96dc4900": {
      "model_module": "@jupyter-widgets/output",
      "model_module_version": "1.0.0",
      "model_name": "OutputModel",
      "state": {
       "_dom_classes": [],
       "_model_module": "@jupyter-widgets/output",
       "_model_module_version": "1.0.0",
       "_model_name": "OutputModel",
       "_view_count": null,
       "_view_module": "@jupyter-widgets/output",
       "_view_module_version": "1.0.0",
       "_view_name": "OutputView",
       "layout": "IPY_MODEL_a80221ed62134d2f81935c993903a36a",
       "msg_id": "",
       "outputs": [
        {
         "data": {
          "text/markdown": "`greater_than`",
          "text/plain": "<IPython.core.display.Markdown object>"
         },
         "metadata": {},
         "output_type": "display_data"
        },
        {
         "data": {
          "image/svg+xml": "<svg xmlns=\"http://www.w3.org/2000/svg\" xmlns:xlink=\"http://www.w3.org/1999/xlink\" width=\"248pt\" height=\"152pt\" viewBox=\"0.00 0.00 248.00 152.00\">\n<g id=\"graph0\" class=\"graph\" transform=\"scale(1 1) rotate(0) translate(4 148)\">\n<title>my_graph</title>\n<polygon fill=\"white\" stroke=\"transparent\" points=\"-4,4 -4,-148 244,-148 244,4 -4,4\"/>\n<!-- a_G2 -->\n<g id=\"node1\" class=\"node\">\n<title>a_G2</title>\n<text text-anchor=\"middle\" x=\"27\" y=\"-122.3\" font-family=\"Times,serif\" font-size=\"14.00\">a</text>\n</g>\n<!-- GreaterThan -->\n<g id=\"node4\" class=\"node\">\n<title>GreaterThan</title>\n<polygon fill=\"none\" stroke=\"black\" points=\"91,-104 91,-121 149,-121 149,-104 91,-104\"/>\n<text text-anchor=\"start\" x=\"94\" y=\"-110\" font-family=\"Times,serif\" font-size=\"10.00\">GreaterThan</text>\n<polygon fill=\"none\" stroke=\"black\" points=\"91,-83 91,-104 149,-104 149,-83 91,-83\"/>\n<text text-anchor=\"start\" x=\"116.5\" y=\"-89.8\" font-family=\"Times,serif\" font-size=\"14.00\">a</text>\n<polygon fill=\"none\" stroke=\"black\" points=\"91,-62 91,-83 149,-83 149,-62 91,-62\"/>\n<text text-anchor=\"start\" x=\"116.5\" y=\"-68.8\" font-family=\"Times,serif\" font-size=\"14.00\">b</text>\n<polygon fill=\"none\" stroke=\"black\" points=\"91,-41 91,-62 149,-62 149,-41 91,-41\"/>\n<text text-anchor=\"start\" x=\"104.5\" y=\"-47.8\" font-family=\"Times,serif\" font-size=\"14.00\">target</text>\n</g>\n<!-- a_G2&#45;&gt;GreaterThan -->\n<g id=\"edge1\" class=\"edge\">\n<title>a_G2:e-&gt;GreaterThan:w</title>\n<path fill=\"none\" stroke=\"black\" d=\"M54,-126C74.89,-126 69.72,-96.45 88.58,-94.14\"/>\n<ellipse fill=\"black\" stroke=\"black\" cx=\"90\" cy=\"-94.06\" rx=\"1\" ry=\"1\"/>\n<text text-anchor=\"middle\" x=\"72.5\" y=\"-113\" font-family=\"Times,serif\" font-size=\"10.00\">4</text>\n</g>\n<!-- b_G3 -->\n<g id=\"node2\" class=\"node\">\n<title>b_G3</title>\n<text text-anchor=\"middle\" x=\"27\" y=\"-68.3\" font-family=\"Times,serif\" font-size=\"14.00\">b</text>\n</g>\n<!-- b_G3&#45;&gt;GreaterThan -->\n<g id=\"edge2\" class=\"edge\">\n<title>b_G3:e-&gt;GreaterThan:w</title>\n<path fill=\"none\" stroke=\"black\" d=\"M54,-72C69.67,-72 74.14,-72 88.77,-72\"/>\n<ellipse fill=\"black\" stroke=\"black\" cx=\"90\" cy=\"-72\" rx=\"1\" ry=\"1\"/>\n<text text-anchor=\"middle\" x=\"72.5\" y=\"-75\" font-family=\"Times,serif\" font-size=\"10.00\">4</text>\n</g>\n<!-- target_G8 -->\n<g id=\"node3\" class=\"node\">\n<title>target_G8</title>\n<text text-anchor=\"middle\" x=\"27\" y=\"-14.3\" font-family=\"Times,serif\" font-size=\"14.00\">target</text>\n</g>\n<!-- target_G8&#45;&gt;GreaterThan -->\n<g id=\"edge3\" class=\"edge\">\n<title>target_G8:e-&gt;GreaterThan:w</title>\n<path fill=\"none\" stroke=\"black\" d=\"M54,-18C75.17,-18 69.47,-48.47 88.55,-50.85\"/>\n<ellipse fill=\"black\" stroke=\"black\" cx=\"90\" cy=\"-50.94\" rx=\"1\" ry=\"1\"/>\n<text text-anchor=\"middle\" x=\"72.5\" y=\"-39\" font-family=\"Times,serif\" font-size=\"10.00\">1</text>\n</g>\n<!-- a_G4 -->\n<g id=\"node5\" class=\"node\">\n<title>a_G4</title>\n<text text-anchor=\"middle\" x=\"213\" y=\"-122.3\" font-family=\"Times,serif\" font-size=\"14.00\">a</text>\n</g>\n<!-- GreaterThan&#45;&gt;a_G4 -->\n<g id=\"edge4\" class=\"edge\">\n<title>GreaterThan:e-&gt;a_G4:w</title>\n<path fill=\"none\" stroke=\"black\" d=\"M149,-94C169.89,-94 164.72,-123.55 183.58,-125.86\"/>\n<ellipse fill=\"black\" stroke=\"black\" cx=\"185\" cy=\"-125.94\" rx=\"1\" ry=\"1\"/>\n<text text-anchor=\"middle\" x=\"167.5\" y=\"-113\" font-family=\"Times,serif\" font-size=\"10.00\">4</text>\n</g>\n<!-- b_G0 -->\n<g id=\"node6\" class=\"node\">\n<title>b_G0</title>\n<text text-anchor=\"middle\" x=\"213\" y=\"-68.3\" font-family=\"Times,serif\" font-size=\"14.00\">b</text>\n</g>\n<!-- GreaterThan&#45;&gt;b_G0 -->\n<g id=\"edge5\" class=\"edge\">\n<title>GreaterThan:e-&gt;b_G0:w</title>\n<path fill=\"none\" stroke=\"black\" d=\"M149,-72C164.67,-72 169.14,-72 183.77,-72\"/>\n<ellipse fill=\"black\" stroke=\"black\" cx=\"185\" cy=\"-72\" rx=\"1\" ry=\"1\"/>\n<text text-anchor=\"middle\" x=\"167.5\" y=\"-75\" font-family=\"Times,serif\" font-size=\"10.00\">4</text>\n</g>\n<!-- target_G1 -->\n<g id=\"node7\" class=\"node\">\n<title>target_G1</title>\n<text text-anchor=\"middle\" x=\"213\" y=\"-14.3\" font-family=\"Times,serif\" font-size=\"14.00\">target</text>\n</g>\n<!-- GreaterThan&#45;&gt;target_G1 -->\n<g id=\"edge6\" class=\"edge\">\n<title>GreaterThan:e-&gt;target_G1:w</title>\n<path fill=\"none\" stroke=\"black\" d=\"M149,-51C170.17,-51 164.47,-20.53 183.55,-18.15\"/>\n<ellipse fill=\"black\" stroke=\"black\" cx=\"185\" cy=\"-18.06\" rx=\"1\" ry=\"1\"/>\n<text text-anchor=\"middle\" x=\"167.5\" y=\"-39\" font-family=\"Times,serif\" font-size=\"10.00\">1</text>\n</g>\n</g>\n</svg>",
          "text/plain": "<IPython.core.display.SVG object>"
         },
         "metadata": {},
         "output_type": "display_data"
        }
       ],
       "tabbable": null,
       "tooltip": null
      }
     },
     "a2787af44ac943aebc245449ade7860f": {
      "model_module": "@jupyter-widgets/output",
      "model_module_version": "1.0.0",
      "model_name": "OutputModel",
      "state": {
       "_dom_classes": [],
       "_model_module": "@jupyter-widgets/output",
       "_model_module_version": "1.0.0",
       "_model_name": "OutputModel",
       "_view_count": null,
       "_view_module": "@jupyter-widgets/output",
       "_view_module_version": "1.0.0",
       "_view_name": "OutputView",
       "layout": "IPY_MODEL_ba90cfc385394df9aba7ebf87dc43a9c",
       "msg_id": "",
       "outputs": [
        {
         "data": {
          "text/markdown": "`leq`",
          "text/plain": "<IPython.core.display.Markdown object>"
         },
         "metadata": {},
         "output_type": "display_data"
        },
        {
         "data": {
          "image/svg+xml": "<svg xmlns=\"http://www.w3.org/2000/svg\" xmlns:xlink=\"http://www.w3.org/1999/xlink\" width=\"260pt\" height=\"152pt\" viewBox=\"0.00 0.00 260.00 152.00\">\n<g id=\"graph0\" class=\"graph\" transform=\"scale(1 1) rotate(0) translate(4 148)\">\n<title>my_graph</title>\n<polygon fill=\"white\" stroke=\"transparent\" points=\"-4,4 -4,-148 256,-148 256,4 -4,4\"/>\n<!-- x_G6 -->\n<g id=\"node1\" class=\"node\">\n<title>x_G6</title>\n<text text-anchor=\"middle\" x=\"27\" y=\"-122.3\" font-family=\"Times,serif\" font-size=\"14.00\">x</text>\n</g>\n<!-- LessThanEqual -->\n<g id=\"node4\" class=\"node\">\n<title>LessThanEqual</title>\n<polygon fill=\"none\" stroke=\"black\" points=\"91,-104 91,-121 161,-121 161,-104 91,-104\"/>\n<text text-anchor=\"start\" x=\"94\" y=\"-110\" font-family=\"Times,serif\" font-size=\"10.00\">LessThanEqual</text>\n<polygon fill=\"none\" stroke=\"black\" points=\"91,-83 91,-104 161,-104 161,-83 91,-83\"/>\n<text text-anchor=\"start\" x=\"122.5\" y=\"-89.8\" font-family=\"Times,serif\" font-size=\"14.00\">x</text>\n<polygon fill=\"none\" stroke=\"black\" points=\"91,-62 91,-83 161,-83 161,-62 91,-62\"/>\n<text text-anchor=\"start\" x=\"122.5\" y=\"-68.8\" font-family=\"Times,serif\" font-size=\"14.00\">y</text>\n<polygon fill=\"none\" stroke=\"black\" points=\"91,-41 91,-62 161,-62 161,-41 91,-41\"/>\n<text text-anchor=\"start\" x=\"110.5\" y=\"-47.8\" font-family=\"Times,serif\" font-size=\"14.00\">target</text>\n</g>\n<!-- x_G6&#45;&gt;LessThanEqual -->\n<g id=\"edge1\" class=\"edge\">\n<title>x_G6:e-&gt;LessThanEqual:w</title>\n<path fill=\"none\" stroke=\"black\" d=\"M54,-126C74.89,-126 69.72,-96.45 88.58,-94.14\"/>\n<ellipse fill=\"black\" stroke=\"black\" cx=\"90\" cy=\"-94.06\" rx=\"1\" ry=\"1\"/>\n<text text-anchor=\"middle\" x=\"72.5\" y=\"-113\" font-family=\"Times,serif\" font-size=\"10.00\">4</text>\n</g>\n<!-- y_G0 -->\n<g id=\"node2\" class=\"node\">\n<title>y_G0</title>\n<text text-anchor=\"middle\" x=\"27\" y=\"-68.3\" font-family=\"Times,serif\" font-size=\"14.00\">y</text>\n</g>\n<!-- y_G0&#45;&gt;LessThanEqual -->\n<g id=\"edge2\" class=\"edge\">\n<title>y_G0:e-&gt;LessThanEqual:w</title>\n<path fill=\"none\" stroke=\"black\" d=\"M54,-72C69.67,-72 74.14,-72 88.77,-72\"/>\n<ellipse fill=\"black\" stroke=\"black\" cx=\"90\" cy=\"-72\" rx=\"1\" ry=\"1\"/>\n<text text-anchor=\"middle\" x=\"72.5\" y=\"-75\" font-family=\"Times,serif\" font-size=\"10.00\">8</text>\n</g>\n<!-- target_G8 -->\n<g id=\"node3\" class=\"node\">\n<title>target_G8</title>\n<text text-anchor=\"middle\" x=\"27\" y=\"-14.3\" font-family=\"Times,serif\" font-size=\"14.00\">target</text>\n</g>\n<!-- target_G8&#45;&gt;LessThanEqual -->\n<g id=\"edge3\" class=\"edge\">\n<title>target_G8:e-&gt;LessThanEqual:w</title>\n<path fill=\"none\" stroke=\"black\" d=\"M54,-18C75.17,-18 69.47,-48.47 88.55,-50.85\"/>\n<ellipse fill=\"black\" stroke=\"black\" cx=\"90\" cy=\"-50.94\" rx=\"1\" ry=\"1\"/>\n<text text-anchor=\"middle\" x=\"72.5\" y=\"-39\" font-family=\"Times,serif\" font-size=\"10.00\">1</text>\n</g>\n<!-- x_G7 -->\n<g id=\"node5\" class=\"node\">\n<title>x_G7</title>\n<text text-anchor=\"middle\" x=\"225\" y=\"-122.3\" font-family=\"Times,serif\" font-size=\"14.00\">x</text>\n</g>\n<!-- LessThanEqual&#45;&gt;x_G7 -->\n<g id=\"edge4\" class=\"edge\">\n<title>LessThanEqual:e-&gt;x_G7:w</title>\n<path fill=\"none\" stroke=\"black\" d=\"M161,-94C181.89,-94 176.72,-123.55 195.58,-125.86\"/>\n<ellipse fill=\"black\" stroke=\"black\" cx=\"197\" cy=\"-125.94\" rx=\"1\" ry=\"1\"/>\n<text text-anchor=\"middle\" x=\"179.5\" y=\"-113\" font-family=\"Times,serif\" font-size=\"10.00\">4</text>\n</g>\n<!-- y_G5 -->\n<g id=\"node6\" class=\"node\">\n<title>y_G5</title>\n<text text-anchor=\"middle\" x=\"225\" y=\"-68.3\" font-family=\"Times,serif\" font-size=\"14.00\">y</text>\n</g>\n<!-- LessThanEqual&#45;&gt;y_G5 -->\n<g id=\"edge5\" class=\"edge\">\n<title>LessThanEqual:e-&gt;y_G5:w</title>\n<path fill=\"none\" stroke=\"black\" d=\"M161,-72C176.67,-72 181.14,-72 195.77,-72\"/>\n<ellipse fill=\"black\" stroke=\"black\" cx=\"197\" cy=\"-72\" rx=\"1\" ry=\"1\"/>\n<text text-anchor=\"middle\" x=\"179.5\" y=\"-75\" font-family=\"Times,serif\" font-size=\"10.00\">8</text>\n</g>\n<!-- target_G2 -->\n<g id=\"node7\" class=\"node\">\n<title>target_G2</title>\n<text text-anchor=\"middle\" x=\"225\" y=\"-14.3\" font-family=\"Times,serif\" font-size=\"14.00\">target</text>\n</g>\n<!-- LessThanEqual&#45;&gt;target_G2 -->\n<g id=\"edge6\" class=\"edge\">\n<title>LessThanEqual:e-&gt;target_G2:w</title>\n<path fill=\"none\" stroke=\"black\" d=\"M161,-51C182.17,-51 176.47,-20.53 195.55,-18.15\"/>\n<ellipse fill=\"black\" stroke=\"black\" cx=\"197\" cy=\"-18.06\" rx=\"1\" ry=\"1\"/>\n<text text-anchor=\"middle\" x=\"179.5\" y=\"-39\" font-family=\"Times,serif\" font-size=\"10.00\">1</text>\n</g>\n</g>\n</svg>",
          "text/plain": "<IPython.core.display.SVG object>"
         },
         "metadata": {},
         "output_type": "display_data"
        }
       ],
       "tabbable": null,
       "tooltip": null
      }
     },
     "a80221ed62134d2f81935c993903a36a": {
      "model_module": "@jupyter-widgets/base",
      "model_module_version": "2.0.0",
      "model_name": "LayoutModel",
      "state": {
       "_model_module": "@jupyter-widgets/base",
       "_model_module_version": "2.0.0",
       "_model_name": "LayoutModel",
       "_view_count": null,
       "_view_module": "@jupyter-widgets/base",
       "_view_module_version": "2.0.0",
       "_view_name": "LayoutView",
       "align_content": null,
       "align_items": null,
       "align_self": null,
       "border_bottom": null,
       "border_left": null,
       "border_right": null,
       "border_top": null,
       "bottom": null,
       "display": null,
       "flex": null,
       "flex_flow": null,
       "grid_area": null,
       "grid_auto_columns": null,
       "grid_auto_flow": null,
       "grid_auto_rows": null,
       "grid_column": null,
       "grid_gap": null,
       "grid_row": null,
       "grid_template_areas": null,
       "grid_template_columns": null,
       "grid_template_rows": null,
       "height": null,
       "justify_content": null,
       "justify_items": null,
       "left": null,
       "margin": null,
       "max_height": null,
       "max_width": null,
       "min_height": null,
       "min_width": null,
       "object_fit": null,
       "object_position": null,
       "order": null,
       "overflow": null,
       "padding": null,
       "right": null,
       "top": null,
       "visibility": null,
       "width": null
      }
     },
     "ab8fe41a5b654bbe869e0f600666d9de": {
      "model_module": "@jupyter-widgets/output",
      "model_module_version": "1.0.0",
      "model_name": "OutputModel",
      "state": {
       "_dom_classes": [],
       "_model_module": "@jupyter-widgets/output",
       "_model_module_version": "1.0.0",
       "_model_name": "OutputModel",
       "_view_count": null,
       "_view_module": "@jupyter-widgets/output",
       "_view_module_version": "1.0.0",
       "_view_name": "OutputView",
       "layout": "IPY_MODEL_7ea2771d5a2849df86094faf48b1669f",
       "msg_id": "",
       "outputs": [
        {
         "data": {
          "text/markdown": "`gt_k`",
          "text/plain": "<IPython.core.display.Markdown object>"
         },
         "metadata": {},
         "output_type": "display_data"
        },
        {
         "data": {
          "image/svg+xml": "<svg xmlns=\"http://www.w3.org/2000/svg\" xmlns:xlink=\"http://www.w3.org/1999/xlink\" width=\"284pt\" height=\"98pt\" viewBox=\"0.00 0.00 284.00 98.00\">\n<g id=\"graph0\" class=\"graph\" transform=\"scale(1 1) rotate(0) translate(4 94)\">\n<title>my_graph</title>\n<polygon fill=\"white\" stroke=\"transparent\" points=\"-4,4 -4,-94 280,-94 280,4 -4,4\"/>\n<!-- x_G5 -->\n<g id=\"node1\" class=\"node\">\n<title>x_G5</title>\n<text text-anchor=\"middle\" x=\"27\" y=\"-68.3\" font-family=\"Times,serif\" font-size=\"14.00\">x</text>\n</g>\n<!-- GreaterThanConstant -->\n<g id=\"node3\" class=\"node\">\n<title>GreaterThanConstant</title>\n<polygon fill=\"none\" stroke=\"black\" points=\"91,-66 91,-83 185,-83 185,-66 91,-66\"/>\n<text text-anchor=\"start\" x=\"94\" y=\"-72\" font-family=\"Times,serif\" font-size=\"10.00\">GreaterThanConstant</text>\n<polygon fill=\"none\" stroke=\"black\" points=\"91,-45 91,-66 185,-66 185,-45 91,-45\"/>\n<text text-anchor=\"start\" x=\"134.5\" y=\"-51.8\" font-family=\"Times,serif\" font-size=\"14.00\">x</text>\n<polygon fill=\"none\" stroke=\"black\" points=\"91,-24 91,-45 185,-45 185,-24 91,-24\"/>\n<text text-anchor=\"start\" x=\"122.5\" y=\"-30.8\" font-family=\"Times,serif\" font-size=\"14.00\">target</text>\n</g>\n<!-- x_G5&#45;&gt;GreaterThanConstant -->\n<g id=\"edge1\" class=\"edge\">\n<title>x_G5:e-&gt;GreaterThanConstant:w</title>\n<path fill=\"none\" stroke=\"black\" d=\"M54,-72C71.22,-72 72.97,-57.23 88.98,-56.07\"/>\n<ellipse fill=\"black\" stroke=\"black\" cx=\"90\" cy=\"-56.04\" rx=\"1\" ry=\"1\"/>\n<text text-anchor=\"middle\" x=\"72.5\" y=\"-67\" font-family=\"Times,serif\" font-size=\"10.00\">4</text>\n</g>\n<!-- target_G1 -->\n<g id=\"node2\" class=\"node\">\n<title>target_G1</title>\n<text text-anchor=\"middle\" x=\"27\" y=\"-14.3\" font-family=\"Times,serif\" font-size=\"14.00\">target</text>\n</g>\n<!-- target_G1&#45;&gt;GreaterThanConstant -->\n<g id=\"edge2\" class=\"edge\">\n<title>target_G1:e-&gt;GreaterThanConstant:w</title>\n<path fill=\"none\" stroke=\"black\" d=\"M54,-18C71.22,-18 72.97,-32.77 88.98,-33.93\"/>\n<ellipse fill=\"black\" stroke=\"black\" cx=\"90\" cy=\"-33.96\" rx=\"1\" ry=\"1\"/>\n<text text-anchor=\"middle\" x=\"72.5\" y=\"-29\" font-family=\"Times,serif\" font-size=\"10.00\">1</text>\n</g>\n<!-- x_G3 -->\n<g id=\"node4\" class=\"node\">\n<title>x_G3</title>\n<text text-anchor=\"middle\" x=\"249\" y=\"-68.3\" font-family=\"Times,serif\" font-size=\"14.00\">x</text>\n</g>\n<!-- GreaterThanConstant&#45;&gt;x_G3 -->\n<g id=\"edge3\" class=\"edge\">\n<title>GreaterThanConstant:e-&gt;x_G3:w</title>\n<path fill=\"none\" stroke=\"black\" d=\"M185,-56C202.22,-56 203.97,-70.77 219.98,-71.93\"/>\n<ellipse fill=\"black\" stroke=\"black\" cx=\"221\" cy=\"-71.96\" rx=\"1\" ry=\"1\"/>\n<text text-anchor=\"middle\" x=\"203.5\" y=\"-67\" font-family=\"Times,serif\" font-size=\"10.00\">4</text>\n</g>\n<!-- target_G2 -->\n<g id=\"node5\" class=\"node\">\n<title>target_G2</title>\n<text text-anchor=\"middle\" x=\"249\" y=\"-14.3\" font-family=\"Times,serif\" font-size=\"14.00\">target</text>\n</g>\n<!-- GreaterThanConstant&#45;&gt;target_G2 -->\n<g id=\"edge4\" class=\"edge\">\n<title>GreaterThanConstant:e-&gt;target_G2:w</title>\n<path fill=\"none\" stroke=\"black\" d=\"M185,-34C202.22,-34 203.97,-19.23 219.98,-18.07\"/>\n<ellipse fill=\"black\" stroke=\"black\" cx=\"221\" cy=\"-18.04\" rx=\"1\" ry=\"1\"/>\n<text text-anchor=\"middle\" x=\"203.5\" y=\"-29\" font-family=\"Times,serif\" font-size=\"10.00\">1</text>\n</g>\n</g>\n</svg>",
          "text/plain": "<IPython.core.display.SVG object>"
         },
         "metadata": {},
         "output_type": "display_data"
        }
       ],
       "tabbable": null,
       "tooltip": null
      }
     },
     "b5aa5b5ba5964d98ba76978bafa8e411": {
      "model_module": "@jupyter-widgets/controls",
      "model_module_version": "2.0.0",
      "model_name": "HBoxModel",
      "state": {
       "_dom_classes": [],
       "_model_module": "@jupyter-widgets/controls",
       "_model_module_version": "2.0.0",
       "_model_name": "HBoxModel",
       "_view_count": null,
       "_view_module": "@jupyter-widgets/controls",
       "_view_module_version": "2.0.0",
       "_view_name": "HBoxView",
       "box_style": "",
       "children": [
        "IPY_MODEL_ab8fe41a5b654bbe869e0f600666d9de"
       ],
       "layout": "IPY_MODEL_5bbb632dd4994926a1e8cffb73f884d0",
       "tabbable": null,
       "tooltip": null
      }
     },
     "b9d4f4ef6f15443a9f9b937e0084bf77": {
      "model_module": "@jupyter-widgets/base",
      "model_module_version": "2.0.0",
      "model_name": "LayoutModel",
      "state": {
       "_model_module": "@jupyter-widgets/base",
       "_model_module_version": "2.0.0",
       "_model_name": "LayoutModel",
       "_view_count": null,
       "_view_module": "@jupyter-widgets/base",
       "_view_module_version": "2.0.0",
       "_view_name": "LayoutView",
       "align_content": null,
       "align_items": null,
       "align_self": null,
       "border_bottom": null,
       "border_left": null,
       "border_right": null,
       "border_top": null,
       "bottom": null,
       "display": null,
       "flex": null,
       "flex_flow": null,
       "grid_area": null,
       "grid_auto_columns": null,
       "grid_auto_flow": null,
       "grid_auto_rows": null,
       "grid_column": null,
       "grid_gap": null,
       "grid_row": null,
       "grid_template_areas": null,
       "grid_template_columns": null,
       "grid_template_rows": null,
       "height": null,
       "justify_content": null,
       "justify_items": null,
       "left": null,
       "margin": null,
       "max_height": null,
       "max_width": null,
       "min_height": null,
       "min_width": null,
       "object_fit": null,
       "object_position": null,
       "order": null,
       "overflow": null,
       "padding": null,
       "right": null,
       "top": null,
       "visibility": null,
       "width": null
      }
     },
     "ba90cfc385394df9aba7ebf87dc43a9c": {
      "model_module": "@jupyter-widgets/base",
      "model_module_version": "2.0.0",
      "model_name": "LayoutModel",
      "state": {
       "_model_module": "@jupyter-widgets/base",
       "_model_module_version": "2.0.0",
       "_model_name": "LayoutModel",
       "_view_count": null,
       "_view_module": "@jupyter-widgets/base",
       "_view_module_version": "2.0.0",
       "_view_name": "LayoutView",
       "align_content": null,
       "align_items": null,
       "align_self": null,
       "border_bottom": null,
       "border_left": null,
       "border_right": null,
       "border_top": null,
       "bottom": null,
       "display": null,
       "flex": null,
       "flex_flow": null,
       "grid_area": null,
       "grid_auto_columns": null,
       "grid_auto_flow": null,
       "grid_auto_rows": null,
       "grid_column": null,
       "grid_gap": null,
       "grid_row": null,
       "grid_template_areas": null,
       "grid_template_columns": null,
       "grid_template_rows": null,
       "height": null,
       "justify_content": null,
       "justify_items": null,
       "left": null,
       "margin": null,
       "max_height": null,
       "max_width": null,
       "min_height": null,
       "min_width": null,
       "object_fit": null,
       "object_position": null,
       "order": null,
       "overflow": null,
       "padding": null,
       "right": null,
       "top": null,
       "visibility": null,
       "width": null
      }
     },
     "bbfb930087844bc1aea36a8b5a20bf29": {
      "model_module": "@jupyter-widgets/base",
      "model_module_version": "2.0.0",
      "model_name": "LayoutModel",
      "state": {
       "_model_module": "@jupyter-widgets/base",
       "_model_module_version": "2.0.0",
       "_model_name": "LayoutModel",
       "_view_count": null,
       "_view_module": "@jupyter-widgets/base",
       "_view_module_version": "2.0.0",
       "_view_name": "LayoutView",
       "align_content": null,
       "align_items": null,
       "align_self": null,
       "border_bottom": null,
       "border_left": null,
       "border_right": null,
       "border_top": null,
       "bottom": null,
       "display": null,
       "flex": null,
       "flex_flow": null,
       "grid_area": null,
       "grid_auto_columns": null,
       "grid_auto_flow": null,
       "grid_auto_rows": null,
       "grid_column": null,
       "grid_gap": null,
       "grid_row": null,
       "grid_template_areas": null,
       "grid_template_columns": null,
       "grid_template_rows": null,
       "height": null,
       "justify_content": null,
       "justify_items": null,
       "left": null,
       "margin": null,
       "max_height": null,
       "max_width": null,
       "min_height": null,
       "min_width": null,
       "object_fit": null,
       "object_position": null,
       "order": null,
       "overflow": null,
       "padding": null,
       "right": null,
       "top": null,
       "visibility": null,
       "width": null
      }
     },
     "cc3495c9f52648a689f4863299b59711": {
      "model_module": "@jupyter-widgets/controls",
      "model_module_version": "2.0.0",
      "model_name": "HBoxModel",
      "state": {
       "_dom_classes": [],
       "_model_module": "@jupyter-widgets/controls",
       "_model_module_version": "2.0.0",
       "_model_name": "HBoxModel",
       "_view_count": null,
       "_view_module": "@jupyter-widgets/controls",
       "_view_module_version": "2.0.0",
       "_view_name": "HBoxView",
       "box_style": "",
       "children": [
        "IPY_MODEL_26421fcda0bb4f969b438924366179f2"
       ],
       "layout": "IPY_MODEL_4f9e9189a3004a0cac98bf179f42484f",
       "tabbable": null,
       "tooltip": null
      }
     },
     "d8be60e434a740e9b54c0f6425d96218": {
      "model_module": "@jupyter-widgets/controls",
      "model_module_version": "2.0.0",
      "model_name": "HBoxModel",
      "state": {
       "_dom_classes": [],
       "_model_module": "@jupyter-widgets/controls",
       "_model_module_version": "2.0.0",
       "_model_name": "HBoxModel",
       "_view_count": null,
       "_view_module": "@jupyter-widgets/controls",
       "_view_module_version": "2.0.0",
       "_view_name": "HBoxView",
       "box_style": "",
       "children": [
        "IPY_MODEL_d9eb47f3205d4d309315a265fe99aed0"
       ],
       "layout": "IPY_MODEL_8aa66b16b3b64c9ca16e13ef477f473b",
       "tabbable": null,
       "tooltip": null
      }
     },
     "d9eb47f3205d4d309315a265fe99aed0": {
      "model_module": "@jupyter-widgets/output",
      "model_module_version": "1.0.0",
      "model_name": "OutputModel",
      "state": {
       "_dom_classes": [],
       "_model_module": "@jupyter-widgets/output",
       "_model_module_version": "1.0.0",
       "_model_name": "OutputModel",
       "_view_count": null,
       "_view_module": "@jupyter-widgets/output",
       "_view_module_version": "1.0.0",
       "_view_name": "OutputView",
       "layout": "IPY_MODEL_88d373fe65ed413eb5fcaf0095d05fdf",
       "msg_id": "",
       "outputs": [
        {
         "data": {
          "text/markdown": "`eq_k`",
          "text/plain": "<IPython.core.display.Markdown object>"
         },
         "metadata": {},
         "output_type": "display_data"
        },
        {
         "data": {
          "image/svg+xml": "<svg xmlns=\"http://www.w3.org/2000/svg\" xmlns:xlink=\"http://www.w3.org/1999/xlink\" width=\"269pt\" height=\"98pt\" viewBox=\"0.00 0.00 269.00 98.00\">\n<g id=\"graph0\" class=\"graph\" transform=\"scale(1 1) rotate(0) translate(4 94)\">\n<title>my_graph</title>\n<polygon fill=\"white\" stroke=\"transparent\" points=\"-4,4 -4,-94 265,-94 265,4 -4,4\"/>\n<!-- x_G5 -->\n<g id=\"node1\" class=\"node\">\n<title>x_G5</title>\n<text text-anchor=\"middle\" x=\"27\" y=\"-68.3\" font-family=\"Times,serif\" font-size=\"14.00\">x</text>\n</g>\n<!-- EqualsAConstant -->\n<g id=\"node3\" class=\"node\">\n<title>EqualsAConstant</title>\n<polygon fill=\"none\" stroke=\"black\" points=\"91.5,-66 91.5,-83 170.5,-83 170.5,-66 91.5,-66\"/>\n<text text-anchor=\"start\" x=\"94.5\" y=\"-72\" font-family=\"Times,serif\" font-size=\"10.00\">EqualsAConstant</text>\n<polygon fill=\"none\" stroke=\"black\" points=\"91.5,-45 91.5,-66 170.5,-66 170.5,-45 91.5,-45\"/>\n<text text-anchor=\"start\" x=\"127.5\" y=\"-51.8\" font-family=\"Times,serif\" font-size=\"14.00\">x</text>\n<polygon fill=\"none\" stroke=\"black\" points=\"91.5,-24 91.5,-45 170.5,-45 170.5,-24 91.5,-24\"/>\n<text text-anchor=\"start\" x=\"115.5\" y=\"-30.8\" font-family=\"Times,serif\" font-size=\"14.00\">target</text>\n</g>\n<!-- x_G5&#45;&gt;EqualsAConstant -->\n<g id=\"edge1\" class=\"edge\">\n<title>x_G5:e-&gt;EqualsAConstant:w</title>\n<path fill=\"none\" stroke=\"black\" d=\"M54,-72C71.22,-72 72.97,-57.23 88.98,-56.07\"/>\n<ellipse fill=\"black\" stroke=\"black\" cx=\"90\" cy=\"-56.04\" rx=\"1\" ry=\"1\"/>\n<text text-anchor=\"middle\" x=\"72.5\" y=\"-67\" font-family=\"Times,serif\" font-size=\"10.00\">4</text>\n</g>\n<!-- target_G0 -->\n<g id=\"node2\" class=\"node\">\n<title>target_G0</title>\n<text text-anchor=\"middle\" x=\"27\" y=\"-14.3\" font-family=\"Times,serif\" font-size=\"14.00\">target</text>\n</g>\n<!-- target_G0&#45;&gt;EqualsAConstant -->\n<g id=\"edge2\" class=\"edge\">\n<title>target_G0:e-&gt;EqualsAConstant:w</title>\n<path fill=\"none\" stroke=\"black\" d=\"M54,-18C71.22,-18 72.97,-32.77 88.98,-33.93\"/>\n<ellipse fill=\"black\" stroke=\"black\" cx=\"90\" cy=\"-33.96\" rx=\"1\" ry=\"1\"/>\n<text text-anchor=\"middle\" x=\"72.5\" y=\"-29\" font-family=\"Times,serif\" font-size=\"10.00\">1</text>\n</g>\n<!-- x_G4 -->\n<g id=\"node4\" class=\"node\">\n<title>x_G4</title>\n<text text-anchor=\"middle\" x=\"234\" y=\"-68.3\" font-family=\"Times,serif\" font-size=\"14.00\">x</text>\n</g>\n<!-- EqualsAConstant&#45;&gt;x_G4 -->\n<g id=\"edge3\" class=\"edge\">\n<title>EqualsAConstant:e-&gt;x_G4:w</title>\n<path fill=\"none\" stroke=\"black\" d=\"M170,-56C187.22,-56 188.97,-70.77 204.98,-71.93\"/>\n<ellipse fill=\"black\" stroke=\"black\" cx=\"206\" cy=\"-71.96\" rx=\"1\" ry=\"1\"/>\n<text text-anchor=\"middle\" x=\"188.5\" y=\"-67\" font-family=\"Times,serif\" font-size=\"10.00\">4</text>\n</g>\n<!-- target_G2 -->\n<g id=\"node5\" class=\"node\">\n<title>target_G2</title>\n<text text-anchor=\"middle\" x=\"234\" y=\"-14.3\" font-family=\"Times,serif\" font-size=\"14.00\">target</text>\n</g>\n<!-- EqualsAConstant&#45;&gt;target_G2 -->\n<g id=\"edge4\" class=\"edge\">\n<title>EqualsAConstant:e-&gt;target_G2:w</title>\n<path fill=\"none\" stroke=\"black\" d=\"M170,-34C187.22,-34 188.97,-19.23 204.98,-18.07\"/>\n<ellipse fill=\"black\" stroke=\"black\" cx=\"206\" cy=\"-18.04\" rx=\"1\" ry=\"1\"/>\n<text text-anchor=\"middle\" x=\"188.5\" y=\"-29\" font-family=\"Times,serif\" font-size=\"10.00\">1</text>\n</g>\n</g>\n</svg>",
          "text/plain": "<IPython.core.display.SVG object>"
         },
         "metadata": {},
         "output_type": "display_data"
        }
       ],
       "tabbable": null,
       "tooltip": null
      }
     },
     "ec02b04433dc4d04b63c06b9a499ac04": {
      "model_module": "@jupyter-widgets/controls",
      "model_module_version": "2.0.0",
      "model_name": "HBoxModel",
      "state": {
       "_dom_classes": [],
       "_model_module": "@jupyter-widgets/controls",
       "_model_module_version": "2.0.0",
       "_model_name": "HBoxModel",
       "_view_count": null,
       "_view_module": "@jupyter-widgets/controls",
       "_view_module_version": "2.0.0",
       "_view_name": "HBoxView",
       "box_style": "",
       "children": [
        "IPY_MODEL_2a8a71cdda794c1784cd2713fa5fec75",
        "IPY_MODEL_45e246f16316419c8670b3f7a20bc9d4"
       ],
       "layout": "IPY_MODEL_41a9d224407742e98f7eddb1e2ca7075",
       "tabbable": null,
       "tooltip": null
      }
     }
    },
    "version_major": 2,
    "version_minor": 0
   }
  }
 },
 "nbformat": 4,
 "nbformat_minor": 5
}
