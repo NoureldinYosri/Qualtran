{
 "cells": [
  {
   "cell_type": "markdown",
   "id": "8a2ef164",
   "metadata": {
    "cq.autogen": "title_cell"
   },
   "source": [
    "# Sign Extension"
   ]
  },
  {
   "cell_type": "code",
   "execution_count": 1,
   "id": "76be8def",
   "metadata": {
    "cq.autogen": "top_imports"
   },
   "outputs": [],
   "source": [
    "from qualtran import Bloq, CompositeBloq, BloqBuilder, Signature, Register\n",
    "from qualtran import QBit, QInt, QUInt, QAny\n",
    "from qualtran.drawing import show_bloq, show_call_graph, show_counts_sigma\n",
    "from typing import *\n",
    "import numpy as np\n",
    "import sympy\n",
    "import cirq"
   ]
  },
  {
   "cell_type": "markdown",
   "id": "283c1b7e",
   "metadata": {
    "cq.autogen": "SignExtend.bloq_doc.md"
   },
   "source": [
    "## `SignExtend`\n",
    "Sign-Extend a value to a value of larger bitsize.\n",
    "\n",
    "Useful to implement arithmetic operations with differing operand bitsizes.\n",
    "A sign extension copies the MSB into the new bits of the wider value. For\n",
    "example: a 4-bit to 6-bit sign-extension of `1010` gives `111010`.\n",
    "\n",
    "\n",
    "#### Parameters\n",
    " - `inp_dtype`: input data type.\n",
    " - `out_dtype`: output data type. must be same class as `inp_dtype`, and have larger bitsize. \n",
    "\n",
    "#### Registers\n",
    " - `x`: the input register of type `inp_dtype`\n",
    " - `y`: the output register of type `out_dtype`\n"
   ]
  },
  {
   "cell_type": "code",
   "execution_count": 2,
   "id": "6504d380",
   "metadata": {
    "cq.autogen": "SignExtend.bloq_doc.py"
   },
   "outputs": [],
   "source": [
    "from qualtran.bloqs.arithmetic import SignExtend"
   ]
  },
  {
   "cell_type": "markdown",
   "id": "9354fcdc",
   "metadata": {
    "cq.autogen": "SignExtend.example_instances.md"
   },
   "source": [
    "### Example Instances"
   ]
  },
  {
   "cell_type": "code",
   "execution_count": 3,
   "id": "30a40ff3",
   "metadata": {
    "cq.autogen": "SignExtend.sign_extend"
   },
   "outputs": [],
   "source": [
    "from qualtran import QInt\n",
    "\n",
    "sign_extend = SignExtend(QInt(8), QInt(16))"
   ]
  },
  {
   "cell_type": "code",
   "execution_count": 4,
   "id": "9e43e994",
   "metadata": {
    "cq.autogen": "SignExtend.sign_extend_fxp"
   },
   "outputs": [],
   "source": [
    "from qualtran import QFxp\n",
    "\n",
    "sign_extend_fxp = SignExtend(QFxp(8, 4, signed=True), QFxp(16, 4, signed=True))"
   ]
  },
  {
   "cell_type": "markdown",
   "id": "ae58afdf",
   "metadata": {
    "cq.autogen": "SignExtend.graphical_signature.md"
   },
   "source": [
    "#### Graphical Signature"
   ]
  },
  {
   "cell_type": "code",
   "execution_count": 5,
   "id": "2c96ebb1",
   "metadata": {
    "cq.autogen": "SignExtend.graphical_signature.py"
   },
   "outputs": [
    {
     "data": {
      "application/vnd.jupyter.widget-view+json": {
       "model_id": "a3fc16ef85d74a4c8d2e58f89440080b",
       "version_major": 2,
       "version_minor": 0
      },
      "text/plain": [
       "HBox(children=(Output(outputs=({'output_type': 'display_data', 'data': {'text/plain': '<IPython.core.display.M…"
      ]
     },
     "metadata": {},
     "output_type": "display_data"
    }
   ],
   "source": [
    "from qualtran.drawing import show_bloqs\n",
    "show_bloqs([sign_extend, sign_extend_fxp],\n",
    "           ['`sign_extend`', '`sign_extend_fxp`'])"
   ]
  },
  {
   "cell_type": "markdown",
   "id": "38f234ca",
   "metadata": {
    "cq.autogen": "SignExtend.call_graph.md"
   },
   "source": [
    "### Call Graph"
   ]
  },
  {
   "cell_type": "code",
   "execution_count": 6,
   "id": "094ebe4f",
   "metadata": {
    "cq.autogen": "SignExtend.call_graph.py"
   },
   "outputs": [
    {
     "data": {
      "image/svg+xml": [
       "<svg xmlns=\"http://www.w3.org/2000/svg\" xmlns:xlink=\"http://www.w3.org/1999/xlink\" width=\"301pt\" height=\"131pt\" viewBox=\"0.00 0.00 301.00 131.00\">\n",
       "<g id=\"graph0\" class=\"graph\" transform=\"scale(1 1) rotate(0) translate(4 127)\">\n",
       "<title>counts</title>\n",
       "<polygon fill=\"white\" stroke=\"transparent\" points=\"-4,4 -4,-127 297,-127 297,4 -4,4\"/>\n",
       "<!-- b0 -->\n",
       "<g id=\"node1\" class=\"node\">\n",
       "<title>b0</title>\n",
       "<polygon fill=\"none\" stroke=\"black\" points=\"293,-123 0,-123 0,-87 293,-87 293,-123\"/>\n",
       "<text text-anchor=\"start\" x=\"114.5\" y=\"-106.8\" font-family=\"Times,serif\" font-size=\"14.00\">SignExtend</text>\n",
       "<text text-anchor=\"start\" x=\"8\" y=\"-96\" font-family=\"monospace\" font-size=\"10.00\">inp_dtype=QInt(bit ..., out_dtype=QInt(bit ...</text>\n",
       "</g>\n",
       "<!-- b1 -->\n",
       "<g id=\"node2\" class=\"node\">\n",
       "<title>b1</title>\n",
       "<polygon fill=\"none\" stroke=\"black\" points=\"206,-36 87,-36 87,0 206,0 206,-36\"/>\n",
       "<text text-anchor=\"start\" x=\"95\" y=\"-19.8\" font-family=\"Times,serif\" font-size=\"14.00\">MultiTargetCNOT</text>\n",
       "<text text-anchor=\"start\" x=\"119\" y=\"-9\" font-family=\"monospace\" font-size=\"10.00\">bitsize=8</text>\n",
       "</g>\n",
       "<!-- b0&#45;&gt;b1 -->\n",
       "<g id=\"edge1\" class=\"edge\">\n",
       "<title>b0-&gt;b1</title>\n",
       "<path fill=\"none\" stroke=\"black\" d=\"M146.5,-86.8C146.5,-75.16 146.5,-59.55 146.5,-46.24\"/>\n",
       "<polygon fill=\"black\" stroke=\"black\" points=\"150,-46.18 146.5,-36.18 143,-46.18 150,-46.18\"/>\n",
       "<text text-anchor=\"middle\" x=\"150\" y=\"-57.8\" font-family=\"Times,serif\" font-size=\"14.00\">1</text>\n",
       "</g>\n",
       "</g>\n",
       "</svg>"
      ],
      "text/plain": [
       "<IPython.core.display.SVG object>"
      ]
     },
     "metadata": {},
     "output_type": "display_data"
    },
    {
     "data": {
      "text/markdown": [
       "#### Counts totals:\n",
       " - `MultiTargetCNOT`: 1"
      ],
      "text/plain": [
       "<IPython.core.display.Markdown object>"
      ]
     },
     "metadata": {},
     "output_type": "display_data"
    }
   ],
   "source": [
    "from qualtran.resource_counting.generalizers import ignore_split_join\n",
    "sign_extend_g, sign_extend_sigma = sign_extend.call_graph(max_depth=1, generalizer=ignore_split_join)\n",
    "show_call_graph(sign_extend_g)\n",
    "show_counts_sigma(sign_extend_sigma)"
   ]
  }
 ],
 "metadata": {
  "kernelspec": {
   "display_name": "Python 3",
   "language": "python",
   "name": "python3"
  },
  "language_info": {
   "codemirror_mode": {
    "name": "ipython",
    "version": 3
   },
   "file_extension": ".py",
   "mimetype": "text/x-python",
   "name": "python",
   "nbconvert_exporter": "python",
   "pygments_lexer": "ipython3",
   "version": "3.11.8"
  },
  "widgets": {
   "application/vnd.jupyter.widget-state+json": {
    "state": {
     "13fc79941f634efa8ca48e8e3ad37c40": {
      "model_module": "@jupyter-widgets/output",
      "model_module_version": "1.0.0",
      "model_name": "OutputModel",
      "state": {
       "_dom_classes": [],
       "_model_module": "@jupyter-widgets/output",
       "_model_module_version": "1.0.0",
       "_model_name": "OutputModel",
       "_view_count": null,
       "_view_module": "@jupyter-widgets/output",
       "_view_module_version": "1.0.0",
       "_view_name": "OutputView",
       "layout": "IPY_MODEL_42f54505da9749969abd5d339884e511",
       "msg_id": "",
       "outputs": [
        {
         "data": {
          "text/markdown": "`sign_extend`",
          "text/plain": "<IPython.core.display.Markdown object>"
         },
         "metadata": {},
         "output_type": "display_data"
        },
        {
         "data": {
          "image/svg+xml": "<svg xmlns=\"http://www.w3.org/2000/svg\" xmlns:xlink=\"http://www.w3.org/1999/xlink\" width=\"245pt\" height=\"76pt\" viewBox=\"0.00 0.00 245.00 75.50\">\n<g id=\"graph0\" class=\"graph\" transform=\"scale(1 1) rotate(0) translate(4 71.5)\">\n<title>my_graph</title>\n<polygon fill=\"white\" stroke=\"transparent\" points=\"-4,4 -4,-71.5 241,-71.5 241,4 -4,4\"/>\n<!-- x_G0 -->\n<g id=\"node1\" class=\"node\">\n<title>x_G0</title>\n<text text-anchor=\"middle\" x=\"27\" y=\"-36.3\" font-family=\"Times,serif\" font-size=\"14.00\">x</text>\n</g>\n<!-- SignExtend -->\n<g id=\"node2\" class=\"node\">\n<title>SignExtend</title>\n<polygon fill=\"none\" stroke=\"black\" points=\"91.5,-50 91.5,-67 146.5,-67 146.5,-50 91.5,-50\"/>\n<text text-anchor=\"start\" x=\"94.5\" y=\"-56\" font-family=\"Times,serif\" font-size=\"10.00\">SignExtend</text>\n<polygon fill=\"none\" stroke=\"black\" points=\"91.5,-29 91.5,-50 118.5,-50 118.5,-29 91.5,-29\"/>\n<text text-anchor=\"start\" x=\"101.5\" y=\"-35.8\" font-family=\"Times,serif\" font-size=\"14.00\">x</text>\n<polygon fill=\"none\" stroke=\"black\" points=\"118.5,-29 118.5,-50 146.5,-50 146.5,-29 118.5,-29\"/>\n<polygon fill=\"none\" stroke=\"black\" points=\"91.5,-8 91.5,-29 118.5,-29 118.5,-8 91.5,-8\"/>\n<polygon fill=\"none\" stroke=\"black\" points=\"118.5,-8 118.5,-29 146.5,-29 146.5,-8 118.5,-8\"/>\n<text text-anchor=\"start\" x=\"129\" y=\"-14.8\" font-family=\"Times,serif\" font-size=\"14.00\">y</text>\n</g>\n<!-- x_G0&#45;&gt;SignExtend -->\n<g id=\"edge1\" class=\"edge\">\n<title>x_G0:e-&gt;SignExtend:w</title>\n<path fill=\"none\" stroke=\"black\" d=\"M54,-40C69.67,-40 74.14,-40 88.77,-40\"/>\n<ellipse fill=\"black\" stroke=\"black\" cx=\"90\" cy=\"-40\" rx=\"1\" ry=\"1\"/>\n<text text-anchor=\"middle\" x=\"72.5\" y=\"-43\" font-family=\"Times,serif\" font-size=\"10.00\">8</text>\n</g>\n<!-- y_G3 -->\n<g id=\"node3\" class=\"node\">\n<title>y_G3</title>\n<text text-anchor=\"middle\" x=\"210\" y=\"-14.3\" font-family=\"Times,serif\" font-size=\"14.00\">y</text>\n</g>\n<!-- SignExtend&#45;&gt;y_G3 -->\n<g id=\"edge2\" class=\"edge\">\n<title>SignExtend:e-&gt;y_G3:w</title>\n<path fill=\"none\" stroke=\"black\" d=\"M146,-18C161.67,-18 166.14,-18 180.77,-18\"/>\n<ellipse fill=\"black\" stroke=\"black\" cx=\"182\" cy=\"-18\" rx=\"1\" ry=\"1\"/>\n<text text-anchor=\"middle\" x=\"164.5\" y=\"-21\" font-family=\"Times,serif\" font-size=\"10.00\">16</text>\n</g>\n</g>\n</svg>",
          "text/plain": "<IPython.core.display.SVG object>"
         },
         "metadata": {},
         "output_type": "display_data"
        }
       ],
       "tabbable": null,
       "tooltip": null
      }
     },
     "2d86f67e146b403cb9f8041549a40cb6": {
      "model_module": "@jupyter-widgets/base",
      "model_module_version": "2.0.0",
      "model_name": "LayoutModel",
      "state": {
       "_model_module": "@jupyter-widgets/base",
       "_model_module_version": "2.0.0",
       "_model_name": "LayoutModel",
       "_view_count": null,
       "_view_module": "@jupyter-widgets/base",
       "_view_module_version": "2.0.0",
       "_view_name": "LayoutView",
       "align_content": null,
       "align_items": null,
       "align_self": null,
       "border_bottom": null,
       "border_left": null,
       "border_right": null,
       "border_top": null,
       "bottom": null,
       "display": null,
       "flex": null,
       "flex_flow": null,
       "grid_area": null,
       "grid_auto_columns": null,
       "grid_auto_flow": null,
       "grid_auto_rows": null,
       "grid_column": null,
       "grid_gap": null,
       "grid_row": null,
       "grid_template_areas": null,
       "grid_template_columns": null,
       "grid_template_rows": null,
       "height": null,
       "justify_content": null,
       "justify_items": null,
       "left": null,
       "margin": null,
       "max_height": null,
       "max_width": null,
       "min_height": null,
       "min_width": null,
       "object_fit": null,
       "object_position": null,
       "order": null,
       "overflow": null,
       "padding": null,
       "right": null,
       "top": null,
       "visibility": null,
       "width": null
      }
     },
     "3b26b4b302d54423b2c5d7caa041e20b": {
      "model_module": "@jupyter-widgets/base",
      "model_module_version": "2.0.0",
      "model_name": "LayoutModel",
      "state": {
       "_model_module": "@jupyter-widgets/base",
       "_model_module_version": "2.0.0",
       "_model_name": "LayoutModel",
       "_view_count": null,
       "_view_module": "@jupyter-widgets/base",
       "_view_module_version": "2.0.0",
       "_view_name": "LayoutView",
       "align_content": null,
       "align_items": null,
       "align_self": null,
       "border_bottom": null,
       "border_left": null,
       "border_right": null,
       "border_top": null,
       "bottom": null,
       "display": null,
       "flex": null,
       "flex_flow": null,
       "grid_area": null,
       "grid_auto_columns": null,
       "grid_auto_flow": null,
       "grid_auto_rows": null,
       "grid_column": null,
       "grid_gap": null,
       "grid_row": null,
       "grid_template_areas": null,
       "grid_template_columns": null,
       "grid_template_rows": null,
       "height": null,
       "justify_content": null,
       "justify_items": null,
       "left": null,
       "margin": null,
       "max_height": null,
       "max_width": null,
       "min_height": null,
       "min_width": null,
       "object_fit": null,
       "object_position": null,
       "order": null,
       "overflow": null,
       "padding": null,
       "right": null,
       "top": null,
       "visibility": null,
       "width": null
      }
     },
     "3f9dbb41752644dd8bb68704592d245c": {
      "model_module": "@jupyter-widgets/output",
      "model_module_version": "1.0.0",
      "model_name": "OutputModel",
      "state": {
       "_dom_classes": [],
       "_model_module": "@jupyter-widgets/output",
       "_model_module_version": "1.0.0",
       "_model_name": "OutputModel",
       "_view_count": null,
       "_view_module": "@jupyter-widgets/output",
       "_view_module_version": "1.0.0",
       "_view_name": "OutputView",
       "layout": "IPY_MODEL_2d86f67e146b403cb9f8041549a40cb6",
       "msg_id": "",
       "outputs": [
        {
         "data": {
          "text/markdown": "`sign_extend_fxp`",
          "text/plain": "<IPython.core.display.Markdown object>"
         },
         "metadata": {},
         "output_type": "display_data"
        },
        {
         "data": {
          "image/svg+xml": "<svg xmlns=\"http://www.w3.org/2000/svg\" xmlns:xlink=\"http://www.w3.org/1999/xlink\" width=\"245pt\" height=\"76pt\" viewBox=\"0.00 0.00 245.00 75.50\">\n<g id=\"graph0\" class=\"graph\" transform=\"scale(1 1) rotate(0) translate(4 71.5)\">\n<title>my_graph</title>\n<polygon fill=\"white\" stroke=\"transparent\" points=\"-4,4 -4,-71.5 241,-71.5 241,4 -4,4\"/>\n<!-- x_G0 -->\n<g id=\"node1\" class=\"node\">\n<title>x_G0</title>\n<text text-anchor=\"middle\" x=\"27\" y=\"-36.3\" font-family=\"Times,serif\" font-size=\"14.00\">x</text>\n</g>\n<!-- SignExtend -->\n<g id=\"node2\" class=\"node\">\n<title>SignExtend</title>\n<polygon fill=\"none\" stroke=\"black\" points=\"91.5,-50 91.5,-67 146.5,-67 146.5,-50 91.5,-50\"/>\n<text text-anchor=\"start\" x=\"94.5\" y=\"-56\" font-family=\"Times,serif\" font-size=\"10.00\">SignExtend</text>\n<polygon fill=\"none\" stroke=\"black\" points=\"91.5,-29 91.5,-50 118.5,-50 118.5,-29 91.5,-29\"/>\n<text text-anchor=\"start\" x=\"101.5\" y=\"-35.8\" font-family=\"Times,serif\" font-size=\"14.00\">x</text>\n<polygon fill=\"none\" stroke=\"black\" points=\"118.5,-29 118.5,-50 146.5,-50 146.5,-29 118.5,-29\"/>\n<polygon fill=\"none\" stroke=\"black\" points=\"91.5,-8 91.5,-29 118.5,-29 118.5,-8 91.5,-8\"/>\n<polygon fill=\"none\" stroke=\"black\" points=\"118.5,-8 118.5,-29 146.5,-29 146.5,-8 118.5,-8\"/>\n<text text-anchor=\"start\" x=\"129\" y=\"-14.8\" font-family=\"Times,serif\" font-size=\"14.00\">y</text>\n</g>\n<!-- x_G0&#45;&gt;SignExtend -->\n<g id=\"edge1\" class=\"edge\">\n<title>x_G0:e-&gt;SignExtend:w</title>\n<path fill=\"none\" stroke=\"black\" d=\"M54,-40C69.67,-40 74.14,-40 88.77,-40\"/>\n<ellipse fill=\"black\" stroke=\"black\" cx=\"90\" cy=\"-40\" rx=\"1\" ry=\"1\"/>\n<text text-anchor=\"middle\" x=\"72.5\" y=\"-43\" font-family=\"Times,serif\" font-size=\"10.00\">8</text>\n</g>\n<!-- y_G3 -->\n<g id=\"node3\" class=\"node\">\n<title>y_G3</title>\n<text text-anchor=\"middle\" x=\"210\" y=\"-14.3\" font-family=\"Times,serif\" font-size=\"14.00\">y</text>\n</g>\n<!-- SignExtend&#45;&gt;y_G3 -->\n<g id=\"edge2\" class=\"edge\">\n<title>SignExtend:e-&gt;y_G3:w</title>\n<path fill=\"none\" stroke=\"black\" d=\"M146,-18C161.67,-18 166.14,-18 180.77,-18\"/>\n<ellipse fill=\"black\" stroke=\"black\" cx=\"182\" cy=\"-18\" rx=\"1\" ry=\"1\"/>\n<text text-anchor=\"middle\" x=\"164.5\" y=\"-21\" font-family=\"Times,serif\" font-size=\"10.00\">16</text>\n</g>\n</g>\n</svg>",
          "text/plain": "<IPython.core.display.SVG object>"
         },
         "metadata": {},
         "output_type": "display_data"
        }
       ],
       "tabbable": null,
       "tooltip": null
      }
     },
     "42f54505da9749969abd5d339884e511": {
      "model_module": "@jupyter-widgets/base",
      "model_module_version": "2.0.0",
      "model_name": "LayoutModel",
      "state": {
       "_model_module": "@jupyter-widgets/base",
       "_model_module_version": "2.0.0",
       "_model_name": "LayoutModel",
       "_view_count": null,
       "_view_module": "@jupyter-widgets/base",
       "_view_module_version": "2.0.0",
       "_view_name": "LayoutView",
       "align_content": null,
       "align_items": null,
       "align_self": null,
       "border_bottom": null,
       "border_left": null,
       "border_right": null,
       "border_top": null,
       "bottom": null,
       "display": null,
       "flex": null,
       "flex_flow": null,
       "grid_area": null,
       "grid_auto_columns": null,
       "grid_auto_flow": null,
       "grid_auto_rows": null,
       "grid_column": null,
       "grid_gap": null,
       "grid_row": null,
       "grid_template_areas": null,
       "grid_template_columns": null,
       "grid_template_rows": null,
       "height": null,
       "justify_content": null,
       "justify_items": null,
       "left": null,
       "margin": null,
       "max_height": null,
       "max_width": null,
       "min_height": null,
       "min_width": null,
       "object_fit": null,
       "object_position": null,
       "order": null,
       "overflow": null,
       "padding": null,
       "right": null,
       "top": null,
       "visibility": null,
       "width": null
      }
     },
     "a3fc16ef85d74a4c8d2e58f89440080b": {
      "model_module": "@jupyter-widgets/controls",
      "model_module_version": "2.0.0",
      "model_name": "HBoxModel",
      "state": {
       "_dom_classes": [],
       "_model_module": "@jupyter-widgets/controls",
       "_model_module_version": "2.0.0",
       "_model_name": "HBoxModel",
       "_view_count": null,
       "_view_module": "@jupyter-widgets/controls",
       "_view_module_version": "2.0.0",
       "_view_name": "HBoxView",
       "box_style": "",
       "children": [
        "IPY_MODEL_13fc79941f634efa8ca48e8e3ad37c40",
        "IPY_MODEL_3f9dbb41752644dd8bb68704592d245c"
       ],
       "layout": "IPY_MODEL_3b26b4b302d54423b2c5d7caa041e20b",
       "tabbable": null,
       "tooltip": null
      }
     }
    },
    "version_major": 2,
    "version_minor": 0
   }
  }
 },
 "nbformat": 4,
 "nbformat_minor": 5
}
