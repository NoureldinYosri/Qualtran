{
 "cells": [
  {
   "cell_type": "markdown",
   "id": "45ff0be8",
   "metadata": {
    "cq.autogen": "title_cell"
   },
   "source": [
    "# Multiplication"
   ]
  },
  {
   "cell_type": "code",
   "execution_count": 1,
   "id": "0bbda185",
   "metadata": {
    "cq.autogen": "top_imports"
   },
   "outputs": [],
   "source": [
    "from qualtran import Bloq, CompositeBloq, BloqBuilder, Signature, Register\n",
    "from qualtran import QBit, QInt, QUInt, QAny\n",
    "from qualtran.drawing import show_bloq, show_call_graph, show_counts_sigma\n",
    "from typing import *\n",
    "import numpy as np\n",
    "import sympy\n",
    "import cirq"
   ]
  },
  {
   "cell_type": "markdown",
   "id": "6449ea17",
   "metadata": {
    "cq.autogen": "PlusEqualProduct.bloq_doc.md"
   },
   "source": [
    "## `PlusEqualProduct`\n",
    "Performs result += a * b.\n",
    "\n",
    "#### Parameters\n",
    " - `a_bitsize`: bitsize of input `a`.\n",
    " - `b_bitsize`: bitsize of input `b`.\n",
    " - `result_bitsize`: bitsize of the output register.\n",
    " - `is_adjoint`: If true, performs `result -= a * b` instead. Defaults to False. \n",
    "\n",
    "#### Registers\n",
    " - `a`: QUInt of `a_bitsize` bits.\n",
    " - `b`: QUInt of `b_bitsize` bits.\n",
    " - `result`: QUInt of `result_bitsize` bits.\n"
   ]
  },
  {
   "cell_type": "code",
   "execution_count": 2,
   "id": "d9a48363",
   "metadata": {
    "cq.autogen": "PlusEqualProduct.bloq_doc.py"
   },
   "outputs": [],
   "source": [
    "from qualtran.bloqs.arithmetic import PlusEqualProduct"
   ]
  },
  {
   "cell_type": "markdown",
   "id": "3b03ae71",
   "metadata": {
    "cq.autogen": "PlusEqualProduct.example_instances.md"
   },
   "source": [
    "### Example Instances"
   ]
  },
  {
   "cell_type": "code",
   "execution_count": 3,
   "id": "a4c3b6cd",
   "metadata": {
    "cq.autogen": "PlusEqualProduct.plus_equal_product"
   },
   "outputs": [],
   "source": [
    "a_bit, b_bit, res_bit = 2, 2, 4\n",
    "plus_equal_product = PlusEqualProduct(a_bit, b_bit, res_bit)"
   ]
  },
  {
   "cell_type": "markdown",
   "id": "ec36b3e6",
   "metadata": {
    "cq.autogen": "PlusEqualProduct.graphical_signature.md"
   },
   "source": [
    "#### Graphical Signature"
   ]
  },
  {
   "cell_type": "markdown",
   "id": "a20877dc",
   "metadata": {
    "cq.autogen": "PlusEqualProduct.call_graph.md"
   },
   "source": [
    "### Call Graph"
   ]
  },
  {
   "cell_type": "code",
   "execution_count": 4,
   "id": "e838de84",
   "metadata": {
    "cq.autogen": "PlusEqualProduct.call_graph.py"
   },
   "outputs": [
    {
     "data": {
      "image/svg+xml": [
       "<svg xmlns=\"http://www.w3.org/2000/svg\" xmlns:xlink=\"http://www.w3.org/1999/xlink\" width=\"385pt\" height=\"131pt\" viewBox=\"0.00 0.00 385.00 131.00\">\n",
       "<g id=\"graph0\" class=\"graph\" transform=\"scale(1 1) rotate(0) translate(4 127)\">\n",
       "<title>counts</title>\n",
       "<polygon fill=\"white\" stroke=\"transparent\" points=\"-4,4 -4,-127 381,-127 381,4 -4,4\"/>\n",
       "<!-- b0 -->\n",
       "<g id=\"node1\" class=\"node\">\n",
       "<title>b0</title>\n",
       "<polygon fill=\"none\" stroke=\"black\" points=\"377,-123 0,-123 0,-87 377,-87 377,-123\"/>\n",
       "<text text-anchor=\"start\" x=\"151.5\" y=\"-106.8\" font-family=\"Times,serif\" font-size=\"14.00\">result += a*b</text>\n",
       "<text text-anchor=\"start\" x=\"8\" y=\"-96\" font-family=\"monospace\" font-size=\"10.00\">a_bitsize=2, b_bitsize=2, result_bitsize=4, is_adjoint=False</text>\n",
       "</g>\n",
       "<!-- b1 -->\n",
       "<g id=\"node2\" class=\"node\">\n",
       "<title>b1</title>\n",
       "<polygon fill=\"none\" stroke=\"black\" points=\"245,-36 132,-36 132,0 245,0 245,-36\"/>\n",
       "<text text-anchor=\"start\" x=\"184\" y=\"-19.8\" font-family=\"Times,serif\" font-size=\"14.00\">T</text>\n",
       "<text text-anchor=\"start\" x=\"140\" y=\"-9\" font-family=\"monospace\" font-size=\"10.00\">is_adjoint=False</text>\n",
       "</g>\n",
       "<!-- b0&#45;&gt;b1 -->\n",
       "<g id=\"edge1\" class=\"edge\">\n",
       "<title>b0-&gt;b1</title>\n",
       "<path fill=\"none\" stroke=\"black\" d=\"M188.5,-86.8C188.5,-75.16 188.5,-59.55 188.5,-46.24\"/>\n",
       "<polygon fill=\"black\" stroke=\"black\" points=\"192,-46.18 188.5,-36.18 185,-46.18 192,-46.18\"/>\n",
       "<text text-anchor=\"middle\" x=\"195.5\" y=\"-57.8\" font-family=\"Times,serif\" font-size=\"14.00\">32</text>\n",
       "</g>\n",
       "</g>\n",
       "</svg>"
      ],
      "text/plain": [
       "<IPython.core.display.SVG object>"
      ]
     },
     "metadata": {},
     "output_type": "display_data"
    },
    {
     "data": {
      "text/markdown": [
       "#### Counts totals:\n",
       " - `T`: 32"
      ],
      "text/plain": [
       "<IPython.core.display.Markdown object>"
      ]
     },
     "metadata": {},
     "output_type": "display_data"
    }
   ],
   "source": [
    "from qualtran.resource_counting.generalizers import ignore_split_join\n",
    "plus_equal_product_g, plus_equal_product_sigma = plus_equal_product.call_graph(max_depth=1, generalizer=ignore_split_join)\n",
    "show_call_graph(plus_equal_product_g)\n",
    "show_counts_sigma(plus_equal_product_sigma)"
   ]
  },
  {
   "cell_type": "markdown",
   "id": "d80c7a3a",
   "metadata": {
    "cq.autogen": "Product.bloq_doc.md"
   },
   "source": [
    "## `Product`\n",
    "Compute the product of an `n` and `m` bit binary number.\n",
    "\n",
    "Implements $U|a\\rangle|b\\rangle|0\\rangle \\rightarrow\n",
    "|a\\rangle|b\\rangle|a\\times b\\rangle$ using $2nm-n$ Toffolis.\n",
    "\n",
    "#### Parameters\n",
    " - `a_bitsize`: Number of bits used to represent the first integer.\n",
    " - `b_bitsize`: Number of bits used to represent the second integer. \n",
    "\n",
    "#### Registers\n",
    " - `a`: a_bitsize-sized input register.\n",
    " - `b`: b_bitsize-sized input register.\n",
    " - `result`: A 2*`max(a_bitsize, b_bitsize)` bit-sized output register to store the result a*b. \n",
    "\n",
    "#### References\n",
    " - [Fault-Tolerant Quantum Simulations of Chemistry in First Quantization](https://arxiv.org/abs/2105.12767). pg 81 gives a Toffoli complexity for multiplying two numbers.\n"
   ]
  },
  {
   "cell_type": "code",
   "execution_count": 5,
   "id": "b9474c15",
   "metadata": {
    "cq.autogen": "Product.bloq_doc.py"
   },
   "outputs": [],
   "source": [
    "from qualtran.bloqs.arithmetic import Product"
   ]
  },
  {
   "cell_type": "markdown",
   "id": "8c66a5ee",
   "metadata": {
    "cq.autogen": "Product.example_instances.md"
   },
   "source": [
    "### Example Instances"
   ]
  },
  {
   "cell_type": "code",
   "execution_count": 6,
   "id": "dc021736",
   "metadata": {
    "cq.autogen": "Product.product"
   },
   "outputs": [],
   "source": [
    "product = Product(a_bitsize=4, b_bitsize=6)"
   ]
  },
  {
   "cell_type": "markdown",
   "id": "a567e14b",
   "metadata": {
    "cq.autogen": "Product.graphical_signature.md"
   },
   "source": [
    "#### Graphical Signature"
   ]
  },
  {
   "cell_type": "code",
   "execution_count": 7,
   "id": "a726ecb3",
   "metadata": {
    "cq.autogen": "Product.graphical_signature.py"
   },
   "outputs": [
    {
     "data": {
      "application/vnd.jupyter.widget-view+json": {
       "model_id": "64886cb957ae4fff99940d72dde501a1",
       "version_major": 2,
       "version_minor": 0
      },
      "text/plain": [
       "HBox(children=(Output(outputs=({'output_type': 'display_data', 'data': {'text/plain': '<IPython.core.display.M…"
      ]
     },
     "metadata": {},
     "output_type": "display_data"
    }
   ],
   "source": [
    "from qualtran.drawing import show_bloqs\n",
    "show_bloqs([product],\n",
    "           ['`product`'])"
   ]
  },
  {
   "cell_type": "markdown",
   "id": "805f21e5",
   "metadata": {
    "cq.autogen": "Product.call_graph.md"
   },
   "source": [
    "### Call Graph"
   ]
  },
  {
   "cell_type": "code",
   "execution_count": 8,
   "id": "96c26635",
   "metadata": {
    "cq.autogen": "Product.call_graph.py"
   },
   "outputs": [
    {
     "data": {
      "image/svg+xml": [
       "<svg xmlns=\"http://www.w3.org/2000/svg\" xmlns:xlink=\"http://www.w3.org/1999/xlink\" width=\"169pt\" height=\"131pt\" viewBox=\"0.00 0.00 169.00 131.00\">\n",
       "<g id=\"graph0\" class=\"graph\" transform=\"scale(1 1) rotate(0) translate(4 127)\">\n",
       "<title>counts</title>\n",
       "<polygon fill=\"white\" stroke=\"transparent\" points=\"-4,4 -4,-127 165,-127 165,4 -4,4\"/>\n",
       "<!-- b0 -->\n",
       "<g id=\"node1\" class=\"node\">\n",
       "<title>b0</title>\n",
       "<polygon fill=\"none\" stroke=\"black\" points=\"161,-123 0,-123 0,-87 161,-87 161,-123\"/>\n",
       "<text text-anchor=\"start\" x=\"70.5\" y=\"-106.8\" font-family=\"Times,serif\" font-size=\"14.00\">a*b</text>\n",
       "<text text-anchor=\"start\" x=\"8\" y=\"-96\" font-family=\"monospace\" font-size=\"10.00\">a_bitsize=4, b_bitsize=6</text>\n",
       "</g>\n",
       "<!-- b1 -->\n",
       "<g id=\"node2\" class=\"node\">\n",
       "<title>b1</title>\n",
       "<polygon fill=\"none\" stroke=\"black\" points=\"108,-36 53,-36 53,0 108,0 108,-36\"/>\n",
       "<text text-anchor=\"start\" x=\"61\" y=\"-14.3\" font-family=\"Times,serif\" font-size=\"14.00\">Toffoli</text>\n",
       "</g>\n",
       "<!-- b0&#45;&gt;b1 -->\n",
       "<g id=\"edge1\" class=\"edge\">\n",
       "<title>b0-&gt;b1</title>\n",
       "<path fill=\"none\" stroke=\"black\" d=\"M80.5,-86.8C80.5,-75.16 80.5,-59.55 80.5,-46.24\"/>\n",
       "<polygon fill=\"black\" stroke=\"black\" points=\"84,-46.18 80.5,-36.18 77,-46.18 84,-46.18\"/>\n",
       "<text text-anchor=\"middle\" x=\"87.5\" y=\"-57.8\" font-family=\"Times,serif\" font-size=\"14.00\">42</text>\n",
       "</g>\n",
       "</g>\n",
       "</svg>"
      ],
      "text/plain": [
       "<IPython.core.display.SVG object>"
      ]
     },
     "metadata": {},
     "output_type": "display_data"
    },
    {
     "data": {
      "text/markdown": [
       "#### Counts totals:\n",
       " - `Toffoli`: 42"
      ],
      "text/plain": [
       "<IPython.core.display.Markdown object>"
      ]
     },
     "metadata": {},
     "output_type": "display_data"
    }
   ],
   "source": [
    "from qualtran.resource_counting.generalizers import ignore_split_join\n",
    "product_g, product_sigma = product.call_graph(max_depth=1, generalizer=ignore_split_join)\n",
    "show_call_graph(product_g)\n",
    "show_counts_sigma(product_sigma)"
   ]
  },
  {
   "cell_type": "markdown",
   "id": "28db7d6c",
   "metadata": {
    "cq.autogen": "Square.bloq_doc.md"
   },
   "source": [
    "## `Square`\n",
    "Square an n-bit binary number.\n",
    "\n",
    "Implements $U|a\\rangle|0\\rangle \\rightarrow |a\\rangle|a^2\\rangle$ using $n^2 - n$ Toffolis.\n",
    "\n",
    "#### Parameters\n",
    " - `bitsize`: Number of bits used to represent the integer to be squared. The result is stored in a register of size 2*bitsize. \n",
    "\n",
    "#### Registers\n",
    " - `a`: A bitsize-sized input register (register a above).\n",
    " - `result`: A 2-bitsize-sized input/output register. \n",
    "\n",
    "#### References\n",
    " - [Fault-Tolerant Quantum Simulations of Chemistry in First Quantization](https://arxiv.org/abs/2105.12767). pg 76 for Toffoli complexity.\n"
   ]
  },
  {
   "cell_type": "code",
   "execution_count": 9,
   "id": "b9c9b141",
   "metadata": {
    "cq.autogen": "Square.bloq_doc.py"
   },
   "outputs": [],
   "source": [
    "from qualtran.bloqs.arithmetic import Square"
   ]
  },
  {
   "cell_type": "markdown",
   "id": "2f2fa4cb",
   "metadata": {
    "cq.autogen": "Square.example_instances.md"
   },
   "source": [
    "### Example Instances"
   ]
  },
  {
   "cell_type": "code",
   "execution_count": 10,
   "id": "74f0c312",
   "metadata": {
    "cq.autogen": "Square.square"
   },
   "outputs": [],
   "source": [
    "square = Square(bitsize=8)"
   ]
  },
  {
   "cell_type": "markdown",
   "id": "af4d7c44",
   "metadata": {
    "cq.autogen": "Square.graphical_signature.md"
   },
   "source": [
    "#### Graphical Signature"
   ]
  },
  {
   "cell_type": "code",
   "execution_count": 11,
   "id": "d1fb05e3",
   "metadata": {
    "cq.autogen": "Square.graphical_signature.py"
   },
   "outputs": [
    {
     "data": {
      "application/vnd.jupyter.widget-view+json": {
       "model_id": "08bd0be200e849aea42358d8ced88b6e",
       "version_major": 2,
       "version_minor": 0
      },
      "text/plain": [
       "HBox(children=(Output(outputs=({'output_type': 'display_data', 'data': {'text/plain': '<IPython.core.display.M…"
      ]
     },
     "metadata": {},
     "output_type": "display_data"
    }
   ],
   "source": [
    "from qualtran.drawing import show_bloqs\n",
    "show_bloqs([square],\n",
    "           ['`square`'])"
   ]
  },
  {
   "cell_type": "markdown",
   "id": "61ad10d5",
   "metadata": {
    "cq.autogen": "Square.call_graph.md"
   },
   "source": [
    "### Call Graph"
   ]
  },
  {
   "cell_type": "code",
   "execution_count": 12,
   "id": "f899d345",
   "metadata": {
    "cq.autogen": "Square.call_graph.py"
   },
   "outputs": [
    {
     "data": {
      "image/svg+xml": [
       "<svg xmlns=\"http://www.w3.org/2000/svg\" xmlns:xlink=\"http://www.w3.org/1999/xlink\" width=\"181pt\" height=\"131pt\" viewBox=\"0.00 0.00 181.00 131.00\">\n",
       "<g id=\"graph0\" class=\"graph\" transform=\"scale(1 1) rotate(0) translate(4 127)\">\n",
       "<title>counts</title>\n",
       "<polygon fill=\"white\" stroke=\"transparent\" points=\"-4,4 -4,-127 177,-127 177,4 -4,4\"/>\n",
       "<!-- b0 -->\n",
       "<g id=\"node1\" class=\"node\">\n",
       "<title>b0</title>\n",
       "<polygon fill=\"none\" stroke=\"black\" points=\"173,-123 0,-123 0,-87 173,-87 173,-123\"/>\n",
       "<text text-anchor=\"start\" x=\"76.5\" y=\"-106.8\" font-family=\"Times,serif\" font-size=\"14.00\">a^2</text>\n",
       "<text text-anchor=\"start\" x=\"8\" y=\"-96\" font-family=\"monospace\" font-size=\"10.00\">bitsize=8, uncompute=False</text>\n",
       "</g>\n",
       "<!-- b1 -->\n",
       "<g id=\"node2\" class=\"node\">\n",
       "<title>b1</title>\n",
       "<polygon fill=\"none\" stroke=\"black\" points=\"114,-36 59,-36 59,0 114,0 114,-36\"/>\n",
       "<text text-anchor=\"start\" x=\"67\" y=\"-14.3\" font-family=\"Times,serif\" font-size=\"14.00\">Toffoli</text>\n",
       "</g>\n",
       "<!-- b0&#45;&gt;b1 -->\n",
       "<g id=\"edge1\" class=\"edge\">\n",
       "<title>b0-&gt;b1</title>\n",
       "<path fill=\"none\" stroke=\"black\" d=\"M86.5,-86.8C86.5,-75.16 86.5,-59.55 86.5,-46.24\"/>\n",
       "<polygon fill=\"black\" stroke=\"black\" points=\"90,-46.18 86.5,-36.18 83,-46.18 90,-46.18\"/>\n",
       "<text text-anchor=\"middle\" x=\"93.5\" y=\"-57.8\" font-family=\"Times,serif\" font-size=\"14.00\">56</text>\n",
       "</g>\n",
       "</g>\n",
       "</svg>"
      ],
      "text/plain": [
       "<IPython.core.display.SVG object>"
      ]
     },
     "metadata": {},
     "output_type": "display_data"
    },
    {
     "data": {
      "text/markdown": [
       "#### Counts totals:\n",
       " - `Toffoli`: 56"
      ],
      "text/plain": [
       "<IPython.core.display.Markdown object>"
      ]
     },
     "metadata": {},
     "output_type": "display_data"
    }
   ],
   "source": [
    "from qualtran.resource_counting.generalizers import ignore_split_join\n",
    "square_g, square_sigma = square.call_graph(max_depth=1, generalizer=ignore_split_join)\n",
    "show_call_graph(square_g)\n",
    "show_counts_sigma(square_sigma)"
   ]
  },
  {
   "cell_type": "markdown",
   "id": "b8cb3d26",
   "metadata": {
    "cq.autogen": "SumOfSquares.bloq_doc.md"
   },
   "source": [
    "## `SumOfSquares`\n",
    "Compute the sum of squares of k n-bit binary numbers.\n",
    "\n",
    "Implements $U|a\\rangle|b\\rangle\\dots k\\rangle|0\\rangle \\rightarrow\n",
    "    |a\\rangle|b\\rangle\\dots|k\\rangle|a^2+b^2+\\dots k^2\\rangle$ using\n",
    "    $4 k n^2 T$ gates.\n",
    "\n",
    "The number of bits required by the output register is 2*bitsize + ceil(log2(k)).\n",
    "\n",
    "#### Parameters\n",
    " - `bitsize`: Number of bits used to represent each of the k integers.\n",
    " - `k`: The number of integers we want to square. \n",
    "\n",
    "#### Registers\n",
    " - `input`: k n-bit registers.\n",
    " - `result`: 2 * bitsize + ceil(log2(k)) sized output register. \n",
    "\n",
    "#### References\n",
    " - [Fault-Tolerant Quantum Simulations of Chemistry in First Quantization](https://arxiv.org/abs/2105.12767). pg 80 gives a Toffoli complexity for squaring.\n"
   ]
  },
  {
   "cell_type": "code",
   "execution_count": 13,
   "id": "c67129b2",
   "metadata": {
    "cq.autogen": "SumOfSquares.bloq_doc.py"
   },
   "outputs": [],
   "source": [
    "from qualtran.bloqs.arithmetic import SumOfSquares"
   ]
  },
  {
   "cell_type": "markdown",
   "id": "d7c136d2",
   "metadata": {
    "cq.autogen": "SumOfSquares.example_instances.md"
   },
   "source": [
    "### Example Instances"
   ]
  },
  {
   "cell_type": "code",
   "execution_count": 14,
   "id": "9398c94f",
   "metadata": {
    "cq.autogen": "SumOfSquares.sum_of_squares"
   },
   "outputs": [],
   "source": [
    "sum_of_squares = SumOfSquares(bitsize=8, k=4)"
   ]
  },
  {
   "cell_type": "markdown",
   "id": "3d954684",
   "metadata": {
    "cq.autogen": "SumOfSquares.graphical_signature.md"
   },
   "source": [
    "#### Graphical Signature"
   ]
  },
  {
   "cell_type": "code",
   "execution_count": 15,
   "id": "5d15b935",
   "metadata": {
    "cq.autogen": "SumOfSquares.graphical_signature.py"
   },
   "outputs": [
    {
     "data": {
      "application/vnd.jupyter.widget-view+json": {
       "model_id": "192718c61e2d4107a7b6c4dc3304aec6",
       "version_major": 2,
       "version_minor": 0
      },
      "text/plain": [
       "HBox(children=(Output(outputs=({'output_type': 'display_data', 'data': {'text/plain': '<IPython.core.display.M…"
      ]
     },
     "metadata": {},
     "output_type": "display_data"
    }
   ],
   "source": [
    "from qualtran.drawing import show_bloqs\n",
    "show_bloqs([sum_of_squares],\n",
    "           ['`sum_of_squares`'])"
   ]
  },
  {
   "cell_type": "markdown",
   "id": "45fc4f90",
   "metadata": {
    "cq.autogen": "SumOfSquares.call_graph.md"
   },
   "source": [
    "### Call Graph"
   ]
  },
  {
   "cell_type": "code",
   "execution_count": 16,
   "id": "a79cf488",
   "metadata": {
    "cq.autogen": "SumOfSquares.call_graph.py"
   },
   "outputs": [
    {
     "data": {
      "image/svg+xml": [
       "<svg xmlns=\"http://www.w3.org/2000/svg\" xmlns:xlink=\"http://www.w3.org/1999/xlink\" width=\"109pt\" height=\"131pt\" viewBox=\"0.00 0.00 109.00 131.00\">\n",
       "<g id=\"graph0\" class=\"graph\" transform=\"scale(1 1) rotate(0) translate(4 127)\">\n",
       "<title>counts</title>\n",
       "<polygon fill=\"white\" stroke=\"transparent\" points=\"-4,4 -4,-127 105,-127 105,4 -4,4\"/>\n",
       "<!-- b0 -->\n",
       "<g id=\"node1\" class=\"node\">\n",
       "<title>b0</title>\n",
       "<polygon fill=\"none\" stroke=\"black\" points=\"101,-123 0,-123 0,-87 101,-87 101,-123\"/>\n",
       "<text text-anchor=\"start\" x=\"38\" y=\"-106.8\" font-family=\"Times,serif\" font-size=\"14.00\">SOS</text>\n",
       "<text text-anchor=\"start\" x=\"8\" y=\"-96\" font-family=\"monospace\" font-size=\"10.00\">bitsize=8, k=4</text>\n",
       "</g>\n",
       "<!-- b1 -->\n",
       "<g id=\"node2\" class=\"node\">\n",
       "<title>b1</title>\n",
       "<polygon fill=\"none\" stroke=\"black\" points=\"78,-36 23,-36 23,0 78,0 78,-36\"/>\n",
       "<text text-anchor=\"start\" x=\"31\" y=\"-14.3\" font-family=\"Times,serif\" font-size=\"14.00\">Toffoli</text>\n",
       "</g>\n",
       "<!-- b0&#45;&gt;b1 -->\n",
       "<g id=\"edge1\" class=\"edge\">\n",
       "<title>b0-&gt;b1</title>\n",
       "<path fill=\"none\" stroke=\"black\" d=\"M50.5,-86.8C50.5,-75.16 50.5,-59.55 50.5,-46.24\"/>\n",
       "<polygon fill=\"black\" stroke=\"black\" points=\"54,-46.18 50.5,-36.18 47,-46.18 54,-46.18\"/>\n",
       "<text text-anchor=\"middle\" x=\"61\" y=\"-57.8\" font-family=\"Times,serif\" font-size=\"14.00\">248</text>\n",
       "</g>\n",
       "</g>\n",
       "</svg>"
      ],
      "text/plain": [
       "<IPython.core.display.SVG object>"
      ]
     },
     "metadata": {},
     "output_type": "display_data"
    },
    {
     "data": {
      "text/markdown": [
       "#### Counts totals:\n",
       " - `Toffoli`: 248"
      ],
      "text/plain": [
       "<IPython.core.display.Markdown object>"
      ]
     },
     "metadata": {},
     "output_type": "display_data"
    }
   ],
   "source": [
    "from qualtran.resource_counting.generalizers import ignore_split_join\n",
    "sum_of_squares_g, sum_of_squares_sigma = sum_of_squares.call_graph(max_depth=1, generalizer=ignore_split_join)\n",
    "show_call_graph(sum_of_squares_g)\n",
    "show_counts_sigma(sum_of_squares_sigma)"
   ]
  },
  {
   "cell_type": "markdown",
   "id": "263d02db",
   "metadata": {
    "cq.autogen": "ScaleIntByReal.bloq_doc.md"
   },
   "source": [
    "## `ScaleIntByReal`\n",
    "Scale an integer by fixed-point representation of a real number.\n",
    "\n",
    "i.e.\n",
    "\n",
    "$$\n",
    "    |r\\rangle|i\\rangle|0\\rangle \\rightarrow |r\\rangle|i\\rangle|r \\times i\\rangle\n",
    "$$\n",
    "\n",
    "The real number is assumed to be in the range [0, 1).\n",
    "\n",
    "#### Parameters\n",
    " - `r_bitsize`: Number of bits used to represent the real number.\n",
    " - `i_bitsize`: Number of bits used to represent the integer. \n",
    "\n",
    "#### Registers\n",
    " - `real_in`: r_bitsize-sized input fixed-point register.\n",
    " - `int_in`: i_bitsize-sized input register.\n",
    " - `result`: a r_bitsize sized output fixed-point register. \n",
    "\n",
    "#### References\n",
    " - [Compilation of Fault-Tolerant Quantum Heuristics for Combinatorial Optimization](     https://arxiv.org/pdf/2007.07391.pdf) pg 70.\n"
   ]
  },
  {
   "cell_type": "code",
   "execution_count": 17,
   "id": "5b7ae7b1",
   "metadata": {
    "cq.autogen": "ScaleIntByReal.bloq_doc.py"
   },
   "outputs": [],
   "source": [
    "from qualtran.bloqs.arithmetic import ScaleIntByReal"
   ]
  },
  {
   "cell_type": "markdown",
   "id": "1afc0f65",
   "metadata": {
    "cq.autogen": "ScaleIntByReal.example_instances.md"
   },
   "source": [
    "### Example Instances"
   ]
  },
  {
   "cell_type": "code",
   "execution_count": 18,
   "id": "97276ea9",
   "metadata": {
    "cq.autogen": "ScaleIntByReal.scale_int_by_real"
   },
   "outputs": [],
   "source": [
    "scale_int_by_real = ScaleIntByReal(r_bitsize=12, i_bitsize=4)"
   ]
  },
  {
   "cell_type": "markdown",
   "id": "d46ee13e",
   "metadata": {
    "cq.autogen": "ScaleIntByReal.graphical_signature.md"
   },
   "source": [
    "#### Graphical Signature"
   ]
  },
  {
   "cell_type": "code",
   "execution_count": 19,
   "id": "b0f3c38b",
   "metadata": {
    "cq.autogen": "ScaleIntByReal.graphical_signature.py"
   },
   "outputs": [
    {
     "data": {
      "application/vnd.jupyter.widget-view+json": {
       "model_id": "544f7b20ce0647589400e89ca76b754b",
       "version_major": 2,
       "version_minor": 0
      },
      "text/plain": [
       "HBox(children=(Output(outputs=({'output_type': 'display_data', 'data': {'text/plain': '<IPython.core.display.M…"
      ]
     },
     "metadata": {},
     "output_type": "display_data"
    }
   ],
   "source": [
    "from qualtran.drawing import show_bloqs\n",
    "show_bloqs([scale_int_by_real],\n",
    "           ['`scale_int_by_real`'])"
   ]
  },
  {
   "cell_type": "markdown",
   "id": "b4ea9935",
   "metadata": {
    "cq.autogen": "ScaleIntByReal.call_graph.md"
   },
   "source": [
    "### Call Graph"
   ]
  },
  {
   "cell_type": "code",
   "execution_count": 20,
   "id": "b3364d83",
   "metadata": {
    "cq.autogen": "ScaleIntByReal.call_graph.py"
   },
   "outputs": [
    {
     "data": {
      "image/svg+xml": [
       "<svg xmlns=\"http://www.w3.org/2000/svg\" xmlns:xlink=\"http://www.w3.org/1999/xlink\" width=\"175pt\" height=\"131pt\" viewBox=\"0.00 0.00 175.00 131.00\">\n",
       "<g id=\"graph0\" class=\"graph\" transform=\"scale(1 1) rotate(0) translate(4 127)\">\n",
       "<title>counts</title>\n",
       "<polygon fill=\"white\" stroke=\"transparent\" points=\"-4,4 -4,-127 171,-127 171,4 -4,4\"/>\n",
       "<!-- b0 -->\n",
       "<g id=\"node1\" class=\"node\">\n",
       "<title>b0</title>\n",
       "<polygon fill=\"none\" stroke=\"black\" points=\"167,-123 0,-123 0,-87 167,-87 167,-123\"/>\n",
       "<text text-anchor=\"start\" x=\"75.5\" y=\"-106.8\" font-family=\"Times,serif\" font-size=\"14.00\">r*i</text>\n",
       "<text text-anchor=\"start\" x=\"8\" y=\"-96\" font-family=\"monospace\" font-size=\"10.00\">r_bitsize=12, i_bitsize=4</text>\n",
       "</g>\n",
       "<!-- b1 -->\n",
       "<g id=\"node2\" class=\"node\">\n",
       "<title>b1</title>\n",
       "<polygon fill=\"none\" stroke=\"black\" points=\"111,-36 56,-36 56,0 111,0 111,-36\"/>\n",
       "<text text-anchor=\"start\" x=\"64\" y=\"-14.3\" font-family=\"Times,serif\" font-size=\"14.00\">Toffoli</text>\n",
       "</g>\n",
       "<!-- b0&#45;&gt;b1 -->\n",
       "<g id=\"edge1\" class=\"edge\">\n",
       "<title>b0-&gt;b1</title>\n",
       "<path fill=\"none\" stroke=\"black\" d=\"M83.5,-86.8C83.5,-75.16 83.5,-59.55 83.5,-46.24\"/>\n",
       "<polygon fill=\"black\" stroke=\"black\" points=\"87,-46.18 83.5,-36.18 80,-46.18 87,-46.18\"/>\n",
       "<text text-anchor=\"middle\" x=\"90.5\" y=\"-57.8\" font-family=\"Times,serif\" font-size=\"14.00\">68</text>\n",
       "</g>\n",
       "</g>\n",
       "</svg>"
      ],
      "text/plain": [
       "<IPython.core.display.SVG object>"
      ]
     },
     "metadata": {},
     "output_type": "display_data"
    },
    {
     "data": {
      "text/markdown": [
       "#### Counts totals:\n",
       " - `Toffoli`: 68"
      ],
      "text/plain": [
       "<IPython.core.display.Markdown object>"
      ]
     },
     "metadata": {},
     "output_type": "display_data"
    }
   ],
   "source": [
    "from qualtran.resource_counting.generalizers import ignore_split_join\n",
    "scale_int_by_real_g, scale_int_by_real_sigma = scale_int_by_real.call_graph(max_depth=1, generalizer=ignore_split_join)\n",
    "show_call_graph(scale_int_by_real_g)\n",
    "show_counts_sigma(scale_int_by_real_sigma)"
   ]
  },
  {
   "cell_type": "markdown",
   "id": "09dcd608",
   "metadata": {
    "cq.autogen": "MultiplyTwoReals.bloq_doc.md"
   },
   "source": [
    "## `MultiplyTwoReals`\n",
    "Multiply two fixed-point representations of real numbers\n",
    "\n",
    "i.e.\n",
    "\n",
    "$$\n",
    "    |a\\rangle|b\\rangle|0\\rangle \\rightarrow |a\\rangle|b\\rangle|a \\times b\\rangle\n",
    "$$\n",
    "\n",
    "The real numbers are assumed to be in the range [0, 1).\n",
    "\n",
    "#### Parameters\n",
    " - `bitsize`: Number of bits used to represent the real number. \n",
    "\n",
    "#### Registers\n",
    " - `a`: bitsize-sized input register.\n",
    " - `b`: bitsize-sized input register.\n",
    " - `result`: bitsize output register \n",
    "\n",
    "#### References\n",
    " - [Compilation of Fault-Tolerant Quantum Heuristics for Combinatorial Optimization](https://arxiv.org/abs/2007.07391). Appendix D. Section 5. (p. 71).\n"
   ]
  },
  {
   "cell_type": "code",
   "execution_count": 21,
   "id": "fc413fbc",
   "metadata": {
    "cq.autogen": "MultiplyTwoReals.bloq_doc.py"
   },
   "outputs": [],
   "source": [
    "from qualtran.bloqs.arithmetic import MultiplyTwoReals"
   ]
  },
  {
   "cell_type": "markdown",
   "id": "766c68e4",
   "metadata": {
    "cq.autogen": "MultiplyTwoReals.example_instances.md"
   },
   "source": [
    "### Example Instances"
   ]
  },
  {
   "cell_type": "code",
   "execution_count": 22,
   "id": "2e090bbf",
   "metadata": {
    "cq.autogen": "MultiplyTwoReals.multiply_two_reals"
   },
   "outputs": [],
   "source": [
    "multiply_two_reals = MultiplyTwoReals(bitsize=10)"
   ]
  },
  {
   "cell_type": "markdown",
   "id": "b9322b48",
   "metadata": {
    "cq.autogen": "MultiplyTwoReals.graphical_signature.md"
   },
   "source": [
    "#### Graphical Signature"
   ]
  },
  {
   "cell_type": "code",
   "execution_count": 23,
   "id": "85940d98",
   "metadata": {
    "cq.autogen": "MultiplyTwoReals.graphical_signature.py"
   },
   "outputs": [
    {
     "data": {
      "application/vnd.jupyter.widget-view+json": {
       "model_id": "b6a12399026747f9a10556203ef64829",
       "version_major": 2,
       "version_minor": 0
      },
      "text/plain": [
       "HBox(children=(Output(outputs=({'output_type': 'display_data', 'data': {'text/plain': '<IPython.core.display.M…"
      ]
     },
     "metadata": {},
     "output_type": "display_data"
    }
   ],
   "source": [
    "from qualtran.drawing import show_bloqs\n",
    "show_bloqs([multiply_two_reals],\n",
    "           ['`multiply_two_reals`'])"
   ]
  },
  {
   "cell_type": "markdown",
   "id": "85d69a0e",
   "metadata": {
    "cq.autogen": "MultiplyTwoReals.call_graph.md"
   },
   "source": [
    "### Call Graph"
   ]
  },
  {
   "cell_type": "code",
   "execution_count": 24,
   "id": "de70dbe6",
   "metadata": {
    "cq.autogen": "MultiplyTwoReals.call_graph.py"
   },
   "outputs": [
    {
     "data": {
      "image/svg+xml": [
       "<svg xmlns=\"http://www.w3.org/2000/svg\" xmlns:xlink=\"http://www.w3.org/1999/xlink\" width=\"85pt\" height=\"131pt\" viewBox=\"0.00 0.00 85.00 131.00\">\n",
       "<g id=\"graph0\" class=\"graph\" transform=\"scale(1 1) rotate(0) translate(4 127)\">\n",
       "<title>counts</title>\n",
       "<polygon fill=\"white\" stroke=\"transparent\" points=\"-4,4 -4,-127 81,-127 81,4 -4,4\"/>\n",
       "<!-- b0 -->\n",
       "<g id=\"node1\" class=\"node\">\n",
       "<title>b0</title>\n",
       "<polygon fill=\"none\" stroke=\"black\" points=\"77,-123 0,-123 0,-87 77,-87 77,-123\"/>\n",
       "<text text-anchor=\"start\" x=\"28.5\" y=\"-106.8\" font-family=\"Times,serif\" font-size=\"14.00\">a*b</text>\n",
       "<text text-anchor=\"start\" x=\"8\" y=\"-96\" font-family=\"monospace\" font-size=\"10.00\">bitsize=10</text>\n",
       "</g>\n",
       "<!-- b1 -->\n",
       "<g id=\"node2\" class=\"node\">\n",
       "<title>b1</title>\n",
       "<polygon fill=\"none\" stroke=\"black\" points=\"66,-36 11,-36 11,0 66,0 66,-36\"/>\n",
       "<text text-anchor=\"start\" x=\"19\" y=\"-14.3\" font-family=\"Times,serif\" font-size=\"14.00\">Toffoli</text>\n",
       "</g>\n",
       "<!-- b0&#45;&gt;b1 -->\n",
       "<g id=\"edge1\" class=\"edge\">\n",
       "<title>b0-&gt;b1</title>\n",
       "<path fill=\"none\" stroke=\"black\" d=\"M38.5,-86.8C38.5,-75.16 38.5,-59.55 38.5,-46.24\"/>\n",
       "<polygon fill=\"black\" stroke=\"black\" points=\"42,-46.18 38.5,-36.18 35,-46.18 42,-46.18\"/>\n",
       "<text text-anchor=\"middle\" x=\"45.5\" y=\"-57.8\" font-family=\"Times,serif\" font-size=\"14.00\">89</text>\n",
       "</g>\n",
       "</g>\n",
       "</svg>"
      ],
      "text/plain": [
       "<IPython.core.display.SVG object>"
      ]
     },
     "metadata": {},
     "output_type": "display_data"
    },
    {
     "data": {
      "text/markdown": [
       "#### Counts totals:\n",
       " - `Toffoli`: 89"
      ],
      "text/plain": [
       "<IPython.core.display.Markdown object>"
      ]
     },
     "metadata": {},
     "output_type": "display_data"
    }
   ],
   "source": [
    "from qualtran.resource_counting.generalizers import ignore_split_join\n",
    "multiply_two_reals_g, multiply_two_reals_sigma = multiply_two_reals.call_graph(max_depth=1, generalizer=ignore_split_join)\n",
    "show_call_graph(multiply_two_reals_g)\n",
    "show_counts_sigma(multiply_two_reals_sigma)"
   ]
  },
  {
   "cell_type": "markdown",
   "id": "075c2d2a",
   "metadata": {
    "cq.autogen": "SquareRealNumber.bloq_doc.md"
   },
   "source": [
    "## `SquareRealNumber`\n",
    "Square a fixed-point representation of a real number\n",
    "\n",
    "i.e.\n",
    "\n",
    "$$\n",
    "    |a\\rangle|0\\rangle \\rightarrow |a\\rangle|a^2\\rangle\n",
    "$$\n",
    "\n",
    "The real numbers are assumed to be in the range [0, 1).\n",
    "\n",
    "#### Parameters\n",
    " - `bitsize`: Number of bits used to represent the real number. \n",
    "\n",
    "#### Registers\n",
    " - `a`: bitsize-sized input register.\n",
    " - `b`: bitsize-sized input register.\n",
    " - `result`: bitsize output register \n",
    "\n",
    "#### References\n",
    " - [Compilation of Fault-Tolerant Quantum Heuristics for Combinatorial Optimization](https://arxiv.org/abs/2007.07391). Appendix D. Section 6. (p. 74).\n"
   ]
  },
  {
   "cell_type": "code",
   "execution_count": 25,
   "id": "1521a0dd",
   "metadata": {
    "cq.autogen": "SquareRealNumber.bloq_doc.py"
   },
   "outputs": [],
   "source": [
    "from qualtran.bloqs.arithmetic import SquareRealNumber"
   ]
  },
  {
   "cell_type": "markdown",
   "id": "36bc840d",
   "metadata": {
    "cq.autogen": "SquareRealNumber.example_instances.md"
   },
   "source": [
    "### Example Instances"
   ]
  },
  {
   "cell_type": "code",
   "execution_count": 26,
   "id": "2c7f730f",
   "metadata": {
    "cq.autogen": "SquareRealNumber.square_real_number"
   },
   "outputs": [],
   "source": [
    "square_real_number = SquareRealNumber(bitsize=10)"
   ]
  },
  {
   "cell_type": "markdown",
   "id": "5e2fc726",
   "metadata": {
    "cq.autogen": "SquareRealNumber.graphical_signature.md"
   },
   "source": [
    "#### Graphical Signature"
   ]
  },
  {
   "cell_type": "code",
   "execution_count": 27,
   "id": "c1eea122",
   "metadata": {
    "cq.autogen": "SquareRealNumber.graphical_signature.py"
   },
   "outputs": [
    {
     "data": {
      "application/vnd.jupyter.widget-view+json": {
       "model_id": "b66c221960744c14b7730e302dd682e4",
       "version_major": 2,
       "version_minor": 0
      },
      "text/plain": [
       "HBox(children=(Output(outputs=({'output_type': 'display_data', 'data': {'text/plain': '<IPython.core.display.M…"
      ]
     },
     "metadata": {},
     "output_type": "display_data"
    }
   ],
   "source": [
    "from qualtran.drawing import show_bloqs\n",
    "show_bloqs([square_real_number],\n",
    "           ['`square_real_number`'])"
   ]
  },
  {
   "cell_type": "markdown",
   "id": "b410a3af",
   "metadata": {
    "cq.autogen": "SquareRealNumber.call_graph.md"
   },
   "source": [
    "### Call Graph"
   ]
  },
  {
   "cell_type": "code",
   "execution_count": 28,
   "id": "f2016953",
   "metadata": {
    "cq.autogen": "SquareRealNumber.call_graph.py"
   },
   "outputs": [
    {
     "data": {
      "image/svg+xml": [
       "<svg xmlns=\"http://www.w3.org/2000/svg\" xmlns:xlink=\"http://www.w3.org/1999/xlink\" width=\"85pt\" height=\"131pt\" viewBox=\"0.00 0.00 85.00 131.00\">\n",
       "<g id=\"graph0\" class=\"graph\" transform=\"scale(1 1) rotate(0) translate(4 127)\">\n",
       "<title>counts</title>\n",
       "<polygon fill=\"white\" stroke=\"transparent\" points=\"-4,4 -4,-127 81,-127 81,4 -4,4\"/>\n",
       "<!-- b0 -->\n",
       "<g id=\"node1\" class=\"node\">\n",
       "<title>b0</title>\n",
       "<polygon fill=\"none\" stroke=\"black\" points=\"77,-123 0,-123 0,-87 77,-87 77,-123\"/>\n",
       "<text text-anchor=\"start\" x=\"28.5\" y=\"-106.8\" font-family=\"Times,serif\" font-size=\"14.00\">a^2</text>\n",
       "<text text-anchor=\"start\" x=\"8\" y=\"-96\" font-family=\"monospace\" font-size=\"10.00\">bitsize=10</text>\n",
       "</g>\n",
       "<!-- b1 -->\n",
       "<g id=\"node2\" class=\"node\">\n",
       "<title>b1</title>\n",
       "<polygon fill=\"none\" stroke=\"black\" points=\"66,-36 11,-36 11,0 66,0 66,-36\"/>\n",
       "<text text-anchor=\"start\" x=\"19\" y=\"-14.3\" font-family=\"Times,serif\" font-size=\"14.00\">Toffoli</text>\n",
       "</g>\n",
       "<!-- b0&#45;&gt;b1 -->\n",
       "<g id=\"edge1\" class=\"edge\">\n",
       "<title>b0-&gt;b1</title>\n",
       "<path fill=\"none\" stroke=\"black\" d=\"M38.5,-86.8C38.5,-75.16 38.5,-59.55 38.5,-46.24\"/>\n",
       "<polygon fill=\"black\" stroke=\"black\" points=\"42,-46.18 38.5,-36.18 35,-46.18 42,-46.18\"/>\n",
       "<text text-anchor=\"middle\" x=\"45.5\" y=\"-57.8\" font-family=\"Times,serif\" font-size=\"14.00\">46</text>\n",
       "</g>\n",
       "</g>\n",
       "</svg>"
      ],
      "text/plain": [
       "<IPython.core.display.SVG object>"
      ]
     },
     "metadata": {},
     "output_type": "display_data"
    },
    {
     "data": {
      "text/markdown": [
       "#### Counts totals:\n",
       " - `Toffoli`: 46"
      ],
      "text/plain": [
       "<IPython.core.display.Markdown object>"
      ]
     },
     "metadata": {},
     "output_type": "display_data"
    }
   ],
   "source": [
    "from qualtran.resource_counting.generalizers import ignore_split_join\n",
    "square_real_number_g, square_real_number_sigma = square_real_number.call_graph(max_depth=1, generalizer=ignore_split_join)\n",
    "show_call_graph(square_real_number_g)\n",
    "show_counts_sigma(square_real_number_sigma)"
   ]
  },
  {
   "cell_type": "code",
   "execution_count": 29,
   "id": "54754463",
   "metadata": {
    "cq.autogen": "PlusEqualProduct.graphical_signature.py"
   },
   "outputs": [
    {
     "data": {
      "application/vnd.jupyter.widget-view+json": {
       "model_id": "a061a28c69144a66a29ce7b52fa62a7c",
       "version_major": 2,
       "version_minor": 0
      },
      "text/plain": [
       "HBox(children=(Output(outputs=({'output_type': 'display_data', 'data': {'text/plain': '<IPython.core.display.M…"
      ]
     },
     "metadata": {},
     "output_type": "display_data"
    }
   ],
   "source": [
    "from qualtran.drawing import show_bloqs\n",
    "show_bloqs([plus_equal_product],\n",
    "           ['`plus_equal_product`'])"
   ]
  },
  {
   "cell_type": "markdown",
   "id": "2be05cf8",
   "metadata": {
    "cq.autogen": "InvertRealNumber.bloq_doc.md"
   },
   "source": [
    "## `InvertRealNumber`\n",
    "Invert a fixed-point representation of a real number.\n",
    "\n",
    "Implements the unitary:\n",
    "$$\n",
    "    |a\\rangle|0\\rangle \\rightarrow |a\\rangle|1/a\\rangle\n",
    "$$\n",
    "where $a \\ge 1$.\n",
    "\n",
    "#### Parameters\n",
    " - `bitsize`: Number of bits used to represent the number.\n",
    " - `num_frac`: Number of fraction bits in the number. \n",
    "\n",
    "#### Registers\n",
    " - `a`: `bitsize`-sized input register.\n",
    " - `result`: `bitsize`-sized output register. \n",
    " - `References`: \n",
    " - `[Quantum Algorithms and Circuits for Scientific Computing](https`: //arxiv.org/pdf/1511.08253). Section 2.1.\n"
   ]
  },
  {
   "cell_type": "code",
   "execution_count": 30,
   "id": "587e4a5f",
   "metadata": {
    "cq.autogen": "InvertRealNumber.bloq_doc.py"
   },
   "outputs": [],
   "source": [
    "from qualtran.bloqs.arithmetic import InvertRealNumber"
   ]
  },
  {
   "cell_type": "markdown",
   "id": "feabf392",
   "metadata": {
    "cq.autogen": "InvertRealNumber.example_instances.md"
   },
   "source": [
    "### Example Instances"
   ]
  },
  {
   "cell_type": "code",
   "execution_count": 31,
   "id": "fc402a6a",
   "metadata": {
    "cq.autogen": "InvertRealNumber.invert_real_number"
   },
   "outputs": [],
   "source": [
    "invert_real_number = InvertRealNumber(bitsize=10, num_frac=7)"
   ]
  },
  {
   "cell_type": "markdown",
   "id": "9a600ad4",
   "metadata": {
    "cq.autogen": "InvertRealNumber.graphical_signature.md"
   },
   "source": [
    "#### Graphical Signature"
   ]
  },
  {
   "cell_type": "code",
   "execution_count": 32,
   "id": "608833cb",
   "metadata": {
    "cq.autogen": "InvertRealNumber.graphical_signature.py"
   },
   "outputs": [
    {
     "data": {
      "application/vnd.jupyter.widget-view+json": {
       "model_id": "8521c12c88fe48b383a1d76649f2a23a",
       "version_major": 2,
       "version_minor": 0
      },
      "text/plain": [
       "HBox(children=(Output(outputs=({'output_type': 'display_data', 'data': {'text/plain': '<IPython.core.display.M…"
      ]
     },
     "metadata": {},
     "output_type": "display_data"
    }
   ],
   "source": [
    "from qualtran.drawing import show_bloqs\n",
    "show_bloqs([invert_real_number],\n",
    "           ['`invert_real_number`'])"
   ]
  },
  {
   "cell_type": "markdown",
   "id": "20751180",
   "metadata": {
    "cq.autogen": "InvertRealNumber.call_graph.md"
   },
   "source": [
    "### Call Graph"
   ]
  },
  {
   "cell_type": "code",
   "execution_count": 33,
   "id": "62cd4ee3",
   "metadata": {
    "cq.autogen": "InvertRealNumber.call_graph.py"
   },
   "outputs": [
    {
     "data": {
      "image/svg+xml": [
       "<svg xmlns=\"http://www.w3.org/2000/svg\" xmlns:xlink=\"http://www.w3.org/1999/xlink\" width=\"1104pt\" height=\"131pt\" viewBox=\"0.00 0.00 1104.00 131.00\">\n",
       "<g id=\"graph0\" class=\"graph\" transform=\"scale(1 1) rotate(0) translate(4 127)\">\n",
       "<title>counts</title>\n",
       "<polygon fill=\"white\" stroke=\"transparent\" points=\"-4,4 -4,-127 1100,-127 1100,4 -4,4\"/>\n",
       "<!-- b0 -->\n",
       "<g id=\"node1\" class=\"node\">\n",
       "<title>b0</title>\n",
       "<polygon fill=\"none\" stroke=\"black\" points=\"646,-123 497,-123 497,-87 646,-87 646,-123\"/>\n",
       "<text text-anchor=\"start\" x=\"563\" y=\"-106.8\" font-family=\"Times,serif\" font-size=\"14.00\">1/a</text>\n",
       "<text text-anchor=\"start\" x=\"505\" y=\"-96\" font-family=\"monospace\" font-size=\"10.00\">bitsize=10, num_frac=7</text>\n",
       "</g>\n",
       "<!-- b1 -->\n",
       "<g id=\"node2\" class=\"node\">\n",
       "<title>b1</title>\n",
       "<polygon fill=\"none\" stroke=\"black\" points=\"167,-36 0,-36 0,0 167,0 167,-36\"/>\n",
       "<text text-anchor=\"start\" x=\"75.5\" y=\"-19.8\" font-family=\"Times,serif\" font-size=\"14.00\">r*i</text>\n",
       "<text text-anchor=\"start\" x=\"8\" y=\"-9\" font-family=\"monospace\" font-size=\"10.00\">r_bitsize=10, i_bitsize=2</text>\n",
       "</g>\n",
       "<!-- b0&#45;&gt;b1 -->\n",
       "<g id=\"edge1\" class=\"edge\">\n",
       "<title>b0-&gt;b1</title>\n",
       "<path fill=\"none\" stroke=\"black\" d=\"M496.64,-91.44C419.15,-78.36 294.32,-57.12 177.1,-36.28\"/>\n",
       "<polygon fill=\"black\" stroke=\"black\" points=\"177.69,-32.83 167.23,-34.52 176.46,-39.72 177.69,-32.83\"/>\n",
       "<text text-anchor=\"middle\" x=\"364\" y=\"-57.8\" font-family=\"Times,serif\" font-size=\"14.00\">4</text>\n",
       "</g>\n",
       "<!-- b2 -->\n",
       "<g id=\"node3\" class=\"node\">\n",
       "<title>b2</title>\n",
       "<polygon fill=\"none\" stroke=\"black\" points=\"400,-36 185,-36 185,0 400,0 400,-36\"/>\n",
       "<text text-anchor=\"start\" x=\"276\" y=\"-19.8\" font-family=\"Times,serif\" font-size=\"14.00\">C^3X</text>\n",
       "<text text-anchor=\"start\" x=\"193\" y=\"-9\" font-family=\"monospace\" font-size=\"10.00\">cvs=(1, 1, 1), target_gate=cirq.X</text>\n",
       "</g>\n",
       "<!-- b0&#45;&gt;b2 -->\n",
       "<g id=\"edge2\" class=\"edge\">\n",
       "<title>b0-&gt;b2</title>\n",
       "<path fill=\"none\" stroke=\"black\" d=\"M515.38,-86.9C469.97,-73.07 405.95,-53.56 358.17,-39.01\"/>\n",
       "<polygon fill=\"black\" stroke=\"black\" points=\"359.12,-35.64 348.53,-36.07 357.08,-42.33 359.12,-35.64\"/>\n",
       "<text text-anchor=\"middle\" x=\"453\" y=\"-57.8\" font-family=\"Times,serif\" font-size=\"14.00\">1</text>\n",
       "</g>\n",
       "<!-- b3 -->\n",
       "<g id=\"node4\" class=\"node\">\n",
       "<title>b3</title>\n",
       "<polygon fill=\"none\" stroke=\"black\" points=\"472.5,-36 418.5,-36 418.5,0 472.5,0 472.5,-36\"/>\n",
       "<text text-anchor=\"start\" x=\"427\" y=\"-14.3\" font-family=\"Times,serif\" font-size=\"14.00\">CNOT</text>\n",
       "</g>\n",
       "<!-- b0&#45;&gt;b3 -->\n",
       "<g id=\"edge3\" class=\"edge\">\n",
       "<title>b0-&gt;b3</title>\n",
       "<path fill=\"none\" stroke=\"black\" d=\"M546,-86.8C526.79,-73.84 500.26,-55.94 479.28,-41.79\"/>\n",
       "<polygon fill=\"black\" stroke=\"black\" points=\"481.21,-38.87 470.96,-36.18 477.29,-44.67 481.21,-38.87\"/>\n",
       "<text text-anchor=\"middle\" x=\"520\" y=\"-57.8\" font-family=\"Times,serif\" font-size=\"14.00\">4</text>\n",
       "</g>\n",
       "<!-- b4 -->\n",
       "<g id=\"node5\" class=\"node\">\n",
       "<title>b4</title>\n",
       "<polygon fill=\"none\" stroke=\"black\" points=\"568,-36 491,-36 491,0 568,0 568,-36\"/>\n",
       "<text text-anchor=\"start\" x=\"519.5\" y=\"-19.8\" font-family=\"Times,serif\" font-size=\"14.00\">a^2</text>\n",
       "<text text-anchor=\"start\" x=\"499\" y=\"-9\" font-family=\"monospace\" font-size=\"10.00\">bitsize=10</text>\n",
       "</g>\n",
       "<!-- b0&#45;&gt;b4 -->\n",
       "<g id=\"edge4\" class=\"edge\">\n",
       "<title>b0-&gt;b4</title>\n",
       "<path fill=\"none\" stroke=\"black\" d=\"M563,-86.8C557.14,-74.93 549.23,-58.93 542.57,-45.45\"/>\n",
       "<polygon fill=\"black\" stroke=\"black\" points=\"545.55,-43.59 537.99,-36.18 539.28,-46.69 545.55,-43.59\"/>\n",
       "<text text-anchor=\"middle\" x=\"557\" y=\"-57.8\" font-family=\"Times,serif\" font-size=\"14.00\">4</text>\n",
       "</g>\n",
       "<!-- b5 -->\n",
       "<g id=\"node6\" class=\"node\">\n",
       "<title>b5</title>\n",
       "<polygon fill=\"none\" stroke=\"black\" points=\"640.5,-36 586.5,-36 586.5,0 640.5,0 640.5,-36\"/>\n",
       "<text text-anchor=\"start\" x=\"595.5\" y=\"-14.3\" font-family=\"Times,serif\" font-size=\"14.00\">XGate</text>\n",
       "</g>\n",
       "<!-- b0&#45;&gt;b5 -->\n",
       "<g id=\"edge5\" class=\"edge\">\n",
       "<title>b0-&gt;b5</title>\n",
       "<path fill=\"none\" stroke=\"black\" d=\"M580,-86.8C585.86,-74.93 593.77,-58.93 600.43,-45.45\"/>\n",
       "<polygon fill=\"black\" stroke=\"black\" points=\"603.72,-46.69 605.01,-36.18 597.45,-43.59 603.72,-46.69\"/>\n",
       "<text text-anchor=\"middle\" x=\"599\" y=\"-57.8\" font-family=\"Times,serif\" font-size=\"14.00\">1</text>\n",
       "</g>\n",
       "<!-- b6 -->\n",
       "<g id=\"node7\" class=\"node\">\n",
       "<title>b6</title>\n",
       "<polygon fill=\"none\" stroke=\"black\" points=\"736,-36 659,-36 659,0 736,0 736,-36\"/>\n",
       "<text text-anchor=\"start\" x=\"687.5\" y=\"-19.8\" font-family=\"Times,serif\" font-size=\"14.00\">a*b</text>\n",
       "<text text-anchor=\"start\" x=\"667\" y=\"-9\" font-family=\"monospace\" font-size=\"10.00\">bitsize=10</text>\n",
       "</g>\n",
       "<!-- b0&#45;&gt;b6 -->\n",
       "<g id=\"edge6\" class=\"edge\">\n",
       "<title>b0-&gt;b6</title>\n",
       "<path fill=\"none\" stroke=\"black\" d=\"M597,-86.8C616.21,-73.84 642.74,-55.94 663.72,-41.79\"/>\n",
       "<polygon fill=\"black\" stroke=\"black\" points=\"665.71,-44.67 672.04,-36.18 661.79,-38.87 665.71,-44.67\"/>\n",
       "<text text-anchor=\"middle\" x=\"646\" y=\"-57.8\" font-family=\"Times,serif\" font-size=\"14.00\">4</text>\n",
       "</g>\n",
       "<!-- b7 -->\n",
       "<g id=\"node8\" class=\"node\">\n",
       "<title>b7</title>\n",
       "<polygon fill=\"none\" stroke=\"black\" points=\"1023,-36 754,-36 754,0 1023,0 1023,-36\"/>\n",
       "<text text-anchor=\"start\" x=\"865.5\" y=\"-19.8\" font-family=\"Times,serif\" font-size=\"14.00\">Subtract</text>\n",
       "<text text-anchor=\"start\" x=\"762\" y=\"-9\" font-family=\"monospace\" font-size=\"10.00\">a_dtype=QUInt(bi ..., b_dtype=QUInt(bi ...</text>\n",
       "</g>\n",
       "<!-- b0&#45;&gt;b7 -->\n",
       "<g id=\"edge7\" class=\"edge\">\n",
       "<title>b0-&gt;b7</title>\n",
       "<path fill=\"none\" stroke=\"black\" d=\"M635.27,-86.9C687.18,-72.98 760.51,-53.32 814.91,-38.73\"/>\n",
       "<polygon fill=\"black\" stroke=\"black\" points=\"816.08,-42.04 824.83,-36.07 814.27,-35.28 816.08,-42.04\"/>\n",
       "<text text-anchor=\"middle\" x=\"753\" y=\"-57.8\" font-family=\"Times,serif\" font-size=\"14.00\">4</text>\n",
       "</g>\n",
       "<!-- b8 -->\n",
       "<g id=\"node9\" class=\"node\">\n",
       "<title>b8</title>\n",
       "<polygon fill=\"none\" stroke=\"black\" points=\"1096,-36 1041,-36 1041,0 1096,0 1096,-36\"/>\n",
       "<text text-anchor=\"start\" x=\"1049\" y=\"-14.3\" font-family=\"Times,serif\" font-size=\"14.00\">Toffoli</text>\n",
       "</g>\n",
       "<!-- b0&#45;&gt;b8 -->\n",
       "<g id=\"edge8\" class=\"edge\">\n",
       "<title>b0-&gt;b8</title>\n",
       "<path fill=\"none\" stroke=\"black\" d=\"M646.19,-99.49C738.38,-92.44 899.17,-75.31 1031.5,-36 1031.6,-35.97 1031.69,-35.94 1031.79,-35.91\"/>\n",
       "<polygon fill=\"black\" stroke=\"black\" points=\"1032.68,-39.31 1040.95,-32.68 1030.35,-32.71 1032.68,-39.31\"/>\n",
       "<text text-anchor=\"middle\" x=\"962\" y=\"-57.8\" font-family=\"Times,serif\" font-size=\"14.00\">2</text>\n",
       "</g>\n",
       "</g>\n",
       "</svg>"
      ],
      "text/plain": [
       "<IPython.core.display.SVG object>"
      ]
     },
     "metadata": {},
     "output_type": "display_data"
    },
    {
     "data": {
      "text/markdown": [
       "#### Counts totals:\n",
       " - `CNOT`: 4\n",
       " - `MultiControlX`: 1\n",
       " - `MultiplyTwoReals`: 4\n",
       " - `ScaleIntByReal`: 4\n",
       " - `SquareRealNumber`: 4\n",
       " - `Subtract`: 4\n",
       " - `Toffoli`: 2\n",
       " - `XGate`: 1"
      ],
      "text/plain": [
       "<IPython.core.display.Markdown object>"
      ]
     },
     "metadata": {},
     "output_type": "display_data"
    }
   ],
   "source": [
    "from qualtran.resource_counting.generalizers import ignore_split_join\n",
    "invert_real_number_g, invert_real_number_sigma = invert_real_number.call_graph(max_depth=1, generalizer=ignore_split_join)\n",
    "show_call_graph(invert_real_number_g)\n",
    "show_counts_sigma(invert_real_number_sigma)"
   ]
  }
 ],
 "metadata": {
  "kernelspec": {
   "display_name": "Python 3",
   "language": "python",
   "name": "python3"
  },
  "language_info": {
   "codemirror_mode": {
    "name": "ipython",
    "version": 3
   },
   "file_extension": ".py",
   "mimetype": "text/x-python",
   "name": "python",
   "nbconvert_exporter": "python",
   "pygments_lexer": "ipython3",
   "version": "3.11.8"
  },
  "widgets": {
   "application/vnd.jupyter.widget-state+json": {
    "state": {
     "024fae37cee1443cb063a0d6fb069924": {
      "model_module": "@jupyter-widgets/base",
      "model_module_version": "2.0.0",
      "model_name": "LayoutModel",
      "state": {
       "_model_module": "@jupyter-widgets/base",
       "_model_module_version": "2.0.0",
       "_model_name": "LayoutModel",
       "_view_count": null,
       "_view_module": "@jupyter-widgets/base",
       "_view_module_version": "2.0.0",
       "_view_name": "LayoutView",
       "align_content": null,
       "align_items": null,
       "align_self": null,
       "border_bottom": null,
       "border_left": null,
       "border_right": null,
       "border_top": null,
       "bottom": null,
       "display": null,
       "flex": null,
       "flex_flow": null,
       "grid_area": null,
       "grid_auto_columns": null,
       "grid_auto_flow": null,
       "grid_auto_rows": null,
       "grid_column": null,
       "grid_gap": null,
       "grid_row": null,
       "grid_template_areas": null,
       "grid_template_columns": null,
       "grid_template_rows": null,
       "height": null,
       "justify_content": null,
       "justify_items": null,
       "left": null,
       "margin": null,
       "max_height": null,
       "max_width": null,
       "min_height": null,
       "min_width": null,
       "object_fit": null,
       "object_position": null,
       "order": null,
       "overflow": null,
       "padding": null,
       "right": null,
       "top": null,
       "visibility": null,
       "width": null
      }
     },
     "08bd0be200e849aea42358d8ced88b6e": {
      "model_module": "@jupyter-widgets/controls",
      "model_module_version": "2.0.0",
      "model_name": "HBoxModel",
      "state": {
       "_dom_classes": [],
       "_model_module": "@jupyter-widgets/controls",
       "_model_module_version": "2.0.0",
       "_model_name": "HBoxModel",
       "_view_count": null,
       "_view_module": "@jupyter-widgets/controls",
       "_view_module_version": "2.0.0",
       "_view_name": "HBoxView",
       "box_style": "",
       "children": [
        "IPY_MODEL_1ea832c36d684d10a94bf651a1773f21"
       ],
       "layout": "IPY_MODEL_c6a859f6a9374631b6b80160768df8ca",
       "tabbable": null,
       "tooltip": null
      }
     },
     "192718c61e2d4107a7b6c4dc3304aec6": {
      "model_module": "@jupyter-widgets/controls",
      "model_module_version": "2.0.0",
      "model_name": "HBoxModel",
      "state": {
       "_dom_classes": [],
       "_model_module": "@jupyter-widgets/controls",
       "_model_module_version": "2.0.0",
       "_model_name": "HBoxModel",
       "_view_count": null,
       "_view_module": "@jupyter-widgets/controls",
       "_view_module_version": "2.0.0",
       "_view_name": "HBoxView",
       "box_style": "",
       "children": [
        "IPY_MODEL_ec6eb3c0f18e48d49c36cace17b04650"
       ],
       "layout": "IPY_MODEL_c052d08157ef4222ae1f3324d6f2454e",
       "tabbable": null,
       "tooltip": null
      }
     },
     "1ea832c36d684d10a94bf651a1773f21": {
      "model_module": "@jupyter-widgets/output",
      "model_module_version": "1.0.0",
      "model_name": "OutputModel",
      "state": {
       "_dom_classes": [],
       "_model_module": "@jupyter-widgets/output",
       "_model_module_version": "1.0.0",
       "_model_name": "OutputModel",
       "_view_count": null,
       "_view_module": "@jupyter-widgets/output",
       "_view_module_version": "1.0.0",
       "_view_name": "OutputView",
       "layout": "IPY_MODEL_e275b129eaa94cb4b90c2d6e452f421e",
       "msg_id": "",
       "outputs": [
        {
         "data": {
          "text/markdown": "`square`",
          "text/plain": "<IPython.core.display.Markdown object>"
         },
         "metadata": {},
         "output_type": "display_data"
        },
        {
         "data": {
          "image/svg+xml": "<svg xmlns=\"http://www.w3.org/2000/svg\" xmlns:xlink=\"http://www.w3.org/1999/xlink\" width=\"233pt\" height=\"98pt\" viewBox=\"0.00 0.00 233.00 98.00\">\n<g id=\"graph0\" class=\"graph\" transform=\"scale(1 1) rotate(0) translate(4 94)\">\n<title>my_graph</title>\n<polygon fill=\"white\" stroke=\"transparent\" points=\"-4,4 -4,-94 229,-94 229,4 -4,4\"/>\n<!-- a_G1 -->\n<g id=\"node1\" class=\"node\">\n<title>a_G1</title>\n<text text-anchor=\"middle\" x=\"27\" y=\"-52.3\" font-family=\"Times,serif\" font-size=\"14.00\">a</text>\n</g>\n<!-- Square -->\n<g id=\"node2\" class=\"node\">\n<title>Square</title>\n<polygon fill=\"none\" stroke=\"black\" points=\"91.5,-66 91.5,-83 134.5,-83 134.5,-66 91.5,-66\"/>\n<text text-anchor=\"start\" x=\"99\" y=\"-72\" font-family=\"Times,serif\" font-size=\"10.00\">Square</text>\n<polygon fill=\"none\" stroke=\"black\" points=\"91.5,-45 91.5,-66 134.5,-66 134.5,-45 91.5,-45\"/>\n<text text-anchor=\"start\" x=\"109.5\" y=\"-51.8\" font-family=\"Times,serif\" font-size=\"14.00\">a</text>\n<polygon fill=\"none\" stroke=\"black\" points=\"91.5,-24 91.5,-45 97.5,-45 97.5,-24 91.5,-24\"/>\n<polygon fill=\"none\" stroke=\"black\" points=\"97.5,-24 97.5,-45 134.5,-45 134.5,-24 97.5,-24\"/>\n<text text-anchor=\"start\" x=\"100.5\" y=\"-30.8\" font-family=\"Times,serif\" font-size=\"14.00\">result</text>\n</g>\n<!-- a_G1&#45;&gt;Square -->\n<g id=\"edge1\" class=\"edge\">\n<title>a_G1:e-&gt;Square:w</title>\n<path fill=\"none\" stroke=\"black\" d=\"M54,-56C69.67,-56 74.14,-56 88.77,-56\"/>\n<ellipse fill=\"black\" stroke=\"black\" cx=\"90\" cy=\"-56\" rx=\"1\" ry=\"1\"/>\n<text text-anchor=\"middle\" x=\"72.5\" y=\"-59\" font-family=\"Times,serif\" font-size=\"10.00\">8</text>\n</g>\n<!-- a_G0 -->\n<g id=\"node3\" class=\"node\">\n<title>a_G0</title>\n<text text-anchor=\"middle\" x=\"198\" y=\"-68.3\" font-family=\"Times,serif\" font-size=\"14.00\">a</text>\n</g>\n<!-- Square&#45;&gt;a_G0 -->\n<g id=\"edge2\" class=\"edge\">\n<title>Square:e-&gt;a_G0:w</title>\n<path fill=\"none\" stroke=\"black\" d=\"M134,-56C151.22,-56 152.97,-70.77 168.98,-71.93\"/>\n<ellipse fill=\"black\" stroke=\"black\" cx=\"170\" cy=\"-71.96\" rx=\"1\" ry=\"1\"/>\n<text text-anchor=\"middle\" x=\"152.5\" y=\"-67\" font-family=\"Times,serif\" font-size=\"10.00\">8</text>\n</g>\n<!-- result_G3 -->\n<g id=\"node4\" class=\"node\">\n<title>result_G3</title>\n<text text-anchor=\"middle\" x=\"198\" y=\"-14.3\" font-family=\"Times,serif\" font-size=\"14.00\">result</text>\n</g>\n<!-- Square&#45;&gt;result_G3 -->\n<g id=\"edge3\" class=\"edge\">\n<title>Square:e-&gt;result_G3:w</title>\n<path fill=\"none\" stroke=\"black\" d=\"M134,-34C151.22,-34 152.97,-19.23 168.98,-18.07\"/>\n<ellipse fill=\"black\" stroke=\"black\" cx=\"170\" cy=\"-18.04\" rx=\"1\" ry=\"1\"/>\n<text text-anchor=\"middle\" x=\"152.5\" y=\"-29\" font-family=\"Times,serif\" font-size=\"10.00\">16</text>\n</g>\n</g>\n</svg>",
          "text/plain": "<IPython.core.display.SVG object>"
         },
         "metadata": {},
         "output_type": "display_data"
        }
       ],
       "tabbable": null,
       "tooltip": null
      }
     },
     "297a93a1aa714154bccbff2d23a521b6": {
      "model_module": "@jupyter-widgets/output",
      "model_module_version": "1.0.0",
      "model_name": "OutputModel",
      "state": {
       "_dom_classes": [],
       "_model_module": "@jupyter-widgets/output",
       "_model_module_version": "1.0.0",
       "_model_name": "OutputModel",
       "_view_count": null,
       "_view_module": "@jupyter-widgets/output",
       "_view_module_version": "1.0.0",
       "_view_name": "OutputView",
       "layout": "IPY_MODEL_50a17d0dc7cb4ebe92188bd9c129ced8",
       "msg_id": "",
       "outputs": [
        {
         "data": {
          "text/markdown": "`plus_equal_product`",
          "text/plain": "<IPython.core.display.Markdown object>"
         },
         "metadata": {},
         "output_type": "display_data"
        },
        {
         "data": {
          "image/svg+xml": "<svg xmlns=\"http://www.w3.org/2000/svg\" xmlns:xlink=\"http://www.w3.org/1999/xlink\" width=\"269pt\" height=\"152pt\" viewBox=\"0.00 0.00 269.00 152.00\">\n<g id=\"graph0\" class=\"graph\" transform=\"scale(1 1) rotate(0) translate(4 148)\">\n<title>my_graph</title>\n<polygon fill=\"white\" stroke=\"transparent\" points=\"-4,4 -4,-148 265,-148 265,4 -4,4\"/>\n<!-- a_G3 -->\n<g id=\"node1\" class=\"node\">\n<title>a_G3</title>\n<text text-anchor=\"middle\" x=\"27\" y=\"-122.3\" font-family=\"Times,serif\" font-size=\"14.00\">a</text>\n</g>\n<!-- PlusEqualProduct -->\n<g id=\"node4\" class=\"node\">\n<title>PlusEqualProduct</title>\n<polygon fill=\"none\" stroke=\"black\" points=\"91.5,-104 91.5,-121 170.5,-121 170.5,-104 91.5,-104\"/>\n<text text-anchor=\"start\" x=\"94.5\" y=\"-110\" font-family=\"Times,serif\" font-size=\"10.00\">PlusEqualProduct</text>\n<polygon fill=\"none\" stroke=\"black\" points=\"91.5,-83 91.5,-104 170.5,-104 170.5,-83 91.5,-83\"/>\n<text text-anchor=\"start\" x=\"127.5\" y=\"-89.8\" font-family=\"Times,serif\" font-size=\"14.00\">a</text>\n<polygon fill=\"none\" stroke=\"black\" points=\"91.5,-62 91.5,-83 170.5,-83 170.5,-62 91.5,-62\"/>\n<text text-anchor=\"start\" x=\"127.5\" y=\"-68.8\" font-family=\"Times,serif\" font-size=\"14.00\">b</text>\n<polygon fill=\"none\" stroke=\"black\" points=\"91.5,-41 91.5,-62 170.5,-62 170.5,-41 91.5,-41\"/>\n<text text-anchor=\"start\" x=\"115.5\" y=\"-47.8\" font-family=\"Times,serif\" font-size=\"14.00\">result</text>\n</g>\n<!-- a_G3&#45;&gt;PlusEqualProduct -->\n<g id=\"edge1\" class=\"edge\">\n<title>a_G3:e-&gt;PlusEqualProduct:w</title>\n<path fill=\"none\" stroke=\"black\" d=\"M54,-126C74.89,-126 69.72,-96.45 88.58,-94.14\"/>\n<ellipse fill=\"black\" stroke=\"black\" cx=\"90\" cy=\"-94.06\" rx=\"1\" ry=\"1\"/>\n<text text-anchor=\"middle\" x=\"72.5\" y=\"-113\" font-family=\"Times,serif\" font-size=\"10.00\">2</text>\n</g>\n<!-- b_G5 -->\n<g id=\"node2\" class=\"node\">\n<title>b_G5</title>\n<text text-anchor=\"middle\" x=\"27\" y=\"-68.3\" font-family=\"Times,serif\" font-size=\"14.00\">b</text>\n</g>\n<!-- b_G5&#45;&gt;PlusEqualProduct -->\n<g id=\"edge2\" class=\"edge\">\n<title>b_G5:e-&gt;PlusEqualProduct:w</title>\n<path fill=\"none\" stroke=\"black\" d=\"M54,-72C69.67,-72 74.14,-72 88.77,-72\"/>\n<ellipse fill=\"black\" stroke=\"black\" cx=\"90\" cy=\"-72\" rx=\"1\" ry=\"1\"/>\n<text text-anchor=\"middle\" x=\"72.5\" y=\"-75\" font-family=\"Times,serif\" font-size=\"10.00\">2</text>\n</g>\n<!-- result_G4 -->\n<g id=\"node3\" class=\"node\">\n<title>result_G4</title>\n<text text-anchor=\"middle\" x=\"27\" y=\"-14.3\" font-family=\"Times,serif\" font-size=\"14.00\">result</text>\n</g>\n<!-- result_G4&#45;&gt;PlusEqualProduct -->\n<g id=\"edge3\" class=\"edge\">\n<title>result_G4:e-&gt;PlusEqualProduct:w</title>\n<path fill=\"none\" stroke=\"black\" d=\"M54,-18C75.17,-18 69.47,-48.47 88.55,-50.85\"/>\n<ellipse fill=\"black\" stroke=\"black\" cx=\"90\" cy=\"-50.94\" rx=\"1\" ry=\"1\"/>\n<text text-anchor=\"middle\" x=\"72.5\" y=\"-39\" font-family=\"Times,serif\" font-size=\"10.00\">4</text>\n</g>\n<!-- a_G6 -->\n<g id=\"node5\" class=\"node\">\n<title>a_G6</title>\n<text text-anchor=\"middle\" x=\"234\" y=\"-122.3\" font-family=\"Times,serif\" font-size=\"14.00\">a</text>\n</g>\n<!-- PlusEqualProduct&#45;&gt;a_G6 -->\n<g id=\"edge4\" class=\"edge\">\n<title>PlusEqualProduct:e-&gt;a_G6:w</title>\n<path fill=\"none\" stroke=\"black\" d=\"M170,-94C190.89,-94 185.72,-123.55 204.58,-125.86\"/>\n<ellipse fill=\"black\" stroke=\"black\" cx=\"206\" cy=\"-125.94\" rx=\"1\" ry=\"1\"/>\n<text text-anchor=\"middle\" x=\"188.5\" y=\"-113\" font-family=\"Times,serif\" font-size=\"10.00\">2</text>\n</g>\n<!-- b_G1 -->\n<g id=\"node6\" class=\"node\">\n<title>b_G1</title>\n<text text-anchor=\"middle\" x=\"234\" y=\"-68.3\" font-family=\"Times,serif\" font-size=\"14.00\">b</text>\n</g>\n<!-- PlusEqualProduct&#45;&gt;b_G1 -->\n<g id=\"edge5\" class=\"edge\">\n<title>PlusEqualProduct:e-&gt;b_G1:w</title>\n<path fill=\"none\" stroke=\"black\" d=\"M170,-72C185.67,-72 190.14,-72 204.77,-72\"/>\n<ellipse fill=\"black\" stroke=\"black\" cx=\"206\" cy=\"-72\" rx=\"1\" ry=\"1\"/>\n<text text-anchor=\"middle\" x=\"188.5\" y=\"-75\" font-family=\"Times,serif\" font-size=\"10.00\">2</text>\n</g>\n<!-- result_G2 -->\n<g id=\"node7\" class=\"node\">\n<title>result_G2</title>\n<text text-anchor=\"middle\" x=\"234\" y=\"-14.3\" font-family=\"Times,serif\" font-size=\"14.00\">result</text>\n</g>\n<!-- PlusEqualProduct&#45;&gt;result_G2 -->\n<g id=\"edge6\" class=\"edge\">\n<title>PlusEqualProduct:e-&gt;result_G2:w</title>\n<path fill=\"none\" stroke=\"black\" d=\"M170,-51C191.17,-51 185.47,-20.53 204.55,-18.15\"/>\n<ellipse fill=\"black\" stroke=\"black\" cx=\"206\" cy=\"-18.06\" rx=\"1\" ry=\"1\"/>\n<text text-anchor=\"middle\" x=\"188.5\" y=\"-39\" font-family=\"Times,serif\" font-size=\"10.00\">4</text>\n</g>\n</g>\n</svg>",
          "text/plain": "<IPython.core.display.SVG object>"
         },
         "metadata": {},
         "output_type": "display_data"
        }
       ],
       "tabbable": null,
       "tooltip": null
      }
     },
     "2990b561f7b44184b3029ce6e8ddc245": {
      "model_module": "@jupyter-widgets/base",
      "model_module_version": "2.0.0",
      "model_name": "LayoutModel",
      "state": {
       "_model_module": "@jupyter-widgets/base",
       "_model_module_version": "2.0.0",
       "_model_name": "LayoutModel",
       "_view_count": null,
       "_view_module": "@jupyter-widgets/base",
       "_view_module_version": "2.0.0",
       "_view_name": "LayoutView",
       "align_content": null,
       "align_items": null,
       "align_self": null,
       "border_bottom": null,
       "border_left": null,
       "border_right": null,
       "border_top": null,
       "bottom": null,
       "display": null,
       "flex": null,
       "flex_flow": null,
       "grid_area": null,
       "grid_auto_columns": null,
       "grid_auto_flow": null,
       "grid_auto_rows": null,
       "grid_column": null,
       "grid_gap": null,
       "grid_row": null,
       "grid_template_areas": null,
       "grid_template_columns": null,
       "grid_template_rows": null,
       "height": null,
       "justify_content": null,
       "justify_items": null,
       "left": null,
       "margin": null,
       "max_height": null,
       "max_width": null,
       "min_height": null,
       "min_width": null,
       "object_fit": null,
       "object_position": null,
       "order": null,
       "overflow": null,
       "padding": null,
       "right": null,
       "top": null,
       "visibility": null,
       "width": null
      }
     },
     "3a7ea20f93df423ca709b6be0c2d63ac": {
      "model_module": "@jupyter-widgets/base",
      "model_module_version": "2.0.0",
      "model_name": "LayoutModel",
      "state": {
       "_model_module": "@jupyter-widgets/base",
       "_model_module_version": "2.0.0",
       "_model_name": "LayoutModel",
       "_view_count": null,
       "_view_module": "@jupyter-widgets/base",
       "_view_module_version": "2.0.0",
       "_view_name": "LayoutView",
       "align_content": null,
       "align_items": null,
       "align_self": null,
       "border_bottom": null,
       "border_left": null,
       "border_right": null,
       "border_top": null,
       "bottom": null,
       "display": null,
       "flex": null,
       "flex_flow": null,
       "grid_area": null,
       "grid_auto_columns": null,
       "grid_auto_flow": null,
       "grid_auto_rows": null,
       "grid_column": null,
       "grid_gap": null,
       "grid_row": null,
       "grid_template_areas": null,
       "grid_template_columns": null,
       "grid_template_rows": null,
       "height": null,
       "justify_content": null,
       "justify_items": null,
       "left": null,
       "margin": null,
       "max_height": null,
       "max_width": null,
       "min_height": null,
       "min_width": null,
       "object_fit": null,
       "object_position": null,
       "order": null,
       "overflow": null,
       "padding": null,
       "right": null,
       "top": null,
       "visibility": null,
       "width": null
      }
     },
     "3e7b8c6084d64f218a11815659d81a80": {
      "model_module": "@jupyter-widgets/output",
      "model_module_version": "1.0.0",
      "model_name": "OutputModel",
      "state": {
       "_dom_classes": [],
       "_model_module": "@jupyter-widgets/output",
       "_model_module_version": "1.0.0",
       "_model_name": "OutputModel",
       "_view_count": null,
       "_view_module": "@jupyter-widgets/output",
       "_view_module_version": "1.0.0",
       "_view_name": "OutputView",
       "layout": "IPY_MODEL_2990b561f7b44184b3029ce6e8ddc245",
       "msg_id": "",
       "outputs": [
        {
         "data": {
          "text/markdown": "`scale_int_by_real`",
          "text/plain": "<IPython.core.display.Markdown object>"
         },
         "metadata": {},
         "output_type": "display_data"
        },
        {
         "data": {
          "image/svg+xml": "<svg xmlns=\"http://www.w3.org/2000/svg\" xmlns:xlink=\"http://www.w3.org/1999/xlink\" width=\"260pt\" height=\"152pt\" viewBox=\"0.00 0.00 260.00 152.00\">\n<g id=\"graph0\" class=\"graph\" transform=\"scale(1 1) rotate(0) translate(4 148)\">\n<title>my_graph</title>\n<polygon fill=\"white\" stroke=\"transparent\" points=\"-4,4 -4,-148 256,-148 256,4 -4,4\"/>\n<!-- real_in_G7 -->\n<g id=\"node1\" class=\"node\">\n<title>real_in_G7</title>\n<text text-anchor=\"middle\" x=\"27\" y=\"-106.3\" font-family=\"Times,serif\" font-size=\"14.00\">real_in</text>\n</g>\n<!-- ScaleIntByReal -->\n<g id=\"node3\" class=\"node\">\n<title>ScaleIntByReal</title>\n<polygon fill=\"none\" stroke=\"black\" points=\"91,-104 91,-121 161,-121 161,-104 91,-104\"/>\n<text text-anchor=\"start\" x=\"94\" y=\"-110\" font-family=\"Times,serif\" font-size=\"10.00\">ScaleIntByReal</text>\n<polygon fill=\"none\" stroke=\"black\" points=\"91,-83 91,-104 161,-104 161,-83 91,-83\"/>\n<text text-anchor=\"start\" x=\"107\" y=\"-89.8\" font-family=\"Times,serif\" font-size=\"14.00\">real_in</text>\n<polygon fill=\"none\" stroke=\"black\" points=\"91,-62 91,-83 161,-83 161,-62 91,-62\"/>\n<text text-anchor=\"start\" x=\"110\" y=\"-68.8\" font-family=\"Times,serif\" font-size=\"14.00\">int_in</text>\n<polygon fill=\"none\" stroke=\"black\" points=\"91,-41 91,-62 110,-62 110,-41 91,-41\"/>\n<polygon fill=\"none\" stroke=\"black\" points=\"110,-41 110,-62 161,-62 161,-41 110,-41\"/>\n<text text-anchor=\"start\" x=\"120\" y=\"-47.8\" font-family=\"Times,serif\" font-size=\"14.00\">result</text>\n</g>\n<!-- real_in_G7&#45;&gt;ScaleIntByReal -->\n<g id=\"edge1\" class=\"edge\">\n<title>real_in_G7:e-&gt;ScaleIntByReal:w</title>\n<path fill=\"none\" stroke=\"black\" d=\"M54,-110C71.22,-110 72.97,-95.23 88.98,-94.07\"/>\n<ellipse fill=\"black\" stroke=\"black\" cx=\"90\" cy=\"-94.04\" rx=\"1\" ry=\"1\"/>\n<text text-anchor=\"middle\" x=\"72.5\" y=\"-105\" font-family=\"Times,serif\" font-size=\"10.00\">12</text>\n</g>\n<!-- int_in_G0 -->\n<g id=\"node2\" class=\"node\">\n<title>int_in_G0</title>\n<text text-anchor=\"middle\" x=\"27\" y=\"-52.3\" font-family=\"Times,serif\" font-size=\"14.00\">int_in</text>\n</g>\n<!-- int_in_G0&#45;&gt;ScaleIntByReal -->\n<g id=\"edge2\" class=\"edge\">\n<title>int_in_G0:e-&gt;ScaleIntByReal:w</title>\n<path fill=\"none\" stroke=\"black\" d=\"M54,-56C71.22,-56 72.97,-70.77 88.98,-71.93\"/>\n<ellipse fill=\"black\" stroke=\"black\" cx=\"90\" cy=\"-71.96\" rx=\"1\" ry=\"1\"/>\n<text text-anchor=\"middle\" x=\"72.5\" y=\"-68\" font-family=\"Times,serif\" font-size=\"10.00\">4</text>\n</g>\n<!-- real_in_G1 -->\n<g id=\"node4\" class=\"node\">\n<title>real_in_G1</title>\n<text text-anchor=\"middle\" x=\"225\" y=\"-122.3\" font-family=\"Times,serif\" font-size=\"14.00\">real_in</text>\n</g>\n<!-- ScaleIntByReal&#45;&gt;real_in_G1 -->\n<g id=\"edge3\" class=\"edge\">\n<title>ScaleIntByReal:e-&gt;real_in_G1:w</title>\n<path fill=\"none\" stroke=\"black\" d=\"M161,-94C181.89,-94 176.72,-123.55 195.58,-125.86\"/>\n<ellipse fill=\"black\" stroke=\"black\" cx=\"197\" cy=\"-125.94\" rx=\"1\" ry=\"1\"/>\n<text text-anchor=\"middle\" x=\"179.5\" y=\"-113\" font-family=\"Times,serif\" font-size=\"10.00\">12</text>\n</g>\n<!-- int_in_G4 -->\n<g id=\"node5\" class=\"node\">\n<title>int_in_G4</title>\n<text text-anchor=\"middle\" x=\"225\" y=\"-68.3\" font-family=\"Times,serif\" font-size=\"14.00\">int_in</text>\n</g>\n<!-- ScaleIntByReal&#45;&gt;int_in_G4 -->\n<g id=\"edge4\" class=\"edge\">\n<title>ScaleIntByReal:e-&gt;int_in_G4:w</title>\n<path fill=\"none\" stroke=\"black\" d=\"M161,-72C176.67,-72 181.14,-72 195.77,-72\"/>\n<ellipse fill=\"black\" stroke=\"black\" cx=\"197\" cy=\"-72\" rx=\"1\" ry=\"1\"/>\n<text text-anchor=\"middle\" x=\"179.5\" y=\"-75\" font-family=\"Times,serif\" font-size=\"10.00\">4</text>\n</g>\n<!-- result_G6 -->\n<g id=\"node6\" class=\"node\">\n<title>result_G6</title>\n<text text-anchor=\"middle\" x=\"225\" y=\"-14.3\" font-family=\"Times,serif\" font-size=\"14.00\">result</text>\n</g>\n<!-- ScaleIntByReal&#45;&gt;result_G6 -->\n<g id=\"edge5\" class=\"edge\">\n<title>ScaleIntByReal:e-&gt;result_G6:w</title>\n<path fill=\"none\" stroke=\"black\" d=\"M161,-51C182.17,-51 176.47,-20.53 195.55,-18.15\"/>\n<ellipse fill=\"black\" stroke=\"black\" cx=\"197\" cy=\"-18.06\" rx=\"1\" ry=\"1\"/>\n<text text-anchor=\"middle\" x=\"179.5\" y=\"-39\" font-family=\"Times,serif\" font-size=\"10.00\">12</text>\n</g>\n</g>\n</svg>",
          "text/plain": "<IPython.core.display.SVG object>"
         },
         "metadata": {},
         "output_type": "display_data"
        }
       ],
       "tabbable": null,
       "tooltip": null
      }
     },
     "50a17d0dc7cb4ebe92188bd9c129ced8": {
      "model_module": "@jupyter-widgets/base",
      "model_module_version": "2.0.0",
      "model_name": "LayoutModel",
      "state": {
       "_model_module": "@jupyter-widgets/base",
       "_model_module_version": "2.0.0",
       "_model_name": "LayoutModel",
       "_view_count": null,
       "_view_module": "@jupyter-widgets/base",
       "_view_module_version": "2.0.0",
       "_view_name": "LayoutView",
       "align_content": null,
       "align_items": null,
       "align_self": null,
       "border_bottom": null,
       "border_left": null,
       "border_right": null,
       "border_top": null,
       "bottom": null,
       "display": null,
       "flex": null,
       "flex_flow": null,
       "grid_area": null,
       "grid_auto_columns": null,
       "grid_auto_flow": null,
       "grid_auto_rows": null,
       "grid_column": null,
       "grid_gap": null,
       "grid_row": null,
       "grid_template_areas": null,
       "grid_template_columns": null,
       "grid_template_rows": null,
       "height": null,
       "justify_content": null,
       "justify_items": null,
       "left": null,
       "margin": null,
       "max_height": null,
       "max_width": null,
       "min_height": null,
       "min_width": null,
       "object_fit": null,
       "object_position": null,
       "order": null,
       "overflow": null,
       "padding": null,
       "right": null,
       "top": null,
       "visibility": null,
       "width": null
      }
     },
     "5139fe2c7ab3414993b7cd127752b69d": {
      "model_module": "@jupyter-widgets/base",
      "model_module_version": "2.0.0",
      "model_name": "LayoutModel",
      "state": {
       "_model_module": "@jupyter-widgets/base",
       "_model_module_version": "2.0.0",
       "_model_name": "LayoutModel",
       "_view_count": null,
       "_view_module": "@jupyter-widgets/base",
       "_view_module_version": "2.0.0",
       "_view_name": "LayoutView",
       "align_content": null,
       "align_items": null,
       "align_self": null,
       "border_bottom": null,
       "border_left": null,
       "border_right": null,
       "border_top": null,
       "bottom": null,
       "display": null,
       "flex": null,
       "flex_flow": null,
       "grid_area": null,
       "grid_auto_columns": null,
       "grid_auto_flow": null,
       "grid_auto_rows": null,
       "grid_column": null,
       "grid_gap": null,
       "grid_row": null,
       "grid_template_areas": null,
       "grid_template_columns": null,
       "grid_template_rows": null,
       "height": null,
       "justify_content": null,
       "justify_items": null,
       "left": null,
       "margin": null,
       "max_height": null,
       "max_width": null,
       "min_height": null,
       "min_width": null,
       "object_fit": null,
       "object_position": null,
       "order": null,
       "overflow": null,
       "padding": null,
       "right": null,
       "top": null,
       "visibility": null,
       "width": null
      }
     },
     "544f7b20ce0647589400e89ca76b754b": {
      "model_module": "@jupyter-widgets/controls",
      "model_module_version": "2.0.0",
      "model_name": "HBoxModel",
      "state": {
       "_dom_classes": [],
       "_model_module": "@jupyter-widgets/controls",
       "_model_module_version": "2.0.0",
       "_model_name": "HBoxModel",
       "_view_count": null,
       "_view_module": "@jupyter-widgets/controls",
       "_view_module_version": "2.0.0",
       "_view_name": "HBoxView",
       "box_style": "",
       "children": [
        "IPY_MODEL_3e7b8c6084d64f218a11815659d81a80"
       ],
       "layout": "IPY_MODEL_82e20cbc92da492898908ff78cb23480",
       "tabbable": null,
       "tooltip": null
      }
     },
     "64886cb957ae4fff99940d72dde501a1": {
      "model_module": "@jupyter-widgets/controls",
      "model_module_version": "2.0.0",
      "model_name": "HBoxModel",
      "state": {
       "_dom_classes": [],
       "_model_module": "@jupyter-widgets/controls",
       "_model_module_version": "2.0.0",
       "_model_name": "HBoxModel",
       "_view_count": null,
       "_view_module": "@jupyter-widgets/controls",
       "_view_module_version": "2.0.0",
       "_view_name": "HBoxView",
       "box_style": "",
       "children": [
        "IPY_MODEL_c6440b66d252442298449d98a53b360f"
       ],
       "layout": "IPY_MODEL_fe6a7bcc0f784cccaf6b0aecfe8a078c",
       "tabbable": null,
       "tooltip": null
      }
     },
     "65c3b4b783dd4260b7b890b46033f380": {
      "model_module": "@jupyter-widgets/output",
      "model_module_version": "1.0.0",
      "model_name": "OutputModel",
      "state": {
       "_dom_classes": [],
       "_model_module": "@jupyter-widgets/output",
       "_model_module_version": "1.0.0",
       "_model_name": "OutputModel",
       "_view_count": null,
       "_view_module": "@jupyter-widgets/output",
       "_view_module_version": "1.0.0",
       "_view_name": "OutputView",
       "layout": "IPY_MODEL_f2096a1b4f4044279e710035a95974ed",
       "msg_id": "",
       "outputs": [
        {
         "data": {
          "text/markdown": "`invert_real_number`",
          "text/plain": "<IPython.core.display.Markdown object>"
         },
         "metadata": {},
         "output_type": "display_data"
        },
        {
         "data": {
          "image/svg+xml": "<svg xmlns=\"http://www.w3.org/2000/svg\" xmlns:xlink=\"http://www.w3.org/1999/xlink\" width=\"272pt\" height=\"98pt\" viewBox=\"0.00 0.00 272.00 98.00\">\n<g id=\"graph0\" class=\"graph\" transform=\"scale(1 1) rotate(0) translate(4 94)\">\n<title>my_graph</title>\n<polygon fill=\"white\" stroke=\"transparent\" points=\"-4,4 -4,-94 268,-94 268,4 -4,4\"/>\n<!-- a_G3 -->\n<g id=\"node1\" class=\"node\">\n<title>a_G3</title>\n<text text-anchor=\"middle\" x=\"27\" y=\"-68.3\" font-family=\"Times,serif\" font-size=\"14.00\">a</text>\n</g>\n<!-- InvertRealNumber -->\n<g id=\"node3\" class=\"node\">\n<title>InvertRealNumber</title>\n<polygon fill=\"none\" stroke=\"black\" points=\"91,-66 91,-83 173,-83 173,-66 91,-66\"/>\n<text text-anchor=\"start\" x=\"94\" y=\"-72\" font-family=\"Times,serif\" font-size=\"10.00\">InvertRealNumber</text>\n<polygon fill=\"none\" stroke=\"black\" points=\"91,-45 91,-66 173,-66 173,-45 91,-45\"/>\n<text text-anchor=\"start\" x=\"128.5\" y=\"-51.8\" font-family=\"Times,serif\" font-size=\"14.00\">a</text>\n<polygon fill=\"none\" stroke=\"black\" points=\"91,-24 91,-45 173,-45 173,-24 91,-24\"/>\n<text text-anchor=\"start\" x=\"116.5\" y=\"-30.8\" font-family=\"Times,serif\" font-size=\"14.00\">result</text>\n</g>\n<!-- a_G3&#45;&gt;InvertRealNumber -->\n<g id=\"edge1\" class=\"edge\">\n<title>a_G3:e-&gt;InvertRealNumber:w</title>\n<path fill=\"none\" stroke=\"black\" d=\"M54,-72C71.22,-72 72.97,-57.23 88.98,-56.07\"/>\n<ellipse fill=\"black\" stroke=\"black\" cx=\"90\" cy=\"-56.04\" rx=\"1\" ry=\"1\"/>\n<text text-anchor=\"middle\" x=\"72.5\" y=\"-67\" font-family=\"Times,serif\" font-size=\"10.00\">10</text>\n</g>\n<!-- result_G1 -->\n<g id=\"node2\" class=\"node\">\n<title>result_G1</title>\n<text text-anchor=\"middle\" x=\"27\" y=\"-14.3\" font-family=\"Times,serif\" font-size=\"14.00\">result</text>\n</g>\n<!-- result_G1&#45;&gt;InvertRealNumber -->\n<g id=\"edge2\" class=\"edge\">\n<title>result_G1:e-&gt;InvertRealNumber:w</title>\n<path fill=\"none\" stroke=\"black\" d=\"M54,-18C71.22,-18 72.97,-32.77 88.98,-33.93\"/>\n<ellipse fill=\"black\" stroke=\"black\" cx=\"90\" cy=\"-33.96\" rx=\"1\" ry=\"1\"/>\n<text text-anchor=\"middle\" x=\"72.5\" y=\"-29\" font-family=\"Times,serif\" font-size=\"10.00\">10</text>\n</g>\n<!-- a_G4 -->\n<g id=\"node4\" class=\"node\">\n<title>a_G4</title>\n<text text-anchor=\"middle\" x=\"237\" y=\"-68.3\" font-family=\"Times,serif\" font-size=\"14.00\">a</text>\n</g>\n<!-- InvertRealNumber&#45;&gt;a_G4 -->\n<g id=\"edge3\" class=\"edge\">\n<title>InvertRealNumber:e-&gt;a_G4:w</title>\n<path fill=\"none\" stroke=\"black\" d=\"M173,-56C190.22,-56 191.97,-70.77 207.98,-71.93\"/>\n<ellipse fill=\"black\" stroke=\"black\" cx=\"209\" cy=\"-71.96\" rx=\"1\" ry=\"1\"/>\n<text text-anchor=\"middle\" x=\"191.5\" y=\"-67\" font-family=\"Times,serif\" font-size=\"10.00\">10</text>\n</g>\n<!-- result_G0 -->\n<g id=\"node5\" class=\"node\">\n<title>result_G0</title>\n<text text-anchor=\"middle\" x=\"237\" y=\"-14.3\" font-family=\"Times,serif\" font-size=\"14.00\">result</text>\n</g>\n<!-- InvertRealNumber&#45;&gt;result_G0 -->\n<g id=\"edge4\" class=\"edge\">\n<title>InvertRealNumber:e-&gt;result_G0:w</title>\n<path fill=\"none\" stroke=\"black\" d=\"M173,-34C190.22,-34 191.97,-19.23 207.98,-18.07\"/>\n<ellipse fill=\"black\" stroke=\"black\" cx=\"209\" cy=\"-18.04\" rx=\"1\" ry=\"1\"/>\n<text text-anchor=\"middle\" x=\"191.5\" y=\"-29\" font-family=\"Times,serif\" font-size=\"10.00\">10</text>\n</g>\n</g>\n</svg>",
          "text/plain": "<IPython.core.display.SVG object>"
         },
         "metadata": {},
         "output_type": "display_data"
        }
       ],
       "tabbable": null,
       "tooltip": null
      }
     },
     "82e20cbc92da492898908ff78cb23480": {
      "model_module": "@jupyter-widgets/base",
      "model_module_version": "2.0.0",
      "model_name": "LayoutModel",
      "state": {
       "_model_module": "@jupyter-widgets/base",
       "_model_module_version": "2.0.0",
       "_model_name": "LayoutModel",
       "_view_count": null,
       "_view_module": "@jupyter-widgets/base",
       "_view_module_version": "2.0.0",
       "_view_name": "LayoutView",
       "align_content": null,
       "align_items": null,
       "align_self": null,
       "border_bottom": null,
       "border_left": null,
       "border_right": null,
       "border_top": null,
       "bottom": null,
       "display": null,
       "flex": null,
       "flex_flow": null,
       "grid_area": null,
       "grid_auto_columns": null,
       "grid_auto_flow": null,
       "grid_auto_rows": null,
       "grid_column": null,
       "grid_gap": null,
       "grid_row": null,
       "grid_template_areas": null,
       "grid_template_columns": null,
       "grid_template_rows": null,
       "height": null,
       "justify_content": null,
       "justify_items": null,
       "left": null,
       "margin": null,
       "max_height": null,
       "max_width": null,
       "min_height": null,
       "min_width": null,
       "object_fit": null,
       "object_position": null,
       "order": null,
       "overflow": null,
       "padding": null,
       "right": null,
       "top": null,
       "visibility": null,
       "width": null
      }
     },
     "8521c12c88fe48b383a1d76649f2a23a": {
      "model_module": "@jupyter-widgets/controls",
      "model_module_version": "2.0.0",
      "model_name": "HBoxModel",
      "state": {
       "_dom_classes": [],
       "_model_module": "@jupyter-widgets/controls",
       "_model_module_version": "2.0.0",
       "_model_name": "HBoxModel",
       "_view_count": null,
       "_view_module": "@jupyter-widgets/controls",
       "_view_module_version": "2.0.0",
       "_view_name": "HBoxView",
       "box_style": "",
       "children": [
        "IPY_MODEL_65c3b4b783dd4260b7b890b46033f380"
       ],
       "layout": "IPY_MODEL_024fae37cee1443cb063a0d6fb069924",
       "tabbable": null,
       "tooltip": null
      }
     },
     "8543b97ce27f4afaabaf5b7dd2f2de2e": {
      "model_module": "@jupyter-widgets/output",
      "model_module_version": "1.0.0",
      "model_name": "OutputModel",
      "state": {
       "_dom_classes": [],
       "_model_module": "@jupyter-widgets/output",
       "_model_module_version": "1.0.0",
       "_model_name": "OutputModel",
       "_view_count": null,
       "_view_module": "@jupyter-widgets/output",
       "_view_module_version": "1.0.0",
       "_view_name": "OutputView",
       "layout": "IPY_MODEL_9b10612527c244098eacdd1e45bb7abc",
       "msg_id": "",
       "outputs": [
        {
         "data": {
          "text/markdown": "`square_real_number`",
          "text/plain": "<IPython.core.display.Markdown object>"
         },
         "metadata": {},
         "output_type": "display_data"
        },
        {
         "data": {
          "image/svg+xml": "<svg xmlns=\"http://www.w3.org/2000/svg\" xmlns:xlink=\"http://www.w3.org/1999/xlink\" width=\"276pt\" height=\"152pt\" viewBox=\"0.00 0.00 276.00 152.00\">\n<g id=\"graph0\" class=\"graph\" transform=\"scale(1 1) rotate(0) translate(4 148)\">\n<title>my_graph</title>\n<polygon fill=\"white\" stroke=\"transparent\" points=\"-4,4 -4,-148 272,-148 272,4 -4,4\"/>\n<!-- a_G1 -->\n<g id=\"node1\" class=\"node\">\n<title>a_G1</title>\n<text text-anchor=\"middle\" x=\"27\" y=\"-106.3\" font-family=\"Times,serif\" font-size=\"14.00\">a</text>\n</g>\n<!-- SquareRealNumber -->\n<g id=\"node3\" class=\"node\">\n<title>SquareRealNumber</title>\n<polygon fill=\"none\" stroke=\"black\" points=\"91,-104 91,-121 177,-121 177,-104 91,-104\"/>\n<text text-anchor=\"start\" x=\"94\" y=\"-110\" font-family=\"Times,serif\" font-size=\"10.00\">SquareRealNumber</text>\n<polygon fill=\"none\" stroke=\"black\" points=\"91,-83 91,-104 177,-104 177,-83 91,-83\"/>\n<text text-anchor=\"start\" x=\"130.5\" y=\"-89.8\" font-family=\"Times,serif\" font-size=\"14.00\">a</text>\n<polygon fill=\"none\" stroke=\"black\" points=\"91,-62 91,-83 177,-83 177,-62 91,-62\"/>\n<text text-anchor=\"start\" x=\"130.5\" y=\"-68.8\" font-family=\"Times,serif\" font-size=\"14.00\">b</text>\n<polygon fill=\"none\" stroke=\"black\" points=\"91,-41 91,-62 118,-62 118,-41 91,-41\"/>\n<polygon fill=\"none\" stroke=\"black\" points=\"118,-41 118,-62 177,-62 177,-41 118,-41\"/>\n<text text-anchor=\"start\" x=\"132\" y=\"-47.8\" font-family=\"Times,serif\" font-size=\"14.00\">result</text>\n</g>\n<!-- a_G1&#45;&gt;SquareRealNumber -->\n<g id=\"edge1\" class=\"edge\">\n<title>a_G1:e-&gt;SquareRealNumber:w</title>\n<path fill=\"none\" stroke=\"black\" d=\"M54,-110C71.22,-110 72.97,-95.23 88.98,-94.07\"/>\n<ellipse fill=\"black\" stroke=\"black\" cx=\"90\" cy=\"-94.04\" rx=\"1\" ry=\"1\"/>\n<text text-anchor=\"middle\" x=\"72.5\" y=\"-105\" font-family=\"Times,serif\" font-size=\"10.00\">10</text>\n</g>\n<!-- b_G3 -->\n<g id=\"node2\" class=\"node\">\n<title>b_G3</title>\n<text text-anchor=\"middle\" x=\"27\" y=\"-52.3\" font-family=\"Times,serif\" font-size=\"14.00\">b</text>\n</g>\n<!-- b_G3&#45;&gt;SquareRealNumber -->\n<g id=\"edge2\" class=\"edge\">\n<title>b_G3:e-&gt;SquareRealNumber:w</title>\n<path fill=\"none\" stroke=\"black\" d=\"M54,-56C71.22,-56 72.97,-70.77 88.98,-71.93\"/>\n<ellipse fill=\"black\" stroke=\"black\" cx=\"90\" cy=\"-71.96\" rx=\"1\" ry=\"1\"/>\n<text text-anchor=\"middle\" x=\"72.5\" y=\"-68\" font-family=\"Times,serif\" font-size=\"10.00\">10</text>\n</g>\n<!-- a_G5 -->\n<g id=\"node4\" class=\"node\">\n<title>a_G5</title>\n<text text-anchor=\"middle\" x=\"241\" y=\"-122.3\" font-family=\"Times,serif\" font-size=\"14.00\">a</text>\n</g>\n<!-- SquareRealNumber&#45;&gt;a_G5 -->\n<g id=\"edge3\" class=\"edge\">\n<title>SquareRealNumber:e-&gt;a_G5:w</title>\n<path fill=\"none\" stroke=\"black\" d=\"M177,-94C197.89,-94 192.72,-123.55 211.58,-125.86\"/>\n<ellipse fill=\"black\" stroke=\"black\" cx=\"213\" cy=\"-125.94\" rx=\"1\" ry=\"1\"/>\n<text text-anchor=\"middle\" x=\"195.5\" y=\"-113\" font-family=\"Times,serif\" font-size=\"10.00\">10</text>\n</g>\n<!-- b_G7 -->\n<g id=\"node5\" class=\"node\">\n<title>b_G7</title>\n<text text-anchor=\"middle\" x=\"241\" y=\"-68.3\" font-family=\"Times,serif\" font-size=\"14.00\">b</text>\n</g>\n<!-- SquareRealNumber&#45;&gt;b_G7 -->\n<g id=\"edge4\" class=\"edge\">\n<title>SquareRealNumber:e-&gt;b_G7:w</title>\n<path fill=\"none\" stroke=\"black\" d=\"M177,-72C192.67,-72 197.14,-72 211.77,-72\"/>\n<ellipse fill=\"black\" stroke=\"black\" cx=\"213\" cy=\"-72\" rx=\"1\" ry=\"1\"/>\n<text text-anchor=\"middle\" x=\"195.5\" y=\"-75\" font-family=\"Times,serif\" font-size=\"10.00\">10</text>\n</g>\n<!-- result_G0 -->\n<g id=\"node6\" class=\"node\">\n<title>result_G0</title>\n<text text-anchor=\"middle\" x=\"241\" y=\"-14.3\" font-family=\"Times,serif\" font-size=\"14.00\">result</text>\n</g>\n<!-- SquareRealNumber&#45;&gt;result_G0 -->\n<g id=\"edge5\" class=\"edge\">\n<title>SquareRealNumber:e-&gt;result_G0:w</title>\n<path fill=\"none\" stroke=\"black\" d=\"M177,-51C198.17,-51 192.47,-20.53 211.55,-18.15\"/>\n<ellipse fill=\"black\" stroke=\"black\" cx=\"213\" cy=\"-18.06\" rx=\"1\" ry=\"1\"/>\n<text text-anchor=\"middle\" x=\"195.5\" y=\"-39\" font-family=\"Times,serif\" font-size=\"10.00\">10</text>\n</g>\n</g>\n</svg>",
          "text/plain": "<IPython.core.display.SVG object>"
         },
         "metadata": {},
         "output_type": "display_data"
        }
       ],
       "tabbable": null,
       "tooltip": null
      }
     },
     "9b10612527c244098eacdd1e45bb7abc": {
      "model_module": "@jupyter-widgets/base",
      "model_module_version": "2.0.0",
      "model_name": "LayoutModel",
      "state": {
       "_model_module": "@jupyter-widgets/base",
       "_model_module_version": "2.0.0",
       "_model_name": "LayoutModel",
       "_view_count": null,
       "_view_module": "@jupyter-widgets/base",
       "_view_module_version": "2.0.0",
       "_view_name": "LayoutView",
       "align_content": null,
       "align_items": null,
       "align_self": null,
       "border_bottom": null,
       "border_left": null,
       "border_right": null,
       "border_top": null,
       "bottom": null,
       "display": null,
       "flex": null,
       "flex_flow": null,
       "grid_area": null,
       "grid_auto_columns": null,
       "grid_auto_flow": null,
       "grid_auto_rows": null,
       "grid_column": null,
       "grid_gap": null,
       "grid_row": null,
       "grid_template_areas": null,
       "grid_template_columns": null,
       "grid_template_rows": null,
       "height": null,
       "justify_content": null,
       "justify_items": null,
       "left": null,
       "margin": null,
       "max_height": null,
       "max_width": null,
       "min_height": null,
       "min_width": null,
       "object_fit": null,
       "object_position": null,
       "order": null,
       "overflow": null,
       "padding": null,
       "right": null,
       "top": null,
       "visibility": null,
       "width": null
      }
     },
     "a061a28c69144a66a29ce7b52fa62a7c": {
      "model_module": "@jupyter-widgets/controls",
      "model_module_version": "2.0.0",
      "model_name": "HBoxModel",
      "state": {
       "_dom_classes": [],
       "_model_module": "@jupyter-widgets/controls",
       "_model_module_version": "2.0.0",
       "_model_name": "HBoxModel",
       "_view_count": null,
       "_view_module": "@jupyter-widgets/controls",
       "_view_module_version": "2.0.0",
       "_view_name": "HBoxView",
       "box_style": "",
       "children": [
        "IPY_MODEL_297a93a1aa714154bccbff2d23a521b6"
       ],
       "layout": "IPY_MODEL_b72f5d0858274fddba4dd27abfed1f11",
       "tabbable": null,
       "tooltip": null
      }
     },
     "b23194eba7e54eea87c1eeb26652438a": {
      "model_module": "@jupyter-widgets/base",
      "model_module_version": "2.0.0",
      "model_name": "LayoutModel",
      "state": {
       "_model_module": "@jupyter-widgets/base",
       "_model_module_version": "2.0.0",
       "_model_name": "LayoutModel",
       "_view_count": null,
       "_view_module": "@jupyter-widgets/base",
       "_view_module_version": "2.0.0",
       "_view_name": "LayoutView",
       "align_content": null,
       "align_items": null,
       "align_self": null,
       "border_bottom": null,
       "border_left": null,
       "border_right": null,
       "border_top": null,
       "bottom": null,
       "display": null,
       "flex": null,
       "flex_flow": null,
       "grid_area": null,
       "grid_auto_columns": null,
       "grid_auto_flow": null,
       "grid_auto_rows": null,
       "grid_column": null,
       "grid_gap": null,
       "grid_row": null,
       "grid_template_areas": null,
       "grid_template_columns": null,
       "grid_template_rows": null,
       "height": null,
       "justify_content": null,
       "justify_items": null,
       "left": null,
       "margin": null,
       "max_height": null,
       "max_width": null,
       "min_height": null,
       "min_width": null,
       "object_fit": null,
       "object_position": null,
       "order": null,
       "overflow": null,
       "padding": null,
       "right": null,
       "top": null,
       "visibility": null,
       "width": null
      }
     },
     "b66c221960744c14b7730e302dd682e4": {
      "model_module": "@jupyter-widgets/controls",
      "model_module_version": "2.0.0",
      "model_name": "HBoxModel",
      "state": {
       "_dom_classes": [],
       "_model_module": "@jupyter-widgets/controls",
       "_model_module_version": "2.0.0",
       "_model_name": "HBoxModel",
       "_view_count": null,
       "_view_module": "@jupyter-widgets/controls",
       "_view_module_version": "2.0.0",
       "_view_name": "HBoxView",
       "box_style": "",
       "children": [
        "IPY_MODEL_8543b97ce27f4afaabaf5b7dd2f2de2e"
       ],
       "layout": "IPY_MODEL_c00c4e4cc48249c7ada24555c26b3688",
       "tabbable": null,
       "tooltip": null
      }
     },
     "b6a12399026747f9a10556203ef64829": {
      "model_module": "@jupyter-widgets/controls",
      "model_module_version": "2.0.0",
      "model_name": "HBoxModel",
      "state": {
       "_dom_classes": [],
       "_model_module": "@jupyter-widgets/controls",
       "_model_module_version": "2.0.0",
       "_model_name": "HBoxModel",
       "_view_count": null,
       "_view_module": "@jupyter-widgets/controls",
       "_view_module_version": "2.0.0",
       "_view_name": "HBoxView",
       "box_style": "",
       "children": [
        "IPY_MODEL_c037471e85df4229a5e2f4f07e6c4b71"
       ],
       "layout": "IPY_MODEL_bf19e72fa3d54e89ae0cdbc10507e091",
       "tabbable": null,
       "tooltip": null
      }
     },
     "b72f5d0858274fddba4dd27abfed1f11": {
      "model_module": "@jupyter-widgets/base",
      "model_module_version": "2.0.0",
      "model_name": "LayoutModel",
      "state": {
       "_model_module": "@jupyter-widgets/base",
       "_model_module_version": "2.0.0",
       "_model_name": "LayoutModel",
       "_view_count": null,
       "_view_module": "@jupyter-widgets/base",
       "_view_module_version": "2.0.0",
       "_view_name": "LayoutView",
       "align_content": null,
       "align_items": null,
       "align_self": null,
       "border_bottom": null,
       "border_left": null,
       "border_right": null,
       "border_top": null,
       "bottom": null,
       "display": null,
       "flex": null,
       "flex_flow": null,
       "grid_area": null,
       "grid_auto_columns": null,
       "grid_auto_flow": null,
       "grid_auto_rows": null,
       "grid_column": null,
       "grid_gap": null,
       "grid_row": null,
       "grid_template_areas": null,
       "grid_template_columns": null,
       "grid_template_rows": null,
       "height": null,
       "justify_content": null,
       "justify_items": null,
       "left": null,
       "margin": null,
       "max_height": null,
       "max_width": null,
       "min_height": null,
       "min_width": null,
       "object_fit": null,
       "object_position": null,
       "order": null,
       "overflow": null,
       "padding": null,
       "right": null,
       "top": null,
       "visibility": null,
       "width": null
      }
     },
     "bf19e72fa3d54e89ae0cdbc10507e091": {
      "model_module": "@jupyter-widgets/base",
      "model_module_version": "2.0.0",
      "model_name": "LayoutModel",
      "state": {
       "_model_module": "@jupyter-widgets/base",
       "_model_module_version": "2.0.0",
       "_model_name": "LayoutModel",
       "_view_count": null,
       "_view_module": "@jupyter-widgets/base",
       "_view_module_version": "2.0.0",
       "_view_name": "LayoutView",
       "align_content": null,
       "align_items": null,
       "align_self": null,
       "border_bottom": null,
       "border_left": null,
       "border_right": null,
       "border_top": null,
       "bottom": null,
       "display": null,
       "flex": null,
       "flex_flow": null,
       "grid_area": null,
       "grid_auto_columns": null,
       "grid_auto_flow": null,
       "grid_auto_rows": null,
       "grid_column": null,
       "grid_gap": null,
       "grid_row": null,
       "grid_template_areas": null,
       "grid_template_columns": null,
       "grid_template_rows": null,
       "height": null,
       "justify_content": null,
       "justify_items": null,
       "left": null,
       "margin": null,
       "max_height": null,
       "max_width": null,
       "min_height": null,
       "min_width": null,
       "object_fit": null,
       "object_position": null,
       "order": null,
       "overflow": null,
       "padding": null,
       "right": null,
       "top": null,
       "visibility": null,
       "width": null
      }
     },
     "c00c4e4cc48249c7ada24555c26b3688": {
      "model_module": "@jupyter-widgets/base",
      "model_module_version": "2.0.0",
      "model_name": "LayoutModel",
      "state": {
       "_model_module": "@jupyter-widgets/base",
       "_model_module_version": "2.0.0",
       "_model_name": "LayoutModel",
       "_view_count": null,
       "_view_module": "@jupyter-widgets/base",
       "_view_module_version": "2.0.0",
       "_view_name": "LayoutView",
       "align_content": null,
       "align_items": null,
       "align_self": null,
       "border_bottom": null,
       "border_left": null,
       "border_right": null,
       "border_top": null,
       "bottom": null,
       "display": null,
       "flex": null,
       "flex_flow": null,
       "grid_area": null,
       "grid_auto_columns": null,
       "grid_auto_flow": null,
       "grid_auto_rows": null,
       "grid_column": null,
       "grid_gap": null,
       "grid_row": null,
       "grid_template_areas": null,
       "grid_template_columns": null,
       "grid_template_rows": null,
       "height": null,
       "justify_content": null,
       "justify_items": null,
       "left": null,
       "margin": null,
       "max_height": null,
       "max_width": null,
       "min_height": null,
       "min_width": null,
       "object_fit": null,
       "object_position": null,
       "order": null,
       "overflow": null,
       "padding": null,
       "right": null,
       "top": null,
       "visibility": null,
       "width": null
      }
     },
     "c037471e85df4229a5e2f4f07e6c4b71": {
      "model_module": "@jupyter-widgets/output",
      "model_module_version": "1.0.0",
      "model_name": "OutputModel",
      "state": {
       "_dom_classes": [],
       "_model_module": "@jupyter-widgets/output",
       "_model_module_version": "1.0.0",
       "_model_name": "OutputModel",
       "_view_count": null,
       "_view_module": "@jupyter-widgets/output",
       "_view_module_version": "1.0.0",
       "_view_name": "OutputView",
       "layout": "IPY_MODEL_5139fe2c7ab3414993b7cd127752b69d",
       "msg_id": "",
       "outputs": [
        {
         "data": {
          "text/markdown": "`multiply_two_reals`",
          "text/plain": "<IPython.core.display.Markdown object>"
         },
         "metadata": {},
         "output_type": "display_data"
        },
        {
         "data": {
          "image/svg+xml": "<svg xmlns=\"http://www.w3.org/2000/svg\" xmlns:xlink=\"http://www.w3.org/1999/xlink\" width=\"274pt\" height=\"152pt\" viewBox=\"0.00 0.00 274.00 152.00\">\n<g id=\"graph0\" class=\"graph\" transform=\"scale(1 1) rotate(0) translate(4 148)\">\n<title>my_graph</title>\n<polygon fill=\"white\" stroke=\"transparent\" points=\"-4,4 -4,-148 270,-148 270,4 -4,4\"/>\n<!-- a_G2 -->\n<g id=\"node1\" class=\"node\">\n<title>a_G2</title>\n<text text-anchor=\"middle\" x=\"27\" y=\"-106.3\" font-family=\"Times,serif\" font-size=\"14.00\">a</text>\n</g>\n<!-- MultiplyTwoReals -->\n<g id=\"node3\" class=\"node\">\n<title>MultiplyTwoReals</title>\n<polygon fill=\"none\" stroke=\"black\" points=\"91,-104 91,-121 175,-121 175,-104 91,-104\"/>\n<text text-anchor=\"start\" x=\"94\" y=\"-110\" font-family=\"Times,serif\" font-size=\"10.00\">MultiplyTwoReals</text>\n<polygon fill=\"none\" stroke=\"black\" points=\"91,-83 91,-104 175,-104 175,-83 91,-83\"/>\n<text text-anchor=\"start\" x=\"129.5\" y=\"-89.8\" font-family=\"Times,serif\" font-size=\"14.00\">a</text>\n<polygon fill=\"none\" stroke=\"black\" points=\"91,-62 91,-83 175,-83 175,-62 91,-62\"/>\n<text text-anchor=\"start\" x=\"129.5\" y=\"-68.8\" font-family=\"Times,serif\" font-size=\"14.00\">b</text>\n<polygon fill=\"none\" stroke=\"black\" points=\"91,-41 91,-62 117,-62 117,-41 91,-41\"/>\n<polygon fill=\"none\" stroke=\"black\" points=\"117,-41 117,-62 175,-62 175,-41 117,-41\"/>\n<text text-anchor=\"start\" x=\"130.5\" y=\"-47.8\" font-family=\"Times,serif\" font-size=\"14.00\">result</text>\n</g>\n<!-- a_G2&#45;&gt;MultiplyTwoReals -->\n<g id=\"edge1\" class=\"edge\">\n<title>a_G2:e-&gt;MultiplyTwoReals:w</title>\n<path fill=\"none\" stroke=\"black\" d=\"M54,-110C71.22,-110 72.97,-95.23 88.98,-94.07\"/>\n<ellipse fill=\"black\" stroke=\"black\" cx=\"90\" cy=\"-94.04\" rx=\"1\" ry=\"1\"/>\n<text text-anchor=\"middle\" x=\"72.5\" y=\"-105\" font-family=\"Times,serif\" font-size=\"10.00\">10</text>\n</g>\n<!-- b_G4 -->\n<g id=\"node2\" class=\"node\">\n<title>b_G4</title>\n<text text-anchor=\"middle\" x=\"27\" y=\"-52.3\" font-family=\"Times,serif\" font-size=\"14.00\">b</text>\n</g>\n<!-- b_G4&#45;&gt;MultiplyTwoReals -->\n<g id=\"edge2\" class=\"edge\">\n<title>b_G4:e-&gt;MultiplyTwoReals:w</title>\n<path fill=\"none\" stroke=\"black\" d=\"M54,-56C71.22,-56 72.97,-70.77 88.98,-71.93\"/>\n<ellipse fill=\"black\" stroke=\"black\" cx=\"90\" cy=\"-71.96\" rx=\"1\" ry=\"1\"/>\n<text text-anchor=\"middle\" x=\"72.5\" y=\"-68\" font-family=\"Times,serif\" font-size=\"10.00\">10</text>\n</g>\n<!-- a_G5 -->\n<g id=\"node4\" class=\"node\">\n<title>a_G5</title>\n<text text-anchor=\"middle\" x=\"239\" y=\"-122.3\" font-family=\"Times,serif\" font-size=\"14.00\">a</text>\n</g>\n<!-- MultiplyTwoReals&#45;&gt;a_G5 -->\n<g id=\"edge3\" class=\"edge\">\n<title>MultiplyTwoReals:e-&gt;a_G5:w</title>\n<path fill=\"none\" stroke=\"black\" d=\"M175,-94C195.89,-94 190.72,-123.55 209.58,-125.86\"/>\n<ellipse fill=\"black\" stroke=\"black\" cx=\"211\" cy=\"-125.94\" rx=\"1\" ry=\"1\"/>\n<text text-anchor=\"middle\" x=\"193.5\" y=\"-113\" font-family=\"Times,serif\" font-size=\"10.00\">10</text>\n</g>\n<!-- b_G6 -->\n<g id=\"node5\" class=\"node\">\n<title>b_G6</title>\n<text text-anchor=\"middle\" x=\"239\" y=\"-68.3\" font-family=\"Times,serif\" font-size=\"14.00\">b</text>\n</g>\n<!-- MultiplyTwoReals&#45;&gt;b_G6 -->\n<g id=\"edge4\" class=\"edge\">\n<title>MultiplyTwoReals:e-&gt;b_G6:w</title>\n<path fill=\"none\" stroke=\"black\" d=\"M175,-72C190.67,-72 195.14,-72 209.77,-72\"/>\n<ellipse fill=\"black\" stroke=\"black\" cx=\"211\" cy=\"-72\" rx=\"1\" ry=\"1\"/>\n<text text-anchor=\"middle\" x=\"193.5\" y=\"-75\" font-family=\"Times,serif\" font-size=\"10.00\">10</text>\n</g>\n<!-- result_G0 -->\n<g id=\"node6\" class=\"node\">\n<title>result_G0</title>\n<text text-anchor=\"middle\" x=\"239\" y=\"-14.3\" font-family=\"Times,serif\" font-size=\"14.00\">result</text>\n</g>\n<!-- MultiplyTwoReals&#45;&gt;result_G0 -->\n<g id=\"edge5\" class=\"edge\">\n<title>MultiplyTwoReals:e-&gt;result_G0:w</title>\n<path fill=\"none\" stroke=\"black\" d=\"M175,-51C196.17,-51 190.47,-20.53 209.55,-18.15\"/>\n<ellipse fill=\"black\" stroke=\"black\" cx=\"211\" cy=\"-18.06\" rx=\"1\" ry=\"1\"/>\n<text text-anchor=\"middle\" x=\"193.5\" y=\"-39\" font-family=\"Times,serif\" font-size=\"10.00\">10</text>\n</g>\n</g>\n</svg>",
          "text/plain": "<IPython.core.display.SVG object>"
         },
         "metadata": {},
         "output_type": "display_data"
        }
       ],
       "tabbable": null,
       "tooltip": null
      }
     },
     "c052d08157ef4222ae1f3324d6f2454e": {
      "model_module": "@jupyter-widgets/base",
      "model_module_version": "2.0.0",
      "model_name": "LayoutModel",
      "state": {
       "_model_module": "@jupyter-widgets/base",
       "_model_module_version": "2.0.0",
       "_model_name": "LayoutModel",
       "_view_count": null,
       "_view_module": "@jupyter-widgets/base",
       "_view_module_version": "2.0.0",
       "_view_name": "LayoutView",
       "align_content": null,
       "align_items": null,
       "align_self": null,
       "border_bottom": null,
       "border_left": null,
       "border_right": null,
       "border_top": null,
       "bottom": null,
       "display": null,
       "flex": null,
       "flex_flow": null,
       "grid_area": null,
       "grid_auto_columns": null,
       "grid_auto_flow": null,
       "grid_auto_rows": null,
       "grid_column": null,
       "grid_gap": null,
       "grid_row": null,
       "grid_template_areas": null,
       "grid_template_columns": null,
       "grid_template_rows": null,
       "height": null,
       "justify_content": null,
       "justify_items": null,
       "left": null,
       "margin": null,
       "max_height": null,
       "max_width": null,
       "min_height": null,
       "min_width": null,
       "object_fit": null,
       "object_position": null,
       "order": null,
       "overflow": null,
       "padding": null,
       "right": null,
       "top": null,
       "visibility": null,
       "width": null
      }
     },
     "c6440b66d252442298449d98a53b360f": {
      "model_module": "@jupyter-widgets/output",
      "model_module_version": "1.0.0",
      "model_name": "OutputModel",
      "state": {
       "_dom_classes": [],
       "_model_module": "@jupyter-widgets/output",
       "_model_module_version": "1.0.0",
       "_model_name": "OutputModel",
       "_view_count": null,
       "_view_module": "@jupyter-widgets/output",
       "_view_module_version": "1.0.0",
       "_view_name": "OutputView",
       "layout": "IPY_MODEL_3a7ea20f93df423ca709b6be0c2d63ac",
       "msg_id": "",
       "outputs": [
        {
         "data": {
          "text/markdown": "`product`",
          "text/plain": "<IPython.core.display.Markdown object>"
         },
         "metadata": {},
         "output_type": "display_data"
        },
        {
         "data": {
          "image/svg+xml": "<svg xmlns=\"http://www.w3.org/2000/svg\" xmlns:xlink=\"http://www.w3.org/1999/xlink\" width=\"233pt\" height=\"152pt\" viewBox=\"0.00 0.00 233.00 152.00\">\n<g id=\"graph0\" class=\"graph\" transform=\"scale(1 1) rotate(0) translate(4 148)\">\n<title>my_graph</title>\n<polygon fill=\"white\" stroke=\"transparent\" points=\"-4,4 -4,-148 229,-148 229,4 -4,4\"/>\n<!-- a_G6 -->\n<g id=\"node1\" class=\"node\">\n<title>a_G6</title>\n<text text-anchor=\"middle\" x=\"27\" y=\"-106.3\" font-family=\"Times,serif\" font-size=\"14.00\">a</text>\n</g>\n<!-- Product -->\n<g id=\"node3\" class=\"node\">\n<title>Product</title>\n<polygon fill=\"none\" stroke=\"black\" points=\"91.5,-104 91.5,-121 134.5,-121 134.5,-104 91.5,-104\"/>\n<text text-anchor=\"start\" x=\"97\" y=\"-110\" font-family=\"Times,serif\" font-size=\"10.00\">Product</text>\n<polygon fill=\"none\" stroke=\"black\" points=\"91.5,-83 91.5,-104 134.5,-104 134.5,-83 91.5,-83\"/>\n<text text-anchor=\"start\" x=\"109.5\" y=\"-89.8\" font-family=\"Times,serif\" font-size=\"14.00\">a</text>\n<polygon fill=\"none\" stroke=\"black\" points=\"91.5,-62 91.5,-83 134.5,-83 134.5,-62 91.5,-62\"/>\n<text text-anchor=\"start\" x=\"109.5\" y=\"-68.8\" font-family=\"Times,serif\" font-size=\"14.00\">b</text>\n<polygon fill=\"none\" stroke=\"black\" points=\"91.5,-41 91.5,-62 97.5,-62 97.5,-41 91.5,-41\"/>\n<polygon fill=\"none\" stroke=\"black\" points=\"97.5,-41 97.5,-62 134.5,-62 134.5,-41 97.5,-41\"/>\n<text text-anchor=\"start\" x=\"100.5\" y=\"-47.8\" font-family=\"Times,serif\" font-size=\"14.00\">result</text>\n</g>\n<!-- a_G6&#45;&gt;Product -->\n<g id=\"edge1\" class=\"edge\">\n<title>a_G6:e-&gt;Product:w</title>\n<path fill=\"none\" stroke=\"black\" d=\"M54,-110C71.22,-110 72.97,-95.23 88.98,-94.07\"/>\n<ellipse fill=\"black\" stroke=\"black\" cx=\"90\" cy=\"-94.04\" rx=\"1\" ry=\"1\"/>\n<text text-anchor=\"middle\" x=\"72.5\" y=\"-105\" font-family=\"Times,serif\" font-size=\"10.00\">4</text>\n</g>\n<!-- b_G7 -->\n<g id=\"node2\" class=\"node\">\n<title>b_G7</title>\n<text text-anchor=\"middle\" x=\"27\" y=\"-52.3\" font-family=\"Times,serif\" font-size=\"14.00\">b</text>\n</g>\n<!-- b_G7&#45;&gt;Product -->\n<g id=\"edge2\" class=\"edge\">\n<title>b_G7:e-&gt;Product:w</title>\n<path fill=\"none\" stroke=\"black\" d=\"M54,-56C71.22,-56 72.97,-70.77 88.98,-71.93\"/>\n<ellipse fill=\"black\" stroke=\"black\" cx=\"90\" cy=\"-71.96\" rx=\"1\" ry=\"1\"/>\n<text text-anchor=\"middle\" x=\"72.5\" y=\"-68\" font-family=\"Times,serif\" font-size=\"10.00\">6</text>\n</g>\n<!-- a_G0 -->\n<g id=\"node4\" class=\"node\">\n<title>a_G0</title>\n<text text-anchor=\"middle\" x=\"198\" y=\"-122.3\" font-family=\"Times,serif\" font-size=\"14.00\">a</text>\n</g>\n<!-- Product&#45;&gt;a_G0 -->\n<g id=\"edge3\" class=\"edge\">\n<title>Product:e-&gt;a_G0:w</title>\n<path fill=\"none\" stroke=\"black\" d=\"M134,-94C154.89,-94 149.72,-123.55 168.58,-125.86\"/>\n<ellipse fill=\"black\" stroke=\"black\" cx=\"170\" cy=\"-125.94\" rx=\"1\" ry=\"1\"/>\n<text text-anchor=\"middle\" x=\"152.5\" y=\"-113\" font-family=\"Times,serif\" font-size=\"10.00\">4</text>\n</g>\n<!-- b_G3 -->\n<g id=\"node5\" class=\"node\">\n<title>b_G3</title>\n<text text-anchor=\"middle\" x=\"198\" y=\"-68.3\" font-family=\"Times,serif\" font-size=\"14.00\">b</text>\n</g>\n<!-- Product&#45;&gt;b_G3 -->\n<g id=\"edge4\" class=\"edge\">\n<title>Product:e-&gt;b_G3:w</title>\n<path fill=\"none\" stroke=\"black\" d=\"M134,-72C149.67,-72 154.14,-72 168.77,-72\"/>\n<ellipse fill=\"black\" stroke=\"black\" cx=\"170\" cy=\"-72\" rx=\"1\" ry=\"1\"/>\n<text text-anchor=\"middle\" x=\"152.5\" y=\"-75\" font-family=\"Times,serif\" font-size=\"10.00\">6</text>\n</g>\n<!-- result_G2 -->\n<g id=\"node6\" class=\"node\">\n<title>result_G2</title>\n<text text-anchor=\"middle\" x=\"198\" y=\"-14.3\" font-family=\"Times,serif\" font-size=\"14.00\">result</text>\n</g>\n<!-- Product&#45;&gt;result_G2 -->\n<g id=\"edge5\" class=\"edge\">\n<title>Product:e-&gt;result_G2:w</title>\n<path fill=\"none\" stroke=\"black\" d=\"M134,-51C155.17,-51 149.47,-20.53 168.55,-18.15\"/>\n<ellipse fill=\"black\" stroke=\"black\" cx=\"170\" cy=\"-18.06\" rx=\"1\" ry=\"1\"/>\n<text text-anchor=\"middle\" x=\"152.5\" y=\"-39\" font-family=\"Times,serif\" font-size=\"10.00\">12</text>\n</g>\n</g>\n</svg>",
          "text/plain": "<IPython.core.display.SVG object>"
         },
         "metadata": {},
         "output_type": "display_data"
        }
       ],
       "tabbable": null,
       "tooltip": null
      }
     },
     "c6a859f6a9374631b6b80160768df8ca": {
      "model_module": "@jupyter-widgets/base",
      "model_module_version": "2.0.0",
      "model_name": "LayoutModel",
      "state": {
       "_model_module": "@jupyter-widgets/base",
       "_model_module_version": "2.0.0",
       "_model_name": "LayoutModel",
       "_view_count": null,
       "_view_module": "@jupyter-widgets/base",
       "_view_module_version": "2.0.0",
       "_view_name": "LayoutView",
       "align_content": null,
       "align_items": null,
       "align_self": null,
       "border_bottom": null,
       "border_left": null,
       "border_right": null,
       "border_top": null,
       "bottom": null,
       "display": null,
       "flex": null,
       "flex_flow": null,
       "grid_area": null,
       "grid_auto_columns": null,
       "grid_auto_flow": null,
       "grid_auto_rows": null,
       "grid_column": null,
       "grid_gap": null,
       "grid_row": null,
       "grid_template_areas": null,
       "grid_template_columns": null,
       "grid_template_rows": null,
       "height": null,
       "justify_content": null,
       "justify_items": null,
       "left": null,
       "margin": null,
       "max_height": null,
       "max_width": null,
       "min_height": null,
       "min_width": null,
       "object_fit": null,
       "object_position": null,
       "order": null,
       "overflow": null,
       "padding": null,
       "right": null,
       "top": null,
       "visibility": null,
       "width": null
      }
     },
     "e275b129eaa94cb4b90c2d6e452f421e": {
      "model_module": "@jupyter-widgets/base",
      "model_module_version": "2.0.0",
      "model_name": "LayoutModel",
      "state": {
       "_model_module": "@jupyter-widgets/base",
       "_model_module_version": "2.0.0",
       "_model_name": "LayoutModel",
       "_view_count": null,
       "_view_module": "@jupyter-widgets/base",
       "_view_module_version": "2.0.0",
       "_view_name": "LayoutView",
       "align_content": null,
       "align_items": null,
       "align_self": null,
       "border_bottom": null,
       "border_left": null,
       "border_right": null,
       "border_top": null,
       "bottom": null,
       "display": null,
       "flex": null,
       "flex_flow": null,
       "grid_area": null,
       "grid_auto_columns": null,
       "grid_auto_flow": null,
       "grid_auto_rows": null,
       "grid_column": null,
       "grid_gap": null,
       "grid_row": null,
       "grid_template_areas": null,
       "grid_template_columns": null,
       "grid_template_rows": null,
       "height": null,
       "justify_content": null,
       "justify_items": null,
       "left": null,
       "margin": null,
       "max_height": null,
       "max_width": null,
       "min_height": null,
       "min_width": null,
       "object_fit": null,
       "object_position": null,
       "order": null,
       "overflow": null,
       "padding": null,
       "right": null,
       "top": null,
       "visibility": null,
       "width": null
      }
     },
     "ec6eb3c0f18e48d49c36cace17b04650": {
      "model_module": "@jupyter-widgets/output",
      "model_module_version": "1.0.0",
      "model_name": "OutputModel",
      "state": {
       "_dom_classes": [],
       "_model_module": "@jupyter-widgets/output",
       "_model_module_version": "1.0.0",
       "_model_name": "OutputModel",
       "_view_count": null,
       "_view_module": "@jupyter-widgets/output",
       "_view_module_version": "1.0.0",
       "_view_name": "OutputView",
       "layout": "IPY_MODEL_b23194eba7e54eea87c1eeb26652438a",
       "msg_id": "",
       "outputs": [
        {
         "data": {
          "text/markdown": "`sum_of_squares`",
          "text/plain": "<IPython.core.display.Markdown object>"
         },
         "metadata": {},
         "output_type": "display_data"
        },
        {
         "data": {
          "image/svg+xml": "<svg xmlns=\"http://www.w3.org/2000/svg\" xmlns:xlink=\"http://www.w3.org/1999/xlink\" width=\"269pt\" height=\"260pt\" viewBox=\"0.00 0.00 269.00 260.00\">\n<g id=\"graph0\" class=\"graph\" transform=\"scale(1 1) rotate(0) translate(4 256)\">\n<title>my_graph</title>\n<polygon fill=\"white\" stroke=\"transparent\" points=\"-4,4 -4,-256 265,-256 265,4 -4,4\"/>\n<!-- input_G5 -->\n<g id=\"node1\" class=\"node\">\n<title>input_G5</title>\n<text text-anchor=\"middle\" x=\"30\" y=\"-214.3\" font-family=\"Times,serif\" font-size=\"14.00\">input[0]</text>\n</g>\n<!-- SumOfSquares -->\n<g id=\"node5\" class=\"node\">\n<title>SumOfSquares</title>\n<polygon fill=\"none\" stroke=\"black\" points=\"97.5,-179 97.5,-196 164.5,-196 164.5,-179 97.5,-179\"/>\n<text text-anchor=\"start\" x=\"100.5\" y=\"-185\" font-family=\"Times,serif\" font-size=\"10.00\">SumOfSquares</text>\n<polygon fill=\"none\" stroke=\"black\" points=\"97.5,-158 97.5,-179 164.5,-179 164.5,-158 97.5,-158\"/>\n<text text-anchor=\"start\" x=\"109\" y=\"-164.8\" font-family=\"Times,serif\" font-size=\"14.00\">input[0]</text>\n<polygon fill=\"none\" stroke=\"black\" points=\"97.5,-137 97.5,-158 164.5,-158 164.5,-137 97.5,-137\"/>\n<text text-anchor=\"start\" x=\"109\" y=\"-143.8\" font-family=\"Times,serif\" font-size=\"14.00\">input[1]</text>\n<polygon fill=\"none\" stroke=\"black\" points=\"97.5,-116 97.5,-137 164.5,-137 164.5,-116 97.5,-116\"/>\n<text text-anchor=\"start\" x=\"109\" y=\"-122.8\" font-family=\"Times,serif\" font-size=\"14.00\">input[2]</text>\n<polygon fill=\"none\" stroke=\"black\" points=\"97.5,-95 97.5,-116 164.5,-116 164.5,-95 97.5,-95\"/>\n<text text-anchor=\"start\" x=\"109\" y=\"-101.8\" font-family=\"Times,serif\" font-size=\"14.00\">input[3]</text>\n<polygon fill=\"none\" stroke=\"black\" points=\"97.5,-74 97.5,-95 115.5,-95 115.5,-74 97.5,-74\"/>\n<polygon fill=\"none\" stroke=\"black\" points=\"115.5,-74 115.5,-95 164.5,-95 164.5,-74 115.5,-74\"/>\n<text text-anchor=\"start\" x=\"124.5\" y=\"-80.8\" font-family=\"Times,serif\" font-size=\"14.00\">result</text>\n</g>\n<!-- input_G5&#45;&gt;SumOfSquares -->\n<g id=\"edge1\" class=\"edge\">\n<title>input_G5:e-&gt;SumOfSquares:w</title>\n<path fill=\"none\" stroke=\"black\" d=\"M60,-218C86.54,-218 70.64,-171.64 94.86,-169.11\"/>\n<ellipse fill=\"black\" stroke=\"black\" cx=\"96\" cy=\"-169.05\" rx=\"1\" ry=\"1\"/>\n<text text-anchor=\"middle\" x=\"78.5\" y=\"-197\" font-family=\"Times,serif\" font-size=\"10.00\">8</text>\n</g>\n<!-- input_G2 -->\n<g id=\"node2\" class=\"node\">\n<title>input_G2</title>\n<text text-anchor=\"middle\" x=\"30\" y=\"-160.3\" font-family=\"Times,serif\" font-size=\"14.00\">input[1]</text>\n</g>\n<!-- input_G2&#45;&gt;SumOfSquares -->\n<g id=\"edge2\" class=\"edge\">\n<title>input_G2:e-&gt;SumOfSquares:w</title>\n<path fill=\"none\" stroke=\"black\" d=\"M60,-164C77.22,-164 78.97,-149.23 94.98,-148.07\"/>\n<ellipse fill=\"black\" stroke=\"black\" cx=\"96\" cy=\"-148.04\" rx=\"1\" ry=\"1\"/>\n<text text-anchor=\"middle\" x=\"78.5\" y=\"-159\" font-family=\"Times,serif\" font-size=\"10.00\">8</text>\n</g>\n<!-- input_G8 -->\n<g id=\"node3\" class=\"node\">\n<title>input_G8</title>\n<text text-anchor=\"middle\" x=\"30\" y=\"-106.3\" font-family=\"Times,serif\" font-size=\"14.00\">input[2]</text>\n</g>\n<!-- input_G8&#45;&gt;SumOfSquares -->\n<g id=\"edge3\" class=\"edge\">\n<title>input_G8:e-&gt;SumOfSquares:w</title>\n<path fill=\"none\" stroke=\"black\" d=\"M60,-110C77.22,-110 78.97,-124.77 94.98,-125.93\"/>\n<ellipse fill=\"black\" stroke=\"black\" cx=\"96\" cy=\"-125.96\" rx=\"1\" ry=\"1\"/>\n<text text-anchor=\"middle\" x=\"78.5\" y=\"-121\" font-family=\"Times,serif\" font-size=\"10.00\">8</text>\n</g>\n<!-- input_G1 -->\n<g id=\"node4\" class=\"node\">\n<title>input_G1</title>\n<text text-anchor=\"middle\" x=\"30\" y=\"-52.3\" font-family=\"Times,serif\" font-size=\"14.00\">input[3]</text>\n</g>\n<!-- input_G1&#45;&gt;SumOfSquares -->\n<g id=\"edge4\" class=\"edge\">\n<title>input_G1:e-&gt;SumOfSquares:w</title>\n<path fill=\"none\" stroke=\"black\" d=\"M60,-56C86.54,-56 70.64,-102.36 94.86,-104.89\"/>\n<ellipse fill=\"black\" stroke=\"black\" cx=\"96\" cy=\"-104.95\" rx=\"1\" ry=\"1\"/>\n<text text-anchor=\"middle\" x=\"78.5\" y=\"-85\" font-family=\"Times,serif\" font-size=\"10.00\">8</text>\n</g>\n<!-- input_G0 -->\n<g id=\"node6\" class=\"node\">\n<title>input_G0</title>\n<text text-anchor=\"middle\" x=\"231\" y=\"-230.3\" font-family=\"Times,serif\" font-size=\"14.00\">input[0]</text>\n</g>\n<!-- SumOfSquares&#45;&gt;input_G0 -->\n<g id=\"edge5\" class=\"edge\">\n<title>SumOfSquares:e-&gt;input_G0:w</title>\n<path fill=\"none\" stroke=\"black\" d=\"M164,-169C196.46,-169 169.11,-230.99 198.76,-233.89\"/>\n<ellipse fill=\"black\" stroke=\"black\" cx=\"200\" cy=\"-233.95\" rx=\"1\" ry=\"1\"/>\n<text text-anchor=\"middle\" x=\"182.5\" y=\"-210\" font-family=\"Times,serif\" font-size=\"10.00\">8</text>\n</g>\n<!-- input_G12 -->\n<g id=\"node7\" class=\"node\">\n<title>input_G12</title>\n<text text-anchor=\"middle\" x=\"231\" y=\"-176.3\" font-family=\"Times,serif\" font-size=\"14.00\">input[1]</text>\n</g>\n<!-- SumOfSquares&#45;&gt;input_G12 -->\n<g id=\"edge6\" class=\"edge\">\n<title>SumOfSquares:e-&gt;input_G12:w</title>\n<path fill=\"none\" stroke=\"black\" d=\"M164,-148C184.89,-148 179.72,-177.55 198.58,-179.86\"/>\n<ellipse fill=\"black\" stroke=\"black\" cx=\"200\" cy=\"-179.94\" rx=\"1\" ry=\"1\"/>\n<text text-anchor=\"middle\" x=\"182.5\" y=\"-167\" font-family=\"Times,serif\" font-size=\"10.00\">8</text>\n</g>\n<!-- input_G3 -->\n<g id=\"node8\" class=\"node\">\n<title>input_G3</title>\n<text text-anchor=\"middle\" x=\"231\" y=\"-122.3\" font-family=\"Times,serif\" font-size=\"14.00\">input[2]</text>\n</g>\n<!-- SumOfSquares&#45;&gt;input_G3 -->\n<g id=\"edge7\" class=\"edge\">\n<title>SumOfSquares:e-&gt;input_G3:w</title>\n<path fill=\"none\" stroke=\"black\" d=\"M164,-126C179.67,-126 184.14,-126 198.77,-126\"/>\n<ellipse fill=\"black\" stroke=\"black\" cx=\"200\" cy=\"-126\" rx=\"1\" ry=\"1\"/>\n<text text-anchor=\"middle\" x=\"182.5\" y=\"-129\" font-family=\"Times,serif\" font-size=\"10.00\">8</text>\n</g>\n<!-- input_G9 -->\n<g id=\"node9\" class=\"node\">\n<title>input_G9</title>\n<text text-anchor=\"middle\" x=\"231\" y=\"-68.3\" font-family=\"Times,serif\" font-size=\"14.00\">input[3]</text>\n</g>\n<!-- SumOfSquares&#45;&gt;input_G9 -->\n<g id=\"edge8\" class=\"edge\">\n<title>SumOfSquares:e-&gt;input_G9:w</title>\n<path fill=\"none\" stroke=\"black\" d=\"M164,-105C185.17,-105 179.47,-74.53 198.55,-72.15\"/>\n<ellipse fill=\"black\" stroke=\"black\" cx=\"200\" cy=\"-72.06\" rx=\"1\" ry=\"1\"/>\n<text text-anchor=\"middle\" x=\"182.5\" y=\"-92\" font-family=\"Times,serif\" font-size=\"10.00\">8</text>\n</g>\n<!-- result_G10 -->\n<g id=\"node10\" class=\"node\">\n<title>result_G10</title>\n<text text-anchor=\"middle\" x=\"231\" y=\"-14.3\" font-family=\"Times,serif\" font-size=\"14.00\">result</text>\n</g>\n<!-- SumOfSquares&#45;&gt;result_G10 -->\n<g id=\"edge9\" class=\"edge\">\n<title>SumOfSquares:e-&gt;result_G10:w</title>\n<path fill=\"none\" stroke=\"black\" d=\"M164,-84C197.27,-84 170.26,-21.06 200.71,-18.11\"/>\n<ellipse fill=\"black\" stroke=\"black\" cx=\"202\" cy=\"-18.05\" rx=\"1\" ry=\"1\"/>\n<text text-anchor=\"middle\" x=\"182.5\" y=\"-68\" font-family=\"Times,serif\" font-size=\"10.00\">18</text>\n</g>\n</g>\n</svg>",
          "text/plain": "<IPython.core.display.SVG object>"
         },
         "metadata": {},
         "output_type": "display_data"
        }
       ],
       "tabbable": null,
       "tooltip": null
      }
     },
     "f2096a1b4f4044279e710035a95974ed": {
      "model_module": "@jupyter-widgets/base",
      "model_module_version": "2.0.0",
      "model_name": "LayoutModel",
      "state": {
       "_model_module": "@jupyter-widgets/base",
       "_model_module_version": "2.0.0",
       "_model_name": "LayoutModel",
       "_view_count": null,
       "_view_module": "@jupyter-widgets/base",
       "_view_module_version": "2.0.0",
       "_view_name": "LayoutView",
       "align_content": null,
       "align_items": null,
       "align_self": null,
       "border_bottom": null,
       "border_left": null,
       "border_right": null,
       "border_top": null,
       "bottom": null,
       "display": null,
       "flex": null,
       "flex_flow": null,
       "grid_area": null,
       "grid_auto_columns": null,
       "grid_auto_flow": null,
       "grid_auto_rows": null,
       "grid_column": null,
       "grid_gap": null,
       "grid_row": null,
       "grid_template_areas": null,
       "grid_template_columns": null,
       "grid_template_rows": null,
       "height": null,
       "justify_content": null,
       "justify_items": null,
       "left": null,
       "margin": null,
       "max_height": null,
       "max_width": null,
       "min_height": null,
       "min_width": null,
       "object_fit": null,
       "object_position": null,
       "order": null,
       "overflow": null,
       "padding": null,
       "right": null,
       "top": null,
       "visibility": null,
       "width": null
      }
     },
     "fe6a7bcc0f784cccaf6b0aecfe8a078c": {
      "model_module": "@jupyter-widgets/base",
      "model_module_version": "2.0.0",
      "model_name": "LayoutModel",
      "state": {
       "_model_module": "@jupyter-widgets/base",
       "_model_module_version": "2.0.0",
       "_model_name": "LayoutModel",
       "_view_count": null,
       "_view_module": "@jupyter-widgets/base",
       "_view_module_version": "2.0.0",
       "_view_name": "LayoutView",
       "align_content": null,
       "align_items": null,
       "align_self": null,
       "border_bottom": null,
       "border_left": null,
       "border_right": null,
       "border_top": null,
       "bottom": null,
       "display": null,
       "flex": null,
       "flex_flow": null,
       "grid_area": null,
       "grid_auto_columns": null,
       "grid_auto_flow": null,
       "grid_auto_rows": null,
       "grid_column": null,
       "grid_gap": null,
       "grid_row": null,
       "grid_template_areas": null,
       "grid_template_columns": null,
       "grid_template_rows": null,
       "height": null,
       "justify_content": null,
       "justify_items": null,
       "left": null,
       "margin": null,
       "max_height": null,
       "max_width": null,
       "min_height": null,
       "min_width": null,
       "object_fit": null,
       "object_position": null,
       "order": null,
       "overflow": null,
       "padding": null,
       "right": null,
       "top": null,
       "visibility": null,
       "width": null
      }
     }
    },
    "version_major": 2,
    "version_minor": 0
   }
  }
 },
 "nbformat": 4,
 "nbformat_minor": 5
}
