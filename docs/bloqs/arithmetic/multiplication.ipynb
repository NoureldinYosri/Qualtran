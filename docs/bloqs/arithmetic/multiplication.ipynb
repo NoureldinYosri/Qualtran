{
 "cells": [
  {
   "cell_type": "markdown",
   "id": "45ff0be8",
   "metadata": {
    "cq.autogen": "title_cell"
   },
   "source": [
    "# Multiplication"
   ]
  },
  {
   "cell_type": "code",
   "execution_count": 1,
   "id": "0bbda185",
   "metadata": {
    "cq.autogen": "top_imports"
   },
   "outputs": [],
   "source": [
    "from qualtran import Bloq, CompositeBloq, BloqBuilder, Signature, Register\n",
    "from qualtran import QBit, QInt, QUInt, QAny\n",
    "from qualtran.drawing import show_bloq, show_call_graph, show_counts_sigma\n",
    "from typing import *\n",
    "import numpy as np\n",
    "import sympy\n",
    "import cirq"
   ]
  },
  {
   "cell_type": "markdown",
   "id": "6449ea17",
   "metadata": {
    "cq.autogen": "PlusEqualProduct.bloq_doc.md"
   },
   "source": [
    "## `PlusEqualProduct`\n",
    "Performs result += a * b"
   ]
  },
  {
   "cell_type": "code",
   "execution_count": 2,
   "id": "d9a48363",
   "metadata": {
    "cq.autogen": "PlusEqualProduct.bloq_doc.py"
   },
   "outputs": [],
   "source": [
    "from qualtran.bloqs.arithmetic import PlusEqualProduct"
   ]
  },
  {
   "cell_type": "markdown",
   "id": "3b03ae71",
   "metadata": {
    "cq.autogen": "PlusEqualProduct.example_instances.md"
   },
   "source": [
    "### Example Instances"
   ]
  },
  {
   "cell_type": "code",
   "execution_count": 3,
   "id": "a4c3b6cd",
   "metadata": {
    "cq.autogen": "PlusEqualProduct.plus_equal_product"
   },
   "outputs": [],
   "source": [
    "a_bit, b_bit, res_bit = 2, 2, 4\n",
    "plus_equal_product = PlusEqualProduct(a_bit, b_bit, res_bit)"
   ]
  },
  {
   "cell_type": "markdown",
   "id": "ec36b3e6",
   "metadata": {
    "cq.autogen": "PlusEqualProduct.graphical_signature.md"
   },
   "source": [
    "#### Graphical Signature"
   ]
  },
  {
   "cell_type": "markdown",
   "id": "a20877dc",
   "metadata": {
    "cq.autogen": "PlusEqualProduct.call_graph.md"
   },
   "source": [
    "### Call Graph"
   ]
  },
  {
   "cell_type": "code",
   "execution_count": 4,
   "id": "e838de84",
   "metadata": {
    "cq.autogen": "PlusEqualProduct.call_graph.py"
   },
   "outputs": [
    {
     "data": {
      "image/svg+xml": [
       "<svg xmlns=\"http://www.w3.org/2000/svg\" xmlns:xlink=\"http://www.w3.org/1999/xlink\" width=\"385pt\" height=\"131pt\" viewBox=\"0.00 0.00 385.00 131.00\">\n",
       "<g id=\"graph0\" class=\"graph\" transform=\"scale(1 1) rotate(0) translate(4 127)\">\n",
       "<title>counts</title>\n",
       "<polygon fill=\"white\" stroke=\"transparent\" points=\"-4,4 -4,-127 381,-127 381,4 -4,4\"/>\n",
       "<!-- b0 -->\n",
       "<g id=\"node1\" class=\"node\">\n",
       "<title>b0</title>\n",
       "<polygon fill=\"none\" stroke=\"black\" points=\"377,-123 0,-123 0,-87 377,-87 377,-123\"/>\n",
       "<text text-anchor=\"start\" x=\"140\" y=\"-106.8\" font-family=\"Times,serif\" font-size=\"14.00\">PlusEqualProduct</text>\n",
       "<text text-anchor=\"start\" x=\"8\" y=\"-96\" font-family=\"monospace\" font-size=\"10.00\">a_bitsize=2, b_bitsize=2, result_bitsize=4, is_adjoint=False</text>\n",
       "</g>\n",
       "<!-- b1 -->\n",
       "<g id=\"node2\" class=\"node\">\n",
       "<title>b1</title>\n",
       "<polygon fill=\"none\" stroke=\"black\" points=\"245,-36 132,-36 132,0 245,0 245,-36\"/>\n",
       "<text text-anchor=\"start\" x=\"184\" y=\"-19.8\" font-family=\"Times,serif\" font-size=\"14.00\">T</text>\n",
       "<text text-anchor=\"start\" x=\"140\" y=\"-9\" font-family=\"monospace\" font-size=\"10.00\">is_adjoint=False</text>\n",
       "</g>\n",
       "<!-- b0&#45;&gt;b1 -->\n",
       "<g id=\"edge1\" class=\"edge\">\n",
       "<title>b0-&gt;b1</title>\n",
       "<path fill=\"none\" stroke=\"black\" d=\"M188.5,-86.8C188.5,-75.16 188.5,-59.55 188.5,-46.24\"/>\n",
       "<polygon fill=\"black\" stroke=\"black\" points=\"192,-46.18 188.5,-36.18 185,-46.18 192,-46.18\"/>\n",
       "<text text-anchor=\"middle\" x=\"195.5\" y=\"-57.8\" font-family=\"Times,serif\" font-size=\"14.00\">32</text>\n",
       "</g>\n",
       "</g>\n",
       "</svg>"
      ],
      "text/plain": [
       "<IPython.core.display.SVG object>"
      ]
     },
     "metadata": {},
     "output_type": "display_data"
    },
    {
     "data": {
      "text/markdown": [
       "#### Counts totals:\n",
       " - `TGate()`: 32"
      ],
      "text/plain": [
       "<IPython.core.display.Markdown object>"
      ]
     },
     "metadata": {},
     "output_type": "display_data"
    }
   ],
   "source": [
    "from qualtran.resource_counting.generalizers import ignore_split_join\n",
    "plus_equal_product_g, plus_equal_product_sigma = plus_equal_product.call_graph(max_depth=1, generalizer=ignore_split_join)\n",
    "show_call_graph(plus_equal_product_g)\n",
    "show_counts_sigma(plus_equal_product_sigma)"
   ]
  },
  {
   "cell_type": "markdown",
   "id": "d80c7a3a",
   "metadata": {
    "cq.autogen": "Product.bloq_doc.md"
   },
   "source": [
    "## `Product`\n",
    "Compute the product of an `n` and `m` bit binary number.\n",
    "\n",
    "Implements $U|a\\rangle|b\\rangle|0\\rangle \\rightarrow\n",
    "|a\\rangle|b\\rangle|a\\times b\\rangle$ using $2nm-n$ Toffolis.\n",
    "\n",
    "#### Parameters\n",
    " - `a_bitsize`: Number of bits used to represent the first integer.\n",
    " - `b_bitsize`: Number of bits used to represent the second integer. \n",
    "\n",
    "#### Registers\n",
    " - `a`: a_bitsize-sized input register.\n",
    " - `b`: b_bitsize-sized input register.\n",
    " - `result`: A 2*`max(a_bitsize, b_bitsize)` bit-sized output register to store the result a*b. \n",
    "\n",
    "#### References\n",
    " - [Fault-Tolerant Quantum Simulations of Chemistry in First Quantization](https://arxiv.org/abs/2105.12767). pg 81 gives a Toffoli complexity for multiplying two numbers.\n"
   ]
  },
  {
   "cell_type": "code",
   "execution_count": 5,
   "id": "b9474c15",
   "metadata": {
    "cq.autogen": "Product.bloq_doc.py"
   },
   "outputs": [],
   "source": [
    "from qualtran.bloqs.arithmetic import Product"
   ]
  },
  {
   "cell_type": "markdown",
   "id": "8c66a5ee",
   "metadata": {
    "cq.autogen": "Product.example_instances.md"
   },
   "source": [
    "### Example Instances"
   ]
  },
  {
   "cell_type": "code",
   "execution_count": 6,
   "id": "dc021736",
   "metadata": {
    "cq.autogen": "Product.product"
   },
   "outputs": [],
   "source": [
    "product = Product(a_bitsize=4, b_bitsize=6)"
   ]
  },
  {
   "cell_type": "markdown",
   "id": "a567e14b",
   "metadata": {
    "cq.autogen": "Product.graphical_signature.md"
   },
   "source": [
    "#### Graphical Signature"
   ]
  },
  {
   "cell_type": "code",
   "execution_count": 7,
   "id": "a726ecb3",
   "metadata": {
    "cq.autogen": "Product.graphical_signature.py"
   },
   "outputs": [
    {
     "data": {
      "application/vnd.jupyter.widget-view+json": {
       "model_id": "2879f24dba5a4b3bacd5247d5d8125ed",
       "version_major": 2,
       "version_minor": 0
      },
      "text/plain": [
       "HBox(children=(Output(outputs=({'output_type': 'display_data', 'data': {'text/plain': '<IPython.core.display.M…"
      ]
     },
     "metadata": {},
     "output_type": "display_data"
    }
   ],
   "source": [
    "from qualtran.drawing import show_bloqs\n",
    "show_bloqs([product],\n",
    "           ['`product`'])"
   ]
  },
  {
   "cell_type": "markdown",
   "id": "805f21e5",
   "metadata": {
    "cq.autogen": "Product.call_graph.md"
   },
   "source": [
    "### Call Graph"
   ]
  },
  {
   "cell_type": "code",
   "execution_count": 8,
   "id": "96c26635",
   "metadata": {
    "cq.autogen": "Product.call_graph.py"
   },
   "outputs": [
    {
     "data": {
      "image/svg+xml": [
       "<svg xmlns=\"http://www.w3.org/2000/svg\" xmlns:xlink=\"http://www.w3.org/1999/xlink\" width=\"169pt\" height=\"131pt\" viewBox=\"0.00 0.00 169.00 131.00\">\n",
       "<g id=\"graph0\" class=\"graph\" transform=\"scale(1 1) rotate(0) translate(4 127)\">\n",
       "<title>counts</title>\n",
       "<polygon fill=\"white\" stroke=\"transparent\" points=\"-4,4 -4,-127 165,-127 165,4 -4,4\"/>\n",
       "<!-- b0 -->\n",
       "<g id=\"node1\" class=\"node\">\n",
       "<title>b0</title>\n",
       "<polygon fill=\"none\" stroke=\"black\" points=\"161,-123 0,-123 0,-87 161,-87 161,-123\"/>\n",
       "<text text-anchor=\"start\" x=\"59\" y=\"-106.8\" font-family=\"Times,serif\" font-size=\"14.00\">Product</text>\n",
       "<text text-anchor=\"start\" x=\"8\" y=\"-96\" font-family=\"monospace\" font-size=\"10.00\">a_bitsize=4, b_bitsize=6</text>\n",
       "</g>\n",
       "<!-- b1 -->\n",
       "<g id=\"node2\" class=\"node\">\n",
       "<title>b1</title>\n",
       "<polygon fill=\"none\" stroke=\"black\" points=\"108,-36 53,-36 53,0 108,0 108,-36\"/>\n",
       "<text text-anchor=\"start\" x=\"61\" y=\"-14.3\" font-family=\"Times,serif\" font-size=\"14.00\">Toffoli</text>\n",
       "</g>\n",
       "<!-- b0&#45;&gt;b1 -->\n",
       "<g id=\"edge1\" class=\"edge\">\n",
       "<title>b0-&gt;b1</title>\n",
       "<path fill=\"none\" stroke=\"black\" d=\"M80.5,-86.8C80.5,-75.16 80.5,-59.55 80.5,-46.24\"/>\n",
       "<polygon fill=\"black\" stroke=\"black\" points=\"84,-46.18 80.5,-36.18 77,-46.18 84,-46.18\"/>\n",
       "<text text-anchor=\"middle\" x=\"87.5\" y=\"-57.8\" font-family=\"Times,serif\" font-size=\"14.00\">42</text>\n",
       "</g>\n",
       "</g>\n",
       "</svg>"
      ],
      "text/plain": [
       "<IPython.core.display.SVG object>"
      ]
     },
     "metadata": {},
     "output_type": "display_data"
    },
    {
     "data": {
      "text/markdown": [
       "#### Counts totals:\n",
       " - `Toffoli()`: 42"
      ],
      "text/plain": [
       "<IPython.core.display.Markdown object>"
      ]
     },
     "metadata": {},
     "output_type": "display_data"
    }
   ],
   "source": [
    "from qualtran.resource_counting.generalizers import ignore_split_join\n",
    "product_g, product_sigma = product.call_graph(max_depth=1, generalizer=ignore_split_join)\n",
    "show_call_graph(product_g)\n",
    "show_counts_sigma(product_sigma)"
   ]
  },
  {
   "cell_type": "markdown",
   "id": "28db7d6c",
   "metadata": {
    "cq.autogen": "Square.bloq_doc.md"
   },
   "source": [
    "## `Square`\n",
    "Square an n-bit binary number.\n",
    "\n",
    "Implements $U|a\\rangle|0\\rangle \\rightarrow |a\\rangle|a^2\\rangle$ using $n^2 - n$ Toffolis.\n",
    "\n",
    "#### Parameters\n",
    " - `bitsize`: Number of bits used to represent the integer to be squared. The result is stored in a register of size 2*bitsize. \n",
    "\n",
    "#### Registers\n",
    " - `a`: A bitsize-sized input register (register a above).\n",
    " - `result`: A 2-bitsize-sized input/output register. \n",
    "\n",
    "#### References\n",
    " - [Fault-Tolerant Quantum Simulations of Chemistry in First Quantization](https://arxiv.org/abs/2105.12767). pg 76 for Toffoli complexity.\n"
   ]
  },
  {
   "cell_type": "code",
   "execution_count": 9,
   "id": "b9c9b141",
   "metadata": {
    "cq.autogen": "Square.bloq_doc.py"
   },
   "outputs": [],
   "source": [
    "from qualtran.bloqs.arithmetic import Square"
   ]
  },
  {
   "cell_type": "markdown",
   "id": "2f2fa4cb",
   "metadata": {
    "cq.autogen": "Square.example_instances.md"
   },
   "source": [
    "### Example Instances"
   ]
  },
  {
   "cell_type": "code",
   "execution_count": 10,
   "id": "74f0c312",
   "metadata": {
    "cq.autogen": "Square.square"
   },
   "outputs": [],
   "source": [
    "square = Square(bitsize=8)"
   ]
  },
  {
   "cell_type": "markdown",
   "id": "af4d7c44",
   "metadata": {
    "cq.autogen": "Square.graphical_signature.md"
   },
   "source": [
    "#### Graphical Signature"
   ]
  },
  {
   "cell_type": "code",
   "execution_count": 11,
   "id": "d1fb05e3",
   "metadata": {
    "cq.autogen": "Square.graphical_signature.py"
   },
   "outputs": [
    {
     "data": {
      "application/vnd.jupyter.widget-view+json": {
       "model_id": "e43e14fa274c4fd4a4773ed75eb18518",
       "version_major": 2,
       "version_minor": 0
      },
      "text/plain": [
       "HBox(children=(Output(outputs=({'output_type': 'display_data', 'data': {'text/plain': '<IPython.core.display.M…"
      ]
     },
     "metadata": {},
     "output_type": "display_data"
    }
   ],
   "source": [
    "from qualtran.drawing import show_bloqs\n",
    "show_bloqs([square],\n",
    "           ['`square`'])"
   ]
  },
  {
   "cell_type": "markdown",
   "id": "61ad10d5",
   "metadata": {
    "cq.autogen": "Square.call_graph.md"
   },
   "source": [
    "### Call Graph"
   ]
  },
  {
   "cell_type": "code",
   "execution_count": 12,
   "id": "f899d345",
   "metadata": {
    "cq.autogen": "Square.call_graph.py"
   },
   "outputs": [
    {
     "data": {
      "image/svg+xml": [
       "<svg xmlns=\"http://www.w3.org/2000/svg\" xmlns:xlink=\"http://www.w3.org/1999/xlink\" width=\"181pt\" height=\"131pt\" viewBox=\"0.00 0.00 181.00 131.00\">\n",
       "<g id=\"graph0\" class=\"graph\" transform=\"scale(1 1) rotate(0) translate(4 127)\">\n",
       "<title>counts</title>\n",
       "<polygon fill=\"white\" stroke=\"transparent\" points=\"-4,4 -4,-127 177,-127 177,4 -4,4\"/>\n",
       "<!-- b0 -->\n",
       "<g id=\"node1\" class=\"node\">\n",
       "<title>b0</title>\n",
       "<polygon fill=\"none\" stroke=\"black\" points=\"173,-123 0,-123 0,-87 173,-87 173,-123\"/>\n",
       "<text text-anchor=\"start\" x=\"67.5\" y=\"-106.8\" font-family=\"Times,serif\" font-size=\"14.00\">Square</text>\n",
       "<text text-anchor=\"start\" x=\"8\" y=\"-96\" font-family=\"monospace\" font-size=\"10.00\">bitsize=8, uncompute=False</text>\n",
       "</g>\n",
       "<!-- b1 -->\n",
       "<g id=\"node2\" class=\"node\">\n",
       "<title>b1</title>\n",
       "<polygon fill=\"none\" stroke=\"black\" points=\"114,-36 59,-36 59,0 114,0 114,-36\"/>\n",
       "<text text-anchor=\"start\" x=\"67\" y=\"-14.3\" font-family=\"Times,serif\" font-size=\"14.00\">Toffoli</text>\n",
       "</g>\n",
       "<!-- b0&#45;&gt;b1 -->\n",
       "<g id=\"edge1\" class=\"edge\">\n",
       "<title>b0-&gt;b1</title>\n",
       "<path fill=\"none\" stroke=\"black\" d=\"M86.5,-86.8C86.5,-75.16 86.5,-59.55 86.5,-46.24\"/>\n",
       "<polygon fill=\"black\" stroke=\"black\" points=\"90,-46.18 86.5,-36.18 83,-46.18 90,-46.18\"/>\n",
       "<text text-anchor=\"middle\" x=\"93.5\" y=\"-57.8\" font-family=\"Times,serif\" font-size=\"14.00\">56</text>\n",
       "</g>\n",
       "</g>\n",
       "</svg>"
      ],
      "text/plain": [
       "<IPython.core.display.SVG object>"
      ]
     },
     "metadata": {},
     "output_type": "display_data"
    },
    {
     "data": {
      "text/markdown": [
       "#### Counts totals:\n",
       " - `Toffoli()`: 56"
      ],
      "text/plain": [
       "<IPython.core.display.Markdown object>"
      ]
     },
     "metadata": {},
     "output_type": "display_data"
    }
   ],
   "source": [
    "from qualtran.resource_counting.generalizers import ignore_split_join\n",
    "square_g, square_sigma = square.call_graph(max_depth=1, generalizer=ignore_split_join)\n",
    "show_call_graph(square_g)\n",
    "show_counts_sigma(square_sigma)"
   ]
  },
  {
   "cell_type": "markdown",
   "id": "b8cb3d26",
   "metadata": {
    "cq.autogen": "SumOfSquares.bloq_doc.md"
   },
   "source": [
    "## `SumOfSquares`\n",
    "Compute the sum of squares of k n-bit binary numbers.\n",
    "\n",
    "Implements $U|a\\rangle|b\\rangle\\dots k\\rangle|0\\rangle \\rightarrow\n",
    "    |a\\rangle|b\\rangle\\dots|k\\rangle|a^2+b^2+\\dots k^2\\rangle$ using\n",
    "    $4 k n^2 T$ gates.\n",
    "\n",
    "The number of bits required by the output register is 2*bitsize + ceil(log2(k)).\n",
    "\n",
    "#### Parameters\n",
    " - `bitsize`: Number of bits used to represent each of the k integers.\n",
    " - `k`: The number of integers we want to square. \n",
    "\n",
    "#### Registers\n",
    " - `input`: k n-bit registers.\n",
    " - `result`: 2 * bitsize + ceil(log2(k)) sized output register. \n",
    "\n",
    "#### References\n",
    " - [Fault-Tolerant Quantum Simulations of Chemistry in First Quantization](https://arxiv.org/abs/2105.12767). pg 80 gives a Toffoli complexity for squaring.\n"
   ]
  },
  {
   "cell_type": "code",
   "execution_count": 13,
   "id": "c67129b2",
   "metadata": {
    "cq.autogen": "SumOfSquares.bloq_doc.py"
   },
   "outputs": [],
   "source": [
    "from qualtran.bloqs.arithmetic import SumOfSquares"
   ]
  },
  {
   "cell_type": "markdown",
   "id": "d7c136d2",
   "metadata": {
    "cq.autogen": "SumOfSquares.example_instances.md"
   },
   "source": [
    "### Example Instances"
   ]
  },
  {
   "cell_type": "code",
   "execution_count": 14,
   "id": "9398c94f",
   "metadata": {
    "cq.autogen": "SumOfSquares.sum_of_squares"
   },
   "outputs": [],
   "source": [
    "sum_of_squares = SumOfSquares(bitsize=8, k=4)"
   ]
  },
  {
   "cell_type": "markdown",
   "id": "3d954684",
   "metadata": {
    "cq.autogen": "SumOfSquares.graphical_signature.md"
   },
   "source": [
    "#### Graphical Signature"
   ]
  },
  {
   "cell_type": "code",
   "execution_count": 15,
   "id": "5d15b935",
   "metadata": {
    "cq.autogen": "SumOfSquares.graphical_signature.py"
   },
   "outputs": [
    {
     "data": {
      "application/vnd.jupyter.widget-view+json": {
       "model_id": "36915d9dee4d4b23a9884206ee6f26c4",
       "version_major": 2,
       "version_minor": 0
      },
      "text/plain": [
       "HBox(children=(Output(outputs=({'output_type': 'display_data', 'data': {'text/plain': '<IPython.core.display.M…"
      ]
     },
     "metadata": {},
     "output_type": "display_data"
    }
   ],
   "source": [
    "from qualtran.drawing import show_bloqs\n",
    "show_bloqs([sum_of_squares],\n",
    "           ['`sum_of_squares`'])"
   ]
  },
  {
   "cell_type": "markdown",
   "id": "45fc4f90",
   "metadata": {
    "cq.autogen": "SumOfSquares.call_graph.md"
   },
   "source": [
    "### Call Graph"
   ]
  },
  {
   "cell_type": "code",
   "execution_count": 16,
   "id": "a79cf488",
   "metadata": {
    "cq.autogen": "SumOfSquares.call_graph.py"
   },
   "outputs": [
    {
     "data": {
      "image/svg+xml": [
       "<svg xmlns=\"http://www.w3.org/2000/svg\" xmlns:xlink=\"http://www.w3.org/1999/xlink\" width=\"109pt\" height=\"131pt\" viewBox=\"0.00 0.00 109.00 131.00\">\n",
       "<g id=\"graph0\" class=\"graph\" transform=\"scale(1 1) rotate(0) translate(4 127)\">\n",
       "<title>counts</title>\n",
       "<polygon fill=\"white\" stroke=\"transparent\" points=\"-4,4 -4,-127 105,-127 105,4 -4,4\"/>\n",
       "<!-- b0 -->\n",
       "<g id=\"node1\" class=\"node\">\n",
       "<title>b0</title>\n",
       "<polygon fill=\"none\" stroke=\"black\" points=\"101,-123 0,-123 0,-87 101,-87 101,-123\"/>\n",
       "<text text-anchor=\"start\" x=\"9\" y=\"-106.8\" font-family=\"Times,serif\" font-size=\"14.00\">SumOfSquares</text>\n",
       "<text text-anchor=\"start\" x=\"8\" y=\"-96\" font-family=\"monospace\" font-size=\"10.00\">bitsize=8, k=4</text>\n",
       "</g>\n",
       "<!-- b1 -->\n",
       "<g id=\"node2\" class=\"node\">\n",
       "<title>b1</title>\n",
       "<polygon fill=\"none\" stroke=\"black\" points=\"78,-36 23,-36 23,0 78,0 78,-36\"/>\n",
       "<text text-anchor=\"start\" x=\"31\" y=\"-14.3\" font-family=\"Times,serif\" font-size=\"14.00\">Toffoli</text>\n",
       "</g>\n",
       "<!-- b0&#45;&gt;b1 -->\n",
       "<g id=\"edge1\" class=\"edge\">\n",
       "<title>b0-&gt;b1</title>\n",
       "<path fill=\"none\" stroke=\"black\" d=\"M50.5,-86.8C50.5,-75.16 50.5,-59.55 50.5,-46.24\"/>\n",
       "<polygon fill=\"black\" stroke=\"black\" points=\"54,-46.18 50.5,-36.18 47,-46.18 54,-46.18\"/>\n",
       "<text text-anchor=\"middle\" x=\"61\" y=\"-57.8\" font-family=\"Times,serif\" font-size=\"14.00\">248</text>\n",
       "</g>\n",
       "</g>\n",
       "</svg>"
      ],
      "text/plain": [
       "<IPython.core.display.SVG object>"
      ]
     },
     "metadata": {},
     "output_type": "display_data"
    },
    {
     "data": {
      "text/markdown": [
       "#### Counts totals:\n",
       " - `Toffoli()`: 248"
      ],
      "text/plain": [
       "<IPython.core.display.Markdown object>"
      ]
     },
     "metadata": {},
     "output_type": "display_data"
    }
   ],
   "source": [
    "from qualtran.resource_counting.generalizers import ignore_split_join\n",
    "sum_of_squares_g, sum_of_squares_sigma = sum_of_squares.call_graph(max_depth=1, generalizer=ignore_split_join)\n",
    "show_call_graph(sum_of_squares_g)\n",
    "show_counts_sigma(sum_of_squares_sigma)"
   ]
  },
  {
   "cell_type": "markdown",
   "id": "263d02db",
   "metadata": {
    "cq.autogen": "ScaleIntByReal.bloq_doc.md"
   },
   "source": [
    "## `ScaleIntByReal`\n",
    "Scale an integer by fixed-point representation of a real number.\n",
    "\n",
    "i.e.\n",
    "\n",
    "$$\n",
    "    |r\\rangle|i\\rangle|0\\rangle \\rightarrow |r\\rangle|i\\rangle|r \\times i\\rangle\n",
    "$$\n",
    "\n",
    "The real number is assumed to be in the range [0, 1).\n",
    "\n",
    "#### Parameters\n",
    " - `r_bitsize`: Number of bits used to represent the real number.\n",
    " - `i_bitsize`: Number of bits used to represent the integer. \n",
    "\n",
    "#### Registers\n",
    " - `real_in`: r_bitsize-sized input fixed-point register.\n",
    " - `int_in`: i_bitsize-sized input register.\n",
    " - `result`: a r_bitsize sized output fixed-point register. \n",
    "\n",
    "#### References\n",
    " - [Compilation of Fault-Tolerant Quantum Heuristics for Combinatorial Optimization](     https://arxiv.org/pdf/2007.07391.pdf) pg 70.\n"
   ]
  },
  {
   "cell_type": "code",
   "execution_count": 17,
   "id": "5b7ae7b1",
   "metadata": {
    "cq.autogen": "ScaleIntByReal.bloq_doc.py"
   },
   "outputs": [],
   "source": [
    "from qualtran.bloqs.arithmetic import ScaleIntByReal"
   ]
  },
  {
   "cell_type": "markdown",
   "id": "1afc0f65",
   "metadata": {
    "cq.autogen": "ScaleIntByReal.example_instances.md"
   },
   "source": [
    "### Example Instances"
   ]
  },
  {
   "cell_type": "code",
   "execution_count": 18,
   "id": "97276ea9",
   "metadata": {
    "cq.autogen": "ScaleIntByReal.scale_int_by_real"
   },
   "outputs": [],
   "source": [
    "scale_int_by_real = ScaleIntByReal(r_bitsize=12, i_bitsize=4)"
   ]
  },
  {
   "cell_type": "markdown",
   "id": "d46ee13e",
   "metadata": {
    "cq.autogen": "ScaleIntByReal.graphical_signature.md"
   },
   "source": [
    "#### Graphical Signature"
   ]
  },
  {
   "cell_type": "code",
   "execution_count": 19,
   "id": "b0f3c38b",
   "metadata": {
    "cq.autogen": "ScaleIntByReal.graphical_signature.py"
   },
   "outputs": [
    {
     "data": {
      "application/vnd.jupyter.widget-view+json": {
       "model_id": "a9fa44564ba24524b084d22883113c56",
       "version_major": 2,
       "version_minor": 0
      },
      "text/plain": [
       "HBox(children=(Output(outputs=({'output_type': 'display_data', 'data': {'text/plain': '<IPython.core.display.M…"
      ]
     },
     "metadata": {},
     "output_type": "display_data"
    }
   ],
   "source": [
    "from qualtran.drawing import show_bloqs\n",
    "show_bloqs([scale_int_by_real],\n",
    "           ['`scale_int_by_real`'])"
   ]
  },
  {
   "cell_type": "markdown",
   "id": "b4ea9935",
   "metadata": {
    "cq.autogen": "ScaleIntByReal.call_graph.md"
   },
   "source": [
    "### Call Graph"
   ]
  },
  {
   "cell_type": "code",
   "execution_count": 20,
   "id": "b3364d83",
   "metadata": {
    "cq.autogen": "ScaleIntByReal.call_graph.py"
   },
   "outputs": [
    {
     "data": {
      "image/svg+xml": [
       "<svg xmlns=\"http://www.w3.org/2000/svg\" xmlns:xlink=\"http://www.w3.org/1999/xlink\" width=\"175pt\" height=\"131pt\" viewBox=\"0.00 0.00 175.00 131.00\">\n",
       "<g id=\"graph0\" class=\"graph\" transform=\"scale(1 1) rotate(0) translate(4 127)\">\n",
       "<title>counts</title>\n",
       "<polygon fill=\"white\" stroke=\"transparent\" points=\"-4,4 -4,-127 171,-127 171,4 -4,4\"/>\n",
       "<!-- b0 -->\n",
       "<g id=\"node1\" class=\"node\">\n",
       "<title>b0</title>\n",
       "<polygon fill=\"none\" stroke=\"black\" points=\"167,-123 0,-123 0,-87 167,-87 167,-123\"/>\n",
       "<text text-anchor=\"start\" x=\"41\" y=\"-106.8\" font-family=\"Times,serif\" font-size=\"14.00\">ScaleIntByReal</text>\n",
       "<text text-anchor=\"start\" x=\"8\" y=\"-96\" font-family=\"monospace\" font-size=\"10.00\">r_bitsize=12, i_bitsize=4</text>\n",
       "</g>\n",
       "<!-- b1 -->\n",
       "<g id=\"node2\" class=\"node\">\n",
       "<title>b1</title>\n",
       "<polygon fill=\"none\" stroke=\"black\" points=\"111,-36 56,-36 56,0 111,0 111,-36\"/>\n",
       "<text text-anchor=\"start\" x=\"64\" y=\"-14.3\" font-family=\"Times,serif\" font-size=\"14.00\">Toffoli</text>\n",
       "</g>\n",
       "<!-- b0&#45;&gt;b1 -->\n",
       "<g id=\"edge1\" class=\"edge\">\n",
       "<title>b0-&gt;b1</title>\n",
       "<path fill=\"none\" stroke=\"black\" d=\"M83.5,-86.8C83.5,-75.16 83.5,-59.55 83.5,-46.24\"/>\n",
       "<polygon fill=\"black\" stroke=\"black\" points=\"87,-46.18 83.5,-36.18 80,-46.18 87,-46.18\"/>\n",
       "<text text-anchor=\"middle\" x=\"90.5\" y=\"-57.8\" font-family=\"Times,serif\" font-size=\"14.00\">68</text>\n",
       "</g>\n",
       "</g>\n",
       "</svg>"
      ],
      "text/plain": [
       "<IPython.core.display.SVG object>"
      ]
     },
     "metadata": {},
     "output_type": "display_data"
    },
    {
     "data": {
      "text/markdown": [
       "#### Counts totals:\n",
       " - `Toffoli()`: 68"
      ],
      "text/plain": [
       "<IPython.core.display.Markdown object>"
      ]
     },
     "metadata": {},
     "output_type": "display_data"
    }
   ],
   "source": [
    "from qualtran.resource_counting.generalizers import ignore_split_join\n",
    "scale_int_by_real_g, scale_int_by_real_sigma = scale_int_by_real.call_graph(max_depth=1, generalizer=ignore_split_join)\n",
    "show_call_graph(scale_int_by_real_g)\n",
    "show_counts_sigma(scale_int_by_real_sigma)"
   ]
  },
  {
   "cell_type": "markdown",
   "id": "09dcd608",
   "metadata": {
    "cq.autogen": "MultiplyTwoReals.bloq_doc.md"
   },
   "source": [
    "## `MultiplyTwoReals`\n",
    "Multiply two fixed-point representations of real numbers\n",
    "\n",
    "i.e.\n",
    "\n",
    "$$\n",
    "    |a\\rangle|b\\rangle|0\\rangle \\rightarrow |a\\rangle|b\\rangle|a \\times b\\rangle\n",
    "$$\n",
    "\n",
    "The real numbers are assumed to be in the range [0, 1).\n",
    "\n",
    "#### Parameters\n",
    " - `bitsize`: Number of bits used to represent the real number. \n",
    "\n",
    "#### Registers\n",
    " - `a`: bitsize-sized input register.\n",
    " - `b`: bitsize-sized input register.\n",
    " - `result`: bitsize output register \n",
    "\n",
    "#### References\n",
    " - [Compilation of Fault-Tolerant Quantum Heuristics for Combinatorial Optimization](https://arxiv.org/abs/2007.07391). Appendix D. Section 5. (p. 71).\n"
   ]
  },
  {
   "cell_type": "code",
   "execution_count": 21,
   "id": "fc413fbc",
   "metadata": {
    "cq.autogen": "MultiplyTwoReals.bloq_doc.py"
   },
   "outputs": [],
   "source": [
    "from qualtran.bloqs.arithmetic import MultiplyTwoReals"
   ]
  },
  {
   "cell_type": "markdown",
   "id": "766c68e4",
   "metadata": {
    "cq.autogen": "MultiplyTwoReals.example_instances.md"
   },
   "source": [
    "### Example Instances"
   ]
  },
  {
   "cell_type": "code",
   "execution_count": 22,
   "id": "2e090bbf",
   "metadata": {
    "cq.autogen": "MultiplyTwoReals.multiply_two_reals"
   },
   "outputs": [],
   "source": [
    "multiply_two_reals = MultiplyTwoReals(bitsize=10)"
   ]
  },
  {
   "cell_type": "markdown",
   "id": "b9322b48",
   "metadata": {
    "cq.autogen": "MultiplyTwoReals.graphical_signature.md"
   },
   "source": [
    "#### Graphical Signature"
   ]
  },
  {
   "cell_type": "code",
   "execution_count": 23,
   "id": "85940d98",
   "metadata": {
    "cq.autogen": "MultiplyTwoReals.graphical_signature.py"
   },
   "outputs": [
    {
     "data": {
      "application/vnd.jupyter.widget-view+json": {
       "model_id": "50e787e2a5bd44fbbbd2d686399e20dd",
       "version_major": 2,
       "version_minor": 0
      },
      "text/plain": [
       "HBox(children=(Output(outputs=({'output_type': 'display_data', 'data': {'text/plain': '<IPython.core.display.M…"
      ]
     },
     "metadata": {},
     "output_type": "display_data"
    }
   ],
   "source": [
    "from qualtran.drawing import show_bloqs\n",
    "show_bloqs([multiply_two_reals],\n",
    "           ['`multiply_two_reals`'])"
   ]
  },
  {
   "cell_type": "markdown",
   "id": "85d69a0e",
   "metadata": {
    "cq.autogen": "MultiplyTwoReals.call_graph.md"
   },
   "source": [
    "### Call Graph"
   ]
  },
  {
   "cell_type": "code",
   "execution_count": 24,
   "id": "de70dbe6",
   "metadata": {
    "cq.autogen": "MultiplyTwoReals.call_graph.py"
   },
   "outputs": [
    {
     "data": {
      "image/svg+xml": [
       "<svg xmlns=\"http://www.w3.org/2000/svg\" xmlns:xlink=\"http://www.w3.org/1999/xlink\" width=\"127pt\" height=\"131pt\" viewBox=\"0.00 0.00 127.00 131.00\">\n",
       "<g id=\"graph0\" class=\"graph\" transform=\"scale(1 1) rotate(0) translate(4 127)\">\n",
       "<title>counts</title>\n",
       "<polygon fill=\"white\" stroke=\"transparent\" points=\"-4,4 -4,-127 123,-127 123,4 -4,4\"/>\n",
       "<!-- b0 -->\n",
       "<g id=\"node1\" class=\"node\">\n",
       "<title>b0</title>\n",
       "<polygon fill=\"none\" stroke=\"black\" points=\"119,-123 0,-123 0,-87 119,-87 119,-123\"/>\n",
       "<text text-anchor=\"start\" x=\"8\" y=\"-106.8\" font-family=\"Times,serif\" font-size=\"14.00\">MultiplyTwoReals</text>\n",
       "<text text-anchor=\"start\" x=\"29\" y=\"-96\" font-family=\"monospace\" font-size=\"10.00\">bitsize=10</text>\n",
       "</g>\n",
       "<!-- b1 -->\n",
       "<g id=\"node2\" class=\"node\">\n",
       "<title>b1</title>\n",
       "<polygon fill=\"none\" stroke=\"black\" points=\"87,-36 32,-36 32,0 87,0 87,-36\"/>\n",
       "<text text-anchor=\"start\" x=\"40\" y=\"-14.3\" font-family=\"Times,serif\" font-size=\"14.00\">Toffoli</text>\n",
       "</g>\n",
       "<!-- b0&#45;&gt;b1 -->\n",
       "<g id=\"edge1\" class=\"edge\">\n",
       "<title>b0-&gt;b1</title>\n",
       "<path fill=\"none\" stroke=\"black\" d=\"M59.5,-86.8C59.5,-75.16 59.5,-59.55 59.5,-46.24\"/>\n",
       "<polygon fill=\"black\" stroke=\"black\" points=\"63,-46.18 59.5,-36.18 56,-46.18 63,-46.18\"/>\n",
       "<text text-anchor=\"middle\" x=\"66.5\" y=\"-57.8\" font-family=\"Times,serif\" font-size=\"14.00\">89</text>\n",
       "</g>\n",
       "</g>\n",
       "</svg>"
      ],
      "text/plain": [
       "<IPython.core.display.SVG object>"
      ]
     },
     "metadata": {},
     "output_type": "display_data"
    },
    {
     "data": {
      "text/markdown": [
       "#### Counts totals:\n",
       " - `Toffoli()`: 89"
      ],
      "text/plain": [
       "<IPython.core.display.Markdown object>"
      ]
     },
     "metadata": {},
     "output_type": "display_data"
    }
   ],
   "source": [
    "from qualtran.resource_counting.generalizers import ignore_split_join\n",
    "multiply_two_reals_g, multiply_two_reals_sigma = multiply_two_reals.call_graph(max_depth=1, generalizer=ignore_split_join)\n",
    "show_call_graph(multiply_two_reals_g)\n",
    "show_counts_sigma(multiply_two_reals_sigma)"
   ]
  },
  {
   "cell_type": "markdown",
   "id": "075c2d2a",
   "metadata": {
    "cq.autogen": "SquareRealNumber.bloq_doc.md"
   },
   "source": [
    "## `SquareRealNumber`\n",
    "Square a fixed-point representation of a real number\n",
    "\n",
    "i.e.\n",
    "\n",
    "$$\n",
    "    |a\\rangle|0\\rangle \\rightarrow |a\\rangle|a^2\\rangle\n",
    "$$\n",
    "\n",
    "The real numbers are assumed to be in the range [0, 1).\n",
    "\n",
    "#### Parameters\n",
    " - `bitsize`: Number of bits used to represent the real number. \n",
    "\n",
    "#### Registers\n",
    " - `a`: bitsize-sized input register.\n",
    " - `b`: bitsize-sized input register.\n",
    " - `result`: bitsize output register \n",
    "\n",
    "#### References\n",
    " - [Compilation of Fault-Tolerant Quantum Heuristics for Combinatorial Optimization](https://arxiv.org/abs/2007.07391). Appendix D. Section 6. (p. 74).\n"
   ]
  },
  {
   "cell_type": "code",
   "execution_count": 25,
   "id": "1521a0dd",
   "metadata": {
    "cq.autogen": "SquareRealNumber.bloq_doc.py"
   },
   "outputs": [],
   "source": [
    "from qualtran.bloqs.arithmetic import SquareRealNumber"
   ]
  },
  {
   "cell_type": "markdown",
   "id": "36bc840d",
   "metadata": {
    "cq.autogen": "SquareRealNumber.example_instances.md"
   },
   "source": [
    "### Example Instances"
   ]
  },
  {
   "cell_type": "code",
   "execution_count": 26,
   "id": "2c7f730f",
   "metadata": {
    "cq.autogen": "SquareRealNumber.square_real_number"
   },
   "outputs": [],
   "source": [
    "square_real_number = SquareRealNumber(bitsize=10)"
   ]
  },
  {
   "cell_type": "markdown",
   "id": "5e2fc726",
   "metadata": {
    "cq.autogen": "SquareRealNumber.graphical_signature.md"
   },
   "source": [
    "#### Graphical Signature"
   ]
  },
  {
   "cell_type": "code",
   "execution_count": 27,
   "id": "c1eea122",
   "metadata": {
    "cq.autogen": "SquareRealNumber.graphical_signature.py"
   },
   "outputs": [
    {
     "data": {
      "application/vnd.jupyter.widget-view+json": {
       "model_id": "f2973742b9a84d7ca0033cd20123c661",
       "version_major": 2,
       "version_minor": 0
      },
      "text/plain": [
       "HBox(children=(Output(outputs=({'output_type': 'display_data', 'data': {'text/plain': '<IPython.core.display.M…"
      ]
     },
     "metadata": {},
     "output_type": "display_data"
    }
   ],
   "source": [
    "from qualtran.drawing import show_bloqs\n",
    "show_bloqs([square_real_number],\n",
    "           ['`square_real_number`'])"
   ]
  },
  {
   "cell_type": "markdown",
   "id": "b410a3af",
   "metadata": {
    "cq.autogen": "SquareRealNumber.call_graph.md"
   },
   "source": [
    "### Call Graph"
   ]
  },
  {
   "cell_type": "code",
   "execution_count": 28,
   "id": "f2016953",
   "metadata": {
    "cq.autogen": "SquareRealNumber.call_graph.py"
   },
   "outputs": [
    {
     "data": {
      "image/svg+xml": [
       "<svg xmlns=\"http://www.w3.org/2000/svg\" xmlns:xlink=\"http://www.w3.org/1999/xlink\" width=\"132pt\" height=\"131pt\" viewBox=\"0.00 0.00 132.00 131.00\">\n",
       "<g id=\"graph0\" class=\"graph\" transform=\"scale(1 1) rotate(0) translate(4 127)\">\n",
       "<title>counts</title>\n",
       "<polygon fill=\"white\" stroke=\"transparent\" points=\"-4,4 -4,-127 128,-127 128,4 -4,4\"/>\n",
       "<!-- b0 -->\n",
       "<g id=\"node1\" class=\"node\">\n",
       "<title>b0</title>\n",
       "<polygon fill=\"none\" stroke=\"black\" points=\"124,-123 0,-123 0,-87 124,-87 124,-123\"/>\n",
       "<text text-anchor=\"start\" x=\"8\" y=\"-106.8\" font-family=\"Times,serif\" font-size=\"14.00\">SquareRealNumber</text>\n",
       "<text text-anchor=\"start\" x=\"31.5\" y=\"-96\" font-family=\"monospace\" font-size=\"10.00\">bitsize=10</text>\n",
       "</g>\n",
       "<!-- b1 -->\n",
       "<g id=\"node2\" class=\"node\">\n",
       "<title>b1</title>\n",
       "<polygon fill=\"none\" stroke=\"black\" points=\"89.5,-36 34.5,-36 34.5,0 89.5,0 89.5,-36\"/>\n",
       "<text text-anchor=\"start\" x=\"42.5\" y=\"-14.3\" font-family=\"Times,serif\" font-size=\"14.00\">Toffoli</text>\n",
       "</g>\n",
       "<!-- b0&#45;&gt;b1 -->\n",
       "<g id=\"edge1\" class=\"edge\">\n",
       "<title>b0-&gt;b1</title>\n",
       "<path fill=\"none\" stroke=\"black\" d=\"M62,-86.8C62,-75.16 62,-59.55 62,-46.24\"/>\n",
       "<polygon fill=\"black\" stroke=\"black\" points=\"65.5,-46.18 62,-36.18 58.5,-46.18 65.5,-46.18\"/>\n",
       "<text text-anchor=\"middle\" x=\"69\" y=\"-57.8\" font-family=\"Times,serif\" font-size=\"14.00\">46</text>\n",
       "</g>\n",
       "</g>\n",
       "</svg>"
      ],
      "text/plain": [
       "<IPython.core.display.SVG object>"
      ]
     },
     "metadata": {},
     "output_type": "display_data"
    },
    {
     "data": {
      "text/markdown": [
       "#### Counts totals:\n",
       " - `Toffoli()`: 46"
      ],
      "text/plain": [
       "<IPython.core.display.Markdown object>"
      ]
     },
     "metadata": {},
     "output_type": "display_data"
    }
   ],
   "source": [
    "from qualtran.resource_counting.generalizers import ignore_split_join\n",
    "square_real_number_g, square_real_number_sigma = square_real_number.call_graph(max_depth=1, generalizer=ignore_split_join)\n",
    "show_call_graph(square_real_number_g)\n",
    "show_counts_sigma(square_real_number_sigma)"
   ]
  },
  {
   "cell_type": "code",
   "execution_count": 29,
   "id": "54754463",
   "metadata": {
    "cq.autogen": "PlusEqualProduct.graphical_signature.py"
   },
   "outputs": [
    {
     "data": {
      "application/vnd.jupyter.widget-view+json": {
       "model_id": "ff5f239e7d1049acb599ecb0b6615453",
       "version_major": 2,
       "version_minor": 0
      },
      "text/plain": [
       "HBox(children=(Output(outputs=({'output_type': 'display_data', 'data': {'text/plain': '<IPython.core.display.M…"
      ]
     },
     "metadata": {},
     "output_type": "display_data"
    }
   ],
   "source": [
    "from qualtran.drawing import show_bloqs\n",
    "show_bloqs([plus_equal_product],\n",
    "           ['`plus_equal_product`'])"
   ]
  }
 ],
 "metadata": {
  "kernelspec": {
   "display_name": "Python 3",
   "language": "python",
   "name": "python3"
  },
  "language_info": {
   "codemirror_mode": {
    "name": "ipython",
    "version": 3
   },
   "file_extension": ".py",
   "mimetype": "text/x-python",
   "name": "python",
   "nbconvert_exporter": "python",
   "pygments_lexer": "ipython3",
   "version": "3.11.8"
  },
  "widgets": {
   "application/vnd.jupyter.widget-state+json": {
    "state": {
     "193828886d734c68883cc1db95bdce97": {
      "model_module": "@jupyter-widgets/base",
      "model_module_version": "2.0.0",
      "model_name": "LayoutModel",
      "state": {
       "_model_module": "@jupyter-widgets/base",
       "_model_module_version": "2.0.0",
       "_model_name": "LayoutModel",
       "_view_count": null,
       "_view_module": "@jupyter-widgets/base",
       "_view_module_version": "2.0.0",
       "_view_name": "LayoutView",
       "align_content": null,
       "align_items": null,
       "align_self": null,
       "border_bottom": null,
       "border_left": null,
       "border_right": null,
       "border_top": null,
       "bottom": null,
       "display": null,
       "flex": null,
       "flex_flow": null,
       "grid_area": null,
       "grid_auto_columns": null,
       "grid_auto_flow": null,
       "grid_auto_rows": null,
       "grid_column": null,
       "grid_gap": null,
       "grid_row": null,
       "grid_template_areas": null,
       "grid_template_columns": null,
       "grid_template_rows": null,
       "height": null,
       "justify_content": null,
       "justify_items": null,
       "left": null,
       "margin": null,
       "max_height": null,
       "max_width": null,
       "min_height": null,
       "min_width": null,
       "object_fit": null,
       "object_position": null,
       "order": null,
       "overflow": null,
       "padding": null,
       "right": null,
       "top": null,
       "visibility": null,
       "width": null
      }
     },
     "1f3c8b8b9378422cb6432c6503a8b906": {
      "model_module": "@jupyter-widgets/base",
      "model_module_version": "2.0.0",
      "model_name": "LayoutModel",
      "state": {
       "_model_module": "@jupyter-widgets/base",
       "_model_module_version": "2.0.0",
       "_model_name": "LayoutModel",
       "_view_count": null,
       "_view_module": "@jupyter-widgets/base",
       "_view_module_version": "2.0.0",
       "_view_name": "LayoutView",
       "align_content": null,
       "align_items": null,
       "align_self": null,
       "border_bottom": null,
       "border_left": null,
       "border_right": null,
       "border_top": null,
       "bottom": null,
       "display": null,
       "flex": null,
       "flex_flow": null,
       "grid_area": null,
       "grid_auto_columns": null,
       "grid_auto_flow": null,
       "grid_auto_rows": null,
       "grid_column": null,
       "grid_gap": null,
       "grid_row": null,
       "grid_template_areas": null,
       "grid_template_columns": null,
       "grid_template_rows": null,
       "height": null,
       "justify_content": null,
       "justify_items": null,
       "left": null,
       "margin": null,
       "max_height": null,
       "max_width": null,
       "min_height": null,
       "min_width": null,
       "object_fit": null,
       "object_position": null,
       "order": null,
       "overflow": null,
       "padding": null,
       "right": null,
       "top": null,
       "visibility": null,
       "width": null
      }
     },
     "251ed10db02d4ad488db5974fd94471f": {
      "model_module": "@jupyter-widgets/base",
      "model_module_version": "2.0.0",
      "model_name": "LayoutModel",
      "state": {
       "_model_module": "@jupyter-widgets/base",
       "_model_module_version": "2.0.0",
       "_model_name": "LayoutModel",
       "_view_count": null,
       "_view_module": "@jupyter-widgets/base",
       "_view_module_version": "2.0.0",
       "_view_name": "LayoutView",
       "align_content": null,
       "align_items": null,
       "align_self": null,
       "border_bottom": null,
       "border_left": null,
       "border_right": null,
       "border_top": null,
       "bottom": null,
       "display": null,
       "flex": null,
       "flex_flow": null,
       "grid_area": null,
       "grid_auto_columns": null,
       "grid_auto_flow": null,
       "grid_auto_rows": null,
       "grid_column": null,
       "grid_gap": null,
       "grid_row": null,
       "grid_template_areas": null,
       "grid_template_columns": null,
       "grid_template_rows": null,
       "height": null,
       "justify_content": null,
       "justify_items": null,
       "left": null,
       "margin": null,
       "max_height": null,
       "max_width": null,
       "min_height": null,
       "min_width": null,
       "object_fit": null,
       "object_position": null,
       "order": null,
       "overflow": null,
       "padding": null,
       "right": null,
       "top": null,
       "visibility": null,
       "width": null
      }
     },
     "2879f24dba5a4b3bacd5247d5d8125ed": {
      "model_module": "@jupyter-widgets/controls",
      "model_module_version": "2.0.0",
      "model_name": "HBoxModel",
      "state": {
       "_dom_classes": [],
       "_model_module": "@jupyter-widgets/controls",
       "_model_module_version": "2.0.0",
       "_model_name": "HBoxModel",
       "_view_count": null,
       "_view_module": "@jupyter-widgets/controls",
       "_view_module_version": "2.0.0",
       "_view_name": "HBoxView",
       "box_style": "",
       "children": [
        "IPY_MODEL_4ec5a3a395654cdb99456885eea51358"
       ],
       "layout": "IPY_MODEL_3f6d6b37409940b89299fd9b373dc50e",
       "tabbable": null,
       "tooltip": null
      }
     },
     "2ab0501acdfc4a10a3da27335e94bb27": {
      "model_module": "@jupyter-widgets/base",
      "model_module_version": "2.0.0",
      "model_name": "LayoutModel",
      "state": {
       "_model_module": "@jupyter-widgets/base",
       "_model_module_version": "2.0.0",
       "_model_name": "LayoutModel",
       "_view_count": null,
       "_view_module": "@jupyter-widgets/base",
       "_view_module_version": "2.0.0",
       "_view_name": "LayoutView",
       "align_content": null,
       "align_items": null,
       "align_self": null,
       "border_bottom": null,
       "border_left": null,
       "border_right": null,
       "border_top": null,
       "bottom": null,
       "display": null,
       "flex": null,
       "flex_flow": null,
       "grid_area": null,
       "grid_auto_columns": null,
       "grid_auto_flow": null,
       "grid_auto_rows": null,
       "grid_column": null,
       "grid_gap": null,
       "grid_row": null,
       "grid_template_areas": null,
       "grid_template_columns": null,
       "grid_template_rows": null,
       "height": null,
       "justify_content": null,
       "justify_items": null,
       "left": null,
       "margin": null,
       "max_height": null,
       "max_width": null,
       "min_height": null,
       "min_width": null,
       "object_fit": null,
       "object_position": null,
       "order": null,
       "overflow": null,
       "padding": null,
       "right": null,
       "top": null,
       "visibility": null,
       "width": null
      }
     },
     "351da676f48240bba58677f940dd0a88": {
      "model_module": "@jupyter-widgets/output",
      "model_module_version": "1.0.0",
      "model_name": "OutputModel",
      "state": {
       "_dom_classes": [],
       "_model_module": "@jupyter-widgets/output",
       "_model_module_version": "1.0.0",
       "_model_name": "OutputModel",
       "_view_count": null,
       "_view_module": "@jupyter-widgets/output",
       "_view_module_version": "1.0.0",
       "_view_name": "OutputView",
       "layout": "IPY_MODEL_b71eaf6fed9242bb963999b671cdcb63",
       "msg_id": "",
       "outputs": [
        {
         "data": {
          "text/markdown": "`square_real_number`",
          "text/plain": "<IPython.core.display.Markdown object>"
         },
         "metadata": {},
         "output_type": "display_data"
        },
        {
         "data": {
          "image/svg+xml": "<svg xmlns=\"http://www.w3.org/2000/svg\" xmlns:xlink=\"http://www.w3.org/1999/xlink\" width=\"233pt\" height=\"152pt\" viewBox=\"0.00 0.00 233.00 152.00\">\n<g id=\"graph0\" class=\"graph\" transform=\"scale(1 1) rotate(0) translate(4 148)\">\n<title>my_graph</title>\n<polygon fill=\"white\" stroke=\"transparent\" points=\"-4,4 -4,-148 229,-148 229,4 -4,4\"/>\n<!-- a_G4 -->\n<g id=\"node1\" class=\"node\">\n<title>a_G4</title>\n<text text-anchor=\"middle\" x=\"27\" y=\"-106.3\" font-family=\"Times,serif\" font-size=\"14.00\">a</text>\n</g>\n<!-- SquareRealNumber -->\n<g id=\"node3\" class=\"node\">\n<title>SquareRealNumber</title>\n<polygon fill=\"none\" stroke=\"black\" points=\"91.5,-104 91.5,-121 134.5,-121 134.5,-104 91.5,-104\"/>\n<text text-anchor=\"start\" x=\"105.5\" y=\"-110\" font-family=\"Times,serif\" font-size=\"10.00\">a^2</text>\n<polygon fill=\"none\" stroke=\"black\" points=\"91.5,-83 91.5,-104 134.5,-104 134.5,-83 91.5,-83\"/>\n<text text-anchor=\"start\" x=\"109.5\" y=\"-89.8\" font-family=\"Times,serif\" font-size=\"14.00\">a</text>\n<polygon fill=\"none\" stroke=\"black\" points=\"91.5,-62 91.5,-83 134.5,-83 134.5,-62 91.5,-62\"/>\n<text text-anchor=\"start\" x=\"109.5\" y=\"-68.8\" font-family=\"Times,serif\" font-size=\"14.00\">b</text>\n<polygon fill=\"none\" stroke=\"black\" points=\"91.5,-41 91.5,-62 97.5,-62 97.5,-41 91.5,-41\"/>\n<polygon fill=\"none\" stroke=\"black\" points=\"97.5,-41 97.5,-62 134.5,-62 134.5,-41 97.5,-41\"/>\n<text text-anchor=\"start\" x=\"100.5\" y=\"-47.8\" font-family=\"Times,serif\" font-size=\"14.00\">result</text>\n</g>\n<!-- a_G4&#45;&gt;SquareRealNumber -->\n<g id=\"edge1\" class=\"edge\">\n<title>a_G4:e-&gt;SquareRealNumber:w</title>\n<path fill=\"none\" stroke=\"black\" d=\"M54,-110C71.22,-110 72.97,-95.23 88.98,-94.07\"/>\n<ellipse fill=\"black\" stroke=\"black\" cx=\"90\" cy=\"-94.04\" rx=\"1\" ry=\"1\"/>\n<text text-anchor=\"middle\" x=\"72.5\" y=\"-105\" font-family=\"Times,serif\" font-size=\"10.00\">10</text>\n</g>\n<!-- b_G2 -->\n<g id=\"node2\" class=\"node\">\n<title>b_G2</title>\n<text text-anchor=\"middle\" x=\"27\" y=\"-52.3\" font-family=\"Times,serif\" font-size=\"14.00\">b</text>\n</g>\n<!-- b_G2&#45;&gt;SquareRealNumber -->\n<g id=\"edge2\" class=\"edge\">\n<title>b_G2:e-&gt;SquareRealNumber:w</title>\n<path fill=\"none\" stroke=\"black\" d=\"M54,-56C71.22,-56 72.97,-70.77 88.98,-71.93\"/>\n<ellipse fill=\"black\" stroke=\"black\" cx=\"90\" cy=\"-71.96\" rx=\"1\" ry=\"1\"/>\n<text text-anchor=\"middle\" x=\"72.5\" y=\"-68\" font-family=\"Times,serif\" font-size=\"10.00\">10</text>\n</g>\n<!-- a_G6 -->\n<g id=\"node4\" class=\"node\">\n<title>a_G6</title>\n<text text-anchor=\"middle\" x=\"198\" y=\"-122.3\" font-family=\"Times,serif\" font-size=\"14.00\">a</text>\n</g>\n<!-- SquareRealNumber&#45;&gt;a_G6 -->\n<g id=\"edge3\" class=\"edge\">\n<title>SquareRealNumber:e-&gt;a_G6:w</title>\n<path fill=\"none\" stroke=\"black\" d=\"M134,-94C154.89,-94 149.72,-123.55 168.58,-125.86\"/>\n<ellipse fill=\"black\" stroke=\"black\" cx=\"170\" cy=\"-125.94\" rx=\"1\" ry=\"1\"/>\n<text text-anchor=\"middle\" x=\"152.5\" y=\"-113\" font-family=\"Times,serif\" font-size=\"10.00\">10</text>\n</g>\n<!-- b_G5 -->\n<g id=\"node5\" class=\"node\">\n<title>b_G5</title>\n<text text-anchor=\"middle\" x=\"198\" y=\"-68.3\" font-family=\"Times,serif\" font-size=\"14.00\">b</text>\n</g>\n<!-- SquareRealNumber&#45;&gt;b_G5 -->\n<g id=\"edge4\" class=\"edge\">\n<title>SquareRealNumber:e-&gt;b_G5:w</title>\n<path fill=\"none\" stroke=\"black\" d=\"M134,-72C149.67,-72 154.14,-72 168.77,-72\"/>\n<ellipse fill=\"black\" stroke=\"black\" cx=\"170\" cy=\"-72\" rx=\"1\" ry=\"1\"/>\n<text text-anchor=\"middle\" x=\"152.5\" y=\"-75\" font-family=\"Times,serif\" font-size=\"10.00\">10</text>\n</g>\n<!-- result_G3 -->\n<g id=\"node6\" class=\"node\">\n<title>result_G3</title>\n<text text-anchor=\"middle\" x=\"198\" y=\"-14.3\" font-family=\"Times,serif\" font-size=\"14.00\">result</text>\n</g>\n<!-- SquareRealNumber&#45;&gt;result_G3 -->\n<g id=\"edge5\" class=\"edge\">\n<title>SquareRealNumber:e-&gt;result_G3:w</title>\n<path fill=\"none\" stroke=\"black\" d=\"M134,-51C155.17,-51 149.47,-20.53 168.55,-18.15\"/>\n<ellipse fill=\"black\" stroke=\"black\" cx=\"170\" cy=\"-18.06\" rx=\"1\" ry=\"1\"/>\n<text text-anchor=\"middle\" x=\"152.5\" y=\"-39\" font-family=\"Times,serif\" font-size=\"10.00\">10</text>\n</g>\n</g>\n</svg>",
          "text/plain": "<IPython.core.display.SVG object>"
         },
         "metadata": {},
         "output_type": "display_data"
        }
       ],
       "tabbable": null,
       "tooltip": null
      }
     },
     "36915d9dee4d4b23a9884206ee6f26c4": {
      "model_module": "@jupyter-widgets/controls",
      "model_module_version": "2.0.0",
      "model_name": "HBoxModel",
      "state": {
       "_dom_classes": [],
       "_model_module": "@jupyter-widgets/controls",
       "_model_module_version": "2.0.0",
       "_model_name": "HBoxModel",
       "_view_count": null,
       "_view_module": "@jupyter-widgets/controls",
       "_view_module_version": "2.0.0",
       "_view_name": "HBoxView",
       "box_style": "",
       "children": [
        "IPY_MODEL_cfe4d86f9ca54bbb8cdd6b8185ee9360"
       ],
       "layout": "IPY_MODEL_1f3c8b8b9378422cb6432c6503a8b906",
       "tabbable": null,
       "tooltip": null
      }
     },
     "3f6d6b37409940b89299fd9b373dc50e": {
      "model_module": "@jupyter-widgets/base",
      "model_module_version": "2.0.0",
      "model_name": "LayoutModel",
      "state": {
       "_model_module": "@jupyter-widgets/base",
       "_model_module_version": "2.0.0",
       "_model_name": "LayoutModel",
       "_view_count": null,
       "_view_module": "@jupyter-widgets/base",
       "_view_module_version": "2.0.0",
       "_view_name": "LayoutView",
       "align_content": null,
       "align_items": null,
       "align_self": null,
       "border_bottom": null,
       "border_left": null,
       "border_right": null,
       "border_top": null,
       "bottom": null,
       "display": null,
       "flex": null,
       "flex_flow": null,
       "grid_area": null,
       "grid_auto_columns": null,
       "grid_auto_flow": null,
       "grid_auto_rows": null,
       "grid_column": null,
       "grid_gap": null,
       "grid_row": null,
       "grid_template_areas": null,
       "grid_template_columns": null,
       "grid_template_rows": null,
       "height": null,
       "justify_content": null,
       "justify_items": null,
       "left": null,
       "margin": null,
       "max_height": null,
       "max_width": null,
       "min_height": null,
       "min_width": null,
       "object_fit": null,
       "object_position": null,
       "order": null,
       "overflow": null,
       "padding": null,
       "right": null,
       "top": null,
       "visibility": null,
       "width": null
      }
     },
     "439de0c0a30a49d0b7ef16e863ef3698": {
      "model_module": "@jupyter-widgets/output",
      "model_module_version": "1.0.0",
      "model_name": "OutputModel",
      "state": {
       "_dom_classes": [],
       "_model_module": "@jupyter-widgets/output",
       "_model_module_version": "1.0.0",
       "_model_name": "OutputModel",
       "_view_count": null,
       "_view_module": "@jupyter-widgets/output",
       "_view_module_version": "1.0.0",
       "_view_name": "OutputView",
       "layout": "IPY_MODEL_fefee38f1e1e4d269fc3a881f9aab48b",
       "msg_id": "",
       "outputs": [
        {
         "data": {
          "text/markdown": "`square`",
          "text/plain": "<IPython.core.display.Markdown object>"
         },
         "metadata": {},
         "output_type": "display_data"
        },
        {
         "data": {
          "image/svg+xml": "<svg xmlns=\"http://www.w3.org/2000/svg\" xmlns:xlink=\"http://www.w3.org/1999/xlink\" width=\"233pt\" height=\"98pt\" viewBox=\"0.00 0.00 233.00 98.00\">\n<g id=\"graph0\" class=\"graph\" transform=\"scale(1 1) rotate(0) translate(4 94)\">\n<title>my_graph</title>\n<polygon fill=\"white\" stroke=\"transparent\" points=\"-4,4 -4,-94 229,-94 229,4 -4,4\"/>\n<!-- a_G1 -->\n<g id=\"node1\" class=\"node\">\n<title>a_G1</title>\n<text text-anchor=\"middle\" x=\"27\" y=\"-52.3\" font-family=\"Times,serif\" font-size=\"14.00\">a</text>\n</g>\n<!-- Square -->\n<g id=\"node2\" class=\"node\">\n<title>Square</title>\n<polygon fill=\"none\" stroke=\"black\" points=\"91.5,-66 91.5,-83 134.5,-83 134.5,-66 91.5,-66\"/>\n<text text-anchor=\"start\" x=\"105.5\" y=\"-72\" font-family=\"Times,serif\" font-size=\"10.00\">a^2</text>\n<polygon fill=\"none\" stroke=\"black\" points=\"91.5,-45 91.5,-66 134.5,-66 134.5,-45 91.5,-45\"/>\n<text text-anchor=\"start\" x=\"109.5\" y=\"-51.8\" font-family=\"Times,serif\" font-size=\"14.00\">a</text>\n<polygon fill=\"none\" stroke=\"black\" points=\"91.5,-24 91.5,-45 97.5,-45 97.5,-24 91.5,-24\"/>\n<polygon fill=\"none\" stroke=\"black\" points=\"97.5,-24 97.5,-45 134.5,-45 134.5,-24 97.5,-24\"/>\n<text text-anchor=\"start\" x=\"100.5\" y=\"-30.8\" font-family=\"Times,serif\" font-size=\"14.00\">result</text>\n</g>\n<!-- a_G1&#45;&gt;Square -->\n<g id=\"edge1\" class=\"edge\">\n<title>a_G1:e-&gt;Square:w</title>\n<path fill=\"none\" stroke=\"black\" d=\"M54,-56C69.67,-56 74.14,-56 88.77,-56\"/>\n<ellipse fill=\"black\" stroke=\"black\" cx=\"90\" cy=\"-56\" rx=\"1\" ry=\"1\"/>\n<text text-anchor=\"middle\" x=\"72.5\" y=\"-59\" font-family=\"Times,serif\" font-size=\"10.00\">8</text>\n</g>\n<!-- a_G0 -->\n<g id=\"node3\" class=\"node\">\n<title>a_G0</title>\n<text text-anchor=\"middle\" x=\"198\" y=\"-68.3\" font-family=\"Times,serif\" font-size=\"14.00\">a</text>\n</g>\n<!-- Square&#45;&gt;a_G0 -->\n<g id=\"edge2\" class=\"edge\">\n<title>Square:e-&gt;a_G0:w</title>\n<path fill=\"none\" stroke=\"black\" d=\"M134,-56C151.22,-56 152.97,-70.77 168.98,-71.93\"/>\n<ellipse fill=\"black\" stroke=\"black\" cx=\"170\" cy=\"-71.96\" rx=\"1\" ry=\"1\"/>\n<text text-anchor=\"middle\" x=\"152.5\" y=\"-67\" font-family=\"Times,serif\" font-size=\"10.00\">8</text>\n</g>\n<!-- result_G2 -->\n<g id=\"node4\" class=\"node\">\n<title>result_G2</title>\n<text text-anchor=\"middle\" x=\"198\" y=\"-14.3\" font-family=\"Times,serif\" font-size=\"14.00\">result</text>\n</g>\n<!-- Square&#45;&gt;result_G2 -->\n<g id=\"edge3\" class=\"edge\">\n<title>Square:e-&gt;result_G2:w</title>\n<path fill=\"none\" stroke=\"black\" d=\"M134,-34C151.22,-34 152.97,-19.23 168.98,-18.07\"/>\n<ellipse fill=\"black\" stroke=\"black\" cx=\"170\" cy=\"-18.04\" rx=\"1\" ry=\"1\"/>\n<text text-anchor=\"middle\" x=\"152.5\" y=\"-29\" font-family=\"Times,serif\" font-size=\"10.00\">16</text>\n</g>\n</g>\n</svg>",
          "text/plain": "<IPython.core.display.SVG object>"
         },
         "metadata": {},
         "output_type": "display_data"
        }
       ],
       "tabbable": null,
       "tooltip": null
      }
     },
     "4ec5a3a395654cdb99456885eea51358": {
      "model_module": "@jupyter-widgets/output",
      "model_module_version": "1.0.0",
      "model_name": "OutputModel",
      "state": {
       "_dom_classes": [],
       "_model_module": "@jupyter-widgets/output",
       "_model_module_version": "1.0.0",
       "_model_name": "OutputModel",
       "_view_count": null,
       "_view_module": "@jupyter-widgets/output",
       "_view_module_version": "1.0.0",
       "_view_name": "OutputView",
       "layout": "IPY_MODEL_bb62940d4cdf468aa43f8a809950b685",
       "msg_id": "",
       "outputs": [
        {
         "data": {
          "text/markdown": "`product`",
          "text/plain": "<IPython.core.display.Markdown object>"
         },
         "metadata": {},
         "output_type": "display_data"
        },
        {
         "data": {
          "image/svg+xml": "<svg xmlns=\"http://www.w3.org/2000/svg\" xmlns:xlink=\"http://www.w3.org/1999/xlink\" width=\"233pt\" height=\"152pt\" viewBox=\"0.00 0.00 233.00 152.00\">\n<g id=\"graph0\" class=\"graph\" transform=\"scale(1 1) rotate(0) translate(4 148)\">\n<title>my_graph</title>\n<polygon fill=\"white\" stroke=\"transparent\" points=\"-4,4 -4,-148 229,-148 229,4 -4,4\"/>\n<!-- a_G6 -->\n<g id=\"node1\" class=\"node\">\n<title>a_G6</title>\n<text text-anchor=\"middle\" x=\"27\" y=\"-106.3\" font-family=\"Times,serif\" font-size=\"14.00\">a</text>\n</g>\n<!-- Product -->\n<g id=\"node3\" class=\"node\">\n<title>Product</title>\n<polygon fill=\"none\" stroke=\"black\" points=\"91.5,-104 91.5,-121 134.5,-121 134.5,-104 91.5,-104\"/>\n<text text-anchor=\"start\" x=\"105\" y=\"-110\" font-family=\"Times,serif\" font-size=\"10.00\">a*b</text>\n<polygon fill=\"none\" stroke=\"black\" points=\"91.5,-83 91.5,-104 134.5,-104 134.5,-83 91.5,-83\"/>\n<text text-anchor=\"start\" x=\"109.5\" y=\"-89.8\" font-family=\"Times,serif\" font-size=\"14.00\">a</text>\n<polygon fill=\"none\" stroke=\"black\" points=\"91.5,-62 91.5,-83 134.5,-83 134.5,-62 91.5,-62\"/>\n<text text-anchor=\"start\" x=\"109.5\" y=\"-68.8\" font-family=\"Times,serif\" font-size=\"14.00\">b</text>\n<polygon fill=\"none\" stroke=\"black\" points=\"91.5,-41 91.5,-62 97.5,-62 97.5,-41 91.5,-41\"/>\n<polygon fill=\"none\" stroke=\"black\" points=\"97.5,-41 97.5,-62 134.5,-62 134.5,-41 97.5,-41\"/>\n<text text-anchor=\"start\" x=\"100.5\" y=\"-47.8\" font-family=\"Times,serif\" font-size=\"14.00\">result</text>\n</g>\n<!-- a_G6&#45;&gt;Product -->\n<g id=\"edge1\" class=\"edge\">\n<title>a_G6:e-&gt;Product:w</title>\n<path fill=\"none\" stroke=\"black\" d=\"M54,-110C71.22,-110 72.97,-95.23 88.98,-94.07\"/>\n<ellipse fill=\"black\" stroke=\"black\" cx=\"90\" cy=\"-94.04\" rx=\"1\" ry=\"1\"/>\n<text text-anchor=\"middle\" x=\"72.5\" y=\"-105\" font-family=\"Times,serif\" font-size=\"10.00\">4</text>\n</g>\n<!-- b_G5 -->\n<g id=\"node2\" class=\"node\">\n<title>b_G5</title>\n<text text-anchor=\"middle\" x=\"27\" y=\"-52.3\" font-family=\"Times,serif\" font-size=\"14.00\">b</text>\n</g>\n<!-- b_G5&#45;&gt;Product -->\n<g id=\"edge2\" class=\"edge\">\n<title>b_G5:e-&gt;Product:w</title>\n<path fill=\"none\" stroke=\"black\" d=\"M54,-56C71.22,-56 72.97,-70.77 88.98,-71.93\"/>\n<ellipse fill=\"black\" stroke=\"black\" cx=\"90\" cy=\"-71.96\" rx=\"1\" ry=\"1\"/>\n<text text-anchor=\"middle\" x=\"72.5\" y=\"-68\" font-family=\"Times,serif\" font-size=\"10.00\">6</text>\n</g>\n<!-- a_G3 -->\n<g id=\"node4\" class=\"node\">\n<title>a_G3</title>\n<text text-anchor=\"middle\" x=\"198\" y=\"-122.3\" font-family=\"Times,serif\" font-size=\"14.00\">a</text>\n</g>\n<!-- Product&#45;&gt;a_G3 -->\n<g id=\"edge3\" class=\"edge\">\n<title>Product:e-&gt;a_G3:w</title>\n<path fill=\"none\" stroke=\"black\" d=\"M134,-94C154.89,-94 149.72,-123.55 168.58,-125.86\"/>\n<ellipse fill=\"black\" stroke=\"black\" cx=\"170\" cy=\"-125.94\" rx=\"1\" ry=\"1\"/>\n<text text-anchor=\"middle\" x=\"152.5\" y=\"-113\" font-family=\"Times,serif\" font-size=\"10.00\">4</text>\n</g>\n<!-- b_G0 -->\n<g id=\"node5\" class=\"node\">\n<title>b_G0</title>\n<text text-anchor=\"middle\" x=\"198\" y=\"-68.3\" font-family=\"Times,serif\" font-size=\"14.00\">b</text>\n</g>\n<!-- Product&#45;&gt;b_G0 -->\n<g id=\"edge4\" class=\"edge\">\n<title>Product:e-&gt;b_G0:w</title>\n<path fill=\"none\" stroke=\"black\" d=\"M134,-72C149.67,-72 154.14,-72 168.77,-72\"/>\n<ellipse fill=\"black\" stroke=\"black\" cx=\"170\" cy=\"-72\" rx=\"1\" ry=\"1\"/>\n<text text-anchor=\"middle\" x=\"152.5\" y=\"-75\" font-family=\"Times,serif\" font-size=\"10.00\">6</text>\n</g>\n<!-- result_G4 -->\n<g id=\"node6\" class=\"node\">\n<title>result_G4</title>\n<text text-anchor=\"middle\" x=\"198\" y=\"-14.3\" font-family=\"Times,serif\" font-size=\"14.00\">result</text>\n</g>\n<!-- Product&#45;&gt;result_G4 -->\n<g id=\"edge5\" class=\"edge\">\n<title>Product:e-&gt;result_G4:w</title>\n<path fill=\"none\" stroke=\"black\" d=\"M134,-51C155.17,-51 149.47,-20.53 168.55,-18.15\"/>\n<ellipse fill=\"black\" stroke=\"black\" cx=\"170\" cy=\"-18.06\" rx=\"1\" ry=\"1\"/>\n<text text-anchor=\"middle\" x=\"152.5\" y=\"-39\" font-family=\"Times,serif\" font-size=\"10.00\">12</text>\n</g>\n</g>\n</svg>",
          "text/plain": "<IPython.core.display.SVG object>"
         },
         "metadata": {},
         "output_type": "display_data"
        }
       ],
       "tabbable": null,
       "tooltip": null
      }
     },
     "50e787e2a5bd44fbbbd2d686399e20dd": {
      "model_module": "@jupyter-widgets/controls",
      "model_module_version": "2.0.0",
      "model_name": "HBoxModel",
      "state": {
       "_dom_classes": [],
       "_model_module": "@jupyter-widgets/controls",
       "_model_module_version": "2.0.0",
       "_model_name": "HBoxModel",
       "_view_count": null,
       "_view_module": "@jupyter-widgets/controls",
       "_view_module_version": "2.0.0",
       "_view_name": "HBoxView",
       "box_style": "",
       "children": [
        "IPY_MODEL_bedb260ca8054a0e89f06a3c7f5d7066"
       ],
       "layout": "IPY_MODEL_7ee9cc8df1cb4b98a41ed2d05f67df84",
       "tabbable": null,
       "tooltip": null
      }
     },
     "5e20c28bac5f43de8525a8616ce85e24": {
      "model_module": "@jupyter-widgets/base",
      "model_module_version": "2.0.0",
      "model_name": "LayoutModel",
      "state": {
       "_model_module": "@jupyter-widgets/base",
       "_model_module_version": "2.0.0",
       "_model_name": "LayoutModel",
       "_view_count": null,
       "_view_module": "@jupyter-widgets/base",
       "_view_module_version": "2.0.0",
       "_view_name": "LayoutView",
       "align_content": null,
       "align_items": null,
       "align_self": null,
       "border_bottom": null,
       "border_left": null,
       "border_right": null,
       "border_top": null,
       "bottom": null,
       "display": null,
       "flex": null,
       "flex_flow": null,
       "grid_area": null,
       "grid_auto_columns": null,
       "grid_auto_flow": null,
       "grid_auto_rows": null,
       "grid_column": null,
       "grid_gap": null,
       "grid_row": null,
       "grid_template_areas": null,
       "grid_template_columns": null,
       "grid_template_rows": null,
       "height": null,
       "justify_content": null,
       "justify_items": null,
       "left": null,
       "margin": null,
       "max_height": null,
       "max_width": null,
       "min_height": null,
       "min_width": null,
       "object_fit": null,
       "object_position": null,
       "order": null,
       "overflow": null,
       "padding": null,
       "right": null,
       "top": null,
       "visibility": null,
       "width": null
      }
     },
     "66b535d74f9b45ee89c8edea12231fbb": {
      "model_module": "@jupyter-widgets/base",
      "model_module_version": "2.0.0",
      "model_name": "LayoutModel",
      "state": {
       "_model_module": "@jupyter-widgets/base",
       "_model_module_version": "2.0.0",
       "_model_name": "LayoutModel",
       "_view_count": null,
       "_view_module": "@jupyter-widgets/base",
       "_view_module_version": "2.0.0",
       "_view_name": "LayoutView",
       "align_content": null,
       "align_items": null,
       "align_self": null,
       "border_bottom": null,
       "border_left": null,
       "border_right": null,
       "border_top": null,
       "bottom": null,
       "display": null,
       "flex": null,
       "flex_flow": null,
       "grid_area": null,
       "grid_auto_columns": null,
       "grid_auto_flow": null,
       "grid_auto_rows": null,
       "grid_column": null,
       "grid_gap": null,
       "grid_row": null,
       "grid_template_areas": null,
       "grid_template_columns": null,
       "grid_template_rows": null,
       "height": null,
       "justify_content": null,
       "justify_items": null,
       "left": null,
       "margin": null,
       "max_height": null,
       "max_width": null,
       "min_height": null,
       "min_width": null,
       "object_fit": null,
       "object_position": null,
       "order": null,
       "overflow": null,
       "padding": null,
       "right": null,
       "top": null,
       "visibility": null,
       "width": null
      }
     },
     "6d3a142dc67340449d45c0ead2c92059": {
      "model_module": "@jupyter-widgets/output",
      "model_module_version": "1.0.0",
      "model_name": "OutputModel",
      "state": {
       "_dom_classes": [],
       "_model_module": "@jupyter-widgets/output",
       "_model_module_version": "1.0.0",
       "_model_name": "OutputModel",
       "_view_count": null,
       "_view_module": "@jupyter-widgets/output",
       "_view_module_version": "1.0.0",
       "_view_name": "OutputView",
       "layout": "IPY_MODEL_251ed10db02d4ad488db5974fd94471f",
       "msg_id": "",
       "outputs": [
        {
         "data": {
          "text/markdown": "`plus_equal_product`",
          "text/plain": "<IPython.core.display.Markdown object>"
         },
         "metadata": {},
         "output_type": "display_data"
        },
        {
         "data": {
          "image/svg+xml": "<svg xmlns=\"http://www.w3.org/2000/svg\" xmlns:xlink=\"http://www.w3.org/1999/xlink\" width=\"251pt\" height=\"152pt\" viewBox=\"0.00 0.00 251.00 152.00\">\n<g id=\"graph0\" class=\"graph\" transform=\"scale(1 1) rotate(0) translate(4 148)\">\n<title>my_graph</title>\n<polygon fill=\"white\" stroke=\"transparent\" points=\"-4,4 -4,-148 247,-148 247,4 -4,4\"/>\n<!-- a_G8 -->\n<g id=\"node1\" class=\"node\">\n<title>a_G8</title>\n<text text-anchor=\"middle\" x=\"27\" y=\"-122.3\" font-family=\"Times,serif\" font-size=\"14.00\">a</text>\n</g>\n<!-- PlusEqualProduct -->\n<g id=\"node4\" class=\"node\">\n<title>PlusEqualProduct</title>\n<polygon fill=\"none\" stroke=\"black\" points=\"91.5,-104 91.5,-121 152.5,-121 152.5,-104 91.5,-104\"/>\n<text text-anchor=\"start\" x=\"94.5\" y=\"-110\" font-family=\"Times,serif\" font-size=\"10.00\">result += a*b</text>\n<polygon fill=\"none\" stroke=\"black\" points=\"91.5,-83 91.5,-104 152.5,-104 152.5,-83 91.5,-83\"/>\n<text text-anchor=\"start\" x=\"118.5\" y=\"-89.8\" font-family=\"Times,serif\" font-size=\"14.00\">a</text>\n<polygon fill=\"none\" stroke=\"black\" points=\"91.5,-62 91.5,-83 152.5,-83 152.5,-62 91.5,-62\"/>\n<text text-anchor=\"start\" x=\"118.5\" y=\"-68.8\" font-family=\"Times,serif\" font-size=\"14.00\">b</text>\n<polygon fill=\"none\" stroke=\"black\" points=\"91.5,-41 91.5,-62 152.5,-62 152.5,-41 91.5,-41\"/>\n<text text-anchor=\"start\" x=\"106.5\" y=\"-47.8\" font-family=\"Times,serif\" font-size=\"14.00\">result</text>\n</g>\n<!-- a_G8&#45;&gt;PlusEqualProduct -->\n<g id=\"edge1\" class=\"edge\">\n<title>a_G8:e-&gt;PlusEqualProduct:w</title>\n<path fill=\"none\" stroke=\"black\" d=\"M54,-126C74.89,-126 69.72,-96.45 88.58,-94.14\"/>\n<ellipse fill=\"black\" stroke=\"black\" cx=\"90\" cy=\"-94.06\" rx=\"1\" ry=\"1\"/>\n<text text-anchor=\"middle\" x=\"72.5\" y=\"-113\" font-family=\"Times,serif\" font-size=\"10.00\">2</text>\n</g>\n<!-- b_G4 -->\n<g id=\"node2\" class=\"node\">\n<title>b_G4</title>\n<text text-anchor=\"middle\" x=\"27\" y=\"-68.3\" font-family=\"Times,serif\" font-size=\"14.00\">b</text>\n</g>\n<!-- b_G4&#45;&gt;PlusEqualProduct -->\n<g id=\"edge2\" class=\"edge\">\n<title>b_G4:e-&gt;PlusEqualProduct:w</title>\n<path fill=\"none\" stroke=\"black\" d=\"M54,-72C69.67,-72 74.14,-72 88.77,-72\"/>\n<ellipse fill=\"black\" stroke=\"black\" cx=\"90\" cy=\"-72\" rx=\"1\" ry=\"1\"/>\n<text text-anchor=\"middle\" x=\"72.5\" y=\"-75\" font-family=\"Times,serif\" font-size=\"10.00\">2</text>\n</g>\n<!-- result_G5 -->\n<g id=\"node3\" class=\"node\">\n<title>result_G5</title>\n<text text-anchor=\"middle\" x=\"27\" y=\"-14.3\" font-family=\"Times,serif\" font-size=\"14.00\">result</text>\n</g>\n<!-- result_G5&#45;&gt;PlusEqualProduct -->\n<g id=\"edge3\" class=\"edge\">\n<title>result_G5:e-&gt;PlusEqualProduct:w</title>\n<path fill=\"none\" stroke=\"black\" d=\"M54,-18C75.17,-18 69.47,-48.47 88.55,-50.85\"/>\n<ellipse fill=\"black\" stroke=\"black\" cx=\"90\" cy=\"-50.94\" rx=\"1\" ry=\"1\"/>\n<text text-anchor=\"middle\" x=\"72.5\" y=\"-39\" font-family=\"Times,serif\" font-size=\"10.00\">4</text>\n</g>\n<!-- a_G1 -->\n<g id=\"node5\" class=\"node\">\n<title>a_G1</title>\n<text text-anchor=\"middle\" x=\"216\" y=\"-122.3\" font-family=\"Times,serif\" font-size=\"14.00\">a</text>\n</g>\n<!-- PlusEqualProduct&#45;&gt;a_G1 -->\n<g id=\"edge4\" class=\"edge\">\n<title>PlusEqualProduct:e-&gt;a_G1:w</title>\n<path fill=\"none\" stroke=\"black\" d=\"M152,-94C172.89,-94 167.72,-123.55 186.58,-125.86\"/>\n<ellipse fill=\"black\" stroke=\"black\" cx=\"188\" cy=\"-125.94\" rx=\"1\" ry=\"1\"/>\n<text text-anchor=\"middle\" x=\"170.5\" y=\"-113\" font-family=\"Times,serif\" font-size=\"10.00\">2</text>\n</g>\n<!-- b_G6 -->\n<g id=\"node6\" class=\"node\">\n<title>b_G6</title>\n<text text-anchor=\"middle\" x=\"216\" y=\"-68.3\" font-family=\"Times,serif\" font-size=\"14.00\">b</text>\n</g>\n<!-- PlusEqualProduct&#45;&gt;b_G6 -->\n<g id=\"edge5\" class=\"edge\">\n<title>PlusEqualProduct:e-&gt;b_G6:w</title>\n<path fill=\"none\" stroke=\"black\" d=\"M152,-72C167.67,-72 172.14,-72 186.77,-72\"/>\n<ellipse fill=\"black\" stroke=\"black\" cx=\"188\" cy=\"-72\" rx=\"1\" ry=\"1\"/>\n<text text-anchor=\"middle\" x=\"170.5\" y=\"-75\" font-family=\"Times,serif\" font-size=\"10.00\">2</text>\n</g>\n<!-- result_G7 -->\n<g id=\"node7\" class=\"node\">\n<title>result_G7</title>\n<text text-anchor=\"middle\" x=\"216\" y=\"-14.3\" font-family=\"Times,serif\" font-size=\"14.00\">result</text>\n</g>\n<!-- PlusEqualProduct&#45;&gt;result_G7 -->\n<g id=\"edge6\" class=\"edge\">\n<title>PlusEqualProduct:e-&gt;result_G7:w</title>\n<path fill=\"none\" stroke=\"black\" d=\"M152,-51C173.17,-51 167.47,-20.53 186.55,-18.15\"/>\n<ellipse fill=\"black\" stroke=\"black\" cx=\"188\" cy=\"-18.06\" rx=\"1\" ry=\"1\"/>\n<text text-anchor=\"middle\" x=\"170.5\" y=\"-39\" font-family=\"Times,serif\" font-size=\"10.00\">4</text>\n</g>\n</g>\n</svg>",
          "text/plain": "<IPython.core.display.SVG object>"
         },
         "metadata": {},
         "output_type": "display_data"
        }
       ],
       "tabbable": null,
       "tooltip": null
      }
     },
     "7061fe2a3b63417d8fc22223418b488d": {
      "model_module": "@jupyter-widgets/base",
      "model_module_version": "2.0.0",
      "model_name": "LayoutModel",
      "state": {
       "_model_module": "@jupyter-widgets/base",
       "_model_module_version": "2.0.0",
       "_model_name": "LayoutModel",
       "_view_count": null,
       "_view_module": "@jupyter-widgets/base",
       "_view_module_version": "2.0.0",
       "_view_name": "LayoutView",
       "align_content": null,
       "align_items": null,
       "align_self": null,
       "border_bottom": null,
       "border_left": null,
       "border_right": null,
       "border_top": null,
       "bottom": null,
       "display": null,
       "flex": null,
       "flex_flow": null,
       "grid_area": null,
       "grid_auto_columns": null,
       "grid_auto_flow": null,
       "grid_auto_rows": null,
       "grid_column": null,
       "grid_gap": null,
       "grid_row": null,
       "grid_template_areas": null,
       "grid_template_columns": null,
       "grid_template_rows": null,
       "height": null,
       "justify_content": null,
       "justify_items": null,
       "left": null,
       "margin": null,
       "max_height": null,
       "max_width": null,
       "min_height": null,
       "min_width": null,
       "object_fit": null,
       "object_position": null,
       "order": null,
       "overflow": null,
       "padding": null,
       "right": null,
       "top": null,
       "visibility": null,
       "width": null
      }
     },
     "7ee9cc8df1cb4b98a41ed2d05f67df84": {
      "model_module": "@jupyter-widgets/base",
      "model_module_version": "2.0.0",
      "model_name": "LayoutModel",
      "state": {
       "_model_module": "@jupyter-widgets/base",
       "_model_module_version": "2.0.0",
       "_model_name": "LayoutModel",
       "_view_count": null,
       "_view_module": "@jupyter-widgets/base",
       "_view_module_version": "2.0.0",
       "_view_name": "LayoutView",
       "align_content": null,
       "align_items": null,
       "align_self": null,
       "border_bottom": null,
       "border_left": null,
       "border_right": null,
       "border_top": null,
       "bottom": null,
       "display": null,
       "flex": null,
       "flex_flow": null,
       "grid_area": null,
       "grid_auto_columns": null,
       "grid_auto_flow": null,
       "grid_auto_rows": null,
       "grid_column": null,
       "grid_gap": null,
       "grid_row": null,
       "grid_template_areas": null,
       "grid_template_columns": null,
       "grid_template_rows": null,
       "height": null,
       "justify_content": null,
       "justify_items": null,
       "left": null,
       "margin": null,
       "max_height": null,
       "max_width": null,
       "min_height": null,
       "min_width": null,
       "object_fit": null,
       "object_position": null,
       "order": null,
       "overflow": null,
       "padding": null,
       "right": null,
       "top": null,
       "visibility": null,
       "width": null
      }
     },
     "82d6cd2e114d413a97fb8407251e89c7": {
      "model_module": "@jupyter-widgets/base",
      "model_module_version": "2.0.0",
      "model_name": "LayoutModel",
      "state": {
       "_model_module": "@jupyter-widgets/base",
       "_model_module_version": "2.0.0",
       "_model_name": "LayoutModel",
       "_view_count": null,
       "_view_module": "@jupyter-widgets/base",
       "_view_module_version": "2.0.0",
       "_view_name": "LayoutView",
       "align_content": null,
       "align_items": null,
       "align_self": null,
       "border_bottom": null,
       "border_left": null,
       "border_right": null,
       "border_top": null,
       "bottom": null,
       "display": null,
       "flex": null,
       "flex_flow": null,
       "grid_area": null,
       "grid_auto_columns": null,
       "grid_auto_flow": null,
       "grid_auto_rows": null,
       "grid_column": null,
       "grid_gap": null,
       "grid_row": null,
       "grid_template_areas": null,
       "grid_template_columns": null,
       "grid_template_rows": null,
       "height": null,
       "justify_content": null,
       "justify_items": null,
       "left": null,
       "margin": null,
       "max_height": null,
       "max_width": null,
       "min_height": null,
       "min_width": null,
       "object_fit": null,
       "object_position": null,
       "order": null,
       "overflow": null,
       "padding": null,
       "right": null,
       "top": null,
       "visibility": null,
       "width": null
      }
     },
     "a9fa44564ba24524b084d22883113c56": {
      "model_module": "@jupyter-widgets/controls",
      "model_module_version": "2.0.0",
      "model_name": "HBoxModel",
      "state": {
       "_dom_classes": [],
       "_model_module": "@jupyter-widgets/controls",
       "_model_module_version": "2.0.0",
       "_model_name": "HBoxModel",
       "_view_count": null,
       "_view_module": "@jupyter-widgets/controls",
       "_view_module_version": "2.0.0",
       "_view_name": "HBoxView",
       "box_style": "",
       "children": [
        "IPY_MODEL_c56a7c73568140c887c9449e5063d447"
       ],
       "layout": "IPY_MODEL_7061fe2a3b63417d8fc22223418b488d",
       "tabbable": null,
       "tooltip": null
      }
     },
     "b71eaf6fed9242bb963999b671cdcb63": {
      "model_module": "@jupyter-widgets/base",
      "model_module_version": "2.0.0",
      "model_name": "LayoutModel",
      "state": {
       "_model_module": "@jupyter-widgets/base",
       "_model_module_version": "2.0.0",
       "_model_name": "LayoutModel",
       "_view_count": null,
       "_view_module": "@jupyter-widgets/base",
       "_view_module_version": "2.0.0",
       "_view_name": "LayoutView",
       "align_content": null,
       "align_items": null,
       "align_self": null,
       "border_bottom": null,
       "border_left": null,
       "border_right": null,
       "border_top": null,
       "bottom": null,
       "display": null,
       "flex": null,
       "flex_flow": null,
       "grid_area": null,
       "grid_auto_columns": null,
       "grid_auto_flow": null,
       "grid_auto_rows": null,
       "grid_column": null,
       "grid_gap": null,
       "grid_row": null,
       "grid_template_areas": null,
       "grid_template_columns": null,
       "grid_template_rows": null,
       "height": null,
       "justify_content": null,
       "justify_items": null,
       "left": null,
       "margin": null,
       "max_height": null,
       "max_width": null,
       "min_height": null,
       "min_width": null,
       "object_fit": null,
       "object_position": null,
       "order": null,
       "overflow": null,
       "padding": null,
       "right": null,
       "top": null,
       "visibility": null,
       "width": null
      }
     },
     "bb62940d4cdf468aa43f8a809950b685": {
      "model_module": "@jupyter-widgets/base",
      "model_module_version": "2.0.0",
      "model_name": "LayoutModel",
      "state": {
       "_model_module": "@jupyter-widgets/base",
       "_model_module_version": "2.0.0",
       "_model_name": "LayoutModel",
       "_view_count": null,
       "_view_module": "@jupyter-widgets/base",
       "_view_module_version": "2.0.0",
       "_view_name": "LayoutView",
       "align_content": null,
       "align_items": null,
       "align_self": null,
       "border_bottom": null,
       "border_left": null,
       "border_right": null,
       "border_top": null,
       "bottom": null,
       "display": null,
       "flex": null,
       "flex_flow": null,
       "grid_area": null,
       "grid_auto_columns": null,
       "grid_auto_flow": null,
       "grid_auto_rows": null,
       "grid_column": null,
       "grid_gap": null,
       "grid_row": null,
       "grid_template_areas": null,
       "grid_template_columns": null,
       "grid_template_rows": null,
       "height": null,
       "justify_content": null,
       "justify_items": null,
       "left": null,
       "margin": null,
       "max_height": null,
       "max_width": null,
       "min_height": null,
       "min_width": null,
       "object_fit": null,
       "object_position": null,
       "order": null,
       "overflow": null,
       "padding": null,
       "right": null,
       "top": null,
       "visibility": null,
       "width": null
      }
     },
     "bedb260ca8054a0e89f06a3c7f5d7066": {
      "model_module": "@jupyter-widgets/output",
      "model_module_version": "1.0.0",
      "model_name": "OutputModel",
      "state": {
       "_dom_classes": [],
       "_model_module": "@jupyter-widgets/output",
       "_model_module_version": "1.0.0",
       "_model_name": "OutputModel",
       "_view_count": null,
       "_view_module": "@jupyter-widgets/output",
       "_view_module_version": "1.0.0",
       "_view_name": "OutputView",
       "layout": "IPY_MODEL_ddf90aa524c643f7ab6c63563052b543",
       "msg_id": "",
       "outputs": [
        {
         "data": {
          "text/markdown": "`multiply_two_reals`",
          "text/plain": "<IPython.core.display.Markdown object>"
         },
         "metadata": {},
         "output_type": "display_data"
        },
        {
         "data": {
          "image/svg+xml": "<svg xmlns=\"http://www.w3.org/2000/svg\" xmlns:xlink=\"http://www.w3.org/1999/xlink\" width=\"233pt\" height=\"152pt\" viewBox=\"0.00 0.00 233.00 152.00\">\n<g id=\"graph0\" class=\"graph\" transform=\"scale(1 1) rotate(0) translate(4 148)\">\n<title>my_graph</title>\n<polygon fill=\"white\" stroke=\"transparent\" points=\"-4,4 -4,-148 229,-148 229,4 -4,4\"/>\n<!-- a_G3 -->\n<g id=\"node1\" class=\"node\">\n<title>a_G3</title>\n<text text-anchor=\"middle\" x=\"27\" y=\"-106.3\" font-family=\"Times,serif\" font-size=\"14.00\">a</text>\n</g>\n<!-- MultiplyTwoReals -->\n<g id=\"node3\" class=\"node\">\n<title>MultiplyTwoReals</title>\n<polygon fill=\"none\" stroke=\"black\" points=\"91.5,-104 91.5,-121 134.5,-121 134.5,-104 91.5,-104\"/>\n<text text-anchor=\"start\" x=\"105\" y=\"-110\" font-family=\"Times,serif\" font-size=\"10.00\">a*b</text>\n<polygon fill=\"none\" stroke=\"black\" points=\"91.5,-83 91.5,-104 134.5,-104 134.5,-83 91.5,-83\"/>\n<text text-anchor=\"start\" x=\"109.5\" y=\"-89.8\" font-family=\"Times,serif\" font-size=\"14.00\">a</text>\n<polygon fill=\"none\" stroke=\"black\" points=\"91.5,-62 91.5,-83 134.5,-83 134.5,-62 91.5,-62\"/>\n<text text-anchor=\"start\" x=\"109.5\" y=\"-68.8\" font-family=\"Times,serif\" font-size=\"14.00\">b</text>\n<polygon fill=\"none\" stroke=\"black\" points=\"91.5,-41 91.5,-62 97.5,-62 97.5,-41 91.5,-41\"/>\n<polygon fill=\"none\" stroke=\"black\" points=\"97.5,-41 97.5,-62 134.5,-62 134.5,-41 97.5,-41\"/>\n<text text-anchor=\"start\" x=\"100.5\" y=\"-47.8\" font-family=\"Times,serif\" font-size=\"14.00\">result</text>\n</g>\n<!-- a_G3&#45;&gt;MultiplyTwoReals -->\n<g id=\"edge1\" class=\"edge\">\n<title>a_G3:e-&gt;MultiplyTwoReals:w</title>\n<path fill=\"none\" stroke=\"black\" d=\"M54,-110C71.22,-110 72.97,-95.23 88.98,-94.07\"/>\n<ellipse fill=\"black\" stroke=\"black\" cx=\"90\" cy=\"-94.04\" rx=\"1\" ry=\"1\"/>\n<text text-anchor=\"middle\" x=\"72.5\" y=\"-105\" font-family=\"Times,serif\" font-size=\"10.00\">10</text>\n</g>\n<!-- b_G1 -->\n<g id=\"node2\" class=\"node\">\n<title>b_G1</title>\n<text text-anchor=\"middle\" x=\"27\" y=\"-52.3\" font-family=\"Times,serif\" font-size=\"14.00\">b</text>\n</g>\n<!-- b_G1&#45;&gt;MultiplyTwoReals -->\n<g id=\"edge2\" class=\"edge\">\n<title>b_G1:e-&gt;MultiplyTwoReals:w</title>\n<path fill=\"none\" stroke=\"black\" d=\"M54,-56C71.22,-56 72.97,-70.77 88.98,-71.93\"/>\n<ellipse fill=\"black\" stroke=\"black\" cx=\"90\" cy=\"-71.96\" rx=\"1\" ry=\"1\"/>\n<text text-anchor=\"middle\" x=\"72.5\" y=\"-68\" font-family=\"Times,serif\" font-size=\"10.00\">10</text>\n</g>\n<!-- a_G7 -->\n<g id=\"node4\" class=\"node\">\n<title>a_G7</title>\n<text text-anchor=\"middle\" x=\"198\" y=\"-122.3\" font-family=\"Times,serif\" font-size=\"14.00\">a</text>\n</g>\n<!-- MultiplyTwoReals&#45;&gt;a_G7 -->\n<g id=\"edge3\" class=\"edge\">\n<title>MultiplyTwoReals:e-&gt;a_G7:w</title>\n<path fill=\"none\" stroke=\"black\" d=\"M134,-94C154.89,-94 149.72,-123.55 168.58,-125.86\"/>\n<ellipse fill=\"black\" stroke=\"black\" cx=\"170\" cy=\"-125.94\" rx=\"1\" ry=\"1\"/>\n<text text-anchor=\"middle\" x=\"152.5\" y=\"-113\" font-family=\"Times,serif\" font-size=\"10.00\">10</text>\n</g>\n<!-- b_G5 -->\n<g id=\"node5\" class=\"node\">\n<title>b_G5</title>\n<text text-anchor=\"middle\" x=\"198\" y=\"-68.3\" font-family=\"Times,serif\" font-size=\"14.00\">b</text>\n</g>\n<!-- MultiplyTwoReals&#45;&gt;b_G5 -->\n<g id=\"edge4\" class=\"edge\">\n<title>MultiplyTwoReals:e-&gt;b_G5:w</title>\n<path fill=\"none\" stroke=\"black\" d=\"M134,-72C149.67,-72 154.14,-72 168.77,-72\"/>\n<ellipse fill=\"black\" stroke=\"black\" cx=\"170\" cy=\"-72\" rx=\"1\" ry=\"1\"/>\n<text text-anchor=\"middle\" x=\"152.5\" y=\"-75\" font-family=\"Times,serif\" font-size=\"10.00\">10</text>\n</g>\n<!-- result_G2 -->\n<g id=\"node6\" class=\"node\">\n<title>result_G2</title>\n<text text-anchor=\"middle\" x=\"198\" y=\"-14.3\" font-family=\"Times,serif\" font-size=\"14.00\">result</text>\n</g>\n<!-- MultiplyTwoReals&#45;&gt;result_G2 -->\n<g id=\"edge5\" class=\"edge\">\n<title>MultiplyTwoReals:e-&gt;result_G2:w</title>\n<path fill=\"none\" stroke=\"black\" d=\"M134,-51C155.17,-51 149.47,-20.53 168.55,-18.15\"/>\n<ellipse fill=\"black\" stroke=\"black\" cx=\"170\" cy=\"-18.06\" rx=\"1\" ry=\"1\"/>\n<text text-anchor=\"middle\" x=\"152.5\" y=\"-39\" font-family=\"Times,serif\" font-size=\"10.00\">10</text>\n</g>\n</g>\n</svg>",
          "text/plain": "<IPython.core.display.SVG object>"
         },
         "metadata": {},
         "output_type": "display_data"
        }
       ],
       "tabbable": null,
       "tooltip": null
      }
     },
     "c56a7c73568140c887c9449e5063d447": {
      "model_module": "@jupyter-widgets/output",
      "model_module_version": "1.0.0",
      "model_name": "OutputModel",
      "state": {
       "_dom_classes": [],
       "_model_module": "@jupyter-widgets/output",
       "_model_module_version": "1.0.0",
       "_model_name": "OutputModel",
       "_view_count": null,
       "_view_module": "@jupyter-widgets/output",
       "_view_module_version": "1.0.0",
       "_view_name": "OutputView",
       "layout": "IPY_MODEL_5e20c28bac5f43de8525a8616ce85e24",
       "msg_id": "",
       "outputs": [
        {
         "data": {
          "text/markdown": "`scale_int_by_real`",
          "text/plain": "<IPython.core.display.Markdown object>"
         },
         "metadata": {},
         "output_type": "display_data"
        },
        {
         "data": {
          "image/svg+xml": "<svg xmlns=\"http://www.w3.org/2000/svg\" xmlns:xlink=\"http://www.w3.org/1999/xlink\" width=\"234pt\" height=\"152pt\" viewBox=\"0.00 0.00 234.00 152.00\">\n<g id=\"graph0\" class=\"graph\" transform=\"scale(1 1) rotate(0) translate(4 148)\">\n<title>my_graph</title>\n<polygon fill=\"white\" stroke=\"transparent\" points=\"-4,4 -4,-148 230,-148 230,4 -4,4\"/>\n<!-- real_in_G3 -->\n<g id=\"node1\" class=\"node\">\n<title>real_in_G3</title>\n<text text-anchor=\"middle\" x=\"27\" y=\"-106.3\" font-family=\"Times,serif\" font-size=\"14.00\">real_in</text>\n</g>\n<!-- ScaleIntByReal -->\n<g id=\"node3\" class=\"node\">\n<title>ScaleIntByReal</title>\n<polygon fill=\"none\" stroke=\"black\" points=\"91,-104 91,-121 135,-121 135,-104 91,-104\"/>\n<text text-anchor=\"start\" x=\"107\" y=\"-110\" font-family=\"Times,serif\" font-size=\"10.00\">r*i</text>\n<polygon fill=\"none\" stroke=\"black\" points=\"91,-83 91,-104 135,-104 135,-83 91,-83\"/>\n<text text-anchor=\"start\" x=\"94\" y=\"-89.8\" font-family=\"Times,serif\" font-size=\"14.00\">real_in</text>\n<polygon fill=\"none\" stroke=\"black\" points=\"91,-62 91,-83 135,-83 135,-62 91,-62\"/>\n<text text-anchor=\"start\" x=\"97\" y=\"-68.8\" font-family=\"Times,serif\" font-size=\"14.00\">int_in</text>\n<polygon fill=\"none\" stroke=\"black\" points=\"91,-41 91,-62 97,-62 97,-41 91,-41\"/>\n<polygon fill=\"none\" stroke=\"black\" points=\"97,-41 97,-62 135,-62 135,-41 97,-41\"/>\n<text text-anchor=\"start\" x=\"100.5\" y=\"-47.8\" font-family=\"Times,serif\" font-size=\"14.00\">result</text>\n</g>\n<!-- real_in_G3&#45;&gt;ScaleIntByReal -->\n<g id=\"edge1\" class=\"edge\">\n<title>real_in_G3:e-&gt;ScaleIntByReal:w</title>\n<path fill=\"none\" stroke=\"black\" d=\"M54,-110C71.22,-110 72.97,-95.23 88.98,-94.07\"/>\n<ellipse fill=\"black\" stroke=\"black\" cx=\"90\" cy=\"-94.04\" rx=\"1\" ry=\"1\"/>\n<text text-anchor=\"middle\" x=\"72.5\" y=\"-105\" font-family=\"Times,serif\" font-size=\"10.00\">12</text>\n</g>\n<!-- int_in_G7 -->\n<g id=\"node2\" class=\"node\">\n<title>int_in_G7</title>\n<text text-anchor=\"middle\" x=\"27\" y=\"-52.3\" font-family=\"Times,serif\" font-size=\"14.00\">int_in</text>\n</g>\n<!-- int_in_G7&#45;&gt;ScaleIntByReal -->\n<g id=\"edge2\" class=\"edge\">\n<title>int_in_G7:e-&gt;ScaleIntByReal:w</title>\n<path fill=\"none\" stroke=\"black\" d=\"M54,-56C71.22,-56 72.97,-70.77 88.98,-71.93\"/>\n<ellipse fill=\"black\" stroke=\"black\" cx=\"90\" cy=\"-71.96\" rx=\"1\" ry=\"1\"/>\n<text text-anchor=\"middle\" x=\"72.5\" y=\"-68\" font-family=\"Times,serif\" font-size=\"10.00\">4</text>\n</g>\n<!-- real_in_G2 -->\n<g id=\"node4\" class=\"node\">\n<title>real_in_G2</title>\n<text text-anchor=\"middle\" x=\"199\" y=\"-122.3\" font-family=\"Times,serif\" font-size=\"14.00\">real_in</text>\n</g>\n<!-- ScaleIntByReal&#45;&gt;real_in_G2 -->\n<g id=\"edge3\" class=\"edge\">\n<title>ScaleIntByReal:e-&gt;real_in_G2:w</title>\n<path fill=\"none\" stroke=\"black\" d=\"M135,-94C155.89,-94 150.72,-123.55 169.58,-125.86\"/>\n<ellipse fill=\"black\" stroke=\"black\" cx=\"171\" cy=\"-125.94\" rx=\"1\" ry=\"1\"/>\n<text text-anchor=\"middle\" x=\"153.5\" y=\"-113\" font-family=\"Times,serif\" font-size=\"10.00\">12</text>\n</g>\n<!-- int_in_G0 -->\n<g id=\"node5\" class=\"node\">\n<title>int_in_G0</title>\n<text text-anchor=\"middle\" x=\"199\" y=\"-68.3\" font-family=\"Times,serif\" font-size=\"14.00\">int_in</text>\n</g>\n<!-- ScaleIntByReal&#45;&gt;int_in_G0 -->\n<g id=\"edge4\" class=\"edge\">\n<title>ScaleIntByReal:e-&gt;int_in_G0:w</title>\n<path fill=\"none\" stroke=\"black\" d=\"M135,-72C150.67,-72 155.14,-72 169.77,-72\"/>\n<ellipse fill=\"black\" stroke=\"black\" cx=\"171\" cy=\"-72\" rx=\"1\" ry=\"1\"/>\n<text text-anchor=\"middle\" x=\"153.5\" y=\"-75\" font-family=\"Times,serif\" font-size=\"10.00\">4</text>\n</g>\n<!-- result_G6 -->\n<g id=\"node6\" class=\"node\">\n<title>result_G6</title>\n<text text-anchor=\"middle\" x=\"199\" y=\"-14.3\" font-family=\"Times,serif\" font-size=\"14.00\">result</text>\n</g>\n<!-- ScaleIntByReal&#45;&gt;result_G6 -->\n<g id=\"edge5\" class=\"edge\">\n<title>ScaleIntByReal:e-&gt;result_G6:w</title>\n<path fill=\"none\" stroke=\"black\" d=\"M135,-51C156.17,-51 150.47,-20.53 169.55,-18.15\"/>\n<ellipse fill=\"black\" stroke=\"black\" cx=\"171\" cy=\"-18.06\" rx=\"1\" ry=\"1\"/>\n<text text-anchor=\"middle\" x=\"153.5\" y=\"-39\" font-family=\"Times,serif\" font-size=\"10.00\">12</text>\n</g>\n</g>\n</svg>",
          "text/plain": "<IPython.core.display.SVG object>"
         },
         "metadata": {},
         "output_type": "display_data"
        }
       ],
       "tabbable": null,
       "tooltip": null
      }
     },
     "cfe4d86f9ca54bbb8cdd6b8185ee9360": {
      "model_module": "@jupyter-widgets/output",
      "model_module_version": "1.0.0",
      "model_name": "OutputModel",
      "state": {
       "_dom_classes": [],
       "_model_module": "@jupyter-widgets/output",
       "_model_module_version": "1.0.0",
       "_model_name": "OutputModel",
       "_view_count": null,
       "_view_module": "@jupyter-widgets/output",
       "_view_module_version": "1.0.0",
       "_view_name": "OutputView",
       "layout": "IPY_MODEL_2ab0501acdfc4a10a3da27335e94bb27",
       "msg_id": "",
       "outputs": [
        {
         "data": {
          "text/markdown": "`sum_of_squares`",
          "text/plain": "<IPython.core.display.Markdown object>"
         },
         "metadata": {},
         "output_type": "display_data"
        },
        {
         "data": {
          "image/svg+xml": "<svg xmlns=\"http://www.w3.org/2000/svg\" xmlns:xlink=\"http://www.w3.org/1999/xlink\" width=\"252pt\" height=\"260pt\" viewBox=\"0.00 0.00 252.00 260.00\">\n<g id=\"graph0\" class=\"graph\" transform=\"scale(1 1) rotate(0) translate(4 256)\">\n<title>my_graph</title>\n<polygon fill=\"white\" stroke=\"transparent\" points=\"-4,4 -4,-256 248,-256 248,4 -4,4\"/>\n<!-- input_G2 -->\n<g id=\"node1\" class=\"node\">\n<title>input_G2</title>\n<text text-anchor=\"middle\" x=\"30\" y=\"-214.3\" font-family=\"Times,serif\" font-size=\"14.00\">input[0]</text>\n</g>\n<!-- SumOfSquares -->\n<g id=\"node5\" class=\"node\">\n<title>SumOfSquares</title>\n<polygon fill=\"none\" stroke=\"black\" points=\"97,-179 97,-196 147,-196 147,-179 97,-179\"/>\n<text text-anchor=\"start\" x=\"112.5\" y=\"-185\" font-family=\"Times,serif\" font-size=\"10.00\">SOS</text>\n<polygon fill=\"none\" stroke=\"black\" points=\"97,-158 97,-179 147,-179 147,-158 97,-158\"/>\n<text text-anchor=\"start\" x=\"100\" y=\"-164.8\" font-family=\"Times,serif\" font-size=\"14.00\">input[0]</text>\n<polygon fill=\"none\" stroke=\"black\" points=\"97,-137 97,-158 147,-158 147,-137 97,-137\"/>\n<text text-anchor=\"start\" x=\"100\" y=\"-143.8\" font-family=\"Times,serif\" font-size=\"14.00\">input[1]</text>\n<polygon fill=\"none\" stroke=\"black\" points=\"97,-116 97,-137 147,-137 147,-116 97,-116\"/>\n<text text-anchor=\"start\" x=\"100\" y=\"-122.8\" font-family=\"Times,serif\" font-size=\"14.00\">input[2]</text>\n<polygon fill=\"none\" stroke=\"black\" points=\"97,-95 97,-116 147,-116 147,-95 97,-95\"/>\n<text text-anchor=\"start\" x=\"100\" y=\"-101.8\" font-family=\"Times,serif\" font-size=\"14.00\">input[3]</text>\n<polygon fill=\"none\" stroke=\"black\" points=\"97,-74 97,-95 106,-95 106,-74 97,-74\"/>\n<polygon fill=\"none\" stroke=\"black\" points=\"106,-74 106,-95 147,-95 147,-74 106,-74\"/>\n<text text-anchor=\"start\" x=\"111\" y=\"-80.8\" font-family=\"Times,serif\" font-size=\"14.00\">result</text>\n</g>\n<!-- input_G2&#45;&gt;SumOfSquares -->\n<g id=\"edge1\" class=\"edge\">\n<title>input_G2:e-&gt;SumOfSquares:w</title>\n<path fill=\"none\" stroke=\"black\" d=\"M60,-218C86.54,-218 70.64,-171.64 94.86,-169.11\"/>\n<ellipse fill=\"black\" stroke=\"black\" cx=\"96\" cy=\"-169.05\" rx=\"1\" ry=\"1\"/>\n<text text-anchor=\"middle\" x=\"78.5\" y=\"-197\" font-family=\"Times,serif\" font-size=\"10.00\">8</text>\n</g>\n<!-- input_G0 -->\n<g id=\"node2\" class=\"node\">\n<title>input_G0</title>\n<text text-anchor=\"middle\" x=\"30\" y=\"-160.3\" font-family=\"Times,serif\" font-size=\"14.00\">input[1]</text>\n</g>\n<!-- input_G0&#45;&gt;SumOfSquares -->\n<g id=\"edge2\" class=\"edge\">\n<title>input_G0:e-&gt;SumOfSquares:w</title>\n<path fill=\"none\" stroke=\"black\" d=\"M60,-164C77.22,-164 78.97,-149.23 94.98,-148.07\"/>\n<ellipse fill=\"black\" stroke=\"black\" cx=\"96\" cy=\"-148.04\" rx=\"1\" ry=\"1\"/>\n<text text-anchor=\"middle\" x=\"78.5\" y=\"-159\" font-family=\"Times,serif\" font-size=\"10.00\">8</text>\n</g>\n<!-- input_G8 -->\n<g id=\"node3\" class=\"node\">\n<title>input_G8</title>\n<text text-anchor=\"middle\" x=\"30\" y=\"-106.3\" font-family=\"Times,serif\" font-size=\"14.00\">input[2]</text>\n</g>\n<!-- input_G8&#45;&gt;SumOfSquares -->\n<g id=\"edge3\" class=\"edge\">\n<title>input_G8:e-&gt;SumOfSquares:w</title>\n<path fill=\"none\" stroke=\"black\" d=\"M60,-110C77.22,-110 78.97,-124.77 94.98,-125.93\"/>\n<ellipse fill=\"black\" stroke=\"black\" cx=\"96\" cy=\"-125.96\" rx=\"1\" ry=\"1\"/>\n<text text-anchor=\"middle\" x=\"78.5\" y=\"-121\" font-family=\"Times,serif\" font-size=\"10.00\">8</text>\n</g>\n<!-- input_G12 -->\n<g id=\"node4\" class=\"node\">\n<title>input_G12</title>\n<text text-anchor=\"middle\" x=\"30\" y=\"-52.3\" font-family=\"Times,serif\" font-size=\"14.00\">input[3]</text>\n</g>\n<!-- input_G12&#45;&gt;SumOfSquares -->\n<g id=\"edge4\" class=\"edge\">\n<title>input_G12:e-&gt;SumOfSquares:w</title>\n<path fill=\"none\" stroke=\"black\" d=\"M60,-56C86.54,-56 70.64,-102.36 94.86,-104.89\"/>\n<ellipse fill=\"black\" stroke=\"black\" cx=\"96\" cy=\"-104.95\" rx=\"1\" ry=\"1\"/>\n<text text-anchor=\"middle\" x=\"78.5\" y=\"-85\" font-family=\"Times,serif\" font-size=\"10.00\">8</text>\n</g>\n<!-- input_G5 -->\n<g id=\"node6\" class=\"node\">\n<title>input_G5</title>\n<text text-anchor=\"middle\" x=\"214\" y=\"-230.3\" font-family=\"Times,serif\" font-size=\"14.00\">input[0]</text>\n</g>\n<!-- SumOfSquares&#45;&gt;input_G5 -->\n<g id=\"edge5\" class=\"edge\">\n<title>SumOfSquares:e-&gt;input_G5:w</title>\n<path fill=\"none\" stroke=\"black\" d=\"M147,-169C179.46,-169 152.11,-230.99 181.76,-233.89\"/>\n<ellipse fill=\"black\" stroke=\"black\" cx=\"183\" cy=\"-233.95\" rx=\"1\" ry=\"1\"/>\n<text text-anchor=\"middle\" x=\"165.5\" y=\"-210\" font-family=\"Times,serif\" font-size=\"10.00\">8</text>\n</g>\n<!-- input_G4 -->\n<g id=\"node7\" class=\"node\">\n<title>input_G4</title>\n<text text-anchor=\"middle\" x=\"214\" y=\"-176.3\" font-family=\"Times,serif\" font-size=\"14.00\">input[1]</text>\n</g>\n<!-- SumOfSquares&#45;&gt;input_G4 -->\n<g id=\"edge6\" class=\"edge\">\n<title>SumOfSquares:e-&gt;input_G4:w</title>\n<path fill=\"none\" stroke=\"black\" d=\"M147,-148C167.89,-148 162.72,-177.55 181.58,-179.86\"/>\n<ellipse fill=\"black\" stroke=\"black\" cx=\"183\" cy=\"-179.94\" rx=\"1\" ry=\"1\"/>\n<text text-anchor=\"middle\" x=\"165.5\" y=\"-167\" font-family=\"Times,serif\" font-size=\"10.00\">8</text>\n</g>\n<!-- input_G7 -->\n<g id=\"node8\" class=\"node\">\n<title>input_G7</title>\n<text text-anchor=\"middle\" x=\"214\" y=\"-122.3\" font-family=\"Times,serif\" font-size=\"14.00\">input[2]</text>\n</g>\n<!-- SumOfSquares&#45;&gt;input_G7 -->\n<g id=\"edge7\" class=\"edge\">\n<title>SumOfSquares:e-&gt;input_G7:w</title>\n<path fill=\"none\" stroke=\"black\" d=\"M147,-126C162.67,-126 167.14,-126 181.77,-126\"/>\n<ellipse fill=\"black\" stroke=\"black\" cx=\"183\" cy=\"-126\" rx=\"1\" ry=\"1\"/>\n<text text-anchor=\"middle\" x=\"165.5\" y=\"-129\" font-family=\"Times,serif\" font-size=\"10.00\">8</text>\n</g>\n<!-- input_G1 -->\n<g id=\"node9\" class=\"node\">\n<title>input_G1</title>\n<text text-anchor=\"middle\" x=\"214\" y=\"-68.3\" font-family=\"Times,serif\" font-size=\"14.00\">input[3]</text>\n</g>\n<!-- SumOfSquares&#45;&gt;input_G1 -->\n<g id=\"edge8\" class=\"edge\">\n<title>SumOfSquares:e-&gt;input_G1:w</title>\n<path fill=\"none\" stroke=\"black\" d=\"M147,-105C168.17,-105 162.47,-74.53 181.55,-72.15\"/>\n<ellipse fill=\"black\" stroke=\"black\" cx=\"183\" cy=\"-72.06\" rx=\"1\" ry=\"1\"/>\n<text text-anchor=\"middle\" x=\"165.5\" y=\"-92\" font-family=\"Times,serif\" font-size=\"10.00\">8</text>\n</g>\n<!-- result_G11 -->\n<g id=\"node10\" class=\"node\">\n<title>result_G11</title>\n<text text-anchor=\"middle\" x=\"214\" y=\"-14.3\" font-family=\"Times,serif\" font-size=\"14.00\">result</text>\n</g>\n<!-- SumOfSquares&#45;&gt;result_G11 -->\n<g id=\"edge9\" class=\"edge\">\n<title>SumOfSquares:e-&gt;result_G11:w</title>\n<path fill=\"none\" stroke=\"black\" d=\"M147,-84C180.27,-84 153.26,-21.06 183.71,-18.11\"/>\n<ellipse fill=\"black\" stroke=\"black\" cx=\"185\" cy=\"-18.05\" rx=\"1\" ry=\"1\"/>\n<text text-anchor=\"middle\" x=\"165.5\" y=\"-68\" font-family=\"Times,serif\" font-size=\"10.00\">18</text>\n</g>\n</g>\n</svg>",
          "text/plain": "<IPython.core.display.SVG object>"
         },
         "metadata": {},
         "output_type": "display_data"
        }
       ],
       "tabbable": null,
       "tooltip": null
      }
     },
     "ddf90aa524c643f7ab6c63563052b543": {
      "model_module": "@jupyter-widgets/base",
      "model_module_version": "2.0.0",
      "model_name": "LayoutModel",
      "state": {
       "_model_module": "@jupyter-widgets/base",
       "_model_module_version": "2.0.0",
       "_model_name": "LayoutModel",
       "_view_count": null,
       "_view_module": "@jupyter-widgets/base",
       "_view_module_version": "2.0.0",
       "_view_name": "LayoutView",
       "align_content": null,
       "align_items": null,
       "align_self": null,
       "border_bottom": null,
       "border_left": null,
       "border_right": null,
       "border_top": null,
       "bottom": null,
       "display": null,
       "flex": null,
       "flex_flow": null,
       "grid_area": null,
       "grid_auto_columns": null,
       "grid_auto_flow": null,
       "grid_auto_rows": null,
       "grid_column": null,
       "grid_gap": null,
       "grid_row": null,
       "grid_template_areas": null,
       "grid_template_columns": null,
       "grid_template_rows": null,
       "height": null,
       "justify_content": null,
       "justify_items": null,
       "left": null,
       "margin": null,
       "max_height": null,
       "max_width": null,
       "min_height": null,
       "min_width": null,
       "object_fit": null,
       "object_position": null,
       "order": null,
       "overflow": null,
       "padding": null,
       "right": null,
       "top": null,
       "visibility": null,
       "width": null
      }
     },
     "e43e14fa274c4fd4a4773ed75eb18518": {
      "model_module": "@jupyter-widgets/controls",
      "model_module_version": "2.0.0",
      "model_name": "HBoxModel",
      "state": {
       "_dom_classes": [],
       "_model_module": "@jupyter-widgets/controls",
       "_model_module_version": "2.0.0",
       "_model_name": "HBoxModel",
       "_view_count": null,
       "_view_module": "@jupyter-widgets/controls",
       "_view_module_version": "2.0.0",
       "_view_name": "HBoxView",
       "box_style": "",
       "children": [
        "IPY_MODEL_439de0c0a30a49d0b7ef16e863ef3698"
       ],
       "layout": "IPY_MODEL_66b535d74f9b45ee89c8edea12231fbb",
       "tabbable": null,
       "tooltip": null
      }
     },
     "f2973742b9a84d7ca0033cd20123c661": {
      "model_module": "@jupyter-widgets/controls",
      "model_module_version": "2.0.0",
      "model_name": "HBoxModel",
      "state": {
       "_dom_classes": [],
       "_model_module": "@jupyter-widgets/controls",
       "_model_module_version": "2.0.0",
       "_model_name": "HBoxModel",
       "_view_count": null,
       "_view_module": "@jupyter-widgets/controls",
       "_view_module_version": "2.0.0",
       "_view_name": "HBoxView",
       "box_style": "",
       "children": [
        "IPY_MODEL_351da676f48240bba58677f940dd0a88"
       ],
       "layout": "IPY_MODEL_193828886d734c68883cc1db95bdce97",
       "tabbable": null,
       "tooltip": null
      }
     },
     "fefee38f1e1e4d269fc3a881f9aab48b": {
      "model_module": "@jupyter-widgets/base",
      "model_module_version": "2.0.0",
      "model_name": "LayoutModel",
      "state": {
       "_model_module": "@jupyter-widgets/base",
       "_model_module_version": "2.0.0",
       "_model_name": "LayoutModel",
       "_view_count": null,
       "_view_module": "@jupyter-widgets/base",
       "_view_module_version": "2.0.0",
       "_view_name": "LayoutView",
       "align_content": null,
       "align_items": null,
       "align_self": null,
       "border_bottom": null,
       "border_left": null,
       "border_right": null,
       "border_top": null,
       "bottom": null,
       "display": null,
       "flex": null,
       "flex_flow": null,
       "grid_area": null,
       "grid_auto_columns": null,
       "grid_auto_flow": null,
       "grid_auto_rows": null,
       "grid_column": null,
       "grid_gap": null,
       "grid_row": null,
       "grid_template_areas": null,
       "grid_template_columns": null,
       "grid_template_rows": null,
       "height": null,
       "justify_content": null,
       "justify_items": null,
       "left": null,
       "margin": null,
       "max_height": null,
       "max_width": null,
       "min_height": null,
       "min_width": null,
       "object_fit": null,
       "object_position": null,
       "order": null,
       "overflow": null,
       "padding": null,
       "right": null,
       "top": null,
       "visibility": null,
       "width": null
      }
     },
     "ff5f239e7d1049acb599ecb0b6615453": {
      "model_module": "@jupyter-widgets/controls",
      "model_module_version": "2.0.0",
      "model_name": "HBoxModel",
      "state": {
       "_dom_classes": [],
       "_model_module": "@jupyter-widgets/controls",
       "_model_module_version": "2.0.0",
       "_model_name": "HBoxModel",
       "_view_count": null,
       "_view_module": "@jupyter-widgets/controls",
       "_view_module_version": "2.0.0",
       "_view_name": "HBoxView",
       "box_style": "",
       "children": [
        "IPY_MODEL_6d3a142dc67340449d45c0ead2c92059"
       ],
       "layout": "IPY_MODEL_82d6cd2e114d413a97fb8407251e89c7",
       "tabbable": null,
       "tooltip": null
      }
     }
    },
    "version_major": 2,
    "version_minor": 0
   }
  }
 },
 "nbformat": 4,
 "nbformat_minor": 5
}
