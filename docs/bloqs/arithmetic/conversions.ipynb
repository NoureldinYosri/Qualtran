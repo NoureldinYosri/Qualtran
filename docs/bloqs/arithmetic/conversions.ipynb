{
 "cells": [
  {
   "cell_type": "markdown",
   "id": "1d183aeb",
   "metadata": {
    "cq.autogen": "title_cell"
   },
   "source": [
    "# Conversions"
   ]
  },
  {
   "cell_type": "code",
   "execution_count": 1,
   "id": "14109d45",
   "metadata": {
    "cq.autogen": "top_imports"
   },
   "outputs": [],
   "source": [
    "from qualtran import Bloq, CompositeBloq, BloqBuilder, Signature, Register\n",
    "from qualtran.drawing import show_bloq, show_call_graph, show_counts_sigma\n",
    "from typing import *\n",
    "import numpy as np\n",
    "import sympy\n",
    "import cirq"
   ]
  },
  {
   "cell_type": "markdown",
   "id": "eb2d037e",
   "metadata": {
    "cq.autogen": "SignedIntegerToTwosComplement.bloq_doc.md"
   },
   "source": [
    "## `SignedIntegerToTwosComplement`\n",
    "Convert a register storing the signed integer representation to two's complement inplace.\n",
    "\n",
    "#### Parameters\n",
    " - `bitsize`: size of the register. \n",
    "\n",
    "#### Registers\n",
    " - `x`: input signed integer (ones' complement) register.\n",
    " - `y`: output signed integer register in two's complement. \n",
    "\n",
    "#### References\n",
    "[Fault-Tolerant Quantum Simulations of Chemistry in First Quantization](\n",
    "    https://arxiv.org/abs/2105.12767) page 24, 4th paragraph from the bottom.\n"
   ]
  },
  {
   "cell_type": "code",
   "execution_count": 2,
   "id": "90bb1bed",
   "metadata": {
    "cq.autogen": "SignedIntegerToTwosComplement.bloq_doc.py"
   },
   "outputs": [],
   "source": [
    "from qualtran.bloqs.arithmetic.conversions import SignedIntegerToTwosComplement"
   ]
  },
  {
   "cell_type": "markdown",
   "id": "8f3c1147",
   "metadata": {
    "cq.autogen": "SignedIntegerToTwosComplement.example_instances.md"
   },
   "source": [
    "### Example Instances"
   ]
  },
  {
   "cell_type": "code",
   "execution_count": 3,
   "id": "2dfb8e27",
   "metadata": {
    "cq.autogen": "SignedIntegerToTwosComplement.signed_to_twos"
   },
   "outputs": [],
   "source": [
    "signed_to_twos = SignedIntegerToTwosComplement(bitsize=10)"
   ]
  },
  {
   "cell_type": "markdown",
   "id": "06ef9a13",
   "metadata": {
    "cq.autogen": "SignedIntegerToTwosComplement.graphical_signature.md"
   },
   "source": [
    "#### Graphical Signature"
   ]
  },
  {
   "cell_type": "code",
   "execution_count": 4,
   "id": "325d1c85",
   "metadata": {
    "cq.autogen": "SignedIntegerToTwosComplement.graphical_signature.py"
   },
   "outputs": [
    {
     "data": {
      "application/vnd.jupyter.widget-view+json": {
       "model_id": "f2441ff1972b4e1aa09ddae4df1e33cd",
       "version_major": 2,
       "version_minor": 0
      },
      "text/plain": [
       "HBox(children=(Output(outputs=({'output_type': 'display_data', 'data': {'text/plain': '<IPython.core.display.M…"
      ]
     },
     "metadata": {},
     "output_type": "display_data"
    }
   ],
   "source": [
    "from qualtran.drawing import show_bloqs\n",
    "show_bloqs([signed_to_twos],\n",
    "           ['`signed_to_twos`'])"
   ]
  },
  {
   "cell_type": "markdown",
   "id": "de47d9a4",
   "metadata": {
    "cq.autogen": "SignedIntegerToTwosComplement.call_graph.md"
   },
   "source": [
    "### Call Graph"
   ]
  },
  {
   "cell_type": "code",
   "execution_count": 5,
   "id": "da2e339e",
   "metadata": {
    "cq.autogen": "SignedIntegerToTwosComplement.call_graph.py"
   },
   "outputs": [
    {
     "data": {
      "image/svg+xml": [
       "<svg xmlns=\"http://www.w3.org/2000/svg\" xmlns:xlink=\"http://www.w3.org/1999/xlink\" width=\"217pt\" height=\"218pt\" viewBox=\"0.00 0.00 217.00 218.00\">\n",
       "<g id=\"graph0\" class=\"graph\" transform=\"scale(1 1) rotate(0) translate(4 214)\">\n",
       "<title>counts</title>\n",
       "<polygon fill=\"white\" stroke=\"transparent\" points=\"-4,4 -4,-214 213,-214 213,4 -4,4\"/>\n",
       "<!-- b0 -->\n",
       "<g id=\"node1\" class=\"node\">\n",
       "<title>b0</title>\n",
       "<polygon fill=\"none\" stroke=\"black\" points=\"209,-210 0,-210 0,-174 209,-174 209,-210\"/>\n",
       "<text text-anchor=\"start\" x=\"8\" y=\"-193.8\" font-family=\"Times,serif\" font-size=\"14.00\">SignedIntegerToTwosComplement</text>\n",
       "<text text-anchor=\"start\" x=\"74\" y=\"-183\" font-family=\"monospace\" font-size=\"10.00\">bitsize=10</text>\n",
       "</g>\n",
       "<!-- b1 -->\n",
       "<g id=\"node2\" class=\"node\">\n",
       "<title>b1</title>\n",
       "<polygon fill=\"none\" stroke=\"black\" points=\"132,-123 77,-123 77,-87 132,-87 132,-123\"/>\n",
       "<text text-anchor=\"start\" x=\"85\" y=\"-101.3\" font-family=\"Times,serif\" font-size=\"14.00\">Toffoli</text>\n",
       "</g>\n",
       "<!-- b0&#45;&gt;b1 -->\n",
       "<g id=\"edge1\" class=\"edge\">\n",
       "<title>b0-&gt;b1</title>\n",
       "<path fill=\"none\" stroke=\"black\" d=\"M104.5,-173.8C104.5,-162.16 104.5,-146.55 104.5,-133.24\"/>\n",
       "<polygon fill=\"black\" stroke=\"black\" points=\"108,-133.18 104.5,-123.18 101,-133.18 108,-133.18\"/>\n",
       "<text text-anchor=\"middle\" x=\"108\" y=\"-144.8\" font-family=\"Times,serif\" font-size=\"14.00\">8</text>\n",
       "</g>\n",
       "<!-- b2 -->\n",
       "<g id=\"node3\" class=\"node\">\n",
       "<title>b2</title>\n",
       "<polygon fill=\"none\" stroke=\"black\" points=\"161,-36 48,-36 48,0 161,0 161,-36\"/>\n",
       "<text text-anchor=\"start\" x=\"100\" y=\"-19.8\" font-family=\"Times,serif\" font-size=\"14.00\">T</text>\n",
       "<text text-anchor=\"start\" x=\"56\" y=\"-9\" font-family=\"monospace\" font-size=\"10.00\">is_adjoint=False</text>\n",
       "</g>\n",
       "<!-- b1&#45;&gt;b2 -->\n",
       "<g id=\"edge2\" class=\"edge\">\n",
       "<title>b1-&gt;b2</title>\n",
       "<path fill=\"none\" stroke=\"black\" d=\"M104.5,-86.8C104.5,-75.16 104.5,-59.55 104.5,-46.24\"/>\n",
       "<polygon fill=\"black\" stroke=\"black\" points=\"108,-46.18 104.5,-36.18 101,-46.18 108,-46.18\"/>\n",
       "<text text-anchor=\"middle\" x=\"108\" y=\"-57.8\" font-family=\"Times,serif\" font-size=\"14.00\">4</text>\n",
       "</g>\n",
       "</g>\n",
       "</svg>"
      ],
      "text/plain": [
       "<IPython.core.display.SVG object>"
      ]
     },
     "metadata": {},
     "output_type": "display_data"
    },
    {
     "data": {
      "text/markdown": [
       "#### Counts totals:\n",
       " - `TGate()`: 32"
      ],
      "text/plain": [
       "<IPython.core.display.Markdown object>"
      ]
     },
     "metadata": {},
     "output_type": "display_data"
    }
   ],
   "source": [
    "signed_to_twos_g, signed_to_twos_sigma = signed_to_twos.call_graph()\n",
    "show_call_graph(signed_to_twos_g)\n",
    "show_counts_sigma(signed_to_twos_sigma)"
   ]
  },
  {
   "cell_type": "markdown",
   "id": "8db78a21",
   "metadata": {
    "cq.autogen": "ToContiguousIndex.bloq_doc.md"
   },
   "source": [
    "## `ToContiguousIndex`\n",
    "Build a contiguous register s from mu and nu.\n",
    "\n",
    "$$\n",
    "    s = \\nu (\\nu + 1) / 2 + \\mu\n",
    "$$\n",
    "\n",
    "Assuming nu is zero indexed (in contrast to the THC paper which assumes 1,\n",
    "hence the slightly different formula).\n",
    "\n",
    "#### Parameters\n",
    " - `bitsize`: number of bits for mu and nu registers.\n",
    " - `s_bitsize`: Number of bits for contiguous register. \n",
    "\n",
    "#### Registers\n",
    " - `mu`: input register\n",
    " - `nu`: input register\n",
    " - `s`: output contiguous register \n",
    "\n",
    "#### References\n",
    "[Even more efficient quantum computations of chemistry through\n",
    "tensor hypercontraction](https://arxiv.org/pdf/2011.03494.pdf) Eq. 29.\n"
   ]
  },
  {
   "cell_type": "code",
   "execution_count": 6,
   "id": "fc4d5d9b",
   "metadata": {
    "cq.autogen": "ToContiguousIndex.bloq_doc.py"
   },
   "outputs": [],
   "source": [
    "from qualtran.bloqs.arithmetic.conversions import ToContiguousIndex"
   ]
  },
  {
   "cell_type": "markdown",
   "id": "5f88c48f",
   "metadata": {
    "cq.autogen": "ToContiguousIndex.example_instances.md"
   },
   "source": [
    "### Example Instances"
   ]
  },
  {
   "cell_type": "code",
   "execution_count": 7,
   "id": "f1b9eba4",
   "metadata": {
    "cq.autogen": "ToContiguousIndex.to_contg_index"
   },
   "outputs": [],
   "source": [
    "to_contg_index = ToContiguousIndex(bitsize=4, s_bitsize=8)"
   ]
  },
  {
   "cell_type": "markdown",
   "id": "6565d270",
   "metadata": {
    "cq.autogen": "ToContiguousIndex.graphical_signature.md"
   },
   "source": [
    "#### Graphical Signature"
   ]
  },
  {
   "cell_type": "code",
   "execution_count": 8,
   "id": "676836df",
   "metadata": {
    "cq.autogen": "ToContiguousIndex.graphical_signature.py"
   },
   "outputs": [
    {
     "data": {
      "application/vnd.jupyter.widget-view+json": {
       "model_id": "7142a390c2a8445fbe0550d5a2951d6f",
       "version_major": 2,
       "version_minor": 0
      },
      "text/plain": [
       "HBox(children=(Output(outputs=({'output_type': 'display_data', 'data': {'text/plain': '<IPython.core.display.M…"
      ]
     },
     "metadata": {},
     "output_type": "display_data"
    }
   ],
   "source": [
    "from qualtran.drawing import show_bloqs\n",
    "show_bloqs([to_contg_index],\n",
    "           ['`to_contg_index`'])"
   ]
  },
  {
   "cell_type": "markdown",
   "id": "7ec6b833",
   "metadata": {
    "cq.autogen": "ToContiguousIndex.call_graph.md"
   },
   "source": [
    "### Call Graph"
   ]
  },
  {
   "cell_type": "code",
   "execution_count": 9,
   "id": "b7c7b076",
   "metadata": {
    "cq.autogen": "ToContiguousIndex.call_graph.py"
   },
   "outputs": [
    {
     "data": {
      "image/svg+xml": [
       "<svg xmlns=\"http://www.w3.org/2000/svg\" xmlns:xlink=\"http://www.w3.org/1999/xlink\" width=\"157pt\" height=\"218pt\" viewBox=\"0.00 0.00 157.00 218.00\">\n",
       "<g id=\"graph0\" class=\"graph\" transform=\"scale(1 1) rotate(0) translate(4 214)\">\n",
       "<title>counts</title>\n",
       "<polygon fill=\"white\" stroke=\"transparent\" points=\"-4,4 -4,-214 153,-214 153,4 -4,4\"/>\n",
       "<!-- b0 -->\n",
       "<g id=\"node1\" class=\"node\">\n",
       "<title>b0</title>\n",
       "<polygon fill=\"none\" stroke=\"black\" points=\"149,-210 0,-210 0,-174 149,-174 149,-210\"/>\n",
       "<text text-anchor=\"start\" x=\"20\" y=\"-193.8\" font-family=\"Times,serif\" font-size=\"14.00\">ToContiguousIndex</text>\n",
       "<text text-anchor=\"start\" x=\"8\" y=\"-183\" font-family=\"monospace\" font-size=\"10.00\">bitsize=4, s_bitsize=8</text>\n",
       "</g>\n",
       "<!-- b1 -->\n",
       "<g id=\"node2\" class=\"node\">\n",
       "<title>b1</title>\n",
       "<polygon fill=\"none\" stroke=\"black\" points=\"102,-123 47,-123 47,-87 102,-87 102,-123\"/>\n",
       "<text text-anchor=\"start\" x=\"55\" y=\"-101.3\" font-family=\"Times,serif\" font-size=\"14.00\">Toffoli</text>\n",
       "</g>\n",
       "<!-- b0&#45;&gt;b1 -->\n",
       "<g id=\"edge1\" class=\"edge\">\n",
       "<title>b0-&gt;b1</title>\n",
       "<path fill=\"none\" stroke=\"black\" d=\"M74.5,-173.8C74.5,-162.16 74.5,-146.55 74.5,-133.24\"/>\n",
       "<polygon fill=\"black\" stroke=\"black\" points=\"78,-133.18 74.5,-123.18 71,-133.18 78,-133.18\"/>\n",
       "<text text-anchor=\"middle\" x=\"81.5\" y=\"-144.8\" font-family=\"Times,serif\" font-size=\"14.00\">19</text>\n",
       "</g>\n",
       "<!-- b2 -->\n",
       "<g id=\"node3\" class=\"node\">\n",
       "<title>b2</title>\n",
       "<polygon fill=\"none\" stroke=\"black\" points=\"131,-36 18,-36 18,0 131,0 131,-36\"/>\n",
       "<text text-anchor=\"start\" x=\"70\" y=\"-19.8\" font-family=\"Times,serif\" font-size=\"14.00\">T</text>\n",
       "<text text-anchor=\"start\" x=\"26\" y=\"-9\" font-family=\"monospace\" font-size=\"10.00\">is_adjoint=False</text>\n",
       "</g>\n",
       "<!-- b1&#45;&gt;b2 -->\n",
       "<g id=\"edge2\" class=\"edge\">\n",
       "<title>b1-&gt;b2</title>\n",
       "<path fill=\"none\" stroke=\"black\" d=\"M74.5,-86.8C74.5,-75.16 74.5,-59.55 74.5,-46.24\"/>\n",
       "<polygon fill=\"black\" stroke=\"black\" points=\"78,-46.18 74.5,-36.18 71,-46.18 78,-46.18\"/>\n",
       "<text text-anchor=\"middle\" x=\"78\" y=\"-57.8\" font-family=\"Times,serif\" font-size=\"14.00\">4</text>\n",
       "</g>\n",
       "</g>\n",
       "</svg>"
      ],
      "text/plain": [
       "<IPython.core.display.SVG object>"
      ]
     },
     "metadata": {},
     "output_type": "display_data"
    },
    {
     "data": {
      "text/markdown": [
       "#### Counts totals:\n",
       " - `TGate()`: 76"
      ],
      "text/plain": [
       "<IPython.core.display.Markdown object>"
      ]
     },
     "metadata": {},
     "output_type": "display_data"
    }
   ],
   "source": [
    "to_contg_index_g, to_contg_index_sigma = to_contg_index.call_graph()\n",
    "show_call_graph(to_contg_index_g)\n",
    "show_counts_sigma(to_contg_index_sigma)"
   ]
  }
 ],
 "metadata": {
  "kernelspec": {
   "display_name": "Python 3",
   "language": "python",
   "name": "python3"
  },
  "language_info": {
   "codemirror_mode": {
    "name": "ipython",
    "version": 3
   },
   "file_extension": ".py",
   "mimetype": "text/x-python",
   "name": "python",
   "nbconvert_exporter": "python",
   "pygments_lexer": "ipython3",
   "version": "3.10.12"
  },
  "widgets": {
   "application/vnd.jupyter.widget-state+json": {
    "state": {
     "047cad614bca40f29139cf14b0b80039": {
      "model_module": "@jupyter-widgets/output",
      "model_module_version": "1.0.0",
      "model_name": "OutputModel",
      "state": {
       "_dom_classes": [],
       "_model_module": "@jupyter-widgets/output",
       "_model_module_version": "1.0.0",
       "_model_name": "OutputModel",
       "_view_count": null,
       "_view_module": "@jupyter-widgets/output",
       "_view_module_version": "1.0.0",
       "_view_name": "OutputView",
       "layout": "IPY_MODEL_8bbb00db093b496796e3904324ee44c8",
       "msg_id": "",
       "outputs": [
        {
         "data": {
          "text/markdown": "`to_contg_index`",
          "text/plain": "<IPython.core.display.Markdown object>"
         },
         "metadata": {},
         "output_type": "display_data"
        },
        {
         "data": {
          "image/svg+xml": "<svg xmlns=\"http://www.w3.org/2000/svg\" xmlns:xlink=\"http://www.w3.org/1999/xlink\" width=\"299pt\" height=\"152pt\" viewBox=\"0.00 0.00 299.00 152.00\">\n<g id=\"graph0\" class=\"graph\" transform=\"scale(1 1) rotate(0) translate(4 148)\">\n<title>my_graph</title>\n<polygon fill=\"white\" stroke=\"transparent\" points=\"-4,4 -4,-148 295,-148 295,4 -4,4\"/>\n<!-- mu_G2 -->\n<g id=\"node1\" class=\"node\">\n<title>mu_G2</title>\n<text text-anchor=\"middle\" x=\"27\" y=\"-122.3\" font-family=\"Times,serif\" font-size=\"14.00\">mu</text>\n</g>\n<!-- ToContiguousIndex -->\n<g id=\"node4\" class=\"node\">\n<title>ToContiguousIndex</title>\n<polygon fill=\"none\" stroke=\"black\" points=\"91.5,-104 91.5,-121 200.5,-121 200.5,-104 91.5,-104\"/>\n<text text-anchor=\"start\" x=\"94.5\" y=\"-110\" font-family=\"Times,serif\" font-size=\"10.00\">$(\\mu,\\nu) \\rightarrow s$</text>\n<polygon fill=\"none\" stroke=\"black\" points=\"91.5,-83 91.5,-104 200.5,-104 200.5,-83 91.5,-83\"/>\n<text text-anchor=\"start\" x=\"136.5\" y=\"-89.8\" font-family=\"Times,serif\" font-size=\"14.00\">mu</text>\n<polygon fill=\"none\" stroke=\"black\" points=\"91.5,-62 91.5,-83 200.5,-83 200.5,-62 91.5,-62\"/>\n<text text-anchor=\"start\" x=\"139\" y=\"-68.8\" font-family=\"Times,serif\" font-size=\"14.00\">nu</text>\n<polygon fill=\"none\" stroke=\"black\" points=\"91.5,-41 91.5,-62 200.5,-62 200.5,-41 91.5,-41\"/>\n<text text-anchor=\"start\" x=\"143\" y=\"-47.8\" font-family=\"Times,serif\" font-size=\"14.00\">s</text>\n</g>\n<!-- mu_G2&#45;&gt;ToContiguousIndex -->\n<g id=\"edge1\" class=\"edge\">\n<title>mu_G2:e-&gt;ToContiguousIndex:w</title>\n<path fill=\"none\" stroke=\"black\" d=\"M54,-126C74.89,-126 69.72,-96.45 88.58,-94.14\"/>\n<ellipse fill=\"black\" stroke=\"black\" cx=\"90\" cy=\"-94.06\" rx=\"1\" ry=\"1\"/>\n<text text-anchor=\"middle\" x=\"72.5\" y=\"-113\" font-family=\"Times,serif\" font-size=\"10.00\">4</text>\n</g>\n<!-- nu_G7 -->\n<g id=\"node2\" class=\"node\">\n<title>nu_G7</title>\n<text text-anchor=\"middle\" x=\"27\" y=\"-68.3\" font-family=\"Times,serif\" font-size=\"14.00\">nu</text>\n</g>\n<!-- nu_G7&#45;&gt;ToContiguousIndex -->\n<g id=\"edge2\" class=\"edge\">\n<title>nu_G7:e-&gt;ToContiguousIndex:w</title>\n<path fill=\"none\" stroke=\"black\" d=\"M54,-72C69.67,-72 74.14,-72 88.77,-72\"/>\n<ellipse fill=\"black\" stroke=\"black\" cx=\"90\" cy=\"-72\" rx=\"1\" ry=\"1\"/>\n<text text-anchor=\"middle\" x=\"72.5\" y=\"-75\" font-family=\"Times,serif\" font-size=\"10.00\">4</text>\n</g>\n<!-- s_G8 -->\n<g id=\"node3\" class=\"node\">\n<title>s_G8</title>\n<text text-anchor=\"middle\" x=\"27\" y=\"-14.3\" font-family=\"Times,serif\" font-size=\"14.00\">s</text>\n</g>\n<!-- s_G8&#45;&gt;ToContiguousIndex -->\n<g id=\"edge3\" class=\"edge\">\n<title>s_G8:e-&gt;ToContiguousIndex:w</title>\n<path fill=\"none\" stroke=\"black\" d=\"M54,-18C75.17,-18 69.47,-48.47 88.55,-50.85\"/>\n<ellipse fill=\"black\" stroke=\"black\" cx=\"90\" cy=\"-50.94\" rx=\"1\" ry=\"1\"/>\n<text text-anchor=\"middle\" x=\"72.5\" y=\"-39\" font-family=\"Times,serif\" font-size=\"10.00\">8</text>\n</g>\n<!-- mu_G0 -->\n<g id=\"node5\" class=\"node\">\n<title>mu_G0</title>\n<text text-anchor=\"middle\" x=\"264\" y=\"-122.3\" font-family=\"Times,serif\" font-size=\"14.00\">mu</text>\n</g>\n<!-- ToContiguousIndex&#45;&gt;mu_G0 -->\n<g id=\"edge4\" class=\"edge\">\n<title>ToContiguousIndex:e-&gt;mu_G0:w</title>\n<path fill=\"none\" stroke=\"black\" d=\"M200,-94C220.89,-94 215.72,-123.55 234.58,-125.86\"/>\n<ellipse fill=\"black\" stroke=\"black\" cx=\"236\" cy=\"-125.94\" rx=\"1\" ry=\"1\"/>\n<text text-anchor=\"middle\" x=\"218.5\" y=\"-113\" font-family=\"Times,serif\" font-size=\"10.00\">4</text>\n</g>\n<!-- nu_G3 -->\n<g id=\"node6\" class=\"node\">\n<title>nu_G3</title>\n<text text-anchor=\"middle\" x=\"264\" y=\"-68.3\" font-family=\"Times,serif\" font-size=\"14.00\">nu</text>\n</g>\n<!-- ToContiguousIndex&#45;&gt;nu_G3 -->\n<g id=\"edge5\" class=\"edge\">\n<title>ToContiguousIndex:e-&gt;nu_G3:w</title>\n<path fill=\"none\" stroke=\"black\" d=\"M200,-72C215.67,-72 220.14,-72 234.77,-72\"/>\n<ellipse fill=\"black\" stroke=\"black\" cx=\"236\" cy=\"-72\" rx=\"1\" ry=\"1\"/>\n<text text-anchor=\"middle\" x=\"218.5\" y=\"-75\" font-family=\"Times,serif\" font-size=\"10.00\">4</text>\n</g>\n<!-- s_G5 -->\n<g id=\"node7\" class=\"node\">\n<title>s_G5</title>\n<text text-anchor=\"middle\" x=\"264\" y=\"-14.3\" font-family=\"Times,serif\" font-size=\"14.00\">s</text>\n</g>\n<!-- ToContiguousIndex&#45;&gt;s_G5 -->\n<g id=\"edge6\" class=\"edge\">\n<title>ToContiguousIndex:e-&gt;s_G5:w</title>\n<path fill=\"none\" stroke=\"black\" d=\"M200,-51C221.17,-51 215.47,-20.53 234.55,-18.15\"/>\n<ellipse fill=\"black\" stroke=\"black\" cx=\"236\" cy=\"-18.06\" rx=\"1\" ry=\"1\"/>\n<text text-anchor=\"middle\" x=\"218.5\" y=\"-39\" font-family=\"Times,serif\" font-size=\"10.00\">8</text>\n</g>\n</g>\n</svg>",
          "text/plain": "<IPython.core.display.SVG object>"
         },
         "metadata": {},
         "output_type": "display_data"
        }
       ],
       "tabbable": null,
       "tooltip": null
      }
     },
     "2e3c63d7aa484b10a4ebf87b0aeb5336": {
      "model_module": "@jupyter-widgets/output",
      "model_module_version": "1.0.0",
      "model_name": "OutputModel",
      "state": {
       "_dom_classes": [],
       "_model_module": "@jupyter-widgets/output",
       "_model_module_version": "1.0.0",
       "_model_name": "OutputModel",
       "_view_count": null,
       "_view_module": "@jupyter-widgets/output",
       "_view_module_version": "1.0.0",
       "_view_name": "OutputView",
       "layout": "IPY_MODEL_ad4c9f88bee544c38d0f3447b021344e",
       "msg_id": "",
       "outputs": [
        {
         "data": {
          "text/markdown": "`signed_to_twos`",
          "text/plain": "<IPython.core.display.Markdown object>"
         },
         "metadata": {},
         "output_type": "display_data"
        },
        {
         "data": {
          "image/svg+xml": "<svg xmlns=\"http://www.w3.org/2000/svg\" xmlns:xlink=\"http://www.w3.org/1999/xlink\" width=\"238pt\" height=\"76pt\" viewBox=\"0.00 0.00 238.00 75.50\">\n<g id=\"graph0\" class=\"graph\" transform=\"scale(1 1) rotate(0) translate(4 71.5)\">\n<title>my_graph</title>\n<polygon fill=\"white\" stroke=\"transparent\" points=\"-4,4 -4,-71.5 234,-71.5 234,4 -4,4\"/>\n<!-- x_G1 -->\n<g id=\"node1\" class=\"node\">\n<title>x_G1</title>\n<text text-anchor=\"middle\" x=\"27\" y=\"-36.3\" font-family=\"Times,serif\" font-size=\"14.00\">x</text>\n</g>\n<!-- SignedIntegerToTwosComplement -->\n<g id=\"node2\" class=\"node\">\n<title>SignedIntegerToTwosComplement</title>\n<polygon fill=\"none\" stroke=\"black\" points=\"91,-50 91,-67 139,-67 139,-50 91,-50\"/>\n<text text-anchor=\"start\" x=\"94\" y=\"-56\" font-family=\"Times,serif\" font-size=\"10.00\">SignedIn..</text>\n<polygon fill=\"none\" stroke=\"black\" points=\"91,-29 91,-50 115,-50 115,-29 91,-29\"/>\n<text text-anchor=\"start\" x=\"99.5\" y=\"-35.8\" font-family=\"Times,serif\" font-size=\"14.00\">x</text>\n<polygon fill=\"none\" stroke=\"black\" points=\"115,-29 115,-50 139,-50 139,-29 115,-29\"/>\n<polygon fill=\"none\" stroke=\"black\" points=\"91,-8 91,-29 115,-29 115,-8 91,-8\"/>\n<polygon fill=\"none\" stroke=\"black\" points=\"115,-8 115,-29 139,-29 139,-8 115,-8\"/>\n<text text-anchor=\"start\" x=\"123.5\" y=\"-14.8\" font-family=\"Times,serif\" font-size=\"14.00\">y</text>\n</g>\n<!-- x_G1&#45;&gt;SignedIntegerToTwosComplement -->\n<g id=\"edge1\" class=\"edge\">\n<title>x_G1:e-&gt;SignedIntegerToTwosComplement:w</title>\n<path fill=\"none\" stroke=\"black\" d=\"M54,-40C69.67,-40 74.14,-40 88.77,-40\"/>\n<ellipse fill=\"black\" stroke=\"black\" cx=\"90\" cy=\"-40\" rx=\"1\" ry=\"1\"/>\n<text text-anchor=\"middle\" x=\"72.5\" y=\"-43\" font-family=\"Times,serif\" font-size=\"10.00\">10</text>\n</g>\n<!-- y_G0 -->\n<g id=\"node3\" class=\"node\">\n<title>y_G0</title>\n<text text-anchor=\"middle\" x=\"203\" y=\"-14.3\" font-family=\"Times,serif\" font-size=\"14.00\">y</text>\n</g>\n<!-- SignedIntegerToTwosComplement&#45;&gt;y_G0 -->\n<g id=\"edge2\" class=\"edge\">\n<title>SignedIntegerToTwosComplement:e-&gt;y_G0:w</title>\n<path fill=\"none\" stroke=\"black\" d=\"M139,-18C154.67,-18 159.14,-18 173.77,-18\"/>\n<ellipse fill=\"black\" stroke=\"black\" cx=\"175\" cy=\"-18\" rx=\"1\" ry=\"1\"/>\n<text text-anchor=\"middle\" x=\"157.5\" y=\"-21\" font-family=\"Times,serif\" font-size=\"10.00\">10</text>\n</g>\n</g>\n</svg>",
          "text/plain": "<IPython.core.display.SVG object>"
         },
         "metadata": {},
         "output_type": "display_data"
        }
       ],
       "tabbable": null,
       "tooltip": null
      }
     },
     "50ffa7f3e7964002aaf79ccb56825375": {
      "model_module": "@jupyter-widgets/base",
      "model_module_version": "2.0.0",
      "model_name": "LayoutModel",
      "state": {
       "_model_module": "@jupyter-widgets/base",
       "_model_module_version": "2.0.0",
       "_model_name": "LayoutModel",
       "_view_count": null,
       "_view_module": "@jupyter-widgets/base",
       "_view_module_version": "2.0.0",
       "_view_name": "LayoutView",
       "align_content": null,
       "align_items": null,
       "align_self": null,
       "border_bottom": null,
       "border_left": null,
       "border_right": null,
       "border_top": null,
       "bottom": null,
       "display": null,
       "flex": null,
       "flex_flow": null,
       "grid_area": null,
       "grid_auto_columns": null,
       "grid_auto_flow": null,
       "grid_auto_rows": null,
       "grid_column": null,
       "grid_gap": null,
       "grid_row": null,
       "grid_template_areas": null,
       "grid_template_columns": null,
       "grid_template_rows": null,
       "height": null,
       "justify_content": null,
       "justify_items": null,
       "left": null,
       "margin": null,
       "max_height": null,
       "max_width": null,
       "min_height": null,
       "min_width": null,
       "object_fit": null,
       "object_position": null,
       "order": null,
       "overflow": null,
       "padding": null,
       "right": null,
       "top": null,
       "visibility": null,
       "width": null
      }
     },
     "7142a390c2a8445fbe0550d5a2951d6f": {
      "model_module": "@jupyter-widgets/controls",
      "model_module_version": "2.0.0",
      "model_name": "HBoxModel",
      "state": {
       "_dom_classes": [],
       "_model_module": "@jupyter-widgets/controls",
       "_model_module_version": "2.0.0",
       "_model_name": "HBoxModel",
       "_view_count": null,
       "_view_module": "@jupyter-widgets/controls",
       "_view_module_version": "2.0.0",
       "_view_name": "HBoxView",
       "box_style": "",
       "children": [
        "IPY_MODEL_047cad614bca40f29139cf14b0b80039"
       ],
       "layout": "IPY_MODEL_8ff9d1f4d52b4900899c5027277f952b",
       "tabbable": null,
       "tooltip": null
      }
     },
     "8bbb00db093b496796e3904324ee44c8": {
      "model_module": "@jupyter-widgets/base",
      "model_module_version": "2.0.0",
      "model_name": "LayoutModel",
      "state": {
       "_model_module": "@jupyter-widgets/base",
       "_model_module_version": "2.0.0",
       "_model_name": "LayoutModel",
       "_view_count": null,
       "_view_module": "@jupyter-widgets/base",
       "_view_module_version": "2.0.0",
       "_view_name": "LayoutView",
       "align_content": null,
       "align_items": null,
       "align_self": null,
       "border_bottom": null,
       "border_left": null,
       "border_right": null,
       "border_top": null,
       "bottom": null,
       "display": null,
       "flex": null,
       "flex_flow": null,
       "grid_area": null,
       "grid_auto_columns": null,
       "grid_auto_flow": null,
       "grid_auto_rows": null,
       "grid_column": null,
       "grid_gap": null,
       "grid_row": null,
       "grid_template_areas": null,
       "grid_template_columns": null,
       "grid_template_rows": null,
       "height": null,
       "justify_content": null,
       "justify_items": null,
       "left": null,
       "margin": null,
       "max_height": null,
       "max_width": null,
       "min_height": null,
       "min_width": null,
       "object_fit": null,
       "object_position": null,
       "order": null,
       "overflow": null,
       "padding": null,
       "right": null,
       "top": null,
       "visibility": null,
       "width": null
      }
     },
     "8ff9d1f4d52b4900899c5027277f952b": {
      "model_module": "@jupyter-widgets/base",
      "model_module_version": "2.0.0",
      "model_name": "LayoutModel",
      "state": {
       "_model_module": "@jupyter-widgets/base",
       "_model_module_version": "2.0.0",
       "_model_name": "LayoutModel",
       "_view_count": null,
       "_view_module": "@jupyter-widgets/base",
       "_view_module_version": "2.0.0",
       "_view_name": "LayoutView",
       "align_content": null,
       "align_items": null,
       "align_self": null,
       "border_bottom": null,
       "border_left": null,
       "border_right": null,
       "border_top": null,
       "bottom": null,
       "display": null,
       "flex": null,
       "flex_flow": null,
       "grid_area": null,
       "grid_auto_columns": null,
       "grid_auto_flow": null,
       "grid_auto_rows": null,
       "grid_column": null,
       "grid_gap": null,
       "grid_row": null,
       "grid_template_areas": null,
       "grid_template_columns": null,
       "grid_template_rows": null,
       "height": null,
       "justify_content": null,
       "justify_items": null,
       "left": null,
       "margin": null,
       "max_height": null,
       "max_width": null,
       "min_height": null,
       "min_width": null,
       "object_fit": null,
       "object_position": null,
       "order": null,
       "overflow": null,
       "padding": null,
       "right": null,
       "top": null,
       "visibility": null,
       "width": null
      }
     },
     "ad4c9f88bee544c38d0f3447b021344e": {
      "model_module": "@jupyter-widgets/base",
      "model_module_version": "2.0.0",
      "model_name": "LayoutModel",
      "state": {
       "_model_module": "@jupyter-widgets/base",
       "_model_module_version": "2.0.0",
       "_model_name": "LayoutModel",
       "_view_count": null,
       "_view_module": "@jupyter-widgets/base",
       "_view_module_version": "2.0.0",
       "_view_name": "LayoutView",
       "align_content": null,
       "align_items": null,
       "align_self": null,
       "border_bottom": null,
       "border_left": null,
       "border_right": null,
       "border_top": null,
       "bottom": null,
       "display": null,
       "flex": null,
       "flex_flow": null,
       "grid_area": null,
       "grid_auto_columns": null,
       "grid_auto_flow": null,
       "grid_auto_rows": null,
       "grid_column": null,
       "grid_gap": null,
       "grid_row": null,
       "grid_template_areas": null,
       "grid_template_columns": null,
       "grid_template_rows": null,
       "height": null,
       "justify_content": null,
       "justify_items": null,
       "left": null,
       "margin": null,
       "max_height": null,
       "max_width": null,
       "min_height": null,
       "min_width": null,
       "object_fit": null,
       "object_position": null,
       "order": null,
       "overflow": null,
       "padding": null,
       "right": null,
       "top": null,
       "visibility": null,
       "width": null
      }
     },
     "f2441ff1972b4e1aa09ddae4df1e33cd": {
      "model_module": "@jupyter-widgets/controls",
      "model_module_version": "2.0.0",
      "model_name": "HBoxModel",
      "state": {
       "_dom_classes": [],
       "_model_module": "@jupyter-widgets/controls",
       "_model_module_version": "2.0.0",
       "_model_name": "HBoxModel",
       "_view_count": null,
       "_view_module": "@jupyter-widgets/controls",
       "_view_module_version": "2.0.0",
       "_view_name": "HBoxView",
       "box_style": "",
       "children": [
        "IPY_MODEL_2e3c63d7aa484b10a4ebf87b0aeb5336"
       ],
       "layout": "IPY_MODEL_50ffa7f3e7964002aaf79ccb56825375",
       "tabbable": null,
       "tooltip": null
      }
     }
    },
    "version_major": 2,
    "version_minor": 0
   }
  }
 },
 "nbformat": 4,
 "nbformat_minor": 5
}
