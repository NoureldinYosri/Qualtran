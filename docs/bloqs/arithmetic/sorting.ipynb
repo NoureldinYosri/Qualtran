{
 "cells": [
  {
   "cell_type": "markdown",
   "id": "60a1531e",
   "metadata": {
    "cq.autogen": "title_cell"
   },
   "source": [
    "# Sorting"
   ]
  },
  {
   "cell_type": "code",
   "execution_count": 1,
   "id": "cf61ba01",
   "metadata": {
    "cq.autogen": "top_imports"
   },
   "outputs": [],
   "source": [
    "from qualtran import Bloq, CompositeBloq, BloqBuilder, Signature, Register\n",
    "from qualtran import QBit, QInt, QUInt, QAny\n",
    "from qualtran.drawing import show_bloq, show_call_graph, show_counts_sigma\n",
    "from typing import *\n",
    "import numpy as np\n",
    "import sympy\n",
    "import cirq"
   ]
  },
  {
   "cell_type": "markdown",
   "id": "6a182ade",
   "metadata": {
    "cq.autogen": "Comparator.bloq_doc.md"
   },
   "source": [
    "## `Comparator`\n",
    "Compare and potentially swaps two n-bit numbers.\n",
    "\n",
    "Implements $U|a\\rangle|b\\rangle|0\\rangle \\rightarrow |\\min(a,b)\\rangle|\\max(a,b)\\rangle|a>b\\rangle$,\n",
    "\n",
    "where $a$ and $b$ are n-qubit quantum registers. On output a and b are\n",
    "swapped if a > b. Forms the base primitive for sorting.\n",
    "\n",
    "#### Parameters\n",
    " - `bitsize`: Number of bits used to represent each integer. \n",
    "\n",
    "#### Registers\n",
    " - `a`: A nbit-sized input register (register a above).\n",
    " - `b`: A nbit-sized input register (register b above).\n",
    " - `out`: A single bit output register which will store the result of the comparator. \n",
    "\n",
    "#### References\n",
    " - [Improved techniques for preparing eigenstates of fermionic Hamiltonians](https://www.nature.com/articles/s41534-018-0071-5). Fig. 1. in main text.\n"
   ]
  },
  {
   "cell_type": "code",
   "execution_count": 2,
   "id": "122a754a",
   "metadata": {
    "cq.autogen": "Comparator.bloq_doc.py"
   },
   "outputs": [],
   "source": [
    "from qualtran.bloqs.arithmetic import Comparator"
   ]
  },
  {
   "cell_type": "markdown",
   "id": "51747c6f",
   "metadata": {
    "cq.autogen": "Comparator.example_instances.md"
   },
   "source": [
    "### Example Instances"
   ]
  },
  {
   "cell_type": "code",
   "execution_count": 3,
   "id": "f7c879d3",
   "metadata": {
    "cq.autogen": "Comparator.cmp_symb"
   },
   "outputs": [],
   "source": [
    "n = sympy.Symbol('n')\n",
    "cmp_symb = Comparator(bitsize=n)"
   ]
  },
  {
   "cell_type": "markdown",
   "id": "d50a5d05",
   "metadata": {
    "cq.autogen": "Comparator.graphical_signature.md"
   },
   "source": [
    "#### Graphical Signature"
   ]
  },
  {
   "cell_type": "code",
   "execution_count": 4,
   "id": "fcc725a9",
   "metadata": {
    "cq.autogen": "Comparator.graphical_signature.py"
   },
   "outputs": [
    {
     "data": {
      "application/vnd.jupyter.widget-view+json": {
       "model_id": "ef3783e6adff4cfaa0f58fff8670860e",
       "version_major": 2,
       "version_minor": 0
      },
      "text/plain": [
       "HBox(children=(Output(outputs=({'output_type': 'display_data', 'data': {'text/plain': '<IPython.core.display.M…"
      ]
     },
     "metadata": {},
     "output_type": "display_data"
    }
   ],
   "source": [
    "from qualtran.drawing import show_bloqs\n",
    "show_bloqs([cmp_symb],\n",
    "           ['`cmp_symb`'])"
   ]
  },
  {
   "cell_type": "markdown",
   "id": "e7f23fbf",
   "metadata": {
    "cq.autogen": "Comparator.call_graph.md"
   },
   "source": [
    "### Call Graph"
   ]
  },
  {
   "cell_type": "code",
   "execution_count": 5,
   "id": "0108c0f3",
   "metadata": {
    "cq.autogen": "Comparator.call_graph.py"
   },
   "outputs": [
    {
     "data": {
      "image/svg+xml": [
       "<svg xmlns=\"http://www.w3.org/2000/svg\" xmlns:xlink=\"http://www.w3.org/1999/xlink\" width=\"90pt\" height=\"44pt\" viewBox=\"0.00 0.00 90.00 44.00\">\n",
       "<g id=\"graph0\" class=\"graph\" transform=\"scale(1 1) rotate(0) translate(4 40)\">\n",
       "<title>counts</title>\n",
       "<polygon fill=\"white\" stroke=\"transparent\" points=\"-4,4 -4,-40 86,-40 86,4 -4,4\"/>\n",
       "<!-- b0 -->\n",
       "<g id=\"node1\" class=\"node\">\n",
       "<title>b0</title>\n",
       "<polygon fill=\"none\" stroke=\"black\" points=\"82,-36 0,-36 0,0 82,0 82,-36\"/>\n",
       "<text text-anchor=\"start\" x=\"8\" y=\"-19.8\" font-family=\"Times,serif\" font-size=\"14.00\">Comparator</text>\n",
       "<text text-anchor=\"start\" x=\"13.5\" y=\"-9\" font-family=\"monospace\" font-size=\"10.00\">bitsize=n</text>\n",
       "</g>\n",
       "</g>\n",
       "</svg>"
      ],
      "text/plain": [
       "<IPython.core.display.SVG object>"
      ]
     },
     "metadata": {},
     "output_type": "display_data"
    },
    {
     "data": {
      "text/markdown": [
       "#### Counts totals:\n",
       " - `Comparator(bitsize=n)`: 1"
      ],
      "text/plain": [
       "<IPython.core.display.Markdown object>"
      ]
     },
     "metadata": {},
     "output_type": "display_data"
    }
   ],
   "source": [
    "from qualtran.resource_counting.generalizers import ignore_split_join\n",
    "cmp_symb_g, cmp_symb_sigma = cmp_symb.call_graph(max_depth=1, generalizer=ignore_split_join)\n",
    "show_call_graph(cmp_symb_g)\n",
    "show_counts_sigma(cmp_symb_sigma)"
   ]
  },
  {
   "cell_type": "markdown",
   "id": "8a69c8dd",
   "metadata": {
    "cq.autogen": "BitonicSort.bloq_doc.md"
   },
   "source": [
    "## `BitonicSort`\n",
    "Sort k n-bit numbers.\n",
    "\n",
    "TODO: actually implement the algorithm using comparitor. Hiding ancilla cost\n",
    "    for the moment. Issue #219\n",
    "\n",
    "#### Parameters\n",
    " - `bitsize`: Number of bits used to represent each integer.\n",
    " - `k`: Number of integers to sort. \n",
    "\n",
    "#### Registers\n",
    " - `input`: List of k integers we want to sort. \n",
    "\n",
    "#### References\n",
    " - [Improved techniques for preparing eigenstates of fermionic Hamiltonians](https://www.nature.com/articles/s41534-018-0071-5). Supporting Information Sec. II.\n"
   ]
  },
  {
   "cell_type": "code",
   "execution_count": 6,
   "id": "0f539993",
   "metadata": {
    "cq.autogen": "BitonicSort.bloq_doc.py"
   },
   "outputs": [],
   "source": [
    "from qualtran.bloqs.arithmetic import BitonicSort"
   ]
  },
  {
   "cell_type": "markdown",
   "id": "267f7e8e",
   "metadata": {
    "cq.autogen": "BitonicSort.example_instances.md"
   },
   "source": [
    "### Example Instances"
   ]
  },
  {
   "cell_type": "code",
   "execution_count": 7,
   "id": "fe271196",
   "metadata": {
    "cq.autogen": "BitonicSort.bitonic_sort"
   },
   "outputs": [],
   "source": [
    "n = sympy.Symbol('n')\n",
    "bitonic_sort = BitonicSort(bitsize=n, k=3)"
   ]
  },
  {
   "cell_type": "markdown",
   "id": "5033dd38",
   "metadata": {
    "cq.autogen": "BitonicSort.graphical_signature.md"
   },
   "source": [
    "#### Graphical Signature"
   ]
  },
  {
   "cell_type": "code",
   "execution_count": 8,
   "id": "f5a57cac",
   "metadata": {
    "cq.autogen": "BitonicSort.graphical_signature.py"
   },
   "outputs": [
    {
     "data": {
      "application/vnd.jupyter.widget-view+json": {
       "model_id": "a368ba3ae882442e9cf7afe935813f7d",
       "version_major": 2,
       "version_minor": 0
      },
      "text/plain": [
       "HBox(children=(Output(outputs=({'output_type': 'display_data', 'data': {'text/plain': '<IPython.core.display.M…"
      ]
     },
     "metadata": {},
     "output_type": "display_data"
    }
   ],
   "source": [
    "from qualtran.drawing import show_bloqs\n",
    "show_bloqs([bitonic_sort],\n",
    "           ['`bitonic_sort`'])"
   ]
  },
  {
   "cell_type": "markdown",
   "id": "21589c68",
   "metadata": {
    "cq.autogen": "BitonicSort.call_graph.md"
   },
   "source": [
    "### Call Graph"
   ]
  },
  {
   "cell_type": "code",
   "execution_count": 9,
   "id": "9f3b7c3a",
   "metadata": {
    "cq.autogen": "BitonicSort.call_graph.py"
   },
   "outputs": [
    {
     "data": {
      "image/svg+xml": [
       "<svg xmlns=\"http://www.w3.org/2000/svg\" xmlns:xlink=\"http://www.w3.org/1999/xlink\" width=\"109pt\" height=\"44pt\" viewBox=\"0.00 0.00 109.00 44.00\">\n",
       "<g id=\"graph0\" class=\"graph\" transform=\"scale(1 1) rotate(0) translate(4 40)\">\n",
       "<title>counts</title>\n",
       "<polygon fill=\"white\" stroke=\"transparent\" points=\"-4,4 -4,-40 105,-40 105,4 -4,4\"/>\n",
       "<!-- b0 -->\n",
       "<g id=\"node1\" class=\"node\">\n",
       "<title>b0</title>\n",
       "<polygon fill=\"none\" stroke=\"black\" points=\"101,-36 0,-36 0,0 101,0 101,-36\"/>\n",
       "<text text-anchor=\"start\" x=\"19\" y=\"-19.8\" font-family=\"Times,serif\" font-size=\"14.00\">BitonicSort</text>\n",
       "<text text-anchor=\"start\" x=\"8\" y=\"-9\" font-family=\"monospace\" font-size=\"10.00\">bitsize=n, k=3</text>\n",
       "</g>\n",
       "</g>\n",
       "</svg>"
      ],
      "text/plain": [
       "<IPython.core.display.SVG object>"
      ]
     },
     "metadata": {},
     "output_type": "display_data"
    },
    {
     "data": {
      "text/markdown": [
       "#### Counts totals:\n",
       " - `BitonicSort(bitsize=n, k=3)`: 1"
      ],
      "text/plain": [
       "<IPython.core.display.Markdown object>"
      ]
     },
     "metadata": {},
     "output_type": "display_data"
    }
   ],
   "source": [
    "from qualtran.resource_counting.generalizers import ignore_split_join\n",
    "bitonic_sort_g, bitonic_sort_sigma = bitonic_sort.call_graph(max_depth=1, generalizer=ignore_split_join)\n",
    "show_call_graph(bitonic_sort_g)\n",
    "show_counts_sigma(bitonic_sort_sigma)"
   ]
  }
 ],
 "metadata": {
  "kernelspec": {
   "display_name": "Python 3 (ipykernel)",
   "language": "python",
   "name": "python3"
  },
  "language_info": {
   "codemirror_mode": {
    "name": "ipython",
    "version": 3
   },
   "file_extension": ".py",
   "mimetype": "text/x-python",
   "name": "python",
   "nbconvert_exporter": "python",
   "pygments_lexer": "ipython3",
   "version": "3.11.8"
  },
  "widgets": {
   "application/vnd.jupyter.widget-state+json": {
    "state": {
     "3cc96ce478824c04a8cd7ce8239ebf39": {
      "model_module": "@jupyter-widgets/base",
      "model_module_version": "2.0.0",
      "model_name": "LayoutModel",
      "state": {
       "_model_module": "@jupyter-widgets/base",
       "_model_module_version": "2.0.0",
       "_model_name": "LayoutModel",
       "_view_count": null,
       "_view_module": "@jupyter-widgets/base",
       "_view_module_version": "2.0.0",
       "_view_name": "LayoutView",
       "align_content": null,
       "align_items": null,
       "align_self": null,
       "border_bottom": null,
       "border_left": null,
       "border_right": null,
       "border_top": null,
       "bottom": null,
       "display": null,
       "flex": null,
       "flex_flow": null,
       "grid_area": null,
       "grid_auto_columns": null,
       "grid_auto_flow": null,
       "grid_auto_rows": null,
       "grid_column": null,
       "grid_gap": null,
       "grid_row": null,
       "grid_template_areas": null,
       "grid_template_columns": null,
       "grid_template_rows": null,
       "height": null,
       "justify_content": null,
       "justify_items": null,
       "left": null,
       "margin": null,
       "max_height": null,
       "max_width": null,
       "min_height": null,
       "min_width": null,
       "object_fit": null,
       "object_position": null,
       "order": null,
       "overflow": null,
       "padding": null,
       "right": null,
       "top": null,
       "visibility": null,
       "width": null
      }
     },
     "8791227072d24cb998b86b9566cf5a53": {
      "model_module": "@jupyter-widgets/base",
      "model_module_version": "2.0.0",
      "model_name": "LayoutModel",
      "state": {
       "_model_module": "@jupyter-widgets/base",
       "_model_module_version": "2.0.0",
       "_model_name": "LayoutModel",
       "_view_count": null,
       "_view_module": "@jupyter-widgets/base",
       "_view_module_version": "2.0.0",
       "_view_name": "LayoutView",
       "align_content": null,
       "align_items": null,
       "align_self": null,
       "border_bottom": null,
       "border_left": null,
       "border_right": null,
       "border_top": null,
       "bottom": null,
       "display": null,
       "flex": null,
       "flex_flow": null,
       "grid_area": null,
       "grid_auto_columns": null,
       "grid_auto_flow": null,
       "grid_auto_rows": null,
       "grid_column": null,
       "grid_gap": null,
       "grid_row": null,
       "grid_template_areas": null,
       "grid_template_columns": null,
       "grid_template_rows": null,
       "height": null,
       "justify_content": null,
       "justify_items": null,
       "left": null,
       "margin": null,
       "max_height": null,
       "max_width": null,
       "min_height": null,
       "min_width": null,
       "object_fit": null,
       "object_position": null,
       "order": null,
       "overflow": null,
       "padding": null,
       "right": null,
       "top": null,
       "visibility": null,
       "width": null
      }
     },
     "919aad902d7c41f1a5f0b78bb09060d8": {
      "model_module": "@jupyter-widgets/base",
      "model_module_version": "2.0.0",
      "model_name": "LayoutModel",
      "state": {
       "_model_module": "@jupyter-widgets/base",
       "_model_module_version": "2.0.0",
       "_model_name": "LayoutModel",
       "_view_count": null,
       "_view_module": "@jupyter-widgets/base",
       "_view_module_version": "2.0.0",
       "_view_name": "LayoutView",
       "align_content": null,
       "align_items": null,
       "align_self": null,
       "border_bottom": null,
       "border_left": null,
       "border_right": null,
       "border_top": null,
       "bottom": null,
       "display": null,
       "flex": null,
       "flex_flow": null,
       "grid_area": null,
       "grid_auto_columns": null,
       "grid_auto_flow": null,
       "grid_auto_rows": null,
       "grid_column": null,
       "grid_gap": null,
       "grid_row": null,
       "grid_template_areas": null,
       "grid_template_columns": null,
       "grid_template_rows": null,
       "height": null,
       "justify_content": null,
       "justify_items": null,
       "left": null,
       "margin": null,
       "max_height": null,
       "max_width": null,
       "min_height": null,
       "min_width": null,
       "object_fit": null,
       "object_position": null,
       "order": null,
       "overflow": null,
       "padding": null,
       "right": null,
       "top": null,
       "visibility": null,
       "width": null
      }
     },
     "a368ba3ae882442e9cf7afe935813f7d": {
      "model_module": "@jupyter-widgets/controls",
      "model_module_version": "2.0.0",
      "model_name": "HBoxModel",
      "state": {
       "_dom_classes": [],
       "_model_module": "@jupyter-widgets/controls",
       "_model_module_version": "2.0.0",
       "_model_name": "HBoxModel",
       "_view_count": null,
       "_view_module": "@jupyter-widgets/controls",
       "_view_module_version": "2.0.0",
       "_view_name": "HBoxView",
       "box_style": "",
       "children": [
        "IPY_MODEL_c4ec49429eac4163915ba11ef6377910"
       ],
       "layout": "IPY_MODEL_919aad902d7c41f1a5f0b78bb09060d8",
       "tabbable": null,
       "tooltip": null
      }
     },
     "c127feed0db54ca686def8c7f375330b": {
      "model_module": "@jupyter-widgets/base",
      "model_module_version": "2.0.0",
      "model_name": "LayoutModel",
      "state": {
       "_model_module": "@jupyter-widgets/base",
       "_model_module_version": "2.0.0",
       "_model_name": "LayoutModel",
       "_view_count": null,
       "_view_module": "@jupyter-widgets/base",
       "_view_module_version": "2.0.0",
       "_view_name": "LayoutView",
       "align_content": null,
       "align_items": null,
       "align_self": null,
       "border_bottom": null,
       "border_left": null,
       "border_right": null,
       "border_top": null,
       "bottom": null,
       "display": null,
       "flex": null,
       "flex_flow": null,
       "grid_area": null,
       "grid_auto_columns": null,
       "grid_auto_flow": null,
       "grid_auto_rows": null,
       "grid_column": null,
       "grid_gap": null,
       "grid_row": null,
       "grid_template_areas": null,
       "grid_template_columns": null,
       "grid_template_rows": null,
       "height": null,
       "justify_content": null,
       "justify_items": null,
       "left": null,
       "margin": null,
       "max_height": null,
       "max_width": null,
       "min_height": null,
       "min_width": null,
       "object_fit": null,
       "object_position": null,
       "order": null,
       "overflow": null,
       "padding": null,
       "right": null,
       "top": null,
       "visibility": null,
       "width": null
      }
     },
     "c4ec49429eac4163915ba11ef6377910": {
      "model_module": "@jupyter-widgets/output",
      "model_module_version": "1.0.0",
      "model_name": "OutputModel",
      "state": {
       "_dom_classes": [],
       "_model_module": "@jupyter-widgets/output",
       "_model_module_version": "1.0.0",
       "_model_name": "OutputModel",
       "_view_count": null,
       "_view_module": "@jupyter-widgets/output",
       "_view_module_version": "1.0.0",
       "_view_name": "OutputView",
       "layout": "IPY_MODEL_3cc96ce478824c04a8cd7ce8239ebf39",
       "msg_id": "",
       "outputs": [
        {
         "data": {
          "text/markdown": "`bitonic_sort`",
          "text/plain": "<IPython.core.display.Markdown object>"
         },
         "metadata": {},
         "output_type": "display_data"
        },
        {
         "data": {
          "image/svg+xml": "<svg xmlns=\"http://www.w3.org/2000/svg\" xmlns:xlink=\"http://www.w3.org/1999/xlink\" width=\"252pt\" height=\"152pt\" viewBox=\"0.00 0.00 252.00 152.00\">\n<g id=\"graph0\" class=\"graph\" transform=\"scale(1 1) rotate(0) translate(4 148)\">\n<title>my_graph</title>\n<polygon fill=\"white\" stroke=\"transparent\" points=\"-4,4 -4,-148 248,-148 248,4 -4,4\"/>\n<!-- input_G2 -->\n<g id=\"node1\" class=\"node\">\n<title>input_G2</title>\n<text text-anchor=\"middle\" x=\"30\" y=\"-122.3\" font-family=\"Times,serif\" font-size=\"14.00\">input[0]</text>\n</g>\n<!-- BitonicSort -->\n<g id=\"node4\" class=\"node\">\n<title>BitonicSort</title>\n<polygon fill=\"none\" stroke=\"black\" points=\"97,-104 97,-121 147,-121 147,-104 97,-104\"/>\n<text text-anchor=\"start\" x=\"110\" y=\"-110\" font-family=\"Times,serif\" font-size=\"10.00\">BSort</text>\n<polygon fill=\"none\" stroke=\"black\" points=\"97,-83 97,-104 147,-104 147,-83 97,-83\"/>\n<text text-anchor=\"start\" x=\"100\" y=\"-89.8\" font-family=\"Times,serif\" font-size=\"14.00\">input[0]</text>\n<polygon fill=\"none\" stroke=\"black\" points=\"97,-62 97,-83 147,-83 147,-62 97,-62\"/>\n<text text-anchor=\"start\" x=\"100\" y=\"-68.8\" font-family=\"Times,serif\" font-size=\"14.00\">input[1]</text>\n<polygon fill=\"none\" stroke=\"black\" points=\"97,-41 97,-62 147,-62 147,-41 97,-41\"/>\n<text text-anchor=\"start\" x=\"100\" y=\"-47.8\" font-family=\"Times,serif\" font-size=\"14.00\">input[2]</text>\n</g>\n<!-- input_G2&#45;&gt;BitonicSort -->\n<g id=\"edge1\" class=\"edge\">\n<title>input_G2:e-&gt;BitonicSort:w</title>\n<path fill=\"none\" stroke=\"black\" d=\"M60,-126C80.89,-126 75.72,-96.45 94.58,-94.14\"/>\n<ellipse fill=\"black\" stroke=\"black\" cx=\"96\" cy=\"-94.06\" rx=\"1\" ry=\"1\"/>\n<text text-anchor=\"middle\" x=\"78.5\" y=\"-113\" font-family=\"Times,serif\" font-size=\"10.00\">n</text>\n</g>\n<!-- input_G0 -->\n<g id=\"node2\" class=\"node\">\n<title>input_G0</title>\n<text text-anchor=\"middle\" x=\"30\" y=\"-68.3\" font-family=\"Times,serif\" font-size=\"14.00\">input[1]</text>\n</g>\n<!-- input_G0&#45;&gt;BitonicSort -->\n<g id=\"edge2\" class=\"edge\">\n<title>input_G0:e-&gt;BitonicSort:w</title>\n<path fill=\"none\" stroke=\"black\" d=\"M60,-72C75.67,-72 80.14,-72 94.77,-72\"/>\n<ellipse fill=\"black\" stroke=\"black\" cx=\"96\" cy=\"-72\" rx=\"1\" ry=\"1\"/>\n<text text-anchor=\"middle\" x=\"78.5\" y=\"-75\" font-family=\"Times,serif\" font-size=\"10.00\">n</text>\n</g>\n<!-- input_G5 -->\n<g id=\"node3\" class=\"node\">\n<title>input_G5</title>\n<text text-anchor=\"middle\" x=\"30\" y=\"-14.3\" font-family=\"Times,serif\" font-size=\"14.00\">input[2]</text>\n</g>\n<!-- input_G5&#45;&gt;BitonicSort -->\n<g id=\"edge3\" class=\"edge\">\n<title>input_G5:e-&gt;BitonicSort:w</title>\n<path fill=\"none\" stroke=\"black\" d=\"M60,-18C81.17,-18 75.47,-48.47 94.55,-50.85\"/>\n<ellipse fill=\"black\" stroke=\"black\" cx=\"96\" cy=\"-50.94\" rx=\"1\" ry=\"1\"/>\n<text text-anchor=\"middle\" x=\"78.5\" y=\"-39\" font-family=\"Times,serif\" font-size=\"10.00\">n</text>\n</g>\n<!-- input_G3 -->\n<g id=\"node5\" class=\"node\">\n<title>input_G3</title>\n<text text-anchor=\"middle\" x=\"214\" y=\"-122.3\" font-family=\"Times,serif\" font-size=\"14.00\">input[0]</text>\n</g>\n<!-- BitonicSort&#45;&gt;input_G3 -->\n<g id=\"edge4\" class=\"edge\">\n<title>BitonicSort:e-&gt;input_G3:w</title>\n<path fill=\"none\" stroke=\"black\" d=\"M147,-94C167.89,-94 162.72,-123.55 181.58,-125.86\"/>\n<ellipse fill=\"black\" stroke=\"black\" cx=\"183\" cy=\"-125.94\" rx=\"1\" ry=\"1\"/>\n<text text-anchor=\"middle\" x=\"165.5\" y=\"-113\" font-family=\"Times,serif\" font-size=\"10.00\">n</text>\n</g>\n<!-- input_G1 -->\n<g id=\"node6\" class=\"node\">\n<title>input_G1</title>\n<text text-anchor=\"middle\" x=\"214\" y=\"-68.3\" font-family=\"Times,serif\" font-size=\"14.00\">input[1]</text>\n</g>\n<!-- BitonicSort&#45;&gt;input_G1 -->\n<g id=\"edge5\" class=\"edge\">\n<title>BitonicSort:e-&gt;input_G1:w</title>\n<path fill=\"none\" stroke=\"black\" d=\"M147,-72C162.67,-72 167.14,-72 181.77,-72\"/>\n<ellipse fill=\"black\" stroke=\"black\" cx=\"183\" cy=\"-72\" rx=\"1\" ry=\"1\"/>\n<text text-anchor=\"middle\" x=\"165.5\" y=\"-75\" font-family=\"Times,serif\" font-size=\"10.00\">n</text>\n</g>\n<!-- input_G7 -->\n<g id=\"node7\" class=\"node\">\n<title>input_G7</title>\n<text text-anchor=\"middle\" x=\"214\" y=\"-14.3\" font-family=\"Times,serif\" font-size=\"14.00\">input[2]</text>\n</g>\n<!-- BitonicSort&#45;&gt;input_G7 -->\n<g id=\"edge6\" class=\"edge\">\n<title>BitonicSort:e-&gt;input_G7:w</title>\n<path fill=\"none\" stroke=\"black\" d=\"M147,-51C168.17,-51 162.47,-20.53 181.55,-18.15\"/>\n<ellipse fill=\"black\" stroke=\"black\" cx=\"183\" cy=\"-18.06\" rx=\"1\" ry=\"1\"/>\n<text text-anchor=\"middle\" x=\"165.5\" y=\"-39\" font-family=\"Times,serif\" font-size=\"10.00\">n</text>\n</g>\n</g>\n</svg>",
          "text/plain": "<IPython.core.display.SVG object>"
         },
         "metadata": {},
         "output_type": "display_data"
        }
       ],
       "tabbable": null,
       "tooltip": null
      }
     },
     "ef3783e6adff4cfaa0f58fff8670860e": {
      "model_module": "@jupyter-widgets/controls",
      "model_module_version": "2.0.0",
      "model_name": "HBoxModel",
      "state": {
       "_dom_classes": [],
       "_model_module": "@jupyter-widgets/controls",
       "_model_module_version": "2.0.0",
       "_model_name": "HBoxModel",
       "_view_count": null,
       "_view_module": "@jupyter-widgets/controls",
       "_view_module_version": "2.0.0",
       "_view_name": "HBoxView",
       "box_style": "",
       "children": [
        "IPY_MODEL_fce8ea4bcb124ec896f5e4a7f72217c4"
       ],
       "layout": "IPY_MODEL_8791227072d24cb998b86b9566cf5a53",
       "tabbable": null,
       "tooltip": null
      }
     },
     "fce8ea4bcb124ec896f5e4a7f72217c4": {
      "model_module": "@jupyter-widgets/output",
      "model_module_version": "1.0.0",
      "model_name": "OutputModel",
      "state": {
       "_dom_classes": [],
       "_model_module": "@jupyter-widgets/output",
       "_model_module_version": "1.0.0",
       "_model_name": "OutputModel",
       "_view_count": null,
       "_view_module": "@jupyter-widgets/output",
       "_view_module_version": "1.0.0",
       "_view_name": "OutputView",
       "layout": "IPY_MODEL_c127feed0db54ca686def8c7f375330b",
       "msg_id": "",
       "outputs": [
        {
         "data": {
          "text/markdown": "`cmp_symb`",
          "text/plain": "<IPython.core.display.Markdown object>"
         },
         "metadata": {},
         "output_type": "display_data"
        },
        {
         "data": {
          "image/svg+xml": "<svg xmlns=\"http://www.w3.org/2000/svg\" xmlns:xlink=\"http://www.w3.org/1999/xlink\" width=\"225pt\" height=\"152pt\" viewBox=\"0.00 0.00 225.00 152.00\">\n<g id=\"graph0\" class=\"graph\" transform=\"scale(1 1) rotate(0) translate(4 148)\">\n<title>my_graph</title>\n<polygon fill=\"white\" stroke=\"transparent\" points=\"-4,4 -4,-148 221,-148 221,4 -4,4\"/>\n<!-- a_G2 -->\n<g id=\"node1\" class=\"node\">\n<title>a_G2</title>\n<text text-anchor=\"middle\" x=\"27\" y=\"-106.3\" font-family=\"Times,serif\" font-size=\"14.00\">a</text>\n</g>\n<!-- Comparator -->\n<g id=\"node3\" class=\"node\">\n<title>Comparator</title>\n<polygon fill=\"none\" stroke=\"black\" points=\"91.5,-104 91.5,-121 126.5,-121 126.5,-104 91.5,-104\"/>\n<text text-anchor=\"start\" x=\"94.5\" y=\"-110\" font-family=\"Times,serif\" font-size=\"10.00\">Cmprtr</text>\n<polygon fill=\"none\" stroke=\"black\" points=\"91.5,-83 91.5,-104 126.5,-104 126.5,-83 91.5,-83\"/>\n<text text-anchor=\"start\" x=\"105.5\" y=\"-89.8\" font-family=\"Times,serif\" font-size=\"14.00\">a</text>\n<polygon fill=\"none\" stroke=\"black\" points=\"91.5,-62 91.5,-83 126.5,-83 126.5,-62 91.5,-62\"/>\n<text text-anchor=\"start\" x=\"105.5\" y=\"-68.8\" font-family=\"Times,serif\" font-size=\"14.00\">b</text>\n<polygon fill=\"none\" stroke=\"black\" points=\"91.5,-41 91.5,-62 99.5,-62 99.5,-41 91.5,-41\"/>\n<polygon fill=\"none\" stroke=\"black\" points=\"99.5,-41 99.5,-62 126.5,-62 126.5,-41 99.5,-41\"/>\n<text text-anchor=\"start\" x=\"104\" y=\"-47.8\" font-family=\"Times,serif\" font-size=\"14.00\">out</text>\n</g>\n<!-- a_G2&#45;&gt;Comparator -->\n<g id=\"edge1\" class=\"edge\">\n<title>a_G2:e-&gt;Comparator:w</title>\n<path fill=\"none\" stroke=\"black\" d=\"M54,-110C71.22,-110 72.97,-95.23 88.98,-94.07\"/>\n<ellipse fill=\"black\" stroke=\"black\" cx=\"90\" cy=\"-94.04\" rx=\"1\" ry=\"1\"/>\n<text text-anchor=\"middle\" x=\"72.5\" y=\"-105\" font-family=\"Times,serif\" font-size=\"10.00\">n</text>\n</g>\n<!-- b_G5 -->\n<g id=\"node2\" class=\"node\">\n<title>b_G5</title>\n<text text-anchor=\"middle\" x=\"27\" y=\"-52.3\" font-family=\"Times,serif\" font-size=\"14.00\">b</text>\n</g>\n<!-- b_G5&#45;&gt;Comparator -->\n<g id=\"edge2\" class=\"edge\">\n<title>b_G5:e-&gt;Comparator:w</title>\n<path fill=\"none\" stroke=\"black\" d=\"M54,-56C71.22,-56 72.97,-70.77 88.98,-71.93\"/>\n<ellipse fill=\"black\" stroke=\"black\" cx=\"90\" cy=\"-71.96\" rx=\"1\" ry=\"1\"/>\n<text text-anchor=\"middle\" x=\"72.5\" y=\"-68\" font-family=\"Times,serif\" font-size=\"10.00\">n</text>\n</g>\n<!-- a_G7 -->\n<g id=\"node4\" class=\"node\">\n<title>a_G7</title>\n<text text-anchor=\"middle\" x=\"190\" y=\"-122.3\" font-family=\"Times,serif\" font-size=\"14.00\">a</text>\n</g>\n<!-- Comparator&#45;&gt;a_G7 -->\n<g id=\"edge3\" class=\"edge\">\n<title>Comparator:e-&gt;a_G7:w</title>\n<path fill=\"none\" stroke=\"black\" d=\"M126,-94C146.89,-94 141.72,-123.55 160.58,-125.86\"/>\n<ellipse fill=\"black\" stroke=\"black\" cx=\"162\" cy=\"-125.94\" rx=\"1\" ry=\"1\"/>\n<text text-anchor=\"middle\" x=\"144.5\" y=\"-113\" font-family=\"Times,serif\" font-size=\"10.00\">n</text>\n</g>\n<!-- b_G1 -->\n<g id=\"node5\" class=\"node\">\n<title>b_G1</title>\n<text text-anchor=\"middle\" x=\"190\" y=\"-68.3\" font-family=\"Times,serif\" font-size=\"14.00\">b</text>\n</g>\n<!-- Comparator&#45;&gt;b_G1 -->\n<g id=\"edge4\" class=\"edge\">\n<title>Comparator:e-&gt;b_G1:w</title>\n<path fill=\"none\" stroke=\"black\" d=\"M126,-72C141.67,-72 146.14,-72 160.77,-72\"/>\n<ellipse fill=\"black\" stroke=\"black\" cx=\"162\" cy=\"-72\" rx=\"1\" ry=\"1\"/>\n<text text-anchor=\"middle\" x=\"144.5\" y=\"-75\" font-family=\"Times,serif\" font-size=\"10.00\">n</text>\n</g>\n<!-- out_G3 -->\n<g id=\"node6\" class=\"node\">\n<title>out_G3</title>\n<text text-anchor=\"middle\" x=\"190\" y=\"-14.3\" font-family=\"Times,serif\" font-size=\"14.00\">out</text>\n</g>\n<!-- Comparator&#45;&gt;out_G3 -->\n<g id=\"edge5\" class=\"edge\">\n<title>Comparator:e-&gt;out_G3:w</title>\n<path fill=\"none\" stroke=\"black\" d=\"M126,-51C147.17,-51 141.47,-20.53 160.55,-18.15\"/>\n<ellipse fill=\"black\" stroke=\"black\" cx=\"162\" cy=\"-18.06\" rx=\"1\" ry=\"1\"/>\n<text text-anchor=\"middle\" x=\"144.5\" y=\"-39\" font-family=\"Times,serif\" font-size=\"10.00\">1</text>\n</g>\n</g>\n</svg>",
          "text/plain": "<IPython.core.display.SVG object>"
         },
         "metadata": {},
         "output_type": "display_data"
        }
       ],
       "tabbable": null,
       "tooltip": null
      }
     }
    },
    "version_major": 2,
    "version_minor": 0
   }
  }
 },
 "nbformat": 4,
 "nbformat_minor": 5
}
