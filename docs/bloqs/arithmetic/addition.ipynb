{
 "cells": [
  {
   "cell_type": "markdown",
   "id": "c231998b",
   "metadata": {
    "cq.autogen": "title_cell"
   },
   "source": [
    "# Addition"
   ]
  },
  {
   "cell_type": "code",
   "execution_count": 1,
   "id": "b572d769",
   "metadata": {
    "cq.autogen": "top_imports"
   },
   "outputs": [],
   "source": [
    "from qualtran import Bloq, CompositeBloq, BloqBuilder, Signature, Register\n",
    "from qualtran import QBit, QInt, QUInt, QAny\n",
    "from qualtran.drawing import show_bloq, show_call_graph, show_counts_sigma\n",
    "from typing import *\n",
    "import numpy as np\n",
    "import sympy\n",
    "import cirq"
   ]
  },
  {
   "cell_type": "markdown",
   "id": "d3f4ce95",
   "metadata": {
    "cq.autogen": "Add.bloq_doc.md"
   },
   "source": [
    "## `Add`\n",
    "An n-bit addition gate.\n",
    "\n",
    "Implements $U|a\\rangle|b\\rangle \\rightarrow |a\\rangle|a+b\\rangle$ using $4n - 4 T$ gates.\n",
    "\n",
    "#### Parameters\n",
    " - `a_dtype`: Quantum datatype used to represent the integer a.\n",
    " - `b_dtype`: Quantum datatype used to represent the integer b. Must be large enough to hold the result in the output register of a + b, or else it simply drops the most significant bits. If not specified, b_dtype is set to a_dtype. \n",
    "\n",
    "#### Registers\n",
    " - `a`: A a_dtype.bitsize-sized input register (register a above).\n",
    " - `b`: A b_dtype.bitsize-sized input/output register (register b above). \n",
    "\n",
    "#### References\n",
    " - [Halving the cost of quantum addition](https://arxiv.org/abs/1709.06648). \n"
   ]
  },
  {
   "cell_type": "code",
   "execution_count": 2,
   "id": "6426bb53",
   "metadata": {
    "cq.autogen": "Add.bloq_doc.py"
   },
   "outputs": [],
   "source": [
    "from qualtran.bloqs.arithmetic import Add"
   ]
  },
  {
   "cell_type": "markdown",
   "id": "3c8caad1",
   "metadata": {
    "cq.autogen": "Add.example_instances.md"
   },
   "source": [
    "### Example Instances"
   ]
  },
  {
   "cell_type": "code",
   "execution_count": 3,
   "id": "73929b65",
   "metadata": {
    "cq.autogen": "Add.add_small"
   },
   "outputs": [],
   "source": [
    "add_small = Add(QUInt(bitsize=4))"
   ]
  },
  {
   "cell_type": "code",
   "execution_count": 4,
   "id": "fbd4dbe9",
   "metadata": {
    "cq.autogen": "Add.add_large"
   },
   "outputs": [],
   "source": [
    "add_large = Add(QUInt(bitsize=64))"
   ]
  },
  {
   "cell_type": "code",
   "execution_count": 5,
   "id": "e749abdb",
   "metadata": {
    "cq.autogen": "Add.add_symb"
   },
   "outputs": [],
   "source": [
    "n = sympy.Symbol('n')\n",
    "add_symb = Add(QInt(bitsize=n))"
   ]
  },
  {
   "cell_type": "code",
   "execution_count": 6,
   "id": "e5b746c1",
   "metadata": {
    "collapsed": false
   },
   "outputs": [],
   "source": [
    "add_diff_size_regs = Add(QUInt(bitsize=4), QUInt(bitsize=16))"
   ]
  },
  {
   "cell_type": "markdown",
   "id": "c3c1a7e4",
   "metadata": {
    "cq.autogen": "Add.graphical_signature.md"
   },
   "source": [
    "#### Graphical Signature"
   ]
  },
  {
   "cell_type": "code",
   "execution_count": 7,
   "id": "0f92be09",
   "metadata": {
    "cq.autogen": "Add.graphical_signature.py"
   },
   "outputs": [
    {
     "data": {
      "application/vnd.jupyter.widget-view+json": {
       "model_id": "ed1ebe52aaef4fa2a79f91c1a218c0c6",
       "version_major": 2,
       "version_minor": 0
      },
      "text/plain": [
       "HBox(children=(Output(outputs=({'output_type': 'display_data', 'data': {'text/plain': '<IPython.core.display.M…"
      ]
     },
     "metadata": {},
     "output_type": "display_data"
    }
   ],
   "source": [
    "from qualtran.drawing import show_bloqs\n",
    "show_bloqs([add_symb, add_small, add_large, add_diff_size_regs],\n",
    "           ['`add_symb`', '`add_small`', '`add_large`', '`add_diff_size_regs`'])"
   ]
  },
  {
   "cell_type": "markdown",
   "id": "350cb374",
   "metadata": {
    "cq.autogen": "Add.call_graph.md"
   },
   "source": [
    "### Call Graph"
   ]
  },
  {
   "cell_type": "code",
   "execution_count": 8,
   "id": "c36a3fc4",
   "metadata": {
    "cq.autogen": "Add.call_graph.py"
   },
   "outputs": [
    {
     "data": {
      "image/svg+xml": [
       "<svg xmlns=\"http://www.w3.org/2000/svg\" xmlns:xlink=\"http://www.w3.org/1999/xlink\" width=\"475pt\" height=\"131pt\" viewBox=\"0.00 0.00 474.50 131.00\">\n",
       "<g id=\"graph0\" class=\"graph\" transform=\"scale(1 1) rotate(0) translate(4 127)\">\n",
       "<title>counts</title>\n",
       "<polygon fill=\"white\" stroke=\"transparent\" points=\"-4,4 -4,-127 470.5,-127 470.5,4 -4,4\"/>\n",
       "<!-- b0 -->\n",
       "<g id=\"node1\" class=\"node\">\n",
       "<title>b0</title>\n",
       "<polygon fill=\"none\" stroke=\"black\" points=\"433,-123 164,-123 164,-87 433,-87 433,-123\"/>\n",
       "<text text-anchor=\"start\" x=\"286.5\" y=\"-106.8\" font-family=\"Times,serif\" font-size=\"14.00\">Add</text>\n",
       "<text text-anchor=\"start\" x=\"172\" y=\"-96\" font-family=\"monospace\" font-size=\"10.00\">a_dtype=QInt(bit ..., b_dtype=QInt(bit ...</text>\n",
       "</g>\n",
       "<!-- b1 -->\n",
       "<g id=\"node2\" class=\"node\">\n",
       "<title>b1</title>\n",
       "<polygon fill=\"none\" stroke=\"black\" points=\"185,-36 0,-36 0,0 185,0 185,-36\"/>\n",
       "<text text-anchor=\"start\" x=\"77\" y=\"-19.8\" font-family=\"Times,serif\" font-size=\"14.00\">And†</text>\n",
       "<text text-anchor=\"start\" x=\"8\" y=\"-9\" font-family=\"monospace\" font-size=\"10.00\">cv1=1, cv2=1, uncompute=True</text>\n",
       "</g>\n",
       "<!-- b0&#45;&gt;b1 -->\n",
       "<g id=\"edge1\" class=\"edge\">\n",
       "<title>b0-&gt;b1</title>\n",
       "<path fill=\"none\" stroke=\"black\" d=\"M256.81,-86.8C224.04,-73.27 178.24,-54.38 143.31,-39.97\"/>\n",
       "<polygon fill=\"black\" stroke=\"black\" points=\"144.35,-36.61 133.77,-36.03 141.68,-43.08 144.35,-36.61\"/>\n",
       "<text text-anchor=\"middle\" x=\"221.5\" y=\"-57.8\" font-family=\"Times,serif\" font-size=\"14.00\">n - 1</text>\n",
       "</g>\n",
       "<!-- b2 -->\n",
       "<g id=\"node3\" class=\"node\">\n",
       "<title>b2</title>\n",
       "<polygon fill=\"none\" stroke=\"black\" points=\"394,-36 203,-36 203,0 394,0 394,-36\"/>\n",
       "<text text-anchor=\"start\" x=\"286.5\" y=\"-19.8\" font-family=\"Times,serif\" font-size=\"14.00\">And</text>\n",
       "<text text-anchor=\"start\" x=\"211\" y=\"-9\" font-family=\"monospace\" font-size=\"10.00\">cv1=1, cv2=1, uncompute=False</text>\n",
       "</g>\n",
       "<!-- b0&#45;&gt;b2 -->\n",
       "<g id=\"edge2\" class=\"edge\">\n",
       "<title>b0-&gt;b2</title>\n",
       "<path fill=\"none\" stroke=\"black\" d=\"M298.5,-86.8C298.5,-75.16 298.5,-59.55 298.5,-46.24\"/>\n",
       "<polygon fill=\"black\" stroke=\"black\" points=\"302,-46.18 298.5,-36.18 295,-46.18 302,-46.18\"/>\n",
       "<text text-anchor=\"middle\" x=\"311.5\" y=\"-57.8\" font-family=\"Times,serif\" font-size=\"14.00\">n - 1</text>\n",
       "</g>\n",
       "<!-- b3 -->\n",
       "<g id=\"node4\" class=\"node\">\n",
       "<title>b3</title>\n",
       "<polygon fill=\"none\" stroke=\"black\" points=\"466.5,-36 412.5,-36 412.5,0 466.5,0 466.5,-36\"/>\n",
       "<text text-anchor=\"start\" x=\"421\" y=\"-14.3\" font-family=\"Times,serif\" font-size=\"14.00\">CNOT</text>\n",
       "</g>\n",
       "<!-- b0&#45;&gt;b3 -->\n",
       "<g id=\"edge3\" class=\"edge\">\n",
       "<title>b0-&gt;b3</title>\n",
       "<path fill=\"none\" stroke=\"black\" d=\"M327.03,-86.8C349.15,-73.46 379.94,-54.91 403.71,-40.58\"/>\n",
       "<polygon fill=\"black\" stroke=\"black\" points=\"405.69,-43.47 412.44,-35.31 402.07,-37.48 405.69,-43.47\"/>\n",
       "<text text-anchor=\"middle\" x=\"396\" y=\"-57.8\" font-family=\"Times,serif\" font-size=\"14.00\">6⋅n - 9</text>\n",
       "</g>\n",
       "</g>\n",
       "</svg>"
      ],
      "text/plain": [
       "<IPython.core.display.SVG object>"
      ]
     },
     "metadata": {},
     "output_type": "display_data"
    },
    {
     "data": {
      "text/markdown": [
       "#### Counts totals:\n",
       " - `And(cv1=1, cv2=1, uncompute=False)`: $\\displaystyle n - 1$\n",
       " - `And(cv1=1, cv2=1, uncompute=True)`: $\\displaystyle n - 1$\n",
       " - `CNOT()`: $\\displaystyle 6 n - 9$"
      ],
      "text/plain": [
       "<IPython.core.display.Markdown object>"
      ]
     },
     "metadata": {},
     "output_type": "display_data"
    }
   ],
   "source": [
    "from qualtran.resource_counting.generalizers import ignore_split_join\n",
    "add_symb_g, add_symb_sigma = add_symb.call_graph(max_depth=1, generalizer=ignore_split_join)\n",
    "show_call_graph(add_symb_g)\n",
    "show_counts_sigma(add_symb_sigma)"
   ]
  },
  {
   "cell_type": "markdown",
   "id": "ffc76cc5",
   "metadata": {
    "cq.autogen": "OutOfPlaceAdder.bloq_doc.md"
   },
   "source": [
    "## `OutOfPlaceAdder`\n",
    "An n-bit addition gate.\n",
    "\n",
    "Implements $U|a\\rangle|b\\rangle 0\\rangle \\rightarrow |a\\rangle|b\\rangle|a+b\\rangle$\n",
    "using $4n - 4 T$ gates. Uncomputation requires 0 T-gates.\n",
    "\n",
    "#### Parameters\n",
    " - `bitsize`: Number of bits used to represent each input integer. The allocated output register is of size `bitsize+1` so it has enough space to hold the sum of `a+b`. \n",
    "\n",
    "#### Registers\n",
    " - `a`: A bitsize-sized input register (register a above).\n",
    " - `b`: A bitsize-sized input register (register b above).\n",
    " - `c`: A bitize+1-sized LEFT/RIGHT register depending on whether the gate adjoint or not. \n",
    "\n",
    "#### References\n",
    " - [Halving the cost of quantum addition](https://arxiv.org/abs/1709.06648). \n"
   ]
  },
  {
   "cell_type": "code",
   "execution_count": 9,
   "id": "c2450d62",
   "metadata": {
    "cq.autogen": "OutOfPlaceAdder.bloq_doc.py"
   },
   "outputs": [],
   "source": [
    "from qualtran.bloqs.arithmetic import OutOfPlaceAdder"
   ]
  },
  {
   "cell_type": "markdown",
   "id": "b5c79e25",
   "metadata": {
    "cq.autogen": "OutOfPlaceAdder.example_instances.md"
   },
   "source": [
    "### Example Instances"
   ]
  },
  {
   "cell_type": "code",
   "execution_count": 10,
   "id": "e31acd2b",
   "metadata": {
    "cq.autogen": "OutOfPlaceAdder.add_oop_symb"
   },
   "outputs": [],
   "source": [
    "n = sympy.Symbol('n')\n",
    "add_oop_symb = OutOfPlaceAdder(bitsize=n)"
   ]
  },
  {
   "cell_type": "code",
   "execution_count": 11,
   "id": "ef8871a6",
   "metadata": {
    "cq.autogen": "OutOfPlaceAdder.add_oop_small"
   },
   "outputs": [],
   "source": [
    "add_oop_small = OutOfPlaceAdder(bitsize=4)"
   ]
  },
  {
   "cell_type": "code",
   "execution_count": 12,
   "id": "e57b8c8d",
   "metadata": {
    "cq.autogen": "OutOfPlaceAdder.add_oop_large"
   },
   "outputs": [],
   "source": [
    "add_oop_large = OutOfPlaceAdder(bitsize=64)"
   ]
  },
  {
   "cell_type": "markdown",
   "id": "01915f46",
   "metadata": {
    "cq.autogen": "OutOfPlaceAdder.graphical_signature.md"
   },
   "source": [
    "#### Graphical Signature"
   ]
  },
  {
   "cell_type": "code",
   "execution_count": 13,
   "id": "d117e345",
   "metadata": {
    "cq.autogen": "OutOfPlaceAdder.graphical_signature.py"
   },
   "outputs": [
    {
     "data": {
      "application/vnd.jupyter.widget-view+json": {
       "model_id": "d48064be9508463d83b513e9bc5beca2",
       "version_major": 2,
       "version_minor": 0
      },
      "text/plain": [
       "HBox(children=(Output(outputs=({'output_type': 'display_data', 'data': {'text/plain': '<IPython.core.display.M…"
      ]
     },
     "metadata": {},
     "output_type": "display_data"
    }
   ],
   "source": [
    "from qualtran.drawing import show_bloqs\n",
    "show_bloqs([add_oop_symb, add_oop_small, add_oop_large],\n",
    "           ['`add_oop_symb`', '`add_oop_small`', '`add_oop_large`'])"
   ]
  },
  {
   "cell_type": "markdown",
   "id": "3b6469e0",
   "metadata": {
    "cq.autogen": "OutOfPlaceAdder.call_graph.md"
   },
   "source": [
    "### Call Graph"
   ]
  },
  {
   "cell_type": "code",
   "execution_count": 14,
   "id": "ff84301f",
   "metadata": {
    "cq.autogen": "OutOfPlaceAdder.call_graph.py"
   },
   "outputs": [
    {
     "data": {
      "image/svg+xml": [
       "<svg xmlns=\"http://www.w3.org/2000/svg\" xmlns:xlink=\"http://www.w3.org/1999/xlink\" width=\"328pt\" height=\"131pt\" viewBox=\"0.00 0.00 327.50 131.00\">\n",
       "<g id=\"graph0\" class=\"graph\" transform=\"scale(1 1) rotate(0) translate(4 127)\">\n",
       "<title>counts</title>\n",
       "<polygon fill=\"white\" stroke=\"transparent\" points=\"-4,4 -4,-127 323.5,-127 323.5,4 -4,4\"/>\n",
       "<!-- b0 -->\n",
       "<g id=\"node1\" class=\"node\">\n",
       "<title>b0</title>\n",
       "<polygon fill=\"none\" stroke=\"black\" points=\"228.5,-123 49.5,-123 49.5,-87 228.5,-87 228.5,-123\"/>\n",
       "<text text-anchor=\"start\" x=\"90\" y=\"-106.8\" font-family=\"Times,serif\" font-size=\"14.00\">OutOfPlaceAdder</text>\n",
       "<text text-anchor=\"start\" x=\"57.5\" y=\"-96\" font-family=\"monospace\" font-size=\"10.00\">bitsize=n, is_adjoint=False</text>\n",
       "</g>\n",
       "<!-- b1 -->\n",
       "<g id=\"node2\" class=\"node\">\n",
       "<title>b1</title>\n",
       "<polygon fill=\"none\" stroke=\"black\" points=\"110,-36 0,-36 0,0 110,0 110,-36\"/>\n",
       "<text text-anchor=\"start\" x=\"8\" y=\"-19.8\" font-family=\"Times,serif\" font-size=\"14.00\">ArbitraryClifford</text>\n",
       "<text text-anchor=\"start\" x=\"45.5\" y=\"-9\" font-family=\"monospace\" font-size=\"10.00\">n=2</text>\n",
       "</g>\n",
       "<!-- b0&#45;&gt;b1 -->\n",
       "<g id=\"edge1\" class=\"edge\">\n",
       "<title>b0-&gt;b1</title>\n",
       "<path fill=\"none\" stroke=\"black\" d=\"M122,-86.8C109.7,-74.36 92.91,-57.36 79.22,-43.5\"/>\n",
       "<polygon fill=\"black\" stroke=\"black\" points=\"81.49,-40.83 71.97,-36.18 76.51,-45.75 81.49,-40.83\"/>\n",
       "<text text-anchor=\"middle\" x=\"112.5\" y=\"-57.8\" font-family=\"Times,serif\" font-size=\"14.00\">5⋅n</text>\n",
       "</g>\n",
       "<!-- b2 -->\n",
       "<g id=\"node3\" class=\"node\">\n",
       "<title>b2</title>\n",
       "<polygon fill=\"none\" stroke=\"black\" points=\"319.5,-36 128.5,-36 128.5,0 319.5,0 319.5,-36\"/>\n",
       "<text text-anchor=\"start\" x=\"212\" y=\"-19.8\" font-family=\"Times,serif\" font-size=\"14.00\">And</text>\n",
       "<text text-anchor=\"start\" x=\"136.5\" y=\"-9\" font-family=\"monospace\" font-size=\"10.00\">cv1=1, cv2=1, uncompute=False</text>\n",
       "</g>\n",
       "<!-- b0&#45;&gt;b2 -->\n",
       "<g id=\"edge2\" class=\"edge\">\n",
       "<title>b0-&gt;b2</title>\n",
       "<path fill=\"none\" stroke=\"black\" d=\"M156.2,-86.8C168.64,-74.36 185.64,-57.36 199.5,-43.5\"/>\n",
       "<polygon fill=\"black\" stroke=\"black\" points=\"202.23,-45.72 206.82,-36.18 197.28,-40.77 202.23,-45.72\"/>\n",
       "<text text-anchor=\"middle\" x=\"189.5\" y=\"-57.8\" font-family=\"Times,serif\" font-size=\"14.00\">n</text>\n",
       "</g>\n",
       "</g>\n",
       "</svg>"
      ],
      "text/plain": [
       "<IPython.core.display.SVG object>"
      ]
     },
     "metadata": {},
     "output_type": "display_data"
    },
    {
     "data": {
      "text/markdown": [
       "#### Counts totals:\n",
       " - `And(cv1=1, cv2=1, uncompute=False)`: $\\displaystyle n$\n",
       " - `ArbitraryClifford(n=2)`: $\\displaystyle 5 n$"
      ],
      "text/plain": [
       "<IPython.core.display.Markdown object>"
      ]
     },
     "metadata": {},
     "output_type": "display_data"
    }
   ],
   "source": [
    "from qualtran.resource_counting.generalizers import ignore_split_join\n",
    "add_oop_symb_g, add_oop_symb_sigma = add_oop_symb.call_graph(max_depth=1, generalizer=ignore_split_join)\n",
    "show_call_graph(add_oop_symb_g)\n",
    "show_counts_sigma(add_oop_symb_sigma)"
   ]
  },
  {
   "cell_type": "markdown",
   "id": "1df2fb29",
   "metadata": {
    "cq.autogen": "AddConstantMod.bloq_doc.md"
   },
   "source": [
    "## `AddConstantMod`\n",
    "Applies U(add, M)|x> = |(x + add) % M> if x < M else |x>.\n",
    "\n",
    "Applies modular addition to input register `|x>` given parameters `mod` and `add_val` s.t.\n",
    " 1. If integer `x` < `mod`: output is `|(x + add) % M>`\n",
    " 2. If integer `x` >= `mod`: output is `|x>`.\n",
    "\n",
    "This condition is needed to ensure that the mapping of all input basis states (i.e. input\n",
    "states |0>, |1>, ..., |2 ** bitsize - 1) to corresponding output states is bijective and thus\n",
    "the gate is reversible.\n",
    "\n",
    "Also supports controlled version of the gate by specifying a per qubit control value as a tuple\n",
    "of integers passed as `cvs`."
   ]
  },
  {
   "cell_type": "code",
   "execution_count": 15,
   "id": "5ef2dab4",
   "metadata": {
    "cq.autogen": "AddConstantMod.bloq_doc.py"
   },
   "outputs": [],
   "source": [
    "from qualtran.bloqs.arithmetic import AddConstantMod"
   ]
  },
  {
   "cell_type": "markdown",
   "id": "ed3f3c05",
   "metadata": {
    "cq.autogen": "AddConstantMod.example_instances.md"
   },
   "source": [
    "### Example Instances"
   ]
  },
  {
   "cell_type": "code",
   "execution_count": 16,
   "id": "195a8047",
   "metadata": {
    "cq.autogen": "AddConstantMod.add_k_symb"
   },
   "outputs": [],
   "source": [
    "n, m, k = sympy.symbols('n m k')\n",
    "add_k_symb = AddConstantMod(bitsize=n, mod=m, add_val=k)"
   ]
  },
  {
   "cell_type": "code",
   "execution_count": 17,
   "id": "9c3f7fb3",
   "metadata": {
    "cq.autogen": "AddConstantMod.add_k_small"
   },
   "outputs": [],
   "source": [
    "add_k_small = AddConstantMod(bitsize=4, mod=7, add_val=1)"
   ]
  },
  {
   "cell_type": "code",
   "execution_count": 18,
   "id": "bdc82bc1",
   "metadata": {
    "cq.autogen": "AddConstantMod.add_k_large"
   },
   "outputs": [],
   "source": [
    "add_k_large = AddConstantMod(bitsize=64, mod=500, add_val=23)"
   ]
  },
  {
   "cell_type": "markdown",
   "id": "b6885dbb",
   "metadata": {
    "cq.autogen": "AddConstantMod.graphical_signature.md"
   },
   "source": [
    "#### Graphical Signature"
   ]
  },
  {
   "cell_type": "code",
   "execution_count": 19,
   "id": "65773e01",
   "metadata": {
    "cq.autogen": "AddConstantMod.graphical_signature.py"
   },
   "outputs": [
    {
     "data": {
      "application/vnd.jupyter.widget-view+json": {
       "model_id": "feae247763f34990b7a177d431d401f4",
       "version_major": 2,
       "version_minor": 0
      },
      "text/plain": [
       "HBox(children=(Output(outputs=({'output_type': 'display_data', 'data': {'text/plain': '<IPython.core.display.M…"
      ]
     },
     "metadata": {},
     "output_type": "display_data"
    }
   ],
   "source": [
    "from qualtran.drawing import show_bloqs\n",
    "show_bloqs([add_k_symb, add_k_small, add_k_large],\n",
    "           ['`add_k_symb`', '`add_k_small`', '`add_k_large`'])"
   ]
  },
  {
   "cell_type": "markdown",
   "id": "1a4bf832",
   "metadata": {
    "cq.autogen": "AddConstantMod.call_graph.md"
   },
   "source": [
    "### Call Graph"
   ]
  },
  {
   "cell_type": "code",
   "execution_count": 20,
   "id": "61f1568e",
   "metadata": {
    "cq.autogen": "AddConstantMod.call_graph.py"
   },
   "outputs": [
    {
     "data": {
      "image/svg+xml": [
       "<svg xmlns=\"http://www.w3.org/2000/svg\" xmlns:xlink=\"http://www.w3.org/1999/xlink\" width=\"277pt\" height=\"131pt\" viewBox=\"0.00 0.00 277.00 131.00\">\n",
       "<g id=\"graph0\" class=\"graph\" transform=\"scale(1 1) rotate(0) translate(4 127)\">\n",
       "<title>counts</title>\n",
       "<polygon fill=\"white\" stroke=\"transparent\" points=\"-4,4 -4,-127 273,-127 273,4 -4,4\"/>\n",
       "<!-- b0 -->\n",
       "<g id=\"node1\" class=\"node\">\n",
       "<title>b0</title>\n",
       "<polygon fill=\"none\" stroke=\"black\" points=\"248,-123 21,-123 21,-87 248,-87 248,-123\"/>\n",
       "<text text-anchor=\"start\" x=\"85.5\" y=\"-106.8\" font-family=\"Times,serif\" font-size=\"14.00\">AddConstantMod</text>\n",
       "<text text-anchor=\"start\" x=\"29\" y=\"-96\" font-family=\"monospace\" font-size=\"10.00\">bitsize=n, mod=m, add_val=k, cvs=()</text>\n",
       "</g>\n",
       "<!-- b1 -->\n",
       "<g id=\"node2\" class=\"node\">\n",
       "<title>b1</title>\n",
       "<polygon fill=\"none\" stroke=\"black\" points=\"269,-36 0,-36 0,0 269,0 269,-36\"/>\n",
       "<text text-anchor=\"start\" x=\"122.5\" y=\"-19.8\" font-family=\"Times,serif\" font-size=\"14.00\">Add</text>\n",
       "<text text-anchor=\"start\" x=\"8\" y=\"-9\" font-family=\"monospace\" font-size=\"10.00\">a_dtype=QUInt(bi ..., b_dtype=QUInt(bi ...</text>\n",
       "</g>\n",
       "<!-- b0&#45;&gt;b1 -->\n",
       "<g id=\"edge1\" class=\"edge\">\n",
       "<title>b0-&gt;b1</title>\n",
       "<path fill=\"none\" stroke=\"black\" d=\"M134.5,-86.8C134.5,-75.16 134.5,-59.55 134.5,-46.24\"/>\n",
       "<polygon fill=\"black\" stroke=\"black\" points=\"138,-46.18 134.5,-36.18 131,-46.18 138,-46.18\"/>\n",
       "<text text-anchor=\"middle\" x=\"138\" y=\"-57.8\" font-family=\"Times,serif\" font-size=\"14.00\">5</text>\n",
       "</g>\n",
       "</g>\n",
       "</svg>"
      ],
      "text/plain": [
       "<IPython.core.display.SVG object>"
      ]
     },
     "metadata": {},
     "output_type": "display_data"
    },
    {
     "data": {
      "text/markdown": [
       "#### Counts totals:\n",
       " - `Add(a_dtype=QUInt(bitsize=n), b_dtype=QUInt(bitsize=n))`: 5"
      ],
      "text/plain": [
       "<IPython.core.display.Markdown object>"
      ]
     },
     "metadata": {},
     "output_type": "display_data"
    }
   ],
   "source": [
    "from qualtran.resource_counting.generalizers import ignore_split_join\n",
    "add_k_symb_g, add_k_symb_sigma = add_k_symb.call_graph(max_depth=1, generalizer=ignore_split_join)\n",
    "show_call_graph(add_k_symb_g)\n",
    "show_counts_sigma(add_k_symb_sigma)"
   ]
  },
  {
   "cell_type": "markdown",
   "id": "9449e4e9",
   "metadata": {
    "cq.autogen": "SimpleAddConstant.bloq_doc.md"
   },
   "source": [
    "## `SimpleAddConstant`\n",
    "Takes |x> to |x + k> for a classical integer `k`.\n",
    "\n",
    "Applies addition to input register `|x>` given classical integer 'k'.\n",
    "\n",
    "This is the simple version of constant addition because it involves simply converting the\n",
    "classical integer into a quantum parameter and using quantum-quantum addition as opposed to\n",
    "designing a bespoke circuit for constant addition based on the classical parameter.\n",
    "\n",
    "#### Parameters\n",
    " - `bitsize`: Number of bits used to represent each integer.\n",
    " - `k`: The classical integer value to be added to x.\n",
    " - `cvs`: A tuple of control values. Each entry specifies whether that control line is a \"positive\" control (`cv[i]=1`) or a \"negative\" control (`cv[i]=0`).\n",
    " - `signed`: A boolean condition which controls whether the x register holds a value represented in 2's Complement or Unsigned. This affects the ability to add a negative constant. \n",
    "\n",
    "#### Registers\n",
    " - `x`: A bitsize-sized input register (register x above). \n",
    "\n",
    "#### References\n",
    " - [Improved quantum circuits for elliptic curve discrete logarithms](https://arxiv.org/abs/2001.09580). Fig 2a\n"
   ]
  },
  {
   "cell_type": "code",
   "execution_count": 21,
   "id": "cd255bf9",
   "metadata": {
    "cq.autogen": "SimpleAddConstant.bloq_doc.py"
   },
   "outputs": [],
   "source": [
    "from qualtran.bloqs.arithmetic import SimpleAddConstant"
   ]
  },
  {
   "cell_type": "markdown",
   "id": "7538f9a5",
   "metadata": {
    "cq.autogen": "SimpleAddConstant.example_instances.md"
   },
   "source": [
    "### Example Instances"
   ]
  },
  {
   "cell_type": "code",
   "execution_count": 22,
   "id": "4305289f",
   "metadata": {
    "cq.autogen": "SimpleAddConstant.simple_add_k_symb"
   },
   "outputs": [],
   "source": [
    "n, k = sympy.symbols('n k')\n",
    "simple_add_k_symb = SimpleAddConstant(bitsize=n, k=k)"
   ]
  },
  {
   "cell_type": "code",
   "execution_count": 23,
   "id": "f6048819",
   "metadata": {
    "cq.autogen": "SimpleAddConstant.simple_add_k_small"
   },
   "outputs": [],
   "source": [
    "simple_add_k_small = SimpleAddConstant(bitsize=4, k=2, signed=False)"
   ]
  },
  {
   "cell_type": "code",
   "execution_count": 24,
   "id": "b67fd469",
   "metadata": {
    "cq.autogen": "SimpleAddConstant.simple_add_k_large"
   },
   "outputs": [],
   "source": [
    "simple_add_k_large = SimpleAddConstant(bitsize=64, k=-23, signed=True)"
   ]
  },
  {
   "cell_type": "markdown",
   "id": "b8b04228",
   "metadata": {
    "cq.autogen": "SimpleAddConstant.graphical_signature.md"
   },
   "source": [
    "#### Graphical Signature"
   ]
  },
  {
   "cell_type": "code",
   "execution_count": 25,
   "id": "e93e7f2e",
   "metadata": {
    "cq.autogen": "SimpleAddConstant.graphical_signature.py"
   },
   "outputs": [
    {
     "data": {
      "application/vnd.jupyter.widget-view+json": {
       "model_id": "17abbe4e6a17453f819c8d6fa9fd1306",
       "version_major": 2,
       "version_minor": 0
      },
      "text/plain": [
       "HBox(children=(Output(outputs=({'output_type': 'display_data', 'data': {'text/plain': '<IPython.core.display.M…"
      ]
     },
     "metadata": {},
     "output_type": "display_data"
    }
   ],
   "source": [
    "from qualtran.drawing import show_bloqs\n",
    "show_bloqs([simple_add_k_small, simple_add_k_large],\n",
    "           ['`simple_add_k_small`', '`simple_add_k_large`'])"
   ]
  },
  {
   "cell_type": "markdown",
   "id": "13552795",
   "metadata": {
    "cq.autogen": "SimpleAddConstant.call_graph.md"
   },
   "source": [
    "### Call Graph"
   ]
  },
  {
   "cell_type": "code",
   "execution_count": 26,
   "id": "d8d6584e",
   "metadata": {
    "cq.autogen": "SimpleAddConstant.call_graph.py"
   },
   "outputs": [
    {
     "data": {
      "image/svg+xml": [
       "<svg xmlns=\"http://www.w3.org/2000/svg\" xmlns:xlink=\"http://www.w3.org/1999/xlink\" width=\"636pt\" height=\"131pt\" viewBox=\"0.00 0.00 635.50 131.00\">\n",
       "<g id=\"graph0\" class=\"graph\" transform=\"scale(1 1) rotate(0) translate(4 127)\">\n",
       "<title>counts</title>\n",
       "<polygon fill=\"white\" stroke=\"transparent\" points=\"-4,4 -4,-127 631.5,-127 631.5,4 -4,4\"/>\n",
       "<!-- b0 -->\n",
       "<g id=\"node1\" class=\"node\">\n",
       "<title>b0</title>\n",
       "<polygon fill=\"none\" stroke=\"black\" points=\"429,-123 196,-123 196,-87 429,-87 429,-123\"/>\n",
       "<text text-anchor=\"start\" x=\"257\" y=\"-106.8\" font-family=\"Times,serif\" font-size=\"14.00\">SimpleAddConstant</text>\n",
       "<text text-anchor=\"start\" x=\"204\" y=\"-96\" font-family=\"monospace\" font-size=\"10.00\">bitsize=4, k=2, cvs=(), signed=False</text>\n",
       "</g>\n",
       "<!-- b1 -->\n",
       "<g id=\"node2\" class=\"node\">\n",
       "<title>b1</title>\n",
       "<polygon fill=\"none\" stroke=\"black\" points=\"125,-36 0,-36 0,0 125,0 125,-36\"/>\n",
       "<text text-anchor=\"start\" x=\"50\" y=\"-19.8\" font-family=\"Times,serif\" font-size=\"14.00\">Free</text>\n",
       "<text text-anchor=\"start\" x=\"8\" y=\"-9\" font-family=\"monospace\" font-size=\"10.00\">dtype=QUInt(bi ...</text>\n",
       "</g>\n",
       "<!-- b0&#45;&gt;b1 -->\n",
       "<g id=\"edge1\" class=\"edge\">\n",
       "<title>b0-&gt;b1</title>\n",
       "<path fill=\"none\" stroke=\"black\" d=\"M262.21,-86.9C221.86,-73.18 165.12,-53.89 122.42,-39.37\"/>\n",
       "<polygon fill=\"black\" stroke=\"black\" points=\"123.3,-35.98 112.71,-36.07 121.05,-42.6 123.3,-35.98\"/>\n",
       "<text text-anchor=\"middle\" x=\"206\" y=\"-57.8\" font-family=\"Times,serif\" font-size=\"14.00\">1</text>\n",
       "</g>\n",
       "<!-- b2 -->\n",
       "<g id=\"node3\" class=\"node\">\n",
       "<title>b2</title>\n",
       "<polygon fill=\"none\" stroke=\"black\" points=\"268,-36 143,-36 143,0 268,0 268,-36\"/>\n",
       "<text text-anchor=\"start\" x=\"182.5\" y=\"-19.8\" font-family=\"Times,serif\" font-size=\"14.00\">Allocate</text>\n",
       "<text text-anchor=\"start\" x=\"151\" y=\"-9\" font-family=\"monospace\" font-size=\"10.00\">dtype=QUInt(bi ...</text>\n",
       "</g>\n",
       "<!-- b0&#45;&gt;b2 -->\n",
       "<g id=\"edge2\" class=\"edge\">\n",
       "<title>b0-&gt;b2</title>\n",
       "<path fill=\"none\" stroke=\"black\" d=\"M290.85,-86.8C274.89,-74.13 253,-56.73 235.38,-42.74\"/>\n",
       "<polygon fill=\"black\" stroke=\"black\" points=\"237.13,-39.66 227.12,-36.18 232.77,-45.14 237.13,-39.66\"/>\n",
       "<text text-anchor=\"middle\" x=\"269\" y=\"-57.8\" font-family=\"Times,serif\" font-size=\"14.00\">1</text>\n",
       "</g>\n",
       "<!-- b3 -->\n",
       "<g id=\"node4\" class=\"node\">\n",
       "<title>b3</title>\n",
       "<polygon fill=\"none\" stroke=\"black\" points=\"555,-36 286,-36 286,0 555,0 555,-36\"/>\n",
       "<text text-anchor=\"start\" x=\"408.5\" y=\"-19.8\" font-family=\"Times,serif\" font-size=\"14.00\">Add</text>\n",
       "<text text-anchor=\"start\" x=\"294\" y=\"-9\" font-family=\"monospace\" font-size=\"10.00\">a_dtype=QUInt(bi ..., b_dtype=QUInt(bi ...</text>\n",
       "</g>\n",
       "<!-- b0&#45;&gt;b3 -->\n",
       "<g id=\"edge3\" class=\"edge\">\n",
       "<title>b0-&gt;b3</title>\n",
       "<path fill=\"none\" stroke=\"black\" d=\"M334.36,-86.8C350.46,-74.13 372.56,-56.73 390.34,-42.74\"/>\n",
       "<polygon fill=\"black\" stroke=\"black\" points=\"392.98,-45.11 398.68,-36.18 388.65,-39.61 392.98,-45.11\"/>\n",
       "<text text-anchor=\"middle\" x=\"377\" y=\"-57.8\" font-family=\"Times,serif\" font-size=\"14.00\">1</text>\n",
       "</g>\n",
       "<!-- b4 -->\n",
       "<g id=\"node5\" class=\"node\">\n",
       "<title>b4</title>\n",
       "<polygon fill=\"none\" stroke=\"black\" points=\"627.5,-36 573.5,-36 573.5,0 627.5,0 627.5,-36\"/>\n",
       "<text text-anchor=\"start\" x=\"582.5\" y=\"-14.3\" font-family=\"Times,serif\" font-size=\"14.00\">XGate</text>\n",
       "</g>\n",
       "<!-- b0&#45;&gt;b4 -->\n",
       "<g id=\"edge4\" class=\"edge\">\n",
       "<title>b0-&gt;b4</title>\n",
       "<path fill=\"none\" stroke=\"black\" d=\"M388.2,-86.97C438.54,-74.8 505.77,-56.92 563.5,-36 563.6,-35.96 563.7,-35.93 563.8,-35.89\"/>\n",
       "<polygon fill=\"black\" stroke=\"black\" points=\"565.23,-39.09 573.23,-32.14 562.65,-32.58 565.23,-39.09\"/>\n",
       "<text text-anchor=\"middle\" x=\"513\" y=\"-57.8\" font-family=\"Times,serif\" font-size=\"14.00\">2</text>\n",
       "</g>\n",
       "</g>\n",
       "</svg>"
      ],
      "text/plain": [
       "<IPython.core.display.SVG object>"
      ]
     },
     "metadata": {},
     "output_type": "display_data"
    },
    {
     "data": {
      "text/markdown": [
       "#### Counts totals:\n",
       " - `Add(a_dtype=QUInt(bitsize=4), b_dtype=QUInt(bitsize=4))`: 1\n",
       " - `Allocate(dtype=QUInt(bitsize=4))`: 1\n",
       " - `Free(dtype=QUInt(bitsize=4))`: 1\n",
       " - `XGate()`: 2"
      ],
      "text/plain": [
       "<IPython.core.display.Markdown object>"
      ]
     },
     "metadata": {},
     "output_type": "display_data"
    }
   ],
   "source": [
    "from qualtran.resource_counting.generalizers import ignore_split_join\n",
    "simple_add_k_small_g, simple_add_k_small_sigma = simple_add_k_small.call_graph(max_depth=1, generalizer=ignore_split_join)\n",
    "show_call_graph(simple_add_k_small_g)\n",
    "show_counts_sigma(simple_add_k_small_sigma)"
   ]
  },
  {
   "cell_type": "code",
   "execution_count": 27,
   "id": "8853ae5d",
   "metadata": {
    "cq.autogen": "Add.add_diff_size_regs"
   },
   "outputs": [],
   "source": [
    "add_diff_size_regs = Add(QUInt(bitsize=4), QUInt(bitsize=16))"
   ]
  }
 ],
 "metadata": {
  "kernelspec": {
   "display_name": "Python 3 (ipykernel)",
   "language": "python",
   "name": "python3"
  },
  "language_info": {
   "codemirror_mode": {
    "name": "ipython",
    "version": 3
   },
   "file_extension": ".py",
   "mimetype": "text/x-python",
   "name": "python",
   "nbconvert_exporter": "python",
   "pygments_lexer": "ipython3",
   "version": "3.11.8"
  },
  "widgets": {
   "application/vnd.jupyter.widget-state+json": {
    "state": {
     "03600a4540e64f60a3310cc098045469": {
      "model_module": "@jupyter-widgets/base",
      "model_module_version": "2.0.0",
      "model_name": "LayoutModel",
      "state": {
       "_model_module": "@jupyter-widgets/base",
       "_model_module_version": "2.0.0",
       "_model_name": "LayoutModel",
       "_view_count": null,
       "_view_module": "@jupyter-widgets/base",
       "_view_module_version": "2.0.0",
       "_view_name": "LayoutView",
       "align_content": null,
       "align_items": null,
       "align_self": null,
       "border_bottom": null,
       "border_left": null,
       "border_right": null,
       "border_top": null,
       "bottom": null,
       "display": null,
       "flex": null,
       "flex_flow": null,
       "grid_area": null,
       "grid_auto_columns": null,
       "grid_auto_flow": null,
       "grid_auto_rows": null,
       "grid_column": null,
       "grid_gap": null,
       "grid_row": null,
       "grid_template_areas": null,
       "grid_template_columns": null,
       "grid_template_rows": null,
       "height": null,
       "justify_content": null,
       "justify_items": null,
       "left": null,
       "margin": null,
       "max_height": null,
       "max_width": null,
       "min_height": null,
       "min_width": null,
       "object_fit": null,
       "object_position": null,
       "order": null,
       "overflow": null,
       "padding": null,
       "right": null,
       "top": null,
       "visibility": null,
       "width": null
      }
     },
     "04b5b7270205496ab5c70541eb693a81": {
      "model_module": "@jupyter-widgets/output",
      "model_module_version": "1.0.0",
      "model_name": "OutputModel",
      "state": {
       "_dom_classes": [],
       "_model_module": "@jupyter-widgets/output",
       "_model_module_version": "1.0.0",
       "_model_name": "OutputModel",
       "_view_count": null,
       "_view_module": "@jupyter-widgets/output",
       "_view_module_version": "1.0.0",
       "_view_name": "OutputView",
       "layout": "IPY_MODEL_7528d8823827460d8d713c1a9c39301a",
       "msg_id": "",
       "outputs": [
        {
         "data": {
          "text/markdown": "`add_oop_large`",
          "text/plain": "<IPython.core.display.Markdown object>"
         },
         "metadata": {},
         "output_type": "display_data"
        },
        {
         "data": {
          "image/svg+xml": "<svg xmlns=\"http://www.w3.org/2000/svg\" xmlns:xlink=\"http://www.w3.org/1999/xlink\" width=\"232pt\" height=\"152pt\" viewBox=\"0.00 0.00 232.00 152.00\">\n<g id=\"graph0\" class=\"graph\" transform=\"scale(1 1) rotate(0) translate(4 148)\">\n<title>my_graph</title>\n<polygon fill=\"white\" stroke=\"transparent\" points=\"-4,4 -4,-148 228,-148 228,4 -4,4\"/>\n<!-- a_G2 -->\n<g id=\"node1\" class=\"node\">\n<title>a_G2</title>\n<text text-anchor=\"middle\" x=\"27\" y=\"-106.3\" font-family=\"Times,serif\" font-size=\"14.00\">a</text>\n</g>\n<!-- OutOfPlaceAdder -->\n<g id=\"node3\" class=\"node\">\n<title>OutOfPlaceAdder</title>\n<polygon fill=\"none\" stroke=\"black\" points=\"91,-104 91,-121 133,-121 133,-104 91,-104\"/>\n<text text-anchor=\"start\" x=\"94\" y=\"-110\" font-family=\"Times,serif\" font-size=\"10.00\">c = a + b</text>\n<polygon fill=\"none\" stroke=\"black\" points=\"91,-83 91,-104 133,-104 133,-83 91,-83\"/>\n<text text-anchor=\"start\" x=\"108.5\" y=\"-89.8\" font-family=\"Times,serif\" font-size=\"14.00\">a</text>\n<polygon fill=\"none\" stroke=\"black\" points=\"91,-62 91,-83 133,-83 133,-62 91,-62\"/>\n<text text-anchor=\"start\" x=\"108.5\" y=\"-68.8\" font-family=\"Times,serif\" font-size=\"14.00\">b</text>\n<polygon fill=\"none\" stroke=\"black\" points=\"91,-41 91,-62 108,-62 108,-41 91,-41\"/>\n<polygon fill=\"none\" stroke=\"black\" points=\"108,-41 108,-62 133,-62 133,-41 108,-41\"/>\n<text text-anchor=\"start\" x=\"117\" y=\"-47.8\" font-family=\"Times,serif\" font-size=\"14.00\">c</text>\n</g>\n<!-- a_G2&#45;&gt;OutOfPlaceAdder -->\n<g id=\"edge1\" class=\"edge\">\n<title>a_G2:e-&gt;OutOfPlaceAdder:w</title>\n<path fill=\"none\" stroke=\"black\" d=\"M54,-110C71.22,-110 72.97,-95.23 88.98,-94.07\"/>\n<ellipse fill=\"black\" stroke=\"black\" cx=\"90\" cy=\"-94.04\" rx=\"1\" ry=\"1\"/>\n<text text-anchor=\"middle\" x=\"72.5\" y=\"-105\" font-family=\"Times,serif\" font-size=\"10.00\">64</text>\n</g>\n<!-- b_G5 -->\n<g id=\"node2\" class=\"node\">\n<title>b_G5</title>\n<text text-anchor=\"middle\" x=\"27\" y=\"-52.3\" font-family=\"Times,serif\" font-size=\"14.00\">b</text>\n</g>\n<!-- b_G5&#45;&gt;OutOfPlaceAdder -->\n<g id=\"edge2\" class=\"edge\">\n<title>b_G5:e-&gt;OutOfPlaceAdder:w</title>\n<path fill=\"none\" stroke=\"black\" d=\"M54,-56C71.22,-56 72.97,-70.77 88.98,-71.93\"/>\n<ellipse fill=\"black\" stroke=\"black\" cx=\"90\" cy=\"-71.96\" rx=\"1\" ry=\"1\"/>\n<text text-anchor=\"middle\" x=\"72.5\" y=\"-68\" font-family=\"Times,serif\" font-size=\"10.00\">64</text>\n</g>\n<!-- a_G3 -->\n<g id=\"node4\" class=\"node\">\n<title>a_G3</title>\n<text text-anchor=\"middle\" x=\"197\" y=\"-122.3\" font-family=\"Times,serif\" font-size=\"14.00\">a</text>\n</g>\n<!-- OutOfPlaceAdder&#45;&gt;a_G3 -->\n<g id=\"edge3\" class=\"edge\">\n<title>OutOfPlaceAdder:e-&gt;a_G3:w</title>\n<path fill=\"none\" stroke=\"black\" d=\"M133,-94C153.89,-94 148.72,-123.55 167.58,-125.86\"/>\n<ellipse fill=\"black\" stroke=\"black\" cx=\"169\" cy=\"-125.94\" rx=\"1\" ry=\"1\"/>\n<text text-anchor=\"middle\" x=\"151.5\" y=\"-113\" font-family=\"Times,serif\" font-size=\"10.00\">64</text>\n</g>\n<!-- b_G6 -->\n<g id=\"node5\" class=\"node\">\n<title>b_G6</title>\n<text text-anchor=\"middle\" x=\"197\" y=\"-68.3\" font-family=\"Times,serif\" font-size=\"14.00\">b</text>\n</g>\n<!-- OutOfPlaceAdder&#45;&gt;b_G6 -->\n<g id=\"edge4\" class=\"edge\">\n<title>OutOfPlaceAdder:e-&gt;b_G6:w</title>\n<path fill=\"none\" stroke=\"black\" d=\"M133,-72C148.67,-72 153.14,-72 167.77,-72\"/>\n<ellipse fill=\"black\" stroke=\"black\" cx=\"169\" cy=\"-72\" rx=\"1\" ry=\"1\"/>\n<text text-anchor=\"middle\" x=\"151.5\" y=\"-75\" font-family=\"Times,serif\" font-size=\"10.00\">64</text>\n</g>\n<!-- c_G4 -->\n<g id=\"node6\" class=\"node\">\n<title>c_G4</title>\n<text text-anchor=\"middle\" x=\"197\" y=\"-14.3\" font-family=\"Times,serif\" font-size=\"14.00\">c</text>\n</g>\n<!-- OutOfPlaceAdder&#45;&gt;c_G4 -->\n<g id=\"edge5\" class=\"edge\">\n<title>OutOfPlaceAdder:e-&gt;c_G4:w</title>\n<path fill=\"none\" stroke=\"black\" d=\"M133,-51C154.17,-51 148.47,-20.53 167.55,-18.15\"/>\n<ellipse fill=\"black\" stroke=\"black\" cx=\"169\" cy=\"-18.06\" rx=\"1\" ry=\"1\"/>\n<text text-anchor=\"middle\" x=\"151.5\" y=\"-39\" font-family=\"Times,serif\" font-size=\"10.00\">65</text>\n</g>\n</g>\n</svg>",
          "text/plain": "<IPython.core.display.SVG object>"
         },
         "metadata": {},
         "output_type": "display_data"
        }
       ],
       "tabbable": null,
       "tooltip": null
      }
     },
     "051aa605fc12436081eb0d37eb8f145f": {
      "model_module": "@jupyter-widgets/base",
      "model_module_version": "2.0.0",
      "model_name": "LayoutModel",
      "state": {
       "_model_module": "@jupyter-widgets/base",
       "_model_module_version": "2.0.0",
       "_model_name": "LayoutModel",
       "_view_count": null,
       "_view_module": "@jupyter-widgets/base",
       "_view_module_version": "2.0.0",
       "_view_name": "LayoutView",
       "align_content": null,
       "align_items": null,
       "align_self": null,
       "border_bottom": null,
       "border_left": null,
       "border_right": null,
       "border_top": null,
       "bottom": null,
       "display": null,
       "flex": null,
       "flex_flow": null,
       "grid_area": null,
       "grid_auto_columns": null,
       "grid_auto_flow": null,
       "grid_auto_rows": null,
       "grid_column": null,
       "grid_gap": null,
       "grid_row": null,
       "grid_template_areas": null,
       "grid_template_columns": null,
       "grid_template_rows": null,
       "height": null,
       "justify_content": null,
       "justify_items": null,
       "left": null,
       "margin": null,
       "max_height": null,
       "max_width": null,
       "min_height": null,
       "min_width": null,
       "object_fit": null,
       "object_position": null,
       "order": null,
       "overflow": null,
       "padding": null,
       "right": null,
       "top": null,
       "visibility": null,
       "width": null
      }
     },
     "0681343fb9c7498da214bd8d8cd8647e": {
      "model_module": "@jupyter-widgets/output",
      "model_module_version": "1.0.0",
      "model_name": "OutputModel",
      "state": {
       "_dom_classes": [],
       "_model_module": "@jupyter-widgets/output",
       "_model_module_version": "1.0.0",
       "_model_name": "OutputModel",
       "_view_count": null,
       "_view_module": "@jupyter-widgets/output",
       "_view_module_version": "1.0.0",
       "_view_name": "OutputView",
       "layout": "IPY_MODEL_b74416e32eee465c9be0d5e57c75a8d9",
       "msg_id": "",
       "outputs": [
        {
         "data": {
          "text/markdown": "`add_k_symb`",
          "text/plain": "<IPython.core.display.Markdown object>"
         },
         "metadata": {},
         "output_type": "display_data"
        },
        {
         "data": {
          "image/svg+xml": "<svg xmlns=\"http://www.w3.org/2000/svg\" xmlns:xlink=\"http://www.w3.org/1999/xlink\" width=\"243pt\" height=\"54pt\" viewBox=\"0.00 0.00 243.00 54.00\">\n<g id=\"graph0\" class=\"graph\" transform=\"scale(1 1) rotate(0) translate(4 50)\">\n<title>my_graph</title>\n<polygon fill=\"white\" stroke=\"transparent\" points=\"-4,4 -4,-50 239,-50 239,4 -4,4\"/>\n<!-- x_G1 -->\n<g id=\"node1\" class=\"node\">\n<title>x_G1</title>\n<text text-anchor=\"middle\" x=\"27\" y=\"-14.3\" font-family=\"Times,serif\" font-size=\"14.00\">x</text>\n</g>\n<!-- AddConstantMod -->\n<g id=\"node2\" class=\"node\">\n<title>AddConstantMod</title>\n<polygon fill=\"none\" stroke=\"black\" points=\"91.5,-29 91.5,-46 144.5,-46 144.5,-29 91.5,-29\"/>\n<text text-anchor=\"start\" x=\"94.5\" y=\"-35\" font-family=\"Times,serif\" font-size=\"10.00\">AddConst..</text>\n<polygon fill=\"none\" stroke=\"black\" points=\"91.5,-8 91.5,-29 144.5,-29 144.5,-8 91.5,-8\"/>\n<text text-anchor=\"start\" x=\"114.5\" y=\"-14.8\" font-family=\"Times,serif\" font-size=\"14.00\">x</text>\n</g>\n<!-- x_G1&#45;&gt;AddConstantMod -->\n<g id=\"edge1\" class=\"edge\">\n<title>x_G1:e-&gt;AddConstantMod:w</title>\n<path fill=\"none\" stroke=\"black\" d=\"M54,-18C69.67,-18 74.14,-18 88.77,-18\"/>\n<ellipse fill=\"black\" stroke=\"black\" cx=\"90\" cy=\"-18\" rx=\"1\" ry=\"1\"/>\n<text text-anchor=\"middle\" x=\"72.5\" y=\"-21\" font-family=\"Times,serif\" font-size=\"10.00\">n</text>\n</g>\n<!-- x_G2 -->\n<g id=\"node3\" class=\"node\">\n<title>x_G2</title>\n<text text-anchor=\"middle\" x=\"208\" y=\"-14.3\" font-family=\"Times,serif\" font-size=\"14.00\">x</text>\n</g>\n<!-- AddConstantMod&#45;&gt;x_G2 -->\n<g id=\"edge2\" class=\"edge\">\n<title>AddConstantMod:e-&gt;x_G2:w</title>\n<path fill=\"none\" stroke=\"black\" d=\"M144,-18C159.67,-18 164.14,-18 178.77,-18\"/>\n<ellipse fill=\"black\" stroke=\"black\" cx=\"180\" cy=\"-18\" rx=\"1\" ry=\"1\"/>\n<text text-anchor=\"middle\" x=\"162.5\" y=\"-21\" font-family=\"Times,serif\" font-size=\"10.00\">n</text>\n</g>\n</g>\n</svg>",
          "text/plain": "<IPython.core.display.SVG object>"
         },
         "metadata": {},
         "output_type": "display_data"
        }
       ],
       "tabbable": null,
       "tooltip": null
      }
     },
     "0fa13a38b07c4713b89df55eeb2d84a0": {
      "model_module": "@jupyter-widgets/base",
      "model_module_version": "2.0.0",
      "model_name": "LayoutModel",
      "state": {
       "_model_module": "@jupyter-widgets/base",
       "_model_module_version": "2.0.0",
       "_model_name": "LayoutModel",
       "_view_count": null,
       "_view_module": "@jupyter-widgets/base",
       "_view_module_version": "2.0.0",
       "_view_name": "LayoutView",
       "align_content": null,
       "align_items": null,
       "align_self": null,
       "border_bottom": null,
       "border_left": null,
       "border_right": null,
       "border_top": null,
       "bottom": null,
       "display": null,
       "flex": null,
       "flex_flow": null,
       "grid_area": null,
       "grid_auto_columns": null,
       "grid_auto_flow": null,
       "grid_auto_rows": null,
       "grid_column": null,
       "grid_gap": null,
       "grid_row": null,
       "grid_template_areas": null,
       "grid_template_columns": null,
       "grid_template_rows": null,
       "height": null,
       "justify_content": null,
       "justify_items": null,
       "left": null,
       "margin": null,
       "max_height": null,
       "max_width": null,
       "min_height": null,
       "min_width": null,
       "object_fit": null,
       "object_position": null,
       "order": null,
       "overflow": null,
       "padding": null,
       "right": null,
       "top": null,
       "visibility": null,
       "width": null
      }
     },
     "17abbe4e6a17453f819c8d6fa9fd1306": {
      "model_module": "@jupyter-widgets/controls",
      "model_module_version": "2.0.0",
      "model_name": "HBoxModel",
      "state": {
       "_dom_classes": [],
       "_model_module": "@jupyter-widgets/controls",
       "_model_module_version": "2.0.0",
       "_model_name": "HBoxModel",
       "_view_count": null,
       "_view_module": "@jupyter-widgets/controls",
       "_view_module_version": "2.0.0",
       "_view_name": "HBoxView",
       "box_style": "",
       "children": [
        "IPY_MODEL_66e03fd4f6874e5fa648c52e4524e920",
        "IPY_MODEL_880d183197ff4407a42c7a108f4e7412"
       ],
       "layout": "IPY_MODEL_0fa13a38b07c4713b89df55eeb2d84a0",
       "tabbable": null,
       "tooltip": null
      }
     },
     "21fb768f4f8c4c17bd12db9718dbb17d": {
      "model_module": "@jupyter-widgets/base",
      "model_module_version": "2.0.0",
      "model_name": "LayoutModel",
      "state": {
       "_model_module": "@jupyter-widgets/base",
       "_model_module_version": "2.0.0",
       "_model_name": "LayoutModel",
       "_view_count": null,
       "_view_module": "@jupyter-widgets/base",
       "_view_module_version": "2.0.0",
       "_view_name": "LayoutView",
       "align_content": null,
       "align_items": null,
       "align_self": null,
       "border_bottom": null,
       "border_left": null,
       "border_right": null,
       "border_top": null,
       "bottom": null,
       "display": null,
       "flex": null,
       "flex_flow": null,
       "grid_area": null,
       "grid_auto_columns": null,
       "grid_auto_flow": null,
       "grid_auto_rows": null,
       "grid_column": null,
       "grid_gap": null,
       "grid_row": null,
       "grid_template_areas": null,
       "grid_template_columns": null,
       "grid_template_rows": null,
       "height": null,
       "justify_content": null,
       "justify_items": null,
       "left": null,
       "margin": null,
       "max_height": null,
       "max_width": null,
       "min_height": null,
       "min_width": null,
       "object_fit": null,
       "object_position": null,
       "order": null,
       "overflow": null,
       "padding": null,
       "right": null,
       "top": null,
       "visibility": null,
       "width": null
      }
     },
     "2a6cb9d1c0d44dd0840f0564d9813ad6": {
      "model_module": "@jupyter-widgets/base",
      "model_module_version": "2.0.0",
      "model_name": "LayoutModel",
      "state": {
       "_model_module": "@jupyter-widgets/base",
       "_model_module_version": "2.0.0",
       "_model_name": "LayoutModel",
       "_view_count": null,
       "_view_module": "@jupyter-widgets/base",
       "_view_module_version": "2.0.0",
       "_view_name": "LayoutView",
       "align_content": null,
       "align_items": null,
       "align_self": null,
       "border_bottom": null,
       "border_left": null,
       "border_right": null,
       "border_top": null,
       "bottom": null,
       "display": null,
       "flex": null,
       "flex_flow": null,
       "grid_area": null,
       "grid_auto_columns": null,
       "grid_auto_flow": null,
       "grid_auto_rows": null,
       "grid_column": null,
       "grid_gap": null,
       "grid_row": null,
       "grid_template_areas": null,
       "grid_template_columns": null,
       "grid_template_rows": null,
       "height": null,
       "justify_content": null,
       "justify_items": null,
       "left": null,
       "margin": null,
       "max_height": null,
       "max_width": null,
       "min_height": null,
       "min_width": null,
       "object_fit": null,
       "object_position": null,
       "order": null,
       "overflow": null,
       "padding": null,
       "right": null,
       "top": null,
       "visibility": null,
       "width": null
      }
     },
     "3cbe9aff2d5d429b882234d5b031128d": {
      "model_module": "@jupyter-widgets/output",
      "model_module_version": "1.0.0",
      "model_name": "OutputModel",
      "state": {
       "_dom_classes": [],
       "_model_module": "@jupyter-widgets/output",
       "_model_module_version": "1.0.0",
       "_model_name": "OutputModel",
       "_view_count": null,
       "_view_module": "@jupyter-widgets/output",
       "_view_module_version": "1.0.0",
       "_view_name": "OutputView",
       "layout": "IPY_MODEL_21fb768f4f8c4c17bd12db9718dbb17d",
       "msg_id": "",
       "outputs": [
        {
         "data": {
          "text/markdown": "`add_large`",
          "text/plain": "<IPython.core.display.Markdown object>"
         },
         "metadata": {},
         "output_type": "display_data"
        },
        {
         "data": {
          "image/svg+xml": "<svg xmlns=\"http://www.w3.org/2000/svg\" xmlns:xlink=\"http://www.w3.org/1999/xlink\" width=\"212pt\" height=\"98pt\" viewBox=\"0.00 0.00 212.00 98.00\">\n<g id=\"graph0\" class=\"graph\" transform=\"scale(1 1) rotate(0) translate(4 94)\">\n<title>my_graph</title>\n<polygon fill=\"white\" stroke=\"transparent\" points=\"-4,4 -4,-94 208,-94 208,4 -4,4\"/>\n<!-- a_G3 -->\n<g id=\"node1\" class=\"node\">\n<title>a_G3</title>\n<text text-anchor=\"middle\" x=\"27\" y=\"-68.3\" font-family=\"Times,serif\" font-size=\"14.00\">a</text>\n</g>\n<!-- Add -->\n<g id=\"node3\" class=\"node\">\n<title>Add</title>\n<polygon fill=\"none\" stroke=\"black\" points=\"91,-66 91,-83 113,-83 113,-66 91,-66\"/>\n<text text-anchor=\"start\" x=\"94\" y=\"-72\" font-family=\"Times,serif\" font-size=\"10.00\">a+b</text>\n<polygon fill=\"none\" stroke=\"black\" points=\"91,-45 91,-66 113,-66 113,-45 91,-45\"/>\n<text text-anchor=\"start\" x=\"98.5\" y=\"-51.8\" font-family=\"Times,serif\" font-size=\"14.00\">a</text>\n<polygon fill=\"none\" stroke=\"black\" points=\"91,-24 91,-45 113,-45 113,-24 91,-24\"/>\n<text text-anchor=\"start\" x=\"98.5\" y=\"-30.8\" font-family=\"Times,serif\" font-size=\"14.00\">b</text>\n</g>\n<!-- a_G3&#45;&gt;Add -->\n<g id=\"edge1\" class=\"edge\">\n<title>a_G3:e-&gt;Add:w</title>\n<path fill=\"none\" stroke=\"black\" d=\"M54,-72C71.22,-72 72.97,-57.23 88.98,-56.07\"/>\n<ellipse fill=\"black\" stroke=\"black\" cx=\"90\" cy=\"-56.04\" rx=\"1\" ry=\"1\"/>\n<text text-anchor=\"middle\" x=\"72.5\" y=\"-67\" font-family=\"Times,serif\" font-size=\"10.00\">64</text>\n</g>\n<!-- b_G1 -->\n<g id=\"node2\" class=\"node\">\n<title>b_G1</title>\n<text text-anchor=\"middle\" x=\"27\" y=\"-14.3\" font-family=\"Times,serif\" font-size=\"14.00\">b</text>\n</g>\n<!-- b_G1&#45;&gt;Add -->\n<g id=\"edge2\" class=\"edge\">\n<title>b_G1:e-&gt;Add:w</title>\n<path fill=\"none\" stroke=\"black\" d=\"M54,-18C71.22,-18 72.97,-32.77 88.98,-33.93\"/>\n<ellipse fill=\"black\" stroke=\"black\" cx=\"90\" cy=\"-33.96\" rx=\"1\" ry=\"1\"/>\n<text text-anchor=\"middle\" x=\"72.5\" y=\"-29\" font-family=\"Times,serif\" font-size=\"10.00\">64</text>\n</g>\n<!-- a_G4 -->\n<g id=\"node4\" class=\"node\">\n<title>a_G4</title>\n<text text-anchor=\"middle\" x=\"177\" y=\"-68.3\" font-family=\"Times,serif\" font-size=\"14.00\">a</text>\n</g>\n<!-- Add&#45;&gt;a_G4 -->\n<g id=\"edge3\" class=\"edge\">\n<title>Add:e-&gt;a_G4:w</title>\n<path fill=\"none\" stroke=\"black\" d=\"M113,-56C130.22,-56 131.97,-70.77 147.98,-71.93\"/>\n<ellipse fill=\"black\" stroke=\"black\" cx=\"149\" cy=\"-71.96\" rx=\"1\" ry=\"1\"/>\n<text text-anchor=\"middle\" x=\"131.5\" y=\"-67\" font-family=\"Times,serif\" font-size=\"10.00\">64</text>\n</g>\n<!-- b_G2 -->\n<g id=\"node5\" class=\"node\">\n<title>b_G2</title>\n<text text-anchor=\"middle\" x=\"177\" y=\"-14.3\" font-family=\"Times,serif\" font-size=\"14.00\">b</text>\n</g>\n<!-- Add&#45;&gt;b_G2 -->\n<g id=\"edge4\" class=\"edge\">\n<title>Add:e-&gt;b_G2:w</title>\n<path fill=\"none\" stroke=\"black\" d=\"M113,-34C130.22,-34 131.97,-19.23 147.98,-18.07\"/>\n<ellipse fill=\"black\" stroke=\"black\" cx=\"149\" cy=\"-18.04\" rx=\"1\" ry=\"1\"/>\n<text text-anchor=\"middle\" x=\"131.5\" y=\"-29\" font-family=\"Times,serif\" font-size=\"10.00\">64</text>\n</g>\n</g>\n</svg>",
          "text/plain": "<IPython.core.display.SVG object>"
         },
         "metadata": {},
         "output_type": "display_data"
        }
       ],
       "tabbable": null,
       "tooltip": null
      }
     },
     "3e179c00245f43bdab79f3273445b8c8": {
      "model_module": "@jupyter-widgets/output",
      "model_module_version": "1.0.0",
      "model_name": "OutputModel",
      "state": {
       "_dom_classes": [],
       "_model_module": "@jupyter-widgets/output",
       "_model_module_version": "1.0.0",
       "_model_name": "OutputModel",
       "_view_count": null,
       "_view_module": "@jupyter-widgets/output",
       "_view_module_version": "1.0.0",
       "_view_name": "OutputView",
       "layout": "IPY_MODEL_5d9fa28be45440a682dac116419aae67",
       "msg_id": "",
       "outputs": [
        {
         "data": {
          "text/markdown": "`add_k_small`",
          "text/plain": "<IPython.core.display.Markdown object>"
         },
         "metadata": {},
         "output_type": "display_data"
        },
        {
         "data": {
          "image/svg+xml": "<svg xmlns=\"http://www.w3.org/2000/svg\" xmlns:xlink=\"http://www.w3.org/1999/xlink\" width=\"243pt\" height=\"54pt\" viewBox=\"0.00 0.00 243.00 54.00\">\n<g id=\"graph0\" class=\"graph\" transform=\"scale(1 1) rotate(0) translate(4 50)\">\n<title>my_graph</title>\n<polygon fill=\"white\" stroke=\"transparent\" points=\"-4,4 -4,-50 239,-50 239,4 -4,4\"/>\n<!-- x_G1 -->\n<g id=\"node1\" class=\"node\">\n<title>x_G1</title>\n<text text-anchor=\"middle\" x=\"27\" y=\"-14.3\" font-family=\"Times,serif\" font-size=\"14.00\">x</text>\n</g>\n<!-- AddConstantMod -->\n<g id=\"node2\" class=\"node\">\n<title>AddConstantMod</title>\n<polygon fill=\"none\" stroke=\"black\" points=\"91.5,-29 91.5,-46 144.5,-46 144.5,-29 91.5,-29\"/>\n<text text-anchor=\"start\" x=\"94.5\" y=\"-35\" font-family=\"Times,serif\" font-size=\"10.00\">AddConst..</text>\n<polygon fill=\"none\" stroke=\"black\" points=\"91.5,-8 91.5,-29 144.5,-29 144.5,-8 91.5,-8\"/>\n<text text-anchor=\"start\" x=\"114.5\" y=\"-14.8\" font-family=\"Times,serif\" font-size=\"14.00\">x</text>\n</g>\n<!-- x_G1&#45;&gt;AddConstantMod -->\n<g id=\"edge1\" class=\"edge\">\n<title>x_G1:e-&gt;AddConstantMod:w</title>\n<path fill=\"none\" stroke=\"black\" d=\"M54,-18C69.67,-18 74.14,-18 88.77,-18\"/>\n<ellipse fill=\"black\" stroke=\"black\" cx=\"90\" cy=\"-18\" rx=\"1\" ry=\"1\"/>\n<text text-anchor=\"middle\" x=\"72.5\" y=\"-21\" font-family=\"Times,serif\" font-size=\"10.00\">4</text>\n</g>\n<!-- x_G2 -->\n<g id=\"node3\" class=\"node\">\n<title>x_G2</title>\n<text text-anchor=\"middle\" x=\"208\" y=\"-14.3\" font-family=\"Times,serif\" font-size=\"14.00\">x</text>\n</g>\n<!-- AddConstantMod&#45;&gt;x_G2 -->\n<g id=\"edge2\" class=\"edge\">\n<title>AddConstantMod:e-&gt;x_G2:w</title>\n<path fill=\"none\" stroke=\"black\" d=\"M144,-18C159.67,-18 164.14,-18 178.77,-18\"/>\n<ellipse fill=\"black\" stroke=\"black\" cx=\"180\" cy=\"-18\" rx=\"1\" ry=\"1\"/>\n<text text-anchor=\"middle\" x=\"162.5\" y=\"-21\" font-family=\"Times,serif\" font-size=\"10.00\">4</text>\n</g>\n</g>\n</svg>",
          "text/plain": "<IPython.core.display.SVG object>"
         },
         "metadata": {},
         "output_type": "display_data"
        }
       ],
       "tabbable": null,
       "tooltip": null
      }
     },
     "473ac7c56e7046fea3929466de9b281b": {
      "model_module": "@jupyter-widgets/base",
      "model_module_version": "2.0.0",
      "model_name": "LayoutModel",
      "state": {
       "_model_module": "@jupyter-widgets/base",
       "_model_module_version": "2.0.0",
       "_model_name": "LayoutModel",
       "_view_count": null,
       "_view_module": "@jupyter-widgets/base",
       "_view_module_version": "2.0.0",
       "_view_name": "LayoutView",
       "align_content": null,
       "align_items": null,
       "align_self": null,
       "border_bottom": null,
       "border_left": null,
       "border_right": null,
       "border_top": null,
       "bottom": null,
       "display": null,
       "flex": null,
       "flex_flow": null,
       "grid_area": null,
       "grid_auto_columns": null,
       "grid_auto_flow": null,
       "grid_auto_rows": null,
       "grid_column": null,
       "grid_gap": null,
       "grid_row": null,
       "grid_template_areas": null,
       "grid_template_columns": null,
       "grid_template_rows": null,
       "height": null,
       "justify_content": null,
       "justify_items": null,
       "left": null,
       "margin": null,
       "max_height": null,
       "max_width": null,
       "min_height": null,
       "min_width": null,
       "object_fit": null,
       "object_position": null,
       "order": null,
       "overflow": null,
       "padding": null,
       "right": null,
       "top": null,
       "visibility": null,
       "width": null
      }
     },
     "5656381f154e44baa16025b243619bea": {
      "model_module": "@jupyter-widgets/output",
      "model_module_version": "1.0.0",
      "model_name": "OutputModel",
      "state": {
       "_dom_classes": [],
       "_model_module": "@jupyter-widgets/output",
       "_model_module_version": "1.0.0",
       "_model_name": "OutputModel",
       "_view_count": null,
       "_view_module": "@jupyter-widgets/output",
       "_view_module_version": "1.0.0",
       "_view_name": "OutputView",
       "layout": "IPY_MODEL_051aa605fc12436081eb0d37eb8f145f",
       "msg_id": "",
       "outputs": [
        {
         "data": {
          "text/markdown": "`add_diff_size_regs`",
          "text/plain": "<IPython.core.display.Markdown object>"
         },
         "metadata": {},
         "output_type": "display_data"
        },
        {
         "data": {
          "image/svg+xml": "<svg xmlns=\"http://www.w3.org/2000/svg\" xmlns:xlink=\"http://www.w3.org/1999/xlink\" width=\"212pt\" height=\"98pt\" viewBox=\"0.00 0.00 212.00 98.00\">\n<g id=\"graph0\" class=\"graph\" transform=\"scale(1 1) rotate(0) translate(4 94)\">\n<title>my_graph</title>\n<polygon fill=\"white\" stroke=\"transparent\" points=\"-4,4 -4,-94 208,-94 208,4 -4,4\"/>\n<!-- a_G4 -->\n<g id=\"node1\" class=\"node\">\n<title>a_G4</title>\n<text text-anchor=\"middle\" x=\"27\" y=\"-68.3\" font-family=\"Times,serif\" font-size=\"14.00\">a</text>\n</g>\n<!-- Add -->\n<g id=\"node3\" class=\"node\">\n<title>Add</title>\n<polygon fill=\"none\" stroke=\"black\" points=\"91,-66 91,-83 113,-83 113,-66 91,-66\"/>\n<text text-anchor=\"start\" x=\"94\" y=\"-72\" font-family=\"Times,serif\" font-size=\"10.00\">a+b</text>\n<polygon fill=\"none\" stroke=\"black\" points=\"91,-45 91,-66 113,-66 113,-45 91,-45\"/>\n<text text-anchor=\"start\" x=\"98.5\" y=\"-51.8\" font-family=\"Times,serif\" font-size=\"14.00\">a</text>\n<polygon fill=\"none\" stroke=\"black\" points=\"91,-24 91,-45 113,-45 113,-24 91,-24\"/>\n<text text-anchor=\"start\" x=\"98.5\" y=\"-30.8\" font-family=\"Times,serif\" font-size=\"14.00\">b</text>\n</g>\n<!-- a_G4&#45;&gt;Add -->\n<g id=\"edge1\" class=\"edge\">\n<title>a_G4:e-&gt;Add:w</title>\n<path fill=\"none\" stroke=\"black\" d=\"M54,-72C71.22,-72 72.97,-57.23 88.98,-56.07\"/>\n<ellipse fill=\"black\" stroke=\"black\" cx=\"90\" cy=\"-56.04\" rx=\"1\" ry=\"1\"/>\n<text text-anchor=\"middle\" x=\"72.5\" y=\"-67\" font-family=\"Times,serif\" font-size=\"10.00\">4</text>\n</g>\n<!-- b_G0 -->\n<g id=\"node2\" class=\"node\">\n<title>b_G0</title>\n<text text-anchor=\"middle\" x=\"27\" y=\"-14.3\" font-family=\"Times,serif\" font-size=\"14.00\">b</text>\n</g>\n<!-- b_G0&#45;&gt;Add -->\n<g id=\"edge2\" class=\"edge\">\n<title>b_G0:e-&gt;Add:w</title>\n<path fill=\"none\" stroke=\"black\" d=\"M54,-18C71.22,-18 72.97,-32.77 88.98,-33.93\"/>\n<ellipse fill=\"black\" stroke=\"black\" cx=\"90\" cy=\"-33.96\" rx=\"1\" ry=\"1\"/>\n<text text-anchor=\"middle\" x=\"72.5\" y=\"-29\" font-family=\"Times,serif\" font-size=\"10.00\">16</text>\n</g>\n<!-- a_G5 -->\n<g id=\"node4\" class=\"node\">\n<title>a_G5</title>\n<text text-anchor=\"middle\" x=\"177\" y=\"-68.3\" font-family=\"Times,serif\" font-size=\"14.00\">a</text>\n</g>\n<!-- Add&#45;&gt;a_G5 -->\n<g id=\"edge3\" class=\"edge\">\n<title>Add:e-&gt;a_G5:w</title>\n<path fill=\"none\" stroke=\"black\" d=\"M113,-56C130.22,-56 131.97,-70.77 147.98,-71.93\"/>\n<ellipse fill=\"black\" stroke=\"black\" cx=\"149\" cy=\"-71.96\" rx=\"1\" ry=\"1\"/>\n<text text-anchor=\"middle\" x=\"131.5\" y=\"-67\" font-family=\"Times,serif\" font-size=\"10.00\">4</text>\n</g>\n<!-- b_G3 -->\n<g id=\"node5\" class=\"node\">\n<title>b_G3</title>\n<text text-anchor=\"middle\" x=\"177\" y=\"-14.3\" font-family=\"Times,serif\" font-size=\"14.00\">b</text>\n</g>\n<!-- Add&#45;&gt;b_G3 -->\n<g id=\"edge4\" class=\"edge\">\n<title>Add:e-&gt;b_G3:w</title>\n<path fill=\"none\" stroke=\"black\" d=\"M113,-34C130.22,-34 131.97,-19.23 147.98,-18.07\"/>\n<ellipse fill=\"black\" stroke=\"black\" cx=\"149\" cy=\"-18.04\" rx=\"1\" ry=\"1\"/>\n<text text-anchor=\"middle\" x=\"131.5\" y=\"-29\" font-family=\"Times,serif\" font-size=\"10.00\">16</text>\n</g>\n</g>\n</svg>",
          "text/plain": "<IPython.core.display.SVG object>"
         },
         "metadata": {},
         "output_type": "display_data"
        }
       ],
       "tabbable": null,
       "tooltip": null
      }
     },
     "5b100a913b4f475785ec609f3622fc69": {
      "model_module": "@jupyter-widgets/output",
      "model_module_version": "1.0.0",
      "model_name": "OutputModel",
      "state": {
       "_dom_classes": [],
       "_model_module": "@jupyter-widgets/output",
       "_model_module_version": "1.0.0",
       "_model_name": "OutputModel",
       "_view_count": null,
       "_view_module": "@jupyter-widgets/output",
       "_view_module_version": "1.0.0",
       "_view_name": "OutputView",
       "layout": "IPY_MODEL_fd930913fec34a0b966af5f4adce0cb4",
       "msg_id": "",
       "outputs": [
        {
         "data": {
          "text/markdown": "`add_symb`",
          "text/plain": "<IPython.core.display.Markdown object>"
         },
         "metadata": {},
         "output_type": "display_data"
        },
        {
         "data": {
          "image/svg+xml": "<svg xmlns=\"http://www.w3.org/2000/svg\" xmlns:xlink=\"http://www.w3.org/1999/xlink\" width=\"212pt\" height=\"98pt\" viewBox=\"0.00 0.00 212.00 98.00\">\n<g id=\"graph0\" class=\"graph\" transform=\"scale(1 1) rotate(0) translate(4 94)\">\n<title>my_graph</title>\n<polygon fill=\"white\" stroke=\"transparent\" points=\"-4,4 -4,-94 208,-94 208,4 -4,4\"/>\n<!-- a_G1 -->\n<g id=\"node1\" class=\"node\">\n<title>a_G1</title>\n<text text-anchor=\"middle\" x=\"27\" y=\"-68.3\" font-family=\"Times,serif\" font-size=\"14.00\">a</text>\n</g>\n<!-- Add -->\n<g id=\"node3\" class=\"node\">\n<title>Add</title>\n<polygon fill=\"none\" stroke=\"black\" points=\"91,-66 91,-83 113,-83 113,-66 91,-66\"/>\n<text text-anchor=\"start\" x=\"94\" y=\"-72\" font-family=\"Times,serif\" font-size=\"10.00\">a+b</text>\n<polygon fill=\"none\" stroke=\"black\" points=\"91,-45 91,-66 113,-66 113,-45 91,-45\"/>\n<text text-anchor=\"start\" x=\"98.5\" y=\"-51.8\" font-family=\"Times,serif\" font-size=\"14.00\">a</text>\n<polygon fill=\"none\" stroke=\"black\" points=\"91,-24 91,-45 113,-45 113,-24 91,-24\"/>\n<text text-anchor=\"start\" x=\"98.5\" y=\"-30.8\" font-family=\"Times,serif\" font-size=\"14.00\">b</text>\n</g>\n<!-- a_G1&#45;&gt;Add -->\n<g id=\"edge1\" class=\"edge\">\n<title>a_G1:e-&gt;Add:w</title>\n<path fill=\"none\" stroke=\"black\" d=\"M54,-72C71.22,-72 72.97,-57.23 88.98,-56.07\"/>\n<ellipse fill=\"black\" stroke=\"black\" cx=\"90\" cy=\"-56.04\" rx=\"1\" ry=\"1\"/>\n<text text-anchor=\"middle\" x=\"72.5\" y=\"-67\" font-family=\"Times,serif\" font-size=\"10.00\">n</text>\n</g>\n<!-- b_G3 -->\n<g id=\"node2\" class=\"node\">\n<title>b_G3</title>\n<text text-anchor=\"middle\" x=\"27\" y=\"-14.3\" font-family=\"Times,serif\" font-size=\"14.00\">b</text>\n</g>\n<!-- b_G3&#45;&gt;Add -->\n<g id=\"edge2\" class=\"edge\">\n<title>b_G3:e-&gt;Add:w</title>\n<path fill=\"none\" stroke=\"black\" d=\"M54,-18C71.22,-18 72.97,-32.77 88.98,-33.93\"/>\n<ellipse fill=\"black\" stroke=\"black\" cx=\"90\" cy=\"-33.96\" rx=\"1\" ry=\"1\"/>\n<text text-anchor=\"middle\" x=\"72.5\" y=\"-29\" font-family=\"Times,serif\" font-size=\"10.00\">n</text>\n</g>\n<!-- a_G2 -->\n<g id=\"node4\" class=\"node\">\n<title>a_G2</title>\n<text text-anchor=\"middle\" x=\"177\" y=\"-68.3\" font-family=\"Times,serif\" font-size=\"14.00\">a</text>\n</g>\n<!-- Add&#45;&gt;a_G2 -->\n<g id=\"edge3\" class=\"edge\">\n<title>Add:e-&gt;a_G2:w</title>\n<path fill=\"none\" stroke=\"black\" d=\"M113,-56C130.22,-56 131.97,-70.77 147.98,-71.93\"/>\n<ellipse fill=\"black\" stroke=\"black\" cx=\"149\" cy=\"-71.96\" rx=\"1\" ry=\"1\"/>\n<text text-anchor=\"middle\" x=\"131.5\" y=\"-67\" font-family=\"Times,serif\" font-size=\"10.00\">n</text>\n</g>\n<!-- b_G4 -->\n<g id=\"node5\" class=\"node\">\n<title>b_G4</title>\n<text text-anchor=\"middle\" x=\"177\" y=\"-14.3\" font-family=\"Times,serif\" font-size=\"14.00\">b</text>\n</g>\n<!-- Add&#45;&gt;b_G4 -->\n<g id=\"edge4\" class=\"edge\">\n<title>Add:e-&gt;b_G4:w</title>\n<path fill=\"none\" stroke=\"black\" d=\"M113,-34C130.22,-34 131.97,-19.23 147.98,-18.07\"/>\n<ellipse fill=\"black\" stroke=\"black\" cx=\"149\" cy=\"-18.04\" rx=\"1\" ry=\"1\"/>\n<text text-anchor=\"middle\" x=\"131.5\" y=\"-29\" font-family=\"Times,serif\" font-size=\"10.00\">n</text>\n</g>\n</g>\n</svg>",
          "text/plain": "<IPython.core.display.SVG object>"
         },
         "metadata": {},
         "output_type": "display_data"
        }
       ],
       "tabbable": null,
       "tooltip": null
      }
     },
     "5d9fa28be45440a682dac116419aae67": {
      "model_module": "@jupyter-widgets/base",
      "model_module_version": "2.0.0",
      "model_name": "LayoutModel",
      "state": {
       "_model_module": "@jupyter-widgets/base",
       "_model_module_version": "2.0.0",
       "_model_name": "LayoutModel",
       "_view_count": null,
       "_view_module": "@jupyter-widgets/base",
       "_view_module_version": "2.0.0",
       "_view_name": "LayoutView",
       "align_content": null,
       "align_items": null,
       "align_self": null,
       "border_bottom": null,
       "border_left": null,
       "border_right": null,
       "border_top": null,
       "bottom": null,
       "display": null,
       "flex": null,
       "flex_flow": null,
       "grid_area": null,
       "grid_auto_columns": null,
       "grid_auto_flow": null,
       "grid_auto_rows": null,
       "grid_column": null,
       "grid_gap": null,
       "grid_row": null,
       "grid_template_areas": null,
       "grid_template_columns": null,
       "grid_template_rows": null,
       "height": null,
       "justify_content": null,
       "justify_items": null,
       "left": null,
       "margin": null,
       "max_height": null,
       "max_width": null,
       "min_height": null,
       "min_width": null,
       "object_fit": null,
       "object_position": null,
       "order": null,
       "overflow": null,
       "padding": null,
       "right": null,
       "top": null,
       "visibility": null,
       "width": null
      }
     },
     "66e03fd4f6874e5fa648c52e4524e920": {
      "model_module": "@jupyter-widgets/output",
      "model_module_version": "1.0.0",
      "model_name": "OutputModel",
      "state": {
       "_dom_classes": [],
       "_model_module": "@jupyter-widgets/output",
       "_model_module_version": "1.0.0",
       "_model_name": "OutputModel",
       "_view_count": null,
       "_view_module": "@jupyter-widgets/output",
       "_view_module_version": "1.0.0",
       "_view_name": "OutputView",
       "layout": "IPY_MODEL_d956b01406724b4dbcedeea39434c70c",
       "msg_id": "",
       "outputs": [
        {
         "data": {
          "text/markdown": "`simple_add_k_small`",
          "text/plain": "<IPython.core.display.Markdown object>"
         },
         "metadata": {},
         "output_type": "display_data"
        },
        {
         "data": {
          "image/svg+xml": "<svg xmlns=\"http://www.w3.org/2000/svg\" xmlns:xlink=\"http://www.w3.org/1999/xlink\" width=\"224pt\" height=\"54pt\" viewBox=\"0.00 0.00 224.00 54.00\">\n<g id=\"graph0\" class=\"graph\" transform=\"scale(1 1) rotate(0) translate(4 50)\">\n<title>my_graph</title>\n<polygon fill=\"white\" stroke=\"transparent\" points=\"-4,4 -4,-50 220,-50 220,4 -4,4\"/>\n<!-- x_G0 -->\n<g id=\"node1\" class=\"node\">\n<title>x_G0</title>\n<text text-anchor=\"middle\" x=\"27\" y=\"-14.3\" font-family=\"Times,serif\" font-size=\"14.00\">x</text>\n</g>\n<!-- SimpleAddConstant -->\n<g id=\"node2\" class=\"node\">\n<title>SimpleAddConstant</title>\n<polygon fill=\"none\" stroke=\"black\" points=\"91,-29 91,-46 125,-46 125,-29 91,-29\"/>\n<text text-anchor=\"start\" x=\"94\" y=\"-35\" font-family=\"Times,serif\" font-size=\"10.00\">x += 2</text>\n<polygon fill=\"none\" stroke=\"black\" points=\"91,-8 91,-29 125,-29 125,-8 91,-8\"/>\n<text text-anchor=\"start\" x=\"104.5\" y=\"-14.8\" font-family=\"Times,serif\" font-size=\"14.00\">x</text>\n</g>\n<!-- x_G0&#45;&gt;SimpleAddConstant -->\n<g id=\"edge1\" class=\"edge\">\n<title>x_G0:e-&gt;SimpleAddConstant:w</title>\n<path fill=\"none\" stroke=\"black\" d=\"M54,-18C69.67,-18 74.14,-18 88.77,-18\"/>\n<ellipse fill=\"black\" stroke=\"black\" cx=\"90\" cy=\"-18\" rx=\"1\" ry=\"1\"/>\n<text text-anchor=\"middle\" x=\"72.5\" y=\"-21\" font-family=\"Times,serif\" font-size=\"10.00\">4</text>\n</g>\n<!-- x_G1 -->\n<g id=\"node3\" class=\"node\">\n<title>x_G1</title>\n<text text-anchor=\"middle\" x=\"189\" y=\"-14.3\" font-family=\"Times,serif\" font-size=\"14.00\">x</text>\n</g>\n<!-- SimpleAddConstant&#45;&gt;x_G1 -->\n<g id=\"edge2\" class=\"edge\">\n<title>SimpleAddConstant:e-&gt;x_G1:w</title>\n<path fill=\"none\" stroke=\"black\" d=\"M125,-18C140.67,-18 145.14,-18 159.77,-18\"/>\n<ellipse fill=\"black\" stroke=\"black\" cx=\"161\" cy=\"-18\" rx=\"1\" ry=\"1\"/>\n<text text-anchor=\"middle\" x=\"143.5\" y=\"-21\" font-family=\"Times,serif\" font-size=\"10.00\">4</text>\n</g>\n</g>\n</svg>",
          "text/plain": "<IPython.core.display.SVG object>"
         },
         "metadata": {},
         "output_type": "display_data"
        }
       ],
       "tabbable": null,
       "tooltip": null
      }
     },
     "7528d8823827460d8d713c1a9c39301a": {
      "model_module": "@jupyter-widgets/base",
      "model_module_version": "2.0.0",
      "model_name": "LayoutModel",
      "state": {
       "_model_module": "@jupyter-widgets/base",
       "_model_module_version": "2.0.0",
       "_model_name": "LayoutModel",
       "_view_count": null,
       "_view_module": "@jupyter-widgets/base",
       "_view_module_version": "2.0.0",
       "_view_name": "LayoutView",
       "align_content": null,
       "align_items": null,
       "align_self": null,
       "border_bottom": null,
       "border_left": null,
       "border_right": null,
       "border_top": null,
       "bottom": null,
       "display": null,
       "flex": null,
       "flex_flow": null,
       "grid_area": null,
       "grid_auto_columns": null,
       "grid_auto_flow": null,
       "grid_auto_rows": null,
       "grid_column": null,
       "grid_gap": null,
       "grid_row": null,
       "grid_template_areas": null,
       "grid_template_columns": null,
       "grid_template_rows": null,
       "height": null,
       "justify_content": null,
       "justify_items": null,
       "left": null,
       "margin": null,
       "max_height": null,
       "max_width": null,
       "min_height": null,
       "min_width": null,
       "object_fit": null,
       "object_position": null,
       "order": null,
       "overflow": null,
       "padding": null,
       "right": null,
       "top": null,
       "visibility": null,
       "width": null
      }
     },
     "880d183197ff4407a42c7a108f4e7412": {
      "model_module": "@jupyter-widgets/output",
      "model_module_version": "1.0.0",
      "model_name": "OutputModel",
      "state": {
       "_dom_classes": [],
       "_model_module": "@jupyter-widgets/output",
       "_model_module_version": "1.0.0",
       "_model_name": "OutputModel",
       "_view_count": null,
       "_view_module": "@jupyter-widgets/output",
       "_view_module_version": "1.0.0",
       "_view_name": "OutputView",
       "layout": "IPY_MODEL_fb615d55bdcc4fc3ad1966e0de6b2c58",
       "msg_id": "",
       "outputs": [
        {
         "data": {
          "text/markdown": "`simple_add_k_large`",
          "text/plain": "<IPython.core.display.Markdown object>"
         },
         "metadata": {},
         "output_type": "display_data"
        },
        {
         "data": {
          "image/svg+xml": "<svg xmlns=\"http://www.w3.org/2000/svg\" xmlns:xlink=\"http://www.w3.org/1999/xlink\" width=\"232pt\" height=\"54pt\" viewBox=\"0.00 0.00 232.00 54.00\">\n<g id=\"graph0\" class=\"graph\" transform=\"scale(1 1) rotate(0) translate(4 50)\">\n<title>my_graph</title>\n<polygon fill=\"white\" stroke=\"transparent\" points=\"-4,4 -4,-50 228,-50 228,4 -4,4\"/>\n<!-- x_G2 -->\n<g id=\"node1\" class=\"node\">\n<title>x_G2</title>\n<text text-anchor=\"middle\" x=\"27\" y=\"-14.3\" font-family=\"Times,serif\" font-size=\"14.00\">x</text>\n</g>\n<!-- SimpleAddConstant -->\n<g id=\"node2\" class=\"node\">\n<title>SimpleAddConstant</title>\n<polygon fill=\"none\" stroke=\"black\" points=\"91,-29 91,-46 133,-46 133,-29 91,-29\"/>\n<text text-anchor=\"start\" x=\"94\" y=\"-35\" font-family=\"Times,serif\" font-size=\"10.00\">x += -23</text>\n<polygon fill=\"none\" stroke=\"black\" points=\"91,-8 91,-29 133,-29 133,-8 91,-8\"/>\n<text text-anchor=\"start\" x=\"108.5\" y=\"-14.8\" font-family=\"Times,serif\" font-size=\"14.00\">x</text>\n</g>\n<!-- x_G2&#45;&gt;SimpleAddConstant -->\n<g id=\"edge1\" class=\"edge\">\n<title>x_G2:e-&gt;SimpleAddConstant:w</title>\n<path fill=\"none\" stroke=\"black\" d=\"M54,-18C69.67,-18 74.14,-18 88.77,-18\"/>\n<ellipse fill=\"black\" stroke=\"black\" cx=\"90\" cy=\"-18\" rx=\"1\" ry=\"1\"/>\n<text text-anchor=\"middle\" x=\"72.5\" y=\"-21\" font-family=\"Times,serif\" font-size=\"10.00\">64</text>\n</g>\n<!-- x_G0 -->\n<g id=\"node3\" class=\"node\">\n<title>x_G0</title>\n<text text-anchor=\"middle\" x=\"197\" y=\"-14.3\" font-family=\"Times,serif\" font-size=\"14.00\">x</text>\n</g>\n<!-- SimpleAddConstant&#45;&gt;x_G0 -->\n<g id=\"edge2\" class=\"edge\">\n<title>SimpleAddConstant:e-&gt;x_G0:w</title>\n<path fill=\"none\" stroke=\"black\" d=\"M133,-18C148.67,-18 153.14,-18 167.77,-18\"/>\n<ellipse fill=\"black\" stroke=\"black\" cx=\"169\" cy=\"-18\" rx=\"1\" ry=\"1\"/>\n<text text-anchor=\"middle\" x=\"151.5\" y=\"-21\" font-family=\"Times,serif\" font-size=\"10.00\">64</text>\n</g>\n</g>\n</svg>",
          "text/plain": "<IPython.core.display.SVG object>"
         },
         "metadata": {},
         "output_type": "display_data"
        }
       ],
       "tabbable": null,
       "tooltip": null
      }
     },
     "b2eac52f5adc45baa630a0cc87dbbf56": {
      "model_module": "@jupyter-widgets/output",
      "model_module_version": "1.0.0",
      "model_name": "OutputModel",
      "state": {
       "_dom_classes": [],
       "_model_module": "@jupyter-widgets/output",
       "_model_module_version": "1.0.0",
       "_model_name": "OutputModel",
       "_view_count": null,
       "_view_module": "@jupyter-widgets/output",
       "_view_module_version": "1.0.0",
       "_view_name": "OutputView",
       "layout": "IPY_MODEL_03600a4540e64f60a3310cc098045469",
       "msg_id": "",
       "outputs": [
        {
         "data": {
          "text/markdown": "`add_oop_small`",
          "text/plain": "<IPython.core.display.Markdown object>"
         },
         "metadata": {},
         "output_type": "display_data"
        },
        {
         "data": {
          "image/svg+xml": "<svg xmlns=\"http://www.w3.org/2000/svg\" xmlns:xlink=\"http://www.w3.org/1999/xlink\" width=\"232pt\" height=\"152pt\" viewBox=\"0.00 0.00 232.00 152.00\">\n<g id=\"graph0\" class=\"graph\" transform=\"scale(1 1) rotate(0) translate(4 148)\">\n<title>my_graph</title>\n<polygon fill=\"white\" stroke=\"transparent\" points=\"-4,4 -4,-148 228,-148 228,4 -4,4\"/>\n<!-- a_G3 -->\n<g id=\"node1\" class=\"node\">\n<title>a_G3</title>\n<text text-anchor=\"middle\" x=\"27\" y=\"-106.3\" font-family=\"Times,serif\" font-size=\"14.00\">a</text>\n</g>\n<!-- OutOfPlaceAdder -->\n<g id=\"node3\" class=\"node\">\n<title>OutOfPlaceAdder</title>\n<polygon fill=\"none\" stroke=\"black\" points=\"91,-104 91,-121 133,-121 133,-104 91,-104\"/>\n<text text-anchor=\"start\" x=\"94\" y=\"-110\" font-family=\"Times,serif\" font-size=\"10.00\">c = a + b</text>\n<polygon fill=\"none\" stroke=\"black\" points=\"91,-83 91,-104 133,-104 133,-83 91,-83\"/>\n<text text-anchor=\"start\" x=\"108.5\" y=\"-89.8\" font-family=\"Times,serif\" font-size=\"14.00\">a</text>\n<polygon fill=\"none\" stroke=\"black\" points=\"91,-62 91,-83 133,-83 133,-62 91,-62\"/>\n<text text-anchor=\"start\" x=\"108.5\" y=\"-68.8\" font-family=\"Times,serif\" font-size=\"14.00\">b</text>\n<polygon fill=\"none\" stroke=\"black\" points=\"91,-41 91,-62 108,-62 108,-41 91,-41\"/>\n<polygon fill=\"none\" stroke=\"black\" points=\"108,-41 108,-62 133,-62 133,-41 108,-41\"/>\n<text text-anchor=\"start\" x=\"117\" y=\"-47.8\" font-family=\"Times,serif\" font-size=\"14.00\">c</text>\n</g>\n<!-- a_G3&#45;&gt;OutOfPlaceAdder -->\n<g id=\"edge1\" class=\"edge\">\n<title>a_G3:e-&gt;OutOfPlaceAdder:w</title>\n<path fill=\"none\" stroke=\"black\" d=\"M54,-110C71.22,-110 72.97,-95.23 88.98,-94.07\"/>\n<ellipse fill=\"black\" stroke=\"black\" cx=\"90\" cy=\"-94.04\" rx=\"1\" ry=\"1\"/>\n<text text-anchor=\"middle\" x=\"72.5\" y=\"-105\" font-family=\"Times,serif\" font-size=\"10.00\">4</text>\n</g>\n<!-- b_G5 -->\n<g id=\"node2\" class=\"node\">\n<title>b_G5</title>\n<text text-anchor=\"middle\" x=\"27\" y=\"-52.3\" font-family=\"Times,serif\" font-size=\"14.00\">b</text>\n</g>\n<!-- b_G5&#45;&gt;OutOfPlaceAdder -->\n<g id=\"edge2\" class=\"edge\">\n<title>b_G5:e-&gt;OutOfPlaceAdder:w</title>\n<path fill=\"none\" stroke=\"black\" d=\"M54,-56C71.22,-56 72.97,-70.77 88.98,-71.93\"/>\n<ellipse fill=\"black\" stroke=\"black\" cx=\"90\" cy=\"-71.96\" rx=\"1\" ry=\"1\"/>\n<text text-anchor=\"middle\" x=\"72.5\" y=\"-68\" font-family=\"Times,serif\" font-size=\"10.00\">4</text>\n</g>\n<!-- a_G1 -->\n<g id=\"node4\" class=\"node\">\n<title>a_G1</title>\n<text text-anchor=\"middle\" x=\"197\" y=\"-122.3\" font-family=\"Times,serif\" font-size=\"14.00\">a</text>\n</g>\n<!-- OutOfPlaceAdder&#45;&gt;a_G1 -->\n<g id=\"edge3\" class=\"edge\">\n<title>OutOfPlaceAdder:e-&gt;a_G1:w</title>\n<path fill=\"none\" stroke=\"black\" d=\"M133,-94C153.89,-94 148.72,-123.55 167.58,-125.86\"/>\n<ellipse fill=\"black\" stroke=\"black\" cx=\"169\" cy=\"-125.94\" rx=\"1\" ry=\"1\"/>\n<text text-anchor=\"middle\" x=\"151.5\" y=\"-113\" font-family=\"Times,serif\" font-size=\"10.00\">4</text>\n</g>\n<!-- b_G6 -->\n<g id=\"node5\" class=\"node\">\n<title>b_G6</title>\n<text text-anchor=\"middle\" x=\"197\" y=\"-68.3\" font-family=\"Times,serif\" font-size=\"14.00\">b</text>\n</g>\n<!-- OutOfPlaceAdder&#45;&gt;b_G6 -->\n<g id=\"edge4\" class=\"edge\">\n<title>OutOfPlaceAdder:e-&gt;b_G6:w</title>\n<path fill=\"none\" stroke=\"black\" d=\"M133,-72C148.67,-72 153.14,-72 167.77,-72\"/>\n<ellipse fill=\"black\" stroke=\"black\" cx=\"169\" cy=\"-72\" rx=\"1\" ry=\"1\"/>\n<text text-anchor=\"middle\" x=\"151.5\" y=\"-75\" font-family=\"Times,serif\" font-size=\"10.00\">4</text>\n</g>\n<!-- c_G4 -->\n<g id=\"node6\" class=\"node\">\n<title>c_G4</title>\n<text text-anchor=\"middle\" x=\"197\" y=\"-14.3\" font-family=\"Times,serif\" font-size=\"14.00\">c</text>\n</g>\n<!-- OutOfPlaceAdder&#45;&gt;c_G4 -->\n<g id=\"edge5\" class=\"edge\">\n<title>OutOfPlaceAdder:e-&gt;c_G4:w</title>\n<path fill=\"none\" stroke=\"black\" d=\"M133,-51C154.17,-51 148.47,-20.53 167.55,-18.15\"/>\n<ellipse fill=\"black\" stroke=\"black\" cx=\"169\" cy=\"-18.06\" rx=\"1\" ry=\"1\"/>\n<text text-anchor=\"middle\" x=\"151.5\" y=\"-39\" font-family=\"Times,serif\" font-size=\"10.00\">5</text>\n</g>\n</g>\n</svg>",
          "text/plain": "<IPython.core.display.SVG object>"
         },
         "metadata": {},
         "output_type": "display_data"
        }
       ],
       "tabbable": null,
       "tooltip": null
      }
     },
     "b74416e32eee465c9be0d5e57c75a8d9": {
      "model_module": "@jupyter-widgets/base",
      "model_module_version": "2.0.0",
      "model_name": "LayoutModel",
      "state": {
       "_model_module": "@jupyter-widgets/base",
       "_model_module_version": "2.0.0",
       "_model_name": "LayoutModel",
       "_view_count": null,
       "_view_module": "@jupyter-widgets/base",
       "_view_module_version": "2.0.0",
       "_view_name": "LayoutView",
       "align_content": null,
       "align_items": null,
       "align_self": null,
       "border_bottom": null,
       "border_left": null,
       "border_right": null,
       "border_top": null,
       "bottom": null,
       "display": null,
       "flex": null,
       "flex_flow": null,
       "grid_area": null,
       "grid_auto_columns": null,
       "grid_auto_flow": null,
       "grid_auto_rows": null,
       "grid_column": null,
       "grid_gap": null,
       "grid_row": null,
       "grid_template_areas": null,
       "grid_template_columns": null,
       "grid_template_rows": null,
       "height": null,
       "justify_content": null,
       "justify_items": null,
       "left": null,
       "margin": null,
       "max_height": null,
       "max_width": null,
       "min_height": null,
       "min_width": null,
       "object_fit": null,
       "object_position": null,
       "order": null,
       "overflow": null,
       "padding": null,
       "right": null,
       "top": null,
       "visibility": null,
       "width": null
      }
     },
     "c5983590b41b44a0a38815bd2884132f": {
      "model_module": "@jupyter-widgets/base",
      "model_module_version": "2.0.0",
      "model_name": "LayoutModel",
      "state": {
       "_model_module": "@jupyter-widgets/base",
       "_model_module_version": "2.0.0",
       "_model_name": "LayoutModel",
       "_view_count": null,
       "_view_module": "@jupyter-widgets/base",
       "_view_module_version": "2.0.0",
       "_view_name": "LayoutView",
       "align_content": null,
       "align_items": null,
       "align_self": null,
       "border_bottom": null,
       "border_left": null,
       "border_right": null,
       "border_top": null,
       "bottom": null,
       "display": null,
       "flex": null,
       "flex_flow": null,
       "grid_area": null,
       "grid_auto_columns": null,
       "grid_auto_flow": null,
       "grid_auto_rows": null,
       "grid_column": null,
       "grid_gap": null,
       "grid_row": null,
       "grid_template_areas": null,
       "grid_template_columns": null,
       "grid_template_rows": null,
       "height": null,
       "justify_content": null,
       "justify_items": null,
       "left": null,
       "margin": null,
       "max_height": null,
       "max_width": null,
       "min_height": null,
       "min_width": null,
       "object_fit": null,
       "object_position": null,
       "order": null,
       "overflow": null,
       "padding": null,
       "right": null,
       "top": null,
       "visibility": null,
       "width": null
      }
     },
     "c5aa5a541b374b24ac81ad4020239ef1": {
      "model_module": "@jupyter-widgets/output",
      "model_module_version": "1.0.0",
      "model_name": "OutputModel",
      "state": {
       "_dom_classes": [],
       "_model_module": "@jupyter-widgets/output",
       "_model_module_version": "1.0.0",
       "_model_name": "OutputModel",
       "_view_count": null,
       "_view_module": "@jupyter-widgets/output",
       "_view_module_version": "1.0.0",
       "_view_name": "OutputView",
       "layout": "IPY_MODEL_c5983590b41b44a0a38815bd2884132f",
       "msg_id": "",
       "outputs": [
        {
         "data": {
          "text/markdown": "`add_k_large`",
          "text/plain": "<IPython.core.display.Markdown object>"
         },
         "metadata": {},
         "output_type": "display_data"
        },
        {
         "data": {
          "image/svg+xml": "<svg xmlns=\"http://www.w3.org/2000/svg\" xmlns:xlink=\"http://www.w3.org/1999/xlink\" width=\"243pt\" height=\"54pt\" viewBox=\"0.00 0.00 243.00 54.00\">\n<g id=\"graph0\" class=\"graph\" transform=\"scale(1 1) rotate(0) translate(4 50)\">\n<title>my_graph</title>\n<polygon fill=\"white\" stroke=\"transparent\" points=\"-4,4 -4,-50 239,-50 239,4 -4,4\"/>\n<!-- x_G0 -->\n<g id=\"node1\" class=\"node\">\n<title>x_G0</title>\n<text text-anchor=\"middle\" x=\"27\" y=\"-14.3\" font-family=\"Times,serif\" font-size=\"14.00\">x</text>\n</g>\n<!-- AddConstantMod -->\n<g id=\"node2\" class=\"node\">\n<title>AddConstantMod</title>\n<polygon fill=\"none\" stroke=\"black\" points=\"91.5,-29 91.5,-46 144.5,-46 144.5,-29 91.5,-29\"/>\n<text text-anchor=\"start\" x=\"94.5\" y=\"-35\" font-family=\"Times,serif\" font-size=\"10.00\">AddConst..</text>\n<polygon fill=\"none\" stroke=\"black\" points=\"91.5,-8 91.5,-29 144.5,-29 144.5,-8 91.5,-8\"/>\n<text text-anchor=\"start\" x=\"114.5\" y=\"-14.8\" font-family=\"Times,serif\" font-size=\"14.00\">x</text>\n</g>\n<!-- x_G0&#45;&gt;AddConstantMod -->\n<g id=\"edge1\" class=\"edge\">\n<title>x_G0:e-&gt;AddConstantMod:w</title>\n<path fill=\"none\" stroke=\"black\" d=\"M54,-18C69.67,-18 74.14,-18 88.77,-18\"/>\n<ellipse fill=\"black\" stroke=\"black\" cx=\"90\" cy=\"-18\" rx=\"1\" ry=\"1\"/>\n<text text-anchor=\"middle\" x=\"72.5\" y=\"-21\" font-family=\"Times,serif\" font-size=\"10.00\">64</text>\n</g>\n<!-- x_G2 -->\n<g id=\"node3\" class=\"node\">\n<title>x_G2</title>\n<text text-anchor=\"middle\" x=\"208\" y=\"-14.3\" font-family=\"Times,serif\" font-size=\"14.00\">x</text>\n</g>\n<!-- AddConstantMod&#45;&gt;x_G2 -->\n<g id=\"edge2\" class=\"edge\">\n<title>AddConstantMod:e-&gt;x_G2:w</title>\n<path fill=\"none\" stroke=\"black\" d=\"M144,-18C159.67,-18 164.14,-18 178.77,-18\"/>\n<ellipse fill=\"black\" stroke=\"black\" cx=\"180\" cy=\"-18\" rx=\"1\" ry=\"1\"/>\n<text text-anchor=\"middle\" x=\"162.5\" y=\"-21\" font-family=\"Times,serif\" font-size=\"10.00\">64</text>\n</g>\n</g>\n</svg>",
          "text/plain": "<IPython.core.display.SVG object>"
         },
         "metadata": {},
         "output_type": "display_data"
        }
       ],
       "tabbable": null,
       "tooltip": null
      }
     },
     "d48064be9508463d83b513e9bc5beca2": {
      "model_module": "@jupyter-widgets/controls",
      "model_module_version": "2.0.0",
      "model_name": "HBoxModel",
      "state": {
       "_dom_classes": [],
       "_model_module": "@jupyter-widgets/controls",
       "_model_module_version": "2.0.0",
       "_model_name": "HBoxModel",
       "_view_count": null,
       "_view_module": "@jupyter-widgets/controls",
       "_view_module_version": "2.0.0",
       "_view_name": "HBoxView",
       "box_style": "",
       "children": [
        "IPY_MODEL_f744a7753eba4716a4270d01c7048c07",
        "IPY_MODEL_b2eac52f5adc45baa630a0cc87dbbf56",
        "IPY_MODEL_04b5b7270205496ab5c70541eb693a81"
       ],
       "layout": "IPY_MODEL_d98c742e36c34a23b0a1c15448f82942",
       "tabbable": null,
       "tooltip": null
      }
     },
     "d7e52b919a9641f9a01f320b947cdca0": {
      "model_module": "@jupyter-widgets/base",
      "model_module_version": "2.0.0",
      "model_name": "LayoutModel",
      "state": {
       "_model_module": "@jupyter-widgets/base",
       "_model_module_version": "2.0.0",
       "_model_name": "LayoutModel",
       "_view_count": null,
       "_view_module": "@jupyter-widgets/base",
       "_view_module_version": "2.0.0",
       "_view_name": "LayoutView",
       "align_content": null,
       "align_items": null,
       "align_self": null,
       "border_bottom": null,
       "border_left": null,
       "border_right": null,
       "border_top": null,
       "bottom": null,
       "display": null,
       "flex": null,
       "flex_flow": null,
       "grid_area": null,
       "grid_auto_columns": null,
       "grid_auto_flow": null,
       "grid_auto_rows": null,
       "grid_column": null,
       "grid_gap": null,
       "grid_row": null,
       "grid_template_areas": null,
       "grid_template_columns": null,
       "grid_template_rows": null,
       "height": null,
       "justify_content": null,
       "justify_items": null,
       "left": null,
       "margin": null,
       "max_height": null,
       "max_width": null,
       "min_height": null,
       "min_width": null,
       "object_fit": null,
       "object_position": null,
       "order": null,
       "overflow": null,
       "padding": null,
       "right": null,
       "top": null,
       "visibility": null,
       "width": null
      }
     },
     "d956b01406724b4dbcedeea39434c70c": {
      "model_module": "@jupyter-widgets/base",
      "model_module_version": "2.0.0",
      "model_name": "LayoutModel",
      "state": {
       "_model_module": "@jupyter-widgets/base",
       "_model_module_version": "2.0.0",
       "_model_name": "LayoutModel",
       "_view_count": null,
       "_view_module": "@jupyter-widgets/base",
       "_view_module_version": "2.0.0",
       "_view_name": "LayoutView",
       "align_content": null,
       "align_items": null,
       "align_self": null,
       "border_bottom": null,
       "border_left": null,
       "border_right": null,
       "border_top": null,
       "bottom": null,
       "display": null,
       "flex": null,
       "flex_flow": null,
       "grid_area": null,
       "grid_auto_columns": null,
       "grid_auto_flow": null,
       "grid_auto_rows": null,
       "grid_column": null,
       "grid_gap": null,
       "grid_row": null,
       "grid_template_areas": null,
       "grid_template_columns": null,
       "grid_template_rows": null,
       "height": null,
       "justify_content": null,
       "justify_items": null,
       "left": null,
       "margin": null,
       "max_height": null,
       "max_width": null,
       "min_height": null,
       "min_width": null,
       "object_fit": null,
       "object_position": null,
       "order": null,
       "overflow": null,
       "padding": null,
       "right": null,
       "top": null,
       "visibility": null,
       "width": null
      }
     },
     "d98c742e36c34a23b0a1c15448f82942": {
      "model_module": "@jupyter-widgets/base",
      "model_module_version": "2.0.0",
      "model_name": "LayoutModel",
      "state": {
       "_model_module": "@jupyter-widgets/base",
       "_model_module_version": "2.0.0",
       "_model_name": "LayoutModel",
       "_view_count": null,
       "_view_module": "@jupyter-widgets/base",
       "_view_module_version": "2.0.0",
       "_view_name": "LayoutView",
       "align_content": null,
       "align_items": null,
       "align_self": null,
       "border_bottom": null,
       "border_left": null,
       "border_right": null,
       "border_top": null,
       "bottom": null,
       "display": null,
       "flex": null,
       "flex_flow": null,
       "grid_area": null,
       "grid_auto_columns": null,
       "grid_auto_flow": null,
       "grid_auto_rows": null,
       "grid_column": null,
       "grid_gap": null,
       "grid_row": null,
       "grid_template_areas": null,
       "grid_template_columns": null,
       "grid_template_rows": null,
       "height": null,
       "justify_content": null,
       "justify_items": null,
       "left": null,
       "margin": null,
       "max_height": null,
       "max_width": null,
       "min_height": null,
       "min_width": null,
       "object_fit": null,
       "object_position": null,
       "order": null,
       "overflow": null,
       "padding": null,
       "right": null,
       "top": null,
       "visibility": null,
       "width": null
      }
     },
     "ed1ebe52aaef4fa2a79f91c1a218c0c6": {
      "model_module": "@jupyter-widgets/controls",
      "model_module_version": "2.0.0",
      "model_name": "HBoxModel",
      "state": {
       "_dom_classes": [],
       "_model_module": "@jupyter-widgets/controls",
       "_model_module_version": "2.0.0",
       "_model_name": "HBoxModel",
       "_view_count": null,
       "_view_module": "@jupyter-widgets/controls",
       "_view_module_version": "2.0.0",
       "_view_name": "HBoxView",
       "box_style": "",
       "children": [
        "IPY_MODEL_5b100a913b4f475785ec609f3622fc69",
        "IPY_MODEL_f1bd8d67509f44e5b9e8ac2846a9ed96",
        "IPY_MODEL_3cbe9aff2d5d429b882234d5b031128d",
        "IPY_MODEL_5656381f154e44baa16025b243619bea"
       ],
       "layout": "IPY_MODEL_2a6cb9d1c0d44dd0840f0564d9813ad6",
       "tabbable": null,
       "tooltip": null
      }
     },
     "f1bd8d67509f44e5b9e8ac2846a9ed96": {
      "model_module": "@jupyter-widgets/output",
      "model_module_version": "1.0.0",
      "model_name": "OutputModel",
      "state": {
       "_dom_classes": [],
       "_model_module": "@jupyter-widgets/output",
       "_model_module_version": "1.0.0",
       "_model_name": "OutputModel",
       "_view_count": null,
       "_view_module": "@jupyter-widgets/output",
       "_view_module_version": "1.0.0",
       "_view_name": "OutputView",
       "layout": "IPY_MODEL_d7e52b919a9641f9a01f320b947cdca0",
       "msg_id": "",
       "outputs": [
        {
         "data": {
          "text/markdown": "`add_small`",
          "text/plain": "<IPython.core.display.Markdown object>"
         },
         "metadata": {},
         "output_type": "display_data"
        },
        {
         "data": {
          "image/svg+xml": "<svg xmlns=\"http://www.w3.org/2000/svg\" xmlns:xlink=\"http://www.w3.org/1999/xlink\" width=\"212pt\" height=\"98pt\" viewBox=\"0.00 0.00 212.00 98.00\">\n<g id=\"graph0\" class=\"graph\" transform=\"scale(1 1) rotate(0) translate(4 94)\">\n<title>my_graph</title>\n<polygon fill=\"white\" stroke=\"transparent\" points=\"-4,4 -4,-94 208,-94 208,4 -4,4\"/>\n<!-- a_G1 -->\n<g id=\"node1\" class=\"node\">\n<title>a_G1</title>\n<text text-anchor=\"middle\" x=\"27\" y=\"-68.3\" font-family=\"Times,serif\" font-size=\"14.00\">a</text>\n</g>\n<!-- Add -->\n<g id=\"node3\" class=\"node\">\n<title>Add</title>\n<polygon fill=\"none\" stroke=\"black\" points=\"91,-66 91,-83 113,-83 113,-66 91,-66\"/>\n<text text-anchor=\"start\" x=\"94\" y=\"-72\" font-family=\"Times,serif\" font-size=\"10.00\">a+b</text>\n<polygon fill=\"none\" stroke=\"black\" points=\"91,-45 91,-66 113,-66 113,-45 91,-45\"/>\n<text text-anchor=\"start\" x=\"98.5\" y=\"-51.8\" font-family=\"Times,serif\" font-size=\"14.00\">a</text>\n<polygon fill=\"none\" stroke=\"black\" points=\"91,-24 91,-45 113,-45 113,-24 91,-24\"/>\n<text text-anchor=\"start\" x=\"98.5\" y=\"-30.8\" font-family=\"Times,serif\" font-size=\"14.00\">b</text>\n</g>\n<!-- a_G1&#45;&gt;Add -->\n<g id=\"edge1\" class=\"edge\">\n<title>a_G1:e-&gt;Add:w</title>\n<path fill=\"none\" stroke=\"black\" d=\"M54,-72C71.22,-72 72.97,-57.23 88.98,-56.07\"/>\n<ellipse fill=\"black\" stroke=\"black\" cx=\"90\" cy=\"-56.04\" rx=\"1\" ry=\"1\"/>\n<text text-anchor=\"middle\" x=\"72.5\" y=\"-67\" font-family=\"Times,serif\" font-size=\"10.00\">4</text>\n</g>\n<!-- b_G4 -->\n<g id=\"node2\" class=\"node\">\n<title>b_G4</title>\n<text text-anchor=\"middle\" x=\"27\" y=\"-14.3\" font-family=\"Times,serif\" font-size=\"14.00\">b</text>\n</g>\n<!-- b_G4&#45;&gt;Add -->\n<g id=\"edge2\" class=\"edge\">\n<title>b_G4:e-&gt;Add:w</title>\n<path fill=\"none\" stroke=\"black\" d=\"M54,-18C71.22,-18 72.97,-32.77 88.98,-33.93\"/>\n<ellipse fill=\"black\" stroke=\"black\" cx=\"90\" cy=\"-33.96\" rx=\"1\" ry=\"1\"/>\n<text text-anchor=\"middle\" x=\"72.5\" y=\"-29\" font-family=\"Times,serif\" font-size=\"10.00\">4</text>\n</g>\n<!-- a_G3 -->\n<g id=\"node4\" class=\"node\">\n<title>a_G3</title>\n<text text-anchor=\"middle\" x=\"177\" y=\"-68.3\" font-family=\"Times,serif\" font-size=\"14.00\">a</text>\n</g>\n<!-- Add&#45;&gt;a_G3 -->\n<g id=\"edge3\" class=\"edge\">\n<title>Add:e-&gt;a_G3:w</title>\n<path fill=\"none\" stroke=\"black\" d=\"M113,-56C130.22,-56 131.97,-70.77 147.98,-71.93\"/>\n<ellipse fill=\"black\" stroke=\"black\" cx=\"149\" cy=\"-71.96\" rx=\"1\" ry=\"1\"/>\n<text text-anchor=\"middle\" x=\"131.5\" y=\"-67\" font-family=\"Times,serif\" font-size=\"10.00\">4</text>\n</g>\n<!-- b_G5 -->\n<g id=\"node5\" class=\"node\">\n<title>b_G5</title>\n<text text-anchor=\"middle\" x=\"177\" y=\"-14.3\" font-family=\"Times,serif\" font-size=\"14.00\">b</text>\n</g>\n<!-- Add&#45;&gt;b_G5 -->\n<g id=\"edge4\" class=\"edge\">\n<title>Add:e-&gt;b_G5:w</title>\n<path fill=\"none\" stroke=\"black\" d=\"M113,-34C130.22,-34 131.97,-19.23 147.98,-18.07\"/>\n<ellipse fill=\"black\" stroke=\"black\" cx=\"149\" cy=\"-18.04\" rx=\"1\" ry=\"1\"/>\n<text text-anchor=\"middle\" x=\"131.5\" y=\"-29\" font-family=\"Times,serif\" font-size=\"10.00\">4</text>\n</g>\n</g>\n</svg>",
          "text/plain": "<IPython.core.display.SVG object>"
         },
         "metadata": {},
         "output_type": "display_data"
        }
       ],
       "tabbable": null,
       "tooltip": null
      }
     },
     "f6135707f70a40b5936734643faa2389": {
      "model_module": "@jupyter-widgets/base",
      "model_module_version": "2.0.0",
      "model_name": "LayoutModel",
      "state": {
       "_model_module": "@jupyter-widgets/base",
       "_model_module_version": "2.0.0",
       "_model_name": "LayoutModel",
       "_view_count": null,
       "_view_module": "@jupyter-widgets/base",
       "_view_module_version": "2.0.0",
       "_view_name": "LayoutView",
       "align_content": null,
       "align_items": null,
       "align_self": null,
       "border_bottom": null,
       "border_left": null,
       "border_right": null,
       "border_top": null,
       "bottom": null,
       "display": null,
       "flex": null,
       "flex_flow": null,
       "grid_area": null,
       "grid_auto_columns": null,
       "grid_auto_flow": null,
       "grid_auto_rows": null,
       "grid_column": null,
       "grid_gap": null,
       "grid_row": null,
       "grid_template_areas": null,
       "grid_template_columns": null,
       "grid_template_rows": null,
       "height": null,
       "justify_content": null,
       "justify_items": null,
       "left": null,
       "margin": null,
       "max_height": null,
       "max_width": null,
       "min_height": null,
       "min_width": null,
       "object_fit": null,
       "object_position": null,
       "order": null,
       "overflow": null,
       "padding": null,
       "right": null,
       "top": null,
       "visibility": null,
       "width": null
      }
     },
     "f744a7753eba4716a4270d01c7048c07": {
      "model_module": "@jupyter-widgets/output",
      "model_module_version": "1.0.0",
      "model_name": "OutputModel",
      "state": {
       "_dom_classes": [],
       "_model_module": "@jupyter-widgets/output",
       "_model_module_version": "1.0.0",
       "_model_name": "OutputModel",
       "_view_count": null,
       "_view_module": "@jupyter-widgets/output",
       "_view_module_version": "1.0.0",
       "_view_name": "OutputView",
       "layout": "IPY_MODEL_f6135707f70a40b5936734643faa2389",
       "msg_id": "",
       "outputs": [
        {
         "data": {
          "text/markdown": "`add_oop_symb`",
          "text/plain": "<IPython.core.display.Markdown object>"
         },
         "metadata": {},
         "output_type": "display_data"
        },
        {
         "data": {
          "image/svg+xml": "<svg xmlns=\"http://www.w3.org/2000/svg\" xmlns:xlink=\"http://www.w3.org/1999/xlink\" width=\"232pt\" height=\"152pt\" viewBox=\"0.00 0.00 232.00 152.00\">\n<g id=\"graph0\" class=\"graph\" transform=\"scale(1 1) rotate(0) translate(4 148)\">\n<title>my_graph</title>\n<polygon fill=\"white\" stroke=\"transparent\" points=\"-4,4 -4,-148 228,-148 228,4 -4,4\"/>\n<!-- a_G5 -->\n<g id=\"node1\" class=\"node\">\n<title>a_G5</title>\n<text text-anchor=\"middle\" x=\"27\" y=\"-106.3\" font-family=\"Times,serif\" font-size=\"14.00\">a</text>\n</g>\n<!-- OutOfPlaceAdder -->\n<g id=\"node3\" class=\"node\">\n<title>OutOfPlaceAdder</title>\n<polygon fill=\"none\" stroke=\"black\" points=\"91,-104 91,-121 133,-121 133,-104 91,-104\"/>\n<text text-anchor=\"start\" x=\"94\" y=\"-110\" font-family=\"Times,serif\" font-size=\"10.00\">c = a + b</text>\n<polygon fill=\"none\" stroke=\"black\" points=\"91,-83 91,-104 133,-104 133,-83 91,-83\"/>\n<text text-anchor=\"start\" x=\"108.5\" y=\"-89.8\" font-family=\"Times,serif\" font-size=\"14.00\">a</text>\n<polygon fill=\"none\" stroke=\"black\" points=\"91,-62 91,-83 133,-83 133,-62 91,-62\"/>\n<text text-anchor=\"start\" x=\"108.5\" y=\"-68.8\" font-family=\"Times,serif\" font-size=\"14.00\">b</text>\n<polygon fill=\"none\" stroke=\"black\" points=\"91,-41 91,-62 108,-62 108,-41 91,-41\"/>\n<polygon fill=\"none\" stroke=\"black\" points=\"108,-41 108,-62 133,-62 133,-41 108,-41\"/>\n<text text-anchor=\"start\" x=\"117\" y=\"-47.8\" font-family=\"Times,serif\" font-size=\"14.00\">c</text>\n</g>\n<!-- a_G5&#45;&gt;OutOfPlaceAdder -->\n<g id=\"edge1\" class=\"edge\">\n<title>a_G5:e-&gt;OutOfPlaceAdder:w</title>\n<path fill=\"none\" stroke=\"black\" d=\"M54,-110C71.22,-110 72.97,-95.23 88.98,-94.07\"/>\n<ellipse fill=\"black\" stroke=\"black\" cx=\"90\" cy=\"-94.04\" rx=\"1\" ry=\"1\"/>\n<text text-anchor=\"middle\" x=\"72.5\" y=\"-105\" font-family=\"Times,serif\" font-size=\"10.00\">n</text>\n</g>\n<!-- b_G0 -->\n<g id=\"node2\" class=\"node\">\n<title>b_G0</title>\n<text text-anchor=\"middle\" x=\"27\" y=\"-52.3\" font-family=\"Times,serif\" font-size=\"14.00\">b</text>\n</g>\n<!-- b_G0&#45;&gt;OutOfPlaceAdder -->\n<g id=\"edge2\" class=\"edge\">\n<title>b_G0:e-&gt;OutOfPlaceAdder:w</title>\n<path fill=\"none\" stroke=\"black\" d=\"M54,-56C71.22,-56 72.97,-70.77 88.98,-71.93\"/>\n<ellipse fill=\"black\" stroke=\"black\" cx=\"90\" cy=\"-71.96\" rx=\"1\" ry=\"1\"/>\n<text text-anchor=\"middle\" x=\"72.5\" y=\"-68\" font-family=\"Times,serif\" font-size=\"10.00\">n</text>\n</g>\n<!-- a_G4 -->\n<g id=\"node4\" class=\"node\">\n<title>a_G4</title>\n<text text-anchor=\"middle\" x=\"197\" y=\"-122.3\" font-family=\"Times,serif\" font-size=\"14.00\">a</text>\n</g>\n<!-- OutOfPlaceAdder&#45;&gt;a_G4 -->\n<g id=\"edge3\" class=\"edge\">\n<title>OutOfPlaceAdder:e-&gt;a_G4:w</title>\n<path fill=\"none\" stroke=\"black\" d=\"M133,-94C153.89,-94 148.72,-123.55 167.58,-125.86\"/>\n<ellipse fill=\"black\" stroke=\"black\" cx=\"169\" cy=\"-125.94\" rx=\"1\" ry=\"1\"/>\n<text text-anchor=\"middle\" x=\"151.5\" y=\"-113\" font-family=\"Times,serif\" font-size=\"10.00\">n</text>\n</g>\n<!-- b_G1 -->\n<g id=\"node5\" class=\"node\">\n<title>b_G1</title>\n<text text-anchor=\"middle\" x=\"197\" y=\"-68.3\" font-family=\"Times,serif\" font-size=\"14.00\">b</text>\n</g>\n<!-- OutOfPlaceAdder&#45;&gt;b_G1 -->\n<g id=\"edge4\" class=\"edge\">\n<title>OutOfPlaceAdder:e-&gt;b_G1:w</title>\n<path fill=\"none\" stroke=\"black\" d=\"M133,-72C148.67,-72 153.14,-72 167.77,-72\"/>\n<ellipse fill=\"black\" stroke=\"black\" cx=\"169\" cy=\"-72\" rx=\"1\" ry=\"1\"/>\n<text text-anchor=\"middle\" x=\"151.5\" y=\"-75\" font-family=\"Times,serif\" font-size=\"10.00\">n</text>\n</g>\n<!-- c_G2 -->\n<g id=\"node6\" class=\"node\">\n<title>c_G2</title>\n<text text-anchor=\"middle\" x=\"197\" y=\"-14.3\" font-family=\"Times,serif\" font-size=\"14.00\">c</text>\n</g>\n<!-- OutOfPlaceAdder&#45;&gt;c_G2 -->\n<g id=\"edge5\" class=\"edge\">\n<title>OutOfPlaceAdder:e-&gt;c_G2:w</title>\n<path fill=\"none\" stroke=\"black\" d=\"M133,-51C154.17,-51 148.47,-20.53 167.55,-18.15\"/>\n<ellipse fill=\"black\" stroke=\"black\" cx=\"169\" cy=\"-18.06\" rx=\"1\" ry=\"1\"/>\n<text text-anchor=\"middle\" x=\"151.5\" y=\"-39\" font-family=\"Times,serif\" font-size=\"10.00\">n + 1</text>\n</g>\n</g>\n</svg>",
          "text/plain": "<IPython.core.display.SVG object>"
         },
         "metadata": {},
         "output_type": "display_data"
        }
       ],
       "tabbable": null,
       "tooltip": null
      }
     },
     "fb615d55bdcc4fc3ad1966e0de6b2c58": {
      "model_module": "@jupyter-widgets/base",
      "model_module_version": "2.0.0",
      "model_name": "LayoutModel",
      "state": {
       "_model_module": "@jupyter-widgets/base",
       "_model_module_version": "2.0.0",
       "_model_name": "LayoutModel",
       "_view_count": null,
       "_view_module": "@jupyter-widgets/base",
       "_view_module_version": "2.0.0",
       "_view_name": "LayoutView",
       "align_content": null,
       "align_items": null,
       "align_self": null,
       "border_bottom": null,
       "border_left": null,
       "border_right": null,
       "border_top": null,
       "bottom": null,
       "display": null,
       "flex": null,
       "flex_flow": null,
       "grid_area": null,
       "grid_auto_columns": null,
       "grid_auto_flow": null,
       "grid_auto_rows": null,
       "grid_column": null,
       "grid_gap": null,
       "grid_row": null,
       "grid_template_areas": null,
       "grid_template_columns": null,
       "grid_template_rows": null,
       "height": null,
       "justify_content": null,
       "justify_items": null,
       "left": null,
       "margin": null,
       "max_height": null,
       "max_width": null,
       "min_height": null,
       "min_width": null,
       "object_fit": null,
       "object_position": null,
       "order": null,
       "overflow": null,
       "padding": null,
       "right": null,
       "top": null,
       "visibility": null,
       "width": null
      }
     },
     "fd930913fec34a0b966af5f4adce0cb4": {
      "model_module": "@jupyter-widgets/base",
      "model_module_version": "2.0.0",
      "model_name": "LayoutModel",
      "state": {
       "_model_module": "@jupyter-widgets/base",
       "_model_module_version": "2.0.0",
       "_model_name": "LayoutModel",
       "_view_count": null,
       "_view_module": "@jupyter-widgets/base",
       "_view_module_version": "2.0.0",
       "_view_name": "LayoutView",
       "align_content": null,
       "align_items": null,
       "align_self": null,
       "border_bottom": null,
       "border_left": null,
       "border_right": null,
       "border_top": null,
       "bottom": null,
       "display": null,
       "flex": null,
       "flex_flow": null,
       "grid_area": null,
       "grid_auto_columns": null,
       "grid_auto_flow": null,
       "grid_auto_rows": null,
       "grid_column": null,
       "grid_gap": null,
       "grid_row": null,
       "grid_template_areas": null,
       "grid_template_columns": null,
       "grid_template_rows": null,
       "height": null,
       "justify_content": null,
       "justify_items": null,
       "left": null,
       "margin": null,
       "max_height": null,
       "max_width": null,
       "min_height": null,
       "min_width": null,
       "object_fit": null,
       "object_position": null,
       "order": null,
       "overflow": null,
       "padding": null,
       "right": null,
       "top": null,
       "visibility": null,
       "width": null
      }
     },
     "feae247763f34990b7a177d431d401f4": {
      "model_module": "@jupyter-widgets/controls",
      "model_module_version": "2.0.0",
      "model_name": "HBoxModel",
      "state": {
       "_dom_classes": [],
       "_model_module": "@jupyter-widgets/controls",
       "_model_module_version": "2.0.0",
       "_model_name": "HBoxModel",
       "_view_count": null,
       "_view_module": "@jupyter-widgets/controls",
       "_view_module_version": "2.0.0",
       "_view_name": "HBoxView",
       "box_style": "",
       "children": [
        "IPY_MODEL_0681343fb9c7498da214bd8d8cd8647e",
        "IPY_MODEL_3e179c00245f43bdab79f3273445b8c8",
        "IPY_MODEL_c5aa5a541b374b24ac81ad4020239ef1"
       ],
       "layout": "IPY_MODEL_473ac7c56e7046fea3929466de9b281b",
       "tabbable": null,
       "tooltip": null
      }
     }
    },
    "version_major": 2,
    "version_minor": 0
   }
  }
 },
 "nbformat": 4,
 "nbformat_minor": 5
}
