{
 "cells": [
  {
   "cell_type": "markdown",
   "id": "c231998b",
   "metadata": {
    "cq.autogen": "title_cell"
   },
   "source": [
    "# Addition"
   ]
  },
  {
   "cell_type": "code",
   "execution_count": 1,
   "id": "b572d769",
   "metadata": {
    "cq.autogen": "top_imports"
   },
   "outputs": [],
   "source": [
    "from qualtran import Bloq, CompositeBloq, BloqBuilder, Signature, Register\n",
    "from qualtran.drawing import show_bloq, show_call_graph, show_counts_sigma\n",
    "from typing import *\n",
    "import numpy as np\n",
    "import sympy\n",
    "import cirq"
   ]
  },
  {
   "cell_type": "markdown",
   "id": "d3f4ce95",
   "metadata": {
    "cq.autogen": "Add.bloq_doc.md"
   },
   "source": [
    "## `Add`\n",
    "An n-bit addition gate.\n",
    "\n",
    "Implements $U|a\\rangle|b\\rangle \\rightarrow |a\\rangle|a+b\\rangle$ using $4n - 4 T$ gates.\n",
    "\n",
    "#### Parameters\n",
    " - `bitsize`: Number of bits used to represent each integer. Must be large enough to hold the result in the output register of a + b, or else it simply drops the most significant bits. \n",
    "\n",
    "#### Registers\n",
    " - `a`: A bitsize-sized input register (register a above).\n",
    " - `b`: A bitsize-sized input/output register (register b above). \n",
    "\n",
    "#### References\n",
    "[Halving the cost of quantum addition](https://arxiv.org/abs/1709.06648)\n"
   ]
  },
  {
   "cell_type": "code",
   "execution_count": 2,
   "id": "6426bb53",
   "metadata": {
    "cq.autogen": "Add.bloq_doc.py"
   },
   "outputs": [],
   "source": [
    "from qualtran.bloqs.arithmetic.addition import Add"
   ]
  },
  {
   "cell_type": "markdown",
   "id": "3c8caad1",
   "metadata": {
    "cq.autogen": "Add.example_instances.md"
   },
   "source": [
    "### Example Instances"
   ]
  },
  {
   "cell_type": "code",
   "execution_count": 3,
   "id": "73929b65",
   "metadata": {
    "cq.autogen": "Add.add_small"
   },
   "outputs": [],
   "source": [
    "add_small = Add(bitsize=4)"
   ]
  },
  {
   "cell_type": "code",
   "execution_count": 4,
   "id": "fbd4dbe9",
   "metadata": {
    "cq.autogen": "Add.add_large"
   },
   "outputs": [],
   "source": [
    "add_large = Add(bitsize=64)"
   ]
  },
  {
   "cell_type": "code",
   "execution_count": 5,
   "id": "e749abdb",
   "metadata": {
    "cq.autogen": "Add.add_symb"
   },
   "outputs": [],
   "source": [
    "n = sympy.Symbol('n')\n",
    "add_symb = Add(bitsize=n)"
   ]
  },
  {
   "cell_type": "markdown",
   "id": "c3c1a7e4",
   "metadata": {
    "cq.autogen": "Add.graphical_signature.md"
   },
   "source": [
    "#### Graphical Signature"
   ]
  },
  {
   "cell_type": "code",
   "execution_count": 6,
   "id": "0f92be09",
   "metadata": {
    "cq.autogen": "Add.graphical_signature.py"
   },
   "outputs": [
    {
     "data": {
      "application/vnd.jupyter.widget-view+json": {
       "model_id": "84932933cbd74122ab16e714609094e2",
       "version_major": 2,
       "version_minor": 0
      },
      "text/plain": [
       "HBox(children=(Output(outputs=({'output_type': 'display_data', 'data': {'text/plain': '<IPython.core.display.M…"
      ]
     },
     "metadata": {},
     "output_type": "display_data"
    }
   ],
   "source": [
    "from qualtran.drawing import show_bloqs\n",
    "show_bloqs([add_symb, add_small, add_large],\n",
    "           ['`add_symb`', '`add_small`', '`add_large`'])"
   ]
  },
  {
   "cell_type": "markdown",
   "id": "350cb374",
   "metadata": {
    "cq.autogen": "Add.call_graph.md"
   },
   "source": [
    "### Call Graph"
   ]
  },
  {
   "cell_type": "code",
   "execution_count": 7,
   "id": "c36a3fc4",
   "metadata": {
    "cq.autogen": "Add.call_graph.py"
   },
   "outputs": [
    {
     "data": {
      "image/svg+xml": [
       "<svg xmlns=\"http://www.w3.org/2000/svg\" xmlns:xlink=\"http://www.w3.org/1999/xlink\" width=\"221pt\" height=\"218pt\" viewBox=\"0.00 0.00 220.50 218.00\">\n",
       "<g id=\"graph0\" class=\"graph\" transform=\"scale(1 1) rotate(0) translate(4 214)\">\n",
       "<title>counts</title>\n",
       "<polygon fill=\"white\" stroke=\"transparent\" points=\"-4,4 -4,-214 216.5,-214 216.5,4 -4,4\"/>\n",
       "<!-- b0 -->\n",
       "<g id=\"node1\" class=\"node\">\n",
       "<title>b0</title>\n",
       "<polygon fill=\"none\" stroke=\"black\" points=\"127.5,-210 56.5,-210 56.5,-174 127.5,-174 127.5,-210\"/>\n",
       "<text text-anchor=\"start\" x=\"80\" y=\"-193.8\" font-family=\"Times,serif\" font-size=\"14.00\">Add</text>\n",
       "<text text-anchor=\"start\" x=\"64.5\" y=\"-183\" font-family=\"monospace\" font-size=\"10.00\">bitsize=n</text>\n",
       "</g>\n",
       "<!-- b1 -->\n",
       "<g id=\"node2\" class=\"node\">\n",
       "<title>b1</title>\n",
       "<polygon fill=\"none\" stroke=\"black\" points=\"110,-123 0,-123 0,-87 110,-87 110,-123\"/>\n",
       "<text text-anchor=\"start\" x=\"8\" y=\"-106.8\" font-family=\"Times,serif\" font-size=\"14.00\">ArbitraryClifford</text>\n",
       "<text text-anchor=\"start\" x=\"45.5\" y=\"-96\" font-family=\"monospace\" font-size=\"10.00\">n=1</text>\n",
       "</g>\n",
       "<!-- b0&#45;&gt;b1 -->\n",
       "<g id=\"edge1\" class=\"edge\">\n",
       "<title>b0-&gt;b1</title>\n",
       "<path fill=\"none\" stroke=\"black\" d=\"M79.19,-173.81C75.52,-168.32 71.77,-162.09 69,-156 65.71,-148.78 63.03,-140.62 60.93,-133.01\"/>\n",
       "<polygon fill=\"black\" stroke=\"black\" points=\"64.27,-131.95 58.41,-123.12 57.49,-133.68 64.27,-131.95\"/>\n",
       "<text text-anchor=\"middle\" x=\"94.5\" y=\"-144.8\" font-family=\"Times,serif\" font-size=\"14.00\">19⋅n - 22</text>\n",
       "</g>\n",
       "<!-- b2 -->\n",
       "<g id=\"node3\" class=\"node\">\n",
       "<title>b2</title>\n",
       "<polygon fill=\"none\" stroke=\"black\" points=\"183.5,-123 128.5,-123 128.5,-87 183.5,-87 183.5,-123\"/>\n",
       "<text text-anchor=\"start\" x=\"136.5\" y=\"-101.3\" font-family=\"Times,serif\" font-size=\"14.00\">Toffoli</text>\n",
       "</g>\n",
       "<!-- b0&#45;&gt;b2 -->\n",
       "<g id=\"edge2\" class=\"edge\">\n",
       "<title>b0-&gt;b2</title>\n",
       "<path fill=\"none\" stroke=\"black\" d=\"M106.13,-173.69C110.63,-168.09 115.58,-161.83 120,-156 125.99,-148.12 132.35,-139.4 138.03,-131.48\"/>\n",
       "<polygon fill=\"black\" stroke=\"black\" points=\"140.92,-133.45 143.88,-123.28 135.23,-129.39 140.92,-133.45\"/>\n",
       "<text text-anchor=\"middle\" x=\"144\" y=\"-144.8\" font-family=\"Times,serif\" font-size=\"14.00\">n - 1</text>\n",
       "</g>\n",
       "<!-- b3 -->\n",
       "<g id=\"node4\" class=\"node\">\n",
       "<title>b3</title>\n",
       "<polygon fill=\"none\" stroke=\"black\" points=\"212.5,-36 99.5,-36 99.5,0 212.5,0 212.5,-36\"/>\n",
       "<text text-anchor=\"start\" x=\"151.5\" y=\"-19.8\" font-family=\"Times,serif\" font-size=\"14.00\">T</text>\n",
       "<text text-anchor=\"start\" x=\"107.5\" y=\"-9\" font-family=\"monospace\" font-size=\"10.00\">is_adjoint=False</text>\n",
       "</g>\n",
       "<!-- b2&#45;&gt;b3 -->\n",
       "<g id=\"edge3\" class=\"edge\">\n",
       "<title>b2-&gt;b3</title>\n",
       "<path fill=\"none\" stroke=\"black\" d=\"M156,-86.8C156,-75.16 156,-59.55 156,-46.24\"/>\n",
       "<polygon fill=\"black\" stroke=\"black\" points=\"159.5,-46.18 156,-36.18 152.5,-46.18 159.5,-46.18\"/>\n",
       "<text text-anchor=\"middle\" x=\"159.5\" y=\"-57.8\" font-family=\"Times,serif\" font-size=\"14.00\">4</text>\n",
       "</g>\n",
       "</g>\n",
       "</svg>"
      ],
      "text/plain": [
       "<IPython.core.display.SVG object>"
      ]
     },
     "metadata": {},
     "output_type": "display_data"
    },
    {
     "data": {
      "text/markdown": [
       "#### Counts totals:\n",
       " - `ArbitraryClifford(n=1)`: $\\displaystyle 19 n - 22$\n",
       " - `TGate()`: $\\displaystyle 4 n - 4$"
      ],
      "text/plain": [
       "<IPython.core.display.Markdown object>"
      ]
     },
     "metadata": {},
     "output_type": "display_data"
    }
   ],
   "source": [
    "add_symb_g, add_symb_sigma = add_symb.call_graph()\n",
    "show_call_graph(add_symb_g)\n",
    "show_counts_sigma(add_symb_sigma)"
   ]
  },
  {
   "cell_type": "markdown",
   "id": "ffc76cc5",
   "metadata": {
    "cq.autogen": "OutOfPlaceAdder.bloq_doc.md"
   },
   "source": [
    "## `OutOfPlaceAdder`\n",
    "An n-bit addition gate.\n",
    "\n",
    "Implements $U|a\\rangle|b\\rangle 0\\rangle \\rightarrow |a\\rangle|b\\rangle|a+b\\rangle$\n",
    "using $4n - 4 T$ gates. Uncomputation requires 0 T-gates.\n",
    "\n",
    "#### Parameters\n",
    " - `bitsize`: Number of bits used to represent each input integer. The allocated output register is of size `bitsize+1` so it has enough space to hold the sum of `a+b`. \n",
    "\n",
    "#### Registers\n",
    " - `a`: A bitsize-sized input register (register a above).\n",
    " - `b`: A bitsize-sized input register (register b above).\n",
    " - `c`: A bitize+1-sized LEFT/RIGHT register depending on whether the gate adjoint or not. \n",
    "\n",
    "#### References\n",
    "[Halving the cost of quantum addition](https://arxiv.org/abs/1709.06648)\n"
   ]
  },
  {
   "cell_type": "code",
   "execution_count": 8,
   "id": "c2450d62",
   "metadata": {
    "cq.autogen": "OutOfPlaceAdder.bloq_doc.py"
   },
   "outputs": [],
   "source": [
    "from qualtran.bloqs.arithmetic.addition import OutOfPlaceAdder"
   ]
  },
  {
   "cell_type": "markdown",
   "id": "b5c79e25",
   "metadata": {
    "cq.autogen": "OutOfPlaceAdder.example_instances.md"
   },
   "source": [
    "### Example Instances"
   ]
  },
  {
   "cell_type": "code",
   "execution_count": 9,
   "id": "e31acd2b",
   "metadata": {
    "cq.autogen": "OutOfPlaceAdder.add_oop_symb"
   },
   "outputs": [],
   "source": [
    "n = sympy.Symbol('n')\n",
    "add_oop_symb = OutOfPlaceAdder(bitsize=n)"
   ]
  },
  {
   "cell_type": "code",
   "execution_count": 10,
   "id": "ef8871a6",
   "metadata": {
    "cq.autogen": "OutOfPlaceAdder.add_oop_small"
   },
   "outputs": [],
   "source": [
    "add_oop_small = OutOfPlaceAdder(bitsize=4)"
   ]
  },
  {
   "cell_type": "code",
   "execution_count": 11,
   "id": "e57b8c8d",
   "metadata": {
    "cq.autogen": "OutOfPlaceAdder.add_oop_large"
   },
   "outputs": [],
   "source": [
    "add_oop_large = OutOfPlaceAdder(bitsize=64)"
   ]
  },
  {
   "cell_type": "markdown",
   "id": "01915f46",
   "metadata": {
    "cq.autogen": "OutOfPlaceAdder.graphical_signature.md"
   },
   "source": [
    "#### Graphical Signature"
   ]
  },
  {
   "cell_type": "code",
   "execution_count": 12,
   "id": "d117e345",
   "metadata": {
    "cq.autogen": "OutOfPlaceAdder.graphical_signature.py"
   },
   "outputs": [
    {
     "data": {
      "application/vnd.jupyter.widget-view+json": {
       "model_id": "9380a17b467b4f2e94d6988c9f8a21af",
       "version_major": 2,
       "version_minor": 0
      },
      "text/plain": [
       "HBox(children=(Output(outputs=({'output_type': 'display_data', 'data': {'text/plain': '<IPython.core.display.M…"
      ]
     },
     "metadata": {},
     "output_type": "display_data"
    }
   ],
   "source": [
    "from qualtran.drawing import show_bloqs\n",
    "show_bloqs([add_oop_symb, add_oop_small, add_oop_large],\n",
    "           ['`add_oop_symb`', '`add_oop_small`', '`add_oop_large`'])"
   ]
  },
  {
   "cell_type": "markdown",
   "id": "3b6469e0",
   "metadata": {
    "cq.autogen": "OutOfPlaceAdder.call_graph.md"
   },
   "source": [
    "### Call Graph"
   ]
  },
  {
   "cell_type": "code",
   "execution_count": 13,
   "id": "ff84301f",
   "metadata": {
    "cq.autogen": "OutOfPlaceAdder.call_graph.py"
   },
   "outputs": [
    {
     "data": {
      "image/svg+xml": [
       "<svg xmlns=\"http://www.w3.org/2000/svg\" xmlns:xlink=\"http://www.w3.org/1999/xlink\" width=\"290pt\" height=\"218pt\" viewBox=\"0.00 0.00 289.50 218.00\">\n",
       "<g id=\"graph0\" class=\"graph\" transform=\"scale(1 1) rotate(0) translate(4 214)\">\n",
       "<title>counts</title>\n",
       "<polygon fill=\"white\" stroke=\"transparent\" points=\"-4,4 -4,-214 285.5,-214 285.5,4 -4,4\"/>\n",
       "<!-- b0 -->\n",
       "<g id=\"node1\" class=\"node\">\n",
       "<title>b0</title>\n",
       "<polygon fill=\"none\" stroke=\"black\" points=\"242,-210 81,-210 81,-174 242,-174 242,-210\"/>\n",
       "<text text-anchor=\"start\" x=\"112.5\" y=\"-193.8\" font-family=\"Times,serif\" font-size=\"14.00\">OutOfPlaceAdder</text>\n",
       "<text text-anchor=\"start\" x=\"89\" y=\"-183\" font-family=\"monospace\" font-size=\"10.00\">bitsize=n, adjoint=False</text>\n",
       "</g>\n",
       "<!-- b1 -->\n",
       "<g id=\"node2\" class=\"node\">\n",
       "<title>b1</title>\n",
       "<polygon fill=\"none\" stroke=\"black\" points=\"191,-123 0,-123 0,-87 191,-87 191,-123\"/>\n",
       "<text text-anchor=\"start\" x=\"83.5\" y=\"-106.8\" font-family=\"Times,serif\" font-size=\"14.00\">And</text>\n",
       "<text text-anchor=\"start\" x=\"8\" y=\"-96\" font-family=\"monospace\" font-size=\"10.00\">cv1=1, cv2=1, uncompute=False</text>\n",
       "</g>\n",
       "<!-- b0&#45;&gt;b1 -->\n",
       "<g id=\"edge2\" class=\"edge\">\n",
       "<title>b0-&gt;b1</title>\n",
       "<path fill=\"none\" stroke=\"black\" d=\"M148.14,-173.8C138.66,-161.59 125.78,-144.99 115.13,-131.28\"/>\n",
       "<polygon fill=\"black\" stroke=\"black\" points=\"117.73,-128.93 108.84,-123.18 112.2,-133.22 117.73,-128.93\"/>\n",
       "<text text-anchor=\"middle\" x=\"135\" y=\"-144.8\" font-family=\"Times,serif\" font-size=\"14.00\">n</text>\n",
       "</g>\n",
       "<!-- b2 -->\n",
       "<g id=\"node3\" class=\"node\">\n",
       "<title>b2</title>\n",
       "<polygon fill=\"none\" stroke=\"black\" points=\"281.5,-36 171.5,-36 171.5,0 281.5,0 281.5,-36\"/>\n",
       "<text text-anchor=\"start\" x=\"179.5\" y=\"-19.8\" font-family=\"Times,serif\" font-size=\"14.00\">ArbitraryClifford</text>\n",
       "<text text-anchor=\"start\" x=\"217\" y=\"-9\" font-family=\"monospace\" font-size=\"10.00\">n=2</text>\n",
       "</g>\n",
       "<!-- b0&#45;&gt;b2 -->\n",
       "<g id=\"edge1\" class=\"edge\">\n",
       "<title>b0-&gt;b2</title>\n",
       "<path fill=\"none\" stroke=\"black\" d=\"M173.16,-173.78C181.75,-160.42 193.18,-141.18 200.5,-123 210.67,-97.75 217.71,-67.39 221.87,-46.02\"/>\n",
       "<polygon fill=\"black\" stroke=\"black\" points=\"225.34,-46.49 223.74,-36.02 218.46,-45.21 225.34,-46.49\"/>\n",
       "<text text-anchor=\"middle\" x=\"221\" y=\"-101.3\" font-family=\"Times,serif\" font-size=\"14.00\">5⋅n</text>\n",
       "</g>\n",
       "<!-- b1&#45;&gt;b2 -->\n",
       "<g id=\"edge3\" class=\"edge\">\n",
       "<title>b1-&gt;b2</title>\n",
       "<path fill=\"none\" stroke=\"black\" d=\"M122.01,-86.8C141.99,-73.84 169.57,-55.94 191.38,-41.79\"/>\n",
       "<polygon fill=\"black\" stroke=\"black\" points=\"193.55,-44.55 200.03,-36.18 189.74,-38.68 193.55,-44.55\"/>\n",
       "<text text-anchor=\"middle\" x=\"172\" y=\"-57.8\" font-family=\"Times,serif\" font-size=\"14.00\">9</text>\n",
       "</g>\n",
       "<!-- b3 -->\n",
       "<g id=\"node4\" class=\"node\">\n",
       "<title>b3</title>\n",
       "<polygon fill=\"none\" stroke=\"black\" points=\"152,-36 39,-36 39,0 152,0 152,-36\"/>\n",
       "<text text-anchor=\"start\" x=\"91\" y=\"-19.8\" font-family=\"Times,serif\" font-size=\"14.00\">T</text>\n",
       "<text text-anchor=\"start\" x=\"47\" y=\"-9\" font-family=\"monospace\" font-size=\"10.00\">is_adjoint=False</text>\n",
       "</g>\n",
       "<!-- b1&#45;&gt;b3 -->\n",
       "<g id=\"edge4\" class=\"edge\">\n",
       "<title>b1-&gt;b3</title>\n",
       "<path fill=\"none\" stroke=\"black\" d=\"M95.5,-86.8C95.5,-75.16 95.5,-59.55 95.5,-46.24\"/>\n",
       "<polygon fill=\"black\" stroke=\"black\" points=\"99,-46.18 95.5,-36.18 92,-46.18 99,-46.18\"/>\n",
       "<text text-anchor=\"middle\" x=\"99\" y=\"-57.8\" font-family=\"Times,serif\" font-size=\"14.00\">4</text>\n",
       "</g>\n",
       "</g>\n",
       "</svg>"
      ],
      "text/plain": [
       "<IPython.core.display.SVG object>"
      ]
     },
     "metadata": {},
     "output_type": "display_data"
    },
    {
     "data": {
      "text/markdown": [
       "#### Counts totals:\n",
       " - `ArbitraryClifford(n=2)`: $\\displaystyle 14 n$\n",
       " - `TGate()`: $\\displaystyle 4 n$"
      ],
      "text/plain": [
       "<IPython.core.display.Markdown object>"
      ]
     },
     "metadata": {},
     "output_type": "display_data"
    }
   ],
   "source": [
    "add_oop_symb_g, add_oop_symb_sigma = add_oop_symb.call_graph()\n",
    "show_call_graph(add_oop_symb_g)\n",
    "show_counts_sigma(add_oop_symb_sigma)"
   ]
  },
  {
   "cell_type": "markdown",
   "id": "1df2fb29",
   "metadata": {
    "cq.autogen": "AddConstantMod.bloq_doc.md"
   },
   "source": [
    "## `AddConstantMod`\n",
    "Applies U(add, M)|x> = |(x + add) % M> if x < M else |x>.\n",
    "\n",
    "Applies modular addition to input register `|x>` given parameters `mod` and `add_val` s.t.\n",
    " 1. If integer `x` < `mod`: output is `|(x + add) % M>`\n",
    " 2. If integer `x` >= `mod`: output is `|x>`.\n",
    "\n",
    "This condition is needed to ensure that the mapping of all input basis states (i.e. input\n",
    "states |0>, |1>, ..., |2 ** bitsize - 1) to corresponding output states is bijective and thus\n",
    "the gate is reversible.\n",
    "\n",
    "Also supports controlled version of the gate by specifying a per qubit control value as a tuple\n",
    "of integers passed as `cvs`."
   ]
  },
  {
   "cell_type": "code",
   "execution_count": 14,
   "id": "5ef2dab4",
   "metadata": {
    "cq.autogen": "AddConstantMod.bloq_doc.py"
   },
   "outputs": [],
   "source": [
    "from qualtran.bloqs.arithmetic.addition import AddConstantMod"
   ]
  },
  {
   "cell_type": "markdown",
   "id": "ed3f3c05",
   "metadata": {
    "cq.autogen": "AddConstantMod.example_instances.md"
   },
   "source": [
    "### Example Instances"
   ]
  },
  {
   "cell_type": "code",
   "execution_count": 15,
   "id": "195a8047",
   "metadata": {
    "cq.autogen": "AddConstantMod.add_k_symb"
   },
   "outputs": [],
   "source": [
    "n, m, k = sympy.symbols('n m k')\n",
    "add_k_symb = AddConstantMod(bitsize=n, mod=m, add_val=k)"
   ]
  },
  {
   "cell_type": "code",
   "execution_count": 16,
   "id": "9c3f7fb3",
   "metadata": {
    "cq.autogen": "AddConstantMod.add_k_small"
   },
   "outputs": [],
   "source": [
    "add_k_small = AddConstantMod(bitsize=4, mod=7, add_val=1)"
   ]
  },
  {
   "cell_type": "code",
   "execution_count": 17,
   "id": "bdc82bc1",
   "metadata": {
    "cq.autogen": "AddConstantMod.add_k_large"
   },
   "outputs": [],
   "source": [
    "add_k_large = AddConstantMod(bitsize=64, mod=500, add_val=23)"
   ]
  },
  {
   "cell_type": "markdown",
   "id": "b6885dbb",
   "metadata": {
    "cq.autogen": "AddConstantMod.graphical_signature.md"
   },
   "source": [
    "#### Graphical Signature"
   ]
  },
  {
   "cell_type": "code",
   "execution_count": 18,
   "id": "65773e01",
   "metadata": {
    "cq.autogen": "AddConstantMod.graphical_signature.py"
   },
   "outputs": [
    {
     "data": {
      "application/vnd.jupyter.widget-view+json": {
       "model_id": "e0135fefb8c146b1a6761dc519b77ae5",
       "version_major": 2,
       "version_minor": 0
      },
      "text/plain": [
       "HBox(children=(Output(outputs=({'output_type': 'display_data', 'data': {'text/plain': '<IPython.core.display.M…"
      ]
     },
     "metadata": {},
     "output_type": "display_data"
    }
   ],
   "source": [
    "from qualtran.drawing import show_bloqs\n",
    "show_bloqs([add_k_symb, add_k_small, add_k_large],\n",
    "           ['`add_k_symb`', '`add_k_small`', '`add_k_large`'])"
   ]
  },
  {
   "cell_type": "markdown",
   "id": "1a4bf832",
   "metadata": {
    "cq.autogen": "AddConstantMod.call_graph.md"
   },
   "source": [
    "### Call Graph"
   ]
  },
  {
   "cell_type": "code",
   "execution_count": 19,
   "id": "61f1568e",
   "metadata": {
    "cq.autogen": "AddConstantMod.call_graph.py"
   },
   "outputs": [
    {
     "data": {
      "image/svg+xml": [
       "<svg xmlns=\"http://www.w3.org/2000/svg\" xmlns:xlink=\"http://www.w3.org/1999/xlink\" width=\"242pt\" height=\"305pt\" viewBox=\"0.00 0.00 242.00 305.00\">\n",
       "<g id=\"graph0\" class=\"graph\" transform=\"scale(1 1) rotate(0) translate(4 301)\">\n",
       "<title>counts</title>\n",
       "<polygon fill=\"white\" stroke=\"transparent\" points=\"-4,4 -4,-301 238,-301 238,4 -4,4\"/>\n",
       "<!-- b0 -->\n",
       "<g id=\"node1\" class=\"node\">\n",
       "<title>b0</title>\n",
       "<polygon fill=\"none\" stroke=\"black\" points=\"227,-297 0,-297 0,-261 227,-261 227,-297\"/>\n",
       "<text text-anchor=\"start\" x=\"64.5\" y=\"-280.8\" font-family=\"Times,serif\" font-size=\"14.00\">AddConstantMod</text>\n",
       "<text text-anchor=\"start\" x=\"8\" y=\"-270\" font-family=\"monospace\" font-size=\"10.00\">bitsize=n, mod=m, add_val=k, cvs=()</text>\n",
       "</g>\n",
       "<!-- b1 -->\n",
       "<g id=\"node2\" class=\"node\">\n",
       "<title>b1</title>\n",
       "<polygon fill=\"none\" stroke=\"black\" points=\"149,-210 78,-210 78,-174 149,-174 149,-210\"/>\n",
       "<text text-anchor=\"start\" x=\"101.5\" y=\"-193.8\" font-family=\"Times,serif\" font-size=\"14.00\">Add</text>\n",
       "<text text-anchor=\"start\" x=\"86\" y=\"-183\" font-family=\"monospace\" font-size=\"10.00\">bitsize=n</text>\n",
       "</g>\n",
       "<!-- b0&#45;&gt;b1 -->\n",
       "<g id=\"edge1\" class=\"edge\">\n",
       "<title>b0-&gt;b1</title>\n",
       "<path fill=\"none\" stroke=\"black\" d=\"M113.5,-260.8C113.5,-249.16 113.5,-233.55 113.5,-220.24\"/>\n",
       "<polygon fill=\"black\" stroke=\"black\" points=\"117,-220.18 113.5,-210.18 110,-220.18 117,-220.18\"/>\n",
       "<text text-anchor=\"middle\" x=\"117\" y=\"-231.8\" font-family=\"Times,serif\" font-size=\"14.00\">5</text>\n",
       "</g>\n",
       "<!-- b2 -->\n",
       "<g id=\"node3\" class=\"node\">\n",
       "<title>b2</title>\n",
       "<polygon fill=\"none\" stroke=\"black\" points=\"131.5,-123 21.5,-123 21.5,-87 131.5,-87 131.5,-123\"/>\n",
       "<text text-anchor=\"start\" x=\"29.5\" y=\"-106.8\" font-family=\"Times,serif\" font-size=\"14.00\">ArbitraryClifford</text>\n",
       "<text text-anchor=\"start\" x=\"67\" y=\"-96\" font-family=\"monospace\" font-size=\"10.00\">n=1</text>\n",
       "</g>\n",
       "<!-- b1&#45;&gt;b2 -->\n",
       "<g id=\"edge2\" class=\"edge\">\n",
       "<title>b1-&gt;b2</title>\n",
       "<path fill=\"none\" stroke=\"black\" d=\"M100.69,-173.81C97.02,-168.32 93.27,-162.09 90.5,-156 87.21,-148.78 84.53,-140.62 82.43,-133.01\"/>\n",
       "<polygon fill=\"black\" stroke=\"black\" points=\"85.77,-131.95 79.91,-123.12 78.99,-133.68 85.77,-131.95\"/>\n",
       "<text text-anchor=\"middle\" x=\"116\" y=\"-144.8\" font-family=\"Times,serif\" font-size=\"14.00\">19⋅n - 22</text>\n",
       "</g>\n",
       "<!-- b3 -->\n",
       "<g id=\"node4\" class=\"node\">\n",
       "<title>b3</title>\n",
       "<polygon fill=\"none\" stroke=\"black\" points=\"205,-123 150,-123 150,-87 205,-87 205,-123\"/>\n",
       "<text text-anchor=\"start\" x=\"158\" y=\"-101.3\" font-family=\"Times,serif\" font-size=\"14.00\">Toffoli</text>\n",
       "</g>\n",
       "<!-- b1&#45;&gt;b3 -->\n",
       "<g id=\"edge3\" class=\"edge\">\n",
       "<title>b1-&gt;b3</title>\n",
       "<path fill=\"none\" stroke=\"black\" d=\"M127.63,-173.69C132.13,-168.09 137.08,-161.83 141.5,-156 147.49,-148.12 153.85,-139.4 159.53,-131.48\"/>\n",
       "<polygon fill=\"black\" stroke=\"black\" points=\"162.42,-133.45 165.38,-123.28 156.73,-129.39 162.42,-133.45\"/>\n",
       "<text text-anchor=\"middle\" x=\"165.5\" y=\"-144.8\" font-family=\"Times,serif\" font-size=\"14.00\">n - 1</text>\n",
       "</g>\n",
       "<!-- b4 -->\n",
       "<g id=\"node5\" class=\"node\">\n",
       "<title>b4</title>\n",
       "<polygon fill=\"none\" stroke=\"black\" points=\"234,-36 121,-36 121,0 234,0 234,-36\"/>\n",
       "<text text-anchor=\"start\" x=\"173\" y=\"-19.8\" font-family=\"Times,serif\" font-size=\"14.00\">T</text>\n",
       "<text text-anchor=\"start\" x=\"129\" y=\"-9\" font-family=\"monospace\" font-size=\"10.00\">is_adjoint=False</text>\n",
       "</g>\n",
       "<!-- b3&#45;&gt;b4 -->\n",
       "<g id=\"edge4\" class=\"edge\">\n",
       "<title>b3-&gt;b4</title>\n",
       "<path fill=\"none\" stroke=\"black\" d=\"M177.5,-86.8C177.5,-75.16 177.5,-59.55 177.5,-46.24\"/>\n",
       "<polygon fill=\"black\" stroke=\"black\" points=\"181,-46.18 177.5,-36.18 174,-46.18 181,-46.18\"/>\n",
       "<text text-anchor=\"middle\" x=\"181\" y=\"-57.8\" font-family=\"Times,serif\" font-size=\"14.00\">4</text>\n",
       "</g>\n",
       "</g>\n",
       "</svg>"
      ],
      "text/plain": [
       "<IPython.core.display.SVG object>"
      ]
     },
     "metadata": {},
     "output_type": "display_data"
    },
    {
     "data": {
      "text/markdown": [
       "#### Counts totals:\n",
       " - `ArbitraryClifford(n=1)`: $\\displaystyle 95 n - 110$\n",
       " - `TGate()`: $\\displaystyle 20 n - 20$"
      ],
      "text/plain": [
       "<IPython.core.display.Markdown object>"
      ]
     },
     "metadata": {},
     "output_type": "display_data"
    }
   ],
   "source": [
    "add_k_symb_g, add_k_symb_sigma = add_k_symb.call_graph()\n",
    "show_call_graph(add_k_symb_g)\n",
    "show_counts_sigma(add_k_symb_sigma)"
   ]
  }
 ],
 "metadata": {
  "kernelspec": {
   "display_name": "Python 3 (ipykernel)",
   "language": "python",
   "name": "python3"
  },
  "language_info": {
   "codemirror_mode": {
    "name": "ipython",
    "version": 3
   },
   "file_extension": ".py",
   "mimetype": "text/x-python",
   "name": "python",
   "nbconvert_exporter": "python",
   "pygments_lexer": "ipython3",
   "version": "3.10.12"
  },
  "widgets": {
   "application/vnd.jupyter.widget-state+json": {
    "state": {
     "00dab0acd9df4f549fe6249a7c635802": {
      "model_module": "@jupyter-widgets/base",
      "model_module_version": "2.0.0",
      "model_name": "LayoutModel",
      "state": {
       "_model_module": "@jupyter-widgets/base",
       "_model_module_version": "2.0.0",
       "_model_name": "LayoutModel",
       "_view_count": null,
       "_view_module": "@jupyter-widgets/base",
       "_view_module_version": "2.0.0",
       "_view_name": "LayoutView",
       "align_content": null,
       "align_items": null,
       "align_self": null,
       "border_bottom": null,
       "border_left": null,
       "border_right": null,
       "border_top": null,
       "bottom": null,
       "display": null,
       "flex": null,
       "flex_flow": null,
       "grid_area": null,
       "grid_auto_columns": null,
       "grid_auto_flow": null,
       "grid_auto_rows": null,
       "grid_column": null,
       "grid_gap": null,
       "grid_row": null,
       "grid_template_areas": null,
       "grid_template_columns": null,
       "grid_template_rows": null,
       "height": null,
       "justify_content": null,
       "justify_items": null,
       "left": null,
       "margin": null,
       "max_height": null,
       "max_width": null,
       "min_height": null,
       "min_width": null,
       "object_fit": null,
       "object_position": null,
       "order": null,
       "overflow": null,
       "padding": null,
       "right": null,
       "top": null,
       "visibility": null,
       "width": null
      }
     },
     "0a2974199f184b33b49b5d8aa395c264": {
      "model_module": "@jupyter-widgets/output",
      "model_module_version": "1.0.0",
      "model_name": "OutputModel",
      "state": {
       "_dom_classes": [],
       "_model_module": "@jupyter-widgets/output",
       "_model_module_version": "1.0.0",
       "_model_name": "OutputModel",
       "_view_count": null,
       "_view_module": "@jupyter-widgets/output",
       "_view_module_version": "1.0.0",
       "_view_name": "OutputView",
       "layout": "IPY_MODEL_d34075e60e0e46e082076df029addccc",
       "msg_id": "",
       "outputs": [
        {
         "data": {
          "text/markdown": "`add_small`",
          "text/plain": "<IPython.core.display.Markdown object>"
         },
         "metadata": {},
         "output_type": "display_data"
        },
        {
         "data": {
          "image/svg+xml": "<svg xmlns=\"http://www.w3.org/2000/svg\" xmlns:xlink=\"http://www.w3.org/1999/xlink\" width=\"212pt\" height=\"98pt\" viewBox=\"0.00 0.00 212.00 98.00\">\n<g id=\"graph0\" class=\"graph\" transform=\"scale(1 1) rotate(0) translate(4 94)\">\n<title>my_graph</title>\n<polygon fill=\"white\" stroke=\"transparent\" points=\"-4,4 -4,-94 208,-94 208,4 -4,4\"/>\n<!-- a_G1 -->\n<g id=\"node1\" class=\"node\">\n<title>a_G1</title>\n<text text-anchor=\"middle\" x=\"27\" y=\"-68.3\" font-family=\"Times,serif\" font-size=\"14.00\">a</text>\n</g>\n<!-- Add -->\n<g id=\"node3\" class=\"node\">\n<title>Add</title>\n<polygon fill=\"none\" stroke=\"black\" points=\"91,-66 91,-83 113,-83 113,-66 91,-66\"/>\n<text text-anchor=\"start\" x=\"94\" y=\"-72\" font-family=\"Times,serif\" font-size=\"10.00\">a+b</text>\n<polygon fill=\"none\" stroke=\"black\" points=\"91,-45 91,-66 113,-66 113,-45 91,-45\"/>\n<text text-anchor=\"start\" x=\"98.5\" y=\"-51.8\" font-family=\"Times,serif\" font-size=\"14.00\">a</text>\n<polygon fill=\"none\" stroke=\"black\" points=\"91,-24 91,-45 113,-45 113,-24 91,-24\"/>\n<text text-anchor=\"start\" x=\"98.5\" y=\"-30.8\" font-family=\"Times,serif\" font-size=\"14.00\">b</text>\n</g>\n<!-- a_G1&#45;&gt;Add -->\n<g id=\"edge1\" class=\"edge\">\n<title>a_G1:e-&gt;Add:w</title>\n<path fill=\"none\" stroke=\"black\" d=\"M54,-72C71.22,-72 72.97,-57.23 88.98,-56.07\"/>\n<ellipse fill=\"black\" stroke=\"black\" cx=\"90\" cy=\"-56.04\" rx=\"1\" ry=\"1\"/>\n<text text-anchor=\"middle\" x=\"72.5\" y=\"-67\" font-family=\"Times,serif\" font-size=\"10.00\">4</text>\n</g>\n<!-- b_G2 -->\n<g id=\"node2\" class=\"node\">\n<title>b_G2</title>\n<text text-anchor=\"middle\" x=\"27\" y=\"-14.3\" font-family=\"Times,serif\" font-size=\"14.00\">b</text>\n</g>\n<!-- b_G2&#45;&gt;Add -->\n<g id=\"edge2\" class=\"edge\">\n<title>b_G2:e-&gt;Add:w</title>\n<path fill=\"none\" stroke=\"black\" d=\"M54,-18C71.22,-18 72.97,-32.77 88.98,-33.93\"/>\n<ellipse fill=\"black\" stroke=\"black\" cx=\"90\" cy=\"-33.96\" rx=\"1\" ry=\"1\"/>\n<text text-anchor=\"middle\" x=\"72.5\" y=\"-29\" font-family=\"Times,serif\" font-size=\"10.00\">4</text>\n</g>\n<!-- a_G3 -->\n<g id=\"node4\" class=\"node\">\n<title>a_G3</title>\n<text text-anchor=\"middle\" x=\"177\" y=\"-68.3\" font-family=\"Times,serif\" font-size=\"14.00\">a</text>\n</g>\n<!-- Add&#45;&gt;a_G3 -->\n<g id=\"edge3\" class=\"edge\">\n<title>Add:e-&gt;a_G3:w</title>\n<path fill=\"none\" stroke=\"black\" d=\"M113,-56C130.22,-56 131.97,-70.77 147.98,-71.93\"/>\n<ellipse fill=\"black\" stroke=\"black\" cx=\"149\" cy=\"-71.96\" rx=\"1\" ry=\"1\"/>\n<text text-anchor=\"middle\" x=\"131.5\" y=\"-67\" font-family=\"Times,serif\" font-size=\"10.00\">4</text>\n</g>\n<!-- b_G5 -->\n<g id=\"node5\" class=\"node\">\n<title>b_G5</title>\n<text text-anchor=\"middle\" x=\"177\" y=\"-14.3\" font-family=\"Times,serif\" font-size=\"14.00\">b</text>\n</g>\n<!-- Add&#45;&gt;b_G5 -->\n<g id=\"edge4\" class=\"edge\">\n<title>Add:e-&gt;b_G5:w</title>\n<path fill=\"none\" stroke=\"black\" d=\"M113,-34C130.22,-34 131.97,-19.23 147.98,-18.07\"/>\n<ellipse fill=\"black\" stroke=\"black\" cx=\"149\" cy=\"-18.04\" rx=\"1\" ry=\"1\"/>\n<text text-anchor=\"middle\" x=\"131.5\" y=\"-29\" font-family=\"Times,serif\" font-size=\"10.00\">4</text>\n</g>\n</g>\n</svg>",
          "text/plain": "<IPython.core.display.SVG object>"
         },
         "metadata": {},
         "output_type": "display_data"
        }
       ],
       "tabbable": null,
       "tooltip": null
      }
     },
     "2be1404c24cd49d49417b5111aa5d0ac": {
      "model_module": "@jupyter-widgets/output",
      "model_module_version": "1.0.0",
      "model_name": "OutputModel",
      "state": {
       "_dom_classes": [],
       "_model_module": "@jupyter-widgets/output",
       "_model_module_version": "1.0.0",
       "_model_name": "OutputModel",
       "_view_count": null,
       "_view_module": "@jupyter-widgets/output",
       "_view_module_version": "1.0.0",
       "_view_name": "OutputView",
       "layout": "IPY_MODEL_9277c942804e465e834fe4faf2a80671",
       "msg_id": "",
       "outputs": [
        {
         "data": {
          "text/markdown": "`add_k_large`",
          "text/plain": "<IPython.core.display.Markdown object>"
         },
         "metadata": {},
         "output_type": "display_data"
        },
        {
         "data": {
          "image/svg+xml": "<svg xmlns=\"http://www.w3.org/2000/svg\" xmlns:xlink=\"http://www.w3.org/1999/xlink\" width=\"243pt\" height=\"54pt\" viewBox=\"0.00 0.00 243.00 54.00\">\n<g id=\"graph0\" class=\"graph\" transform=\"scale(1 1) rotate(0) translate(4 50)\">\n<title>my_graph</title>\n<polygon fill=\"white\" stroke=\"transparent\" points=\"-4,4 -4,-50 239,-50 239,4 -4,4\"/>\n<!-- x_G2 -->\n<g id=\"node1\" class=\"node\">\n<title>x_G2</title>\n<text text-anchor=\"middle\" x=\"27\" y=\"-14.3\" font-family=\"Times,serif\" font-size=\"14.00\">x</text>\n</g>\n<!-- AddConstantMod -->\n<g id=\"node2\" class=\"node\">\n<title>AddConstantMod</title>\n<polygon fill=\"none\" stroke=\"black\" points=\"91.5,-29 91.5,-46 144.5,-46 144.5,-29 91.5,-29\"/>\n<text text-anchor=\"start\" x=\"94.5\" y=\"-35\" font-family=\"Times,serif\" font-size=\"10.00\">AddConst..</text>\n<polygon fill=\"none\" stroke=\"black\" points=\"91.5,-8 91.5,-29 144.5,-29 144.5,-8 91.5,-8\"/>\n<text text-anchor=\"start\" x=\"114.5\" y=\"-14.8\" font-family=\"Times,serif\" font-size=\"14.00\">x</text>\n</g>\n<!-- x_G2&#45;&gt;AddConstantMod -->\n<g id=\"edge1\" class=\"edge\">\n<title>x_G2:e-&gt;AddConstantMod:w</title>\n<path fill=\"none\" stroke=\"black\" d=\"M54,-18C69.67,-18 74.14,-18 88.77,-18\"/>\n<ellipse fill=\"black\" stroke=\"black\" cx=\"90\" cy=\"-18\" rx=\"1\" ry=\"1\"/>\n<text text-anchor=\"middle\" x=\"72.5\" y=\"-21\" font-family=\"Times,serif\" font-size=\"10.00\">64</text>\n</g>\n<!-- x_G0 -->\n<g id=\"node3\" class=\"node\">\n<title>x_G0</title>\n<text text-anchor=\"middle\" x=\"208\" y=\"-14.3\" font-family=\"Times,serif\" font-size=\"14.00\">x</text>\n</g>\n<!-- AddConstantMod&#45;&gt;x_G0 -->\n<g id=\"edge2\" class=\"edge\">\n<title>AddConstantMod:e-&gt;x_G0:w</title>\n<path fill=\"none\" stroke=\"black\" d=\"M144,-18C159.67,-18 164.14,-18 178.77,-18\"/>\n<ellipse fill=\"black\" stroke=\"black\" cx=\"180\" cy=\"-18\" rx=\"1\" ry=\"1\"/>\n<text text-anchor=\"middle\" x=\"162.5\" y=\"-21\" font-family=\"Times,serif\" font-size=\"10.00\">64</text>\n</g>\n</g>\n</svg>",
          "text/plain": "<IPython.core.display.SVG object>"
         },
         "metadata": {},
         "output_type": "display_data"
        }
       ],
       "tabbable": null,
       "tooltip": null
      }
     },
     "5143cea10d824dfa82f7a189464bf7ad": {
      "model_module": "@jupyter-widgets/output",
      "model_module_version": "1.0.0",
      "model_name": "OutputModel",
      "state": {
       "_dom_classes": [],
       "_model_module": "@jupyter-widgets/output",
       "_model_module_version": "1.0.0",
       "_model_name": "OutputModel",
       "_view_count": null,
       "_view_module": "@jupyter-widgets/output",
       "_view_module_version": "1.0.0",
       "_view_name": "OutputView",
       "layout": "IPY_MODEL_6308c1990e9e487f8d99e6c36cc35d3b",
       "msg_id": "",
       "outputs": [
        {
         "data": {
          "text/markdown": "`add_oop_symb`",
          "text/plain": "<IPython.core.display.Markdown object>"
         },
         "metadata": {},
         "output_type": "display_data"
        },
        {
         "data": {
          "image/svg+xml": "<svg xmlns=\"http://www.w3.org/2000/svg\" xmlns:xlink=\"http://www.w3.org/1999/xlink\" width=\"232pt\" height=\"152pt\" viewBox=\"0.00 0.00 232.00 152.00\">\n<g id=\"graph0\" class=\"graph\" transform=\"scale(1 1) rotate(0) translate(4 148)\">\n<title>my_graph</title>\n<polygon fill=\"white\" stroke=\"transparent\" points=\"-4,4 -4,-148 228,-148 228,4 -4,4\"/>\n<!-- a_G1 -->\n<g id=\"node1\" class=\"node\">\n<title>a_G1</title>\n<text text-anchor=\"middle\" x=\"27\" y=\"-106.3\" font-family=\"Times,serif\" font-size=\"14.00\">a</text>\n</g>\n<!-- OutOfPlaceAdder -->\n<g id=\"node3\" class=\"node\">\n<title>OutOfPlaceAdder</title>\n<polygon fill=\"none\" stroke=\"black\" points=\"91,-104 91,-121 133,-121 133,-104 91,-104\"/>\n<text text-anchor=\"start\" x=\"94\" y=\"-110\" font-family=\"Times,serif\" font-size=\"10.00\">c = a + b</text>\n<polygon fill=\"none\" stroke=\"black\" points=\"91,-83 91,-104 133,-104 133,-83 91,-83\"/>\n<text text-anchor=\"start\" x=\"108.5\" y=\"-89.8\" font-family=\"Times,serif\" font-size=\"14.00\">a</text>\n<polygon fill=\"none\" stroke=\"black\" points=\"91,-62 91,-83 133,-83 133,-62 91,-62\"/>\n<text text-anchor=\"start\" x=\"108.5\" y=\"-68.8\" font-family=\"Times,serif\" font-size=\"14.00\">b</text>\n<polygon fill=\"none\" stroke=\"black\" points=\"91,-41 91,-62 108,-62 108,-41 91,-41\"/>\n<polygon fill=\"none\" stroke=\"black\" points=\"108,-41 108,-62 133,-62 133,-41 108,-41\"/>\n<text text-anchor=\"start\" x=\"117\" y=\"-47.8\" font-family=\"Times,serif\" font-size=\"14.00\">c</text>\n</g>\n<!-- a_G1&#45;&gt;OutOfPlaceAdder -->\n<g id=\"edge1\" class=\"edge\">\n<title>a_G1:e-&gt;OutOfPlaceAdder:w</title>\n<path fill=\"none\" stroke=\"black\" d=\"M54,-110C71.22,-110 72.97,-95.23 88.98,-94.07\"/>\n<ellipse fill=\"black\" stroke=\"black\" cx=\"90\" cy=\"-94.04\" rx=\"1\" ry=\"1\"/>\n<text text-anchor=\"middle\" x=\"72.5\" y=\"-105\" font-family=\"Times,serif\" font-size=\"10.00\">n</text>\n</g>\n<!-- b_G3 -->\n<g id=\"node2\" class=\"node\">\n<title>b_G3</title>\n<text text-anchor=\"middle\" x=\"27\" y=\"-52.3\" font-family=\"Times,serif\" font-size=\"14.00\">b</text>\n</g>\n<!-- b_G3&#45;&gt;OutOfPlaceAdder -->\n<g id=\"edge2\" class=\"edge\">\n<title>b_G3:e-&gt;OutOfPlaceAdder:w</title>\n<path fill=\"none\" stroke=\"black\" d=\"M54,-56C71.22,-56 72.97,-70.77 88.98,-71.93\"/>\n<ellipse fill=\"black\" stroke=\"black\" cx=\"90\" cy=\"-71.96\" rx=\"1\" ry=\"1\"/>\n<text text-anchor=\"middle\" x=\"72.5\" y=\"-68\" font-family=\"Times,serif\" font-size=\"10.00\">n</text>\n</g>\n<!-- a_G4 -->\n<g id=\"node4\" class=\"node\">\n<title>a_G4</title>\n<text text-anchor=\"middle\" x=\"197\" y=\"-122.3\" font-family=\"Times,serif\" font-size=\"14.00\">a</text>\n</g>\n<!-- OutOfPlaceAdder&#45;&gt;a_G4 -->\n<g id=\"edge3\" class=\"edge\">\n<title>OutOfPlaceAdder:e-&gt;a_G4:w</title>\n<path fill=\"none\" stroke=\"black\" d=\"M133,-94C153.89,-94 148.72,-123.55 167.58,-125.86\"/>\n<ellipse fill=\"black\" stroke=\"black\" cx=\"169\" cy=\"-125.94\" rx=\"1\" ry=\"1\"/>\n<text text-anchor=\"middle\" x=\"151.5\" y=\"-113\" font-family=\"Times,serif\" font-size=\"10.00\">n</text>\n</g>\n<!-- b_G0 -->\n<g id=\"node5\" class=\"node\">\n<title>b_G0</title>\n<text text-anchor=\"middle\" x=\"197\" y=\"-68.3\" font-family=\"Times,serif\" font-size=\"14.00\">b</text>\n</g>\n<!-- OutOfPlaceAdder&#45;&gt;b_G0 -->\n<g id=\"edge4\" class=\"edge\">\n<title>OutOfPlaceAdder:e-&gt;b_G0:w</title>\n<path fill=\"none\" stroke=\"black\" d=\"M133,-72C148.67,-72 153.14,-72 167.77,-72\"/>\n<ellipse fill=\"black\" stroke=\"black\" cx=\"169\" cy=\"-72\" rx=\"1\" ry=\"1\"/>\n<text text-anchor=\"middle\" x=\"151.5\" y=\"-75\" font-family=\"Times,serif\" font-size=\"10.00\">n</text>\n</g>\n<!-- c_G6 -->\n<g id=\"node6\" class=\"node\">\n<title>c_G6</title>\n<text text-anchor=\"middle\" x=\"197\" y=\"-14.3\" font-family=\"Times,serif\" font-size=\"14.00\">c</text>\n</g>\n<!-- OutOfPlaceAdder&#45;&gt;c_G6 -->\n<g id=\"edge5\" class=\"edge\">\n<title>OutOfPlaceAdder:e-&gt;c_G6:w</title>\n<path fill=\"none\" stroke=\"black\" d=\"M133,-51C154.17,-51 148.47,-20.53 167.55,-18.15\"/>\n<ellipse fill=\"black\" stroke=\"black\" cx=\"169\" cy=\"-18.06\" rx=\"1\" ry=\"1\"/>\n<text text-anchor=\"middle\" x=\"151.5\" y=\"-39\" font-family=\"Times,serif\" font-size=\"10.00\">n + 1</text>\n</g>\n</g>\n</svg>",
          "text/plain": "<IPython.core.display.SVG object>"
         },
         "metadata": {},
         "output_type": "display_data"
        }
       ],
       "tabbable": null,
       "tooltip": null
      }
     },
     "61eb84171e854ee19ba6ffcac9557012": {
      "model_module": "@jupyter-widgets/base",
      "model_module_version": "2.0.0",
      "model_name": "LayoutModel",
      "state": {
       "_model_module": "@jupyter-widgets/base",
       "_model_module_version": "2.0.0",
       "_model_name": "LayoutModel",
       "_view_count": null,
       "_view_module": "@jupyter-widgets/base",
       "_view_module_version": "2.0.0",
       "_view_name": "LayoutView",
       "align_content": null,
       "align_items": null,
       "align_self": null,
       "border_bottom": null,
       "border_left": null,
       "border_right": null,
       "border_top": null,
       "bottom": null,
       "display": null,
       "flex": null,
       "flex_flow": null,
       "grid_area": null,
       "grid_auto_columns": null,
       "grid_auto_flow": null,
       "grid_auto_rows": null,
       "grid_column": null,
       "grid_gap": null,
       "grid_row": null,
       "grid_template_areas": null,
       "grid_template_columns": null,
       "grid_template_rows": null,
       "height": null,
       "justify_content": null,
       "justify_items": null,
       "left": null,
       "margin": null,
       "max_height": null,
       "max_width": null,
       "min_height": null,
       "min_width": null,
       "object_fit": null,
       "object_position": null,
       "order": null,
       "overflow": null,
       "padding": null,
       "right": null,
       "top": null,
       "visibility": null,
       "width": null
      }
     },
     "6308c1990e9e487f8d99e6c36cc35d3b": {
      "model_module": "@jupyter-widgets/base",
      "model_module_version": "2.0.0",
      "model_name": "LayoutModel",
      "state": {
       "_model_module": "@jupyter-widgets/base",
       "_model_module_version": "2.0.0",
       "_model_name": "LayoutModel",
       "_view_count": null,
       "_view_module": "@jupyter-widgets/base",
       "_view_module_version": "2.0.0",
       "_view_name": "LayoutView",
       "align_content": null,
       "align_items": null,
       "align_self": null,
       "border_bottom": null,
       "border_left": null,
       "border_right": null,
       "border_top": null,
       "bottom": null,
       "display": null,
       "flex": null,
       "flex_flow": null,
       "grid_area": null,
       "grid_auto_columns": null,
       "grid_auto_flow": null,
       "grid_auto_rows": null,
       "grid_column": null,
       "grid_gap": null,
       "grid_row": null,
       "grid_template_areas": null,
       "grid_template_columns": null,
       "grid_template_rows": null,
       "height": null,
       "justify_content": null,
       "justify_items": null,
       "left": null,
       "margin": null,
       "max_height": null,
       "max_width": null,
       "min_height": null,
       "min_width": null,
       "object_fit": null,
       "object_position": null,
       "order": null,
       "overflow": null,
       "padding": null,
       "right": null,
       "top": null,
       "visibility": null,
       "width": null
      }
     },
     "6ed3b9718e324f2b9a5c6986fe63cd41": {
      "model_module": "@jupyter-widgets/output",
      "model_module_version": "1.0.0",
      "model_name": "OutputModel",
      "state": {
       "_dom_classes": [],
       "_model_module": "@jupyter-widgets/output",
       "_model_module_version": "1.0.0",
       "_model_name": "OutputModel",
       "_view_count": null,
       "_view_module": "@jupyter-widgets/output",
       "_view_module_version": "1.0.0",
       "_view_name": "OutputView",
       "layout": "IPY_MODEL_91351eede3a142479e7f33c6f601f809",
       "msg_id": "",
       "outputs": [
        {
         "data": {
          "text/markdown": "`add_oop_small`",
          "text/plain": "<IPython.core.display.Markdown object>"
         },
         "metadata": {},
         "output_type": "display_data"
        },
        {
         "data": {
          "image/svg+xml": "<svg xmlns=\"http://www.w3.org/2000/svg\" xmlns:xlink=\"http://www.w3.org/1999/xlink\" width=\"232pt\" height=\"152pt\" viewBox=\"0.00 0.00 232.00 152.00\">\n<g id=\"graph0\" class=\"graph\" transform=\"scale(1 1) rotate(0) translate(4 148)\">\n<title>my_graph</title>\n<polygon fill=\"white\" stroke=\"transparent\" points=\"-4,4 -4,-148 228,-148 228,4 -4,4\"/>\n<!-- a_G4 -->\n<g id=\"node1\" class=\"node\">\n<title>a_G4</title>\n<text text-anchor=\"middle\" x=\"27\" y=\"-106.3\" font-family=\"Times,serif\" font-size=\"14.00\">a</text>\n</g>\n<!-- OutOfPlaceAdder -->\n<g id=\"node3\" class=\"node\">\n<title>OutOfPlaceAdder</title>\n<polygon fill=\"none\" stroke=\"black\" points=\"91,-104 91,-121 133,-121 133,-104 91,-104\"/>\n<text text-anchor=\"start\" x=\"94\" y=\"-110\" font-family=\"Times,serif\" font-size=\"10.00\">c = a + b</text>\n<polygon fill=\"none\" stroke=\"black\" points=\"91,-83 91,-104 133,-104 133,-83 91,-83\"/>\n<text text-anchor=\"start\" x=\"108.5\" y=\"-89.8\" font-family=\"Times,serif\" font-size=\"14.00\">a</text>\n<polygon fill=\"none\" stroke=\"black\" points=\"91,-62 91,-83 133,-83 133,-62 91,-62\"/>\n<text text-anchor=\"start\" x=\"108.5\" y=\"-68.8\" font-family=\"Times,serif\" font-size=\"14.00\">b</text>\n<polygon fill=\"none\" stroke=\"black\" points=\"91,-41 91,-62 108,-62 108,-41 91,-41\"/>\n<polygon fill=\"none\" stroke=\"black\" points=\"108,-41 108,-62 133,-62 133,-41 108,-41\"/>\n<text text-anchor=\"start\" x=\"117\" y=\"-47.8\" font-family=\"Times,serif\" font-size=\"14.00\">c</text>\n</g>\n<!-- a_G4&#45;&gt;OutOfPlaceAdder -->\n<g id=\"edge1\" class=\"edge\">\n<title>a_G4:e-&gt;OutOfPlaceAdder:w</title>\n<path fill=\"none\" stroke=\"black\" d=\"M54,-110C71.22,-110 72.97,-95.23 88.98,-94.07\"/>\n<ellipse fill=\"black\" stroke=\"black\" cx=\"90\" cy=\"-94.04\" rx=\"1\" ry=\"1\"/>\n<text text-anchor=\"middle\" x=\"72.5\" y=\"-105\" font-family=\"Times,serif\" font-size=\"10.00\">4</text>\n</g>\n<!-- b_G0 -->\n<g id=\"node2\" class=\"node\">\n<title>b_G0</title>\n<text text-anchor=\"middle\" x=\"27\" y=\"-52.3\" font-family=\"Times,serif\" font-size=\"14.00\">b</text>\n</g>\n<!-- b_G0&#45;&gt;OutOfPlaceAdder -->\n<g id=\"edge2\" class=\"edge\">\n<title>b_G0:e-&gt;OutOfPlaceAdder:w</title>\n<path fill=\"none\" stroke=\"black\" d=\"M54,-56C71.22,-56 72.97,-70.77 88.98,-71.93\"/>\n<ellipse fill=\"black\" stroke=\"black\" cx=\"90\" cy=\"-71.96\" rx=\"1\" ry=\"1\"/>\n<text text-anchor=\"middle\" x=\"72.5\" y=\"-68\" font-family=\"Times,serif\" font-size=\"10.00\">4</text>\n</g>\n<!-- a_G1 -->\n<g id=\"node4\" class=\"node\">\n<title>a_G1</title>\n<text text-anchor=\"middle\" x=\"197\" y=\"-122.3\" font-family=\"Times,serif\" font-size=\"14.00\">a</text>\n</g>\n<!-- OutOfPlaceAdder&#45;&gt;a_G1 -->\n<g id=\"edge3\" class=\"edge\">\n<title>OutOfPlaceAdder:e-&gt;a_G1:w</title>\n<path fill=\"none\" stroke=\"black\" d=\"M133,-94C153.89,-94 148.72,-123.55 167.58,-125.86\"/>\n<ellipse fill=\"black\" stroke=\"black\" cx=\"169\" cy=\"-125.94\" rx=\"1\" ry=\"1\"/>\n<text text-anchor=\"middle\" x=\"151.5\" y=\"-113\" font-family=\"Times,serif\" font-size=\"10.00\">4</text>\n</g>\n<!-- b_G2 -->\n<g id=\"node5\" class=\"node\">\n<title>b_G2</title>\n<text text-anchor=\"middle\" x=\"197\" y=\"-68.3\" font-family=\"Times,serif\" font-size=\"14.00\">b</text>\n</g>\n<!-- OutOfPlaceAdder&#45;&gt;b_G2 -->\n<g id=\"edge4\" class=\"edge\">\n<title>OutOfPlaceAdder:e-&gt;b_G2:w</title>\n<path fill=\"none\" stroke=\"black\" d=\"M133,-72C148.67,-72 153.14,-72 167.77,-72\"/>\n<ellipse fill=\"black\" stroke=\"black\" cx=\"169\" cy=\"-72\" rx=\"1\" ry=\"1\"/>\n<text text-anchor=\"middle\" x=\"151.5\" y=\"-75\" font-family=\"Times,serif\" font-size=\"10.00\">4</text>\n</g>\n<!-- c_G7 -->\n<g id=\"node6\" class=\"node\">\n<title>c_G7</title>\n<text text-anchor=\"middle\" x=\"197\" y=\"-14.3\" font-family=\"Times,serif\" font-size=\"14.00\">c</text>\n</g>\n<!-- OutOfPlaceAdder&#45;&gt;c_G7 -->\n<g id=\"edge5\" class=\"edge\">\n<title>OutOfPlaceAdder:e-&gt;c_G7:w</title>\n<path fill=\"none\" stroke=\"black\" d=\"M133,-51C154.17,-51 148.47,-20.53 167.55,-18.15\"/>\n<ellipse fill=\"black\" stroke=\"black\" cx=\"169\" cy=\"-18.06\" rx=\"1\" ry=\"1\"/>\n<text text-anchor=\"middle\" x=\"151.5\" y=\"-39\" font-family=\"Times,serif\" font-size=\"10.00\">5</text>\n</g>\n</g>\n</svg>",
          "text/plain": "<IPython.core.display.SVG object>"
         },
         "metadata": {},
         "output_type": "display_data"
        }
       ],
       "tabbable": null,
       "tooltip": null
      }
     },
     "803838e3a5cb4f65a4032c991ca61513": {
      "model_module": "@jupyter-widgets/output",
      "model_module_version": "1.0.0",
      "model_name": "OutputModel",
      "state": {
       "_dom_classes": [],
       "_model_module": "@jupyter-widgets/output",
       "_model_module_version": "1.0.0",
       "_model_name": "OutputModel",
       "_view_count": null,
       "_view_module": "@jupyter-widgets/output",
       "_view_module_version": "1.0.0",
       "_view_name": "OutputView",
       "layout": "IPY_MODEL_a8be1e957b194981a541539461313bd3",
       "msg_id": "",
       "outputs": [
        {
         "data": {
          "text/markdown": "`add_symb`",
          "text/plain": "<IPython.core.display.Markdown object>"
         },
         "metadata": {},
         "output_type": "display_data"
        },
        {
         "data": {
          "image/svg+xml": "<svg xmlns=\"http://www.w3.org/2000/svg\" xmlns:xlink=\"http://www.w3.org/1999/xlink\" width=\"212pt\" height=\"98pt\" viewBox=\"0.00 0.00 212.00 98.00\">\n<g id=\"graph0\" class=\"graph\" transform=\"scale(1 1) rotate(0) translate(4 94)\">\n<title>my_graph</title>\n<polygon fill=\"white\" stroke=\"transparent\" points=\"-4,4 -4,-94 208,-94 208,4 -4,4\"/>\n<!-- a_G5 -->\n<g id=\"node1\" class=\"node\">\n<title>a_G5</title>\n<text text-anchor=\"middle\" x=\"27\" y=\"-68.3\" font-family=\"Times,serif\" font-size=\"14.00\">a</text>\n</g>\n<!-- Add -->\n<g id=\"node3\" class=\"node\">\n<title>Add</title>\n<polygon fill=\"none\" stroke=\"black\" points=\"91,-66 91,-83 113,-83 113,-66 91,-66\"/>\n<text text-anchor=\"start\" x=\"94\" y=\"-72\" font-family=\"Times,serif\" font-size=\"10.00\">a+b</text>\n<polygon fill=\"none\" stroke=\"black\" points=\"91,-45 91,-66 113,-66 113,-45 91,-45\"/>\n<text text-anchor=\"start\" x=\"98.5\" y=\"-51.8\" font-family=\"Times,serif\" font-size=\"14.00\">a</text>\n<polygon fill=\"none\" stroke=\"black\" points=\"91,-24 91,-45 113,-45 113,-24 91,-24\"/>\n<text text-anchor=\"start\" x=\"98.5\" y=\"-30.8\" font-family=\"Times,serif\" font-size=\"14.00\">b</text>\n</g>\n<!-- a_G5&#45;&gt;Add -->\n<g id=\"edge1\" class=\"edge\">\n<title>a_G5:e-&gt;Add:w</title>\n<path fill=\"none\" stroke=\"black\" d=\"M54,-72C71.22,-72 72.97,-57.23 88.98,-56.07\"/>\n<ellipse fill=\"black\" stroke=\"black\" cx=\"90\" cy=\"-56.04\" rx=\"1\" ry=\"1\"/>\n<text text-anchor=\"middle\" x=\"72.5\" y=\"-67\" font-family=\"Times,serif\" font-size=\"10.00\">n</text>\n</g>\n<!-- b_G1 -->\n<g id=\"node2\" class=\"node\">\n<title>b_G1</title>\n<text text-anchor=\"middle\" x=\"27\" y=\"-14.3\" font-family=\"Times,serif\" font-size=\"14.00\">b</text>\n</g>\n<!-- b_G1&#45;&gt;Add -->\n<g id=\"edge2\" class=\"edge\">\n<title>b_G1:e-&gt;Add:w</title>\n<path fill=\"none\" stroke=\"black\" d=\"M54,-18C71.22,-18 72.97,-32.77 88.98,-33.93\"/>\n<ellipse fill=\"black\" stroke=\"black\" cx=\"90\" cy=\"-33.96\" rx=\"1\" ry=\"1\"/>\n<text text-anchor=\"middle\" x=\"72.5\" y=\"-29\" font-family=\"Times,serif\" font-size=\"10.00\">n</text>\n</g>\n<!-- a_G0 -->\n<g id=\"node4\" class=\"node\">\n<title>a_G0</title>\n<text text-anchor=\"middle\" x=\"177\" y=\"-68.3\" font-family=\"Times,serif\" font-size=\"14.00\">a</text>\n</g>\n<!-- Add&#45;&gt;a_G0 -->\n<g id=\"edge3\" class=\"edge\">\n<title>Add:e-&gt;a_G0:w</title>\n<path fill=\"none\" stroke=\"black\" d=\"M113,-56C130.22,-56 131.97,-70.77 147.98,-71.93\"/>\n<ellipse fill=\"black\" stroke=\"black\" cx=\"149\" cy=\"-71.96\" rx=\"1\" ry=\"1\"/>\n<text text-anchor=\"middle\" x=\"131.5\" y=\"-67\" font-family=\"Times,serif\" font-size=\"10.00\">n</text>\n</g>\n<!-- b_G3 -->\n<g id=\"node5\" class=\"node\">\n<title>b_G3</title>\n<text text-anchor=\"middle\" x=\"177\" y=\"-14.3\" font-family=\"Times,serif\" font-size=\"14.00\">b</text>\n</g>\n<!-- Add&#45;&gt;b_G3 -->\n<g id=\"edge4\" class=\"edge\">\n<title>Add:e-&gt;b_G3:w</title>\n<path fill=\"none\" stroke=\"black\" d=\"M113,-34C130.22,-34 131.97,-19.23 147.98,-18.07\"/>\n<ellipse fill=\"black\" stroke=\"black\" cx=\"149\" cy=\"-18.04\" rx=\"1\" ry=\"1\"/>\n<text text-anchor=\"middle\" x=\"131.5\" y=\"-29\" font-family=\"Times,serif\" font-size=\"10.00\">n</text>\n</g>\n</g>\n</svg>",
          "text/plain": "<IPython.core.display.SVG object>"
         },
         "metadata": {},
         "output_type": "display_data"
        }
       ],
       "tabbable": null,
       "tooltip": null
      }
     },
     "8175171713504bb09a8c18b656625dcf": {
      "model_module": "@jupyter-widgets/output",
      "model_module_version": "1.0.0",
      "model_name": "OutputModel",
      "state": {
       "_dom_classes": [],
       "_model_module": "@jupyter-widgets/output",
       "_model_module_version": "1.0.0",
       "_model_name": "OutputModel",
       "_view_count": null,
       "_view_module": "@jupyter-widgets/output",
       "_view_module_version": "1.0.0",
       "_view_name": "OutputView",
       "layout": "IPY_MODEL_61eb84171e854ee19ba6ffcac9557012",
       "msg_id": "",
       "outputs": [
        {
         "data": {
          "text/markdown": "`add_k_small`",
          "text/plain": "<IPython.core.display.Markdown object>"
         },
         "metadata": {},
         "output_type": "display_data"
        },
        {
         "data": {
          "image/svg+xml": "<svg xmlns=\"http://www.w3.org/2000/svg\" xmlns:xlink=\"http://www.w3.org/1999/xlink\" width=\"243pt\" height=\"54pt\" viewBox=\"0.00 0.00 243.00 54.00\">\n<g id=\"graph0\" class=\"graph\" transform=\"scale(1 1) rotate(0) translate(4 50)\">\n<title>my_graph</title>\n<polygon fill=\"white\" stroke=\"transparent\" points=\"-4,4 -4,-50 239,-50 239,4 -4,4\"/>\n<!-- x_G0 -->\n<g id=\"node1\" class=\"node\">\n<title>x_G0</title>\n<text text-anchor=\"middle\" x=\"27\" y=\"-14.3\" font-family=\"Times,serif\" font-size=\"14.00\">x</text>\n</g>\n<!-- AddConstantMod -->\n<g id=\"node2\" class=\"node\">\n<title>AddConstantMod</title>\n<polygon fill=\"none\" stroke=\"black\" points=\"91.5,-29 91.5,-46 144.5,-46 144.5,-29 91.5,-29\"/>\n<text text-anchor=\"start\" x=\"94.5\" y=\"-35\" font-family=\"Times,serif\" font-size=\"10.00\">AddConst..</text>\n<polygon fill=\"none\" stroke=\"black\" points=\"91.5,-8 91.5,-29 144.5,-29 144.5,-8 91.5,-8\"/>\n<text text-anchor=\"start\" x=\"114.5\" y=\"-14.8\" font-family=\"Times,serif\" font-size=\"14.00\">x</text>\n</g>\n<!-- x_G0&#45;&gt;AddConstantMod -->\n<g id=\"edge1\" class=\"edge\">\n<title>x_G0:e-&gt;AddConstantMod:w</title>\n<path fill=\"none\" stroke=\"black\" d=\"M54,-18C69.67,-18 74.14,-18 88.77,-18\"/>\n<ellipse fill=\"black\" stroke=\"black\" cx=\"90\" cy=\"-18\" rx=\"1\" ry=\"1\"/>\n<text text-anchor=\"middle\" x=\"72.5\" y=\"-21\" font-family=\"Times,serif\" font-size=\"10.00\">4</text>\n</g>\n<!-- x_G2 -->\n<g id=\"node3\" class=\"node\">\n<title>x_G2</title>\n<text text-anchor=\"middle\" x=\"208\" y=\"-14.3\" font-family=\"Times,serif\" font-size=\"14.00\">x</text>\n</g>\n<!-- AddConstantMod&#45;&gt;x_G2 -->\n<g id=\"edge2\" class=\"edge\">\n<title>AddConstantMod:e-&gt;x_G2:w</title>\n<path fill=\"none\" stroke=\"black\" d=\"M144,-18C159.67,-18 164.14,-18 178.77,-18\"/>\n<ellipse fill=\"black\" stroke=\"black\" cx=\"180\" cy=\"-18\" rx=\"1\" ry=\"1\"/>\n<text text-anchor=\"middle\" x=\"162.5\" y=\"-21\" font-family=\"Times,serif\" font-size=\"10.00\">4</text>\n</g>\n</g>\n</svg>",
          "text/plain": "<IPython.core.display.SVG object>"
         },
         "metadata": {},
         "output_type": "display_data"
        }
       ],
       "tabbable": null,
       "tooltip": null
      }
     },
     "8266fec1f2834f1a8c542a1bc8316e5e": {
      "model_module": "@jupyter-widgets/base",
      "model_module_version": "2.0.0",
      "model_name": "LayoutModel",
      "state": {
       "_model_module": "@jupyter-widgets/base",
       "_model_module_version": "2.0.0",
       "_model_name": "LayoutModel",
       "_view_count": null,
       "_view_module": "@jupyter-widgets/base",
       "_view_module_version": "2.0.0",
       "_view_name": "LayoutView",
       "align_content": null,
       "align_items": null,
       "align_self": null,
       "border_bottom": null,
       "border_left": null,
       "border_right": null,
       "border_top": null,
       "bottom": null,
       "display": null,
       "flex": null,
       "flex_flow": null,
       "grid_area": null,
       "grid_auto_columns": null,
       "grid_auto_flow": null,
       "grid_auto_rows": null,
       "grid_column": null,
       "grid_gap": null,
       "grid_row": null,
       "grid_template_areas": null,
       "grid_template_columns": null,
       "grid_template_rows": null,
       "height": null,
       "justify_content": null,
       "justify_items": null,
       "left": null,
       "margin": null,
       "max_height": null,
       "max_width": null,
       "min_height": null,
       "min_width": null,
       "object_fit": null,
       "object_position": null,
       "order": null,
       "overflow": null,
       "padding": null,
       "right": null,
       "top": null,
       "visibility": null,
       "width": null
      }
     },
     "84932933cbd74122ab16e714609094e2": {
      "model_module": "@jupyter-widgets/controls",
      "model_module_version": "2.0.0",
      "model_name": "HBoxModel",
      "state": {
       "_dom_classes": [],
       "_model_module": "@jupyter-widgets/controls",
       "_model_module_version": "2.0.0",
       "_model_name": "HBoxModel",
       "_view_count": null,
       "_view_module": "@jupyter-widgets/controls",
       "_view_module_version": "2.0.0",
       "_view_name": "HBoxView",
       "box_style": "",
       "children": [
        "IPY_MODEL_803838e3a5cb4f65a4032c991ca61513",
        "IPY_MODEL_0a2974199f184b33b49b5d8aa395c264",
        "IPY_MODEL_b36159df26b44608b7be66dd7105c59e"
       ],
       "layout": "IPY_MODEL_91f0253f78fc424fb1361b3367b45d78",
       "tabbable": null,
       "tooltip": null
      }
     },
     "8dacc0536fa744a9b301c224bc638117": {
      "model_module": "@jupyter-widgets/output",
      "model_module_version": "1.0.0",
      "model_name": "OutputModel",
      "state": {
       "_dom_classes": [],
       "_model_module": "@jupyter-widgets/output",
       "_model_module_version": "1.0.0",
       "_model_name": "OutputModel",
       "_view_count": null,
       "_view_module": "@jupyter-widgets/output",
       "_view_module_version": "1.0.0",
       "_view_name": "OutputView",
       "layout": "IPY_MODEL_8f2d2db5c55f4d78a5be20faad536f84",
       "msg_id": "",
       "outputs": [
        {
         "data": {
          "text/markdown": "`add_oop_large`",
          "text/plain": "<IPython.core.display.Markdown object>"
         },
         "metadata": {},
         "output_type": "display_data"
        },
        {
         "data": {
          "image/svg+xml": "<svg xmlns=\"http://www.w3.org/2000/svg\" xmlns:xlink=\"http://www.w3.org/1999/xlink\" width=\"232pt\" height=\"152pt\" viewBox=\"0.00 0.00 232.00 152.00\">\n<g id=\"graph0\" class=\"graph\" transform=\"scale(1 1) rotate(0) translate(4 148)\">\n<title>my_graph</title>\n<polygon fill=\"white\" stroke=\"transparent\" points=\"-4,4 -4,-148 228,-148 228,4 -4,4\"/>\n<!-- a_G5 -->\n<g id=\"node1\" class=\"node\">\n<title>a_G5</title>\n<text text-anchor=\"middle\" x=\"27\" y=\"-106.3\" font-family=\"Times,serif\" font-size=\"14.00\">a</text>\n</g>\n<!-- OutOfPlaceAdder -->\n<g id=\"node3\" class=\"node\">\n<title>OutOfPlaceAdder</title>\n<polygon fill=\"none\" stroke=\"black\" points=\"91,-104 91,-121 133,-121 133,-104 91,-104\"/>\n<text text-anchor=\"start\" x=\"94\" y=\"-110\" font-family=\"Times,serif\" font-size=\"10.00\">c = a + b</text>\n<polygon fill=\"none\" stroke=\"black\" points=\"91,-83 91,-104 133,-104 133,-83 91,-83\"/>\n<text text-anchor=\"start\" x=\"108.5\" y=\"-89.8\" font-family=\"Times,serif\" font-size=\"14.00\">a</text>\n<polygon fill=\"none\" stroke=\"black\" points=\"91,-62 91,-83 133,-83 133,-62 91,-62\"/>\n<text text-anchor=\"start\" x=\"108.5\" y=\"-68.8\" font-family=\"Times,serif\" font-size=\"14.00\">b</text>\n<polygon fill=\"none\" stroke=\"black\" points=\"91,-41 91,-62 108,-62 108,-41 91,-41\"/>\n<polygon fill=\"none\" stroke=\"black\" points=\"108,-41 108,-62 133,-62 133,-41 108,-41\"/>\n<text text-anchor=\"start\" x=\"117\" y=\"-47.8\" font-family=\"Times,serif\" font-size=\"14.00\">c</text>\n</g>\n<!-- a_G5&#45;&gt;OutOfPlaceAdder -->\n<g id=\"edge1\" class=\"edge\">\n<title>a_G5:e-&gt;OutOfPlaceAdder:w</title>\n<path fill=\"none\" stroke=\"black\" d=\"M54,-110C71.22,-110 72.97,-95.23 88.98,-94.07\"/>\n<ellipse fill=\"black\" stroke=\"black\" cx=\"90\" cy=\"-94.04\" rx=\"1\" ry=\"1\"/>\n<text text-anchor=\"middle\" x=\"72.5\" y=\"-105\" font-family=\"Times,serif\" font-size=\"10.00\">64</text>\n</g>\n<!-- b_G7 -->\n<g id=\"node2\" class=\"node\">\n<title>b_G7</title>\n<text text-anchor=\"middle\" x=\"27\" y=\"-52.3\" font-family=\"Times,serif\" font-size=\"14.00\">b</text>\n</g>\n<!-- b_G7&#45;&gt;OutOfPlaceAdder -->\n<g id=\"edge2\" class=\"edge\">\n<title>b_G7:e-&gt;OutOfPlaceAdder:w</title>\n<path fill=\"none\" stroke=\"black\" d=\"M54,-56C71.22,-56 72.97,-70.77 88.98,-71.93\"/>\n<ellipse fill=\"black\" stroke=\"black\" cx=\"90\" cy=\"-71.96\" rx=\"1\" ry=\"1\"/>\n<text text-anchor=\"middle\" x=\"72.5\" y=\"-68\" font-family=\"Times,serif\" font-size=\"10.00\">64</text>\n</g>\n<!-- a_G2 -->\n<g id=\"node4\" class=\"node\">\n<title>a_G2</title>\n<text text-anchor=\"middle\" x=\"197\" y=\"-122.3\" font-family=\"Times,serif\" font-size=\"14.00\">a</text>\n</g>\n<!-- OutOfPlaceAdder&#45;&gt;a_G2 -->\n<g id=\"edge3\" class=\"edge\">\n<title>OutOfPlaceAdder:e-&gt;a_G2:w</title>\n<path fill=\"none\" stroke=\"black\" d=\"M133,-94C153.89,-94 148.72,-123.55 167.58,-125.86\"/>\n<ellipse fill=\"black\" stroke=\"black\" cx=\"169\" cy=\"-125.94\" rx=\"1\" ry=\"1\"/>\n<text text-anchor=\"middle\" x=\"151.5\" y=\"-113\" font-family=\"Times,serif\" font-size=\"10.00\">64</text>\n</g>\n<!-- b_G1 -->\n<g id=\"node5\" class=\"node\">\n<title>b_G1</title>\n<text text-anchor=\"middle\" x=\"197\" y=\"-68.3\" font-family=\"Times,serif\" font-size=\"14.00\">b</text>\n</g>\n<!-- OutOfPlaceAdder&#45;&gt;b_G1 -->\n<g id=\"edge4\" class=\"edge\">\n<title>OutOfPlaceAdder:e-&gt;b_G1:w</title>\n<path fill=\"none\" stroke=\"black\" d=\"M133,-72C148.67,-72 153.14,-72 167.77,-72\"/>\n<ellipse fill=\"black\" stroke=\"black\" cx=\"169\" cy=\"-72\" rx=\"1\" ry=\"1\"/>\n<text text-anchor=\"middle\" x=\"151.5\" y=\"-75\" font-family=\"Times,serif\" font-size=\"10.00\">64</text>\n</g>\n<!-- c_G3 -->\n<g id=\"node6\" class=\"node\">\n<title>c_G3</title>\n<text text-anchor=\"middle\" x=\"197\" y=\"-14.3\" font-family=\"Times,serif\" font-size=\"14.00\">c</text>\n</g>\n<!-- OutOfPlaceAdder&#45;&gt;c_G3 -->\n<g id=\"edge5\" class=\"edge\">\n<title>OutOfPlaceAdder:e-&gt;c_G3:w</title>\n<path fill=\"none\" stroke=\"black\" d=\"M133,-51C154.17,-51 148.47,-20.53 167.55,-18.15\"/>\n<ellipse fill=\"black\" stroke=\"black\" cx=\"169\" cy=\"-18.06\" rx=\"1\" ry=\"1\"/>\n<text text-anchor=\"middle\" x=\"151.5\" y=\"-39\" font-family=\"Times,serif\" font-size=\"10.00\">65</text>\n</g>\n</g>\n</svg>",
          "text/plain": "<IPython.core.display.SVG object>"
         },
         "metadata": {},
         "output_type": "display_data"
        }
       ],
       "tabbable": null,
       "tooltip": null
      }
     },
     "8f2d2db5c55f4d78a5be20faad536f84": {
      "model_module": "@jupyter-widgets/base",
      "model_module_version": "2.0.0",
      "model_name": "LayoutModel",
      "state": {
       "_model_module": "@jupyter-widgets/base",
       "_model_module_version": "2.0.0",
       "_model_name": "LayoutModel",
       "_view_count": null,
       "_view_module": "@jupyter-widgets/base",
       "_view_module_version": "2.0.0",
       "_view_name": "LayoutView",
       "align_content": null,
       "align_items": null,
       "align_self": null,
       "border_bottom": null,
       "border_left": null,
       "border_right": null,
       "border_top": null,
       "bottom": null,
       "display": null,
       "flex": null,
       "flex_flow": null,
       "grid_area": null,
       "grid_auto_columns": null,
       "grid_auto_flow": null,
       "grid_auto_rows": null,
       "grid_column": null,
       "grid_gap": null,
       "grid_row": null,
       "grid_template_areas": null,
       "grid_template_columns": null,
       "grid_template_rows": null,
       "height": null,
       "justify_content": null,
       "justify_items": null,
       "left": null,
       "margin": null,
       "max_height": null,
       "max_width": null,
       "min_height": null,
       "min_width": null,
       "object_fit": null,
       "object_position": null,
       "order": null,
       "overflow": null,
       "padding": null,
       "right": null,
       "top": null,
       "visibility": null,
       "width": null
      }
     },
     "91351eede3a142479e7f33c6f601f809": {
      "model_module": "@jupyter-widgets/base",
      "model_module_version": "2.0.0",
      "model_name": "LayoutModel",
      "state": {
       "_model_module": "@jupyter-widgets/base",
       "_model_module_version": "2.0.0",
       "_model_name": "LayoutModel",
       "_view_count": null,
       "_view_module": "@jupyter-widgets/base",
       "_view_module_version": "2.0.0",
       "_view_name": "LayoutView",
       "align_content": null,
       "align_items": null,
       "align_self": null,
       "border_bottom": null,
       "border_left": null,
       "border_right": null,
       "border_top": null,
       "bottom": null,
       "display": null,
       "flex": null,
       "flex_flow": null,
       "grid_area": null,
       "grid_auto_columns": null,
       "grid_auto_flow": null,
       "grid_auto_rows": null,
       "grid_column": null,
       "grid_gap": null,
       "grid_row": null,
       "grid_template_areas": null,
       "grid_template_columns": null,
       "grid_template_rows": null,
       "height": null,
       "justify_content": null,
       "justify_items": null,
       "left": null,
       "margin": null,
       "max_height": null,
       "max_width": null,
       "min_height": null,
       "min_width": null,
       "object_fit": null,
       "object_position": null,
       "order": null,
       "overflow": null,
       "padding": null,
       "right": null,
       "top": null,
       "visibility": null,
       "width": null
      }
     },
     "91f0253f78fc424fb1361b3367b45d78": {
      "model_module": "@jupyter-widgets/base",
      "model_module_version": "2.0.0",
      "model_name": "LayoutModel",
      "state": {
       "_model_module": "@jupyter-widgets/base",
       "_model_module_version": "2.0.0",
       "_model_name": "LayoutModel",
       "_view_count": null,
       "_view_module": "@jupyter-widgets/base",
       "_view_module_version": "2.0.0",
       "_view_name": "LayoutView",
       "align_content": null,
       "align_items": null,
       "align_self": null,
       "border_bottom": null,
       "border_left": null,
       "border_right": null,
       "border_top": null,
       "bottom": null,
       "display": null,
       "flex": null,
       "flex_flow": null,
       "grid_area": null,
       "grid_auto_columns": null,
       "grid_auto_flow": null,
       "grid_auto_rows": null,
       "grid_column": null,
       "grid_gap": null,
       "grid_row": null,
       "grid_template_areas": null,
       "grid_template_columns": null,
       "grid_template_rows": null,
       "height": null,
       "justify_content": null,
       "justify_items": null,
       "left": null,
       "margin": null,
       "max_height": null,
       "max_width": null,
       "min_height": null,
       "min_width": null,
       "object_fit": null,
       "object_position": null,
       "order": null,
       "overflow": null,
       "padding": null,
       "right": null,
       "top": null,
       "visibility": null,
       "width": null
      }
     },
     "9277c942804e465e834fe4faf2a80671": {
      "model_module": "@jupyter-widgets/base",
      "model_module_version": "2.0.0",
      "model_name": "LayoutModel",
      "state": {
       "_model_module": "@jupyter-widgets/base",
       "_model_module_version": "2.0.0",
       "_model_name": "LayoutModel",
       "_view_count": null,
       "_view_module": "@jupyter-widgets/base",
       "_view_module_version": "2.0.0",
       "_view_name": "LayoutView",
       "align_content": null,
       "align_items": null,
       "align_self": null,
       "border_bottom": null,
       "border_left": null,
       "border_right": null,
       "border_top": null,
       "bottom": null,
       "display": null,
       "flex": null,
       "flex_flow": null,
       "grid_area": null,
       "grid_auto_columns": null,
       "grid_auto_flow": null,
       "grid_auto_rows": null,
       "grid_column": null,
       "grid_gap": null,
       "grid_row": null,
       "grid_template_areas": null,
       "grid_template_columns": null,
       "grid_template_rows": null,
       "height": null,
       "justify_content": null,
       "justify_items": null,
       "left": null,
       "margin": null,
       "max_height": null,
       "max_width": null,
       "min_height": null,
       "min_width": null,
       "object_fit": null,
       "object_position": null,
       "order": null,
       "overflow": null,
       "padding": null,
       "right": null,
       "top": null,
       "visibility": null,
       "width": null
      }
     },
     "9380a17b467b4f2e94d6988c9f8a21af": {
      "model_module": "@jupyter-widgets/controls",
      "model_module_version": "2.0.0",
      "model_name": "HBoxModel",
      "state": {
       "_dom_classes": [],
       "_model_module": "@jupyter-widgets/controls",
       "_model_module_version": "2.0.0",
       "_model_name": "HBoxModel",
       "_view_count": null,
       "_view_module": "@jupyter-widgets/controls",
       "_view_module_version": "2.0.0",
       "_view_name": "HBoxView",
       "box_style": "",
       "children": [
        "IPY_MODEL_5143cea10d824dfa82f7a189464bf7ad",
        "IPY_MODEL_6ed3b9718e324f2b9a5c6986fe63cd41",
        "IPY_MODEL_8dacc0536fa744a9b301c224bc638117"
       ],
       "layout": "IPY_MODEL_e4e495a01cd748c89a8d52c83aa9f0cb",
       "tabbable": null,
       "tooltip": null
      }
     },
     "a8be1e957b194981a541539461313bd3": {
      "model_module": "@jupyter-widgets/base",
      "model_module_version": "2.0.0",
      "model_name": "LayoutModel",
      "state": {
       "_model_module": "@jupyter-widgets/base",
       "_model_module_version": "2.0.0",
       "_model_name": "LayoutModel",
       "_view_count": null,
       "_view_module": "@jupyter-widgets/base",
       "_view_module_version": "2.0.0",
       "_view_name": "LayoutView",
       "align_content": null,
       "align_items": null,
       "align_self": null,
       "border_bottom": null,
       "border_left": null,
       "border_right": null,
       "border_top": null,
       "bottom": null,
       "display": null,
       "flex": null,
       "flex_flow": null,
       "grid_area": null,
       "grid_auto_columns": null,
       "grid_auto_flow": null,
       "grid_auto_rows": null,
       "grid_column": null,
       "grid_gap": null,
       "grid_row": null,
       "grid_template_areas": null,
       "grid_template_columns": null,
       "grid_template_rows": null,
       "height": null,
       "justify_content": null,
       "justify_items": null,
       "left": null,
       "margin": null,
       "max_height": null,
       "max_width": null,
       "min_height": null,
       "min_width": null,
       "object_fit": null,
       "object_position": null,
       "order": null,
       "overflow": null,
       "padding": null,
       "right": null,
       "top": null,
       "visibility": null,
       "width": null
      }
     },
     "b36159df26b44608b7be66dd7105c59e": {
      "model_module": "@jupyter-widgets/output",
      "model_module_version": "1.0.0",
      "model_name": "OutputModel",
      "state": {
       "_dom_classes": [],
       "_model_module": "@jupyter-widgets/output",
       "_model_module_version": "1.0.0",
       "_model_name": "OutputModel",
       "_view_count": null,
       "_view_module": "@jupyter-widgets/output",
       "_view_module_version": "1.0.0",
       "_view_name": "OutputView",
       "layout": "IPY_MODEL_8266fec1f2834f1a8c542a1bc8316e5e",
       "msg_id": "",
       "outputs": [
        {
         "data": {
          "text/markdown": "`add_large`",
          "text/plain": "<IPython.core.display.Markdown object>"
         },
         "metadata": {},
         "output_type": "display_data"
        },
        {
         "data": {
          "image/svg+xml": "<svg xmlns=\"http://www.w3.org/2000/svg\" xmlns:xlink=\"http://www.w3.org/1999/xlink\" width=\"212pt\" height=\"98pt\" viewBox=\"0.00 0.00 212.00 98.00\">\n<g id=\"graph0\" class=\"graph\" transform=\"scale(1 1) rotate(0) translate(4 94)\">\n<title>my_graph</title>\n<polygon fill=\"white\" stroke=\"transparent\" points=\"-4,4 -4,-94 208,-94 208,4 -4,4\"/>\n<!-- a_G3 -->\n<g id=\"node1\" class=\"node\">\n<title>a_G3</title>\n<text text-anchor=\"middle\" x=\"27\" y=\"-68.3\" font-family=\"Times,serif\" font-size=\"14.00\">a</text>\n</g>\n<!-- Add -->\n<g id=\"node3\" class=\"node\">\n<title>Add</title>\n<polygon fill=\"none\" stroke=\"black\" points=\"91,-66 91,-83 113,-83 113,-66 91,-66\"/>\n<text text-anchor=\"start\" x=\"94\" y=\"-72\" font-family=\"Times,serif\" font-size=\"10.00\">a+b</text>\n<polygon fill=\"none\" stroke=\"black\" points=\"91,-45 91,-66 113,-66 113,-45 91,-45\"/>\n<text text-anchor=\"start\" x=\"98.5\" y=\"-51.8\" font-family=\"Times,serif\" font-size=\"14.00\">a</text>\n<polygon fill=\"none\" stroke=\"black\" points=\"91,-24 91,-45 113,-45 113,-24 91,-24\"/>\n<text text-anchor=\"start\" x=\"98.5\" y=\"-30.8\" font-family=\"Times,serif\" font-size=\"14.00\">b</text>\n</g>\n<!-- a_G3&#45;&gt;Add -->\n<g id=\"edge1\" class=\"edge\">\n<title>a_G3:e-&gt;Add:w</title>\n<path fill=\"none\" stroke=\"black\" d=\"M54,-72C71.22,-72 72.97,-57.23 88.98,-56.07\"/>\n<ellipse fill=\"black\" stroke=\"black\" cx=\"90\" cy=\"-56.04\" rx=\"1\" ry=\"1\"/>\n<text text-anchor=\"middle\" x=\"72.5\" y=\"-67\" font-family=\"Times,serif\" font-size=\"10.00\">64</text>\n</g>\n<!-- b_G5 -->\n<g id=\"node2\" class=\"node\">\n<title>b_G5</title>\n<text text-anchor=\"middle\" x=\"27\" y=\"-14.3\" font-family=\"Times,serif\" font-size=\"14.00\">b</text>\n</g>\n<!-- b_G5&#45;&gt;Add -->\n<g id=\"edge2\" class=\"edge\">\n<title>b_G5:e-&gt;Add:w</title>\n<path fill=\"none\" stroke=\"black\" d=\"M54,-18C71.22,-18 72.97,-32.77 88.98,-33.93\"/>\n<ellipse fill=\"black\" stroke=\"black\" cx=\"90\" cy=\"-33.96\" rx=\"1\" ry=\"1\"/>\n<text text-anchor=\"middle\" x=\"72.5\" y=\"-29\" font-family=\"Times,serif\" font-size=\"10.00\">64</text>\n</g>\n<!-- a_G4 -->\n<g id=\"node4\" class=\"node\">\n<title>a_G4</title>\n<text text-anchor=\"middle\" x=\"177\" y=\"-68.3\" font-family=\"Times,serif\" font-size=\"14.00\">a</text>\n</g>\n<!-- Add&#45;&gt;a_G4 -->\n<g id=\"edge3\" class=\"edge\">\n<title>Add:e-&gt;a_G4:w</title>\n<path fill=\"none\" stroke=\"black\" d=\"M113,-56C130.22,-56 131.97,-70.77 147.98,-71.93\"/>\n<ellipse fill=\"black\" stroke=\"black\" cx=\"149\" cy=\"-71.96\" rx=\"1\" ry=\"1\"/>\n<text text-anchor=\"middle\" x=\"131.5\" y=\"-67\" font-family=\"Times,serif\" font-size=\"10.00\">64</text>\n</g>\n<!-- b_G0 -->\n<g id=\"node5\" class=\"node\">\n<title>b_G0</title>\n<text text-anchor=\"middle\" x=\"177\" y=\"-14.3\" font-family=\"Times,serif\" font-size=\"14.00\">b</text>\n</g>\n<!-- Add&#45;&gt;b_G0 -->\n<g id=\"edge4\" class=\"edge\">\n<title>Add:e-&gt;b_G0:w</title>\n<path fill=\"none\" stroke=\"black\" d=\"M113,-34C130.22,-34 131.97,-19.23 147.98,-18.07\"/>\n<ellipse fill=\"black\" stroke=\"black\" cx=\"149\" cy=\"-18.04\" rx=\"1\" ry=\"1\"/>\n<text text-anchor=\"middle\" x=\"131.5\" y=\"-29\" font-family=\"Times,serif\" font-size=\"10.00\">64</text>\n</g>\n</g>\n</svg>",
          "text/plain": "<IPython.core.display.SVG object>"
         },
         "metadata": {},
         "output_type": "display_data"
        }
       ],
       "tabbable": null,
       "tooltip": null
      }
     },
     "ba51c96aa7694a34b944775ffd00e036": {
      "model_module": "@jupyter-widgets/base",
      "model_module_version": "2.0.0",
      "model_name": "LayoutModel",
      "state": {
       "_model_module": "@jupyter-widgets/base",
       "_model_module_version": "2.0.0",
       "_model_name": "LayoutModel",
       "_view_count": null,
       "_view_module": "@jupyter-widgets/base",
       "_view_module_version": "2.0.0",
       "_view_name": "LayoutView",
       "align_content": null,
       "align_items": null,
       "align_self": null,
       "border_bottom": null,
       "border_left": null,
       "border_right": null,
       "border_top": null,
       "bottom": null,
       "display": null,
       "flex": null,
       "flex_flow": null,
       "grid_area": null,
       "grid_auto_columns": null,
       "grid_auto_flow": null,
       "grid_auto_rows": null,
       "grid_column": null,
       "grid_gap": null,
       "grid_row": null,
       "grid_template_areas": null,
       "grid_template_columns": null,
       "grid_template_rows": null,
       "height": null,
       "justify_content": null,
       "justify_items": null,
       "left": null,
       "margin": null,
       "max_height": null,
       "max_width": null,
       "min_height": null,
       "min_width": null,
       "object_fit": null,
       "object_position": null,
       "order": null,
       "overflow": null,
       "padding": null,
       "right": null,
       "top": null,
       "visibility": null,
       "width": null
      }
     },
     "d34075e60e0e46e082076df029addccc": {
      "model_module": "@jupyter-widgets/base",
      "model_module_version": "2.0.0",
      "model_name": "LayoutModel",
      "state": {
       "_model_module": "@jupyter-widgets/base",
       "_model_module_version": "2.0.0",
       "_model_name": "LayoutModel",
       "_view_count": null,
       "_view_module": "@jupyter-widgets/base",
       "_view_module_version": "2.0.0",
       "_view_name": "LayoutView",
       "align_content": null,
       "align_items": null,
       "align_self": null,
       "border_bottom": null,
       "border_left": null,
       "border_right": null,
       "border_top": null,
       "bottom": null,
       "display": null,
       "flex": null,
       "flex_flow": null,
       "grid_area": null,
       "grid_auto_columns": null,
       "grid_auto_flow": null,
       "grid_auto_rows": null,
       "grid_column": null,
       "grid_gap": null,
       "grid_row": null,
       "grid_template_areas": null,
       "grid_template_columns": null,
       "grid_template_rows": null,
       "height": null,
       "justify_content": null,
       "justify_items": null,
       "left": null,
       "margin": null,
       "max_height": null,
       "max_width": null,
       "min_height": null,
       "min_width": null,
       "object_fit": null,
       "object_position": null,
       "order": null,
       "overflow": null,
       "padding": null,
       "right": null,
       "top": null,
       "visibility": null,
       "width": null
      }
     },
     "d8358270c66f4ad3aff7e5584240dc7a": {
      "model_module": "@jupyter-widgets/output",
      "model_module_version": "1.0.0",
      "model_name": "OutputModel",
      "state": {
       "_dom_classes": [],
       "_model_module": "@jupyter-widgets/output",
       "_model_module_version": "1.0.0",
       "_model_name": "OutputModel",
       "_view_count": null,
       "_view_module": "@jupyter-widgets/output",
       "_view_module_version": "1.0.0",
       "_view_name": "OutputView",
       "layout": "IPY_MODEL_ba51c96aa7694a34b944775ffd00e036",
       "msg_id": "",
       "outputs": [
        {
         "data": {
          "text/markdown": "`add_k_symb`",
          "text/plain": "<IPython.core.display.Markdown object>"
         },
         "metadata": {},
         "output_type": "display_data"
        },
        {
         "data": {
          "image/svg+xml": "<svg xmlns=\"http://www.w3.org/2000/svg\" xmlns:xlink=\"http://www.w3.org/1999/xlink\" width=\"243pt\" height=\"54pt\" viewBox=\"0.00 0.00 243.00 54.00\">\n<g id=\"graph0\" class=\"graph\" transform=\"scale(1 1) rotate(0) translate(4 50)\">\n<title>my_graph</title>\n<polygon fill=\"white\" stroke=\"transparent\" points=\"-4,4 -4,-50 239,-50 239,4 -4,4\"/>\n<!-- x_G2 -->\n<g id=\"node1\" class=\"node\">\n<title>x_G2</title>\n<text text-anchor=\"middle\" x=\"27\" y=\"-14.3\" font-family=\"Times,serif\" font-size=\"14.00\">x</text>\n</g>\n<!-- AddConstantMod -->\n<g id=\"node2\" class=\"node\">\n<title>AddConstantMod</title>\n<polygon fill=\"none\" stroke=\"black\" points=\"91.5,-29 91.5,-46 144.5,-46 144.5,-29 91.5,-29\"/>\n<text text-anchor=\"start\" x=\"94.5\" y=\"-35\" font-family=\"Times,serif\" font-size=\"10.00\">AddConst..</text>\n<polygon fill=\"none\" stroke=\"black\" points=\"91.5,-8 91.5,-29 144.5,-29 144.5,-8 91.5,-8\"/>\n<text text-anchor=\"start\" x=\"114.5\" y=\"-14.8\" font-family=\"Times,serif\" font-size=\"14.00\">x</text>\n</g>\n<!-- x_G2&#45;&gt;AddConstantMod -->\n<g id=\"edge1\" class=\"edge\">\n<title>x_G2:e-&gt;AddConstantMod:w</title>\n<path fill=\"none\" stroke=\"black\" d=\"M54,-18C69.67,-18 74.14,-18 88.77,-18\"/>\n<ellipse fill=\"black\" stroke=\"black\" cx=\"90\" cy=\"-18\" rx=\"1\" ry=\"1\"/>\n<text text-anchor=\"middle\" x=\"72.5\" y=\"-21\" font-family=\"Times,serif\" font-size=\"10.00\">n</text>\n</g>\n<!-- x_G0 -->\n<g id=\"node3\" class=\"node\">\n<title>x_G0</title>\n<text text-anchor=\"middle\" x=\"208\" y=\"-14.3\" font-family=\"Times,serif\" font-size=\"14.00\">x</text>\n</g>\n<!-- AddConstantMod&#45;&gt;x_G0 -->\n<g id=\"edge2\" class=\"edge\">\n<title>AddConstantMod:e-&gt;x_G0:w</title>\n<path fill=\"none\" stroke=\"black\" d=\"M144,-18C159.67,-18 164.14,-18 178.77,-18\"/>\n<ellipse fill=\"black\" stroke=\"black\" cx=\"180\" cy=\"-18\" rx=\"1\" ry=\"1\"/>\n<text text-anchor=\"middle\" x=\"162.5\" y=\"-21\" font-family=\"Times,serif\" font-size=\"10.00\">n</text>\n</g>\n</g>\n</svg>",
          "text/plain": "<IPython.core.display.SVG object>"
         },
         "metadata": {},
         "output_type": "display_data"
        }
       ],
       "tabbable": null,
       "tooltip": null
      }
     },
     "e0135fefb8c146b1a6761dc519b77ae5": {
      "model_module": "@jupyter-widgets/controls",
      "model_module_version": "2.0.0",
      "model_name": "HBoxModel",
      "state": {
       "_dom_classes": [],
       "_model_module": "@jupyter-widgets/controls",
       "_model_module_version": "2.0.0",
       "_model_name": "HBoxModel",
       "_view_count": null,
       "_view_module": "@jupyter-widgets/controls",
       "_view_module_version": "2.0.0",
       "_view_name": "HBoxView",
       "box_style": "",
       "children": [
        "IPY_MODEL_d8358270c66f4ad3aff7e5584240dc7a",
        "IPY_MODEL_8175171713504bb09a8c18b656625dcf",
        "IPY_MODEL_2be1404c24cd49d49417b5111aa5d0ac"
       ],
       "layout": "IPY_MODEL_00dab0acd9df4f549fe6249a7c635802",
       "tabbable": null,
       "tooltip": null
      }
     },
     "e4e495a01cd748c89a8d52c83aa9f0cb": {
      "model_module": "@jupyter-widgets/base",
      "model_module_version": "2.0.0",
      "model_name": "LayoutModel",
      "state": {
       "_model_module": "@jupyter-widgets/base",
       "_model_module_version": "2.0.0",
       "_model_name": "LayoutModel",
       "_view_count": null,
       "_view_module": "@jupyter-widgets/base",
       "_view_module_version": "2.0.0",
       "_view_name": "LayoutView",
       "align_content": null,
       "align_items": null,
       "align_self": null,
       "border_bottom": null,
       "border_left": null,
       "border_right": null,
       "border_top": null,
       "bottom": null,
       "display": null,
       "flex": null,
       "flex_flow": null,
       "grid_area": null,
       "grid_auto_columns": null,
       "grid_auto_flow": null,
       "grid_auto_rows": null,
       "grid_column": null,
       "grid_gap": null,
       "grid_row": null,
       "grid_template_areas": null,
       "grid_template_columns": null,
       "grid_template_rows": null,
       "height": null,
       "justify_content": null,
       "justify_items": null,
       "left": null,
       "margin": null,
       "max_height": null,
       "max_width": null,
       "min_height": null,
       "min_width": null,
       "object_fit": null,
       "object_position": null,
       "order": null,
       "overflow": null,
       "padding": null,
       "right": null,
       "top": null,
       "visibility": null,
       "width": null
      }
     }
    },
    "version_major": 2,
    "version_minor": 0
   }
  }
 },
 "nbformat": 4,
 "nbformat_minor": 5
}
