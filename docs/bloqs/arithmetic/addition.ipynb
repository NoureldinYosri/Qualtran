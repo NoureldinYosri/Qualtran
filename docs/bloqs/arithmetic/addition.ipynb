{
 "cells": [
  {
   "cell_type": "markdown",
   "id": "c231998b",
   "metadata": {
    "cq.autogen": "title_cell"
   },
   "source": [
    "# Addition"
   ]
  },
  {
   "cell_type": "code",
   "execution_count": 1,
   "id": "b572d769",
   "metadata": {
    "cq.autogen": "top_imports"
   },
   "outputs": [],
   "source": [
    "from qualtran import Bloq, CompositeBloq, BloqBuilder, Signature, Register\n",
    "from qualtran import QBit, QInt, QUInt, QAny\n",
    "from qualtran.drawing import show_bloq, show_call_graph, show_counts_sigma\n",
    "from typing import *\n",
    "import numpy as np\n",
    "import sympy\n",
    "import cirq"
   ]
  },
  {
   "cell_type": "markdown",
   "id": "d3f4ce95",
   "metadata": {
    "cq.autogen": "Add.bloq_doc.md"
   },
   "source": [
    "## `Add`\n",
    "An n-bit addition gate.\n",
    "\n",
    "Implements $U|a\\rangle|b\\rangle \\rightarrow |a\\rangle|a+b\\rangle$ using $4n - 4 T$ gates.\n",
    "\n",
    "#### Parameters\n",
    " - `a_dtype`: Quantum datatype used to represent the integer a.\n",
    " - `b_dtype`: Quantum datatype used to represent the integer b. Must be large enough to hold the result in the output register of a + b, or else it simply drops the most significant bits. If not specified, b_dtype is set to a_dtype. \n",
    "\n",
    "#### Registers\n",
    " - `a`: A a_dtype.bitsize-sized input register (register a above).\n",
    " - `b`: A b_dtype.bitsize-sized input/output register (register b above). \n",
    "\n",
    "#### References\n",
    " - [Halving the cost of quantum addition](https://arxiv.org/abs/1709.06648). \n"
   ]
  },
  {
   "cell_type": "code",
   "execution_count": 2,
   "id": "6426bb53",
   "metadata": {
    "cq.autogen": "Add.bloq_doc.py"
   },
   "outputs": [],
   "source": [
    "from qualtran.bloqs.arithmetic import Add"
   ]
  },
  {
   "cell_type": "markdown",
   "id": "3c8caad1",
   "metadata": {
    "cq.autogen": "Add.example_instances.md"
   },
   "source": [
    "### Example Instances"
   ]
  },
  {
   "cell_type": "code",
   "execution_count": 3,
   "id": "73929b65",
   "metadata": {
    "cq.autogen": "Add.add_small"
   },
   "outputs": [],
   "source": [
    "add_small = Add(QUInt(bitsize=4))"
   ]
  },
  {
   "cell_type": "code",
   "execution_count": 4,
   "id": "fbd4dbe9",
   "metadata": {
    "cq.autogen": "Add.add_large"
   },
   "outputs": [],
   "source": [
    "add_large = Add(QUInt(bitsize=64))"
   ]
  },
  {
   "cell_type": "code",
   "execution_count": 5,
   "id": "e749abdb",
   "metadata": {
    "cq.autogen": "Add.add_symb"
   },
   "outputs": [],
   "source": [
    "n = sympy.Symbol('n')\n",
    "add_symb = Add(QInt(bitsize=n))"
   ]
  },
  {
   "cell_type": "code",
   "execution_count": 6,
   "id": "e5b746c1",
   "metadata": {
    "collapsed": false
   },
   "outputs": [],
   "source": [
    "add_diff_size_regs = Add(QUInt(bitsize=4), QUInt(bitsize=16))"
   ]
  },
  {
   "cell_type": "markdown",
   "id": "c3c1a7e4",
   "metadata": {
    "cq.autogen": "Add.graphical_signature.md"
   },
   "source": [
    "#### Graphical Signature"
   ]
  },
  {
   "cell_type": "code",
   "execution_count": 7,
   "id": "0f92be09",
   "metadata": {
    "cq.autogen": "Add.graphical_signature.py"
   },
   "outputs": [
    {
     "data": {
      "application/vnd.jupyter.widget-view+json": {
       "model_id": "6b4a7b541abb4a29aae63bf893cb7c4f",
       "version_major": 2,
       "version_minor": 0
      },
      "text/plain": [
       "HBox(children=(Output(outputs=({'output_type': 'display_data', 'data': {'text/plain': '<IPython.core.display.M…"
      ]
     },
     "metadata": {},
     "output_type": "display_data"
    }
   ],
   "source": [
    "from qualtran.drawing import show_bloqs\n",
    "show_bloqs([add_symb, add_small, add_large, add_diff_size_regs],\n",
    "           ['`add_symb`', '`add_small`', '`add_large`', '`add_diff_size_regs`'])"
   ]
  },
  {
   "cell_type": "markdown",
   "id": "350cb374",
   "metadata": {
    "cq.autogen": "Add.call_graph.md"
   },
   "source": [
    "### Call Graph"
   ]
  },
  {
   "cell_type": "code",
   "execution_count": 8,
   "id": "c36a3fc4",
   "metadata": {
    "cq.autogen": "Add.call_graph.py"
   },
   "outputs": [
    {
     "data": {
      "image/svg+xml": [
       "<svg xmlns=\"http://www.w3.org/2000/svg\" xmlns:xlink=\"http://www.w3.org/1999/xlink\" width=\"475pt\" height=\"131pt\" viewBox=\"0.00 0.00 474.50 131.00\">\n",
       "<g id=\"graph0\" class=\"graph\" transform=\"scale(1 1) rotate(0) translate(4 127)\">\n",
       "<title>counts</title>\n",
       "<polygon fill=\"white\" stroke=\"transparent\" points=\"-4,4 -4,-127 470.5,-127 470.5,4 -4,4\"/>\n",
       "<!-- b0 -->\n",
       "<g id=\"node1\" class=\"node\">\n",
       "<title>b0</title>\n",
       "<polygon fill=\"none\" stroke=\"black\" points=\"433,-123 164,-123 164,-87 433,-87 433,-123\"/>\n",
       "<text text-anchor=\"start\" x=\"286.5\" y=\"-106.8\" font-family=\"Times,serif\" font-size=\"14.00\">Add</text>\n",
       "<text text-anchor=\"start\" x=\"172\" y=\"-96\" font-family=\"monospace\" font-size=\"10.00\">a_dtype=QInt(bit ..., b_dtype=QInt(bit ...</text>\n",
       "</g>\n",
       "<!-- b1 -->\n",
       "<g id=\"node2\" class=\"node\">\n",
       "<title>b1</title>\n",
       "<polygon fill=\"none\" stroke=\"black\" points=\"185,-36 0,-36 0,0 185,0 185,-36\"/>\n",
       "<text text-anchor=\"start\" x=\"77\" y=\"-19.8\" font-family=\"Times,serif\" font-size=\"14.00\">And†</text>\n",
       "<text text-anchor=\"start\" x=\"8\" y=\"-9\" font-family=\"monospace\" font-size=\"10.00\">cv1=1, cv2=1, uncompute=True</text>\n",
       "</g>\n",
       "<!-- b0&#45;&gt;b1 -->\n",
       "<g id=\"edge1\" class=\"edge\">\n",
       "<title>b0-&gt;b1</title>\n",
       "<path fill=\"none\" stroke=\"black\" d=\"M256.81,-86.8C224.04,-73.27 178.24,-54.38 143.31,-39.97\"/>\n",
       "<polygon fill=\"black\" stroke=\"black\" points=\"144.35,-36.61 133.77,-36.03 141.68,-43.08 144.35,-36.61\"/>\n",
       "<text text-anchor=\"middle\" x=\"221.5\" y=\"-57.8\" font-family=\"Times,serif\" font-size=\"14.00\">n - 1</text>\n",
       "</g>\n",
       "<!-- b2 -->\n",
       "<g id=\"node3\" class=\"node\">\n",
       "<title>b2</title>\n",
       "<polygon fill=\"none\" stroke=\"black\" points=\"394,-36 203,-36 203,0 394,0 394,-36\"/>\n",
       "<text text-anchor=\"start\" x=\"286.5\" y=\"-19.8\" font-family=\"Times,serif\" font-size=\"14.00\">And</text>\n",
       "<text text-anchor=\"start\" x=\"211\" y=\"-9\" font-family=\"monospace\" font-size=\"10.00\">cv1=1, cv2=1, uncompute=False</text>\n",
       "</g>\n",
       "<!-- b0&#45;&gt;b2 -->\n",
       "<g id=\"edge2\" class=\"edge\">\n",
       "<title>b0-&gt;b2</title>\n",
       "<path fill=\"none\" stroke=\"black\" d=\"M298.5,-86.8C298.5,-75.16 298.5,-59.55 298.5,-46.24\"/>\n",
       "<polygon fill=\"black\" stroke=\"black\" points=\"302,-46.18 298.5,-36.18 295,-46.18 302,-46.18\"/>\n",
       "<text text-anchor=\"middle\" x=\"311.5\" y=\"-57.8\" font-family=\"Times,serif\" font-size=\"14.00\">n - 1</text>\n",
       "</g>\n",
       "<!-- b3 -->\n",
       "<g id=\"node4\" class=\"node\">\n",
       "<title>b3</title>\n",
       "<polygon fill=\"none\" stroke=\"black\" points=\"466.5,-36 412.5,-36 412.5,0 466.5,0 466.5,-36\"/>\n",
       "<text text-anchor=\"start\" x=\"421\" y=\"-14.3\" font-family=\"Times,serif\" font-size=\"14.00\">CNOT</text>\n",
       "</g>\n",
       "<!-- b0&#45;&gt;b3 -->\n",
       "<g id=\"edge3\" class=\"edge\">\n",
       "<title>b0-&gt;b3</title>\n",
       "<path fill=\"none\" stroke=\"black\" d=\"M327.03,-86.8C349.15,-73.46 379.94,-54.91 403.71,-40.58\"/>\n",
       "<polygon fill=\"black\" stroke=\"black\" points=\"405.69,-43.47 412.44,-35.31 402.07,-37.48 405.69,-43.47\"/>\n",
       "<text text-anchor=\"middle\" x=\"396\" y=\"-57.8\" font-family=\"Times,serif\" font-size=\"14.00\">6⋅n - 9</text>\n",
       "</g>\n",
       "</g>\n",
       "</svg>"
      ],
      "text/plain": [
       "<IPython.core.display.SVG object>"
      ]
     },
     "metadata": {},
     "output_type": "display_data"
    },
    {
     "data": {
      "text/markdown": [
       "#### Counts totals:\n",
       " - `And`: $\\displaystyle n - 1$\n",
       " - `And†`: $\\displaystyle n - 1$\n",
       " - `CNOT`: $\\displaystyle 6 n - 9$"
      ],
      "text/plain": [
       "<IPython.core.display.Markdown object>"
      ]
     },
     "metadata": {},
     "output_type": "display_data"
    }
   ],
   "source": [
    "from qualtran.resource_counting.generalizers import ignore_split_join\n",
    "add_symb_g, add_symb_sigma = add_symb.call_graph(max_depth=1, generalizer=ignore_split_join)\n",
    "show_call_graph(add_symb_g)\n",
    "show_counts_sigma(add_symb_sigma)"
   ]
  },
  {
   "cell_type": "markdown",
   "id": "ffc76cc5",
   "metadata": {
    "cq.autogen": "OutOfPlaceAdder.bloq_doc.md"
   },
   "source": [
    "## `OutOfPlaceAdder`\n",
    "An n-bit addition gate.\n",
    "\n",
    "Implements $U|a\\rangle|b\\rangle 0\\rangle \\rightarrow |a\\rangle|b\\rangle|a+b\\rangle$\n",
    "using $4n - 4 T$ gates. Uncomputation requires 0 T-gates.\n",
    "\n",
    "#### Parameters\n",
    " - `bitsize`: Number of bits used to represent each input integer. The allocated output register is of size `bitsize+1` so it has enough space to hold the sum of `a+b`. \n",
    "\n",
    "#### Registers\n",
    " - `a`: A bitsize-sized input register (register a above).\n",
    " - `b`: A bitsize-sized input register (register b above).\n",
    " - `c`: A bitize+1-sized LEFT/RIGHT register depending on whether the gate adjoint or not. \n",
    "\n",
    "#### References\n",
    " - [Halving the cost of quantum addition](https://arxiv.org/abs/1709.06648). \n"
   ]
  },
  {
   "cell_type": "code",
   "execution_count": 9,
   "id": "c2450d62",
   "metadata": {
    "cq.autogen": "OutOfPlaceAdder.bloq_doc.py"
   },
   "outputs": [],
   "source": [
    "from qualtran.bloqs.arithmetic import OutOfPlaceAdder"
   ]
  },
  {
   "cell_type": "markdown",
   "id": "b5c79e25",
   "metadata": {
    "cq.autogen": "OutOfPlaceAdder.example_instances.md"
   },
   "source": [
    "### Example Instances"
   ]
  },
  {
   "cell_type": "code",
   "execution_count": 10,
   "id": "e31acd2b",
   "metadata": {
    "cq.autogen": "OutOfPlaceAdder.add_oop_symb"
   },
   "outputs": [],
   "source": [
    "n = sympy.Symbol('n')\n",
    "add_oop_symb = OutOfPlaceAdder(bitsize=n)"
   ]
  },
  {
   "cell_type": "code",
   "execution_count": 11,
   "id": "ef8871a6",
   "metadata": {
    "cq.autogen": "OutOfPlaceAdder.add_oop_small"
   },
   "outputs": [],
   "source": [
    "add_oop_small = OutOfPlaceAdder(bitsize=4)"
   ]
  },
  {
   "cell_type": "code",
   "execution_count": 12,
   "id": "e57b8c8d",
   "metadata": {
    "cq.autogen": "OutOfPlaceAdder.add_oop_large"
   },
   "outputs": [],
   "source": [
    "add_oop_large = OutOfPlaceAdder(bitsize=64)"
   ]
  },
  {
   "cell_type": "markdown",
   "id": "01915f46",
   "metadata": {
    "cq.autogen": "OutOfPlaceAdder.graphical_signature.md"
   },
   "source": [
    "#### Graphical Signature"
   ]
  },
  {
   "cell_type": "code",
   "execution_count": 13,
   "id": "d117e345",
   "metadata": {
    "cq.autogen": "OutOfPlaceAdder.graphical_signature.py"
   },
   "outputs": [
    {
     "data": {
      "application/vnd.jupyter.widget-view+json": {
       "model_id": "cfe5d1b6b48d4ed1bd40234ad7109b56",
       "version_major": 2,
       "version_minor": 0
      },
      "text/plain": [
       "HBox(children=(Output(outputs=({'output_type': 'display_data', 'data': {'text/plain': '<IPython.core.display.M…"
      ]
     },
     "metadata": {},
     "output_type": "display_data"
    }
   ],
   "source": [
    "from qualtran.drawing import show_bloqs\n",
    "show_bloqs([add_oop_symb, add_oop_small, add_oop_large],\n",
    "           ['`add_oop_symb`', '`add_oop_small`', '`add_oop_large`'])"
   ]
  },
  {
   "cell_type": "markdown",
   "id": "3b6469e0",
   "metadata": {
    "cq.autogen": "OutOfPlaceAdder.call_graph.md"
   },
   "source": [
    "### Call Graph"
   ]
  },
  {
   "cell_type": "code",
   "execution_count": 14,
   "id": "ff84301f",
   "metadata": {
    "cq.autogen": "OutOfPlaceAdder.call_graph.py"
   },
   "outputs": [
    {
     "data": {
      "image/svg+xml": [
       "<svg xmlns=\"http://www.w3.org/2000/svg\" xmlns:xlink=\"http://www.w3.org/1999/xlink\" width=\"328pt\" height=\"131pt\" viewBox=\"0.00 0.00 327.50 131.00\">\n",
       "<g id=\"graph0\" class=\"graph\" transform=\"scale(1 1) rotate(0) translate(4 127)\">\n",
       "<title>counts</title>\n",
       "<polygon fill=\"white\" stroke=\"transparent\" points=\"-4,4 -4,-127 323.5,-127 323.5,4 -4,4\"/>\n",
       "<!-- b0 -->\n",
       "<g id=\"node1\" class=\"node\">\n",
       "<title>b0</title>\n",
       "<polygon fill=\"none\" stroke=\"black\" points=\"228.5,-123 49.5,-123 49.5,-87 228.5,-87 228.5,-123\"/>\n",
       "<text text-anchor=\"start\" x=\"113.5\" y=\"-106.8\" font-family=\"Times,serif\" font-size=\"14.00\">c = a + b</text>\n",
       "<text text-anchor=\"start\" x=\"57.5\" y=\"-96\" font-family=\"monospace\" font-size=\"10.00\">bitsize=n, is_adjoint=False</text>\n",
       "</g>\n",
       "<!-- b1 -->\n",
       "<g id=\"node2\" class=\"node\">\n",
       "<title>b1</title>\n",
       "<polygon fill=\"none\" stroke=\"black\" points=\"110,-36 0,-36 0,0 110,0 110,-36\"/>\n",
       "<text text-anchor=\"start\" x=\"8\" y=\"-19.8\" font-family=\"Times,serif\" font-size=\"14.00\">ArbitraryClifford</text>\n",
       "<text text-anchor=\"start\" x=\"45.5\" y=\"-9\" font-family=\"monospace\" font-size=\"10.00\">n=2</text>\n",
       "</g>\n",
       "<!-- b0&#45;&gt;b1 -->\n",
       "<g id=\"edge1\" class=\"edge\">\n",
       "<title>b0-&gt;b1</title>\n",
       "<path fill=\"none\" stroke=\"black\" d=\"M122,-86.8C109.7,-74.36 92.91,-57.36 79.22,-43.5\"/>\n",
       "<polygon fill=\"black\" stroke=\"black\" points=\"81.49,-40.83 71.97,-36.18 76.51,-45.75 81.49,-40.83\"/>\n",
       "<text text-anchor=\"middle\" x=\"112.5\" y=\"-57.8\" font-family=\"Times,serif\" font-size=\"14.00\">5⋅n</text>\n",
       "</g>\n",
       "<!-- b2 -->\n",
       "<g id=\"node3\" class=\"node\">\n",
       "<title>b2</title>\n",
       "<polygon fill=\"none\" stroke=\"black\" points=\"319.5,-36 128.5,-36 128.5,0 319.5,0 319.5,-36\"/>\n",
       "<text text-anchor=\"start\" x=\"212\" y=\"-19.8\" font-family=\"Times,serif\" font-size=\"14.00\">And</text>\n",
       "<text text-anchor=\"start\" x=\"136.5\" y=\"-9\" font-family=\"monospace\" font-size=\"10.00\">cv1=1, cv2=1, uncompute=False</text>\n",
       "</g>\n",
       "<!-- b0&#45;&gt;b2 -->\n",
       "<g id=\"edge2\" class=\"edge\">\n",
       "<title>b0-&gt;b2</title>\n",
       "<path fill=\"none\" stroke=\"black\" d=\"M156.2,-86.8C168.64,-74.36 185.64,-57.36 199.5,-43.5\"/>\n",
       "<polygon fill=\"black\" stroke=\"black\" points=\"202.23,-45.72 206.82,-36.18 197.28,-40.77 202.23,-45.72\"/>\n",
       "<text text-anchor=\"middle\" x=\"189.5\" y=\"-57.8\" font-family=\"Times,serif\" font-size=\"14.00\">n</text>\n",
       "</g>\n",
       "</g>\n",
       "</svg>"
      ],
      "text/plain": [
       "<IPython.core.display.SVG object>"
      ]
     },
     "metadata": {},
     "output_type": "display_data"
    },
    {
     "data": {
      "text/markdown": [
       "#### Counts totals:\n",
       " - `And`: $\\displaystyle n$\n",
       " - `ArbitraryClifford(n=2)`: $\\displaystyle 5 n$"
      ],
      "text/plain": [
       "<IPython.core.display.Markdown object>"
      ]
     },
     "metadata": {},
     "output_type": "display_data"
    }
   ],
   "source": [
    "from qualtran.resource_counting.generalizers import ignore_split_join\n",
    "add_oop_symb_g, add_oop_symb_sigma = add_oop_symb.call_graph(max_depth=1, generalizer=ignore_split_join)\n",
    "show_call_graph(add_oop_symb_g)\n",
    "show_counts_sigma(add_oop_symb_sigma)"
   ]
  },
  {
   "cell_type": "markdown",
   "id": "2813f173",
   "metadata": {
    "cq.autogen": "AddK.bloq_doc.md"
   },
   "source": [
    "## `AddK`\n",
    "Takes |x> to |x + k> for a classical integer `k`.\n",
    "\n",
    "This construction simply XORs the classical constant into a quantum register and\n",
    "applies quantum-quantum addition. This is the lowest T-count algorithm at the expense\n",
    "of $n$ auxiliary qubits. This construction also permits an inexpensive controlled version:\n",
    "you only need to control the loading of the classical constant which can be done with\n",
    "only clifford operations.\n",
    "\n",
    "#### Parameters\n",
    " - `bitsize`: Number of bits used to represent each integer.\n",
    " - `k`: The classical integer value to be added to x.\n",
    " - `cvs`: A tuple of control values. Each entry specifies whether that control line is a \"positive\" control (`cv[i]=1`) or a \"negative\" control (`cv[i]=0`).\n",
    " - `signed`: A boolean condition which controls whether the x register holds a value represented in 2's Complement or Unsigned. This affects the ability to add a negative constant. \n",
    "\n",
    "#### Registers\n",
    " - `x`: A bitsize-sized input register (register x above). \n",
    "\n",
    "#### References\n",
    " - [Improved quantum circuits for elliptic curve discrete logarithms](https://arxiv.org/abs/2001.09580). Haner et. al. 2020. Section 3: Components. \"Integer addition\" and Fig 2a.\n"
   ]
  },
  {
   "cell_type": "code",
   "execution_count": 15,
   "id": "cd255bf9",
   "metadata": {
    "cq.autogen": "AddK.bloq_doc.py"
   },
   "outputs": [],
   "source": [
    "from qualtran.bloqs.arithmetic import AddK"
   ]
  },
  {
   "cell_type": "markdown",
   "id": "7538f9a5",
   "metadata": {
    "cq.autogen": "AddK.example_instances.md"
   },
   "source": [
    "### Example Instances"
   ]
  },
  {
   "cell_type": "code",
   "execution_count": 16,
   "id": "4305289f",
   "metadata": {
    "cq.autogen": "AddK.add_k"
   },
   "outputs": [],
   "source": [
    "n, k = sympy.symbols('n k')\n",
    "add_k = AddK(bitsize=n, k=k)"
   ]
  },
  {
   "cell_type": "code",
   "execution_count": 17,
   "id": "f6048819",
   "metadata": {
    "cq.autogen": "AddK.add_k_small"
   },
   "outputs": [],
   "source": [
    "add_k_small = AddK(bitsize=4, k=2, signed=False)"
   ]
  },
  {
   "cell_type": "code",
   "execution_count": 18,
   "id": "b67fd469",
   "metadata": {
    "cq.autogen": "AddK.add_k_large"
   },
   "outputs": [],
   "source": [
    "add_k_large = AddK(bitsize=64, k=-23, signed=True)"
   ]
  },
  {
   "cell_type": "markdown",
   "id": "b8b04228",
   "metadata": {
    "cq.autogen": "AddK.graphical_signature.md"
   },
   "source": [
    "#### Graphical Signature"
   ]
  },
  {
   "cell_type": "code",
   "execution_count": 19,
   "id": "e93e7f2e",
   "metadata": {
    "cq.autogen": "AddK.graphical_signature.py"
   },
   "outputs": [
    {
     "data": {
      "application/vnd.jupyter.widget-view+json": {
       "model_id": "9627442f271f497ca4a97d639085b79a",
       "version_major": 2,
       "version_minor": 0
      },
      "text/plain": [
       "HBox(children=(Output(outputs=({'output_type': 'display_data', 'data': {'text/plain': '<IPython.core.display.M…"
      ]
     },
     "metadata": {},
     "output_type": "display_data"
    }
   ],
   "source": [
    "from qualtran.drawing import show_bloqs\n",
    "show_bloqs([add_k, add_k_small, add_k_large],\n",
    "           ['`add_k`', '`add_k_small`', '`add_k_large`'])"
   ]
  },
  {
   "cell_type": "markdown",
   "id": "13552795",
   "metadata": {
    "cq.autogen": "AddK.call_graph.md"
   },
   "source": [
    "### Call Graph"
   ]
  },
  {
   "cell_type": "code",
   "execution_count": 20,
   "id": "d8d6584e",
   "metadata": {
    "cq.autogen": "AddK.call_graph.py"
   },
   "outputs": [
    {
     "data": {
      "image/svg+xml": [
       "<svg xmlns=\"http://www.w3.org/2000/svg\" xmlns:xlink=\"http://www.w3.org/1999/xlink\" width=\"350pt\" height=\"131pt\" viewBox=\"0.00 0.00 349.50 131.00\">\n",
       "<g id=\"graph0\" class=\"graph\" transform=\"scale(1 1) rotate(0) translate(4 127)\">\n",
       "<title>counts</title>\n",
       "<polygon fill=\"white\" stroke=\"transparent\" points=\"-4,4 -4,-127 345.5,-127 345.5,4 -4,4\"/>\n",
       "<!-- b0 -->\n",
       "<g id=\"node1\" class=\"node\">\n",
       "<title>b0</title>\n",
       "<polygon fill=\"none\" stroke=\"black\" points=\"341,-123 108,-123 108,-87 341,-87 341,-123\"/>\n",
       "<text text-anchor=\"start\" x=\"207.5\" y=\"-106.8\" font-family=\"Times,serif\" font-size=\"14.00\">AddK</text>\n",
       "<text text-anchor=\"start\" x=\"116\" y=\"-96\" font-family=\"monospace\" font-size=\"10.00\">bitsize=n, k=k, cvs=(), signed=False</text>\n",
       "</g>\n",
       "<!-- b1 -->\n",
       "<g id=\"node2\" class=\"node\">\n",
       "<title>b1</title>\n",
       "<polygon fill=\"none\" stroke=\"black\" points=\"269,-36 0,-36 0,0 269,0 269,-36\"/>\n",
       "<text text-anchor=\"start\" x=\"122.5\" y=\"-19.8\" font-family=\"Times,serif\" font-size=\"14.00\">Add</text>\n",
       "<text text-anchor=\"start\" x=\"8\" y=\"-9\" font-family=\"monospace\" font-size=\"10.00\">a_dtype=QUInt(bi ..., b_dtype=QUInt(bi ...</text>\n",
       "</g>\n",
       "<!-- b0&#45;&gt;b1 -->\n",
       "<g id=\"edge1\" class=\"edge\">\n",
       "<title>b0-&gt;b1</title>\n",
       "<path fill=\"none\" stroke=\"black\" d=\"M206.29,-86.8C192.99,-74.24 174.79,-57.05 160.04,-43.12\"/>\n",
       "<polygon fill=\"black\" stroke=\"black\" points=\"162.36,-40.5 152.69,-36.18 157.55,-45.59 162.36,-40.5\"/>\n",
       "<text text-anchor=\"middle\" x=\"189\" y=\"-57.8\" font-family=\"Times,serif\" font-size=\"14.00\">1</text>\n",
       "</g>\n",
       "<!-- b2 -->\n",
       "<g id=\"node3\" class=\"node\">\n",
       "<title>b2</title>\n",
       "<polygon fill=\"none\" stroke=\"black\" points=\"341.5,-36 287.5,-36 287.5,0 341.5,0 341.5,-36\"/>\n",
       "<text text-anchor=\"start\" x=\"296.5\" y=\"-14.3\" font-family=\"Times,serif\" font-size=\"14.00\">XGate</text>\n",
       "</g>\n",
       "<!-- b0&#45;&gt;b2 -->\n",
       "<g id=\"edge2\" class=\"edge\">\n",
       "<title>b0-&gt;b2</title>\n",
       "<path fill=\"none\" stroke=\"black\" d=\"M242.71,-86.8C256.01,-74.24 274.21,-57.05 288.96,-43.12\"/>\n",
       "<polygon fill=\"black\" stroke=\"black\" points=\"291.45,-45.59 296.31,-36.18 286.64,-40.5 291.45,-45.59\"/>\n",
       "<text text-anchor=\"middle\" x=\"279\" y=\"-57.8\" font-family=\"Times,serif\" font-size=\"14.00\">n</text>\n",
       "</g>\n",
       "</g>\n",
       "</svg>"
      ],
      "text/plain": [
       "<IPython.core.display.SVG object>"
      ]
     },
     "metadata": {},
     "output_type": "display_data"
    },
    {
     "data": {
      "text/markdown": [
       "#### Counts totals:\n",
       " - `Add`: 1\n",
       " - `XGate`: $\\displaystyle n$"
      ],
      "text/plain": [
       "<IPython.core.display.Markdown object>"
      ]
     },
     "metadata": {},
     "output_type": "display_data"
    }
   ],
   "source": [
    "from qualtran.resource_counting.generalizers import ignore_split_join\n",
    "add_k_g, add_k_sigma = add_k.call_graph(max_depth=1, generalizer=ignore_split_join)\n",
    "show_call_graph(add_k_g)\n",
    "show_counts_sigma(add_k_sigma)"
   ]
  },
  {
   "cell_type": "code",
   "execution_count": 21,
   "id": "8853ae5d",
   "metadata": {
    "cq.autogen": "Add.add_diff_size_regs"
   },
   "outputs": [],
   "source": [
    "add_diff_size_regs = Add(QUInt(bitsize=4), QUInt(bitsize=16))"
   ]
  }
 ],
 "metadata": {
  "kernelspec": {
   "display_name": "Python 3 (ipykernel)",
   "language": "python",
   "name": "python3"
  },
  "language_info": {
   "codemirror_mode": {
    "name": "ipython",
    "version": 3
   },
   "file_extension": ".py",
   "mimetype": "text/x-python",
   "name": "python",
   "nbconvert_exporter": "python",
   "pygments_lexer": "ipython3",
   "version": "3.11.8"
  },
  "widgets": {
   "application/vnd.jupyter.widget-state+json": {
    "state": {
     "087eb7f08fd94e7bbb54ea6e9d83b2e3": {
      "model_module": "@jupyter-widgets/base",
      "model_module_version": "2.0.0",
      "model_name": "LayoutModel",
      "state": {
       "_model_module": "@jupyter-widgets/base",
       "_model_module_version": "2.0.0",
       "_model_name": "LayoutModel",
       "_view_count": null,
       "_view_module": "@jupyter-widgets/base",
       "_view_module_version": "2.0.0",
       "_view_name": "LayoutView",
       "align_content": null,
       "align_items": null,
       "align_self": null,
       "border_bottom": null,
       "border_left": null,
       "border_right": null,
       "border_top": null,
       "bottom": null,
       "display": null,
       "flex": null,
       "flex_flow": null,
       "grid_area": null,
       "grid_auto_columns": null,
       "grid_auto_flow": null,
       "grid_auto_rows": null,
       "grid_column": null,
       "grid_gap": null,
       "grid_row": null,
       "grid_template_areas": null,
       "grid_template_columns": null,
       "grid_template_rows": null,
       "height": null,
       "justify_content": null,
       "justify_items": null,
       "left": null,
       "margin": null,
       "max_height": null,
       "max_width": null,
       "min_height": null,
       "min_width": null,
       "object_fit": null,
       "object_position": null,
       "order": null,
       "overflow": null,
       "padding": null,
       "right": null,
       "top": null,
       "visibility": null,
       "width": null
      }
     },
     "1cd7c80c6a7441b0a1c586451b734d8c": {
      "model_module": "@jupyter-widgets/base",
      "model_module_version": "2.0.0",
      "model_name": "LayoutModel",
      "state": {
       "_model_module": "@jupyter-widgets/base",
       "_model_module_version": "2.0.0",
       "_model_name": "LayoutModel",
       "_view_count": null,
       "_view_module": "@jupyter-widgets/base",
       "_view_module_version": "2.0.0",
       "_view_name": "LayoutView",
       "align_content": null,
       "align_items": null,
       "align_self": null,
       "border_bottom": null,
       "border_left": null,
       "border_right": null,
       "border_top": null,
       "bottom": null,
       "display": null,
       "flex": null,
       "flex_flow": null,
       "grid_area": null,
       "grid_auto_columns": null,
       "grid_auto_flow": null,
       "grid_auto_rows": null,
       "grid_column": null,
       "grid_gap": null,
       "grid_row": null,
       "grid_template_areas": null,
       "grid_template_columns": null,
       "grid_template_rows": null,
       "height": null,
       "justify_content": null,
       "justify_items": null,
       "left": null,
       "margin": null,
       "max_height": null,
       "max_width": null,
       "min_height": null,
       "min_width": null,
       "object_fit": null,
       "object_position": null,
       "order": null,
       "overflow": null,
       "padding": null,
       "right": null,
       "top": null,
       "visibility": null,
       "width": null
      }
     },
     "27e6367b94bf41e5b064706853a652ca": {
      "model_module": "@jupyter-widgets/output",
      "model_module_version": "1.0.0",
      "model_name": "OutputModel",
      "state": {
       "_dom_classes": [],
       "_model_module": "@jupyter-widgets/output",
       "_model_module_version": "1.0.0",
       "_model_name": "OutputModel",
       "_view_count": null,
       "_view_module": "@jupyter-widgets/output",
       "_view_module_version": "1.0.0",
       "_view_name": "OutputView",
       "layout": "IPY_MODEL_e0d2127b32aa4528a525a69c0390e2b8",
       "msg_id": "",
       "outputs": [
        {
         "data": {
          "text/markdown": "`add_oop_large`",
          "text/plain": "<IPython.core.display.Markdown object>"
         },
         "metadata": {},
         "output_type": "display_data"
        },
        {
         "data": {
          "image/svg+xml": "<svg xmlns=\"http://www.w3.org/2000/svg\" xmlns:xlink=\"http://www.w3.org/1999/xlink\" width=\"270pt\" height=\"152pt\" viewBox=\"0.00 0.00 270.00 152.00\">\n<g id=\"graph0\" class=\"graph\" transform=\"scale(1 1) rotate(0) translate(4 148)\">\n<title>my_graph</title>\n<polygon fill=\"white\" stroke=\"transparent\" points=\"-4,4 -4,-148 266,-148 266,4 -4,4\"/>\n<!-- a_G2 -->\n<g id=\"node1\" class=\"node\">\n<title>a_G2</title>\n<text text-anchor=\"middle\" x=\"27\" y=\"-106.3\" font-family=\"Times,serif\" font-size=\"14.00\">a</text>\n</g>\n<!-- OutOfPlaceAdder -->\n<g id=\"node3\" class=\"node\">\n<title>OutOfPlaceAdder</title>\n<polygon fill=\"none\" stroke=\"black\" points=\"91,-104 91,-121 171,-121 171,-104 91,-104\"/>\n<text text-anchor=\"start\" x=\"94\" y=\"-110\" font-family=\"Times,serif\" font-size=\"10.00\">OutOfPlaceAdder</text>\n<polygon fill=\"none\" stroke=\"black\" points=\"91,-83 91,-104 171,-104 171,-83 91,-83\"/>\n<text text-anchor=\"start\" x=\"127.5\" y=\"-89.8\" font-family=\"Times,serif\" font-size=\"14.00\">a</text>\n<polygon fill=\"none\" stroke=\"black\" points=\"91,-62 91,-83 171,-83 171,-62 91,-62\"/>\n<text text-anchor=\"start\" x=\"127.5\" y=\"-68.8\" font-family=\"Times,serif\" font-size=\"14.00\">b</text>\n<polygon fill=\"none\" stroke=\"black\" points=\"91,-41 91,-62 127,-62 127,-41 91,-41\"/>\n<polygon fill=\"none\" stroke=\"black\" points=\"127,-41 127,-62 171,-62 171,-41 127,-41\"/>\n<text text-anchor=\"start\" x=\"145.5\" y=\"-47.8\" font-family=\"Times,serif\" font-size=\"14.00\">c</text>\n</g>\n<!-- a_G2&#45;&gt;OutOfPlaceAdder -->\n<g id=\"edge1\" class=\"edge\">\n<title>a_G2:e-&gt;OutOfPlaceAdder:w</title>\n<path fill=\"none\" stroke=\"black\" d=\"M54,-110C71.22,-110 72.97,-95.23 88.98,-94.07\"/>\n<ellipse fill=\"black\" stroke=\"black\" cx=\"90\" cy=\"-94.04\" rx=\"1\" ry=\"1\"/>\n<text text-anchor=\"middle\" x=\"72.5\" y=\"-105\" font-family=\"Times,serif\" font-size=\"10.00\">64</text>\n</g>\n<!-- b_G4 -->\n<g id=\"node2\" class=\"node\">\n<title>b_G4</title>\n<text text-anchor=\"middle\" x=\"27\" y=\"-52.3\" font-family=\"Times,serif\" font-size=\"14.00\">b</text>\n</g>\n<!-- b_G4&#45;&gt;OutOfPlaceAdder -->\n<g id=\"edge2\" class=\"edge\">\n<title>b_G4:e-&gt;OutOfPlaceAdder:w</title>\n<path fill=\"none\" stroke=\"black\" d=\"M54,-56C71.22,-56 72.97,-70.77 88.98,-71.93\"/>\n<ellipse fill=\"black\" stroke=\"black\" cx=\"90\" cy=\"-71.96\" rx=\"1\" ry=\"1\"/>\n<text text-anchor=\"middle\" x=\"72.5\" y=\"-68\" font-family=\"Times,serif\" font-size=\"10.00\">64</text>\n</g>\n<!-- a_G6 -->\n<g id=\"node4\" class=\"node\">\n<title>a_G6</title>\n<text text-anchor=\"middle\" x=\"235\" y=\"-122.3\" font-family=\"Times,serif\" font-size=\"14.00\">a</text>\n</g>\n<!-- OutOfPlaceAdder&#45;&gt;a_G6 -->\n<g id=\"edge3\" class=\"edge\">\n<title>OutOfPlaceAdder:e-&gt;a_G6:w</title>\n<path fill=\"none\" stroke=\"black\" d=\"M171,-94C191.89,-94 186.72,-123.55 205.58,-125.86\"/>\n<ellipse fill=\"black\" stroke=\"black\" cx=\"207\" cy=\"-125.94\" rx=\"1\" ry=\"1\"/>\n<text text-anchor=\"middle\" x=\"189.5\" y=\"-113\" font-family=\"Times,serif\" font-size=\"10.00\">64</text>\n</g>\n<!-- b_G1 -->\n<g id=\"node5\" class=\"node\">\n<title>b_G1</title>\n<text text-anchor=\"middle\" x=\"235\" y=\"-68.3\" font-family=\"Times,serif\" font-size=\"14.00\">b</text>\n</g>\n<!-- OutOfPlaceAdder&#45;&gt;b_G1 -->\n<g id=\"edge4\" class=\"edge\">\n<title>OutOfPlaceAdder:e-&gt;b_G1:w</title>\n<path fill=\"none\" stroke=\"black\" d=\"M171,-72C186.67,-72 191.14,-72 205.77,-72\"/>\n<ellipse fill=\"black\" stroke=\"black\" cx=\"207\" cy=\"-72\" rx=\"1\" ry=\"1\"/>\n<text text-anchor=\"middle\" x=\"189.5\" y=\"-75\" font-family=\"Times,serif\" font-size=\"10.00\">64</text>\n</g>\n<!-- c_G5 -->\n<g id=\"node6\" class=\"node\">\n<title>c_G5</title>\n<text text-anchor=\"middle\" x=\"235\" y=\"-14.3\" font-family=\"Times,serif\" font-size=\"14.00\">c</text>\n</g>\n<!-- OutOfPlaceAdder&#45;&gt;c_G5 -->\n<g id=\"edge5\" class=\"edge\">\n<title>OutOfPlaceAdder:e-&gt;c_G5:w</title>\n<path fill=\"none\" stroke=\"black\" d=\"M171,-51C192.17,-51 186.47,-20.53 205.55,-18.15\"/>\n<ellipse fill=\"black\" stroke=\"black\" cx=\"207\" cy=\"-18.06\" rx=\"1\" ry=\"1\"/>\n<text text-anchor=\"middle\" x=\"189.5\" y=\"-39\" font-family=\"Times,serif\" font-size=\"10.00\">65</text>\n</g>\n</g>\n</svg>",
          "text/plain": "<IPython.core.display.SVG object>"
         },
         "metadata": {},
         "output_type": "display_data"
        }
       ],
       "tabbable": null,
       "tooltip": null
      }
     },
     "2e389710752f4d04b77b0828326faf79": {
      "model_module": "@jupyter-widgets/output",
      "model_module_version": "1.0.0",
      "model_name": "OutputModel",
      "state": {
       "_dom_classes": [],
       "_model_module": "@jupyter-widgets/output",
       "_model_module_version": "1.0.0",
       "_model_name": "OutputModel",
       "_view_count": null,
       "_view_module": "@jupyter-widgets/output",
       "_view_module_version": "1.0.0",
       "_view_name": "OutputView",
       "layout": "IPY_MODEL_d1124506664f4952ae6a1b6adb517b15",
       "msg_id": "",
       "outputs": [
        {
         "data": {
          "text/markdown": "`add_symb`",
          "text/plain": "<IPython.core.display.Markdown object>"
         },
         "metadata": {},
         "output_type": "display_data"
        },
        {
         "data": {
          "image/svg+xml": "<svg xmlns=\"http://www.w3.org/2000/svg\" xmlns:xlink=\"http://www.w3.org/1999/xlink\" width=\"215pt\" height=\"98pt\" viewBox=\"0.00 0.00 215.00 98.00\">\n<g id=\"graph0\" class=\"graph\" transform=\"scale(1 1) rotate(0) translate(4 94)\">\n<title>my_graph</title>\n<polygon fill=\"white\" stroke=\"transparent\" points=\"-4,4 -4,-94 211,-94 211,4 -4,4\"/>\n<!-- a_G2 -->\n<g id=\"node1\" class=\"node\">\n<title>a_G2</title>\n<text text-anchor=\"middle\" x=\"27\" y=\"-68.3\" font-family=\"Times,serif\" font-size=\"14.00\">a</text>\n</g>\n<!-- Add -->\n<g id=\"node3\" class=\"node\">\n<title>Add</title>\n<polygon fill=\"none\" stroke=\"black\" points=\"91.5,-66 91.5,-83 116.5,-83 116.5,-66 91.5,-66\"/>\n<text text-anchor=\"start\" x=\"94.5\" y=\"-72\" font-family=\"Times,serif\" font-size=\"10.00\">Add</text>\n<polygon fill=\"none\" stroke=\"black\" points=\"91.5,-45 91.5,-66 116.5,-66 116.5,-45 91.5,-45\"/>\n<text text-anchor=\"start\" x=\"100.5\" y=\"-51.8\" font-family=\"Times,serif\" font-size=\"14.00\">a</text>\n<polygon fill=\"none\" stroke=\"black\" points=\"91.5,-24 91.5,-45 116.5,-45 116.5,-24 91.5,-24\"/>\n<text text-anchor=\"start\" x=\"100.5\" y=\"-30.8\" font-family=\"Times,serif\" font-size=\"14.00\">b</text>\n</g>\n<!-- a_G2&#45;&gt;Add -->\n<g id=\"edge1\" class=\"edge\">\n<title>a_G2:e-&gt;Add:w</title>\n<path fill=\"none\" stroke=\"black\" d=\"M54,-72C71.22,-72 72.97,-57.23 88.98,-56.07\"/>\n<ellipse fill=\"black\" stroke=\"black\" cx=\"90\" cy=\"-56.04\" rx=\"1\" ry=\"1\"/>\n<text text-anchor=\"middle\" x=\"72.5\" y=\"-67\" font-family=\"Times,serif\" font-size=\"10.00\">n</text>\n</g>\n<!-- b_G4 -->\n<g id=\"node2\" class=\"node\">\n<title>b_G4</title>\n<text text-anchor=\"middle\" x=\"27\" y=\"-14.3\" font-family=\"Times,serif\" font-size=\"14.00\">b</text>\n</g>\n<!-- b_G4&#45;&gt;Add -->\n<g id=\"edge2\" class=\"edge\">\n<title>b_G4:e-&gt;Add:w</title>\n<path fill=\"none\" stroke=\"black\" d=\"M54,-18C71.22,-18 72.97,-32.77 88.98,-33.93\"/>\n<ellipse fill=\"black\" stroke=\"black\" cx=\"90\" cy=\"-33.96\" rx=\"1\" ry=\"1\"/>\n<text text-anchor=\"middle\" x=\"72.5\" y=\"-29\" font-family=\"Times,serif\" font-size=\"10.00\">n</text>\n</g>\n<!-- a_G0 -->\n<g id=\"node4\" class=\"node\">\n<title>a_G0</title>\n<text text-anchor=\"middle\" x=\"180\" y=\"-68.3\" font-family=\"Times,serif\" font-size=\"14.00\">a</text>\n</g>\n<!-- Add&#45;&gt;a_G0 -->\n<g id=\"edge3\" class=\"edge\">\n<title>Add:e-&gt;a_G0:w</title>\n<path fill=\"none\" stroke=\"black\" d=\"M116,-56C133.22,-56 134.97,-70.77 150.98,-71.93\"/>\n<ellipse fill=\"black\" stroke=\"black\" cx=\"152\" cy=\"-71.96\" rx=\"1\" ry=\"1\"/>\n<text text-anchor=\"middle\" x=\"134.5\" y=\"-67\" font-family=\"Times,serif\" font-size=\"10.00\">n</text>\n</g>\n<!-- b_G1 -->\n<g id=\"node5\" class=\"node\">\n<title>b_G1</title>\n<text text-anchor=\"middle\" x=\"180\" y=\"-14.3\" font-family=\"Times,serif\" font-size=\"14.00\">b</text>\n</g>\n<!-- Add&#45;&gt;b_G1 -->\n<g id=\"edge4\" class=\"edge\">\n<title>Add:e-&gt;b_G1:w</title>\n<path fill=\"none\" stroke=\"black\" d=\"M116,-34C133.22,-34 134.97,-19.23 150.98,-18.07\"/>\n<ellipse fill=\"black\" stroke=\"black\" cx=\"152\" cy=\"-18.04\" rx=\"1\" ry=\"1\"/>\n<text text-anchor=\"middle\" x=\"134.5\" y=\"-29\" font-family=\"Times,serif\" font-size=\"10.00\">n</text>\n</g>\n</g>\n</svg>",
          "text/plain": "<IPython.core.display.SVG object>"
         },
         "metadata": {},
         "output_type": "display_data"
        }
       ],
       "tabbable": null,
       "tooltip": null
      }
     },
     "31ee6e3037ff4909a2cb6502d61b2386": {
      "model_module": "@jupyter-widgets/output",
      "model_module_version": "1.0.0",
      "model_name": "OutputModel",
      "state": {
       "_dom_classes": [],
       "_model_module": "@jupyter-widgets/output",
       "_model_module_version": "1.0.0",
       "_model_name": "OutputModel",
       "_view_count": null,
       "_view_module": "@jupyter-widgets/output",
       "_view_module_version": "1.0.0",
       "_view_name": "OutputView",
       "layout": "IPY_MODEL_5d36e158eeb2412f962a34ab182b697b",
       "msg_id": "",
       "outputs": [
        {
         "data": {
          "text/markdown": "`add_k`",
          "text/plain": "<IPython.core.display.Markdown object>"
         },
         "metadata": {},
         "output_type": "display_data"
        },
        {
         "data": {
          "image/svg+xml": "<svg xmlns=\"http://www.w3.org/2000/svg\" xmlns:xlink=\"http://www.w3.org/1999/xlink\" width=\"222pt\" height=\"54pt\" viewBox=\"0.00 0.00 222.00 54.00\">\n<g id=\"graph0\" class=\"graph\" transform=\"scale(1 1) rotate(0) translate(4 50)\">\n<title>my_graph</title>\n<polygon fill=\"white\" stroke=\"transparent\" points=\"-4,4 -4,-50 218,-50 218,4 -4,4\"/>\n<!-- x_G2 -->\n<g id=\"node1\" class=\"node\">\n<title>x_G2</title>\n<text text-anchor=\"middle\" x=\"27\" y=\"-14.3\" font-family=\"Times,serif\" font-size=\"14.00\">x</text>\n</g>\n<!-- AddK -->\n<g id=\"node2\" class=\"node\">\n<title>AddK</title>\n<polygon fill=\"none\" stroke=\"black\" points=\"91,-29 91,-46 123,-46 123,-29 91,-29\"/>\n<text text-anchor=\"start\" x=\"94\" y=\"-35\" font-family=\"Times,serif\" font-size=\"10.00\">AddK</text>\n<polygon fill=\"none\" stroke=\"black\" points=\"91,-8 91,-29 123,-29 123,-8 91,-8\"/>\n<text text-anchor=\"start\" x=\"103.5\" y=\"-14.8\" font-family=\"Times,serif\" font-size=\"14.00\">x</text>\n</g>\n<!-- x_G2&#45;&gt;AddK -->\n<g id=\"edge1\" class=\"edge\">\n<title>x_G2:e-&gt;AddK:w</title>\n<path fill=\"none\" stroke=\"black\" d=\"M54,-18C69.67,-18 74.14,-18 88.77,-18\"/>\n<ellipse fill=\"black\" stroke=\"black\" cx=\"90\" cy=\"-18\" rx=\"1\" ry=\"1\"/>\n<text text-anchor=\"middle\" x=\"72.5\" y=\"-21\" font-family=\"Times,serif\" font-size=\"10.00\">n</text>\n</g>\n<!-- x_G0 -->\n<g id=\"node3\" class=\"node\">\n<title>x_G0</title>\n<text text-anchor=\"middle\" x=\"187\" y=\"-14.3\" font-family=\"Times,serif\" font-size=\"14.00\">x</text>\n</g>\n<!-- AddK&#45;&gt;x_G0 -->\n<g id=\"edge2\" class=\"edge\">\n<title>AddK:e-&gt;x_G0:w</title>\n<path fill=\"none\" stroke=\"black\" d=\"M123,-18C138.67,-18 143.14,-18 157.77,-18\"/>\n<ellipse fill=\"black\" stroke=\"black\" cx=\"159\" cy=\"-18\" rx=\"1\" ry=\"1\"/>\n<text text-anchor=\"middle\" x=\"141.5\" y=\"-21\" font-family=\"Times,serif\" font-size=\"10.00\">n</text>\n</g>\n</g>\n</svg>",
          "text/plain": "<IPython.core.display.SVG object>"
         },
         "metadata": {},
         "output_type": "display_data"
        }
       ],
       "tabbable": null,
       "tooltip": null
      }
     },
     "3681010f4f4045ffa9432ec11f895de4": {
      "model_module": "@jupyter-widgets/output",
      "model_module_version": "1.0.0",
      "model_name": "OutputModel",
      "state": {
       "_dom_classes": [],
       "_model_module": "@jupyter-widgets/output",
       "_model_module_version": "1.0.0",
       "_model_name": "OutputModel",
       "_view_count": null,
       "_view_module": "@jupyter-widgets/output",
       "_view_module_version": "1.0.0",
       "_view_name": "OutputView",
       "layout": "IPY_MODEL_41f446051080427fbb51889c5a7e647d",
       "msg_id": "",
       "outputs": [
        {
         "data": {
          "text/markdown": "`add_diff_size_regs`",
          "text/plain": "<IPython.core.display.Markdown object>"
         },
         "metadata": {},
         "output_type": "display_data"
        },
        {
         "data": {
          "image/svg+xml": "<svg xmlns=\"http://www.w3.org/2000/svg\" xmlns:xlink=\"http://www.w3.org/1999/xlink\" width=\"215pt\" height=\"98pt\" viewBox=\"0.00 0.00 215.00 98.00\">\n<g id=\"graph0\" class=\"graph\" transform=\"scale(1 1) rotate(0) translate(4 94)\">\n<title>my_graph</title>\n<polygon fill=\"white\" stroke=\"transparent\" points=\"-4,4 -4,-94 211,-94 211,4 -4,4\"/>\n<!-- a_G5 -->\n<g id=\"node1\" class=\"node\">\n<title>a_G5</title>\n<text text-anchor=\"middle\" x=\"27\" y=\"-68.3\" font-family=\"Times,serif\" font-size=\"14.00\">a</text>\n</g>\n<!-- Add -->\n<g id=\"node3\" class=\"node\">\n<title>Add</title>\n<polygon fill=\"none\" stroke=\"black\" points=\"91.5,-66 91.5,-83 116.5,-83 116.5,-66 91.5,-66\"/>\n<text text-anchor=\"start\" x=\"94.5\" y=\"-72\" font-family=\"Times,serif\" font-size=\"10.00\">Add</text>\n<polygon fill=\"none\" stroke=\"black\" points=\"91.5,-45 91.5,-66 116.5,-66 116.5,-45 91.5,-45\"/>\n<text text-anchor=\"start\" x=\"100.5\" y=\"-51.8\" font-family=\"Times,serif\" font-size=\"14.00\">a</text>\n<polygon fill=\"none\" stroke=\"black\" points=\"91.5,-24 91.5,-45 116.5,-45 116.5,-24 91.5,-24\"/>\n<text text-anchor=\"start\" x=\"100.5\" y=\"-30.8\" font-family=\"Times,serif\" font-size=\"14.00\">b</text>\n</g>\n<!-- a_G5&#45;&gt;Add -->\n<g id=\"edge1\" class=\"edge\">\n<title>a_G5:e-&gt;Add:w</title>\n<path fill=\"none\" stroke=\"black\" d=\"M54,-72C71.22,-72 72.97,-57.23 88.98,-56.07\"/>\n<ellipse fill=\"black\" stroke=\"black\" cx=\"90\" cy=\"-56.04\" rx=\"1\" ry=\"1\"/>\n<text text-anchor=\"middle\" x=\"72.5\" y=\"-67\" font-family=\"Times,serif\" font-size=\"10.00\">4</text>\n</g>\n<!-- b_G1 -->\n<g id=\"node2\" class=\"node\">\n<title>b_G1</title>\n<text text-anchor=\"middle\" x=\"27\" y=\"-14.3\" font-family=\"Times,serif\" font-size=\"14.00\">b</text>\n</g>\n<!-- b_G1&#45;&gt;Add -->\n<g id=\"edge2\" class=\"edge\">\n<title>b_G1:e-&gt;Add:w</title>\n<path fill=\"none\" stroke=\"black\" d=\"M54,-18C71.22,-18 72.97,-32.77 88.98,-33.93\"/>\n<ellipse fill=\"black\" stroke=\"black\" cx=\"90\" cy=\"-33.96\" rx=\"1\" ry=\"1\"/>\n<text text-anchor=\"middle\" x=\"72.5\" y=\"-29\" font-family=\"Times,serif\" font-size=\"10.00\">16</text>\n</g>\n<!-- a_G2 -->\n<g id=\"node4\" class=\"node\">\n<title>a_G2</title>\n<text text-anchor=\"middle\" x=\"180\" y=\"-68.3\" font-family=\"Times,serif\" font-size=\"14.00\">a</text>\n</g>\n<!-- Add&#45;&gt;a_G2 -->\n<g id=\"edge3\" class=\"edge\">\n<title>Add:e-&gt;a_G2:w</title>\n<path fill=\"none\" stroke=\"black\" d=\"M116,-56C133.22,-56 134.97,-70.77 150.98,-71.93\"/>\n<ellipse fill=\"black\" stroke=\"black\" cx=\"152\" cy=\"-71.96\" rx=\"1\" ry=\"1\"/>\n<text text-anchor=\"middle\" x=\"134.5\" y=\"-67\" font-family=\"Times,serif\" font-size=\"10.00\">4</text>\n</g>\n<!-- b_G0 -->\n<g id=\"node5\" class=\"node\">\n<title>b_G0</title>\n<text text-anchor=\"middle\" x=\"180\" y=\"-14.3\" font-family=\"Times,serif\" font-size=\"14.00\">b</text>\n</g>\n<!-- Add&#45;&gt;b_G0 -->\n<g id=\"edge4\" class=\"edge\">\n<title>Add:e-&gt;b_G0:w</title>\n<path fill=\"none\" stroke=\"black\" d=\"M116,-34C133.22,-34 134.97,-19.23 150.98,-18.07\"/>\n<ellipse fill=\"black\" stroke=\"black\" cx=\"152\" cy=\"-18.04\" rx=\"1\" ry=\"1\"/>\n<text text-anchor=\"middle\" x=\"134.5\" y=\"-29\" font-family=\"Times,serif\" font-size=\"10.00\">16</text>\n</g>\n</g>\n</svg>",
          "text/plain": "<IPython.core.display.SVG object>"
         },
         "metadata": {},
         "output_type": "display_data"
        }
       ],
       "tabbable": null,
       "tooltip": null
      }
     },
     "38ec3009b68a4ed5b38a99ec17988a15": {
      "model_module": "@jupyter-widgets/output",
      "model_module_version": "1.0.0",
      "model_name": "OutputModel",
      "state": {
       "_dom_classes": [],
       "_model_module": "@jupyter-widgets/output",
       "_model_module_version": "1.0.0",
       "_model_name": "OutputModel",
       "_view_count": null,
       "_view_module": "@jupyter-widgets/output",
       "_view_module_version": "1.0.0",
       "_view_name": "OutputView",
       "layout": "IPY_MODEL_40a0df26b0564ccf9fda35344adb7387",
       "msg_id": "",
       "outputs": [
        {
         "data": {
          "text/markdown": "`add_large`",
          "text/plain": "<IPython.core.display.Markdown object>"
         },
         "metadata": {},
         "output_type": "display_data"
        },
        {
         "data": {
          "image/svg+xml": "<svg xmlns=\"http://www.w3.org/2000/svg\" xmlns:xlink=\"http://www.w3.org/1999/xlink\" width=\"215pt\" height=\"98pt\" viewBox=\"0.00 0.00 215.00 98.00\">\n<g id=\"graph0\" class=\"graph\" transform=\"scale(1 1) rotate(0) translate(4 94)\">\n<title>my_graph</title>\n<polygon fill=\"white\" stroke=\"transparent\" points=\"-4,4 -4,-94 211,-94 211,4 -4,4\"/>\n<!-- a_G4 -->\n<g id=\"node1\" class=\"node\">\n<title>a_G4</title>\n<text text-anchor=\"middle\" x=\"27\" y=\"-68.3\" font-family=\"Times,serif\" font-size=\"14.00\">a</text>\n</g>\n<!-- Add -->\n<g id=\"node3\" class=\"node\">\n<title>Add</title>\n<polygon fill=\"none\" stroke=\"black\" points=\"91.5,-66 91.5,-83 116.5,-83 116.5,-66 91.5,-66\"/>\n<text text-anchor=\"start\" x=\"94.5\" y=\"-72\" font-family=\"Times,serif\" font-size=\"10.00\">Add</text>\n<polygon fill=\"none\" stroke=\"black\" points=\"91.5,-45 91.5,-66 116.5,-66 116.5,-45 91.5,-45\"/>\n<text text-anchor=\"start\" x=\"100.5\" y=\"-51.8\" font-family=\"Times,serif\" font-size=\"14.00\">a</text>\n<polygon fill=\"none\" stroke=\"black\" points=\"91.5,-24 91.5,-45 116.5,-45 116.5,-24 91.5,-24\"/>\n<text text-anchor=\"start\" x=\"100.5\" y=\"-30.8\" font-family=\"Times,serif\" font-size=\"14.00\">b</text>\n</g>\n<!-- a_G4&#45;&gt;Add -->\n<g id=\"edge1\" class=\"edge\">\n<title>a_G4:e-&gt;Add:w</title>\n<path fill=\"none\" stroke=\"black\" d=\"M54,-72C71.22,-72 72.97,-57.23 88.98,-56.07\"/>\n<ellipse fill=\"black\" stroke=\"black\" cx=\"90\" cy=\"-56.04\" rx=\"1\" ry=\"1\"/>\n<text text-anchor=\"middle\" x=\"72.5\" y=\"-67\" font-family=\"Times,serif\" font-size=\"10.00\">64</text>\n</g>\n<!-- b_G0 -->\n<g id=\"node2\" class=\"node\">\n<title>b_G0</title>\n<text text-anchor=\"middle\" x=\"27\" y=\"-14.3\" font-family=\"Times,serif\" font-size=\"14.00\">b</text>\n</g>\n<!-- b_G0&#45;&gt;Add -->\n<g id=\"edge2\" class=\"edge\">\n<title>b_G0:e-&gt;Add:w</title>\n<path fill=\"none\" stroke=\"black\" d=\"M54,-18C71.22,-18 72.97,-32.77 88.98,-33.93\"/>\n<ellipse fill=\"black\" stroke=\"black\" cx=\"90\" cy=\"-33.96\" rx=\"1\" ry=\"1\"/>\n<text text-anchor=\"middle\" x=\"72.5\" y=\"-29\" font-family=\"Times,serif\" font-size=\"10.00\">64</text>\n</g>\n<!-- a_G3 -->\n<g id=\"node4\" class=\"node\">\n<title>a_G3</title>\n<text text-anchor=\"middle\" x=\"180\" y=\"-68.3\" font-family=\"Times,serif\" font-size=\"14.00\">a</text>\n</g>\n<!-- Add&#45;&gt;a_G3 -->\n<g id=\"edge3\" class=\"edge\">\n<title>Add:e-&gt;a_G3:w</title>\n<path fill=\"none\" stroke=\"black\" d=\"M116,-56C133.22,-56 134.97,-70.77 150.98,-71.93\"/>\n<ellipse fill=\"black\" stroke=\"black\" cx=\"152\" cy=\"-71.96\" rx=\"1\" ry=\"1\"/>\n<text text-anchor=\"middle\" x=\"134.5\" y=\"-67\" font-family=\"Times,serif\" font-size=\"10.00\">64</text>\n</g>\n<!-- b_G5 -->\n<g id=\"node5\" class=\"node\">\n<title>b_G5</title>\n<text text-anchor=\"middle\" x=\"180\" y=\"-14.3\" font-family=\"Times,serif\" font-size=\"14.00\">b</text>\n</g>\n<!-- Add&#45;&gt;b_G5 -->\n<g id=\"edge4\" class=\"edge\">\n<title>Add:e-&gt;b_G5:w</title>\n<path fill=\"none\" stroke=\"black\" d=\"M116,-34C133.22,-34 134.97,-19.23 150.98,-18.07\"/>\n<ellipse fill=\"black\" stroke=\"black\" cx=\"152\" cy=\"-18.04\" rx=\"1\" ry=\"1\"/>\n<text text-anchor=\"middle\" x=\"134.5\" y=\"-29\" font-family=\"Times,serif\" font-size=\"10.00\">64</text>\n</g>\n</g>\n</svg>",
          "text/plain": "<IPython.core.display.SVG object>"
         },
         "metadata": {},
         "output_type": "display_data"
        }
       ],
       "tabbable": null,
       "tooltip": null
      }
     },
     "40a0df26b0564ccf9fda35344adb7387": {
      "model_module": "@jupyter-widgets/base",
      "model_module_version": "2.0.0",
      "model_name": "LayoutModel",
      "state": {
       "_model_module": "@jupyter-widgets/base",
       "_model_module_version": "2.0.0",
       "_model_name": "LayoutModel",
       "_view_count": null,
       "_view_module": "@jupyter-widgets/base",
       "_view_module_version": "2.0.0",
       "_view_name": "LayoutView",
       "align_content": null,
       "align_items": null,
       "align_self": null,
       "border_bottom": null,
       "border_left": null,
       "border_right": null,
       "border_top": null,
       "bottom": null,
       "display": null,
       "flex": null,
       "flex_flow": null,
       "grid_area": null,
       "grid_auto_columns": null,
       "grid_auto_flow": null,
       "grid_auto_rows": null,
       "grid_column": null,
       "grid_gap": null,
       "grid_row": null,
       "grid_template_areas": null,
       "grid_template_columns": null,
       "grid_template_rows": null,
       "height": null,
       "justify_content": null,
       "justify_items": null,
       "left": null,
       "margin": null,
       "max_height": null,
       "max_width": null,
       "min_height": null,
       "min_width": null,
       "object_fit": null,
       "object_position": null,
       "order": null,
       "overflow": null,
       "padding": null,
       "right": null,
       "top": null,
       "visibility": null,
       "width": null
      }
     },
     "41f446051080427fbb51889c5a7e647d": {
      "model_module": "@jupyter-widgets/base",
      "model_module_version": "2.0.0",
      "model_name": "LayoutModel",
      "state": {
       "_model_module": "@jupyter-widgets/base",
       "_model_module_version": "2.0.0",
       "_model_name": "LayoutModel",
       "_view_count": null,
       "_view_module": "@jupyter-widgets/base",
       "_view_module_version": "2.0.0",
       "_view_name": "LayoutView",
       "align_content": null,
       "align_items": null,
       "align_self": null,
       "border_bottom": null,
       "border_left": null,
       "border_right": null,
       "border_top": null,
       "bottom": null,
       "display": null,
       "flex": null,
       "flex_flow": null,
       "grid_area": null,
       "grid_auto_columns": null,
       "grid_auto_flow": null,
       "grid_auto_rows": null,
       "grid_column": null,
       "grid_gap": null,
       "grid_row": null,
       "grid_template_areas": null,
       "grid_template_columns": null,
       "grid_template_rows": null,
       "height": null,
       "justify_content": null,
       "justify_items": null,
       "left": null,
       "margin": null,
       "max_height": null,
       "max_width": null,
       "min_height": null,
       "min_width": null,
       "object_fit": null,
       "object_position": null,
       "order": null,
       "overflow": null,
       "padding": null,
       "right": null,
       "top": null,
       "visibility": null,
       "width": null
      }
     },
     "4cccad6550874167819dcaee1412c57a": {
      "model_module": "@jupyter-widgets/output",
      "model_module_version": "1.0.0",
      "model_name": "OutputModel",
      "state": {
       "_dom_classes": [],
       "_model_module": "@jupyter-widgets/output",
       "_model_module_version": "1.0.0",
       "_model_name": "OutputModel",
       "_view_count": null,
       "_view_module": "@jupyter-widgets/output",
       "_view_module_version": "1.0.0",
       "_view_name": "OutputView",
       "layout": "IPY_MODEL_087eb7f08fd94e7bbb54ea6e9d83b2e3",
       "msg_id": "",
       "outputs": [
        {
         "data": {
          "text/markdown": "`add_k_large`",
          "text/plain": "<IPython.core.display.Markdown object>"
         },
         "metadata": {},
         "output_type": "display_data"
        },
        {
         "data": {
          "image/svg+xml": "<svg xmlns=\"http://www.w3.org/2000/svg\" xmlns:xlink=\"http://www.w3.org/1999/xlink\" width=\"222pt\" height=\"54pt\" viewBox=\"0.00 0.00 222.00 54.00\">\n<g id=\"graph0\" class=\"graph\" transform=\"scale(1 1) rotate(0) translate(4 50)\">\n<title>my_graph</title>\n<polygon fill=\"white\" stroke=\"transparent\" points=\"-4,4 -4,-50 218,-50 218,4 -4,4\"/>\n<!-- x_G2 -->\n<g id=\"node1\" class=\"node\">\n<title>x_G2</title>\n<text text-anchor=\"middle\" x=\"27\" y=\"-14.3\" font-family=\"Times,serif\" font-size=\"14.00\">x</text>\n</g>\n<!-- AddK -->\n<g id=\"node2\" class=\"node\">\n<title>AddK</title>\n<polygon fill=\"none\" stroke=\"black\" points=\"91,-29 91,-46 123,-46 123,-29 91,-29\"/>\n<text text-anchor=\"start\" x=\"94\" y=\"-35\" font-family=\"Times,serif\" font-size=\"10.00\">AddK</text>\n<polygon fill=\"none\" stroke=\"black\" points=\"91,-8 91,-29 123,-29 123,-8 91,-8\"/>\n<text text-anchor=\"start\" x=\"103.5\" y=\"-14.8\" font-family=\"Times,serif\" font-size=\"14.00\">x</text>\n</g>\n<!-- x_G2&#45;&gt;AddK -->\n<g id=\"edge1\" class=\"edge\">\n<title>x_G2:e-&gt;AddK:w</title>\n<path fill=\"none\" stroke=\"black\" d=\"M54,-18C69.67,-18 74.14,-18 88.77,-18\"/>\n<ellipse fill=\"black\" stroke=\"black\" cx=\"90\" cy=\"-18\" rx=\"1\" ry=\"1\"/>\n<text text-anchor=\"middle\" x=\"72.5\" y=\"-21\" font-family=\"Times,serif\" font-size=\"10.00\">64</text>\n</g>\n<!-- x_G0 -->\n<g id=\"node3\" class=\"node\">\n<title>x_G0</title>\n<text text-anchor=\"middle\" x=\"187\" y=\"-14.3\" font-family=\"Times,serif\" font-size=\"14.00\">x</text>\n</g>\n<!-- AddK&#45;&gt;x_G0 -->\n<g id=\"edge2\" class=\"edge\">\n<title>AddK:e-&gt;x_G0:w</title>\n<path fill=\"none\" stroke=\"black\" d=\"M123,-18C138.67,-18 143.14,-18 157.77,-18\"/>\n<ellipse fill=\"black\" stroke=\"black\" cx=\"159\" cy=\"-18\" rx=\"1\" ry=\"1\"/>\n<text text-anchor=\"middle\" x=\"141.5\" y=\"-21\" font-family=\"Times,serif\" font-size=\"10.00\">64</text>\n</g>\n</g>\n</svg>",
          "text/plain": "<IPython.core.display.SVG object>"
         },
         "metadata": {},
         "output_type": "display_data"
        }
       ],
       "tabbable": null,
       "tooltip": null
      }
     },
     "4fcbf8c3d0474573ac5ad87055fcca6f": {
      "model_module": "@jupyter-widgets/base",
      "model_module_version": "2.0.0",
      "model_name": "LayoutModel",
      "state": {
       "_model_module": "@jupyter-widgets/base",
       "_model_module_version": "2.0.0",
       "_model_name": "LayoutModel",
       "_view_count": null,
       "_view_module": "@jupyter-widgets/base",
       "_view_module_version": "2.0.0",
       "_view_name": "LayoutView",
       "align_content": null,
       "align_items": null,
       "align_self": null,
       "border_bottom": null,
       "border_left": null,
       "border_right": null,
       "border_top": null,
       "bottom": null,
       "display": null,
       "flex": null,
       "flex_flow": null,
       "grid_area": null,
       "grid_auto_columns": null,
       "grid_auto_flow": null,
       "grid_auto_rows": null,
       "grid_column": null,
       "grid_gap": null,
       "grid_row": null,
       "grid_template_areas": null,
       "grid_template_columns": null,
       "grid_template_rows": null,
       "height": null,
       "justify_content": null,
       "justify_items": null,
       "left": null,
       "margin": null,
       "max_height": null,
       "max_width": null,
       "min_height": null,
       "min_width": null,
       "object_fit": null,
       "object_position": null,
       "order": null,
       "overflow": null,
       "padding": null,
       "right": null,
       "top": null,
       "visibility": null,
       "width": null
      }
     },
     "5d36e158eeb2412f962a34ab182b697b": {
      "model_module": "@jupyter-widgets/base",
      "model_module_version": "2.0.0",
      "model_name": "LayoutModel",
      "state": {
       "_model_module": "@jupyter-widgets/base",
       "_model_module_version": "2.0.0",
       "_model_name": "LayoutModel",
       "_view_count": null,
       "_view_module": "@jupyter-widgets/base",
       "_view_module_version": "2.0.0",
       "_view_name": "LayoutView",
       "align_content": null,
       "align_items": null,
       "align_self": null,
       "border_bottom": null,
       "border_left": null,
       "border_right": null,
       "border_top": null,
       "bottom": null,
       "display": null,
       "flex": null,
       "flex_flow": null,
       "grid_area": null,
       "grid_auto_columns": null,
       "grid_auto_flow": null,
       "grid_auto_rows": null,
       "grid_column": null,
       "grid_gap": null,
       "grid_row": null,
       "grid_template_areas": null,
       "grid_template_columns": null,
       "grid_template_rows": null,
       "height": null,
       "justify_content": null,
       "justify_items": null,
       "left": null,
       "margin": null,
       "max_height": null,
       "max_width": null,
       "min_height": null,
       "min_width": null,
       "object_fit": null,
       "object_position": null,
       "order": null,
       "overflow": null,
       "padding": null,
       "right": null,
       "top": null,
       "visibility": null,
       "width": null
      }
     },
     "63040010c8034262af39728d7f90ce9e": {
      "model_module": "@jupyter-widgets/output",
      "model_module_version": "1.0.0",
      "model_name": "OutputModel",
      "state": {
       "_dom_classes": [],
       "_model_module": "@jupyter-widgets/output",
       "_model_module_version": "1.0.0",
       "_model_name": "OutputModel",
       "_view_count": null,
       "_view_module": "@jupyter-widgets/output",
       "_view_module_version": "1.0.0",
       "_view_name": "OutputView",
       "layout": "IPY_MODEL_a4de415146a94cd49d65c49f9db09346",
       "msg_id": "",
       "outputs": [
        {
         "data": {
          "text/markdown": "`add_k_small`",
          "text/plain": "<IPython.core.display.Markdown object>"
         },
         "metadata": {},
         "output_type": "display_data"
        },
        {
         "data": {
          "image/svg+xml": "<svg xmlns=\"http://www.w3.org/2000/svg\" xmlns:xlink=\"http://www.w3.org/1999/xlink\" width=\"222pt\" height=\"54pt\" viewBox=\"0.00 0.00 222.00 54.00\">\n<g id=\"graph0\" class=\"graph\" transform=\"scale(1 1) rotate(0) translate(4 50)\">\n<title>my_graph</title>\n<polygon fill=\"white\" stroke=\"transparent\" points=\"-4,4 -4,-50 218,-50 218,4 -4,4\"/>\n<!-- x_G0 -->\n<g id=\"node1\" class=\"node\">\n<title>x_G0</title>\n<text text-anchor=\"middle\" x=\"27\" y=\"-14.3\" font-family=\"Times,serif\" font-size=\"14.00\">x</text>\n</g>\n<!-- AddK -->\n<g id=\"node2\" class=\"node\">\n<title>AddK</title>\n<polygon fill=\"none\" stroke=\"black\" points=\"91,-29 91,-46 123,-46 123,-29 91,-29\"/>\n<text text-anchor=\"start\" x=\"94\" y=\"-35\" font-family=\"Times,serif\" font-size=\"10.00\">AddK</text>\n<polygon fill=\"none\" stroke=\"black\" points=\"91,-8 91,-29 123,-29 123,-8 91,-8\"/>\n<text text-anchor=\"start\" x=\"103.5\" y=\"-14.8\" font-family=\"Times,serif\" font-size=\"14.00\">x</text>\n</g>\n<!-- x_G0&#45;&gt;AddK -->\n<g id=\"edge1\" class=\"edge\">\n<title>x_G0:e-&gt;AddK:w</title>\n<path fill=\"none\" stroke=\"black\" d=\"M54,-18C69.67,-18 74.14,-18 88.77,-18\"/>\n<ellipse fill=\"black\" stroke=\"black\" cx=\"90\" cy=\"-18\" rx=\"1\" ry=\"1\"/>\n<text text-anchor=\"middle\" x=\"72.5\" y=\"-21\" font-family=\"Times,serif\" font-size=\"10.00\">4</text>\n</g>\n<!-- x_G2 -->\n<g id=\"node3\" class=\"node\">\n<title>x_G2</title>\n<text text-anchor=\"middle\" x=\"187\" y=\"-14.3\" font-family=\"Times,serif\" font-size=\"14.00\">x</text>\n</g>\n<!-- AddK&#45;&gt;x_G2 -->\n<g id=\"edge2\" class=\"edge\">\n<title>AddK:e-&gt;x_G2:w</title>\n<path fill=\"none\" stroke=\"black\" d=\"M123,-18C138.67,-18 143.14,-18 157.77,-18\"/>\n<ellipse fill=\"black\" stroke=\"black\" cx=\"159\" cy=\"-18\" rx=\"1\" ry=\"1\"/>\n<text text-anchor=\"middle\" x=\"141.5\" y=\"-21\" font-family=\"Times,serif\" font-size=\"10.00\">4</text>\n</g>\n</g>\n</svg>",
          "text/plain": "<IPython.core.display.SVG object>"
         },
         "metadata": {},
         "output_type": "display_data"
        }
       ],
       "tabbable": null,
       "tooltip": null
      }
     },
     "6b4a7b541abb4a29aae63bf893cb7c4f": {
      "model_module": "@jupyter-widgets/controls",
      "model_module_version": "2.0.0",
      "model_name": "HBoxModel",
      "state": {
       "_dom_classes": [],
       "_model_module": "@jupyter-widgets/controls",
       "_model_module_version": "2.0.0",
       "_model_name": "HBoxModel",
       "_view_count": null,
       "_view_module": "@jupyter-widgets/controls",
       "_view_module_version": "2.0.0",
       "_view_name": "HBoxView",
       "box_style": "",
       "children": [
        "IPY_MODEL_2e389710752f4d04b77b0828326faf79",
        "IPY_MODEL_cd5974ddb4114ea282e1cc6112c55c71",
        "IPY_MODEL_38ec3009b68a4ed5b38a99ec17988a15",
        "IPY_MODEL_3681010f4f4045ffa9432ec11f895de4"
       ],
       "layout": "IPY_MODEL_ea2934c39356416d850a555714b5a953",
       "tabbable": null,
       "tooltip": null
      }
     },
     "8639ae30b940425ba54a1ade096acdba": {
      "model_module": "@jupyter-widgets/base",
      "model_module_version": "2.0.0",
      "model_name": "LayoutModel",
      "state": {
       "_model_module": "@jupyter-widgets/base",
       "_model_module_version": "2.0.0",
       "_model_name": "LayoutModel",
       "_view_count": null,
       "_view_module": "@jupyter-widgets/base",
       "_view_module_version": "2.0.0",
       "_view_name": "LayoutView",
       "align_content": null,
       "align_items": null,
       "align_self": null,
       "border_bottom": null,
       "border_left": null,
       "border_right": null,
       "border_top": null,
       "bottom": null,
       "display": null,
       "flex": null,
       "flex_flow": null,
       "grid_area": null,
       "grid_auto_columns": null,
       "grid_auto_flow": null,
       "grid_auto_rows": null,
       "grid_column": null,
       "grid_gap": null,
       "grid_row": null,
       "grid_template_areas": null,
       "grid_template_columns": null,
       "grid_template_rows": null,
       "height": null,
       "justify_content": null,
       "justify_items": null,
       "left": null,
       "margin": null,
       "max_height": null,
       "max_width": null,
       "min_height": null,
       "min_width": null,
       "object_fit": null,
       "object_position": null,
       "order": null,
       "overflow": null,
       "padding": null,
       "right": null,
       "top": null,
       "visibility": null,
       "width": null
      }
     },
     "86586da1ef4e49189b0fc44b7639aadc": {
      "model_module": "@jupyter-widgets/output",
      "model_module_version": "1.0.0",
      "model_name": "OutputModel",
      "state": {
       "_dom_classes": [],
       "_model_module": "@jupyter-widgets/output",
       "_model_module_version": "1.0.0",
       "_model_name": "OutputModel",
       "_view_count": null,
       "_view_module": "@jupyter-widgets/output",
       "_view_module_version": "1.0.0",
       "_view_name": "OutputView",
       "layout": "IPY_MODEL_b226b7033b4c4dac913576d444a64fc5",
       "msg_id": "",
       "outputs": [
        {
         "data": {
          "text/markdown": "`add_oop_small`",
          "text/plain": "<IPython.core.display.Markdown object>"
         },
         "metadata": {},
         "output_type": "display_data"
        },
        {
         "data": {
          "image/svg+xml": "<svg xmlns=\"http://www.w3.org/2000/svg\" xmlns:xlink=\"http://www.w3.org/1999/xlink\" width=\"270pt\" height=\"152pt\" viewBox=\"0.00 0.00 270.00 152.00\">\n<g id=\"graph0\" class=\"graph\" transform=\"scale(1 1) rotate(0) translate(4 148)\">\n<title>my_graph</title>\n<polygon fill=\"white\" stroke=\"transparent\" points=\"-4,4 -4,-148 266,-148 266,4 -4,4\"/>\n<!-- a_G3 -->\n<g id=\"node1\" class=\"node\">\n<title>a_G3</title>\n<text text-anchor=\"middle\" x=\"27\" y=\"-106.3\" font-family=\"Times,serif\" font-size=\"14.00\">a</text>\n</g>\n<!-- OutOfPlaceAdder -->\n<g id=\"node3\" class=\"node\">\n<title>OutOfPlaceAdder</title>\n<polygon fill=\"none\" stroke=\"black\" points=\"91,-104 91,-121 171,-121 171,-104 91,-104\"/>\n<text text-anchor=\"start\" x=\"94\" y=\"-110\" font-family=\"Times,serif\" font-size=\"10.00\">OutOfPlaceAdder</text>\n<polygon fill=\"none\" stroke=\"black\" points=\"91,-83 91,-104 171,-104 171,-83 91,-83\"/>\n<text text-anchor=\"start\" x=\"127.5\" y=\"-89.8\" font-family=\"Times,serif\" font-size=\"14.00\">a</text>\n<polygon fill=\"none\" stroke=\"black\" points=\"91,-62 91,-83 171,-83 171,-62 91,-62\"/>\n<text text-anchor=\"start\" x=\"127.5\" y=\"-68.8\" font-family=\"Times,serif\" font-size=\"14.00\">b</text>\n<polygon fill=\"none\" stroke=\"black\" points=\"91,-41 91,-62 127,-62 127,-41 91,-41\"/>\n<polygon fill=\"none\" stroke=\"black\" points=\"127,-41 127,-62 171,-62 171,-41 127,-41\"/>\n<text text-anchor=\"start\" x=\"145.5\" y=\"-47.8\" font-family=\"Times,serif\" font-size=\"14.00\">c</text>\n</g>\n<!-- a_G3&#45;&gt;OutOfPlaceAdder -->\n<g id=\"edge1\" class=\"edge\">\n<title>a_G3:e-&gt;OutOfPlaceAdder:w</title>\n<path fill=\"none\" stroke=\"black\" d=\"M54,-110C71.22,-110 72.97,-95.23 88.98,-94.07\"/>\n<ellipse fill=\"black\" stroke=\"black\" cx=\"90\" cy=\"-94.04\" rx=\"1\" ry=\"1\"/>\n<text text-anchor=\"middle\" x=\"72.5\" y=\"-105\" font-family=\"Times,serif\" font-size=\"10.00\">4</text>\n</g>\n<!-- b_G1 -->\n<g id=\"node2\" class=\"node\">\n<title>b_G1</title>\n<text text-anchor=\"middle\" x=\"27\" y=\"-52.3\" font-family=\"Times,serif\" font-size=\"14.00\">b</text>\n</g>\n<!-- b_G1&#45;&gt;OutOfPlaceAdder -->\n<g id=\"edge2\" class=\"edge\">\n<title>b_G1:e-&gt;OutOfPlaceAdder:w</title>\n<path fill=\"none\" stroke=\"black\" d=\"M54,-56C71.22,-56 72.97,-70.77 88.98,-71.93\"/>\n<ellipse fill=\"black\" stroke=\"black\" cx=\"90\" cy=\"-71.96\" rx=\"1\" ry=\"1\"/>\n<text text-anchor=\"middle\" x=\"72.5\" y=\"-68\" font-family=\"Times,serif\" font-size=\"10.00\">4</text>\n</g>\n<!-- a_G5 -->\n<g id=\"node4\" class=\"node\">\n<title>a_G5</title>\n<text text-anchor=\"middle\" x=\"235\" y=\"-122.3\" font-family=\"Times,serif\" font-size=\"14.00\">a</text>\n</g>\n<!-- OutOfPlaceAdder&#45;&gt;a_G5 -->\n<g id=\"edge3\" class=\"edge\">\n<title>OutOfPlaceAdder:e-&gt;a_G5:w</title>\n<path fill=\"none\" stroke=\"black\" d=\"M171,-94C191.89,-94 186.72,-123.55 205.58,-125.86\"/>\n<ellipse fill=\"black\" stroke=\"black\" cx=\"207\" cy=\"-125.94\" rx=\"1\" ry=\"1\"/>\n<text text-anchor=\"middle\" x=\"189.5\" y=\"-113\" font-family=\"Times,serif\" font-size=\"10.00\">4</text>\n</g>\n<!-- b_G6 -->\n<g id=\"node5\" class=\"node\">\n<title>b_G6</title>\n<text text-anchor=\"middle\" x=\"235\" y=\"-68.3\" font-family=\"Times,serif\" font-size=\"14.00\">b</text>\n</g>\n<!-- OutOfPlaceAdder&#45;&gt;b_G6 -->\n<g id=\"edge4\" class=\"edge\">\n<title>OutOfPlaceAdder:e-&gt;b_G6:w</title>\n<path fill=\"none\" stroke=\"black\" d=\"M171,-72C186.67,-72 191.14,-72 205.77,-72\"/>\n<ellipse fill=\"black\" stroke=\"black\" cx=\"207\" cy=\"-72\" rx=\"1\" ry=\"1\"/>\n<text text-anchor=\"middle\" x=\"189.5\" y=\"-75\" font-family=\"Times,serif\" font-size=\"10.00\">4</text>\n</g>\n<!-- c_G4 -->\n<g id=\"node6\" class=\"node\">\n<title>c_G4</title>\n<text text-anchor=\"middle\" x=\"235\" y=\"-14.3\" font-family=\"Times,serif\" font-size=\"14.00\">c</text>\n</g>\n<!-- OutOfPlaceAdder&#45;&gt;c_G4 -->\n<g id=\"edge5\" class=\"edge\">\n<title>OutOfPlaceAdder:e-&gt;c_G4:w</title>\n<path fill=\"none\" stroke=\"black\" d=\"M171,-51C192.17,-51 186.47,-20.53 205.55,-18.15\"/>\n<ellipse fill=\"black\" stroke=\"black\" cx=\"207\" cy=\"-18.06\" rx=\"1\" ry=\"1\"/>\n<text text-anchor=\"middle\" x=\"189.5\" y=\"-39\" font-family=\"Times,serif\" font-size=\"10.00\">5</text>\n</g>\n</g>\n</svg>",
          "text/plain": "<IPython.core.display.SVG object>"
         },
         "metadata": {},
         "output_type": "display_data"
        }
       ],
       "tabbable": null,
       "tooltip": null
      }
     },
     "9627442f271f497ca4a97d639085b79a": {
      "model_module": "@jupyter-widgets/controls",
      "model_module_version": "2.0.0",
      "model_name": "HBoxModel",
      "state": {
       "_dom_classes": [],
       "_model_module": "@jupyter-widgets/controls",
       "_model_module_version": "2.0.0",
       "_model_name": "HBoxModel",
       "_view_count": null,
       "_view_module": "@jupyter-widgets/controls",
       "_view_module_version": "2.0.0",
       "_view_name": "HBoxView",
       "box_style": "",
       "children": [
        "IPY_MODEL_31ee6e3037ff4909a2cb6502d61b2386",
        "IPY_MODEL_63040010c8034262af39728d7f90ce9e",
        "IPY_MODEL_4cccad6550874167819dcaee1412c57a"
       ],
       "layout": "IPY_MODEL_99dc598363cd44dea082b6735875135b",
       "tabbable": null,
       "tooltip": null
      }
     },
     "99dc598363cd44dea082b6735875135b": {
      "model_module": "@jupyter-widgets/base",
      "model_module_version": "2.0.0",
      "model_name": "LayoutModel",
      "state": {
       "_model_module": "@jupyter-widgets/base",
       "_model_module_version": "2.0.0",
       "_model_name": "LayoutModel",
       "_view_count": null,
       "_view_module": "@jupyter-widgets/base",
       "_view_module_version": "2.0.0",
       "_view_name": "LayoutView",
       "align_content": null,
       "align_items": null,
       "align_self": null,
       "border_bottom": null,
       "border_left": null,
       "border_right": null,
       "border_top": null,
       "bottom": null,
       "display": null,
       "flex": null,
       "flex_flow": null,
       "grid_area": null,
       "grid_auto_columns": null,
       "grid_auto_flow": null,
       "grid_auto_rows": null,
       "grid_column": null,
       "grid_gap": null,
       "grid_row": null,
       "grid_template_areas": null,
       "grid_template_columns": null,
       "grid_template_rows": null,
       "height": null,
       "justify_content": null,
       "justify_items": null,
       "left": null,
       "margin": null,
       "max_height": null,
       "max_width": null,
       "min_height": null,
       "min_width": null,
       "object_fit": null,
       "object_position": null,
       "order": null,
       "overflow": null,
       "padding": null,
       "right": null,
       "top": null,
       "visibility": null,
       "width": null
      }
     },
     "a4de415146a94cd49d65c49f9db09346": {
      "model_module": "@jupyter-widgets/base",
      "model_module_version": "2.0.0",
      "model_name": "LayoutModel",
      "state": {
       "_model_module": "@jupyter-widgets/base",
       "_model_module_version": "2.0.0",
       "_model_name": "LayoutModel",
       "_view_count": null,
       "_view_module": "@jupyter-widgets/base",
       "_view_module_version": "2.0.0",
       "_view_name": "LayoutView",
       "align_content": null,
       "align_items": null,
       "align_self": null,
       "border_bottom": null,
       "border_left": null,
       "border_right": null,
       "border_top": null,
       "bottom": null,
       "display": null,
       "flex": null,
       "flex_flow": null,
       "grid_area": null,
       "grid_auto_columns": null,
       "grid_auto_flow": null,
       "grid_auto_rows": null,
       "grid_column": null,
       "grid_gap": null,
       "grid_row": null,
       "grid_template_areas": null,
       "grid_template_columns": null,
       "grid_template_rows": null,
       "height": null,
       "justify_content": null,
       "justify_items": null,
       "left": null,
       "margin": null,
       "max_height": null,
       "max_width": null,
       "min_height": null,
       "min_width": null,
       "object_fit": null,
       "object_position": null,
       "order": null,
       "overflow": null,
       "padding": null,
       "right": null,
       "top": null,
       "visibility": null,
       "width": null
      }
     },
     "b226b7033b4c4dac913576d444a64fc5": {
      "model_module": "@jupyter-widgets/base",
      "model_module_version": "2.0.0",
      "model_name": "LayoutModel",
      "state": {
       "_model_module": "@jupyter-widgets/base",
       "_model_module_version": "2.0.0",
       "_model_name": "LayoutModel",
       "_view_count": null,
       "_view_module": "@jupyter-widgets/base",
       "_view_module_version": "2.0.0",
       "_view_name": "LayoutView",
       "align_content": null,
       "align_items": null,
       "align_self": null,
       "border_bottom": null,
       "border_left": null,
       "border_right": null,
       "border_top": null,
       "bottom": null,
       "display": null,
       "flex": null,
       "flex_flow": null,
       "grid_area": null,
       "grid_auto_columns": null,
       "grid_auto_flow": null,
       "grid_auto_rows": null,
       "grid_column": null,
       "grid_gap": null,
       "grid_row": null,
       "grid_template_areas": null,
       "grid_template_columns": null,
       "grid_template_rows": null,
       "height": null,
       "justify_content": null,
       "justify_items": null,
       "left": null,
       "margin": null,
       "max_height": null,
       "max_width": null,
       "min_height": null,
       "min_width": null,
       "object_fit": null,
       "object_position": null,
       "order": null,
       "overflow": null,
       "padding": null,
       "right": null,
       "top": null,
       "visibility": null,
       "width": null
      }
     },
     "c3ec5a808c0f456eb5949a647cd5ad4e": {
      "model_module": "@jupyter-widgets/output",
      "model_module_version": "1.0.0",
      "model_name": "OutputModel",
      "state": {
       "_dom_classes": [],
       "_model_module": "@jupyter-widgets/output",
       "_model_module_version": "1.0.0",
       "_model_name": "OutputModel",
       "_view_count": null,
       "_view_module": "@jupyter-widgets/output",
       "_view_module_version": "1.0.0",
       "_view_name": "OutputView",
       "layout": "IPY_MODEL_4fcbf8c3d0474573ac5ad87055fcca6f",
       "msg_id": "",
       "outputs": [
        {
         "data": {
          "text/markdown": "`add_oop_symb`",
          "text/plain": "<IPython.core.display.Markdown object>"
         },
         "metadata": {},
         "output_type": "display_data"
        },
        {
         "data": {
          "image/svg+xml": "<svg xmlns=\"http://www.w3.org/2000/svg\" xmlns:xlink=\"http://www.w3.org/1999/xlink\" width=\"270pt\" height=\"152pt\" viewBox=\"0.00 0.00 270.00 152.00\">\n<g id=\"graph0\" class=\"graph\" transform=\"scale(1 1) rotate(0) translate(4 148)\">\n<title>my_graph</title>\n<polygon fill=\"white\" stroke=\"transparent\" points=\"-4,4 -4,-148 266,-148 266,4 -4,4\"/>\n<!-- a_G0 -->\n<g id=\"node1\" class=\"node\">\n<title>a_G0</title>\n<text text-anchor=\"middle\" x=\"27\" y=\"-106.3\" font-family=\"Times,serif\" font-size=\"14.00\">a</text>\n</g>\n<!-- OutOfPlaceAdder -->\n<g id=\"node3\" class=\"node\">\n<title>OutOfPlaceAdder</title>\n<polygon fill=\"none\" stroke=\"black\" points=\"91,-104 91,-121 171,-121 171,-104 91,-104\"/>\n<text text-anchor=\"start\" x=\"94\" y=\"-110\" font-family=\"Times,serif\" font-size=\"10.00\">OutOfPlaceAdder</text>\n<polygon fill=\"none\" stroke=\"black\" points=\"91,-83 91,-104 171,-104 171,-83 91,-83\"/>\n<text text-anchor=\"start\" x=\"127.5\" y=\"-89.8\" font-family=\"Times,serif\" font-size=\"14.00\">a</text>\n<polygon fill=\"none\" stroke=\"black\" points=\"91,-62 91,-83 171,-83 171,-62 91,-62\"/>\n<text text-anchor=\"start\" x=\"127.5\" y=\"-68.8\" font-family=\"Times,serif\" font-size=\"14.00\">b</text>\n<polygon fill=\"none\" stroke=\"black\" points=\"91,-41 91,-62 127,-62 127,-41 91,-41\"/>\n<polygon fill=\"none\" stroke=\"black\" points=\"127,-41 127,-62 171,-62 171,-41 127,-41\"/>\n<text text-anchor=\"start\" x=\"145.5\" y=\"-47.8\" font-family=\"Times,serif\" font-size=\"14.00\">c</text>\n</g>\n<!-- a_G0&#45;&gt;OutOfPlaceAdder -->\n<g id=\"edge1\" class=\"edge\">\n<title>a_G0:e-&gt;OutOfPlaceAdder:w</title>\n<path fill=\"none\" stroke=\"black\" d=\"M54,-110C71.22,-110 72.97,-95.23 88.98,-94.07\"/>\n<ellipse fill=\"black\" stroke=\"black\" cx=\"90\" cy=\"-94.04\" rx=\"1\" ry=\"1\"/>\n<text text-anchor=\"middle\" x=\"72.5\" y=\"-105\" font-family=\"Times,serif\" font-size=\"10.00\">n</text>\n</g>\n<!-- b_G5 -->\n<g id=\"node2\" class=\"node\">\n<title>b_G5</title>\n<text text-anchor=\"middle\" x=\"27\" y=\"-52.3\" font-family=\"Times,serif\" font-size=\"14.00\">b</text>\n</g>\n<!-- b_G5&#45;&gt;OutOfPlaceAdder -->\n<g id=\"edge2\" class=\"edge\">\n<title>b_G5:e-&gt;OutOfPlaceAdder:w</title>\n<path fill=\"none\" stroke=\"black\" d=\"M54,-56C71.22,-56 72.97,-70.77 88.98,-71.93\"/>\n<ellipse fill=\"black\" stroke=\"black\" cx=\"90\" cy=\"-71.96\" rx=\"1\" ry=\"1\"/>\n<text text-anchor=\"middle\" x=\"72.5\" y=\"-68\" font-family=\"Times,serif\" font-size=\"10.00\">n</text>\n</g>\n<!-- a_G3 -->\n<g id=\"node4\" class=\"node\">\n<title>a_G3</title>\n<text text-anchor=\"middle\" x=\"235\" y=\"-122.3\" font-family=\"Times,serif\" font-size=\"14.00\">a</text>\n</g>\n<!-- OutOfPlaceAdder&#45;&gt;a_G3 -->\n<g id=\"edge3\" class=\"edge\">\n<title>OutOfPlaceAdder:e-&gt;a_G3:w</title>\n<path fill=\"none\" stroke=\"black\" d=\"M171,-94C191.89,-94 186.72,-123.55 205.58,-125.86\"/>\n<ellipse fill=\"black\" stroke=\"black\" cx=\"207\" cy=\"-125.94\" rx=\"1\" ry=\"1\"/>\n<text text-anchor=\"middle\" x=\"189.5\" y=\"-113\" font-family=\"Times,serif\" font-size=\"10.00\">n</text>\n</g>\n<!-- b_G7 -->\n<g id=\"node5\" class=\"node\">\n<title>b_G7</title>\n<text text-anchor=\"middle\" x=\"235\" y=\"-68.3\" font-family=\"Times,serif\" font-size=\"14.00\">b</text>\n</g>\n<!-- OutOfPlaceAdder&#45;&gt;b_G7 -->\n<g id=\"edge4\" class=\"edge\">\n<title>OutOfPlaceAdder:e-&gt;b_G7:w</title>\n<path fill=\"none\" stroke=\"black\" d=\"M171,-72C186.67,-72 191.14,-72 205.77,-72\"/>\n<ellipse fill=\"black\" stroke=\"black\" cx=\"207\" cy=\"-72\" rx=\"1\" ry=\"1\"/>\n<text text-anchor=\"middle\" x=\"189.5\" y=\"-75\" font-family=\"Times,serif\" font-size=\"10.00\">n</text>\n</g>\n<!-- c_G6 -->\n<g id=\"node6\" class=\"node\">\n<title>c_G6</title>\n<text text-anchor=\"middle\" x=\"235\" y=\"-14.3\" font-family=\"Times,serif\" font-size=\"14.00\">c</text>\n</g>\n<!-- OutOfPlaceAdder&#45;&gt;c_G6 -->\n<g id=\"edge5\" class=\"edge\">\n<title>OutOfPlaceAdder:e-&gt;c_G6:w</title>\n<path fill=\"none\" stroke=\"black\" d=\"M171,-51C192.17,-51 186.47,-20.53 205.55,-18.15\"/>\n<ellipse fill=\"black\" stroke=\"black\" cx=\"207\" cy=\"-18.06\" rx=\"1\" ry=\"1\"/>\n<text text-anchor=\"middle\" x=\"189.5\" y=\"-39\" font-family=\"Times,serif\" font-size=\"10.00\">n + 1</text>\n</g>\n</g>\n</svg>",
          "text/plain": "<IPython.core.display.SVG object>"
         },
         "metadata": {},
         "output_type": "display_data"
        }
       ],
       "tabbable": null,
       "tooltip": null
      }
     },
     "cd5974ddb4114ea282e1cc6112c55c71": {
      "model_module": "@jupyter-widgets/output",
      "model_module_version": "1.0.0",
      "model_name": "OutputModel",
      "state": {
       "_dom_classes": [],
       "_model_module": "@jupyter-widgets/output",
       "_model_module_version": "1.0.0",
       "_model_name": "OutputModel",
       "_view_count": null,
       "_view_module": "@jupyter-widgets/output",
       "_view_module_version": "1.0.0",
       "_view_name": "OutputView",
       "layout": "IPY_MODEL_1cd7c80c6a7441b0a1c586451b734d8c",
       "msg_id": "",
       "outputs": [
        {
         "data": {
          "text/markdown": "`add_small`",
          "text/plain": "<IPython.core.display.Markdown object>"
         },
         "metadata": {},
         "output_type": "display_data"
        },
        {
         "data": {
          "image/svg+xml": "<svg xmlns=\"http://www.w3.org/2000/svg\" xmlns:xlink=\"http://www.w3.org/1999/xlink\" width=\"215pt\" height=\"98pt\" viewBox=\"0.00 0.00 215.00 98.00\">\n<g id=\"graph0\" class=\"graph\" transform=\"scale(1 1) rotate(0) translate(4 94)\">\n<title>my_graph</title>\n<polygon fill=\"white\" stroke=\"transparent\" points=\"-4,4 -4,-94 211,-94 211,4 -4,4\"/>\n<!-- a_G0 -->\n<g id=\"node1\" class=\"node\">\n<title>a_G0</title>\n<text text-anchor=\"middle\" x=\"27\" y=\"-68.3\" font-family=\"Times,serif\" font-size=\"14.00\">a</text>\n</g>\n<!-- Add -->\n<g id=\"node3\" class=\"node\">\n<title>Add</title>\n<polygon fill=\"none\" stroke=\"black\" points=\"91.5,-66 91.5,-83 116.5,-83 116.5,-66 91.5,-66\"/>\n<text text-anchor=\"start\" x=\"94.5\" y=\"-72\" font-family=\"Times,serif\" font-size=\"10.00\">Add</text>\n<polygon fill=\"none\" stroke=\"black\" points=\"91.5,-45 91.5,-66 116.5,-66 116.5,-45 91.5,-45\"/>\n<text text-anchor=\"start\" x=\"100.5\" y=\"-51.8\" font-family=\"Times,serif\" font-size=\"14.00\">a</text>\n<polygon fill=\"none\" stroke=\"black\" points=\"91.5,-24 91.5,-45 116.5,-45 116.5,-24 91.5,-24\"/>\n<text text-anchor=\"start\" x=\"100.5\" y=\"-30.8\" font-family=\"Times,serif\" font-size=\"14.00\">b</text>\n</g>\n<!-- a_G0&#45;&gt;Add -->\n<g id=\"edge1\" class=\"edge\">\n<title>a_G0:e-&gt;Add:w</title>\n<path fill=\"none\" stroke=\"black\" d=\"M54,-72C71.22,-72 72.97,-57.23 88.98,-56.07\"/>\n<ellipse fill=\"black\" stroke=\"black\" cx=\"90\" cy=\"-56.04\" rx=\"1\" ry=\"1\"/>\n<text text-anchor=\"middle\" x=\"72.5\" y=\"-67\" font-family=\"Times,serif\" font-size=\"10.00\">4</text>\n</g>\n<!-- b_G1 -->\n<g id=\"node2\" class=\"node\">\n<title>b_G1</title>\n<text text-anchor=\"middle\" x=\"27\" y=\"-14.3\" font-family=\"Times,serif\" font-size=\"14.00\">b</text>\n</g>\n<!-- b_G1&#45;&gt;Add -->\n<g id=\"edge2\" class=\"edge\">\n<title>b_G1:e-&gt;Add:w</title>\n<path fill=\"none\" stroke=\"black\" d=\"M54,-18C71.22,-18 72.97,-32.77 88.98,-33.93\"/>\n<ellipse fill=\"black\" stroke=\"black\" cx=\"90\" cy=\"-33.96\" rx=\"1\" ry=\"1\"/>\n<text text-anchor=\"middle\" x=\"72.5\" y=\"-29\" font-family=\"Times,serif\" font-size=\"10.00\">4</text>\n</g>\n<!-- a_G2 -->\n<g id=\"node4\" class=\"node\">\n<title>a_G2</title>\n<text text-anchor=\"middle\" x=\"180\" y=\"-68.3\" font-family=\"Times,serif\" font-size=\"14.00\">a</text>\n</g>\n<!-- Add&#45;&gt;a_G2 -->\n<g id=\"edge3\" class=\"edge\">\n<title>Add:e-&gt;a_G2:w</title>\n<path fill=\"none\" stroke=\"black\" d=\"M116,-56C133.22,-56 134.97,-70.77 150.98,-71.93\"/>\n<ellipse fill=\"black\" stroke=\"black\" cx=\"152\" cy=\"-71.96\" rx=\"1\" ry=\"1\"/>\n<text text-anchor=\"middle\" x=\"134.5\" y=\"-67\" font-family=\"Times,serif\" font-size=\"10.00\">4</text>\n</g>\n<!-- b_G3 -->\n<g id=\"node5\" class=\"node\">\n<title>b_G3</title>\n<text text-anchor=\"middle\" x=\"180\" y=\"-14.3\" font-family=\"Times,serif\" font-size=\"14.00\">b</text>\n</g>\n<!-- Add&#45;&gt;b_G3 -->\n<g id=\"edge4\" class=\"edge\">\n<title>Add:e-&gt;b_G3:w</title>\n<path fill=\"none\" stroke=\"black\" d=\"M116,-34C133.22,-34 134.97,-19.23 150.98,-18.07\"/>\n<ellipse fill=\"black\" stroke=\"black\" cx=\"152\" cy=\"-18.04\" rx=\"1\" ry=\"1\"/>\n<text text-anchor=\"middle\" x=\"134.5\" y=\"-29\" font-family=\"Times,serif\" font-size=\"10.00\">4</text>\n</g>\n</g>\n</svg>",
          "text/plain": "<IPython.core.display.SVG object>"
         },
         "metadata": {},
         "output_type": "display_data"
        }
       ],
       "tabbable": null,
       "tooltip": null
      }
     },
     "cfe5d1b6b48d4ed1bd40234ad7109b56": {
      "model_module": "@jupyter-widgets/controls",
      "model_module_version": "2.0.0",
      "model_name": "HBoxModel",
      "state": {
       "_dom_classes": [],
       "_model_module": "@jupyter-widgets/controls",
       "_model_module_version": "2.0.0",
       "_model_name": "HBoxModel",
       "_view_count": null,
       "_view_module": "@jupyter-widgets/controls",
       "_view_module_version": "2.0.0",
       "_view_name": "HBoxView",
       "box_style": "",
       "children": [
        "IPY_MODEL_c3ec5a808c0f456eb5949a647cd5ad4e",
        "IPY_MODEL_86586da1ef4e49189b0fc44b7639aadc",
        "IPY_MODEL_27e6367b94bf41e5b064706853a652ca"
       ],
       "layout": "IPY_MODEL_8639ae30b940425ba54a1ade096acdba",
       "tabbable": null,
       "tooltip": null
      }
     },
     "d1124506664f4952ae6a1b6adb517b15": {
      "model_module": "@jupyter-widgets/base",
      "model_module_version": "2.0.0",
      "model_name": "LayoutModel",
      "state": {
       "_model_module": "@jupyter-widgets/base",
       "_model_module_version": "2.0.0",
       "_model_name": "LayoutModel",
       "_view_count": null,
       "_view_module": "@jupyter-widgets/base",
       "_view_module_version": "2.0.0",
       "_view_name": "LayoutView",
       "align_content": null,
       "align_items": null,
       "align_self": null,
       "border_bottom": null,
       "border_left": null,
       "border_right": null,
       "border_top": null,
       "bottom": null,
       "display": null,
       "flex": null,
       "flex_flow": null,
       "grid_area": null,
       "grid_auto_columns": null,
       "grid_auto_flow": null,
       "grid_auto_rows": null,
       "grid_column": null,
       "grid_gap": null,
       "grid_row": null,
       "grid_template_areas": null,
       "grid_template_columns": null,
       "grid_template_rows": null,
       "height": null,
       "justify_content": null,
       "justify_items": null,
       "left": null,
       "margin": null,
       "max_height": null,
       "max_width": null,
       "min_height": null,
       "min_width": null,
       "object_fit": null,
       "object_position": null,
       "order": null,
       "overflow": null,
       "padding": null,
       "right": null,
       "top": null,
       "visibility": null,
       "width": null
      }
     },
     "e0d2127b32aa4528a525a69c0390e2b8": {
      "model_module": "@jupyter-widgets/base",
      "model_module_version": "2.0.0",
      "model_name": "LayoutModel",
      "state": {
       "_model_module": "@jupyter-widgets/base",
       "_model_module_version": "2.0.0",
       "_model_name": "LayoutModel",
       "_view_count": null,
       "_view_module": "@jupyter-widgets/base",
       "_view_module_version": "2.0.0",
       "_view_name": "LayoutView",
       "align_content": null,
       "align_items": null,
       "align_self": null,
       "border_bottom": null,
       "border_left": null,
       "border_right": null,
       "border_top": null,
       "bottom": null,
       "display": null,
       "flex": null,
       "flex_flow": null,
       "grid_area": null,
       "grid_auto_columns": null,
       "grid_auto_flow": null,
       "grid_auto_rows": null,
       "grid_column": null,
       "grid_gap": null,
       "grid_row": null,
       "grid_template_areas": null,
       "grid_template_columns": null,
       "grid_template_rows": null,
       "height": null,
       "justify_content": null,
       "justify_items": null,
       "left": null,
       "margin": null,
       "max_height": null,
       "max_width": null,
       "min_height": null,
       "min_width": null,
       "object_fit": null,
       "object_position": null,
       "order": null,
       "overflow": null,
       "padding": null,
       "right": null,
       "top": null,
       "visibility": null,
       "width": null
      }
     },
     "ea2934c39356416d850a555714b5a953": {
      "model_module": "@jupyter-widgets/base",
      "model_module_version": "2.0.0",
      "model_name": "LayoutModel",
      "state": {
       "_model_module": "@jupyter-widgets/base",
       "_model_module_version": "2.0.0",
       "_model_name": "LayoutModel",
       "_view_count": null,
       "_view_module": "@jupyter-widgets/base",
       "_view_module_version": "2.0.0",
       "_view_name": "LayoutView",
       "align_content": null,
       "align_items": null,
       "align_self": null,
       "border_bottom": null,
       "border_left": null,
       "border_right": null,
       "border_top": null,
       "bottom": null,
       "display": null,
       "flex": null,
       "flex_flow": null,
       "grid_area": null,
       "grid_auto_columns": null,
       "grid_auto_flow": null,
       "grid_auto_rows": null,
       "grid_column": null,
       "grid_gap": null,
       "grid_row": null,
       "grid_template_areas": null,
       "grid_template_columns": null,
       "grid_template_rows": null,
       "height": null,
       "justify_content": null,
       "justify_items": null,
       "left": null,
       "margin": null,
       "max_height": null,
       "max_width": null,
       "min_height": null,
       "min_width": null,
       "object_fit": null,
       "object_position": null,
       "order": null,
       "overflow": null,
       "padding": null,
       "right": null,
       "top": null,
       "visibility": null,
       "width": null
      }
     }
    },
    "version_major": 2,
    "version_minor": 0
   }
  }
 },
 "nbformat": 4,
 "nbformat_minor": 5
}
