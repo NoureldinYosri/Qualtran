{
 "cells": [
  {
   "cell_type": "markdown",
   "id": "a48878df",
   "metadata": {
    "cq.autogen": "title_cell"
   },
   "source": [
    "# Permutations"
   ]
  },
  {
   "cell_type": "code",
   "execution_count": 1,
   "id": "d083d346",
   "metadata": {
    "cq.autogen": "top_imports"
   },
   "outputs": [],
   "source": [
    "from qualtran import Bloq, CompositeBloq, BloqBuilder, Signature, Register\n",
    "from qualtran import QBit, QInt, QUInt, QAny\n",
    "from qualtran.drawing import show_bloq, show_call_graph, show_counts_sigma\n",
    "from typing import *\n",
    "import numpy as np\n",
    "import sympy\n",
    "import cirq"
   ]
  },
  {
   "cell_type": "markdown",
   "id": "56539662",
   "metadata": {
    "cq.autogen": "Permutation.bloq_doc.md"
   },
   "source": [
    "## `Permutation`\n",
    "Apply a permutation of [0, N - 1] on the basis states.\n",
    "\n",
    "Given a permutation $P : [0, N - 1] \\to [0, N - 1]$, this bloq applies the unitary:\n",
    "\n",
    "$$\n",
    "    U|x\\rangle = |P(x)\\rangle\n",
    "$$\n",
    "\n",
    "Decomposes a permutation into cycles and applies them in order.\n",
    "See :meth:`from_dense_permutation` to construct this bloq from a permutation,\n",
    "and :meth:`from_partial_permutation_map` to construct it from a mapping.\n",
    "\n",
    "#### Parameters\n",
    " - `N`: the total size the permutation acts on.\n",
    " - `cycles`: a sequence of permutation cycles that form the permutation. \n",
    "\n",
    "#### Registers\n",
    " - `x`: integer register storing a value in [0, ..., N - 1] \n",
    "\n",
    "#### References\n",
    " - [A simple quantum algorithm to efficiently prepare sparse states](https://arxiv.org/abs/2310.19309v1). Appendix B.\n"
   ]
  },
  {
   "cell_type": "code",
   "execution_count": 2,
   "id": "df73124f",
   "metadata": {
    "cq.autogen": "Permutation.bloq_doc.py"
   },
   "outputs": [],
   "source": [
    "from qualtran.bloqs.arithmetic.permutation import Permutation"
   ]
  },
  {
   "cell_type": "markdown",
   "id": "31147b0d",
   "metadata": {
    "cq.autogen": "Permutation.example_instances.md"
   },
   "source": [
    "### Example Instances"
   ]
  },
  {
   "cell_type": "code",
   "execution_count": 3,
   "id": "ec6460b6",
   "metadata": {
    "cq.autogen": "Permutation.permutation"
   },
   "outputs": [],
   "source": [
    "permutation = Permutation.from_dense_permutation([1, 3, 0, 2])"
   ]
  },
  {
   "cell_type": "code",
   "execution_count": 4,
   "id": "0c8e04f0",
   "metadata": {
    "cq.autogen": "Permutation.permutation_symb"
   },
   "outputs": [],
   "source": [
    "import sympy\n",
    "\n",
    "from qualtran.symbolics import Shaped\n",
    "\n",
    "N, k = sympy.symbols(\"N k\", positive=True, integer=True)\n",
    "permutation_symb = Permutation(N, Shaped((k,)))"
   ]
  },
  {
   "cell_type": "code",
   "execution_count": 5,
   "id": "8578d036",
   "metadata": {
    "cq.autogen": "Permutation.permutation_symb_with_cycles"
   },
   "outputs": [],
   "source": [
    "import sympy\n",
    "\n",
    "from qualtran.symbolics import Shaped\n",
    "\n",
    "N = sympy.symbols(\"N\", positive=True, integer=True)\n",
    "n_cycles = 4\n",
    "d = sympy.IndexedBase('d', shape=(n_cycles,))\n",
    "permutation_symb_with_cycles = Permutation(N, tuple(Shaped((d[i],)) for i in range(n_cycles)))"
   ]
  },
  {
   "cell_type": "code",
   "execution_count": 6,
   "id": "84b5606a",
   "metadata": {
    "cq.autogen": "Permutation.sparse_permutation"
   },
   "outputs": [],
   "source": [
    "sparse_permutation = Permutation.from_partial_permutation_map(\n",
    "    16, {0: 1, 1: 3, 2: 8, 3: 15, 4: 12}\n",
    ")"
   ]
  },
  {
   "cell_type": "markdown",
   "id": "369df9cb",
   "metadata": {
    "cq.autogen": "Permutation.graphical_signature.md"
   },
   "source": [
    "#### Graphical Signature"
   ]
  },
  {
   "cell_type": "code",
   "execution_count": 7,
   "id": "25b2dc2b",
   "metadata": {
    "cq.autogen": "Permutation.graphical_signature.py"
   },
   "outputs": [
    {
     "data": {
      "application/vnd.jupyter.widget-view+json": {
       "model_id": "76787b0ad621468c92205957bb285e2e",
       "version_major": 2,
       "version_minor": 0
      },
      "text/plain": [
       "HBox(children=(Output(outputs=({'output_type': 'display_data', 'data': {'text/plain': '<IPython.core.display.M…"
      ]
     },
     "metadata": {},
     "output_type": "display_data"
    }
   ],
   "source": [
    "from qualtran.drawing import show_bloqs\n",
    "show_bloqs([permutation, permutation_symb, permutation_symb_with_cycles, sparse_permutation],\n",
    "           ['`permutation`', '`permutation_symb`', '`permutation_symb_with_cycles`', '`sparse_permutation`'])"
   ]
  },
  {
   "cell_type": "markdown",
   "id": "ad4321ad",
   "metadata": {
    "cq.autogen": "Permutation.call_graph.md"
   },
   "source": [
    "### Call Graph"
   ]
  },
  {
   "cell_type": "code",
   "execution_count": 8,
   "id": "3bfbf3f7",
   "metadata": {
    "cq.autogen": "Permutation.call_graph.py"
   },
   "outputs": [
    {
     "data": {
      "image/svg+xml": [
       "<svg xmlns=\"http://www.w3.org/2000/svg\" xmlns:xlink=\"http://www.w3.org/1999/xlink\" width=\"169pt\" height=\"131pt\" viewBox=\"0.00 0.00 169.00 131.00\">\n",
       "<g id=\"graph0\" class=\"graph\" transform=\"scale(1 1) rotate(0) translate(4 127)\">\n",
       "<title>counts</title>\n",
       "<polygon fill=\"white\" stroke=\"transparent\" points=\"-4,4 -4,-127 165,-127 165,4 -4,4\"/>\n",
       "<!-- b0 -->\n",
       "<g id=\"node1\" class=\"node\">\n",
       "<title>b0</title>\n",
       "<polygon fill=\"none\" stroke=\"black\" points=\"161,-123 0,-123 0,-87 161,-87 161,-123\"/>\n",
       "<text text-anchor=\"start\" x=\"47\" y=\"-106.8\" font-family=\"Times,serif\" font-size=\"14.00\">Permutation</text>\n",
       "<text text-anchor=\"start\" x=\"8\" y=\"-96\" font-family=\"monospace\" font-size=\"10.00\">N=4, cycles=((0, 1,  ...</text>\n",
       "</g>\n",
       "<!-- b1 -->\n",
       "<g id=\"node2\" class=\"node\">\n",
       "<title>b1</title>\n",
       "<polygon fill=\"none\" stroke=\"black\" points=\"158,-36 3,-36 3,0 158,0 158,-36\"/>\n",
       "<text text-anchor=\"start\" x=\"31\" y=\"-19.8\" font-family=\"Times,serif\" font-size=\"14.00\">PermutationCycle</text>\n",
       "<text text-anchor=\"start\" x=\"11\" y=\"-9\" font-family=\"monospace\" font-size=\"10.00\">N=4, cycle=(0, 1, 3, 2)</text>\n",
       "</g>\n",
       "<!-- b0&#45;&gt;b1 -->\n",
       "<g id=\"edge1\" class=\"edge\">\n",
       "<title>b0-&gt;b1</title>\n",
       "<path fill=\"none\" stroke=\"black\" d=\"M80.5,-86.8C80.5,-75.16 80.5,-59.55 80.5,-46.24\"/>\n",
       "<polygon fill=\"black\" stroke=\"black\" points=\"84,-46.18 80.5,-36.18 77,-46.18 84,-46.18\"/>\n",
       "<text text-anchor=\"middle\" x=\"84\" y=\"-57.8\" font-family=\"Times,serif\" font-size=\"14.00\">1</text>\n",
       "</g>\n",
       "</g>\n",
       "</svg>"
      ],
      "text/plain": [
       "<IPython.core.display.SVG object>"
      ]
     },
     "metadata": {},
     "output_type": "display_data"
    },
    {
     "data": {
      "text/markdown": [
       "#### Counts totals:\n",
       " - `PermutationCycle`: 1"
      ],
      "text/plain": [
       "<IPython.core.display.Markdown object>"
      ]
     },
     "metadata": {},
     "output_type": "display_data"
    }
   ],
   "source": [
    "from qualtran.resource_counting.generalizers import ignore_split_join\n",
    "permutation_g, permutation_sigma = permutation.call_graph(max_depth=1, generalizer=ignore_split_join)\n",
    "show_call_graph(permutation_g)\n",
    "show_counts_sigma(permutation_sigma)"
   ]
  },
  {
   "cell_type": "markdown",
   "id": "b3e895db",
   "metadata": {
    "cq.autogen": "PermutationCycle.bloq_doc.md"
   },
   "source": [
    "## `PermutationCycle`\n",
    "Apply a single permutation cycle on the basis states.\n",
    "\n",
    "Given a permutation cycle $C = (v_0 v_2 \\ldots v_{k - 1})$, applies the following unitary:\n",
    "\n",
    "    $$\n",
    "        U|v_i\\rangle \\mapsto |v_{(i + 1)\\mod k}\\rangle\n",
    "    $$\n",
    "\n",
    "for each $i \\in [0, k)$, and\n",
    "\n",
    "    $$\n",
    "        U|x\\rangle \\mapsto |x\\rangle\n",
    "    $$\n",
    "\n",
    "and for every $x \\not\\in C$.\n",
    "\n",
    "#### Parameters\n",
    " - `N`: the total size the permutation acts on.\n",
    " - `cycle`: the permutation cycle to apply. \n",
    "\n",
    "#### Registers\n",
    " - `x`: integer register storing a value in [0, ..., N - 1] \n",
    "\n",
    "#### References\n",
    " - [A simple quantum algorithm to efficiently prepare sparse states](https://arxiv.org/abs/2310.19309v1). Appendix B, Algorithm 7.\n"
   ]
  },
  {
   "cell_type": "code",
   "execution_count": 9,
   "id": "d569cd2c",
   "metadata": {
    "cq.autogen": "PermutationCycle.bloq_doc.py"
   },
   "outputs": [],
   "source": [
    "from qualtran.bloqs.arithmetic.permutation import PermutationCycle"
   ]
  },
  {
   "cell_type": "markdown",
   "id": "a93c6e89",
   "metadata": {
    "cq.autogen": "PermutationCycle.example_instances.md"
   },
   "source": [
    "### Example Instances"
   ]
  },
  {
   "cell_type": "code",
   "execution_count": 10,
   "id": "264ba946",
   "metadata": {
    "cq.autogen": "PermutationCycle.permutation_cycle"
   },
   "outputs": [],
   "source": [
    "permutation_cycle = PermutationCycle(4, (0, 1, 2))"
   ]
  },
  {
   "cell_type": "code",
   "execution_count": 11,
   "id": "78572528",
   "metadata": {
    "cq.autogen": "PermutationCycle.permutation_cycle_symb"
   },
   "outputs": [],
   "source": [
    "import sympy\n",
    "\n",
    "from qualtran.symbolics import Shaped\n",
    "\n",
    "N, L = sympy.symbols(\"N L\", positive=True, integer=True)\n",
    "cycle = Shaped((L,))\n",
    "permutation_cycle_symb = PermutationCycle(N, cycle)"
   ]
  },
  {
   "cell_type": "markdown",
   "id": "87615783",
   "metadata": {
    "cq.autogen": "PermutationCycle.graphical_signature.md"
   },
   "source": [
    "#### Graphical Signature"
   ]
  },
  {
   "cell_type": "code",
   "execution_count": 12,
   "id": "f6961010",
   "metadata": {
    "cq.autogen": "PermutationCycle.graphical_signature.py"
   },
   "outputs": [
    {
     "data": {
      "application/vnd.jupyter.widget-view+json": {
       "model_id": "f8db4e56267146a59185b60a9f1b3936",
       "version_major": 2,
       "version_minor": 0
      },
      "text/plain": [
       "HBox(children=(Output(outputs=({'output_type': 'display_data', 'data': {'text/plain': '<IPython.core.display.M…"
      ]
     },
     "metadata": {},
     "output_type": "display_data"
    }
   ],
   "source": [
    "from qualtran.drawing import show_bloqs\n",
    "show_bloqs([permutation_cycle, permutation_cycle_symb],\n",
    "           ['`permutation_cycle`', '`permutation_cycle_symb`'])"
   ]
  },
  {
   "cell_type": "markdown",
   "id": "16e1c105",
   "metadata": {
    "cq.autogen": "PermutationCycle.call_graph.md"
   },
   "source": [
    "### Call Graph"
   ]
  },
  {
   "cell_type": "code",
   "execution_count": 13,
   "id": "27628f10",
   "metadata": {
    "cq.autogen": "PermutationCycle.call_graph.py"
   },
   "outputs": [
    {
     "data": {
      "image/svg+xml": [
       "<svg xmlns=\"http://www.w3.org/2000/svg\" xmlns:xlink=\"http://www.w3.org/1999/xlink\" width=\"1650pt\" height=\"131pt\" viewBox=\"0.00 0.00 1650.00 131.00\">\n",
       "<g id=\"graph0\" class=\"graph\" transform=\"scale(1 1) rotate(0) translate(4 127)\">\n",
       "<title>counts</title>\n",
       "<polygon fill=\"white\" stroke=\"transparent\" points=\"-4,4 -4,-127 1646,-127 1646,4 -4,4\"/>\n",
       "<!-- b0 -->\n",
       "<g id=\"node1\" class=\"node\">\n",
       "<title>b0</title>\n",
       "<polygon fill=\"none\" stroke=\"black\" points=\"973,-123 836,-123 836,-87 973,-87 973,-123\"/>\n",
       "<text text-anchor=\"start\" x=\"855\" y=\"-106.8\" font-family=\"Times,serif\" font-size=\"14.00\">PermutationCycle</text>\n",
       "<text text-anchor=\"start\" x=\"844\" y=\"-96\" font-family=\"monospace\" font-size=\"10.00\">N=4, cycle=(0, 1, 2)</text>\n",
       "</g>\n",
       "<!-- b1 -->\n",
       "<g id=\"node2\" class=\"node\">\n",
       "<title>b1</title>\n",
       "<polygon fill=\"none\" stroke=\"black\" points=\"281,-36 0,-36 0,0 281,0 281,-36\"/>\n",
       "<text text-anchor=\"start\" x=\"116\" y=\"-19.8\" font-family=\"Times,serif\" font-size=\"14.00\">C[XorK]</text>\n",
       "<text text-anchor=\"start\" x=\"8\" y=\"-9\" font-family=\"monospace\" font-size=\"10.00\">subbloq=XorK(dty ..., ctrl_spec=CtrlSpec ...</text>\n",
       "</g>\n",
       "<!-- b0&#45;&gt;b1 -->\n",
       "<g id=\"edge1\" class=\"edge\">\n",
       "<title>b0-&gt;b1</title>\n",
       "<path fill=\"none\" stroke=\"black\" d=\"M835.78,-96.48C723.94,-84.23 495.31,-59.1 291.28,-36.2\"/>\n",
       "<polygon fill=\"black\" stroke=\"black\" points=\"291.6,-32.71 281.27,-35.07 290.82,-39.67 291.6,-32.71\"/>\n",
       "<text text-anchor=\"middle\" x=\"580\" y=\"-57.8\" font-family=\"Times,serif\" font-size=\"14.00\">1</text>\n",
       "</g>\n",
       "<!-- b2 -->\n",
       "<g id=\"node3\" class=\"node\">\n",
       "<title>b2</title>\n",
       "<polygon fill=\"none\" stroke=\"black\" points=\"580,-36 299,-36 299,0 580,0 580,-36\"/>\n",
       "<text text-anchor=\"start\" x=\"415\" y=\"-19.8\" font-family=\"Times,serif\" font-size=\"14.00\">C[XorK]</text>\n",
       "<text text-anchor=\"start\" x=\"307\" y=\"-9\" font-family=\"monospace\" font-size=\"10.00\">subbloq=XorK(dty ..., ctrl_spec=CtrlSpec ...</text>\n",
       "</g>\n",
       "<!-- b0&#45;&gt;b2 -->\n",
       "<g id=\"edge2\" class=\"edge\">\n",
       "<title>b0-&gt;b2</title>\n",
       "<path fill=\"none\" stroke=\"black\" d=\"M835.89,-91.46C758.58,-77.33 632.07,-54.2 542.8,-37.88\"/>\n",
       "<polygon fill=\"black\" stroke=\"black\" points=\"543.39,-34.43 532.92,-36.08 542.13,-41.32 543.39,-34.43\"/>\n",
       "<text text-anchor=\"middle\" x=\"704\" y=\"-57.8\" font-family=\"Times,serif\" font-size=\"14.00\">1</text>\n",
       "</g>\n",
       "<!-- b3 -->\n",
       "<g id=\"node4\" class=\"node\">\n",
       "<title>b3</title>\n",
       "<polygon fill=\"none\" stroke=\"black\" points=\"765,-36 598,-36 598,0 765,0 765,-36\"/>\n",
       "<text text-anchor=\"start\" x=\"658.5\" y=\"-19.8\" font-family=\"Times,serif\" font-size=\"14.00\">Allocate</text>\n",
       "<text text-anchor=\"start\" x=\"606\" y=\"-9\" font-family=\"monospace\" font-size=\"10.00\">dtype=QBit(), dirty=False</text>\n",
       "</g>\n",
       "<!-- b0&#45;&gt;b3 -->\n",
       "<g id=\"edge3\" class=\"edge\">\n",
       "<title>b0-&gt;b3</title>\n",
       "<path fill=\"none\" stroke=\"black\" d=\"M859.64,-86.9C823.88,-73.27 773.67,-54.13 735.67,-39.65\"/>\n",
       "<polygon fill=\"black\" stroke=\"black\" points=\"736.88,-36.36 726.29,-36.07 734.39,-42.9 736.88,-36.36\"/>\n",
       "<text text-anchor=\"middle\" x=\"810\" y=\"-57.8\" font-family=\"Times,serif\" font-size=\"14.00\">1</text>\n",
       "</g>\n",
       "<!-- b4 -->\n",
       "<g id=\"node5\" class=\"node\">\n",
       "<title>b4</title>\n",
       "<polygon fill=\"none\" stroke=\"black\" points=\"896,-36 783,-36 783,0 896,0 896,-36\"/>\n",
       "<text text-anchor=\"start\" x=\"792\" y=\"-19.8\" font-family=\"Times,serif\" font-size=\"14.00\">EqualsAConstant</text>\n",
       "<text text-anchor=\"start\" x=\"791\" y=\"-9\" font-family=\"monospace\" font-size=\"10.00\">bitsize=2, val=0</text>\n",
       "</g>\n",
       "<!-- b0&#45;&gt;b4 -->\n",
       "<g id=\"edge4\" class=\"edge\">\n",
       "<title>b0-&gt;b4</title>\n",
       "<path fill=\"none\" stroke=\"black\" d=\"M891.35,-86.8C882.01,-74.59 869.32,-57.99 858.83,-44.28\"/>\n",
       "<polygon fill=\"black\" stroke=\"black\" points=\"861.49,-41.99 852.63,-36.18 855.93,-46.25 861.49,-41.99\"/>\n",
       "<text text-anchor=\"middle\" x=\"880\" y=\"-57.8\" font-family=\"Times,serif\" font-size=\"14.00\">2</text>\n",
       "</g>\n",
       "<!-- b5 -->\n",
       "<g id=\"node6\" class=\"node\">\n",
       "<title>b5</title>\n",
       "<polygon fill=\"none\" stroke=\"black\" points=\"1027,-36 914,-36 914,0 1027,0 1027,-36\"/>\n",
       "<text text-anchor=\"start\" x=\"923\" y=\"-19.8\" font-family=\"Times,serif\" font-size=\"14.00\">EqualsAConstant</text>\n",
       "<text text-anchor=\"start\" x=\"922\" y=\"-9\" font-family=\"monospace\" font-size=\"10.00\">bitsize=2, val=2</text>\n",
       "</g>\n",
       "<!-- b0&#45;&gt;b5 -->\n",
       "<g id=\"edge5\" class=\"edge\">\n",
       "<title>b0-&gt;b5</title>\n",
       "<path fill=\"none\" stroke=\"black\" d=\"M917.86,-86.8C927.34,-74.59 940.22,-57.99 950.87,-44.28\"/>\n",
       "<polygon fill=\"black\" stroke=\"black\" points=\"953.8,-46.22 957.16,-36.18 948.27,-41.93 953.8,-46.22\"/>\n",
       "<text text-anchor=\"middle\" x=\"945\" y=\"-57.8\" font-family=\"Times,serif\" font-size=\"14.00\">1</text>\n",
       "</g>\n",
       "<!-- b6 -->\n",
       "<g id=\"node7\" class=\"node\">\n",
       "<title>b6</title>\n",
       "<polygon fill=\"none\" stroke=\"black\" points=\"1158,-36 1045,-36 1045,0 1158,0 1158,-36\"/>\n",
       "<text text-anchor=\"start\" x=\"1054\" y=\"-19.8\" font-family=\"Times,serif\" font-size=\"14.00\">EqualsAConstant</text>\n",
       "<text text-anchor=\"start\" x=\"1053\" y=\"-9\" font-family=\"monospace\" font-size=\"10.00\">bitsize=2, val=1</text>\n",
       "</g>\n",
       "<!-- b0&#45;&gt;b6 -->\n",
       "<g id=\"edge6\" class=\"edge\">\n",
       "<title>b0-&gt;b6</title>\n",
       "<path fill=\"none\" stroke=\"black\" d=\"M944.37,-86.8C975.58,-73.33 1019.13,-54.54 1052.48,-40.15\"/>\n",
       "<polygon fill=\"black\" stroke=\"black\" points=\"1054.23,-43.21 1062.03,-36.03 1051.46,-36.78 1054.23,-43.21\"/>\n",
       "<text text-anchor=\"middle\" x=\"1019\" y=\"-57.8\" font-family=\"Times,serif\" font-size=\"14.00\">1</text>\n",
       "</g>\n",
       "<!-- b7 -->\n",
       "<g id=\"node8\" class=\"node\">\n",
       "<title>b7</title>\n",
       "<polygon fill=\"none\" stroke=\"black\" points=\"1457,-36 1176,-36 1176,0 1457,0 1457,-36\"/>\n",
       "<text text-anchor=\"start\" x=\"1292\" y=\"-19.8\" font-family=\"Times,serif\" font-size=\"14.00\">C[XorK]</text>\n",
       "<text text-anchor=\"start\" x=\"1184\" y=\"-9\" font-family=\"monospace\" font-size=\"10.00\">subbloq=XorK(dty ..., ctrl_spec=CtrlSpec ...</text>\n",
       "</g>\n",
       "<!-- b0&#45;&gt;b7 -->\n",
       "<g id=\"edge7\" class=\"edge\">\n",
       "<title>b0-&gt;b7</title>\n",
       "<path fill=\"none\" stroke=\"black\" d=\"M973.46,-89.77C1042.08,-75.62 1147.83,-53.8 1223.77,-38.13\"/>\n",
       "<polygon fill=\"black\" stroke=\"black\" points=\"1224.73,-41.51 1233.81,-36.06 1223.31,-34.65 1224.73,-41.51\"/>\n",
       "<text text-anchor=\"middle\" x=\"1139\" y=\"-57.8\" font-family=\"Times,serif\" font-size=\"14.00\">1</text>\n",
       "</g>\n",
       "<!-- b8 -->\n",
       "<g id=\"node9\" class=\"node\">\n",
       "<title>b8</title>\n",
       "<polygon fill=\"none\" stroke=\"black\" points=\"1642,-36 1475,-36 1475,0 1642,0 1642,-36\"/>\n",
       "<text text-anchor=\"start\" x=\"1546\" y=\"-19.8\" font-family=\"Times,serif\" font-size=\"14.00\">Free</text>\n",
       "<text text-anchor=\"start\" x=\"1483\" y=\"-9\" font-family=\"monospace\" font-size=\"10.00\">dtype=QBit(), dirty=False</text>\n",
       "</g>\n",
       "<!-- b0&#45;&gt;b8 -->\n",
       "<g id=\"edge8\" class=\"edge\">\n",
       "<title>b0-&gt;b8</title>\n",
       "<path fill=\"none\" stroke=\"black\" d=\"M973.03,-97.1C1077.16,-86.31 1281.63,-63.91 1464.72,-36.23\"/>\n",
       "<polygon fill=\"black\" stroke=\"black\" points=\"1465.44,-39.66 1474.8,-34.69 1464.39,-32.74 1465.44,-39.66\"/>\n",
       "<text text-anchor=\"middle\" x=\"1332\" y=\"-57.8\" font-family=\"Times,serif\" font-size=\"14.00\">1</text>\n",
       "</g>\n",
       "</g>\n",
       "</svg>"
      ],
      "text/plain": [
       "<IPython.core.display.SVG object>"
      ]
     },
     "metadata": {},
     "output_type": "display_data"
    },
    {
     "data": {
      "text/markdown": [
       "#### Counts totals:\n",
       " - `Allocate`: 1\n",
       " - `C[XorK]`: 1\n",
       " - `C[XorK]`: 1\n",
       " - `C[XorK]`: 1\n",
       " - `EqualsAConstant`: 1\n",
       " - `EqualsAConstant`: 1\n",
       " - `EqualsAConstant`: 2\n",
       " - `Free`: 1"
      ],
      "text/plain": [
       "<IPython.core.display.Markdown object>"
      ]
     },
     "metadata": {},
     "output_type": "display_data"
    }
   ],
   "source": [
    "from qualtran.resource_counting.generalizers import ignore_split_join\n",
    "permutation_cycle_g, permutation_cycle_sigma = permutation_cycle.call_graph(max_depth=1, generalizer=ignore_split_join)\n",
    "show_call_graph(permutation_cycle_g)\n",
    "show_counts_sigma(permutation_cycle_sigma)"
   ]
  }
 ],
 "metadata": {
  "kernelspec": {
   "display_name": "Python 3",
   "language": "python",
   "name": "python3"
  },
  "language_info": {
   "codemirror_mode": {
    "name": "ipython",
    "version": 3
   },
   "file_extension": ".py",
   "mimetype": "text/x-python",
   "name": "python",
   "nbconvert_exporter": "python",
   "pygments_lexer": "ipython3",
   "version": "3.11.8"
  },
  "widgets": {
   "application/vnd.jupyter.widget-state+json": {
    "state": {
     "14e4b774def04e6c825f7eebfd52e659": {
      "model_module": "@jupyter-widgets/base",
      "model_module_version": "2.0.0",
      "model_name": "LayoutModel",
      "state": {
       "_model_module": "@jupyter-widgets/base",
       "_model_module_version": "2.0.0",
       "_model_name": "LayoutModel",
       "_view_count": null,
       "_view_module": "@jupyter-widgets/base",
       "_view_module_version": "2.0.0",
       "_view_name": "LayoutView",
       "align_content": null,
       "align_items": null,
       "align_self": null,
       "border_bottom": null,
       "border_left": null,
       "border_right": null,
       "border_top": null,
       "bottom": null,
       "display": null,
       "flex": null,
       "flex_flow": null,
       "grid_area": null,
       "grid_auto_columns": null,
       "grid_auto_flow": null,
       "grid_auto_rows": null,
       "grid_column": null,
       "grid_gap": null,
       "grid_row": null,
       "grid_template_areas": null,
       "grid_template_columns": null,
       "grid_template_rows": null,
       "height": null,
       "justify_content": null,
       "justify_items": null,
       "left": null,
       "margin": null,
       "max_height": null,
       "max_width": null,
       "min_height": null,
       "min_width": null,
       "object_fit": null,
       "object_position": null,
       "order": null,
       "overflow": null,
       "padding": null,
       "right": null,
       "top": null,
       "visibility": null,
       "width": null
      }
     },
     "1d671cebc8694144825abd6468f31973": {
      "model_module": "@jupyter-widgets/output",
      "model_module_version": "1.0.0",
      "model_name": "OutputModel",
      "state": {
       "_dom_classes": [],
       "_model_module": "@jupyter-widgets/output",
       "_model_module_version": "1.0.0",
       "_model_name": "OutputModel",
       "_view_count": null,
       "_view_module": "@jupyter-widgets/output",
       "_view_module_version": "1.0.0",
       "_view_name": "OutputView",
       "layout": "IPY_MODEL_14e4b774def04e6c825f7eebfd52e659",
       "msg_id": "",
       "outputs": [
        {
         "data": {
          "text/markdown": "`permutation_symb_with_cycles`",
          "text/plain": "<IPython.core.display.Markdown object>"
         },
         "metadata": {},
         "output_type": "display_data"
        },
        {
         "data": {
          "image/svg+xml": "<svg xmlns=\"http://www.w3.org/2000/svg\" xmlns:xlink=\"http://www.w3.org/1999/xlink\" width=\"246pt\" height=\"54pt\" viewBox=\"0.00 0.00 246.00 54.00\">\n<g id=\"graph0\" class=\"graph\" transform=\"scale(1 1) rotate(0) translate(4 50)\">\n<title>my_graph</title>\n<polygon fill=\"white\" stroke=\"transparent\" points=\"-4,4 -4,-50 242,-50 242,4 -4,4\"/>\n<!-- x_G0 -->\n<g id=\"node1\" class=\"node\">\n<title>x_G0</title>\n<text text-anchor=\"middle\" x=\"27\" y=\"-14.3\" font-family=\"Times,serif\" font-size=\"14.00\">x</text>\n</g>\n<!-- Permutation -->\n<g id=\"node2\" class=\"node\">\n<title>Permutation</title>\n<polygon fill=\"none\" stroke=\"black\" points=\"91,-29 91,-46 147,-46 147,-29 91,-29\"/>\n<text text-anchor=\"start\" x=\"94\" y=\"-35\" font-family=\"Times,serif\" font-size=\"10.00\">Permutation</text>\n<polygon fill=\"none\" stroke=\"black\" points=\"91,-8 91,-29 147,-29 147,-8 91,-8\"/>\n<text text-anchor=\"start\" x=\"115.5\" y=\"-14.8\" font-family=\"Times,serif\" font-size=\"14.00\">x</text>\n</g>\n<!-- x_G0&#45;&gt;Permutation -->\n<g id=\"edge1\" class=\"edge\">\n<title>x_G0:e-&gt;Permutation:w</title>\n<path fill=\"none\" stroke=\"black\" d=\"M54,-18C69.67,-18 74.14,-18 88.77,-18\"/>\n<ellipse fill=\"black\" stroke=\"black\" cx=\"90\" cy=\"-18\" rx=\"1\" ry=\"1\"/>\n<text text-anchor=\"middle\" x=\"72.5\" y=\"-21\" font-family=\"Times,serif\" font-size=\"10.00\">ceiling(log2(N))</text>\n</g>\n<!-- x_G2 -->\n<g id=\"node3\" class=\"node\">\n<title>x_G2</title>\n<text text-anchor=\"middle\" x=\"211\" y=\"-14.3\" font-family=\"Times,serif\" font-size=\"14.00\">x</text>\n</g>\n<!-- Permutation&#45;&gt;x_G2 -->\n<g id=\"edge2\" class=\"edge\">\n<title>Permutation:e-&gt;x_G2:w</title>\n<path fill=\"none\" stroke=\"black\" d=\"M147,-18C162.67,-18 167.14,-18 181.77,-18\"/>\n<ellipse fill=\"black\" stroke=\"black\" cx=\"183\" cy=\"-18\" rx=\"1\" ry=\"1\"/>\n<text text-anchor=\"middle\" x=\"165.5\" y=\"-21\" font-family=\"Times,serif\" font-size=\"10.00\">ceiling(log2(N))</text>\n</g>\n</g>\n</svg>",
          "text/plain": "<IPython.core.display.SVG object>"
         },
         "metadata": {},
         "output_type": "display_data"
        }
       ],
       "tabbable": null,
       "tooltip": null
      }
     },
     "21e6bf298c3849699bbfc2650499e2fb": {
      "model_module": "@jupyter-widgets/output",
      "model_module_version": "1.0.0",
      "model_name": "OutputModel",
      "state": {
       "_dom_classes": [],
       "_model_module": "@jupyter-widgets/output",
       "_model_module_version": "1.0.0",
       "_model_name": "OutputModel",
       "_view_count": null,
       "_view_module": "@jupyter-widgets/output",
       "_view_module_version": "1.0.0",
       "_view_name": "OutputView",
       "layout": "IPY_MODEL_ebdb9dd0799741a388a10c0488138f3a",
       "msg_id": "",
       "outputs": [
        {
         "data": {
          "text/markdown": "`permutation_cycle_symb`",
          "text/plain": "<IPython.core.display.Markdown object>"
         },
         "metadata": {},
         "output_type": "display_data"
        },
        {
         "data": {
          "image/svg+xml": "<svg xmlns=\"http://www.w3.org/2000/svg\" xmlns:xlink=\"http://www.w3.org/1999/xlink\" width=\"270pt\" height=\"54pt\" viewBox=\"0.00 0.00 270.00 54.00\">\n<g id=\"graph0\" class=\"graph\" transform=\"scale(1 1) rotate(0) translate(4 50)\">\n<title>my_graph</title>\n<polygon fill=\"white\" stroke=\"transparent\" points=\"-4,4 -4,-50 266,-50 266,4 -4,4\"/>\n<!-- x_G0 -->\n<g id=\"node1\" class=\"node\">\n<title>x_G0</title>\n<text text-anchor=\"middle\" x=\"27\" y=\"-14.3\" font-family=\"Times,serif\" font-size=\"14.00\">x</text>\n</g>\n<!-- PermutationCycle -->\n<g id=\"node2\" class=\"node\">\n<title>PermutationCycle</title>\n<polygon fill=\"none\" stroke=\"black\" points=\"91,-29 91,-46 171,-46 171,-29 91,-29\"/>\n<text text-anchor=\"start\" x=\"94\" y=\"-35\" font-family=\"Times,serif\" font-size=\"10.00\">PermutationCycle</text>\n<polygon fill=\"none\" stroke=\"black\" points=\"91,-8 91,-29 171,-29 171,-8 91,-8\"/>\n<text text-anchor=\"start\" x=\"127.5\" y=\"-14.8\" font-family=\"Times,serif\" font-size=\"14.00\">x</text>\n</g>\n<!-- x_G0&#45;&gt;PermutationCycle -->\n<g id=\"edge1\" class=\"edge\">\n<title>x_G0:e-&gt;PermutationCycle:w</title>\n<path fill=\"none\" stroke=\"black\" d=\"M54,-18C69.67,-18 74.14,-18 88.77,-18\"/>\n<ellipse fill=\"black\" stroke=\"black\" cx=\"90\" cy=\"-18\" rx=\"1\" ry=\"1\"/>\n<text text-anchor=\"middle\" x=\"72.5\" y=\"-21\" font-family=\"Times,serif\" font-size=\"10.00\">ceiling(log2(N))</text>\n</g>\n<!-- x_G1 -->\n<g id=\"node3\" class=\"node\">\n<title>x_G1</title>\n<text text-anchor=\"middle\" x=\"235\" y=\"-14.3\" font-family=\"Times,serif\" font-size=\"14.00\">x</text>\n</g>\n<!-- PermutationCycle&#45;&gt;x_G1 -->\n<g id=\"edge2\" class=\"edge\">\n<title>PermutationCycle:e-&gt;x_G1:w</title>\n<path fill=\"none\" stroke=\"black\" d=\"M171,-18C186.67,-18 191.14,-18 205.77,-18\"/>\n<ellipse fill=\"black\" stroke=\"black\" cx=\"207\" cy=\"-18\" rx=\"1\" ry=\"1\"/>\n<text text-anchor=\"middle\" x=\"189.5\" y=\"-21\" font-family=\"Times,serif\" font-size=\"10.00\">ceiling(log2(N))</text>\n</g>\n</g>\n</svg>",
          "text/plain": "<IPython.core.display.SVG object>"
         },
         "metadata": {},
         "output_type": "display_data"
        }
       ],
       "tabbable": null,
       "tooltip": null
      }
     },
     "3ba6a59730c544558cae717647617eb8": {
      "model_module": "@jupyter-widgets/base",
      "model_module_version": "2.0.0",
      "model_name": "LayoutModel",
      "state": {
       "_model_module": "@jupyter-widgets/base",
       "_model_module_version": "2.0.0",
       "_model_name": "LayoutModel",
       "_view_count": null,
       "_view_module": "@jupyter-widgets/base",
       "_view_module_version": "2.0.0",
       "_view_name": "LayoutView",
       "align_content": null,
       "align_items": null,
       "align_self": null,
       "border_bottom": null,
       "border_left": null,
       "border_right": null,
       "border_top": null,
       "bottom": null,
       "display": null,
       "flex": null,
       "flex_flow": null,
       "grid_area": null,
       "grid_auto_columns": null,
       "grid_auto_flow": null,
       "grid_auto_rows": null,
       "grid_column": null,
       "grid_gap": null,
       "grid_row": null,
       "grid_template_areas": null,
       "grid_template_columns": null,
       "grid_template_rows": null,
       "height": null,
       "justify_content": null,
       "justify_items": null,
       "left": null,
       "margin": null,
       "max_height": null,
       "max_width": null,
       "min_height": null,
       "min_width": null,
       "object_fit": null,
       "object_position": null,
       "order": null,
       "overflow": null,
       "padding": null,
       "right": null,
       "top": null,
       "visibility": null,
       "width": null
      }
     },
     "6c12efb042ca4c3daa22bf1a764d9874": {
      "model_module": "@jupyter-widgets/base",
      "model_module_version": "2.0.0",
      "model_name": "LayoutModel",
      "state": {
       "_model_module": "@jupyter-widgets/base",
       "_model_module_version": "2.0.0",
       "_model_name": "LayoutModel",
       "_view_count": null,
       "_view_module": "@jupyter-widgets/base",
       "_view_module_version": "2.0.0",
       "_view_name": "LayoutView",
       "align_content": null,
       "align_items": null,
       "align_self": null,
       "border_bottom": null,
       "border_left": null,
       "border_right": null,
       "border_top": null,
       "bottom": null,
       "display": null,
       "flex": null,
       "flex_flow": null,
       "grid_area": null,
       "grid_auto_columns": null,
       "grid_auto_flow": null,
       "grid_auto_rows": null,
       "grid_column": null,
       "grid_gap": null,
       "grid_row": null,
       "grid_template_areas": null,
       "grid_template_columns": null,
       "grid_template_rows": null,
       "height": null,
       "justify_content": null,
       "justify_items": null,
       "left": null,
       "margin": null,
       "max_height": null,
       "max_width": null,
       "min_height": null,
       "min_width": null,
       "object_fit": null,
       "object_position": null,
       "order": null,
       "overflow": null,
       "padding": null,
       "right": null,
       "top": null,
       "visibility": null,
       "width": null
      }
     },
     "76787b0ad621468c92205957bb285e2e": {
      "model_module": "@jupyter-widgets/controls",
      "model_module_version": "2.0.0",
      "model_name": "HBoxModel",
      "state": {
       "_dom_classes": [],
       "_model_module": "@jupyter-widgets/controls",
       "_model_module_version": "2.0.0",
       "_model_name": "HBoxModel",
       "_view_count": null,
       "_view_module": "@jupyter-widgets/controls",
       "_view_module_version": "2.0.0",
       "_view_name": "HBoxView",
       "box_style": "",
       "children": [
        "IPY_MODEL_b61b6dc76fc54c128b5fc9733383d6af",
        "IPY_MODEL_8124d0560e5b4cb0a27bcc11acddb196",
        "IPY_MODEL_1d671cebc8694144825abd6468f31973",
        "IPY_MODEL_e4221e365aa04b8dadffc9608e869e0f"
       ],
       "layout": "IPY_MODEL_bb6f4ce28e6b48a899886478cf37d174",
       "tabbable": null,
       "tooltip": null
      }
     },
     "8124d0560e5b4cb0a27bcc11acddb196": {
      "model_module": "@jupyter-widgets/output",
      "model_module_version": "1.0.0",
      "model_name": "OutputModel",
      "state": {
       "_dom_classes": [],
       "_model_module": "@jupyter-widgets/output",
       "_model_module_version": "1.0.0",
       "_model_name": "OutputModel",
       "_view_count": null,
       "_view_module": "@jupyter-widgets/output",
       "_view_module_version": "1.0.0",
       "_view_name": "OutputView",
       "layout": "IPY_MODEL_3ba6a59730c544558cae717647617eb8",
       "msg_id": "",
       "outputs": [
        {
         "data": {
          "text/markdown": "`permutation_symb`",
          "text/plain": "<IPython.core.display.Markdown object>"
         },
         "metadata": {},
         "output_type": "display_data"
        },
        {
         "data": {
          "image/svg+xml": "<svg xmlns=\"http://www.w3.org/2000/svg\" xmlns:xlink=\"http://www.w3.org/1999/xlink\" width=\"246pt\" height=\"54pt\" viewBox=\"0.00 0.00 246.00 54.00\">\n<g id=\"graph0\" class=\"graph\" transform=\"scale(1 1) rotate(0) translate(4 50)\">\n<title>my_graph</title>\n<polygon fill=\"white\" stroke=\"transparent\" points=\"-4,4 -4,-50 242,-50 242,4 -4,4\"/>\n<!-- x_G0 -->\n<g id=\"node1\" class=\"node\">\n<title>x_G0</title>\n<text text-anchor=\"middle\" x=\"27\" y=\"-14.3\" font-family=\"Times,serif\" font-size=\"14.00\">x</text>\n</g>\n<!-- Permutation -->\n<g id=\"node2\" class=\"node\">\n<title>Permutation</title>\n<polygon fill=\"none\" stroke=\"black\" points=\"91,-29 91,-46 147,-46 147,-29 91,-29\"/>\n<text text-anchor=\"start\" x=\"94\" y=\"-35\" font-family=\"Times,serif\" font-size=\"10.00\">Permutation</text>\n<polygon fill=\"none\" stroke=\"black\" points=\"91,-8 91,-29 147,-29 147,-8 91,-8\"/>\n<text text-anchor=\"start\" x=\"115.5\" y=\"-14.8\" font-family=\"Times,serif\" font-size=\"14.00\">x</text>\n</g>\n<!-- x_G0&#45;&gt;Permutation -->\n<g id=\"edge1\" class=\"edge\">\n<title>x_G0:e-&gt;Permutation:w</title>\n<path fill=\"none\" stroke=\"black\" d=\"M54,-18C69.67,-18 74.14,-18 88.77,-18\"/>\n<ellipse fill=\"black\" stroke=\"black\" cx=\"90\" cy=\"-18\" rx=\"1\" ry=\"1\"/>\n<text text-anchor=\"middle\" x=\"72.5\" y=\"-21\" font-family=\"Times,serif\" font-size=\"10.00\">ceiling(log2(N))</text>\n</g>\n<!-- x_G2 -->\n<g id=\"node3\" class=\"node\">\n<title>x_G2</title>\n<text text-anchor=\"middle\" x=\"211\" y=\"-14.3\" font-family=\"Times,serif\" font-size=\"14.00\">x</text>\n</g>\n<!-- Permutation&#45;&gt;x_G2 -->\n<g id=\"edge2\" class=\"edge\">\n<title>Permutation:e-&gt;x_G2:w</title>\n<path fill=\"none\" stroke=\"black\" d=\"M147,-18C162.67,-18 167.14,-18 181.77,-18\"/>\n<ellipse fill=\"black\" stroke=\"black\" cx=\"183\" cy=\"-18\" rx=\"1\" ry=\"1\"/>\n<text text-anchor=\"middle\" x=\"165.5\" y=\"-21\" font-family=\"Times,serif\" font-size=\"10.00\">ceiling(log2(N))</text>\n</g>\n</g>\n</svg>",
          "text/plain": "<IPython.core.display.SVG object>"
         },
         "metadata": {},
         "output_type": "display_data"
        }
       ],
       "tabbable": null,
       "tooltip": null
      }
     },
     "ad582de53b8f401eb5cb8a7196313110": {
      "model_module": "@jupyter-widgets/base",
      "model_module_version": "2.0.0",
      "model_name": "LayoutModel",
      "state": {
       "_model_module": "@jupyter-widgets/base",
       "_model_module_version": "2.0.0",
       "_model_name": "LayoutModel",
       "_view_count": null,
       "_view_module": "@jupyter-widgets/base",
       "_view_module_version": "2.0.0",
       "_view_name": "LayoutView",
       "align_content": null,
       "align_items": null,
       "align_self": null,
       "border_bottom": null,
       "border_left": null,
       "border_right": null,
       "border_top": null,
       "bottom": null,
       "display": null,
       "flex": null,
       "flex_flow": null,
       "grid_area": null,
       "grid_auto_columns": null,
       "grid_auto_flow": null,
       "grid_auto_rows": null,
       "grid_column": null,
       "grid_gap": null,
       "grid_row": null,
       "grid_template_areas": null,
       "grid_template_columns": null,
       "grid_template_rows": null,
       "height": null,
       "justify_content": null,
       "justify_items": null,
       "left": null,
       "margin": null,
       "max_height": null,
       "max_width": null,
       "min_height": null,
       "min_width": null,
       "object_fit": null,
       "object_position": null,
       "order": null,
       "overflow": null,
       "padding": null,
       "right": null,
       "top": null,
       "visibility": null,
       "width": null
      }
     },
     "b61b6dc76fc54c128b5fc9733383d6af": {
      "model_module": "@jupyter-widgets/output",
      "model_module_version": "1.0.0",
      "model_name": "OutputModel",
      "state": {
       "_dom_classes": [],
       "_model_module": "@jupyter-widgets/output",
       "_model_module_version": "1.0.0",
       "_model_name": "OutputModel",
       "_view_count": null,
       "_view_module": "@jupyter-widgets/output",
       "_view_module_version": "1.0.0",
       "_view_name": "OutputView",
       "layout": "IPY_MODEL_cc0ec1768a2c487f9aa717dd06a5c38b",
       "msg_id": "",
       "outputs": [
        {
         "data": {
          "text/markdown": "`permutation`",
          "text/plain": "<IPython.core.display.Markdown object>"
         },
         "metadata": {},
         "output_type": "display_data"
        },
        {
         "data": {
          "image/svg+xml": "<svg xmlns=\"http://www.w3.org/2000/svg\" xmlns:xlink=\"http://www.w3.org/1999/xlink\" width=\"246pt\" height=\"54pt\" viewBox=\"0.00 0.00 246.00 54.00\">\n<g id=\"graph0\" class=\"graph\" transform=\"scale(1 1) rotate(0) translate(4 50)\">\n<title>my_graph</title>\n<polygon fill=\"white\" stroke=\"transparent\" points=\"-4,4 -4,-50 242,-50 242,4 -4,4\"/>\n<!-- x_G1 -->\n<g id=\"node1\" class=\"node\">\n<title>x_G1</title>\n<text text-anchor=\"middle\" x=\"27\" y=\"-14.3\" font-family=\"Times,serif\" font-size=\"14.00\">x</text>\n</g>\n<!-- Permutation -->\n<g id=\"node2\" class=\"node\">\n<title>Permutation</title>\n<polygon fill=\"none\" stroke=\"black\" points=\"91,-29 91,-46 147,-46 147,-29 91,-29\"/>\n<text text-anchor=\"start\" x=\"94\" y=\"-35\" font-family=\"Times,serif\" font-size=\"10.00\">Permutation</text>\n<polygon fill=\"none\" stroke=\"black\" points=\"91,-8 91,-29 147,-29 147,-8 91,-8\"/>\n<text text-anchor=\"start\" x=\"115.5\" y=\"-14.8\" font-family=\"Times,serif\" font-size=\"14.00\">x</text>\n</g>\n<!-- x_G1&#45;&gt;Permutation -->\n<g id=\"edge1\" class=\"edge\">\n<title>x_G1:e-&gt;Permutation:w</title>\n<path fill=\"none\" stroke=\"black\" d=\"M54,-18C69.67,-18 74.14,-18 88.77,-18\"/>\n<ellipse fill=\"black\" stroke=\"black\" cx=\"90\" cy=\"-18\" rx=\"1\" ry=\"1\"/>\n<text text-anchor=\"middle\" x=\"72.5\" y=\"-21\" font-family=\"Times,serif\" font-size=\"10.00\">2</text>\n</g>\n<!-- x_G0 -->\n<g id=\"node3\" class=\"node\">\n<title>x_G0</title>\n<text text-anchor=\"middle\" x=\"211\" y=\"-14.3\" font-family=\"Times,serif\" font-size=\"14.00\">x</text>\n</g>\n<!-- Permutation&#45;&gt;x_G0 -->\n<g id=\"edge2\" class=\"edge\">\n<title>Permutation:e-&gt;x_G0:w</title>\n<path fill=\"none\" stroke=\"black\" d=\"M147,-18C162.67,-18 167.14,-18 181.77,-18\"/>\n<ellipse fill=\"black\" stroke=\"black\" cx=\"183\" cy=\"-18\" rx=\"1\" ry=\"1\"/>\n<text text-anchor=\"middle\" x=\"165.5\" y=\"-21\" font-family=\"Times,serif\" font-size=\"10.00\">2</text>\n</g>\n</g>\n</svg>",
          "text/plain": "<IPython.core.display.SVG object>"
         },
         "metadata": {},
         "output_type": "display_data"
        }
       ],
       "tabbable": null,
       "tooltip": null
      }
     },
     "bb6f4ce28e6b48a899886478cf37d174": {
      "model_module": "@jupyter-widgets/base",
      "model_module_version": "2.0.0",
      "model_name": "LayoutModel",
      "state": {
       "_model_module": "@jupyter-widgets/base",
       "_model_module_version": "2.0.0",
       "_model_name": "LayoutModel",
       "_view_count": null,
       "_view_module": "@jupyter-widgets/base",
       "_view_module_version": "2.0.0",
       "_view_name": "LayoutView",
       "align_content": null,
       "align_items": null,
       "align_self": null,
       "border_bottom": null,
       "border_left": null,
       "border_right": null,
       "border_top": null,
       "bottom": null,
       "display": null,
       "flex": null,
       "flex_flow": null,
       "grid_area": null,
       "grid_auto_columns": null,
       "grid_auto_flow": null,
       "grid_auto_rows": null,
       "grid_column": null,
       "grid_gap": null,
       "grid_row": null,
       "grid_template_areas": null,
       "grid_template_columns": null,
       "grid_template_rows": null,
       "height": null,
       "justify_content": null,
       "justify_items": null,
       "left": null,
       "margin": null,
       "max_height": null,
       "max_width": null,
       "min_height": null,
       "min_width": null,
       "object_fit": null,
       "object_position": null,
       "order": null,
       "overflow": null,
       "padding": null,
       "right": null,
       "top": null,
       "visibility": null,
       "width": null
      }
     },
     "bfbfb6cd81ce4227bd4652b4d1097704": {
      "model_module": "@jupyter-widgets/base",
      "model_module_version": "2.0.0",
      "model_name": "LayoutModel",
      "state": {
       "_model_module": "@jupyter-widgets/base",
       "_model_module_version": "2.0.0",
       "_model_name": "LayoutModel",
       "_view_count": null,
       "_view_module": "@jupyter-widgets/base",
       "_view_module_version": "2.0.0",
       "_view_name": "LayoutView",
       "align_content": null,
       "align_items": null,
       "align_self": null,
       "border_bottom": null,
       "border_left": null,
       "border_right": null,
       "border_top": null,
       "bottom": null,
       "display": null,
       "flex": null,
       "flex_flow": null,
       "grid_area": null,
       "grid_auto_columns": null,
       "grid_auto_flow": null,
       "grid_auto_rows": null,
       "grid_column": null,
       "grid_gap": null,
       "grid_row": null,
       "grid_template_areas": null,
       "grid_template_columns": null,
       "grid_template_rows": null,
       "height": null,
       "justify_content": null,
       "justify_items": null,
       "left": null,
       "margin": null,
       "max_height": null,
       "max_width": null,
       "min_height": null,
       "min_width": null,
       "object_fit": null,
       "object_position": null,
       "order": null,
       "overflow": null,
       "padding": null,
       "right": null,
       "top": null,
       "visibility": null,
       "width": null
      }
     },
     "cb423b72b97740469bddca6bee2050b2": {
      "model_module": "@jupyter-widgets/output",
      "model_module_version": "1.0.0",
      "model_name": "OutputModel",
      "state": {
       "_dom_classes": [],
       "_model_module": "@jupyter-widgets/output",
       "_model_module_version": "1.0.0",
       "_model_name": "OutputModel",
       "_view_count": null,
       "_view_module": "@jupyter-widgets/output",
       "_view_module_version": "1.0.0",
       "_view_name": "OutputView",
       "layout": "IPY_MODEL_bfbfb6cd81ce4227bd4652b4d1097704",
       "msg_id": "",
       "outputs": [
        {
         "data": {
          "text/markdown": "`permutation_cycle`",
          "text/plain": "<IPython.core.display.Markdown object>"
         },
         "metadata": {},
         "output_type": "display_data"
        },
        {
         "data": {
          "image/svg+xml": "<svg xmlns=\"http://www.w3.org/2000/svg\" xmlns:xlink=\"http://www.w3.org/1999/xlink\" width=\"270pt\" height=\"54pt\" viewBox=\"0.00 0.00 270.00 54.00\">\n<g id=\"graph0\" class=\"graph\" transform=\"scale(1 1) rotate(0) translate(4 50)\">\n<title>my_graph</title>\n<polygon fill=\"white\" stroke=\"transparent\" points=\"-4,4 -4,-50 266,-50 266,4 -4,4\"/>\n<!-- x_G1 -->\n<g id=\"node1\" class=\"node\">\n<title>x_G1</title>\n<text text-anchor=\"middle\" x=\"27\" y=\"-14.3\" font-family=\"Times,serif\" font-size=\"14.00\">x</text>\n</g>\n<!-- PermutationCycle -->\n<g id=\"node2\" class=\"node\">\n<title>PermutationCycle</title>\n<polygon fill=\"none\" stroke=\"black\" points=\"91,-29 91,-46 171,-46 171,-29 91,-29\"/>\n<text text-anchor=\"start\" x=\"94\" y=\"-35\" font-family=\"Times,serif\" font-size=\"10.00\">PermutationCycle</text>\n<polygon fill=\"none\" stroke=\"black\" points=\"91,-8 91,-29 171,-29 171,-8 91,-8\"/>\n<text text-anchor=\"start\" x=\"127.5\" y=\"-14.8\" font-family=\"Times,serif\" font-size=\"14.00\">x</text>\n</g>\n<!-- x_G1&#45;&gt;PermutationCycle -->\n<g id=\"edge1\" class=\"edge\">\n<title>x_G1:e-&gt;PermutationCycle:w</title>\n<path fill=\"none\" stroke=\"black\" d=\"M54,-18C69.67,-18 74.14,-18 88.77,-18\"/>\n<ellipse fill=\"black\" stroke=\"black\" cx=\"90\" cy=\"-18\" rx=\"1\" ry=\"1\"/>\n<text text-anchor=\"middle\" x=\"72.5\" y=\"-21\" font-family=\"Times,serif\" font-size=\"10.00\">2</text>\n</g>\n<!-- x_G0 -->\n<g id=\"node3\" class=\"node\">\n<title>x_G0</title>\n<text text-anchor=\"middle\" x=\"235\" y=\"-14.3\" font-family=\"Times,serif\" font-size=\"14.00\">x</text>\n</g>\n<!-- PermutationCycle&#45;&gt;x_G0 -->\n<g id=\"edge2\" class=\"edge\">\n<title>PermutationCycle:e-&gt;x_G0:w</title>\n<path fill=\"none\" stroke=\"black\" d=\"M171,-18C186.67,-18 191.14,-18 205.77,-18\"/>\n<ellipse fill=\"black\" stroke=\"black\" cx=\"207\" cy=\"-18\" rx=\"1\" ry=\"1\"/>\n<text text-anchor=\"middle\" x=\"189.5\" y=\"-21\" font-family=\"Times,serif\" font-size=\"10.00\">2</text>\n</g>\n</g>\n</svg>",
          "text/plain": "<IPython.core.display.SVG object>"
         },
         "metadata": {},
         "output_type": "display_data"
        }
       ],
       "tabbable": null,
       "tooltip": null
      }
     },
     "cc0ec1768a2c487f9aa717dd06a5c38b": {
      "model_module": "@jupyter-widgets/base",
      "model_module_version": "2.0.0",
      "model_name": "LayoutModel",
      "state": {
       "_model_module": "@jupyter-widgets/base",
       "_model_module_version": "2.0.0",
       "_model_name": "LayoutModel",
       "_view_count": null,
       "_view_module": "@jupyter-widgets/base",
       "_view_module_version": "2.0.0",
       "_view_name": "LayoutView",
       "align_content": null,
       "align_items": null,
       "align_self": null,
       "border_bottom": null,
       "border_left": null,
       "border_right": null,
       "border_top": null,
       "bottom": null,
       "display": null,
       "flex": null,
       "flex_flow": null,
       "grid_area": null,
       "grid_auto_columns": null,
       "grid_auto_flow": null,
       "grid_auto_rows": null,
       "grid_column": null,
       "grid_gap": null,
       "grid_row": null,
       "grid_template_areas": null,
       "grid_template_columns": null,
       "grid_template_rows": null,
       "height": null,
       "justify_content": null,
       "justify_items": null,
       "left": null,
       "margin": null,
       "max_height": null,
       "max_width": null,
       "min_height": null,
       "min_width": null,
       "object_fit": null,
       "object_position": null,
       "order": null,
       "overflow": null,
       "padding": null,
       "right": null,
       "top": null,
       "visibility": null,
       "width": null
      }
     },
     "e4221e365aa04b8dadffc9608e869e0f": {
      "model_module": "@jupyter-widgets/output",
      "model_module_version": "1.0.0",
      "model_name": "OutputModel",
      "state": {
       "_dom_classes": [],
       "_model_module": "@jupyter-widgets/output",
       "_model_module_version": "1.0.0",
       "_model_name": "OutputModel",
       "_view_count": null,
       "_view_module": "@jupyter-widgets/output",
       "_view_module_version": "1.0.0",
       "_view_name": "OutputView",
       "layout": "IPY_MODEL_ad582de53b8f401eb5cb8a7196313110",
       "msg_id": "",
       "outputs": [
        {
         "data": {
          "text/markdown": "`sparse_permutation`",
          "text/plain": "<IPython.core.display.Markdown object>"
         },
         "metadata": {},
         "output_type": "display_data"
        },
        {
         "data": {
          "image/svg+xml": "<svg xmlns=\"http://www.w3.org/2000/svg\" xmlns:xlink=\"http://www.w3.org/1999/xlink\" width=\"246pt\" height=\"54pt\" viewBox=\"0.00 0.00 246.00 54.00\">\n<g id=\"graph0\" class=\"graph\" transform=\"scale(1 1) rotate(0) translate(4 50)\">\n<title>my_graph</title>\n<polygon fill=\"white\" stroke=\"transparent\" points=\"-4,4 -4,-50 242,-50 242,4 -4,4\"/>\n<!-- x_G2 -->\n<g id=\"node1\" class=\"node\">\n<title>x_G2</title>\n<text text-anchor=\"middle\" x=\"27\" y=\"-14.3\" font-family=\"Times,serif\" font-size=\"14.00\">x</text>\n</g>\n<!-- Permutation -->\n<g id=\"node2\" class=\"node\">\n<title>Permutation</title>\n<polygon fill=\"none\" stroke=\"black\" points=\"91,-29 91,-46 147,-46 147,-29 91,-29\"/>\n<text text-anchor=\"start\" x=\"94\" y=\"-35\" font-family=\"Times,serif\" font-size=\"10.00\">Permutation</text>\n<polygon fill=\"none\" stroke=\"black\" points=\"91,-8 91,-29 147,-29 147,-8 91,-8\"/>\n<text text-anchor=\"start\" x=\"115.5\" y=\"-14.8\" font-family=\"Times,serif\" font-size=\"14.00\">x</text>\n</g>\n<!-- x_G2&#45;&gt;Permutation -->\n<g id=\"edge1\" class=\"edge\">\n<title>x_G2:e-&gt;Permutation:w</title>\n<path fill=\"none\" stroke=\"black\" d=\"M54,-18C69.67,-18 74.14,-18 88.77,-18\"/>\n<ellipse fill=\"black\" stroke=\"black\" cx=\"90\" cy=\"-18\" rx=\"1\" ry=\"1\"/>\n<text text-anchor=\"middle\" x=\"72.5\" y=\"-21\" font-family=\"Times,serif\" font-size=\"10.00\">4</text>\n</g>\n<!-- x_G1 -->\n<g id=\"node3\" class=\"node\">\n<title>x_G1</title>\n<text text-anchor=\"middle\" x=\"211\" y=\"-14.3\" font-family=\"Times,serif\" font-size=\"14.00\">x</text>\n</g>\n<!-- Permutation&#45;&gt;x_G1 -->\n<g id=\"edge2\" class=\"edge\">\n<title>Permutation:e-&gt;x_G1:w</title>\n<path fill=\"none\" stroke=\"black\" d=\"M147,-18C162.67,-18 167.14,-18 181.77,-18\"/>\n<ellipse fill=\"black\" stroke=\"black\" cx=\"183\" cy=\"-18\" rx=\"1\" ry=\"1\"/>\n<text text-anchor=\"middle\" x=\"165.5\" y=\"-21\" font-family=\"Times,serif\" font-size=\"10.00\">4</text>\n</g>\n</g>\n</svg>",
          "text/plain": "<IPython.core.display.SVG object>"
         },
         "metadata": {},
         "output_type": "display_data"
        }
       ],
       "tabbable": null,
       "tooltip": null
      }
     },
     "ebdb9dd0799741a388a10c0488138f3a": {
      "model_module": "@jupyter-widgets/base",
      "model_module_version": "2.0.0",
      "model_name": "LayoutModel",
      "state": {
       "_model_module": "@jupyter-widgets/base",
       "_model_module_version": "2.0.0",
       "_model_name": "LayoutModel",
       "_view_count": null,
       "_view_module": "@jupyter-widgets/base",
       "_view_module_version": "2.0.0",
       "_view_name": "LayoutView",
       "align_content": null,
       "align_items": null,
       "align_self": null,
       "border_bottom": null,
       "border_left": null,
       "border_right": null,
       "border_top": null,
       "bottom": null,
       "display": null,
       "flex": null,
       "flex_flow": null,
       "grid_area": null,
       "grid_auto_columns": null,
       "grid_auto_flow": null,
       "grid_auto_rows": null,
       "grid_column": null,
       "grid_gap": null,
       "grid_row": null,
       "grid_template_areas": null,
       "grid_template_columns": null,
       "grid_template_rows": null,
       "height": null,
       "justify_content": null,
       "justify_items": null,
       "left": null,
       "margin": null,
       "max_height": null,
       "max_width": null,
       "min_height": null,
       "min_width": null,
       "object_fit": null,
       "object_position": null,
       "order": null,
       "overflow": null,
       "padding": null,
       "right": null,
       "top": null,
       "visibility": null,
       "width": null
      }
     },
     "f8db4e56267146a59185b60a9f1b3936": {
      "model_module": "@jupyter-widgets/controls",
      "model_module_version": "2.0.0",
      "model_name": "HBoxModel",
      "state": {
       "_dom_classes": [],
       "_model_module": "@jupyter-widgets/controls",
       "_model_module_version": "2.0.0",
       "_model_name": "HBoxModel",
       "_view_count": null,
       "_view_module": "@jupyter-widgets/controls",
       "_view_module_version": "2.0.0",
       "_view_name": "HBoxView",
       "box_style": "",
       "children": [
        "IPY_MODEL_cb423b72b97740469bddca6bee2050b2",
        "IPY_MODEL_21e6bf298c3849699bbfc2650499e2fb"
       ],
       "layout": "IPY_MODEL_6c12efb042ca4c3daa22bf1a764d9874",
       "tabbable": null,
       "tooltip": null
      }
     }
    },
    "version_major": 2,
    "version_minor": 0
   }
  }
 },
 "nbformat": 4,
 "nbformat_minor": 5
}
