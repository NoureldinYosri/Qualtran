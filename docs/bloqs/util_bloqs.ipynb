{
 "cells": [
  {
   "cell_type": "markdown",
   "id": "3d7d85df",
   "metadata": {},
   "source": [
    "# Util Bloqs\n",
    "\n",
    "The utility bloqs let you reshape Soquets."
   ]
  },
  {
   "cell_type": "code",
   "execution_count": 1,
   "id": "31422993",
   "metadata": {
    "execution": {
     "iopub.execute_input": "2023-07-14T16:48:17.959869Z",
     "iopub.status.busy": "2023-07-14T16:48:17.959469Z",
     "iopub.status.idle": "2023-07-14T16:48:20.761359Z",
     "shell.execute_reply": "2023-07-14T16:48:20.760486Z"
    }
   },
   "outputs": [],
   "source": [
    "from qualtran.drawing import GraphDrawer, PrettyGraphDrawer\n",
    "from qualtran.bloqs.util_bloqs import Split, Join\n",
    "\n",
    "from IPython.display import SVG\n",
    "\n",
    "def show_bloq(bloq, draw_cls=PrettyGraphDrawer):\n",
    "    display(SVG(draw_cls(bloq).get_graph().create_svg()))"
   ]
  },
  {
   "cell_type": "markdown",
   "id": "bf300ec8",
   "metadata": {},
   "source": [
    "## Split and Join\n",
    "\n",
    "Split and join take a `bitsize=n, shape=()` to `bitsize=1, shape=(n,)` and back."
   ]
  },
  {
   "cell_type": "code",
   "execution_count": 2,
   "id": "00d29330",
   "metadata": {
    "execution": {
     "iopub.execute_input": "2023-07-14T16:48:20.765785Z",
     "iopub.status.busy": "2023-07-14T16:48:20.765464Z",
     "iopub.status.idle": "2023-07-14T16:48:20.833083Z",
     "shell.execute_reply": "2023-07-14T16:48:20.831810Z"
    }
   },
   "outputs": [
    {
     "data": {
      "image/svg+xml": [
       "<svg xmlns=\"http://www.w3.org/2000/svg\" xmlns:xlink=\"http://www.w3.org/1999/xlink\" width=\"204pt\" height=\"152pt\" viewBox=\"0.00 0.00 204.00 152.00\">\n",
       "<g id=\"graph0\" class=\"graph\" transform=\"scale(1 1) rotate(0) translate(4 148)\">\n",
       "<title>my_graph</title>\n",
       "<polygon fill=\"white\" stroke=\"transparent\" points=\"-4,4 -4,-148 200,-148 200,4 -4,4\"/>\n",
       "<!-- split_G7 -->\n",
       "<g id=\"node1\" class=\"node\">\n",
       "<title>split_G7</title>\n",
       "<text text-anchor=\"middle\" x=\"27\" y=\"-68.3\" font-family=\"Times,serif\" font-size=\"14.00\">split</text>\n",
       "</g>\n",
       "<!-- Split -->\n",
       "<g id=\"node2\" class=\"node\">\n",
       "<title>Split</title>\n",
       "<polygon fill=\"none\" stroke=\"black\" points=\"91,-81 91,-87 103,-87 103,-81 91,-81\"/>\n",
       "<polygon fill=\"none\" stroke=\"black\" points=\"91,-63 91,-81 97,-81 97,-63 91,-63\"/>\n",
       "<polygon fill=\"none\" stroke=\"black\" points=\"97,-75 97,-81 103,-81 103,-75 97,-75\"/>\n",
       "<polygon fill=\"none\" stroke=\"black\" points=\"97,-69 97,-75 103,-75 103,-69 97,-69\"/>\n",
       "<polygon fill=\"none\" stroke=\"black\" points=\"97,-63 97,-69 103,-69 103,-63 97,-63\"/>\n",
       "</g>\n",
       "<!-- split_G7&#45;&gt;Split -->\n",
       "<g id=\"edge1\" class=\"edge\">\n",
       "<title>split_G7:e-&gt;Split:w</title>\n",
       "<path fill=\"none\" stroke=\"black\" d=\"M54,-72C69.67,-72 74.14,-72 88.77,-72\"/>\n",
       "<ellipse fill=\"black\" stroke=\"black\" cx=\"90\" cy=\"-72\" rx=\"1\" ry=\"1\"/>\n",
       "<text text-anchor=\"middle\" x=\"72.5\" y=\"-75\" font-family=\"Times,serif\" font-size=\"10.00\">3</text>\n",
       "</g>\n",
       "<!-- split_G1 -->\n",
       "<g id=\"node3\" class=\"node\">\n",
       "<title>split_G1</title>\n",
       "<text text-anchor=\"middle\" x=\"168\" y=\"-122.3\" font-family=\"Times,serif\" font-size=\"14.00\">split[0]</text>\n",
       "</g>\n",
       "<!-- Split&#45;&gt;split_G1 -->\n",
       "<g id=\"edge2\" class=\"edge\">\n",
       "<title>Split:e-&gt;split_G1:w</title>\n",
       "<path fill=\"none\" stroke=\"black\" d=\"M103,-78C129.2,-78 113.95,-123.41 137.89,-125.89\"/>\n",
       "<ellipse fill=\"black\" stroke=\"black\" cx=\"139\" cy=\"-125.95\" rx=\"1\" ry=\"1\"/>\n",
       "<text text-anchor=\"middle\" x=\"121.5\" y=\"-106\" font-family=\"Times,serif\" font-size=\"10.00\">1</text>\n",
       "</g>\n",
       "<!-- split_G0 -->\n",
       "<g id=\"node4\" class=\"node\">\n",
       "<title>split_G0</title>\n",
       "<text text-anchor=\"middle\" x=\"168\" y=\"-68.3\" font-family=\"Times,serif\" font-size=\"14.00\">split[1]</text>\n",
       "</g>\n",
       "<!-- Split&#45;&gt;split_G0 -->\n",
       "<g id=\"edge3\" class=\"edge\">\n",
       "<title>Split:e-&gt;split_G0:w</title>\n",
       "<path fill=\"none\" stroke=\"black\" d=\"M103,-72C118.67,-72 123.14,-72 137.77,-72\"/>\n",
       "<ellipse fill=\"black\" stroke=\"black\" cx=\"139\" cy=\"-72\" rx=\"1\" ry=\"1\"/>\n",
       "<text text-anchor=\"middle\" x=\"121.5\" y=\"-75\" font-family=\"Times,serif\" font-size=\"10.00\">1</text>\n",
       "</g>\n",
       "<!-- split_G5 -->\n",
       "<g id=\"node5\" class=\"node\">\n",
       "<title>split_G5</title>\n",
       "<text text-anchor=\"middle\" x=\"168\" y=\"-14.3\" font-family=\"Times,serif\" font-size=\"14.00\">split[2]</text>\n",
       "</g>\n",
       "<!-- Split&#45;&gt;split_G5 -->\n",
       "<g id=\"edge4\" class=\"edge\">\n",
       "<title>Split:e-&gt;split_G5:w</title>\n",
       "<path fill=\"none\" stroke=\"black\" d=\"M103,-66C129.2,-66 113.95,-20.59 137.89,-18.11\"/>\n",
       "<ellipse fill=\"black\" stroke=\"black\" cx=\"139\" cy=\"-18.05\" rx=\"1\" ry=\"1\"/>\n",
       "<text text-anchor=\"middle\" x=\"121.5\" y=\"-46\" font-family=\"Times,serif\" font-size=\"10.00\">1</text>\n",
       "</g>\n",
       "</g>\n",
       "</svg>"
      ],
      "text/plain": [
       "<IPython.core.display.SVG object>"
      ]
     },
     "metadata": {},
     "output_type": "display_data"
    }
   ],
   "source": [
    "show_bloq(Split(3))"
   ]
  },
  {
   "cell_type": "code",
   "execution_count": 3,
   "id": "14fe912f",
   "metadata": {
    "execution": {
     "iopub.execute_input": "2023-07-14T16:48:20.837402Z",
     "iopub.status.busy": "2023-07-14T16:48:20.836968Z",
     "iopub.status.idle": "2023-07-14T16:48:20.908990Z",
     "shell.execute_reply": "2023-07-14T16:48:20.908021Z"
    }
   },
   "outputs": [
    {
     "data": {
      "image/svg+xml": [
       "<svg xmlns=\"http://www.w3.org/2000/svg\" xmlns:xlink=\"http://www.w3.org/1999/xlink\" width=\"202pt\" height=\"152pt\" viewBox=\"0.00 0.00 202.00 152.00\">\n",
       "<g id=\"graph0\" class=\"graph\" transform=\"scale(1 1) rotate(0) translate(4 148)\">\n",
       "<title>my_graph</title>\n",
       "<polygon fill=\"white\" stroke=\"transparent\" points=\"-4,4 -4,-148 198,-148 198,4 -4,4\"/>\n",
       "<!-- join_G0 -->\n",
       "<g id=\"node1\" class=\"node\">\n",
       "<title>join_G0</title>\n",
       "<text text-anchor=\"middle\" x=\"27\" y=\"-122.3\" font-family=\"Times,serif\" font-size=\"14.00\">join[0]</text>\n",
       "</g>\n",
       "<!-- Join -->\n",
       "<g id=\"node4\" class=\"node\">\n",
       "<title>Join</title>\n",
       "<polygon fill=\"none\" stroke=\"black\" points=\"91,-81 91,-87 103,-87 103,-81 91,-81\"/>\n",
       "<polygon fill=\"none\" stroke=\"black\" points=\"91,-75 91,-81 97,-81 97,-75 91,-75\"/>\n",
       "<polygon fill=\"none\" stroke=\"black\" points=\"97,-63 97,-81 103,-81 103,-63 97,-63\"/>\n",
       "<polygon fill=\"none\" stroke=\"black\" points=\"91,-69 91,-75 97,-75 97,-69 91,-69\"/>\n",
       "<polygon fill=\"none\" stroke=\"black\" points=\"91,-63 91,-69 97,-69 97,-63 91,-63\"/>\n",
       "</g>\n",
       "<!-- join_G0&#45;&gt;Join -->\n",
       "<g id=\"edge1\" class=\"edge\">\n",
       "<title>join_G0:e-&gt;Join:w</title>\n",
       "<path fill=\"none\" stroke=\"black\" d=\"M54,-126C80.2,-126 64.95,-80.59 88.89,-78.11\"/>\n",
       "<ellipse fill=\"black\" stroke=\"black\" cx=\"90\" cy=\"-78.05\" rx=\"1\" ry=\"1\"/>\n",
       "<text text-anchor=\"middle\" x=\"72.5\" y=\"-106\" font-family=\"Times,serif\" font-size=\"10.00\">1</text>\n",
       "</g>\n",
       "<!-- join_G4 -->\n",
       "<g id=\"node2\" class=\"node\">\n",
       "<title>join_G4</title>\n",
       "<text text-anchor=\"middle\" x=\"27\" y=\"-68.3\" font-family=\"Times,serif\" font-size=\"14.00\">join[1]</text>\n",
       "</g>\n",
       "<!-- join_G4&#45;&gt;Join -->\n",
       "<g id=\"edge2\" class=\"edge\">\n",
       "<title>join_G4:e-&gt;Join:w</title>\n",
       "<path fill=\"none\" stroke=\"black\" d=\"M54,-72C69.67,-72 74.14,-72 88.77,-72\"/>\n",
       "<ellipse fill=\"black\" stroke=\"black\" cx=\"90\" cy=\"-72\" rx=\"1\" ry=\"1\"/>\n",
       "<text text-anchor=\"middle\" x=\"72.5\" y=\"-75\" font-family=\"Times,serif\" font-size=\"10.00\">1</text>\n",
       "</g>\n",
       "<!-- join_G1 -->\n",
       "<g id=\"node3\" class=\"node\">\n",
       "<title>join_G1</title>\n",
       "<text text-anchor=\"middle\" x=\"27\" y=\"-14.3\" font-family=\"Times,serif\" font-size=\"14.00\">join[2]</text>\n",
       "</g>\n",
       "<!-- join_G1&#45;&gt;Join -->\n",
       "<g id=\"edge3\" class=\"edge\">\n",
       "<title>join_G1:e-&gt;Join:w</title>\n",
       "<path fill=\"none\" stroke=\"black\" d=\"M54,-18C80.2,-18 64.95,-63.41 88.89,-65.89\"/>\n",
       "<ellipse fill=\"black\" stroke=\"black\" cx=\"90\" cy=\"-65.95\" rx=\"1\" ry=\"1\"/>\n",
       "<text text-anchor=\"middle\" x=\"72.5\" y=\"-46\" font-family=\"Times,serif\" font-size=\"10.00\">1</text>\n",
       "</g>\n",
       "<!-- join_G3 -->\n",
       "<g id=\"node5\" class=\"node\">\n",
       "<title>join_G3</title>\n",
       "<text text-anchor=\"middle\" x=\"167\" y=\"-68.3\" font-family=\"Times,serif\" font-size=\"14.00\">join</text>\n",
       "</g>\n",
       "<!-- Join&#45;&gt;join_G3 -->\n",
       "<g id=\"edge4\" class=\"edge\">\n",
       "<title>Join:e-&gt;join_G3:w</title>\n",
       "<path fill=\"none\" stroke=\"black\" d=\"M103,-72C118.67,-72 123.14,-72 137.77,-72\"/>\n",
       "<ellipse fill=\"black\" stroke=\"black\" cx=\"139\" cy=\"-72\" rx=\"1\" ry=\"1\"/>\n",
       "<text text-anchor=\"middle\" x=\"121.5\" y=\"-75\" font-family=\"Times,serif\" font-size=\"10.00\">3</text>\n",
       "</g>\n",
       "</g>\n",
       "</svg>"
      ],
      "text/plain": [
       "<IPython.core.display.SVG object>"
      ]
     },
     "metadata": {},
     "output_type": "display_data"
    }
   ],
   "source": [
    "show_bloq(Join(3))"
   ]
  },
  {
   "cell_type": "markdown",
   "id": "c6e3ad7e",
   "metadata": {},
   "source": [
    "## SplitJoin\n",
    "\n",
    "For fun, we can pair `Split` and `Join` into an identity operation."
   ]
  },
  {
   "cell_type": "code",
   "execution_count": 4,
   "id": "b800d8e4",
   "metadata": {
    "execution": {
     "iopub.execute_input": "2023-07-14T16:48:20.911694Z",
     "iopub.status.busy": "2023-07-14T16:48:20.911495Z",
     "iopub.status.idle": "2023-07-14T16:48:20.916515Z",
     "shell.execute_reply": "2023-07-14T16:48:20.916041Z"
    }
   },
   "outputs": [],
   "source": [
    "from attrs import frozen\n",
    "from functools import cached_property\n",
    "from typing import *\n",
    "from qualtran import Bloq, Signature, Register\n",
    "\n",
    "@frozen\n",
    "class SplitJoin(Bloq):\n",
    "    n: int\n",
    "\n",
    "    @cached_property\n",
    "    def signature(self) -> Signature:\n",
    "        return Signature([Register('x', self.n)])\n",
    "\n",
    "    def build_composite_bloq(\n",
    "        self, bb: 'BloqBuilder', *, x: 'Soquet'\n",
    "    ) -> Dict[str, 'Soquet']:\n",
    "        xs = bb.split(x)\n",
    "        x = bb.join(xs)\n",
    "        return {'x': x}"
   ]
  },
  {
   "cell_type": "code",
   "execution_count": 5,
   "id": "57415820",
   "metadata": {
    "execution": {
     "iopub.execute_input": "2023-07-14T16:48:20.919376Z",
     "iopub.status.busy": "2023-07-14T16:48:20.919109Z",
     "iopub.status.idle": "2023-07-14T16:48:20.985046Z",
     "shell.execute_reply": "2023-07-14T16:48:20.984096Z"
    }
   },
   "outputs": [
    {
     "data": {
      "image/svg+xml": [
       "<svg xmlns=\"http://www.w3.org/2000/svg\" xmlns:xlink=\"http://www.w3.org/1999/xlink\" width=\"224pt\" height=\"54pt\" viewBox=\"0.00 0.00 224.00 54.00\">\n",
       "<g id=\"graph0\" class=\"graph\" transform=\"scale(1 1) rotate(0) translate(4 50)\">\n",
       "<title>my_graph</title>\n",
       "<polygon fill=\"white\" stroke=\"transparent\" points=\"-4,4 -4,-50 220,-50 220,4 -4,4\"/>\n",
       "<!-- x_G2 -->\n",
       "<g id=\"node1\" class=\"node\">\n",
       "<title>x_G2</title>\n",
       "<text text-anchor=\"middle\" x=\"27\" y=\"-14.3\" font-family=\"Times,serif\" font-size=\"14.00\">x</text>\n",
       "</g>\n",
       "<!-- SplitJoin -->\n",
       "<g id=\"node2\" class=\"node\">\n",
       "<title>SplitJoin</title>\n",
       "<polygon fill=\"none\" stroke=\"black\" points=\"91,-29 91,-46 125,-46 125,-29 91,-29\"/>\n",
       "<text text-anchor=\"start\" x=\"94\" y=\"-35\" font-family=\"Times,serif\" font-size=\"10.00\">SplitJ..</text>\n",
       "<polygon fill=\"none\" stroke=\"black\" points=\"91,-8 91,-29 125,-29 125,-8 91,-8\"/>\n",
       "<text text-anchor=\"start\" x=\"104.5\" y=\"-14.8\" font-family=\"Times,serif\" font-size=\"14.00\">x</text>\n",
       "</g>\n",
       "<!-- x_G2&#45;&gt;SplitJoin -->\n",
       "<g id=\"edge1\" class=\"edge\">\n",
       "<title>x_G2:e-&gt;SplitJoin:w</title>\n",
       "<path fill=\"none\" stroke=\"black\" d=\"M54,-18C69.67,-18 74.14,-18 88.77,-18\"/>\n",
       "<ellipse fill=\"black\" stroke=\"black\" cx=\"90\" cy=\"-18\" rx=\"1\" ry=\"1\"/>\n",
       "<text text-anchor=\"middle\" x=\"72.5\" y=\"-21\" font-family=\"Times,serif\" font-size=\"10.00\">10</text>\n",
       "</g>\n",
       "<!-- x_G0 -->\n",
       "<g id=\"node3\" class=\"node\">\n",
       "<title>x_G0</title>\n",
       "<text text-anchor=\"middle\" x=\"189\" y=\"-14.3\" font-family=\"Times,serif\" font-size=\"14.00\">x</text>\n",
       "</g>\n",
       "<!-- SplitJoin&#45;&gt;x_G0 -->\n",
       "<g id=\"edge2\" class=\"edge\">\n",
       "<title>SplitJoin:e-&gt;x_G0:w</title>\n",
       "<path fill=\"none\" stroke=\"black\" d=\"M125,-18C140.67,-18 145.14,-18 159.77,-18\"/>\n",
       "<ellipse fill=\"black\" stroke=\"black\" cx=\"161\" cy=\"-18\" rx=\"1\" ry=\"1\"/>\n",
       "<text text-anchor=\"middle\" x=\"143.5\" y=\"-21\" font-family=\"Times,serif\" font-size=\"10.00\">10</text>\n",
       "</g>\n",
       "</g>\n",
       "</svg>"
      ],
      "text/plain": [
       "<IPython.core.display.SVG object>"
      ]
     },
     "metadata": {},
     "output_type": "display_data"
    }
   ],
   "source": [
    "show_bloq(SplitJoin(10))"
   ]
  },
  {
   "cell_type": "code",
   "execution_count": 6,
   "id": "f9aedd60",
   "metadata": {
    "execution": {
     "iopub.execute_input": "2023-07-14T16:48:20.988420Z",
     "iopub.status.busy": "2023-07-14T16:48:20.988078Z",
     "iopub.status.idle": "2023-07-14T16:48:21.061602Z",
     "shell.execute_reply": "2023-07-14T16:48:21.060928Z"
    }
   },
   "outputs": [
    {
     "data": {
      "image/svg+xml": [
       "<svg xmlns=\"http://www.w3.org/2000/svg\" xmlns:xlink=\"http://www.w3.org/1999/xlink\" width=\"251pt\" height=\"135pt\" viewBox=\"0.00 0.00 251.00 135.00\">\n",
       "<g id=\"graph0\" class=\"graph\" transform=\"scale(1 1) rotate(0) translate(4 131)\">\n",
       "<title>my_graph</title>\n",
       "<polygon fill=\"white\" stroke=\"transparent\" points=\"-4,4 -4,-131 247,-131 247,4 -4,4\"/>\n",
       "<!-- x_G18 -->\n",
       "<g id=\"node1\" class=\"node\">\n",
       "<title>x_G18</title>\n",
       "<text text-anchor=\"middle\" x=\"27\" y=\"-26.3\" font-family=\"Times,serif\" font-size=\"14.00\">x</text>\n",
       "</g>\n",
       "<!-- Split -->\n",
       "<g id=\"node2\" class=\"node\">\n",
       "<title>Split</title>\n",
       "<polygon fill=\"none\" stroke=\"black\" points=\"91,-60 91,-66 103,-66 103,-60 91,-60\"/>\n",
       "<polygon fill=\"none\" stroke=\"black\" points=\"91,0 91,-60 97,-60 97,0 91,0\"/>\n",
       "<polygon fill=\"none\" stroke=\"black\" points=\"97,-54 97,-60 103,-60 103,-54 97,-54\"/>\n",
       "<polygon fill=\"none\" stroke=\"black\" points=\"97,-48 97,-54 103,-54 103,-48 97,-48\"/>\n",
       "<polygon fill=\"none\" stroke=\"black\" points=\"97,-42 97,-48 103,-48 103,-42 97,-42\"/>\n",
       "<polygon fill=\"none\" stroke=\"black\" points=\"97,-36 97,-42 103,-42 103,-36 97,-36\"/>\n",
       "<polygon fill=\"none\" stroke=\"black\" points=\"97,-30 97,-36 103,-36 103,-30 97,-30\"/>\n",
       "<polygon fill=\"none\" stroke=\"black\" points=\"97,-24 97,-30 103,-30 103,-24 97,-24\"/>\n",
       "<polygon fill=\"none\" stroke=\"black\" points=\"97,-18 97,-24 103,-24 103,-18 97,-18\"/>\n",
       "<polygon fill=\"none\" stroke=\"black\" points=\"97,-12 97,-18 103,-18 103,-12 97,-12\"/>\n",
       "<polygon fill=\"none\" stroke=\"black\" points=\"97,-6 97,-12 103,-12 103,-6 97,-6\"/>\n",
       "<polygon fill=\"none\" stroke=\"black\" points=\"97,0 97,-6 103,-6 103,0 97,0\"/>\n",
       "</g>\n",
       "<!-- x_G18&#45;&gt;Split -->\n",
       "<g id=\"edge1\" class=\"edge\">\n",
       "<title>x_G18:e-&gt;Split:w</title>\n",
       "<path fill=\"none\" stroke=\"black\" d=\"M54,-30C69.67,-30 74.14,-30 88.77,-30\"/>\n",
       "<ellipse fill=\"black\" stroke=\"black\" cx=\"90\" cy=\"-30\" rx=\"1\" ry=\"1\"/>\n",
       "<text text-anchor=\"middle\" x=\"72.5\" y=\"-33\" font-family=\"Times,serif\" font-size=\"10.00\">10</text>\n",
       "</g>\n",
       "<!-- Join -->\n",
       "<g id=\"node3\" class=\"node\">\n",
       "<title>Join</title>\n",
       "<polygon fill=\"none\" stroke=\"black\" points=\"140,-60 140,-66 152,-66 152,-60 140,-60\"/>\n",
       "<polygon fill=\"none\" stroke=\"black\" points=\"140,-54 140,-60 146,-60 146,-54 140,-54\"/>\n",
       "<polygon fill=\"none\" stroke=\"black\" points=\"146,0 146,-60 152,-60 152,0 146,0\"/>\n",
       "<polygon fill=\"none\" stroke=\"black\" points=\"140,-48 140,-54 146,-54 146,-48 140,-48\"/>\n",
       "<polygon fill=\"none\" stroke=\"black\" points=\"140,-42 140,-48 146,-48 146,-42 140,-42\"/>\n",
       "<polygon fill=\"none\" stroke=\"black\" points=\"140,-36 140,-42 146,-42 146,-36 140,-36\"/>\n",
       "<polygon fill=\"none\" stroke=\"black\" points=\"140,-30 140,-36 146,-36 146,-30 140,-30\"/>\n",
       "<polygon fill=\"none\" stroke=\"black\" points=\"140,-24 140,-30 146,-30 146,-24 140,-24\"/>\n",
       "<polygon fill=\"none\" stroke=\"black\" points=\"140,-18 140,-24 146,-24 146,-18 140,-18\"/>\n",
       "<polygon fill=\"none\" stroke=\"black\" points=\"140,-12 140,-18 146,-18 146,-12 140,-12\"/>\n",
       "<polygon fill=\"none\" stroke=\"black\" points=\"140,-6 140,-12 146,-12 146,-6 140,-6\"/>\n",
       "<polygon fill=\"none\" stroke=\"black\" points=\"140,0 140,-6 146,-6 146,0 140,0\"/>\n",
       "</g>\n",
       "<!-- Split&#45;&gt;Join -->\n",
       "<g id=\"edge2\" class=\"edge\">\n",
       "<title>Split:e-&gt;Join:w</title>\n",
       "<path fill=\"none\" stroke=\"black\" d=\"M103,-57C130.55,-57 99.86,-132.39 122,-116 143.43,-100.13 114.26,-59.31 137.88,-57.09\"/>\n",
       "<ellipse fill=\"black\" stroke=\"black\" cx=\"139\" cy=\"-57.04\" rx=\"1\" ry=\"1\"/>\n",
       "<text text-anchor=\"middle\" x=\"121.5\" y=\"-119\" font-family=\"Times,serif\" font-size=\"10.00\">1</text>\n",
       "</g>\n",
       "<!-- Split&#45;&gt;Join -->\n",
       "<g id=\"edge3\" class=\"edge\">\n",
       "<title>Split:e-&gt;Join:w</title>\n",
       "<path fill=\"none\" stroke=\"black\" d=\"M103,-51C123.08,-51 105.18,-102.98 122,-92 138.01,-81.54 121.5,-53.32 137.84,-51.13\"/>\n",
       "<ellipse fill=\"black\" stroke=\"black\" cx=\"139\" cy=\"-51.06\" rx=\"1\" ry=\"1\"/>\n",
       "<text text-anchor=\"middle\" x=\"121.5\" y=\"-95\" font-family=\"Times,serif\" font-size=\"10.00\">1</text>\n",
       "</g>\n",
       "<!-- Split&#45;&gt;Join -->\n",
       "<g id=\"edge4\" class=\"edge\">\n",
       "<title>Split:e-&gt;Join:w</title>\n",
       "<path fill=\"none\" stroke=\"black\" d=\"M103,-45C116.26,-45 110.08,-73.81 122,-68 132.94,-62.67 127.78,-47.12 137.79,-45.2\"/>\n",
       "<ellipse fill=\"black\" stroke=\"black\" cx=\"139\" cy=\"-45.09\" rx=\"1\" ry=\"1\"/>\n",
       "<text text-anchor=\"middle\" x=\"121.5\" y=\"-71\" font-family=\"Times,serif\" font-size=\"10.00\">1</text>\n",
       "</g>\n",
       "<!-- Split&#45;&gt;Join -->\n",
       "<g id=\"edge5\" class=\"edge\">\n",
       "<title>Split:e-&gt;Join:w</title>\n",
       "<path fill=\"none\" stroke=\"black\" d=\"M103,-39C111.3,-39 112.77,-42.88 121,-44 128.84,-45.07 130.9,-40.09 137.72,-39.15\"/>\n",
       "<ellipse fill=\"black\" stroke=\"black\" cx=\"139\" cy=\"-39.07\" rx=\"1\" ry=\"1\"/>\n",
       "<text text-anchor=\"middle\" x=\"121.5\" y=\"-47\" font-family=\"Times,serif\" font-size=\"10.00\">1</text>\n",
       "</g>\n",
       "<!-- Split&#45;&gt;Join -->\n",
       "<g id=\"edge6\" class=\"edge\">\n",
       "<title>Split:e-&gt;Join:w</title>\n",
       "<path fill=\"none\" stroke=\"black\" d=\"M103,-33C118.67,-33 123.14,-33 137.77,-33\"/>\n",
       "<ellipse fill=\"black\" stroke=\"black\" cx=\"139\" cy=\"-33\" rx=\"1\" ry=\"1\"/>\n",
       "<text text-anchor=\"middle\" x=\"121.5\" y=\"-36\" font-family=\"Times,serif\" font-size=\"10.00\">1</text>\n",
       "</g>\n",
       "<!-- Split&#45;&gt;Join -->\n",
       "<g id=\"edge7\" class=\"edge\">\n",
       "<title>Split:e-&gt;Join:w</title>\n",
       "<path fill=\"none\" stroke=\"black\" d=\"M103,-27C118.67,-27 123.14,-27 137.77,-27\"/>\n",
       "<ellipse fill=\"black\" stroke=\"black\" cx=\"139\" cy=\"-27\" rx=\"1\" ry=\"1\"/>\n",
       "<text text-anchor=\"middle\" x=\"121.5\" y=\"-30\" font-family=\"Times,serif\" font-size=\"10.00\">1</text>\n",
       "</g>\n",
       "<!-- Split&#45;&gt;Join -->\n",
       "<g id=\"edge8\" class=\"edge\">\n",
       "<title>Split:e-&gt;Join:w</title>\n",
       "<path fill=\"none\" stroke=\"black\" d=\"M103,-21C118.67,-21 123.14,-21 137.77,-21\"/>\n",
       "<ellipse fill=\"black\" stroke=\"black\" cx=\"139\" cy=\"-21\" rx=\"1\" ry=\"1\"/>\n",
       "<text text-anchor=\"middle\" x=\"121.5\" y=\"-24\" font-family=\"Times,serif\" font-size=\"10.00\">1</text>\n",
       "</g>\n",
       "<!-- Split&#45;&gt;Join -->\n",
       "<g id=\"edge9\" class=\"edge\">\n",
       "<title>Split:e-&gt;Join:w</title>\n",
       "<path fill=\"none\" stroke=\"black\" d=\"M103,-15C118.67,-15 123.14,-15 137.77,-15\"/>\n",
       "<ellipse fill=\"black\" stroke=\"black\" cx=\"139\" cy=\"-15\" rx=\"1\" ry=\"1\"/>\n",
       "<text text-anchor=\"middle\" x=\"121.5\" y=\"-18\" font-family=\"Times,serif\" font-size=\"10.00\">1</text>\n",
       "</g>\n",
       "<!-- Split&#45;&gt;Join -->\n",
       "<g id=\"edge10\" class=\"edge\">\n",
       "<title>Split:e-&gt;Join:w</title>\n",
       "<path fill=\"none\" stroke=\"black\" d=\"M103,-9C118.67,-9 123.14,-9 137.77,-9\"/>\n",
       "<ellipse fill=\"black\" stroke=\"black\" cx=\"139\" cy=\"-9\" rx=\"1\" ry=\"1\"/>\n",
       "<text text-anchor=\"middle\" x=\"121.5\" y=\"-12\" font-family=\"Times,serif\" font-size=\"10.00\">1</text>\n",
       "</g>\n",
       "<!-- Split&#45;&gt;Join -->\n",
       "<g id=\"edge11\" class=\"edge\">\n",
       "<title>Split:e-&gt;Join:w</title>\n",
       "<path fill=\"none\" stroke=\"black\" d=\"M103,-3C118.67,-3 123.14,-3 137.77,-3\"/>\n",
       "<ellipse fill=\"black\" stroke=\"black\" cx=\"139\" cy=\"-3\" rx=\"1\" ry=\"1\"/>\n",
       "<text text-anchor=\"middle\" x=\"121.5\" y=\"-6\" font-family=\"Times,serif\" font-size=\"10.00\">1</text>\n",
       "</g>\n",
       "<!-- x -->\n",
       "<g id=\"node4\" class=\"node\">\n",
       "<title>x</title>\n",
       "<text text-anchor=\"middle\" x=\"216\" y=\"-26.3\" font-family=\"Times,serif\" font-size=\"14.00\">x</text>\n",
       "</g>\n",
       "<!-- Join&#45;&gt;x -->\n",
       "<g id=\"edge12\" class=\"edge\">\n",
       "<title>Join:e-&gt;x:w</title>\n",
       "<path fill=\"none\" stroke=\"black\" d=\"M152,-30C167.67,-30 172.14,-30 186.77,-30\"/>\n",
       "<ellipse fill=\"black\" stroke=\"black\" cx=\"188\" cy=\"-30\" rx=\"1\" ry=\"1\"/>\n",
       "<text text-anchor=\"middle\" x=\"170.5\" y=\"-33\" font-family=\"Times,serif\" font-size=\"10.00\">10</text>\n",
       "</g>\n",
       "</g>\n",
       "</svg>"
      ],
      "text/plain": [
       "<IPython.core.display.SVG object>"
      ]
     },
     "metadata": {},
     "output_type": "display_data"
    }
   ],
   "source": [
    "show_bloq(SplitJoin(10).decompose_bloq())"
   ]
  }
 ],
 "metadata": {
  "kernelspec": {
   "display_name": "Python 3 (ipykernel)",
   "language": "python",
   "name": "python3"
  },
  "language_info": {
   "codemirror_mode": {
    "name": "ipython",
    "version": 3
   },
   "file_extension": ".py",
   "mimetype": "text/x-python",
   "name": "python",
   "nbconvert_exporter": "python",
   "pygments_lexer": "ipython3",
   "version": "3.10.11"
  }
 },
 "nbformat": 4,
 "nbformat_minor": 5
}
