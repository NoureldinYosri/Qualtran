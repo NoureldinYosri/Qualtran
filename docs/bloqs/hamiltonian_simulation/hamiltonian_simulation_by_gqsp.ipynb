{
 "cells": [
  {
   "cell_type": "markdown",
   "id": "337f7001",
   "metadata": {
    "cq.autogen": "title_cell"
   },
   "source": [
    "# Hamiltonian Simulation by Generalized Quantum Signal Processing"
   ]
  },
  {
   "cell_type": "code",
   "execution_count": 1,
   "id": "19a28d60",
   "metadata": {
    "cq.autogen": "top_imports"
   },
   "outputs": [],
   "source": [
    "from qualtran import Bloq, CompositeBloq, BloqBuilder, Signature, Register\n",
    "from qualtran import QBit, QInt, QUInt, QAny\n",
    "from qualtran.drawing import show_bloq, show_call_graph, show_counts_sigma\n",
    "from typing import *\n",
    "import numpy as np\n",
    "import sympy\n",
    "import cirq"
   ]
  },
  {
   "cell_type": "markdown",
   "id": "c4a2b917",
   "metadata": {
    "cq.autogen": "HamiltonianSimulationByGQSP.bloq_doc.md"
   },
   "source": [
    "## `HamiltonianSimulationByGQSP`\n",
    "Hamiltonian simulation using Generalized QSP given a qubitized quantum walk operator.\n",
    "\n",
    "Given the Szegedy Quantum Walk Operator for a Hamiltonian $H$ constructed from SELECT and PREPARE oracles,\n",
    "one can construct a block-encoding of $e^{-iHt}$ using GQSP (Corollary 8).\n",
    "\n",
    "### Recap: Qubitization Walk Operator\n",
    "\n",
    "For a Hamiltonian $H = \\sum_j \\alpha_j U_j$ where $U_j$ are unitaries and $\\alpha_j \\ge 0$,\n",
    "we are given the SELECT and PREPARE oracles:\n",
    "$$ \\text{SELECT} = \\sum_j |j\\rangle\\langle j| \\otimes U_j $$\n",
    "$$ \\text{PREPARE} |0\\rangle = \\sum_j \\frac{\\sqrt{\\alpha_j}}{\\|\\alpha\\|_1} |j\\rangle $$\n",
    "\n",
    "We can then implement the [QubitizationWalkOperator](../qubitization_walk_operator.ipynb) that encodes the spectrum of $H$ in the eigenphases of the walk operator $W$.\n",
    "\n",
    "### Approximating the function $e^{i\\theta} \\mapsto e^{it\\cos\\theta}$\n",
    "\n",
    "We can use the [Jacobi-Anger expansion](https://en.wikipedia.org/wiki/Jacobi%E2%80%93Anger_expansion) to obtain low-degree polynomial approximations for the $\\cos$ function:\n",
    "\n",
    "$$\n",
    "    e^{it\\cos\\theta} = \\sum_{n = -\\infty}^{\\infty} i^n J_n(t) (e^{i\\theta})^n\n",
    "$$\n",
    "where $J_n$ is the $n$-th [Bessel function of the first kind](https://en.wikipedia.org/wiki/Bessel_function#Bessel_functions_of_the_first_kind).\n",
    "\n",
    "If we cut-off the above to terms upto degree $d$, we get\n",
    "\n",
    "$$\n",
    "    P[t](z) = \\sum_{n = -d}^d i^n J_n(t) z^n\n",
    "$$\n",
    "\n",
    "Polynomial approximations of the above are provided in the [`qualtran.linalg.jacobi_anger_approximations`](../../linalg/jacobi_anger_approximations.py) module.\n",
    "\n",
    "### Simulation: Block-encoding $e^{-iHt}$\n",
    "\n",
    "As the eigenphases of the walk operator above are $e^{-i\\arccos(E_k / \\|\\alpha\\|_1)}$,\n",
    "we can use the GQSP polynomial with $P = P[-\\|\\alpha\\|_1 t]$ to obtain $P(U) = e^{-iHt}$.\n",
    "The obtained GQSP operator $G$ can then be used with two calls to the PREPARE oracle to simulate the hamiltonian:\n",
    "\n",
    "$$\n",
    "    (I \\otimes \\text{PREPARE}^\\dagger \\otimes I) G (I \\otimes \\text{PREPARE} \\otimes I) |0\\rangle|0\\rangle|\\psi\\rangle = |0\\rangle|0\\rangle e^{-iHt}|\\psi\\rangle\n",
    "$$\n",
    "\n",
    "This therefore block-encodes $e^{-iHt}$ in the block where the signal qubit and selection registers are all $|0\\rangle$.\n",
    "\n",
    "#### References\n",
    " - [Generalized Quantum Signal Processing](https://arxiv.org/abs/2308.01501).     Motlagh and Wiebe. (2023). Theorem 7, Corollary 8. \n",
    "\n",
    "#### Parameters\n",
    " - `walk_operator`: qubitization walk operator of $H$ constructed from SELECT and PREPARE oracles.\n",
    " - `t`: time to simulate the Hamiltonian, i.e. $e^{-iHt}$\n",
    " - `alpha`: the $1$-norm of the coefficients of the unitaries comprising the Hamiltonian $H$.\n",
    " - `precision`: the precision $\\epsilon$ to approximate $e^{it\\cos\\theta}$ to a polynomial.\n"
   ]
  },
  {
   "cell_type": "code",
   "execution_count": 2,
   "id": "ddf29316",
   "metadata": {
    "cq.autogen": "HamiltonianSimulationByGQSP.bloq_doc.py"
   },
   "outputs": [],
   "source": [
    "from qualtran.bloqs.hamiltonian_simulation.hamiltonian_simulation_by_gqsp import HamiltonianSimulationByGQSP"
   ]
  },
  {
   "cell_type": "markdown",
   "id": "63c77206",
   "metadata": {
    "cq.autogen": "HamiltonianSimulationByGQSP.example_instances.md"
   },
   "source": [
    "### Example Instances"
   ]
  },
  {
   "cell_type": "code",
   "execution_count": 3,
   "id": "7757dd77",
   "metadata": {
    "cq.autogen": "HamiltonianSimulationByGQSP.hubbard_time_evolution_by_gqsp"
   },
   "outputs": [],
   "source": [
    "from qualtran.bloqs.hubbard_model import get_walk_operator_for_hubbard_model\n",
    "\n",
    "walk_op = get_walk_operator_for_hubbard_model(2, 2, 1, 1)\n",
    "hubbard_time_evolution_by_gqsp = HamiltonianSimulationByGQSP(\n",
    "    walk_op, t=5, alpha=1, precision=1e-7\n",
    ")"
   ]
  },
  {
   "cell_type": "markdown",
   "id": "a6e29295",
   "metadata": {
    "cq.autogen": "HamiltonianSimulationByGQSP.graphical_signature.md"
   },
   "source": [
    "#### Graphical Signature"
   ]
  },
  {
   "cell_type": "code",
   "execution_count": 4,
   "id": "68558d61",
   "metadata": {
    "cq.autogen": "HamiltonianSimulationByGQSP.graphical_signature.py"
   },
   "outputs": [
    {
     "data": {
      "application/vnd.jupyter.widget-view+json": {
       "model_id": "dd0782f307934fef95bad244fc9eb604",
       "version_major": 2,
       "version_minor": 0
      },
      "text/plain": [
       "HBox(children=(Output(outputs=({'output_type': 'display_data', 'data': {'text/plain': '<IPython.core.display.M…"
      ]
     },
     "metadata": {},
     "output_type": "display_data"
    }
   ],
   "source": [
    "from qualtran.drawing import show_bloqs\n",
    "show_bloqs([hubbard_time_evolution_by_gqsp],\n",
    "           ['`hubbard_time_evolution_by_gqsp`'])"
   ]
  },
  {
   "cell_type": "markdown",
   "id": "4e6e9fc9",
   "metadata": {
    "cq.autogen": "HamiltonianSimulationByGQSP.call_graph.md"
   },
   "source": [
    "### Call Graph"
   ]
  },
  {
   "cell_type": "code",
   "execution_count": 5,
   "id": "22c2e259",
   "metadata": {
    "cq.autogen": "HamiltonianSimulationByGQSP.call_graph.py"
   },
   "outputs": [
    {
     "data": {
      "image/svg+xml": [
       "<svg xmlns=\"http://www.w3.org/2000/svg\" xmlns:xlink=\"http://www.w3.org/1999/xlink\" width=\"1053pt\" height=\"131pt\" viewBox=\"0.00 0.00 1053.00 131.00\">\n",
       "<g id=\"graph0\" class=\"graph\" transform=\"scale(1 1) rotate(0) translate(4 127)\">\n",
       "<title>counts</title>\n",
       "<polygon fill=\"white\" stroke=\"transparent\" points=\"-4,4 -4,-127 1049,-127 1049,4 -4,4\"/>\n",
       "<!-- b0 -->\n",
       "<g id=\"node1\" class=\"node\">\n",
       "<title>b0</title>\n",
       "<polygon fill=\"none\" stroke=\"black\" points=\"837,-123 478,-123 478,-87 837,-87 837,-123\"/>\n",
       "<text text-anchor=\"start\" x=\"568\" y=\"-106.8\" font-family=\"Times,serif\" font-size=\"14.00\">HamiltonianSimulationByGQSP</text>\n",
       "<text text-anchor=\"start\" x=\"486\" y=\"-96\" font-family=\"monospace\" font-size=\"10.00\">walk_operator=Qubitiza ..., t=5, alpha=1, precision=1e-07</text>\n",
       "</g>\n",
       "<!-- b1 -->\n",
       "<g id=\"node2\" class=\"node\">\n",
       "<title>b1</title>\n",
       "<polygon fill=\"none\" stroke=\"black\" points=\"125,-36 0,-36 0,0 125,0 125,-36\"/>\n",
       "<text text-anchor=\"start\" x=\"50\" y=\"-19.8\" font-family=\"Times,serif\" font-size=\"14.00\">Free</text>\n",
       "<text text-anchor=\"start\" x=\"8\" y=\"-9\" font-family=\"monospace\" font-size=\"10.00\">dtype=QAny(bit ...</text>\n",
       "</g>\n",
       "<!-- b0&#45;&gt;b1 -->\n",
       "<g id=\"edge1\" class=\"edge\">\n",
       "<title>b0-&gt;b1</title>\n",
       "<path fill=\"none\" stroke=\"black\" d=\"M491.31,-86.99C390.65,-75.59 259.6,-58.81 135.23,-36.23\"/>\n",
       "<polygon fill=\"black\" stroke=\"black\" points=\"135.61,-32.74 125.14,-34.38 134.35,-39.62 135.61,-32.74\"/>\n",
       "<text text-anchor=\"middle\" x=\"338\" y=\"-57.8\" font-family=\"Times,serif\" font-size=\"14.00\">1</text>\n",
       "</g>\n",
       "<!-- b2 -->\n",
       "<g id=\"node3\" class=\"node\">\n",
       "<title>b2</title>\n",
       "<polygon fill=\"none\" stroke=\"black\" points=\"550,-36 143,-36 143,0 550,0 550,-36\"/>\n",
       "<text text-anchor=\"start\" x=\"301\" y=\"-19.8\" font-family=\"Times,serif\" font-size=\"14.00\">GeneralizedQSP</text>\n",
       "<text text-anchor=\"start\" x=\"151\" y=\"-9\" font-family=\"monospace\" font-size=\"10.00\">U=Qubitiza ..., P=(4.79674 ..., Q=((-2.784 ..., negative_power=15</text>\n",
       "</g>\n",
       "<!-- b0&#45;&gt;b2 -->\n",
       "<g id=\"edge2\" class=\"edge\">\n",
       "<title>b0-&gt;b2</title>\n",
       "<path fill=\"none\" stroke=\"black\" d=\"M594.94,-86.9C544.01,-72.98 472.07,-53.32 418.7,-38.73\"/>\n",
       "<polygon fill=\"black\" stroke=\"black\" points=\"419.53,-35.33 408.96,-36.07 417.68,-42.08 419.53,-35.33\"/>\n",
       "<text text-anchor=\"middle\" x=\"525\" y=\"-57.8\" font-family=\"Times,serif\" font-size=\"14.00\">1</text>\n",
       "</g>\n",
       "<!-- b3 -->\n",
       "<g id=\"node4\" class=\"node\">\n",
       "<title>b3</title>\n",
       "<polygon fill=\"none\" stroke=\"black\" points=\"747,-36 568,-36 568,0 747,0 747,-36\"/>\n",
       "<text text-anchor=\"start\" x=\"613\" y=\"-19.8\" font-family=\"Times,serif\" font-size=\"14.00\">PrepareHubbard</text>\n",
       "<text text-anchor=\"start\" x=\"576\" y=\"-9\" font-family=\"monospace\" font-size=\"10.00\">x_dim=2, y_dim=2, t=1, mu=1</text>\n",
       "</g>\n",
       "<!-- b0&#45;&gt;b3 -->\n",
       "<g id=\"edge3\" class=\"edge\">\n",
       "<title>b0-&gt;b3</title>\n",
       "<path fill=\"none\" stroke=\"black\" d=\"M657.5,-86.8C657.5,-75.16 657.5,-59.55 657.5,-46.24\"/>\n",
       "<polygon fill=\"black\" stroke=\"black\" points=\"661,-46.18 657.5,-36.18 654,-46.18 661,-46.18\"/>\n",
       "<text text-anchor=\"middle\" x=\"661\" y=\"-57.8\" font-family=\"Times,serif\" font-size=\"14.00\">1</text>\n",
       "</g>\n",
       "<!-- b4 -->\n",
       "<g id=\"node5\" class=\"node\">\n",
       "<title>b4</title>\n",
       "<polygon fill=\"none\" stroke=\"black\" points=\"890,-36 765,-36 765,0 890,0 890,-36\"/>\n",
       "<text text-anchor=\"start\" x=\"804.5\" y=\"-19.8\" font-family=\"Times,serif\" font-size=\"14.00\">Allocate</text>\n",
       "<text text-anchor=\"start\" x=\"773\" y=\"-9\" font-family=\"monospace\" font-size=\"10.00\">dtype=QAny(bit ...</text>\n",
       "</g>\n",
       "<!-- b0&#45;&gt;b4 -->\n",
       "<g id=\"edge4\" class=\"edge\">\n",
       "<title>b0-&gt;b4</title>\n",
       "<path fill=\"none\" stroke=\"black\" d=\"M691.9,-86.8C718.6,-73.45 755.78,-54.86 784.45,-40.52\"/>\n",
       "<polygon fill=\"black\" stroke=\"black\" points=\"786.06,-43.63 793.44,-36.03 782.93,-37.37 786.06,-43.63\"/>\n",
       "<text text-anchor=\"middle\" x=\"757\" y=\"-57.8\" font-family=\"Times,serif\" font-size=\"14.00\">1</text>\n",
       "</g>\n",
       "<!-- b5 -->\n",
       "<g id=\"node6\" class=\"node\">\n",
       "<title>b5</title>\n",
       "<polygon fill=\"none\" stroke=\"black\" points=\"1045,-36 908,-36 908,0 1045,0 1045,-36\"/>\n",
       "<text text-anchor=\"start\" x=\"928.5\" y=\"-19.8\" font-family=\"Times,serif\" font-size=\"14.00\">PrepareHubbard†</text>\n",
       "<text text-anchor=\"start\" x=\"916\" y=\"-9\" font-family=\"monospace\" font-size=\"10.00\">subbloq=PrepareH ...</text>\n",
       "</g>\n",
       "<!-- b0&#45;&gt;b5 -->\n",
       "<g id=\"edge5\" class=\"edge\">\n",
       "<title>b0-&gt;b5</title>\n",
       "<path fill=\"none\" stroke=\"black\" d=\"M721.67,-86.9C773.91,-72.98 847.7,-53.32 902.44,-38.73\"/>\n",
       "<polygon fill=\"black\" stroke=\"black\" points=\"903.67,-42.03 912.43,-36.07 901.87,-35.26 903.67,-42.03\"/>\n",
       "<text text-anchor=\"middle\" x=\"840\" y=\"-57.8\" font-family=\"Times,serif\" font-size=\"14.00\">1</text>\n",
       "</g>\n",
       "</g>\n",
       "</svg>"
      ],
      "text/plain": [
       "<IPython.core.display.SVG object>"
      ]
     },
     "metadata": {},
     "output_type": "display_data"
    },
    {
     "data": {
      "text/markdown": [
       "#### Counts totals:\n",
       " - `Adjoint(subbloq=PrepareHubbard(x_dim=2, y_dim=2, t=1, mu=1))`: 1\n",
       " - `Allocate(dtype=QAny(bitsize=2))`: 1\n",
       " - `Free(dtype=QAny(bitsize=2))`: 1\n",
       " - `GeneralizedQSP(U=QubitizationWalkOperator(select=SelectHubbard(x_dim=2, y_dim=2, control_val=None), prepare=PrepareHubbard(x_dim=2, y_dim=2, t=1, mu=1), control_val=None, power=1), P=(4.796741607254014e-07j, (-2.8012948341383013e-06+0j), -1.5207576910449053e-05j, (7.627810510019691e-05+0j), 0.00035092732757049494j, (-0.0014678021362099828+0j), -0.005520281217269446j, (0.01840521024595998+0j), 0.05337639156980253j, (-0.13104868614948714+0j), -0.26114045518896645j, (0.3912322242284459+0j), 0.3648311035765469j, (-0.046565100063410525+0j), 0.3275790235258185j, (-0.17759670947373796+0j), 0.3275790235258185j, (-0.046565100063410525+0j), 0.3648311035765469j, (0.3912322242284459+0j), -0.26114045518896645j, (-0.13104868614948714+0j), 0.05337639156980253j, (0.01840521024595998+0j), -0.005520281217269446j, (-0.0014678021362099828+0j), 0.00035092732757049494j, (7.627810510019691e-05+0j), -1.5207576910449053e-05j, (-2.8012948341383013e-06+0j), 4.796741607254014e-07j), Q=((-2.7849987216524566e-10-2.569542707536054e-25j), (-7.435272515423475e-25+4.040851927646911e-21j), (8.162365350347383e-09+1.3296016733463155e-23j), (7.837651969199334e-23-1.1297695397459083e-19j), (-1.70202027196286e-07-5.374389921736686e-22j), (-1.5227438111587277e-21+2.308793123795399e-18j), (2.3340586104644187e-06+8.95731653622781e-21j), (9.315609197676923e-21-3.0483539636090485e-17j), (-1.84320508591336e-05-7.739121487300827e-20j), (-8.599023874778698e-20+2.2079426969140102e-16j), (6.294434019397928e-05+4.0917021937488637e-19j), (4.417748515667556e-19-5.391129354879588e-16j), (-1.7161719760110186e-05-1.163734564386717e-18j), (-1.1494028579287526e-18-1.0209334412395588e-15j), (-4.207923270831525e-05+1.4116730861095029e-18j), (1.5542735653662496e-18+9.013382171891366e-16j), (-2.02233244217195e-05-4.629141185922532e-19j), (-4.299511937389349e-20+4.194672638308047e-15j), (8.054827402869949e-05+7.452487358141538e-19j), (2.7803510528451124e-19+4.7899085362853944e-15j), (-2.2700710556802724e-05-1.9362135424710032e-18j), (-1.3987745502973349e-18-3.4160803275170515e-14j), (-4.020155567231802e-06+4.494423145217666e-18j), (-7.452487358141538e-19+2.7008272800511587e-15j), (9.059107472157617e-07-5.113552864201732e-18j), (3.846630013317671e-18+1.2706376291979658e-15j), (6.224591868451106e-06+7.429556627808795e-18j), (2.132557920945117e-18-1.6518472625416217e-14j), (4.8948989929085175e-06-4.293779254806163e-18j), (1.9720428086159147e-18-1.1982040382228966e-14j), (0.0008261666286550046+0j)), negative_power=15)`: 1\n",
       " - `PrepareHubbard(x_dim=2, y_dim=2, t=1, mu=1)`: 1"
      ],
      "text/plain": [
       "<IPython.core.display.Markdown object>"
      ]
     },
     "metadata": {},
     "output_type": "display_data"
    }
   ],
   "source": [
    "from qualtran.resource_counting.generalizers import ignore_split_join\n",
    "hubbard_time_evolution_by_gqsp_g, hubbard_time_evolution_by_gqsp_sigma = hubbard_time_evolution_by_gqsp.call_graph(max_depth=1, generalizer=ignore_split_join)\n",
    "show_call_graph(hubbard_time_evolution_by_gqsp_g)\n",
    "show_counts_sigma(hubbard_time_evolution_by_gqsp_sigma)"
   ]
  }
 ],
 "metadata": {
  "kernelspec": {
   "display_name": "Python 3",
   "language": "python",
   "name": "python3"
  },
  "language_info": {
   "codemirror_mode": {
    "name": "ipython",
    "version": 3
   },
   "file_extension": ".py",
   "mimetype": "text/x-python",
   "name": "python",
   "nbconvert_exporter": "python",
   "pygments_lexer": "ipython3",
   "version": "3.11.8"
  },
  "widgets": {
   "application/vnd.jupyter.widget-state+json": {
    "state": {
     "8ae62b0397e946d182affb3777988b3b": {
      "model_module": "@jupyter-widgets/output",
      "model_module_version": "1.0.0",
      "model_name": "OutputModel",
      "state": {
       "_dom_classes": [],
       "_model_module": "@jupyter-widgets/output",
       "_model_module_version": "1.0.0",
       "_model_name": "OutputModel",
       "_view_count": null,
       "_view_module": "@jupyter-widgets/output",
       "_view_module_version": "1.0.0",
       "_view_name": "OutputView",
       "layout": "IPY_MODEL_f8d7c083285a44bc821f9c042d130857",
       "msg_id": "",
       "outputs": [
        {
         "data": {
          "text/markdown": "`hubbard_time_evolution_by_gqsp`",
          "text/plain": "<IPython.core.display.Markdown object>"
         },
         "metadata": {},
         "output_type": "display_data"
        },
        {
         "data": {
          "image/svg+xml": "<svg xmlns=\"http://www.w3.org/2000/svg\" xmlns:xlink=\"http://www.w3.org/1999/xlink\" width=\"240pt\" height=\"530pt\" viewBox=\"0.00 0.00 240.00 530.00\">\n<g id=\"graph0\" class=\"graph\" transform=\"scale(1 1) rotate(0) translate(4 526)\">\n<title>my_graph</title>\n<polygon fill=\"white\" stroke=\"transparent\" points=\"-4,4 -4,-526 236,-526 236,4 -4,4\"/>\n<!-- signal_G12 -->\n<g id=\"node1\" class=\"node\">\n<title>signal_G12</title>\n<text text-anchor=\"middle\" x=\"27\" y=\"-500.3\" font-family=\"Times,serif\" font-size=\"14.00\">signal</text>\n</g>\n<!-- HamiltonianSimulationByGQSP -->\n<g id=\"node11\" class=\"node\">\n<title>HamiltonianSimulationByGQSP</title>\n<polygon fill=\"none\" stroke=\"black\" points=\"91,-366 91,-383 141,-383 141,-366 91,-366\"/>\n<text text-anchor=\"start\" x=\"94\" y=\"-372\" font-family=\"Times,serif\" font-size=\"10.00\">Hamilton..</text>\n<polygon fill=\"none\" stroke=\"black\" points=\"91,-345 91,-366 141,-366 141,-345 91,-345\"/>\n<text text-anchor=\"start\" x=\"99.5\" y=\"-351.8\" font-family=\"Times,serif\" font-size=\"14.00\">signal</text>\n<polygon fill=\"none\" stroke=\"black\" points=\"91,-324 91,-345 141,-345 141,-324 91,-324\"/>\n<text text-anchor=\"start\" x=\"111\" y=\"-330.8\" font-family=\"Times,serif\" font-size=\"14.00\">U</text>\n<polygon fill=\"none\" stroke=\"black\" points=\"91,-303 91,-324 141,-324 141,-303 91,-303\"/>\n<text text-anchor=\"start\" x=\"111\" y=\"-309.8\" font-family=\"Times,serif\" font-size=\"14.00\">V</text>\n<polygon fill=\"none\" stroke=\"black\" points=\"91,-282 91,-303 141,-303 141,-282 91,-282\"/>\n<text text-anchor=\"start\" x=\"105.5\" y=\"-288.8\" font-family=\"Times,serif\" font-size=\"14.00\">p_x</text>\n<polygon fill=\"none\" stroke=\"black\" points=\"91,-261 91,-282 141,-282 141,-261 91,-261\"/>\n<text text-anchor=\"start\" x=\"105.5\" y=\"-267.8\" font-family=\"Times,serif\" font-size=\"14.00\">p_y</text>\n<polygon fill=\"none\" stroke=\"black\" points=\"91,-240 91,-261 141,-261 141,-240 91,-240\"/>\n<text text-anchor=\"start\" x=\"101\" y=\"-246.8\" font-family=\"Times,serif\" font-size=\"14.00\">alpha</text>\n<polygon fill=\"none\" stroke=\"black\" points=\"91,-219 91,-240 141,-240 141,-219 91,-219\"/>\n<text text-anchor=\"start\" x=\"105.5\" y=\"-225.8\" font-family=\"Times,serif\" font-size=\"14.00\">q_x</text>\n<polygon fill=\"none\" stroke=\"black\" points=\"91,-198 91,-219 141,-219 141,-198 91,-198\"/>\n<text text-anchor=\"start\" x=\"105.5\" y=\"-204.8\" font-family=\"Times,serif\" font-size=\"14.00\">q_y</text>\n<polygon fill=\"none\" stroke=\"black\" points=\"91,-177 91,-198 141,-198 141,-177 91,-177\"/>\n<text text-anchor=\"start\" x=\"104.5\" y=\"-183.8\" font-family=\"Times,serif\" font-size=\"14.00\">beta</text>\n<polygon fill=\"none\" stroke=\"black\" points=\"91,-156 91,-177 141,-177 141,-156 91,-156\"/>\n<text text-anchor=\"start\" x=\"100.5\" y=\"-162.8\" font-family=\"Times,serif\" font-size=\"14.00\">target</text>\n</g>\n<!-- signal_G12&#45;&gt;HamiltonianSimulationByGQSP -->\n<g id=\"edge1\" class=\"edge\">\n<title>signal_G12:e-&gt;HamiltonianSimulationByGQSP:w</title>\n<path fill=\"none\" stroke=\"black\" d=\"M54,-504C87.11,-504 58.51,-362.86 88.72,-356.24\"/>\n<ellipse fill=\"black\" stroke=\"black\" cx=\"90.01\" cy=\"-356.1\" rx=\"1\" ry=\"1\"/>\n<text text-anchor=\"middle\" x=\"72.5\" y=\"-450\" font-family=\"Times,serif\" font-size=\"10.00\">1</text>\n</g>\n<!-- U_G22 -->\n<g id=\"node2\" class=\"node\">\n<title>U_G22</title>\n<text text-anchor=\"middle\" x=\"27\" y=\"-446.3\" font-family=\"Times,serif\" font-size=\"14.00\">U</text>\n</g>\n<!-- U_G22&#45;&gt;HamiltonianSimulationByGQSP -->\n<g id=\"edge2\" class=\"edge\">\n<title>U_G22:e-&gt;HamiltonianSimulationByGQSP:w</title>\n<path fill=\"none\" stroke=\"black\" d=\"M54,-450C80.11,-450 65.03,-341.2 88.89,-335.25\"/>\n<ellipse fill=\"black\" stroke=\"black\" cx=\"90.01\" cy=\"-335.12\" rx=\"1\" ry=\"1\"/>\n<text text-anchor=\"middle\" x=\"72.5\" y=\"-398\" font-family=\"Times,serif\" font-size=\"10.00\">1</text>\n</g>\n<!-- V_G28 -->\n<g id=\"node3\" class=\"node\">\n<title>V_G28</title>\n<text text-anchor=\"middle\" x=\"27\" y=\"-392.3\" font-family=\"Times,serif\" font-size=\"14.00\">V</text>\n</g>\n<!-- V_G28&#45;&gt;HamiltonianSimulationByGQSP -->\n<g id=\"edge3\" class=\"edge\">\n<title>V_G28:e-&gt;HamiltonianSimulationByGQSP:w</title>\n<path fill=\"none\" stroke=\"black\" d=\"M54,-396C93.2,-396 52.66,-317.17 88.75,-314.09\"/>\n<ellipse fill=\"black\" stroke=\"black\" cx=\"90\" cy=\"-314.04\" rx=\"1\" ry=\"1\"/>\n<text text-anchor=\"middle\" x=\"72.5\" y=\"-381\" font-family=\"Times,serif\" font-size=\"10.00\">1</text>\n</g>\n<!-- p_x_G29 -->\n<g id=\"node4\" class=\"node\">\n<title>p_x_G29</title>\n<text text-anchor=\"middle\" x=\"27\" y=\"-338.3\" font-family=\"Times,serif\" font-size=\"14.00\">p_x</text>\n</g>\n<!-- p_x_G29&#45;&gt;HamiltonianSimulationByGQSP -->\n<g id=\"edge4\" class=\"edge\">\n<title>p_x_G29:e-&gt;HamiltonianSimulationByGQSP:w</title>\n<path fill=\"none\" stroke=\"black\" d=\"M54,-342C80.54,-342 64.64,-295.64 88.86,-293.11\"/>\n<ellipse fill=\"black\" stroke=\"black\" cx=\"90\" cy=\"-293.05\" rx=\"1\" ry=\"1\"/>\n<text text-anchor=\"middle\" x=\"72.5\" y=\"-321\" font-family=\"Times,serif\" font-size=\"10.00\">1</text>\n</g>\n<!-- p_y_G4 -->\n<g id=\"node5\" class=\"node\">\n<title>p_y_G4</title>\n<text text-anchor=\"middle\" x=\"27\" y=\"-284.3\" font-family=\"Times,serif\" font-size=\"14.00\">p_y</text>\n</g>\n<!-- p_y_G4&#45;&gt;HamiltonianSimulationByGQSP -->\n<g id=\"edge5\" class=\"edge\">\n<title>p_y_G4:e-&gt;HamiltonianSimulationByGQSP:w</title>\n<path fill=\"none\" stroke=\"black\" d=\"M54,-288C71.22,-288 72.97,-273.23 88.98,-272.07\"/>\n<ellipse fill=\"black\" stroke=\"black\" cx=\"90\" cy=\"-272.04\" rx=\"1\" ry=\"1\"/>\n<text text-anchor=\"middle\" x=\"72.5\" y=\"-283\" font-family=\"Times,serif\" font-size=\"10.00\">1</text>\n</g>\n<!-- alpha_G17 -->\n<g id=\"node6\" class=\"node\">\n<title>alpha_G17</title>\n<text text-anchor=\"middle\" x=\"27\" y=\"-230.3\" font-family=\"Times,serif\" font-size=\"14.00\">alpha</text>\n</g>\n<!-- alpha_G17&#45;&gt;HamiltonianSimulationByGQSP -->\n<g id=\"edge6\" class=\"edge\">\n<title>alpha_G17:e-&gt;HamiltonianSimulationByGQSP:w</title>\n<path fill=\"none\" stroke=\"black\" d=\"M54,-234C71.22,-234 72.97,-248.77 88.98,-249.93\"/>\n<ellipse fill=\"black\" stroke=\"black\" cx=\"90\" cy=\"-249.96\" rx=\"1\" ry=\"1\"/>\n<text text-anchor=\"middle\" x=\"72.5\" y=\"-245\" font-family=\"Times,serif\" font-size=\"10.00\">1</text>\n</g>\n<!-- q_x_G18 -->\n<g id=\"node7\" class=\"node\">\n<title>q_x_G18</title>\n<text text-anchor=\"middle\" x=\"27\" y=\"-176.3\" font-family=\"Times,serif\" font-size=\"14.00\">q_x</text>\n</g>\n<!-- q_x_G18&#45;&gt;HamiltonianSimulationByGQSP -->\n<g id=\"edge7\" class=\"edge\">\n<title>q_x_G18:e-&gt;HamiltonianSimulationByGQSP:w</title>\n<path fill=\"none\" stroke=\"black\" d=\"M54,-180C80.54,-180 64.64,-226.36 88.86,-228.89\"/>\n<ellipse fill=\"black\" stroke=\"black\" cx=\"90\" cy=\"-228.95\" rx=\"1\" ry=\"1\"/>\n<text text-anchor=\"middle\" x=\"72.5\" y=\"-208\" font-family=\"Times,serif\" font-size=\"10.00\">1</text>\n</g>\n<!-- q_y_G0 -->\n<g id=\"node8\" class=\"node\">\n<title>q_y_G0</title>\n<text text-anchor=\"middle\" x=\"27\" y=\"-122.3\" font-family=\"Times,serif\" font-size=\"14.00\">q_y</text>\n</g>\n<!-- q_y_G0&#45;&gt;HamiltonianSimulationByGQSP -->\n<g id=\"edge8\" class=\"edge\">\n<title>q_y_G0:e-&gt;HamiltonianSimulationByGQSP:w</title>\n<path fill=\"none\" stroke=\"black\" d=\"M54,-126C93.2,-126 52.66,-204.83 88.75,-207.91\"/>\n<ellipse fill=\"black\" stroke=\"black\" cx=\"90\" cy=\"-207.96\" rx=\"1\" ry=\"1\"/>\n<text text-anchor=\"middle\" x=\"72.5\" y=\"-193\" font-family=\"Times,serif\" font-size=\"10.00\">1</text>\n</g>\n<!-- beta_G25 -->\n<g id=\"node9\" class=\"node\">\n<title>beta_G25</title>\n<text text-anchor=\"middle\" x=\"27\" y=\"-68.3\" font-family=\"Times,serif\" font-size=\"14.00\">beta</text>\n</g>\n<!-- beta_G25&#45;&gt;HamiltonianSimulationByGQSP -->\n<g id=\"edge9\" class=\"edge\">\n<title>beta_G25:e-&gt;HamiltonianSimulationByGQSP:w</title>\n<path fill=\"none\" stroke=\"black\" d=\"M54,-72C80.11,-72 65.03,-180.8 88.89,-186.75\"/>\n<ellipse fill=\"black\" stroke=\"black\" cx=\"90.01\" cy=\"-186.88\" rx=\"1\" ry=\"1\"/>\n<text text-anchor=\"middle\" x=\"72.5\" y=\"-135\" font-family=\"Times,serif\" font-size=\"10.00\">1</text>\n</g>\n<!-- target_G26 -->\n<g id=\"node10\" class=\"node\">\n<title>target_G26</title>\n<text text-anchor=\"middle\" x=\"27\" y=\"-14.3\" font-family=\"Times,serif\" font-size=\"14.00\">target</text>\n</g>\n<!-- target_G26&#45;&gt;HamiltonianSimulationByGQSP -->\n<g id=\"edge10\" class=\"edge\">\n<title>target_G26:e-&gt;HamiltonianSimulationByGQSP:w</title>\n<path fill=\"none\" stroke=\"black\" d=\"M54,-18C87.11,-18 58.51,-159.14 88.72,-165.76\"/>\n<ellipse fill=\"black\" stroke=\"black\" cx=\"90.01\" cy=\"-165.9\" rx=\"1\" ry=\"1\"/>\n<text text-anchor=\"middle\" x=\"72.5\" y=\"-113\" font-family=\"Times,serif\" font-size=\"10.00\">8</text>\n</g>\n<!-- signal_G5 -->\n<g id=\"node12\" class=\"node\">\n<title>signal_G5</title>\n<text text-anchor=\"middle\" x=\"205\" y=\"-500.3\" font-family=\"Times,serif\" font-size=\"14.00\">signal</text>\n</g>\n<!-- HamiltonianSimulationByGQSP&#45;&gt;signal_G5 -->\n<g id=\"edge11\" class=\"edge\">\n<title>HamiltonianSimulationByGQSP:e-&gt;signal_G5:w</title>\n<path fill=\"none\" stroke=\"black\" d=\"M141,-356C174.11,-356 145.51,-497.14 175.72,-503.76\"/>\n<ellipse fill=\"black\" stroke=\"black\" cx=\"177.01\" cy=\"-503.9\" rx=\"1\" ry=\"1\"/>\n<text text-anchor=\"middle\" x=\"159.5\" y=\"-450\" font-family=\"Times,serif\" font-size=\"10.00\">1</text>\n</g>\n<!-- U_G13 -->\n<g id=\"node13\" class=\"node\">\n<title>U_G13</title>\n<text text-anchor=\"middle\" x=\"205\" y=\"-446.3\" font-family=\"Times,serif\" font-size=\"14.00\">U</text>\n</g>\n<!-- HamiltonianSimulationByGQSP&#45;&gt;U_G13 -->\n<g id=\"edge12\" class=\"edge\">\n<title>HamiltonianSimulationByGQSP:e-&gt;U_G13:w</title>\n<path fill=\"none\" stroke=\"black\" d=\"M141,-335C167.11,-335 152.03,-443.8 175.89,-449.75\"/>\n<ellipse fill=\"black\" stroke=\"black\" cx=\"177.01\" cy=\"-449.88\" rx=\"1\" ry=\"1\"/>\n<text text-anchor=\"middle\" x=\"159.5\" y=\"-398\" font-family=\"Times,serif\" font-size=\"10.00\">1</text>\n</g>\n<!-- V_G10 -->\n<g id=\"node14\" class=\"node\">\n<title>V_G10</title>\n<text text-anchor=\"middle\" x=\"205\" y=\"-392.3\" font-family=\"Times,serif\" font-size=\"14.00\">V</text>\n</g>\n<!-- HamiltonianSimulationByGQSP&#45;&gt;V_G10 -->\n<g id=\"edge13\" class=\"edge\">\n<title>HamiltonianSimulationByGQSP:e-&gt;V_G10:w</title>\n<path fill=\"none\" stroke=\"black\" d=\"M141,-314C180.2,-314 139.66,-392.83 175.75,-395.91\"/>\n<ellipse fill=\"black\" stroke=\"black\" cx=\"177\" cy=\"-395.96\" rx=\"1\" ry=\"1\"/>\n<text text-anchor=\"middle\" x=\"159.5\" y=\"-381\" font-family=\"Times,serif\" font-size=\"10.00\">1</text>\n</g>\n<!-- p_x_G15 -->\n<g id=\"node15\" class=\"node\">\n<title>p_x_G15</title>\n<text text-anchor=\"middle\" x=\"205\" y=\"-338.3\" font-family=\"Times,serif\" font-size=\"14.00\">p_x</text>\n</g>\n<!-- HamiltonianSimulationByGQSP&#45;&gt;p_x_G15 -->\n<g id=\"edge14\" class=\"edge\">\n<title>HamiltonianSimulationByGQSP:e-&gt;p_x_G15:w</title>\n<path fill=\"none\" stroke=\"black\" d=\"M141,-293C167.54,-293 151.64,-339.36 175.86,-341.89\"/>\n<ellipse fill=\"black\" stroke=\"black\" cx=\"177\" cy=\"-341.95\" rx=\"1\" ry=\"1\"/>\n<text text-anchor=\"middle\" x=\"159.5\" y=\"-321\" font-family=\"Times,serif\" font-size=\"10.00\">1</text>\n</g>\n<!-- p_y_G6 -->\n<g id=\"node16\" class=\"node\">\n<title>p_y_G6</title>\n<text text-anchor=\"middle\" x=\"205\" y=\"-284.3\" font-family=\"Times,serif\" font-size=\"14.00\">p_y</text>\n</g>\n<!-- HamiltonianSimulationByGQSP&#45;&gt;p_y_G6 -->\n<g id=\"edge15\" class=\"edge\">\n<title>HamiltonianSimulationByGQSP:e-&gt;p_y_G6:w</title>\n<path fill=\"none\" stroke=\"black\" d=\"M141,-272C158.22,-272 159.97,-286.77 175.98,-287.93\"/>\n<ellipse fill=\"black\" stroke=\"black\" cx=\"177\" cy=\"-287.96\" rx=\"1\" ry=\"1\"/>\n<text text-anchor=\"middle\" x=\"159.5\" y=\"-283\" font-family=\"Times,serif\" font-size=\"10.00\">1</text>\n</g>\n<!-- alpha_G8 -->\n<g id=\"node17\" class=\"node\">\n<title>alpha_G8</title>\n<text text-anchor=\"middle\" x=\"205\" y=\"-230.3\" font-family=\"Times,serif\" font-size=\"14.00\">alpha</text>\n</g>\n<!-- HamiltonianSimulationByGQSP&#45;&gt;alpha_G8 -->\n<g id=\"edge16\" class=\"edge\">\n<title>HamiltonianSimulationByGQSP:e-&gt;alpha_G8:w</title>\n<path fill=\"none\" stroke=\"black\" d=\"M141,-250C158.22,-250 159.97,-235.23 175.98,-234.07\"/>\n<ellipse fill=\"black\" stroke=\"black\" cx=\"177\" cy=\"-234.04\" rx=\"1\" ry=\"1\"/>\n<text text-anchor=\"middle\" x=\"159.5\" y=\"-245\" font-family=\"Times,serif\" font-size=\"10.00\">1</text>\n</g>\n<!-- q_x_G20 -->\n<g id=\"node18\" class=\"node\">\n<title>q_x_G20</title>\n<text text-anchor=\"middle\" x=\"205\" y=\"-176.3\" font-family=\"Times,serif\" font-size=\"14.00\">q_x</text>\n</g>\n<!-- HamiltonianSimulationByGQSP&#45;&gt;q_x_G20 -->\n<g id=\"edge17\" class=\"edge\">\n<title>HamiltonianSimulationByGQSP:e-&gt;q_x_G20:w</title>\n<path fill=\"none\" stroke=\"black\" d=\"M141,-229C167.54,-229 151.64,-182.64 175.86,-180.11\"/>\n<ellipse fill=\"black\" stroke=\"black\" cx=\"177\" cy=\"-180.05\" rx=\"1\" ry=\"1\"/>\n<text text-anchor=\"middle\" x=\"159.5\" y=\"-208\" font-family=\"Times,serif\" font-size=\"10.00\">1</text>\n</g>\n<!-- q_y_G14 -->\n<g id=\"node19\" class=\"node\">\n<title>q_y_G14</title>\n<text text-anchor=\"middle\" x=\"205\" y=\"-122.3\" font-family=\"Times,serif\" font-size=\"14.00\">q_y</text>\n</g>\n<!-- HamiltonianSimulationByGQSP&#45;&gt;q_y_G14 -->\n<g id=\"edge18\" class=\"edge\">\n<title>HamiltonianSimulationByGQSP:e-&gt;q_y_G14:w</title>\n<path fill=\"none\" stroke=\"black\" d=\"M141,-208C180.2,-208 139.66,-129.17 175.75,-126.09\"/>\n<ellipse fill=\"black\" stroke=\"black\" cx=\"177\" cy=\"-126.04\" rx=\"1\" ry=\"1\"/>\n<text text-anchor=\"middle\" x=\"159.5\" y=\"-193\" font-family=\"Times,serif\" font-size=\"10.00\">1</text>\n</g>\n<!-- beta_G2 -->\n<g id=\"node20\" class=\"node\">\n<title>beta_G2</title>\n<text text-anchor=\"middle\" x=\"205\" y=\"-68.3\" font-family=\"Times,serif\" font-size=\"14.00\">beta</text>\n</g>\n<!-- HamiltonianSimulationByGQSP&#45;&gt;beta_G2 -->\n<g id=\"edge19\" class=\"edge\">\n<title>HamiltonianSimulationByGQSP:e-&gt;beta_G2:w</title>\n<path fill=\"none\" stroke=\"black\" d=\"M141,-187C167.11,-187 152.03,-78.2 175.89,-72.25\"/>\n<ellipse fill=\"black\" stroke=\"black\" cx=\"177.01\" cy=\"-72.12\" rx=\"1\" ry=\"1\"/>\n<text text-anchor=\"middle\" x=\"159.5\" y=\"-135\" font-family=\"Times,serif\" font-size=\"10.00\">1</text>\n</g>\n<!-- target_G23 -->\n<g id=\"node21\" class=\"node\">\n<title>target_G23</title>\n<text text-anchor=\"middle\" x=\"205\" y=\"-14.3\" font-family=\"Times,serif\" font-size=\"14.00\">target</text>\n</g>\n<!-- HamiltonianSimulationByGQSP&#45;&gt;target_G23 -->\n<g id=\"edge20\" class=\"edge\">\n<title>HamiltonianSimulationByGQSP:e-&gt;target_G23:w</title>\n<path fill=\"none\" stroke=\"black\" d=\"M141,-166C174.11,-166 145.51,-24.86 175.72,-18.24\"/>\n<ellipse fill=\"black\" stroke=\"black\" cx=\"177.01\" cy=\"-18.1\" rx=\"1\" ry=\"1\"/>\n<text text-anchor=\"middle\" x=\"159.5\" y=\"-113\" font-family=\"Times,serif\" font-size=\"10.00\">8</text>\n</g>\n</g>\n</svg>",
          "text/plain": "<IPython.core.display.SVG object>"
         },
         "metadata": {},
         "output_type": "display_data"
        }
       ],
       "tabbable": null,
       "tooltip": null
      }
     },
     "ab7741d8fee24c8e8fb63ef6ec33ccc8": {
      "model_module": "@jupyter-widgets/base",
      "model_module_version": "2.0.0",
      "model_name": "LayoutModel",
      "state": {
       "_model_module": "@jupyter-widgets/base",
       "_model_module_version": "2.0.0",
       "_model_name": "LayoutModel",
       "_view_count": null,
       "_view_module": "@jupyter-widgets/base",
       "_view_module_version": "2.0.0",
       "_view_name": "LayoutView",
       "align_content": null,
       "align_items": null,
       "align_self": null,
       "border_bottom": null,
       "border_left": null,
       "border_right": null,
       "border_top": null,
       "bottom": null,
       "display": null,
       "flex": null,
       "flex_flow": null,
       "grid_area": null,
       "grid_auto_columns": null,
       "grid_auto_flow": null,
       "grid_auto_rows": null,
       "grid_column": null,
       "grid_gap": null,
       "grid_row": null,
       "grid_template_areas": null,
       "grid_template_columns": null,
       "grid_template_rows": null,
       "height": null,
       "justify_content": null,
       "justify_items": null,
       "left": null,
       "margin": null,
       "max_height": null,
       "max_width": null,
       "min_height": null,
       "min_width": null,
       "object_fit": null,
       "object_position": null,
       "order": null,
       "overflow": null,
       "padding": null,
       "right": null,
       "top": null,
       "visibility": null,
       "width": null
      }
     },
     "dd0782f307934fef95bad244fc9eb604": {
      "model_module": "@jupyter-widgets/controls",
      "model_module_version": "2.0.0",
      "model_name": "HBoxModel",
      "state": {
       "_dom_classes": [],
       "_model_module": "@jupyter-widgets/controls",
       "_model_module_version": "2.0.0",
       "_model_name": "HBoxModel",
       "_view_count": null,
       "_view_module": "@jupyter-widgets/controls",
       "_view_module_version": "2.0.0",
       "_view_name": "HBoxView",
       "box_style": "",
       "children": [
        "IPY_MODEL_8ae62b0397e946d182affb3777988b3b"
       ],
       "layout": "IPY_MODEL_ab7741d8fee24c8e8fb63ef6ec33ccc8",
       "tabbable": null,
       "tooltip": null
      }
     },
     "f8d7c083285a44bc821f9c042d130857": {
      "model_module": "@jupyter-widgets/base",
      "model_module_version": "2.0.0",
      "model_name": "LayoutModel",
      "state": {
       "_model_module": "@jupyter-widgets/base",
       "_model_module_version": "2.0.0",
       "_model_name": "LayoutModel",
       "_view_count": null,
       "_view_module": "@jupyter-widgets/base",
       "_view_module_version": "2.0.0",
       "_view_name": "LayoutView",
       "align_content": null,
       "align_items": null,
       "align_self": null,
       "border_bottom": null,
       "border_left": null,
       "border_right": null,
       "border_top": null,
       "bottom": null,
       "display": null,
       "flex": null,
       "flex_flow": null,
       "grid_area": null,
       "grid_auto_columns": null,
       "grid_auto_flow": null,
       "grid_auto_rows": null,
       "grid_column": null,
       "grid_gap": null,
       "grid_row": null,
       "grid_template_areas": null,
       "grid_template_columns": null,
       "grid_template_rows": null,
       "height": null,
       "justify_content": null,
       "justify_items": null,
       "left": null,
       "margin": null,
       "max_height": null,
       "max_width": null,
       "min_height": null,
       "min_width": null,
       "object_fit": null,
       "object_position": null,
       "order": null,
       "overflow": null,
       "padding": null,
       "right": null,
       "top": null,
       "visibility": null,
       "width": null
      }
     }
    },
    "version_major": 2,
    "version_minor": 0
   }
  }
 },
 "nbformat": 4,
 "nbformat_minor": 5
}
