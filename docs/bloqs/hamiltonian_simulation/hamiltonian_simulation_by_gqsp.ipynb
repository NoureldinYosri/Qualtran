{
 "cells": [
  {
   "cell_type": "markdown",
   "id": "337f7001",
   "metadata": {
    "cq.autogen": "title_cell"
   },
   "source": [
    "# Hamiltonian Simulation by Generalized Quantum Signal Processing"
   ]
  },
  {
   "cell_type": "code",
   "execution_count": 1,
   "id": "19a28d60",
   "metadata": {
    "cq.autogen": "top_imports"
   },
   "outputs": [],
   "source": [
    "from qualtran import Bloq, CompositeBloq, BloqBuilder, Signature, Register\n",
    "from qualtran import QBit, QInt, QUInt, QAny\n",
    "from qualtran.drawing import show_bloq, show_call_graph, show_counts_sigma\n",
    "from typing import *\n",
    "import numpy as np\n",
    "import sympy\n",
    "import cirq"
   ]
  },
  {
   "cell_type": "markdown",
   "id": "c4a2b917",
   "metadata": {
    "cq.autogen": "HamiltonianSimulationByGQSP.bloq_doc.md"
   },
   "source": [
    "## `HamiltonianSimulationByGQSP`\n",
    "Hamiltonian simulation using Generalized QSP given a qubitized quantum walk operator.\n",
    "\n",
    "Given the Szegedy Quantum Walk Operator for a Hamiltonian $H$ constructed from SELECT and PREPARE oracles,\n",
    "one can construct a block-encoding of $e^{-iHt}$ using GQSP (Corollary 8).\n",
    "\n",
    "### Recap: Qubitization Walk Operator\n",
    "\n",
    "For a Hamiltonian $H = \\sum_j \\alpha_j U_j$ where $U_j$ are unitaries and $\\alpha_j \\ge 0$,\n",
    "we are given the SELECT and PREPARE oracles:\n",
    "$$ \\text{SELECT} = \\sum_j |j\\rangle\\langle j| \\otimes U_j $$\n",
    "$$ \\text{PREPARE} |0\\rangle = \\sum_j \\frac{\\sqrt{\\alpha_j}}{\\|\\alpha\\|_1} |j\\rangle $$\n",
    "\n",
    "We can then implement the [QubitizationWalkOperator](../qubitization_walk_operator.ipynb) that encodes the spectrum of $H$ in the eigenphases of the walk operator $W$.\n",
    "\n",
    "### Approximating the function $e^{i\\theta} \\mapsto e^{it\\cos\\theta}$\n",
    "\n",
    "We can use the [Jacobi-Anger expansion](https://en.wikipedia.org/wiki/Jacobi%E2%80%93Anger_expansion) to obtain low-degree polynomial approximations for the $\\cos$ function:\n",
    "\n",
    "$$\n",
    "    e^{it\\cos\\theta} = \\sum_{n = -\\infty}^{\\infty} i^n J_n(t) (e^{i\\theta})^n\n",
    "$$\n",
    "where $J_n$ is the $n$-th [Bessel function of the first kind](https://en.wikipedia.org/wiki/Bessel_function#Bessel_functions_of_the_first_kind).\n",
    "\n",
    "If we cut-off the above to terms upto degree $d$, we get\n",
    "\n",
    "$$\n",
    "    P[t](z) = \\sum_{n = -d}^d i^n J_n(t) z^n\n",
    "$$\n",
    "\n",
    "Polynomial approximations of the above are provided in the [`qualtran.linalg.jacobi_anger_approximations`](../../linalg/jacobi_anger_approximations.py) module.\n",
    "\n",
    "### Simulation: Block-encoding $e^{-iHt}$\n",
    "\n",
    "As the eigenphases of the walk operator above are $e^{-i\\arccos(E_k / \\|\\alpha\\|_1)}$,\n",
    "we can use the GQSP polynomial with $P = P[-\\|\\alpha\\|_1 t]$ to obtain $P(U) = e^{-iHt}$.\n",
    "The obtained GQSP operator $G$ can then be used with two calls to the PREPARE oracle to simulate the hamiltonian:\n",
    "\n",
    "$$\n",
    "    (I \\otimes \\text{PREPARE}^\\dagger \\otimes I) G (I \\otimes \\text{PREPARE} \\otimes I) |0\\rangle|0\\rangle|\\psi\\rangle = |0\\rangle|0\\rangle e^{-iHt}|\\psi\\rangle\n",
    "$$\n",
    "\n",
    "This therefore block-encodes $e^{-iHt}$ in the block where the signal qubit and selection registers are all $|0\\rangle$.\n",
    "\n",
    "#### References\n",
    " - [Generalized Quantum Signal Processing](https://arxiv.org/abs/2308.01501). Motlagh and Wiebe. (2023). Theorem 7, Corollary 8. \n",
    "\n",
    "#### Parameters\n",
    " - `walk_operator`: qubitization walk operator of $H$ constructed from SELECT and PREPARE oracles.\n",
    " - `t`: time to simulate the Hamiltonian, i.e. $e^{-iHt}$\n",
    " - `precision`: the precision $\\epsilon$ to approximate $e^{it\\cos\\theta}$ to a polynomial.\n"
   ]
  },
  {
   "cell_type": "code",
   "execution_count": 2,
   "id": "ddf29316",
   "metadata": {
    "cq.autogen": "HamiltonianSimulationByGQSP.bloq_doc.py"
   },
   "outputs": [],
   "source": [
    "from qualtran.bloqs.hamiltonian_simulation.hamiltonian_simulation_by_gqsp import HamiltonianSimulationByGQSP"
   ]
  },
  {
   "cell_type": "markdown",
   "id": "63c77206",
   "metadata": {
    "cq.autogen": "HamiltonianSimulationByGQSP.example_instances.md"
   },
   "source": [
    "### Example Instances"
   ]
  },
  {
   "cell_type": "code",
   "execution_count": 3,
   "id": "7757dd77",
   "metadata": {
    "cq.autogen": "HamiltonianSimulationByGQSP.hubbard_time_evolution_by_gqsp"
   },
   "outputs": [],
   "source": [
    "from qualtran.bloqs.hubbard_model import get_walk_operator_for_hubbard_model\n",
    "\n",
    "walk_op = get_walk_operator_for_hubbard_model(2, 2, 1, 1)\n",
    "hubbard_time_evolution_by_gqsp = HamiltonianSimulationByGQSP(walk_op, t=5, precision=1e-7)"
   ]
  },
  {
   "cell_type": "code",
   "execution_count": 4,
   "id": "11baa846",
   "metadata": {
    "cq.autogen": "HamiltonianSimulationByGQSP.symbolic_hamsim_by_gqsp"
   },
   "outputs": [],
   "source": [
    "import sympy\n",
    "\n",
    "from qualtran.bloqs.hubbard_model import get_walk_operator_for_hubbard_model\n",
    "\n",
    "walk_op = get_walk_operator_for_hubbard_model(2, 2, 1, 1)\n",
    "\n",
    "t, inv_eps = sympy.symbols(\"t N\")\n",
    "symbolic_hamsim_by_gqsp = HamiltonianSimulationByGQSP(walk_op, t=t, precision=1 / inv_eps)"
   ]
  },
  {
   "cell_type": "markdown",
   "id": "a6e29295",
   "metadata": {
    "cq.autogen": "HamiltonianSimulationByGQSP.graphical_signature.md"
   },
   "source": [
    "#### Graphical Signature"
   ]
  },
  {
   "cell_type": "code",
   "execution_count": 5,
   "id": "68558d61",
   "metadata": {
    "cq.autogen": "HamiltonianSimulationByGQSP.graphical_signature.py"
   },
   "outputs": [
    {
     "data": {
      "application/vnd.jupyter.widget-view+json": {
       "model_id": "dbb2b28baab04d30bc219654c7ecd62c",
       "version_major": 2,
       "version_minor": 0
      },
      "text/plain": [
       "HBox(children=(Output(outputs=({'output_type': 'display_data', 'data': {'text/plain': '<IPython.core.display.M…"
      ]
     },
     "metadata": {},
     "output_type": "display_data"
    }
   ],
   "source": [
    "from qualtran.drawing import show_bloqs\n",
    "show_bloqs([hubbard_time_evolution_by_gqsp, symbolic_hamsim_by_gqsp],\n",
    "           ['`hubbard_time_evolution_by_gqsp`', '`symbolic_hamsim_by_gqsp`'])"
   ]
  },
  {
   "cell_type": "markdown",
   "id": "4e6e9fc9",
   "metadata": {
    "cq.autogen": "HamiltonianSimulationByGQSP.call_graph.md"
   },
   "source": [
    "### Call Graph"
   ]
  },
  {
   "cell_type": "code",
   "execution_count": 6,
   "id": "22c2e259",
   "metadata": {
    "cq.autogen": "HamiltonianSimulationByGQSP.call_graph.py"
   },
   "outputs": [
    {
     "data": {
      "image/svg+xml": [
       "<svg xmlns=\"http://www.w3.org/2000/svg\" xmlns:xlink=\"http://www.w3.org/1999/xlink\" width=\"1059pt\" height=\"131pt\" viewBox=\"0.00 0.00 1059.00 131.00\">\n",
       "<g id=\"graph0\" class=\"graph\" transform=\"scale(1 1) rotate(0) translate(4 127)\">\n",
       "<title>counts</title>\n",
       "<polygon fill=\"white\" stroke=\"transparent\" points=\"-4,4 -4,-127 1055,-127 1055,4 -4,4\"/>\n",
       "<!-- b0 -->\n",
       "<g id=\"node1\" class=\"node\">\n",
       "<title>b0</title>\n",
       "<polygon fill=\"none\" stroke=\"black\" points=\"699,-123 394,-123 394,-87 699,-87 699,-123\"/>\n",
       "<text text-anchor=\"start\" x=\"457\" y=\"-106.8\" font-family=\"Times,serif\" font-size=\"14.00\">HamiltonianSimulationByGQSP</text>\n",
       "<text text-anchor=\"start\" x=\"402\" y=\"-96\" font-family=\"monospace\" font-size=\"10.00\">walk_operator=Qubitiza ..., t=5, precision=1e-07</text>\n",
       "</g>\n",
       "<!-- b1 -->\n",
       "<g id=\"node2\" class=\"node\">\n",
       "<title>b1</title>\n",
       "<polygon fill=\"none\" stroke=\"black\" points=\"179,-36 0,-36 0,0 179,0 179,-36\"/>\n",
       "<text text-anchor=\"start\" x=\"45\" y=\"-19.8\" font-family=\"Times,serif\" font-size=\"14.00\">PrepareHubbard</text>\n",
       "<text text-anchor=\"start\" x=\"8\" y=\"-9\" font-family=\"monospace\" font-size=\"10.00\">x_dim=2, y_dim=2, t=1, mu=1</text>\n",
       "</g>\n",
       "<!-- b0&#45;&gt;b1 -->\n",
       "<g id=\"edge1\" class=\"edge\">\n",
       "<title>b0-&gt;b1</title>\n",
       "<path fill=\"none\" stroke=\"black\" d=\"M454.84,-86.95C377.88,-72.64 268.13,-52.22 189.03,-37.51\"/>\n",
       "<polygon fill=\"black\" stroke=\"black\" points=\"189.53,-34.05 179.06,-35.66 188.25,-40.93 189.53,-34.05\"/>\n",
       "<text text-anchor=\"middle\" x=\"349\" y=\"-57.8\" font-family=\"Times,serif\" font-size=\"14.00\">1</text>\n",
       "</g>\n",
       "<!-- b2 -->\n",
       "<g id=\"node3\" class=\"node\">\n",
       "<title>b2</title>\n",
       "<polygon fill=\"none\" stroke=\"black\" points=\"322,-36 197,-36 197,0 322,0 322,-36\"/>\n",
       "<text text-anchor=\"start\" x=\"236.5\" y=\"-19.8\" font-family=\"Times,serif\" font-size=\"14.00\">Allocate</text>\n",
       "<text text-anchor=\"start\" x=\"205\" y=\"-9\" font-family=\"monospace\" font-size=\"10.00\">dtype=QAny(bit ...</text>\n",
       "</g>\n",
       "<!-- b0&#45;&gt;b2 -->\n",
       "<g id=\"edge2\" class=\"edge\">\n",
       "<title>b0-&gt;b2</title>\n",
       "<path fill=\"none\" stroke=\"black\" d=\"M488.77,-86.9C441.96,-73.04 375.93,-53.48 326.74,-38.92\"/>\n",
       "<polygon fill=\"black\" stroke=\"black\" points=\"327.72,-35.56 317.14,-36.07 325.74,-42.27 327.72,-35.56\"/>\n",
       "<text text-anchor=\"middle\" x=\"424\" y=\"-57.8\" font-family=\"Times,serif\" font-size=\"14.00\">1</text>\n",
       "</g>\n",
       "<!-- b3 -->\n",
       "<g id=\"node4\" class=\"node\">\n",
       "<title>b3</title>\n",
       "<polygon fill=\"none\" stroke=\"black\" points=\"753,-36 340,-36 340,0 753,0 753,-36\"/>\n",
       "<text text-anchor=\"start\" x=\"501\" y=\"-19.8\" font-family=\"Times,serif\" font-size=\"14.00\">GeneralizedQSP</text>\n",
       "<text text-anchor=\"start\" x=\"348\" y=\"-9\" font-family=\"monospace\" font-size=\"10.00\">U=Qubitiza ..., P=((-1.975 ..., Q=((-4.205 ..., negative_power=126</text>\n",
       "</g>\n",
       "<!-- b0&#45;&gt;b3 -->\n",
       "<g id=\"edge3\" class=\"edge\">\n",
       "<title>b0-&gt;b3</title>\n",
       "<path fill=\"none\" stroke=\"black\" d=\"M546.5,-86.8C546.5,-75.16 546.5,-59.55 546.5,-46.24\"/>\n",
       "<polygon fill=\"black\" stroke=\"black\" points=\"550,-46.18 546.5,-36.18 543,-46.18 550,-46.18\"/>\n",
       "<text text-anchor=\"middle\" x=\"550\" y=\"-57.8\" font-family=\"Times,serif\" font-size=\"14.00\">1</text>\n",
       "</g>\n",
       "<!-- b4 -->\n",
       "<g id=\"node5\" class=\"node\">\n",
       "<title>b4</title>\n",
       "<polygon fill=\"none\" stroke=\"black\" points=\"896,-36 771,-36 771,0 896,0 896,-36\"/>\n",
       "<text text-anchor=\"start\" x=\"821\" y=\"-19.8\" font-family=\"Times,serif\" font-size=\"14.00\">Free</text>\n",
       "<text text-anchor=\"start\" x=\"779\" y=\"-9\" font-family=\"monospace\" font-size=\"10.00\">dtype=QAny(bit ...</text>\n",
       "</g>\n",
       "<!-- b0&#45;&gt;b4 -->\n",
       "<g id=\"edge4\" class=\"edge\">\n",
       "<title>b0-&gt;b4</title>\n",
       "<path fill=\"none\" stroke=\"black\" d=\"M604.23,-86.9C651.04,-73.04 717.07,-53.48 766.26,-38.92\"/>\n",
       "<polygon fill=\"black\" stroke=\"black\" points=\"767.26,-42.27 775.86,-36.07 765.28,-35.56 767.26,-42.27\"/>\n",
       "<text text-anchor=\"middle\" x=\"711\" y=\"-57.8\" font-family=\"Times,serif\" font-size=\"14.00\">1</text>\n",
       "</g>\n",
       "<!-- b5 -->\n",
       "<g id=\"node6\" class=\"node\">\n",
       "<title>b5</title>\n",
       "<polygon fill=\"none\" stroke=\"black\" points=\"1051,-36 914,-36 914,0 1051,0 1051,-36\"/>\n",
       "<text text-anchor=\"start\" x=\"934.5\" y=\"-19.8\" font-family=\"Times,serif\" font-size=\"14.00\">PrepareHubbard†</text>\n",
       "<text text-anchor=\"start\" x=\"922\" y=\"-9\" font-family=\"monospace\" font-size=\"10.00\">subbloq=PrepareH ...</text>\n",
       "</g>\n",
       "<!-- b0&#45;&gt;b5 -->\n",
       "<g id=\"edge5\" class=\"edge\">\n",
       "<title>b0-&gt;b5</title>\n",
       "<path fill=\"none\" stroke=\"black\" d=\"M640.1,-86.93C710.01,-74.02 808.15,-55.54 903.78,-36.12\"/>\n",
       "<polygon fill=\"black\" stroke=\"black\" points=\"904.52,-39.54 913.62,-34.12 903.12,-32.68 904.52,-39.54\"/>\n",
       "<text text-anchor=\"middle\" x=\"810\" y=\"-57.8\" font-family=\"Times,serif\" font-size=\"14.00\">1</text>\n",
       "</g>\n",
       "</g>\n",
       "</svg>"
      ],
      "text/plain": [
       "<IPython.core.display.SVG object>"
      ]
     },
     "metadata": {},
     "output_type": "display_data"
    },
    {
     "data": {
      "text/markdown": [
       "#### Counts totals:\n",
       " - `Adjoint(subbloq=PrepareHubbard(x_dim=2, y_dim=2, t=1, mu=1))`: 1\n",
       " - `Allocate(dtype=QAny(bitsize=2))`: 1\n",
       " - `Free(dtype=QAny(bitsize=2))`: 1\n",
       " - `GeneralizedQSP(U=QubitizationWalkOperator(select=SelectHubbard(x_dim=2, y_dim=2, control_val=None), prepare=PrepareHubbard(x_dim=2, y_dim=2, t=1, mu=1), control_val=None), P=((-1.9755231893196262e-07+5.813700424667883e-22j), (8.074934502229654e-21-4.0196720883208893e-07j), (8.073657031482692e-07+1.1866852864170136e-20j), (-1.4895485360217115e-20+1.6002997349756333e-06j), (-3.1293716448916645e-06-1.2259725857523251e-20j), (-8.888110446107158e-21-6.035367078560083e-06j), (1.1476216685223932e-05+2.4741272017318007e-19j), (-3.4774342163817624e-19+2.150755296597717e-05j), (-3.971175937380019e-05-4.2801849686977626e-19j), (3.8906683169350837e-19-7.221219915619495e-05j), (0.00012926478665169176-3.2004959972048963e-22j), (1.2278392293127759e-18+0.00022768210587573555j), (-0.00039440405686249225-6.956746358471438e-18j), (8.225474604888907e-18-0.0006715591437707574j), (0.0011233196080594158+7.703750669604769e-18j), (-2.707467556762307e-18+0.001844676778282317j), (-0.00297186283972734+1.1657380558680887e-17j), (8.968575979465387e-17-0.004693421469117867j), (0.007259795962949476+9.959365664358286e-17j), (-9.150826718847833e-17+0.01098773781085294j), (-0.016253962952276057-4.775275111044433e-17j), (-5.755918565233746e-17-0.023470663647972612j), (0.033034430708465894-2.5907884428777188e-16j), (-6.871519393024941e-16+0.04524095222563658j), (-0.06016193087634563-5.894914067664724e-16j), (3.4158170164803995e-16-0.0774893867621085j), (0.0963666303831136-9.465066466751858e-17j), 0.11524387400411877j, (-0.13181624014504126+0j), -0.14311595668016208j, (0.1458287158144735+0j), 0.13687517768362692j, (-0.11423412178441764+0j), -0.07788497127107763j, (0.030631924779787743+0j), -0.02152222967626938j, (0.06980238279059663+0j), 0.10412205934680566j, (-0.11553488284671565+0j), -0.09921933446341792j, (0.057106759119631534+0j), -0.0009957087776558968j, (0.05879946404164411+0j), 0.0977873908123062j, (-0.10352760470678421+0j), -0.07199788090681988j, (0.013108962362264016+0j), -0.051023541127197466j, (0.09372615734323601+0j), 0.09518926432825071j, (-0.05286530972227011+0j), 0.01483399355040015j, (-0.07511630004787033+0j), -0.09633813052044793j, (0.06553737051198368+0j), -0.0019643169831914356j, (0.06832670062811552+0j), 0.09369306389617028j, (-0.060969727548599494+0j), 0.010774234430074988j, (-0.07540720168489998+0j), -0.08876327179399299j, (0.039985051647290916+0j), -0.03758240568546062j, (0.0873388828109713+0j), 0.0707178090001438j, (0.001063155830795861+0j), 0.07199359599709883j, (-0.08388928744578075+0j), -0.02531797744000685j, (-0.05502679316417295+0j), -0.08694798578388055j, (0.04061599119809567+0j), -0.04308271528993723j, (0.08628366940542913+0j), 0.04665230089170906j, (0.03869832249588588+0j), 0.08535062338759494j, (-0.04494528842395717+0j), 0.04220314650059606j, (-0.08461624613451744+0j), -0.03564379994316j, (-0.05253682618567346+0j), -0.08187620698655264j, (0.01787671182276182+0j), -0.0668597690554327j, (0.07270172244821663+0j), -0.008698391096859406j, (0.07948646750376695+0j), 0.05171132420600348j, (0.041220087591324374+0j), 0.08138978727175702j, (-0.015752763498905545+0j), 0.07067790809250124j, (-0.06240018283995637+0j), 0.03074179107492917j, (-0.08146009330641245+0j), -0.018134264908918302j, (-0.07094221965923984+0j), -0.05786190791809261j, (-0.03969678938346983+0j), -0.07850423839749693j, (-0.0004446701847213649+0j), -0.07871768008616317j, (0.0357654626549137+0j), -0.06298087651800115j, (0.06221743079247418+0j), -0.038093904201011476j, (0.07669311438885854+0j), -0.010484383021022394j, (0.08025780461600616+0j), 0.01519811445609958j, (0.07569837027917581+0j), 0.03639365813426776j, (0.06623601916426618+0j), 0.05229030273369165j, (0.05473215256285403+0j), 0.06323673324626244j, (0.04334954057852679+0j), 0.07017265973882673j, (0.03352536821509105+0j), 0.07419570392463767j, (0.026105797822627275+0j), 0.07628416775044787j, (0.021528747757600403+0j), 0.07714531766075185j, (0.019985841404385366+0j), 0.07714531766075185j, (0.021528747757600403+0j), 0.07628416775044787j, (0.026105797822627275+0j), 0.07419570392463767j, (0.03352536821509105+0j), 0.07017265973882673j, (0.04334954057852679+0j), 0.06323673324626244j, (0.05473215256285403+0j), 0.05229030273369165j, (0.06623601916426618+0j), 0.03639365813426776j, (0.07569837027917581+0j), 0.01519811445609958j, (0.08025780461600616+0j), -0.010484383021022394j, (0.07669311438885854+0j), -0.038093904201011476j, (0.06221743079247418+0j), -0.06298087651800115j, (0.0357654626549137+0j), -0.07871768008616317j, (-0.0004446701847213649+0j), -0.07850423839749693j, (-0.03969678938346983+0j), -0.05786190791809261j, (-0.07094221965923984+0j), -0.018134264908918302j, (-0.08146009330641245+0j), 0.03074179107492917j, (-0.06240018283995637+0j), 0.07067790809250124j, (-0.015752763498905545+0j), 0.08138978727175702j, (0.041220087591324374+0j), 0.05171132420600348j, (0.07948646750376695+0j), -0.008698391096859406j, (0.07270172244821663+0j), -0.0668597690554327j, (0.01787671182276182+0j), -0.08187620698655264j, (-0.05253682618567346+0j), -0.03564379994316j, (-0.08461624613451744+0j), 0.04220314650059606j, (-0.04494528842395717+0j), 0.08535062338759494j, (0.03869832249588588+0j), 0.04665230089170906j, (0.08628366940542913+0j), -0.04308271528993723j, (0.04061599119809567+0j), -0.08694798578388055j, (-0.05502679316417295+0j), -0.02531797744000685j, (-0.08388928744578075+0j), 0.07199359599709883j, (0.001063155830795861+0j), 0.0707178090001438j, (0.0873388828109713+0j), -0.03758240568546062j, (0.039985051647290916+0j), -0.08876327179399299j, (-0.07540720168489998+0j), 0.010774234430074988j, (-0.060969727548599494+0j), 0.09369306389617028j, (0.06832670062811552+0j), -0.0019643169831914356j, (0.06553737051198368+0j), -0.09633813052044793j, (-0.07511630004787033+0j), 0.01483399355040015j, (-0.05286530972227011+0j), 0.09518926432825071j, (0.09372615734323601+0j), -0.051023541127197466j, (0.013108962362264016+0j), -0.07199788090681988j, (-0.10352760470678421+0j), 0.0977873908123062j, (0.05879946404164411+0j), -0.0009957087776558968j, (0.057106759119631534+0j), -0.09921933446341792j, (-0.11553488284671565+0j), 0.10412205934680566j, (0.06980238279059663+0j), -0.02152222967626938j, (0.030631924779787743+0j), -0.07788497127107763j, (-0.11423412178441764+0j), 0.13687517768362692j, (0.1458287158144735+0j), -0.14311595668016208j, (-0.13181624014504126+0j), 0.11524387400411877j, (0.0963666303831136+9.465066466751858e-17j), (-3.4158170164803995e-16-0.0774893867621085j), (-0.06016193087634563+5.894914067664724e-16j), (6.871519393024941e-16+0.04524095222563658j), (0.033034430708465894+2.5907884428777188e-16j), (5.755918565233746e-17-0.023470663647972612j), (-0.016253962952276057+4.775275111044433e-17j), (9.150826718847833e-17+0.01098773781085294j), (0.007259795962949476-9.959365664358286e-17j), (-8.968575979465387e-17-0.004693421469117867j), (-0.00297186283972734-1.1657380558680887e-17j), (2.707467556762307e-18+0.001844676778282317j), (0.0011233196080594158-7.703750669604769e-18j), (-8.225474604888907e-18-0.0006715591437707574j), (-0.00039440405686249225+6.956746358471438e-18j), (-1.2278392293127759e-18+0.00022768210587573555j), (0.00012926478665169176+3.2004959972048963e-22j), (-3.8906683169350837e-19-7.221219915619495e-05j), (-3.971175937380019e-05+4.2801849686977626e-19j), (3.4774342163817624e-19+2.150755296597717e-05j), (1.1476216685223932e-05-2.4741272017318007e-19j), (8.888110446107158e-21-6.035367078560083e-06j), (-3.1293716448916645e-06+1.2259725857523251e-20j), (1.4895485360217115e-20+1.6002997349756333e-06j), (8.073657031482692e-07-1.1866852864170136e-20j), (-8.074934502229654e-21-4.0196720883208893e-07j), (-1.9755231893196262e-07-5.813700424667883e-22j)), Q=((-4.2051529009145015e-11+3.899837683713282e-25j), (-4.790351800466709e-24-1.2518478964719635e-22j), (1.6988671879411024e-10-8.777619546015175e-21j), (1.4248225868054825e-23+4.465099196168354e-22j), (-6.495752829616211e-10+5.190815384623058e-20j), (-9.511919062260049e-23-2.741948238773806e-21j), (2.3475458529354698e-09-2.222393069630921e-19j), (2.7042150061301297e-22+1.0922198632317447e-20j), (-7.997692312184214e-09+8.434635270283093e-19j), (-1.0062195371646994e-21-3.8940696088273866e-20j), (2.5602047636628158e-08-2.9802839138954793e-18j), (3.219902518927038e-21+1.3226755816029973e-19j), (-7.672329953334482e-08+9.900093404209761e-18j), (-8.754109973332885e-21-4.2444226739239204e-19j), (2.1429911253405093e-07-3.095322478030677e-17j), (3.229964714298685e-20+1.2778988121991683e-18j), (-5.549850153252773e-07+9.07366517394565e-17j), (-8.371746549210299e-20-3.588581357344184e-18j), (1.3241272656823632e-06-2.4838770767599526e-16j), (1.851443948383047e-19+9.505152235872617e-18j), (-2.8871286353148765e-06+6.321022833930857e-16j), (-4.701057677633476e-19-2.3379712189929223e-17j), (5.6926694456136285e-06-1.4871570570017176e-15j), (9.530911456024034e-19+5.3263627468091065e-17j), (-1.0004310616987993e-05+3.213539991549638e-15j), (-1.8804230710533904e-18-1.1086768353169577e-16j), (1.5338277636206398e-05-6.324764360657851e-15j), (3.583751503565794e-18+2.1081345771919103e-16j), (-1.980338840229226e-05+1.1214791677322116e-14j), (-5.254880910888926e-18-3.6124730340346227e-16j), (2.0076644102721295e-05-1.7651144979675903e-14j), (7.830802926030556e-18+5.242516485216247e-16j), (-1.3079030973104792e-05+2.413948038829525e-14j), (-9.06724549329854e-18-6.86637772356153e-16j), (-5.173466405186606e-07-2.7734231078865695e-14j), (6.594360358762574e-18+7.196095741499659e-16j), (1.3578655560610355e-05+2.523991427316375e-14j), (3.297180179381287e-18-4.94577026907193e-16j), (-1.5560347982087437e-05-1.624850392399098e-14j), -7.91323243051509e-17j, (2.8767743561317525e-06+6.515228034457423e-15j), (-2.6377441435050296e-17+7.385683601814083e-16j), (1.26202918809136e-05-8.01874219625529e-15j), (-5.275488287010059e-17-2.0970065940864986e-15j), (-1.2335588176783567e-05+3.291904691094277e-14j), (-1.0550976574020118e-16+1.0550976574020118e-15j), (-4.960330646497832e-06-8.353735702480429e-14j), (-1.0550976574020118e-16-8.440781259216095e-16j), (1.5467877591235782e-05+1.4644755484739925e-13j), (2.1101953148040237e-16+4.114880863867846e-15j), (-2.5241515231397248e-06-1.9878039865453903e-13j), (4.2203906296080474e-16+0j), (-1.2177637334632717e-05+2.1713909789333404e-13j), (-7.12190918746358e-16+1.603748439251058e-14j), (6.814878613702879e-07-1.8485310957683247e-13j), 5.9085468814512665e-15j, (1.6931444370592204e-05+9.875714073282831e-14j), (3.376312503686438e-15-1.3083210951784947e-14j), (-5.5755361552596675e-06+2.025787502211863e-14j), (-1.688156251843219e-15+6.752625007372876e-15j), (-1.0856706891008056e-05-1.152166641882997e-13j), (3.376312503686438e-15-1.5193406266588972e-14j), (-3.730085061745237e-06+1.1817093762902533e-13j), 5.064468755529657e-15j, (1.2786764786844677e-05-2.025787502211863e-14j), (-6.752625007372876e-15+6.752625007372876e-15j), (9.922917228105808e-06-7.681110945886647e-14j), (-3.376312503686438e-15-1.0128937511059314e-14j), (-1.0193422907222629e-05+6.752625007372875e-14j), (1.0128937511059314e-14-1.9835835959157824e-14j), (-1.1319348843262505e-05+5.4021000058983006e-14j), (-5.064468755529657e-15+1.0128937511059314e-14j), (-2.8046785886516727e-06-9.327063291433784e-14j), (-2.5322343777648286e-15-6.752625007372876e-15j), (8.943136393462936e-06-3.376312503686438e-15j), (1.3505250014745752e-14+3.376312503686438e-15j), (1.4422039788459525e-05+6.752625007372875e-14j), (-1.1817093762902533e-14+8.440781259216094e-15j), (2.0818572402573013e-06+4.051575004423726e-14j), -1.3505250014745752e-14j, (-1.1226208336808372e-05-1.2872191420304545e-13j), (2.66939707322709e-14-1.688156251843219e-15j), (-1.0939837471590573e-05+3.882759379239404e-14j), (-3.1230890659099554e-14+3.713943754055082e-14j), (-8.324714711332523e-06+1.0128937511059314e-14j), (-3.376312503686438e-15-4.389206254792369e-14j), (2.540153591332944e-06+3.713943754055082e-14j), (4.726837505161013e-14+7.596703133294486e-15j), (1.2652395086815621e-05+4.726837505161013e-14j), (-3.376312503686438e-14+5.0644687555296566e-14j), (1.4080493261867958e-05-9.875714073282831e-14j), (-3.376312503686438e-14-5.0644687555296566e-14j), (6.353317630100391e-06-8.103150008847452e-14j), (4.726837505161013e-14-2.4478265651726676e-14j), (6.003870953867221e-07+6.077362506635589e-14j), (6.752625007372876e-15+4.051575004423726e-14j), (-6.135173539027209e-06+1.2914395326600625e-13j), (-3.54512812887076e-14-1.3505250014745752e-14j), (-1.4410615856580779e-05+6.752625007372876e-15j), (3.376312503686438e-14-1.1184035168461326e-14j), (-1.4094252994685044e-05-4.051575004423726e-14j), (-1.856971877027541e-14+6.077362506635589e-14j), (-9.749667103434457e-06-7.765518758478808e-14j), (-1.0466568761427957e-13-8.103150008847452e-14j), (-6.223370307752398e-06-2.0257875022118626e-13j), (1.6206300017694903e-13-1.0128937511059313e-13j), (-2.3780115331105646e-06+1.418051251548304e-13j), (7.005848445149359e-14+2.4309450026542355e-13j), (3.488551793703862e-06+3.106207503391523e-13j), (-3.038681253317794e-13-1.688156251843219e-14j), (9.489151754071481e-06-2.295892502506778e-13j), (1.2492356263639821e-13-2.9036287531703366e-13j), (1.1579823806863469e-05+3.376312503686438e-14j), (2.1946031273961847e-13+2.4309450026542355e-13j), (1.1031997132251884e-05+2.836102503096608e-13j), (-2.667286877912286e-13+7.849926571070969e-14j), (1.393157067497331e-05-3.173733753465252e-13j), (5.4021000058983006e-14-2.1270768773224559e-13j), (1.5869520860818062e-05-2.2790109399883456e-14j), (5.2332843807139786e-14+1.434932814066736e-13j), (1.482305782046426e-05-4.9800609429374956e-14j), (-1.1331748840497607e-13-1.2436963636626215e-13j), (1.3432682409307815e-05-3.9080817230170517e-13j), (2.31277406502521e-13+2.5322343777648286e-15j), (1.3828073649819728e-05+3.384753284945654e-13j), (-1.4750265250480126e-13+1.8907350020644053e-13j), (1.5367131934747528e-05+2.3634187525805066e-14j), (-2.025787502211863e-14-1.958261252138134e-13j), (1.608838770897997e-05-6.752625007372875e-14j), (4.051575004423726e-14+1.8907350020644053e-13j), (1.5145941417160146e-05+4.524258754939827e-13j), (-2.7348131279860146e-13-2.5659975028016926e-13j), (1.3804202640982289e-05-3.5113650038338954e-13j), (5.739731256266944e-13-9.453675010322026e-14j), (1.4792637548674171e-05+5.4021000058983e-13j), (-3.106207503391523e-13+7.208427195370545e-13j), (1.585788881261455e-05+4.3216800047186405e-13j), (-5.199521255677114e-13-7.292835007962706e-13j), (1.3772584615578891e-05-1.0061411260985585e-12j), (9.116043759953382e-13-3.376312503686438e-14j), (9.476641788649977e-06+7.394124383073299e-13j), (-4.963179380419064e-13+6.178651881746181e-13j), (4.538070510824048e-06+9.327063291433784e-14j), (3.291904691094277e-14-7.240607673921306e-13j), (-8.885800973772929e-07-4.878771567826903e-13j), (4.0684565669421577e-13+8.103150008847451e-13j), (-6.0838258289297705e-06+8.677123134474145e-13j), (-1.2357303763492362e-12-4.093778910719806e-13j), (-1.1322717876436435e-05-1.1006778762017788e-12j), (1.3302671264524566e-12-9.993885010911857e-13j), (-1.5860210847904773e-05+1.9835835959157823e-13j), (7.765518758478808e-14+1.9312507521086424e-12j), (-1.7346187395901615e-05+1.195214626304999e-12j), (-1.7691877519316935e-12-1.0491891105205606e-12j), (-1.2875543612431704e-05-1.742177251902202e-12j), (1.7624351269243205e-12-8.575833759363552e-13j), (-2.3401289219195775e-06+4.089558520090198e-13j), (-4.119101254497454e-13+1.6408878767916089e-12j), (9.891894274404873e-06+8.643360009437281e-13j), (-7.495413758183892e-13-1.216105559921559e-12j), (1.803825872325707e-05-8.035623758773722e-13j), (1.18002122003841e-12+5.435863130935165e-13j), (1.748493718782986e-05+8.921905790991412e-13j), (-1.6088129080065877e-12+3.038681253317794e-13j), (6.977846320449378e-06-7.005848445149359e-13j), (9.5971682917287e-13-1.843466627012795e-12j), (-9.012729525826516e-06-1.941379689619702e-13j), (1.2661171888824141e-12+2.0257875022118625e-12j), (-1.986510701857947e-05+1.9278744396049562e-12j), (-2.4305229635912743e-12+2.0257875022118626e-13j), (-1.6211882412788497e-05-9.082280634916518e-13j), (7.968097508699993e-13-1.9143691895902103e-12j), (1.2042745127031567e-06-5.604678756119487e-13j), (8.305728759068637e-13+1.2357303763492362e-12j), (1.8691845915585878e-05+1.0027648135948721e-12j), (-8.508307509289823e-13-2.70105000294915e-13j), (1.920533226765653e-05-1.0128937511059313e-13j), (8.103150008847451e-13+1.0888607824388762e-13j), (-3.1238284108220124e-07+3.106207503391523e-13j), (-1.1682041262755074e-12+7.022730007667791e-13j), (-2.042525533634188e-05-8.204439383958044e-13j), (8.103150008847452e-14-1.7826930019464392e-12j), (-1.6693434591681843e-05-9.048517509879654e-13j), (1.6476405017989816e-12+1.0399042511354228e-12j), (8.93871867931352e-06+1.3100092514303378e-12j), (-1.7202312206282401e-12+9.723780010616942e-13j), (2.245971310102121e-05-5.672205006193216e-13j), (5.4021000058983006e-14-1.850219252020168e-12j), (1.7732527207678193e-06-5.4021000058983e-13j), (1.4315565015630497e-12+9.8588325107644e-13j), (-2.2837102916086767e-05+1.580114251725253e-12j), (-1.4467499078296387e-12+6.212415006783046e-13j), (-8.048733642594286e-06-6.212415006783046e-13j), (4.0515750044237253e-13-1.3437723764672023e-12j), (2.4434641916550514e-05-3.5113650038338954e-13j), (7.562940008257621e-13+1.08042000117966e-12j), (1.2007357318729772e-05+6.887677507520333e-13j), (-1.3167618764377108e-12-8.103150008847452e-14j), (-2.5695863636311612e-05-1.2222251263344905e-12j), (8.508307509289823e-13-1.0466568761427958e-12j), (-9.325185340839015e-06+3.2412600035389806e-13j), (4.9294162553822e-13+1.2087198763197447e-12j), (2.8778938773504755e-05+1.2424830013566092e-12j), (-1.249235626363982e-12-1.1985909388086855e-13j), (-3.869925441439766e-06-8.812175634621603e-13j), (5.672205006193216e-13-9.87571407328283e-13j), (-3.141795723526174e-05-2.768576253022879e-13j), (6.313704381893639e-13+6.887677507520333e-13j), (2.2924147426165557e-05+4.760600630197877e-13j), (-5.942310006488131e-13+3.2412600035389806e-13j), (1.3960690613179527e-05-2.0257875022118626e-13j), (-6.752625007372875e-14-3.916522504276268e-13j), (-3.790308225819795e-05+1.0804200011796601e-13j), (2.0257875022118626e-13+1.3505250014745752e-14j), (2.7904037811300615e-05+2.5659975028016926e-13j), (2.1946031273961846e-14+1.2154725013271177e-13j), (7.810599296533279e-06-1.6206300017694903e-13j), (-9.453675010322026e-14+4.051575004423726e-14j), (-3.8684322577813356e-05-2.4309450026542355e-13j), -6.752625007372875e-14j, (5.591695782483836e-05+2.0257875022118626e-13j), (9.453675010322026e-14-2.7010500029491503e-14j), (-5.111995183496449e-05+1.4855775016220327e-13j), (1.3505250014745752e-14+6.752625007372875e-14j), (4.044542232249778e-05-2.0257875022118626e-13j), (-1.3505250014745752e-14+2.025787502211863e-14j), (-2.5225374826554157e-05+7.427887508110164e-14j), (2.584989260634929e-15-2.7010500029491503e-14j), (1.4931095375666815e-05+9.453675010322026e-14j), (-1.3505250014745752e-14-1.0128937511059314e-14j), (-7.225512212792293e-06+2.7010500029491503e-14j), (6.752625007372876e-15-2.025787502211863e-14j), (3.3868861015542327e-06-2.515352815246396e-13j), (-1.0128937511059314e-14+6.752625007372876e-15j), (-1.7821394200601786e-06+1.6881562518432189e-13j), (-1.0128937511059314e-14-2.321214846284426e-14j), (-1.2629036990492182e-07+1.603748439251058e-13j), (3.376312503686438e-15+6.752625007372876e-15j), (-1.112037393524463e-06-2.3676391432101144e-13j), (8.440781259216095e-16-1.2661171888824143e-15j), (-8.44047109110265e-07+1.2745579701416303e-13j), (-4.2203906296080474e-16-3.798351566647243e-15j), (-7.599326456363209e-07+1.9060339180967345e-13j), (-2.1101953148040237e-16-2.4267246120246274e-15j), (-7.117326507423801e-07-3.8426656682581273e-13j), -1.2779870375281869e-14j, (-4.0093100778735014e-07+4.4575238281091496e-13j), (-1.6485900896906434e-17+2.3014317652081383e-14j), (-2.5376322748947184e-06-3.6169077413758903e-13j), (8.572668466391346e-17+1.3980043960576657e-15j), (5.9712766905497505e-06+1.9380577805889752e-13j), (-1.306507646079835e-16+2.847527232418164e-15j), (0.0009280737142021843+0j)), negative_power=126)`: 1\n",
       " - `PrepareHubbard(x_dim=2, y_dim=2, t=1, mu=1)`: 1"
      ],
      "text/plain": [
       "<IPython.core.display.Markdown object>"
      ]
     },
     "metadata": {},
     "output_type": "display_data"
    }
   ],
   "source": [
    "from qualtran.resource_counting.generalizers import ignore_split_join\n",
    "hubbard_time_evolution_by_gqsp_g, hubbard_time_evolution_by_gqsp_sigma = hubbard_time_evolution_by_gqsp.call_graph(max_depth=1, generalizer=ignore_split_join)\n",
    "show_call_graph(hubbard_time_evolution_by_gqsp_g)\n",
    "show_counts_sigma(hubbard_time_evolution_by_gqsp_sigma)"
   ]
  },
  {
   "cell_type": "code",
   "execution_count": 7,
   "id": "7045d204b9fcd6f1",
   "metadata": {},
   "outputs": [
    {
     "data": {
      "text/markdown": [
       "#### Counts totals:\n",
       " - `AddConstantMod(bitsize=1, mod=2, add_val=1, cvs=(0, 0))`: 1\n",
       " - `Adjoint(subbloq=AddConstantMod(bitsize=1, mod=2, add_val=1, cvs=(0, 0)))`: 1\n",
       " - `Adjoint(subbloq=MultiAnd(cvs=(0, 0, 1)))`: 2\n",
       " - `Adjoint(subbloq=PrepareUniformSuperposition(n=2, cvs=()))`: 2\n",
       " - `Adjoint(subbloq=QubitizationWalkOperator(select=SelectHubbard(x_dim=2, y_dim=2, control_val=None), prepare=PrepareHubbard(x_dim=2, y_dim=2, t=1, mu=1), control_val=None))`: $\\displaystyle \\max\\left(0, O\\left(t + \\frac{\\log{\\left(\\frac{1}{N} \\right)}}{\\log{\\left(- \\log{\\left(\\frac{1}{N} \\right)} \\right)}}; \\left( N, \\  t\\right)\\rightarrow \\left( \\infty, \\  \\infty\\right)\\right)\\right)$\n",
       " - `CNOT()`: 10\n",
       " - `CSwap(bitsize=1)`: 4\n",
       " - `CSwap(bitsize=3)`: 2\n",
       " - `C[Adjoint(subbloq=QubitizationWalkOperator(select=SelectHubbard(x_dim=2, y_dim=2, control_val=None), prepare=PrepareHubbard(x_dim=2, y_dim=2, t=1, mu=1), control_val=None))]`: $\\displaystyle O\\left(t + \\frac{\\log{\\left(\\frac{1}{N} \\right)}}{\\log{\\left(- \\log{\\left(\\frac{1}{N} \\right)} \\right)}}; \\left( N, \\  t\\right)\\rightarrow \\left( \\infty, \\  \\infty\\right)\\right)$\n",
       " - `C[Hadamard()]`: 2\n",
       " - `C[Ry(-0.7048327646991335π)]`: 1\n",
       " - `C[Ry(0.7048327646991335π)]`: 1\n",
       " - `Hadamard()`: 4\n",
       " - `MultiAnd(cvs=(0, 0, 1))`: 2\n",
       " - `PrepareUniformSuperposition(n=2, cvs=())`: 2\n",
       " - `QubitizationWalkOperator(select=SelectHubbard(x_dim=2, y_dim=2, control_val=0), prepare=PrepareHubbard(x_dim=2, y_dim=2, t=1, mu=1), control_val=0)`: $\\displaystyle \\max\\left(0, O\\left(t + \\frac{\\log{\\left(\\frac{1}{N} \\right)}}{\\log{\\left(- \\log{\\left(\\frac{1}{N} \\right)} \\right)}}; \\left( N, \\  t\\right)\\rightarrow \\left( \\infty, \\  \\infty\\right)\\right)\\right)$\n",
       " - `Ry(\\phi/piπ)`: 2\n",
       " - `SU2RotationGate(theta=_theta0, phi=_phi0, lambd=_lambda0, global_shift=_alpha0, eps=_eps0)`: $\\displaystyle O\\left(t + \\frac{\\log{\\left(\\frac{1}{N} \\right)}}{\\log{\\left(- \\log{\\left(\\frac{1}{N} \\right)} \\right)}}; \\left( N, \\  t\\right)\\rightarrow \\left( \\infty, \\  \\infty\\right)\\right)$\n",
       " - `XGate()`: 6"
      ],
      "text/plain": [
       "<IPython.core.display.Markdown object>"
      ]
     },
     "metadata": {},
     "output_type": "display_data"
    }
   ],
   "source": [
    "from qualtran.resource_counting.generalizers import generalize_rotation_angle, ignore_split_join, ignore_alloc_free\n",
    "_, symbolic_hamsim_by_gqsp_sigma = symbolic_hamsim_by_gqsp.call_graph(max_depth=2, generalizer=[ignore_split_join, ignore_alloc_free, generalize_rotation_angle])\n",
    "show_counts_sigma(symbolic_hamsim_by_gqsp_sigma)"
   ]
  }
 ],
 "metadata": {
  "kernelspec": {
   "display_name": "Python 3 (ipykernel)",
   "language": "python",
   "name": "python3"
  },
  "language_info": {
   "codemirror_mode": {
    "name": "ipython",
    "version": 3
   },
   "file_extension": ".py",
   "mimetype": "text/x-python",
   "name": "python",
   "nbconvert_exporter": "python",
   "pygments_lexer": "ipython3",
   "version": "3.11.8"
  },
  "widgets": {
   "application/vnd.jupyter.widget-state+json": {
    "state": {
     "1026983d8dbe43a59b5f1069fcc700e2": {
      "model_module": "@jupyter-widgets/output",
      "model_module_version": "1.0.0",
      "model_name": "OutputModel",
      "state": {
       "_dom_classes": [],
       "_model_module": "@jupyter-widgets/output",
       "_model_module_version": "1.0.0",
       "_model_name": "OutputModel",
       "_view_count": null,
       "_view_module": "@jupyter-widgets/output",
       "_view_module_version": "1.0.0",
       "_view_name": "OutputView",
       "layout": "IPY_MODEL_e860cb0458854179a71c923221072a06",
       "msg_id": "",
       "outputs": [
        {
         "data": {
          "text/markdown": "`symbolic_hamsim_by_gqsp`",
          "text/plain": "<IPython.core.display.Markdown object>"
         },
         "metadata": {},
         "output_type": "display_data"
        },
        {
         "data": {
          "image/svg+xml": "<svg xmlns=\"http://www.w3.org/2000/svg\" xmlns:xlink=\"http://www.w3.org/1999/xlink\" width=\"240pt\" height=\"530pt\" viewBox=\"0.00 0.00 240.00 530.00\">\n<g id=\"graph0\" class=\"graph\" transform=\"scale(1 1) rotate(0) translate(4 526)\">\n<title>my_graph</title>\n<polygon fill=\"white\" stroke=\"transparent\" points=\"-4,4 -4,-526 236,-526 236,4 -4,4\"/>\n<!-- signal_G18 -->\n<g id=\"node1\" class=\"node\">\n<title>signal_G18</title>\n<text text-anchor=\"middle\" x=\"27\" y=\"-500.3\" font-family=\"Times,serif\" font-size=\"14.00\">signal</text>\n</g>\n<!-- HamiltonianSimulationByGQSP -->\n<g id=\"node11\" class=\"node\">\n<title>HamiltonianSimulationByGQSP</title>\n<polygon fill=\"none\" stroke=\"black\" points=\"91,-366 91,-383 141,-383 141,-366 91,-366\"/>\n<text text-anchor=\"start\" x=\"94\" y=\"-372\" font-family=\"Times,serif\" font-size=\"10.00\">Hamilton..</text>\n<polygon fill=\"none\" stroke=\"black\" points=\"91,-345 91,-366 141,-366 141,-345 91,-345\"/>\n<text text-anchor=\"start\" x=\"99.5\" y=\"-351.8\" font-family=\"Times,serif\" font-size=\"14.00\">signal</text>\n<polygon fill=\"none\" stroke=\"black\" points=\"91,-324 91,-345 141,-345 141,-324 91,-324\"/>\n<text text-anchor=\"start\" x=\"111\" y=\"-330.8\" font-family=\"Times,serif\" font-size=\"14.00\">U</text>\n<polygon fill=\"none\" stroke=\"black\" points=\"91,-303 91,-324 141,-324 141,-303 91,-303\"/>\n<text text-anchor=\"start\" x=\"111\" y=\"-309.8\" font-family=\"Times,serif\" font-size=\"14.00\">V</text>\n<polygon fill=\"none\" stroke=\"black\" points=\"91,-282 91,-303 141,-303 141,-282 91,-282\"/>\n<text text-anchor=\"start\" x=\"105.5\" y=\"-288.8\" font-family=\"Times,serif\" font-size=\"14.00\">p_x</text>\n<polygon fill=\"none\" stroke=\"black\" points=\"91,-261 91,-282 141,-282 141,-261 91,-261\"/>\n<text text-anchor=\"start\" x=\"105.5\" y=\"-267.8\" font-family=\"Times,serif\" font-size=\"14.00\">p_y</text>\n<polygon fill=\"none\" stroke=\"black\" points=\"91,-240 91,-261 141,-261 141,-240 91,-240\"/>\n<text text-anchor=\"start\" x=\"101\" y=\"-246.8\" font-family=\"Times,serif\" font-size=\"14.00\">alpha</text>\n<polygon fill=\"none\" stroke=\"black\" points=\"91,-219 91,-240 141,-240 141,-219 91,-219\"/>\n<text text-anchor=\"start\" x=\"105.5\" y=\"-225.8\" font-family=\"Times,serif\" font-size=\"14.00\">q_x</text>\n<polygon fill=\"none\" stroke=\"black\" points=\"91,-198 91,-219 141,-219 141,-198 91,-198\"/>\n<text text-anchor=\"start\" x=\"105.5\" y=\"-204.8\" font-family=\"Times,serif\" font-size=\"14.00\">q_y</text>\n<polygon fill=\"none\" stroke=\"black\" points=\"91,-177 91,-198 141,-198 141,-177 91,-177\"/>\n<text text-anchor=\"start\" x=\"104.5\" y=\"-183.8\" font-family=\"Times,serif\" font-size=\"14.00\">beta</text>\n<polygon fill=\"none\" stroke=\"black\" points=\"91,-156 91,-177 141,-177 141,-156 91,-156\"/>\n<text text-anchor=\"start\" x=\"100.5\" y=\"-162.8\" font-family=\"Times,serif\" font-size=\"14.00\">target</text>\n</g>\n<!-- signal_G18&#45;&gt;HamiltonianSimulationByGQSP -->\n<g id=\"edge1\" class=\"edge\">\n<title>signal_G18:e-&gt;HamiltonianSimulationByGQSP:w</title>\n<path fill=\"none\" stroke=\"black\" d=\"M54,-504C87.11,-504 58.51,-362.86 88.72,-356.24\"/>\n<ellipse fill=\"black\" stroke=\"black\" cx=\"90.01\" cy=\"-356.1\" rx=\"1\" ry=\"1\"/>\n<text text-anchor=\"middle\" x=\"72.5\" y=\"-450\" font-family=\"Times,serif\" font-size=\"10.00\">1</text>\n</g>\n<!-- U_G13 -->\n<g id=\"node2\" class=\"node\">\n<title>U_G13</title>\n<text text-anchor=\"middle\" x=\"27\" y=\"-446.3\" font-family=\"Times,serif\" font-size=\"14.00\">U</text>\n</g>\n<!-- U_G13&#45;&gt;HamiltonianSimulationByGQSP -->\n<g id=\"edge2\" class=\"edge\">\n<title>U_G13:e-&gt;HamiltonianSimulationByGQSP:w</title>\n<path fill=\"none\" stroke=\"black\" d=\"M54,-450C80.11,-450 65.03,-341.2 88.89,-335.25\"/>\n<ellipse fill=\"black\" stroke=\"black\" cx=\"90.01\" cy=\"-335.12\" rx=\"1\" ry=\"1\"/>\n<text text-anchor=\"middle\" x=\"72.5\" y=\"-398\" font-family=\"Times,serif\" font-size=\"10.00\">1</text>\n</g>\n<!-- V_G15 -->\n<g id=\"node3\" class=\"node\">\n<title>V_G15</title>\n<text text-anchor=\"middle\" x=\"27\" y=\"-392.3\" font-family=\"Times,serif\" font-size=\"14.00\">V</text>\n</g>\n<!-- V_G15&#45;&gt;HamiltonianSimulationByGQSP -->\n<g id=\"edge3\" class=\"edge\">\n<title>V_G15:e-&gt;HamiltonianSimulationByGQSP:w</title>\n<path fill=\"none\" stroke=\"black\" d=\"M54,-396C93.2,-396 52.66,-317.17 88.75,-314.09\"/>\n<ellipse fill=\"black\" stroke=\"black\" cx=\"90\" cy=\"-314.04\" rx=\"1\" ry=\"1\"/>\n<text text-anchor=\"middle\" x=\"72.5\" y=\"-381\" font-family=\"Times,serif\" font-size=\"10.00\">1</text>\n</g>\n<!-- p_x_G14 -->\n<g id=\"node4\" class=\"node\">\n<title>p_x_G14</title>\n<text text-anchor=\"middle\" x=\"27\" y=\"-338.3\" font-family=\"Times,serif\" font-size=\"14.00\">p_x</text>\n</g>\n<!-- p_x_G14&#45;&gt;HamiltonianSimulationByGQSP -->\n<g id=\"edge4\" class=\"edge\">\n<title>p_x_G14:e-&gt;HamiltonianSimulationByGQSP:w</title>\n<path fill=\"none\" stroke=\"black\" d=\"M54,-342C80.54,-342 64.64,-295.64 88.86,-293.11\"/>\n<ellipse fill=\"black\" stroke=\"black\" cx=\"90\" cy=\"-293.05\" rx=\"1\" ry=\"1\"/>\n<text text-anchor=\"middle\" x=\"72.5\" y=\"-321\" font-family=\"Times,serif\" font-size=\"10.00\">1</text>\n</g>\n<!-- p_y_G10 -->\n<g id=\"node5\" class=\"node\">\n<title>p_y_G10</title>\n<text text-anchor=\"middle\" x=\"27\" y=\"-284.3\" font-family=\"Times,serif\" font-size=\"14.00\">p_y</text>\n</g>\n<!-- p_y_G10&#45;&gt;HamiltonianSimulationByGQSP -->\n<g id=\"edge5\" class=\"edge\">\n<title>p_y_G10:e-&gt;HamiltonianSimulationByGQSP:w</title>\n<path fill=\"none\" stroke=\"black\" d=\"M54,-288C71.22,-288 72.97,-273.23 88.98,-272.07\"/>\n<ellipse fill=\"black\" stroke=\"black\" cx=\"90\" cy=\"-272.04\" rx=\"1\" ry=\"1\"/>\n<text text-anchor=\"middle\" x=\"72.5\" y=\"-283\" font-family=\"Times,serif\" font-size=\"10.00\">1</text>\n</g>\n<!-- alpha_G5 -->\n<g id=\"node6\" class=\"node\">\n<title>alpha_G5</title>\n<text text-anchor=\"middle\" x=\"27\" y=\"-230.3\" font-family=\"Times,serif\" font-size=\"14.00\">alpha</text>\n</g>\n<!-- alpha_G5&#45;&gt;HamiltonianSimulationByGQSP -->\n<g id=\"edge6\" class=\"edge\">\n<title>alpha_G5:e-&gt;HamiltonianSimulationByGQSP:w</title>\n<path fill=\"none\" stroke=\"black\" d=\"M54,-234C71.22,-234 72.97,-248.77 88.98,-249.93\"/>\n<ellipse fill=\"black\" stroke=\"black\" cx=\"90\" cy=\"-249.96\" rx=\"1\" ry=\"1\"/>\n<text text-anchor=\"middle\" x=\"72.5\" y=\"-245\" font-family=\"Times,serif\" font-size=\"10.00\">1</text>\n</g>\n<!-- q_x_G22 -->\n<g id=\"node7\" class=\"node\">\n<title>q_x_G22</title>\n<text text-anchor=\"middle\" x=\"27\" y=\"-176.3\" font-family=\"Times,serif\" font-size=\"14.00\">q_x</text>\n</g>\n<!-- q_x_G22&#45;&gt;HamiltonianSimulationByGQSP -->\n<g id=\"edge7\" class=\"edge\">\n<title>q_x_G22:e-&gt;HamiltonianSimulationByGQSP:w</title>\n<path fill=\"none\" stroke=\"black\" d=\"M54,-180C80.54,-180 64.64,-226.36 88.86,-228.89\"/>\n<ellipse fill=\"black\" stroke=\"black\" cx=\"90\" cy=\"-228.95\" rx=\"1\" ry=\"1\"/>\n<text text-anchor=\"middle\" x=\"72.5\" y=\"-208\" font-family=\"Times,serif\" font-size=\"10.00\">1</text>\n</g>\n<!-- q_y_G26 -->\n<g id=\"node8\" class=\"node\">\n<title>q_y_G26</title>\n<text text-anchor=\"middle\" x=\"27\" y=\"-122.3\" font-family=\"Times,serif\" font-size=\"14.00\">q_y</text>\n</g>\n<!-- q_y_G26&#45;&gt;HamiltonianSimulationByGQSP -->\n<g id=\"edge8\" class=\"edge\">\n<title>q_y_G26:e-&gt;HamiltonianSimulationByGQSP:w</title>\n<path fill=\"none\" stroke=\"black\" d=\"M54,-126C93.2,-126 52.66,-204.83 88.75,-207.91\"/>\n<ellipse fill=\"black\" stroke=\"black\" cx=\"90\" cy=\"-207.96\" rx=\"1\" ry=\"1\"/>\n<text text-anchor=\"middle\" x=\"72.5\" y=\"-193\" font-family=\"Times,serif\" font-size=\"10.00\">1</text>\n</g>\n<!-- beta_G1 -->\n<g id=\"node9\" class=\"node\">\n<title>beta_G1</title>\n<text text-anchor=\"middle\" x=\"27\" y=\"-68.3\" font-family=\"Times,serif\" font-size=\"14.00\">beta</text>\n</g>\n<!-- beta_G1&#45;&gt;HamiltonianSimulationByGQSP -->\n<g id=\"edge9\" class=\"edge\">\n<title>beta_G1:e-&gt;HamiltonianSimulationByGQSP:w</title>\n<path fill=\"none\" stroke=\"black\" d=\"M54,-72C80.11,-72 65.03,-180.8 88.89,-186.75\"/>\n<ellipse fill=\"black\" stroke=\"black\" cx=\"90.01\" cy=\"-186.88\" rx=\"1\" ry=\"1\"/>\n<text text-anchor=\"middle\" x=\"72.5\" y=\"-135\" font-family=\"Times,serif\" font-size=\"10.00\">1</text>\n</g>\n<!-- target_G16 -->\n<g id=\"node10\" class=\"node\">\n<title>target_G16</title>\n<text text-anchor=\"middle\" x=\"27\" y=\"-14.3\" font-family=\"Times,serif\" font-size=\"14.00\">target</text>\n</g>\n<!-- target_G16&#45;&gt;HamiltonianSimulationByGQSP -->\n<g id=\"edge10\" class=\"edge\">\n<title>target_G16:e-&gt;HamiltonianSimulationByGQSP:w</title>\n<path fill=\"none\" stroke=\"black\" d=\"M54,-18C87.11,-18 58.51,-159.14 88.72,-165.76\"/>\n<ellipse fill=\"black\" stroke=\"black\" cx=\"90.01\" cy=\"-165.9\" rx=\"1\" ry=\"1\"/>\n<text text-anchor=\"middle\" x=\"72.5\" y=\"-113\" font-family=\"Times,serif\" font-size=\"10.00\">8</text>\n</g>\n<!-- signal_G29 -->\n<g id=\"node12\" class=\"node\">\n<title>signal_G29</title>\n<text text-anchor=\"middle\" x=\"205\" y=\"-500.3\" font-family=\"Times,serif\" font-size=\"14.00\">signal</text>\n</g>\n<!-- HamiltonianSimulationByGQSP&#45;&gt;signal_G29 -->\n<g id=\"edge11\" class=\"edge\">\n<title>HamiltonianSimulationByGQSP:e-&gt;signal_G29:w</title>\n<path fill=\"none\" stroke=\"black\" d=\"M141,-356C174.11,-356 145.51,-497.14 175.72,-503.76\"/>\n<ellipse fill=\"black\" stroke=\"black\" cx=\"177.01\" cy=\"-503.9\" rx=\"1\" ry=\"1\"/>\n<text text-anchor=\"middle\" x=\"159.5\" y=\"-450\" font-family=\"Times,serif\" font-size=\"10.00\">1</text>\n</g>\n<!-- U_G3 -->\n<g id=\"node13\" class=\"node\">\n<title>U_G3</title>\n<text text-anchor=\"middle\" x=\"205\" y=\"-446.3\" font-family=\"Times,serif\" font-size=\"14.00\">U</text>\n</g>\n<!-- HamiltonianSimulationByGQSP&#45;&gt;U_G3 -->\n<g id=\"edge12\" class=\"edge\">\n<title>HamiltonianSimulationByGQSP:e-&gt;U_G3:w</title>\n<path fill=\"none\" stroke=\"black\" d=\"M141,-335C167.11,-335 152.03,-443.8 175.89,-449.75\"/>\n<ellipse fill=\"black\" stroke=\"black\" cx=\"177.01\" cy=\"-449.88\" rx=\"1\" ry=\"1\"/>\n<text text-anchor=\"middle\" x=\"159.5\" y=\"-398\" font-family=\"Times,serif\" font-size=\"10.00\">1</text>\n</g>\n<!-- V_G12 -->\n<g id=\"node14\" class=\"node\">\n<title>V_G12</title>\n<text text-anchor=\"middle\" x=\"205\" y=\"-392.3\" font-family=\"Times,serif\" font-size=\"14.00\">V</text>\n</g>\n<!-- HamiltonianSimulationByGQSP&#45;&gt;V_G12 -->\n<g id=\"edge13\" class=\"edge\">\n<title>HamiltonianSimulationByGQSP:e-&gt;V_G12:w</title>\n<path fill=\"none\" stroke=\"black\" d=\"M141,-314C180.2,-314 139.66,-392.83 175.75,-395.91\"/>\n<ellipse fill=\"black\" stroke=\"black\" cx=\"177\" cy=\"-395.96\" rx=\"1\" ry=\"1\"/>\n<text text-anchor=\"middle\" x=\"159.5\" y=\"-381\" font-family=\"Times,serif\" font-size=\"10.00\">1</text>\n</g>\n<!-- p_x_G4 -->\n<g id=\"node15\" class=\"node\">\n<title>p_x_G4</title>\n<text text-anchor=\"middle\" x=\"205\" y=\"-338.3\" font-family=\"Times,serif\" font-size=\"14.00\">p_x</text>\n</g>\n<!-- HamiltonianSimulationByGQSP&#45;&gt;p_x_G4 -->\n<g id=\"edge14\" class=\"edge\">\n<title>HamiltonianSimulationByGQSP:e-&gt;p_x_G4:w</title>\n<path fill=\"none\" stroke=\"black\" d=\"M141,-293C167.54,-293 151.64,-339.36 175.86,-341.89\"/>\n<ellipse fill=\"black\" stroke=\"black\" cx=\"177\" cy=\"-341.95\" rx=\"1\" ry=\"1\"/>\n<text text-anchor=\"middle\" x=\"159.5\" y=\"-321\" font-family=\"Times,serif\" font-size=\"10.00\">1</text>\n</g>\n<!-- p_y_G24 -->\n<g id=\"node16\" class=\"node\">\n<title>p_y_G24</title>\n<text text-anchor=\"middle\" x=\"205\" y=\"-284.3\" font-family=\"Times,serif\" font-size=\"14.00\">p_y</text>\n</g>\n<!-- HamiltonianSimulationByGQSP&#45;&gt;p_y_G24 -->\n<g id=\"edge15\" class=\"edge\">\n<title>HamiltonianSimulationByGQSP:e-&gt;p_y_G24:w</title>\n<path fill=\"none\" stroke=\"black\" d=\"M141,-272C158.22,-272 159.97,-286.77 175.98,-287.93\"/>\n<ellipse fill=\"black\" stroke=\"black\" cx=\"177\" cy=\"-287.96\" rx=\"1\" ry=\"1\"/>\n<text text-anchor=\"middle\" x=\"159.5\" y=\"-283\" font-family=\"Times,serif\" font-size=\"10.00\">1</text>\n</g>\n<!-- alpha_G20 -->\n<g id=\"node17\" class=\"node\">\n<title>alpha_G20</title>\n<text text-anchor=\"middle\" x=\"205\" y=\"-230.3\" font-family=\"Times,serif\" font-size=\"14.00\">alpha</text>\n</g>\n<!-- HamiltonianSimulationByGQSP&#45;&gt;alpha_G20 -->\n<g id=\"edge16\" class=\"edge\">\n<title>HamiltonianSimulationByGQSP:e-&gt;alpha_G20:w</title>\n<path fill=\"none\" stroke=\"black\" d=\"M141,-250C158.22,-250 159.97,-235.23 175.98,-234.07\"/>\n<ellipse fill=\"black\" stroke=\"black\" cx=\"177\" cy=\"-234.04\" rx=\"1\" ry=\"1\"/>\n<text text-anchor=\"middle\" x=\"159.5\" y=\"-245\" font-family=\"Times,serif\" font-size=\"10.00\">1</text>\n</g>\n<!-- q_x_G9 -->\n<g id=\"node18\" class=\"node\">\n<title>q_x_G9</title>\n<text text-anchor=\"middle\" x=\"205\" y=\"-176.3\" font-family=\"Times,serif\" font-size=\"14.00\">q_x</text>\n</g>\n<!-- HamiltonianSimulationByGQSP&#45;&gt;q_x_G9 -->\n<g id=\"edge17\" class=\"edge\">\n<title>HamiltonianSimulationByGQSP:e-&gt;q_x_G9:w</title>\n<path fill=\"none\" stroke=\"black\" d=\"M141,-229C167.54,-229 151.64,-182.64 175.86,-180.11\"/>\n<ellipse fill=\"black\" stroke=\"black\" cx=\"177\" cy=\"-180.05\" rx=\"1\" ry=\"1\"/>\n<text text-anchor=\"middle\" x=\"159.5\" y=\"-208\" font-family=\"Times,serif\" font-size=\"10.00\">1</text>\n</g>\n<!-- q_y_G6 -->\n<g id=\"node19\" class=\"node\">\n<title>q_y_G6</title>\n<text text-anchor=\"middle\" x=\"205\" y=\"-122.3\" font-family=\"Times,serif\" font-size=\"14.00\">q_y</text>\n</g>\n<!-- HamiltonianSimulationByGQSP&#45;&gt;q_y_G6 -->\n<g id=\"edge18\" class=\"edge\">\n<title>HamiltonianSimulationByGQSP:e-&gt;q_y_G6:w</title>\n<path fill=\"none\" stroke=\"black\" d=\"M141,-208C180.2,-208 139.66,-129.17 175.75,-126.09\"/>\n<ellipse fill=\"black\" stroke=\"black\" cx=\"177\" cy=\"-126.04\" rx=\"1\" ry=\"1\"/>\n<text text-anchor=\"middle\" x=\"159.5\" y=\"-193\" font-family=\"Times,serif\" font-size=\"10.00\">1</text>\n</g>\n<!-- beta_G23 -->\n<g id=\"node20\" class=\"node\">\n<title>beta_G23</title>\n<text text-anchor=\"middle\" x=\"205\" y=\"-68.3\" font-family=\"Times,serif\" font-size=\"14.00\">beta</text>\n</g>\n<!-- HamiltonianSimulationByGQSP&#45;&gt;beta_G23 -->\n<g id=\"edge19\" class=\"edge\">\n<title>HamiltonianSimulationByGQSP:e-&gt;beta_G23:w</title>\n<path fill=\"none\" stroke=\"black\" d=\"M141,-187C167.11,-187 152.03,-78.2 175.89,-72.25\"/>\n<ellipse fill=\"black\" stroke=\"black\" cx=\"177.01\" cy=\"-72.12\" rx=\"1\" ry=\"1\"/>\n<text text-anchor=\"middle\" x=\"159.5\" y=\"-135\" font-family=\"Times,serif\" font-size=\"10.00\">1</text>\n</g>\n<!-- target_G7 -->\n<g id=\"node21\" class=\"node\">\n<title>target_G7</title>\n<text text-anchor=\"middle\" x=\"205\" y=\"-14.3\" font-family=\"Times,serif\" font-size=\"14.00\">target</text>\n</g>\n<!-- HamiltonianSimulationByGQSP&#45;&gt;target_G7 -->\n<g id=\"edge20\" class=\"edge\">\n<title>HamiltonianSimulationByGQSP:e-&gt;target_G7:w</title>\n<path fill=\"none\" stroke=\"black\" d=\"M141,-166C174.11,-166 145.51,-24.86 175.72,-18.24\"/>\n<ellipse fill=\"black\" stroke=\"black\" cx=\"177.01\" cy=\"-18.1\" rx=\"1\" ry=\"1\"/>\n<text text-anchor=\"middle\" x=\"159.5\" y=\"-113\" font-family=\"Times,serif\" font-size=\"10.00\">8</text>\n</g>\n</g>\n</svg>",
          "text/plain": "<IPython.core.display.SVG object>"
         },
         "metadata": {},
         "output_type": "display_data"
        }
       ],
       "tabbable": null,
       "tooltip": null
      }
     },
     "70ba0dec0ab44161ad4d9d5a147099f8": {
      "model_module": "@jupyter-widgets/output",
      "model_module_version": "1.0.0",
      "model_name": "OutputModel",
      "state": {
       "_dom_classes": [],
       "_model_module": "@jupyter-widgets/output",
       "_model_module_version": "1.0.0",
       "_model_name": "OutputModel",
       "_view_count": null,
       "_view_module": "@jupyter-widgets/output",
       "_view_module_version": "1.0.0",
       "_view_name": "OutputView",
       "layout": "IPY_MODEL_b45e0d82295d4cc7922a398002f24190",
       "msg_id": "",
       "outputs": [
        {
         "data": {
          "text/markdown": "`hubbard_time_evolution_by_gqsp`",
          "text/plain": "<IPython.core.display.Markdown object>"
         },
         "metadata": {},
         "output_type": "display_data"
        },
        {
         "data": {
          "image/svg+xml": "<svg xmlns=\"http://www.w3.org/2000/svg\" xmlns:xlink=\"http://www.w3.org/1999/xlink\" width=\"240pt\" height=\"530pt\" viewBox=\"0.00 0.00 240.00 530.00\">\n<g id=\"graph0\" class=\"graph\" transform=\"scale(1 1) rotate(0) translate(4 526)\">\n<title>my_graph</title>\n<polygon fill=\"white\" stroke=\"transparent\" points=\"-4,4 -4,-526 236,-526 236,4 -4,4\"/>\n<!-- signal_G23 -->\n<g id=\"node1\" class=\"node\">\n<title>signal_G23</title>\n<text text-anchor=\"middle\" x=\"27\" y=\"-500.3\" font-family=\"Times,serif\" font-size=\"14.00\">signal</text>\n</g>\n<!-- HamiltonianSimulationByGQSP -->\n<g id=\"node11\" class=\"node\">\n<title>HamiltonianSimulationByGQSP</title>\n<polygon fill=\"none\" stroke=\"black\" points=\"91,-366 91,-383 141,-383 141,-366 91,-366\"/>\n<text text-anchor=\"start\" x=\"94\" y=\"-372\" font-family=\"Times,serif\" font-size=\"10.00\">Hamilton..</text>\n<polygon fill=\"none\" stroke=\"black\" points=\"91,-345 91,-366 141,-366 141,-345 91,-345\"/>\n<text text-anchor=\"start\" x=\"99.5\" y=\"-351.8\" font-family=\"Times,serif\" font-size=\"14.00\">signal</text>\n<polygon fill=\"none\" stroke=\"black\" points=\"91,-324 91,-345 141,-345 141,-324 91,-324\"/>\n<text text-anchor=\"start\" x=\"111\" y=\"-330.8\" font-family=\"Times,serif\" font-size=\"14.00\">U</text>\n<polygon fill=\"none\" stroke=\"black\" points=\"91,-303 91,-324 141,-324 141,-303 91,-303\"/>\n<text text-anchor=\"start\" x=\"111\" y=\"-309.8\" font-family=\"Times,serif\" font-size=\"14.00\">V</text>\n<polygon fill=\"none\" stroke=\"black\" points=\"91,-282 91,-303 141,-303 141,-282 91,-282\"/>\n<text text-anchor=\"start\" x=\"105.5\" y=\"-288.8\" font-family=\"Times,serif\" font-size=\"14.00\">p_x</text>\n<polygon fill=\"none\" stroke=\"black\" points=\"91,-261 91,-282 141,-282 141,-261 91,-261\"/>\n<text text-anchor=\"start\" x=\"105.5\" y=\"-267.8\" font-family=\"Times,serif\" font-size=\"14.00\">p_y</text>\n<polygon fill=\"none\" stroke=\"black\" points=\"91,-240 91,-261 141,-261 141,-240 91,-240\"/>\n<text text-anchor=\"start\" x=\"101\" y=\"-246.8\" font-family=\"Times,serif\" font-size=\"14.00\">alpha</text>\n<polygon fill=\"none\" stroke=\"black\" points=\"91,-219 91,-240 141,-240 141,-219 91,-219\"/>\n<text text-anchor=\"start\" x=\"105.5\" y=\"-225.8\" font-family=\"Times,serif\" font-size=\"14.00\">q_x</text>\n<polygon fill=\"none\" stroke=\"black\" points=\"91,-198 91,-219 141,-219 141,-198 91,-198\"/>\n<text text-anchor=\"start\" x=\"105.5\" y=\"-204.8\" font-family=\"Times,serif\" font-size=\"14.00\">q_y</text>\n<polygon fill=\"none\" stroke=\"black\" points=\"91,-177 91,-198 141,-198 141,-177 91,-177\"/>\n<text text-anchor=\"start\" x=\"104.5\" y=\"-183.8\" font-family=\"Times,serif\" font-size=\"14.00\">beta</text>\n<polygon fill=\"none\" stroke=\"black\" points=\"91,-156 91,-177 141,-177 141,-156 91,-156\"/>\n<text text-anchor=\"start\" x=\"100.5\" y=\"-162.8\" font-family=\"Times,serif\" font-size=\"14.00\">target</text>\n</g>\n<!-- signal_G23&#45;&gt;HamiltonianSimulationByGQSP -->\n<g id=\"edge1\" class=\"edge\">\n<title>signal_G23:e-&gt;HamiltonianSimulationByGQSP:w</title>\n<path fill=\"none\" stroke=\"black\" d=\"M54,-504C87.11,-504 58.51,-362.86 88.72,-356.24\"/>\n<ellipse fill=\"black\" stroke=\"black\" cx=\"90.01\" cy=\"-356.1\" rx=\"1\" ry=\"1\"/>\n<text text-anchor=\"middle\" x=\"72.5\" y=\"-450\" font-family=\"Times,serif\" font-size=\"10.00\">1</text>\n</g>\n<!-- U_G16 -->\n<g id=\"node2\" class=\"node\">\n<title>U_G16</title>\n<text text-anchor=\"middle\" x=\"27\" y=\"-446.3\" font-family=\"Times,serif\" font-size=\"14.00\">U</text>\n</g>\n<!-- U_G16&#45;&gt;HamiltonianSimulationByGQSP -->\n<g id=\"edge2\" class=\"edge\">\n<title>U_G16:e-&gt;HamiltonianSimulationByGQSP:w</title>\n<path fill=\"none\" stroke=\"black\" d=\"M54,-450C80.11,-450 65.03,-341.2 88.89,-335.25\"/>\n<ellipse fill=\"black\" stroke=\"black\" cx=\"90.01\" cy=\"-335.12\" rx=\"1\" ry=\"1\"/>\n<text text-anchor=\"middle\" x=\"72.5\" y=\"-398\" font-family=\"Times,serif\" font-size=\"10.00\">1</text>\n</g>\n<!-- V_G18 -->\n<g id=\"node3\" class=\"node\">\n<title>V_G18</title>\n<text text-anchor=\"middle\" x=\"27\" y=\"-392.3\" font-family=\"Times,serif\" font-size=\"14.00\">V</text>\n</g>\n<!-- V_G18&#45;&gt;HamiltonianSimulationByGQSP -->\n<g id=\"edge3\" class=\"edge\">\n<title>V_G18:e-&gt;HamiltonianSimulationByGQSP:w</title>\n<path fill=\"none\" stroke=\"black\" d=\"M54,-396C93.2,-396 52.66,-317.17 88.75,-314.09\"/>\n<ellipse fill=\"black\" stroke=\"black\" cx=\"90\" cy=\"-314.04\" rx=\"1\" ry=\"1\"/>\n<text text-anchor=\"middle\" x=\"72.5\" y=\"-381\" font-family=\"Times,serif\" font-size=\"10.00\">1</text>\n</g>\n<!-- p_x_G17 -->\n<g id=\"node4\" class=\"node\">\n<title>p_x_G17</title>\n<text text-anchor=\"middle\" x=\"27\" y=\"-338.3\" font-family=\"Times,serif\" font-size=\"14.00\">p_x</text>\n</g>\n<!-- p_x_G17&#45;&gt;HamiltonianSimulationByGQSP -->\n<g id=\"edge4\" class=\"edge\">\n<title>p_x_G17:e-&gt;HamiltonianSimulationByGQSP:w</title>\n<path fill=\"none\" stroke=\"black\" d=\"M54,-342C80.54,-342 64.64,-295.64 88.86,-293.11\"/>\n<ellipse fill=\"black\" stroke=\"black\" cx=\"90\" cy=\"-293.05\" rx=\"1\" ry=\"1\"/>\n<text text-anchor=\"middle\" x=\"72.5\" y=\"-321\" font-family=\"Times,serif\" font-size=\"10.00\">1</text>\n</g>\n<!-- p_y_G13 -->\n<g id=\"node5\" class=\"node\">\n<title>p_y_G13</title>\n<text text-anchor=\"middle\" x=\"27\" y=\"-284.3\" font-family=\"Times,serif\" font-size=\"14.00\">p_y</text>\n</g>\n<!-- p_y_G13&#45;&gt;HamiltonianSimulationByGQSP -->\n<g id=\"edge5\" class=\"edge\">\n<title>p_y_G13:e-&gt;HamiltonianSimulationByGQSP:w</title>\n<path fill=\"none\" stroke=\"black\" d=\"M54,-288C71.22,-288 72.97,-273.23 88.98,-272.07\"/>\n<ellipse fill=\"black\" stroke=\"black\" cx=\"90\" cy=\"-272.04\" rx=\"1\" ry=\"1\"/>\n<text text-anchor=\"middle\" x=\"72.5\" y=\"-283\" font-family=\"Times,serif\" font-size=\"10.00\">1</text>\n</g>\n<!-- alpha_G8 -->\n<g id=\"node6\" class=\"node\">\n<title>alpha_G8</title>\n<text text-anchor=\"middle\" x=\"27\" y=\"-230.3\" font-family=\"Times,serif\" font-size=\"14.00\">alpha</text>\n</g>\n<!-- alpha_G8&#45;&gt;HamiltonianSimulationByGQSP -->\n<g id=\"edge6\" class=\"edge\">\n<title>alpha_G8:e-&gt;HamiltonianSimulationByGQSP:w</title>\n<path fill=\"none\" stroke=\"black\" d=\"M54,-234C71.22,-234 72.97,-248.77 88.98,-249.93\"/>\n<ellipse fill=\"black\" stroke=\"black\" cx=\"90\" cy=\"-249.96\" rx=\"1\" ry=\"1\"/>\n<text text-anchor=\"middle\" x=\"72.5\" y=\"-245\" font-family=\"Times,serif\" font-size=\"10.00\">1</text>\n</g>\n<!-- q_x_G25 -->\n<g id=\"node7\" class=\"node\">\n<title>q_x_G25</title>\n<text text-anchor=\"middle\" x=\"27\" y=\"-176.3\" font-family=\"Times,serif\" font-size=\"14.00\">q_x</text>\n</g>\n<!-- q_x_G25&#45;&gt;HamiltonianSimulationByGQSP -->\n<g id=\"edge7\" class=\"edge\">\n<title>q_x_G25:e-&gt;HamiltonianSimulationByGQSP:w</title>\n<path fill=\"none\" stroke=\"black\" d=\"M54,-180C80.54,-180 64.64,-226.36 88.86,-228.89\"/>\n<ellipse fill=\"black\" stroke=\"black\" cx=\"90\" cy=\"-228.95\" rx=\"1\" ry=\"1\"/>\n<text text-anchor=\"middle\" x=\"72.5\" y=\"-208\" font-family=\"Times,serif\" font-size=\"10.00\">1</text>\n</g>\n<!-- q_y_G28 -->\n<g id=\"node8\" class=\"node\">\n<title>q_y_G28</title>\n<text text-anchor=\"middle\" x=\"27\" y=\"-122.3\" font-family=\"Times,serif\" font-size=\"14.00\">q_y</text>\n</g>\n<!-- q_y_G28&#45;&gt;HamiltonianSimulationByGQSP -->\n<g id=\"edge8\" class=\"edge\">\n<title>q_y_G28:e-&gt;HamiltonianSimulationByGQSP:w</title>\n<path fill=\"none\" stroke=\"black\" d=\"M54,-126C93.2,-126 52.66,-204.83 88.75,-207.91\"/>\n<ellipse fill=\"black\" stroke=\"black\" cx=\"90\" cy=\"-207.96\" rx=\"1\" ry=\"1\"/>\n<text text-anchor=\"middle\" x=\"72.5\" y=\"-193\" font-family=\"Times,serif\" font-size=\"10.00\">1</text>\n</g>\n<!-- beta_G1 -->\n<g id=\"node9\" class=\"node\">\n<title>beta_G1</title>\n<text text-anchor=\"middle\" x=\"27\" y=\"-68.3\" font-family=\"Times,serif\" font-size=\"14.00\">beta</text>\n</g>\n<!-- beta_G1&#45;&gt;HamiltonianSimulationByGQSP -->\n<g id=\"edge9\" class=\"edge\">\n<title>beta_G1:e-&gt;HamiltonianSimulationByGQSP:w</title>\n<path fill=\"none\" stroke=\"black\" d=\"M54,-72C80.11,-72 65.03,-180.8 88.89,-186.75\"/>\n<ellipse fill=\"black\" stroke=\"black\" cx=\"90.01\" cy=\"-186.88\" rx=\"1\" ry=\"1\"/>\n<text text-anchor=\"middle\" x=\"72.5\" y=\"-135\" font-family=\"Times,serif\" font-size=\"10.00\">1</text>\n</g>\n<!-- target_G22 -->\n<g id=\"node10\" class=\"node\">\n<title>target_G22</title>\n<text text-anchor=\"middle\" x=\"27\" y=\"-14.3\" font-family=\"Times,serif\" font-size=\"14.00\">target</text>\n</g>\n<!-- target_G22&#45;&gt;HamiltonianSimulationByGQSP -->\n<g id=\"edge10\" class=\"edge\">\n<title>target_G22:e-&gt;HamiltonianSimulationByGQSP:w</title>\n<path fill=\"none\" stroke=\"black\" d=\"M54,-18C87.11,-18 58.51,-159.14 88.72,-165.76\"/>\n<ellipse fill=\"black\" stroke=\"black\" cx=\"90.01\" cy=\"-165.9\" rx=\"1\" ry=\"1\"/>\n<text text-anchor=\"middle\" x=\"72.5\" y=\"-113\" font-family=\"Times,serif\" font-size=\"10.00\">8</text>\n</g>\n<!-- signal_G21 -->\n<g id=\"node12\" class=\"node\">\n<title>signal_G21</title>\n<text text-anchor=\"middle\" x=\"205\" y=\"-500.3\" font-family=\"Times,serif\" font-size=\"14.00\">signal</text>\n</g>\n<!-- HamiltonianSimulationByGQSP&#45;&gt;signal_G21 -->\n<g id=\"edge11\" class=\"edge\">\n<title>HamiltonianSimulationByGQSP:e-&gt;signal_G21:w</title>\n<path fill=\"none\" stroke=\"black\" d=\"M141,-356C174.11,-356 145.51,-497.14 175.72,-503.76\"/>\n<ellipse fill=\"black\" stroke=\"black\" cx=\"177.01\" cy=\"-503.9\" rx=\"1\" ry=\"1\"/>\n<text text-anchor=\"middle\" x=\"159.5\" y=\"-450\" font-family=\"Times,serif\" font-size=\"10.00\">1</text>\n</g>\n<!-- U_G2 -->\n<g id=\"node13\" class=\"node\">\n<title>U_G2</title>\n<text text-anchor=\"middle\" x=\"205\" y=\"-446.3\" font-family=\"Times,serif\" font-size=\"14.00\">U</text>\n</g>\n<!-- HamiltonianSimulationByGQSP&#45;&gt;U_G2 -->\n<g id=\"edge12\" class=\"edge\">\n<title>HamiltonianSimulationByGQSP:e-&gt;U_G2:w</title>\n<path fill=\"none\" stroke=\"black\" d=\"M141,-335C167.11,-335 152.03,-443.8 175.89,-449.75\"/>\n<ellipse fill=\"black\" stroke=\"black\" cx=\"177.01\" cy=\"-449.88\" rx=\"1\" ry=\"1\"/>\n<text text-anchor=\"middle\" x=\"159.5\" y=\"-398\" font-family=\"Times,serif\" font-size=\"10.00\">1</text>\n</g>\n<!-- V_G15 -->\n<g id=\"node14\" class=\"node\">\n<title>V_G15</title>\n<text text-anchor=\"middle\" x=\"205\" y=\"-392.3\" font-family=\"Times,serif\" font-size=\"14.00\">V</text>\n</g>\n<!-- HamiltonianSimulationByGQSP&#45;&gt;V_G15 -->\n<g id=\"edge13\" class=\"edge\">\n<title>HamiltonianSimulationByGQSP:e-&gt;V_G15:w</title>\n<path fill=\"none\" stroke=\"black\" d=\"M141,-314C180.2,-314 139.66,-392.83 175.75,-395.91\"/>\n<ellipse fill=\"black\" stroke=\"black\" cx=\"177\" cy=\"-395.96\" rx=\"1\" ry=\"1\"/>\n<text text-anchor=\"middle\" x=\"159.5\" y=\"-381\" font-family=\"Times,serif\" font-size=\"10.00\">1</text>\n</g>\n<!-- p_x_G5 -->\n<g id=\"node15\" class=\"node\">\n<title>p_x_G5</title>\n<text text-anchor=\"middle\" x=\"205\" y=\"-338.3\" font-family=\"Times,serif\" font-size=\"14.00\">p_x</text>\n</g>\n<!-- HamiltonianSimulationByGQSP&#45;&gt;p_x_G5 -->\n<g id=\"edge14\" class=\"edge\">\n<title>HamiltonianSimulationByGQSP:e-&gt;p_x_G5:w</title>\n<path fill=\"none\" stroke=\"black\" d=\"M141,-293C167.54,-293 151.64,-339.36 175.86,-341.89\"/>\n<ellipse fill=\"black\" stroke=\"black\" cx=\"177\" cy=\"-341.95\" rx=\"1\" ry=\"1\"/>\n<text text-anchor=\"middle\" x=\"159.5\" y=\"-321\" font-family=\"Times,serif\" font-size=\"10.00\">1</text>\n</g>\n<!-- p_y_G27 -->\n<g id=\"node16\" class=\"node\">\n<title>p_y_G27</title>\n<text text-anchor=\"middle\" x=\"205\" y=\"-284.3\" font-family=\"Times,serif\" font-size=\"14.00\">p_y</text>\n</g>\n<!-- HamiltonianSimulationByGQSP&#45;&gt;p_y_G27 -->\n<g id=\"edge15\" class=\"edge\">\n<title>HamiltonianSimulationByGQSP:e-&gt;p_y_G27:w</title>\n<path fill=\"none\" stroke=\"black\" d=\"M141,-272C158.22,-272 159.97,-286.77 175.98,-287.93\"/>\n<ellipse fill=\"black\" stroke=\"black\" cx=\"177\" cy=\"-287.96\" rx=\"1\" ry=\"1\"/>\n<text text-anchor=\"middle\" x=\"159.5\" y=\"-283\" font-family=\"Times,serif\" font-size=\"10.00\">1</text>\n</g>\n<!-- alpha_G24 -->\n<g id=\"node17\" class=\"node\">\n<title>alpha_G24</title>\n<text text-anchor=\"middle\" x=\"205\" y=\"-230.3\" font-family=\"Times,serif\" font-size=\"14.00\">alpha</text>\n</g>\n<!-- HamiltonianSimulationByGQSP&#45;&gt;alpha_G24 -->\n<g id=\"edge16\" class=\"edge\">\n<title>HamiltonianSimulationByGQSP:e-&gt;alpha_G24:w</title>\n<path fill=\"none\" stroke=\"black\" d=\"M141,-250C158.22,-250 159.97,-235.23 175.98,-234.07\"/>\n<ellipse fill=\"black\" stroke=\"black\" cx=\"177\" cy=\"-234.04\" rx=\"1\" ry=\"1\"/>\n<text text-anchor=\"middle\" x=\"159.5\" y=\"-245\" font-family=\"Times,serif\" font-size=\"10.00\">1</text>\n</g>\n<!-- q_x_G12 -->\n<g id=\"node18\" class=\"node\">\n<title>q_x_G12</title>\n<text text-anchor=\"middle\" x=\"205\" y=\"-176.3\" font-family=\"Times,serif\" font-size=\"14.00\">q_x</text>\n</g>\n<!-- HamiltonianSimulationByGQSP&#45;&gt;q_x_G12 -->\n<g id=\"edge17\" class=\"edge\">\n<title>HamiltonianSimulationByGQSP:e-&gt;q_x_G12:w</title>\n<path fill=\"none\" stroke=\"black\" d=\"M141,-229C167.54,-229 151.64,-182.64 175.86,-180.11\"/>\n<ellipse fill=\"black\" stroke=\"black\" cx=\"177\" cy=\"-180.05\" rx=\"1\" ry=\"1\"/>\n<text text-anchor=\"middle\" x=\"159.5\" y=\"-208\" font-family=\"Times,serif\" font-size=\"10.00\">1</text>\n</g>\n<!-- q_y_G9 -->\n<g id=\"node19\" class=\"node\">\n<title>q_y_G9</title>\n<text text-anchor=\"middle\" x=\"205\" y=\"-122.3\" font-family=\"Times,serif\" font-size=\"14.00\">q_y</text>\n</g>\n<!-- HamiltonianSimulationByGQSP&#45;&gt;q_y_G9 -->\n<g id=\"edge18\" class=\"edge\">\n<title>HamiltonianSimulationByGQSP:e-&gt;q_y_G9:w</title>\n<path fill=\"none\" stroke=\"black\" d=\"M141,-208C180.2,-208 139.66,-129.17 175.75,-126.09\"/>\n<ellipse fill=\"black\" stroke=\"black\" cx=\"177\" cy=\"-126.04\" rx=\"1\" ry=\"1\"/>\n<text text-anchor=\"middle\" x=\"159.5\" y=\"-193\" font-family=\"Times,serif\" font-size=\"10.00\">1</text>\n</g>\n<!-- beta_G26 -->\n<g id=\"node20\" class=\"node\">\n<title>beta_G26</title>\n<text text-anchor=\"middle\" x=\"205\" y=\"-68.3\" font-family=\"Times,serif\" font-size=\"14.00\">beta</text>\n</g>\n<!-- HamiltonianSimulationByGQSP&#45;&gt;beta_G26 -->\n<g id=\"edge19\" class=\"edge\">\n<title>HamiltonianSimulationByGQSP:e-&gt;beta_G26:w</title>\n<path fill=\"none\" stroke=\"black\" d=\"M141,-187C167.11,-187 152.03,-78.2 175.89,-72.25\"/>\n<ellipse fill=\"black\" stroke=\"black\" cx=\"177.01\" cy=\"-72.12\" rx=\"1\" ry=\"1\"/>\n<text text-anchor=\"middle\" x=\"159.5\" y=\"-135\" font-family=\"Times,serif\" font-size=\"10.00\">1</text>\n</g>\n<!-- target_G11 -->\n<g id=\"node21\" class=\"node\">\n<title>target_G11</title>\n<text text-anchor=\"middle\" x=\"205\" y=\"-14.3\" font-family=\"Times,serif\" font-size=\"14.00\">target</text>\n</g>\n<!-- HamiltonianSimulationByGQSP&#45;&gt;target_G11 -->\n<g id=\"edge20\" class=\"edge\">\n<title>HamiltonianSimulationByGQSP:e-&gt;target_G11:w</title>\n<path fill=\"none\" stroke=\"black\" d=\"M141,-166C174.11,-166 145.51,-24.86 175.72,-18.24\"/>\n<ellipse fill=\"black\" stroke=\"black\" cx=\"177.01\" cy=\"-18.1\" rx=\"1\" ry=\"1\"/>\n<text text-anchor=\"middle\" x=\"159.5\" y=\"-113\" font-family=\"Times,serif\" font-size=\"10.00\">8</text>\n</g>\n</g>\n</svg>",
          "text/plain": "<IPython.core.display.SVG object>"
         },
         "metadata": {},
         "output_type": "display_data"
        }
       ],
       "tabbable": null,
       "tooltip": null
      }
     },
     "b45e0d82295d4cc7922a398002f24190": {
      "model_module": "@jupyter-widgets/base",
      "model_module_version": "2.0.0",
      "model_name": "LayoutModel",
      "state": {
       "_model_module": "@jupyter-widgets/base",
       "_model_module_version": "2.0.0",
       "_model_name": "LayoutModel",
       "_view_count": null,
       "_view_module": "@jupyter-widgets/base",
       "_view_module_version": "2.0.0",
       "_view_name": "LayoutView",
       "align_content": null,
       "align_items": null,
       "align_self": null,
       "border_bottom": null,
       "border_left": null,
       "border_right": null,
       "border_top": null,
       "bottom": null,
       "display": null,
       "flex": null,
       "flex_flow": null,
       "grid_area": null,
       "grid_auto_columns": null,
       "grid_auto_flow": null,
       "grid_auto_rows": null,
       "grid_column": null,
       "grid_gap": null,
       "grid_row": null,
       "grid_template_areas": null,
       "grid_template_columns": null,
       "grid_template_rows": null,
       "height": null,
       "justify_content": null,
       "justify_items": null,
       "left": null,
       "margin": null,
       "max_height": null,
       "max_width": null,
       "min_height": null,
       "min_width": null,
       "object_fit": null,
       "object_position": null,
       "order": null,
       "overflow": null,
       "padding": null,
       "right": null,
       "top": null,
       "visibility": null,
       "width": null
      }
     },
     "c44e46c5ecbb4de4b8e77b2fc877a7ab": {
      "model_module": "@jupyter-widgets/base",
      "model_module_version": "2.0.0",
      "model_name": "LayoutModel",
      "state": {
       "_model_module": "@jupyter-widgets/base",
       "_model_module_version": "2.0.0",
       "_model_name": "LayoutModel",
       "_view_count": null,
       "_view_module": "@jupyter-widgets/base",
       "_view_module_version": "2.0.0",
       "_view_name": "LayoutView",
       "align_content": null,
       "align_items": null,
       "align_self": null,
       "border_bottom": null,
       "border_left": null,
       "border_right": null,
       "border_top": null,
       "bottom": null,
       "display": null,
       "flex": null,
       "flex_flow": null,
       "grid_area": null,
       "grid_auto_columns": null,
       "grid_auto_flow": null,
       "grid_auto_rows": null,
       "grid_column": null,
       "grid_gap": null,
       "grid_row": null,
       "grid_template_areas": null,
       "grid_template_columns": null,
       "grid_template_rows": null,
       "height": null,
       "justify_content": null,
       "justify_items": null,
       "left": null,
       "margin": null,
       "max_height": null,
       "max_width": null,
       "min_height": null,
       "min_width": null,
       "object_fit": null,
       "object_position": null,
       "order": null,
       "overflow": null,
       "padding": null,
       "right": null,
       "top": null,
       "visibility": null,
       "width": null
      }
     },
     "dbb2b28baab04d30bc219654c7ecd62c": {
      "model_module": "@jupyter-widgets/controls",
      "model_module_version": "2.0.0",
      "model_name": "HBoxModel",
      "state": {
       "_dom_classes": [],
       "_model_module": "@jupyter-widgets/controls",
       "_model_module_version": "2.0.0",
       "_model_name": "HBoxModel",
       "_view_count": null,
       "_view_module": "@jupyter-widgets/controls",
       "_view_module_version": "2.0.0",
       "_view_name": "HBoxView",
       "box_style": "",
       "children": [
        "IPY_MODEL_70ba0dec0ab44161ad4d9d5a147099f8",
        "IPY_MODEL_1026983d8dbe43a59b5f1069fcc700e2"
       ],
       "layout": "IPY_MODEL_c44e46c5ecbb4de4b8e77b2fc877a7ab",
       "tabbable": null,
       "tooltip": null
      }
     },
     "e860cb0458854179a71c923221072a06": {
      "model_module": "@jupyter-widgets/base",
      "model_module_version": "2.0.0",
      "model_name": "LayoutModel",
      "state": {
       "_model_module": "@jupyter-widgets/base",
       "_model_module_version": "2.0.0",
       "_model_name": "LayoutModel",
       "_view_count": null,
       "_view_module": "@jupyter-widgets/base",
       "_view_module_version": "2.0.0",
       "_view_name": "LayoutView",
       "align_content": null,
       "align_items": null,
       "align_self": null,
       "border_bottom": null,
       "border_left": null,
       "border_right": null,
       "border_top": null,
       "bottom": null,
       "display": null,
       "flex": null,
       "flex_flow": null,
       "grid_area": null,
       "grid_auto_columns": null,
       "grid_auto_flow": null,
       "grid_auto_rows": null,
       "grid_column": null,
       "grid_gap": null,
       "grid_row": null,
       "grid_template_areas": null,
       "grid_template_columns": null,
       "grid_template_rows": null,
       "height": null,
       "justify_content": null,
       "justify_items": null,
       "left": null,
       "margin": null,
       "max_height": null,
       "max_width": null,
       "min_height": null,
       "min_width": null,
       "object_fit": null,
       "object_position": null,
       "order": null,
       "overflow": null,
       "padding": null,
       "right": null,
       "top": null,
       "visibility": null,
       "width": null
      }
     }
    },
    "version_major": 2,
    "version_minor": 0
   }
  }
 },
 "nbformat": 4,
 "nbformat_minor": 5
}
