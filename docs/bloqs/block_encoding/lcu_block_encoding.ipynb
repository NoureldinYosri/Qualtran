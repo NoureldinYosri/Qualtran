{
 "cells": [
  {
   "cell_type": "markdown",
   "id": "1db02357",
   "metadata": {
    "cq.autogen": "title_cell"
   },
   "source": [
    "# LCU Select/Prepare Oracles"
   ]
  },
  {
   "cell_type": "code",
   "execution_count": 1,
   "id": "04d2146c",
   "metadata": {
    "cq.autogen": "top_imports"
   },
   "outputs": [],
   "source": [
    "from qualtran import Bloq, CompositeBloq, BloqBuilder, Signature, Register\n",
    "from qualtran import QBit, QInt, QUInt, QAny\n",
    "from qualtran.drawing import show_bloq, show_call_graph, show_counts_sigma\n",
    "from typing import *\n",
    "import numpy as np\n",
    "import sympy\n",
    "import cirq"
   ]
  },
  {
   "cell_type": "markdown",
   "id": "e3e5ceaf",
   "metadata": {
    "cq.autogen": "SelectBlockEncoding.bloq_doc.md"
   },
   "source": [
    "## `SelectBlockEncoding`\n",
    "LCU based block encoding using SELECT and PREPARE oracles.\n",
    "\n",
    "Builds the block encoding via\n",
    "$$\n",
    "    B[H] = \\mathrm{SELECT}\n",
    "$$\n",
    "\n",
    "$$\n",
    "    \\mathrm{SELECT} |l\\rangle_a|\\psi\\rangle_s = |l\\rangle_a U_l |\\psi\\rangle_s.\n",
    "$$\n",
    "\n",
    "The Hamiltonian can be extracted via\n",
    "\n",
    "$$\n",
    "    \\langle G | B[H] | G \\rangle = H / \\alpha\n",
    "$$\n",
    "\n",
    "where\n",
    "\n",
    "$$\n",
    "    |G\\rangle = \\mathrm{PREPARE} |0\\rangle_a = \\sum_l \\sqrt{\\frac{w_l}{\\alpha}} |l\\rangle_a,\n",
    "$$\n",
    "\n",
    "The ancilla register is at least of size $\\log L$.\n",
    "\n",
    "In our implementations we typically split the ancilla registers into\n",
    "selection registers (i.e.  the $l$ registers above) and junk registers which\n",
    "are extra qubits needed by state preparation but not controlled upon during\n",
    "SELECT.\n",
    "\n",
    "#### Parameters\n",
    " - `select`: The bloq implementing the `SelectOracle` interface.\n",
    " - `prepare`: The bloq implementing the `PrepareOracle` interface. \n",
    "\n",
    "#### Registers\n",
    " - `selection`: The combined selection register.\n",
    " - `junk`: Additional junk registers not prepared upon.\n",
    " - `system`: The combined system register. \n",
    "\n",
    "#### References\n",
    " - [Hamiltonian Simulation by Qubitization](https://quantum-journal.org/papers/q-2019-07-12-163/).     Low et al. 2019. Sec 3.1, page 7 and 8 for high level overview and definitions. A     block encoding is called a standard form encoding there.\n",
    " - [The power of block-encoded matrix powers: improved regression techniques via faster Hamiltonian simulation](https://arxiv.org/abs/1804.01973).     Chakraborty et al. 2018. Definition 3 page 8.\n"
   ]
  },
  {
   "cell_type": "code",
   "execution_count": 2,
   "id": "9181470e",
   "metadata": {
    "cq.autogen": "SelectBlockEncoding.bloq_doc.py"
   },
   "outputs": [],
   "source": [
    "from qualtran.bloqs.block_encoding import SelectBlockEncoding"
   ]
  },
  {
   "cell_type": "markdown",
   "id": "8f58e56e",
   "metadata": {
    "cq.autogen": "SelectBlockEncoding.example_instances.md"
   },
   "source": [
    "### Example Instances"
   ]
  },
  {
   "cell_type": "code",
   "execution_count": 3,
   "id": "7d131d00",
   "metadata": {
    "cq.autogen": "SelectBlockEncoding.select_block"
   },
   "outputs": [],
   "source": [
    "from qualtran.bloqs.chemistry.hubbard_model.qubitization import PrepareHubbard, SelectHubbard\n",
    "\n",
    "# 3x3 hubbard model U/t = 4\n",
    "dim = 3\n",
    "select = SelectHubbard(x_dim=dim, y_dim=dim)\n",
    "U = 4\n",
    "t = 1\n",
    "prepare = PrepareHubbard(x_dim=dim, y_dim=dim, t=t, u=U)\n",
    "select_block = SelectBlockEncoding(select=select, prepare=prepare)"
   ]
  },
  {
   "cell_type": "code",
   "execution_count": 4,
   "id": "458571fe",
   "metadata": {
    "cq.autogen": "SelectBlockEncoding.black_box_select_block"
   },
   "outputs": [],
   "source": [
    "from qualtran.bloqs.chemistry.hubbard_model.qubitization import PrepareHubbard, SelectHubbard\n",
    "from qualtran.bloqs.multiplexers.black_box_select import BlackBoxSelect\n",
    "from qualtran.bloqs.state_preparation.black_box_prepare import BlackBoxPrepare\n",
    "\n",
    "# 3x3 hubbard model U/t = 4\n",
    "dim = 3\n",
    "select = SelectHubbard(x_dim=dim, y_dim=dim)\n",
    "U = 4\n",
    "t = 1\n",
    "prepare = PrepareHubbard(x_dim=dim, y_dim=dim, t=t, u=U)\n",
    "black_box_select_block = SelectBlockEncoding(\n",
    "    select=BlackBoxSelect(select), prepare=BlackBoxPrepare(prepare)\n",
    ")"
   ]
  },
  {
   "cell_type": "markdown",
   "id": "a6bc87e3",
   "metadata": {
    "cq.autogen": "SelectBlockEncoding.graphical_signature.md"
   },
   "source": [
    "#### Graphical Signature"
   ]
  },
  {
   "cell_type": "code",
   "execution_count": 5,
   "id": "09ec1aa0",
   "metadata": {
    "cq.autogen": "SelectBlockEncoding.graphical_signature.py"
   },
   "outputs": [
    {
     "data": {
      "application/vnd.jupyter.widget-view+json": {
       "model_id": "a8b66dd5ad464d8985eea8f55b19c1a4",
       "version_major": 2,
       "version_minor": 0
      },
      "text/plain": [
       "HBox(children=(Output(outputs=({'output_type': 'display_data', 'data': {'text/plain': '<IPython.core.display.M…"
      ]
     },
     "metadata": {},
     "output_type": "display_data"
    }
   ],
   "source": [
    "from qualtran.drawing import show_bloqs\n",
    "show_bloqs([select_block, black_box_select_block],\n",
    "           ['`select_block`', '`black_box_select_block`'])"
   ]
  },
  {
   "cell_type": "markdown",
   "id": "5380c739",
   "metadata": {
    "cq.autogen": "SelectBlockEncoding.call_graph.md"
   },
   "source": [
    "### Call Graph"
   ]
  },
  {
   "cell_type": "code",
   "execution_count": 6,
   "id": "9ff80370",
   "metadata": {
    "cq.autogen": "SelectBlockEncoding.call_graph.py"
   },
   "outputs": [
    {
     "data": {
      "image/svg+xml": [
       "<svg xmlns=\"http://www.w3.org/2000/svg\" xmlns:xlink=\"http://www.w3.org/1999/xlink\" width=\"379pt\" height=\"131pt\" viewBox=\"0.00 0.00 379.00 131.00\">\n",
       "<g id=\"graph0\" class=\"graph\" transform=\"scale(1 1) rotate(0) translate(4 127)\">\n",
       "<title>counts</title>\n",
       "<polygon fill=\"white\" stroke=\"transparent\" points=\"-4,4 -4,-127 375,-127 375,4 -4,4\"/>\n",
       "<!-- b0 -->\n",
       "<g id=\"node1\" class=\"node\">\n",
       "<title>b0</title>\n",
       "<polygon fill=\"none\" stroke=\"black\" points=\"371,-123 0,-123 0,-87 371,-87 371,-123\"/>\n",
       "<text text-anchor=\"start\" x=\"171.5\" y=\"-106.8\" font-family=\"Times,serif\" font-size=\"14.00\">B[H]</text>\n",
       "<text text-anchor=\"start\" x=\"8\" y=\"-96\" font-family=\"monospace\" font-size=\"10.00\">select=SelectHu ..., prepare=PrepareH ..., control_val=None</text>\n",
       "</g>\n",
       "<!-- b1 -->\n",
       "<g id=\"node2\" class=\"node\">\n",
       "<title>b1</title>\n",
       "<polygon fill=\"none\" stroke=\"black\" points=\"296,-36 75,-36 75,0 296,0 296,-36\"/>\n",
       "<text text-anchor=\"start\" x=\"145\" y=\"-19.8\" font-family=\"Times,serif\" font-size=\"14.00\">SelectHubbard</text>\n",
       "<text text-anchor=\"start\" x=\"83\" y=\"-9\" font-family=\"monospace\" font-size=\"10.00\">x_dim=3, y_dim=3, control_val=None</text>\n",
       "</g>\n",
       "<!-- b0&#45;&gt;b1 -->\n",
       "<g id=\"edge1\" class=\"edge\">\n",
       "<title>b0-&gt;b1</title>\n",
       "<path fill=\"none\" stroke=\"black\" d=\"M185.5,-86.8C185.5,-75.16 185.5,-59.55 185.5,-46.24\"/>\n",
       "<polygon fill=\"black\" stroke=\"black\" points=\"189,-46.18 185.5,-36.18 182,-46.18 189,-46.18\"/>\n",
       "<text text-anchor=\"middle\" x=\"189\" y=\"-57.8\" font-family=\"Times,serif\" font-size=\"14.00\">1</text>\n",
       "</g>\n",
       "</g>\n",
       "</svg>"
      ],
      "text/plain": [
       "<IPython.core.display.SVG object>"
      ]
     },
     "metadata": {},
     "output_type": "display_data"
    },
    {
     "data": {
      "text/markdown": [
       "#### Counts totals:\n",
       " - `SelectHubbard(3, 3)`: 1"
      ],
      "text/plain": [
       "<IPython.core.display.Markdown object>"
      ]
     },
     "metadata": {},
     "output_type": "display_data"
    }
   ],
   "source": [
    "from qualtran.resource_counting.generalizers import ignore_split_join\n",
    "select_block_g, select_block_sigma = select_block.call_graph(max_depth=1, generalizer=ignore_split_join)\n",
    "show_call_graph(select_block_g)\n",
    "show_counts_sigma(select_block_sigma)"
   ]
  },
  {
   "cell_type": "markdown",
   "id": "32fd25a4",
   "metadata": {
    "cq.autogen": "LCUBlockEncoding.bloq_doc.md"
   },
   "source": [
    "## `LCUBlockEncoding`\n",
    "LCU based block encoding using SELECT and PREPARE oracles.\n",
    "\n",
    "Builds the standard block encoding from an LCU as\n",
    "$$\n",
    "    B[H] = \\mathrm{PREPARE}^\\dagger \\cdot \\mathrm{SELECT} \\cdot \\mathrm{PREPARE},\n",
    "$$\n",
    "where\n",
    "$$\n",
    "    \\mathrm{PREPARE} |0\\rangle_a = \\sum_l \\sqrt{\\frac{w_l}{\\alpha}} |l\\rangle_a,\n",
    "$$\n",
    "and\n",
    "$$\n",
    "    \\mathrm{SELECT} |l\\rangle_a|\\psi\\rangle_s = |l\\rangle_a U_l |\\psi\\rangle_s.\n",
    "$$\n",
    "\n",
    "The Hamiltonian can be extracted via\n",
    "$$\n",
    "    \\langle 0 | B[H] | 0 \\rangle = H / \\alpha,\n",
    "$$\n",
    "This differs from the `SelectBlockEncoding` which uses Prepare for the signal state, while here\n",
    "it is the identity operator.\n",
    "\n",
    "The ancilla register is at least of size $\\log L$.\n",
    "\n",
    "In our implementations we typically split the ancilla registers into\n",
    "selection registers (i.e.  the $l$ registers above) and junk registers which\n",
    "are extra qubits needed by state preparation but not controlled upon during\n",
    "SELECT.\n",
    "\n",
    "#### Parameters\n",
    " - `select`: The bloq implementing the `SelectOracle` interface.\n",
    " - `prepare`: The bloq implementing the `PrepareOracle` interface. \n",
    "\n",
    "#### Registers\n",
    " - `selection`: The combined selection register.\n",
    " - `junk`: Additional junk registers not prepared upon.\n",
    " - `system`: The combined system register. \n",
    "\n",
    "#### References\n",
    " - [Hamiltonian Simulation by Qubitization](https://quantum-journal.org/papers/q-2019-07-12-163/).     Low et al. 2019. Sec 3.1, page 7 and 8 for high level overview and definitions. A     block encoding is called a standard form encoding there.\n",
    " - [The power of block-encoded matrix powers: improved regression techniques via faster Hamiltonian simulation](https://arxiv.org/abs/1804.01973).     Chakraborty et al. 2018. Definition 3 page 8.\n"
   ]
  },
  {
   "cell_type": "code",
   "execution_count": 7,
   "id": "ca76dfc7",
   "metadata": {
    "cq.autogen": "LCUBlockEncoding.bloq_doc.py"
   },
   "outputs": [],
   "source": [
    "from qualtran.bloqs.block_encoding import LCUBlockEncoding"
   ]
  },
  {
   "cell_type": "markdown",
   "id": "40d371bf",
   "metadata": {
    "cq.autogen": "LCUBlockEncoding.example_instances.md"
   },
   "source": [
    "### Example Instances"
   ]
  },
  {
   "cell_type": "code",
   "execution_count": 8,
   "id": "50c25e40",
   "metadata": {
    "cq.autogen": "LCUBlockEncoding.lcu_block"
   },
   "outputs": [],
   "source": [
    "from qualtran.bloqs.chemistry.hubbard_model.qubitization import PrepareHubbard, SelectHubbard\n",
    "\n",
    "# 3x3 hubbard model U/t = 4\n",
    "dim = 3\n",
    "select = SelectHubbard(x_dim=dim, y_dim=dim)\n",
    "U = 4\n",
    "t = 1\n",
    "prepare = PrepareHubbard(x_dim=dim, y_dim=dim, t=t, u=U)\n",
    "lcu_block = LCUBlockEncoding(select=select, prepare=prepare)"
   ]
  },
  {
   "cell_type": "code",
   "execution_count": 9,
   "id": "3a4cd812",
   "metadata": {
    "cq.autogen": "LCUBlockEncoding.black_box_lcu_block"
   },
   "outputs": [],
   "source": [
    "from qualtran.bloqs.chemistry.hubbard_model.qubitization import PrepareHubbard, SelectHubbard\n",
    "from qualtran.bloqs.multiplexers.black_box_select import BlackBoxSelect\n",
    "from qualtran.bloqs.state_preparation.black_box_prepare import BlackBoxPrepare\n",
    "\n",
    "# 3x3 hubbard model U/t = 4\n",
    "dim = 3\n",
    "select = SelectHubbard(x_dim=dim, y_dim=dim)\n",
    "U = 4\n",
    "t = 1\n",
    "prepare = PrepareHubbard(x_dim=dim, y_dim=dim, t=t, u=U)\n",
    "black_box_lcu_block = LCUBlockEncoding(\n",
    "    select=BlackBoxSelect(select), prepare=BlackBoxPrepare(prepare)\n",
    ")"
   ]
  },
  {
   "cell_type": "markdown",
   "id": "ed0879fd",
   "metadata": {
    "cq.autogen": "LCUBlockEncoding.graphical_signature.md"
   },
   "source": [
    "#### Graphical Signature"
   ]
  },
  {
   "cell_type": "code",
   "execution_count": 10,
   "id": "d6c2332e",
   "metadata": {
    "cq.autogen": "LCUBlockEncoding.graphical_signature.py"
   },
   "outputs": [
    {
     "data": {
      "application/vnd.jupyter.widget-view+json": {
       "model_id": "bd0cc1e84e684103ae33699c1f2a1bae",
       "version_major": 2,
       "version_minor": 0
      },
      "text/plain": [
       "HBox(children=(Output(outputs=({'output_type': 'display_data', 'data': {'text/plain': '<IPython.core.display.M…"
      ]
     },
     "metadata": {},
     "output_type": "display_data"
    }
   ],
   "source": [
    "from qualtran.drawing import show_bloqs\n",
    "show_bloqs([lcu_block, black_box_lcu_block],\n",
    "           ['`lcu_block`', '`black_box_lcu_block`'])"
   ]
  },
  {
   "cell_type": "markdown",
   "id": "cda4ef58",
   "metadata": {
    "cq.autogen": "LCUBlockEncoding.call_graph.md"
   },
   "source": [
    "### Call Graph"
   ]
  },
  {
   "cell_type": "code",
   "execution_count": 11,
   "id": "c123b946",
   "metadata": {
    "cq.autogen": "LCUBlockEncoding.call_graph.py"
   },
   "outputs": [
    {
     "data": {
      "image/svg+xml": [
       "<svg xmlns=\"http://www.w3.org/2000/svg\" xmlns:xlink=\"http://www.w3.org/1999/xlink\" width=\"575pt\" height=\"131pt\" viewBox=\"0.00 0.00 575.00 131.00\">\n",
       "<g id=\"graph0\" class=\"graph\" transform=\"scale(1 1) rotate(0) translate(4 127)\">\n",
       "<title>counts</title>\n",
       "<polygon fill=\"white\" stroke=\"transparent\" points=\"-4,4 -4,-127 571,-127 571,4 -4,4\"/>\n",
       "<!-- b0 -->\n",
       "<g id=\"node1\" class=\"node\">\n",
       "<title>b0</title>\n",
       "<polygon fill=\"none\" stroke=\"black\" points=\"487,-123 116,-123 116,-87 487,-87 487,-123\"/>\n",
       "<text text-anchor=\"start\" x=\"287.5\" y=\"-106.8\" font-family=\"Times,serif\" font-size=\"14.00\">B[H]</text>\n",
       "<text text-anchor=\"start\" x=\"124\" y=\"-96\" font-family=\"monospace\" font-size=\"10.00\">select=SelectHu ..., prepare=PrepareH ..., control_val=None</text>\n",
       "</g>\n",
       "<!-- b1 -->\n",
       "<g id=\"node2\" class=\"node\">\n",
       "<title>b1</title>\n",
       "<polygon fill=\"none\" stroke=\"black\" points=\"173,-36 0,-36 0,0 173,0 173,-36\"/>\n",
       "<text text-anchor=\"start\" x=\"42\" y=\"-19.8\" font-family=\"Times,serif\" font-size=\"14.00\">PrepareHubbard</text>\n",
       "<text text-anchor=\"start\" x=\"8\" y=\"-9\" font-family=\"monospace\" font-size=\"10.00\">x_dim=3, y_dim=3, t=1, u=4</text>\n",
       "</g>\n",
       "<!-- b0&#45;&gt;b1 -->\n",
       "<g id=\"edge1\" class=\"edge\">\n",
       "<title>b0-&gt;b1</title>\n",
       "<path fill=\"none\" stroke=\"black\" d=\"M258.25,-86.9C223.92,-73.33 175.78,-54.29 139.19,-39.83\"/>\n",
       "<polygon fill=\"black\" stroke=\"black\" points=\"140.27,-36.49 129.68,-36.07 137.69,-43 140.27,-36.49\"/>\n",
       "<text text-anchor=\"middle\" x=\"211\" y=\"-57.8\" font-family=\"Times,serif\" font-size=\"14.00\">1</text>\n",
       "</g>\n",
       "<!-- b2 -->\n",
       "<g id=\"node3\" class=\"node\">\n",
       "<title>b2</title>\n",
       "<polygon fill=\"none\" stroke=\"black\" points=\"412,-36 191,-36 191,0 412,0 412,-36\"/>\n",
       "<text text-anchor=\"start\" x=\"261\" y=\"-19.8\" font-family=\"Times,serif\" font-size=\"14.00\">SelectHubbard</text>\n",
       "<text text-anchor=\"start\" x=\"199\" y=\"-9\" font-family=\"monospace\" font-size=\"10.00\">x_dim=3, y_dim=3, control_val=None</text>\n",
       "</g>\n",
       "<!-- b0&#45;&gt;b2 -->\n",
       "<g id=\"edge2\" class=\"edge\">\n",
       "<title>b0-&gt;b2</title>\n",
       "<path fill=\"none\" stroke=\"black\" d=\"M301.5,-86.8C301.5,-75.16 301.5,-59.55 301.5,-46.24\"/>\n",
       "<polygon fill=\"black\" stroke=\"black\" points=\"305,-46.18 301.5,-36.18 298,-46.18 305,-46.18\"/>\n",
       "<text text-anchor=\"middle\" x=\"305\" y=\"-57.8\" font-family=\"Times,serif\" font-size=\"14.00\">1</text>\n",
       "</g>\n",
       "<!-- b3 -->\n",
       "<g id=\"node4\" class=\"node\">\n",
       "<title>b3</title>\n",
       "<polygon fill=\"none\" stroke=\"black\" points=\"567,-36 430,-36 430,0 567,0 567,-36\"/>\n",
       "<text text-anchor=\"start\" x=\"450.5\" y=\"-19.8\" font-family=\"Times,serif\" font-size=\"14.00\">PrepareHubbard†</text>\n",
       "<text text-anchor=\"start\" x=\"438\" y=\"-9\" font-family=\"monospace\" font-size=\"10.00\">subbloq=PrepareH ...</text>\n",
       "</g>\n",
       "<!-- b0&#45;&gt;b3 -->\n",
       "<g id=\"edge3\" class=\"edge\">\n",
       "<title>b0-&gt;b3</title>\n",
       "<path fill=\"none\" stroke=\"black\" d=\"M341.37,-86.8C372.58,-73.33 416.13,-54.54 449.48,-40.15\"/>\n",
       "<polygon fill=\"black\" stroke=\"black\" points=\"451.23,-43.21 459.03,-36.03 448.46,-36.78 451.23,-43.21\"/>\n",
       "<text text-anchor=\"middle\" x=\"416\" y=\"-57.8\" font-family=\"Times,serif\" font-size=\"14.00\">1</text>\n",
       "</g>\n",
       "</g>\n",
       "</svg>"
      ],
      "text/plain": [
       "<IPython.core.display.SVG object>"
      ]
     },
     "metadata": {},
     "output_type": "display_data"
    },
    {
     "data": {
      "text/markdown": [
       "#### Counts totals:\n",
       " - `Adjoint(subbloq=PrepareHubbard)`: 1\n",
       " - `PrepareHubbard`: 1\n",
       " - `SelectHubbard(3, 3)`: 1"
      ],
      "text/plain": [
       "<IPython.core.display.Markdown object>"
      ]
     },
     "metadata": {},
     "output_type": "display_data"
    }
   ],
   "source": [
    "from qualtran.resource_counting.generalizers import ignore_split_join\n",
    "lcu_block_g, lcu_block_sigma = lcu_block.call_graph(max_depth=1, generalizer=ignore_split_join)\n",
    "show_call_graph(lcu_block_g)\n",
    "show_counts_sigma(lcu_block_sigma)"
   ]
  },
  {
   "cell_type": "markdown",
   "id": "41f35700",
   "metadata": {
    "cq.autogen": "SelectOracle.bloq_doc.md"
   },
   "source": [
    "## `SelectOracle`\n",
    "Abstract base class that defines the interface for a SELECT Oracle.\n",
    "\n",
    "The action of a SELECT oracle on a selection register $|l\\rangle$ and target register\n",
    "$|\\Psi\\rangle$ can be defined as:\n",
    "\n",
    "$$\n",
    "    \\mathrm{SELECT} = \\sum_{l}|l \\rangle \\langle l| \\otimes U_l\n",
    "$$\n",
    "\n",
    "In other words, the `SELECT` oracle applies $l$'th unitary $U_l$ on the target register\n",
    "$|\\Psi\\rangle$ when the selection register stores integer $l$.\n",
    "\n",
    "$$\n",
    "    \\mathrm{SELECT}|l\\rangle |\\Psi\\rangle = |l\\rangle U_{l}|\\Psi\\rangle\n",
    "$$"
   ]
  },
  {
   "cell_type": "code",
   "execution_count": 12,
   "id": "78c13d1e",
   "metadata": {
    "cq.autogen": "SelectOracle.bloq_doc.py"
   },
   "outputs": [],
   "source": [
    "from qualtran.bloqs.multiplexers.select_base import SelectOracle"
   ]
  },
  {
   "cell_type": "markdown",
   "id": "b02dcd74",
   "metadata": {
    "cq.autogen": "PrepareOracle.bloq_doc.md"
   },
   "source": [
    "## `PrepareOracle`\n",
    "Abstract base class that defines the API for a PREPARE Oracle.\n",
    "\n",
    "Given a set of coefficients $\\{c_0, c_1, ..., c_{N - 1}\\}$, the PREPARE oracle is used to encode\n",
    "the coefficients as amplitudes of a state $|\\Psi\\rangle = \\sum_{l=0}^{N-1} \\sqrt{\\frac{c_l}{\\lambda}} |l\\rangle$\n",
    "where $\\lambda = \\sum_l |c_l|$, using a selection register $|l\\rangle$. In order to prepare such\n",
    "a state, the PREPARE circuit is also allowed to use a junk register that is entangled with\n",
    "selection register.\n",
    "\n",
    "Thus, the action of a PREPARE circuit on an input state $|0\\rangle$ can be defined as:\n",
    "\n",
    "$$\n",
    "    \\mathrm{PREPARE} |0\\rangle = \\sum_{l=0}^{N-1} \\sqrt{ \\frac{c_l}{\\lambda} } |l\\rangle |\\mathrm{junk}_l\\rangle\n",
    "$$"
   ]
  },
  {
   "cell_type": "code",
   "execution_count": 13,
   "id": "ddb7db0b",
   "metadata": {
    "cq.autogen": "PrepareOracle.bloq_doc.py"
   },
   "outputs": [],
   "source": [
    "from qualtran.bloqs.state_preparation.prepare_base import PrepareOracle"
   ]
  },
  {
   "cell_type": "markdown",
   "id": "42020699",
   "metadata": {
    "cq.autogen": "BlackBoxSelect.bloq_doc.md"
   },
   "source": [
    "## `BlackBoxSelect`\n",
    "A 'black box' Select bloq.\n",
    "\n",
    "The `SELECT` operation applies the $l$'th unitary $U_{l}$ on the system register\n",
    "when the selection register stores integer $l$.\n",
    "When implementing specific `SelectOracle` bloqs, it is helpful to have multiple selection\n",
    "registers each with semantic meaning. For example: you could have spatial or spin coordinates\n",
    "on different, named registers. The `SelectOracle` interface encourages this. `BlackBoxSelect`\n",
    "uses the properties on the `SelectOracle` interface to provide a \"black box\" view of a select\n",
    "operation that just has a selection and system register.\n",
    "During decomposition, this bloq will use the `Partition` utility bloq to partition\n",
    "and route the parts of the unified selection register to the `Select` bloq.\n",
    "\n",
    "#### Parameters\n",
    " - `select`: The bloq implementing the `SelectOracle` interface. \n",
    "\n",
    "#### Registers\n",
    " - `selection`: The combined selection register\n",
    " - `system`: The combined system register\n"
   ]
  },
  {
   "cell_type": "code",
   "execution_count": 14,
   "id": "376ccda6",
   "metadata": {
    "cq.autogen": "BlackBoxSelect.bloq_doc.py"
   },
   "outputs": [],
   "source": [
    "from qualtran.bloqs.multiplexers.black_box_select import BlackBoxSelect"
   ]
  },
  {
   "cell_type": "markdown",
   "id": "110ccc87",
   "metadata": {
    "cq.autogen": "BlackBoxSelect.example_instances.md"
   },
   "source": [
    "### Example Instances"
   ]
  },
  {
   "cell_type": "code",
   "execution_count": 15,
   "id": "9e51fcd3",
   "metadata": {
    "cq.autogen": "BlackBoxSelect.black_box_select"
   },
   "outputs": [],
   "source": [
    "from qualtran.bloqs.chemistry.hubbard_model.qubitization import SelectHubbard\n",
    "\n",
    "select = SelectHubbard(2, 2)\n",
    "black_box_select = BlackBoxSelect(select=select)"
   ]
  },
  {
   "cell_type": "markdown",
   "id": "82924c73",
   "metadata": {
    "cq.autogen": "BlackBoxSelect.graphical_signature.md"
   },
   "source": [
    "#### Graphical Signature"
   ]
  },
  {
   "cell_type": "code",
   "execution_count": 16,
   "id": "18e17dd4",
   "metadata": {
    "cq.autogen": "BlackBoxSelect.graphical_signature.py"
   },
   "outputs": [
    {
     "data": {
      "application/vnd.jupyter.widget-view+json": {
       "model_id": "96d43c4bcfe94fe58c7b3556b7799db7",
       "version_major": 2,
       "version_minor": 0
      },
      "text/plain": [
       "HBox(children=(Output(outputs=({'output_type': 'display_data', 'data': {'text/plain': '<IPython.core.display.M…"
      ]
     },
     "metadata": {},
     "output_type": "display_data"
    }
   ],
   "source": [
    "from qualtran.drawing import show_bloqs\n",
    "show_bloqs([black_box_select],\n",
    "           ['`black_box_select`'])"
   ]
  },
  {
   "cell_type": "markdown",
   "id": "2c72ac9f",
   "metadata": {
    "cq.autogen": "BlackBoxSelect.call_graph.md"
   },
   "source": [
    "### Call Graph"
   ]
  },
  {
   "cell_type": "code",
   "execution_count": 17,
   "id": "625d42e4",
   "metadata": {
    "cq.autogen": "BlackBoxSelect.call_graph.py"
   },
   "outputs": [
    {
     "data": {
      "image/svg+xml": [
       "<svg xmlns=\"http://www.w3.org/2000/svg\" xmlns:xlink=\"http://www.w3.org/1999/xlink\" width=\"229pt\" height=\"131pt\" viewBox=\"0.00 0.00 229.00 131.00\">\n",
       "<g id=\"graph0\" class=\"graph\" transform=\"scale(1 1) rotate(0) translate(4 127)\">\n",
       "<title>counts</title>\n",
       "<polygon fill=\"white\" stroke=\"transparent\" points=\"-4,4 -4,-127 225,-127 225,4 -4,4\"/>\n",
       "<!-- b0 -->\n",
       "<g id=\"node1\" class=\"node\">\n",
       "<title>b0</title>\n",
       "<polygon fill=\"none\" stroke=\"black\" points=\"176,-123 45,-123 45,-87 176,-87 176,-123\"/>\n",
       "<text text-anchor=\"start\" x=\"85.5\" y=\"-106.8\" font-family=\"Times,serif\" font-size=\"14.00\">SELECT</text>\n",
       "<text text-anchor=\"start\" x=\"53\" y=\"-96\" font-family=\"monospace\" font-size=\"10.00\">select=SelectHu ...</text>\n",
       "</g>\n",
       "<!-- b1 -->\n",
       "<g id=\"node2\" class=\"node\">\n",
       "<title>b1</title>\n",
       "<polygon fill=\"none\" stroke=\"black\" points=\"221,-36 0,-36 0,0 221,0 221,-36\"/>\n",
       "<text text-anchor=\"start\" x=\"70\" y=\"-19.8\" font-family=\"Times,serif\" font-size=\"14.00\">SelectHubbard</text>\n",
       "<text text-anchor=\"start\" x=\"8\" y=\"-9\" font-family=\"monospace\" font-size=\"10.00\">x_dim=2, y_dim=2, control_val=None</text>\n",
       "</g>\n",
       "<!-- b0&#45;&gt;b1 -->\n",
       "<g id=\"edge1\" class=\"edge\">\n",
       "<title>b0-&gt;b1</title>\n",
       "<path fill=\"none\" stroke=\"black\" d=\"M110.5,-86.8C110.5,-75.16 110.5,-59.55 110.5,-46.24\"/>\n",
       "<polygon fill=\"black\" stroke=\"black\" points=\"114,-46.18 110.5,-36.18 107,-46.18 114,-46.18\"/>\n",
       "<text text-anchor=\"middle\" x=\"114\" y=\"-57.8\" font-family=\"Times,serif\" font-size=\"14.00\">1</text>\n",
       "</g>\n",
       "</g>\n",
       "</svg>"
      ],
      "text/plain": [
       "<IPython.core.display.SVG object>"
      ]
     },
     "metadata": {},
     "output_type": "display_data"
    },
    {
     "data": {
      "text/markdown": [
       "#### Counts totals:\n",
       " - `SelectHubbard(2, 2)`: 1"
      ],
      "text/plain": [
       "<IPython.core.display.Markdown object>"
      ]
     },
     "metadata": {},
     "output_type": "display_data"
    }
   ],
   "source": [
    "from qualtran.resource_counting.generalizers import ignore_split_join\n",
    "black_box_select_g, black_box_select_sigma = black_box_select.call_graph(max_depth=1, generalizer=ignore_split_join)\n",
    "show_call_graph(black_box_select_g)\n",
    "show_counts_sigma(black_box_select_sigma)"
   ]
  },
  {
   "cell_type": "markdown",
   "id": "2ca2f17d",
   "metadata": {
    "cq.autogen": "BlackBoxPrepare.bloq_doc.md"
   },
   "source": [
    "## `BlackBoxPrepare`\n",
    "Provide a black-box interface to `Prepare` bloqs.\n",
    "\n",
    "This wrapper uses `Partition` to combine descriptive selection\n",
    "registers into one register named \"selection\".\n",
    "\n",
    "#### Parameters\n",
    " - `prepare`: The bloq following the `Prepare` interface to wrap. \n",
    "\n",
    "#### Registers\n",
    " - `selection`: selection register.\n",
    " - `junk`: Additional junk registers not prepared upon.\n"
   ]
  },
  {
   "cell_type": "code",
   "execution_count": 18,
   "id": "74e65985",
   "metadata": {
    "cq.autogen": "BlackBoxPrepare.bloq_doc.py"
   },
   "outputs": [],
   "source": [
    "from qualtran.bloqs.state_preparation.black_box_prepare import BlackBoxPrepare"
   ]
  },
  {
   "cell_type": "markdown",
   "id": "ced36451",
   "metadata": {
    "cq.autogen": "BlackBoxPrepare.example_instances.md"
   },
   "source": [
    "### Example Instances"
   ]
  },
  {
   "cell_type": "code",
   "execution_count": 19,
   "id": "3f65b734",
   "metadata": {
    "cq.autogen": "BlackBoxPrepare.black_box_prepare"
   },
   "outputs": [],
   "source": [
    "from qualtran.bloqs.chemistry.hubbard_model.qubitization import PrepareHubbard\n",
    "\n",
    "prepare = PrepareHubbard(2, 2, 1, 4)\n",
    "black_box_prepare = BlackBoxPrepare(prepare=prepare)"
   ]
  },
  {
   "cell_type": "markdown",
   "id": "f8f9f1dd",
   "metadata": {
    "cq.autogen": "BlackBoxPrepare.graphical_signature.md"
   },
   "source": [
    "#### Graphical Signature"
   ]
  },
  {
   "cell_type": "code",
   "execution_count": 20,
   "id": "d31d4114",
   "metadata": {
    "cq.autogen": "BlackBoxPrepare.graphical_signature.py"
   },
   "outputs": [
    {
     "data": {
      "application/vnd.jupyter.widget-view+json": {
       "model_id": "77f00bb196d145b4990f2c90d1488c3a",
       "version_major": 2,
       "version_minor": 0
      },
      "text/plain": [
       "HBox(children=(Output(outputs=({'output_type': 'display_data', 'data': {'text/plain': '<IPython.core.display.M…"
      ]
     },
     "metadata": {},
     "output_type": "display_data"
    }
   ],
   "source": [
    "from qualtran.drawing import show_bloqs\n",
    "show_bloqs([black_box_prepare],\n",
    "           ['`black_box_prepare`'])"
   ]
  },
  {
   "cell_type": "markdown",
   "id": "a817505d",
   "metadata": {
    "cq.autogen": "BlackBoxPrepare.call_graph.md"
   },
   "source": [
    "### Call Graph"
   ]
  },
  {
   "cell_type": "code",
   "execution_count": 21,
   "id": "0383f93f",
   "metadata": {
    "cq.autogen": "BlackBoxPrepare.call_graph.py"
   },
   "outputs": [
    {
     "data": {
      "image/svg+xml": [
       "<svg xmlns=\"http://www.w3.org/2000/svg\" xmlns:xlink=\"http://www.w3.org/1999/xlink\" width=\"181pt\" height=\"131pt\" viewBox=\"0.00 0.00 181.00 131.00\">\n",
       "<g id=\"graph0\" class=\"graph\" transform=\"scale(1 1) rotate(0) translate(4 127)\">\n",
       "<title>counts</title>\n",
       "<polygon fill=\"white\" stroke=\"transparent\" points=\"-4,4 -4,-127 177,-127 177,4 -4,4\"/>\n",
       "<!-- b0 -->\n",
       "<g id=\"node1\" class=\"node\">\n",
       "<title>b0</title>\n",
       "<polygon fill=\"none\" stroke=\"black\" points=\"155,-123 18,-123 18,-87 155,-87 155,-123\"/>\n",
       "<text text-anchor=\"start\" x=\"74\" y=\"-106.8\" font-family=\"Times,serif\" font-size=\"14.00\">Prep</text>\n",
       "<text text-anchor=\"start\" x=\"26\" y=\"-96\" font-family=\"monospace\" font-size=\"10.00\">prepare=PrepareH ...</text>\n",
       "</g>\n",
       "<!-- b1 -->\n",
       "<g id=\"node2\" class=\"node\">\n",
       "<title>b1</title>\n",
       "<polygon fill=\"none\" stroke=\"black\" points=\"173,-36 0,-36 0,0 173,0 173,-36\"/>\n",
       "<text text-anchor=\"start\" x=\"42\" y=\"-19.8\" font-family=\"Times,serif\" font-size=\"14.00\">PrepareHubbard</text>\n",
       "<text text-anchor=\"start\" x=\"8\" y=\"-9\" font-family=\"monospace\" font-size=\"10.00\">x_dim=2, y_dim=2, t=1, u=4</text>\n",
       "</g>\n",
       "<!-- b0&#45;&gt;b1 -->\n",
       "<g id=\"edge1\" class=\"edge\">\n",
       "<title>b0-&gt;b1</title>\n",
       "<path fill=\"none\" stroke=\"black\" d=\"M86.5,-86.8C86.5,-75.16 86.5,-59.55 86.5,-46.24\"/>\n",
       "<polygon fill=\"black\" stroke=\"black\" points=\"90,-46.18 86.5,-36.18 83,-46.18 90,-46.18\"/>\n",
       "<text text-anchor=\"middle\" x=\"90\" y=\"-57.8\" font-family=\"Times,serif\" font-size=\"14.00\">1</text>\n",
       "</g>\n",
       "</g>\n",
       "</svg>"
      ],
      "text/plain": [
       "<IPython.core.display.SVG object>"
      ]
     },
     "metadata": {},
     "output_type": "display_data"
    },
    {
     "data": {
      "text/markdown": [
       "#### Counts totals:\n",
       " - `PrepareHubbard`: 1"
      ],
      "text/plain": [
       "<IPython.core.display.Markdown object>"
      ]
     },
     "metadata": {},
     "output_type": "display_data"
    }
   ],
   "source": [
    "from qualtran.resource_counting.generalizers import ignore_split_join\n",
    "black_box_prepare_g, black_box_prepare_sigma = black_box_prepare.call_graph(max_depth=1, generalizer=ignore_split_join)\n",
    "show_call_graph(black_box_prepare_g)\n",
    "show_counts_sigma(black_box_prepare_sigma)"
   ]
  }
 ],
 "metadata": {
  "kernelspec": {
   "display_name": "Python 3",
   "language": "python",
   "name": "python3"
  },
  "language_info": {
   "codemirror_mode": {
    "name": "ipython",
    "version": 3
   },
   "file_extension": ".py",
   "mimetype": "text/x-python",
   "name": "python",
   "nbconvert_exporter": "python",
   "pygments_lexer": "ipython3",
   "version": "3.11.8"
  },
  "widgets": {
   "application/vnd.jupyter.widget-state+json": {
    "state": {
     "02f0a2ab6a2f4eee9a8e1412440ee46f": {
      "model_module": "@jupyter-widgets/base",
      "model_module_version": "2.0.0",
      "model_name": "LayoutModel",
      "state": {
       "_model_module": "@jupyter-widgets/base",
       "_model_module_version": "2.0.0",
       "_model_name": "LayoutModel",
       "_view_count": null,
       "_view_module": "@jupyter-widgets/base",
       "_view_module_version": "2.0.0",
       "_view_name": "LayoutView",
       "align_content": null,
       "align_items": null,
       "align_self": null,
       "border_bottom": null,
       "border_left": null,
       "border_right": null,
       "border_top": null,
       "bottom": null,
       "display": null,
       "flex": null,
       "flex_flow": null,
       "grid_area": null,
       "grid_auto_columns": null,
       "grid_auto_flow": null,
       "grid_auto_rows": null,
       "grid_column": null,
       "grid_gap": null,
       "grid_row": null,
       "grid_template_areas": null,
       "grid_template_columns": null,
       "grid_template_rows": null,
       "height": null,
       "justify_content": null,
       "justify_items": null,
       "left": null,
       "margin": null,
       "max_height": null,
       "max_width": null,
       "min_height": null,
       "min_width": null,
       "object_fit": null,
       "object_position": null,
       "order": null,
       "overflow": null,
       "padding": null,
       "right": null,
       "top": null,
       "visibility": null,
       "width": null
      }
     },
     "138e2a67bf9e493d93191ba3f7d84f66": {
      "model_module": "@jupyter-widgets/output",
      "model_module_version": "1.0.0",
      "model_name": "OutputModel",
      "state": {
       "_dom_classes": [],
       "_model_module": "@jupyter-widgets/output",
       "_model_module_version": "1.0.0",
       "_model_name": "OutputModel",
       "_view_count": null,
       "_view_module": "@jupyter-widgets/output",
       "_view_module_version": "1.0.0",
       "_view_name": "OutputView",
       "layout": "IPY_MODEL_31e39f6da5ab49f99520374ad5c240e5",
       "msg_id": "",
       "outputs": [
        {
         "data": {
          "text/markdown": "`black_box_select_block`",
          "text/plain": "<IPython.core.display.Markdown object>"
         },
         "metadata": {},
         "output_type": "display_data"
        },
        {
         "data": {
          "image/svg+xml": "<svg xmlns=\"http://www.w3.org/2000/svg\" xmlns:xlink=\"http://www.w3.org/1999/xlink\" width=\"308pt\" height=\"98pt\" viewBox=\"0.00 0.00 308.00 98.00\">\n<g id=\"graph0\" class=\"graph\" transform=\"scale(1 1) rotate(0) translate(4 94)\">\n<title>my_graph</title>\n<polygon fill=\"white\" stroke=\"transparent\" points=\"-4,4 -4,-94 304,-94 304,4 -4,4\"/>\n<!-- selection_G0 -->\n<g id=\"node1\" class=\"node\">\n<title>selection_G0</title>\n<text text-anchor=\"middle\" x=\"32.5\" y=\"-68.3\" font-family=\"Times,serif\" font-size=\"14.00\">selection</text>\n</g>\n<!-- SelectBlockEncoding -->\n<g id=\"node3\" class=\"node\">\n<title>SelectBlockEncoding</title>\n<polygon fill=\"none\" stroke=\"black\" points=\"102,-66 102,-83 198,-83 198,-66 102,-66\"/>\n<text text-anchor=\"start\" x=\"105\" y=\"-72\" font-family=\"Times,serif\" font-size=\"10.00\">SelectBlockEncoding</text>\n<polygon fill=\"none\" stroke=\"black\" points=\"102,-45 102,-66 198,-66 198,-45 102,-45\"/>\n<text text-anchor=\"start\" x=\"125.5\" y=\"-51.8\" font-family=\"Times,serif\" font-size=\"14.00\">selection</text>\n<polygon fill=\"none\" stroke=\"black\" points=\"102,-24 102,-45 198,-45 198,-24 102,-24\"/>\n<text text-anchor=\"start\" x=\"130.5\" y=\"-30.8\" font-family=\"Times,serif\" font-size=\"14.00\">system</text>\n</g>\n<!-- selection_G0&#45;&gt;SelectBlockEncoding -->\n<g id=\"edge1\" class=\"edge\">\n<title>selection_G0:e-&gt;SelectBlockEncoding:w</title>\n<path fill=\"none\" stroke=\"black\" d=\"M65,-72C82.22,-72 83.97,-57.23 99.98,-56.07\"/>\n<ellipse fill=\"black\" stroke=\"black\" cx=\"101\" cy=\"-56.04\" rx=\"1\" ry=\"1\"/>\n<text text-anchor=\"middle\" x=\"83.5\" y=\"-67\" font-family=\"Times,serif\" font-size=\"10.00\">12</text>\n</g>\n<!-- system_G2 -->\n<g id=\"node2\" class=\"node\">\n<title>system_G2</title>\n<text text-anchor=\"middle\" x=\"32.5\" y=\"-14.3\" font-family=\"Times,serif\" font-size=\"14.00\">system</text>\n</g>\n<!-- system_G2&#45;&gt;SelectBlockEncoding -->\n<g id=\"edge2\" class=\"edge\">\n<title>system_G2:e-&gt;SelectBlockEncoding:w</title>\n<path fill=\"none\" stroke=\"black\" d=\"M61.5,-18C80.1,-18 82.48,-32.77 99.81,-33.93\"/>\n<ellipse fill=\"black\" stroke=\"black\" cx=\"101\" cy=\"-33.97\" rx=\"1\" ry=\"1\"/>\n<text text-anchor=\"middle\" x=\"83.5\" y=\"-31\" font-family=\"Times,serif\" font-size=\"10.00\">18</text>\n</g>\n<!-- selection_G5 -->\n<g id=\"node4\" class=\"node\">\n<title>selection_G5</title>\n<text text-anchor=\"middle\" x=\"267.5\" y=\"-68.3\" font-family=\"Times,serif\" font-size=\"14.00\">selection</text>\n</g>\n<!-- SelectBlockEncoding&#45;&gt;selection_G5 -->\n<g id=\"edge3\" class=\"edge\">\n<title>SelectBlockEncoding:e-&gt;selection_G5:w</title>\n<path fill=\"none\" stroke=\"black\" d=\"M198,-56C215.22,-56 216.97,-70.77 232.98,-71.93\"/>\n<ellipse fill=\"black\" stroke=\"black\" cx=\"234\" cy=\"-71.96\" rx=\"1\" ry=\"1\"/>\n<text text-anchor=\"middle\" x=\"216.5\" y=\"-67\" font-family=\"Times,serif\" font-size=\"10.00\">12</text>\n</g>\n<!-- system_G4 -->\n<g id=\"node5\" class=\"node\">\n<title>system_G4</title>\n<text text-anchor=\"middle\" x=\"267.5\" y=\"-14.3\" font-family=\"Times,serif\" font-size=\"14.00\">system</text>\n</g>\n<!-- SelectBlockEncoding&#45;&gt;system_G4 -->\n<g id=\"edge4\" class=\"edge\">\n<title>SelectBlockEncoding:e-&gt;system_G4:w</title>\n<path fill=\"none\" stroke=\"black\" d=\"M198,-34C216.6,-34 218.98,-19.23 236.31,-18.07\"/>\n<ellipse fill=\"black\" stroke=\"black\" cx=\"237.5\" cy=\"-18.03\" rx=\"1\" ry=\"1\"/>\n<text text-anchor=\"middle\" x=\"216.5\" y=\"-31\" font-family=\"Times,serif\" font-size=\"10.00\">18</text>\n</g>\n</g>\n</svg>",
          "text/plain": "<IPython.core.display.SVG object>"
         },
         "metadata": {},
         "output_type": "display_data"
        }
       ],
       "tabbable": null,
       "tooltip": null
      }
     },
     "14ee0bebede84425be43635b22b94b86": {
      "model_module": "@jupyter-widgets/base",
      "model_module_version": "2.0.0",
      "model_name": "LayoutModel",
      "state": {
       "_model_module": "@jupyter-widgets/base",
       "_model_module_version": "2.0.0",
       "_model_name": "LayoutModel",
       "_view_count": null,
       "_view_module": "@jupyter-widgets/base",
       "_view_module_version": "2.0.0",
       "_view_name": "LayoutView",
       "align_content": null,
       "align_items": null,
       "align_self": null,
       "border_bottom": null,
       "border_left": null,
       "border_right": null,
       "border_top": null,
       "bottom": null,
       "display": null,
       "flex": null,
       "flex_flow": null,
       "grid_area": null,
       "grid_auto_columns": null,
       "grid_auto_flow": null,
       "grid_auto_rows": null,
       "grid_column": null,
       "grid_gap": null,
       "grid_row": null,
       "grid_template_areas": null,
       "grid_template_columns": null,
       "grid_template_rows": null,
       "height": null,
       "justify_content": null,
       "justify_items": null,
       "left": null,
       "margin": null,
       "max_height": null,
       "max_width": null,
       "min_height": null,
       "min_width": null,
       "object_fit": null,
       "object_position": null,
       "order": null,
       "overflow": null,
       "padding": null,
       "right": null,
       "top": null,
       "visibility": null,
       "width": null
      }
     },
     "308697c9f5e34e00a26188fefbc32929": {
      "model_module": "@jupyter-widgets/base",
      "model_module_version": "2.0.0",
      "model_name": "LayoutModel",
      "state": {
       "_model_module": "@jupyter-widgets/base",
       "_model_module_version": "2.0.0",
       "_model_name": "LayoutModel",
       "_view_count": null,
       "_view_module": "@jupyter-widgets/base",
       "_view_module_version": "2.0.0",
       "_view_name": "LayoutView",
       "align_content": null,
       "align_items": null,
       "align_self": null,
       "border_bottom": null,
       "border_left": null,
       "border_right": null,
       "border_top": null,
       "bottom": null,
       "display": null,
       "flex": null,
       "flex_flow": null,
       "grid_area": null,
       "grid_auto_columns": null,
       "grid_auto_flow": null,
       "grid_auto_rows": null,
       "grid_column": null,
       "grid_gap": null,
       "grid_row": null,
       "grid_template_areas": null,
       "grid_template_columns": null,
       "grid_template_rows": null,
       "height": null,
       "justify_content": null,
       "justify_items": null,
       "left": null,
       "margin": null,
       "max_height": null,
       "max_width": null,
       "min_height": null,
       "min_width": null,
       "object_fit": null,
       "object_position": null,
       "order": null,
       "overflow": null,
       "padding": null,
       "right": null,
       "top": null,
       "visibility": null,
       "width": null
      }
     },
     "31e39f6da5ab49f99520374ad5c240e5": {
      "model_module": "@jupyter-widgets/base",
      "model_module_version": "2.0.0",
      "model_name": "LayoutModel",
      "state": {
       "_model_module": "@jupyter-widgets/base",
       "_model_module_version": "2.0.0",
       "_model_name": "LayoutModel",
       "_view_count": null,
       "_view_module": "@jupyter-widgets/base",
       "_view_module_version": "2.0.0",
       "_view_name": "LayoutView",
       "align_content": null,
       "align_items": null,
       "align_self": null,
       "border_bottom": null,
       "border_left": null,
       "border_right": null,
       "border_top": null,
       "bottom": null,
       "display": null,
       "flex": null,
       "flex_flow": null,
       "grid_area": null,
       "grid_auto_columns": null,
       "grid_auto_flow": null,
       "grid_auto_rows": null,
       "grid_column": null,
       "grid_gap": null,
       "grid_row": null,
       "grid_template_areas": null,
       "grid_template_columns": null,
       "grid_template_rows": null,
       "height": null,
       "justify_content": null,
       "justify_items": null,
       "left": null,
       "margin": null,
       "max_height": null,
       "max_width": null,
       "min_height": null,
       "min_width": null,
       "object_fit": null,
       "object_position": null,
       "order": null,
       "overflow": null,
       "padding": null,
       "right": null,
       "top": null,
       "visibility": null,
       "width": null
      }
     },
     "3d798db2f1d54f65b30242f5253764ac": {
      "model_module": "@jupyter-widgets/base",
      "model_module_version": "2.0.0",
      "model_name": "LayoutModel",
      "state": {
       "_model_module": "@jupyter-widgets/base",
       "_model_module_version": "2.0.0",
       "_model_name": "LayoutModel",
       "_view_count": null,
       "_view_module": "@jupyter-widgets/base",
       "_view_module_version": "2.0.0",
       "_view_name": "LayoutView",
       "align_content": null,
       "align_items": null,
       "align_self": null,
       "border_bottom": null,
       "border_left": null,
       "border_right": null,
       "border_top": null,
       "bottom": null,
       "display": null,
       "flex": null,
       "flex_flow": null,
       "grid_area": null,
       "grid_auto_columns": null,
       "grid_auto_flow": null,
       "grid_auto_rows": null,
       "grid_column": null,
       "grid_gap": null,
       "grid_row": null,
       "grid_template_areas": null,
       "grid_template_columns": null,
       "grid_template_rows": null,
       "height": null,
       "justify_content": null,
       "justify_items": null,
       "left": null,
       "margin": null,
       "max_height": null,
       "max_width": null,
       "min_height": null,
       "min_width": null,
       "object_fit": null,
       "object_position": null,
       "order": null,
       "overflow": null,
       "padding": null,
       "right": null,
       "top": null,
       "visibility": null,
       "width": null
      }
     },
     "4cd912839da04f89a5e88104e83b0498": {
      "model_module": "@jupyter-widgets/base",
      "model_module_version": "2.0.0",
      "model_name": "LayoutModel",
      "state": {
       "_model_module": "@jupyter-widgets/base",
       "_model_module_version": "2.0.0",
       "_model_name": "LayoutModel",
       "_view_count": null,
       "_view_module": "@jupyter-widgets/base",
       "_view_module_version": "2.0.0",
       "_view_name": "LayoutView",
       "align_content": null,
       "align_items": null,
       "align_self": null,
       "border_bottom": null,
       "border_left": null,
       "border_right": null,
       "border_top": null,
       "bottom": null,
       "display": null,
       "flex": null,
       "flex_flow": null,
       "grid_area": null,
       "grid_auto_columns": null,
       "grid_auto_flow": null,
       "grid_auto_rows": null,
       "grid_column": null,
       "grid_gap": null,
       "grid_row": null,
       "grid_template_areas": null,
       "grid_template_columns": null,
       "grid_template_rows": null,
       "height": null,
       "justify_content": null,
       "justify_items": null,
       "left": null,
       "margin": null,
       "max_height": null,
       "max_width": null,
       "min_height": null,
       "min_width": null,
       "object_fit": null,
       "object_position": null,
       "order": null,
       "overflow": null,
       "padding": null,
       "right": null,
       "top": null,
       "visibility": null,
       "width": null
      }
     },
     "556d8910730240e5acd402b29c9fdb6f": {
      "model_module": "@jupyter-widgets/base",
      "model_module_version": "2.0.0",
      "model_name": "LayoutModel",
      "state": {
       "_model_module": "@jupyter-widgets/base",
       "_model_module_version": "2.0.0",
       "_model_name": "LayoutModel",
       "_view_count": null,
       "_view_module": "@jupyter-widgets/base",
       "_view_module_version": "2.0.0",
       "_view_name": "LayoutView",
       "align_content": null,
       "align_items": null,
       "align_self": null,
       "border_bottom": null,
       "border_left": null,
       "border_right": null,
       "border_top": null,
       "bottom": null,
       "display": null,
       "flex": null,
       "flex_flow": null,
       "grid_area": null,
       "grid_auto_columns": null,
       "grid_auto_flow": null,
       "grid_auto_rows": null,
       "grid_column": null,
       "grid_gap": null,
       "grid_row": null,
       "grid_template_areas": null,
       "grid_template_columns": null,
       "grid_template_rows": null,
       "height": null,
       "justify_content": null,
       "justify_items": null,
       "left": null,
       "margin": null,
       "max_height": null,
       "max_width": null,
       "min_height": null,
       "min_width": null,
       "object_fit": null,
       "object_position": null,
       "order": null,
       "overflow": null,
       "padding": null,
       "right": null,
       "top": null,
       "visibility": null,
       "width": null
      }
     },
     "61a7656f76364604a208fc697cfeecdc": {
      "model_module": "@jupyter-widgets/output",
      "model_module_version": "1.0.0",
      "model_name": "OutputModel",
      "state": {
       "_dom_classes": [],
       "_model_module": "@jupyter-widgets/output",
       "_model_module_version": "1.0.0",
       "_model_name": "OutputModel",
       "_view_count": null,
       "_view_module": "@jupyter-widgets/output",
       "_view_module_version": "1.0.0",
       "_view_name": "OutputView",
       "layout": "IPY_MODEL_4cd912839da04f89a5e88104e83b0498",
       "msg_id": "",
       "outputs": [
        {
         "data": {
          "text/markdown": "`select_block`",
          "text/plain": "<IPython.core.display.Markdown object>"
         },
         "metadata": {},
         "output_type": "display_data"
        },
        {
         "data": {
          "image/svg+xml": "<svg xmlns=\"http://www.w3.org/2000/svg\" xmlns:xlink=\"http://www.w3.org/1999/xlink\" width=\"286pt\" height=\"476pt\" viewBox=\"0.00 0.00 286.00 476.00\">\n<g id=\"graph0\" class=\"graph\" transform=\"scale(1 1) rotate(0) translate(4 472)\">\n<title>my_graph</title>\n<polygon fill=\"white\" stroke=\"transparent\" points=\"-4,4 -4,-472 282,-472 282,4 -4,4\"/>\n<!-- U_G14 -->\n<g id=\"node1\" class=\"node\">\n<title>U_G14</title>\n<text text-anchor=\"middle\" x=\"27\" y=\"-446.3\" font-family=\"Times,serif\" font-size=\"14.00\">U</text>\n</g>\n<!-- SelectBlockEncoding -->\n<g id=\"node10\" class=\"node\">\n<title>SelectBlockEncoding</title>\n<polygon fill=\"none\" stroke=\"black\" points=\"91,-329 91,-346 187,-346 187,-329 91,-329\"/>\n<text text-anchor=\"start\" x=\"94\" y=\"-335\" font-family=\"Times,serif\" font-size=\"10.00\">SelectBlockEncoding</text>\n<polygon fill=\"none\" stroke=\"black\" points=\"91,-308 91,-329 187,-329 187,-308 91,-308\"/>\n<text text-anchor=\"start\" x=\"134\" y=\"-314.8\" font-family=\"Times,serif\" font-size=\"14.00\">U</text>\n<polygon fill=\"none\" stroke=\"black\" points=\"91,-287 91,-308 187,-308 187,-287 91,-287\"/>\n<text text-anchor=\"start\" x=\"134\" y=\"-293.8\" font-family=\"Times,serif\" font-size=\"14.00\">V</text>\n<polygon fill=\"none\" stroke=\"black\" points=\"91,-266 91,-287 187,-287 187,-266 91,-266\"/>\n<text text-anchor=\"start\" x=\"128.5\" y=\"-272.8\" font-family=\"Times,serif\" font-size=\"14.00\">p_x</text>\n<polygon fill=\"none\" stroke=\"black\" points=\"91,-245 91,-266 187,-266 187,-245 91,-245\"/>\n<text text-anchor=\"start\" x=\"128.5\" y=\"-251.8\" font-family=\"Times,serif\" font-size=\"14.00\">p_y</text>\n<polygon fill=\"none\" stroke=\"black\" points=\"91,-224 91,-245 187,-245 187,-224 91,-224\"/>\n<text text-anchor=\"start\" x=\"124\" y=\"-230.8\" font-family=\"Times,serif\" font-size=\"14.00\">alpha</text>\n<polygon fill=\"none\" stroke=\"black\" points=\"91,-203 91,-224 187,-224 187,-203 91,-203\"/>\n<text text-anchor=\"start\" x=\"128.5\" y=\"-209.8\" font-family=\"Times,serif\" font-size=\"14.00\">q_x</text>\n<polygon fill=\"none\" stroke=\"black\" points=\"91,-182 91,-203 187,-203 187,-182 91,-182\"/>\n<text text-anchor=\"start\" x=\"128.5\" y=\"-188.8\" font-family=\"Times,serif\" font-size=\"14.00\">q_y</text>\n<polygon fill=\"none\" stroke=\"black\" points=\"91,-161 91,-182 187,-182 187,-161 91,-161\"/>\n<text text-anchor=\"start\" x=\"127.5\" y=\"-167.8\" font-family=\"Times,serif\" font-size=\"14.00\">beta</text>\n<polygon fill=\"none\" stroke=\"black\" points=\"91,-140 91,-161 187,-161 187,-140 91,-140\"/>\n<text text-anchor=\"start\" x=\"123.5\" y=\"-146.8\" font-family=\"Times,serif\" font-size=\"14.00\">target</text>\n</g>\n<!-- U_G14&#45;&gt;SelectBlockEncoding -->\n<g id=\"edge1\" class=\"edge\">\n<title>U_G14:e-&gt;SelectBlockEncoding:w</title>\n<path fill=\"none\" stroke=\"black\" d=\"M54,-450C83.54,-450 61.82,-325.07 88.96,-319.21\"/>\n<ellipse fill=\"black\" stroke=\"black\" cx=\"90.01\" cy=\"-319.1\" rx=\"1\" ry=\"1\"/>\n<text text-anchor=\"middle\" x=\"72.5\" y=\"-395\" font-family=\"Times,serif\" font-size=\"10.00\">1</text>\n</g>\n<!-- V_G22 -->\n<g id=\"node2\" class=\"node\">\n<title>V_G22</title>\n<text text-anchor=\"middle\" x=\"27\" y=\"-392.3\" font-family=\"Times,serif\" font-size=\"14.00\">V</text>\n</g>\n<!-- V_G22&#45;&gt;SelectBlockEncoding -->\n<g id=\"edge2\" class=\"edge\">\n<title>V_G22:e-&gt;SelectBlockEncoding:w</title>\n<path fill=\"none\" stroke=\"black\" d=\"M54,-396C76.55,-396 68.29,-304.03 88.91,-298.28\"/>\n<ellipse fill=\"black\" stroke=\"black\" cx=\"90.01\" cy=\"-298.13\" rx=\"1\" ry=\"1\"/>\n<text text-anchor=\"middle\" x=\"72.5\" y=\"-352\" font-family=\"Times,serif\" font-size=\"10.00\">1</text>\n</g>\n<!-- p_x_G11 -->\n<g id=\"node3\" class=\"node\">\n<title>p_x_G11</title>\n<text text-anchor=\"middle\" x=\"27\" y=\"-338.3\" font-family=\"Times,serif\" font-size=\"14.00\">p_x</text>\n</g>\n<!-- p_x_G11&#45;&gt;SelectBlockEncoding -->\n<g id=\"edge3\" class=\"edge\">\n<title>p_x_G11:e-&gt;SelectBlockEncoding:w</title>\n<path fill=\"none\" stroke=\"black\" d=\"M54,-342C86.46,-342 59.11,-280.01 88.76,-277.11\"/>\n<ellipse fill=\"black\" stroke=\"black\" cx=\"90\" cy=\"-277.05\" rx=\"1\" ry=\"1\"/>\n<text text-anchor=\"middle\" x=\"72.5\" y=\"-318\" font-family=\"Times,serif\" font-size=\"10.00\">2</text>\n</g>\n<!-- p_y_G16 -->\n<g id=\"node4\" class=\"node\">\n<title>p_y_G16</title>\n<text text-anchor=\"middle\" x=\"27\" y=\"-284.3\" font-family=\"Times,serif\" font-size=\"14.00\">p_y</text>\n</g>\n<!-- p_y_G16&#45;&gt;SelectBlockEncoding -->\n<g id=\"edge4\" class=\"edge\">\n<title>p_y_G16:e-&gt;SelectBlockEncoding:w</title>\n<path fill=\"none\" stroke=\"black\" d=\"M54,-288C74.89,-288 69.72,-258.45 88.58,-256.14\"/>\n<ellipse fill=\"black\" stroke=\"black\" cx=\"90\" cy=\"-256.06\" rx=\"1\" ry=\"1\"/>\n<text text-anchor=\"middle\" x=\"72.5\" y=\"-275\" font-family=\"Times,serif\" font-size=\"10.00\">2</text>\n</g>\n<!-- alpha_G21 -->\n<g id=\"node5\" class=\"node\">\n<title>alpha_G21</title>\n<text text-anchor=\"middle\" x=\"27\" y=\"-230.3\" font-family=\"Times,serif\" font-size=\"14.00\">alpha</text>\n</g>\n<!-- alpha_G21&#45;&gt;SelectBlockEncoding -->\n<g id=\"edge5\" class=\"edge\">\n<title>alpha_G21:e-&gt;SelectBlockEncoding:w</title>\n<path fill=\"none\" stroke=\"black\" d=\"M54,-234C69.67,-234 74.14,-234 88.77,-234\"/>\n<ellipse fill=\"black\" stroke=\"black\" cx=\"90\" cy=\"-234\" rx=\"1\" ry=\"1\"/>\n<text text-anchor=\"middle\" x=\"72.5\" y=\"-237\" font-family=\"Times,serif\" font-size=\"10.00\">1</text>\n</g>\n<!-- q_x_G3 -->\n<g id=\"node6\" class=\"node\">\n<title>q_x_G3</title>\n<text text-anchor=\"middle\" x=\"27\" y=\"-176.3\" font-family=\"Times,serif\" font-size=\"14.00\">q_x</text>\n</g>\n<!-- q_x_G3&#45;&gt;SelectBlockEncoding -->\n<g id=\"edge6\" class=\"edge\">\n<title>q_x_G3:e-&gt;SelectBlockEncoding:w</title>\n<path fill=\"none\" stroke=\"black\" d=\"M54,-180C75.17,-180 69.47,-210.47 88.55,-212.85\"/>\n<ellipse fill=\"black\" stroke=\"black\" cx=\"90\" cy=\"-212.94\" rx=\"1\" ry=\"1\"/>\n<text text-anchor=\"middle\" x=\"72.5\" y=\"-200\" font-family=\"Times,serif\" font-size=\"10.00\">2</text>\n</g>\n<!-- q_y_G7 -->\n<g id=\"node7\" class=\"node\">\n<title>q_y_G7</title>\n<text text-anchor=\"middle\" x=\"27\" y=\"-122.3\" font-family=\"Times,serif\" font-size=\"14.00\">q_y</text>\n</g>\n<!-- q_y_G7&#45;&gt;SelectBlockEncoding -->\n<g id=\"edge7\" class=\"edge\">\n<title>q_y_G7:e-&gt;SelectBlockEncoding:w</title>\n<path fill=\"none\" stroke=\"black\" d=\"M54,-126C86.84,-126 58.75,-188.94 88.74,-191.89\"/>\n<ellipse fill=\"black\" stroke=\"black\" cx=\"90\" cy=\"-191.95\" rx=\"1\" ry=\"1\"/>\n<text text-anchor=\"middle\" x=\"72.5\" y=\"-169\" font-family=\"Times,serif\" font-size=\"10.00\">2</text>\n</g>\n<!-- beta_G17 -->\n<g id=\"node8\" class=\"node\">\n<title>beta_G17</title>\n<text text-anchor=\"middle\" x=\"27\" y=\"-68.3\" font-family=\"Times,serif\" font-size=\"14.00\">beta</text>\n</g>\n<!-- beta_G17&#45;&gt;SelectBlockEncoding -->\n<g id=\"edge8\" class=\"edge\">\n<title>beta_G17:e-&gt;SelectBlockEncoding:w</title>\n<path fill=\"none\" stroke=\"black\" d=\"M54,-72C76.75,-72 68.1,-164.91 88.89,-170.72\"/>\n<ellipse fill=\"black\" stroke=\"black\" cx=\"90.01\" cy=\"-170.87\" rx=\"1\" ry=\"1\"/>\n<text text-anchor=\"middle\" x=\"72.5\" y=\"-127\" font-family=\"Times,serif\" font-size=\"10.00\">1</text>\n</g>\n<!-- target_G26 -->\n<g id=\"node9\" class=\"node\">\n<title>target_G26</title>\n<text text-anchor=\"middle\" x=\"27\" y=\"-14.3\" font-family=\"Times,serif\" font-size=\"14.00\">target</text>\n</g>\n<!-- target_G26&#45;&gt;SelectBlockEncoding -->\n<g id=\"edge9\" class=\"edge\">\n<title>target_G26:e-&gt;SelectBlockEncoding:w</title>\n<path fill=\"none\" stroke=\"black\" d=\"M54,-18C83.75,-18 61.63,-143.89 88.95,-149.79\"/>\n<ellipse fill=\"black\" stroke=\"black\" cx=\"90.01\" cy=\"-149.9\" rx=\"1\" ry=\"1\"/>\n<text text-anchor=\"middle\" x=\"72.5\" y=\"-95\" font-family=\"Times,serif\" font-size=\"10.00\">18</text>\n</g>\n<!-- U_G5 -->\n<g id=\"node11\" class=\"node\">\n<title>U_G5</title>\n<text text-anchor=\"middle\" x=\"251\" y=\"-446.3\" font-family=\"Times,serif\" font-size=\"14.00\">U</text>\n</g>\n<!-- SelectBlockEncoding&#45;&gt;U_G5 -->\n<g id=\"edge10\" class=\"edge\">\n<title>SelectBlockEncoding:e-&gt;U_G5:w</title>\n<path fill=\"none\" stroke=\"black\" d=\"M187,-319C216.54,-319 194.82,-443.93 221.96,-449.79\"/>\n<ellipse fill=\"black\" stroke=\"black\" cx=\"223.01\" cy=\"-449.9\" rx=\"1\" ry=\"1\"/>\n<text text-anchor=\"middle\" x=\"205.5\" y=\"-395\" font-family=\"Times,serif\" font-size=\"10.00\">1</text>\n</g>\n<!-- V_G10 -->\n<g id=\"node12\" class=\"node\">\n<title>V_G10</title>\n<text text-anchor=\"middle\" x=\"251\" y=\"-392.3\" font-family=\"Times,serif\" font-size=\"14.00\">V</text>\n</g>\n<!-- SelectBlockEncoding&#45;&gt;V_G10 -->\n<g id=\"edge11\" class=\"edge\">\n<title>SelectBlockEncoding:e-&gt;V_G10:w</title>\n<path fill=\"none\" stroke=\"black\" d=\"M187,-298C209.55,-298 201.29,-389.97 221.91,-395.72\"/>\n<ellipse fill=\"black\" stroke=\"black\" cx=\"223.01\" cy=\"-395.87\" rx=\"1\" ry=\"1\"/>\n<text text-anchor=\"middle\" x=\"205.5\" y=\"-352\" font-family=\"Times,serif\" font-size=\"10.00\">1</text>\n</g>\n<!-- p_x_G20 -->\n<g id=\"node13\" class=\"node\">\n<title>p_x_G20</title>\n<text text-anchor=\"middle\" x=\"251\" y=\"-338.3\" font-family=\"Times,serif\" font-size=\"14.00\">p_x</text>\n</g>\n<!-- SelectBlockEncoding&#45;&gt;p_x_G20 -->\n<g id=\"edge12\" class=\"edge\">\n<title>SelectBlockEncoding:e-&gt;p_x_G20:w</title>\n<path fill=\"none\" stroke=\"black\" d=\"M187,-277C219.46,-277 192.11,-338.99 221.76,-341.89\"/>\n<ellipse fill=\"black\" stroke=\"black\" cx=\"223\" cy=\"-341.95\" rx=\"1\" ry=\"1\"/>\n<text text-anchor=\"middle\" x=\"205.5\" y=\"-318\" font-family=\"Times,serif\" font-size=\"10.00\">2</text>\n</g>\n<!-- p_y_G8 -->\n<g id=\"node14\" class=\"node\">\n<title>p_y_G8</title>\n<text text-anchor=\"middle\" x=\"251\" y=\"-284.3\" font-family=\"Times,serif\" font-size=\"14.00\">p_y</text>\n</g>\n<!-- SelectBlockEncoding&#45;&gt;p_y_G8 -->\n<g id=\"edge13\" class=\"edge\">\n<title>SelectBlockEncoding:e-&gt;p_y_G8:w</title>\n<path fill=\"none\" stroke=\"black\" d=\"M187,-256C207.89,-256 202.72,-285.55 221.58,-287.86\"/>\n<ellipse fill=\"black\" stroke=\"black\" cx=\"223\" cy=\"-287.94\" rx=\"1\" ry=\"1\"/>\n<text text-anchor=\"middle\" x=\"205.5\" y=\"-275\" font-family=\"Times,serif\" font-size=\"10.00\">2</text>\n</g>\n<!-- alpha_G1 -->\n<g id=\"node15\" class=\"node\">\n<title>alpha_G1</title>\n<text text-anchor=\"middle\" x=\"251\" y=\"-230.3\" font-family=\"Times,serif\" font-size=\"14.00\">alpha</text>\n</g>\n<!-- SelectBlockEncoding&#45;&gt;alpha_G1 -->\n<g id=\"edge14\" class=\"edge\">\n<title>SelectBlockEncoding:e-&gt;alpha_G1:w</title>\n<path fill=\"none\" stroke=\"black\" d=\"M187,-234C202.67,-234 207.14,-234 221.77,-234\"/>\n<ellipse fill=\"black\" stroke=\"black\" cx=\"223\" cy=\"-234\" rx=\"1\" ry=\"1\"/>\n<text text-anchor=\"middle\" x=\"205.5\" y=\"-237\" font-family=\"Times,serif\" font-size=\"10.00\">1</text>\n</g>\n<!-- q_x_G23 -->\n<g id=\"node16\" class=\"node\">\n<title>q_x_G23</title>\n<text text-anchor=\"middle\" x=\"251\" y=\"-176.3\" font-family=\"Times,serif\" font-size=\"14.00\">q_x</text>\n</g>\n<!-- SelectBlockEncoding&#45;&gt;q_x_G23 -->\n<g id=\"edge15\" class=\"edge\">\n<title>SelectBlockEncoding:e-&gt;q_x_G23:w</title>\n<path fill=\"none\" stroke=\"black\" d=\"M187,-213C208.17,-213 202.47,-182.53 221.55,-180.15\"/>\n<ellipse fill=\"black\" stroke=\"black\" cx=\"223\" cy=\"-180.06\" rx=\"1\" ry=\"1\"/>\n<text text-anchor=\"middle\" x=\"205.5\" y=\"-200\" font-family=\"Times,serif\" font-size=\"10.00\">2</text>\n</g>\n<!-- q_y_G25 -->\n<g id=\"node17\" class=\"node\">\n<title>q_y_G25</title>\n<text text-anchor=\"middle\" x=\"251\" y=\"-122.3\" font-family=\"Times,serif\" font-size=\"14.00\">q_y</text>\n</g>\n<!-- SelectBlockEncoding&#45;&gt;q_y_G25 -->\n<g id=\"edge16\" class=\"edge\">\n<title>SelectBlockEncoding:e-&gt;q_y_G25:w</title>\n<path fill=\"none\" stroke=\"black\" d=\"M187,-192C219.84,-192 191.75,-129.06 221.74,-126.11\"/>\n<ellipse fill=\"black\" stroke=\"black\" cx=\"223\" cy=\"-126.05\" rx=\"1\" ry=\"1\"/>\n<text text-anchor=\"middle\" x=\"205.5\" y=\"-169\" font-family=\"Times,serif\" font-size=\"10.00\">2</text>\n</g>\n<!-- beta_G9 -->\n<g id=\"node18\" class=\"node\">\n<title>beta_G9</title>\n<text text-anchor=\"middle\" x=\"251\" y=\"-68.3\" font-family=\"Times,serif\" font-size=\"14.00\">beta</text>\n</g>\n<!-- SelectBlockEncoding&#45;&gt;beta_G9 -->\n<g id=\"edge17\" class=\"edge\">\n<title>SelectBlockEncoding:e-&gt;beta_G9:w</title>\n<path fill=\"none\" stroke=\"black\" d=\"M187,-171C209.75,-171 201.1,-78.09 221.89,-72.28\"/>\n<ellipse fill=\"black\" stroke=\"black\" cx=\"223.01\" cy=\"-72.13\" rx=\"1\" ry=\"1\"/>\n<text text-anchor=\"middle\" x=\"205.5\" y=\"-127\" font-family=\"Times,serif\" font-size=\"10.00\">1</text>\n</g>\n<!-- target_G13 -->\n<g id=\"node19\" class=\"node\">\n<title>target_G13</title>\n<text text-anchor=\"middle\" x=\"251\" y=\"-14.3\" font-family=\"Times,serif\" font-size=\"14.00\">target</text>\n</g>\n<!-- SelectBlockEncoding&#45;&gt;target_G13 -->\n<g id=\"edge18\" class=\"edge\">\n<title>SelectBlockEncoding:e-&gt;target_G13:w</title>\n<path fill=\"none\" stroke=\"black\" d=\"M187,-150C216.75,-150 194.63,-24.11 221.95,-18.21\"/>\n<ellipse fill=\"black\" stroke=\"black\" cx=\"223.01\" cy=\"-18.1\" rx=\"1\" ry=\"1\"/>\n<text text-anchor=\"middle\" x=\"205.5\" y=\"-95\" font-family=\"Times,serif\" font-size=\"10.00\">18</text>\n</g>\n</g>\n</svg>",
          "text/plain": "<IPython.core.display.SVG object>"
         },
         "metadata": {},
         "output_type": "display_data"
        }
       ],
       "tabbable": null,
       "tooltip": null
      }
     },
     "6f3a191f52504815b9e78cbb5043fb8c": {
      "model_module": "@jupyter-widgets/output",
      "model_module_version": "1.0.0",
      "model_name": "OutputModel",
      "state": {
       "_dom_classes": [],
       "_model_module": "@jupyter-widgets/output",
       "_model_module_version": "1.0.0",
       "_model_name": "OutputModel",
       "_view_count": null,
       "_view_module": "@jupyter-widgets/output",
       "_view_module_version": "1.0.0",
       "_view_name": "OutputView",
       "layout": "IPY_MODEL_d809e50e023e4590a6708b89f4e1b640",
       "msg_id": "",
       "outputs": [
        {
         "data": {
          "text/markdown": "`lcu_block`",
          "text/plain": "<IPython.core.display.Markdown object>"
         },
         "metadata": {},
         "output_type": "display_data"
        },
        {
         "data": {
          "image/svg+xml": "<svg xmlns=\"http://www.w3.org/2000/svg\" xmlns:xlink=\"http://www.w3.org/1999/xlink\" width=\"281pt\" height=\"530pt\" viewBox=\"0.00 0.00 281.00 530.00\">\n<g id=\"graph0\" class=\"graph\" transform=\"scale(1 1) rotate(0) translate(4 526)\">\n<title>my_graph</title>\n<polygon fill=\"white\" stroke=\"transparent\" points=\"-4,4 -4,-526 277,-526 277,4 -4,4\"/>\n<!-- U_G18 -->\n<g id=\"node1\" class=\"node\">\n<title>U_G18</title>\n<text text-anchor=\"middle\" x=\"27\" y=\"-500.3\" font-family=\"Times,serif\" font-size=\"14.00\">U</text>\n</g>\n<!-- LCUBlockEncoding -->\n<g id=\"node11\" class=\"node\">\n<title>LCUBlockEncoding</title>\n<polygon fill=\"none\" stroke=\"black\" points=\"91.5,-366 91.5,-383 182.5,-383 182.5,-366 91.5,-366\"/>\n<text text-anchor=\"start\" x=\"94.5\" y=\"-372\" font-family=\"Times,serif\" font-size=\"10.00\">LCUBlockEncoding</text>\n<polygon fill=\"none\" stroke=\"black\" points=\"91.5,-345 91.5,-366 182.5,-366 182.5,-345 91.5,-345\"/>\n<text text-anchor=\"start\" x=\"132\" y=\"-351.8\" font-family=\"Times,serif\" font-size=\"14.00\">U</text>\n<polygon fill=\"none\" stroke=\"black\" points=\"91.5,-324 91.5,-345 182.5,-345 182.5,-324 91.5,-324\"/>\n<text text-anchor=\"start\" x=\"132\" y=\"-330.8\" font-family=\"Times,serif\" font-size=\"14.00\">V</text>\n<polygon fill=\"none\" stroke=\"black\" points=\"91.5,-303 91.5,-324 182.5,-324 182.5,-303 91.5,-303\"/>\n<text text-anchor=\"start\" x=\"126.5\" y=\"-309.8\" font-family=\"Times,serif\" font-size=\"14.00\">p_x</text>\n<polygon fill=\"none\" stroke=\"black\" points=\"91.5,-282 91.5,-303 182.5,-303 182.5,-282 91.5,-282\"/>\n<text text-anchor=\"start\" x=\"126.5\" y=\"-288.8\" font-family=\"Times,serif\" font-size=\"14.00\">p_y</text>\n<polygon fill=\"none\" stroke=\"black\" points=\"91.5,-261 91.5,-282 182.5,-282 182.5,-261 91.5,-261\"/>\n<text text-anchor=\"start\" x=\"122\" y=\"-267.8\" font-family=\"Times,serif\" font-size=\"14.00\">alpha</text>\n<polygon fill=\"none\" stroke=\"black\" points=\"91.5,-240 91.5,-261 182.5,-261 182.5,-240 91.5,-240\"/>\n<text text-anchor=\"start\" x=\"126.5\" y=\"-246.8\" font-family=\"Times,serif\" font-size=\"14.00\">q_x</text>\n<polygon fill=\"none\" stroke=\"black\" points=\"91.5,-219 91.5,-240 182.5,-240 182.5,-219 91.5,-219\"/>\n<text text-anchor=\"start\" x=\"126.5\" y=\"-225.8\" font-family=\"Times,serif\" font-size=\"14.00\">q_y</text>\n<polygon fill=\"none\" stroke=\"black\" points=\"91.5,-198 91.5,-219 182.5,-219 182.5,-198 91.5,-198\"/>\n<text text-anchor=\"start\" x=\"125.5\" y=\"-204.8\" font-family=\"Times,serif\" font-size=\"14.00\">beta</text>\n<polygon fill=\"none\" stroke=\"black\" points=\"91.5,-177 91.5,-198 182.5,-198 182.5,-177 91.5,-177\"/>\n<text text-anchor=\"start\" x=\"123\" y=\"-183.8\" font-family=\"Times,serif\" font-size=\"14.00\">temp</text>\n<polygon fill=\"none\" stroke=\"black\" points=\"91.5,-156 91.5,-177 182.5,-177 182.5,-156 91.5,-156\"/>\n<text text-anchor=\"start\" x=\"121.5\" y=\"-162.8\" font-family=\"Times,serif\" font-size=\"14.00\">target</text>\n</g>\n<!-- U_G18&#45;&gt;LCUBlockEncoding -->\n<g id=\"edge1\" class=\"edge\">\n<title>U_G18:e-&gt;LCUBlockEncoding:w</title>\n<path fill=\"none\" stroke=\"black\" d=\"M54,-504C87.11,-504 58.51,-362.86 88.72,-356.24\"/>\n<ellipse fill=\"black\" stroke=\"black\" cx=\"90.01\" cy=\"-356.1\" rx=\"1\" ry=\"1\"/>\n<text text-anchor=\"middle\" x=\"72.5\" y=\"-450\" font-family=\"Times,serif\" font-size=\"10.00\">1</text>\n</g>\n<!-- V_G24 -->\n<g id=\"node2\" class=\"node\">\n<title>V_G24</title>\n<text text-anchor=\"middle\" x=\"27\" y=\"-446.3\" font-family=\"Times,serif\" font-size=\"14.00\">V</text>\n</g>\n<!-- V_G24&#45;&gt;LCUBlockEncoding -->\n<g id=\"edge2\" class=\"edge\">\n<title>V_G24:e-&gt;LCUBlockEncoding:w</title>\n<path fill=\"none\" stroke=\"black\" d=\"M54,-450C80.11,-450 65.03,-341.2 88.89,-335.25\"/>\n<ellipse fill=\"black\" stroke=\"black\" cx=\"90.01\" cy=\"-335.12\" rx=\"1\" ry=\"1\"/>\n<text text-anchor=\"middle\" x=\"72.5\" y=\"-398\" font-family=\"Times,serif\" font-size=\"10.00\">1</text>\n</g>\n<!-- p_x_G15 -->\n<g id=\"node3\" class=\"node\">\n<title>p_x_G15</title>\n<text text-anchor=\"middle\" x=\"27\" y=\"-392.3\" font-family=\"Times,serif\" font-size=\"14.00\">p_x</text>\n</g>\n<!-- p_x_G15&#45;&gt;LCUBlockEncoding -->\n<g id=\"edge3\" class=\"edge\">\n<title>p_x_G15:e-&gt;LCUBlockEncoding:w</title>\n<path fill=\"none\" stroke=\"black\" d=\"M54,-396C93.2,-396 52.66,-317.17 88.75,-314.09\"/>\n<ellipse fill=\"black\" stroke=\"black\" cx=\"90\" cy=\"-314.04\" rx=\"1\" ry=\"1\"/>\n<text text-anchor=\"middle\" x=\"72.5\" y=\"-381\" font-family=\"Times,serif\" font-size=\"10.00\">2</text>\n</g>\n<!-- p_y_G20 -->\n<g id=\"node4\" class=\"node\">\n<title>p_y_G20</title>\n<text text-anchor=\"middle\" x=\"27\" y=\"-338.3\" font-family=\"Times,serif\" font-size=\"14.00\">p_y</text>\n</g>\n<!-- p_y_G20&#45;&gt;LCUBlockEncoding -->\n<g id=\"edge4\" class=\"edge\">\n<title>p_y_G20:e-&gt;LCUBlockEncoding:w</title>\n<path fill=\"none\" stroke=\"black\" d=\"M54,-342C80.54,-342 64.64,-295.64 88.86,-293.11\"/>\n<ellipse fill=\"black\" stroke=\"black\" cx=\"90\" cy=\"-293.05\" rx=\"1\" ry=\"1\"/>\n<text text-anchor=\"middle\" x=\"72.5\" y=\"-321\" font-family=\"Times,serif\" font-size=\"10.00\">2</text>\n</g>\n<!-- alpha_G23 -->\n<g id=\"node5\" class=\"node\">\n<title>alpha_G23</title>\n<text text-anchor=\"middle\" x=\"27\" y=\"-284.3\" font-family=\"Times,serif\" font-size=\"14.00\">alpha</text>\n</g>\n<!-- alpha_G23&#45;&gt;LCUBlockEncoding -->\n<g id=\"edge5\" class=\"edge\">\n<title>alpha_G23:e-&gt;LCUBlockEncoding:w</title>\n<path fill=\"none\" stroke=\"black\" d=\"M54,-288C71.22,-288 72.97,-273.23 88.98,-272.07\"/>\n<ellipse fill=\"black\" stroke=\"black\" cx=\"90\" cy=\"-272.04\" rx=\"1\" ry=\"1\"/>\n<text text-anchor=\"middle\" x=\"72.5\" y=\"-283\" font-family=\"Times,serif\" font-size=\"10.00\">1</text>\n</g>\n<!-- q_x_G6 -->\n<g id=\"node6\" class=\"node\">\n<title>q_x_G6</title>\n<text text-anchor=\"middle\" x=\"27\" y=\"-230.3\" font-family=\"Times,serif\" font-size=\"14.00\">q_x</text>\n</g>\n<!-- q_x_G6&#45;&gt;LCUBlockEncoding -->\n<g id=\"edge6\" class=\"edge\">\n<title>q_x_G6:e-&gt;LCUBlockEncoding:w</title>\n<path fill=\"none\" stroke=\"black\" d=\"M54,-234C71.22,-234 72.97,-248.77 88.98,-249.93\"/>\n<ellipse fill=\"black\" stroke=\"black\" cx=\"90\" cy=\"-249.96\" rx=\"1\" ry=\"1\"/>\n<text text-anchor=\"middle\" x=\"72.5\" y=\"-245\" font-family=\"Times,serif\" font-size=\"10.00\">2</text>\n</g>\n<!-- q_y_G10 -->\n<g id=\"node7\" class=\"node\">\n<title>q_y_G10</title>\n<text text-anchor=\"middle\" x=\"27\" y=\"-176.3\" font-family=\"Times,serif\" font-size=\"14.00\">q_y</text>\n</g>\n<!-- q_y_G10&#45;&gt;LCUBlockEncoding -->\n<g id=\"edge7\" class=\"edge\">\n<title>q_y_G10:e-&gt;LCUBlockEncoding:w</title>\n<path fill=\"none\" stroke=\"black\" d=\"M54,-180C80.54,-180 64.64,-226.36 88.86,-228.89\"/>\n<ellipse fill=\"black\" stroke=\"black\" cx=\"90\" cy=\"-228.95\" rx=\"1\" ry=\"1\"/>\n<text text-anchor=\"middle\" x=\"72.5\" y=\"-208\" font-family=\"Times,serif\" font-size=\"10.00\">2</text>\n</g>\n<!-- beta_G21 -->\n<g id=\"node8\" class=\"node\">\n<title>beta_G21</title>\n<text text-anchor=\"middle\" x=\"27\" y=\"-122.3\" font-family=\"Times,serif\" font-size=\"14.00\">beta</text>\n</g>\n<!-- beta_G21&#45;&gt;LCUBlockEncoding -->\n<g id=\"edge8\" class=\"edge\">\n<title>beta_G21:e-&gt;LCUBlockEncoding:w</title>\n<path fill=\"none\" stroke=\"black\" d=\"M54,-126C93.2,-126 52.66,-204.83 88.75,-207.91\"/>\n<ellipse fill=\"black\" stroke=\"black\" cx=\"90\" cy=\"-207.96\" rx=\"1\" ry=\"1\"/>\n<text text-anchor=\"middle\" x=\"72.5\" y=\"-193\" font-family=\"Times,serif\" font-size=\"10.00\">1</text>\n</g>\n<!-- temp_G25 -->\n<g id=\"node9\" class=\"node\">\n<title>temp_G25</title>\n<text text-anchor=\"middle\" x=\"27\" y=\"-68.3\" font-family=\"Times,serif\" font-size=\"14.00\">temp</text>\n</g>\n<!-- temp_G25&#45;&gt;LCUBlockEncoding -->\n<g id=\"edge9\" class=\"edge\">\n<title>temp_G25:e-&gt;LCUBlockEncoding:w</title>\n<path fill=\"none\" stroke=\"black\" d=\"M54,-72C80.11,-72 65.03,-180.8 88.89,-186.75\"/>\n<ellipse fill=\"black\" stroke=\"black\" cx=\"90.01\" cy=\"-186.88\" rx=\"1\" ry=\"1\"/>\n<text text-anchor=\"middle\" x=\"72.5\" y=\"-135\" font-family=\"Times,serif\" font-size=\"10.00\">2</text>\n</g>\n<!-- target_G29 -->\n<g id=\"node10\" class=\"node\">\n<title>target_G29</title>\n<text text-anchor=\"middle\" x=\"27\" y=\"-14.3\" font-family=\"Times,serif\" font-size=\"14.00\">target</text>\n</g>\n<!-- target_G29&#45;&gt;LCUBlockEncoding -->\n<g id=\"edge10\" class=\"edge\">\n<title>target_G29:e-&gt;LCUBlockEncoding:w</title>\n<path fill=\"none\" stroke=\"black\" d=\"M54,-18C87.11,-18 58.51,-159.14 88.72,-165.76\"/>\n<ellipse fill=\"black\" stroke=\"black\" cx=\"90.01\" cy=\"-165.9\" rx=\"1\" ry=\"1\"/>\n<text text-anchor=\"middle\" x=\"72.5\" y=\"-113\" font-family=\"Times,serif\" font-size=\"10.00\">18</text>\n</g>\n<!-- U_G7 -->\n<g id=\"node12\" class=\"node\">\n<title>U_G7</title>\n<text text-anchor=\"middle\" x=\"246\" y=\"-500.3\" font-family=\"Times,serif\" font-size=\"14.00\">U</text>\n</g>\n<!-- LCUBlockEncoding&#45;&gt;U_G7 -->\n<g id=\"edge11\" class=\"edge\">\n<title>LCUBlockEncoding:e-&gt;U_G7:w</title>\n<path fill=\"none\" stroke=\"black\" d=\"M182,-356C215.11,-356 186.51,-497.14 216.72,-503.76\"/>\n<ellipse fill=\"black\" stroke=\"black\" cx=\"218.01\" cy=\"-503.9\" rx=\"1\" ry=\"1\"/>\n<text text-anchor=\"middle\" x=\"200.5\" y=\"-450\" font-family=\"Times,serif\" font-size=\"10.00\">1</text>\n</g>\n<!-- V_G14 -->\n<g id=\"node13\" class=\"node\">\n<title>V_G14</title>\n<text text-anchor=\"middle\" x=\"246\" y=\"-446.3\" font-family=\"Times,serif\" font-size=\"14.00\">V</text>\n</g>\n<!-- LCUBlockEncoding&#45;&gt;V_G14 -->\n<g id=\"edge12\" class=\"edge\">\n<title>LCUBlockEncoding:e-&gt;V_G14:w</title>\n<path fill=\"none\" stroke=\"black\" d=\"M182,-335C208.11,-335 193.03,-443.8 216.89,-449.75\"/>\n<ellipse fill=\"black\" stroke=\"black\" cx=\"218.01\" cy=\"-449.88\" rx=\"1\" ry=\"1\"/>\n<text text-anchor=\"middle\" x=\"200.5\" y=\"-398\" font-family=\"Times,serif\" font-size=\"10.00\">1</text>\n</g>\n<!-- p_x_G22 -->\n<g id=\"node14\" class=\"node\">\n<title>p_x_G22</title>\n<text text-anchor=\"middle\" x=\"246\" y=\"-392.3\" font-family=\"Times,serif\" font-size=\"14.00\">p_x</text>\n</g>\n<!-- LCUBlockEncoding&#45;&gt;p_x_G22 -->\n<g id=\"edge13\" class=\"edge\">\n<title>LCUBlockEncoding:e-&gt;p_x_G22:w</title>\n<path fill=\"none\" stroke=\"black\" d=\"M182,-314C221.2,-314 180.66,-392.83 216.75,-395.91\"/>\n<ellipse fill=\"black\" stroke=\"black\" cx=\"218\" cy=\"-395.96\" rx=\"1\" ry=\"1\"/>\n<text text-anchor=\"middle\" x=\"200.5\" y=\"-381\" font-family=\"Times,serif\" font-size=\"10.00\">2</text>\n</g>\n<!-- p_y_G11 -->\n<g id=\"node15\" class=\"node\">\n<title>p_y_G11</title>\n<text text-anchor=\"middle\" x=\"246\" y=\"-338.3\" font-family=\"Times,serif\" font-size=\"14.00\">p_y</text>\n</g>\n<!-- LCUBlockEncoding&#45;&gt;p_y_G11 -->\n<g id=\"edge14\" class=\"edge\">\n<title>LCUBlockEncoding:e-&gt;p_y_G11:w</title>\n<path fill=\"none\" stroke=\"black\" d=\"M182,-293C208.54,-293 192.64,-339.36 216.86,-341.89\"/>\n<ellipse fill=\"black\" stroke=\"black\" cx=\"218\" cy=\"-341.95\" rx=\"1\" ry=\"1\"/>\n<text text-anchor=\"middle\" x=\"200.5\" y=\"-321\" font-family=\"Times,serif\" font-size=\"10.00\">2</text>\n</g>\n<!-- alpha_G3 -->\n<g id=\"node16\" class=\"node\">\n<title>alpha_G3</title>\n<text text-anchor=\"middle\" x=\"246\" y=\"-284.3\" font-family=\"Times,serif\" font-size=\"14.00\">alpha</text>\n</g>\n<!-- LCUBlockEncoding&#45;&gt;alpha_G3 -->\n<g id=\"edge15\" class=\"edge\">\n<title>LCUBlockEncoding:e-&gt;alpha_G3:w</title>\n<path fill=\"none\" stroke=\"black\" d=\"M182,-272C199.22,-272 200.97,-286.77 216.98,-287.93\"/>\n<ellipse fill=\"black\" stroke=\"black\" cx=\"218\" cy=\"-287.96\" rx=\"1\" ry=\"1\"/>\n<text text-anchor=\"middle\" x=\"200.5\" y=\"-283\" font-family=\"Times,serif\" font-size=\"10.00\">1</text>\n</g>\n<!-- q_x_G5 -->\n<g id=\"node17\" class=\"node\">\n<title>q_x_G5</title>\n<text text-anchor=\"middle\" x=\"246\" y=\"-230.3\" font-family=\"Times,serif\" font-size=\"14.00\">q_x</text>\n</g>\n<!-- LCUBlockEncoding&#45;&gt;q_x_G5 -->\n<g id=\"edge16\" class=\"edge\">\n<title>LCUBlockEncoding:e-&gt;q_x_G5:w</title>\n<path fill=\"none\" stroke=\"black\" d=\"M182,-250C199.22,-250 200.97,-235.23 216.98,-234.07\"/>\n<ellipse fill=\"black\" stroke=\"black\" cx=\"218\" cy=\"-234.04\" rx=\"1\" ry=\"1\"/>\n<text text-anchor=\"middle\" x=\"200.5\" y=\"-245\" font-family=\"Times,serif\" font-size=\"10.00\">2</text>\n</g>\n<!-- q_y_G28 -->\n<g id=\"node18\" class=\"node\">\n<title>q_y_G28</title>\n<text text-anchor=\"middle\" x=\"246\" y=\"-176.3\" font-family=\"Times,serif\" font-size=\"14.00\">q_y</text>\n</g>\n<!-- LCUBlockEncoding&#45;&gt;q_y_G28 -->\n<g id=\"edge17\" class=\"edge\">\n<title>LCUBlockEncoding:e-&gt;q_y_G28:w</title>\n<path fill=\"none\" stroke=\"black\" d=\"M182,-229C208.54,-229 192.64,-182.64 216.86,-180.11\"/>\n<ellipse fill=\"black\" stroke=\"black\" cx=\"218\" cy=\"-180.05\" rx=\"1\" ry=\"1\"/>\n<text text-anchor=\"middle\" x=\"200.5\" y=\"-208\" font-family=\"Times,serif\" font-size=\"10.00\">2</text>\n</g>\n<!-- beta_G12 -->\n<g id=\"node19\" class=\"node\">\n<title>beta_G12</title>\n<text text-anchor=\"middle\" x=\"246\" y=\"-122.3\" font-family=\"Times,serif\" font-size=\"14.00\">beta</text>\n</g>\n<!-- LCUBlockEncoding&#45;&gt;beta_G12 -->\n<g id=\"edge18\" class=\"edge\">\n<title>LCUBlockEncoding:e-&gt;beta_G12:w</title>\n<path fill=\"none\" stroke=\"black\" d=\"M182,-208C221.2,-208 180.66,-129.17 216.75,-126.09\"/>\n<ellipse fill=\"black\" stroke=\"black\" cx=\"218\" cy=\"-126.04\" rx=\"1\" ry=\"1\"/>\n<text text-anchor=\"middle\" x=\"200.5\" y=\"-193\" font-family=\"Times,serif\" font-size=\"10.00\">1</text>\n</g>\n<!-- temp_G13 -->\n<g id=\"node20\" class=\"node\">\n<title>temp_G13</title>\n<text text-anchor=\"middle\" x=\"246\" y=\"-68.3\" font-family=\"Times,serif\" font-size=\"14.00\">temp</text>\n</g>\n<!-- LCUBlockEncoding&#45;&gt;temp_G13 -->\n<g id=\"edge19\" class=\"edge\">\n<title>LCUBlockEncoding:e-&gt;temp_G13:w</title>\n<path fill=\"none\" stroke=\"black\" d=\"M182,-187C208.11,-187 193.03,-78.2 216.89,-72.25\"/>\n<ellipse fill=\"black\" stroke=\"black\" cx=\"218.01\" cy=\"-72.12\" rx=\"1\" ry=\"1\"/>\n<text text-anchor=\"middle\" x=\"200.5\" y=\"-135\" font-family=\"Times,serif\" font-size=\"10.00\">2</text>\n</g>\n<!-- target_G16 -->\n<g id=\"node21\" class=\"node\">\n<title>target_G16</title>\n<text text-anchor=\"middle\" x=\"246\" y=\"-14.3\" font-family=\"Times,serif\" font-size=\"14.00\">target</text>\n</g>\n<!-- LCUBlockEncoding&#45;&gt;target_G16 -->\n<g id=\"edge20\" class=\"edge\">\n<title>LCUBlockEncoding:e-&gt;target_G16:w</title>\n<path fill=\"none\" stroke=\"black\" d=\"M182,-166C215.11,-166 186.51,-24.86 216.72,-18.24\"/>\n<ellipse fill=\"black\" stroke=\"black\" cx=\"218.01\" cy=\"-18.1\" rx=\"1\" ry=\"1\"/>\n<text text-anchor=\"middle\" x=\"200.5\" y=\"-113\" font-family=\"Times,serif\" font-size=\"10.00\">18</text>\n</g>\n</g>\n</svg>",
          "text/plain": "<IPython.core.display.SVG object>"
         },
         "metadata": {},
         "output_type": "display_data"
        }
       ],
       "tabbable": null,
       "tooltip": null
      }
     },
     "77f00bb196d145b4990f2c90d1488c3a": {
      "model_module": "@jupyter-widgets/controls",
      "model_module_version": "2.0.0",
      "model_name": "HBoxModel",
      "state": {
       "_dom_classes": [],
       "_model_module": "@jupyter-widgets/controls",
       "_model_module_version": "2.0.0",
       "_model_name": "HBoxModel",
       "_view_count": null,
       "_view_module": "@jupyter-widgets/controls",
       "_view_module_version": "2.0.0",
       "_view_name": "HBoxView",
       "box_style": "",
       "children": [
        "IPY_MODEL_b593f23ddd6f4e83b14dd1f0a7fd5e9e"
       ],
       "layout": "IPY_MODEL_02f0a2ab6a2f4eee9a8e1412440ee46f",
       "tabbable": null,
       "tooltip": null
      }
     },
     "96d43c4bcfe94fe58c7b3556b7799db7": {
      "model_module": "@jupyter-widgets/controls",
      "model_module_version": "2.0.0",
      "model_name": "HBoxModel",
      "state": {
       "_dom_classes": [],
       "_model_module": "@jupyter-widgets/controls",
       "_model_module_version": "2.0.0",
       "_model_name": "HBoxModel",
       "_view_count": null,
       "_view_module": "@jupyter-widgets/controls",
       "_view_module_version": "2.0.0",
       "_view_name": "HBoxView",
       "box_style": "",
       "children": [
        "IPY_MODEL_9c88423044dd4442bbd76e1f92faefae"
       ],
       "layout": "IPY_MODEL_308697c9f5e34e00a26188fefbc32929",
       "tabbable": null,
       "tooltip": null
      }
     },
     "9c88423044dd4442bbd76e1f92faefae": {
      "model_module": "@jupyter-widgets/output",
      "model_module_version": "1.0.0",
      "model_name": "OutputModel",
      "state": {
       "_dom_classes": [],
       "_model_module": "@jupyter-widgets/output",
       "_model_module_version": "1.0.0",
       "_model_name": "OutputModel",
       "_view_count": null,
       "_view_module": "@jupyter-widgets/output",
       "_view_module_version": "1.0.0",
       "_view_name": "OutputView",
       "layout": "IPY_MODEL_3d798db2f1d54f65b30242f5253764ac",
       "msg_id": "",
       "outputs": [
        {
         "data": {
          "text/markdown": "`black_box_select`",
          "text/plain": "<IPython.core.display.Markdown object>"
         },
         "metadata": {},
         "output_type": "display_data"
        },
        {
         "data": {
          "image/svg+xml": "<svg xmlns=\"http://www.w3.org/2000/svg\" xmlns:xlink=\"http://www.w3.org/1999/xlink\" width=\"285pt\" height=\"98pt\" viewBox=\"0.00 0.00 285.00 98.00\">\n<g id=\"graph0\" class=\"graph\" transform=\"scale(1 1) rotate(0) translate(4 94)\">\n<title>my_graph</title>\n<polygon fill=\"white\" stroke=\"transparent\" points=\"-4,4 -4,-94 281,-94 281,4 -4,4\"/>\n<!-- selection_G1 -->\n<g id=\"node1\" class=\"node\">\n<title>selection_G1</title>\n<text text-anchor=\"middle\" x=\"32.5\" y=\"-68.3\" font-family=\"Times,serif\" font-size=\"14.00\">selection</text>\n</g>\n<!-- BlackBoxSelect -->\n<g id=\"node3\" class=\"node\">\n<title>BlackBoxSelect</title>\n<polygon fill=\"none\" stroke=\"black\" points=\"102.5,-66 102.5,-83 175.5,-83 175.5,-66 102.5,-66\"/>\n<text text-anchor=\"start\" x=\"105.5\" y=\"-72\" font-family=\"Times,serif\" font-size=\"10.00\">BlackBoxSelect</text>\n<polygon fill=\"none\" stroke=\"black\" points=\"102.5,-45 102.5,-66 175.5,-66 175.5,-45 102.5,-45\"/>\n<text text-anchor=\"start\" x=\"114.5\" y=\"-51.8\" font-family=\"Times,serif\" font-size=\"14.00\">selection</text>\n<polygon fill=\"none\" stroke=\"black\" points=\"102.5,-24 102.5,-45 175.5,-45 175.5,-24 102.5,-24\"/>\n<text text-anchor=\"start\" x=\"119.5\" y=\"-30.8\" font-family=\"Times,serif\" font-size=\"14.00\">system</text>\n</g>\n<!-- selection_G1&#45;&gt;BlackBoxSelect -->\n<g id=\"edge1\" class=\"edge\">\n<title>selection_G1:e-&gt;BlackBoxSelect:w</title>\n<path fill=\"none\" stroke=\"black\" d=\"M65,-72C82.22,-72 83.97,-57.23 99.98,-56.07\"/>\n<ellipse fill=\"black\" stroke=\"black\" cx=\"101\" cy=\"-56.04\" rx=\"1\" ry=\"1\"/>\n<text text-anchor=\"middle\" x=\"83.5\" y=\"-67\" font-family=\"Times,serif\" font-size=\"10.00\">8</text>\n</g>\n<!-- system_G0 -->\n<g id=\"node2\" class=\"node\">\n<title>system_G0</title>\n<text text-anchor=\"middle\" x=\"32.5\" y=\"-14.3\" font-family=\"Times,serif\" font-size=\"14.00\">system</text>\n</g>\n<!-- system_G0&#45;&gt;BlackBoxSelect -->\n<g id=\"edge2\" class=\"edge\">\n<title>system_G0:e-&gt;BlackBoxSelect:w</title>\n<path fill=\"none\" stroke=\"black\" d=\"M61.5,-18C80.1,-18 82.48,-32.77 99.81,-33.93\"/>\n<ellipse fill=\"black\" stroke=\"black\" cx=\"101\" cy=\"-33.97\" rx=\"1\" ry=\"1\"/>\n<text text-anchor=\"middle\" x=\"83.5\" y=\"-31\" font-family=\"Times,serif\" font-size=\"10.00\">8</text>\n</g>\n<!-- selection_G4 -->\n<g id=\"node4\" class=\"node\">\n<title>selection_G4</title>\n<text text-anchor=\"middle\" x=\"244.5\" y=\"-68.3\" font-family=\"Times,serif\" font-size=\"14.00\">selection</text>\n</g>\n<!-- BlackBoxSelect&#45;&gt;selection_G4 -->\n<g id=\"edge3\" class=\"edge\">\n<title>BlackBoxSelect:e-&gt;selection_G4:w</title>\n<path fill=\"none\" stroke=\"black\" d=\"M175,-56C192.22,-56 193.97,-70.77 209.98,-71.93\"/>\n<ellipse fill=\"black\" stroke=\"black\" cx=\"211\" cy=\"-71.96\" rx=\"1\" ry=\"1\"/>\n<text text-anchor=\"middle\" x=\"193.5\" y=\"-67\" font-family=\"Times,serif\" font-size=\"10.00\">8</text>\n</g>\n<!-- system_G5 -->\n<g id=\"node5\" class=\"node\">\n<title>system_G5</title>\n<text text-anchor=\"middle\" x=\"244.5\" y=\"-14.3\" font-family=\"Times,serif\" font-size=\"14.00\">system</text>\n</g>\n<!-- BlackBoxSelect&#45;&gt;system_G5 -->\n<g id=\"edge4\" class=\"edge\">\n<title>BlackBoxSelect:e-&gt;system_G5:w</title>\n<path fill=\"none\" stroke=\"black\" d=\"M175,-34C193.6,-34 195.98,-19.23 213.31,-18.07\"/>\n<ellipse fill=\"black\" stroke=\"black\" cx=\"214.5\" cy=\"-18.03\" rx=\"1\" ry=\"1\"/>\n<text text-anchor=\"middle\" x=\"193.5\" y=\"-31\" font-family=\"Times,serif\" font-size=\"10.00\">8</text>\n</g>\n</g>\n</svg>",
          "text/plain": "<IPython.core.display.SVG object>"
         },
         "metadata": {},
         "output_type": "display_data"
        }
       ],
       "tabbable": null,
       "tooltip": null
      }
     },
     "a8b66dd5ad464d8985eea8f55b19c1a4": {
      "model_module": "@jupyter-widgets/controls",
      "model_module_version": "2.0.0",
      "model_name": "HBoxModel",
      "state": {
       "_dom_classes": [],
       "_model_module": "@jupyter-widgets/controls",
       "_model_module_version": "2.0.0",
       "_model_name": "HBoxModel",
       "_view_count": null,
       "_view_module": "@jupyter-widgets/controls",
       "_view_module_version": "2.0.0",
       "_view_name": "HBoxView",
       "box_style": "",
       "children": [
        "IPY_MODEL_61a7656f76364604a208fc697cfeecdc",
        "IPY_MODEL_138e2a67bf9e493d93191ba3f7d84f66"
       ],
       "layout": "IPY_MODEL_dbc8add0641d4311a5951c0e412ba7ea",
       "tabbable": null,
       "tooltip": null
      }
     },
     "b094b5839eb84a36a3bb5b1c25cb264d": {
      "model_module": "@jupyter-widgets/base",
      "model_module_version": "2.0.0",
      "model_name": "LayoutModel",
      "state": {
       "_model_module": "@jupyter-widgets/base",
       "_model_module_version": "2.0.0",
       "_model_name": "LayoutModel",
       "_view_count": null,
       "_view_module": "@jupyter-widgets/base",
       "_view_module_version": "2.0.0",
       "_view_name": "LayoutView",
       "align_content": null,
       "align_items": null,
       "align_self": null,
       "border_bottom": null,
       "border_left": null,
       "border_right": null,
       "border_top": null,
       "bottom": null,
       "display": null,
       "flex": null,
       "flex_flow": null,
       "grid_area": null,
       "grid_auto_columns": null,
       "grid_auto_flow": null,
       "grid_auto_rows": null,
       "grid_column": null,
       "grid_gap": null,
       "grid_row": null,
       "grid_template_areas": null,
       "grid_template_columns": null,
       "grid_template_rows": null,
       "height": null,
       "justify_content": null,
       "justify_items": null,
       "left": null,
       "margin": null,
       "max_height": null,
       "max_width": null,
       "min_height": null,
       "min_width": null,
       "object_fit": null,
       "object_position": null,
       "order": null,
       "overflow": null,
       "padding": null,
       "right": null,
       "top": null,
       "visibility": null,
       "width": null
      }
     },
     "b593f23ddd6f4e83b14dd1f0a7fd5e9e": {
      "model_module": "@jupyter-widgets/output",
      "model_module_version": "1.0.0",
      "model_name": "OutputModel",
      "state": {
       "_dom_classes": [],
       "_model_module": "@jupyter-widgets/output",
       "_model_module_version": "1.0.0",
       "_model_name": "OutputModel",
       "_view_count": null,
       "_view_module": "@jupyter-widgets/output",
       "_view_module_version": "1.0.0",
       "_view_name": "OutputView",
       "layout": "IPY_MODEL_556d8910730240e5acd402b29c9fdb6f",
       "msg_id": "",
       "outputs": [
        {
         "data": {
          "text/markdown": "`black_box_prepare`",
          "text/plain": "<IPython.core.display.Markdown object>"
         },
         "metadata": {},
         "output_type": "display_data"
        },
        {
         "data": {
          "image/svg+xml": "<svg xmlns=\"http://www.w3.org/2000/svg\" xmlns:xlink=\"http://www.w3.org/1999/xlink\" width=\"290pt\" height=\"98pt\" viewBox=\"0.00 0.00 290.00 98.00\">\n<g id=\"graph0\" class=\"graph\" transform=\"scale(1 1) rotate(0) translate(4 94)\">\n<title>my_graph</title>\n<polygon fill=\"white\" stroke=\"transparent\" points=\"-4,4 -4,-94 286,-94 286,4 -4,4\"/>\n<!-- selection_G1 -->\n<g id=\"node1\" class=\"node\">\n<title>selection_G1</title>\n<text text-anchor=\"middle\" x=\"32.5\" y=\"-68.3\" font-family=\"Times,serif\" font-size=\"14.00\">selection</text>\n</g>\n<!-- BlackBoxPrepare -->\n<g id=\"node3\" class=\"node\">\n<title>BlackBoxPrepare</title>\n<polygon fill=\"none\" stroke=\"black\" points=\"102,-66 102,-83 180,-83 180,-66 102,-66\"/>\n<text text-anchor=\"start\" x=\"105\" y=\"-72\" font-family=\"Times,serif\" font-size=\"10.00\">BlackBoxPrepare</text>\n<polygon fill=\"none\" stroke=\"black\" points=\"102,-45 102,-66 180,-66 180,-45 102,-45\"/>\n<text text-anchor=\"start\" x=\"116.5\" y=\"-51.8\" font-family=\"Times,serif\" font-size=\"14.00\">selection</text>\n<polygon fill=\"none\" stroke=\"black\" points=\"102,-24 102,-45 180,-45 180,-24 102,-24\"/>\n<text text-anchor=\"start\" x=\"128.5\" y=\"-30.8\" font-family=\"Times,serif\" font-size=\"14.00\">junk</text>\n</g>\n<!-- selection_G1&#45;&gt;BlackBoxPrepare -->\n<g id=\"edge1\" class=\"edge\">\n<title>selection_G1:e-&gt;BlackBoxPrepare:w</title>\n<path fill=\"none\" stroke=\"black\" d=\"M65,-72C82.22,-72 83.97,-57.23 99.98,-56.07\"/>\n<ellipse fill=\"black\" stroke=\"black\" cx=\"101\" cy=\"-56.04\" rx=\"1\" ry=\"1\"/>\n<text text-anchor=\"middle\" x=\"83.5\" y=\"-67\" font-family=\"Times,serif\" font-size=\"10.00\">8</text>\n</g>\n<!-- junk_G3 -->\n<g id=\"node2\" class=\"node\">\n<title>junk_G3</title>\n<text text-anchor=\"middle\" x=\"32.5\" y=\"-14.3\" font-family=\"Times,serif\" font-size=\"14.00\">junk</text>\n</g>\n<!-- junk_G3&#45;&gt;BlackBoxPrepare -->\n<g id=\"edge2\" class=\"edge\">\n<title>junk_G3:e-&gt;BlackBoxPrepare:w</title>\n<path fill=\"none\" stroke=\"black\" d=\"M60.5,-18C79.5,-18 82.05,-32.77 99.76,-33.93\"/>\n<ellipse fill=\"black\" stroke=\"black\" cx=\"101\" cy=\"-33.97\" rx=\"1\" ry=\"1\"/>\n<text text-anchor=\"middle\" x=\"83.5\" y=\"-31\" font-family=\"Times,serif\" font-size=\"10.00\">2</text>\n</g>\n<!-- selection_G5 -->\n<g id=\"node4\" class=\"node\">\n<title>selection_G5</title>\n<text text-anchor=\"middle\" x=\"249.5\" y=\"-68.3\" font-family=\"Times,serif\" font-size=\"14.00\">selection</text>\n</g>\n<!-- BlackBoxPrepare&#45;&gt;selection_G5 -->\n<g id=\"edge3\" class=\"edge\">\n<title>BlackBoxPrepare:e-&gt;selection_G5:w</title>\n<path fill=\"none\" stroke=\"black\" d=\"M180,-56C197.22,-56 198.97,-70.77 214.98,-71.93\"/>\n<ellipse fill=\"black\" stroke=\"black\" cx=\"216\" cy=\"-71.96\" rx=\"1\" ry=\"1\"/>\n<text text-anchor=\"middle\" x=\"198.5\" y=\"-67\" font-family=\"Times,serif\" font-size=\"10.00\">8</text>\n</g>\n<!-- junk_G0 -->\n<g id=\"node5\" class=\"node\">\n<title>junk_G0</title>\n<text text-anchor=\"middle\" x=\"249.5\" y=\"-14.3\" font-family=\"Times,serif\" font-size=\"14.00\">junk</text>\n</g>\n<!-- BlackBoxPrepare&#45;&gt;junk_G0 -->\n<g id=\"edge4\" class=\"edge\">\n<title>BlackBoxPrepare:e-&gt;junk_G0:w</title>\n<path fill=\"none\" stroke=\"black\" d=\"M180,-34C199,-34 201.55,-19.23 219.26,-18.07\"/>\n<ellipse fill=\"black\" stroke=\"black\" cx=\"220.5\" cy=\"-18.03\" rx=\"1\" ry=\"1\"/>\n<text text-anchor=\"middle\" x=\"198.5\" y=\"-31\" font-family=\"Times,serif\" font-size=\"10.00\">2</text>\n</g>\n</g>\n</svg>",
          "text/plain": "<IPython.core.display.SVG object>"
         },
         "metadata": {},
         "output_type": "display_data"
        }
       ],
       "tabbable": null,
       "tooltip": null
      }
     },
     "bd0cc1e84e684103ae33699c1f2a1bae": {
      "model_module": "@jupyter-widgets/controls",
      "model_module_version": "2.0.0",
      "model_name": "HBoxModel",
      "state": {
       "_dom_classes": [],
       "_model_module": "@jupyter-widgets/controls",
       "_model_module_version": "2.0.0",
       "_model_name": "HBoxModel",
       "_view_count": null,
       "_view_module": "@jupyter-widgets/controls",
       "_view_module_version": "2.0.0",
       "_view_name": "HBoxView",
       "box_style": "",
       "children": [
        "IPY_MODEL_6f3a191f52504815b9e78cbb5043fb8c",
        "IPY_MODEL_c2693e53153044e797e60bda31fa1146"
       ],
       "layout": "IPY_MODEL_14ee0bebede84425be43635b22b94b86",
       "tabbable": null,
       "tooltip": null
      }
     },
     "c2693e53153044e797e60bda31fa1146": {
      "model_module": "@jupyter-widgets/output",
      "model_module_version": "1.0.0",
      "model_name": "OutputModel",
      "state": {
       "_dom_classes": [],
       "_model_module": "@jupyter-widgets/output",
       "_model_module_version": "1.0.0",
       "_model_name": "OutputModel",
       "_view_count": null,
       "_view_module": "@jupyter-widgets/output",
       "_view_module_version": "1.0.0",
       "_view_name": "OutputView",
       "layout": "IPY_MODEL_b094b5839eb84a36a3bb5b1c25cb264d",
       "msg_id": "",
       "outputs": [
        {
         "data": {
          "text/markdown": "`black_box_lcu_block`",
          "text/plain": "<IPython.core.display.Markdown object>"
         },
         "metadata": {},
         "output_type": "display_data"
        },
        {
         "data": {
          "image/svg+xml": "<svg xmlns=\"http://www.w3.org/2000/svg\" xmlns:xlink=\"http://www.w3.org/1999/xlink\" width=\"303pt\" height=\"152pt\" viewBox=\"0.00 0.00 303.00 152.00\">\n<g id=\"graph0\" class=\"graph\" transform=\"scale(1 1) rotate(0) translate(4 148)\">\n<title>my_graph</title>\n<polygon fill=\"white\" stroke=\"transparent\" points=\"-4,4 -4,-148 299,-148 299,4 -4,4\"/>\n<!-- selection_G5 -->\n<g id=\"node1\" class=\"node\">\n<title>selection_G5</title>\n<text text-anchor=\"middle\" x=\"32.5\" y=\"-122.3\" font-family=\"Times,serif\" font-size=\"14.00\">selection</text>\n</g>\n<!-- LCUBlockEncoding -->\n<g id=\"node4\" class=\"node\">\n<title>LCUBlockEncoding</title>\n<polygon fill=\"none\" stroke=\"black\" points=\"102.5,-104 102.5,-121 193.5,-121 193.5,-104 102.5,-104\"/>\n<text text-anchor=\"start\" x=\"105.5\" y=\"-110\" font-family=\"Times,serif\" font-size=\"10.00\">LCUBlockEncoding</text>\n<polygon fill=\"none\" stroke=\"black\" points=\"102.5,-83 102.5,-104 193.5,-104 193.5,-83 102.5,-83\"/>\n<text text-anchor=\"start\" x=\"123.5\" y=\"-89.8\" font-family=\"Times,serif\" font-size=\"14.00\">selection</text>\n<polygon fill=\"none\" stroke=\"black\" points=\"102.5,-62 102.5,-83 193.5,-83 193.5,-62 102.5,-62\"/>\n<text text-anchor=\"start\" x=\"135.5\" y=\"-68.8\" font-family=\"Times,serif\" font-size=\"14.00\">junk</text>\n<polygon fill=\"none\" stroke=\"black\" points=\"102.5,-41 102.5,-62 193.5,-62 193.5,-41 102.5,-41\"/>\n<text text-anchor=\"start\" x=\"128.5\" y=\"-47.8\" font-family=\"Times,serif\" font-size=\"14.00\">system</text>\n</g>\n<!-- selection_G5&#45;&gt;LCUBlockEncoding -->\n<g id=\"edge1\" class=\"edge\">\n<title>selection_G5:e-&gt;LCUBlockEncoding:w</title>\n<path fill=\"none\" stroke=\"black\" d=\"M65,-126C85.89,-126 80.72,-96.45 99.58,-94.14\"/>\n<ellipse fill=\"black\" stroke=\"black\" cx=\"101\" cy=\"-94.06\" rx=\"1\" ry=\"1\"/>\n<text text-anchor=\"middle\" x=\"83.5\" y=\"-113\" font-family=\"Times,serif\" font-size=\"10.00\">12</text>\n</g>\n<!-- junk_G7 -->\n<g id=\"node2\" class=\"node\">\n<title>junk_G7</title>\n<text text-anchor=\"middle\" x=\"32.5\" y=\"-68.3\" font-family=\"Times,serif\" font-size=\"14.00\">junk</text>\n</g>\n<!-- junk_G7&#45;&gt;LCUBlockEncoding -->\n<g id=\"edge2\" class=\"edge\">\n<title>junk_G7:e-&gt;LCUBlockEncoding:w</title>\n<path fill=\"none\" stroke=\"black\" d=\"M60.5,-72C78.22,-72 83.17,-72 99.9,-72\"/>\n<ellipse fill=\"black\" stroke=\"black\" cx=\"101\" cy=\"-72\" rx=\"1\" ry=\"1\"/>\n<text text-anchor=\"middle\" x=\"83.5\" y=\"-75\" font-family=\"Times,serif\" font-size=\"10.00\">2</text>\n</g>\n<!-- system_G1 -->\n<g id=\"node3\" class=\"node\">\n<title>system_G1</title>\n<text text-anchor=\"middle\" x=\"32.5\" y=\"-14.3\" font-family=\"Times,serif\" font-size=\"14.00\">system</text>\n</g>\n<!-- system_G1&#45;&gt;LCUBlockEncoding -->\n<g id=\"edge3\" class=\"edge\">\n<title>system_G1:e-&gt;LCUBlockEncoding:w</title>\n<path fill=\"none\" stroke=\"black\" d=\"M61.5,-18C83.99,-18 79.12,-48.97 99.91,-50.91\"/>\n<ellipse fill=\"black\" stroke=\"black\" cx=\"101\" cy=\"-50.95\" rx=\"1\" ry=\"1\"/>\n<text text-anchor=\"middle\" x=\"83.5\" y=\"-42\" font-family=\"Times,serif\" font-size=\"10.00\">18</text>\n</g>\n<!-- selection_G4 -->\n<g id=\"node5\" class=\"node\">\n<title>selection_G4</title>\n<text text-anchor=\"middle\" x=\"262.5\" y=\"-122.3\" font-family=\"Times,serif\" font-size=\"14.00\">selection</text>\n</g>\n<!-- LCUBlockEncoding&#45;&gt;selection_G4 -->\n<g id=\"edge4\" class=\"edge\">\n<title>LCUBlockEncoding:e-&gt;selection_G4:w</title>\n<path fill=\"none\" stroke=\"black\" d=\"M193,-94C213.89,-94 208.72,-123.55 227.58,-125.86\"/>\n<ellipse fill=\"black\" stroke=\"black\" cx=\"229\" cy=\"-125.94\" rx=\"1\" ry=\"1\"/>\n<text text-anchor=\"middle\" x=\"211.5\" y=\"-113\" font-family=\"Times,serif\" font-size=\"10.00\">12</text>\n</g>\n<!-- junk_G0 -->\n<g id=\"node6\" class=\"node\">\n<title>junk_G0</title>\n<text text-anchor=\"middle\" x=\"262.5\" y=\"-68.3\" font-family=\"Times,serif\" font-size=\"14.00\">junk</text>\n</g>\n<!-- LCUBlockEncoding&#45;&gt;junk_G0 -->\n<g id=\"edge5\" class=\"edge\">\n<title>LCUBlockEncoding:e-&gt;junk_G0:w</title>\n<path fill=\"none\" stroke=\"black\" d=\"M193,-72C210.72,-72 215.67,-72 232.4,-72\"/>\n<ellipse fill=\"black\" stroke=\"black\" cx=\"233.5\" cy=\"-72\" rx=\"1\" ry=\"1\"/>\n<text text-anchor=\"middle\" x=\"211.5\" y=\"-75\" font-family=\"Times,serif\" font-size=\"10.00\">2</text>\n</g>\n<!-- system_G3 -->\n<g id=\"node7\" class=\"node\">\n<title>system_G3</title>\n<text text-anchor=\"middle\" x=\"262.5\" y=\"-14.3\" font-family=\"Times,serif\" font-size=\"14.00\">system</text>\n</g>\n<!-- LCUBlockEncoding&#45;&gt;system_G3 -->\n<g id=\"edge6\" class=\"edge\">\n<title>LCUBlockEncoding:e-&gt;system_G3:w</title>\n<path fill=\"none\" stroke=\"black\" d=\"M193,-51C215.49,-51 210.62,-20.03 231.41,-18.09\"/>\n<ellipse fill=\"black\" stroke=\"black\" cx=\"232.5\" cy=\"-18.05\" rx=\"1\" ry=\"1\"/>\n<text text-anchor=\"middle\" x=\"211.5\" y=\"-42\" font-family=\"Times,serif\" font-size=\"10.00\">18</text>\n</g>\n</g>\n</svg>",
          "text/plain": "<IPython.core.display.SVG object>"
         },
         "metadata": {},
         "output_type": "display_data"
        }
       ],
       "tabbable": null,
       "tooltip": null
      }
     },
     "d809e50e023e4590a6708b89f4e1b640": {
      "model_module": "@jupyter-widgets/base",
      "model_module_version": "2.0.0",
      "model_name": "LayoutModel",
      "state": {
       "_model_module": "@jupyter-widgets/base",
       "_model_module_version": "2.0.0",
       "_model_name": "LayoutModel",
       "_view_count": null,
       "_view_module": "@jupyter-widgets/base",
       "_view_module_version": "2.0.0",
       "_view_name": "LayoutView",
       "align_content": null,
       "align_items": null,
       "align_self": null,
       "border_bottom": null,
       "border_left": null,
       "border_right": null,
       "border_top": null,
       "bottom": null,
       "display": null,
       "flex": null,
       "flex_flow": null,
       "grid_area": null,
       "grid_auto_columns": null,
       "grid_auto_flow": null,
       "grid_auto_rows": null,
       "grid_column": null,
       "grid_gap": null,
       "grid_row": null,
       "grid_template_areas": null,
       "grid_template_columns": null,
       "grid_template_rows": null,
       "height": null,
       "justify_content": null,
       "justify_items": null,
       "left": null,
       "margin": null,
       "max_height": null,
       "max_width": null,
       "min_height": null,
       "min_width": null,
       "object_fit": null,
       "object_position": null,
       "order": null,
       "overflow": null,
       "padding": null,
       "right": null,
       "top": null,
       "visibility": null,
       "width": null
      }
     },
     "dbc8add0641d4311a5951c0e412ba7ea": {
      "model_module": "@jupyter-widgets/base",
      "model_module_version": "2.0.0",
      "model_name": "LayoutModel",
      "state": {
       "_model_module": "@jupyter-widgets/base",
       "_model_module_version": "2.0.0",
       "_model_name": "LayoutModel",
       "_view_count": null,
       "_view_module": "@jupyter-widgets/base",
       "_view_module_version": "2.0.0",
       "_view_name": "LayoutView",
       "align_content": null,
       "align_items": null,
       "align_self": null,
       "border_bottom": null,
       "border_left": null,
       "border_right": null,
       "border_top": null,
       "bottom": null,
       "display": null,
       "flex": null,
       "flex_flow": null,
       "grid_area": null,
       "grid_auto_columns": null,
       "grid_auto_flow": null,
       "grid_auto_rows": null,
       "grid_column": null,
       "grid_gap": null,
       "grid_row": null,
       "grid_template_areas": null,
       "grid_template_columns": null,
       "grid_template_rows": null,
       "height": null,
       "justify_content": null,
       "justify_items": null,
       "left": null,
       "margin": null,
       "max_height": null,
       "max_width": null,
       "min_height": null,
       "min_width": null,
       "object_fit": null,
       "object_position": null,
       "order": null,
       "overflow": null,
       "padding": null,
       "right": null,
       "top": null,
       "visibility": null,
       "width": null
      }
     }
    },
    "version_major": 2,
    "version_minor": 0
   }
  }
 },
 "nbformat": 4,
 "nbformat_minor": 5
}
