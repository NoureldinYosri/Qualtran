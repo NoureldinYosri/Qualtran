{
 "cells": [
  {
   "cell_type": "markdown",
   "id": "ab3af90b",
   "metadata": {
    "cq.autogen": "title_cell"
   },
   "source": [
    "# Sparse Matrix"
   ]
  },
  {
   "cell_type": "code",
   "execution_count": 1,
   "id": "9bac692b",
   "metadata": {
    "cq.autogen": "top_imports"
   },
   "outputs": [],
   "source": [
    "from qualtran import Bloq, CompositeBloq, BloqBuilder, Signature, Register\n",
    "from qualtran import QBit, QInt, QUInt, QAny\n",
    "from qualtran.drawing import show_bloq, show_call_graph, show_counts_sigma\n",
    "from typing import *\n",
    "import numpy as np\n",
    "import sympy\n",
    "import cirq"
   ]
  },
  {
   "cell_type": "markdown",
   "id": "be3c04e3",
   "metadata": {
    "cq.autogen": "SparseMatrix.bloq_doc.md"
   },
   "source": [
    "## `SparseMatrix`\n",
    "Block encoding of a sparse-access matrix.\n",
    "\n",
    "Given row, column, and entry oracles $O_r$, $O_c$, and $O_A$ for an $s$-sparse matrix\n",
    "$A \\in \\mathbb{C}^{2^n \\times 2^n}$, i.e. one where each row / column has exactly $s$ non-zero\n",
    "entries, computes a $(s, n+1, \\epsilon)$-block encoding of $A$ as follows:\n",
    "```\n",
    "       ┌────┐                       ┌────┐\n",
    "  |0> ─┤    ├─     |0> ─────────────┤    ├───────────────\n",
    "       │    │           ┌──┐        │    │          ┌──┐\n",
    "       │ U  │  =        │ n│ ┌────┐ │ O  │   ┌────┐ │ n│\n",
    "|0^n> ─┤  A ├─   |0^n> ─┤H ├─┤    ├─┤  A ├─X─┤    ├─┤H ├─\n",
    "       │    │           └──┘ │ O  │ │    │ │ │ O* │ └──┘\n",
    "|Psi> ─┤    ├─   |Psi> ──────┤  c ├─┤    ├─X─┤  r ├──────\n",
    "       └────┘                └────┘ └────┘   └────┘\n",
    "```\n",
    "\n",
    "To encode a matrix of irregular dimension, the matrix should first be embedded into one of\n",
    "dimension $2^n \\times 2^n$ for suitable $n$.\n",
    "To encode a matrix where each row / column has at most $s$ non-zero entries, some zeroes should\n",
    "be treated as if they were non-zero so that each row / column has exactly $s$ non-zero entries.\n",
    "\n",
    "#### Parameters\n",
    " - `row_oracle`: The row oracle $O_r$. See `RowColumnOracle` for definition.\n",
    " - `col_oracle`: The column oracle $O_c$. See `RowColumnOracle` for definition.\n",
    " - `entry_oracle`: The entry oracle $O_A$. See `EntryOracle` for definition.\n",
    " - `eps`: The precision of the block encoding. \n",
    "\n",
    "#### Registers\n",
    " - `system`: The system register.\n",
    " - `ancilla`: The ancilla register.\n",
    " - `resource`: The resource register (present only if bitsize > 0). \n",
    "\n",
    "#### References\n",
    " - [Lecture Notes on Quantum Algorithms for Scientific Computation](https://arxiv.org/abs/2201.08309). Lin Lin (2022). Ch. 6.5.\n"
   ]
  },
  {
   "cell_type": "code",
   "execution_count": 2,
   "id": "23a5d9b6",
   "metadata": {
    "cq.autogen": "SparseMatrix.bloq_doc.py"
   },
   "outputs": [],
   "source": [
    "from qualtran.bloqs.block_encoding import SparseMatrix"
   ]
  },
  {
   "cell_type": "markdown",
   "id": "25804c5a",
   "metadata": {
    "cq.autogen": "SparseMatrix.example_instances.md"
   },
   "source": [
    "### Example Instances"
   ]
  },
  {
   "cell_type": "code",
   "execution_count": 3,
   "id": "914e46e7",
   "metadata": {
    "cq.autogen": "SparseMatrix.sparse_matrix_block_encoding"
   },
   "outputs": [],
   "source": [
    "from qualtran.bloqs.block_encoding.sparse_matrix import (\n",
    "    TopLeftRowColumnOracle,\n",
    "    UniformEntryOracle,\n",
    ")\n",
    "\n",
    "row_oracle = TopLeftRowColumnOracle(system_bitsize=2)\n",
    "col_oracle = TopLeftRowColumnOracle(system_bitsize=2)\n",
    "entry_oracle = UniformEntryOracle(system_bitsize=2, entry=0.3)\n",
    "sparse_matrix_block_encoding = SparseMatrix(row_oracle, col_oracle, entry_oracle, eps=0)"
   ]
  },
  {
   "cell_type": "code",
   "execution_count": 4,
   "id": "80c99aa5",
   "metadata": {
    "cq.autogen": "SparseMatrix.sparse_matrix_symb_block_encoding"
   },
   "outputs": [],
   "source": [
    "from qualtran.bloqs.block_encoding.sparse_matrix import (\n",
    "    TopLeftRowColumnOracle,\n",
    "    UniformEntryOracle,\n",
    ")\n",
    "\n",
    "n = sympy.Symbol('n', positive=True, integer=True)\n",
    "row_oracle = TopLeftRowColumnOracle(system_bitsize=n)\n",
    "col_oracle = TopLeftRowColumnOracle(system_bitsize=n)\n",
    "entry_oracle = UniformEntryOracle(system_bitsize=n, entry=0.3)\n",
    "sparse_matrix_symb_block_encoding = SparseMatrix(row_oracle, col_oracle, entry_oracle, eps=0)"
   ]
  },
  {
   "cell_type": "code",
   "execution_count": 5,
   "id": "bb12269b",
   "metadata": {
    "cq.autogen": "SparseMatrix.explicit_matrix_block_encoding"
   },
   "outputs": [],
   "source": [
    "from qualtran.bloqs.block_encoding.sparse_matrix import (\n",
    "    ExplicitEntryOracle,\n",
    "    TopLeftRowColumnOracle,\n",
    ")\n",
    "\n",
    "data = np.array([[0.0, 0.25], [1 / 3, 0.467]])\n",
    "row_oracle = TopLeftRowColumnOracle(system_bitsize=1)\n",
    "col_oracle = TopLeftRowColumnOracle(system_bitsize=1)\n",
    "entry_oracle = ExplicitEntryOracle(system_bitsize=1, data=data, entry_bitsize=10)\n",
    "explicit_matrix_block_encoding = SparseMatrix(row_oracle, col_oracle, entry_oracle, eps=0)"
   ]
  },
  {
   "cell_type": "code",
   "execution_count": 6,
   "id": "56c936a2",
   "metadata": {
    "cq.autogen": "SparseMatrix.symmetric_banded_matrix_block_encoding"
   },
   "outputs": [],
   "source": [
    "from qualtran.bloqs.block_encoding.sparse_matrix import SymmetricBandedRowColumnOracle\n",
    "\n",
    "row_oracle = SymmetricBandedRowColumnOracle(3, bandsize=1)\n",
    "col_oracle = SymmetricBandedRowColumnOracle(3, bandsize=1)\n",
    "entry_oracle = UniformEntryOracle(3, entry=0.3)\n",
    "symmetric_banded_matrix_block_encoding = SparseMatrix(\n",
    "    row_oracle, col_oracle, entry_oracle, eps=0\n",
    ")"
   ]
  },
  {
   "cell_type": "markdown",
   "id": "e050842e",
   "metadata": {
    "cq.autogen": "SparseMatrix.graphical_signature.md"
   },
   "source": [
    "#### Graphical Signature"
   ]
  },
  {
   "cell_type": "code",
   "execution_count": 7,
   "id": "ce43a463",
   "metadata": {
    "cq.autogen": "SparseMatrix.graphical_signature.py"
   },
   "outputs": [
    {
     "data": {
      "application/vnd.jupyter.widget-view+json": {
       "model_id": "6188a2145546495daaefafe0776efba1",
       "version_major": 2,
       "version_minor": 0
      },
      "text/plain": [
       "HBox(children=(Output(outputs=({'output_type': 'display_data', 'data': {'text/plain': '<IPython.core.display.M…"
      ]
     },
     "metadata": {},
     "output_type": "display_data"
    }
   ],
   "source": [
    "from qualtran.drawing import show_bloqs\n",
    "show_bloqs([sparse_matrix_block_encoding, sparse_matrix_symb_block_encoding, explicit_matrix_block_encoding, symmetric_banded_matrix_block_encoding],\n",
    "           ['`sparse_matrix_block_encoding`', '`sparse_matrix_symb_block_encoding`', '`explicit_matrix_block_encoding`', '`symmetric_banded_matrix_block_encoding`'])"
   ]
  },
  {
   "cell_type": "markdown",
   "id": "7a018480",
   "metadata": {
    "cq.autogen": "SparseMatrix.call_graph.md"
   },
   "source": [
    "### Call Graph"
   ]
  },
  {
   "cell_type": "code",
   "execution_count": 8,
   "id": "3b00e8ed",
   "metadata": {
    "cq.autogen": "SparseMatrix.call_graph.py"
   },
   "outputs": [
    {
     "data": {
      "image/svg+xml": [
       "<svg xmlns=\"http://www.w3.org/2000/svg\" xmlns:xlink=\"http://www.w3.org/1999/xlink\" width=\"1098pt\" height=\"131pt\" viewBox=\"0.00 0.00 1098.00 131.00\">\n",
       "<g id=\"graph0\" class=\"graph\" transform=\"scale(1 1) rotate(0) translate(4 127)\">\n",
       "<title>counts</title>\n",
       "<polygon fill=\"white\" stroke=\"transparent\" points=\"-4,4 -4,-127 1094,-127 1094,4 -4,4\"/>\n",
       "<!-- b0 -->\n",
       "<g id=\"node1\" class=\"node\">\n",
       "<title>b0</title>\n",
       "<polygon fill=\"none\" stroke=\"black\" points=\"840,-123 331,-123 331,-87 840,-87 840,-123\"/>\n",
       "<text text-anchor=\"start\" x=\"539.5\" y=\"-106.8\" font-family=\"Times,serif\" font-size=\"14.00\">B[SparseMatrix]</text>\n",
       "<text text-anchor=\"start\" x=\"339\" y=\"-96\" font-family=\"monospace\" font-size=\"10.00\">row_oracle=TopLeftR ..., col_oracle=TopLeftR ..., entry_oracle=UniformE ..., eps=0</text>\n",
       "</g>\n",
       "<!-- b1 -->\n",
       "<g id=\"node2\" class=\"node\">\n",
       "<title>b1</title>\n",
       "<polygon fill=\"none\" stroke=\"black\" points=\"187,-36 0,-36 0,0 187,0 187,-36\"/>\n",
       "<text text-anchor=\"start\" x=\"8\" y=\"-19.8\" font-family=\"Times,serif\" font-size=\"14.00\">PrepareUniformSuperposition†</text>\n",
       "<text text-anchor=\"start\" x=\"33\" y=\"-9\" font-family=\"monospace\" font-size=\"10.00\">subbloq=AutoPart ...</text>\n",
       "</g>\n",
       "<!-- b0&#45;&gt;b1 -->\n",
       "<g id=\"edge1\" class=\"edge\">\n",
       "<title>b0-&gt;b1</title>\n",
       "<path fill=\"none\" stroke=\"black\" d=\"M486.82,-86.95C402.77,-72.43 282.39,-51.63 196.99,-36.88\"/>\n",
       "<polygon fill=\"black\" stroke=\"black\" points=\"197.46,-33.41 187.01,-35.16 196.27,-40.31 197.46,-33.41\"/>\n",
       "<text text-anchor=\"middle\" x=\"373\" y=\"-57.8\" font-family=\"Times,serif\" font-size=\"14.00\">1</text>\n",
       "</g>\n",
       "<!-- b2 -->\n",
       "<g id=\"node3\" class=\"node\">\n",
       "<title>b2</title>\n",
       "<polygon fill=\"none\" stroke=\"black\" points=\"384,-36 205,-36 205,0 384,0 384,-36\"/>\n",
       "<text text-anchor=\"start\" x=\"237.5\" y=\"-19.8\" font-family=\"Times,serif\" font-size=\"14.00\">UniformEntryOracle</text>\n",
       "<text text-anchor=\"start\" x=\"213\" y=\"-9\" font-family=\"monospace\" font-size=\"10.00\">system_bitsize=2, entry=0.3</text>\n",
       "</g>\n",
       "<!-- b0&#45;&gt;b2 -->\n",
       "<g id=\"edge2\" class=\"edge\">\n",
       "<title>b0-&gt;b2</title>\n",
       "<path fill=\"none\" stroke=\"black\" d=\"M526.96,-86.9C479.5,-73.04 412.55,-53.48 362.68,-38.92\"/>\n",
       "<polygon fill=\"black\" stroke=\"black\" points=\"363.52,-35.52 352.94,-36.07 361.56,-42.23 363.52,-35.52\"/>\n",
       "<text text-anchor=\"middle\" x=\"461\" y=\"-57.8\" font-family=\"Times,serif\" font-size=\"14.00\">1</text>\n",
       "</g>\n",
       "<!-- b3 -->\n",
       "<g id=\"node4\" class=\"node\">\n",
       "<title>b3</title>\n",
       "<polygon fill=\"none\" stroke=\"black\" points=\"575,-36 402,-36 402,0 575,0 575,-36\"/>\n",
       "<text text-anchor=\"start\" x=\"410\" y=\"-19.8\" font-family=\"Times,serif\" font-size=\"14.00\">TopLeftRowColumnOracle†</text>\n",
       "<text text-anchor=\"start\" x=\"428\" y=\"-9\" font-family=\"monospace\" font-size=\"10.00\">subbloq=TopLeftR ...</text>\n",
       "</g>\n",
       "<!-- b0&#45;&gt;b3 -->\n",
       "<g id=\"edge3\" class=\"edge\">\n",
       "<title>b0-&gt;b3</title>\n",
       "<path fill=\"none\" stroke=\"black\" d=\"M565.87,-86.8C551.54,-74.24 531.92,-57.05 516.03,-43.12\"/>\n",
       "<polygon fill=\"black\" stroke=\"black\" points=\"517.93,-40.13 508.1,-36.18 513.31,-45.4 517.93,-40.13\"/>\n",
       "<text text-anchor=\"middle\" x=\"547\" y=\"-57.8\" font-family=\"Times,serif\" font-size=\"14.00\">1</text>\n",
       "</g>\n",
       "<!-- b4 -->\n",
       "<g id=\"node5\" class=\"node\">\n",
       "<title>b4</title>\n",
       "<polygon fill=\"none\" stroke=\"black\" points=\"773.5,-36 593.5,-36 593.5,0 773.5,0 773.5,-36\"/>\n",
       "<text text-anchor=\"start\" x=\"601.5\" y=\"-19.8\" font-family=\"Times,serif\" font-size=\"14.00\">PrepareUniformSuperposition</text>\n",
       "<text text-anchor=\"start\" x=\"650\" y=\"-9\" font-family=\"monospace\" font-size=\"10.00\">n=4, cvs=()</text>\n",
       "</g>\n",
       "<!-- b0&#45;&gt;b4 -->\n",
       "<g id=\"edge4\" class=\"edge\">\n",
       "<title>b0-&gt;b4</title>\n",
       "<path fill=\"none\" stroke=\"black\" d=\"M605.33,-86.8C619.94,-74.13 640,-56.73 656.13,-42.74\"/>\n",
       "<polygon fill=\"black\" stroke=\"black\" points=\"658.44,-45.37 663.7,-36.18 653.85,-40.08 658.44,-45.37\"/>\n",
       "<text text-anchor=\"middle\" x=\"644\" y=\"-57.8\" font-family=\"Times,serif\" font-size=\"14.00\">1</text>\n",
       "</g>\n",
       "<!-- b5 -->\n",
       "<g id=\"node6\" class=\"node\">\n",
       "<title>b5</title>\n",
       "<polygon fill=\"none\" stroke=\"black\" points=\"863,-36 792,-36 792,0 863,0 863,-36\"/>\n",
       "<text text-anchor=\"start\" x=\"812\" y=\"-19.8\" font-family=\"Times,serif\" font-size=\"14.00\">Swap</text>\n",
       "<text text-anchor=\"start\" x=\"800\" y=\"-9\" font-family=\"monospace\" font-size=\"10.00\">bitsize=2</text>\n",
       "</g>\n",
       "<!-- b0&#45;&gt;b5 -->\n",
       "<g id=\"edge5\" class=\"edge\">\n",
       "<title>b0-&gt;b5</title>\n",
       "<path fill=\"none\" stroke=\"black\" d=\"M636.25,-86.93C673.94,-74.15 726.82,-56.01 782.06,-36.11\"/>\n",
       "<polygon fill=\"black\" stroke=\"black\" points=\"783.46,-39.33 791.67,-32.64 781.08,-32.75 783.46,-39.33\"/>\n",
       "<text text-anchor=\"middle\" x=\"733\" y=\"-57.8\" font-family=\"Times,serif\" font-size=\"14.00\">1</text>\n",
       "</g>\n",
       "<!-- b6 -->\n",
       "<g id=\"node7\" class=\"node\">\n",
       "<title>b6</title>\n",
       "<polygon fill=\"none\" stroke=\"black\" points=\"1090,-36 881,-36 881,0 1090,0 1090,-36\"/>\n",
       "<text text-anchor=\"start\" x=\"910\" y=\"-19.8\" font-family=\"Times,serif\" font-size=\"14.00\">TopLeftRowColumnOracle</text>\n",
       "<text text-anchor=\"start\" x=\"889\" y=\"-9\" font-family=\"monospace\" font-size=\"10.00\">system_bitsize=2, _num_nonzero=4</text>\n",
       "</g>\n",
       "<!-- b0&#45;&gt;b6 -->\n",
       "<g id=\"edge6\" class=\"edge\">\n",
       "<title>b0-&gt;b6</title>\n",
       "<path fill=\"none\" stroke=\"black\" d=\"M665.96,-86.9C732.29,-72.81 826.3,-52.83 895.19,-38.19\"/>\n",
       "<polygon fill=\"black\" stroke=\"black\" points=\"896.11,-41.57 905.16,-36.07 894.65,-34.73 896.11,-41.57\"/>\n",
       "<text text-anchor=\"middle\" x=\"813\" y=\"-57.8\" font-family=\"Times,serif\" font-size=\"14.00\">1</text>\n",
       "</g>\n",
       "</g>\n",
       "</svg>"
      ],
      "text/plain": [
       "<IPython.core.display.SVG object>"
      ]
     },
     "metadata": {},
     "output_type": "display_data"
    },
    {
     "data": {
      "text/markdown": [
       "#### Counts totals:\n",
       " - `Adjoint(subbloq=AutoPartition)`: 1\n",
       " - `Adjoint(subbloq=TopLeftRowColumnOracle)`: 1\n",
       " - `PrepareUniformSuperposition`: 1\n",
       " - `Swap`: 1\n",
       " - `TopLeftRowColumnOracle`: 1\n",
       " - `UniformEntryOracle`: 1"
      ],
      "text/plain": [
       "<IPython.core.display.Markdown object>"
      ]
     },
     "metadata": {},
     "output_type": "display_data"
    }
   ],
   "source": [
    "from qualtran.resource_counting.generalizers import ignore_split_join\n",
    "sparse_matrix_block_encoding_g, sparse_matrix_block_encoding_sigma = sparse_matrix_block_encoding.call_graph(max_depth=1, generalizer=ignore_split_join)\n",
    "show_call_graph(sparse_matrix_block_encoding_g)\n",
    "show_counts_sigma(sparse_matrix_block_encoding_sigma)"
   ]
  }
 ],
 "metadata": {
  "kernelspec": {
   "display_name": "Python 3",
   "language": "python",
   "name": "python3"
  },
  "language_info": {
   "codemirror_mode": {
    "name": "ipython",
    "version": 3
   },
   "file_extension": ".py",
   "mimetype": "text/x-python",
   "name": "python",
   "nbconvert_exporter": "python",
   "pygments_lexer": "ipython3",
   "version": "3.11.8"
  },
  "widgets": {
   "application/vnd.jupyter.widget-state+json": {
    "state": {
     "1f454a01d81a44698d2c15371d74d592": {
      "model_module": "@jupyter-widgets/base",
      "model_module_version": "2.0.0",
      "model_name": "LayoutModel",
      "state": {
       "_model_module": "@jupyter-widgets/base",
       "_model_module_version": "2.0.0",
       "_model_name": "LayoutModel",
       "_view_count": null,
       "_view_module": "@jupyter-widgets/base",
       "_view_module_version": "2.0.0",
       "_view_name": "LayoutView",
       "align_content": null,
       "align_items": null,
       "align_self": null,
       "border_bottom": null,
       "border_left": null,
       "border_right": null,
       "border_top": null,
       "bottom": null,
       "display": null,
       "flex": null,
       "flex_flow": null,
       "grid_area": null,
       "grid_auto_columns": null,
       "grid_auto_flow": null,
       "grid_auto_rows": null,
       "grid_column": null,
       "grid_gap": null,
       "grid_row": null,
       "grid_template_areas": null,
       "grid_template_columns": null,
       "grid_template_rows": null,
       "height": null,
       "justify_content": null,
       "justify_items": null,
       "left": null,
       "margin": null,
       "max_height": null,
       "max_width": null,
       "min_height": null,
       "min_width": null,
       "object_fit": null,
       "object_position": null,
       "order": null,
       "overflow": null,
       "padding": null,
       "right": null,
       "top": null,
       "visibility": null,
       "width": null
      }
     },
     "381c647811374f8c8bc9a8f6b18cdfde": {
      "model_module": "@jupyter-widgets/base",
      "model_module_version": "2.0.0",
      "model_name": "LayoutModel",
      "state": {
       "_model_module": "@jupyter-widgets/base",
       "_model_module_version": "2.0.0",
       "_model_name": "LayoutModel",
       "_view_count": null,
       "_view_module": "@jupyter-widgets/base",
       "_view_module_version": "2.0.0",
       "_view_name": "LayoutView",
       "align_content": null,
       "align_items": null,
       "align_self": null,
       "border_bottom": null,
       "border_left": null,
       "border_right": null,
       "border_top": null,
       "bottom": null,
       "display": null,
       "flex": null,
       "flex_flow": null,
       "grid_area": null,
       "grid_auto_columns": null,
       "grid_auto_flow": null,
       "grid_auto_rows": null,
       "grid_column": null,
       "grid_gap": null,
       "grid_row": null,
       "grid_template_areas": null,
       "grid_template_columns": null,
       "grid_template_rows": null,
       "height": null,
       "justify_content": null,
       "justify_items": null,
       "left": null,
       "margin": null,
       "max_height": null,
       "max_width": null,
       "min_height": null,
       "min_width": null,
       "object_fit": null,
       "object_position": null,
       "order": null,
       "overflow": null,
       "padding": null,
       "right": null,
       "top": null,
       "visibility": null,
       "width": null
      }
     },
     "3a551810764d42308eb03bb9bba7f91f": {
      "model_module": "@jupyter-widgets/output",
      "model_module_version": "1.0.0",
      "model_name": "OutputModel",
      "state": {
       "_dom_classes": [],
       "_model_module": "@jupyter-widgets/output",
       "_model_module_version": "1.0.0",
       "_model_name": "OutputModel",
       "_view_count": null,
       "_view_module": "@jupyter-widgets/output",
       "_view_module_version": "1.0.0",
       "_view_name": "OutputView",
       "layout": "IPY_MODEL_1f454a01d81a44698d2c15371d74d592",
       "msg_id": "",
       "outputs": [
        {
         "data": {
          "text/markdown": "`sparse_matrix_symb_block_encoding`",
          "text/plain": "<IPython.core.display.Markdown object>"
         },
         "metadata": {},
         "output_type": "display_data"
        },
        {
         "data": {
          "image/svg+xml": "<svg xmlns=\"http://www.w3.org/2000/svg\" xmlns:xlink=\"http://www.w3.org/1999/xlink\" width=\"253pt\" height=\"98pt\" viewBox=\"0.00 0.00 253.00 98.00\">\n<g id=\"graph0\" class=\"graph\" transform=\"scale(1 1) rotate(0) translate(4 94)\">\n<title>my_graph</title>\n<polygon fill=\"white\" stroke=\"transparent\" points=\"-4,4 -4,-94 249,-94 249,4 -4,4\"/>\n<!-- system_G3 -->\n<g id=\"node1\" class=\"node\">\n<title>system_G3</title>\n<text text-anchor=\"middle\" x=\"27.5\" y=\"-68.3\" font-family=\"Times,serif\" font-size=\"14.00\">system</text>\n</g>\n<!-- SparseMatrix -->\n<g id=\"node3\" class=\"node\">\n<title>SparseMatrix</title>\n<polygon fill=\"none\" stroke=\"black\" points=\"92.5,-66 92.5,-83 153.5,-83 153.5,-66 92.5,-66\"/>\n<text text-anchor=\"start\" x=\"95.5\" y=\"-72\" font-family=\"Times,serif\" font-size=\"10.00\">SparseMatrix</text>\n<polygon fill=\"none\" stroke=\"black\" points=\"92.5,-45 92.5,-66 153.5,-66 153.5,-45 92.5,-45\"/>\n<text text-anchor=\"start\" x=\"103.5\" y=\"-51.8\" font-family=\"Times,serif\" font-size=\"14.00\">system</text>\n<polygon fill=\"none\" stroke=\"black\" points=\"92.5,-24 92.5,-45 153.5,-45 153.5,-24 92.5,-24\"/>\n<text text-anchor=\"start\" x=\"104.5\" y=\"-30.8\" font-family=\"Times,serif\" font-size=\"14.00\">ancilla</text>\n</g>\n<!-- system_G3&#45;&gt;SparseMatrix -->\n<g id=\"edge1\" class=\"edge\">\n<title>system_G3:e-&gt;SparseMatrix:w</title>\n<path fill=\"none\" stroke=\"black\" d=\"M55,-72C72.22,-72 73.97,-57.23 89.98,-56.07\"/>\n<ellipse fill=\"black\" stroke=\"black\" cx=\"91\" cy=\"-56.04\" rx=\"1\" ry=\"1\"/>\n<text text-anchor=\"middle\" x=\"73.5\" y=\"-67\" font-family=\"Times,serif\" font-size=\"10.00\">n</text>\n</g>\n<!-- ancilla_G4 -->\n<g id=\"node2\" class=\"node\">\n<title>ancilla_G4</title>\n<text text-anchor=\"middle\" x=\"27.5\" y=\"-14.3\" font-family=\"Times,serif\" font-size=\"14.00\">ancilla</text>\n</g>\n<!-- ancilla_G4&#45;&gt;SparseMatrix -->\n<g id=\"edge2\" class=\"edge\">\n<title>ancilla_G4:e-&gt;SparseMatrix:w</title>\n<path fill=\"none\" stroke=\"black\" d=\"M55,-18C72.22,-18 73.97,-32.77 89.98,-33.93\"/>\n<ellipse fill=\"black\" stroke=\"black\" cx=\"91\" cy=\"-33.96\" rx=\"1\" ry=\"1\"/>\n<text text-anchor=\"middle\" x=\"73.5\" y=\"-29\" font-family=\"Times,serif\" font-size=\"10.00\">n + 1</text>\n</g>\n<!-- system_G2 -->\n<g id=\"node4\" class=\"node\">\n<title>system_G2</title>\n<text text-anchor=\"middle\" x=\"217.5\" y=\"-68.3\" font-family=\"Times,serif\" font-size=\"14.00\">system</text>\n</g>\n<!-- SparseMatrix&#45;&gt;system_G2 -->\n<g id=\"edge3\" class=\"edge\">\n<title>SparseMatrix:e-&gt;system_G2:w</title>\n<path fill=\"none\" stroke=\"black\" d=\"M153,-56C170.22,-56 171.97,-70.77 187.98,-71.93\"/>\n<ellipse fill=\"black\" stroke=\"black\" cx=\"189\" cy=\"-71.96\" rx=\"1\" ry=\"1\"/>\n<text text-anchor=\"middle\" x=\"171.5\" y=\"-67\" font-family=\"Times,serif\" font-size=\"10.00\">n</text>\n</g>\n<!-- ancilla_G0 -->\n<g id=\"node5\" class=\"node\">\n<title>ancilla_G0</title>\n<text text-anchor=\"middle\" x=\"217.5\" y=\"-14.3\" font-family=\"Times,serif\" font-size=\"14.00\">ancilla</text>\n</g>\n<!-- SparseMatrix&#45;&gt;ancilla_G0 -->\n<g id=\"edge4\" class=\"edge\">\n<title>SparseMatrix:e-&gt;ancilla_G0:w</title>\n<path fill=\"none\" stroke=\"black\" d=\"M153,-34C170.22,-34 171.97,-19.23 187.98,-18.07\"/>\n<ellipse fill=\"black\" stroke=\"black\" cx=\"189\" cy=\"-18.04\" rx=\"1\" ry=\"1\"/>\n<text text-anchor=\"middle\" x=\"171.5\" y=\"-29\" font-family=\"Times,serif\" font-size=\"10.00\">n + 1</text>\n</g>\n</g>\n</svg>",
          "text/plain": "<IPython.core.display.SVG object>"
         },
         "metadata": {},
         "output_type": "display_data"
        }
       ],
       "tabbable": null,
       "tooltip": null
      }
     },
     "5e6def0421054aaa80424627d907bf66": {
      "model_module": "@jupyter-widgets/base",
      "model_module_version": "2.0.0",
      "model_name": "LayoutModel",
      "state": {
       "_model_module": "@jupyter-widgets/base",
       "_model_module_version": "2.0.0",
       "_model_name": "LayoutModel",
       "_view_count": null,
       "_view_module": "@jupyter-widgets/base",
       "_view_module_version": "2.0.0",
       "_view_name": "LayoutView",
       "align_content": null,
       "align_items": null,
       "align_self": null,
       "border_bottom": null,
       "border_left": null,
       "border_right": null,
       "border_top": null,
       "bottom": null,
       "display": null,
       "flex": null,
       "flex_flow": null,
       "grid_area": null,
       "grid_auto_columns": null,
       "grid_auto_flow": null,
       "grid_auto_rows": null,
       "grid_column": null,
       "grid_gap": null,
       "grid_row": null,
       "grid_template_areas": null,
       "grid_template_columns": null,
       "grid_template_rows": null,
       "height": null,
       "justify_content": null,
       "justify_items": null,
       "left": null,
       "margin": null,
       "max_height": null,
       "max_width": null,
       "min_height": null,
       "min_width": null,
       "object_fit": null,
       "object_position": null,
       "order": null,
       "overflow": null,
       "padding": null,
       "right": null,
       "top": null,
       "visibility": null,
       "width": null
      }
     },
     "6188a2145546495daaefafe0776efba1": {
      "model_module": "@jupyter-widgets/controls",
      "model_module_version": "2.0.0",
      "model_name": "HBoxModel",
      "state": {
       "_dom_classes": [],
       "_model_module": "@jupyter-widgets/controls",
       "_model_module_version": "2.0.0",
       "_model_name": "HBoxModel",
       "_view_count": null,
       "_view_module": "@jupyter-widgets/controls",
       "_view_module_version": "2.0.0",
       "_view_name": "HBoxView",
       "box_style": "",
       "children": [
        "IPY_MODEL_f1cb62b24a914afa8390edb1da55ce91",
        "IPY_MODEL_3a551810764d42308eb03bb9bba7f91f",
        "IPY_MODEL_f56e4632611349df85389dd3b001a5e6",
        "IPY_MODEL_df01de275a254377a317df104768af64"
       ],
       "layout": "IPY_MODEL_5e6def0421054aaa80424627d907bf66",
       "tabbable": null,
       "tooltip": null
      }
     },
     "7a4c6cba6b86445da84246fa14d4d38a": {
      "model_module": "@jupyter-widgets/base",
      "model_module_version": "2.0.0",
      "model_name": "LayoutModel",
      "state": {
       "_model_module": "@jupyter-widgets/base",
       "_model_module_version": "2.0.0",
       "_model_name": "LayoutModel",
       "_view_count": null,
       "_view_module": "@jupyter-widgets/base",
       "_view_module_version": "2.0.0",
       "_view_name": "LayoutView",
       "align_content": null,
       "align_items": null,
       "align_self": null,
       "border_bottom": null,
       "border_left": null,
       "border_right": null,
       "border_top": null,
       "bottom": null,
       "display": null,
       "flex": null,
       "flex_flow": null,
       "grid_area": null,
       "grid_auto_columns": null,
       "grid_auto_flow": null,
       "grid_auto_rows": null,
       "grid_column": null,
       "grid_gap": null,
       "grid_row": null,
       "grid_template_areas": null,
       "grid_template_columns": null,
       "grid_template_rows": null,
       "height": null,
       "justify_content": null,
       "justify_items": null,
       "left": null,
       "margin": null,
       "max_height": null,
       "max_width": null,
       "min_height": null,
       "min_width": null,
       "object_fit": null,
       "object_position": null,
       "order": null,
       "overflow": null,
       "padding": null,
       "right": null,
       "top": null,
       "visibility": null,
       "width": null
      }
     },
     "81bba321531047a9a8574b607f3dacf2": {
      "model_module": "@jupyter-widgets/base",
      "model_module_version": "2.0.0",
      "model_name": "LayoutModel",
      "state": {
       "_model_module": "@jupyter-widgets/base",
       "_model_module_version": "2.0.0",
       "_model_name": "LayoutModel",
       "_view_count": null,
       "_view_module": "@jupyter-widgets/base",
       "_view_module_version": "2.0.0",
       "_view_name": "LayoutView",
       "align_content": null,
       "align_items": null,
       "align_self": null,
       "border_bottom": null,
       "border_left": null,
       "border_right": null,
       "border_top": null,
       "bottom": null,
       "display": null,
       "flex": null,
       "flex_flow": null,
       "grid_area": null,
       "grid_auto_columns": null,
       "grid_auto_flow": null,
       "grid_auto_rows": null,
       "grid_column": null,
       "grid_gap": null,
       "grid_row": null,
       "grid_template_areas": null,
       "grid_template_columns": null,
       "grid_template_rows": null,
       "height": null,
       "justify_content": null,
       "justify_items": null,
       "left": null,
       "margin": null,
       "max_height": null,
       "max_width": null,
       "min_height": null,
       "min_width": null,
       "object_fit": null,
       "object_position": null,
       "order": null,
       "overflow": null,
       "padding": null,
       "right": null,
       "top": null,
       "visibility": null,
       "width": null
      }
     },
     "df01de275a254377a317df104768af64": {
      "model_module": "@jupyter-widgets/output",
      "model_module_version": "1.0.0",
      "model_name": "OutputModel",
      "state": {
       "_dom_classes": [],
       "_model_module": "@jupyter-widgets/output",
       "_model_module_version": "1.0.0",
       "_model_name": "OutputModel",
       "_view_count": null,
       "_view_module": "@jupyter-widgets/output",
       "_view_module_version": "1.0.0",
       "_view_name": "OutputView",
       "layout": "IPY_MODEL_7a4c6cba6b86445da84246fa14d4d38a",
       "msg_id": "",
       "outputs": [
        {
         "data": {
          "text/markdown": "`symmetric_banded_matrix_block_encoding`",
          "text/plain": "<IPython.core.display.Markdown object>"
         },
         "metadata": {},
         "output_type": "display_data"
        },
        {
         "data": {
          "image/svg+xml": "<svg xmlns=\"http://www.w3.org/2000/svg\" xmlns:xlink=\"http://www.w3.org/1999/xlink\" width=\"253pt\" height=\"98pt\" viewBox=\"0.00 0.00 253.00 98.00\">\n<g id=\"graph0\" class=\"graph\" transform=\"scale(1 1) rotate(0) translate(4 94)\">\n<title>my_graph</title>\n<polygon fill=\"white\" stroke=\"transparent\" points=\"-4,4 -4,-94 249,-94 249,4 -4,4\"/>\n<!-- system_G4 -->\n<g id=\"node1\" class=\"node\">\n<title>system_G4</title>\n<text text-anchor=\"middle\" x=\"27.5\" y=\"-68.3\" font-family=\"Times,serif\" font-size=\"14.00\">system</text>\n</g>\n<!-- SparseMatrix -->\n<g id=\"node3\" class=\"node\">\n<title>SparseMatrix</title>\n<polygon fill=\"none\" stroke=\"black\" points=\"92.5,-66 92.5,-83 153.5,-83 153.5,-66 92.5,-66\"/>\n<text text-anchor=\"start\" x=\"95.5\" y=\"-72\" font-family=\"Times,serif\" font-size=\"10.00\">SparseMatrix</text>\n<polygon fill=\"none\" stroke=\"black\" points=\"92.5,-45 92.5,-66 153.5,-66 153.5,-45 92.5,-45\"/>\n<text text-anchor=\"start\" x=\"103.5\" y=\"-51.8\" font-family=\"Times,serif\" font-size=\"14.00\">system</text>\n<polygon fill=\"none\" stroke=\"black\" points=\"92.5,-24 92.5,-45 153.5,-45 153.5,-24 92.5,-24\"/>\n<text text-anchor=\"start\" x=\"104.5\" y=\"-30.8\" font-family=\"Times,serif\" font-size=\"14.00\">ancilla</text>\n</g>\n<!-- system_G4&#45;&gt;SparseMatrix -->\n<g id=\"edge1\" class=\"edge\">\n<title>system_G4:e-&gt;SparseMatrix:w</title>\n<path fill=\"none\" stroke=\"black\" d=\"M55,-72C72.22,-72 73.97,-57.23 89.98,-56.07\"/>\n<ellipse fill=\"black\" stroke=\"black\" cx=\"91\" cy=\"-56.04\" rx=\"1\" ry=\"1\"/>\n<text text-anchor=\"middle\" x=\"73.5\" y=\"-67\" font-family=\"Times,serif\" font-size=\"10.00\">3</text>\n</g>\n<!-- ancilla_G0 -->\n<g id=\"node2\" class=\"node\">\n<title>ancilla_G0</title>\n<text text-anchor=\"middle\" x=\"27.5\" y=\"-14.3\" font-family=\"Times,serif\" font-size=\"14.00\">ancilla</text>\n</g>\n<!-- ancilla_G0&#45;&gt;SparseMatrix -->\n<g id=\"edge2\" class=\"edge\">\n<title>ancilla_G0:e-&gt;SparseMatrix:w</title>\n<path fill=\"none\" stroke=\"black\" d=\"M55,-18C72.22,-18 73.97,-32.77 89.98,-33.93\"/>\n<ellipse fill=\"black\" stroke=\"black\" cx=\"91\" cy=\"-33.96\" rx=\"1\" ry=\"1\"/>\n<text text-anchor=\"middle\" x=\"73.5\" y=\"-29\" font-family=\"Times,serif\" font-size=\"10.00\">4</text>\n</g>\n<!-- system_G2 -->\n<g id=\"node4\" class=\"node\">\n<title>system_G2</title>\n<text text-anchor=\"middle\" x=\"217.5\" y=\"-68.3\" font-family=\"Times,serif\" font-size=\"14.00\">system</text>\n</g>\n<!-- SparseMatrix&#45;&gt;system_G2 -->\n<g id=\"edge3\" class=\"edge\">\n<title>SparseMatrix:e-&gt;system_G2:w</title>\n<path fill=\"none\" stroke=\"black\" d=\"M153,-56C170.22,-56 171.97,-70.77 187.98,-71.93\"/>\n<ellipse fill=\"black\" stroke=\"black\" cx=\"189\" cy=\"-71.96\" rx=\"1\" ry=\"1\"/>\n<text text-anchor=\"middle\" x=\"171.5\" y=\"-67\" font-family=\"Times,serif\" font-size=\"10.00\">3</text>\n</g>\n<!-- ancilla_G5 -->\n<g id=\"node5\" class=\"node\">\n<title>ancilla_G5</title>\n<text text-anchor=\"middle\" x=\"217.5\" y=\"-14.3\" font-family=\"Times,serif\" font-size=\"14.00\">ancilla</text>\n</g>\n<!-- SparseMatrix&#45;&gt;ancilla_G5 -->\n<g id=\"edge4\" class=\"edge\">\n<title>SparseMatrix:e-&gt;ancilla_G5:w</title>\n<path fill=\"none\" stroke=\"black\" d=\"M153,-34C170.22,-34 171.97,-19.23 187.98,-18.07\"/>\n<ellipse fill=\"black\" stroke=\"black\" cx=\"189\" cy=\"-18.04\" rx=\"1\" ry=\"1\"/>\n<text text-anchor=\"middle\" x=\"171.5\" y=\"-29\" font-family=\"Times,serif\" font-size=\"10.00\">4</text>\n</g>\n</g>\n</svg>",
          "text/plain": "<IPython.core.display.SVG object>"
         },
         "metadata": {},
         "output_type": "display_data"
        }
       ],
       "tabbable": null,
       "tooltip": null
      }
     },
     "f1cb62b24a914afa8390edb1da55ce91": {
      "model_module": "@jupyter-widgets/output",
      "model_module_version": "1.0.0",
      "model_name": "OutputModel",
      "state": {
       "_dom_classes": [],
       "_model_module": "@jupyter-widgets/output",
       "_model_module_version": "1.0.0",
       "_model_name": "OutputModel",
       "_view_count": null,
       "_view_module": "@jupyter-widgets/output",
       "_view_module_version": "1.0.0",
       "_view_name": "OutputView",
       "layout": "IPY_MODEL_381c647811374f8c8bc9a8f6b18cdfde",
       "msg_id": "",
       "outputs": [
        {
         "data": {
          "text/markdown": "`sparse_matrix_block_encoding`",
          "text/plain": "<IPython.core.display.Markdown object>"
         },
         "metadata": {},
         "output_type": "display_data"
        },
        {
         "data": {
          "image/svg+xml": "<svg xmlns=\"http://www.w3.org/2000/svg\" xmlns:xlink=\"http://www.w3.org/1999/xlink\" width=\"253pt\" height=\"98pt\" viewBox=\"0.00 0.00 253.00 98.00\">\n<g id=\"graph0\" class=\"graph\" transform=\"scale(1 1) rotate(0) translate(4 94)\">\n<title>my_graph</title>\n<polygon fill=\"white\" stroke=\"transparent\" points=\"-4,4 -4,-94 249,-94 249,4 -4,4\"/>\n<!-- system_G5 -->\n<g id=\"node1\" class=\"node\">\n<title>system_G5</title>\n<text text-anchor=\"middle\" x=\"27.5\" y=\"-68.3\" font-family=\"Times,serif\" font-size=\"14.00\">system</text>\n</g>\n<!-- SparseMatrix -->\n<g id=\"node3\" class=\"node\">\n<title>SparseMatrix</title>\n<polygon fill=\"none\" stroke=\"black\" points=\"92.5,-66 92.5,-83 153.5,-83 153.5,-66 92.5,-66\"/>\n<text text-anchor=\"start\" x=\"95.5\" y=\"-72\" font-family=\"Times,serif\" font-size=\"10.00\">SparseMatrix</text>\n<polygon fill=\"none\" stroke=\"black\" points=\"92.5,-45 92.5,-66 153.5,-66 153.5,-45 92.5,-45\"/>\n<text text-anchor=\"start\" x=\"103.5\" y=\"-51.8\" font-family=\"Times,serif\" font-size=\"14.00\">system</text>\n<polygon fill=\"none\" stroke=\"black\" points=\"92.5,-24 92.5,-45 153.5,-45 153.5,-24 92.5,-24\"/>\n<text text-anchor=\"start\" x=\"104.5\" y=\"-30.8\" font-family=\"Times,serif\" font-size=\"14.00\">ancilla</text>\n</g>\n<!-- system_G5&#45;&gt;SparseMatrix -->\n<g id=\"edge1\" class=\"edge\">\n<title>system_G5:e-&gt;SparseMatrix:w</title>\n<path fill=\"none\" stroke=\"black\" d=\"M55,-72C72.22,-72 73.97,-57.23 89.98,-56.07\"/>\n<ellipse fill=\"black\" stroke=\"black\" cx=\"91\" cy=\"-56.04\" rx=\"1\" ry=\"1\"/>\n<text text-anchor=\"middle\" x=\"73.5\" y=\"-67\" font-family=\"Times,serif\" font-size=\"10.00\">2</text>\n</g>\n<!-- ancilla_G4 -->\n<g id=\"node2\" class=\"node\">\n<title>ancilla_G4</title>\n<text text-anchor=\"middle\" x=\"27.5\" y=\"-14.3\" font-family=\"Times,serif\" font-size=\"14.00\">ancilla</text>\n</g>\n<!-- ancilla_G4&#45;&gt;SparseMatrix -->\n<g id=\"edge2\" class=\"edge\">\n<title>ancilla_G4:e-&gt;SparseMatrix:w</title>\n<path fill=\"none\" stroke=\"black\" d=\"M55,-18C72.22,-18 73.97,-32.77 89.98,-33.93\"/>\n<ellipse fill=\"black\" stroke=\"black\" cx=\"91\" cy=\"-33.96\" rx=\"1\" ry=\"1\"/>\n<text text-anchor=\"middle\" x=\"73.5\" y=\"-29\" font-family=\"Times,serif\" font-size=\"10.00\">3</text>\n</g>\n<!-- system_G3 -->\n<g id=\"node4\" class=\"node\">\n<title>system_G3</title>\n<text text-anchor=\"middle\" x=\"217.5\" y=\"-68.3\" font-family=\"Times,serif\" font-size=\"14.00\">system</text>\n</g>\n<!-- SparseMatrix&#45;&gt;system_G3 -->\n<g id=\"edge3\" class=\"edge\">\n<title>SparseMatrix:e-&gt;system_G3:w</title>\n<path fill=\"none\" stroke=\"black\" d=\"M153,-56C170.22,-56 171.97,-70.77 187.98,-71.93\"/>\n<ellipse fill=\"black\" stroke=\"black\" cx=\"189\" cy=\"-71.96\" rx=\"1\" ry=\"1\"/>\n<text text-anchor=\"middle\" x=\"171.5\" y=\"-67\" font-family=\"Times,serif\" font-size=\"10.00\">2</text>\n</g>\n<!-- ancilla_G0 -->\n<g id=\"node5\" class=\"node\">\n<title>ancilla_G0</title>\n<text text-anchor=\"middle\" x=\"217.5\" y=\"-14.3\" font-family=\"Times,serif\" font-size=\"14.00\">ancilla</text>\n</g>\n<!-- SparseMatrix&#45;&gt;ancilla_G0 -->\n<g id=\"edge4\" class=\"edge\">\n<title>SparseMatrix:e-&gt;ancilla_G0:w</title>\n<path fill=\"none\" stroke=\"black\" d=\"M153,-34C170.22,-34 171.97,-19.23 187.98,-18.07\"/>\n<ellipse fill=\"black\" stroke=\"black\" cx=\"189\" cy=\"-18.04\" rx=\"1\" ry=\"1\"/>\n<text text-anchor=\"middle\" x=\"171.5\" y=\"-29\" font-family=\"Times,serif\" font-size=\"10.00\">3</text>\n</g>\n</g>\n</svg>",
          "text/plain": "<IPython.core.display.SVG object>"
         },
         "metadata": {},
         "output_type": "display_data"
        }
       ],
       "tabbable": null,
       "tooltip": null
      }
     },
     "f56e4632611349df85389dd3b001a5e6": {
      "model_module": "@jupyter-widgets/output",
      "model_module_version": "1.0.0",
      "model_name": "OutputModel",
      "state": {
       "_dom_classes": [],
       "_model_module": "@jupyter-widgets/output",
       "_model_module_version": "1.0.0",
       "_model_name": "OutputModel",
       "_view_count": null,
       "_view_module": "@jupyter-widgets/output",
       "_view_module_version": "1.0.0",
       "_view_name": "OutputView",
       "layout": "IPY_MODEL_81bba321531047a9a8574b607f3dacf2",
       "msg_id": "",
       "outputs": [
        {
         "data": {
          "text/markdown": "`explicit_matrix_block_encoding`",
          "text/plain": "<IPython.core.display.Markdown object>"
         },
         "metadata": {},
         "output_type": "display_data"
        },
        {
         "data": {
          "image/svg+xml": "<svg xmlns=\"http://www.w3.org/2000/svg\" xmlns:xlink=\"http://www.w3.org/1999/xlink\" width=\"253pt\" height=\"98pt\" viewBox=\"0.00 0.00 253.00 98.00\">\n<g id=\"graph0\" class=\"graph\" transform=\"scale(1 1) rotate(0) translate(4 94)\">\n<title>my_graph</title>\n<polygon fill=\"white\" stroke=\"transparent\" points=\"-4,4 -4,-94 249,-94 249,4 -4,4\"/>\n<!-- system_G3 -->\n<g id=\"node1\" class=\"node\">\n<title>system_G3</title>\n<text text-anchor=\"middle\" x=\"27.5\" y=\"-68.3\" font-family=\"Times,serif\" font-size=\"14.00\">system</text>\n</g>\n<!-- SparseMatrix -->\n<g id=\"node3\" class=\"node\">\n<title>SparseMatrix</title>\n<polygon fill=\"none\" stroke=\"black\" points=\"92.5,-66 92.5,-83 153.5,-83 153.5,-66 92.5,-66\"/>\n<text text-anchor=\"start\" x=\"95.5\" y=\"-72\" font-family=\"Times,serif\" font-size=\"10.00\">SparseMatrix</text>\n<polygon fill=\"none\" stroke=\"black\" points=\"92.5,-45 92.5,-66 153.5,-66 153.5,-45 92.5,-45\"/>\n<text text-anchor=\"start\" x=\"103.5\" y=\"-51.8\" font-family=\"Times,serif\" font-size=\"14.00\">system</text>\n<polygon fill=\"none\" stroke=\"black\" points=\"92.5,-24 92.5,-45 153.5,-45 153.5,-24 92.5,-24\"/>\n<text text-anchor=\"start\" x=\"104.5\" y=\"-30.8\" font-family=\"Times,serif\" font-size=\"14.00\">ancilla</text>\n</g>\n<!-- system_G3&#45;&gt;SparseMatrix -->\n<g id=\"edge1\" class=\"edge\">\n<title>system_G3:e-&gt;SparseMatrix:w</title>\n<path fill=\"none\" stroke=\"black\" d=\"M55,-72C72.22,-72 73.97,-57.23 89.98,-56.07\"/>\n<ellipse fill=\"black\" stroke=\"black\" cx=\"91\" cy=\"-56.04\" rx=\"1\" ry=\"1\"/>\n<text text-anchor=\"middle\" x=\"73.5\" y=\"-67\" font-family=\"Times,serif\" font-size=\"10.00\">1</text>\n</g>\n<!-- ancilla_G4 -->\n<g id=\"node2\" class=\"node\">\n<title>ancilla_G4</title>\n<text text-anchor=\"middle\" x=\"27.5\" y=\"-14.3\" font-family=\"Times,serif\" font-size=\"14.00\">ancilla</text>\n</g>\n<!-- ancilla_G4&#45;&gt;SparseMatrix -->\n<g id=\"edge2\" class=\"edge\">\n<title>ancilla_G4:e-&gt;SparseMatrix:w</title>\n<path fill=\"none\" stroke=\"black\" d=\"M55,-18C72.22,-18 73.97,-32.77 89.98,-33.93\"/>\n<ellipse fill=\"black\" stroke=\"black\" cx=\"91\" cy=\"-33.96\" rx=\"1\" ry=\"1\"/>\n<text text-anchor=\"middle\" x=\"73.5\" y=\"-29\" font-family=\"Times,serif\" font-size=\"10.00\">2</text>\n</g>\n<!-- system_G2 -->\n<g id=\"node4\" class=\"node\">\n<title>system_G2</title>\n<text text-anchor=\"middle\" x=\"217.5\" y=\"-68.3\" font-family=\"Times,serif\" font-size=\"14.00\">system</text>\n</g>\n<!-- SparseMatrix&#45;&gt;system_G2 -->\n<g id=\"edge3\" class=\"edge\">\n<title>SparseMatrix:e-&gt;system_G2:w</title>\n<path fill=\"none\" stroke=\"black\" d=\"M153,-56C170.22,-56 171.97,-70.77 187.98,-71.93\"/>\n<ellipse fill=\"black\" stroke=\"black\" cx=\"189\" cy=\"-71.96\" rx=\"1\" ry=\"1\"/>\n<text text-anchor=\"middle\" x=\"171.5\" y=\"-67\" font-family=\"Times,serif\" font-size=\"10.00\">1</text>\n</g>\n<!-- ancilla_G5 -->\n<g id=\"node5\" class=\"node\">\n<title>ancilla_G5</title>\n<text text-anchor=\"middle\" x=\"217.5\" y=\"-14.3\" font-family=\"Times,serif\" font-size=\"14.00\">ancilla</text>\n</g>\n<!-- SparseMatrix&#45;&gt;ancilla_G5 -->\n<g id=\"edge4\" class=\"edge\">\n<title>SparseMatrix:e-&gt;ancilla_G5:w</title>\n<path fill=\"none\" stroke=\"black\" d=\"M153,-34C170.22,-34 171.97,-19.23 187.98,-18.07\"/>\n<ellipse fill=\"black\" stroke=\"black\" cx=\"189\" cy=\"-18.04\" rx=\"1\" ry=\"1\"/>\n<text text-anchor=\"middle\" x=\"171.5\" y=\"-29\" font-family=\"Times,serif\" font-size=\"10.00\">2</text>\n</g>\n</g>\n</svg>",
          "text/plain": "<IPython.core.display.SVG object>"
         },
         "metadata": {},
         "output_type": "display_data"
        }
       ],
       "tabbable": null,
       "tooltip": null
      }
     }
    },
    "version_major": 2,
    "version_minor": 0
   }
  }
 },
 "nbformat": 4,
 "nbformat_minor": 5
}
