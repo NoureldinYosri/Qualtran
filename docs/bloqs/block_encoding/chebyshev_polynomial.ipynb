{
 "cells": [
  {
   "cell_type": "markdown",
   "id": "669be67a",
   "metadata": {
    "cq.autogen": "title_cell"
   },
   "source": [
    "# Chebyshev Polynomial"
   ]
  },
  {
   "cell_type": "code",
   "execution_count": 1,
   "id": "97a022fe",
   "metadata": {
    "cq.autogen": "top_imports"
   },
   "outputs": [],
   "source": [
    "from qualtran import Bloq, CompositeBloq, BloqBuilder, Signature, Register\n",
    "from qualtran import QBit, QInt, QUInt, QAny\n",
    "from qualtran.drawing import show_bloq, show_call_graph, show_counts_sigma\n",
    "from typing import *\n",
    "import numpy as np\n",
    "import sympy\n",
    "import cirq"
   ]
  },
  {
   "cell_type": "markdown",
   "id": "75318c87",
   "metadata": {
    "cq.autogen": "ChebyshevPolynomial.bloq_doc.md"
   },
   "source": [
    "## `ChebyshevPolynomial`\n",
    "Block encoding of $T_j(A / \\alpha)$ where $T_j$ is the $j$-th Chebyshev polynomial.\n",
    "\n",
    "Given a Hermitian matrix $A$ with spectral norm $|A| \\le 1$, recall:\n",
    "\n",
    "\\begin{align*}\n",
    "    T_0[A] &= I \\\\\n",
    "    T_1[A] &= A \\\\\n",
    "    T_2[A] &= 2 A^2 - I \\\\\n",
    "    T_3[A] &= 4 A^3 - 3 A \\\\\n",
    "    &\\dots\n",
    "\\end{align*}\n",
    "\n",
    "If `block_encoding` block encodes $A$ with normalization factor $\\alpha$, i.e. it constructs\n",
    "$\\mathcal{B}[A/\\alpha]$, then this bloq constructs $\\mathcal{B}[T_j(A/\\alpha)]$ with\n",
    "normalization factor 1. Note that $\\mathcal{B}[T_j(A/\\alpha)]$ is not a multiple of\n",
    "$\\mathcal{B}[T_j(A)]$ in general; use `ScaledChebyshevPolynomial` if $\\alpha \\neq 1$.\n",
    "\n",
    "See https://github.com/quantumlib/Qualtran/issues/984 for an alternative.\n",
    "\n",
    "#### Parameters\n",
    " - `block_encoding`: Block encoding of a Hermitian matrix $A$, $\\mathcal{B}[A]$. Assumes the $|G\\rangle$ state of the block encoding is the identity operator.\n",
    " - `order`: order of Chebychev polynomial. \n",
    "\n",
    "#### References\n",
    " - [Quantum computing enhanced computational catalysis](https://arxiv.org/abs/2007.14460).     von Burg et al. 2007. Page 45; Theorem 1.\n"
   ]
  },
  {
   "cell_type": "code",
   "execution_count": 2,
   "id": "8c4c2cca",
   "metadata": {
    "cq.autogen": "ChebyshevPolynomial.bloq_doc.py"
   },
   "outputs": [],
   "source": [
    "from qualtran.bloqs.block_encoding import ChebyshevPolynomial"
   ]
  },
  {
   "cell_type": "markdown",
   "id": "bd4662f7",
   "metadata": {
    "cq.autogen": "ChebyshevPolynomial.example_instances.md"
   },
   "source": [
    "### Example Instances"
   ]
  },
  {
   "cell_type": "code",
   "execution_count": 3,
   "id": "76559ac1",
   "metadata": {
    "cq.autogen": "ChebyshevPolynomial.chebyshev_poly_even"
   },
   "outputs": [],
   "source": [
    "from qualtran.bloqs.basic_gates import Hadamard, XGate\n",
    "from qualtran.bloqs.block_encoding import LinearCombination, Unitary\n",
    "\n",
    "bloq = LinearCombination((Unitary(XGate()), Unitary(Hadamard())), (0.5, 0.5), lambd_bits=1)\n",
    "chebyshev_poly_even = ChebyshevPolynomial(bloq, order=4)"
   ]
  },
  {
   "cell_type": "code",
   "execution_count": 4,
   "id": "1d85b9c1",
   "metadata": {
    "cq.autogen": "ChebyshevPolynomial.chebyshev_poly_odd"
   },
   "outputs": [],
   "source": [
    "from qualtran.bloqs.basic_gates import Hadamard\n",
    "from qualtran.bloqs.block_encoding import Unitary\n",
    "\n",
    "bloq = Unitary(Hadamard())\n",
    "chebyshev_poly_odd = ChebyshevPolynomial(bloq, order=5)"
   ]
  },
  {
   "cell_type": "markdown",
   "id": "9dcdb85f",
   "metadata": {
    "cq.autogen": "ChebyshevPolynomial.graphical_signature.md"
   },
   "source": [
    "#### Graphical Signature"
   ]
  },
  {
   "cell_type": "code",
   "execution_count": 5,
   "id": "70740244",
   "metadata": {
    "cq.autogen": "ChebyshevPolynomial.graphical_signature.py"
   },
   "outputs": [
    {
     "data": {
      "application/vnd.jupyter.widget-view+json": {
       "model_id": "885a07df6a79452aa994bbaaf18b9204",
       "version_major": 2,
       "version_minor": 0
      },
      "text/plain": [
       "HBox(children=(Output(outputs=({'output_type': 'display_data', 'data': {'text/plain': '<IPython.core.display.M…"
      ]
     },
     "metadata": {},
     "output_type": "display_data"
    }
   ],
   "source": [
    "from qualtran.drawing import show_bloqs\n",
    "show_bloqs([chebyshev_poly_even, chebyshev_poly_odd],\n",
    "           ['`chebyshev_poly_even`', '`chebyshev_poly_odd`'])"
   ]
  },
  {
   "cell_type": "markdown",
   "id": "5ceaeb9b",
   "metadata": {
    "cq.autogen": "ChebyshevPolynomial.call_graph.md"
   },
   "source": [
    "### Call Graph"
   ]
  },
  {
   "cell_type": "code",
   "execution_count": 6,
   "id": "d258bae7",
   "metadata": {
    "cq.autogen": "ChebyshevPolynomial.call_graph.py"
   },
   "outputs": [
    {
     "data": {
      "image/svg+xml": [
       "<svg xmlns=\"http://www.w3.org/2000/svg\" xmlns:xlink=\"http://www.w3.org/1999/xlink\" width=\"1193pt\" height=\"131pt\" viewBox=\"0.00 0.00 1193.00 131.00\">\n",
       "<g id=\"graph0\" class=\"graph\" transform=\"scale(1 1) rotate(0) translate(4 127)\">\n",
       "<title>counts</title>\n",
       "<polygon fill=\"white\" stroke=\"transparent\" points=\"-4,4 -4,-127 1189,-127 1189,4 -4,4\"/>\n",
       "<!-- b0 -->\n",
       "<g id=\"node1\" class=\"node\">\n",
       "<title>b0</title>\n",
       "<polygon fill=\"none\" stroke=\"black\" points=\"769,-123 536,-123 536,-87 769,-87 769,-123\"/>\n",
       "<text text-anchor=\"start\" x=\"568.5\" y=\"-106.8\" font-family=\"Times,serif\" font-size=\"14.00\">B[T_4(B[XGate+Hadamard])]</text>\n",
       "<text text-anchor=\"start\" x=\"544\" y=\"-96\" font-family=\"monospace\" font-size=\"10.00\">block_encoding=LinearCo ..., order=4</text>\n",
       "</g>\n",
       "<!-- b1 -->\n",
       "<g id=\"node2\" class=\"node\">\n",
       "<title>b1</title>\n",
       "<polygon fill=\"none\" stroke=\"black\" points=\"563,-36 0,-36 0,0 563,0 563,-36\"/>\n",
       "<text text-anchor=\"start\" x=\"222\" y=\"-19.8\" font-family=\"Times,serif\" font-size=\"14.00\">B[XGate+Hadamard]</text>\n",
       "<text text-anchor=\"start\" x=\"8\" y=\"-9\" font-family=\"monospace\" font-size=\"10.00\">_block_encodings=(Unitary ..., _lambd=(0.5, 0.5), lambd_bits=1, _prepare=None, _select=None</text>\n",
       "</g>\n",
       "<!-- b0&#45;&gt;b1 -->\n",
       "<g id=\"edge1\" class=\"edge\">\n",
       "<title>b0-&gt;b1</title>\n",
       "<path fill=\"none\" stroke=\"black\" d=\"M577.87,-86.9C516.61,-72.87 429.87,-52.99 366.05,-38.37\"/>\n",
       "<polygon fill=\"black\" stroke=\"black\" points=\"366.54,-34.89 356.01,-36.07 364.98,-41.72 366.54,-34.89\"/>\n",
       "<text text-anchor=\"middle\" x=\"493\" y=\"-57.8\" font-family=\"Times,serif\" font-size=\"14.00\">2</text>\n",
       "</g>\n",
       "<!-- b2 -->\n",
       "<g id=\"node3\" class=\"node\">\n",
       "<title>b2</title>\n",
       "<polygon fill=\"none\" stroke=\"black\" points=\"723.5,-36 581.5,-36 581.5,0 723.5,0 723.5,-36\"/>\n",
       "<text text-anchor=\"start\" x=\"589.5\" y=\"-19.8\" font-family=\"Times,serif\" font-size=\"14.00\">B[XGate+Hadamard]†</text>\n",
       "<text text-anchor=\"start\" x=\"592\" y=\"-9\" font-family=\"monospace\" font-size=\"10.00\">subbloq=LinearCo ...</text>\n",
       "</g>\n",
       "<!-- b0&#45;&gt;b2 -->\n",
       "<g id=\"edge2\" class=\"edge\">\n",
       "<title>b0-&gt;b2</title>\n",
       "<path fill=\"none\" stroke=\"black\" d=\"M652.5,-86.8C652.5,-75.16 652.5,-59.55 652.5,-46.24\"/>\n",
       "<polygon fill=\"black\" stroke=\"black\" points=\"656,-46.18 652.5,-36.18 649,-46.18 656,-46.18\"/>\n",
       "<text text-anchor=\"middle\" x=\"656\" y=\"-57.8\" font-family=\"Times,serif\" font-size=\"14.00\">2</text>\n",
       "</g>\n",
       "<!-- b3 -->\n",
       "<g id=\"node4\" class=\"node\">\n",
       "<title>b3</title>\n",
       "<polygon fill=\"none\" stroke=\"black\" points=\"1185,-36 742,-36 742,0 1185,0 1185,-36\"/>\n",
       "<text text-anchor=\"start\" x=\"898.5\" y=\"-19.8\" font-family=\"Times,serif\" font-size=\"14.00\">ReflectionUsingPrepare</text>\n",
       "<text text-anchor=\"start\" x=\"750\" y=\"-9\" font-family=\"monospace\" font-size=\"10.00\">prepare_gate=PrepareI ..., control_val=None, global_phase=-1, eps=1e-11</text>\n",
       "</g>\n",
       "<!-- b0&#45;&gt;b3 -->\n",
       "<g id=\"edge3\" class=\"edge\">\n",
       "<title>b0-&gt;b3</title>\n",
       "<path fill=\"none\" stroke=\"black\" d=\"M715.06,-86.9C765.99,-72.98 837.93,-53.32 891.3,-38.73\"/>\n",
       "<polygon fill=\"black\" stroke=\"black\" points=\"892.32,-42.08 901.04,-36.07 890.47,-35.33 892.32,-42.08\"/>\n",
       "<text text-anchor=\"middle\" x=\"831\" y=\"-57.8\" font-family=\"Times,serif\" font-size=\"14.00\">4</text>\n",
       "</g>\n",
       "</g>\n",
       "</svg>"
      ],
      "text/plain": [
       "<IPython.core.display.SVG object>"
      ]
     },
     "metadata": {},
     "output_type": "display_data"
    },
    {
     "data": {
      "text/markdown": [
       "#### Counts totals:\n",
       " - `Adjoint(subbloq=LinearCombination)`: 2\n",
       " - `LinearCombination`: 2\n",
       " - `ReflectionUsingPrepare`: 4"
      ],
      "text/plain": [
       "<IPython.core.display.Markdown object>"
      ]
     },
     "metadata": {},
     "output_type": "display_data"
    }
   ],
   "source": [
    "from qualtran.resource_counting.generalizers import ignore_split_join\n",
    "chebyshev_poly_even_g, chebyshev_poly_even_sigma = chebyshev_poly_even.call_graph(max_depth=1, generalizer=ignore_split_join)\n",
    "show_call_graph(chebyshev_poly_even_g)\n",
    "show_counts_sigma(chebyshev_poly_even_sigma)"
   ]
  },
  {
   "cell_type": "markdown",
   "id": "f30b1a5d",
   "metadata": {
    "cq.autogen": "ScaledChebyshevPolynomial.bloq_doc.md"
   },
   "source": [
    "## `ScaledChebyshevPolynomial`\n",
    "Block encoding of $T_j(A)$ where $T_j$ is the $j$-th Chebyshev polynomial.\n",
    "\n",
    "Unlike `ChebyshevPolynomial`, this bloq accepts $\\mathcal{B}[A/\\alpha]$ with $\\alpha \\neq 1$\n",
    "and constructs $\\mathcal{B}[T_j(A)]$ which is not a multiple of $\\mathcal{B}[T_j(A/\\alpha)]$\n",
    "in general. It does so by constructing $T_k(t)$ in terms of $T_j(t/\\alpha)$ for $j \\in [0, k]$.\n",
    "\n",
    "#### Parameters\n",
    " - `block_encoding`: Block encoding of a Hermitian matrix $A$, $\\mathcal{B}[A/\\alpha]$. Assumes the $|G\\rangle$ state of the block encoding is the identity operator.\n",
    " - `order`: order of Chebychev polynomial.\n",
    " - `lambd_bits`: number of bits to represent coefficients of linear combination precisely. \n",
    "\n",
    "#### References\n",
    " - [Explicit Quantum Circuits for Block Encodings of Certain Sparse Matrices](https://arxiv.org/abs/2203.10236). Camps et al. (2023). Section 5.1.\n"
   ]
  },
  {
   "cell_type": "code",
   "execution_count": 7,
   "id": "508faa91",
   "metadata": {
    "cq.autogen": "ScaledChebyshevPolynomial.bloq_doc.py"
   },
   "outputs": [],
   "source": [
    "from qualtran.bloqs.block_encoding import ScaledChebyshevPolynomial"
   ]
  },
  {
   "cell_type": "markdown",
   "id": "338fcd02",
   "metadata": {
    "cq.autogen": "ScaledChebyshevPolynomial.example_instances.md"
   },
   "source": [
    "### Example Instances"
   ]
  },
  {
   "cell_type": "code",
   "execution_count": 8,
   "id": "3cae55ac",
   "metadata": {
    "cq.autogen": "ScaledChebyshevPolynomial.scaled_chebyshev_poly_even"
   },
   "outputs": [],
   "source": [
    "from qualtran.bloqs.basic_gates import Hadamard, XGate\n",
    "from qualtran.bloqs.block_encoding import LinearCombination, Unitary\n",
    "\n",
    "bloq = LinearCombination((Unitary(XGate()), Unitary(Hadamard())), (1.0, 1.0), lambd_bits=1)\n",
    "scaled_chebyshev_poly_even = ScaledChebyshevPolynomial(bloq, order=4)"
   ]
  },
  {
   "cell_type": "code",
   "execution_count": 9,
   "id": "4e2aa89f",
   "metadata": {
    "cq.autogen": "ScaledChebyshevPolynomial.scaled_chebyshev_poly_odd"
   },
   "outputs": [],
   "source": [
    "from attrs import evolve\n",
    "\n",
    "from qualtran.bloqs.basic_gates import Hadamard\n",
    "from qualtran.bloqs.block_encoding import Unitary\n",
    "\n",
    "bloq = evolve(Unitary(Hadamard()), alpha=3.14)\n",
    "scaled_chebyshev_poly_odd = ScaledChebyshevPolynomial(bloq, order=5)"
   ]
  },
  {
   "cell_type": "markdown",
   "id": "76887fe8",
   "metadata": {
    "cq.autogen": "ScaledChebyshevPolynomial.graphical_signature.md"
   },
   "source": [
    "#### Graphical Signature"
   ]
  },
  {
   "cell_type": "code",
   "execution_count": 10,
   "id": "d83706cf",
   "metadata": {
    "cq.autogen": "ScaledChebyshevPolynomial.graphical_signature.py"
   },
   "outputs": [
    {
     "data": {
      "application/vnd.jupyter.widget-view+json": {
       "model_id": "57359a129f504060ba058968dfb0b21b",
       "version_major": 2,
       "version_minor": 0
      },
      "text/plain": [
       "HBox(children=(Output(outputs=({'output_type': 'display_data', 'data': {'text/plain': '<IPython.core.display.M…"
      ]
     },
     "metadata": {},
     "output_type": "display_data"
    }
   ],
   "source": [
    "from qualtran.drawing import show_bloqs\n",
    "show_bloqs([scaled_chebyshev_poly_even, scaled_chebyshev_poly_odd],\n",
    "           ['`scaled_chebyshev_poly_even`', '`scaled_chebyshev_poly_odd`'])"
   ]
  },
  {
   "cell_type": "markdown",
   "id": "901aebb5",
   "metadata": {
    "cq.autogen": "ScaledChebyshevPolynomial.call_graph.md"
   },
   "source": [
    "### Call Graph"
   ]
  },
  {
   "cell_type": "code",
   "execution_count": 11,
   "id": "179cf0a7",
   "metadata": {
    "cq.autogen": "ScaledChebyshevPolynomial.call_graph.py"
   },
   "outputs": [
    {
     "data": {
      "image/svg+xml": [
       "<svg xmlns=\"http://www.w3.org/2000/svg\" xmlns:xlink=\"http://www.w3.org/1999/xlink\" width=\"822pt\" height=\"131pt\" viewBox=\"0.00 0.00 822.00 131.00\">\n",
       "<g id=\"graph0\" class=\"graph\" transform=\"scale(1 1) rotate(0) translate(4 127)\">\n",
       "<title>counts</title>\n",
       "<polygon fill=\"white\" stroke=\"transparent\" points=\"-4,4 -4,-127 818,-127 818,4 -4,4\"/>\n",
       "<!-- b0 -->\n",
       "<g id=\"node1\" class=\"node\">\n",
       "<title>b0</title>\n",
       "<polygon fill=\"none\" stroke=\"black\" points=\"565.5,-123 248.5,-123 248.5,-87 565.5,-87 565.5,-123\"/>\n",
       "<text text-anchor=\"start\" x=\"323\" y=\"-106.8\" font-family=\"Times,serif\" font-size=\"14.00\">B[T_4(B[XGate+Hadamard])]</text>\n",
       "<text text-anchor=\"start\" x=\"256.5\" y=\"-96\" font-family=\"monospace\" font-size=\"10.00\">block_encoding=LinearCo ..., order=4, lambd_bits=5</text>\n",
       "</g>\n",
       "<!-- b1 -->\n",
       "<g id=\"node2\" class=\"node\">\n",
       "<title>b1</title>\n",
       "<polygon fill=\"none\" stroke=\"black\" points=\"814,-36 0,-36 0,0 814,0 814,-36\"/>\n",
       "<text text-anchor=\"start\" x=\"8\" y=\"-19.8\" font-family=\"Times,serif\" font-size=\"14.00\">B[T_0(B[XGate+Hadamard])+T_1(B[XGate+Hadamard])+T_2(B[XGate+Hadamard])+T_3(B[XGate+Hadamard])+T_4(B[XGate+Hadamard])]</text>\n",
       "<text text-anchor=\"start\" x=\"127.5\" y=\"-9\" font-family=\"monospace\" font-size=\"10.00\">_block_encodings=(Chebysh ..., _lambd=(33.0, 0 ..., lambd_bits=5, _prepare=None, _select=None</text>\n",
       "</g>\n",
       "<!-- b0&#45;&gt;b1 -->\n",
       "<g id=\"edge1\" class=\"edge\">\n",
       "<title>b0-&gt;b1</title>\n",
       "<path fill=\"none\" stroke=\"black\" d=\"M407,-86.8C407,-75.16 407,-59.55 407,-46.24\"/>\n",
       "<polygon fill=\"black\" stroke=\"black\" points=\"410.5,-46.18 407,-36.18 403.5,-46.18 410.5,-46.18\"/>\n",
       "<text text-anchor=\"middle\" x=\"410.5\" y=\"-57.8\" font-family=\"Times,serif\" font-size=\"14.00\">1</text>\n",
       "</g>\n",
       "</g>\n",
       "</svg>"
      ],
      "text/plain": [
       "<IPython.core.display.SVG object>"
      ]
     },
     "metadata": {},
     "output_type": "display_data"
    },
    {
     "data": {
      "text/markdown": [
       "#### Counts totals:\n",
       " - `LinearCombination`: 1"
      ],
      "text/plain": [
       "<IPython.core.display.Markdown object>"
      ]
     },
     "metadata": {},
     "output_type": "display_data"
    }
   ],
   "source": [
    "from qualtran.resource_counting.generalizers import ignore_split_join\n",
    "scaled_chebyshev_poly_even_g, scaled_chebyshev_poly_even_sigma = scaled_chebyshev_poly_even.call_graph(max_depth=1, generalizer=ignore_split_join)\n",
    "show_call_graph(scaled_chebyshev_poly_even_g)\n",
    "show_counts_sigma(scaled_chebyshev_poly_even_sigma)"
   ]
  }
 ],
 "metadata": {
  "kernelspec": {
   "display_name": "Python 3",
   "language": "python",
   "name": "python3"
  },
  "language_info": {
   "codemirror_mode": {
    "name": "ipython",
    "version": 3
   },
   "file_extension": ".py",
   "mimetype": "text/x-python",
   "name": "python",
   "nbconvert_exporter": "python",
   "pygments_lexer": "ipython3",
   "version": "3.11.8"
  },
  "widgets": {
   "application/vnd.jupyter.widget-state+json": {
    "state": {
     "2cba90e29aaa41c490a7423b6eca62fa": {
      "model_module": "@jupyter-widgets/output",
      "model_module_version": "1.0.0",
      "model_name": "OutputModel",
      "state": {
       "_dom_classes": [],
       "_model_module": "@jupyter-widgets/output",
       "_model_module_version": "1.0.0",
       "_model_name": "OutputModel",
       "_view_count": null,
       "_view_module": "@jupyter-widgets/output",
       "_view_module_version": "1.0.0",
       "_view_name": "OutputView",
       "layout": "IPY_MODEL_9ef124d4ca5f433382754116663cbeef",
       "msg_id": "",
       "outputs": [
        {
         "data": {
          "text/markdown": "`chebyshev_poly_odd`",
          "text/plain": "<IPython.core.display.Markdown object>"
         },
         "metadata": {},
         "output_type": "display_data"
        },
        {
         "data": {
          "image/svg+xml": "<svg xmlns=\"http://www.w3.org/2000/svg\" xmlns:xlink=\"http://www.w3.org/1999/xlink\" width=\"292pt\" height=\"54pt\" viewBox=\"0.00 0.00 292.00 54.00\">\n<g id=\"graph0\" class=\"graph\" transform=\"scale(1 1) rotate(0) translate(4 50)\">\n<title>my_graph</title>\n<polygon fill=\"white\" stroke=\"transparent\" points=\"-4,4 -4,-50 288,-50 288,4 -4,4\"/>\n<!-- system_G0 -->\n<g id=\"node1\" class=\"node\">\n<title>system_G0</title>\n<text text-anchor=\"middle\" x=\"27.5\" y=\"-14.3\" font-family=\"Times,serif\" font-size=\"14.00\">system</text>\n</g>\n<!-- ChebyshevPolynomial -->\n<g id=\"node2\" class=\"node\">\n<title>ChebyshevPolynomial</title>\n<polygon fill=\"none\" stroke=\"black\" points=\"92,-29 92,-46 192,-46 192,-29 92,-29\"/>\n<text text-anchor=\"start\" x=\"95\" y=\"-35\" font-family=\"Times,serif\" font-size=\"10.00\">ChebyshevPolynomial</text>\n<polygon fill=\"none\" stroke=\"black\" points=\"92,-8 92,-29 192,-29 192,-8 92,-8\"/>\n<text text-anchor=\"start\" x=\"122.5\" y=\"-14.8\" font-family=\"Times,serif\" font-size=\"14.00\">system</text>\n</g>\n<!-- system_G0&#45;&gt;ChebyshevPolynomial -->\n<g id=\"edge1\" class=\"edge\">\n<title>system_G0:e-&gt;ChebyshevPolynomial:w</title>\n<path fill=\"none\" stroke=\"black\" d=\"M55,-18C70.67,-18 75.14,-18 89.77,-18\"/>\n<ellipse fill=\"black\" stroke=\"black\" cx=\"91\" cy=\"-18\" rx=\"1\" ry=\"1\"/>\n<text text-anchor=\"middle\" x=\"73.5\" y=\"-21\" font-family=\"Times,serif\" font-size=\"10.00\">1</text>\n</g>\n<!-- system_G2 -->\n<g id=\"node3\" class=\"node\">\n<title>system_G2</title>\n<text text-anchor=\"middle\" x=\"256.5\" y=\"-14.3\" font-family=\"Times,serif\" font-size=\"14.00\">system</text>\n</g>\n<!-- ChebyshevPolynomial&#45;&gt;system_G2 -->\n<g id=\"edge2\" class=\"edge\">\n<title>ChebyshevPolynomial:e-&gt;system_G2:w</title>\n<path fill=\"none\" stroke=\"black\" d=\"M192,-18C207.67,-18 212.14,-18 226.77,-18\"/>\n<ellipse fill=\"black\" stroke=\"black\" cx=\"228\" cy=\"-18\" rx=\"1\" ry=\"1\"/>\n<text text-anchor=\"middle\" x=\"210.5\" y=\"-21\" font-family=\"Times,serif\" font-size=\"10.00\">1</text>\n</g>\n</g>\n</svg>",
          "text/plain": "<IPython.core.display.SVG object>"
         },
         "metadata": {},
         "output_type": "display_data"
        }
       ],
       "tabbable": null,
       "tooltip": null
      }
     },
     "56b346b3db8c48c1a8c3160beea25f1b": {
      "model_module": "@jupyter-widgets/base",
      "model_module_version": "2.0.0",
      "model_name": "LayoutModel",
      "state": {
       "_model_module": "@jupyter-widgets/base",
       "_model_module_version": "2.0.0",
       "_model_name": "LayoutModel",
       "_view_count": null,
       "_view_module": "@jupyter-widgets/base",
       "_view_module_version": "2.0.0",
       "_view_name": "LayoutView",
       "align_content": null,
       "align_items": null,
       "align_self": null,
       "border_bottom": null,
       "border_left": null,
       "border_right": null,
       "border_top": null,
       "bottom": null,
       "display": null,
       "flex": null,
       "flex_flow": null,
       "grid_area": null,
       "grid_auto_columns": null,
       "grid_auto_flow": null,
       "grid_auto_rows": null,
       "grid_column": null,
       "grid_gap": null,
       "grid_row": null,
       "grid_template_areas": null,
       "grid_template_columns": null,
       "grid_template_rows": null,
       "height": null,
       "justify_content": null,
       "justify_items": null,
       "left": null,
       "margin": null,
       "max_height": null,
       "max_width": null,
       "min_height": null,
       "min_width": null,
       "object_fit": null,
       "object_position": null,
       "order": null,
       "overflow": null,
       "padding": null,
       "right": null,
       "top": null,
       "visibility": null,
       "width": null
      }
     },
     "57359a129f504060ba058968dfb0b21b": {
      "model_module": "@jupyter-widgets/controls",
      "model_module_version": "2.0.0",
      "model_name": "HBoxModel",
      "state": {
       "_dom_classes": [],
       "_model_module": "@jupyter-widgets/controls",
       "_model_module_version": "2.0.0",
       "_model_name": "HBoxModel",
       "_view_count": null,
       "_view_module": "@jupyter-widgets/controls",
       "_view_module_version": "2.0.0",
       "_view_name": "HBoxView",
       "box_style": "",
       "children": [
        "IPY_MODEL_ab90dd4646454ed69bc998e676d2f031",
        "IPY_MODEL_5b2ef0b9b1544821a2167c257258001e"
       ],
       "layout": "IPY_MODEL_56b346b3db8c48c1a8c3160beea25f1b",
       "tabbable": null,
       "tooltip": null
      }
     },
     "588dba693a02477d956a8a2ef2d0c88a": {
      "model_module": "@jupyter-widgets/base",
      "model_module_version": "2.0.0",
      "model_name": "LayoutModel",
      "state": {
       "_model_module": "@jupyter-widgets/base",
       "_model_module_version": "2.0.0",
       "_model_name": "LayoutModel",
       "_view_count": null,
       "_view_module": "@jupyter-widgets/base",
       "_view_module_version": "2.0.0",
       "_view_name": "LayoutView",
       "align_content": null,
       "align_items": null,
       "align_self": null,
       "border_bottom": null,
       "border_left": null,
       "border_right": null,
       "border_top": null,
       "bottom": null,
       "display": null,
       "flex": null,
       "flex_flow": null,
       "grid_area": null,
       "grid_auto_columns": null,
       "grid_auto_flow": null,
       "grid_auto_rows": null,
       "grid_column": null,
       "grid_gap": null,
       "grid_row": null,
       "grid_template_areas": null,
       "grid_template_columns": null,
       "grid_template_rows": null,
       "height": null,
       "justify_content": null,
       "justify_items": null,
       "left": null,
       "margin": null,
       "max_height": null,
       "max_width": null,
       "min_height": null,
       "min_width": null,
       "object_fit": null,
       "object_position": null,
       "order": null,
       "overflow": null,
       "padding": null,
       "right": null,
       "top": null,
       "visibility": null,
       "width": null
      }
     },
     "5b2ef0b9b1544821a2167c257258001e": {
      "model_module": "@jupyter-widgets/output",
      "model_module_version": "1.0.0",
      "model_name": "OutputModel",
      "state": {
       "_dom_classes": [],
       "_model_module": "@jupyter-widgets/output",
       "_model_module_version": "1.0.0",
       "_model_name": "OutputModel",
       "_view_count": null,
       "_view_module": "@jupyter-widgets/output",
       "_view_module_version": "1.0.0",
       "_view_name": "OutputView",
       "layout": "IPY_MODEL_588dba693a02477d956a8a2ef2d0c88a",
       "msg_id": "",
       "outputs": [
        {
         "data": {
          "text/markdown": "`scaled_chebyshev_poly_odd`",
          "text/plain": "<IPython.core.display.Markdown object>"
         },
         "metadata": {},
         "output_type": "display_data"
        },
        {
         "data": {
          "image/svg+xml": "<svg xmlns=\"http://www.w3.org/2000/svg\" xmlns:xlink=\"http://www.w3.org/1999/xlink\" width=\"333pt\" height=\"152pt\" viewBox=\"0.00 0.00 333.00 152.00\">\n<g id=\"graph0\" class=\"graph\" transform=\"scale(1 1) rotate(0) translate(4 148)\">\n<title>my_graph</title>\n<polygon fill=\"white\" stroke=\"transparent\" points=\"-4,4 -4,-148 329,-148 329,4 -4,4\"/>\n<!-- system_G6 -->\n<g id=\"node1\" class=\"node\">\n<title>system_G6</title>\n<text text-anchor=\"middle\" x=\"31\" y=\"-122.3\" font-family=\"Times,serif\" font-size=\"14.00\">system</text>\n</g>\n<!-- ScaledChebyshevPolynomial -->\n<g id=\"node4\" class=\"node\">\n<title>ScaledChebyshevPolynomial</title>\n<polygon fill=\"none\" stroke=\"black\" points=\"99.5,-104 99.5,-121 226.5,-121 226.5,-104 99.5,-104\"/>\n<text text-anchor=\"start\" x=\"102.5\" y=\"-110\" font-family=\"Times,serif\" font-size=\"10.00\">ScaledChebyshevPolynomial</text>\n<polygon fill=\"none\" stroke=\"black\" points=\"99.5,-83 99.5,-104 226.5,-104 226.5,-83 99.5,-83\"/>\n<text text-anchor=\"start\" x=\"143.5\" y=\"-89.8\" font-family=\"Times,serif\" font-size=\"14.00\">system</text>\n<polygon fill=\"none\" stroke=\"black\" points=\"99.5,-62 99.5,-83 226.5,-83 226.5,-62 99.5,-62\"/>\n<text text-anchor=\"start\" x=\"144.5\" y=\"-68.8\" font-family=\"Times,serif\" font-size=\"14.00\">ancilla</text>\n<polygon fill=\"none\" stroke=\"black\" points=\"99.5,-41 99.5,-62 226.5,-62 226.5,-41 99.5,-41\"/>\n<text text-anchor=\"start\" x=\"140\" y=\"-47.8\" font-family=\"Times,serif\" font-size=\"14.00\">resource</text>\n</g>\n<!-- system_G6&#45;&gt;ScaledChebyshevPolynomial -->\n<g id=\"edge1\" class=\"edge\">\n<title>system_G6:e-&gt;ScaledChebyshevPolynomial:w</title>\n<path fill=\"none\" stroke=\"black\" d=\"M60,-126C81.72,-126 76.92,-95.97 96.98,-94.09\"/>\n<ellipse fill=\"black\" stroke=\"black\" cx=\"98\" cy=\"-94.05\" rx=\"1\" ry=\"1\"/>\n<text text-anchor=\"middle\" x=\"80.5\" y=\"-111\" font-family=\"Times,serif\" font-size=\"10.00\">1</text>\n</g>\n<!-- ancilla_G0 -->\n<g id=\"node2\" class=\"node\">\n<title>ancilla_G0</title>\n<text text-anchor=\"middle\" x=\"31\" y=\"-68.3\" font-family=\"Times,serif\" font-size=\"14.00\">ancilla</text>\n</g>\n<!-- ancilla_G0&#45;&gt;ScaledChebyshevPolynomial -->\n<g id=\"edge2\" class=\"edge\">\n<title>ancilla_G0:e-&gt;ScaledChebyshevPolynomial:w</title>\n<path fill=\"none\" stroke=\"black\" d=\"M59,-72C76.08,-72 80.85,-72 96.98,-72\"/>\n<ellipse fill=\"black\" stroke=\"black\" cx=\"98\" cy=\"-72\" rx=\"1\" ry=\"1\"/>\n<text text-anchor=\"middle\" x=\"80.5\" y=\"-75\" font-family=\"Times,serif\" font-size=\"10.00\">3</text>\n</g>\n<!-- resource_G2 -->\n<g id=\"node3\" class=\"node\">\n<title>resource_G2</title>\n<text text-anchor=\"middle\" x=\"31\" y=\"-14.3\" font-family=\"Times,serif\" font-size=\"14.00\">resource</text>\n</g>\n<!-- resource_G2&#45;&gt;ScaledChebyshevPolynomial -->\n<g id=\"edge3\" class=\"edge\">\n<title>resource_G2:e-&gt;ScaledChebyshevPolynomial:w</title>\n<path fill=\"none\" stroke=\"black\" d=\"M62,-18C83.17,-18 77.47,-48.47 96.55,-50.85\"/>\n<ellipse fill=\"black\" stroke=\"black\" cx=\"98\" cy=\"-50.94\" rx=\"1\" ry=\"1\"/>\n<text text-anchor=\"middle\" x=\"80.5\" y=\"-39\" font-family=\"Times,serif\" font-size=\"10.00\">14</text>\n</g>\n<!-- system_G1 -->\n<g id=\"node5\" class=\"node\">\n<title>system_G1</title>\n<text text-anchor=\"middle\" x=\"294\" y=\"-122.3\" font-family=\"Times,serif\" font-size=\"14.00\">system</text>\n</g>\n<!-- ScaledChebyshevPolynomial&#45;&gt;system_G1 -->\n<g id=\"edge4\" class=\"edge\">\n<title>ScaledChebyshevPolynomial:e-&gt;system_G1:w</title>\n<path fill=\"none\" stroke=\"black\" d=\"M226,-94C247.72,-94 242.92,-124.03 262.98,-125.91\"/>\n<ellipse fill=\"black\" stroke=\"black\" cx=\"264\" cy=\"-125.95\" rx=\"1\" ry=\"1\"/>\n<text text-anchor=\"middle\" x=\"244.5\" y=\"-111\" font-family=\"Times,serif\" font-size=\"10.00\">1</text>\n</g>\n<!-- ancilla_G7 -->\n<g id=\"node6\" class=\"node\">\n<title>ancilla_G7</title>\n<text text-anchor=\"middle\" x=\"294\" y=\"-68.3\" font-family=\"Times,serif\" font-size=\"14.00\">ancilla</text>\n</g>\n<!-- ScaledChebyshevPolynomial&#45;&gt;ancilla_G7 -->\n<g id=\"edge5\" class=\"edge\">\n<title>ScaledChebyshevPolynomial:e-&gt;ancilla_G7:w</title>\n<path fill=\"none\" stroke=\"black\" d=\"M226,-72C243.08,-72 247.85,-72 263.98,-72\"/>\n<ellipse fill=\"black\" stroke=\"black\" cx=\"265\" cy=\"-72\" rx=\"1\" ry=\"1\"/>\n<text text-anchor=\"middle\" x=\"244.5\" y=\"-75\" font-family=\"Times,serif\" font-size=\"10.00\">3</text>\n</g>\n<!-- resource_G8 -->\n<g id=\"node7\" class=\"node\">\n<title>resource_G8</title>\n<text text-anchor=\"middle\" x=\"294\" y=\"-14.3\" font-family=\"Times,serif\" font-size=\"14.00\">resource</text>\n</g>\n<!-- ScaledChebyshevPolynomial&#45;&gt;resource_G8 -->\n<g id=\"edge6\" class=\"edge\">\n<title>ScaledChebyshevPolynomial:e-&gt;resource_G8:w</title>\n<path fill=\"none\" stroke=\"black\" d=\"M226,-51C247.17,-51 241.47,-20.53 260.55,-18.15\"/>\n<ellipse fill=\"black\" stroke=\"black\" cx=\"262\" cy=\"-18.06\" rx=\"1\" ry=\"1\"/>\n<text text-anchor=\"middle\" x=\"244.5\" y=\"-39\" font-family=\"Times,serif\" font-size=\"10.00\">14</text>\n</g>\n</g>\n</svg>",
          "text/plain": "<IPython.core.display.SVG object>"
         },
         "metadata": {},
         "output_type": "display_data"
        }
       ],
       "tabbable": null,
       "tooltip": null
      }
     },
     "75391a27f9cf4157a5a18b1a18dd3776": {
      "model_module": "@jupyter-widgets/base",
      "model_module_version": "2.0.0",
      "model_name": "LayoutModel",
      "state": {
       "_model_module": "@jupyter-widgets/base",
       "_model_module_version": "2.0.0",
       "_model_name": "LayoutModel",
       "_view_count": null,
       "_view_module": "@jupyter-widgets/base",
       "_view_module_version": "2.0.0",
       "_view_name": "LayoutView",
       "align_content": null,
       "align_items": null,
       "align_self": null,
       "border_bottom": null,
       "border_left": null,
       "border_right": null,
       "border_top": null,
       "bottom": null,
       "display": null,
       "flex": null,
       "flex_flow": null,
       "grid_area": null,
       "grid_auto_columns": null,
       "grid_auto_flow": null,
       "grid_auto_rows": null,
       "grid_column": null,
       "grid_gap": null,
       "grid_row": null,
       "grid_template_areas": null,
       "grid_template_columns": null,
       "grid_template_rows": null,
       "height": null,
       "justify_content": null,
       "justify_items": null,
       "left": null,
       "margin": null,
       "max_height": null,
       "max_width": null,
       "min_height": null,
       "min_width": null,
       "object_fit": null,
       "object_position": null,
       "order": null,
       "overflow": null,
       "padding": null,
       "right": null,
       "top": null,
       "visibility": null,
       "width": null
      }
     },
     "885a07df6a79452aa994bbaaf18b9204": {
      "model_module": "@jupyter-widgets/controls",
      "model_module_version": "2.0.0",
      "model_name": "HBoxModel",
      "state": {
       "_dom_classes": [],
       "_model_module": "@jupyter-widgets/controls",
       "_model_module_version": "2.0.0",
       "_model_name": "HBoxModel",
       "_view_count": null,
       "_view_module": "@jupyter-widgets/controls",
       "_view_module_version": "2.0.0",
       "_view_name": "HBoxView",
       "box_style": "",
       "children": [
        "IPY_MODEL_a7d716a33cef4187bfaeb59e36cc73ce",
        "IPY_MODEL_2cba90e29aaa41c490a7423b6eca62fa"
       ],
       "layout": "IPY_MODEL_f08f83a5a4aa4e358bd5721dc3ff2424",
       "tabbable": null,
       "tooltip": null
      }
     },
     "9ef124d4ca5f433382754116663cbeef": {
      "model_module": "@jupyter-widgets/base",
      "model_module_version": "2.0.0",
      "model_name": "LayoutModel",
      "state": {
       "_model_module": "@jupyter-widgets/base",
       "_model_module_version": "2.0.0",
       "_model_name": "LayoutModel",
       "_view_count": null,
       "_view_module": "@jupyter-widgets/base",
       "_view_module_version": "2.0.0",
       "_view_name": "LayoutView",
       "align_content": null,
       "align_items": null,
       "align_self": null,
       "border_bottom": null,
       "border_left": null,
       "border_right": null,
       "border_top": null,
       "bottom": null,
       "display": null,
       "flex": null,
       "flex_flow": null,
       "grid_area": null,
       "grid_auto_columns": null,
       "grid_auto_flow": null,
       "grid_auto_rows": null,
       "grid_column": null,
       "grid_gap": null,
       "grid_row": null,
       "grid_template_areas": null,
       "grid_template_columns": null,
       "grid_template_rows": null,
       "height": null,
       "justify_content": null,
       "justify_items": null,
       "left": null,
       "margin": null,
       "max_height": null,
       "max_width": null,
       "min_height": null,
       "min_width": null,
       "object_fit": null,
       "object_position": null,
       "order": null,
       "overflow": null,
       "padding": null,
       "right": null,
       "top": null,
       "visibility": null,
       "width": null
      }
     },
     "a7d716a33cef4187bfaeb59e36cc73ce": {
      "model_module": "@jupyter-widgets/output",
      "model_module_version": "1.0.0",
      "model_name": "OutputModel",
      "state": {
       "_dom_classes": [],
       "_model_module": "@jupyter-widgets/output",
       "_model_module_version": "1.0.0",
       "_model_name": "OutputModel",
       "_view_count": null,
       "_view_module": "@jupyter-widgets/output",
       "_view_module_version": "1.0.0",
       "_view_name": "OutputView",
       "layout": "IPY_MODEL_75391a27f9cf4157a5a18b1a18dd3776",
       "msg_id": "",
       "outputs": [
        {
         "data": {
          "text/markdown": "`chebyshev_poly_even`",
          "text/plain": "<IPython.core.display.Markdown object>"
         },
         "metadata": {},
         "output_type": "display_data"
        },
        {
         "data": {
          "image/svg+xml": "<svg xmlns=\"http://www.w3.org/2000/svg\" xmlns:xlink=\"http://www.w3.org/1999/xlink\" width=\"306pt\" height=\"152pt\" viewBox=\"0.00 0.00 306.00 152.00\">\n<g id=\"graph0\" class=\"graph\" transform=\"scale(1 1) rotate(0) translate(4 148)\">\n<title>my_graph</title>\n<polygon fill=\"white\" stroke=\"transparent\" points=\"-4,4 -4,-148 302,-148 302,4 -4,4\"/>\n<!-- system_G6 -->\n<g id=\"node1\" class=\"node\">\n<title>system_G6</title>\n<text text-anchor=\"middle\" x=\"31\" y=\"-122.3\" font-family=\"Times,serif\" font-size=\"14.00\">system</text>\n</g>\n<!-- ChebyshevPolynomial -->\n<g id=\"node4\" class=\"node\">\n<title>ChebyshevPolynomial</title>\n<polygon fill=\"none\" stroke=\"black\" points=\"99,-104 99,-121 199,-121 199,-104 99,-104\"/>\n<text text-anchor=\"start\" x=\"102\" y=\"-110\" font-family=\"Times,serif\" font-size=\"10.00\">ChebyshevPolynomial</text>\n<polygon fill=\"none\" stroke=\"black\" points=\"99,-83 99,-104 199,-104 199,-83 99,-83\"/>\n<text text-anchor=\"start\" x=\"129.5\" y=\"-89.8\" font-family=\"Times,serif\" font-size=\"14.00\">system</text>\n<polygon fill=\"none\" stroke=\"black\" points=\"99,-62 99,-83 199,-83 199,-62 99,-62\"/>\n<text text-anchor=\"start\" x=\"130.5\" y=\"-68.8\" font-family=\"Times,serif\" font-size=\"14.00\">ancilla</text>\n<polygon fill=\"none\" stroke=\"black\" points=\"99,-41 99,-62 199,-62 199,-41 99,-41\"/>\n<text text-anchor=\"start\" x=\"126\" y=\"-47.8\" font-family=\"Times,serif\" font-size=\"14.00\">resource</text>\n</g>\n<!-- system_G6&#45;&gt;ChebyshevPolynomial -->\n<g id=\"edge1\" class=\"edge\">\n<title>system_G6:e-&gt;ChebyshevPolynomial:w</title>\n<path fill=\"none\" stroke=\"black\" d=\"M60,-126C81.72,-126 76.92,-95.97 96.98,-94.09\"/>\n<ellipse fill=\"black\" stroke=\"black\" cx=\"98\" cy=\"-94.05\" rx=\"1\" ry=\"1\"/>\n<text text-anchor=\"middle\" x=\"80.5\" y=\"-111\" font-family=\"Times,serif\" font-size=\"10.00\">1</text>\n</g>\n<!-- ancilla_G7 -->\n<g id=\"node2\" class=\"node\">\n<title>ancilla_G7</title>\n<text text-anchor=\"middle\" x=\"31\" y=\"-68.3\" font-family=\"Times,serif\" font-size=\"14.00\">ancilla</text>\n</g>\n<!-- ancilla_G7&#45;&gt;ChebyshevPolynomial -->\n<g id=\"edge2\" class=\"edge\">\n<title>ancilla_G7:e-&gt;ChebyshevPolynomial:w</title>\n<path fill=\"none\" stroke=\"black\" d=\"M59,-72C76.08,-72 80.85,-72 96.98,-72\"/>\n<ellipse fill=\"black\" stroke=\"black\" cx=\"98\" cy=\"-72\" rx=\"1\" ry=\"1\"/>\n<text text-anchor=\"middle\" x=\"80.5\" y=\"-75\" font-family=\"Times,serif\" font-size=\"10.00\">1</text>\n</g>\n<!-- resource_G8 -->\n<g id=\"node3\" class=\"node\">\n<title>resource_G8</title>\n<text text-anchor=\"middle\" x=\"31\" y=\"-14.3\" font-family=\"Times,serif\" font-size=\"14.00\">resource</text>\n</g>\n<!-- resource_G8&#45;&gt;ChebyshevPolynomial -->\n<g id=\"edge3\" class=\"edge\">\n<title>resource_G8:e-&gt;ChebyshevPolynomial:w</title>\n<path fill=\"none\" stroke=\"black\" d=\"M62,-18C83.17,-18 77.47,-48.47 96.55,-50.85\"/>\n<ellipse fill=\"black\" stroke=\"black\" cx=\"98\" cy=\"-50.94\" rx=\"1\" ry=\"1\"/>\n<text text-anchor=\"middle\" x=\"80.5\" y=\"-39\" font-family=\"Times,serif\" font-size=\"10.00\">4</text>\n</g>\n<!-- system_G1 -->\n<g id=\"node5\" class=\"node\">\n<title>system_G1</title>\n<text text-anchor=\"middle\" x=\"267\" y=\"-122.3\" font-family=\"Times,serif\" font-size=\"14.00\">system</text>\n</g>\n<!-- ChebyshevPolynomial&#45;&gt;system_G1 -->\n<g id=\"edge4\" class=\"edge\">\n<title>ChebyshevPolynomial:e-&gt;system_G1:w</title>\n<path fill=\"none\" stroke=\"black\" d=\"M199,-94C220.72,-94 215.92,-124.03 235.98,-125.91\"/>\n<ellipse fill=\"black\" stroke=\"black\" cx=\"237\" cy=\"-125.95\" rx=\"1\" ry=\"1\"/>\n<text text-anchor=\"middle\" x=\"217.5\" y=\"-111\" font-family=\"Times,serif\" font-size=\"10.00\">1</text>\n</g>\n<!-- ancilla_G3 -->\n<g id=\"node6\" class=\"node\">\n<title>ancilla_G3</title>\n<text text-anchor=\"middle\" x=\"267\" y=\"-68.3\" font-family=\"Times,serif\" font-size=\"14.00\">ancilla</text>\n</g>\n<!-- ChebyshevPolynomial&#45;&gt;ancilla_G3 -->\n<g id=\"edge5\" class=\"edge\">\n<title>ChebyshevPolynomial:e-&gt;ancilla_G3:w</title>\n<path fill=\"none\" stroke=\"black\" d=\"M199,-72C216.08,-72 220.85,-72 236.98,-72\"/>\n<ellipse fill=\"black\" stroke=\"black\" cx=\"238\" cy=\"-72\" rx=\"1\" ry=\"1\"/>\n<text text-anchor=\"middle\" x=\"217.5\" y=\"-75\" font-family=\"Times,serif\" font-size=\"10.00\">1</text>\n</g>\n<!-- resource_G4 -->\n<g id=\"node7\" class=\"node\">\n<title>resource_G4</title>\n<text text-anchor=\"middle\" x=\"267\" y=\"-14.3\" font-family=\"Times,serif\" font-size=\"14.00\">resource</text>\n</g>\n<!-- ChebyshevPolynomial&#45;&gt;resource_G4 -->\n<g id=\"edge6\" class=\"edge\">\n<title>ChebyshevPolynomial:e-&gt;resource_G4:w</title>\n<path fill=\"none\" stroke=\"black\" d=\"M199,-51C220.17,-51 214.47,-20.53 233.55,-18.15\"/>\n<ellipse fill=\"black\" stroke=\"black\" cx=\"235\" cy=\"-18.06\" rx=\"1\" ry=\"1\"/>\n<text text-anchor=\"middle\" x=\"217.5\" y=\"-39\" font-family=\"Times,serif\" font-size=\"10.00\">4</text>\n</g>\n</g>\n</svg>",
          "text/plain": "<IPython.core.display.SVG object>"
         },
         "metadata": {},
         "output_type": "display_data"
        }
       ],
       "tabbable": null,
       "tooltip": null
      }
     },
     "ab90dd4646454ed69bc998e676d2f031": {
      "model_module": "@jupyter-widgets/output",
      "model_module_version": "1.0.0",
      "model_name": "OutputModel",
      "state": {
       "_dom_classes": [],
       "_model_module": "@jupyter-widgets/output",
       "_model_module_version": "1.0.0",
       "_model_name": "OutputModel",
       "_view_count": null,
       "_view_module": "@jupyter-widgets/output",
       "_view_module_version": "1.0.0",
       "_view_name": "OutputView",
       "layout": "IPY_MODEL_cfe697066f3944d99a61fcb5bf77226b",
       "msg_id": "",
       "outputs": [
        {
         "data": {
          "text/markdown": "`scaled_chebyshev_poly_even`",
          "text/plain": "<IPython.core.display.Markdown object>"
         },
         "metadata": {},
         "output_type": "display_data"
        },
        {
         "data": {
          "image/svg+xml": "<svg xmlns=\"http://www.w3.org/2000/svg\" xmlns:xlink=\"http://www.w3.org/1999/xlink\" width=\"333pt\" height=\"152pt\" viewBox=\"0.00 0.00 333.00 152.00\">\n<g id=\"graph0\" class=\"graph\" transform=\"scale(1 1) rotate(0) translate(4 148)\">\n<title>my_graph</title>\n<polygon fill=\"white\" stroke=\"transparent\" points=\"-4,4 -4,-148 329,-148 329,4 -4,4\"/>\n<!-- system_G4 -->\n<g id=\"node1\" class=\"node\">\n<title>system_G4</title>\n<text text-anchor=\"middle\" x=\"31\" y=\"-122.3\" font-family=\"Times,serif\" font-size=\"14.00\">system</text>\n</g>\n<!-- ScaledChebyshevPolynomial -->\n<g id=\"node4\" class=\"node\">\n<title>ScaledChebyshevPolynomial</title>\n<polygon fill=\"none\" stroke=\"black\" points=\"99.5,-104 99.5,-121 226.5,-121 226.5,-104 99.5,-104\"/>\n<text text-anchor=\"start\" x=\"102.5\" y=\"-110\" font-family=\"Times,serif\" font-size=\"10.00\">ScaledChebyshevPolynomial</text>\n<polygon fill=\"none\" stroke=\"black\" points=\"99.5,-83 99.5,-104 226.5,-104 226.5,-83 99.5,-83\"/>\n<text text-anchor=\"start\" x=\"143.5\" y=\"-89.8\" font-family=\"Times,serif\" font-size=\"14.00\">system</text>\n<polygon fill=\"none\" stroke=\"black\" points=\"99.5,-62 99.5,-83 226.5,-83 226.5,-62 99.5,-62\"/>\n<text text-anchor=\"start\" x=\"144.5\" y=\"-68.8\" font-family=\"Times,serif\" font-size=\"14.00\">ancilla</text>\n<polygon fill=\"none\" stroke=\"black\" points=\"99.5,-41 99.5,-62 226.5,-62 226.5,-41 99.5,-41\"/>\n<text text-anchor=\"start\" x=\"140\" y=\"-47.8\" font-family=\"Times,serif\" font-size=\"14.00\">resource</text>\n</g>\n<!-- system_G4&#45;&gt;ScaledChebyshevPolynomial -->\n<g id=\"edge1\" class=\"edge\">\n<title>system_G4:e-&gt;ScaledChebyshevPolynomial:w</title>\n<path fill=\"none\" stroke=\"black\" d=\"M60,-126C81.72,-126 76.92,-95.97 96.98,-94.09\"/>\n<ellipse fill=\"black\" stroke=\"black\" cx=\"98\" cy=\"-94.05\" rx=\"1\" ry=\"1\"/>\n<text text-anchor=\"middle\" x=\"80.5\" y=\"-111\" font-family=\"Times,serif\" font-size=\"10.00\">1</text>\n</g>\n<!-- ancilla_G6 -->\n<g id=\"node2\" class=\"node\">\n<title>ancilla_G6</title>\n<text text-anchor=\"middle\" x=\"31\" y=\"-68.3\" font-family=\"Times,serif\" font-size=\"14.00\">ancilla</text>\n</g>\n<!-- ancilla_G6&#45;&gt;ScaledChebyshevPolynomial -->\n<g id=\"edge2\" class=\"edge\">\n<title>ancilla_G6:e-&gt;ScaledChebyshevPolynomial:w</title>\n<path fill=\"none\" stroke=\"black\" d=\"M59,-72C76.08,-72 80.85,-72 96.98,-72\"/>\n<ellipse fill=\"black\" stroke=\"black\" cx=\"98\" cy=\"-72\" rx=\"1\" ry=\"1\"/>\n<text text-anchor=\"middle\" x=\"80.5\" y=\"-75\" font-family=\"Times,serif\" font-size=\"10.00\">4</text>\n</g>\n<!-- resource_G7 -->\n<g id=\"node3\" class=\"node\">\n<title>resource_G7</title>\n<text text-anchor=\"middle\" x=\"31\" y=\"-14.3\" font-family=\"Times,serif\" font-size=\"14.00\">resource</text>\n</g>\n<!-- resource_G7&#45;&gt;ScaledChebyshevPolynomial -->\n<g id=\"edge3\" class=\"edge\">\n<title>resource_G7:e-&gt;ScaledChebyshevPolynomial:w</title>\n<path fill=\"none\" stroke=\"black\" d=\"M62,-18C83.17,-18 77.47,-48.47 96.55,-50.85\"/>\n<ellipse fill=\"black\" stroke=\"black\" cx=\"98\" cy=\"-50.94\" rx=\"1\" ry=\"1\"/>\n<text text-anchor=\"middle\" x=\"80.5\" y=\"-39\" font-family=\"Times,serif\" font-size=\"10.00\">18</text>\n</g>\n<!-- system_G1 -->\n<g id=\"node5\" class=\"node\">\n<title>system_G1</title>\n<text text-anchor=\"middle\" x=\"294\" y=\"-122.3\" font-family=\"Times,serif\" font-size=\"14.00\">system</text>\n</g>\n<!-- ScaledChebyshevPolynomial&#45;&gt;system_G1 -->\n<g id=\"edge4\" class=\"edge\">\n<title>ScaledChebyshevPolynomial:e-&gt;system_G1:w</title>\n<path fill=\"none\" stroke=\"black\" d=\"M226,-94C247.72,-94 242.92,-124.03 262.98,-125.91\"/>\n<ellipse fill=\"black\" stroke=\"black\" cx=\"264\" cy=\"-125.95\" rx=\"1\" ry=\"1\"/>\n<text text-anchor=\"middle\" x=\"244.5\" y=\"-111\" font-family=\"Times,serif\" font-size=\"10.00\">1</text>\n</g>\n<!-- ancilla_G2 -->\n<g id=\"node6\" class=\"node\">\n<title>ancilla_G2</title>\n<text text-anchor=\"middle\" x=\"294\" y=\"-68.3\" font-family=\"Times,serif\" font-size=\"14.00\">ancilla</text>\n</g>\n<!-- ScaledChebyshevPolynomial&#45;&gt;ancilla_G2 -->\n<g id=\"edge5\" class=\"edge\">\n<title>ScaledChebyshevPolynomial:e-&gt;ancilla_G2:w</title>\n<path fill=\"none\" stroke=\"black\" d=\"M226,-72C243.08,-72 247.85,-72 263.98,-72\"/>\n<ellipse fill=\"black\" stroke=\"black\" cx=\"265\" cy=\"-72\" rx=\"1\" ry=\"1\"/>\n<text text-anchor=\"middle\" x=\"244.5\" y=\"-75\" font-family=\"Times,serif\" font-size=\"10.00\">4</text>\n</g>\n<!-- resource_G3 -->\n<g id=\"node7\" class=\"node\">\n<title>resource_G3</title>\n<text text-anchor=\"middle\" x=\"294\" y=\"-14.3\" font-family=\"Times,serif\" font-size=\"14.00\">resource</text>\n</g>\n<!-- ScaledChebyshevPolynomial&#45;&gt;resource_G3 -->\n<g id=\"edge6\" class=\"edge\">\n<title>ScaledChebyshevPolynomial:e-&gt;resource_G3:w</title>\n<path fill=\"none\" stroke=\"black\" d=\"M226,-51C247.17,-51 241.47,-20.53 260.55,-18.15\"/>\n<ellipse fill=\"black\" stroke=\"black\" cx=\"262\" cy=\"-18.06\" rx=\"1\" ry=\"1\"/>\n<text text-anchor=\"middle\" x=\"244.5\" y=\"-39\" font-family=\"Times,serif\" font-size=\"10.00\">18</text>\n</g>\n</g>\n</svg>",
          "text/plain": "<IPython.core.display.SVG object>"
         },
         "metadata": {},
         "output_type": "display_data"
        }
       ],
       "tabbable": null,
       "tooltip": null
      }
     },
     "cfe697066f3944d99a61fcb5bf77226b": {
      "model_module": "@jupyter-widgets/base",
      "model_module_version": "2.0.0",
      "model_name": "LayoutModel",
      "state": {
       "_model_module": "@jupyter-widgets/base",
       "_model_module_version": "2.0.0",
       "_model_name": "LayoutModel",
       "_view_count": null,
       "_view_module": "@jupyter-widgets/base",
       "_view_module_version": "2.0.0",
       "_view_name": "LayoutView",
       "align_content": null,
       "align_items": null,
       "align_self": null,
       "border_bottom": null,
       "border_left": null,
       "border_right": null,
       "border_top": null,
       "bottom": null,
       "display": null,
       "flex": null,
       "flex_flow": null,
       "grid_area": null,
       "grid_auto_columns": null,
       "grid_auto_flow": null,
       "grid_auto_rows": null,
       "grid_column": null,
       "grid_gap": null,
       "grid_row": null,
       "grid_template_areas": null,
       "grid_template_columns": null,
       "grid_template_rows": null,
       "height": null,
       "justify_content": null,
       "justify_items": null,
       "left": null,
       "margin": null,
       "max_height": null,
       "max_width": null,
       "min_height": null,
       "min_width": null,
       "object_fit": null,
       "object_position": null,
       "order": null,
       "overflow": null,
       "padding": null,
       "right": null,
       "top": null,
       "visibility": null,
       "width": null
      }
     },
     "f08f83a5a4aa4e358bd5721dc3ff2424": {
      "model_module": "@jupyter-widgets/base",
      "model_module_version": "2.0.0",
      "model_name": "LayoutModel",
      "state": {
       "_model_module": "@jupyter-widgets/base",
       "_model_module_version": "2.0.0",
       "_model_name": "LayoutModel",
       "_view_count": null,
       "_view_module": "@jupyter-widgets/base",
       "_view_module_version": "2.0.0",
       "_view_name": "LayoutView",
       "align_content": null,
       "align_items": null,
       "align_self": null,
       "border_bottom": null,
       "border_left": null,
       "border_right": null,
       "border_top": null,
       "bottom": null,
       "display": null,
       "flex": null,
       "flex_flow": null,
       "grid_area": null,
       "grid_auto_columns": null,
       "grid_auto_flow": null,
       "grid_auto_rows": null,
       "grid_column": null,
       "grid_gap": null,
       "grid_row": null,
       "grid_template_areas": null,
       "grid_template_columns": null,
       "grid_template_rows": null,
       "height": null,
       "justify_content": null,
       "justify_items": null,
       "left": null,
       "margin": null,
       "max_height": null,
       "max_width": null,
       "min_height": null,
       "min_width": null,
       "object_fit": null,
       "object_position": null,
       "order": null,
       "overflow": null,
       "padding": null,
       "right": null,
       "top": null,
       "visibility": null,
       "width": null
      }
     }
    },
    "version_major": 2,
    "version_minor": 0
   }
  }
 },
 "nbformat": 4,
 "nbformat_minor": 5
}
