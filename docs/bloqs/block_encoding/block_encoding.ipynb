{
 "cells": [
  {
   "cell_type": "markdown",
   "id": "69be7b80",
   "metadata": {
    "cq.autogen": "title_cell"
   },
   "source": [
    "# Block Encoding\n",
    "\n",
    "High level bloqs for defining bloq encodings and operations on block encodings."
   ]
  },
  {
   "cell_type": "code",
   "execution_count": 1,
   "id": "8de1e975",
   "metadata": {
    "cq.autogen": "top_imports"
   },
   "outputs": [],
   "source": [
    "from qualtran import Bloq, CompositeBloq, BloqBuilder, Signature, Register\n",
    "from qualtran import QBit, QInt, QUInt, QAny\n",
    "from qualtran.drawing import show_bloq, show_call_graph, show_counts_sigma\n",
    "from typing import *\n",
    "import numpy as np\n",
    "import sympy\n",
    "import cirq"
   ]
  },
  {
   "cell_type": "markdown",
   "id": "211973b5",
   "metadata": {
    "cq.autogen": "BlockEncoding.bloq_doc.md"
   },
   "source": [
    "## `BlockEncoding`\n",
    "Abstract interface for an arbitrary block encoding.\n",
    "\n",
    "In general, given an $s$-qubit operator $H$ then the $(s+a)$-qubit unitary $B[H] = U$ is\n",
    "a $(\\alpha, a, \\epsilon)$-block encoding of $H$ if it satisfies:\n",
    "\n",
    "$$\n",
    "    \\lVert H - \\alpha (\\langle G|_a\\otimes I_s U |G\\rangle_a \\otimes I_s) \\rVert\n",
    "    \\le \\epsilon,\n",
    "$$\n",
    "\n",
    "where $a$ is an ancilla register and $s$ is the system register, $U$ is a unitary sometimes\n",
    "called a signal oracle, $\\alpha$ is a normalization constant chosen such\n",
    "that  $\\alpha \\ge \\lVert H\\rVert$ (where $\\lVert \\cdot \\rVert$ denotes the\n",
    "spectral norm), and $\\epsilon$ is the precision to which the block encoding\n",
    "is prepared. The state $|G\\rangle_a$ is sometimes called the signal state,\n",
    "and its form depends on the details of the block encoding.\n",
    "\n",
    "For LCU based block encodings with $H = \\sum_l w_l U_l$\n",
    "we have\n",
    "$$\n",
    "U = \\sum_l |l\\rangle\\langle l| \\otimes U_l\n",
    "$$\n",
    "and $|G\\rangle = \\sum_l \\sqrt{\\frac{w_l}{\\alpha}}|l\\rangle_a$, which define the\n",
    "usual SELECT and PREPARE oracles.\n",
    "\n",
    "Other ways of building block encodings exist so we define the abstract base\n",
    "class `BlockEncoding` bloq, which expects values for $\\alpha$, $\\epsilon$,\n",
    "system and ancilla registers and a bloq which prepares the state $|G\\rangle$.\n",
    "\n",
    "Users must specify:\n",
    "1. the normalization constant $\\alpha \\ge \\lVert A \\rVert$, where\n",
    "    $\\lVert \\cdot \\rVert$ denotes the spectral norm.\n",
    "2. the precision to which the block encoding is to be prepared ($\\epsilon$).\n",
    "\n",
    "Developers must provide a method to return a bloq to prepare $|G\\rangle$.\n",
    "\n",
    "#### References\n",
    " - [Hamiltonian Simulation by Qubitization](https://quantum-journal.org/papers/q-2019-07-12-163/).     Low et al. 2019. Sec 2 and 3 for introduction and definition of terms.\n",
    " - [The power of block-encoded matrix powers: improved regression techniques via faster Hamiltonian simulation](https://arxiv.org/abs/1804.01973).     Chakraborty et al. 2018. Definition 3 page 8.\n"
   ]
  },
  {
   "cell_type": "code",
   "execution_count": 2,
   "id": "7136389f",
   "metadata": {
    "cq.autogen": "BlockEncoding.bloq_doc.py"
   },
   "outputs": [],
   "source": [
    "from qualtran.bloqs.block_encoding import BlockEncoding"
   ]
  },
  {
   "cell_type": "markdown",
   "id": "a3e033df",
   "metadata": {
    "cq.autogen": "LCUBlockEncoding.bloq_doc.md"
   },
   "source": [
    "## `LCUBlockEncoding`\n",
    "LCU based block encoding using SELECT and PREPARE oracles.\n",
    "\n",
    "Builds the block encoding via\n",
    "$$\n",
    "    B[H] = \\mathrm{SELECT}\n",
    "$$\n",
    "\n",
    "$$\n",
    "    \\mathrm{SELECT} |l\\rangle_a|\\psi\\rangle_s = |l\\rangle_a U_l |\\psi\\rangle_s.\n",
    "$$\n",
    "\n",
    "The Hamiltonian can be extracted via\n",
    "\n",
    "$$\n",
    "    \\langle G | B[H] | G \\rangle = H / \\alpha\n",
    "$$\n",
    "\n",
    "where\n",
    "\n",
    "$$\n",
    "    |G\\rangle = \\mathrm{PREPARE} |0\\rangle_a = \\sum_l \\sqrt{\\frac{w_l}{\\alpha}} |l\\rangle_a,\n",
    "$$\n",
    "\n",
    "The ancilla register is at least of size $\\log L$.\n",
    "\n",
    "In our implementations we typically split the ancilla registers into\n",
    "selection registers (i.e.  the $l$ registers above) and junk registers which\n",
    "are extra qubits needed by state preparation but not controlled upon during\n",
    "SELECT.\n",
    "\n",
    "#### Parameters\n",
    " - `alpha`: The normalization constant upper bounding the spectral norm of the Hamiltonian. Often called lambda.\n",
    " - `epsilon`: The precision to which the block encoding is performed. Currently this isn't used: see https://github.com/quantumlib/Qualtran/issues/985\n",
    " - `select`: The bloq implementing the `SelectOracle` interface.\n",
    " - `prepare`: The bloq implementing the `PrepareOracle` interface. \n",
    "\n",
    "#### Registers\n",
    " - `selection`: The combined selection register.\n",
    " - `junk`: Additional junk registers not prepared upon.\n",
    " - `system`: The combined system register. \n",
    "\n",
    "#### References\n",
    " - [Hamiltonian Simulation by Qubitization](https://quantum-journal.org/papers/q-2019-07-12-163/).     Low et al. 2019. Sec 3.1, page 7 and 8 for high level overview and definitions. A     block encoding is called a standard form encoding there.\n",
    " - [The power of block-encoded matrix powers: improved regression techniques via faster Hamiltonian simulation](https://arxiv.org/abs/1804.01973).     Chakraborty et al. 2018. Definition 3 page 8.\n"
   ]
  },
  {
   "cell_type": "code",
   "execution_count": 3,
   "id": "11412b7b",
   "metadata": {
    "cq.autogen": "LCUBlockEncoding.bloq_doc.py"
   },
   "outputs": [],
   "source": [
    "from qualtran.bloqs.block_encoding import LCUBlockEncoding"
   ]
  },
  {
   "cell_type": "markdown",
   "id": "3a09fa48",
   "metadata": {
    "cq.autogen": "LCUBlockEncoding.example_instances.md"
   },
   "source": [
    "### Example Instances"
   ]
  },
  {
   "cell_type": "code",
   "execution_count": 4,
   "id": "482839c7",
   "metadata": {
    "cq.autogen": "LCUBlockEncoding.lcu_block"
   },
   "outputs": [],
   "source": [
    "from qualtran.bloqs.chemistry.hubbard_model.qubitization import PrepareHubbard, SelectHubbard\n",
    "\n",
    "# 3x3 hubbard model U/t = 4\n",
    "dim = 3\n",
    "select = SelectHubbard(x_dim=dim, y_dim=dim)\n",
    "U = 4\n",
    "t = 1\n",
    "prepare = PrepareHubbard(x_dim=dim, y_dim=dim, t=t, u=U)\n",
    "N = dim * dim * 2\n",
    "qlambda = 2 * N * t + (N * U) // 2\n",
    "lcu_block = LCUBlockEncoding(select=select, prepare=prepare, alpha=qlambda, epsilon=0.0)"
   ]
  },
  {
   "cell_type": "code",
   "execution_count": 5,
   "id": "fac89410",
   "metadata": {
    "cq.autogen": "LCUBlockEncoding.black_box_lcu_block"
   },
   "outputs": [],
   "source": [
    "from qualtran.bloqs.block_encoding import BlackBoxPrepare, BlackBoxSelect\n",
    "from qualtran.bloqs.chemistry.hubbard_model.qubitization import PrepareHubbard, SelectHubbard\n",
    "\n",
    "# 3x3 hubbard model U/t = 4\n",
    "dim = 3\n",
    "select = SelectHubbard(x_dim=dim, y_dim=dim)\n",
    "U = 4\n",
    "t = 1\n",
    "prepare = PrepareHubbard(x_dim=dim, y_dim=dim, t=t, u=U)\n",
    "N = dim * dim * 2\n",
    "qlambda = 2 * N * t + (N * U) // 2\n",
    "black_box_lcu_block = LCUBlockEncoding(\n",
    "    select=BlackBoxSelect(select), prepare=BlackBoxPrepare(prepare), alpha=qlambda, epsilon=0.0\n",
    ")"
   ]
  },
  {
   "cell_type": "markdown",
   "id": "60ad2a30",
   "metadata": {
    "cq.autogen": "LCUBlockEncoding.graphical_signature.md"
   },
   "source": [
    "#### Graphical Signature"
   ]
  },
  {
   "cell_type": "code",
   "execution_count": 6,
   "id": "5aad465d",
   "metadata": {
    "cq.autogen": "LCUBlockEncoding.graphical_signature.py"
   },
   "outputs": [
    {
     "data": {
      "application/vnd.jupyter.widget-view+json": {
       "model_id": "09dc42b0aa14461b891d15dd6a0d5fe3",
       "version_major": 2,
       "version_minor": 0
      },
      "text/plain": [
       "HBox(children=(Output(outputs=({'output_type': 'display_data', 'data': {'text/plain': '<IPython.core.display.M…"
      ]
     },
     "metadata": {},
     "output_type": "display_data"
    }
   ],
   "source": [
    "from qualtran.drawing import show_bloqs\n",
    "show_bloqs([lcu_block, black_box_lcu_block],\n",
    "           ['`lcu_block`', '`black_box_lcu_block`'])"
   ]
  },
  {
   "cell_type": "markdown",
   "id": "4039e3dd",
   "metadata": {
    "cq.autogen": "LCUBlockEncoding.call_graph.md"
   },
   "source": [
    "### Call Graph"
   ]
  },
  {
   "cell_type": "code",
   "execution_count": 7,
   "id": "70e0c7f9",
   "metadata": {
    "cq.autogen": "LCUBlockEncoding.call_graph.py"
   },
   "outputs": [
    {
     "data": {
      "image/svg+xml": [
       "<svg xmlns=\"http://www.w3.org/2000/svg\" xmlns:xlink=\"http://www.w3.org/1999/xlink\" width=\"409pt\" height=\"131pt\" viewBox=\"0.00 0.00 409.00 131.00\">\n",
       "<g id=\"graph0\" class=\"graph\" transform=\"scale(1 1) rotate(0) translate(4 127)\">\n",
       "<title>counts</title>\n",
       "<polygon fill=\"white\" stroke=\"transparent\" points=\"-4,4 -4,-127 405,-127 405,4 -4,4\"/>\n",
       "<!-- b0 -->\n",
       "<g id=\"node1\" class=\"node\">\n",
       "<title>b0</title>\n",
       "<polygon fill=\"none\" stroke=\"black\" points=\"401,-123 0,-123 0,-87 401,-87 401,-123\"/>\n",
       "<text text-anchor=\"start\" x=\"186.5\" y=\"-106.8\" font-family=\"Times,serif\" font-size=\"14.00\">B[H]</text>\n",
       "<text text-anchor=\"start\" x=\"8\" y=\"-96\" font-family=\"monospace\" font-size=\"10.00\">alpha=72, epsilon=0.0, select=SelectHu ..., prepare=PrepareH ...</text>\n",
       "</g>\n",
       "<!-- b1 -->\n",
       "<g id=\"node2\" class=\"node\">\n",
       "<title>b1</title>\n",
       "<polygon fill=\"none\" stroke=\"black\" points=\"311,-36 90,-36 90,0 311,0 311,-36\"/>\n",
       "<text text-anchor=\"start\" x=\"160\" y=\"-19.8\" font-family=\"Times,serif\" font-size=\"14.00\">SelectHubbard</text>\n",
       "<text text-anchor=\"start\" x=\"98\" y=\"-9\" font-family=\"monospace\" font-size=\"10.00\">x_dim=3, y_dim=3, control_val=None</text>\n",
       "</g>\n",
       "<!-- b0&#45;&gt;b1 -->\n",
       "<g id=\"edge1\" class=\"edge\">\n",
       "<title>b0-&gt;b1</title>\n",
       "<path fill=\"none\" stroke=\"black\" d=\"M200.5,-86.8C200.5,-75.16 200.5,-59.55 200.5,-46.24\"/>\n",
       "<polygon fill=\"black\" stroke=\"black\" points=\"204,-46.18 200.5,-36.18 197,-46.18 204,-46.18\"/>\n",
       "<text text-anchor=\"middle\" x=\"204\" y=\"-57.8\" font-family=\"Times,serif\" font-size=\"14.00\">1</text>\n",
       "</g>\n",
       "</g>\n",
       "</svg>"
      ],
      "text/plain": [
       "<IPython.core.display.SVG object>"
      ]
     },
     "metadata": {},
     "output_type": "display_data"
    },
    {
     "data": {
      "text/markdown": [
       "#### Counts totals:\n",
       " - `SelectHubbard(3, 3)`: 1"
      ],
      "text/plain": [
       "<IPython.core.display.Markdown object>"
      ]
     },
     "metadata": {},
     "output_type": "display_data"
    }
   ],
   "source": [
    "from qualtran.resource_counting.generalizers import ignore_split_join\n",
    "lcu_block_g, lcu_block_sigma = lcu_block.call_graph(max_depth=1, generalizer=ignore_split_join)\n",
    "show_call_graph(lcu_block_g)\n",
    "show_counts_sigma(lcu_block_sigma)"
   ]
  },
  {
   "cell_type": "markdown",
   "id": "91604dbe",
   "metadata": {
    "cq.autogen": "LCUBlockEncodingZeroState.bloq_doc.md"
   },
   "source": [
    "## `LCUBlockEncodingZeroState`\n",
    "LCU based block encoding using SELECT and PREPARE oracles.\n",
    "\n",
    "Builds the standard block encoding from an LCU as\n",
    "$$\n",
    "    B[H] = \\mathrm{PREPARE}^\\dagger \\cdot \\mathrm{SELECT} \\cdot \\mathrm{PREPARE},\n",
    "$$\n",
    "where\n",
    "$$\n",
    "    \\mathrm{PREPARE} |0\\rangle_a = \\sum_l \\sqrt{\\frac{w_l}{\\alpha}} |l\\rangle_a,\n",
    "$$\n",
    "and\n",
    "$$\n",
    "    \\mathrm{SELECT} |l\\rangle_a|\\psi\\rangle_s = |l\\rangle_a U_l |\\psi\\rangle_s.\n",
    "$$\n",
    "\n",
    "The Hamiltonian can be extracted via\n",
    "\n",
    "$$\n",
    "    \\langle G | B[H] | G \\rangle = H / \\alpha,\n",
    "$$\n",
    "where $|G\\rangle_a = I_a |0\\rangle_a$\n",
    "\n",
    "The ancilla register is at least of size $\\log L$.\n",
    "\n",
    "In our implementations we typically split the ancilla registers into\n",
    "selection registers (i.e.  the $l$ registers above) and junk registers which\n",
    "are extra qubits needed by state preparation but not controlled upon during\n",
    "SELECT.\n",
    "\n",
    "#### Parameters\n",
    " - `alpha`: The normalization constant upper bounding the spectral norm of the Hamiltonian. Often called lambda.\n",
    " - `epsilon`: The precision to which the block encoding is performed. Currently this isn't used: see https://github.com/quantumlib/Qualtran/issues/985\n",
    " - `select`: The bloq implementing the `SelectOracle` interface.\n",
    " - `prepare`: The bloq implementing the `PrepareOracle` interface. \n",
    "\n",
    "#### Registers\n",
    " - `selection`: The combined selection register.\n",
    " - `junk`: Additional junk registers not prepared upon.\n",
    " - `system`: The combined system register. \n",
    "\n",
    "#### References\n",
    " - [Hamiltonian Simulation by Qubitization](https://quantum-journal.org/papers/q-2019-07-12-163/).     Low et al. 2019. Sec 3.1, page 7 and 8 for high level overview and definitions. A     block encoding is called a standard form encoding there.\n",
    " - [The power of block-encoded matrix powers: improved regression techniques via faster Hamiltonian simulation](https://arxiv.org/abs/1804.01973).     Chakraborty et al. 2018. Definition 3 page 8.\n"
   ]
  },
  {
   "cell_type": "code",
   "execution_count": 8,
   "id": "043e5b1f",
   "metadata": {
    "cq.autogen": "LCUBlockEncodingZeroState.bloq_doc.py"
   },
   "outputs": [],
   "source": [
    "from qualtran.bloqs.block_encoding import LCUBlockEncodingZeroState"
   ]
  },
  {
   "cell_type": "markdown",
   "id": "a568474d",
   "metadata": {
    "cq.autogen": "LCUBlockEncodingZeroState.example_instances.md"
   },
   "source": [
    "### Example Instances"
   ]
  },
  {
   "cell_type": "code",
   "execution_count": 9,
   "id": "34006938",
   "metadata": {
    "cq.autogen": "LCUBlockEncodingZeroState.lcu_zero_state_block"
   },
   "outputs": [],
   "source": [
    "from qualtran.bloqs.chemistry.hubbard_model.qubitization import PrepareHubbard, SelectHubbard\n",
    "\n",
    "# 3x3 hubbard model U/t = 4\n",
    "dim = 3\n",
    "select = SelectHubbard(x_dim=dim, y_dim=dim)\n",
    "U = 4\n",
    "t = 1\n",
    "prepare = PrepareHubbard(x_dim=dim, y_dim=dim, t=t, u=U)\n",
    "N = dim * dim * 2\n",
    "qlambda = 2 * N * t + (N * U) // 2\n",
    "lcu_zero_state_block = LCUBlockEncodingZeroState(\n",
    "    select=select, prepare=prepare, alpha=qlambda, epsilon=0.0\n",
    ")"
   ]
  },
  {
   "cell_type": "code",
   "execution_count": 10,
   "id": "8724a17c",
   "metadata": {
    "cq.autogen": "LCUBlockEncodingZeroState.black_box_lcu_zero_state_block"
   },
   "outputs": [],
   "source": [
    "from qualtran.bloqs.block_encoding import BlackBoxPrepare, BlackBoxSelect\n",
    "from qualtran.bloqs.chemistry.hubbard_model.qubitization import PrepareHubbard, SelectHubbard\n",
    "\n",
    "# 3x3 hubbard model U/t = 4\n",
    "dim = 3\n",
    "select = SelectHubbard(x_dim=dim, y_dim=dim)\n",
    "U = 4\n",
    "t = 1\n",
    "prepare = PrepareHubbard(x_dim=dim, y_dim=dim, t=t, u=U)\n",
    "N = dim * dim * 2\n",
    "qlambda = 2 * N * t + (N * U) // 2\n",
    "black_box_lcu_zero_state_block = LCUBlockEncodingZeroState(\n",
    "    select=BlackBoxSelect(select), prepare=BlackBoxPrepare(prepare), alpha=qlambda, epsilon=0.0\n",
    ")"
   ]
  },
  {
   "cell_type": "markdown",
   "id": "60d7eee0",
   "metadata": {
    "cq.autogen": "LCUBlockEncodingZeroState.graphical_signature.md"
   },
   "source": [
    "#### Graphical Signature"
   ]
  },
  {
   "cell_type": "code",
   "execution_count": 11,
   "id": "330c111e",
   "metadata": {
    "cq.autogen": "LCUBlockEncodingZeroState.graphical_signature.py"
   },
   "outputs": [
    {
     "data": {
      "application/vnd.jupyter.widget-view+json": {
       "model_id": "05d6434079b040a784445a1cb2f6936f",
       "version_major": 2,
       "version_minor": 0
      },
      "text/plain": [
       "HBox(children=(Output(outputs=({'output_type': 'display_data', 'data': {'text/plain': '<IPython.core.display.M…"
      ]
     },
     "metadata": {},
     "output_type": "display_data"
    }
   ],
   "source": [
    "from qualtran.drawing import show_bloqs\n",
    "show_bloqs([lcu_zero_state_block, black_box_lcu_zero_state_block],\n",
    "           ['`lcu_zero_state_block`', '`black_box_lcu_zero_state_block`'])"
   ]
  },
  {
   "cell_type": "markdown",
   "id": "14fcb4fd",
   "metadata": {
    "cq.autogen": "LCUBlockEncodingZeroState.call_graph.md"
   },
   "source": [
    "### Call Graph"
   ]
  },
  {
   "cell_type": "code",
   "execution_count": 12,
   "id": "9e3c81b0",
   "metadata": {
    "cq.autogen": "LCUBlockEncodingZeroState.call_graph.py"
   },
   "outputs": [
    {
     "name": "stdout",
     "output_type": "stream",
     "text": [
      "xxxx\n"
     ]
    },
    {
     "data": {
      "image/svg+xml": [
       "<svg xmlns=\"http://www.w3.org/2000/svg\" xmlns:xlink=\"http://www.w3.org/1999/xlink\" width=\"575pt\" height=\"131pt\" viewBox=\"0.00 0.00 575.00 131.00\">\n",
       "<g id=\"graph0\" class=\"graph\" transform=\"scale(1 1) rotate(0) translate(4 127)\">\n",
       "<title>counts</title>\n",
       "<polygon fill=\"white\" stroke=\"transparent\" points=\"-4,4 -4,-127 571,-127 571,4 -4,4\"/>\n",
       "<!-- b0 -->\n",
       "<g id=\"node1\" class=\"node\">\n",
       "<title>b0</title>\n",
       "<polygon fill=\"none\" stroke=\"black\" points=\"460,-123 59,-123 59,-87 460,-87 460,-123\"/>\n",
       "<text text-anchor=\"start\" x=\"245.5\" y=\"-106.8\" font-family=\"Times,serif\" font-size=\"14.00\">B[H]</text>\n",
       "<text text-anchor=\"start\" x=\"67\" y=\"-96\" font-family=\"monospace\" font-size=\"10.00\">alpha=72, epsilon=0.0, select=SelectHu ..., prepare=PrepareH ...</text>\n",
       "</g>\n",
       "<!-- b1 -->\n",
       "<g id=\"node2\" class=\"node\">\n",
       "<title>b1</title>\n",
       "<polygon fill=\"none\" stroke=\"black\" points=\"173,-36 0,-36 0,0 173,0 173,-36\"/>\n",
       "<text text-anchor=\"start\" x=\"42\" y=\"-19.8\" font-family=\"Times,serif\" font-size=\"14.00\">PrepareHubbard</text>\n",
       "<text text-anchor=\"start\" x=\"8\" y=\"-9\" font-family=\"monospace\" font-size=\"10.00\">x_dim=3, y_dim=3, t=1, u=4</text>\n",
       "</g>\n",
       "<!-- b0&#45;&gt;b1 -->\n",
       "<g id=\"edge1\" class=\"edge\">\n",
       "<title>b0-&gt;b1</title>\n",
       "<path fill=\"none\" stroke=\"black\" d=\"M224.49,-86.8C197.32,-73.45 159.49,-54.86 130.31,-40.52\"/>\n",
       "<polygon fill=\"black\" stroke=\"black\" points=\"131.68,-37.3 121.16,-36.03 128.59,-43.58 131.68,-37.3\"/>\n",
       "<text text-anchor=\"middle\" x=\"187\" y=\"-57.8\" font-family=\"Times,serif\" font-size=\"14.00\">1</text>\n",
       "</g>\n",
       "<!-- b2 -->\n",
       "<g id=\"node3\" class=\"node\">\n",
       "<title>b2</title>\n",
       "<polygon fill=\"none\" stroke=\"black\" points=\"328,-36 191,-36 191,0 328,0 328,-36\"/>\n",
       "<text text-anchor=\"start\" x=\"211.5\" y=\"-19.8\" font-family=\"Times,serif\" font-size=\"14.00\">PrepareHubbard†</text>\n",
       "<text text-anchor=\"start\" x=\"199\" y=\"-9\" font-family=\"monospace\" font-size=\"10.00\">subbloq=PrepareH ...</text>\n",
       "</g>\n",
       "<!-- b0&#45;&gt;b2 -->\n",
       "<g id=\"edge2\" class=\"edge\">\n",
       "<title>b0-&gt;b2</title>\n",
       "<path fill=\"none\" stroke=\"black\" d=\"M259.5,-86.8C259.5,-75.16 259.5,-59.55 259.5,-46.24\"/>\n",
       "<polygon fill=\"black\" stroke=\"black\" points=\"263,-46.18 259.5,-36.18 256,-46.18 263,-46.18\"/>\n",
       "<text text-anchor=\"middle\" x=\"263\" y=\"-57.8\" font-family=\"Times,serif\" font-size=\"14.00\">1</text>\n",
       "</g>\n",
       "<!-- b3 -->\n",
       "<g id=\"node4\" class=\"node\">\n",
       "<title>b3</title>\n",
       "<polygon fill=\"none\" stroke=\"black\" points=\"567,-36 346,-36 346,0 567,0 567,-36\"/>\n",
       "<text text-anchor=\"start\" x=\"416\" y=\"-19.8\" font-family=\"Times,serif\" font-size=\"14.00\">SelectHubbard</text>\n",
       "<text text-anchor=\"start\" x=\"354\" y=\"-9\" font-family=\"monospace\" font-size=\"10.00\">x_dim=3, y_dim=3, control_val=None</text>\n",
       "</g>\n",
       "<!-- b0&#45;&gt;b3 -->\n",
       "<g id=\"edge3\" class=\"edge\">\n",
       "<title>b0-&gt;b3</title>\n",
       "<path fill=\"none\" stroke=\"black\" d=\"M299.37,-86.8C330.58,-73.33 374.13,-54.54 407.48,-40.15\"/>\n",
       "<polygon fill=\"black\" stroke=\"black\" points=\"409.23,-43.21 417.03,-36.03 406.46,-36.78 409.23,-43.21\"/>\n",
       "<text text-anchor=\"middle\" x=\"374\" y=\"-57.8\" font-family=\"Times,serif\" font-size=\"14.00\">1</text>\n",
       "</g>\n",
       "</g>\n",
       "</svg>"
      ],
      "text/plain": [
       "<IPython.core.display.SVG object>"
      ]
     },
     "metadata": {},
     "output_type": "display_data"
    },
    {
     "data": {
      "text/markdown": [
       "#### Counts totals:\n",
       " - `Adjoint(subbloq=PrepareHubbard)`: 1\n",
       " - `PrepareHubbard`: 1\n",
       " - `SelectHubbard(3, 3)`: 1"
      ],
      "text/plain": [
       "<IPython.core.display.Markdown object>"
      ]
     },
     "metadata": {},
     "output_type": "display_data"
    }
   ],
   "source": [
    "from qualtran.resource_counting.generalizers import ignore_split_join\n",
    "lcu_zero_state_block_g, lcu_zero_state_block_sigma = lcu_zero_state_block.call_graph(max_depth=1, generalizer=ignore_split_join)\n",
    "show_call_graph(lcu_zero_state_block_g)\n",
    "show_counts_sigma(lcu_zero_state_block_sigma)"
   ]
  },
  {
   "cell_type": "markdown",
   "id": "a33919d6",
   "metadata": {
    "cq.autogen": "ChebyshevPolynomial.bloq_doc.md"
   },
   "source": [
    "## `ChebyshevPolynomial`\n",
    "Block encoding of $T_j[H]$ where $T_j$ is the $j$-th Chebyshev polynomial.\n",
    "\n",
    "Here H is a Hamiltonian with spectral norm $|H| \\le 1$, we assume we have\n",
    "an $n_L$ qubit ancilla register, and assume that $j > 0$ to avoid block\n",
    "encoding the identity operator.\n",
    "\n",
    "Recall:\n",
    "\n",
    "\\begin{align*}\n",
    "    T_0[H] &= \\mathbb{1} \\\\\n",
    "    T_1[H] &= H \\\\\n",
    "    T_2[H] &= 2 H^2 - \\mathbb{1} \\\\\n",
    "    T_3[H] &= 4 H^3 - 3 H \\\\\n",
    "    &\\dots\n",
    "\\end{align*}\n",
    "\n",
    "See https://github.com/quantumlib/Qualtran/issues/984 for an alternative.\n",
    "\n",
    "#### Parameters\n",
    " - `block_encoding`: Block encoding of a Hamiltonian $H$, $\\mathcal{B}[H]$. Assumes the $|G\\rangle$ state of the block encoding is the identity operator.\n",
    " - `order`: order of Chebychev polynomial. \n",
    "\n",
    "#### References\n",
    " - [Quantum computing enhanced computational catalysis](https://arxiv.org/abs/2007.14460).     von Burg et al. 2007. Page 45; Theorem 1.\n"
   ]
  },
  {
   "cell_type": "code",
   "execution_count": 13,
   "id": "83c75860",
   "metadata": {
    "cq.autogen": "ChebyshevPolynomial.bloq_doc.py"
   },
   "outputs": [],
   "source": [
    "from qualtran.bloqs.block_encoding import ChebyshevPolynomial"
   ]
  },
  {
   "cell_type": "markdown",
   "id": "738715cd",
   "metadata": {
    "cq.autogen": "ChebyshevPolynomial.example_instances.md"
   },
   "source": [
    "### Example Instances"
   ]
  },
  {
   "cell_type": "code",
   "execution_count": 14,
   "id": "63d2d2ac",
   "metadata": {
    "cq.autogen": "ChebyshevPolynomial.chebyshev_poly"
   },
   "outputs": [],
   "source": [
    "from qualtran.bloqs.block_encoding import LCUBlockEncodingZeroState\n",
    "from qualtran.bloqs.chemistry.hubbard_model.qubitization import PrepareHubbard, SelectHubbard\n",
    "\n",
    "dim = 3\n",
    "select = SelectHubbard(x_dim=dim, y_dim=dim)\n",
    "U = 4\n",
    "t = 1\n",
    "prepare = PrepareHubbard(x_dim=dim, y_dim=dim, t=t, u=U)\n",
    "N = dim * dim * 2\n",
    "qlambda = 2 * N * t + (N * U) // 2\n",
    "block_bloq = LCUBlockEncodingZeroState(\n",
    "    select=select, prepare=prepare, alpha=qlambda, epsilon=0.0\n",
    ")\n",
    "chebyshev_poly = ChebyshevPolynomial(block_bloq, order=3)"
   ]
  },
  {
   "cell_type": "code",
   "execution_count": 15,
   "id": "e8c8161d",
   "metadata": {
    "cq.autogen": "ChebyshevPolynomial.black_box_chebyshev_poly"
   },
   "outputs": [],
   "source": [
    "from qualtran.bloqs.block_encoding import (\n",
    "    BlackBoxPrepare,\n",
    "    BlackBoxSelect,\n",
    "    LCUBlockEncodingZeroState,\n",
    ")\n",
    "from qualtran.bloqs.chemistry.hubbard_model.qubitization import PrepareHubbard, SelectHubbard\n",
    "\n",
    "dim = 3\n",
    "select = SelectHubbard(x_dim=dim, y_dim=dim)\n",
    "U = 4\n",
    "t = 1\n",
    "prepare = PrepareHubbard(x_dim=dim, y_dim=dim, t=t, u=U)\n",
    "N = dim * dim * 2\n",
    "qlambda = 2 * N * t + (N * U) // 2\n",
    "black_box_block_bloq = LCUBlockEncodingZeroState(\n",
    "    select=BlackBoxSelect(select), prepare=BlackBoxPrepare(prepare), alpha=qlambda, epsilon=0.0\n",
    ")\n",
    "black_box_chebyshev_poly = ChebyshevPolynomial(black_box_block_bloq, order=3)"
   ]
  },
  {
   "cell_type": "markdown",
   "id": "ad6e097e",
   "metadata": {
    "cq.autogen": "ChebyshevPolynomial.graphical_signature.md"
   },
   "source": [
    "#### Graphical Signature"
   ]
  },
  {
   "cell_type": "code",
   "execution_count": 16,
   "id": "1d24eb7b",
   "metadata": {
    "cq.autogen": "ChebyshevPolynomial.graphical_signature.py"
   },
   "outputs": [
    {
     "data": {
      "application/vnd.jupyter.widget-view+json": {
       "model_id": "e30dd5b6a29d494993680cf63eecbe54",
       "version_major": 2,
       "version_minor": 0
      },
      "text/plain": [
       "HBox(children=(Output(outputs=({'output_type': 'display_data', 'data': {'text/plain': '<IPython.core.display.M…"
      ]
     },
     "metadata": {},
     "output_type": "display_data"
    }
   ],
   "source": [
    "from qualtran.drawing import show_bloqs\n",
    "show_bloqs([chebyshev_poly, black_box_chebyshev_poly],\n",
    "           ['`chebyshev_poly`', '`black_box_chebyshev_poly`'])"
   ]
  },
  {
   "cell_type": "markdown",
   "id": "e3bad495",
   "metadata": {
    "cq.autogen": "ChebyshevPolynomial.call_graph.md"
   },
   "source": [
    "### Call Graph"
   ]
  },
  {
   "cell_type": "code",
   "execution_count": 17,
   "id": "f5018c11",
   "metadata": {
    "cq.autogen": "ChebyshevPolynomial.call_graph.py"
   },
   "outputs": [
    {
     "data": {
      "image/svg+xml": [
       "<svg xmlns=\"http://www.w3.org/2000/svg\" xmlns:xlink=\"http://www.w3.org/1999/xlink\" width=\"870pt\" height=\"131pt\" viewBox=\"0.00 0.00 870.00 131.00\">\n",
       "<g id=\"graph0\" class=\"graph\" transform=\"scale(1 1) rotate(0) translate(4 127)\">\n",
       "<title>counts</title>\n",
       "<polygon fill=\"white\" stroke=\"transparent\" points=\"-4,4 -4,-127 866,-127 866,4 -4,4\"/>\n",
       "<!-- b0 -->\n",
       "<g id=\"node1\" class=\"node\">\n",
       "<title>b0</title>\n",
       "<polygon fill=\"none\" stroke=\"black\" points=\"537,-123 304,-123 304,-87 537,-87 537,-123\"/>\n",
       "<text text-anchor=\"start\" x=\"391\" y=\"-106.8\" font-family=\"Times,serif\" font-size=\"14.00\">T_3[B[H]]</text>\n",
       "<text text-anchor=\"start\" x=\"312\" y=\"-96\" font-family=\"monospace\" font-size=\"10.00\">block_encoding=LCUBlock ..., order=3</text>\n",
       "</g>\n",
       "<!-- b1 -->\n",
       "<g id=\"node2\" class=\"node\">\n",
       "<title>b1</title>\n",
       "<polygon fill=\"none\" stroke=\"black\" points=\"401,-36 0,-36 0,0 401,0 401,-36\"/>\n",
       "<text text-anchor=\"start\" x=\"186.5\" y=\"-19.8\" font-family=\"Times,serif\" font-size=\"14.00\">B[H]</text>\n",
       "<text text-anchor=\"start\" x=\"8\" y=\"-9\" font-family=\"monospace\" font-size=\"10.00\">alpha=72, epsilon=0.0, select=SelectHu ..., prepare=PrepareH ...</text>\n",
       "</g>\n",
       "<!-- b0&#45;&gt;b1 -->\n",
       "<g id=\"edge1\" class=\"edge\">\n",
       "<title>b0-&gt;b1</title>\n",
       "<path fill=\"none\" stroke=\"black\" d=\"M376.24,-86.9C341.11,-73.33 291.85,-54.29 254.42,-39.83\"/>\n",
       "<polygon fill=\"black\" stroke=\"black\" points=\"255.27,-36.41 244.68,-36.07 252.75,-42.94 255.27,-36.41\"/>\n",
       "<text text-anchor=\"middle\" x=\"328\" y=\"-57.8\" font-family=\"Times,serif\" font-size=\"14.00\">3</text>\n",
       "</g>\n",
       "<!-- b2 -->\n",
       "<g id=\"node3\" class=\"node\">\n",
       "<title>b2</title>\n",
       "<polygon fill=\"none\" stroke=\"black\" points=\"862,-36 419,-36 419,0 862,0 862,-36\"/>\n",
       "<text text-anchor=\"start\" x=\"575.5\" y=\"-19.8\" font-family=\"Times,serif\" font-size=\"14.00\">ReflectionUsingPrepare</text>\n",
       "<text text-anchor=\"start\" x=\"427\" y=\"-9\" font-family=\"monospace\" font-size=\"10.00\">prepare_gate=PrepareI ..., control_val=None, global_phase=-1, eps=1e-11</text>\n",
       "</g>\n",
       "<!-- b0&#45;&gt;b2 -->\n",
       "<g id=\"edge2\" class=\"edge\">\n",
       "<title>b0-&gt;b2</title>\n",
       "<path fill=\"none\" stroke=\"black\" d=\"M464.76,-86.9C499.89,-73.33 549.15,-54.29 586.58,-39.83\"/>\n",
       "<polygon fill=\"black\" stroke=\"black\" points=\"588.25,-42.94 596.32,-36.07 585.73,-36.41 588.25,-42.94\"/>\n",
       "<text text-anchor=\"middle\" x=\"548\" y=\"-57.8\" font-family=\"Times,serif\" font-size=\"14.00\">2</text>\n",
       "</g>\n",
       "</g>\n",
       "</svg>"
      ],
      "text/plain": [
       "<IPython.core.display.SVG object>"
      ]
     },
     "metadata": {},
     "output_type": "display_data"
    },
    {
     "data": {
      "text/markdown": [
       "#### Counts totals:\n",
       " - `LCUBlockEncodingZeroState`: 3\n",
       " - `ReflectionUsingPrepare`: 2"
      ],
      "text/plain": [
       "<IPython.core.display.Markdown object>"
      ]
     },
     "metadata": {},
     "output_type": "display_data"
    }
   ],
   "source": [
    "from qualtran.resource_counting.generalizers import ignore_split_join\n",
    "chebyshev_poly_g, chebyshev_poly_sigma = chebyshev_poly.call_graph(max_depth=1, generalizer=ignore_split_join)\n",
    "show_call_graph(chebyshev_poly_g)\n",
    "show_counts_sigma(chebyshev_poly_sigma)"
   ]
  }
 ],
 "metadata": {
  "kernelspec": {
   "display_name": "Python 3",
   "language": "python",
   "name": "python3"
  },
  "language_info": {
   "codemirror_mode": {
    "name": "ipython",
    "version": 3
   },
   "file_extension": ".py",
   "mimetype": "text/x-python",
   "name": "python",
   "nbconvert_exporter": "python",
   "pygments_lexer": "ipython3",
   "version": "3.11.8"
  },
  "widgets": {
   "application/vnd.jupyter.widget-state+json": {
    "state": {
     "05d6434079b040a784445a1cb2f6936f": {
      "model_module": "@jupyter-widgets/controls",
      "model_module_version": "2.0.0",
      "model_name": "HBoxModel",
      "state": {
       "_dom_classes": [],
       "_model_module": "@jupyter-widgets/controls",
       "_model_module_version": "2.0.0",
       "_model_name": "HBoxModel",
       "_view_count": null,
       "_view_module": "@jupyter-widgets/controls",
       "_view_module_version": "2.0.0",
       "_view_name": "HBoxView",
       "box_style": "",
       "children": [
        "IPY_MODEL_13cf8298955a4c6e81771da5114ccaa3",
        "IPY_MODEL_93a8415712924c77b481e6a4e6e2ce2e"
       ],
       "layout": "IPY_MODEL_83c5071390e4428cbda9b04d089d4d4e",
       "tabbable": null,
       "tooltip": null
      }
     },
     "09305102bc964a45aaf749b9571fa210": {
      "model_module": "@jupyter-widgets/output",
      "model_module_version": "1.0.0",
      "model_name": "OutputModel",
      "state": {
       "_dom_classes": [],
       "_model_module": "@jupyter-widgets/output",
       "_model_module_version": "1.0.0",
       "_model_name": "OutputModel",
       "_view_count": null,
       "_view_module": "@jupyter-widgets/output",
       "_view_module_version": "1.0.0",
       "_view_name": "OutputView",
       "layout": "IPY_MODEL_52004c25e323492a81a2c24a07136258",
       "msg_id": "",
       "outputs": [
        {
         "data": {
          "text/markdown": "`black_box_chebyshev_poly`",
          "text/plain": "<IPython.core.display.Markdown object>"
         },
         "metadata": {},
         "output_type": "display_data"
        },
        {
         "data": {
          "image/svg+xml": "<svg xmlns=\"http://www.w3.org/2000/svg\" xmlns:xlink=\"http://www.w3.org/1999/xlink\" width=\"312pt\" height=\"152pt\" viewBox=\"0.00 0.00 312.00 152.00\">\n<g id=\"graph0\" class=\"graph\" transform=\"scale(1 1) rotate(0) translate(4 148)\">\n<title>my_graph</title>\n<polygon fill=\"white\" stroke=\"transparent\" points=\"-4,4 -4,-148 308,-148 308,4 -4,4\"/>\n<!-- selection_G1 -->\n<g id=\"node1\" class=\"node\">\n<title>selection_G1</title>\n<text text-anchor=\"middle\" x=\"32.5\" y=\"-122.3\" font-family=\"Times,serif\" font-size=\"14.00\">selection</text>\n</g>\n<!-- ChebyshevPolynomial -->\n<g id=\"node4\" class=\"node\">\n<title>ChebyshevPolynomial</title>\n<polygon fill=\"none\" stroke=\"black\" points=\"102,-104 102,-121 202,-121 202,-104 102,-104\"/>\n<text text-anchor=\"start\" x=\"105\" y=\"-110\" font-family=\"Times,serif\" font-size=\"10.00\">ChebyshevPolynomial</text>\n<polygon fill=\"none\" stroke=\"black\" points=\"102,-83 102,-104 202,-104 202,-83 102,-83\"/>\n<text text-anchor=\"start\" x=\"127.5\" y=\"-89.8\" font-family=\"Times,serif\" font-size=\"14.00\">selection</text>\n<polygon fill=\"none\" stroke=\"black\" points=\"102,-62 102,-83 202,-83 202,-62 102,-62\"/>\n<text text-anchor=\"start\" x=\"139.5\" y=\"-68.8\" font-family=\"Times,serif\" font-size=\"14.00\">junk</text>\n<polygon fill=\"none\" stroke=\"black\" points=\"102,-41 102,-62 202,-62 202,-41 102,-41\"/>\n<text text-anchor=\"start\" x=\"132.5\" y=\"-47.8\" font-family=\"Times,serif\" font-size=\"14.00\">system</text>\n</g>\n<!-- selection_G1&#45;&gt;ChebyshevPolynomial -->\n<g id=\"edge1\" class=\"edge\">\n<title>selection_G1:e-&gt;ChebyshevPolynomial:w</title>\n<path fill=\"none\" stroke=\"black\" d=\"M65,-126C85.89,-126 80.72,-96.45 99.58,-94.14\"/>\n<ellipse fill=\"black\" stroke=\"black\" cx=\"101\" cy=\"-94.06\" rx=\"1\" ry=\"1\"/>\n<text text-anchor=\"middle\" x=\"83.5\" y=\"-113\" font-family=\"Times,serif\" font-size=\"10.00\">12</text>\n</g>\n<!-- junk_G0 -->\n<g id=\"node2\" class=\"node\">\n<title>junk_G0</title>\n<text text-anchor=\"middle\" x=\"32.5\" y=\"-68.3\" font-family=\"Times,serif\" font-size=\"14.00\">junk</text>\n</g>\n<!-- junk_G0&#45;&gt;ChebyshevPolynomial -->\n<g id=\"edge2\" class=\"edge\">\n<title>junk_G0:e-&gt;ChebyshevPolynomial:w</title>\n<path fill=\"none\" stroke=\"black\" d=\"M60.5,-72C78.22,-72 83.17,-72 99.9,-72\"/>\n<ellipse fill=\"black\" stroke=\"black\" cx=\"101\" cy=\"-72\" rx=\"1\" ry=\"1\"/>\n<text text-anchor=\"middle\" x=\"83.5\" y=\"-75\" font-family=\"Times,serif\" font-size=\"10.00\">2</text>\n</g>\n<!-- system_G7 -->\n<g id=\"node3\" class=\"node\">\n<title>system_G7</title>\n<text text-anchor=\"middle\" x=\"32.5\" y=\"-14.3\" font-family=\"Times,serif\" font-size=\"14.00\">system</text>\n</g>\n<!-- system_G7&#45;&gt;ChebyshevPolynomial -->\n<g id=\"edge3\" class=\"edge\">\n<title>system_G7:e-&gt;ChebyshevPolynomial:w</title>\n<path fill=\"none\" stroke=\"black\" d=\"M61.5,-18C83.99,-18 79.12,-48.97 99.91,-50.91\"/>\n<ellipse fill=\"black\" stroke=\"black\" cx=\"101\" cy=\"-50.95\" rx=\"1\" ry=\"1\"/>\n<text text-anchor=\"middle\" x=\"83.5\" y=\"-42\" font-family=\"Times,serif\" font-size=\"10.00\">12</text>\n</g>\n<!-- selection_G8 -->\n<g id=\"node5\" class=\"node\">\n<title>selection_G8</title>\n<text text-anchor=\"middle\" x=\"271.5\" y=\"-122.3\" font-family=\"Times,serif\" font-size=\"14.00\">selection</text>\n</g>\n<!-- ChebyshevPolynomial&#45;&gt;selection_G8 -->\n<g id=\"edge4\" class=\"edge\">\n<title>ChebyshevPolynomial:e-&gt;selection_G8:w</title>\n<path fill=\"none\" stroke=\"black\" d=\"M202,-94C222.89,-94 217.72,-123.55 236.58,-125.86\"/>\n<ellipse fill=\"black\" stroke=\"black\" cx=\"238\" cy=\"-125.94\" rx=\"1\" ry=\"1\"/>\n<text text-anchor=\"middle\" x=\"220.5\" y=\"-113\" font-family=\"Times,serif\" font-size=\"10.00\">12</text>\n</g>\n<!-- junk_G5 -->\n<g id=\"node6\" class=\"node\">\n<title>junk_G5</title>\n<text text-anchor=\"middle\" x=\"271.5\" y=\"-68.3\" font-family=\"Times,serif\" font-size=\"14.00\">junk</text>\n</g>\n<!-- ChebyshevPolynomial&#45;&gt;junk_G5 -->\n<g id=\"edge5\" class=\"edge\">\n<title>ChebyshevPolynomial:e-&gt;junk_G5:w</title>\n<path fill=\"none\" stroke=\"black\" d=\"M202,-72C219.72,-72 224.67,-72 241.4,-72\"/>\n<ellipse fill=\"black\" stroke=\"black\" cx=\"242.5\" cy=\"-72\" rx=\"1\" ry=\"1\"/>\n<text text-anchor=\"middle\" x=\"220.5\" y=\"-75\" font-family=\"Times,serif\" font-size=\"10.00\">2</text>\n</g>\n<!-- system_G2 -->\n<g id=\"node7\" class=\"node\">\n<title>system_G2</title>\n<text text-anchor=\"middle\" x=\"271.5\" y=\"-14.3\" font-family=\"Times,serif\" font-size=\"14.00\">system</text>\n</g>\n<!-- ChebyshevPolynomial&#45;&gt;system_G2 -->\n<g id=\"edge6\" class=\"edge\">\n<title>ChebyshevPolynomial:e-&gt;system_G2:w</title>\n<path fill=\"none\" stroke=\"black\" d=\"M202,-51C224.49,-51 219.62,-20.03 240.41,-18.09\"/>\n<ellipse fill=\"black\" stroke=\"black\" cx=\"241.5\" cy=\"-18.05\" rx=\"1\" ry=\"1\"/>\n<text text-anchor=\"middle\" x=\"220.5\" y=\"-42\" font-family=\"Times,serif\" font-size=\"10.00\">12</text>\n</g>\n</g>\n</svg>",
          "text/plain": "<IPython.core.display.SVG object>"
         },
         "metadata": {},
         "output_type": "display_data"
        }
       ],
       "tabbable": null,
       "tooltip": null
      }
     },
     "09dc42b0aa14461b891d15dd6a0d5fe3": {
      "model_module": "@jupyter-widgets/controls",
      "model_module_version": "2.0.0",
      "model_name": "HBoxModel",
      "state": {
       "_dom_classes": [],
       "_model_module": "@jupyter-widgets/controls",
       "_model_module_version": "2.0.0",
       "_model_name": "HBoxModel",
       "_view_count": null,
       "_view_module": "@jupyter-widgets/controls",
       "_view_module_version": "2.0.0",
       "_view_name": "HBoxView",
       "box_style": "",
       "children": [
        "IPY_MODEL_1ef764b6f3d94684ad99578e06726c6b",
        "IPY_MODEL_9dda917a818948d396959caf35adaec9"
       ],
       "layout": "IPY_MODEL_25ebeee584514372b2ff438a92883d1f",
       "tabbable": null,
       "tooltip": null
      }
     },
     "0ba27997afe143dc841677d2f17ddf64": {
      "model_module": "@jupyter-widgets/output",
      "model_module_version": "1.0.0",
      "model_name": "OutputModel",
      "state": {
       "_dom_classes": [],
       "_model_module": "@jupyter-widgets/output",
       "_model_module_version": "1.0.0",
       "_model_name": "OutputModel",
       "_view_count": null,
       "_view_module": "@jupyter-widgets/output",
       "_view_module_version": "1.0.0",
       "_view_name": "OutputView",
       "layout": "IPY_MODEL_fb5796264914470b9767ff9642d62fed",
       "msg_id": "",
       "outputs": [
        {
         "data": {
          "text/markdown": "`chebyshev_poly`",
          "text/plain": "<IPython.core.display.Markdown object>"
         },
         "metadata": {},
         "output_type": "display_data"
        },
        {
         "data": {
          "image/svg+xml": "<svg xmlns=\"http://www.w3.org/2000/svg\" xmlns:xlink=\"http://www.w3.org/1999/xlink\" width=\"290pt\" height=\"530pt\" viewBox=\"0.00 0.00 290.00 530.00\">\n<g id=\"graph0\" class=\"graph\" transform=\"scale(1 1) rotate(0) translate(4 526)\">\n<title>my_graph</title>\n<polygon fill=\"white\" stroke=\"transparent\" points=\"-4,4 -4,-526 286,-526 286,4 -4,4\"/>\n<!-- U_G22 -->\n<g id=\"node1\" class=\"node\">\n<title>U_G22</title>\n<text text-anchor=\"middle\" x=\"27\" y=\"-500.3\" font-family=\"Times,serif\" font-size=\"14.00\">U</text>\n</g>\n<!-- ChebyshevPolynomial -->\n<g id=\"node11\" class=\"node\">\n<title>ChebyshevPolynomial</title>\n<polygon fill=\"none\" stroke=\"black\" points=\"91,-366 91,-383 191,-383 191,-366 91,-366\"/>\n<text text-anchor=\"start\" x=\"94\" y=\"-372\" font-family=\"Times,serif\" font-size=\"10.00\">ChebyshevPolynomial</text>\n<polygon fill=\"none\" stroke=\"black\" points=\"91,-345 91,-366 191,-366 191,-345 91,-345\"/>\n<text text-anchor=\"start\" x=\"136\" y=\"-351.8\" font-family=\"Times,serif\" font-size=\"14.00\">U</text>\n<polygon fill=\"none\" stroke=\"black\" points=\"91,-324 91,-345 191,-345 191,-324 91,-324\"/>\n<text text-anchor=\"start\" x=\"136\" y=\"-330.8\" font-family=\"Times,serif\" font-size=\"14.00\">V</text>\n<polygon fill=\"none\" stroke=\"black\" points=\"91,-303 91,-324 191,-324 191,-303 91,-303\"/>\n<text text-anchor=\"start\" x=\"130.5\" y=\"-309.8\" font-family=\"Times,serif\" font-size=\"14.00\">p_x</text>\n<polygon fill=\"none\" stroke=\"black\" points=\"91,-282 91,-303 191,-303 191,-282 91,-282\"/>\n<text text-anchor=\"start\" x=\"130.5\" y=\"-288.8\" font-family=\"Times,serif\" font-size=\"14.00\">p_y</text>\n<polygon fill=\"none\" stroke=\"black\" points=\"91,-261 91,-282 191,-282 191,-261 91,-261\"/>\n<text text-anchor=\"start\" x=\"126\" y=\"-267.8\" font-family=\"Times,serif\" font-size=\"14.00\">alpha</text>\n<polygon fill=\"none\" stroke=\"black\" points=\"91,-240 91,-261 191,-261 191,-240 91,-240\"/>\n<text text-anchor=\"start\" x=\"130.5\" y=\"-246.8\" font-family=\"Times,serif\" font-size=\"14.00\">q_x</text>\n<polygon fill=\"none\" stroke=\"black\" points=\"91,-219 91,-240 191,-240 191,-219 91,-219\"/>\n<text text-anchor=\"start\" x=\"130.5\" y=\"-225.8\" font-family=\"Times,serif\" font-size=\"14.00\">q_y</text>\n<polygon fill=\"none\" stroke=\"black\" points=\"91,-198 91,-219 191,-219 191,-198 91,-198\"/>\n<text text-anchor=\"start\" x=\"129.5\" y=\"-204.8\" font-family=\"Times,serif\" font-size=\"14.00\">beta</text>\n<polygon fill=\"none\" stroke=\"black\" points=\"91,-177 91,-198 191,-198 191,-177 91,-177\"/>\n<text text-anchor=\"start\" x=\"127\" y=\"-183.8\" font-family=\"Times,serif\" font-size=\"14.00\">temp</text>\n<polygon fill=\"none\" stroke=\"black\" points=\"91,-156 91,-177 191,-177 191,-156 91,-156\"/>\n<text text-anchor=\"start\" x=\"125.5\" y=\"-162.8\" font-family=\"Times,serif\" font-size=\"14.00\">target</text>\n</g>\n<!-- U_G22&#45;&gt;ChebyshevPolynomial -->\n<g id=\"edge1\" class=\"edge\">\n<title>U_G22:e-&gt;ChebyshevPolynomial:w</title>\n<path fill=\"none\" stroke=\"black\" d=\"M54,-504C87.11,-504 58.51,-362.86 88.72,-356.24\"/>\n<ellipse fill=\"black\" stroke=\"black\" cx=\"90.01\" cy=\"-356.1\" rx=\"1\" ry=\"1\"/>\n<text text-anchor=\"middle\" x=\"72.5\" y=\"-450\" font-family=\"Times,serif\" font-size=\"10.00\">1</text>\n</g>\n<!-- V_G11 -->\n<g id=\"node2\" class=\"node\">\n<title>V_G11</title>\n<text text-anchor=\"middle\" x=\"27\" y=\"-446.3\" font-family=\"Times,serif\" font-size=\"14.00\">V</text>\n</g>\n<!-- V_G11&#45;&gt;ChebyshevPolynomial -->\n<g id=\"edge2\" class=\"edge\">\n<title>V_G11:e-&gt;ChebyshevPolynomial:w</title>\n<path fill=\"none\" stroke=\"black\" d=\"M54,-450C80.11,-450 65.03,-341.2 88.89,-335.25\"/>\n<ellipse fill=\"black\" stroke=\"black\" cx=\"90.01\" cy=\"-335.12\" rx=\"1\" ry=\"1\"/>\n<text text-anchor=\"middle\" x=\"72.5\" y=\"-398\" font-family=\"Times,serif\" font-size=\"10.00\">1</text>\n</g>\n<!-- p_x_G9 -->\n<g id=\"node3\" class=\"node\">\n<title>p_x_G9</title>\n<text text-anchor=\"middle\" x=\"27\" y=\"-392.3\" font-family=\"Times,serif\" font-size=\"14.00\">p_x</text>\n</g>\n<!-- p_x_G9&#45;&gt;ChebyshevPolynomial -->\n<g id=\"edge3\" class=\"edge\">\n<title>p_x_G9:e-&gt;ChebyshevPolynomial:w</title>\n<path fill=\"none\" stroke=\"black\" d=\"M54,-396C93.2,-396 52.66,-317.17 88.75,-314.09\"/>\n<ellipse fill=\"black\" stroke=\"black\" cx=\"90\" cy=\"-314.04\" rx=\"1\" ry=\"1\"/>\n<text text-anchor=\"middle\" x=\"72.5\" y=\"-381\" font-family=\"Times,serif\" font-size=\"10.00\">2</text>\n</g>\n<!-- p_y_G10 -->\n<g id=\"node4\" class=\"node\">\n<title>p_y_G10</title>\n<text text-anchor=\"middle\" x=\"27\" y=\"-338.3\" font-family=\"Times,serif\" font-size=\"14.00\">p_y</text>\n</g>\n<!-- p_y_G10&#45;&gt;ChebyshevPolynomial -->\n<g id=\"edge4\" class=\"edge\">\n<title>p_y_G10:e-&gt;ChebyshevPolynomial:w</title>\n<path fill=\"none\" stroke=\"black\" d=\"M54,-342C80.54,-342 64.64,-295.64 88.86,-293.11\"/>\n<ellipse fill=\"black\" stroke=\"black\" cx=\"90\" cy=\"-293.05\" rx=\"1\" ry=\"1\"/>\n<text text-anchor=\"middle\" x=\"72.5\" y=\"-321\" font-family=\"Times,serif\" font-size=\"10.00\">2</text>\n</g>\n<!-- alpha_G16 -->\n<g id=\"node5\" class=\"node\">\n<title>alpha_G16</title>\n<text text-anchor=\"middle\" x=\"27\" y=\"-284.3\" font-family=\"Times,serif\" font-size=\"14.00\">alpha</text>\n</g>\n<!-- alpha_G16&#45;&gt;ChebyshevPolynomial -->\n<g id=\"edge5\" class=\"edge\">\n<title>alpha_G16:e-&gt;ChebyshevPolynomial:w</title>\n<path fill=\"none\" stroke=\"black\" d=\"M54,-288C71.22,-288 72.97,-273.23 88.98,-272.07\"/>\n<ellipse fill=\"black\" stroke=\"black\" cx=\"90\" cy=\"-272.04\" rx=\"1\" ry=\"1\"/>\n<text text-anchor=\"middle\" x=\"72.5\" y=\"-283\" font-family=\"Times,serif\" font-size=\"10.00\">1</text>\n</g>\n<!-- q_x_G24 -->\n<g id=\"node6\" class=\"node\">\n<title>q_x_G24</title>\n<text text-anchor=\"middle\" x=\"27\" y=\"-230.3\" font-family=\"Times,serif\" font-size=\"14.00\">q_x</text>\n</g>\n<!-- q_x_G24&#45;&gt;ChebyshevPolynomial -->\n<g id=\"edge6\" class=\"edge\">\n<title>q_x_G24:e-&gt;ChebyshevPolynomial:w</title>\n<path fill=\"none\" stroke=\"black\" d=\"M54,-234C71.22,-234 72.97,-248.77 88.98,-249.93\"/>\n<ellipse fill=\"black\" stroke=\"black\" cx=\"90\" cy=\"-249.96\" rx=\"1\" ry=\"1\"/>\n<text text-anchor=\"middle\" x=\"72.5\" y=\"-245\" font-family=\"Times,serif\" font-size=\"10.00\">2</text>\n</g>\n<!-- q_y_G13 -->\n<g id=\"node7\" class=\"node\">\n<title>q_y_G13</title>\n<text text-anchor=\"middle\" x=\"27\" y=\"-176.3\" font-family=\"Times,serif\" font-size=\"14.00\">q_y</text>\n</g>\n<!-- q_y_G13&#45;&gt;ChebyshevPolynomial -->\n<g id=\"edge7\" class=\"edge\">\n<title>q_y_G13:e-&gt;ChebyshevPolynomial:w</title>\n<path fill=\"none\" stroke=\"black\" d=\"M54,-180C80.54,-180 64.64,-226.36 88.86,-228.89\"/>\n<ellipse fill=\"black\" stroke=\"black\" cx=\"90\" cy=\"-228.95\" rx=\"1\" ry=\"1\"/>\n<text text-anchor=\"middle\" x=\"72.5\" y=\"-208\" font-family=\"Times,serif\" font-size=\"10.00\">2</text>\n</g>\n<!-- beta_G20 -->\n<g id=\"node8\" class=\"node\">\n<title>beta_G20</title>\n<text text-anchor=\"middle\" x=\"27\" y=\"-122.3\" font-family=\"Times,serif\" font-size=\"14.00\">beta</text>\n</g>\n<!-- beta_G20&#45;&gt;ChebyshevPolynomial -->\n<g id=\"edge8\" class=\"edge\">\n<title>beta_G20:e-&gt;ChebyshevPolynomial:w</title>\n<path fill=\"none\" stroke=\"black\" d=\"M54,-126C93.2,-126 52.66,-204.83 88.75,-207.91\"/>\n<ellipse fill=\"black\" stroke=\"black\" cx=\"90\" cy=\"-207.96\" rx=\"1\" ry=\"1\"/>\n<text text-anchor=\"middle\" x=\"72.5\" y=\"-193\" font-family=\"Times,serif\" font-size=\"10.00\">1</text>\n</g>\n<!-- temp_G6 -->\n<g id=\"node9\" class=\"node\">\n<title>temp_G6</title>\n<text text-anchor=\"middle\" x=\"27\" y=\"-68.3\" font-family=\"Times,serif\" font-size=\"14.00\">temp</text>\n</g>\n<!-- temp_G6&#45;&gt;ChebyshevPolynomial -->\n<g id=\"edge9\" class=\"edge\">\n<title>temp_G6:e-&gt;ChebyshevPolynomial:w</title>\n<path fill=\"none\" stroke=\"black\" d=\"M54,-72C80.11,-72 65.03,-180.8 88.89,-186.75\"/>\n<ellipse fill=\"black\" stroke=\"black\" cx=\"90.01\" cy=\"-186.88\" rx=\"1\" ry=\"1\"/>\n<text text-anchor=\"middle\" x=\"72.5\" y=\"-135\" font-family=\"Times,serif\" font-size=\"10.00\">2</text>\n</g>\n<!-- target_G28 -->\n<g id=\"node10\" class=\"node\">\n<title>target_G28</title>\n<text text-anchor=\"middle\" x=\"27\" y=\"-14.3\" font-family=\"Times,serif\" font-size=\"14.00\">target</text>\n</g>\n<!-- target_G28&#45;&gt;ChebyshevPolynomial -->\n<g id=\"edge10\" class=\"edge\">\n<title>target_G28:e-&gt;ChebyshevPolynomial:w</title>\n<path fill=\"none\" stroke=\"black\" d=\"M54,-18C87.11,-18 58.51,-159.14 88.72,-165.76\"/>\n<ellipse fill=\"black\" stroke=\"black\" cx=\"90.01\" cy=\"-165.9\" rx=\"1\" ry=\"1\"/>\n<text text-anchor=\"middle\" x=\"72.5\" y=\"-113\" font-family=\"Times,serif\" font-size=\"10.00\">18</text>\n</g>\n<!-- U_G15 -->\n<g id=\"node12\" class=\"node\">\n<title>U_G15</title>\n<text text-anchor=\"middle\" x=\"255\" y=\"-500.3\" font-family=\"Times,serif\" font-size=\"14.00\">U</text>\n</g>\n<!-- ChebyshevPolynomial&#45;&gt;U_G15 -->\n<g id=\"edge11\" class=\"edge\">\n<title>ChebyshevPolynomial:e-&gt;U_G15:w</title>\n<path fill=\"none\" stroke=\"black\" d=\"M191,-356C224.11,-356 195.51,-497.14 225.72,-503.76\"/>\n<ellipse fill=\"black\" stroke=\"black\" cx=\"227.01\" cy=\"-503.9\" rx=\"1\" ry=\"1\"/>\n<text text-anchor=\"middle\" x=\"209.5\" y=\"-450\" font-family=\"Times,serif\" font-size=\"10.00\">1</text>\n</g>\n<!-- V_G23 -->\n<g id=\"node13\" class=\"node\">\n<title>V_G23</title>\n<text text-anchor=\"middle\" x=\"255\" y=\"-446.3\" font-family=\"Times,serif\" font-size=\"14.00\">V</text>\n</g>\n<!-- ChebyshevPolynomial&#45;&gt;V_G23 -->\n<g id=\"edge12\" class=\"edge\">\n<title>ChebyshevPolynomial:e-&gt;V_G23:w</title>\n<path fill=\"none\" stroke=\"black\" d=\"M191,-335C217.11,-335 202.03,-443.8 225.89,-449.75\"/>\n<ellipse fill=\"black\" stroke=\"black\" cx=\"227.01\" cy=\"-449.88\" rx=\"1\" ry=\"1\"/>\n<text text-anchor=\"middle\" x=\"209.5\" y=\"-398\" font-family=\"Times,serif\" font-size=\"10.00\">1</text>\n</g>\n<!-- p_x_G18 -->\n<g id=\"node14\" class=\"node\">\n<title>p_x_G18</title>\n<text text-anchor=\"middle\" x=\"255\" y=\"-392.3\" font-family=\"Times,serif\" font-size=\"14.00\">p_x</text>\n</g>\n<!-- ChebyshevPolynomial&#45;&gt;p_x_G18 -->\n<g id=\"edge13\" class=\"edge\">\n<title>ChebyshevPolynomial:e-&gt;p_x_G18:w</title>\n<path fill=\"none\" stroke=\"black\" d=\"M191,-314C230.2,-314 189.66,-392.83 225.75,-395.91\"/>\n<ellipse fill=\"black\" stroke=\"black\" cx=\"227\" cy=\"-395.96\" rx=\"1\" ry=\"1\"/>\n<text text-anchor=\"middle\" x=\"209.5\" y=\"-381\" font-family=\"Times,serif\" font-size=\"10.00\">2</text>\n</g>\n<!-- p_y_G7 -->\n<g id=\"node15\" class=\"node\">\n<title>p_y_G7</title>\n<text text-anchor=\"middle\" x=\"255\" y=\"-338.3\" font-family=\"Times,serif\" font-size=\"14.00\">p_y</text>\n</g>\n<!-- ChebyshevPolynomial&#45;&gt;p_y_G7 -->\n<g id=\"edge14\" class=\"edge\">\n<title>ChebyshevPolynomial:e-&gt;p_y_G7:w</title>\n<path fill=\"none\" stroke=\"black\" d=\"M191,-293C217.54,-293 201.64,-339.36 225.86,-341.89\"/>\n<ellipse fill=\"black\" stroke=\"black\" cx=\"227\" cy=\"-341.95\" rx=\"1\" ry=\"1\"/>\n<text text-anchor=\"middle\" x=\"209.5\" y=\"-321\" font-family=\"Times,serif\" font-size=\"10.00\">2</text>\n</g>\n<!-- alpha_G27 -->\n<g id=\"node16\" class=\"node\">\n<title>alpha_G27</title>\n<text text-anchor=\"middle\" x=\"255\" y=\"-284.3\" font-family=\"Times,serif\" font-size=\"14.00\">alpha</text>\n</g>\n<!-- ChebyshevPolynomial&#45;&gt;alpha_G27 -->\n<g id=\"edge15\" class=\"edge\">\n<title>ChebyshevPolynomial:e-&gt;alpha_G27:w</title>\n<path fill=\"none\" stroke=\"black\" d=\"M191,-272C208.22,-272 209.97,-286.77 225.98,-287.93\"/>\n<ellipse fill=\"black\" stroke=\"black\" cx=\"227\" cy=\"-287.96\" rx=\"1\" ry=\"1\"/>\n<text text-anchor=\"middle\" x=\"209.5\" y=\"-283\" font-family=\"Times,serif\" font-size=\"10.00\">1</text>\n</g>\n<!-- q_x_G3 -->\n<g id=\"node17\" class=\"node\">\n<title>q_x_G3</title>\n<text text-anchor=\"middle\" x=\"255\" y=\"-230.3\" font-family=\"Times,serif\" font-size=\"14.00\">q_x</text>\n</g>\n<!-- ChebyshevPolynomial&#45;&gt;q_x_G3 -->\n<g id=\"edge16\" class=\"edge\">\n<title>ChebyshevPolynomial:e-&gt;q_x_G3:w</title>\n<path fill=\"none\" stroke=\"black\" d=\"M191,-250C208.22,-250 209.97,-235.23 225.98,-234.07\"/>\n<ellipse fill=\"black\" stroke=\"black\" cx=\"227\" cy=\"-234.04\" rx=\"1\" ry=\"1\"/>\n<text text-anchor=\"middle\" x=\"209.5\" y=\"-245\" font-family=\"Times,serif\" font-size=\"10.00\">2</text>\n</g>\n<!-- q_y_G25 -->\n<g id=\"node18\" class=\"node\">\n<title>q_y_G25</title>\n<text text-anchor=\"middle\" x=\"255\" y=\"-176.3\" font-family=\"Times,serif\" font-size=\"14.00\">q_y</text>\n</g>\n<!-- ChebyshevPolynomial&#45;&gt;q_y_G25 -->\n<g id=\"edge17\" class=\"edge\">\n<title>ChebyshevPolynomial:e-&gt;q_y_G25:w</title>\n<path fill=\"none\" stroke=\"black\" d=\"M191,-229C217.54,-229 201.64,-182.64 225.86,-180.11\"/>\n<ellipse fill=\"black\" stroke=\"black\" cx=\"227\" cy=\"-180.05\" rx=\"1\" ry=\"1\"/>\n<text text-anchor=\"middle\" x=\"209.5\" y=\"-208\" font-family=\"Times,serif\" font-size=\"10.00\">2</text>\n</g>\n<!-- beta_G26 -->\n<g id=\"node19\" class=\"node\">\n<title>beta_G26</title>\n<text text-anchor=\"middle\" x=\"255\" y=\"-122.3\" font-family=\"Times,serif\" font-size=\"14.00\">beta</text>\n</g>\n<!-- ChebyshevPolynomial&#45;&gt;beta_G26 -->\n<g id=\"edge18\" class=\"edge\">\n<title>ChebyshevPolynomial:e-&gt;beta_G26:w</title>\n<path fill=\"none\" stroke=\"black\" d=\"M191,-208C230.2,-208 189.66,-129.17 225.75,-126.09\"/>\n<ellipse fill=\"black\" stroke=\"black\" cx=\"227\" cy=\"-126.04\" rx=\"1\" ry=\"1\"/>\n<text text-anchor=\"middle\" x=\"209.5\" y=\"-193\" font-family=\"Times,serif\" font-size=\"10.00\">1</text>\n</g>\n<!-- temp_G14 -->\n<g id=\"node20\" class=\"node\">\n<title>temp_G14</title>\n<text text-anchor=\"middle\" x=\"255\" y=\"-68.3\" font-family=\"Times,serif\" font-size=\"14.00\">temp</text>\n</g>\n<!-- ChebyshevPolynomial&#45;&gt;temp_G14 -->\n<g id=\"edge19\" class=\"edge\">\n<title>ChebyshevPolynomial:e-&gt;temp_G14:w</title>\n<path fill=\"none\" stroke=\"black\" d=\"M191,-187C217.11,-187 202.03,-78.2 225.89,-72.25\"/>\n<ellipse fill=\"black\" stroke=\"black\" cx=\"227.01\" cy=\"-72.12\" rx=\"1\" ry=\"1\"/>\n<text text-anchor=\"middle\" x=\"209.5\" y=\"-135\" font-family=\"Times,serif\" font-size=\"10.00\">2</text>\n</g>\n<!-- target_G4 -->\n<g id=\"node21\" class=\"node\">\n<title>target_G4</title>\n<text text-anchor=\"middle\" x=\"255\" y=\"-14.3\" font-family=\"Times,serif\" font-size=\"14.00\">target</text>\n</g>\n<!-- ChebyshevPolynomial&#45;&gt;target_G4 -->\n<g id=\"edge20\" class=\"edge\">\n<title>ChebyshevPolynomial:e-&gt;target_G4:w</title>\n<path fill=\"none\" stroke=\"black\" d=\"M191,-166C224.11,-166 195.51,-24.86 225.72,-18.24\"/>\n<ellipse fill=\"black\" stroke=\"black\" cx=\"227.01\" cy=\"-18.1\" rx=\"1\" ry=\"1\"/>\n<text text-anchor=\"middle\" x=\"209.5\" y=\"-113\" font-family=\"Times,serif\" font-size=\"10.00\">18</text>\n</g>\n</g>\n</svg>",
          "text/plain": "<IPython.core.display.SVG object>"
         },
         "metadata": {},
         "output_type": "display_data"
        }
       ],
       "tabbable": null,
       "tooltip": null
      }
     },
     "13cf8298955a4c6e81771da5114ccaa3": {
      "model_module": "@jupyter-widgets/output",
      "model_module_version": "1.0.0",
      "model_name": "OutputModel",
      "state": {
       "_dom_classes": [],
       "_model_module": "@jupyter-widgets/output",
       "_model_module_version": "1.0.0",
       "_model_name": "OutputModel",
       "_view_count": null,
       "_view_module": "@jupyter-widgets/output",
       "_view_module_version": "1.0.0",
       "_view_name": "OutputView",
       "layout": "IPY_MODEL_4302b962e5a14afe970203bd7ac7c69c",
       "msg_id": "",
       "outputs": [
        {
         "data": {
          "text/markdown": "`lcu_zero_state_block`",
          "text/plain": "<IPython.core.display.Markdown object>"
         },
         "metadata": {},
         "output_type": "display_data"
        },
        {
         "data": {
          "image/svg+xml": "<svg xmlns=\"http://www.w3.org/2000/svg\" xmlns:xlink=\"http://www.w3.org/1999/xlink\" width=\"320pt\" height=\"530pt\" viewBox=\"0.00 0.00 320.00 530.00\">\n<g id=\"graph0\" class=\"graph\" transform=\"scale(1 1) rotate(0) translate(4 526)\">\n<title>my_graph</title>\n<polygon fill=\"white\" stroke=\"transparent\" points=\"-4,4 -4,-526 316,-526 316,4 -4,4\"/>\n<!-- U_G20 -->\n<g id=\"node1\" class=\"node\">\n<title>U_G20</title>\n<text text-anchor=\"middle\" x=\"27\" y=\"-500.3\" font-family=\"Times,serif\" font-size=\"14.00\">U</text>\n</g>\n<!-- LCUBlockEncodingZeroState -->\n<g id=\"node11\" class=\"node\">\n<title>LCUBlockEncodingZeroState</title>\n<polygon fill=\"none\" stroke=\"black\" points=\"91,-366 91,-383 221,-383 221,-366 91,-366\"/>\n<text text-anchor=\"start\" x=\"94\" y=\"-372\" font-family=\"Times,serif\" font-size=\"10.00\">LCUBlockEncodingZeroState</text>\n<polygon fill=\"none\" stroke=\"black\" points=\"91,-345 91,-366 221,-366 221,-345 91,-345\"/>\n<text text-anchor=\"start\" x=\"151\" y=\"-351.8\" font-family=\"Times,serif\" font-size=\"14.00\">U</text>\n<polygon fill=\"none\" stroke=\"black\" points=\"91,-324 91,-345 221,-345 221,-324 91,-324\"/>\n<text text-anchor=\"start\" x=\"151\" y=\"-330.8\" font-family=\"Times,serif\" font-size=\"14.00\">V</text>\n<polygon fill=\"none\" stroke=\"black\" points=\"91,-303 91,-324 221,-324 221,-303 91,-303\"/>\n<text text-anchor=\"start\" x=\"145.5\" y=\"-309.8\" font-family=\"Times,serif\" font-size=\"14.00\">p_x</text>\n<polygon fill=\"none\" stroke=\"black\" points=\"91,-282 91,-303 221,-303 221,-282 91,-282\"/>\n<text text-anchor=\"start\" x=\"145.5\" y=\"-288.8\" font-family=\"Times,serif\" font-size=\"14.00\">p_y</text>\n<polygon fill=\"none\" stroke=\"black\" points=\"91,-261 91,-282 221,-282 221,-261 91,-261\"/>\n<text text-anchor=\"start\" x=\"141\" y=\"-267.8\" font-family=\"Times,serif\" font-size=\"14.00\">alpha</text>\n<polygon fill=\"none\" stroke=\"black\" points=\"91,-240 91,-261 221,-261 221,-240 91,-240\"/>\n<text text-anchor=\"start\" x=\"145.5\" y=\"-246.8\" font-family=\"Times,serif\" font-size=\"14.00\">q_x</text>\n<polygon fill=\"none\" stroke=\"black\" points=\"91,-219 91,-240 221,-240 221,-219 91,-219\"/>\n<text text-anchor=\"start\" x=\"145.5\" y=\"-225.8\" font-family=\"Times,serif\" font-size=\"14.00\">q_y</text>\n<polygon fill=\"none\" stroke=\"black\" points=\"91,-198 91,-219 221,-219 221,-198 91,-198\"/>\n<text text-anchor=\"start\" x=\"144.5\" y=\"-204.8\" font-family=\"Times,serif\" font-size=\"14.00\">beta</text>\n<polygon fill=\"none\" stroke=\"black\" points=\"91,-177 91,-198 221,-198 221,-177 91,-177\"/>\n<text text-anchor=\"start\" x=\"142\" y=\"-183.8\" font-family=\"Times,serif\" font-size=\"14.00\">temp</text>\n<polygon fill=\"none\" stroke=\"black\" points=\"91,-156 91,-177 221,-177 221,-156 91,-156\"/>\n<text text-anchor=\"start\" x=\"140.5\" y=\"-162.8\" font-family=\"Times,serif\" font-size=\"14.00\">target</text>\n</g>\n<!-- U_G20&#45;&gt;LCUBlockEncodingZeroState -->\n<g id=\"edge1\" class=\"edge\">\n<title>U_G20:e-&gt;LCUBlockEncodingZeroState:w</title>\n<path fill=\"none\" stroke=\"black\" d=\"M54,-504C87.11,-504 58.51,-362.86 88.72,-356.24\"/>\n<ellipse fill=\"black\" stroke=\"black\" cx=\"90.01\" cy=\"-356.1\" rx=\"1\" ry=\"1\"/>\n<text text-anchor=\"middle\" x=\"72.5\" y=\"-450\" font-family=\"Times,serif\" font-size=\"10.00\">1</text>\n</g>\n<!-- V_G7 -->\n<g id=\"node2\" class=\"node\">\n<title>V_G7</title>\n<text text-anchor=\"middle\" x=\"27\" y=\"-446.3\" font-family=\"Times,serif\" font-size=\"14.00\">V</text>\n</g>\n<!-- V_G7&#45;&gt;LCUBlockEncodingZeroState -->\n<g id=\"edge2\" class=\"edge\">\n<title>V_G7:e-&gt;LCUBlockEncodingZeroState:w</title>\n<path fill=\"none\" stroke=\"black\" d=\"M54,-450C80.11,-450 65.03,-341.2 88.89,-335.25\"/>\n<ellipse fill=\"black\" stroke=\"black\" cx=\"90.01\" cy=\"-335.12\" rx=\"1\" ry=\"1\"/>\n<text text-anchor=\"middle\" x=\"72.5\" y=\"-398\" font-family=\"Times,serif\" font-size=\"10.00\">1</text>\n</g>\n<!-- p_x_G5 -->\n<g id=\"node3\" class=\"node\">\n<title>p_x_G5</title>\n<text text-anchor=\"middle\" x=\"27\" y=\"-392.3\" font-family=\"Times,serif\" font-size=\"14.00\">p_x</text>\n</g>\n<!-- p_x_G5&#45;&gt;LCUBlockEncodingZeroState -->\n<g id=\"edge3\" class=\"edge\">\n<title>p_x_G5:e-&gt;LCUBlockEncodingZeroState:w</title>\n<path fill=\"none\" stroke=\"black\" d=\"M54,-396C93.2,-396 52.66,-317.17 88.75,-314.09\"/>\n<ellipse fill=\"black\" stroke=\"black\" cx=\"90\" cy=\"-314.04\" rx=\"1\" ry=\"1\"/>\n<text text-anchor=\"middle\" x=\"72.5\" y=\"-381\" font-family=\"Times,serif\" font-size=\"10.00\">2</text>\n</g>\n<!-- p_y_G6 -->\n<g id=\"node4\" class=\"node\">\n<title>p_y_G6</title>\n<text text-anchor=\"middle\" x=\"27\" y=\"-338.3\" font-family=\"Times,serif\" font-size=\"14.00\">p_y</text>\n</g>\n<!-- p_y_G6&#45;&gt;LCUBlockEncodingZeroState -->\n<g id=\"edge4\" class=\"edge\">\n<title>p_y_G6:e-&gt;LCUBlockEncodingZeroState:w</title>\n<path fill=\"none\" stroke=\"black\" d=\"M54,-342C80.54,-342 64.64,-295.64 88.86,-293.11\"/>\n<ellipse fill=\"black\" stroke=\"black\" cx=\"90\" cy=\"-293.05\" rx=\"1\" ry=\"1\"/>\n<text text-anchor=\"middle\" x=\"72.5\" y=\"-321\" font-family=\"Times,serif\" font-size=\"10.00\">2</text>\n</g>\n<!-- alpha_G19 -->\n<g id=\"node5\" class=\"node\">\n<title>alpha_G19</title>\n<text text-anchor=\"middle\" x=\"27\" y=\"-284.3\" font-family=\"Times,serif\" font-size=\"14.00\">alpha</text>\n</g>\n<!-- alpha_G19&#45;&gt;LCUBlockEncodingZeroState -->\n<g id=\"edge5\" class=\"edge\">\n<title>alpha_G19:e-&gt;LCUBlockEncodingZeroState:w</title>\n<path fill=\"none\" stroke=\"black\" d=\"M54,-288C71.22,-288 72.97,-273.23 88.98,-272.07\"/>\n<ellipse fill=\"black\" stroke=\"black\" cx=\"90\" cy=\"-272.04\" rx=\"1\" ry=\"1\"/>\n<text text-anchor=\"middle\" x=\"72.5\" y=\"-283\" font-family=\"Times,serif\" font-size=\"10.00\">1</text>\n</g>\n<!-- q_x_G22 -->\n<g id=\"node6\" class=\"node\">\n<title>q_x_G22</title>\n<text text-anchor=\"middle\" x=\"27\" y=\"-230.3\" font-family=\"Times,serif\" font-size=\"14.00\">q_x</text>\n</g>\n<!-- q_x_G22&#45;&gt;LCUBlockEncodingZeroState -->\n<g id=\"edge6\" class=\"edge\">\n<title>q_x_G22:e-&gt;LCUBlockEncodingZeroState:w</title>\n<path fill=\"none\" stroke=\"black\" d=\"M54,-234C71.22,-234 72.97,-248.77 88.98,-249.93\"/>\n<ellipse fill=\"black\" stroke=\"black\" cx=\"90\" cy=\"-249.96\" rx=\"1\" ry=\"1\"/>\n<text text-anchor=\"middle\" x=\"72.5\" y=\"-245\" font-family=\"Times,serif\" font-size=\"10.00\">2</text>\n</g>\n<!-- q_y_G11 -->\n<g id=\"node7\" class=\"node\">\n<title>q_y_G11</title>\n<text text-anchor=\"middle\" x=\"27\" y=\"-176.3\" font-family=\"Times,serif\" font-size=\"14.00\">q_y</text>\n</g>\n<!-- q_y_G11&#45;&gt;LCUBlockEncodingZeroState -->\n<g id=\"edge7\" class=\"edge\">\n<title>q_y_G11:e-&gt;LCUBlockEncodingZeroState:w</title>\n<path fill=\"none\" stroke=\"black\" d=\"M54,-180C80.54,-180 64.64,-226.36 88.86,-228.89\"/>\n<ellipse fill=\"black\" stroke=\"black\" cx=\"90\" cy=\"-228.95\" rx=\"1\" ry=\"1\"/>\n<text text-anchor=\"middle\" x=\"72.5\" y=\"-208\" font-family=\"Times,serif\" font-size=\"10.00\">2</text>\n</g>\n<!-- beta_G18 -->\n<g id=\"node8\" class=\"node\">\n<title>beta_G18</title>\n<text text-anchor=\"middle\" x=\"27\" y=\"-122.3\" font-family=\"Times,serif\" font-size=\"14.00\">beta</text>\n</g>\n<!-- beta_G18&#45;&gt;LCUBlockEncodingZeroState -->\n<g id=\"edge8\" class=\"edge\">\n<title>beta_G18:e-&gt;LCUBlockEncodingZeroState:w</title>\n<path fill=\"none\" stroke=\"black\" d=\"M54,-126C93.2,-126 52.66,-204.83 88.75,-207.91\"/>\n<ellipse fill=\"black\" stroke=\"black\" cx=\"90\" cy=\"-207.96\" rx=\"1\" ry=\"1\"/>\n<text text-anchor=\"middle\" x=\"72.5\" y=\"-193\" font-family=\"Times,serif\" font-size=\"10.00\">1</text>\n</g>\n<!-- temp_G3 -->\n<g id=\"node9\" class=\"node\">\n<title>temp_G3</title>\n<text text-anchor=\"middle\" x=\"27\" y=\"-68.3\" font-family=\"Times,serif\" font-size=\"14.00\">temp</text>\n</g>\n<!-- temp_G3&#45;&gt;LCUBlockEncodingZeroState -->\n<g id=\"edge9\" class=\"edge\">\n<title>temp_G3:e-&gt;LCUBlockEncodingZeroState:w</title>\n<path fill=\"none\" stroke=\"black\" d=\"M54,-72C80.11,-72 65.03,-180.8 88.89,-186.75\"/>\n<ellipse fill=\"black\" stroke=\"black\" cx=\"90.01\" cy=\"-186.88\" rx=\"1\" ry=\"1\"/>\n<text text-anchor=\"middle\" x=\"72.5\" y=\"-135\" font-family=\"Times,serif\" font-size=\"10.00\">2</text>\n</g>\n<!-- target_G28 -->\n<g id=\"node10\" class=\"node\">\n<title>target_G28</title>\n<text text-anchor=\"middle\" x=\"27\" y=\"-14.3\" font-family=\"Times,serif\" font-size=\"14.00\">target</text>\n</g>\n<!-- target_G28&#45;&gt;LCUBlockEncodingZeroState -->\n<g id=\"edge10\" class=\"edge\">\n<title>target_G28:e-&gt;LCUBlockEncodingZeroState:w</title>\n<path fill=\"none\" stroke=\"black\" d=\"M54,-18C87.11,-18 58.51,-159.14 88.72,-165.76\"/>\n<ellipse fill=\"black\" stroke=\"black\" cx=\"90.01\" cy=\"-165.9\" rx=\"1\" ry=\"1\"/>\n<text text-anchor=\"middle\" x=\"72.5\" y=\"-113\" font-family=\"Times,serif\" font-size=\"10.00\">18</text>\n</g>\n<!-- U_G15 -->\n<g id=\"node12\" class=\"node\">\n<title>U_G15</title>\n<text text-anchor=\"middle\" x=\"285\" y=\"-500.3\" font-family=\"Times,serif\" font-size=\"14.00\">U</text>\n</g>\n<!-- LCUBlockEncodingZeroState&#45;&gt;U_G15 -->\n<g id=\"edge11\" class=\"edge\">\n<title>LCUBlockEncodingZeroState:e-&gt;U_G15:w</title>\n<path fill=\"none\" stroke=\"black\" d=\"M221,-356C254.11,-356 225.51,-497.14 255.72,-503.76\"/>\n<ellipse fill=\"black\" stroke=\"black\" cx=\"257.01\" cy=\"-503.9\" rx=\"1\" ry=\"1\"/>\n<text text-anchor=\"middle\" x=\"239.5\" y=\"-450\" font-family=\"Times,serif\" font-size=\"10.00\">1</text>\n</g>\n<!-- V_G21 -->\n<g id=\"node13\" class=\"node\">\n<title>V_G21</title>\n<text text-anchor=\"middle\" x=\"285\" y=\"-446.3\" font-family=\"Times,serif\" font-size=\"14.00\">V</text>\n</g>\n<!-- LCUBlockEncodingZeroState&#45;&gt;V_G21 -->\n<g id=\"edge12\" class=\"edge\">\n<title>LCUBlockEncodingZeroState:e-&gt;V_G21:w</title>\n<path fill=\"none\" stroke=\"black\" d=\"M221,-335C247.11,-335 232.03,-443.8 255.89,-449.75\"/>\n<ellipse fill=\"black\" stroke=\"black\" cx=\"257.01\" cy=\"-449.88\" rx=\"1\" ry=\"1\"/>\n<text text-anchor=\"middle\" x=\"239.5\" y=\"-398\" font-family=\"Times,serif\" font-size=\"10.00\">1</text>\n</g>\n<!-- p_x_G16 -->\n<g id=\"node14\" class=\"node\">\n<title>p_x_G16</title>\n<text text-anchor=\"middle\" x=\"285\" y=\"-392.3\" font-family=\"Times,serif\" font-size=\"14.00\">p_x</text>\n</g>\n<!-- LCUBlockEncodingZeroState&#45;&gt;p_x_G16 -->\n<g id=\"edge13\" class=\"edge\">\n<title>LCUBlockEncodingZeroState:e-&gt;p_x_G16:w</title>\n<path fill=\"none\" stroke=\"black\" d=\"M221,-314C260.2,-314 219.66,-392.83 255.75,-395.91\"/>\n<ellipse fill=\"black\" stroke=\"black\" cx=\"257\" cy=\"-395.96\" rx=\"1\" ry=\"1\"/>\n<text text-anchor=\"middle\" x=\"239.5\" y=\"-381\" font-family=\"Times,serif\" font-size=\"10.00\">2</text>\n</g>\n<!-- p_y_G4 -->\n<g id=\"node15\" class=\"node\">\n<title>p_y_G4</title>\n<text text-anchor=\"middle\" x=\"285\" y=\"-338.3\" font-family=\"Times,serif\" font-size=\"14.00\">p_y</text>\n</g>\n<!-- LCUBlockEncodingZeroState&#45;&gt;p_y_G4 -->\n<g id=\"edge14\" class=\"edge\">\n<title>LCUBlockEncodingZeroState:e-&gt;p_y_G4:w</title>\n<path fill=\"none\" stroke=\"black\" d=\"M221,-293C247.54,-293 231.64,-339.36 255.86,-341.89\"/>\n<ellipse fill=\"black\" stroke=\"black\" cx=\"257\" cy=\"-341.95\" rx=\"1\" ry=\"1\"/>\n<text text-anchor=\"middle\" x=\"239.5\" y=\"-321\" font-family=\"Times,serif\" font-size=\"10.00\">2</text>\n</g>\n<!-- alpha_G26 -->\n<g id=\"node16\" class=\"node\">\n<title>alpha_G26</title>\n<text text-anchor=\"middle\" x=\"285\" y=\"-284.3\" font-family=\"Times,serif\" font-size=\"14.00\">alpha</text>\n</g>\n<!-- LCUBlockEncodingZeroState&#45;&gt;alpha_G26 -->\n<g id=\"edge15\" class=\"edge\">\n<title>LCUBlockEncodingZeroState:e-&gt;alpha_G26:w</title>\n<path fill=\"none\" stroke=\"black\" d=\"M221,-272C238.22,-272 239.97,-286.77 255.98,-287.93\"/>\n<ellipse fill=\"black\" stroke=\"black\" cx=\"257\" cy=\"-287.96\" rx=\"1\" ry=\"1\"/>\n<text text-anchor=\"middle\" x=\"239.5\" y=\"-283\" font-family=\"Times,serif\" font-size=\"10.00\">1</text>\n</g>\n<!-- q_x_G0 -->\n<g id=\"node17\" class=\"node\">\n<title>q_x_G0</title>\n<text text-anchor=\"middle\" x=\"285\" y=\"-230.3\" font-family=\"Times,serif\" font-size=\"14.00\">q_x</text>\n</g>\n<!-- LCUBlockEncodingZeroState&#45;&gt;q_x_G0 -->\n<g id=\"edge16\" class=\"edge\">\n<title>LCUBlockEncodingZeroState:e-&gt;q_x_G0:w</title>\n<path fill=\"none\" stroke=\"black\" d=\"M221,-250C238.22,-250 239.97,-235.23 255.98,-234.07\"/>\n<ellipse fill=\"black\" stroke=\"black\" cx=\"257\" cy=\"-234.04\" rx=\"1\" ry=\"1\"/>\n<text text-anchor=\"middle\" x=\"239.5\" y=\"-245\" font-family=\"Times,serif\" font-size=\"10.00\">2</text>\n</g>\n<!-- q_y_G24 -->\n<g id=\"node18\" class=\"node\">\n<title>q_y_G24</title>\n<text text-anchor=\"middle\" x=\"285\" y=\"-176.3\" font-family=\"Times,serif\" font-size=\"14.00\">q_y</text>\n</g>\n<!-- LCUBlockEncodingZeroState&#45;&gt;q_y_G24 -->\n<g id=\"edge17\" class=\"edge\">\n<title>LCUBlockEncodingZeroState:e-&gt;q_y_G24:w</title>\n<path fill=\"none\" stroke=\"black\" d=\"M221,-229C247.54,-229 231.64,-182.64 255.86,-180.11\"/>\n<ellipse fill=\"black\" stroke=\"black\" cx=\"257\" cy=\"-180.05\" rx=\"1\" ry=\"1\"/>\n<text text-anchor=\"middle\" x=\"239.5\" y=\"-208\" font-family=\"Times,serif\" font-size=\"10.00\">2</text>\n</g>\n<!-- beta_G25 -->\n<g id=\"node19\" class=\"node\">\n<title>beta_G25</title>\n<text text-anchor=\"middle\" x=\"285\" y=\"-122.3\" font-family=\"Times,serif\" font-size=\"14.00\">beta</text>\n</g>\n<!-- LCUBlockEncodingZeroState&#45;&gt;beta_G25 -->\n<g id=\"edge18\" class=\"edge\">\n<title>LCUBlockEncodingZeroState:e-&gt;beta_G25:w</title>\n<path fill=\"none\" stroke=\"black\" d=\"M221,-208C260.2,-208 219.66,-129.17 255.75,-126.09\"/>\n<ellipse fill=\"black\" stroke=\"black\" cx=\"257\" cy=\"-126.04\" rx=\"1\" ry=\"1\"/>\n<text text-anchor=\"middle\" x=\"239.5\" y=\"-193\" font-family=\"Times,serif\" font-size=\"10.00\">1</text>\n</g>\n<!-- temp_G17 -->\n<g id=\"node20\" class=\"node\">\n<title>temp_G17</title>\n<text text-anchor=\"middle\" x=\"285\" y=\"-68.3\" font-family=\"Times,serif\" font-size=\"14.00\">temp</text>\n</g>\n<!-- LCUBlockEncodingZeroState&#45;&gt;temp_G17 -->\n<g id=\"edge19\" class=\"edge\">\n<title>LCUBlockEncodingZeroState:e-&gt;temp_G17:w</title>\n<path fill=\"none\" stroke=\"black\" d=\"M221,-187C247.11,-187 232.03,-78.2 255.89,-72.25\"/>\n<ellipse fill=\"black\" stroke=\"black\" cx=\"257.01\" cy=\"-72.12\" rx=\"1\" ry=\"1\"/>\n<text text-anchor=\"middle\" x=\"239.5\" y=\"-135\" font-family=\"Times,serif\" font-size=\"10.00\">2</text>\n</g>\n<!-- target_G1 -->\n<g id=\"node21\" class=\"node\">\n<title>target_G1</title>\n<text text-anchor=\"middle\" x=\"285\" y=\"-14.3\" font-family=\"Times,serif\" font-size=\"14.00\">target</text>\n</g>\n<!-- LCUBlockEncodingZeroState&#45;&gt;target_G1 -->\n<g id=\"edge20\" class=\"edge\">\n<title>LCUBlockEncodingZeroState:e-&gt;target_G1:w</title>\n<path fill=\"none\" stroke=\"black\" d=\"M221,-166C254.11,-166 225.51,-24.86 255.72,-18.24\"/>\n<ellipse fill=\"black\" stroke=\"black\" cx=\"257.01\" cy=\"-18.1\" rx=\"1\" ry=\"1\"/>\n<text text-anchor=\"middle\" x=\"239.5\" y=\"-113\" font-family=\"Times,serif\" font-size=\"10.00\">18</text>\n</g>\n</g>\n</svg>",
          "text/plain": "<IPython.core.display.SVG object>"
         },
         "metadata": {},
         "output_type": "display_data"
        }
       ],
       "tabbable": null,
       "tooltip": null
      }
     },
     "1ef764b6f3d94684ad99578e06726c6b": {
      "model_module": "@jupyter-widgets/output",
      "model_module_version": "1.0.0",
      "model_name": "OutputModel",
      "state": {
       "_dom_classes": [],
       "_model_module": "@jupyter-widgets/output",
       "_model_module_version": "1.0.0",
       "_model_name": "OutputModel",
       "_view_count": null,
       "_view_module": "@jupyter-widgets/output",
       "_view_module_version": "1.0.0",
       "_view_name": "OutputView",
       "layout": "IPY_MODEL_c0dd9cdd587d45a5910d4576fe3213ef",
       "msg_id": "",
       "outputs": [
        {
         "data": {
          "text/markdown": "`lcu_block`",
          "text/plain": "<IPython.core.display.Markdown object>"
         },
         "metadata": {},
         "output_type": "display_data"
        },
        {
         "data": {
          "image/svg+xml": "<svg xmlns=\"http://www.w3.org/2000/svg\" xmlns:xlink=\"http://www.w3.org/1999/xlink\" width=\"281pt\" height=\"530pt\" viewBox=\"0.00 0.00 281.00 530.00\">\n<g id=\"graph0\" class=\"graph\" transform=\"scale(1 1) rotate(0) translate(4 526)\">\n<title>my_graph</title>\n<polygon fill=\"white\" stroke=\"transparent\" points=\"-4,4 -4,-526 277,-526 277,4 -4,4\"/>\n<!-- U_G21 -->\n<g id=\"node1\" class=\"node\">\n<title>U_G21</title>\n<text text-anchor=\"middle\" x=\"27\" y=\"-500.3\" font-family=\"Times,serif\" font-size=\"14.00\">U</text>\n</g>\n<!-- LCUBlockEncoding -->\n<g id=\"node11\" class=\"node\">\n<title>LCUBlockEncoding</title>\n<polygon fill=\"none\" stroke=\"black\" points=\"91.5,-366 91.5,-383 182.5,-383 182.5,-366 91.5,-366\"/>\n<text text-anchor=\"start\" x=\"94.5\" y=\"-372\" font-family=\"Times,serif\" font-size=\"10.00\">LCUBlockEncoding</text>\n<polygon fill=\"none\" stroke=\"black\" points=\"91.5,-345 91.5,-366 182.5,-366 182.5,-345 91.5,-345\"/>\n<text text-anchor=\"start\" x=\"132\" y=\"-351.8\" font-family=\"Times,serif\" font-size=\"14.00\">U</text>\n<polygon fill=\"none\" stroke=\"black\" points=\"91.5,-324 91.5,-345 182.5,-345 182.5,-324 91.5,-324\"/>\n<text text-anchor=\"start\" x=\"132\" y=\"-330.8\" font-family=\"Times,serif\" font-size=\"14.00\">V</text>\n<polygon fill=\"none\" stroke=\"black\" points=\"91.5,-303 91.5,-324 182.5,-324 182.5,-303 91.5,-303\"/>\n<text text-anchor=\"start\" x=\"126.5\" y=\"-309.8\" font-family=\"Times,serif\" font-size=\"14.00\">p_x</text>\n<polygon fill=\"none\" stroke=\"black\" points=\"91.5,-282 91.5,-303 182.5,-303 182.5,-282 91.5,-282\"/>\n<text text-anchor=\"start\" x=\"126.5\" y=\"-288.8\" font-family=\"Times,serif\" font-size=\"14.00\">p_y</text>\n<polygon fill=\"none\" stroke=\"black\" points=\"91.5,-261 91.5,-282 182.5,-282 182.5,-261 91.5,-261\"/>\n<text text-anchor=\"start\" x=\"122\" y=\"-267.8\" font-family=\"Times,serif\" font-size=\"14.00\">alpha</text>\n<polygon fill=\"none\" stroke=\"black\" points=\"91.5,-240 91.5,-261 182.5,-261 182.5,-240 91.5,-240\"/>\n<text text-anchor=\"start\" x=\"126.5\" y=\"-246.8\" font-family=\"Times,serif\" font-size=\"14.00\">q_x</text>\n<polygon fill=\"none\" stroke=\"black\" points=\"91.5,-219 91.5,-240 182.5,-240 182.5,-219 91.5,-219\"/>\n<text text-anchor=\"start\" x=\"126.5\" y=\"-225.8\" font-family=\"Times,serif\" font-size=\"14.00\">q_y</text>\n<polygon fill=\"none\" stroke=\"black\" points=\"91.5,-198 91.5,-219 182.5,-219 182.5,-198 91.5,-198\"/>\n<text text-anchor=\"start\" x=\"125.5\" y=\"-204.8\" font-family=\"Times,serif\" font-size=\"14.00\">beta</text>\n<polygon fill=\"none\" stroke=\"black\" points=\"91.5,-177 91.5,-198 182.5,-198 182.5,-177 91.5,-177\"/>\n<text text-anchor=\"start\" x=\"123\" y=\"-183.8\" font-family=\"Times,serif\" font-size=\"14.00\">temp</text>\n<polygon fill=\"none\" stroke=\"black\" points=\"91.5,-156 91.5,-177 182.5,-177 182.5,-156 91.5,-156\"/>\n<text text-anchor=\"start\" x=\"121.5\" y=\"-162.8\" font-family=\"Times,serif\" font-size=\"14.00\">target</text>\n</g>\n<!-- U_G21&#45;&gt;LCUBlockEncoding -->\n<g id=\"edge1\" class=\"edge\">\n<title>U_G21:e-&gt;LCUBlockEncoding:w</title>\n<path fill=\"none\" stroke=\"black\" d=\"M54,-504C87.11,-504 58.51,-362.86 88.72,-356.24\"/>\n<ellipse fill=\"black\" stroke=\"black\" cx=\"90.01\" cy=\"-356.1\" rx=\"1\" ry=\"1\"/>\n<text text-anchor=\"middle\" x=\"72.5\" y=\"-450\" font-family=\"Times,serif\" font-size=\"10.00\">1</text>\n</g>\n<!-- V_G10 -->\n<g id=\"node2\" class=\"node\">\n<title>V_G10</title>\n<text text-anchor=\"middle\" x=\"27\" y=\"-446.3\" font-family=\"Times,serif\" font-size=\"14.00\">V</text>\n</g>\n<!-- V_G10&#45;&gt;LCUBlockEncoding -->\n<g id=\"edge2\" class=\"edge\">\n<title>V_G10:e-&gt;LCUBlockEncoding:w</title>\n<path fill=\"none\" stroke=\"black\" d=\"M54,-450C80.11,-450 65.03,-341.2 88.89,-335.25\"/>\n<ellipse fill=\"black\" stroke=\"black\" cx=\"90.01\" cy=\"-335.12\" rx=\"1\" ry=\"1\"/>\n<text text-anchor=\"middle\" x=\"72.5\" y=\"-398\" font-family=\"Times,serif\" font-size=\"10.00\">1</text>\n</g>\n<!-- p_x_G8 -->\n<g id=\"node3\" class=\"node\">\n<title>p_x_G8</title>\n<text text-anchor=\"middle\" x=\"27\" y=\"-392.3\" font-family=\"Times,serif\" font-size=\"14.00\">p_x</text>\n</g>\n<!-- p_x_G8&#45;&gt;LCUBlockEncoding -->\n<g id=\"edge3\" class=\"edge\">\n<title>p_x_G8:e-&gt;LCUBlockEncoding:w</title>\n<path fill=\"none\" stroke=\"black\" d=\"M54,-396C93.2,-396 52.66,-317.17 88.75,-314.09\"/>\n<ellipse fill=\"black\" stroke=\"black\" cx=\"90\" cy=\"-314.04\" rx=\"1\" ry=\"1\"/>\n<text text-anchor=\"middle\" x=\"72.5\" y=\"-381\" font-family=\"Times,serif\" font-size=\"10.00\">2</text>\n</g>\n<!-- p_y_G9 -->\n<g id=\"node4\" class=\"node\">\n<title>p_y_G9</title>\n<text text-anchor=\"middle\" x=\"27\" y=\"-338.3\" font-family=\"Times,serif\" font-size=\"14.00\">p_y</text>\n</g>\n<!-- p_y_G9&#45;&gt;LCUBlockEncoding -->\n<g id=\"edge4\" class=\"edge\">\n<title>p_y_G9:e-&gt;LCUBlockEncoding:w</title>\n<path fill=\"none\" stroke=\"black\" d=\"M54,-342C80.54,-342 64.64,-295.64 88.86,-293.11\"/>\n<ellipse fill=\"black\" stroke=\"black\" cx=\"90\" cy=\"-293.05\" rx=\"1\" ry=\"1\"/>\n<text text-anchor=\"middle\" x=\"72.5\" y=\"-321\" font-family=\"Times,serif\" font-size=\"10.00\">2</text>\n</g>\n<!-- alpha_G18 -->\n<g id=\"node5\" class=\"node\">\n<title>alpha_G18</title>\n<text text-anchor=\"middle\" x=\"27\" y=\"-284.3\" font-family=\"Times,serif\" font-size=\"14.00\">alpha</text>\n</g>\n<!-- alpha_G18&#45;&gt;LCUBlockEncoding -->\n<g id=\"edge5\" class=\"edge\">\n<title>alpha_G18:e-&gt;LCUBlockEncoding:w</title>\n<path fill=\"none\" stroke=\"black\" d=\"M54,-288C71.22,-288 72.97,-273.23 88.98,-272.07\"/>\n<ellipse fill=\"black\" stroke=\"black\" cx=\"90\" cy=\"-272.04\" rx=\"1\" ry=\"1\"/>\n<text text-anchor=\"middle\" x=\"72.5\" y=\"-283\" font-family=\"Times,serif\" font-size=\"10.00\">1</text>\n</g>\n<!-- q_x_G25 -->\n<g id=\"node6\" class=\"node\">\n<title>q_x_G25</title>\n<text text-anchor=\"middle\" x=\"27\" y=\"-230.3\" font-family=\"Times,serif\" font-size=\"14.00\">q_x</text>\n</g>\n<!-- q_x_G25&#45;&gt;LCUBlockEncoding -->\n<g id=\"edge6\" class=\"edge\">\n<title>q_x_G25:e-&gt;LCUBlockEncoding:w</title>\n<path fill=\"none\" stroke=\"black\" d=\"M54,-234C71.22,-234 72.97,-248.77 88.98,-249.93\"/>\n<ellipse fill=\"black\" stroke=\"black\" cx=\"90\" cy=\"-249.96\" rx=\"1\" ry=\"1\"/>\n<text text-anchor=\"middle\" x=\"72.5\" y=\"-245\" font-family=\"Times,serif\" font-size=\"10.00\">2</text>\n</g>\n<!-- q_y_G15 -->\n<g id=\"node7\" class=\"node\">\n<title>q_y_G15</title>\n<text text-anchor=\"middle\" x=\"27\" y=\"-176.3\" font-family=\"Times,serif\" font-size=\"14.00\">q_y</text>\n</g>\n<!-- q_y_G15&#45;&gt;LCUBlockEncoding -->\n<g id=\"edge7\" class=\"edge\">\n<title>q_y_G15:e-&gt;LCUBlockEncoding:w</title>\n<path fill=\"none\" stroke=\"black\" d=\"M54,-180C80.54,-180 64.64,-226.36 88.86,-228.89\"/>\n<ellipse fill=\"black\" stroke=\"black\" cx=\"90\" cy=\"-228.95\" rx=\"1\" ry=\"1\"/>\n<text text-anchor=\"middle\" x=\"72.5\" y=\"-208\" font-family=\"Times,serif\" font-size=\"10.00\">2</text>\n</g>\n<!-- beta_G20 -->\n<g id=\"node8\" class=\"node\">\n<title>beta_G20</title>\n<text text-anchor=\"middle\" x=\"27\" y=\"-122.3\" font-family=\"Times,serif\" font-size=\"14.00\">beta</text>\n</g>\n<!-- beta_G20&#45;&gt;LCUBlockEncoding -->\n<g id=\"edge8\" class=\"edge\">\n<title>beta_G20:e-&gt;LCUBlockEncoding:w</title>\n<path fill=\"none\" stroke=\"black\" d=\"M54,-126C93.2,-126 52.66,-204.83 88.75,-207.91\"/>\n<ellipse fill=\"black\" stroke=\"black\" cx=\"90\" cy=\"-207.96\" rx=\"1\" ry=\"1\"/>\n<text text-anchor=\"middle\" x=\"72.5\" y=\"-193\" font-family=\"Times,serif\" font-size=\"10.00\">1</text>\n</g>\n<!-- temp_G5 -->\n<g id=\"node9\" class=\"node\">\n<title>temp_G5</title>\n<text text-anchor=\"middle\" x=\"27\" y=\"-68.3\" font-family=\"Times,serif\" font-size=\"14.00\">temp</text>\n</g>\n<!-- temp_G5&#45;&gt;LCUBlockEncoding -->\n<g id=\"edge9\" class=\"edge\">\n<title>temp_G5:e-&gt;LCUBlockEncoding:w</title>\n<path fill=\"none\" stroke=\"black\" d=\"M54,-72C80.11,-72 65.03,-180.8 88.89,-186.75\"/>\n<ellipse fill=\"black\" stroke=\"black\" cx=\"90.01\" cy=\"-186.88\" rx=\"1\" ry=\"1\"/>\n<text text-anchor=\"middle\" x=\"72.5\" y=\"-135\" font-family=\"Times,serif\" font-size=\"10.00\">2</text>\n</g>\n<!-- target_G29 -->\n<g id=\"node10\" class=\"node\">\n<title>target_G29</title>\n<text text-anchor=\"middle\" x=\"27\" y=\"-14.3\" font-family=\"Times,serif\" font-size=\"14.00\">target</text>\n</g>\n<!-- target_G29&#45;&gt;LCUBlockEncoding -->\n<g id=\"edge10\" class=\"edge\">\n<title>target_G29:e-&gt;LCUBlockEncoding:w</title>\n<path fill=\"none\" stroke=\"black\" d=\"M54,-18C87.11,-18 58.51,-159.14 88.72,-165.76\"/>\n<ellipse fill=\"black\" stroke=\"black\" cx=\"90.01\" cy=\"-165.9\" rx=\"1\" ry=\"1\"/>\n<text text-anchor=\"middle\" x=\"72.5\" y=\"-113\" font-family=\"Times,serif\" font-size=\"10.00\">18</text>\n</g>\n<!-- U_G17 -->\n<g id=\"node12\" class=\"node\">\n<title>U_G17</title>\n<text text-anchor=\"middle\" x=\"246\" y=\"-500.3\" font-family=\"Times,serif\" font-size=\"14.00\">U</text>\n</g>\n<!-- LCUBlockEncoding&#45;&gt;U_G17 -->\n<g id=\"edge11\" class=\"edge\">\n<title>LCUBlockEncoding:e-&gt;U_G17:w</title>\n<path fill=\"none\" stroke=\"black\" d=\"M182,-356C215.11,-356 186.51,-497.14 216.72,-503.76\"/>\n<ellipse fill=\"black\" stroke=\"black\" cx=\"218.01\" cy=\"-503.9\" rx=\"1\" ry=\"1\"/>\n<text text-anchor=\"middle\" x=\"200.5\" y=\"-450\" font-family=\"Times,serif\" font-size=\"10.00\">1</text>\n</g>\n<!-- V_G23 -->\n<g id=\"node13\" class=\"node\">\n<title>V_G23</title>\n<text text-anchor=\"middle\" x=\"246\" y=\"-446.3\" font-family=\"Times,serif\" font-size=\"14.00\">V</text>\n</g>\n<!-- LCUBlockEncoding&#45;&gt;V_G23 -->\n<g id=\"edge12\" class=\"edge\">\n<title>LCUBlockEncoding:e-&gt;V_G23:w</title>\n<path fill=\"none\" stroke=\"black\" d=\"M182,-335C208.11,-335 193.03,-443.8 216.89,-449.75\"/>\n<ellipse fill=\"black\" stroke=\"black\" cx=\"218.01\" cy=\"-449.88\" rx=\"1\" ry=\"1\"/>\n<text text-anchor=\"middle\" x=\"200.5\" y=\"-398\" font-family=\"Times,serif\" font-size=\"10.00\">1</text>\n</g>\n<!-- p_x_G19 -->\n<g id=\"node14\" class=\"node\">\n<title>p_x_G19</title>\n<text text-anchor=\"middle\" x=\"246\" y=\"-392.3\" font-family=\"Times,serif\" font-size=\"14.00\">p_x</text>\n</g>\n<!-- LCUBlockEncoding&#45;&gt;p_x_G19 -->\n<g id=\"edge13\" class=\"edge\">\n<title>LCUBlockEncoding:e-&gt;p_x_G19:w</title>\n<path fill=\"none\" stroke=\"black\" d=\"M182,-314C221.2,-314 180.66,-392.83 216.75,-395.91\"/>\n<ellipse fill=\"black\" stroke=\"black\" cx=\"218\" cy=\"-395.96\" rx=\"1\" ry=\"1\"/>\n<text text-anchor=\"middle\" x=\"200.5\" y=\"-381\" font-family=\"Times,serif\" font-size=\"10.00\">2</text>\n</g>\n<!-- p_y_G7 -->\n<g id=\"node15\" class=\"node\">\n<title>p_y_G7</title>\n<text text-anchor=\"middle\" x=\"246\" y=\"-338.3\" font-family=\"Times,serif\" font-size=\"14.00\">p_y</text>\n</g>\n<!-- LCUBlockEncoding&#45;&gt;p_y_G7 -->\n<g id=\"edge14\" class=\"edge\">\n<title>LCUBlockEncoding:e-&gt;p_y_G7:w</title>\n<path fill=\"none\" stroke=\"black\" d=\"M182,-293C208.54,-293 192.64,-339.36 216.86,-341.89\"/>\n<ellipse fill=\"black\" stroke=\"black\" cx=\"218\" cy=\"-341.95\" rx=\"1\" ry=\"1\"/>\n<text text-anchor=\"middle\" x=\"200.5\" y=\"-321\" font-family=\"Times,serif\" font-size=\"10.00\">2</text>\n</g>\n<!-- alpha_G28 -->\n<g id=\"node16\" class=\"node\">\n<title>alpha_G28</title>\n<text text-anchor=\"middle\" x=\"246\" y=\"-284.3\" font-family=\"Times,serif\" font-size=\"14.00\">alpha</text>\n</g>\n<!-- LCUBlockEncoding&#45;&gt;alpha_G28 -->\n<g id=\"edge15\" class=\"edge\">\n<title>LCUBlockEncoding:e-&gt;alpha_G28:w</title>\n<path fill=\"none\" stroke=\"black\" d=\"M182,-272C199.22,-272 200.97,-286.77 216.98,-287.93\"/>\n<ellipse fill=\"black\" stroke=\"black\" cx=\"218\" cy=\"-287.96\" rx=\"1\" ry=\"1\"/>\n<text text-anchor=\"middle\" x=\"200.5\" y=\"-283\" font-family=\"Times,serif\" font-size=\"10.00\">1</text>\n</g>\n<!-- q_x_G0 -->\n<g id=\"node17\" class=\"node\">\n<title>q_x_G0</title>\n<text text-anchor=\"middle\" x=\"246\" y=\"-230.3\" font-family=\"Times,serif\" font-size=\"14.00\">q_x</text>\n</g>\n<!-- LCUBlockEncoding&#45;&gt;q_x_G0 -->\n<g id=\"edge16\" class=\"edge\">\n<title>LCUBlockEncoding:e-&gt;q_x_G0:w</title>\n<path fill=\"none\" stroke=\"black\" d=\"M182,-250C199.22,-250 200.97,-235.23 216.98,-234.07\"/>\n<ellipse fill=\"black\" stroke=\"black\" cx=\"218\" cy=\"-234.04\" rx=\"1\" ry=\"1\"/>\n<text text-anchor=\"middle\" x=\"200.5\" y=\"-245\" font-family=\"Times,serif\" font-size=\"10.00\">2</text>\n</g>\n<!-- q_y_G26 -->\n<g id=\"node18\" class=\"node\">\n<title>q_y_G26</title>\n<text text-anchor=\"middle\" x=\"246\" y=\"-176.3\" font-family=\"Times,serif\" font-size=\"14.00\">q_y</text>\n</g>\n<!-- LCUBlockEncoding&#45;&gt;q_y_G26 -->\n<g id=\"edge17\" class=\"edge\">\n<title>LCUBlockEncoding:e-&gt;q_y_G26:w</title>\n<path fill=\"none\" stroke=\"black\" d=\"M182,-229C208.54,-229 192.64,-182.64 216.86,-180.11\"/>\n<ellipse fill=\"black\" stroke=\"black\" cx=\"218\" cy=\"-180.05\" rx=\"1\" ry=\"1\"/>\n<text text-anchor=\"middle\" x=\"200.5\" y=\"-208\" font-family=\"Times,serif\" font-size=\"10.00\">2</text>\n</g>\n<!-- beta_G27 -->\n<g id=\"node19\" class=\"node\">\n<title>beta_G27</title>\n<text text-anchor=\"middle\" x=\"246\" y=\"-122.3\" font-family=\"Times,serif\" font-size=\"14.00\">beta</text>\n</g>\n<!-- LCUBlockEncoding&#45;&gt;beta_G27 -->\n<g id=\"edge18\" class=\"edge\">\n<title>LCUBlockEncoding:e-&gt;beta_G27:w</title>\n<path fill=\"none\" stroke=\"black\" d=\"M182,-208C221.2,-208 180.66,-129.17 216.75,-126.09\"/>\n<ellipse fill=\"black\" stroke=\"black\" cx=\"218\" cy=\"-126.04\" rx=\"1\" ry=\"1\"/>\n<text text-anchor=\"middle\" x=\"200.5\" y=\"-193\" font-family=\"Times,serif\" font-size=\"10.00\">1</text>\n</g>\n<!-- temp_G16 -->\n<g id=\"node20\" class=\"node\">\n<title>temp_G16</title>\n<text text-anchor=\"middle\" x=\"246\" y=\"-68.3\" font-family=\"Times,serif\" font-size=\"14.00\">temp</text>\n</g>\n<!-- LCUBlockEncoding&#45;&gt;temp_G16 -->\n<g id=\"edge19\" class=\"edge\">\n<title>LCUBlockEncoding:e-&gt;temp_G16:w</title>\n<path fill=\"none\" stroke=\"black\" d=\"M182,-187C208.11,-187 193.03,-78.2 216.89,-72.25\"/>\n<ellipse fill=\"black\" stroke=\"black\" cx=\"218.01\" cy=\"-72.12\" rx=\"1\" ry=\"1\"/>\n<text text-anchor=\"middle\" x=\"200.5\" y=\"-135\" font-family=\"Times,serif\" font-size=\"10.00\">2</text>\n</g>\n<!-- target_G3 -->\n<g id=\"node21\" class=\"node\">\n<title>target_G3</title>\n<text text-anchor=\"middle\" x=\"246\" y=\"-14.3\" font-family=\"Times,serif\" font-size=\"14.00\">target</text>\n</g>\n<!-- LCUBlockEncoding&#45;&gt;target_G3 -->\n<g id=\"edge20\" class=\"edge\">\n<title>LCUBlockEncoding:e-&gt;target_G3:w</title>\n<path fill=\"none\" stroke=\"black\" d=\"M182,-166C215.11,-166 186.51,-24.86 216.72,-18.24\"/>\n<ellipse fill=\"black\" stroke=\"black\" cx=\"218.01\" cy=\"-18.1\" rx=\"1\" ry=\"1\"/>\n<text text-anchor=\"middle\" x=\"200.5\" y=\"-113\" font-family=\"Times,serif\" font-size=\"10.00\">18</text>\n</g>\n</g>\n</svg>",
          "text/plain": "<IPython.core.display.SVG object>"
         },
         "metadata": {},
         "output_type": "display_data"
        }
       ],
       "tabbable": null,
       "tooltip": null
      }
     },
     "234cdc1897994e5faafaef45c8a478ac": {
      "model_module": "@jupyter-widgets/base",
      "model_module_version": "2.0.0",
      "model_name": "LayoutModel",
      "state": {
       "_model_module": "@jupyter-widgets/base",
       "_model_module_version": "2.0.0",
       "_model_name": "LayoutModel",
       "_view_count": null,
       "_view_module": "@jupyter-widgets/base",
       "_view_module_version": "2.0.0",
       "_view_name": "LayoutView",
       "align_content": null,
       "align_items": null,
       "align_self": null,
       "border_bottom": null,
       "border_left": null,
       "border_right": null,
       "border_top": null,
       "bottom": null,
       "display": null,
       "flex": null,
       "flex_flow": null,
       "grid_area": null,
       "grid_auto_columns": null,
       "grid_auto_flow": null,
       "grid_auto_rows": null,
       "grid_column": null,
       "grid_gap": null,
       "grid_row": null,
       "grid_template_areas": null,
       "grid_template_columns": null,
       "grid_template_rows": null,
       "height": null,
       "justify_content": null,
       "justify_items": null,
       "left": null,
       "margin": null,
       "max_height": null,
       "max_width": null,
       "min_height": null,
       "min_width": null,
       "object_fit": null,
       "object_position": null,
       "order": null,
       "overflow": null,
       "padding": null,
       "right": null,
       "top": null,
       "visibility": null,
       "width": null
      }
     },
     "25ebeee584514372b2ff438a92883d1f": {
      "model_module": "@jupyter-widgets/base",
      "model_module_version": "2.0.0",
      "model_name": "LayoutModel",
      "state": {
       "_model_module": "@jupyter-widgets/base",
       "_model_module_version": "2.0.0",
       "_model_name": "LayoutModel",
       "_view_count": null,
       "_view_module": "@jupyter-widgets/base",
       "_view_module_version": "2.0.0",
       "_view_name": "LayoutView",
       "align_content": null,
       "align_items": null,
       "align_self": null,
       "border_bottom": null,
       "border_left": null,
       "border_right": null,
       "border_top": null,
       "bottom": null,
       "display": null,
       "flex": null,
       "flex_flow": null,
       "grid_area": null,
       "grid_auto_columns": null,
       "grid_auto_flow": null,
       "grid_auto_rows": null,
       "grid_column": null,
       "grid_gap": null,
       "grid_row": null,
       "grid_template_areas": null,
       "grid_template_columns": null,
       "grid_template_rows": null,
       "height": null,
       "justify_content": null,
       "justify_items": null,
       "left": null,
       "margin": null,
       "max_height": null,
       "max_width": null,
       "min_height": null,
       "min_width": null,
       "object_fit": null,
       "object_position": null,
       "order": null,
       "overflow": null,
       "padding": null,
       "right": null,
       "top": null,
       "visibility": null,
       "width": null
      }
     },
     "4302b962e5a14afe970203bd7ac7c69c": {
      "model_module": "@jupyter-widgets/base",
      "model_module_version": "2.0.0",
      "model_name": "LayoutModel",
      "state": {
       "_model_module": "@jupyter-widgets/base",
       "_model_module_version": "2.0.0",
       "_model_name": "LayoutModel",
       "_view_count": null,
       "_view_module": "@jupyter-widgets/base",
       "_view_module_version": "2.0.0",
       "_view_name": "LayoutView",
       "align_content": null,
       "align_items": null,
       "align_self": null,
       "border_bottom": null,
       "border_left": null,
       "border_right": null,
       "border_top": null,
       "bottom": null,
       "display": null,
       "flex": null,
       "flex_flow": null,
       "grid_area": null,
       "grid_auto_columns": null,
       "grid_auto_flow": null,
       "grid_auto_rows": null,
       "grid_column": null,
       "grid_gap": null,
       "grid_row": null,
       "grid_template_areas": null,
       "grid_template_columns": null,
       "grid_template_rows": null,
       "height": null,
       "justify_content": null,
       "justify_items": null,
       "left": null,
       "margin": null,
       "max_height": null,
       "max_width": null,
       "min_height": null,
       "min_width": null,
       "object_fit": null,
       "object_position": null,
       "order": null,
       "overflow": null,
       "padding": null,
       "right": null,
       "top": null,
       "visibility": null,
       "width": null
      }
     },
     "52004c25e323492a81a2c24a07136258": {
      "model_module": "@jupyter-widgets/base",
      "model_module_version": "2.0.0",
      "model_name": "LayoutModel",
      "state": {
       "_model_module": "@jupyter-widgets/base",
       "_model_module_version": "2.0.0",
       "_model_name": "LayoutModel",
       "_view_count": null,
       "_view_module": "@jupyter-widgets/base",
       "_view_module_version": "2.0.0",
       "_view_name": "LayoutView",
       "align_content": null,
       "align_items": null,
       "align_self": null,
       "border_bottom": null,
       "border_left": null,
       "border_right": null,
       "border_top": null,
       "bottom": null,
       "display": null,
       "flex": null,
       "flex_flow": null,
       "grid_area": null,
       "grid_auto_columns": null,
       "grid_auto_flow": null,
       "grid_auto_rows": null,
       "grid_column": null,
       "grid_gap": null,
       "grid_row": null,
       "grid_template_areas": null,
       "grid_template_columns": null,
       "grid_template_rows": null,
       "height": null,
       "justify_content": null,
       "justify_items": null,
       "left": null,
       "margin": null,
       "max_height": null,
       "max_width": null,
       "min_height": null,
       "min_width": null,
       "object_fit": null,
       "object_position": null,
       "order": null,
       "overflow": null,
       "padding": null,
       "right": null,
       "top": null,
       "visibility": null,
       "width": null
      }
     },
     "83c5071390e4428cbda9b04d089d4d4e": {
      "model_module": "@jupyter-widgets/base",
      "model_module_version": "2.0.0",
      "model_name": "LayoutModel",
      "state": {
       "_model_module": "@jupyter-widgets/base",
       "_model_module_version": "2.0.0",
       "_model_name": "LayoutModel",
       "_view_count": null,
       "_view_module": "@jupyter-widgets/base",
       "_view_module_version": "2.0.0",
       "_view_name": "LayoutView",
       "align_content": null,
       "align_items": null,
       "align_self": null,
       "border_bottom": null,
       "border_left": null,
       "border_right": null,
       "border_top": null,
       "bottom": null,
       "display": null,
       "flex": null,
       "flex_flow": null,
       "grid_area": null,
       "grid_auto_columns": null,
       "grid_auto_flow": null,
       "grid_auto_rows": null,
       "grid_column": null,
       "grid_gap": null,
       "grid_row": null,
       "grid_template_areas": null,
       "grid_template_columns": null,
       "grid_template_rows": null,
       "height": null,
       "justify_content": null,
       "justify_items": null,
       "left": null,
       "margin": null,
       "max_height": null,
       "max_width": null,
       "min_height": null,
       "min_width": null,
       "object_fit": null,
       "object_position": null,
       "order": null,
       "overflow": null,
       "padding": null,
       "right": null,
       "top": null,
       "visibility": null,
       "width": null
      }
     },
     "93a8415712924c77b481e6a4e6e2ce2e": {
      "model_module": "@jupyter-widgets/output",
      "model_module_version": "1.0.0",
      "model_name": "OutputModel",
      "state": {
       "_dom_classes": [],
       "_model_module": "@jupyter-widgets/output",
       "_model_module_version": "1.0.0",
       "_model_name": "OutputModel",
       "_view_count": null,
       "_view_module": "@jupyter-widgets/output",
       "_view_module_version": "1.0.0",
       "_view_name": "OutputView",
       "layout": "IPY_MODEL_dd3385ce9f704c6dbb5246fb64886a79",
       "msg_id": "",
       "outputs": [
        {
         "data": {
          "text/markdown": "`black_box_lcu_zero_state_block`",
          "text/plain": "<IPython.core.display.Markdown object>"
         },
         "metadata": {},
         "output_type": "display_data"
        },
        {
         "data": {
          "image/svg+xml": "<svg xmlns=\"http://www.w3.org/2000/svg\" xmlns:xlink=\"http://www.w3.org/1999/xlink\" width=\"342pt\" height=\"152pt\" viewBox=\"0.00 0.00 342.00 152.00\">\n<g id=\"graph0\" class=\"graph\" transform=\"scale(1 1) rotate(0) translate(4 148)\">\n<title>my_graph</title>\n<polygon fill=\"white\" stroke=\"transparent\" points=\"-4,4 -4,-148 338,-148 338,4 -4,4\"/>\n<!-- selection_G2 -->\n<g id=\"node1\" class=\"node\">\n<title>selection_G2</title>\n<text text-anchor=\"middle\" x=\"32.5\" y=\"-122.3\" font-family=\"Times,serif\" font-size=\"14.00\">selection</text>\n</g>\n<!-- LCUBlockEncodingZeroState -->\n<g id=\"node4\" class=\"node\">\n<title>LCUBlockEncodingZeroState</title>\n<polygon fill=\"none\" stroke=\"black\" points=\"102,-104 102,-121 232,-121 232,-104 102,-104\"/>\n<text text-anchor=\"start\" x=\"105\" y=\"-110\" font-family=\"Times,serif\" font-size=\"10.00\">LCUBlockEncodingZeroState</text>\n<polygon fill=\"none\" stroke=\"black\" points=\"102,-83 102,-104 232,-104 232,-83 102,-83\"/>\n<text text-anchor=\"start\" x=\"142.5\" y=\"-89.8\" font-family=\"Times,serif\" font-size=\"14.00\">selection</text>\n<polygon fill=\"none\" stroke=\"black\" points=\"102,-62 102,-83 232,-83 232,-62 102,-62\"/>\n<text text-anchor=\"start\" x=\"154.5\" y=\"-68.8\" font-family=\"Times,serif\" font-size=\"14.00\">junk</text>\n<polygon fill=\"none\" stroke=\"black\" points=\"102,-41 102,-62 232,-62 232,-41 102,-41\"/>\n<text text-anchor=\"start\" x=\"147.5\" y=\"-47.8\" font-family=\"Times,serif\" font-size=\"14.00\">system</text>\n</g>\n<!-- selection_G2&#45;&gt;LCUBlockEncodingZeroState -->\n<g id=\"edge1\" class=\"edge\">\n<title>selection_G2:e-&gt;LCUBlockEncodingZeroState:w</title>\n<path fill=\"none\" stroke=\"black\" d=\"M65,-126C85.89,-126 80.72,-96.45 99.58,-94.14\"/>\n<ellipse fill=\"black\" stroke=\"black\" cx=\"101\" cy=\"-94.06\" rx=\"1\" ry=\"1\"/>\n<text text-anchor=\"middle\" x=\"83.5\" y=\"-113\" font-family=\"Times,serif\" font-size=\"10.00\">12</text>\n</g>\n<!-- junk_G1 -->\n<g id=\"node2\" class=\"node\">\n<title>junk_G1</title>\n<text text-anchor=\"middle\" x=\"32.5\" y=\"-68.3\" font-family=\"Times,serif\" font-size=\"14.00\">junk</text>\n</g>\n<!-- junk_G1&#45;&gt;LCUBlockEncodingZeroState -->\n<g id=\"edge2\" class=\"edge\">\n<title>junk_G1:e-&gt;LCUBlockEncodingZeroState:w</title>\n<path fill=\"none\" stroke=\"black\" d=\"M60.5,-72C78.22,-72 83.17,-72 99.9,-72\"/>\n<ellipse fill=\"black\" stroke=\"black\" cx=\"101\" cy=\"-72\" rx=\"1\" ry=\"1\"/>\n<text text-anchor=\"middle\" x=\"83.5\" y=\"-75\" font-family=\"Times,serif\" font-size=\"10.00\">2</text>\n</g>\n<!-- system_G7 -->\n<g id=\"node3\" class=\"node\">\n<title>system_G7</title>\n<text text-anchor=\"middle\" x=\"32.5\" y=\"-14.3\" font-family=\"Times,serif\" font-size=\"14.00\">system</text>\n</g>\n<!-- system_G7&#45;&gt;LCUBlockEncodingZeroState -->\n<g id=\"edge3\" class=\"edge\">\n<title>system_G7:e-&gt;LCUBlockEncodingZeroState:w</title>\n<path fill=\"none\" stroke=\"black\" d=\"M61.5,-18C83.99,-18 79.12,-48.97 99.91,-50.91\"/>\n<ellipse fill=\"black\" stroke=\"black\" cx=\"101\" cy=\"-50.95\" rx=\"1\" ry=\"1\"/>\n<text text-anchor=\"middle\" x=\"83.5\" y=\"-42\" font-family=\"Times,serif\" font-size=\"10.00\">12</text>\n</g>\n<!-- selection_G8 -->\n<g id=\"node5\" class=\"node\">\n<title>selection_G8</title>\n<text text-anchor=\"middle\" x=\"301.5\" y=\"-122.3\" font-family=\"Times,serif\" font-size=\"14.00\">selection</text>\n</g>\n<!-- LCUBlockEncodingZeroState&#45;&gt;selection_G8 -->\n<g id=\"edge4\" class=\"edge\">\n<title>LCUBlockEncodingZeroState:e-&gt;selection_G8:w</title>\n<path fill=\"none\" stroke=\"black\" d=\"M232,-94C252.89,-94 247.72,-123.55 266.58,-125.86\"/>\n<ellipse fill=\"black\" stroke=\"black\" cx=\"268\" cy=\"-125.94\" rx=\"1\" ry=\"1\"/>\n<text text-anchor=\"middle\" x=\"250.5\" y=\"-113\" font-family=\"Times,serif\" font-size=\"10.00\">12</text>\n</g>\n<!-- junk_G5 -->\n<g id=\"node6\" class=\"node\">\n<title>junk_G5</title>\n<text text-anchor=\"middle\" x=\"301.5\" y=\"-68.3\" font-family=\"Times,serif\" font-size=\"14.00\">junk</text>\n</g>\n<!-- LCUBlockEncodingZeroState&#45;&gt;junk_G5 -->\n<g id=\"edge5\" class=\"edge\">\n<title>LCUBlockEncodingZeroState:e-&gt;junk_G5:w</title>\n<path fill=\"none\" stroke=\"black\" d=\"M232,-72C249.72,-72 254.67,-72 271.4,-72\"/>\n<ellipse fill=\"black\" stroke=\"black\" cx=\"272.5\" cy=\"-72\" rx=\"1\" ry=\"1\"/>\n<text text-anchor=\"middle\" x=\"250.5\" y=\"-75\" font-family=\"Times,serif\" font-size=\"10.00\">2</text>\n</g>\n<!-- system_G3 -->\n<g id=\"node7\" class=\"node\">\n<title>system_G3</title>\n<text text-anchor=\"middle\" x=\"301.5\" y=\"-14.3\" font-family=\"Times,serif\" font-size=\"14.00\">system</text>\n</g>\n<!-- LCUBlockEncodingZeroState&#45;&gt;system_G3 -->\n<g id=\"edge6\" class=\"edge\">\n<title>LCUBlockEncodingZeroState:e-&gt;system_G3:w</title>\n<path fill=\"none\" stroke=\"black\" d=\"M232,-51C254.49,-51 249.62,-20.03 270.41,-18.09\"/>\n<ellipse fill=\"black\" stroke=\"black\" cx=\"271.5\" cy=\"-18.05\" rx=\"1\" ry=\"1\"/>\n<text text-anchor=\"middle\" x=\"250.5\" y=\"-42\" font-family=\"Times,serif\" font-size=\"10.00\">12</text>\n</g>\n</g>\n</svg>",
          "text/plain": "<IPython.core.display.SVG object>"
         },
         "metadata": {},
         "output_type": "display_data"
        }
       ],
       "tabbable": null,
       "tooltip": null
      }
     },
     "9dda917a818948d396959caf35adaec9": {
      "model_module": "@jupyter-widgets/output",
      "model_module_version": "1.0.0",
      "model_name": "OutputModel",
      "state": {
       "_dom_classes": [],
       "_model_module": "@jupyter-widgets/output",
       "_model_module_version": "1.0.0",
       "_model_name": "OutputModel",
       "_view_count": null,
       "_view_module": "@jupyter-widgets/output",
       "_view_module_version": "1.0.0",
       "_view_name": "OutputView",
       "layout": "IPY_MODEL_234cdc1897994e5faafaef45c8a478ac",
       "msg_id": "",
       "outputs": [
        {
         "data": {
          "text/markdown": "`black_box_lcu_block`",
          "text/plain": "<IPython.core.display.Markdown object>"
         },
         "metadata": {},
         "output_type": "display_data"
        },
        {
         "data": {
          "image/svg+xml": "<svg xmlns=\"http://www.w3.org/2000/svg\" xmlns:xlink=\"http://www.w3.org/1999/xlink\" width=\"303pt\" height=\"152pt\" viewBox=\"0.00 0.00 303.00 152.00\">\n<g id=\"graph0\" class=\"graph\" transform=\"scale(1 1) rotate(0) translate(4 148)\">\n<title>my_graph</title>\n<polygon fill=\"white\" stroke=\"transparent\" points=\"-4,4 -4,-148 299,-148 299,4 -4,4\"/>\n<!-- selection_G2 -->\n<g id=\"node1\" class=\"node\">\n<title>selection_G2</title>\n<text text-anchor=\"middle\" x=\"32.5\" y=\"-122.3\" font-family=\"Times,serif\" font-size=\"14.00\">selection</text>\n</g>\n<!-- LCUBlockEncoding -->\n<g id=\"node4\" class=\"node\">\n<title>LCUBlockEncoding</title>\n<polygon fill=\"none\" stroke=\"black\" points=\"102.5,-104 102.5,-121 193.5,-121 193.5,-104 102.5,-104\"/>\n<text text-anchor=\"start\" x=\"105.5\" y=\"-110\" font-family=\"Times,serif\" font-size=\"10.00\">LCUBlockEncoding</text>\n<polygon fill=\"none\" stroke=\"black\" points=\"102.5,-83 102.5,-104 193.5,-104 193.5,-83 102.5,-83\"/>\n<text text-anchor=\"start\" x=\"123.5\" y=\"-89.8\" font-family=\"Times,serif\" font-size=\"14.00\">selection</text>\n<polygon fill=\"none\" stroke=\"black\" points=\"102.5,-62 102.5,-83 193.5,-83 193.5,-62 102.5,-62\"/>\n<text text-anchor=\"start\" x=\"135.5\" y=\"-68.8\" font-family=\"Times,serif\" font-size=\"14.00\">junk</text>\n<polygon fill=\"none\" stroke=\"black\" points=\"102.5,-41 102.5,-62 193.5,-62 193.5,-41 102.5,-41\"/>\n<text text-anchor=\"start\" x=\"128.5\" y=\"-47.8\" font-family=\"Times,serif\" font-size=\"14.00\">system</text>\n</g>\n<!-- selection_G2&#45;&gt;LCUBlockEncoding -->\n<g id=\"edge1\" class=\"edge\">\n<title>selection_G2:e-&gt;LCUBlockEncoding:w</title>\n<path fill=\"none\" stroke=\"black\" d=\"M65,-126C85.89,-126 80.72,-96.45 99.58,-94.14\"/>\n<ellipse fill=\"black\" stroke=\"black\" cx=\"101\" cy=\"-94.06\" rx=\"1\" ry=\"1\"/>\n<text text-anchor=\"middle\" x=\"83.5\" y=\"-113\" font-family=\"Times,serif\" font-size=\"10.00\">12</text>\n</g>\n<!-- junk_G0 -->\n<g id=\"node2\" class=\"node\">\n<title>junk_G0</title>\n<text text-anchor=\"middle\" x=\"32.5\" y=\"-68.3\" font-family=\"Times,serif\" font-size=\"14.00\">junk</text>\n</g>\n<!-- junk_G0&#45;&gt;LCUBlockEncoding -->\n<g id=\"edge2\" class=\"edge\">\n<title>junk_G0:e-&gt;LCUBlockEncoding:w</title>\n<path fill=\"none\" stroke=\"black\" d=\"M60.5,-72C78.22,-72 83.17,-72 99.9,-72\"/>\n<ellipse fill=\"black\" stroke=\"black\" cx=\"101\" cy=\"-72\" rx=\"1\" ry=\"1\"/>\n<text text-anchor=\"middle\" x=\"83.5\" y=\"-75\" font-family=\"Times,serif\" font-size=\"10.00\">2</text>\n</g>\n<!-- system_G7 -->\n<g id=\"node3\" class=\"node\">\n<title>system_G7</title>\n<text text-anchor=\"middle\" x=\"32.5\" y=\"-14.3\" font-family=\"Times,serif\" font-size=\"14.00\">system</text>\n</g>\n<!-- system_G7&#45;&gt;LCUBlockEncoding -->\n<g id=\"edge3\" class=\"edge\">\n<title>system_G7:e-&gt;LCUBlockEncoding:w</title>\n<path fill=\"none\" stroke=\"black\" d=\"M61.5,-18C83.99,-18 79.12,-48.97 99.91,-50.91\"/>\n<ellipse fill=\"black\" stroke=\"black\" cx=\"101\" cy=\"-50.95\" rx=\"1\" ry=\"1\"/>\n<text text-anchor=\"middle\" x=\"83.5\" y=\"-42\" font-family=\"Times,serif\" font-size=\"10.00\">12</text>\n</g>\n<!-- selection_G8 -->\n<g id=\"node5\" class=\"node\">\n<title>selection_G8</title>\n<text text-anchor=\"middle\" x=\"262.5\" y=\"-122.3\" font-family=\"Times,serif\" font-size=\"14.00\">selection</text>\n</g>\n<!-- LCUBlockEncoding&#45;&gt;selection_G8 -->\n<g id=\"edge4\" class=\"edge\">\n<title>LCUBlockEncoding:e-&gt;selection_G8:w</title>\n<path fill=\"none\" stroke=\"black\" d=\"M193,-94C213.89,-94 208.72,-123.55 227.58,-125.86\"/>\n<ellipse fill=\"black\" stroke=\"black\" cx=\"229\" cy=\"-125.94\" rx=\"1\" ry=\"1\"/>\n<text text-anchor=\"middle\" x=\"211.5\" y=\"-113\" font-family=\"Times,serif\" font-size=\"10.00\">12</text>\n</g>\n<!-- junk_G5 -->\n<g id=\"node6\" class=\"node\">\n<title>junk_G5</title>\n<text text-anchor=\"middle\" x=\"262.5\" y=\"-68.3\" font-family=\"Times,serif\" font-size=\"14.00\">junk</text>\n</g>\n<!-- LCUBlockEncoding&#45;&gt;junk_G5 -->\n<g id=\"edge5\" class=\"edge\">\n<title>LCUBlockEncoding:e-&gt;junk_G5:w</title>\n<path fill=\"none\" stroke=\"black\" d=\"M193,-72C210.72,-72 215.67,-72 232.4,-72\"/>\n<ellipse fill=\"black\" stroke=\"black\" cx=\"233.5\" cy=\"-72\" rx=\"1\" ry=\"1\"/>\n<text text-anchor=\"middle\" x=\"211.5\" y=\"-75\" font-family=\"Times,serif\" font-size=\"10.00\">2</text>\n</g>\n<!-- system_G3 -->\n<g id=\"node7\" class=\"node\">\n<title>system_G3</title>\n<text text-anchor=\"middle\" x=\"262.5\" y=\"-14.3\" font-family=\"Times,serif\" font-size=\"14.00\">system</text>\n</g>\n<!-- LCUBlockEncoding&#45;&gt;system_G3 -->\n<g id=\"edge6\" class=\"edge\">\n<title>LCUBlockEncoding:e-&gt;system_G3:w</title>\n<path fill=\"none\" stroke=\"black\" d=\"M193,-51C215.49,-51 210.62,-20.03 231.41,-18.09\"/>\n<ellipse fill=\"black\" stroke=\"black\" cx=\"232.5\" cy=\"-18.05\" rx=\"1\" ry=\"1\"/>\n<text text-anchor=\"middle\" x=\"211.5\" y=\"-42\" font-family=\"Times,serif\" font-size=\"10.00\">12</text>\n</g>\n</g>\n</svg>",
          "text/plain": "<IPython.core.display.SVG object>"
         },
         "metadata": {},
         "output_type": "display_data"
        }
       ],
       "tabbable": null,
       "tooltip": null
      }
     },
     "c0dd9cdd587d45a5910d4576fe3213ef": {
      "model_module": "@jupyter-widgets/base",
      "model_module_version": "2.0.0",
      "model_name": "LayoutModel",
      "state": {
       "_model_module": "@jupyter-widgets/base",
       "_model_module_version": "2.0.0",
       "_model_name": "LayoutModel",
       "_view_count": null,
       "_view_module": "@jupyter-widgets/base",
       "_view_module_version": "2.0.0",
       "_view_name": "LayoutView",
       "align_content": null,
       "align_items": null,
       "align_self": null,
       "border_bottom": null,
       "border_left": null,
       "border_right": null,
       "border_top": null,
       "bottom": null,
       "display": null,
       "flex": null,
       "flex_flow": null,
       "grid_area": null,
       "grid_auto_columns": null,
       "grid_auto_flow": null,
       "grid_auto_rows": null,
       "grid_column": null,
       "grid_gap": null,
       "grid_row": null,
       "grid_template_areas": null,
       "grid_template_columns": null,
       "grid_template_rows": null,
       "height": null,
       "justify_content": null,
       "justify_items": null,
       "left": null,
       "margin": null,
       "max_height": null,
       "max_width": null,
       "min_height": null,
       "min_width": null,
       "object_fit": null,
       "object_position": null,
       "order": null,
       "overflow": null,
       "padding": null,
       "right": null,
       "top": null,
       "visibility": null,
       "width": null
      }
     },
     "dd3385ce9f704c6dbb5246fb64886a79": {
      "model_module": "@jupyter-widgets/base",
      "model_module_version": "2.0.0",
      "model_name": "LayoutModel",
      "state": {
       "_model_module": "@jupyter-widgets/base",
       "_model_module_version": "2.0.0",
       "_model_name": "LayoutModel",
       "_view_count": null,
       "_view_module": "@jupyter-widgets/base",
       "_view_module_version": "2.0.0",
       "_view_name": "LayoutView",
       "align_content": null,
       "align_items": null,
       "align_self": null,
       "border_bottom": null,
       "border_left": null,
       "border_right": null,
       "border_top": null,
       "bottom": null,
       "display": null,
       "flex": null,
       "flex_flow": null,
       "grid_area": null,
       "grid_auto_columns": null,
       "grid_auto_flow": null,
       "grid_auto_rows": null,
       "grid_column": null,
       "grid_gap": null,
       "grid_row": null,
       "grid_template_areas": null,
       "grid_template_columns": null,
       "grid_template_rows": null,
       "height": null,
       "justify_content": null,
       "justify_items": null,
       "left": null,
       "margin": null,
       "max_height": null,
       "max_width": null,
       "min_height": null,
       "min_width": null,
       "object_fit": null,
       "object_position": null,
       "order": null,
       "overflow": null,
       "padding": null,
       "right": null,
       "top": null,
       "visibility": null,
       "width": null
      }
     },
     "e30dd5b6a29d494993680cf63eecbe54": {
      "model_module": "@jupyter-widgets/controls",
      "model_module_version": "2.0.0",
      "model_name": "HBoxModel",
      "state": {
       "_dom_classes": [],
       "_model_module": "@jupyter-widgets/controls",
       "_model_module_version": "2.0.0",
       "_model_name": "HBoxModel",
       "_view_count": null,
       "_view_module": "@jupyter-widgets/controls",
       "_view_module_version": "2.0.0",
       "_view_name": "HBoxView",
       "box_style": "",
       "children": [
        "IPY_MODEL_0ba27997afe143dc841677d2f17ddf64",
        "IPY_MODEL_09305102bc964a45aaf749b9571fa210"
       ],
       "layout": "IPY_MODEL_f4d2d6eb6df746878a33579dfaf284d4",
       "tabbable": null,
       "tooltip": null
      }
     },
     "f4d2d6eb6df746878a33579dfaf284d4": {
      "model_module": "@jupyter-widgets/base",
      "model_module_version": "2.0.0",
      "model_name": "LayoutModel",
      "state": {
       "_model_module": "@jupyter-widgets/base",
       "_model_module_version": "2.0.0",
       "_model_name": "LayoutModel",
       "_view_count": null,
       "_view_module": "@jupyter-widgets/base",
       "_view_module_version": "2.0.0",
       "_view_name": "LayoutView",
       "align_content": null,
       "align_items": null,
       "align_self": null,
       "border_bottom": null,
       "border_left": null,
       "border_right": null,
       "border_top": null,
       "bottom": null,
       "display": null,
       "flex": null,
       "flex_flow": null,
       "grid_area": null,
       "grid_auto_columns": null,
       "grid_auto_flow": null,
       "grid_auto_rows": null,
       "grid_column": null,
       "grid_gap": null,
       "grid_row": null,
       "grid_template_areas": null,
       "grid_template_columns": null,
       "grid_template_rows": null,
       "height": null,
       "justify_content": null,
       "justify_items": null,
       "left": null,
       "margin": null,
       "max_height": null,
       "max_width": null,
       "min_height": null,
       "min_width": null,
       "object_fit": null,
       "object_position": null,
       "order": null,
       "overflow": null,
       "padding": null,
       "right": null,
       "top": null,
       "visibility": null,
       "width": null
      }
     },
     "fb5796264914470b9767ff9642d62fed": {
      "model_module": "@jupyter-widgets/base",
      "model_module_version": "2.0.0",
      "model_name": "LayoutModel",
      "state": {
       "_model_module": "@jupyter-widgets/base",
       "_model_module_version": "2.0.0",
       "_model_name": "LayoutModel",
       "_view_count": null,
       "_view_module": "@jupyter-widgets/base",
       "_view_module_version": "2.0.0",
       "_view_name": "LayoutView",
       "align_content": null,
       "align_items": null,
       "align_self": null,
       "border_bottom": null,
       "border_left": null,
       "border_right": null,
       "border_top": null,
       "bottom": null,
       "display": null,
       "flex": null,
       "flex_flow": null,
       "grid_area": null,
       "grid_auto_columns": null,
       "grid_auto_flow": null,
       "grid_auto_rows": null,
       "grid_column": null,
       "grid_gap": null,
       "grid_row": null,
       "grid_template_areas": null,
       "grid_template_columns": null,
       "grid_template_rows": null,
       "height": null,
       "justify_content": null,
       "justify_items": null,
       "left": null,
       "margin": null,
       "max_height": null,
       "max_width": null,
       "min_height": null,
       "min_width": null,
       "object_fit": null,
       "object_position": null,
       "order": null,
       "overflow": null,
       "padding": null,
       "right": null,
       "top": null,
       "visibility": null,
       "width": null
      }
     }
    },
    "version_major": 2,
    "version_minor": 0
   }
  }
 },
 "nbformat": 4,
 "nbformat_minor": 5
}
