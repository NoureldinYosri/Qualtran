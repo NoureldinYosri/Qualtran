{
 "cells": [
  {
   "cell_type": "markdown",
   "id": "7f85bcf7",
   "metadata": {
    "cq.autogen": "title_cell"
   },
   "source": [
    "# Phase"
   ]
  },
  {
   "cell_type": "code",
   "execution_count": 1,
   "id": "9425e59d",
   "metadata": {
    "cq.autogen": "top_imports"
   },
   "outputs": [],
   "source": [
    "from qualtran import Bloq, CompositeBloq, BloqBuilder, Signature, Register\n",
    "from qualtran import QBit, QInt, QUInt, QAny\n",
    "from qualtran.drawing import show_bloq, show_call_graph, show_counts_sigma\n",
    "from typing import *\n",
    "import numpy as np\n",
    "import sympy\n",
    "import cirq"
   ]
  },
  {
   "cell_type": "markdown",
   "id": "cab11f17",
   "metadata": {
    "cq.autogen": "Phase.bloq_doc.md"
   },
   "source": [
    "## `Phase`\n",
    "Apply a phase to a block encoding.\n",
    "\n",
    "Given $B[A]$ as a $(\\alpha, a, \\epsilon)$-block encoding of $A$, produces a\n",
    "$(\\alpha, a, \\epsilon)$-block encoding of $\\exp(i\\pi\\phi)A$.\n",
    "\n",
    "#### Parameters\n",
    " - `block_encoding`: The block encoding to apply a phase to.\n",
    " - `phi`: The phase angle.\n",
    " - `eps`: The precision of the phase angle. \n",
    "\n",
    "#### Registers\n",
    " - `system`: The system register.\n",
    " - `ancilla`: The ancilla register (present only if bitsize > 0).\n",
    " - `resource`: The resource register (present only if bitsize > 0).\n"
   ]
  },
  {
   "cell_type": "code",
   "execution_count": 2,
   "id": "b3b17d4f",
   "metadata": {
    "cq.autogen": "Phase.bloq_doc.py"
   },
   "outputs": [],
   "source": [
    "from qualtran.bloqs.block_encoding import Phase"
   ]
  },
  {
   "cell_type": "markdown",
   "id": "9d300310",
   "metadata": {
    "cq.autogen": "Phase.example_instances.md"
   },
   "source": [
    "### Example Instances"
   ]
  },
  {
   "cell_type": "code",
   "execution_count": 3,
   "id": "62539a3e",
   "metadata": {
    "cq.autogen": "Phase.phase_block_encoding"
   },
   "outputs": [],
   "source": [
    "from qualtran.bloqs.basic_gates import Hadamard\n",
    "from qualtran.bloqs.block_encoding.unitary import Unitary\n",
    "\n",
    "phase_block_encoding = Phase(Unitary(Hadamard()), phi=0.25, eps=0)"
   ]
  },
  {
   "cell_type": "markdown",
   "id": "a7522032",
   "metadata": {
    "cq.autogen": "Phase.graphical_signature.md"
   },
   "source": [
    "#### Graphical Signature"
   ]
  },
  {
   "cell_type": "code",
   "execution_count": 4,
   "id": "aad41f5c",
   "metadata": {
    "cq.autogen": "Phase.graphical_signature.py"
   },
   "outputs": [
    {
     "data": {
      "application/vnd.jupyter.widget-view+json": {
       "model_id": "e84593746fa14629846616249a79ba4c",
       "version_major": 2,
       "version_minor": 0
      },
      "text/plain": [
       "HBox(children=(Output(outputs=({'output_type': 'display_data', 'data': {'text/plain': '<IPython.core.display.M…"
      ]
     },
     "metadata": {},
     "output_type": "display_data"
    }
   ],
   "source": [
    "from qualtran.drawing import show_bloqs\n",
    "show_bloqs([phase_block_encoding],\n",
    "           ['`phase_block_encoding`'])"
   ]
  },
  {
   "cell_type": "markdown",
   "id": "c2a7f83d",
   "metadata": {
    "cq.autogen": "Phase.call_graph.md"
   },
   "source": [
    "### Call Graph"
   ]
  },
  {
   "cell_type": "code",
   "execution_count": 5,
   "id": "755d7f35",
   "metadata": {
    "cq.autogen": "Phase.call_graph.py"
   },
   "outputs": [
    {
     "data": {
      "image/svg+xml": [
       "<svg xmlns=\"http://www.w3.org/2000/svg\" xmlns:xlink=\"http://www.w3.org/1999/xlink\" width=\"606pt\" height=\"131pt\" viewBox=\"0.00 0.00 606.00 131.00\">\n",
       "<g id=\"graph0\" class=\"graph\" transform=\"scale(1 1) rotate(0) translate(4 127)\">\n",
       "<title>counts</title>\n",
       "<polygon fill=\"white\" stroke=\"transparent\" points=\"-4,4 -4,-127 602,-127 602,4 -4,4\"/>\n",
       "<!-- b0 -->\n",
       "<g id=\"node1\" class=\"node\">\n",
       "<title>b0</title>\n",
       "<polygon fill=\"none\" stroke=\"black\" points=\"516,-123 235,-123 235,-87 516,-87 516,-123\"/>\n",
       "<text text-anchor=\"start\" x=\"309.5\" y=\"-106.8\" font-family=\"Times,serif\" font-size=\"14.00\">B[exp(0.25i)Hadamard]</text>\n",
       "<text text-anchor=\"start\" x=\"243\" y=\"-96\" font-family=\"monospace\" font-size=\"10.00\">block_encoding=Unitary( ..., phi=0.25, eps=0</text>\n",
       "</g>\n",
       "<!-- b1 -->\n",
       "<g id=\"node2\" class=\"node\">\n",
       "<title>b1</title>\n",
       "<polygon fill=\"none\" stroke=\"black\" points=\"443,-36 0,-36 0,0 443,0 443,-36\"/>\n",
       "<text text-anchor=\"start\" x=\"183.5\" y=\"-19.8\" font-family=\"Times,serif\" font-size=\"14.00\">B[Hadamard]</text>\n",
       "<text text-anchor=\"start\" x=\"8\" y=\"-9\" font-family=\"monospace\" font-size=\"10.00\">U=Hadamard(), alpha=1, ancilla_bitsize=0, resource_bitsize=0, epsilon=0</text>\n",
       "</g>\n",
       "<!-- b0&#45;&gt;b1 -->\n",
       "<g id=\"edge1\" class=\"edge\">\n",
       "<title>b0-&gt;b1</title>\n",
       "<path fill=\"none\" stroke=\"black\" d=\"M344.34,-86.8C320.36,-73.56 287.05,-55.18 261.17,-40.9\"/>\n",
       "<polygon fill=\"black\" stroke=\"black\" points=\"262.8,-37.8 252.35,-36.03 259.42,-43.93 262.8,-37.8\"/>\n",
       "<text text-anchor=\"middle\" x=\"312\" y=\"-57.8\" font-family=\"Times,serif\" font-size=\"14.00\">1</text>\n",
       "</g>\n",
       "<!-- b2 -->\n",
       "<g id=\"node3\" class=\"node\">\n",
       "<title>b2</title>\n",
       "<polygon fill=\"none\" stroke=\"black\" points=\"598,-36 461,-36 461,0 598,0 598,-36\"/>\n",
       "<text text-anchor=\"start\" x=\"508.5\" y=\"-19.8\" font-family=\"Times,serif\" font-size=\"14.00\">GPhase</text>\n",
       "<text text-anchor=\"start\" x=\"469\" y=\"-9\" font-family=\"monospace\" font-size=\"10.00\">exponent=0.25, eps=0</text>\n",
       "</g>\n",
       "<!-- b0&#45;&gt;b2 -->\n",
       "<g id=\"edge2\" class=\"edge\">\n",
       "<title>b0-&gt;b2</title>\n",
       "<path fill=\"none\" stroke=\"black\" d=\"M406.66,-86.8C430.64,-73.56 463.95,-55.18 489.83,-40.9\"/>\n",
       "<polygon fill=\"black\" stroke=\"black\" points=\"491.58,-43.93 498.65,-36.03 488.2,-37.8 491.58,-43.93\"/>\n",
       "<text text-anchor=\"middle\" x=\"466\" y=\"-57.8\" font-family=\"Times,serif\" font-size=\"14.00\">1</text>\n",
       "</g>\n",
       "</g>\n",
       "</svg>"
      ],
      "text/plain": [
       "<IPython.core.display.SVG object>"
      ]
     },
     "metadata": {},
     "output_type": "display_data"
    },
    {
     "data": {
      "text/markdown": [
       "#### Counts totals:\n",
       " - `GPhase((0.7071067811865476+0.7071067811865475j))`: 1\n",
       " - `Unitary`: 1"
      ],
      "text/plain": [
       "<IPython.core.display.Markdown object>"
      ]
     },
     "metadata": {},
     "output_type": "display_data"
    }
   ],
   "source": [
    "from qualtran.resource_counting.generalizers import ignore_split_join\n",
    "phase_block_encoding_g, phase_block_encoding_sigma = phase_block_encoding.call_graph(max_depth=1, generalizer=ignore_split_join)\n",
    "show_call_graph(phase_block_encoding_g)\n",
    "show_counts_sigma(phase_block_encoding_sigma)"
   ]
  }
 ],
 "metadata": {
  "kernelspec": {
   "display_name": "Python 3",
   "language": "python",
   "name": "python3"
  },
  "language_info": {
   "codemirror_mode": {
    "name": "ipython",
    "version": 3
   },
   "file_extension": ".py",
   "mimetype": "text/x-python",
   "name": "python",
   "nbconvert_exporter": "python",
   "pygments_lexer": "ipython3",
   "version": "3.11.8"
  },
  "widgets": {
   "application/vnd.jupyter.widget-state+json": {
    "state": {
     "422e0bb26ee445e0974756147a5e4ad4": {
      "model_module": "@jupyter-widgets/output",
      "model_module_version": "1.0.0",
      "model_name": "OutputModel",
      "state": {
       "_dom_classes": [],
       "_model_module": "@jupyter-widgets/output",
       "_model_module_version": "1.0.0",
       "_model_name": "OutputModel",
       "_view_count": null,
       "_view_module": "@jupyter-widgets/output",
       "_view_module_version": "1.0.0",
       "_view_name": "OutputView",
       "layout": "IPY_MODEL_9db96ecbfde843a3918617bd534d974a",
       "msg_id": "",
       "outputs": [
        {
         "data": {
          "text/markdown": "`phase_block_encoding`",
          "text/plain": "<IPython.core.display.Markdown object>"
         },
         "metadata": {},
         "output_type": "display_data"
        },
        {
         "data": {
          "image/svg+xml": "<svg xmlns=\"http://www.w3.org/2000/svg\" xmlns:xlink=\"http://www.w3.org/1999/xlink\" width=\"237pt\" height=\"54pt\" viewBox=\"0.00 0.00 237.00 54.00\">\n<g id=\"graph0\" class=\"graph\" transform=\"scale(1 1) rotate(0) translate(4 50)\">\n<title>my_graph</title>\n<polygon fill=\"white\" stroke=\"transparent\" points=\"-4,4 -4,-50 233,-50 233,4 -4,4\"/>\n<!-- system_G1 -->\n<g id=\"node1\" class=\"node\">\n<title>system_G1</title>\n<text text-anchor=\"middle\" x=\"27.5\" y=\"-14.3\" font-family=\"Times,serif\" font-size=\"14.00\">system</text>\n</g>\n<!-- Phase -->\n<g id=\"node2\" class=\"node\">\n<title>Phase</title>\n<polygon fill=\"none\" stroke=\"black\" points=\"92.5,-29 92.5,-46 137.5,-46 137.5,-29 92.5,-29\"/>\n<text text-anchor=\"start\" x=\"103\" y=\"-35\" font-family=\"Times,serif\" font-size=\"10.00\">Phase</text>\n<polygon fill=\"none\" stroke=\"black\" points=\"92.5,-8 92.5,-29 137.5,-29 137.5,-8 92.5,-8\"/>\n<text text-anchor=\"start\" x=\"95.5\" y=\"-14.8\" font-family=\"Times,serif\" font-size=\"14.00\">system</text>\n</g>\n<!-- system_G1&#45;&gt;Phase -->\n<g id=\"edge1\" class=\"edge\">\n<title>system_G1:e-&gt;Phase:w</title>\n<path fill=\"none\" stroke=\"black\" d=\"M55,-18C70.67,-18 75.14,-18 89.77,-18\"/>\n<ellipse fill=\"black\" stroke=\"black\" cx=\"91\" cy=\"-18\" rx=\"1\" ry=\"1\"/>\n<text text-anchor=\"middle\" x=\"73.5\" y=\"-21\" font-family=\"Times,serif\" font-size=\"10.00\">1</text>\n</g>\n<!-- system_G2 -->\n<g id=\"node3\" class=\"node\">\n<title>system_G2</title>\n<text text-anchor=\"middle\" x=\"201.5\" y=\"-14.3\" font-family=\"Times,serif\" font-size=\"14.00\">system</text>\n</g>\n<!-- Phase&#45;&gt;system_G2 -->\n<g id=\"edge2\" class=\"edge\">\n<title>Phase:e-&gt;system_G2:w</title>\n<path fill=\"none\" stroke=\"black\" d=\"M137,-18C152.67,-18 157.14,-18 171.77,-18\"/>\n<ellipse fill=\"black\" stroke=\"black\" cx=\"173\" cy=\"-18\" rx=\"1\" ry=\"1\"/>\n<text text-anchor=\"middle\" x=\"155.5\" y=\"-21\" font-family=\"Times,serif\" font-size=\"10.00\">1</text>\n</g>\n</g>\n</svg>",
          "text/plain": "<IPython.core.display.SVG object>"
         },
         "metadata": {},
         "output_type": "display_data"
        }
       ],
       "tabbable": null,
       "tooltip": null
      }
     },
     "5c99feec7c7048b69f5fa20a83521898": {
      "model_module": "@jupyter-widgets/base",
      "model_module_version": "2.0.0",
      "model_name": "LayoutModel",
      "state": {
       "_model_module": "@jupyter-widgets/base",
       "_model_module_version": "2.0.0",
       "_model_name": "LayoutModel",
       "_view_count": null,
       "_view_module": "@jupyter-widgets/base",
       "_view_module_version": "2.0.0",
       "_view_name": "LayoutView",
       "align_content": null,
       "align_items": null,
       "align_self": null,
       "border_bottom": null,
       "border_left": null,
       "border_right": null,
       "border_top": null,
       "bottom": null,
       "display": null,
       "flex": null,
       "flex_flow": null,
       "grid_area": null,
       "grid_auto_columns": null,
       "grid_auto_flow": null,
       "grid_auto_rows": null,
       "grid_column": null,
       "grid_gap": null,
       "grid_row": null,
       "grid_template_areas": null,
       "grid_template_columns": null,
       "grid_template_rows": null,
       "height": null,
       "justify_content": null,
       "justify_items": null,
       "left": null,
       "margin": null,
       "max_height": null,
       "max_width": null,
       "min_height": null,
       "min_width": null,
       "object_fit": null,
       "object_position": null,
       "order": null,
       "overflow": null,
       "padding": null,
       "right": null,
       "top": null,
       "visibility": null,
       "width": null
      }
     },
     "9db96ecbfde843a3918617bd534d974a": {
      "model_module": "@jupyter-widgets/base",
      "model_module_version": "2.0.0",
      "model_name": "LayoutModel",
      "state": {
       "_model_module": "@jupyter-widgets/base",
       "_model_module_version": "2.0.0",
       "_model_name": "LayoutModel",
       "_view_count": null,
       "_view_module": "@jupyter-widgets/base",
       "_view_module_version": "2.0.0",
       "_view_name": "LayoutView",
       "align_content": null,
       "align_items": null,
       "align_self": null,
       "border_bottom": null,
       "border_left": null,
       "border_right": null,
       "border_top": null,
       "bottom": null,
       "display": null,
       "flex": null,
       "flex_flow": null,
       "grid_area": null,
       "grid_auto_columns": null,
       "grid_auto_flow": null,
       "grid_auto_rows": null,
       "grid_column": null,
       "grid_gap": null,
       "grid_row": null,
       "grid_template_areas": null,
       "grid_template_columns": null,
       "grid_template_rows": null,
       "height": null,
       "justify_content": null,
       "justify_items": null,
       "left": null,
       "margin": null,
       "max_height": null,
       "max_width": null,
       "min_height": null,
       "min_width": null,
       "object_fit": null,
       "object_position": null,
       "order": null,
       "overflow": null,
       "padding": null,
       "right": null,
       "top": null,
       "visibility": null,
       "width": null
      }
     },
     "e84593746fa14629846616249a79ba4c": {
      "model_module": "@jupyter-widgets/controls",
      "model_module_version": "2.0.0",
      "model_name": "HBoxModel",
      "state": {
       "_dom_classes": [],
       "_model_module": "@jupyter-widgets/controls",
       "_model_module_version": "2.0.0",
       "_model_name": "HBoxModel",
       "_view_count": null,
       "_view_module": "@jupyter-widgets/controls",
       "_view_module_version": "2.0.0",
       "_view_name": "HBoxView",
       "box_style": "",
       "children": [
        "IPY_MODEL_422e0bb26ee445e0974756147a5e4ad4"
       ],
       "layout": "IPY_MODEL_5c99feec7c7048b69f5fa20a83521898",
       "tabbable": null,
       "tooltip": null
      }
     }
    },
    "version_major": 2,
    "version_minor": 0
   }
  }
 },
 "nbformat": 4,
 "nbformat_minor": 5
}
