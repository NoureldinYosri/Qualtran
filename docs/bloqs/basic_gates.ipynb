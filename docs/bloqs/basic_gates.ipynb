{
 "cells": [
  {
   "cell_type": "markdown",
   "id": "4881cd25",
   "metadata": {
    "cq.autogen": "title_cell"
   },
   "source": [
    "# Basic Gates"
   ]
  },
  {
   "cell_type": "code",
   "execution_count": 1,
   "id": "0ab859e3",
   "metadata": {
    "cq.autogen": "top_imports",
    "execution": {
     "iopub.execute_input": "2023-07-14T16:47:52.606072Z",
     "iopub.status.busy": "2023-07-14T16:47:52.605688Z",
     "iopub.status.idle": "2023-07-14T16:47:53.762216Z",
     "shell.execute_reply": "2023-07-14T16:47:53.761623Z"
    }
   },
   "outputs": [],
   "source": [
    "from qualtran import Bloq, CompositeBloq, BloqBuilder, Signature, Register\n",
    "from qualtran.drawing import show_bloq\n",
    "from typing import *\n",
    "import numpy as np"
   ]
  },
  {
   "cell_type": "markdown",
   "id": "eaa7fa6e",
   "metadata": {
    "cq.autogen": "_make_CNOT.md"
   },
   "source": [
    "## `CNOT`\n",
    "Two-qubit controlled-NOT.\n",
    "\n",
    "Registers:\n",
    " - ctrl: One-bit control register.\n",
    " - target: One-bit target register."
   ]
  },
  {
   "cell_type": "code",
   "execution_count": 2,
   "id": "9515f273",
   "metadata": {
    "cq.autogen": "_make_CNOT.py",
    "execution": {
     "iopub.execute_input": "2023-07-14T16:47:53.767668Z",
     "iopub.status.busy": "2023-07-14T16:47:53.767047Z",
     "iopub.status.idle": "2023-07-14T16:47:55.491870Z",
     "shell.execute_reply": "2023-07-14T16:47:55.491012Z"
    }
   },
   "outputs": [
    {
     "data": {
      "image/svg+xml": [
       "<svg xmlns=\"http://www.w3.org/2000/svg\" xmlns:xlink=\"http://www.w3.org/1999/xlink\" width=\"227pt\" height=\"98pt\" viewBox=\"0.00 0.00 227.00 98.00\">\n",
       "<g id=\"graph0\" class=\"graph\" transform=\"scale(1 1) rotate(0) translate(4 94)\">\n",
       "<title>my_graph</title>\n",
       "<polygon fill=\"white\" stroke=\"transparent\" points=\"-4,4 -4,-94 223,-94 223,4 -4,4\"/>\n",
       "<!-- ctrl_G4 -->\n",
       "<g id=\"node1\" class=\"node\">\n",
       "<title>ctrl_G4</title>\n",
       "<text text-anchor=\"middle\" x=\"27\" y=\"-68.3\" font-family=\"Times,serif\" font-size=\"14.00\">ctrl</text>\n",
       "</g>\n",
       "<!-- CNOT -->\n",
       "<g id=\"node3\" class=\"node\">\n",
       "<title>CNOT</title>\n",
       "<polygon fill=\"none\" stroke=\"black\" points=\"91.5,-66 91.5,-83 128.5,-83 128.5,-66 91.5,-66\"/>\n",
       "<text text-anchor=\"start\" x=\"96\" y=\"-72\" font-family=\"Times,serif\" font-size=\"10.00\">CNOT</text>\n",
       "<polygon fill=\"none\" stroke=\"black\" points=\"91.5,-45 91.5,-66 128.5,-66 128.5,-45 91.5,-45\"/>\n",
       "<text text-anchor=\"start\" x=\"100.5\" y=\"-51.8\" font-family=\"Times,serif\" font-size=\"14.00\">ctrl</text>\n",
       "<polygon fill=\"none\" stroke=\"black\" points=\"91.5,-24 91.5,-45 128.5,-45 128.5,-24 91.5,-24\"/>\n",
       "<text text-anchor=\"start\" x=\"94.5\" y=\"-30.8\" font-family=\"Times,serif\" font-size=\"14.00\">target</text>\n",
       "</g>\n",
       "<!-- ctrl_G4&#45;&gt;CNOT -->\n",
       "<g id=\"edge1\" class=\"edge\">\n",
       "<title>ctrl_G4:e-&gt;CNOT:w</title>\n",
       "<path fill=\"none\" stroke=\"black\" d=\"M54,-72C71.22,-72 72.97,-57.23 88.98,-56.07\"/>\n",
       "<ellipse fill=\"black\" stroke=\"black\" cx=\"90\" cy=\"-56.04\" rx=\"1\" ry=\"1\"/>\n",
       "<text text-anchor=\"middle\" x=\"72.5\" y=\"-67\" font-family=\"Times,serif\" font-size=\"10.00\">1</text>\n",
       "</g>\n",
       "<!-- target_G3 -->\n",
       "<g id=\"node2\" class=\"node\">\n",
       "<title>target_G3</title>\n",
       "<text text-anchor=\"middle\" x=\"27\" y=\"-14.3\" font-family=\"Times,serif\" font-size=\"14.00\">target</text>\n",
       "</g>\n",
       "<!-- target_G3&#45;&gt;CNOT -->\n",
       "<g id=\"edge2\" class=\"edge\">\n",
       "<title>target_G3:e-&gt;CNOT:w</title>\n",
       "<path fill=\"none\" stroke=\"black\" d=\"M54,-18C71.22,-18 72.97,-32.77 88.98,-33.93\"/>\n",
       "<ellipse fill=\"black\" stroke=\"black\" cx=\"90\" cy=\"-33.96\" rx=\"1\" ry=\"1\"/>\n",
       "<text text-anchor=\"middle\" x=\"72.5\" y=\"-29\" font-family=\"Times,serif\" font-size=\"10.00\">1</text>\n",
       "</g>\n",
       "<!-- ctrl_G1 -->\n",
       "<g id=\"node4\" class=\"node\">\n",
       "<title>ctrl_G1</title>\n",
       "<text text-anchor=\"middle\" x=\"192\" y=\"-68.3\" font-family=\"Times,serif\" font-size=\"14.00\">ctrl</text>\n",
       "</g>\n",
       "<!-- CNOT&#45;&gt;ctrl_G1 -->\n",
       "<g id=\"edge3\" class=\"edge\">\n",
       "<title>CNOT:e-&gt;ctrl_G1:w</title>\n",
       "<path fill=\"none\" stroke=\"black\" d=\"M128,-56C145.22,-56 146.97,-70.77 162.98,-71.93\"/>\n",
       "<ellipse fill=\"black\" stroke=\"black\" cx=\"164\" cy=\"-71.96\" rx=\"1\" ry=\"1\"/>\n",
       "<text text-anchor=\"middle\" x=\"146.5\" y=\"-67\" font-family=\"Times,serif\" font-size=\"10.00\">1</text>\n",
       "</g>\n",
       "<!-- target_G5 -->\n",
       "<g id=\"node5\" class=\"node\">\n",
       "<title>target_G5</title>\n",
       "<text text-anchor=\"middle\" x=\"192\" y=\"-14.3\" font-family=\"Times,serif\" font-size=\"14.00\">target</text>\n",
       "</g>\n",
       "<!-- CNOT&#45;&gt;target_G5 -->\n",
       "<g id=\"edge4\" class=\"edge\">\n",
       "<title>CNOT:e-&gt;target_G5:w</title>\n",
       "<path fill=\"none\" stroke=\"black\" d=\"M128,-34C145.22,-34 146.97,-19.23 162.98,-18.07\"/>\n",
       "<ellipse fill=\"black\" stroke=\"black\" cx=\"164\" cy=\"-18.04\" rx=\"1\" ry=\"1\"/>\n",
       "<text text-anchor=\"middle\" x=\"146.5\" y=\"-29\" font-family=\"Times,serif\" font-size=\"10.00\">1</text>\n",
       "</g>\n",
       "</g>\n",
       "</svg>"
      ],
      "text/plain": [
       "<IPython.core.display.SVG object>"
      ]
     },
     "metadata": {},
     "output_type": "display_data"
    }
   ],
   "source": [
    "from qualtran.bloqs.basic_gates import CNOT\n",
    "\n",
    "bloq = CNOT()\n",
    "show_bloq(bloq)"
   ]
  },
  {
   "cell_type": "markdown",
   "id": "90478fd6",
   "metadata": {},
   "source": [
    "We show how CNOT is represented as a facorized tensor during Quimb tensor simulation."
   ]
  },
  {
   "cell_type": "code",
   "execution_count": 3,
   "id": "f30a59a7",
   "metadata": {
    "execution": {
     "iopub.execute_input": "2023-07-14T16:47:55.496228Z",
     "iopub.status.busy": "2023-07-14T16:47:55.495984Z",
     "iopub.status.idle": "2023-07-14T16:47:55.718900Z",
     "shell.execute_reply": "2023-07-14T16:47:55.718315Z"
    }
   },
   "outputs": [
    {
     "data": {
      "image/png": "[encoded data removed]",
      "text/plain": [
       "<Figure size 600x600 with 1 Axes>"
      ]
     },
     "metadata": {},
     "output_type": "display_data"
    }
   ],
   "source": [
    "from qualtran.simulation.quimb_sim import (\n",
    "    cbloq_to_quimb, get_right_and_left_inds\n",
    ")\n",
    "\n",
    "cbloq = bloq.as_composite_bloq()\n",
    "tn, _ = cbloq_to_quimb(cbloq)\n",
    "\n",
    "# Rename the indices to something less verbose\n",
    "from qualtran._infra.composite_bloq import _get_dangling_soquets\n",
    "lsoqs = _get_dangling_soquets(cbloq.signature, right=False)\n",
    "rsoqs = _get_dangling_soquets(cbloq.signature, right=True)\n",
    "\n",
    "# Note: the following only works for single-dimension soquets.\n",
    "rename = {lsoqs[k]: f'{k}_in' for k in lsoqs.keys()}\n",
    "rename |= {rsoqs[k]: f'{k}_out' for k in rsoqs.keys()}\n",
    "tn = tn.reindex(rename)\n",
    "\n",
    "tn.draw(color=['COPY', 'XOR'], show_tags=False, initial_layout='spectral')"
   ]
  },
  {
   "cell_type": "code",
   "execution_count": 4,
   "id": "128b65b3",
   "metadata": {
    "execution": {
     "iopub.execute_input": "2023-07-14T16:47:55.722861Z",
     "iopub.status.busy": "2023-07-14T16:47:55.722645Z",
     "iopub.status.idle": "2023-07-14T16:47:55.729267Z",
     "shell.execute_reply": "2023-07-14T16:47:55.728594Z"
    }
   },
   "outputs": [
    {
     "data": {
      "text/plain": [
       "array([[1.+0.j, 0.+0.j, 0.+0.j, 0.+0.j],\n",
       "       [0.+0.j, 1.+0.j, 0.+0.j, 0.+0.j],\n",
       "       [0.+0.j, 0.+0.j, 0.+0.j, 1.+0.j],\n",
       "       [0.+0.j, 0.+0.j, 1.+0.j, 0.+0.j]])"
      ]
     },
     "execution_count": 4,
     "metadata": {},
     "output_type": "execute_result"
    }
   ],
   "source": [
    "bloq.tensor_contract()"
   ]
  },
  {
   "cell_type": "markdown",
   "id": "931869ce",
   "metadata": {
    "cq.autogen": "_make_plus_state.md"
   },
   "source": [
    "## `PlusState`\n",
    "The state |+>"
   ]
  },
  {
   "cell_type": "code",
   "execution_count": 5,
   "id": "9fc15a60",
   "metadata": {
    "cq.autogen": "_make_plus_state.py",
    "execution": {
     "iopub.execute_input": "2023-07-14T16:47:55.731633Z",
     "iopub.status.busy": "2023-07-14T16:47:55.731334Z",
     "iopub.status.idle": "2023-07-14T16:47:55.789445Z",
     "shell.execute_reply": "2023-07-14T16:47:55.788696Z"
    }
   },
   "outputs": [
    {
     "data": {
      "image/svg+xml": [
       "<svg xmlns=\"http://www.w3.org/2000/svg\" xmlns:xlink=\"http://www.w3.org/1999/xlink\" width=\"118pt\" height=\"54pt\" viewBox=\"0.00 0.00 118.00 54.00\">\n",
       "<g id=\"graph0\" class=\"graph\" transform=\"scale(1 1) rotate(0) translate(4 50)\">\n",
       "<title>my_graph</title>\n",
       "<polygon fill=\"white\" stroke=\"transparent\" points=\"-4,4 -4,-50 114,-50 114,4 -4,4\"/>\n",
       "<!-- PlusState -->\n",
       "<g id=\"node1\" class=\"node\">\n",
       "<title>PlusState</title>\n",
       "<polygon fill=\"none\" stroke=\"black\" points=\"0.5,-29 0.5,-46 19.5,-46 19.5,-29 0.5,-29\"/>\n",
       "<text text-anchor=\"start\" x=\"6.5\" y=\"-35\" font-family=\"Times,serif\" font-size=\"10.00\">+</text>\n",
       "<polygon fill=\"none\" stroke=\"black\" points=\"0.5,-8 0.5,-29 6.5,-29 6.5,-8 0.5,-8\"/>\n",
       "<polygon fill=\"none\" stroke=\"black\" points=\"6.5,-8 6.5,-29 19.5,-29 19.5,-8 6.5,-8\"/>\n",
       "<text text-anchor=\"start\" x=\"9.5\" y=\"-14.8\" font-family=\"Times,serif\" font-size=\"14.00\">q</text>\n",
       "</g>\n",
       "<!-- q_G1 -->\n",
       "<g id=\"node2\" class=\"node\">\n",
       "<title>q_G1</title>\n",
       "<text text-anchor=\"middle\" x=\"83\" y=\"-14.3\" font-family=\"Times,serif\" font-size=\"14.00\">q</text>\n",
       "</g>\n",
       "<!-- PlusState&#45;&gt;q_G1 -->\n",
       "<g id=\"edge1\" class=\"edge\">\n",
       "<title>PlusState:e-&gt;q_G1:w</title>\n",
       "<path fill=\"none\" stroke=\"black\" d=\"M19,-18C34.67,-18 39.14,-18 53.77,-18\"/>\n",
       "<ellipse fill=\"black\" stroke=\"black\" cx=\"55\" cy=\"-18\" rx=\"1\" ry=\"1\"/>\n",
       "<text text-anchor=\"middle\" x=\"37.5\" y=\"-21\" font-family=\"Times,serif\" font-size=\"10.00\">1</text>\n",
       "</g>\n",
       "</g>\n",
       "</svg>"
      ],
      "text/plain": [
       "<IPython.core.display.SVG object>"
      ]
     },
     "metadata": {},
     "output_type": "display_data"
    }
   ],
   "source": [
    "from qualtran.bloqs.basic_gates import PlusState\n",
    "\n",
    "bloq = PlusState()\n",
    "show_bloq(bloq)"
   ]
  },
  {
   "cell_type": "code",
   "execution_count": 6,
   "id": "ca77ccab",
   "metadata": {
    "execution": {
     "iopub.execute_input": "2023-07-14T16:47:55.793513Z",
     "iopub.status.busy": "2023-07-14T16:47:55.793195Z",
     "iopub.status.idle": "2023-07-14T16:47:55.798503Z",
     "shell.execute_reply": "2023-07-14T16:47:55.797755Z"
    }
   },
   "outputs": [
    {
     "data": {
      "text/plain": [
       "array([0.70710678+0.j, 0.70710678+0.j])"
      ]
     },
     "execution_count": 6,
     "metadata": {},
     "output_type": "execute_result"
    }
   ],
   "source": [
    "bloq.tensor_contract()"
   ]
  },
  {
   "cell_type": "markdown",
   "id": "bd188cd5",
   "metadata": {},
   "source": [
    "## Bell State\n",
    "\n",
    "We can create a bell state (|00> + |11>) by cnotting a |+> state into a |0> state."
   ]
  },
  {
   "cell_type": "code",
   "execution_count": 7,
   "id": "e2758826",
   "metadata": {
    "execution": {
     "iopub.execute_input": "2023-07-14T16:47:55.801767Z",
     "iopub.status.busy": "2023-07-14T16:47:55.801444Z",
     "iopub.status.idle": "2023-07-14T16:47:55.870786Z",
     "shell.execute_reply": "2023-07-14T16:47:55.870051Z"
    }
   },
   "outputs": [
    {
     "data": {
      "image/svg+xml": [
       "<svg xmlns=\"http://www.w3.org/2000/svg\" xmlns:xlink=\"http://www.w3.org/1999/xlink\" width=\"192pt\" height=\"109pt\" viewBox=\"0.00 0.00 192.00 109.00\">\n",
       "<g id=\"graph0\" class=\"graph\" transform=\"scale(1 1) rotate(0) translate(4 105)\">\n",
       "<title>my_graph</title>\n",
       "<polygon fill=\"white\" stroke=\"transparent\" points=\"-4,4 -4,-105 188,-105 188,4 -4,4\"/>\n",
       "<!-- ZeroState -->\n",
       "<g id=\"node1\" class=\"node\">\n",
       "<title>ZeroState</title>\n",
       "<polygon fill=\"none\" stroke=\"black\" points=\"0.5,-28 0.5,-45 19.5,-45 19.5,-28 0.5,-28\"/>\n",
       "<text text-anchor=\"start\" x=\"7\" y=\"-34\" font-family=\"Times,serif\" font-size=\"10.00\">0</text>\n",
       "<polygon fill=\"none\" stroke=\"black\" points=\"0.5,-7 0.5,-28 6.5,-28 6.5,-7 0.5,-7\"/>\n",
       "<polygon fill=\"none\" stroke=\"black\" points=\"6.5,-7 6.5,-28 19.5,-28 19.5,-7 6.5,-7\"/>\n",
       "<text text-anchor=\"start\" x=\"9.5\" y=\"-13.8\" font-family=\"Times,serif\" font-size=\"14.00\">q</text>\n",
       "</g>\n",
       "<!-- CNOT -->\n",
       "<g id=\"node3\" class=\"node\">\n",
       "<title>CNOT</title>\n",
       "<polygon fill=\"none\" stroke=\"black\" points=\"56.5,-66 56.5,-83 93.5,-83 93.5,-66 56.5,-66\"/>\n",
       "<text text-anchor=\"start\" x=\"61\" y=\"-72\" font-family=\"Times,serif\" font-size=\"10.00\">CNOT</text>\n",
       "<polygon fill=\"none\" stroke=\"black\" points=\"56.5,-45 56.5,-66 93.5,-66 93.5,-45 56.5,-45\"/>\n",
       "<text text-anchor=\"start\" x=\"65.5\" y=\"-51.8\" font-family=\"Times,serif\" font-size=\"14.00\">ctrl</text>\n",
       "<polygon fill=\"none\" stroke=\"black\" points=\"56.5,-24 56.5,-45 93.5,-45 93.5,-24 56.5,-24\"/>\n",
       "<text text-anchor=\"start\" x=\"59.5\" y=\"-30.8\" font-family=\"Times,serif\" font-size=\"14.00\">target</text>\n",
       "</g>\n",
       "<!-- ZeroState&#45;&gt;CNOT -->\n",
       "<g id=\"edge2\" class=\"edge\">\n",
       "<title>ZeroState:e-&gt;CNOT:w</title>\n",
       "<path fill=\"none\" stroke=\"black\" d=\"M19,-17C36.39,-17 37.81,-32.7 53.96,-33.92\"/>\n",
       "<ellipse fill=\"black\" stroke=\"black\" cx=\"55\" cy=\"-33.96\" rx=\"1\" ry=\"1\"/>\n",
       "<text text-anchor=\"middle\" x=\"37.5\" y=\"-29\" font-family=\"Times,serif\" font-size=\"10.00\">1</text>\n",
       "</g>\n",
       "<!-- PlusState -->\n",
       "<g id=\"node2\" class=\"node\">\n",
       "<title>PlusState</title>\n",
       "<polygon fill=\"none\" stroke=\"black\" points=\"0.5,-84 0.5,-101 19.5,-101 19.5,-84 0.5,-84\"/>\n",
       "<text text-anchor=\"start\" x=\"6.5\" y=\"-90\" font-family=\"Times,serif\" font-size=\"10.00\">+</text>\n",
       "<polygon fill=\"none\" stroke=\"black\" points=\"0.5,-63 0.5,-84 6.5,-84 6.5,-63 0.5,-63\"/>\n",
       "<polygon fill=\"none\" stroke=\"black\" points=\"6.5,-63 6.5,-84 19.5,-84 19.5,-63 6.5,-63\"/>\n",
       "<text text-anchor=\"start\" x=\"9.5\" y=\"-69.8\" font-family=\"Times,serif\" font-size=\"14.00\">q</text>\n",
       "</g>\n",
       "<!-- PlusState&#45;&gt;CNOT -->\n",
       "<g id=\"edge1\" class=\"edge\">\n",
       "<title>PlusState:e-&gt;CNOT:w</title>\n",
       "<path fill=\"none\" stroke=\"black\" d=\"M19,-73C36.39,-73 37.81,-57.3 53.96,-56.08\"/>\n",
       "<ellipse fill=\"black\" stroke=\"black\" cx=\"55\" cy=\"-56.04\" rx=\"1\" ry=\"1\"/>\n",
       "<text text-anchor=\"middle\" x=\"37.5\" y=\"-68\" font-family=\"Times,serif\" font-size=\"10.00\">1</text>\n",
       "</g>\n",
       "<!-- q0 -->\n",
       "<g id=\"node4\" class=\"node\">\n",
       "<title>q0</title>\n",
       "<text text-anchor=\"middle\" x=\"157\" y=\"-68.3\" font-family=\"Times,serif\" font-size=\"14.00\">q0</text>\n",
       "</g>\n",
       "<!-- CNOT&#45;&gt;q0 -->\n",
       "<g id=\"edge3\" class=\"edge\">\n",
       "<title>CNOT:e-&gt;q0:w</title>\n",
       "<path fill=\"none\" stroke=\"black\" d=\"M93,-56C110.22,-56 111.97,-70.77 127.98,-71.93\"/>\n",
       "<ellipse fill=\"black\" stroke=\"black\" cx=\"129\" cy=\"-71.96\" rx=\"1\" ry=\"1\"/>\n",
       "<text text-anchor=\"middle\" x=\"111.5\" y=\"-67\" font-family=\"Times,serif\" font-size=\"10.00\">1</text>\n",
       "</g>\n",
       "<!-- q1 -->\n",
       "<g id=\"node5\" class=\"node\">\n",
       "<title>q1</title>\n",
       "<text text-anchor=\"middle\" x=\"157\" y=\"-14.3\" font-family=\"Times,serif\" font-size=\"14.00\">q1</text>\n",
       "</g>\n",
       "<!-- CNOT&#45;&gt;q1 -->\n",
       "<g id=\"edge4\" class=\"edge\">\n",
       "<title>CNOT:e-&gt;q1:w</title>\n",
       "<path fill=\"none\" stroke=\"black\" d=\"M93,-34C110.22,-34 111.97,-19.23 127.98,-18.07\"/>\n",
       "<ellipse fill=\"black\" stroke=\"black\" cx=\"129\" cy=\"-18.04\" rx=\"1\" ry=\"1\"/>\n",
       "<text text-anchor=\"middle\" x=\"111.5\" y=\"-29\" font-family=\"Times,serif\" font-size=\"10.00\">1</text>\n",
       "</g>\n",
       "</g>\n",
       "</svg>"
      ],
      "text/plain": [
       "<IPython.core.display.SVG object>"
      ]
     },
     "metadata": {},
     "output_type": "display_data"
    }
   ],
   "source": [
    "from qualtran.bloqs.basic_gates import ZeroState\n",
    "\n",
    "bb = BloqBuilder()\n",
    "\n",
    "q0 = bb.add(PlusState())\n",
    "q1 = bb.add(ZeroState())\n",
    "\n",
    "q0, q1 = bb.add(CNOT(), ctrl=q0, target=q1)\n",
    "\n",
    "cbloq = bb.finalize(q0=q0, q1=q1)\n",
    "show_bloq(cbloq)"
   ]
  },
  {
   "cell_type": "code",
   "execution_count": 8,
   "id": "61dcdfaf",
   "metadata": {
    "execution": {
     "iopub.execute_input": "2023-07-14T16:47:55.874325Z",
     "iopub.status.busy": "2023-07-14T16:47:55.874058Z",
     "iopub.status.idle": "2023-07-14T16:47:55.881073Z",
     "shell.execute_reply": "2023-07-14T16:47:55.880308Z"
    }
   },
   "outputs": [
    {
     "data": {
      "text/plain": [
       "array([0.70710678+0.j, 0.        +0.j, 0.        +0.j, 0.70710678+0.j])"
      ]
     },
     "execution_count": 8,
     "metadata": {},
     "output_type": "execute_result"
    }
   ],
   "source": [
    "cbloq.tensor_contract()"
   ]
  },
  {
   "cell_type": "code",
   "execution_count": 9,
   "id": "36c5bb1d",
   "metadata": {
    "execution": {
     "iopub.execute_input": "2023-07-14T16:47:55.883711Z",
     "iopub.status.busy": "2023-07-14T16:47:55.883369Z",
     "iopub.status.idle": "2023-07-14T16:47:56.113016Z",
     "shell.execute_reply": "2023-07-14T16:47:56.112265Z"
    }
   },
   "outputs": [
    {
     "data": {
      "image/png": "[encoded data removed]",
      "text/plain": [
       "<Figure size 600x600 with 1 Axes>"
      ]
     },
     "metadata": {},
     "output_type": "display_data"
    }
   ],
   "source": [
    "tn, _ = cbloq_to_quimb(cbloq)\n",
    "lsoqs = _get_dangling_soquets(cbloq.signature, right=False)\n",
    "rsoqs = _get_dangling_soquets(cbloq.signature, right=True)\n",
    "\n",
    "# Note: the following only works for single-dimension soquets.\n",
    "rename = {lsoqs[k]: f'{k}_in' for k in lsoqs.keys()}\n",
    "rename |= {rsoqs[k]: f'{k}_out' for k in rsoqs.keys()}\n",
    "tn = tn.reindex(rename)\n",
    "\n",
    "tn.draw(color=['COPY', 'XOR', '0', '+'], show_tags=False, initial_layout='spectral')"
   ]
  },
  {
   "cell_type": "markdown",
   "id": "8846fb21",
   "metadata": {
    "cq.autogen": "_make_Rz.md"
   },
   "source": [
    "## `Rz`\n",
    "Single-qubit Rz gate.\n",
    "\n",
    "#### Parameters\n",
    " - `angle`: Rotation angle.\n",
    " - `eps`: precision for implementation of rotation. \n",
    "\n",
    "Registers:\n",
    "    - q: One-bit register.\n",
    "\n",
    "#### References\n",
    "[Efficient synthesis of universal Repeat-Until-Success circuits](https://arxiv.org/abs/1404.5320), which offers a small improvement [Optimal ancilla-free Clifford+T approximation of z-rotations](https://arxiv.org/pdf/1403.2975.pdf).\n"
   ]
  },
  {
   "cell_type": "code",
   "execution_count": 10,
   "id": "82f2d005",
   "metadata": {
    "cq.autogen": "_make_Rz.py",
    "execution": {
     "iopub.execute_input": "2023-07-14T16:47:56.115518Z",
     "iopub.status.busy": "2023-07-14T16:47:56.115328Z",
     "iopub.status.idle": "2023-07-14T16:47:56.178482Z",
     "shell.execute_reply": "2023-07-14T16:47:56.177504Z"
    }
   },
   "outputs": [
    {
     "data": {
      "image/svg+xml": [
       "<svg xmlns=\"http://www.w3.org/2000/svg\" xmlns:xlink=\"http://www.w3.org/1999/xlink\" width=\"208pt\" height=\"54pt\" viewBox=\"0.00 0.00 208.00 54.00\">\n",
       "<g id=\"graph0\" class=\"graph\" transform=\"scale(1 1) rotate(0) translate(4 50)\">\n",
       "<title>my_graph</title>\n",
       "<polygon fill=\"white\" stroke=\"transparent\" points=\"-4,4 -4,-50 204,-50 204,4 -4,4\"/>\n",
       "<!-- q_G2 -->\n",
       "<g id=\"node1\" class=\"node\">\n",
       "<title>q_G2</title>\n",
       "<text text-anchor=\"middle\" x=\"27\" y=\"-14.3\" font-family=\"Times,serif\" font-size=\"14.00\">q</text>\n",
       "</g>\n",
       "<!-- Rz -->\n",
       "<g id=\"node2\" class=\"node\">\n",
       "<title>Rz</title>\n",
       "<polygon fill=\"none\" stroke=\"black\" points=\"91,-29 91,-46 109,-46 109,-29 91,-29\"/>\n",
       "<text text-anchor=\"start\" x=\"94\" y=\"-35\" font-family=\"Times,serif\" font-size=\"10.00\">Rz</text>\n",
       "<polygon fill=\"none\" stroke=\"black\" points=\"91,-8 91,-29 109,-29 109,-8 91,-8\"/>\n",
       "<text text-anchor=\"start\" x=\"96.5\" y=\"-14.8\" font-family=\"Times,serif\" font-size=\"14.00\">q</text>\n",
       "</g>\n",
       "<!-- q_G2&#45;&gt;Rz -->\n",
       "<g id=\"edge1\" class=\"edge\">\n",
       "<title>q_G2:e-&gt;Rz:w</title>\n",
       "<path fill=\"none\" stroke=\"black\" d=\"M54,-18C69.67,-18 74.14,-18 88.77,-18\"/>\n",
       "<ellipse fill=\"black\" stroke=\"black\" cx=\"90\" cy=\"-18\" rx=\"1\" ry=\"1\"/>\n",
       "<text text-anchor=\"middle\" x=\"72.5\" y=\"-21\" font-family=\"Times,serif\" font-size=\"10.00\">1</text>\n",
       "</g>\n",
       "<!-- q_G0 -->\n",
       "<g id=\"node3\" class=\"node\">\n",
       "<title>q_G0</title>\n",
       "<text text-anchor=\"middle\" x=\"173\" y=\"-14.3\" font-family=\"Times,serif\" font-size=\"14.00\">q</text>\n",
       "</g>\n",
       "<!-- Rz&#45;&gt;q_G0 -->\n",
       "<g id=\"edge2\" class=\"edge\">\n",
       "<title>Rz:e-&gt;q_G0:w</title>\n",
       "<path fill=\"none\" stroke=\"black\" d=\"M109,-18C124.67,-18 129.14,-18 143.77,-18\"/>\n",
       "<ellipse fill=\"black\" stroke=\"black\" cx=\"145\" cy=\"-18\" rx=\"1\" ry=\"1\"/>\n",
       "<text text-anchor=\"middle\" x=\"127.5\" y=\"-21\" font-family=\"Times,serif\" font-size=\"10.00\">1</text>\n",
       "</g>\n",
       "</g>\n",
       "</svg>"
      ],
      "text/plain": [
       "<IPython.core.display.SVG object>"
      ]
     },
     "metadata": {},
     "output_type": "display_data"
    }
   ],
   "source": [
    "from qualtran.bloqs.basic_gates import Rz\n",
    "\n",
    "bloq = Rz(angle=np.pi / 4.0)\n",
    "show_bloq(bloq)"
   ]
  }
 ],
 "metadata": {
  "kernelspec": {
   "display_name": "Python 3 (ipykernel)",
   "language": "python",
   "name": "python3"
  },
  "language_info": {
   "codemirror_mode": {
    "name": "ipython",
    "version": 3
   },
   "file_extension": ".py",
   "mimetype": "text/x-python",
   "name": "python",
   "nbconvert_exporter": "python",
   "pygments_lexer": "ipython3",
   "version": "3.10.11"
  }
 },
 "nbformat": 4,
 "nbformat_minor": 5
}
