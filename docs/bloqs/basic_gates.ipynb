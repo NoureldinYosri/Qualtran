{
 "cells": [
  {
   "cell_type": "markdown",
   "id": "4881cd25",
   "metadata": {
    "cq.autogen": "title_cell"
   },
   "source": [
    "# Basic Gates\n",
    "\n",
    "Basic quantum gates.\n",
    "\n",
    "The bloqs in this module encode gates you'd expect to find in any quantum computing\n",
    "framework. It includes single-qubit unitary gates like rotations, bit- and phase-flip;\n",
    "basic multi-qubit unitary gates; states and effects in the Pauli basis; and non-Clifford\n",
    "gates `TGate` and `Toffoli` which are commonly counted to estimate algorithm resource\n",
    "requirements."
   ]
  },
  {
   "cell_type": "code",
   "execution_count": 1,
   "id": "0ab859e3",
   "metadata": {
    "cq.autogen": "top_imports"
   },
   "outputs": [],
   "source": [
    "from qualtran import Bloq, CompositeBloq, BloqBuilder, Signature, Register\n",
    "from qualtran.drawing import show_bloq, show_call_graph, show_counts_sigma\n",
    "from typing import *\n",
    "import numpy as np\n",
    "import sympy\n",
    "import cirq"
   ]
  },
  {
   "cell_type": "markdown",
   "id": "eaa7fa6e",
   "metadata": {
    "cq.autogen": "_make_CNOT.md"
   },
   "source": [
    "## `CNOT`\n",
    "Two-qubit controlled-NOT.\n",
    "\n",
    "#### Registers\n",
    " - `ctrl`: One-bit control register.\n",
    " - `target`: One-bit target register.\n"
   ]
  },
  {
   "cell_type": "code",
   "execution_count": 2,
   "id": "9515f273",
   "metadata": {
    "cq.autogen": "_make_CNOT.py"
   },
   "outputs": [
    {
     "data": {
      "image/svg+xml": [
       "<svg xmlns=\"http://www.w3.org/2000/svg\" xmlns:xlink=\"http://www.w3.org/1999/xlink\" width=\"227pt\" height=\"98pt\" viewBox=\"0.00 0.00 227.00 98.00\">\n",
       "<g id=\"graph0\" class=\"graph\" transform=\"scale(1 1) rotate(0) translate(4 94)\">\n",
       "<title>my_graph</title>\n",
       "<polygon fill=\"white\" stroke=\"transparent\" points=\"-4,4 -4,-94 223,-94 223,4 -4,4\"/>\n",
       "<!-- ctrl_G0 -->\n",
       "<g id=\"node1\" class=\"node\">\n",
       "<title>ctrl_G0</title>\n",
       "<text text-anchor=\"middle\" x=\"27\" y=\"-68.3\" font-family=\"Times,serif\" font-size=\"14.00\">ctrl</text>\n",
       "</g>\n",
       "<!-- CNOT -->\n",
       "<g id=\"node3\" class=\"node\">\n",
       "<title>CNOT</title>\n",
       "<polygon fill=\"none\" stroke=\"black\" points=\"91.5,-66 91.5,-83 128.5,-83 128.5,-66 91.5,-66\"/>\n",
       "<text text-anchor=\"start\" x=\"96\" y=\"-72\" font-family=\"Times,serif\" font-size=\"10.00\">CNOT</text>\n",
       "<polygon fill=\"none\" stroke=\"black\" points=\"91.5,-45 91.5,-66 128.5,-66 128.5,-45 91.5,-45\"/>\n",
       "<text text-anchor=\"start\" x=\"100.5\" y=\"-51.8\" font-family=\"Times,serif\" font-size=\"14.00\">ctrl</text>\n",
       "<polygon fill=\"none\" stroke=\"black\" points=\"91.5,-24 91.5,-45 128.5,-45 128.5,-24 91.5,-24\"/>\n",
       "<text text-anchor=\"start\" x=\"94.5\" y=\"-30.8\" font-family=\"Times,serif\" font-size=\"14.00\">target</text>\n",
       "</g>\n",
       "<!-- ctrl_G0&#45;&gt;CNOT -->\n",
       "<g id=\"edge1\" class=\"edge\">\n",
       "<title>ctrl_G0:e-&gt;CNOT:w</title>\n",
       "<path fill=\"none\" stroke=\"black\" d=\"M54,-72C71.22,-72 72.97,-57.23 88.98,-56.07\"/>\n",
       "<ellipse fill=\"black\" stroke=\"black\" cx=\"90\" cy=\"-56.04\" rx=\"1\" ry=\"1\"/>\n",
       "<text text-anchor=\"middle\" x=\"72.5\" y=\"-67\" font-family=\"Times,serif\" font-size=\"10.00\">1</text>\n",
       "</g>\n",
       "<!-- target_G3 -->\n",
       "<g id=\"node2\" class=\"node\">\n",
       "<title>target_G3</title>\n",
       "<text text-anchor=\"middle\" x=\"27\" y=\"-14.3\" font-family=\"Times,serif\" font-size=\"14.00\">target</text>\n",
       "</g>\n",
       "<!-- target_G3&#45;&gt;CNOT -->\n",
       "<g id=\"edge2\" class=\"edge\">\n",
       "<title>target_G3:e-&gt;CNOT:w</title>\n",
       "<path fill=\"none\" stroke=\"black\" d=\"M54,-18C71.22,-18 72.97,-32.77 88.98,-33.93\"/>\n",
       "<ellipse fill=\"black\" stroke=\"black\" cx=\"90\" cy=\"-33.96\" rx=\"1\" ry=\"1\"/>\n",
       "<text text-anchor=\"middle\" x=\"72.5\" y=\"-29\" font-family=\"Times,serif\" font-size=\"10.00\">1</text>\n",
       "</g>\n",
       "<!-- ctrl_G2 -->\n",
       "<g id=\"node4\" class=\"node\">\n",
       "<title>ctrl_G2</title>\n",
       "<text text-anchor=\"middle\" x=\"192\" y=\"-68.3\" font-family=\"Times,serif\" font-size=\"14.00\">ctrl</text>\n",
       "</g>\n",
       "<!-- CNOT&#45;&gt;ctrl_G2 -->\n",
       "<g id=\"edge3\" class=\"edge\">\n",
       "<title>CNOT:e-&gt;ctrl_G2:w</title>\n",
       "<path fill=\"none\" stroke=\"black\" d=\"M128,-56C145.22,-56 146.97,-70.77 162.98,-71.93\"/>\n",
       "<ellipse fill=\"black\" stroke=\"black\" cx=\"164\" cy=\"-71.96\" rx=\"1\" ry=\"1\"/>\n",
       "<text text-anchor=\"middle\" x=\"146.5\" y=\"-67\" font-family=\"Times,serif\" font-size=\"10.00\">1</text>\n",
       "</g>\n",
       "<!-- target_G4 -->\n",
       "<g id=\"node5\" class=\"node\">\n",
       "<title>target_G4</title>\n",
       "<text text-anchor=\"middle\" x=\"192\" y=\"-14.3\" font-family=\"Times,serif\" font-size=\"14.00\">target</text>\n",
       "</g>\n",
       "<!-- CNOT&#45;&gt;target_G4 -->\n",
       "<g id=\"edge4\" class=\"edge\">\n",
       "<title>CNOT:e-&gt;target_G4:w</title>\n",
       "<path fill=\"none\" stroke=\"black\" d=\"M128,-34C145.22,-34 146.97,-19.23 162.98,-18.07\"/>\n",
       "<ellipse fill=\"black\" stroke=\"black\" cx=\"164\" cy=\"-18.04\" rx=\"1\" ry=\"1\"/>\n",
       "<text text-anchor=\"middle\" x=\"146.5\" y=\"-29\" font-family=\"Times,serif\" font-size=\"10.00\">1</text>\n",
       "</g>\n",
       "</g>\n",
       "</svg>"
      ],
      "text/plain": [
       "<IPython.core.display.SVG object>"
      ]
     },
     "metadata": {},
     "output_type": "display_data"
    }
   ],
   "source": [
    "from qualtran.bloqs.basic_gates import CNOT\n",
    "\n",
    "bloq = CNOT()\n",
    "show_bloq(bloq)"
   ]
  },
  {
   "cell_type": "markdown",
   "id": "90478fd6",
   "metadata": {},
   "source": [
    "We show how CNOT is represented as a facorized tensor during Quimb tensor simulation."
   ]
  },
  {
   "cell_type": "code",
   "execution_count": 3,
   "id": "f30a59a7",
   "metadata": {},
   "outputs": [
    {
     "data": {
      "image/png": "[encoded data removed]",
      "text/plain": [
       "<Figure size 600x600 with 1 Axes>"
      ]
     },
     "metadata": {
      "needs_background": "light"
     },
     "output_type": "display_data"
    }
   ],
   "source": [
    "from qualtran.simulation.tensor import (\n",
    "    cbloq_to_quimb, get_right_and_left_inds\n",
    ")\n",
    "\n",
    "cbloq = bloq.as_composite_bloq()\n",
    "tn, _ = cbloq_to_quimb(cbloq)\n",
    "\n",
    "# Rename the indices to something less verbose\n",
    "from qualtran._infra.composite_bloq import _get_dangling_soquets\n",
    "lsoqs = _get_dangling_soquets(cbloq.signature, right=False)\n",
    "rsoqs = _get_dangling_soquets(cbloq.signature, right=True)\n",
    "\n",
    "# Note: the following only works for single-dimension soquets.\n",
    "rename = {lsoqs[k]: f'{k}_in' for k in lsoqs.keys()}\n",
    "rename |= {rsoqs[k]: f'{k}_out' for k in rsoqs.keys()}\n",
    "tn = tn.reindex(rename)\n",
    "\n",
    "tn.draw(color=['COPY', 'XOR'], show_tags=False, initial_layout='spectral')"
   ]
  },
  {
   "cell_type": "code",
   "execution_count": 4,
   "id": "128b65b3",
   "metadata": {},
   "outputs": [
    {
     "data": {
      "text/plain": [
       "array([[1.+0.j, 0.+0.j, 0.+0.j, 0.+0.j],\n",
       "       [0.+0.j, 1.+0.j, 0.+0.j, 0.+0.j],\n",
       "       [0.+0.j, 0.+0.j, 0.+0.j, 1.+0.j],\n",
       "       [0.+0.j, 0.+0.j, 1.+0.j, 0.+0.j]])"
      ]
     },
     "execution_count": 4,
     "metadata": {},
     "output_type": "execute_result"
    }
   ],
   "source": [
    "bloq.tensor_contract()"
   ]
  },
  {
   "cell_type": "markdown",
   "id": "931869ce",
   "metadata": {
    "cq.autogen": "_make_plus_state.md"
   },
   "source": [
    "## `PlusState`\n",
    "The state |+>"
   ]
  },
  {
   "cell_type": "code",
   "execution_count": 5,
   "id": "9fc15a60",
   "metadata": {
    "cq.autogen": "_make_plus_state.py"
   },
   "outputs": [
    {
     "data": {
      "image/svg+xml": [
       "<svg xmlns=\"http://www.w3.org/2000/svg\" xmlns:xlink=\"http://www.w3.org/1999/xlink\" width=\"118pt\" height=\"54pt\" viewBox=\"0.00 0.00 118.00 54.00\">\n",
       "<g id=\"graph0\" class=\"graph\" transform=\"scale(1 1) rotate(0) translate(4 50)\">\n",
       "<title>my_graph</title>\n",
       "<polygon fill=\"white\" stroke=\"transparent\" points=\"-4,4 -4,-50 114,-50 114,4 -4,4\"/>\n",
       "<!-- PlusState -->\n",
       "<g id=\"node1\" class=\"node\">\n",
       "<title>PlusState</title>\n",
       "<polygon fill=\"none\" stroke=\"black\" points=\"0.5,-29 0.5,-46 19.5,-46 19.5,-29 0.5,-29\"/>\n",
       "<text text-anchor=\"start\" x=\"6.5\" y=\"-35\" font-family=\"Times,serif\" font-size=\"10.00\">+</text>\n",
       "<polygon fill=\"none\" stroke=\"black\" points=\"0.5,-8 0.5,-29 6.5,-29 6.5,-8 0.5,-8\"/>\n",
       "<polygon fill=\"none\" stroke=\"black\" points=\"6.5,-8 6.5,-29 19.5,-29 19.5,-8 6.5,-8\"/>\n",
       "<text text-anchor=\"start\" x=\"9.5\" y=\"-14.8\" font-family=\"Times,serif\" font-size=\"14.00\">q</text>\n",
       "</g>\n",
       "<!-- q_G1 -->\n",
       "<g id=\"node2\" class=\"node\">\n",
       "<title>q_G1</title>\n",
       "<text text-anchor=\"middle\" x=\"83\" y=\"-14.3\" font-family=\"Times,serif\" font-size=\"14.00\">q</text>\n",
       "</g>\n",
       "<!-- PlusState&#45;&gt;q_G1 -->\n",
       "<g id=\"edge1\" class=\"edge\">\n",
       "<title>PlusState:e-&gt;q_G1:w</title>\n",
       "<path fill=\"none\" stroke=\"black\" d=\"M19,-18C34.67,-18 39.14,-18 53.77,-18\"/>\n",
       "<ellipse fill=\"black\" stroke=\"black\" cx=\"55\" cy=\"-18\" rx=\"1\" ry=\"1\"/>\n",
       "<text text-anchor=\"middle\" x=\"37.5\" y=\"-21\" font-family=\"Times,serif\" font-size=\"10.00\">1</text>\n",
       "</g>\n",
       "</g>\n",
       "</svg>"
      ],
      "text/plain": [
       "<IPython.core.display.SVG object>"
      ]
     },
     "metadata": {},
     "output_type": "display_data"
    }
   ],
   "source": [
    "from qualtran.bloqs.basic_gates import PlusState\n",
    "\n",
    "bloq = PlusState()\n",
    "show_bloq(bloq)"
   ]
  },
  {
   "cell_type": "code",
   "execution_count": 6,
   "id": "ca77ccab",
   "metadata": {},
   "outputs": [
    {
     "data": {
      "text/plain": [
       "array([0.70710678+0.j, 0.70710678+0.j])"
      ]
     },
     "execution_count": 6,
     "metadata": {},
     "output_type": "execute_result"
    }
   ],
   "source": [
    "bloq.tensor_contract()"
   ]
  },
  {
   "cell_type": "markdown",
   "id": "adf03968",
   "metadata": {
    "cq.autogen": "_make_zero_state.md"
   },
   "source": [
    "## `ZeroState`\n",
    "The state |0>"
   ]
  },
  {
   "cell_type": "code",
   "execution_count": 7,
   "id": "c188f4bd",
   "metadata": {
    "cq.autogen": "_make_zero_state.py"
   },
   "outputs": [
    {
     "data": {
      "image/svg+xml": [
       "<svg xmlns=\"http://www.w3.org/2000/svg\" xmlns:xlink=\"http://www.w3.org/1999/xlink\" width=\"118pt\" height=\"54pt\" viewBox=\"0.00 0.00 118.00 54.00\">\n",
       "<g id=\"graph0\" class=\"graph\" transform=\"scale(1 1) rotate(0) translate(4 50)\">\n",
       "<title>my_graph</title>\n",
       "<polygon fill=\"white\" stroke=\"transparent\" points=\"-4,4 -4,-50 114,-50 114,4 -4,4\"/>\n",
       "<!-- ZeroState -->\n",
       "<g id=\"node1\" class=\"node\">\n",
       "<title>ZeroState</title>\n",
       "<polygon fill=\"none\" stroke=\"black\" points=\"0.5,-29 0.5,-46 19.5,-46 19.5,-29 0.5,-29\"/>\n",
       "<text text-anchor=\"start\" x=\"7\" y=\"-35\" font-family=\"Times,serif\" font-size=\"10.00\">0</text>\n",
       "<polygon fill=\"none\" stroke=\"black\" points=\"0.5,-8 0.5,-29 6.5,-29 6.5,-8 0.5,-8\"/>\n",
       "<polygon fill=\"none\" stroke=\"black\" points=\"6.5,-8 6.5,-29 19.5,-29 19.5,-8 6.5,-8\"/>\n",
       "<text text-anchor=\"start\" x=\"9.5\" y=\"-14.8\" font-family=\"Times,serif\" font-size=\"14.00\">q</text>\n",
       "</g>\n",
       "<!-- q_G0 -->\n",
       "<g id=\"node2\" class=\"node\">\n",
       "<title>q_G0</title>\n",
       "<text text-anchor=\"middle\" x=\"83\" y=\"-14.3\" font-family=\"Times,serif\" font-size=\"14.00\">q</text>\n",
       "</g>\n",
       "<!-- ZeroState&#45;&gt;q_G0 -->\n",
       "<g id=\"edge1\" class=\"edge\">\n",
       "<title>ZeroState:e-&gt;q_G0:w</title>\n",
       "<path fill=\"none\" stroke=\"black\" d=\"M19,-18C34.67,-18 39.14,-18 53.77,-18\"/>\n",
       "<ellipse fill=\"black\" stroke=\"black\" cx=\"55\" cy=\"-18\" rx=\"1\" ry=\"1\"/>\n",
       "<text text-anchor=\"middle\" x=\"37.5\" y=\"-21\" font-family=\"Times,serif\" font-size=\"10.00\">1</text>\n",
       "</g>\n",
       "</g>\n",
       "</svg>"
      ],
      "text/plain": [
       "<IPython.core.display.SVG object>"
      ]
     },
     "metadata": {},
     "output_type": "display_data"
    }
   ],
   "source": [
    "from qualtran.bloqs.basic_gates import ZeroState\n",
    "\n",
    "bloq = ZeroState()\n",
    "show_bloq(bloq)"
   ]
  },
  {
   "cell_type": "markdown",
   "id": "bd188cd5",
   "metadata": {},
   "source": [
    "## Synthesizing a Bell state\n",
    "\n",
    "We can create a bell state (|00> + |11>) by cnotting a |+> state into a |0> state."
   ]
  },
  {
   "cell_type": "code",
   "execution_count": 8,
   "id": "e2758826",
   "metadata": {},
   "outputs": [
    {
     "data": {
      "image/svg+xml": [
       "<svg xmlns=\"http://www.w3.org/2000/svg\" xmlns:xlink=\"http://www.w3.org/1999/xlink\" width=\"192pt\" height=\"109pt\" viewBox=\"0.00 0.00 192.00 109.00\">\n",
       "<g id=\"graph0\" class=\"graph\" transform=\"scale(1 1) rotate(0) translate(4 105)\">\n",
       "<title>my_graph</title>\n",
       "<polygon fill=\"white\" stroke=\"transparent\" points=\"-4,4 -4,-105 188,-105 188,4 -4,4\"/>\n",
       "<!-- PlusState -->\n",
       "<g id=\"node1\" class=\"node\">\n",
       "<title>PlusState</title>\n",
       "<polygon fill=\"none\" stroke=\"black\" points=\"0.5,-84 0.5,-101 19.5,-101 19.5,-84 0.5,-84\"/>\n",
       "<text text-anchor=\"start\" x=\"6.5\" y=\"-90\" font-family=\"Times,serif\" font-size=\"10.00\">+</text>\n",
       "<polygon fill=\"none\" stroke=\"black\" points=\"0.5,-63 0.5,-84 6.5,-84 6.5,-63 0.5,-63\"/>\n",
       "<polygon fill=\"none\" stroke=\"black\" points=\"6.5,-63 6.5,-84 19.5,-84 19.5,-63 6.5,-63\"/>\n",
       "<text text-anchor=\"start\" x=\"9.5\" y=\"-69.8\" font-family=\"Times,serif\" font-size=\"14.00\">q</text>\n",
       "</g>\n",
       "<!-- CNOT -->\n",
       "<g id=\"node2\" class=\"node\">\n",
       "<title>CNOT</title>\n",
       "<polygon fill=\"none\" stroke=\"black\" points=\"56.5,-66 56.5,-83 93.5,-83 93.5,-66 56.5,-66\"/>\n",
       "<text text-anchor=\"start\" x=\"61\" y=\"-72\" font-family=\"Times,serif\" font-size=\"10.00\">CNOT</text>\n",
       "<polygon fill=\"none\" stroke=\"black\" points=\"56.5,-45 56.5,-66 93.5,-66 93.5,-45 56.5,-45\"/>\n",
       "<text text-anchor=\"start\" x=\"65.5\" y=\"-51.8\" font-family=\"Times,serif\" font-size=\"14.00\">ctrl</text>\n",
       "<polygon fill=\"none\" stroke=\"black\" points=\"56.5,-24 56.5,-45 93.5,-45 93.5,-24 56.5,-24\"/>\n",
       "<text text-anchor=\"start\" x=\"59.5\" y=\"-30.8\" font-family=\"Times,serif\" font-size=\"14.00\">target</text>\n",
       "</g>\n",
       "<!-- PlusState&#45;&gt;CNOT -->\n",
       "<g id=\"edge1\" class=\"edge\">\n",
       "<title>PlusState:e-&gt;CNOT:w</title>\n",
       "<path fill=\"none\" stroke=\"black\" d=\"M19,-73C36.39,-73 37.81,-57.3 53.96,-56.08\"/>\n",
       "<ellipse fill=\"black\" stroke=\"black\" cx=\"55\" cy=\"-56.04\" rx=\"1\" ry=\"1\"/>\n",
       "<text text-anchor=\"middle\" x=\"37.5\" y=\"-67\" font-family=\"Times,serif\" font-size=\"10.00\">1</text>\n",
       "</g>\n",
       "<!-- q0 -->\n",
       "<g id=\"node4\" class=\"node\">\n",
       "<title>q0</title>\n",
       "<text text-anchor=\"middle\" x=\"157\" y=\"-68.3\" font-family=\"Times,serif\" font-size=\"14.00\">q0</text>\n",
       "</g>\n",
       "<!-- CNOT&#45;&gt;q0 -->\n",
       "<g id=\"edge3\" class=\"edge\">\n",
       "<title>CNOT:e-&gt;q0:w</title>\n",
       "<path fill=\"none\" stroke=\"black\" d=\"M93,-56C110.22,-56 111.97,-70.77 127.98,-71.93\"/>\n",
       "<ellipse fill=\"black\" stroke=\"black\" cx=\"129\" cy=\"-71.96\" rx=\"1\" ry=\"1\"/>\n",
       "<text text-anchor=\"middle\" x=\"111.5\" y=\"-67\" font-family=\"Times,serif\" font-size=\"10.00\">1</text>\n",
       "</g>\n",
       "<!-- q1 -->\n",
       "<g id=\"node5\" class=\"node\">\n",
       "<title>q1</title>\n",
       "<text text-anchor=\"middle\" x=\"157\" y=\"-14.3\" font-family=\"Times,serif\" font-size=\"14.00\">q1</text>\n",
       "</g>\n",
       "<!-- CNOT&#45;&gt;q1 -->\n",
       "<g id=\"edge4\" class=\"edge\">\n",
       "<title>CNOT:e-&gt;q1:w</title>\n",
       "<path fill=\"none\" stroke=\"black\" d=\"M93,-34C110.22,-34 111.97,-19.23 127.98,-18.07\"/>\n",
       "<ellipse fill=\"black\" stroke=\"black\" cx=\"129\" cy=\"-18.04\" rx=\"1\" ry=\"1\"/>\n",
       "<text text-anchor=\"middle\" x=\"111.5\" y=\"-29\" font-family=\"Times,serif\" font-size=\"10.00\">1</text>\n",
       "</g>\n",
       "<!-- ZeroState -->\n",
       "<g id=\"node3\" class=\"node\">\n",
       "<title>ZeroState</title>\n",
       "<polygon fill=\"none\" stroke=\"black\" points=\"0.5,-28 0.5,-45 19.5,-45 19.5,-28 0.5,-28\"/>\n",
       "<text text-anchor=\"start\" x=\"7\" y=\"-34\" font-family=\"Times,serif\" font-size=\"10.00\">0</text>\n",
       "<polygon fill=\"none\" stroke=\"black\" points=\"0.5,-7 0.5,-28 6.5,-28 6.5,-7 0.5,-7\"/>\n",
       "<polygon fill=\"none\" stroke=\"black\" points=\"6.5,-7 6.5,-28 19.5,-28 19.5,-7 6.5,-7\"/>\n",
       "<text text-anchor=\"start\" x=\"9.5\" y=\"-13.8\" font-family=\"Times,serif\" font-size=\"14.00\">q</text>\n",
       "</g>\n",
       "<!-- ZeroState&#45;&gt;CNOT -->\n",
       "<g id=\"edge2\" class=\"edge\">\n",
       "<title>ZeroState:e-&gt;CNOT:w</title>\n",
       "<path fill=\"none\" stroke=\"black\" d=\"M19,-17C36.39,-17 37.81,-32.7 53.96,-33.92\"/>\n",
       "<ellipse fill=\"black\" stroke=\"black\" cx=\"55\" cy=\"-33.96\" rx=\"1\" ry=\"1\"/>\n",
       "<text text-anchor=\"middle\" x=\"37.5\" y=\"-29\" font-family=\"Times,serif\" font-size=\"10.00\">1</text>\n",
       "</g>\n",
       "</g>\n",
       "</svg>"
      ],
      "text/plain": [
       "<IPython.core.display.SVG object>"
      ]
     },
     "metadata": {},
     "output_type": "display_data"
    }
   ],
   "source": [
    "from qualtran.bloqs.basic_gates import ZeroState\n",
    "\n",
    "bb = BloqBuilder()\n",
    "\n",
    "q0 = bb.add(PlusState())\n",
    "q1 = bb.add(ZeroState())\n",
    "\n",
    "q0, q1 = bb.add(CNOT(), ctrl=q0, target=q1)\n",
    "\n",
    "cbloq = bb.finalize(q0=q0, q1=q1)\n",
    "show_bloq(cbloq)"
   ]
  },
  {
   "cell_type": "code",
   "execution_count": 9,
   "id": "61dcdfaf",
   "metadata": {},
   "outputs": [
    {
     "data": {
      "text/plain": [
       "array([0.70710678+0.j, 0.        +0.j, 0.        +0.j, 0.70710678+0.j])"
      ]
     },
     "execution_count": 9,
     "metadata": {},
     "output_type": "execute_result"
    }
   ],
   "source": [
    "cbloq.tensor_contract()"
   ]
  },
  {
   "cell_type": "markdown",
   "id": "dec257be",
   "metadata": {},
   "source": [
    "We can see how this composite bloq corresponds to a quimb tensor network."
   ]
  },
  {
   "cell_type": "code",
   "execution_count": 10,
   "id": "36c5bb1d",
   "metadata": {},
   "outputs": [
    {
     "data": {
      "image/png": "[encoded data removed]",
      "text/plain": [
       "<Figure size 600x600 with 1 Axes>"
      ]
     },
     "metadata": {
      "needs_background": "light"
     },
     "output_type": "display_data"
    }
   ],
   "source": [
    "tn, _ = cbloq_to_quimb(cbloq)\n",
    "lsoqs = _get_dangling_soquets(cbloq.signature, right=False)\n",
    "rsoqs = _get_dangling_soquets(cbloq.signature, right=True)\n",
    "\n",
    "# Note: the following only works for single-dimension soquets.\n",
    "rename = {lsoqs[k]: f'{k}_in' for k in lsoqs.keys()}\n",
    "rename |= {rsoqs[k]: f'{k}_out' for k in rsoqs.keys()}\n",
    "tn = tn.reindex(rename)\n",
    "\n",
    "tn.draw(color=['COPY', 'XOR', '0', '+'], show_tags=False, initial_layout='spectral')"
   ]
  },
  {
   "cell_type": "markdown",
   "id": "9c1e3acf",
   "metadata": {},
   "source": [
    "`PlusState` and `ZeroState` provide `as_cirq_op` methods for Cirq interoperability, resulting in the familiar `cirq.Circuit` for constructing a Bell state."
   ]
  },
  {
   "cell_type": "code",
   "execution_count": 11,
   "id": "dcbe786b",
   "metadata": {},
   "outputs": [
    {
     "data": {
      "image/svg+xml": [
       "<svg xmlns=\"http://www.w3.org/2000/svg\" width=\"224.775234375\" height=\"100.0\"><line x1=\"32.3876171875\" x2=\"194.775234375\" y1=\"25.0\" y2=\"25.0\" stroke=\"#1967d2\" stroke-width=\"1\" /><line x1=\"32.3876171875\" x2=\"194.775234375\" y1=\"75.0\" y2=\"75.0\" stroke=\"#1967d2\" stroke-width=\"1\" /><line x1=\"154.775234375\" x2=\"154.775234375\" y1=\"25.0\" y2=\"75.0\" stroke=\"black\" stroke-width=\"3\" /><rect x=\"10.0\" y=\"5.0\" width=\"44.775234375\" height=\"40\" stroke=\"black\" fill=\"white\" stroke-width=\"0\" /><text x=\"32.3876171875\" y=\"25.0\" dominant-baseline=\"middle\" text-anchor=\"middle\" font-size=\"14px\" font-family=\"Arial:style=normal:variant=normal:weight=normal:stretch=normal:size=10.0\">_c(0): </text><rect x=\"10.0\" y=\"55.0\" width=\"44.775234375\" height=\"40\" stroke=\"black\" fill=\"white\" stroke-width=\"0\" /><text x=\"32.3876171875\" y=\"75.0\" dominant-baseline=\"middle\" text-anchor=\"middle\" font-size=\"14px\" font-family=\"Arial:style=normal:variant=normal:weight=normal:stretch=normal:size=10.0\">_c(1): </text><rect x=\"74.775234375\" y=\"5.0\" width=\"40\" height=\"40\" stroke=\"black\" fill=\"white\" stroke-width=\"1\" /><text x=\"94.775234375\" y=\"25.0\" dominant-baseline=\"middle\" text-anchor=\"middle\" font-size=\"18px\" font-family=\"Arial:style=normal:variant=normal:weight=normal:stretch=normal:size=10.0\">H</text><circle cx=\"154.775234375\" cy=\"25.0\" r=\"10.0\" /><rect x=\"134.775234375\" y=\"55.0\" width=\"40\" height=\"40\" stroke=\"black\" fill=\"white\" stroke-width=\"1\" /><text x=\"154.775234375\" y=\"75.0\" dominant-baseline=\"middle\" text-anchor=\"middle\" font-size=\"18px\" font-family=\"Arial:style=normal:variant=normal:weight=normal:stretch=normal:size=10.0\">X</text></svg>"
      ],
      "text/plain": [
       "<cirq.contrib.svg.svg.SVGCircuit at 0x7f44afcc3f10>"
      ]
     },
     "execution_count": 11,
     "metadata": {},
     "output_type": "execute_result"
    }
   ],
   "source": [
    "from cirq.contrib.svg import SVGCircuit\n",
    "circuit, qubits = cbloq.to_cirq_circuit()\n",
    "SVGCircuit(circuit)"
   ]
  },
  {
   "cell_type": "markdown",
   "id": "8846fb21",
   "metadata": {
    "cq.autogen": "_make_Rz.md"
   },
   "source": [
    "## `Rz`\n",
    "Single-qubit Rz gate.\n",
    "\n",
    "#### Parameters\n",
    " - `angle`: Rotation angle in radians.\n",
    " - `eps`: precision for implementation of rotation. \n",
    "\n",
    "#### Registers\n",
    " - `q`: One-bit register. \n",
    "\n",
    "#### References\n",
    "[Efficient synthesis of universal Repeat-Until-Success\n",
    "circuits](https://arxiv.org/abs/1404.5320), which offers a small improvement\n",
    "[Optimal ancilla-free Clifford+T approximation\n",
    "of z-rotations](https://arxiv.org/pdf/1403.2975.pdf).\n"
   ]
  },
  {
   "cell_type": "code",
   "execution_count": 12,
   "id": "82f2d005",
   "metadata": {
    "cq.autogen": "_make_Rz.py"
   },
   "outputs": [
    {
     "data": {
      "image/svg+xml": [
       "<svg xmlns=\"http://www.w3.org/2000/svg\" xmlns:xlink=\"http://www.w3.org/1999/xlink\" width=\"226pt\" height=\"54pt\" viewBox=\"0.00 0.00 226.00 54.00\">\n",
       "<g id=\"graph0\" class=\"graph\" transform=\"scale(1 1) rotate(0) translate(4 50)\">\n",
       "<title>my_graph</title>\n",
       "<polygon fill=\"white\" stroke=\"transparent\" points=\"-4,4 -4,-50 222,-50 222,4 -4,4\"/>\n",
       "<!-- q_G1 -->\n",
       "<g id=\"node1\" class=\"node\">\n",
       "<title>q_G1</title>\n",
       "<text text-anchor=\"middle\" x=\"27\" y=\"-14.3\" font-family=\"Times,serif\" font-size=\"14.00\">q</text>\n",
       "</g>\n",
       "<!-- Rz -->\n",
       "<g id=\"node2\" class=\"node\">\n",
       "<title>Rz</title>\n",
       "<polygon fill=\"none\" stroke=\"black\" points=\"91,-29 91,-46 127,-46 127,-29 91,-29\"/>\n",
       "<text text-anchor=\"start\" x=\"94\" y=\"-35\" font-family=\"Times,serif\" font-size=\"10.00\">cirq.Rz</text>\n",
       "<polygon fill=\"none\" stroke=\"black\" points=\"91,-8 91,-29 127,-29 127,-8 91,-8\"/>\n",
       "<text text-anchor=\"start\" x=\"105.5\" y=\"-14.8\" font-family=\"Times,serif\" font-size=\"14.00\">q</text>\n",
       "</g>\n",
       "<!-- q_G1&#45;&gt;Rz -->\n",
       "<g id=\"edge1\" class=\"edge\">\n",
       "<title>q_G1:e-&gt;Rz:w</title>\n",
       "<path fill=\"none\" stroke=\"black\" d=\"M54,-18C69.67,-18 74.14,-18 88.77,-18\"/>\n",
       "<ellipse fill=\"black\" stroke=\"black\" cx=\"90\" cy=\"-18\" rx=\"1\" ry=\"1\"/>\n",
       "<text text-anchor=\"middle\" x=\"72.5\" y=\"-21\" font-family=\"Times,serif\" font-size=\"10.00\">1</text>\n",
       "</g>\n",
       "<!-- q_G0 -->\n",
       "<g id=\"node3\" class=\"node\">\n",
       "<title>q_G0</title>\n",
       "<text text-anchor=\"middle\" x=\"191\" y=\"-14.3\" font-family=\"Times,serif\" font-size=\"14.00\">q</text>\n",
       "</g>\n",
       "<!-- Rz&#45;&gt;q_G0 -->\n",
       "<g id=\"edge2\" class=\"edge\">\n",
       "<title>Rz:e-&gt;q_G0:w</title>\n",
       "<path fill=\"none\" stroke=\"black\" d=\"M127,-18C142.67,-18 147.14,-18 161.77,-18\"/>\n",
       "<ellipse fill=\"black\" stroke=\"black\" cx=\"163\" cy=\"-18\" rx=\"1\" ry=\"1\"/>\n",
       "<text text-anchor=\"middle\" x=\"145.5\" y=\"-21\" font-family=\"Times,serif\" font-size=\"10.00\">1</text>\n",
       "</g>\n",
       "</g>\n",
       "</svg>"
      ],
      "text/plain": [
       "<IPython.core.display.SVG object>"
      ]
     },
     "metadata": {},
     "output_type": "display_data"
    }
   ],
   "source": [
    "from qualtran.bloqs.basic_gates import Rz\n",
    "\n",
    "bloq = Rz(angle=np.pi / 4.0)\n",
    "show_bloq(bloq)"
   ]
  },
  {
   "cell_type": "markdown",
   "id": "0d1331d3",
   "metadata": {
    "cq.autogen": "_make_t_gate.md"
   },
   "source": [
    "## `TGate`\n",
    "The T gate.\n",
    "\n",
    "This is the fourth root of the Pauli Z gate. Quantum programs composed solely\n",
    "of gates belonging to the Clifford group (like X, Z, Hadamard, CNOT, S) can be simulated\n",
    "efficiently by a classical computer and therefore offer no quantum advantage. The Clifford\n",
    "gates do not provide a universal quantum gateset. The addition of any non-Clifford gate\n",
    "makes the gateset universal. One of the most popular additions is the T gate, yielding\n",
    "the common Clifford+T gateset.\n",
    "\n",
    "The unitary matrix of `cirq.T` is\n",
    "$$\n",
    "\\begin{bmatrix}\n",
    "    1 & 0 \\\\\n",
    "    0 & e^{i \\pi /4}\n",
    "\\end{bmatrix}\n",
    "$$\n",
    "\n",
    "#### Parameters\n",
    " - `is_adjoint`: If True, this bloq is $T^\\dagger$ instead. \n",
    "\n",
    "#### Registers\n",
    " - `q`: The qubit \n",
    "\n",
    "#### References\n",
    "[Universal Quantum Computation with ideal Clifford gates and noisy ancillas](https://arxiv.org/abs/quant-ph/0403025).\n",
    "    Bravyi and Kitaev. 2004.\n",
    "[Fast and efficient exact synthesis of single qubit unitaries generated by Clifford and T gates](https://arxiv.org/abs/1206.5236).\n",
    "    Kliuchnikov et. al. 2012.\n",
    "[Universal Gate Set, Magic States, and costliness of the T gate](https://quantumcomputing.stackexchange.com/a/33358).\n",
    "    Gidney. 2023.\n"
   ]
  },
  {
   "cell_type": "code",
   "execution_count": 13,
   "id": "74a10f2f",
   "metadata": {
    "cq.autogen": "_make_t_gate.py"
   },
   "outputs": [
    {
     "data": {
      "image/svg+xml": [
       "<svg xmlns=\"http://www.w3.org/2000/svg\" xmlns:xlink=\"http://www.w3.org/1999/xlink\" width=\"203pt\" height=\"54pt\" viewBox=\"0.00 0.00 203.00 54.00\">\n",
       "<g id=\"graph0\" class=\"graph\" transform=\"scale(1 1) rotate(0) translate(4 50)\">\n",
       "<title>my_graph</title>\n",
       "<polygon fill=\"white\" stroke=\"transparent\" points=\"-4,4 -4,-50 199,-50 199,4 -4,4\"/>\n",
       "<!-- q_G1 -->\n",
       "<g id=\"node1\" class=\"node\">\n",
       "<title>q_G1</title>\n",
       "<text text-anchor=\"middle\" x=\"27\" y=\"-14.3\" font-family=\"Times,serif\" font-size=\"14.00\">q</text>\n",
       "</g>\n",
       "<!-- TGate -->\n",
       "<g id=\"node2\" class=\"node\">\n",
       "<title>TGate</title>\n",
       "<polygon fill=\"none\" stroke=\"black\" points=\"91.5,-29 91.5,-46 104.5,-46 104.5,-29 91.5,-29\"/>\n",
       "<text text-anchor=\"start\" x=\"94.5\" y=\"-35\" font-family=\"Times,serif\" font-size=\"10.00\">T</text>\n",
       "<polygon fill=\"none\" stroke=\"black\" points=\"91.5,-8 91.5,-29 104.5,-29 104.5,-8 91.5,-8\"/>\n",
       "<text text-anchor=\"start\" x=\"94.5\" y=\"-14.8\" font-family=\"Times,serif\" font-size=\"14.00\">q</text>\n",
       "</g>\n",
       "<!-- q_G1&#45;&gt;TGate -->\n",
       "<g id=\"edge1\" class=\"edge\">\n",
       "<title>q_G1:e-&gt;TGate:w</title>\n",
       "<path fill=\"none\" stroke=\"black\" d=\"M54,-18C69.67,-18 74.14,-18 88.77,-18\"/>\n",
       "<ellipse fill=\"black\" stroke=\"black\" cx=\"90\" cy=\"-18\" rx=\"1\" ry=\"1\"/>\n",
       "<text text-anchor=\"middle\" x=\"72.5\" y=\"-21\" font-family=\"Times,serif\" font-size=\"10.00\">1</text>\n",
       "</g>\n",
       "<!-- q_G2 -->\n",
       "<g id=\"node3\" class=\"node\">\n",
       "<title>q_G2</title>\n",
       "<text text-anchor=\"middle\" x=\"168\" y=\"-14.3\" font-family=\"Times,serif\" font-size=\"14.00\">q</text>\n",
       "</g>\n",
       "<!-- TGate&#45;&gt;q_G2 -->\n",
       "<g id=\"edge2\" class=\"edge\">\n",
       "<title>TGate:e-&gt;q_G2:w</title>\n",
       "<path fill=\"none\" stroke=\"black\" d=\"M104,-18C119.67,-18 124.14,-18 138.77,-18\"/>\n",
       "<ellipse fill=\"black\" stroke=\"black\" cx=\"140\" cy=\"-18\" rx=\"1\" ry=\"1\"/>\n",
       "<text text-anchor=\"middle\" x=\"122.5\" y=\"-21\" font-family=\"Times,serif\" font-size=\"10.00\">1</text>\n",
       "</g>\n",
       "</g>\n",
       "</svg>"
      ],
      "text/plain": [
       "<IPython.core.display.SVG object>"
      ]
     },
     "metadata": {},
     "output_type": "display_data"
    }
   ],
   "source": [
    "from qualtran.bloqs.basic_gates import TGate\n",
    "\n",
    "bloq = TGate()\n",
    "show_bloq(bloq)"
   ]
  },
  {
   "cell_type": "markdown",
   "id": "b53c95ca",
   "metadata": {},
   "source": [
    "We can create the \"magic state\" T|+> which is used via teleportation to do non-Clifford operations in the surface code."
   ]
  },
  {
   "cell_type": "code",
   "execution_count": 14,
   "id": "db837f41",
   "metadata": {},
   "outputs": [
    {
     "data": {
      "image/svg+xml": [
       "<svg xmlns=\"http://www.w3.org/2000/svg\" xmlns:xlink=\"http://www.w3.org/1999/xlink\" width=\"168pt\" height=\"54pt\" viewBox=\"0.00 0.00 168.00 54.00\">\n",
       "<g id=\"graph0\" class=\"graph\" transform=\"scale(1 1) rotate(0) translate(4 50)\">\n",
       "<title>my_graph</title>\n",
       "<polygon fill=\"white\" stroke=\"transparent\" points=\"-4,4 -4,-50 164,-50 164,4 -4,4\"/>\n",
       "<!-- PlusState -->\n",
       "<g id=\"node1\" class=\"node\">\n",
       "<title>PlusState</title>\n",
       "<polygon fill=\"none\" stroke=\"black\" points=\"0.5,-29 0.5,-46 19.5,-46 19.5,-29 0.5,-29\"/>\n",
       "<text text-anchor=\"start\" x=\"6.5\" y=\"-35\" font-family=\"Times,serif\" font-size=\"10.00\">+</text>\n",
       "<polygon fill=\"none\" stroke=\"black\" points=\"0.5,-8 0.5,-29 6.5,-29 6.5,-8 0.5,-8\"/>\n",
       "<polygon fill=\"none\" stroke=\"black\" points=\"6.5,-8 6.5,-29 19.5,-29 19.5,-8 6.5,-8\"/>\n",
       "<text text-anchor=\"start\" x=\"9.5\" y=\"-14.8\" font-family=\"Times,serif\" font-size=\"14.00\">q</text>\n",
       "</g>\n",
       "<!-- TGate -->\n",
       "<g id=\"node2\" class=\"node\">\n",
       "<title>TGate</title>\n",
       "<polygon fill=\"none\" stroke=\"black\" points=\"56.5,-29 56.5,-46 69.5,-46 69.5,-29 56.5,-29\"/>\n",
       "<text text-anchor=\"start\" x=\"59.5\" y=\"-35\" font-family=\"Times,serif\" font-size=\"10.00\">T</text>\n",
       "<polygon fill=\"none\" stroke=\"black\" points=\"56.5,-8 56.5,-29 69.5,-29 69.5,-8 56.5,-8\"/>\n",
       "<text text-anchor=\"start\" x=\"59.5\" y=\"-14.8\" font-family=\"Times,serif\" font-size=\"14.00\">q</text>\n",
       "</g>\n",
       "<!-- PlusState&#45;&gt;TGate -->\n",
       "<g id=\"edge1\" class=\"edge\">\n",
       "<title>PlusState:e-&gt;TGate:w</title>\n",
       "<path fill=\"none\" stroke=\"black\" d=\"M19,-18C34.67,-18 39.14,-18 53.77,-18\"/>\n",
       "<ellipse fill=\"black\" stroke=\"black\" cx=\"55\" cy=\"-18\" rx=\"1\" ry=\"1\"/>\n",
       "<text text-anchor=\"middle\" x=\"37.5\" y=\"-21\" font-family=\"Times,serif\" font-size=\"10.00\">1</text>\n",
       "</g>\n",
       "<!-- q_G2 -->\n",
       "<g id=\"node3\" class=\"node\">\n",
       "<title>q_G2</title>\n",
       "<text text-anchor=\"middle\" x=\"133\" y=\"-14.3\" font-family=\"Times,serif\" font-size=\"14.00\">q</text>\n",
       "</g>\n",
       "<!-- TGate&#45;&gt;q_G2 -->\n",
       "<g id=\"edge2\" class=\"edge\">\n",
       "<title>TGate:e-&gt;q_G2:w</title>\n",
       "<path fill=\"none\" stroke=\"black\" d=\"M69,-18C84.67,-18 89.14,-18 103.77,-18\"/>\n",
       "<ellipse fill=\"black\" stroke=\"black\" cx=\"105\" cy=\"-18\" rx=\"1\" ry=\"1\"/>\n",
       "<text text-anchor=\"middle\" x=\"87.5\" y=\"-21\" font-family=\"Times,serif\" font-size=\"10.00\">1</text>\n",
       "</g>\n",
       "</g>\n",
       "</svg>"
      ],
      "text/plain": [
       "<IPython.core.display.SVG object>"
      ]
     },
     "metadata": {},
     "output_type": "display_data"
    }
   ],
   "source": [
    "bb = BloqBuilder()\n",
    "q = bb.add(PlusState())\n",
    "q = bb.add(TGate(), q=q)\n",
    "cbloq = bb.finalize(q=q)\n",
    "show_bloq(cbloq)"
   ]
  },
  {
   "cell_type": "code",
   "execution_count": 15,
   "id": "cfc36441",
   "metadata": {},
   "outputs": [
    {
     "data": {
      "image/svg+xml": [
       "<svg xmlns=\"http://www.w3.org/2000/svg\" width=\"224.775234375\" height=\"50.0\"><line x1=\"32.3876171875\" x2=\"194.775234375\" y1=\"25.0\" y2=\"25.0\" stroke=\"#1967d2\" stroke-width=\"1\" /><rect x=\"10.0\" y=\"5.0\" width=\"44.775234375\" height=\"40\" stroke=\"black\" fill=\"white\" stroke-width=\"0\" /><text x=\"32.3876171875\" y=\"25.0\" dominant-baseline=\"middle\" text-anchor=\"middle\" font-size=\"14px\" font-family=\"Arial:style=normal:variant=normal:weight=normal:stretch=normal:size=10.0\">_c(0): </text><rect x=\"74.775234375\" y=\"5.0\" width=\"40\" height=\"40\" stroke=\"black\" fill=\"white\" stroke-width=\"1\" /><text x=\"94.775234375\" y=\"25.0\" dominant-baseline=\"middle\" text-anchor=\"middle\" font-size=\"18px\" font-family=\"Arial:style=normal:variant=normal:weight=normal:stretch=normal:size=10.0\">H</text><rect x=\"134.775234375\" y=\"5.0\" width=\"40\" height=\"40\" stroke=\"black\" fill=\"white\" stroke-width=\"1\" /><text x=\"154.775234375\" y=\"25.0\" dominant-baseline=\"middle\" text-anchor=\"middle\" font-size=\"18px\" font-family=\"Arial:style=normal:variant=normal:weight=normal:stretch=normal:size=10.0\">T</text></svg>"
      ],
      "text/plain": [
       "<cirq.contrib.svg.svg.SVGCircuit at 0x7f44b2707280>"
      ]
     },
     "execution_count": 15,
     "metadata": {},
     "output_type": "execute_result"
    }
   ],
   "source": [
    "circuit, _ = cbloq.to_cirq_circuit()\n",
    "SVGCircuit(circuit)"
   ]
  },
  {
   "cell_type": "code",
   "execution_count": 16,
   "id": "ae6f2fba",
   "metadata": {},
   "outputs": [
    {
     "data": {
      "text/plain": [
       "array([1.        +0.j        , 0.70710678+0.70710678j])"
      ]
     },
     "execution_count": 16,
     "metadata": {},
     "output_type": "execute_result"
    }
   ],
   "source": [
    "psi = circuit.final_state_vector()\n",
    "psi * np.sqrt(2)"
   ]
  },
  {
   "cell_type": "markdown",
   "id": "30a5458b",
   "metadata": {
    "cq.autogen": "_make_Toffoli.md"
   },
   "source": [
    "## `Toffoli`\n",
    "The Toffoli gate.\n",
    "\n",
    "This will flip the target bit if both controls are active. It can be thought of as\n",
    "a reversible AND gate.\n",
    "\n",
    "Like `TGate`, this is a common compilation target. The Clifford+Toffoli gateset is\n",
    "universal.\n",
    "\n",
    "#### References\n",
    "[Novel constructions for the fault-tolerant Toffoli gate](https://arxiv.org/abs/1212.5069).\n",
    "Cody Jones. 2012. Provides a decomposition into 4 `TGate`.\n"
   ]
  },
  {
   "cell_type": "code",
   "execution_count": 17,
   "id": "020ce731",
   "metadata": {
    "cq.autogen": "_make_Toffoli.py"
   },
   "outputs": [
    {
     "data": {
      "image/svg+xml": [
       "<svg xmlns=\"http://www.w3.org/2000/svg\" xmlns:xlink=\"http://www.w3.org/1999/xlink\" width=\"230pt\" height=\"152pt\" viewBox=\"0.00 0.00 230.00 152.00\">\n",
       "<g id=\"graph0\" class=\"graph\" transform=\"scale(1 1) rotate(0) translate(4 148)\">\n",
       "<title>my_graph</title>\n",
       "<polygon fill=\"white\" stroke=\"transparent\" points=\"-4,4 -4,-148 226,-148 226,4 -4,4\"/>\n",
       "<!-- ctrl_G3 -->\n",
       "<g id=\"node1\" class=\"node\">\n",
       "<title>ctrl_G3</title>\n",
       "<text text-anchor=\"middle\" x=\"27\" y=\"-122.3\" font-family=\"Times,serif\" font-size=\"14.00\">ctrl[0]</text>\n",
       "</g>\n",
       "<!-- Toffoli -->\n",
       "<g id=\"node4\" class=\"node\">\n",
       "<title>Toffoli</title>\n",
       "<polygon fill=\"none\" stroke=\"black\" points=\"91,-104 91,-121 131,-121 131,-104 91,-104\"/>\n",
       "<text text-anchor=\"start\" x=\"97\" y=\"-110\" font-family=\"Times,serif\" font-size=\"10.00\">Toffoli</text>\n",
       "<polygon fill=\"none\" stroke=\"black\" points=\"91,-83 91,-104 131,-104 131,-83 91,-83\"/>\n",
       "<text text-anchor=\"start\" x=\"94\" y=\"-89.8\" font-family=\"Times,serif\" font-size=\"14.00\">ctrl[0]</text>\n",
       "<polygon fill=\"none\" stroke=\"black\" points=\"91,-62 91,-83 131,-83 131,-62 91,-62\"/>\n",
       "<text text-anchor=\"start\" x=\"94\" y=\"-68.8\" font-family=\"Times,serif\" font-size=\"14.00\">ctrl[1]</text>\n",
       "<polygon fill=\"none\" stroke=\"black\" points=\"91,-41 91,-62 131,-62 131,-41 91,-41\"/>\n",
       "<text text-anchor=\"start\" x=\"95.5\" y=\"-47.8\" font-family=\"Times,serif\" font-size=\"14.00\">target</text>\n",
       "</g>\n",
       "<!-- ctrl_G3&#45;&gt;Toffoli -->\n",
       "<g id=\"edge1\" class=\"edge\">\n",
       "<title>ctrl_G3:e-&gt;Toffoli:w</title>\n",
       "<path fill=\"none\" stroke=\"black\" d=\"M54,-126C74.89,-126 69.72,-96.45 88.58,-94.14\"/>\n",
       "<ellipse fill=\"black\" stroke=\"black\" cx=\"90\" cy=\"-94.06\" rx=\"1\" ry=\"1\"/>\n",
       "<text text-anchor=\"middle\" x=\"72.5\" y=\"-113\" font-family=\"Times,serif\" font-size=\"10.00\">1</text>\n",
       "</g>\n",
       "<!-- ctrl_G1 -->\n",
       "<g id=\"node2\" class=\"node\">\n",
       "<title>ctrl_G1</title>\n",
       "<text text-anchor=\"middle\" x=\"27\" y=\"-68.3\" font-family=\"Times,serif\" font-size=\"14.00\">ctrl[1]</text>\n",
       "</g>\n",
       "<!-- ctrl_G1&#45;&gt;Toffoli -->\n",
       "<g id=\"edge2\" class=\"edge\">\n",
       "<title>ctrl_G1:e-&gt;Toffoli:w</title>\n",
       "<path fill=\"none\" stroke=\"black\" d=\"M54,-72C69.67,-72 74.14,-72 88.77,-72\"/>\n",
       "<ellipse fill=\"black\" stroke=\"black\" cx=\"90\" cy=\"-72\" rx=\"1\" ry=\"1\"/>\n",
       "<text text-anchor=\"middle\" x=\"72.5\" y=\"-75\" font-family=\"Times,serif\" font-size=\"10.00\">1</text>\n",
       "</g>\n",
       "<!-- target_G5 -->\n",
       "<g id=\"node3\" class=\"node\">\n",
       "<title>target_G5</title>\n",
       "<text text-anchor=\"middle\" x=\"27\" y=\"-14.3\" font-family=\"Times,serif\" font-size=\"14.00\">target</text>\n",
       "</g>\n",
       "<!-- target_G5&#45;&gt;Toffoli -->\n",
       "<g id=\"edge3\" class=\"edge\">\n",
       "<title>target_G5:e-&gt;Toffoli:w</title>\n",
       "<path fill=\"none\" stroke=\"black\" d=\"M54,-18C75.17,-18 69.47,-48.47 88.55,-50.85\"/>\n",
       "<ellipse fill=\"black\" stroke=\"black\" cx=\"90\" cy=\"-50.94\" rx=\"1\" ry=\"1\"/>\n",
       "<text text-anchor=\"middle\" x=\"72.5\" y=\"-39\" font-family=\"Times,serif\" font-size=\"10.00\">1</text>\n",
       "</g>\n",
       "<!-- ctrl_G6 -->\n",
       "<g id=\"node5\" class=\"node\">\n",
       "<title>ctrl_G6</title>\n",
       "<text text-anchor=\"middle\" x=\"195\" y=\"-122.3\" font-family=\"Times,serif\" font-size=\"14.00\">ctrl[0]</text>\n",
       "</g>\n",
       "<!-- Toffoli&#45;&gt;ctrl_G6 -->\n",
       "<g id=\"edge4\" class=\"edge\">\n",
       "<title>Toffoli:e-&gt;ctrl_G6:w</title>\n",
       "<path fill=\"none\" stroke=\"black\" d=\"M131,-94C151.89,-94 146.72,-123.55 165.58,-125.86\"/>\n",
       "<ellipse fill=\"black\" stroke=\"black\" cx=\"167\" cy=\"-125.94\" rx=\"1\" ry=\"1\"/>\n",
       "<text text-anchor=\"middle\" x=\"149.5\" y=\"-113\" font-family=\"Times,serif\" font-size=\"10.00\">1</text>\n",
       "</g>\n",
       "<!-- ctrl_G0 -->\n",
       "<g id=\"node6\" class=\"node\">\n",
       "<title>ctrl_G0</title>\n",
       "<text text-anchor=\"middle\" x=\"195\" y=\"-68.3\" font-family=\"Times,serif\" font-size=\"14.00\">ctrl[1]</text>\n",
       "</g>\n",
       "<!-- Toffoli&#45;&gt;ctrl_G0 -->\n",
       "<g id=\"edge5\" class=\"edge\">\n",
       "<title>Toffoli:e-&gt;ctrl_G0:w</title>\n",
       "<path fill=\"none\" stroke=\"black\" d=\"M131,-72C146.67,-72 151.14,-72 165.77,-72\"/>\n",
       "<ellipse fill=\"black\" stroke=\"black\" cx=\"167\" cy=\"-72\" rx=\"1\" ry=\"1\"/>\n",
       "<text text-anchor=\"middle\" x=\"149.5\" y=\"-75\" font-family=\"Times,serif\" font-size=\"10.00\">1</text>\n",
       "</g>\n",
       "<!-- target_G8 -->\n",
       "<g id=\"node7\" class=\"node\">\n",
       "<title>target_G8</title>\n",
       "<text text-anchor=\"middle\" x=\"195\" y=\"-14.3\" font-family=\"Times,serif\" font-size=\"14.00\">target</text>\n",
       "</g>\n",
       "<!-- Toffoli&#45;&gt;target_G8 -->\n",
       "<g id=\"edge6\" class=\"edge\">\n",
       "<title>Toffoli:e-&gt;target_G8:w</title>\n",
       "<path fill=\"none\" stroke=\"black\" d=\"M131,-51C152.17,-51 146.47,-20.53 165.55,-18.15\"/>\n",
       "<ellipse fill=\"black\" stroke=\"black\" cx=\"167\" cy=\"-18.06\" rx=\"1\" ry=\"1\"/>\n",
       "<text text-anchor=\"middle\" x=\"149.5\" y=\"-39\" font-family=\"Times,serif\" font-size=\"10.00\">1</text>\n",
       "</g>\n",
       "</g>\n",
       "</svg>"
      ],
      "text/plain": [
       "<IPython.core.display.SVG object>"
      ]
     },
     "metadata": {},
     "output_type": "display_data"
    }
   ],
   "source": [
    "from qualtran.bloqs.basic_gates import Toffoli\n",
    "\n",
    "bloq = Toffoli()\n",
    "show_bloq(bloq)"
   ]
  },
  {
   "cell_type": "code",
   "execution_count": 18,
   "id": "0aca6c53",
   "metadata": {},
   "outputs": [
    {
     "data": {
      "image/svg+xml": [
       "<svg xmlns=\"http://www.w3.org/2000/svg\" xmlns:xlink=\"http://www.w3.org/1999/xlink\" width=\"121pt\" height=\"131pt\" viewBox=\"0.00 0.00 121.00 131.00\">\n",
       "<g id=\"graph0\" class=\"graph\" transform=\"scale(1 1) rotate(0) translate(4 127)\">\n",
       "<title>counts</title>\n",
       "<polygon fill=\"white\" stroke=\"transparent\" points=\"-4,4 -4,-127 117,-127 117,4 -4,4\"/>\n",
       "<!-- b0 -->\n",
       "<g id=\"node1\" class=\"node\">\n",
       "<title>b0</title>\n",
       "<polygon fill=\"none\" stroke=\"black\" points=\"84,-123 29,-123 29,-87 84,-87 84,-123\"/>\n",
       "<text text-anchor=\"start\" x=\"37\" y=\"-101.3\" font-family=\"Times,serif\" font-size=\"14.00\">Toffoli</text>\n",
       "</g>\n",
       "<!-- b1 -->\n",
       "<g id=\"node2\" class=\"node\">\n",
       "<title>b1</title>\n",
       "<polygon fill=\"none\" stroke=\"black\" points=\"113,-36 0,-36 0,0 113,0 113,-36\"/>\n",
       "<text text-anchor=\"start\" x=\"52\" y=\"-19.8\" font-family=\"Times,serif\" font-size=\"14.00\">T</text>\n",
       "<text text-anchor=\"start\" x=\"8\" y=\"-9\" font-family=\"monospace\" font-size=\"10.00\">is_adjoint=False</text>\n",
       "</g>\n",
       "<!-- b0&#45;&gt;b1 -->\n",
       "<g id=\"edge1\" class=\"edge\">\n",
       "<title>b0-&gt;b1</title>\n",
       "<path fill=\"none\" stroke=\"black\" d=\"M56.5,-86.8C56.5,-75.16 56.5,-59.55 56.5,-46.24\"/>\n",
       "<polygon fill=\"black\" stroke=\"black\" points=\"60,-46.18 56.5,-36.18 53,-46.18 60,-46.18\"/>\n",
       "<text text-anchor=\"middle\" x=\"60\" y=\"-57.8\" font-family=\"Times,serif\" font-size=\"14.00\">4</text>\n",
       "</g>\n",
       "</g>\n",
       "</svg>"
      ],
      "text/plain": [
       "<IPython.core.display.SVG object>"
      ]
     },
     "metadata": {},
     "output_type": "display_data"
    },
    {
     "data": {
      "text/markdown": [
       "#### Counts totals:\n",
       " - `TGate()`: 4"
      ],
      "text/plain": [
       "<IPython.core.display.Markdown object>"
      ]
     },
     "metadata": {},
     "output_type": "display_data"
    }
   ],
   "source": [
    "from qualtran.drawing import show_call_graph, show_counts_sigma\n",
    "\n",
    "g, sigma = bloq.call_graph()\n",
    "show_call_graph(g)\n",
    "show_counts_sigma(sigma)"
   ]
  },
  {
   "cell_type": "markdown",
   "id": "684063ca",
   "metadata": {
    "cq.autogen": "_make_Hadamard.md"
   },
   "source": [
    "## `Hadamard`\n",
    "The Hadamard gate\n",
    "\n",
    "This converts between the X and Z basis.\n",
    "\n",
    "$$\n",
    "H |0\\rangle = |+\\rangle \\\\\n",
    "H |-\\rangle = |1\\rangle\n",
    "$$\n",
    "\n",
    "#### Registers\n",
    " - `q`: The qubit\n"
   ]
  },
  {
   "cell_type": "code",
   "execution_count": 19,
   "id": "a5c97801",
   "metadata": {
    "cq.autogen": "_make_Hadamard.py"
   },
   "outputs": [
    {
     "data": {
      "image/svg+xml": [
       "<svg xmlns=\"http://www.w3.org/2000/svg\" xmlns:xlink=\"http://www.w3.org/1999/xlink\" width=\"204pt\" height=\"54pt\" viewBox=\"0.00 0.00 204.00 54.00\">\n",
       "<g id=\"graph0\" class=\"graph\" transform=\"scale(1 1) rotate(0) translate(4 50)\">\n",
       "<title>my_graph</title>\n",
       "<polygon fill=\"white\" stroke=\"transparent\" points=\"-4,4 -4,-50 200,-50 200,4 -4,4\"/>\n",
       "<!-- q_G2 -->\n",
       "<g id=\"node1\" class=\"node\">\n",
       "<title>q_G2</title>\n",
       "<text text-anchor=\"middle\" x=\"27\" y=\"-14.3\" font-family=\"Times,serif\" font-size=\"14.00\">q</text>\n",
       "</g>\n",
       "<!-- Hadamard -->\n",
       "<g id=\"node2\" class=\"node\">\n",
       "<title>Hadamard</title>\n",
       "<polygon fill=\"none\" stroke=\"black\" points=\"91,-29 91,-46 105,-46 105,-29 91,-29\"/>\n",
       "<text text-anchor=\"start\" x=\"94\" y=\"-35\" font-family=\"Times,serif\" font-size=\"10.00\">H</text>\n",
       "<polygon fill=\"none\" stroke=\"black\" points=\"91,-8 91,-29 105,-29 105,-8 91,-8\"/>\n",
       "<text text-anchor=\"start\" x=\"94.5\" y=\"-14.8\" font-family=\"Times,serif\" font-size=\"14.00\">q</text>\n",
       "</g>\n",
       "<!-- q_G2&#45;&gt;Hadamard -->\n",
       "<g id=\"edge1\" class=\"edge\">\n",
       "<title>q_G2:e-&gt;Hadamard:w</title>\n",
       "<path fill=\"none\" stroke=\"black\" d=\"M54,-18C69.67,-18 74.14,-18 88.77,-18\"/>\n",
       "<ellipse fill=\"black\" stroke=\"black\" cx=\"90\" cy=\"-18\" rx=\"1\" ry=\"1\"/>\n",
       "<text text-anchor=\"middle\" x=\"72.5\" y=\"-21\" font-family=\"Times,serif\" font-size=\"10.00\">1</text>\n",
       "</g>\n",
       "<!-- q_G0 -->\n",
       "<g id=\"node3\" class=\"node\">\n",
       "<title>q_G0</title>\n",
       "<text text-anchor=\"middle\" x=\"169\" y=\"-14.3\" font-family=\"Times,serif\" font-size=\"14.00\">q</text>\n",
       "</g>\n",
       "<!-- Hadamard&#45;&gt;q_G0 -->\n",
       "<g id=\"edge2\" class=\"edge\">\n",
       "<title>Hadamard:e-&gt;q_G0:w</title>\n",
       "<path fill=\"none\" stroke=\"black\" d=\"M105,-18C120.67,-18 125.14,-18 139.77,-18\"/>\n",
       "<ellipse fill=\"black\" stroke=\"black\" cx=\"141\" cy=\"-18\" rx=\"1\" ry=\"1\"/>\n",
       "<text text-anchor=\"middle\" x=\"123.5\" y=\"-21\" font-family=\"Times,serif\" font-size=\"10.00\">1</text>\n",
       "</g>\n",
       "</g>\n",
       "</svg>"
      ],
      "text/plain": [
       "<IPython.core.display.SVG object>"
      ]
     },
     "metadata": {},
     "output_type": "display_data"
    }
   ],
   "source": [
    "from qualtran.bloqs.basic_gates import Hadamard\n",
    "\n",
    "bloq = Hadamard()\n",
    "show_bloq(bloq)"
   ]
  }
 ],
 "metadata": {
  "kernelspec": {
   "display_name": "Python 3 (ipykernel)",
   "language": "python",
   "name": "python3"
  },
  "language_info": {
   "codemirror_mode": {
    "name": "ipython",
    "version": 3
   },
   "file_extension": ".py",
   "mimetype": "text/x-python",
   "name": "python",
   "nbconvert_exporter": "python",
   "pygments_lexer": "ipython3",
   "version": "3.10.12"
  }
 },
 "nbformat": 4,
 "nbformat_minor": 5
}
