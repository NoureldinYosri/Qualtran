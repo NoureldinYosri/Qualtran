{
 "cells": [
  {
   "cell_type": "code",
   "execution_count": 1,
   "id": "ce48b2ae",
   "metadata": {
    "execution": {
     "iopub.execute_input": "2023-10-30T23:24:44.292626Z",
     "iopub.status.busy": "2023-10-30T23:24:44.292207Z",
     "iopub.status.idle": "2023-10-30T23:24:44.296782Z",
     "shell.execute_reply": "2023-10-30T23:24:44.296309Z"
    }
   },
   "outputs": [],
   "source": [
    "#  Copyright 2023 Google LLC\n",
    "#\n",
    "#  Licensed under the Apache License, Version 2.0 (the \"License\");\n",
    "#  you may not use this file except in compliance with the License.\n",
    "#  You may obtain a copy of the License at\n",
    "#\n",
    "#      https://www.apache.org/licenses/LICENSE-2.0\n",
    "#\n",
    "#  Unless required by applicable law or agreed to in writing, software\n",
    "#  distributed under the License is distributed on an \"AS IS\" BASIS,\n",
    "#  WITHOUT WARRANTIES OR CONDITIONS OF ANY KIND, either express or implied.\n",
    "#  See the License for the specific language governing permissions and\n",
    "#  limitations under the License."
   ]
  },
  {
   "cell_type": "markdown",
   "id": "e2dca938",
   "metadata": {
    "cq.autogen": "title_cell"
   },
   "source": [
    "# State Preparation using Coherent Alias Sampling\n",
    "\n",
    "Gates for preparing coefficient states.\n",
    "\n",
    "In section III.D. of the [Linear T paper](https://arxiv.org/abs/1805.03662) the authors introduce\n",
    "a technique for initializing a state with $L$ unique coefficients (provided by a classical\n",
    "database) with a number of T gates scaling as 4L + O(log(1/eps)) where eps is the\n",
    "largest absolute error that one can tolerate in the prepared amplitudes."
   ]
  },
  {
   "cell_type": "code",
   "execution_count": 2,
   "id": "1e7c27f6",
   "metadata": {
    "cq.autogen": "top_imports",
    "execution": {
     "iopub.execute_input": "2023-10-30T23:24:44.300768Z",
     "iopub.status.busy": "2023-10-30T23:24:44.300568Z",
     "iopub.status.idle": "2023-10-30T23:24:46.188193Z",
     "shell.execute_reply": "2023-10-30T23:24:46.187915Z"
    }
   },
   "outputs": [
    {
     "name": "stderr",
     "output_type": "stream",
     "text": [
      "OMP: Info #276: omp_set_nested routine deprecated, please use omp_set_max_active_levels instead.\n"
     ]
    }
   ],
   "source": [
    "import cirq\n",
    "import numpy as np\n",
    "import qualtran.cirq_interop.testing as cq_testing\n",
    "from qualtran.cirq_interop.jupyter_tools import display_gate_and_compilation\n",
    "from typing import *"
   ]
  },
  {
   "cell_type": "markdown",
   "id": "bf85ebed",
   "metadata": {
    "cq.autogen": "_make_StatePreparationAliasSampling.md"
   },
   "source": [
    "## `StatePreparationAliasSampling`\n",
    "Initialize a state with $L$ unique coefficients using coherent alias sampling.\n",
    "\n",
    "In particular, we take the zero state to:\n",
    "\n",
    "$$\n",
    "\\sum_{\\ell=0}^{L-1} \\sqrt{p_\\ell} |\\ell\\rangle |\\mathrm{temp}_\\ell\\rangle\n",
    "$$\n",
    "\n",
    "where the probabilities $p_\\ell$ are $\\mu$-bit binary approximations to the true values and\n",
    "where the temporary register must be treated with care, see the details in Section III.D. of\n",
    "the reference.\n",
    "\n",
    "The preparation is equivalent to [classical alias sampling](https://en.wikipedia.org/wiki/Alias_method):\n",
    "we sample `l` with probability `p[l]` by first selecting `l` uniformly at random and then\n",
    "returning it with probability `keep[l] / 2**mu`; otherwise returning `alt[l]`.\n",
    "\n",
    "Registers:\n",
    "    selection: The input/output register $|\\ell\\rangle$ of size lg(L) where the desired\n",
    "        coefficient state is prepared.\n",
    "    temp: Work space comprised of sub signature:\n",
    "        - sigma: A mu-sized register containing uniform probabilities for comparison against\n",
    "            `keep`.\n",
    "        - alt: A lg(L)-sized register of alternate indices\n",
    "        - keep: a mu-sized register of probabilities of keeping the initially sampled index.\n",
    "        - one bit for the result of the comparison.\n",
    "\n",
    "This gate corresponds to the following operations:\n",
    " - UNIFORM_L on the selection register\n",
    " - H^mu on the sigma register\n",
    " - QROM addressed by the selection register into the alt and keep signature.\n",
    " - LessThanEqualGate comparing the keep and sigma signature.\n",
    " - Coherent swap between the selection register and alt register if the comparison\n",
    "   returns True.\n",
    "\n",
    "Total space will be (2 * log(L) + 2 mu + 1) work qubits + log(L) ancillas for QROM.\n",
    "The 1 ancilla in work qubits is for the `LessThanEqualGate` followed by coherent swap.\n",
    "\n",
    "#### Parameters\n",
    " - `lcu_probabilities`: The LCU coefficients.\n",
    " - `probability_epsilon`: The desired accuracy to represent each probability (which sets mu size and keep/alt integers). See `openfermion.circuits.lcu_util.preprocess_lcu_coefficients_for_reversible_sampling` for more information. \n",
    "\n",
    "#### References\n",
    "[Encoding Electronic Spectra in Quantum Circuits with Linear T Complexity](https://arxiv.org/abs/1805.03662). Babbush et. al. (2018). Section III.D. and Figure 11.\n"
   ]
  },
  {
   "cell_type": "code",
   "execution_count": 3,
   "id": "4f9f2b46",
   "metadata": {
    "cq.autogen": "_make_StatePreparationAliasSampling.py",
    "execution": {
     "iopub.execute_input": "2023-10-30T23:24:46.190017Z",
     "iopub.status.busy": "2023-10-30T23:24:46.189862Z",
     "iopub.status.idle": "2023-10-30T23:24:46.761935Z",
     "shell.execute_reply": "2023-10-30T23:24:46.761655Z"
    }
   },
   "outputs": [
    {
     "data": {
      "application/vnd.jupyter.widget-view+json": {
       "model_id": "9ff28301f2414adb861c55013975bf74",
       "version_major": 2,
       "version_minor": 0
      },
      "text/plain": [
       "HBox(children=(Output(outputs=({'output_type': 'display_data', 'data': {'text/plain': '<IPython.core.display.S…"
      ]
     },
     "metadata": {},
     "output_type": "display_data"
    }
   ],
   "source": [
    "from qualtran.bloqs.state_preparation import StatePreparationAliasSampling\n",
    "\n",
    "coeffs = np.array([1.0, 1, 3, 2])\n",
    "mu = 3\n",
    "\n",
    "state_prep = StatePreparationAliasSampling.from_lcu_probs(\n",
    "    coeffs, probability_epsilon=2**-mu / len(coeffs)\n",
    ")\n",
    "g = cq_testing.GateHelper(\n",
    "    state_prep\n",
    ")\n",
    "\n",
    "display_gate_and_compilation(g)"
   ]
  },
  {
   "cell_type": "code",
   "execution_count": null,
   "id": "26c46f4b",
   "metadata": {},
   "outputs": [],
   "source": []
  }
 ],
 "metadata": {
  "kernelspec": {
   "display_name": "Python 3",
   "language": "python",
   "name": "python3"
  },
  "language_info": {
   "codemirror_mode": {
    "name": "ipython",
    "version": 3
   },
   "file_extension": ".py",
   "mimetype": "text/x-python",
   "name": "python",
   "nbconvert_exporter": "python",
   "pygments_lexer": "ipython3",
   "version": "3.10.9"
  },
  "widgets": {
   "application/vnd.jupyter.widget-state+json": {
    "state": {
     "0ff3f729fb904c99a0952831c3c3242c": {
      "model_module": "@jupyter-widgets/base",
      "model_module_version": "2.0.0",
      "model_name": "LayoutModel",
      "state": {
       "_model_module": "@jupyter-widgets/base",
       "_model_module_version": "2.0.0",
       "_model_name": "LayoutModel",
       "_view_count": null,
       "_view_module": "@jupyter-widgets/base",
       "_view_module_version": "2.0.0",
       "_view_name": "LayoutView",
       "align_content": null,
       "align_items": null,
       "align_self": null,
       "border_bottom": null,
       "border_left": null,
       "border_right": null,
       "border_top": null,
       "bottom": null,
       "display": null,
       "flex": null,
       "flex_flow": null,
       "grid_area": null,
       "grid_auto_columns": null,
       "grid_auto_flow": null,
       "grid_auto_rows": null,
       "grid_column": null,
       "grid_gap": null,
       "grid_row": null,
       "grid_template_areas": null,
       "grid_template_columns": null,
       "grid_template_rows": null,
       "height": null,
       "justify_content": null,
       "justify_items": null,
       "left": null,
       "margin": null,
       "max_height": null,
       "max_width": null,
       "min_height": null,
       "min_width": null,
       "object_fit": null,
       "object_position": null,
       "order": null,
       "overflow": null,
       "padding": null,
       "right": null,
       "top": null,
       "visibility": null,
       "width": null
      }
     },
     "270e822ed87847b4be3c49638e7168e0": {
      "model_module": "@jupyter-widgets/output",
      "model_module_version": "1.0.0",
      "model_name": "OutputModel",
      "state": {
       "_dom_classes": [],
       "_model_module": "@jupyter-widgets/output",
       "_model_module_version": "1.0.0",
       "_model_name": "OutputModel",
       "_view_count": null,
       "_view_module": "@jupyter-widgets/output",
       "_view_module_version": "1.0.0",
       "_view_name": "OutputView",
       "layout": "IPY_MODEL_7090bad91ffc422eae32d7e48c461efd",
       "msg_id": "",
       "outputs": [
        {
         "data": {
          "image/svg+xml": "<svg xmlns=\"http://www.w3.org/2000/svg\" width=\"452.687890625\" height=\"550.0\"><line x1=\"66.87177734375001\" x2=\"422.687890625\" y1=\"25.0\" y2=\"25.0\" stroke=\"#1967d2\" stroke-width=\"1\"/><line x1=\"66.87177734375001\" x2=\"422.687890625\" y1=\"75.0\" y2=\"75.0\" stroke=\"#1967d2\" stroke-width=\"1\"/><line x1=\"66.87177734375001\" x2=\"422.687890625\" y1=\"125.0\" y2=\"125.0\" stroke=\"#1967d2\" stroke-width=\"1\"/><line x1=\"66.87177734375001\" x2=\"422.687890625\" y1=\"175.0\" y2=\"175.0\" stroke=\"#1967d2\" stroke-width=\"1\"/><line x1=\"66.87177734375001\" x2=\"422.687890625\" y1=\"225.0\" y2=\"225.0\" stroke=\"#1967d2\" stroke-width=\"1\"/><line x1=\"66.87177734375001\" x2=\"422.687890625\" y1=\"275.0\" y2=\"275.0\" stroke=\"#1967d2\" stroke-width=\"1\"/><line x1=\"66.87177734375001\" x2=\"422.687890625\" y1=\"325.0\" y2=\"325.0\" stroke=\"#1967d2\" stroke-width=\"1\"/><line x1=\"66.87177734375001\" x2=\"422.687890625\" y1=\"375.0\" y2=\"375.0\" stroke=\"#1967d2\" stroke-width=\"1\"/><line x1=\"66.87177734375001\" x2=\"422.687890625\" y1=\"425.0\" y2=\"425.0\" stroke=\"#1967d2\" stroke-width=\"1\"/><line x1=\"66.87177734375001\" x2=\"422.687890625\" y1=\"475.0\" y2=\"475.0\" stroke=\"#1967d2\" stroke-width=\"1\"/><line x1=\"66.87177734375001\" x2=\"422.687890625\" y1=\"525.0\" y2=\"525.0\" stroke=\"#1967d2\" stroke-width=\"1\"/><line x1=\"273.21572265625\" x2=\"273.21572265625\" y1=\"25.0\" y2=\"525.0\" stroke=\"black\" stroke-width=\"3\"/><rect x=\"10.0\" y=\"5.0\" width=\"113.74355468750002\" height=\"40\" stroke=\"black\" fill=\"white\" stroke-width=\"0\"/><text x=\"66.87177734375001\" y=\"25.0\" dominant-baseline=\"middle\" text-anchor=\"middle\" font-size=\"14px\" font-family=\"Arial:style=normal:variant=normal:weight=normal:stretch=normal:size=10.0\">selection0: </text><rect x=\"10.0\" y=\"55.0\" width=\"113.74355468750002\" height=\"40\" stroke=\"black\" fill=\"white\" stroke-width=\"0\"/><text x=\"66.87177734375001\" y=\"75.0\" dominant-baseline=\"middle\" text-anchor=\"middle\" font-size=\"14px\" font-family=\"Arial:style=normal:variant=normal:weight=normal:stretch=normal:size=10.0\">selection1: </text><rect x=\"10.0\" y=\"105.0\" width=\"113.74355468750002\" height=\"40\" stroke=\"black\" fill=\"white\" stroke-width=\"0\"/><text x=\"66.87177734375001\" y=\"125.0\" dominant-baseline=\"middle\" text-anchor=\"middle\" font-size=\"14px\" font-family=\"Arial:style=normal:variant=normal:weight=normal:stretch=normal:size=10.0\">sigma_mu0: </text><rect x=\"10.0\" y=\"155.0\" width=\"113.74355468750002\" height=\"40\" stroke=\"black\" fill=\"white\" stroke-width=\"0\"/><text x=\"66.87177734375001\" y=\"175.0\" dominant-baseline=\"middle\" text-anchor=\"middle\" font-size=\"14px\" font-family=\"Arial:style=normal:variant=normal:weight=normal:stretch=normal:size=10.0\">sigma_mu1: </text><rect x=\"10.0\" y=\"205.0\" width=\"113.74355468750002\" height=\"40\" stroke=\"black\" fill=\"white\" stroke-width=\"0\"/><text x=\"66.87177734375001\" y=\"225.0\" dominant-baseline=\"middle\" text-anchor=\"middle\" font-size=\"14px\" font-family=\"Arial:style=normal:variant=normal:weight=normal:stretch=normal:size=10.0\">sigma_mu2: </text><rect x=\"10.0\" y=\"255.0\" width=\"113.74355468750002\" height=\"40\" stroke=\"black\" fill=\"white\" stroke-width=\"0\"/><text x=\"66.87177734375001\" y=\"275.0\" dominant-baseline=\"middle\" text-anchor=\"middle\" font-size=\"14px\" font-family=\"Arial:style=normal:variant=normal:weight=normal:stretch=normal:size=10.0\">alt0: </text><rect x=\"10.0\" y=\"305.0\" width=\"113.74355468750002\" height=\"40\" stroke=\"black\" fill=\"white\" stroke-width=\"0\"/><text x=\"66.87177734375001\" y=\"325.0\" dominant-baseline=\"middle\" text-anchor=\"middle\" font-size=\"14px\" font-family=\"Arial:style=normal:variant=normal:weight=normal:stretch=normal:size=10.0\">alt1: </text><rect x=\"10.0\" y=\"355.0\" width=\"113.74355468750002\" height=\"40\" stroke=\"black\" fill=\"white\" stroke-width=\"0\"/><text x=\"66.87177734375001\" y=\"375.0\" dominant-baseline=\"middle\" text-anchor=\"middle\" font-size=\"14px\" font-family=\"Arial:style=normal:variant=normal:weight=normal:stretch=normal:size=10.0\">keep0: </text><rect x=\"10.0\" y=\"405.0\" width=\"113.74355468750002\" height=\"40\" stroke=\"black\" fill=\"white\" stroke-width=\"0\"/><text x=\"66.87177734375001\" y=\"425.0\" dominant-baseline=\"middle\" text-anchor=\"middle\" font-size=\"14px\" font-family=\"Arial:style=normal:variant=normal:weight=normal:stretch=normal:size=10.0\">keep1: </text><rect x=\"10.0\" y=\"455.0\" width=\"113.74355468750002\" height=\"40\" stroke=\"black\" fill=\"white\" stroke-width=\"0\"/><text x=\"66.87177734375001\" y=\"475.0\" dominant-baseline=\"middle\" text-anchor=\"middle\" font-size=\"14px\" font-family=\"Arial:style=normal:variant=normal:weight=normal:stretch=normal:size=10.0\">keep2: </text><rect x=\"10.0\" y=\"505.0\" width=\"113.74355468750002\" height=\"40\" stroke=\"black\" fill=\"white\" stroke-width=\"0\"/><text x=\"66.87177734375001\" y=\"525.0\" dominant-baseline=\"middle\" text-anchor=\"middle\" font-size=\"14px\" font-family=\"Arial:style=normal:variant=normal:weight=normal:stretch=normal:size=10.0\">less_than_equal: </text><rect x=\"143.74355468750002\" y=\"5.0\" width=\"258.9443359375\" height=\"40\" stroke=\"black\" fill=\"white\" stroke-width=\"1\"/><text x=\"273.21572265625\" y=\"25.0\" dominant-baseline=\"middle\" text-anchor=\"middle\" font-size=\"14px\" font-family=\"Arial:style=normal:variant=normal:weight=normal:stretch=normal:size=10.0\">StatePreparationAliasSampling['t:42,r:0']</text><rect x=\"143.74355468750002\" y=\"55.0\" width=\"258.9443359375\" height=\"40\" stroke=\"black\" fill=\"white\" stroke-width=\"1\"/><text x=\"273.21572265625\" y=\"75.0\" dominant-baseline=\"middle\" text-anchor=\"middle\" font-size=\"14px\" font-family=\"Arial:style=normal:variant=normal:weight=normal:stretch=normal:size=10.0\">selection</text><rect x=\"143.74355468750002\" y=\"105.0\" width=\"258.9443359375\" height=\"40\" stroke=\"black\" fill=\"white\" stroke-width=\"1\"/><text x=\"273.21572265625\" y=\"125.0\" dominant-baseline=\"middle\" text-anchor=\"middle\" font-size=\"14px\" font-family=\"Arial:style=normal:variant=normal:weight=normal:stretch=normal:size=10.0\">sigma_mu</text><rect x=\"143.74355468750002\" y=\"155.0\" width=\"258.9443359375\" height=\"40\" stroke=\"black\" fill=\"white\" stroke-width=\"1\"/><text x=\"273.21572265625\" y=\"175.0\" dominant-baseline=\"middle\" text-anchor=\"middle\" font-size=\"14px\" font-family=\"Arial:style=normal:variant=normal:weight=normal:stretch=normal:size=10.0\">sigma_mu</text><rect x=\"143.74355468750002\" y=\"205.0\" width=\"258.9443359375\" height=\"40\" stroke=\"black\" fill=\"white\" stroke-width=\"1\"/><text x=\"273.21572265625\" y=\"225.0\" dominant-baseline=\"middle\" text-anchor=\"middle\" font-size=\"14px\" font-family=\"Arial:style=normal:variant=normal:weight=normal:stretch=normal:size=10.0\">sigma_mu</text><rect x=\"143.74355468750002\" y=\"255.0\" width=\"258.9443359375\" height=\"40\" stroke=\"black\" fill=\"white\" stroke-width=\"1\"/><text x=\"273.21572265625\" y=\"275.0\" dominant-baseline=\"middle\" text-anchor=\"middle\" font-size=\"14px\" font-family=\"Arial:style=normal:variant=normal:weight=normal:stretch=normal:size=10.0\">alt</text><rect x=\"143.74355468750002\" y=\"305.0\" width=\"258.9443359375\" height=\"40\" stroke=\"black\" fill=\"white\" stroke-width=\"1\"/><text x=\"273.21572265625\" y=\"325.0\" dominant-baseline=\"middle\" text-anchor=\"middle\" font-size=\"14px\" font-family=\"Arial:style=normal:variant=normal:weight=normal:stretch=normal:size=10.0\">alt</text><rect x=\"143.74355468750002\" y=\"355.0\" width=\"258.9443359375\" height=\"40\" stroke=\"black\" fill=\"white\" stroke-width=\"1\"/><text x=\"273.21572265625\" y=\"375.0\" dominant-baseline=\"middle\" text-anchor=\"middle\" font-size=\"14px\" font-family=\"Arial:style=normal:variant=normal:weight=normal:stretch=normal:size=10.0\">keep</text><rect x=\"143.74355468750002\" y=\"405.0\" width=\"258.9443359375\" height=\"40\" stroke=\"black\" fill=\"white\" stroke-width=\"1\"/><text x=\"273.21572265625\" y=\"425.0\" dominant-baseline=\"middle\" text-anchor=\"middle\" font-size=\"14px\" font-family=\"Arial:style=normal:variant=normal:weight=normal:stretch=normal:size=10.0\">keep</text><rect x=\"143.74355468750002\" y=\"455.0\" width=\"258.9443359375\" height=\"40\" stroke=\"black\" fill=\"white\" stroke-width=\"1\"/><text x=\"273.21572265625\" y=\"475.0\" dominant-baseline=\"middle\" text-anchor=\"middle\" font-size=\"14px\" font-family=\"Arial:style=normal:variant=normal:weight=normal:stretch=normal:size=10.0\">keep</text><rect x=\"143.74355468750002\" y=\"505.0\" width=\"258.9443359375\" height=\"40\" stroke=\"black\" fill=\"white\" stroke-width=\"1\"/><text x=\"273.21572265625\" y=\"525.0\" dominant-baseline=\"middle\" text-anchor=\"middle\" font-size=\"14px\" font-family=\"Arial:style=normal:variant=normal:weight=normal:stretch=normal:size=10.0\">less_than_equal</text></svg>",
          "text/plain": "<IPython.core.display.SVG object>"
         },
         "metadata": {},
         "output_type": "display_data"
        }
       ],
       "tabbable": null,
       "tooltip": null
      }
     },
     "655ab4c17b074761ab8cb3345839efad": {
      "model_module": "@jupyter-widgets/output",
      "model_module_version": "1.0.0",
      "model_name": "OutputModel",
      "state": {
       "_dom_classes": [],
       "_model_module": "@jupyter-widgets/output",
       "_model_module_version": "1.0.0",
       "_model_name": "OutputModel",
       "_view_count": null,
       "_view_module": "@jupyter-widgets/output",
       "_view_module_version": "1.0.0",
       "_view_name": "OutputView",
       "layout": "IPY_MODEL_0ff3f729fb904c99a0952831c3c3242c",
       "msg_id": "",
       "outputs": [
        {
         "data": {
          "image/svg+xml": "<svg xmlns=\"http://www.w3.org/2000/svg\" width=\"633.2063671875001\" height=\"550.0\"><line x1=\"66.87177734375001\" x2=\"603.2063671875001\" y1=\"25.0\" y2=\"25.0\" stroke=\"#1967d2\" stroke-width=\"1\"/><line x1=\"66.87177734375001\" x2=\"603.2063671875001\" y1=\"75.0\" y2=\"75.0\" stroke=\"#1967d2\" stroke-width=\"1\"/><line x1=\"66.87177734375001\" x2=\"603.2063671875001\" y1=\"125.0\" y2=\"125.0\" stroke=\"#1967d2\" stroke-width=\"1\"/><line x1=\"66.87177734375001\" x2=\"603.2063671875001\" y1=\"175.0\" y2=\"175.0\" stroke=\"#1967d2\" stroke-width=\"1\"/><line x1=\"66.87177734375001\" x2=\"603.2063671875001\" y1=\"225.0\" y2=\"225.0\" stroke=\"#1967d2\" stroke-width=\"1\"/><line x1=\"66.87177734375001\" x2=\"603.2063671875001\" y1=\"275.0\" y2=\"275.0\" stroke=\"#1967d2\" stroke-width=\"1\"/><line x1=\"66.87177734375001\" x2=\"603.2063671875001\" y1=\"325.0\" y2=\"325.0\" stroke=\"#1967d2\" stroke-width=\"1\"/><line x1=\"66.87177734375001\" x2=\"603.2063671875001\" y1=\"375.0\" y2=\"375.0\" stroke=\"#1967d2\" stroke-width=\"1\"/><line x1=\"66.87177734375001\" x2=\"603.2063671875001\" y1=\"425.0\" y2=\"425.0\" stroke=\"#1967d2\" stroke-width=\"1\"/><line x1=\"66.87177734375001\" x2=\"603.2063671875001\" y1=\"475.0\" y2=\"475.0\" stroke=\"#1967d2\" stroke-width=\"1\"/><line x1=\"66.87177734375001\" x2=\"603.2063671875001\" y1=\"525.0\" y2=\"525.0\" stroke=\"#1967d2\" stroke-width=\"1\"/><line x1=\"213.41562500000003\" x2=\"213.41562500000003\" y1=\"25.0\" y2=\"75.0\" stroke=\"black\" stroke-width=\"3\"/><line x1=\"337.27755859375003\" x2=\"337.27755859375003\" y1=\"25.0\" y2=\"475.0\" stroke=\"black\" stroke-width=\"3\"/><line x1=\"437.7124609375\" x2=\"437.7124609375\" y1=\"125.0\" y2=\"525.0\" stroke=\"black\" stroke-width=\"3\"/><line x1=\"543.58193359375\" x2=\"543.58193359375\" y1=\"25.0\" y2=\"525.0\" stroke=\"black\" stroke-width=\"3\"/><rect x=\"10.0\" y=\"5.0\" width=\"113.74355468750002\" height=\"40\" stroke=\"black\" fill=\"white\" stroke-width=\"0\"/><text x=\"66.87177734375001\" y=\"25.0\" dominant-baseline=\"middle\" text-anchor=\"middle\" font-size=\"14px\" font-family=\"Arial:style=normal:variant=normal:weight=normal:stretch=normal:size=10.0\">selection0: </text><rect x=\"10.0\" y=\"55.0\" width=\"113.74355468750002\" height=\"40\" stroke=\"black\" fill=\"white\" stroke-width=\"0\"/><text x=\"66.87177734375001\" y=\"75.0\" dominant-baseline=\"middle\" text-anchor=\"middle\" font-size=\"14px\" font-family=\"Arial:style=normal:variant=normal:weight=normal:stretch=normal:size=10.0\">selection1: </text><rect x=\"10.0\" y=\"105.0\" width=\"113.74355468750002\" height=\"40\" stroke=\"black\" fill=\"white\" stroke-width=\"0\"/><text x=\"66.87177734375001\" y=\"125.0\" dominant-baseline=\"middle\" text-anchor=\"middle\" font-size=\"14px\" font-family=\"Arial:style=normal:variant=normal:weight=normal:stretch=normal:size=10.0\">sigma_mu0: </text><rect x=\"10.0\" y=\"155.0\" width=\"113.74355468750002\" height=\"40\" stroke=\"black\" fill=\"white\" stroke-width=\"0\"/><text x=\"66.87177734375001\" y=\"175.0\" dominant-baseline=\"middle\" text-anchor=\"middle\" font-size=\"14px\" font-family=\"Arial:style=normal:variant=normal:weight=normal:stretch=normal:size=10.0\">sigma_mu1: </text><rect x=\"10.0\" y=\"205.0\" width=\"113.74355468750002\" height=\"40\" stroke=\"black\" fill=\"white\" stroke-width=\"0\"/><text x=\"66.87177734375001\" y=\"225.0\" dominant-baseline=\"middle\" text-anchor=\"middle\" font-size=\"14px\" font-family=\"Arial:style=normal:variant=normal:weight=normal:stretch=normal:size=10.0\">sigma_mu2: </text><rect x=\"10.0\" y=\"255.0\" width=\"113.74355468750002\" height=\"40\" stroke=\"black\" fill=\"white\" stroke-width=\"0\"/><text x=\"66.87177734375001\" y=\"275.0\" dominant-baseline=\"middle\" text-anchor=\"middle\" font-size=\"14px\" font-family=\"Arial:style=normal:variant=normal:weight=normal:stretch=normal:size=10.0\">alt0: </text><rect x=\"10.0\" y=\"305.0\" width=\"113.74355468750002\" height=\"40\" stroke=\"black\" fill=\"white\" stroke-width=\"0\"/><text x=\"66.87177734375001\" y=\"325.0\" dominant-baseline=\"middle\" text-anchor=\"middle\" font-size=\"14px\" font-family=\"Arial:style=normal:variant=normal:weight=normal:stretch=normal:size=10.0\">alt1: </text><rect x=\"10.0\" y=\"355.0\" width=\"113.74355468750002\" height=\"40\" stroke=\"black\" fill=\"white\" stroke-width=\"0\"/><text x=\"66.87177734375001\" y=\"375.0\" dominant-baseline=\"middle\" text-anchor=\"middle\" font-size=\"14px\" font-family=\"Arial:style=normal:variant=normal:weight=normal:stretch=normal:size=10.0\">keep0: </text><rect x=\"10.0\" y=\"405.0\" width=\"113.74355468750002\" height=\"40\" stroke=\"black\" fill=\"white\" stroke-width=\"0\"/><text x=\"66.87177734375001\" y=\"425.0\" dominant-baseline=\"middle\" text-anchor=\"middle\" font-size=\"14px\" font-family=\"Arial:style=normal:variant=normal:weight=normal:stretch=normal:size=10.0\">keep1: </text><rect x=\"10.0\" y=\"455.0\" width=\"113.74355468750002\" height=\"40\" stroke=\"black\" fill=\"white\" stroke-width=\"0\"/><text x=\"66.87177734375001\" y=\"475.0\" dominant-baseline=\"middle\" text-anchor=\"middle\" font-size=\"14px\" font-family=\"Arial:style=normal:variant=normal:weight=normal:stretch=normal:size=10.0\">keep2: </text><rect x=\"10.0\" y=\"505.0\" width=\"113.74355468750002\" height=\"40\" stroke=\"black\" fill=\"white\" stroke-width=\"0\"/><text x=\"66.87177734375001\" y=\"525.0\" dominant-baseline=\"middle\" text-anchor=\"middle\" font-size=\"14px\" font-family=\"Arial:style=normal:variant=normal:weight=normal:stretch=normal:size=10.0\">less_than_equal: </text><rect x=\"143.74355468750002\" y=\"5.0\" width=\"139.34414062500002\" height=\"40\" stroke=\"black\" fill=\"white\" stroke-width=\"1\"/><text x=\"213.41562500000003\" y=\"25.0\" dominant-baseline=\"middle\" text-anchor=\"middle\" font-size=\"14px\" font-family=\"Arial:style=normal:variant=normal:weight=normal:stretch=normal:size=10.0\">UNIFORM(4)['t:0,r:0']</text><rect x=\"143.74355468750002\" y=\"55.0\" width=\"139.34414062500002\" height=\"40\" stroke=\"black\" fill=\"white\" stroke-width=\"1\"/><text x=\"213.41562500000003\" y=\"75.0\" dominant-baseline=\"middle\" text-anchor=\"middle\" font-size=\"14px\" font-family=\"Arial:style=normal:variant=normal:weight=normal:stretch=normal:size=10.0\">target</text><rect x=\"143.74355468750002\" y=\"105.0\" width=\"139.34414062500002\" height=\"40\" stroke=\"black\" fill=\"white\" stroke-width=\"1\"/><text x=\"213.41562500000003\" y=\"125.0\" dominant-baseline=\"middle\" text-anchor=\"middle\" font-size=\"14px\" font-family=\"Arial:style=normal:variant=normal:weight=normal:stretch=normal:size=10.0\">H['t:0,r:0']</text><rect x=\"143.74355468750002\" y=\"155.0\" width=\"139.34414062500002\" height=\"40\" stroke=\"black\" fill=\"white\" stroke-width=\"1\"/><text x=\"213.41562500000003\" y=\"175.0\" dominant-baseline=\"middle\" text-anchor=\"middle\" font-size=\"14px\" font-family=\"Arial:style=normal:variant=normal:weight=normal:stretch=normal:size=10.0\">H['t:0,r:0']</text><rect x=\"143.74355468750002\" y=\"205.0\" width=\"139.34414062500002\" height=\"40\" stroke=\"black\" fill=\"white\" stroke-width=\"1\"/><text x=\"213.41562500000003\" y=\"225.0\" dominant-baseline=\"middle\" text-anchor=\"middle\" font-size=\"14px\" font-family=\"Arial:style=normal:variant=normal:weight=normal:stretch=normal:size=10.0\">H['t:0,r:0']</text><rect x=\"303.08769531250005\" y=\"5.0\" width=\"68.3797265625\" height=\"40\" stroke=\"black\" fill=\"white\" stroke-width=\"1\"/><text x=\"337.27755859375003\" y=\"25.0\" dominant-baseline=\"middle\" text-anchor=\"middle\" font-size=\"14px\" font-family=\"Arial:style=normal:variant=normal:weight=normal:stretch=normal:size=10.0\">In['t:8,r:0']</text><rect x=\"303.08769531250005\" y=\"55.0\" width=\"68.3797265625\" height=\"40\" stroke=\"black\" fill=\"white\" stroke-width=\"1\"/><text x=\"337.27755859375003\" y=\"75.0\" dominant-baseline=\"middle\" text-anchor=\"middle\" font-size=\"14px\" font-family=\"Arial:style=normal:variant=normal:weight=normal:stretch=normal:size=10.0\">In</text><rect x=\"303.08769531250005\" y=\"255.0\" width=\"68.3797265625\" height=\"40\" stroke=\"black\" fill=\"white\" stroke-width=\"1\"/><text x=\"337.27755859375003\" y=\"275.0\" dominant-baseline=\"middle\" text-anchor=\"middle\" font-size=\"14px\" font-family=\"Arial:style=normal:variant=normal:weight=normal:stretch=normal:size=10.0\">QROM_0</text><rect x=\"303.08769531250005\" y=\"305.0\" width=\"68.3797265625\" height=\"40\" stroke=\"black\" fill=\"white\" stroke-width=\"1\"/><text x=\"337.27755859375003\" y=\"325.0\" dominant-baseline=\"middle\" text-anchor=\"middle\" font-size=\"14px\" font-family=\"Arial:style=normal:variant=normal:weight=normal:stretch=normal:size=10.0\">QROM_0</text><rect x=\"303.08769531250005\" y=\"355.0\" width=\"68.3797265625\" height=\"40\" stroke=\"black\" fill=\"white\" stroke-width=\"1\"/><text x=\"337.27755859375003\" y=\"375.0\" dominant-baseline=\"middle\" text-anchor=\"middle\" font-size=\"14px\" font-family=\"Arial:style=normal:variant=normal:weight=normal:stretch=normal:size=10.0\">QROM_1</text><rect x=\"303.08769531250005\" y=\"405.0\" width=\"68.3797265625\" height=\"40\" stroke=\"black\" fill=\"white\" stroke-width=\"1\"/><text x=\"337.27755859375003\" y=\"425.0\" dominant-baseline=\"middle\" text-anchor=\"middle\" font-size=\"14px\" font-family=\"Arial:style=normal:variant=normal:weight=normal:stretch=normal:size=10.0\">QROM_1</text><rect x=\"303.08769531250005\" y=\"455.0\" width=\"68.3797265625\" height=\"40\" stroke=\"black\" fill=\"white\" stroke-width=\"1\"/><text x=\"337.27755859375003\" y=\"475.0\" dominant-baseline=\"middle\" text-anchor=\"middle\" font-size=\"14px\" font-family=\"Arial:style=normal:variant=normal:weight=normal:stretch=normal:size=10.0\">QROM_1</text><rect x=\"391.467421875\" y=\"355.0\" width=\"92.49007812500001\" height=\"40\" stroke=\"black\" fill=\"white\" stroke-width=\"1\"/><text x=\"437.7124609375\" y=\"375.0\" dominant-baseline=\"middle\" text-anchor=\"middle\" font-size=\"14px\" font-family=\"Arial:style=normal:variant=normal:weight=normal:stretch=normal:size=10.0\">In(x)['t:20,r:0']</text><rect x=\"391.467421875\" y=\"405.0\" width=\"92.49007812500001\" height=\"40\" stroke=\"black\" fill=\"white\" stroke-width=\"1\"/><text x=\"437.7124609375\" y=\"425.0\" dominant-baseline=\"middle\" text-anchor=\"middle\" font-size=\"14px\" font-family=\"Arial:style=normal:variant=normal:weight=normal:stretch=normal:size=10.0\">In(x)</text><rect x=\"391.467421875\" y=\"455.0\" width=\"92.49007812500001\" height=\"40\" stroke=\"black\" fill=\"white\" stroke-width=\"1\"/><text x=\"437.7124609375\" y=\"475.0\" dominant-baseline=\"middle\" text-anchor=\"middle\" font-size=\"14px\" font-family=\"Arial:style=normal:variant=normal:weight=normal:stretch=normal:size=10.0\">In(x)</text><rect x=\"391.467421875\" y=\"105.0\" width=\"92.49007812500001\" height=\"40\" stroke=\"black\" fill=\"white\" stroke-width=\"1\"/><text x=\"437.7124609375\" y=\"125.0\" dominant-baseline=\"middle\" text-anchor=\"middle\" font-size=\"14px\" font-family=\"Arial:style=normal:variant=normal:weight=normal:stretch=normal:size=10.0\">In(y)</text><rect x=\"391.467421875\" y=\"155.0\" width=\"92.49007812500001\" height=\"40\" stroke=\"black\" fill=\"white\" stroke-width=\"1\"/><text x=\"437.7124609375\" y=\"175.0\" dominant-baseline=\"middle\" text-anchor=\"middle\" font-size=\"14px\" font-family=\"Arial:style=normal:variant=normal:weight=normal:stretch=normal:size=10.0\">In(y)</text><rect x=\"391.467421875\" y=\"205.0\" width=\"92.49007812500001\" height=\"40\" stroke=\"black\" fill=\"white\" stroke-width=\"1\"/><text x=\"437.7124609375\" y=\"225.0\" dominant-baseline=\"middle\" text-anchor=\"middle\" font-size=\"14px\" font-family=\"Arial:style=normal:variant=normal:weight=normal:stretch=normal:size=10.0\">In(y)</text><rect x=\"391.467421875\" y=\"505.0\" width=\"92.49007812500001\" height=\"40\" stroke=\"black\" fill=\"white\" stroke-width=\"1\"/><text x=\"437.7124609375\" y=\"525.0\" dominant-baseline=\"middle\" text-anchor=\"middle\" font-size=\"14px\" font-family=\"Arial:style=normal:variant=normal:weight=normal:stretch=normal:size=10.0\">+(x &lt;= y)</text><rect x=\"503.95750000000004\" y=\"505.0\" width=\"79.24886718750001\" height=\"40\" stroke=\"black\" fill=\"white\" stroke-width=\"1\"/><text x=\"543.58193359375\" y=\"525.0\" dominant-baseline=\"middle\" text-anchor=\"middle\" font-size=\"14px\" font-family=\"Arial:style=normal:variant=normal:weight=normal:stretch=normal:size=10.0\">@['t:14,r:0']</text><rect x=\"503.95750000000004\" y=\"255.0\" width=\"79.24886718750001\" height=\"40\" stroke=\"black\" fill=\"white\" stroke-width=\"1\"/><text x=\"543.58193359375\" y=\"275.0\" dominant-baseline=\"middle\" text-anchor=\"middle\" font-size=\"14px\" font-family=\"Arial:style=normal:variant=normal:weight=normal:stretch=normal:size=10.0\">×(x)</text><rect x=\"503.95750000000004\" y=\"305.0\" width=\"79.24886718750001\" height=\"40\" stroke=\"black\" fill=\"white\" stroke-width=\"1\"/><text x=\"543.58193359375\" y=\"325.0\" dominant-baseline=\"middle\" text-anchor=\"middle\" font-size=\"14px\" font-family=\"Arial:style=normal:variant=normal:weight=normal:stretch=normal:size=10.0\">×(x)</text><rect x=\"503.95750000000004\" y=\"5.0\" width=\"79.24886718750001\" height=\"40\" stroke=\"black\" fill=\"white\" stroke-width=\"1\"/><text x=\"543.58193359375\" y=\"25.0\" dominant-baseline=\"middle\" text-anchor=\"middle\" font-size=\"14px\" font-family=\"Arial:style=normal:variant=normal:weight=normal:stretch=normal:size=10.0\">×(y)</text><rect x=\"503.95750000000004\" y=\"55.0\" width=\"79.24886718750001\" height=\"40\" stroke=\"black\" fill=\"white\" stroke-width=\"1\"/><text x=\"543.58193359375\" y=\"75.0\" dominant-baseline=\"middle\" text-anchor=\"middle\" font-size=\"14px\" font-family=\"Arial:style=normal:variant=normal:weight=normal:stretch=normal:size=10.0\">×(y)</text></svg>",
          "text/plain": "<IPython.core.display.SVG object>"
         },
         "metadata": {},
         "output_type": "display_data"
        }
       ],
       "tabbable": null,
       "tooltip": null
      }
     },
     "7090bad91ffc422eae32d7e48c461efd": {
      "model_module": "@jupyter-widgets/base",
      "model_module_version": "2.0.0",
      "model_name": "LayoutModel",
      "state": {
       "_model_module": "@jupyter-widgets/base",
       "_model_module_version": "2.0.0",
       "_model_name": "LayoutModel",
       "_view_count": null,
       "_view_module": "@jupyter-widgets/base",
       "_view_module_version": "2.0.0",
       "_view_name": "LayoutView",
       "align_content": null,
       "align_items": null,
       "align_self": null,
       "border_bottom": null,
       "border_left": null,
       "border_right": null,
       "border_top": null,
       "bottom": null,
       "display": null,
       "flex": null,
       "flex_flow": null,
       "grid_area": null,
       "grid_auto_columns": null,
       "grid_auto_flow": null,
       "grid_auto_rows": null,
       "grid_column": null,
       "grid_gap": null,
       "grid_row": null,
       "grid_template_areas": null,
       "grid_template_columns": null,
       "grid_template_rows": null,
       "height": null,
       "justify_content": null,
       "justify_items": null,
       "left": null,
       "margin": null,
       "max_height": null,
       "max_width": null,
       "min_height": null,
       "min_width": null,
       "object_fit": null,
       "object_position": null,
       "order": null,
       "overflow": null,
       "padding": null,
       "right": null,
       "top": null,
       "visibility": null,
       "width": null
      }
     },
     "9ff28301f2414adb861c55013975bf74": {
      "model_module": "@jupyter-widgets/controls",
      "model_module_version": "2.0.0",
      "model_name": "HBoxModel",
      "state": {
       "_dom_classes": [],
       "_model_module": "@jupyter-widgets/controls",
       "_model_module_version": "2.0.0",
       "_model_name": "HBoxModel",
       "_view_count": null,
       "_view_module": "@jupyter-widgets/controls",
       "_view_module_version": "2.0.0",
       "_view_name": "HBoxView",
       "box_style": "",
       "children": [
        "IPY_MODEL_270e822ed87847b4be3c49638e7168e0",
        "IPY_MODEL_655ab4c17b074761ab8cb3345839efad"
       ],
       "layout": "IPY_MODEL_f4e7e09d92e44c5f91e35287afd38c87",
       "tabbable": null,
       "tooltip": null
      }
     },
     "f4e7e09d92e44c5f91e35287afd38c87": {
      "model_module": "@jupyter-widgets/base",
      "model_module_version": "2.0.0",
      "model_name": "LayoutModel",
      "state": {
       "_model_module": "@jupyter-widgets/base",
       "_model_module_version": "2.0.0",
       "_model_name": "LayoutModel",
       "_view_count": null,
       "_view_module": "@jupyter-widgets/base",
       "_view_module_version": "2.0.0",
       "_view_name": "LayoutView",
       "align_content": null,
       "align_items": null,
       "align_self": null,
       "border_bottom": null,
       "border_left": null,
       "border_right": null,
       "border_top": null,
       "bottom": null,
       "display": null,
       "flex": null,
       "flex_flow": null,
       "grid_area": null,
       "grid_auto_columns": null,
       "grid_auto_flow": null,
       "grid_auto_rows": null,
       "grid_column": null,
       "grid_gap": null,
       "grid_row": null,
       "grid_template_areas": null,
       "grid_template_columns": null,
       "grid_template_rows": null,
       "height": null,
       "justify_content": null,
       "justify_items": null,
       "left": null,
       "margin": null,
       "max_height": null,
       "max_width": null,
       "min_height": null,
       "min_width": null,
       "object_fit": null,
       "object_position": null,
       "order": null,
       "overflow": null,
       "padding": null,
       "right": null,
       "top": null,
       "visibility": null,
       "width": null
      }
     }
    },
    "version_major": 2,
    "version_minor": 0
   }
  }
 },
 "nbformat": 4,
 "nbformat_minor": 5
}
