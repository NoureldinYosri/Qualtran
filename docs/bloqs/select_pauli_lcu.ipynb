{
 "cells": [
  {
   "cell_type": "code",
   "execution_count": 1,
   "id": "d852231f",
   "metadata": {},
   "outputs": [],
   "source": [
    "#  Copyright 2023 Google LLC\n",
    "#\n",
    "#  Licensed under the Apache License, Version 2.0 (the \"License\");\n",
    "#  you may not use this file except in compliance with the License.\n",
    "#  You may obtain a copy of the License at\n",
    "#\n",
    "#      https://www.apache.org/licenses/LICENSE-2.0\n",
    "#\n",
    "#  Unless required by applicable law or agreed to in writing, software\n",
    "#  distributed under the License is distributed on an \"AS IS\" BASIS,\n",
    "#  WITHOUT WARRANTIES OR CONDITIONS OF ANY KIND, either express or implied.\n",
    "#  See the License for the specific language governing permissions and\n",
    "#  limitations under the License."
   ]
  },
  {
   "cell_type": "markdown",
   "id": "ae4c107e",
   "metadata": {
    "cq.autogen": "title_cell"
   },
   "source": [
    "# Generic Select\n",
    "\n",
    "Gates for applying generic selected unitaries."
   ]
  },
  {
   "cell_type": "code",
   "execution_count": 2,
   "id": "c5e21402",
   "metadata": {
    "cq.autogen": "top_imports"
   },
   "outputs": [],
   "source": [
    "import cirq\n",
    "import numpy as np\n",
    "import qualtran.cirq_interop.testing as cq_testing\n",
    "from qualtran.cirq_interop.jupyter_tools import display_gate_and_compilation\n",
    "from typing import *"
   ]
  },
  {
   "cell_type": "markdown",
   "id": "f217ffaf",
   "metadata": {
    "cq.autogen": "_make_GenericSelect.md"
   },
   "source": [
    "## `SelectPauliLCU`\n",
    "A SELECT gate for selecting and applying operators from an array of `PauliString`s.\n",
    "\n",
    "$$\n",
    "\\mathrm{SELECT} = \\sum_{l}|l \\rangle \\langle l| \\otimes U_l\n",
    "$$\n",
    "\n",
    "Where $U_l$ is a member of the Pauli group.\n",
    "\n",
    "This gate uses the unary iteration scheme to apply `select_unitaries[selection]` to `target`\n",
    "controlled on the single-bit `control` register.\n",
    "\n",
    "#### Parameters\n",
    " - `selection_bitsize`: The size of the indexing `select` register. This should be at least `log2(len(select_unitaries))`\n",
    " - `target_bitsize`: The size of the `target` register.\n",
    " - `select_unitaries`: List of `DensePauliString`s to apply to the `target` register. Each dense pauli string must contain `target_bitsize` terms.\n"
   ]
  },
  {
   "cell_type": "code",
   "execution_count": 3,
   "id": "488c76f9",
   "metadata": {
    "cq.autogen": "_make_GenericSelect.py"
   },
   "outputs": [
    {
     "data": {
      "application/vnd.jupyter.widget-view+json": {
       "model_id": "82c5771bbb654c0fbfbd9c3fe1c65e37",
       "version_major": 2,
       "version_minor": 0
      },
      "text/plain": [
       "VBox(children=(Output(outputs=({'output_type': 'display_data', 'data': {'text/plain': '<IPython.core.display.S…"
      ]
     },
     "metadata": {},
     "output_type": "display_data"
    }
   ],
   "source": [
    "from qualtran.bloqs.select_pauli_lcu import SelectPauliLCU\n",
    "\n",
    "target_bitsize = 4\n",
    "us = ['XIXI', 'YIYI', 'ZZZZ', 'ZXYZ']\n",
    "us = [cirq.DensePauliString(u) for u in us]\n",
    "selection_bitsize = int(np.ceil(np.log2(len(us))))\n",
    "g = cq_testing.GateHelper(\n",
    "    SelectPauliLCU(selection_bitsize, target_bitsize, select_unitaries=us)\n",
    ")\n",
    "\n",
    "display_gate_and_compilation(g, vertical=True)"
   ]
  },
  {
   "cell_type": "code",
   "execution_count": null,
   "id": "efb6062a",
   "metadata": {},
   "outputs": [],
   "source": []
  }
 ],
 "metadata": {
  "kernelspec": {
   "display_name": "Python 3",
   "language": "python",
   "name": "python3"
  },
  "language_info": {
   "codemirror_mode": {
    "name": "ipython",
    "version": 3
   },
   "file_extension": ".py",
   "mimetype": "text/x-python",
   "name": "python",
   "nbconvert_exporter": "python",
   "pygments_lexer": "ipython3",
   "version": "3.10.12"
  },
  "widgets": {
   "application/vnd.jupyter.widget-state+json": {
    "state": {
     "510524e1306f4e2695affa38fc88c7c4": {
      "model_module": "@jupyter-widgets/base",
      "model_module_version": "2.0.0",
      "model_name": "LayoutModel",
      "state": {
       "_model_module": "@jupyter-widgets/base",
       "_model_module_version": "2.0.0",
       "_model_name": "LayoutModel",
       "_view_count": null,
       "_view_module": "@jupyter-widgets/base",
       "_view_module_version": "2.0.0",
       "_view_name": "LayoutView",
       "align_content": null,
       "align_items": null,
       "align_self": null,
       "border_bottom": null,
       "border_left": null,
       "border_right": null,
       "border_top": null,
       "bottom": null,
       "display": null,
       "flex": null,
       "flex_flow": null,
       "grid_area": null,
       "grid_auto_columns": null,
       "grid_auto_flow": null,
       "grid_auto_rows": null,
       "grid_column": null,
       "grid_gap": null,
       "grid_row": null,
       "grid_template_areas": null,
       "grid_template_columns": null,
       "grid_template_rows": null,
       "height": null,
       "justify_content": null,
       "justify_items": null,
       "left": null,
       "margin": null,
       "max_height": null,
       "max_width": null,
       "min_height": null,
       "min_width": null,
       "object_fit": null,
       "object_position": null,
       "order": null,
       "overflow": null,
       "padding": null,
       "right": null,
       "top": null,
       "visibility": null,
       "width": null
      }
     },
     "82c5771bbb654c0fbfbd9c3fe1c65e37": {
      "model_module": "@jupyter-widgets/controls",
      "model_module_version": "2.0.0",
      "model_name": "VBoxModel",
      "state": {
       "_dom_classes": [],
       "_model_module": "@jupyter-widgets/controls",
       "_model_module_version": "2.0.0",
       "_model_name": "VBoxModel",
       "_view_count": null,
       "_view_module": "@jupyter-widgets/controls",
       "_view_module_version": "2.0.0",
       "_view_name": "VBoxView",
       "box_style": "",
       "children": [
        "IPY_MODEL_ddcf0931167a493cba44731fdcb19b91",
        "IPY_MODEL_8b0e6306cb2c474cb92e983ff14bb7e0"
       ],
       "layout": "IPY_MODEL_b860050fa9864d83aabfedb4968568f2",
       "tabbable": null,
       "tooltip": null
      }
     },
     "8b0e6306cb2c474cb92e983ff14bb7e0": {
      "model_module": "@jupyter-widgets/output",
      "model_module_version": "1.0.0",
      "model_name": "OutputModel",
      "state": {
       "_dom_classes": [],
       "_model_module": "@jupyter-widgets/output",
       "_model_module_version": "1.0.0",
       "_model_name": "OutputModel",
       "_view_count": null,
       "_view_module": "@jupyter-widgets/output",
       "_view_module_version": "1.0.0",
       "_view_name": "OutputView",
       "layout": "IPY_MODEL_510524e1306f4e2695affa38fc88c7c4",
       "msg_id": "",
       "outputs": [
        {
         "data": {
          "image/svg+xml": "<svg xmlns=\"http://www.w3.org/2000/svg\" width=\"1471.7006250000002\" height=\"350.0\"><line x1=\"109.05265625000001\" x2=\"1441.7006250000002\" y1=\"25.0\" y2=\"25.0\" stroke=\"#1967d2\" stroke-width=\"1\"/><line x1=\"109.05265625000001\" x2=\"1441.7006250000002\" y1=\"75.0\" y2=\"75.0\" stroke=\"#1967d2\" stroke-width=\"1\"/><line x1=\"109.05265625000001\" x2=\"1441.7006250000002\" y1=\"125.0\" y2=\"125.0\" stroke=\"#1967d2\" stroke-width=\"1\"/><line x1=\"109.05265625000001\" x2=\"1441.7006250000002\" y1=\"175.0\" y2=\"175.0\" stroke=\"#1967d2\" stroke-width=\"1\"/><line x1=\"109.05265625000001\" x2=\"1441.7006250000002\" y1=\"225.0\" y2=\"225.0\" stroke=\"#1967d2\" stroke-width=\"1\"/><line x1=\"109.05265625000001\" x2=\"1441.7006250000002\" y1=\"275.0\" y2=\"275.0\" stroke=\"#1967d2\" stroke-width=\"1\"/><line x1=\"109.05265625000001\" x2=\"1441.7006250000002\" y1=\"325.0\" y2=\"325.0\" stroke=\"#1967d2\" stroke-width=\"1\"/><line x1=\"351.123203125\" x2=\"351.123203125\" y1=\"25.0\" y2=\"325.0\" stroke=\"black\" stroke-width=\"3\"/><line x1=\"458.3318359375\" x2=\"458.3318359375\" y1=\"125.0\" y2=\"325.0\" stroke=\"black\" stroke-width=\"3\"/><line x1=\"565.5404687500001\" x2=\"565.5404687500001\" y1=\"25.0\" y2=\"325.0\" stroke=\"black\" stroke-width=\"3\"/><line x1=\"672.7491015625\" x2=\"672.7491015625\" y1=\"125.0\" y2=\"325.0\" stroke=\"black\" stroke-width=\"3\"/><line x1=\"779.9577343750001\" x2=\"779.9577343750001\" y1=\"25.0\" y2=\"325.0\" stroke=\"black\" stroke-width=\"3\"/><line x1=\"958.7069921875001\" x2=\"958.7069921875001\" y1=\"25.0\" y2=\"325.0\" stroke=\"black\" stroke-width=\"3\"/><line x1=\"1065.52255859375\" x2=\"1065.52255859375\" y1=\"125.0\" y2=\"325.0\" stroke=\"black\" stroke-width=\"3\"/><line x1=\"1172.338125\" x2=\"1172.338125\" y1=\"25.0\" y2=\"325.0\" stroke=\"black\" stroke-width=\"3\"/><line x1=\"1279.1536914062501\" x2=\"1279.1536914062501\" y1=\"125.0\" y2=\"325.0\" stroke=\"black\" stroke-width=\"3\"/><line x1=\"1385.9692578125\" x2=\"1385.9692578125\" y1=\"25.0\" y2=\"325.0\" stroke=\"black\" stroke-width=\"3\"/><rect x=\"10.0\" y=\"5.0\" width=\"198.10531250000003\" height=\"40\" stroke=\"black\" fill=\"white\" stroke-width=\"0\"/><text x=\"109.05265625000001\" y=\"25.0\" dominant-baseline=\"middle\" text-anchor=\"middle\" font-size=\"14px\" font-family=\"Arial:style=normal:variant=normal:weight=normal:stretch=normal:size=10.0\">selection0: </text><rect x=\"10.0\" y=\"55.0\" width=\"198.10531250000003\" height=\"40\" stroke=\"black\" fill=\"white\" stroke-width=\"0\"/><text x=\"109.05265625000001\" y=\"75.0\" dominant-baseline=\"middle\" text-anchor=\"middle\" font-size=\"14px\" font-family=\"Arial:style=normal:variant=normal:weight=normal:stretch=normal:size=10.0\">selection1: </text><rect x=\"10.0\" y=\"105.0\" width=\"198.10531250000003\" height=\"40\" stroke=\"black\" fill=\"white\" stroke-width=\"0\"/><text x=\"109.05265625000001\" y=\"125.0\" dominant-baseline=\"middle\" text-anchor=\"middle\" font-size=\"14px\" font-family=\"Arial:style=normal:variant=normal:weight=normal:stretch=normal:size=10.0\">target0: </text><rect x=\"10.0\" y=\"155.0\" width=\"198.10531250000003\" height=\"40\" stroke=\"black\" fill=\"white\" stroke-width=\"0\"/><text x=\"109.05265625000001\" y=\"175.0\" dominant-baseline=\"middle\" text-anchor=\"middle\" font-size=\"14px\" font-family=\"Arial:style=normal:variant=normal:weight=normal:stretch=normal:size=10.0\">target1: </text><rect x=\"10.0\" y=\"205.0\" width=\"198.10531250000003\" height=\"40\" stroke=\"black\" fill=\"white\" stroke-width=\"0\"/><text x=\"109.05265625000001\" y=\"225.0\" dominant-baseline=\"middle\" text-anchor=\"middle\" font-size=\"14px\" font-family=\"Arial:style=normal:variant=normal:weight=normal:stretch=normal:size=10.0\">target2: </text><rect x=\"10.0\" y=\"255.0\" width=\"198.10531250000003\" height=\"40\" stroke=\"black\" fill=\"white\" stroke-width=\"0\"/><text x=\"109.05265625000001\" y=\"275.0\" dominant-baseline=\"middle\" text-anchor=\"middle\" font-size=\"14px\" font-family=\"Arial:style=normal:variant=normal:weight=normal:stretch=normal:size=10.0\">target3: </text><rect x=\"10.0\" y=\"305.0\" width=\"198.10531250000003\" height=\"40\" stroke=\"black\" fill=\"white\" stroke-width=\"0\"/><text x=\"109.05265625000001\" y=\"325.0\" dominant-baseline=\"middle\" text-anchor=\"middle\" font-size=\"14px\" font-family=\"Arial:style=normal:variant=normal:weight=normal:stretch=normal:size=10.0\">_decompose_protocol_0_c(0): </text><rect x=\"228.10531250000003\" y=\"5.0\" width=\"67.2865234375\" height=\"40\" stroke=\"black\" fill=\"white\" stroke-width=\"1\"/><text x=\"261.74857421875004\" y=\"25.0\" dominant-baseline=\"middle\" text-anchor=\"middle\" font-size=\"14px\" font-family=\"Arial:style=normal:variant=normal:weight=normal:stretch=normal:size=10.0\">X['t:0,r:0']</text><rect x=\"315.3918359375\" y=\"5.0\" width=\"71.462734375\" height=\"40\" stroke=\"black\" fill=\"white\" stroke-width=\"1\"/><text x=\"351.123203125\" y=\"25.0\" dominant-baseline=\"middle\" text-anchor=\"middle\" font-size=\"14px\" font-family=\"Arial:style=normal:variant=normal:weight=normal:stretch=normal:size=10.0\">@['t:4,r:0']</text><rect x=\"315.3918359375\" y=\"55.0\" width=\"71.462734375\" height=\"40\" stroke=\"black\" fill=\"white\" stroke-width=\"1\"/><text x=\"351.123203125\" y=\"75.0\" dominant-baseline=\"middle\" text-anchor=\"middle\" font-size=\"14px\" font-family=\"Arial:style=normal:variant=normal:weight=normal:stretch=normal:size=10.0\">(0)</text><rect x=\"315.3918359375\" y=\"305.0\" width=\"71.462734375\" height=\"40\" stroke=\"black\" fill=\"white\" stroke-width=\"1\"/><text x=\"351.123203125\" y=\"325.0\" dominant-baseline=\"middle\" text-anchor=\"middle\" font-size=\"14px\" font-family=\"Arial:style=normal:variant=normal:weight=normal:stretch=normal:size=10.0\">And</text><rect x=\"406.85457031249996\" y=\"305.0\" width=\"102.95453125000002\" height=\"40\" stroke=\"black\" fill=\"white\" stroke-width=\"1\"/><text x=\"458.3318359375\" y=\"325.0\" dominant-baseline=\"middle\" text-anchor=\"middle\" font-size=\"14px\" font-family=\"Arial:style=normal:variant=normal:weight=normal:stretch=normal:size=10.0\">@['t:0,r:0']</text><rect x=\"406.85457031249996\" y=\"105.0\" width=\"102.95453125000002\" height=\"40\" stroke=\"black\" fill=\"white\" stroke-width=\"1\"/><text x=\"458.3318359375\" y=\"125.0\" dominant-baseline=\"middle\" text-anchor=\"middle\" font-size=\"14px\" font-family=\"Arial:style=normal:variant=normal:weight=normal:stretch=normal:size=10.0\">PauliString(+X)</text><rect x=\"406.85457031249996\" y=\"205.0\" width=\"102.95453125000002\" height=\"40\" stroke=\"black\" fill=\"white\" stroke-width=\"1\"/><text x=\"458.3318359375\" y=\"225.0\" dominant-baseline=\"middle\" text-anchor=\"middle\" font-size=\"18px\" font-family=\"Arial:style=normal:variant=normal:weight=normal:stretch=normal:size=10.0\">X</text><rect x=\"529.8091015625\" y=\"5.0\" width=\"71.462734375\" height=\"40\" stroke=\"black\" fill=\"white\" stroke-width=\"1\"/><text x=\"565.5404687500001\" y=\"25.0\" dominant-baseline=\"middle\" text-anchor=\"middle\" font-size=\"14px\" font-family=\"Arial:style=normal:variant=normal:weight=normal:stretch=normal:size=10.0\">@['t:0,r:0']</text><rect x=\"529.8091015625\" y=\"305.0\" width=\"71.462734375\" height=\"40\" stroke=\"black\" fill=\"white\" stroke-width=\"1\"/><text x=\"565.5404687500001\" y=\"325.0\" dominant-baseline=\"middle\" text-anchor=\"middle\" font-size=\"18px\" font-family=\"Arial:style=normal:variant=normal:weight=normal:stretch=normal:size=10.0\">X</text><rect x=\"621.2718359375\" y=\"305.0\" width=\"102.95453125000002\" height=\"40\" stroke=\"black\" fill=\"white\" stroke-width=\"1\"/><text x=\"672.7491015625\" y=\"325.0\" dominant-baseline=\"middle\" text-anchor=\"middle\" font-size=\"14px\" font-family=\"Arial:style=normal:variant=normal:weight=normal:stretch=normal:size=10.0\">@['t:0,r:0']</text><rect x=\"621.2718359375\" y=\"105.0\" width=\"102.95453125000002\" height=\"40\" stroke=\"black\" fill=\"white\" stroke-width=\"1\"/><text x=\"672.7491015625\" y=\"125.0\" dominant-baseline=\"middle\" text-anchor=\"middle\" font-size=\"14px\" font-family=\"Arial:style=normal:variant=normal:weight=normal:stretch=normal:size=10.0\">PauliString(+Y)</text><rect x=\"621.2718359375\" y=\"205.0\" width=\"102.95453125000002\" height=\"40\" stroke=\"black\" fill=\"white\" stroke-width=\"1\"/><text x=\"672.7491015625\" y=\"225.0\" dominant-baseline=\"middle\" text-anchor=\"middle\" font-size=\"18px\" font-family=\"Arial:style=normal:variant=normal:weight=normal:stretch=normal:size=10.0\">Y</text><rect x=\"744.2263671875\" y=\"5.0\" width=\"71.462734375\" height=\"40\" stroke=\"black\" fill=\"white\" stroke-width=\"1\"/><text x=\"779.9577343750001\" y=\"25.0\" dominant-baseline=\"middle\" text-anchor=\"middle\" font-size=\"14px\" font-family=\"Arial:style=normal:variant=normal:weight=normal:stretch=normal:size=10.0\">@['t:0,r:0']</text><circle cx=\"779.9577343750001\" cy=\"75.0\" r=\"10.0\"/><rect x=\"744.2263671875\" y=\"305.0\" width=\"71.462734375\" height=\"40\" stroke=\"black\" fill=\"white\" stroke-width=\"1\"/><text x=\"779.9577343750001\" y=\"325.0\" dominant-baseline=\"middle\" text-anchor=\"middle\" font-size=\"14px\" font-family=\"Arial:style=normal:variant=normal:weight=normal:stretch=normal:size=10.0\">And†</text><rect x=\"835.6891015625\" y=\"5.0\" width=\"67.2865234375\" height=\"40\" stroke=\"black\" fill=\"white\" stroke-width=\"1\"/><text x=\"869.33236328125\" y=\"25.0\" dominant-baseline=\"middle\" text-anchor=\"middle\" font-size=\"14px\" font-family=\"Arial:style=normal:variant=normal:weight=normal:stretch=normal:size=10.0\">X['t:0,r:0']</text><rect x=\"922.975625\" y=\"5.0\" width=\"71.462734375\" height=\"40\" stroke=\"black\" fill=\"white\" stroke-width=\"1\"/><text x=\"958.7069921875001\" y=\"25.0\" dominant-baseline=\"middle\" text-anchor=\"middle\" font-size=\"14px\" font-family=\"Arial:style=normal:variant=normal:weight=normal:stretch=normal:size=10.0\">@['t:4,r:0']</text><rect x=\"922.975625\" y=\"55.0\" width=\"71.462734375\" height=\"40\" stroke=\"black\" fill=\"white\" stroke-width=\"1\"/><text x=\"958.7069921875001\" y=\"75.0\" dominant-baseline=\"middle\" text-anchor=\"middle\" font-size=\"14px\" font-family=\"Arial:style=normal:variant=normal:weight=normal:stretch=normal:size=10.0\">(0)</text><rect x=\"922.975625\" y=\"305.0\" width=\"71.462734375\" height=\"40\" stroke=\"black\" fill=\"white\" stroke-width=\"1\"/><text x=\"958.7069921875001\" y=\"325.0\" dominant-baseline=\"middle\" text-anchor=\"middle\" font-size=\"14px\" font-family=\"Arial:style=normal:variant=normal:weight=normal:stretch=normal:size=10.0\">And</text><rect x=\"1014.4383593750001\" y=\"305.0\" width=\"102.16839843750002\" height=\"40\" stroke=\"black\" fill=\"white\" stroke-width=\"1\"/><text x=\"1065.52255859375\" y=\"325.0\" dominant-baseline=\"middle\" text-anchor=\"middle\" font-size=\"14px\" font-family=\"Arial:style=normal:variant=normal:weight=normal:stretch=normal:size=10.0\">@['t:0,r:0']</text><rect x=\"1014.4383593750001\" y=\"105.0\" width=\"102.16839843750002\" height=\"40\" stroke=\"black\" fill=\"white\" stroke-width=\"1\"/><text x=\"1065.52255859375\" y=\"125.0\" dominant-baseline=\"middle\" text-anchor=\"middle\" font-size=\"14px\" font-family=\"Arial:style=normal:variant=normal:weight=normal:stretch=normal:size=10.0\">PauliString(+Z)</text><rect x=\"1014.4383593750001\" y=\"155.0\" width=\"102.16839843750002\" height=\"40\" stroke=\"black\" fill=\"white\" stroke-width=\"1\"/><text x=\"1065.52255859375\" y=\"175.0\" dominant-baseline=\"middle\" text-anchor=\"middle\" font-size=\"18px\" font-family=\"Arial:style=normal:variant=normal:weight=normal:stretch=normal:size=10.0\">Z</text><rect x=\"1014.4383593750001\" y=\"205.0\" width=\"102.16839843750002\" height=\"40\" stroke=\"black\" fill=\"white\" stroke-width=\"1\"/><text x=\"1065.52255859375\" y=\"225.0\" dominant-baseline=\"middle\" text-anchor=\"middle\" font-size=\"18px\" font-family=\"Arial:style=normal:variant=normal:weight=normal:stretch=normal:size=10.0\">Z</text><rect x=\"1014.4383593750001\" y=\"255.0\" width=\"102.16839843750002\" height=\"40\" stroke=\"black\" fill=\"white\" stroke-width=\"1\"/><text x=\"1065.52255859375\" y=\"275.0\" dominant-baseline=\"middle\" text-anchor=\"middle\" font-size=\"18px\" font-family=\"Arial:style=normal:variant=normal:weight=normal:stretch=normal:size=10.0\">Z</text><rect x=\"1136.6067578125\" y=\"5.0\" width=\"71.462734375\" height=\"40\" stroke=\"black\" fill=\"white\" stroke-width=\"1\"/><text x=\"1172.338125\" y=\"25.0\" dominant-baseline=\"middle\" text-anchor=\"middle\" font-size=\"14px\" font-family=\"Arial:style=normal:variant=normal:weight=normal:stretch=normal:size=10.0\">@['t:0,r:0']</text><rect x=\"1136.6067578125\" y=\"305.0\" width=\"71.462734375\" height=\"40\" stroke=\"black\" fill=\"white\" stroke-width=\"1\"/><text x=\"1172.338125\" y=\"325.0\" dominant-baseline=\"middle\" text-anchor=\"middle\" font-size=\"18px\" font-family=\"Arial:style=normal:variant=normal:weight=normal:stretch=normal:size=10.0\">X</text><rect x=\"1228.0694921875001\" y=\"305.0\" width=\"102.16839843750002\" height=\"40\" stroke=\"black\" fill=\"white\" stroke-width=\"1\"/><text x=\"1279.1536914062501\" y=\"325.0\" dominant-baseline=\"middle\" text-anchor=\"middle\" font-size=\"14px\" font-family=\"Arial:style=normal:variant=normal:weight=normal:stretch=normal:size=10.0\">@['t:0,r:0']</text><rect x=\"1228.0694921875001\" y=\"105.0\" width=\"102.16839843750002\" height=\"40\" stroke=\"black\" fill=\"white\" stroke-width=\"1\"/><text x=\"1279.1536914062501\" y=\"125.0\" dominant-baseline=\"middle\" text-anchor=\"middle\" font-size=\"14px\" font-family=\"Arial:style=normal:variant=normal:weight=normal:stretch=normal:size=10.0\">PauliString(+Z)</text><rect x=\"1228.0694921875001\" y=\"155.0\" width=\"102.16839843750002\" height=\"40\" stroke=\"black\" fill=\"white\" stroke-width=\"1\"/><text x=\"1279.1536914062501\" y=\"175.0\" dominant-baseline=\"middle\" text-anchor=\"middle\" font-size=\"18px\" font-family=\"Arial:style=normal:variant=normal:weight=normal:stretch=normal:size=10.0\">X</text><rect x=\"1228.0694921875001\" y=\"205.0\" width=\"102.16839843750002\" height=\"40\" stroke=\"black\" fill=\"white\" stroke-width=\"1\"/><text x=\"1279.1536914062501\" y=\"225.0\" dominant-baseline=\"middle\" text-anchor=\"middle\" font-size=\"18px\" font-family=\"Arial:style=normal:variant=normal:weight=normal:stretch=normal:size=10.0\">Y</text><rect x=\"1228.0694921875001\" y=\"255.0\" width=\"102.16839843750002\" height=\"40\" stroke=\"black\" fill=\"white\" stroke-width=\"1\"/><text x=\"1279.1536914062501\" y=\"275.0\" dominant-baseline=\"middle\" text-anchor=\"middle\" font-size=\"18px\" font-family=\"Arial:style=normal:variant=normal:weight=normal:stretch=normal:size=10.0\">Z</text><rect x=\"1350.237890625\" y=\"5.0\" width=\"71.462734375\" height=\"40\" stroke=\"black\" fill=\"white\" stroke-width=\"1\"/><text x=\"1385.9692578125\" y=\"25.0\" dominant-baseline=\"middle\" text-anchor=\"middle\" font-size=\"14px\" font-family=\"Arial:style=normal:variant=normal:weight=normal:stretch=normal:size=10.0\">@['t:0,r:0']</text><circle cx=\"1385.9692578125\" cy=\"75.0\" r=\"10.0\"/><rect x=\"1350.237890625\" y=\"305.0\" width=\"71.462734375\" height=\"40\" stroke=\"black\" fill=\"white\" stroke-width=\"1\"/><text x=\"1385.9692578125\" y=\"325.0\" dominant-baseline=\"middle\" text-anchor=\"middle\" font-size=\"14px\" font-family=\"Arial:style=normal:variant=normal:weight=normal:stretch=normal:size=10.0\">And†</text></svg>",
          "text/plain": "<IPython.core.display.SVG object>"
         },
         "metadata": {},
         "output_type": "display_data"
        }
       ],
       "tabbable": null,
       "tooltip": null
      }
     },
     "b860050fa9864d83aabfedb4968568f2": {
      "model_module": "@jupyter-widgets/base",
      "model_module_version": "2.0.0",
      "model_name": "LayoutModel",
      "state": {
       "_model_module": "@jupyter-widgets/base",
       "_model_module_version": "2.0.0",
       "_model_name": "LayoutModel",
       "_view_count": null,
       "_view_module": "@jupyter-widgets/base",
       "_view_module_version": "2.0.0",
       "_view_name": "LayoutView",
       "align_content": null,
       "align_items": null,
       "align_self": null,
       "border_bottom": null,
       "border_left": null,
       "border_right": null,
       "border_top": null,
       "bottom": null,
       "display": null,
       "flex": null,
       "flex_flow": null,
       "grid_area": null,
       "grid_auto_columns": null,
       "grid_auto_flow": null,
       "grid_auto_rows": null,
       "grid_column": null,
       "grid_gap": null,
       "grid_row": null,
       "grid_template_areas": null,
       "grid_template_columns": null,
       "grid_template_rows": null,
       "height": null,
       "justify_content": null,
       "justify_items": null,
       "left": null,
       "margin": null,
       "max_height": null,
       "max_width": null,
       "min_height": null,
       "min_width": null,
       "object_fit": null,
       "object_position": null,
       "order": null,
       "overflow": null,
       "padding": null,
       "right": null,
       "top": null,
       "visibility": null,
       "width": null
      }
     },
     "ddcf0931167a493cba44731fdcb19b91": {
      "model_module": "@jupyter-widgets/output",
      "model_module_version": "1.0.0",
      "model_name": "OutputModel",
      "state": {
       "_dom_classes": [],
       "_model_module": "@jupyter-widgets/output",
       "_model_module_version": "1.0.0",
       "_model_name": "OutputModel",
       "_view_count": null,
       "_view_module": "@jupyter-widgets/output",
       "_view_module_version": "1.0.0",
       "_view_name": "OutputView",
       "layout": "IPY_MODEL_ef78edec835e428988206a4379638c03",
       "msg_id": "",
       "outputs": [
        {
         "data": {
          "image/svg+xml": "<svg xmlns=\"http://www.w3.org/2000/svg\" width=\"261.56601562500003\" height=\"300.0\"><line x1=\"47.63832031250001\" x2=\"231.56601562500003\" y1=\"25.0\" y2=\"25.0\" stroke=\"#1967d2\" stroke-width=\"1\"/><line x1=\"47.63832031250001\" x2=\"231.56601562500003\" y1=\"75.0\" y2=\"75.0\" stroke=\"#1967d2\" stroke-width=\"1\"/><line x1=\"47.63832031250001\" x2=\"231.56601562500003\" y1=\"125.0\" y2=\"125.0\" stroke=\"#1967d2\" stroke-width=\"1\"/><line x1=\"47.63832031250001\" x2=\"231.56601562500003\" y1=\"175.0\" y2=\"175.0\" stroke=\"#1967d2\" stroke-width=\"1\"/><line x1=\"47.63832031250001\" x2=\"231.56601562500003\" y1=\"225.0\" y2=\"225.0\" stroke=\"#1967d2\" stroke-width=\"1\"/><line x1=\"47.63832031250001\" x2=\"231.56601562500003\" y1=\"275.0\" y2=\"275.0\" stroke=\"#1967d2\" stroke-width=\"1\"/><line x1=\"158.421328125\" x2=\"158.421328125\" y1=\"25.0\" y2=\"275.0\" stroke=\"black\" stroke-width=\"3\"/><rect x=\"10.0\" y=\"5.0\" width=\"75.27664062500001\" height=\"40\" stroke=\"black\" fill=\"white\" stroke-width=\"0\"/><text x=\"47.63832031250001\" y=\"25.0\" dominant-baseline=\"middle\" text-anchor=\"middle\" font-size=\"14px\" font-family=\"Arial:style=normal:variant=normal:weight=normal:stretch=normal:size=10.0\">selection0: </text><rect x=\"10.0\" y=\"55.0\" width=\"75.27664062500001\" height=\"40\" stroke=\"black\" fill=\"white\" stroke-width=\"0\"/><text x=\"47.63832031250001\" y=\"75.0\" dominant-baseline=\"middle\" text-anchor=\"middle\" font-size=\"14px\" font-family=\"Arial:style=normal:variant=normal:weight=normal:stretch=normal:size=10.0\">selection1: </text><rect x=\"10.0\" y=\"105.0\" width=\"75.27664062500001\" height=\"40\" stroke=\"black\" fill=\"white\" stroke-width=\"0\"/><text x=\"47.63832031250001\" y=\"125.0\" dominant-baseline=\"middle\" text-anchor=\"middle\" font-size=\"14px\" font-family=\"Arial:style=normal:variant=normal:weight=normal:stretch=normal:size=10.0\">target0: </text><rect x=\"10.0\" y=\"155.0\" width=\"75.27664062500001\" height=\"40\" stroke=\"black\" fill=\"white\" stroke-width=\"0\"/><text x=\"47.63832031250001\" y=\"175.0\" dominant-baseline=\"middle\" text-anchor=\"middle\" font-size=\"14px\" font-family=\"Arial:style=normal:variant=normal:weight=normal:stretch=normal:size=10.0\">target1: </text><rect x=\"10.0\" y=\"205.0\" width=\"75.27664062500001\" height=\"40\" stroke=\"black\" fill=\"white\" stroke-width=\"0\"/><text x=\"47.63832031250001\" y=\"225.0\" dominant-baseline=\"middle\" text-anchor=\"middle\" font-size=\"14px\" font-family=\"Arial:style=normal:variant=normal:weight=normal:stretch=normal:size=10.0\">target2: </text><rect x=\"10.0\" y=\"255.0\" width=\"75.27664062500001\" height=\"40\" stroke=\"black\" fill=\"white\" stroke-width=\"0\"/><text x=\"47.63832031250001\" y=\"275.0\" dominant-baseline=\"middle\" text-anchor=\"middle\" font-size=\"14px\" font-family=\"Arial:style=normal:variant=normal:weight=normal:stretch=normal:size=10.0\">target3: </text><rect x=\"105.276640625\" y=\"5.0\" width=\"106.289375\" height=\"40\" stroke=\"black\" fill=\"white\" stroke-width=\"1\"/><text x=\"158.421328125\" y=\"25.0\" dominant-baseline=\"middle\" text-anchor=\"middle\" font-size=\"14px\" font-family=\"Arial:style=normal:variant=normal:weight=normal:stretch=normal:size=10.0\">In['t:8,r:0']</text><rect x=\"105.276640625\" y=\"55.0\" width=\"106.289375\" height=\"40\" stroke=\"black\" fill=\"white\" stroke-width=\"1\"/><text x=\"158.421328125\" y=\"75.0\" dominant-baseline=\"middle\" text-anchor=\"middle\" font-size=\"14px\" font-family=\"Arial:style=normal:variant=normal:weight=normal:stretch=normal:size=10.0\">In</text><rect x=\"105.276640625\" y=\"105.0\" width=\"106.289375\" height=\"40\" stroke=\"black\" fill=\"white\" stroke-width=\"1\"/><text x=\"158.421328125\" y=\"125.0\" dominant-baseline=\"middle\" text-anchor=\"middle\" font-size=\"14px\" font-family=\"Arial:style=normal:variant=normal:weight=normal:stretch=normal:size=10.0\">SelectPauliLCU</text><rect x=\"105.276640625\" y=\"155.0\" width=\"106.289375\" height=\"40\" stroke=\"black\" fill=\"white\" stroke-width=\"1\"/><text x=\"158.421328125\" y=\"175.0\" dominant-baseline=\"middle\" text-anchor=\"middle\" font-size=\"14px\" font-family=\"Arial:style=normal:variant=normal:weight=normal:stretch=normal:size=10.0\">SelectPauliLCU</text><rect x=\"105.276640625\" y=\"205.0\" width=\"106.289375\" height=\"40\" stroke=\"black\" fill=\"white\" stroke-width=\"1\"/><text x=\"158.421328125\" y=\"225.0\" dominant-baseline=\"middle\" text-anchor=\"middle\" font-size=\"14px\" font-family=\"Arial:style=normal:variant=normal:weight=normal:stretch=normal:size=10.0\">SelectPauliLCU</text><rect x=\"105.276640625\" y=\"255.0\" width=\"106.289375\" height=\"40\" stroke=\"black\" fill=\"white\" stroke-width=\"1\"/><text x=\"158.421328125\" y=\"275.0\" dominant-baseline=\"middle\" text-anchor=\"middle\" font-size=\"14px\" font-family=\"Arial:style=normal:variant=normal:weight=normal:stretch=normal:size=10.0\">SelectPauliLCU</text></svg>",
          "text/plain": "<IPython.core.display.SVG object>"
         },
         "metadata": {},
         "output_type": "display_data"
        }
       ],
       "tabbable": null,
       "tooltip": null
      }
     },
     "ef78edec835e428988206a4379638c03": {
      "model_module": "@jupyter-widgets/base",
      "model_module_version": "2.0.0",
      "model_name": "LayoutModel",
      "state": {
       "_model_module": "@jupyter-widgets/base",
       "_model_module_version": "2.0.0",
       "_model_name": "LayoutModel",
       "_view_count": null,
       "_view_module": "@jupyter-widgets/base",
       "_view_module_version": "2.0.0",
       "_view_name": "LayoutView",
       "align_content": null,
       "align_items": null,
       "align_self": null,
       "border_bottom": null,
       "border_left": null,
       "border_right": null,
       "border_top": null,
       "bottom": null,
       "display": null,
       "flex": null,
       "flex_flow": null,
       "grid_area": null,
       "grid_auto_columns": null,
       "grid_auto_flow": null,
       "grid_auto_rows": null,
       "grid_column": null,
       "grid_gap": null,
       "grid_row": null,
       "grid_template_areas": null,
       "grid_template_columns": null,
       "grid_template_rows": null,
       "height": null,
       "justify_content": null,
       "justify_items": null,
       "left": null,
       "margin": null,
       "max_height": null,
       "max_width": null,
       "min_height": null,
       "min_width": null,
       "object_fit": null,
       "object_position": null,
       "order": null,
       "overflow": null,
       "padding": null,
       "right": null,
       "top": null,
       "visibility": null,
       "width": null
      }
     }
    },
    "version_major": 2,
    "version_minor": 0
   }
  }
 },
 "nbformat": 4,
 "nbformat_minor": 5
}
