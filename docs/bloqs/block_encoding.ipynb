{
 "cells": [
  {
   "cell_type": "markdown",
   "id": "774a1b4a",
   "metadata": {
    "cq.autogen": "title_cell"
   },
   "source": [
    "# Block Encoding\n",
    "\n",
    "High level bloqs for defining bloq encodings and operations on block encodings.\n",
    "\n",
    "Given an operator $V$ which can be expressed as a linear combination of unitaries\n",
    "\n",
    "$$\n",
    "    V = \\sum_l^L w_l U_l,\n",
    "$$\n",
    "where $w_l \\ge 0$, $w_l \\in \\mathbb{R}$, and $U_l$ is a unitary, then the block\n",
    "encoding $\\mathcal{B}\\left[\\frac{V}{\\lambda}\\right]$ satisifies\n",
    "$$\n",
    "    _a\\langle 0| \\mathcal{B}\\left[\\frac{V}{\\lambda}\\right] |0\\rangle_a\n",
    "    |\\psi\\rangle_s = \\frac{V}{\\lambda}|\\psi\\rangle_s\n",
    "$$\n",
    "where the subscripts $a$ and $s$ signify ancilla and system registers\n",
    "respectively, and $\\lambda = \\sum_l w_l$. The ancilla register is at least of size $\\log L$. In our\n",
    "implementations we typically split the ancilla registers into selection registers (i.e.\n",
    "the $l$ registers above) and junk registers which are extra qubits needed by\n",
    "state preparation but not controlled upon during SELECT."
   ]
  },
  {
   "cell_type": "code",
   "execution_count": 1,
   "id": "b4bc97c7",
   "metadata": {
    "cq.autogen": "top_imports"
   },
   "outputs": [],
   "source": [
    "from qualtran import Bloq, CompositeBloq, BloqBuilder, Signature, Register\n",
    "from qualtran import QBit, QInt, QUInt, QAny\n",
    "from qualtran.drawing import show_bloq, show_call_graph, show_counts_sigma\n",
    "from typing import *\n",
    "import numpy as np\n",
    "import sympy\n",
    "import cirq"
   ]
  },
  {
   "cell_type": "markdown",
   "id": "1b5bfa35",
   "metadata": {
    "cq.autogen": "BlackBoxBlockEncoding.bloq_doc.md"
   },
   "source": [
    "## `BlackBoxBlockEncoding`\n",
    "Black box implementation of a block encoding using SELECT and PREPARE.\n",
    "\n",
    "Builds the block encoding via\n",
    "$$\n",
    "    \\mathcal{B}[V] = \\mathrm{PREPARE}^\\dagger \\cdot \\mathrm{SELECT} \\cdot \\mathrm{PREPARE},\n",
    "$$\n",
    "where\n",
    "$$\n",
    "    \\mathrm{PREPARE} |0\\rangle_a = \\sum_l \\sqrt{\\frac{w_l}{\\lambda}} |l\\rangle_a,\n",
    "$$\n",
    "and\n",
    "$$\n",
    "    \\mathrm{SELECT} |l\\rangle_a|\\psi\\rangle_s = |l\\rangle_a U_l |\\psi\\rangle_s.\n",
    "$$\n",
    "\n",
    "#### Parameters\n",
    " - `select`: The bloq implementing the `SelectOracle` interface.\n",
    " - `prepare`: The bloq implementing the `SelectOracle` interface. \n",
    "\n",
    "#### Registers\n",
    " - `selection`: The combined selection register.\n",
    " - `junk`: Additional junk registers not prepared upon.\n",
    " - `system`: The combined system register.\n"
   ]
  },
  {
   "cell_type": "code",
   "execution_count": 2,
   "id": "0d0e1f95",
   "metadata": {
    "cq.autogen": "BlackBoxBlockEncoding.bloq_doc.py"
   },
   "outputs": [],
   "source": [
    "from qualtran.bloqs.block_encoding import BlackBoxBlockEncoding"
   ]
  },
  {
   "cell_type": "markdown",
   "id": "ba37811d",
   "metadata": {
    "cq.autogen": "BlackBoxBlockEncoding.example_instances.md"
   },
   "source": [
    "### Example Instances"
   ]
  },
  {
   "cell_type": "code",
   "execution_count": 3,
   "id": "38a4e1fc",
   "metadata": {
    "cq.autogen": "BlackBoxBlockEncoding.black_box_block_bloq"
   },
   "outputs": [],
   "source": [
    "from qualtran.bloqs.block_encoding import BlackBoxBlockEncoding, BlackBoxPrepare, BlackBoxSelect\n",
    "from qualtran.bloqs.hubbard_model import PrepareHubbard, SelectHubbard\n",
    "\n",
    "dim = 3\n",
    "select = BlackBoxSelect(SelectHubbard(x_dim=dim, y_dim=dim))\n",
    "prepare = BlackBoxPrepare(PrepareHubbard(x_dim=dim, y_dim=dim, t=1, mu=4))\n",
    "black_box_block_bloq = BlackBoxBlockEncoding(select=select, prepare=prepare)"
   ]
  },
  {
   "cell_type": "markdown",
   "id": "fafa7659",
   "metadata": {
    "cq.autogen": "BlackBoxBlockEncoding.graphical_signature.md"
   },
   "source": [
    "#### Graphical Signature"
   ]
  },
  {
   "cell_type": "code",
   "execution_count": 4,
   "id": "4e0223af",
   "metadata": {
    "cq.autogen": "BlackBoxBlockEncoding.graphical_signature.py"
   },
   "outputs": [
    {
     "data": {
      "application/vnd.jupyter.widget-view+json": {
       "model_id": "829759b302da4bfca96c7e7d17cc61cf",
       "version_major": 2,
       "version_minor": 0
      },
      "text/plain": [
       "HBox(children=(Output(outputs=({'output_type': 'display_data', 'data': {'text/plain': '<IPython.core.display.M…"
      ]
     },
     "metadata": {},
     "output_type": "display_data"
    }
   ],
   "source": [
    "from qualtran.drawing import show_bloqs\n",
    "show_bloqs([black_box_block_bloq],\n",
    "           ['`black_box_block_bloq`'])"
   ]
  },
  {
   "cell_type": "markdown",
   "id": "8664826d",
   "metadata": {
    "cq.autogen": "BlackBoxBlockEncoding.call_graph.md"
   },
   "source": [
    "### Call Graph"
   ]
  },
  {
   "cell_type": "code",
   "execution_count": 5,
   "id": "fdb0d03b",
   "metadata": {
    "cq.autogen": "BlackBoxBlockEncoding.call_graph.py"
   },
   "outputs": [
    {
     "data": {
      "image/svg+xml": [
       "<svg xmlns=\"http://www.w3.org/2000/svg\" xmlns:xlink=\"http://www.w3.org/1999/xlink\" width=\"449pt\" height=\"131pt\" viewBox=\"0.00 0.00 449.00 131.00\">\n",
       "<g id=\"graph0\" class=\"graph\" transform=\"scale(1 1) rotate(0) translate(4 127)\">\n",
       "<title>counts</title>\n",
       "<polygon fill=\"white\" stroke=\"transparent\" points=\"-4,4 -4,-127 445,-127 445,4 -4,4\"/>\n",
       "<!-- b0 -->\n",
       "<g id=\"node1\" class=\"node\">\n",
       "<title>b0</title>\n",
       "<polygon fill=\"none\" stroke=\"black\" points=\"349,-123 86,-123 86,-87 349,-87 349,-123\"/>\n",
       "<text text-anchor=\"start\" x=\"148\" y=\"-106.8\" font-family=\"Times,serif\" font-size=\"14.00\">BlackBoxBlockEncoding</text>\n",
       "<text text-anchor=\"start\" x=\"94\" y=\"-96\" font-family=\"monospace\" font-size=\"10.00\">select=BlackBox ..., prepare=BlackBox ...</text>\n",
       "</g>\n",
       "<!-- b1 -->\n",
       "<g id=\"node2\" class=\"node\">\n",
       "<title>b1</title>\n",
       "<polygon fill=\"none\" stroke=\"black\" points=\"131,-36 0,-36 0,0 131,0 131,-36\"/>\n",
       "<text text-anchor=\"start\" x=\"21.5\" y=\"-19.8\" font-family=\"Times,serif\" font-size=\"14.00\">BlackBoxSelect</text>\n",
       "<text text-anchor=\"start\" x=\"8\" y=\"-9\" font-family=\"monospace\" font-size=\"10.00\">select=SelectHu ...</text>\n",
       "</g>\n",
       "<!-- b0&#45;&gt;b1 -->\n",
       "<g id=\"edge1\" class=\"edge\">\n",
       "<title>b0-&gt;b1</title>\n",
       "<path fill=\"none\" stroke=\"black\" d=\"M186.74,-86.8C163.18,-73.62 130.49,-55.34 104.99,-41.08\"/>\n",
       "<polygon fill=\"black\" stroke=\"black\" points=\"106.39,-37.86 95.95,-36.03 102.97,-43.97 106.39,-37.86\"/>\n",
       "<text text-anchor=\"middle\" x=\"155\" y=\"-57.8\" font-family=\"Times,serif\" font-size=\"14.00\">1</text>\n",
       "</g>\n",
       "<!-- b2 -->\n",
       "<g id=\"node3\" class=\"node\">\n",
       "<title>b2</title>\n",
       "<polygon fill=\"none\" stroke=\"black\" points=\"286,-36 149,-36 149,0 286,0 286,-36\"/>\n",
       "<text text-anchor=\"start\" x=\"166\" y=\"-19.8\" font-family=\"Times,serif\" font-size=\"14.00\">BlackBoxPrepare†</text>\n",
       "<text text-anchor=\"start\" x=\"157\" y=\"-9\" font-family=\"monospace\" font-size=\"10.00\">subbloq=BlackBox ...</text>\n",
       "</g>\n",
       "<!-- b0&#45;&gt;b2 -->\n",
       "<g id=\"edge2\" class=\"edge\">\n",
       "<title>b0-&gt;b2</title>\n",
       "<path fill=\"none\" stroke=\"black\" d=\"M217.5,-86.8C217.5,-75.16 217.5,-59.55 217.5,-46.24\"/>\n",
       "<polygon fill=\"black\" stroke=\"black\" points=\"221,-46.18 217.5,-36.18 214,-46.18 221,-46.18\"/>\n",
       "<text text-anchor=\"middle\" x=\"221\" y=\"-57.8\" font-family=\"Times,serif\" font-size=\"14.00\">1</text>\n",
       "</g>\n",
       "<!-- b3 -->\n",
       "<g id=\"node4\" class=\"node\">\n",
       "<title>b3</title>\n",
       "<polygon fill=\"none\" stroke=\"black\" points=\"441,-36 304,-36 304,0 441,0 441,-36\"/>\n",
       "<text text-anchor=\"start\" x=\"324.5\" y=\"-19.8\" font-family=\"Times,serif\" font-size=\"14.00\">BlackBoxPrepare</text>\n",
       "<text text-anchor=\"start\" x=\"312\" y=\"-9\" font-family=\"monospace\" font-size=\"10.00\">prepare=PrepareH ...</text>\n",
       "</g>\n",
       "<!-- b0&#45;&gt;b3 -->\n",
       "<g id=\"edge3\" class=\"edge\">\n",
       "<title>b0-&gt;b3</title>\n",
       "<path fill=\"none\" stroke=\"black\" d=\"M248.87,-86.8C273,-73.56 306.52,-55.18 332.57,-40.9\"/>\n",
       "<polygon fill=\"black\" stroke=\"black\" points=\"334.36,-43.91 341.44,-36.03 330.99,-37.77 334.36,-43.91\"/>\n",
       "<text text-anchor=\"middle\" x=\"308\" y=\"-57.8\" font-family=\"Times,serif\" font-size=\"14.00\">1</text>\n",
       "</g>\n",
       "</g>\n",
       "</svg>"
      ],
      "text/plain": [
       "<IPython.core.display.SVG object>"
      ]
     },
     "metadata": {},
     "output_type": "display_data"
    },
    {
     "data": {
      "text/markdown": [
       "#### Counts totals:\n",
       " - `Adjoint(subbloq=BlackBoxPrepare(prepare=PrepareHubbard(x_dim=3, y_dim=3, t=1, mu=4)))`: 1\n",
       " - `BlackBoxPrepare(prepare=PrepareHubbard(x_dim=3, y_dim=3, t=1, mu=4))`: 1\n",
       " - `BlackBoxSelect(select=SelectHubbard(x_dim=3, y_dim=3, control_val=None))`: 1"
      ],
      "text/plain": [
       "<IPython.core.display.Markdown object>"
      ]
     },
     "metadata": {},
     "output_type": "display_data"
    }
   ],
   "source": [
    "from qualtran.resource_counting.generalizers import ignore_split_join\n",
    "black_box_block_bloq_g, black_box_block_bloq_sigma = black_box_block_bloq.call_graph(max_depth=1, generalizer=ignore_split_join)\n",
    "show_call_graph(black_box_block_bloq_g)\n",
    "show_counts_sigma(black_box_block_bloq_sigma)"
   ]
  },
  {
   "cell_type": "markdown",
   "id": "995d6d20",
   "metadata": {
    "cq.autogen": "ChebyshevPolynomial.bloq_doc.md"
   },
   "source": [
    "## `ChebyshevPolynomial`\n",
    "Block encoding of $T_j[H]$ where $T_j$ is the $j$-th Chebyshev polynomial.\n",
    "\n",
    "Here H is a Hamiltonian with spectral norm $|H| \\le 1$, we assume we have\n",
    "an $n_L$ qubit ancilla register, and assume that $j > 0$ to avoid block\n",
    "encoding the identity operator.\n",
    "\n",
    "Recall:\n",
    "\n",
    "\\begin{align*}\n",
    "    T_0[H] &= \\mathbb{1} \\\\\n",
    "    T_1[H] &= H \\\\\n",
    "    T_2[H] &= 2 H^2 - \\mathbb{1} \\\\\n",
    "    T_3[H] &= 4 H^3 - 3 H \\\\\n",
    "    &\\dots\n",
    "\\end{align*}\n",
    "\n",
    "#### Parameters\n",
    " - `block_encoding`: Block encoding of a Hamiltonian $H$, $\\mathcal{B}[H]$.\n",
    " - `order`: order of Chebychev polynomial. \n",
    "\n",
    "#### References\n",
    " - [Quantum computing enhanced computational catalysis](     https://arxiv.org/abs/2007.14460). Page 45; Theorem 1.\n"
   ]
  },
  {
   "cell_type": "code",
   "execution_count": 6,
   "id": "1b553eeb",
   "metadata": {
    "cq.autogen": "ChebyshevPolynomial.bloq_doc.py"
   },
   "outputs": [],
   "source": [
    "from qualtran.bloqs.block_encoding import ChebyshevPolynomial"
   ]
  },
  {
   "cell_type": "markdown",
   "id": "f8f02214",
   "metadata": {
    "cq.autogen": "ChebyshevPolynomial.example_instances.md"
   },
   "source": [
    "### Example Instances"
   ]
  },
  {
   "cell_type": "code",
   "execution_count": 7,
   "id": "df1de952",
   "metadata": {
    "cq.autogen": "ChebyshevPolynomial.chebyshev_poly"
   },
   "outputs": [],
   "source": [
    "from qualtran.bloqs.block_encoding import BlackBoxBlockEncoding, BlackBoxPrepare, BlackBoxSelect\n",
    "from qualtran.bloqs.hubbard_model import PrepareHubbard, SelectHubbard\n",
    "\n",
    "dim = 3\n",
    "select = BlackBoxSelect(SelectHubbard(x_dim=dim, y_dim=dim))\n",
    "prepare = BlackBoxPrepare(PrepareHubbard(x_dim=dim, y_dim=dim, t=1, mu=4))\n",
    "black_box_block_bloq = BlackBoxBlockEncoding(select=select, prepare=prepare)\n",
    "chebyshev_poly = ChebyshevPolynomial(black_box_block_bloq, order=3)"
   ]
  },
  {
   "cell_type": "markdown",
   "id": "135e9723",
   "metadata": {
    "cq.autogen": "ChebyshevPolynomial.graphical_signature.md"
   },
   "source": [
    "#### Graphical Signature"
   ]
  },
  {
   "cell_type": "code",
   "execution_count": 8,
   "id": "34b86d0b",
   "metadata": {
    "cq.autogen": "ChebyshevPolynomial.graphical_signature.py"
   },
   "outputs": [
    {
     "data": {
      "application/vnd.jupyter.widget-view+json": {
       "model_id": "b7d0642dcc54484fb02c4ed18630b32f",
       "version_major": 2,
       "version_minor": 0
      },
      "text/plain": [
       "HBox(children=(Output(outputs=({'output_type': 'display_data', 'data': {'text/plain': '<IPython.core.display.M…"
      ]
     },
     "metadata": {},
     "output_type": "display_data"
    }
   ],
   "source": [
    "from qualtran.drawing import show_bloqs\n",
    "show_bloqs([chebyshev_poly],\n",
    "           ['`chebyshev_poly`'])"
   ]
  },
  {
   "cell_type": "markdown",
   "id": "f7ffbd99",
   "metadata": {
    "cq.autogen": "ChebyshevPolynomial.call_graph.md"
   },
   "source": [
    "### Call Graph"
   ]
  },
  {
   "cell_type": "code",
   "execution_count": 9,
   "id": "62c9b270",
   "metadata": {
    "cq.autogen": "ChebyshevPolynomial.call_graph.py"
   },
   "outputs": [
    {
     "data": {
      "image/svg+xml": [
       "<svg xmlns=\"http://www.w3.org/2000/svg\" xmlns:xlink=\"http://www.w3.org/1999/xlink\" width=\"450pt\" height=\"131pt\" viewBox=\"0.00 0.00 450.00 131.00\">\n",
       "<g id=\"graph0\" class=\"graph\" transform=\"scale(1 1) rotate(0) translate(4 127)\">\n",
       "<title>counts</title>\n",
       "<polygon fill=\"white\" stroke=\"transparent\" points=\"-4,4 -4,-127 446,-127 446,4 -4,4\"/>\n",
       "<!-- b0 -->\n",
       "<g id=\"node1\" class=\"node\">\n",
       "<title>b0</title>\n",
       "<polygon fill=\"none\" stroke=\"black\" points=\"312,-123 79,-123 79,-87 312,-87 312,-123\"/>\n",
       "<text text-anchor=\"start\" x=\"133.5\" y=\"-106.8\" font-family=\"Times,serif\" font-size=\"14.00\">ChebyshevPolynomial</text>\n",
       "<text text-anchor=\"start\" x=\"87\" y=\"-96\" font-family=\"monospace\" font-size=\"10.00\">block_encoding=BlackBox ..., order=3</text>\n",
       "</g>\n",
       "<!-- b1 -->\n",
       "<g id=\"node2\" class=\"node\">\n",
       "<title>b1</title>\n",
       "<polygon fill=\"none\" stroke=\"black\" points=\"161,-36 0,-36 0,0 161,0 161,-36\"/>\n",
       "<text text-anchor=\"start\" x=\"52\" y=\"-19.8\" font-family=\"Times,serif\" font-size=\"14.00\">Reflection</text>\n",
       "<text text-anchor=\"start\" x=\"8\" y=\"-9\" font-family=\"monospace\" font-size=\"10.00\">bitsizes=(12,), cvs=(0,)</text>\n",
       "</g>\n",
       "<!-- b0&#45;&gt;b1 -->\n",
       "<g id=\"edge1\" class=\"edge\">\n",
       "<title>b0-&gt;b1</title>\n",
       "<path fill=\"none\" stroke=\"black\" d=\"M172.23,-86.8C154.85,-73.95 130.91,-56.26 111.84,-42.17\"/>\n",
       "<polygon fill=\"black\" stroke=\"black\" points=\"113.86,-39.3 103.74,-36.18 109.7,-44.93 113.86,-39.3\"/>\n",
       "<text text-anchor=\"middle\" x=\"149\" y=\"-57.8\" font-family=\"Times,serif\" font-size=\"14.00\">2</text>\n",
       "</g>\n",
       "<!-- b2 -->\n",
       "<g id=\"node3\" class=\"node\">\n",
       "<title>b2</title>\n",
       "<polygon fill=\"none\" stroke=\"black\" points=\"442,-36 179,-36 179,0 442,0 442,-36\"/>\n",
       "<text text-anchor=\"start\" x=\"241\" y=\"-19.8\" font-family=\"Times,serif\" font-size=\"14.00\">BlackBoxBlockEncoding</text>\n",
       "<text text-anchor=\"start\" x=\"187\" y=\"-9\" font-family=\"monospace\" font-size=\"10.00\">select=BlackBox ..., prepare=BlackBox ...</text>\n",
       "</g>\n",
       "<!-- b0&#45;&gt;b2 -->\n",
       "<g id=\"edge2\" class=\"edge\">\n",
       "<title>b0-&gt;b2</title>\n",
       "<path fill=\"none\" stroke=\"black\" d=\"M218.77,-86.8C236.15,-73.95 260.09,-56.26 279.16,-42.17\"/>\n",
       "<polygon fill=\"black\" stroke=\"black\" points=\"281.3,-44.93 287.26,-36.18 277.14,-39.3 281.3,-44.93\"/>\n",
       "<text text-anchor=\"middle\" x=\"264\" y=\"-57.8\" font-family=\"Times,serif\" font-size=\"14.00\">3</text>\n",
       "</g>\n",
       "</g>\n",
       "</svg>"
      ],
      "text/plain": [
       "<IPython.core.display.SVG object>"
      ]
     },
     "metadata": {},
     "output_type": "display_data"
    },
    {
     "data": {
      "text/markdown": [
       "#### Counts totals:\n",
       " - `BlackBoxBlockEncoding(select=BlackBoxSelect(select=SelectHubbard(x_dim=3, y_dim=3, control_val=None)), prepare=BlackBoxPrepare(prepare=PrepareHubbard(x_dim=3, y_dim=3, t=1, mu=4)))`: 3\n",
       " - `Reflection(bitsizes=(12,), cvs=(0,))`: 2"
      ],
      "text/plain": [
       "<IPython.core.display.Markdown object>"
      ]
     },
     "metadata": {},
     "output_type": "display_data"
    }
   ],
   "source": [
    "from qualtran.resource_counting.generalizers import ignore_split_join\n",
    "chebyshev_poly_g, chebyshev_poly_sigma = chebyshev_poly.call_graph(max_depth=1, generalizer=ignore_split_join)\n",
    "show_call_graph(chebyshev_poly_g)\n",
    "show_counts_sigma(chebyshev_poly_sigma)"
   ]
  }
 ],
 "metadata": {
  "kernelspec": {
   "display_name": "Python 3",
   "language": "python",
   "name": "python3"
  },
  "language_info": {
   "codemirror_mode": {
    "name": "ipython",
    "version": 3
   },
   "file_extension": ".py",
   "mimetype": "text/x-python",
   "name": "python",
   "nbconvert_exporter": "python",
   "pygments_lexer": "ipython3",
   "version": "3.11.8"
  },
  "widgets": {
   "application/vnd.jupyter.widget-state+json": {
    "state": {
     "0efa5149c811405b93c5fc56d530c386": {
      "model_module": "@jupyter-widgets/base",
      "model_module_version": "2.0.0",
      "model_name": "LayoutModel",
      "state": {
       "_model_module": "@jupyter-widgets/base",
       "_model_module_version": "2.0.0",
       "_model_name": "LayoutModel",
       "_view_count": null,
       "_view_module": "@jupyter-widgets/base",
       "_view_module_version": "2.0.0",
       "_view_name": "LayoutView",
       "align_content": null,
       "align_items": null,
       "align_self": null,
       "border_bottom": null,
       "border_left": null,
       "border_right": null,
       "border_top": null,
       "bottom": null,
       "display": null,
       "flex": null,
       "flex_flow": null,
       "grid_area": null,
       "grid_auto_columns": null,
       "grid_auto_flow": null,
       "grid_auto_rows": null,
       "grid_column": null,
       "grid_gap": null,
       "grid_row": null,
       "grid_template_areas": null,
       "grid_template_columns": null,
       "grid_template_rows": null,
       "height": null,
       "justify_content": null,
       "justify_items": null,
       "left": null,
       "margin": null,
       "max_height": null,
       "max_width": null,
       "min_height": null,
       "min_width": null,
       "object_fit": null,
       "object_position": null,
       "order": null,
       "overflow": null,
       "padding": null,
       "right": null,
       "top": null,
       "visibility": null,
       "width": null
      }
     },
     "2806fb4bc4e248b789b9fd97648b5b57": {
      "model_module": "@jupyter-widgets/base",
      "model_module_version": "2.0.0",
      "model_name": "LayoutModel",
      "state": {
       "_model_module": "@jupyter-widgets/base",
       "_model_module_version": "2.0.0",
       "_model_name": "LayoutModel",
       "_view_count": null,
       "_view_module": "@jupyter-widgets/base",
       "_view_module_version": "2.0.0",
       "_view_name": "LayoutView",
       "align_content": null,
       "align_items": null,
       "align_self": null,
       "border_bottom": null,
       "border_left": null,
       "border_right": null,
       "border_top": null,
       "bottom": null,
       "display": null,
       "flex": null,
       "flex_flow": null,
       "grid_area": null,
       "grid_auto_columns": null,
       "grid_auto_flow": null,
       "grid_auto_rows": null,
       "grid_column": null,
       "grid_gap": null,
       "grid_row": null,
       "grid_template_areas": null,
       "grid_template_columns": null,
       "grid_template_rows": null,
       "height": null,
       "justify_content": null,
       "justify_items": null,
       "left": null,
       "margin": null,
       "max_height": null,
       "max_width": null,
       "min_height": null,
       "min_width": null,
       "object_fit": null,
       "object_position": null,
       "order": null,
       "overflow": null,
       "padding": null,
       "right": null,
       "top": null,
       "visibility": null,
       "width": null
      }
     },
     "5e937b9394234224be6f08cc70053f91": {
      "model_module": "@jupyter-widgets/base",
      "model_module_version": "2.0.0",
      "model_name": "LayoutModel",
      "state": {
       "_model_module": "@jupyter-widgets/base",
       "_model_module_version": "2.0.0",
       "_model_name": "LayoutModel",
       "_view_count": null,
       "_view_module": "@jupyter-widgets/base",
       "_view_module_version": "2.0.0",
       "_view_name": "LayoutView",
       "align_content": null,
       "align_items": null,
       "align_self": null,
       "border_bottom": null,
       "border_left": null,
       "border_right": null,
       "border_top": null,
       "bottom": null,
       "display": null,
       "flex": null,
       "flex_flow": null,
       "grid_area": null,
       "grid_auto_columns": null,
       "grid_auto_flow": null,
       "grid_auto_rows": null,
       "grid_column": null,
       "grid_gap": null,
       "grid_row": null,
       "grid_template_areas": null,
       "grid_template_columns": null,
       "grid_template_rows": null,
       "height": null,
       "justify_content": null,
       "justify_items": null,
       "left": null,
       "margin": null,
       "max_height": null,
       "max_width": null,
       "min_height": null,
       "min_width": null,
       "object_fit": null,
       "object_position": null,
       "order": null,
       "overflow": null,
       "padding": null,
       "right": null,
       "top": null,
       "visibility": null,
       "width": null
      }
     },
     "6e7e7cd15b6247a9bf52fb0df065e450": {
      "model_module": "@jupyter-widgets/output",
      "model_module_version": "1.0.0",
      "model_name": "OutputModel",
      "state": {
       "_dom_classes": [],
       "_model_module": "@jupyter-widgets/output",
       "_model_module_version": "1.0.0",
       "_model_name": "OutputModel",
       "_view_count": null,
       "_view_module": "@jupyter-widgets/output",
       "_view_module_version": "1.0.0",
       "_view_name": "OutputView",
       "layout": "IPY_MODEL_b7ec997338bb4cceb5267b012e1cc2af",
       "msg_id": "",
       "outputs": [
        {
         "data": {
          "text/markdown": "`black_box_block_bloq`",
          "text/plain": "<IPython.core.display.Markdown object>"
         },
         "metadata": {},
         "output_type": "display_data"
        },
        {
         "data": {
          "image/svg+xml": "<svg xmlns=\"http://www.w3.org/2000/svg\" xmlns:xlink=\"http://www.w3.org/1999/xlink\" width=\"267pt\" height=\"152pt\" viewBox=\"0.00 0.00 267.00 152.00\">\n<g id=\"graph0\" class=\"graph\" transform=\"scale(1 1) rotate(0) translate(4 148)\">\n<title>my_graph</title>\n<polygon fill=\"white\" stroke=\"transparent\" points=\"-4,4 -4,-148 263,-148 263,4 -4,4\"/>\n<!-- selection_G6 -->\n<g id=\"node1\" class=\"node\">\n<title>selection_G6</title>\n<text text-anchor=\"middle\" x=\"32.5\" y=\"-122.3\" font-family=\"Times,serif\" font-size=\"14.00\">selection</text>\n</g>\n<!-- BlackBoxBlockEncoding -->\n<g id=\"node4\" class=\"node\">\n<title>BlackBoxBlockEncoding</title>\n<polygon fill=\"none\" stroke=\"black\" points=\"102.5,-104 102.5,-121 157.5,-121 157.5,-104 102.5,-104\"/>\n<text text-anchor=\"start\" x=\"119.5\" y=\"-110\" font-family=\"Times,serif\" font-size=\"10.00\">B[V]</text>\n<polygon fill=\"none\" stroke=\"black\" points=\"102.5,-83 102.5,-104 157.5,-104 157.5,-83 102.5,-83\"/>\n<text text-anchor=\"start\" x=\"105.5\" y=\"-89.8\" font-family=\"Times,serif\" font-size=\"14.00\">selection</text>\n<polygon fill=\"none\" stroke=\"black\" points=\"102.5,-62 102.5,-83 157.5,-83 157.5,-62 102.5,-62\"/>\n<text text-anchor=\"start\" x=\"117.5\" y=\"-68.8\" font-family=\"Times,serif\" font-size=\"14.00\">junk</text>\n<polygon fill=\"none\" stroke=\"black\" points=\"102.5,-41 102.5,-62 157.5,-62 157.5,-41 102.5,-41\"/>\n<text text-anchor=\"start\" x=\"110.5\" y=\"-47.8\" font-family=\"Times,serif\" font-size=\"14.00\">system</text>\n</g>\n<!-- selection_G6&#45;&gt;BlackBoxBlockEncoding -->\n<g id=\"edge1\" class=\"edge\">\n<title>selection_G6:e-&gt;BlackBoxBlockEncoding:w</title>\n<path fill=\"none\" stroke=\"black\" d=\"M65,-126C85.89,-126 80.72,-96.45 99.58,-94.14\"/>\n<ellipse fill=\"black\" stroke=\"black\" cx=\"101\" cy=\"-94.06\" rx=\"1\" ry=\"1\"/>\n<text text-anchor=\"middle\" x=\"83.5\" y=\"-113\" font-family=\"Times,serif\" font-size=\"10.00\">12</text>\n</g>\n<!-- junk_G5 -->\n<g id=\"node2\" class=\"node\">\n<title>junk_G5</title>\n<text text-anchor=\"middle\" x=\"32.5\" y=\"-68.3\" font-family=\"Times,serif\" font-size=\"14.00\">junk</text>\n</g>\n<!-- junk_G5&#45;&gt;BlackBoxBlockEncoding -->\n<g id=\"edge2\" class=\"edge\">\n<title>junk_G5:e-&gt;BlackBoxBlockEncoding:w</title>\n<path fill=\"none\" stroke=\"black\" d=\"M60.5,-72C78.22,-72 83.17,-72 99.9,-72\"/>\n<ellipse fill=\"black\" stroke=\"black\" cx=\"101\" cy=\"-72\" rx=\"1\" ry=\"1\"/>\n<text text-anchor=\"middle\" x=\"83.5\" y=\"-75\" font-family=\"Times,serif\" font-size=\"10.00\">12</text>\n</g>\n<!-- system_G8 -->\n<g id=\"node3\" class=\"node\">\n<title>system_G8</title>\n<text text-anchor=\"middle\" x=\"32.5\" y=\"-14.3\" font-family=\"Times,serif\" font-size=\"14.00\">system</text>\n</g>\n<!-- system_G8&#45;&gt;BlackBoxBlockEncoding -->\n<g id=\"edge3\" class=\"edge\">\n<title>system_G8:e-&gt;BlackBoxBlockEncoding:w</title>\n<path fill=\"none\" stroke=\"black\" d=\"M61.5,-18C83.99,-18 79.12,-48.97 99.91,-50.91\"/>\n<ellipse fill=\"black\" stroke=\"black\" cx=\"101\" cy=\"-50.95\" rx=\"1\" ry=\"1\"/>\n<text text-anchor=\"middle\" x=\"83.5\" y=\"-42\" font-family=\"Times,serif\" font-size=\"10.00\">18</text>\n</g>\n<!-- selection_G3 -->\n<g id=\"node5\" class=\"node\">\n<title>selection_G3</title>\n<text text-anchor=\"middle\" x=\"226.5\" y=\"-122.3\" font-family=\"Times,serif\" font-size=\"14.00\">selection</text>\n</g>\n<!-- BlackBoxBlockEncoding&#45;&gt;selection_G3 -->\n<g id=\"edge4\" class=\"edge\">\n<title>BlackBoxBlockEncoding:e-&gt;selection_G3:w</title>\n<path fill=\"none\" stroke=\"black\" d=\"M157,-94C177.89,-94 172.72,-123.55 191.58,-125.86\"/>\n<ellipse fill=\"black\" stroke=\"black\" cx=\"193\" cy=\"-125.94\" rx=\"1\" ry=\"1\"/>\n<text text-anchor=\"middle\" x=\"175.5\" y=\"-113\" font-family=\"Times,serif\" font-size=\"10.00\">12</text>\n</g>\n<!-- junk_G1 -->\n<g id=\"node6\" class=\"node\">\n<title>junk_G1</title>\n<text text-anchor=\"middle\" x=\"226.5\" y=\"-68.3\" font-family=\"Times,serif\" font-size=\"14.00\">junk</text>\n</g>\n<!-- BlackBoxBlockEncoding&#45;&gt;junk_G1 -->\n<g id=\"edge5\" class=\"edge\">\n<title>BlackBoxBlockEncoding:e-&gt;junk_G1:w</title>\n<path fill=\"none\" stroke=\"black\" d=\"M157,-72C174.72,-72 179.67,-72 196.4,-72\"/>\n<ellipse fill=\"black\" stroke=\"black\" cx=\"197.5\" cy=\"-72\" rx=\"1\" ry=\"1\"/>\n<text text-anchor=\"middle\" x=\"175.5\" y=\"-75\" font-family=\"Times,serif\" font-size=\"10.00\">12</text>\n</g>\n<!-- system_G4 -->\n<g id=\"node7\" class=\"node\">\n<title>system_G4</title>\n<text text-anchor=\"middle\" x=\"226.5\" y=\"-14.3\" font-family=\"Times,serif\" font-size=\"14.00\">system</text>\n</g>\n<!-- BlackBoxBlockEncoding&#45;&gt;system_G4 -->\n<g id=\"edge6\" class=\"edge\">\n<title>BlackBoxBlockEncoding:e-&gt;system_G4:w</title>\n<path fill=\"none\" stroke=\"black\" d=\"M157,-51C179.49,-51 174.62,-20.03 195.41,-18.09\"/>\n<ellipse fill=\"black\" stroke=\"black\" cx=\"196.5\" cy=\"-18.05\" rx=\"1\" ry=\"1\"/>\n<text text-anchor=\"middle\" x=\"175.5\" y=\"-42\" font-family=\"Times,serif\" font-size=\"10.00\">18</text>\n</g>\n</g>\n</svg>",
          "text/plain": "<IPython.core.display.SVG object>"
         },
         "metadata": {},
         "output_type": "display_data"
        }
       ],
       "tabbable": null,
       "tooltip": null
      }
     },
     "829759b302da4bfca96c7e7d17cc61cf": {
      "model_module": "@jupyter-widgets/controls",
      "model_module_version": "2.0.0",
      "model_name": "HBoxModel",
      "state": {
       "_dom_classes": [],
       "_model_module": "@jupyter-widgets/controls",
       "_model_module_version": "2.0.0",
       "_model_name": "HBoxModel",
       "_view_count": null,
       "_view_module": "@jupyter-widgets/controls",
       "_view_module_version": "2.0.0",
       "_view_name": "HBoxView",
       "box_style": "",
       "children": [
        "IPY_MODEL_6e7e7cd15b6247a9bf52fb0df065e450"
       ],
       "layout": "IPY_MODEL_5e937b9394234224be6f08cc70053f91",
       "tabbable": null,
       "tooltip": null
      }
     },
     "b7d0642dcc54484fb02c4ed18630b32f": {
      "model_module": "@jupyter-widgets/controls",
      "model_module_version": "2.0.0",
      "model_name": "HBoxModel",
      "state": {
       "_dom_classes": [],
       "_model_module": "@jupyter-widgets/controls",
       "_model_module_version": "2.0.0",
       "_model_name": "HBoxModel",
       "_view_count": null,
       "_view_module": "@jupyter-widgets/controls",
       "_view_module_version": "2.0.0",
       "_view_name": "HBoxView",
       "box_style": "",
       "children": [
        "IPY_MODEL_c859e9364bc341cb98997a2f10517535"
       ],
       "layout": "IPY_MODEL_0efa5149c811405b93c5fc56d530c386",
       "tabbable": null,
       "tooltip": null
      }
     },
     "b7ec997338bb4cceb5267b012e1cc2af": {
      "model_module": "@jupyter-widgets/base",
      "model_module_version": "2.0.0",
      "model_name": "LayoutModel",
      "state": {
       "_model_module": "@jupyter-widgets/base",
       "_model_module_version": "2.0.0",
       "_model_name": "LayoutModel",
       "_view_count": null,
       "_view_module": "@jupyter-widgets/base",
       "_view_module_version": "2.0.0",
       "_view_name": "LayoutView",
       "align_content": null,
       "align_items": null,
       "align_self": null,
       "border_bottom": null,
       "border_left": null,
       "border_right": null,
       "border_top": null,
       "bottom": null,
       "display": null,
       "flex": null,
       "flex_flow": null,
       "grid_area": null,
       "grid_auto_columns": null,
       "grid_auto_flow": null,
       "grid_auto_rows": null,
       "grid_column": null,
       "grid_gap": null,
       "grid_row": null,
       "grid_template_areas": null,
       "grid_template_columns": null,
       "grid_template_rows": null,
       "height": null,
       "justify_content": null,
       "justify_items": null,
       "left": null,
       "margin": null,
       "max_height": null,
       "max_width": null,
       "min_height": null,
       "min_width": null,
       "object_fit": null,
       "object_position": null,
       "order": null,
       "overflow": null,
       "padding": null,
       "right": null,
       "top": null,
       "visibility": null,
       "width": null
      }
     },
     "c859e9364bc341cb98997a2f10517535": {
      "model_module": "@jupyter-widgets/output",
      "model_module_version": "1.0.0",
      "model_name": "OutputModel",
      "state": {
       "_dom_classes": [],
       "_model_module": "@jupyter-widgets/output",
       "_model_module_version": "1.0.0",
       "_model_name": "OutputModel",
       "_view_count": null,
       "_view_module": "@jupyter-widgets/output",
       "_view_module_version": "1.0.0",
       "_view_name": "OutputView",
       "layout": "IPY_MODEL_2806fb4bc4e248b789b9fd97648b5b57",
       "msg_id": "",
       "outputs": [
        {
         "data": {
          "text/markdown": "`chebyshev_poly`",
          "text/plain": "<IPython.core.display.Markdown object>"
         },
         "metadata": {},
         "output_type": "display_data"
        },
        {
         "data": {
          "image/svg+xml": "<svg xmlns=\"http://www.w3.org/2000/svg\" xmlns:xlink=\"http://www.w3.org/1999/xlink\" width=\"267pt\" height=\"152pt\" viewBox=\"0.00 0.00 267.00 152.00\">\n<g id=\"graph0\" class=\"graph\" transform=\"scale(1 1) rotate(0) translate(4 148)\">\n<title>my_graph</title>\n<polygon fill=\"white\" stroke=\"transparent\" points=\"-4,4 -4,-148 263,-148 263,4 -4,4\"/>\n<!-- selection_G6 -->\n<g id=\"node1\" class=\"node\">\n<title>selection_G6</title>\n<text text-anchor=\"middle\" x=\"32.5\" y=\"-122.3\" font-family=\"Times,serif\" font-size=\"14.00\">selection</text>\n</g>\n<!-- ChebyshevPolynomial -->\n<g id=\"node4\" class=\"node\">\n<title>ChebyshevPolynomial</title>\n<polygon fill=\"none\" stroke=\"black\" points=\"102.5,-104 102.5,-121 157.5,-121 157.5,-104 102.5,-104\"/>\n<text text-anchor=\"start\" x=\"108.5\" y=\"-110\" font-family=\"Times,serif\" font-size=\"10.00\">T_3[B[V]]</text>\n<polygon fill=\"none\" stroke=\"black\" points=\"102.5,-83 102.5,-104 157.5,-104 157.5,-83 102.5,-83\"/>\n<text text-anchor=\"start\" x=\"105.5\" y=\"-89.8\" font-family=\"Times,serif\" font-size=\"14.00\">selection</text>\n<polygon fill=\"none\" stroke=\"black\" points=\"102.5,-62 102.5,-83 157.5,-83 157.5,-62 102.5,-62\"/>\n<text text-anchor=\"start\" x=\"117.5\" y=\"-68.8\" font-family=\"Times,serif\" font-size=\"14.00\">junk</text>\n<polygon fill=\"none\" stroke=\"black\" points=\"102.5,-41 102.5,-62 157.5,-62 157.5,-41 102.5,-41\"/>\n<text text-anchor=\"start\" x=\"110.5\" y=\"-47.8\" font-family=\"Times,serif\" font-size=\"14.00\">system</text>\n</g>\n<!-- selection_G6&#45;&gt;ChebyshevPolynomial -->\n<g id=\"edge1\" class=\"edge\">\n<title>selection_G6:e-&gt;ChebyshevPolynomial:w</title>\n<path fill=\"none\" stroke=\"black\" d=\"M65,-126C85.89,-126 80.72,-96.45 99.58,-94.14\"/>\n<ellipse fill=\"black\" stroke=\"black\" cx=\"101\" cy=\"-94.06\" rx=\"1\" ry=\"1\"/>\n<text text-anchor=\"middle\" x=\"83.5\" y=\"-113\" font-family=\"Times,serif\" font-size=\"10.00\">12</text>\n</g>\n<!-- junk_G5 -->\n<g id=\"node2\" class=\"node\">\n<title>junk_G5</title>\n<text text-anchor=\"middle\" x=\"32.5\" y=\"-68.3\" font-family=\"Times,serif\" font-size=\"14.00\">junk</text>\n</g>\n<!-- junk_G5&#45;&gt;ChebyshevPolynomial -->\n<g id=\"edge2\" class=\"edge\">\n<title>junk_G5:e-&gt;ChebyshevPolynomial:w</title>\n<path fill=\"none\" stroke=\"black\" d=\"M60.5,-72C78.22,-72 83.17,-72 99.9,-72\"/>\n<ellipse fill=\"black\" stroke=\"black\" cx=\"101\" cy=\"-72\" rx=\"1\" ry=\"1\"/>\n<text text-anchor=\"middle\" x=\"83.5\" y=\"-75\" font-family=\"Times,serif\" font-size=\"10.00\">12</text>\n</g>\n<!-- system_G8 -->\n<g id=\"node3\" class=\"node\">\n<title>system_G8</title>\n<text text-anchor=\"middle\" x=\"32.5\" y=\"-14.3\" font-family=\"Times,serif\" font-size=\"14.00\">system</text>\n</g>\n<!-- system_G8&#45;&gt;ChebyshevPolynomial -->\n<g id=\"edge3\" class=\"edge\">\n<title>system_G8:e-&gt;ChebyshevPolynomial:w</title>\n<path fill=\"none\" stroke=\"black\" d=\"M61.5,-18C83.99,-18 79.12,-48.97 99.91,-50.91\"/>\n<ellipse fill=\"black\" stroke=\"black\" cx=\"101\" cy=\"-50.95\" rx=\"1\" ry=\"1\"/>\n<text text-anchor=\"middle\" x=\"83.5\" y=\"-42\" font-family=\"Times,serif\" font-size=\"10.00\">18</text>\n</g>\n<!-- selection_G2 -->\n<g id=\"node5\" class=\"node\">\n<title>selection_G2</title>\n<text text-anchor=\"middle\" x=\"226.5\" y=\"-122.3\" font-family=\"Times,serif\" font-size=\"14.00\">selection</text>\n</g>\n<!-- ChebyshevPolynomial&#45;&gt;selection_G2 -->\n<g id=\"edge4\" class=\"edge\">\n<title>ChebyshevPolynomial:e-&gt;selection_G2:w</title>\n<path fill=\"none\" stroke=\"black\" d=\"M157,-94C177.89,-94 172.72,-123.55 191.58,-125.86\"/>\n<ellipse fill=\"black\" stroke=\"black\" cx=\"193\" cy=\"-125.94\" rx=\"1\" ry=\"1\"/>\n<text text-anchor=\"middle\" x=\"175.5\" y=\"-113\" font-family=\"Times,serif\" font-size=\"10.00\">12</text>\n</g>\n<!-- junk_G1 -->\n<g id=\"node6\" class=\"node\">\n<title>junk_G1</title>\n<text text-anchor=\"middle\" x=\"226.5\" y=\"-68.3\" font-family=\"Times,serif\" font-size=\"14.00\">junk</text>\n</g>\n<!-- ChebyshevPolynomial&#45;&gt;junk_G1 -->\n<g id=\"edge5\" class=\"edge\">\n<title>ChebyshevPolynomial:e-&gt;junk_G1:w</title>\n<path fill=\"none\" stroke=\"black\" d=\"M157,-72C174.72,-72 179.67,-72 196.4,-72\"/>\n<ellipse fill=\"black\" stroke=\"black\" cx=\"197.5\" cy=\"-72\" rx=\"1\" ry=\"1\"/>\n<text text-anchor=\"middle\" x=\"175.5\" y=\"-75\" font-family=\"Times,serif\" font-size=\"10.00\">12</text>\n</g>\n<!-- system_G3 -->\n<g id=\"node7\" class=\"node\">\n<title>system_G3</title>\n<text text-anchor=\"middle\" x=\"226.5\" y=\"-14.3\" font-family=\"Times,serif\" font-size=\"14.00\">system</text>\n</g>\n<!-- ChebyshevPolynomial&#45;&gt;system_G3 -->\n<g id=\"edge6\" class=\"edge\">\n<title>ChebyshevPolynomial:e-&gt;system_G3:w</title>\n<path fill=\"none\" stroke=\"black\" d=\"M157,-51C179.49,-51 174.62,-20.03 195.41,-18.09\"/>\n<ellipse fill=\"black\" stroke=\"black\" cx=\"196.5\" cy=\"-18.05\" rx=\"1\" ry=\"1\"/>\n<text text-anchor=\"middle\" x=\"175.5\" y=\"-42\" font-family=\"Times,serif\" font-size=\"10.00\">18</text>\n</g>\n</g>\n</svg>",
          "text/plain": "<IPython.core.display.SVG object>"
         },
         "metadata": {},
         "output_type": "display_data"
        }
       ],
       "tabbable": null,
       "tooltip": null
      }
     }
    },
    "version_major": 2,
    "version_minor": 0
   }
  }
 },
 "nbformat": 4,
 "nbformat_minor": 5
}
