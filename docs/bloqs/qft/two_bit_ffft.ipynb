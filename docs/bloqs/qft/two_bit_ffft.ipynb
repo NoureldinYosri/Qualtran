{
 "cells": [
  {
   "cell_type": "markdown",
   "id": "bdada8fc",
   "metadata": {
    "cq.autogen": "title_cell"
   },
   "source": [
    "# Two Bit FFFT Gate"
   ]
  },
  {
   "cell_type": "code",
   "execution_count": 1,
   "id": "bb23a892",
   "metadata": {
    "cq.autogen": "top_imports"
   },
   "outputs": [],
   "source": [
    "from qualtran import Bloq, CompositeBloq, BloqBuilder, Signature, Register\n",
    "from qualtran import QBit, QInt, QUInt, QAny\n",
    "from qualtran.drawing import show_bloq, show_call_graph, show_counts_sigma\n",
    "from typing import *\n",
    "import numpy as np\n",
    "import sympy\n",
    "import cirq"
   ]
  },
  {
   "cell_type": "markdown",
   "id": "a8f385c4",
   "metadata": {
    "cq.autogen": "TwoBitFFFT.bloq_doc.md"
   },
   "source": [
    "## `TwoBitFFFT`\n",
    "Two-qubit fermionic Fourier transform gate.\n",
    "\n",
    "#### Parameters\n",
    " - `k`: An integer.\n",
    " - `n`: The number of qubits the FFFT acts on.\n",
    " - `eps`: The rotation precision.\n",
    " - `is_adjoint`: If True, this bloq is $F^\\dagger$ instead. \n",
    "\n",
    "#### References\n",
    " - [Improved Fault-Tolerant Quantum Simulation of Condensed-Phase Correlated Electrons     via Trotterization](https://arxiv.org/abs/1902.10673). Eq 32 and Figure 8.\n"
   ]
  },
  {
   "cell_type": "code",
   "execution_count": 2,
   "id": "862ad002",
   "metadata": {
    "cq.autogen": "TwoBitFFFT.bloq_doc.py"
   },
   "outputs": [],
   "source": [
    "from qualtran.bloqs.qft.two_bit_ffft import TwoBitFFFT"
   ]
  },
  {
   "cell_type": "markdown",
   "id": "d38e3e4f",
   "metadata": {
    "cq.autogen": "TwoBitFFFT.example_instances.md"
   },
   "source": [
    "### Example Instances"
   ]
  },
  {
   "cell_type": "code",
   "execution_count": 3,
   "id": "d82d1373",
   "metadata": {
    "cq.autogen": "TwoBitFFFT.two_bit_ffft"
   },
   "outputs": [],
   "source": [
    "two_bit_ffft = TwoBitFFFT(2, 3)"
   ]
  },
  {
   "cell_type": "markdown",
   "id": "d8a93b71",
   "metadata": {
    "cq.autogen": "TwoBitFFFT.graphical_signature.md"
   },
   "source": [
    "#### Graphical Signature"
   ]
  },
  {
   "cell_type": "code",
   "execution_count": 4,
   "id": "44f9a63a",
   "metadata": {
    "cq.autogen": "TwoBitFFFT.graphical_signature.py"
   },
   "outputs": [
    {
     "data": {
      "application/vnd.jupyter.widget-view+json": {
       "model_id": "8d08841000e44fa889edb6ef534b43b3",
       "version_major": 2,
       "version_minor": 0
      },
      "text/plain": [
       "HBox(children=(Output(outputs=({'output_type': 'display_data', 'data': {'text/plain': '<IPython.core.display.M…"
      ]
     },
     "metadata": {},
     "output_type": "display_data"
    }
   ],
   "source": [
    "from qualtran.drawing import show_bloqs\n",
    "show_bloqs([two_bit_ffft],\n",
    "           ['`two_bit_ffft`'])"
   ]
  },
  {
   "cell_type": "markdown",
   "id": "873411f0",
   "metadata": {
    "cq.autogen": "TwoBitFFFT.call_graph.md"
   },
   "source": [
    "### Call Graph"
   ]
  },
  {
   "cell_type": "code",
   "execution_count": 5,
   "id": "1cf91797",
   "metadata": {
    "cq.autogen": "TwoBitFFFT.call_graph.py"
   },
   "outputs": [
    {
     "data": {
      "image/svg+xml": [
       "<svg xmlns=\"http://www.w3.org/2000/svg\" xmlns:xlink=\"http://www.w3.org/1999/xlink\" width=\"626pt\" height=\"131pt\" viewBox=\"0.00 0.00 626.00 131.00\">\n",
       "<g id=\"graph0\" class=\"graph\" transform=\"scale(1 1) rotate(0) translate(4 127)\">\n",
       "<title>counts</title>\n",
       "<polygon fill=\"white\" stroke=\"transparent\" points=\"-4,4 -4,-127 622,-127 622,4 -4,4\"/>\n",
       "<!-- b0 -->\n",
       "<g id=\"node1\" class=\"node\">\n",
       "<title>b0</title>\n",
       "<polygon fill=\"none\" stroke=\"black\" points=\"360,-123 121,-123 121,-87 360,-87 360,-123\"/>\n",
       "<text text-anchor=\"start\" x=\"204\" y=\"-106.8\" font-family=\"Times,serif\" font-size=\"14.00\">TwoBitFFFT</text>\n",
       "<text text-anchor=\"start\" x=\"129\" y=\"-96\" font-family=\"monospace\" font-size=\"10.00\">k=2, n=3, eps=1e-10, is_adjoint=False</text>\n",
       "</g>\n",
       "<!-- b1 -->\n",
       "<g id=\"node2\" class=\"node\">\n",
       "<title>b1</title>\n",
       "<polygon fill=\"none\" stroke=\"black\" points=\"113,-36 0,-36 0,0 113,0 113,-36\"/>\n",
       "<text text-anchor=\"start\" x=\"52.5\" y=\"-19.8\" font-family=\"Times,serif\" font-size=\"14.00\">S</text>\n",
       "<text text-anchor=\"start\" x=\"8\" y=\"-9\" font-family=\"monospace\" font-size=\"10.00\">is_adjoint=False</text>\n",
       "</g>\n",
       "<!-- b0&#45;&gt;b1 -->\n",
       "<g id=\"edge1\" class=\"edge\">\n",
       "<title>b0-&gt;b1</title>\n",
       "<path fill=\"none\" stroke=\"black\" d=\"M203.26,-86.8C174.24,-73.39 133.78,-54.7 102.69,-40.34\"/>\n",
       "<polygon fill=\"black\" stroke=\"black\" points=\"103.91,-37.05 93.37,-36.03 100.98,-43.4 103.91,-37.05\"/>\n",
       "<text text-anchor=\"middle\" x=\"164\" y=\"-57.8\" font-family=\"Times,serif\" font-size=\"14.00\">3</text>\n",
       "</g>\n",
       "<!-- b2 -->\n",
       "<g id=\"node3\" class=\"node\">\n",
       "<title>b2</title>\n",
       "<polygon fill=\"none\" stroke=\"black\" points=\"185.5,-36 131.5,-36 131.5,0 185.5,0 185.5,-36\"/>\n",
       "<text text-anchor=\"start\" x=\"140\" y=\"-14.3\" font-family=\"Times,serif\" font-size=\"14.00\">CNOT</text>\n",
       "</g>\n",
       "<!-- b0&#45;&gt;b2 -->\n",
       "<g id=\"edge2\" class=\"edge\">\n",
       "<title>b0-&gt;b2</title>\n",
       "<path fill=\"none\" stroke=\"black\" d=\"M223.91,-86.8C211.9,-74.36 195.51,-57.36 182.14,-43.5\"/>\n",
       "<polygon fill=\"black\" stroke=\"black\" points=\"184.53,-40.94 175.07,-36.18 179.49,-45.8 184.53,-40.94\"/>\n",
       "<text text-anchor=\"middle\" x=\"208\" y=\"-57.8\" font-family=\"Times,serif\" font-size=\"14.00\">3</text>\n",
       "</g>\n",
       "<!-- b3 -->\n",
       "<g id=\"node4\" class=\"node\">\n",
       "<title>b3</title>\n",
       "<polygon fill=\"none\" stroke=\"black\" points=\"277.5,-36 203.5,-36 203.5,0 277.5,0 277.5,-36\"/>\n",
       "<text text-anchor=\"start\" x=\"211.5\" y=\"-14.3\" font-family=\"Times,serif\" font-size=\"14.00\">Hadamard</text>\n",
       "</g>\n",
       "<!-- b0&#45;&gt;b3 -->\n",
       "<g id=\"edge3\" class=\"edge\">\n",
       "<title>b0-&gt;b3</title>\n",
       "<path fill=\"none\" stroke=\"black\" d=\"M240.5,-86.8C240.5,-75.16 240.5,-59.55 240.5,-46.24\"/>\n",
       "<polygon fill=\"black\" stroke=\"black\" points=\"244,-46.18 240.5,-36.18 237,-46.18 244,-46.18\"/>\n",
       "<text text-anchor=\"middle\" x=\"244\" y=\"-57.8\" font-family=\"Times,serif\" font-size=\"14.00\">6</text>\n",
       "</g>\n",
       "<!-- b4 -->\n",
       "<g id=\"node5\" class=\"node\">\n",
       "<title>b4</title>\n",
       "<polygon fill=\"none\" stroke=\"black\" points=\"487,-36 296,-36 296,0 487,0 487,-36\"/>\n",
       "<text text-anchor=\"start\" x=\"383.5\" y=\"-19.8\" font-family=\"Times,serif\" font-size=\"14.00\">Rz</text>\n",
       "<text text-anchor=\"start\" x=\"304\" y=\"-9\" font-family=\"monospace\" font-size=\"10.00\">angle=4.188790 ..., eps=1e-10</text>\n",
       "</g>\n",
       "<!-- b0&#45;&gt;b4 -->\n",
       "<g id=\"edge4\" class=\"edge\">\n",
       "<title>b0-&gt;b4</title>\n",
       "<path fill=\"none\" stroke=\"black\" d=\"M271.06,-86.8C294.47,-73.62 326.94,-55.34 352.27,-41.08\"/>\n",
       "<polygon fill=\"black\" stroke=\"black\" points=\"354.25,-43.99 361.25,-36.03 350.82,-37.89 354.25,-43.99\"/>\n",
       "<text text-anchor=\"middle\" x=\"329\" y=\"-57.8\" font-family=\"Times,serif\" font-size=\"14.00\">1</text>\n",
       "</g>\n",
       "<!-- b5 -->\n",
       "<g id=\"node6\" class=\"node\">\n",
       "<title>b5</title>\n",
       "<polygon fill=\"none\" stroke=\"black\" points=\"618,-36 505,-36 505,0 618,0 618,-36\"/>\n",
       "<text text-anchor=\"start\" x=\"557\" y=\"-19.8\" font-family=\"Times,serif\" font-size=\"14.00\">T</text>\n",
       "<text text-anchor=\"start\" x=\"513\" y=\"-9\" font-family=\"monospace\" font-size=\"10.00\">is_adjoint=False</text>\n",
       "</g>\n",
       "<!-- b0&#45;&gt;b5 -->\n",
       "<g id=\"edge5\" class=\"edge\">\n",
       "<title>b0-&gt;b5</title>\n",
       "<path fill=\"none\" stroke=\"black\" d=\"M305.07,-86.9C360.25,-72.29 439.33,-51.35 495.05,-36.6\"/>\n",
       "<polygon fill=\"black\" stroke=\"black\" points=\"496.05,-39.95 504.82,-34.01 494.26,-33.19 496.05,-39.95\"/>\n",
       "<text text-anchor=\"middle\" x=\"424\" y=\"-57.8\" font-family=\"Times,serif\" font-size=\"14.00\">2</text>\n",
       "</g>\n",
       "</g>\n",
       "</svg>"
      ],
      "text/plain": [
       "<IPython.core.display.SVG object>"
      ]
     },
     "metadata": {},
     "output_type": "display_data"
    },
    {
     "data": {
      "text/markdown": [
       "#### Counts totals:\n",
       " - `CNOT()`: 3\n",
       " - `Hadamard()`: 6\n",
       " - `Rz(1.3333333333333333π)`: 1\n",
       " - `SGate(is_adjoint=False)`: 3\n",
       " - `TGate()`: 2"
      ],
      "text/plain": [
       "<IPython.core.display.Markdown object>"
      ]
     },
     "metadata": {},
     "output_type": "display_data"
    }
   ],
   "source": [
    "from qualtran.resource_counting.generalizers import ignore_split_join\n",
    "two_bit_ffft_g, two_bit_ffft_sigma = two_bit_ffft.call_graph(max_depth=1, generalizer=ignore_split_join)\n",
    "show_call_graph(two_bit_ffft_g)\n",
    "show_counts_sigma(two_bit_ffft_sigma)"
   ]
  }
 ],
 "metadata": {
  "kernelspec": {
   "display_name": "Python 3",
   "language": "python",
   "name": "python3"
  },
  "language_info": {
   "codemirror_mode": {
    "name": "ipython",
    "version": 3
   },
   "file_extension": ".py",
   "mimetype": "text/x-python",
   "name": "python",
   "nbconvert_exporter": "python",
   "pygments_lexer": "ipython3",
   "version": "3.11.8"
  },
  "widgets": {
   "application/vnd.jupyter.widget-state+json": {
    "state": {
     "8d08841000e44fa889edb6ef534b43b3": {
      "model_module": "@jupyter-widgets/controls",
      "model_module_version": "2.0.0",
      "model_name": "HBoxModel",
      "state": {
       "_dom_classes": [],
       "_model_module": "@jupyter-widgets/controls",
       "_model_module_version": "2.0.0",
       "_model_name": "HBoxModel",
       "_view_count": null,
       "_view_module": "@jupyter-widgets/controls",
       "_view_module_version": "2.0.0",
       "_view_name": "HBoxView",
       "box_style": "",
       "children": [
        "IPY_MODEL_cd63cdfcad8d453f9d6e345661a8ec95"
       ],
       "layout": "IPY_MODEL_ada0249dd7fd4ee68a505d96844bcb0e",
       "tabbable": null,
       "tooltip": null
      }
     },
     "ada0249dd7fd4ee68a505d96844bcb0e": {
      "model_module": "@jupyter-widgets/base",
      "model_module_version": "2.0.0",
      "model_name": "LayoutModel",
      "state": {
       "_model_module": "@jupyter-widgets/base",
       "_model_module_version": "2.0.0",
       "_model_name": "LayoutModel",
       "_view_count": null,
       "_view_module": "@jupyter-widgets/base",
       "_view_module_version": "2.0.0",
       "_view_name": "LayoutView",
       "align_content": null,
       "align_items": null,
       "align_self": null,
       "border_bottom": null,
       "border_left": null,
       "border_right": null,
       "border_top": null,
       "bottom": null,
       "display": null,
       "flex": null,
       "flex_flow": null,
       "grid_area": null,
       "grid_auto_columns": null,
       "grid_auto_flow": null,
       "grid_auto_rows": null,
       "grid_column": null,
       "grid_gap": null,
       "grid_row": null,
       "grid_template_areas": null,
       "grid_template_columns": null,
       "grid_template_rows": null,
       "height": null,
       "justify_content": null,
       "justify_items": null,
       "left": null,
       "margin": null,
       "max_height": null,
       "max_width": null,
       "min_height": null,
       "min_width": null,
       "object_fit": null,
       "object_position": null,
       "order": null,
       "overflow": null,
       "padding": null,
       "right": null,
       "top": null,
       "visibility": null,
       "width": null
      }
     },
     "bf84554f179f45f8acc11c3229cd3a21": {
      "model_module": "@jupyter-widgets/base",
      "model_module_version": "2.0.0",
      "model_name": "LayoutModel",
      "state": {
       "_model_module": "@jupyter-widgets/base",
       "_model_module_version": "2.0.0",
       "_model_name": "LayoutModel",
       "_view_count": null,
       "_view_module": "@jupyter-widgets/base",
       "_view_module_version": "2.0.0",
       "_view_name": "LayoutView",
       "align_content": null,
       "align_items": null,
       "align_self": null,
       "border_bottom": null,
       "border_left": null,
       "border_right": null,
       "border_top": null,
       "bottom": null,
       "display": null,
       "flex": null,
       "flex_flow": null,
       "grid_area": null,
       "grid_auto_columns": null,
       "grid_auto_flow": null,
       "grid_auto_rows": null,
       "grid_column": null,
       "grid_gap": null,
       "grid_row": null,
       "grid_template_areas": null,
       "grid_template_columns": null,
       "grid_template_rows": null,
       "height": null,
       "justify_content": null,
       "justify_items": null,
       "left": null,
       "margin": null,
       "max_height": null,
       "max_width": null,
       "min_height": null,
       "min_width": null,
       "object_fit": null,
       "object_position": null,
       "order": null,
       "overflow": null,
       "padding": null,
       "right": null,
       "top": null,
       "visibility": null,
       "width": null
      }
     },
     "cd63cdfcad8d453f9d6e345661a8ec95": {
      "model_module": "@jupyter-widgets/output",
      "model_module_version": "1.0.0",
      "model_name": "OutputModel",
      "state": {
       "_dom_classes": [],
       "_model_module": "@jupyter-widgets/output",
       "_model_module_version": "1.0.0",
       "_model_name": "OutputModel",
       "_view_count": null,
       "_view_module": "@jupyter-widgets/output",
       "_view_module_version": "1.0.0",
       "_view_name": "OutputView",
       "layout": "IPY_MODEL_bf84554f179f45f8acc11c3229cd3a21",
       "msg_id": "",
       "outputs": [
        {
         "data": {
          "text/markdown": "`two_bit_ffft`",
          "text/plain": "<IPython.core.display.Markdown object>"
         },
         "metadata": {},
         "output_type": "display_data"
        },
        {
         "data": {
          "image/svg+xml": "<svg xmlns=\"http://www.w3.org/2000/svg\" xmlns:xlink=\"http://www.w3.org/1999/xlink\" width=\"223pt\" height=\"98pt\" viewBox=\"0.00 0.00 223.00 98.00\">\n<g id=\"graph0\" class=\"graph\" transform=\"scale(1 1) rotate(0) translate(4 94)\">\n<title>my_graph</title>\n<polygon fill=\"white\" stroke=\"transparent\" points=\"-4,4 -4,-94 219,-94 219,4 -4,4\"/>\n<!-- x_G1 -->\n<g id=\"node1\" class=\"node\">\n<title>x_G1</title>\n<text text-anchor=\"middle\" x=\"27\" y=\"-68.3\" font-family=\"Times,serif\" font-size=\"14.00\">x</text>\n</g>\n<!-- TwoBitFFFT -->\n<g id=\"node3\" class=\"node\">\n<title>TwoBitFFFT</title>\n<polygon fill=\"none\" stroke=\"black\" points=\"91.5,-66 91.5,-83 124.5,-83 124.5,-66 91.5,-66\"/>\n<text text-anchor=\"start\" x=\"94.5\" y=\"-72\" font-family=\"Times,serif\" font-size=\"10.00\">F(k, n)</text>\n<polygon fill=\"none\" stroke=\"black\" points=\"91.5,-45 91.5,-66 124.5,-66 124.5,-45 91.5,-45\"/>\n<text text-anchor=\"start\" x=\"104.5\" y=\"-51.8\" font-family=\"Times,serif\" font-size=\"14.00\">x</text>\n<polygon fill=\"none\" stroke=\"black\" points=\"91.5,-24 91.5,-45 124.5,-45 124.5,-24 91.5,-24\"/>\n<text text-anchor=\"start\" x=\"104.5\" y=\"-30.8\" font-family=\"Times,serif\" font-size=\"14.00\">y</text>\n</g>\n<!-- x_G1&#45;&gt;TwoBitFFFT -->\n<g id=\"edge1\" class=\"edge\">\n<title>x_G1:e-&gt;TwoBitFFFT:w</title>\n<path fill=\"none\" stroke=\"black\" d=\"M54,-72C71.22,-72 72.97,-57.23 88.98,-56.07\"/>\n<ellipse fill=\"black\" stroke=\"black\" cx=\"90\" cy=\"-56.04\" rx=\"1\" ry=\"1\"/>\n<text text-anchor=\"middle\" x=\"72.5\" y=\"-67\" font-family=\"Times,serif\" font-size=\"10.00\">1</text>\n</g>\n<!-- y_G3 -->\n<g id=\"node2\" class=\"node\">\n<title>y_G3</title>\n<text text-anchor=\"middle\" x=\"27\" y=\"-14.3\" font-family=\"Times,serif\" font-size=\"14.00\">y</text>\n</g>\n<!-- y_G3&#45;&gt;TwoBitFFFT -->\n<g id=\"edge2\" class=\"edge\">\n<title>y_G3:e-&gt;TwoBitFFFT:w</title>\n<path fill=\"none\" stroke=\"black\" d=\"M54,-18C71.22,-18 72.97,-32.77 88.98,-33.93\"/>\n<ellipse fill=\"black\" stroke=\"black\" cx=\"90\" cy=\"-33.96\" rx=\"1\" ry=\"1\"/>\n<text text-anchor=\"middle\" x=\"72.5\" y=\"-29\" font-family=\"Times,serif\" font-size=\"10.00\">1</text>\n</g>\n<!-- x_G0 -->\n<g id=\"node4\" class=\"node\">\n<title>x_G0</title>\n<text text-anchor=\"middle\" x=\"188\" y=\"-68.3\" font-family=\"Times,serif\" font-size=\"14.00\">x</text>\n</g>\n<!-- TwoBitFFFT&#45;&gt;x_G0 -->\n<g id=\"edge3\" class=\"edge\">\n<title>TwoBitFFFT:e-&gt;x_G0:w</title>\n<path fill=\"none\" stroke=\"black\" d=\"M124,-56C141.22,-56 142.97,-70.77 158.98,-71.93\"/>\n<ellipse fill=\"black\" stroke=\"black\" cx=\"160\" cy=\"-71.96\" rx=\"1\" ry=\"1\"/>\n<text text-anchor=\"middle\" x=\"142.5\" y=\"-67\" font-family=\"Times,serif\" font-size=\"10.00\">1</text>\n</g>\n<!-- y_G4 -->\n<g id=\"node5\" class=\"node\">\n<title>y_G4</title>\n<text text-anchor=\"middle\" x=\"188\" y=\"-14.3\" font-family=\"Times,serif\" font-size=\"14.00\">y</text>\n</g>\n<!-- TwoBitFFFT&#45;&gt;y_G4 -->\n<g id=\"edge4\" class=\"edge\">\n<title>TwoBitFFFT:e-&gt;y_G4:w</title>\n<path fill=\"none\" stroke=\"black\" d=\"M124,-34C141.22,-34 142.97,-19.23 158.98,-18.07\"/>\n<ellipse fill=\"black\" stroke=\"black\" cx=\"160\" cy=\"-18.04\" rx=\"1\" ry=\"1\"/>\n<text text-anchor=\"middle\" x=\"142.5\" y=\"-29\" font-family=\"Times,serif\" font-size=\"10.00\">1</text>\n</g>\n</g>\n</svg>",
          "text/plain": "<IPython.core.display.SVG object>"
         },
         "metadata": {},
         "output_type": "display_data"
        }
       ],
       "tabbable": null,
       "tooltip": null
      }
     }
    },
    "version_major": 2,
    "version_minor": 0
   }
  }
 },
 "nbformat": 4,
 "nbformat_minor": 5
}
