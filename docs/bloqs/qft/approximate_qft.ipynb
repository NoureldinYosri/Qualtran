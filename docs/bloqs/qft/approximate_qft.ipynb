{
 "cells": [
  {
   "cell_type": "markdown",
   "id": "a51ebafc",
   "metadata": {
    "cq.autogen": "title_cell"
   },
   "source": [
    "# Approximate QFT"
   ]
  },
  {
   "cell_type": "code",
   "execution_count": 1,
   "id": "01b76cf0",
   "metadata": {
    "cq.autogen": "top_imports"
   },
   "outputs": [],
   "source": [
    "from qualtran import Bloq, CompositeBloq, BloqBuilder, Signature, Register\n",
    "from qualtran import QBit, QInt, QUInt, QAny\n",
    "from qualtran.drawing import show_bloq, show_call_graph, show_counts_sigma\n",
    "from typing import *\n",
    "import numpy as np\n",
    "import sympy\n",
    "import cirq"
   ]
  },
  {
   "cell_type": "markdown",
   "id": "7aba7270",
   "metadata": {
    "cq.autogen": "ApproximateQFT.bloq_doc.md"
   },
   "source": [
    "## `ApproximateQFT`\n",
    "An approximate QFT in which phase shifts smaller than a certain threshold are deleted.\n",
    "\n",
    "Given a b-bit phase gradient state $|\\phi\\rangle$ prepared as\n",
    "\n",
    "$$\n",
    "    |\\phi\\rangle = \\frac{1}{\\sqrt{2^{b}}} \\sum_{k=0}^{2^{b} - 1} \\omega_{b}^{-k} |k\\rangle\n",
    "$$\n",
    "\n",
    "Phase gradient rotations can be synthesized via additions into the phase gradient register.\n",
    "This leads to significant reductions in T/Toffoli complexity and requires 0 arbitrary\n",
    "rotations (given a one-time cost to prepare the gradient register). See the linked reference\n",
    "for more details.\n",
    "\n",
    "The QFT uses exponentially small z-power gates. In practice, it is often sufficient to perform\n",
    "an approximate qft, where z-power gates smaller than a certain threshold are dropped. When using\n",
    "the \"add into phase-gradient trick\", this amounts to doing smaller additions with a smaller\n",
    "phase gradient register.\n",
    "\n",
    "#### Parameters\n",
    " - `bitsize`: Size of input register to apply QFT on.\n",
    " - `phase_bitsize`: The size of the phase gradient register. Defaults to being math.ceil(math.log2(bitsize)).\n",
    " - `with_reverse`: Whether or not to include the swaps at the end of the circuit decomposition that reverse the order of the qubits. If True, the swaps are inserted. Defaults to True. These are technically necessary in order to perform the correct effect, but can almost always be optimized away by just performing later operations on different qubits. \n",
    "\n",
    "#### References\n",
    " - [Turning Gradients into Additions into QFTs](https://algassert.com/post/1620). Gidney, C. 2016.\n",
    " - [Approximation Errors](https://arxiv.org/abs/quant-ph/0008056). Panike, N. 2000.\n"
   ]
  },
  {
   "cell_type": "code",
   "execution_count": 2,
   "id": "33e7066d",
   "metadata": {
    "cq.autogen": "ApproximateQFT.bloq_doc.py"
   },
   "outputs": [],
   "source": [
    "from qualtran.bloqs.qft.approximate_qft import ApproximateQFT"
   ]
  },
  {
   "cell_type": "markdown",
   "id": "1a671529",
   "metadata": {
    "cq.autogen": "ApproximateQFT.example_instances.md"
   },
   "source": [
    "### Example Instances"
   ]
  },
  {
   "cell_type": "code",
   "execution_count": 3,
   "id": "bf4ea035",
   "metadata": {
    "cq.autogen": "ApproximateQFT.approximate_qft_small"
   },
   "outputs": [],
   "source": [
    "approximate_qft_small = ApproximateQFT(6, 5)"
   ]
  },
  {
   "cell_type": "code",
   "execution_count": 4,
   "id": "4ceb3153",
   "metadata": {
    "cq.autogen": "ApproximateQFT.approximate_qft_from_epsilon"
   },
   "outputs": [],
   "source": [
    "epsilon = 1e-5\n",
    "approximate_qft_from_epsilon = ApproximateQFT.from_epsilon(50, epsilon)"
   ]
  },
  {
   "cell_type": "markdown",
   "id": "37c030d1",
   "metadata": {
    "cq.autogen": "ApproximateQFT.graphical_signature.md"
   },
   "source": [
    "#### Graphical Signature"
   ]
  },
  {
   "cell_type": "code",
   "execution_count": 5,
   "id": "809692b7",
   "metadata": {
    "cq.autogen": "ApproximateQFT.graphical_signature.py"
   },
   "outputs": [
    {
     "data": {
      "application/vnd.jupyter.widget-view+json": {
       "model_id": "3b0bfde4fd374571a3d063d2a2560b4b",
       "version_major": 2,
       "version_minor": 0
      },
      "text/plain": [
       "HBox(children=(Output(outputs=({'output_type': 'display_data', 'data': {'text/plain': '<IPython.core.display.M…"
      ]
     },
     "metadata": {},
     "output_type": "display_data"
    }
   ],
   "source": [
    "from qualtran.drawing import show_bloqs\n",
    "show_bloqs([approximate_qft_small, approximate_qft_from_epsilon],\n",
    "           ['`approximate_qft_small`', '`approximate_qft_from_epsilon`'])"
   ]
  },
  {
   "cell_type": "markdown",
   "id": "23fc1278",
   "metadata": {
    "cq.autogen": "ApproximateQFT.call_graph.md"
   },
   "source": [
    "### Call Graph"
   ]
  },
  {
   "cell_type": "code",
   "execution_count": 6,
   "id": "bc42b5b7",
   "metadata": {
    "cq.autogen": "ApproximateQFT.call_graph.py"
   },
   "outputs": [
    {
     "data": {
      "image/svg+xml": [
       "<svg xmlns=\"http://www.w3.org/2000/svg\" xmlns:xlink=\"http://www.w3.org/1999/xlink\" width=\"1961pt\" height=\"131pt\" viewBox=\"0.00 0.00 1961.00 131.00\">\n",
       "<g id=\"graph0\" class=\"graph\" transform=\"scale(1 1) rotate(0) translate(4 127)\">\n",
       "<title>counts</title>\n",
       "<polygon fill=\"white\" stroke=\"transparent\" points=\"-4,4 -4,-127 1957,-127 1957,4 -4,4\"/>\n",
       "<!-- b0 -->\n",
       "<g id=\"node1\" class=\"node\">\n",
       "<title>b0</title>\n",
       "<polygon fill=\"none\" stroke=\"black\" points=\"864,-123 577,-123 577,-87 864,-87 864,-123\"/>\n",
       "<text text-anchor=\"start\" x=\"671.5\" y=\"-106.8\" font-family=\"Times,serif\" font-size=\"14.00\">ApproximateQFT</text>\n",
       "<text text-anchor=\"start\" x=\"585\" y=\"-96\" font-family=\"monospace\" font-size=\"10.00\">bitsize=6, phase_bitsize=5, with_reverse=True</text>\n",
       "</g>\n",
       "<!-- b1 -->\n",
       "<g id=\"node2\" class=\"node\">\n",
       "<title>b1</title>\n",
       "<polygon fill=\"none\" stroke=\"black\" points=\"425,-36 0,-36 0,0 425,0 425,-36\"/>\n",
       "<text text-anchor=\"start\" x=\"182\" y=\"-19.8\" font-family=\"Times,serif\" font-size=\"14.00\">pg+=x&gt;&gt;1</text>\n",
       "<text text-anchor=\"start\" x=\"8\" y=\"-9\" font-family=\"monospace\" font-size=\"10.00\">x_bitsize=2, phase_bitsize=3, right_shift=1, sign=1, controlled_by=1</text>\n",
       "</g>\n",
       "<!-- b0&#45;&gt;b1 -->\n",
       "<g id=\"edge1\" class=\"edge\">\n",
       "<title>b0-&gt;b1</title>\n",
       "<path fill=\"none\" stroke=\"black\" d=\"M618.61,-86.95C533.41,-72.7 412.06,-52.39 324.22,-37.69\"/>\n",
       "<polygon fill=\"black\" stroke=\"black\" points=\"324.66,-34.22 314.22,-36.02 323.5,-41.12 324.66,-34.22\"/>\n",
       "<text text-anchor=\"middle\" x=\"501\" y=\"-57.8\" font-family=\"Times,serif\" font-size=\"14.00\">1</text>\n",
       "</g>\n",
       "<!-- b2 -->\n",
       "<g id=\"node3\" class=\"node\">\n",
       "<title>b2</title>\n",
       "<polygon fill=\"none\" stroke=\"black\" points=\"531.5,-36 443.5,-36 443.5,0 531.5,0 531.5,-36\"/>\n",
       "<text text-anchor=\"start\" x=\"451.5\" y=\"-14.3\" font-family=\"Times,serif\" font-size=\"14.00\">TwoBitSwap</text>\n",
       "</g>\n",
       "<!-- b0&#45;&gt;b2 -->\n",
       "<g id=\"edge2\" class=\"edge\">\n",
       "<title>b0-&gt;b2</title>\n",
       "<path fill=\"none\" stroke=\"black\" d=\"M673.63,-86.9C635.33,-72.93 581.16,-53.17 541.13,-38.57\"/>\n",
       "<polygon fill=\"black\" stroke=\"black\" points=\"542.13,-35.2 531.54,-35.06 539.73,-41.78 542.13,-35.2\"/>\n",
       "<text text-anchor=\"middle\" x=\"622\" y=\"-57.8\" font-family=\"Times,serif\" font-size=\"14.00\">3</text>\n",
       "</g>\n",
       "<!-- b3 -->\n",
       "<g id=\"node4\" class=\"node\">\n",
       "<title>b3</title>\n",
       "<polygon fill=\"none\" stroke=\"black\" points=\"623.5,-36 549.5,-36 549.5,0 623.5,0 623.5,-36\"/>\n",
       "<text text-anchor=\"start\" x=\"557.5\" y=\"-14.3\" font-family=\"Times,serif\" font-size=\"14.00\">Hadamard</text>\n",
       "</g>\n",
       "<!-- b0&#45;&gt;b3 -->\n",
       "<g id=\"edge3\" class=\"edge\">\n",
       "<title>b0-&gt;b3</title>\n",
       "<path fill=\"none\" stroke=\"black\" d=\"M693.38,-86.8C672.86,-73.78 644.48,-55.78 622.13,-41.6\"/>\n",
       "<polygon fill=\"black\" stroke=\"black\" points=\"623.9,-38.58 613.58,-36.18 620.15,-44.49 623.9,-38.58\"/>\n",
       "<text text-anchor=\"middle\" x=\"666\" y=\"-57.8\" font-family=\"Times,serif\" font-size=\"14.00\">6</text>\n",
       "</g>\n",
       "<!-- b4 -->\n",
       "<g id=\"node5\" class=\"node\">\n",
       "<title>b4</title>\n",
       "<polygon fill=\"none\" stroke=\"black\" points=\"1067,-36 642,-36 642,0 1067,0 1067,-36\"/>\n",
       "<text text-anchor=\"start\" x=\"824\" y=\"-19.8\" font-family=\"Times,serif\" font-size=\"14.00\">pg+=x&gt;&gt;1</text>\n",
       "<text text-anchor=\"start\" x=\"650\" y=\"-9\" font-family=\"monospace\" font-size=\"10.00\">x_bitsize=3, phase_bitsize=4, right_shift=1, sign=1, controlled_by=1</text>\n",
       "</g>\n",
       "<!-- b0&#45;&gt;b4 -->\n",
       "<g id=\"edge4\" class=\"edge\">\n",
       "<title>b0-&gt;b4</title>\n",
       "<path fill=\"none\" stroke=\"black\" d=\"M747.62,-86.8C768.14,-73.78 796.52,-55.78 818.87,-41.6\"/>\n",
       "<polygon fill=\"black\" stroke=\"black\" points=\"820.85,-44.49 827.42,-36.18 817.1,-38.58 820.85,-44.49\"/>\n",
       "<text text-anchor=\"middle\" x=\"800\" y=\"-57.8\" font-family=\"Times,serif\" font-size=\"14.00\">1</text>\n",
       "</g>\n",
       "<!-- b5 -->\n",
       "<g id=\"node6\" class=\"node\">\n",
       "<title>b5</title>\n",
       "<polygon fill=\"none\" stroke=\"black\" points=\"1510,-36 1085,-36 1085,0 1510,0 1510,-36\"/>\n",
       "<text text-anchor=\"start\" x=\"1267\" y=\"-19.8\" font-family=\"Times,serif\" font-size=\"14.00\">pg+=x&gt;&gt;1</text>\n",
       "<text text-anchor=\"start\" x=\"1093\" y=\"-9\" font-family=\"monospace\" font-size=\"10.00\">x_bitsize=1, phase_bitsize=2, right_shift=1, sign=1, controlled_by=1</text>\n",
       "</g>\n",
       "<!-- b0&#45;&gt;b5 -->\n",
       "<g id=\"edge5\" class=\"edge\">\n",
       "<title>b0-&gt;b5</title>\n",
       "<path fill=\"none\" stroke=\"black\" d=\"M836.22,-86.95C933.39,-72.64 1071.95,-52.23 1171.82,-37.51\"/>\n",
       "<polygon fill=\"black\" stroke=\"black\" points=\"1172.59,-40.94 1181.97,-36.02 1171.57,-34.01 1172.59,-40.94\"/>\n",
       "<text text-anchor=\"middle\" x=\"1048\" y=\"-57.8\" font-family=\"Times,serif\" font-size=\"14.00\">1</text>\n",
       "</g>\n",
       "<!-- b6 -->\n",
       "<g id=\"node7\" class=\"node\">\n",
       "<title>b6</title>\n",
       "<polygon fill=\"none\" stroke=\"black\" points=\"1953,-36 1528,-36 1528,0 1953,0 1953,-36\"/>\n",
       "<text text-anchor=\"start\" x=\"1710\" y=\"-19.8\" font-family=\"Times,serif\" font-size=\"14.00\">pg+=x&gt;&gt;1</text>\n",
       "<text text-anchor=\"start\" x=\"1536\" y=\"-9\" font-family=\"monospace\" font-size=\"10.00\">x_bitsize=4, phase_bitsize=5, right_shift=1, sign=1, controlled_by=1</text>\n",
       "</g>\n",
       "<!-- b0&#45;&gt;b6 -->\n",
       "<g id=\"edge6\" class=\"edge\">\n",
       "<title>b0-&gt;b6</title>\n",
       "<path fill=\"none\" stroke=\"black\" d=\"M864.21,-92.02C1036.68,-77.65 1327.47,-53.42 1526.41,-36.84\"/>\n",
       "<polygon fill=\"black\" stroke=\"black\" points=\"1526.73,-40.33 1536.41,-36.01 1526.15,-33.35 1526.73,-40.33\"/>\n",
       "<text text-anchor=\"middle\" x=\"1296\" y=\"-57.8\" font-family=\"Times,serif\" font-size=\"14.00\">2</text>\n",
       "</g>\n",
       "</g>\n",
       "</svg>"
      ],
      "text/plain": [
       "<IPython.core.display.SVG object>"
      ]
     },
     "metadata": {},
     "output_type": "display_data"
    },
    {
     "data": {
      "text/markdown": [
       "#### Counts totals:\n",
       " - `AddIntoPhaseGrad`: 1\n",
       " - `AddIntoPhaseGrad`: 1\n",
       " - `AddIntoPhaseGrad`: 1\n",
       " - `AddIntoPhaseGrad`: 2\n",
       " - `H`: 6\n",
       " - `TwoBitSwap`: 3"
      ],
      "text/plain": [
       "<IPython.core.display.Markdown object>"
      ]
     },
     "metadata": {},
     "output_type": "display_data"
    }
   ],
   "source": [
    "from qualtran.resource_counting.generalizers import ignore_split_join\n",
    "approximate_qft_small_g, approximate_qft_small_sigma = approximate_qft_small.call_graph(max_depth=1, generalizer=ignore_split_join)\n",
    "show_call_graph(approximate_qft_small_g)\n",
    "show_counts_sigma(approximate_qft_small_sigma)"
   ]
  },
  {
   "cell_type": "markdown",
   "id": "c87a398e",
   "metadata": {
    "collapsed": false,
    "jupyter": {
     "outputs_hidden": false
    }
   },
   "source": [
    "## Approximate QFT Cost analysis\n",
    "### T-Count Expression for `ApproximateQFT`"
   ]
  },
  {
   "cell_type": "code",
   "execution_count": 7,
   "id": "ddccb6b7",
   "metadata": {
    "collapsed": false,
    "jupyter": {
     "outputs_hidden": false
    }
   },
   "outputs": [
    {
     "data": {
      "text/latex": [
       "$\\displaystyle n \\left(8 \\left\\lceil{\\operatorname{log}_{2}{\\left(\\frac{\\sqrt{2} \\pi n}{\\epsilon} \\right)}}\\right\\rceil - 16\\right)$"
      ],
      "text/plain": [
       "n*(8*ceiling(log2(sqrt(2)*pi*n/\\epsilon)) - 16)"
      ]
     },
     "execution_count": 7,
     "metadata": {},
     "output_type": "execute_result"
    }
   ],
   "source": [
    "from qualtran.resource_counting.t_counts_from_sigma import t_counts_from_sigma\n",
    "\n",
    "def get_t_counts_aqft(n, eps):\n",
    "    _, sigma = ApproximateQFT.from_epsilon(n, eps).call_graph()\n",
    "    return t_counts_from_sigma(sigma)\n",
    "\n",
    "get_t_counts_aqft(*sympy.symbols('n, \\epsilon'))"
   ]
  }
 ],
 "metadata": {
  "kernelspec": {
   "display_name": "Python 3 (ipykernel)",
   "language": "python",
   "name": "python3"
  },
  "language_info": {
   "codemirror_mode": {
    "name": "ipython",
    "version": 3
   },
   "file_extension": ".py",
   "mimetype": "text/x-python",
   "name": "python",
   "nbconvert_exporter": "python",
   "pygments_lexer": "ipython3",
   "version": "3.11.8"
  },
  "widgets": {
   "application/vnd.jupyter.widget-state+json": {
    "state": {
     "271e40bf3def40bdbfb83e8d39791039": {
      "model_module": "@jupyter-widgets/base",
      "model_module_version": "2.0.0",
      "model_name": "LayoutModel",
      "state": {
       "_model_module": "@jupyter-widgets/base",
       "_model_module_version": "2.0.0",
       "_model_name": "LayoutModel",
       "_view_count": null,
       "_view_module": "@jupyter-widgets/base",
       "_view_module_version": "2.0.0",
       "_view_name": "LayoutView",
       "align_content": null,
       "align_items": null,
       "align_self": null,
       "border_bottom": null,
       "border_left": null,
       "border_right": null,
       "border_top": null,
       "bottom": null,
       "display": null,
       "flex": null,
       "flex_flow": null,
       "grid_area": null,
       "grid_auto_columns": null,
       "grid_auto_flow": null,
       "grid_auto_rows": null,
       "grid_column": null,
       "grid_gap": null,
       "grid_row": null,
       "grid_template_areas": null,
       "grid_template_columns": null,
       "grid_template_rows": null,
       "height": null,
       "justify_content": null,
       "justify_items": null,
       "left": null,
       "margin": null,
       "max_height": null,
       "max_width": null,
       "min_height": null,
       "min_width": null,
       "object_fit": null,
       "object_position": null,
       "order": null,
       "overflow": null,
       "padding": null,
       "right": null,
       "top": null,
       "visibility": null,
       "width": null
      }
     },
     "3b0bfde4fd374571a3d063d2a2560b4b": {
      "model_module": "@jupyter-widgets/controls",
      "model_module_version": "2.0.0",
      "model_name": "HBoxModel",
      "state": {
       "_dom_classes": [],
       "_model_module": "@jupyter-widgets/controls",
       "_model_module_version": "2.0.0",
       "_model_name": "HBoxModel",
       "_view_count": null,
       "_view_module": "@jupyter-widgets/controls",
       "_view_module_version": "2.0.0",
       "_view_name": "HBoxView",
       "box_style": "",
       "children": [
        "IPY_MODEL_a59bfcdc0db648ae86058febb0eebe7f",
        "IPY_MODEL_89e21a26be8b46e2840cc77d96ece87b"
       ],
       "layout": "IPY_MODEL_a4a53335a3d14f2d803e3ec9a9eecad2",
       "tabbable": null,
       "tooltip": null
      }
     },
     "89e21a26be8b46e2840cc77d96ece87b": {
      "model_module": "@jupyter-widgets/output",
      "model_module_version": "1.0.0",
      "model_name": "OutputModel",
      "state": {
       "_dom_classes": [],
       "_model_module": "@jupyter-widgets/output",
       "_model_module_version": "1.0.0",
       "_model_name": "OutputModel",
       "_view_count": null,
       "_view_module": "@jupyter-widgets/output",
       "_view_module_version": "1.0.0",
       "_view_name": "OutputView",
       "layout": "IPY_MODEL_f401be67c3c3489f99ff24c246d2b3d2",
       "msg_id": "",
       "outputs": [
        {
         "data": {
          "text/markdown": "`approximate_qft_from_epsilon`",
          "text/plain": "<IPython.core.display.Markdown object>"
         },
         "metadata": {},
         "output_type": "display_data"
        },
        {
         "data": {
          "image/svg+xml": "<svg xmlns=\"http://www.w3.org/2000/svg\" xmlns:xlink=\"http://www.w3.org/1999/xlink\" width=\"317pt\" height=\"98pt\" viewBox=\"0.00 0.00 317.00 98.00\">\n<g id=\"graph0\" class=\"graph\" transform=\"scale(1 1) rotate(0) translate(4 94)\">\n<title>my_graph</title>\n<polygon fill=\"white\" stroke=\"transparent\" points=\"-4,4 -4,-94 313,-94 313,4 -4,4\"/>\n<!-- q_G3 -->\n<g id=\"node1\" class=\"node\">\n<title>q_G3</title>\n<text text-anchor=\"middle\" x=\"39\" y=\"-68.3\" font-family=\"Times,serif\" font-size=\"14.00\">q</text>\n</g>\n<!-- ApproximateQFT -->\n<g id=\"node3\" class=\"node\">\n<title>ApproximateQFT</title>\n<polygon fill=\"none\" stroke=\"black\" points=\"115.5,-66 115.5,-83 194.5,-83 194.5,-66 115.5,-66\"/>\n<text text-anchor=\"start\" x=\"118.5\" y=\"-72\" font-family=\"Times,serif\" font-size=\"10.00\">ApproximateQFT</text>\n<polygon fill=\"none\" stroke=\"black\" points=\"115.5,-45 115.5,-66 194.5,-66 194.5,-45 115.5,-45\"/>\n<text text-anchor=\"start\" x=\"151.5\" y=\"-51.8\" font-family=\"Times,serif\" font-size=\"14.00\">q</text>\n<polygon fill=\"none\" stroke=\"black\" points=\"115.5,-24 115.5,-45 194.5,-45 194.5,-24 115.5,-24\"/>\n<text text-anchor=\"start\" x=\"124\" y=\"-30.8\" font-family=\"Times,serif\" font-size=\"14.00\">phase_grad</text>\n</g>\n<!-- q_G3&#45;&gt;ApproximateQFT -->\n<g id=\"edge1\" class=\"edge\">\n<title>q_G3:e-&gt;ApproximateQFT:w</title>\n<path fill=\"none\" stroke=\"black\" d=\"M67,-72C88.78,-72 92.3,-56.98 112.95,-56.05\"/>\n<ellipse fill=\"black\" stroke=\"black\" cx=\"114\" cy=\"-56.02\" rx=\"1\" ry=\"1\"/>\n<text text-anchor=\"middle\" x=\"96.5\" y=\"-63\" font-family=\"Times,serif\" font-size=\"10.00\">50</text>\n</g>\n<!-- phase_grad_G0 -->\n<g id=\"node2\" class=\"node\">\n<title>phase_grad_G0</title>\n<text text-anchor=\"middle\" x=\"39\" y=\"-14.3\" font-family=\"Times,serif\" font-size=\"14.00\">phase_grad</text>\n</g>\n<!-- phase_grad_G0&#45;&gt;ApproximateQFT -->\n<g id=\"edge2\" class=\"edge\">\n<title>phase_grad_G0:e-&gt;ApproximateQFT:w</title>\n<path fill=\"none\" stroke=\"black\" d=\"M78,-18C95.22,-18 96.97,-32.77 112.98,-33.93\"/>\n<ellipse fill=\"black\" stroke=\"black\" cx=\"114\" cy=\"-33.96\" rx=\"1\" ry=\"1\"/>\n<text text-anchor=\"middle\" x=\"96.5\" y=\"-29\" font-family=\"Times,serif\" font-size=\"10.00\">25</text>\n</g>\n<!-- q_G5 -->\n<g id=\"node4\" class=\"node\">\n<title>q_G5</title>\n<text text-anchor=\"middle\" x=\"270\" y=\"-68.3\" font-family=\"Times,serif\" font-size=\"14.00\">q</text>\n</g>\n<!-- ApproximateQFT&#45;&gt;q_G5 -->\n<g id=\"edge3\" class=\"edge\">\n<title>ApproximateQFT:e-&gt;q_G5:w</title>\n<path fill=\"none\" stroke=\"black\" d=\"M194,-56C215.78,-56 219.3,-71.02 239.95,-71.95\"/>\n<ellipse fill=\"black\" stroke=\"black\" cx=\"241\" cy=\"-71.98\" rx=\"1\" ry=\"1\"/>\n<text text-anchor=\"middle\" x=\"212.5\" y=\"-63\" font-family=\"Times,serif\" font-size=\"10.00\">50</text>\n</g>\n<!-- phase_grad_G2 -->\n<g id=\"node5\" class=\"node\">\n<title>phase_grad_G2</title>\n<text text-anchor=\"middle\" x=\"270\" y=\"-14.3\" font-family=\"Times,serif\" font-size=\"14.00\">phase_grad</text>\n</g>\n<!-- ApproximateQFT&#45;&gt;phase_grad_G2 -->\n<g id=\"edge4\" class=\"edge\">\n<title>ApproximateQFT:e-&gt;phase_grad_G2:w</title>\n<path fill=\"none\" stroke=\"black\" d=\"M194,-34C211.22,-34 212.97,-19.23 228.98,-18.07\"/>\n<ellipse fill=\"black\" stroke=\"black\" cx=\"230\" cy=\"-18.04\" rx=\"1\" ry=\"1\"/>\n<text text-anchor=\"middle\" x=\"212.5\" y=\"-29\" font-family=\"Times,serif\" font-size=\"10.00\">25</text>\n</g>\n</g>\n</svg>",
          "text/plain": "<IPython.core.display.SVG object>"
         },
         "metadata": {},
         "output_type": "display_data"
        }
       ],
       "tabbable": null,
       "tooltip": null
      }
     },
     "a4a53335a3d14f2d803e3ec9a9eecad2": {
      "model_module": "@jupyter-widgets/base",
      "model_module_version": "2.0.0",
      "model_name": "LayoutModel",
      "state": {
       "_model_module": "@jupyter-widgets/base",
       "_model_module_version": "2.0.0",
       "_model_name": "LayoutModel",
       "_view_count": null,
       "_view_module": "@jupyter-widgets/base",
       "_view_module_version": "2.0.0",
       "_view_name": "LayoutView",
       "align_content": null,
       "align_items": null,
       "align_self": null,
       "border_bottom": null,
       "border_left": null,
       "border_right": null,
       "border_top": null,
       "bottom": null,
       "display": null,
       "flex": null,
       "flex_flow": null,
       "grid_area": null,
       "grid_auto_columns": null,
       "grid_auto_flow": null,
       "grid_auto_rows": null,
       "grid_column": null,
       "grid_gap": null,
       "grid_row": null,
       "grid_template_areas": null,
       "grid_template_columns": null,
       "grid_template_rows": null,
       "height": null,
       "justify_content": null,
       "justify_items": null,
       "left": null,
       "margin": null,
       "max_height": null,
       "max_width": null,
       "min_height": null,
       "min_width": null,
       "object_fit": null,
       "object_position": null,
       "order": null,
       "overflow": null,
       "padding": null,
       "right": null,
       "top": null,
       "visibility": null,
       "width": null
      }
     },
     "a59bfcdc0db648ae86058febb0eebe7f": {
      "model_module": "@jupyter-widgets/output",
      "model_module_version": "1.0.0",
      "model_name": "OutputModel",
      "state": {
       "_dom_classes": [],
       "_model_module": "@jupyter-widgets/output",
       "_model_module_version": "1.0.0",
       "_model_name": "OutputModel",
       "_view_count": null,
       "_view_module": "@jupyter-widgets/output",
       "_view_module_version": "1.0.0",
       "_view_name": "OutputView",
       "layout": "IPY_MODEL_271e40bf3def40bdbfb83e8d39791039",
       "msg_id": "",
       "outputs": [
        {
         "data": {
          "text/markdown": "`approximate_qft_small`",
          "text/plain": "<IPython.core.display.Markdown object>"
         },
         "metadata": {},
         "output_type": "display_data"
        },
        {
         "data": {
          "image/svg+xml": "<svg xmlns=\"http://www.w3.org/2000/svg\" xmlns:xlink=\"http://www.w3.org/1999/xlink\" width=\"317pt\" height=\"98pt\" viewBox=\"0.00 0.00 317.00 98.00\">\n<g id=\"graph0\" class=\"graph\" transform=\"scale(1 1) rotate(0) translate(4 94)\">\n<title>my_graph</title>\n<polygon fill=\"white\" stroke=\"transparent\" points=\"-4,4 -4,-94 313,-94 313,4 -4,4\"/>\n<!-- q_G3 -->\n<g id=\"node1\" class=\"node\">\n<title>q_G3</title>\n<text text-anchor=\"middle\" x=\"39\" y=\"-68.3\" font-family=\"Times,serif\" font-size=\"14.00\">q</text>\n</g>\n<!-- ApproximateQFT -->\n<g id=\"node3\" class=\"node\">\n<title>ApproximateQFT</title>\n<polygon fill=\"none\" stroke=\"black\" points=\"115.5,-66 115.5,-83 194.5,-83 194.5,-66 115.5,-66\"/>\n<text text-anchor=\"start\" x=\"118.5\" y=\"-72\" font-family=\"Times,serif\" font-size=\"10.00\">ApproximateQFT</text>\n<polygon fill=\"none\" stroke=\"black\" points=\"115.5,-45 115.5,-66 194.5,-66 194.5,-45 115.5,-45\"/>\n<text text-anchor=\"start\" x=\"151.5\" y=\"-51.8\" font-family=\"Times,serif\" font-size=\"14.00\">q</text>\n<polygon fill=\"none\" stroke=\"black\" points=\"115.5,-24 115.5,-45 194.5,-45 194.5,-24 115.5,-24\"/>\n<text text-anchor=\"start\" x=\"124\" y=\"-30.8\" font-family=\"Times,serif\" font-size=\"14.00\">phase_grad</text>\n</g>\n<!-- q_G3&#45;&gt;ApproximateQFT -->\n<g id=\"edge1\" class=\"edge\">\n<title>q_G3:e-&gt;ApproximateQFT:w</title>\n<path fill=\"none\" stroke=\"black\" d=\"M67,-72C88.78,-72 92.3,-56.98 112.95,-56.05\"/>\n<ellipse fill=\"black\" stroke=\"black\" cx=\"114\" cy=\"-56.02\" rx=\"1\" ry=\"1\"/>\n<text text-anchor=\"middle\" x=\"96.5\" y=\"-63\" font-family=\"Times,serif\" font-size=\"10.00\">6</text>\n</g>\n<!-- phase_grad_G0 -->\n<g id=\"node2\" class=\"node\">\n<title>phase_grad_G0</title>\n<text text-anchor=\"middle\" x=\"39\" y=\"-14.3\" font-family=\"Times,serif\" font-size=\"14.00\">phase_grad</text>\n</g>\n<!-- phase_grad_G0&#45;&gt;ApproximateQFT -->\n<g id=\"edge2\" class=\"edge\">\n<title>phase_grad_G0:e-&gt;ApproximateQFT:w</title>\n<path fill=\"none\" stroke=\"black\" d=\"M78,-18C95.22,-18 96.97,-32.77 112.98,-33.93\"/>\n<ellipse fill=\"black\" stroke=\"black\" cx=\"114\" cy=\"-33.96\" rx=\"1\" ry=\"1\"/>\n<text text-anchor=\"middle\" x=\"96.5\" y=\"-29\" font-family=\"Times,serif\" font-size=\"10.00\">5</text>\n</g>\n<!-- q_G5 -->\n<g id=\"node4\" class=\"node\">\n<title>q_G5</title>\n<text text-anchor=\"middle\" x=\"270\" y=\"-68.3\" font-family=\"Times,serif\" font-size=\"14.00\">q</text>\n</g>\n<!-- ApproximateQFT&#45;&gt;q_G5 -->\n<g id=\"edge3\" class=\"edge\">\n<title>ApproximateQFT:e-&gt;q_G5:w</title>\n<path fill=\"none\" stroke=\"black\" d=\"M194,-56C215.78,-56 219.3,-71.02 239.95,-71.95\"/>\n<ellipse fill=\"black\" stroke=\"black\" cx=\"241\" cy=\"-71.98\" rx=\"1\" ry=\"1\"/>\n<text text-anchor=\"middle\" x=\"212.5\" y=\"-63\" font-family=\"Times,serif\" font-size=\"10.00\">6</text>\n</g>\n<!-- phase_grad_G1 -->\n<g id=\"node5\" class=\"node\">\n<title>phase_grad_G1</title>\n<text text-anchor=\"middle\" x=\"270\" y=\"-14.3\" font-family=\"Times,serif\" font-size=\"14.00\">phase_grad</text>\n</g>\n<!-- ApproximateQFT&#45;&gt;phase_grad_G1 -->\n<g id=\"edge4\" class=\"edge\">\n<title>ApproximateQFT:e-&gt;phase_grad_G1:w</title>\n<path fill=\"none\" stroke=\"black\" d=\"M194,-34C211.22,-34 212.97,-19.23 228.98,-18.07\"/>\n<ellipse fill=\"black\" stroke=\"black\" cx=\"230\" cy=\"-18.04\" rx=\"1\" ry=\"1\"/>\n<text text-anchor=\"middle\" x=\"212.5\" y=\"-29\" font-family=\"Times,serif\" font-size=\"10.00\">5</text>\n</g>\n</g>\n</svg>",
          "text/plain": "<IPython.core.display.SVG object>"
         },
         "metadata": {},
         "output_type": "display_data"
        }
       ],
       "tabbable": null,
       "tooltip": null
      }
     },
     "f401be67c3c3489f99ff24c246d2b3d2": {
      "model_module": "@jupyter-widgets/base",
      "model_module_version": "2.0.0",
      "model_name": "LayoutModel",
      "state": {
       "_model_module": "@jupyter-widgets/base",
       "_model_module_version": "2.0.0",
       "_model_name": "LayoutModel",
       "_view_count": null,
       "_view_module": "@jupyter-widgets/base",
       "_view_module_version": "2.0.0",
       "_view_name": "LayoutView",
       "align_content": null,
       "align_items": null,
       "align_self": null,
       "border_bottom": null,
       "border_left": null,
       "border_right": null,
       "border_top": null,
       "bottom": null,
       "display": null,
       "flex": null,
       "flex_flow": null,
       "grid_area": null,
       "grid_auto_columns": null,
       "grid_auto_flow": null,
       "grid_auto_rows": null,
       "grid_column": null,
       "grid_gap": null,
       "grid_row": null,
       "grid_template_areas": null,
       "grid_template_columns": null,
       "grid_template_rows": null,
       "height": null,
       "justify_content": null,
       "justify_items": null,
       "left": null,
       "margin": null,
       "max_height": null,
       "max_width": null,
       "min_height": null,
       "min_width": null,
       "object_fit": null,
       "object_position": null,
       "order": null,
       "overflow": null,
       "padding": null,
       "right": null,
       "top": null,
       "visibility": null,
       "width": null
      }
     }
    },
    "version_major": 2,
    "version_minor": 0
   }
  }
 },
 "nbformat": 4,
 "nbformat_minor": 5
}
