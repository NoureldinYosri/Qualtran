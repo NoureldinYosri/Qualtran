{
 "cells": [
  {
   "cell_type": "markdown",
   "id": "a51ebafc",
   "metadata": {
    "cq.autogen": "title_cell"
   },
   "source": [
    "# Approximate QFT"
   ]
  },
  {
   "cell_type": "code",
   "execution_count": 1,
   "id": "01b76cf0",
   "metadata": {
    "cq.autogen": "top_imports"
   },
   "outputs": [],
   "source": [
    "from qualtran import Bloq, CompositeBloq, BloqBuilder, Signature, Register\n",
    "from qualtran import QBit, QInt, QUInt, QAny\n",
    "from qualtran.drawing import show_bloq, show_call_graph, show_counts_sigma\n",
    "from typing import *\n",
    "import numpy as np\n",
    "import sympy\n",
    "import cirq"
   ]
  },
  {
   "cell_type": "markdown",
   "id": "7aba7270",
   "metadata": {
    "cq.autogen": "ApproximateQFT.bloq_doc.md"
   },
   "source": [
    "## `ApproximateQFT`\n",
    "An approximate QFT in which phase shifts smaller than a certain threshold are deleted.\n",
    "\n",
    "Given a b-bit phase gradient state $|\\phi\\rangle$ prepared as\n",
    "\n",
    "$$\n",
    "    |\\phi\\rangle = \\frac{1}{\\sqrt{2^{b}}} \\sum_{k=0}^{2^{b} - 1} \\omega_{b}^{-k} |k\\rangle\n",
    "$$\n",
    "\n",
    "Phase gradient rotations can be synthesized via additions into the phase gradient register.\n",
    "This leads to significant reductions in T/Toffoli complexity and requires 0 arbitrary\n",
    "rotations (given a one-time cost to prepare the gradient register). See the linked reference\n",
    "for more details.\n",
    "\n",
    "The QFT uses exponentially small z-power gates. In practice, it is often sufficient to perform\n",
    "an approximate qft, where z-power gates smaller than a certain threshold are dropped. When using\n",
    "the \"add into phase-gradient trick\", this amounts to doing smaller additions with a smaller\n",
    "phase gradient register.\n",
    "\n",
    "#### Parameters\n",
    " - `bitsize`: Size of input register to apply QFT on.\n",
    " - `phase_bitsize`: The size of the phase gradient register. Defaults to being math.ceil(math.log2(bitsize)).\n",
    " - `with_reverse`: Whether or not to include the swaps at the end of the circuit decomposition that reverse the order of the qubits. If True, the swaps are inserted. Defaults to True. These are technically necessary in order to perform the correct effect, but can almost always be optimized away by just performing later operations on different qubits. \n",
    "\n",
    "#### References\n",
    " - [Turning Gradients into Additions into QFTs](https://algassert.com/post/1620). Gidney, C. 2016.\n",
    " - [Approximation Errors](https://arxiv.org/abs/quant-ph/0008056). Panike, N. 2000.\n"
   ]
  },
  {
   "cell_type": "code",
   "execution_count": 2,
   "id": "33e7066d",
   "metadata": {
    "cq.autogen": "ApproximateQFT.bloq_doc.py"
   },
   "outputs": [],
   "source": [
    "from qualtran.bloqs.qft.approximate_qft import ApproximateQFT"
   ]
  },
  {
   "cell_type": "markdown",
   "id": "1a671529",
   "metadata": {
    "cq.autogen": "ApproximateQFT.example_instances.md"
   },
   "source": [
    "### Example Instances"
   ]
  },
  {
   "cell_type": "code",
   "execution_count": 3,
   "id": "bf4ea035",
   "metadata": {
    "cq.autogen": "ApproximateQFT.approximate_qft_small"
   },
   "outputs": [],
   "source": [
    "approximate_qft_small = ApproximateQFT(6, 5)"
   ]
  },
  {
   "cell_type": "code",
   "execution_count": 4,
   "id": "4ceb3153",
   "metadata": {
    "cq.autogen": "ApproximateQFT.approximate_qft_from_epsilon"
   },
   "outputs": [],
   "source": [
    "epsilon = 1e-5\n",
    "approximate_qft_from_epsilon = ApproximateQFT.from_epsilon(50, epsilon)"
   ]
  },
  {
   "cell_type": "markdown",
   "id": "37c030d1",
   "metadata": {
    "cq.autogen": "ApproximateQFT.graphical_signature.md"
   },
   "source": [
    "#### Graphical Signature"
   ]
  },
  {
   "cell_type": "code",
   "execution_count": 5,
   "id": "809692b7",
   "metadata": {
    "cq.autogen": "ApproximateQFT.graphical_signature.py"
   },
   "outputs": [
    {
     "data": {
      "application/vnd.jupyter.widget-view+json": {
       "model_id": "dd4b3cc16113468fbc33bf26785481ac",
       "version_major": 2,
       "version_minor": 0
      },
      "text/plain": [
       "HBox(children=(Output(outputs=({'output_type': 'display_data', 'data': {'text/plain': '<IPython.core.display.M…"
      ]
     },
     "metadata": {},
     "output_type": "display_data"
    }
   ],
   "source": [
    "from qualtran.drawing import show_bloqs\n",
    "show_bloqs([approximate_qft_small, approximate_qft_from_epsilon],\n",
    "           ['`approximate_qft_small`', '`approximate_qft_from_epsilon`'])"
   ]
  },
  {
   "cell_type": "markdown",
   "id": "23fc1278",
   "metadata": {
    "cq.autogen": "ApproximateQFT.call_graph.md"
   },
   "source": [
    "### Call Graph"
   ]
  },
  {
   "cell_type": "code",
   "execution_count": 6,
   "id": "bc42b5b7",
   "metadata": {
    "cq.autogen": "ApproximateQFT.call_graph.py"
   },
   "outputs": [
    {
     "data": {
      "image/svg+xml": [
       "<svg xmlns=\"http://www.w3.org/2000/svg\" xmlns:xlink=\"http://www.w3.org/1999/xlink\" width=\"1889pt\" height=\"131pt\" viewBox=\"0.00 0.00 1888.50 131.00\">\n",
       "<g id=\"graph0\" class=\"graph\" transform=\"scale(1 1) rotate(0) translate(4 127)\">\n",
       "<title>counts</title>\n",
       "<polygon fill=\"white\" stroke=\"transparent\" points=\"-4,4 -4,-127 1884.5,-127 1884.5,4 -4,4\"/>\n",
       "<!-- b0 -->\n",
       "<g id=\"node1\" class=\"node\">\n",
       "<title>b0</title>\n",
       "<polygon fill=\"none\" stroke=\"black\" points=\"1409,-123 1122,-123 1122,-87 1409,-87 1409,-123\"/>\n",
       "<text text-anchor=\"start\" x=\"1216.5\" y=\"-106.8\" font-family=\"Times,serif\" font-size=\"14.00\">ApproximateQFT</text>\n",
       "<text text-anchor=\"start\" x=\"1130\" y=\"-96\" font-family=\"monospace\" font-size=\"10.00\">bitsize=6, phase_bitsize=5, with_reverse=True</text>\n",
       "</g>\n",
       "<!-- b1 -->\n",
       "<g id=\"node2\" class=\"node\">\n",
       "<title>b1</title>\n",
       "<polygon fill=\"none\" stroke=\"black\" points=\"407,-36 0,-36 0,0 407,0 407,-36\"/>\n",
       "<text text-anchor=\"start\" x=\"173\" y=\"-19.8\" font-family=\"Times,serif\" font-size=\"14.00\">pg+=x&gt;&gt;1</text>\n",
       "<text text-anchor=\"start\" x=\"8\" y=\"-9\" font-family=\"monospace\" font-size=\"10.00\">x_bitsize=4, phase_bitsize=5, right_shift=1, sign=1, controlled=1</text>\n",
       "</g>\n",
       "<!-- b0&#45;&gt;b1 -->\n",
       "<g id=\"edge1\" class=\"edge\">\n",
       "<title>b0-&gt;b1</title>\n",
       "<path fill=\"none\" stroke=\"black\" d=\"M1121.87,-92.52C955.09,-79.18 671.39,-56.49 417.33,-36.15\"/>\n",
       "<polygon fill=\"black\" stroke=\"black\" points=\"417.41,-32.64 407.16,-35.33 416.85,-39.62 417.41,-32.64\"/>\n",
       "<text text-anchor=\"middle\" x=\"815\" y=\"-57.8\" font-family=\"Times,serif\" font-size=\"14.00\">2</text>\n",
       "</g>\n",
       "<!-- b2 -->\n",
       "<g id=\"node3\" class=\"node\">\n",
       "<title>b2</title>\n",
       "<polygon fill=\"none\" stroke=\"black\" points=\"832,-36 425,-36 425,0 832,0 832,-36\"/>\n",
       "<text text-anchor=\"start\" x=\"598\" y=\"-19.8\" font-family=\"Times,serif\" font-size=\"14.00\">pg+=x&gt;&gt;1</text>\n",
       "<text text-anchor=\"start\" x=\"433\" y=\"-9\" font-family=\"monospace\" font-size=\"10.00\">x_bitsize=1, phase_bitsize=2, right_shift=1, sign=1, controlled=1</text>\n",
       "</g>\n",
       "<!-- b0&#45;&gt;b2 -->\n",
       "<g id=\"edge2\" class=\"edge\">\n",
       "<title>b0-&gt;b2</title>\n",
       "<path fill=\"none\" stroke=\"black\" d=\"M1137.74,-86.95C1030.15,-72.59 876.57,-52.1 766.25,-37.38\"/>\n",
       "<polygon fill=\"black\" stroke=\"black\" points=\"766.42,-33.87 756.05,-36.02 765.49,-40.81 766.42,-33.87\"/>\n",
       "<text text-anchor=\"middle\" x=\"989\" y=\"-57.8\" font-family=\"Times,serif\" font-size=\"14.00\">1</text>\n",
       "</g>\n",
       "<!-- b3 -->\n",
       "<g id=\"node4\" class=\"node\">\n",
       "<title>b3</title>\n",
       "<polygon fill=\"none\" stroke=\"black\" points=\"1257,-36 850,-36 850,0 1257,0 1257,-36\"/>\n",
       "<text text-anchor=\"start\" x=\"1023\" y=\"-19.8\" font-family=\"Times,serif\" font-size=\"14.00\">pg+=x&gt;&gt;1</text>\n",
       "<text text-anchor=\"start\" x=\"858\" y=\"-9\" font-family=\"monospace\" font-size=\"10.00\">x_bitsize=3, phase_bitsize=4, right_shift=1, sign=1, controlled=1</text>\n",
       "</g>\n",
       "<!-- b0&#45;&gt;b3 -->\n",
       "<g id=\"edge3\" class=\"edge\">\n",
       "<title>b0-&gt;b3</title>\n",
       "<path fill=\"none\" stroke=\"black\" d=\"M1222.85,-86.9C1189,-73.33 1141.53,-54.29 1105.46,-39.83\"/>\n",
       "<polygon fill=\"black\" stroke=\"black\" points=\"1106.66,-36.54 1096.08,-36.07 1104.06,-43.04 1106.66,-36.54\"/>\n",
       "<text text-anchor=\"middle\" x=\"1176\" y=\"-57.8\" font-family=\"Times,serif\" font-size=\"14.00\">1</text>\n",
       "</g>\n",
       "<!-- b4 -->\n",
       "<g id=\"node5\" class=\"node\">\n",
       "<title>b4</title>\n",
       "<polygon fill=\"none\" stroke=\"black\" points=\"1682,-36 1275,-36 1275,0 1682,0 1682,-36\"/>\n",
       "<text text-anchor=\"start\" x=\"1448\" y=\"-19.8\" font-family=\"Times,serif\" font-size=\"14.00\">pg+=x&gt;&gt;1</text>\n",
       "<text text-anchor=\"start\" x=\"1283\" y=\"-9\" font-family=\"monospace\" font-size=\"10.00\">x_bitsize=2, phase_bitsize=3, right_shift=1, sign=1, controlled=1</text>\n",
       "</g>\n",
       "<!-- b0&#45;&gt;b4 -->\n",
       "<g id=\"edge4\" class=\"edge\">\n",
       "<title>b0-&gt;b4</title>\n",
       "<path fill=\"none\" stroke=\"black\" d=\"M1308.35,-86.9C1342.36,-73.33 1390.06,-54.29 1426.3,-39.83\"/>\n",
       "<polygon fill=\"black\" stroke=\"black\" points=\"1427.73,-43.03 1435.72,-36.07 1425.14,-36.53 1427.73,-43.03\"/>\n",
       "<text text-anchor=\"middle\" x=\"1389\" y=\"-57.8\" font-family=\"Times,serif\" font-size=\"14.00\">1</text>\n",
       "</g>\n",
       "<!-- b5 -->\n",
       "<g id=\"node6\" class=\"node\">\n",
       "<title>b5</title>\n",
       "<polygon fill=\"none\" stroke=\"black\" points=\"1774.5,-36 1700.5,-36 1700.5,0 1774.5,0 1774.5,-36\"/>\n",
       "<text text-anchor=\"start\" x=\"1708.5\" y=\"-14.3\" font-family=\"Times,serif\" font-size=\"14.00\">Hadamard</text>\n",
       "</g>\n",
       "<!-- b0&#45;&gt;b5 -->\n",
       "<g id=\"edge5\" class=\"edge\">\n",
       "<title>b0-&gt;b5</title>\n",
       "<path fill=\"none\" stroke=\"black\" d=\"M1409.03,-87.88C1492.06,-76.86 1598.08,-59.88 1690.5,-36 1690.6,-35.97 1690.7,-35.95 1690.8,-35.92\"/>\n",
       "<polygon fill=\"black\" stroke=\"black\" points=\"1691.61,-39.33 1700.24,-33.19 1689.67,-32.61 1691.61,-39.33\"/>\n",
       "<text text-anchor=\"middle\" x=\"1614\" y=\"-57.8\" font-family=\"Times,serif\" font-size=\"14.00\">6</text>\n",
       "</g>\n",
       "<!-- b6 -->\n",
       "<g id=\"node7\" class=\"node\">\n",
       "<title>b6</title>\n",
       "<polygon fill=\"none\" stroke=\"black\" points=\"1880.5,-36 1792.5,-36 1792.5,0 1880.5,0 1880.5,-36\"/>\n",
       "<text text-anchor=\"start\" x=\"1800.5\" y=\"-14.3\" font-family=\"Times,serif\" font-size=\"14.00\">TwoBitSwap</text>\n",
       "</g>\n",
       "<!-- b0&#45;&gt;b6 -->\n",
       "<g id=\"edge6\" class=\"edge\">\n",
       "<title>b0-&gt;b6</title>\n",
       "<path fill=\"none\" stroke=\"black\" d=\"M1409.16,-94.84C1511.6,-86.03 1652.26,-69.3 1782.6,-36.08\"/>\n",
       "<polygon fill=\"black\" stroke=\"black\" points=\"1783.55,-39.45 1792.36,-33.56 1781.8,-32.67 1783.55,-39.45\"/>\n",
       "<text text-anchor=\"middle\" x=\"1704\" y=\"-57.8\" font-family=\"Times,serif\" font-size=\"14.00\">3</text>\n",
       "</g>\n",
       "</g>\n",
       "</svg>"
      ],
      "text/plain": [
       "<IPython.core.display.SVG object>"
      ]
     },
     "metadata": {},
     "output_type": "display_data"
    },
    {
     "data": {
      "text/markdown": [
       "#### Counts totals:\n",
       " - `AddIntoPhaseGrad(x_bitsize=1, phase_bitsize=2, right_shift=1, sign=1, controlled=1)`: 1\n",
       " - `AddIntoPhaseGrad(x_bitsize=2, phase_bitsize=3, right_shift=1, sign=1, controlled=1)`: 1\n",
       " - `AddIntoPhaseGrad(x_bitsize=3, phase_bitsize=4, right_shift=1, sign=1, controlled=1)`: 1\n",
       " - `AddIntoPhaseGrad(x_bitsize=4, phase_bitsize=5, right_shift=1, sign=1, controlled=1)`: 2\n",
       " - `Hadamard()`: 6\n",
       " - `TwoBitSwap()`: 3"
      ],
      "text/plain": [
       "<IPython.core.display.Markdown object>"
      ]
     },
     "metadata": {},
     "output_type": "display_data"
    }
   ],
   "source": [
    "from qualtran.resource_counting.generalizers import ignore_split_join\n",
    "approximate_qft_small_g, approximate_qft_small_sigma = approximate_qft_small.call_graph(max_depth=1, generalizer=ignore_split_join)\n",
    "show_call_graph(approximate_qft_small_g)\n",
    "show_counts_sigma(approximate_qft_small_sigma)"
   ]
  },
  {
   "cell_type": "markdown",
   "id": "c87a398e",
   "metadata": {
    "collapsed": false,
    "jupyter": {
     "outputs_hidden": false
    }
   },
   "source": [
    "## Approximate QFT Cost analysis\n",
    "### T-Count Expression for `ApproximateQFT`"
   ]
  },
  {
   "cell_type": "code",
   "execution_count": 7,
   "id": "ddccb6b7",
   "metadata": {
    "collapsed": false,
    "jupyter": {
     "outputs_hidden": false
    }
   },
   "outputs": [
    {
     "data": {
      "text/latex": [
       "$\\displaystyle n \\left(8 \\left\\lceil{\\operatorname{log}_{2}{\\left(\\frac{\\sqrt{2} \\pi n}{\\epsilon} \\right)}}\\right\\rceil - 16\\right)$"
      ],
      "text/plain": [
       "n*(8*ceiling(log2(sqrt(2)*pi*n/\\epsilon)) - 16)"
      ]
     },
     "execution_count": 7,
     "metadata": {},
     "output_type": "execute_result"
    }
   ],
   "source": [
    "from qualtran.resource_counting.t_counts_from_sigma import t_counts_from_sigma\n",
    "\n",
    "def get_t_counts_aqft(n, eps):\n",
    "    _, sigma = ApproximateQFT.from_epsilon(n, eps).call_graph()\n",
    "    return t_counts_from_sigma(sigma)\n",
    "\n",
    "get_t_counts_aqft(*sympy.symbols('n, \\epsilon'))"
   ]
  }
 ],
 "metadata": {
  "kernelspec": {
   "display_name": "Python 3 (ipykernel)",
   "language": "python",
   "name": "python3"
  },
  "language_info": {
   "codemirror_mode": {
    "name": "ipython",
    "version": 3
   },
   "file_extension": ".py",
   "mimetype": "text/x-python",
   "name": "python",
   "nbconvert_exporter": "python",
   "pygments_lexer": "ipython3",
   "version": "3.11.8"
  },
  "widgets": {
   "application/vnd.jupyter.widget-state+json": {
    "state": {
     "0953b365db47402bab8b959af9940c8f": {
      "model_module": "@jupyter-widgets/base",
      "model_module_version": "2.0.0",
      "model_name": "LayoutModel",
      "state": {
       "_model_module": "@jupyter-widgets/base",
       "_model_module_version": "2.0.0",
       "_model_name": "LayoutModel",
       "_view_count": null,
       "_view_module": "@jupyter-widgets/base",
       "_view_module_version": "2.0.0",
       "_view_name": "LayoutView",
       "align_content": null,
       "align_items": null,
       "align_self": null,
       "border_bottom": null,
       "border_left": null,
       "border_right": null,
       "border_top": null,
       "bottom": null,
       "display": null,
       "flex": null,
       "flex_flow": null,
       "grid_area": null,
       "grid_auto_columns": null,
       "grid_auto_flow": null,
       "grid_auto_rows": null,
       "grid_column": null,
       "grid_gap": null,
       "grid_row": null,
       "grid_template_areas": null,
       "grid_template_columns": null,
       "grid_template_rows": null,
       "height": null,
       "justify_content": null,
       "justify_items": null,
       "left": null,
       "margin": null,
       "max_height": null,
       "max_width": null,
       "min_height": null,
       "min_width": null,
       "object_fit": null,
       "object_position": null,
       "order": null,
       "overflow": null,
       "padding": null,
       "right": null,
       "top": null,
       "visibility": null,
       "width": null
      }
     },
     "9dc2c4675e2b423a9c0e6a5389634040": {
      "model_module": "@jupyter-widgets/output",
      "model_module_version": "1.0.0",
      "model_name": "OutputModel",
      "state": {
       "_dom_classes": [],
       "_model_module": "@jupyter-widgets/output",
       "_model_module_version": "1.0.0",
       "_model_name": "OutputModel",
       "_view_count": null,
       "_view_module": "@jupyter-widgets/output",
       "_view_module_version": "1.0.0",
       "_view_name": "OutputView",
       "layout": "IPY_MODEL_0953b365db47402bab8b959af9940c8f",
       "msg_id": "",
       "outputs": [
        {
         "data": {
          "text/markdown": "`approximate_qft_small`",
          "text/plain": "<IPython.core.display.Markdown object>"
         },
         "metadata": {},
         "output_type": "display_data"
        },
        {
         "data": {
          "image/svg+xml": "<svg xmlns=\"http://www.w3.org/2000/svg\" xmlns:xlink=\"http://www.w3.org/1999/xlink\" width=\"306pt\" height=\"98pt\" viewBox=\"0.00 0.00 306.00 98.00\">\n<g id=\"graph0\" class=\"graph\" transform=\"scale(1 1) rotate(0) translate(4 94)\">\n<title>my_graph</title>\n<polygon fill=\"white\" stroke=\"transparent\" points=\"-4,4 -4,-94 302,-94 302,4 -4,4\"/>\n<!-- q_G4 -->\n<g id=\"node1\" class=\"node\">\n<title>q_G4</title>\n<text text-anchor=\"middle\" x=\"39\" y=\"-68.3\" font-family=\"Times,serif\" font-size=\"14.00\">q</text>\n</g>\n<!-- ApproximateQFT -->\n<g id=\"node3\" class=\"node\">\n<title>ApproximateQFT</title>\n<polygon fill=\"none\" stroke=\"black\" points=\"115,-66 115,-83 183,-83 183,-66 115,-66\"/>\n<text text-anchor=\"start\" x=\"125.5\" y=\"-72\" font-family=\"Times,serif\" font-size=\"10.00\">Approxim..</text>\n<polygon fill=\"none\" stroke=\"black\" points=\"115,-45 115,-66 183,-66 183,-45 115,-45\"/>\n<text text-anchor=\"start\" x=\"145.5\" y=\"-51.8\" font-family=\"Times,serif\" font-size=\"14.00\">q</text>\n<polygon fill=\"none\" stroke=\"black\" points=\"115,-24 115,-45 183,-45 183,-24 115,-24\"/>\n<text text-anchor=\"start\" x=\"118\" y=\"-30.8\" font-family=\"Times,serif\" font-size=\"14.00\">phase_grad</text>\n</g>\n<!-- q_G4&#45;&gt;ApproximateQFT -->\n<g id=\"edge1\" class=\"edge\">\n<title>q_G4:e-&gt;ApproximateQFT:w</title>\n<path fill=\"none\" stroke=\"black\" d=\"M67,-72C88.78,-72 92.3,-56.98 112.95,-56.05\"/>\n<ellipse fill=\"black\" stroke=\"black\" cx=\"114\" cy=\"-56.02\" rx=\"1\" ry=\"1\"/>\n<text text-anchor=\"middle\" x=\"96.5\" y=\"-63\" font-family=\"Times,serif\" font-size=\"10.00\">6</text>\n</g>\n<!-- phase_grad_G5 -->\n<g id=\"node2\" class=\"node\">\n<title>phase_grad_G5</title>\n<text text-anchor=\"middle\" x=\"39\" y=\"-14.3\" font-family=\"Times,serif\" font-size=\"14.00\">phase_grad</text>\n</g>\n<!-- phase_grad_G5&#45;&gt;ApproximateQFT -->\n<g id=\"edge2\" class=\"edge\">\n<title>phase_grad_G5:e-&gt;ApproximateQFT:w</title>\n<path fill=\"none\" stroke=\"black\" d=\"M78,-18C95.22,-18 96.97,-32.77 112.98,-33.93\"/>\n<ellipse fill=\"black\" stroke=\"black\" cx=\"114\" cy=\"-33.96\" rx=\"1\" ry=\"1\"/>\n<text text-anchor=\"middle\" x=\"96.5\" y=\"-29\" font-family=\"Times,serif\" font-size=\"10.00\">5</text>\n</g>\n<!-- q_G2 -->\n<g id=\"node4\" class=\"node\">\n<title>q_G2</title>\n<text text-anchor=\"middle\" x=\"259\" y=\"-68.3\" font-family=\"Times,serif\" font-size=\"14.00\">q</text>\n</g>\n<!-- ApproximateQFT&#45;&gt;q_G2 -->\n<g id=\"edge3\" class=\"edge\">\n<title>ApproximateQFT:e-&gt;q_G2:w</title>\n<path fill=\"none\" stroke=\"black\" d=\"M183,-56C204.78,-56 208.3,-71.02 228.95,-71.95\"/>\n<ellipse fill=\"black\" stroke=\"black\" cx=\"230\" cy=\"-71.98\" rx=\"1\" ry=\"1\"/>\n<text text-anchor=\"middle\" x=\"201.5\" y=\"-63\" font-family=\"Times,serif\" font-size=\"10.00\">6</text>\n</g>\n<!-- phase_grad_G3 -->\n<g id=\"node5\" class=\"node\">\n<title>phase_grad_G3</title>\n<text text-anchor=\"middle\" x=\"259\" y=\"-14.3\" font-family=\"Times,serif\" font-size=\"14.00\">phase_grad</text>\n</g>\n<!-- ApproximateQFT&#45;&gt;phase_grad_G3 -->\n<g id=\"edge4\" class=\"edge\">\n<title>ApproximateQFT:e-&gt;phase_grad_G3:w</title>\n<path fill=\"none\" stroke=\"black\" d=\"M183,-34C200.22,-34 201.97,-19.23 217.98,-18.07\"/>\n<ellipse fill=\"black\" stroke=\"black\" cx=\"219\" cy=\"-18.04\" rx=\"1\" ry=\"1\"/>\n<text text-anchor=\"middle\" x=\"201.5\" y=\"-29\" font-family=\"Times,serif\" font-size=\"10.00\">5</text>\n</g>\n</g>\n</svg>",
          "text/plain": "<IPython.core.display.SVG object>"
         },
         "metadata": {},
         "output_type": "display_data"
        }
       ],
       "tabbable": null,
       "tooltip": null
      }
     },
     "cac33dab3bf34622b2f0a775fc3e23d8": {
      "model_module": "@jupyter-widgets/base",
      "model_module_version": "2.0.0",
      "model_name": "LayoutModel",
      "state": {
       "_model_module": "@jupyter-widgets/base",
       "_model_module_version": "2.0.0",
       "_model_name": "LayoutModel",
       "_view_count": null,
       "_view_module": "@jupyter-widgets/base",
       "_view_module_version": "2.0.0",
       "_view_name": "LayoutView",
       "align_content": null,
       "align_items": null,
       "align_self": null,
       "border_bottom": null,
       "border_left": null,
       "border_right": null,
       "border_top": null,
       "bottom": null,
       "display": null,
       "flex": null,
       "flex_flow": null,
       "grid_area": null,
       "grid_auto_columns": null,
       "grid_auto_flow": null,
       "grid_auto_rows": null,
       "grid_column": null,
       "grid_gap": null,
       "grid_row": null,
       "grid_template_areas": null,
       "grid_template_columns": null,
       "grid_template_rows": null,
       "height": null,
       "justify_content": null,
       "justify_items": null,
       "left": null,
       "margin": null,
       "max_height": null,
       "max_width": null,
       "min_height": null,
       "min_width": null,
       "object_fit": null,
       "object_position": null,
       "order": null,
       "overflow": null,
       "padding": null,
       "right": null,
       "top": null,
       "visibility": null,
       "width": null
      }
     },
     "dd4b3cc16113468fbc33bf26785481ac": {
      "model_module": "@jupyter-widgets/controls",
      "model_module_version": "2.0.0",
      "model_name": "HBoxModel",
      "state": {
       "_dom_classes": [],
       "_model_module": "@jupyter-widgets/controls",
       "_model_module_version": "2.0.0",
       "_model_name": "HBoxModel",
       "_view_count": null,
       "_view_module": "@jupyter-widgets/controls",
       "_view_module_version": "2.0.0",
       "_view_name": "HBoxView",
       "box_style": "",
       "children": [
        "IPY_MODEL_9dc2c4675e2b423a9c0e6a5389634040",
        "IPY_MODEL_e80cd43117db41899eabd480326dac5f"
       ],
       "layout": "IPY_MODEL_cac33dab3bf34622b2f0a775fc3e23d8",
       "tabbable": null,
       "tooltip": null
      }
     },
     "e3644e0f55ce4f8c9ce0a6f7d3963c07": {
      "model_module": "@jupyter-widgets/base",
      "model_module_version": "2.0.0",
      "model_name": "LayoutModel",
      "state": {
       "_model_module": "@jupyter-widgets/base",
       "_model_module_version": "2.0.0",
       "_model_name": "LayoutModel",
       "_view_count": null,
       "_view_module": "@jupyter-widgets/base",
       "_view_module_version": "2.0.0",
       "_view_name": "LayoutView",
       "align_content": null,
       "align_items": null,
       "align_self": null,
       "border_bottom": null,
       "border_left": null,
       "border_right": null,
       "border_top": null,
       "bottom": null,
       "display": null,
       "flex": null,
       "flex_flow": null,
       "grid_area": null,
       "grid_auto_columns": null,
       "grid_auto_flow": null,
       "grid_auto_rows": null,
       "grid_column": null,
       "grid_gap": null,
       "grid_row": null,
       "grid_template_areas": null,
       "grid_template_columns": null,
       "grid_template_rows": null,
       "height": null,
       "justify_content": null,
       "justify_items": null,
       "left": null,
       "margin": null,
       "max_height": null,
       "max_width": null,
       "min_height": null,
       "min_width": null,
       "object_fit": null,
       "object_position": null,
       "order": null,
       "overflow": null,
       "padding": null,
       "right": null,
       "top": null,
       "visibility": null,
       "width": null
      }
     },
     "e80cd43117db41899eabd480326dac5f": {
      "model_module": "@jupyter-widgets/output",
      "model_module_version": "1.0.0",
      "model_name": "OutputModel",
      "state": {
       "_dom_classes": [],
       "_model_module": "@jupyter-widgets/output",
       "_model_module_version": "1.0.0",
       "_model_name": "OutputModel",
       "_view_count": null,
       "_view_module": "@jupyter-widgets/output",
       "_view_module_version": "1.0.0",
       "_view_name": "OutputView",
       "layout": "IPY_MODEL_e3644e0f55ce4f8c9ce0a6f7d3963c07",
       "msg_id": "",
       "outputs": [
        {
         "data": {
          "text/markdown": "`approximate_qft_from_epsilon`",
          "text/plain": "<IPython.core.display.Markdown object>"
         },
         "metadata": {},
         "output_type": "display_data"
        },
        {
         "data": {
          "image/svg+xml": "<svg xmlns=\"http://www.w3.org/2000/svg\" xmlns:xlink=\"http://www.w3.org/1999/xlink\" width=\"306pt\" height=\"98pt\" viewBox=\"0.00 0.00 306.00 98.00\">\n<g id=\"graph0\" class=\"graph\" transform=\"scale(1 1) rotate(0) translate(4 94)\">\n<title>my_graph</title>\n<polygon fill=\"white\" stroke=\"transparent\" points=\"-4,4 -4,-94 302,-94 302,4 -4,4\"/>\n<!-- q_G2 -->\n<g id=\"node1\" class=\"node\">\n<title>q_G2</title>\n<text text-anchor=\"middle\" x=\"39\" y=\"-68.3\" font-family=\"Times,serif\" font-size=\"14.00\">q</text>\n</g>\n<!-- ApproximateQFT -->\n<g id=\"node3\" class=\"node\">\n<title>ApproximateQFT</title>\n<polygon fill=\"none\" stroke=\"black\" points=\"115,-66 115,-83 183,-83 183,-66 115,-66\"/>\n<text text-anchor=\"start\" x=\"125.5\" y=\"-72\" font-family=\"Times,serif\" font-size=\"10.00\">Approxim..</text>\n<polygon fill=\"none\" stroke=\"black\" points=\"115,-45 115,-66 183,-66 183,-45 115,-45\"/>\n<text text-anchor=\"start\" x=\"145.5\" y=\"-51.8\" font-family=\"Times,serif\" font-size=\"14.00\">q</text>\n<polygon fill=\"none\" stroke=\"black\" points=\"115,-24 115,-45 183,-45 183,-24 115,-24\"/>\n<text text-anchor=\"start\" x=\"118\" y=\"-30.8\" font-family=\"Times,serif\" font-size=\"14.00\">phase_grad</text>\n</g>\n<!-- q_G2&#45;&gt;ApproximateQFT -->\n<g id=\"edge1\" class=\"edge\">\n<title>q_G2:e-&gt;ApproximateQFT:w</title>\n<path fill=\"none\" stroke=\"black\" d=\"M67,-72C88.78,-72 92.3,-56.98 112.95,-56.05\"/>\n<ellipse fill=\"black\" stroke=\"black\" cx=\"114\" cy=\"-56.02\" rx=\"1\" ry=\"1\"/>\n<text text-anchor=\"middle\" x=\"96.5\" y=\"-63\" font-family=\"Times,serif\" font-size=\"10.00\">50</text>\n</g>\n<!-- phase_grad_G4 -->\n<g id=\"node2\" class=\"node\">\n<title>phase_grad_G4</title>\n<text text-anchor=\"middle\" x=\"39\" y=\"-14.3\" font-family=\"Times,serif\" font-size=\"14.00\">phase_grad</text>\n</g>\n<!-- phase_grad_G4&#45;&gt;ApproximateQFT -->\n<g id=\"edge2\" class=\"edge\">\n<title>phase_grad_G4:e-&gt;ApproximateQFT:w</title>\n<path fill=\"none\" stroke=\"black\" d=\"M78,-18C95.22,-18 96.97,-32.77 112.98,-33.93\"/>\n<ellipse fill=\"black\" stroke=\"black\" cx=\"114\" cy=\"-33.96\" rx=\"1\" ry=\"1\"/>\n<text text-anchor=\"middle\" x=\"96.5\" y=\"-29\" font-family=\"Times,serif\" font-size=\"10.00\">25</text>\n</g>\n<!-- q_G3 -->\n<g id=\"node4\" class=\"node\">\n<title>q_G3</title>\n<text text-anchor=\"middle\" x=\"259\" y=\"-68.3\" font-family=\"Times,serif\" font-size=\"14.00\">q</text>\n</g>\n<!-- ApproximateQFT&#45;&gt;q_G3 -->\n<g id=\"edge3\" class=\"edge\">\n<title>ApproximateQFT:e-&gt;q_G3:w</title>\n<path fill=\"none\" stroke=\"black\" d=\"M183,-56C204.78,-56 208.3,-71.02 228.95,-71.95\"/>\n<ellipse fill=\"black\" stroke=\"black\" cx=\"230\" cy=\"-71.98\" rx=\"1\" ry=\"1\"/>\n<text text-anchor=\"middle\" x=\"201.5\" y=\"-63\" font-family=\"Times,serif\" font-size=\"10.00\">50</text>\n</g>\n<!-- phase_grad_G1 -->\n<g id=\"node5\" class=\"node\">\n<title>phase_grad_G1</title>\n<text text-anchor=\"middle\" x=\"259\" y=\"-14.3\" font-family=\"Times,serif\" font-size=\"14.00\">phase_grad</text>\n</g>\n<!-- ApproximateQFT&#45;&gt;phase_grad_G1 -->\n<g id=\"edge4\" class=\"edge\">\n<title>ApproximateQFT:e-&gt;phase_grad_G1:w</title>\n<path fill=\"none\" stroke=\"black\" d=\"M183,-34C200.22,-34 201.97,-19.23 217.98,-18.07\"/>\n<ellipse fill=\"black\" stroke=\"black\" cx=\"219\" cy=\"-18.04\" rx=\"1\" ry=\"1\"/>\n<text text-anchor=\"middle\" x=\"201.5\" y=\"-29\" font-family=\"Times,serif\" font-size=\"10.00\">25</text>\n</g>\n</g>\n</svg>",
          "text/plain": "<IPython.core.display.SVG object>"
         },
         "metadata": {},
         "output_type": "display_data"
        }
       ],
       "tabbable": null,
       "tooltip": null
      }
     }
    },
    "version_major": 2,
    "version_minor": 0
   }
  }
 },
 "nbformat": 4,
 "nbformat_minor": 5
}
