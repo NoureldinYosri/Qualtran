{
 "cells": [
  {
   "cell_type": "markdown",
   "id": "a51ebafc",
   "metadata": {
    "cq.autogen": "title_cell"
   },
   "source": [
    "# Approximate QFT"
   ]
  },
  {
   "cell_type": "code",
   "execution_count": 1,
   "id": "01b76cf0",
   "metadata": {
    "cq.autogen": "top_imports"
   },
   "outputs": [],
   "source": [
    "from qualtran import Bloq, CompositeBloq, BloqBuilder, Signature, Register\n",
    "from qualtran import QBit, QInt, QUInt, QAny\n",
    "from qualtran.drawing import show_bloq, show_call_graph, show_counts_sigma\n",
    "from typing import *\n",
    "import numpy as np\n",
    "import sympy\n",
    "import cirq"
   ]
  },
  {
   "cell_type": "markdown",
   "id": "7aba7270",
   "metadata": {
    "cq.autogen": "ApproximateQFT.bloq_doc.md"
   },
   "source": [
    "## `ApproximateQFT`\n",
    "An approximate QFT in which phase shifts smaller than a certain threshold are deleted.\n",
    "\n",
    "Given a b-bit phase gradient state $|\\phi\\rangle$ prepared as\n",
    "\n",
    "$$\n",
    "    |\\phi\\rangle = \\frac{1}{\\sqrt{2^{b}}} \\sum_{k=0}^{2^{b} - 1} \\omega_{b}^{-k} |k\\rangle\n",
    "$$\n",
    "\n",
    "Phase gradient rotations can be synthesized via additions into the phase gradient register.\n",
    "This leads to significant reductions in T/Toffoli complexity and requires 0 arbitrary\n",
    "rotations (given a one-time cost to prepare the gradient register). See the linked reference\n",
    "for more details.\n",
    "\n",
    "The QFT uses exponentially small z-power gates. In practice, it is often sufficient to perform\n",
    "an approximate qft, where z-power gates smaller than a certain threshold are dropped. When using\n",
    "the \"add into phase-gradient trick\", this amounts to doing smaller additions with a smaller\n",
    "phase gradient register.\n",
    "\n",
    "#### Parameters\n",
    " - `bitsize`: Size of input register to apply QFT on.\n",
    " - `phase_bitsize`: The size of the phase gradient register. Defaults to being math.ceil(math.log2(bitsize)).\n",
    " - `with_reverse`: Whether or not to include the swaps at the end of the circuit decomposition that reverse the order of the qubits. If True, the swaps are inserted. Defaults to True. These are technically necessary in order to perform the correct effect, but can almost always be optimized away by just performing later operations on different qubits. \n",
    "\n",
    "#### References\n",
    " - [Turning Gradients into Additions into QFTs](https://algassert.com/post/1620). Gidney, C. 2016.\n",
    " - [Approximation Errors](https://arxiv.org/abs/quant-ph/0008056). Panike, N. 2000.\n"
   ]
  },
  {
   "cell_type": "code",
   "execution_count": 2,
   "id": "33e7066d",
   "metadata": {
    "cq.autogen": "ApproximateQFT.bloq_doc.py"
   },
   "outputs": [],
   "source": [
    "from qualtran.bloqs.qft.approximate_qft import ApproximateQFT"
   ]
  },
  {
   "cell_type": "markdown",
   "id": "1a671529",
   "metadata": {
    "cq.autogen": "ApproximateQFT.example_instances.md"
   },
   "source": [
    "### Example Instances"
   ]
  },
  {
   "cell_type": "code",
   "execution_count": 3,
   "id": "bf4ea035",
   "metadata": {
    "cq.autogen": "ApproximateQFT.approximate_qft_small"
   },
   "outputs": [],
   "source": [
    "approximate_qft_small = ApproximateQFT(6, 5)"
   ]
  },
  {
   "cell_type": "code",
   "execution_count": 4,
   "id": "4ceb3153",
   "metadata": {
    "cq.autogen": "ApproximateQFT.approximate_qft_from_epsilon"
   },
   "outputs": [],
   "source": [
    "epsilon = 1e-5\n",
    "approximate_qft_from_epsilon = ApproximateQFT.from_epsilon(50, epsilon)"
   ]
  },
  {
   "cell_type": "markdown",
   "id": "37c030d1",
   "metadata": {
    "cq.autogen": "ApproximateQFT.graphical_signature.md"
   },
   "source": [
    "#### Graphical Signature"
   ]
  },
  {
   "cell_type": "code",
   "execution_count": 5,
   "id": "809692b7",
   "metadata": {
    "cq.autogen": "ApproximateQFT.graphical_signature.py"
   },
   "outputs": [
    {
     "data": {
      "application/vnd.jupyter.widget-view+json": {
       "model_id": "0c60633f08b84db584bbc6e4046ff486",
       "version_major": 2,
       "version_minor": 0
      },
      "text/plain": [
       "HBox(children=(Output(outputs=({'output_type': 'display_data', 'data': {'text/plain': '<IPython.core.display.M…"
      ]
     },
     "metadata": {},
     "output_type": "display_data"
    }
   ],
   "source": [
    "from qualtran.drawing import show_bloqs\n",
    "show_bloqs([approximate_qft_small, approximate_qft_from_epsilon],\n",
    "           ['`approximate_qft_small`', '`approximate_qft_from_epsilon`'])"
   ]
  },
  {
   "cell_type": "markdown",
   "id": "23fc1278",
   "metadata": {
    "cq.autogen": "ApproximateQFT.call_graph.md"
   },
   "source": [
    "### Call Graph"
   ]
  },
  {
   "cell_type": "code",
   "execution_count": 6,
   "id": "bc42b5b7",
   "metadata": {
    "cq.autogen": "ApproximateQFT.call_graph.py"
   },
   "outputs": [
    {
     "data": {
      "image/svg+xml": [
       "<svg xmlns=\"http://www.w3.org/2000/svg\" xmlns:xlink=\"http://www.w3.org/1999/xlink\" width=\"1962pt\" height=\"131pt\" viewBox=\"0.00 0.00 1961.50 131.00\">\n",
       "<g id=\"graph0\" class=\"graph\" transform=\"scale(1 1) rotate(0) translate(4 127)\">\n",
       "<title>counts</title>\n",
       "<polygon fill=\"white\" stroke=\"transparent\" points=\"-4,4 -4,-127 1957.5,-127 1957.5,4 -4,4\"/>\n",
       "<!-- b0 -->\n",
       "<g id=\"node1\" class=\"node\">\n",
       "<title>b0</title>\n",
       "<polygon fill=\"none\" stroke=\"black\" points=\"1113,-123 826,-123 826,-87 1113,-87 1113,-123\"/>\n",
       "<text text-anchor=\"start\" x=\"920.5\" y=\"-106.8\" font-family=\"Times,serif\" font-size=\"14.00\">ApproximateQFT</text>\n",
       "<text text-anchor=\"start\" x=\"834\" y=\"-96\" font-family=\"monospace\" font-size=\"10.00\">bitsize=6, phase_bitsize=5, with_reverse=True</text>\n",
       "</g>\n",
       "<!-- b1 -->\n",
       "<g id=\"node2\" class=\"node\">\n",
       "<title>b1</title>\n",
       "<polygon fill=\"none\" stroke=\"black\" points=\"425,-36 0,-36 0,0 425,0 425,-36\"/>\n",
       "<text text-anchor=\"start\" x=\"182\" y=\"-19.8\" font-family=\"Times,serif\" font-size=\"14.00\">pg+=x&gt;&gt;1</text>\n",
       "<text text-anchor=\"start\" x=\"8\" y=\"-9\" font-family=\"monospace\" font-size=\"10.00\">x_bitsize=4, phase_bitsize=5, right_shift=1, sign=1, controlled_by=1</text>\n",
       "</g>\n",
       "<!-- b0&#45;&gt;b1 -->\n",
       "<g id=\"edge1\" class=\"edge\">\n",
       "<title>b0-&gt;b1</title>\n",
       "<path fill=\"none\" stroke=\"black\" d=\"M825.74,-91.55C757.18,-85.32 674.04,-77.34 599.5,-69 514.93,-59.54 420.18,-47.33 345.6,-37.34\"/>\n",
       "<polygon fill=\"black\" stroke=\"black\" points=\"346.06,-33.87 335.68,-36.01 345.13,-40.81 346.06,-33.87\"/>\n",
       "<text text-anchor=\"middle\" x=\"603\" y=\"-57.8\" font-family=\"Times,serif\" font-size=\"14.00\">2</text>\n",
       "</g>\n",
       "<!-- b2 -->\n",
       "<g id=\"node3\" class=\"node\">\n",
       "<title>b2</title>\n",
       "<polygon fill=\"none\" stroke=\"black\" points=\"517.5,-36 443.5,-36 443.5,0 517.5,0 517.5,-36\"/>\n",
       "<text text-anchor=\"start\" x=\"451.5\" y=\"-14.3\" font-family=\"Times,serif\" font-size=\"14.00\">Hadamard</text>\n",
       "</g>\n",
       "<!-- b0&#45;&gt;b2 -->\n",
       "<g id=\"edge2\" class=\"edge\">\n",
       "<title>b0-&gt;b2</title>\n",
       "<path fill=\"none\" stroke=\"black\" d=\"M825.87,-89.39C741.09,-79 631.84,-62.52 527.47,-35.98\"/>\n",
       "<polygon fill=\"black\" stroke=\"black\" points=\"528.26,-32.57 517.71,-33.46 526.52,-39.35 528.26,-32.57\"/>\n",
       "<text text-anchor=\"middle\" x=\"687\" y=\"-57.8\" font-family=\"Times,serif\" font-size=\"14.00\">6</text>\n",
       "</g>\n",
       "<!-- b3 -->\n",
       "<g id=\"node4\" class=\"node\">\n",
       "<title>b3</title>\n",
       "<polygon fill=\"none\" stroke=\"black\" points=\"961,-36 536,-36 536,0 961,0 961,-36\"/>\n",
       "<text text-anchor=\"start\" x=\"718\" y=\"-19.8\" font-family=\"Times,serif\" font-size=\"14.00\">pg+=x&gt;&gt;1</text>\n",
       "<text text-anchor=\"start\" x=\"544\" y=\"-9\" font-family=\"monospace\" font-size=\"10.00\">x_bitsize=2, phase_bitsize=3, right_shift=1, sign=1, controlled_by=1</text>\n",
       "</g>\n",
       "<!-- b0&#45;&gt;b3 -->\n",
       "<g id=\"edge3\" class=\"edge\">\n",
       "<title>b0-&gt;b3</title>\n",
       "<path fill=\"none\" stroke=\"black\" d=\"M925.04,-86.9C889.75,-73.33 840.27,-54.29 802.66,-39.83\"/>\n",
       "<polygon fill=\"black\" stroke=\"black\" points=\"803.48,-36.39 792.89,-36.07 800.96,-42.93 803.48,-36.39\"/>\n",
       "<text text-anchor=\"middle\" x=\"876\" y=\"-57.8\" font-family=\"Times,serif\" font-size=\"14.00\">1</text>\n",
       "</g>\n",
       "<!-- b4 -->\n",
       "<g id=\"node5\" class=\"node\">\n",
       "<title>b4</title>\n",
       "<polygon fill=\"none\" stroke=\"black\" points=\"1404,-36 979,-36 979,0 1404,0 1404,-36\"/>\n",
       "<text text-anchor=\"start\" x=\"1161\" y=\"-19.8\" font-family=\"Times,serif\" font-size=\"14.00\">pg+=x&gt;&gt;1</text>\n",
       "<text text-anchor=\"start\" x=\"987\" y=\"-9\" font-family=\"monospace\" font-size=\"10.00\">x_bitsize=3, phase_bitsize=4, right_shift=1, sign=1, controlled_by=1</text>\n",
       "</g>\n",
       "<!-- b0&#45;&gt;b4 -->\n",
       "<g id=\"edge4\" class=\"edge\">\n",
       "<title>b0-&gt;b4</title>\n",
       "<path fill=\"none\" stroke=\"black\" d=\"M1014.16,-86.9C1049.76,-73.27 1099.74,-54.13 1137.57,-39.65\"/>\n",
       "<polygon fill=\"black\" stroke=\"black\" points=\"1138.83,-42.92 1146.91,-36.07 1136.32,-36.38 1138.83,-42.92\"/>\n",
       "<text text-anchor=\"middle\" x=\"1098\" y=\"-57.8\" font-family=\"Times,serif\" font-size=\"14.00\">1</text>\n",
       "</g>\n",
       "<!-- b5 -->\n",
       "<g id=\"node6\" class=\"node\">\n",
       "<title>b5</title>\n",
       "<polygon fill=\"none\" stroke=\"black\" points=\"1847,-36 1422,-36 1422,0 1847,0 1847,-36\"/>\n",
       "<text text-anchor=\"start\" x=\"1604\" y=\"-19.8\" font-family=\"Times,serif\" font-size=\"14.00\">pg+=x&gt;&gt;1</text>\n",
       "<text text-anchor=\"start\" x=\"1430\" y=\"-9\" font-family=\"monospace\" font-size=\"10.00\">x_bitsize=1, phase_bitsize=2, right_shift=1, sign=1, controlled_by=1</text>\n",
       "</g>\n",
       "<!-- b0&#45;&gt;b5 -->\n",
       "<g id=\"edge5\" class=\"edge\">\n",
       "<title>b0-&gt;b5</title>\n",
       "<path fill=\"none\" stroke=\"black\" d=\"M1102.87,-86.95C1215.43,-72.57 1376.17,-52.02 1491.39,-37.29\"/>\n",
       "<polygon fill=\"black\" stroke=\"black\" points=\"1491.87,-40.76 1501.35,-36.02 1490.99,-33.82 1491.87,-40.76\"/>\n",
       "<text text-anchor=\"middle\" x=\"1346\" y=\"-57.8\" font-family=\"Times,serif\" font-size=\"14.00\">1</text>\n",
       "</g>\n",
       "<!-- b6 -->\n",
       "<g id=\"node7\" class=\"node\">\n",
       "<title>b6</title>\n",
       "<polygon fill=\"none\" stroke=\"black\" points=\"1953.5,-36 1865.5,-36 1865.5,0 1953.5,0 1953.5,-36\"/>\n",
       "<text text-anchor=\"start\" x=\"1873.5\" y=\"-14.3\" font-family=\"Times,serif\" font-size=\"14.00\">TwoBitSwap</text>\n",
       "</g>\n",
       "<!-- b0&#45;&gt;b6 -->\n",
       "<g id=\"edge6\" class=\"edge\">\n",
       "<title>b0-&gt;b6</title>\n",
       "<path fill=\"none\" stroke=\"black\" d=\"M1113.16,-103.01C1287.38,-99.55 1589.56,-86.25 1855.37,-35.72\"/>\n",
       "<polygon fill=\"black\" stroke=\"black\" points=\"1856.05,-39.15 1865.21,-33.83 1854.73,-32.28 1856.05,-39.15\"/>\n",
       "<text text-anchor=\"middle\" x=\"1740\" y=\"-57.8\" font-family=\"Times,serif\" font-size=\"14.00\">3</text>\n",
       "</g>\n",
       "</g>\n",
       "</svg>"
      ],
      "text/plain": [
       "<IPython.core.display.SVG object>"
      ]
     },
     "metadata": {},
     "output_type": "display_data"
    },
    {
     "data": {
      "text/markdown": [
       "#### Counts totals:\n",
       " - `AddIntoPhaseGrad(x_bitsize=1, phase_bitsize=2, right_shift=1, sign=1, controlled_by=1)`: 1\n",
       " - `AddIntoPhaseGrad(x_bitsize=2, phase_bitsize=3, right_shift=1, sign=1, controlled_by=1)`: 1\n",
       " - `AddIntoPhaseGrad(x_bitsize=3, phase_bitsize=4, right_shift=1, sign=1, controlled_by=1)`: 1\n",
       " - `AddIntoPhaseGrad(x_bitsize=4, phase_bitsize=5, right_shift=1, sign=1, controlled_by=1)`: 2\n",
       " - `Hadamard()`: 6\n",
       " - `TwoBitSwap()`: 3"
      ],
      "text/plain": [
       "<IPython.core.display.Markdown object>"
      ]
     },
     "metadata": {},
     "output_type": "display_data"
    }
   ],
   "source": [
    "from qualtran.resource_counting.generalizers import ignore_split_join\n",
    "approximate_qft_small_g, approximate_qft_small_sigma = approximate_qft_small.call_graph(max_depth=1, generalizer=ignore_split_join)\n",
    "show_call_graph(approximate_qft_small_g)\n",
    "show_counts_sigma(approximate_qft_small_sigma)"
   ]
  },
  {
   "cell_type": "markdown",
   "id": "c87a398e",
   "metadata": {
    "collapsed": false,
    "jupyter": {
     "outputs_hidden": false
    }
   },
   "source": [
    "## Approximate QFT Cost analysis\n",
    "### T-Count Expression for `ApproximateQFT`"
   ]
  },
  {
   "cell_type": "code",
   "execution_count": 7,
   "id": "ddccb6b7",
   "metadata": {
    "collapsed": false,
    "jupyter": {
     "outputs_hidden": false
    }
   },
   "outputs": [
    {
     "data": {
      "text/latex": [
       "$\\displaystyle n \\left(8 \\left\\lceil{\\operatorname{log}_{2}{\\left(\\frac{\\sqrt{2} \\pi n}{\\epsilon} \\right)}}\\right\\rceil - 16\\right)$"
      ],
      "text/plain": [
       "n*(8*ceiling(log2(sqrt(2)*pi*n/\\epsilon)) - 16)"
      ]
     },
     "execution_count": 7,
     "metadata": {},
     "output_type": "execute_result"
    }
   ],
   "source": [
    "from qualtran.resource_counting.t_counts_from_sigma import t_counts_from_sigma\n",
    "\n",
    "def get_t_counts_aqft(n, eps):\n",
    "    _, sigma = ApproximateQFT.from_epsilon(n, eps).call_graph()\n",
    "    return t_counts_from_sigma(sigma)\n",
    "\n",
    "get_t_counts_aqft(*sympy.symbols('n, \\epsilon'))"
   ]
  }
 ],
 "metadata": {
  "kernelspec": {
   "display_name": "Python 3 (ipykernel)",
   "language": "python",
   "name": "python3"
  },
  "language_info": {
   "codemirror_mode": {
    "name": "ipython",
    "version": 3
   },
   "file_extension": ".py",
   "mimetype": "text/x-python",
   "name": "python",
   "nbconvert_exporter": "python",
   "pygments_lexer": "ipython3",
   "version": "3.11.8"
  },
  "widgets": {
   "application/vnd.jupyter.widget-state+json": {
    "state": {
     "0c60633f08b84db584bbc6e4046ff486": {
      "model_module": "@jupyter-widgets/controls",
      "model_module_version": "2.0.0",
      "model_name": "HBoxModel",
      "state": {
       "_dom_classes": [],
       "_model_module": "@jupyter-widgets/controls",
       "_model_module_version": "2.0.0",
       "_model_name": "HBoxModel",
       "_view_count": null,
       "_view_module": "@jupyter-widgets/controls",
       "_view_module_version": "2.0.0",
       "_view_name": "HBoxView",
       "box_style": "",
       "children": [
        "IPY_MODEL_e13e5827fd21485fb1c393421aaca14d",
        "IPY_MODEL_e517fcee6d294bc38107bc5bf52e7b8f"
       ],
       "layout": "IPY_MODEL_6ba507cf583e490abb52859798788a4e",
       "tabbable": null,
       "tooltip": null
      }
     },
     "6ba507cf583e490abb52859798788a4e": {
      "model_module": "@jupyter-widgets/base",
      "model_module_version": "2.0.0",
      "model_name": "LayoutModel",
      "state": {
       "_model_module": "@jupyter-widgets/base",
       "_model_module_version": "2.0.0",
       "_model_name": "LayoutModel",
       "_view_count": null,
       "_view_module": "@jupyter-widgets/base",
       "_view_module_version": "2.0.0",
       "_view_name": "LayoutView",
       "align_content": null,
       "align_items": null,
       "align_self": null,
       "border_bottom": null,
       "border_left": null,
       "border_right": null,
       "border_top": null,
       "bottom": null,
       "display": null,
       "flex": null,
       "flex_flow": null,
       "grid_area": null,
       "grid_auto_columns": null,
       "grid_auto_flow": null,
       "grid_auto_rows": null,
       "grid_column": null,
       "grid_gap": null,
       "grid_row": null,
       "grid_template_areas": null,
       "grid_template_columns": null,
       "grid_template_rows": null,
       "height": null,
       "justify_content": null,
       "justify_items": null,
       "left": null,
       "margin": null,
       "max_height": null,
       "max_width": null,
       "min_height": null,
       "min_width": null,
       "object_fit": null,
       "object_position": null,
       "order": null,
       "overflow": null,
       "padding": null,
       "right": null,
       "top": null,
       "visibility": null,
       "width": null
      }
     },
     "b0ca90143e6c4205a4fe296a677cd84f": {
      "model_module": "@jupyter-widgets/base",
      "model_module_version": "2.0.0",
      "model_name": "LayoutModel",
      "state": {
       "_model_module": "@jupyter-widgets/base",
       "_model_module_version": "2.0.0",
       "_model_name": "LayoutModel",
       "_view_count": null,
       "_view_module": "@jupyter-widgets/base",
       "_view_module_version": "2.0.0",
       "_view_name": "LayoutView",
       "align_content": null,
       "align_items": null,
       "align_self": null,
       "border_bottom": null,
       "border_left": null,
       "border_right": null,
       "border_top": null,
       "bottom": null,
       "display": null,
       "flex": null,
       "flex_flow": null,
       "grid_area": null,
       "grid_auto_columns": null,
       "grid_auto_flow": null,
       "grid_auto_rows": null,
       "grid_column": null,
       "grid_gap": null,
       "grid_row": null,
       "grid_template_areas": null,
       "grid_template_columns": null,
       "grid_template_rows": null,
       "height": null,
       "justify_content": null,
       "justify_items": null,
       "left": null,
       "margin": null,
       "max_height": null,
       "max_width": null,
       "min_height": null,
       "min_width": null,
       "object_fit": null,
       "object_position": null,
       "order": null,
       "overflow": null,
       "padding": null,
       "right": null,
       "top": null,
       "visibility": null,
       "width": null
      }
     },
     "d04e2e2c71264dac810d6cfb470d2484": {
      "model_module": "@jupyter-widgets/base",
      "model_module_version": "2.0.0",
      "model_name": "LayoutModel",
      "state": {
       "_model_module": "@jupyter-widgets/base",
       "_model_module_version": "2.0.0",
       "_model_name": "LayoutModel",
       "_view_count": null,
       "_view_module": "@jupyter-widgets/base",
       "_view_module_version": "2.0.0",
       "_view_name": "LayoutView",
       "align_content": null,
       "align_items": null,
       "align_self": null,
       "border_bottom": null,
       "border_left": null,
       "border_right": null,
       "border_top": null,
       "bottom": null,
       "display": null,
       "flex": null,
       "flex_flow": null,
       "grid_area": null,
       "grid_auto_columns": null,
       "grid_auto_flow": null,
       "grid_auto_rows": null,
       "grid_column": null,
       "grid_gap": null,
       "grid_row": null,
       "grid_template_areas": null,
       "grid_template_columns": null,
       "grid_template_rows": null,
       "height": null,
       "justify_content": null,
       "justify_items": null,
       "left": null,
       "margin": null,
       "max_height": null,
       "max_width": null,
       "min_height": null,
       "min_width": null,
       "object_fit": null,
       "object_position": null,
       "order": null,
       "overflow": null,
       "padding": null,
       "right": null,
       "top": null,
       "visibility": null,
       "width": null
      }
     },
     "e13e5827fd21485fb1c393421aaca14d": {
      "model_module": "@jupyter-widgets/output",
      "model_module_version": "1.0.0",
      "model_name": "OutputModel",
      "state": {
       "_dom_classes": [],
       "_model_module": "@jupyter-widgets/output",
       "_model_module_version": "1.0.0",
       "_model_name": "OutputModel",
       "_view_count": null,
       "_view_module": "@jupyter-widgets/output",
       "_view_module_version": "1.0.0",
       "_view_name": "OutputView",
       "layout": "IPY_MODEL_d04e2e2c71264dac810d6cfb470d2484",
       "msg_id": "",
       "outputs": [
        {
         "data": {
          "text/markdown": "`approximate_qft_small`",
          "text/plain": "<IPython.core.display.Markdown object>"
         },
         "metadata": {},
         "output_type": "display_data"
        },
        {
         "data": {
          "image/svg+xml": "<svg xmlns=\"http://www.w3.org/2000/svg\" xmlns:xlink=\"http://www.w3.org/1999/xlink\" width=\"306pt\" height=\"98pt\" viewBox=\"0.00 0.00 306.00 98.00\">\n<g id=\"graph0\" class=\"graph\" transform=\"scale(1 1) rotate(0) translate(4 94)\">\n<title>my_graph</title>\n<polygon fill=\"white\" stroke=\"transparent\" points=\"-4,4 -4,-94 302,-94 302,4 -4,4\"/>\n<!-- q_G5 -->\n<g id=\"node1\" class=\"node\">\n<title>q_G5</title>\n<text text-anchor=\"middle\" x=\"39\" y=\"-68.3\" font-family=\"Times,serif\" font-size=\"14.00\">q</text>\n</g>\n<!-- ApproximateQFT -->\n<g id=\"node3\" class=\"node\">\n<title>ApproximateQFT</title>\n<polygon fill=\"none\" stroke=\"black\" points=\"115,-66 115,-83 183,-83 183,-66 115,-66\"/>\n<text text-anchor=\"start\" x=\"125.5\" y=\"-72\" font-family=\"Times,serif\" font-size=\"10.00\">Approxim..</text>\n<polygon fill=\"none\" stroke=\"black\" points=\"115,-45 115,-66 183,-66 183,-45 115,-45\"/>\n<text text-anchor=\"start\" x=\"145.5\" y=\"-51.8\" font-family=\"Times,serif\" font-size=\"14.00\">q</text>\n<polygon fill=\"none\" stroke=\"black\" points=\"115,-24 115,-45 183,-45 183,-24 115,-24\"/>\n<text text-anchor=\"start\" x=\"118\" y=\"-30.8\" font-family=\"Times,serif\" font-size=\"14.00\">phase_grad</text>\n</g>\n<!-- q_G5&#45;&gt;ApproximateQFT -->\n<g id=\"edge1\" class=\"edge\">\n<title>q_G5:e-&gt;ApproximateQFT:w</title>\n<path fill=\"none\" stroke=\"black\" d=\"M67,-72C88.78,-72 92.3,-56.98 112.95,-56.05\"/>\n<ellipse fill=\"black\" stroke=\"black\" cx=\"114\" cy=\"-56.02\" rx=\"1\" ry=\"1\"/>\n<text text-anchor=\"middle\" x=\"96.5\" y=\"-63\" font-family=\"Times,serif\" font-size=\"10.00\">6</text>\n</g>\n<!-- phase_grad_G1 -->\n<g id=\"node2\" class=\"node\">\n<title>phase_grad_G1</title>\n<text text-anchor=\"middle\" x=\"39\" y=\"-14.3\" font-family=\"Times,serif\" font-size=\"14.00\">phase_grad</text>\n</g>\n<!-- phase_grad_G1&#45;&gt;ApproximateQFT -->\n<g id=\"edge2\" class=\"edge\">\n<title>phase_grad_G1:e-&gt;ApproximateQFT:w</title>\n<path fill=\"none\" stroke=\"black\" d=\"M78,-18C95.22,-18 96.97,-32.77 112.98,-33.93\"/>\n<ellipse fill=\"black\" stroke=\"black\" cx=\"114\" cy=\"-33.96\" rx=\"1\" ry=\"1\"/>\n<text text-anchor=\"middle\" x=\"96.5\" y=\"-29\" font-family=\"Times,serif\" font-size=\"10.00\">5</text>\n</g>\n<!-- q_G3 -->\n<g id=\"node4\" class=\"node\">\n<title>q_G3</title>\n<text text-anchor=\"middle\" x=\"259\" y=\"-68.3\" font-family=\"Times,serif\" font-size=\"14.00\">q</text>\n</g>\n<!-- ApproximateQFT&#45;&gt;q_G3 -->\n<g id=\"edge3\" class=\"edge\">\n<title>ApproximateQFT:e-&gt;q_G3:w</title>\n<path fill=\"none\" stroke=\"black\" d=\"M183,-56C204.78,-56 208.3,-71.02 228.95,-71.95\"/>\n<ellipse fill=\"black\" stroke=\"black\" cx=\"230\" cy=\"-71.98\" rx=\"1\" ry=\"1\"/>\n<text text-anchor=\"middle\" x=\"201.5\" y=\"-63\" font-family=\"Times,serif\" font-size=\"10.00\">6</text>\n</g>\n<!-- phase_grad_G0 -->\n<g id=\"node5\" class=\"node\">\n<title>phase_grad_G0</title>\n<text text-anchor=\"middle\" x=\"259\" y=\"-14.3\" font-family=\"Times,serif\" font-size=\"14.00\">phase_grad</text>\n</g>\n<!-- ApproximateQFT&#45;&gt;phase_grad_G0 -->\n<g id=\"edge4\" class=\"edge\">\n<title>ApproximateQFT:e-&gt;phase_grad_G0:w</title>\n<path fill=\"none\" stroke=\"black\" d=\"M183,-34C200.22,-34 201.97,-19.23 217.98,-18.07\"/>\n<ellipse fill=\"black\" stroke=\"black\" cx=\"219\" cy=\"-18.04\" rx=\"1\" ry=\"1\"/>\n<text text-anchor=\"middle\" x=\"201.5\" y=\"-29\" font-family=\"Times,serif\" font-size=\"10.00\">5</text>\n</g>\n</g>\n</svg>",
          "text/plain": "<IPython.core.display.SVG object>"
         },
         "metadata": {},
         "output_type": "display_data"
        }
       ],
       "tabbable": null,
       "tooltip": null
      }
     },
     "e517fcee6d294bc38107bc5bf52e7b8f": {
      "model_module": "@jupyter-widgets/output",
      "model_module_version": "1.0.0",
      "model_name": "OutputModel",
      "state": {
       "_dom_classes": [],
       "_model_module": "@jupyter-widgets/output",
       "_model_module_version": "1.0.0",
       "_model_name": "OutputModel",
       "_view_count": null,
       "_view_module": "@jupyter-widgets/output",
       "_view_module_version": "1.0.0",
       "_view_name": "OutputView",
       "layout": "IPY_MODEL_b0ca90143e6c4205a4fe296a677cd84f",
       "msg_id": "",
       "outputs": [
        {
         "data": {
          "text/markdown": "`approximate_qft_from_epsilon`",
          "text/plain": "<IPython.core.display.Markdown object>"
         },
         "metadata": {},
         "output_type": "display_data"
        },
        {
         "data": {
          "image/svg+xml": "<svg xmlns=\"http://www.w3.org/2000/svg\" xmlns:xlink=\"http://www.w3.org/1999/xlink\" width=\"306pt\" height=\"98pt\" viewBox=\"0.00 0.00 306.00 98.00\">\n<g id=\"graph0\" class=\"graph\" transform=\"scale(1 1) rotate(0) translate(4 94)\">\n<title>my_graph</title>\n<polygon fill=\"white\" stroke=\"transparent\" points=\"-4,4 -4,-94 302,-94 302,4 -4,4\"/>\n<!-- q_G4 -->\n<g id=\"node1\" class=\"node\">\n<title>q_G4</title>\n<text text-anchor=\"middle\" x=\"39\" y=\"-68.3\" font-family=\"Times,serif\" font-size=\"14.00\">q</text>\n</g>\n<!-- ApproximateQFT -->\n<g id=\"node3\" class=\"node\">\n<title>ApproximateQFT</title>\n<polygon fill=\"none\" stroke=\"black\" points=\"115,-66 115,-83 183,-83 183,-66 115,-66\"/>\n<text text-anchor=\"start\" x=\"125.5\" y=\"-72\" font-family=\"Times,serif\" font-size=\"10.00\">Approxim..</text>\n<polygon fill=\"none\" stroke=\"black\" points=\"115,-45 115,-66 183,-66 183,-45 115,-45\"/>\n<text text-anchor=\"start\" x=\"145.5\" y=\"-51.8\" font-family=\"Times,serif\" font-size=\"14.00\">q</text>\n<polygon fill=\"none\" stroke=\"black\" points=\"115,-24 115,-45 183,-45 183,-24 115,-24\"/>\n<text text-anchor=\"start\" x=\"118\" y=\"-30.8\" font-family=\"Times,serif\" font-size=\"14.00\">phase_grad</text>\n</g>\n<!-- q_G4&#45;&gt;ApproximateQFT -->\n<g id=\"edge1\" class=\"edge\">\n<title>q_G4:e-&gt;ApproximateQFT:w</title>\n<path fill=\"none\" stroke=\"black\" d=\"M67,-72C88.78,-72 92.3,-56.98 112.95,-56.05\"/>\n<ellipse fill=\"black\" stroke=\"black\" cx=\"114\" cy=\"-56.02\" rx=\"1\" ry=\"1\"/>\n<text text-anchor=\"middle\" x=\"96.5\" y=\"-63\" font-family=\"Times,serif\" font-size=\"10.00\">50</text>\n</g>\n<!-- phase_grad_G1 -->\n<g id=\"node2\" class=\"node\">\n<title>phase_grad_G1</title>\n<text text-anchor=\"middle\" x=\"39\" y=\"-14.3\" font-family=\"Times,serif\" font-size=\"14.00\">phase_grad</text>\n</g>\n<!-- phase_grad_G1&#45;&gt;ApproximateQFT -->\n<g id=\"edge2\" class=\"edge\">\n<title>phase_grad_G1:e-&gt;ApproximateQFT:w</title>\n<path fill=\"none\" stroke=\"black\" d=\"M78,-18C95.22,-18 96.97,-32.77 112.98,-33.93\"/>\n<ellipse fill=\"black\" stroke=\"black\" cx=\"114\" cy=\"-33.96\" rx=\"1\" ry=\"1\"/>\n<text text-anchor=\"middle\" x=\"96.5\" y=\"-29\" font-family=\"Times,serif\" font-size=\"10.00\">25</text>\n</g>\n<!-- q_G3 -->\n<g id=\"node4\" class=\"node\">\n<title>q_G3</title>\n<text text-anchor=\"middle\" x=\"259\" y=\"-68.3\" font-family=\"Times,serif\" font-size=\"14.00\">q</text>\n</g>\n<!-- ApproximateQFT&#45;&gt;q_G3 -->\n<g id=\"edge3\" class=\"edge\">\n<title>ApproximateQFT:e-&gt;q_G3:w</title>\n<path fill=\"none\" stroke=\"black\" d=\"M183,-56C204.78,-56 208.3,-71.02 228.95,-71.95\"/>\n<ellipse fill=\"black\" stroke=\"black\" cx=\"230\" cy=\"-71.98\" rx=\"1\" ry=\"1\"/>\n<text text-anchor=\"middle\" x=\"201.5\" y=\"-63\" font-family=\"Times,serif\" font-size=\"10.00\">50</text>\n</g>\n<!-- phase_grad_G0 -->\n<g id=\"node5\" class=\"node\">\n<title>phase_grad_G0</title>\n<text text-anchor=\"middle\" x=\"259\" y=\"-14.3\" font-family=\"Times,serif\" font-size=\"14.00\">phase_grad</text>\n</g>\n<!-- ApproximateQFT&#45;&gt;phase_grad_G0 -->\n<g id=\"edge4\" class=\"edge\">\n<title>ApproximateQFT:e-&gt;phase_grad_G0:w</title>\n<path fill=\"none\" stroke=\"black\" d=\"M183,-34C200.22,-34 201.97,-19.23 217.98,-18.07\"/>\n<ellipse fill=\"black\" stroke=\"black\" cx=\"219\" cy=\"-18.04\" rx=\"1\" ry=\"1\"/>\n<text text-anchor=\"middle\" x=\"201.5\" y=\"-29\" font-family=\"Times,serif\" font-size=\"10.00\">25</text>\n</g>\n</g>\n</svg>",
          "text/plain": "<IPython.core.display.SVG object>"
         },
         "metadata": {},
         "output_type": "display_data"
        }
       ],
       "tabbable": null,
       "tooltip": null
      }
     }
    },
    "version_major": 2,
    "version_minor": 0
   }
  }
 },
 "nbformat": 4,
 "nbformat_minor": 5
}
