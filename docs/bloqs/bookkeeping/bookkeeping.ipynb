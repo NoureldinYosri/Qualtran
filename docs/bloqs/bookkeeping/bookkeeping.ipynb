{
 "cells": [
  {
   "cell_type": "markdown",
   "id": "150c4dfe",
   "metadata": {
    "cq.autogen": "title_cell"
   },
   "source": [
    "# Bookkeeping Bloqs\n",
    "\n",
    "Bloqs for virtual operations and register reshaping."
   ]
  },
  {
   "cell_type": "code",
   "execution_count": 1,
   "id": "9ae23b01",
   "metadata": {
    "cq.autogen": "top_imports"
   },
   "outputs": [],
   "source": [
    "from qualtran import Bloq, CompositeBloq, BloqBuilder, Signature, Register\n",
    "from qualtran import QBit, QInt, QUInt, QAny\n",
    "from qualtran.drawing import show_bloq, show_call_graph, show_counts_sigma\n",
    "from typing import *\n",
    "import numpy as np\n",
    "import sympy\n",
    "import cirq"
   ]
  },
  {
   "cell_type": "markdown",
   "id": "5abdd240",
   "metadata": {
    "cq.autogen": "Allocate.bloq_doc.md"
   },
   "source": [
    "## `Allocate`\n",
    "Allocate an `n` bit register.\n",
    "\n",
    "#### Parameters\n",
    " - `dtype`: the quantum data type of the allocated register.\n",
    " - `dirty`: If true, represents a borrowing operation where allocated qubits can be dirty. \n",
    "\n",
    "#### Registers\n",
    " - `reg [right]`: The allocated register.\n"
   ]
  },
  {
   "cell_type": "code",
   "execution_count": 2,
   "id": "07aac208",
   "metadata": {
    "cq.autogen": "Allocate.bloq_doc.py"
   },
   "outputs": [],
   "source": [
    "from qualtran.bloqs.bookkeeping import Allocate"
   ]
  },
  {
   "cell_type": "markdown",
   "id": "b10de857",
   "metadata": {
    "cq.autogen": "Allocate.example_instances.md"
   },
   "source": [
    "### Example Instances"
   ]
  },
  {
   "cell_type": "code",
   "execution_count": 3,
   "id": "68418ff9",
   "metadata": {
    "cq.autogen": "Allocate.alloc"
   },
   "outputs": [],
   "source": [
    "n = sympy.Symbol('n')\n",
    "alloc = Allocate(QUInt(n))"
   ]
  },
  {
   "cell_type": "markdown",
   "id": "edec0a3b",
   "metadata": {
    "cq.autogen": "Allocate.graphical_signature.md"
   },
   "source": [
    "#### Graphical Signature"
   ]
  },
  {
   "cell_type": "code",
   "execution_count": 4,
   "id": "34167337",
   "metadata": {
    "cq.autogen": "Allocate.graphical_signature.py"
   },
   "outputs": [
    {
     "data": {
      "application/vnd.jupyter.widget-view+json": {
       "model_id": "ecdded4d77184f7f92446c49ddcce505",
       "version_major": 2,
       "version_minor": 0
      },
      "text/plain": [
       "HBox(children=(Output(outputs=({'output_type': 'display_data', 'data': {'text/plain': '<IPython.core.display.M…"
      ]
     },
     "metadata": {},
     "output_type": "display_data"
    }
   ],
   "source": [
    "from qualtran.drawing import show_bloqs\n",
    "show_bloqs([alloc],\n",
    "           ['`alloc`'])"
   ]
  },
  {
   "cell_type": "markdown",
   "id": "bd71c1ae",
   "metadata": {
    "cq.autogen": "Allocate.call_graph.md"
   },
   "source": [
    "### Call Graph"
   ]
  },
  {
   "cell_type": "code",
   "execution_count": 5,
   "id": "cf84a40d",
   "metadata": {
    "cq.autogen": "Allocate.call_graph.py"
   },
   "outputs": [
    {
     "data": {
      "image/svg+xml": [
       "<svg xmlns=\"http://www.w3.org/2000/svg\" xmlns:xlink=\"http://www.w3.org/1999/xlink\" width=\"211pt\" height=\"44pt\" viewBox=\"0.00 0.00 211.00 44.00\">\n",
       "<g id=\"graph0\" class=\"graph\" transform=\"scale(1 1) rotate(0) translate(4 40)\">\n",
       "<title>counts</title>\n",
       "<polygon fill=\"white\" stroke=\"transparent\" points=\"-4,4 -4,-40 207,-40 207,4 -4,4\"/>\n",
       "<!-- b0 -->\n",
       "<g id=\"node1\" class=\"node\">\n",
       "<title>b0</title>\n",
       "<polygon fill=\"none\" stroke=\"black\" points=\"203,-36 0,-36 0,0 203,0 203,-36\"/>\n",
       "<text text-anchor=\"start\" x=\"78.5\" y=\"-19.8\" font-family=\"Times,serif\" font-size=\"14.00\">Allocate</text>\n",
       "<text text-anchor=\"start\" x=\"8\" y=\"-9\" font-family=\"monospace\" font-size=\"10.00\">dtype=QUInt(bi ..., dirty=False</text>\n",
       "</g>\n",
       "</g>\n",
       "</svg>"
      ],
      "text/plain": [
       "<IPython.core.display.SVG object>"
      ]
     },
     "metadata": {},
     "output_type": "display_data"
    },
    {
     "data": {
      "text/markdown": [
       "#### Counts totals:\n",
       " - `Allocate`: 1"
      ],
      "text/plain": [
       "<IPython.core.display.Markdown object>"
      ]
     },
     "metadata": {},
     "output_type": "display_data"
    }
   ],
   "source": [
    "from qualtran.resource_counting.generalizers import ignore_split_join\n",
    "alloc_g, alloc_sigma = alloc.call_graph(max_depth=1, generalizer=ignore_split_join)\n",
    "show_call_graph(alloc_g)\n",
    "show_counts_sigma(alloc_sigma)"
   ]
  },
  {
   "cell_type": "markdown",
   "id": "13f15a31",
   "metadata": {
    "cq.autogen": "Free.bloq_doc.md"
   },
   "source": [
    "## `Free`\n",
    "Free (i.e. de-allocate) a register.\n",
    "\n",
    "The tensor decomposition assumes the register is uncomputed and is in the zero\n",
    "state before getting freed. To verify that is the case, one can compute the resulting state\n",
    "vector after freeing qubits and make sure it is normalized.\n",
    "\n",
    "#### Parameters\n",
    " - `dtype`: The quantum data type of the register to be freed.\n",
    " - `dirty`: If true, represents adjoint of a borrowing operation where deallocated qubits were borrowed dirty from another part of the algorithm and must be free'd in the same dirty state. \n",
    "\n",
    "#### Registers\n",
    " - `reg [left]`: The register to free.\n"
   ]
  },
  {
   "cell_type": "code",
   "execution_count": 6,
   "id": "53ace9c4",
   "metadata": {
    "cq.autogen": "Free.bloq_doc.py"
   },
   "outputs": [],
   "source": [
    "from qualtran.bloqs.bookkeeping import Free"
   ]
  },
  {
   "cell_type": "markdown",
   "id": "6375feb7",
   "metadata": {
    "cq.autogen": "Free.example_instances.md"
   },
   "source": [
    "### Example Instances"
   ]
  },
  {
   "cell_type": "code",
   "execution_count": 7,
   "id": "cb31f226",
   "metadata": {
    "cq.autogen": "Free.free"
   },
   "outputs": [],
   "source": [
    "n = sympy.Symbol('n')\n",
    "free = Free(QUInt(n))"
   ]
  },
  {
   "cell_type": "markdown",
   "id": "b4cc0aac",
   "metadata": {
    "cq.autogen": "Free.graphical_signature.md"
   },
   "source": [
    "#### Graphical Signature"
   ]
  },
  {
   "cell_type": "code",
   "execution_count": 8,
   "id": "dff1e1ff",
   "metadata": {
    "cq.autogen": "Free.graphical_signature.py"
   },
   "outputs": [
    {
     "data": {
      "application/vnd.jupyter.widget-view+json": {
       "model_id": "3b29cd13ae9d44189f3e1137eae2fb13",
       "version_major": 2,
       "version_minor": 0
      },
      "text/plain": [
       "HBox(children=(Output(outputs=({'output_type': 'display_data', 'data': {'text/plain': '<IPython.core.display.M…"
      ]
     },
     "metadata": {},
     "output_type": "display_data"
    }
   ],
   "source": [
    "from qualtran.drawing import show_bloqs\n",
    "show_bloqs([free],\n",
    "           ['`free`'])"
   ]
  },
  {
   "cell_type": "markdown",
   "id": "38d79b30",
   "metadata": {
    "cq.autogen": "Free.call_graph.md"
   },
   "source": [
    "### Call Graph"
   ]
  },
  {
   "cell_type": "code",
   "execution_count": 9,
   "id": "768baaed",
   "metadata": {
    "cq.autogen": "Free.call_graph.py"
   },
   "outputs": [
    {
     "data": {
      "image/svg+xml": [
       "<svg xmlns=\"http://www.w3.org/2000/svg\" xmlns:xlink=\"http://www.w3.org/1999/xlink\" width=\"211pt\" height=\"44pt\" viewBox=\"0.00 0.00 211.00 44.00\">\n",
       "<g id=\"graph0\" class=\"graph\" transform=\"scale(1 1) rotate(0) translate(4 40)\">\n",
       "<title>counts</title>\n",
       "<polygon fill=\"white\" stroke=\"transparent\" points=\"-4,4 -4,-40 207,-40 207,4 -4,4\"/>\n",
       "<!-- b0 -->\n",
       "<g id=\"node1\" class=\"node\">\n",
       "<title>b0</title>\n",
       "<polygon fill=\"none\" stroke=\"black\" points=\"203,-36 0,-36 0,0 203,0 203,-36\"/>\n",
       "<text text-anchor=\"start\" x=\"89\" y=\"-19.8\" font-family=\"Times,serif\" font-size=\"14.00\">Free</text>\n",
       "<text text-anchor=\"start\" x=\"8\" y=\"-9\" font-family=\"monospace\" font-size=\"10.00\">dtype=QUInt(bi ..., dirty=False</text>\n",
       "</g>\n",
       "</g>\n",
       "</svg>"
      ],
      "text/plain": [
       "<IPython.core.display.SVG object>"
      ]
     },
     "metadata": {},
     "output_type": "display_data"
    },
    {
     "data": {
      "text/markdown": [
       "#### Counts totals:\n",
       " - `Free`: 1"
      ],
      "text/plain": [
       "<IPython.core.display.Markdown object>"
      ]
     },
     "metadata": {},
     "output_type": "display_data"
    }
   ],
   "source": [
    "from qualtran.resource_counting.generalizers import ignore_split_join\n",
    "free_g, free_sigma = free.call_graph(max_depth=1, generalizer=ignore_split_join)\n",
    "show_call_graph(free_g)\n",
    "show_counts_sigma(free_sigma)"
   ]
  },
  {
   "cell_type": "markdown",
   "id": "37f64a1b",
   "metadata": {
    "cq.autogen": "Split.bloq_doc.md"
   },
   "source": [
    "## `Split`\n",
    "Split a register of a given `dtype` into an array of `QBit`s.\n",
    "\n",
    "A logical operation may be defined on e.g. a quantum integer, but to define its decomposition\n",
    "we must operate on individual bits. `Split` can be used for this purpose. See `Join` for the\n",
    "inverse operation.\n",
    "\n",
    "#### Parameters\n",
    " - `dtype`: The quantum data type of the incoming data that will be split into an array of `QBit`s. \n",
    "\n",
    "#### Registers\n",
    " - `reg`: The register to be split. On its left, it is of the given data type. On the right, it is an array of `QBit()`s of shape `(dtype.num_qubits,)`.\n"
   ]
  },
  {
   "cell_type": "code",
   "execution_count": 10,
   "id": "989a32e4",
   "metadata": {
    "cq.autogen": "Split.bloq_doc.py"
   },
   "outputs": [],
   "source": [
    "from qualtran.bloqs.bookkeeping import Split"
   ]
  },
  {
   "cell_type": "markdown",
   "id": "b637603e",
   "metadata": {
    "cq.autogen": "Split.example_instances.md"
   },
   "source": [
    "### Example Instances"
   ]
  },
  {
   "cell_type": "code",
   "execution_count": 11,
   "id": "51b40d3a",
   "metadata": {
    "cq.autogen": "Split.split"
   },
   "outputs": [],
   "source": [
    "split = Split(QUInt(4))"
   ]
  },
  {
   "cell_type": "markdown",
   "id": "7fe4eb73",
   "metadata": {
    "cq.autogen": "Split.graphical_signature.md"
   },
   "source": [
    "#### Graphical Signature"
   ]
  },
  {
   "cell_type": "code",
   "execution_count": 12,
   "id": "06ab26d2",
   "metadata": {
    "cq.autogen": "Split.graphical_signature.py"
   },
   "outputs": [
    {
     "data": {
      "application/vnd.jupyter.widget-view+json": {
       "model_id": "58b213ee7e6b4c5db0a2fa2f51091015",
       "version_major": 2,
       "version_minor": 0
      },
      "text/plain": [
       "HBox(children=(Output(outputs=({'output_type': 'display_data', 'data': {'text/plain': '<IPython.core.display.M…"
      ]
     },
     "metadata": {},
     "output_type": "display_data"
    }
   ],
   "source": [
    "from qualtran.drawing import show_bloqs\n",
    "show_bloqs([split],\n",
    "           ['`split`'])"
   ]
  },
  {
   "cell_type": "markdown",
   "id": "1de18159",
   "metadata": {
    "cq.autogen": "Join.bloq_doc.md"
   },
   "source": [
    "## `Join`\n",
    "Join an array of `QBit`s into one register of type `dtype`.\n",
    "\n",
    "#### Parameters\n",
    " - `dtype`: The quantum data type of the right (joined) register. \n",
    "\n",
    "#### Registers\n",
    " - `reg`: The register to be joined. On its left, it is an array of qubits. On the right, it is a register of the given data type.\n"
   ]
  },
  {
   "cell_type": "code",
   "execution_count": 13,
   "id": "2e4641c9",
   "metadata": {
    "cq.autogen": "Join.bloq_doc.py"
   },
   "outputs": [],
   "source": [
    "from qualtran.bloqs.bookkeeping import Join"
   ]
  },
  {
   "cell_type": "markdown",
   "id": "6a54320c",
   "metadata": {
    "cq.autogen": "Join.example_instances.md"
   },
   "source": [
    "### Example Instances"
   ]
  },
  {
   "cell_type": "code",
   "execution_count": 14,
   "id": "bc9df57b",
   "metadata": {
    "cq.autogen": "Join.join"
   },
   "outputs": [],
   "source": [
    "join = Join(dtype=QUInt(4))"
   ]
  },
  {
   "cell_type": "markdown",
   "id": "15b2c289",
   "metadata": {
    "cq.autogen": "Join.graphical_signature.md"
   },
   "source": [
    "#### Graphical Signature"
   ]
  },
  {
   "cell_type": "code",
   "execution_count": 15,
   "id": "a16522f5",
   "metadata": {
    "cq.autogen": "Join.graphical_signature.py"
   },
   "outputs": [
    {
     "data": {
      "application/vnd.jupyter.widget-view+json": {
       "model_id": "f34cfc4753564280991356521b5bbc8a",
       "version_major": 2,
       "version_minor": 0
      },
      "text/plain": [
       "HBox(children=(Output(outputs=({'output_type': 'display_data', 'data': {'text/plain': '<IPython.core.display.M…"
      ]
     },
     "metadata": {},
     "output_type": "display_data"
    }
   ],
   "source": [
    "from qualtran.drawing import show_bloqs\n",
    "show_bloqs([join],\n",
    "           ['`join`'])"
   ]
  },
  {
   "cell_type": "markdown",
   "id": "3eeceacd-10ef-471b-b476-6b4f527b0c49",
   "metadata": {},
   "source": [
    "### Combining Split and Join\n",
    "\n",
    "As a brief example, we compose split and join into an identity operation."
   ]
  },
  {
   "cell_type": "code",
   "execution_count": 16,
   "id": "ac2e083b-7a2e-48d0-8d91-dbf148822ea9",
   "metadata": {},
   "outputs": [
    {
     "data": {
      "image/svg+xml": [
       "<svg xmlns=\"http://www.w3.org/2000/svg\" xmlns:xlink=\"http://www.w3.org/1999/xlink\" width=\"251pt\" height=\"51pt\" viewBox=\"0.00 0.00 251.00 51.00\">\n",
       "<g id=\"graph0\" class=\"graph\" transform=\"scale(1 1) rotate(0) translate(4 47)\">\n",
       "<title>my_graph</title>\n",
       "<polygon fill=\"white\" stroke=\"transparent\" points=\"-4,4 -4,-47 247,-47 247,4 -4,4\"/>\n",
       "<!-- x -->\n",
       "<g id=\"node1\" class=\"node\">\n",
       "<title>x</title>\n",
       "<text text-anchor=\"middle\" x=\"27\" y=\"-14.3\" font-family=\"Times,serif\" font-size=\"14.00\">x</text>\n",
       "</g>\n",
       "<!-- Split -->\n",
       "<g id=\"node2\" class=\"node\">\n",
       "<title>Split</title>\n",
       "<polygon fill=\"none\" stroke=\"black\" points=\"91,-30 91,-36 103,-36 103,-30 91,-30\"/>\n",
       "<polygon fill=\"none\" stroke=\"black\" points=\"91,-6 91,-30 97,-30 97,-6 91,-6\"/>\n",
       "<polygon fill=\"none\" stroke=\"black\" points=\"97,-24 97,-30 103,-30 103,-24 97,-24\"/>\n",
       "<polygon fill=\"none\" stroke=\"black\" points=\"97,-18 97,-24 103,-24 103,-18 97,-18\"/>\n",
       "<polygon fill=\"none\" stroke=\"black\" points=\"97,-12 97,-18 103,-18 103,-12 97,-12\"/>\n",
       "<polygon fill=\"none\" stroke=\"black\" points=\"97,-6 97,-12 103,-12 103,-6 97,-6\"/>\n",
       "</g>\n",
       "<!-- x&#45;&gt;Split -->\n",
       "<g id=\"edge1\" class=\"edge\">\n",
       "<title>x:e-&gt;Split:w</title>\n",
       "<path fill=\"none\" stroke=\"black\" d=\"M54,-18C69.67,-18 74.14,-18 88.77,-18\"/>\n",
       "<ellipse fill=\"black\" stroke=\"black\" cx=\"90\" cy=\"-18\" rx=\"1\" ry=\"1\"/>\n",
       "<text text-anchor=\"middle\" x=\"72.5\" y=\"-21\" font-family=\"Times,serif\" font-size=\"10.00\">4</text>\n",
       "</g>\n",
       "<!-- Join -->\n",
       "<g id=\"node3\" class=\"node\">\n",
       "<title>Join</title>\n",
       "<polygon fill=\"none\" stroke=\"black\" points=\"140,-30 140,-36 152,-36 152,-30 140,-30\"/>\n",
       "<polygon fill=\"none\" stroke=\"black\" points=\"140,-24 140,-30 146,-30 146,-24 140,-24\"/>\n",
       "<polygon fill=\"none\" stroke=\"black\" points=\"146,-6 146,-30 152,-30 152,-6 146,-6\"/>\n",
       "<polygon fill=\"none\" stroke=\"black\" points=\"140,-18 140,-24 146,-24 146,-18 140,-18\"/>\n",
       "<polygon fill=\"none\" stroke=\"black\" points=\"140,-12 140,-18 146,-18 146,-12 140,-12\"/>\n",
       "<polygon fill=\"none\" stroke=\"black\" points=\"140,-6 140,-12 146,-12 146,-6 140,-6\"/>\n",
       "</g>\n",
       "<!-- Split&#45;&gt;Join -->\n",
       "<g id=\"edge2\" class=\"edge\">\n",
       "<title>Split:e-&gt;Join:w</title>\n",
       "<path fill=\"none\" stroke=\"black\" d=\"M103,-27C111.3,-27 112.77,-30.88 121,-32 128.84,-33.07 130.9,-28.09 137.72,-27.15\"/>\n",
       "<ellipse fill=\"black\" stroke=\"black\" cx=\"139\" cy=\"-27.07\" rx=\"1\" ry=\"1\"/>\n",
       "<text text-anchor=\"middle\" x=\"121.5\" y=\"-35\" font-family=\"Times,serif\" font-size=\"10.00\">1</text>\n",
       "</g>\n",
       "<!-- Split&#45;&gt;Join -->\n",
       "<g id=\"edge3\" class=\"edge\">\n",
       "<title>Split:e-&gt;Join:w</title>\n",
       "<path fill=\"none\" stroke=\"black\" d=\"M103,-21C118.67,-21 123.14,-21 137.77,-21\"/>\n",
       "<ellipse fill=\"black\" stroke=\"black\" cx=\"139\" cy=\"-21\" rx=\"1\" ry=\"1\"/>\n",
       "<text text-anchor=\"middle\" x=\"121.5\" y=\"-24\" font-family=\"Times,serif\" font-size=\"10.00\">1</text>\n",
       "</g>\n",
       "<!-- Split&#45;&gt;Join -->\n",
       "<g id=\"edge4\" class=\"edge\">\n",
       "<title>Split:e-&gt;Join:w</title>\n",
       "<path fill=\"none\" stroke=\"black\" d=\"M103,-15C118.67,-15 123.14,-15 137.77,-15\"/>\n",
       "<ellipse fill=\"black\" stroke=\"black\" cx=\"139\" cy=\"-15\" rx=\"1\" ry=\"1\"/>\n",
       "<text text-anchor=\"middle\" x=\"121.5\" y=\"-18\" font-family=\"Times,serif\" font-size=\"10.00\">1</text>\n",
       "</g>\n",
       "<!-- Split&#45;&gt;Join -->\n",
       "<g id=\"edge5\" class=\"edge\">\n",
       "<title>Split:e-&gt;Join:w</title>\n",
       "<path fill=\"none\" stroke=\"black\" d=\"M103,-9C118.67,-9 123.14,-9 137.77,-9\"/>\n",
       "<ellipse fill=\"black\" stroke=\"black\" cx=\"139\" cy=\"-9\" rx=\"1\" ry=\"1\"/>\n",
       "<text text-anchor=\"middle\" x=\"121.5\" y=\"-12\" font-family=\"Times,serif\" font-size=\"10.00\">1</text>\n",
       "</g>\n",
       "<!-- x_G8 -->\n",
       "<g id=\"node4\" class=\"node\">\n",
       "<title>x_G8</title>\n",
       "<text text-anchor=\"middle\" x=\"216\" y=\"-14.3\" font-family=\"Times,serif\" font-size=\"14.00\">x</text>\n",
       "</g>\n",
       "<!-- Join&#45;&gt;x_G8 -->\n",
       "<g id=\"edge6\" class=\"edge\">\n",
       "<title>Join:e-&gt;x_G8:w</title>\n",
       "<path fill=\"none\" stroke=\"black\" d=\"M152,-18C167.67,-18 172.14,-18 186.77,-18\"/>\n",
       "<ellipse fill=\"black\" stroke=\"black\" cx=\"188\" cy=\"-18\" rx=\"1\" ry=\"1\"/>\n",
       "<text text-anchor=\"middle\" x=\"170.5\" y=\"-21\" font-family=\"Times,serif\" font-size=\"10.00\">4</text>\n",
       "</g>\n",
       "</g>\n",
       "</svg>"
      ],
      "text/plain": [
       "<IPython.core.display.SVG object>"
      ]
     },
     "metadata": {},
     "output_type": "display_data"
    }
   ],
   "source": [
    "import attrs\n",
    "\n",
    "@attrs.frozen\n",
    "class SplitJoin(Bloq):\n",
    "    n: int\n",
    "\n",
    "    @property\n",
    "    def signature(self) -> Signature:\n",
    "        return Signature([Register('x', QAny(self.n))])\n",
    "\n",
    "    def build_composite_bloq(\n",
    "        self, bb: 'BloqBuilder', *, x: 'Soquet'\n",
    "    ) -> Dict[str, 'Soquet']:\n",
    "        xs = bb.split(x)\n",
    "        x = bb.join(xs)\n",
    "        return {'x': x}\n",
    "\n",
    "split_join = SplitJoin(n=4).decompose_bloq()\n",
    "show_bloq(split_join)"
   ]
  },
  {
   "cell_type": "markdown",
   "id": "e36f4ea3-d77e-43f0-9522-63f4295521a1",
   "metadata": {},
   "source": [
    "In the \"musical score\" diagrams, splits are drawn such that the `dtype` wire is terminated, and the array-of-bits wires are started; and vice-versa for join."
   ]
  },
  {
   "cell_type": "code",
   "execution_count": 17,
   "id": "5aab6f53-6be9-4e6a-946b-c23227cd5e13",
   "metadata": {},
   "outputs": [
    {
     "data": {
      "image/png": "[encoded data removed]",
      "text/plain": [
       "<Figure size 400x440 with 1 Axes>"
      ]
     },
     "metadata": {},
     "output_type": "display_data"
    }
   ],
   "source": [
    "show_bloq(split_join, 'musical_score')"
   ]
  },
  {
   "cell_type": "markdown",
   "id": "668a3eda",
   "metadata": {
    "cq.autogen": "Partition.bloq_doc.md"
   },
   "source": [
    "## `Partition`\n",
    "Partition a generic index into multiple registers.\n",
    "\n",
    "#### Parameters\n",
    " - `n`: The total bitsize of the un-partitioned register\n",
    " - `regs`: Registers to partition into. The `side` attribute is ignored.\n",
    " - `partition`: `False` means un-partition instead. \n",
    "\n",
    "#### Registers\n",
    " - `x`: the un-partitioned register. LEFT by default.\n",
    " - `[user spec]`: The registers provided by the `regs` argument. RIGHT by default.\n"
   ]
  },
  {
   "cell_type": "code",
   "execution_count": 18,
   "id": "f028e493",
   "metadata": {
    "cq.autogen": "Partition.bloq_doc.py"
   },
   "outputs": [],
   "source": [
    "from qualtran.bloqs.bookkeeping import Partition"
   ]
  },
  {
   "cell_type": "markdown",
   "id": "eeef3484",
   "metadata": {
    "cq.autogen": "Partition.example_instances.md"
   },
   "source": [
    "### Example Instances"
   ]
  },
  {
   "cell_type": "code",
   "execution_count": 19,
   "id": "f7a3737a",
   "metadata": {
    "cq.autogen": "Partition.partition"
   },
   "outputs": [],
   "source": [
    "regs = (Register('xx', QAny(2), shape=(2, 3)), Register('yy', QAny(37)))\n",
    "bitsize = sum(reg.total_bits() for reg in regs)\n",
    "partition = Partition(n=bitsize, regs=regs)"
   ]
  },
  {
   "cell_type": "markdown",
   "id": "379dc723",
   "metadata": {
    "cq.autogen": "Partition.graphical_signature.md"
   },
   "source": [
    "#### Graphical Signature"
   ]
  },
  {
   "cell_type": "code",
   "execution_count": 20,
   "id": "eb3b3494",
   "metadata": {
    "cq.autogen": "Partition.graphical_signature.py"
   },
   "outputs": [
    {
     "data": {
      "application/vnd.jupyter.widget-view+json": {
       "model_id": "cfe81c6f162d4eefbc1e22af8c16aea0",
       "version_major": 2,
       "version_minor": 0
      },
      "text/plain": [
       "HBox(children=(Output(outputs=({'output_type': 'display_data', 'data': {'text/plain': '<IPython.core.display.M…"
      ]
     },
     "metadata": {},
     "output_type": "display_data"
    }
   ],
   "source": [
    "from qualtran.drawing import show_bloqs\n",
    "show_bloqs([partition],\n",
    "           ['`partition`'])"
   ]
  },
  {
   "cell_type": "markdown",
   "id": "908912b4-865d-4cce-8e53-a0ac68554ecd",
   "metadata": {},
   "source": [
    "As an example of the utility of `Partition`, we'll use the generic `TestMultiRegister` bloq as an example sub-bloq with many registers. We can wrap it in the `BlackBoxBloq` adapter defined below to abstract away the complicated signature into one register named \"system\"."
   ]
  },
  {
   "cell_type": "code",
   "execution_count": 21,
   "id": "11e572d9-4ce8-42c3-be61-10b85fe41569",
   "metadata": {},
   "outputs": [
    {
     "data": {
      "image/svg+xml": [
       "<svg xmlns=\"http://www.w3.org/2000/svg\" xmlns:xlink=\"http://www.w3.org/1999/xlink\" width=\"282pt\" height=\"314pt\" viewBox=\"0.00 0.00 282.00 314.00\">\n",
       "<g id=\"graph0\" class=\"graph\" transform=\"scale(1 1) rotate(0) translate(4 310)\">\n",
       "<title>my_graph</title>\n",
       "<polygon fill=\"white\" stroke=\"transparent\" points=\"-4,4 -4,-310 278,-310 278,4 -4,4\"/>\n",
       "<!-- xx_G2 -->\n",
       "<g id=\"node1\" class=\"node\">\n",
       "<title>xx_G2</title>\n",
       "<text text-anchor=\"middle\" x=\"30\" y=\"-284.3\" font-family=\"Times,serif\" font-size=\"14.00\">xx</text>\n",
       "</g>\n",
       "<!-- TestMultiRegister -->\n",
       "<g id=\"node7\" class=\"node\">\n",
       "<title>TestMultiRegister</title>\n",
       "<polygon fill=\"none\" stroke=\"black\" points=\"97,-216 97,-233 177,-233 177,-216 97,-216\"/>\n",
       "<text text-anchor=\"start\" x=\"100\" y=\"-222\" font-family=\"Times,serif\" font-size=\"10.00\">TestMultiRegister</text>\n",
       "<polygon fill=\"none\" stroke=\"black\" points=\"97,-195 97,-216 177,-216 177,-195 97,-195\"/>\n",
       "<text text-anchor=\"start\" x=\"130\" y=\"-201.8\" font-family=\"Times,serif\" font-size=\"14.00\">xx</text>\n",
       "<polygon fill=\"none\" stroke=\"black\" points=\"97,-174 97,-195 177,-195 177,-174 97,-174\"/>\n",
       "<text text-anchor=\"start\" x=\"115\" y=\"-180.8\" font-family=\"Times,serif\" font-size=\"14.00\">yy[0, 0]</text>\n",
       "<polygon fill=\"none\" stroke=\"black\" points=\"97,-153 97,-174 177,-174 177,-153 97,-153\"/>\n",
       "<text text-anchor=\"start\" x=\"115\" y=\"-159.8\" font-family=\"Times,serif\" font-size=\"14.00\">yy[0, 1]</text>\n",
       "<polygon fill=\"none\" stroke=\"black\" points=\"97,-132 97,-153 177,-153 177,-132 97,-132\"/>\n",
       "<text text-anchor=\"start\" x=\"115\" y=\"-138.8\" font-family=\"Times,serif\" font-size=\"14.00\">yy[1, 0]</text>\n",
       "<polygon fill=\"none\" stroke=\"black\" points=\"97,-111 97,-132 177,-132 177,-111 97,-111\"/>\n",
       "<text text-anchor=\"start\" x=\"115\" y=\"-117.8\" font-family=\"Times,serif\" font-size=\"14.00\">yy[1, 1]</text>\n",
       "<polygon fill=\"none\" stroke=\"black\" points=\"97,-90 97,-111 177,-111 177,-90 97,-90\"/>\n",
       "<text text-anchor=\"start\" x=\"130.5\" y=\"-96.8\" font-family=\"Times,serif\" font-size=\"14.00\">zz</text>\n",
       "</g>\n",
       "<!-- xx_G2&#45;&gt;TestMultiRegister -->\n",
       "<g id=\"edge1\" class=\"edge\">\n",
       "<title>xx_G2:e-&gt;TestMultiRegister:w</title>\n",
       "<path fill=\"none\" stroke=\"black\" d=\"M58,-288C97.57,-288 58.24,-209.17 94.73,-206.09\"/>\n",
       "<ellipse fill=\"black\" stroke=\"black\" cx=\"96\" cy=\"-206.04\" rx=\"1\" ry=\"1\"/>\n",
       "<text text-anchor=\"middle\" x=\"78.5\" y=\"-228\" font-family=\"Times,serif\" font-size=\"10.00\">1</text>\n",
       "</g>\n",
       "<!-- yy_G5 -->\n",
       "<g id=\"node2\" class=\"node\">\n",
       "<title>yy_G5</title>\n",
       "<text text-anchor=\"middle\" x=\"30\" y=\"-230.3\" font-family=\"Times,serif\" font-size=\"14.00\">yy[0, 0]</text>\n",
       "</g>\n",
       "<!-- yy_G5&#45;&gt;TestMultiRegister -->\n",
       "<g id=\"edge2\" class=\"edge\">\n",
       "<title>yy_G5:e-&gt;TestMultiRegister:w</title>\n",
       "<path fill=\"none\" stroke=\"black\" d=\"M60,-234C86.54,-234 70.64,-187.64 94.86,-185.11\"/>\n",
       "<ellipse fill=\"black\" stroke=\"black\" cx=\"96\" cy=\"-185.05\" rx=\"1\" ry=\"1\"/>\n",
       "<text text-anchor=\"middle\" x=\"78.5\" y=\"-213\" font-family=\"Times,serif\" font-size=\"10.00\">2</text>\n",
       "</g>\n",
       "<!-- yy_G9 -->\n",
       "<g id=\"node3\" class=\"node\">\n",
       "<title>yy_G9</title>\n",
       "<text text-anchor=\"middle\" x=\"30\" y=\"-176.3\" font-family=\"Times,serif\" font-size=\"14.00\">yy[0, 1]</text>\n",
       "</g>\n",
       "<!-- yy_G9&#45;&gt;TestMultiRegister -->\n",
       "<g id=\"edge3\" class=\"edge\">\n",
       "<title>yy_G9:e-&gt;TestMultiRegister:w</title>\n",
       "<path fill=\"none\" stroke=\"black\" d=\"M60,-180C77.22,-180 78.97,-165.23 94.98,-164.07\"/>\n",
       "<ellipse fill=\"black\" stroke=\"black\" cx=\"96\" cy=\"-164.04\" rx=\"1\" ry=\"1\"/>\n",
       "<text text-anchor=\"middle\" x=\"78.5\" y=\"-175\" font-family=\"Times,serif\" font-size=\"10.00\">2</text>\n",
       "</g>\n",
       "<!-- yy_G14 -->\n",
       "<g id=\"node4\" class=\"node\">\n",
       "<title>yy_G14</title>\n",
       "<text text-anchor=\"middle\" x=\"30\" y=\"-122.3\" font-family=\"Times,serif\" font-size=\"14.00\">yy[1, 0]</text>\n",
       "</g>\n",
       "<!-- yy_G14&#45;&gt;TestMultiRegister -->\n",
       "<g id=\"edge4\" class=\"edge\">\n",
       "<title>yy_G14:e-&gt;TestMultiRegister:w</title>\n",
       "<path fill=\"none\" stroke=\"black\" d=\"M60,-126C77.22,-126 78.97,-140.77 94.98,-141.93\"/>\n",
       "<ellipse fill=\"black\" stroke=\"black\" cx=\"96\" cy=\"-141.96\" rx=\"1\" ry=\"1\"/>\n",
       "<text text-anchor=\"middle\" x=\"78.5\" y=\"-137\" font-family=\"Times,serif\" font-size=\"10.00\">2</text>\n",
       "</g>\n",
       "<!-- yy_G17 -->\n",
       "<g id=\"node5\" class=\"node\">\n",
       "<title>yy_G17</title>\n",
       "<text text-anchor=\"middle\" x=\"30\" y=\"-68.3\" font-family=\"Times,serif\" font-size=\"14.00\">yy[1, 1]</text>\n",
       "</g>\n",
       "<!-- yy_G17&#45;&gt;TestMultiRegister -->\n",
       "<g id=\"edge5\" class=\"edge\">\n",
       "<title>yy_G17:e-&gt;TestMultiRegister:w</title>\n",
       "<path fill=\"none\" stroke=\"black\" d=\"M60,-72C86.54,-72 70.64,-118.36 94.86,-120.89\"/>\n",
       "<ellipse fill=\"black\" stroke=\"black\" cx=\"96\" cy=\"-120.95\" rx=\"1\" ry=\"1\"/>\n",
       "<text text-anchor=\"middle\" x=\"78.5\" y=\"-100\" font-family=\"Times,serif\" font-size=\"10.00\">2</text>\n",
       "</g>\n",
       "<!-- zz_G8 -->\n",
       "<g id=\"node6\" class=\"node\">\n",
       "<title>zz_G8</title>\n",
       "<text text-anchor=\"middle\" x=\"30\" y=\"-14.3\" font-family=\"Times,serif\" font-size=\"14.00\">zz</text>\n",
       "</g>\n",
       "<!-- zz_G8&#45;&gt;TestMultiRegister -->\n",
       "<g id=\"edge6\" class=\"edge\">\n",
       "<title>zz_G8:e-&gt;TestMultiRegister:w</title>\n",
       "<path fill=\"none\" stroke=\"black\" d=\"M58,-18C97.57,-18 58.24,-96.83 94.73,-99.91\"/>\n",
       "<ellipse fill=\"black\" stroke=\"black\" cx=\"96\" cy=\"-99.96\" rx=\"1\" ry=\"1\"/>\n",
       "<text text-anchor=\"middle\" x=\"78.5\" y=\"-87\" font-family=\"Times,serif\" font-size=\"10.00\">3</text>\n",
       "</g>\n",
       "<!-- xx_G4 -->\n",
       "<g id=\"node8\" class=\"node\">\n",
       "<title>xx_G4</title>\n",
       "<text text-anchor=\"middle\" x=\"244\" y=\"-284.3\" font-family=\"Times,serif\" font-size=\"14.00\">xx</text>\n",
       "</g>\n",
       "<!-- TestMultiRegister&#45;&gt;xx_G4 -->\n",
       "<g id=\"edge7\" class=\"edge\">\n",
       "<title>TestMultiRegister:e-&gt;xx_G4:w</title>\n",
       "<path fill=\"none\" stroke=\"black\" d=\"M177,-206C216.57,-206 177.24,-284.83 213.73,-287.91\"/>\n",
       "<ellipse fill=\"black\" stroke=\"black\" cx=\"215\" cy=\"-287.96\" rx=\"1\" ry=\"1\"/>\n",
       "<text text-anchor=\"middle\" x=\"195.5\" y=\"-228\" font-family=\"Times,serif\" font-size=\"10.00\">1</text>\n",
       "</g>\n",
       "<!-- yy_G13 -->\n",
       "<g id=\"node9\" class=\"node\">\n",
       "<title>yy_G13</title>\n",
       "<text text-anchor=\"middle\" x=\"244\" y=\"-230.3\" font-family=\"Times,serif\" font-size=\"14.00\">yy[0, 0]</text>\n",
       "</g>\n",
       "<!-- TestMultiRegister&#45;&gt;yy_G13 -->\n",
       "<g id=\"edge8\" class=\"edge\">\n",
       "<title>TestMultiRegister:e-&gt;yy_G13:w</title>\n",
       "<path fill=\"none\" stroke=\"black\" d=\"M177,-185C203.54,-185 187.64,-231.36 211.86,-233.89\"/>\n",
       "<ellipse fill=\"black\" stroke=\"black\" cx=\"213\" cy=\"-233.95\" rx=\"1\" ry=\"1\"/>\n",
       "<text text-anchor=\"middle\" x=\"195.5\" y=\"-213\" font-family=\"Times,serif\" font-size=\"10.00\">2</text>\n",
       "</g>\n",
       "<!-- yy_G3 -->\n",
       "<g id=\"node10\" class=\"node\">\n",
       "<title>yy_G3</title>\n",
       "<text text-anchor=\"middle\" x=\"244\" y=\"-176.3\" font-family=\"Times,serif\" font-size=\"14.00\">yy[0, 1]</text>\n",
       "</g>\n",
       "<!-- TestMultiRegister&#45;&gt;yy_G3 -->\n",
       "<g id=\"edge9\" class=\"edge\">\n",
       "<title>TestMultiRegister:e-&gt;yy_G3:w</title>\n",
       "<path fill=\"none\" stroke=\"black\" d=\"M177,-164C194.22,-164 195.97,-178.77 211.98,-179.93\"/>\n",
       "<ellipse fill=\"black\" stroke=\"black\" cx=\"213\" cy=\"-179.96\" rx=\"1\" ry=\"1\"/>\n",
       "<text text-anchor=\"middle\" x=\"195.5\" y=\"-175\" font-family=\"Times,serif\" font-size=\"10.00\">2</text>\n",
       "</g>\n",
       "<!-- yy_G6 -->\n",
       "<g id=\"node11\" class=\"node\">\n",
       "<title>yy_G6</title>\n",
       "<text text-anchor=\"middle\" x=\"244\" y=\"-122.3\" font-family=\"Times,serif\" font-size=\"14.00\">yy[1, 0]</text>\n",
       "</g>\n",
       "<!-- TestMultiRegister&#45;&gt;yy_G6 -->\n",
       "<g id=\"edge10\" class=\"edge\">\n",
       "<title>TestMultiRegister:e-&gt;yy_G6:w</title>\n",
       "<path fill=\"none\" stroke=\"black\" d=\"M177,-142C194.22,-142 195.97,-127.23 211.98,-126.07\"/>\n",
       "<ellipse fill=\"black\" stroke=\"black\" cx=\"213\" cy=\"-126.04\" rx=\"1\" ry=\"1\"/>\n",
       "<text text-anchor=\"middle\" x=\"195.5\" y=\"-137\" font-family=\"Times,serif\" font-size=\"10.00\">2</text>\n",
       "</g>\n",
       "<!-- yy_G10 -->\n",
       "<g id=\"node12\" class=\"node\">\n",
       "<title>yy_G10</title>\n",
       "<text text-anchor=\"middle\" x=\"244\" y=\"-68.3\" font-family=\"Times,serif\" font-size=\"14.00\">yy[1, 1]</text>\n",
       "</g>\n",
       "<!-- TestMultiRegister&#45;&gt;yy_G10 -->\n",
       "<g id=\"edge11\" class=\"edge\">\n",
       "<title>TestMultiRegister:e-&gt;yy_G10:w</title>\n",
       "<path fill=\"none\" stroke=\"black\" d=\"M177,-121C203.54,-121 187.64,-74.64 211.86,-72.11\"/>\n",
       "<ellipse fill=\"black\" stroke=\"black\" cx=\"213\" cy=\"-72.05\" rx=\"1\" ry=\"1\"/>\n",
       "<text text-anchor=\"middle\" x=\"195.5\" y=\"-100\" font-family=\"Times,serif\" font-size=\"10.00\">2</text>\n",
       "</g>\n",
       "<!-- zz_G11 -->\n",
       "<g id=\"node13\" class=\"node\">\n",
       "<title>zz_G11</title>\n",
       "<text text-anchor=\"middle\" x=\"244\" y=\"-14.3\" font-family=\"Times,serif\" font-size=\"14.00\">zz</text>\n",
       "</g>\n",
       "<!-- TestMultiRegister&#45;&gt;zz_G11 -->\n",
       "<g id=\"edge12\" class=\"edge\">\n",
       "<title>TestMultiRegister:e-&gt;zz_G11:w</title>\n",
       "<path fill=\"none\" stroke=\"black\" d=\"M177,-100C216.57,-100 177.24,-21.17 213.73,-18.09\"/>\n",
       "<ellipse fill=\"black\" stroke=\"black\" cx=\"215\" cy=\"-18.04\" rx=\"1\" ry=\"1\"/>\n",
       "<text text-anchor=\"middle\" x=\"195.5\" y=\"-87\" font-family=\"Times,serif\" font-size=\"10.00\">3</text>\n",
       "</g>\n",
       "</g>\n",
       "</svg>"
      ],
      "text/plain": [
       "<IPython.core.display.SVG object>"
      ]
     },
     "metadata": {},
     "output_type": "display_data"
    }
   ],
   "source": [
    "from qualtran.bloqs.for_testing.many_registers import TestMultiRegister\n",
    "\n",
    "subbloq = TestMultiRegister()\n",
    "show_bloq(subbloq)"
   ]
  },
  {
   "cell_type": "code",
   "execution_count": 22,
   "id": "bc0aeb16-791b-43ee-8877-0a060b8e45aa",
   "metadata": {},
   "outputs": [],
   "source": [
    "import attrs\n",
    "\n",
    "@attrs.frozen\n",
    "class BlackBoxBloq(Bloq):\n",
    "    subbloq: Bloq\n",
    "\n",
    "    @property\n",
    "    def signature(self) -> Signature:\n",
    "        return Signature.build(system=self.bitsize)\n",
    "\n",
    "    @property\n",
    "    def bitsize(self):\n",
    "        return sum(reg.total_bits() for reg in self.subbloq.signature)\n",
    "\n",
    "    def build_composite_bloq(self, bb: 'BloqBuilder', system: 'SoquetT') -> Dict[str, 'Soquet']:\n",
    "        bloq_regs = self.subbloq.signature\n",
    "        partition = Partition(self.bitsize, bloq_regs)\n",
    "        partitioned_vars = bb.add(partition, x=system)\n",
    "        partitioned_vars = bb.add(\n",
    "            self.subbloq, **{reg.name: sp for reg, sp in zip(bloq_regs, partitioned_vars)}\n",
    "        )\n",
    "        system = bb.add(\n",
    "            partition.adjoint(), **{reg.name: sp for reg, sp in zip(bloq_regs, partitioned_vars)}\n",
    "        )\n",
    "        return {'system': system}"
   ]
  },
  {
   "cell_type": "code",
   "execution_count": 23,
   "id": "e3f923a9-acc4-4ebb-a9ef-f160c3adc53b",
   "metadata": {},
   "outputs": [
    {
     "data": {
      "image/svg+xml": [
       "<svg xmlns=\"http://www.w3.org/2000/svg\" xmlns:xlink=\"http://www.w3.org/1999/xlink\" width=\"260pt\" height=\"54pt\" viewBox=\"0.00 0.00 260.00 54.00\">\n",
       "<g id=\"graph0\" class=\"graph\" transform=\"scale(1 1) rotate(0) translate(4 50)\">\n",
       "<title>my_graph</title>\n",
       "<polygon fill=\"white\" stroke=\"transparent\" points=\"-4,4 -4,-50 256,-50 256,4 -4,4\"/>\n",
       "<!-- system_G1 -->\n",
       "<g id=\"node1\" class=\"node\">\n",
       "<title>system_G1</title>\n",
       "<text text-anchor=\"middle\" x=\"27.5\" y=\"-14.3\" font-family=\"Times,serif\" font-size=\"14.00\">system</text>\n",
       "</g>\n",
       "<!-- BlackBoxBloq -->\n",
       "<g id=\"node2\" class=\"node\">\n",
       "<title>BlackBoxBloq</title>\n",
       "<polygon fill=\"none\" stroke=\"black\" points=\"92,-29 92,-46 160,-46 160,-29 92,-29\"/>\n",
       "<text text-anchor=\"start\" x=\"95\" y=\"-35\" font-family=\"Times,serif\" font-size=\"10.00\">BlackBoxBloq</text>\n",
       "<polygon fill=\"none\" stroke=\"black\" points=\"92,-8 92,-29 160,-29 160,-8 92,-8\"/>\n",
       "<text text-anchor=\"start\" x=\"106.5\" y=\"-14.8\" font-family=\"Times,serif\" font-size=\"14.00\">system</text>\n",
       "</g>\n",
       "<!-- system_G1&#45;&gt;BlackBoxBloq -->\n",
       "<g id=\"edge1\" class=\"edge\">\n",
       "<title>system_G1:e-&gt;BlackBoxBloq:w</title>\n",
       "<path fill=\"none\" stroke=\"black\" d=\"M55,-18C70.67,-18 75.14,-18 89.77,-18\"/>\n",
       "<ellipse fill=\"black\" stroke=\"black\" cx=\"91\" cy=\"-18\" rx=\"1\" ry=\"1\"/>\n",
       "<text text-anchor=\"middle\" x=\"73.5\" y=\"-21\" font-family=\"Times,serif\" font-size=\"10.00\">12</text>\n",
       "</g>\n",
       "<!-- system_G2 -->\n",
       "<g id=\"node3\" class=\"node\">\n",
       "<title>system_G2</title>\n",
       "<text text-anchor=\"middle\" x=\"224.5\" y=\"-14.3\" font-family=\"Times,serif\" font-size=\"14.00\">system</text>\n",
       "</g>\n",
       "<!-- BlackBoxBloq&#45;&gt;system_G2 -->\n",
       "<g id=\"edge2\" class=\"edge\">\n",
       "<title>BlackBoxBloq:e-&gt;system_G2:w</title>\n",
       "<path fill=\"none\" stroke=\"black\" d=\"M160,-18C175.67,-18 180.14,-18 194.77,-18\"/>\n",
       "<ellipse fill=\"black\" stroke=\"black\" cx=\"196\" cy=\"-18\" rx=\"1\" ry=\"1\"/>\n",
       "<text text-anchor=\"middle\" x=\"178.5\" y=\"-21\" font-family=\"Times,serif\" font-size=\"10.00\">12</text>\n",
       "</g>\n",
       "</g>\n",
       "</svg>"
      ],
      "text/plain": [
       "<IPython.core.display.SVG object>"
      ]
     },
     "metadata": {},
     "output_type": "display_data"
    }
   ],
   "source": [
    "# The signature is now just one register named \"system\"\n",
    "show_bloq(BlackBoxBloq(subbloq))"
   ]
  },
  {
   "cell_type": "code",
   "execution_count": 24,
   "id": "fb46a8bd-f498-40ba-b76b-27a20e667c2c",
   "metadata": {},
   "outputs": [
    {
     "data": {
      "image/svg+xml": [
       "<svg xmlns=\"http://www.w3.org/2000/svg\" xmlns:xlink=\"http://www.w3.org/1999/xlink\" width=\"472pt\" height=\"172pt\" viewBox=\"0.00 0.00 472.00 172.00\">\n",
       "<g id=\"graph0\" class=\"graph\" transform=\"scale(1 1) rotate(0) translate(4 168)\">\n",
       "<title>my_graph</title>\n",
       "<polygon fill=\"white\" stroke=\"transparent\" points=\"-4,4 -4,-168 468,-168 468,4 -4,4\"/>\n",
       "<!-- system -->\n",
       "<g id=\"node1\" class=\"node\">\n",
       "<title>system</title>\n",
       "<text text-anchor=\"middle\" x=\"27.5\" y=\"-133.3\" font-family=\"Times,serif\" font-size=\"14.00\">system</text>\n",
       "</g>\n",
       "<!-- Partition_G3 -->\n",
       "<g id=\"node4\" class=\"node\">\n",
       "<title>Partition_G3</title>\n",
       "<polygon fill=\"none\" stroke=\"black\" points=\"92.5,-147 92.5,-164 155.5,-164 155.5,-147 92.5,-147\"/>\n",
       "<text text-anchor=\"start\" x=\"106\" y=\"-153\" font-family=\"Times,serif\" font-size=\"10.00\">Partition</text>\n",
       "<polygon fill=\"none\" stroke=\"black\" points=\"92.5,-126 92.5,-147 105.5,-147 105.5,-126 92.5,-126\"/>\n",
       "<text text-anchor=\"start\" x=\"95.5\" y=\"-132.8\" font-family=\"Times,serif\" font-size=\"14.00\">x</text>\n",
       "<polygon fill=\"none\" stroke=\"black\" points=\"105.5,-126 105.5,-147 155.5,-147 155.5,-126 105.5,-126\"/>\n",
       "<polygon fill=\"none\" stroke=\"black\" points=\"92.5,-105 92.5,-126 105.5,-126 105.5,-105 92.5,-105\"/>\n",
       "<polygon fill=\"none\" stroke=\"black\" points=\"105.5,-105 105.5,-126 155.5,-126 155.5,-105 105.5,-105\"/>\n",
       "<text text-anchor=\"start\" x=\"123.5\" y=\"-111.8\" font-family=\"Times,serif\" font-size=\"14.00\">xx</text>\n",
       "<polygon fill=\"none\" stroke=\"black\" points=\"92.5,-84 92.5,-105 105.5,-105 105.5,-84 92.5,-84\"/>\n",
       "<polygon fill=\"none\" stroke=\"black\" points=\"105.5,-84 105.5,-105 155.5,-105 155.5,-84 105.5,-84\"/>\n",
       "<text text-anchor=\"start\" x=\"108.5\" y=\"-90.8\" font-family=\"Times,serif\" font-size=\"14.00\">yy[0, 0]</text>\n",
       "<polygon fill=\"none\" stroke=\"black\" points=\"92.5,-63 92.5,-84 105.5,-84 105.5,-63 92.5,-63\"/>\n",
       "<polygon fill=\"none\" stroke=\"black\" points=\"105.5,-63 105.5,-84 155.5,-84 155.5,-63 105.5,-63\"/>\n",
       "<text text-anchor=\"start\" x=\"108.5\" y=\"-69.8\" font-family=\"Times,serif\" font-size=\"14.00\">yy[0, 1]</text>\n",
       "<polygon fill=\"none\" stroke=\"black\" points=\"92.5,-42 92.5,-63 105.5,-63 105.5,-42 92.5,-42\"/>\n",
       "<polygon fill=\"none\" stroke=\"black\" points=\"105.5,-42 105.5,-63 155.5,-63 155.5,-42 105.5,-42\"/>\n",
       "<text text-anchor=\"start\" x=\"108.5\" y=\"-48.8\" font-family=\"Times,serif\" font-size=\"14.00\">yy[1, 0]</text>\n",
       "<polygon fill=\"none\" stroke=\"black\" points=\"92.5,-21 92.5,-42 105.5,-42 105.5,-21 92.5,-21\"/>\n",
       "<polygon fill=\"none\" stroke=\"black\" points=\"105.5,-21 105.5,-42 155.5,-42 155.5,-21 105.5,-21\"/>\n",
       "<text text-anchor=\"start\" x=\"108.5\" y=\"-27.8\" font-family=\"Times,serif\" font-size=\"14.00\">yy[1, 1]</text>\n",
       "<polygon fill=\"none\" stroke=\"black\" points=\"92.5,0 92.5,-21 105.5,-21 105.5,0 92.5,0\"/>\n",
       "<polygon fill=\"none\" stroke=\"black\" points=\"105.5,0 105.5,-21 155.5,-21 155.5,0 105.5,0\"/>\n",
       "<text text-anchor=\"start\" x=\"124\" y=\"-6.8\" font-family=\"Times,serif\" font-size=\"14.00\">zz</text>\n",
       "</g>\n",
       "<!-- system&#45;&gt;Partition_G3 -->\n",
       "<g id=\"edge1\" class=\"edge\">\n",
       "<title>system:e-&gt;Partition_G3:w</title>\n",
       "<path fill=\"none\" stroke=\"black\" d=\"M55,-137C70.67,-137 75.14,-137 89.77,-137\"/>\n",
       "<ellipse fill=\"black\" stroke=\"black\" cx=\"91\" cy=\"-137\" rx=\"1\" ry=\"1\"/>\n",
       "<text text-anchor=\"middle\" x=\"73.5\" y=\"-140\" font-family=\"Times,serif\" font-size=\"10.00\">12</text>\n",
       "</g>\n",
       "<!-- TestMultiRegister -->\n",
       "<g id=\"node2\" class=\"node\">\n",
       "<title>TestMultiRegister</title>\n",
       "<polygon fill=\"none\" stroke=\"black\" points=\"192,-126 192,-143 272,-143 272,-126 192,-126\"/>\n",
       "<text text-anchor=\"start\" x=\"195\" y=\"-132\" font-family=\"Times,serif\" font-size=\"10.00\">TestMultiRegister</text>\n",
       "<polygon fill=\"none\" stroke=\"black\" points=\"192,-105 192,-126 272,-126 272,-105 192,-105\"/>\n",
       "<text text-anchor=\"start\" x=\"225\" y=\"-111.8\" font-family=\"Times,serif\" font-size=\"14.00\">xx</text>\n",
       "<polygon fill=\"none\" stroke=\"black\" points=\"192,-84 192,-105 272,-105 272,-84 192,-84\"/>\n",
       "<text text-anchor=\"start\" x=\"210\" y=\"-90.8\" font-family=\"Times,serif\" font-size=\"14.00\">yy[0, 0]</text>\n",
       "<polygon fill=\"none\" stroke=\"black\" points=\"192,-63 192,-84 272,-84 272,-63 192,-63\"/>\n",
       "<text text-anchor=\"start\" x=\"210\" y=\"-69.8\" font-family=\"Times,serif\" font-size=\"14.00\">yy[0, 1]</text>\n",
       "<polygon fill=\"none\" stroke=\"black\" points=\"192,-42 192,-63 272,-63 272,-42 192,-42\"/>\n",
       "<text text-anchor=\"start\" x=\"210\" y=\"-48.8\" font-family=\"Times,serif\" font-size=\"14.00\">yy[1, 0]</text>\n",
       "<polygon fill=\"none\" stroke=\"black\" points=\"192,-21 192,-42 272,-42 272,-21 192,-21\"/>\n",
       "<text text-anchor=\"start\" x=\"210\" y=\"-27.8\" font-family=\"Times,serif\" font-size=\"14.00\">yy[1, 1]</text>\n",
       "<polygon fill=\"none\" stroke=\"black\" points=\"192,0 192,-21 272,-21 272,0 192,0\"/>\n",
       "<text text-anchor=\"start\" x=\"225.5\" y=\"-6.8\" font-family=\"Times,serif\" font-size=\"14.00\">zz</text>\n",
       "</g>\n",
       "<!-- Partition -->\n",
       "<g id=\"node3\" class=\"node\">\n",
       "<title>Partition</title>\n",
       "<polygon fill=\"none\" stroke=\"black\" points=\"309.5,-147 309.5,-164 372.5,-164 372.5,-147 309.5,-147\"/>\n",
       "<text text-anchor=\"start\" x=\"323\" y=\"-153\" font-family=\"Times,serif\" font-size=\"10.00\">Partition</text>\n",
       "<polygon fill=\"none\" stroke=\"black\" points=\"309.5,-126 309.5,-147 359.5,-147 359.5,-126 309.5,-126\"/>\n",
       "<polygon fill=\"none\" stroke=\"black\" points=\"359.5,-126 359.5,-147 372.5,-147 372.5,-126 359.5,-126\"/>\n",
       "<text text-anchor=\"start\" x=\"362.5\" y=\"-132.8\" font-family=\"Times,serif\" font-size=\"14.00\">x</text>\n",
       "<polygon fill=\"none\" stroke=\"black\" points=\"309.5,-105 309.5,-126 359.5,-126 359.5,-105 309.5,-105\"/>\n",
       "<text text-anchor=\"start\" x=\"327.5\" y=\"-111.8\" font-family=\"Times,serif\" font-size=\"14.00\">xx</text>\n",
       "<polygon fill=\"none\" stroke=\"black\" points=\"359.5,-105 359.5,-126 372.5,-126 372.5,-105 359.5,-105\"/>\n",
       "<polygon fill=\"none\" stroke=\"black\" points=\"309.5,-84 309.5,-105 359.5,-105 359.5,-84 309.5,-84\"/>\n",
       "<text text-anchor=\"start\" x=\"312.5\" y=\"-90.8\" font-family=\"Times,serif\" font-size=\"14.00\">yy[0, 0]</text>\n",
       "<polygon fill=\"none\" stroke=\"black\" points=\"359.5,-84 359.5,-105 372.5,-105 372.5,-84 359.5,-84\"/>\n",
       "<polygon fill=\"none\" stroke=\"black\" points=\"309.5,-63 309.5,-84 359.5,-84 359.5,-63 309.5,-63\"/>\n",
       "<text text-anchor=\"start\" x=\"312.5\" y=\"-69.8\" font-family=\"Times,serif\" font-size=\"14.00\">yy[0, 1]</text>\n",
       "<polygon fill=\"none\" stroke=\"black\" points=\"359.5,-63 359.5,-84 372.5,-84 372.5,-63 359.5,-63\"/>\n",
       "<polygon fill=\"none\" stroke=\"black\" points=\"309.5,-42 309.5,-63 359.5,-63 359.5,-42 309.5,-42\"/>\n",
       "<text text-anchor=\"start\" x=\"312.5\" y=\"-48.8\" font-family=\"Times,serif\" font-size=\"14.00\">yy[1, 0]</text>\n",
       "<polygon fill=\"none\" stroke=\"black\" points=\"359.5,-42 359.5,-63 372.5,-63 372.5,-42 359.5,-42\"/>\n",
       "<polygon fill=\"none\" stroke=\"black\" points=\"309.5,-21 309.5,-42 359.5,-42 359.5,-21 309.5,-21\"/>\n",
       "<text text-anchor=\"start\" x=\"312.5\" y=\"-27.8\" font-family=\"Times,serif\" font-size=\"14.00\">yy[1, 1]</text>\n",
       "<polygon fill=\"none\" stroke=\"black\" points=\"359.5,-21 359.5,-42 372.5,-42 372.5,-21 359.5,-21\"/>\n",
       "<polygon fill=\"none\" stroke=\"black\" points=\"309.5,0 309.5,-21 359.5,-21 359.5,0 309.5,0\"/>\n",
       "<text text-anchor=\"start\" x=\"328\" y=\"-6.8\" font-family=\"Times,serif\" font-size=\"14.00\">zz</text>\n",
       "<polygon fill=\"none\" stroke=\"black\" points=\"359.5,0 359.5,-21 372.5,-21 372.5,0 359.5,0\"/>\n",
       "</g>\n",
       "<!-- TestMultiRegister&#45;&gt;Partition -->\n",
       "<g id=\"edge8\" class=\"edge\">\n",
       "<title>TestMultiRegister:e-&gt;Partition:w</title>\n",
       "<path fill=\"none\" stroke=\"black\" d=\"M272,-116C287.67,-116 292.14,-116 306.77,-116\"/>\n",
       "<ellipse fill=\"black\" stroke=\"black\" cx=\"308\" cy=\"-116\" rx=\"1\" ry=\"1\"/>\n",
       "<text text-anchor=\"middle\" x=\"290.5\" y=\"-119\" font-family=\"Times,serif\" font-size=\"10.00\">1</text>\n",
       "</g>\n",
       "<!-- TestMultiRegister&#45;&gt;Partition -->\n",
       "<g id=\"edge9\" class=\"edge\">\n",
       "<title>TestMultiRegister:e-&gt;Partition:w</title>\n",
       "<path fill=\"none\" stroke=\"black\" d=\"M272,-95C287.67,-95 292.14,-95 306.77,-95\"/>\n",
       "<ellipse fill=\"black\" stroke=\"black\" cx=\"308\" cy=\"-95\" rx=\"1\" ry=\"1\"/>\n",
       "<text text-anchor=\"middle\" x=\"290.5\" y=\"-98\" font-family=\"Times,serif\" font-size=\"10.00\">2</text>\n",
       "</g>\n",
       "<!-- TestMultiRegister&#45;&gt;Partition -->\n",
       "<g id=\"edge10\" class=\"edge\">\n",
       "<title>TestMultiRegister:e-&gt;Partition:w</title>\n",
       "<path fill=\"none\" stroke=\"black\" d=\"M272,-74C287.68,-74 292.14,-73.09 306.77,-73.01\"/>\n",
       "<ellipse fill=\"black\" stroke=\"black\" cx=\"308\" cy=\"-73\" rx=\"1\" ry=\"1\"/>\n",
       "<text text-anchor=\"middle\" x=\"290.5\" y=\"-77\" font-family=\"Times,serif\" font-size=\"10.00\">2</text>\n",
       "</g>\n",
       "<!-- TestMultiRegister&#45;&gt;Partition -->\n",
       "<g id=\"edge11\" class=\"edge\">\n",
       "<title>TestMultiRegister:e-&gt;Partition:w</title>\n",
       "<path fill=\"none\" stroke=\"black\" d=\"M272,-52C287.67,-52 292.14,-52 306.77,-52\"/>\n",
       "<ellipse fill=\"black\" stroke=\"black\" cx=\"308\" cy=\"-52\" rx=\"1\" ry=\"1\"/>\n",
       "<text text-anchor=\"middle\" x=\"290.5\" y=\"-55\" font-family=\"Times,serif\" font-size=\"10.00\">2</text>\n",
       "</g>\n",
       "<!-- TestMultiRegister&#45;&gt;Partition -->\n",
       "<g id=\"edge12\" class=\"edge\">\n",
       "<title>TestMultiRegister:e-&gt;Partition:w</title>\n",
       "<path fill=\"none\" stroke=\"black\" d=\"M272,-31C287.67,-31 292.14,-31 306.77,-31\"/>\n",
       "<ellipse fill=\"black\" stroke=\"black\" cx=\"308\" cy=\"-31\" rx=\"1\" ry=\"1\"/>\n",
       "<text text-anchor=\"middle\" x=\"290.5\" y=\"-34\" font-family=\"Times,serif\" font-size=\"10.00\">2</text>\n",
       "</g>\n",
       "<!-- TestMultiRegister&#45;&gt;Partition -->\n",
       "<g id=\"edge13\" class=\"edge\">\n",
       "<title>TestMultiRegister:e-&gt;Partition:w</title>\n",
       "<path fill=\"none\" stroke=\"black\" d=\"M272,-10C287.67,-10 292.14,-10 306.77,-10\"/>\n",
       "<ellipse fill=\"black\" stroke=\"black\" cx=\"308\" cy=\"-10\" rx=\"1\" ry=\"1\"/>\n",
       "<text text-anchor=\"middle\" x=\"290.5\" y=\"-13\" font-family=\"Times,serif\" font-size=\"10.00\">3</text>\n",
       "</g>\n",
       "<!-- system_G21 -->\n",
       "<g id=\"node5\" class=\"node\">\n",
       "<title>system_G21</title>\n",
       "<text text-anchor=\"middle\" x=\"436.5\" y=\"-133.3\" font-family=\"Times,serif\" font-size=\"14.00\">system</text>\n",
       "</g>\n",
       "<!-- Partition&#45;&gt;system_G21 -->\n",
       "<g id=\"edge14\" class=\"edge\">\n",
       "<title>Partition:e-&gt;system_G21:w</title>\n",
       "<path fill=\"none\" stroke=\"black\" d=\"M372,-137C387.67,-137 392.14,-137 406.77,-137\"/>\n",
       "<ellipse fill=\"black\" stroke=\"black\" cx=\"408\" cy=\"-137\" rx=\"1\" ry=\"1\"/>\n",
       "<text text-anchor=\"middle\" x=\"390.5\" y=\"-140\" font-family=\"Times,serif\" font-size=\"10.00\">12</text>\n",
       "</g>\n",
       "<!-- Partition_G3&#45;&gt;TestMultiRegister -->\n",
       "<g id=\"edge2\" class=\"edge\">\n",
       "<title>Partition_G3:e-&gt;TestMultiRegister:w</title>\n",
       "<path fill=\"none\" stroke=\"black\" d=\"M155,-116C170.67,-116 175.14,-116 189.77,-116\"/>\n",
       "<ellipse fill=\"black\" stroke=\"black\" cx=\"191\" cy=\"-116\" rx=\"1\" ry=\"1\"/>\n",
       "<text text-anchor=\"middle\" x=\"173.5\" y=\"-119\" font-family=\"Times,serif\" font-size=\"10.00\">1</text>\n",
       "</g>\n",
       "<!-- Partition_G3&#45;&gt;TestMultiRegister -->\n",
       "<g id=\"edge3\" class=\"edge\">\n",
       "<title>Partition_G3:e-&gt;TestMultiRegister:w</title>\n",
       "<path fill=\"none\" stroke=\"black\" d=\"M155,-95C170.67,-95 175.14,-95 189.77,-95\"/>\n",
       "<ellipse fill=\"black\" stroke=\"black\" cx=\"191\" cy=\"-95\" rx=\"1\" ry=\"1\"/>\n",
       "<text text-anchor=\"middle\" x=\"173.5\" y=\"-98\" font-family=\"Times,serif\" font-size=\"10.00\">2</text>\n",
       "</g>\n",
       "<!-- Partition_G3&#45;&gt;TestMultiRegister -->\n",
       "<g id=\"edge4\" class=\"edge\">\n",
       "<title>Partition_G3:e-&gt;TestMultiRegister:w</title>\n",
       "<path fill=\"none\" stroke=\"black\" d=\"M155,-73C170.68,-73 175.14,-73.91 189.77,-73.99\"/>\n",
       "<ellipse fill=\"black\" stroke=\"black\" cx=\"191\" cy=\"-74\" rx=\"1\" ry=\"1\"/>\n",
       "<text text-anchor=\"middle\" x=\"173.5\" y=\"-77\" font-family=\"Times,serif\" font-size=\"10.00\">2</text>\n",
       "</g>\n",
       "<!-- Partition_G3&#45;&gt;TestMultiRegister -->\n",
       "<g id=\"edge5\" class=\"edge\">\n",
       "<title>Partition_G3:e-&gt;TestMultiRegister:w</title>\n",
       "<path fill=\"none\" stroke=\"black\" d=\"M155,-52C170.67,-52 175.14,-52 189.77,-52\"/>\n",
       "<ellipse fill=\"black\" stroke=\"black\" cx=\"191\" cy=\"-52\" rx=\"1\" ry=\"1\"/>\n",
       "<text text-anchor=\"middle\" x=\"173.5\" y=\"-55\" font-family=\"Times,serif\" font-size=\"10.00\">2</text>\n",
       "</g>\n",
       "<!-- Partition_G3&#45;&gt;TestMultiRegister -->\n",
       "<g id=\"edge6\" class=\"edge\">\n",
       "<title>Partition_G3:e-&gt;TestMultiRegister:w</title>\n",
       "<path fill=\"none\" stroke=\"black\" d=\"M155,-31C170.67,-31 175.14,-31 189.77,-31\"/>\n",
       "<ellipse fill=\"black\" stroke=\"black\" cx=\"191\" cy=\"-31\" rx=\"1\" ry=\"1\"/>\n",
       "<text text-anchor=\"middle\" x=\"173.5\" y=\"-34\" font-family=\"Times,serif\" font-size=\"10.00\">2</text>\n",
       "</g>\n",
       "<!-- Partition_G3&#45;&gt;TestMultiRegister -->\n",
       "<g id=\"edge7\" class=\"edge\">\n",
       "<title>Partition_G3:e-&gt;TestMultiRegister:w</title>\n",
       "<path fill=\"none\" stroke=\"black\" d=\"M155,-10C170.67,-10 175.14,-10 189.77,-10\"/>\n",
       "<ellipse fill=\"black\" stroke=\"black\" cx=\"191\" cy=\"-10\" rx=\"1\" ry=\"1\"/>\n",
       "<text text-anchor=\"middle\" x=\"173.5\" y=\"-13\" font-family=\"Times,serif\" font-size=\"10.00\">3</text>\n",
       "</g>\n",
       "</g>\n",
       "</svg>"
      ],
      "text/plain": [
       "<IPython.core.display.SVG object>"
      ]
     },
     "metadata": {},
     "output_type": "display_data"
    }
   ],
   "source": [
    "# The `Partition` bloq partitions the one \"system\" register into the quantum interface\n",
    "# expected by the subbloq (and back again).\n",
    "show_bloq(BlackBoxBloq(subbloq).decompose_bloq())"
   ]
  },
  {
   "cell_type": "markdown",
   "id": "1c79689b",
   "metadata": {
    "cq.autogen": "Cast.bloq_doc.md"
   },
   "source": [
    "## `Cast`\n",
    "Cast a register from one n-bit QDType to another QDType.\n",
    "\n",
    "This re-interprets the register's data type from `inp_dtype` to `out_dtype`.\n",
    "\n",
    "#### Parameters\n",
    " - `inp_dtype`: Input QDType to cast from.\n",
    " - `out_dtype`: Output QDType to cast to.\n",
    " - `shape`: shape of the register to cast. \n",
    "\n",
    "#### Registers\n",
    " - `in`: input register to cast from.\n",
    " - `out`: input register to cast to.\n"
   ]
  },
  {
   "cell_type": "code",
   "execution_count": 25,
   "id": "918357d7",
   "metadata": {
    "cq.autogen": "Cast.bloq_doc.py"
   },
   "outputs": [],
   "source": [
    "from qualtran.bloqs.bookkeeping import Cast"
   ]
  },
  {
   "cell_type": "markdown",
   "id": "73d8af3b",
   "metadata": {
    "cq.autogen": "Cast.example_instances.md"
   },
   "source": [
    "### Example Instances"
   ]
  },
  {
   "cell_type": "code",
   "execution_count": 26,
   "id": "4b780e54",
   "metadata": {
    "cq.autogen": "Cast.cast"
   },
   "outputs": [],
   "source": [
    "from qualtran import QFxp, QInt\n",
    "\n",
    "cast = Cast(QInt(32), QFxp(32, 32))"
   ]
  },
  {
   "cell_type": "markdown",
   "id": "10c93d9d",
   "metadata": {
    "cq.autogen": "Cast.graphical_signature.md"
   },
   "source": [
    "#### Graphical Signature"
   ]
  },
  {
   "cell_type": "code",
   "execution_count": 27,
   "id": "e234de5c",
   "metadata": {
    "cq.autogen": "Cast.graphical_signature.py"
   },
   "outputs": [
    {
     "data": {
      "application/vnd.jupyter.widget-view+json": {
       "model_id": "1cd5aa68991348d1a05174d61bcbf868",
       "version_major": 2,
       "version_minor": 0
      },
      "text/plain": [
       "HBox(children=(Output(outputs=({'output_type': 'display_data', 'data': {'text/plain': '<IPython.core.display.M…"
      ]
     },
     "metadata": {},
     "output_type": "display_data"
    }
   ],
   "source": [
    "from qualtran.drawing import show_bloqs\n",
    "show_bloqs([cast],\n",
    "           ['`cast`'])"
   ]
  },
  {
   "cell_type": "markdown",
   "id": "fad4fc6e-5e44-4c9c-9da5-38d935466ad4",
   "metadata": {},
   "source": [
    "### Annotating diagrams with DTypes\n",
    "\n",
    "Here, we see an example where the `Cast` re-interprets the input `QFxp` register as a `QUInt` so an addition can be performed. We annotate the compute graph wires with their quantum data types by using `type='dtype'` in the call to `show_bloq`."
   ]
  },
  {
   "cell_type": "code",
   "execution_count": 28,
   "id": "acd11981-60bb-4c7d-804f-6972c4e36263",
   "metadata": {},
   "outputs": [
    {
     "data": {
      "image/svg+xml": [
       "<svg xmlns=\"http://www.w3.org/2000/svg\" xmlns:xlink=\"http://www.w3.org/1999/xlink\" width=\"547pt\" height=\"108pt\" viewBox=\"0.00 0.00 547.00 108.00\">\n",
       "<g id=\"graph0\" class=\"graph\" transform=\"scale(1 1) rotate(0) translate(4 104)\">\n",
       "<title>my_graph</title>\n",
       "<polygon fill=\"white\" stroke=\"transparent\" points=\"-4,4 -4,-104 543,-104 543,4 -4,4\"/>\n",
       "<!-- a_G9 -->\n",
       "<g id=\"node1\" class=\"node\">\n",
       "<title>a_G9</title>\n",
       "<text text-anchor=\"middle\" x=\"27\" y=\"-78.3\" font-family=\"Times,serif\" font-size=\"14.00\">a</text>\n",
       "</g>\n",
       "<!-- Add -->\n",
       "<g id=\"node3\" class=\"node\">\n",
       "<title>Add</title>\n",
       "<polygon fill=\"none\" stroke=\"black\" points=\"257.5,-81 257.5,-98 282.5,-98 282.5,-81 257.5,-81\"/>\n",
       "<text text-anchor=\"start\" x=\"260.5\" y=\"-87\" font-family=\"Times,serif\" font-size=\"10.00\">Add</text>\n",
       "<polygon fill=\"none\" stroke=\"black\" points=\"257.5,-60 257.5,-81 282.5,-81 282.5,-60 257.5,-60\"/>\n",
       "<text text-anchor=\"start\" x=\"266.5\" y=\"-66.8\" font-family=\"Times,serif\" font-size=\"14.00\">a</text>\n",
       "<polygon fill=\"none\" stroke=\"black\" points=\"257.5,-39 257.5,-60 282.5,-60 282.5,-39 257.5,-39\"/>\n",
       "<text text-anchor=\"start\" x=\"266.5\" y=\"-45.8\" font-family=\"Times,serif\" font-size=\"14.00\">b</text>\n",
       "</g>\n",
       "<!-- a_G9&#45;&gt;Add -->\n",
       "<g id=\"edge2\" class=\"edge\">\n",
       "<title>a_G9:e-&gt;Add:w</title>\n",
       "<path fill=\"none\" stroke=\"black\" d=\"M54,-82C143.65,-82 166.29,-71.17 254.89,-71\"/>\n",
       "<ellipse fill=\"black\" stroke=\"black\" cx=\"256\" cy=\"-71\" rx=\"1\" ry=\"1\"/>\n",
       "<text text-anchor=\"middle\" x=\"159\" y=\"-81\" font-family=\"Times,serif\" font-size=\"10.00\">QUInt(4)</text>\n",
       "</g>\n",
       "<!-- b_G4 -->\n",
       "<g id=\"node2\" class=\"node\">\n",
       "<title>b_G4</title>\n",
       "<text text-anchor=\"middle\" x=\"27\" y=\"-14.3\" font-family=\"Times,serif\" font-size=\"14.00\">b</text>\n",
       "</g>\n",
       "<!-- Cast_G0 -->\n",
       "<g id=\"node5\" class=\"node\">\n",
       "<title>Cast_G0</title>\n",
       "<polygon fill=\"none\" stroke=\"black\" points=\"135,-29 135,-46 183,-46 183,-29 135,-29\"/>\n",
       "<text text-anchor=\"start\" x=\"149.5\" y=\"-35\" font-family=\"Times,serif\" font-size=\"10.00\">Cast</text>\n",
       "<polygon fill=\"none\" stroke=\"black\" points=\"135,-8 135,-29 159,-29 159,-8 135,-8\"/>\n",
       "<text text-anchor=\"start\" x=\"138\" y=\"-14.8\" font-family=\"Times,serif\" font-size=\"14.00\">reg</text>\n",
       "<polygon fill=\"none\" stroke=\"black\" points=\"159,-8 159,-29 183,-29 183,-8 159,-8\"/>\n",
       "<text text-anchor=\"start\" x=\"162\" y=\"-14.8\" font-family=\"Times,serif\" font-size=\"14.00\">reg</text>\n",
       "</g>\n",
       "<!-- b_G4&#45;&gt;Cast_G0 -->\n",
       "<g id=\"edge1\" class=\"edge\">\n",
       "<title>b_G4:e-&gt;Cast_G0:w</title>\n",
       "<path fill=\"none\" stroke=\"black\" d=\"M54,-18C89.3,-18 98.64,-18 132.92,-18\"/>\n",
       "<ellipse fill=\"black\" stroke=\"black\" cx=\"134\" cy=\"-18\" rx=\"1\" ry=\"1\"/>\n",
       "<text text-anchor=\"middle\" x=\"94.5\" y=\"-21\" font-family=\"Times,serif\" font-size=\"10.00\">QFxp(4, 4)</text>\n",
       "</g>\n",
       "<!-- Cast -->\n",
       "<g id=\"node4\" class=\"node\">\n",
       "<title>Cast</title>\n",
       "<polygon fill=\"none\" stroke=\"black\" points=\"356,-29 356,-46 404,-46 404,-29 356,-29\"/>\n",
       "<text text-anchor=\"start\" x=\"370.5\" y=\"-35\" font-family=\"Times,serif\" font-size=\"10.00\">Cast</text>\n",
       "<polygon fill=\"none\" stroke=\"black\" points=\"356,-8 356,-29 380,-29 380,-8 356,-8\"/>\n",
       "<text text-anchor=\"start\" x=\"359\" y=\"-14.8\" font-family=\"Times,serif\" font-size=\"14.00\">reg</text>\n",
       "<polygon fill=\"none\" stroke=\"black\" points=\"380,-8 380,-29 404,-29 404,-8 380,-8\"/>\n",
       "<text text-anchor=\"start\" x=\"383\" y=\"-14.8\" font-family=\"Times,serif\" font-size=\"14.00\">reg</text>\n",
       "</g>\n",
       "<!-- Add&#45;&gt;Cast -->\n",
       "<g id=\"edge4\" class=\"edge\">\n",
       "<title>Add:e-&gt;Cast:w</title>\n",
       "<path fill=\"none\" stroke=\"black\" d=\"M282,-49C316.96,-49 320.22,-19.2 353.95,-18.04\"/>\n",
       "<ellipse fill=\"black\" stroke=\"black\" cx=\"355\" cy=\"-18.02\" rx=\"1\" ry=\"1\"/>\n",
       "<text text-anchor=\"middle\" x=\"319\" y=\"-48\" font-family=\"Times,serif\" font-size=\"10.00\">QUInt(4)</text>\n",
       "</g>\n",
       "<!-- a_G2 -->\n",
       "<g id=\"node6\" class=\"node\">\n",
       "<title>a_G2</title>\n",
       "<text text-anchor=\"middle\" x=\"512\" y=\"-78.3\" font-family=\"Times,serif\" font-size=\"14.00\">a</text>\n",
       "</g>\n",
       "<!-- Add&#45;&gt;a_G2 -->\n",
       "<g id=\"edge5\" class=\"edge\">\n",
       "<title>Add:e-&gt;a_G2:w</title>\n",
       "<path fill=\"none\" stroke=\"black\" d=\"M282,-71C371.65,-71 394.29,-81.83 482.89,-82\"/>\n",
       "<ellipse fill=\"black\" stroke=\"black\" cx=\"484\" cy=\"-82\" rx=\"1\" ry=\"1\"/>\n",
       "<text text-anchor=\"middle\" x=\"380\" y=\"-81\" font-family=\"Times,serif\" font-size=\"10.00\">QUInt(4)</text>\n",
       "</g>\n",
       "<!-- b_G3 -->\n",
       "<g id=\"node7\" class=\"node\">\n",
       "<title>b_G3</title>\n",
       "<text text-anchor=\"middle\" x=\"512\" y=\"-14.3\" font-family=\"Times,serif\" font-size=\"14.00\">b</text>\n",
       "</g>\n",
       "<!-- Cast&#45;&gt;b_G3 -->\n",
       "<g id=\"edge6\" class=\"edge\">\n",
       "<title>Cast:e-&gt;b_G3:w</title>\n",
       "<path fill=\"none\" stroke=\"black\" d=\"M404,-18C439.3,-18 448.64,-18 482.92,-18\"/>\n",
       "<ellipse fill=\"black\" stroke=\"black\" cx=\"484\" cy=\"-18\" rx=\"1\" ry=\"1\"/>\n",
       "<text text-anchor=\"middle\" x=\"444.5\" y=\"-21\" font-family=\"Times,serif\" font-size=\"10.00\">QFxp(4, 4)</text>\n",
       "</g>\n",
       "<!-- Cast_G0&#45;&gt;Add -->\n",
       "<g id=\"edge3\" class=\"edge\">\n",
       "<title>Cast_G0:e-&gt;Add:w</title>\n",
       "<path fill=\"none\" stroke=\"black\" d=\"M183,-18C217.96,-18 221.22,-47.8 254.95,-48.96\"/>\n",
       "<ellipse fill=\"black\" stroke=\"black\" cx=\"256\" cy=\"-48.98\" rx=\"1\" ry=\"1\"/>\n",
       "<text text-anchor=\"middle\" x=\"220\" y=\"-48\" font-family=\"Times,serif\" font-size=\"10.00\">QUInt(4)</text>\n",
       "</g>\n",
       "</g>\n",
       "</svg>"
      ],
      "text/plain": [
       "<IPython.core.display.SVG object>"
      ]
     },
     "metadata": {},
     "output_type": "display_data"
    }
   ],
   "source": [
    "from qualtran.bloqs.for_testing import TestCastToFrom\n",
    "show_bloq(TestCastToFrom().decompose_bloq(), type='dtype')"
   ]
  },
  {
   "cell_type": "markdown",
   "id": "b6e0f882",
   "metadata": {
    "cq.autogen": "AutoPartition.bloq_doc.md"
   },
   "source": [
    "## `AutoPartition`\n",
    "Automatically adds and undoes `Partition` of registers to match the signature of a sub-bloq.\n",
    "\n",
    "This tool enables using a bloq in a context expecting an alternative signature that combines\n",
    "registers in the bloq's signature or operates over more registers than the bloq does.\n",
    "For example, it can adapt a bloq exposing multiple selection registers to a quantum interface\n",
    "that expects only one unified selection register.\n",
    "\n",
    "Wrapping in `AutoPartition` also hides splits and joins behind a level of decomposition, which\n",
    "can produce more helpful circuit diagrams compared to manually splitting and joining.\n",
    "\n",
    "#### Parameters\n",
    " - `bloq`: The sub-bloq to wrap. Its register names are used within the second items in each pair in the `partitions` argument below.\n",
    " - `partitions`: A sequence of pairs specifying each register that is exposed in the external signature of the `AutoPartition` and its relationship to the registers of `bloq`. The first element of each pair is a [`Register`](/reference/qualtran/Register.md) exposed externally. The second is a list of register names of `bloq` that concatenate to form the externally exposed register. If `bloq` does not operate on some portion (of `n` bits) of the externally exposed register, the sentinel value `Unused(n)` can be used in place of a register name.\n",
    " - `left_only`: If False, the output registers will also follow `partition`. Otherwise, the output registers will follow `bloq.signature.rights()`. This flag must be set to True if `bloq` does not have the same LEFT and RIGHT registers, as is required for the bloq to be fully wrapped on the left and right. \n",
    "\n",
    "#### Registers\n",
    " - `[user_spec]`: The output registers of the wrapped bloq.\n"
   ]
  },
  {
   "cell_type": "code",
   "execution_count": 29,
   "id": "1c0a8e98",
   "metadata": {
    "cq.autogen": "AutoPartition.bloq_doc.py"
   },
   "outputs": [],
   "source": [
    "from qualtran.bloqs.bookkeeping import AutoPartition"
   ]
  },
  {
   "cell_type": "markdown",
   "id": "77223022",
   "metadata": {
    "cq.autogen": "AutoPartition.example_instances.md"
   },
   "source": [
    "### Example Instances"
   ]
  },
  {
   "cell_type": "code",
   "execution_count": 30,
   "id": "3759b4fa",
   "metadata": {
    "cq.autogen": "AutoPartition.auto_partition"
   },
   "outputs": [],
   "source": [
    "from qualtran import Controlled, CtrlSpec\n",
    "from qualtran.bloqs.basic_gates import Swap\n",
    "\n",
    "bloq = Controlled(Swap(1), CtrlSpec())\n",
    "auto_partition = AutoPartition(\n",
    "    bloq, [(Register('x', QAny(2)), ['ctrl', 'x']), (Register('y', QAny(1)), ['y'])]\n",
    ")"
   ]
  },
  {
   "cell_type": "code",
   "execution_count": 31,
   "id": "fcc40270",
   "metadata": {
    "cq.autogen": "AutoPartition.auto_partition_unused"
   },
   "outputs": [],
   "source": [
    "from qualtran import Controlled, CtrlSpec\n",
    "from qualtran.bloqs.basic_gates import Swap\n",
    "from qualtran.bloqs.bookkeeping.auto_partition import Unused\n",
    "\n",
    "bloq = Controlled(Swap(1), CtrlSpec())\n",
    "auto_partition_unused = AutoPartition(\n",
    "    bloq,\n",
    "    [\n",
    "        (Register('x', QAny(3)), ['ctrl', 'x', Unused(1)]),\n",
    "        (Register('y', QAny(1)), ['y']),\n",
    "        (Register('z', QAny(2)), [Unused(2)]),\n",
    "    ],\n",
    ")"
   ]
  },
  {
   "cell_type": "markdown",
   "id": "06481dca",
   "metadata": {
    "cq.autogen": "AutoPartition.graphical_signature.md"
   },
   "source": [
    "#### Graphical Signature"
   ]
  },
  {
   "cell_type": "code",
   "execution_count": 32,
   "id": "49cd2fe3",
   "metadata": {
    "cq.autogen": "AutoPartition.graphical_signature.py"
   },
   "outputs": [
    {
     "data": {
      "application/vnd.jupyter.widget-view+json": {
       "model_id": "53e0a007cc804a6dbfe96cd73e5310b7",
       "version_major": 2,
       "version_minor": 0
      },
      "text/plain": [
       "HBox(children=(Output(outputs=({'output_type': 'display_data', 'data': {'text/plain': '<IPython.core.display.M…"
      ]
     },
     "metadata": {},
     "output_type": "display_data"
    }
   ],
   "source": [
    "from qualtran.drawing import show_bloqs\n",
    "show_bloqs([auto_partition, auto_partition_unused],\n",
    "           ['`auto_partition`', '`auto_partition_unused`'])"
   ]
  },
  {
   "cell_type": "markdown",
   "id": "9735ebbc",
   "metadata": {
    "cq.autogen": "AutoPartition.call_graph.md"
   },
   "source": [
    "### Call Graph"
   ]
  },
  {
   "cell_type": "code",
   "execution_count": 33,
   "id": "c4ac66db",
   "metadata": {
    "cq.autogen": "AutoPartition.call_graph.py"
   },
   "outputs": [
    {
     "data": {
      "image/svg+xml": [
       "<svg xmlns=\"http://www.w3.org/2000/svg\" xmlns:xlink=\"http://www.w3.org/1999/xlink\" width=\"289pt\" height=\"131pt\" viewBox=\"0.00 0.00 289.00 131.00\">\n",
       "<g id=\"graph0\" class=\"graph\" transform=\"scale(1 1) rotate(0) translate(4 127)\">\n",
       "<title>counts</title>\n",
       "<polygon fill=\"white\" stroke=\"transparent\" points=\"-4,4 -4,-127 285,-127 285,4 -4,4\"/>\n",
       "<!-- b0 -->\n",
       "<g id=\"node1\" class=\"node\">\n",
       "<title>b0</title>\n",
       "<polygon fill=\"none\" stroke=\"black\" points=\"281,-123 0,-123 0,-87 281,-87 281,-123\"/>\n",
       "<text text-anchor=\"start\" x=\"116\" y=\"-106.8\" font-family=\"Times,serif\" font-size=\"14.00\">C[Swap]</text>\n",
       "<text text-anchor=\"start\" x=\"8\" y=\"-96\" font-family=\"monospace\" font-size=\"10.00\">subbloq=Swap(bit ..., ctrl_spec=CtrlSpec ...</text>\n",
       "</g>\n",
       "<!-- b1 -->\n",
       "<g id=\"node2\" class=\"node\">\n",
       "<title>b1</title>\n",
       "<polygon fill=\"none\" stroke=\"black\" points=\"189,-36 92,-36 92,0 189,0 189,-36\"/>\n",
       "<text text-anchor=\"start\" x=\"100\" y=\"-14.3\" font-family=\"Times,serif\" font-size=\"14.00\">TwoBitCSwap</text>\n",
       "</g>\n",
       "<!-- b0&#45;&gt;b1 -->\n",
       "<g id=\"edge1\" class=\"edge\">\n",
       "<title>b0-&gt;b1</title>\n",
       "<path fill=\"none\" stroke=\"black\" d=\"M140.5,-86.8C140.5,-75.16 140.5,-59.55 140.5,-46.24\"/>\n",
       "<polygon fill=\"black\" stroke=\"black\" points=\"144,-46.18 140.5,-36.18 137,-46.18 144,-46.18\"/>\n",
       "<text text-anchor=\"middle\" x=\"144\" y=\"-57.8\" font-family=\"Times,serif\" font-size=\"14.00\">1</text>\n",
       "</g>\n",
       "</g>\n",
       "</svg>"
      ],
      "text/plain": [
       "<IPython.core.display.SVG object>"
      ]
     },
     "metadata": {},
     "output_type": "display_data"
    },
    {
     "data": {
      "text/markdown": [
       "#### Counts totals:\n",
       " - `TwoBitCSwap`: 1"
      ],
      "text/plain": [
       "<IPython.core.display.Markdown object>"
      ]
     },
     "metadata": {},
     "output_type": "display_data"
    }
   ],
   "source": [
    "from qualtran.resource_counting.generalizers import ignore_split_join\n",
    "auto_partition_g, auto_partition_sigma = auto_partition.call_graph(max_depth=1, generalizer=ignore_split_join)\n",
    "show_call_graph(auto_partition_g)\n",
    "show_counts_sigma(auto_partition_sigma)"
   ]
  },
  {
   "cell_type": "markdown",
   "id": "a1b2e826",
   "metadata": {},
   "source": [
    "### Using `AutoPartition` to simplify diagrams"
   ]
  },
  {
   "cell_type": "markdown",
   "id": "31946e00",
   "metadata": {},
   "source": [
    "Sometimes, we want to use bloqs whose signatures don't quite match up with the signature of a bigger bloq we want to build. For example, the bloq might have a flat list of qubits whereas we have a big register, or vice versa. \n",
    "\n",
    "Normally, we can just split / join / partition during the decomposition and go on our way, but this leads to unsightly diagrams like this:"
   ]
  },
  {
   "cell_type": "code",
   "execution_count": 34,
   "id": "d9737eea",
   "metadata": {},
   "outputs": [
    {
     "data": {
      "text/plain": [
       "(<Figure size 533.333x800 with 1 Axes>, <Axes: >)"
      ]
     },
     "execution_count": 34,
     "metadata": {},
     "output_type": "execute_result"
    },
    {
     "data": {
      "image/png": "[encoded data removed]",
      "text/plain": [
       "<Figure size 533.333x800 with 1 Axes>"
      ]
     },
     "metadata": {},
     "output_type": "display_data"
    }
   ],
   "source": [
    "from functools import cached_property\n",
    "\n",
    "from qualtran.bloqs.rotations.hamming_weight_phasing import HammingWeightPhasing\n",
    "from qualtran.drawing import draw_musical_score\n",
    "from qualtran.drawing.musical_score import get_musical_score_data\n",
    "\n",
    "\n",
    "@attrs.frozen\n",
    "class ManyBit(Bloq):\n",
    "    @cached_property\n",
    "    def signature(self) -> Signature:\n",
    "        return Signature((Register('xs', QBit(), shape=(20,)),))\n",
    "\n",
    "\n",
    "@attrs.frozen\n",
    "class NotWrapped(Bloq):\n",
    "    bitsize: int = 10\n",
    "\n",
    "    @cached_property\n",
    "    def signature(self) -> Signature:\n",
    "        return Signature((Register('x', QBit(), shape=(self.bitsize,)), Register('y', QAny(20))))\n",
    "\n",
    "    def build_composite_bloq(\n",
    "        self, bb: BloqBuilder, x: 'SoquetT', y: 'SoquetT'\n",
    "    ) -> Dict[str, 'SoquetT']:\n",
    "        for i in range(5):\n",
    "            two_bit = bb.join(x[i * 2 : i * 2 + 2], QUInt(2))\n",
    "            two_bit = bb.add(HammingWeightPhasing(2, 0.11), x=two_bit)\n",
    "            x[i * 2 : i * 2 + 2] = bb.split(two_bit)\n",
    "        many_bit = bb.split(y)\n",
    "        many_bit = bb.add(ManyBit(), xs=many_bit)\n",
    "        return {'x': x, 'y': bb.join(many_bit)}\n",
    "\n",
    "\n",
    "bloq = NotWrapped()\n",
    "draw_musical_score(get_musical_score_data(bloq.decompose_bloq()))"
   ]
  },
  {
   "cell_type": "markdown",
   "id": "e6bfd5c7",
   "metadata": {},
   "source": [
    "Using the `AutoPartition` bloq, we can hide the partition/unpartition pairs behind a level of decomposition, thereby cleaning up the diagram:"
   ]
  },
  {
   "cell_type": "code",
   "execution_count": 35,
   "id": "72cfb27f",
   "metadata": {},
   "outputs": [
    {
     "data": {
      "text/plain": [
       "(<Figure size 626.087x800 with 1 Axes>, <Axes: >)"
      ]
     },
     "execution_count": 35,
     "metadata": {},
     "output_type": "execute_result"
    },
    {
     "data": {
      "image/png": "[encoded data removed]",
      "text/plain": [
       "<Figure size 626.087x800 with 1 Axes>"
      ]
     },
     "metadata": {},
     "output_type": "display_data"
    }
   ],
   "source": [
    "@attrs.frozen\n",
    "class Wrapped(Bloq):\n",
    "    bitsize: int = 10\n",
    "\n",
    "    @cached_property\n",
    "    def signature(self) -> Signature:\n",
    "        return Signature((Register('x', QBit(), shape=(self.bitsize,)), Register('y', QAny(20))))\n",
    "\n",
    "    def build_composite_bloq(\n",
    "        self, bb: BloqBuilder, x: 'SoquetT', y: 'SoquetT'\n",
    "    ) -> Dict[str, 'SoquetT']:\n",
    "        for i in range(5):\n",
    "            hwp = HammingWeightPhasing(2, i * 0.11)\n",
    "            x[i * 2 : i * 2 + 2] = bb.add(\n",
    "                AutoPartition(hwp, [(Register('reg_1', QBit(), shape=(2,)), ('x',))]),\n",
    "                reg_1=x[i * 2 : i * 2 + 2],\n",
    "            )\n",
    "        many = ManyBit()\n",
    "        b = AutoPartition(many, [(Register('y', QAny(20)), ('xs',))])\n",
    "        y = bb.add(b, y=y)\n",
    "        return {'x': x, 'y': y}\n",
    "\n",
    "\n",
    "bloq = Wrapped()\n",
    "draw_musical_score(get_musical_score_data(bloq.decompose_bloq()))"
   ]
  },
  {
   "cell_type": "markdown",
   "id": "310a67d5",
   "metadata": {},
   "source": [
    "Instead of explicitly instantiating a `AutoPartition`, we can also use the utility function `BloqBuilder.add_and_partition`:"
   ]
  },
  {
   "cell_type": "code",
   "execution_count": 36,
   "id": "8e3be77e",
   "metadata": {},
   "outputs": [
    {
     "data": {
      "text/plain": [
       "(<Figure size 626.087x800 with 1 Axes>, <Axes: >)"
      ]
     },
     "execution_count": 36,
     "metadata": {},
     "output_type": "execute_result"
    },
    {
     "data": {
      "image/png": "[encoded data removed]",
      "text/plain": [
       "<Figure size 626.087x800 with 1 Axes>"
      ]
     },
     "metadata": {},
     "output_type": "display_data"
    }
   ],
   "source": [
    "@attrs.frozen\n",
    "class Wrapped(Bloq):\n",
    "    bitsize: int = 10\n",
    "\n",
    "    @cached_property\n",
    "    def signature(self) -> Signature:\n",
    "        return Signature((Register('x', QBit(), shape=(self.bitsize,)), Register('y', QAny(20))))\n",
    "\n",
    "    def build_composite_bloq(\n",
    "        self, bb: BloqBuilder, x: 'SoquetT', y: 'SoquetT'\n",
    "    ) -> Dict[str, 'SoquetT']:\n",
    "        for i in range(5):\n",
    "            hwp = HammingWeightPhasing(2, i * 0.11)\n",
    "            x[i * 2 : i * 2 + 2] = bb.add_and_partition(\n",
    "                hwp, [(Register('reg_1', QBit(), shape=(2,)), ('x',))], reg_1=x[i * 2 : i * 2 + 2]\n",
    "            )\n",
    "        many = ManyBit()\n",
    "        y = bb.add_and_partition(many, [(Register('y', QAny(20)), ('xs',))], y=y)\n",
    "        return {'x': x, 'y': y}\n",
    "\n",
    "\n",
    "bloq = Wrapped()\n",
    "draw_musical_score(get_musical_score_data(bloq.decompose_bloq()))"
   ]
  }
 ],
 "metadata": {
  "kernelspec": {
   "display_name": "Python 3 (ipykernel)",
   "language": "python",
   "name": "python3"
  },
  "language_info": {
   "codemirror_mode": {
    "name": "ipython",
    "version": 3
   },
   "file_extension": ".py",
   "mimetype": "text/x-python",
   "name": "python",
   "nbconvert_exporter": "python",
   "pygments_lexer": "ipython3",
   "version": "3.11.8"
  },
  "widgets": {
   "application/vnd.jupyter.widget-state+json": {
    "state": {
     "1cd5aa68991348d1a05174d61bcbf868": {
      "model_module": "@jupyter-widgets/controls",
      "model_module_version": "2.0.0",
      "model_name": "HBoxModel",
      "state": {
       "_dom_classes": [],
       "_model_module": "@jupyter-widgets/controls",
       "_model_module_version": "2.0.0",
       "_model_name": "HBoxModel",
       "_view_count": null,
       "_view_module": "@jupyter-widgets/controls",
       "_view_module_version": "2.0.0",
       "_view_name": "HBoxView",
       "box_style": "",
       "children": [
        "IPY_MODEL_942fd86863d04190a2e9b377d5ebde48"
       ],
       "layout": "IPY_MODEL_b1d25b7fb6fe4ff6baef503ac66a273b",
       "tabbable": null,
       "tooltip": null
      }
     },
     "1ec1bbb4238f41a2a0a572795ab95ffd": {
      "model_module": "@jupyter-widgets/output",
      "model_module_version": "1.0.0",
      "model_name": "OutputModel",
      "state": {
       "_dom_classes": [],
       "_model_module": "@jupyter-widgets/output",
       "_model_module_version": "1.0.0",
       "_model_name": "OutputModel",
       "_view_count": null,
       "_view_module": "@jupyter-widgets/output",
       "_view_module_version": "1.0.0",
       "_view_name": "OutputView",
       "layout": "IPY_MODEL_e2530508356646d6bba85356764712f4",
       "msg_id": "",
       "outputs": [
        {
         "data": {
          "text/markdown": "`split`",
          "text/plain": "<IPython.core.display.Markdown object>"
         },
         "metadata": {},
         "output_type": "display_data"
        },
        {
         "data": {
          "image/svg+xml": "<svg xmlns=\"http://www.w3.org/2000/svg\" xmlns:xlink=\"http://www.w3.org/1999/xlink\" width=\"202pt\" height=\"206pt\" viewBox=\"0.00 0.00 202.00 206.00\">\n<g id=\"graph0\" class=\"graph\" transform=\"scale(1 1) rotate(0) translate(4 202)\">\n<title>my_graph</title>\n<polygon fill=\"white\" stroke=\"transparent\" points=\"-4,4 -4,-202 198,-202 198,4 -4,4\"/>\n<!-- reg_G7 -->\n<g id=\"node1\" class=\"node\">\n<title>reg_G7</title>\n<text text-anchor=\"middle\" x=\"27\" y=\"-95.3\" font-family=\"Times,serif\" font-size=\"14.00\">reg</text>\n</g>\n<!-- Split -->\n<g id=\"node2\" class=\"node\">\n<title>Split</title>\n<polygon fill=\"none\" stroke=\"black\" points=\"91,-111 91,-117 103,-117 103,-111 91,-111\"/>\n<polygon fill=\"none\" stroke=\"black\" points=\"91,-87 91,-111 97,-111 97,-87 91,-87\"/>\n<polygon fill=\"none\" stroke=\"black\" points=\"97,-105 97,-111 103,-111 103,-105 97,-105\"/>\n<polygon fill=\"none\" stroke=\"black\" points=\"97,-99 97,-105 103,-105 103,-99 97,-99\"/>\n<polygon fill=\"none\" stroke=\"black\" points=\"97,-93 97,-99 103,-99 103,-93 97,-93\"/>\n<polygon fill=\"none\" stroke=\"black\" points=\"97,-87 97,-93 103,-93 103,-87 97,-87\"/>\n</g>\n<!-- reg_G7&#45;&gt;Split -->\n<g id=\"edge1\" class=\"edge\">\n<title>reg_G7:e-&gt;Split:w</title>\n<path fill=\"none\" stroke=\"black\" d=\"M54,-99C69.67,-99 74.14,-99 88.77,-99\"/>\n<ellipse fill=\"black\" stroke=\"black\" cx=\"90\" cy=\"-99\" rx=\"1\" ry=\"1\"/>\n<text text-anchor=\"middle\" x=\"72.5\" y=\"-102\" font-family=\"Times,serif\" font-size=\"10.00\">4</text>\n</g>\n<!-- reg_G4 -->\n<g id=\"node3\" class=\"node\">\n<title>reg_G4</title>\n<text text-anchor=\"middle\" x=\"167\" y=\"-176.3\" font-family=\"Times,serif\" font-size=\"14.00\">reg[0]</text>\n</g>\n<!-- Split&#45;&gt;reg_G4 -->\n<g id=\"edge2\" class=\"edge\">\n<title>Split:e-&gt;reg_G4:w</title>\n<path fill=\"none\" stroke=\"black\" d=\"M103,-108C138.28,-108 105.36,-177.21 137.97,-179.92\"/>\n<ellipse fill=\"black\" stroke=\"black\" cx=\"139\" cy=\"-179.96\" rx=\"1\" ry=\"1\"/>\n<text text-anchor=\"middle\" x=\"121.5\" y=\"-159\" font-family=\"Times,serif\" font-size=\"10.00\">1</text>\n</g>\n<!-- reg_G0 -->\n<g id=\"node4\" class=\"node\">\n<title>reg_G0</title>\n<text text-anchor=\"middle\" x=\"167\" y=\"-122.3\" font-family=\"Times,serif\" font-size=\"14.00\">reg[1]</text>\n</g>\n<!-- Split&#45;&gt;reg_G0 -->\n<g id=\"edge3\" class=\"edge\">\n<title>Split:e-&gt;reg_G0:w</title>\n<path fill=\"none\" stroke=\"black\" d=\"M103,-102C121.84,-102 120.54,-124.16 137.8,-125.89\"/>\n<ellipse fill=\"black\" stroke=\"black\" cx=\"139\" cy=\"-125.95\" rx=\"1\" ry=\"1\"/>\n<text text-anchor=\"middle\" x=\"121.5\" y=\"-117\" font-family=\"Times,serif\" font-size=\"10.00\">1</text>\n</g>\n<!-- reg_G5 -->\n<g id=\"node5\" class=\"node\">\n<title>reg_G5</title>\n<text text-anchor=\"middle\" x=\"167\" y=\"-68.3\" font-family=\"Times,serif\" font-size=\"14.00\">reg[2]</text>\n</g>\n<!-- Split&#45;&gt;reg_G5 -->\n<g id=\"edge4\" class=\"edge\">\n<title>Split:e-&gt;reg_G5:w</title>\n<path fill=\"none\" stroke=\"black\" d=\"M103,-96C121.84,-96 120.54,-73.84 137.8,-72.11\"/>\n<ellipse fill=\"black\" stroke=\"black\" cx=\"139\" cy=\"-72.05\" rx=\"1\" ry=\"1\"/>\n<text text-anchor=\"middle\" x=\"121.5\" y=\"-87\" font-family=\"Times,serif\" font-size=\"10.00\">1</text>\n</g>\n<!-- reg_G1 -->\n<g id=\"node6\" class=\"node\">\n<title>reg_G1</title>\n<text text-anchor=\"middle\" x=\"167\" y=\"-14.3\" font-family=\"Times,serif\" font-size=\"14.00\">reg[3]</text>\n</g>\n<!-- Split&#45;&gt;reg_G1 -->\n<g id=\"edge5\" class=\"edge\">\n<title>Split:e-&gt;reg_G1:w</title>\n<path fill=\"none\" stroke=\"black\" d=\"M103,-90C138.28,-90 105.36,-20.79 137.97,-18.08\"/>\n<ellipse fill=\"black\" stroke=\"black\" cx=\"139\" cy=\"-18.04\" rx=\"1\" ry=\"1\"/>\n<text text-anchor=\"middle\" x=\"121.5\" y=\"-69\" font-family=\"Times,serif\" font-size=\"10.00\">1</text>\n</g>\n</g>\n</svg>",
          "text/plain": "<IPython.core.display.SVG object>"
         },
         "metadata": {},
         "output_type": "display_data"
        }
       ],
       "tabbable": null,
       "tooltip": null
      }
     },
     "1ed3967edf934b9a9f1ed8a28247b1bf": {
      "model_module": "@jupyter-widgets/output",
      "model_module_version": "1.0.0",
      "model_name": "OutputModel",
      "state": {
       "_dom_classes": [],
       "_model_module": "@jupyter-widgets/output",
       "_model_module_version": "1.0.0",
       "_model_name": "OutputModel",
       "_view_count": null,
       "_view_module": "@jupyter-widgets/output",
       "_view_module_version": "1.0.0",
       "_view_name": "OutputView",
       "layout": "IPY_MODEL_615a69c3a9a749e5a403634bc1d53672",
       "msg_id": "",
       "outputs": [
        {
         "data": {
          "text/markdown": "`auto_partition_unused`",
          "text/plain": "<IPython.core.display.Markdown object>"
         },
         "metadata": {},
         "output_type": "display_data"
        },
        {
         "data": {
          "image/svg+xml": "<svg xmlns=\"http://www.w3.org/2000/svg\" xmlns:xlink=\"http://www.w3.org/1999/xlink\" width=\"253pt\" height=\"152pt\" viewBox=\"0.00 0.00 253.00 152.00\">\n<g id=\"graph0\" class=\"graph\" transform=\"scale(1 1) rotate(0) translate(4 148)\">\n<title>my_graph</title>\n<polygon fill=\"white\" stroke=\"transparent\" points=\"-4,4 -4,-148 249,-148 249,4 -4,4\"/>\n<!-- x_G4 -->\n<g id=\"node1\" class=\"node\">\n<title>x_G4</title>\n<text text-anchor=\"middle\" x=\"27\" y=\"-122.3\" font-family=\"Times,serif\" font-size=\"14.00\">x</text>\n</g>\n<!-- AutoPartition -->\n<g id=\"node4\" class=\"node\">\n<title>AutoPartition</title>\n<polygon fill=\"none\" stroke=\"black\" points=\"91.5,-104 91.5,-121 154.5,-121 154.5,-104 91.5,-104\"/>\n<text text-anchor=\"start\" x=\"94.5\" y=\"-110\" font-family=\"Times,serif\" font-size=\"10.00\">AutoPartition</text>\n<polygon fill=\"none\" stroke=\"black\" points=\"91.5,-83 91.5,-104 154.5,-104 154.5,-83 91.5,-83\"/>\n<text text-anchor=\"start\" x=\"119.5\" y=\"-89.8\" font-family=\"Times,serif\" font-size=\"14.00\">x</text>\n<polygon fill=\"none\" stroke=\"black\" points=\"91.5,-62 91.5,-83 154.5,-83 154.5,-62 91.5,-62\"/>\n<text text-anchor=\"start\" x=\"119.5\" y=\"-68.8\" font-family=\"Times,serif\" font-size=\"14.00\">y</text>\n<polygon fill=\"none\" stroke=\"black\" points=\"91.5,-41 91.5,-62 154.5,-62 154.5,-41 91.5,-41\"/>\n<text text-anchor=\"start\" x=\"119.5\" y=\"-47.8\" font-family=\"Times,serif\" font-size=\"14.00\">z</text>\n</g>\n<!-- x_G4&#45;&gt;AutoPartition -->\n<g id=\"edge1\" class=\"edge\">\n<title>x_G4:e-&gt;AutoPartition:w</title>\n<path fill=\"none\" stroke=\"black\" d=\"M54,-126C74.89,-126 69.72,-96.45 88.58,-94.14\"/>\n<ellipse fill=\"black\" stroke=\"black\" cx=\"90\" cy=\"-94.06\" rx=\"1\" ry=\"1\"/>\n<text text-anchor=\"middle\" x=\"72.5\" y=\"-113\" font-family=\"Times,serif\" font-size=\"10.00\">3</text>\n</g>\n<!-- y_G1 -->\n<g id=\"node2\" class=\"node\">\n<title>y_G1</title>\n<text text-anchor=\"middle\" x=\"27\" y=\"-68.3\" font-family=\"Times,serif\" font-size=\"14.00\">y</text>\n</g>\n<!-- y_G1&#45;&gt;AutoPartition -->\n<g id=\"edge2\" class=\"edge\">\n<title>y_G1:e-&gt;AutoPartition:w</title>\n<path fill=\"none\" stroke=\"black\" d=\"M54,-72C69.67,-72 74.14,-72 88.77,-72\"/>\n<ellipse fill=\"black\" stroke=\"black\" cx=\"90\" cy=\"-72\" rx=\"1\" ry=\"1\"/>\n<text text-anchor=\"middle\" x=\"72.5\" y=\"-75\" font-family=\"Times,serif\" font-size=\"10.00\">1</text>\n</g>\n<!-- z_G7 -->\n<g id=\"node3\" class=\"node\">\n<title>z_G7</title>\n<text text-anchor=\"middle\" x=\"27\" y=\"-14.3\" font-family=\"Times,serif\" font-size=\"14.00\">z</text>\n</g>\n<!-- z_G7&#45;&gt;AutoPartition -->\n<g id=\"edge3\" class=\"edge\">\n<title>z_G7:e-&gt;AutoPartition:w</title>\n<path fill=\"none\" stroke=\"black\" d=\"M54,-18C75.17,-18 69.47,-48.47 88.55,-50.85\"/>\n<ellipse fill=\"black\" stroke=\"black\" cx=\"90\" cy=\"-50.94\" rx=\"1\" ry=\"1\"/>\n<text text-anchor=\"middle\" x=\"72.5\" y=\"-39\" font-family=\"Times,serif\" font-size=\"10.00\">2</text>\n</g>\n<!-- x_G2 -->\n<g id=\"node5\" class=\"node\">\n<title>x_G2</title>\n<text text-anchor=\"middle\" x=\"218\" y=\"-122.3\" font-family=\"Times,serif\" font-size=\"14.00\">x</text>\n</g>\n<!-- AutoPartition&#45;&gt;x_G2 -->\n<g id=\"edge4\" class=\"edge\">\n<title>AutoPartition:e-&gt;x_G2:w</title>\n<path fill=\"none\" stroke=\"black\" d=\"M154,-94C174.89,-94 169.72,-123.55 188.58,-125.86\"/>\n<ellipse fill=\"black\" stroke=\"black\" cx=\"190\" cy=\"-125.94\" rx=\"1\" ry=\"1\"/>\n<text text-anchor=\"middle\" x=\"172.5\" y=\"-113\" font-family=\"Times,serif\" font-size=\"10.00\">3</text>\n</g>\n<!-- y_G5 -->\n<g id=\"node6\" class=\"node\">\n<title>y_G5</title>\n<text text-anchor=\"middle\" x=\"218\" y=\"-68.3\" font-family=\"Times,serif\" font-size=\"14.00\">y</text>\n</g>\n<!-- AutoPartition&#45;&gt;y_G5 -->\n<g id=\"edge5\" class=\"edge\">\n<title>AutoPartition:e-&gt;y_G5:w</title>\n<path fill=\"none\" stroke=\"black\" d=\"M154,-72C169.67,-72 174.14,-72 188.77,-72\"/>\n<ellipse fill=\"black\" stroke=\"black\" cx=\"190\" cy=\"-72\" rx=\"1\" ry=\"1\"/>\n<text text-anchor=\"middle\" x=\"172.5\" y=\"-75\" font-family=\"Times,serif\" font-size=\"10.00\">1</text>\n</g>\n<!-- z_G3 -->\n<g id=\"node7\" class=\"node\">\n<title>z_G3</title>\n<text text-anchor=\"middle\" x=\"218\" y=\"-14.3\" font-family=\"Times,serif\" font-size=\"14.00\">z</text>\n</g>\n<!-- AutoPartition&#45;&gt;z_G3 -->\n<g id=\"edge6\" class=\"edge\">\n<title>AutoPartition:e-&gt;z_G3:w</title>\n<path fill=\"none\" stroke=\"black\" d=\"M154,-51C175.17,-51 169.47,-20.53 188.55,-18.15\"/>\n<ellipse fill=\"black\" stroke=\"black\" cx=\"190\" cy=\"-18.06\" rx=\"1\" ry=\"1\"/>\n<text text-anchor=\"middle\" x=\"172.5\" y=\"-39\" font-family=\"Times,serif\" font-size=\"10.00\">2</text>\n</g>\n</g>\n</svg>",
          "text/plain": "<IPython.core.display.SVG object>"
         },
         "metadata": {},
         "output_type": "display_data"
        }
       ],
       "tabbable": null,
       "tooltip": null
      }
     },
     "211770e05705497ba50751c7c0ccbf14": {
      "model_module": "@jupyter-widgets/output",
      "model_module_version": "1.0.0",
      "model_name": "OutputModel",
      "state": {
       "_dom_classes": [],
       "_model_module": "@jupyter-widgets/output",
       "_model_module_version": "1.0.0",
       "_model_name": "OutputModel",
       "_view_count": null,
       "_view_module": "@jupyter-widgets/output",
       "_view_module_version": "1.0.0",
       "_view_name": "OutputView",
       "layout": "IPY_MODEL_fe4536f40c374a20b1980e1661c1d41f",
       "msg_id": "",
       "outputs": [
        {
         "data": {
          "text/markdown": "`auto_partition`",
          "text/plain": "<IPython.core.display.Markdown object>"
         },
         "metadata": {},
         "output_type": "display_data"
        },
        {
         "data": {
          "image/svg+xml": "<svg xmlns=\"http://www.w3.org/2000/svg\" xmlns:xlink=\"http://www.w3.org/1999/xlink\" width=\"253pt\" height=\"98pt\" viewBox=\"0.00 0.00 253.00 98.00\">\n<g id=\"graph0\" class=\"graph\" transform=\"scale(1 1) rotate(0) translate(4 94)\">\n<title>my_graph</title>\n<polygon fill=\"white\" stroke=\"transparent\" points=\"-4,4 -4,-94 249,-94 249,4 -4,4\"/>\n<!-- x_G0 -->\n<g id=\"node1\" class=\"node\">\n<title>x_G0</title>\n<text text-anchor=\"middle\" x=\"27\" y=\"-68.3\" font-family=\"Times,serif\" font-size=\"14.00\">x</text>\n</g>\n<!-- AutoPartition -->\n<g id=\"node3\" class=\"node\">\n<title>AutoPartition</title>\n<polygon fill=\"none\" stroke=\"black\" points=\"91.5,-66 91.5,-83 154.5,-83 154.5,-66 91.5,-66\"/>\n<text text-anchor=\"start\" x=\"94.5\" y=\"-72\" font-family=\"Times,serif\" font-size=\"10.00\">AutoPartition</text>\n<polygon fill=\"none\" stroke=\"black\" points=\"91.5,-45 91.5,-66 154.5,-66 154.5,-45 91.5,-45\"/>\n<text text-anchor=\"start\" x=\"119.5\" y=\"-51.8\" font-family=\"Times,serif\" font-size=\"14.00\">x</text>\n<polygon fill=\"none\" stroke=\"black\" points=\"91.5,-24 91.5,-45 154.5,-45 154.5,-24 91.5,-24\"/>\n<text text-anchor=\"start\" x=\"119.5\" y=\"-30.8\" font-family=\"Times,serif\" font-size=\"14.00\">y</text>\n</g>\n<!-- x_G0&#45;&gt;AutoPartition -->\n<g id=\"edge1\" class=\"edge\">\n<title>x_G0:e-&gt;AutoPartition:w</title>\n<path fill=\"none\" stroke=\"black\" d=\"M54,-72C71.22,-72 72.97,-57.23 88.98,-56.07\"/>\n<ellipse fill=\"black\" stroke=\"black\" cx=\"90\" cy=\"-56.04\" rx=\"1\" ry=\"1\"/>\n<text text-anchor=\"middle\" x=\"72.5\" y=\"-67\" font-family=\"Times,serif\" font-size=\"10.00\">2</text>\n</g>\n<!-- y_G3 -->\n<g id=\"node2\" class=\"node\">\n<title>y_G3</title>\n<text text-anchor=\"middle\" x=\"27\" y=\"-14.3\" font-family=\"Times,serif\" font-size=\"14.00\">y</text>\n</g>\n<!-- y_G3&#45;&gt;AutoPartition -->\n<g id=\"edge2\" class=\"edge\">\n<title>y_G3:e-&gt;AutoPartition:w</title>\n<path fill=\"none\" stroke=\"black\" d=\"M54,-18C71.22,-18 72.97,-32.77 88.98,-33.93\"/>\n<ellipse fill=\"black\" stroke=\"black\" cx=\"90\" cy=\"-33.96\" rx=\"1\" ry=\"1\"/>\n<text text-anchor=\"middle\" x=\"72.5\" y=\"-29\" font-family=\"Times,serif\" font-size=\"10.00\">1</text>\n</g>\n<!-- x_G4 -->\n<g id=\"node4\" class=\"node\">\n<title>x_G4</title>\n<text text-anchor=\"middle\" x=\"218\" y=\"-68.3\" font-family=\"Times,serif\" font-size=\"14.00\">x</text>\n</g>\n<!-- AutoPartition&#45;&gt;x_G4 -->\n<g id=\"edge3\" class=\"edge\">\n<title>AutoPartition:e-&gt;x_G4:w</title>\n<path fill=\"none\" stroke=\"black\" d=\"M154,-56C171.22,-56 172.97,-70.77 188.98,-71.93\"/>\n<ellipse fill=\"black\" stroke=\"black\" cx=\"190\" cy=\"-71.96\" rx=\"1\" ry=\"1\"/>\n<text text-anchor=\"middle\" x=\"172.5\" y=\"-67\" font-family=\"Times,serif\" font-size=\"10.00\">2</text>\n</g>\n<!-- y_G2 -->\n<g id=\"node5\" class=\"node\">\n<title>y_G2</title>\n<text text-anchor=\"middle\" x=\"218\" y=\"-14.3\" font-family=\"Times,serif\" font-size=\"14.00\">y</text>\n</g>\n<!-- AutoPartition&#45;&gt;y_G2 -->\n<g id=\"edge4\" class=\"edge\">\n<title>AutoPartition:e-&gt;y_G2:w</title>\n<path fill=\"none\" stroke=\"black\" d=\"M154,-34C171.22,-34 172.97,-19.23 188.98,-18.07\"/>\n<ellipse fill=\"black\" stroke=\"black\" cx=\"190\" cy=\"-18.04\" rx=\"1\" ry=\"1\"/>\n<text text-anchor=\"middle\" x=\"172.5\" y=\"-29\" font-family=\"Times,serif\" font-size=\"10.00\">1</text>\n</g>\n</g>\n</svg>",
          "text/plain": "<IPython.core.display.SVG object>"
         },
         "metadata": {},
         "output_type": "display_data"
        }
       ],
       "tabbable": null,
       "tooltip": null
      }
     },
     "27b5369d98674ab18ce1f64f701193bc": {
      "model_module": "@jupyter-widgets/base",
      "model_module_version": "2.0.0",
      "model_name": "LayoutModel",
      "state": {
       "_model_module": "@jupyter-widgets/base",
       "_model_module_version": "2.0.0",
       "_model_name": "LayoutModel",
       "_view_count": null,
       "_view_module": "@jupyter-widgets/base",
       "_view_module_version": "2.0.0",
       "_view_name": "LayoutView",
       "align_content": null,
       "align_items": null,
       "align_self": null,
       "border_bottom": null,
       "border_left": null,
       "border_right": null,
       "border_top": null,
       "bottom": null,
       "display": null,
       "flex": null,
       "flex_flow": null,
       "grid_area": null,
       "grid_auto_columns": null,
       "grid_auto_flow": null,
       "grid_auto_rows": null,
       "grid_column": null,
       "grid_gap": null,
       "grid_row": null,
       "grid_template_areas": null,
       "grid_template_columns": null,
       "grid_template_rows": null,
       "height": null,
       "justify_content": null,
       "justify_items": null,
       "left": null,
       "margin": null,
       "max_height": null,
       "max_width": null,
       "min_height": null,
       "min_width": null,
       "object_fit": null,
       "object_position": null,
       "order": null,
       "overflow": null,
       "padding": null,
       "right": null,
       "top": null,
       "visibility": null,
       "width": null
      }
     },
     "366e5aef50584c92a54b504d3b9f6847": {
      "model_module": "@jupyter-widgets/base",
      "model_module_version": "2.0.0",
      "model_name": "LayoutModel",
      "state": {
       "_model_module": "@jupyter-widgets/base",
       "_model_module_version": "2.0.0",
       "_model_name": "LayoutModel",
       "_view_count": null,
       "_view_module": "@jupyter-widgets/base",
       "_view_module_version": "2.0.0",
       "_view_name": "LayoutView",
       "align_content": null,
       "align_items": null,
       "align_self": null,
       "border_bottom": null,
       "border_left": null,
       "border_right": null,
       "border_top": null,
       "bottom": null,
       "display": null,
       "flex": null,
       "flex_flow": null,
       "grid_area": null,
       "grid_auto_columns": null,
       "grid_auto_flow": null,
       "grid_auto_rows": null,
       "grid_column": null,
       "grid_gap": null,
       "grid_row": null,
       "grid_template_areas": null,
       "grid_template_columns": null,
       "grid_template_rows": null,
       "height": null,
       "justify_content": null,
       "justify_items": null,
       "left": null,
       "margin": null,
       "max_height": null,
       "max_width": null,
       "min_height": null,
       "min_width": null,
       "object_fit": null,
       "object_position": null,
       "order": null,
       "overflow": null,
       "padding": null,
       "right": null,
       "top": null,
       "visibility": null,
       "width": null
      }
     },
     "386acdb5f35f491a930a72e226fd973c": {
      "model_module": "@jupyter-widgets/base",
      "model_module_version": "2.0.0",
      "model_name": "LayoutModel",
      "state": {
       "_model_module": "@jupyter-widgets/base",
       "_model_module_version": "2.0.0",
       "_model_name": "LayoutModel",
       "_view_count": null,
       "_view_module": "@jupyter-widgets/base",
       "_view_module_version": "2.0.0",
       "_view_name": "LayoutView",
       "align_content": null,
       "align_items": null,
       "align_self": null,
       "border_bottom": null,
       "border_left": null,
       "border_right": null,
       "border_top": null,
       "bottom": null,
       "display": null,
       "flex": null,
       "flex_flow": null,
       "grid_area": null,
       "grid_auto_columns": null,
       "grid_auto_flow": null,
       "grid_auto_rows": null,
       "grid_column": null,
       "grid_gap": null,
       "grid_row": null,
       "grid_template_areas": null,
       "grid_template_columns": null,
       "grid_template_rows": null,
       "height": null,
       "justify_content": null,
       "justify_items": null,
       "left": null,
       "margin": null,
       "max_height": null,
       "max_width": null,
       "min_height": null,
       "min_width": null,
       "object_fit": null,
       "object_position": null,
       "order": null,
       "overflow": null,
       "padding": null,
       "right": null,
       "top": null,
       "visibility": null,
       "width": null
      }
     },
     "3b29cd13ae9d44189f3e1137eae2fb13": {
      "model_module": "@jupyter-widgets/controls",
      "model_module_version": "2.0.0",
      "model_name": "HBoxModel",
      "state": {
       "_dom_classes": [],
       "_model_module": "@jupyter-widgets/controls",
       "_model_module_version": "2.0.0",
       "_model_name": "HBoxModel",
       "_view_count": null,
       "_view_module": "@jupyter-widgets/controls",
       "_view_module_version": "2.0.0",
       "_view_name": "HBoxView",
       "box_style": "",
       "children": [
        "IPY_MODEL_ae016a1461694cf3a1c4835b6e9d4bbc"
       ],
       "layout": "IPY_MODEL_81f96588d2ee47099bdcd6f08717a534",
       "tabbable": null,
       "tooltip": null
      }
     },
     "43a70343200746fd9824a1c5147d078b": {
      "model_module": "@jupyter-widgets/output",
      "model_module_version": "1.0.0",
      "model_name": "OutputModel",
      "state": {
       "_dom_classes": [],
       "_model_module": "@jupyter-widgets/output",
       "_model_module_version": "1.0.0",
       "_model_name": "OutputModel",
       "_view_count": null,
       "_view_module": "@jupyter-widgets/output",
       "_view_module_version": "1.0.0",
       "_view_name": "OutputView",
       "layout": "IPY_MODEL_27b5369d98674ab18ce1f64f701193bc",
       "msg_id": "",
       "outputs": [
        {
         "data": {
          "text/markdown": "`alloc`",
          "text/plain": "<IPython.core.display.Markdown object>"
         },
         "metadata": {},
         "output_type": "display_data"
        },
        {
         "data": {
          "image/svg+xml": "<svg xmlns=\"http://www.w3.org/2000/svg\" xmlns:xlink=\"http://www.w3.org/1999/xlink\" width=\"141pt\" height=\"54pt\" viewBox=\"0.00 0.00 141.00 54.00\">\n<g id=\"graph0\" class=\"graph\" transform=\"scale(1 1) rotate(0) translate(4 50)\">\n<title>my_graph</title>\n<polygon fill=\"white\" stroke=\"transparent\" points=\"-4,4 -4,-50 137,-50 137,4 -4,4\"/>\n<!-- Allocate -->\n<g id=\"node1\" class=\"node\">\n<title>Allocate</title>\n<polygon fill=\"none\" stroke=\"black\" points=\"0,-29 0,-46 42,-46 42,-29 0,-29\"/>\n<text text-anchor=\"start\" x=\"3\" y=\"-35\" font-family=\"Times,serif\" font-size=\"10.00\">Allocate</text>\n<polygon fill=\"none\" stroke=\"black\" points=\"0,-8 0,-29 12,-29 12,-8 0,-8\"/>\n<polygon fill=\"none\" stroke=\"black\" points=\"12,-8 12,-29 42,-29 42,-8 12,-8\"/>\n<text text-anchor=\"start\" x=\"18\" y=\"-14.8\" font-family=\"Times,serif\" font-size=\"14.00\">reg</text>\n</g>\n<!-- reg_G0 -->\n<g id=\"node2\" class=\"node\">\n<title>reg_G0</title>\n<text text-anchor=\"middle\" x=\"106\" y=\"-14.3\" font-family=\"Times,serif\" font-size=\"14.00\">reg</text>\n</g>\n<!-- Allocate&#45;&gt;reg_G0 -->\n<g id=\"edge1\" class=\"edge\">\n<title>Allocate:e-&gt;reg_G0:w</title>\n<path fill=\"none\" stroke=\"black\" d=\"M42,-18C57.67,-18 62.14,-18 76.77,-18\"/>\n<ellipse fill=\"black\" stroke=\"black\" cx=\"78\" cy=\"-18\" rx=\"1\" ry=\"1\"/>\n<text text-anchor=\"middle\" x=\"60.5\" y=\"-21\" font-family=\"Times,serif\" font-size=\"10.00\">n</text>\n</g>\n</g>\n</svg>",
          "text/plain": "<IPython.core.display.SVG object>"
         },
         "metadata": {},
         "output_type": "display_data"
        }
       ],
       "tabbable": null,
       "tooltip": null
      }
     },
     "53e0a007cc804a6dbfe96cd73e5310b7": {
      "model_module": "@jupyter-widgets/controls",
      "model_module_version": "2.0.0",
      "model_name": "HBoxModel",
      "state": {
       "_dom_classes": [],
       "_model_module": "@jupyter-widgets/controls",
       "_model_module_version": "2.0.0",
       "_model_name": "HBoxModel",
       "_view_count": null,
       "_view_module": "@jupyter-widgets/controls",
       "_view_module_version": "2.0.0",
       "_view_name": "HBoxView",
       "box_style": "",
       "children": [
        "IPY_MODEL_211770e05705497ba50751c7c0ccbf14",
        "IPY_MODEL_1ed3967edf934b9a9f1ed8a28247b1bf"
       ],
       "layout": "IPY_MODEL_a7d772d4bc6748f1972075139d4de7ec",
       "tabbable": null,
       "tooltip": null
      }
     },
     "5481513ef8bc4b4f8a805dd9465a7ef7": {
      "model_module": "@jupyter-widgets/base",
      "model_module_version": "2.0.0",
      "model_name": "LayoutModel",
      "state": {
       "_model_module": "@jupyter-widgets/base",
       "_model_module_version": "2.0.0",
       "_model_name": "LayoutModel",
       "_view_count": null,
       "_view_module": "@jupyter-widgets/base",
       "_view_module_version": "2.0.0",
       "_view_name": "LayoutView",
       "align_content": null,
       "align_items": null,
       "align_self": null,
       "border_bottom": null,
       "border_left": null,
       "border_right": null,
       "border_top": null,
       "bottom": null,
       "display": null,
       "flex": null,
       "flex_flow": null,
       "grid_area": null,
       "grid_auto_columns": null,
       "grid_auto_flow": null,
       "grid_auto_rows": null,
       "grid_column": null,
       "grid_gap": null,
       "grid_row": null,
       "grid_template_areas": null,
       "grid_template_columns": null,
       "grid_template_rows": null,
       "height": null,
       "justify_content": null,
       "justify_items": null,
       "left": null,
       "margin": null,
       "max_height": null,
       "max_width": null,
       "min_height": null,
       "min_width": null,
       "object_fit": null,
       "object_position": null,
       "order": null,
       "overflow": null,
       "padding": null,
       "right": null,
       "top": null,
       "visibility": null,
       "width": null
      }
     },
     "57a88017fd3348b4bfbaf57a0e391844": {
      "model_module": "@jupyter-widgets/output",
      "model_module_version": "1.0.0",
      "model_name": "OutputModel",
      "state": {
       "_dom_classes": [],
       "_model_module": "@jupyter-widgets/output",
       "_model_module_version": "1.0.0",
       "_model_name": "OutputModel",
       "_view_count": null,
       "_view_module": "@jupyter-widgets/output",
       "_view_module_version": "1.0.0",
       "_view_name": "OutputView",
       "layout": "IPY_MODEL_e490ac346047440d8d6bd6dfa2bd998e",
       "msg_id": "",
       "outputs": [
        {
         "data": {
          "text/markdown": "`partition`",
          "text/plain": "<IPython.core.display.Markdown object>"
         },
         "metadata": {},
         "output_type": "display_data"
        },
        {
         "data": {
          "image/svg+xml": "<svg xmlns=\"http://www.w3.org/2000/svg\" xmlns:xlink=\"http://www.w3.org/1999/xlink\" width=\"259pt\" height=\"368pt\" viewBox=\"0.00 0.00 259.00 368.00\">\n<g id=\"graph0\" class=\"graph\" transform=\"scale(1 1) rotate(0) translate(4 364)\">\n<title>my_graph</title>\n<polygon fill=\"white\" stroke=\"transparent\" points=\"-4,4 -4,-364 255,-364 255,4 -4,4\"/>\n<!-- x_G3 -->\n<g id=\"node1\" class=\"node\">\n<title>x_G3</title>\n<text text-anchor=\"middle\" x=\"27\" y=\"-261.3\" font-family=\"Times,serif\" font-size=\"14.00\">x</text>\n</g>\n<!-- Partition -->\n<g id=\"node2\" class=\"node\">\n<title>Partition</title>\n<polygon fill=\"none\" stroke=\"black\" points=\"91.5,-275 91.5,-292 154.5,-292 154.5,-275 91.5,-275\"/>\n<text text-anchor=\"start\" x=\"105\" y=\"-281\" font-family=\"Times,serif\" font-size=\"10.00\">Partition</text>\n<polygon fill=\"none\" stroke=\"black\" points=\"91.5,-254 91.5,-275 104.5,-275 104.5,-254 91.5,-254\"/>\n<text text-anchor=\"start\" x=\"94.5\" y=\"-260.8\" font-family=\"Times,serif\" font-size=\"14.00\">x</text>\n<polygon fill=\"none\" stroke=\"black\" points=\"104.5,-254 104.5,-275 154.5,-275 154.5,-254 104.5,-254\"/>\n<polygon fill=\"none\" stroke=\"black\" points=\"91.5,-233 91.5,-254 104.5,-254 104.5,-233 91.5,-233\"/>\n<polygon fill=\"none\" stroke=\"black\" points=\"104.5,-233 104.5,-254 154.5,-254 154.5,-233 104.5,-233\"/>\n<text text-anchor=\"start\" x=\"107.5\" y=\"-239.8\" font-family=\"Times,serif\" font-size=\"14.00\">xx[0, 0]</text>\n<polygon fill=\"none\" stroke=\"black\" points=\"91.5,-212 91.5,-233 104.5,-233 104.5,-212 91.5,-212\"/>\n<polygon fill=\"none\" stroke=\"black\" points=\"104.5,-212 104.5,-233 154.5,-233 154.5,-212 104.5,-212\"/>\n<text text-anchor=\"start\" x=\"107.5\" y=\"-218.8\" font-family=\"Times,serif\" font-size=\"14.00\">xx[0, 1]</text>\n<polygon fill=\"none\" stroke=\"black\" points=\"91.5,-191 91.5,-212 104.5,-212 104.5,-191 91.5,-191\"/>\n<polygon fill=\"none\" stroke=\"black\" points=\"104.5,-191 104.5,-212 154.5,-212 154.5,-191 104.5,-191\"/>\n<text text-anchor=\"start\" x=\"107.5\" y=\"-197.8\" font-family=\"Times,serif\" font-size=\"14.00\">xx[0, 2]</text>\n<polygon fill=\"none\" stroke=\"black\" points=\"91.5,-170 91.5,-191 104.5,-191 104.5,-170 91.5,-170\"/>\n<polygon fill=\"none\" stroke=\"black\" points=\"104.5,-170 104.5,-191 154.5,-191 154.5,-170 104.5,-170\"/>\n<text text-anchor=\"start\" x=\"107.5\" y=\"-176.8\" font-family=\"Times,serif\" font-size=\"14.00\">xx[1, 0]</text>\n<polygon fill=\"none\" stroke=\"black\" points=\"91.5,-149 91.5,-170 104.5,-170 104.5,-149 91.5,-149\"/>\n<polygon fill=\"none\" stroke=\"black\" points=\"104.5,-149 104.5,-170 154.5,-170 154.5,-149 104.5,-149\"/>\n<text text-anchor=\"start\" x=\"107.5\" y=\"-155.8\" font-family=\"Times,serif\" font-size=\"14.00\">xx[1, 1]</text>\n<polygon fill=\"none\" stroke=\"black\" points=\"91.5,-128 91.5,-149 104.5,-149 104.5,-128 91.5,-128\"/>\n<polygon fill=\"none\" stroke=\"black\" points=\"104.5,-128 104.5,-149 154.5,-149 154.5,-128 104.5,-128\"/>\n<text text-anchor=\"start\" x=\"107.5\" y=\"-134.8\" font-family=\"Times,serif\" font-size=\"14.00\">xx[1, 2]</text>\n<polygon fill=\"none\" stroke=\"black\" points=\"91.5,-107 91.5,-128 104.5,-128 104.5,-107 91.5,-107\"/>\n<polygon fill=\"none\" stroke=\"black\" points=\"104.5,-107 104.5,-128 154.5,-128 154.5,-107 104.5,-107\"/>\n<text text-anchor=\"start\" x=\"122.5\" y=\"-113.8\" font-family=\"Times,serif\" font-size=\"14.00\">yy</text>\n</g>\n<!-- x_G3&#45;&gt;Partition -->\n<g id=\"edge1\" class=\"edge\">\n<title>x_G3:e-&gt;Partition:w</title>\n<path fill=\"none\" stroke=\"black\" d=\"M54,-265C69.67,-265 74.14,-265 88.77,-265\"/>\n<ellipse fill=\"black\" stroke=\"black\" cx=\"90\" cy=\"-265\" rx=\"1\" ry=\"1\"/>\n<text text-anchor=\"middle\" x=\"72.5\" y=\"-268\" font-family=\"Times,serif\" font-size=\"10.00\">49</text>\n</g>\n<!-- xx_G1 -->\n<g id=\"node3\" class=\"node\">\n<title>xx_G1</title>\n<text text-anchor=\"middle\" x=\"221\" y=\"-338.3\" font-family=\"Times,serif\" font-size=\"14.00\">xx[0, 0]</text>\n</g>\n<!-- Partition&#45;&gt;xx_G1 -->\n<g id=\"edge2\" class=\"edge\">\n<title>Partition:e-&gt;xx_G1:w</title>\n<path fill=\"none\" stroke=\"black\" d=\"M154,-244C176.55,-244 168.29,-335.97 188.91,-341.72\"/>\n<ellipse fill=\"black\" stroke=\"black\" cx=\"190.01\" cy=\"-341.87\" rx=\"1\" ry=\"1\"/>\n<text text-anchor=\"middle\" x=\"172.5\" y=\"-298\" font-family=\"Times,serif\" font-size=\"10.00\">2</text>\n</g>\n<!-- xx_G7 -->\n<g id=\"node4\" class=\"node\">\n<title>xx_G7</title>\n<text text-anchor=\"middle\" x=\"221\" y=\"-284.3\" font-family=\"Times,serif\" font-size=\"14.00\">xx[0, 1]</text>\n</g>\n<!-- Partition&#45;&gt;xx_G7 -->\n<g id=\"edge3\" class=\"edge\">\n<title>Partition:e-&gt;xx_G7:w</title>\n<path fill=\"none\" stroke=\"black\" d=\"M154,-223C186.46,-223 159.11,-284.99 188.76,-287.89\"/>\n<ellipse fill=\"black\" stroke=\"black\" cx=\"190\" cy=\"-287.95\" rx=\"1\" ry=\"1\"/>\n<text text-anchor=\"middle\" x=\"172.5\" y=\"-264\" font-family=\"Times,serif\" font-size=\"10.00\">2</text>\n</g>\n<!-- xx_G2 -->\n<g id=\"node5\" class=\"node\">\n<title>xx_G2</title>\n<text text-anchor=\"middle\" x=\"221\" y=\"-230.3\" font-family=\"Times,serif\" font-size=\"14.00\">xx[0, 2]</text>\n</g>\n<!-- Partition&#45;&gt;xx_G2 -->\n<g id=\"edge4\" class=\"edge\">\n<title>Partition:e-&gt;xx_G2:w</title>\n<path fill=\"none\" stroke=\"black\" d=\"M154,-202C174.89,-202 169.72,-231.55 188.58,-233.86\"/>\n<ellipse fill=\"black\" stroke=\"black\" cx=\"190\" cy=\"-233.94\" rx=\"1\" ry=\"1\"/>\n<text text-anchor=\"middle\" x=\"172.5\" y=\"-221\" font-family=\"Times,serif\" font-size=\"10.00\">2</text>\n</g>\n<!-- xx_G11 -->\n<g id=\"node6\" class=\"node\">\n<title>xx_G11</title>\n<text text-anchor=\"middle\" x=\"221\" y=\"-176.3\" font-family=\"Times,serif\" font-size=\"14.00\">xx[1, 0]</text>\n</g>\n<!-- Partition&#45;&gt;xx_G11 -->\n<g id=\"edge5\" class=\"edge\">\n<title>Partition:e-&gt;xx_G11:w</title>\n<path fill=\"none\" stroke=\"black\" d=\"M154,-180C169.67,-180 174.14,-180 188.77,-180\"/>\n<ellipse fill=\"black\" stroke=\"black\" cx=\"190\" cy=\"-180\" rx=\"1\" ry=\"1\"/>\n<text text-anchor=\"middle\" x=\"172.5\" y=\"-183\" font-family=\"Times,serif\" font-size=\"10.00\">2</text>\n</g>\n<!-- xx_G14 -->\n<g id=\"node7\" class=\"node\">\n<title>xx_G14</title>\n<text text-anchor=\"middle\" x=\"221\" y=\"-122.3\" font-family=\"Times,serif\" font-size=\"14.00\">xx[1, 1]</text>\n</g>\n<!-- Partition&#45;&gt;xx_G14 -->\n<g id=\"edge6\" class=\"edge\">\n<title>Partition:e-&gt;xx_G14:w</title>\n<path fill=\"none\" stroke=\"black\" d=\"M154,-159C175.17,-159 169.47,-128.53 188.55,-126.15\"/>\n<ellipse fill=\"black\" stroke=\"black\" cx=\"190\" cy=\"-126.06\" rx=\"1\" ry=\"1\"/>\n<text text-anchor=\"middle\" x=\"172.5\" y=\"-146\" font-family=\"Times,serif\" font-size=\"10.00\">2</text>\n</g>\n<!-- xx_G6 -->\n<g id=\"node8\" class=\"node\">\n<title>xx_G6</title>\n<text text-anchor=\"middle\" x=\"221\" y=\"-68.3\" font-family=\"Times,serif\" font-size=\"14.00\">xx[1, 2]</text>\n</g>\n<!-- Partition&#45;&gt;xx_G6 -->\n<g id=\"edge7\" class=\"edge\">\n<title>Partition:e-&gt;xx_G6:w</title>\n<path fill=\"none\" stroke=\"black\" d=\"M154,-138C186.84,-138 158.75,-75.06 188.74,-72.11\"/>\n<ellipse fill=\"black\" stroke=\"black\" cx=\"190\" cy=\"-72.05\" rx=\"1\" ry=\"1\"/>\n<text text-anchor=\"middle\" x=\"172.5\" y=\"-115\" font-family=\"Times,serif\" font-size=\"10.00\">2</text>\n</g>\n<!-- yy_G10 -->\n<g id=\"node9\" class=\"node\">\n<title>yy_G10</title>\n<text text-anchor=\"middle\" x=\"221\" y=\"-14.3\" font-family=\"Times,serif\" font-size=\"14.00\">yy</text>\n</g>\n<!-- Partition&#45;&gt;yy_G10 -->\n<g id=\"edge8\" class=\"edge\">\n<title>Partition:e-&gt;yy_G10:w</title>\n<path fill=\"none\" stroke=\"black\" d=\"M154,-117C176.91,-117 169.84,-24.09 190.87,-18.28\"/>\n<ellipse fill=\"black\" stroke=\"black\" cx=\"192.01\" cy=\"-18.13\" rx=\"1\" ry=\"1\"/>\n<text text-anchor=\"middle\" x=\"172.5\" y=\"-80\" font-family=\"Times,serif\" font-size=\"10.00\">37</text>\n</g>\n</g>\n</svg>",
          "text/plain": "<IPython.core.display.SVG object>"
         },
         "metadata": {},
         "output_type": "display_data"
        }
       ],
       "tabbable": null,
       "tooltip": null
      }
     },
     "58b213ee7e6b4c5db0a2fa2f51091015": {
      "model_module": "@jupyter-widgets/controls",
      "model_module_version": "2.0.0",
      "model_name": "HBoxModel",
      "state": {
       "_dom_classes": [],
       "_model_module": "@jupyter-widgets/controls",
       "_model_module_version": "2.0.0",
       "_model_name": "HBoxModel",
       "_view_count": null,
       "_view_module": "@jupyter-widgets/controls",
       "_view_module_version": "2.0.0",
       "_view_name": "HBoxView",
       "box_style": "",
       "children": [
        "IPY_MODEL_1ec1bbb4238f41a2a0a572795ab95ffd"
       ],
       "layout": "IPY_MODEL_5ea45b53732e4776bdb3aafb77fbe193",
       "tabbable": null,
       "tooltip": null
      }
     },
     "5d11794db01b4ac582dc68a38b0f61cb": {
      "model_module": "@jupyter-widgets/base",
      "model_module_version": "2.0.0",
      "model_name": "LayoutModel",
      "state": {
       "_model_module": "@jupyter-widgets/base",
       "_model_module_version": "2.0.0",
       "_model_name": "LayoutModel",
       "_view_count": null,
       "_view_module": "@jupyter-widgets/base",
       "_view_module_version": "2.0.0",
       "_view_name": "LayoutView",
       "align_content": null,
       "align_items": null,
       "align_self": null,
       "border_bottom": null,
       "border_left": null,
       "border_right": null,
       "border_top": null,
       "bottom": null,
       "display": null,
       "flex": null,
       "flex_flow": null,
       "grid_area": null,
       "grid_auto_columns": null,
       "grid_auto_flow": null,
       "grid_auto_rows": null,
       "grid_column": null,
       "grid_gap": null,
       "grid_row": null,
       "grid_template_areas": null,
       "grid_template_columns": null,
       "grid_template_rows": null,
       "height": null,
       "justify_content": null,
       "justify_items": null,
       "left": null,
       "margin": null,
       "max_height": null,
       "max_width": null,
       "min_height": null,
       "min_width": null,
       "object_fit": null,
       "object_position": null,
       "order": null,
       "overflow": null,
       "padding": null,
       "right": null,
       "top": null,
       "visibility": null,
       "width": null
      }
     },
     "5ea45b53732e4776bdb3aafb77fbe193": {
      "model_module": "@jupyter-widgets/base",
      "model_module_version": "2.0.0",
      "model_name": "LayoutModel",
      "state": {
       "_model_module": "@jupyter-widgets/base",
       "_model_module_version": "2.0.0",
       "_model_name": "LayoutModel",
       "_view_count": null,
       "_view_module": "@jupyter-widgets/base",
       "_view_module_version": "2.0.0",
       "_view_name": "LayoutView",
       "align_content": null,
       "align_items": null,
       "align_self": null,
       "border_bottom": null,
       "border_left": null,
       "border_right": null,
       "border_top": null,
       "bottom": null,
       "display": null,
       "flex": null,
       "flex_flow": null,
       "grid_area": null,
       "grid_auto_columns": null,
       "grid_auto_flow": null,
       "grid_auto_rows": null,
       "grid_column": null,
       "grid_gap": null,
       "grid_row": null,
       "grid_template_areas": null,
       "grid_template_columns": null,
       "grid_template_rows": null,
       "height": null,
       "justify_content": null,
       "justify_items": null,
       "left": null,
       "margin": null,
       "max_height": null,
       "max_width": null,
       "min_height": null,
       "min_width": null,
       "object_fit": null,
       "object_position": null,
       "order": null,
       "overflow": null,
       "padding": null,
       "right": null,
       "top": null,
       "visibility": null,
       "width": null
      }
     },
     "615a69c3a9a749e5a403634bc1d53672": {
      "model_module": "@jupyter-widgets/base",
      "model_module_version": "2.0.0",
      "model_name": "LayoutModel",
      "state": {
       "_model_module": "@jupyter-widgets/base",
       "_model_module_version": "2.0.0",
       "_model_name": "LayoutModel",
       "_view_count": null,
       "_view_module": "@jupyter-widgets/base",
       "_view_module_version": "2.0.0",
       "_view_name": "LayoutView",
       "align_content": null,
       "align_items": null,
       "align_self": null,
       "border_bottom": null,
       "border_left": null,
       "border_right": null,
       "border_top": null,
       "bottom": null,
       "display": null,
       "flex": null,
       "flex_flow": null,
       "grid_area": null,
       "grid_auto_columns": null,
       "grid_auto_flow": null,
       "grid_auto_rows": null,
       "grid_column": null,
       "grid_gap": null,
       "grid_row": null,
       "grid_template_areas": null,
       "grid_template_columns": null,
       "grid_template_rows": null,
       "height": null,
       "justify_content": null,
       "justify_items": null,
       "left": null,
       "margin": null,
       "max_height": null,
       "max_width": null,
       "min_height": null,
       "min_width": null,
       "object_fit": null,
       "object_position": null,
       "order": null,
       "overflow": null,
       "padding": null,
       "right": null,
       "top": null,
       "visibility": null,
       "width": null
      }
     },
     "81f96588d2ee47099bdcd6f08717a534": {
      "model_module": "@jupyter-widgets/base",
      "model_module_version": "2.0.0",
      "model_name": "LayoutModel",
      "state": {
       "_model_module": "@jupyter-widgets/base",
       "_model_module_version": "2.0.0",
       "_model_name": "LayoutModel",
       "_view_count": null,
       "_view_module": "@jupyter-widgets/base",
       "_view_module_version": "2.0.0",
       "_view_name": "LayoutView",
       "align_content": null,
       "align_items": null,
       "align_self": null,
       "border_bottom": null,
       "border_left": null,
       "border_right": null,
       "border_top": null,
       "bottom": null,
       "display": null,
       "flex": null,
       "flex_flow": null,
       "grid_area": null,
       "grid_auto_columns": null,
       "grid_auto_flow": null,
       "grid_auto_rows": null,
       "grid_column": null,
       "grid_gap": null,
       "grid_row": null,
       "grid_template_areas": null,
       "grid_template_columns": null,
       "grid_template_rows": null,
       "height": null,
       "justify_content": null,
       "justify_items": null,
       "left": null,
       "margin": null,
       "max_height": null,
       "max_width": null,
       "min_height": null,
       "min_width": null,
       "object_fit": null,
       "object_position": null,
       "order": null,
       "overflow": null,
       "padding": null,
       "right": null,
       "top": null,
       "visibility": null,
       "width": null
      }
     },
     "942fd86863d04190a2e9b377d5ebde48": {
      "model_module": "@jupyter-widgets/output",
      "model_module_version": "1.0.0",
      "model_name": "OutputModel",
      "state": {
       "_dom_classes": [],
       "_model_module": "@jupyter-widgets/output",
       "_model_module_version": "1.0.0",
       "_model_name": "OutputModel",
       "_view_count": null,
       "_view_module": "@jupyter-widgets/output",
       "_view_module_version": "1.0.0",
       "_view_name": "OutputView",
       "layout": "IPY_MODEL_5481513ef8bc4b4f8a805dd9465a7ef7",
       "msg_id": "",
       "outputs": [
        {
         "data": {
          "text/markdown": "`cast`",
          "text/plain": "<IPython.core.display.Markdown object>"
         },
         "metadata": {},
         "output_type": "display_data"
        },
        {
         "data": {
          "image/svg+xml": "<svg xmlns=\"http://www.w3.org/2000/svg\" xmlns:xlink=\"http://www.w3.org/1999/xlink\" width=\"238pt\" height=\"54pt\" viewBox=\"0.00 0.00 238.00 54.00\">\n<g id=\"graph0\" class=\"graph\" transform=\"scale(1 1) rotate(0) translate(4 50)\">\n<title>my_graph</title>\n<polygon fill=\"white\" stroke=\"transparent\" points=\"-4,4 -4,-50 234,-50 234,4 -4,4\"/>\n<!-- reg_G2 -->\n<g id=\"node1\" class=\"node\">\n<title>reg_G2</title>\n<text text-anchor=\"middle\" x=\"27\" y=\"-14.3\" font-family=\"Times,serif\" font-size=\"14.00\">reg</text>\n</g>\n<!-- Cast -->\n<g id=\"node2\" class=\"node\">\n<title>Cast</title>\n<polygon fill=\"none\" stroke=\"black\" points=\"91,-29 91,-46 139,-46 139,-29 91,-29\"/>\n<text text-anchor=\"start\" x=\"105.5\" y=\"-35\" font-family=\"Times,serif\" font-size=\"10.00\">Cast</text>\n<polygon fill=\"none\" stroke=\"black\" points=\"91,-8 91,-29 115,-29 115,-8 91,-8\"/>\n<text text-anchor=\"start\" x=\"94\" y=\"-14.8\" font-family=\"Times,serif\" font-size=\"14.00\">reg</text>\n<polygon fill=\"none\" stroke=\"black\" points=\"115,-8 115,-29 139,-29 139,-8 115,-8\"/>\n<text text-anchor=\"start\" x=\"118\" y=\"-14.8\" font-family=\"Times,serif\" font-size=\"14.00\">reg</text>\n</g>\n<!-- reg_G2&#45;&gt;Cast -->\n<g id=\"edge1\" class=\"edge\">\n<title>reg_G2:e-&gt;Cast:w</title>\n<path fill=\"none\" stroke=\"black\" d=\"M54,-18C69.67,-18 74.14,-18 88.77,-18\"/>\n<ellipse fill=\"black\" stroke=\"black\" cx=\"90\" cy=\"-18\" rx=\"1\" ry=\"1\"/>\n<text text-anchor=\"middle\" x=\"72.5\" y=\"-21\" font-family=\"Times,serif\" font-size=\"10.00\">32</text>\n</g>\n<!-- reg_G0 -->\n<g id=\"node3\" class=\"node\">\n<title>reg_G0</title>\n<text text-anchor=\"middle\" x=\"203\" y=\"-14.3\" font-family=\"Times,serif\" font-size=\"14.00\">reg</text>\n</g>\n<!-- Cast&#45;&gt;reg_G0 -->\n<g id=\"edge2\" class=\"edge\">\n<title>Cast:e-&gt;reg_G0:w</title>\n<path fill=\"none\" stroke=\"black\" d=\"M139,-18C154.67,-18 159.14,-18 173.77,-18\"/>\n<ellipse fill=\"black\" stroke=\"black\" cx=\"175\" cy=\"-18\" rx=\"1\" ry=\"1\"/>\n<text text-anchor=\"middle\" x=\"157.5\" y=\"-21\" font-family=\"Times,serif\" font-size=\"10.00\">32</text>\n</g>\n</g>\n</svg>",
          "text/plain": "<IPython.core.display.SVG object>"
         },
         "metadata": {},
         "output_type": "display_data"
        }
       ],
       "tabbable": null,
       "tooltip": null
      }
     },
     "a7d772d4bc6748f1972075139d4de7ec": {
      "model_module": "@jupyter-widgets/base",
      "model_module_version": "2.0.0",
      "model_name": "LayoutModel",
      "state": {
       "_model_module": "@jupyter-widgets/base",
       "_model_module_version": "2.0.0",
       "_model_name": "LayoutModel",
       "_view_count": null,
       "_view_module": "@jupyter-widgets/base",
       "_view_module_version": "2.0.0",
       "_view_name": "LayoutView",
       "align_content": null,
       "align_items": null,
       "align_self": null,
       "border_bottom": null,
       "border_left": null,
       "border_right": null,
       "border_top": null,
       "bottom": null,
       "display": null,
       "flex": null,
       "flex_flow": null,
       "grid_area": null,
       "grid_auto_columns": null,
       "grid_auto_flow": null,
       "grid_auto_rows": null,
       "grid_column": null,
       "grid_gap": null,
       "grid_row": null,
       "grid_template_areas": null,
       "grid_template_columns": null,
       "grid_template_rows": null,
       "height": null,
       "justify_content": null,
       "justify_items": null,
       "left": null,
       "margin": null,
       "max_height": null,
       "max_width": null,
       "min_height": null,
       "min_width": null,
       "object_fit": null,
       "object_position": null,
       "order": null,
       "overflow": null,
       "padding": null,
       "right": null,
       "top": null,
       "visibility": null,
       "width": null
      }
     },
     "a87dbd041ce648a5ba3925ccc097b7de": {
      "model_module": "@jupyter-widgets/base",
      "model_module_version": "2.0.0",
      "model_name": "LayoutModel",
      "state": {
       "_model_module": "@jupyter-widgets/base",
       "_model_module_version": "2.0.0",
       "_model_name": "LayoutModel",
       "_view_count": null,
       "_view_module": "@jupyter-widgets/base",
       "_view_module_version": "2.0.0",
       "_view_name": "LayoutView",
       "align_content": null,
       "align_items": null,
       "align_self": null,
       "border_bottom": null,
       "border_left": null,
       "border_right": null,
       "border_top": null,
       "bottom": null,
       "display": null,
       "flex": null,
       "flex_flow": null,
       "grid_area": null,
       "grid_auto_columns": null,
       "grid_auto_flow": null,
       "grid_auto_rows": null,
       "grid_column": null,
       "grid_gap": null,
       "grid_row": null,
       "grid_template_areas": null,
       "grid_template_columns": null,
       "grid_template_rows": null,
       "height": null,
       "justify_content": null,
       "justify_items": null,
       "left": null,
       "margin": null,
       "max_height": null,
       "max_width": null,
       "min_height": null,
       "min_width": null,
       "object_fit": null,
       "object_position": null,
       "order": null,
       "overflow": null,
       "padding": null,
       "right": null,
       "top": null,
       "visibility": null,
       "width": null
      }
     },
     "ae016a1461694cf3a1c4835b6e9d4bbc": {
      "model_module": "@jupyter-widgets/output",
      "model_module_version": "1.0.0",
      "model_name": "OutputModel",
      "state": {
       "_dom_classes": [],
       "_model_module": "@jupyter-widgets/output",
       "_model_module_version": "1.0.0",
       "_model_name": "OutputModel",
       "_view_count": null,
       "_view_module": "@jupyter-widgets/output",
       "_view_module_version": "1.0.0",
       "_view_name": "OutputView",
       "layout": "IPY_MODEL_a87dbd041ce648a5ba3925ccc097b7de",
       "msg_id": "",
       "outputs": [
        {
         "data": {
          "text/markdown": "`free`",
          "text/plain": "<IPython.core.display.Markdown object>"
         },
         "metadata": {},
         "output_type": "display_data"
        },
        {
         "data": {
          "image/svg+xml": "<svg xmlns=\"http://www.w3.org/2000/svg\" xmlns:xlink=\"http://www.w3.org/1999/xlink\" width=\"129pt\" height=\"54pt\" viewBox=\"0.00 0.00 129.00 54.00\">\n<g id=\"graph0\" class=\"graph\" transform=\"scale(1 1) rotate(0) translate(4 50)\">\n<title>my_graph</title>\n<polygon fill=\"white\" stroke=\"transparent\" points=\"-4,4 -4,-50 125,-50 125,4 -4,4\"/>\n<!-- reg_G1 -->\n<g id=\"node1\" class=\"node\">\n<title>reg_G1</title>\n<text text-anchor=\"middle\" x=\"27\" y=\"-14.3\" font-family=\"Times,serif\" font-size=\"14.00\">reg</text>\n</g>\n<!-- Free -->\n<g id=\"node2\" class=\"node\">\n<title>Free</title>\n<polygon fill=\"none\" stroke=\"black\" points=\"91,-29 91,-46 121,-46 121,-29 91,-29\"/>\n<text text-anchor=\"start\" x=\"97\" y=\"-35\" font-family=\"Times,serif\" font-size=\"10.00\">Free</text>\n<polygon fill=\"none\" stroke=\"black\" points=\"91,-8 91,-29 115,-29 115,-8 91,-8\"/>\n<text text-anchor=\"start\" x=\"94\" y=\"-14.8\" font-family=\"Times,serif\" font-size=\"14.00\">reg</text>\n<polygon fill=\"none\" stroke=\"black\" points=\"115,-8 115,-29 121,-29 121,-8 115,-8\"/>\n</g>\n<!-- reg_G1&#45;&gt;Free -->\n<g id=\"edge1\" class=\"edge\">\n<title>reg_G1:e-&gt;Free:w</title>\n<path fill=\"none\" stroke=\"black\" d=\"M54,-18C69.67,-18 74.14,-18 88.77,-18\"/>\n<ellipse fill=\"black\" stroke=\"black\" cx=\"90\" cy=\"-18\" rx=\"1\" ry=\"1\"/>\n<text text-anchor=\"middle\" x=\"72.5\" y=\"-21\" font-family=\"Times,serif\" font-size=\"10.00\">n</text>\n</g>\n</g>\n</svg>",
          "text/plain": "<IPython.core.display.SVG object>"
         },
         "metadata": {},
         "output_type": "display_data"
        }
       ],
       "tabbable": null,
       "tooltip": null
      }
     },
     "b1d25b7fb6fe4ff6baef503ac66a273b": {
      "model_module": "@jupyter-widgets/base",
      "model_module_version": "2.0.0",
      "model_name": "LayoutModel",
      "state": {
       "_model_module": "@jupyter-widgets/base",
       "_model_module_version": "2.0.0",
       "_model_name": "LayoutModel",
       "_view_count": null,
       "_view_module": "@jupyter-widgets/base",
       "_view_module_version": "2.0.0",
       "_view_name": "LayoutView",
       "align_content": null,
       "align_items": null,
       "align_self": null,
       "border_bottom": null,
       "border_left": null,
       "border_right": null,
       "border_top": null,
       "bottom": null,
       "display": null,
       "flex": null,
       "flex_flow": null,
       "grid_area": null,
       "grid_auto_columns": null,
       "grid_auto_flow": null,
       "grid_auto_rows": null,
       "grid_column": null,
       "grid_gap": null,
       "grid_row": null,
       "grid_template_areas": null,
       "grid_template_columns": null,
       "grid_template_rows": null,
       "height": null,
       "justify_content": null,
       "justify_items": null,
       "left": null,
       "margin": null,
       "max_height": null,
       "max_width": null,
       "min_height": null,
       "min_width": null,
       "object_fit": null,
       "object_position": null,
       "order": null,
       "overflow": null,
       "padding": null,
       "right": null,
       "top": null,
       "visibility": null,
       "width": null
      }
     },
     "c6d54cc33b28449b9200d831700a4ed3": {
      "model_module": "@jupyter-widgets/output",
      "model_module_version": "1.0.0",
      "model_name": "OutputModel",
      "state": {
       "_dom_classes": [],
       "_model_module": "@jupyter-widgets/output",
       "_model_module_version": "1.0.0",
       "_model_name": "OutputModel",
       "_view_count": null,
       "_view_module": "@jupyter-widgets/output",
       "_view_module_version": "1.0.0",
       "_view_name": "OutputView",
       "layout": "IPY_MODEL_386acdb5f35f491a930a72e226fd973c",
       "msg_id": "",
       "outputs": [
        {
         "data": {
          "text/markdown": "`join`",
          "text/plain": "<IPython.core.display.Markdown object>"
         },
         "metadata": {},
         "output_type": "display_data"
        },
        {
         "data": {
          "image/svg+xml": "<svg xmlns=\"http://www.w3.org/2000/svg\" xmlns:xlink=\"http://www.w3.org/1999/xlink\" width=\"202pt\" height=\"206pt\" viewBox=\"0.00 0.00 202.00 206.00\">\n<g id=\"graph0\" class=\"graph\" transform=\"scale(1 1) rotate(0) translate(4 202)\">\n<title>my_graph</title>\n<polygon fill=\"white\" stroke=\"transparent\" points=\"-4,4 -4,-202 198,-202 198,4 -4,4\"/>\n<!-- reg_G5 -->\n<g id=\"node1\" class=\"node\">\n<title>reg_G5</title>\n<text text-anchor=\"middle\" x=\"27\" y=\"-176.3\" font-family=\"Times,serif\" font-size=\"14.00\">reg[0]</text>\n</g>\n<!-- Join -->\n<g id=\"node5\" class=\"node\">\n<title>Join</title>\n<polygon fill=\"none\" stroke=\"black\" points=\"91,-111 91,-117 103,-117 103,-111 91,-111\"/>\n<polygon fill=\"none\" stroke=\"black\" points=\"91,-105 91,-111 97,-111 97,-105 91,-105\"/>\n<polygon fill=\"none\" stroke=\"black\" points=\"97,-87 97,-111 103,-111 103,-87 97,-87\"/>\n<polygon fill=\"none\" stroke=\"black\" points=\"91,-99 91,-105 97,-105 97,-99 91,-99\"/>\n<polygon fill=\"none\" stroke=\"black\" points=\"91,-93 91,-99 97,-99 97,-93 91,-93\"/>\n<polygon fill=\"none\" stroke=\"black\" points=\"91,-87 91,-93 97,-93 97,-87 91,-87\"/>\n</g>\n<!-- reg_G5&#45;&gt;Join -->\n<g id=\"edge1\" class=\"edge\">\n<title>reg_G5:e-&gt;Join:w</title>\n<path fill=\"none\" stroke=\"black\" d=\"M54,-180C89.28,-180 56.36,-110.79 88.97,-108.08\"/>\n<ellipse fill=\"black\" stroke=\"black\" cx=\"90\" cy=\"-108.04\" rx=\"1\" ry=\"1\"/>\n<text text-anchor=\"middle\" x=\"72.5\" y=\"-159\" font-family=\"Times,serif\" font-size=\"10.00\">1</text>\n</g>\n<!-- reg_G2 -->\n<g id=\"node2\" class=\"node\">\n<title>reg_G2</title>\n<text text-anchor=\"middle\" x=\"27\" y=\"-122.3\" font-family=\"Times,serif\" font-size=\"14.00\">reg[1]</text>\n</g>\n<!-- reg_G2&#45;&gt;Join -->\n<g id=\"edge2\" class=\"edge\">\n<title>reg_G2:e-&gt;Join:w</title>\n<path fill=\"none\" stroke=\"black\" d=\"M54,-126C72.84,-126 71.54,-103.84 88.8,-102.11\"/>\n<ellipse fill=\"black\" stroke=\"black\" cx=\"90\" cy=\"-102.05\" rx=\"1\" ry=\"1\"/>\n<text text-anchor=\"middle\" x=\"72.5\" y=\"-117\" font-family=\"Times,serif\" font-size=\"10.00\">1</text>\n</g>\n<!-- reg_G7 -->\n<g id=\"node3\" class=\"node\">\n<title>reg_G7</title>\n<text text-anchor=\"middle\" x=\"27\" y=\"-68.3\" font-family=\"Times,serif\" font-size=\"14.00\">reg[2]</text>\n</g>\n<!-- reg_G7&#45;&gt;Join -->\n<g id=\"edge3\" class=\"edge\">\n<title>reg_G7:e-&gt;Join:w</title>\n<path fill=\"none\" stroke=\"black\" d=\"M54,-72C72.84,-72 71.54,-94.16 88.8,-95.89\"/>\n<ellipse fill=\"black\" stroke=\"black\" cx=\"90\" cy=\"-95.95\" rx=\"1\" ry=\"1\"/>\n<text text-anchor=\"middle\" x=\"72.5\" y=\"-87\" font-family=\"Times,serif\" font-size=\"10.00\">1</text>\n</g>\n<!-- reg_G1 -->\n<g id=\"node4\" class=\"node\">\n<title>reg_G1</title>\n<text text-anchor=\"middle\" x=\"27\" y=\"-14.3\" font-family=\"Times,serif\" font-size=\"14.00\">reg[3]</text>\n</g>\n<!-- reg_G1&#45;&gt;Join -->\n<g id=\"edge4\" class=\"edge\">\n<title>reg_G1:e-&gt;Join:w</title>\n<path fill=\"none\" stroke=\"black\" d=\"M54,-18C89.28,-18 56.36,-87.21 88.97,-89.92\"/>\n<ellipse fill=\"black\" stroke=\"black\" cx=\"90\" cy=\"-89.96\" rx=\"1\" ry=\"1\"/>\n<text text-anchor=\"middle\" x=\"72.5\" y=\"-69\" font-family=\"Times,serif\" font-size=\"10.00\">1</text>\n</g>\n<!-- reg_G6 -->\n<g id=\"node6\" class=\"node\">\n<title>reg_G6</title>\n<text text-anchor=\"middle\" x=\"167\" y=\"-95.3\" font-family=\"Times,serif\" font-size=\"14.00\">reg</text>\n</g>\n<!-- Join&#45;&gt;reg_G6 -->\n<g id=\"edge5\" class=\"edge\">\n<title>Join:e-&gt;reg_G6:w</title>\n<path fill=\"none\" stroke=\"black\" d=\"M103,-99C118.67,-99 123.14,-99 137.77,-99\"/>\n<ellipse fill=\"black\" stroke=\"black\" cx=\"139\" cy=\"-99\" rx=\"1\" ry=\"1\"/>\n<text text-anchor=\"middle\" x=\"121.5\" y=\"-102\" font-family=\"Times,serif\" font-size=\"10.00\">4</text>\n</g>\n</g>\n</svg>",
          "text/plain": "<IPython.core.display.SVG object>"
         },
         "metadata": {},
         "output_type": "display_data"
        }
       ],
       "tabbable": null,
       "tooltip": null
      }
     },
     "cfe81c6f162d4eefbc1e22af8c16aea0": {
      "model_module": "@jupyter-widgets/controls",
      "model_module_version": "2.0.0",
      "model_name": "HBoxModel",
      "state": {
       "_dom_classes": [],
       "_model_module": "@jupyter-widgets/controls",
       "_model_module_version": "2.0.0",
       "_model_name": "HBoxModel",
       "_view_count": null,
       "_view_module": "@jupyter-widgets/controls",
       "_view_module_version": "2.0.0",
       "_view_name": "HBoxView",
       "box_style": "",
       "children": [
        "IPY_MODEL_57a88017fd3348b4bfbaf57a0e391844"
       ],
       "layout": "IPY_MODEL_366e5aef50584c92a54b504d3b9f6847",
       "tabbable": null,
       "tooltip": null
      }
     },
     "da16e4e8c10046468c35e610d89102ed": {
      "model_module": "@jupyter-widgets/base",
      "model_module_version": "2.0.0",
      "model_name": "LayoutModel",
      "state": {
       "_model_module": "@jupyter-widgets/base",
       "_model_module_version": "2.0.0",
       "_model_name": "LayoutModel",
       "_view_count": null,
       "_view_module": "@jupyter-widgets/base",
       "_view_module_version": "2.0.0",
       "_view_name": "LayoutView",
       "align_content": null,
       "align_items": null,
       "align_self": null,
       "border_bottom": null,
       "border_left": null,
       "border_right": null,
       "border_top": null,
       "bottom": null,
       "display": null,
       "flex": null,
       "flex_flow": null,
       "grid_area": null,
       "grid_auto_columns": null,
       "grid_auto_flow": null,
       "grid_auto_rows": null,
       "grid_column": null,
       "grid_gap": null,
       "grid_row": null,
       "grid_template_areas": null,
       "grid_template_columns": null,
       "grid_template_rows": null,
       "height": null,
       "justify_content": null,
       "justify_items": null,
       "left": null,
       "margin": null,
       "max_height": null,
       "max_width": null,
       "min_height": null,
       "min_width": null,
       "object_fit": null,
       "object_position": null,
       "order": null,
       "overflow": null,
       "padding": null,
       "right": null,
       "top": null,
       "visibility": null,
       "width": null
      }
     },
     "e2530508356646d6bba85356764712f4": {
      "model_module": "@jupyter-widgets/base",
      "model_module_version": "2.0.0",
      "model_name": "LayoutModel",
      "state": {
       "_model_module": "@jupyter-widgets/base",
       "_model_module_version": "2.0.0",
       "_model_name": "LayoutModel",
       "_view_count": null,
       "_view_module": "@jupyter-widgets/base",
       "_view_module_version": "2.0.0",
       "_view_name": "LayoutView",
       "align_content": null,
       "align_items": null,
       "align_self": null,
       "border_bottom": null,
       "border_left": null,
       "border_right": null,
       "border_top": null,
       "bottom": null,
       "display": null,
       "flex": null,
       "flex_flow": null,
       "grid_area": null,
       "grid_auto_columns": null,
       "grid_auto_flow": null,
       "grid_auto_rows": null,
       "grid_column": null,
       "grid_gap": null,
       "grid_row": null,
       "grid_template_areas": null,
       "grid_template_columns": null,
       "grid_template_rows": null,
       "height": null,
       "justify_content": null,
       "justify_items": null,
       "left": null,
       "margin": null,
       "max_height": null,
       "max_width": null,
       "min_height": null,
       "min_width": null,
       "object_fit": null,
       "object_position": null,
       "order": null,
       "overflow": null,
       "padding": null,
       "right": null,
       "top": null,
       "visibility": null,
       "width": null
      }
     },
     "e490ac346047440d8d6bd6dfa2bd998e": {
      "model_module": "@jupyter-widgets/base",
      "model_module_version": "2.0.0",
      "model_name": "LayoutModel",
      "state": {
       "_model_module": "@jupyter-widgets/base",
       "_model_module_version": "2.0.0",
       "_model_name": "LayoutModel",
       "_view_count": null,
       "_view_module": "@jupyter-widgets/base",
       "_view_module_version": "2.0.0",
       "_view_name": "LayoutView",
       "align_content": null,
       "align_items": null,
       "align_self": null,
       "border_bottom": null,
       "border_left": null,
       "border_right": null,
       "border_top": null,
       "bottom": null,
       "display": null,
       "flex": null,
       "flex_flow": null,
       "grid_area": null,
       "grid_auto_columns": null,
       "grid_auto_flow": null,
       "grid_auto_rows": null,
       "grid_column": null,
       "grid_gap": null,
       "grid_row": null,
       "grid_template_areas": null,
       "grid_template_columns": null,
       "grid_template_rows": null,
       "height": null,
       "justify_content": null,
       "justify_items": null,
       "left": null,
       "margin": null,
       "max_height": null,
       "max_width": null,
       "min_height": null,
       "min_width": null,
       "object_fit": null,
       "object_position": null,
       "order": null,
       "overflow": null,
       "padding": null,
       "right": null,
       "top": null,
       "visibility": null,
       "width": null
      }
     },
     "ecdded4d77184f7f92446c49ddcce505": {
      "model_module": "@jupyter-widgets/controls",
      "model_module_version": "2.0.0",
      "model_name": "HBoxModel",
      "state": {
       "_dom_classes": [],
       "_model_module": "@jupyter-widgets/controls",
       "_model_module_version": "2.0.0",
       "_model_name": "HBoxModel",
       "_view_count": null,
       "_view_module": "@jupyter-widgets/controls",
       "_view_module_version": "2.0.0",
       "_view_name": "HBoxView",
       "box_style": "",
       "children": [
        "IPY_MODEL_43a70343200746fd9824a1c5147d078b"
       ],
       "layout": "IPY_MODEL_5d11794db01b4ac582dc68a38b0f61cb",
       "tabbable": null,
       "tooltip": null
      }
     },
     "f34cfc4753564280991356521b5bbc8a": {
      "model_module": "@jupyter-widgets/controls",
      "model_module_version": "2.0.0",
      "model_name": "HBoxModel",
      "state": {
       "_dom_classes": [],
       "_model_module": "@jupyter-widgets/controls",
       "_model_module_version": "2.0.0",
       "_model_name": "HBoxModel",
       "_view_count": null,
       "_view_module": "@jupyter-widgets/controls",
       "_view_module_version": "2.0.0",
       "_view_name": "HBoxView",
       "box_style": "",
       "children": [
        "IPY_MODEL_c6d54cc33b28449b9200d831700a4ed3"
       ],
       "layout": "IPY_MODEL_da16e4e8c10046468c35e610d89102ed",
       "tabbable": null,
       "tooltip": null
      }
     },
     "fe4536f40c374a20b1980e1661c1d41f": {
      "model_module": "@jupyter-widgets/base",
      "model_module_version": "2.0.0",
      "model_name": "LayoutModel",
      "state": {
       "_model_module": "@jupyter-widgets/base",
       "_model_module_version": "2.0.0",
       "_model_name": "LayoutModel",
       "_view_count": null,
       "_view_module": "@jupyter-widgets/base",
       "_view_module_version": "2.0.0",
       "_view_name": "LayoutView",
       "align_content": null,
       "align_items": null,
       "align_self": null,
       "border_bottom": null,
       "border_left": null,
       "border_right": null,
       "border_top": null,
       "bottom": null,
       "display": null,
       "flex": null,
       "flex_flow": null,
       "grid_area": null,
       "grid_auto_columns": null,
       "grid_auto_flow": null,
       "grid_auto_rows": null,
       "grid_column": null,
       "grid_gap": null,
       "grid_row": null,
       "grid_template_areas": null,
       "grid_template_columns": null,
       "grid_template_rows": null,
       "height": null,
       "justify_content": null,
       "justify_items": null,
       "left": null,
       "margin": null,
       "max_height": null,
       "max_width": null,
       "min_height": null,
       "min_width": null,
       "object_fit": null,
       "object_position": null,
       "order": null,
       "overflow": null,
       "padding": null,
       "right": null,
       "top": null,
       "visibility": null,
       "width": null
      }
     }
    },
    "version_major": 2,
    "version_minor": 0
   }
  }
 },
 "nbformat": 4,
 "nbformat_minor": 5
}
