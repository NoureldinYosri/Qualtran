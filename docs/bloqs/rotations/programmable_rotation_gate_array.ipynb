{
 "cells": [
  {
   "cell_type": "markdown",
   "id": "cd9af9c1",
   "metadata": {
    "cq.autogen": "title_cell"
   },
   "source": [
    "# Programmable Rotation Gate Array"
   ]
  },
  {
   "cell_type": "code",
   "execution_count": 1,
   "id": "d1abb757",
   "metadata": {
    "cq.autogen": "top_imports"
   },
   "outputs": [],
   "source": [
    "from qualtran import Bloq, CompositeBloq, BloqBuilder, Signature, Register\n",
    "from qualtran import QBit, QInt, QUInt, QAny\n",
    "from qualtran.drawing import show_bloq, show_call_graph, show_counts_sigma\n",
    "from typing import *\n",
    "import numpy as np\n",
    "import sympy\n",
    "import cirq"
   ]
  },
  {
   "cell_type": "markdown",
   "id": "c850551e",
   "metadata": {
    "cq.autogen": "ProgrammableRotationGateArray.bloq_doc.md"
   },
   "source": [
    "## `ProgrammableRotationGateArray`\n",
    "An implementation of `ProgrammableRotationGateArrayBase` base class\n",
    "\n",
    "\n",
    "This implementation of the `ProgrammableRotationGateArray` base class expects\n",
    "all interleaved_unitaries to act on the `rotations_target` register.\n",
    "\n",
    "See docstring of `ProgrammableRotationGateArrayBase` for more details."
   ]
  },
  {
   "cell_type": "code",
   "execution_count": 2,
   "id": "d53f66f1",
   "metadata": {
    "cq.autogen": "ProgrammableRotationGateArray.bloq_doc.py"
   },
   "outputs": [],
   "source": [
    "from qualtran.bloqs.rotations import ProgrammableRotationGateArray"
   ]
  },
  {
   "cell_type": "markdown",
   "id": "7a33d905",
   "metadata": {
    "cq.autogen": "ProgrammableRotationGateArray.example_instances.md"
   },
   "source": [
    "### Example Instances"
   ]
  },
  {
   "cell_type": "code",
   "execution_count": 3,
   "id": "fc9007a4",
   "metadata": {
    "cq.autogen": "ProgrammableRotationGateArray.programmable_rotation_gate_array"
   },
   "outputs": [],
   "source": [
    "programmable_rotation_gate_array = ProgrammableRotationGateArray(\n",
    "    [1, 2, 3, 4], kappa=2, rotation_gate=cirq.Z\n",
    ")"
   ]
  },
  {
   "cell_type": "markdown",
   "id": "bff17fcf",
   "metadata": {
    "cq.autogen": "ProgrammableRotationGateArray.graphical_signature.md"
   },
   "source": [
    "#### Graphical Signature"
   ]
  },
  {
   "cell_type": "code",
   "execution_count": 4,
   "id": "d63ccdd6",
   "metadata": {
    "cq.autogen": "ProgrammableRotationGateArray.graphical_signature.py"
   },
   "outputs": [
    {
     "data": {
      "application/vnd.jupyter.widget-view+json": {
       "model_id": "d636f278630d4e889fef2d95afdff311",
       "version_major": 2,
       "version_minor": 0
      },
      "text/plain": [
       "HBox(children=(Output(outputs=({'output_type': 'display_data', 'data': {'text/plain': '<IPython.core.display.M…"
      ]
     },
     "metadata": {},
     "output_type": "display_data"
    }
   ],
   "source": [
    "from qualtran.drawing import show_bloqs\n",
    "show_bloqs([programmable_rotation_gate_array],\n",
    "           ['`programmable_rotation_gate_array`'])"
   ]
  },
  {
   "cell_type": "markdown",
   "id": "6525116b",
   "metadata": {
    "cq.autogen": "ProgrammableRotationGateArray.call_graph.md"
   },
   "source": [
    "### Call Graph"
   ]
  },
  {
   "cell_type": "code",
   "execution_count": 5,
   "id": "aac3adcd",
   "metadata": {
    "cq.autogen": "ProgrammableRotationGateArray.call_graph.py"
   },
   "outputs": [
    {
     "data": {
      "image/svg+xml": [
       "<svg xmlns=\"http://www.w3.org/2000/svg\" xmlns:xlink=\"http://www.w3.org/1999/xlink\" width=\"2936pt\" height=\"131pt\" viewBox=\"0.00 0.00 2936.00 131.00\">\n",
       "<g id=\"graph0\" class=\"graph\" transform=\"scale(1 1) rotate(0) translate(4 127)\">\n",
       "<title>counts</title>\n",
       "<polygon fill=\"white\" stroke=\"transparent\" points=\"-4,4 -4,-127 2932,-127 2932,4 -4,4\"/>\n",
       "<!-- b0 -->\n",
       "<g id=\"node1\" class=\"node\">\n",
       "<title>b0</title>\n",
       "<polygon fill=\"none\" stroke=\"black\" points=\"1915,-123 1214,-123 1214,-87 1915,-87 1915,-123\"/>\n",
       "<text text-anchor=\"start\" x=\"1472\" y=\"-106.8\" font-family=\"Times,serif\" font-size=\"14.00\">ProgrammableRotationGateArray</text>\n",
       "<text text-anchor=\"start\" x=\"1222\" y=\"-96\" font-family=\"monospace\" font-size=\"10.00\">&lt;qualtran.bloqs.rotations.programmable_rotation_gate_array.ProgrammableRotationGateArray object at 0x7fa8ec932010&gt;</text>\n",
       "</g>\n",
       "<!-- b1 -->\n",
       "<g id=\"node2\" class=\"node\">\n",
       "<title>b1</title>\n",
       "<polygon fill=\"none\" stroke=\"black\" points=\"269,-36 0,-36 0,0 269,0 269,-36\"/>\n",
       "<text text-anchor=\"start\" x=\"101\" y=\"-19.8\" font-family=\"Times,serif\" font-size=\"14.00\">CZPowGate</text>\n",
       "<text text-anchor=\"start\" x=\"8\" y=\"-9\" font-family=\"monospace\" font-size=\"10.00\">exponent=0.25, global_shift=0.0, eps=1e-11</text>\n",
       "</g>\n",
       "<!-- b0&#45;&gt;b1 -->\n",
       "<g id=\"edge1\" class=\"edge\">\n",
       "<title>b0-&gt;b1</title>\n",
       "<path fill=\"none\" stroke=\"black\" d=\"M1213.79,-91.68C957.44,-81.18 601.18,-63.49 279.2,-36.12\"/>\n",
       "<polygon fill=\"black\" stroke=\"black\" points=\"279.46,-32.63 269.2,-35.26 278.87,-39.6 279.46,-32.63\"/>\n",
       "<text text-anchor=\"middle\" x=\"741\" y=\"-57.8\" font-family=\"Times,serif\" font-size=\"14.00\">1</text>\n",
       "</g>\n",
       "<!-- b2 -->\n",
       "<g id=\"node3\" class=\"node\">\n",
       "<title>b2</title>\n",
       "<polygon fill=\"none\" stroke=\"black\" points=\"964,-36 287,-36 287,0 964,0 964,-36\"/>\n",
       "<text text-anchor=\"start\" x=\"604.5\" y=\"-19.8\" font-family=\"Times,serif\" font-size=\"14.00\">QROM</text>\n",
       "<text text-anchor=\"start\" x=\"295\" y=\"-9\" font-family=\"monospace\" font-size=\"10.00\">data_or_shape=(array([ ..., selection_bitsizes=(2,), target_bitsizes=(2,), target_shapes=((),), num_controls=0</text>\n",
       "</g>\n",
       "<!-- b0&#45;&gt;b2 -->\n",
       "<g id=\"edge2\" class=\"edge\">\n",
       "<title>b0-&gt;b2</title>\n",
       "<path fill=\"none\" stroke=\"black\" d=\"M1376.45,-86.98C1216.28,-72.48 986.82,-51.71 823.78,-36.95\"/>\n",
       "<polygon fill=\"black\" stroke=\"black\" points=\"823.9,-33.45 813.63,-36.03 823.27,-40.42 823.9,-33.45\"/>\n",
       "<text text-anchor=\"middle\" x=\"1155\" y=\"-57.8\" font-family=\"Times,serif\" font-size=\"14.00\">1</text>\n",
       "</g>\n",
       "<!-- b3 -->\n",
       "<g id=\"node4\" class=\"node\">\n",
       "<title>b3</title>\n",
       "<polygon fill=\"none\" stroke=\"black\" points=\"1659,-36 982,-36 982,0 1659,0 1659,-36\"/>\n",
       "<text text-anchor=\"start\" x=\"1299.5\" y=\"-19.8\" font-family=\"Times,serif\" font-size=\"14.00\">QROM</text>\n",
       "<text text-anchor=\"start\" x=\"990\" y=\"-9\" font-family=\"monospace\" font-size=\"10.00\">data_or_shape=(array([ ..., selection_bitsizes=(2,), target_bitsizes=(2,), target_shapes=((),), num_controls=0</text>\n",
       "</g>\n",
       "<!-- b0&#45;&gt;b3 -->\n",
       "<g id=\"edge3\" class=\"edge\">\n",
       "<title>b0-&gt;b3</title>\n",
       "<path fill=\"none\" stroke=\"black\" d=\"M1515.42,-86.9C1476.04,-73.18 1420.65,-53.89 1378.98,-39.37\"/>\n",
       "<polygon fill=\"black\" stroke=\"black\" points=\"1380.1,-36.06 1369.51,-36.07 1377.8,-42.67 1380.1,-36.06\"/>\n",
       "<text text-anchor=\"middle\" x=\"1461\" y=\"-57.8\" font-family=\"Times,serif\" font-size=\"14.00\">1</text>\n",
       "</g>\n",
       "<!-- b4 -->\n",
       "<g id=\"node5\" class=\"node\">\n",
       "<title>b4</title>\n",
       "<polygon fill=\"none\" stroke=\"black\" points=\"1940,-36 1677,-36 1677,0 1940,0 1940,-36\"/>\n",
       "<text text-anchor=\"start\" x=\"1775\" y=\"-19.8\" font-family=\"Times,serif\" font-size=\"14.00\">CZPowGate</text>\n",
       "<text text-anchor=\"start\" x=\"1685\" y=\"-9\" font-family=\"monospace\" font-size=\"10.00\">exponent=0.5, global_shift=0.0, eps=1e-11</text>\n",
       "</g>\n",
       "<!-- b0&#45;&gt;b4 -->\n",
       "<g id=\"edge4\" class=\"edge\">\n",
       "<title>b0-&gt;b4</title>\n",
       "<path fill=\"none\" stroke=\"black\" d=\"M1613.58,-86.9C1652.96,-73.18 1708.35,-53.89 1750.02,-39.37\"/>\n",
       "<polygon fill=\"black\" stroke=\"black\" points=\"1751.2,-42.67 1759.49,-36.07 1748.9,-36.06 1751.2,-42.67\"/>\n",
       "<text text-anchor=\"middle\" x=\"1705\" y=\"-57.8\" font-family=\"Times,serif\" font-size=\"14.00\">1</text>\n",
       "</g>\n",
       "<!-- b5 -->\n",
       "<g id=\"node6\" class=\"node\">\n",
       "<title>b5</title>\n",
       "<polygon fill=\"none\" stroke=\"black\" points=\"2233,-36 1958,-36 1958,0 2233,0 2233,-36\"/>\n",
       "<text text-anchor=\"start\" x=\"2062\" y=\"-19.8\" font-family=\"Times,serif\" font-size=\"14.00\">CZPowGate</text>\n",
       "<text text-anchor=\"start\" x=\"1966\" y=\"-9\" font-family=\"monospace\" font-size=\"10.00\">exponent=0.125, global_shift=0.0, eps=1e-11</text>\n",
       "</g>\n",
       "<!-- b0&#45;&gt;b5 -->\n",
       "<g id=\"edge5\" class=\"edge\">\n",
       "<title>b0-&gt;b5</title>\n",
       "<path fill=\"none\" stroke=\"black\" d=\"M1671,-86.95C1760.24,-72.67 1887.42,-52.31 1979.28,-37.6\"/>\n",
       "<polygon fill=\"black\" stroke=\"black\" points=\"1979.86,-41.06 1989.18,-36.02 1978.75,-34.14 1979.86,-41.06\"/>\n",
       "<text text-anchor=\"middle\" x=\"1866\" y=\"-57.8\" font-family=\"Times,serif\" font-size=\"14.00\">1</text>\n",
       "</g>\n",
       "<!-- b6 -->\n",
       "<g id=\"node7\" class=\"node\">\n",
       "<title>b6</title>\n",
       "<polygon fill=\"none\" stroke=\"black\" points=\"2928,-36 2251,-36 2251,0 2928,0 2928,-36\"/>\n",
       "<text text-anchor=\"start\" x=\"2568.5\" y=\"-19.8\" font-family=\"Times,serif\" font-size=\"14.00\">QROM</text>\n",
       "<text text-anchor=\"start\" x=\"2259\" y=\"-9\" font-family=\"monospace\" font-size=\"10.00\">data_or_shape=(array([ ..., selection_bitsizes=(2,), target_bitsizes=(2,), target_shapes=((),), num_controls=0</text>\n",
       "</g>\n",
       "<!-- b0&#45;&gt;b6 -->\n",
       "<g id=\"edge6\" class=\"edge\">\n",
       "<title>b0-&gt;b6</title>\n",
       "<path fill=\"none\" stroke=\"black\" d=\"M1769.77,-86.98C1944.96,-72.45 2196.08,-51.62 2374.12,-36.86\"/>\n",
       "<polygon fill=\"black\" stroke=\"black\" points=\"2374.47,-40.34 2384.14,-36.03 2373.89,-33.37 2374.47,-40.34\"/>\n",
       "<text text-anchor=\"middle\" x=\"2142\" y=\"-57.8\" font-family=\"Times,serif\" font-size=\"14.00\">1</text>\n",
       "</g>\n",
       "</g>\n",
       "</svg>"
      ],
      "text/plain": [
       "<IPython.core.display.SVG object>"
      ]
     },
     "metadata": {},
     "output_type": "display_data"
    },
    {
     "data": {
      "text/markdown": [
       "#### Counts totals:\n",
       " - `CZ**0.125`: 1\n",
       " - `CZ**0.25`: 1\n",
       " - `CZ**0.5`: 1\n",
       " - `QROM`: 1\n",
       " - `QROM`: 1\n",
       " - `QROM`: 1"
      ],
      "text/plain": [
       "<IPython.core.display.Markdown object>"
      ]
     },
     "metadata": {},
     "output_type": "display_data"
    }
   ],
   "source": [
    "from qualtran.resource_counting.generalizers import ignore_split_join\n",
    "programmable_rotation_gate_array_g, programmable_rotation_gate_array_sigma = programmable_rotation_gate_array.call_graph(max_depth=1, generalizer=ignore_split_join)\n",
    "show_call_graph(programmable_rotation_gate_array_g)\n",
    "show_counts_sigma(programmable_rotation_gate_array_sigma)"
   ]
  }
 ],
 "metadata": {
  "kernelspec": {
   "display_name": "Python 3",
   "language": "python",
   "name": "python3"
  },
  "language_info": {
   "codemirror_mode": {
    "name": "ipython",
    "version": 3
   },
   "file_extension": ".py",
   "mimetype": "text/x-python",
   "name": "python",
   "nbconvert_exporter": "python",
   "pygments_lexer": "ipython3",
   "version": "3.11.8"
  },
  "widgets": {
   "application/vnd.jupyter.widget-state+json": {
    "state": {
     "193c8ca4e1ae450199b0a9c08672cbf5": {
      "model_module": "@jupyter-widgets/base",
      "model_module_version": "2.0.0",
      "model_name": "LayoutModel",
      "state": {
       "_model_module": "@jupyter-widgets/base",
       "_model_module_version": "2.0.0",
       "_model_name": "LayoutModel",
       "_view_count": null,
       "_view_module": "@jupyter-widgets/base",
       "_view_module_version": "2.0.0",
       "_view_name": "LayoutView",
       "align_content": null,
       "align_items": null,
       "align_self": null,
       "border_bottom": null,
       "border_left": null,
       "border_right": null,
       "border_top": null,
       "bottom": null,
       "display": null,
       "flex": null,
       "flex_flow": null,
       "grid_area": null,
       "grid_auto_columns": null,
       "grid_auto_flow": null,
       "grid_auto_rows": null,
       "grid_column": null,
       "grid_gap": null,
       "grid_row": null,
       "grid_template_areas": null,
       "grid_template_columns": null,
       "grid_template_rows": null,
       "height": null,
       "justify_content": null,
       "justify_items": null,
       "left": null,
       "margin": null,
       "max_height": null,
       "max_width": null,
       "min_height": null,
       "min_width": null,
       "object_fit": null,
       "object_position": null,
       "order": null,
       "overflow": null,
       "padding": null,
       "right": null,
       "top": null,
       "visibility": null,
       "width": null
      }
     },
     "21b58cd18c32490d969315dd5237fb25": {
      "model_module": "@jupyter-widgets/output",
      "model_module_version": "1.0.0",
      "model_name": "OutputModel",
      "state": {
       "_dom_classes": [],
       "_model_module": "@jupyter-widgets/output",
       "_model_module_version": "1.0.0",
       "_model_name": "OutputModel",
       "_view_count": null,
       "_view_module": "@jupyter-widgets/output",
       "_view_module_version": "1.0.0",
       "_view_name": "OutputView",
       "layout": "IPY_MODEL_8829f0b3b45c4c278bed5da04a658a5f",
       "msg_id": "",
       "outputs": [
        {
         "data": {
          "text/markdown": "`programmable_rotation_gate_array`",
          "text/plain": "<IPython.core.display.Markdown object>"
         },
         "metadata": {},
         "output_type": "display_data"
        },
        {
         "data": {
          "image/svg+xml": "<svg xmlns=\"http://www.w3.org/2000/svg\" xmlns:xlink=\"http://www.w3.org/1999/xlink\" width=\"458pt\" height=\"152pt\" viewBox=\"0.00 0.00 458.00 152.00\">\n<g id=\"graph0\" class=\"graph\" transform=\"scale(1 1) rotate(0) translate(4 148)\">\n<title>my_graph</title>\n<polygon fill=\"white\" stroke=\"transparent\" points=\"-4,4 -4,-148 454,-148 454,4 -4,4\"/>\n<!-- selection_G7 -->\n<g id=\"node1\" class=\"node\">\n<title>selection_G7</title>\n<text text-anchor=\"middle\" x=\"58\" y=\"-122.3\" font-family=\"Times,serif\" font-size=\"14.00\">selection</text>\n</g>\n<!-- ProgrammableRotationGateArray -->\n<g id=\"node4\" class=\"node\">\n<title>ProgrammableRotationGateArray</title>\n<polygon fill=\"none\" stroke=\"black\" points=\"153,-104 153,-121 297,-121 297,-104 153,-104\"/>\n<text text-anchor=\"start\" x=\"156\" y=\"-110\" font-family=\"Times,serif\" font-size=\"10.00\">ProgrammableRotationGateArray</text>\n<polygon fill=\"none\" stroke=\"black\" points=\"153,-83 153,-104 297,-104 297,-83 153,-83\"/>\n<text text-anchor=\"start\" x=\"200.5\" y=\"-89.8\" font-family=\"Times,serif\" font-size=\"14.00\">selection</text>\n<polygon fill=\"none\" stroke=\"black\" points=\"153,-62 153,-83 297,-83 297,-62 153,-62\"/>\n<text text-anchor=\"start\" x=\"175\" y=\"-68.8\" font-family=\"Times,serif\" font-size=\"14.00\">kappa_load_target</text>\n<polygon fill=\"none\" stroke=\"black\" points=\"153,-41 153,-62 297,-62 297,-41 153,-41\"/>\n<text text-anchor=\"start\" x=\"182.5\" y=\"-47.8\" font-family=\"Times,serif\" font-size=\"14.00\">rotations_target</text>\n</g>\n<!-- selection_G7&#45;&gt;ProgrammableRotationGateArray -->\n<g id=\"edge1\" class=\"edge\">\n<title>selection_G7:e-&gt;ProgrammableRotationGateArray:w</title>\n<path fill=\"none\" stroke=\"black\" d=\"M92,-126C121.9,-126 122.38,-95.48 150.9,-94.05\"/>\n<ellipse fill=\"black\" stroke=\"black\" cx=\"152\" cy=\"-94.02\" rx=\"1\" ry=\"1\"/>\n<text text-anchor=\"middle\" x=\"134.5\" y=\"-102\" font-family=\"Times,serif\" font-size=\"10.00\">2</text>\n</g>\n<!-- kappa_load_target_G2 -->\n<g id=\"node2\" class=\"node\">\n<title>kappa_load_target_G2</title>\n<text text-anchor=\"middle\" x=\"58\" y=\"-68.3\" font-family=\"Times,serif\" font-size=\"14.00\">kappa_load_target</text>\n</g>\n<!-- kappa_load_target_G2&#45;&gt;ProgrammableRotationGateArray -->\n<g id=\"edge2\" class=\"edge\">\n<title>kappa_load_target_G2:e-&gt;ProgrammableRotationGateArray:w</title>\n<path fill=\"none\" stroke=\"black\" d=\"M116,-72C131.67,-72 136.14,-72 150.77,-72\"/>\n<ellipse fill=\"black\" stroke=\"black\" cx=\"152\" cy=\"-72\" rx=\"1\" ry=\"1\"/>\n<text text-anchor=\"middle\" x=\"134.5\" y=\"-75\" font-family=\"Times,serif\" font-size=\"10.00\">2</text>\n</g>\n<!-- rotations_target_G1 -->\n<g id=\"node3\" class=\"node\">\n<title>rotations_target_G1</title>\n<text text-anchor=\"middle\" x=\"58\" y=\"-14.3\" font-family=\"Times,serif\" font-size=\"14.00\">rotations_target</text>\n</g>\n<!-- rotations_target_G1&#45;&gt;ProgrammableRotationGateArray -->\n<g id=\"edge3\" class=\"edge\">\n<title>rotations_target_G1:e-&gt;ProgrammableRotationGateArray:w</title>\n<path fill=\"none\" stroke=\"black\" d=\"M110,-18C133.34,-18 129.2,-48.97 150.83,-50.91\"/>\n<ellipse fill=\"black\" stroke=\"black\" cx=\"152\" cy=\"-50.96\" rx=\"1\" ry=\"1\"/>\n<text text-anchor=\"middle\" x=\"134.5\" y=\"-43\" font-family=\"Times,serif\" font-size=\"10.00\">1</text>\n</g>\n<!-- selection_G4 -->\n<g id=\"node5\" class=\"node\">\n<title>selection_G4</title>\n<text text-anchor=\"middle\" x=\"392\" y=\"-122.3\" font-family=\"Times,serif\" font-size=\"14.00\">selection</text>\n</g>\n<!-- ProgrammableRotationGateArray&#45;&gt;selection_G4 -->\n<g id=\"edge4\" class=\"edge\">\n<title>ProgrammableRotationGateArray:e-&gt;selection_G4:w</title>\n<path fill=\"none\" stroke=\"black\" d=\"M297,-94C326.9,-94 327.38,-124.52 355.9,-125.95\"/>\n<ellipse fill=\"black\" stroke=\"black\" cx=\"357\" cy=\"-125.98\" rx=\"1\" ry=\"1\"/>\n<text text-anchor=\"middle\" x=\"315.5\" y=\"-102\" font-family=\"Times,serif\" font-size=\"10.00\">2</text>\n</g>\n<!-- kappa_load_target_G6 -->\n<g id=\"node6\" class=\"node\">\n<title>kappa_load_target_G6</title>\n<text text-anchor=\"middle\" x=\"392\" y=\"-68.3\" font-family=\"Times,serif\" font-size=\"14.00\">kappa_load_target</text>\n</g>\n<!-- ProgrammableRotationGateArray&#45;&gt;kappa_load_target_G6 -->\n<g id=\"edge5\" class=\"edge\">\n<title>ProgrammableRotationGateArray:e-&gt;kappa_load_target_G6:w</title>\n<path fill=\"none\" stroke=\"black\" d=\"M297,-72C312.67,-72 317.14,-72 331.77,-72\"/>\n<ellipse fill=\"black\" stroke=\"black\" cx=\"333\" cy=\"-72\" rx=\"1\" ry=\"1\"/>\n<text text-anchor=\"middle\" x=\"315.5\" y=\"-75\" font-family=\"Times,serif\" font-size=\"10.00\">2</text>\n</g>\n<!-- rotations_target_G5 -->\n<g id=\"node7\" class=\"node\">\n<title>rotations_target_G5</title>\n<text text-anchor=\"middle\" x=\"392\" y=\"-14.3\" font-family=\"Times,serif\" font-size=\"14.00\">rotations_target</text>\n</g>\n<!-- ProgrammableRotationGateArray&#45;&gt;rotations_target_G5 -->\n<g id=\"edge6\" class=\"edge\">\n<title>ProgrammableRotationGateArray:e-&gt;rotations_target_G5:w</title>\n<path fill=\"none\" stroke=\"black\" d=\"M297,-51C320.34,-51 316.2,-20.03 337.83,-18.09\"/>\n<ellipse fill=\"black\" stroke=\"black\" cx=\"339\" cy=\"-18.04\" rx=\"1\" ry=\"1\"/>\n<text text-anchor=\"middle\" x=\"315.5\" y=\"-43\" font-family=\"Times,serif\" font-size=\"10.00\">1</text>\n</g>\n</g>\n</svg>",
          "text/plain": "<IPython.core.display.SVG object>"
         },
         "metadata": {},
         "output_type": "display_data"
        }
       ],
       "tabbable": null,
       "tooltip": null
      }
     },
     "8829f0b3b45c4c278bed5da04a658a5f": {
      "model_module": "@jupyter-widgets/base",
      "model_module_version": "2.0.0",
      "model_name": "LayoutModel",
      "state": {
       "_model_module": "@jupyter-widgets/base",
       "_model_module_version": "2.0.0",
       "_model_name": "LayoutModel",
       "_view_count": null,
       "_view_module": "@jupyter-widgets/base",
       "_view_module_version": "2.0.0",
       "_view_name": "LayoutView",
       "align_content": null,
       "align_items": null,
       "align_self": null,
       "border_bottom": null,
       "border_left": null,
       "border_right": null,
       "border_top": null,
       "bottom": null,
       "display": null,
       "flex": null,
       "flex_flow": null,
       "grid_area": null,
       "grid_auto_columns": null,
       "grid_auto_flow": null,
       "grid_auto_rows": null,
       "grid_column": null,
       "grid_gap": null,
       "grid_row": null,
       "grid_template_areas": null,
       "grid_template_columns": null,
       "grid_template_rows": null,
       "height": null,
       "justify_content": null,
       "justify_items": null,
       "left": null,
       "margin": null,
       "max_height": null,
       "max_width": null,
       "min_height": null,
       "min_width": null,
       "object_fit": null,
       "object_position": null,
       "order": null,
       "overflow": null,
       "padding": null,
       "right": null,
       "top": null,
       "visibility": null,
       "width": null
      }
     },
     "d636f278630d4e889fef2d95afdff311": {
      "model_module": "@jupyter-widgets/controls",
      "model_module_version": "2.0.0",
      "model_name": "HBoxModel",
      "state": {
       "_dom_classes": [],
       "_model_module": "@jupyter-widgets/controls",
       "_model_module_version": "2.0.0",
       "_model_name": "HBoxModel",
       "_view_count": null,
       "_view_module": "@jupyter-widgets/controls",
       "_view_module_version": "2.0.0",
       "_view_name": "HBoxView",
       "box_style": "",
       "children": [
        "IPY_MODEL_21b58cd18c32490d969315dd5237fb25"
       ],
       "layout": "IPY_MODEL_193c8ca4e1ae450199b0a9c08672cbf5",
       "tabbable": null,
       "tooltip": null
      }
     }
    },
    "version_major": 2,
    "version_minor": 0
   }
  }
 },
 "nbformat": 4,
 "nbformat_minor": 5
}
