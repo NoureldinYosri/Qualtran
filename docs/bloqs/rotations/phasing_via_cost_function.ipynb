{
 "cells": [
  {
   "cell_type": "markdown",
   "id": "ff057e77",
   "metadata": {
    "cq.autogen": "title_cell"
   },
   "source": [
    "# Phasing via Cost function"
   ]
  },
  {
   "cell_type": "code",
   "execution_count": 1,
   "id": "a36fa3ca",
   "metadata": {
    "cq.autogen": "top_imports"
   },
   "outputs": [],
   "source": [
    "from qualtran import Bloq, CompositeBloq, BloqBuilder, Signature, Register\n",
    "from qualtran import QBit, QInt, QUInt, QAny\n",
    "from qualtran.drawing import show_bloq, show_call_graph, show_counts_sigma\n",
    "from typing import *\n",
    "import numpy as np\n",
    "import sympy\n",
    "import cirq"
   ]
  },
  {
   "cell_type": "markdown",
   "id": "e730b939",
   "metadata": {
    "cq.autogen": "PhasingViaCostFunction.bloq_doc.md"
   },
   "source": [
    "## `PhasingViaCostFunction`\n",
    "Phases every basis state $|x\\rangle$ by an amount proportional to a cost function $f(x)$\n",
    "\n",
    "This Bloq implements a unitary $U_f(\\gamma)$ which phases each computational state on which\n",
    "the wave-function has support, by an amount proportional to a function of that computational\n",
    "basis state. The general unitary can be defined as\n",
    "$$\n",
    "    U_f(\\gamma) = \\sum_{x=0}^{N-1} e^{i 2 \\pi \\gamma f(x)} |x\\rangle \\langle x|\n",
    "$$\n",
    "\n",
    "The strategy to implement $U_f(\\gamma)$ is to use two oracles $O_\\text{direct}$\n",
    "and $O_\\text{phase}$ s.t.\n",
    "$$\n",
    "U_f(\\gamma) = O_\\text{direct}^\\dagger(\\mathbb{I}\\otimes O_\\text{phase})O_\\text{direct}\n",
    "$$\n",
    "\n",
    "$O^\\text{direct}$ evaluates a $b_\\text{direct}$-bit approximation of the cost function $f(x)$\n",
    "and stores it in a new output cost register. Note that the cost register can represent\n",
    "arbitrary fixed point values and be of type `QFxp(b_direct, n_frac, signed)`.\n",
    "$$\n",
    "O^\\text{direct}|x\\rangle|0\\rangle^{\\otimes b_\\text{direct}}_\\text{cost}=|x\\rangle|f(x)\\rangle\n",
    "$$\n",
    "\n",
    "$O^\\text{phase}$ acts on the cost register computed by $O^\\text{direct}$ and phases the\n",
    "state $|f(x)\\rangle$ by $e^{i 2\\pi \\gamma f(x)}$\n",
    "$$\n",
    "O^\\text{phase}(\\gamma)=\\sum_{k=0}^{2^{b_\\text{direct}}-1}e^{i 2\\pi\\gamma k}|k\\rangle\\langle k|\n",
    "$$\n",
    "\n",
    "\n",
    "Different strategies for implementing the two oracles would give different costs tradeoffs.\n",
    "See `QvrZPow` and `QvrPhaseGradient` for two different implementations of\n",
    "phase oracles described in the reference.\n",
    "\n",
    "#### Parameters\n",
    " - `cost_eval_oracle`: Cost function evaluation oracle. Must compute the cost in a newly allocated RIGHT register.\n",
    " - `phase_oracle`: Oracle to phase the cost register. Must consume the cost register allocated by `cost_eval_oracle` as a THRU input. \n",
    "\n",
    "#### References\n",
    " - [Compilation of Fault-Tolerant Quantum Heuristics for Combinatorial Optimization](https://arxiv.org/abs/2007.07391). Appendix C: Oracles for phasing by cost function\n"
   ]
  },
  {
   "cell_type": "code",
   "execution_count": 2,
   "id": "461665ac",
   "metadata": {
    "cq.autogen": "PhasingViaCostFunction.bloq_doc.py"
   },
   "outputs": [],
   "source": [
    "from qualtran.bloqs.rotations.phasing_via_cost_function import PhasingViaCostFunction"
   ]
  },
  {
   "cell_type": "markdown",
   "id": "ee3e0757",
   "metadata": {
    "cq.autogen": "PhasingViaCostFunction.example_instances.md"
   },
   "source": [
    "### Example Instances"
   ]
  },
  {
   "cell_type": "code",
   "execution_count": 3,
   "id": "ff92d8f5",
   "metadata": {
    "cq.autogen": "PhasingViaCostFunction.square_via_zpow_phasing"
   },
   "outputs": [],
   "source": [
    "from qualtran import QFxp, Register\n",
    "from qualtran.bloqs.arithmetic import Square\n",
    "from qualtran.bloqs.rotations.quantum_variable_rotation import QvrZPow\n",
    "\n",
    "n, gamma, eps = 5, 0.1234, 1e-8\n",
    "cost_reg = Register('result', QFxp(2 * n, 2 * n, signed=False))\n",
    "cost_eval_oracle = Square(n)\n",
    "phase_oracle = QvrZPow(cost_reg, gamma, eps)\n",
    "square_via_zpow_phasing = PhasingViaCostFunction(cost_eval_oracle, phase_oracle)"
   ]
  },
  {
   "cell_type": "code",
   "execution_count": 4,
   "id": "59357cd2",
   "metadata": {
    "cq.autogen": "PhasingViaCostFunction.square_via_phase_gradient"
   },
   "outputs": [],
   "source": [
    "from qualtran import QFxp, Register\n",
    "from qualtran.bloqs.arithmetic import Square\n",
    "from qualtran.bloqs.rotations.quantum_variable_rotation import QvrPhaseGradient\n",
    "\n",
    "n, gamma, eps = 5, 0.1234, 1e-8\n",
    "cost_reg = Register('result', QFxp(2 * n, 2 * n, signed=False))\n",
    "cost_eval_oracle = Square(n)\n",
    "phase_oracle = QvrPhaseGradient(cost_reg, gamma, eps)\n",
    "square_via_phase_gradient = PhasingViaCostFunction(cost_eval_oracle, phase_oracle)"
   ]
  },
  {
   "cell_type": "markdown",
   "id": "5581c747",
   "metadata": {
    "cq.autogen": "PhasingViaCostFunction.graphical_signature.md"
   },
   "source": [
    "#### Graphical Signature"
   ]
  },
  {
   "cell_type": "code",
   "execution_count": 5,
   "id": "a9b1feda",
   "metadata": {
    "cq.autogen": "PhasingViaCostFunction.graphical_signature.py"
   },
   "outputs": [
    {
     "data": {
      "application/vnd.jupyter.widget-view+json": {
       "model_id": "e8a78f30571548e286cd2519fb6910ca",
       "version_major": 2,
       "version_minor": 0
      },
      "text/plain": [
       "HBox(children=(Output(outputs=({'output_type': 'display_data', 'data': {'text/plain': '<IPython.core.display.M…"
      ]
     },
     "metadata": {},
     "output_type": "display_data"
    }
   ],
   "source": [
    "from qualtran.drawing import show_bloqs\n",
    "show_bloqs([square_via_phase_gradient, square_via_zpow_phasing],\n",
    "           ['`square_via_phase_gradient`', '`square_via_zpow_phasing`'])"
   ]
  },
  {
   "cell_type": "markdown",
   "id": "cbb448f5",
   "metadata": {
    "cq.autogen": "PhasingViaCostFunction.call_graph.md"
   },
   "source": [
    "### Call Graph"
   ]
  },
  {
   "cell_type": "code",
   "execution_count": 6,
   "id": "24f2a28f",
   "metadata": {
    "cq.autogen": "PhasingViaCostFunction.call_graph.py"
   },
   "outputs": [
    {
     "data": {
      "image/svg+xml": [
       "<svg xmlns=\"http://www.w3.org/2000/svg\" xmlns:xlink=\"http://www.w3.org/1999/xlink\" width=\"677pt\" height=\"131pt\" viewBox=\"0.00 0.00 677.00 131.00\">\n",
       "<g id=\"graph0\" class=\"graph\" transform=\"scale(1 1) rotate(0) translate(4 127)\">\n",
       "<title>counts</title>\n",
       "<polygon fill=\"white\" stroke=\"transparent\" points=\"-4,4 -4,-127 673,-127 673,4 -4,4\"/>\n",
       "<!-- b0 -->\n",
       "<g id=\"node1\" class=\"node\">\n",
       "<title>b0</title>\n",
       "<polygon fill=\"none\" stroke=\"black\" points=\"571,-123 218,-123 218,-87 571,-87 571,-123\"/>\n",
       "<text text-anchor=\"start\" x=\"326.5\" y=\"-106.8\" font-family=\"Times,serif\" font-size=\"14.00\">PhasingViaCostFunction</text>\n",
       "<text text-anchor=\"start\" x=\"226\" y=\"-96\" font-family=\"monospace\" font-size=\"10.00\">cost_eval_oracle=Square(b ..., phase_oracle=QvrPhase ...</text>\n",
       "</g>\n",
       "<!-- b1 -->\n",
       "<g id=\"node2\" class=\"node\">\n",
       "<title>b1</title>\n",
       "<polygon fill=\"none\" stroke=\"black\" points=\"293,-36 0,-36 0,0 293,0 293,-36\"/>\n",
       "<text text-anchor=\"start\" x=\"96.5\" y=\"-19.8\" font-family=\"Times,serif\" font-size=\"14.00\">QvrPhaseGradient</text>\n",
       "<text text-anchor=\"start\" x=\"8\" y=\"-9\" font-family=\"monospace\" font-size=\"10.00\">cost_reg=Register ..., gamma=0.1234, eps=1e-08</text>\n",
       "</g>\n",
       "<!-- b0&#45;&gt;b1 -->\n",
       "<g id=\"edge1\" class=\"edge\">\n",
       "<title>b0-&gt;b1</title>\n",
       "<path fill=\"none\" stroke=\"black\" d=\"M344.61,-86.9C304.59,-73.18 248.29,-53.89 205.94,-39.37\"/>\n",
       "<polygon fill=\"black\" stroke=\"black\" points=\"206.9,-36 196.31,-36.07 204.63,-42.62 206.9,-36\"/>\n",
       "<text text-anchor=\"middle\" x=\"289\" y=\"-57.8\" font-family=\"Times,serif\" font-size=\"14.00\">1</text>\n",
       "</g>\n",
       "<!-- b2 -->\n",
       "<g id=\"node3\" class=\"node\">\n",
       "<title>b2</title>\n",
       "<polygon fill=\"none\" stroke=\"black\" points=\"478,-36 311,-36 311,0 478,0 478,-36\"/>\n",
       "<text text-anchor=\"start\" x=\"375.5\" y=\"-19.8\" font-family=\"Times,serif\" font-size=\"14.00\">Square</text>\n",
       "<text text-anchor=\"start\" x=\"319\" y=\"-9\" font-family=\"monospace\" font-size=\"10.00\">bitsize=5, uncompute=True</text>\n",
       "</g>\n",
       "<!-- b0&#45;&gt;b2 -->\n",
       "<g id=\"edge2\" class=\"edge\">\n",
       "<title>b0-&gt;b2</title>\n",
       "<path fill=\"none\" stroke=\"black\" d=\"M394.5,-86.8C394.5,-75.16 394.5,-59.55 394.5,-46.24\"/>\n",
       "<polygon fill=\"black\" stroke=\"black\" points=\"398,-46.18 394.5,-36.18 391,-46.18 398,-46.18\"/>\n",
       "<text text-anchor=\"middle\" x=\"398\" y=\"-57.8\" font-family=\"Times,serif\" font-size=\"14.00\">1</text>\n",
       "</g>\n",
       "<!-- b3 -->\n",
       "<g id=\"node4\" class=\"node\">\n",
       "<title>b3</title>\n",
       "<polygon fill=\"none\" stroke=\"black\" points=\"669,-36 496,-36 496,0 669,0 669,-36\"/>\n",
       "<text text-anchor=\"start\" x=\"563.5\" y=\"-19.8\" font-family=\"Times,serif\" font-size=\"14.00\">Square</text>\n",
       "<text text-anchor=\"start\" x=\"504\" y=\"-9\" font-family=\"monospace\" font-size=\"10.00\">bitsize=5, uncompute=False</text>\n",
       "</g>\n",
       "<!-- b0&#45;&gt;b3 -->\n",
       "<g id=\"edge3\" class=\"edge\">\n",
       "<title>b0-&gt;b3</title>\n",
       "<path fill=\"none\" stroke=\"black\" d=\"M432.54,-86.8C462.33,-73.33 503.9,-54.54 535.72,-40.15\"/>\n",
       "<polygon fill=\"black\" stroke=\"black\" points=\"537.16,-43.34 544.83,-36.03 534.28,-36.96 537.16,-43.34\"/>\n",
       "<text text-anchor=\"middle\" x=\"504\" y=\"-57.8\" font-family=\"Times,serif\" font-size=\"14.00\">1</text>\n",
       "</g>\n",
       "</g>\n",
       "</svg>"
      ],
      "text/plain": [
       "<IPython.core.display.SVG object>"
      ]
     },
     "metadata": {},
     "output_type": "display_data"
    },
    {
     "data": {
      "text/markdown": [
       "#### Counts totals:\n",
       " - `QvrPhaseGradient(cost_reg=Register(name='result', dtype=QFxp(bitsize=10, num_frac=10, signed=False), shape=(), side=<Side.THRU: 3>), gamma=0.1234, eps=1e-08)`: 1\n",
       " - `Square(bitsize=5, uncompute=False)`: 1\n",
       " - `Square(bitsize=5, uncompute=True)`: 1"
      ],
      "text/plain": [
       "<IPython.core.display.Markdown object>"
      ]
     },
     "metadata": {},
     "output_type": "display_data"
    }
   ],
   "source": [
    "from qualtran.resource_counting.generalizers import ignore_split_join\n",
    "square_via_phase_gradient_g, square_via_phase_gradient_sigma = square_via_phase_gradient.call_graph(max_depth=1, generalizer=ignore_split_join)\n",
    "show_call_graph(square_via_phase_gradient_g)\n",
    "show_counts_sigma(square_via_phase_gradient_sigma)"
   ]
  },
  {
   "cell_type": "code",
   "execution_count": 7,
   "id": "d2dd8d24-a723-46e8-80ae-4845be71a1b3",
   "metadata": {},
   "outputs": [
    {
     "data": {
      "image/svg+xml": [
       "<svg xmlns=\"http://www.w3.org/2000/svg\" xmlns:xlink=\"http://www.w3.org/1999/xlink\" width=\"677pt\" height=\"305pt\" viewBox=\"0.00 0.00 677.00 305.00\">\n",
       "<g id=\"graph0\" class=\"graph\" transform=\"scale(1 1) rotate(0) translate(4 301)\">\n",
       "<title>counts</title>\n",
       "<polygon fill=\"white\" stroke=\"transparent\" points=\"-4,4 -4,-301 673,-301 673,4 -4,4\"/>\n",
       "<!-- b0 -->\n",
       "<g id=\"node1\" class=\"node\">\n",
       "<title>b0</title>\n",
       "<polygon fill=\"none\" stroke=\"black\" points=\"571,-297 218,-297 218,-261 571,-261 571,-297\"/>\n",
       "<text text-anchor=\"start\" x=\"326.5\" y=\"-280.8\" font-family=\"Times,serif\" font-size=\"14.00\">PhasingViaCostFunction</text>\n",
       "<text text-anchor=\"start\" x=\"226\" y=\"-270\" font-family=\"monospace\" font-size=\"10.00\">cost_eval_oracle=Square(b ..., phase_oracle=QvrZPow( ...</text>\n",
       "</g>\n",
       "<!-- b1 -->\n",
       "<g id=\"node2\" class=\"node\">\n",
       "<title>b1</title>\n",
       "<polygon fill=\"none\" stroke=\"black\" points=\"293,-210 0,-210 0,-174 293,-174 293,-210\"/>\n",
       "<text text-anchor=\"start\" x=\"119.5\" y=\"-193.8\" font-family=\"Times,serif\" font-size=\"14.00\">QvrZPow</text>\n",
       "<text text-anchor=\"start\" x=\"8\" y=\"-183\" font-family=\"monospace\" font-size=\"10.00\">cost_reg=Register ..., gamma=0.1234, eps=1e-08</text>\n",
       "</g>\n",
       "<!-- b0&#45;&gt;b1 -->\n",
       "<g id=\"edge1\" class=\"edge\">\n",
       "<title>b0-&gt;b1</title>\n",
       "<path fill=\"none\" stroke=\"black\" d=\"M344.61,-260.9C304.59,-247.18 248.29,-227.89 205.94,-213.37\"/>\n",
       "<polygon fill=\"black\" stroke=\"black\" points=\"206.9,-210 196.31,-210.07 204.63,-216.62 206.9,-210\"/>\n",
       "<text text-anchor=\"middle\" x=\"289\" y=\"-231.8\" font-family=\"Times,serif\" font-size=\"14.00\">1</text>\n",
       "</g>\n",
       "<!-- b2 -->\n",
       "<g id=\"node3\" class=\"node\">\n",
       "<title>b2</title>\n",
       "<polygon fill=\"none\" stroke=\"black\" points=\"478,-210 311,-210 311,-174 478,-174 478,-210\"/>\n",
       "<text text-anchor=\"start\" x=\"375.5\" y=\"-193.8\" font-family=\"Times,serif\" font-size=\"14.00\">Square</text>\n",
       "<text text-anchor=\"start\" x=\"319\" y=\"-183\" font-family=\"monospace\" font-size=\"10.00\">bitsize=5, uncompute=True</text>\n",
       "</g>\n",
       "<!-- b0&#45;&gt;b2 -->\n",
       "<g id=\"edge2\" class=\"edge\">\n",
       "<title>b0-&gt;b2</title>\n",
       "<path fill=\"none\" stroke=\"black\" d=\"M394.5,-260.8C394.5,-249.16 394.5,-233.55 394.5,-220.24\"/>\n",
       "<polygon fill=\"black\" stroke=\"black\" points=\"398,-220.18 394.5,-210.18 391,-220.18 398,-220.18\"/>\n",
       "<text text-anchor=\"middle\" x=\"398\" y=\"-231.8\" font-family=\"Times,serif\" font-size=\"14.00\">1</text>\n",
       "</g>\n",
       "<!-- b3 -->\n",
       "<g id=\"node4\" class=\"node\">\n",
       "<title>b3</title>\n",
       "<polygon fill=\"none\" stroke=\"black\" points=\"669,-210 496,-210 496,-174 669,-174 669,-210\"/>\n",
       "<text text-anchor=\"start\" x=\"563.5\" y=\"-193.8\" font-family=\"Times,serif\" font-size=\"14.00\">Square</text>\n",
       "<text text-anchor=\"start\" x=\"504\" y=\"-183\" font-family=\"monospace\" font-size=\"10.00\">bitsize=5, uncompute=False</text>\n",
       "</g>\n",
       "<!-- b0&#45;&gt;b3 -->\n",
       "<g id=\"edge3\" class=\"edge\">\n",
       "<title>b0-&gt;b3</title>\n",
       "<path fill=\"none\" stroke=\"black\" d=\"M432.54,-260.8C462.33,-247.33 503.9,-228.54 535.72,-214.15\"/>\n",
       "<polygon fill=\"black\" stroke=\"black\" points=\"537.16,-217.34 544.83,-210.03 534.28,-210.96 537.16,-217.34\"/>\n",
       "<text text-anchor=\"middle\" x=\"504\" y=\"-231.8\" font-family=\"Times,serif\" font-size=\"14.00\">1</text>\n",
       "</g>\n",
       "<!-- b4 -->\n",
       "<g id=\"node5\" class=\"node\">\n",
       "<title>b4</title>\n",
       "<polygon fill=\"none\" stroke=\"black\" points=\"287,-123 6,-123 6,-87 287,-87 287,-123\"/>\n",
       "<text text-anchor=\"start\" x=\"117.5\" y=\"-106.8\" font-family=\"Times,serif\" font-size=\"14.00\">ZPowGate</text>\n",
       "<text text-anchor=\"start\" x=\"14\" y=\"-96\" font-family=\"monospace\" font-size=\"10.00\">exponent=0.1234, global_shift=0.0, eps=1e-09</text>\n",
       "</g>\n",
       "<!-- b1&#45;&gt;b4 -->\n",
       "<g id=\"edge4\" class=\"edge\">\n",
       "<title>b1-&gt;b4</title>\n",
       "<path fill=\"none\" stroke=\"black\" d=\"M146.5,-173.8C146.5,-162.16 146.5,-146.55 146.5,-133.24\"/>\n",
       "<polygon fill=\"black\" stroke=\"black\" points=\"150,-133.18 146.5,-123.18 143,-133.18 150,-133.18\"/>\n",
       "<text text-anchor=\"middle\" x=\"153.5\" y=\"-144.8\" font-family=\"Times,serif\" font-size=\"14.00\">10</text>\n",
       "</g>\n",
       "<!-- b5 -->\n",
       "<g id=\"node6\" class=\"node\">\n",
       "<title>b5</title>\n",
       "<polygon fill=\"none\" stroke=\"black\" points=\"535,-123 480,-123 480,-87 535,-87 535,-123\"/>\n",
       "<text text-anchor=\"start\" x=\"488\" y=\"-101.3\" font-family=\"Times,serif\" font-size=\"14.00\">Toffoli</text>\n",
       "</g>\n",
       "<!-- b2&#45;&gt;b5 -->\n",
       "<g id=\"edge5\" class=\"edge\">\n",
       "<title>b2-&gt;b5</title>\n",
       "<path fill=\"none\" stroke=\"black\" d=\"M417.37,-173.8C434.37,-161.01 457.76,-143.42 476.45,-129.36\"/>\n",
       "<polygon fill=\"black\" stroke=\"black\" points=\"478.78,-131.98 484.67,-123.18 474.57,-126.39 478.78,-131.98\"/>\n",
       "<text text-anchor=\"middle\" x=\"465.5\" y=\"-144.8\" font-family=\"Times,serif\" font-size=\"14.00\">20</text>\n",
       "</g>\n",
       "<!-- b3&#45;&gt;b5 -->\n",
       "<g id=\"edge7\" class=\"edge\">\n",
       "<title>b3-&gt;b5</title>\n",
       "<path fill=\"none\" stroke=\"black\" d=\"M567.32,-173.8C556.45,-161.47 541.63,-144.68 529.46,-130.89\"/>\n",
       "<polygon fill=\"black\" stroke=\"black\" points=\"531.9,-128.36 522.65,-123.18 526.65,-132.99 531.9,-128.36\"/>\n",
       "<text text-anchor=\"middle\" x=\"556.5\" y=\"-144.8\" font-family=\"Times,serif\" font-size=\"14.00\">20</text>\n",
       "</g>\n",
       "<!-- b6 -->\n",
       "<g id=\"node7\" class=\"node\">\n",
       "<title>b6</title>\n",
       "<polygon fill=\"none\" stroke=\"black\" points=\"564,-36 451,-36 451,0 564,0 564,-36\"/>\n",
       "<text text-anchor=\"start\" x=\"503\" y=\"-19.8\" font-family=\"Times,serif\" font-size=\"14.00\">T</text>\n",
       "<text text-anchor=\"start\" x=\"459\" y=\"-9\" font-family=\"monospace\" font-size=\"10.00\">is_adjoint=False</text>\n",
       "</g>\n",
       "<!-- b5&#45;&gt;b6 -->\n",
       "<g id=\"edge6\" class=\"edge\">\n",
       "<title>b5-&gt;b6</title>\n",
       "<path fill=\"none\" stroke=\"black\" d=\"M507.5,-86.8C507.5,-75.16 507.5,-59.55 507.5,-46.24\"/>\n",
       "<polygon fill=\"black\" stroke=\"black\" points=\"511,-46.18 507.5,-36.18 504,-46.18 511,-46.18\"/>\n",
       "<text text-anchor=\"middle\" x=\"511\" y=\"-57.8\" font-family=\"Times,serif\" font-size=\"14.00\">4</text>\n",
       "</g>\n",
       "</g>\n",
       "</svg>"
      ],
      "text/plain": [
       "<IPython.core.display.SVG object>"
      ]
     },
     "metadata": {},
     "output_type": "display_data"
    },
    {
     "data": {
      "text/markdown": [
       "#### Counts totals:\n",
       " - `TGate()`: 160\n",
       " - `Z**0.1234`: 10"
      ],
      "text/plain": [
       "<IPython.core.display.Markdown object>"
      ]
     },
     "metadata": {},
     "output_type": "display_data"
    }
   ],
   "source": [
    "square_via_zpow_phasing_g, square_via_zpow_phasing_sigma = square_via_zpow_phasing.call_graph()\n",
    "show_call_graph(square_via_zpow_phasing_g)\n",
    "show_counts_sigma(square_via_zpow_phasing_sigma)"
   ]
  }
 ],
 "metadata": {
  "kernelspec": {
   "display_name": "Python 3 (ipykernel)",
   "language": "python",
   "name": "python3"
  },
  "language_info": {
   "codemirror_mode": {
    "name": "ipython",
    "version": 3
   },
   "file_extension": ".py",
   "mimetype": "text/x-python",
   "name": "python",
   "nbconvert_exporter": "python",
   "pygments_lexer": "ipython3",
   "version": "3.11.8"
  },
  "widgets": {
   "application/vnd.jupyter.widget-state+json": {
    "state": {
     "262c1bb82a1546d7b8c048ee39cc9ec3": {
      "model_module": "@jupyter-widgets/output",
      "model_module_version": "1.0.0",
      "model_name": "OutputModel",
      "state": {
       "_dom_classes": [],
       "_model_module": "@jupyter-widgets/output",
       "_model_module_version": "1.0.0",
       "_model_name": "OutputModel",
       "_view_count": null,
       "_view_module": "@jupyter-widgets/output",
       "_view_module_version": "1.0.0",
       "_view_name": "OutputView",
       "layout": "IPY_MODEL_9197e19cd9b44497ae35076f4945c7b9",
       "msg_id": "",
       "outputs": [
        {
         "data": {
          "text/markdown": "`square_via_zpow_phasing`",
          "text/plain": "<IPython.core.display.Markdown object>"
         },
         "metadata": {},
         "output_type": "display_data"
        },
        {
         "data": {
          "image/svg+xml": "<svg xmlns=\"http://www.w3.org/2000/svg\" xmlns:xlink=\"http://www.w3.org/1999/xlink\" width=\"239pt\" height=\"54pt\" viewBox=\"0.00 0.00 239.00 54.00\">\n<g id=\"graph0\" class=\"graph\" transform=\"scale(1 1) rotate(0) translate(4 50)\">\n<title>my_graph</title>\n<polygon fill=\"white\" stroke=\"transparent\" points=\"-4,4 -4,-50 235,-50 235,4 -4,4\"/>\n<!-- a_G2 -->\n<g id=\"node1\" class=\"node\">\n<title>a_G2</title>\n<text text-anchor=\"middle\" x=\"27\" y=\"-14.3\" font-family=\"Times,serif\" font-size=\"14.00\">a</text>\n</g>\n<!-- PhasingViaCostFunction -->\n<g id=\"node2\" class=\"node\">\n<title>PhasingViaCostFunction</title>\n<polygon fill=\"none\" stroke=\"black\" points=\"91.5,-29 91.5,-46 140.5,-46 140.5,-29 91.5,-29\"/>\n<text text-anchor=\"start\" x=\"94.5\" y=\"-35\" font-family=\"Times,serif\" font-size=\"10.00\">PhasingV..</text>\n<polygon fill=\"none\" stroke=\"black\" points=\"91.5,-8 91.5,-29 140.5,-29 140.5,-8 91.5,-8\"/>\n<text text-anchor=\"start\" x=\"112.5\" y=\"-14.8\" font-family=\"Times,serif\" font-size=\"14.00\">a</text>\n</g>\n<!-- a_G2&#45;&gt;PhasingViaCostFunction -->\n<g id=\"edge1\" class=\"edge\">\n<title>a_G2:e-&gt;PhasingViaCostFunction:w</title>\n<path fill=\"none\" stroke=\"black\" d=\"M54,-18C69.67,-18 74.14,-18 88.77,-18\"/>\n<ellipse fill=\"black\" stroke=\"black\" cx=\"90\" cy=\"-18\" rx=\"1\" ry=\"1\"/>\n<text text-anchor=\"middle\" x=\"72.5\" y=\"-21\" font-family=\"Times,serif\" font-size=\"10.00\">5</text>\n</g>\n<!-- a_G1 -->\n<g id=\"node3\" class=\"node\">\n<title>a_G1</title>\n<text text-anchor=\"middle\" x=\"204\" y=\"-14.3\" font-family=\"Times,serif\" font-size=\"14.00\">a</text>\n</g>\n<!-- PhasingViaCostFunction&#45;&gt;a_G1 -->\n<g id=\"edge2\" class=\"edge\">\n<title>PhasingViaCostFunction:e-&gt;a_G1:w</title>\n<path fill=\"none\" stroke=\"black\" d=\"M140,-18C155.67,-18 160.14,-18 174.77,-18\"/>\n<ellipse fill=\"black\" stroke=\"black\" cx=\"176\" cy=\"-18\" rx=\"1\" ry=\"1\"/>\n<text text-anchor=\"middle\" x=\"158.5\" y=\"-21\" font-family=\"Times,serif\" font-size=\"10.00\">5</text>\n</g>\n</g>\n</svg>",
          "text/plain": "<IPython.core.display.SVG object>"
         },
         "metadata": {},
         "output_type": "display_data"
        }
       ],
       "tabbable": null,
       "tooltip": null
      }
     },
     "9197e19cd9b44497ae35076f4945c7b9": {
      "model_module": "@jupyter-widgets/base",
      "model_module_version": "2.0.0",
      "model_name": "LayoutModel",
      "state": {
       "_model_module": "@jupyter-widgets/base",
       "_model_module_version": "2.0.0",
       "_model_name": "LayoutModel",
       "_view_count": null,
       "_view_module": "@jupyter-widgets/base",
       "_view_module_version": "2.0.0",
       "_view_name": "LayoutView",
       "align_content": null,
       "align_items": null,
       "align_self": null,
       "border_bottom": null,
       "border_left": null,
       "border_right": null,
       "border_top": null,
       "bottom": null,
       "display": null,
       "flex": null,
       "flex_flow": null,
       "grid_area": null,
       "grid_auto_columns": null,
       "grid_auto_flow": null,
       "grid_auto_rows": null,
       "grid_column": null,
       "grid_gap": null,
       "grid_row": null,
       "grid_template_areas": null,
       "grid_template_columns": null,
       "grid_template_rows": null,
       "height": null,
       "justify_content": null,
       "justify_items": null,
       "left": null,
       "margin": null,
       "max_height": null,
       "max_width": null,
       "min_height": null,
       "min_width": null,
       "object_fit": null,
       "object_position": null,
       "order": null,
       "overflow": null,
       "padding": null,
       "right": null,
       "top": null,
       "visibility": null,
       "width": null
      }
     },
     "9287eb39b1214d6695e36818fc9105c7": {
      "model_module": "@jupyter-widgets/output",
      "model_module_version": "1.0.0",
      "model_name": "OutputModel",
      "state": {
       "_dom_classes": [],
       "_model_module": "@jupyter-widgets/output",
       "_model_module_version": "1.0.0",
       "_model_name": "OutputModel",
       "_view_count": null,
       "_view_module": "@jupyter-widgets/output",
       "_view_module_version": "1.0.0",
       "_view_name": "OutputView",
       "layout": "IPY_MODEL_bfe8b6a1e59a4596935bde35414e624d",
       "msg_id": "",
       "outputs": [
        {
         "data": {
          "text/markdown": "`square_via_phase_gradient`",
          "text/plain": "<IPython.core.display.Markdown object>"
         },
         "metadata": {},
         "output_type": "display_data"
        },
        {
         "data": {
          "image/svg+xml": "<svg xmlns=\"http://www.w3.org/2000/svg\" xmlns:xlink=\"http://www.w3.org/1999/xlink\" width=\"306pt\" height=\"98pt\" viewBox=\"0.00 0.00 306.00 98.00\">\n<g id=\"graph0\" class=\"graph\" transform=\"scale(1 1) rotate(0) translate(4 94)\">\n<title>my_graph</title>\n<polygon fill=\"white\" stroke=\"transparent\" points=\"-4,4 -4,-94 302,-94 302,4 -4,4\"/>\n<!-- a_G4 -->\n<g id=\"node1\" class=\"node\">\n<title>a_G4</title>\n<text text-anchor=\"middle\" x=\"39\" y=\"-68.3\" font-family=\"Times,serif\" font-size=\"14.00\">a</text>\n</g>\n<!-- PhasingViaCostFunction -->\n<g id=\"node3\" class=\"node\">\n<title>PhasingViaCostFunction</title>\n<polygon fill=\"none\" stroke=\"black\" points=\"115,-66 115,-83 183,-83 183,-66 115,-66\"/>\n<text text-anchor=\"start\" x=\"127.5\" y=\"-72\" font-family=\"Times,serif\" font-size=\"10.00\">PhasingV..</text>\n<polygon fill=\"none\" stroke=\"black\" points=\"115,-45 115,-66 183,-66 183,-45 115,-45\"/>\n<text text-anchor=\"start\" x=\"145.5\" y=\"-51.8\" font-family=\"Times,serif\" font-size=\"14.00\">a</text>\n<polygon fill=\"none\" stroke=\"black\" points=\"115,-24 115,-45 183,-45 183,-24 115,-24\"/>\n<text text-anchor=\"start\" x=\"118\" y=\"-30.8\" font-family=\"Times,serif\" font-size=\"14.00\">phase_grad</text>\n</g>\n<!-- a_G4&#45;&gt;PhasingViaCostFunction -->\n<g id=\"edge1\" class=\"edge\">\n<title>a_G4:e-&gt;PhasingViaCostFunction:w</title>\n<path fill=\"none\" stroke=\"black\" d=\"M67,-72C88.78,-72 92.3,-56.98 112.95,-56.05\"/>\n<ellipse fill=\"black\" stroke=\"black\" cx=\"114\" cy=\"-56.02\" rx=\"1\" ry=\"1\"/>\n<text text-anchor=\"middle\" x=\"96.5\" y=\"-63\" font-family=\"Times,serif\" font-size=\"10.00\">5</text>\n</g>\n<!-- phase_grad_G2 -->\n<g id=\"node2\" class=\"node\">\n<title>phase_grad_G2</title>\n<text text-anchor=\"middle\" x=\"39\" y=\"-14.3\" font-family=\"Times,serif\" font-size=\"14.00\">phase_grad</text>\n</g>\n<!-- phase_grad_G2&#45;&gt;PhasingViaCostFunction -->\n<g id=\"edge2\" class=\"edge\">\n<title>phase_grad_G2:e-&gt;PhasingViaCostFunction:w</title>\n<path fill=\"none\" stroke=\"black\" d=\"M78,-18C95.22,-18 96.97,-32.77 112.98,-33.93\"/>\n<ellipse fill=\"black\" stroke=\"black\" cx=\"114\" cy=\"-33.96\" rx=\"1\" ry=\"1\"/>\n<text text-anchor=\"middle\" x=\"96.5\" y=\"-29\" font-family=\"Times,serif\" font-size=\"10.00\">32</text>\n</g>\n<!-- a_G3 -->\n<g id=\"node4\" class=\"node\">\n<title>a_G3</title>\n<text text-anchor=\"middle\" x=\"259\" y=\"-68.3\" font-family=\"Times,serif\" font-size=\"14.00\">a</text>\n</g>\n<!-- PhasingViaCostFunction&#45;&gt;a_G3 -->\n<g id=\"edge3\" class=\"edge\">\n<title>PhasingViaCostFunction:e-&gt;a_G3:w</title>\n<path fill=\"none\" stroke=\"black\" d=\"M183,-56C204.78,-56 208.3,-71.02 228.95,-71.95\"/>\n<ellipse fill=\"black\" stroke=\"black\" cx=\"230\" cy=\"-71.98\" rx=\"1\" ry=\"1\"/>\n<text text-anchor=\"middle\" x=\"201.5\" y=\"-63\" font-family=\"Times,serif\" font-size=\"10.00\">5</text>\n</g>\n<!-- phase_grad_G0 -->\n<g id=\"node5\" class=\"node\">\n<title>phase_grad_G0</title>\n<text text-anchor=\"middle\" x=\"259\" y=\"-14.3\" font-family=\"Times,serif\" font-size=\"14.00\">phase_grad</text>\n</g>\n<!-- PhasingViaCostFunction&#45;&gt;phase_grad_G0 -->\n<g id=\"edge4\" class=\"edge\">\n<title>PhasingViaCostFunction:e-&gt;phase_grad_G0:w</title>\n<path fill=\"none\" stroke=\"black\" d=\"M183,-34C200.22,-34 201.97,-19.23 217.98,-18.07\"/>\n<ellipse fill=\"black\" stroke=\"black\" cx=\"219\" cy=\"-18.04\" rx=\"1\" ry=\"1\"/>\n<text text-anchor=\"middle\" x=\"201.5\" y=\"-29\" font-family=\"Times,serif\" font-size=\"10.00\">32</text>\n</g>\n</g>\n</svg>",
          "text/plain": "<IPython.core.display.SVG object>"
         },
         "metadata": {},
         "output_type": "display_data"
        }
       ],
       "tabbable": null,
       "tooltip": null
      }
     },
     "bfe8b6a1e59a4596935bde35414e624d": {
      "model_module": "@jupyter-widgets/base",
      "model_module_version": "2.0.0",
      "model_name": "LayoutModel",
      "state": {
       "_model_module": "@jupyter-widgets/base",
       "_model_module_version": "2.0.0",
       "_model_name": "LayoutModel",
       "_view_count": null,
       "_view_module": "@jupyter-widgets/base",
       "_view_module_version": "2.0.0",
       "_view_name": "LayoutView",
       "align_content": null,
       "align_items": null,
       "align_self": null,
       "border_bottom": null,
       "border_left": null,
       "border_right": null,
       "border_top": null,
       "bottom": null,
       "display": null,
       "flex": null,
       "flex_flow": null,
       "grid_area": null,
       "grid_auto_columns": null,
       "grid_auto_flow": null,
       "grid_auto_rows": null,
       "grid_column": null,
       "grid_gap": null,
       "grid_row": null,
       "grid_template_areas": null,
       "grid_template_columns": null,
       "grid_template_rows": null,
       "height": null,
       "justify_content": null,
       "justify_items": null,
       "left": null,
       "margin": null,
       "max_height": null,
       "max_width": null,
       "min_height": null,
       "min_width": null,
       "object_fit": null,
       "object_position": null,
       "order": null,
       "overflow": null,
       "padding": null,
       "right": null,
       "top": null,
       "visibility": null,
       "width": null
      }
     },
     "e0eb525ceded4f0e9cf2b7fcfeba0fab": {
      "model_module": "@jupyter-widgets/base",
      "model_module_version": "2.0.0",
      "model_name": "LayoutModel",
      "state": {
       "_model_module": "@jupyter-widgets/base",
       "_model_module_version": "2.0.0",
       "_model_name": "LayoutModel",
       "_view_count": null,
       "_view_module": "@jupyter-widgets/base",
       "_view_module_version": "2.0.0",
       "_view_name": "LayoutView",
       "align_content": null,
       "align_items": null,
       "align_self": null,
       "border_bottom": null,
       "border_left": null,
       "border_right": null,
       "border_top": null,
       "bottom": null,
       "display": null,
       "flex": null,
       "flex_flow": null,
       "grid_area": null,
       "grid_auto_columns": null,
       "grid_auto_flow": null,
       "grid_auto_rows": null,
       "grid_column": null,
       "grid_gap": null,
       "grid_row": null,
       "grid_template_areas": null,
       "grid_template_columns": null,
       "grid_template_rows": null,
       "height": null,
       "justify_content": null,
       "justify_items": null,
       "left": null,
       "margin": null,
       "max_height": null,
       "max_width": null,
       "min_height": null,
       "min_width": null,
       "object_fit": null,
       "object_position": null,
       "order": null,
       "overflow": null,
       "padding": null,
       "right": null,
       "top": null,
       "visibility": null,
       "width": null
      }
     },
     "e8a78f30571548e286cd2519fb6910ca": {
      "model_module": "@jupyter-widgets/controls",
      "model_module_version": "2.0.0",
      "model_name": "HBoxModel",
      "state": {
       "_dom_classes": [],
       "_model_module": "@jupyter-widgets/controls",
       "_model_module_version": "2.0.0",
       "_model_name": "HBoxModel",
       "_view_count": null,
       "_view_module": "@jupyter-widgets/controls",
       "_view_module_version": "2.0.0",
       "_view_name": "HBoxView",
       "box_style": "",
       "children": [
        "IPY_MODEL_9287eb39b1214d6695e36818fc9105c7",
        "IPY_MODEL_262c1bb82a1546d7b8c048ee39cc9ec3"
       ],
       "layout": "IPY_MODEL_e0eb525ceded4f0e9cf2b7fcfeba0fab",
       "tabbable": null,
       "tooltip": null
      }
     }
    },
    "version_major": 2,
    "version_minor": 0
   }
  }
 },
 "nbformat": 4,
 "nbformat_minor": 5
}
