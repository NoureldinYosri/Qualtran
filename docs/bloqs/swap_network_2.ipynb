{
 "cells": [
  {
   "cell_type": "markdown",
   "id": "e71b133e",
   "metadata": {
    "cq.autogen": "title_cell"
   },
   "source": [
    "# Swap Network\n",
    "\n",
    "Functionality for moving data between registers (swapping)."
   ]
  },
  {
   "cell_type": "code",
   "execution_count": 1,
   "id": "67c52313",
   "metadata": {
    "cq.autogen": "top_imports"
   },
   "outputs": [],
   "source": [
    "from qualtran import Bloq, CompositeBloq, BloqBuilder, Signature, Register\n",
    "from qualtran.drawing import show_bloq, show_call_graph, show_counts_sigma\n",
    "from typing import *\n",
    "import numpy as np\n",
    "import sympy\n",
    "import cirq"
   ]
  },
  {
   "cell_type": "markdown",
   "id": "9a2e8a29",
   "metadata": {
    "cq.autogen": "CSwap.bloq_doc.md"
   },
   "source": [
    "## `CSwap`\n",
    "Swap two registers controlled on a control bit.\n",
    "\n",
    "Implements a multi-target controlled swap unitary $CSWAP_n = |0><0| I + |1><1| SWAP_n$.\n",
    "\n",
    "This decomposes into a qubitwise SWAP on the two target registers, and takes $14n$ T-gates.\n",
    "\n",
    "#### Parameters\n",
    " - `bitsize`: The bitsize of each of the two registers being swapped. \n",
    "\n",
    "#### Registers\n",
    " - `ctrl`: the control bit\n",
    " - `x`: the first register\n",
    " - `y`: the second register\n"
   ]
  },
  {
   "cell_type": "code",
   "execution_count": 2,
   "id": "2fc287a9",
   "metadata": {
    "cq.autogen": "CSwap.bloq_doc.py"
   },
   "outputs": [],
   "source": [
    "from qualtran.bloqs.basic_gates import CSwap"
   ]
  },
  {
   "cell_type": "markdown",
   "id": "fa8b3b02",
   "metadata": {
    "cq.autogen": "CSwap.example_instances.md"
   },
   "source": [
    "### Example Instances"
   ]
  },
  {
   "cell_type": "code",
   "execution_count": 3,
   "id": "6b9600e8",
   "metadata": {
    "cq.autogen": "CSwap.cswap_symb"
   },
   "outputs": [],
   "source": [
    "# A symbolic version. The bitsize is the symbol 'n'.\n",
    "from sympy import sympify\n",
    "\n",
    "cswap_symb = CSwap(bitsize=sympify('n'))"
   ]
  },
  {
   "cell_type": "code",
   "execution_count": 4,
   "id": "745afb32",
   "metadata": {
    "cq.autogen": "CSwap.cswap_small"
   },
   "outputs": [],
   "source": [
    "# A small version on four bits.\n",
    "cswap_small = CSwap(bitsize=4)"
   ]
  },
  {
   "cell_type": "code",
   "execution_count": 5,
   "id": "a5bac02b",
   "metadata": {
    "cq.autogen": "CSwap.cswap_large"
   },
   "outputs": [],
   "source": [
    "# A large version that swaps 64-bit registers.\n",
    "cswap_large = CSwap(bitsize=64)"
   ]
  },
  {
   "cell_type": "markdown",
   "id": "70b14690",
   "metadata": {
    "cq.autogen": "CSwap.graphical_signature.md"
   },
   "source": [
    "#### Graphical Signature"
   ]
  },
  {
   "cell_type": "code",
   "execution_count": 6,
   "id": "c4ad9f12",
   "metadata": {
    "cq.autogen": "CSwap.graphical_signature.py"
   },
   "outputs": [
    {
     "data": {
      "application/vnd.jupyter.widget-view+json": {
       "model_id": "3909a0d38ec74d55bddf538219a5ed7c",
       "version_major": 2,
       "version_minor": 0
      },
      "text/plain": [
       "HBox(children=(Output(outputs=({'output_type': 'display_data', 'data': {'text/plain': '<IPython.core.display.M…"
      ]
     },
     "metadata": {},
     "output_type": "display_data"
    }
   ],
   "source": [
    "from qualtran.drawing import show_bloqs\n",
    "show_bloqs([cswap_symb, cswap_small, cswap_large],\n",
    "           ['`cswap_symb`', '`cswap_small`', '`cswap_large`'])"
   ]
  },
  {
   "cell_type": "markdown",
   "id": "615155b0",
   "metadata": {
    "cq.autogen": "CSwap.call_graph.md"
   },
   "source": [
    "### Call Graph"
   ]
  },
  {
   "cell_type": "code",
   "execution_count": 7,
   "id": "7c1215b2",
   "metadata": {
    "cq.autogen": "CSwap.call_graph.py"
   },
   "outputs": [
    {
     "data": {
      "image/svg+xml": [
       "<svg xmlns=\"http://www.w3.org/2000/svg\" xmlns:xlink=\"http://www.w3.org/1999/xlink\" width=\"250pt\" height=\"218pt\" viewBox=\"0.00 0.00 249.50 218.00\">\n",
       "<g id=\"graph0\" class=\"graph\" transform=\"scale(1 1) rotate(0) translate(4 214)\">\n",
       "<title>counts</title>\n",
       "<polygon fill=\"white\" stroke=\"transparent\" points=\"-4,4 -4,-214 245.5,-214 245.5,4 -4,4\"/>\n",
       "<!-- b0 -->\n",
       "<g id=\"node1\" class=\"node\">\n",
       "<title>b0</title>\n",
       "<polygon fill=\"none\" stroke=\"black\" points=\"155.5,-210 84.5,-210 84.5,-174 155.5,-174 155.5,-210\"/>\n",
       "<text text-anchor=\"start\" x=\"100\" y=\"-193.8\" font-family=\"Times,serif\" font-size=\"14.00\">CSwap</text>\n",
       "<text text-anchor=\"start\" x=\"92.5\" y=\"-183\" font-family=\"monospace\" font-size=\"10.00\">bitsize=n</text>\n",
       "</g>\n",
       "<!-- b1 -->\n",
       "<g id=\"node2\" class=\"node\">\n",
       "<title>b1</title>\n",
       "<polygon fill=\"none\" stroke=\"black\" points=\"168.5,-123 71.5,-123 71.5,-87 168.5,-87 168.5,-123\"/>\n",
       "<text text-anchor=\"start\" x=\"79.5\" y=\"-101.3\" font-family=\"Times,serif\" font-size=\"14.00\">TwoBitCSwap</text>\n",
       "</g>\n",
       "<!-- b0&#45;&gt;b1 -->\n",
       "<g id=\"edge1\" class=\"edge\">\n",
       "<title>b0-&gt;b1</title>\n",
       "<path fill=\"none\" stroke=\"black\" d=\"M120,-173.8C120,-162.16 120,-146.55 120,-133.24\"/>\n",
       "<polygon fill=\"black\" stroke=\"black\" points=\"123.5,-133.18 120,-123.18 116.5,-133.18 123.5,-133.18\"/>\n",
       "<text text-anchor=\"middle\" x=\"123.5\" y=\"-144.8\" font-family=\"Times,serif\" font-size=\"14.00\">n</text>\n",
       "</g>\n",
       "<!-- b2 -->\n",
       "<g id=\"node3\" class=\"node\">\n",
       "<title>b2</title>\n",
       "<polygon fill=\"none\" stroke=\"black\" points=\"110,-36 0,-36 0,0 110,0 110,-36\"/>\n",
       "<text text-anchor=\"start\" x=\"8\" y=\"-19.8\" font-family=\"Times,serif\" font-size=\"14.00\">ArbitraryClifford</text>\n",
       "<text text-anchor=\"start\" x=\"45.5\" y=\"-9\" font-family=\"monospace\" font-size=\"10.00\">n=3</text>\n",
       "</g>\n",
       "<!-- b1&#45;&gt;b2 -->\n",
       "<g id=\"edge2\" class=\"edge\">\n",
       "<title>b1-&gt;b2</title>\n",
       "<path fill=\"none\" stroke=\"black\" d=\"M106.85,-86.8C97.51,-74.59 84.82,-57.99 74.33,-44.28\"/>\n",
       "<polygon fill=\"black\" stroke=\"black\" points=\"76.99,-41.99 68.13,-36.18 71.43,-46.25 76.99,-41.99\"/>\n",
       "<text text-anchor=\"middle\" x=\"99\" y=\"-57.8\" font-family=\"Times,serif\" font-size=\"14.00\">10</text>\n",
       "</g>\n",
       "<!-- b3 -->\n",
       "<g id=\"node4\" class=\"node\">\n",
       "<title>b3</title>\n",
       "<polygon fill=\"none\" stroke=\"black\" points=\"241.5,-36 128.5,-36 128.5,0 241.5,0 241.5,-36\"/>\n",
       "<text text-anchor=\"start\" x=\"180.5\" y=\"-19.8\" font-family=\"Times,serif\" font-size=\"14.00\">T</text>\n",
       "<text text-anchor=\"start\" x=\"136.5\" y=\"-9\" font-family=\"monospace\" font-size=\"10.00\">is_adjoint=False</text>\n",
       "</g>\n",
       "<!-- b1&#45;&gt;b3 -->\n",
       "<g id=\"edge3\" class=\"edge\">\n",
       "<title>b1-&gt;b3</title>\n",
       "<path fill=\"none\" stroke=\"black\" d=\"M133.15,-86.8C142.49,-74.59 155.18,-57.99 165.67,-44.28\"/>\n",
       "<polygon fill=\"black\" stroke=\"black\" points=\"168.57,-46.25 171.87,-36.18 163.01,-41.99 168.57,-46.25\"/>\n",
       "<text text-anchor=\"middle\" x=\"159.5\" y=\"-57.8\" font-family=\"Times,serif\" font-size=\"14.00\">7</text>\n",
       "</g>\n",
       "</g>\n",
       "</svg>"
      ],
      "text/plain": [
       "<IPython.core.display.SVG object>"
      ]
     },
     "metadata": {},
     "output_type": "display_data"
    },
    {
     "data": {
      "text/markdown": [
       "#### Counts totals:\n",
       " - `ArbitraryClifford(n=3)`: $\\displaystyle 10 n$\n",
       " - `TGate()`: $\\displaystyle 7 n$"
      ],
      "text/plain": [
       "<IPython.core.display.Markdown object>"
      ]
     },
     "metadata": {},
     "output_type": "display_data"
    }
   ],
   "source": [
    "cswap_symb_g, cswap_symb_sigma = cswap_symb.call_graph()\n",
    "show_call_graph(cswap_symb_g)\n",
    "show_counts_sigma(cswap_symb_sigma)"
   ]
  },
  {
   "cell_type": "markdown",
   "id": "c4d14510",
   "metadata": {
    "cq.autogen": "CSwapApprox.bloq_doc.md"
   },
   "source": [
    "## `CSwapApprox`\n",
    "Approximately implements a multi-target controlled swap unitary using only $4n$ T-gates.\n",
    "\n",
    "Implements $\\mathrm{CSWAP}_n = |0 \\rangle\\langle 0| I + |1 \\rangle\\langle 1| \\mathrm{SWAP}_n$\n",
    "such that the output state is correct up to a global phase factor of +1 / -1.\n",
    "\n",
    "This is useful when the incorrect phase can be absorbed in a garbage state of an algorithm\n",
    "and thus ignored. See the reference for more details.\n",
    "\n",
    "#### Parameters\n",
    " - `bitsize`: The bitsize of the two registers being swapped. \n",
    "\n",
    "#### Registers\n",
    " - `ctrl`: the control bit\n",
    " - `x`: the first register\n",
    " - `y`: the second register \n",
    "\n",
    "#### References\n",
    "[Trading T-gates for dirty qubits in state preparation and unitary synthesis](https://arxiv.org/abs/1812.00954).\n",
    "Low et. al. 2018. See Appendix B.2.c.\n"
   ]
  },
  {
   "cell_type": "code",
   "execution_count": 8,
   "id": "d06c484e",
   "metadata": {
    "cq.autogen": "CSwapApprox.bloq_doc.py"
   },
   "outputs": [],
   "source": [
    "from qualtran.bloqs.swap_network import CSwapApprox"
   ]
  },
  {
   "cell_type": "markdown",
   "id": "c84a60b4",
   "metadata": {
    "cq.autogen": "CSwapApprox.example_instances.md"
   },
   "source": [
    "### Example Instances"
   ]
  },
  {
   "cell_type": "code",
   "execution_count": 9,
   "id": "6e3ad9fb",
   "metadata": {
    "cq.autogen": "CSwapApprox.approx_cswap_symb"
   },
   "outputs": [],
   "source": [
    "# A symbolic version. The bitsize is the symbol 'n'.\n",
    "from sympy import sympify\n",
    "\n",
    "approx_cswap_symb = CSwapApprox(bitsize=sympify('n'))"
   ]
  },
  {
   "cell_type": "code",
   "execution_count": 10,
   "id": "a84e60be",
   "metadata": {
    "cq.autogen": "CSwapApprox.approx_cswap_small"
   },
   "outputs": [],
   "source": [
    "# A small version on four bits.\n",
    "approx_cswap_small = CSwapApprox(bitsize=4)"
   ]
  },
  {
   "cell_type": "code",
   "execution_count": 11,
   "id": "c9b806da",
   "metadata": {
    "cq.autogen": "CSwapApprox.approx_cswap_large"
   },
   "outputs": [],
   "source": [
    "# A large version that swaps 64-bit registers.\n",
    "approx_cswap_large = CSwapApprox(bitsize=64)"
   ]
  },
  {
   "cell_type": "markdown",
   "id": "d761ec04",
   "metadata": {
    "cq.autogen": "CSwapApprox.graphical_signature.md"
   },
   "source": [
    "#### Graphical Signature"
   ]
  },
  {
   "cell_type": "code",
   "execution_count": 12,
   "id": "b5202f4c",
   "metadata": {
    "cq.autogen": "CSwapApprox.graphical_signature.py"
   },
   "outputs": [
    {
     "data": {
      "application/vnd.jupyter.widget-view+json": {
       "model_id": "6600fe7b55574b9999c6090ea37b26d3",
       "version_major": 2,
       "version_minor": 0
      },
      "text/plain": [
       "HBox(children=(Output(outputs=({'output_type': 'display_data', 'data': {'text/plain': '<IPython.core.display.M…"
      ]
     },
     "metadata": {},
     "output_type": "display_data"
    }
   ],
   "source": [
    "from qualtran.drawing import show_bloqs\n",
    "show_bloqs([approx_cswap_symb, approx_cswap_small, approx_cswap_large],\n",
    "           ['`approx_cswap_symb`', '`approx_cswap_small`', '`approx_cswap_large`'])"
   ]
  },
  {
   "cell_type": "markdown",
   "id": "cb519e6b",
   "metadata": {
    "cq.autogen": "CSwapApprox.call_graph.md"
   },
   "source": [
    "### Call Graph"
   ]
  },
  {
   "cell_type": "code",
   "execution_count": 13,
   "id": "ee0a90c5",
   "metadata": {
    "cq.autogen": "CSwapApprox.call_graph.py"
   },
   "outputs": [
    {
     "data": {
      "image/svg+xml": [
       "<svg xmlns=\"http://www.w3.org/2000/svg\" xmlns:xlink=\"http://www.w3.org/1999/xlink\" width=\"378pt\" height=\"131pt\" viewBox=\"0.00 0.00 377.50 131.00\">\n",
       "<g id=\"graph0\" class=\"graph\" transform=\"scale(1 1) rotate(0) translate(4 127)\">\n",
       "<title>counts</title>\n",
       "<polygon fill=\"white\" stroke=\"transparent\" points=\"-4,4 -4,-127 373.5,-127 373.5,4 -4,4\"/>\n",
       "<!-- b0 -->\n",
       "<g id=\"node1\" class=\"node\">\n",
       "<title>b0</title>\n",
       "<polygon fill=\"none\" stroke=\"black\" points=\"231.5,-123 134.5,-123 134.5,-87 231.5,-87 231.5,-123\"/>\n",
       "<text text-anchor=\"start\" x=\"142.5\" y=\"-106.8\" font-family=\"Times,serif\" font-size=\"14.00\">CSwapApprox</text>\n",
       "<text text-anchor=\"start\" x=\"155.5\" y=\"-96\" font-family=\"monospace\" font-size=\"10.00\">bitsize=n</text>\n",
       "</g>\n",
       "<!-- b1 -->\n",
       "<g id=\"node2\" class=\"node\">\n",
       "<title>b1</title>\n",
       "<polygon fill=\"none\" stroke=\"black\" points=\"110,-36 0,-36 0,0 110,0 110,-36\"/>\n",
       "<text text-anchor=\"start\" x=\"8\" y=\"-19.8\" font-family=\"Times,serif\" font-size=\"14.00\">ArbitraryClifford</text>\n",
       "<text text-anchor=\"start\" x=\"45.5\" y=\"-9\" font-family=\"monospace\" font-size=\"10.00\">n=2</text>\n",
       "</g>\n",
       "<!-- b0&#45;&gt;b1 -->\n",
       "<g id=\"edge1\" class=\"edge\">\n",
       "<title>b0-&gt;b1</title>\n",
       "<path fill=\"none\" stroke=\"black\" d=\"M157.1,-86.8C137.58,-73.84 110.63,-55.94 89.32,-41.79\"/>\n",
       "<polygon fill=\"black\" stroke=\"black\" points=\"91.13,-38.79 80.86,-36.18 87.26,-44.62 91.13,-38.79\"/>\n",
       "<text text-anchor=\"middle\" x=\"145.5\" y=\"-57.8\" font-family=\"Times,serif\" font-size=\"14.00\">6⋅n - 1</text>\n",
       "</g>\n",
       "<!-- b2 -->\n",
       "<g id=\"node3\" class=\"node\">\n",
       "<title>b2</title>\n",
       "<polygon fill=\"none\" stroke=\"black\" points=\"238,-36 128,-36 128,0 238,0 238,-36\"/>\n",
       "<text text-anchor=\"start\" x=\"136\" y=\"-19.8\" font-family=\"Times,serif\" font-size=\"14.00\">ArbitraryClifford</text>\n",
       "<text text-anchor=\"start\" x=\"173.5\" y=\"-9\" font-family=\"monospace\" font-size=\"10.00\">n=1</text>\n",
       "</g>\n",
       "<!-- b0&#45;&gt;b2 -->\n",
       "<g id=\"edge2\" class=\"edge\">\n",
       "<title>b0-&gt;b2</title>\n",
       "<path fill=\"none\" stroke=\"black\" d=\"M183,-86.8C183,-75.16 183,-59.55 183,-46.24\"/>\n",
       "<polygon fill=\"black\" stroke=\"black\" points=\"186.5,-46.18 183,-36.18 179.5,-46.18 186.5,-46.18\"/>\n",
       "<text text-anchor=\"middle\" x=\"195.5\" y=\"-57.8\" font-family=\"Times,serif\" font-size=\"14.00\">16⋅n</text>\n",
       "</g>\n",
       "<!-- b3 -->\n",
       "<g id=\"node4\" class=\"node\">\n",
       "<title>b3</title>\n",
       "<polygon fill=\"none\" stroke=\"black\" points=\"369.5,-36 256.5,-36 256.5,0 369.5,0 369.5,-36\"/>\n",
       "<text text-anchor=\"start\" x=\"308.5\" y=\"-19.8\" font-family=\"Times,serif\" font-size=\"14.00\">T</text>\n",
       "<text text-anchor=\"start\" x=\"264.5\" y=\"-9\" font-family=\"monospace\" font-size=\"10.00\">is_adjoint=False</text>\n",
       "</g>\n",
       "<!-- b0&#45;&gt;b3 -->\n",
       "<g id=\"edge3\" class=\"edge\">\n",
       "<title>b0-&gt;b3</title>\n",
       "<path fill=\"none\" stroke=\"black\" d=\"M209.31,-86.8C229.13,-73.84 256.5,-55.94 278.15,-41.79\"/>\n",
       "<polygon fill=\"black\" stroke=\"black\" points=\"280.28,-44.58 286.73,-36.18 276.45,-38.72 280.28,-44.58\"/>\n",
       "<text text-anchor=\"middle\" x=\"265.5\" y=\"-57.8\" font-family=\"Times,serif\" font-size=\"14.00\">4⋅n</text>\n",
       "</g>\n",
       "</g>\n",
       "</svg>"
      ],
      "text/plain": [
       "<IPython.core.display.SVG object>"
      ]
     },
     "metadata": {},
     "output_type": "display_data"
    },
    {
     "data": {
      "text/markdown": [
       "#### Counts totals:\n",
       " - `ArbitraryClifford(n=1)`: $\\displaystyle 16 n$\n",
       " - `ArbitraryClifford(n=2)`: $\\displaystyle 6 n - 1$\n",
       " - `TGate()`: $\\displaystyle 4 n$"
      ],
      "text/plain": [
       "<IPython.core.display.Markdown object>"
      ]
     },
     "metadata": {},
     "output_type": "display_data"
    }
   ],
   "source": [
    "approx_cswap_symb_g, approx_cswap_symb_sigma = approx_cswap_symb.call_graph()\n",
    "show_call_graph(approx_cswap_symb_g)\n",
    "show_counts_sigma(approx_cswap_symb_sigma)"
   ]
  },
  {
   "cell_type": "markdown",
   "id": "0697fe71",
   "metadata": {
    "cq.autogen": "SwapWithZero.bloq_doc.md"
   },
   "source": [
    "## `SwapWithZero`\n",
    "Swaps |Psi_0> with |Psi_x> if selection register stores index `x`.\n",
    "\n",
    "Implements the unitary U |x> |Psi_0> |Psi_1> ... |Psi_{n-1}> --> |x> |Psi_x> |Rest of Psi>.\n",
    "Note that the state of `|Rest of Psi>` is allowed to be anything and should not be depended\n",
    "upon.\n",
    "\n",
    "#### References\n",
    "[Trading T-gates for dirty qubits in state preparation and unitary synthesis]\n",
    "(https://arxiv.org/abs/1812.00954).\n",
    "    Low, Kliuchnikov, Schaeffer. 2018.\n"
   ]
  },
  {
   "cell_type": "code",
   "execution_count": 14,
   "id": "8e68c8ee",
   "metadata": {
    "cq.autogen": "SwapWithZero.bloq_doc.py"
   },
   "outputs": [],
   "source": [
    "from qualtran.bloqs.swap_network import SwapWithZero"
   ]
  },
  {
   "cell_type": "markdown",
   "id": "cf2ee142",
   "metadata": {
    "cq.autogen": "SwapWithZero.example_instances.md"
   },
   "source": [
    "### Example Instances"
   ]
  },
  {
   "cell_type": "code",
   "execution_count": 15,
   "id": "4ae57bc8",
   "metadata": {
    "cq.autogen": "SwapWithZero.swz"
   },
   "outputs": [],
   "source": [
    "swz = SwapWithZero(selection_bitsize=8, target_bitsize=32, n_target_registers=4)"
   ]
  },
  {
   "cell_type": "code",
   "execution_count": 16,
   "id": "53b5d9ce",
   "metadata": {
    "cq.autogen": "SwapWithZero.swz_small"
   },
   "outputs": [],
   "source": [
    "# A small version on four bits.\n",
    "swz_small = SwapWithZero(selection_bitsize=3, target_bitsize=2, n_target_registers=2)"
   ]
  },
  {
   "cell_type": "markdown",
   "id": "d8f18107",
   "metadata": {
    "cq.autogen": "SwapWithZero.graphical_signature.md"
   },
   "source": [
    "#### Graphical Signature"
   ]
  },
  {
   "cell_type": "code",
   "execution_count": 17,
   "id": "ad7b860d",
   "metadata": {
    "cq.autogen": "SwapWithZero.graphical_signature.py"
   },
   "outputs": [
    {
     "data": {
      "application/vnd.jupyter.widget-view+json": {
       "model_id": "9a11a62024304a64b7f59484964bf9e7",
       "version_major": 2,
       "version_minor": 0
      },
      "text/plain": [
       "HBox(children=(Output(outputs=({'output_type': 'display_data', 'data': {'text/plain': '<IPython.core.display.M…"
      ]
     },
     "metadata": {},
     "output_type": "display_data"
    }
   ],
   "source": [
    "from qualtran.drawing import show_bloqs\n",
    "show_bloqs([swz, swz_small],\n",
    "           ['`swz`', '`swz_small`'])"
   ]
  },
  {
   "cell_type": "markdown",
   "id": "e2e0a267",
   "metadata": {
    "cq.autogen": "SwapWithZero.call_graph.md"
   },
   "source": [
    "### Call Graph"
   ]
  },
  {
   "cell_type": "code",
   "execution_count": 18,
   "id": "0e577a02",
   "metadata": {
    "cq.autogen": "SwapWithZero.call_graph.py"
   },
   "outputs": [
    {
     "data": {
      "image/svg+xml": [
       "<svg xmlns=\"http://www.w3.org/2000/svg\" xmlns:xlink=\"http://www.w3.org/1999/xlink\" width=\"385pt\" height=\"218pt\" viewBox=\"0.00 0.00 385.00 218.00\">\n",
       "<g id=\"graph0\" class=\"graph\" transform=\"scale(1 1) rotate(0) translate(4 214)\">\n",
       "<title>counts</title>\n",
       "<polygon fill=\"white\" stroke=\"transparent\" points=\"-4,4 -4,-214 381,-214 381,4 -4,4\"/>\n",
       "<!-- b0 -->\n",
       "<g id=\"node1\" class=\"node\">\n",
       "<title>b0</title>\n",
       "<polygon fill=\"none\" stroke=\"black\" points=\"377,-210 0,-210 0,-174 377,-174 377,-210\"/>\n",
       "<text text-anchor=\"start\" x=\"147\" y=\"-193.8\" font-family=\"Times,serif\" font-size=\"14.00\">SwapWithZero</text>\n",
       "<text text-anchor=\"start\" x=\"8\" y=\"-183\" font-family=\"monospace\" font-size=\"10.00\">selection_bitsize=8, target_bitsize=32, n_target_registers=4</text>\n",
       "</g>\n",
       "<!-- b1 -->\n",
       "<g id=\"node2\" class=\"node\">\n",
       "<title>b1</title>\n",
       "<polygon fill=\"none\" stroke=\"black\" points=\"237,-123 140,-123 140,-87 237,-87 237,-123\"/>\n",
       "<text text-anchor=\"start\" x=\"148\" y=\"-106.8\" font-family=\"Times,serif\" font-size=\"14.00\">CSwapApprox</text>\n",
       "<text text-anchor=\"start\" x=\"158\" y=\"-96\" font-family=\"monospace\" font-size=\"10.00\">bitsize=32</text>\n",
       "</g>\n",
       "<!-- b0&#45;&gt;b1 -->\n",
       "<g id=\"edge1\" class=\"edge\">\n",
       "<title>b0-&gt;b1</title>\n",
       "<path fill=\"none\" stroke=\"black\" d=\"M188.5,-173.8C188.5,-162.16 188.5,-146.55 188.5,-133.24\"/>\n",
       "<polygon fill=\"black\" stroke=\"black\" points=\"192,-133.18 188.5,-123.18 185,-133.18 192,-133.18\"/>\n",
       "<text text-anchor=\"middle\" x=\"192\" y=\"-144.8\" font-family=\"Times,serif\" font-size=\"14.00\">3</text>\n",
       "</g>\n",
       "<!-- b2 -->\n",
       "<g id=\"node3\" class=\"node\">\n",
       "<title>b2</title>\n",
       "<polygon fill=\"none\" stroke=\"black\" points=\"115,-36 2,-36 2,0 115,0 115,-36\"/>\n",
       "<text text-anchor=\"start\" x=\"54\" y=\"-19.8\" font-family=\"Times,serif\" font-size=\"14.00\">T</text>\n",
       "<text text-anchor=\"start\" x=\"10\" y=\"-9\" font-family=\"monospace\" font-size=\"10.00\">is_adjoint=False</text>\n",
       "</g>\n",
       "<!-- b1&#45;&gt;b2 -->\n",
       "<g id=\"edge2\" class=\"edge\">\n",
       "<title>b1-&gt;b2</title>\n",
       "<path fill=\"none\" stroke=\"black\" d=\"M162.19,-86.8C142.37,-73.84 115,-55.94 93.35,-41.79\"/>\n",
       "<polygon fill=\"black\" stroke=\"black\" points=\"95.05,-38.72 84.77,-36.18 91.22,-44.58 95.05,-38.72\"/>\n",
       "<text text-anchor=\"middle\" x=\"142\" y=\"-57.8\" font-family=\"Times,serif\" font-size=\"14.00\">128</text>\n",
       "</g>\n",
       "<!-- b3 -->\n",
       "<g id=\"node4\" class=\"node\">\n",
       "<title>b3</title>\n",
       "<polygon fill=\"none\" stroke=\"black\" points=\"243.5,-36 133.5,-36 133.5,0 243.5,0 243.5,-36\"/>\n",
       "<text text-anchor=\"start\" x=\"141.5\" y=\"-19.8\" font-family=\"Times,serif\" font-size=\"14.00\">ArbitraryClifford</text>\n",
       "<text text-anchor=\"start\" x=\"179\" y=\"-9\" font-family=\"monospace\" font-size=\"10.00\">n=2</text>\n",
       "</g>\n",
       "<!-- b1&#45;&gt;b3 -->\n",
       "<g id=\"edge3\" class=\"edge\">\n",
       "<title>b1-&gt;b3</title>\n",
       "<path fill=\"none\" stroke=\"black\" d=\"M188.5,-86.8C188.5,-75.16 188.5,-59.55 188.5,-46.24\"/>\n",
       "<polygon fill=\"black\" stroke=\"black\" points=\"192,-46.18 188.5,-36.18 185,-46.18 192,-46.18\"/>\n",
       "<text text-anchor=\"middle\" x=\"199\" y=\"-57.8\" font-family=\"Times,serif\" font-size=\"14.00\">191</text>\n",
       "</g>\n",
       "<!-- b4 -->\n",
       "<g id=\"node5\" class=\"node\">\n",
       "<title>b4</title>\n",
       "<polygon fill=\"none\" stroke=\"black\" points=\"371.5,-36 261.5,-36 261.5,0 371.5,0 371.5,-36\"/>\n",
       "<text text-anchor=\"start\" x=\"269.5\" y=\"-19.8\" font-family=\"Times,serif\" font-size=\"14.00\">ArbitraryClifford</text>\n",
       "<text text-anchor=\"start\" x=\"307\" y=\"-9\" font-family=\"monospace\" font-size=\"10.00\">n=1</text>\n",
       "</g>\n",
       "<!-- b1&#45;&gt;b4 -->\n",
       "<g id=\"edge4\" class=\"edge\">\n",
       "<title>b1-&gt;b4</title>\n",
       "<path fill=\"none\" stroke=\"black\" d=\"M214.4,-86.8C233.92,-73.84 260.87,-55.94 282.18,-41.79\"/>\n",
       "<polygon fill=\"black\" stroke=\"black\" points=\"284.24,-44.62 290.64,-36.18 280.37,-38.79 284.24,-44.62\"/>\n",
       "<text text-anchor=\"middle\" x=\"271\" y=\"-57.8\" font-family=\"Times,serif\" font-size=\"14.00\">512</text>\n",
       "</g>\n",
       "</g>\n",
       "</svg>"
      ],
      "text/plain": [
       "<IPython.core.display.SVG object>"
      ]
     },
     "metadata": {},
     "output_type": "display_data"
    },
    {
     "data": {
      "text/markdown": [
       "#### Counts totals:\n",
       " - `ArbitraryClifford(n=1)`: 1536\n",
       " - `ArbitraryClifford(n=2)`: 573\n",
       " - `TGate()`: 384"
      ],
      "text/plain": [
       "<IPython.core.display.Markdown object>"
      ]
     },
     "metadata": {},
     "output_type": "display_data"
    }
   ],
   "source": [
    "swz_g, swz_sigma = swz.call_graph()\n",
    "show_call_graph(swz_g)\n",
    "show_counts_sigma(swz_sigma)"
   ]
  },
  {
   "cell_type": "markdown",
   "id": "9f8d8d5b",
   "metadata": {
    "cq.autogen": "MultiplexedCSwap.bloq_doc.md"
   },
   "source": [
    "## `MultiplexedCSwap`\n",
    "Swaps the $l$-th register into an ancilla using unary iteration.\n",
    "\n",
    "Applies the unitary which performs\n",
    "$$\n",
    "    U |l\\rangle|\\psi_0\\rangle\\cdots|\\psi_l\\rangle\\cdots|\\psi_n\\rangle|\\mathrm{junk}\\rangle\n",
    "    \\rightarrow\n",
    "    |l\\rangle|\\psi_0\\rangle\\cdots|\\mathrm{junk}\\rangle\\cdots|\\psi_n\\rangle|\\psi_l\\rangle\n",
    "$$\n",
    "through a combination of unary iteration and CSwaps.\n",
    "\n",
    "The toffoli cost should be $L n_b + L - 2 + n_c$, where $L$ is the\n",
    "iteration length, $n_b$ is the bitsize of\n",
    "the registers to swap, and $n_c$ is the number of controls.\n",
    "\n",
    "#### Parameters\n",
    " - `selection_regs`: Indexing `select` signature of type Tuple[[`Register`](/reference/qualtran/Register.md), ...]. It also contains information about the iteration length of each selection register.\n",
    " - `target_bitsize`: The size of the registers we want to swap.\n",
    " - `control_regs`: Control registers for constructing a controlled version of the gate. \n",
    "\n",
    "#### Registers\n",
    " - `control_registers`: Control registers\n",
    " - `selection_regs`: Indexing `select` signature of type Tuple[[`Register`](/reference/qualtran/Register.md), ...]. It also contains information about the iteration length of each selection register.\n",
    " - `target_registers`: Target registers to swap. We swap FROM registers labelled x`i`, where i is an integer and TO a single register called y \n",
    "\n",
    "#### References\n",
    "[Fault-Tolerant Quantum Simulations of Chemistry in First Quantization](\n",
    "    https://arxiv.org/abs/2105.12767) page 20 paragraph 2.\n"
   ]
  },
  {
   "cell_type": "code",
   "execution_count": 19,
   "id": "1ed31356",
   "metadata": {
    "cq.autogen": "MultiplexedCSwap.bloq_doc.py"
   },
   "outputs": [],
   "source": [
    "from qualtran.bloqs.swap_network import MultiplexedCSwap"
   ]
  },
  {
   "cell_type": "markdown",
   "id": "7820463a",
   "metadata": {
    "cq.autogen": "MultiplexedCSwap.example_instances.md"
   },
   "source": [
    "### Example Instances"
   ]
  },
  {
   "cell_type": "code",
   "execution_count": 20,
   "id": "eecc8c55",
   "metadata": {
    "cq.autogen": "MultiplexedCSwap.multiplexed_cswap"
   },
   "outputs": [],
   "source": [
    "from qualtran import BoundedQUInt\n",
    "\n",
    "selection_bitsize = 3\n",
    "iteration_length = 5\n",
    "target_bitsize = 2\n",
    "multiplexed_cswap = MultiplexedCSwap(\n",
    "    Register('selection', BoundedQUInt(selection_bitsize, iteration_length)),\n",
    "    target_bitsize=target_bitsize,\n",
    ")\n"
   ]
  },
  {
   "cell_type": "markdown",
   "id": "def65ae4",
   "metadata": {
    "cq.autogen": "MultiplexedCSwap.graphical_signature.md"
   },
   "source": [
    "#### Graphical Signature"
   ]
  },
  {
   "cell_type": "code",
   "execution_count": 21,
   "id": "a1058418",
   "metadata": {
    "cq.autogen": "MultiplexedCSwap.graphical_signature.py"
   },
   "outputs": [
    {
     "data": {
      "application/vnd.jupyter.widget-view+json": {
       "model_id": "27e25162e7d74a1b97e81695920b0359",
       "version_major": 2,
       "version_minor": 0
      },
      "text/plain": [
       "HBox(children=(Output(outputs=({'output_type': 'display_data', 'data': {'text/plain': '<IPython.core.display.M…"
      ]
     },
     "metadata": {},
     "output_type": "display_data"
    }
   ],
   "source": [
    "from qualtran.drawing import show_bloqs\n",
    "show_bloqs([multiplexed_cswap],\n",
    "           ['`multiplexed_cswap`'])"
   ]
  },
  {
   "cell_type": "markdown",
   "id": "0846b1dd",
   "metadata": {
    "cq.autogen": "MultiplexedCSwap.call_graph.md"
   },
   "source": [
    "### Call Graph"
   ]
  },
  {
   "cell_type": "code",
   "execution_count": 22,
   "id": "14e42074",
   "metadata": {
    "cq.autogen": "MultiplexedCSwap.call_graph.py"
   },
   "outputs": [
    {
     "data": {
      "image/svg+xml": [
       "<svg xmlns=\"http://www.w3.org/2000/svg\" xmlns:xlink=\"http://www.w3.org/1999/xlink\" width=\"972pt\" height=\"305pt\" viewBox=\"0.00 0.00 972.00 305.00\">\n",
       "<g id=\"graph0\" class=\"graph\" transform=\"scale(1 1) rotate(0) translate(4 301)\">\n",
       "<title>counts</title>\n",
       "<polygon fill=\"white\" stroke=\"transparent\" points=\"-4,4 -4,-301 968,-301 968,4 -4,4\"/>\n",
       "<!-- b0 -->\n",
       "<g id=\"node1\" class=\"node\">\n",
       "<title>b0</title>\n",
       "<polygon fill=\"none\" stroke=\"black\" points=\"670,-297 281,-297 281,-261 670,-261 670,-297\"/>\n",
       "<text text-anchor=\"start\" x=\"422.5\" y=\"-280.8\" font-family=\"Times,serif\" font-size=\"14.00\">MultiplexedCSwap</text>\n",
       "<text text-anchor=\"start\" x=\"289\" y=\"-270\" font-family=\"monospace\" font-size=\"10.00\">selection_regs=(Registe ..., target_bitsize=2, control_regs=()</text>\n",
       "</g>\n",
       "<!-- b1 -->\n",
       "<g id=\"node2\" class=\"node\">\n",
       "<title>b1</title>\n",
       "<polygon fill=\"none\" stroke=\"black\" points=\"217,-210 116,-210 116,-174 217,-174 217,-210\"/>\n",
       "<text text-anchor=\"start\" x=\"135.5\" y=\"-193.8\" font-family=\"Times,serif\" font-size=\"14.00\">cirq.CNOT</text>\n",
       "<text text-anchor=\"start\" x=\"124\" y=\"-183\" font-family=\"monospace\" font-size=\"10.00\">gate=cirq.CNOT</text>\n",
       "</g>\n",
       "<!-- b0&#45;&gt;b1 -->\n",
       "<g id=\"edge1\" class=\"edge\">\n",
       "<title>b0-&gt;b1</title>\n",
       "<path fill=\"none\" stroke=\"black\" d=\"M405.72,-261C383.54,-255.44 358.95,-249.12 336.5,-243 300.06,-233.06 259.46,-221.15 227.08,-211.45\"/>\n",
       "<polygon fill=\"black\" stroke=\"black\" points=\"227.89,-208.04 217.31,-208.51 225.88,-214.74 227.89,-208.04\"/>\n",
       "<text text-anchor=\"middle\" x=\"340\" y=\"-231.8\" font-family=\"Times,serif\" font-size=\"14.00\">3</text>\n",
       "</g>\n",
       "<!-- b2 -->\n",
       "<g id=\"node3\" class=\"node\">\n",
       "<title>b2</title>\n",
       "<polygon fill=\"none\" stroke=\"black\" points=\"289.5,-210 235.5,-210 235.5,-174 289.5,-174 289.5,-210\"/>\n",
       "<text text-anchor=\"start\" x=\"251\" y=\"-193.8\" font-family=\"Times,serif\" font-size=\"14.00\">Join</text>\n",
       "<text text-anchor=\"start\" x=\"253\" y=\"-183\" font-family=\"monospace\" font-size=\"10.00\">n=3</text>\n",
       "</g>\n",
       "<!-- b0&#45;&gt;b2 -->\n",
       "<g id=\"edge2\" class=\"edge\">\n",
       "<title>b0-&gt;b2</title>\n",
       "<path fill=\"none\" stroke=\"black\" d=\"M428.16,-260.9C394.46,-248.49 347.98,-230.86 299.02,-210.08\"/>\n",
       "<polygon fill=\"black\" stroke=\"black\" points=\"300.1,-206.74 289.53,-206.03 297.35,-213.18 300.1,-206.74\"/>\n",
       "<text text-anchor=\"middle\" x=\"384\" y=\"-231.8\" font-family=\"Times,serif\" font-size=\"14.00\">1</text>\n",
       "</g>\n",
       "<!-- b3 -->\n",
       "<g id=\"node4\" class=\"node\">\n",
       "<title>b3</title>\n",
       "<polygon fill=\"none\" stroke=\"black\" points=\"361.5,-210 307.5,-210 307.5,-174 361.5,-174 361.5,-210\"/>\n",
       "<text text-anchor=\"start\" x=\"321.5\" y=\"-193.8\" font-family=\"Times,serif\" font-size=\"14.00\">Split</text>\n",
       "<text text-anchor=\"start\" x=\"325\" y=\"-183\" font-family=\"monospace\" font-size=\"10.00\">n=3</text>\n",
       "</g>\n",
       "<!-- b0&#45;&gt;b3 -->\n",
       "<g id=\"edge3\" class=\"edge\">\n",
       "<title>b0-&gt;b3</title>\n",
       "<path fill=\"none\" stroke=\"black\" d=\"M446.97,-260.8C424.85,-247.46 394.06,-228.91 370.29,-214.58\"/>\n",
       "<polygon fill=\"black\" stroke=\"black\" points=\"371.93,-211.48 361.56,-209.31 368.31,-217.47 371.93,-211.48\"/>\n",
       "<text text-anchor=\"middle\" x=\"417\" y=\"-231.8\" font-family=\"Times,serif\" font-size=\"14.00\">1</text>\n",
       "</g>\n",
       "<!-- b4 -->\n",
       "<g id=\"node5\" class=\"node\">\n",
       "<title>b4</title>\n",
       "<polygon fill=\"none\" stroke=\"black\" points=\"571,-210 380,-210 380,-174 571,-174 571,-210\"/>\n",
       "<text text-anchor=\"start\" x=\"463.5\" y=\"-193.8\" font-family=\"Times,serif\" font-size=\"14.00\">And</text>\n",
       "<text text-anchor=\"start\" x=\"388\" y=\"-183\" font-family=\"monospace\" font-size=\"10.00\">cv1=1, cv2=0, uncompute=False</text>\n",
       "</g>\n",
       "<!-- b0&#45;&gt;b4 -->\n",
       "<g id=\"edge4\" class=\"edge\">\n",
       "<title>b0-&gt;b4</title>\n",
       "<path fill=\"none\" stroke=\"black\" d=\"M475.5,-260.8C475.5,-249.16 475.5,-233.55 475.5,-220.24\"/>\n",
       "<polygon fill=\"black\" stroke=\"black\" points=\"479,-220.18 475.5,-210.18 472,-220.18 479,-220.18\"/>\n",
       "<text text-anchor=\"middle\" x=\"479\" y=\"-231.8\" font-family=\"Times,serif\" font-size=\"14.00\">3</text>\n",
       "</g>\n",
       "<!-- b5 -->\n",
       "<g id=\"node6\" class=\"node\">\n",
       "<title>b5</title>\n",
       "<polygon fill=\"none\" stroke=\"black\" points=\"774,-210 589,-210 589,-174 774,-174 774,-210\"/>\n",
       "<text text-anchor=\"start\" x=\"666\" y=\"-193.8\" font-family=\"Times,serif\" font-size=\"14.00\">And†</text>\n",
       "<text text-anchor=\"start\" x=\"597\" y=\"-183\" font-family=\"monospace\" font-size=\"10.00\">cv1=1, cv2=1, uncompute=True</text>\n",
       "</g>\n",
       "<!-- b0&#45;&gt;b5 -->\n",
       "<g id=\"edge5\" class=\"edge\">\n",
       "<title>b0-&gt;b5</title>\n",
       "<path fill=\"none\" stroke=\"black\" d=\"M517.19,-260.8C549.96,-247.27 595.76,-228.38 630.69,-213.97\"/>\n",
       "<polygon fill=\"black\" stroke=\"black\" points=\"632.32,-217.08 640.23,-210.03 629.65,-210.61 632.32,-217.08\"/>\n",
       "<text text-anchor=\"middle\" x=\"595\" y=\"-231.8\" font-family=\"Times,serif\" font-size=\"14.00\">3</text>\n",
       "</g>\n",
       "<!-- b6 -->\n",
       "<g id=\"node7\" class=\"node\">\n",
       "<title>b6</title>\n",
       "<polygon fill=\"none\" stroke=\"black\" points=\"875,-210 792,-210 792,-174 875,-174 875,-210\"/>\n",
       "<text text-anchor=\"start\" x=\"816\" y=\"-193.8\" font-family=\"Times,serif\" font-size=\"14.00\">cirq.X</text>\n",
       "<text text-anchor=\"start\" x=\"800\" y=\"-183\" font-family=\"monospace\" font-size=\"10.00\">gate=cirq.X</text>\n",
       "</g>\n",
       "<!-- b0&#45;&gt;b6 -->\n",
       "<g id=\"edge6\" class=\"edge\">\n",
       "<title>b0-&gt;b6</title>\n",
       "<path fill=\"none\" stroke=\"black\" d=\"M563.77,-260.98C623.04,-248.96 702.96,-231.61 782.2,-209.94\"/>\n",
       "<polygon fill=\"black\" stroke=\"black\" points=\"783.15,-213.31 791.86,-207.27 781.29,-206.56 783.15,-213.31\"/>\n",
       "<text text-anchor=\"middle\" x=\"711\" y=\"-231.8\" font-family=\"Times,serif\" font-size=\"14.00\">2</text>\n",
       "</g>\n",
       "<!-- b7 -->\n",
       "<g id=\"node8\" class=\"node\">\n",
       "<title>b7</title>\n",
       "<polygon fill=\"none\" stroke=\"black\" points=\"964,-210 893,-210 893,-174 964,-174 964,-210\"/>\n",
       "<text text-anchor=\"start\" x=\"908.5\" y=\"-193.8\" font-family=\"Times,serif\" font-size=\"14.00\">CSwap</text>\n",
       "<text text-anchor=\"start\" x=\"901\" y=\"-183\" font-family=\"monospace\" font-size=\"10.00\">bitsize=2</text>\n",
       "</g>\n",
       "<!-- b0&#45;&gt;b7 -->\n",
       "<g id=\"edge7\" class=\"edge\">\n",
       "<title>b0-&gt;b7</title>\n",
       "<path fill=\"none\" stroke=\"black\" d=\"M630.85,-260.93C705.29,-250.63 795.45,-235.05 882.84,-210.26\"/>\n",
       "<polygon fill=\"black\" stroke=\"black\" points=\"884.01,-213.56 892.65,-207.43 882.08,-206.83 884.01,-213.56\"/>\n",
       "<text text-anchor=\"middle\" x=\"812\" y=\"-231.8\" font-family=\"Times,serif\" font-size=\"14.00\">5</text>\n",
       "</g>\n",
       "<!-- b8 -->\n",
       "<g id=\"node9\" class=\"node\">\n",
       "<title>b8</title>\n",
       "<polygon fill=\"none\" stroke=\"black\" points=\"363,-123 244,-123 244,-87 363,-87 363,-123\"/>\n",
       "<text text-anchor=\"start\" x=\"268.5\" y=\"-106.8\" font-family=\"Times,serif\" font-size=\"14.00\">cirq.Y**-0.5</text>\n",
       "<text text-anchor=\"start\" x=\"252\" y=\"-96\" font-family=\"monospace\" font-size=\"10.00\">gate=(cirq.Y* ...</text>\n",
       "</g>\n",
       "<!-- b1&#45;&gt;b8 -->\n",
       "<g id=\"edge8\" class=\"edge\">\n",
       "<title>b1-&gt;b8</title>\n",
       "<path fill=\"none\" stroke=\"black\" d=\"M194.22,-173.8C215.21,-160.78 244.22,-142.78 267.07,-128.6\"/>\n",
       "<polygon fill=\"black\" stroke=\"black\" points=\"269.17,-131.42 275.82,-123.18 265.47,-125.47 269.17,-131.42\"/>\n",
       "<text text-anchor=\"middle\" x=\"247\" y=\"-144.8\" font-family=\"Times,serif\" font-size=\"14.00\">1</text>\n",
       "</g>\n",
       "<!-- b9 -->\n",
       "<g id=\"node10\" class=\"node\">\n",
       "<title>b9</title>\n",
       "<polygon fill=\"none\" stroke=\"black\" points=\"89,-123 0,-123 0,-87 89,-87 89,-123\"/>\n",
       "<text text-anchor=\"start\" x=\"23\" y=\"-106.8\" font-family=\"Times,serif\" font-size=\"14.00\">cirq.CZ</text>\n",
       "<text text-anchor=\"start\" x=\"8\" y=\"-96\" font-family=\"monospace\" font-size=\"10.00\">gate=cirq.CZ</text>\n",
       "</g>\n",
       "<!-- b1&#45;&gt;b9 -->\n",
       "<g id=\"edge9\" class=\"edge\">\n",
       "<title>b1-&gt;b9</title>\n",
       "<path fill=\"none\" stroke=\"black\" d=\"M141.81,-173.8C123.29,-160.9 97.75,-143.1 77.48,-128.98\"/>\n",
       "<polygon fill=\"black\" stroke=\"black\" points=\"79.36,-126.02 69.15,-123.18 75.36,-131.76 79.36,-126.02\"/>\n",
       "<text text-anchor=\"middle\" x=\"117\" y=\"-144.8\" font-family=\"Times,serif\" font-size=\"14.00\">1</text>\n",
       "</g>\n",
       "<!-- b10 -->\n",
       "<g id=\"node11\" class=\"node\">\n",
       "<title>b10</title>\n",
       "<polygon fill=\"none\" stroke=\"black\" points=\"226,-123 107,-123 107,-87 226,-87 226,-123\"/>\n",
       "<text text-anchor=\"start\" x=\"133.5\" y=\"-106.8\" font-family=\"Times,serif\" font-size=\"14.00\">cirq.Y**0.5</text>\n",
       "<text text-anchor=\"start\" x=\"115\" y=\"-96\" font-family=\"monospace\" font-size=\"10.00\">gate=(cirq.Y* ...</text>\n",
       "</g>\n",
       "<!-- b1&#45;&gt;b10 -->\n",
       "<g id=\"edge10\" class=\"edge\">\n",
       "<title>b1-&gt;b10</title>\n",
       "<path fill=\"none\" stroke=\"black\" d=\"M166.5,-173.8C166.5,-162.16 166.5,-146.55 166.5,-133.24\"/>\n",
       "<polygon fill=\"black\" stroke=\"black\" points=\"170,-133.18 166.5,-123.18 163,-133.18 170,-133.18\"/>\n",
       "<text text-anchor=\"middle\" x=\"170\" y=\"-144.8\" font-family=\"Times,serif\" font-size=\"14.00\">1</text>\n",
       "</g>\n",
       "<!-- b11 -->\n",
       "<g id=\"node12\" class=\"node\">\n",
       "<title>b11</title>\n",
       "<polygon fill=\"none\" stroke=\"black\" points=\"704.5,-123 594.5,-123 594.5,-87 704.5,-87 704.5,-123\"/>\n",
       "<text text-anchor=\"start\" x=\"602.5\" y=\"-106.8\" font-family=\"Times,serif\" font-size=\"14.00\">ArbitraryClifford</text>\n",
       "<text text-anchor=\"start\" x=\"640\" y=\"-96\" font-family=\"monospace\" font-size=\"10.00\">n=2</text>\n",
       "</g>\n",
       "<!-- b4&#45;&gt;b11 -->\n",
       "<g id=\"edge11\" class=\"edge\">\n",
       "<title>b4-&gt;b11</title>\n",
       "<path fill=\"none\" stroke=\"black\" d=\"M510.71,-173.8C538.04,-160.45 576.09,-141.86 605.44,-127.52\"/>\n",
       "<polygon fill=\"black\" stroke=\"black\" points=\"607.19,-130.56 614.64,-123.03 604.12,-124.27 607.19,-130.56\"/>\n",
       "<text text-anchor=\"middle\" x=\"580.5\" y=\"-144.8\" font-family=\"Times,serif\" font-size=\"14.00\">11</text>\n",
       "</g>\n",
       "<!-- b14 -->\n",
       "<g id=\"node15\" class=\"node\">\n",
       "<title>b14</title>\n",
       "<polygon fill=\"none\" stroke=\"black\" points=\"756,-36 643,-36 643,0 756,0 756,-36\"/>\n",
       "<text text-anchor=\"start\" x=\"695\" y=\"-19.8\" font-family=\"Times,serif\" font-size=\"14.00\">T</text>\n",
       "<text text-anchor=\"start\" x=\"651\" y=\"-9\" font-family=\"monospace\" font-size=\"10.00\">is_adjoint=False</text>\n",
       "</g>\n",
       "<!-- b4&#45;&gt;b14 -->\n",
       "<g id=\"edge12\" class=\"edge\">\n",
       "<title>b4-&gt;b14</title>\n",
       "<path fill=\"none\" stroke=\"black\" d=\"M489.93,-173.69C508.79,-151.77 543.53,-113.64 578.5,-87 601.94,-69.14 630.59,-52.83 654.13,-40.66\"/>\n",
       "<polygon fill=\"black\" stroke=\"black\" points=\"655.88,-43.7 663.2,-36.04 652.71,-37.46 655.88,-43.7\"/>\n",
       "<text text-anchor=\"middle\" x=\"582\" y=\"-101.3\" font-family=\"Times,serif\" font-size=\"14.00\">4</text>\n",
       "</g>\n",
       "<!-- b5&#45;&gt;b11 -->\n",
       "<g id=\"edge13\" class=\"edge\">\n",
       "<title>b5-&gt;b11</title>\n",
       "<path fill=\"none\" stroke=\"black\" d=\"M675.02,-173.8C670.6,-162.05 664.65,-146.24 659.61,-132.84\"/>\n",
       "<polygon fill=\"black\" stroke=\"black\" points=\"662.76,-131.3 655.97,-123.18 656.21,-133.77 662.76,-131.3\"/>\n",
       "<text text-anchor=\"middle\" x=\"671\" y=\"-144.8\" font-family=\"Times,serif\" font-size=\"14.00\">4</text>\n",
       "</g>\n",
       "<!-- b12 -->\n",
       "<g id=\"node13\" class=\"node\">\n",
       "<title>b12</title>\n",
       "<polygon fill=\"none\" stroke=\"black\" points=\"914,-123 817,-123 817,-87 914,-87 914,-123\"/>\n",
       "<text text-anchor=\"start\" x=\"825\" y=\"-101.3\" font-family=\"Times,serif\" font-size=\"14.00\">TwoBitCSwap</text>\n",
       "</g>\n",
       "<!-- b7&#45;&gt;b12 -->\n",
       "<g id=\"edge14\" class=\"edge\">\n",
       "<title>b7-&gt;b12</title>\n",
       "<path fill=\"none\" stroke=\"black\" d=\"M915.75,-173.8C906.7,-161.59 894.4,-144.99 884.24,-131.28\"/>\n",
       "<polygon fill=\"black\" stroke=\"black\" points=\"887,-129.13 878.23,-123.18 881.37,-133.29 887,-129.13\"/>\n",
       "<text text-anchor=\"middle\" x=\"904\" y=\"-144.8\" font-family=\"Times,serif\" font-size=\"14.00\">2</text>\n",
       "</g>\n",
       "<!-- b13 -->\n",
       "<g id=\"node14\" class=\"node\">\n",
       "<title>b13</title>\n",
       "<polygon fill=\"none\" stroke=\"black\" points=\"920.5,-36 810.5,-36 810.5,0 920.5,0 920.5,-36\"/>\n",
       "<text text-anchor=\"start\" x=\"818.5\" y=\"-19.8\" font-family=\"Times,serif\" font-size=\"14.00\">ArbitraryClifford</text>\n",
       "<text text-anchor=\"start\" x=\"856\" y=\"-9\" font-family=\"monospace\" font-size=\"10.00\">n=3</text>\n",
       "</g>\n",
       "<!-- b12&#45;&gt;b13 -->\n",
       "<g id=\"edge15\" class=\"edge\">\n",
       "<title>b12-&gt;b13</title>\n",
       "<path fill=\"none\" stroke=\"black\" d=\"M865.5,-86.8C865.5,-75.16 865.5,-59.55 865.5,-46.24\"/>\n",
       "<polygon fill=\"black\" stroke=\"black\" points=\"869,-46.18 865.5,-36.18 862,-46.18 869,-46.18\"/>\n",
       "<text text-anchor=\"middle\" x=\"872.5\" y=\"-57.8\" font-family=\"Times,serif\" font-size=\"14.00\">10</text>\n",
       "</g>\n",
       "<!-- b12&#45;&gt;b14 -->\n",
       "<g id=\"edge16\" class=\"edge\">\n",
       "<title>b12-&gt;b14</title>\n",
       "<path fill=\"none\" stroke=\"black\" d=\"M831.91,-86.8C805.95,-73.51 769.85,-55.02 741.9,-40.71\"/>\n",
       "<polygon fill=\"black\" stroke=\"black\" points=\"743.26,-37.47 732.76,-36.03 740.06,-43.7 743.26,-37.47\"/>\n",
       "<text text-anchor=\"middle\" x=\"796\" y=\"-57.8\" font-family=\"Times,serif\" font-size=\"14.00\">7</text>\n",
       "</g>\n",
       "</g>\n",
       "</svg>"
      ],
      "text/plain": [
       "<IPython.core.display.SVG object>"
      ]
     },
     "metadata": {},
     "output_type": "display_data"
    },
    {
     "data": {
      "text/markdown": [
       "#### Counts totals:\n",
       " - `ArbitraryClifford(n=2)`: 45\n",
       " - `ArbitraryClifford(n=3)`: 100\n",
       " - `CZ`: 3\n",
       " - `Join(n=3)`: 1\n",
       " - `Split(n=3)`: 1\n",
       " - `TGate()`: 82\n",
       " - `X`: 2\n",
       " - `Y**-0.5`: 3\n",
       " - `Y**0.5`: 3"
      ],
      "text/plain": [
       "<IPython.core.display.Markdown object>"
      ]
     },
     "metadata": {},
     "output_type": "display_data"
    }
   ],
   "source": [
    "multiplexed_cswap_g, multiplexed_cswap_sigma = multiplexed_cswap.call_graph()\n",
    "show_call_graph(multiplexed_cswap_g)\n",
    "show_counts_sigma(multiplexed_cswap_sigma)"
   ]
  }
 ],
 "metadata": {
  "kernelspec": {
   "display_name": "Python 3 (ipykernel)",
   "language": "python",
   "name": "python3"
  },
  "language_info": {
   "codemirror_mode": {
    "name": "ipython",
    "version": 3
   },
   "file_extension": ".py",
   "mimetype": "text/x-python",
   "name": "python",
   "nbconvert_exporter": "python",
   "pygments_lexer": "ipython3",
   "version": "3.10.12"
  },
  "widgets": {
   "application/vnd.jupyter.widget-state+json": {
    "state": {
     "036eb9c645844aee9f916cc47fd3b1f7": {
      "model_module": "@jupyter-widgets/base",
      "model_module_version": "2.0.0",
      "model_name": "LayoutModel",
      "state": {
       "_model_module": "@jupyter-widgets/base",
       "_model_module_version": "2.0.0",
       "_model_name": "LayoutModel",
       "_view_count": null,
       "_view_module": "@jupyter-widgets/base",
       "_view_module_version": "2.0.0",
       "_view_name": "LayoutView",
       "align_content": null,
       "align_items": null,
       "align_self": null,
       "border_bottom": null,
       "border_left": null,
       "border_right": null,
       "border_top": null,
       "bottom": null,
       "display": null,
       "flex": null,
       "flex_flow": null,
       "grid_area": null,
       "grid_auto_columns": null,
       "grid_auto_flow": null,
       "grid_auto_rows": null,
       "grid_column": null,
       "grid_gap": null,
       "grid_row": null,
       "grid_template_areas": null,
       "grid_template_columns": null,
       "grid_template_rows": null,
       "height": null,
       "justify_content": null,
       "justify_items": null,
       "left": null,
       "margin": null,
       "max_height": null,
       "max_width": null,
       "min_height": null,
       "min_width": null,
       "object_fit": null,
       "object_position": null,
       "order": null,
       "overflow": null,
       "padding": null,
       "right": null,
       "top": null,
       "visibility": null,
       "width": null
      }
     },
     "13ccc8e5d07e47a4a1e0ecc766ad2b30": {
      "model_module": "@jupyter-widgets/output",
      "model_module_version": "1.0.0",
      "model_name": "OutputModel",
      "state": {
       "_dom_classes": [],
       "_model_module": "@jupyter-widgets/output",
       "_model_module_version": "1.0.0",
       "_model_name": "OutputModel",
       "_view_count": null,
       "_view_module": "@jupyter-widgets/output",
       "_view_module_version": "1.0.0",
       "_view_name": "OutputView",
       "layout": "IPY_MODEL_9a86da5ec0d84569999248dd67eb46c7",
       "msg_id": "",
       "outputs": [
        {
         "data": {
          "text/markdown": "`approx_cswap_small`",
          "text/plain": "<IPython.core.display.Markdown object>"
         },
         "metadata": {},
         "output_type": "display_data"
        },
        {
         "data": {
          "image/svg+xml": "<svg xmlns=\"http://www.w3.org/2000/svg\" xmlns:xlink=\"http://www.w3.org/1999/xlink\" width=\"223pt\" height=\"152pt\" viewBox=\"0.00 0.00 223.00 152.00\">\n<g id=\"graph0\" class=\"graph\" transform=\"scale(1 1) rotate(0) translate(4 148)\">\n<title>my_graph</title>\n<polygon fill=\"white\" stroke=\"transparent\" points=\"-4,4 -4,-148 219,-148 219,4 -4,4\"/>\n<!-- ctrl_G1 -->\n<g id=\"node1\" class=\"node\">\n<title>ctrl_G1</title>\n<text text-anchor=\"middle\" x=\"27\" y=\"-122.3\" font-family=\"Times,serif\" font-size=\"14.00\">ctrl</text>\n</g>\n<!-- CSwapApprox -->\n<g id=\"node4\" class=\"node\">\n<title>CSwapApprox</title>\n<polygon fill=\"none\" stroke=\"black\" points=\"91.5,-104 91.5,-121 124.5,-121 124.5,-104 91.5,-104\"/>\n<text text-anchor=\"start\" x=\"94.5\" y=\"-110\" font-family=\"Times,serif\" font-size=\"10.00\">~swap</text>\n<polygon fill=\"none\" stroke=\"black\" points=\"91.5,-83 91.5,-104 124.5,-104 124.5,-83 91.5,-83\"/>\n<text text-anchor=\"start\" x=\"98.5\" y=\"-89.8\" font-family=\"Times,serif\" font-size=\"14.00\">ctrl</text>\n<polygon fill=\"none\" stroke=\"black\" points=\"91.5,-62 91.5,-83 124.5,-83 124.5,-62 91.5,-62\"/>\n<text text-anchor=\"start\" x=\"104.5\" y=\"-68.8\" font-family=\"Times,serif\" font-size=\"14.00\">x</text>\n<polygon fill=\"none\" stroke=\"black\" points=\"91.5,-41 91.5,-62 124.5,-62 124.5,-41 91.5,-41\"/>\n<text text-anchor=\"start\" x=\"104.5\" y=\"-47.8\" font-family=\"Times,serif\" font-size=\"14.00\">y</text>\n</g>\n<!-- ctrl_G1&#45;&gt;CSwapApprox -->\n<g id=\"edge1\" class=\"edge\">\n<title>ctrl_G1:e-&gt;CSwapApprox:w</title>\n<path fill=\"none\" stroke=\"black\" d=\"M54,-126C74.89,-126 69.72,-96.45 88.58,-94.14\"/>\n<ellipse fill=\"black\" stroke=\"black\" cx=\"90\" cy=\"-94.06\" rx=\"1\" ry=\"1\"/>\n<text text-anchor=\"middle\" x=\"72.5\" y=\"-113\" font-family=\"Times,serif\" font-size=\"10.00\">1</text>\n</g>\n<!-- x_G7 -->\n<g id=\"node2\" class=\"node\">\n<title>x_G7</title>\n<text text-anchor=\"middle\" x=\"27\" y=\"-68.3\" font-family=\"Times,serif\" font-size=\"14.00\">x</text>\n</g>\n<!-- x_G7&#45;&gt;CSwapApprox -->\n<g id=\"edge2\" class=\"edge\">\n<title>x_G7:e-&gt;CSwapApprox:w</title>\n<path fill=\"none\" stroke=\"black\" d=\"M54,-72C69.67,-72 74.14,-72 88.77,-72\"/>\n<ellipse fill=\"black\" stroke=\"black\" cx=\"90\" cy=\"-72\" rx=\"1\" ry=\"1\"/>\n<text text-anchor=\"middle\" x=\"72.5\" y=\"-75\" font-family=\"Times,serif\" font-size=\"10.00\">4</text>\n</g>\n<!-- y_G2 -->\n<g id=\"node3\" class=\"node\">\n<title>y_G2</title>\n<text text-anchor=\"middle\" x=\"27\" y=\"-14.3\" font-family=\"Times,serif\" font-size=\"14.00\">y</text>\n</g>\n<!-- y_G2&#45;&gt;CSwapApprox -->\n<g id=\"edge3\" class=\"edge\">\n<title>y_G2:e-&gt;CSwapApprox:w</title>\n<path fill=\"none\" stroke=\"black\" d=\"M54,-18C75.17,-18 69.47,-48.47 88.55,-50.85\"/>\n<ellipse fill=\"black\" stroke=\"black\" cx=\"90\" cy=\"-50.94\" rx=\"1\" ry=\"1\"/>\n<text text-anchor=\"middle\" x=\"72.5\" y=\"-39\" font-family=\"Times,serif\" font-size=\"10.00\">4</text>\n</g>\n<!-- ctrl_G0 -->\n<g id=\"node5\" class=\"node\">\n<title>ctrl_G0</title>\n<text text-anchor=\"middle\" x=\"188\" y=\"-122.3\" font-family=\"Times,serif\" font-size=\"14.00\">ctrl</text>\n</g>\n<!-- CSwapApprox&#45;&gt;ctrl_G0 -->\n<g id=\"edge4\" class=\"edge\">\n<title>CSwapApprox:e-&gt;ctrl_G0:w</title>\n<path fill=\"none\" stroke=\"black\" d=\"M124,-94C144.89,-94 139.72,-123.55 158.58,-125.86\"/>\n<ellipse fill=\"black\" stroke=\"black\" cx=\"160\" cy=\"-125.94\" rx=\"1\" ry=\"1\"/>\n<text text-anchor=\"middle\" x=\"142.5\" y=\"-113\" font-family=\"Times,serif\" font-size=\"10.00\">1</text>\n</g>\n<!-- x_G8 -->\n<g id=\"node6\" class=\"node\">\n<title>x_G8</title>\n<text text-anchor=\"middle\" x=\"188\" y=\"-68.3\" font-family=\"Times,serif\" font-size=\"14.00\">x</text>\n</g>\n<!-- CSwapApprox&#45;&gt;x_G8 -->\n<g id=\"edge5\" class=\"edge\">\n<title>CSwapApprox:e-&gt;x_G8:w</title>\n<path fill=\"none\" stroke=\"black\" d=\"M124,-72C139.67,-72 144.14,-72 158.77,-72\"/>\n<ellipse fill=\"black\" stroke=\"black\" cx=\"160\" cy=\"-72\" rx=\"1\" ry=\"1\"/>\n<text text-anchor=\"middle\" x=\"142.5\" y=\"-75\" font-family=\"Times,serif\" font-size=\"10.00\">4</text>\n</g>\n<!-- y_G3 -->\n<g id=\"node7\" class=\"node\">\n<title>y_G3</title>\n<text text-anchor=\"middle\" x=\"188\" y=\"-14.3\" font-family=\"Times,serif\" font-size=\"14.00\">y</text>\n</g>\n<!-- CSwapApprox&#45;&gt;y_G3 -->\n<g id=\"edge6\" class=\"edge\">\n<title>CSwapApprox:e-&gt;y_G3:w</title>\n<path fill=\"none\" stroke=\"black\" d=\"M124,-51C145.17,-51 139.47,-20.53 158.55,-18.15\"/>\n<ellipse fill=\"black\" stroke=\"black\" cx=\"160\" cy=\"-18.06\" rx=\"1\" ry=\"1\"/>\n<text text-anchor=\"middle\" x=\"142.5\" y=\"-39\" font-family=\"Times,serif\" font-size=\"10.00\">4</text>\n</g>\n</g>\n</svg>",
          "text/plain": "<IPython.core.display.SVG object>"
         },
         "metadata": {},
         "output_type": "display_data"
        }
       ],
       "tabbable": null,
       "tooltip": null
      }
     },
     "16e043316f7e40ed8147be51f0845e1b": {
      "model_module": "@jupyter-widgets/base",
      "model_module_version": "2.0.0",
      "model_name": "LayoutModel",
      "state": {
       "_model_module": "@jupyter-widgets/base",
       "_model_module_version": "2.0.0",
       "_model_name": "LayoutModel",
       "_view_count": null,
       "_view_module": "@jupyter-widgets/base",
       "_view_module_version": "2.0.0",
       "_view_name": "LayoutView",
       "align_content": null,
       "align_items": null,
       "align_self": null,
       "border_bottom": null,
       "border_left": null,
       "border_right": null,
       "border_top": null,
       "bottom": null,
       "display": null,
       "flex": null,
       "flex_flow": null,
       "grid_area": null,
       "grid_auto_columns": null,
       "grid_auto_flow": null,
       "grid_auto_rows": null,
       "grid_column": null,
       "grid_gap": null,
       "grid_row": null,
       "grid_template_areas": null,
       "grid_template_columns": null,
       "grid_template_rows": null,
       "height": null,
       "justify_content": null,
       "justify_items": null,
       "left": null,
       "margin": null,
       "max_height": null,
       "max_width": null,
       "min_height": null,
       "min_width": null,
       "object_fit": null,
       "object_position": null,
       "order": null,
       "overflow": null,
       "padding": null,
       "right": null,
       "top": null,
       "visibility": null,
       "width": null
      }
     },
     "1f16dd845b454bd2ab4f6f18ce94755f": {
      "model_module": "@jupyter-widgets/base",
      "model_module_version": "2.0.0",
      "model_name": "LayoutModel",
      "state": {
       "_model_module": "@jupyter-widgets/base",
       "_model_module_version": "2.0.0",
       "_model_name": "LayoutModel",
       "_view_count": null,
       "_view_module": "@jupyter-widgets/base",
       "_view_module_version": "2.0.0",
       "_view_name": "LayoutView",
       "align_content": null,
       "align_items": null,
       "align_self": null,
       "border_bottom": null,
       "border_left": null,
       "border_right": null,
       "border_top": null,
       "bottom": null,
       "display": null,
       "flex": null,
       "flex_flow": null,
       "grid_area": null,
       "grid_auto_columns": null,
       "grid_auto_flow": null,
       "grid_auto_rows": null,
       "grid_column": null,
       "grid_gap": null,
       "grid_row": null,
       "grid_template_areas": null,
       "grid_template_columns": null,
       "grid_template_rows": null,
       "height": null,
       "justify_content": null,
       "justify_items": null,
       "left": null,
       "margin": null,
       "max_height": null,
       "max_width": null,
       "min_height": null,
       "min_width": null,
       "object_fit": null,
       "object_position": null,
       "order": null,
       "overflow": null,
       "padding": null,
       "right": null,
       "top": null,
       "visibility": null,
       "width": null
      }
     },
     "27e25162e7d74a1b97e81695920b0359": {
      "model_module": "@jupyter-widgets/controls",
      "model_module_version": "2.0.0",
      "model_name": "HBoxModel",
      "state": {
       "_dom_classes": [],
       "_model_module": "@jupyter-widgets/controls",
       "_model_module_version": "2.0.0",
       "_model_name": "HBoxModel",
       "_view_count": null,
       "_view_module": "@jupyter-widgets/controls",
       "_view_module_version": "2.0.0",
       "_view_name": "HBoxView",
       "box_style": "",
       "children": [
        "IPY_MODEL_9a297b6db10e4d4ba51b9ee25768030c"
       ],
       "layout": "IPY_MODEL_38194c9373b44ca98f08808cdaa98390",
       "tabbable": null,
       "tooltip": null
      }
     },
     "32940a1f6eab47d5a60ca5217c1f48a0": {
      "model_module": "@jupyter-widgets/base",
      "model_module_version": "2.0.0",
      "model_name": "LayoutModel",
      "state": {
       "_model_module": "@jupyter-widgets/base",
       "_model_module_version": "2.0.0",
       "_model_name": "LayoutModel",
       "_view_count": null,
       "_view_module": "@jupyter-widgets/base",
       "_view_module_version": "2.0.0",
       "_view_name": "LayoutView",
       "align_content": null,
       "align_items": null,
       "align_self": null,
       "border_bottom": null,
       "border_left": null,
       "border_right": null,
       "border_top": null,
       "bottom": null,
       "display": null,
       "flex": null,
       "flex_flow": null,
       "grid_area": null,
       "grid_auto_columns": null,
       "grid_auto_flow": null,
       "grid_auto_rows": null,
       "grid_column": null,
       "grid_gap": null,
       "grid_row": null,
       "grid_template_areas": null,
       "grid_template_columns": null,
       "grid_template_rows": null,
       "height": null,
       "justify_content": null,
       "justify_items": null,
       "left": null,
       "margin": null,
       "max_height": null,
       "max_width": null,
       "min_height": null,
       "min_width": null,
       "object_fit": null,
       "object_position": null,
       "order": null,
       "overflow": null,
       "padding": null,
       "right": null,
       "top": null,
       "visibility": null,
       "width": null
      }
     },
     "38194c9373b44ca98f08808cdaa98390": {
      "model_module": "@jupyter-widgets/base",
      "model_module_version": "2.0.0",
      "model_name": "LayoutModel",
      "state": {
       "_model_module": "@jupyter-widgets/base",
       "_model_module_version": "2.0.0",
       "_model_name": "LayoutModel",
       "_view_count": null,
       "_view_module": "@jupyter-widgets/base",
       "_view_module_version": "2.0.0",
       "_view_name": "LayoutView",
       "align_content": null,
       "align_items": null,
       "align_self": null,
       "border_bottom": null,
       "border_left": null,
       "border_right": null,
       "border_top": null,
       "bottom": null,
       "display": null,
       "flex": null,
       "flex_flow": null,
       "grid_area": null,
       "grid_auto_columns": null,
       "grid_auto_flow": null,
       "grid_auto_rows": null,
       "grid_column": null,
       "grid_gap": null,
       "grid_row": null,
       "grid_template_areas": null,
       "grid_template_columns": null,
       "grid_template_rows": null,
       "height": null,
       "justify_content": null,
       "justify_items": null,
       "left": null,
       "margin": null,
       "max_height": null,
       "max_width": null,
       "min_height": null,
       "min_width": null,
       "object_fit": null,
       "object_position": null,
       "order": null,
       "overflow": null,
       "padding": null,
       "right": null,
       "top": null,
       "visibility": null,
       "width": null
      }
     },
     "3909a0d38ec74d55bddf538219a5ed7c": {
      "model_module": "@jupyter-widgets/controls",
      "model_module_version": "2.0.0",
      "model_name": "HBoxModel",
      "state": {
       "_dom_classes": [],
       "_model_module": "@jupyter-widgets/controls",
       "_model_module_version": "2.0.0",
       "_model_name": "HBoxModel",
       "_view_count": null,
       "_view_module": "@jupyter-widgets/controls",
       "_view_module_version": "2.0.0",
       "_view_name": "HBoxView",
       "box_style": "",
       "children": [
        "IPY_MODEL_d39b435437684c6f9c5a6d847b165f22",
        "IPY_MODEL_bba113747a7843fc8900468832632af9",
        "IPY_MODEL_628a0b885afb476b8bbf2d45cdb47bef"
       ],
       "layout": "IPY_MODEL_85166da01cee488792d3e91915955573",
       "tabbable": null,
       "tooltip": null
      }
     },
     "451735c0b7aa42c0addfca93da39e141": {
      "model_module": "@jupyter-widgets/base",
      "model_module_version": "2.0.0",
      "model_name": "LayoutModel",
      "state": {
       "_model_module": "@jupyter-widgets/base",
       "_model_module_version": "2.0.0",
       "_model_name": "LayoutModel",
       "_view_count": null,
       "_view_module": "@jupyter-widgets/base",
       "_view_module_version": "2.0.0",
       "_view_name": "LayoutView",
       "align_content": null,
       "align_items": null,
       "align_self": null,
       "border_bottom": null,
       "border_left": null,
       "border_right": null,
       "border_top": null,
       "bottom": null,
       "display": null,
       "flex": null,
       "flex_flow": null,
       "grid_area": null,
       "grid_auto_columns": null,
       "grid_auto_flow": null,
       "grid_auto_rows": null,
       "grid_column": null,
       "grid_gap": null,
       "grid_row": null,
       "grid_template_areas": null,
       "grid_template_columns": null,
       "grid_template_rows": null,
       "height": null,
       "justify_content": null,
       "justify_items": null,
       "left": null,
       "margin": null,
       "max_height": null,
       "max_width": null,
       "min_height": null,
       "min_width": null,
       "object_fit": null,
       "object_position": null,
       "order": null,
       "overflow": null,
       "padding": null,
       "right": null,
       "top": null,
       "visibility": null,
       "width": null
      }
     },
     "4c1d9a620c694280b27e43aa6105488d": {
      "model_module": "@jupyter-widgets/base",
      "model_module_version": "2.0.0",
      "model_name": "LayoutModel",
      "state": {
       "_model_module": "@jupyter-widgets/base",
       "_model_module_version": "2.0.0",
       "_model_name": "LayoutModel",
       "_view_count": null,
       "_view_module": "@jupyter-widgets/base",
       "_view_module_version": "2.0.0",
       "_view_name": "LayoutView",
       "align_content": null,
       "align_items": null,
       "align_self": null,
       "border_bottom": null,
       "border_left": null,
       "border_right": null,
       "border_top": null,
       "bottom": null,
       "display": null,
       "flex": null,
       "flex_flow": null,
       "grid_area": null,
       "grid_auto_columns": null,
       "grid_auto_flow": null,
       "grid_auto_rows": null,
       "grid_column": null,
       "grid_gap": null,
       "grid_row": null,
       "grid_template_areas": null,
       "grid_template_columns": null,
       "grid_template_rows": null,
       "height": null,
       "justify_content": null,
       "justify_items": null,
       "left": null,
       "margin": null,
       "max_height": null,
       "max_width": null,
       "min_height": null,
       "min_width": null,
       "object_fit": null,
       "object_position": null,
       "order": null,
       "overflow": null,
       "padding": null,
       "right": null,
       "top": null,
       "visibility": null,
       "width": null
      }
     },
     "54831e424e0a48fb995a0e09a8cbd306": {
      "model_module": "@jupyter-widgets/base",
      "model_module_version": "2.0.0",
      "model_name": "LayoutModel",
      "state": {
       "_model_module": "@jupyter-widgets/base",
       "_model_module_version": "2.0.0",
       "_model_name": "LayoutModel",
       "_view_count": null,
       "_view_module": "@jupyter-widgets/base",
       "_view_module_version": "2.0.0",
       "_view_name": "LayoutView",
       "align_content": null,
       "align_items": null,
       "align_self": null,
       "border_bottom": null,
       "border_left": null,
       "border_right": null,
       "border_top": null,
       "bottom": null,
       "display": null,
       "flex": null,
       "flex_flow": null,
       "grid_area": null,
       "grid_auto_columns": null,
       "grid_auto_flow": null,
       "grid_auto_rows": null,
       "grid_column": null,
       "grid_gap": null,
       "grid_row": null,
       "grid_template_areas": null,
       "grid_template_columns": null,
       "grid_template_rows": null,
       "height": null,
       "justify_content": null,
       "justify_items": null,
       "left": null,
       "margin": null,
       "max_height": null,
       "max_width": null,
       "min_height": null,
       "min_width": null,
       "object_fit": null,
       "object_position": null,
       "order": null,
       "overflow": null,
       "padding": null,
       "right": null,
       "top": null,
       "visibility": null,
       "width": null
      }
     },
     "5546d1e83d45496ea7f1fb9f97ecb059": {
      "model_module": "@jupyter-widgets/base",
      "model_module_version": "2.0.0",
      "model_name": "LayoutModel",
      "state": {
       "_model_module": "@jupyter-widgets/base",
       "_model_module_version": "2.0.0",
       "_model_name": "LayoutModel",
       "_view_count": null,
       "_view_module": "@jupyter-widgets/base",
       "_view_module_version": "2.0.0",
       "_view_name": "LayoutView",
       "align_content": null,
       "align_items": null,
       "align_self": null,
       "border_bottom": null,
       "border_left": null,
       "border_right": null,
       "border_top": null,
       "bottom": null,
       "display": null,
       "flex": null,
       "flex_flow": null,
       "grid_area": null,
       "grid_auto_columns": null,
       "grid_auto_flow": null,
       "grid_auto_rows": null,
       "grid_column": null,
       "grid_gap": null,
       "grid_row": null,
       "grid_template_areas": null,
       "grid_template_columns": null,
       "grid_template_rows": null,
       "height": null,
       "justify_content": null,
       "justify_items": null,
       "left": null,
       "margin": null,
       "max_height": null,
       "max_width": null,
       "min_height": null,
       "min_width": null,
       "object_fit": null,
       "object_position": null,
       "order": null,
       "overflow": null,
       "padding": null,
       "right": null,
       "top": null,
       "visibility": null,
       "width": null
      }
     },
     "55d9c72659a94d03a04ca3452c57aa55": {
      "model_module": "@jupyter-widgets/base",
      "model_module_version": "2.0.0",
      "model_name": "LayoutModel",
      "state": {
       "_model_module": "@jupyter-widgets/base",
       "_model_module_version": "2.0.0",
       "_model_name": "LayoutModel",
       "_view_count": null,
       "_view_module": "@jupyter-widgets/base",
       "_view_module_version": "2.0.0",
       "_view_name": "LayoutView",
       "align_content": null,
       "align_items": null,
       "align_self": null,
       "border_bottom": null,
       "border_left": null,
       "border_right": null,
       "border_top": null,
       "bottom": null,
       "display": null,
       "flex": null,
       "flex_flow": null,
       "grid_area": null,
       "grid_auto_columns": null,
       "grid_auto_flow": null,
       "grid_auto_rows": null,
       "grid_column": null,
       "grid_gap": null,
       "grid_row": null,
       "grid_template_areas": null,
       "grid_template_columns": null,
       "grid_template_rows": null,
       "height": null,
       "justify_content": null,
       "justify_items": null,
       "left": null,
       "margin": null,
       "max_height": null,
       "max_width": null,
       "min_height": null,
       "min_width": null,
       "object_fit": null,
       "object_position": null,
       "order": null,
       "overflow": null,
       "padding": null,
       "right": null,
       "top": null,
       "visibility": null,
       "width": null
      }
     },
     "628a0b885afb476b8bbf2d45cdb47bef": {
      "model_module": "@jupyter-widgets/output",
      "model_module_version": "1.0.0",
      "model_name": "OutputModel",
      "state": {
       "_dom_classes": [],
       "_model_module": "@jupyter-widgets/output",
       "_model_module_version": "1.0.0",
       "_model_name": "OutputModel",
       "_view_count": null,
       "_view_module": "@jupyter-widgets/output",
       "_view_module_version": "1.0.0",
       "_view_name": "OutputView",
       "layout": "IPY_MODEL_55d9c72659a94d03a04ca3452c57aa55",
       "msg_id": "",
       "outputs": [
        {
         "data": {
          "text/markdown": "`cswap_large`",
          "text/plain": "<IPython.core.display.Markdown object>"
         },
         "metadata": {},
         "output_type": "display_data"
        },
        {
         "data": {
          "image/svg+xml": "<svg xmlns=\"http://www.w3.org/2000/svg\" xmlns:xlink=\"http://www.w3.org/1999/xlink\" width=\"279pt\" height=\"152pt\" viewBox=\"0.00 0.00 279.00 152.00\">\n<g id=\"graph0\" class=\"graph\" transform=\"scale(1 1) rotate(0) translate(4 148)\">\n<title>my_graph</title>\n<polygon fill=\"white\" stroke=\"transparent\" points=\"-4,4 -4,-148 275,-148 275,4 -4,4\"/>\n<!-- ctrl_G2 -->\n<g id=\"node1\" class=\"node\">\n<title>ctrl_G2</title>\n<text text-anchor=\"middle\" x=\"27\" y=\"-122.3\" font-family=\"Times,serif\" font-size=\"14.00\">ctrl</text>\n</g>\n<!-- CSwap -->\n<g id=\"node4\" class=\"node\">\n<title>CSwap</title>\n<polygon fill=\"none\" stroke=\"black\" points=\"91.5,-104 91.5,-121 180.5,-121 180.5,-104 91.5,-104\"/>\n<text text-anchor=\"start\" x=\"94.5\" y=\"-110\" font-family=\"Times,serif\" font-size=\"10.00\">$x\\leftrightarrow y$</text>\n<polygon fill=\"none\" stroke=\"black\" points=\"91.5,-83 91.5,-104 180.5,-104 180.5,-83 91.5,-83\"/>\n<text text-anchor=\"start\" x=\"126.5\" y=\"-89.8\" font-family=\"Times,serif\" font-size=\"14.00\">ctrl</text>\n<polygon fill=\"none\" stroke=\"black\" points=\"91.5,-62 91.5,-83 180.5,-83 180.5,-62 91.5,-62\"/>\n<text text-anchor=\"start\" x=\"132.5\" y=\"-68.8\" font-family=\"Times,serif\" font-size=\"14.00\">x</text>\n<polygon fill=\"none\" stroke=\"black\" points=\"91.5,-41 91.5,-62 180.5,-62 180.5,-41 91.5,-41\"/>\n<text text-anchor=\"start\" x=\"132.5\" y=\"-47.8\" font-family=\"Times,serif\" font-size=\"14.00\">y</text>\n</g>\n<!-- ctrl_G2&#45;&gt;CSwap -->\n<g id=\"edge1\" class=\"edge\">\n<title>ctrl_G2:e-&gt;CSwap:w</title>\n<path fill=\"none\" stroke=\"black\" d=\"M54,-126C74.89,-126 69.72,-96.45 88.58,-94.14\"/>\n<ellipse fill=\"black\" stroke=\"black\" cx=\"90\" cy=\"-94.06\" rx=\"1\" ry=\"1\"/>\n<text text-anchor=\"middle\" x=\"72.5\" y=\"-113\" font-family=\"Times,serif\" font-size=\"10.00\">1</text>\n</g>\n<!-- x_G1 -->\n<g id=\"node2\" class=\"node\">\n<title>x_G1</title>\n<text text-anchor=\"middle\" x=\"27\" y=\"-68.3\" font-family=\"Times,serif\" font-size=\"14.00\">x</text>\n</g>\n<!-- x_G1&#45;&gt;CSwap -->\n<g id=\"edge2\" class=\"edge\">\n<title>x_G1:e-&gt;CSwap:w</title>\n<path fill=\"none\" stroke=\"black\" d=\"M54,-72C69.67,-72 74.14,-72 88.77,-72\"/>\n<ellipse fill=\"black\" stroke=\"black\" cx=\"90\" cy=\"-72\" rx=\"1\" ry=\"1\"/>\n<text text-anchor=\"middle\" x=\"72.5\" y=\"-75\" font-family=\"Times,serif\" font-size=\"10.00\">64</text>\n</g>\n<!-- y_G5 -->\n<g id=\"node3\" class=\"node\">\n<title>y_G5</title>\n<text text-anchor=\"middle\" x=\"27\" y=\"-14.3\" font-family=\"Times,serif\" font-size=\"14.00\">y</text>\n</g>\n<!-- y_G5&#45;&gt;CSwap -->\n<g id=\"edge3\" class=\"edge\">\n<title>y_G5:e-&gt;CSwap:w</title>\n<path fill=\"none\" stroke=\"black\" d=\"M54,-18C75.17,-18 69.47,-48.47 88.55,-50.85\"/>\n<ellipse fill=\"black\" stroke=\"black\" cx=\"90\" cy=\"-50.94\" rx=\"1\" ry=\"1\"/>\n<text text-anchor=\"middle\" x=\"72.5\" y=\"-39\" font-family=\"Times,serif\" font-size=\"10.00\">64</text>\n</g>\n<!-- ctrl_G0 -->\n<g id=\"node5\" class=\"node\">\n<title>ctrl_G0</title>\n<text text-anchor=\"middle\" x=\"244\" y=\"-122.3\" font-family=\"Times,serif\" font-size=\"14.00\">ctrl</text>\n</g>\n<!-- CSwap&#45;&gt;ctrl_G0 -->\n<g id=\"edge4\" class=\"edge\">\n<title>CSwap:e-&gt;ctrl_G0:w</title>\n<path fill=\"none\" stroke=\"black\" d=\"M180,-94C200.89,-94 195.72,-123.55 214.58,-125.86\"/>\n<ellipse fill=\"black\" stroke=\"black\" cx=\"216\" cy=\"-125.94\" rx=\"1\" ry=\"1\"/>\n<text text-anchor=\"middle\" x=\"198.5\" y=\"-113\" font-family=\"Times,serif\" font-size=\"10.00\">1</text>\n</g>\n<!-- x_G4 -->\n<g id=\"node6\" class=\"node\">\n<title>x_G4</title>\n<text text-anchor=\"middle\" x=\"244\" y=\"-68.3\" font-family=\"Times,serif\" font-size=\"14.00\">x</text>\n</g>\n<!-- CSwap&#45;&gt;x_G4 -->\n<g id=\"edge5\" class=\"edge\">\n<title>CSwap:e-&gt;x_G4:w</title>\n<path fill=\"none\" stroke=\"black\" d=\"M180,-72C195.67,-72 200.14,-72 214.77,-72\"/>\n<ellipse fill=\"black\" stroke=\"black\" cx=\"216\" cy=\"-72\" rx=\"1\" ry=\"1\"/>\n<text text-anchor=\"middle\" x=\"198.5\" y=\"-75\" font-family=\"Times,serif\" font-size=\"10.00\">64</text>\n</g>\n<!-- y_G3 -->\n<g id=\"node7\" class=\"node\">\n<title>y_G3</title>\n<text text-anchor=\"middle\" x=\"244\" y=\"-14.3\" font-family=\"Times,serif\" font-size=\"14.00\">y</text>\n</g>\n<!-- CSwap&#45;&gt;y_G3 -->\n<g id=\"edge6\" class=\"edge\">\n<title>CSwap:e-&gt;y_G3:w</title>\n<path fill=\"none\" stroke=\"black\" d=\"M180,-51C201.17,-51 195.47,-20.53 214.55,-18.15\"/>\n<ellipse fill=\"black\" stroke=\"black\" cx=\"216\" cy=\"-18.06\" rx=\"1\" ry=\"1\"/>\n<text text-anchor=\"middle\" x=\"198.5\" y=\"-39\" font-family=\"Times,serif\" font-size=\"10.00\">64</text>\n</g>\n</g>\n</svg>",
          "text/plain": "<IPython.core.display.SVG object>"
         },
         "metadata": {},
         "output_type": "display_data"
        }
       ],
       "tabbable": null,
       "tooltip": null
      }
     },
     "6600fe7b55574b9999c6090ea37b26d3": {
      "model_module": "@jupyter-widgets/controls",
      "model_module_version": "2.0.0",
      "model_name": "HBoxModel",
      "state": {
       "_dom_classes": [],
       "_model_module": "@jupyter-widgets/controls",
       "_model_module_version": "2.0.0",
       "_model_name": "HBoxModel",
       "_view_count": null,
       "_view_module": "@jupyter-widgets/controls",
       "_view_module_version": "2.0.0",
       "_view_name": "HBoxView",
       "box_style": "",
       "children": [
        "IPY_MODEL_6a9fea5d3a5648c8ad2211dd2b500d5c",
        "IPY_MODEL_13ccc8e5d07e47a4a1e0ecc766ad2b30",
        "IPY_MODEL_71ae904855774ead8540607960acd795"
       ],
       "layout": "IPY_MODEL_32940a1f6eab47d5a60ca5217c1f48a0",
       "tabbable": null,
       "tooltip": null
      }
     },
     "6a9fea5d3a5648c8ad2211dd2b500d5c": {
      "model_module": "@jupyter-widgets/output",
      "model_module_version": "1.0.0",
      "model_name": "OutputModel",
      "state": {
       "_dom_classes": [],
       "_model_module": "@jupyter-widgets/output",
       "_model_module_version": "1.0.0",
       "_model_name": "OutputModel",
       "_view_count": null,
       "_view_module": "@jupyter-widgets/output",
       "_view_module_version": "1.0.0",
       "_view_name": "OutputView",
       "layout": "IPY_MODEL_036eb9c645844aee9f916cc47fd3b1f7",
       "msg_id": "",
       "outputs": [
        {
         "data": {
          "text/markdown": "`approx_cswap_symb`",
          "text/plain": "<IPython.core.display.Markdown object>"
         },
         "metadata": {},
         "output_type": "display_data"
        },
        {
         "data": {
          "image/svg+xml": "<svg xmlns=\"http://www.w3.org/2000/svg\" xmlns:xlink=\"http://www.w3.org/1999/xlink\" width=\"223pt\" height=\"152pt\" viewBox=\"0.00 0.00 223.00 152.00\">\n<g id=\"graph0\" class=\"graph\" transform=\"scale(1 1) rotate(0) translate(4 148)\">\n<title>my_graph</title>\n<polygon fill=\"white\" stroke=\"transparent\" points=\"-4,4 -4,-148 219,-148 219,4 -4,4\"/>\n<!-- ctrl_G1 -->\n<g id=\"node1\" class=\"node\">\n<title>ctrl_G1</title>\n<text text-anchor=\"middle\" x=\"27\" y=\"-122.3\" font-family=\"Times,serif\" font-size=\"14.00\">ctrl</text>\n</g>\n<!-- CSwapApprox -->\n<g id=\"node4\" class=\"node\">\n<title>CSwapApprox</title>\n<polygon fill=\"none\" stroke=\"black\" points=\"91.5,-104 91.5,-121 124.5,-121 124.5,-104 91.5,-104\"/>\n<text text-anchor=\"start\" x=\"94.5\" y=\"-110\" font-family=\"Times,serif\" font-size=\"10.00\">~swap</text>\n<polygon fill=\"none\" stroke=\"black\" points=\"91.5,-83 91.5,-104 124.5,-104 124.5,-83 91.5,-83\"/>\n<text text-anchor=\"start\" x=\"98.5\" y=\"-89.8\" font-family=\"Times,serif\" font-size=\"14.00\">ctrl</text>\n<polygon fill=\"none\" stroke=\"black\" points=\"91.5,-62 91.5,-83 124.5,-83 124.5,-62 91.5,-62\"/>\n<text text-anchor=\"start\" x=\"104.5\" y=\"-68.8\" font-family=\"Times,serif\" font-size=\"14.00\">x</text>\n<polygon fill=\"none\" stroke=\"black\" points=\"91.5,-41 91.5,-62 124.5,-62 124.5,-41 91.5,-41\"/>\n<text text-anchor=\"start\" x=\"104.5\" y=\"-47.8\" font-family=\"Times,serif\" font-size=\"14.00\">y</text>\n</g>\n<!-- ctrl_G1&#45;&gt;CSwapApprox -->\n<g id=\"edge1\" class=\"edge\">\n<title>ctrl_G1:e-&gt;CSwapApprox:w</title>\n<path fill=\"none\" stroke=\"black\" d=\"M54,-126C74.89,-126 69.72,-96.45 88.58,-94.14\"/>\n<ellipse fill=\"black\" stroke=\"black\" cx=\"90\" cy=\"-94.06\" rx=\"1\" ry=\"1\"/>\n<text text-anchor=\"middle\" x=\"72.5\" y=\"-113\" font-family=\"Times,serif\" font-size=\"10.00\">1</text>\n</g>\n<!-- x_G5 -->\n<g id=\"node2\" class=\"node\">\n<title>x_G5</title>\n<text text-anchor=\"middle\" x=\"27\" y=\"-68.3\" font-family=\"Times,serif\" font-size=\"14.00\">x</text>\n</g>\n<!-- x_G5&#45;&gt;CSwapApprox -->\n<g id=\"edge2\" class=\"edge\">\n<title>x_G5:e-&gt;CSwapApprox:w</title>\n<path fill=\"none\" stroke=\"black\" d=\"M54,-72C69.67,-72 74.14,-72 88.77,-72\"/>\n<ellipse fill=\"black\" stroke=\"black\" cx=\"90\" cy=\"-72\" rx=\"1\" ry=\"1\"/>\n<text text-anchor=\"middle\" x=\"72.5\" y=\"-75\" font-family=\"Times,serif\" font-size=\"10.00\">n</text>\n</g>\n<!-- y_G7 -->\n<g id=\"node3\" class=\"node\">\n<title>y_G7</title>\n<text text-anchor=\"middle\" x=\"27\" y=\"-14.3\" font-family=\"Times,serif\" font-size=\"14.00\">y</text>\n</g>\n<!-- y_G7&#45;&gt;CSwapApprox -->\n<g id=\"edge3\" class=\"edge\">\n<title>y_G7:e-&gt;CSwapApprox:w</title>\n<path fill=\"none\" stroke=\"black\" d=\"M54,-18C75.17,-18 69.47,-48.47 88.55,-50.85\"/>\n<ellipse fill=\"black\" stroke=\"black\" cx=\"90\" cy=\"-50.94\" rx=\"1\" ry=\"1\"/>\n<text text-anchor=\"middle\" x=\"72.5\" y=\"-39\" font-family=\"Times,serif\" font-size=\"10.00\">n</text>\n</g>\n<!-- ctrl_G0 -->\n<g id=\"node5\" class=\"node\">\n<title>ctrl_G0</title>\n<text text-anchor=\"middle\" x=\"188\" y=\"-122.3\" font-family=\"Times,serif\" font-size=\"14.00\">ctrl</text>\n</g>\n<!-- CSwapApprox&#45;&gt;ctrl_G0 -->\n<g id=\"edge4\" class=\"edge\">\n<title>CSwapApprox:e-&gt;ctrl_G0:w</title>\n<path fill=\"none\" stroke=\"black\" d=\"M124,-94C144.89,-94 139.72,-123.55 158.58,-125.86\"/>\n<ellipse fill=\"black\" stroke=\"black\" cx=\"160\" cy=\"-125.94\" rx=\"1\" ry=\"1\"/>\n<text text-anchor=\"middle\" x=\"142.5\" y=\"-113\" font-family=\"Times,serif\" font-size=\"10.00\">1</text>\n</g>\n<!-- x_G3 -->\n<g id=\"node6\" class=\"node\">\n<title>x_G3</title>\n<text text-anchor=\"middle\" x=\"188\" y=\"-68.3\" font-family=\"Times,serif\" font-size=\"14.00\">x</text>\n</g>\n<!-- CSwapApprox&#45;&gt;x_G3 -->\n<g id=\"edge5\" class=\"edge\">\n<title>CSwapApprox:e-&gt;x_G3:w</title>\n<path fill=\"none\" stroke=\"black\" d=\"M124,-72C139.67,-72 144.14,-72 158.77,-72\"/>\n<ellipse fill=\"black\" stroke=\"black\" cx=\"160\" cy=\"-72\" rx=\"1\" ry=\"1\"/>\n<text text-anchor=\"middle\" x=\"142.5\" y=\"-75\" font-family=\"Times,serif\" font-size=\"10.00\">n</text>\n</g>\n<!-- y_G6 -->\n<g id=\"node7\" class=\"node\">\n<title>y_G6</title>\n<text text-anchor=\"middle\" x=\"188\" y=\"-14.3\" font-family=\"Times,serif\" font-size=\"14.00\">y</text>\n</g>\n<!-- CSwapApprox&#45;&gt;y_G6 -->\n<g id=\"edge6\" class=\"edge\">\n<title>CSwapApprox:e-&gt;y_G6:w</title>\n<path fill=\"none\" stroke=\"black\" d=\"M124,-51C145.17,-51 139.47,-20.53 158.55,-18.15\"/>\n<ellipse fill=\"black\" stroke=\"black\" cx=\"160\" cy=\"-18.06\" rx=\"1\" ry=\"1\"/>\n<text text-anchor=\"middle\" x=\"142.5\" y=\"-39\" font-family=\"Times,serif\" font-size=\"10.00\">n</text>\n</g>\n</g>\n</svg>",
          "text/plain": "<IPython.core.display.SVG object>"
         },
         "metadata": {},
         "output_type": "display_data"
        }
       ],
       "tabbable": null,
       "tooltip": null
      }
     },
     "70f6323457a4452b843f5fcdece4f4fb": {
      "model_module": "@jupyter-widgets/output",
      "model_module_version": "1.0.0",
      "model_name": "OutputModel",
      "state": {
       "_dom_classes": [],
       "_model_module": "@jupyter-widgets/output",
       "_model_module_version": "1.0.0",
       "_model_name": "OutputModel",
       "_view_count": null,
       "_view_module": "@jupyter-widgets/output",
       "_view_module_version": "1.0.0",
       "_view_name": "OutputView",
       "layout": "IPY_MODEL_4c1d9a620c694280b27e43aa6105488d",
       "msg_id": "",
       "outputs": [
        {
         "data": {
          "text/markdown": "`swz`",
          "text/plain": "<IPython.core.display.Markdown object>"
         },
         "metadata": {},
         "output_type": "display_data"
        },
        {
         "data": {
          "image/svg+xml": "<svg xmlns=\"http://www.w3.org/2000/svg\" xmlns:xlink=\"http://www.w3.org/1999/xlink\" width=\"276pt\" height=\"260pt\" viewBox=\"0.00 0.00 276.00 260.00\">\n<g id=\"graph0\" class=\"graph\" transform=\"scale(1 1) rotate(0) translate(4 256)\">\n<title>my_graph</title>\n<polygon fill=\"white\" stroke=\"transparent\" points=\"-4,4 -4,-256 272,-256 272,4 -4,4\"/>\n<!-- selection_G13 -->\n<g id=\"node1\" class=\"node\">\n<title>selection_G13</title>\n<text text-anchor=\"middle\" x=\"34\" y=\"-230.3\" font-family=\"Times,serif\" font-size=\"14.00\">selection</text>\n</g>\n<!-- SwapWithZero -->\n<g id=\"node6\" class=\"node\">\n<title>SwapWithZero</title>\n<polygon fill=\"none\" stroke=\"black\" points=\"105,-179 105,-196 163,-196 163,-179 105,-179\"/>\n<text text-anchor=\"start\" x=\"110.5\" y=\"-185\" font-family=\"Times,serif\" font-size=\"10.00\">SwapWith..</text>\n<polygon fill=\"none\" stroke=\"black\" points=\"105,-158 105,-179 163,-179 163,-158 105,-158\"/>\n<text text-anchor=\"start\" x=\"109.5\" y=\"-164.8\" font-family=\"Times,serif\" font-size=\"14.00\">selection</text>\n<polygon fill=\"none\" stroke=\"black\" points=\"105,-137 105,-158 163,-158 163,-137 105,-137\"/>\n<text text-anchor=\"start\" x=\"108\" y=\"-143.8\" font-family=\"Times,serif\" font-size=\"14.00\">targets[0]</text>\n<polygon fill=\"none\" stroke=\"black\" points=\"105,-116 105,-137 163,-137 163,-116 105,-116\"/>\n<text text-anchor=\"start\" x=\"108\" y=\"-122.8\" font-family=\"Times,serif\" font-size=\"14.00\">targets[1]</text>\n<polygon fill=\"none\" stroke=\"black\" points=\"105,-95 105,-116 163,-116 163,-95 105,-95\"/>\n<text text-anchor=\"start\" x=\"108\" y=\"-101.8\" font-family=\"Times,serif\" font-size=\"14.00\">targets[2]</text>\n<polygon fill=\"none\" stroke=\"black\" points=\"105,-74 105,-95 163,-95 163,-74 105,-74\"/>\n<text text-anchor=\"start\" x=\"108\" y=\"-80.8\" font-family=\"Times,serif\" font-size=\"14.00\">targets[3]</text>\n</g>\n<!-- selection_G13&#45;&gt;SwapWithZero -->\n<g id=\"edge1\" class=\"edge\">\n<title>selection_G13:e-&gt;SwapWithZero:w</title>\n<path fill=\"none\" stroke=\"black\" d=\"M68,-234C100.46,-234 73.11,-172.01 102.76,-169.11\"/>\n<ellipse fill=\"black\" stroke=\"black\" cx=\"104\" cy=\"-169.05\" rx=\"1\" ry=\"1\"/>\n<text text-anchor=\"middle\" x=\"86.5\" y=\"-210\" font-family=\"Times,serif\" font-size=\"10.00\">8</text>\n</g>\n<!-- targets_G5 -->\n<g id=\"node2\" class=\"node\">\n<title>targets_G5</title>\n<text text-anchor=\"middle\" x=\"34\" y=\"-176.3\" font-family=\"Times,serif\" font-size=\"14.00\">targets[0]</text>\n</g>\n<!-- targets_G5&#45;&gt;SwapWithZero -->\n<g id=\"edge2\" class=\"edge\">\n<title>targets_G5:e-&gt;SwapWithZero:w</title>\n<path fill=\"none\" stroke=\"black\" d=\"M68,-180C88.89,-180 83.72,-150.45 102.58,-148.14\"/>\n<ellipse fill=\"black\" stroke=\"black\" cx=\"104\" cy=\"-148.06\" rx=\"1\" ry=\"1\"/>\n<text text-anchor=\"middle\" x=\"86.5\" y=\"-167\" font-family=\"Times,serif\" font-size=\"10.00\">32</text>\n</g>\n<!-- targets_G3 -->\n<g id=\"node3\" class=\"node\">\n<title>targets_G3</title>\n<text text-anchor=\"middle\" x=\"34\" y=\"-122.3\" font-family=\"Times,serif\" font-size=\"14.00\">targets[1]</text>\n</g>\n<!-- targets_G3&#45;&gt;SwapWithZero -->\n<g id=\"edge3\" class=\"edge\">\n<title>targets_G3:e-&gt;SwapWithZero:w</title>\n<path fill=\"none\" stroke=\"black\" d=\"M68,-126C83.67,-126 88.14,-126 102.77,-126\"/>\n<ellipse fill=\"black\" stroke=\"black\" cx=\"104\" cy=\"-126\" rx=\"1\" ry=\"1\"/>\n<text text-anchor=\"middle\" x=\"86.5\" y=\"-129\" font-family=\"Times,serif\" font-size=\"10.00\">32</text>\n</g>\n<!-- targets_G11 -->\n<g id=\"node4\" class=\"node\">\n<title>targets_G11</title>\n<text text-anchor=\"middle\" x=\"34\" y=\"-68.3\" font-family=\"Times,serif\" font-size=\"14.00\">targets[2]</text>\n</g>\n<!-- targets_G11&#45;&gt;SwapWithZero -->\n<g id=\"edge4\" class=\"edge\">\n<title>targets_G11:e-&gt;SwapWithZero:w</title>\n<path fill=\"none\" stroke=\"black\" d=\"M68,-72C89.17,-72 83.47,-102.47 102.55,-104.85\"/>\n<ellipse fill=\"black\" stroke=\"black\" cx=\"104\" cy=\"-104.94\" rx=\"1\" ry=\"1\"/>\n<text text-anchor=\"middle\" x=\"86.5\" y=\"-92\" font-family=\"Times,serif\" font-size=\"10.00\">32</text>\n</g>\n<!-- targets_G1 -->\n<g id=\"node5\" class=\"node\">\n<title>targets_G1</title>\n<text text-anchor=\"middle\" x=\"34\" y=\"-14.3\" font-family=\"Times,serif\" font-size=\"14.00\">targets[3]</text>\n</g>\n<!-- targets_G1&#45;&gt;SwapWithZero -->\n<g id=\"edge5\" class=\"edge\">\n<title>targets_G1:e-&gt;SwapWithZero:w</title>\n<path fill=\"none\" stroke=\"black\" d=\"M68,-18C100.84,-18 72.75,-80.94 102.74,-83.89\"/>\n<ellipse fill=\"black\" stroke=\"black\" cx=\"104\" cy=\"-83.95\" rx=\"1\" ry=\"1\"/>\n<text text-anchor=\"middle\" x=\"86.5\" y=\"-62\" font-family=\"Times,serif\" font-size=\"10.00\">32</text>\n</g>\n<!-- selection_G0 -->\n<g id=\"node7\" class=\"node\">\n<title>selection_G0</title>\n<text text-anchor=\"middle\" x=\"234\" y=\"-230.3\" font-family=\"Times,serif\" font-size=\"14.00\">selection</text>\n</g>\n<!-- SwapWithZero&#45;&gt;selection_G0 -->\n<g id=\"edge6\" class=\"edge\">\n<title>SwapWithZero:e-&gt;selection_G0:w</title>\n<path fill=\"none\" stroke=\"black\" d=\"M163,-169C195.46,-169 168.11,-230.99 197.76,-233.89\"/>\n<ellipse fill=\"black\" stroke=\"black\" cx=\"199\" cy=\"-233.95\" rx=\"1\" ry=\"1\"/>\n<text text-anchor=\"middle\" x=\"181.5\" y=\"-210\" font-family=\"Times,serif\" font-size=\"10.00\">8</text>\n</g>\n<!-- targets_G9 -->\n<g id=\"node8\" class=\"node\">\n<title>targets_G9</title>\n<text text-anchor=\"middle\" x=\"234\" y=\"-176.3\" font-family=\"Times,serif\" font-size=\"14.00\">targets[0]</text>\n</g>\n<!-- SwapWithZero&#45;&gt;targets_G9 -->\n<g id=\"edge7\" class=\"edge\">\n<title>SwapWithZero:e-&gt;targets_G9:w</title>\n<path fill=\"none\" stroke=\"black\" d=\"M163,-148C183.89,-148 178.72,-177.55 197.58,-179.86\"/>\n<ellipse fill=\"black\" stroke=\"black\" cx=\"199\" cy=\"-179.94\" rx=\"1\" ry=\"1\"/>\n<text text-anchor=\"middle\" x=\"181.5\" y=\"-167\" font-family=\"Times,serif\" font-size=\"10.00\">32</text>\n</g>\n<!-- targets_G2 -->\n<g id=\"node9\" class=\"node\">\n<title>targets_G2</title>\n<text text-anchor=\"middle\" x=\"234\" y=\"-122.3\" font-family=\"Times,serif\" font-size=\"14.00\">targets[1]</text>\n</g>\n<!-- SwapWithZero&#45;&gt;targets_G2 -->\n<g id=\"edge8\" class=\"edge\">\n<title>SwapWithZero:e-&gt;targets_G2:w</title>\n<path fill=\"none\" stroke=\"black\" d=\"M163,-126C178.67,-126 183.14,-126 197.77,-126\"/>\n<ellipse fill=\"black\" stroke=\"black\" cx=\"199\" cy=\"-126\" rx=\"1\" ry=\"1\"/>\n<text text-anchor=\"middle\" x=\"181.5\" y=\"-129\" font-family=\"Times,serif\" font-size=\"10.00\">32</text>\n</g>\n<!-- targets_G10 -->\n<g id=\"node10\" class=\"node\">\n<title>targets_G10</title>\n<text text-anchor=\"middle\" x=\"234\" y=\"-68.3\" font-family=\"Times,serif\" font-size=\"14.00\">targets[2]</text>\n</g>\n<!-- SwapWithZero&#45;&gt;targets_G10 -->\n<g id=\"edge9\" class=\"edge\">\n<title>SwapWithZero:e-&gt;targets_G10:w</title>\n<path fill=\"none\" stroke=\"black\" d=\"M163,-105C184.17,-105 178.47,-74.53 197.55,-72.15\"/>\n<ellipse fill=\"black\" stroke=\"black\" cx=\"199\" cy=\"-72.06\" rx=\"1\" ry=\"1\"/>\n<text text-anchor=\"middle\" x=\"181.5\" y=\"-92\" font-family=\"Times,serif\" font-size=\"10.00\">32</text>\n</g>\n<!-- targets_G4 -->\n<g id=\"node11\" class=\"node\">\n<title>targets_G4</title>\n<text text-anchor=\"middle\" x=\"234\" y=\"-14.3\" font-family=\"Times,serif\" font-size=\"14.00\">targets[3]</text>\n</g>\n<!-- SwapWithZero&#45;&gt;targets_G4 -->\n<g id=\"edge10\" class=\"edge\">\n<title>SwapWithZero:e-&gt;targets_G4:w</title>\n<path fill=\"none\" stroke=\"black\" d=\"M163,-84C195.84,-84 167.75,-21.06 197.74,-18.11\"/>\n<ellipse fill=\"black\" stroke=\"black\" cx=\"199\" cy=\"-18.05\" rx=\"1\" ry=\"1\"/>\n<text text-anchor=\"middle\" x=\"181.5\" y=\"-62\" font-family=\"Times,serif\" font-size=\"10.00\">32</text>\n</g>\n</g>\n</svg>",
          "text/plain": "<IPython.core.display.SVG object>"
         },
         "metadata": {},
         "output_type": "display_data"
        }
       ],
       "tabbable": null,
       "tooltip": null
      }
     },
     "71ae904855774ead8540607960acd795": {
      "model_module": "@jupyter-widgets/output",
      "model_module_version": "1.0.0",
      "model_name": "OutputModel",
      "state": {
       "_dom_classes": [],
       "_model_module": "@jupyter-widgets/output",
       "_model_module_version": "1.0.0",
       "_model_name": "OutputModel",
       "_view_count": null,
       "_view_module": "@jupyter-widgets/output",
       "_view_module_version": "1.0.0",
       "_view_name": "OutputView",
       "layout": "IPY_MODEL_16e043316f7e40ed8147be51f0845e1b",
       "msg_id": "",
       "outputs": [
        {
         "data": {
          "text/markdown": "`approx_cswap_large`",
          "text/plain": "<IPython.core.display.Markdown object>"
         },
         "metadata": {},
         "output_type": "display_data"
        },
        {
         "data": {
          "image/svg+xml": "<svg xmlns=\"http://www.w3.org/2000/svg\" xmlns:xlink=\"http://www.w3.org/1999/xlink\" width=\"223pt\" height=\"152pt\" viewBox=\"0.00 0.00 223.00 152.00\">\n<g id=\"graph0\" class=\"graph\" transform=\"scale(1 1) rotate(0) translate(4 148)\">\n<title>my_graph</title>\n<polygon fill=\"white\" stroke=\"transparent\" points=\"-4,4 -4,-148 219,-148 219,4 -4,4\"/>\n<!-- ctrl_G2 -->\n<g id=\"node1\" class=\"node\">\n<title>ctrl_G2</title>\n<text text-anchor=\"middle\" x=\"27\" y=\"-122.3\" font-family=\"Times,serif\" font-size=\"14.00\">ctrl</text>\n</g>\n<!-- CSwapApprox -->\n<g id=\"node4\" class=\"node\">\n<title>CSwapApprox</title>\n<polygon fill=\"none\" stroke=\"black\" points=\"91.5,-104 91.5,-121 124.5,-121 124.5,-104 91.5,-104\"/>\n<text text-anchor=\"start\" x=\"94.5\" y=\"-110\" font-family=\"Times,serif\" font-size=\"10.00\">~swap</text>\n<polygon fill=\"none\" stroke=\"black\" points=\"91.5,-83 91.5,-104 124.5,-104 124.5,-83 91.5,-83\"/>\n<text text-anchor=\"start\" x=\"98.5\" y=\"-89.8\" font-family=\"Times,serif\" font-size=\"14.00\">ctrl</text>\n<polygon fill=\"none\" stroke=\"black\" points=\"91.5,-62 91.5,-83 124.5,-83 124.5,-62 91.5,-62\"/>\n<text text-anchor=\"start\" x=\"104.5\" y=\"-68.8\" font-family=\"Times,serif\" font-size=\"14.00\">x</text>\n<polygon fill=\"none\" stroke=\"black\" points=\"91.5,-41 91.5,-62 124.5,-62 124.5,-41 91.5,-41\"/>\n<text text-anchor=\"start\" x=\"104.5\" y=\"-47.8\" font-family=\"Times,serif\" font-size=\"14.00\">y</text>\n</g>\n<!-- ctrl_G2&#45;&gt;CSwapApprox -->\n<g id=\"edge1\" class=\"edge\">\n<title>ctrl_G2:e-&gt;CSwapApprox:w</title>\n<path fill=\"none\" stroke=\"black\" d=\"M54,-126C74.89,-126 69.72,-96.45 88.58,-94.14\"/>\n<ellipse fill=\"black\" stroke=\"black\" cx=\"90\" cy=\"-94.06\" rx=\"1\" ry=\"1\"/>\n<text text-anchor=\"middle\" x=\"72.5\" y=\"-113\" font-family=\"Times,serif\" font-size=\"10.00\">1</text>\n</g>\n<!-- x_G1 -->\n<g id=\"node2\" class=\"node\">\n<title>x_G1</title>\n<text text-anchor=\"middle\" x=\"27\" y=\"-68.3\" font-family=\"Times,serif\" font-size=\"14.00\">x</text>\n</g>\n<!-- x_G1&#45;&gt;CSwapApprox -->\n<g id=\"edge2\" class=\"edge\">\n<title>x_G1:e-&gt;CSwapApprox:w</title>\n<path fill=\"none\" stroke=\"black\" d=\"M54,-72C69.67,-72 74.14,-72 88.77,-72\"/>\n<ellipse fill=\"black\" stroke=\"black\" cx=\"90\" cy=\"-72\" rx=\"1\" ry=\"1\"/>\n<text text-anchor=\"middle\" x=\"72.5\" y=\"-75\" font-family=\"Times,serif\" font-size=\"10.00\">64</text>\n</g>\n<!-- y_G5 -->\n<g id=\"node3\" class=\"node\">\n<title>y_G5</title>\n<text text-anchor=\"middle\" x=\"27\" y=\"-14.3\" font-family=\"Times,serif\" font-size=\"14.00\">y</text>\n</g>\n<!-- y_G5&#45;&gt;CSwapApprox -->\n<g id=\"edge3\" class=\"edge\">\n<title>y_G5:e-&gt;CSwapApprox:w</title>\n<path fill=\"none\" stroke=\"black\" d=\"M54,-18C75.17,-18 69.47,-48.47 88.55,-50.85\"/>\n<ellipse fill=\"black\" stroke=\"black\" cx=\"90\" cy=\"-50.94\" rx=\"1\" ry=\"1\"/>\n<text text-anchor=\"middle\" x=\"72.5\" y=\"-39\" font-family=\"Times,serif\" font-size=\"10.00\">64</text>\n</g>\n<!-- ctrl_G0 -->\n<g id=\"node5\" class=\"node\">\n<title>ctrl_G0</title>\n<text text-anchor=\"middle\" x=\"188\" y=\"-122.3\" font-family=\"Times,serif\" font-size=\"14.00\">ctrl</text>\n</g>\n<!-- CSwapApprox&#45;&gt;ctrl_G0 -->\n<g id=\"edge4\" class=\"edge\">\n<title>CSwapApprox:e-&gt;ctrl_G0:w</title>\n<path fill=\"none\" stroke=\"black\" d=\"M124,-94C144.89,-94 139.72,-123.55 158.58,-125.86\"/>\n<ellipse fill=\"black\" stroke=\"black\" cx=\"160\" cy=\"-125.94\" rx=\"1\" ry=\"1\"/>\n<text text-anchor=\"middle\" x=\"142.5\" y=\"-113\" font-family=\"Times,serif\" font-size=\"10.00\">1</text>\n</g>\n<!-- x_G6 -->\n<g id=\"node6\" class=\"node\">\n<title>x_G6</title>\n<text text-anchor=\"middle\" x=\"188\" y=\"-68.3\" font-family=\"Times,serif\" font-size=\"14.00\">x</text>\n</g>\n<!-- CSwapApprox&#45;&gt;x_G6 -->\n<g id=\"edge5\" class=\"edge\">\n<title>CSwapApprox:e-&gt;x_G6:w</title>\n<path fill=\"none\" stroke=\"black\" d=\"M124,-72C139.67,-72 144.14,-72 158.77,-72\"/>\n<ellipse fill=\"black\" stroke=\"black\" cx=\"160\" cy=\"-72\" rx=\"1\" ry=\"1\"/>\n<text text-anchor=\"middle\" x=\"142.5\" y=\"-75\" font-family=\"Times,serif\" font-size=\"10.00\">64</text>\n</g>\n<!-- y_G3 -->\n<g id=\"node7\" class=\"node\">\n<title>y_G3</title>\n<text text-anchor=\"middle\" x=\"188\" y=\"-14.3\" font-family=\"Times,serif\" font-size=\"14.00\">y</text>\n</g>\n<!-- CSwapApprox&#45;&gt;y_G3 -->\n<g id=\"edge6\" class=\"edge\">\n<title>CSwapApprox:e-&gt;y_G3:w</title>\n<path fill=\"none\" stroke=\"black\" d=\"M124,-51C145.17,-51 139.47,-20.53 158.55,-18.15\"/>\n<ellipse fill=\"black\" stroke=\"black\" cx=\"160\" cy=\"-18.06\" rx=\"1\" ry=\"1\"/>\n<text text-anchor=\"middle\" x=\"142.5\" y=\"-39\" font-family=\"Times,serif\" font-size=\"10.00\">64</text>\n</g>\n</g>\n</svg>",
          "text/plain": "<IPython.core.display.SVG object>"
         },
         "metadata": {},
         "output_type": "display_data"
        }
       ],
       "tabbable": null,
       "tooltip": null
      }
     },
     "85166da01cee488792d3e91915955573": {
      "model_module": "@jupyter-widgets/base",
      "model_module_version": "2.0.0",
      "model_name": "LayoutModel",
      "state": {
       "_model_module": "@jupyter-widgets/base",
       "_model_module_version": "2.0.0",
       "_model_name": "LayoutModel",
       "_view_count": null,
       "_view_module": "@jupyter-widgets/base",
       "_view_module_version": "2.0.0",
       "_view_name": "LayoutView",
       "align_content": null,
       "align_items": null,
       "align_self": null,
       "border_bottom": null,
       "border_left": null,
       "border_right": null,
       "border_top": null,
       "bottom": null,
       "display": null,
       "flex": null,
       "flex_flow": null,
       "grid_area": null,
       "grid_auto_columns": null,
       "grid_auto_flow": null,
       "grid_auto_rows": null,
       "grid_column": null,
       "grid_gap": null,
       "grid_row": null,
       "grid_template_areas": null,
       "grid_template_columns": null,
       "grid_template_rows": null,
       "height": null,
       "justify_content": null,
       "justify_items": null,
       "left": null,
       "margin": null,
       "max_height": null,
       "max_width": null,
       "min_height": null,
       "min_width": null,
       "object_fit": null,
       "object_position": null,
       "order": null,
       "overflow": null,
       "padding": null,
       "right": null,
       "top": null,
       "visibility": null,
       "width": null
      }
     },
     "9a11a62024304a64b7f59484964bf9e7": {
      "model_module": "@jupyter-widgets/controls",
      "model_module_version": "2.0.0",
      "model_name": "HBoxModel",
      "state": {
       "_dom_classes": [],
       "_model_module": "@jupyter-widgets/controls",
       "_model_module_version": "2.0.0",
       "_model_name": "HBoxModel",
       "_view_count": null,
       "_view_module": "@jupyter-widgets/controls",
       "_view_module_version": "2.0.0",
       "_view_name": "HBoxView",
       "box_style": "",
       "children": [
        "IPY_MODEL_70f6323457a4452b843f5fcdece4f4fb",
        "IPY_MODEL_a8f7f1fff134457a83fb0998fd6f87fd"
       ],
       "layout": "IPY_MODEL_1f16dd845b454bd2ab4f6f18ce94755f",
       "tabbable": null,
       "tooltip": null
      }
     },
     "9a297b6db10e4d4ba51b9ee25768030c": {
      "model_module": "@jupyter-widgets/output",
      "model_module_version": "1.0.0",
      "model_name": "OutputModel",
      "state": {
       "_dom_classes": [],
       "_model_module": "@jupyter-widgets/output",
       "_model_module_version": "1.0.0",
       "_model_name": "OutputModel",
       "_view_count": null,
       "_view_module": "@jupyter-widgets/output",
       "_view_module_version": "1.0.0",
       "_view_name": "OutputView",
       "layout": "IPY_MODEL_54831e424e0a48fb995a0e09a8cbd306",
       "msg_id": "",
       "outputs": [
        {
         "data": {
          "text/markdown": "`multiplexed_cswap`",
          "text/plain": "<IPython.core.display.Markdown object>"
         },
         "metadata": {},
         "output_type": "display_data"
        },
        {
         "data": {
          "image/svg+xml": "<svg xmlns=\"http://www.w3.org/2000/svg\" xmlns:xlink=\"http://www.w3.org/1999/xlink\" width=\"276pt\" height=\"368pt\" viewBox=\"0.00 0.00 276.00 368.00\">\n<g id=\"graph0\" class=\"graph\" transform=\"scale(1 1) rotate(0) translate(4 364)\">\n<title>my_graph</title>\n<polygon fill=\"white\" stroke=\"transparent\" points=\"-4,4 -4,-364 272,-364 272,4 -4,4\"/>\n<!-- selection_G5 -->\n<g id=\"node1\" class=\"node\">\n<title>selection_G5</title>\n<text text-anchor=\"middle\" x=\"34\" y=\"-338.3\" font-family=\"Times,serif\" font-size=\"14.00\">selection</text>\n</g>\n<!-- MultiplexedCSwap -->\n<g id=\"node8\" class=\"node\">\n<title>MultiplexedCSwap</title>\n<polygon fill=\"none\" stroke=\"black\" points=\"105,-254 105,-271 163,-271 163,-254 105,-254\"/>\n<text text-anchor=\"start\" x=\"113.5\" y=\"-260\" font-family=\"Times,serif\" font-size=\"10.00\">Multiple..</text>\n<polygon fill=\"none\" stroke=\"black\" points=\"105,-233 105,-254 163,-254 163,-233 105,-233\"/>\n<text text-anchor=\"start\" x=\"109.5\" y=\"-239.8\" font-family=\"Times,serif\" font-size=\"14.00\">selection</text>\n<polygon fill=\"none\" stroke=\"black\" points=\"105,-212 105,-233 163,-233 163,-212 105,-212\"/>\n<text text-anchor=\"start\" x=\"108\" y=\"-218.8\" font-family=\"Times,serif\" font-size=\"14.00\">targets[0]</text>\n<polygon fill=\"none\" stroke=\"black\" points=\"105,-191 105,-212 163,-212 163,-191 105,-191\"/>\n<text text-anchor=\"start\" x=\"108\" y=\"-197.8\" font-family=\"Times,serif\" font-size=\"14.00\">targets[1]</text>\n<polygon fill=\"none\" stroke=\"black\" points=\"105,-170 105,-191 163,-191 163,-170 105,-170\"/>\n<text text-anchor=\"start\" x=\"108\" y=\"-176.8\" font-family=\"Times,serif\" font-size=\"14.00\">targets[2]</text>\n<polygon fill=\"none\" stroke=\"black\" points=\"105,-149 105,-170 163,-170 163,-149 105,-149\"/>\n<text text-anchor=\"start\" x=\"108\" y=\"-155.8\" font-family=\"Times,serif\" font-size=\"14.00\">targets[3]</text>\n<polygon fill=\"none\" stroke=\"black\" points=\"105,-128 105,-149 163,-149 163,-128 105,-128\"/>\n<text text-anchor=\"start\" x=\"108\" y=\"-134.8\" font-family=\"Times,serif\" font-size=\"14.00\">targets[4]</text>\n<polygon fill=\"none\" stroke=\"black\" points=\"105,-107 105,-128 163,-128 163,-107 105,-107\"/>\n<text text-anchor=\"start\" x=\"116.5\" y=\"-113.8\" font-family=\"Times,serif\" font-size=\"14.00\">output</text>\n</g>\n<!-- selection_G5&#45;&gt;MultiplexedCSwap -->\n<g id=\"edge1\" class=\"edge\">\n<title>selection_G5:e-&gt;MultiplexedCSwap:w</title>\n<path fill=\"none\" stroke=\"black\" d=\"M68,-342C90.55,-342 82.29,-250.03 102.91,-244.28\"/>\n<ellipse fill=\"black\" stroke=\"black\" cx=\"104.01\" cy=\"-244.13\" rx=\"1\" ry=\"1\"/>\n<text text-anchor=\"middle\" x=\"86.5\" y=\"-298\" font-family=\"Times,serif\" font-size=\"10.00\">3</text>\n</g>\n<!-- targets_G14 -->\n<g id=\"node2\" class=\"node\">\n<title>targets_G14</title>\n<text text-anchor=\"middle\" x=\"34\" y=\"-284.3\" font-family=\"Times,serif\" font-size=\"14.00\">targets[0]</text>\n</g>\n<!-- targets_G14&#45;&gt;MultiplexedCSwap -->\n<g id=\"edge2\" class=\"edge\">\n<title>targets_G14:e-&gt;MultiplexedCSwap:w</title>\n<path fill=\"none\" stroke=\"black\" d=\"M68,-288C100.46,-288 73.11,-226.01 102.76,-223.11\"/>\n<ellipse fill=\"black\" stroke=\"black\" cx=\"104\" cy=\"-223.05\" rx=\"1\" ry=\"1\"/>\n<text text-anchor=\"middle\" x=\"86.5\" y=\"-264\" font-family=\"Times,serif\" font-size=\"10.00\">2</text>\n</g>\n<!-- targets_G13 -->\n<g id=\"node3\" class=\"node\">\n<title>targets_G13</title>\n<text text-anchor=\"middle\" x=\"34\" y=\"-230.3\" font-family=\"Times,serif\" font-size=\"14.00\">targets[1]</text>\n</g>\n<!-- targets_G13&#45;&gt;MultiplexedCSwap -->\n<g id=\"edge3\" class=\"edge\">\n<title>targets_G13:e-&gt;MultiplexedCSwap:w</title>\n<path fill=\"none\" stroke=\"black\" d=\"M68,-234C88.89,-234 83.72,-204.45 102.58,-202.14\"/>\n<ellipse fill=\"black\" stroke=\"black\" cx=\"104\" cy=\"-202.06\" rx=\"1\" ry=\"1\"/>\n<text text-anchor=\"middle\" x=\"86.5\" y=\"-221\" font-family=\"Times,serif\" font-size=\"10.00\">2</text>\n</g>\n<!-- targets_G20 -->\n<g id=\"node4\" class=\"node\">\n<title>targets_G20</title>\n<text text-anchor=\"middle\" x=\"34\" y=\"-176.3\" font-family=\"Times,serif\" font-size=\"14.00\">targets[2]</text>\n</g>\n<!-- targets_G20&#45;&gt;MultiplexedCSwap -->\n<g id=\"edge4\" class=\"edge\">\n<title>targets_G20:e-&gt;MultiplexedCSwap:w</title>\n<path fill=\"none\" stroke=\"black\" d=\"M68,-180C83.67,-180 88.14,-180 102.77,-180\"/>\n<ellipse fill=\"black\" stroke=\"black\" cx=\"104\" cy=\"-180\" rx=\"1\" ry=\"1\"/>\n<text text-anchor=\"middle\" x=\"86.5\" y=\"-183\" font-family=\"Times,serif\" font-size=\"10.00\">2</text>\n</g>\n<!-- targets_G4 -->\n<g id=\"node5\" class=\"node\">\n<title>targets_G4</title>\n<text text-anchor=\"middle\" x=\"34\" y=\"-122.3\" font-family=\"Times,serif\" font-size=\"14.00\">targets[3]</text>\n</g>\n<!-- targets_G4&#45;&gt;MultiplexedCSwap -->\n<g id=\"edge5\" class=\"edge\">\n<title>targets_G4:e-&gt;MultiplexedCSwap:w</title>\n<path fill=\"none\" stroke=\"black\" d=\"M68,-126C89.17,-126 83.47,-156.47 102.55,-158.85\"/>\n<ellipse fill=\"black\" stroke=\"black\" cx=\"104\" cy=\"-158.94\" rx=\"1\" ry=\"1\"/>\n<text text-anchor=\"middle\" x=\"86.5\" y=\"-146\" font-family=\"Times,serif\" font-size=\"10.00\">2</text>\n</g>\n<!-- targets_G8 -->\n<g id=\"node6\" class=\"node\">\n<title>targets_G8</title>\n<text text-anchor=\"middle\" x=\"34\" y=\"-68.3\" font-family=\"Times,serif\" font-size=\"14.00\">targets[4]</text>\n</g>\n<!-- targets_G8&#45;&gt;MultiplexedCSwap -->\n<g id=\"edge6\" class=\"edge\">\n<title>targets_G8:e-&gt;MultiplexedCSwap:w</title>\n<path fill=\"none\" stroke=\"black\" d=\"M68,-72C100.84,-72 72.75,-134.94 102.74,-137.89\"/>\n<ellipse fill=\"black\" stroke=\"black\" cx=\"104\" cy=\"-137.95\" rx=\"1\" ry=\"1\"/>\n<text text-anchor=\"middle\" x=\"86.5\" y=\"-115\" font-family=\"Times,serif\" font-size=\"10.00\">2</text>\n</g>\n<!-- output_G18 -->\n<g id=\"node7\" class=\"node\">\n<title>output_G18</title>\n<text text-anchor=\"middle\" x=\"34\" y=\"-14.3\" font-family=\"Times,serif\" font-size=\"14.00\">output</text>\n</g>\n<!-- output_G18&#45;&gt;MultiplexedCSwap -->\n<g id=\"edge7\" class=\"edge\">\n<title>output_G18:e-&gt;MultiplexedCSwap:w</title>\n<path fill=\"none\" stroke=\"black\" d=\"M62,-18C85.24,-18 81.3,-110.91 102.83,-116.72\"/>\n<ellipse fill=\"black\" stroke=\"black\" cx=\"104.01\" cy=\"-116.87\" rx=\"1\" ry=\"1\"/>\n<text text-anchor=\"middle\" x=\"86.5\" y=\"-86\" font-family=\"Times,serif\" font-size=\"10.00\">2</text>\n</g>\n<!-- selection_G9 -->\n<g id=\"node9\" class=\"node\">\n<title>selection_G9</title>\n<text text-anchor=\"middle\" x=\"234\" y=\"-338.3\" font-family=\"Times,serif\" font-size=\"14.00\">selection</text>\n</g>\n<!-- MultiplexedCSwap&#45;&gt;selection_G9 -->\n<g id=\"edge8\" class=\"edge\">\n<title>MultiplexedCSwap:e-&gt;selection_G9:w</title>\n<path fill=\"none\" stroke=\"black\" d=\"M163,-244C185.55,-244 177.29,-335.97 197.91,-341.72\"/>\n<ellipse fill=\"black\" stroke=\"black\" cx=\"199.01\" cy=\"-341.87\" rx=\"1\" ry=\"1\"/>\n<text text-anchor=\"middle\" x=\"181.5\" y=\"-298\" font-family=\"Times,serif\" font-size=\"10.00\">3</text>\n</g>\n<!-- targets_G17 -->\n<g id=\"node10\" class=\"node\">\n<title>targets_G17</title>\n<text text-anchor=\"middle\" x=\"234\" y=\"-284.3\" font-family=\"Times,serif\" font-size=\"14.00\">targets[0]</text>\n</g>\n<!-- MultiplexedCSwap&#45;&gt;targets_G17 -->\n<g id=\"edge9\" class=\"edge\">\n<title>MultiplexedCSwap:e-&gt;targets_G17:w</title>\n<path fill=\"none\" stroke=\"black\" d=\"M163,-223C195.46,-223 168.11,-284.99 197.76,-287.89\"/>\n<ellipse fill=\"black\" stroke=\"black\" cx=\"199\" cy=\"-287.95\" rx=\"1\" ry=\"1\"/>\n<text text-anchor=\"middle\" x=\"181.5\" y=\"-264\" font-family=\"Times,serif\" font-size=\"10.00\">2</text>\n</g>\n<!-- targets_G16 -->\n<g id=\"node11\" class=\"node\">\n<title>targets_G16</title>\n<text text-anchor=\"middle\" x=\"234\" y=\"-230.3\" font-family=\"Times,serif\" font-size=\"14.00\">targets[1]</text>\n</g>\n<!-- MultiplexedCSwap&#45;&gt;targets_G16 -->\n<g id=\"edge10\" class=\"edge\">\n<title>MultiplexedCSwap:e-&gt;targets_G16:w</title>\n<path fill=\"none\" stroke=\"black\" d=\"M163,-202C183.89,-202 178.72,-231.55 197.58,-233.86\"/>\n<ellipse fill=\"black\" stroke=\"black\" cx=\"199\" cy=\"-233.94\" rx=\"1\" ry=\"1\"/>\n<text text-anchor=\"middle\" x=\"181.5\" y=\"-221\" font-family=\"Times,serif\" font-size=\"10.00\">2</text>\n</g>\n<!-- targets_G0 -->\n<g id=\"node12\" class=\"node\">\n<title>targets_G0</title>\n<text text-anchor=\"middle\" x=\"234\" y=\"-176.3\" font-family=\"Times,serif\" font-size=\"14.00\">targets[2]</text>\n</g>\n<!-- MultiplexedCSwap&#45;&gt;targets_G0 -->\n<g id=\"edge11\" class=\"edge\">\n<title>MultiplexedCSwap:e-&gt;targets_G0:w</title>\n<path fill=\"none\" stroke=\"black\" d=\"M163,-180C178.67,-180 183.14,-180 197.77,-180\"/>\n<ellipse fill=\"black\" stroke=\"black\" cx=\"199\" cy=\"-180\" rx=\"1\" ry=\"1\"/>\n<text text-anchor=\"middle\" x=\"181.5\" y=\"-183\" font-family=\"Times,serif\" font-size=\"10.00\">2</text>\n</g>\n<!-- targets_G3 -->\n<g id=\"node13\" class=\"node\">\n<title>targets_G3</title>\n<text text-anchor=\"middle\" x=\"234\" y=\"-122.3\" font-family=\"Times,serif\" font-size=\"14.00\">targets[3]</text>\n</g>\n<!-- MultiplexedCSwap&#45;&gt;targets_G3 -->\n<g id=\"edge12\" class=\"edge\">\n<title>MultiplexedCSwap:e-&gt;targets_G3:w</title>\n<path fill=\"none\" stroke=\"black\" d=\"M163,-159C184.17,-159 178.47,-128.53 197.55,-126.15\"/>\n<ellipse fill=\"black\" stroke=\"black\" cx=\"199\" cy=\"-126.06\" rx=\"1\" ry=\"1\"/>\n<text text-anchor=\"middle\" x=\"181.5\" y=\"-146\" font-family=\"Times,serif\" font-size=\"10.00\">2</text>\n</g>\n<!-- targets_G7 -->\n<g id=\"node14\" class=\"node\">\n<title>targets_G7</title>\n<text text-anchor=\"middle\" x=\"234\" y=\"-68.3\" font-family=\"Times,serif\" font-size=\"14.00\">targets[4]</text>\n</g>\n<!-- MultiplexedCSwap&#45;&gt;targets_G7 -->\n<g id=\"edge13\" class=\"edge\">\n<title>MultiplexedCSwap:e-&gt;targets_G7:w</title>\n<path fill=\"none\" stroke=\"black\" d=\"M163,-138C195.84,-138 167.75,-75.06 197.74,-72.11\"/>\n<ellipse fill=\"black\" stroke=\"black\" cx=\"199\" cy=\"-72.05\" rx=\"1\" ry=\"1\"/>\n<text text-anchor=\"middle\" x=\"181.5\" y=\"-115\" font-family=\"Times,serif\" font-size=\"10.00\">2</text>\n</g>\n<!-- output_G10 -->\n<g id=\"node15\" class=\"node\">\n<title>output_G10</title>\n<text text-anchor=\"middle\" x=\"234\" y=\"-14.3\" font-family=\"Times,serif\" font-size=\"14.00\">output</text>\n</g>\n<!-- MultiplexedCSwap&#45;&gt;output_G10 -->\n<g id=\"edge14\" class=\"edge\">\n<title>MultiplexedCSwap:e-&gt;output_G10:w</title>\n<path fill=\"none\" stroke=\"black\" d=\"M163,-117C186.24,-117 182.3,-24.09 203.83,-18.28\"/>\n<ellipse fill=\"black\" stroke=\"black\" cx=\"205.01\" cy=\"-18.13\" rx=\"1\" ry=\"1\"/>\n<text text-anchor=\"middle\" x=\"181.5\" y=\"-86\" font-family=\"Times,serif\" font-size=\"10.00\">2</text>\n</g>\n</g>\n</svg>",
          "text/plain": "<IPython.core.display.SVG object>"
         },
         "metadata": {},
         "output_type": "display_data"
        }
       ],
       "tabbable": null,
       "tooltip": null
      }
     },
     "9a86da5ec0d84569999248dd67eb46c7": {
      "model_module": "@jupyter-widgets/base",
      "model_module_version": "2.0.0",
      "model_name": "LayoutModel",
      "state": {
       "_model_module": "@jupyter-widgets/base",
       "_model_module_version": "2.0.0",
       "_model_name": "LayoutModel",
       "_view_count": null,
       "_view_module": "@jupyter-widgets/base",
       "_view_module_version": "2.0.0",
       "_view_name": "LayoutView",
       "align_content": null,
       "align_items": null,
       "align_self": null,
       "border_bottom": null,
       "border_left": null,
       "border_right": null,
       "border_top": null,
       "bottom": null,
       "display": null,
       "flex": null,
       "flex_flow": null,
       "grid_area": null,
       "grid_auto_columns": null,
       "grid_auto_flow": null,
       "grid_auto_rows": null,
       "grid_column": null,
       "grid_gap": null,
       "grid_row": null,
       "grid_template_areas": null,
       "grid_template_columns": null,
       "grid_template_rows": null,
       "height": null,
       "justify_content": null,
       "justify_items": null,
       "left": null,
       "margin": null,
       "max_height": null,
       "max_width": null,
       "min_height": null,
       "min_width": null,
       "object_fit": null,
       "object_position": null,
       "order": null,
       "overflow": null,
       "padding": null,
       "right": null,
       "top": null,
       "visibility": null,
       "width": null
      }
     },
     "9cbf5a03c7e04e5c8ccd83447a8b0dad": {
      "model_module": "@jupyter-widgets/base",
      "model_module_version": "2.0.0",
      "model_name": "LayoutModel",
      "state": {
       "_model_module": "@jupyter-widgets/base",
       "_model_module_version": "2.0.0",
       "_model_name": "LayoutModel",
       "_view_count": null,
       "_view_module": "@jupyter-widgets/base",
       "_view_module_version": "2.0.0",
       "_view_name": "LayoutView",
       "align_content": null,
       "align_items": null,
       "align_self": null,
       "border_bottom": null,
       "border_left": null,
       "border_right": null,
       "border_top": null,
       "bottom": null,
       "display": null,
       "flex": null,
       "flex_flow": null,
       "grid_area": null,
       "grid_auto_columns": null,
       "grid_auto_flow": null,
       "grid_auto_rows": null,
       "grid_column": null,
       "grid_gap": null,
       "grid_row": null,
       "grid_template_areas": null,
       "grid_template_columns": null,
       "grid_template_rows": null,
       "height": null,
       "justify_content": null,
       "justify_items": null,
       "left": null,
       "margin": null,
       "max_height": null,
       "max_width": null,
       "min_height": null,
       "min_width": null,
       "object_fit": null,
       "object_position": null,
       "order": null,
       "overflow": null,
       "padding": null,
       "right": null,
       "top": null,
       "visibility": null,
       "width": null
      }
     },
     "a8f7f1fff134457a83fb0998fd6f87fd": {
      "model_module": "@jupyter-widgets/output",
      "model_module_version": "1.0.0",
      "model_name": "OutputModel",
      "state": {
       "_dom_classes": [],
       "_model_module": "@jupyter-widgets/output",
       "_model_module_version": "1.0.0",
       "_model_name": "OutputModel",
       "_view_count": null,
       "_view_module": "@jupyter-widgets/output",
       "_view_module_version": "1.0.0",
       "_view_name": "OutputView",
       "layout": "IPY_MODEL_451735c0b7aa42c0addfca93da39e141",
       "msg_id": "",
       "outputs": [
        {
         "data": {
          "text/markdown": "`swz_small`",
          "text/plain": "<IPython.core.display.Markdown object>"
         },
         "metadata": {},
         "output_type": "display_data"
        },
        {
         "data": {
          "image/svg+xml": "<svg xmlns=\"http://www.w3.org/2000/svg\" xmlns:xlink=\"http://www.w3.org/1999/xlink\" width=\"276pt\" height=\"152pt\" viewBox=\"0.00 0.00 276.00 152.00\">\n<g id=\"graph0\" class=\"graph\" transform=\"scale(1 1) rotate(0) translate(4 148)\">\n<title>my_graph</title>\n<polygon fill=\"white\" stroke=\"transparent\" points=\"-4,4 -4,-148 272,-148 272,4 -4,4\"/>\n<!-- selection_G4 -->\n<g id=\"node1\" class=\"node\">\n<title>selection_G4</title>\n<text text-anchor=\"middle\" x=\"34\" y=\"-122.3\" font-family=\"Times,serif\" font-size=\"14.00\">selection</text>\n</g>\n<!-- SwapWithZero -->\n<g id=\"node4\" class=\"node\">\n<title>SwapWithZero</title>\n<polygon fill=\"none\" stroke=\"black\" points=\"105,-104 105,-121 163,-121 163,-104 105,-104\"/>\n<text text-anchor=\"start\" x=\"110.5\" y=\"-110\" font-family=\"Times,serif\" font-size=\"10.00\">SwapWith..</text>\n<polygon fill=\"none\" stroke=\"black\" points=\"105,-83 105,-104 163,-104 163,-83 105,-83\"/>\n<text text-anchor=\"start\" x=\"109.5\" y=\"-89.8\" font-family=\"Times,serif\" font-size=\"14.00\">selection</text>\n<polygon fill=\"none\" stroke=\"black\" points=\"105,-62 105,-83 163,-83 163,-62 105,-62\"/>\n<text text-anchor=\"start\" x=\"108\" y=\"-68.8\" font-family=\"Times,serif\" font-size=\"14.00\">targets[0]</text>\n<polygon fill=\"none\" stroke=\"black\" points=\"105,-41 105,-62 163,-62 163,-41 105,-41\"/>\n<text text-anchor=\"start\" x=\"108\" y=\"-47.8\" font-family=\"Times,serif\" font-size=\"14.00\">targets[1]</text>\n</g>\n<!-- selection_G4&#45;&gt;SwapWithZero -->\n<g id=\"edge1\" class=\"edge\">\n<title>selection_G4:e-&gt;SwapWithZero:w</title>\n<path fill=\"none\" stroke=\"black\" d=\"M68,-126C88.89,-126 83.72,-96.45 102.58,-94.14\"/>\n<ellipse fill=\"black\" stroke=\"black\" cx=\"104\" cy=\"-94.06\" rx=\"1\" ry=\"1\"/>\n<text text-anchor=\"middle\" x=\"86.5\" y=\"-113\" font-family=\"Times,serif\" font-size=\"10.00\">3</text>\n</g>\n<!-- targets_G2 -->\n<g id=\"node2\" class=\"node\">\n<title>targets_G2</title>\n<text text-anchor=\"middle\" x=\"34\" y=\"-68.3\" font-family=\"Times,serif\" font-size=\"14.00\">targets[0]</text>\n</g>\n<!-- targets_G2&#45;&gt;SwapWithZero -->\n<g id=\"edge2\" class=\"edge\">\n<title>targets_G2:e-&gt;SwapWithZero:w</title>\n<path fill=\"none\" stroke=\"black\" d=\"M68,-72C83.67,-72 88.14,-72 102.77,-72\"/>\n<ellipse fill=\"black\" stroke=\"black\" cx=\"104\" cy=\"-72\" rx=\"1\" ry=\"1\"/>\n<text text-anchor=\"middle\" x=\"86.5\" y=\"-75\" font-family=\"Times,serif\" font-size=\"10.00\">2</text>\n</g>\n<!-- targets_G0 -->\n<g id=\"node3\" class=\"node\">\n<title>targets_G0</title>\n<text text-anchor=\"middle\" x=\"34\" y=\"-14.3\" font-family=\"Times,serif\" font-size=\"14.00\">targets[1]</text>\n</g>\n<!-- targets_G0&#45;&gt;SwapWithZero -->\n<g id=\"edge3\" class=\"edge\">\n<title>targets_G0:e-&gt;SwapWithZero:w</title>\n<path fill=\"none\" stroke=\"black\" d=\"M68,-18C89.17,-18 83.47,-48.47 102.55,-50.85\"/>\n<ellipse fill=\"black\" stroke=\"black\" cx=\"104\" cy=\"-50.94\" rx=\"1\" ry=\"1\"/>\n<text text-anchor=\"middle\" x=\"86.5\" y=\"-39\" font-family=\"Times,serif\" font-size=\"10.00\">2</text>\n</g>\n<!-- selection_G7 -->\n<g id=\"node5\" class=\"node\">\n<title>selection_G7</title>\n<text text-anchor=\"middle\" x=\"234\" y=\"-122.3\" font-family=\"Times,serif\" font-size=\"14.00\">selection</text>\n</g>\n<!-- SwapWithZero&#45;&gt;selection_G7 -->\n<g id=\"edge4\" class=\"edge\">\n<title>SwapWithZero:e-&gt;selection_G7:w</title>\n<path fill=\"none\" stroke=\"black\" d=\"M163,-94C183.89,-94 178.72,-123.55 197.58,-125.86\"/>\n<ellipse fill=\"black\" stroke=\"black\" cx=\"199\" cy=\"-125.94\" rx=\"1\" ry=\"1\"/>\n<text text-anchor=\"middle\" x=\"181.5\" y=\"-113\" font-family=\"Times,serif\" font-size=\"10.00\">3</text>\n</g>\n<!-- targets_G8 -->\n<g id=\"node6\" class=\"node\">\n<title>targets_G8</title>\n<text text-anchor=\"middle\" x=\"234\" y=\"-68.3\" font-family=\"Times,serif\" font-size=\"14.00\">targets[0]</text>\n</g>\n<!-- SwapWithZero&#45;&gt;targets_G8 -->\n<g id=\"edge5\" class=\"edge\">\n<title>SwapWithZero:e-&gt;targets_G8:w</title>\n<path fill=\"none\" stroke=\"black\" d=\"M163,-72C178.67,-72 183.14,-72 197.77,-72\"/>\n<ellipse fill=\"black\" stroke=\"black\" cx=\"199\" cy=\"-72\" rx=\"1\" ry=\"1\"/>\n<text text-anchor=\"middle\" x=\"181.5\" y=\"-75\" font-family=\"Times,serif\" font-size=\"10.00\">2</text>\n</g>\n<!-- targets_G6 -->\n<g id=\"node7\" class=\"node\">\n<title>targets_G6</title>\n<text text-anchor=\"middle\" x=\"234\" y=\"-14.3\" font-family=\"Times,serif\" font-size=\"14.00\">targets[1]</text>\n</g>\n<!-- SwapWithZero&#45;&gt;targets_G6 -->\n<g id=\"edge6\" class=\"edge\">\n<title>SwapWithZero:e-&gt;targets_G6:w</title>\n<path fill=\"none\" stroke=\"black\" d=\"M163,-51C184.17,-51 178.47,-20.53 197.55,-18.15\"/>\n<ellipse fill=\"black\" stroke=\"black\" cx=\"199\" cy=\"-18.06\" rx=\"1\" ry=\"1\"/>\n<text text-anchor=\"middle\" x=\"181.5\" y=\"-39\" font-family=\"Times,serif\" font-size=\"10.00\">2</text>\n</g>\n</g>\n</svg>",
          "text/plain": "<IPython.core.display.SVG object>"
         },
         "metadata": {},
         "output_type": "display_data"
        }
       ],
       "tabbable": null,
       "tooltip": null
      }
     },
     "bba113747a7843fc8900468832632af9": {
      "model_module": "@jupyter-widgets/output",
      "model_module_version": "1.0.0",
      "model_name": "OutputModel",
      "state": {
       "_dom_classes": [],
       "_model_module": "@jupyter-widgets/output",
       "_model_module_version": "1.0.0",
       "_model_name": "OutputModel",
       "_view_count": null,
       "_view_module": "@jupyter-widgets/output",
       "_view_module_version": "1.0.0",
       "_view_name": "OutputView",
       "layout": "IPY_MODEL_9cbf5a03c7e04e5c8ccd83447a8b0dad",
       "msg_id": "",
       "outputs": [
        {
         "data": {
          "text/markdown": "`cswap_small`",
          "text/plain": "<IPython.core.display.Markdown object>"
         },
         "metadata": {},
         "output_type": "display_data"
        },
        {
         "data": {
          "image/svg+xml": "<svg xmlns=\"http://www.w3.org/2000/svg\" xmlns:xlink=\"http://www.w3.org/1999/xlink\" width=\"279pt\" height=\"152pt\" viewBox=\"0.00 0.00 279.00 152.00\">\n<g id=\"graph0\" class=\"graph\" transform=\"scale(1 1) rotate(0) translate(4 148)\">\n<title>my_graph</title>\n<polygon fill=\"white\" stroke=\"transparent\" points=\"-4,4 -4,-148 275,-148 275,4 -4,4\"/>\n<!-- ctrl_G1 -->\n<g id=\"node1\" class=\"node\">\n<title>ctrl_G1</title>\n<text text-anchor=\"middle\" x=\"27\" y=\"-122.3\" font-family=\"Times,serif\" font-size=\"14.00\">ctrl</text>\n</g>\n<!-- CSwap -->\n<g id=\"node4\" class=\"node\">\n<title>CSwap</title>\n<polygon fill=\"none\" stroke=\"black\" points=\"91.5,-104 91.5,-121 180.5,-121 180.5,-104 91.5,-104\"/>\n<text text-anchor=\"start\" x=\"94.5\" y=\"-110\" font-family=\"Times,serif\" font-size=\"10.00\">$x\\leftrightarrow y$</text>\n<polygon fill=\"none\" stroke=\"black\" points=\"91.5,-83 91.5,-104 180.5,-104 180.5,-83 91.5,-83\"/>\n<text text-anchor=\"start\" x=\"126.5\" y=\"-89.8\" font-family=\"Times,serif\" font-size=\"14.00\">ctrl</text>\n<polygon fill=\"none\" stroke=\"black\" points=\"91.5,-62 91.5,-83 180.5,-83 180.5,-62 91.5,-62\"/>\n<text text-anchor=\"start\" x=\"132.5\" y=\"-68.8\" font-family=\"Times,serif\" font-size=\"14.00\">x</text>\n<polygon fill=\"none\" stroke=\"black\" points=\"91.5,-41 91.5,-62 180.5,-62 180.5,-41 91.5,-41\"/>\n<text text-anchor=\"start\" x=\"132.5\" y=\"-47.8\" font-family=\"Times,serif\" font-size=\"14.00\">y</text>\n</g>\n<!-- ctrl_G1&#45;&gt;CSwap -->\n<g id=\"edge1\" class=\"edge\">\n<title>ctrl_G1:e-&gt;CSwap:w</title>\n<path fill=\"none\" stroke=\"black\" d=\"M54,-126C74.89,-126 69.72,-96.45 88.58,-94.14\"/>\n<ellipse fill=\"black\" stroke=\"black\" cx=\"90\" cy=\"-94.06\" rx=\"1\" ry=\"1\"/>\n<text text-anchor=\"middle\" x=\"72.5\" y=\"-113\" font-family=\"Times,serif\" font-size=\"10.00\">1</text>\n</g>\n<!-- x_G7 -->\n<g id=\"node2\" class=\"node\">\n<title>x_G7</title>\n<text text-anchor=\"middle\" x=\"27\" y=\"-68.3\" font-family=\"Times,serif\" font-size=\"14.00\">x</text>\n</g>\n<!-- x_G7&#45;&gt;CSwap -->\n<g id=\"edge2\" class=\"edge\">\n<title>x_G7:e-&gt;CSwap:w</title>\n<path fill=\"none\" stroke=\"black\" d=\"M54,-72C69.67,-72 74.14,-72 88.77,-72\"/>\n<ellipse fill=\"black\" stroke=\"black\" cx=\"90\" cy=\"-72\" rx=\"1\" ry=\"1\"/>\n<text text-anchor=\"middle\" x=\"72.5\" y=\"-75\" font-family=\"Times,serif\" font-size=\"10.00\">4</text>\n</g>\n<!-- y_G2 -->\n<g id=\"node3\" class=\"node\">\n<title>y_G2</title>\n<text text-anchor=\"middle\" x=\"27\" y=\"-14.3\" font-family=\"Times,serif\" font-size=\"14.00\">y</text>\n</g>\n<!-- y_G2&#45;&gt;CSwap -->\n<g id=\"edge3\" class=\"edge\">\n<title>y_G2:e-&gt;CSwap:w</title>\n<path fill=\"none\" stroke=\"black\" d=\"M54,-18C75.17,-18 69.47,-48.47 88.55,-50.85\"/>\n<ellipse fill=\"black\" stroke=\"black\" cx=\"90\" cy=\"-50.94\" rx=\"1\" ry=\"1\"/>\n<text text-anchor=\"middle\" x=\"72.5\" y=\"-39\" font-family=\"Times,serif\" font-size=\"10.00\">4</text>\n</g>\n<!-- ctrl_G0 -->\n<g id=\"node5\" class=\"node\">\n<title>ctrl_G0</title>\n<text text-anchor=\"middle\" x=\"244\" y=\"-122.3\" font-family=\"Times,serif\" font-size=\"14.00\">ctrl</text>\n</g>\n<!-- CSwap&#45;&gt;ctrl_G0 -->\n<g id=\"edge4\" class=\"edge\">\n<title>CSwap:e-&gt;ctrl_G0:w</title>\n<path fill=\"none\" stroke=\"black\" d=\"M180,-94C200.89,-94 195.72,-123.55 214.58,-125.86\"/>\n<ellipse fill=\"black\" stroke=\"black\" cx=\"216\" cy=\"-125.94\" rx=\"1\" ry=\"1\"/>\n<text text-anchor=\"middle\" x=\"198.5\" y=\"-113\" font-family=\"Times,serif\" font-size=\"10.00\">1</text>\n</g>\n<!-- x_G8 -->\n<g id=\"node6\" class=\"node\">\n<title>x_G8</title>\n<text text-anchor=\"middle\" x=\"244\" y=\"-68.3\" font-family=\"Times,serif\" font-size=\"14.00\">x</text>\n</g>\n<!-- CSwap&#45;&gt;x_G8 -->\n<g id=\"edge5\" class=\"edge\">\n<title>CSwap:e-&gt;x_G8:w</title>\n<path fill=\"none\" stroke=\"black\" d=\"M180,-72C195.67,-72 200.14,-72 214.77,-72\"/>\n<ellipse fill=\"black\" stroke=\"black\" cx=\"216\" cy=\"-72\" rx=\"1\" ry=\"1\"/>\n<text text-anchor=\"middle\" x=\"198.5\" y=\"-75\" font-family=\"Times,serif\" font-size=\"10.00\">4</text>\n</g>\n<!-- y_G3 -->\n<g id=\"node7\" class=\"node\">\n<title>y_G3</title>\n<text text-anchor=\"middle\" x=\"244\" y=\"-14.3\" font-family=\"Times,serif\" font-size=\"14.00\">y</text>\n</g>\n<!-- CSwap&#45;&gt;y_G3 -->\n<g id=\"edge6\" class=\"edge\">\n<title>CSwap:e-&gt;y_G3:w</title>\n<path fill=\"none\" stroke=\"black\" d=\"M180,-51C201.17,-51 195.47,-20.53 214.55,-18.15\"/>\n<ellipse fill=\"black\" stroke=\"black\" cx=\"216\" cy=\"-18.06\" rx=\"1\" ry=\"1\"/>\n<text text-anchor=\"middle\" x=\"198.5\" y=\"-39\" font-family=\"Times,serif\" font-size=\"10.00\">4</text>\n</g>\n</g>\n</svg>",
          "text/plain": "<IPython.core.display.SVG object>"
         },
         "metadata": {},
         "output_type": "display_data"
        }
       ],
       "tabbable": null,
       "tooltip": null
      }
     },
     "d39b435437684c6f9c5a6d847b165f22": {
      "model_module": "@jupyter-widgets/output",
      "model_module_version": "1.0.0",
      "model_name": "OutputModel",
      "state": {
       "_dom_classes": [],
       "_model_module": "@jupyter-widgets/output",
       "_model_module_version": "1.0.0",
       "_model_name": "OutputModel",
       "_view_count": null,
       "_view_module": "@jupyter-widgets/output",
       "_view_module_version": "1.0.0",
       "_view_name": "OutputView",
       "layout": "IPY_MODEL_5546d1e83d45496ea7f1fb9f97ecb059",
       "msg_id": "",
       "outputs": [
        {
         "data": {
          "text/markdown": "`cswap_symb`",
          "text/plain": "<IPython.core.display.Markdown object>"
         },
         "metadata": {},
         "output_type": "display_data"
        },
        {
         "data": {
          "image/svg+xml": "<svg xmlns=\"http://www.w3.org/2000/svg\" xmlns:xlink=\"http://www.w3.org/1999/xlink\" width=\"279pt\" height=\"152pt\" viewBox=\"0.00 0.00 279.00 152.00\">\n<g id=\"graph0\" class=\"graph\" transform=\"scale(1 1) rotate(0) translate(4 148)\">\n<title>my_graph</title>\n<polygon fill=\"white\" stroke=\"transparent\" points=\"-4,4 -4,-148 275,-148 275,4 -4,4\"/>\n<!-- ctrl_G2 -->\n<g id=\"node1\" class=\"node\">\n<title>ctrl_G2</title>\n<text text-anchor=\"middle\" x=\"27\" y=\"-122.3\" font-family=\"Times,serif\" font-size=\"14.00\">ctrl</text>\n</g>\n<!-- CSwap -->\n<g id=\"node4\" class=\"node\">\n<title>CSwap</title>\n<polygon fill=\"none\" stroke=\"black\" points=\"91.5,-104 91.5,-121 180.5,-121 180.5,-104 91.5,-104\"/>\n<text text-anchor=\"start\" x=\"94.5\" y=\"-110\" font-family=\"Times,serif\" font-size=\"10.00\">$x\\leftrightarrow y$</text>\n<polygon fill=\"none\" stroke=\"black\" points=\"91.5,-83 91.5,-104 180.5,-104 180.5,-83 91.5,-83\"/>\n<text text-anchor=\"start\" x=\"126.5\" y=\"-89.8\" font-family=\"Times,serif\" font-size=\"14.00\">ctrl</text>\n<polygon fill=\"none\" stroke=\"black\" points=\"91.5,-62 91.5,-83 180.5,-83 180.5,-62 91.5,-62\"/>\n<text text-anchor=\"start\" x=\"132.5\" y=\"-68.8\" font-family=\"Times,serif\" font-size=\"14.00\">x</text>\n<polygon fill=\"none\" stroke=\"black\" points=\"91.5,-41 91.5,-62 180.5,-62 180.5,-41 91.5,-41\"/>\n<text text-anchor=\"start\" x=\"132.5\" y=\"-47.8\" font-family=\"Times,serif\" font-size=\"14.00\">y</text>\n</g>\n<!-- ctrl_G2&#45;&gt;CSwap -->\n<g id=\"edge1\" class=\"edge\">\n<title>ctrl_G2:e-&gt;CSwap:w</title>\n<path fill=\"none\" stroke=\"black\" d=\"M54,-126C74.89,-126 69.72,-96.45 88.58,-94.14\"/>\n<ellipse fill=\"black\" stroke=\"black\" cx=\"90\" cy=\"-94.06\" rx=\"1\" ry=\"1\"/>\n<text text-anchor=\"middle\" x=\"72.5\" y=\"-113\" font-family=\"Times,serif\" font-size=\"10.00\">1</text>\n</g>\n<!-- x_G5 -->\n<g id=\"node2\" class=\"node\">\n<title>x_G5</title>\n<text text-anchor=\"middle\" x=\"27\" y=\"-68.3\" font-family=\"Times,serif\" font-size=\"14.00\">x</text>\n</g>\n<!-- x_G5&#45;&gt;CSwap -->\n<g id=\"edge2\" class=\"edge\">\n<title>x_G5:e-&gt;CSwap:w</title>\n<path fill=\"none\" stroke=\"black\" d=\"M54,-72C69.67,-72 74.14,-72 88.77,-72\"/>\n<ellipse fill=\"black\" stroke=\"black\" cx=\"90\" cy=\"-72\" rx=\"1\" ry=\"1\"/>\n<text text-anchor=\"middle\" x=\"72.5\" y=\"-75\" font-family=\"Times,serif\" font-size=\"10.00\">n</text>\n</g>\n<!-- y_G7 -->\n<g id=\"node3\" class=\"node\">\n<title>y_G7</title>\n<text text-anchor=\"middle\" x=\"27\" y=\"-14.3\" font-family=\"Times,serif\" font-size=\"14.00\">y</text>\n</g>\n<!-- y_G7&#45;&gt;CSwap -->\n<g id=\"edge3\" class=\"edge\">\n<title>y_G7:e-&gt;CSwap:w</title>\n<path fill=\"none\" stroke=\"black\" d=\"M54,-18C75.17,-18 69.47,-48.47 88.55,-50.85\"/>\n<ellipse fill=\"black\" stroke=\"black\" cx=\"90\" cy=\"-50.94\" rx=\"1\" ry=\"1\"/>\n<text text-anchor=\"middle\" x=\"72.5\" y=\"-39\" font-family=\"Times,serif\" font-size=\"10.00\">n</text>\n</g>\n<!-- ctrl_G0 -->\n<g id=\"node5\" class=\"node\">\n<title>ctrl_G0</title>\n<text text-anchor=\"middle\" x=\"244\" y=\"-122.3\" font-family=\"Times,serif\" font-size=\"14.00\">ctrl</text>\n</g>\n<!-- CSwap&#45;&gt;ctrl_G0 -->\n<g id=\"edge4\" class=\"edge\">\n<title>CSwap:e-&gt;ctrl_G0:w</title>\n<path fill=\"none\" stroke=\"black\" d=\"M180,-94C200.89,-94 195.72,-123.55 214.58,-125.86\"/>\n<ellipse fill=\"black\" stroke=\"black\" cx=\"216\" cy=\"-125.94\" rx=\"1\" ry=\"1\"/>\n<text text-anchor=\"middle\" x=\"198.5\" y=\"-113\" font-family=\"Times,serif\" font-size=\"10.00\">1</text>\n</g>\n<!-- x_G4 -->\n<g id=\"node6\" class=\"node\">\n<title>x_G4</title>\n<text text-anchor=\"middle\" x=\"244\" y=\"-68.3\" font-family=\"Times,serif\" font-size=\"14.00\">x</text>\n</g>\n<!-- CSwap&#45;&gt;x_G4 -->\n<g id=\"edge5\" class=\"edge\">\n<title>CSwap:e-&gt;x_G4:w</title>\n<path fill=\"none\" stroke=\"black\" d=\"M180,-72C195.67,-72 200.14,-72 214.77,-72\"/>\n<ellipse fill=\"black\" stroke=\"black\" cx=\"216\" cy=\"-72\" rx=\"1\" ry=\"1\"/>\n<text text-anchor=\"middle\" x=\"198.5\" y=\"-75\" font-family=\"Times,serif\" font-size=\"10.00\">n</text>\n</g>\n<!-- y_G6 -->\n<g id=\"node7\" class=\"node\">\n<title>y_G6</title>\n<text text-anchor=\"middle\" x=\"244\" y=\"-14.3\" font-family=\"Times,serif\" font-size=\"14.00\">y</text>\n</g>\n<!-- CSwap&#45;&gt;y_G6 -->\n<g id=\"edge6\" class=\"edge\">\n<title>CSwap:e-&gt;y_G6:w</title>\n<path fill=\"none\" stroke=\"black\" d=\"M180,-51C201.17,-51 195.47,-20.53 214.55,-18.15\"/>\n<ellipse fill=\"black\" stroke=\"black\" cx=\"216\" cy=\"-18.06\" rx=\"1\" ry=\"1\"/>\n<text text-anchor=\"middle\" x=\"198.5\" y=\"-39\" font-family=\"Times,serif\" font-size=\"10.00\">n</text>\n</g>\n</g>\n</svg>",
          "text/plain": "<IPython.core.display.SVG object>"
         },
         "metadata": {},
         "output_type": "display_data"
        }
       ],
       "tabbable": null,
       "tooltip": null
      }
     }
    },
    "version_major": 2,
    "version_minor": 0
   }
  }
 },
 "nbformat": 4,
 "nbformat_minor": 5
}
