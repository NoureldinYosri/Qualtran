{
 "cells": [
  {
   "cell_type": "markdown",
   "id": "e71b133e",
   "metadata": {
    "cq.autogen": "title_cell"
   },
   "source": [
    "# Swap Network\n",
    "\n",
    "Functionality for moving data between registers (swapping)."
   ]
  },
  {
   "cell_type": "code",
   "execution_count": 1,
   "id": "67c52313",
   "metadata": {
    "cq.autogen": "top_imports",
    "execution": {
     "iopub.execute_input": "2023-10-30T23:24:50.840287Z",
     "iopub.status.busy": "2023-10-30T23:24:50.840016Z",
     "iopub.status.idle": "2023-10-30T23:24:51.871004Z",
     "shell.execute_reply": "2023-10-30T23:24:51.870705Z"
    }
   },
   "outputs": [],
   "source": [
    "from qualtran import Bloq, CompositeBloq, BloqBuilder, Signature, Register\n",
    "from qualtran.drawing import show_bloq\n",
    "from typing import *\n",
    "import numpy as np"
   ]
  },
  {
   "cell_type": "markdown",
   "id": "9a2e8a29",
   "metadata": {
    "cq.autogen": "CSwap.bloq_doc.md"
   },
   "source": [
    "## `CSwap`\n",
    "Swap two registers controlled on a control bit.\n",
    "\n",
    "Implements a multi-target controlled swap unitary $CSWAP_n = |0><0| I + |1><1| SWAP_n$.\n",
    "\n",
    "This decomposes into a qubitwise SWAP on the two target registers, and takes $14n$ T-gates.\n",
    "\n",
    "#### Parameters\n",
    " - `bitsize`: The bitsize of each of the two registers being swapped. \n",
    "\n",
    "#### Registers\n",
    " - `ctrl`: the control bit\n",
    " - `x`: the first register\n",
    " - `y`: the second register\n"
   ]
  },
  {
   "cell_type": "code",
   "execution_count": 2,
   "id": "2fc287a9",
   "metadata": {
    "cq.autogen": "CSwap.bloq_doc.py",
    "execution": {
     "iopub.execute_input": "2023-10-30T23:24:51.873073Z",
     "iopub.status.busy": "2023-10-30T23:24:51.872867Z",
     "iopub.status.idle": "2023-10-30T23:24:52.680096Z",
     "shell.execute_reply": "2023-10-30T23:24:52.679805Z"
    }
   },
   "outputs": [
    {
     "name": "stderr",
     "output_type": "stream",
     "text": [
      "OMP: Info #276: omp_set_nested routine deprecated, please use omp_set_max_active_levels instead.\n"
     ]
    }
   ],
   "source": [
    "from qualtran.bloqs.basic_gates import CSwap"
   ]
  },
  {
   "cell_type": "markdown",
   "id": "fa8b3b02",
   "metadata": {
    "cq.autogen": "CSwap.example_instances.md"
   },
   "source": [
    "### Example Instances"
   ]
  },
  {
   "cell_type": "code",
   "execution_count": 3,
   "id": "6b9600e8",
   "metadata": {
    "cq.autogen": "CSwap.cswap_symb",
    "execution": {
     "iopub.execute_input": "2023-10-30T23:24:52.681896Z",
     "iopub.status.busy": "2023-10-30T23:24:52.681810Z",
     "iopub.status.idle": "2023-10-30T23:24:52.683981Z",
     "shell.execute_reply": "2023-10-30T23:24:52.683720Z"
    }
   },
   "outputs": [],
   "source": [
    "# A symbolic version. The bitsize is the symbol 'n'.\n",
    "from sympy import sympify\n",
    "\n",
    "cswap_symb = CSwap(bitsize=sympify('n'))"
   ]
  },
  {
   "cell_type": "code",
   "execution_count": 4,
   "id": "745afb32",
   "metadata": {
    "cq.autogen": "CSwap.cswap_small",
    "execution": {
     "iopub.execute_input": "2023-10-30T23:24:52.685417Z",
     "iopub.status.busy": "2023-10-30T23:24:52.685314Z",
     "iopub.status.idle": "2023-10-30T23:24:52.686946Z",
     "shell.execute_reply": "2023-10-30T23:24:52.686722Z"
    }
   },
   "outputs": [],
   "source": [
    "# A small version on four bits.\n",
    "cswap_small = CSwap(bitsize=4)"
   ]
  },
  {
   "cell_type": "code",
   "execution_count": 5,
   "id": "a5bac02b",
   "metadata": {
    "cq.autogen": "CSwap.cswap_large",
    "execution": {
     "iopub.execute_input": "2023-10-30T23:24:52.688275Z",
     "iopub.status.busy": "2023-10-30T23:24:52.688199Z",
     "iopub.status.idle": "2023-10-30T23:24:52.689915Z",
     "shell.execute_reply": "2023-10-30T23:24:52.689660Z"
    }
   },
   "outputs": [],
   "source": [
    "# A large version that swaps 64-bit registers.\n",
    "cswap_large = CSwap(bitsize=64)"
   ]
  },
  {
   "cell_type": "markdown",
   "id": "70b14690",
   "metadata": {
    "cq.autogen": "CSwap.graphical_signature.md"
   },
   "source": [
    "#### Graphical Signature"
   ]
  },
  {
   "cell_type": "code",
   "execution_count": 6,
   "id": "c4ad9f12",
   "metadata": {
    "cq.autogen": "CSwap.graphical_signature.py",
    "execution": {
     "iopub.execute_input": "2023-10-30T23:24:52.691384Z",
     "iopub.status.busy": "2023-10-30T23:24:52.691299Z",
     "iopub.status.idle": "2023-10-30T23:24:52.890854Z",
     "shell.execute_reply": "2023-10-30T23:24:52.890491Z"
    }
   },
   "outputs": [
    {
     "data": {
      "application/vnd.jupyter.widget-view+json": {
       "model_id": "24bdc1b04ef346d3bae941d618e77ad1",
       "version_major": 2,
       "version_minor": 0
      },
      "text/plain": [
       "HBox(children=(Output(outputs=({'output_type': 'display_data', 'data': {'text/plain': '<IPython.core.display.M…"
      ]
     },
     "metadata": {},
     "output_type": "display_data"
    }
   ],
   "source": [
    "from qualtran.drawing import show_bloqs\n",
    "show_bloqs([cswap_symb, cswap_small, cswap_large],\n",
    "           ['`cswap_symb`', '`cswap_small`', '`cswap_large`'])"
   ]
  },
  {
   "cell_type": "markdown",
   "id": "c4d14510",
   "metadata": {
    "cq.autogen": "CSwapApprox.bloq_doc.md"
   },
   "source": [
    "## `CSwapApprox`\n",
    "Approximately implements a multi-target controlled swap unitary using only $4n$ T-gates.\n",
    "\n",
    "Implements $\\mathrm{CSWAP}_n = |0 \\rangle\\langle 0| I + |1 \\rangle\\langle 1| \\mathrm{SWAP}_n$\n",
    "such that the output state is correct up to a global phase factor of +1 / -1.\n",
    "\n",
    "This is useful when the incorrect phase can be absorbed in a garbage state of an algorithm\n",
    "and thus ignored. See the reference for more details.\n",
    "\n",
    "#### Parameters\n",
    " - `bitsize`: The bitsize of the two registers being swapped. \n",
    "\n",
    "#### Registers\n",
    " - `ctrl`: the control bit\n",
    " - `x`: the first register\n",
    " - `y`: the second register \n",
    "\n",
    "#### References\n",
    "[Trading T-gates for dirty qubits in state preparation and unitary synthesis](https://arxiv.org/abs/1812.00954). Low et. al. 2018. See Appendix B.2.c.\n"
   ]
  },
  {
   "cell_type": "code",
   "execution_count": 7,
   "id": "d06c484e",
   "metadata": {
    "cq.autogen": "CSwapApprox.bloq_doc.py",
    "execution": {
     "iopub.execute_input": "2023-10-30T23:24:52.892753Z",
     "iopub.status.busy": "2023-10-30T23:24:52.892621Z",
     "iopub.status.idle": "2023-10-30T23:24:52.900174Z",
     "shell.execute_reply": "2023-10-30T23:24:52.899916Z"
    }
   },
   "outputs": [],
   "source": [
    "from qualtran.bloqs.swap_network import CSwapApprox"
   ]
  },
  {
   "cell_type": "markdown",
   "id": "c84a60b4",
   "metadata": {
    "cq.autogen": "CSwapApprox.example_instances.md"
   },
   "source": [
    "### Example Instances"
   ]
  },
  {
   "cell_type": "code",
   "execution_count": 8,
   "id": "6e3ad9fb",
   "metadata": {
    "cq.autogen": "CSwapApprox.approx_cswap_symb",
    "execution": {
     "iopub.execute_input": "2023-10-30T23:24:52.901799Z",
     "iopub.status.busy": "2023-10-30T23:24:52.901712Z",
     "iopub.status.idle": "2023-10-30T23:24:52.904286Z",
     "shell.execute_reply": "2023-10-30T23:24:52.904017Z"
    }
   },
   "outputs": [],
   "source": [
    "# A symbolic version. The bitsize is the symbol 'n'.\n",
    "from sympy import sympify\n",
    "\n",
    "approx_cswap_symb = CSwapApprox(bitsize=sympify('n'))"
   ]
  },
  {
   "cell_type": "code",
   "execution_count": 9,
   "id": "a84e60be",
   "metadata": {
    "cq.autogen": "CSwapApprox.approx_cswap_small",
    "execution": {
     "iopub.execute_input": "2023-10-30T23:24:52.905759Z",
     "iopub.status.busy": "2023-10-30T23:24:52.905676Z",
     "iopub.status.idle": "2023-10-30T23:24:52.907581Z",
     "shell.execute_reply": "2023-10-30T23:24:52.907323Z"
    }
   },
   "outputs": [],
   "source": [
    "# A small version on four bits.\n",
    "approx_cswap_small = CSwapApprox(bitsize=4)"
   ]
  },
  {
   "cell_type": "code",
   "execution_count": 10,
   "id": "c9b806da",
   "metadata": {
    "cq.autogen": "CSwapApprox.approx_cswap_large",
    "execution": {
     "iopub.execute_input": "2023-10-30T23:24:52.908944Z",
     "iopub.status.busy": "2023-10-30T23:24:52.908863Z",
     "iopub.status.idle": "2023-10-30T23:24:52.910606Z",
     "shell.execute_reply": "2023-10-30T23:24:52.910380Z"
    }
   },
   "outputs": [],
   "source": [
    "# A large version that swaps 64-bit registers.\n",
    "approx_cswap_large = CSwapApprox(bitsize=64)"
   ]
  },
  {
   "cell_type": "markdown",
   "id": "d761ec04",
   "metadata": {
    "cq.autogen": "CSwapApprox.graphical_signature.md"
   },
   "source": [
    "#### Graphical Signature"
   ]
  },
  {
   "cell_type": "code",
   "execution_count": 11,
   "id": "b5202f4c",
   "metadata": {
    "cq.autogen": "CSwapApprox.graphical_signature.py",
    "execution": {
     "iopub.execute_input": "2023-10-30T23:24:52.912023Z",
     "iopub.status.busy": "2023-10-30T23:24:52.911946Z",
     "iopub.status.idle": "2023-10-30T23:24:53.110799Z",
     "shell.execute_reply": "2023-10-30T23:24:53.110479Z"
    }
   },
   "outputs": [
    {
     "data": {
      "application/vnd.jupyter.widget-view+json": {
       "model_id": "bfa1ba067bca40318e190103500bf865",
       "version_major": 2,
       "version_minor": 0
      },
      "text/plain": [
       "HBox(children=(Output(outputs=({'output_type': 'display_data', 'data': {'text/plain': '<IPython.core.display.M…"
      ]
     },
     "metadata": {},
     "output_type": "display_data"
    }
   ],
   "source": [
    "from qualtran.drawing import show_bloqs\n",
    "show_bloqs([approx_cswap_symb, approx_cswap_small, approx_cswap_large],\n",
    "           ['`approx_cswap_symb`', '`approx_cswap_small`', '`approx_cswap_large`'])"
   ]
  },
  {
   "cell_type": "markdown",
   "id": "0697fe71",
   "metadata": {
    "cq.autogen": "SwapWithZero.bloq_doc.md"
   },
   "source": [
    "## `SwapWithZero`\n",
    "Swaps |Psi_0> with |Psi_x> if selection register stores index `x`.\n",
    "\n",
    "Implements the unitary U |x> |Psi_0> |Psi_1> ... |Psi_{n-1}> --> |x> |Psi_x> |Rest of Psi>.\n",
    "Note that the state of `|Rest of Psi>` is allowed to be anything and should not be depended\n",
    "upon.\n",
    "\n",
    "#### References\n",
    "[Trading T-gates for dirty qubits in state preparation and unitary synthesis] (https://arxiv.org/abs/1812.00954). Low, Kliuchnikov, Schaeffer. 2018.\n"
   ]
  },
  {
   "cell_type": "code",
   "execution_count": 12,
   "id": "8e68c8ee",
   "metadata": {
    "cq.autogen": "SwapWithZero.bloq_doc.py",
    "execution": {
     "iopub.execute_input": "2023-10-30T23:24:53.112549Z",
     "iopub.status.busy": "2023-10-30T23:24:53.112426Z",
     "iopub.status.idle": "2023-10-30T23:24:53.114361Z",
     "shell.execute_reply": "2023-10-30T23:24:53.114136Z"
    }
   },
   "outputs": [],
   "source": [
    "from qualtran.bloqs.swap_network import SwapWithZero"
   ]
  },
  {
   "cell_type": "markdown",
   "id": "cf2ee142",
   "metadata": {
    "cq.autogen": "SwapWithZero.example_instances.md"
   },
   "source": [
    "### Example Instances"
   ]
  },
  {
   "cell_type": "code",
   "execution_count": 13,
   "id": "53b5d9ce",
   "metadata": {
    "cq.autogen": "SwapWithZero.swz_small",
    "execution": {
     "iopub.execute_input": "2023-10-30T23:24:53.116042Z",
     "iopub.status.busy": "2023-10-30T23:24:53.115949Z",
     "iopub.status.idle": "2023-10-30T23:24:53.117640Z",
     "shell.execute_reply": "2023-10-30T23:24:53.117368Z"
    }
   },
   "outputs": [],
   "source": [
    "# A small version on four bits.\n",
    "swz_small = SwapWithZero(selection_bitsize=3, target_bitsize=2, n_target_registers=2)"
   ]
  },
  {
   "cell_type": "markdown",
   "id": "d8f18107",
   "metadata": {
    "cq.autogen": "SwapWithZero.graphical_signature.md"
   },
   "source": [
    "#### Graphical Signature"
   ]
  },
  {
   "cell_type": "code",
   "execution_count": 14,
   "id": "ad7b860d",
   "metadata": {
    "cq.autogen": "SwapWithZero.graphical_signature.py",
    "execution": {
     "iopub.execute_input": "2023-10-30T23:24:53.119010Z",
     "iopub.status.busy": "2023-10-30T23:24:53.118931Z",
     "iopub.status.idle": "2023-10-30T23:24:53.182245Z",
     "shell.execute_reply": "2023-10-30T23:24:53.181894Z"
    }
   },
   "outputs": [
    {
     "data": {
      "application/vnd.jupyter.widget-view+json": {
       "model_id": "3119f014fb9d432cb09c5216309d867a",
       "version_major": 2,
       "version_minor": 0
      },
      "text/plain": [
       "HBox(children=(Output(outputs=({'output_type': 'display_data', 'data': {'text/plain': '<IPython.core.display.M…"
      ]
     },
     "metadata": {},
     "output_type": "display_data"
    }
   ],
   "source": [
    "from qualtran.drawing import show_bloqs\n",
    "show_bloqs([swz_small],\n",
    "           ['`swz_small`'])"
   ]
  }
 ],
 "metadata": {
  "kernelspec": {
   "display_name": "Python 3 (ipykernel)",
   "language": "python",
   "name": "python3"
  },
  "language_info": {
   "codemirror_mode": {
    "name": "ipython",
    "version": 3
   },
   "file_extension": ".py",
   "mimetype": "text/x-python",
   "name": "python",
   "nbconvert_exporter": "python",
   "pygments_lexer": "ipython3",
   "version": "3.10.9"
  },
  "widgets": {
   "application/vnd.jupyter.widget-state+json": {
    "state": {
     "0cbc8d44b09b413f883a26db7989462a": {
      "model_module": "@jupyter-widgets/base",
      "model_module_version": "2.0.0",
      "model_name": "LayoutModel",
      "state": {
       "_model_module": "@jupyter-widgets/base",
       "_model_module_version": "2.0.0",
       "_model_name": "LayoutModel",
       "_view_count": null,
       "_view_module": "@jupyter-widgets/base",
       "_view_module_version": "2.0.0",
       "_view_name": "LayoutView",
       "align_content": null,
       "align_items": null,
       "align_self": null,
       "border_bottom": null,
       "border_left": null,
       "border_right": null,
       "border_top": null,
       "bottom": null,
       "display": null,
       "flex": null,
       "flex_flow": null,
       "grid_area": null,
       "grid_auto_columns": null,
       "grid_auto_flow": null,
       "grid_auto_rows": null,
       "grid_column": null,
       "grid_gap": null,
       "grid_row": null,
       "grid_template_areas": null,
       "grid_template_columns": null,
       "grid_template_rows": null,
       "height": null,
       "justify_content": null,
       "justify_items": null,
       "left": null,
       "margin": null,
       "max_height": null,
       "max_width": null,
       "min_height": null,
       "min_width": null,
       "object_fit": null,
       "object_position": null,
       "order": null,
       "overflow": null,
       "padding": null,
       "right": null,
       "top": null,
       "visibility": null,
       "width": null
      }
     },
     "18ded24527cd4a1db24268eb203ec4cb": {
      "model_module": "@jupyter-widgets/base",
      "model_module_version": "2.0.0",
      "model_name": "LayoutModel",
      "state": {
       "_model_module": "@jupyter-widgets/base",
       "_model_module_version": "2.0.0",
       "_model_name": "LayoutModel",
       "_view_count": null,
       "_view_module": "@jupyter-widgets/base",
       "_view_module_version": "2.0.0",
       "_view_name": "LayoutView",
       "align_content": null,
       "align_items": null,
       "align_self": null,
       "border_bottom": null,
       "border_left": null,
       "border_right": null,
       "border_top": null,
       "bottom": null,
       "display": null,
       "flex": null,
       "flex_flow": null,
       "grid_area": null,
       "grid_auto_columns": null,
       "grid_auto_flow": null,
       "grid_auto_rows": null,
       "grid_column": null,
       "grid_gap": null,
       "grid_row": null,
       "grid_template_areas": null,
       "grid_template_columns": null,
       "grid_template_rows": null,
       "height": null,
       "justify_content": null,
       "justify_items": null,
       "left": null,
       "margin": null,
       "max_height": null,
       "max_width": null,
       "min_height": null,
       "min_width": null,
       "object_fit": null,
       "object_position": null,
       "order": null,
       "overflow": null,
       "padding": null,
       "right": null,
       "top": null,
       "visibility": null,
       "width": null
      }
     },
     "1e68eade137d415a9e75b5a7d643e95c": {
      "model_module": "@jupyter-widgets/base",
      "model_module_version": "2.0.0",
      "model_name": "LayoutModel",
      "state": {
       "_model_module": "@jupyter-widgets/base",
       "_model_module_version": "2.0.0",
       "_model_name": "LayoutModel",
       "_view_count": null,
       "_view_module": "@jupyter-widgets/base",
       "_view_module_version": "2.0.0",
       "_view_name": "LayoutView",
       "align_content": null,
       "align_items": null,
       "align_self": null,
       "border_bottom": null,
       "border_left": null,
       "border_right": null,
       "border_top": null,
       "bottom": null,
       "display": null,
       "flex": null,
       "flex_flow": null,
       "grid_area": null,
       "grid_auto_columns": null,
       "grid_auto_flow": null,
       "grid_auto_rows": null,
       "grid_column": null,
       "grid_gap": null,
       "grid_row": null,
       "grid_template_areas": null,
       "grid_template_columns": null,
       "grid_template_rows": null,
       "height": null,
       "justify_content": null,
       "justify_items": null,
       "left": null,
       "margin": null,
       "max_height": null,
       "max_width": null,
       "min_height": null,
       "min_width": null,
       "object_fit": null,
       "object_position": null,
       "order": null,
       "overflow": null,
       "padding": null,
       "right": null,
       "top": null,
       "visibility": null,
       "width": null
      }
     },
     "1f7cc7914f4b43ce8c090cf182f9c87e": {
      "model_module": "@jupyter-widgets/output",
      "model_module_version": "1.0.0",
      "model_name": "OutputModel",
      "state": {
       "_dom_classes": [],
       "_model_module": "@jupyter-widgets/output",
       "_model_module_version": "1.0.0",
       "_model_name": "OutputModel",
       "_view_count": null,
       "_view_module": "@jupyter-widgets/output",
       "_view_module_version": "1.0.0",
       "_view_name": "OutputView",
       "layout": "IPY_MODEL_0cbc8d44b09b413f883a26db7989462a",
       "msg_id": "",
       "outputs": [
        {
         "data": {
          "text/markdown": "`swz_small`",
          "text/plain": "<IPython.core.display.Markdown object>"
         },
         "metadata": {},
         "output_type": "display_data"
        },
        {
         "data": {
          "image/svg+xml": "<svg xmlns=\"http://www.w3.org/2000/svg\" xmlns:xlink=\"http://www.w3.org/1999/xlink\" width=\"276pt\" height=\"152pt\" viewBox=\"0.00 0.00 276.00 152.00\">\n<g id=\"graph0\" class=\"graph\" transform=\"scale(1 1) rotate(0) translate(4 148)\">\n<title>my_graph</title>\n<polygon fill=\"white\" stroke=\"none\" points=\"-4,4 -4,-148 272,-148 272,4 -4,4\"/>\n<!-- selection_G1 -->\n<g id=\"node1\" class=\"node\">\n<title>selection_G1</title>\n<text text-anchor=\"middle\" x=\"34\" y=\"-122.3\" font-family=\"Times,serif\" font-size=\"14.00\">selection</text>\n</g>\n<!-- SwapWithZero -->\n<g id=\"node4\" class=\"node\">\n<title>SwapWithZero</title>\n<polygon fill=\"none\" stroke=\"black\" points=\"105,-104 105,-121 163,-121 163,-104 105,-104\"/>\n<text text-anchor=\"start\" x=\"110.5\" y=\"-110\" font-family=\"Times,serif\" font-size=\"10.00\">SwapWith..</text>\n<polygon fill=\"none\" stroke=\"black\" points=\"105,-83 105,-104 163,-104 163,-83 105,-83\"/>\n<text text-anchor=\"start\" x=\"109.5\" y=\"-89.8\" font-family=\"Times,serif\" font-size=\"14.00\">selection</text>\n<polygon fill=\"none\" stroke=\"black\" points=\"105,-62 105,-83 163,-83 163,-62 105,-62\"/>\n<text text-anchor=\"start\" x=\"108\" y=\"-68.8\" font-family=\"Times,serif\" font-size=\"14.00\">targets[0]</text>\n<polygon fill=\"none\" stroke=\"black\" points=\"105,-41 105,-62 163,-62 163,-41 105,-41\"/>\n<text text-anchor=\"start\" x=\"108\" y=\"-47.8\" font-family=\"Times,serif\" font-size=\"14.00\">targets[1]</text>\n</g>\n<!-- selection_G1&#45;&gt;SwapWithZero -->\n<g id=\"edge1\" class=\"edge\">\n<title>selection_G1:e-&gt;SwapWithZero:w</title>\n<path fill=\"none\" stroke=\"black\" d=\"M68,-126C88.89,-126 83.72,-96.45 102.58,-94.14\"/>\n<ellipse fill=\"black\" stroke=\"black\" cx=\"104\" cy=\"-94.06\" rx=\"1\" ry=\"1\"/>\n<text text-anchor=\"middle\" x=\"86.5\" y=\"-113\" font-family=\"Times,serif\" font-size=\"10.00\">3</text>\n</g>\n<!-- targets_G2 -->\n<g id=\"node2\" class=\"node\">\n<title>targets_G2</title>\n<text text-anchor=\"middle\" x=\"34\" y=\"-68.3\" font-family=\"Times,serif\" font-size=\"14.00\">targets[0]</text>\n</g>\n<!-- targets_G2&#45;&gt;SwapWithZero -->\n<g id=\"edge2\" class=\"edge\">\n<title>targets_G2:e-&gt;SwapWithZero:w</title>\n<path fill=\"none\" stroke=\"black\" d=\"M68,-72C83.67,-72 88.14,-72 102.77,-72\"/>\n<ellipse fill=\"black\" stroke=\"black\" cx=\"104\" cy=\"-72\" rx=\"1\" ry=\"1\"/>\n<text text-anchor=\"middle\" x=\"86.5\" y=\"-75\" font-family=\"Times,serif\" font-size=\"10.00\">2</text>\n</g>\n<!-- targets_G7 -->\n<g id=\"node3\" class=\"node\">\n<title>targets_G7</title>\n<text text-anchor=\"middle\" x=\"34\" y=\"-14.3\" font-family=\"Times,serif\" font-size=\"14.00\">targets[1]</text>\n</g>\n<!-- targets_G7&#45;&gt;SwapWithZero -->\n<g id=\"edge3\" class=\"edge\">\n<title>targets_G7:e-&gt;SwapWithZero:w</title>\n<path fill=\"none\" stroke=\"black\" d=\"M68,-18C89.17,-18 83.47,-48.47 102.55,-50.85\"/>\n<ellipse fill=\"black\" stroke=\"black\" cx=\"104\" cy=\"-50.94\" rx=\"1\" ry=\"1\"/>\n<text text-anchor=\"middle\" x=\"86.5\" y=\"-39\" font-family=\"Times,serif\" font-size=\"10.00\">2</text>\n</g>\n<!-- selection_G8 -->\n<g id=\"node5\" class=\"node\">\n<title>selection_G8</title>\n<text text-anchor=\"middle\" x=\"234\" y=\"-122.3\" font-family=\"Times,serif\" font-size=\"14.00\">selection</text>\n</g>\n<!-- SwapWithZero&#45;&gt;selection_G8 -->\n<g id=\"edge4\" class=\"edge\">\n<title>SwapWithZero:e-&gt;selection_G8:w</title>\n<path fill=\"none\" stroke=\"black\" d=\"M163,-94C183.89,-94 178.72,-123.55 197.58,-125.86\"/>\n<ellipse fill=\"black\" stroke=\"black\" cx=\"199\" cy=\"-125.94\" rx=\"1\" ry=\"1\"/>\n<text text-anchor=\"middle\" x=\"181.5\" y=\"-113\" font-family=\"Times,serif\" font-size=\"10.00\">3</text>\n</g>\n<!-- targets_G6 -->\n<g id=\"node6\" class=\"node\">\n<title>targets_G6</title>\n<text text-anchor=\"middle\" x=\"234\" y=\"-68.3\" font-family=\"Times,serif\" font-size=\"14.00\">targets[0]</text>\n</g>\n<!-- SwapWithZero&#45;&gt;targets_G6 -->\n<g id=\"edge5\" class=\"edge\">\n<title>SwapWithZero:e-&gt;targets_G6:w</title>\n<path fill=\"none\" stroke=\"black\" d=\"M163,-72C178.67,-72 183.14,-72 197.77,-72\"/>\n<ellipse fill=\"black\" stroke=\"black\" cx=\"199\" cy=\"-72\" rx=\"1\" ry=\"1\"/>\n<text text-anchor=\"middle\" x=\"181.5\" y=\"-75\" font-family=\"Times,serif\" font-size=\"10.00\">2</text>\n</g>\n<!-- targets_G5 -->\n<g id=\"node7\" class=\"node\">\n<title>targets_G5</title>\n<text text-anchor=\"middle\" x=\"234\" y=\"-14.3\" font-family=\"Times,serif\" font-size=\"14.00\">targets[1]</text>\n</g>\n<!-- SwapWithZero&#45;&gt;targets_G5 -->\n<g id=\"edge6\" class=\"edge\">\n<title>SwapWithZero:e-&gt;targets_G5:w</title>\n<path fill=\"none\" stroke=\"black\" d=\"M163,-51C184.17,-51 178.47,-20.53 197.55,-18.15\"/>\n<ellipse fill=\"black\" stroke=\"black\" cx=\"199\" cy=\"-18.06\" rx=\"1\" ry=\"1\"/>\n<text text-anchor=\"middle\" x=\"181.5\" y=\"-39\" font-family=\"Times,serif\" font-size=\"10.00\">2</text>\n</g>\n</g>\n</svg>",
          "text/plain": "<IPython.core.display.SVG object>"
         },
         "metadata": {},
         "output_type": "display_data"
        }
       ],
       "tabbable": null,
       "tooltip": null
      }
     },
     "24bdc1b04ef346d3bae941d618e77ad1": {
      "model_module": "@jupyter-widgets/controls",
      "model_module_version": "2.0.0",
      "model_name": "HBoxModel",
      "state": {
       "_dom_classes": [],
       "_model_module": "@jupyter-widgets/controls",
       "_model_module_version": "2.0.0",
       "_model_name": "HBoxModel",
       "_view_count": null,
       "_view_module": "@jupyter-widgets/controls",
       "_view_module_version": "2.0.0",
       "_view_name": "HBoxView",
       "box_style": "",
       "children": [
        "IPY_MODEL_7bd2552977744cf0a4834dccd33b050a",
        "IPY_MODEL_c15f0510eb26461cb0ff4a1c07f7ac4f",
        "IPY_MODEL_809dc2b2a6784bef86aa06d839a8f240"
       ],
       "layout": "IPY_MODEL_1e68eade137d415a9e75b5a7d643e95c",
       "tabbable": null,
       "tooltip": null
      }
     },
     "2ac299819b994613b0147d12bcd9c5cc": {
      "model_module": "@jupyter-widgets/base",
      "model_module_version": "2.0.0",
      "model_name": "LayoutModel",
      "state": {
       "_model_module": "@jupyter-widgets/base",
       "_model_module_version": "2.0.0",
       "_model_name": "LayoutModel",
       "_view_count": null,
       "_view_module": "@jupyter-widgets/base",
       "_view_module_version": "2.0.0",
       "_view_name": "LayoutView",
       "align_content": null,
       "align_items": null,
       "align_self": null,
       "border_bottom": null,
       "border_left": null,
       "border_right": null,
       "border_top": null,
       "bottom": null,
       "display": null,
       "flex": null,
       "flex_flow": null,
       "grid_area": null,
       "grid_auto_columns": null,
       "grid_auto_flow": null,
       "grid_auto_rows": null,
       "grid_column": null,
       "grid_gap": null,
       "grid_row": null,
       "grid_template_areas": null,
       "grid_template_columns": null,
       "grid_template_rows": null,
       "height": null,
       "justify_content": null,
       "justify_items": null,
       "left": null,
       "margin": null,
       "max_height": null,
       "max_width": null,
       "min_height": null,
       "min_width": null,
       "object_fit": null,
       "object_position": null,
       "order": null,
       "overflow": null,
       "padding": null,
       "right": null,
       "top": null,
       "visibility": null,
       "width": null
      }
     },
     "3119f014fb9d432cb09c5216309d867a": {
      "model_module": "@jupyter-widgets/controls",
      "model_module_version": "2.0.0",
      "model_name": "HBoxModel",
      "state": {
       "_dom_classes": [],
       "_model_module": "@jupyter-widgets/controls",
       "_model_module_version": "2.0.0",
       "_model_name": "HBoxModel",
       "_view_count": null,
       "_view_module": "@jupyter-widgets/controls",
       "_view_module_version": "2.0.0",
       "_view_name": "HBoxView",
       "box_style": "",
       "children": [
        "IPY_MODEL_1f7cc7914f4b43ce8c090cf182f9c87e"
       ],
       "layout": "IPY_MODEL_60847025ee644bc3b383a5046d4d9bb0",
       "tabbable": null,
       "tooltip": null
      }
     },
     "354f6094359d4b25819df38747246e20": {
      "model_module": "@jupyter-widgets/base",
      "model_module_version": "2.0.0",
      "model_name": "LayoutModel",
      "state": {
       "_model_module": "@jupyter-widgets/base",
       "_model_module_version": "2.0.0",
       "_model_name": "LayoutModel",
       "_view_count": null,
       "_view_module": "@jupyter-widgets/base",
       "_view_module_version": "2.0.0",
       "_view_name": "LayoutView",
       "align_content": null,
       "align_items": null,
       "align_self": null,
       "border_bottom": null,
       "border_left": null,
       "border_right": null,
       "border_top": null,
       "bottom": null,
       "display": null,
       "flex": null,
       "flex_flow": null,
       "grid_area": null,
       "grid_auto_columns": null,
       "grid_auto_flow": null,
       "grid_auto_rows": null,
       "grid_column": null,
       "grid_gap": null,
       "grid_row": null,
       "grid_template_areas": null,
       "grid_template_columns": null,
       "grid_template_rows": null,
       "height": null,
       "justify_content": null,
       "justify_items": null,
       "left": null,
       "margin": null,
       "max_height": null,
       "max_width": null,
       "min_height": null,
       "min_width": null,
       "object_fit": null,
       "object_position": null,
       "order": null,
       "overflow": null,
       "padding": null,
       "right": null,
       "top": null,
       "visibility": null,
       "width": null
      }
     },
     "380aac7bfcad4595b2ab12781db141a7": {
      "model_module": "@jupyter-widgets/output",
      "model_module_version": "1.0.0",
      "model_name": "OutputModel",
      "state": {
       "_dom_classes": [],
       "_model_module": "@jupyter-widgets/output",
       "_model_module_version": "1.0.0",
       "_model_name": "OutputModel",
       "_view_count": null,
       "_view_module": "@jupyter-widgets/output",
       "_view_module_version": "1.0.0",
       "_view_name": "OutputView",
       "layout": "IPY_MODEL_2ac299819b994613b0147d12bcd9c5cc",
       "msg_id": "",
       "outputs": [
        {
         "data": {
          "text/markdown": "`approx_cswap_small`",
          "text/plain": "<IPython.core.display.Markdown object>"
         },
         "metadata": {},
         "output_type": "display_data"
        },
        {
         "data": {
          "image/svg+xml": "<svg xmlns=\"http://www.w3.org/2000/svg\" xmlns:xlink=\"http://www.w3.org/1999/xlink\" width=\"223pt\" height=\"152pt\" viewBox=\"0.00 0.00 223.00 152.00\">\n<g id=\"graph0\" class=\"graph\" transform=\"scale(1 1) rotate(0) translate(4 148)\">\n<title>my_graph</title>\n<polygon fill=\"white\" stroke=\"none\" points=\"-4,4 -4,-148 219,-148 219,4 -4,4\"/>\n<!-- ctrl_G5 -->\n<g id=\"node1\" class=\"node\">\n<title>ctrl_G5</title>\n<text text-anchor=\"middle\" x=\"27\" y=\"-122.3\" font-family=\"Times,serif\" font-size=\"14.00\">ctrl</text>\n</g>\n<!-- CSwapApprox -->\n<g id=\"node4\" class=\"node\">\n<title>CSwapApprox</title>\n<polygon fill=\"none\" stroke=\"black\" points=\"91.5,-104 91.5,-121 124.5,-121 124.5,-104 91.5,-104\"/>\n<text text-anchor=\"start\" x=\"94.5\" y=\"-110\" font-family=\"Times,serif\" font-size=\"10.00\">~swap</text>\n<polygon fill=\"none\" stroke=\"black\" points=\"91.5,-83 91.5,-104 124.5,-104 124.5,-83 91.5,-83\"/>\n<text text-anchor=\"start\" x=\"98.5\" y=\"-89.8\" font-family=\"Times,serif\" font-size=\"14.00\">ctrl</text>\n<polygon fill=\"none\" stroke=\"black\" points=\"91.5,-62 91.5,-83 124.5,-83 124.5,-62 91.5,-62\"/>\n<text text-anchor=\"start\" x=\"104.5\" y=\"-68.8\" font-family=\"Times,serif\" font-size=\"14.00\">x</text>\n<polygon fill=\"none\" stroke=\"black\" points=\"91.5,-41 91.5,-62 124.5,-62 124.5,-41 91.5,-41\"/>\n<text text-anchor=\"start\" x=\"104.5\" y=\"-47.8\" font-family=\"Times,serif\" font-size=\"14.00\">y</text>\n</g>\n<!-- ctrl_G5&#45;&gt;CSwapApprox -->\n<g id=\"edge1\" class=\"edge\">\n<title>ctrl_G5:e-&gt;CSwapApprox:w</title>\n<path fill=\"none\" stroke=\"black\" d=\"M54,-126C74.89,-126 69.72,-96.45 88.58,-94.14\"/>\n<ellipse fill=\"black\" stroke=\"black\" cx=\"90\" cy=\"-94.06\" rx=\"1\" ry=\"1\"/>\n<text text-anchor=\"middle\" x=\"72.5\" y=\"-113\" font-family=\"Times,serif\" font-size=\"10.00\">1</text>\n</g>\n<!-- x_G8 -->\n<g id=\"node2\" class=\"node\">\n<title>x_G8</title>\n<text text-anchor=\"middle\" x=\"27\" y=\"-68.3\" font-family=\"Times,serif\" font-size=\"14.00\">x</text>\n</g>\n<!-- x_G8&#45;&gt;CSwapApprox -->\n<g id=\"edge2\" class=\"edge\">\n<title>x_G8:e-&gt;CSwapApprox:w</title>\n<path fill=\"none\" stroke=\"black\" d=\"M54,-72C69.67,-72 74.14,-72 88.77,-72\"/>\n<ellipse fill=\"black\" stroke=\"black\" cx=\"90\" cy=\"-72\" rx=\"1\" ry=\"1\"/>\n<text text-anchor=\"middle\" x=\"72.5\" y=\"-75\" font-family=\"Times,serif\" font-size=\"10.00\">4</text>\n</g>\n<!-- y_G0 -->\n<g id=\"node3\" class=\"node\">\n<title>y_G0</title>\n<text text-anchor=\"middle\" x=\"27\" y=\"-14.3\" font-family=\"Times,serif\" font-size=\"14.00\">y</text>\n</g>\n<!-- y_G0&#45;&gt;CSwapApprox -->\n<g id=\"edge3\" class=\"edge\">\n<title>y_G0:e-&gt;CSwapApprox:w</title>\n<path fill=\"none\" stroke=\"black\" d=\"M54,-18C75.17,-18 69.47,-48.47 88.55,-50.85\"/>\n<ellipse fill=\"black\" stroke=\"black\" cx=\"90\" cy=\"-50.94\" rx=\"1\" ry=\"1\"/>\n<text text-anchor=\"middle\" x=\"72.5\" y=\"-39\" font-family=\"Times,serif\" font-size=\"10.00\">4</text>\n</g>\n<!-- ctrl_G4 -->\n<g id=\"node5\" class=\"node\">\n<title>ctrl_G4</title>\n<text text-anchor=\"middle\" x=\"188\" y=\"-122.3\" font-family=\"Times,serif\" font-size=\"14.00\">ctrl</text>\n</g>\n<!-- CSwapApprox&#45;&gt;ctrl_G4 -->\n<g id=\"edge4\" class=\"edge\">\n<title>CSwapApprox:e-&gt;ctrl_G4:w</title>\n<path fill=\"none\" stroke=\"black\" d=\"M124,-94C144.89,-94 139.72,-123.55 158.58,-125.86\"/>\n<ellipse fill=\"black\" stroke=\"black\" cx=\"160\" cy=\"-125.94\" rx=\"1\" ry=\"1\"/>\n<text text-anchor=\"middle\" x=\"142.5\" y=\"-113\" font-family=\"Times,serif\" font-size=\"10.00\">1</text>\n</g>\n<!-- x_G6 -->\n<g id=\"node6\" class=\"node\">\n<title>x_G6</title>\n<text text-anchor=\"middle\" x=\"188\" y=\"-68.3\" font-family=\"Times,serif\" font-size=\"14.00\">x</text>\n</g>\n<!-- CSwapApprox&#45;&gt;x_G6 -->\n<g id=\"edge5\" class=\"edge\">\n<title>CSwapApprox:e-&gt;x_G6:w</title>\n<path fill=\"none\" stroke=\"black\" d=\"M124,-72C139.67,-72 144.14,-72 158.77,-72\"/>\n<ellipse fill=\"black\" stroke=\"black\" cx=\"160\" cy=\"-72\" rx=\"1\" ry=\"1\"/>\n<text text-anchor=\"middle\" x=\"142.5\" y=\"-75\" font-family=\"Times,serif\" font-size=\"10.00\">4</text>\n</g>\n<!-- y_G3 -->\n<g id=\"node7\" class=\"node\">\n<title>y_G3</title>\n<text text-anchor=\"middle\" x=\"188\" y=\"-14.3\" font-family=\"Times,serif\" font-size=\"14.00\">y</text>\n</g>\n<!-- CSwapApprox&#45;&gt;y_G3 -->\n<g id=\"edge6\" class=\"edge\">\n<title>CSwapApprox:e-&gt;y_G3:w</title>\n<path fill=\"none\" stroke=\"black\" d=\"M124,-51C145.17,-51 139.47,-20.53 158.55,-18.15\"/>\n<ellipse fill=\"black\" stroke=\"black\" cx=\"160\" cy=\"-18.06\" rx=\"1\" ry=\"1\"/>\n<text text-anchor=\"middle\" x=\"142.5\" y=\"-39\" font-family=\"Times,serif\" font-size=\"10.00\">4</text>\n</g>\n</g>\n</svg>",
          "text/plain": "<IPython.core.display.SVG object>"
         },
         "metadata": {},
         "output_type": "display_data"
        }
       ],
       "tabbable": null,
       "tooltip": null
      }
     },
     "457f0ccf2e494f9f9a1706871a995973": {
      "model_module": "@jupyter-widgets/base",
      "model_module_version": "2.0.0",
      "model_name": "LayoutModel",
      "state": {
       "_model_module": "@jupyter-widgets/base",
       "_model_module_version": "2.0.0",
       "_model_name": "LayoutModel",
       "_view_count": null,
       "_view_module": "@jupyter-widgets/base",
       "_view_module_version": "2.0.0",
       "_view_name": "LayoutView",
       "align_content": null,
       "align_items": null,
       "align_self": null,
       "border_bottom": null,
       "border_left": null,
       "border_right": null,
       "border_top": null,
       "bottom": null,
       "display": null,
       "flex": null,
       "flex_flow": null,
       "grid_area": null,
       "grid_auto_columns": null,
       "grid_auto_flow": null,
       "grid_auto_rows": null,
       "grid_column": null,
       "grid_gap": null,
       "grid_row": null,
       "grid_template_areas": null,
       "grid_template_columns": null,
       "grid_template_rows": null,
       "height": null,
       "justify_content": null,
       "justify_items": null,
       "left": null,
       "margin": null,
       "max_height": null,
       "max_width": null,
       "min_height": null,
       "min_width": null,
       "object_fit": null,
       "object_position": null,
       "order": null,
       "overflow": null,
       "padding": null,
       "right": null,
       "top": null,
       "visibility": null,
       "width": null
      }
     },
     "4b5b42ed2c334657bbede921f3c6155c": {
      "model_module": "@jupyter-widgets/output",
      "model_module_version": "1.0.0",
      "model_name": "OutputModel",
      "state": {
       "_dom_classes": [],
       "_model_module": "@jupyter-widgets/output",
       "_model_module_version": "1.0.0",
       "_model_name": "OutputModel",
       "_view_count": null,
       "_view_module": "@jupyter-widgets/output",
       "_view_module_version": "1.0.0",
       "_view_name": "OutputView",
       "layout": "IPY_MODEL_9c7c8ce9d0b94f8f872dc02519a54fd2",
       "msg_id": "",
       "outputs": [
        {
         "data": {
          "text/markdown": "`approx_cswap_large`",
          "text/plain": "<IPython.core.display.Markdown object>"
         },
         "metadata": {},
         "output_type": "display_data"
        },
        {
         "data": {
          "image/svg+xml": "<svg xmlns=\"http://www.w3.org/2000/svg\" xmlns:xlink=\"http://www.w3.org/1999/xlink\" width=\"223pt\" height=\"152pt\" viewBox=\"0.00 0.00 223.00 152.00\">\n<g id=\"graph0\" class=\"graph\" transform=\"scale(1 1) rotate(0) translate(4 148)\">\n<title>my_graph</title>\n<polygon fill=\"white\" stroke=\"none\" points=\"-4,4 -4,-148 219,-148 219,4 -4,4\"/>\n<!-- ctrl_G3 -->\n<g id=\"node1\" class=\"node\">\n<title>ctrl_G3</title>\n<text text-anchor=\"middle\" x=\"27\" y=\"-122.3\" font-family=\"Times,serif\" font-size=\"14.00\">ctrl</text>\n</g>\n<!-- CSwapApprox -->\n<g id=\"node4\" class=\"node\">\n<title>CSwapApprox</title>\n<polygon fill=\"none\" stroke=\"black\" points=\"91.5,-104 91.5,-121 124.5,-121 124.5,-104 91.5,-104\"/>\n<text text-anchor=\"start\" x=\"94.5\" y=\"-110\" font-family=\"Times,serif\" font-size=\"10.00\">~swap</text>\n<polygon fill=\"none\" stroke=\"black\" points=\"91.5,-83 91.5,-104 124.5,-104 124.5,-83 91.5,-83\"/>\n<text text-anchor=\"start\" x=\"98.5\" y=\"-89.8\" font-family=\"Times,serif\" font-size=\"14.00\">ctrl</text>\n<polygon fill=\"none\" stroke=\"black\" points=\"91.5,-62 91.5,-83 124.5,-83 124.5,-62 91.5,-62\"/>\n<text text-anchor=\"start\" x=\"104.5\" y=\"-68.8\" font-family=\"Times,serif\" font-size=\"14.00\">x</text>\n<polygon fill=\"none\" stroke=\"black\" points=\"91.5,-41 91.5,-62 124.5,-62 124.5,-41 91.5,-41\"/>\n<text text-anchor=\"start\" x=\"104.5\" y=\"-47.8\" font-family=\"Times,serif\" font-size=\"14.00\">y</text>\n</g>\n<!-- ctrl_G3&#45;&gt;CSwapApprox -->\n<g id=\"edge1\" class=\"edge\">\n<title>ctrl_G3:e-&gt;CSwapApprox:w</title>\n<path fill=\"none\" stroke=\"black\" d=\"M54,-126C74.89,-126 69.72,-96.45 88.58,-94.14\"/>\n<ellipse fill=\"black\" stroke=\"black\" cx=\"90\" cy=\"-94.06\" rx=\"1\" ry=\"1\"/>\n<text text-anchor=\"middle\" x=\"72.5\" y=\"-113\" font-family=\"Times,serif\" font-size=\"10.00\">1</text>\n</g>\n<!-- x_G0 -->\n<g id=\"node2\" class=\"node\">\n<title>x_G0</title>\n<text text-anchor=\"middle\" x=\"27\" y=\"-68.3\" font-family=\"Times,serif\" font-size=\"14.00\">x</text>\n</g>\n<!-- x_G0&#45;&gt;CSwapApprox -->\n<g id=\"edge2\" class=\"edge\">\n<title>x_G0:e-&gt;CSwapApprox:w</title>\n<path fill=\"none\" stroke=\"black\" d=\"M54,-72C69.67,-72 74.14,-72 88.77,-72\"/>\n<ellipse fill=\"black\" stroke=\"black\" cx=\"90\" cy=\"-72\" rx=\"1\" ry=\"1\"/>\n<text text-anchor=\"middle\" x=\"72.5\" y=\"-75\" font-family=\"Times,serif\" font-size=\"10.00\">64</text>\n</g>\n<!-- y_G4 -->\n<g id=\"node3\" class=\"node\">\n<title>y_G4</title>\n<text text-anchor=\"middle\" x=\"27\" y=\"-14.3\" font-family=\"Times,serif\" font-size=\"14.00\">y</text>\n</g>\n<!-- y_G4&#45;&gt;CSwapApprox -->\n<g id=\"edge3\" class=\"edge\">\n<title>y_G4:e-&gt;CSwapApprox:w</title>\n<path fill=\"none\" stroke=\"black\" d=\"M54,-18C75.17,-18 69.47,-48.47 88.55,-50.85\"/>\n<ellipse fill=\"black\" stroke=\"black\" cx=\"90\" cy=\"-50.94\" rx=\"1\" ry=\"1\"/>\n<text text-anchor=\"middle\" x=\"72.5\" y=\"-39\" font-family=\"Times,serif\" font-size=\"10.00\">64</text>\n</g>\n<!-- ctrl_G2 -->\n<g id=\"node5\" class=\"node\">\n<title>ctrl_G2</title>\n<text text-anchor=\"middle\" x=\"188\" y=\"-122.3\" font-family=\"Times,serif\" font-size=\"14.00\">ctrl</text>\n</g>\n<!-- CSwapApprox&#45;&gt;ctrl_G2 -->\n<g id=\"edge4\" class=\"edge\">\n<title>CSwapApprox:e-&gt;ctrl_G2:w</title>\n<path fill=\"none\" stroke=\"black\" d=\"M124,-94C144.89,-94 139.72,-123.55 158.58,-125.86\"/>\n<ellipse fill=\"black\" stroke=\"black\" cx=\"160\" cy=\"-125.94\" rx=\"1\" ry=\"1\"/>\n<text text-anchor=\"middle\" x=\"142.5\" y=\"-113\" font-family=\"Times,serif\" font-size=\"10.00\">1</text>\n</g>\n<!-- x_G7 -->\n<g id=\"node6\" class=\"node\">\n<title>x_G7</title>\n<text text-anchor=\"middle\" x=\"188\" y=\"-68.3\" font-family=\"Times,serif\" font-size=\"14.00\">x</text>\n</g>\n<!-- CSwapApprox&#45;&gt;x_G7 -->\n<g id=\"edge5\" class=\"edge\">\n<title>CSwapApprox:e-&gt;x_G7:w</title>\n<path fill=\"none\" stroke=\"black\" d=\"M124,-72C139.67,-72 144.14,-72 158.77,-72\"/>\n<ellipse fill=\"black\" stroke=\"black\" cx=\"160\" cy=\"-72\" rx=\"1\" ry=\"1\"/>\n<text text-anchor=\"middle\" x=\"142.5\" y=\"-75\" font-family=\"Times,serif\" font-size=\"10.00\">64</text>\n</g>\n<!-- y_G8 -->\n<g id=\"node7\" class=\"node\">\n<title>y_G8</title>\n<text text-anchor=\"middle\" x=\"188\" y=\"-14.3\" font-family=\"Times,serif\" font-size=\"14.00\">y</text>\n</g>\n<!-- CSwapApprox&#45;&gt;y_G8 -->\n<g id=\"edge6\" class=\"edge\">\n<title>CSwapApprox:e-&gt;y_G8:w</title>\n<path fill=\"none\" stroke=\"black\" d=\"M124,-51C145.17,-51 139.47,-20.53 158.55,-18.15\"/>\n<ellipse fill=\"black\" stroke=\"black\" cx=\"160\" cy=\"-18.06\" rx=\"1\" ry=\"1\"/>\n<text text-anchor=\"middle\" x=\"142.5\" y=\"-39\" font-family=\"Times,serif\" font-size=\"10.00\">64</text>\n</g>\n</g>\n</svg>",
          "text/plain": "<IPython.core.display.SVG object>"
         },
         "metadata": {},
         "output_type": "display_data"
        }
       ],
       "tabbable": null,
       "tooltip": null
      }
     },
     "4dd782cd52f644b1a1cd488904188019": {
      "model_module": "@jupyter-widgets/base",
      "model_module_version": "2.0.0",
      "model_name": "LayoutModel",
      "state": {
       "_model_module": "@jupyter-widgets/base",
       "_model_module_version": "2.0.0",
       "_model_name": "LayoutModel",
       "_view_count": null,
       "_view_module": "@jupyter-widgets/base",
       "_view_module_version": "2.0.0",
       "_view_name": "LayoutView",
       "align_content": null,
       "align_items": null,
       "align_self": null,
       "border_bottom": null,
       "border_left": null,
       "border_right": null,
       "border_top": null,
       "bottom": null,
       "display": null,
       "flex": null,
       "flex_flow": null,
       "grid_area": null,
       "grid_auto_columns": null,
       "grid_auto_flow": null,
       "grid_auto_rows": null,
       "grid_column": null,
       "grid_gap": null,
       "grid_row": null,
       "grid_template_areas": null,
       "grid_template_columns": null,
       "grid_template_rows": null,
       "height": null,
       "justify_content": null,
       "justify_items": null,
       "left": null,
       "margin": null,
       "max_height": null,
       "max_width": null,
       "min_height": null,
       "min_width": null,
       "object_fit": null,
       "object_position": null,
       "order": null,
       "overflow": null,
       "padding": null,
       "right": null,
       "top": null,
       "visibility": null,
       "width": null
      }
     },
     "60847025ee644bc3b383a5046d4d9bb0": {
      "model_module": "@jupyter-widgets/base",
      "model_module_version": "2.0.0",
      "model_name": "LayoutModel",
      "state": {
       "_model_module": "@jupyter-widgets/base",
       "_model_module_version": "2.0.0",
       "_model_name": "LayoutModel",
       "_view_count": null,
       "_view_module": "@jupyter-widgets/base",
       "_view_module_version": "2.0.0",
       "_view_name": "LayoutView",
       "align_content": null,
       "align_items": null,
       "align_self": null,
       "border_bottom": null,
       "border_left": null,
       "border_right": null,
       "border_top": null,
       "bottom": null,
       "display": null,
       "flex": null,
       "flex_flow": null,
       "grid_area": null,
       "grid_auto_columns": null,
       "grid_auto_flow": null,
       "grid_auto_rows": null,
       "grid_column": null,
       "grid_gap": null,
       "grid_row": null,
       "grid_template_areas": null,
       "grid_template_columns": null,
       "grid_template_rows": null,
       "height": null,
       "justify_content": null,
       "justify_items": null,
       "left": null,
       "margin": null,
       "max_height": null,
       "max_width": null,
       "min_height": null,
       "min_width": null,
       "object_fit": null,
       "object_position": null,
       "order": null,
       "overflow": null,
       "padding": null,
       "right": null,
       "top": null,
       "visibility": null,
       "width": null
      }
     },
     "7bd2552977744cf0a4834dccd33b050a": {
      "model_module": "@jupyter-widgets/output",
      "model_module_version": "1.0.0",
      "model_name": "OutputModel",
      "state": {
       "_dom_classes": [],
       "_model_module": "@jupyter-widgets/output",
       "_model_module_version": "1.0.0",
       "_model_name": "OutputModel",
       "_view_count": null,
       "_view_module": "@jupyter-widgets/output",
       "_view_module_version": "1.0.0",
       "_view_name": "OutputView",
       "layout": "IPY_MODEL_4dd782cd52f644b1a1cd488904188019",
       "msg_id": "",
       "outputs": [
        {
         "data": {
          "text/markdown": "`cswap_symb`",
          "text/plain": "<IPython.core.display.Markdown object>"
         },
         "metadata": {},
         "output_type": "display_data"
        },
        {
         "data": {
          "image/svg+xml": "<svg xmlns=\"http://www.w3.org/2000/svg\" xmlns:xlink=\"http://www.w3.org/1999/xlink\" width=\"218pt\" height=\"152pt\" viewBox=\"0.00 0.00 218.00 152.00\">\n<g id=\"graph0\" class=\"graph\" transform=\"scale(1 1) rotate(0) translate(4 148)\">\n<title>my_graph</title>\n<polygon fill=\"white\" stroke=\"none\" points=\"-4,4 -4,-148 214,-148 214,4 -4,4\"/>\n<!-- ctrl_G5 -->\n<g id=\"node1\" class=\"node\">\n<title>ctrl_G5</title>\n<text text-anchor=\"middle\" x=\"27\" y=\"-122.3\" font-family=\"Times,serif\" font-size=\"14.00\">ctrl</text>\n</g>\n<!-- CSwap -->\n<g id=\"node4\" class=\"node\">\n<title>CSwap</title>\n<polygon fill=\"none\" stroke=\"black\" points=\"91,-104 91,-121 119,-121 119,-104 91,-104\"/>\n<text text-anchor=\"start\" x=\"94\" y=\"-110\" font-family=\"Times,serif\" font-size=\"10.00\">swap</text>\n<polygon fill=\"none\" stroke=\"black\" points=\"91,-83 91,-104 119,-104 119,-83 91,-83\"/>\n<text text-anchor=\"start\" x=\"95.5\" y=\"-89.8\" font-family=\"Times,serif\" font-size=\"14.00\">ctrl</text>\n<polygon fill=\"none\" stroke=\"black\" points=\"91,-62 91,-83 119,-83 119,-62 91,-62\"/>\n<text text-anchor=\"start\" x=\"101.5\" y=\"-68.8\" font-family=\"Times,serif\" font-size=\"14.00\">x</text>\n<polygon fill=\"none\" stroke=\"black\" points=\"91,-41 91,-62 119,-62 119,-41 91,-41\"/>\n<text text-anchor=\"start\" x=\"101.5\" y=\"-47.8\" font-family=\"Times,serif\" font-size=\"14.00\">y</text>\n</g>\n<!-- ctrl_G5&#45;&gt;CSwap -->\n<g id=\"edge1\" class=\"edge\">\n<title>ctrl_G5:e-&gt;CSwap:w</title>\n<path fill=\"none\" stroke=\"black\" d=\"M54,-126C74.89,-126 69.72,-96.45 88.58,-94.14\"/>\n<ellipse fill=\"black\" stroke=\"black\" cx=\"90\" cy=\"-94.06\" rx=\"1\" ry=\"1\"/>\n<text text-anchor=\"middle\" x=\"72.5\" y=\"-113\" font-family=\"Times,serif\" font-size=\"10.00\">1</text>\n</g>\n<!-- x_G8 -->\n<g id=\"node2\" class=\"node\">\n<title>x_G8</title>\n<text text-anchor=\"middle\" x=\"27\" y=\"-68.3\" font-family=\"Times,serif\" font-size=\"14.00\">x</text>\n</g>\n<!-- x_G8&#45;&gt;CSwap -->\n<g id=\"edge2\" class=\"edge\">\n<title>x_G8:e-&gt;CSwap:w</title>\n<path fill=\"none\" stroke=\"black\" d=\"M54,-72C69.67,-72 74.14,-72 88.77,-72\"/>\n<ellipse fill=\"black\" stroke=\"black\" cx=\"90\" cy=\"-72\" rx=\"1\" ry=\"1\"/>\n<text text-anchor=\"middle\" x=\"72.5\" y=\"-75\" font-family=\"Times,serif\" font-size=\"10.00\">n</text>\n</g>\n<!-- y_G4 -->\n<g id=\"node3\" class=\"node\">\n<title>y_G4</title>\n<text text-anchor=\"middle\" x=\"27\" y=\"-14.3\" font-family=\"Times,serif\" font-size=\"14.00\">y</text>\n</g>\n<!-- y_G4&#45;&gt;CSwap -->\n<g id=\"edge3\" class=\"edge\">\n<title>y_G4:e-&gt;CSwap:w</title>\n<path fill=\"none\" stroke=\"black\" d=\"M54,-18C75.17,-18 69.47,-48.47 88.55,-50.85\"/>\n<ellipse fill=\"black\" stroke=\"black\" cx=\"90\" cy=\"-50.94\" rx=\"1\" ry=\"1\"/>\n<text text-anchor=\"middle\" x=\"72.5\" y=\"-39\" font-family=\"Times,serif\" font-size=\"10.00\">n</text>\n</g>\n<!-- ctrl_G3 -->\n<g id=\"node5\" class=\"node\">\n<title>ctrl_G3</title>\n<text text-anchor=\"middle\" x=\"183\" y=\"-122.3\" font-family=\"Times,serif\" font-size=\"14.00\">ctrl</text>\n</g>\n<!-- CSwap&#45;&gt;ctrl_G3 -->\n<g id=\"edge4\" class=\"edge\">\n<title>CSwap:e-&gt;ctrl_G3:w</title>\n<path fill=\"none\" stroke=\"black\" d=\"M119,-94C139.89,-94 134.72,-123.55 153.58,-125.86\"/>\n<ellipse fill=\"black\" stroke=\"black\" cx=\"155\" cy=\"-125.94\" rx=\"1\" ry=\"1\"/>\n<text text-anchor=\"middle\" x=\"137.5\" y=\"-113\" font-family=\"Times,serif\" font-size=\"10.00\">1</text>\n</g>\n<!-- x_G1 -->\n<g id=\"node6\" class=\"node\">\n<title>x_G1</title>\n<text text-anchor=\"middle\" x=\"183\" y=\"-68.3\" font-family=\"Times,serif\" font-size=\"14.00\">x</text>\n</g>\n<!-- CSwap&#45;&gt;x_G1 -->\n<g id=\"edge5\" class=\"edge\">\n<title>CSwap:e-&gt;x_G1:w</title>\n<path fill=\"none\" stroke=\"black\" d=\"M119,-72C134.67,-72 139.14,-72 153.77,-72\"/>\n<ellipse fill=\"black\" stroke=\"black\" cx=\"155\" cy=\"-72\" rx=\"1\" ry=\"1\"/>\n<text text-anchor=\"middle\" x=\"137.5\" y=\"-75\" font-family=\"Times,serif\" font-size=\"10.00\">n</text>\n</g>\n<!-- y_G2 -->\n<g id=\"node7\" class=\"node\">\n<title>y_G2</title>\n<text text-anchor=\"middle\" x=\"183\" y=\"-14.3\" font-family=\"Times,serif\" font-size=\"14.00\">y</text>\n</g>\n<!-- CSwap&#45;&gt;y_G2 -->\n<g id=\"edge6\" class=\"edge\">\n<title>CSwap:e-&gt;y_G2:w</title>\n<path fill=\"none\" stroke=\"black\" d=\"M119,-51C140.17,-51 134.47,-20.53 153.55,-18.15\"/>\n<ellipse fill=\"black\" stroke=\"black\" cx=\"155\" cy=\"-18.06\" rx=\"1\" ry=\"1\"/>\n<text text-anchor=\"middle\" x=\"137.5\" y=\"-39\" font-family=\"Times,serif\" font-size=\"10.00\">n</text>\n</g>\n</g>\n</svg>",
          "text/plain": "<IPython.core.display.SVG object>"
         },
         "metadata": {},
         "output_type": "display_data"
        }
       ],
       "tabbable": null,
       "tooltip": null
      }
     },
     "809dc2b2a6784bef86aa06d839a8f240": {
      "model_module": "@jupyter-widgets/output",
      "model_module_version": "1.0.0",
      "model_name": "OutputModel",
      "state": {
       "_dom_classes": [],
       "_model_module": "@jupyter-widgets/output",
       "_model_module_version": "1.0.0",
       "_model_name": "OutputModel",
       "_view_count": null,
       "_view_module": "@jupyter-widgets/output",
       "_view_module_version": "1.0.0",
       "_view_name": "OutputView",
       "layout": "IPY_MODEL_354f6094359d4b25819df38747246e20",
       "msg_id": "",
       "outputs": [
        {
         "data": {
          "text/markdown": "`cswap_large`",
          "text/plain": "<IPython.core.display.Markdown object>"
         },
         "metadata": {},
         "output_type": "display_data"
        },
        {
         "data": {
          "image/svg+xml": "<svg xmlns=\"http://www.w3.org/2000/svg\" xmlns:xlink=\"http://www.w3.org/1999/xlink\" width=\"218pt\" height=\"152pt\" viewBox=\"0.00 0.00 218.00 152.00\">\n<g id=\"graph0\" class=\"graph\" transform=\"scale(1 1) rotate(0) translate(4 148)\">\n<title>my_graph</title>\n<polygon fill=\"white\" stroke=\"none\" points=\"-4,4 -4,-148 214,-148 214,4 -4,4\"/>\n<!-- ctrl_G3 -->\n<g id=\"node1\" class=\"node\">\n<title>ctrl_G3</title>\n<text text-anchor=\"middle\" x=\"27\" y=\"-122.3\" font-family=\"Times,serif\" font-size=\"14.00\">ctrl</text>\n</g>\n<!-- CSwap -->\n<g id=\"node4\" class=\"node\">\n<title>CSwap</title>\n<polygon fill=\"none\" stroke=\"black\" points=\"91,-104 91,-121 119,-121 119,-104 91,-104\"/>\n<text text-anchor=\"start\" x=\"94\" y=\"-110\" font-family=\"Times,serif\" font-size=\"10.00\">swap</text>\n<polygon fill=\"none\" stroke=\"black\" points=\"91,-83 91,-104 119,-104 119,-83 91,-83\"/>\n<text text-anchor=\"start\" x=\"95.5\" y=\"-89.8\" font-family=\"Times,serif\" font-size=\"14.00\">ctrl</text>\n<polygon fill=\"none\" stroke=\"black\" points=\"91,-62 91,-83 119,-83 119,-62 91,-62\"/>\n<text text-anchor=\"start\" x=\"101.5\" y=\"-68.8\" font-family=\"Times,serif\" font-size=\"14.00\">x</text>\n<polygon fill=\"none\" stroke=\"black\" points=\"91,-41 91,-62 119,-62 119,-41 91,-41\"/>\n<text text-anchor=\"start\" x=\"101.5\" y=\"-47.8\" font-family=\"Times,serif\" font-size=\"14.00\">y</text>\n</g>\n<!-- ctrl_G3&#45;&gt;CSwap -->\n<g id=\"edge1\" class=\"edge\">\n<title>ctrl_G3:e-&gt;CSwap:w</title>\n<path fill=\"none\" stroke=\"black\" d=\"M54,-126C74.89,-126 69.72,-96.45 88.58,-94.14\"/>\n<ellipse fill=\"black\" stroke=\"black\" cx=\"90\" cy=\"-94.06\" rx=\"1\" ry=\"1\"/>\n<text text-anchor=\"middle\" x=\"72.5\" y=\"-113\" font-family=\"Times,serif\" font-size=\"10.00\">1</text>\n</g>\n<!-- x_G0 -->\n<g id=\"node2\" class=\"node\">\n<title>x_G0</title>\n<text text-anchor=\"middle\" x=\"27\" y=\"-68.3\" font-family=\"Times,serif\" font-size=\"14.00\">x</text>\n</g>\n<!-- x_G0&#45;&gt;CSwap -->\n<g id=\"edge2\" class=\"edge\">\n<title>x_G0:e-&gt;CSwap:w</title>\n<path fill=\"none\" stroke=\"black\" d=\"M54,-72C69.67,-72 74.14,-72 88.77,-72\"/>\n<ellipse fill=\"black\" stroke=\"black\" cx=\"90\" cy=\"-72\" rx=\"1\" ry=\"1\"/>\n<text text-anchor=\"middle\" x=\"72.5\" y=\"-75\" font-family=\"Times,serif\" font-size=\"10.00\">64</text>\n</g>\n<!-- y_G4 -->\n<g id=\"node3\" class=\"node\">\n<title>y_G4</title>\n<text text-anchor=\"middle\" x=\"27\" y=\"-14.3\" font-family=\"Times,serif\" font-size=\"14.00\">y</text>\n</g>\n<!-- y_G4&#45;&gt;CSwap -->\n<g id=\"edge3\" class=\"edge\">\n<title>y_G4:e-&gt;CSwap:w</title>\n<path fill=\"none\" stroke=\"black\" d=\"M54,-18C75.17,-18 69.47,-48.47 88.55,-50.85\"/>\n<ellipse fill=\"black\" stroke=\"black\" cx=\"90\" cy=\"-50.94\" rx=\"1\" ry=\"1\"/>\n<text text-anchor=\"middle\" x=\"72.5\" y=\"-39\" font-family=\"Times,serif\" font-size=\"10.00\">64</text>\n</g>\n<!-- ctrl_G2 -->\n<g id=\"node5\" class=\"node\">\n<title>ctrl_G2</title>\n<text text-anchor=\"middle\" x=\"183\" y=\"-122.3\" font-family=\"Times,serif\" font-size=\"14.00\">ctrl</text>\n</g>\n<!-- CSwap&#45;&gt;ctrl_G2 -->\n<g id=\"edge4\" class=\"edge\">\n<title>CSwap:e-&gt;ctrl_G2:w</title>\n<path fill=\"none\" stroke=\"black\" d=\"M119,-94C139.89,-94 134.72,-123.55 153.58,-125.86\"/>\n<ellipse fill=\"black\" stroke=\"black\" cx=\"155\" cy=\"-125.94\" rx=\"1\" ry=\"1\"/>\n<text text-anchor=\"middle\" x=\"137.5\" y=\"-113\" font-family=\"Times,serif\" font-size=\"10.00\">1</text>\n</g>\n<!-- x_G7 -->\n<g id=\"node6\" class=\"node\">\n<title>x_G7</title>\n<text text-anchor=\"middle\" x=\"183\" y=\"-68.3\" font-family=\"Times,serif\" font-size=\"14.00\">x</text>\n</g>\n<!-- CSwap&#45;&gt;x_G7 -->\n<g id=\"edge5\" class=\"edge\">\n<title>CSwap:e-&gt;x_G7:w</title>\n<path fill=\"none\" stroke=\"black\" d=\"M119,-72C134.67,-72 139.14,-72 153.77,-72\"/>\n<ellipse fill=\"black\" stroke=\"black\" cx=\"155\" cy=\"-72\" rx=\"1\" ry=\"1\"/>\n<text text-anchor=\"middle\" x=\"137.5\" y=\"-75\" font-family=\"Times,serif\" font-size=\"10.00\">64</text>\n</g>\n<!-- y_G8 -->\n<g id=\"node7\" class=\"node\">\n<title>y_G8</title>\n<text text-anchor=\"middle\" x=\"183\" y=\"-14.3\" font-family=\"Times,serif\" font-size=\"14.00\">y</text>\n</g>\n<!-- CSwap&#45;&gt;y_G8 -->\n<g id=\"edge6\" class=\"edge\">\n<title>CSwap:e-&gt;y_G8:w</title>\n<path fill=\"none\" stroke=\"black\" d=\"M119,-51C140.17,-51 134.47,-20.53 153.55,-18.15\"/>\n<ellipse fill=\"black\" stroke=\"black\" cx=\"155\" cy=\"-18.06\" rx=\"1\" ry=\"1\"/>\n<text text-anchor=\"middle\" x=\"137.5\" y=\"-39\" font-family=\"Times,serif\" font-size=\"10.00\">64</text>\n</g>\n</g>\n</svg>",
          "text/plain": "<IPython.core.display.SVG object>"
         },
         "metadata": {},
         "output_type": "display_data"
        }
       ],
       "tabbable": null,
       "tooltip": null
      }
     },
     "9c7c8ce9d0b94f8f872dc02519a54fd2": {
      "model_module": "@jupyter-widgets/base",
      "model_module_version": "2.0.0",
      "model_name": "LayoutModel",
      "state": {
       "_model_module": "@jupyter-widgets/base",
       "_model_module_version": "2.0.0",
       "_model_name": "LayoutModel",
       "_view_count": null,
       "_view_module": "@jupyter-widgets/base",
       "_view_module_version": "2.0.0",
       "_view_name": "LayoutView",
       "align_content": null,
       "align_items": null,
       "align_self": null,
       "border_bottom": null,
       "border_left": null,
       "border_right": null,
       "border_top": null,
       "bottom": null,
       "display": null,
       "flex": null,
       "flex_flow": null,
       "grid_area": null,
       "grid_auto_columns": null,
       "grid_auto_flow": null,
       "grid_auto_rows": null,
       "grid_column": null,
       "grid_gap": null,
       "grid_row": null,
       "grid_template_areas": null,
       "grid_template_columns": null,
       "grid_template_rows": null,
       "height": null,
       "justify_content": null,
       "justify_items": null,
       "left": null,
       "margin": null,
       "max_height": null,
       "max_width": null,
       "min_height": null,
       "min_width": null,
       "object_fit": null,
       "object_position": null,
       "order": null,
       "overflow": null,
       "padding": null,
       "right": null,
       "top": null,
       "visibility": null,
       "width": null
      }
     },
     "a0a322fe0aff42989b9e399e58324831": {
      "model_module": "@jupyter-widgets/output",
      "model_module_version": "1.0.0",
      "model_name": "OutputModel",
      "state": {
       "_dom_classes": [],
       "_model_module": "@jupyter-widgets/output",
       "_model_module_version": "1.0.0",
       "_model_name": "OutputModel",
       "_view_count": null,
       "_view_module": "@jupyter-widgets/output",
       "_view_module_version": "1.0.0",
       "_view_name": "OutputView",
       "layout": "IPY_MODEL_18ded24527cd4a1db24268eb203ec4cb",
       "msg_id": "",
       "outputs": [
        {
         "data": {
          "text/markdown": "`approx_cswap_symb`",
          "text/plain": "<IPython.core.display.Markdown object>"
         },
         "metadata": {},
         "output_type": "display_data"
        },
        {
         "data": {
          "image/svg+xml": "<svg xmlns=\"http://www.w3.org/2000/svg\" xmlns:xlink=\"http://www.w3.org/1999/xlink\" width=\"223pt\" height=\"152pt\" viewBox=\"0.00 0.00 223.00 152.00\">\n<g id=\"graph0\" class=\"graph\" transform=\"scale(1 1) rotate(0) translate(4 148)\">\n<title>my_graph</title>\n<polygon fill=\"white\" stroke=\"none\" points=\"-4,4 -4,-148 219,-148 219,4 -4,4\"/>\n<!-- ctrl_G5 -->\n<g id=\"node1\" class=\"node\">\n<title>ctrl_G5</title>\n<text text-anchor=\"middle\" x=\"27\" y=\"-122.3\" font-family=\"Times,serif\" font-size=\"14.00\">ctrl</text>\n</g>\n<!-- CSwapApprox -->\n<g id=\"node4\" class=\"node\">\n<title>CSwapApprox</title>\n<polygon fill=\"none\" stroke=\"black\" points=\"91.5,-104 91.5,-121 124.5,-121 124.5,-104 91.5,-104\"/>\n<text text-anchor=\"start\" x=\"94.5\" y=\"-110\" font-family=\"Times,serif\" font-size=\"10.00\">~swap</text>\n<polygon fill=\"none\" stroke=\"black\" points=\"91.5,-83 91.5,-104 124.5,-104 124.5,-83 91.5,-83\"/>\n<text text-anchor=\"start\" x=\"98.5\" y=\"-89.8\" font-family=\"Times,serif\" font-size=\"14.00\">ctrl</text>\n<polygon fill=\"none\" stroke=\"black\" points=\"91.5,-62 91.5,-83 124.5,-83 124.5,-62 91.5,-62\"/>\n<text text-anchor=\"start\" x=\"104.5\" y=\"-68.8\" font-family=\"Times,serif\" font-size=\"14.00\">x</text>\n<polygon fill=\"none\" stroke=\"black\" points=\"91.5,-41 91.5,-62 124.5,-62 124.5,-41 91.5,-41\"/>\n<text text-anchor=\"start\" x=\"104.5\" y=\"-47.8\" font-family=\"Times,serif\" font-size=\"14.00\">y</text>\n</g>\n<!-- ctrl_G5&#45;&gt;CSwapApprox -->\n<g id=\"edge1\" class=\"edge\">\n<title>ctrl_G5:e-&gt;CSwapApprox:w</title>\n<path fill=\"none\" stroke=\"black\" d=\"M54,-126C74.89,-126 69.72,-96.45 88.58,-94.14\"/>\n<ellipse fill=\"black\" stroke=\"black\" cx=\"90\" cy=\"-94.06\" rx=\"1\" ry=\"1\"/>\n<text text-anchor=\"middle\" x=\"72.5\" y=\"-113\" font-family=\"Times,serif\" font-size=\"10.00\">1</text>\n</g>\n<!-- x_G8 -->\n<g id=\"node2\" class=\"node\">\n<title>x_G8</title>\n<text text-anchor=\"middle\" x=\"27\" y=\"-68.3\" font-family=\"Times,serif\" font-size=\"14.00\">x</text>\n</g>\n<!-- x_G8&#45;&gt;CSwapApprox -->\n<g id=\"edge2\" class=\"edge\">\n<title>x_G8:e-&gt;CSwapApprox:w</title>\n<path fill=\"none\" stroke=\"black\" d=\"M54,-72C69.67,-72 74.14,-72 88.77,-72\"/>\n<ellipse fill=\"black\" stroke=\"black\" cx=\"90\" cy=\"-72\" rx=\"1\" ry=\"1\"/>\n<text text-anchor=\"middle\" x=\"72.5\" y=\"-75\" font-family=\"Times,serif\" font-size=\"10.00\">n</text>\n</g>\n<!-- y_G4 -->\n<g id=\"node3\" class=\"node\">\n<title>y_G4</title>\n<text text-anchor=\"middle\" x=\"27\" y=\"-14.3\" font-family=\"Times,serif\" font-size=\"14.00\">y</text>\n</g>\n<!-- y_G4&#45;&gt;CSwapApprox -->\n<g id=\"edge3\" class=\"edge\">\n<title>y_G4:e-&gt;CSwapApprox:w</title>\n<path fill=\"none\" stroke=\"black\" d=\"M54,-18C75.17,-18 69.47,-48.47 88.55,-50.85\"/>\n<ellipse fill=\"black\" stroke=\"black\" cx=\"90\" cy=\"-50.94\" rx=\"1\" ry=\"1\"/>\n<text text-anchor=\"middle\" x=\"72.5\" y=\"-39\" font-family=\"Times,serif\" font-size=\"10.00\">n</text>\n</g>\n<!-- ctrl_G3 -->\n<g id=\"node5\" class=\"node\">\n<title>ctrl_G3</title>\n<text text-anchor=\"middle\" x=\"188\" y=\"-122.3\" font-family=\"Times,serif\" font-size=\"14.00\">ctrl</text>\n</g>\n<!-- CSwapApprox&#45;&gt;ctrl_G3 -->\n<g id=\"edge4\" class=\"edge\">\n<title>CSwapApprox:e-&gt;ctrl_G3:w</title>\n<path fill=\"none\" stroke=\"black\" d=\"M124,-94C144.89,-94 139.72,-123.55 158.58,-125.86\"/>\n<ellipse fill=\"black\" stroke=\"black\" cx=\"160\" cy=\"-125.94\" rx=\"1\" ry=\"1\"/>\n<text text-anchor=\"middle\" x=\"142.5\" y=\"-113\" font-family=\"Times,serif\" font-size=\"10.00\">1</text>\n</g>\n<!-- x_G0 -->\n<g id=\"node6\" class=\"node\">\n<title>x_G0</title>\n<text text-anchor=\"middle\" x=\"188\" y=\"-68.3\" font-family=\"Times,serif\" font-size=\"14.00\">x</text>\n</g>\n<!-- CSwapApprox&#45;&gt;x_G0 -->\n<g id=\"edge5\" class=\"edge\">\n<title>CSwapApprox:e-&gt;x_G0:w</title>\n<path fill=\"none\" stroke=\"black\" d=\"M124,-72C139.67,-72 144.14,-72 158.77,-72\"/>\n<ellipse fill=\"black\" stroke=\"black\" cx=\"160\" cy=\"-72\" rx=\"1\" ry=\"1\"/>\n<text text-anchor=\"middle\" x=\"142.5\" y=\"-75\" font-family=\"Times,serif\" font-size=\"10.00\">n</text>\n</g>\n<!-- y_G1 -->\n<g id=\"node7\" class=\"node\">\n<title>y_G1</title>\n<text text-anchor=\"middle\" x=\"188\" y=\"-14.3\" font-family=\"Times,serif\" font-size=\"14.00\">y</text>\n</g>\n<!-- CSwapApprox&#45;&gt;y_G1 -->\n<g id=\"edge6\" class=\"edge\">\n<title>CSwapApprox:e-&gt;y_G1:w</title>\n<path fill=\"none\" stroke=\"black\" d=\"M124,-51C145.17,-51 139.47,-20.53 158.55,-18.15\"/>\n<ellipse fill=\"black\" stroke=\"black\" cx=\"160\" cy=\"-18.06\" rx=\"1\" ry=\"1\"/>\n<text text-anchor=\"middle\" x=\"142.5\" y=\"-39\" font-family=\"Times,serif\" font-size=\"10.00\">n</text>\n</g>\n</g>\n</svg>",
          "text/plain": "<IPython.core.display.SVG object>"
         },
         "metadata": {},
         "output_type": "display_data"
        }
       ],
       "tabbable": null,
       "tooltip": null
      }
     },
     "bfa1ba067bca40318e190103500bf865": {
      "model_module": "@jupyter-widgets/controls",
      "model_module_version": "2.0.0",
      "model_name": "HBoxModel",
      "state": {
       "_dom_classes": [],
       "_model_module": "@jupyter-widgets/controls",
       "_model_module_version": "2.0.0",
       "_model_name": "HBoxModel",
       "_view_count": null,
       "_view_module": "@jupyter-widgets/controls",
       "_view_module_version": "2.0.0",
       "_view_name": "HBoxView",
       "box_style": "",
       "children": [
        "IPY_MODEL_a0a322fe0aff42989b9e399e58324831",
        "IPY_MODEL_380aac7bfcad4595b2ab12781db141a7",
        "IPY_MODEL_4b5b42ed2c334657bbede921f3c6155c"
       ],
       "layout": "IPY_MODEL_c351afe3147a4530b2b42ea08d84f9ef",
       "tabbable": null,
       "tooltip": null
      }
     },
     "c15f0510eb26461cb0ff4a1c07f7ac4f": {
      "model_module": "@jupyter-widgets/output",
      "model_module_version": "1.0.0",
      "model_name": "OutputModel",
      "state": {
       "_dom_classes": [],
       "_model_module": "@jupyter-widgets/output",
       "_model_module_version": "1.0.0",
       "_model_name": "OutputModel",
       "_view_count": null,
       "_view_module": "@jupyter-widgets/output",
       "_view_module_version": "1.0.0",
       "_view_name": "OutputView",
       "layout": "IPY_MODEL_457f0ccf2e494f9f9a1706871a995973",
       "msg_id": "",
       "outputs": [
        {
         "data": {
          "text/markdown": "`cswap_small`",
          "text/plain": "<IPython.core.display.Markdown object>"
         },
         "metadata": {},
         "output_type": "display_data"
        },
        {
         "data": {
          "image/svg+xml": "<svg xmlns=\"http://www.w3.org/2000/svg\" xmlns:xlink=\"http://www.w3.org/1999/xlink\" width=\"218pt\" height=\"152pt\" viewBox=\"0.00 0.00 218.00 152.00\">\n<g id=\"graph0\" class=\"graph\" transform=\"scale(1 1) rotate(0) translate(4 148)\">\n<title>my_graph</title>\n<polygon fill=\"white\" stroke=\"none\" points=\"-4,4 -4,-148 214,-148 214,4 -4,4\"/>\n<!-- ctrl_G5 -->\n<g id=\"node1\" class=\"node\">\n<title>ctrl_G5</title>\n<text text-anchor=\"middle\" x=\"27\" y=\"-122.3\" font-family=\"Times,serif\" font-size=\"14.00\">ctrl</text>\n</g>\n<!-- CSwap -->\n<g id=\"node4\" class=\"node\">\n<title>CSwap</title>\n<polygon fill=\"none\" stroke=\"black\" points=\"91,-104 91,-121 119,-121 119,-104 91,-104\"/>\n<text text-anchor=\"start\" x=\"94\" y=\"-110\" font-family=\"Times,serif\" font-size=\"10.00\">swap</text>\n<polygon fill=\"none\" stroke=\"black\" points=\"91,-83 91,-104 119,-104 119,-83 91,-83\"/>\n<text text-anchor=\"start\" x=\"95.5\" y=\"-89.8\" font-family=\"Times,serif\" font-size=\"14.00\">ctrl</text>\n<polygon fill=\"none\" stroke=\"black\" points=\"91,-62 91,-83 119,-83 119,-62 91,-62\"/>\n<text text-anchor=\"start\" x=\"101.5\" y=\"-68.8\" font-family=\"Times,serif\" font-size=\"14.00\">x</text>\n<polygon fill=\"none\" stroke=\"black\" points=\"91,-41 91,-62 119,-62 119,-41 91,-41\"/>\n<text text-anchor=\"start\" x=\"101.5\" y=\"-47.8\" font-family=\"Times,serif\" font-size=\"14.00\">y</text>\n</g>\n<!-- ctrl_G5&#45;&gt;CSwap -->\n<g id=\"edge1\" class=\"edge\">\n<title>ctrl_G5:e-&gt;CSwap:w</title>\n<path fill=\"none\" stroke=\"black\" d=\"M54,-126C74.89,-126 69.72,-96.45 88.58,-94.14\"/>\n<ellipse fill=\"black\" stroke=\"black\" cx=\"90\" cy=\"-94.06\" rx=\"1\" ry=\"1\"/>\n<text text-anchor=\"middle\" x=\"72.5\" y=\"-113\" font-family=\"Times,serif\" font-size=\"10.00\">1</text>\n</g>\n<!-- x_G8 -->\n<g id=\"node2\" class=\"node\">\n<title>x_G8</title>\n<text text-anchor=\"middle\" x=\"27\" y=\"-68.3\" font-family=\"Times,serif\" font-size=\"14.00\">x</text>\n</g>\n<!-- x_G8&#45;&gt;CSwap -->\n<g id=\"edge2\" class=\"edge\">\n<title>x_G8:e-&gt;CSwap:w</title>\n<path fill=\"none\" stroke=\"black\" d=\"M54,-72C69.67,-72 74.14,-72 88.77,-72\"/>\n<ellipse fill=\"black\" stroke=\"black\" cx=\"90\" cy=\"-72\" rx=\"1\" ry=\"1\"/>\n<text text-anchor=\"middle\" x=\"72.5\" y=\"-75\" font-family=\"Times,serif\" font-size=\"10.00\">4</text>\n</g>\n<!-- y_G0 -->\n<g id=\"node3\" class=\"node\">\n<title>y_G0</title>\n<text text-anchor=\"middle\" x=\"27\" y=\"-14.3\" font-family=\"Times,serif\" font-size=\"14.00\">y</text>\n</g>\n<!-- y_G0&#45;&gt;CSwap -->\n<g id=\"edge3\" class=\"edge\">\n<title>y_G0:e-&gt;CSwap:w</title>\n<path fill=\"none\" stroke=\"black\" d=\"M54,-18C75.17,-18 69.47,-48.47 88.55,-50.85\"/>\n<ellipse fill=\"black\" stroke=\"black\" cx=\"90\" cy=\"-50.94\" rx=\"1\" ry=\"1\"/>\n<text text-anchor=\"middle\" x=\"72.5\" y=\"-39\" font-family=\"Times,serif\" font-size=\"10.00\">4</text>\n</g>\n<!-- ctrl_G2 -->\n<g id=\"node5\" class=\"node\">\n<title>ctrl_G2</title>\n<text text-anchor=\"middle\" x=\"183\" y=\"-122.3\" font-family=\"Times,serif\" font-size=\"14.00\">ctrl</text>\n</g>\n<!-- CSwap&#45;&gt;ctrl_G2 -->\n<g id=\"edge4\" class=\"edge\">\n<title>CSwap:e-&gt;ctrl_G2:w</title>\n<path fill=\"none\" stroke=\"black\" d=\"M119,-94C139.89,-94 134.72,-123.55 153.58,-125.86\"/>\n<ellipse fill=\"black\" stroke=\"black\" cx=\"155\" cy=\"-125.94\" rx=\"1\" ry=\"1\"/>\n<text text-anchor=\"middle\" x=\"137.5\" y=\"-113\" font-family=\"Times,serif\" font-size=\"10.00\">1</text>\n</g>\n<!-- x_G6 -->\n<g id=\"node6\" class=\"node\">\n<title>x_G6</title>\n<text text-anchor=\"middle\" x=\"183\" y=\"-68.3\" font-family=\"Times,serif\" font-size=\"14.00\">x</text>\n</g>\n<!-- CSwap&#45;&gt;x_G6 -->\n<g id=\"edge5\" class=\"edge\">\n<title>CSwap:e-&gt;x_G6:w</title>\n<path fill=\"none\" stroke=\"black\" d=\"M119,-72C134.67,-72 139.14,-72 153.77,-72\"/>\n<ellipse fill=\"black\" stroke=\"black\" cx=\"155\" cy=\"-72\" rx=\"1\" ry=\"1\"/>\n<text text-anchor=\"middle\" x=\"137.5\" y=\"-75\" font-family=\"Times,serif\" font-size=\"10.00\">4</text>\n</g>\n<!-- y_G1 -->\n<g id=\"node7\" class=\"node\">\n<title>y_G1</title>\n<text text-anchor=\"middle\" x=\"183\" y=\"-14.3\" font-family=\"Times,serif\" font-size=\"14.00\">y</text>\n</g>\n<!-- CSwap&#45;&gt;y_G1 -->\n<g id=\"edge6\" class=\"edge\">\n<title>CSwap:e-&gt;y_G1:w</title>\n<path fill=\"none\" stroke=\"black\" d=\"M119,-51C140.17,-51 134.47,-20.53 153.55,-18.15\"/>\n<ellipse fill=\"black\" stroke=\"black\" cx=\"155\" cy=\"-18.06\" rx=\"1\" ry=\"1\"/>\n<text text-anchor=\"middle\" x=\"137.5\" y=\"-39\" font-family=\"Times,serif\" font-size=\"10.00\">4</text>\n</g>\n</g>\n</svg>",
          "text/plain": "<IPython.core.display.SVG object>"
         },
         "metadata": {},
         "output_type": "display_data"
        }
       ],
       "tabbable": null,
       "tooltip": null
      }
     },
     "c351afe3147a4530b2b42ea08d84f9ef": {
      "model_module": "@jupyter-widgets/base",
      "model_module_version": "2.0.0",
      "model_name": "LayoutModel",
      "state": {
       "_model_module": "@jupyter-widgets/base",
       "_model_module_version": "2.0.0",
       "_model_name": "LayoutModel",
       "_view_count": null,
       "_view_module": "@jupyter-widgets/base",
       "_view_module_version": "2.0.0",
       "_view_name": "LayoutView",
       "align_content": null,
       "align_items": null,
       "align_self": null,
       "border_bottom": null,
       "border_left": null,
       "border_right": null,
       "border_top": null,
       "bottom": null,
       "display": null,
       "flex": null,
       "flex_flow": null,
       "grid_area": null,
       "grid_auto_columns": null,
       "grid_auto_flow": null,
       "grid_auto_rows": null,
       "grid_column": null,
       "grid_gap": null,
       "grid_row": null,
       "grid_template_areas": null,
       "grid_template_columns": null,
       "grid_template_rows": null,
       "height": null,
       "justify_content": null,
       "justify_items": null,
       "left": null,
       "margin": null,
       "max_height": null,
       "max_width": null,
       "min_height": null,
       "min_width": null,
       "object_fit": null,
       "object_position": null,
       "order": null,
       "overflow": null,
       "padding": null,
       "right": null,
       "top": null,
       "visibility": null,
       "width": null
      }
     }
    },
    "version_major": 2,
    "version_minor": 0
   }
  }
 },
 "nbformat": 4,
 "nbformat_minor": 5
}
