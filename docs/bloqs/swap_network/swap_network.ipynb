{
 "cells": [
  {
   "cell_type": "markdown",
   "id": "287eb288",
   "metadata": {
    "cq.autogen": "title_cell"
   },
   "source": [
    "# Swap Network\n",
    "\n",
    "Functionality for moving data between registers (swapping)."
   ]
  },
  {
   "cell_type": "code",
   "execution_count": 1,
   "id": "0aea9bd4",
   "metadata": {
    "cq.autogen": "top_imports"
   },
   "outputs": [],
   "source": [
    "from qualtran import Bloq, CompositeBloq, BloqBuilder, Signature, Register\n",
    "from qualtran import QBit, QInt, QUInt, QAny\n",
    "from qualtran.drawing import show_bloq, show_call_graph, show_counts_sigma\n",
    "from typing import *\n",
    "import numpy as np\n",
    "import sympy\n",
    "import cirq"
   ]
  },
  {
   "cell_type": "markdown",
   "id": "8e668982",
   "metadata": {
    "cq.autogen": "CSwap.bloq_doc.md"
   },
   "source": [
    "## `CSwap`\n",
    "Swap two registers controlled on a control bit.\n",
    "\n",
    "Implements a multi-target controlled swap unitary $CSWAP_n = |0><0| I + |1><1| SWAP_n$.\n",
    "\n",
    "This decomposes into a qubitwise SWAP on the two target registers, and takes $14n$ T-gates.\n",
    "\n",
    "#### Parameters\n",
    " - `bitsize`: The bitsize of each of the two registers being swapped. \n",
    "\n",
    "#### Registers\n",
    " - `ctrl`: the control bit\n",
    " - `x`: the first register\n",
    " - `y`: the second register\n"
   ]
  },
  {
   "cell_type": "code",
   "execution_count": 2,
   "id": "7486a640",
   "metadata": {
    "cq.autogen": "CSwap.bloq_doc.py"
   },
   "outputs": [],
   "source": [
    "from qualtran.bloqs.basic_gates import CSwap"
   ]
  },
  {
   "cell_type": "markdown",
   "id": "fa8b3b02",
   "metadata": {
    "cq.autogen": "CSwap.example_instances.md"
   },
   "source": [
    "### Example Instances"
   ]
  },
  {
   "cell_type": "code",
   "execution_count": 3,
   "id": "6b9600e8",
   "metadata": {
    "cq.autogen": "CSwap.cswap_symb"
   },
   "outputs": [],
   "source": [
    "# A symbolic version. The bitsize is the symbol 'n'.\n",
    "from sympy import sympify\n",
    "\n",
    "cswap_symb = CSwap(bitsize=sympify('n'))"
   ]
  },
  {
   "cell_type": "code",
   "execution_count": 4,
   "id": "745afb32",
   "metadata": {
    "cq.autogen": "CSwap.cswap_small"
   },
   "outputs": [],
   "source": [
    "# A small version on four bits.\n",
    "cswap_small = CSwap(bitsize=4)"
   ]
  },
  {
   "cell_type": "code",
   "execution_count": 5,
   "id": "a5bac02b",
   "metadata": {
    "cq.autogen": "CSwap.cswap_large"
   },
   "outputs": [],
   "source": [
    "# A large version that swaps 64-bit registers.\n",
    "cswap_large = CSwap(bitsize=64)"
   ]
  },
  {
   "cell_type": "markdown",
   "id": "70b14690",
   "metadata": {
    "cq.autogen": "CSwap.graphical_signature.md"
   },
   "source": [
    "#### Graphical Signature"
   ]
  },
  {
   "cell_type": "code",
   "execution_count": 6,
   "id": "c4ad9f12",
   "metadata": {
    "cq.autogen": "CSwap.graphical_signature.py"
   },
   "outputs": [
    {
     "data": {
      "application/vnd.jupyter.widget-view+json": {
       "model_id": "c7814a1a612b4d1da439edec274b9862",
       "version_major": 2,
       "version_minor": 0
      },
      "text/plain": [
       "HBox(children=(Output(outputs=({'output_type': 'display_data', 'data': {'text/plain': '<IPython.core.display.M…"
      ]
     },
     "metadata": {},
     "output_type": "display_data"
    }
   ],
   "source": [
    "from qualtran.drawing import show_bloqs\n",
    "show_bloqs([cswap_symb, cswap_small, cswap_large],\n",
    "           ['`cswap_symb`', '`cswap_small`', '`cswap_large`'])"
   ]
  },
  {
   "cell_type": "markdown",
   "id": "615155b0",
   "metadata": {
    "cq.autogen": "CSwap.call_graph.md"
   },
   "source": [
    "### Call Graph"
   ]
  },
  {
   "cell_type": "code",
   "execution_count": 7,
   "id": "7c1215b2",
   "metadata": {
    "cq.autogen": "CSwap.call_graph.py"
   },
   "outputs": [
    {
     "data": {
      "image/svg+xml": [
       "<svg xmlns=\"http://www.w3.org/2000/svg\" xmlns:xlink=\"http://www.w3.org/1999/xlink\" width=\"105pt\" height=\"131pt\" viewBox=\"0.00 0.00 105.00 131.00\">\n",
       "<g id=\"graph0\" class=\"graph\" transform=\"scale(1 1) rotate(0) translate(4 127)\">\n",
       "<title>counts</title>\n",
       "<polygon fill=\"white\" stroke=\"transparent\" points=\"-4,4 -4,-127 101,-127 101,4 -4,4\"/>\n",
       "<!-- b0 -->\n",
       "<g id=\"node1\" class=\"node\">\n",
       "<title>b0</title>\n",
       "<polygon fill=\"none\" stroke=\"black\" points=\"84,-123 13,-123 13,-87 84,-87 84,-123\"/>\n",
       "<text text-anchor=\"start\" x=\"28.5\" y=\"-106.8\" font-family=\"Times,serif\" font-size=\"14.00\">CSwap</text>\n",
       "<text text-anchor=\"start\" x=\"21\" y=\"-96\" font-family=\"monospace\" font-size=\"10.00\">bitsize=n</text>\n",
       "</g>\n",
       "<!-- b1 -->\n",
       "<g id=\"node2\" class=\"node\">\n",
       "<title>b1</title>\n",
       "<polygon fill=\"none\" stroke=\"black\" points=\"97,-36 0,-36 0,0 97,0 97,-36\"/>\n",
       "<text text-anchor=\"start\" x=\"8\" y=\"-14.3\" font-family=\"Times,serif\" font-size=\"14.00\">TwoBitCSwap</text>\n",
       "</g>\n",
       "<!-- b0&#45;&gt;b1 -->\n",
       "<g id=\"edge1\" class=\"edge\">\n",
       "<title>b0-&gt;b1</title>\n",
       "<path fill=\"none\" stroke=\"black\" d=\"M48.5,-86.8C48.5,-75.16 48.5,-59.55 48.5,-46.24\"/>\n",
       "<polygon fill=\"black\" stroke=\"black\" points=\"52,-46.18 48.5,-36.18 45,-46.18 52,-46.18\"/>\n",
       "<text text-anchor=\"middle\" x=\"52\" y=\"-57.8\" font-family=\"Times,serif\" font-size=\"14.00\">n</text>\n",
       "</g>\n",
       "</g>\n",
       "</svg>"
      ],
      "text/plain": [
       "<IPython.core.display.SVG object>"
      ]
     },
     "metadata": {},
     "output_type": "display_data"
    },
    {
     "data": {
      "text/markdown": [
       "#### Counts totals:\n",
       " - `TwoBitCSwap()`: $\\displaystyle n$"
      ],
      "text/plain": [
       "<IPython.core.display.Markdown object>"
      ]
     },
     "metadata": {},
     "output_type": "display_data"
    }
   ],
   "source": [
    "from qualtran.resource_counting.generalizers import ignore_split_join\n",
    "cswap_symb_g, cswap_symb_sigma = cswap_symb.call_graph(max_depth=1, generalizer=ignore_split_join)\n",
    "show_call_graph(cswap_symb_g)\n",
    "show_counts_sigma(cswap_symb_sigma)"
   ]
  },
  {
   "cell_type": "markdown",
   "id": "c4d14510",
   "metadata": {
    "cq.autogen": "CSwapApprox.bloq_doc.md"
   },
   "source": [
    "## `CSwapApprox`\n",
    "Approximately implements a multi-target controlled swap unitary using only $4n$ T-gates.\n",
    "\n",
    "Implements $\\mathrm{CSWAP}_n = |0 \\rangle\\langle 0| I + |1 \\rangle\\langle 1| \\mathrm{SWAP}_n$\n",
    "such that the output state is correct up to a global phase factor of +1 / -1.\n",
    "\n",
    "This is useful when the incorrect phase can be absorbed in a garbage state of an algorithm\n",
    "and thus ignored. See the reference for more details.\n",
    "\n",
    "#### Parameters\n",
    " - `bitsize`: The bitsize of the two registers being swapped. \n",
    "\n",
    "#### Registers\n",
    " - `ctrl`: the control bit\n",
    " - `x`: the first register\n",
    " - `y`: the second register \n",
    "\n",
    "#### References\n",
    " - [Trading T-gates for dirty qubits in state preparation and unitary synthesis](https://arxiv.org/abs/1812.00954). Low et. al. 2018. See Appendix B.2.c.\n"
   ]
  },
  {
   "cell_type": "code",
   "execution_count": 8,
   "id": "0818b4b3",
   "metadata": {
    "cq.autogen": "CSwapApprox.bloq_doc.py"
   },
   "outputs": [],
   "source": [
    "from qualtran.bloqs.swap_network import CSwapApprox"
   ]
  },
  {
   "cell_type": "markdown",
   "id": "c84a60b4",
   "metadata": {
    "cq.autogen": "CSwapApprox.example_instances.md"
   },
   "source": [
    "### Example Instances"
   ]
  },
  {
   "cell_type": "code",
   "execution_count": 9,
   "id": "6e3ad9fb",
   "metadata": {
    "cq.autogen": "CSwapApprox.approx_cswap_symb"
   },
   "outputs": [],
   "source": [
    "# A symbolic version. The bitsize is the symbol 'n'.\n",
    "from sympy import sympify\n",
    "\n",
    "approx_cswap_symb = CSwapApprox(bitsize=sympify('n'))"
   ]
  },
  {
   "cell_type": "code",
   "execution_count": 10,
   "id": "a84e60be",
   "metadata": {
    "cq.autogen": "CSwapApprox.approx_cswap_small"
   },
   "outputs": [],
   "source": [
    "# A small version on four bits.\n",
    "approx_cswap_small = CSwapApprox(bitsize=4)"
   ]
  },
  {
   "cell_type": "code",
   "execution_count": 11,
   "id": "c9b806da",
   "metadata": {
    "cq.autogen": "CSwapApprox.approx_cswap_large"
   },
   "outputs": [],
   "source": [
    "# A large version that swaps 64-bit registers.\n",
    "approx_cswap_large = CSwapApprox(bitsize=64)"
   ]
  },
  {
   "cell_type": "markdown",
   "id": "d761ec04",
   "metadata": {
    "cq.autogen": "CSwapApprox.graphical_signature.md"
   },
   "source": [
    "#### Graphical Signature"
   ]
  },
  {
   "cell_type": "code",
   "execution_count": 12,
   "id": "b5202f4c",
   "metadata": {
    "cq.autogen": "CSwapApprox.graphical_signature.py"
   },
   "outputs": [
    {
     "data": {
      "application/vnd.jupyter.widget-view+json": {
       "model_id": "e1a9353b915c4f559c6351ec07b0292c",
       "version_major": 2,
       "version_minor": 0
      },
      "text/plain": [
       "HBox(children=(Output(outputs=({'output_type': 'display_data', 'data': {'text/plain': '<IPython.core.display.M…"
      ]
     },
     "metadata": {},
     "output_type": "display_data"
    }
   ],
   "source": [
    "from qualtran.drawing import show_bloqs\n",
    "show_bloqs([approx_cswap_symb, approx_cswap_small, approx_cswap_large],\n",
    "           ['`approx_cswap_symb`', '`approx_cswap_small`', '`approx_cswap_large`'])"
   ]
  },
  {
   "cell_type": "markdown",
   "id": "cb519e6b",
   "metadata": {
    "cq.autogen": "CSwapApprox.call_graph.md"
   },
   "source": [
    "### Call Graph"
   ]
  },
  {
   "cell_type": "code",
   "execution_count": 13,
   "id": "ee0a90c5",
   "metadata": {
    "cq.autogen": "CSwapApprox.call_graph.py"
   },
   "outputs": [
    {
     "data": {
      "image/svg+xml": [
       "<svg xmlns=\"http://www.w3.org/2000/svg\" xmlns:xlink=\"http://www.w3.org/1999/xlink\" width=\"378pt\" height=\"131pt\" viewBox=\"0.00 0.00 378.00 131.00\">\n",
       "<g id=\"graph0\" class=\"graph\" transform=\"scale(1 1) rotate(0) translate(4 127)\">\n",
       "<title>counts</title>\n",
       "<polygon fill=\"white\" stroke=\"transparent\" points=\"-4,4 -4,-127 374,-127 374,4 -4,4\"/>\n",
       "<!-- b0 -->\n",
       "<g id=\"node1\" class=\"node\">\n",
       "<title>b0</title>\n",
       "<polygon fill=\"none\" stroke=\"black\" points=\"233.5,-123 136.5,-123 136.5,-87 233.5,-87 233.5,-123\"/>\n",
       "<text text-anchor=\"start\" x=\"144.5\" y=\"-106.8\" font-family=\"Times,serif\" font-size=\"14.00\">CSwapApprox</text>\n",
       "<text text-anchor=\"start\" x=\"157.5\" y=\"-96\" font-family=\"monospace\" font-size=\"10.00\">bitsize=n</text>\n",
       "</g>\n",
       "<!-- b1 -->\n",
       "<g id=\"node2\" class=\"node\">\n",
       "<title>b1</title>\n",
       "<polygon fill=\"none\" stroke=\"black\" points=\"110,-36 0,-36 0,0 110,0 110,-36\"/>\n",
       "<text text-anchor=\"start\" x=\"8\" y=\"-19.8\" font-family=\"Times,serif\" font-size=\"14.00\">ArbitraryClifford</text>\n",
       "<text text-anchor=\"start\" x=\"45.5\" y=\"-9\" font-family=\"monospace\" font-size=\"10.00\">n=1</text>\n",
       "</g>\n",
       "<!-- b0&#45;&gt;b1 -->\n",
       "<g id=\"edge1\" class=\"edge\">\n",
       "<title>b0-&gt;b1</title>\n",
       "<path fill=\"none\" stroke=\"black\" d=\"M158.69,-86.8C138.87,-73.84 111.5,-55.94 89.85,-41.79\"/>\n",
       "<polygon fill=\"black\" stroke=\"black\" points=\"91.55,-38.72 81.27,-36.18 87.72,-44.58 91.55,-38.72\"/>\n",
       "<text text-anchor=\"middle\" x=\"140.5\" y=\"-57.8\" font-family=\"Times,serif\" font-size=\"14.00\">16⋅n</text>\n",
       "</g>\n",
       "<!-- b2 -->\n",
       "<g id=\"node3\" class=\"node\">\n",
       "<title>b2</title>\n",
       "<polygon fill=\"none\" stroke=\"black\" points=\"241.5,-36 128.5,-36 128.5,0 241.5,0 241.5,-36\"/>\n",
       "<text text-anchor=\"start\" x=\"180.5\" y=\"-19.8\" font-family=\"Times,serif\" font-size=\"14.00\">T</text>\n",
       "<text text-anchor=\"start\" x=\"136.5\" y=\"-9\" font-family=\"monospace\" font-size=\"10.00\">is_adjoint=False</text>\n",
       "</g>\n",
       "<!-- b0&#45;&gt;b2 -->\n",
       "<g id=\"edge2\" class=\"edge\">\n",
       "<title>b0-&gt;b2</title>\n",
       "<path fill=\"none\" stroke=\"black\" d=\"M185,-86.8C185,-75.16 185,-59.55 185,-46.24\"/>\n",
       "<polygon fill=\"black\" stroke=\"black\" points=\"188.5,-46.18 185,-36.18 181.5,-46.18 188.5,-46.18\"/>\n",
       "<text text-anchor=\"middle\" x=\"194.5\" y=\"-57.8\" font-family=\"Times,serif\" font-size=\"14.00\">4⋅n</text>\n",
       "</g>\n",
       "<!-- b3 -->\n",
       "<g id=\"node4\" class=\"node\">\n",
       "<title>b3</title>\n",
       "<polygon fill=\"none\" stroke=\"black\" points=\"370,-36 260,-36 260,0 370,0 370,-36\"/>\n",
       "<text text-anchor=\"start\" x=\"268\" y=\"-19.8\" font-family=\"Times,serif\" font-size=\"14.00\">ArbitraryClifford</text>\n",
       "<text text-anchor=\"start\" x=\"305.5\" y=\"-9\" font-family=\"monospace\" font-size=\"10.00\">n=2</text>\n",
       "</g>\n",
       "<!-- b0&#45;&gt;b3 -->\n",
       "<g id=\"edge3\" class=\"edge\">\n",
       "<title>b0-&gt;b3</title>\n",
       "<path fill=\"none\" stroke=\"black\" d=\"M211.31,-86.8C231.13,-73.84 258.5,-55.94 280.15,-41.79\"/>\n",
       "<polygon fill=\"black\" stroke=\"black\" points=\"282.28,-44.58 288.73,-36.18 278.45,-38.72 282.28,-44.58\"/>\n",
       "<text text-anchor=\"middle\" x=\"276.5\" y=\"-57.8\" font-family=\"Times,serif\" font-size=\"14.00\">6⋅n - 1</text>\n",
       "</g>\n",
       "</g>\n",
       "</svg>"
      ],
      "text/plain": [
       "<IPython.core.display.SVG object>"
      ]
     },
     "metadata": {},
     "output_type": "display_data"
    },
    {
     "data": {
      "text/markdown": [
       "#### Counts totals:\n",
       " - `ArbitraryClifford(n=1)`: $\\displaystyle 16 n$\n",
       " - `ArbitraryClifford(n=2)`: $\\displaystyle 6 n - 1$\n",
       " - `TGate()`: $\\displaystyle 4 n$"
      ],
      "text/plain": [
       "<IPython.core.display.Markdown object>"
      ]
     },
     "metadata": {},
     "output_type": "display_data"
    }
   ],
   "source": [
    "from qualtran.resource_counting.generalizers import ignore_split_join\n",
    "approx_cswap_symb_g, approx_cswap_symb_sigma = approx_cswap_symb.call_graph(max_depth=1, generalizer=ignore_split_join)\n",
    "show_call_graph(approx_cswap_symb_g)\n",
    "show_counts_sigma(approx_cswap_symb_sigma)"
   ]
  },
  {
   "cell_type": "markdown",
   "id": "0697fe71",
   "metadata": {
    "cq.autogen": "SwapWithZero.bloq_doc.md"
   },
   "source": [
    "## `SwapWithZero`\n",
    "Swaps |Psi_0> with |Psi_x> if selection register stores index `x`.\n",
    "\n",
    "Implements the unitary U |x> |Psi_0> |Psi_1> ... |Psi_{n-1}> --> |x> |Psi_x> |Rest of Psi>.\n",
    "Note that the state of `|Rest of Psi>` is allowed to be anything and should not be depended\n",
    "upon.\n",
    "\n",
    "#### References\n",
    " - [Trading T-gates for dirty qubits in state preparation and unitary synthesis](https://arxiv.org/abs/1812.00954). Low, Kliuchnikov, Schaeffer. 2018.\n"
   ]
  },
  {
   "cell_type": "code",
   "execution_count": 14,
   "id": "26ca63f7",
   "metadata": {
    "cq.autogen": "SwapWithZero.bloq_doc.py"
   },
   "outputs": [],
   "source": [
    "from qualtran.bloqs.swap_network import SwapWithZero"
   ]
  },
  {
   "cell_type": "markdown",
   "id": "cf2ee142",
   "metadata": {
    "cq.autogen": "SwapWithZero.example_instances.md"
   },
   "source": [
    "### Example Instances"
   ]
  },
  {
   "cell_type": "code",
   "execution_count": 15,
   "id": "4ae57bc8",
   "metadata": {
    "cq.autogen": "SwapWithZero.swz"
   },
   "outputs": [],
   "source": [
    "swz = SwapWithZero(selection_bitsize=8, target_bitsize=32, n_target_registers=4)"
   ]
  },
  {
   "cell_type": "code",
   "execution_count": 16,
   "id": "53b5d9ce",
   "metadata": {
    "cq.autogen": "SwapWithZero.swz_small"
   },
   "outputs": [],
   "source": [
    "# A small version on four bits.\n",
    "swz_small = SwapWithZero(selection_bitsize=3, target_bitsize=2, n_target_registers=2)"
   ]
  },
  {
   "cell_type": "markdown",
   "id": "d8f18107",
   "metadata": {
    "cq.autogen": "SwapWithZero.graphical_signature.md"
   },
   "source": [
    "#### Graphical Signature"
   ]
  },
  {
   "cell_type": "code",
   "execution_count": 17,
   "id": "ad7b860d",
   "metadata": {
    "cq.autogen": "SwapWithZero.graphical_signature.py"
   },
   "outputs": [
    {
     "data": {
      "application/vnd.jupyter.widget-view+json": {
       "model_id": "dca3f382b2ef412f9751835fb1aa802a",
       "version_major": 2,
       "version_minor": 0
      },
      "text/plain": [
       "HBox(children=(Output(outputs=({'output_type': 'display_data', 'data': {'text/plain': '<IPython.core.display.M…"
      ]
     },
     "metadata": {},
     "output_type": "display_data"
    }
   ],
   "source": [
    "from qualtran.drawing import show_bloqs\n",
    "show_bloqs([swz, swz_small],\n",
    "           ['`swz`', '`swz_small`'])"
   ]
  },
  {
   "cell_type": "markdown",
   "id": "e2e0a267",
   "metadata": {
    "cq.autogen": "SwapWithZero.call_graph.md"
   },
   "source": [
    "### Call Graph"
   ]
  },
  {
   "cell_type": "code",
   "execution_count": 18,
   "id": "0e577a02",
   "metadata": {
    "cq.autogen": "SwapWithZero.call_graph.py"
   },
   "outputs": [
    {
     "data": {
      "image/svg+xml": [
       "<svg xmlns=\"http://www.w3.org/2000/svg\" xmlns:xlink=\"http://www.w3.org/1999/xlink\" width=\"385pt\" height=\"131pt\" viewBox=\"0.00 0.00 385.00 131.00\">\n",
       "<g id=\"graph0\" class=\"graph\" transform=\"scale(1 1) rotate(0) translate(4 127)\">\n",
       "<title>counts</title>\n",
       "<polygon fill=\"white\" stroke=\"transparent\" points=\"-4,4 -4,-127 381,-127 381,4 -4,4\"/>\n",
       "<!-- b0 -->\n",
       "<g id=\"node1\" class=\"node\">\n",
       "<title>b0</title>\n",
       "<polygon fill=\"none\" stroke=\"black\" points=\"377,-123 0,-123 0,-87 377,-87 377,-123\"/>\n",
       "<text text-anchor=\"start\" x=\"147\" y=\"-106.8\" font-family=\"Times,serif\" font-size=\"14.00\">SwapWithZero</text>\n",
       "<text text-anchor=\"start\" x=\"8\" y=\"-96\" font-family=\"monospace\" font-size=\"10.00\">selection_bitsize=8, target_bitsize=32, n_target_registers=4</text>\n",
       "</g>\n",
       "<!-- b1 -->\n",
       "<g id=\"node2\" class=\"node\">\n",
       "<title>b1</title>\n",
       "<polygon fill=\"none\" stroke=\"black\" points=\"237,-36 140,-36 140,0 237,0 237,-36\"/>\n",
       "<text text-anchor=\"start\" x=\"148\" y=\"-19.8\" font-family=\"Times,serif\" font-size=\"14.00\">CSwapApprox</text>\n",
       "<text text-anchor=\"start\" x=\"158\" y=\"-9\" font-family=\"monospace\" font-size=\"10.00\">bitsize=32</text>\n",
       "</g>\n",
       "<!-- b0&#45;&gt;b1 -->\n",
       "<g id=\"edge1\" class=\"edge\">\n",
       "<title>b0-&gt;b1</title>\n",
       "<path fill=\"none\" stroke=\"black\" d=\"M188.5,-86.8C188.5,-75.16 188.5,-59.55 188.5,-46.24\"/>\n",
       "<polygon fill=\"black\" stroke=\"black\" points=\"192,-46.18 188.5,-36.18 185,-46.18 192,-46.18\"/>\n",
       "<text text-anchor=\"middle\" x=\"192\" y=\"-57.8\" font-family=\"Times,serif\" font-size=\"14.00\">3</text>\n",
       "</g>\n",
       "</g>\n",
       "</svg>"
      ],
      "text/plain": [
       "<IPython.core.display.SVG object>"
      ]
     },
     "metadata": {},
     "output_type": "display_data"
    },
    {
     "data": {
      "text/markdown": [
       "#### Counts totals:\n",
       " - `CSwapApprox(bitsize=32)`: 3"
      ],
      "text/plain": [
       "<IPython.core.display.Markdown object>"
      ]
     },
     "metadata": {},
     "output_type": "display_data"
    }
   ],
   "source": [
    "from qualtran.resource_counting.generalizers import ignore_split_join\n",
    "swz_g, swz_sigma = swz.call_graph(max_depth=1, generalizer=ignore_split_join)\n",
    "show_call_graph(swz_g)\n",
    "show_counts_sigma(swz_sigma)"
   ]
  },
  {
   "cell_type": "markdown",
   "id": "9f8d8d5b",
   "metadata": {
    "cq.autogen": "MultiplexedCSwap.bloq_doc.md"
   },
   "source": [
    "## `MultiplexedCSwap`\n",
    "Swaps the $l$-th register into an ancilla using unary iteration.\n",
    "\n",
    "Applies the unitary which performs\n",
    "$$\n",
    "    U |l\\rangle|\\psi_0\\rangle\\cdots|\\psi_l\\rangle\\cdots|\\psi_n\\rangle|\\mathrm{junk}\\rangle\n",
    "    \\rightarrow\n",
    "    |l\\rangle|\\psi_0\\rangle\\cdots|\\mathrm{junk}\\rangle\\cdots|\\psi_n\\rangle|\\psi_l\\rangle\n",
    "$$\n",
    "through a combination of unary iteration and CSwaps.\n",
    "\n",
    "The toffoli cost should be $L n_b + L - 2 + n_c$, where $L$ is the\n",
    "iteration length, $n_b$ is the bitsize of\n",
    "the registers to swap, and $n_c$ is the number of controls.\n",
    "\n",
    "#### Parameters\n",
    " - `selection_regs`: Indexing `select` signature of type Tuple[[`Register`](/reference/qualtran/Register.md), ...]. It also contains information about the iteration length of each selection register.\n",
    " - `target_bitsize`: The size of the registers we want to swap.\n",
    " - `control_regs`: Control registers for constructing a controlled version of the gate. \n",
    "\n",
    "#### Registers\n",
    " - `control_registers`: Control registers\n",
    " - `selection_regs`: Indexing `select` signature of type Tuple[[`Register`](/reference/qualtran/Register.md), ...]. It also contains information about the iteration length of each selection register.\n",
    " - `target_registers`: Target registers to swap. We swap FROM registers labelled x`i`, where i is an integer and TO a single register called y \n",
    "\n",
    "#### References\n",
    " - [Fault-Tolerant Quantum Simulations of Chemistry in First Quantization](https://arxiv.org/abs/2105.12767). page 20 paragraph 2.\n"
   ]
  },
  {
   "cell_type": "code",
   "execution_count": 19,
   "id": "1ed31356",
   "metadata": {
    "cq.autogen": "MultiplexedCSwap.bloq_doc.py"
   },
   "outputs": [],
   "source": [
    "from qualtran.bloqs.swap_network import MultiplexedCSwap"
   ]
  },
  {
   "cell_type": "markdown",
   "id": "7820463a",
   "metadata": {
    "cq.autogen": "MultiplexedCSwap.example_instances.md"
   },
   "source": [
    "### Example Instances"
   ]
  },
  {
   "cell_type": "code",
   "execution_count": 20,
   "id": "eecc8c55",
   "metadata": {
    "cq.autogen": "MultiplexedCSwap.multiplexed_cswap"
   },
   "outputs": [],
   "source": [
    "from qualtran import BoundedQUInt\n",
    "\n",
    "selection_bitsize = 3\n",
    "iteration_length = 5\n",
    "target_bitsize = 2\n",
    "multiplexed_cswap = MultiplexedCSwap(\n",
    "    Register('selection', BoundedQUInt(selection_bitsize, iteration_length)),\n",
    "    target_bitsize=target_bitsize,\n",
    ")\n"
   ]
  },
  {
   "cell_type": "markdown",
   "id": "def65ae4",
   "metadata": {
    "cq.autogen": "MultiplexedCSwap.graphical_signature.md"
   },
   "source": [
    "#### Graphical Signature"
   ]
  },
  {
   "cell_type": "code",
   "execution_count": 21,
   "id": "a1058418",
   "metadata": {
    "cq.autogen": "MultiplexedCSwap.graphical_signature.py"
   },
   "outputs": [
    {
     "data": {
      "application/vnd.jupyter.widget-view+json": {
       "model_id": "2c57e180a5ff42808cae4810f97d6563",
       "version_major": 2,
       "version_minor": 0
      },
      "text/plain": [
       "HBox(children=(Output(outputs=({'output_type': 'display_data', 'data': {'text/plain': '<IPython.core.display.M…"
      ]
     },
     "metadata": {},
     "output_type": "display_data"
    }
   ],
   "source": [
    "from qualtran.drawing import show_bloqs\n",
    "show_bloqs([multiplexed_cswap],\n",
    "           ['`multiplexed_cswap`'])"
   ]
  },
  {
   "cell_type": "markdown",
   "id": "0846b1dd",
   "metadata": {
    "cq.autogen": "MultiplexedCSwap.call_graph.md"
   },
   "source": [
    "### Call Graph"
   ]
  },
  {
   "cell_type": "code",
   "execution_count": 22,
   "id": "14e42074",
   "metadata": {
    "cq.autogen": "MultiplexedCSwap.call_graph.py"
   },
   "outputs": [
    {
     "data": {
      "image/svg+xml": [
       "<svg xmlns=\"http://www.w3.org/2000/svg\" xmlns:xlink=\"http://www.w3.org/1999/xlink\" width=\"642pt\" height=\"131pt\" viewBox=\"0.00 0.00 642.00 131.00\">\n",
       "<g id=\"graph0\" class=\"graph\" transform=\"scale(1 1) rotate(0) translate(4 127)\">\n",
       "<title>counts</title>\n",
       "<polygon fill=\"white\" stroke=\"transparent\" points=\"-4,4 -4,-127 638,-127 638,4 -4,4\"/>\n",
       "<!-- b0 -->\n",
       "<g id=\"node1\" class=\"node\">\n",
       "<title>b0</title>\n",
       "<polygon fill=\"none\" stroke=\"black\" points=\"634,-123 245,-123 245,-87 634,-87 634,-123\"/>\n",
       "<text text-anchor=\"start\" x=\"386.5\" y=\"-106.8\" font-family=\"Times,serif\" font-size=\"14.00\">MultiplexedCSwap</text>\n",
       "<text text-anchor=\"start\" x=\"253\" y=\"-96\" font-family=\"monospace\" font-size=\"10.00\">selection_regs=(Registe ..., target_bitsize=2, control_regs=()</text>\n",
       "</g>\n",
       "<!-- b1 -->\n",
       "<g id=\"node2\" class=\"node\">\n",
       "<title>b1</title>\n",
       "<polygon fill=\"none\" stroke=\"black\" points=\"185,-36 0,-36 0,0 185,0 185,-36\"/>\n",
       "<text text-anchor=\"start\" x=\"77\" y=\"-19.8\" font-family=\"Times,serif\" font-size=\"14.00\">And†</text>\n",
       "<text text-anchor=\"start\" x=\"8\" y=\"-9\" font-family=\"monospace\" font-size=\"10.00\">cv1=1, cv2=1, uncompute=True</text>\n",
       "</g>\n",
       "<!-- b0&#45;&gt;b1 -->\n",
       "<g id=\"edge1\" class=\"edge\">\n",
       "<title>b0-&gt;b1</title>\n",
       "<path fill=\"none\" stroke=\"black\" d=\"M369.7,-86.9C312.52,-72.89 231.6,-53.07 171.95,-38.46\"/>\n",
       "<polygon fill=\"black\" stroke=\"black\" points=\"172.74,-35.05 162.19,-36.07 171.07,-41.85 172.74,-35.05\"/>\n",
       "<text text-anchor=\"middle\" x=\"291\" y=\"-57.8\" font-family=\"Times,serif\" font-size=\"14.00\">3</text>\n",
       "</g>\n",
       "<!-- b2 -->\n",
       "<g id=\"node3\" class=\"node\">\n",
       "<title>b2</title>\n",
       "<polygon fill=\"none\" stroke=\"black\" points=\"394,-36 203,-36 203,0 394,0 394,-36\"/>\n",
       "<text text-anchor=\"start\" x=\"286.5\" y=\"-19.8\" font-family=\"Times,serif\" font-size=\"14.00\">And</text>\n",
       "<text text-anchor=\"start\" x=\"211\" y=\"-9\" font-family=\"monospace\" font-size=\"10.00\">cv1=1, cv2=0, uncompute=False</text>\n",
       "</g>\n",
       "<!-- b0&#45;&gt;b2 -->\n",
       "<g id=\"edge2\" class=\"edge\">\n",
       "<title>b0-&gt;b2</title>\n",
       "<path fill=\"none\" stroke=\"black\" d=\"M410.97,-86.8C389.27,-73.72 359.25,-55.62 335.68,-41.41\"/>\n",
       "<polygon fill=\"black\" stroke=\"black\" points=\"337.36,-38.34 326.99,-36.18 333.75,-44.34 337.36,-38.34\"/>\n",
       "<text text-anchor=\"middle\" x=\"381\" y=\"-57.8\" font-family=\"Times,serif\" font-size=\"14.00\">3</text>\n",
       "</g>\n",
       "<!-- b3 -->\n",
       "<g id=\"node4\" class=\"node\">\n",
       "<title>b3</title>\n",
       "<polygon fill=\"none\" stroke=\"black\" points=\"466.5,-36 412.5,-36 412.5,0 466.5,0 466.5,-36\"/>\n",
       "<text text-anchor=\"start\" x=\"421\" y=\"-14.3\" font-family=\"Times,serif\" font-size=\"14.00\">CNOT</text>\n",
       "</g>\n",
       "<!-- b0&#45;&gt;b3 -->\n",
       "<g id=\"edge3\" class=\"edge\">\n",
       "<title>b0-&gt;b3</title>\n",
       "<path fill=\"none\" stroke=\"black\" d=\"M439.5,-86.8C439.5,-75.16 439.5,-59.55 439.5,-46.24\"/>\n",
       "<polygon fill=\"black\" stroke=\"black\" points=\"443,-46.18 439.5,-36.18 436,-46.18 443,-46.18\"/>\n",
       "<text text-anchor=\"middle\" x=\"443\" y=\"-57.8\" font-family=\"Times,serif\" font-size=\"14.00\">3</text>\n",
       "</g>\n",
       "<!-- b4 -->\n",
       "<g id=\"node5\" class=\"node\">\n",
       "<title>b4</title>\n",
       "<polygon fill=\"none\" stroke=\"black\" points=\"556,-36 485,-36 485,0 556,0 556,-36\"/>\n",
       "<text text-anchor=\"start\" x=\"500.5\" y=\"-19.8\" font-family=\"Times,serif\" font-size=\"14.00\">CSwap</text>\n",
       "<text text-anchor=\"start\" x=\"493\" y=\"-9\" font-family=\"monospace\" font-size=\"10.00\">bitsize=2</text>\n",
       "</g>\n",
       "<!-- b0&#45;&gt;b4 -->\n",
       "<g id=\"edge4\" class=\"edge\">\n",
       "<title>b0-&gt;b4</title>\n",
       "<path fill=\"none\" stroke=\"black\" d=\"M455.89,-86.8C467.75,-74.36 483.94,-57.36 497.15,-43.5\"/>\n",
       "<polygon fill=\"black\" stroke=\"black\" points=\"499.77,-45.83 504.13,-36.18 494.7,-41 499.77,-45.83\"/>\n",
       "<text text-anchor=\"middle\" x=\"489\" y=\"-57.8\" font-family=\"Times,serif\" font-size=\"14.00\">5</text>\n",
       "</g>\n",
       "<!-- b5 -->\n",
       "<g id=\"node6\" class=\"node\">\n",
       "<title>b5</title>\n",
       "<polygon fill=\"none\" stroke=\"black\" points=\"628.5,-36 574.5,-36 574.5,0 628.5,0 628.5,-36\"/>\n",
       "<text text-anchor=\"start\" x=\"583.5\" y=\"-14.3\" font-family=\"Times,serif\" font-size=\"14.00\">XGate</text>\n",
       "</g>\n",
       "<!-- b0&#45;&gt;b5 -->\n",
       "<g id=\"edge5\" class=\"edge\">\n",
       "<title>b0-&gt;b5</title>\n",
       "<path fill=\"none\" stroke=\"black\" d=\"M472.28,-86.8C499.28,-72.63 537.51,-52.57 565.38,-37.95\"/>\n",
       "<polygon fill=\"black\" stroke=\"black\" points=\"567.18,-40.96 574.4,-33.22 563.92,-34.76 567.18,-40.96\"/>\n",
       "<text text-anchor=\"middle\" x=\"534\" y=\"-57.8\" font-family=\"Times,serif\" font-size=\"14.00\">2</text>\n",
       "</g>\n",
       "</g>\n",
       "</svg>"
      ],
      "text/plain": [
       "<IPython.core.display.SVG object>"
      ]
     },
     "metadata": {},
     "output_type": "display_data"
    },
    {
     "data": {
      "text/markdown": [
       "#### Counts totals:\n",
       " - `And(cv1=1, cv2=0, uncompute=False)`: 3\n",
       " - `And(cv1=1, cv2=1, uncompute=True)`: 3\n",
       " - `CNOT()`: 3\n",
       " - `CSwap(bitsize=2)`: 5\n",
       " - `XGate()`: 2"
      ],
      "text/plain": [
       "<IPython.core.display.Markdown object>"
      ]
     },
     "metadata": {},
     "output_type": "display_data"
    }
   ],
   "source": [
    "from qualtran.resource_counting.generalizers import ignore_split_join\n",
    "multiplexed_cswap_g, multiplexed_cswap_sigma = multiplexed_cswap.call_graph(max_depth=1, generalizer=ignore_split_join)\n",
    "show_call_graph(multiplexed_cswap_g)\n",
    "show_counts_sigma(multiplexed_cswap_sigma)"
   ]
  }
 ],
 "metadata": {
  "kernelspec": {
   "display_name": "Python 3 (ipykernel)",
   "language": "python",
   "name": "python3"
  },
  "language_info": {
   "codemirror_mode": {
    "name": "ipython",
    "version": 3
   },
   "file_extension": ".py",
   "mimetype": "text/x-python",
   "name": "python",
   "nbconvert_exporter": "python",
   "pygments_lexer": "ipython3",
   "version": "3.11.8"
  },
  "widgets": {
   "application/vnd.jupyter.widget-state+json": {
    "state": {
     "0ab5d1d6c7fb4e599ecd461fba0bf051": {
      "model_module": "@jupyter-widgets/base",
      "model_module_version": "2.0.0",
      "model_name": "LayoutModel",
      "state": {
       "_model_module": "@jupyter-widgets/base",
       "_model_module_version": "2.0.0",
       "_model_name": "LayoutModel",
       "_view_count": null,
       "_view_module": "@jupyter-widgets/base",
       "_view_module_version": "2.0.0",
       "_view_name": "LayoutView",
       "align_content": null,
       "align_items": null,
       "align_self": null,
       "border_bottom": null,
       "border_left": null,
       "border_right": null,
       "border_top": null,
       "bottom": null,
       "display": null,
       "flex": null,
       "flex_flow": null,
       "grid_area": null,
       "grid_auto_columns": null,
       "grid_auto_flow": null,
       "grid_auto_rows": null,
       "grid_column": null,
       "grid_gap": null,
       "grid_row": null,
       "grid_template_areas": null,
       "grid_template_columns": null,
       "grid_template_rows": null,
       "height": null,
       "justify_content": null,
       "justify_items": null,
       "left": null,
       "margin": null,
       "max_height": null,
       "max_width": null,
       "min_height": null,
       "min_width": null,
       "object_fit": null,
       "object_position": null,
       "order": null,
       "overflow": null,
       "padding": null,
       "right": null,
       "top": null,
       "visibility": null,
       "width": null
      }
     },
     "142cf4d8f57942c9ad592fb4dd8563eb": {
      "model_module": "@jupyter-widgets/base",
      "model_module_version": "2.0.0",
      "model_name": "LayoutModel",
      "state": {
       "_model_module": "@jupyter-widgets/base",
       "_model_module_version": "2.0.0",
       "_model_name": "LayoutModel",
       "_view_count": null,
       "_view_module": "@jupyter-widgets/base",
       "_view_module_version": "2.0.0",
       "_view_name": "LayoutView",
       "align_content": null,
       "align_items": null,
       "align_self": null,
       "border_bottom": null,
       "border_left": null,
       "border_right": null,
       "border_top": null,
       "bottom": null,
       "display": null,
       "flex": null,
       "flex_flow": null,
       "grid_area": null,
       "grid_auto_columns": null,
       "grid_auto_flow": null,
       "grid_auto_rows": null,
       "grid_column": null,
       "grid_gap": null,
       "grid_row": null,
       "grid_template_areas": null,
       "grid_template_columns": null,
       "grid_template_rows": null,
       "height": null,
       "justify_content": null,
       "justify_items": null,
       "left": null,
       "margin": null,
       "max_height": null,
       "max_width": null,
       "min_height": null,
       "min_width": null,
       "object_fit": null,
       "object_position": null,
       "order": null,
       "overflow": null,
       "padding": null,
       "right": null,
       "top": null,
       "visibility": null,
       "width": null
      }
     },
     "2268704d69874e509a4187bc8bb0c03e": {
      "model_module": "@jupyter-widgets/output",
      "model_module_version": "1.0.0",
      "model_name": "OutputModel",
      "state": {
       "_dom_classes": [],
       "_model_module": "@jupyter-widgets/output",
       "_model_module_version": "1.0.0",
       "_model_name": "OutputModel",
       "_view_count": null,
       "_view_module": "@jupyter-widgets/output",
       "_view_module_version": "1.0.0",
       "_view_name": "OutputView",
       "layout": "IPY_MODEL_ae6fc6bb94fa4e79aeecdd5a41f8dec4",
       "msg_id": "",
       "outputs": [
        {
         "data": {
          "text/markdown": "`multiplexed_cswap`",
          "text/plain": "<IPython.core.display.Markdown object>"
         },
         "metadata": {},
         "output_type": "display_data"
        },
        {
         "data": {
          "image/svg+xml": "<svg xmlns=\"http://www.w3.org/2000/svg\" xmlns:xlink=\"http://www.w3.org/1999/xlink\" width=\"276pt\" height=\"368pt\" viewBox=\"0.00 0.00 276.00 368.00\">\n<g id=\"graph0\" class=\"graph\" transform=\"scale(1 1) rotate(0) translate(4 364)\">\n<title>my_graph</title>\n<polygon fill=\"white\" stroke=\"transparent\" points=\"-4,4 -4,-364 272,-364 272,4 -4,4\"/>\n<!-- selection_G4 -->\n<g id=\"node1\" class=\"node\">\n<title>selection_G4</title>\n<text text-anchor=\"middle\" x=\"34\" y=\"-338.3\" font-family=\"Times,serif\" font-size=\"14.00\">selection</text>\n</g>\n<!-- MultiplexedCSwap -->\n<g id=\"node8\" class=\"node\">\n<title>MultiplexedCSwap</title>\n<polygon fill=\"none\" stroke=\"black\" points=\"105,-254 105,-271 163,-271 163,-254 105,-254\"/>\n<text text-anchor=\"start\" x=\"113.5\" y=\"-260\" font-family=\"Times,serif\" font-size=\"10.00\">Multiple..</text>\n<polygon fill=\"none\" stroke=\"black\" points=\"105,-233 105,-254 163,-254 163,-233 105,-233\"/>\n<text text-anchor=\"start\" x=\"109.5\" y=\"-239.8\" font-family=\"Times,serif\" font-size=\"14.00\">selection</text>\n<polygon fill=\"none\" stroke=\"black\" points=\"105,-212 105,-233 163,-233 163,-212 105,-212\"/>\n<text text-anchor=\"start\" x=\"108\" y=\"-218.8\" font-family=\"Times,serif\" font-size=\"14.00\">targets[0]</text>\n<polygon fill=\"none\" stroke=\"black\" points=\"105,-191 105,-212 163,-212 163,-191 105,-191\"/>\n<text text-anchor=\"start\" x=\"108\" y=\"-197.8\" font-family=\"Times,serif\" font-size=\"14.00\">targets[1]</text>\n<polygon fill=\"none\" stroke=\"black\" points=\"105,-170 105,-191 163,-191 163,-170 105,-170\"/>\n<text text-anchor=\"start\" x=\"108\" y=\"-176.8\" font-family=\"Times,serif\" font-size=\"14.00\">targets[2]</text>\n<polygon fill=\"none\" stroke=\"black\" points=\"105,-149 105,-170 163,-170 163,-149 105,-149\"/>\n<text text-anchor=\"start\" x=\"108\" y=\"-155.8\" font-family=\"Times,serif\" font-size=\"14.00\">targets[3]</text>\n<polygon fill=\"none\" stroke=\"black\" points=\"105,-128 105,-149 163,-149 163,-128 105,-128\"/>\n<text text-anchor=\"start\" x=\"108\" y=\"-134.8\" font-family=\"Times,serif\" font-size=\"14.00\">targets[4]</text>\n<polygon fill=\"none\" stroke=\"black\" points=\"105,-107 105,-128 163,-128 163,-107 105,-107\"/>\n<text text-anchor=\"start\" x=\"116.5\" y=\"-113.8\" font-family=\"Times,serif\" font-size=\"14.00\">output</text>\n</g>\n<!-- selection_G4&#45;&gt;MultiplexedCSwap -->\n<g id=\"edge1\" class=\"edge\">\n<title>selection_G4:e-&gt;MultiplexedCSwap:w</title>\n<path fill=\"none\" stroke=\"black\" d=\"M68,-342C90.55,-342 82.29,-250.03 102.91,-244.28\"/>\n<ellipse fill=\"black\" stroke=\"black\" cx=\"104.01\" cy=\"-244.13\" rx=\"1\" ry=\"1\"/>\n<text text-anchor=\"middle\" x=\"86.5\" y=\"-298\" font-family=\"Times,serif\" font-size=\"10.00\">3</text>\n</g>\n<!-- targets_G9 -->\n<g id=\"node2\" class=\"node\">\n<title>targets_G9</title>\n<text text-anchor=\"middle\" x=\"34\" y=\"-284.3\" font-family=\"Times,serif\" font-size=\"14.00\">targets[0]</text>\n</g>\n<!-- targets_G9&#45;&gt;MultiplexedCSwap -->\n<g id=\"edge2\" class=\"edge\">\n<title>targets_G9:e-&gt;MultiplexedCSwap:w</title>\n<path fill=\"none\" stroke=\"black\" d=\"M68,-288C100.46,-288 73.11,-226.01 102.76,-223.11\"/>\n<ellipse fill=\"black\" stroke=\"black\" cx=\"104\" cy=\"-223.05\" rx=\"1\" ry=\"1\"/>\n<text text-anchor=\"middle\" x=\"86.5\" y=\"-264\" font-family=\"Times,serif\" font-size=\"10.00\">2</text>\n</g>\n<!-- targets_G5 -->\n<g id=\"node3\" class=\"node\">\n<title>targets_G5</title>\n<text text-anchor=\"middle\" x=\"34\" y=\"-230.3\" font-family=\"Times,serif\" font-size=\"14.00\">targets[1]</text>\n</g>\n<!-- targets_G5&#45;&gt;MultiplexedCSwap -->\n<g id=\"edge3\" class=\"edge\">\n<title>targets_G5:e-&gt;MultiplexedCSwap:w</title>\n<path fill=\"none\" stroke=\"black\" d=\"M68,-234C88.89,-234 83.72,-204.45 102.58,-202.14\"/>\n<ellipse fill=\"black\" stroke=\"black\" cx=\"104\" cy=\"-202.06\" rx=\"1\" ry=\"1\"/>\n<text text-anchor=\"middle\" x=\"86.5\" y=\"-221\" font-family=\"Times,serif\" font-size=\"10.00\">2</text>\n</g>\n<!-- targets_G10 -->\n<g id=\"node4\" class=\"node\">\n<title>targets_G10</title>\n<text text-anchor=\"middle\" x=\"34\" y=\"-176.3\" font-family=\"Times,serif\" font-size=\"14.00\">targets[2]</text>\n</g>\n<!-- targets_G10&#45;&gt;MultiplexedCSwap -->\n<g id=\"edge4\" class=\"edge\">\n<title>targets_G10:e-&gt;MultiplexedCSwap:w</title>\n<path fill=\"none\" stroke=\"black\" d=\"M68,-180C83.67,-180 88.14,-180 102.77,-180\"/>\n<ellipse fill=\"black\" stroke=\"black\" cx=\"104\" cy=\"-180\" rx=\"1\" ry=\"1\"/>\n<text text-anchor=\"middle\" x=\"86.5\" y=\"-183\" font-family=\"Times,serif\" font-size=\"10.00\">2</text>\n</g>\n<!-- targets_G17 -->\n<g id=\"node5\" class=\"node\">\n<title>targets_G17</title>\n<text text-anchor=\"middle\" x=\"34\" y=\"-122.3\" font-family=\"Times,serif\" font-size=\"14.00\">targets[3]</text>\n</g>\n<!-- targets_G17&#45;&gt;MultiplexedCSwap -->\n<g id=\"edge5\" class=\"edge\">\n<title>targets_G17:e-&gt;MultiplexedCSwap:w</title>\n<path fill=\"none\" stroke=\"black\" d=\"M68,-126C89.17,-126 83.47,-156.47 102.55,-158.85\"/>\n<ellipse fill=\"black\" stroke=\"black\" cx=\"104\" cy=\"-158.94\" rx=\"1\" ry=\"1\"/>\n<text text-anchor=\"middle\" x=\"86.5\" y=\"-146\" font-family=\"Times,serif\" font-size=\"10.00\">2</text>\n</g>\n<!-- targets_G20 -->\n<g id=\"node6\" class=\"node\">\n<title>targets_G20</title>\n<text text-anchor=\"middle\" x=\"34\" y=\"-68.3\" font-family=\"Times,serif\" font-size=\"14.00\">targets[4]</text>\n</g>\n<!-- targets_G20&#45;&gt;MultiplexedCSwap -->\n<g id=\"edge6\" class=\"edge\">\n<title>targets_G20:e-&gt;MultiplexedCSwap:w</title>\n<path fill=\"none\" stroke=\"black\" d=\"M68,-72C100.84,-72 72.75,-134.94 102.74,-137.89\"/>\n<ellipse fill=\"black\" stroke=\"black\" cx=\"104\" cy=\"-137.95\" rx=\"1\" ry=\"1\"/>\n<text text-anchor=\"middle\" x=\"86.5\" y=\"-115\" font-family=\"Times,serif\" font-size=\"10.00\">2</text>\n</g>\n<!-- output_G0 -->\n<g id=\"node7\" class=\"node\">\n<title>output_G0</title>\n<text text-anchor=\"middle\" x=\"34\" y=\"-14.3\" font-family=\"Times,serif\" font-size=\"14.00\">output</text>\n</g>\n<!-- output_G0&#45;&gt;MultiplexedCSwap -->\n<g id=\"edge7\" class=\"edge\">\n<title>output_G0:e-&gt;MultiplexedCSwap:w</title>\n<path fill=\"none\" stroke=\"black\" d=\"M62,-18C85.24,-18 81.3,-110.91 102.83,-116.72\"/>\n<ellipse fill=\"black\" stroke=\"black\" cx=\"104.01\" cy=\"-116.87\" rx=\"1\" ry=\"1\"/>\n<text text-anchor=\"middle\" x=\"86.5\" y=\"-86\" font-family=\"Times,serif\" font-size=\"10.00\">2</text>\n</g>\n<!-- selection_G6 -->\n<g id=\"node9\" class=\"node\">\n<title>selection_G6</title>\n<text text-anchor=\"middle\" x=\"234\" y=\"-338.3\" font-family=\"Times,serif\" font-size=\"14.00\">selection</text>\n</g>\n<!-- MultiplexedCSwap&#45;&gt;selection_G6 -->\n<g id=\"edge8\" class=\"edge\">\n<title>MultiplexedCSwap:e-&gt;selection_G6:w</title>\n<path fill=\"none\" stroke=\"black\" d=\"M163,-244C185.55,-244 177.29,-335.97 197.91,-341.72\"/>\n<ellipse fill=\"black\" stroke=\"black\" cx=\"199.01\" cy=\"-341.87\" rx=\"1\" ry=\"1\"/>\n<text text-anchor=\"middle\" x=\"181.5\" y=\"-298\" font-family=\"Times,serif\" font-size=\"10.00\">3</text>\n</g>\n<!-- targets_G14 -->\n<g id=\"node10\" class=\"node\">\n<title>targets_G14</title>\n<text text-anchor=\"middle\" x=\"234\" y=\"-284.3\" font-family=\"Times,serif\" font-size=\"14.00\">targets[0]</text>\n</g>\n<!-- MultiplexedCSwap&#45;&gt;targets_G14 -->\n<g id=\"edge9\" class=\"edge\">\n<title>MultiplexedCSwap:e-&gt;targets_G14:w</title>\n<path fill=\"none\" stroke=\"black\" d=\"M163,-223C195.46,-223 168.11,-284.99 197.76,-287.89\"/>\n<ellipse fill=\"black\" stroke=\"black\" cx=\"199\" cy=\"-287.95\" rx=\"1\" ry=\"1\"/>\n<text text-anchor=\"middle\" x=\"181.5\" y=\"-264\" font-family=\"Times,serif\" font-size=\"10.00\">2</text>\n</g>\n<!-- targets_G7 -->\n<g id=\"node11\" class=\"node\">\n<title>targets_G7</title>\n<text text-anchor=\"middle\" x=\"234\" y=\"-230.3\" font-family=\"Times,serif\" font-size=\"14.00\">targets[1]</text>\n</g>\n<!-- MultiplexedCSwap&#45;&gt;targets_G7 -->\n<g id=\"edge10\" class=\"edge\">\n<title>MultiplexedCSwap:e-&gt;targets_G7:w</title>\n<path fill=\"none\" stroke=\"black\" d=\"M163,-202C183.89,-202 178.72,-231.55 197.58,-233.86\"/>\n<ellipse fill=\"black\" stroke=\"black\" cx=\"199\" cy=\"-233.94\" rx=\"1\" ry=\"1\"/>\n<text text-anchor=\"middle\" x=\"181.5\" y=\"-221\" font-family=\"Times,serif\" font-size=\"10.00\">2</text>\n</g>\n<!-- targets_G13 -->\n<g id=\"node12\" class=\"node\">\n<title>targets_G13</title>\n<text text-anchor=\"middle\" x=\"234\" y=\"-176.3\" font-family=\"Times,serif\" font-size=\"14.00\">targets[2]</text>\n</g>\n<!-- MultiplexedCSwap&#45;&gt;targets_G13 -->\n<g id=\"edge11\" class=\"edge\">\n<title>MultiplexedCSwap:e-&gt;targets_G13:w</title>\n<path fill=\"none\" stroke=\"black\" d=\"M163,-180C178.67,-180 183.14,-180 197.77,-180\"/>\n<ellipse fill=\"black\" stroke=\"black\" cx=\"199\" cy=\"-180\" rx=\"1\" ry=\"1\"/>\n<text text-anchor=\"middle\" x=\"181.5\" y=\"-183\" font-family=\"Times,serif\" font-size=\"10.00\">2</text>\n</g>\n<!-- targets_G18 -->\n<g id=\"node13\" class=\"node\">\n<title>targets_G18</title>\n<text text-anchor=\"middle\" x=\"234\" y=\"-122.3\" font-family=\"Times,serif\" font-size=\"14.00\">targets[3]</text>\n</g>\n<!-- MultiplexedCSwap&#45;&gt;targets_G18 -->\n<g id=\"edge12\" class=\"edge\">\n<title>MultiplexedCSwap:e-&gt;targets_G18:w</title>\n<path fill=\"none\" stroke=\"black\" d=\"M163,-159C184.17,-159 178.47,-128.53 197.55,-126.15\"/>\n<ellipse fill=\"black\" stroke=\"black\" cx=\"199\" cy=\"-126.06\" rx=\"1\" ry=\"1\"/>\n<text text-anchor=\"middle\" x=\"181.5\" y=\"-146\" font-family=\"Times,serif\" font-size=\"10.00\">2</text>\n</g>\n<!-- targets_G1 -->\n<g id=\"node14\" class=\"node\">\n<title>targets_G1</title>\n<text text-anchor=\"middle\" x=\"234\" y=\"-68.3\" font-family=\"Times,serif\" font-size=\"14.00\">targets[4]</text>\n</g>\n<!-- MultiplexedCSwap&#45;&gt;targets_G1 -->\n<g id=\"edge13\" class=\"edge\">\n<title>MultiplexedCSwap:e-&gt;targets_G1:w</title>\n<path fill=\"none\" stroke=\"black\" d=\"M163,-138C195.84,-138 167.75,-75.06 197.74,-72.11\"/>\n<ellipse fill=\"black\" stroke=\"black\" cx=\"199\" cy=\"-72.05\" rx=\"1\" ry=\"1\"/>\n<text text-anchor=\"middle\" x=\"181.5\" y=\"-115\" font-family=\"Times,serif\" font-size=\"10.00\">2</text>\n</g>\n<!-- output_G3 -->\n<g id=\"node15\" class=\"node\">\n<title>output_G3</title>\n<text text-anchor=\"middle\" x=\"234\" y=\"-14.3\" font-family=\"Times,serif\" font-size=\"14.00\">output</text>\n</g>\n<!-- MultiplexedCSwap&#45;&gt;output_G3 -->\n<g id=\"edge14\" class=\"edge\">\n<title>MultiplexedCSwap:e-&gt;output_G3:w</title>\n<path fill=\"none\" stroke=\"black\" d=\"M163,-117C186.24,-117 182.3,-24.09 203.83,-18.28\"/>\n<ellipse fill=\"black\" stroke=\"black\" cx=\"205.01\" cy=\"-18.13\" rx=\"1\" ry=\"1\"/>\n<text text-anchor=\"middle\" x=\"181.5\" y=\"-86\" font-family=\"Times,serif\" font-size=\"10.00\">2</text>\n</g>\n</g>\n</svg>",
          "text/plain": "<IPython.core.display.SVG object>"
         },
         "metadata": {},
         "output_type": "display_data"
        }
       ],
       "tabbable": null,
       "tooltip": null
      }
     },
     "24ebc58d4efc46759764935d875a5a27": {
      "model_module": "@jupyter-widgets/output",
      "model_module_version": "1.0.0",
      "model_name": "OutputModel",
      "state": {
       "_dom_classes": [],
       "_model_module": "@jupyter-widgets/output",
       "_model_module_version": "1.0.0",
       "_model_name": "OutputModel",
       "_view_count": null,
       "_view_module": "@jupyter-widgets/output",
       "_view_module_version": "1.0.0",
       "_view_name": "OutputView",
       "layout": "IPY_MODEL_b75f025748dd40ad9f3a56346c687d4a",
       "msg_id": "",
       "outputs": [
        {
         "data": {
          "text/markdown": "`swz`",
          "text/plain": "<IPython.core.display.Markdown object>"
         },
         "metadata": {},
         "output_type": "display_data"
        },
        {
         "data": {
          "image/svg+xml": "<svg xmlns=\"http://www.w3.org/2000/svg\" xmlns:xlink=\"http://www.w3.org/1999/xlink\" width=\"276pt\" height=\"260pt\" viewBox=\"0.00 0.00 276.00 260.00\">\n<g id=\"graph0\" class=\"graph\" transform=\"scale(1 1) rotate(0) translate(4 256)\">\n<title>my_graph</title>\n<polygon fill=\"white\" stroke=\"transparent\" points=\"-4,4 -4,-256 272,-256 272,4 -4,4\"/>\n<!-- selection_G1 -->\n<g id=\"node1\" class=\"node\">\n<title>selection_G1</title>\n<text text-anchor=\"middle\" x=\"34\" y=\"-230.3\" font-family=\"Times,serif\" font-size=\"14.00\">selection</text>\n</g>\n<!-- SwapWithZero -->\n<g id=\"node6\" class=\"node\">\n<title>SwapWithZero</title>\n<polygon fill=\"none\" stroke=\"black\" points=\"105,-179 105,-196 163,-196 163,-179 105,-179\"/>\n<text text-anchor=\"start\" x=\"110.5\" y=\"-185\" font-family=\"Times,serif\" font-size=\"10.00\">SwapWith..</text>\n<polygon fill=\"none\" stroke=\"black\" points=\"105,-158 105,-179 163,-179 163,-158 105,-158\"/>\n<text text-anchor=\"start\" x=\"109.5\" y=\"-164.8\" font-family=\"Times,serif\" font-size=\"14.00\">selection</text>\n<polygon fill=\"none\" stroke=\"black\" points=\"105,-137 105,-158 163,-158 163,-137 105,-137\"/>\n<text text-anchor=\"start\" x=\"108\" y=\"-143.8\" font-family=\"Times,serif\" font-size=\"14.00\">targets[0]</text>\n<polygon fill=\"none\" stroke=\"black\" points=\"105,-116 105,-137 163,-137 163,-116 105,-116\"/>\n<text text-anchor=\"start\" x=\"108\" y=\"-122.8\" font-family=\"Times,serif\" font-size=\"14.00\">targets[1]</text>\n<polygon fill=\"none\" stroke=\"black\" points=\"105,-95 105,-116 163,-116 163,-95 105,-95\"/>\n<text text-anchor=\"start\" x=\"108\" y=\"-101.8\" font-family=\"Times,serif\" font-size=\"14.00\">targets[2]</text>\n<polygon fill=\"none\" stroke=\"black\" points=\"105,-74 105,-95 163,-95 163,-74 105,-74\"/>\n<text text-anchor=\"start\" x=\"108\" y=\"-80.8\" font-family=\"Times,serif\" font-size=\"14.00\">targets[3]</text>\n</g>\n<!-- selection_G1&#45;&gt;SwapWithZero -->\n<g id=\"edge1\" class=\"edge\">\n<title>selection_G1:e-&gt;SwapWithZero:w</title>\n<path fill=\"none\" stroke=\"black\" d=\"M68,-234C100.46,-234 73.11,-172.01 102.76,-169.11\"/>\n<ellipse fill=\"black\" stroke=\"black\" cx=\"104\" cy=\"-169.05\" rx=\"1\" ry=\"1\"/>\n<text text-anchor=\"middle\" x=\"86.5\" y=\"-210\" font-family=\"Times,serif\" font-size=\"10.00\">8</text>\n</g>\n<!-- targets_G14 -->\n<g id=\"node2\" class=\"node\">\n<title>targets_G14</title>\n<text text-anchor=\"middle\" x=\"34\" y=\"-176.3\" font-family=\"Times,serif\" font-size=\"14.00\">targets[0]</text>\n</g>\n<!-- targets_G14&#45;&gt;SwapWithZero -->\n<g id=\"edge2\" class=\"edge\">\n<title>targets_G14:e-&gt;SwapWithZero:w</title>\n<path fill=\"none\" stroke=\"black\" d=\"M68,-180C88.89,-180 83.72,-150.45 102.58,-148.14\"/>\n<ellipse fill=\"black\" stroke=\"black\" cx=\"104\" cy=\"-148.06\" rx=\"1\" ry=\"1\"/>\n<text text-anchor=\"middle\" x=\"86.5\" y=\"-167\" font-family=\"Times,serif\" font-size=\"10.00\">32</text>\n</g>\n<!-- targets_G13 -->\n<g id=\"node3\" class=\"node\">\n<title>targets_G13</title>\n<text text-anchor=\"middle\" x=\"34\" y=\"-122.3\" font-family=\"Times,serif\" font-size=\"14.00\">targets[1]</text>\n</g>\n<!-- targets_G13&#45;&gt;SwapWithZero -->\n<g id=\"edge3\" class=\"edge\">\n<title>targets_G13:e-&gt;SwapWithZero:w</title>\n<path fill=\"none\" stroke=\"black\" d=\"M68,-126C83.67,-126 88.14,-126 102.77,-126\"/>\n<ellipse fill=\"black\" stroke=\"black\" cx=\"104\" cy=\"-126\" rx=\"1\" ry=\"1\"/>\n<text text-anchor=\"middle\" x=\"86.5\" y=\"-129\" font-family=\"Times,serif\" font-size=\"10.00\">32</text>\n</g>\n<!-- targets_G2 -->\n<g id=\"node4\" class=\"node\">\n<title>targets_G2</title>\n<text text-anchor=\"middle\" x=\"34\" y=\"-68.3\" font-family=\"Times,serif\" font-size=\"14.00\">targets[2]</text>\n</g>\n<!-- targets_G2&#45;&gt;SwapWithZero -->\n<g id=\"edge4\" class=\"edge\">\n<title>targets_G2:e-&gt;SwapWithZero:w</title>\n<path fill=\"none\" stroke=\"black\" d=\"M68,-72C89.17,-72 83.47,-102.47 102.55,-104.85\"/>\n<ellipse fill=\"black\" stroke=\"black\" cx=\"104\" cy=\"-104.94\" rx=\"1\" ry=\"1\"/>\n<text text-anchor=\"middle\" x=\"86.5\" y=\"-92\" font-family=\"Times,serif\" font-size=\"10.00\">32</text>\n</g>\n<!-- targets_G9 -->\n<g id=\"node5\" class=\"node\">\n<title>targets_G9</title>\n<text text-anchor=\"middle\" x=\"34\" y=\"-14.3\" font-family=\"Times,serif\" font-size=\"14.00\">targets[3]</text>\n</g>\n<!-- targets_G9&#45;&gt;SwapWithZero -->\n<g id=\"edge5\" class=\"edge\">\n<title>targets_G9:e-&gt;SwapWithZero:w</title>\n<path fill=\"none\" stroke=\"black\" d=\"M68,-18C100.84,-18 72.75,-80.94 102.74,-83.89\"/>\n<ellipse fill=\"black\" stroke=\"black\" cx=\"104\" cy=\"-83.95\" rx=\"1\" ry=\"1\"/>\n<text text-anchor=\"middle\" x=\"86.5\" y=\"-62\" font-family=\"Times,serif\" font-size=\"10.00\">32</text>\n</g>\n<!-- selection_G7 -->\n<g id=\"node7\" class=\"node\">\n<title>selection_G7</title>\n<text text-anchor=\"middle\" x=\"234\" y=\"-230.3\" font-family=\"Times,serif\" font-size=\"14.00\">selection</text>\n</g>\n<!-- SwapWithZero&#45;&gt;selection_G7 -->\n<g id=\"edge6\" class=\"edge\">\n<title>SwapWithZero:e-&gt;selection_G7:w</title>\n<path fill=\"none\" stroke=\"black\" d=\"M163,-169C195.46,-169 168.11,-230.99 197.76,-233.89\"/>\n<ellipse fill=\"black\" stroke=\"black\" cx=\"199\" cy=\"-233.95\" rx=\"1\" ry=\"1\"/>\n<text text-anchor=\"middle\" x=\"181.5\" y=\"-210\" font-family=\"Times,serif\" font-size=\"10.00\">8</text>\n</g>\n<!-- targets_G6 -->\n<g id=\"node8\" class=\"node\">\n<title>targets_G6</title>\n<text text-anchor=\"middle\" x=\"234\" y=\"-176.3\" font-family=\"Times,serif\" font-size=\"14.00\">targets[0]</text>\n</g>\n<!-- SwapWithZero&#45;&gt;targets_G6 -->\n<g id=\"edge7\" class=\"edge\">\n<title>SwapWithZero:e-&gt;targets_G6:w</title>\n<path fill=\"none\" stroke=\"black\" d=\"M163,-148C183.89,-148 178.72,-177.55 197.58,-179.86\"/>\n<ellipse fill=\"black\" stroke=\"black\" cx=\"199\" cy=\"-179.94\" rx=\"1\" ry=\"1\"/>\n<text text-anchor=\"middle\" x=\"181.5\" y=\"-167\" font-family=\"Times,serif\" font-size=\"10.00\">32</text>\n</g>\n<!-- targets_G0 -->\n<g id=\"node9\" class=\"node\">\n<title>targets_G0</title>\n<text text-anchor=\"middle\" x=\"234\" y=\"-122.3\" font-family=\"Times,serif\" font-size=\"14.00\">targets[1]</text>\n</g>\n<!-- SwapWithZero&#45;&gt;targets_G0 -->\n<g id=\"edge8\" class=\"edge\">\n<title>SwapWithZero:e-&gt;targets_G0:w</title>\n<path fill=\"none\" stroke=\"black\" d=\"M163,-126C178.67,-126 183.14,-126 197.77,-126\"/>\n<ellipse fill=\"black\" stroke=\"black\" cx=\"199\" cy=\"-126\" rx=\"1\" ry=\"1\"/>\n<text text-anchor=\"middle\" x=\"181.5\" y=\"-129\" font-family=\"Times,serif\" font-size=\"10.00\">32</text>\n</g>\n<!-- targets_G8 -->\n<g id=\"node10\" class=\"node\">\n<title>targets_G8</title>\n<text text-anchor=\"middle\" x=\"234\" y=\"-68.3\" font-family=\"Times,serif\" font-size=\"14.00\">targets[2]</text>\n</g>\n<!-- SwapWithZero&#45;&gt;targets_G8 -->\n<g id=\"edge9\" class=\"edge\">\n<title>SwapWithZero:e-&gt;targets_G8:w</title>\n<path fill=\"none\" stroke=\"black\" d=\"M163,-105C184.17,-105 178.47,-74.53 197.55,-72.15\"/>\n<ellipse fill=\"black\" stroke=\"black\" cx=\"199\" cy=\"-72.06\" rx=\"1\" ry=\"1\"/>\n<text text-anchor=\"middle\" x=\"181.5\" y=\"-92\" font-family=\"Times,serif\" font-size=\"10.00\">32</text>\n</g>\n<!-- targets_G3 -->\n<g id=\"node11\" class=\"node\">\n<title>targets_G3</title>\n<text text-anchor=\"middle\" x=\"234\" y=\"-14.3\" font-family=\"Times,serif\" font-size=\"14.00\">targets[3]</text>\n</g>\n<!-- SwapWithZero&#45;&gt;targets_G3 -->\n<g id=\"edge10\" class=\"edge\">\n<title>SwapWithZero:e-&gt;targets_G3:w</title>\n<path fill=\"none\" stroke=\"black\" d=\"M163,-84C195.84,-84 167.75,-21.06 197.74,-18.11\"/>\n<ellipse fill=\"black\" stroke=\"black\" cx=\"199\" cy=\"-18.05\" rx=\"1\" ry=\"1\"/>\n<text text-anchor=\"middle\" x=\"181.5\" y=\"-62\" font-family=\"Times,serif\" font-size=\"10.00\">32</text>\n</g>\n</g>\n</svg>",
          "text/plain": "<IPython.core.display.SVG object>"
         },
         "metadata": {},
         "output_type": "display_data"
        }
       ],
       "tabbable": null,
       "tooltip": null
      }
     },
     "2bdf7e684f344b009e8992bac154d970": {
      "model_module": "@jupyter-widgets/base",
      "model_module_version": "2.0.0",
      "model_name": "LayoutModel",
      "state": {
       "_model_module": "@jupyter-widgets/base",
       "_model_module_version": "2.0.0",
       "_model_name": "LayoutModel",
       "_view_count": null,
       "_view_module": "@jupyter-widgets/base",
       "_view_module_version": "2.0.0",
       "_view_name": "LayoutView",
       "align_content": null,
       "align_items": null,
       "align_self": null,
       "border_bottom": null,
       "border_left": null,
       "border_right": null,
       "border_top": null,
       "bottom": null,
       "display": null,
       "flex": null,
       "flex_flow": null,
       "grid_area": null,
       "grid_auto_columns": null,
       "grid_auto_flow": null,
       "grid_auto_rows": null,
       "grid_column": null,
       "grid_gap": null,
       "grid_row": null,
       "grid_template_areas": null,
       "grid_template_columns": null,
       "grid_template_rows": null,
       "height": null,
       "justify_content": null,
       "justify_items": null,
       "left": null,
       "margin": null,
       "max_height": null,
       "max_width": null,
       "min_height": null,
       "min_width": null,
       "object_fit": null,
       "object_position": null,
       "order": null,
       "overflow": null,
       "padding": null,
       "right": null,
       "top": null,
       "visibility": null,
       "width": null
      }
     },
     "2c57e180a5ff42808cae4810f97d6563": {
      "model_module": "@jupyter-widgets/controls",
      "model_module_version": "2.0.0",
      "model_name": "HBoxModel",
      "state": {
       "_dom_classes": [],
       "_model_module": "@jupyter-widgets/controls",
       "_model_module_version": "2.0.0",
       "_model_name": "HBoxModel",
       "_view_count": null,
       "_view_module": "@jupyter-widgets/controls",
       "_view_module_version": "2.0.0",
       "_view_name": "HBoxView",
       "box_style": "",
       "children": [
        "IPY_MODEL_2268704d69874e509a4187bc8bb0c03e"
       ],
       "layout": "IPY_MODEL_9cb414d399df4425bdb4cd50e1d745ce",
       "tabbable": null,
       "tooltip": null
      }
     },
     "2d462ce598ca4a1c936675d741383987": {
      "model_module": "@jupyter-widgets/output",
      "model_module_version": "1.0.0",
      "model_name": "OutputModel",
      "state": {
       "_dom_classes": [],
       "_model_module": "@jupyter-widgets/output",
       "_model_module_version": "1.0.0",
       "_model_name": "OutputModel",
       "_view_count": null,
       "_view_module": "@jupyter-widgets/output",
       "_view_module_version": "1.0.0",
       "_view_name": "OutputView",
       "layout": "IPY_MODEL_5144f8a05af44107851a98e2d84f7745",
       "msg_id": "",
       "outputs": [
        {
         "data": {
          "text/markdown": "`swz_small`",
          "text/plain": "<IPython.core.display.Markdown object>"
         },
         "metadata": {},
         "output_type": "display_data"
        },
        {
         "data": {
          "image/svg+xml": "<svg xmlns=\"http://www.w3.org/2000/svg\" xmlns:xlink=\"http://www.w3.org/1999/xlink\" width=\"276pt\" height=\"152pt\" viewBox=\"0.00 0.00 276.00 152.00\">\n<g id=\"graph0\" class=\"graph\" transform=\"scale(1 1) rotate(0) translate(4 148)\">\n<title>my_graph</title>\n<polygon fill=\"white\" stroke=\"transparent\" points=\"-4,4 -4,-148 272,-148 272,4 -4,4\"/>\n<!-- selection_G3 -->\n<g id=\"node1\" class=\"node\">\n<title>selection_G3</title>\n<text text-anchor=\"middle\" x=\"34\" y=\"-122.3\" font-family=\"Times,serif\" font-size=\"14.00\">selection</text>\n</g>\n<!-- SwapWithZero -->\n<g id=\"node4\" class=\"node\">\n<title>SwapWithZero</title>\n<polygon fill=\"none\" stroke=\"black\" points=\"105,-104 105,-121 163,-121 163,-104 105,-104\"/>\n<text text-anchor=\"start\" x=\"110.5\" y=\"-110\" font-family=\"Times,serif\" font-size=\"10.00\">SwapWith..</text>\n<polygon fill=\"none\" stroke=\"black\" points=\"105,-83 105,-104 163,-104 163,-83 105,-83\"/>\n<text text-anchor=\"start\" x=\"109.5\" y=\"-89.8\" font-family=\"Times,serif\" font-size=\"14.00\">selection</text>\n<polygon fill=\"none\" stroke=\"black\" points=\"105,-62 105,-83 163,-83 163,-62 105,-62\"/>\n<text text-anchor=\"start\" x=\"108\" y=\"-68.8\" font-family=\"Times,serif\" font-size=\"14.00\">targets[0]</text>\n<polygon fill=\"none\" stroke=\"black\" points=\"105,-41 105,-62 163,-62 163,-41 105,-41\"/>\n<text text-anchor=\"start\" x=\"108\" y=\"-47.8\" font-family=\"Times,serif\" font-size=\"14.00\">targets[1]</text>\n</g>\n<!-- selection_G3&#45;&gt;SwapWithZero -->\n<g id=\"edge1\" class=\"edge\">\n<title>selection_G3:e-&gt;SwapWithZero:w</title>\n<path fill=\"none\" stroke=\"black\" d=\"M68,-126C88.89,-126 83.72,-96.45 102.58,-94.14\"/>\n<ellipse fill=\"black\" stroke=\"black\" cx=\"104\" cy=\"-94.06\" rx=\"1\" ry=\"1\"/>\n<text text-anchor=\"middle\" x=\"86.5\" y=\"-113\" font-family=\"Times,serif\" font-size=\"10.00\">3</text>\n</g>\n<!-- targets_G0 -->\n<g id=\"node2\" class=\"node\">\n<title>targets_G0</title>\n<text text-anchor=\"middle\" x=\"34\" y=\"-68.3\" font-family=\"Times,serif\" font-size=\"14.00\">targets[0]</text>\n</g>\n<!-- targets_G0&#45;&gt;SwapWithZero -->\n<g id=\"edge2\" class=\"edge\">\n<title>targets_G0:e-&gt;SwapWithZero:w</title>\n<path fill=\"none\" stroke=\"black\" d=\"M68,-72C83.67,-72 88.14,-72 102.77,-72\"/>\n<ellipse fill=\"black\" stroke=\"black\" cx=\"104\" cy=\"-72\" rx=\"1\" ry=\"1\"/>\n<text text-anchor=\"middle\" x=\"86.5\" y=\"-75\" font-family=\"Times,serif\" font-size=\"10.00\">2</text>\n</g>\n<!-- targets_G2 -->\n<g id=\"node3\" class=\"node\">\n<title>targets_G2</title>\n<text text-anchor=\"middle\" x=\"34\" y=\"-14.3\" font-family=\"Times,serif\" font-size=\"14.00\">targets[1]</text>\n</g>\n<!-- targets_G2&#45;&gt;SwapWithZero -->\n<g id=\"edge3\" class=\"edge\">\n<title>targets_G2:e-&gt;SwapWithZero:w</title>\n<path fill=\"none\" stroke=\"black\" d=\"M68,-18C89.17,-18 83.47,-48.47 102.55,-50.85\"/>\n<ellipse fill=\"black\" stroke=\"black\" cx=\"104\" cy=\"-50.94\" rx=\"1\" ry=\"1\"/>\n<text text-anchor=\"middle\" x=\"86.5\" y=\"-39\" font-family=\"Times,serif\" font-size=\"10.00\">2</text>\n</g>\n<!-- selection_G8 -->\n<g id=\"node5\" class=\"node\">\n<title>selection_G8</title>\n<text text-anchor=\"middle\" x=\"234\" y=\"-122.3\" font-family=\"Times,serif\" font-size=\"14.00\">selection</text>\n</g>\n<!-- SwapWithZero&#45;&gt;selection_G8 -->\n<g id=\"edge4\" class=\"edge\">\n<title>SwapWithZero:e-&gt;selection_G8:w</title>\n<path fill=\"none\" stroke=\"black\" d=\"M163,-94C183.89,-94 178.72,-123.55 197.58,-125.86\"/>\n<ellipse fill=\"black\" stroke=\"black\" cx=\"199\" cy=\"-125.94\" rx=\"1\" ry=\"1\"/>\n<text text-anchor=\"middle\" x=\"181.5\" y=\"-113\" font-family=\"Times,serif\" font-size=\"10.00\">3</text>\n</g>\n<!-- targets_G5 -->\n<g id=\"node6\" class=\"node\">\n<title>targets_G5</title>\n<text text-anchor=\"middle\" x=\"234\" y=\"-68.3\" font-family=\"Times,serif\" font-size=\"14.00\">targets[0]</text>\n</g>\n<!-- SwapWithZero&#45;&gt;targets_G5 -->\n<g id=\"edge5\" class=\"edge\">\n<title>SwapWithZero:e-&gt;targets_G5:w</title>\n<path fill=\"none\" stroke=\"black\" d=\"M163,-72C178.67,-72 183.14,-72 197.77,-72\"/>\n<ellipse fill=\"black\" stroke=\"black\" cx=\"199\" cy=\"-72\" rx=\"1\" ry=\"1\"/>\n<text text-anchor=\"middle\" x=\"181.5\" y=\"-75\" font-family=\"Times,serif\" font-size=\"10.00\">2</text>\n</g>\n<!-- targets_G4 -->\n<g id=\"node7\" class=\"node\">\n<title>targets_G4</title>\n<text text-anchor=\"middle\" x=\"234\" y=\"-14.3\" font-family=\"Times,serif\" font-size=\"14.00\">targets[1]</text>\n</g>\n<!-- SwapWithZero&#45;&gt;targets_G4 -->\n<g id=\"edge6\" class=\"edge\">\n<title>SwapWithZero:e-&gt;targets_G4:w</title>\n<path fill=\"none\" stroke=\"black\" d=\"M163,-51C184.17,-51 178.47,-20.53 197.55,-18.15\"/>\n<ellipse fill=\"black\" stroke=\"black\" cx=\"199\" cy=\"-18.06\" rx=\"1\" ry=\"1\"/>\n<text text-anchor=\"middle\" x=\"181.5\" y=\"-39\" font-family=\"Times,serif\" font-size=\"10.00\">2</text>\n</g>\n</g>\n</svg>",
          "text/plain": "<IPython.core.display.SVG object>"
         },
         "metadata": {},
         "output_type": "display_data"
        }
       ],
       "tabbable": null,
       "tooltip": null
      }
     },
     "5144f8a05af44107851a98e2d84f7745": {
      "model_module": "@jupyter-widgets/base",
      "model_module_version": "2.0.0",
      "model_name": "LayoutModel",
      "state": {
       "_model_module": "@jupyter-widgets/base",
       "_model_module_version": "2.0.0",
       "_model_name": "LayoutModel",
       "_view_count": null,
       "_view_module": "@jupyter-widgets/base",
       "_view_module_version": "2.0.0",
       "_view_name": "LayoutView",
       "align_content": null,
       "align_items": null,
       "align_self": null,
       "border_bottom": null,
       "border_left": null,
       "border_right": null,
       "border_top": null,
       "bottom": null,
       "display": null,
       "flex": null,
       "flex_flow": null,
       "grid_area": null,
       "grid_auto_columns": null,
       "grid_auto_flow": null,
       "grid_auto_rows": null,
       "grid_column": null,
       "grid_gap": null,
       "grid_row": null,
       "grid_template_areas": null,
       "grid_template_columns": null,
       "grid_template_rows": null,
       "height": null,
       "justify_content": null,
       "justify_items": null,
       "left": null,
       "margin": null,
       "max_height": null,
       "max_width": null,
       "min_height": null,
       "min_width": null,
       "object_fit": null,
       "object_position": null,
       "order": null,
       "overflow": null,
       "padding": null,
       "right": null,
       "top": null,
       "visibility": null,
       "width": null
      }
     },
     "5f4c575aaed946f6853bc327ca07fed7": {
      "model_module": "@jupyter-widgets/output",
      "model_module_version": "1.0.0",
      "model_name": "OutputModel",
      "state": {
       "_dom_classes": [],
       "_model_module": "@jupyter-widgets/output",
       "_model_module_version": "1.0.0",
       "_model_name": "OutputModel",
       "_view_count": null,
       "_view_module": "@jupyter-widgets/output",
       "_view_module_version": "1.0.0",
       "_view_name": "OutputView",
       "layout": "IPY_MODEL_f8ed27d1c0394c1ca9ea8d2b3492cf73",
       "msg_id": "",
       "outputs": [
        {
         "data": {
          "text/markdown": "`approx_cswap_large`",
          "text/plain": "<IPython.core.display.Markdown object>"
         },
         "metadata": {},
         "output_type": "display_data"
        },
        {
         "data": {
          "image/svg+xml": "<svg xmlns=\"http://www.w3.org/2000/svg\" xmlns:xlink=\"http://www.w3.org/1999/xlink\" width=\"223pt\" height=\"152pt\" viewBox=\"0.00 0.00 223.00 152.00\">\n<g id=\"graph0\" class=\"graph\" transform=\"scale(1 1) rotate(0) translate(4 148)\">\n<title>my_graph</title>\n<polygon fill=\"white\" stroke=\"transparent\" points=\"-4,4 -4,-148 219,-148 219,4 -4,4\"/>\n<!-- ctrl_G1 -->\n<g id=\"node1\" class=\"node\">\n<title>ctrl_G1</title>\n<text text-anchor=\"middle\" x=\"27\" y=\"-122.3\" font-family=\"Times,serif\" font-size=\"14.00\">ctrl</text>\n</g>\n<!-- CSwapApprox -->\n<g id=\"node4\" class=\"node\">\n<title>CSwapApprox</title>\n<polygon fill=\"none\" stroke=\"black\" points=\"91.5,-104 91.5,-121 124.5,-121 124.5,-104 91.5,-104\"/>\n<text text-anchor=\"start\" x=\"94.5\" y=\"-110\" font-family=\"Times,serif\" font-size=\"10.00\">~swap</text>\n<polygon fill=\"none\" stroke=\"black\" points=\"91.5,-83 91.5,-104 124.5,-104 124.5,-83 91.5,-83\"/>\n<text text-anchor=\"start\" x=\"98.5\" y=\"-89.8\" font-family=\"Times,serif\" font-size=\"14.00\">ctrl</text>\n<polygon fill=\"none\" stroke=\"black\" points=\"91.5,-62 91.5,-83 124.5,-83 124.5,-62 91.5,-62\"/>\n<text text-anchor=\"start\" x=\"104.5\" y=\"-68.8\" font-family=\"Times,serif\" font-size=\"14.00\">x</text>\n<polygon fill=\"none\" stroke=\"black\" points=\"91.5,-41 91.5,-62 124.5,-62 124.5,-41 91.5,-41\"/>\n<text text-anchor=\"start\" x=\"104.5\" y=\"-47.8\" font-family=\"Times,serif\" font-size=\"14.00\">y</text>\n</g>\n<!-- ctrl_G1&#45;&gt;CSwapApprox -->\n<g id=\"edge1\" class=\"edge\">\n<title>ctrl_G1:e-&gt;CSwapApprox:w</title>\n<path fill=\"none\" stroke=\"black\" d=\"M54,-126C74.89,-126 69.72,-96.45 88.58,-94.14\"/>\n<ellipse fill=\"black\" stroke=\"black\" cx=\"90\" cy=\"-94.06\" rx=\"1\" ry=\"1\"/>\n<text text-anchor=\"middle\" x=\"72.5\" y=\"-113\" font-family=\"Times,serif\" font-size=\"10.00\">1</text>\n</g>\n<!-- x_G5 -->\n<g id=\"node2\" class=\"node\">\n<title>x_G5</title>\n<text text-anchor=\"middle\" x=\"27\" y=\"-68.3\" font-family=\"Times,serif\" font-size=\"14.00\">x</text>\n</g>\n<!-- x_G5&#45;&gt;CSwapApprox -->\n<g id=\"edge2\" class=\"edge\">\n<title>x_G5:e-&gt;CSwapApprox:w</title>\n<path fill=\"none\" stroke=\"black\" d=\"M54,-72C69.67,-72 74.14,-72 88.77,-72\"/>\n<ellipse fill=\"black\" stroke=\"black\" cx=\"90\" cy=\"-72\" rx=\"1\" ry=\"1\"/>\n<text text-anchor=\"middle\" x=\"72.5\" y=\"-75\" font-family=\"Times,serif\" font-size=\"10.00\">64</text>\n</g>\n<!-- y_G0 -->\n<g id=\"node3\" class=\"node\">\n<title>y_G0</title>\n<text text-anchor=\"middle\" x=\"27\" y=\"-14.3\" font-family=\"Times,serif\" font-size=\"14.00\">y</text>\n</g>\n<!-- y_G0&#45;&gt;CSwapApprox -->\n<g id=\"edge3\" class=\"edge\">\n<title>y_G0:e-&gt;CSwapApprox:w</title>\n<path fill=\"none\" stroke=\"black\" d=\"M54,-18C75.17,-18 69.47,-48.47 88.55,-50.85\"/>\n<ellipse fill=\"black\" stroke=\"black\" cx=\"90\" cy=\"-50.94\" rx=\"1\" ry=\"1\"/>\n<text text-anchor=\"middle\" x=\"72.5\" y=\"-39\" font-family=\"Times,serif\" font-size=\"10.00\">64</text>\n</g>\n<!-- ctrl_G6 -->\n<g id=\"node5\" class=\"node\">\n<title>ctrl_G6</title>\n<text text-anchor=\"middle\" x=\"188\" y=\"-122.3\" font-family=\"Times,serif\" font-size=\"14.00\">ctrl</text>\n</g>\n<!-- CSwapApprox&#45;&gt;ctrl_G6 -->\n<g id=\"edge4\" class=\"edge\">\n<title>CSwapApprox:e-&gt;ctrl_G6:w</title>\n<path fill=\"none\" stroke=\"black\" d=\"M124,-94C144.89,-94 139.72,-123.55 158.58,-125.86\"/>\n<ellipse fill=\"black\" stroke=\"black\" cx=\"160\" cy=\"-125.94\" rx=\"1\" ry=\"1\"/>\n<text text-anchor=\"middle\" x=\"142.5\" y=\"-113\" font-family=\"Times,serif\" font-size=\"10.00\">1</text>\n</g>\n<!-- x_G3 -->\n<g id=\"node6\" class=\"node\">\n<title>x_G3</title>\n<text text-anchor=\"middle\" x=\"188\" y=\"-68.3\" font-family=\"Times,serif\" font-size=\"14.00\">x</text>\n</g>\n<!-- CSwapApprox&#45;&gt;x_G3 -->\n<g id=\"edge5\" class=\"edge\">\n<title>CSwapApprox:e-&gt;x_G3:w</title>\n<path fill=\"none\" stroke=\"black\" d=\"M124,-72C139.67,-72 144.14,-72 158.77,-72\"/>\n<ellipse fill=\"black\" stroke=\"black\" cx=\"160\" cy=\"-72\" rx=\"1\" ry=\"1\"/>\n<text text-anchor=\"middle\" x=\"142.5\" y=\"-75\" font-family=\"Times,serif\" font-size=\"10.00\">64</text>\n</g>\n<!-- y_G2 -->\n<g id=\"node7\" class=\"node\">\n<title>y_G2</title>\n<text text-anchor=\"middle\" x=\"188\" y=\"-14.3\" font-family=\"Times,serif\" font-size=\"14.00\">y</text>\n</g>\n<!-- CSwapApprox&#45;&gt;y_G2 -->\n<g id=\"edge6\" class=\"edge\">\n<title>CSwapApprox:e-&gt;y_G2:w</title>\n<path fill=\"none\" stroke=\"black\" d=\"M124,-51C145.17,-51 139.47,-20.53 158.55,-18.15\"/>\n<ellipse fill=\"black\" stroke=\"black\" cx=\"160\" cy=\"-18.06\" rx=\"1\" ry=\"1\"/>\n<text text-anchor=\"middle\" x=\"142.5\" y=\"-39\" font-family=\"Times,serif\" font-size=\"10.00\">64</text>\n</g>\n</g>\n</svg>",
          "text/plain": "<IPython.core.display.SVG object>"
         },
         "metadata": {},
         "output_type": "display_data"
        }
       ],
       "tabbable": null,
       "tooltip": null
      }
     },
     "6c75ce4893e34bb298396ee6b54de51b": {
      "model_module": "@jupyter-widgets/base",
      "model_module_version": "2.0.0",
      "model_name": "LayoutModel",
      "state": {
       "_model_module": "@jupyter-widgets/base",
       "_model_module_version": "2.0.0",
       "_model_name": "LayoutModel",
       "_view_count": null,
       "_view_module": "@jupyter-widgets/base",
       "_view_module_version": "2.0.0",
       "_view_name": "LayoutView",
       "align_content": null,
       "align_items": null,
       "align_self": null,
       "border_bottom": null,
       "border_left": null,
       "border_right": null,
       "border_top": null,
       "bottom": null,
       "display": null,
       "flex": null,
       "flex_flow": null,
       "grid_area": null,
       "grid_auto_columns": null,
       "grid_auto_flow": null,
       "grid_auto_rows": null,
       "grid_column": null,
       "grid_gap": null,
       "grid_row": null,
       "grid_template_areas": null,
       "grid_template_columns": null,
       "grid_template_rows": null,
       "height": null,
       "justify_content": null,
       "justify_items": null,
       "left": null,
       "margin": null,
       "max_height": null,
       "max_width": null,
       "min_height": null,
       "min_width": null,
       "object_fit": null,
       "object_position": null,
       "order": null,
       "overflow": null,
       "padding": null,
       "right": null,
       "top": null,
       "visibility": null,
       "width": null
      }
     },
     "74c0e75f2f9c452db4e1f34574e689f6": {
      "model_module": "@jupyter-widgets/output",
      "model_module_version": "1.0.0",
      "model_name": "OutputModel",
      "state": {
       "_dom_classes": [],
       "_model_module": "@jupyter-widgets/output",
       "_model_module_version": "1.0.0",
       "_model_name": "OutputModel",
       "_view_count": null,
       "_view_module": "@jupyter-widgets/output",
       "_view_module_version": "1.0.0",
       "_view_name": "OutputView",
       "layout": "IPY_MODEL_78c7cad14b9647639c7df23fd69565e0",
       "msg_id": "",
       "outputs": [
        {
         "data": {
          "text/markdown": "`approx_cswap_symb`",
          "text/plain": "<IPython.core.display.Markdown object>"
         },
         "metadata": {},
         "output_type": "display_data"
        },
        {
         "data": {
          "image/svg+xml": "<svg xmlns=\"http://www.w3.org/2000/svg\" xmlns:xlink=\"http://www.w3.org/1999/xlink\" width=\"223pt\" height=\"152pt\" viewBox=\"0.00 0.00 223.00 152.00\">\n<g id=\"graph0\" class=\"graph\" transform=\"scale(1 1) rotate(0) translate(4 148)\">\n<title>my_graph</title>\n<polygon fill=\"white\" stroke=\"transparent\" points=\"-4,4 -4,-148 219,-148 219,4 -4,4\"/>\n<!-- ctrl_G1 -->\n<g id=\"node1\" class=\"node\">\n<title>ctrl_G1</title>\n<text text-anchor=\"middle\" x=\"27\" y=\"-122.3\" font-family=\"Times,serif\" font-size=\"14.00\">ctrl</text>\n</g>\n<!-- CSwapApprox -->\n<g id=\"node4\" class=\"node\">\n<title>CSwapApprox</title>\n<polygon fill=\"none\" stroke=\"black\" points=\"91.5,-104 91.5,-121 124.5,-121 124.5,-104 91.5,-104\"/>\n<text text-anchor=\"start\" x=\"94.5\" y=\"-110\" font-family=\"Times,serif\" font-size=\"10.00\">~swap</text>\n<polygon fill=\"none\" stroke=\"black\" points=\"91.5,-83 91.5,-104 124.5,-104 124.5,-83 91.5,-83\"/>\n<text text-anchor=\"start\" x=\"98.5\" y=\"-89.8\" font-family=\"Times,serif\" font-size=\"14.00\">ctrl</text>\n<polygon fill=\"none\" stroke=\"black\" points=\"91.5,-62 91.5,-83 124.5,-83 124.5,-62 91.5,-62\"/>\n<text text-anchor=\"start\" x=\"104.5\" y=\"-68.8\" font-family=\"Times,serif\" font-size=\"14.00\">x</text>\n<polygon fill=\"none\" stroke=\"black\" points=\"91.5,-41 91.5,-62 124.5,-62 124.5,-41 91.5,-41\"/>\n<text text-anchor=\"start\" x=\"104.5\" y=\"-47.8\" font-family=\"Times,serif\" font-size=\"14.00\">y</text>\n</g>\n<!-- ctrl_G1&#45;&gt;CSwapApprox -->\n<g id=\"edge1\" class=\"edge\">\n<title>ctrl_G1:e-&gt;CSwapApprox:w</title>\n<path fill=\"none\" stroke=\"black\" d=\"M54,-126C74.89,-126 69.72,-96.45 88.58,-94.14\"/>\n<ellipse fill=\"black\" stroke=\"black\" cx=\"90\" cy=\"-94.06\" rx=\"1\" ry=\"1\"/>\n<text text-anchor=\"middle\" x=\"72.5\" y=\"-113\" font-family=\"Times,serif\" font-size=\"10.00\">1</text>\n</g>\n<!-- x_G4 -->\n<g id=\"node2\" class=\"node\">\n<title>x_G4</title>\n<text text-anchor=\"middle\" x=\"27\" y=\"-68.3\" font-family=\"Times,serif\" font-size=\"14.00\">x</text>\n</g>\n<!-- x_G4&#45;&gt;CSwapApprox -->\n<g id=\"edge2\" class=\"edge\">\n<title>x_G4:e-&gt;CSwapApprox:w</title>\n<path fill=\"none\" stroke=\"black\" d=\"M54,-72C69.67,-72 74.14,-72 88.77,-72\"/>\n<ellipse fill=\"black\" stroke=\"black\" cx=\"90\" cy=\"-72\" rx=\"1\" ry=\"1\"/>\n<text text-anchor=\"middle\" x=\"72.5\" y=\"-75\" font-family=\"Times,serif\" font-size=\"10.00\">n</text>\n</g>\n<!-- y_G8 -->\n<g id=\"node3\" class=\"node\">\n<title>y_G8</title>\n<text text-anchor=\"middle\" x=\"27\" y=\"-14.3\" font-family=\"Times,serif\" font-size=\"14.00\">y</text>\n</g>\n<!-- y_G8&#45;&gt;CSwapApprox -->\n<g id=\"edge3\" class=\"edge\">\n<title>y_G8:e-&gt;CSwapApprox:w</title>\n<path fill=\"none\" stroke=\"black\" d=\"M54,-18C75.17,-18 69.47,-48.47 88.55,-50.85\"/>\n<ellipse fill=\"black\" stroke=\"black\" cx=\"90\" cy=\"-50.94\" rx=\"1\" ry=\"1\"/>\n<text text-anchor=\"middle\" x=\"72.5\" y=\"-39\" font-family=\"Times,serif\" font-size=\"10.00\">n</text>\n</g>\n<!-- ctrl_G6 -->\n<g id=\"node5\" class=\"node\">\n<title>ctrl_G6</title>\n<text text-anchor=\"middle\" x=\"188\" y=\"-122.3\" font-family=\"Times,serif\" font-size=\"14.00\">ctrl</text>\n</g>\n<!-- CSwapApprox&#45;&gt;ctrl_G6 -->\n<g id=\"edge4\" class=\"edge\">\n<title>CSwapApprox:e-&gt;ctrl_G6:w</title>\n<path fill=\"none\" stroke=\"black\" d=\"M124,-94C144.89,-94 139.72,-123.55 158.58,-125.86\"/>\n<ellipse fill=\"black\" stroke=\"black\" cx=\"160\" cy=\"-125.94\" rx=\"1\" ry=\"1\"/>\n<text text-anchor=\"middle\" x=\"142.5\" y=\"-113\" font-family=\"Times,serif\" font-size=\"10.00\">1</text>\n</g>\n<!-- x_G0 -->\n<g id=\"node6\" class=\"node\">\n<title>x_G0</title>\n<text text-anchor=\"middle\" x=\"188\" y=\"-68.3\" font-family=\"Times,serif\" font-size=\"14.00\">x</text>\n</g>\n<!-- CSwapApprox&#45;&gt;x_G0 -->\n<g id=\"edge5\" class=\"edge\">\n<title>CSwapApprox:e-&gt;x_G0:w</title>\n<path fill=\"none\" stroke=\"black\" d=\"M124,-72C139.67,-72 144.14,-72 158.77,-72\"/>\n<ellipse fill=\"black\" stroke=\"black\" cx=\"160\" cy=\"-72\" rx=\"1\" ry=\"1\"/>\n<text text-anchor=\"middle\" x=\"142.5\" y=\"-75\" font-family=\"Times,serif\" font-size=\"10.00\">n</text>\n</g>\n<!-- y_G2 -->\n<g id=\"node7\" class=\"node\">\n<title>y_G2</title>\n<text text-anchor=\"middle\" x=\"188\" y=\"-14.3\" font-family=\"Times,serif\" font-size=\"14.00\">y</text>\n</g>\n<!-- CSwapApprox&#45;&gt;y_G2 -->\n<g id=\"edge6\" class=\"edge\">\n<title>CSwapApprox:e-&gt;y_G2:w</title>\n<path fill=\"none\" stroke=\"black\" d=\"M124,-51C145.17,-51 139.47,-20.53 158.55,-18.15\"/>\n<ellipse fill=\"black\" stroke=\"black\" cx=\"160\" cy=\"-18.06\" rx=\"1\" ry=\"1\"/>\n<text text-anchor=\"middle\" x=\"142.5\" y=\"-39\" font-family=\"Times,serif\" font-size=\"10.00\">n</text>\n</g>\n</g>\n</svg>",
          "text/plain": "<IPython.core.display.SVG object>"
         },
         "metadata": {},
         "output_type": "display_data"
        }
       ],
       "tabbable": null,
       "tooltip": null
      }
     },
     "78c7cad14b9647639c7df23fd69565e0": {
      "model_module": "@jupyter-widgets/base",
      "model_module_version": "2.0.0",
      "model_name": "LayoutModel",
      "state": {
       "_model_module": "@jupyter-widgets/base",
       "_model_module_version": "2.0.0",
       "_model_name": "LayoutModel",
       "_view_count": null,
       "_view_module": "@jupyter-widgets/base",
       "_view_module_version": "2.0.0",
       "_view_name": "LayoutView",
       "align_content": null,
       "align_items": null,
       "align_self": null,
       "border_bottom": null,
       "border_left": null,
       "border_right": null,
       "border_top": null,
       "bottom": null,
       "display": null,
       "flex": null,
       "flex_flow": null,
       "grid_area": null,
       "grid_auto_columns": null,
       "grid_auto_flow": null,
       "grid_auto_rows": null,
       "grid_column": null,
       "grid_gap": null,
       "grid_row": null,
       "grid_template_areas": null,
       "grid_template_columns": null,
       "grid_template_rows": null,
       "height": null,
       "justify_content": null,
       "justify_items": null,
       "left": null,
       "margin": null,
       "max_height": null,
       "max_width": null,
       "min_height": null,
       "min_width": null,
       "object_fit": null,
       "object_position": null,
       "order": null,
       "overflow": null,
       "padding": null,
       "right": null,
       "top": null,
       "visibility": null,
       "width": null
      }
     },
     "95d7044925ed4b559b35080c0f439c08": {
      "model_module": "@jupyter-widgets/base",
      "model_module_version": "2.0.0",
      "model_name": "LayoutModel",
      "state": {
       "_model_module": "@jupyter-widgets/base",
       "_model_module_version": "2.0.0",
       "_model_name": "LayoutModel",
       "_view_count": null,
       "_view_module": "@jupyter-widgets/base",
       "_view_module_version": "2.0.0",
       "_view_name": "LayoutView",
       "align_content": null,
       "align_items": null,
       "align_self": null,
       "border_bottom": null,
       "border_left": null,
       "border_right": null,
       "border_top": null,
       "bottom": null,
       "display": null,
       "flex": null,
       "flex_flow": null,
       "grid_area": null,
       "grid_auto_columns": null,
       "grid_auto_flow": null,
       "grid_auto_rows": null,
       "grid_column": null,
       "grid_gap": null,
       "grid_row": null,
       "grid_template_areas": null,
       "grid_template_columns": null,
       "grid_template_rows": null,
       "height": null,
       "justify_content": null,
       "justify_items": null,
       "left": null,
       "margin": null,
       "max_height": null,
       "max_width": null,
       "min_height": null,
       "min_width": null,
       "object_fit": null,
       "object_position": null,
       "order": null,
       "overflow": null,
       "padding": null,
       "right": null,
       "top": null,
       "visibility": null,
       "width": null
      }
     },
     "9682a0e3842c44648618733fffca1d7d": {
      "model_module": "@jupyter-widgets/output",
      "model_module_version": "1.0.0",
      "model_name": "OutputModel",
      "state": {
       "_dom_classes": [],
       "_model_module": "@jupyter-widgets/output",
       "_model_module_version": "1.0.0",
       "_model_name": "OutputModel",
       "_view_count": null,
       "_view_module": "@jupyter-widgets/output",
       "_view_module_version": "1.0.0",
       "_view_name": "OutputView",
       "layout": "IPY_MODEL_6c75ce4893e34bb298396ee6b54de51b",
       "msg_id": "",
       "outputs": [
        {
         "data": {
          "text/markdown": "`cswap_large`",
          "text/plain": "<IPython.core.display.Markdown object>"
         },
         "metadata": {},
         "output_type": "display_data"
        },
        {
         "data": {
          "image/svg+xml": "<svg xmlns=\"http://www.w3.org/2000/svg\" xmlns:xlink=\"http://www.w3.org/1999/xlink\" width=\"217pt\" height=\"152pt\" viewBox=\"0.00 0.00 217.00 152.00\">\n<g id=\"graph0\" class=\"graph\" transform=\"scale(1 1) rotate(0) translate(4 148)\">\n<title>my_graph</title>\n<polygon fill=\"white\" stroke=\"transparent\" points=\"-4,4 -4,-148 213,-148 213,4 -4,4\"/>\n<!-- ctrl_G1 -->\n<g id=\"node1\" class=\"node\">\n<title>ctrl_G1</title>\n<text text-anchor=\"middle\" x=\"27\" y=\"-122.3\" font-family=\"Times,serif\" font-size=\"14.00\">ctrl</text>\n</g>\n<!-- CSwap -->\n<g id=\"node4\" class=\"node\">\n<title>CSwap</title>\n<polygon fill=\"none\" stroke=\"black\" points=\"91.5,-104 91.5,-121 118.5,-121 118.5,-104 91.5,-104\"/>\n<text text-anchor=\"start\" x=\"94.5\" y=\"-110\" font-family=\"Times,serif\" font-size=\"10.00\">x↔y</text>\n<polygon fill=\"none\" stroke=\"black\" points=\"91.5,-83 91.5,-104 118.5,-104 118.5,-83 91.5,-83\"/>\n<text text-anchor=\"start\" x=\"95.5\" y=\"-89.8\" font-family=\"Times,serif\" font-size=\"14.00\">ctrl</text>\n<polygon fill=\"none\" stroke=\"black\" points=\"91.5,-62 91.5,-83 118.5,-83 118.5,-62 91.5,-62\"/>\n<text text-anchor=\"start\" x=\"101.5\" y=\"-68.8\" font-family=\"Times,serif\" font-size=\"14.00\">x</text>\n<polygon fill=\"none\" stroke=\"black\" points=\"91.5,-41 91.5,-62 118.5,-62 118.5,-41 91.5,-41\"/>\n<text text-anchor=\"start\" x=\"101.5\" y=\"-47.8\" font-family=\"Times,serif\" font-size=\"14.00\">y</text>\n</g>\n<!-- ctrl_G1&#45;&gt;CSwap -->\n<g id=\"edge1\" class=\"edge\">\n<title>ctrl_G1:e-&gt;CSwap:w</title>\n<path fill=\"none\" stroke=\"black\" d=\"M54,-126C74.89,-126 69.72,-96.45 88.58,-94.14\"/>\n<ellipse fill=\"black\" stroke=\"black\" cx=\"90\" cy=\"-94.06\" rx=\"1\" ry=\"1\"/>\n<text text-anchor=\"middle\" x=\"72.5\" y=\"-113\" font-family=\"Times,serif\" font-size=\"10.00\">1</text>\n</g>\n<!-- x_G7 -->\n<g id=\"node2\" class=\"node\">\n<title>x_G7</title>\n<text text-anchor=\"middle\" x=\"27\" y=\"-68.3\" font-family=\"Times,serif\" font-size=\"14.00\">x</text>\n</g>\n<!-- x_G7&#45;&gt;CSwap -->\n<g id=\"edge2\" class=\"edge\">\n<title>x_G7:e-&gt;CSwap:w</title>\n<path fill=\"none\" stroke=\"black\" d=\"M54,-72C69.67,-72 74.14,-72 88.77,-72\"/>\n<ellipse fill=\"black\" stroke=\"black\" cx=\"90\" cy=\"-72\" rx=\"1\" ry=\"1\"/>\n<text text-anchor=\"middle\" x=\"72.5\" y=\"-75\" font-family=\"Times,serif\" font-size=\"10.00\">64</text>\n</g>\n<!-- y_G0 -->\n<g id=\"node3\" class=\"node\">\n<title>y_G0</title>\n<text text-anchor=\"middle\" x=\"27\" y=\"-14.3\" font-family=\"Times,serif\" font-size=\"14.00\">y</text>\n</g>\n<!-- y_G0&#45;&gt;CSwap -->\n<g id=\"edge3\" class=\"edge\">\n<title>y_G0:e-&gt;CSwap:w</title>\n<path fill=\"none\" stroke=\"black\" d=\"M54,-18C75.17,-18 69.47,-48.47 88.55,-50.85\"/>\n<ellipse fill=\"black\" stroke=\"black\" cx=\"90\" cy=\"-50.94\" rx=\"1\" ry=\"1\"/>\n<text text-anchor=\"middle\" x=\"72.5\" y=\"-39\" font-family=\"Times,serif\" font-size=\"10.00\">64</text>\n</g>\n<!-- ctrl_G8 -->\n<g id=\"node5\" class=\"node\">\n<title>ctrl_G8</title>\n<text text-anchor=\"middle\" x=\"182\" y=\"-122.3\" font-family=\"Times,serif\" font-size=\"14.00\">ctrl</text>\n</g>\n<!-- CSwap&#45;&gt;ctrl_G8 -->\n<g id=\"edge4\" class=\"edge\">\n<title>CSwap:e-&gt;ctrl_G8:w</title>\n<path fill=\"none\" stroke=\"black\" d=\"M118,-94C138.89,-94 133.72,-123.55 152.58,-125.86\"/>\n<ellipse fill=\"black\" stroke=\"black\" cx=\"154\" cy=\"-125.94\" rx=\"1\" ry=\"1\"/>\n<text text-anchor=\"middle\" x=\"136.5\" y=\"-113\" font-family=\"Times,serif\" font-size=\"10.00\">1</text>\n</g>\n<!-- x_G3 -->\n<g id=\"node6\" class=\"node\">\n<title>x_G3</title>\n<text text-anchor=\"middle\" x=\"182\" y=\"-68.3\" font-family=\"Times,serif\" font-size=\"14.00\">x</text>\n</g>\n<!-- CSwap&#45;&gt;x_G3 -->\n<g id=\"edge5\" class=\"edge\">\n<title>CSwap:e-&gt;x_G3:w</title>\n<path fill=\"none\" stroke=\"black\" d=\"M118,-72C133.67,-72 138.14,-72 152.77,-72\"/>\n<ellipse fill=\"black\" stroke=\"black\" cx=\"154\" cy=\"-72\" rx=\"1\" ry=\"1\"/>\n<text text-anchor=\"middle\" x=\"136.5\" y=\"-75\" font-family=\"Times,serif\" font-size=\"10.00\">64</text>\n</g>\n<!-- y_G2 -->\n<g id=\"node7\" class=\"node\">\n<title>y_G2</title>\n<text text-anchor=\"middle\" x=\"182\" y=\"-14.3\" font-family=\"Times,serif\" font-size=\"14.00\">y</text>\n</g>\n<!-- CSwap&#45;&gt;y_G2 -->\n<g id=\"edge6\" class=\"edge\">\n<title>CSwap:e-&gt;y_G2:w</title>\n<path fill=\"none\" stroke=\"black\" d=\"M118,-51C139.17,-51 133.47,-20.53 152.55,-18.15\"/>\n<ellipse fill=\"black\" stroke=\"black\" cx=\"154\" cy=\"-18.06\" rx=\"1\" ry=\"1\"/>\n<text text-anchor=\"middle\" x=\"136.5\" y=\"-39\" font-family=\"Times,serif\" font-size=\"10.00\">64</text>\n</g>\n</g>\n</svg>",
          "text/plain": "<IPython.core.display.SVG object>"
         },
         "metadata": {},
         "output_type": "display_data"
        }
       ],
       "tabbable": null,
       "tooltip": null
      }
     },
     "99d8dff483434180a6403801f80426aa": {
      "model_module": "@jupyter-widgets/output",
      "model_module_version": "1.0.0",
      "model_name": "OutputModel",
      "state": {
       "_dom_classes": [],
       "_model_module": "@jupyter-widgets/output",
       "_model_module_version": "1.0.0",
       "_model_name": "OutputModel",
       "_view_count": null,
       "_view_module": "@jupyter-widgets/output",
       "_view_module_version": "1.0.0",
       "_view_name": "OutputView",
       "layout": "IPY_MODEL_95d7044925ed4b559b35080c0f439c08",
       "msg_id": "",
       "outputs": [
        {
         "data": {
          "text/markdown": "`cswap_symb`",
          "text/plain": "<IPython.core.display.Markdown object>"
         },
         "metadata": {},
         "output_type": "display_data"
        },
        {
         "data": {
          "image/svg+xml": "<svg xmlns=\"http://www.w3.org/2000/svg\" xmlns:xlink=\"http://www.w3.org/1999/xlink\" width=\"217pt\" height=\"152pt\" viewBox=\"0.00 0.00 217.00 152.00\">\n<g id=\"graph0\" class=\"graph\" transform=\"scale(1 1) rotate(0) translate(4 148)\">\n<title>my_graph</title>\n<polygon fill=\"white\" stroke=\"transparent\" points=\"-4,4 -4,-148 213,-148 213,4 -4,4\"/>\n<!-- ctrl_G2 -->\n<g id=\"node1\" class=\"node\">\n<title>ctrl_G2</title>\n<text text-anchor=\"middle\" x=\"27\" y=\"-122.3\" font-family=\"Times,serif\" font-size=\"14.00\">ctrl</text>\n</g>\n<!-- CSwap -->\n<g id=\"node4\" class=\"node\">\n<title>CSwap</title>\n<polygon fill=\"none\" stroke=\"black\" points=\"91.5,-104 91.5,-121 118.5,-121 118.5,-104 91.5,-104\"/>\n<text text-anchor=\"start\" x=\"94.5\" y=\"-110\" font-family=\"Times,serif\" font-size=\"10.00\">x↔y</text>\n<polygon fill=\"none\" stroke=\"black\" points=\"91.5,-83 91.5,-104 118.5,-104 118.5,-83 91.5,-83\"/>\n<text text-anchor=\"start\" x=\"95.5\" y=\"-89.8\" font-family=\"Times,serif\" font-size=\"14.00\">ctrl</text>\n<polygon fill=\"none\" stroke=\"black\" points=\"91.5,-62 91.5,-83 118.5,-83 118.5,-62 91.5,-62\"/>\n<text text-anchor=\"start\" x=\"101.5\" y=\"-68.8\" font-family=\"Times,serif\" font-size=\"14.00\">x</text>\n<polygon fill=\"none\" stroke=\"black\" points=\"91.5,-41 91.5,-62 118.5,-62 118.5,-41 91.5,-41\"/>\n<text text-anchor=\"start\" x=\"101.5\" y=\"-47.8\" font-family=\"Times,serif\" font-size=\"14.00\">y</text>\n</g>\n<!-- ctrl_G2&#45;&gt;CSwap -->\n<g id=\"edge1\" class=\"edge\">\n<title>ctrl_G2:e-&gt;CSwap:w</title>\n<path fill=\"none\" stroke=\"black\" d=\"M54,-126C74.89,-126 69.72,-96.45 88.58,-94.14\"/>\n<ellipse fill=\"black\" stroke=\"black\" cx=\"90\" cy=\"-94.06\" rx=\"1\" ry=\"1\"/>\n<text text-anchor=\"middle\" x=\"72.5\" y=\"-113\" font-family=\"Times,serif\" font-size=\"10.00\">1</text>\n</g>\n<!-- x_G5 -->\n<g id=\"node2\" class=\"node\">\n<title>x_G5</title>\n<text text-anchor=\"middle\" x=\"27\" y=\"-68.3\" font-family=\"Times,serif\" font-size=\"14.00\">x</text>\n</g>\n<!-- x_G5&#45;&gt;CSwap -->\n<g id=\"edge2\" class=\"edge\">\n<title>x_G5:e-&gt;CSwap:w</title>\n<path fill=\"none\" stroke=\"black\" d=\"M54,-72C69.67,-72 74.14,-72 88.77,-72\"/>\n<ellipse fill=\"black\" stroke=\"black\" cx=\"90\" cy=\"-72\" rx=\"1\" ry=\"1\"/>\n<text text-anchor=\"middle\" x=\"72.5\" y=\"-75\" font-family=\"Times,serif\" font-size=\"10.00\">n</text>\n</g>\n<!-- y_G7 -->\n<g id=\"node3\" class=\"node\">\n<title>y_G7</title>\n<text text-anchor=\"middle\" x=\"27\" y=\"-14.3\" font-family=\"Times,serif\" font-size=\"14.00\">y</text>\n</g>\n<!-- y_G7&#45;&gt;CSwap -->\n<g id=\"edge3\" class=\"edge\">\n<title>y_G7:e-&gt;CSwap:w</title>\n<path fill=\"none\" stroke=\"black\" d=\"M54,-18C75.17,-18 69.47,-48.47 88.55,-50.85\"/>\n<ellipse fill=\"black\" stroke=\"black\" cx=\"90\" cy=\"-50.94\" rx=\"1\" ry=\"1\"/>\n<text text-anchor=\"middle\" x=\"72.5\" y=\"-39\" font-family=\"Times,serif\" font-size=\"10.00\">n</text>\n</g>\n<!-- ctrl_G6 -->\n<g id=\"node5\" class=\"node\">\n<title>ctrl_G6</title>\n<text text-anchor=\"middle\" x=\"182\" y=\"-122.3\" font-family=\"Times,serif\" font-size=\"14.00\">ctrl</text>\n</g>\n<!-- CSwap&#45;&gt;ctrl_G6 -->\n<g id=\"edge4\" class=\"edge\">\n<title>CSwap:e-&gt;ctrl_G6:w</title>\n<path fill=\"none\" stroke=\"black\" d=\"M118,-94C138.89,-94 133.72,-123.55 152.58,-125.86\"/>\n<ellipse fill=\"black\" stroke=\"black\" cx=\"154\" cy=\"-125.94\" rx=\"1\" ry=\"1\"/>\n<text text-anchor=\"middle\" x=\"136.5\" y=\"-113\" font-family=\"Times,serif\" font-size=\"10.00\">1</text>\n</g>\n<!-- x_G0 -->\n<g id=\"node6\" class=\"node\">\n<title>x_G0</title>\n<text text-anchor=\"middle\" x=\"182\" y=\"-68.3\" font-family=\"Times,serif\" font-size=\"14.00\">x</text>\n</g>\n<!-- CSwap&#45;&gt;x_G0 -->\n<g id=\"edge5\" class=\"edge\">\n<title>CSwap:e-&gt;x_G0:w</title>\n<path fill=\"none\" stroke=\"black\" d=\"M118,-72C133.67,-72 138.14,-72 152.77,-72\"/>\n<ellipse fill=\"black\" stroke=\"black\" cx=\"154\" cy=\"-72\" rx=\"1\" ry=\"1\"/>\n<text text-anchor=\"middle\" x=\"136.5\" y=\"-75\" font-family=\"Times,serif\" font-size=\"10.00\">n</text>\n</g>\n<!-- y_G4 -->\n<g id=\"node7\" class=\"node\">\n<title>y_G4</title>\n<text text-anchor=\"middle\" x=\"182\" y=\"-14.3\" font-family=\"Times,serif\" font-size=\"14.00\">y</text>\n</g>\n<!-- CSwap&#45;&gt;y_G4 -->\n<g id=\"edge6\" class=\"edge\">\n<title>CSwap:e-&gt;y_G4:w</title>\n<path fill=\"none\" stroke=\"black\" d=\"M118,-51C139.17,-51 133.47,-20.53 152.55,-18.15\"/>\n<ellipse fill=\"black\" stroke=\"black\" cx=\"154\" cy=\"-18.06\" rx=\"1\" ry=\"1\"/>\n<text text-anchor=\"middle\" x=\"136.5\" y=\"-39\" font-family=\"Times,serif\" font-size=\"10.00\">n</text>\n</g>\n</g>\n</svg>",
          "text/plain": "<IPython.core.display.SVG object>"
         },
         "metadata": {},
         "output_type": "display_data"
        }
       ],
       "tabbable": null,
       "tooltip": null
      }
     },
     "9cb414d399df4425bdb4cd50e1d745ce": {
      "model_module": "@jupyter-widgets/base",
      "model_module_version": "2.0.0",
      "model_name": "LayoutModel",
      "state": {
       "_model_module": "@jupyter-widgets/base",
       "_model_module_version": "2.0.0",
       "_model_name": "LayoutModel",
       "_view_count": null,
       "_view_module": "@jupyter-widgets/base",
       "_view_module_version": "2.0.0",
       "_view_name": "LayoutView",
       "align_content": null,
       "align_items": null,
       "align_self": null,
       "border_bottom": null,
       "border_left": null,
       "border_right": null,
       "border_top": null,
       "bottom": null,
       "display": null,
       "flex": null,
       "flex_flow": null,
       "grid_area": null,
       "grid_auto_columns": null,
       "grid_auto_flow": null,
       "grid_auto_rows": null,
       "grid_column": null,
       "grid_gap": null,
       "grid_row": null,
       "grid_template_areas": null,
       "grid_template_columns": null,
       "grid_template_rows": null,
       "height": null,
       "justify_content": null,
       "justify_items": null,
       "left": null,
       "margin": null,
       "max_height": null,
       "max_width": null,
       "min_height": null,
       "min_width": null,
       "object_fit": null,
       "object_position": null,
       "order": null,
       "overflow": null,
       "padding": null,
       "right": null,
       "top": null,
       "visibility": null,
       "width": null
      }
     },
     "ae6fc6bb94fa4e79aeecdd5a41f8dec4": {
      "model_module": "@jupyter-widgets/base",
      "model_module_version": "2.0.0",
      "model_name": "LayoutModel",
      "state": {
       "_model_module": "@jupyter-widgets/base",
       "_model_module_version": "2.0.0",
       "_model_name": "LayoutModel",
       "_view_count": null,
       "_view_module": "@jupyter-widgets/base",
       "_view_module_version": "2.0.0",
       "_view_name": "LayoutView",
       "align_content": null,
       "align_items": null,
       "align_self": null,
       "border_bottom": null,
       "border_left": null,
       "border_right": null,
       "border_top": null,
       "bottom": null,
       "display": null,
       "flex": null,
       "flex_flow": null,
       "grid_area": null,
       "grid_auto_columns": null,
       "grid_auto_flow": null,
       "grid_auto_rows": null,
       "grid_column": null,
       "grid_gap": null,
       "grid_row": null,
       "grid_template_areas": null,
       "grid_template_columns": null,
       "grid_template_rows": null,
       "height": null,
       "justify_content": null,
       "justify_items": null,
       "left": null,
       "margin": null,
       "max_height": null,
       "max_width": null,
       "min_height": null,
       "min_width": null,
       "object_fit": null,
       "object_position": null,
       "order": null,
       "overflow": null,
       "padding": null,
       "right": null,
       "top": null,
       "visibility": null,
       "width": null
      }
     },
     "afa784b54f7a46a99b8ccb97fdaf0274": {
      "model_module": "@jupyter-widgets/base",
      "model_module_version": "2.0.0",
      "model_name": "LayoutModel",
      "state": {
       "_model_module": "@jupyter-widgets/base",
       "_model_module_version": "2.0.0",
       "_model_name": "LayoutModel",
       "_view_count": null,
       "_view_module": "@jupyter-widgets/base",
       "_view_module_version": "2.0.0",
       "_view_name": "LayoutView",
       "align_content": null,
       "align_items": null,
       "align_self": null,
       "border_bottom": null,
       "border_left": null,
       "border_right": null,
       "border_top": null,
       "bottom": null,
       "display": null,
       "flex": null,
       "flex_flow": null,
       "grid_area": null,
       "grid_auto_columns": null,
       "grid_auto_flow": null,
       "grid_auto_rows": null,
       "grid_column": null,
       "grid_gap": null,
       "grid_row": null,
       "grid_template_areas": null,
       "grid_template_columns": null,
       "grid_template_rows": null,
       "height": null,
       "justify_content": null,
       "justify_items": null,
       "left": null,
       "margin": null,
       "max_height": null,
       "max_width": null,
       "min_height": null,
       "min_width": null,
       "object_fit": null,
       "object_position": null,
       "order": null,
       "overflow": null,
       "padding": null,
       "right": null,
       "top": null,
       "visibility": null,
       "width": null
      }
     },
     "b75f025748dd40ad9f3a56346c687d4a": {
      "model_module": "@jupyter-widgets/base",
      "model_module_version": "2.0.0",
      "model_name": "LayoutModel",
      "state": {
       "_model_module": "@jupyter-widgets/base",
       "_model_module_version": "2.0.0",
       "_model_name": "LayoutModel",
       "_view_count": null,
       "_view_module": "@jupyter-widgets/base",
       "_view_module_version": "2.0.0",
       "_view_name": "LayoutView",
       "align_content": null,
       "align_items": null,
       "align_self": null,
       "border_bottom": null,
       "border_left": null,
       "border_right": null,
       "border_top": null,
       "bottom": null,
       "display": null,
       "flex": null,
       "flex_flow": null,
       "grid_area": null,
       "grid_auto_columns": null,
       "grid_auto_flow": null,
       "grid_auto_rows": null,
       "grid_column": null,
       "grid_gap": null,
       "grid_row": null,
       "grid_template_areas": null,
       "grid_template_columns": null,
       "grid_template_rows": null,
       "height": null,
       "justify_content": null,
       "justify_items": null,
       "left": null,
       "margin": null,
       "max_height": null,
       "max_width": null,
       "min_height": null,
       "min_width": null,
       "object_fit": null,
       "object_position": null,
       "order": null,
       "overflow": null,
       "padding": null,
       "right": null,
       "top": null,
       "visibility": null,
       "width": null
      }
     },
     "c444ed8c8f284295afe6c401a98f69aa": {
      "model_module": "@jupyter-widgets/base",
      "model_module_version": "2.0.0",
      "model_name": "LayoutModel",
      "state": {
       "_model_module": "@jupyter-widgets/base",
       "_model_module_version": "2.0.0",
       "_model_name": "LayoutModel",
       "_view_count": null,
       "_view_module": "@jupyter-widgets/base",
       "_view_module_version": "2.0.0",
       "_view_name": "LayoutView",
       "align_content": null,
       "align_items": null,
       "align_self": null,
       "border_bottom": null,
       "border_left": null,
       "border_right": null,
       "border_top": null,
       "bottom": null,
       "display": null,
       "flex": null,
       "flex_flow": null,
       "grid_area": null,
       "grid_auto_columns": null,
       "grid_auto_flow": null,
       "grid_auto_rows": null,
       "grid_column": null,
       "grid_gap": null,
       "grid_row": null,
       "grid_template_areas": null,
       "grid_template_columns": null,
       "grid_template_rows": null,
       "height": null,
       "justify_content": null,
       "justify_items": null,
       "left": null,
       "margin": null,
       "max_height": null,
       "max_width": null,
       "min_height": null,
       "min_width": null,
       "object_fit": null,
       "object_position": null,
       "order": null,
       "overflow": null,
       "padding": null,
       "right": null,
       "top": null,
       "visibility": null,
       "width": null
      }
     },
     "c7814a1a612b4d1da439edec274b9862": {
      "model_module": "@jupyter-widgets/controls",
      "model_module_version": "2.0.0",
      "model_name": "HBoxModel",
      "state": {
       "_dom_classes": [],
       "_model_module": "@jupyter-widgets/controls",
       "_model_module_version": "2.0.0",
       "_model_name": "HBoxModel",
       "_view_count": null,
       "_view_module": "@jupyter-widgets/controls",
       "_view_module_version": "2.0.0",
       "_view_name": "HBoxView",
       "box_style": "",
       "children": [
        "IPY_MODEL_99d8dff483434180a6403801f80426aa",
        "IPY_MODEL_df66e43d0ec240a699caa4c079d71b59",
        "IPY_MODEL_9682a0e3842c44648618733fffca1d7d"
       ],
       "layout": "IPY_MODEL_142cf4d8f57942c9ad592fb4dd8563eb",
       "tabbable": null,
       "tooltip": null
      }
     },
     "dca3f382b2ef412f9751835fb1aa802a": {
      "model_module": "@jupyter-widgets/controls",
      "model_module_version": "2.0.0",
      "model_name": "HBoxModel",
      "state": {
       "_dom_classes": [],
       "_model_module": "@jupyter-widgets/controls",
       "_model_module_version": "2.0.0",
       "_model_name": "HBoxModel",
       "_view_count": null,
       "_view_module": "@jupyter-widgets/controls",
       "_view_module_version": "2.0.0",
       "_view_name": "HBoxView",
       "box_style": "",
       "children": [
        "IPY_MODEL_24ebc58d4efc46759764935d875a5a27",
        "IPY_MODEL_2d462ce598ca4a1c936675d741383987"
       ],
       "layout": "IPY_MODEL_afa784b54f7a46a99b8ccb97fdaf0274",
       "tabbable": null,
       "tooltip": null
      }
     },
     "df66e43d0ec240a699caa4c079d71b59": {
      "model_module": "@jupyter-widgets/output",
      "model_module_version": "1.0.0",
      "model_name": "OutputModel",
      "state": {
       "_dom_classes": [],
       "_model_module": "@jupyter-widgets/output",
       "_model_module_version": "1.0.0",
       "_model_name": "OutputModel",
       "_view_count": null,
       "_view_module": "@jupyter-widgets/output",
       "_view_module_version": "1.0.0",
       "_view_name": "OutputView",
       "layout": "IPY_MODEL_2bdf7e684f344b009e8992bac154d970",
       "msg_id": "",
       "outputs": [
        {
         "data": {
          "text/markdown": "`cswap_small`",
          "text/plain": "<IPython.core.display.Markdown object>"
         },
         "metadata": {},
         "output_type": "display_data"
        },
        {
         "data": {
          "image/svg+xml": "<svg xmlns=\"http://www.w3.org/2000/svg\" xmlns:xlink=\"http://www.w3.org/1999/xlink\" width=\"217pt\" height=\"152pt\" viewBox=\"0.00 0.00 217.00 152.00\">\n<g id=\"graph0\" class=\"graph\" transform=\"scale(1 1) rotate(0) translate(4 148)\">\n<title>my_graph</title>\n<polygon fill=\"white\" stroke=\"transparent\" points=\"-4,4 -4,-148 213,-148 213,4 -4,4\"/>\n<!-- ctrl_G2 -->\n<g id=\"node1\" class=\"node\">\n<title>ctrl_G2</title>\n<text text-anchor=\"middle\" x=\"27\" y=\"-122.3\" font-family=\"Times,serif\" font-size=\"14.00\">ctrl</text>\n</g>\n<!-- CSwap -->\n<g id=\"node4\" class=\"node\">\n<title>CSwap</title>\n<polygon fill=\"none\" stroke=\"black\" points=\"91.5,-104 91.5,-121 118.5,-121 118.5,-104 91.5,-104\"/>\n<text text-anchor=\"start\" x=\"94.5\" y=\"-110\" font-family=\"Times,serif\" font-size=\"10.00\">x↔y</text>\n<polygon fill=\"none\" stroke=\"black\" points=\"91.5,-83 91.5,-104 118.5,-104 118.5,-83 91.5,-83\"/>\n<text text-anchor=\"start\" x=\"95.5\" y=\"-89.8\" font-family=\"Times,serif\" font-size=\"14.00\">ctrl</text>\n<polygon fill=\"none\" stroke=\"black\" points=\"91.5,-62 91.5,-83 118.5,-83 118.5,-62 91.5,-62\"/>\n<text text-anchor=\"start\" x=\"101.5\" y=\"-68.8\" font-family=\"Times,serif\" font-size=\"14.00\">x</text>\n<polygon fill=\"none\" stroke=\"black\" points=\"91.5,-41 91.5,-62 118.5,-62 118.5,-41 91.5,-41\"/>\n<text text-anchor=\"start\" x=\"101.5\" y=\"-47.8\" font-family=\"Times,serif\" font-size=\"14.00\">y</text>\n</g>\n<!-- ctrl_G2&#45;&gt;CSwap -->\n<g id=\"edge1\" class=\"edge\">\n<title>ctrl_G2:e-&gt;CSwap:w</title>\n<path fill=\"none\" stroke=\"black\" d=\"M54,-126C74.89,-126 69.72,-96.45 88.58,-94.14\"/>\n<ellipse fill=\"black\" stroke=\"black\" cx=\"90\" cy=\"-94.06\" rx=\"1\" ry=\"1\"/>\n<text text-anchor=\"middle\" x=\"72.5\" y=\"-113\" font-family=\"Times,serif\" font-size=\"10.00\">1</text>\n</g>\n<!-- x_G4 -->\n<g id=\"node2\" class=\"node\">\n<title>x_G4</title>\n<text text-anchor=\"middle\" x=\"27\" y=\"-68.3\" font-family=\"Times,serif\" font-size=\"14.00\">x</text>\n</g>\n<!-- x_G4&#45;&gt;CSwap -->\n<g id=\"edge2\" class=\"edge\">\n<title>x_G4:e-&gt;CSwap:w</title>\n<path fill=\"none\" stroke=\"black\" d=\"M54,-72C69.67,-72 74.14,-72 88.77,-72\"/>\n<ellipse fill=\"black\" stroke=\"black\" cx=\"90\" cy=\"-72\" rx=\"1\" ry=\"1\"/>\n<text text-anchor=\"middle\" x=\"72.5\" y=\"-75\" font-family=\"Times,serif\" font-size=\"10.00\">4</text>\n</g>\n<!-- y_G5 -->\n<g id=\"node3\" class=\"node\">\n<title>y_G5</title>\n<text text-anchor=\"middle\" x=\"27\" y=\"-14.3\" font-family=\"Times,serif\" font-size=\"14.00\">y</text>\n</g>\n<!-- y_G5&#45;&gt;CSwap -->\n<g id=\"edge3\" class=\"edge\">\n<title>y_G5:e-&gt;CSwap:w</title>\n<path fill=\"none\" stroke=\"black\" d=\"M54,-18C75.17,-18 69.47,-48.47 88.55,-50.85\"/>\n<ellipse fill=\"black\" stroke=\"black\" cx=\"90\" cy=\"-50.94\" rx=\"1\" ry=\"1\"/>\n<text text-anchor=\"middle\" x=\"72.5\" y=\"-39\" font-family=\"Times,serif\" font-size=\"10.00\">4</text>\n</g>\n<!-- ctrl_G1 -->\n<g id=\"node5\" class=\"node\">\n<title>ctrl_G1</title>\n<text text-anchor=\"middle\" x=\"182\" y=\"-122.3\" font-family=\"Times,serif\" font-size=\"14.00\">ctrl</text>\n</g>\n<!-- CSwap&#45;&gt;ctrl_G1 -->\n<g id=\"edge4\" class=\"edge\">\n<title>CSwap:e-&gt;ctrl_G1:w</title>\n<path fill=\"none\" stroke=\"black\" d=\"M118,-94C138.89,-94 133.72,-123.55 152.58,-125.86\"/>\n<ellipse fill=\"black\" stroke=\"black\" cx=\"154\" cy=\"-125.94\" rx=\"1\" ry=\"1\"/>\n<text text-anchor=\"middle\" x=\"136.5\" y=\"-113\" font-family=\"Times,serif\" font-size=\"10.00\">1</text>\n</g>\n<!-- x_G0 -->\n<g id=\"node6\" class=\"node\">\n<title>x_G0</title>\n<text text-anchor=\"middle\" x=\"182\" y=\"-68.3\" font-family=\"Times,serif\" font-size=\"14.00\">x</text>\n</g>\n<!-- CSwap&#45;&gt;x_G0 -->\n<g id=\"edge5\" class=\"edge\">\n<title>CSwap:e-&gt;x_G0:w</title>\n<path fill=\"none\" stroke=\"black\" d=\"M118,-72C133.67,-72 138.14,-72 152.77,-72\"/>\n<ellipse fill=\"black\" stroke=\"black\" cx=\"154\" cy=\"-72\" rx=\"1\" ry=\"1\"/>\n<text text-anchor=\"middle\" x=\"136.5\" y=\"-75\" font-family=\"Times,serif\" font-size=\"10.00\">4</text>\n</g>\n<!-- y_G7 -->\n<g id=\"node7\" class=\"node\">\n<title>y_G7</title>\n<text text-anchor=\"middle\" x=\"182\" y=\"-14.3\" font-family=\"Times,serif\" font-size=\"14.00\">y</text>\n</g>\n<!-- CSwap&#45;&gt;y_G7 -->\n<g id=\"edge6\" class=\"edge\">\n<title>CSwap:e-&gt;y_G7:w</title>\n<path fill=\"none\" stroke=\"black\" d=\"M118,-51C139.17,-51 133.47,-20.53 152.55,-18.15\"/>\n<ellipse fill=\"black\" stroke=\"black\" cx=\"154\" cy=\"-18.06\" rx=\"1\" ry=\"1\"/>\n<text text-anchor=\"middle\" x=\"136.5\" y=\"-39\" font-family=\"Times,serif\" font-size=\"10.00\">4</text>\n</g>\n</g>\n</svg>",
          "text/plain": "<IPython.core.display.SVG object>"
         },
         "metadata": {},
         "output_type": "display_data"
        }
       ],
       "tabbable": null,
       "tooltip": null
      }
     },
     "e1a9353b915c4f559c6351ec07b0292c": {
      "model_module": "@jupyter-widgets/controls",
      "model_module_version": "2.0.0",
      "model_name": "HBoxModel",
      "state": {
       "_dom_classes": [],
       "_model_module": "@jupyter-widgets/controls",
       "_model_module_version": "2.0.0",
       "_model_name": "HBoxModel",
       "_view_count": null,
       "_view_module": "@jupyter-widgets/controls",
       "_view_module_version": "2.0.0",
       "_view_name": "HBoxView",
       "box_style": "",
       "children": [
        "IPY_MODEL_74c0e75f2f9c452db4e1f34574e689f6",
        "IPY_MODEL_f7311f22a33f482aaecd6075c78e431c",
        "IPY_MODEL_5f4c575aaed946f6853bc327ca07fed7"
       ],
       "layout": "IPY_MODEL_c444ed8c8f284295afe6c401a98f69aa",
       "tabbable": null,
       "tooltip": null
      }
     },
     "f7311f22a33f482aaecd6075c78e431c": {
      "model_module": "@jupyter-widgets/output",
      "model_module_version": "1.0.0",
      "model_name": "OutputModel",
      "state": {
       "_dom_classes": [],
       "_model_module": "@jupyter-widgets/output",
       "_model_module_version": "1.0.0",
       "_model_name": "OutputModel",
       "_view_count": null,
       "_view_module": "@jupyter-widgets/output",
       "_view_module_version": "1.0.0",
       "_view_name": "OutputView",
       "layout": "IPY_MODEL_0ab5d1d6c7fb4e599ecd461fba0bf051",
       "msg_id": "",
       "outputs": [
        {
         "data": {
          "text/markdown": "`approx_cswap_small`",
          "text/plain": "<IPython.core.display.Markdown object>"
         },
         "metadata": {},
         "output_type": "display_data"
        },
        {
         "data": {
          "image/svg+xml": "<svg xmlns=\"http://www.w3.org/2000/svg\" xmlns:xlink=\"http://www.w3.org/1999/xlink\" width=\"223pt\" height=\"152pt\" viewBox=\"0.00 0.00 223.00 152.00\">\n<g id=\"graph0\" class=\"graph\" transform=\"scale(1 1) rotate(0) translate(4 148)\">\n<title>my_graph</title>\n<polygon fill=\"white\" stroke=\"transparent\" points=\"-4,4 -4,-148 219,-148 219,4 -4,4\"/>\n<!-- ctrl_G2 -->\n<g id=\"node1\" class=\"node\">\n<title>ctrl_G2</title>\n<text text-anchor=\"middle\" x=\"27\" y=\"-122.3\" font-family=\"Times,serif\" font-size=\"14.00\">ctrl</text>\n</g>\n<!-- CSwapApprox -->\n<g id=\"node4\" class=\"node\">\n<title>CSwapApprox</title>\n<polygon fill=\"none\" stroke=\"black\" points=\"91.5,-104 91.5,-121 124.5,-121 124.5,-104 91.5,-104\"/>\n<text text-anchor=\"start\" x=\"94.5\" y=\"-110\" font-family=\"Times,serif\" font-size=\"10.00\">~swap</text>\n<polygon fill=\"none\" stroke=\"black\" points=\"91.5,-83 91.5,-104 124.5,-104 124.5,-83 91.5,-83\"/>\n<text text-anchor=\"start\" x=\"98.5\" y=\"-89.8\" font-family=\"Times,serif\" font-size=\"14.00\">ctrl</text>\n<polygon fill=\"none\" stroke=\"black\" points=\"91.5,-62 91.5,-83 124.5,-83 124.5,-62 91.5,-62\"/>\n<text text-anchor=\"start\" x=\"104.5\" y=\"-68.8\" font-family=\"Times,serif\" font-size=\"14.00\">x</text>\n<polygon fill=\"none\" stroke=\"black\" points=\"91.5,-41 91.5,-62 124.5,-62 124.5,-41 91.5,-41\"/>\n<text text-anchor=\"start\" x=\"104.5\" y=\"-47.8\" font-family=\"Times,serif\" font-size=\"14.00\">y</text>\n</g>\n<!-- ctrl_G2&#45;&gt;CSwapApprox -->\n<g id=\"edge1\" class=\"edge\">\n<title>ctrl_G2:e-&gt;CSwapApprox:w</title>\n<path fill=\"none\" stroke=\"black\" d=\"M54,-126C74.89,-126 69.72,-96.45 88.58,-94.14\"/>\n<ellipse fill=\"black\" stroke=\"black\" cx=\"90\" cy=\"-94.06\" rx=\"1\" ry=\"1\"/>\n<text text-anchor=\"middle\" x=\"72.5\" y=\"-113\" font-family=\"Times,serif\" font-size=\"10.00\">1</text>\n</g>\n<!-- x_G5 -->\n<g id=\"node2\" class=\"node\">\n<title>x_G5</title>\n<text text-anchor=\"middle\" x=\"27\" y=\"-68.3\" font-family=\"Times,serif\" font-size=\"14.00\">x</text>\n</g>\n<!-- x_G5&#45;&gt;CSwapApprox -->\n<g id=\"edge2\" class=\"edge\">\n<title>x_G5:e-&gt;CSwapApprox:w</title>\n<path fill=\"none\" stroke=\"black\" d=\"M54,-72C69.67,-72 74.14,-72 88.77,-72\"/>\n<ellipse fill=\"black\" stroke=\"black\" cx=\"90\" cy=\"-72\" rx=\"1\" ry=\"1\"/>\n<text text-anchor=\"middle\" x=\"72.5\" y=\"-75\" font-family=\"Times,serif\" font-size=\"10.00\">4</text>\n</g>\n<!-- y_G7 -->\n<g id=\"node3\" class=\"node\">\n<title>y_G7</title>\n<text text-anchor=\"middle\" x=\"27\" y=\"-14.3\" font-family=\"Times,serif\" font-size=\"14.00\">y</text>\n</g>\n<!-- y_G7&#45;&gt;CSwapApprox -->\n<g id=\"edge3\" class=\"edge\">\n<title>y_G7:e-&gt;CSwapApprox:w</title>\n<path fill=\"none\" stroke=\"black\" d=\"M54,-18C75.17,-18 69.47,-48.47 88.55,-50.85\"/>\n<ellipse fill=\"black\" stroke=\"black\" cx=\"90\" cy=\"-50.94\" rx=\"1\" ry=\"1\"/>\n<text text-anchor=\"middle\" x=\"72.5\" y=\"-39\" font-family=\"Times,serif\" font-size=\"10.00\">4</text>\n</g>\n<!-- ctrl_G0 -->\n<g id=\"node5\" class=\"node\">\n<title>ctrl_G0</title>\n<text text-anchor=\"middle\" x=\"188\" y=\"-122.3\" font-family=\"Times,serif\" font-size=\"14.00\">ctrl</text>\n</g>\n<!-- CSwapApprox&#45;&gt;ctrl_G0 -->\n<g id=\"edge4\" class=\"edge\">\n<title>CSwapApprox:e-&gt;ctrl_G0:w</title>\n<path fill=\"none\" stroke=\"black\" d=\"M124,-94C144.89,-94 139.72,-123.55 158.58,-125.86\"/>\n<ellipse fill=\"black\" stroke=\"black\" cx=\"160\" cy=\"-125.94\" rx=\"1\" ry=\"1\"/>\n<text text-anchor=\"middle\" x=\"142.5\" y=\"-113\" font-family=\"Times,serif\" font-size=\"10.00\">1</text>\n</g>\n<!-- x_G1 -->\n<g id=\"node6\" class=\"node\">\n<title>x_G1</title>\n<text text-anchor=\"middle\" x=\"188\" y=\"-68.3\" font-family=\"Times,serif\" font-size=\"14.00\">x</text>\n</g>\n<!-- CSwapApprox&#45;&gt;x_G1 -->\n<g id=\"edge5\" class=\"edge\">\n<title>CSwapApprox:e-&gt;x_G1:w</title>\n<path fill=\"none\" stroke=\"black\" d=\"M124,-72C139.67,-72 144.14,-72 158.77,-72\"/>\n<ellipse fill=\"black\" stroke=\"black\" cx=\"160\" cy=\"-72\" rx=\"1\" ry=\"1\"/>\n<text text-anchor=\"middle\" x=\"142.5\" y=\"-75\" font-family=\"Times,serif\" font-size=\"10.00\">4</text>\n</g>\n<!-- y_G8 -->\n<g id=\"node7\" class=\"node\">\n<title>y_G8</title>\n<text text-anchor=\"middle\" x=\"188\" y=\"-14.3\" font-family=\"Times,serif\" font-size=\"14.00\">y</text>\n</g>\n<!-- CSwapApprox&#45;&gt;y_G8 -->\n<g id=\"edge6\" class=\"edge\">\n<title>CSwapApprox:e-&gt;y_G8:w</title>\n<path fill=\"none\" stroke=\"black\" d=\"M124,-51C145.17,-51 139.47,-20.53 158.55,-18.15\"/>\n<ellipse fill=\"black\" stroke=\"black\" cx=\"160\" cy=\"-18.06\" rx=\"1\" ry=\"1\"/>\n<text text-anchor=\"middle\" x=\"142.5\" y=\"-39\" font-family=\"Times,serif\" font-size=\"10.00\">4</text>\n</g>\n</g>\n</svg>",
          "text/plain": "<IPython.core.display.SVG object>"
         },
         "metadata": {},
         "output_type": "display_data"
        }
       ],
       "tabbable": null,
       "tooltip": null
      }
     },
     "f8ed27d1c0394c1ca9ea8d2b3492cf73": {
      "model_module": "@jupyter-widgets/base",
      "model_module_version": "2.0.0",
      "model_name": "LayoutModel",
      "state": {
       "_model_module": "@jupyter-widgets/base",
       "_model_module_version": "2.0.0",
       "_model_name": "LayoutModel",
       "_view_count": null,
       "_view_module": "@jupyter-widgets/base",
       "_view_module_version": "2.0.0",
       "_view_name": "LayoutView",
       "align_content": null,
       "align_items": null,
       "align_self": null,
       "border_bottom": null,
       "border_left": null,
       "border_right": null,
       "border_top": null,
       "bottom": null,
       "display": null,
       "flex": null,
       "flex_flow": null,
       "grid_area": null,
       "grid_auto_columns": null,
       "grid_auto_flow": null,
       "grid_auto_rows": null,
       "grid_column": null,
       "grid_gap": null,
       "grid_row": null,
       "grid_template_areas": null,
       "grid_template_columns": null,
       "grid_template_rows": null,
       "height": null,
       "justify_content": null,
       "justify_items": null,
       "left": null,
       "margin": null,
       "max_height": null,
       "max_width": null,
       "min_height": null,
       "min_width": null,
       "object_fit": null,
       "object_position": null,
       "order": null,
       "overflow": null,
       "padding": null,
       "right": null,
       "top": null,
       "visibility": null,
       "width": null
      }
     }
    },
    "version_major": 2,
    "version_minor": 0
   }
  }
 },
 "nbformat": 4,
 "nbformat_minor": 5
}
