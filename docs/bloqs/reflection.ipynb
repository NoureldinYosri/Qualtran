{
 "cells": [
  {
   "cell_type": "markdown",
   "id": "5b66689d",
   "metadata": {
    "cq.autogen": "title_cell"
   },
   "source": [
    "# Reflection\n",
    "\n",
    "Bloq to reflect about zero."
   ]
  },
  {
   "cell_type": "code",
   "execution_count": 1,
   "id": "097bc931",
   "metadata": {
    "cq.autogen": "top_imports"
   },
   "outputs": [],
   "source": [
    "from qualtran import Bloq, CompositeBloq, BloqBuilder, Signature, Register\n",
    "from qualtran import QBit, QInt, QUInt, QAny\n",
    "from qualtran.drawing import show_bloq, show_call_graph, show_counts_sigma\n",
    "from typing import *\n",
    "import numpy as np\n",
    "import sympy\n",
    "import cirq"
   ]
  },
  {
   "cell_type": "markdown",
   "id": "b35713c8",
   "metadata": {
    "cq.autogen": "Reflection.bloq_doc.md"
   },
   "source": [
    "## `Reflection`\n",
    "Perform a reflection about zero: $2|0\\rangle\\langle 0| - 1$\n",
    "\n",
    "This is implemented as a large multi-controlled Z operation. It's convenient\n",
    "for drawing diagrams to hide the decompostion into MultiControlPauli.\n",
    "\n",
    "#### Parameters\n",
    " - `bitsizes`: The bitsizes of each of the registers to reflect about.\n",
    " - `cvs`: The control values for each register.\n"
   ]
  },
  {
   "cell_type": "code",
   "execution_count": 2,
   "id": "6c2dc000",
   "metadata": {
    "cq.autogen": "Reflection.bloq_doc.py"
   },
   "outputs": [],
   "source": [
    "from qualtran.bloqs.reflection import Reflection"
   ]
  },
  {
   "cell_type": "markdown",
   "id": "979faf97",
   "metadata": {
    "cq.autogen": "Reflection.example_instances.md"
   },
   "source": [
    "### Example Instances"
   ]
  },
  {
   "cell_type": "code",
   "execution_count": 3,
   "id": "41963632",
   "metadata": {
    "cq.autogen": "Reflection.reflection"
   },
   "outputs": [],
   "source": [
    "reflection = Reflection(bitsizes=(2, 3, 1), cvs=(0, 1, 1))"
   ]
  },
  {
   "cell_type": "markdown",
   "id": "9e6ebfed",
   "metadata": {
    "cq.autogen": "Reflection.graphical_signature.md"
   },
   "source": [
    "#### Graphical Signature"
   ]
  },
  {
   "cell_type": "code",
   "execution_count": 4,
   "id": "4520fcde",
   "metadata": {
    "cq.autogen": "Reflection.graphical_signature.py"
   },
   "outputs": [
    {
     "data": {
      "application/vnd.jupyter.widget-view+json": {
       "model_id": "dc018e472a2345f2bcadc537a54ec01d",
       "version_major": 2,
       "version_minor": 0
      },
      "text/plain": [
       "HBox(children=(Output(outputs=({'output_type': 'display_data', 'data': {'text/plain': '<IPython.core.display.M…"
      ]
     },
     "metadata": {},
     "output_type": "display_data"
    }
   ],
   "source": [
    "from qualtran.drawing import show_bloqs\n",
    "show_bloqs([reflection],\n",
    "           ['`reflection`'])"
   ]
  },
  {
   "cell_type": "markdown",
   "id": "5d55f206",
   "metadata": {
    "cq.autogen": "Reflection.call_graph.md"
   },
   "source": [
    "### Call Graph"
   ]
  },
  {
   "cell_type": "code",
   "execution_count": 5,
   "id": "8354a455",
   "metadata": {
    "cq.autogen": "Reflection.call_graph.py"
   },
   "outputs": [
    {
     "data": {
      "image/svg+xml": [
       "<svg xmlns=\"http://www.w3.org/2000/svg\" xmlns:xlink=\"http://www.w3.org/1999/xlink\" width=\"223pt\" height=\"131pt\" viewBox=\"0.00 0.00 223.00 131.00\">\n",
       "<g id=\"graph0\" class=\"graph\" transform=\"scale(1 1) rotate(0) translate(4 127)\">\n",
       "<title>counts</title>\n",
       "<polygon fill=\"white\" stroke=\"transparent\" points=\"-4,4 -4,-127 219,-127 219,4 -4,4\"/>\n",
       "<!-- b0 -->\n",
       "<g id=\"node1\" class=\"node\">\n",
       "<title>b0</title>\n",
       "<polygon fill=\"none\" stroke=\"black\" points=\"215,-123 0,-123 0,-87 215,-87 215,-123\"/>\n",
       "<text text-anchor=\"start\" x=\"79\" y=\"-106.8\" font-family=\"Times,serif\" font-size=\"14.00\">Reflection</text>\n",
       "<text text-anchor=\"start\" x=\"8\" y=\"-96\" font-family=\"monospace\" font-size=\"10.00\">bitsizes=(2, 3, 1), cvs=(0, 1, 1)</text>\n",
       "</g>\n",
       "<!-- b1 -->\n",
       "<g id=\"node2\" class=\"node\">\n",
       "<title>b1</title>\n",
       "<polygon fill=\"none\" stroke=\"black\" points=\"135,-36 80,-36 80,0 135,0 135,-36\"/>\n",
       "<text text-anchor=\"start\" x=\"88\" y=\"-14.3\" font-family=\"Times,serif\" font-size=\"14.00\">Toffoli</text>\n",
       "</g>\n",
       "<!-- b0&#45;&gt;b1 -->\n",
       "<g id=\"edge1\" class=\"edge\">\n",
       "<title>b0-&gt;b1</title>\n",
       "<path fill=\"none\" stroke=\"black\" d=\"M107.5,-86.8C107.5,-75.16 107.5,-59.55 107.5,-46.24\"/>\n",
       "<polygon fill=\"black\" stroke=\"black\" points=\"111,-46.18 107.5,-36.18 104,-46.18 111,-46.18\"/>\n",
       "<text text-anchor=\"middle\" x=\"111\" y=\"-57.8\" font-family=\"Times,serif\" font-size=\"14.00\">4</text>\n",
       "</g>\n",
       "</g>\n",
       "</svg>"
      ],
      "text/plain": [
       "<IPython.core.display.SVG object>"
      ]
     },
     "metadata": {},
     "output_type": "display_data"
    },
    {
     "data": {
      "text/markdown": [
       "#### Counts totals:\n",
       " - `Toffoli()`: 4"
      ],
      "text/plain": [
       "<IPython.core.display.Markdown object>"
      ]
     },
     "metadata": {},
     "output_type": "display_data"
    }
   ],
   "source": [
    "from qualtran.resource_counting.generalizers import ignore_split_join\n",
    "reflection_g, reflection_sigma = reflection.call_graph(max_depth=1, generalizer=ignore_split_join)\n",
    "show_call_graph(reflection_g)\n",
    "show_counts_sigma(reflection_sigma)"
   ]
  }
 ],
 "metadata": {
  "kernelspec": {
   "display_name": "Python 3",
   "language": "python",
   "name": "python3"
  },
  "language_info": {
   "codemirror_mode": {
    "name": "ipython",
    "version": 3
   },
   "file_extension": ".py",
   "mimetype": "text/x-python",
   "name": "python",
   "nbconvert_exporter": "python",
   "pygments_lexer": "ipython3",
   "version": "3.11.8"
  },
  "widgets": {
   "application/vnd.jupyter.widget-state+json": {
    "state": {
     "382c487ceea5446f8685f4b4a2390e14": {
      "model_module": "@jupyter-widgets/base",
      "model_module_version": "2.0.0",
      "model_name": "LayoutModel",
      "state": {
       "_model_module": "@jupyter-widgets/base",
       "_model_module_version": "2.0.0",
       "_model_name": "LayoutModel",
       "_view_count": null,
       "_view_module": "@jupyter-widgets/base",
       "_view_module_version": "2.0.0",
       "_view_name": "LayoutView",
       "align_content": null,
       "align_items": null,
       "align_self": null,
       "border_bottom": null,
       "border_left": null,
       "border_right": null,
       "border_top": null,
       "bottom": null,
       "display": null,
       "flex": null,
       "flex_flow": null,
       "grid_area": null,
       "grid_auto_columns": null,
       "grid_auto_flow": null,
       "grid_auto_rows": null,
       "grid_column": null,
       "grid_gap": null,
       "grid_row": null,
       "grid_template_areas": null,
       "grid_template_columns": null,
       "grid_template_rows": null,
       "height": null,
       "justify_content": null,
       "justify_items": null,
       "left": null,
       "margin": null,
       "max_height": null,
       "max_width": null,
       "min_height": null,
       "min_width": null,
       "object_fit": null,
       "object_position": null,
       "order": null,
       "overflow": null,
       "padding": null,
       "right": null,
       "top": null,
       "visibility": null,
       "width": null
      }
     },
     "8643a2c67ed542af80181db13f2cadf1": {
      "model_module": "@jupyter-widgets/base",
      "model_module_version": "2.0.0",
      "model_name": "LayoutModel",
      "state": {
       "_model_module": "@jupyter-widgets/base",
       "_model_module_version": "2.0.0",
       "_model_name": "LayoutModel",
       "_view_count": null,
       "_view_module": "@jupyter-widgets/base",
       "_view_module_version": "2.0.0",
       "_view_name": "LayoutView",
       "align_content": null,
       "align_items": null,
       "align_self": null,
       "border_bottom": null,
       "border_left": null,
       "border_right": null,
       "border_top": null,
       "bottom": null,
       "display": null,
       "flex": null,
       "flex_flow": null,
       "grid_area": null,
       "grid_auto_columns": null,
       "grid_auto_flow": null,
       "grid_auto_rows": null,
       "grid_column": null,
       "grid_gap": null,
       "grid_row": null,
       "grid_template_areas": null,
       "grid_template_columns": null,
       "grid_template_rows": null,
       "height": null,
       "justify_content": null,
       "justify_items": null,
       "left": null,
       "margin": null,
       "max_height": null,
       "max_width": null,
       "min_height": null,
       "min_width": null,
       "object_fit": null,
       "object_position": null,
       "order": null,
       "overflow": null,
       "padding": null,
       "right": null,
       "top": null,
       "visibility": null,
       "width": null
      }
     },
     "daf91b982f0446b0806e73a57afcb233": {
      "model_module": "@jupyter-widgets/output",
      "model_module_version": "1.0.0",
      "model_name": "OutputModel",
      "state": {
       "_dom_classes": [],
       "_model_module": "@jupyter-widgets/output",
       "_model_module_version": "1.0.0",
       "_model_name": "OutputModel",
       "_view_count": null,
       "_view_module": "@jupyter-widgets/output",
       "_view_module_version": "1.0.0",
       "_view_name": "OutputView",
       "layout": "IPY_MODEL_8643a2c67ed542af80181db13f2cadf1",
       "msg_id": "",
       "outputs": [
        {
         "data": {
          "text/markdown": "`reflection`",
          "text/plain": "<IPython.core.display.Markdown object>"
         },
         "metadata": {},
         "output_type": "display_data"
        },
        {
         "data": {
          "image/svg+xml": "<svg xmlns=\"http://www.w3.org/2000/svg\" xmlns:xlink=\"http://www.w3.org/1999/xlink\" width=\"221pt\" height=\"152pt\" viewBox=\"0.00 0.00 221.00 152.00\">\n<g id=\"graph0\" class=\"graph\" transform=\"scale(1 1) rotate(0) translate(4 148)\">\n<title>my_graph</title>\n<polygon fill=\"white\" stroke=\"transparent\" points=\"-4,4 -4,-148 217,-148 217,4 -4,4\"/>\n<!-- reg0_G6 -->\n<g id=\"node1\" class=\"node\">\n<title>reg0_G6</title>\n<text text-anchor=\"middle\" x=\"27\" y=\"-122.3\" font-family=\"Times,serif\" font-size=\"14.00\">reg0</text>\n</g>\n<!-- Reflection -->\n<g id=\"node4\" class=\"node\">\n<title>Reflection</title>\n<polygon fill=\"none\" stroke=\"black\" points=\"91.5,-104 91.5,-121 122.5,-121 122.5,-104 91.5,-104\"/>\n<text text-anchor=\"start\" x=\"98\" y=\"-110\" font-family=\"Times,serif\" font-size=\"10.00\">Refl</text>\n<polygon fill=\"none\" stroke=\"black\" points=\"91.5,-83 91.5,-104 122.5,-104 122.5,-83 91.5,-83\"/>\n<text text-anchor=\"start\" x=\"94.5\" y=\"-89.8\" font-family=\"Times,serif\" font-size=\"14.00\">reg0</text>\n<polygon fill=\"none\" stroke=\"black\" points=\"91.5,-62 91.5,-83 122.5,-83 122.5,-62 91.5,-62\"/>\n<text text-anchor=\"start\" x=\"94.5\" y=\"-68.8\" font-family=\"Times,serif\" font-size=\"14.00\">reg1</text>\n<polygon fill=\"none\" stroke=\"black\" points=\"91.5,-41 91.5,-62 122.5,-62 122.5,-41 91.5,-41\"/>\n<text text-anchor=\"start\" x=\"94.5\" y=\"-47.8\" font-family=\"Times,serif\" font-size=\"14.00\">reg2</text>\n</g>\n<!-- reg0_G6&#45;&gt;Reflection -->\n<g id=\"edge1\" class=\"edge\">\n<title>reg0_G6:e-&gt;Reflection:w</title>\n<path fill=\"none\" stroke=\"black\" d=\"M54,-126C74.89,-126 69.72,-96.45 88.58,-94.14\"/>\n<ellipse fill=\"black\" stroke=\"black\" cx=\"90\" cy=\"-94.06\" rx=\"1\" ry=\"1\"/>\n<text text-anchor=\"middle\" x=\"72.5\" y=\"-113\" font-family=\"Times,serif\" font-size=\"10.00\">2</text>\n</g>\n<!-- reg1_G4 -->\n<g id=\"node2\" class=\"node\">\n<title>reg1_G4</title>\n<text text-anchor=\"middle\" x=\"27\" y=\"-68.3\" font-family=\"Times,serif\" font-size=\"14.00\">reg1</text>\n</g>\n<!-- reg1_G4&#45;&gt;Reflection -->\n<g id=\"edge2\" class=\"edge\">\n<title>reg1_G4:e-&gt;Reflection:w</title>\n<path fill=\"none\" stroke=\"black\" d=\"M54,-72C69.67,-72 74.14,-72 88.77,-72\"/>\n<ellipse fill=\"black\" stroke=\"black\" cx=\"90\" cy=\"-72\" rx=\"1\" ry=\"1\"/>\n<text text-anchor=\"middle\" x=\"72.5\" y=\"-75\" font-family=\"Times,serif\" font-size=\"10.00\">3</text>\n</g>\n<!-- reg2_G5 -->\n<g id=\"node3\" class=\"node\">\n<title>reg2_G5</title>\n<text text-anchor=\"middle\" x=\"27\" y=\"-14.3\" font-family=\"Times,serif\" font-size=\"14.00\">reg2</text>\n</g>\n<!-- reg2_G5&#45;&gt;Reflection -->\n<g id=\"edge3\" class=\"edge\">\n<title>reg2_G5:e-&gt;Reflection:w</title>\n<path fill=\"none\" stroke=\"black\" d=\"M54,-18C75.17,-18 69.47,-48.47 88.55,-50.85\"/>\n<ellipse fill=\"black\" stroke=\"black\" cx=\"90\" cy=\"-50.94\" rx=\"1\" ry=\"1\"/>\n<text text-anchor=\"middle\" x=\"72.5\" y=\"-39\" font-family=\"Times,serif\" font-size=\"10.00\">1</text>\n</g>\n<!-- reg0_G8 -->\n<g id=\"node5\" class=\"node\">\n<title>reg0_G8</title>\n<text text-anchor=\"middle\" x=\"186\" y=\"-122.3\" font-family=\"Times,serif\" font-size=\"14.00\">reg0</text>\n</g>\n<!-- Reflection&#45;&gt;reg0_G8 -->\n<g id=\"edge4\" class=\"edge\">\n<title>Reflection:e-&gt;reg0_G8:w</title>\n<path fill=\"none\" stroke=\"black\" d=\"M122,-94C142.89,-94 137.72,-123.55 156.58,-125.86\"/>\n<ellipse fill=\"black\" stroke=\"black\" cx=\"158\" cy=\"-125.94\" rx=\"1\" ry=\"1\"/>\n<text text-anchor=\"middle\" x=\"140.5\" y=\"-113\" font-family=\"Times,serif\" font-size=\"10.00\">2</text>\n</g>\n<!-- reg1_G7 -->\n<g id=\"node6\" class=\"node\">\n<title>reg1_G7</title>\n<text text-anchor=\"middle\" x=\"186\" y=\"-68.3\" font-family=\"Times,serif\" font-size=\"14.00\">reg1</text>\n</g>\n<!-- Reflection&#45;&gt;reg1_G7 -->\n<g id=\"edge5\" class=\"edge\">\n<title>Reflection:e-&gt;reg1_G7:w</title>\n<path fill=\"none\" stroke=\"black\" d=\"M122,-72C137.67,-72 142.14,-72 156.77,-72\"/>\n<ellipse fill=\"black\" stroke=\"black\" cx=\"158\" cy=\"-72\" rx=\"1\" ry=\"1\"/>\n<text text-anchor=\"middle\" x=\"140.5\" y=\"-75\" font-family=\"Times,serif\" font-size=\"10.00\">3</text>\n</g>\n<!-- reg2_G0 -->\n<g id=\"node7\" class=\"node\">\n<title>reg2_G0</title>\n<text text-anchor=\"middle\" x=\"186\" y=\"-14.3\" font-family=\"Times,serif\" font-size=\"14.00\">reg2</text>\n</g>\n<!-- Reflection&#45;&gt;reg2_G0 -->\n<g id=\"edge6\" class=\"edge\">\n<title>Reflection:e-&gt;reg2_G0:w</title>\n<path fill=\"none\" stroke=\"black\" d=\"M122,-51C143.17,-51 137.47,-20.53 156.55,-18.15\"/>\n<ellipse fill=\"black\" stroke=\"black\" cx=\"158\" cy=\"-18.06\" rx=\"1\" ry=\"1\"/>\n<text text-anchor=\"middle\" x=\"140.5\" y=\"-39\" font-family=\"Times,serif\" font-size=\"10.00\">1</text>\n</g>\n</g>\n</svg>",
          "text/plain": "<IPython.core.display.SVG object>"
         },
         "metadata": {},
         "output_type": "display_data"
        }
       ],
       "tabbable": null,
       "tooltip": null
      }
     },
     "dc018e472a2345f2bcadc537a54ec01d": {
      "model_module": "@jupyter-widgets/controls",
      "model_module_version": "2.0.0",
      "model_name": "HBoxModel",
      "state": {
       "_dom_classes": [],
       "_model_module": "@jupyter-widgets/controls",
       "_model_module_version": "2.0.0",
       "_model_name": "HBoxModel",
       "_view_count": null,
       "_view_module": "@jupyter-widgets/controls",
       "_view_module_version": "2.0.0",
       "_view_name": "HBoxView",
       "box_style": "",
       "children": [
        "IPY_MODEL_daf91b982f0446b0806e73a57afcb233"
       ],
       "layout": "IPY_MODEL_382c487ceea5446f8685f4b4a2390e14",
       "tabbable": null,
       "tooltip": null
      }
     }
    },
    "version_major": 2,
    "version_minor": 0
   }
  }
 },
 "nbformat": 4,
 "nbformat_minor": 5
}
