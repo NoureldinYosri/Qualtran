{
 "cells": [
  {
   "cell_type": "markdown",
   "id": "df592bf2",
   "metadata": {
    "cq.autogen": "title_cell"
   },
   "source": [
    "# Generalized Quantum Signal Processing"
   ]
  },
  {
   "cell_type": "code",
   "execution_count": 1,
   "id": "ebe36f8a",
   "metadata": {
    "cq.autogen": "top_imports"
   },
   "outputs": [],
   "source": [
    "from qualtran import Bloq, CompositeBloq, BloqBuilder, Signature, Register\n",
    "from qualtran import QBit, QInt, QUInt, QAny\n",
    "from qualtran.drawing import show_bloq, show_call_graph, show_counts_sigma\n",
    "from typing import *\n",
    "import numpy as np\n",
    "import sympy\n",
    "import cirq"
   ]
  },
  {
   "cell_type": "markdown",
   "id": "81e6cb9a",
   "metadata": {
    "cq.autogen": "GeneralizedQSP.bloq_doc.md"
   },
   "source": [
    "## `GeneralizedQSP`\n",
    "Applies a QSP polynomial $P$ to a unitary $U$ to obtain a block-encoding of $P(U)$.\n",
    "\n",
    "Given a unitary $U$ and a QSP polynomial $P$ (and its complementary polynomial $Q$),\n",
    "this gate implements the following unitary:\n",
    "\n",
    "$$\n",
    "    \\begin{bmatrix} P(U) & \\cdot \\\\ Q(U) & \\cdot \\end{bmatrix}\n",
    "$$\n",
    "\n",
    "The polynomials $P$ and $Q$ should satisfy:\n",
    "\n",
    "$$\n",
    "    \\left|P(e^{i \\theta})\\right|^2 + \\left|Q(e^{i \\theta})\\right|^2 = 1 ~~\\text{for every}~ \\theta \\in \\mathbb{R}\n",
    "$$\n",
    "\n",
    "The polynomial $P$ is said to be a QSP Polynomial if it satisfies:\n",
    "\n",
    "$$\n",
    "    \\left|P(e^{i \\theta})\\right|^2 \\le 1 ~~\\text{for every}~ \\theta \\in \\mathbb{R}\n",
    "$$\n",
    "\n",
    "If only the QSP polynomial $P$ is known, one can simply call\n",
    "`GeneralizedQSP.from_qsp_polynomial(U, P)` which automatically computes $Q$.\n",
    "\n",
    "### Using Laurent Polynomials\n",
    "To apply GQSP with the transformation given by $P'$\n",
    "\n",
    "$$\n",
    "P(z) = \\sum_{n = -a}^b p_n z^n\n",
    "$$\n",
    "\n",
    "where $a, b \\ge 0$, we can simply invoke GQSP with the standard polynomial $P'(z) = z^a P(z)$\n",
    "which has degree $a + b$, and pass `negative_power=a`.\n",
    "\n",
    "Given complementary QSP polynomials $P', Q'$ and `negative_power=a`,\n",
    "this gate implements the unitary transform:\n",
    "\n",
    "$$\n",
    "    \\begin{bmatrix} U^{-a} P'(U) & \\cdot \\\\ U^{-a} Q'(U) & \\cdot \\end{bmatrix}\n",
    "$$\n",
    "\n",
    "\n",
    "The exact circuit implemented by this gate is described in Figure 2.\n",
    "\n",
    "#### Parameters\n",
    " - `U`: Unitary operation.\n",
    " - `P`: Co-efficients of a complex QSP polynomial.\n",
    " - `Q`: Co-efficients of a complex QSP polynomial.\n",
    " - `negative_power`: value of $k$, which effectively applies $z^{-k} P(z)$. defaults to 0. \n",
    "\n",
    "#### References\n",
    " - [Generalized Quantum Signal Processing](https://arxiv.org/abs/2308.01501). Motlagh and Wiebe. (2023). Theorem 3; Figure 2; Theorem 6.\n"
   ]
  },
  {
   "cell_type": "code",
   "execution_count": 2,
   "id": "24403fec",
   "metadata": {
    "cq.autogen": "GeneralizedQSP.bloq_doc.py"
   },
   "outputs": [],
   "source": [
    "from qualtran.bloqs.qsp.generalized_qsp import GeneralizedQSP"
   ]
  },
  {
   "cell_type": "markdown",
   "id": "bc0f2d78",
   "metadata": {
    "cq.autogen": "GeneralizedQSP.example_instances.md"
   },
   "source": [
    "### Example Instances"
   ]
  },
  {
   "cell_type": "code",
   "execution_count": 3,
   "id": "d7157de4",
   "metadata": {
    "cq.autogen": "GeneralizedQSP.gqsp"
   },
   "outputs": [],
   "source": [
    "from qualtran.bloqs.basic_gates import XPowGate\n",
    "\n",
    "gqsp = GeneralizedQSP.from_qsp_polynomial(XPowGate(), (0.5, 0.5))"
   ]
  },
  {
   "cell_type": "code",
   "execution_count": 4,
   "id": "37d3ea8e",
   "metadata": {
    "cq.autogen": "GeneralizedQSP.gqsp_with_negative_power"
   },
   "outputs": [],
   "source": [
    "from qualtran.bloqs.basic_gates import XPowGate\n",
    "\n",
    "gqsp_with_negative_power = GeneralizedQSP.from_qsp_polynomial(\n",
    "    XPowGate(), (0.5, 0, 0.5), negative_power=1\n",
    ")"
   ]
  },
  {
   "cell_type": "code",
   "execution_count": 5,
   "id": "78724c80",
   "metadata": {
    "cq.autogen": "GeneralizedQSP.gqsp_with_large_negative_power"
   },
   "outputs": [],
   "source": [
    "from qualtran.bloqs.basic_gates import XPowGate\n",
    "\n",
    "gqsp_with_large_negative_power = GeneralizedQSP.from_qsp_polynomial(\n",
    "    XPowGate(), (0.5, 0, 0.5), negative_power=5\n",
    ")"
   ]
  },
  {
   "cell_type": "markdown",
   "id": "74289b97",
   "metadata": {
    "cq.autogen": "GeneralizedQSP.graphical_signature.md"
   },
   "source": [
    "#### Graphical Signature"
   ]
  },
  {
   "cell_type": "code",
   "execution_count": 6,
   "id": "d0a714e6",
   "metadata": {
    "cq.autogen": "GeneralizedQSP.graphical_signature.py"
   },
   "outputs": [
    {
     "data": {
      "application/vnd.jupyter.widget-view+json": {
       "model_id": "8febcfb4b531446088b4c29e9122762c",
       "version_major": 2,
       "version_minor": 0
      },
      "text/plain": [
       "HBox(children=(Output(outputs=({'output_type': 'display_data', 'data': {'text/plain': '<IPython.core.display.M…"
      ]
     },
     "metadata": {},
     "output_type": "display_data"
    }
   ],
   "source": [
    "from qualtran.drawing import show_bloqs\n",
    "show_bloqs([gqsp, gqsp_with_negative_power, gqsp_with_large_negative_power],\n",
    "           ['`gqsp`', '`gqsp_with_negative_power`', '`gqsp_with_large_negative_power`'])"
   ]
  },
  {
   "cell_type": "markdown",
   "id": "cf88a1e6",
   "metadata": {
    "cq.autogen": "GeneralizedQSP.call_graph.md"
   },
   "source": [
    "### Call Graph"
   ]
  },
  {
   "cell_type": "code",
   "execution_count": 7,
   "id": "aaa3e889",
   "metadata": {
    "cq.autogen": "GeneralizedQSP.call_graph.py"
   },
   "outputs": [
    {
     "data": {
      "image/svg+xml": [
       "<svg xmlns=\"http://www.w3.org/2000/svg\" xmlns:xlink=\"http://www.w3.org/1999/xlink\" width=\"714pt\" height=\"131pt\" viewBox=\"0.00 0.00 714.00 131.00\">\n",
       "<g id=\"graph0\" class=\"graph\" transform=\"scale(1 1) rotate(0) translate(4 127)\">\n",
       "<title>counts</title>\n",
       "<polygon fill=\"white\" stroke=\"transparent\" points=\"-4,4 -4,-127 710,-127 710,4 -4,4\"/>\n",
       "<!-- b0 -->\n",
       "<g id=\"node1\" class=\"node\">\n",
       "<title>b0</title>\n",
       "<polygon fill=\"none\" stroke=\"black\" points=\"516,-123 127,-123 127,-87 516,-87 516,-123\"/>\n",
       "<text text-anchor=\"start\" x=\"276\" y=\"-106.8\" font-family=\"Times,serif\" font-size=\"14.00\">GeneralizedQSP</text>\n",
       "<text text-anchor=\"start\" x=\"135\" y=\"-96\" font-family=\"monospace\" font-size=\"10.00\">U=XPowGate ..., P=(0.5, 0.5), Q=(-0.4999 ..., negative_power=0</text>\n",
       "</g>\n",
       "<!-- b1 -->\n",
       "<g id=\"node2\" class=\"node\">\n",
       "<title>b1</title>\n",
       "<polygon fill=\"none\" stroke=\"black\" points=\"281,-36 0,-36 0,0 281,0 281,-36\"/>\n",
       "<text text-anchor=\"start\" x=\"101.5\" y=\"-19.8\" font-family=\"Times,serif\" font-size=\"14.00\">C[XPowGate]</text>\n",
       "<text text-anchor=\"start\" x=\"8\" y=\"-9\" font-family=\"monospace\" font-size=\"10.00\">subbloq=XPowGate ..., ctrl_spec=CtrlSpec ...</text>\n",
       "</g>\n",
       "<!-- b0&#45;&gt;b1 -->\n",
       "<g id=\"edge1\" class=\"edge\">\n",
       "<title>b0-&gt;b1</title>\n",
       "<path fill=\"none\" stroke=\"black\" d=\"M284.87,-86.8C256.32,-73.39 216.52,-54.7 185.94,-40.34\"/>\n",
       "<polygon fill=\"black\" stroke=\"black\" points=\"187.3,-37.11 176.76,-36.03 184.33,-43.45 187.3,-37.11\"/>\n",
       "<text text-anchor=\"middle\" x=\"246\" y=\"-57.8\" font-family=\"Times,serif\" font-size=\"14.00\">1</text>\n",
       "</g>\n",
       "<!-- b2 -->\n",
       "<g id=\"node3\" class=\"node\">\n",
       "<title>b2</title>\n",
       "<polygon fill=\"none\" stroke=\"black\" points=\"706,-36 299,-36 299,0 706,0 706,-36\"/>\n",
       "<text text-anchor=\"start\" x=\"487\" y=\"-19.8\" font-family=\"Times,serif\" font-size=\"14.00\">SU_2</text>\n",
       "<text text-anchor=\"start\" x=\"307\" y=\"-9\" font-family=\"monospace\" font-size=\"10.00\">theta=0.785398 ..., phi=0.0, lambd=0.0, global_shift=0, eps=1e-11</text>\n",
       "</g>\n",
       "<!-- b0&#45;&gt;b2 -->\n",
       "<g id=\"edge2\" class=\"edge\">\n",
       "<title>b0-&gt;b2</title>\n",
       "<path fill=\"none\" stroke=\"black\" d=\"M358.13,-86.8C386.68,-73.39 426.48,-54.7 457.06,-40.34\"/>\n",
       "<polygon fill=\"black\" stroke=\"black\" points=\"458.67,-43.45 466.24,-36.03 455.7,-37.11 458.67,-43.45\"/>\n",
       "<text text-anchor=\"middle\" x=\"427\" y=\"-57.8\" font-family=\"Times,serif\" font-size=\"14.00\">2</text>\n",
       "</g>\n",
       "</g>\n",
       "</svg>"
      ],
      "text/plain": [
       "<IPython.core.display.SVG object>"
      ]
     },
     "metadata": {},
     "output_type": "display_data"
    },
    {
     "data": {
      "text/markdown": [
       "#### Counts totals:\n",
       " - `C[X]`: 1\n",
       " - `SU2RotationGate(theta=0.7853981633974483, phi=0.0, lambd=0.0, global_shift=0, eps=1e-11)`: 2"
      ],
      "text/plain": [
       "<IPython.core.display.Markdown object>"
      ]
     },
     "metadata": {},
     "output_type": "display_data"
    }
   ],
   "source": [
    "from qualtran.resource_counting.generalizers import ignore_split_join\n",
    "gqsp_g, gqsp_sigma = gqsp.call_graph(max_depth=1, generalizer=ignore_split_join)\n",
    "show_call_graph(gqsp_g)\n",
    "show_counts_sigma(gqsp_sigma)"
   ]
  }
 ],
 "metadata": {
  "kernelspec": {
   "display_name": "Python 3",
   "language": "python",
   "name": "python3"
  },
  "language_info": {
   "codemirror_mode": {
    "name": "ipython",
    "version": 3
   },
   "file_extension": ".py",
   "mimetype": "text/x-python",
   "name": "python",
   "nbconvert_exporter": "python",
   "pygments_lexer": "ipython3",
   "version": "3.11.8"
  },
  "widgets": {
   "application/vnd.jupyter.widget-state+json": {
    "state": {
     "26f3f940e31c44139238d5370a1c4e90": {
      "model_module": "@jupyter-widgets/base",
      "model_module_version": "2.0.0",
      "model_name": "LayoutModel",
      "state": {
       "_model_module": "@jupyter-widgets/base",
       "_model_module_version": "2.0.0",
       "_model_name": "LayoutModel",
       "_view_count": null,
       "_view_module": "@jupyter-widgets/base",
       "_view_module_version": "2.0.0",
       "_view_name": "LayoutView",
       "align_content": null,
       "align_items": null,
       "align_self": null,
       "border_bottom": null,
       "border_left": null,
       "border_right": null,
       "border_top": null,
       "bottom": null,
       "display": null,
       "flex": null,
       "flex_flow": null,
       "grid_area": null,
       "grid_auto_columns": null,
       "grid_auto_flow": null,
       "grid_auto_rows": null,
       "grid_column": null,
       "grid_gap": null,
       "grid_row": null,
       "grid_template_areas": null,
       "grid_template_columns": null,
       "grid_template_rows": null,
       "height": null,
       "justify_content": null,
       "justify_items": null,
       "left": null,
       "margin": null,
       "max_height": null,
       "max_width": null,
       "min_height": null,
       "min_width": null,
       "object_fit": null,
       "object_position": null,
       "order": null,
       "overflow": null,
       "padding": null,
       "right": null,
       "top": null,
       "visibility": null,
       "width": null
      }
     },
     "285c9426f66d45c9a4e8b33e1fa08ce1": {
      "model_module": "@jupyter-widgets/output",
      "model_module_version": "1.0.0",
      "model_name": "OutputModel",
      "state": {
       "_dom_classes": [],
       "_model_module": "@jupyter-widgets/output",
       "_model_module_version": "1.0.0",
       "_model_name": "OutputModel",
       "_view_count": null,
       "_view_module": "@jupyter-widgets/output",
       "_view_module_version": "1.0.0",
       "_view_name": "OutputView",
       "layout": "IPY_MODEL_b2738cb7ef7c432a82fff72674ef2fb1",
       "msg_id": "",
       "outputs": [
        {
         "data": {
          "text/markdown": "`gqsp_with_negative_power`",
          "text/plain": "<IPython.core.display.Markdown object>"
         },
         "metadata": {},
         "output_type": "display_data"
        },
        {
         "data": {
          "image/svg+xml": "<svg xmlns=\"http://www.w3.org/2000/svg\" xmlns:xlink=\"http://www.w3.org/1999/xlink\" width=\"236pt\" height=\"98pt\" viewBox=\"0.00 0.00 236.00 98.00\">\n<g id=\"graph0\" class=\"graph\" transform=\"scale(1 1) rotate(0) translate(4 94)\">\n<title>my_graph</title>\n<polygon fill=\"white\" stroke=\"transparent\" points=\"-4,4 -4,-94 232,-94 232,4 -4,4\"/>\n<!-- signal_G5 -->\n<g id=\"node1\" class=\"node\">\n<title>signal_G5</title>\n<text text-anchor=\"middle\" x=\"27\" y=\"-68.3\" font-family=\"Times,serif\" font-size=\"14.00\">signal</text>\n</g>\n<!-- GeneralizedQSP -->\n<g id=\"node3\" class=\"node\">\n<title>GeneralizedQSP</title>\n<polygon fill=\"none\" stroke=\"black\" points=\"91,-66 91,-83 137,-83 137,-66 91,-66\"/>\n<text text-anchor=\"start\" x=\"94\" y=\"-72\" font-family=\"Times,serif\" font-size=\"10.00\">Generali..</text>\n<polygon fill=\"none\" stroke=\"black\" points=\"91,-45 91,-66 137,-66 137,-45 91,-45\"/>\n<text text-anchor=\"start\" x=\"97.5\" y=\"-51.8\" font-family=\"Times,serif\" font-size=\"14.00\">signal</text>\n<polygon fill=\"none\" stroke=\"black\" points=\"91,-24 91,-45 137,-45 137,-24 91,-24\"/>\n<text text-anchor=\"start\" x=\"110.5\" y=\"-30.8\" font-family=\"Times,serif\" font-size=\"14.00\">q</text>\n</g>\n<!-- signal_G5&#45;&gt;GeneralizedQSP -->\n<g id=\"edge1\" class=\"edge\">\n<title>signal_G5:e-&gt;GeneralizedQSP:w</title>\n<path fill=\"none\" stroke=\"black\" d=\"M54,-72C71.22,-72 72.97,-57.23 88.98,-56.07\"/>\n<ellipse fill=\"black\" stroke=\"black\" cx=\"90\" cy=\"-56.04\" rx=\"1\" ry=\"1\"/>\n<text text-anchor=\"middle\" x=\"72.5\" y=\"-67\" font-family=\"Times,serif\" font-size=\"10.00\">1</text>\n</g>\n<!-- q_G1 -->\n<g id=\"node2\" class=\"node\">\n<title>q_G1</title>\n<text text-anchor=\"middle\" x=\"27\" y=\"-14.3\" font-family=\"Times,serif\" font-size=\"14.00\">q</text>\n</g>\n<!-- q_G1&#45;&gt;GeneralizedQSP -->\n<g id=\"edge2\" class=\"edge\">\n<title>q_G1:e-&gt;GeneralizedQSP:w</title>\n<path fill=\"none\" stroke=\"black\" d=\"M54,-18C71.22,-18 72.97,-32.77 88.98,-33.93\"/>\n<ellipse fill=\"black\" stroke=\"black\" cx=\"90\" cy=\"-33.96\" rx=\"1\" ry=\"1\"/>\n<text text-anchor=\"middle\" x=\"72.5\" y=\"-29\" font-family=\"Times,serif\" font-size=\"10.00\">1</text>\n</g>\n<!-- signal_G4 -->\n<g id=\"node4\" class=\"node\">\n<title>signal_G4</title>\n<text text-anchor=\"middle\" x=\"201\" y=\"-68.3\" font-family=\"Times,serif\" font-size=\"14.00\">signal</text>\n</g>\n<!-- GeneralizedQSP&#45;&gt;signal_G4 -->\n<g id=\"edge3\" class=\"edge\">\n<title>GeneralizedQSP:e-&gt;signal_G4:w</title>\n<path fill=\"none\" stroke=\"black\" d=\"M137,-56C154.22,-56 155.97,-70.77 171.98,-71.93\"/>\n<ellipse fill=\"black\" stroke=\"black\" cx=\"173\" cy=\"-71.96\" rx=\"1\" ry=\"1\"/>\n<text text-anchor=\"middle\" x=\"155.5\" y=\"-67\" font-family=\"Times,serif\" font-size=\"10.00\">1</text>\n</g>\n<!-- q_G2 -->\n<g id=\"node5\" class=\"node\">\n<title>q_G2</title>\n<text text-anchor=\"middle\" x=\"201\" y=\"-14.3\" font-family=\"Times,serif\" font-size=\"14.00\">q</text>\n</g>\n<!-- GeneralizedQSP&#45;&gt;q_G2 -->\n<g id=\"edge4\" class=\"edge\">\n<title>GeneralizedQSP:e-&gt;q_G2:w</title>\n<path fill=\"none\" stroke=\"black\" d=\"M137,-34C154.22,-34 155.97,-19.23 171.98,-18.07\"/>\n<ellipse fill=\"black\" stroke=\"black\" cx=\"173\" cy=\"-18.04\" rx=\"1\" ry=\"1\"/>\n<text text-anchor=\"middle\" x=\"155.5\" y=\"-29\" font-family=\"Times,serif\" font-size=\"10.00\">1</text>\n</g>\n</g>\n</svg>",
          "text/plain": "<IPython.core.display.SVG object>"
         },
         "metadata": {},
         "output_type": "display_data"
        }
       ],
       "tabbable": null,
       "tooltip": null
      }
     },
     "8febcfb4b531446088b4c29e9122762c": {
      "model_module": "@jupyter-widgets/controls",
      "model_module_version": "2.0.0",
      "model_name": "HBoxModel",
      "state": {
       "_dom_classes": [],
       "_model_module": "@jupyter-widgets/controls",
       "_model_module_version": "2.0.0",
       "_model_name": "HBoxModel",
       "_view_count": null,
       "_view_module": "@jupyter-widgets/controls",
       "_view_module_version": "2.0.0",
       "_view_name": "HBoxView",
       "box_style": "",
       "children": [
        "IPY_MODEL_efd986b230674611b70edfce465a101a",
        "IPY_MODEL_285c9426f66d45c9a4e8b33e1fa08ce1",
        "IPY_MODEL_fef1c10330a54cbe8685d46e0f93828a"
       ],
       "layout": "IPY_MODEL_ee936505e8ca4fc983a094cf931cd5c1",
       "tabbable": null,
       "tooltip": null
      }
     },
     "b2738cb7ef7c432a82fff72674ef2fb1": {
      "model_module": "@jupyter-widgets/base",
      "model_module_version": "2.0.0",
      "model_name": "LayoutModel",
      "state": {
       "_model_module": "@jupyter-widgets/base",
       "_model_module_version": "2.0.0",
       "_model_name": "LayoutModel",
       "_view_count": null,
       "_view_module": "@jupyter-widgets/base",
       "_view_module_version": "2.0.0",
       "_view_name": "LayoutView",
       "align_content": null,
       "align_items": null,
       "align_self": null,
       "border_bottom": null,
       "border_left": null,
       "border_right": null,
       "border_top": null,
       "bottom": null,
       "display": null,
       "flex": null,
       "flex_flow": null,
       "grid_area": null,
       "grid_auto_columns": null,
       "grid_auto_flow": null,
       "grid_auto_rows": null,
       "grid_column": null,
       "grid_gap": null,
       "grid_row": null,
       "grid_template_areas": null,
       "grid_template_columns": null,
       "grid_template_rows": null,
       "height": null,
       "justify_content": null,
       "justify_items": null,
       "left": null,
       "margin": null,
       "max_height": null,
       "max_width": null,
       "min_height": null,
       "min_width": null,
       "object_fit": null,
       "object_position": null,
       "order": null,
       "overflow": null,
       "padding": null,
       "right": null,
       "top": null,
       "visibility": null,
       "width": null
      }
     },
     "c8a0deb1a8024edcbf026817892b0bdd": {
      "model_module": "@jupyter-widgets/base",
      "model_module_version": "2.0.0",
      "model_name": "LayoutModel",
      "state": {
       "_model_module": "@jupyter-widgets/base",
       "_model_module_version": "2.0.0",
       "_model_name": "LayoutModel",
       "_view_count": null,
       "_view_module": "@jupyter-widgets/base",
       "_view_module_version": "2.0.0",
       "_view_name": "LayoutView",
       "align_content": null,
       "align_items": null,
       "align_self": null,
       "border_bottom": null,
       "border_left": null,
       "border_right": null,
       "border_top": null,
       "bottom": null,
       "display": null,
       "flex": null,
       "flex_flow": null,
       "grid_area": null,
       "grid_auto_columns": null,
       "grid_auto_flow": null,
       "grid_auto_rows": null,
       "grid_column": null,
       "grid_gap": null,
       "grid_row": null,
       "grid_template_areas": null,
       "grid_template_columns": null,
       "grid_template_rows": null,
       "height": null,
       "justify_content": null,
       "justify_items": null,
       "left": null,
       "margin": null,
       "max_height": null,
       "max_width": null,
       "min_height": null,
       "min_width": null,
       "object_fit": null,
       "object_position": null,
       "order": null,
       "overflow": null,
       "padding": null,
       "right": null,
       "top": null,
       "visibility": null,
       "width": null
      }
     },
     "ee936505e8ca4fc983a094cf931cd5c1": {
      "model_module": "@jupyter-widgets/base",
      "model_module_version": "2.0.0",
      "model_name": "LayoutModel",
      "state": {
       "_model_module": "@jupyter-widgets/base",
       "_model_module_version": "2.0.0",
       "_model_name": "LayoutModel",
       "_view_count": null,
       "_view_module": "@jupyter-widgets/base",
       "_view_module_version": "2.0.0",
       "_view_name": "LayoutView",
       "align_content": null,
       "align_items": null,
       "align_self": null,
       "border_bottom": null,
       "border_left": null,
       "border_right": null,
       "border_top": null,
       "bottom": null,
       "display": null,
       "flex": null,
       "flex_flow": null,
       "grid_area": null,
       "grid_auto_columns": null,
       "grid_auto_flow": null,
       "grid_auto_rows": null,
       "grid_column": null,
       "grid_gap": null,
       "grid_row": null,
       "grid_template_areas": null,
       "grid_template_columns": null,
       "grid_template_rows": null,
       "height": null,
       "justify_content": null,
       "justify_items": null,
       "left": null,
       "margin": null,
       "max_height": null,
       "max_width": null,
       "min_height": null,
       "min_width": null,
       "object_fit": null,
       "object_position": null,
       "order": null,
       "overflow": null,
       "padding": null,
       "right": null,
       "top": null,
       "visibility": null,
       "width": null
      }
     },
     "efd986b230674611b70edfce465a101a": {
      "model_module": "@jupyter-widgets/output",
      "model_module_version": "1.0.0",
      "model_name": "OutputModel",
      "state": {
       "_dom_classes": [],
       "_model_module": "@jupyter-widgets/output",
       "_model_module_version": "1.0.0",
       "_model_name": "OutputModel",
       "_view_count": null,
       "_view_module": "@jupyter-widgets/output",
       "_view_module_version": "1.0.0",
       "_view_name": "OutputView",
       "layout": "IPY_MODEL_26f3f940e31c44139238d5370a1c4e90",
       "msg_id": "",
       "outputs": [
        {
         "data": {
          "text/markdown": "`gqsp`",
          "text/plain": "<IPython.core.display.Markdown object>"
         },
         "metadata": {},
         "output_type": "display_data"
        },
        {
         "data": {
          "image/svg+xml": "<svg xmlns=\"http://www.w3.org/2000/svg\" xmlns:xlink=\"http://www.w3.org/1999/xlink\" width=\"236pt\" height=\"98pt\" viewBox=\"0.00 0.00 236.00 98.00\">\n<g id=\"graph0\" class=\"graph\" transform=\"scale(1 1) rotate(0) translate(4 94)\">\n<title>my_graph</title>\n<polygon fill=\"white\" stroke=\"transparent\" points=\"-4,4 -4,-94 232,-94 232,4 -4,4\"/>\n<!-- signal_G5 -->\n<g id=\"node1\" class=\"node\">\n<title>signal_G5</title>\n<text text-anchor=\"middle\" x=\"27\" y=\"-68.3\" font-family=\"Times,serif\" font-size=\"14.00\">signal</text>\n</g>\n<!-- GeneralizedQSP -->\n<g id=\"node3\" class=\"node\">\n<title>GeneralizedQSP</title>\n<polygon fill=\"none\" stroke=\"black\" points=\"91,-66 91,-83 137,-83 137,-66 91,-66\"/>\n<text text-anchor=\"start\" x=\"94\" y=\"-72\" font-family=\"Times,serif\" font-size=\"10.00\">Generali..</text>\n<polygon fill=\"none\" stroke=\"black\" points=\"91,-45 91,-66 137,-66 137,-45 91,-45\"/>\n<text text-anchor=\"start\" x=\"97.5\" y=\"-51.8\" font-family=\"Times,serif\" font-size=\"14.00\">signal</text>\n<polygon fill=\"none\" stroke=\"black\" points=\"91,-24 91,-45 137,-45 137,-24 91,-24\"/>\n<text text-anchor=\"start\" x=\"110.5\" y=\"-30.8\" font-family=\"Times,serif\" font-size=\"14.00\">q</text>\n</g>\n<!-- signal_G5&#45;&gt;GeneralizedQSP -->\n<g id=\"edge1\" class=\"edge\">\n<title>signal_G5:e-&gt;GeneralizedQSP:w</title>\n<path fill=\"none\" stroke=\"black\" d=\"M54,-72C71.22,-72 72.97,-57.23 88.98,-56.07\"/>\n<ellipse fill=\"black\" stroke=\"black\" cx=\"90\" cy=\"-56.04\" rx=\"1\" ry=\"1\"/>\n<text text-anchor=\"middle\" x=\"72.5\" y=\"-67\" font-family=\"Times,serif\" font-size=\"10.00\">1</text>\n</g>\n<!-- q_G1 -->\n<g id=\"node2\" class=\"node\">\n<title>q_G1</title>\n<text text-anchor=\"middle\" x=\"27\" y=\"-14.3\" font-family=\"Times,serif\" font-size=\"14.00\">q</text>\n</g>\n<!-- q_G1&#45;&gt;GeneralizedQSP -->\n<g id=\"edge2\" class=\"edge\">\n<title>q_G1:e-&gt;GeneralizedQSP:w</title>\n<path fill=\"none\" stroke=\"black\" d=\"M54,-18C71.22,-18 72.97,-32.77 88.98,-33.93\"/>\n<ellipse fill=\"black\" stroke=\"black\" cx=\"90\" cy=\"-33.96\" rx=\"1\" ry=\"1\"/>\n<text text-anchor=\"middle\" x=\"72.5\" y=\"-29\" font-family=\"Times,serif\" font-size=\"10.00\">1</text>\n</g>\n<!-- signal_G4 -->\n<g id=\"node4\" class=\"node\">\n<title>signal_G4</title>\n<text text-anchor=\"middle\" x=\"201\" y=\"-68.3\" font-family=\"Times,serif\" font-size=\"14.00\">signal</text>\n</g>\n<!-- GeneralizedQSP&#45;&gt;signal_G4 -->\n<g id=\"edge3\" class=\"edge\">\n<title>GeneralizedQSP:e-&gt;signal_G4:w</title>\n<path fill=\"none\" stroke=\"black\" d=\"M137,-56C154.22,-56 155.97,-70.77 171.98,-71.93\"/>\n<ellipse fill=\"black\" stroke=\"black\" cx=\"173\" cy=\"-71.96\" rx=\"1\" ry=\"1\"/>\n<text text-anchor=\"middle\" x=\"155.5\" y=\"-67\" font-family=\"Times,serif\" font-size=\"10.00\">1</text>\n</g>\n<!-- q_G2 -->\n<g id=\"node5\" class=\"node\">\n<title>q_G2</title>\n<text text-anchor=\"middle\" x=\"201\" y=\"-14.3\" font-family=\"Times,serif\" font-size=\"14.00\">q</text>\n</g>\n<!-- GeneralizedQSP&#45;&gt;q_G2 -->\n<g id=\"edge4\" class=\"edge\">\n<title>GeneralizedQSP:e-&gt;q_G2:w</title>\n<path fill=\"none\" stroke=\"black\" d=\"M137,-34C154.22,-34 155.97,-19.23 171.98,-18.07\"/>\n<ellipse fill=\"black\" stroke=\"black\" cx=\"173\" cy=\"-18.04\" rx=\"1\" ry=\"1\"/>\n<text text-anchor=\"middle\" x=\"155.5\" y=\"-29\" font-family=\"Times,serif\" font-size=\"10.00\">1</text>\n</g>\n</g>\n</svg>",
          "text/plain": "<IPython.core.display.SVG object>"
         },
         "metadata": {},
         "output_type": "display_data"
        }
       ],
       "tabbable": null,
       "tooltip": null
      }
     },
     "fef1c10330a54cbe8685d46e0f93828a": {
      "model_module": "@jupyter-widgets/output",
      "model_module_version": "1.0.0",
      "model_name": "OutputModel",
      "state": {
       "_dom_classes": [],
       "_model_module": "@jupyter-widgets/output",
       "_model_module_version": "1.0.0",
       "_model_name": "OutputModel",
       "_view_count": null,
       "_view_module": "@jupyter-widgets/output",
       "_view_module_version": "1.0.0",
       "_view_name": "OutputView",
       "layout": "IPY_MODEL_c8a0deb1a8024edcbf026817892b0bdd",
       "msg_id": "",
       "outputs": [
        {
         "data": {
          "text/markdown": "`gqsp_with_large_negative_power`",
          "text/plain": "<IPython.core.display.Markdown object>"
         },
         "metadata": {},
         "output_type": "display_data"
        },
        {
         "data": {
          "image/svg+xml": "<svg xmlns=\"http://www.w3.org/2000/svg\" xmlns:xlink=\"http://www.w3.org/1999/xlink\" width=\"236pt\" height=\"98pt\" viewBox=\"0.00 0.00 236.00 98.00\">\n<g id=\"graph0\" class=\"graph\" transform=\"scale(1 1) rotate(0) translate(4 94)\">\n<title>my_graph</title>\n<polygon fill=\"white\" stroke=\"transparent\" points=\"-4,4 -4,-94 232,-94 232,4 -4,4\"/>\n<!-- signal_G4 -->\n<g id=\"node1\" class=\"node\">\n<title>signal_G4</title>\n<text text-anchor=\"middle\" x=\"27\" y=\"-68.3\" font-family=\"Times,serif\" font-size=\"14.00\">signal</text>\n</g>\n<!-- GeneralizedQSP -->\n<g id=\"node3\" class=\"node\">\n<title>GeneralizedQSP</title>\n<polygon fill=\"none\" stroke=\"black\" points=\"91,-66 91,-83 137,-83 137,-66 91,-66\"/>\n<text text-anchor=\"start\" x=\"94\" y=\"-72\" font-family=\"Times,serif\" font-size=\"10.00\">Generali..</text>\n<polygon fill=\"none\" stroke=\"black\" points=\"91,-45 91,-66 137,-66 137,-45 91,-45\"/>\n<text text-anchor=\"start\" x=\"97.5\" y=\"-51.8\" font-family=\"Times,serif\" font-size=\"14.00\">signal</text>\n<polygon fill=\"none\" stroke=\"black\" points=\"91,-24 91,-45 137,-45 137,-24 91,-24\"/>\n<text text-anchor=\"start\" x=\"110.5\" y=\"-30.8\" font-family=\"Times,serif\" font-size=\"14.00\">q</text>\n</g>\n<!-- signal_G4&#45;&gt;GeneralizedQSP -->\n<g id=\"edge1\" class=\"edge\">\n<title>signal_G4:e-&gt;GeneralizedQSP:w</title>\n<path fill=\"none\" stroke=\"black\" d=\"M54,-72C71.22,-72 72.97,-57.23 88.98,-56.07\"/>\n<ellipse fill=\"black\" stroke=\"black\" cx=\"90\" cy=\"-56.04\" rx=\"1\" ry=\"1\"/>\n<text text-anchor=\"middle\" x=\"72.5\" y=\"-67\" font-family=\"Times,serif\" font-size=\"10.00\">1</text>\n</g>\n<!-- q_G0 -->\n<g id=\"node2\" class=\"node\">\n<title>q_G0</title>\n<text text-anchor=\"middle\" x=\"27\" y=\"-14.3\" font-family=\"Times,serif\" font-size=\"14.00\">q</text>\n</g>\n<!-- q_G0&#45;&gt;GeneralizedQSP -->\n<g id=\"edge2\" class=\"edge\">\n<title>q_G0:e-&gt;GeneralizedQSP:w</title>\n<path fill=\"none\" stroke=\"black\" d=\"M54,-18C71.22,-18 72.97,-32.77 88.98,-33.93\"/>\n<ellipse fill=\"black\" stroke=\"black\" cx=\"90\" cy=\"-33.96\" rx=\"1\" ry=\"1\"/>\n<text text-anchor=\"middle\" x=\"72.5\" y=\"-29\" font-family=\"Times,serif\" font-size=\"10.00\">1</text>\n</g>\n<!-- signal_G3 -->\n<g id=\"node4\" class=\"node\">\n<title>signal_G3</title>\n<text text-anchor=\"middle\" x=\"201\" y=\"-68.3\" font-family=\"Times,serif\" font-size=\"14.00\">signal</text>\n</g>\n<!-- GeneralizedQSP&#45;&gt;signal_G3 -->\n<g id=\"edge3\" class=\"edge\">\n<title>GeneralizedQSP:e-&gt;signal_G3:w</title>\n<path fill=\"none\" stroke=\"black\" d=\"M137,-56C154.22,-56 155.97,-70.77 171.98,-71.93\"/>\n<ellipse fill=\"black\" stroke=\"black\" cx=\"173\" cy=\"-71.96\" rx=\"1\" ry=\"1\"/>\n<text text-anchor=\"middle\" x=\"155.5\" y=\"-67\" font-family=\"Times,serif\" font-size=\"10.00\">1</text>\n</g>\n<!-- q_G1 -->\n<g id=\"node5\" class=\"node\">\n<title>q_G1</title>\n<text text-anchor=\"middle\" x=\"201\" y=\"-14.3\" font-family=\"Times,serif\" font-size=\"14.00\">q</text>\n</g>\n<!-- GeneralizedQSP&#45;&gt;q_G1 -->\n<g id=\"edge4\" class=\"edge\">\n<title>GeneralizedQSP:e-&gt;q_G1:w</title>\n<path fill=\"none\" stroke=\"black\" d=\"M137,-34C154.22,-34 155.97,-19.23 171.98,-18.07\"/>\n<ellipse fill=\"black\" stroke=\"black\" cx=\"173\" cy=\"-18.04\" rx=\"1\" ry=\"1\"/>\n<text text-anchor=\"middle\" x=\"155.5\" y=\"-29\" font-family=\"Times,serif\" font-size=\"10.00\">1</text>\n</g>\n</g>\n</svg>",
          "text/plain": "<IPython.core.display.SVG object>"
         },
         "metadata": {},
         "output_type": "display_data"
        }
       ],
       "tabbable": null,
       "tooltip": null
      }
     }
    },
    "version_major": 2,
    "version_minor": 0
   }
  }
 },
 "nbformat": 4,
 "nbformat_minor": 5
}
