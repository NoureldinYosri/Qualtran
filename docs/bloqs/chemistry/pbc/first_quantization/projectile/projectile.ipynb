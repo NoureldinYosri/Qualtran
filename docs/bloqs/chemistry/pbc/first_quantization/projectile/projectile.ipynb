{
 "cells": [
  {
   "cell_type": "markdown",
   "id": "2a72942d",
   "metadata": {
    "cq.autogen": "title_cell"
   },
   "source": [
    "# First Quantized Hamiltonian with Quantum Projectile\n",
    "\n",
    "SELECT and PREPARE for the first quantized chemistry Hamiltonian with a quantum projectile.\n",
    "\n",
    "Here we consider the simulation setup from [Quantum computation of stopping\n",
    "power for inertial fusion target design](https://arxiv.org/abs/2308.12352),\n",
    "which is concerned with the dyamics on a (quantum) projectile traversing a\n",
    "medium, which is modelled using a first quantizated representation. The main\n",
    "modifications are that we need to add the Hamiltonian terms for the projectile\n",
    "and allow for a different (larger) set of momenta for the projectile.\n",
    "\n",
    "Specifically, the modified Hamiltonian is given by\n",
    "\n",
    "$$\n",
    "H = T + U + V + T_\\mathrm{proj} + U_{\\mathrm{proj}} + V_{\\mathrm{elec-proj}},\n",
    "$$\n",
    "where $T$, $U$, and $V$ are the same as they were for the [first quantized\n",
    "Hamiltonian](../first_quantization.ipynb). The new terms are\n",
    "$$\n",
    "T_\\mathrm{proj} =\n",
    "\\sum_{p\\in\\tilde{G}}\n",
    "\\frac{\\lVert k_p - k_\\mathrm{proj}\\rVert^2}{2 M_\\mathrm{proj}}\n",
    "|p\\rangle\\langle p|_\\mathrm{proj},\n",
    "$$\n",
    "which describes the kinetic energy of the projectile in the center of momentum frame,\n",
    "$$\n",
    "U_\\mathrm{proj} = -\\frac{4\\pi}{\\Omega}\n",
    "\\sum_{\\ell=1}^L \\sum_{i}^\\eta\n",
    "\\sum\\limits_{\\substack{{p,q\\in \\tilde{G} \\\\ p\\ne q}}}\n",
    "\\left(\n",
    "    \\zeta_{\\ell}\n",
    "    \\zeta_{\\mathrm{proj}}\n",
    "    \\frac{e^{i k_{q-p}\\cdot R_\\ell}}{\\lVert k_{p-q}\\rVert^2}\n",
    "    |p\\rangle\\langle q|_\\mathrm{proj}\n",
    "\\right),\n",
    "$$\n",
    "which describes the Coulomb interaction of the projectile with the nuclei of the medium, and\n",
    "$$\n",
    "V = -\\frac{4\\pi}{\\Omega}\n",
    "\\sum_{i=1}^\\eta\n",
    "\\sum_{p\\in G}\n",
    "\\sum_{q\\in \\tilde{G}}\n",
    "\\sum\\limits_{\\substack{\\nu \\in G_0 \\\\ (p+\\nu)\\in G \\\\ (q-\\nu)\\in \\tilde{G}}}\n",
    "\\left(\n",
    "    \\frac{\\zeta_\\mathrm{proj}}{\\lVert k_{\\nu}\\rVert^2}\n",
    "    |p + \\nu\\rangle\\langle p|_i\n",
    "    |q -\\nu\\rangle\\langle q|_\\mathrm{proj}\n",
    "\\right),\n",
    "$$\n",
    "which describes the interaction of the projectile with the electrons of the medium.\n",
    "\n",
    "The projectile is represented by a single system register (of size $n_n$ bits),\n",
    "and is initially modelled as a Gaussian wavepacket. The projectile has charge\n",
    "$\\zeta_\\mathrm{proj}$ and mass $M_\\mathrm{proj}$. In practice, to model stopping\n",
    "power a momentum `kick' of $k_\\mathrm{proj}$ is applied at $t=0$ and\n",
    "we monitor how the kinetic energy of the projectile changes with time. Here, we\n",
    "will only concern ourselves with the additional block encoding costs of\n",
    "including this quantum projectile.  Again, state preparation costs are currently\n",
    "ignored as this is logarithmic in the size of the basis set."
   ]
  },
  {
   "cell_type": "code",
   "execution_count": 1,
   "id": "b32ea7ce",
   "metadata": {
    "cq.autogen": "top_imports"
   },
   "outputs": [],
   "source": [
    "from qualtran import Bloq, CompositeBloq, BloqBuilder, Signature, Register\n",
    "from qualtran import QBit, QInt, QUInt, QAny\n",
    "from qualtran.drawing import show_bloq, show_call_graph, show_counts_sigma\n",
    "from typing import *\n",
    "import numpy as np\n",
    "import sympy\n",
    "import cirq"
   ]
  },
  {
   "cell_type": "markdown",
   "id": "68211ddc",
   "metadata": {
    "cq.autogen": "PrepareFirstQuantizationWithProj.bloq_doc.md"
   },
   "source": [
    "## `PrepareFirstQuantizationWithProj`\n",
    "State preparation for the first quantized chemistry Hamiltonian with a quntum projectile.\n",
    "\n",
    "#### Parameters\n",
    " - `num_bits_p`: The number of bits to represent each dimension of the momentum register.\n",
    " - `num_bits_n`: The number of bits to represent each dimension of the momentum register for the projectile. Should be larger than num_bits_p.\n",
    " - `eta`: The number of electrons.\n",
    " - `num_atoms`: The number of atoms. $L$ in the reference.\n",
    " - `lambda_zeta`: sum of nuclear charges.\n",
    " - `m_param`: $\\mathcal{M}$ in the reference.\n",
    " - `num_bits_nuc_pos`: The number of bits of precision for representing the nuclear coordinates.\n",
    " - `num_bits_t`: The number of bits of precision for the state preparation over the register selecting between the different components of the Hamiltonian.\n",
    " - `num_bits_rot_aa`: The number of bits of precision for the rotation for amplitude amplification.\n",
    " - `adjoint`: Whether to dagger the bloq or not. \n",
    "\n",
    "#### Registers\n",
    " - `tuv`: Register for preparing superposition for selecting between kinetic and potential terms in the Hamiltonian.\n",
    " - `tepm`: Register to prepare to select between (e)lectron, (p)rojectile, or (m)ean terms.\n",
    " - `uv`: Register to prepare to select between coulombic terms.\n",
    " - `i`: A register for selecting electronic registers.\n",
    " - `j`: A register for selecting electronic registers.\n",
    " - `w`: A register for selecting x, y and z components of the momentum register.\n",
    " - `r`: A register for controlling elements of the momentum register. Used for block encodiding kinetic energy operator.\n",
    " - `s`: A register for controlling elements of the momentum register. Used for block encodiding kinetic energy operator.\n",
    " - `mu`: A register used for implementing nested boxes for the momentum state preparation.\n",
    " - `nu_x`: x component of the momentum register for Coulomb potential.\n",
    " - `nu_y`: y component of the momentum register for Coulomb potential.\n",
    " - `nu_z`: z component of the momentum register for Coulomb potential.\n",
    " - `m`: an ancilla register in a uniform superposition.\n",
    " - `l`: The register for selecting the nuclei.\n",
    " - `succ_nu`: A flag to indiciate the success of the $\\nu$ state preparation.\n",
    " - `plus_t`: A flag qubit prepared in the $|+\\rangle$ state.\n",
    " - `flags`: A 4 qubit flag register indicating which component of the Hamiltonian to apply. \n",
    "\n",
    "#### References\n",
    " - [Fault-Tolerant Quantum Simulations of Chemistry in First Quantization](     https://arxiv.org/abs/2105.12767)\n"
   ]
  },
  {
   "cell_type": "code",
   "execution_count": 2,
   "id": "56f1a1b0",
   "metadata": {
    "cq.autogen": "PrepareFirstQuantizationWithProj.bloq_doc.py"
   },
   "outputs": [],
   "source": [
    "from qualtran.bloqs.chemistry.pbc.first_quantization.projectile import PrepareFirstQuantizationWithProj"
   ]
  },
  {
   "cell_type": "markdown",
   "id": "eece03d5",
   "metadata": {
    "cq.autogen": "PrepareFirstQuantizationWithProj.example_instances.md"
   },
   "source": [
    "### Example Instances"
   ]
  },
  {
   "cell_type": "code",
   "execution_count": 3,
   "id": "75bde9f1",
   "metadata": {
    "cq.autogen": "PrepareFirstQuantizationWithProj.prep_first_quant"
   },
   "outputs": [],
   "source": [
    "num_bits_p = 6\n",
    "num_bits_n = 8\n",
    "eta = 10\n",
    "num_atoms = 10\n",
    "lambda_zeta = 10\n",
    "prep_first_quant = PrepareFirstQuantizationWithProj(\n",
    "    num_bits_p, num_bits_n, eta, num_atoms, lambda_zeta\n",
    ")\n"
   ]
  },
  {
   "cell_type": "markdown",
   "id": "0e6ca02f",
   "metadata": {
    "cq.autogen": "PrepareFirstQuantizationWithProj.graphical_signature.md"
   },
   "source": [
    "#### Graphical Signature"
   ]
  },
  {
   "cell_type": "code",
   "execution_count": 4,
   "id": "a32be9fa",
   "metadata": {
    "cq.autogen": "PrepareFirstQuantizationWithProj.graphical_signature.py"
   },
   "outputs": [
    {
     "data": {
      "application/vnd.jupyter.widget-view+json": {
       "model_id": "abc685f1e723489780261cd64c9d8589",
       "version_major": 2,
       "version_minor": 0
      },
      "text/plain": [
       "HBox(children=(Output(outputs=({'output_type': 'display_data', 'data': {'text/plain': '<IPython.core.display.M…"
      ]
     },
     "metadata": {},
     "output_type": "display_data"
    }
   ],
   "source": [
    "from qualtran.drawing import show_bloqs\n",
    "show_bloqs([prep_first_quant],\n",
    "           ['`prep_first_quant`'])"
   ]
  },
  {
   "cell_type": "markdown",
   "id": "afa6100f",
   "metadata": {
    "cq.autogen": "PrepareFirstQuantizationWithProj.call_graph.md"
   },
   "source": [
    "### Call Graph"
   ]
  },
  {
   "cell_type": "code",
   "execution_count": 5,
   "id": "67d7715f",
   "metadata": {
    "cq.autogen": "PrepareFirstQuantizationWithProj.call_graph.py"
   },
   "outputs": [
    {
     "data": {
      "image/svg+xml": [
       "<svg xmlns=\"http://www.w3.org/2000/svg\" xmlns:xlink=\"http://www.w3.org/1999/xlink\" width=\"1606pt\" height=\"131pt\" viewBox=\"0.00 0.00 1606.00 131.00\">\n",
       "<g id=\"graph0\" class=\"graph\" transform=\"scale(1 1) rotate(0) translate(4 127)\">\n",
       "<title>counts</title>\n",
       "<polygon fill=\"white\" stroke=\"transparent\" points=\"-4,4 -4,-127 1602,-127 1602,4 -4,4\"/>\n",
       "<!-- b0 -->\n",
       "<g id=\"node1\" class=\"node\">\n",
       "<title>b0</title>\n",
       "<polygon fill=\"none\" stroke=\"black\" points=\"1062,-123 643,-123 643,-87 1062,-87 1062,-123\"/>\n",
       "<text text-anchor=\"start\" x=\"759.5\" y=\"-106.8\" font-family=\"Times,serif\" font-size=\"14.00\">PrepareFirstQuantizationWithProj</text>\n",
       "<text text-anchor=\"start\" x=\"651\" y=\"-96\" font-family=\"monospace\" font-size=\"10.00\">num_bits_p=6, num_bits_n=8, eta=10, num_atoms=10, [6 addtl fields].</text>\n",
       "</g>\n",
       "<!-- b1 -->\n",
       "<g id=\"node2\" class=\"node\">\n",
       "<title>b1</title>\n",
       "<polygon fill=\"none\" stroke=\"black\" points=\"443,-36 0,-36 0,0 443,0 443,-36\"/>\n",
       "<text text-anchor=\"start\" x=\"146.5\" y=\"-19.8\" font-family=\"Times,serif\" font-size=\"14.00\">PrepareTUVSuperpositions</text>\n",
       "<text text-anchor=\"start\" x=\"8\" y=\"-9\" font-family=\"monospace\" font-size=\"10.00\">num_bits_t=16, eta=10, lambda_zeta=10, num_bits_rot_aa=8, adjoint=False</text>\n",
       "</g>\n",
       "<!-- b0&#45;&gt;b1 -->\n",
       "<g id=\"edge1\" class=\"edge\">\n",
       "<title>b0-&gt;b1</title>\n",
       "<path fill=\"none\" stroke=\"black\" d=\"M725.95,-86.95C619.36,-72.59 467.23,-52.1 357.95,-37.38\"/>\n",
       "<polygon fill=\"black\" stroke=\"black\" points=\"358.22,-33.89 347.84,-36.02 357.29,-40.82 358.22,-33.89\"/>\n",
       "<text text-anchor=\"middle\" x=\"579\" y=\"-57.8\" font-family=\"Times,serif\" font-size=\"14.00\">1</text>\n",
       "</g>\n",
       "<!-- b2 -->\n",
       "<g id=\"node3\" class=\"node\">\n",
       "<title>b2</title>\n",
       "<polygon fill=\"none\" stroke=\"black\" points=\"886,-36 461,-36 461,0 886,0 886,-36\"/>\n",
       "<text text-anchor=\"start\" x=\"576.5\" y=\"-19.8\" font-family=\"Times,serif\" font-size=\"14.00\">PrepareTFirstQuantizationWithProj</text>\n",
       "<text text-anchor=\"start\" x=\"469\" y=\"-9\" font-family=\"monospace\" font-size=\"10.00\">num_bits_p=6, num_bits_n=8, eta=10, num_bits_rot_aa=8, adjoint=False</text>\n",
       "</g>\n",
       "<!-- b0&#45;&gt;b2 -->\n",
       "<g id=\"edge2\" class=\"edge\">\n",
       "<title>b0-&gt;b2</title>\n",
       "<path fill=\"none\" stroke=\"black\" d=\"M816.28,-86.8C788.04,-73.39 748.68,-54.7 718.43,-40.34\"/>\n",
       "<polygon fill=\"black\" stroke=\"black\" points=\"719.9,-37.16 709.36,-36.03 716.9,-43.48 719.9,-37.16\"/>\n",
       "<text text-anchor=\"middle\" x=\"778\" y=\"-57.8\" font-family=\"Times,serif\" font-size=\"14.00\">1</text>\n",
       "</g>\n",
       "<!-- b3 -->\n",
       "<g id=\"node4\" class=\"node\">\n",
       "<title>b3</title>\n",
       "<polygon fill=\"none\" stroke=\"black\" points=\"1161,-36 904,-36 904,0 1161,0 1161,-36\"/>\n",
       "<text text-anchor=\"start\" x=\"921\" y=\"-19.8\" font-family=\"Times,serif\" font-size=\"14.00\">UniformSuperpostionIJFirstQuantization</text>\n",
       "<text text-anchor=\"start\" x=\"912\" y=\"-9\" font-family=\"monospace\" font-size=\"10.00\">eta=10, num_bits_rot_aa=8, adjoint=False</text>\n",
       "</g>\n",
       "<!-- b0&#45;&gt;b3 -->\n",
       "<g id=\"edge3\" class=\"edge\">\n",
       "<title>b0-&gt;b3</title>\n",
       "<path fill=\"none\" stroke=\"black\" d=\"M888.93,-86.8C917.32,-73.39 956.9,-54.7 987.31,-40.34\"/>\n",
       "<polygon fill=\"black\" stroke=\"black\" points=\"988.89,-43.47 996.44,-36.03 985.9,-37.14 988.89,-43.47\"/>\n",
       "<text text-anchor=\"middle\" x=\"957\" y=\"-57.8\" font-family=\"Times,serif\" font-size=\"14.00\">1</text>\n",
       "</g>\n",
       "<!-- b4 -->\n",
       "<g id=\"node5\" class=\"node\">\n",
       "<title>b4</title>\n",
       "<polygon fill=\"none\" stroke=\"black\" points=\"1598,-36 1179,-36 1179,0 1598,0 1598,-36\"/>\n",
       "<text text-anchor=\"start\" x=\"1286\" y=\"-19.8\" font-family=\"Times,serif\" font-size=\"14.00\">PrepareUVFirstQuantizationWithProj</text>\n",
       "<text text-anchor=\"start\" x=\"1187\" y=\"-9\" font-family=\"monospace\" font-size=\"10.00\">num_bits_p=6, num_bits_n=8, eta=10, num_atoms=10, [4 addtl fields].</text>\n",
       "</g>\n",
       "<!-- b0&#45;&gt;b4 -->\n",
       "<g id=\"edge4\" class=\"edge\">\n",
       "<title>b0-&gt;b4</title>\n",
       "<path fill=\"none\" stroke=\"black\" d=\"M960,-86.95C1050.08,-72.67 1178.46,-52.31 1271.19,-37.6\"/>\n",
       "<polygon fill=\"black\" stroke=\"black\" points=\"1271.85,-41.04 1281.18,-36.02 1270.75,-34.13 1271.85,-41.04\"/>\n",
       "<text text-anchor=\"middle\" x=\"1157\" y=\"-57.8\" font-family=\"Times,serif\" font-size=\"14.00\">1</text>\n",
       "</g>\n",
       "</g>\n",
       "</svg>"
      ],
      "text/plain": [
       "<IPython.core.display.SVG object>"
      ]
     },
     "metadata": {},
     "output_type": "display_data"
    },
    {
     "data": {
      "text/markdown": [
       "#### Counts totals:\n",
       " - `PrepareTFirstQuantizationWithProj(num_bits_p=6, num_bits_n=8, eta=10, num_bits_rot_aa=8, adjoint=False)`: 1\n",
       " - `PrepareTUVSuperpositions(num_bits_t=16, eta=10, lambda_zeta=10, num_bits_rot_aa=8, adjoint=False)`: 1\n",
       " - `PrepareUVFirstQuantizationWithProj(num_bits_p=6, num_bits_n=8, eta=10, num_atoms=10, m_param=256, lambda_zeta=10, num_bits_nuc_pos=16, adjoint=False)`: 1\n",
       " - `UniformSuperpostionIJFirstQuantization(eta=10, num_bits_rot_aa=8, adjoint=False)`: 1"
      ],
      "text/plain": [
       "<IPython.core.display.Markdown object>"
      ]
     },
     "metadata": {},
     "output_type": "display_data"
    }
   ],
   "source": [
    "from qualtran.resource_counting.generalizers import ignore_split_join\n",
    "prep_first_quant_g, prep_first_quant_sigma = prep_first_quant.call_graph(max_depth=1, generalizer=ignore_split_join)\n",
    "show_call_graph(prep_first_quant_g)\n",
    "show_counts_sigma(prep_first_quant_sigma)"
   ]
  },
  {
   "cell_type": "markdown",
   "id": "d86a0fba",
   "metadata": {
    "cq.autogen": "SelectFirstQuantizationWithProj.bloq_doc.md"
   },
   "source": [
    "## `SelectFirstQuantizationWithProj`\n",
    "SELECT operation for the first quantized chemistry Hamiltonian.\n",
    "\n",
    "#### Parameters\n",
    " - `num_bits_p`: The number of bits to represent each dimension of the momentum register.\n",
    " - `eta`: The number of electrons.\n",
    " - `num_atoms`: The number of atoms. $L$ in the reference.\n",
    " - `lambda_zeta`: sum of nuclear charges.\n",
    " - `m_param`: $\\mathcal{M}$ in the reference.\n",
    " - `num_bits_nuc_pos`: The number of bits of precision for representing the nuclear coordinates.\n",
    " - `num_bits_t`: The number of bits of precision for the state preparation over the register selecting between the different components of the Hamiltonian.\n",
    " - `num_bits_rot_aa`: The number of bits of precision for the rotation for amplitude amplification.\n",
    " - `adjoint`: Whether to dagger the bloq or not. \n",
    "\n",
    "#### Registers\n",
    " - `ham_ctrl`: Control bits flagging which component of the Hamiltonian to apply.\n",
    " - `i_ne_j`: Register flagging $i \\ne j$\n",
    " - `plus_t`: A register prepared in the $|+\\rangle$ state.\n",
    " - `i`: A register for selecting electronic registers.\n",
    " - `j`: A register for selecting electronic registers.\n",
    " - `w`: A register for selecting x, y and z components of the momentum register.\n",
    " - `r`: A register for controlling elements of the momentum register. Used for block encodiding kinetic energy operator.\n",
    " - `s`: A register for controlling elements of the momentum register. Used for block encodiding kinetic energy operator.\n",
    " - `mu`: A register used for implementing nested boxes for the momentum state preparation.\n",
    " - `nu_x`: x component of the momentum register for Coulomb potential.\n",
    " - `nu_y`: y component of the momentum register for Coulomb potential.\n",
    " - `nu_z`: z component of the momentum register for Coulomb potential.\n",
    " - `m`: an ancilla register in a uniform superposition.\n",
    " - `l`: The register for selecting the nuclei.\n",
    " - `sys`: The system register. Will store $\\eta$ registers (x, y and z) components of size num_bits_p.\n",
    " - `proj`: The system register. Will store a single register (x, y and z) components of size num_bits_n. \n",
    "\n",
    "#### References\n",
    " - [Fault-Tolerant Quantum Simulations of Chemistry in First Quantization](     https://arxiv.org/abs/2105.12767)\n"
   ]
  },
  {
   "cell_type": "code",
   "execution_count": 6,
   "id": "55a6aa0e",
   "metadata": {
    "cq.autogen": "SelectFirstQuantizationWithProj.bloq_doc.py"
   },
   "outputs": [],
   "source": [
    "from qualtran.bloqs.chemistry.pbc.first_quantization.projectile import SelectFirstQuantizationWithProj"
   ]
  },
  {
   "cell_type": "markdown",
   "id": "2c249265",
   "metadata": {
    "cq.autogen": "SelectFirstQuantizationWithProj.example_instances.md"
   },
   "source": [
    "### Example Instances"
   ]
  },
  {
   "cell_type": "code",
   "execution_count": 7,
   "id": "d79dbca6",
   "metadata": {
    "cq.autogen": "SelectFirstQuantizationWithProj.sel_first_quant"
   },
   "outputs": [],
   "source": [
    "num_bits_p = 6\n",
    "num_bits_n = 8\n",
    "eta = 10\n",
    "num_atoms = 10\n",
    "lambda_zeta = 10\n",
    "sel_first_quant = SelectFirstQuantizationWithProj(\n",
    "    num_bits_p, num_bits_n, eta, num_atoms, lambda_zeta\n",
    ")\n"
   ]
  },
  {
   "cell_type": "markdown",
   "id": "c788fdf2",
   "metadata": {
    "cq.autogen": "SelectFirstQuantizationWithProj.graphical_signature.md"
   },
   "source": [
    "#### Graphical Signature"
   ]
  },
  {
   "cell_type": "code",
   "execution_count": 8,
   "id": "35871570",
   "metadata": {
    "cq.autogen": "SelectFirstQuantizationWithProj.graphical_signature.py"
   },
   "outputs": [
    {
     "data": {
      "application/vnd.jupyter.widget-view+json": {
       "model_id": "0b6ed97ffffa4e689635a83aad81ff81",
       "version_major": 2,
       "version_minor": 0
      },
      "text/plain": [
       "HBox(children=(Output(outputs=({'output_type': 'display_data', 'data': {'text/plain': '<IPython.core.display.M…"
      ]
     },
     "metadata": {},
     "output_type": "display_data"
    }
   ],
   "source": [
    "from qualtran.drawing import show_bloqs\n",
    "show_bloqs([sel_first_quant],\n",
    "           ['`sel_first_quant`'])"
   ]
  },
  {
   "cell_type": "markdown",
   "id": "e8b4388c",
   "metadata": {
    "cq.autogen": "SelectFirstQuantizationWithProj.call_graph.md"
   },
   "source": [
    "### Call Graph"
   ]
  },
  {
   "cell_type": "code",
   "execution_count": 9,
   "id": "b5dccb93",
   "metadata": {
    "cq.autogen": "SelectFirstQuantizationWithProj.call_graph.py"
   },
   "outputs": [
    {
     "data": {
      "image/svg+xml": [
       "<svg xmlns=\"http://www.w3.org/2000/svg\" xmlns:xlink=\"http://www.w3.org/1999/xlink\" width=\"2063pt\" height=\"131pt\" viewBox=\"0.00 0.00 2063.00 131.00\">\n",
       "<g id=\"graph0\" class=\"graph\" transform=\"scale(1 1) rotate(0) translate(4 127)\">\n",
       "<title>counts</title>\n",
       "<polygon fill=\"white\" stroke=\"transparent\" points=\"-4,4 -4,-127 2059,-127 2059,4 -4,4\"/>\n",
       "<!-- b0 -->\n",
       "<g id=\"node1\" class=\"node\">\n",
       "<title>b0</title>\n",
       "<polygon fill=\"none\" stroke=\"black\" points=\"1395,-123 976,-123 976,-87 1395,-87 1395,-123\"/>\n",
       "<text text-anchor=\"start\" x=\"1096.5\" y=\"-106.8\" font-family=\"Times,serif\" font-size=\"14.00\">SelectFirstQuantizationWithProj</text>\n",
       "<text text-anchor=\"start\" x=\"984\" y=\"-96\" font-family=\"monospace\" font-size=\"10.00\">num_bits_p=6, num_bits_n=8, eta=10, num_atoms=10, [6 addtl fields].</text>\n",
       "</g>\n",
       "<!-- b1 -->\n",
       "<g id=\"node2\" class=\"node\">\n",
       "<title>b1</title>\n",
       "<polygon fill=\"none\" stroke=\"black\" points=\"281,-36 0,-36 0,0 281,0 281,-36\"/>\n",
       "<text text-anchor=\"start\" x=\"50\" y=\"-19.8\" font-family=\"Times,serif\" font-size=\"14.00\">ControlledMultiplexedCSwap3D</text>\n",
       "<text text-anchor=\"start\" x=\"8\" y=\"-9\" font-family=\"monospace\" font-size=\"10.00\">num_bits_p=6, num_bits_n=8, eta=10, cvs=(0,)</text>\n",
       "</g>\n",
       "<!-- b0&#45;&gt;b1 -->\n",
       "<g id=\"edge1\" class=\"edge\">\n",
       "<title>b0-&gt;b1</title>\n",
       "<path fill=\"none\" stroke=\"black\" d=\"M975.78,-95.33C855.56,-89.57 701.9,-80.86 565.5,-69 469.13,-60.62 360.84,-47.83 277.7,-37.28\"/>\n",
       "<polygon fill=\"black\" stroke=\"black\" points=\"278.05,-33.8 267.68,-36.01 277.16,-40.74 278.05,-33.8\"/>\n",
       "<text text-anchor=\"middle\" x=\"569\" y=\"-57.8\" font-family=\"Times,serif\" font-size=\"14.00\">2</text>\n",
       "</g>\n",
       "<!-- b2 -->\n",
       "<g id=\"node3\" class=\"node\">\n",
       "<title>b2</title>\n",
       "<polygon fill=\"none\" stroke=\"black\" points=\"424,-36 299,-36 299,0 424,0 424,-36\"/>\n",
       "<text text-anchor=\"start\" x=\"338.5\" y=\"-19.8\" font-family=\"Times,serif\" font-size=\"14.00\">Allocate</text>\n",
       "<text text-anchor=\"start\" x=\"307\" y=\"-9\" font-family=\"monospace\" font-size=\"10.00\">dtype=QAny(bit ...</text>\n",
       "</g>\n",
       "<!-- b0&#45;&gt;b2 -->\n",
       "<g id=\"edge2\" class=\"edge\">\n",
       "<title>b0-&gt;b2</title>\n",
       "<path fill=\"none\" stroke=\"black\" d=\"M975.92,-93.24C826.94,-83.65 622.16,-66.51 434.19,-36.16\"/>\n",
       "<polygon fill=\"black\" stroke=\"black\" points=\"434.55,-32.67 424.12,-34.51 433.43,-39.58 434.55,-32.67\"/>\n",
       "<text text-anchor=\"middle\" x=\"684\" y=\"-57.8\" font-family=\"Times,serif\" font-size=\"14.00\">3</text>\n",
       "</g>\n",
       "<!-- b3 -->\n",
       "<g id=\"node4\" class=\"node\">\n",
       "<title>b3</title>\n",
       "<polygon fill=\"none\" stroke=\"black\" points=\"873,-36 442,-36 442,0 873,0 873,-36\"/>\n",
       "<text text-anchor=\"start\" x=\"559\" y=\"-19.8\" font-family=\"Times,serif\" font-size=\"14.00\">SelectUVFirstQuantizationWithProj</text>\n",
       "<text text-anchor=\"start\" x=\"450\" y=\"-9\" font-family=\"monospace\" font-size=\"10.00\">num_bits_p=6, num_bits_n=8, eta=10, num_atoms=10, num_bits_nuc_pos=16</text>\n",
       "</g>\n",
       "<!-- b0&#45;&gt;b3 -->\n",
       "<g id=\"edge3\" class=\"edge\">\n",
       "<title>b0-&gt;b3</title>\n",
       "<path fill=\"none\" stroke=\"black\" d=\"M1079.6,-86.95C990.96,-72.68 864.66,-52.35 773.34,-37.65\"/>\n",
       "<polygon fill=\"black\" stroke=\"black\" points=\"773.65,-34.15 763.22,-36.02 772.54,-41.06 773.65,-34.15\"/>\n",
       "<text text-anchor=\"middle\" x=\"957\" y=\"-57.8\" font-family=\"Times,serif\" font-size=\"14.00\">1</text>\n",
       "</g>\n",
       "<!-- b4 -->\n",
       "<g id=\"node5\" class=\"node\">\n",
       "<title>b4</title>\n",
       "<polygon fill=\"none\" stroke=\"black\" points=\"962,-36 891,-36 891,0 962,0 962,-36\"/>\n",
       "<text text-anchor=\"start\" x=\"906.5\" y=\"-19.8\" font-family=\"Times,serif\" font-size=\"14.00\">CSwap</text>\n",
       "<text text-anchor=\"start\" x=\"899\" y=\"-9\" font-family=\"monospace\" font-size=\"10.00\">bitsize=8</text>\n",
       "</g>\n",
       "<!-- b0&#45;&gt;b4 -->\n",
       "<g id=\"edge4\" class=\"edge\">\n",
       "<title>b0-&gt;b4</title>\n",
       "<path fill=\"none\" stroke=\"black\" d=\"M1128.14,-86.92C1086.94,-74.41 1029.91,-56.6 972.11,-36.48\"/>\n",
       "<polygon fill=\"black\" stroke=\"black\" points=\"973.05,-33.1 962.45,-33.1 970.73,-39.71 973.05,-33.1\"/>\n",
       "<text text-anchor=\"middle\" x=\"1074\" y=\"-57.8\" font-family=\"Times,serif\" font-size=\"14.00\">6</text>\n",
       "</g>\n",
       "<!-- b5 -->\n",
       "<g id=\"node6\" class=\"node\">\n",
       "<title>b5</title>\n",
       "<polygon fill=\"none\" stroke=\"black\" points=\"1105,-36 980,-36 980,0 1105,0 1105,-36\"/>\n",
       "<text text-anchor=\"start\" x=\"1019.5\" y=\"-19.8\" font-family=\"Times,serif\" font-size=\"14.00\">Allocate</text>\n",
       "<text text-anchor=\"start\" x=\"988\" y=\"-9\" font-family=\"monospace\" font-size=\"10.00\">dtype=QAny(bit ...</text>\n",
       "</g>\n",
       "<!-- b0&#45;&gt;b5 -->\n",
       "<g id=\"edge5\" class=\"edge\">\n",
       "<title>b0-&gt;b5</title>\n",
       "<path fill=\"none\" stroke=\"black\" d=\"M1156.56,-86.8C1134.56,-73.72 1104.11,-55.62 1080.21,-41.41\"/>\n",
       "<polygon fill=\"black\" stroke=\"black\" points=\"1081.78,-38.28 1071.4,-36.18 1078.2,-44.29 1081.78,-38.28\"/>\n",
       "<text text-anchor=\"middle\" x=\"1127\" y=\"-57.8\" font-family=\"Times,serif\" font-size=\"14.00\">1</text>\n",
       "</g>\n",
       "<!-- b6 -->\n",
       "<g id=\"node7\" class=\"node\">\n",
       "<title>b6</title>\n",
       "<polygon fill=\"none\" stroke=\"black\" points=\"1248,-36 1123,-36 1123,0 1248,0 1248,-36\"/>\n",
       "<text text-anchor=\"start\" x=\"1162.5\" y=\"-19.8\" font-family=\"Times,serif\" font-size=\"14.00\">Allocate</text>\n",
       "<text text-anchor=\"start\" x=\"1131\" y=\"-9\" font-family=\"monospace\" font-size=\"10.00\">dtype=QAny(bit ...</text>\n",
       "</g>\n",
       "<!-- b0&#45;&gt;b6 -->\n",
       "<g id=\"edge6\" class=\"edge\">\n",
       "<title>b0-&gt;b6</title>\n",
       "<path fill=\"none\" stroke=\"black\" d=\"M1185.5,-86.8C1185.5,-75.16 1185.5,-59.55 1185.5,-46.24\"/>\n",
       "<polygon fill=\"black\" stroke=\"black\" points=\"1189,-46.18 1185.5,-36.18 1182,-46.18 1189,-46.18\"/>\n",
       "<text text-anchor=\"middle\" x=\"1189\" y=\"-57.8\" font-family=\"Times,serif\" font-size=\"14.00\">3</text>\n",
       "</g>\n",
       "<!-- b7 -->\n",
       "<g id=\"node8\" class=\"node\">\n",
       "<title>b7</title>\n",
       "<polygon fill=\"none\" stroke=\"black\" points=\"1405,-36 1266,-36 1266,0 1405,0 1405,-36\"/>\n",
       "<text text-anchor=\"start\" x=\"1274\" y=\"-19.8\" font-family=\"Times,serif\" font-size=\"14.00\">MultiplexedCSwap3D</text>\n",
       "<text text-anchor=\"start\" x=\"1275\" y=\"-9\" font-family=\"monospace\" font-size=\"10.00\">num_bits_p=6, eta=10</text>\n",
       "</g>\n",
       "<!-- b0&#45;&gt;b7 -->\n",
       "<g id=\"edge7\" class=\"edge\">\n",
       "<title>b0-&gt;b7</title>\n",
       "<path fill=\"none\" stroke=\"black\" d=\"M1215.85,-86.8C1239.11,-73.62 1271.37,-55.34 1296.53,-41.08\"/>\n",
       "<polygon fill=\"black\" stroke=\"black\" points=\"1298.47,-44.01 1305.45,-36.03 1295.02,-37.92 1298.47,-44.01\"/>\n",
       "<text text-anchor=\"middle\" x=\"1273\" y=\"-57.8\" font-family=\"Times,serif\" font-size=\"14.00\">2</text>\n",
       "</g>\n",
       "<!-- b8 -->\n",
       "<g id=\"node9\" class=\"node\">\n",
       "<title>b8</title>\n",
       "<polygon fill=\"none\" stroke=\"black\" points=\"1548,-36 1423,-36 1423,0 1548,0 1548,-36\"/>\n",
       "<text text-anchor=\"start\" x=\"1473\" y=\"-19.8\" font-family=\"Times,serif\" font-size=\"14.00\">Free</text>\n",
       "<text text-anchor=\"start\" x=\"1431\" y=\"-9\" font-family=\"monospace\" font-size=\"10.00\">dtype=QAny(bit ...</text>\n",
       "</g>\n",
       "<!-- b0&#45;&gt;b8 -->\n",
       "<g id=\"edge8\" class=\"edge\">\n",
       "<title>b0-&gt;b8</title>\n",
       "<path fill=\"none\" stroke=\"black\" d=\"M1245.85,-86.9C1294.88,-73.01 1364.08,-53.4 1415.53,-38.82\"/>\n",
       "<polygon fill=\"black\" stroke=\"black\" points=\"1416.58,-42.16 1425.25,-36.07 1414.67,-35.43 1416.58,-42.16\"/>\n",
       "<text text-anchor=\"middle\" x=\"1357\" y=\"-57.8\" font-family=\"Times,serif\" font-size=\"14.00\">3</text>\n",
       "</g>\n",
       "<!-- b9 -->\n",
       "<g id=\"node10\" class=\"node\">\n",
       "<title>b9</title>\n",
       "<polygon fill=\"none\" stroke=\"black\" points=\"1768.5,-36 1566.5,-36 1566.5,0 1768.5,0 1768.5,-36\"/>\n",
       "<text text-anchor=\"start\" x=\"1574.5\" y=\"-19.8\" font-family=\"Times,serif\" font-size=\"14.00\">SelectTFirstQuantizationWithProj</text>\n",
       "<text text-anchor=\"start\" x=\"1607\" y=\"-9\" font-family=\"monospace\" font-size=\"10.00\">num_bits_n=8, eta=10</text>\n",
       "</g>\n",
       "<!-- b0&#45;&gt;b9 -->\n",
       "<g id=\"edge9\" class=\"edge\">\n",
       "<title>b0-&gt;b9</title>\n",
       "<path fill=\"none\" stroke=\"black\" d=\"M1282.17,-86.95C1362.85,-72.73 1477.69,-52.47 1560.99,-37.78\"/>\n",
       "<polygon fill=\"black\" stroke=\"black\" points=\"1561.75,-41.2 1570.99,-36.02 1560.53,-34.31 1561.75,-41.2\"/>\n",
       "<text text-anchor=\"middle\" x=\"1459\" y=\"-57.8\" font-family=\"Times,serif\" font-size=\"14.00\">1</text>\n",
       "</g>\n",
       "<!-- b10 -->\n",
       "<g id=\"node11\" class=\"node\">\n",
       "<title>b10</title>\n",
       "<polygon fill=\"none\" stroke=\"black\" points=\"1912,-36 1787,-36 1787,0 1912,0 1912,-36\"/>\n",
       "<text text-anchor=\"start\" x=\"1837\" y=\"-19.8\" font-family=\"Times,serif\" font-size=\"14.00\">Free</text>\n",
       "<text text-anchor=\"start\" x=\"1795\" y=\"-9\" font-family=\"monospace\" font-size=\"10.00\">dtype=QAny(bit ...</text>\n",
       "</g>\n",
       "<!-- b0&#45;&gt;b10 -->\n",
       "<g id=\"edge10\" class=\"edge\">\n",
       "<title>b0-&gt;b10</title>\n",
       "<path fill=\"none\" stroke=\"black\" d=\"M1385.02,-86.97C1497.4,-75.95 1640.39,-59.55 1776.55,-36.05\"/>\n",
       "<polygon fill=\"black\" stroke=\"black\" points=\"1777.51,-39.43 1786.76,-34.27 1776.31,-32.54 1777.51,-39.43\"/>\n",
       "<text text-anchor=\"middle\" x=\"1653\" y=\"-57.8\" font-family=\"Times,serif\" font-size=\"14.00\">3</text>\n",
       "</g>\n",
       "<!-- b11 -->\n",
       "<g id=\"node12\" class=\"node\">\n",
       "<title>b11</title>\n",
       "<polygon fill=\"none\" stroke=\"black\" points=\"2055,-36 1930,-36 1930,0 2055,0 2055,-36\"/>\n",
       "<text text-anchor=\"start\" x=\"1980\" y=\"-19.8\" font-family=\"Times,serif\" font-size=\"14.00\">Free</text>\n",
       "<text text-anchor=\"start\" x=\"1938\" y=\"-9\" font-family=\"monospace\" font-size=\"10.00\">dtype=QAny(bit ...</text>\n",
       "</g>\n",
       "<!-- b0&#45;&gt;b11 -->\n",
       "<g id=\"edge11\" class=\"edge\">\n",
       "<title>b0-&gt;b11</title>\n",
       "<path fill=\"none\" stroke=\"black\" d=\"M1395.11,-94.3C1540.2,-85.27 1737.62,-68.41 1919.72,-36.03\"/>\n",
       "<polygon fill=\"black\" stroke=\"black\" points=\"1920.53,-39.44 1929.75,-34.23 1919.29,-32.55 1920.53,-39.44\"/>\n",
       "<text text-anchor=\"middle\" x=\"1805\" y=\"-57.8\" font-family=\"Times,serif\" font-size=\"14.00\">1</text>\n",
       "</g>\n",
       "</g>\n",
       "</svg>"
      ],
      "text/plain": [
       "<IPython.core.display.SVG object>"
      ]
     },
     "metadata": {},
     "output_type": "display_data"
    },
    {
     "data": {
      "text/markdown": [
       "#### Counts totals:\n",
       " - `Allocate(dtype=QAny(bitsize=16))`: 1\n",
       " - `Allocate(dtype=QAny(bitsize=6))`: 3\n",
       " - `Allocate(dtype=QAny(bitsize=8))`: 3\n",
       " - `CSwap(bitsize=8)`: 6\n",
       " - `ControlledMultiplexedCSwap3D(num_bits_p=6, num_bits_n=8, eta=10, cvs=(0,))`: 2\n",
       " - `Free(dtype=QAny(bitsize=16))`: 1\n",
       " - `Free(dtype=QAny(bitsize=6))`: 3\n",
       " - `Free(dtype=QAny(bitsize=8))`: 3\n",
       " - `MultiplexedCSwap3D(num_bits_p=6, eta=10)`: 2\n",
       " - `SelectTFirstQuantizationWithProj(num_bits_n=8, eta=10)`: 1\n",
       " - `SelectUVFirstQuantizationWithProj(num_bits_p=6, num_bits_n=8, eta=10, num_atoms=10, num_bits_nuc_pos=16)`: 1"
      ],
      "text/plain": [
       "<IPython.core.display.Markdown object>"
      ]
     },
     "metadata": {},
     "output_type": "display_data"
    }
   ],
   "source": [
    "from qualtran.resource_counting.generalizers import ignore_split_join\n",
    "sel_first_quant_g, sel_first_quant_sigma = sel_first_quant.call_graph(max_depth=1, generalizer=ignore_split_join)\n",
    "show_call_graph(sel_first_quant_g)\n",
    "show_counts_sigma(sel_first_quant_sigma)"
   ]
  }
 ],
 "metadata": {
  "kernelspec": {
   "display_name": "Python 3 (ipykernel)",
   "language": "python",
   "name": "python3"
  },
  "language_info": {
   "codemirror_mode": {
    "name": "ipython",
    "version": 3
   },
   "file_extension": ".py",
   "mimetype": "text/x-python",
   "name": "python",
   "nbconvert_exporter": "python",
   "pygments_lexer": "ipython3",
   "version": "3.11.8"
  },
  "widgets": {
   "application/vnd.jupyter.widget-state+json": {
    "state": {
     "0b6ed97ffffa4e689635a83aad81ff81": {
      "model_module": "@jupyter-widgets/controls",
      "model_module_version": "2.0.0",
      "model_name": "HBoxModel",
      "state": {
       "_dom_classes": [],
       "_model_module": "@jupyter-widgets/controls",
       "_model_module_version": "2.0.0",
       "_model_name": "HBoxModel",
       "_view_count": null,
       "_view_module": "@jupyter-widgets/controls",
       "_view_module_version": "2.0.0",
       "_view_name": "HBoxView",
       "box_style": "",
       "children": [
        "IPY_MODEL_e094a1b33c78441dae5c7a3d900ed471"
       ],
       "layout": "IPY_MODEL_6e793def33ac4bfe80514479ef682619",
       "tabbable": null,
       "tooltip": null
      }
     },
     "2cf48cef9ad94d889bf20e0d7597ca85": {
      "model_module": "@jupyter-widgets/base",
      "model_module_version": "2.0.0",
      "model_name": "LayoutModel",
      "state": {
       "_model_module": "@jupyter-widgets/base",
       "_model_module_version": "2.0.0",
       "_model_name": "LayoutModel",
       "_view_count": null,
       "_view_module": "@jupyter-widgets/base",
       "_view_module_version": "2.0.0",
       "_view_name": "LayoutView",
       "align_content": null,
       "align_items": null,
       "align_self": null,
       "border_bottom": null,
       "border_left": null,
       "border_right": null,
       "border_top": null,
       "bottom": null,
       "display": null,
       "flex": null,
       "flex_flow": null,
       "grid_area": null,
       "grid_auto_columns": null,
       "grid_auto_flow": null,
       "grid_auto_rows": null,
       "grid_column": null,
       "grid_gap": null,
       "grid_row": null,
       "grid_template_areas": null,
       "grid_template_columns": null,
       "grid_template_rows": null,
       "height": null,
       "justify_content": null,
       "justify_items": null,
       "left": null,
       "margin": null,
       "max_height": null,
       "max_width": null,
       "min_height": null,
       "min_width": null,
       "object_fit": null,
       "object_position": null,
       "order": null,
       "overflow": null,
       "padding": null,
       "right": null,
       "top": null,
       "visibility": null,
       "width": null
      }
     },
     "34fe232834f94db4af5f2aaae3bd4896": {
      "model_module": "@jupyter-widgets/base",
      "model_module_version": "2.0.0",
      "model_name": "LayoutModel",
      "state": {
       "_model_module": "@jupyter-widgets/base",
       "_model_module_version": "2.0.0",
       "_model_name": "LayoutModel",
       "_view_count": null,
       "_view_module": "@jupyter-widgets/base",
       "_view_module_version": "2.0.0",
       "_view_name": "LayoutView",
       "align_content": null,
       "align_items": null,
       "align_self": null,
       "border_bottom": null,
       "border_left": null,
       "border_right": null,
       "border_top": null,
       "bottom": null,
       "display": null,
       "flex": null,
       "flex_flow": null,
       "grid_area": null,
       "grid_auto_columns": null,
       "grid_auto_flow": null,
       "grid_auto_rows": null,
       "grid_column": null,
       "grid_gap": null,
       "grid_row": null,
       "grid_template_areas": null,
       "grid_template_columns": null,
       "grid_template_rows": null,
       "height": null,
       "justify_content": null,
       "justify_items": null,
       "left": null,
       "margin": null,
       "max_height": null,
       "max_width": null,
       "min_height": null,
       "min_width": null,
       "object_fit": null,
       "object_position": null,
       "order": null,
       "overflow": null,
       "padding": null,
       "right": null,
       "top": null,
       "visibility": null,
       "width": null
      }
     },
     "4049a48c7ef84b068ee8e847fdd9729a": {
      "model_module": "@jupyter-widgets/base",
      "model_module_version": "2.0.0",
      "model_name": "LayoutModel",
      "state": {
       "_model_module": "@jupyter-widgets/base",
       "_model_module_version": "2.0.0",
       "_model_name": "LayoutModel",
       "_view_count": null,
       "_view_module": "@jupyter-widgets/base",
       "_view_module_version": "2.0.0",
       "_view_name": "LayoutView",
       "align_content": null,
       "align_items": null,
       "align_self": null,
       "border_bottom": null,
       "border_left": null,
       "border_right": null,
       "border_top": null,
       "bottom": null,
       "display": null,
       "flex": null,
       "flex_flow": null,
       "grid_area": null,
       "grid_auto_columns": null,
       "grid_auto_flow": null,
       "grid_auto_rows": null,
       "grid_column": null,
       "grid_gap": null,
       "grid_row": null,
       "grid_template_areas": null,
       "grid_template_columns": null,
       "grid_template_rows": null,
       "height": null,
       "justify_content": null,
       "justify_items": null,
       "left": null,
       "margin": null,
       "max_height": null,
       "max_width": null,
       "min_height": null,
       "min_width": null,
       "object_fit": null,
       "object_position": null,
       "order": null,
       "overflow": null,
       "padding": null,
       "right": null,
       "top": null,
       "visibility": null,
       "width": null
      }
     },
     "56c4b38a644b4643b0d8474b8e91a63c": {
      "model_module": "@jupyter-widgets/output",
      "model_module_version": "1.0.0",
      "model_name": "OutputModel",
      "state": {
       "_dom_classes": [],
       "_model_module": "@jupyter-widgets/output",
       "_model_module_version": "1.0.0",
       "_model_name": "OutputModel",
       "_view_count": null,
       "_view_module": "@jupyter-widgets/output",
       "_view_module_version": "1.0.0",
       "_view_name": "OutputView",
       "layout": "IPY_MODEL_2cf48cef9ad94d889bf20e0d7597ca85",
       "msg_id": "",
       "outputs": [
        {
         "data": {
          "text/markdown": "`prep_first_quant`",
          "text/plain": "<IPython.core.display.Markdown object>"
         },
         "metadata": {},
         "output_type": "display_data"
        },
        {
         "data": {
          "image/svg+xml": "<svg xmlns=\"http://www.w3.org/2000/svg\" xmlns:xlink=\"http://www.w3.org/1999/xlink\" width=\"263pt\" height=\"1124pt\" viewBox=\"0.00 0.00 263.00 1124.00\">\n<g id=\"graph0\" class=\"graph\" transform=\"scale(1 1) rotate(0) translate(4 1120)\">\n<title>my_graph</title>\n<polygon fill=\"white\" stroke=\"transparent\" points=\"-4,4 -4,-1120 259,-1120 259,4 -4,4\"/>\n<!-- tuv_G20 -->\n<g id=\"node1\" class=\"node\">\n<title>tuv_G20</title>\n<text text-anchor=\"middle\" x=\"31.5\" y=\"-1029.3\" font-family=\"Times,serif\" font-size=\"14.00\">tuv</text>\n</g>\n<!-- PrepareFirstQuantizationWithProj -->\n<g id=\"node18\" class=\"node\">\n<title>PrepareFirstQuantizationWithProj</title>\n<polygon fill=\"none\" stroke=\"black\" points=\"100.5,-779 100.5,-796 155.5,-796 155.5,-779 100.5,-779\"/>\n<text text-anchor=\"start\" x=\"116\" y=\"-785\" font-family=\"Times,serif\" font-size=\"10.00\">PREP</text>\n<polygon fill=\"none\" stroke=\"black\" points=\"100.5,-758 100.5,-779 155.5,-779 155.5,-758 100.5,-758\"/>\n<text text-anchor=\"start\" x=\"119\" y=\"-764.8\" font-family=\"Times,serif\" font-size=\"14.00\">tuv</text>\n<polygon fill=\"none\" stroke=\"black\" points=\"100.5,-737 100.5,-758 155.5,-758 155.5,-737 100.5,-737\"/>\n<text text-anchor=\"start\" x=\"114\" y=\"-743.8\" font-family=\"Times,serif\" font-size=\"14.00\">tepm</text>\n<polygon fill=\"none\" stroke=\"black\" points=\"100.5,-716 100.5,-737 155.5,-737 155.5,-716 100.5,-716\"/>\n<text text-anchor=\"start\" x=\"121\" y=\"-722.8\" font-family=\"Times,serif\" font-size=\"14.00\">uv</text>\n<polygon fill=\"none\" stroke=\"black\" points=\"100.5,-695 100.5,-716 155.5,-716 155.5,-695 100.5,-695\"/>\n<text text-anchor=\"start\" x=\"126\" y=\"-701.8\" font-family=\"Times,serif\" font-size=\"14.00\">i</text>\n<polygon fill=\"none\" stroke=\"black\" points=\"100.5,-674 100.5,-695 155.5,-695 155.5,-674 100.5,-674\"/>\n<text text-anchor=\"start\" x=\"126\" y=\"-680.8\" font-family=\"Times,serif\" font-size=\"14.00\">j</text>\n<polygon fill=\"none\" stroke=\"black\" points=\"100.5,-653 100.5,-674 155.5,-674 155.5,-653 100.5,-653\"/>\n<text text-anchor=\"start\" x=\"123\" y=\"-659.8\" font-family=\"Times,serif\" font-size=\"14.00\">w</text>\n<polygon fill=\"none\" stroke=\"black\" points=\"100.5,-632 100.5,-653 155.5,-653 155.5,-632 100.5,-632\"/>\n<text text-anchor=\"start\" x=\"104.5\" y=\"-638.8\" font-family=\"Times,serif\" font-size=\"14.00\">w_mean</text>\n<polygon fill=\"none\" stroke=\"black\" points=\"100.5,-611 100.5,-632 155.5,-632 155.5,-611 100.5,-611\"/>\n<text text-anchor=\"start\" x=\"125.5\" y=\"-617.8\" font-family=\"Times,serif\" font-size=\"14.00\">r</text>\n<polygon fill=\"none\" stroke=\"black\" points=\"100.5,-590 100.5,-611 155.5,-611 155.5,-590 100.5,-590\"/>\n<text text-anchor=\"start\" x=\"125\" y=\"-596.8\" font-family=\"Times,serif\" font-size=\"14.00\">s</text>\n<polygon fill=\"none\" stroke=\"black\" points=\"100.5,-569 100.5,-590 155.5,-590 155.5,-569 100.5,-569\"/>\n<text text-anchor=\"start\" x=\"118.5\" y=\"-575.8\" font-family=\"Times,serif\" font-size=\"14.00\">mu</text>\n<polygon fill=\"none\" stroke=\"black\" points=\"100.5,-548 100.5,-569 155.5,-569 155.5,-548 100.5,-548\"/>\n<text text-anchor=\"start\" x=\"114\" y=\"-554.8\" font-family=\"Times,serif\" font-size=\"14.00\">nu_x</text>\n<polygon fill=\"none\" stroke=\"black\" points=\"100.5,-527 100.5,-548 155.5,-548 155.5,-527 100.5,-527\"/>\n<text text-anchor=\"start\" x=\"114\" y=\"-533.8\" font-family=\"Times,serif\" font-size=\"14.00\">nu_y</text>\n<polygon fill=\"none\" stroke=\"black\" points=\"100.5,-506 100.5,-527 155.5,-527 155.5,-506 100.5,-506\"/>\n<text text-anchor=\"start\" x=\"114.5\" y=\"-512.8\" font-family=\"Times,serif\" font-size=\"14.00\">nu_z</text>\n<polygon fill=\"none\" stroke=\"black\" points=\"100.5,-485 100.5,-506 155.5,-506 155.5,-485 100.5,-485\"/>\n<text text-anchor=\"start\" x=\"122\" y=\"-491.8\" font-family=\"Times,serif\" font-size=\"14.00\">m</text>\n<polygon fill=\"none\" stroke=\"black\" points=\"100.5,-464 100.5,-485 155.5,-485 155.5,-464 100.5,-464\"/>\n<text text-anchor=\"start\" x=\"126\" y=\"-470.8\" font-family=\"Times,serif\" font-size=\"14.00\">l</text>\n<polygon fill=\"none\" stroke=\"black\" points=\"100.5,-443 100.5,-464 155.5,-464 155.5,-443 100.5,-443\"/>\n<text text-anchor=\"start\" x=\"105.5\" y=\"-449.8\" font-family=\"Times,serif\" font-size=\"14.00\">succ_nu</text>\n<polygon fill=\"none\" stroke=\"black\" points=\"100.5,-422 100.5,-443 155.5,-443 155.5,-422 100.5,-422\"/>\n<text text-anchor=\"start\" x=\"111\" y=\"-428.8\" font-family=\"Times,serif\" font-size=\"14.00\">plus_t</text>\n<polygon fill=\"none\" stroke=\"black\" points=\"100.5,-401 100.5,-422 106.5,-422 106.5,-401 100.5,-401\"/>\n<polygon fill=\"none\" stroke=\"black\" points=\"106.5,-401 106.5,-422 155.5,-422 155.5,-401 106.5,-401\"/>\n<text text-anchor=\"start\" x=\"109.5\" y=\"-407.8\" font-family=\"Times,serif\" font-size=\"14.00\">flags[0]</text>\n<polygon fill=\"none\" stroke=\"black\" points=\"100.5,-380 100.5,-401 106.5,-401 106.5,-380 100.5,-380\"/>\n<polygon fill=\"none\" stroke=\"black\" points=\"106.5,-380 106.5,-401 155.5,-401 155.5,-380 106.5,-380\"/>\n<text text-anchor=\"start\" x=\"109.5\" y=\"-386.8\" font-family=\"Times,serif\" font-size=\"14.00\">flags[1]</text>\n<polygon fill=\"none\" stroke=\"black\" points=\"100.5,-359 100.5,-380 106.5,-380 106.5,-359 100.5,-359\"/>\n<polygon fill=\"none\" stroke=\"black\" points=\"106.5,-359 106.5,-380 155.5,-380 155.5,-359 106.5,-359\"/>\n<text text-anchor=\"start\" x=\"109.5\" y=\"-365.8\" font-family=\"Times,serif\" font-size=\"14.00\">flags[2]</text>\n<polygon fill=\"none\" stroke=\"black\" points=\"100.5,-338 100.5,-359 106.5,-359 106.5,-338 100.5,-338\"/>\n<polygon fill=\"none\" stroke=\"black\" points=\"106.5,-338 106.5,-359 155.5,-359 155.5,-338 106.5,-338\"/>\n<text text-anchor=\"start\" x=\"109.5\" y=\"-344.8\" font-family=\"Times,serif\" font-size=\"14.00\">flags[3]</text>\n</g>\n<!-- tuv_G20&#45;&gt;PrepareFirstQuantizationWithProj -->\n<g id=\"edge1\" class=\"edge\">\n<title>tuv_G20:e-&gt;PrepareFirstQuantizationWithProj:w</title>\n<path fill=\"none\" stroke=\"black\" d=\"M59.5,-1033C88.48,-1033 71.18,-781.23 97.99,-769.43\"/>\n<ellipse fill=\"black\" stroke=\"black\" cx=\"99.02\" cy=\"-769.21\" rx=\"1\" ry=\"1\"/>\n<text text-anchor=\"middle\" x=\"81.5\" y=\"-872\" font-family=\"Times,serif\" font-size=\"10.00\">1</text>\n</g>\n<!-- tepm_G35 -->\n<g id=\"node2\" class=\"node\">\n<title>tepm_G35</title>\n<text text-anchor=\"middle\" x=\"31.5\" y=\"-975.3\" font-family=\"Times,serif\" font-size=\"14.00\">tepm</text>\n</g>\n<!-- tepm_G35&#45;&gt;PrepareFirstQuantizationWithProj -->\n<g id=\"edge2\" class=\"edge\">\n<title>tepm_G35:e-&gt;PrepareFirstQuantizationWithProj:w</title>\n<path fill=\"none\" stroke=\"black\" d=\"M59.5,-979C84.85,-979 74.55,-760.46 97.95,-748.51\"/>\n<ellipse fill=\"black\" stroke=\"black\" cx=\"99.03\" cy=\"-748.24\" rx=\"1\" ry=\"1\"/>\n<text text-anchor=\"middle\" x=\"81.5\" y=\"-845\" font-family=\"Times,serif\" font-size=\"10.00\">2</text>\n</g>\n<!-- uv_G34 -->\n<g id=\"node3\" class=\"node\">\n<title>uv_G34</title>\n<text text-anchor=\"middle\" x=\"31.5\" y=\"-921.3\" font-family=\"Times,serif\" font-size=\"14.00\">uv</text>\n</g>\n<!-- uv_G34&#45;&gt;PrepareFirstQuantizationWithProj -->\n<g id=\"edge3\" class=\"edge\">\n<title>uv_G34:e-&gt;PrepareFirstQuantizationWithProj:w</title>\n<path fill=\"none\" stroke=\"black\" d=\"M59.5,-925C81.25,-925 77.79,-739.18 97.97,-727.57\"/>\n<ellipse fill=\"black\" stroke=\"black\" cx=\"99.04\" cy=\"-727.27\" rx=\"1\" ry=\"1\"/>\n<text text-anchor=\"middle\" x=\"81.5\" y=\"-811\" font-family=\"Times,serif\" font-size=\"10.00\">2</text>\n</g>\n<!-- i_G24 -->\n<g id=\"node4\" class=\"node\">\n<title>i_G24</title>\n<text text-anchor=\"middle\" x=\"31.5\" y=\"-867.3\" font-family=\"Times,serif\" font-size=\"14.00\">i</text>\n</g>\n<!-- i_G24&#45;&gt;PrepareFirstQuantizationWithProj -->\n<g id=\"edge4\" class=\"edge\">\n<title>i_G24:e-&gt;PrepareFirstQuantizationWithProj:w</title>\n<path fill=\"none\" stroke=\"black\" d=\"M59.5,-871C96.52,-871 63.58,-712.38 97.87,-706.19\"/>\n<ellipse fill=\"black\" stroke=\"black\" cx=\"99\" cy=\"-706.09\" rx=\"1\" ry=\"1\"/>\n<text text-anchor=\"middle\" x=\"81.5\" y=\"-753\" font-family=\"Times,serif\" font-size=\"10.00\">4</text>\n</g>\n<!-- j_G57 -->\n<g id=\"node5\" class=\"node\">\n<title>j_G57</title>\n<text text-anchor=\"middle\" x=\"31.5\" y=\"-813.3\" font-family=\"Times,serif\" font-size=\"14.00\">j</text>\n</g>\n<!-- j_G57&#45;&gt;PrepareFirstQuantizationWithProj -->\n<g id=\"edge5\" class=\"edge\">\n<title>j_G57:e-&gt;PrepareFirstQuantizationWithProj:w</title>\n<path fill=\"none\" stroke=\"black\" d=\"M59.5,-817C89.46,-817 70.27,-691.11 97.93,-685.21\"/>\n<ellipse fill=\"black\" stroke=\"black\" cx=\"99.01\" cy=\"-685.1\" rx=\"1\" ry=\"1\"/>\n<text text-anchor=\"middle\" x=\"81.5\" y=\"-734\" font-family=\"Times,serif\" font-size=\"10.00\">4</text>\n</g>\n<!-- w_G23 -->\n<g id=\"node6\" class=\"node\">\n<title>w_G23</title>\n<text text-anchor=\"middle\" x=\"31.5\" y=\"-759.3\" font-family=\"Times,serif\" font-size=\"14.00\">w</text>\n</g>\n<!-- w_G23&#45;&gt;PrepareFirstQuantizationWithProj -->\n<g id=\"edge6\" class=\"edge\">\n<title>w_G23:e-&gt;PrepareFirstQuantizationWithProj:w</title>\n<path fill=\"none\" stroke=\"black\" d=\"M59.5,-763C82.53,-763 76.64,-670.09 97.86,-664.28\"/>\n<ellipse fill=\"black\" stroke=\"black\" cx=\"99.01\" cy=\"-664.13\" rx=\"1\" ry=\"1\"/>\n<text text-anchor=\"middle\" x=\"81.5\" y=\"-707\" font-family=\"Times,serif\" font-size=\"10.00\">2</text>\n</g>\n<!-- w_mean_G40 -->\n<g id=\"node7\" class=\"node\">\n<title>w_mean_G40</title>\n<text text-anchor=\"middle\" x=\"31.5\" y=\"-705.3\" font-family=\"Times,serif\" font-size=\"14.00\">w_mean</text>\n</g>\n<!-- w_mean_G40&#45;&gt;PrepareFirstQuantizationWithProj -->\n<g id=\"edge7\" class=\"edge\">\n<title>w_mean_G40:e-&gt;PrepareFirstQuantizationWithProj:w</title>\n<path fill=\"none\" stroke=\"black\" d=\"M63,-709C95.84,-709 67.75,-646.06 97.74,-643.11\"/>\n<ellipse fill=\"black\" stroke=\"black\" cx=\"99\" cy=\"-643.05\" rx=\"1\" ry=\"1\"/>\n<text text-anchor=\"middle\" x=\"81.5\" y=\"-686\" font-family=\"Times,serif\" font-size=\"10.00\">2</text>\n</g>\n<!-- r_G22 -->\n<g id=\"node8\" class=\"node\">\n<title>r_G22</title>\n<text text-anchor=\"middle\" x=\"31.5\" y=\"-651.3\" font-family=\"Times,serif\" font-size=\"14.00\">r</text>\n</g>\n<!-- r_G22&#45;&gt;PrepareFirstQuantizationWithProj -->\n<g id=\"edge8\" class=\"edge\">\n<title>r_G22:e-&gt;PrepareFirstQuantizationWithProj:w</title>\n<path fill=\"none\" stroke=\"black\" d=\"M59.5,-655C81.99,-655 77.12,-624.03 97.91,-622.09\"/>\n<ellipse fill=\"black\" stroke=\"black\" cx=\"99\" cy=\"-622.05\" rx=\"1\" ry=\"1\"/>\n<text text-anchor=\"middle\" x=\"81.5\" y=\"-638\" font-family=\"Times,serif\" font-size=\"10.00\">8</text>\n</g>\n<!-- s_G3 -->\n<g id=\"node9\" class=\"node\">\n<title>s_G3</title>\n<text text-anchor=\"middle\" x=\"31.5\" y=\"-597.3\" font-family=\"Times,serif\" font-size=\"14.00\">s</text>\n</g>\n<!-- s_G3&#45;&gt;PrepareFirstQuantizationWithProj -->\n<g id=\"edge9\" class=\"edge\">\n<title>s_G3:e-&gt;PrepareFirstQuantizationWithProj:w</title>\n<path fill=\"none\" stroke=\"black\" d=\"M59.5,-601C76.8,-601 81.63,-601 97.95,-601\"/>\n<ellipse fill=\"black\" stroke=\"black\" cx=\"99\" cy=\"-601\" rx=\"1\" ry=\"1\"/>\n<text text-anchor=\"middle\" x=\"81.5\" y=\"-604\" font-family=\"Times,serif\" font-size=\"10.00\">8</text>\n</g>\n<!-- mu_G44 -->\n<g id=\"node10\" class=\"node\">\n<title>mu_G44</title>\n<text text-anchor=\"middle\" x=\"31.5\" y=\"-543.3\" font-family=\"Times,serif\" font-size=\"14.00\">mu</text>\n</g>\n<!-- mu_G44&#45;&gt;PrepareFirstQuantizationWithProj -->\n<g id=\"edge10\" class=\"edge\">\n<title>mu_G44:e-&gt;PrepareFirstQuantizationWithProj:w</title>\n<path fill=\"none\" stroke=\"black\" d=\"M59.5,-547C81.99,-547 77.12,-577.97 97.91,-579.91\"/>\n<ellipse fill=\"black\" stroke=\"black\" cx=\"99\" cy=\"-579.95\" rx=\"1\" ry=\"1\"/>\n<text text-anchor=\"middle\" x=\"81.5\" y=\"-570\" font-family=\"Times,serif\" font-size=\"10.00\">8</text>\n</g>\n<!-- nu_x_G29 -->\n<g id=\"node11\" class=\"node\">\n<title>nu_x_G29</title>\n<text text-anchor=\"middle\" x=\"31.5\" y=\"-489.3\" font-family=\"Times,serif\" font-size=\"14.00\">nu_x</text>\n</g>\n<!-- nu_x_G29&#45;&gt;PrepareFirstQuantizationWithProj -->\n<g id=\"edge11\" class=\"edge\">\n<title>nu_x_G29:e-&gt;PrepareFirstQuantizationWithProj:w</title>\n<path fill=\"none\" stroke=\"black\" d=\"M59.5,-493C92.74,-493 67.22,-554.99 97.71,-557.89\"/>\n<ellipse fill=\"black\" stroke=\"black\" cx=\"99\" cy=\"-557.95\" rx=\"1\" ry=\"1\"/>\n<text text-anchor=\"middle\" x=\"81.5\" y=\"-543\" font-family=\"Times,serif\" font-size=\"10.00\">9</text>\n</g>\n<!-- nu_y_G50 -->\n<g id=\"node12\" class=\"node\">\n<title>nu_y_G50</title>\n<text text-anchor=\"middle\" x=\"31.5\" y=\"-435.3\" font-family=\"Times,serif\" font-size=\"14.00\">nu_y</text>\n</g>\n<!-- nu_y_G50&#45;&gt;PrepareFirstQuantizationWithProj -->\n<g id=\"edge12\" class=\"edge\">\n<title>nu_y_G50:e-&gt;PrepareFirstQuantizationWithProj:w</title>\n<path fill=\"none\" stroke=\"black\" d=\"M59.5,-439C105.89,-439 54.53,-533.96 97.86,-536.93\"/>\n<ellipse fill=\"black\" stroke=\"black\" cx=\"99\" cy=\"-536.97\" rx=\"1\" ry=\"1\"/>\n<text text-anchor=\"middle\" x=\"81.5\" y=\"-527\" font-family=\"Times,serif\" font-size=\"10.00\">9</text>\n</g>\n<!-- nu_z_G6 -->\n<g id=\"node13\" class=\"node\">\n<title>nu_z_G6</title>\n<text text-anchor=\"middle\" x=\"31.5\" y=\"-381.3\" font-family=\"Times,serif\" font-size=\"14.00\">nu_z</text>\n</g>\n<!-- nu_z_G6&#45;&gt;PrepareFirstQuantizationWithProj -->\n<g id=\"edge13\" class=\"edge\">\n<title>nu_z_G6:e-&gt;PrepareFirstQuantizationWithProj:w</title>\n<path fill=\"none\" stroke=\"black\" d=\"M59.5,-385C119.73,-385 40.95,-512.95 97.92,-515.95\"/>\n<ellipse fill=\"black\" stroke=\"black\" cx=\"99\" cy=\"-515.97\" rx=\"1\" ry=\"1\"/>\n<text text-anchor=\"middle\" x=\"81.5\" y=\"-512\" font-family=\"Times,serif\" font-size=\"10.00\">9</text>\n</g>\n<!-- m_G4 -->\n<g id=\"node14\" class=\"node\">\n<title>m_G4</title>\n<text text-anchor=\"middle\" x=\"31.5\" y=\"-327.3\" font-family=\"Times,serif\" font-size=\"14.00\">m</text>\n</g>\n<!-- m_G4&#45;&gt;PrepareFirstQuantizationWithProj -->\n<g id=\"edge14\" class=\"edge\">\n<title>m_G4:e-&gt;PrepareFirstQuantizationWithProj:w</title>\n<path fill=\"none\" stroke=\"black\" d=\"M59.5,-331C88.81,-331 74.42,-364.68 82,-393 87.76,-414.54 77.65,-490.07 97.94,-494.77\"/>\n<ellipse fill=\"black\" stroke=\"black\" cx=\"99.01\" cy=\"-494.89\" rx=\"1\" ry=\"1\"/>\n<text text-anchor=\"middle\" x=\"81.5\" y=\"-396\" font-family=\"Times,serif\" font-size=\"10.00\">8</text>\n</g>\n<!-- l_G37 -->\n<g id=\"node15\" class=\"node\">\n<title>l_G37</title>\n<text text-anchor=\"middle\" x=\"31.5\" y=\"-273.3\" font-family=\"Times,serif\" font-size=\"14.00\">l</text>\n</g>\n<!-- l_G37&#45;&gt;PrepareFirstQuantizationWithProj -->\n<g id=\"edge15\" class=\"edge\">\n<title>l_G37:e-&gt;PrepareFirstQuantizationWithProj:w</title>\n<path fill=\"none\" stroke=\"black\" d=\"M59.5,-277C108.1,-277 72.23,-336.4 82,-384 85.94,-403.2 80.1,-468.61 97.73,-473.69\"/>\n<ellipse fill=\"black\" stroke=\"black\" cx=\"99.01\" cy=\"-473.86\" rx=\"1\" ry=\"1\"/>\n<text text-anchor=\"middle\" x=\"81.5\" y=\"-387\" font-family=\"Times,serif\" font-size=\"10.00\">4</text>\n</g>\n<!-- succ_nu_G19 -->\n<g id=\"node16\" class=\"node\">\n<title>succ_nu_G19</title>\n<text text-anchor=\"middle\" x=\"31.5\" y=\"-219.3\" font-family=\"Times,serif\" font-size=\"14.00\">succ_nu</text>\n</g>\n<!-- succ_nu_G19&#45;&gt;PrepareFirstQuantizationWithProj -->\n<g id=\"edge16\" class=\"edge\">\n<title>succ_nu_G19:e-&gt;PrepareFirstQuantizationWithProj:w</title>\n<path fill=\"none\" stroke=\"black\" d=\"M63,-223C90.55,-223 76.31,-255.05 82,-282 85.79,-299.96 81.28,-441.3 97.87,-452.32\"/>\n<ellipse fill=\"black\" stroke=\"black\" cx=\"99.05\" cy=\"-452.7\" rx=\"1\" ry=\"1\"/>\n<text text-anchor=\"middle\" x=\"81.5\" y=\"-285\" font-family=\"Times,serif\" font-size=\"10.00\">1</text>\n</g>\n<!-- plus_t_G36 -->\n<g id=\"node17\" class=\"node\">\n<title>plus_t_G36</title>\n<text text-anchor=\"middle\" x=\"31.5\" y=\"-165.3\" font-family=\"Times,serif\" font-size=\"14.00\">plus_t</text>\n</g>\n<!-- plus_t_G36&#45;&gt;PrepareFirstQuantizationWithProj -->\n<g id=\"edge17\" class=\"edge\">\n<title>plus_t_G36:e-&gt;PrepareFirstQuantizationWithProj:w</title>\n<path fill=\"none\" stroke=\"black\" d=\"M59.5,-169C106.79,-169 74.33,-226.33 82,-273 84.77,-289.86 82.42,-421.14 98.01,-431.37\"/>\n<ellipse fill=\"black\" stroke=\"black\" cx=\"99.05\" cy=\"-431.7\" rx=\"1\" ry=\"1\"/>\n<text text-anchor=\"middle\" x=\"81.5\" y=\"-276\" font-family=\"Times,serif\" font-size=\"10.00\">1</text>\n</g>\n<!-- tuv_G45 -->\n<g id=\"node19\" class=\"node\">\n<title>tuv_G45</title>\n<text text-anchor=\"middle\" x=\"223.5\" y=\"-1094.3\" font-family=\"Times,serif\" font-size=\"14.00\">tuv</text>\n</g>\n<!-- PrepareFirstQuantizationWithProj&#45;&gt;tuv_G45 -->\n<g id=\"edge18\" class=\"edge\">\n<title>PrepareFirstQuantizationWithProj:e-&gt;tuv_G45:w</title>\n<path fill=\"none\" stroke=\"black\" d=\"M155,-769C172.77,-769 176.81,-1075.27 193.61,-1096.81\"/>\n<ellipse fill=\"black\" stroke=\"black\" cx=\"194.65\" cy=\"-1097.47\" rx=\"1\" ry=\"1\"/>\n<text text-anchor=\"middle\" x=\"173.5\" y=\"-916\" font-family=\"Times,serif\" font-size=\"10.00\">1</text>\n</g>\n<!-- tepm_G54 -->\n<g id=\"node20\" class=\"node\">\n<title>tepm_G54</title>\n<text text-anchor=\"middle\" x=\"223.5\" y=\"-1040.3\" font-family=\"Times,serif\" font-size=\"14.00\">tepm</text>\n</g>\n<!-- PrepareFirstQuantizationWithProj&#45;&gt;tepm_G54 -->\n<g id=\"edge19\" class=\"edge\">\n<title>PrepareFirstQuantizationWithProj:e-&gt;tepm_G54:w</title>\n<path fill=\"none\" stroke=\"black\" d=\"M155,-748C171.01,-748 178.38,-1023.55 193.78,-1042.93\"/>\n<ellipse fill=\"black\" stroke=\"black\" cx=\"194.65\" cy=\"-1043.47\" rx=\"1\" ry=\"1\"/>\n<text text-anchor=\"middle\" x=\"173.5\" y=\"-881\" font-family=\"Times,serif\" font-size=\"10.00\">2</text>\n</g>\n<!-- uv_G53 -->\n<g id=\"node21\" class=\"node\">\n<title>uv_G53</title>\n<text text-anchor=\"middle\" x=\"223.5\" y=\"-986.3\" font-family=\"Times,serif\" font-size=\"14.00\">uv</text>\n</g>\n<!-- PrepareFirstQuantizationWithProj&#45;&gt;uv_G53 -->\n<g id=\"edge20\" class=\"edge\">\n<title>PrepareFirstQuantizationWithProj:e-&gt;uv_G53:w</title>\n<path fill=\"none\" stroke=\"black\" d=\"M155,-727C183.87,-727 166.78,-977.82 193.5,-989.57\"/>\n<ellipse fill=\"black\" stroke=\"black\" cx=\"194.52\" cy=\"-989.79\" rx=\"1\" ry=\"1\"/>\n<text text-anchor=\"middle\" x=\"173.5\" y=\"-830\" font-family=\"Times,serif\" font-size=\"10.00\">2</text>\n</g>\n<!-- i_G52 -->\n<g id=\"node22\" class=\"node\">\n<title>i_G52</title>\n<text text-anchor=\"middle\" x=\"223.5\" y=\"-932.3\" font-family=\"Times,serif\" font-size=\"14.00\">i</text>\n</g>\n<!-- PrepareFirstQuantizationWithProj&#45;&gt;i_G52 -->\n<g id=\"edge21\" class=\"edge\">\n<title>PrepareFirstQuantizationWithProj:e-&gt;i_G52:w</title>\n<path fill=\"none\" stroke=\"black\" d=\"M155,-706C180.24,-706 170.15,-923.59 193.45,-935.49\"/>\n<ellipse fill=\"black\" stroke=\"black\" cx=\"194.53\" cy=\"-935.76\" rx=\"1\" ry=\"1\"/>\n<text text-anchor=\"middle\" x=\"173.5\" y=\"-803\" font-family=\"Times,serif\" font-size=\"10.00\">4</text>\n</g>\n<!-- j_G26 -->\n<g id=\"node23\" class=\"node\">\n<title>j_G26</title>\n<text text-anchor=\"middle\" x=\"223.5\" y=\"-878.3\" font-family=\"Times,serif\" font-size=\"14.00\">j</text>\n</g>\n<!-- PrepareFirstQuantizationWithProj&#45;&gt;j_G26 -->\n<g id=\"edge22\" class=\"edge\">\n<title>PrepareFirstQuantizationWithProj:e-&gt;j_G26:w</title>\n<path fill=\"none\" stroke=\"black\" d=\"M155,-685C176.65,-685 173.39,-869.88 193.48,-881.43\"/>\n<ellipse fill=\"black\" stroke=\"black\" cx=\"194.54\" cy=\"-881.73\" rx=\"1\" ry=\"1\"/>\n<text text-anchor=\"middle\" x=\"173.5\" y=\"-768\" font-family=\"Times,serif\" font-size=\"10.00\">4</text>\n</g>\n<!-- w_G2 -->\n<g id=\"node24\" class=\"node\">\n<title>w_G2</title>\n<text text-anchor=\"middle\" x=\"223.5\" y=\"-824.3\" font-family=\"Times,serif\" font-size=\"14.00\">w</text>\n</g>\n<!-- PrepareFirstQuantizationWithProj&#45;&gt;w_G2 -->\n<g id=\"edge23\" class=\"edge\">\n<title>PrepareFirstQuantizationWithProj:e-&gt;w_G2:w</title>\n<path fill=\"none\" stroke=\"black\" d=\"M155,-664C173.04,-664 176.47,-815.44 193.37,-827.27\"/>\n<ellipse fill=\"black\" stroke=\"black\" cx=\"194.55\" cy=\"-827.68\" rx=\"1\" ry=\"1\"/>\n<text text-anchor=\"middle\" x=\"173.5\" y=\"-739\" font-family=\"Times,serif\" font-size=\"10.00\">2</text>\n</g>\n<!-- w_mean_G58 -->\n<g id=\"node25\" class=\"node\">\n<title>w_mean_G58</title>\n<text text-anchor=\"middle\" x=\"223.5\" y=\"-770.3\" font-family=\"Times,serif\" font-size=\"14.00\">w_mean</text>\n</g>\n<!-- PrepareFirstQuantizationWithProj&#45;&gt;w_mean_G58 -->\n<g id=\"edge24\" class=\"edge\">\n<title>PrepareFirstQuantizationWithProj:e-&gt;w_mean_G58:w</title>\n<path fill=\"none\" stroke=\"black\" d=\"M155,-643C214.79,-643 133.45,-770.95 189.93,-773.95\"/>\n<ellipse fill=\"black\" stroke=\"black\" cx=\"191\" cy=\"-773.97\" rx=\"1\" ry=\"1\"/>\n<text text-anchor=\"middle\" x=\"173.5\" y=\"-711\" font-family=\"Times,serif\" font-size=\"10.00\">2</text>\n</g>\n<!-- r_G51 -->\n<g id=\"node26\" class=\"node\">\n<title>r_G51</title>\n<text text-anchor=\"middle\" x=\"223.5\" y=\"-716.3\" font-family=\"Times,serif\" font-size=\"14.00\">r</text>\n</g>\n<!-- PrepareFirstQuantizationWithProj&#45;&gt;r_G51 -->\n<g id=\"edge25\" class=\"edge\">\n<title>PrepareFirstQuantizationWithProj:e-&gt;r_G51:w</title>\n<path fill=\"none\" stroke=\"black\" d=\"M155,-622C201.39,-622 150.03,-716.96 193.36,-719.93\"/>\n<ellipse fill=\"black\" stroke=\"black\" cx=\"194.5\" cy=\"-719.97\" rx=\"1\" ry=\"1\"/>\n<text text-anchor=\"middle\" x=\"173.5\" y=\"-637\" font-family=\"Times,serif\" font-size=\"10.00\">8</text>\n</g>\n<!-- s_G32 -->\n<g id=\"node27\" class=\"node\">\n<title>s_G32</title>\n<text text-anchor=\"middle\" x=\"223.5\" y=\"-662.3\" font-family=\"Times,serif\" font-size=\"14.00\">s</text>\n</g>\n<!-- PrepareFirstQuantizationWithProj&#45;&gt;s_G32 -->\n<g id=\"edge26\" class=\"edge\">\n<title>PrepareFirstQuantizationWithProj:e-&gt;s_G32:w</title>\n<path fill=\"none\" stroke=\"black\" d=\"M155,-601C188.24,-601 162.72,-662.99 193.21,-665.89\"/>\n<ellipse fill=\"black\" stroke=\"black\" cx=\"194.5\" cy=\"-665.95\" rx=\"1\" ry=\"1\"/>\n<text text-anchor=\"middle\" x=\"173.5\" y=\"-625\" font-family=\"Times,serif\" font-size=\"10.00\">8</text>\n</g>\n<!-- mu_G17 -->\n<g id=\"node28\" class=\"node\">\n<title>mu_G17</title>\n<text text-anchor=\"middle\" x=\"223.5\" y=\"-608.3\" font-family=\"Times,serif\" font-size=\"14.00\">mu</text>\n</g>\n<!-- PrepareFirstQuantizationWithProj&#45;&gt;mu_G17 -->\n<g id=\"edge27\" class=\"edge\">\n<title>PrepareFirstQuantizationWithProj:e-&gt;mu_G17:w</title>\n<path fill=\"none\" stroke=\"black\" d=\"M155,-580C177.22,-580 172.87,-610.03 193.43,-611.91\"/>\n<ellipse fill=\"black\" stroke=\"black\" cx=\"194.5\" cy=\"-611.96\" rx=\"1\" ry=\"1\"/>\n<text text-anchor=\"middle\" x=\"173.5\" y=\"-596\" font-family=\"Times,serif\" font-size=\"10.00\">8</text>\n</g>\n<!-- nu_x_G0 -->\n<g id=\"node29\" class=\"node\">\n<title>nu_x_G0</title>\n<text text-anchor=\"middle\" x=\"223.5\" y=\"-554.3\" font-family=\"Times,serif\" font-size=\"14.00\">nu_x</text>\n</g>\n<!-- PrepareFirstQuantizationWithProj&#45;&gt;nu_x_G0 -->\n<g id=\"edge28\" class=\"edge\">\n<title>PrepareFirstQuantizationWithProj:e-&gt;nu_x_G0:w</title>\n<path fill=\"none\" stroke=\"black\" d=\"M155,-558C172.3,-558 177.13,-558 193.45,-558\"/>\n<ellipse fill=\"black\" stroke=\"black\" cx=\"194.5\" cy=\"-558\" rx=\"1\" ry=\"1\"/>\n<text text-anchor=\"middle\" x=\"173.5\" y=\"-561\" font-family=\"Times,serif\" font-size=\"10.00\">9</text>\n</g>\n<!-- nu_y_G33 -->\n<g id=\"node30\" class=\"node\">\n<title>nu_y_G33</title>\n<text text-anchor=\"middle\" x=\"223.5\" y=\"-500.3\" font-family=\"Times,serif\" font-size=\"14.00\">nu_y</text>\n</g>\n<!-- PrepareFirstQuantizationWithProj&#45;&gt;nu_y_G33 -->\n<g id=\"edge29\" class=\"edge\">\n<title>PrepareFirstQuantizationWithProj:e-&gt;nu_y_G33:w</title>\n<path fill=\"none\" stroke=\"black\" d=\"M155,-537C177.49,-537 172.62,-506.03 193.41,-504.09\"/>\n<ellipse fill=\"black\" stroke=\"black\" cx=\"194.5\" cy=\"-504.05\" rx=\"1\" ry=\"1\"/>\n<text text-anchor=\"middle\" x=\"173.5\" y=\"-527\" font-family=\"Times,serif\" font-size=\"10.00\">9</text>\n</g>\n<!-- nu_z_G39 -->\n<g id=\"node31\" class=\"node\">\n<title>nu_z_G39</title>\n<text text-anchor=\"middle\" x=\"223.5\" y=\"-446.3\" font-family=\"Times,serif\" font-size=\"14.00\">nu_z</text>\n</g>\n<!-- PrepareFirstQuantizationWithProj&#45;&gt;nu_z_G39 -->\n<g id=\"edge30\" class=\"edge\">\n<title>PrepareFirstQuantizationWithProj:e-&gt;nu_z_G39:w</title>\n<path fill=\"none\" stroke=\"black\" d=\"M155,-516C188.61,-516 162.38,-453.06 193.18,-450.11\"/>\n<ellipse fill=\"black\" stroke=\"black\" cx=\"194.5\" cy=\"-450.05\" rx=\"1\" ry=\"1\"/>\n<text text-anchor=\"middle\" x=\"173.5\" y=\"-501\" font-family=\"Times,serif\" font-size=\"10.00\">9</text>\n</g>\n<!-- m_G25 -->\n<g id=\"node32\" class=\"node\">\n<title>m_G25</title>\n<text text-anchor=\"middle\" x=\"223.5\" y=\"-392.3\" font-family=\"Times,serif\" font-size=\"14.00\">m</text>\n</g>\n<!-- PrepareFirstQuantizationWithProj&#45;&gt;m_G25 -->\n<g id=\"edge31\" class=\"edge\">\n<title>PrepareFirstQuantizationWithProj:e-&gt;m_G25:w</title>\n<path fill=\"none\" stroke=\"black\" d=\"M155,-495C201.8,-495 149.64,-399.07 193.35,-396.07\"/>\n<ellipse fill=\"black\" stroke=\"black\" cx=\"194.5\" cy=\"-396.03\" rx=\"1\" ry=\"1\"/>\n<text text-anchor=\"middle\" x=\"173.5\" y=\"-485\" font-family=\"Times,serif\" font-size=\"10.00\">8</text>\n</g>\n<!-- l_G15 -->\n<g id=\"node33\" class=\"node\">\n<title>l_G15</title>\n<text text-anchor=\"middle\" x=\"223.5\" y=\"-338.3\" font-family=\"Times,serif\" font-size=\"14.00\">l</text>\n</g>\n<!-- PrepareFirstQuantizationWithProj&#45;&gt;l_G15 -->\n<g id=\"edge32\" class=\"edge\">\n<title>PrepareFirstQuantizationWithProj:e-&gt;l_G15:w</title>\n<path fill=\"none\" stroke=\"black\" d=\"M155,-474C215.65,-474 136.04,-345.08 193.4,-342.05\"/>\n<ellipse fill=\"black\" stroke=\"black\" cx=\"194.5\" cy=\"-342.03\" rx=\"1\" ry=\"1\"/>\n<text text-anchor=\"middle\" x=\"173.5\" y=\"-469\" font-family=\"Times,serif\" font-size=\"10.00\">4</text>\n</g>\n<!-- succ_nu_G42 -->\n<g id=\"node34\" class=\"node\">\n<title>succ_nu_G42</title>\n<text text-anchor=\"middle\" x=\"223.5\" y=\"-284.3\" font-family=\"Times,serif\" font-size=\"14.00\">succ_nu</text>\n</g>\n<!-- PrepareFirstQuantizationWithProj&#45;&gt;succ_nu_G42 -->\n<g id=\"edge33\" class=\"edge\">\n<title>PrepareFirstQuantizationWithProj:e-&gt;succ_nu_G42:w</title>\n<path fill=\"none\" stroke=\"black\" d=\"M155,-453C178.24,-453 167.59,-372.6 173,-350 179.53,-322.74 164.07,-289.85 189.74,-288.08\"/>\n<ellipse fill=\"black\" stroke=\"black\" cx=\"191\" cy=\"-288.03\" rx=\"1\" ry=\"1\"/>\n<text text-anchor=\"middle\" x=\"173.5\" y=\"-353\" font-family=\"Times,serif\" font-size=\"10.00\">1</text>\n</g>\n<!-- plus_t_G49 -->\n<g id=\"node35\" class=\"node\">\n<title>plus_t_G49</title>\n<text text-anchor=\"middle\" x=\"223.5\" y=\"-230.3\" font-family=\"Times,serif\" font-size=\"14.00\">plus_t</text>\n</g>\n<!-- PrepareFirstQuantizationWithProj&#45;&gt;plus_t_G49 -->\n<g id=\"edge34\" class=\"edge\">\n<title>PrepareFirstQuantizationWithProj:e-&gt;plus_t_G49:w</title>\n<path fill=\"none\" stroke=\"black\" d=\"M155,-432C176.05,-432 168.79,-359.63 173,-339 182.39,-292.97 148.85,-235.82 193.32,-234.04\"/>\n<ellipse fill=\"black\" stroke=\"black\" cx=\"194.5\" cy=\"-234.02\" rx=\"1\" ry=\"1\"/>\n<text text-anchor=\"middle\" x=\"173.5\" y=\"-342\" font-family=\"Times,serif\" font-size=\"10.00\">1</text>\n</g>\n<!-- flags_G18 -->\n<g id=\"node36\" class=\"node\">\n<title>flags_G18</title>\n<text text-anchor=\"middle\" x=\"223.5\" y=\"-176.3\" font-family=\"Times,serif\" font-size=\"14.00\">flags[0]</text>\n</g>\n<!-- PrepareFirstQuantizationWithProj&#45;&gt;flags_G18 -->\n<g id=\"edge35\" class=\"edge\">\n<title>PrepareFirstQuantizationWithProj:e-&gt;flags_G18:w</title>\n<path fill=\"none\" stroke=\"black\" d=\"M155,-411C174.22,-411 168.96,-257.79 173,-239 178.65,-212.74 165.63,-181.75 190.33,-180.07\"/>\n<ellipse fill=\"black\" stroke=\"black\" cx=\"191.5\" cy=\"-180.03\" rx=\"1\" ry=\"1\"/>\n<text text-anchor=\"middle\" x=\"173.5\" y=\"-242\" font-family=\"Times,serif\" font-size=\"10.00\">1</text>\n</g>\n<!-- flags_G41 -->\n<g id=\"node37\" class=\"node\">\n<title>flags_G41</title>\n<text text-anchor=\"middle\" x=\"223.5\" y=\"-122.3\" font-family=\"Times,serif\" font-size=\"14.00\">flags[1]</text>\n</g>\n<!-- PrepareFirstQuantizationWithProj&#45;&gt;flags_G41 -->\n<g id=\"edge36\" class=\"edge\">\n<title>PrepareFirstQuantizationWithProj:e-&gt;flags_G41:w</title>\n<path fill=\"none\" stroke=\"black\" d=\"M155,-390C172.89,-390 170.35,-247.69 173,-230 179.86,-184.22 146.54,-127.79 190.35,-126.04\"/>\n<ellipse fill=\"black\" stroke=\"black\" cx=\"191.5\" cy=\"-126.02\" rx=\"1\" ry=\"1\"/>\n<text text-anchor=\"middle\" x=\"173.5\" y=\"-233\" font-family=\"Times,serif\" font-size=\"10.00\">1</text>\n</g>\n<!-- flags_G48 -->\n<g id=\"node38\" class=\"node\">\n<title>flags_G48</title>\n<text text-anchor=\"middle\" x=\"223.5\" y=\"-68.3\" font-family=\"Times,serif\" font-size=\"14.00\">flags[2]</text>\n</g>\n<!-- PrepareFirstQuantizationWithProj&#45;&gt;flags_G48 -->\n<g id=\"edge37\" class=\"edge\">\n<title>PrepareFirstQuantizationWithProj:e-&gt;flags_G48:w</title>\n<path fill=\"none\" stroke=\"black\" d=\"M155,-369C181.85,-369 167.54,-154.29 173,-128 178.21,-102.9 166.8,-73.65 190.42,-72.07\"/>\n<ellipse fill=\"black\" stroke=\"black\" cx=\"191.5\" cy=\"-72.03\" rx=\"1\" ry=\"1\"/>\n<text text-anchor=\"middle\" x=\"173.5\" y=\"-131\" font-family=\"Times,serif\" font-size=\"10.00\">1</text>\n</g>\n<!-- flags_G55 -->\n<g id=\"node39\" class=\"node\">\n<title>flags_G55</title>\n<text text-anchor=\"middle\" x=\"223.5\" y=\"-14.3\" font-family=\"Times,serif\" font-size=\"14.00\">flags[3]</text>\n</g>\n<!-- PrepareFirstQuantizationWithProj&#45;&gt;flags_G55 -->\n<g id=\"edge38\" class=\"edge\">\n<title>PrepareFirstQuantizationWithProj:e-&gt;flags_G55:w</title>\n<path fill=\"none\" stroke=\"black\" d=\"M155,-348C180.74,-348 169.51,-142.51 173,-117 178.99,-73.26 148.63,-19.7 190.45,-18.04\"/>\n<ellipse fill=\"black\" stroke=\"black\" cx=\"191.5\" cy=\"-18.02\" rx=\"1\" ry=\"1\"/>\n<text text-anchor=\"middle\" x=\"173.5\" y=\"-120\" font-family=\"Times,serif\" font-size=\"10.00\">1</text>\n</g>\n</g>\n</svg>",
          "text/plain": "<IPython.core.display.SVG object>"
         },
         "metadata": {},
         "output_type": "display_data"
        }
       ],
       "tabbable": null,
       "tooltip": null
      }
     },
     "6e793def33ac4bfe80514479ef682619": {
      "model_module": "@jupyter-widgets/base",
      "model_module_version": "2.0.0",
      "model_name": "LayoutModel",
      "state": {
       "_model_module": "@jupyter-widgets/base",
       "_model_module_version": "2.0.0",
       "_model_name": "LayoutModel",
       "_view_count": null,
       "_view_module": "@jupyter-widgets/base",
       "_view_module_version": "2.0.0",
       "_view_name": "LayoutView",
       "align_content": null,
       "align_items": null,
       "align_self": null,
       "border_bottom": null,
       "border_left": null,
       "border_right": null,
       "border_top": null,
       "bottom": null,
       "display": null,
       "flex": null,
       "flex_flow": null,
       "grid_area": null,
       "grid_auto_columns": null,
       "grid_auto_flow": null,
       "grid_auto_rows": null,
       "grid_column": null,
       "grid_gap": null,
       "grid_row": null,
       "grid_template_areas": null,
       "grid_template_columns": null,
       "grid_template_rows": null,
       "height": null,
       "justify_content": null,
       "justify_items": null,
       "left": null,
       "margin": null,
       "max_height": null,
       "max_width": null,
       "min_height": null,
       "min_width": null,
       "object_fit": null,
       "object_position": null,
       "order": null,
       "overflow": null,
       "padding": null,
       "right": null,
       "top": null,
       "visibility": null,
       "width": null
      }
     },
     "abc685f1e723489780261cd64c9d8589": {
      "model_module": "@jupyter-widgets/controls",
      "model_module_version": "2.0.0",
      "model_name": "HBoxModel",
      "state": {
       "_dom_classes": [],
       "_model_module": "@jupyter-widgets/controls",
       "_model_module_version": "2.0.0",
       "_model_name": "HBoxModel",
       "_view_count": null,
       "_view_module": "@jupyter-widgets/controls",
       "_view_module_version": "2.0.0",
       "_view_name": "HBoxView",
       "box_style": "",
       "children": [
        "IPY_MODEL_56c4b38a644b4643b0d8474b8e91a63c"
       ],
       "layout": "IPY_MODEL_34fe232834f94db4af5f2aaae3bd4896",
       "tabbable": null,
       "tooltip": null
      }
     },
     "e094a1b33c78441dae5c7a3d900ed471": {
      "model_module": "@jupyter-widgets/output",
      "model_module_version": "1.0.0",
      "model_name": "OutputModel",
      "state": {
       "_dom_classes": [],
       "_model_module": "@jupyter-widgets/output",
       "_model_module_version": "1.0.0",
       "_model_name": "OutputModel",
       "_view_count": null,
       "_view_module": "@jupyter-widgets/output",
       "_view_module_version": "1.0.0",
       "_view_name": "OutputView",
       "layout": "IPY_MODEL_4049a48c7ef84b068ee8e847fdd9729a",
       "msg_id": "",
       "outputs": [
        {
         "data": {
          "text/markdown": "`sel_first_quant`",
          "text/plain": "<IPython.core.display.Markdown object>"
         },
         "metadata": {},
         "output_type": "display_data"
        },
        {
         "data": {
          "image/svg+xml": "<svg xmlns=\"http://www.w3.org/2000/svg\" xmlns:xlink=\"http://www.w3.org/1999/xlink\" width=\"315pt\" height=\"2744pt\" viewBox=\"0.00 0.00 315.00 2744.00\">\n<g id=\"graph0\" class=\"graph\" transform=\"scale(1 1) rotate(0) translate(4 2740)\">\n<title>my_graph</title>\n<polygon fill=\"white\" stroke=\"transparent\" points=\"-4,4 -4,-2740 311,-2740 311,4 -4,4\"/>\n<!-- ham_ctrl_G87 -->\n<g id=\"node1\" class=\"node\">\n<title>ham_ctrl_G87</title>\n<text text-anchor=\"middle\" x=\"40.5\" y=\"-2714.3\" font-family=\"Times,serif\" font-size=\"14.00\">ham_ctrl[0]</text>\n</g>\n<!-- SelectFirstQuantizationWithProj -->\n<g id=\"node52\" class=\"node\">\n<title>SelectFirstQuantizationWithProj</title>\n<polygon fill=\"none\" stroke=\"black\" points=\"118.5,-1904 118.5,-1921 189.5,-1921 189.5,-1904 118.5,-1904\"/>\n<text text-anchor=\"start\" x=\"135.5\" y=\"-1910\" font-family=\"Times,serif\" font-size=\"10.00\">SELECT</text>\n<polygon fill=\"none\" stroke=\"black\" points=\"118.5,-1883 118.5,-1904 189.5,-1904 189.5,-1883 118.5,-1883\"/>\n<text text-anchor=\"start\" x=\"121.5\" y=\"-1889.8\" font-family=\"Times,serif\" font-size=\"14.00\">ham_ctrl[0]</text>\n<polygon fill=\"none\" stroke=\"black\" points=\"118.5,-1862 118.5,-1883 189.5,-1883 189.5,-1862 118.5,-1862\"/>\n<text text-anchor=\"start\" x=\"121.5\" y=\"-1868.8\" font-family=\"Times,serif\" font-size=\"14.00\">ham_ctrl[1]</text>\n<polygon fill=\"none\" stroke=\"black\" points=\"118.5,-1841 118.5,-1862 189.5,-1862 189.5,-1841 118.5,-1841\"/>\n<text text-anchor=\"start\" x=\"121.5\" y=\"-1847.8\" font-family=\"Times,serif\" font-size=\"14.00\">ham_ctrl[2]</text>\n<polygon fill=\"none\" stroke=\"black\" points=\"118.5,-1820 118.5,-1841 189.5,-1841 189.5,-1820 118.5,-1820\"/>\n<text text-anchor=\"start\" x=\"121.5\" y=\"-1826.8\" font-family=\"Times,serif\" font-size=\"14.00\">ham_ctrl[3]</text>\n<polygon fill=\"none\" stroke=\"black\" points=\"118.5,-1799 118.5,-1820 189.5,-1820 189.5,-1799 118.5,-1799\"/>\n<text text-anchor=\"start\" x=\"137\" y=\"-1805.8\" font-family=\"Times,serif\" font-size=\"14.00\">i_ne_j</text>\n<polygon fill=\"none\" stroke=\"black\" points=\"118.5,-1778 118.5,-1799 189.5,-1799 189.5,-1778 118.5,-1778\"/>\n<text text-anchor=\"start\" x=\"137\" y=\"-1784.8\" font-family=\"Times,serif\" font-size=\"14.00\">plus_t</text>\n<polygon fill=\"none\" stroke=\"black\" points=\"118.5,-1757 118.5,-1778 189.5,-1778 189.5,-1757 118.5,-1757\"/>\n<text text-anchor=\"start\" x=\"152\" y=\"-1763.8\" font-family=\"Times,serif\" font-size=\"14.00\">i</text>\n<polygon fill=\"none\" stroke=\"black\" points=\"118.5,-1736 118.5,-1757 189.5,-1757 189.5,-1736 118.5,-1736\"/>\n<text text-anchor=\"start\" x=\"152\" y=\"-1742.8\" font-family=\"Times,serif\" font-size=\"14.00\">j</text>\n<polygon fill=\"none\" stroke=\"black\" points=\"118.5,-1715 118.5,-1736 189.5,-1736 189.5,-1715 118.5,-1715\"/>\n<text text-anchor=\"start\" x=\"149\" y=\"-1721.8\" font-family=\"Times,serif\" font-size=\"14.00\">w</text>\n<polygon fill=\"none\" stroke=\"black\" points=\"118.5,-1694 118.5,-1715 189.5,-1715 189.5,-1694 118.5,-1694\"/>\n<text text-anchor=\"start\" x=\"130.5\" y=\"-1700.8\" font-family=\"Times,serif\" font-size=\"14.00\">w_mean</text>\n<polygon fill=\"none\" stroke=\"black\" points=\"118.5,-1673 118.5,-1694 189.5,-1694 189.5,-1673 118.5,-1673\"/>\n<text text-anchor=\"start\" x=\"151.5\" y=\"-1679.8\" font-family=\"Times,serif\" font-size=\"14.00\">r</text>\n<polygon fill=\"none\" stroke=\"black\" points=\"118.5,-1652 118.5,-1673 189.5,-1673 189.5,-1652 118.5,-1652\"/>\n<text text-anchor=\"start\" x=\"151\" y=\"-1658.8\" font-family=\"Times,serif\" font-size=\"14.00\">s</text>\n<polygon fill=\"none\" stroke=\"black\" points=\"118.5,-1631 118.5,-1652 189.5,-1652 189.5,-1631 118.5,-1631\"/>\n<text text-anchor=\"start\" x=\"144.5\" y=\"-1637.8\" font-family=\"Times,serif\" font-size=\"14.00\">mu</text>\n<polygon fill=\"none\" stroke=\"black\" points=\"118.5,-1610 118.5,-1631 189.5,-1631 189.5,-1610 118.5,-1610\"/>\n<text text-anchor=\"start\" x=\"140\" y=\"-1616.8\" font-family=\"Times,serif\" font-size=\"14.00\">nu_x</text>\n<polygon fill=\"none\" stroke=\"black\" points=\"118.5,-1589 118.5,-1610 189.5,-1610 189.5,-1589 118.5,-1589\"/>\n<text text-anchor=\"start\" x=\"140\" y=\"-1595.8\" font-family=\"Times,serif\" font-size=\"14.00\">nu_y</text>\n<polygon fill=\"none\" stroke=\"black\" points=\"118.5,-1568 118.5,-1589 189.5,-1589 189.5,-1568 118.5,-1568\"/>\n<text text-anchor=\"start\" x=\"140.5\" y=\"-1574.8\" font-family=\"Times,serif\" font-size=\"14.00\">nu_z</text>\n<polygon fill=\"none\" stroke=\"black\" points=\"118.5,-1547 118.5,-1568 189.5,-1568 189.5,-1547 118.5,-1547\"/>\n<text text-anchor=\"start\" x=\"148\" y=\"-1553.8\" font-family=\"Times,serif\" font-size=\"14.00\">m</text>\n<polygon fill=\"none\" stroke=\"black\" points=\"118.5,-1526 118.5,-1547 189.5,-1547 189.5,-1526 118.5,-1526\"/>\n<text text-anchor=\"start\" x=\"152\" y=\"-1532.8\" font-family=\"Times,serif\" font-size=\"14.00\">l</text>\n<polygon fill=\"none\" stroke=\"black\" points=\"118.5,-1505 118.5,-1526 189.5,-1526 189.5,-1505 118.5,-1505\"/>\n<text text-anchor=\"start\" x=\"130\" y=\"-1511.8\" font-family=\"Times,serif\" font-size=\"14.00\">sys[0, 0]</text>\n<polygon fill=\"none\" stroke=\"black\" points=\"118.5,-1484 118.5,-1505 189.5,-1505 189.5,-1484 118.5,-1484\"/>\n<text text-anchor=\"start\" x=\"130\" y=\"-1490.8\" font-family=\"Times,serif\" font-size=\"14.00\">sys[0, 1]</text>\n<polygon fill=\"none\" stroke=\"black\" points=\"118.5,-1463 118.5,-1484 189.5,-1484 189.5,-1463 118.5,-1463\"/>\n<text text-anchor=\"start\" x=\"130\" y=\"-1469.8\" font-family=\"Times,serif\" font-size=\"14.00\">sys[0, 2]</text>\n<polygon fill=\"none\" stroke=\"black\" points=\"118.5,-1442 118.5,-1463 189.5,-1463 189.5,-1442 118.5,-1442\"/>\n<text text-anchor=\"start\" x=\"130\" y=\"-1448.8\" font-family=\"Times,serif\" font-size=\"14.00\">sys[1, 0]</text>\n<polygon fill=\"none\" stroke=\"black\" points=\"118.5,-1421 118.5,-1442 189.5,-1442 189.5,-1421 118.5,-1421\"/>\n<text text-anchor=\"start\" x=\"130\" y=\"-1427.8\" font-family=\"Times,serif\" font-size=\"14.00\">sys[1, 1]</text>\n<polygon fill=\"none\" stroke=\"black\" points=\"118.5,-1400 118.5,-1421 189.5,-1421 189.5,-1400 118.5,-1400\"/>\n<text text-anchor=\"start\" x=\"130\" y=\"-1406.8\" font-family=\"Times,serif\" font-size=\"14.00\">sys[1, 2]</text>\n<polygon fill=\"none\" stroke=\"black\" points=\"118.5,-1379 118.5,-1400 189.5,-1400 189.5,-1379 118.5,-1379\"/>\n<text text-anchor=\"start\" x=\"130\" y=\"-1385.8\" font-family=\"Times,serif\" font-size=\"14.00\">sys[2, 0]</text>\n<polygon fill=\"none\" stroke=\"black\" points=\"118.5,-1358 118.5,-1379 189.5,-1379 189.5,-1358 118.5,-1358\"/>\n<text text-anchor=\"start\" x=\"130\" y=\"-1364.8\" font-family=\"Times,serif\" font-size=\"14.00\">sys[2, 1]</text>\n<polygon fill=\"none\" stroke=\"black\" points=\"118.5,-1337 118.5,-1358 189.5,-1358 189.5,-1337 118.5,-1337\"/>\n<text text-anchor=\"start\" x=\"130\" y=\"-1343.8\" font-family=\"Times,serif\" font-size=\"14.00\">sys[2, 2]</text>\n<polygon fill=\"none\" stroke=\"black\" points=\"118.5,-1316 118.5,-1337 189.5,-1337 189.5,-1316 118.5,-1316\"/>\n<text text-anchor=\"start\" x=\"130\" y=\"-1322.8\" font-family=\"Times,serif\" font-size=\"14.00\">sys[3, 0]</text>\n<polygon fill=\"none\" stroke=\"black\" points=\"118.5,-1295 118.5,-1316 189.5,-1316 189.5,-1295 118.5,-1295\"/>\n<text text-anchor=\"start\" x=\"130\" y=\"-1301.8\" font-family=\"Times,serif\" font-size=\"14.00\">sys[3, 1]</text>\n<polygon fill=\"none\" stroke=\"black\" points=\"118.5,-1274 118.5,-1295 189.5,-1295 189.5,-1274 118.5,-1274\"/>\n<text text-anchor=\"start\" x=\"130\" y=\"-1280.8\" font-family=\"Times,serif\" font-size=\"14.00\">sys[3, 2]</text>\n<polygon fill=\"none\" stroke=\"black\" points=\"118.5,-1253 118.5,-1274 189.5,-1274 189.5,-1253 118.5,-1253\"/>\n<text text-anchor=\"start\" x=\"130\" y=\"-1259.8\" font-family=\"Times,serif\" font-size=\"14.00\">sys[4, 0]</text>\n<polygon fill=\"none\" stroke=\"black\" points=\"118.5,-1232 118.5,-1253 189.5,-1253 189.5,-1232 118.5,-1232\"/>\n<text text-anchor=\"start\" x=\"130\" y=\"-1238.8\" font-family=\"Times,serif\" font-size=\"14.00\">sys[4, 1]</text>\n<polygon fill=\"none\" stroke=\"black\" points=\"118.5,-1211 118.5,-1232 189.5,-1232 189.5,-1211 118.5,-1211\"/>\n<text text-anchor=\"start\" x=\"130\" y=\"-1217.8\" font-family=\"Times,serif\" font-size=\"14.00\">sys[4, 2]</text>\n<polygon fill=\"none\" stroke=\"black\" points=\"118.5,-1190 118.5,-1211 189.5,-1211 189.5,-1190 118.5,-1190\"/>\n<text text-anchor=\"start\" x=\"130\" y=\"-1196.8\" font-family=\"Times,serif\" font-size=\"14.00\">sys[5, 0]</text>\n<polygon fill=\"none\" stroke=\"black\" points=\"118.5,-1169 118.5,-1190 189.5,-1190 189.5,-1169 118.5,-1169\"/>\n<text text-anchor=\"start\" x=\"130\" y=\"-1175.8\" font-family=\"Times,serif\" font-size=\"14.00\">sys[5, 1]</text>\n<polygon fill=\"none\" stroke=\"black\" points=\"118.5,-1148 118.5,-1169 189.5,-1169 189.5,-1148 118.5,-1148\"/>\n<text text-anchor=\"start\" x=\"130\" y=\"-1154.8\" font-family=\"Times,serif\" font-size=\"14.00\">sys[5, 2]</text>\n<polygon fill=\"none\" stroke=\"black\" points=\"118.5,-1127 118.5,-1148 189.5,-1148 189.5,-1127 118.5,-1127\"/>\n<text text-anchor=\"start\" x=\"130\" y=\"-1133.8\" font-family=\"Times,serif\" font-size=\"14.00\">sys[6, 0]</text>\n<polygon fill=\"none\" stroke=\"black\" points=\"118.5,-1106 118.5,-1127 189.5,-1127 189.5,-1106 118.5,-1106\"/>\n<text text-anchor=\"start\" x=\"130\" y=\"-1112.8\" font-family=\"Times,serif\" font-size=\"14.00\">sys[6, 1]</text>\n<polygon fill=\"none\" stroke=\"black\" points=\"118.5,-1085 118.5,-1106 189.5,-1106 189.5,-1085 118.5,-1085\"/>\n<text text-anchor=\"start\" x=\"130\" y=\"-1091.8\" font-family=\"Times,serif\" font-size=\"14.00\">sys[6, 2]</text>\n<polygon fill=\"none\" stroke=\"black\" points=\"118.5,-1064 118.5,-1085 189.5,-1085 189.5,-1064 118.5,-1064\"/>\n<text text-anchor=\"start\" x=\"130\" y=\"-1070.8\" font-family=\"Times,serif\" font-size=\"14.00\">sys[7, 0]</text>\n<polygon fill=\"none\" stroke=\"black\" points=\"118.5,-1043 118.5,-1064 189.5,-1064 189.5,-1043 118.5,-1043\"/>\n<text text-anchor=\"start\" x=\"130\" y=\"-1049.8\" font-family=\"Times,serif\" font-size=\"14.00\">sys[7, 1]</text>\n<polygon fill=\"none\" stroke=\"black\" points=\"118.5,-1022 118.5,-1043 189.5,-1043 189.5,-1022 118.5,-1022\"/>\n<text text-anchor=\"start\" x=\"130\" y=\"-1028.8\" font-family=\"Times,serif\" font-size=\"14.00\">sys[7, 2]</text>\n<polygon fill=\"none\" stroke=\"black\" points=\"118.5,-1001 118.5,-1022 189.5,-1022 189.5,-1001 118.5,-1001\"/>\n<text text-anchor=\"start\" x=\"130\" y=\"-1007.8\" font-family=\"Times,serif\" font-size=\"14.00\">sys[8, 0]</text>\n<polygon fill=\"none\" stroke=\"black\" points=\"118.5,-980 118.5,-1001 189.5,-1001 189.5,-980 118.5,-980\"/>\n<text text-anchor=\"start\" x=\"130\" y=\"-986.8\" font-family=\"Times,serif\" font-size=\"14.00\">sys[8, 1]</text>\n<polygon fill=\"none\" stroke=\"black\" points=\"118.5,-959 118.5,-980 189.5,-980 189.5,-959 118.5,-959\"/>\n<text text-anchor=\"start\" x=\"130\" y=\"-965.8\" font-family=\"Times,serif\" font-size=\"14.00\">sys[8, 2]</text>\n<polygon fill=\"none\" stroke=\"black\" points=\"118.5,-938 118.5,-959 189.5,-959 189.5,-938 118.5,-938\"/>\n<text text-anchor=\"start\" x=\"130\" y=\"-944.8\" font-family=\"Times,serif\" font-size=\"14.00\">sys[9, 0]</text>\n<polygon fill=\"none\" stroke=\"black\" points=\"118.5,-917 118.5,-938 189.5,-938 189.5,-917 118.5,-917\"/>\n<text text-anchor=\"start\" x=\"130\" y=\"-923.8\" font-family=\"Times,serif\" font-size=\"14.00\">sys[9, 1]</text>\n<polygon fill=\"none\" stroke=\"black\" points=\"118.5,-896 118.5,-917 189.5,-917 189.5,-896 118.5,-896\"/>\n<text text-anchor=\"start\" x=\"130\" y=\"-902.8\" font-family=\"Times,serif\" font-size=\"14.00\">sys[9, 2]</text>\n<polygon fill=\"none\" stroke=\"black\" points=\"118.5,-875 118.5,-896 189.5,-896 189.5,-875 118.5,-875\"/>\n<text text-anchor=\"start\" x=\"135\" y=\"-881.8\" font-family=\"Times,serif\" font-size=\"14.00\">proj[0]</text>\n<polygon fill=\"none\" stroke=\"black\" points=\"118.5,-854 118.5,-875 189.5,-875 189.5,-854 118.5,-854\"/>\n<text text-anchor=\"start\" x=\"135\" y=\"-860.8\" font-family=\"Times,serif\" font-size=\"14.00\">proj[1]</text>\n<polygon fill=\"none\" stroke=\"black\" points=\"118.5,-833 118.5,-854 189.5,-854 189.5,-833 118.5,-833\"/>\n<text text-anchor=\"start\" x=\"135\" y=\"-839.8\" font-family=\"Times,serif\" font-size=\"14.00\">proj[2]</text>\n</g>\n<!-- ham_ctrl_G87&#45;&gt;SelectFirstQuantizationWithProj -->\n<g id=\"edge1\" class=\"edge\">\n<title>ham_ctrl_G87:e-&gt;SelectFirstQuantizationWithProj:w</title>\n<path fill=\"none\" stroke=\"black\" d=\"M81,-2718C92.14,-2718 105.78,-1938.45 117.05,-1895.81\"/>\n<ellipse fill=\"black\" stroke=\"black\" cx=\"117.54\" cy=\"-1894.89\" rx=\"1\" ry=\"1\"/>\n<text text-anchor=\"middle\" x=\"99.5\" y=\"-2309\" font-family=\"Times,serif\" font-size=\"10.00\">1</text>\n</g>\n<!-- ham_ctrl_G144 -->\n<g id=\"node2\" class=\"node\">\n<title>ham_ctrl_G144</title>\n<text text-anchor=\"middle\" x=\"40.5\" y=\"-2660.3\" font-family=\"Times,serif\" font-size=\"14.00\">ham_ctrl[1]</text>\n</g>\n<!-- ham_ctrl_G144&#45;&gt;SelectFirstQuantizationWithProj -->\n<g id=\"edge2\" class=\"edge\">\n<title>ham_ctrl_G144:e-&gt;SelectFirstQuantizationWithProj:w</title>\n<path fill=\"none\" stroke=\"black\" d=\"M81,-2664C261.64,-2664 91.56,-2438.44 100,-2258 100.97,-2237.28 96.86,-1895.39 116.07,-1874.04\"/>\n<ellipse fill=\"black\" stroke=\"black\" cx=\"117.12\" cy=\"-1873.48\" rx=\"1\" ry=\"1\"/>\n<text text-anchor=\"middle\" x=\"99.5\" y=\"-2282\" font-family=\"Times,serif\" font-size=\"10.00\">1</text>\n</g>\n<!-- ham_ctrl_G23 -->\n<g id=\"node3\" class=\"node\">\n<title>ham_ctrl_G23</title>\n<text text-anchor=\"middle\" x=\"40.5\" y=\"-2606.3\" font-family=\"Times,serif\" font-size=\"14.00\">ham_ctrl[2]</text>\n</g>\n<!-- ham_ctrl_G23&#45;&gt;SelectFirstQuantizationWithProj -->\n<g id=\"edge3\" class=\"edge\">\n<title>ham_ctrl_G23:e-&gt;SelectFirstQuantizationWithProj:w</title>\n<path fill=\"none\" stroke=\"black\" d=\"M81,-2610C101.5,-2610 97.18,-1892.89 116.33,-1853.67\"/>\n<ellipse fill=\"black\" stroke=\"black\" cx=\"117.29\" cy=\"-1852.71\" rx=\"1\" ry=\"1\"/>\n<text text-anchor=\"middle\" x=\"99.5\" y=\"-2256\" font-family=\"Times,serif\" font-size=\"10.00\">1</text>\n</g>\n<!-- ham_ctrl_G112 -->\n<g id=\"node4\" class=\"node\">\n<title>ham_ctrl_G112</title>\n<text text-anchor=\"middle\" x=\"40.5\" y=\"-2552.3\" font-family=\"Times,serif\" font-size=\"14.00\">ham_ctrl[3]</text>\n</g>\n<!-- ham_ctrl_G112&#45;&gt;SelectFirstQuantizationWithProj -->\n<g id=\"edge4\" class=\"edge\">\n<title>ham_ctrl_G112:e-&gt;SelectFirstQuantizationWithProj:w</title>\n<path fill=\"none\" stroke=\"black\" d=\"M81,-2556C100.61,-2556 98,-1870.11 116.4,-1832.6\"/>\n<ellipse fill=\"black\" stroke=\"black\" cx=\"117.29\" cy=\"-1831.71\" rx=\"1\" ry=\"1\"/>\n<text text-anchor=\"middle\" x=\"99.5\" y=\"-2196\" font-family=\"Times,serif\" font-size=\"10.00\">1</text>\n</g>\n<!-- i_ne_j_G67 -->\n<g id=\"node5\" class=\"node\">\n<title>i_ne_j_G67</title>\n<text text-anchor=\"middle\" x=\"40.5\" y=\"-2498.3\" font-family=\"Times,serif\" font-size=\"14.00\">i_ne_j</text>\n</g>\n<!-- i_ne_j_G67&#45;&gt;SelectFirstQuantizationWithProj -->\n<g id=\"edge5\" class=\"edge\">\n<title>i_ne_j_G67:e-&gt;SelectFirstQuantizationWithProj:w</title>\n<path fill=\"none\" stroke=\"black\" d=\"M68.5,-2502C81.72,-2502 77.8,-2487.83 81,-2475 85.36,-2457.54 98.74,-1844.92 116.49,-1811.43\"/>\n<ellipse fill=\"black\" stroke=\"black\" cx=\"117.27\" cy=\"-1810.69\" rx=\"1\" ry=\"1\"/>\n<text text-anchor=\"middle\" x=\"99.5\" y=\"-2023\" font-family=\"Times,serif\" font-size=\"10.00\">1</text>\n</g>\n<!-- plus_t_G136 -->\n<g id=\"node6\" class=\"node\">\n<title>plus_t_G136</title>\n<text text-anchor=\"middle\" x=\"40.5\" y=\"-2444.3\" font-family=\"Times,serif\" font-size=\"14.00\">plus_t</text>\n</g>\n<!-- plus_t_G136&#45;&gt;SelectFirstQuantizationWithProj -->\n<g id=\"edge6\" class=\"edge\">\n<title>plus_t_G136:e-&gt;SelectFirstQuantizationWithProj:w</title>\n<path fill=\"none\" stroke=\"black\" d=\"M68.5,-2448C81.72,-2448 77.78,-2433.83 81,-2421 85.15,-2404.48 99.48,-1826.85 116.36,-1790.76\"/>\n<ellipse fill=\"black\" stroke=\"black\" cx=\"117.32\" cy=\"-1789.73\" rx=\"1\" ry=\"1\"/>\n<text text-anchor=\"middle\" x=\"99.5\" y=\"-1991\" font-family=\"Times,serif\" font-size=\"10.00\">1</text>\n</g>\n<!-- i_G45 -->\n<g id=\"node7\" class=\"node\">\n<title>i_G45</title>\n<text text-anchor=\"middle\" x=\"40.5\" y=\"-2390.3\" font-family=\"Times,serif\" font-size=\"14.00\">i</text>\n</g>\n<!-- i_G45&#45;&gt;SelectFirstQuantizationWithProj -->\n<g id=\"edge7\" class=\"edge\">\n<title>i_G45:e-&gt;SelectFirstQuantizationWithProj:w</title>\n<path fill=\"none\" stroke=\"black\" d=\"M68.5,-2394C81.72,-2394 77.76,-2379.82 81,-2367 84.96,-2351.34 100.33,-1803.87 116.44,-1769.67\"/>\n<ellipse fill=\"black\" stroke=\"black\" cx=\"117.32\" cy=\"-1768.73\" rx=\"1\" ry=\"1\"/>\n<text text-anchor=\"middle\" x=\"99.5\" y=\"-1960\" font-family=\"Times,serif\" font-size=\"10.00\">4</text>\n</g>\n<!-- j_G109 -->\n<g id=\"node8\" class=\"node\">\n<title>j_G109</title>\n<text text-anchor=\"middle\" x=\"40.5\" y=\"-2336.3\" font-family=\"Times,serif\" font-size=\"14.00\">j</text>\n</g>\n<!-- j_G109&#45;&gt;SelectFirstQuantizationWithProj -->\n<g id=\"edge8\" class=\"edge\">\n<title>j_G109:e-&gt;SelectFirstQuantizationWithProj:w</title>\n<path fill=\"none\" stroke=\"black\" d=\"M68.5,-2340C81.72,-2340 77.74,-2325.81 81,-2313 84.77,-2298.21 101.17,-1780.9 116.52,-1748.58\"/>\n<ellipse fill=\"black\" stroke=\"black\" cx=\"117.32\" cy=\"-1747.73\" rx=\"1\" ry=\"1\"/>\n<text text-anchor=\"middle\" x=\"99.5\" y=\"-1944\" font-family=\"Times,serif\" font-size=\"10.00\">4</text>\n</g>\n<!-- w_G78 -->\n<g id=\"node9\" class=\"node\">\n<title>w_G78</title>\n<text text-anchor=\"middle\" x=\"40.5\" y=\"-2282.3\" font-family=\"Times,serif\" font-size=\"14.00\">w</text>\n</g>\n<!-- w_G78&#45;&gt;SelectFirstQuantizationWithProj -->\n<g id=\"edge9\" class=\"edge\">\n<title>w_G78:e-&gt;SelectFirstQuantizationWithProj:w</title>\n<path fill=\"none\" stroke=\"black\" d=\"M68.5,-2286C81.72,-2286 77.71,-2271.81 81,-2259 84.58,-2245.07 102.02,-1757.92 116.6,-1727.49\"/>\n<ellipse fill=\"black\" stroke=\"black\" cx=\"117.31\" cy=\"-1726.73\" rx=\"1\" ry=\"1\"/>\n<text text-anchor=\"middle\" x=\"99.5\" y=\"-1912\" font-family=\"Times,serif\" font-size=\"10.00\">3</text>\n</g>\n<!-- w_mean_G52 -->\n<g id=\"node10\" class=\"node\">\n<title>w_mean_G52</title>\n<text text-anchor=\"middle\" x=\"40.5\" y=\"-2228.3\" font-family=\"Times,serif\" font-size=\"14.00\">w_mean</text>\n</g>\n<!-- w_mean_G52&#45;&gt;SelectFirstQuantizationWithProj -->\n<g id=\"edge10\" class=\"edge\">\n<title>w_mean_G52:e-&gt;SelectFirstQuantizationWithProj:w</title>\n<path fill=\"none\" stroke=\"black\" d=\"M73.5,-2232C85.95,-2232 78.86,-2217.27 81,-2205 83.31,-2191.76 102.64,-1738.61 116.51,-1706.76\"/>\n<ellipse fill=\"black\" stroke=\"black\" cx=\"117.35\" cy=\"-1705.76\" rx=\"1\" ry=\"1\"/>\n<text text-anchor=\"middle\" x=\"99.5\" y=\"-1880\" font-family=\"Times,serif\" font-size=\"10.00\">3</text>\n</g>\n<!-- r_G43 -->\n<g id=\"node11\" class=\"node\">\n<title>r_G43</title>\n<text text-anchor=\"middle\" x=\"40.5\" y=\"-2174.3\" font-family=\"Times,serif\" font-size=\"14.00\">r</text>\n</g>\n<!-- r_G43&#45;&gt;SelectFirstQuantizationWithProj -->\n<g id=\"edge11\" class=\"edge\">\n<title>r_G43:e-&gt;SelectFirstQuantizationWithProj:w</title>\n<path fill=\"none\" stroke=\"black\" d=\"M68.5,-2178C81.72,-2178 77.65,-2163.79 81,-2151 84.18,-2138.85 103.55,-1715.4 116.6,-1685.65\"/>\n<ellipse fill=\"black\" stroke=\"black\" cx=\"117.35\" cy=\"-1684.76\" rx=\"1\" ry=\"1\"/>\n<text text-anchor=\"middle\" x=\"99.5\" y=\"-1861\" font-family=\"Times,serif\" font-size=\"10.00\">8</text>\n</g>\n<!-- s_G114 -->\n<g id=\"node12\" class=\"node\">\n<title>s_G114</title>\n<text text-anchor=\"middle\" x=\"40.5\" y=\"-2120.3\" font-family=\"Times,serif\" font-size=\"14.00\">s</text>\n</g>\n<!-- s_G114&#45;&gt;SelectFirstQuantizationWithProj -->\n<g id=\"edge12\" class=\"edge\">\n<title>s_G114:e-&gt;SelectFirstQuantizationWithProj:w</title>\n<path fill=\"none\" stroke=\"black\" d=\"M68.5,-2124C81.72,-2124 77.61,-2109.78 81,-2097 83.99,-2085.72 104.39,-1692.19 116.69,-1664.53\"/>\n<ellipse fill=\"black\" stroke=\"black\" cx=\"117.35\" cy=\"-1663.76\" rx=\"1\" ry=\"1\"/>\n<text text-anchor=\"middle\" x=\"99.5\" y=\"-1827\" font-family=\"Times,serif\" font-size=\"10.00\">8</text>\n</g>\n<!-- mu_G100 -->\n<g id=\"node13\" class=\"node\">\n<title>mu_G100</title>\n<text text-anchor=\"middle\" x=\"40.5\" y=\"-2066.3\" font-family=\"Times,serif\" font-size=\"14.00\">mu</text>\n</g>\n<!-- mu_G100&#45;&gt;SelectFirstQuantizationWithProj -->\n<g id=\"edge13\" class=\"edge\">\n<title>mu_G100:e-&gt;SelectFirstQuantizationWithProj:w</title>\n<path fill=\"none\" stroke=\"black\" d=\"M68.5,-2070C81.72,-2070 77.56,-2055.77 81,-2043 83.79,-2032.62 105.05,-1671.91 116.64,-1643.74\"/>\n<ellipse fill=\"black\" stroke=\"black\" cx=\"117.38\" cy=\"-1642.79\" rx=\"1\" ry=\"1\"/>\n<text text-anchor=\"middle\" x=\"99.5\" y=\"-1806\" font-family=\"Times,serif\" font-size=\"10.00\">8</text>\n</g>\n<!-- nu_x_G49 -->\n<g id=\"node14\" class=\"node\">\n<title>nu_x_G49</title>\n<text text-anchor=\"middle\" x=\"40.5\" y=\"-2012.3\" font-family=\"Times,serif\" font-size=\"14.00\">nu_x</text>\n</g>\n<!-- nu_x_G49&#45;&gt;SelectFirstQuantizationWithProj -->\n<g id=\"edge14\" class=\"edge\">\n<title>nu_x_G49:e-&gt;SelectFirstQuantizationWithProj:w</title>\n<path fill=\"none\" stroke=\"black\" d=\"M68.5,-2016C81.72,-2016 77.51,-2001.76 81,-1989 83.6,-1979.48 105.88,-1648.44 116.74,-1622.6\"/>\n<ellipse fill=\"black\" stroke=\"black\" cx=\"117.38\" cy=\"-1621.78\" rx=\"1\" ry=\"1\"/>\n<text text-anchor=\"middle\" x=\"99.5\" y=\"-1771\" font-family=\"Times,serif\" font-size=\"10.00\">9</text>\n</g>\n<!-- nu_y_G66 -->\n<g id=\"node15\" class=\"node\">\n<title>nu_y_G66</title>\n<text text-anchor=\"middle\" x=\"40.5\" y=\"-1958.3\" font-family=\"Times,serif\" font-size=\"14.00\">nu_y</text>\n</g>\n<!-- nu_y_G66&#45;&gt;SelectFirstQuantizationWithProj -->\n<g id=\"edge15\" class=\"edge\">\n<title>nu_y_G66:e-&gt;SelectFirstQuantizationWithProj:w</title>\n<path fill=\"none\" stroke=\"black\" d=\"M68.5,-1962C81.72,-1962 77.45,-1947.74 81,-1935 83.41,-1926.37 106.52,-1627.43 116.71,-1601.75\"/>\n<ellipse fill=\"black\" stroke=\"black\" cx=\"117.41\" cy=\"-1600.81\" rx=\"1\" ry=\"1\"/>\n<text text-anchor=\"middle\" x=\"99.5\" y=\"-1737\" font-family=\"Times,serif\" font-size=\"10.00\">9</text>\n</g>\n<!-- nu_z_G76 -->\n<g id=\"node16\" class=\"node\">\n<title>nu_z_G76</title>\n<text text-anchor=\"middle\" x=\"40.5\" y=\"-1904.3\" font-family=\"Times,serif\" font-size=\"14.00\">nu_z</text>\n</g>\n<!-- nu_z_G76&#45;&gt;SelectFirstQuantizationWithProj -->\n<g id=\"edge16\" class=\"edge\">\n<title>nu_z_G76:e-&gt;SelectFirstQuantizationWithProj:w</title>\n<path fill=\"none\" stroke=\"black\" d=\"M68.5,-1908C81.72,-1908 77.37,-1893.72 81,-1881 83.21,-1873.25 107.14,-1605.92 116.7,-1580.88\"/>\n<ellipse fill=\"black\" stroke=\"black\" cx=\"117.43\" cy=\"-1579.82\" rx=\"1\" ry=\"1\"/>\n<text text-anchor=\"middle\" x=\"99.5\" y=\"-1712\" font-family=\"Times,serif\" font-size=\"10.00\">9</text>\n</g>\n<!-- m_G33 -->\n<g id=\"node17\" class=\"node\">\n<title>m_G33</title>\n<text text-anchor=\"middle\" x=\"40.5\" y=\"-1850.3\" font-family=\"Times,serif\" font-size=\"14.00\">m</text>\n</g>\n<!-- m_G33&#45;&gt;SelectFirstQuantizationWithProj -->\n<g id=\"edge17\" class=\"edge\">\n<title>m_G33:e-&gt;SelectFirstQuantizationWithProj:w</title>\n<path fill=\"none\" stroke=\"black\" d=\"M68.5,-1854C81.72,-1854 77.28,-1839.69 81,-1827 83.02,-1820.1 107.95,-1581.98 116.81,-1559.67\"/>\n<ellipse fill=\"black\" stroke=\"black\" cx=\"117.42\" cy=\"-1558.82\" rx=\"1\" ry=\"1\"/>\n<text text-anchor=\"middle\" x=\"99.5\" y=\"-1676\" font-family=\"Times,serif\" font-size=\"10.00\">8</text>\n</g>\n<!-- l_G137 -->\n<g id=\"node18\" class=\"node\">\n<title>l_G137</title>\n<text text-anchor=\"middle\" x=\"40.5\" y=\"-1796.3\" font-family=\"Times,serif\" font-size=\"14.00\">l</text>\n</g>\n<!-- l_G137&#45;&gt;SelectFirstQuantizationWithProj -->\n<g id=\"edge18\" class=\"edge\">\n<title>l_G137:e-&gt;SelectFirstQuantizationWithProj:w</title>\n<path fill=\"none\" stroke=\"black\" d=\"M68.5,-1800C81.72,-1800 77.16,-1785.65 81,-1773 81.91,-1770 111.2,-1561.78 117.2,-1539.01\"/>\n<ellipse fill=\"black\" stroke=\"black\" cx=\"117.63\" cy=\"-1537.93\" rx=\"1\" ry=\"1\"/>\n<text text-anchor=\"middle\" x=\"99.5\" y=\"-1649\" font-family=\"Times,serif\" font-size=\"10.00\">4</text>\n</g>\n<!-- sys_G30 -->\n<g id=\"node19\" class=\"node\">\n<title>sys_G30</title>\n<text text-anchor=\"middle\" x=\"40.5\" y=\"-1742.3\" font-family=\"Times,serif\" font-size=\"14.00\">sys[0, 0]</text>\n</g>\n<!-- sys_G30&#45;&gt;SelectFirstQuantizationWithProj -->\n<g id=\"edge19\" class=\"edge\">\n<title>sys_G30:e-&gt;SelectFirstQuantizationWithProj:w</title>\n<path fill=\"none\" stroke=\"black\" d=\"M73.5,-1746C85.95,-1746 77.99,-1731.08 81,-1719 90.46,-1681.02 92.8,-1671.48 100,-1633 104.71,-1607.85 92.4,-1520.94 115.93,-1516.2\"/>\n<ellipse fill=\"black\" stroke=\"black\" cx=\"117\" cy=\"-1516.1\" rx=\"1\" ry=\"1\"/>\n<text text-anchor=\"middle\" x=\"99.5\" y=\"-1640\" font-family=\"Times,serif\" font-size=\"10.00\">6</text>\n</g>\n<!-- sys_G115 -->\n<g id=\"node20\" class=\"node\">\n<title>sys_G115</title>\n<text text-anchor=\"middle\" x=\"40.5\" y=\"-1688.3\" font-family=\"Times,serif\" font-size=\"14.00\">sys[0, 1]</text>\n</g>\n<!-- sys_G115&#45;&gt;SelectFirstQuantizationWithProj -->\n<g id=\"edge20\" class=\"edge\">\n<title>sys_G115:e-&gt;SelectFirstQuantizationWithProj:w</title>\n<path fill=\"none\" stroke=\"black\" d=\"M73.5,-1692C105.52,-1692 91.86,-1655.97 100,-1625 107.21,-1597.57 89.83,-1500.51 115.71,-1495.22\"/>\n<ellipse fill=\"black\" stroke=\"black\" cx=\"117\" cy=\"-1495.1\" rx=\"1\" ry=\"1\"/>\n<text text-anchor=\"middle\" x=\"99.5\" y=\"-1631\" font-family=\"Times,serif\" font-size=\"10.00\">6</text>\n</g>\n<!-- sys_G89 -->\n<g id=\"node21\" class=\"node\">\n<title>sys_G89</title>\n<text text-anchor=\"middle\" x=\"40.5\" y=\"-1634.3\" font-family=\"Times,serif\" font-size=\"14.00\">sys[0, 2]</text>\n</g>\n<!-- sys_G89&#45;&gt;SelectFirstQuantizationWithProj -->\n<g id=\"edge21\" class=\"edge\">\n<title>sys_G89:e-&gt;SelectFirstQuantizationWithProj:w</title>\n<path fill=\"none\" stroke=\"black\" d=\"M73.5,-1638C148.29,-1638 44.54,-1477.19 115.84,-1474.05\"/>\n<ellipse fill=\"black\" stroke=\"black\" cx=\"117\" cy=\"-1474.02\" rx=\"1\" ry=\"1\"/>\n<text text-anchor=\"middle\" x=\"99.5\" y=\"-1623\" font-family=\"Times,serif\" font-size=\"10.00\">6</text>\n</g>\n<!-- sys_G99 -->\n<g id=\"node22\" class=\"node\">\n<title>sys_G99</title>\n<text text-anchor=\"middle\" x=\"40.5\" y=\"-1580.3\" font-family=\"Times,serif\" font-size=\"14.00\">sys[1, 0]</text>\n</g>\n<!-- sys_G99&#45;&gt;SelectFirstQuantizationWithProj -->\n<g id=\"edge22\" class=\"edge\">\n<title>sys_G99:e-&gt;SelectFirstQuantizationWithProj:w</title>\n<path fill=\"none\" stroke=\"black\" d=\"M73.5,-1584C134.27,-1584 58.33,-1456.05 115.9,-1453.05\"/>\n<ellipse fill=\"black\" stroke=\"black\" cx=\"117\" cy=\"-1453.03\" rx=\"1\" ry=\"1\"/>\n<text text-anchor=\"middle\" x=\"99.5\" y=\"-1462\" font-family=\"Times,serif\" font-size=\"10.00\">6</text>\n</g>\n<!-- sys_G148 -->\n<g id=\"node23\" class=\"node\">\n<title>sys_G148</title>\n<text text-anchor=\"middle\" x=\"40.5\" y=\"-1526.3\" font-family=\"Times,serif\" font-size=\"14.00\">sys[1, 1]</text>\n</g>\n<!-- sys_G148&#45;&gt;SelectFirstQuantizationWithProj -->\n<g id=\"edge23\" class=\"edge\">\n<title>sys_G148:e-&gt;SelectFirstQuantizationWithProj:w</title>\n<path fill=\"none\" stroke=\"black\" d=\"M73.5,-1530C120.59,-1530 71.74,-1435.04 115.83,-1432.07\"/>\n<ellipse fill=\"black\" stroke=\"black\" cx=\"117\" cy=\"-1432.03\" rx=\"1\" ry=\"1\"/>\n<text text-anchor=\"middle\" x=\"99.5\" y=\"-1445\" font-family=\"Times,serif\" font-size=\"10.00\">6</text>\n</g>\n<!-- sys_G68 -->\n<g id=\"node24\" class=\"node\">\n<title>sys_G68</title>\n<text text-anchor=\"middle\" x=\"40.5\" y=\"-1472.3\" font-family=\"Times,serif\" font-size=\"14.00\">sys[1, 2]</text>\n</g>\n<!-- sys_G68&#45;&gt;SelectFirstQuantizationWithProj -->\n<g id=\"edge24\" class=\"edge\">\n<title>sys_G68:e-&gt;SelectFirstQuantizationWithProj:w</title>\n<path fill=\"none\" stroke=\"black\" d=\"M73.5,-1476C107.69,-1476 84.15,-1414.01 115.64,-1411.11\"/>\n<ellipse fill=\"black\" stroke=\"black\" cx=\"117\" cy=\"-1411.04\" rx=\"1\" ry=\"1\"/>\n<text text-anchor=\"middle\" x=\"99.5\" y=\"-1429\" font-family=\"Times,serif\" font-size=\"10.00\">6</text>\n</g>\n<!-- sys_G88 -->\n<g id=\"node25\" class=\"node\">\n<title>sys_G88</title>\n<text text-anchor=\"middle\" x=\"40.5\" y=\"-1418.3\" font-family=\"Times,serif\" font-size=\"14.00\">sys[2, 0]</text>\n</g>\n<!-- sys_G88&#45;&gt;SelectFirstQuantizationWithProj -->\n<g id=\"edge25\" class=\"edge\">\n<title>sys_G88:e-&gt;SelectFirstQuantizationWithProj:w</title>\n<path fill=\"none\" stroke=\"black\" d=\"M73.5,-1422C97.1,-1422 93.88,-1391.97 115.8,-1390.09\"/>\n<ellipse fill=\"black\" stroke=\"black\" cx=\"117\" cy=\"-1390.04\" rx=\"1\" ry=\"1\"/>\n<text text-anchor=\"middle\" x=\"99.5\" y=\"-1403\" font-family=\"Times,serif\" font-size=\"10.00\">6</text>\n</g>\n<!-- sys_G146 -->\n<g id=\"node26\" class=\"node\">\n<title>sys_G146</title>\n<text text-anchor=\"middle\" x=\"40.5\" y=\"-1364.3\" font-family=\"Times,serif\" font-size=\"14.00\">sys[2, 1]</text>\n</g>\n<!-- sys_G146&#45;&gt;SelectFirstQuantizationWithProj -->\n<g id=\"edge26\" class=\"edge\">\n<title>sys_G146:e-&gt;SelectFirstQuantizationWithProj:w</title>\n<path fill=\"none\" stroke=\"black\" d=\"M73.5,-1368C92.51,-1368 97.81,-1368 115.75,-1368\"/>\n<ellipse fill=\"black\" stroke=\"black\" cx=\"117\" cy=\"-1368\" rx=\"1\" ry=\"1\"/>\n<text text-anchor=\"middle\" x=\"99.5\" y=\"-1371\" font-family=\"Times,serif\" font-size=\"10.00\">6</text>\n</g>\n<!-- sys_G25 -->\n<g id=\"node27\" class=\"node\">\n<title>sys_G25</title>\n<text text-anchor=\"middle\" x=\"40.5\" y=\"-1310.3\" font-family=\"Times,serif\" font-size=\"14.00\">sys[2, 2]</text>\n</g>\n<!-- sys_G25&#45;&gt;SelectFirstQuantizationWithProj -->\n<g id=\"edge27\" class=\"edge\">\n<title>sys_G25:e-&gt;SelectFirstQuantizationWithProj:w</title>\n<path fill=\"none\" stroke=\"black\" d=\"M73.5,-1314C97.35,-1314 93.65,-1344.97 115.78,-1346.91\"/>\n<ellipse fill=\"black\" stroke=\"black\" cx=\"117\" cy=\"-1346.96\" rx=\"1\" ry=\"1\"/>\n<text text-anchor=\"middle\" x=\"99.5\" y=\"-1339\" font-family=\"Times,serif\" font-size=\"10.00\">6</text>\n</g>\n<!-- sys_G75 -->\n<g id=\"node28\" class=\"node\">\n<title>sys_G75</title>\n<text text-anchor=\"middle\" x=\"40.5\" y=\"-1256.3\" font-family=\"Times,serif\" font-size=\"14.00\">sys[3, 0]</text>\n</g>\n<!-- sys_G75&#45;&gt;SelectFirstQuantizationWithProj -->\n<g id=\"edge28\" class=\"edge\">\n<title>sys_G75:e-&gt;SelectFirstQuantizationWithProj:w</title>\n<path fill=\"none\" stroke=\"black\" d=\"M73.5,-1260C108.19,-1260 83.62,-1323.45 116,-1325.93\"/>\n<ellipse fill=\"black\" stroke=\"black\" cx=\"117\" cy=\"-1325.96\" rx=\"1\" ry=\"1\"/>\n<text text-anchor=\"middle\" x=\"99.5\" y=\"-1314\" font-family=\"Times,serif\" font-size=\"10.00\">6</text>\n</g>\n<!-- sys_G36 -->\n<g id=\"node29\" class=\"node\">\n<title>sys_G36</title>\n<text text-anchor=\"middle\" x=\"40.5\" y=\"-1202.3\" font-family=\"Times,serif\" font-size=\"14.00\">sys[3, 1]</text>\n</g>\n<!-- sys_G36&#45;&gt;SelectFirstQuantizationWithProj -->\n<g id=\"edge29\" class=\"edge\">\n<title>sys_G36:e-&gt;SelectFirstQuantizationWithProj:w</title>\n<path fill=\"none\" stroke=\"black\" d=\"M73.5,-1206C120.99,-1206 71.36,-1301.93 115.81,-1304.93\"/>\n<ellipse fill=\"black\" stroke=\"black\" cx=\"117\" cy=\"-1304.97\" rx=\"1\" ry=\"1\"/>\n<text text-anchor=\"middle\" x=\"99.5\" y=\"-1297\" font-family=\"Times,serif\" font-size=\"10.00\">6</text>\n</g>\n<!-- sys_G86 -->\n<g id=\"node30\" class=\"node\">\n<title>sys_G86</title>\n<text text-anchor=\"middle\" x=\"40.5\" y=\"-1148.3\" font-family=\"Times,serif\" font-size=\"14.00\">sys[3, 2]</text>\n</g>\n<!-- sys_G86&#45;&gt;SelectFirstQuantizationWithProj -->\n<g id=\"edge30\" class=\"edge\">\n<title>sys_G86:e-&gt;SelectFirstQuantizationWithProj:w</title>\n<path fill=\"none\" stroke=\"black\" d=\"M73.5,-1152C134.69,-1152 57.93,-1280.92 115.88,-1283.95\"/>\n<ellipse fill=\"black\" stroke=\"black\" cx=\"117\" cy=\"-1283.97\" rx=\"1\" ry=\"1\"/>\n<text text-anchor=\"middle\" x=\"99.5\" y=\"-1279\" font-family=\"Times,serif\" font-size=\"10.00\">6</text>\n</g>\n<!-- sys_G56 -->\n<g id=\"node31\" class=\"node\">\n<title>sys_G56</title>\n<text text-anchor=\"middle\" x=\"40.5\" y=\"-1094.3\" font-family=\"Times,serif\" font-size=\"14.00\">sys[4, 0]</text>\n</g>\n<!-- sys_G56&#45;&gt;SelectFirstQuantizationWithProj -->\n<g id=\"edge31\" class=\"edge\">\n<title>sys_G56:e-&gt;SelectFirstQuantizationWithProj:w</title>\n<path fill=\"none\" stroke=\"black\" d=\"M73.5,-1098C148.71,-1098 44.13,-1259.79 115.83,-1262.95\"/>\n<ellipse fill=\"black\" stroke=\"black\" cx=\"117\" cy=\"-1262.98\" rx=\"1\" ry=\"1\"/>\n<text text-anchor=\"middle\" x=\"99.5\" y=\"-1163\" font-family=\"Times,serif\" font-size=\"10.00\">6</text>\n</g>\n<!-- sys_G20 -->\n<g id=\"node32\" class=\"node\">\n<title>sys_G20</title>\n<text text-anchor=\"middle\" x=\"40.5\" y=\"-1040.3\" font-family=\"Times,serif\" font-size=\"14.00\">sys[4, 1]</text>\n</g>\n<!-- sys_G20&#45;&gt;SelectFirstQuantizationWithProj -->\n<g id=\"edge32\" class=\"edge\">\n<title>sys_G20:e-&gt;SelectFirstQuantizationWithProj:w</title>\n<path fill=\"none\" stroke=\"black\" d=\"M73.5,-1044C85.95,-1044 77.96,-1058.92 81,-1071 90.35,-1108.12 91.9,-1117.59 100,-1155 104.01,-1173.54 98.7,-1236.78 115.8,-1241.7\"/>\n<ellipse fill=\"black\" stroke=\"black\" cx=\"117.01\" cy=\"-1241.86\" rx=\"1\" ry=\"1\"/>\n<text text-anchor=\"middle\" x=\"99.5\" y=\"-1158\" font-family=\"Times,serif\" font-size=\"10.00\">6</text>\n</g>\n<!-- sys_G3 -->\n<g id=\"node33\" class=\"node\">\n<title>sys_G3</title>\n<text text-anchor=\"middle\" x=\"40.5\" y=\"-986.3\" font-family=\"Times,serif\" font-size=\"14.00\">sys[4, 2]</text>\n</g>\n<!-- sys_G3&#45;&gt;SelectFirstQuantizationWithProj -->\n<g id=\"edge33\" class=\"edge\">\n<title>sys_G3:e-&gt;SelectFirstQuantizationWithProj:w</title>\n<path fill=\"none\" stroke=\"black\" d=\"M73.5,-990C85.96,-990 103.22,-1199.85 116.13,-1219.52\"/>\n<ellipse fill=\"black\" stroke=\"black\" cx=\"117.21\" cy=\"-1220.38\" rx=\"1\" ry=\"1\"/>\n<text text-anchor=\"middle\" x=\"99.5\" y=\"-1135\" font-family=\"Times,serif\" font-size=\"10.00\">6</text>\n</g>\n<!-- sys_G8 -->\n<g id=\"node34\" class=\"node\">\n<title>sys_G8</title>\n<text text-anchor=\"middle\" x=\"40.5\" y=\"-932.3\" font-family=\"Times,serif\" font-size=\"14.00\">sys[5, 0]</text>\n</g>\n<!-- sys_G8&#45;&gt;SelectFirstQuantizationWithProj -->\n<g id=\"edge34\" class=\"edge\">\n<title>sys_G8:e-&gt;SelectFirstQuantizationWithProj:w</title>\n<path fill=\"none\" stroke=\"black\" d=\"M73.5,-936C87.79,-936 101.97,-1179.78 116.26,-1198.82\"/>\n<ellipse fill=\"black\" stroke=\"black\" cx=\"117.17\" cy=\"-1199.44\" rx=\"1\" ry=\"1\"/>\n<text text-anchor=\"middle\" x=\"99.5\" y=\"-1102\" font-family=\"Times,serif\" font-size=\"10.00\">6</text>\n</g>\n<!-- sys_G93 -->\n<g id=\"node35\" class=\"node\">\n<title>sys_G93</title>\n<text text-anchor=\"middle\" x=\"40.5\" y=\"-878.3\" font-family=\"Times,serif\" font-size=\"14.00\">sys[5, 1]</text>\n</g>\n<!-- sys_G93&#45;&gt;SelectFirstQuantizationWithProj -->\n<g id=\"edge35\" class=\"edge\">\n<title>sys_G93:e-&gt;SelectFirstQuantizationWithProj:w</title>\n<path fill=\"none\" stroke=\"black\" d=\"M73.5,-882C89.6,-882 100.53,-1158.48 116.26,-1177.92\"/>\n<ellipse fill=\"black\" stroke=\"black\" cx=\"117.15\" cy=\"-1178.47\" rx=\"1\" ry=\"1\"/>\n<text text-anchor=\"middle\" x=\"99.5\" y=\"-1077\" font-family=\"Times,serif\" font-size=\"10.00\">6</text>\n</g>\n<!-- sys_G70 -->\n<g id=\"node36\" class=\"node\">\n<title>sys_G70</title>\n<text text-anchor=\"middle\" x=\"40.5\" y=\"-824.3\" font-family=\"Times,serif\" font-size=\"14.00\">sys[5, 2]</text>\n</g>\n<!-- sys_G70&#45;&gt;SelectFirstQuantizationWithProj -->\n<g id=\"edge36\" class=\"edge\">\n<title>sys_G70:e-&gt;SelectFirstQuantizationWithProj:w</title>\n<path fill=\"none\" stroke=\"black\" d=\"M73.5,-828C91.35,-828 98.96,-1135.2 116.09,-1156.81\"/>\n<ellipse fill=\"black\" stroke=\"black\" cx=\"117.15\" cy=\"-1157.47\" rx=\"1\" ry=\"1\"/>\n<text text-anchor=\"middle\" x=\"99.5\" y=\"-1044\" font-family=\"Times,serif\" font-size=\"10.00\">6</text>\n</g>\n<!-- sys_G2 -->\n<g id=\"node37\" class=\"node\">\n<title>sys_G2</title>\n<text text-anchor=\"middle\" x=\"40.5\" y=\"-770.3\" font-family=\"Times,serif\" font-size=\"14.00\">sys[6, 0]</text>\n</g>\n<!-- sys_G2&#45;&gt;SelectFirstQuantizationWithProj -->\n<g id=\"edge37\" class=\"edge\">\n<title>sys_G2:e-&gt;SelectFirstQuantizationWithProj:w</title>\n<path fill=\"none\" stroke=\"black\" d=\"M73.5,-774C93.18,-774 97.42,-1114.67 116.14,-1135.96\"/>\n<ellipse fill=\"black\" stroke=\"black\" cx=\"117.13\" cy=\"-1136.51\" rx=\"1\" ry=\"1\"/>\n<text text-anchor=\"middle\" x=\"99.5\" y=\"-1012\" font-family=\"Times,serif\" font-size=\"10.00\">6</text>\n</g>\n<!-- sys_G40 -->\n<g id=\"node38\" class=\"node\">\n<title>sys_G40</title>\n<text text-anchor=\"middle\" x=\"40.5\" y=\"-716.3\" font-family=\"Times,serif\" font-size=\"14.00\">sys[6, 1]</text>\n</g>\n<!-- sys_G40&#45;&gt;SelectFirstQuantizationWithProj -->\n<g id=\"edge38\" class=\"edge\">\n<title>sys_G40:e-&gt;SelectFirstQuantizationWithProj:w</title>\n<path fill=\"none\" stroke=\"black\" d=\"M73.5,-720C94.95,-720 95.83,-1091.64 115.99,-1114.86\"/>\n<ellipse fill=\"black\" stroke=\"black\" cx=\"117.13\" cy=\"-1115.51\" rx=\"1\" ry=\"1\"/>\n<text text-anchor=\"middle\" x=\"99.5\" y=\"-990\" font-family=\"Times,serif\" font-size=\"10.00\">6</text>\n</g>\n<!-- sys_G7 -->\n<g id=\"node39\" class=\"node\">\n<title>sys_G7</title>\n<text text-anchor=\"middle\" x=\"40.5\" y=\"-662.3\" font-family=\"Times,serif\" font-size=\"14.00\">sys[6, 2]</text>\n</g>\n<!-- sys_G7&#45;&gt;SelectFirstQuantizationWithProj -->\n<g id=\"edge39\" class=\"edge\">\n<title>sys_G7:e-&gt;SelectFirstQuantizationWithProj:w</title>\n<path fill=\"none\" stroke=\"black\" d=\"M73.5,-666C96.81,-666 94.21,-1071.86 116.09,-1094.06\"/>\n<ellipse fill=\"black\" stroke=\"black\" cx=\"117.1\" cy=\"-1094.56\" rx=\"1\" ry=\"1\"/>\n<text text-anchor=\"middle\" x=\"99.5\" y=\"-959\" font-family=\"Times,serif\" font-size=\"10.00\">6</text>\n</g>\n<!-- sys_G143 -->\n<g id=\"node40\" class=\"node\">\n<title>sys_G143</title>\n<text text-anchor=\"middle\" x=\"40.5\" y=\"-608.3\" font-family=\"Times,serif\" font-size=\"14.00\">sys[7, 0]</text>\n</g>\n<!-- sys_G143&#45;&gt;SelectFirstQuantizationWithProj -->\n<g id=\"edge40\" class=\"edge\">\n<title>sys_G143:e-&gt;SelectFirstQuantizationWithProj:w</title>\n<path fill=\"none\" stroke=\"black\" d=\"M73.5,-612C98.58,-612 92.58,-1049.08 115.96,-1072.98\"/>\n<ellipse fill=\"black\" stroke=\"black\" cx=\"117.1\" cy=\"-1073.55\" rx=\"1\" ry=\"1\"/>\n<text text-anchor=\"middle\" x=\"99.5\" y=\"-940\" font-family=\"Times,serif\" font-size=\"10.00\">6</text>\n</g>\n<!-- sys_G65 -->\n<g id=\"node41\" class=\"node\">\n<title>sys_G65</title>\n<text text-anchor=\"middle\" x=\"40.5\" y=\"-554.3\" font-family=\"Times,serif\" font-size=\"14.00\">sys[7, 1]</text>\n</g>\n<!-- sys_G65&#45;&gt;SelectFirstQuantizationWithProj -->\n<g id=\"edge41\" class=\"edge\">\n<title>sys_G65:e-&gt;SelectFirstQuantizationWithProj:w</title>\n<path fill=\"none\" stroke=\"black\" d=\"M73.5,-558C100.46,-558 90.87,-1030.07 116.12,-1052.2\"/>\n<ellipse fill=\"black\" stroke=\"black\" cx=\"117.08\" cy=\"-1052.61\" rx=\"1\" ry=\"1\"/>\n<text text-anchor=\"middle\" x=\"99.5\" y=\"-909\" font-family=\"Times,serif\" font-size=\"10.00\">6</text>\n</g>\n<!-- sys_G111 -->\n<g id=\"node42\" class=\"node\">\n<title>sys_G111</title>\n<text text-anchor=\"middle\" x=\"40.5\" y=\"-500.3\" font-family=\"Times,serif\" font-size=\"14.00\">sys[7, 2]</text>\n</g>\n<!-- sys_G111&#45;&gt;SelectFirstQuantizationWithProj -->\n<g id=\"edge42\" class=\"edge\">\n<title>sys_G111:e-&gt;SelectFirstQuantizationWithProj:w</title>\n<path fill=\"none\" stroke=\"black\" d=\"M73.5,-504C102.25,-504 89.21,-1007.54 116,-1031.14\"/>\n<ellipse fill=\"black\" stroke=\"black\" cx=\"117.08\" cy=\"-1031.61\" rx=\"1\" ry=\"1\"/>\n<text text-anchor=\"middle\" x=\"99.5\" y=\"-893\" font-family=\"Times,serif\" font-size=\"10.00\">6</text>\n</g>\n<!-- sys_G133 -->\n<g id=\"node43\" class=\"node\">\n<title>sys_G133</title>\n<text text-anchor=\"middle\" x=\"40.5\" y=\"-446.3\" font-family=\"Times,serif\" font-size=\"14.00\">sys[8, 0]</text>\n</g>\n<!-- sys_G133&#45;&gt;SelectFirstQuantizationWithProj -->\n<g id=\"edge43\" class=\"edge\">\n<title>sys_G133:e-&gt;SelectFirstQuantizationWithProj:w</title>\n<path fill=\"none\" stroke=\"black\" d=\"M73.5,-450C85.95,-450 78.89,-464.73 81,-477 83.44,-491.2 101.92,-979.03 116.59,-1009.51\"/>\n<ellipse fill=\"black\" stroke=\"black\" cx=\"117.31\" cy=\"-1010.27\" rx=\"1\" ry=\"1\"/>\n<text text-anchor=\"middle\" x=\"99.5\" y=\"-830\" font-family=\"Times,serif\" font-size=\"10.00\">6</text>\n</g>\n<!-- sys_G96 -->\n<g id=\"node44\" class=\"node\">\n<title>sys_G96</title>\n<text text-anchor=\"middle\" x=\"40.5\" y=\"-392.3\" font-family=\"Times,serif\" font-size=\"14.00\">sys[8, 1]</text>\n</g>\n<!-- sys_G96&#45;&gt;SelectFirstQuantizationWithProj -->\n<g id=\"edge44\" class=\"edge\">\n<title>sys_G96:e-&gt;SelectFirstQuantizationWithProj:w</title>\n<path fill=\"none\" stroke=\"black\" d=\"M73.5,-396C85.95,-396 78.92,-410.72 81,-423 83.56,-438.07 101.07,-956.06 116.51,-988.42\"/>\n<ellipse fill=\"black\" stroke=\"black\" cx=\"117.32\" cy=\"-989.27\" rx=\"1\" ry=\"1\"/>\n<text text-anchor=\"middle\" x=\"99.5\" y=\"-813\" font-family=\"Times,serif\" font-size=\"10.00\">6</text>\n</g>\n<!-- sys_G142 -->\n<g id=\"node45\" class=\"node\">\n<title>sys_G142</title>\n<text text-anchor=\"middle\" x=\"40.5\" y=\"-338.3\" font-family=\"Times,serif\" font-size=\"14.00\">sys[8, 2]</text>\n</g>\n<!-- sys_G142&#45;&gt;SelectFirstQuantizationWithProj -->\n<g id=\"edge45\" class=\"edge\">\n<title>sys_G142:e-&gt;SelectFirstQuantizationWithProj:w</title>\n<path fill=\"none\" stroke=\"black\" d=\"M73.5,-342C85.95,-342 78.94,-356.72 81,-369 83.68,-384.95 100.22,-933.08 116.43,-967.33\"/>\n<ellipse fill=\"black\" stroke=\"black\" cx=\"117.32\" cy=\"-968.27\" rx=\"1\" ry=\"1\"/>\n<text text-anchor=\"middle\" x=\"99.5\" y=\"-782\" font-family=\"Times,serif\" font-size=\"10.00\">6</text>\n</g>\n<!-- sys_G116 -->\n<g id=\"node46\" class=\"node\">\n<title>sys_G116</title>\n<text text-anchor=\"middle\" x=\"40.5\" y=\"-284.3\" font-family=\"Times,serif\" font-size=\"14.00\">sys[9, 0]</text>\n</g>\n<!-- sys_G116&#45;&gt;SelectFirstQuantizationWithProj -->\n<g id=\"edge46\" class=\"edge\">\n<title>sys_G116:e-&gt;SelectFirstQuantizationWithProj:w</title>\n<path fill=\"none\" stroke=\"black\" d=\"M73.5,-288C85.95,-288 78.96,-302.71 81,-315 83.8,-331.83 99.37,-910.11 116.35,-946.23\"/>\n<ellipse fill=\"black\" stroke=\"black\" cx=\"117.32\" cy=\"-947.27\" rx=\"1\" ry=\"1\"/>\n<text text-anchor=\"middle\" x=\"99.5\" y=\"-768\" font-family=\"Times,serif\" font-size=\"10.00\">6</text>\n</g>\n<!-- sys_G83 -->\n<g id=\"node47\" class=\"node\">\n<title>sys_G83</title>\n<text text-anchor=\"middle\" x=\"40.5\" y=\"-230.3\" font-family=\"Times,serif\" font-size=\"14.00\">sys[9, 1]</text>\n</g>\n<!-- sys_G83&#45;&gt;SelectFirstQuantizationWithProj -->\n<g id=\"edge47\" class=\"edge\">\n<title>sys_G83:e-&gt;SelectFirstQuantizationWithProj:w</title>\n<path fill=\"none\" stroke=\"black\" d=\"M73.5,-234C85.95,-234 78.98,-248.71 81,-261 82.46,-269.86 107.12,-886.58 117.08,-925.12\"/>\n<ellipse fill=\"black\" stroke=\"black\" cx=\"117.56\" cy=\"-926.1\" rx=\"1\" ry=\"1\"/>\n<text text-anchor=\"middle\" x=\"99.5\" y=\"-659\" font-family=\"Times,serif\" font-size=\"10.00\">6</text>\n</g>\n<!-- sys_G128 -->\n<g id=\"node48\" class=\"node\">\n<title>sys_G128</title>\n<text text-anchor=\"middle\" x=\"40.5\" y=\"-176.3\" font-family=\"Times,serif\" font-size=\"14.00\">sys[9, 2]</text>\n</g>\n<!-- sys_G128&#45;&gt;SelectFirstQuantizationWithProj -->\n<g id=\"edge48\" class=\"edge\">\n<title>sys_G128:e-&gt;SelectFirstQuantizationWithProj:w</title>\n<path fill=\"none\" stroke=\"black\" d=\"M73.5,-180C85.95,-180 78.99,-194.71 81,-207 82.52,-216.29 106.69,-863.58 117.04,-904.02\"/>\n<ellipse fill=\"black\" stroke=\"black\" cx=\"117.56\" cy=\"-905.1\" rx=\"1\" ry=\"1\"/>\n<text text-anchor=\"middle\" x=\"99.5\" y=\"-625\" font-family=\"Times,serif\" font-size=\"10.00\">6</text>\n</g>\n<!-- proj_G97 -->\n<g id=\"node49\" class=\"node\">\n<title>proj_G97</title>\n<text text-anchor=\"middle\" x=\"40.5\" y=\"-122.3\" font-family=\"Times,serif\" font-size=\"14.00\">proj[0]</text>\n</g>\n<!-- proj_G97&#45;&gt;SelectFirstQuantizationWithProj -->\n<g id=\"edge49\" class=\"edge\">\n<title>proj_G97:e-&gt;SelectFirstQuantizationWithProj:w</title>\n<path fill=\"none\" stroke=\"black\" d=\"M68.5,-126C81.72,-126 77.83,-140.16 81,-153 83.36,-162.57 106.32,-840.56 117.01,-882.93\"/>\n<ellipse fill=\"black\" stroke=\"black\" cx=\"117.57\" cy=\"-884.1\" rx=\"1\" ry=\"1\"/>\n<text text-anchor=\"middle\" x=\"99.5\" y=\"-590\" font-family=\"Times,serif\" font-size=\"10.00\">8</text>\n</g>\n<!-- proj_G0 -->\n<g id=\"node50\" class=\"node\">\n<title>proj_G0</title>\n<text text-anchor=\"middle\" x=\"40.5\" y=\"-68.3\" font-family=\"Times,serif\" font-size=\"14.00\">proj[1]</text>\n</g>\n<!-- proj_G0&#45;&gt;SelectFirstQuantizationWithProj -->\n<g id=\"edge50\" class=\"edge\">\n<title>proj_G0:e-&gt;SelectFirstQuantizationWithProj:w</title>\n<path fill=\"none\" stroke=\"black\" d=\"M68.5,-72C81.72,-72 77.84,-86.16 81,-99 83.46,-109.01 105.89,-817.56 116.97,-861.83\"/>\n<ellipse fill=\"black\" stroke=\"black\" cx=\"117.57\" cy=\"-863.1\" rx=\"1\" ry=\"1\"/>\n<text text-anchor=\"middle\" x=\"99.5\" y=\"-556\" font-family=\"Times,serif\" font-size=\"10.00\">8</text>\n</g>\n<!-- proj_G37 -->\n<g id=\"node51\" class=\"node\">\n<title>proj_G37</title>\n<text text-anchor=\"middle\" x=\"40.5\" y=\"-14.3\" font-family=\"Times,serif\" font-size=\"14.00\">proj[2]</text>\n</g>\n<!-- proj_G37&#45;&gt;SelectFirstQuantizationWithProj -->\n<g id=\"edge51\" class=\"edge\">\n<title>proj_G37:e-&gt;SelectFirstQuantizationWithProj:w</title>\n<path fill=\"none\" stroke=\"black\" d=\"M68.5,-18C81.72,-18 77.86,-32.16 81,-45 83.55,-55.44 105.47,-794.56 116.93,-840.74\"/>\n<ellipse fill=\"black\" stroke=\"black\" cx=\"117.57\" cy=\"-842.1\" rx=\"1\" ry=\"1\"/>\n<text text-anchor=\"middle\" x=\"99.5\" y=\"-522\" font-family=\"Times,serif\" font-size=\"10.00\">8</text>\n</g>\n<!-- ham_ctrl_G63 -->\n<g id=\"node53\" class=\"node\">\n<title>ham_ctrl_G63</title>\n<text text-anchor=\"middle\" x=\"266.5\" y=\"-2714.3\" font-family=\"Times,serif\" font-size=\"14.00\">ham_ctrl[0]</text>\n</g>\n<!-- SelectFirstQuantizationWithProj&#45;&gt;ham_ctrl_G63 -->\n<g id=\"edge52\" class=\"edge\">\n<title>SelectFirstQuantizationWithProj:e-&gt;ham_ctrl_G63:w</title>\n<path fill=\"none\" stroke=\"black\" d=\"M189,-1894C200.14,-1894 213.78,-2673.55 225.05,-2716.19\"/>\n<ellipse fill=\"black\" stroke=\"black\" cx=\"225.54\" cy=\"-2717.11\" rx=\"1\" ry=\"1\"/>\n<text text-anchor=\"middle\" x=\"207.5\" y=\"-2309\" font-family=\"Times,serif\" font-size=\"10.00\">1</text>\n</g>\n<!-- ham_ctrl_G124 -->\n<g id=\"node54\" class=\"node\">\n<title>ham_ctrl_G124</title>\n<text text-anchor=\"middle\" x=\"266.5\" y=\"-2660.3\" font-family=\"Times,serif\" font-size=\"14.00\">ham_ctrl[1]</text>\n</g>\n<!-- SelectFirstQuantizationWithProj&#45;&gt;ham_ctrl_G124 -->\n<g id=\"edge53\" class=\"edge\">\n<title>SelectFirstQuantizationWithProj:e-&gt;ham_ctrl_G124:w</title>\n<path fill=\"none\" stroke=\"black\" d=\"M189,-1873C210.41,-1873 206,-2236.61 207,-2258 215.41,-2437.74 46.68,-2662.24 223.9,-2663.99\"/>\n<ellipse fill=\"black\" stroke=\"black\" cx=\"225\" cy=\"-2664\" rx=\"1\" ry=\"1\"/>\n<text text-anchor=\"middle\" x=\"207.5\" y=\"-2282\" font-family=\"Times,serif\" font-size=\"10.00\">1</text>\n</g>\n<!-- ham_ctrl_G126 -->\n<g id=\"node55\" class=\"node\">\n<title>ham_ctrl_G126</title>\n<text text-anchor=\"middle\" x=\"266.5\" y=\"-2606.3\" font-family=\"Times,serif\" font-size=\"14.00\">ham_ctrl[2]</text>\n</g>\n<!-- SelectFirstQuantizationWithProj&#45;&gt;ham_ctrl_G126 -->\n<g id=\"edge54\" class=\"edge\">\n<title>SelectFirstQuantizationWithProj:e-&gt;ham_ctrl_G126:w</title>\n<path fill=\"none\" stroke=\"black\" d=\"M189,-1852C209.5,-1852 205.18,-2569.11 224.33,-2608.33\"/>\n<ellipse fill=\"black\" stroke=\"black\" cx=\"225.29\" cy=\"-2609.29\" rx=\"1\" ry=\"1\"/>\n<text text-anchor=\"middle\" x=\"207.5\" y=\"-2256\" font-family=\"Times,serif\" font-size=\"10.00\">1</text>\n</g>\n<!-- ham_ctrl_G91 -->\n<g id=\"node56\" class=\"node\">\n<title>ham_ctrl_G91</title>\n<text text-anchor=\"middle\" x=\"266.5\" y=\"-2552.3\" font-family=\"Times,serif\" font-size=\"14.00\">ham_ctrl[3]</text>\n</g>\n<!-- SelectFirstQuantizationWithProj&#45;&gt;ham_ctrl_G91 -->\n<g id=\"edge55\" class=\"edge\">\n<title>SelectFirstQuantizationWithProj:e-&gt;ham_ctrl_G91:w</title>\n<path fill=\"none\" stroke=\"black\" d=\"M189,-1831C208.61,-1831 206,-2516.89 224.4,-2554.4\"/>\n<ellipse fill=\"black\" stroke=\"black\" cx=\"225.29\" cy=\"-2555.29\" rx=\"1\" ry=\"1\"/>\n<text text-anchor=\"middle\" x=\"207.5\" y=\"-2196\" font-family=\"Times,serif\" font-size=\"10.00\">1</text>\n</g>\n<!-- i_ne_j_G46 -->\n<g id=\"node57\" class=\"node\">\n<title>i_ne_j_G46</title>\n<text text-anchor=\"middle\" x=\"266.5\" y=\"-2498.3\" font-family=\"Times,serif\" font-size=\"14.00\">i_ne_j</text>\n</g>\n<!-- SelectFirstQuantizationWithProj&#45;&gt;i_ne_j_G46 -->\n<g id=\"edge56\" class=\"edge\">\n<title>SelectFirstQuantizationWithProj:e-&gt;i_ne_j_G46:w</title>\n<path fill=\"none\" stroke=\"black\" d=\"M189,-1810C207.5,-1810 221.52,-2457.05 226,-2475 229.03,-2487.13 225.68,-2500.45 236.48,-2501.88\"/>\n<ellipse fill=\"black\" stroke=\"black\" cx=\"237.5\" cy=\"-2501.94\" rx=\"1\" ry=\"1\"/>\n<text text-anchor=\"middle\" x=\"207.5\" y=\"-2023\" font-family=\"Times,serif\" font-size=\"10.00\">1</text>\n</g>\n<!-- plus_t_G22 -->\n<g id=\"node58\" class=\"node\">\n<title>plus_t_G22</title>\n<text text-anchor=\"middle\" x=\"266.5\" y=\"-2444.3\" font-family=\"Times,serif\" font-size=\"14.00\">plus_t</text>\n</g>\n<!-- SelectFirstQuantizationWithProj&#45;&gt;plus_t_G22 -->\n<g id=\"edge57\" class=\"edge\">\n<title>SelectFirstQuantizationWithProj:e-&gt;plus_t_G22:w</title>\n<path fill=\"none\" stroke=\"black\" d=\"M189,-1789C206.59,-1789 221.72,-2403.94 226,-2421 229.04,-2433.12 225.69,-2446.45 236.48,-2447.88\"/>\n<ellipse fill=\"black\" stroke=\"black\" cx=\"237.5\" cy=\"-2447.94\" rx=\"1\" ry=\"1\"/>\n<text text-anchor=\"middle\" x=\"207.5\" y=\"-1991\" font-family=\"Times,serif\" font-size=\"10.00\">1</text>\n</g>\n<!-- i_G29 -->\n<g id=\"node59\" class=\"node\">\n<title>i_G29</title>\n<text text-anchor=\"middle\" x=\"266.5\" y=\"-2390.3\" font-family=\"Times,serif\" font-size=\"14.00\">i</text>\n</g>\n<!-- SelectFirstQuantizationWithProj&#45;&gt;i_G29 -->\n<g id=\"edge58\" class=\"edge\">\n<title>SelectFirstQuantizationWithProj:e-&gt;i_G29:w</title>\n<path fill=\"none\" stroke=\"black\" d=\"M189,-1768C205.67,-1768 221.91,-2350.84 226,-2367 229.06,-2379.12 225.69,-2392.45 236.48,-2393.88\"/>\n<ellipse fill=\"black\" stroke=\"black\" cx=\"237.5\" cy=\"-2393.94\" rx=\"1\" ry=\"1\"/>\n<text text-anchor=\"middle\" x=\"207.5\" y=\"-1960\" font-family=\"Times,serif\" font-size=\"10.00\">4</text>\n</g>\n<!-- j_G9 -->\n<g id=\"node60\" class=\"node\">\n<title>j_G9</title>\n<text text-anchor=\"middle\" x=\"266.5\" y=\"-2336.3\" font-family=\"Times,serif\" font-size=\"14.00\">j</text>\n</g>\n<!-- SelectFirstQuantizationWithProj&#45;&gt;j_G9 -->\n<g id=\"edge59\" class=\"edge\">\n<title>SelectFirstQuantizationWithProj:e-&gt;j_G9:w</title>\n<path fill=\"none\" stroke=\"black\" d=\"M189,-1747C204.76,-1747 222.11,-2297.73 226,-2313 229.09,-2325.11 225.69,-2338.45 236.48,-2339.88\"/>\n<ellipse fill=\"black\" stroke=\"black\" cx=\"237.5\" cy=\"-2339.94\" rx=\"1\" ry=\"1\"/>\n<text text-anchor=\"middle\" x=\"207.5\" y=\"-1944\" font-family=\"Times,serif\" font-size=\"10.00\">4</text>\n</g>\n<!-- w_G132 -->\n<g id=\"node61\" class=\"node\">\n<title>w_G132</title>\n<text text-anchor=\"middle\" x=\"266.5\" y=\"-2282.3\" font-family=\"Times,serif\" font-size=\"14.00\">w</text>\n</g>\n<!-- SelectFirstQuantizationWithProj&#45;&gt;w_G132 -->\n<g id=\"edge60\" class=\"edge\">\n<title>SelectFirstQuantizationWithProj:e-&gt;w_G132:w</title>\n<path fill=\"none\" stroke=\"black\" d=\"M189,-1726C203.84,-1726 222.31,-2244.63 226,-2259 229.11,-2271.11 225.69,-2284.45 236.48,-2285.88\"/>\n<ellipse fill=\"black\" stroke=\"black\" cx=\"237.5\" cy=\"-2285.94\" rx=\"1\" ry=\"1\"/>\n<text text-anchor=\"middle\" x=\"207.5\" y=\"-1912\" font-family=\"Times,serif\" font-size=\"10.00\">3</text>\n</g>\n<!-- w_mean_G150 -->\n<g id=\"node62\" class=\"node\">\n<title>w_mean_G150</title>\n<text text-anchor=\"middle\" x=\"266.5\" y=\"-2228.3\" font-family=\"Times,serif\" font-size=\"14.00\">w_mean</text>\n</g>\n<!-- SelectFirstQuantizationWithProj&#45;&gt;w_mean_G150 -->\n<g id=\"edge61\" class=\"edge\">\n<title>SelectFirstQuantizationWithProj:e-&gt;w_mean_G150:w</title>\n<path fill=\"none\" stroke=\"black\" d=\"M189,-1705C202.93,-1705 223.61,-2191.28 226,-2205 228,-2216.5 221.9,-2230.17 231.39,-2231.83\"/>\n<ellipse fill=\"black\" stroke=\"black\" cx=\"232.5\" cy=\"-2231.92\" rx=\"1\" ry=\"1\"/>\n<text text-anchor=\"middle\" x=\"207.5\" y=\"-1880\" font-family=\"Times,serif\" font-size=\"10.00\">3</text>\n</g>\n<!-- r_G28 -->\n<g id=\"node63\" class=\"node\">\n<title>r_G28</title>\n<text text-anchor=\"middle\" x=\"266.5\" y=\"-2174.3\" font-family=\"Times,serif\" font-size=\"14.00\">r</text>\n</g>\n<!-- SelectFirstQuantizationWithProj&#45;&gt;r_G28 -->\n<g id=\"edge62\" class=\"edge\">\n<title>SelectFirstQuantizationWithProj:e-&gt;r_G28:w</title>\n<path fill=\"none\" stroke=\"black\" d=\"M189,-1684C202.01,-1684 222.7,-2138.41 226,-2151 229.17,-2163.09 225.7,-2176.45 236.48,-2177.88\"/>\n<ellipse fill=\"black\" stroke=\"black\" cx=\"237.5\" cy=\"-2177.94\" rx=\"1\" ry=\"1\"/>\n<text text-anchor=\"middle\" x=\"207.5\" y=\"-1861\" font-family=\"Times,serif\" font-size=\"10.00\">8</text>\n</g>\n<!-- s_G50 -->\n<g id=\"node64\" class=\"node\">\n<title>s_G50</title>\n<text text-anchor=\"middle\" x=\"266.5\" y=\"-2120.3\" font-family=\"Times,serif\" font-size=\"14.00\">s</text>\n</g>\n<!-- SelectFirstQuantizationWithProj&#45;&gt;s_G50 -->\n<g id=\"edge63\" class=\"edge\">\n<title>SelectFirstQuantizationWithProj:e-&gt;s_G50:w</title>\n<path fill=\"none\" stroke=\"black\" d=\"M189,-1663C201.1,-1663 222.9,-2085.31 226,-2097 229.21,-2109.08 225.7,-2122.45 236.48,-2123.87\"/>\n<ellipse fill=\"black\" stroke=\"black\" cx=\"237.5\" cy=\"-2123.94\" rx=\"1\" ry=\"1\"/>\n<text text-anchor=\"middle\" x=\"207.5\" y=\"-1827\" font-family=\"Times,serif\" font-size=\"10.00\">8</text>\n</g>\n<!-- mu_G84 -->\n<g id=\"node65\" class=\"node\">\n<title>mu_G84</title>\n<text text-anchor=\"middle\" x=\"266.5\" y=\"-2066.3\" font-family=\"Times,serif\" font-size=\"14.00\">mu</text>\n</g>\n<!-- SelectFirstQuantizationWithProj&#45;&gt;mu_G84 -->\n<g id=\"edge64\" class=\"edge\">\n<title>SelectFirstQuantizationWithProj:e-&gt;mu_G84:w</title>\n<path fill=\"none\" stroke=\"black\" d=\"M189,-1642C200.19,-1642 223.09,-2032.2 226,-2043 229.25,-2055.07 225.71,-2068.45 236.48,-2069.87\"/>\n<ellipse fill=\"black\" stroke=\"black\" cx=\"237.5\" cy=\"-2069.94\" rx=\"1\" ry=\"1\"/>\n<text text-anchor=\"middle\" x=\"207.5\" y=\"-1806\" font-family=\"Times,serif\" font-size=\"10.00\">8</text>\n</g>\n<!-- nu_x_G32 -->\n<g id=\"node66\" class=\"node\">\n<title>nu_x_G32</title>\n<text text-anchor=\"middle\" x=\"266.5\" y=\"-2012.3\" font-family=\"Times,serif\" font-size=\"14.00\">nu_x</text>\n</g>\n<!-- SelectFirstQuantizationWithProj&#45;&gt;nu_x_G32 -->\n<g id=\"edge65\" class=\"edge\">\n<title>SelectFirstQuantizationWithProj:e-&gt;nu_x_G32:w</title>\n<path fill=\"none\" stroke=\"black\" d=\"M189,-1621C199.27,-1621 223.29,-1979.09 226,-1989 229.3,-2001.06 225.71,-2014.45 236.48,-2015.87\"/>\n<ellipse fill=\"black\" stroke=\"black\" cx=\"237.5\" cy=\"-2015.94\" rx=\"1\" ry=\"1\"/>\n<text text-anchor=\"middle\" x=\"207.5\" y=\"-1771\" font-family=\"Times,serif\" font-size=\"10.00\">9</text>\n</g>\n<!-- nu_y_G13 -->\n<g id=\"node67\" class=\"node\">\n<title>nu_y_G13</title>\n<text text-anchor=\"middle\" x=\"266.5\" y=\"-1958.3\" font-family=\"Times,serif\" font-size=\"14.00\">nu_y</text>\n</g>\n<!-- SelectFirstQuantizationWithProj&#45;&gt;nu_y_G13 -->\n<g id=\"edge66\" class=\"edge\">\n<title>SelectFirstQuantizationWithProj:e-&gt;nu_y_G13:w</title>\n<path fill=\"none\" stroke=\"black\" d=\"M189,-1600C198.36,-1600 223.49,-1925.98 226,-1935 229.36,-1947.04 225.72,-1960.44 236.48,-1961.87\"/>\n<ellipse fill=\"black\" stroke=\"black\" cx=\"237.5\" cy=\"-1961.94\" rx=\"1\" ry=\"1\"/>\n<text text-anchor=\"middle\" x=\"207.5\" y=\"-1737\" font-family=\"Times,serif\" font-size=\"10.00\">9</text>\n</g>\n<!-- nu_z_G53 -->\n<g id=\"node68\" class=\"node\">\n<title>nu_z_G53</title>\n<text text-anchor=\"middle\" x=\"266.5\" y=\"-1904.3\" font-family=\"Times,serif\" font-size=\"14.00\">nu_z</text>\n</g>\n<!-- SelectFirstQuantizationWithProj&#45;&gt;nu_z_G53 -->\n<g id=\"edge67\" class=\"edge\">\n<title>SelectFirstQuantizationWithProj:e-&gt;nu_z_G53:w</title>\n<path fill=\"none\" stroke=\"black\" d=\"M189,-1579C197.45,-1579 223.68,-1872.87 226,-1881 229.43,-1893.02 225.73,-1906.44 236.48,-1907.87\"/>\n<ellipse fill=\"black\" stroke=\"black\" cx=\"237.5\" cy=\"-1907.94\" rx=\"1\" ry=\"1\"/>\n<text text-anchor=\"middle\" x=\"207.5\" y=\"-1712\" font-family=\"Times,serif\" font-size=\"10.00\">9</text>\n</g>\n<!-- m_G130 -->\n<g id=\"node69\" class=\"node\">\n<title>m_G130</title>\n<text text-anchor=\"middle\" x=\"266.5\" y=\"-1850.3\" font-family=\"Times,serif\" font-size=\"14.00\">m</text>\n</g>\n<!-- SelectFirstQuantizationWithProj&#45;&gt;m_G130 -->\n<g id=\"edge68\" class=\"edge\">\n<title>SelectFirstQuantizationWithProj:e-&gt;m_G130:w</title>\n<path fill=\"none\" stroke=\"black\" d=\"M189,-1558C196.54,-1558 223.88,-1819.76 226,-1827 229.52,-1839 225.74,-1852.44 236.48,-1853.87\"/>\n<ellipse fill=\"black\" stroke=\"black\" cx=\"237.5\" cy=\"-1853.94\" rx=\"1\" ry=\"1\"/>\n<text text-anchor=\"middle\" x=\"207.5\" y=\"-1676\" font-family=\"Times,serif\" font-size=\"10.00\">8</text>\n</g>\n<!-- l_G81 -->\n<g id=\"node70\" class=\"node\">\n<title>l_G81</title>\n<text text-anchor=\"middle\" x=\"266.5\" y=\"-1796.3\" font-family=\"Times,serif\" font-size=\"14.00\">l</text>\n</g>\n<!-- SelectFirstQuantizationWithProj&#45;&gt;l_G81 -->\n<g id=\"edge69\" class=\"edge\">\n<title>SelectFirstQuantizationWithProj:e-&gt;l_G81:w</title>\n<path fill=\"none\" stroke=\"black\" d=\"M189,-1537C192.32,-1537 225.04,-1769.83 226,-1773 229.63,-1784.96 225.75,-1798.44 236.49,-1799.87\"/>\n<ellipse fill=\"black\" stroke=\"black\" cx=\"237.5\" cy=\"-1799.94\" rx=\"1\" ry=\"1\"/>\n<text text-anchor=\"middle\" x=\"207.5\" y=\"-1649\" font-family=\"Times,serif\" font-size=\"10.00\">4</text>\n</g>\n<!-- sys_G131 -->\n<g id=\"node71\" class=\"node\">\n<title>sys_G131</title>\n<text text-anchor=\"middle\" x=\"266.5\" y=\"-1742.3\" font-family=\"Times,serif\" font-size=\"14.00\">sys[0, 0]</text>\n</g>\n<!-- SelectFirstQuantizationWithProj&#45;&gt;sys_G131 -->\n<g id=\"edge70\" class=\"edge\">\n<title>SelectFirstQuantizationWithProj:e-&gt;sys_G131:w</title>\n<path fill=\"none\" stroke=\"black\" d=\"M189,-1516C215.31,-1516 202.16,-1607.14 207,-1633 214.2,-1671.48 216.54,-1681.02 226,-1719 228.82,-1730.33 222,-1744.15 231.4,-1745.83\"/>\n<ellipse fill=\"black\" stroke=\"black\" cx=\"232.5\" cy=\"-1745.92\" rx=\"1\" ry=\"1\"/>\n<text text-anchor=\"middle\" x=\"207.5\" y=\"-1640\" font-family=\"Times,serif\" font-size=\"10.00\">6</text>\n</g>\n<!-- sys_G94 -->\n<g id=\"node72\" class=\"node\">\n<title>sys_G94</title>\n<text text-anchor=\"middle\" x=\"266.5\" y=\"-1688.3\" font-family=\"Times,serif\" font-size=\"14.00\">sys[0, 1]</text>\n</g>\n<!-- SelectFirstQuantizationWithProj&#45;&gt;sys_G94 -->\n<g id=\"edge71\" class=\"edge\">\n<title>SelectFirstQuantizationWithProj:e-&gt;sys_G94:w</title>\n<path fill=\"none\" stroke=\"black\" d=\"M189,-1495C218.16,-1495 199.58,-1596.79 207,-1625 214.95,-1655.24 202.11,-1690.31 231.32,-1691.94\"/>\n<ellipse fill=\"black\" stroke=\"black\" cx=\"232.5\" cy=\"-1691.97\" rx=\"1\" ry=\"1\"/>\n<text text-anchor=\"middle\" x=\"207.5\" y=\"-1631\" font-family=\"Times,serif\" font-size=\"10.00\">6</text>\n</g>\n<!-- sys_G74 -->\n<g id=\"node73\" class=\"node\">\n<title>sys_G74</title>\n<text text-anchor=\"middle\" x=\"266.5\" y=\"-1634.3\" font-family=\"Times,serif\" font-size=\"14.00\">sys[0, 2]</text>\n</g>\n<!-- SelectFirstQuantizationWithProj&#45;&gt;sys_G74 -->\n<g id=\"edge72\" class=\"edge\">\n<title>SelectFirstQuantizationWithProj:e-&gt;sys_G74:w</title>\n<path fill=\"none\" stroke=\"black\" d=\"M189,-1474C263.79,-1474 160.04,-1634.81 231.34,-1637.95\"/>\n<ellipse fill=\"black\" stroke=\"black\" cx=\"232.5\" cy=\"-1637.98\" rx=\"1\" ry=\"1\"/>\n<text text-anchor=\"middle\" x=\"207.5\" y=\"-1623\" font-family=\"Times,serif\" font-size=\"10.00\">6</text>\n</g>\n<!-- sys_G82 -->\n<g id=\"node74\" class=\"node\">\n<title>sys_G82</title>\n<text text-anchor=\"middle\" x=\"266.5\" y=\"-1580.3\" font-family=\"Times,serif\" font-size=\"14.00\">sys[1, 0]</text>\n</g>\n<!-- SelectFirstQuantizationWithProj&#45;&gt;sys_G82 -->\n<g id=\"edge73\" class=\"edge\">\n<title>SelectFirstQuantizationWithProj:e-&gt;sys_G82:w</title>\n<path fill=\"none\" stroke=\"black\" d=\"M189,-1453C249.77,-1453 173.83,-1580.95 231.4,-1583.95\"/>\n<ellipse fill=\"black\" stroke=\"black\" cx=\"232.5\" cy=\"-1583.97\" rx=\"1\" ry=\"1\"/>\n<text text-anchor=\"middle\" x=\"207.5\" y=\"-1462\" font-family=\"Times,serif\" font-size=\"10.00\">6</text>\n</g>\n<!-- sys_G127 -->\n<g id=\"node75\" class=\"node\">\n<title>sys_G127</title>\n<text text-anchor=\"middle\" x=\"266.5\" y=\"-1526.3\" font-family=\"Times,serif\" font-size=\"14.00\">sys[1, 1]</text>\n</g>\n<!-- SelectFirstQuantizationWithProj&#45;&gt;sys_G127 -->\n<g id=\"edge74\" class=\"edge\">\n<title>SelectFirstQuantizationWithProj:e-&gt;sys_G127:w</title>\n<path fill=\"none\" stroke=\"black\" d=\"M189,-1432C236.09,-1432 187.24,-1526.96 231.33,-1529.93\"/>\n<ellipse fill=\"black\" stroke=\"black\" cx=\"232.5\" cy=\"-1529.97\" rx=\"1\" ry=\"1\"/>\n<text text-anchor=\"middle\" x=\"207.5\" y=\"-1445\" font-family=\"Times,serif\" font-size=\"10.00\">6</text>\n</g>\n<!-- sys_G47 -->\n<g id=\"node76\" class=\"node\">\n<title>sys_G47</title>\n<text text-anchor=\"middle\" x=\"266.5\" y=\"-1472.3\" font-family=\"Times,serif\" font-size=\"14.00\">sys[1, 2]</text>\n</g>\n<!-- SelectFirstQuantizationWithProj&#45;&gt;sys_G47 -->\n<g id=\"edge75\" class=\"edge\">\n<title>SelectFirstQuantizationWithProj:e-&gt;sys_G47:w</title>\n<path fill=\"none\" stroke=\"black\" d=\"M189,-1411C223.19,-1411 199.65,-1472.99 231.14,-1475.89\"/>\n<ellipse fill=\"black\" stroke=\"black\" cx=\"232.5\" cy=\"-1475.96\" rx=\"1\" ry=\"1\"/>\n<text text-anchor=\"middle\" x=\"207.5\" y=\"-1429\" font-family=\"Times,serif\" font-size=\"10.00\">6</text>\n</g>\n<!-- sys_G64 -->\n<g id=\"node77\" class=\"node\">\n<title>sys_G64</title>\n<text text-anchor=\"middle\" x=\"266.5\" y=\"-1418.3\" font-family=\"Times,serif\" font-size=\"14.00\">sys[2, 0]</text>\n</g>\n<!-- SelectFirstQuantizationWithProj&#45;&gt;sys_G64 -->\n<g id=\"edge76\" class=\"edge\">\n<title>SelectFirstQuantizationWithProj:e-&gt;sys_G64:w</title>\n<path fill=\"none\" stroke=\"black\" d=\"M189,-1390C212.6,-1390 209.38,-1420.03 231.3,-1421.91\"/>\n<ellipse fill=\"black\" stroke=\"black\" cx=\"232.5\" cy=\"-1421.96\" rx=\"1\" ry=\"1\"/>\n<text text-anchor=\"middle\" x=\"207.5\" y=\"-1403\" font-family=\"Times,serif\" font-size=\"10.00\">6</text>\n</g>\n<!-- sys_G85 -->\n<g id=\"node78\" class=\"node\">\n<title>sys_G85</title>\n<text text-anchor=\"middle\" x=\"266.5\" y=\"-1364.3\" font-family=\"Times,serif\" font-size=\"14.00\">sys[2, 1]</text>\n</g>\n<!-- SelectFirstQuantizationWithProj&#45;&gt;sys_G85 -->\n<g id=\"edge77\" class=\"edge\">\n<title>SelectFirstQuantizationWithProj:e-&gt;sys_G85:w</title>\n<path fill=\"none\" stroke=\"black\" d=\"M189,-1368C208.01,-1368 213.31,-1368 231.25,-1368\"/>\n<ellipse fill=\"black\" stroke=\"black\" cx=\"232.5\" cy=\"-1368\" rx=\"1\" ry=\"1\"/>\n<text text-anchor=\"middle\" x=\"207.5\" y=\"-1371\" font-family=\"Times,serif\" font-size=\"10.00\">6</text>\n</g>\n<!-- sys_G129 -->\n<g id=\"node79\" class=\"node\">\n<title>sys_G129</title>\n<text text-anchor=\"middle\" x=\"266.5\" y=\"-1310.3\" font-family=\"Times,serif\" font-size=\"14.00\">sys[2, 2]</text>\n</g>\n<!-- SelectFirstQuantizationWithProj&#45;&gt;sys_G129 -->\n<g id=\"edge78\" class=\"edge\">\n<title>SelectFirstQuantizationWithProj:e-&gt;sys_G129:w</title>\n<path fill=\"none\" stroke=\"black\" d=\"M189,-1347C212.85,-1347 209.15,-1316.03 231.28,-1314.09\"/>\n<ellipse fill=\"black\" stroke=\"black\" cx=\"232.5\" cy=\"-1314.04\" rx=\"1\" ry=\"1\"/>\n<text text-anchor=\"middle\" x=\"207.5\" y=\"-1339\" font-family=\"Times,serif\" font-size=\"10.00\">6</text>\n</g>\n<!-- sys_G51 -->\n<g id=\"node80\" class=\"node\">\n<title>sys_G51</title>\n<text text-anchor=\"middle\" x=\"266.5\" y=\"-1256.3\" font-family=\"Times,serif\" font-size=\"14.00\">sys[3, 0]</text>\n</g>\n<!-- SelectFirstQuantizationWithProj&#45;&gt;sys_G51 -->\n<g id=\"edge79\" class=\"edge\">\n<title>SelectFirstQuantizationWithProj:e-&gt;sys_G51:w</title>\n<path fill=\"none\" stroke=\"black\" d=\"M189,-1326C223.69,-1326 199.12,-1262.55 231.5,-1260.07\"/>\n<ellipse fill=\"black\" stroke=\"black\" cx=\"232.5\" cy=\"-1260.04\" rx=\"1\" ry=\"1\"/>\n<text text-anchor=\"middle\" x=\"207.5\" y=\"-1314\" font-family=\"Times,serif\" font-size=\"10.00\">6</text>\n</g>\n<!-- sys_G17 -->\n<g id=\"node81\" class=\"node\">\n<title>sys_G17</title>\n<text text-anchor=\"middle\" x=\"266.5\" y=\"-1202.3\" font-family=\"Times,serif\" font-size=\"14.00\">sys[3, 1]</text>\n</g>\n<!-- SelectFirstQuantizationWithProj&#45;&gt;sys_G17 -->\n<g id=\"edge80\" class=\"edge\">\n<title>SelectFirstQuantizationWithProj:e-&gt;sys_G17:w</title>\n<path fill=\"none\" stroke=\"black\" d=\"M189,-1305C236.49,-1305 186.86,-1209.07 231.31,-1206.07\"/>\n<ellipse fill=\"black\" stroke=\"black\" cx=\"232.5\" cy=\"-1206.03\" rx=\"1\" ry=\"1\"/>\n<text text-anchor=\"middle\" x=\"207.5\" y=\"-1297\" font-family=\"Times,serif\" font-size=\"10.00\">6</text>\n</g>\n<!-- sys_G62 -->\n<g id=\"node82\" class=\"node\">\n<title>sys_G62</title>\n<text text-anchor=\"middle\" x=\"266.5\" y=\"-1148.3\" font-family=\"Times,serif\" font-size=\"14.00\">sys[3, 2]</text>\n</g>\n<!-- SelectFirstQuantizationWithProj&#45;&gt;sys_G62 -->\n<g id=\"edge81\" class=\"edge\">\n<title>SelectFirstQuantizationWithProj:e-&gt;sys_G62:w</title>\n<path fill=\"none\" stroke=\"black\" d=\"M189,-1284C250.19,-1284 173.43,-1155.08 231.38,-1152.05\"/>\n<ellipse fill=\"black\" stroke=\"black\" cx=\"232.5\" cy=\"-1152.03\" rx=\"1\" ry=\"1\"/>\n<text text-anchor=\"middle\" x=\"207.5\" y=\"-1279\" font-family=\"Times,serif\" font-size=\"10.00\">6</text>\n</g>\n<!-- sys_G35 -->\n<g id=\"node83\" class=\"node\">\n<title>sys_G35</title>\n<text text-anchor=\"middle\" x=\"266.5\" y=\"-1094.3\" font-family=\"Times,serif\" font-size=\"14.00\">sys[4, 0]</text>\n</g>\n<!-- SelectFirstQuantizationWithProj&#45;&gt;sys_G35 -->\n<g id=\"edge82\" class=\"edge\">\n<title>SelectFirstQuantizationWithProj:e-&gt;sys_G35:w</title>\n<path fill=\"none\" stroke=\"black\" d=\"M189,-1263C264.21,-1263 159.63,-1101.21 231.33,-1098.05\"/>\n<ellipse fill=\"black\" stroke=\"black\" cx=\"232.5\" cy=\"-1098.02\" rx=\"1\" ry=\"1\"/>\n<text text-anchor=\"middle\" x=\"207.5\" y=\"-1163\" font-family=\"Times,serif\" font-size=\"10.00\">6</text>\n</g>\n<!-- sys_G5 -->\n<g id=\"node84\" class=\"node\">\n<title>sys_G5</title>\n<text text-anchor=\"middle\" x=\"266.5\" y=\"-1040.3\" font-family=\"Times,serif\" font-size=\"14.00\">sys[4, 1]</text>\n</g>\n<!-- SelectFirstQuantizationWithProj&#45;&gt;sys_G5 -->\n<g id=\"edge83\" class=\"edge\">\n<title>SelectFirstQuantizationWithProj:e-&gt;sys_G5:w</title>\n<path fill=\"none\" stroke=\"black\" d=\"M189,-1242C208.74,-1242 202.82,-1174.3 207,-1155 215.1,-1117.59 216.65,-1108.12 226,-1071 228.85,-1059.68 222,-1045.85 231.4,-1044.17\"/>\n<ellipse fill=\"black\" stroke=\"black\" cx=\"232.5\" cy=\"-1044.08\" rx=\"1\" ry=\"1\"/>\n<text text-anchor=\"middle\" x=\"207.5\" y=\"-1158\" font-family=\"Times,serif\" font-size=\"10.00\">6</text>\n</g>\n<!-- sys_G141 -->\n<g id=\"node85\" class=\"node\">\n<title>sys_G141</title>\n<text text-anchor=\"middle\" x=\"266.5\" y=\"-986.3\" font-family=\"Times,serif\" font-size=\"14.00\">sys[4, 2]</text>\n</g>\n<!-- SelectFirstQuantizationWithProj&#45;&gt;sys_G141 -->\n<g id=\"edge84\" class=\"edge\">\n<title>SelectFirstQuantizationWithProj:e-&gt;sys_G141:w</title>\n<path fill=\"none\" stroke=\"black\" d=\"M189,-1221C201.46,-1221 218.72,-1011.15 231.63,-991.48\"/>\n<ellipse fill=\"black\" stroke=\"black\" cx=\"232.71\" cy=\"-990.62\" rx=\"1\" ry=\"1\"/>\n<text text-anchor=\"middle\" x=\"207.5\" y=\"-1135\" font-family=\"Times,serif\" font-size=\"10.00\">6</text>\n</g>\n<!-- sys_G152 -->\n<g id=\"node86\" class=\"node\">\n<title>sys_G152</title>\n<text text-anchor=\"middle\" x=\"266.5\" y=\"-932.3\" font-family=\"Times,serif\" font-size=\"14.00\">sys[5, 0]</text>\n</g>\n<!-- SelectFirstQuantizationWithProj&#45;&gt;sys_G152 -->\n<g id=\"edge85\" class=\"edge\">\n<title>SelectFirstQuantizationWithProj:e-&gt;sys_G152:w</title>\n<path fill=\"none\" stroke=\"black\" d=\"M189,-1200C203.29,-1200 217.47,-956.22 231.76,-937.18\"/>\n<ellipse fill=\"black\" stroke=\"black\" cx=\"232.67\" cy=\"-936.56\" rx=\"1\" ry=\"1\"/>\n<text text-anchor=\"middle\" x=\"207.5\" y=\"-1102\" font-family=\"Times,serif\" font-size=\"10.00\">6</text>\n</g>\n<!-- sys_G77 -->\n<g id=\"node87\" class=\"node\">\n<title>sys_G77</title>\n<text text-anchor=\"middle\" x=\"266.5\" y=\"-878.3\" font-family=\"Times,serif\" font-size=\"14.00\">sys[5, 1]</text>\n</g>\n<!-- SelectFirstQuantizationWithProj&#45;&gt;sys_G77 -->\n<g id=\"edge86\" class=\"edge\">\n<title>SelectFirstQuantizationWithProj:e-&gt;sys_G77:w</title>\n<path fill=\"none\" stroke=\"black\" d=\"M189,-1179C205.1,-1179 216.03,-902.52 231.76,-883.08\"/>\n<ellipse fill=\"black\" stroke=\"black\" cx=\"232.65\" cy=\"-882.53\" rx=\"1\" ry=\"1\"/>\n<text text-anchor=\"middle\" x=\"207.5\" y=\"-1077\" font-family=\"Times,serif\" font-size=\"10.00\">6</text>\n</g>\n<!-- sys_G48 -->\n<g id=\"node88\" class=\"node\">\n<title>sys_G48</title>\n<text text-anchor=\"middle\" x=\"266.5\" y=\"-824.3\" font-family=\"Times,serif\" font-size=\"14.00\">sys[5, 2]</text>\n</g>\n<!-- SelectFirstQuantizationWithProj&#45;&gt;sys_G48 -->\n<g id=\"edge87\" class=\"edge\">\n<title>SelectFirstQuantizationWithProj:e-&gt;sys_G48:w</title>\n<path fill=\"none\" stroke=\"black\" d=\"M189,-1158C206.85,-1158 214.46,-850.8 231.59,-829.19\"/>\n<ellipse fill=\"black\" stroke=\"black\" cx=\"232.65\" cy=\"-828.53\" rx=\"1\" ry=\"1\"/>\n<text text-anchor=\"middle\" x=\"207.5\" y=\"-1044\" font-family=\"Times,serif\" font-size=\"10.00\">6</text>\n</g>\n<!-- sys_G139 -->\n<g id=\"node89\" class=\"node\">\n<title>sys_G139</title>\n<text text-anchor=\"middle\" x=\"266.5\" y=\"-770.3\" font-family=\"Times,serif\" font-size=\"14.00\">sys[6, 0]</text>\n</g>\n<!-- SelectFirstQuantizationWithProj&#45;&gt;sys_G139 -->\n<g id=\"edge88\" class=\"edge\">\n<title>SelectFirstQuantizationWithProj:e-&gt;sys_G139:w</title>\n<path fill=\"none\" stroke=\"black\" d=\"M189,-1137C208.68,-1137 212.92,-796.33 231.64,-775.04\"/>\n<ellipse fill=\"black\" stroke=\"black\" cx=\"232.63\" cy=\"-774.49\" rx=\"1\" ry=\"1\"/>\n<text text-anchor=\"middle\" x=\"207.5\" y=\"-1012\" font-family=\"Times,serif\" font-size=\"10.00\">6</text>\n</g>\n<!-- sys_G19 -->\n<g id=\"node90\" class=\"node\">\n<title>sys_G19</title>\n<text text-anchor=\"middle\" x=\"266.5\" y=\"-716.3\" font-family=\"Times,serif\" font-size=\"14.00\">sys[6, 1]</text>\n</g>\n<!-- SelectFirstQuantizationWithProj&#45;&gt;sys_G19 -->\n<g id=\"edge89\" class=\"edge\">\n<title>SelectFirstQuantizationWithProj:e-&gt;sys_G19:w</title>\n<path fill=\"none\" stroke=\"black\" d=\"M189,-1116C210.45,-1116 211.33,-744.36 231.49,-721.14\"/>\n<ellipse fill=\"black\" stroke=\"black\" cx=\"232.63\" cy=\"-720.49\" rx=\"1\" ry=\"1\"/>\n<text text-anchor=\"middle\" x=\"207.5\" y=\"-990\" font-family=\"Times,serif\" font-size=\"10.00\">6</text>\n</g>\n<!-- sys_G106 -->\n<g id=\"node91\" class=\"node\">\n<title>sys_G106</title>\n<text text-anchor=\"middle\" x=\"266.5\" y=\"-662.3\" font-family=\"Times,serif\" font-size=\"14.00\">sys[6, 2]</text>\n</g>\n<!-- SelectFirstQuantizationWithProj&#45;&gt;sys_G106 -->\n<g id=\"edge90\" class=\"edge\">\n<title>SelectFirstQuantizationWithProj:e-&gt;sys_G106:w</title>\n<path fill=\"none\" stroke=\"black\" d=\"M189,-1095C212.31,-1095 209.71,-689.14 231.59,-666.94\"/>\n<ellipse fill=\"black\" stroke=\"black\" cx=\"232.6\" cy=\"-666.44\" rx=\"1\" ry=\"1\"/>\n<text text-anchor=\"middle\" x=\"207.5\" y=\"-959\" font-family=\"Times,serif\" font-size=\"10.00\">6</text>\n</g>\n<!-- sys_G123 -->\n<g id=\"node92\" class=\"node\">\n<title>sys_G123</title>\n<text text-anchor=\"middle\" x=\"266.5\" y=\"-608.3\" font-family=\"Times,serif\" font-size=\"14.00\">sys[7, 0]</text>\n</g>\n<!-- SelectFirstQuantizationWithProj&#45;&gt;sys_G123 -->\n<g id=\"edge91\" class=\"edge\">\n<title>SelectFirstQuantizationWithProj:e-&gt;sys_G123:w</title>\n<path fill=\"none\" stroke=\"black\" d=\"M189,-1074C214.08,-1074 208.08,-636.92 231.46,-613.02\"/>\n<ellipse fill=\"black\" stroke=\"black\" cx=\"232.6\" cy=\"-612.45\" rx=\"1\" ry=\"1\"/>\n<text text-anchor=\"middle\" x=\"207.5\" y=\"-940\" font-family=\"Times,serif\" font-size=\"10.00\">6</text>\n</g>\n<!-- sys_G44 -->\n<g id=\"node93\" class=\"node\">\n<title>sys_G44</title>\n<text text-anchor=\"middle\" x=\"266.5\" y=\"-554.3\" font-family=\"Times,serif\" font-size=\"14.00\">sys[7, 1]</text>\n</g>\n<!-- SelectFirstQuantizationWithProj&#45;&gt;sys_G44 -->\n<g id=\"edge92\" class=\"edge\">\n<title>SelectFirstQuantizationWithProj:e-&gt;sys_G44:w</title>\n<path fill=\"none\" stroke=\"black\" d=\"M189,-1053C215.96,-1053 206.37,-580.93 231.62,-558.8\"/>\n<ellipse fill=\"black\" stroke=\"black\" cx=\"232.58\" cy=\"-558.39\" rx=\"1\" ry=\"1\"/>\n<text text-anchor=\"middle\" x=\"207.5\" y=\"-909\" font-family=\"Times,serif\" font-size=\"10.00\">6</text>\n</g>\n<!-- sys_G90 -->\n<g id=\"node94\" class=\"node\">\n<title>sys_G90</title>\n<text text-anchor=\"middle\" x=\"266.5\" y=\"-500.3\" font-family=\"Times,serif\" font-size=\"14.00\">sys[7, 2]</text>\n</g>\n<!-- SelectFirstQuantizationWithProj&#45;&gt;sys_G90 -->\n<g id=\"edge93\" class=\"edge\">\n<title>SelectFirstQuantizationWithProj:e-&gt;sys_G90:w</title>\n<path fill=\"none\" stroke=\"black\" d=\"M189,-1032C217.75,-1032 204.71,-528.46 231.5,-504.86\"/>\n<ellipse fill=\"black\" stroke=\"black\" cx=\"232.58\" cy=\"-504.39\" rx=\"1\" ry=\"1\"/>\n<text text-anchor=\"middle\" x=\"207.5\" y=\"-893\" font-family=\"Times,serif\" font-size=\"10.00\">6</text>\n</g>\n<!-- sys_G110 -->\n<g id=\"node95\" class=\"node\">\n<title>sys_G110</title>\n<text text-anchor=\"middle\" x=\"266.5\" y=\"-446.3\" font-family=\"Times,serif\" font-size=\"14.00\">sys[8, 0]</text>\n</g>\n<!-- SelectFirstQuantizationWithProj&#45;&gt;sys_G110 -->\n<g id=\"edge94\" class=\"edge\">\n<title>SelectFirstQuantizationWithProj:e-&gt;sys_G110:w</title>\n<path fill=\"none\" stroke=\"black\" d=\"M189,-1011C203.87,-1011 223.48,-491.65 226,-477 227.98,-465.49 221.89,-451.83 231.39,-450.17\"/>\n<ellipse fill=\"black\" stroke=\"black\" cx=\"232.5\" cy=\"-450.08\" rx=\"1\" ry=\"1\"/>\n<text text-anchor=\"middle\" x=\"207.5\" y=\"-830\" font-family=\"Times,serif\" font-size=\"10.00\">6</text>\n</g>\n<!-- sys_G79 -->\n<g id=\"node96\" class=\"node\">\n<title>sys_G79</title>\n<text text-anchor=\"middle\" x=\"266.5\" y=\"-392.3\" font-family=\"Times,serif\" font-size=\"14.00\">sys[8, 1]</text>\n</g>\n<!-- SelectFirstQuantizationWithProj&#45;&gt;sys_G79 -->\n<g id=\"edge95\" class=\"edge\">\n<title>SelectFirstQuantizationWithProj:e-&gt;sys_G79:w</title>\n<path fill=\"none\" stroke=\"black\" d=\"M189,-990C204.78,-990 223.36,-438.56 226,-423 227.95,-411.49 221.89,-397.83 231.39,-396.17\"/>\n<ellipse fill=\"black\" stroke=\"black\" cx=\"232.5\" cy=\"-396.08\" rx=\"1\" ry=\"1\"/>\n<text text-anchor=\"middle\" x=\"207.5\" y=\"-813\" font-family=\"Times,serif\" font-size=\"10.00\">6</text>\n</g>\n<!-- sys_G122 -->\n<g id=\"node97\" class=\"node\">\n<title>sys_G122</title>\n<text text-anchor=\"middle\" x=\"266.5\" y=\"-338.3\" font-family=\"Times,serif\" font-size=\"14.00\">sys[8, 2]</text>\n</g>\n<!-- SelectFirstQuantizationWithProj&#45;&gt;sys_G122 -->\n<g id=\"edge96\" class=\"edge\">\n<title>SelectFirstQuantizationWithProj:e-&gt;sys_G122:w</title>\n<path fill=\"none\" stroke=\"black\" d=\"M189,-969C205.7,-969 223.24,-385.47 226,-369 227.93,-357.49 221.89,-343.83 231.39,-342.17\"/>\n<ellipse fill=\"black\" stroke=\"black\" cx=\"232.5\" cy=\"-342.08\" rx=\"1\" ry=\"1\"/>\n<text text-anchor=\"middle\" x=\"207.5\" y=\"-782\" font-family=\"Times,serif\" font-size=\"10.00\">6</text>\n</g>\n<!-- sys_G95 -->\n<g id=\"node98\" class=\"node\">\n<title>sys_G95</title>\n<text text-anchor=\"middle\" x=\"266.5\" y=\"-284.3\" font-family=\"Times,serif\" font-size=\"14.00\">sys[9, 0]</text>\n</g>\n<!-- SelectFirstQuantizationWithProj&#45;&gt;sys_G95 -->\n<g id=\"edge97\" class=\"edge\">\n<title>SelectFirstQuantizationWithProj:e-&gt;sys_G95:w</title>\n<path fill=\"none\" stroke=\"black\" d=\"M189,-948C206.61,-948 223.11,-332.38 226,-315 227.91,-303.48 221.88,-289.83 231.39,-288.17\"/>\n<ellipse fill=\"black\" stroke=\"black\" cx=\"232.5\" cy=\"-288.08\" rx=\"1\" ry=\"1\"/>\n<text text-anchor=\"middle\" x=\"207.5\" y=\"-768\" font-family=\"Times,serif\" font-size=\"10.00\">6</text>\n</g>\n<!-- sys_G61 -->\n<g id=\"node99\" class=\"node\">\n<title>sys_G61</title>\n<text text-anchor=\"middle\" x=\"266.5\" y=\"-230.3\" font-family=\"Times,serif\" font-size=\"14.00\">sys[9, 1]</text>\n</g>\n<!-- SelectFirstQuantizationWithProj&#45;&gt;sys_G61 -->\n<g id=\"edge98\" class=\"edge\">\n<title>SelectFirstQuantizationWithProj:e-&gt;sys_G61:w</title>\n<path fill=\"none\" stroke=\"black\" d=\"M189,-927C198.26,-927 224.49,-270.14 226,-261 227.9,-249.48 221.88,-235.83 231.39,-234.17\"/>\n<ellipse fill=\"black\" stroke=\"black\" cx=\"232.5\" cy=\"-234.08\" rx=\"1\" ry=\"1\"/>\n<text text-anchor=\"middle\" x=\"207.5\" y=\"-659\" font-family=\"Times,serif\" font-size=\"10.00\">6</text>\n</g>\n<!-- sys_G104 -->\n<g id=\"node100\" class=\"node\">\n<title>sys_G104</title>\n<text text-anchor=\"middle\" x=\"266.5\" y=\"-176.3\" font-family=\"Times,serif\" font-size=\"14.00\">sys[9, 2]</text>\n</g>\n<!-- SelectFirstQuantizationWithProj&#45;&gt;sys_G104 -->\n<g id=\"edge99\" class=\"edge\">\n<title>SelectFirstQuantizationWithProj:e-&gt;sys_G104:w</title>\n<path fill=\"none\" stroke=\"black\" d=\"M189,-906C198.72,-906 224.43,-216.59 226,-207 227.88,-195.48 221.88,-181.83 231.39,-180.17\"/>\n<ellipse fill=\"black\" stroke=\"black\" cx=\"232.5\" cy=\"-180.08\" rx=\"1\" ry=\"1\"/>\n<text text-anchor=\"middle\" x=\"207.5\" y=\"-625\" font-family=\"Times,serif\" font-size=\"10.00\">6</text>\n</g>\n<!-- proj_G80 -->\n<g id=\"node101\" class=\"node\">\n<title>proj_G80</title>\n<text text-anchor=\"middle\" x=\"266.5\" y=\"-122.3\" font-family=\"Times,serif\" font-size=\"14.00\">proj[0]</text>\n</g>\n<!-- SelectFirstQuantizationWithProj&#45;&gt;proj_G80 -->\n<g id=\"edge100\" class=\"edge\">\n<title>SelectFirstQuantizationWithProj:e-&gt;proj_G80:w</title>\n<path fill=\"none\" stroke=\"black\" d=\"M189,-885C199.18,-885 223.56,-162.88 226,-153 229,-140.86 225.68,-127.54 236.48,-126.12\"/>\n<ellipse fill=\"black\" stroke=\"black\" cx=\"237.5\" cy=\"-126.06\" rx=\"1\" ry=\"1\"/>\n<text text-anchor=\"middle\" x=\"207.5\" y=\"-590\" font-family=\"Times,serif\" font-size=\"10.00\">8</text>\n</g>\n<!-- proj_G138 -->\n<g id=\"node102\" class=\"node\">\n<title>proj_G138</title>\n<text text-anchor=\"middle\" x=\"266.5\" y=\"-68.3\" font-family=\"Times,serif\" font-size=\"14.00\">proj[1]</text>\n</g>\n<!-- SelectFirstQuantizationWithProj&#45;&gt;proj_G138 -->\n<g id=\"edge101\" class=\"edge\">\n<title>SelectFirstQuantizationWithProj:e-&gt;proj_G138:w</title>\n<path fill=\"none\" stroke=\"black\" d=\"M189,-864C199.64,-864 223.46,-109.33 226,-99 228.98,-86.86 225.68,-73.54 236.48,-72.12\"/>\n<ellipse fill=\"black\" stroke=\"black\" cx=\"237.5\" cy=\"-72.06\" rx=\"1\" ry=\"1\"/>\n<text text-anchor=\"middle\" x=\"207.5\" y=\"-556\" font-family=\"Times,serif\" font-size=\"10.00\">8</text>\n</g>\n<!-- proj_G18 -->\n<g id=\"node103\" class=\"node\">\n<title>proj_G18</title>\n<text text-anchor=\"middle\" x=\"266.5\" y=\"-14.3\" font-family=\"Times,serif\" font-size=\"14.00\">proj[2]</text>\n</g>\n<!-- SelectFirstQuantizationWithProj&#45;&gt;proj_G18 -->\n<g id=\"edge102\" class=\"edge\">\n<title>SelectFirstQuantizationWithProj:e-&gt;proj_G18:w</title>\n<path fill=\"none\" stroke=\"black\" d=\"M189,-843C200.1,-843 223.36,-55.78 226,-45 228.97,-32.86 225.68,-19.54 236.48,-18.12\"/>\n<ellipse fill=\"black\" stroke=\"black\" cx=\"237.5\" cy=\"-18.06\" rx=\"1\" ry=\"1\"/>\n<text text-anchor=\"middle\" x=\"207.5\" y=\"-522\" font-family=\"Times,serif\" font-size=\"10.00\">8</text>\n</g>\n</g>\n</svg>",
          "text/plain": "<IPython.core.display.SVG object>"
         },
         "metadata": {},
         "output_type": "display_data"
        }
       ],
       "tabbable": null,
       "tooltip": null
      }
     }
    },
    "version_major": 2,
    "version_minor": 0
   }
  }
 },
 "nbformat": 4,
 "nbformat_minor": 5
}
