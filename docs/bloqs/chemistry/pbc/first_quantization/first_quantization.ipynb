{
 "cells": [
  {
   "cell_type": "markdown",
   "id": "dafff26c",
   "metadata": {
    "cq.autogen": "title_cell"
   },
   "source": [
    "# First Quantized Hamiltonian\n",
    "\n",
    "SELECT and PREPARE for the first quantized chemistry Hamiltonian.\n",
    "\n",
    "Here we assume the Born-Oppenheimer Hamiltonian and seek to simulate a\n",
    "collection of $\\eta$ electrons and $L$ static nuclei with a Hamiltonian given\n",
    "by:\n",
    "$$\n",
    "H_{BO} = T + U + V + \\frac{1}{2}\n",
    "\\sum_{\\ell\\ne\\kappa=1}^L\\frac{\\zeta_\\ell\\zeta_\\kappa}{\\lVert R_\\ell - R_\\kappa \\rVert}\n",
    "$$\n",
    "\n",
    "In the first quantized approach we assume periodic boundary conditions and use a\n",
    "plane wave Galerkin discretization.\n",
    "A plane wave basis function is given by\n",
    "$$\n",
    "\\phi_p(r) = \\frac{1}{\\sqrt{\\Omega}} e^{-i k_p\\cdot r}\n",
    "$$\n",
    "where $r$ is a position vector in real space, $\\Omega$ is the simulation cell\n",
    "volume and $k_p$ is a reciprocal lattice vector.\n",
    "In three dimensions we have\n",
    "$$\n",
    "k_p = \\frac{2\\pi p }{\\Omega}\n",
    "$$\n",
    "for $p \\in G$ and\n",
    "$$\n",
    "G = [-\\frac{N^{1/3} -\n",
    "1}{2},\\frac{N^{1/3} - 1}{2}]^3 \\subset \\mathcal{Z}^3.\n",
    "$$\n",
    "and $N$ is the total number of planewaves.\n",
    "\n",
    "With these definitions we can write the components of the Hamiltonian as:\n",
    "$$\n",
    "T = \\sum_{i}^\\eta\\sum_{p\\in G}\\frac{\\lVert k_p\\rVert^2}{2} |p\\rangle\\langle p|_i\n",
    "$$\n",
    "which defines the kinetic energy of the electrons,\n",
    "$$\n",
    "U = -\\frac{4\\pi}{\\Omega}\n",
    "\\sum_{\\ell=1}^L \\sum_{i}^\\eta\n",
    "\\sum_{p,q\\in G, p\\ne q}\n",
    "\\left(\n",
    "    \\zeta_{\\ell}\n",
    "    \\frac{e^{i k_{q-p}\\cdot R_\\ell}}{\\lVert k_{p-q}\\rVert^2}\n",
    "    |p\\rangle\\langle q|_i\n",
    "\\right)\n",
    "$$\n",
    "describes the interaction of the electrons and the nuclei, and,\n",
    "$$\n",
    "V = \\frac{2\\pi}{\\Omega}\n",
    "\\sum_{i\\ne j=1}^\\eta\n",
    "\\sum_{p,q\\in G, p\\ne q}\n",
    "\\sum_{\\nu \\in G_0}\n",
    "\\left(\n",
    "    \\frac{1}{\\lVert k_{\\nu}\\rVert^2}\n",
    "    |p + \\nu\\rangle\\langle p|_i\n",
    "    |q -\\nu\\rangle\\langle q|_i\n",
    "\\right)\n",
    "$$\n",
    "describes the electron-electron interaction. The notation $|p\\rangle\\langle p|_i$ is shorthand for\n",
    "$I_1\\otimes\\cdots\\otimes |p\\rangle \\langle p |_j \\otimes \\cdots \\otimes I_\\eta$.\n",
    "The system is represented using a set of $\\eta$ signed integer registers each of\n",
    "size $3 n_p$ where $n_p =  \\lceil \\log (N^{1/3} + 1) \\rceil$, with the factor of\n",
    "3 accounting for the 3 spatial dimensions.\n",
    "\n",
    "In the first quantized approach, fermion antisymmetry is encoded through initial\n",
    "state preparation. Spin labels are also absent and should be accounted for\n",
    "during state preparation. The cost of initial state preparation is typically\n",
    "ignored."
   ]
  },
  {
   "cell_type": "code",
   "execution_count": 1,
   "id": "a586d019",
   "metadata": {
    "cq.autogen": "top_imports"
   },
   "outputs": [],
   "source": [
    "from qualtran import Bloq, CompositeBloq, BloqBuilder, Signature, Register\n",
    "from qualtran import QBit, QInt, QUInt, QAny\n",
    "from qualtran.drawing import show_bloq, show_call_graph, show_counts_sigma\n",
    "from typing import *\n",
    "import numpy as np\n",
    "import sympy\n",
    "import cirq"
   ]
  },
  {
   "cell_type": "markdown",
   "id": "a6f00172",
   "metadata": {
    "cq.autogen": "PrepareFirstQuantization.bloq_doc.md"
   },
   "source": [
    "## `PrepareFirstQuantization`\n",
    "State preparation for the first quantized chemistry Hamiltonian.\n",
    "\n",
    "Prepares the state in Eq. 48 of the reference.\n",
    "\n",
    "#### Parameters\n",
    " - `num_bits_p`: The number of bits to represent each dimension of the momentum register.\n",
    " - `eta`: The number of electrons.\n",
    " - `num_atoms`: The number of atoms. $L$ in the reference.\n",
    " - `lambda_zeta`: sum of nuclear charges.\n",
    " - `m_param`: $\\mathcal{M}$ in the reference.\n",
    " - `num_bits_nuc_pos`: The number of bits of precision for representing the nuclear coordinates.\n",
    " - `num_bits_t`: The number of bits of precision for the state preparation over the register selecting between the different components of the Hamiltonian.\n",
    " - `num_bits_rot_aa`: The number of bits of precision for the rotation for amplitude amplification. \n",
    "\n",
    "#### Registers\n",
    " - `tuv`: Flag register for selecting between kinetic and potential terms in the Hamiltonian.\n",
    " - `uv`: Flag register for selecting between the different potential components of the Hamiltonian.\n",
    " - `i`: A register for selecting electronic registers.\n",
    " - `j`: A register for selecting electronic registers.\n",
    " - `w`: A register for selecting x, y and z components of the momentum register.\n",
    " - `r`: A register for controlling elements of the momentum register. Used for block encodiding kinetic energy operator.\n",
    " - `s`: A register for controlling elements of the momentum register. Used for block encodiding kinetic energy operator.\n",
    " - `mu`: A register used for implementing nested boxes for the momentum state preparation.\n",
    " - `nu_x`: x component of the momentum register for Coulomb potential.\n",
    " - `nu_y`: y component of the momentum register for Coulomb potential.\n",
    " - `nu_z`: z component of the momentum register for Coulomb potential.\n",
    " - `m`: an ancilla register in a uniform superposition.\n",
    " - `l`: The register for selecting the nuclei. \n",
    "\n",
    "#### References\n",
    " - [Fault-Tolerant Quantum Simulations of Chemistry in First Quantization](https://arxiv.org/abs/2105.12767). \n"
   ]
  },
  {
   "cell_type": "code",
   "execution_count": 2,
   "id": "169f3ef5",
   "metadata": {
    "cq.autogen": "PrepareFirstQuantization.bloq_doc.py"
   },
   "outputs": [],
   "source": [
    "from qualtran.bloqs.chemistry.pbc.first_quantization import PrepareFirstQuantization"
   ]
  },
  {
   "cell_type": "markdown",
   "id": "5b656d90",
   "metadata": {
    "cq.autogen": "PrepareFirstQuantization.example_instances.md"
   },
   "source": [
    "### Example Instances"
   ]
  },
  {
   "cell_type": "code",
   "execution_count": 3,
   "id": "944c62fe",
   "metadata": {
    "cq.autogen": "PrepareFirstQuantization.prep_first_quant"
   },
   "outputs": [],
   "source": [
    "num_bits_p = 6\n",
    "eta = 10\n",
    "num_atoms = 10\n",
    "lambda_zeta = 10\n",
    "prep_first_quant = PrepareFirstQuantization(num_bits_p, eta, num_atoms, lambda_zeta)\n"
   ]
  },
  {
   "cell_type": "markdown",
   "id": "5123f8bc",
   "metadata": {
    "cq.autogen": "PrepareFirstQuantization.graphical_signature.md"
   },
   "source": [
    "#### Graphical Signature"
   ]
  },
  {
   "cell_type": "code",
   "execution_count": 4,
   "id": "10a889bb",
   "metadata": {
    "cq.autogen": "PrepareFirstQuantization.graphical_signature.py"
   },
   "outputs": [
    {
     "data": {
      "application/vnd.jupyter.widget-view+json": {
       "model_id": "b449bcda431d406cb0818c50a321df73",
       "version_major": 2,
       "version_minor": 0
      },
      "text/plain": [
       "HBox(children=(Output(outputs=({'output_type': 'display_data', 'data': {'text/plain': '<IPython.core.display.M…"
      ]
     },
     "metadata": {},
     "output_type": "display_data"
    }
   ],
   "source": [
    "from qualtran.drawing import show_bloqs\n",
    "show_bloqs([prep_first_quant],\n",
    "           ['`prep_first_quant`'])"
   ]
  },
  {
   "cell_type": "markdown",
   "id": "daa98464",
   "metadata": {
    "cq.autogen": "PrepareFirstQuantization.call_graph.md"
   },
   "source": [
    "### Call Graph"
   ]
  },
  {
   "cell_type": "code",
   "execution_count": 5,
   "id": "6423a637",
   "metadata": {
    "cq.autogen": "PrepareFirstQuantization.call_graph.py"
   },
   "outputs": [
    {
     "data": {
      "image/svg+xml": [
       "<svg xmlns=\"http://www.w3.org/2000/svg\" xmlns:xlink=\"http://www.w3.org/1999/xlink\" width=\"1318pt\" height=\"131pt\" viewBox=\"0.00 0.00 1318.00 131.00\">\n",
       "<g id=\"graph0\" class=\"graph\" transform=\"scale(1 1) rotate(0) translate(4 127)\">\n",
       "<title>counts</title>\n",
       "<polygon fill=\"white\" stroke=\"transparent\" points=\"-4,4 -4,-127 1314,-127 1314,4 -4,4\"/>\n",
       "<!-- b0 -->\n",
       "<g id=\"node1\" class=\"node\">\n",
       "<title>b0</title>\n",
       "<polygon fill=\"none\" stroke=\"black\" points=\"776,-123 345,-123 345,-87 776,-87 776,-123\"/>\n",
       "<text text-anchor=\"start\" x=\"492.5\" y=\"-106.8\" font-family=\"Times,serif\" font-size=\"14.00\">PrepareFirstQuantization</text>\n",
       "<text text-anchor=\"start\" x=\"353\" y=\"-96\" font-family=\"monospace\" font-size=\"10.00\">num_bits_p=6, eta=10, num_atoms=10, lambda_zeta=10, [4 addtl fields].</text>\n",
       "</g>\n",
       "<!-- b1 -->\n",
       "<g id=\"node2\" class=\"node\">\n",
       "<title>b1</title>\n",
       "<polygon fill=\"none\" stroke=\"black\" points=\"251,-36 0,-36 0,0 251,0 251,-36\"/>\n",
       "<text text-anchor=\"start\" x=\"53\" y=\"-19.8\" font-family=\"Times,serif\" font-size=\"14.00\">PrepareTFirstQuantization</text>\n",
       "<text text-anchor=\"start\" x=\"8\" y=\"-9\" font-family=\"monospace\" font-size=\"10.00\">num_bits_p=6, eta=10, num_bits_rot_aa=8</text>\n",
       "</g>\n",
       "<!-- b0&#45;&gt;b1 -->\n",
       "<g id=\"edge1\" class=\"edge\">\n",
       "<title>b0-&gt;b1</title>\n",
       "<path fill=\"none\" stroke=\"black\" d=\"M473.26,-86.95C400.74,-72.78 297.65,-52.64 222.54,-37.96\"/>\n",
       "<polygon fill=\"black\" stroke=\"black\" points=\"223.08,-34.5 212.6,-36.02 221.74,-41.37 223.08,-34.5\"/>\n",
       "<text text-anchor=\"middle\" x=\"373\" y=\"-57.8\" font-family=\"Times,serif\" font-size=\"14.00\">1</text>\n",
       "</g>\n",
       "<!-- b2 -->\n",
       "<g id=\"node3\" class=\"node\">\n",
       "<title>b2</title>\n",
       "<polygon fill=\"none\" stroke=\"black\" points=\"508,-36 269,-36 269,0 508,0 508,-36\"/>\n",
       "<text text-anchor=\"start\" x=\"277\" y=\"-19.8\" font-family=\"Times,serif\" font-size=\"14.00\">UniformSuperpostionIJFirstQuantization</text>\n",
       "<text text-anchor=\"start\" x=\"313\" y=\"-9\" font-family=\"monospace\" font-size=\"10.00\">eta=10, num_bits_rot_aa=8</text>\n",
       "</g>\n",
       "<!-- b0&#45;&gt;b2 -->\n",
       "<g id=\"edge2\" class=\"edge\">\n",
       "<title>b0-&gt;b2</title>\n",
       "<path fill=\"none\" stroke=\"black\" d=\"M525.69,-86.8C498.68,-73.45 461.07,-54.86 432.05,-40.52\"/>\n",
       "<polygon fill=\"black\" stroke=\"black\" points=\"433.48,-37.32 422.96,-36.03 430.38,-43.6 433.48,-37.32\"/>\n",
       "<text text-anchor=\"middle\" x=\"489\" y=\"-57.8\" font-family=\"Times,serif\" font-size=\"14.00\">1</text>\n",
       "</g>\n",
       "<!-- b3 -->\n",
       "<g id=\"node4\" class=\"node\">\n",
       "<title>b3</title>\n",
       "<polygon fill=\"none\" stroke=\"black\" points=\"939,-36 526,-36 526,0 939,0 939,-36\"/>\n",
       "<text text-anchor=\"start\" x=\"654.5\" y=\"-19.8\" font-family=\"Times,serif\" font-size=\"14.00\">PrepareUVFirstQuantization</text>\n",
       "<text text-anchor=\"start\" x=\"534\" y=\"-9\" font-family=\"monospace\" font-size=\"10.00\">num_bits_p=6, eta=10, num_atoms=10, m_param=256, [2 addtl fields].</text>\n",
       "</g>\n",
       "<!-- b0&#45;&gt;b3 -->\n",
       "<g id=\"edge3\" class=\"edge\">\n",
       "<title>b0-&gt;b3</title>\n",
       "<path fill=\"none\" stroke=\"black\" d=\"M595.31,-86.8C622.32,-73.45 659.93,-54.86 688.95,-40.52\"/>\n",
       "<polygon fill=\"black\" stroke=\"black\" points=\"690.62,-43.6 698.04,-36.03 687.52,-37.32 690.62,-43.6\"/>\n",
       "<text text-anchor=\"middle\" x=\"661\" y=\"-57.8\" font-family=\"Times,serif\" font-size=\"14.00\">1</text>\n",
       "</g>\n",
       "<!-- b4 -->\n",
       "<g id=\"node5\" class=\"node\">\n",
       "<title>b4</title>\n",
       "<polygon fill=\"none\" stroke=\"black\" points=\"1310,-36 957,-36 957,0 1310,0 1310,-36\"/>\n",
       "<text text-anchor=\"start\" x=\"1058.5\" y=\"-19.8\" font-family=\"Times,serif\" font-size=\"14.00\">PrepareTUVSuperpositions</text>\n",
       "<text text-anchor=\"start\" x=\"965\" y=\"-9\" font-family=\"monospace\" font-size=\"10.00\">num_bits_t=16, eta=10, lambda_zeta=10, num_bits_rot_aa=8</text>\n",
       "</g>\n",
       "<!-- b0&#45;&gt;b4 -->\n",
       "<g id=\"edge4\" class=\"edge\">\n",
       "<title>b0-&gt;b4</title>\n",
       "<path fill=\"none\" stroke=\"black\" d=\"M675.42,-86.95C771.92,-72.64 909.52,-52.23 1008.69,-37.51\"/>\n",
       "<polygon fill=\"black\" stroke=\"black\" points=\"1009.39,-40.95 1018.77,-36.02 1008.36,-34.02 1009.39,-40.95\"/>\n",
       "<text text-anchor=\"middle\" x=\"885\" y=\"-57.8\" font-family=\"Times,serif\" font-size=\"14.00\">1</text>\n",
       "</g>\n",
       "</g>\n",
       "</svg>"
      ],
      "text/plain": [
       "<IPython.core.display.SVG object>"
      ]
     },
     "metadata": {},
     "output_type": "display_data"
    },
    {
     "data": {
      "text/markdown": [
       "#### Counts totals:\n",
       " - `PrepareTFirstQuantization(num_bits_p=6, eta=10, num_bits_rot_aa=8)`: 1\n",
       " - `PrepareTUVSuperpositions(num_bits_t=16, eta=10, lambda_zeta=10, num_bits_rot_aa=8)`: 1\n",
       " - `PrepareUVFirstQuantization(num_bits_p=6, eta=10, num_atoms=10, m_param=256, lambda_zeta=10, num_bits_nuc_pos=16)`: 1\n",
       " - `UniformSuperpostionIJFirstQuantization(eta=10, num_bits_rot_aa=8)`: 1"
      ],
      "text/plain": [
       "<IPython.core.display.Markdown object>"
      ]
     },
     "metadata": {},
     "output_type": "display_data"
    }
   ],
   "source": [
    "from qualtran.resource_counting.generalizers import ignore_split_join\n",
    "prep_first_quant_g, prep_first_quant_sigma = prep_first_quant.call_graph(max_depth=1, generalizer=ignore_split_join)\n",
    "show_call_graph(prep_first_quant_g)\n",
    "show_counts_sigma(prep_first_quant_sigma)"
   ]
  },
  {
   "cell_type": "markdown",
   "id": "71e6f550",
   "metadata": {
    "cq.autogen": "SelectFirstQuantization.bloq_doc.md"
   },
   "source": [
    "## `SelectFirstQuantization`\n",
    "SELECT operation for the first quantized chemistry Hamiltonian.\n",
    "\n",
    "#### Parameters\n",
    " - `num_bits_p`: The number of bits to represent each dimension of the momentum register.\n",
    " - `eta`: The number of electrons.\n",
    " - `num_atoms`: The number of atoms. $L$ in the reference.\n",
    " - `lambda_zeta`: sum of nuclear charges.\n",
    " - `m_param`: $\\mathcal{M}$ in the reference.\n",
    " - `num_bits_nuc_pos`: The number of bits of precision for representing the nuclear coordinates.\n",
    " - `num_bits_t`: The number of bits of precision for the state preparation over the register selecting between the different components of the Hamiltonian.\n",
    " - `num_bits_rot_aa`: The number of bits of precision for the rotation for amplitude amplification. \n",
    "\n",
    "#### Registers\n",
    " - `tuv`: Flag register for selecting between kinetic and potential terms in the Hamiltonian.\n",
    " - `uv`: Flag register for selecting between the different potential components of the Hamiltonian.\n",
    " - `i_ne_j`: Register flagging $i \\ne j$\n",
    " - `plus_t`: A register prepared in the $|+\\rangle$ state.\n",
    " - `i`: A register for selecting electronic registers.\n",
    " - `j`: A register for selecting electronic registers.\n",
    " - `w`: A register for selecting x, y and z components of the momentum register.\n",
    " - `r`: A register for controlling elements of the momentum register. Used for block encodiding kinetic energy operator.\n",
    " - `s`: A register for controlling elements of the momentum register. Used for block encodiding kinetic energy operator.\n",
    " - `mu`: A register used for implementing nested boxes for the momentum state preparation.\n",
    " - `nu_x`: x component of the momentum register for Coulomb potential.\n",
    " - `nu_y`: y component of the momentum register for Coulomb potential.\n",
    " - `nu_z`: z component of the momentum register for Coulomb potential.\n",
    " - `m`: an ancilla register in a uniform superposition.\n",
    " - `l`: The register for selecting the nuclei.\n",
    " - `sys`: The system register. Will store $\\eta$ registers (x, y and z) compents of size num_bits_p. \n",
    "\n",
    "#### References\n",
    " - [Fault-Tolerant Quantum Simulations of Chemistry in First Quantization](https://arxiv.org/abs/2105.12767). \n"
   ]
  },
  {
   "cell_type": "code",
   "execution_count": 6,
   "id": "3e819c6a",
   "metadata": {
    "cq.autogen": "SelectFirstQuantization.bloq_doc.py"
   },
   "outputs": [],
   "source": [
    "from qualtran.bloqs.chemistry.pbc.first_quantization import SelectFirstQuantization"
   ]
  },
  {
   "cell_type": "markdown",
   "id": "0932ad56",
   "metadata": {
    "cq.autogen": "SelectFirstQuantization.example_instances.md"
   },
   "source": [
    "### Example Instances"
   ]
  },
  {
   "cell_type": "code",
   "execution_count": 7,
   "id": "f1368fe3",
   "metadata": {
    "cq.autogen": "SelectFirstQuantization.sel_first_quant"
   },
   "outputs": [],
   "source": [
    "num_bits_p = 6\n",
    "eta = 10\n",
    "num_atoms = 10\n",
    "lambda_zeta = 10\n",
    "sel_first_quant = SelectFirstQuantization(num_bits_p, eta, num_atoms, lambda_zeta)\n"
   ]
  },
  {
   "cell_type": "markdown",
   "id": "861b3be0",
   "metadata": {
    "cq.autogen": "SelectFirstQuantization.graphical_signature.md"
   },
   "source": [
    "#### Graphical Signature"
   ]
  },
  {
   "cell_type": "code",
   "execution_count": 8,
   "id": "c45f6a15",
   "metadata": {
    "cq.autogen": "SelectFirstQuantization.graphical_signature.py"
   },
   "outputs": [
    {
     "data": {
      "application/vnd.jupyter.widget-view+json": {
       "model_id": "cef70d93601043b7be68337ccb02872b",
       "version_major": 2,
       "version_minor": 0
      },
      "text/plain": [
       "HBox(children=(Output(outputs=({'output_type': 'display_data', 'data': {'text/plain': '<IPython.core.display.M…"
      ]
     },
     "metadata": {},
     "output_type": "display_data"
    }
   ],
   "source": [
    "from qualtran.drawing import show_bloqs\n",
    "show_bloqs([sel_first_quant],\n",
    "           ['`sel_first_quant`'])"
   ]
  },
  {
   "cell_type": "markdown",
   "id": "03d2e689",
   "metadata": {
    "cq.autogen": "SelectFirstQuantization.call_graph.md"
   },
   "source": [
    "### Call Graph"
   ]
  },
  {
   "cell_type": "code",
   "execution_count": 9,
   "id": "29b98834",
   "metadata": {
    "cq.autogen": "SelectFirstQuantization.call_graph.py"
   },
   "outputs": [
    {
     "data": {
      "image/svg+xml": [
       "<svg xmlns=\"http://www.w3.org/2000/svg\" xmlns:xlink=\"http://www.w3.org/1999/xlink\" width=\"1255pt\" height=\"131pt\" viewBox=\"0.00 0.00 1255.00 131.00\">\n",
       "<g id=\"graph0\" class=\"graph\" transform=\"scale(1 1) rotate(0) translate(4 127)\">\n",
       "<title>counts</title>\n",
       "<polygon fill=\"white\" stroke=\"transparent\" points=\"-4,4 -4,-127 1251,-127 1251,4 -4,4\"/>\n",
       "<!-- b0 -->\n",
       "<g id=\"node1\" class=\"node\">\n",
       "<title>b0</title>\n",
       "<polygon fill=\"none\" stroke=\"black\" points=\"957,-123 526,-123 526,-87 957,-87 957,-123\"/>\n",
       "<text text-anchor=\"start\" x=\"677.5\" y=\"-106.8\" font-family=\"Times,serif\" font-size=\"14.00\">SelectFirstQuantization</text>\n",
       "<text text-anchor=\"start\" x=\"534\" y=\"-96\" font-family=\"monospace\" font-size=\"10.00\">num_bits_p=6, eta=10, num_atoms=10, lambda_zeta=10, [4 addtl fields].</text>\n",
       "</g>\n",
       "<!-- b1 -->\n",
       "<g id=\"node2\" class=\"node\">\n",
       "<title>b1</title>\n",
       "<polygon fill=\"none\" stroke=\"black\" points=\"125,-36 0,-36 0,0 125,0 125,-36\"/>\n",
       "<text text-anchor=\"start\" x=\"39.5\" y=\"-19.8\" font-family=\"Times,serif\" font-size=\"14.00\">Allocate</text>\n",
       "<text text-anchor=\"start\" x=\"8\" y=\"-9\" font-family=\"monospace\" font-size=\"10.00\">dtype=QAny(bit ...</text>\n",
       "</g>\n",
       "<!-- b0&#45;&gt;b1 -->\n",
       "<g id=\"edge1\" class=\"edge\">\n",
       "<title>b0-&gt;b1</title>\n",
       "<path fill=\"none\" stroke=\"black\" d=\"M531.66,-86.98C416.84,-76.09 272.03,-59.8 134.99,-36.16\"/>\n",
       "<polygon fill=\"black\" stroke=\"black\" points=\"135.58,-32.71 125.13,-34.44 134.38,-39.6 135.58,-32.71\"/>\n",
       "<text text-anchor=\"middle\" x=\"354\" y=\"-57.8\" font-family=\"Times,serif\" font-size=\"14.00\">1</text>\n",
       "</g>\n",
       "<!-- b2 -->\n",
       "<g id=\"node3\" class=\"node\">\n",
       "<title>b2</title>\n",
       "<polygon fill=\"none\" stroke=\"black\" points=\"490,-36 143,-36 143,0 490,0 490,-36\"/>\n",
       "<text text-anchor=\"start\" x=\"242.5\" y=\"-19.8\" font-family=\"Times,serif\" font-size=\"14.00\">SelectUVFirstQuantization</text>\n",
       "<text text-anchor=\"start\" x=\"151\" y=\"-9\" font-family=\"monospace\" font-size=\"10.00\">num_bits_p=6, eta=10, num_atoms=10, num_bits_nuc_pos=16</text>\n",
       "</g>\n",
       "<!-- b0&#45;&gt;b2 -->\n",
       "<g id=\"edge2\" class=\"edge\">\n",
       "<title>b0-&gt;b2</title>\n",
       "<path fill=\"none\" stroke=\"black\" d=\"M656.26,-86.95C585.56,-72.81 485.1,-52.72 411.76,-38.05\"/>\n",
       "<polygon fill=\"black\" stroke=\"black\" points=\"412.09,-34.55 401.6,-36.02 410.72,-41.41 412.09,-34.55\"/>\n",
       "<text text-anchor=\"middle\" x=\"558\" y=\"-57.8\" font-family=\"Times,serif\" font-size=\"14.00\">1</text>\n",
       "</g>\n",
       "<!-- b3 -->\n",
       "<g id=\"node4\" class=\"node\">\n",
       "<title>b3</title>\n",
       "<polygon fill=\"none\" stroke=\"black\" points=\"660.5,-36 508.5,-36 508.5,0 660.5,0 660.5,-36\"/>\n",
       "<text text-anchor=\"start\" x=\"516.5\" y=\"-19.8\" font-family=\"Times,serif\" font-size=\"14.00\">SelectTFirstQuantization</text>\n",
       "<text text-anchor=\"start\" x=\"524\" y=\"-9\" font-family=\"monospace\" font-size=\"10.00\">num_bits_p=6, eta=10</text>\n",
       "</g>\n",
       "<!-- b0&#45;&gt;b3 -->\n",
       "<g id=\"edge3\" class=\"edge\">\n",
       "<title>b0-&gt;b3</title>\n",
       "<path fill=\"none\" stroke=\"black\" d=\"M709.73,-86.8C685.28,-73.56 651.33,-55.18 624.95,-40.9\"/>\n",
       "<polygon fill=\"black\" stroke=\"black\" points=\"626.42,-37.71 615.96,-36.03 623.08,-43.87 626.42,-37.71\"/>\n",
       "<text text-anchor=\"middle\" x=\"676\" y=\"-57.8\" font-family=\"Times,serif\" font-size=\"14.00\">1</text>\n",
       "</g>\n",
       "<!-- b4 -->\n",
       "<g id=\"node5\" class=\"node\">\n",
       "<title>b4</title>\n",
       "<polygon fill=\"none\" stroke=\"black\" points=\"804,-36 679,-36 679,0 804,0 804,-36\"/>\n",
       "<text text-anchor=\"start\" x=\"718.5\" y=\"-19.8\" font-family=\"Times,serif\" font-size=\"14.00\">Allocate</text>\n",
       "<text text-anchor=\"start\" x=\"687\" y=\"-9\" font-family=\"monospace\" font-size=\"10.00\">dtype=QAny(bit ...</text>\n",
       "</g>\n",
       "<!-- b0&#45;&gt;b4 -->\n",
       "<g id=\"edge4\" class=\"edge\">\n",
       "<title>b0-&gt;b4</title>\n",
       "<path fill=\"none\" stroke=\"black\" d=\"M741.5,-86.8C741.5,-75.16 741.5,-59.55 741.5,-46.24\"/>\n",
       "<polygon fill=\"black\" stroke=\"black\" points=\"745,-46.18 741.5,-36.18 738,-46.18 745,-46.18\"/>\n",
       "<text text-anchor=\"middle\" x=\"745\" y=\"-57.8\" font-family=\"Times,serif\" font-size=\"14.00\">6</text>\n",
       "</g>\n",
       "<!-- b5 -->\n",
       "<g id=\"node6\" class=\"node\">\n",
       "<title>b5</title>\n",
       "<polygon fill=\"none\" stroke=\"black\" points=\"947,-36 822,-36 822,0 947,0 947,-36\"/>\n",
       "<text text-anchor=\"start\" x=\"872\" y=\"-19.8\" font-family=\"Times,serif\" font-size=\"14.00\">Free</text>\n",
       "<text text-anchor=\"start\" x=\"830\" y=\"-9\" font-family=\"monospace\" font-size=\"10.00\">dtype=QAny(bit ...</text>\n",
       "</g>\n",
       "<!-- b0&#45;&gt;b5 -->\n",
       "<g id=\"edge5\" class=\"edge\">\n",
       "<title>b0-&gt;b5</title>\n",
       "<path fill=\"none\" stroke=\"black\" d=\"M770.44,-86.8C792.44,-73.72 822.89,-55.62 846.79,-41.41\"/>\n",
       "<polygon fill=\"black\" stroke=\"black\" points=\"848.8,-44.29 855.6,-36.18 845.22,-38.28 848.8,-44.29\"/>\n",
       "<text text-anchor=\"middle\" x=\"826\" y=\"-57.8\" font-family=\"Times,serif\" font-size=\"14.00\">1</text>\n",
       "</g>\n",
       "<!-- b6 -->\n",
       "<g id=\"node7\" class=\"node\">\n",
       "<title>b6</title>\n",
       "<polygon fill=\"none\" stroke=\"black\" points=\"1090,-36 965,-36 965,0 1090,0 1090,-36\"/>\n",
       "<text text-anchor=\"start\" x=\"1015\" y=\"-19.8\" font-family=\"Times,serif\" font-size=\"14.00\">Free</text>\n",
       "<text text-anchor=\"start\" x=\"973\" y=\"-9\" font-family=\"monospace\" font-size=\"10.00\">dtype=QAny(bit ...</text>\n",
       "</g>\n",
       "<!-- b0&#45;&gt;b6 -->\n",
       "<g id=\"edge6\" class=\"edge\">\n",
       "<title>b0-&gt;b6</title>\n",
       "<path fill=\"none\" stroke=\"black\" d=\"M799.03,-86.9C845.58,-73.07 911.2,-53.56 960.18,-39.01\"/>\n",
       "<polygon fill=\"black\" stroke=\"black\" points=\"961.47,-42.28 970.06,-36.07 959.48,-35.57 961.47,-42.28\"/>\n",
       "<text text-anchor=\"middle\" x=\"906\" y=\"-57.8\" font-family=\"Times,serif\" font-size=\"14.00\">6</text>\n",
       "</g>\n",
       "<!-- b7 -->\n",
       "<g id=\"node8\" class=\"node\">\n",
       "<title>b7</title>\n",
       "<polygon fill=\"none\" stroke=\"black\" points=\"1247,-36 1108,-36 1108,0 1247,0 1247,-36\"/>\n",
       "<text text-anchor=\"start\" x=\"1116\" y=\"-19.8\" font-family=\"Times,serif\" font-size=\"14.00\">MultiplexedCSwap3D</text>\n",
       "<text text-anchor=\"start\" x=\"1117\" y=\"-9\" font-family=\"monospace\" font-size=\"10.00\">num_bits_p=6, eta=10</text>\n",
       "</g>\n",
       "<!-- b0&#45;&gt;b7 -->\n",
       "<g id=\"edge7\" class=\"edge\">\n",
       "<title>b0-&gt;b7</title>\n",
       "<path fill=\"none\" stroke=\"black\" d=\"M834.08,-86.99C903.82,-74.03 1002.06,-55.47 1097.87,-36.1\"/>\n",
       "<polygon fill=\"black\" stroke=\"black\" points=\"1098.63,-39.52 1107.73,-34.11 1097.24,-32.66 1098.63,-39.52\"/>\n",
       "<text text-anchor=\"middle\" x=\"1005\" y=\"-57.8\" font-family=\"Times,serif\" font-size=\"14.00\">4</text>\n",
       "</g>\n",
       "</g>\n",
       "</svg>"
      ],
      "text/plain": [
       "<IPython.core.display.SVG object>"
      ]
     },
     "metadata": {},
     "output_type": "display_data"
    },
    {
     "data": {
      "text/markdown": [
       "#### Counts totals:\n",
       " - `Allocate(dtype=QAny(bitsize=16))`: 1\n",
       " - `Allocate(dtype=QAny(bitsize=6))`: 6\n",
       " - `Free(dtype=QAny(bitsize=16))`: 1\n",
       " - `Free(dtype=QAny(bitsize=6))`: 6\n",
       " - `MultiplexedCSwap3D(num_bits_p=6, eta=10)`: 4\n",
       " - `SelectTFirstQuantization(num_bits_p=6, eta=10)`: 1\n",
       " - `SelectUVFirstQuantization(num_bits_p=6, eta=10, num_atoms=10, num_bits_nuc_pos=16)`: 1"
      ],
      "text/plain": [
       "<IPython.core.display.Markdown object>"
      ]
     },
     "metadata": {},
     "output_type": "display_data"
    }
   ],
   "source": [
    "from qualtran.resource_counting.generalizers import ignore_split_join\n",
    "sel_first_quant_g, sel_first_quant_sigma = sel_first_quant.call_graph(max_depth=1, generalizer=ignore_split_join)\n",
    "show_call_graph(sel_first_quant_g)\n",
    "show_counts_sigma(sel_first_quant_sigma)"
   ]
  },
  {
   "cell_type": "markdown",
   "id": "2ed8c9aa",
   "metadata": {
    "cq.autogen": "PrepareTFirstQuantization.bloq_doc.md"
   },
   "source": [
    "## `PrepareTFirstQuantization`\n",
    "PREPARE for the kinetic energy operator for the first quantized chemistry Hamiltonian.\n",
    "\n",
    "This prepares the state\n",
    "\n",
    "$$\n",
    "    |+\\rangle\\sum_{j=1}^{\\eta}|j\\rangle\\sum_{w=0}^{2}|w\\rangle\n",
    "    \\sum_{r=0}^{n_{p}-2}2^{r/2}|r\\rangle\n",
    "    \\sum_{s=0}^{n_{p}-2}2^{s/2}|s\\rangle\n",
    "$$\n",
    "\n",
    "We assume that the uniform superposition over ($i$ and) $j$ has already occured via\n",
    "UniformSuperPositionIJFirstQuantization.\n",
    "\n",
    "#### Parameters\n",
    " - `num_bits_p`: The number of bits to represent each dimension of the momentum register.\n",
    " - `eta`: The number of electrons.\n",
    " - `num_bits_rot_aa`: The number of bits of precision for the single qubit rotation for amplitude amplification. Called $b_r$ in the reference. \n",
    "\n",
    "#### Registers\n",
    " - `w`: a register to index one of three components of the momenta.\n",
    " - `r`: a register encoding bits for each component of the momenta.\n",
    " - `s`: a register encoding bits for each component of the momenta. \n",
    "\n",
    "#### References\n",
    " - [Fault-Tolerant Quantum Simulations of Chemistry in First Quantization](https://arxiv.org/abs/2105.12767). page 19, section B\n"
   ]
  },
  {
   "cell_type": "code",
   "execution_count": 10,
   "id": "92be5edd",
   "metadata": {
    "cq.autogen": "PrepareTFirstQuantization.bloq_doc.py"
   },
   "outputs": [],
   "source": [
    "from qualtran.bloqs.chemistry.pbc.first_quantization.prepare_t import PrepareTFirstQuantization"
   ]
  },
  {
   "cell_type": "markdown",
   "id": "ca5b91f6",
   "metadata": {
    "cq.autogen": "PrepareTFirstQuantization.example_instances.md"
   },
   "source": [
    "### Example Instances"
   ]
  },
  {
   "cell_type": "code",
   "execution_count": 11,
   "id": "cd2c9b15",
   "metadata": {
    "cq.autogen": "PrepareTFirstQuantization.prepare_t"
   },
   "outputs": [],
   "source": [
    "num_bits_p = 5\n",
    "eta = 10\n",
    "\n",
    "prepare_t = PrepareTFirstQuantization(num_bits_p=num_bits_p, eta=eta)"
   ]
  },
  {
   "cell_type": "markdown",
   "id": "de3deb44",
   "metadata": {
    "cq.autogen": "PrepareTFirstQuantization.graphical_signature.md"
   },
   "source": [
    "#### Graphical Signature"
   ]
  },
  {
   "cell_type": "code",
   "execution_count": 12,
   "id": "3d2f5b1c",
   "metadata": {
    "cq.autogen": "PrepareTFirstQuantization.graphical_signature.py"
   },
   "outputs": [
    {
     "data": {
      "application/vnd.jupyter.widget-view+json": {
       "model_id": "9cb869e9ada647768d4760679e7e5cf1",
       "version_major": 2,
       "version_minor": 0
      },
      "text/plain": [
       "HBox(children=(Output(outputs=({'output_type': 'display_data', 'data': {'text/plain': '<IPython.core.display.M…"
      ]
     },
     "metadata": {},
     "output_type": "display_data"
    }
   ],
   "source": [
    "from qualtran.drawing import show_bloqs\n",
    "show_bloqs([prepare_t],\n",
    "           ['`prepare_t`'])"
   ]
  },
  {
   "cell_type": "markdown",
   "id": "8f3a8e09",
   "metadata": {
    "cq.autogen": "PrepareTFirstQuantization.call_graph.md"
   },
   "source": [
    "### Call Graph"
   ]
  },
  {
   "cell_type": "code",
   "execution_count": 13,
   "id": "2d5da3f7",
   "metadata": {
    "cq.autogen": "PrepareTFirstQuantization.call_graph.py"
   },
   "outputs": [
    {
     "data": {
      "image/svg+xml": [
       "<svg xmlns=\"http://www.w3.org/2000/svg\" xmlns:xlink=\"http://www.w3.org/1999/xlink\" width=\"265pt\" height=\"131pt\" viewBox=\"0.00 0.00 264.50 131.00\">\n",
       "<g id=\"graph0\" class=\"graph\" transform=\"scale(1 1) rotate(0) translate(4 127)\">\n",
       "<title>counts</title>\n",
       "<polygon fill=\"white\" stroke=\"transparent\" points=\"-4,4 -4,-127 260.5,-127 260.5,4 -4,4\"/>\n",
       "<!-- b0 -->\n",
       "<g id=\"node1\" class=\"node\">\n",
       "<title>b0</title>\n",
       "<polygon fill=\"none\" stroke=\"black\" points=\"256.5,-123 5.5,-123 5.5,-87 256.5,-87 256.5,-123\"/>\n",
       "<text text-anchor=\"start\" x=\"58.5\" y=\"-106.8\" font-family=\"Times,serif\" font-size=\"14.00\">PrepareTFirstQuantization</text>\n",
       "<text text-anchor=\"start\" x=\"13.5\" y=\"-96\" font-family=\"monospace\" font-size=\"10.00\">num_bits_p=5, eta=10, num_bits_rot_aa=8</text>\n",
       "</g>\n",
       "<!-- b1 -->\n",
       "<g id=\"node2\" class=\"node\">\n",
       "<title>b1</title>\n",
       "<polygon fill=\"none\" stroke=\"black\" points=\"144,-36 0,-36 0,0 144,0 144,-36\"/>\n",
       "<text text-anchor=\"start\" x=\"8\" y=\"-19.8\" font-family=\"Times,serif\" font-size=\"14.00\">PreparePowerTwoState</text>\n",
       "<text text-anchor=\"start\" x=\"44.5\" y=\"-9\" font-family=\"monospace\" font-size=\"10.00\">bitsize=5</text>\n",
       "</g>\n",
       "<!-- b0&#45;&gt;b1 -->\n",
       "<g id=\"edge1\" class=\"edge\">\n",
       "<title>b0-&gt;b1</title>\n",
       "<path fill=\"none\" stroke=\"black\" d=\"M119.06,-86.8C110.66,-74.7 99.28,-58.3 89.82,-44.67\"/>\n",
       "<polygon fill=\"black\" stroke=\"black\" points=\"92.5,-42.39 83.92,-36.18 86.75,-46.39 92.5,-42.39\"/>\n",
       "<text text-anchor=\"middle\" x=\"109.5\" y=\"-57.8\" font-family=\"Times,serif\" font-size=\"14.00\">2</text>\n",
       "</g>\n",
       "<!-- b2 -->\n",
       "<g id=\"node3\" class=\"node\">\n",
       "<title>b2</title>\n",
       "<polygon fill=\"none\" stroke=\"black\" points=\"217.5,-36 162.5,-36 162.5,0 217.5,0 217.5,-36\"/>\n",
       "<text text-anchor=\"start\" x=\"170.5\" y=\"-14.3\" font-family=\"Times,serif\" font-size=\"14.00\">Toffoli</text>\n",
       "</g>\n",
       "<!-- b0&#45;&gt;b2 -->\n",
       "<g id=\"edge2\" class=\"edge\">\n",
       "<title>b0-&gt;b2</title>\n",
       "<path fill=\"none\" stroke=\"black\" d=\"M142.94,-86.8C151.34,-74.7 162.72,-58.3 172.18,-44.67\"/>\n",
       "<polygon fill=\"black\" stroke=\"black\" points=\"175.25,-46.39 178.08,-36.18 169.5,-42.39 175.25,-46.39\"/>\n",
       "<text text-anchor=\"middle\" x=\"171\" y=\"-57.8\" font-family=\"Times,serif\" font-size=\"14.00\">13</text>\n",
       "</g>\n",
       "</g>\n",
       "</svg>"
      ],
      "text/plain": [
       "<IPython.core.display.SVG object>"
      ]
     },
     "metadata": {},
     "output_type": "display_data"
    },
    {
     "data": {
      "text/markdown": [
       "#### Counts totals:\n",
       " - `PreparePowerTwoState(bitsize=5)`: 2\n",
       " - `Toffoli()`: 13"
      ],
      "text/plain": [
       "<IPython.core.display.Markdown object>"
      ]
     },
     "metadata": {},
     "output_type": "display_data"
    }
   ],
   "source": [
    "from qualtran.resource_counting.generalizers import ignore_split_join\n",
    "prepare_t_g, prepare_t_sigma = prepare_t.call_graph(max_depth=1, generalizer=ignore_split_join)\n",
    "show_call_graph(prepare_t_g)\n",
    "show_counts_sigma(prepare_t_sigma)"
   ]
  },
  {
   "cell_type": "markdown",
   "id": "5bb3fb85",
   "metadata": {
    "cq.autogen": "PrepareUVFirstQuantization.bloq_doc.md"
   },
   "source": [
    "## `PrepareUVFirstQuantization`\n",
    "PREPARE the U and V parts of the Hamiltonian.\n",
    "\n",
    "#### Parameters\n",
    " - `num_bits_p`: The number of bits to represent each dimension of the momentum register.\n",
    " - `eta`: The number of electrons.\n",
    " - `num_atoms`: The number of atoms. $L$ in the reference.\n",
    " - `m_param`: $\\mathcal{M}$ in the reference.\n",
    " - `lambda_zeta`: sum of nuclear charges.\n",
    " - `num_bits_nuc_pos`: The number of bits of precision for representing the nuclear coordinates. \n",
    "\n",
    "#### Registers\n",
    " - `mu`: The state controlling the nested boxes procedure.\n",
    " - `nu`: The momentum transfer register.\n",
    " - `m`: an ancilla register in a uniform superposition.\n",
    " - `l`: The register for atomic species.\n",
    " - `flag_nu`: Flag for success of the state preparation. \n",
    "\n",
    "#### References\n",
    " - [Fault-Tolerant Quantum Simulations of Chemistry in First Quantization](https://arxiv.org/abs/2105.12767). page 19, section B\n"
   ]
  },
  {
   "cell_type": "code",
   "execution_count": 14,
   "id": "d13f6915",
   "metadata": {
    "cq.autogen": "PrepareUVFirstQuantization.bloq_doc.py"
   },
   "outputs": [],
   "source": [
    "from qualtran.bloqs.chemistry.pbc.first_quantization.prepare_uv import PrepareUVFirstQuantization"
   ]
  },
  {
   "cell_type": "markdown",
   "id": "754731ae",
   "metadata": {
    "cq.autogen": "PrepareUVFirstQuantization.example_instances.md"
   },
   "source": [
    "### Example Instances"
   ]
  },
  {
   "cell_type": "code",
   "execution_count": 15,
   "id": "09d41f99",
   "metadata": {
    "cq.autogen": "PrepareUVFirstQuantization.prepare_uv"
   },
   "outputs": [],
   "source": [
    "num_bits_p = 5\n",
    "eta = 10\n",
    "num_atoms = 10\n",
    "lambda_zeta = 10\n",
    "m_param = 2**8\n",
    "num_bits_nuc_pos = 16\n",
    "\n",
    "prepare_uv = PrepareUVFirstQuantization(\n",
    "    num_bits_p=num_bits_p,\n",
    "    eta=eta,\n",
    "    num_atoms=num_atoms,\n",
    "    m_param=m_param,\n",
    "    lambda_zeta=lambda_zeta,\n",
    "    num_bits_nuc_pos=num_bits_nuc_pos,\n",
    ")"
   ]
  },
  {
   "cell_type": "markdown",
   "id": "305d8a86",
   "metadata": {
    "cq.autogen": "PrepareUVFirstQuantization.graphical_signature.md"
   },
   "source": [
    "#### Graphical Signature"
   ]
  },
  {
   "cell_type": "code",
   "execution_count": 16,
   "id": "8d9e3cfe",
   "metadata": {
    "cq.autogen": "PrepareUVFirstQuantization.graphical_signature.py"
   },
   "outputs": [
    {
     "data": {
      "application/vnd.jupyter.widget-view+json": {
       "model_id": "82b2cac9c9e24ceea3e64e78a19f0550",
       "version_major": 2,
       "version_minor": 0
      },
      "text/plain": [
       "HBox(children=(Output(outputs=({'output_type': 'display_data', 'data': {'text/plain': '<IPython.core.display.M…"
      ]
     },
     "metadata": {},
     "output_type": "display_data"
    }
   ],
   "source": [
    "from qualtran.drawing import show_bloqs\n",
    "show_bloqs([prepare_uv],\n",
    "           ['`prepare_uv`'])"
   ]
  },
  {
   "cell_type": "markdown",
   "id": "3a8dc7c2",
   "metadata": {
    "cq.autogen": "PrepareUVFirstQuantization.call_graph.md"
   },
   "source": [
    "### Call Graph"
   ]
  },
  {
   "cell_type": "code",
   "execution_count": 17,
   "id": "8f171b9b",
   "metadata": {
    "cq.autogen": "PrepareUVFirstQuantization.call_graph.py"
   },
   "outputs": [
    {
     "data": {
      "image/svg+xml": [
       "<svg xmlns=\"http://www.w3.org/2000/svg\" xmlns:xlink=\"http://www.w3.org/1999/xlink\" width=\"612pt\" height=\"131pt\" viewBox=\"0.00 0.00 612.00 131.00\">\n",
       "<g id=\"graph0\" class=\"graph\" transform=\"scale(1 1) rotate(0) translate(4 127)\">\n",
       "<title>counts</title>\n",
       "<polygon fill=\"white\" stroke=\"transparent\" points=\"-4,4 -4,-127 608,-127 608,4 -4,4\"/>\n",
       "<!-- b0 -->\n",
       "<g id=\"node1\" class=\"node\">\n",
       "<title>b0</title>\n",
       "<polygon fill=\"none\" stroke=\"black\" points=\"571,-123 158,-123 158,-87 571,-87 571,-123\"/>\n",
       "<text text-anchor=\"start\" x=\"286.5\" y=\"-106.8\" font-family=\"Times,serif\" font-size=\"14.00\">PrepareUVFirstQuantization</text>\n",
       "<text text-anchor=\"start\" x=\"166\" y=\"-96\" font-family=\"monospace\" font-size=\"10.00\">num_bits_p=5, eta=10, num_atoms=10, m_param=256, [2 addtl fields].</text>\n",
       "</g>\n",
       "<!-- b1 -->\n",
       "<g id=\"node2\" class=\"node\">\n",
       "<title>b1</title>\n",
       "<polygon fill=\"none\" stroke=\"black\" points=\"419,-36 0,-36 0,0 419,0 419,-36\"/>\n",
       "<text text-anchor=\"start\" x=\"163\" y=\"-19.8\" font-family=\"Times,serif\" font-size=\"14.00\">PrepareZetaState</text>\n",
       "<text text-anchor=\"start\" x=\"8\" y=\"-9\" font-family=\"monospace\" font-size=\"10.00\">num_atoms=10, lambda_zeta=10, num_bits_nuc_pos=16, is_adjoint=False</text>\n",
       "</g>\n",
       "<!-- b0&#45;&gt;b1 -->\n",
       "<g id=\"edge1\" class=\"edge\">\n",
       "<title>b0-&gt;b1</title>\n",
       "<path fill=\"none\" stroke=\"black\" d=\"M333.13,-86.8C309,-73.56 275.48,-55.18 249.43,-40.9\"/>\n",
       "<polygon fill=\"black\" stroke=\"black\" points=\"251.01,-37.77 240.56,-36.03 247.64,-43.91 251.01,-37.77\"/>\n",
       "<text text-anchor=\"middle\" x=\"300\" y=\"-57.8\" font-family=\"Times,serif\" font-size=\"14.00\">1</text>\n",
       "</g>\n",
       "<!-- b2 -->\n",
       "<g id=\"node3\" class=\"node\">\n",
       "<title>b2</title>\n",
       "<polygon fill=\"none\" stroke=\"black\" points=\"604,-36 437,-36 437,0 604,0 604,-36\"/>\n",
       "<text text-anchor=\"start\" x=\"478\" y=\"-19.8\" font-family=\"Times,serif\" font-size=\"14.00\">PrepareNuState</text>\n",
       "<text text-anchor=\"start\" x=\"445\" y=\"-9\" font-family=\"monospace\" font-size=\"10.00\">num_bits_p=5, m_param=256</text>\n",
       "</g>\n",
       "<!-- b0&#45;&gt;b2 -->\n",
       "<g id=\"edge2\" class=\"edge\">\n",
       "<title>b0-&gt;b2</title>\n",
       "<path fill=\"none\" stroke=\"black\" d=\"M396.07,-86.8C420.36,-73.56 454.1,-55.18 480.31,-40.9\"/>\n",
       "<polygon fill=\"black\" stroke=\"black\" points=\"482.14,-43.89 489.24,-36.03 478.79,-37.74 482.14,-43.89\"/>\n",
       "<text text-anchor=\"middle\" x=\"456\" y=\"-57.8\" font-family=\"Times,serif\" font-size=\"14.00\">1</text>\n",
       "</g>\n",
       "</g>\n",
       "</svg>"
      ],
      "text/plain": [
       "<IPython.core.display.SVG object>"
      ]
     },
     "metadata": {},
     "output_type": "display_data"
    },
    {
     "data": {
      "text/markdown": [
       "#### Counts totals:\n",
       " - `PrepareNuState(num_bits_p=5, m_param=256)`: 1\n",
       " - `PrepareZetaState(num_atoms=10, lambda_zeta=10, num_bits_nuc_pos=16, is_adjoint=False)`: 1"
      ],
      "text/plain": [
       "<IPython.core.display.Markdown object>"
      ]
     },
     "metadata": {},
     "output_type": "display_data"
    }
   ],
   "source": [
    "from qualtran.resource_counting.generalizers import ignore_split_join\n",
    "prepare_uv_g, prepare_uv_sigma = prepare_uv.call_graph(max_depth=1, generalizer=ignore_split_join)\n",
    "show_call_graph(prepare_uv_g)\n",
    "show_counts_sigma(prepare_uv_sigma)"
   ]
  },
  {
   "cell_type": "markdown",
   "id": "9dc8a9f3",
   "metadata": {
    "cq.autogen": "SelectTFirstQuantization.bloq_doc.md"
   },
   "source": [
    "## `SelectTFirstQuantization`\n",
    "SELECT for the kinetic energy operator for the first quantized chemistry Hamiltonian.\n",
    "\n",
    "#### Parameters\n",
    " - `num_bits_p`: The number of bits to represent each dimension of the momentum register.\n",
    " - `eta`: The number of electrons. \n",
    "\n",
    "#### Registers\n",
    " - `sys`: The system register.\n",
    " - `plus`: A $|+\\rangle$ state.\n",
    " - `flag_T`: a flag to control on the success of the $T$ state preparation. \n",
    "\n",
    "#### References\n",
    " - [Fault-Tolerant Quantum Simulations of Chemistry in First Quantization](https://arxiv.org/abs/2105.12767). page 20, section B\n"
   ]
  },
  {
   "cell_type": "code",
   "execution_count": 18,
   "id": "5e5dd6b0",
   "metadata": {
    "cq.autogen": "SelectTFirstQuantization.bloq_doc.py"
   },
   "outputs": [],
   "source": [
    "from qualtran.bloqs.chemistry.pbc.first_quantization.select_t import SelectTFirstQuantization"
   ]
  },
  {
   "cell_type": "markdown",
   "id": "453792f3",
   "metadata": {
    "cq.autogen": "SelectTFirstQuantization.example_instances.md"
   },
   "source": [
    "### Example Instances"
   ]
  },
  {
   "cell_type": "code",
   "execution_count": 19,
   "id": "1708e7a9",
   "metadata": {
    "cq.autogen": "SelectTFirstQuantization.select_t"
   },
   "outputs": [],
   "source": [
    "num_bits_p = 5\n",
    "eta = 10\n",
    "\n",
    "select_t = SelectTFirstQuantization(num_bits_p=num_bits_p, eta=eta)"
   ]
  },
  {
   "cell_type": "markdown",
   "id": "49ab234d",
   "metadata": {
    "cq.autogen": "SelectTFirstQuantization.graphical_signature.md"
   },
   "source": [
    "#### Graphical Signature"
   ]
  },
  {
   "cell_type": "code",
   "execution_count": 20,
   "id": "f7e08f08",
   "metadata": {
    "cq.autogen": "SelectTFirstQuantization.graphical_signature.py"
   },
   "outputs": [
    {
     "data": {
      "application/vnd.jupyter.widget-view+json": {
       "model_id": "838dae35ae6648abbf1ccaea05bb1e4c",
       "version_major": 2,
       "version_minor": 0
      },
      "text/plain": [
       "HBox(children=(Output(outputs=({'output_type': 'display_data', 'data': {'text/plain': '<IPython.core.display.M…"
      ]
     },
     "metadata": {},
     "output_type": "display_data"
    }
   ],
   "source": [
    "from qualtran.drawing import show_bloqs\n",
    "show_bloqs([select_t],\n",
    "           ['`select_t`'])"
   ]
  },
  {
   "cell_type": "markdown",
   "id": "1c03cf92",
   "metadata": {
    "cq.autogen": "SelectTFirstQuantization.call_graph.md"
   },
   "source": [
    "### Call Graph"
   ]
  },
  {
   "cell_type": "code",
   "execution_count": 21,
   "id": "de4af7ab",
   "metadata": {
    "cq.autogen": "SelectTFirstQuantization.call_graph.py"
   },
   "outputs": [
    {
     "data": {
      "image/svg+xml": [
       "<svg xmlns=\"http://www.w3.org/2000/svg\" xmlns:xlink=\"http://www.w3.org/1999/xlink\" width=\"160pt\" height=\"131pt\" viewBox=\"0.00 0.00 160.00 131.00\">\n",
       "<g id=\"graph0\" class=\"graph\" transform=\"scale(1 1) rotate(0) translate(4 127)\">\n",
       "<title>counts</title>\n",
       "<polygon fill=\"white\" stroke=\"transparent\" points=\"-4,4 -4,-127 156,-127 156,4 -4,4\"/>\n",
       "<!-- b0 -->\n",
       "<g id=\"node1\" class=\"node\">\n",
       "<title>b0</title>\n",
       "<polygon fill=\"none\" stroke=\"black\" points=\"152,-123 0,-123 0,-87 152,-87 152,-123\"/>\n",
       "<text text-anchor=\"start\" x=\"8\" y=\"-106.8\" font-family=\"Times,serif\" font-size=\"14.00\">SelectTFirstQuantization</text>\n",
       "<text text-anchor=\"start\" x=\"15.5\" y=\"-96\" font-family=\"monospace\" font-size=\"10.00\">num_bits_p=5, eta=10</text>\n",
       "</g>\n",
       "<!-- b1 -->\n",
       "<g id=\"node2\" class=\"node\">\n",
       "<title>b1</title>\n",
       "<polygon fill=\"none\" stroke=\"black\" points=\"103.5,-36 48.5,-36 48.5,0 103.5,0 103.5,-36\"/>\n",
       "<text text-anchor=\"start\" x=\"56.5\" y=\"-14.3\" font-family=\"Times,serif\" font-size=\"14.00\">Toffoli</text>\n",
       "</g>\n",
       "<!-- b0&#45;&gt;b1 -->\n",
       "<g id=\"edge1\" class=\"edge\">\n",
       "<title>b0-&gt;b1</title>\n",
       "<path fill=\"none\" stroke=\"black\" d=\"M76,-86.8C76,-75.16 76,-59.55 76,-46.24\"/>\n",
       "<polygon fill=\"black\" stroke=\"black\" points=\"79.5,-46.18 76,-36.18 72.5,-46.18 79.5,-46.18\"/>\n",
       "<text text-anchor=\"middle\" x=\"83\" y=\"-57.8\" font-family=\"Times,serif\" font-size=\"14.00\">22</text>\n",
       "</g>\n",
       "</g>\n",
       "</svg>"
      ],
      "text/plain": [
       "<IPython.core.display.SVG object>"
      ]
     },
     "metadata": {},
     "output_type": "display_data"
    },
    {
     "data": {
      "text/markdown": [
       "#### Counts totals:\n",
       " - `Toffoli()`: 22"
      ],
      "text/plain": [
       "<IPython.core.display.Markdown object>"
      ]
     },
     "metadata": {},
     "output_type": "display_data"
    }
   ],
   "source": [
    "from qualtran.resource_counting.generalizers import ignore_split_join\n",
    "select_t_g, select_t_sigma = select_t.call_graph(max_depth=1, generalizer=ignore_split_join)\n",
    "show_call_graph(select_t_g)\n",
    "show_counts_sigma(select_t_sigma)"
   ]
  },
  {
   "cell_type": "markdown",
   "id": "2ddf9166",
   "metadata": {
    "cq.autogen": "SelectUVFirstQuantization.bloq_doc.md"
   },
   "source": [
    "## `SelectUVFirstQuantization`\n",
    "SELECT for the U and V operators for the first quantized chemistry Hamiltonian.\n",
    "\n",
    "This does not include the controlled swaps from p_i and q_j system registers\n",
    "into ancilla registers and back again. Hence there is no system register.\n",
    "\n",
    "#### Parameters\n",
    " - `num_bits_p`: The number of bits to represent each dimension of the momentum register.\n",
    " - `eta`: The number of electrons.\n",
    " - `num_atoms`: The number of atoms.\n",
    " - `num_bits_nuc_pos`: The number of bits to store each component of the nuclear positions. $n_R$ in the reference. \n",
    "\n",
    "Registers:\n",
    "\n",
    "#### References\n",
    " - [Fault-Tolerant Quantum Simulations of Chemistry in First Quantization](https://arxiv.org/abs/2105.12767). \n"
   ]
  },
  {
   "cell_type": "code",
   "execution_count": 22,
   "id": "dcb5fe31",
   "metadata": {
    "cq.autogen": "SelectUVFirstQuantization.bloq_doc.py"
   },
   "outputs": [],
   "source": [
    "from qualtran.bloqs.chemistry.pbc.first_quantization.select_uv import SelectUVFirstQuantization"
   ]
  },
  {
   "cell_type": "markdown",
   "id": "95b9f697",
   "metadata": {
    "cq.autogen": "SelectUVFirstQuantization.example_instances.md"
   },
   "source": [
    "### Example Instances"
   ]
  },
  {
   "cell_type": "code",
   "execution_count": 23,
   "id": "f431864a",
   "metadata": {
    "cq.autogen": "SelectUVFirstQuantization.select_uv"
   },
   "outputs": [],
   "source": [
    "num_bits_p = 5\n",
    "eta = 10\n",
    "num_bits_nuc_pos = 16\n",
    "\n",
    "select_uv = SelectUVFirstQuantization(\n",
    "    num_bits_p=num_bits_p, eta=eta, num_atoms=eta, num_bits_nuc_pos=num_bits_nuc_pos\n",
    ")"
   ]
  },
  {
   "cell_type": "markdown",
   "id": "81143504",
   "metadata": {
    "cq.autogen": "SelectUVFirstQuantization.graphical_signature.md"
   },
   "source": [
    "#### Graphical Signature"
   ]
  },
  {
   "cell_type": "code",
   "execution_count": 24,
   "id": "4aa7e222",
   "metadata": {
    "cq.autogen": "SelectUVFirstQuantization.graphical_signature.py"
   },
   "outputs": [
    {
     "data": {
      "application/vnd.jupyter.widget-view+json": {
       "model_id": "59217228a0344902997720e214b863bc",
       "version_major": 2,
       "version_minor": 0
      },
      "text/plain": [
       "HBox(children=(Output(outputs=({'output_type': 'display_data', 'data': {'text/plain': '<IPython.core.display.M…"
      ]
     },
     "metadata": {},
     "output_type": "display_data"
    }
   ],
   "source": [
    "from qualtran.drawing import show_bloqs\n",
    "show_bloqs([select_uv],\n",
    "           ['`select_uv`'])"
   ]
  },
  {
   "cell_type": "markdown",
   "id": "34e9be57",
   "metadata": {
    "cq.autogen": "SelectUVFirstQuantization.call_graph.md"
   },
   "source": [
    "### Call Graph"
   ]
  },
  {
   "cell_type": "code",
   "execution_count": 25,
   "id": "a6cad568",
   "metadata": {
    "cq.autogen": "SelectUVFirstQuantization.call_graph.py"
   },
   "outputs": [
    {
     "data": {
      "image/svg+xml": [
       "<svg xmlns=\"http://www.w3.org/2000/svg\" xmlns:xlink=\"http://www.w3.org/1999/xlink\" width=\"1013pt\" height=\"131pt\" viewBox=\"0.00 0.00 1013.00 131.00\">\n",
       "<g id=\"graph0\" class=\"graph\" transform=\"scale(1 1) rotate(0) translate(4 127)\">\n",
       "<title>counts</title>\n",
       "<polygon fill=\"white\" stroke=\"transparent\" points=\"-4,4 -4,-127 1009,-127 1009,4 -4,4\"/>\n",
       "<!-- b0 -->\n",
       "<g id=\"node1\" class=\"node\">\n",
       "<title>b0</title>\n",
       "<polygon fill=\"none\" stroke=\"black\" points=\"560,-123 213,-123 213,-87 560,-87 560,-123\"/>\n",
       "<text text-anchor=\"start\" x=\"312.5\" y=\"-106.8\" font-family=\"Times,serif\" font-size=\"14.00\">SelectUVFirstQuantization</text>\n",
       "<text text-anchor=\"start\" x=\"221\" y=\"-96\" font-family=\"monospace\" font-size=\"10.00\">num_bits_p=5, eta=10, num_atoms=10, num_bits_nuc_pos=16</text>\n",
       "</g>\n",
       "<!-- b1 -->\n",
       "<g id=\"node2\" class=\"node\">\n",
       "<title>b1</title>\n",
       "<polygon fill=\"none\" stroke=\"black\" points=\"55,-36 0,-36 0,0 55,0 55,-36\"/>\n",
       "<text text-anchor=\"start\" x=\"8\" y=\"-14.3\" font-family=\"Times,serif\" font-size=\"14.00\">Toffoli</text>\n",
       "</g>\n",
       "<!-- b0&#45;&gt;b1 -->\n",
       "<g id=\"edge1\" class=\"edge\">\n",
       "<title>b0-&gt;b1</title>\n",
       "<path fill=\"none\" stroke=\"black\" d=\"M273.79,-86.94C213.64,-76.26 138.58,-60.4 65.04,-36.15\"/>\n",
       "<polygon fill=\"black\" stroke=\"black\" points=\"65.74,-32.7 55.14,-32.84 63.51,-39.33 65.74,-32.7\"/>\n",
       "<text text-anchor=\"middle\" x=\"184.5\" y=\"-57.8\" font-family=\"Times,serif\" font-size=\"14.00\">36</text>\n",
       "</g>\n",
       "<!-- b2 -->\n",
       "<g id=\"node3\" class=\"node\">\n",
       "<title>b2</title>\n",
       "<polygon fill=\"none\" stroke=\"black\" points=\"264,-36 73,-36 73,0 264,0 264,-36\"/>\n",
       "<text text-anchor=\"start\" x=\"114\" y=\"-19.8\" font-family=\"Times,serif\" font-size=\"14.00\">ApplyNuclearPhase</text>\n",
       "<text text-anchor=\"start\" x=\"81\" y=\"-9\" font-family=\"monospace\" font-size=\"10.00\">num_bits_p=5, num_bits_nuc=16</text>\n",
       "</g>\n",
       "<!-- b0&#45;&gt;b2 -->\n",
       "<g id=\"edge2\" class=\"edge\">\n",
       "<title>b0-&gt;b2</title>\n",
       "<path fill=\"none\" stroke=\"black\" d=\"M342.65,-86.9C307.84,-73.33 259.02,-54.29 221.93,-39.83\"/>\n",
       "<polygon fill=\"black\" stroke=\"black\" points=\"222.87,-36.44 212.28,-36.07 220.33,-42.97 222.87,-36.44\"/>\n",
       "<text text-anchor=\"middle\" x=\"295\" y=\"-57.8\" font-family=\"Times,serif\" font-size=\"14.00\">1</text>\n",
       "</g>\n",
       "<!-- b3 -->\n",
       "<g id=\"node4\" class=\"node\">\n",
       "<title>b3</title>\n",
       "<polygon fill=\"none\" stroke=\"black\" points=\"491,-36 282,-36 282,0 491,0 491,-36\"/>\n",
       "<text text-anchor=\"start\" x=\"290\" y=\"-19.8\" font-family=\"Times,serif\" font-size=\"14.00\">SignedIntegerToTwosComplement</text>\n",
       "<text text-anchor=\"start\" x=\"359\" y=\"-9\" font-family=\"monospace\" font-size=\"10.00\">bitsize=5</text>\n",
       "</g>\n",
       "<!-- b0&#45;&gt;b3 -->\n",
       "<g id=\"edge3\" class=\"edge\">\n",
       "<title>b0-&gt;b3</title>\n",
       "<path fill=\"none\" stroke=\"black\" d=\"M386.5,-86.8C386.5,-75.16 386.5,-59.55 386.5,-46.24\"/>\n",
       "<polygon fill=\"black\" stroke=\"black\" points=\"390,-46.18 386.5,-36.18 383,-46.18 390,-46.18\"/>\n",
       "<text text-anchor=\"middle\" x=\"390\" y=\"-57.8\" font-family=\"Times,serif\" font-size=\"14.00\">6</text>\n",
       "</g>\n",
       "<!-- b4 -->\n",
       "<g id=\"node5\" class=\"node\">\n",
       "<title>b4</title>\n",
       "<polygon fill=\"none\" stroke=\"black\" points=\"718,-36 509,-36 509,0 718,0 718,-36\"/>\n",
       "<text text-anchor=\"start\" x=\"517\" y=\"-19.8\" font-family=\"Times,serif\" font-size=\"14.00\">SignedIntegerToTwosComplement</text>\n",
       "<text text-anchor=\"start\" x=\"586\" y=\"-9\" font-family=\"monospace\" font-size=\"10.00\">bitsize=7</text>\n",
       "</g>\n",
       "<!-- b0&#45;&gt;b4 -->\n",
       "<g id=\"edge4\" class=\"edge\">\n",
       "<title>b0-&gt;b4</title>\n",
       "<path fill=\"none\" stroke=\"black\" d=\"M432.16,-86.9C468.57,-73.27 519.67,-54.13 558.36,-39.65\"/>\n",
       "<polygon fill=\"black\" stroke=\"black\" points=\"559.77,-42.86 567.91,-36.07 557.32,-36.3 559.77,-42.86\"/>\n",
       "<text text-anchor=\"middle\" x=\"518\" y=\"-57.8\" font-family=\"Times,serif\" font-size=\"14.00\">6</text>\n",
       "</g>\n",
       "<!-- b5 -->\n",
       "<g id=\"node6\" class=\"node\">\n",
       "<title>b5</title>\n",
       "<polygon fill=\"none\" stroke=\"black\" points=\"1005,-36 736,-36 736,0 1005,0 1005,-36\"/>\n",
       "<text text-anchor=\"start\" x=\"858.5\" y=\"-19.8\" font-family=\"Times,serif\" font-size=\"14.00\">Add</text>\n",
       "<text text-anchor=\"start\" x=\"744\" y=\"-9\" font-family=\"monospace\" font-size=\"10.00\">a_dtype=QInt(bit ..., b_dtype=QInt(bit ...</text>\n",
       "</g>\n",
       "<!-- b0&#45;&gt;b5 -->\n",
       "<g id=\"edge5\" class=\"edge\">\n",
       "<title>b0-&gt;b5</title>\n",
       "<path fill=\"none\" stroke=\"black\" d=\"M483.57,-86.95C564.58,-72.73 679.9,-52.47 763.55,-37.78\"/>\n",
       "<polygon fill=\"black\" stroke=\"black\" points=\"764.35,-41.2 773.59,-36.02 763.13,-34.3 764.35,-41.2\"/>\n",
       "<text text-anchor=\"middle\" x=\"661\" y=\"-57.8\" font-family=\"Times,serif\" font-size=\"14.00\">6</text>\n",
       "</g>\n",
       "</g>\n",
       "</svg>"
      ],
      "text/plain": [
       "<IPython.core.display.SVG object>"
      ]
     },
     "metadata": {},
     "output_type": "display_data"
    },
    {
     "data": {
      "text/markdown": [
       "#### Counts totals:\n",
       " - `Add(a_dtype=QInt(bitsize=6), b_dtype=QInt(bitsize=6))`: 6\n",
       " - `ApplyNuclearPhase(num_bits_p=5, num_bits_nuc=16)`: 1\n",
       " - `SignedIntegerToTwosComplement(bitsize=5)`: 6\n",
       " - `SignedIntegerToTwosComplement(bitsize=7)`: 6\n",
       " - `Toffoli()`: 36"
      ],
      "text/plain": [
       "<IPython.core.display.Markdown object>"
      ]
     },
     "metadata": {},
     "output_type": "display_data"
    }
   ],
   "source": [
    "from qualtran.resource_counting.generalizers import ignore_split_join\n",
    "select_uv_g, select_uv_sigma = select_uv.call_graph(max_depth=1, generalizer=ignore_split_join)\n",
    "show_call_graph(select_uv_g)\n",
    "show_counts_sigma(select_uv_sigma)"
   ]
  }
 ],
 "metadata": {
  "kernelspec": {
   "display_name": "Python 3",
   "language": "python",
   "name": "python3"
  },
  "language_info": {
   "codemirror_mode": {
    "name": "ipython",
    "version": 3
   },
   "file_extension": ".py",
   "mimetype": "text/x-python",
   "name": "python",
   "nbconvert_exporter": "python",
   "pygments_lexer": "ipython3",
   "version": "3.11.8"
  },
  "widgets": {
   "application/vnd.jupyter.widget-state+json": {
    "state": {
     "0bd5085402344980aa515525a52ea46b": {
      "model_module": "@jupyter-widgets/base",
      "model_module_version": "2.0.0",
      "model_name": "LayoutModel",
      "state": {
       "_model_module": "@jupyter-widgets/base",
       "_model_module_version": "2.0.0",
       "_model_name": "LayoutModel",
       "_view_count": null,
       "_view_module": "@jupyter-widgets/base",
       "_view_module_version": "2.0.0",
       "_view_name": "LayoutView",
       "align_content": null,
       "align_items": null,
       "align_self": null,
       "border_bottom": null,
       "border_left": null,
       "border_right": null,
       "border_top": null,
       "bottom": null,
       "display": null,
       "flex": null,
       "flex_flow": null,
       "grid_area": null,
       "grid_auto_columns": null,
       "grid_auto_flow": null,
       "grid_auto_rows": null,
       "grid_column": null,
       "grid_gap": null,
       "grid_row": null,
       "grid_template_areas": null,
       "grid_template_columns": null,
       "grid_template_rows": null,
       "height": null,
       "justify_content": null,
       "justify_items": null,
       "left": null,
       "margin": null,
       "max_height": null,
       "max_width": null,
       "min_height": null,
       "min_width": null,
       "object_fit": null,
       "object_position": null,
       "order": null,
       "overflow": null,
       "padding": null,
       "right": null,
       "top": null,
       "visibility": null,
       "width": null
      }
     },
     "15306ba038794689b0fac4e32f0b129c": {
      "model_module": "@jupyter-widgets/base",
      "model_module_version": "2.0.0",
      "model_name": "LayoutModel",
      "state": {
       "_model_module": "@jupyter-widgets/base",
       "_model_module_version": "2.0.0",
       "_model_name": "LayoutModel",
       "_view_count": null,
       "_view_module": "@jupyter-widgets/base",
       "_view_module_version": "2.0.0",
       "_view_name": "LayoutView",
       "align_content": null,
       "align_items": null,
       "align_self": null,
       "border_bottom": null,
       "border_left": null,
       "border_right": null,
       "border_top": null,
       "bottom": null,
       "display": null,
       "flex": null,
       "flex_flow": null,
       "grid_area": null,
       "grid_auto_columns": null,
       "grid_auto_flow": null,
       "grid_auto_rows": null,
       "grid_column": null,
       "grid_gap": null,
       "grid_row": null,
       "grid_template_areas": null,
       "grid_template_columns": null,
       "grid_template_rows": null,
       "height": null,
       "justify_content": null,
       "justify_items": null,
       "left": null,
       "margin": null,
       "max_height": null,
       "max_width": null,
       "min_height": null,
       "min_width": null,
       "object_fit": null,
       "object_position": null,
       "order": null,
       "overflow": null,
       "padding": null,
       "right": null,
       "top": null,
       "visibility": null,
       "width": null
      }
     },
     "1c768305a7d34aaaa43b0ed8b8e1bef6": {
      "model_module": "@jupyter-widgets/output",
      "model_module_version": "1.0.0",
      "model_name": "OutputModel",
      "state": {
       "_dom_classes": [],
       "_model_module": "@jupyter-widgets/output",
       "_model_module_version": "1.0.0",
       "_model_name": "OutputModel",
       "_view_count": null,
       "_view_module": "@jupyter-widgets/output",
       "_view_module_version": "1.0.0",
       "_view_name": "OutputView",
       "layout": "IPY_MODEL_a64a376891374584b5a518270437d9fc",
       "msg_id": "",
       "outputs": [
        {
         "data": {
          "text/markdown": "`select_uv`",
          "text/plain": "<IPython.core.display.Markdown object>"
         },
         "metadata": {},
         "output_type": "display_data"
        },
        {
         "data": {
          "image/svg+xml": "<svg xmlns=\"http://www.w3.org/2000/svg\" xmlns:xlink=\"http://www.w3.org/1999/xlink\" width=\"258pt\" height=\"692pt\" viewBox=\"0.00 0.00 258.00 692.00\">\n<g id=\"graph0\" class=\"graph\" transform=\"scale(1 1) rotate(0) translate(4 688)\">\n<title>my_graph</title>\n<polygon fill=\"white\" stroke=\"transparent\" points=\"-4,4 -4,-688 254,-688 254,4 -4,4\"/>\n<!-- flag_tuv_G5 -->\n<g id=\"node1\" class=\"node\">\n<title>flag_tuv_G5</title>\n<text text-anchor=\"middle\" x=\"31\" y=\"-662.3\" font-family=\"Times,serif\" font-size=\"14.00\">flag_tuv</text>\n</g>\n<!-- SelectUVFirstQuantization -->\n<g id=\"node14\" class=\"node\">\n<title>SelectUVFirstQuantization</title>\n<polygon fill=\"none\" stroke=\"black\" points=\"99,-479 99,-496 151,-496 151,-479 99,-479\"/>\n<text text-anchor=\"start\" x=\"107.5\" y=\"-485\" font-family=\"Times,serif\" font-size=\"10.00\">SEL UV</text>\n<polygon fill=\"none\" stroke=\"black\" points=\"99,-458 99,-479 151,-479 151,-458 99,-458\"/>\n<text text-anchor=\"start\" x=\"102\" y=\"-464.8\" font-family=\"Times,serif\" font-size=\"14.00\">flag_tuv</text>\n<polygon fill=\"none\" stroke=\"black\" points=\"99,-437 99,-458 151,-458 151,-437 99,-437\"/>\n<text text-anchor=\"start\" x=\"104\" y=\"-443.8\" font-family=\"Times,serif\" font-size=\"14.00\">flag_uv</text>\n<polygon fill=\"none\" stroke=\"black\" points=\"99,-416 99,-437 151,-437 151,-416 99,-416\"/>\n<text text-anchor=\"start\" x=\"123\" y=\"-422.8\" font-family=\"Times,serif\" font-size=\"14.00\">l</text>\n<polygon fill=\"none\" stroke=\"black\" points=\"99,-395 99,-416 151,-416 151,-395 99,-395\"/>\n<text text-anchor=\"start\" x=\"120.5\" y=\"-401.8\" font-family=\"Times,serif\" font-size=\"14.00\">rl</text>\n<polygon fill=\"none\" stroke=\"black\" points=\"99,-374 99,-395 151,-395 151,-374 99,-374\"/>\n<text text-anchor=\"start\" x=\"110\" y=\"-380.8\" font-family=\"Times,serif\" font-size=\"14.00\">nu[0]</text>\n<polygon fill=\"none\" stroke=\"black\" points=\"99,-353 99,-374 151,-374 151,-353 99,-353\"/>\n<text text-anchor=\"start\" x=\"110\" y=\"-359.8\" font-family=\"Times,serif\" font-size=\"14.00\">nu[1]</text>\n<polygon fill=\"none\" stroke=\"black\" points=\"99,-332 99,-353 151,-353 151,-332 99,-332\"/>\n<text text-anchor=\"start\" x=\"110\" y=\"-338.8\" font-family=\"Times,serif\" font-size=\"14.00\">nu[2]</text>\n<polygon fill=\"none\" stroke=\"black\" points=\"99,-311 99,-332 151,-332 151,-311 99,-311\"/>\n<text text-anchor=\"start\" x=\"113.5\" y=\"-317.8\" font-family=\"Times,serif\" font-size=\"14.00\">p[0]</text>\n<polygon fill=\"none\" stroke=\"black\" points=\"99,-290 99,-311 151,-311 151,-290 99,-290\"/>\n<text text-anchor=\"start\" x=\"113.5\" y=\"-296.8\" font-family=\"Times,serif\" font-size=\"14.00\">p[1]</text>\n<polygon fill=\"none\" stroke=\"black\" points=\"99,-269 99,-290 151,-290 151,-269 99,-269\"/>\n<text text-anchor=\"start\" x=\"113.5\" y=\"-275.8\" font-family=\"Times,serif\" font-size=\"14.00\">p[2]</text>\n<polygon fill=\"none\" stroke=\"black\" points=\"99,-248 99,-269 151,-269 151,-248 99,-248\"/>\n<text text-anchor=\"start\" x=\"113.5\" y=\"-254.8\" font-family=\"Times,serif\" font-size=\"14.00\">q[0]</text>\n<polygon fill=\"none\" stroke=\"black\" points=\"99,-227 99,-248 151,-248 151,-227 99,-227\"/>\n<text text-anchor=\"start\" x=\"113.5\" y=\"-233.8\" font-family=\"Times,serif\" font-size=\"14.00\">q[1]</text>\n<polygon fill=\"none\" stroke=\"black\" points=\"99,-206 99,-227 151,-227 151,-206 99,-206\"/>\n<text text-anchor=\"start\" x=\"113.5\" y=\"-212.8\" font-family=\"Times,serif\" font-size=\"14.00\">q[2]</text>\n</g>\n<!-- flag_tuv_G5&#45;&gt;SelectUVFirstQuantization -->\n<g id=\"edge1\" class=\"edge\">\n<title>flag_tuv_G5:e-&gt;SelectUVFirstQuantization:w</title>\n<path fill=\"none\" stroke=\"black\" d=\"M62,-666C83.58,-666 77.17,-481.12 97,-469.57\"/>\n<ellipse fill=\"black\" stroke=\"black\" cx=\"98.04\" cy=\"-469.27\" rx=\"1\" ry=\"1\"/>\n<text text-anchor=\"middle\" x=\"80.5\" y=\"-576\" font-family=\"Times,serif\" font-size=\"10.00\">1</text>\n</g>\n<!-- flag_uv_G17 -->\n<g id=\"node2\" class=\"node\">\n<title>flag_uv_G17</title>\n<text text-anchor=\"middle\" x=\"31\" y=\"-608.3\" font-family=\"Times,serif\" font-size=\"14.00\">flag_uv</text>\n</g>\n<!-- flag_uv_G17&#45;&gt;SelectUVFirstQuantization -->\n<g id=\"edge2\" class=\"edge\">\n<title>flag_uv_G17:e-&gt;SelectUVFirstQuantization:w</title>\n<path fill=\"none\" stroke=\"black\" d=\"M61,-612C90.38,-612 73.96,-577.52 81,-549 86.29,-527.56 76.83,-452.87 96.96,-448.23\"/>\n<ellipse fill=\"black\" stroke=\"black\" cx=\"98.01\" cy=\"-448.11\" rx=\"1\" ry=\"1\"/>\n<text text-anchor=\"middle\" x=\"80.5\" y=\"-555\" font-family=\"Times,serif\" font-size=\"10.00\">1</text>\n</g>\n<!-- l_G2 -->\n<g id=\"node3\" class=\"node\">\n<title>l_G2</title>\n<text text-anchor=\"middle\" x=\"31\" y=\"-554.3\" font-family=\"Times,serif\" font-size=\"14.00\">l</text>\n</g>\n<!-- l_G2&#45;&gt;SelectUVFirstQuantization -->\n<g id=\"edge3\" class=\"edge\">\n<title>l_G2:e-&gt;SelectUVFirstQuantization:w</title>\n<path fill=\"none\" stroke=\"black\" d=\"M59,-558C119.16,-558 40.02,-430.05 96.92,-427.05\"/>\n<ellipse fill=\"black\" stroke=\"black\" cx=\"98\" cy=\"-427.03\" rx=\"1\" ry=\"1\"/>\n<text text-anchor=\"middle\" x=\"80.5\" y=\"-547\" font-family=\"Times,serif\" font-size=\"10.00\">4</text>\n</g>\n<!-- rl_G6 -->\n<g id=\"node4\" class=\"node\">\n<title>rl_G6</title>\n<text text-anchor=\"middle\" x=\"31\" y=\"-500.3\" font-family=\"Times,serif\" font-size=\"14.00\">rl</text>\n</g>\n<!-- rl_G6&#45;&gt;SelectUVFirstQuantization -->\n<g id=\"edge4\" class=\"edge\">\n<title>rl_G6:e-&gt;SelectUVFirstQuantization:w</title>\n<path fill=\"none\" stroke=\"black\" d=\"M59,-504C105.31,-504 53.62,-409.04 96.87,-406.07\"/>\n<ellipse fill=\"black\" stroke=\"black\" cx=\"98\" cy=\"-406.03\" rx=\"1\" ry=\"1\"/>\n<text text-anchor=\"middle\" x=\"80.5\" y=\"-421\" font-family=\"Times,serif\" font-size=\"10.00\">16</text>\n</g>\n<!-- nu_G28 -->\n<g id=\"node5\" class=\"node\">\n<title>nu_G28</title>\n<text text-anchor=\"middle\" x=\"31\" y=\"-446.3\" font-family=\"Times,serif\" font-size=\"14.00\">nu[0]</text>\n</g>\n<!-- nu_G28&#45;&gt;SelectUVFirstQuantization -->\n<g id=\"edge5\" class=\"edge\">\n<title>nu_G28:e-&gt;SelectUVFirstQuantization:w</title>\n<path fill=\"none\" stroke=\"black\" d=\"M59,-450C92.13,-450 66.35,-388.01 96.72,-385.11\"/>\n<ellipse fill=\"black\" stroke=\"black\" cx=\"98\" cy=\"-385.05\" rx=\"1\" ry=\"1\"/>\n<text text-anchor=\"middle\" x=\"80.5\" y=\"-410\" font-family=\"Times,serif\" font-size=\"10.00\">6</text>\n</g>\n<!-- nu_G11 -->\n<g id=\"node6\" class=\"node\">\n<title>nu_G11</title>\n<text text-anchor=\"middle\" x=\"31\" y=\"-392.3\" font-family=\"Times,serif\" font-size=\"14.00\">nu[1]</text>\n</g>\n<!-- nu_G11&#45;&gt;SelectUVFirstQuantization -->\n<g id=\"edge6\" class=\"edge\">\n<title>nu_G11:e-&gt;SelectUVFirstQuantization:w</title>\n<path fill=\"none\" stroke=\"black\" d=\"M59,-396C81.06,-396 76.55,-365.97 96.95,-364.09\"/>\n<ellipse fill=\"black\" stroke=\"black\" cx=\"98\" cy=\"-364.04\" rx=\"1\" ry=\"1\"/>\n<text text-anchor=\"middle\" x=\"80.5\" y=\"-381\" font-family=\"Times,serif\" font-size=\"10.00\">6</text>\n</g>\n<!-- nu_G16 -->\n<g id=\"node7\" class=\"node\">\n<title>nu_G16</title>\n<text text-anchor=\"middle\" x=\"31\" y=\"-338.3\" font-family=\"Times,serif\" font-size=\"14.00\">nu[2]</text>\n</g>\n<!-- nu_G16&#45;&gt;SelectUVFirstQuantization -->\n<g id=\"edge7\" class=\"edge\">\n<title>nu_G16:e-&gt;SelectUVFirstQuantization:w</title>\n<path fill=\"none\" stroke=\"black\" d=\"M59,-342C76.08,-342 80.85,-342 96.98,-342\"/>\n<ellipse fill=\"black\" stroke=\"black\" cx=\"98\" cy=\"-342\" rx=\"1\" ry=\"1\"/>\n<text text-anchor=\"middle\" x=\"80.5\" y=\"-345\" font-family=\"Times,serif\" font-size=\"10.00\">6</text>\n</g>\n<!-- p_G23 -->\n<g id=\"node8\" class=\"node\">\n<title>p_G23</title>\n<text text-anchor=\"middle\" x=\"31\" y=\"-284.3\" font-family=\"Times,serif\" font-size=\"14.00\">p[0]</text>\n</g>\n<!-- p_G23&#45;&gt;SelectUVFirstQuantization -->\n<g id=\"edge8\" class=\"edge\">\n<title>p_G23:e-&gt;SelectUVFirstQuantization:w</title>\n<path fill=\"none\" stroke=\"black\" d=\"M59,-288C81.33,-288 76.31,-318.97 96.92,-320.91\"/>\n<ellipse fill=\"black\" stroke=\"black\" cx=\"98\" cy=\"-320.95\" rx=\"1\" ry=\"1\"/>\n<text text-anchor=\"middle\" x=\"80.5\" y=\"-310\" font-family=\"Times,serif\" font-size=\"10.00\">5</text>\n</g>\n<!-- p_G1 -->\n<g id=\"node9\" class=\"node\">\n<title>p_G1</title>\n<text text-anchor=\"middle\" x=\"31\" y=\"-230.3\" font-family=\"Times,serif\" font-size=\"14.00\">p[1]</text>\n</g>\n<!-- p_G1&#45;&gt;SelectUVFirstQuantization -->\n<g id=\"edge9\" class=\"edge\">\n<title>p_G1:e-&gt;SelectUVFirstQuantization:w</title>\n<path fill=\"none\" stroke=\"black\" d=\"M59,-234C92.5,-234 66.01,-296.94 96.69,-299.89\"/>\n<ellipse fill=\"black\" stroke=\"black\" cx=\"98\" cy=\"-299.95\" rx=\"1\" ry=\"1\"/>\n<text text-anchor=\"middle\" x=\"80.5\" y=\"-285\" font-family=\"Times,serif\" font-size=\"10.00\">5</text>\n</g>\n<!-- p_G7 -->\n<g id=\"node10\" class=\"node\">\n<title>p_G7</title>\n<text text-anchor=\"middle\" x=\"31\" y=\"-176.3\" font-family=\"Times,serif\" font-size=\"14.00\">p[2]</text>\n</g>\n<!-- p_G7&#45;&gt;SelectUVFirstQuantization -->\n<g id=\"edge10\" class=\"edge\">\n<title>p_G7:e-&gt;SelectUVFirstQuantization:w</title>\n<path fill=\"none\" stroke=\"black\" d=\"M59,-180C105.71,-180 53.24,-275.93 96.85,-278.93\"/>\n<ellipse fill=\"black\" stroke=\"black\" cx=\"98\" cy=\"-278.97\" rx=\"1\" ry=\"1\"/>\n<text text-anchor=\"middle\" x=\"80.5\" y=\"-269\" font-family=\"Times,serif\" font-size=\"10.00\">5</text>\n</g>\n<!-- q_G19 -->\n<g id=\"node11\" class=\"node\">\n<title>q_G19</title>\n<text text-anchor=\"middle\" x=\"31\" y=\"-122.3\" font-family=\"Times,serif\" font-size=\"14.00\">q[0]</text>\n</g>\n<!-- q_G19&#45;&gt;SelectUVFirstQuantization -->\n<g id=\"edge11\" class=\"edge\">\n<title>q_G19:e-&gt;SelectUVFirstQuantization:w</title>\n<path fill=\"none\" stroke=\"black\" d=\"M59,-126C73.61,-126 82.79,-245.92 96.88,-257.16\"/>\n<ellipse fill=\"black\" stroke=\"black\" cx=\"98.07\" cy=\"-257.63\" rx=\"1\" ry=\"1\"/>\n<text text-anchor=\"middle\" x=\"80.5\" y=\"-202\" font-family=\"Times,serif\" font-size=\"10.00\">5</text>\n</g>\n<!-- q_G29 -->\n<g id=\"node12\" class=\"node\">\n<title>q_G29</title>\n<text text-anchor=\"middle\" x=\"31\" y=\"-68.3\" font-family=\"Times,serif\" font-size=\"14.00\">q[1]</text>\n</g>\n<!-- q_G29&#45;&gt;SelectUVFirstQuantization -->\n<g id=\"edge12\" class=\"edge\">\n<title>q_G29:e-&gt;SelectUVFirstQuantization:w</title>\n<path fill=\"none\" stroke=\"black\" d=\"M59,-72C77.13,-72 79.93,-224.36 96.86,-236.26\"/>\n<ellipse fill=\"black\" stroke=\"black\" cx=\"98.05\" cy=\"-236.67\" rx=\"1\" ry=\"1\"/>\n<text text-anchor=\"middle\" x=\"80.5\" y=\"-172\" font-family=\"Times,serif\" font-size=\"10.00\">5</text>\n</g>\n<!-- q_G34 -->\n<g id=\"node13\" class=\"node\">\n<title>q_G34</title>\n<text text-anchor=\"middle\" x=\"31\" y=\"-14.3\" font-family=\"Times,serif\" font-size=\"14.00\">q[2]</text>\n</g>\n<!-- q_G34&#45;&gt;SelectUVFirstQuantization -->\n<g id=\"edge13\" class=\"edge\">\n<title>q_G34:e-&gt;SelectUVFirstQuantization:w</title>\n<path fill=\"none\" stroke=\"black\" d=\"M59,-18C80.74,-18 76.83,-203.82 96.97,-215.43\"/>\n<ellipse fill=\"black\" stroke=\"black\" cx=\"98.04\" cy=\"-215.73\" rx=\"1\" ry=\"1\"/>\n<text text-anchor=\"middle\" x=\"80.5\" y=\"-138\" font-family=\"Times,serif\" font-size=\"10.00\">5</text>\n</g>\n<!-- flag_tuv_G35 -->\n<g id=\"node15\" class=\"node\">\n<title>flag_tuv_G35</title>\n<text text-anchor=\"middle\" x=\"219\" y=\"-662.3\" font-family=\"Times,serif\" font-size=\"14.00\">flag_tuv</text>\n</g>\n<!-- SelectUVFirstQuantization&#45;&gt;flag_tuv_G35 -->\n<g id=\"edge14\" class=\"edge\">\n<title>SelectUVFirstQuantization:e-&gt;flag_tuv_G35:w</title>\n<path fill=\"none\" stroke=\"black\" d=\"M151,-469C172.58,-469 166.17,-653.88 186,-665.43\"/>\n<ellipse fill=\"black\" stroke=\"black\" cx=\"187.04\" cy=\"-665.73\" rx=\"1\" ry=\"1\"/>\n<text text-anchor=\"middle\" x=\"169.5\" y=\"-576\" font-family=\"Times,serif\" font-size=\"10.00\">1</text>\n</g>\n<!-- flag_uv_G37 -->\n<g id=\"node16\" class=\"node\">\n<title>flag_uv_G37</title>\n<text text-anchor=\"middle\" x=\"219\" y=\"-608.3\" font-family=\"Times,serif\" font-size=\"14.00\">flag_uv</text>\n</g>\n<!-- SelectUVFirstQuantization&#45;&gt;flag_uv_G37 -->\n<g id=\"edge15\" class=\"edge\">\n<title>SelectUVFirstQuantization:e-&gt;flag_uv_G37:w</title>\n<path fill=\"none\" stroke=\"black\" d=\"M151,-448C173.8,-448 163.54,-526.87 169,-549 175.84,-576.74 160.5,-610.12 186.69,-611.92\"/>\n<ellipse fill=\"black\" stroke=\"black\" cx=\"188\" cy=\"-611.97\" rx=\"1\" ry=\"1\"/>\n<text text-anchor=\"middle\" x=\"169.5\" y=\"-555\" font-family=\"Times,serif\" font-size=\"10.00\">1</text>\n</g>\n<!-- l_G26 -->\n<g id=\"node17\" class=\"node\">\n<title>l_G26</title>\n<text text-anchor=\"middle\" x=\"219\" y=\"-554.3\" font-family=\"Times,serif\" font-size=\"14.00\">l</text>\n</g>\n<!-- SelectUVFirstQuantization&#45;&gt;l_G26 -->\n<g id=\"edge16\" class=\"edge\">\n<title>SelectUVFirstQuantization:e-&gt;l_G26:w</title>\n<path fill=\"none\" stroke=\"black\" d=\"M151,-427C211.16,-427 132.02,-554.95 188.92,-557.95\"/>\n<ellipse fill=\"black\" stroke=\"black\" cx=\"190\" cy=\"-557.97\" rx=\"1\" ry=\"1\"/>\n<text text-anchor=\"middle\" x=\"169.5\" y=\"-547\" font-family=\"Times,serif\" font-size=\"10.00\">4</text>\n</g>\n<!-- rl_G32 -->\n<g id=\"node18\" class=\"node\">\n<title>rl_G32</title>\n<text text-anchor=\"middle\" x=\"219\" y=\"-500.3\" font-family=\"Times,serif\" font-size=\"14.00\">rl</text>\n</g>\n<!-- SelectUVFirstQuantization&#45;&gt;rl_G32 -->\n<g id=\"edge17\" class=\"edge\">\n<title>SelectUVFirstQuantization:e-&gt;rl_G32:w</title>\n<path fill=\"none\" stroke=\"black\" d=\"M151,-406C197.31,-406 145.62,-500.96 188.87,-503.93\"/>\n<ellipse fill=\"black\" stroke=\"black\" cx=\"190\" cy=\"-503.97\" rx=\"1\" ry=\"1\"/>\n<text text-anchor=\"middle\" x=\"169.5\" y=\"-421\" font-family=\"Times,serif\" font-size=\"10.00\">16</text>\n</g>\n<!-- nu_G22 -->\n<g id=\"node19\" class=\"node\">\n<title>nu_G22</title>\n<text text-anchor=\"middle\" x=\"219\" y=\"-446.3\" font-family=\"Times,serif\" font-size=\"14.00\">nu[0]</text>\n</g>\n<!-- SelectUVFirstQuantization&#45;&gt;nu_G22 -->\n<g id=\"edge18\" class=\"edge\">\n<title>SelectUVFirstQuantization:e-&gt;nu_G22:w</title>\n<path fill=\"none\" stroke=\"black\" d=\"M151,-385C184.13,-385 158.35,-446.99 188.72,-449.89\"/>\n<ellipse fill=\"black\" stroke=\"black\" cx=\"190\" cy=\"-449.95\" rx=\"1\" ry=\"1\"/>\n<text text-anchor=\"middle\" x=\"169.5\" y=\"-410\" font-family=\"Times,serif\" font-size=\"10.00\">6</text>\n</g>\n<!-- nu_G3 -->\n<g id=\"node20\" class=\"node\">\n<title>nu_G3</title>\n<text text-anchor=\"middle\" x=\"219\" y=\"-392.3\" font-family=\"Times,serif\" font-size=\"14.00\">nu[1]</text>\n</g>\n<!-- SelectUVFirstQuantization&#45;&gt;nu_G3 -->\n<g id=\"edge19\" class=\"edge\">\n<title>SelectUVFirstQuantization:e-&gt;nu_G3:w</title>\n<path fill=\"none\" stroke=\"black\" d=\"M151,-364C173.06,-364 168.55,-394.03 188.95,-395.91\"/>\n<ellipse fill=\"black\" stroke=\"black\" cx=\"190\" cy=\"-395.96\" rx=\"1\" ry=\"1\"/>\n<text text-anchor=\"middle\" x=\"169.5\" y=\"-381\" font-family=\"Times,serif\" font-size=\"10.00\">6</text>\n</g>\n<!-- nu_G9 -->\n<g id=\"node21\" class=\"node\">\n<title>nu_G9</title>\n<text text-anchor=\"middle\" x=\"219\" y=\"-338.3\" font-family=\"Times,serif\" font-size=\"14.00\">nu[2]</text>\n</g>\n<!-- SelectUVFirstQuantization&#45;&gt;nu_G9 -->\n<g id=\"edge20\" class=\"edge\">\n<title>SelectUVFirstQuantization:e-&gt;nu_G9:w</title>\n<path fill=\"none\" stroke=\"black\" d=\"M151,-342C168.08,-342 172.85,-342 188.98,-342\"/>\n<ellipse fill=\"black\" stroke=\"black\" cx=\"190\" cy=\"-342\" rx=\"1\" ry=\"1\"/>\n<text text-anchor=\"middle\" x=\"169.5\" y=\"-345\" font-family=\"Times,serif\" font-size=\"10.00\">6</text>\n</g>\n<!-- p_G14 -->\n<g id=\"node22\" class=\"node\">\n<title>p_G14</title>\n<text text-anchor=\"middle\" x=\"219\" y=\"-284.3\" font-family=\"Times,serif\" font-size=\"14.00\">p[0]</text>\n</g>\n<!-- SelectUVFirstQuantization&#45;&gt;p_G14 -->\n<g id=\"edge21\" class=\"edge\">\n<title>SelectUVFirstQuantization:e-&gt;p_G14:w</title>\n<path fill=\"none\" stroke=\"black\" d=\"M151,-321C173.33,-321 168.31,-290.03 188.92,-288.09\"/>\n<ellipse fill=\"black\" stroke=\"black\" cx=\"190\" cy=\"-288.05\" rx=\"1\" ry=\"1\"/>\n<text text-anchor=\"middle\" x=\"169.5\" y=\"-310\" font-family=\"Times,serif\" font-size=\"10.00\">5</text>\n</g>\n<!-- p_G25 -->\n<g id=\"node23\" class=\"node\">\n<title>p_G25</title>\n<text text-anchor=\"middle\" x=\"219\" y=\"-230.3\" font-family=\"Times,serif\" font-size=\"14.00\">p[1]</text>\n</g>\n<!-- SelectUVFirstQuantization&#45;&gt;p_G25 -->\n<g id=\"edge22\" class=\"edge\">\n<title>SelectUVFirstQuantization:e-&gt;p_G25:w</title>\n<path fill=\"none\" stroke=\"black\" d=\"M151,-300C184.5,-300 158.01,-237.06 188.69,-234.11\"/>\n<ellipse fill=\"black\" stroke=\"black\" cx=\"190\" cy=\"-234.05\" rx=\"1\" ry=\"1\"/>\n<text text-anchor=\"middle\" x=\"169.5\" y=\"-285\" font-family=\"Times,serif\" font-size=\"10.00\">5</text>\n</g>\n<!-- p_G31 -->\n<g id=\"node24\" class=\"node\">\n<title>p_G31</title>\n<text text-anchor=\"middle\" x=\"219\" y=\"-176.3\" font-family=\"Times,serif\" font-size=\"14.00\">p[2]</text>\n</g>\n<!-- SelectUVFirstQuantization&#45;&gt;p_G31 -->\n<g id=\"edge23\" class=\"edge\">\n<title>SelectUVFirstQuantization:e-&gt;p_G31:w</title>\n<path fill=\"none\" stroke=\"black\" d=\"M151,-279C197.71,-279 145.24,-183.07 188.85,-180.07\"/>\n<ellipse fill=\"black\" stroke=\"black\" cx=\"190\" cy=\"-180.03\" rx=\"1\" ry=\"1\"/>\n<text text-anchor=\"middle\" x=\"169.5\" y=\"-269\" font-family=\"Times,serif\" font-size=\"10.00\">5</text>\n</g>\n<!-- q_G12 -->\n<g id=\"node25\" class=\"node\">\n<title>q_G12</title>\n<text text-anchor=\"middle\" x=\"219\" y=\"-122.3\" font-family=\"Times,serif\" font-size=\"14.00\">q[0]</text>\n</g>\n<!-- SelectUVFirstQuantization&#45;&gt;q_G12 -->\n<g id=\"edge24\" class=\"edge\">\n<title>SelectUVFirstQuantization:e-&gt;q_G12:w</title>\n<path fill=\"none\" stroke=\"black\" d=\"M151,-258C165.61,-258 174.79,-138.08 188.88,-126.84\"/>\n<ellipse fill=\"black\" stroke=\"black\" cx=\"190.07\" cy=\"-126.37\" rx=\"1\" ry=\"1\"/>\n<text text-anchor=\"middle\" x=\"169.5\" y=\"-202\" font-family=\"Times,serif\" font-size=\"10.00\">5</text>\n</g>\n<!-- q_G24 -->\n<g id=\"node26\" class=\"node\">\n<title>q_G24</title>\n<text text-anchor=\"middle\" x=\"219\" y=\"-68.3\" font-family=\"Times,serif\" font-size=\"14.00\">q[1]</text>\n</g>\n<!-- SelectUVFirstQuantization&#45;&gt;q_G24 -->\n<g id=\"edge25\" class=\"edge\">\n<title>SelectUVFirstQuantization:e-&gt;q_G24:w</title>\n<path fill=\"none\" stroke=\"black\" d=\"M151,-237C169.13,-237 171.93,-84.64 188.86,-72.74\"/>\n<ellipse fill=\"black\" stroke=\"black\" cx=\"190.05\" cy=\"-72.33\" rx=\"1\" ry=\"1\"/>\n<text text-anchor=\"middle\" x=\"169.5\" y=\"-172\" font-family=\"Times,serif\" font-size=\"10.00\">5</text>\n</g>\n<!-- q_G27 -->\n<g id=\"node27\" class=\"node\">\n<title>q_G27</title>\n<text text-anchor=\"middle\" x=\"219\" y=\"-14.3\" font-family=\"Times,serif\" font-size=\"14.00\">q[2]</text>\n</g>\n<!-- SelectUVFirstQuantization&#45;&gt;q_G27 -->\n<g id=\"edge26\" class=\"edge\">\n<title>SelectUVFirstQuantization:e-&gt;q_G27:w</title>\n<path fill=\"none\" stroke=\"black\" d=\"M151,-216C172.74,-216 168.83,-30.18 188.97,-18.57\"/>\n<ellipse fill=\"black\" stroke=\"black\" cx=\"190.04\" cy=\"-18.27\" rx=\"1\" ry=\"1\"/>\n<text text-anchor=\"middle\" x=\"169.5\" y=\"-138\" font-family=\"Times,serif\" font-size=\"10.00\">5</text>\n</g>\n</g>\n</svg>",
          "text/plain": "<IPython.core.display.SVG object>"
         },
         "metadata": {},
         "output_type": "display_data"
        }
       ],
       "tabbable": null,
       "tooltip": null
      }
     },
     "4430ffb5fcf44b3bb6c405e4ab28a6e7": {
      "model_module": "@jupyter-widgets/base",
      "model_module_version": "2.0.0",
      "model_name": "LayoutModel",
      "state": {
       "_model_module": "@jupyter-widgets/base",
       "_model_module_version": "2.0.0",
       "_model_name": "LayoutModel",
       "_view_count": null,
       "_view_module": "@jupyter-widgets/base",
       "_view_module_version": "2.0.0",
       "_view_name": "LayoutView",
       "align_content": null,
       "align_items": null,
       "align_self": null,
       "border_bottom": null,
       "border_left": null,
       "border_right": null,
       "border_top": null,
       "bottom": null,
       "display": null,
       "flex": null,
       "flex_flow": null,
       "grid_area": null,
       "grid_auto_columns": null,
       "grid_auto_flow": null,
       "grid_auto_rows": null,
       "grid_column": null,
       "grid_gap": null,
       "grid_row": null,
       "grid_template_areas": null,
       "grid_template_columns": null,
       "grid_template_rows": null,
       "height": null,
       "justify_content": null,
       "justify_items": null,
       "left": null,
       "margin": null,
       "max_height": null,
       "max_width": null,
       "min_height": null,
       "min_width": null,
       "object_fit": null,
       "object_position": null,
       "order": null,
       "overflow": null,
       "padding": null,
       "right": null,
       "top": null,
       "visibility": null,
       "width": null
      }
     },
     "47ac0abc332b4bc5bc8d07f75593e676": {
      "model_module": "@jupyter-widgets/output",
      "model_module_version": "1.0.0",
      "model_name": "OutputModel",
      "state": {
       "_dom_classes": [],
       "_model_module": "@jupyter-widgets/output",
       "_model_module_version": "1.0.0",
       "_model_name": "OutputModel",
       "_view_count": null,
       "_view_module": "@jupyter-widgets/output",
       "_view_module_version": "1.0.0",
       "_view_name": "OutputView",
       "layout": "IPY_MODEL_924fb61263a5428ba850a04b3265a640",
       "msg_id": "",
       "outputs": [
        {
         "data": {
          "text/markdown": "`sel_first_quant`",
          "text/plain": "<IPython.core.display.Markdown object>"
         },
         "metadata": {},
         "output_type": "display_data"
        },
        {
         "data": {
          "image/svg+xml": "<svg xmlns=\"http://www.w3.org/2000/svg\" xmlns:xlink=\"http://www.w3.org/1999/xlink\" width=\"264pt\" height=\"2420pt\" viewBox=\"0.00 0.00 264.00 2420.00\">\n<g id=\"graph0\" class=\"graph\" transform=\"scale(1 1) rotate(0) translate(4 2416)\">\n<title>my_graph</title>\n<polygon fill=\"white\" stroke=\"transparent\" points=\"-4,4 -4,-2416 260,-2416 260,4 -4,4\"/>\n<!-- tuv_G67 -->\n<g id=\"node1\" class=\"node\">\n<title>tuv_G67</title>\n<text text-anchor=\"middle\" x=\"32\" y=\"-2390.3\" font-family=\"Times,serif\" font-size=\"14.00\">tuv</text>\n</g>\n<!-- SelectFirstQuantization -->\n<g id=\"node46\" class=\"node\">\n<title>SelectFirstQuantization</title>\n<polygon fill=\"none\" stroke=\"black\" points=\"101,-1679 101,-1696 155,-1696 155,-1679 101,-1679\"/>\n<text text-anchor=\"start\" x=\"109.5\" y=\"-1685\" font-family=\"Times,serif\" font-size=\"10.00\">SELECT</text>\n<polygon fill=\"none\" stroke=\"black\" points=\"101,-1658 101,-1679 155,-1679 155,-1658 101,-1658\"/>\n<text text-anchor=\"start\" x=\"119\" y=\"-1664.8\" font-family=\"Times,serif\" font-size=\"14.00\">tuv</text>\n<polygon fill=\"none\" stroke=\"black\" points=\"101,-1637 101,-1658 155,-1658 155,-1637 101,-1637\"/>\n<text text-anchor=\"start\" x=\"121\" y=\"-1643.8\" font-family=\"Times,serif\" font-size=\"14.00\">uv</text>\n<polygon fill=\"none\" stroke=\"black\" points=\"101,-1616 101,-1637 155,-1637 155,-1616 101,-1616\"/>\n<text text-anchor=\"start\" x=\"111\" y=\"-1622.8\" font-family=\"Times,serif\" font-size=\"14.00\">i_ne_j</text>\n<polygon fill=\"none\" stroke=\"black\" points=\"101,-1595 101,-1616 155,-1616 155,-1595 101,-1595\"/>\n<text text-anchor=\"start\" x=\"111\" y=\"-1601.8\" font-family=\"Times,serif\" font-size=\"14.00\">plus_t</text>\n<polygon fill=\"none\" stroke=\"black\" points=\"101,-1574 101,-1595 155,-1595 155,-1574 101,-1574\"/>\n<text text-anchor=\"start\" x=\"126\" y=\"-1580.8\" font-family=\"Times,serif\" font-size=\"14.00\">i</text>\n<polygon fill=\"none\" stroke=\"black\" points=\"101,-1553 101,-1574 155,-1574 155,-1553 101,-1553\"/>\n<text text-anchor=\"start\" x=\"126\" y=\"-1559.8\" font-family=\"Times,serif\" font-size=\"14.00\">j</text>\n<polygon fill=\"none\" stroke=\"black\" points=\"101,-1532 101,-1553 155,-1553 155,-1532 101,-1532\"/>\n<text text-anchor=\"start\" x=\"123\" y=\"-1538.8\" font-family=\"Times,serif\" font-size=\"14.00\">w</text>\n<polygon fill=\"none\" stroke=\"black\" points=\"101,-1511 101,-1532 155,-1532 155,-1511 101,-1511\"/>\n<text text-anchor=\"start\" x=\"125.5\" y=\"-1517.8\" font-family=\"Times,serif\" font-size=\"14.00\">r</text>\n<polygon fill=\"none\" stroke=\"black\" points=\"101,-1490 101,-1511 155,-1511 155,-1490 101,-1490\"/>\n<text text-anchor=\"start\" x=\"125\" y=\"-1496.8\" font-family=\"Times,serif\" font-size=\"14.00\">s</text>\n<polygon fill=\"none\" stroke=\"black\" points=\"101,-1469 101,-1490 155,-1490 155,-1469 101,-1469\"/>\n<text text-anchor=\"start\" x=\"118.5\" y=\"-1475.8\" font-family=\"Times,serif\" font-size=\"14.00\">mu</text>\n<polygon fill=\"none\" stroke=\"black\" points=\"101,-1448 101,-1469 155,-1469 155,-1448 101,-1448\"/>\n<text text-anchor=\"start\" x=\"114\" y=\"-1454.8\" font-family=\"Times,serif\" font-size=\"14.00\">nu_x</text>\n<polygon fill=\"none\" stroke=\"black\" points=\"101,-1427 101,-1448 155,-1448 155,-1427 101,-1427\"/>\n<text text-anchor=\"start\" x=\"114\" y=\"-1433.8\" font-family=\"Times,serif\" font-size=\"14.00\">nu_y</text>\n<polygon fill=\"none\" stroke=\"black\" points=\"101,-1406 101,-1427 155,-1427 155,-1406 101,-1406\"/>\n<text text-anchor=\"start\" x=\"114.5\" y=\"-1412.8\" font-family=\"Times,serif\" font-size=\"14.00\">nu_z</text>\n<polygon fill=\"none\" stroke=\"black\" points=\"101,-1385 101,-1406 155,-1406 155,-1385 101,-1385\"/>\n<text text-anchor=\"start\" x=\"122\" y=\"-1391.8\" font-family=\"Times,serif\" font-size=\"14.00\">m</text>\n<polygon fill=\"none\" stroke=\"black\" points=\"101,-1364 101,-1385 155,-1385 155,-1364 101,-1364\"/>\n<text text-anchor=\"start\" x=\"126\" y=\"-1370.8\" font-family=\"Times,serif\" font-size=\"14.00\">l</text>\n<polygon fill=\"none\" stroke=\"black\" points=\"101,-1343 101,-1364 155,-1364 155,-1343 101,-1343\"/>\n<text text-anchor=\"start\" x=\"104\" y=\"-1349.8\" font-family=\"Times,serif\" font-size=\"14.00\">sys[0, 0]</text>\n<polygon fill=\"none\" stroke=\"black\" points=\"101,-1322 101,-1343 155,-1343 155,-1322 101,-1322\"/>\n<text text-anchor=\"start\" x=\"104\" y=\"-1328.8\" font-family=\"Times,serif\" font-size=\"14.00\">sys[0, 1]</text>\n<polygon fill=\"none\" stroke=\"black\" points=\"101,-1301 101,-1322 155,-1322 155,-1301 101,-1301\"/>\n<text text-anchor=\"start\" x=\"104\" y=\"-1307.8\" font-family=\"Times,serif\" font-size=\"14.00\">sys[0, 2]</text>\n<polygon fill=\"none\" stroke=\"black\" points=\"101,-1280 101,-1301 155,-1301 155,-1280 101,-1280\"/>\n<text text-anchor=\"start\" x=\"104\" y=\"-1286.8\" font-family=\"Times,serif\" font-size=\"14.00\">sys[1, 0]</text>\n<polygon fill=\"none\" stroke=\"black\" points=\"101,-1259 101,-1280 155,-1280 155,-1259 101,-1259\"/>\n<text text-anchor=\"start\" x=\"104\" y=\"-1265.8\" font-family=\"Times,serif\" font-size=\"14.00\">sys[1, 1]</text>\n<polygon fill=\"none\" stroke=\"black\" points=\"101,-1238 101,-1259 155,-1259 155,-1238 101,-1238\"/>\n<text text-anchor=\"start\" x=\"104\" y=\"-1244.8\" font-family=\"Times,serif\" font-size=\"14.00\">sys[1, 2]</text>\n<polygon fill=\"none\" stroke=\"black\" points=\"101,-1217 101,-1238 155,-1238 155,-1217 101,-1217\"/>\n<text text-anchor=\"start\" x=\"104\" y=\"-1223.8\" font-family=\"Times,serif\" font-size=\"14.00\">sys[2, 0]</text>\n<polygon fill=\"none\" stroke=\"black\" points=\"101,-1196 101,-1217 155,-1217 155,-1196 101,-1196\"/>\n<text text-anchor=\"start\" x=\"104\" y=\"-1202.8\" font-family=\"Times,serif\" font-size=\"14.00\">sys[2, 1]</text>\n<polygon fill=\"none\" stroke=\"black\" points=\"101,-1175 101,-1196 155,-1196 155,-1175 101,-1175\"/>\n<text text-anchor=\"start\" x=\"104\" y=\"-1181.8\" font-family=\"Times,serif\" font-size=\"14.00\">sys[2, 2]</text>\n<polygon fill=\"none\" stroke=\"black\" points=\"101,-1154 101,-1175 155,-1175 155,-1154 101,-1154\"/>\n<text text-anchor=\"start\" x=\"104\" y=\"-1160.8\" font-family=\"Times,serif\" font-size=\"14.00\">sys[3, 0]</text>\n<polygon fill=\"none\" stroke=\"black\" points=\"101,-1133 101,-1154 155,-1154 155,-1133 101,-1133\"/>\n<text text-anchor=\"start\" x=\"104\" y=\"-1139.8\" font-family=\"Times,serif\" font-size=\"14.00\">sys[3, 1]</text>\n<polygon fill=\"none\" stroke=\"black\" points=\"101,-1112 101,-1133 155,-1133 155,-1112 101,-1112\"/>\n<text text-anchor=\"start\" x=\"104\" y=\"-1118.8\" font-family=\"Times,serif\" font-size=\"14.00\">sys[3, 2]</text>\n<polygon fill=\"none\" stroke=\"black\" points=\"101,-1091 101,-1112 155,-1112 155,-1091 101,-1091\"/>\n<text text-anchor=\"start\" x=\"104\" y=\"-1097.8\" font-family=\"Times,serif\" font-size=\"14.00\">sys[4, 0]</text>\n<polygon fill=\"none\" stroke=\"black\" points=\"101,-1070 101,-1091 155,-1091 155,-1070 101,-1070\"/>\n<text text-anchor=\"start\" x=\"104\" y=\"-1076.8\" font-family=\"Times,serif\" font-size=\"14.00\">sys[4, 1]</text>\n<polygon fill=\"none\" stroke=\"black\" points=\"101,-1049 101,-1070 155,-1070 155,-1049 101,-1049\"/>\n<text text-anchor=\"start\" x=\"104\" y=\"-1055.8\" font-family=\"Times,serif\" font-size=\"14.00\">sys[4, 2]</text>\n<polygon fill=\"none\" stroke=\"black\" points=\"101,-1028 101,-1049 155,-1049 155,-1028 101,-1028\"/>\n<text text-anchor=\"start\" x=\"104\" y=\"-1034.8\" font-family=\"Times,serif\" font-size=\"14.00\">sys[5, 0]</text>\n<polygon fill=\"none\" stroke=\"black\" points=\"101,-1007 101,-1028 155,-1028 155,-1007 101,-1007\"/>\n<text text-anchor=\"start\" x=\"104\" y=\"-1013.8\" font-family=\"Times,serif\" font-size=\"14.00\">sys[5, 1]</text>\n<polygon fill=\"none\" stroke=\"black\" points=\"101,-986 101,-1007 155,-1007 155,-986 101,-986\"/>\n<text text-anchor=\"start\" x=\"104\" y=\"-992.8\" font-family=\"Times,serif\" font-size=\"14.00\">sys[5, 2]</text>\n<polygon fill=\"none\" stroke=\"black\" points=\"101,-965 101,-986 155,-986 155,-965 101,-965\"/>\n<text text-anchor=\"start\" x=\"104\" y=\"-971.8\" font-family=\"Times,serif\" font-size=\"14.00\">sys[6, 0]</text>\n<polygon fill=\"none\" stroke=\"black\" points=\"101,-944 101,-965 155,-965 155,-944 101,-944\"/>\n<text text-anchor=\"start\" x=\"104\" y=\"-950.8\" font-family=\"Times,serif\" font-size=\"14.00\">sys[6, 1]</text>\n<polygon fill=\"none\" stroke=\"black\" points=\"101,-923 101,-944 155,-944 155,-923 101,-923\"/>\n<text text-anchor=\"start\" x=\"104\" y=\"-929.8\" font-family=\"Times,serif\" font-size=\"14.00\">sys[6, 2]</text>\n<polygon fill=\"none\" stroke=\"black\" points=\"101,-902 101,-923 155,-923 155,-902 101,-902\"/>\n<text text-anchor=\"start\" x=\"104\" y=\"-908.8\" font-family=\"Times,serif\" font-size=\"14.00\">sys[7, 0]</text>\n<polygon fill=\"none\" stroke=\"black\" points=\"101,-881 101,-902 155,-902 155,-881 101,-881\"/>\n<text text-anchor=\"start\" x=\"104\" y=\"-887.8\" font-family=\"Times,serif\" font-size=\"14.00\">sys[7, 1]</text>\n<polygon fill=\"none\" stroke=\"black\" points=\"101,-860 101,-881 155,-881 155,-860 101,-860\"/>\n<text text-anchor=\"start\" x=\"104\" y=\"-866.8\" font-family=\"Times,serif\" font-size=\"14.00\">sys[7, 2]</text>\n<polygon fill=\"none\" stroke=\"black\" points=\"101,-839 101,-860 155,-860 155,-839 101,-839\"/>\n<text text-anchor=\"start\" x=\"104\" y=\"-845.8\" font-family=\"Times,serif\" font-size=\"14.00\">sys[8, 0]</text>\n<polygon fill=\"none\" stroke=\"black\" points=\"101,-818 101,-839 155,-839 155,-818 101,-818\"/>\n<text text-anchor=\"start\" x=\"104\" y=\"-824.8\" font-family=\"Times,serif\" font-size=\"14.00\">sys[8, 1]</text>\n<polygon fill=\"none\" stroke=\"black\" points=\"101,-797 101,-818 155,-818 155,-797 101,-797\"/>\n<text text-anchor=\"start\" x=\"104\" y=\"-803.8\" font-family=\"Times,serif\" font-size=\"14.00\">sys[8, 2]</text>\n<polygon fill=\"none\" stroke=\"black\" points=\"101,-776 101,-797 155,-797 155,-776 101,-776\"/>\n<text text-anchor=\"start\" x=\"104\" y=\"-782.8\" font-family=\"Times,serif\" font-size=\"14.00\">sys[9, 0]</text>\n<polygon fill=\"none\" stroke=\"black\" points=\"101,-755 101,-776 155,-776 155,-755 101,-755\"/>\n<text text-anchor=\"start\" x=\"104\" y=\"-761.8\" font-family=\"Times,serif\" font-size=\"14.00\">sys[9, 1]</text>\n<polygon fill=\"none\" stroke=\"black\" points=\"101,-734 101,-755 155,-755 155,-734 101,-734\"/>\n<text text-anchor=\"start\" x=\"104\" y=\"-740.8\" font-family=\"Times,serif\" font-size=\"14.00\">sys[9, 2]</text>\n</g>\n<!-- tuv_G67&#45;&gt;SelectFirstQuantization -->\n<g id=\"edge1\" class=\"edge\">\n<title>tuv_G67:e-&gt;SelectFirstQuantization:w</title>\n<path fill=\"none\" stroke=\"black\" d=\"M60,-2394C79.62,-2394 80.78,-1708.11 99.39,-1670.6\"/>\n<ellipse fill=\"black\" stroke=\"black\" cx=\"100.29\" cy=\"-1669.7\" rx=\"1\" ry=\"1\"/>\n<text text-anchor=\"middle\" x=\"82.5\" y=\"-1969\" font-family=\"Times,serif\" font-size=\"10.00\">1</text>\n</g>\n<!-- uv_G109 -->\n<g id=\"node2\" class=\"node\">\n<title>uv_G109</title>\n<text text-anchor=\"middle\" x=\"32\" y=\"-2336.3\" font-family=\"Times,serif\" font-size=\"14.00\">uv</text>\n</g>\n<!-- uv_G109&#45;&gt;SelectFirstQuantization -->\n<g id=\"edge2\" class=\"edge\">\n<title>uv_G109:e-&gt;SelectFirstQuantization:w</title>\n<path fill=\"none\" stroke=\"black\" d=\"M60,-2340C78.73,-2340 81.6,-1685.33 99.46,-1649.52\"/>\n<ellipse fill=\"black\" stroke=\"black\" cx=\"100.29\" cy=\"-1648.7\" rx=\"1\" ry=\"1\"/>\n<text text-anchor=\"middle\" x=\"82.5\" y=\"-1935\" font-family=\"Times,serif\" font-size=\"10.00\">1</text>\n</g>\n<!-- i_ne_j_G14 -->\n<g id=\"node3\" class=\"node\">\n<title>i_ne_j_G14</title>\n<text text-anchor=\"middle\" x=\"32\" y=\"-2282.3\" font-family=\"Times,serif\" font-size=\"14.00\">i_ne_j</text>\n</g>\n<!-- i_ne_j_G14&#45;&gt;SelectFirstQuantization -->\n<g id=\"edge3\" class=\"edge\">\n<title>i_ne_j_G14:e-&gt;SelectFirstQuantization:w</title>\n<path fill=\"none\" stroke=\"black\" d=\"M60,-2286C77.84,-2286 82.41,-1662.55 99.53,-1628.45\"/>\n<ellipse fill=\"black\" stroke=\"black\" cx=\"100.29\" cy=\"-1627.7\" rx=\"1\" ry=\"1\"/>\n<text text-anchor=\"middle\" x=\"82.5\" y=\"-1900\" font-family=\"Times,serif\" font-size=\"10.00\">1</text>\n</g>\n<!-- plus_t_G126 -->\n<g id=\"node4\" class=\"node\">\n<title>plus_t_G126</title>\n<text text-anchor=\"middle\" x=\"32\" y=\"-2228.3\" font-family=\"Times,serif\" font-size=\"14.00\">plus_t</text>\n</g>\n<!-- plus_t_G126&#45;&gt;SelectFirstQuantization -->\n<g id=\"edge4\" class=\"edge\">\n<title>plus_t_G126:e-&gt;SelectFirstQuantization:w</title>\n<path fill=\"none\" stroke=\"black\" d=\"M60,-2232C76.88,-2232 83.18,-1644.51 99.4,-1607.8\"/>\n<ellipse fill=\"black\" stroke=\"black\" cx=\"100.33\" cy=\"-1606.75\" rx=\"1\" ry=\"1\"/>\n<text text-anchor=\"middle\" x=\"82.5\" y=\"-1865\" font-family=\"Times,serif\" font-size=\"10.00\">1</text>\n</g>\n<!-- i_G49 -->\n<g id=\"node5\" class=\"node\">\n<title>i_G49</title>\n<text text-anchor=\"middle\" x=\"32\" y=\"-2174.3\" font-family=\"Times,serif\" font-size=\"14.00\">i</text>\n</g>\n<!-- i_G49&#45;&gt;SelectFirstQuantization -->\n<g id=\"edge5\" class=\"edge\">\n<title>i_G49:e-&gt;SelectFirstQuantization:w</title>\n<path fill=\"none\" stroke=\"black\" d=\"M60,-2178C76,-2178 83.98,-1621.48 99.48,-1586.7\"/>\n<ellipse fill=\"black\" stroke=\"black\" cx=\"100.33\" cy=\"-1585.74\" rx=\"1\" ry=\"1\"/>\n<text text-anchor=\"middle\" x=\"82.5\" y=\"-1831\" font-family=\"Times,serif\" font-size=\"10.00\">4</text>\n</g>\n<!-- j_G89 -->\n<g id=\"node6\" class=\"node\">\n<title>j_G89</title>\n<text text-anchor=\"middle\" x=\"32\" y=\"-2120.3\" font-family=\"Times,serif\" font-size=\"14.00\">j</text>\n</g>\n<!-- j_G89&#45;&gt;SelectFirstQuantization -->\n<g id=\"edge6\" class=\"edge\">\n<title>j_G89:e-&gt;SelectFirstQuantization:w</title>\n<path fill=\"none\" stroke=\"black\" d=\"M60,-2124C75.11,-2124 84.78,-1598.45 99.55,-1565.61\"/>\n<ellipse fill=\"black\" stroke=\"black\" cx=\"100.33\" cy=\"-1564.74\" rx=\"1\" ry=\"1\"/>\n<text text-anchor=\"middle\" x=\"82.5\" y=\"-1813\" font-family=\"Times,serif\" font-size=\"10.00\">4</text>\n</g>\n<!-- w_G92 -->\n<g id=\"node7\" class=\"node\">\n<title>w_G92</title>\n<text text-anchor=\"middle\" x=\"32\" y=\"-2066.3\" font-family=\"Times,serif\" font-size=\"14.00\">w</text>\n</g>\n<!-- w_G92&#45;&gt;SelectFirstQuantization -->\n<g id=\"edge7\" class=\"edge\">\n<title>w_G92:e-&gt;SelectFirstQuantization:w</title>\n<path fill=\"none\" stroke=\"black\" d=\"M60,-2070C74.22,-2070 85.59,-1575.42 99.63,-1544.51\"/>\n<ellipse fill=\"black\" stroke=\"black\" cx=\"100.33\" cy=\"-1543.74\" rx=\"1\" ry=\"1\"/>\n<text text-anchor=\"middle\" x=\"82.5\" y=\"-1777\" font-family=\"Times,serif\" font-size=\"10.00\">3</text>\n</g>\n<!-- r_G117 -->\n<g id=\"node8\" class=\"node\">\n<title>r_G117</title>\n<text text-anchor=\"middle\" x=\"32\" y=\"-2012.3\" font-family=\"Times,serif\" font-size=\"14.00\">r</text>\n</g>\n<!-- r_G117&#45;&gt;SelectFirstQuantization -->\n<g id=\"edge8\" class=\"edge\">\n<title>r_G117:e-&gt;SelectFirstQuantization:w</title>\n<path fill=\"none\" stroke=\"black\" d=\"M60,-2016C73.29,-2016 86.28,-1556.12 99.55,-1523.79\"/>\n<ellipse fill=\"black\" stroke=\"black\" cx=\"100.37\" cy=\"-1522.78\" rx=\"1\" ry=\"1\"/>\n<text text-anchor=\"middle\" x=\"82.5\" y=\"-1742\" font-family=\"Times,serif\" font-size=\"10.00\">6</text>\n</g>\n<!-- s_G133 -->\n<g id=\"node9\" class=\"node\">\n<title>s_G133</title>\n<text text-anchor=\"middle\" x=\"32\" y=\"-1958.3\" font-family=\"Times,serif\" font-size=\"14.00\">s</text>\n</g>\n<!-- s_G133&#45;&gt;SelectFirstQuantization -->\n<g id=\"edge9\" class=\"edge\">\n<title>s_G133:e-&gt;SelectFirstQuantization:w</title>\n<path fill=\"none\" stroke=\"black\" d=\"M60,-1962C72.4,-1962 87.07,-1532.84 99.64,-1502.67\"/>\n<ellipse fill=\"black\" stroke=\"black\" cx=\"100.37\" cy=\"-1501.77\" rx=\"1\" ry=\"1\"/>\n<text text-anchor=\"middle\" x=\"82.5\" y=\"-1706\" font-family=\"Times,serif\" font-size=\"10.00\">6</text>\n</g>\n<!-- mu_G93 -->\n<g id=\"node10\" class=\"node\">\n<title>mu_G93</title>\n<text text-anchor=\"middle\" x=\"32\" y=\"-1904.3\" font-family=\"Times,serif\" font-size=\"14.00\">mu</text>\n</g>\n<!-- mu_G93&#45;&gt;SelectFirstQuantization -->\n<g id=\"edge10\" class=\"edge\">\n<title>mu_G93:e-&gt;SelectFirstQuantization:w</title>\n<path fill=\"none\" stroke=\"black\" d=\"M60,-1908C83.23,-1908 77.46,-1503.09 99.11,-1480.94\"/>\n<ellipse fill=\"black\" stroke=\"black\" cx=\"100.1\" cy=\"-1480.45\" rx=\"1\" ry=\"1\"/>\n<text text-anchor=\"middle\" x=\"82.5\" y=\"-1658\" font-family=\"Times,serif\" font-size=\"10.00\">6</text>\n</g>\n<!-- nu_x_G68 -->\n<g id=\"node11\" class=\"node\">\n<title>nu_x_G68</title>\n<text text-anchor=\"middle\" x=\"32\" y=\"-1850.3\" font-family=\"Times,serif\" font-size=\"14.00\">nu_x</text>\n</g>\n<!-- nu_x_G68&#45;&gt;SelectFirstQuantization -->\n<g id=\"edge11\" class=\"edge\">\n<title>nu_x_G68:e-&gt;SelectFirstQuantization:w</title>\n<path fill=\"none\" stroke=\"black\" d=\"M60,-1854C81.37,-1854 79.11,-1483.3 99,-1460.13\"/>\n<ellipse fill=\"black\" stroke=\"black\" cx=\"100.13\" cy=\"-1459.49\" rx=\"1\" ry=\"1\"/>\n<text text-anchor=\"middle\" x=\"82.5\" y=\"-1624\" font-family=\"Times,serif\" font-size=\"10.00\">7</text>\n</g>\n<!-- nu_y_G10 -->\n<g id=\"node12\" class=\"node\">\n<title>nu_y_G10</title>\n<text text-anchor=\"middle\" x=\"32\" y=\"-1796.3\" font-family=\"Times,serif\" font-size=\"14.00\">nu_y</text>\n</g>\n<!-- nu_y_G10&#45;&gt;SelectFirstQuantization -->\n<g id=\"edge12\" class=\"edge\">\n<title>nu_y_G10:e-&gt;SelectFirstQuantization:w</title>\n<path fill=\"none\" stroke=\"black\" d=\"M60,-1800C79.61,-1800 80.71,-1460.27 99.16,-1439.04\"/>\n<ellipse fill=\"black\" stroke=\"black\" cx=\"100.13\" cy=\"-1438.49\" rx=\"1\" ry=\"1\"/>\n<text text-anchor=\"middle\" x=\"82.5\" y=\"-1589\" font-family=\"Times,serif\" font-size=\"10.00\">7</text>\n</g>\n<!-- nu_z_G50 -->\n<g id=\"node13\" class=\"node\">\n<title>nu_z_G50</title>\n<text text-anchor=\"middle\" x=\"32\" y=\"-1742.3\" font-family=\"Times,serif\" font-size=\"14.00\">nu_z</text>\n</g>\n<!-- nu_z_G50&#45;&gt;SelectFirstQuantization -->\n<g id=\"edge13\" class=\"edge\">\n<title>nu_z_G50:e-&gt;SelectFirstQuantization:w</title>\n<path fill=\"none\" stroke=\"black\" d=\"M60,-1746C77.77,-1746 82.27,-1439.73 99.11,-1418.19\"/>\n<ellipse fill=\"black\" stroke=\"black\" cx=\"100.15\" cy=\"-1417.53\" rx=\"1\" ry=\"1\"/>\n<text text-anchor=\"middle\" x=\"82.5\" y=\"-1555\" font-family=\"Times,serif\" font-size=\"10.00\">7</text>\n</g>\n<!-- m_G38 -->\n<g id=\"node14\" class=\"node\">\n<title>m_G38</title>\n<text text-anchor=\"middle\" x=\"32\" y=\"-1688.3\" font-family=\"Times,serif\" font-size=\"14.00\">m</text>\n</g>\n<!-- m_G38&#45;&gt;SelectFirstQuantization -->\n<g id=\"edge14\" class=\"edge\">\n<title>m_G38:e-&gt;SelectFirstQuantization:w</title>\n<path fill=\"none\" stroke=\"black\" d=\"M60,-1692C76.02,-1692 83.84,-1416.45 99.28,-1397.07\"/>\n<ellipse fill=\"black\" stroke=\"black\" cx=\"100.15\" cy=\"-1396.53\" rx=\"1\" ry=\"1\"/>\n<text text-anchor=\"middle\" x=\"82.5\" y=\"-1520\" font-family=\"Times,serif\" font-size=\"10.00\">8</text>\n</g>\n<!-- l_G2 -->\n<g id=\"node15\" class=\"node\">\n<title>l_G2</title>\n<text text-anchor=\"middle\" x=\"32\" y=\"-1634.3\" font-family=\"Times,serif\" font-size=\"14.00\">l</text>\n</g>\n<!-- l_G2&#45;&gt;SelectFirstQuantization -->\n<g id=\"edge15\" class=\"edge\">\n<title>l_G2:e-&gt;SelectFirstQuantization:w</title>\n<path fill=\"none\" stroke=\"black\" d=\"M60,-1638C74.21,-1638 85.31,-1395.15 99.28,-1376.17\"/>\n<ellipse fill=\"black\" stroke=\"black\" cx=\"100.17\" cy=\"-1375.56\" rx=\"1\" ry=\"1\"/>\n<text text-anchor=\"middle\" x=\"82.5\" y=\"-1493\" font-family=\"Times,serif\" font-size=\"10.00\">4</text>\n</g>\n<!-- sys_G90 -->\n<g id=\"node16\" class=\"node\">\n<title>sys_G90</title>\n<text text-anchor=\"middle\" x=\"32\" y=\"-1580.3\" font-family=\"Times,serif\" font-size=\"14.00\">sys[0, 0]</text>\n</g>\n<!-- sys_G90&#45;&gt;SelectFirstQuantization -->\n<g id=\"edge16\" class=\"edge\">\n<title>sys_G90:e-&gt;SelectFirstQuantization:w</title>\n<path fill=\"none\" stroke=\"black\" d=\"M64,-1584C89.18,-1584 75.89,-1366.41 98.97,-1354.51\"/>\n<ellipse fill=\"black\" stroke=\"black\" cx=\"100.03\" cy=\"-1354.24\" rx=\"1\" ry=\"1\"/>\n<text text-anchor=\"middle\" x=\"82.5\" y=\"-1478\" font-family=\"Times,serif\" font-size=\"10.00\">6</text>\n</g>\n<!-- sys_G24 -->\n<g id=\"node17\" class=\"node\">\n<title>sys_G24</title>\n<text text-anchor=\"middle\" x=\"32\" y=\"-1526.3\" font-family=\"Times,serif\" font-size=\"14.00\">sys[0, 1]</text>\n</g>\n<!-- sys_G24&#45;&gt;SelectFirstQuantization -->\n<g id=\"edge17\" class=\"edge\">\n<title>sys_G24:e-&gt;SelectFirstQuantization:w</title>\n<path fill=\"none\" stroke=\"black\" d=\"M64,-1530C85.58,-1530 79.17,-1345.12 99,-1333.57\"/>\n<ellipse fill=\"black\" stroke=\"black\" cx=\"100.04\" cy=\"-1333.27\" rx=\"1\" ry=\"1\"/>\n<text text-anchor=\"middle\" x=\"82.5\" y=\"-1440\" font-family=\"Times,serif\" font-size=\"10.00\">6</text>\n</g>\n<!-- sys_G36 -->\n<g id=\"node18\" class=\"node\">\n<title>sys_G36</title>\n<text text-anchor=\"middle\" x=\"32\" y=\"-1472.3\" font-family=\"Times,serif\" font-size=\"14.00\">sys[0, 2]</text>\n</g>\n<!-- sys_G36&#45;&gt;SelectFirstQuantization -->\n<g id=\"edge18\" class=\"edge\">\n<title>sys_G36:e-&gt;SelectFirstQuantization:w</title>\n<path fill=\"none\" stroke=\"black\" d=\"M64,-1476C81.95,-1476 82.32,-1324.56 98.9,-1312.73\"/>\n<ellipse fill=\"black\" stroke=\"black\" cx=\"100.06\" cy=\"-1312.33\" rx=\"1\" ry=\"1\"/>\n<text text-anchor=\"middle\" x=\"82.5\" y=\"-1397\" font-family=\"Times,serif\" font-size=\"10.00\">6</text>\n</g>\n<!-- sys_G9 -->\n<g id=\"node19\" class=\"node\">\n<title>sys_G9</title>\n<text text-anchor=\"middle\" x=\"32\" y=\"-1418.3\" font-family=\"Times,serif\" font-size=\"14.00\">sys[1, 0]</text>\n</g>\n<!-- sys_G9&#45;&gt;SelectFirstQuantization -->\n<g id=\"edge19\" class=\"edge\">\n<title>sys_G9:e-&gt;SelectFirstQuantization:w</title>\n<path fill=\"none\" stroke=\"black\" d=\"M64,-1422C93.54,-1422 71.82,-1297.07 98.96,-1291.21\"/>\n<ellipse fill=\"black\" stroke=\"black\" cx=\"100.01\" cy=\"-1291.1\" rx=\"1\" ry=\"1\"/>\n<text text-anchor=\"middle\" x=\"82.5\" y=\"-1367\" font-family=\"Times,serif\" font-size=\"10.00\">6</text>\n</g>\n<!-- sys_G48 -->\n<g id=\"node20\" class=\"node\">\n<title>sys_G48</title>\n<text text-anchor=\"middle\" x=\"32\" y=\"-1364.3\" font-family=\"Times,serif\" font-size=\"14.00\">sys[1, 1]</text>\n</g>\n<!-- sys_G48&#45;&gt;SelectFirstQuantization -->\n<g id=\"edge20\" class=\"edge\">\n<title>sys_G48:e-&gt;SelectFirstQuantization:w</title>\n<path fill=\"none\" stroke=\"black\" d=\"M64,-1368C86.55,-1368 78.29,-1276.03 98.91,-1270.28\"/>\n<ellipse fill=\"black\" stroke=\"black\" cx=\"100.01\" cy=\"-1270.13\" rx=\"1\" ry=\"1\"/>\n<text text-anchor=\"middle\" x=\"82.5\" y=\"-1324\" font-family=\"Times,serif\" font-size=\"10.00\">6</text>\n</g>\n<!-- sys_G20 -->\n<g id=\"node21\" class=\"node\">\n<title>sys_G20</title>\n<text text-anchor=\"middle\" x=\"32\" y=\"-1310.3\" font-family=\"Times,serif\" font-size=\"14.00\">sys[1, 2]</text>\n</g>\n<!-- sys_G20&#45;&gt;SelectFirstQuantization -->\n<g id=\"edge21\" class=\"edge\">\n<title>sys_G20:e-&gt;SelectFirstQuantization:w</title>\n<path fill=\"none\" stroke=\"black\" d=\"M64,-1314C96.46,-1314 69.11,-1252.01 98.76,-1249.11\"/>\n<ellipse fill=\"black\" stroke=\"black\" cx=\"100\" cy=\"-1249.05\" rx=\"1\" ry=\"1\"/>\n<text text-anchor=\"middle\" x=\"82.5\" y=\"-1290\" font-family=\"Times,serif\" font-size=\"10.00\">6</text>\n</g>\n<!-- sys_G132 -->\n<g id=\"node22\" class=\"node\">\n<title>sys_G132</title>\n<text text-anchor=\"middle\" x=\"32\" y=\"-1256.3\" font-family=\"Times,serif\" font-size=\"14.00\">sys[2, 0]</text>\n</g>\n<!-- sys_G132&#45;&gt;SelectFirstQuantization -->\n<g id=\"edge22\" class=\"edge\">\n<title>sys_G132:e-&gt;SelectFirstQuantization:w</title>\n<path fill=\"none\" stroke=\"black\" d=\"M64,-1260C84.89,-1260 79.72,-1230.45 98.58,-1228.14\"/>\n<ellipse fill=\"black\" stroke=\"black\" cx=\"100\" cy=\"-1228.06\" rx=\"1\" ry=\"1\"/>\n<text text-anchor=\"middle\" x=\"82.5\" y=\"-1247\" font-family=\"Times,serif\" font-size=\"10.00\">6</text>\n</g>\n<!-- sys_G45 -->\n<g id=\"node23\" class=\"node\">\n<title>sys_G45</title>\n<text text-anchor=\"middle\" x=\"32\" y=\"-1202.3\" font-family=\"Times,serif\" font-size=\"14.00\">sys[2, 1]</text>\n</g>\n<!-- sys_G45&#45;&gt;SelectFirstQuantization -->\n<g id=\"edge23\" class=\"edge\">\n<title>sys_G45:e-&gt;SelectFirstQuantization:w</title>\n<path fill=\"none\" stroke=\"black\" d=\"M64,-1206C79.67,-1206 84.14,-1206 98.77,-1206\"/>\n<ellipse fill=\"black\" stroke=\"black\" cx=\"100\" cy=\"-1206\" rx=\"1\" ry=\"1\"/>\n<text text-anchor=\"middle\" x=\"82.5\" y=\"-1209\" font-family=\"Times,serif\" font-size=\"10.00\">6</text>\n</g>\n<!-- sys_G86 -->\n<g id=\"node24\" class=\"node\">\n<title>sys_G86</title>\n<text text-anchor=\"middle\" x=\"32\" y=\"-1148.3\" font-family=\"Times,serif\" font-size=\"14.00\">sys[2, 2]</text>\n</g>\n<!-- sys_G86&#45;&gt;SelectFirstQuantization -->\n<g id=\"edge24\" class=\"edge\">\n<title>sys_G86:e-&gt;SelectFirstQuantization:w</title>\n<path fill=\"none\" stroke=\"black\" d=\"M64,-1152C85.17,-1152 79.47,-1182.47 98.55,-1184.85\"/>\n<ellipse fill=\"black\" stroke=\"black\" cx=\"100\" cy=\"-1184.94\" rx=\"1\" ry=\"1\"/>\n<text text-anchor=\"middle\" x=\"82.5\" y=\"-1172\" font-family=\"Times,serif\" font-size=\"10.00\">6</text>\n</g>\n<!-- sys_G25 -->\n<g id=\"node25\" class=\"node\">\n<title>sys_G25</title>\n<text text-anchor=\"middle\" x=\"32\" y=\"-1094.3\" font-family=\"Times,serif\" font-size=\"14.00\">sys[3, 0]</text>\n</g>\n<!-- sys_G25&#45;&gt;SelectFirstQuantization -->\n<g id=\"edge25\" class=\"edge\">\n<title>sys_G25:e-&gt;SelectFirstQuantization:w</title>\n<path fill=\"none\" stroke=\"black\" d=\"M64,-1098C96.84,-1098 68.75,-1160.94 98.74,-1163.89\"/>\n<ellipse fill=\"black\" stroke=\"black\" cx=\"100\" cy=\"-1163.95\" rx=\"1\" ry=\"1\"/>\n<text text-anchor=\"middle\" x=\"82.5\" y=\"-1141\" font-family=\"Times,serif\" font-size=\"10.00\">6</text>\n</g>\n<!-- sys_G94 -->\n<g id=\"node26\" class=\"node\">\n<title>sys_G94</title>\n<text text-anchor=\"middle\" x=\"32\" y=\"-1040.3\" font-family=\"Times,serif\" font-size=\"14.00\">sys[3, 1]</text>\n</g>\n<!-- sys_G94&#45;&gt;SelectFirstQuantization -->\n<g id=\"edge26\" class=\"edge\">\n<title>sys_G94:e-&gt;SelectFirstQuantization:w</title>\n<path fill=\"none\" stroke=\"black\" d=\"M64,-1044C86.75,-1044 78.1,-1136.91 98.89,-1142.72\"/>\n<ellipse fill=\"black\" stroke=\"black\" cx=\"100.01\" cy=\"-1142.87\" rx=\"1\" ry=\"1\"/>\n<text text-anchor=\"middle\" x=\"82.5\" y=\"-1099\" font-family=\"Times,serif\" font-size=\"10.00\">6</text>\n</g>\n<!-- sys_G131 -->\n<g id=\"node27\" class=\"node\">\n<title>sys_G131</title>\n<text text-anchor=\"middle\" x=\"32\" y=\"-986.3\" font-family=\"Times,serif\" font-size=\"14.00\">sys[3, 2]</text>\n</g>\n<!-- sys_G131&#45;&gt;SelectFirstQuantization -->\n<g id=\"edge27\" class=\"edge\">\n<title>sys_G131:e-&gt;SelectFirstQuantization:w</title>\n<path fill=\"none\" stroke=\"black\" d=\"M64,-990C93.75,-990 71.63,-1115.89 98.95,-1121.79\"/>\n<ellipse fill=\"black\" stroke=\"black\" cx=\"100.01\" cy=\"-1121.9\" rx=\"1\" ry=\"1\"/>\n<text text-anchor=\"middle\" x=\"82.5\" y=\"-1066\" font-family=\"Times,serif\" font-size=\"10.00\">6</text>\n</g>\n<!-- sys_G7 -->\n<g id=\"node28\" class=\"node\">\n<title>sys_G7</title>\n<text text-anchor=\"middle\" x=\"32\" y=\"-932.3\" font-family=\"Times,serif\" font-size=\"14.00\">sys[4, 0]</text>\n</g>\n<!-- sys_G7&#45;&gt;SelectFirstQuantization -->\n<g id=\"edge28\" class=\"edge\">\n<title>sys_G7:e-&gt;SelectFirstQuantization:w</title>\n<path fill=\"none\" stroke=\"black\" d=\"M64,-936C82.05,-936 82.23,-1088.36 98.88,-1100.26\"/>\n<ellipse fill=\"black\" stroke=\"black\" cx=\"100.06\" cy=\"-1100.67\" rx=\"1\" ry=\"1\"/>\n<text text-anchor=\"middle\" x=\"82.5\" y=\"-1021\" font-family=\"Times,serif\" font-size=\"10.00\">6</text>\n</g>\n<!-- sys_G82 -->\n<g id=\"node29\" class=\"node\">\n<title>sys_G82</title>\n<text text-anchor=\"middle\" x=\"32\" y=\"-878.3\" font-family=\"Times,serif\" font-size=\"14.00\">sys[4, 1]</text>\n</g>\n<!-- sys_G82&#45;&gt;SelectFirstQuantization -->\n<g id=\"edge29\" class=\"edge\">\n<title>sys_G82:e-&gt;SelectFirstQuantization:w</title>\n<path fill=\"none\" stroke=\"black\" d=\"M64,-882C85.68,-882 79.07,-1067.82 98.99,-1079.43\"/>\n<ellipse fill=\"black\" stroke=\"black\" cx=\"100.04\" cy=\"-1079.73\" rx=\"1\" ry=\"1\"/>\n<text text-anchor=\"middle\" x=\"82.5\" y=\"-989\" font-family=\"Times,serif\" font-size=\"10.00\">6</text>\n</g>\n<!-- sys_G65 -->\n<g id=\"node30\" class=\"node\">\n<title>sys_G65</title>\n<text text-anchor=\"middle\" x=\"32\" y=\"-824.3\" font-family=\"Times,serif\" font-size=\"14.00\">sys[4, 2]</text>\n</g>\n<!-- sys_G65&#45;&gt;SelectFirstQuantization -->\n<g id=\"edge30\" class=\"edge\">\n<title>sys_G65:e-&gt;SelectFirstQuantization:w</title>\n<path fill=\"none\" stroke=\"black\" d=\"M64,-828C89.28,-828 75.8,-1046.54 98.96,-1058.49\"/>\n<ellipse fill=\"black\" stroke=\"black\" cx=\"100.03\" cy=\"-1058.76\" rx=\"1\" ry=\"1\"/>\n<text text-anchor=\"middle\" x=\"82.5\" y=\"-953\" font-family=\"Times,serif\" font-size=\"10.00\">6</text>\n</g>\n<!-- sys_G75 -->\n<g id=\"node31\" class=\"node\">\n<title>sys_G75</title>\n<text text-anchor=\"middle\" x=\"32\" y=\"-770.3\" font-family=\"Times,serif\" font-size=\"14.00\">sys[5, 0]</text>\n</g>\n<!-- sys_G75&#45;&gt;SelectFirstQuantization -->\n<g id=\"edge31\" class=\"edge\">\n<title>sys_G75:e-&gt;SelectFirstQuantization:w</title>\n<path fill=\"none\" stroke=\"black\" d=\"M64,-774C92.93,-774 72.39,-1025.77 99,-1037.57\"/>\n<ellipse fill=\"black\" stroke=\"black\" cx=\"100.02\" cy=\"-1037.79\" rx=\"1\" ry=\"1\"/>\n<text text-anchor=\"middle\" x=\"82.5\" y=\"-924\" font-family=\"Times,serif\" font-size=\"10.00\">6</text>\n</g>\n<!-- sys_G4 -->\n<g id=\"node32\" class=\"node\">\n<title>sys_G4</title>\n<text text-anchor=\"middle\" x=\"32\" y=\"-716.3\" font-family=\"Times,serif\" font-size=\"14.00\">sys[5, 1]</text>\n</g>\n<!-- sys_G4&#45;&gt;SelectFirstQuantization -->\n<g id=\"edge32\" class=\"edge\">\n<title>sys_G4:e-&gt;SelectFirstQuantization:w</title>\n<path fill=\"none\" stroke=\"black\" d=\"M64,-720C80.04,-720 84.09,-996.48 99.29,-1015.92\"/>\n<ellipse fill=\"black\" stroke=\"black\" cx=\"100.15\" cy=\"-1016.47\" rx=\"1\" ry=\"1\"/>\n<text text-anchor=\"middle\" x=\"82.5\" y=\"-871\" font-family=\"Times,serif\" font-size=\"10.00\">6</text>\n</g>\n<!-- sys_G22 -->\n<g id=\"node33\" class=\"node\">\n<title>sys_G22</title>\n<text text-anchor=\"middle\" x=\"32\" y=\"-662.3\" font-family=\"Times,serif\" font-size=\"14.00\">sys[5, 2]</text>\n</g>\n<!-- sys_G22&#45;&gt;SelectFirstQuantization -->\n<g id=\"edge33\" class=\"edge\">\n<title>sys_G22:e-&gt;SelectFirstQuantization:w</title>\n<path fill=\"none\" stroke=\"black\" d=\"M64,-666C81.8,-666 82.52,-973.2 99.12,-994.81\"/>\n<ellipse fill=\"black\" stroke=\"black\" cx=\"100.16\" cy=\"-995.46\" rx=\"1\" ry=\"1\"/>\n<text text-anchor=\"middle\" x=\"82.5\" y=\"-834\" font-family=\"Times,serif\" font-size=\"10.00\">6</text>\n</g>\n<!-- sys_G96 -->\n<g id=\"node34\" class=\"node\">\n<title>sys_G96</title>\n<text text-anchor=\"middle\" x=\"32\" y=\"-608.3\" font-family=\"Times,serif\" font-size=\"14.00\">sys[6, 0]</text>\n</g>\n<!-- sys_G96&#45;&gt;SelectFirstQuantization -->\n<g id=\"edge34\" class=\"edge\">\n<title>sys_G96:e-&gt;SelectFirstQuantization:w</title>\n<path fill=\"none\" stroke=\"black\" d=\"M64,-612C83.64,-612 80.93,-952.67 99.17,-973.96\"/>\n<ellipse fill=\"black\" stroke=\"black\" cx=\"100.13\" cy=\"-974.51\" rx=\"1\" ry=\"1\"/>\n<text text-anchor=\"middle\" x=\"82.5\" y=\"-796\" font-family=\"Times,serif\" font-size=\"10.00\">6</text>\n</g>\n<!-- sys_G98 -->\n<g id=\"node35\" class=\"node\">\n<title>sys_G98</title>\n<text text-anchor=\"middle\" x=\"32\" y=\"-554.3\" font-family=\"Times,serif\" font-size=\"14.00\">sys[6, 1]</text>\n</g>\n<!-- sys_G98&#45;&gt;SelectFirstQuantization -->\n<g id=\"edge35\" class=\"edge\">\n<title>sys_G98:e-&gt;SelectFirstQuantization:w</title>\n<path fill=\"none\" stroke=\"black\" d=\"M64,-558C85.41,-558 79.33,-929.64 99.01,-952.86\"/>\n<ellipse fill=\"black\" stroke=\"black\" cx=\"100.13\" cy=\"-953.5\" rx=\"1\" ry=\"1\"/>\n<text text-anchor=\"middle\" x=\"82.5\" y=\"-770\" font-family=\"Times,serif\" font-size=\"10.00\">6</text>\n</g>\n<!-- sys_G74 -->\n<g id=\"node36\" class=\"node\">\n<title>sys_G74</title>\n<text text-anchor=\"middle\" x=\"32\" y=\"-500.3\" font-family=\"Times,serif\" font-size=\"14.00\">sys[6, 2]</text>\n</g>\n<!-- sys_G74&#45;&gt;SelectFirstQuantization -->\n<g id=\"edge36\" class=\"edge\">\n<title>sys_G74:e-&gt;SelectFirstQuantization:w</title>\n<path fill=\"none\" stroke=\"black\" d=\"M64,-504C87.27,-504 77.65,-909.86 99.11,-932.06\"/>\n<ellipse fill=\"black\" stroke=\"black\" cx=\"100.11\" cy=\"-932.55\" rx=\"1\" ry=\"1\"/>\n<text text-anchor=\"middle\" x=\"82.5\" y=\"-734\" font-family=\"Times,serif\" font-size=\"10.00\">6</text>\n</g>\n<!-- sys_G43 -->\n<g id=\"node37\" class=\"node\">\n<title>sys_G43</title>\n<text text-anchor=\"middle\" x=\"32\" y=\"-446.3\" font-family=\"Times,serif\" font-size=\"14.00\">sys[7, 0]</text>\n</g>\n<!-- sys_G43&#45;&gt;SelectFirstQuantization -->\n<g id=\"edge37\" class=\"edge\">\n<title>sys_G43:e-&gt;SelectFirstQuantization:w</title>\n<path fill=\"none\" stroke=\"black\" d=\"M64,-450C76.42,-450 87.33,-880.09 99.65,-910.33\"/>\n<ellipse fill=\"black\" stroke=\"black\" cx=\"100.37\" cy=\"-911.22\" rx=\"1\" ry=\"1\"/>\n<text text-anchor=\"middle\" x=\"82.5\" y=\"-684\" font-family=\"Times,serif\" font-size=\"10.00\">6</text>\n</g>\n<!-- sys_G16 -->\n<g id=\"node38\" class=\"node\">\n<title>sys_G16</title>\n<text text-anchor=\"middle\" x=\"32\" y=\"-392.3\" font-family=\"Times,serif\" font-size=\"14.00\">sys[7, 1]</text>\n</g>\n<!-- sys_G16&#45;&gt;SelectFirstQuantization -->\n<g id=\"edge38\" class=\"edge\">\n<title>sys_G16:e-&gt;SelectFirstQuantization:w</title>\n<path fill=\"none\" stroke=\"black\" d=\"M64,-396C90.93,-396 74.25,-868.07 99.14,-890.2\"/>\n<ellipse fill=\"black\" stroke=\"black\" cx=\"100.08\" cy=\"-890.6\" rx=\"1\" ry=\"1\"/>\n<text text-anchor=\"middle\" x=\"82.5\" y=\"-661\" font-family=\"Times,serif\" font-size=\"10.00\">6</text>\n</g>\n<!-- sys_G55 -->\n<g id=\"node39\" class=\"node\">\n<title>sys_G55</title>\n<text text-anchor=\"middle\" x=\"32\" y=\"-338.3\" font-family=\"Times,serif\" font-size=\"14.00\">sys[7, 2]</text>\n</g>\n<!-- sys_G55&#45;&gt;SelectFirstQuantization -->\n<g id=\"edge39\" class=\"edge\">\n<title>sys_G55:e-&gt;SelectFirstQuantization:w</title>\n<path fill=\"none\" stroke=\"black\" d=\"M64,-342C78.24,-342 85.82,-837.52 99.64,-868.49\"/>\n<ellipse fill=\"black\" stroke=\"black\" cx=\"100.33\" cy=\"-869.26\" rx=\"1\" ry=\"1\"/>\n<text text-anchor=\"middle\" x=\"82.5\" y=\"-609\" font-family=\"Times,serif\" font-size=\"10.00\">6</text>\n</g>\n<!-- sys_G78 -->\n<g id=\"node40\" class=\"node\">\n<title>sys_G78</title>\n<text text-anchor=\"middle\" x=\"32\" y=\"-284.3\" font-family=\"Times,serif\" font-size=\"14.00\">sys[8, 0]</text>\n</g>\n<!-- sys_G78&#45;&gt;SelectFirstQuantization -->\n<g id=\"edge40\" class=\"edge\">\n<title>sys_G78:e-&gt;SelectFirstQuantization:w</title>\n<path fill=\"none\" stroke=\"black\" d=\"M64,-288C79.13,-288 85.01,-814.49 99.56,-847.39\"/>\n<ellipse fill=\"black\" stroke=\"black\" cx=\"100.33\" cy=\"-848.25\" rx=\"1\" ry=\"1\"/>\n<text text-anchor=\"middle\" x=\"82.5\" y=\"-571\" font-family=\"Times,serif\" font-size=\"10.00\">6</text>\n</g>\n<!-- sys_G5 -->\n<g id=\"node41\" class=\"node\">\n<title>sys_G5</title>\n<text text-anchor=\"middle\" x=\"32\" y=\"-230.3\" font-family=\"Times,serif\" font-size=\"14.00\">sys[8, 1]</text>\n</g>\n<!-- sys_G5&#45;&gt;SelectFirstQuantization -->\n<g id=\"edge41\" class=\"edge\">\n<title>sys_G5:e-&gt;SelectFirstQuantization:w</title>\n<path fill=\"none\" stroke=\"black\" d=\"M64,-234C80.02,-234 84.21,-791.46 99.49,-826.3\"/>\n<ellipse fill=\"black\" stroke=\"black\" cx=\"100.34\" cy=\"-827.25\" rx=\"1\" ry=\"1\"/>\n<text text-anchor=\"middle\" x=\"82.5\" y=\"-534\" font-family=\"Times,serif\" font-size=\"10.00\">6</text>\n</g>\n<!-- sys_G42 -->\n<g id=\"node42\" class=\"node\">\n<title>sys_G42</title>\n<text text-anchor=\"middle\" x=\"32\" y=\"-176.3\" font-family=\"Times,serif\" font-size=\"14.00\">sys[8, 2]</text>\n</g>\n<!-- sys_G42&#45;&gt;SelectFirstQuantization -->\n<g id=\"edge42\" class=\"edge\">\n<title>sys_G42:e-&gt;SelectFirstQuantization:w</title>\n<path fill=\"none\" stroke=\"black\" d=\"M64,-180C80.9,-180 83.41,-768.42 99.41,-805.2\"/>\n<ellipse fill=\"black\" stroke=\"black\" cx=\"100.34\" cy=\"-806.25\" rx=\"1\" ry=\"1\"/>\n<text text-anchor=\"middle\" x=\"82.5\" y=\"-496\" font-family=\"Times,serif\" font-size=\"10.00\">6</text>\n</g>\n<!-- sys_G62 -->\n<g id=\"node43\" class=\"node\">\n<title>sys_G62</title>\n<text text-anchor=\"middle\" x=\"32\" y=\"-122.3\" font-family=\"Times,serif\" font-size=\"14.00\">sys[9, 0]</text>\n</g>\n<!-- sys_G62&#45;&gt;SelectFirstQuantization -->\n<g id=\"edge43\" class=\"edge\">\n<title>sys_G62:e-&gt;SelectFirstQuantization:w</title>\n<path fill=\"none\" stroke=\"black\" d=\"M64,-126C81.86,-126 82.61,-750.4 99.53,-784.55\"/>\n<ellipse fill=\"black\" stroke=\"black\" cx=\"100.29\" cy=\"-785.3\" rx=\"1\" ry=\"1\"/>\n<text text-anchor=\"middle\" x=\"82.5\" y=\"-459\" font-family=\"Times,serif\" font-size=\"10.00\">6</text>\n</g>\n<!-- sys_G128 -->\n<g id=\"node44\" class=\"node\">\n<title>sys_G128</title>\n<text text-anchor=\"middle\" x=\"32\" y=\"-68.3\" font-family=\"Times,serif\" font-size=\"14.00\">sys[9, 1]</text>\n</g>\n<!-- sys_G128&#45;&gt;SelectFirstQuantization -->\n<g id=\"edge44\" class=\"edge\">\n<title>sys_G128:e-&gt;SelectFirstQuantization:w</title>\n<path fill=\"none\" stroke=\"black\" d=\"M64,-72C82.75,-72 81.79,-727.62 99.46,-763.47\"/>\n<ellipse fill=\"black\" stroke=\"black\" cx=\"100.29\" cy=\"-764.3\" rx=\"1\" ry=\"1\"/>\n<text text-anchor=\"middle\" x=\"82.5\" y=\"-422\" font-family=\"Times,serif\" font-size=\"10.00\">6</text>\n</g>\n<!-- sys_G32 -->\n<g id=\"node45\" class=\"node\">\n<title>sys_G32</title>\n<text text-anchor=\"middle\" x=\"32\" y=\"-14.3\" font-family=\"Times,serif\" font-size=\"14.00\">sys[9, 2]</text>\n</g>\n<!-- sys_G32&#45;&gt;SelectFirstQuantization -->\n<g id=\"edge45\" class=\"edge\">\n<title>sys_G32:e-&gt;SelectFirstQuantization:w</title>\n<path fill=\"none\" stroke=\"black\" d=\"M64,-18C83.64,-18 80.97,-704.84 99.4,-742.4\"/>\n<ellipse fill=\"black\" stroke=\"black\" cx=\"100.29\" cy=\"-743.29\" rx=\"1\" ry=\"1\"/>\n<text text-anchor=\"middle\" x=\"82.5\" y=\"-384\" font-family=\"Times,serif\" font-size=\"10.00\">6</text>\n</g>\n<!-- tuv_G91 -->\n<g id=\"node47\" class=\"node\">\n<title>tuv_G91</title>\n<text text-anchor=\"middle\" x=\"224\" y=\"-2390.3\" font-family=\"Times,serif\" font-size=\"14.00\">tuv</text>\n</g>\n<!-- SelectFirstQuantization&#45;&gt;tuv_G91 -->\n<g id=\"edge46\" class=\"edge\">\n<title>SelectFirstQuantization:e-&gt;tuv_G91:w</title>\n<path fill=\"none\" stroke=\"black\" d=\"M155,-1669C174.62,-1669 175.78,-2354.89 194.39,-2392.4\"/>\n<ellipse fill=\"black\" stroke=\"black\" cx=\"195.29\" cy=\"-2393.3\" rx=\"1\" ry=\"1\"/>\n<text text-anchor=\"middle\" x=\"173.5\" y=\"-1969\" font-family=\"Times,serif\" font-size=\"10.00\">1</text>\n</g>\n<!-- uv_G134 -->\n<g id=\"node48\" class=\"node\">\n<title>uv_G134</title>\n<text text-anchor=\"middle\" x=\"224\" y=\"-2336.3\" font-family=\"Times,serif\" font-size=\"14.00\">uv</text>\n</g>\n<!-- SelectFirstQuantization&#45;&gt;uv_G134 -->\n<g id=\"edge47\" class=\"edge\">\n<title>SelectFirstQuantization:e-&gt;uv_G134:w</title>\n<path fill=\"none\" stroke=\"black\" d=\"M155,-1648C173.73,-1648 176.6,-2302.67 194.46,-2338.48\"/>\n<ellipse fill=\"black\" stroke=\"black\" cx=\"195.29\" cy=\"-2339.3\" rx=\"1\" ry=\"1\"/>\n<text text-anchor=\"middle\" x=\"173.5\" y=\"-1935\" font-family=\"Times,serif\" font-size=\"10.00\">1</text>\n</g>\n<!-- i_ne_j_G80 -->\n<g id=\"node49\" class=\"node\">\n<title>i_ne_j_G80</title>\n<text text-anchor=\"middle\" x=\"224\" y=\"-2282.3\" font-family=\"Times,serif\" font-size=\"14.00\">i_ne_j</text>\n</g>\n<!-- SelectFirstQuantization&#45;&gt;i_ne_j_G80 -->\n<g id=\"edge48\" class=\"edge\">\n<title>SelectFirstQuantization:e-&gt;i_ne_j_G80:w</title>\n<path fill=\"none\" stroke=\"black\" d=\"M155,-1627C172.84,-1627 177.41,-2250.45 194.53,-2284.55\"/>\n<ellipse fill=\"black\" stroke=\"black\" cx=\"195.29\" cy=\"-2285.3\" rx=\"1\" ry=\"1\"/>\n<text text-anchor=\"middle\" x=\"173.5\" y=\"-1900\" font-family=\"Times,serif\" font-size=\"10.00\">1</text>\n</g>\n<!-- plus_t_G19 -->\n<g id=\"node50\" class=\"node\">\n<title>plus_t_G19</title>\n<text text-anchor=\"middle\" x=\"224\" y=\"-2228.3\" font-family=\"Times,serif\" font-size=\"14.00\">plus_t</text>\n</g>\n<!-- SelectFirstQuantization&#45;&gt;plus_t_G19 -->\n<g id=\"edge49\" class=\"edge\">\n<title>SelectFirstQuantization:e-&gt;plus_t_G19:w</title>\n<path fill=\"none\" stroke=\"black\" d=\"M155,-1606C171.88,-1606 178.18,-2193.49 194.4,-2230.2\"/>\n<ellipse fill=\"black\" stroke=\"black\" cx=\"195.33\" cy=\"-2231.25\" rx=\"1\" ry=\"1\"/>\n<text text-anchor=\"middle\" x=\"173.5\" y=\"-1865\" font-family=\"Times,serif\" font-size=\"10.00\">1</text>\n</g>\n<!-- i_G111 -->\n<g id=\"node51\" class=\"node\">\n<title>i_G111</title>\n<text text-anchor=\"middle\" x=\"224\" y=\"-2174.3\" font-family=\"Times,serif\" font-size=\"14.00\">i</text>\n</g>\n<!-- SelectFirstQuantization&#45;&gt;i_G111 -->\n<g id=\"edge50\" class=\"edge\">\n<title>SelectFirstQuantization:e-&gt;i_G111:w</title>\n<path fill=\"none\" stroke=\"black\" d=\"M155,-1585C171,-1585 178.98,-2141.52 194.48,-2176.3\"/>\n<ellipse fill=\"black\" stroke=\"black\" cx=\"195.33\" cy=\"-2177.26\" rx=\"1\" ry=\"1\"/>\n<text text-anchor=\"middle\" x=\"173.5\" y=\"-1831\" font-family=\"Times,serif\" font-size=\"10.00\">4</text>\n</g>\n<!-- j_G114 -->\n<g id=\"node52\" class=\"node\">\n<title>j_G114</title>\n<text text-anchor=\"middle\" x=\"224\" y=\"-2120.3\" font-family=\"Times,serif\" font-size=\"14.00\">j</text>\n</g>\n<!-- SelectFirstQuantization&#45;&gt;j_G114 -->\n<g id=\"edge51\" class=\"edge\">\n<title>SelectFirstQuantization:e-&gt;j_G114:w</title>\n<path fill=\"none\" stroke=\"black\" d=\"M155,-1564C170.11,-1564 179.78,-2089.55 194.55,-2122.39\"/>\n<ellipse fill=\"black\" stroke=\"black\" cx=\"195.33\" cy=\"-2123.26\" rx=\"1\" ry=\"1\"/>\n<text text-anchor=\"middle\" x=\"173.5\" y=\"-1813\" font-family=\"Times,serif\" font-size=\"10.00\">4</text>\n</g>\n<!-- w_G15 -->\n<g id=\"node53\" class=\"node\">\n<title>w_G15</title>\n<text text-anchor=\"middle\" x=\"224\" y=\"-2066.3\" font-family=\"Times,serif\" font-size=\"14.00\">w</text>\n</g>\n<!-- SelectFirstQuantization&#45;&gt;w_G15 -->\n<g id=\"edge52\" class=\"edge\">\n<title>SelectFirstQuantization:e-&gt;w_G15:w</title>\n<path fill=\"none\" stroke=\"black\" d=\"M155,-1543C169.22,-1543 180.59,-2037.58 194.63,-2068.49\"/>\n<ellipse fill=\"black\" stroke=\"black\" cx=\"195.33\" cy=\"-2069.26\" rx=\"1\" ry=\"1\"/>\n<text text-anchor=\"middle\" x=\"173.5\" y=\"-1777\" font-family=\"Times,serif\" font-size=\"10.00\">3</text>\n</g>\n<!-- r_G46 -->\n<g id=\"node54\" class=\"node\">\n<title>r_G46</title>\n<text text-anchor=\"middle\" x=\"224\" y=\"-2012.3\" font-family=\"Times,serif\" font-size=\"14.00\">r</text>\n</g>\n<!-- SelectFirstQuantization&#45;&gt;r_G46 -->\n<g id=\"edge53\" class=\"edge\">\n<title>SelectFirstQuantization:e-&gt;r_G46:w</title>\n<path fill=\"none\" stroke=\"black\" d=\"M155,-1522C168.29,-1522 181.28,-1981.88 194.55,-2014.21\"/>\n<ellipse fill=\"black\" stroke=\"black\" cx=\"195.37\" cy=\"-2015.22\" rx=\"1\" ry=\"1\"/>\n<text text-anchor=\"middle\" x=\"173.5\" y=\"-1742\" font-family=\"Times,serif\" font-size=\"10.00\">6</text>\n</g>\n<!-- s_G119 -->\n<g id=\"node55\" class=\"node\">\n<title>s_G119</title>\n<text text-anchor=\"middle\" x=\"224\" y=\"-1958.3\" font-family=\"Times,serif\" font-size=\"14.00\">s</text>\n</g>\n<!-- SelectFirstQuantization&#45;&gt;s_G119 -->\n<g id=\"edge54\" class=\"edge\">\n<title>SelectFirstQuantization:e-&gt;s_G119:w</title>\n<path fill=\"none\" stroke=\"black\" d=\"M155,-1501C167.4,-1501 182.07,-1930.16 194.64,-1960.33\"/>\n<ellipse fill=\"black\" stroke=\"black\" cx=\"195.37\" cy=\"-1961.23\" rx=\"1\" ry=\"1\"/>\n<text text-anchor=\"middle\" x=\"173.5\" y=\"-1706\" font-family=\"Times,serif\" font-size=\"10.00\">6</text>\n</g>\n<!-- mu_G21 -->\n<g id=\"node56\" class=\"node\">\n<title>mu_G21</title>\n<text text-anchor=\"middle\" x=\"224\" y=\"-1904.3\" font-family=\"Times,serif\" font-size=\"14.00\">mu</text>\n</g>\n<!-- SelectFirstQuantization&#45;&gt;mu_G21 -->\n<g id=\"edge55\" class=\"edge\">\n<title>SelectFirstQuantization:e-&gt;mu_G21:w</title>\n<path fill=\"none\" stroke=\"black\" d=\"M155,-1480C178.23,-1480 172.46,-1884.91 194.11,-1907.06\"/>\n<ellipse fill=\"black\" stroke=\"black\" cx=\"195.1\" cy=\"-1907.55\" rx=\"1\" ry=\"1\"/>\n<text text-anchor=\"middle\" x=\"173.5\" y=\"-1658\" font-family=\"Times,serif\" font-size=\"10.00\">6</text>\n</g>\n<!-- nu_x_G123 -->\n<g id=\"node57\" class=\"node\">\n<title>nu_x_G123</title>\n<text text-anchor=\"middle\" x=\"224\" y=\"-1850.3\" font-family=\"Times,serif\" font-size=\"14.00\">nu_x</text>\n</g>\n<!-- SelectFirstQuantization&#45;&gt;nu_x_G123 -->\n<g id=\"edge56\" class=\"edge\">\n<title>SelectFirstQuantization:e-&gt;nu_x_G123:w</title>\n<path fill=\"none\" stroke=\"black\" d=\"M155,-1459C176.37,-1459 174.11,-1829.7 194,-1852.87\"/>\n<ellipse fill=\"black\" stroke=\"black\" cx=\"195.13\" cy=\"-1853.51\" rx=\"1\" ry=\"1\"/>\n<text text-anchor=\"middle\" x=\"173.5\" y=\"-1624\" font-family=\"Times,serif\" font-size=\"10.00\">7</text>\n</g>\n<!-- nu_y_G35 -->\n<g id=\"node58\" class=\"node\">\n<title>nu_y_G35</title>\n<text text-anchor=\"middle\" x=\"224\" y=\"-1796.3\" font-family=\"Times,serif\" font-size=\"14.00\">nu_y</text>\n</g>\n<!-- SelectFirstQuantization&#45;&gt;nu_y_G35 -->\n<g id=\"edge57\" class=\"edge\">\n<title>SelectFirstQuantization:e-&gt;nu_y_G35:w</title>\n<path fill=\"none\" stroke=\"black\" d=\"M155,-1438C174.61,-1438 175.71,-1777.73 194.16,-1798.96\"/>\n<ellipse fill=\"black\" stroke=\"black\" cx=\"195.13\" cy=\"-1799.51\" rx=\"1\" ry=\"1\"/>\n<text text-anchor=\"middle\" x=\"173.5\" y=\"-1589\" font-family=\"Times,serif\" font-size=\"10.00\">7</text>\n</g>\n<!-- nu_z_G113 -->\n<g id=\"node59\" class=\"node\">\n<title>nu_z_G113</title>\n<text text-anchor=\"middle\" x=\"224\" y=\"-1742.3\" font-family=\"Times,serif\" font-size=\"14.00\">nu_z</text>\n</g>\n<!-- SelectFirstQuantization&#45;&gt;nu_z_G113 -->\n<g id=\"edge58\" class=\"edge\">\n<title>SelectFirstQuantization:e-&gt;nu_z_G113:w</title>\n<path fill=\"none\" stroke=\"black\" d=\"M155,-1417C172.77,-1417 177.27,-1723.27 194.11,-1744.81\"/>\n<ellipse fill=\"black\" stroke=\"black\" cx=\"195.15\" cy=\"-1745.47\" rx=\"1\" ry=\"1\"/>\n<text text-anchor=\"middle\" x=\"173.5\" y=\"-1555\" font-family=\"Times,serif\" font-size=\"10.00\">7</text>\n</g>\n<!-- m_G104 -->\n<g id=\"node60\" class=\"node\">\n<title>m_G104</title>\n<text text-anchor=\"middle\" x=\"224\" y=\"-1688.3\" font-family=\"Times,serif\" font-size=\"14.00\">m</text>\n</g>\n<!-- SelectFirstQuantization&#45;&gt;m_G104 -->\n<g id=\"edge59\" class=\"edge\">\n<title>SelectFirstQuantization:e-&gt;m_G104:w</title>\n<path fill=\"none\" stroke=\"black\" d=\"M155,-1396C171.02,-1396 178.84,-1671.55 194.28,-1690.93\"/>\n<ellipse fill=\"black\" stroke=\"black\" cx=\"195.15\" cy=\"-1691.47\" rx=\"1\" ry=\"1\"/>\n<text text-anchor=\"middle\" x=\"173.5\" y=\"-1520\" font-family=\"Times,serif\" font-size=\"10.00\">8</text>\n</g>\n<!-- l_G31 -->\n<g id=\"node61\" class=\"node\">\n<title>l_G31</title>\n<text text-anchor=\"middle\" x=\"224\" y=\"-1634.3\" font-family=\"Times,serif\" font-size=\"14.00\">l</text>\n</g>\n<!-- SelectFirstQuantization&#45;&gt;l_G31 -->\n<g id=\"edge60\" class=\"edge\">\n<title>SelectFirstQuantization:e-&gt;l_G31:w</title>\n<path fill=\"none\" stroke=\"black\" d=\"M155,-1375C169.21,-1375 180.31,-1617.85 194.28,-1636.83\"/>\n<ellipse fill=\"black\" stroke=\"black\" cx=\"195.17\" cy=\"-1637.44\" rx=\"1\" ry=\"1\"/>\n<text text-anchor=\"middle\" x=\"173.5\" y=\"-1493\" font-family=\"Times,serif\" font-size=\"10.00\">4</text>\n</g>\n<!-- sys_G12 -->\n<g id=\"node62\" class=\"node\">\n<title>sys_G12</title>\n<text text-anchor=\"middle\" x=\"224\" y=\"-1580.3\" font-family=\"Times,serif\" font-size=\"14.00\">sys[0, 0]</text>\n</g>\n<!-- SelectFirstQuantization&#45;&gt;sys_G12 -->\n<g id=\"edge61\" class=\"edge\">\n<title>SelectFirstQuantization:e-&gt;sys_G12:w</title>\n<path fill=\"none\" stroke=\"black\" d=\"M155,-1354C180.18,-1354 166.89,-1571.59 189.97,-1583.49\"/>\n<ellipse fill=\"black\" stroke=\"black\" cx=\"191.03\" cy=\"-1583.76\" rx=\"1\" ry=\"1\"/>\n<text text-anchor=\"middle\" x=\"173.5\" y=\"-1478\" font-family=\"Times,serif\" font-size=\"10.00\">6</text>\n</g>\n<!-- sys_G87 -->\n<g id=\"node63\" class=\"node\">\n<title>sys_G87</title>\n<text text-anchor=\"middle\" x=\"224\" y=\"-1526.3\" font-family=\"Times,serif\" font-size=\"14.00\">sys[0, 1]</text>\n</g>\n<!-- SelectFirstQuantization&#45;&gt;sys_G87 -->\n<g id=\"edge62\" class=\"edge\">\n<title>SelectFirstQuantization:e-&gt;sys_G87:w</title>\n<path fill=\"none\" stroke=\"black\" d=\"M155,-1333C176.58,-1333 170.17,-1517.88 190,-1529.43\"/>\n<ellipse fill=\"black\" stroke=\"black\" cx=\"191.04\" cy=\"-1529.73\" rx=\"1\" ry=\"1\"/>\n<text text-anchor=\"middle\" x=\"173.5\" y=\"-1440\" font-family=\"Times,serif\" font-size=\"10.00\">6</text>\n</g>\n<!-- sys_G69 -->\n<g id=\"node64\" class=\"node\">\n<title>sys_G69</title>\n<text text-anchor=\"middle\" x=\"224\" y=\"-1472.3\" font-family=\"Times,serif\" font-size=\"14.00\">sys[0, 2]</text>\n</g>\n<!-- SelectFirstQuantization&#45;&gt;sys_G69 -->\n<g id=\"edge63\" class=\"edge\">\n<title>SelectFirstQuantization:e-&gt;sys_G69:w</title>\n<path fill=\"none\" stroke=\"black\" d=\"M155,-1312C172.95,-1312 173.32,-1463.44 189.9,-1475.27\"/>\n<ellipse fill=\"black\" stroke=\"black\" cx=\"191.06\" cy=\"-1475.67\" rx=\"1\" ry=\"1\"/>\n<text text-anchor=\"middle\" x=\"173.5\" y=\"-1397\" font-family=\"Times,serif\" font-size=\"10.00\">6</text>\n</g>\n<!-- sys_G79 -->\n<g id=\"node65\" class=\"node\">\n<title>sys_G79</title>\n<text text-anchor=\"middle\" x=\"224\" y=\"-1418.3\" font-family=\"Times,serif\" font-size=\"14.00\">sys[1, 0]</text>\n</g>\n<!-- SelectFirstQuantization&#45;&gt;sys_G79 -->\n<g id=\"edge64\" class=\"edge\">\n<title>SelectFirstQuantization:e-&gt;sys_G79:w</title>\n<path fill=\"none\" stroke=\"black\" d=\"M155,-1291C184.54,-1291 162.82,-1415.93 189.96,-1421.79\"/>\n<ellipse fill=\"black\" stroke=\"black\" cx=\"191.01\" cy=\"-1421.9\" rx=\"1\" ry=\"1\"/>\n<text text-anchor=\"middle\" x=\"173.5\" y=\"-1367\" font-family=\"Times,serif\" font-size=\"10.00\">6</text>\n</g>\n<!-- sys_G110 -->\n<g id=\"node66\" class=\"node\">\n<title>sys_G110</title>\n<text text-anchor=\"middle\" x=\"224\" y=\"-1364.3\" font-family=\"Times,serif\" font-size=\"14.00\">sys[1, 1]</text>\n</g>\n<!-- SelectFirstQuantization&#45;&gt;sys_G110 -->\n<g id=\"edge65\" class=\"edge\">\n<title>SelectFirstQuantization:e-&gt;sys_G110:w</title>\n<path fill=\"none\" stroke=\"black\" d=\"M155,-1270C177.55,-1270 169.29,-1361.97 189.91,-1367.72\"/>\n<ellipse fill=\"black\" stroke=\"black\" cx=\"191.01\" cy=\"-1367.87\" rx=\"1\" ry=\"1\"/>\n<text text-anchor=\"middle\" x=\"173.5\" y=\"-1324\" font-family=\"Times,serif\" font-size=\"10.00\">6</text>\n</g>\n<!-- sys_G44 -->\n<g id=\"node67\" class=\"node\">\n<title>sys_G44</title>\n<text text-anchor=\"middle\" x=\"224\" y=\"-1310.3\" font-family=\"Times,serif\" font-size=\"14.00\">sys[1, 2]</text>\n</g>\n<!-- SelectFirstQuantization&#45;&gt;sys_G44 -->\n<g id=\"edge66\" class=\"edge\">\n<title>SelectFirstQuantization:e-&gt;sys_G44:w</title>\n<path fill=\"none\" stroke=\"black\" d=\"M155,-1249C187.46,-1249 160.11,-1310.99 189.76,-1313.89\"/>\n<ellipse fill=\"black\" stroke=\"black\" cx=\"191\" cy=\"-1313.95\" rx=\"1\" ry=\"1\"/>\n<text text-anchor=\"middle\" x=\"173.5\" y=\"-1290\" font-family=\"Times,serif\" font-size=\"10.00\">6</text>\n</g>\n<!-- sys_G64 -->\n<g id=\"node68\" class=\"node\">\n<title>sys_G64</title>\n<text text-anchor=\"middle\" x=\"224\" y=\"-1256.3\" font-family=\"Times,serif\" font-size=\"14.00\">sys[2, 0]</text>\n</g>\n<!-- SelectFirstQuantization&#45;&gt;sys_G64 -->\n<g id=\"edge67\" class=\"edge\">\n<title>SelectFirstQuantization:e-&gt;sys_G64:w</title>\n<path fill=\"none\" stroke=\"black\" d=\"M155,-1228C175.89,-1228 170.72,-1257.55 189.58,-1259.86\"/>\n<ellipse fill=\"black\" stroke=\"black\" cx=\"191\" cy=\"-1259.94\" rx=\"1\" ry=\"1\"/>\n<text text-anchor=\"middle\" x=\"173.5\" y=\"-1247\" font-family=\"Times,serif\" font-size=\"10.00\">6</text>\n</g>\n<!-- sys_G108 -->\n<g id=\"node69\" class=\"node\">\n<title>sys_G108</title>\n<text text-anchor=\"middle\" x=\"224\" y=\"-1202.3\" font-family=\"Times,serif\" font-size=\"14.00\">sys[2, 1]</text>\n</g>\n<!-- SelectFirstQuantization&#45;&gt;sys_G108 -->\n<g id=\"edge68\" class=\"edge\">\n<title>SelectFirstQuantization:e-&gt;sys_G108:w</title>\n<path fill=\"none\" stroke=\"black\" d=\"M155,-1206C170.67,-1206 175.14,-1206 189.77,-1206\"/>\n<ellipse fill=\"black\" stroke=\"black\" cx=\"191\" cy=\"-1206\" rx=\"1\" ry=\"1\"/>\n<text text-anchor=\"middle\" x=\"173.5\" y=\"-1209\" font-family=\"Times,serif\" font-size=\"10.00\">6</text>\n</g>\n<!-- sys_G112 -->\n<g id=\"node70\" class=\"node\">\n<title>sys_G112</title>\n<text text-anchor=\"middle\" x=\"224\" y=\"-1148.3\" font-family=\"Times,serif\" font-size=\"14.00\">sys[2, 2]</text>\n</g>\n<!-- SelectFirstQuantization&#45;&gt;sys_G112 -->\n<g id=\"edge69\" class=\"edge\">\n<title>SelectFirstQuantization:e-&gt;sys_G112:w</title>\n<path fill=\"none\" stroke=\"black\" d=\"M155,-1185C176.17,-1185 170.47,-1154.53 189.55,-1152.15\"/>\n<ellipse fill=\"black\" stroke=\"black\" cx=\"191\" cy=\"-1152.06\" rx=\"1\" ry=\"1\"/>\n<text text-anchor=\"middle\" x=\"173.5\" y=\"-1172\" font-family=\"Times,serif\" font-size=\"10.00\">6</text>\n</g>\n<!-- sys_G51 -->\n<g id=\"node71\" class=\"node\">\n<title>sys_G51</title>\n<text text-anchor=\"middle\" x=\"224\" y=\"-1094.3\" font-family=\"Times,serif\" font-size=\"14.00\">sys[3, 0]</text>\n</g>\n<!-- SelectFirstQuantization&#45;&gt;sys_G51 -->\n<g id=\"edge70\" class=\"edge\">\n<title>SelectFirstQuantization:e-&gt;sys_G51:w</title>\n<path fill=\"none\" stroke=\"black\" d=\"M155,-1164C187.84,-1164 159.75,-1101.06 189.74,-1098.11\"/>\n<ellipse fill=\"black\" stroke=\"black\" cx=\"191\" cy=\"-1098.05\" rx=\"1\" ry=\"1\"/>\n<text text-anchor=\"middle\" x=\"173.5\" y=\"-1141\" font-family=\"Times,serif\" font-size=\"10.00\">6</text>\n</g>\n<!-- sys_G23 -->\n<g id=\"node72\" class=\"node\">\n<title>sys_G23</title>\n<text text-anchor=\"middle\" x=\"224\" y=\"-1040.3\" font-family=\"Times,serif\" font-size=\"14.00\">sys[3, 1]</text>\n</g>\n<!-- SelectFirstQuantization&#45;&gt;sys_G23 -->\n<g id=\"edge71\" class=\"edge\">\n<title>SelectFirstQuantization:e-&gt;sys_G23:w</title>\n<path fill=\"none\" stroke=\"black\" d=\"M155,-1143C177.75,-1143 169.1,-1050.09 189.89,-1044.28\"/>\n<ellipse fill=\"black\" stroke=\"black\" cx=\"191.01\" cy=\"-1044.13\" rx=\"1\" ry=\"1\"/>\n<text text-anchor=\"middle\" x=\"173.5\" y=\"-1099\" font-family=\"Times,serif\" font-size=\"10.00\">6</text>\n</g>\n<!-- sys_G63 -->\n<g id=\"node73\" class=\"node\">\n<title>sys_G63</title>\n<text text-anchor=\"middle\" x=\"224\" y=\"-986.3\" font-family=\"Times,serif\" font-size=\"14.00\">sys[3, 2]</text>\n</g>\n<!-- SelectFirstQuantization&#45;&gt;sys_G63 -->\n<g id=\"edge72\" class=\"edge\">\n<title>SelectFirstQuantization:e-&gt;sys_G63:w</title>\n<path fill=\"none\" stroke=\"black\" d=\"M155,-1122C184.75,-1122 162.63,-996.11 189.95,-990.21\"/>\n<ellipse fill=\"black\" stroke=\"black\" cx=\"191.01\" cy=\"-990.1\" rx=\"1\" ry=\"1\"/>\n<text text-anchor=\"middle\" x=\"173.5\" y=\"-1066\" font-family=\"Times,serif\" font-size=\"10.00\">6</text>\n</g>\n<!-- sys_G34 -->\n<g id=\"node74\" class=\"node\">\n<title>sys_G34</title>\n<text text-anchor=\"middle\" x=\"224\" y=\"-932.3\" font-family=\"Times,serif\" font-size=\"14.00\">sys[4, 0]</text>\n</g>\n<!-- SelectFirstQuantization&#45;&gt;sys_G34 -->\n<g id=\"edge73\" class=\"edge\">\n<title>SelectFirstQuantization:e-&gt;sys_G34:w</title>\n<path fill=\"none\" stroke=\"black\" d=\"M155,-1101C173.05,-1101 173.23,-948.64 189.88,-936.74\"/>\n<ellipse fill=\"black\" stroke=\"black\" cx=\"191.06\" cy=\"-936.33\" rx=\"1\" ry=\"1\"/>\n<text text-anchor=\"middle\" x=\"173.5\" y=\"-1021\" font-family=\"Times,serif\" font-size=\"10.00\">6</text>\n</g>\n<!-- sys_G6 -->\n<g id=\"node75\" class=\"node\">\n<title>sys_G6</title>\n<text text-anchor=\"middle\" x=\"224\" y=\"-878.3\" font-family=\"Times,serif\" font-size=\"14.00\">sys[4, 1]</text>\n</g>\n<!-- SelectFirstQuantization&#45;&gt;sys_G6 -->\n<g id=\"edge74\" class=\"edge\">\n<title>SelectFirstQuantization:e-&gt;sys_G6:w</title>\n<path fill=\"none\" stroke=\"black\" d=\"M155,-1080C176.68,-1080 170.07,-894.18 189.99,-882.57\"/>\n<ellipse fill=\"black\" stroke=\"black\" cx=\"191.04\" cy=\"-882.27\" rx=\"1\" ry=\"1\"/>\n<text text-anchor=\"middle\" x=\"173.5\" y=\"-989\" font-family=\"Times,serif\" font-size=\"10.00\">6</text>\n</g>\n<!-- sys_G121 -->\n<g id=\"node76\" class=\"node\">\n<title>sys_G121</title>\n<text text-anchor=\"middle\" x=\"224\" y=\"-824.3\" font-family=\"Times,serif\" font-size=\"14.00\">sys[4, 2]</text>\n</g>\n<!-- SelectFirstQuantization&#45;&gt;sys_G121 -->\n<g id=\"edge75\" class=\"edge\">\n<title>SelectFirstQuantization:e-&gt;sys_G121:w</title>\n<path fill=\"none\" stroke=\"black\" d=\"M155,-1059C180.28,-1059 166.8,-840.46 189.96,-828.51\"/>\n<ellipse fill=\"black\" stroke=\"black\" cx=\"191.03\" cy=\"-828.24\" rx=\"1\" ry=\"1\"/>\n<text text-anchor=\"middle\" x=\"173.5\" y=\"-953\" font-family=\"Times,serif\" font-size=\"10.00\">6</text>\n</g>\n<!-- sys_G130 -->\n<g id=\"node77\" class=\"node\">\n<title>sys_G130</title>\n<text text-anchor=\"middle\" x=\"224\" y=\"-770.3\" font-family=\"Times,serif\" font-size=\"14.00\">sys[5, 0]</text>\n</g>\n<!-- SelectFirstQuantization&#45;&gt;sys_G130 -->\n<g id=\"edge76\" class=\"edge\">\n<title>SelectFirstQuantization:e-&gt;sys_G130:w</title>\n<path fill=\"none\" stroke=\"black\" d=\"M155,-1038C183.93,-1038 163.39,-786.23 190,-774.43\"/>\n<ellipse fill=\"black\" stroke=\"black\" cx=\"191.02\" cy=\"-774.21\" rx=\"1\" ry=\"1\"/>\n<text text-anchor=\"middle\" x=\"173.5\" y=\"-924\" font-family=\"Times,serif\" font-size=\"10.00\">6</text>\n</g>\n<!-- sys_G71 -->\n<g id=\"node78\" class=\"node\">\n<title>sys_G71</title>\n<text text-anchor=\"middle\" x=\"224\" y=\"-716.3\" font-family=\"Times,serif\" font-size=\"14.00\">sys[5, 1]</text>\n</g>\n<!-- SelectFirstQuantization&#45;&gt;sys_G71 -->\n<g id=\"edge77\" class=\"edge\">\n<title>SelectFirstQuantization:e-&gt;sys_G71:w</title>\n<path fill=\"none\" stroke=\"black\" d=\"M155,-1017C171.04,-1017 175.09,-740.52 190.29,-721.08\"/>\n<ellipse fill=\"black\" stroke=\"black\" cx=\"191.15\" cy=\"-720.53\" rx=\"1\" ry=\"1\"/>\n<text text-anchor=\"middle\" x=\"173.5\" y=\"-871\" font-family=\"Times,serif\" font-size=\"10.00\">6</text>\n</g>\n<!-- sys_G47 -->\n<g id=\"node79\" class=\"node\">\n<title>sys_G47</title>\n<text text-anchor=\"middle\" x=\"224\" y=\"-662.3\" font-family=\"Times,serif\" font-size=\"14.00\">sys[5, 2]</text>\n</g>\n<!-- SelectFirstQuantization&#45;&gt;sys_G47 -->\n<g id=\"edge78\" class=\"edge\">\n<title>SelectFirstQuantization:e-&gt;sys_G47:w</title>\n<path fill=\"none\" stroke=\"black\" d=\"M155,-996C172.8,-996 173.52,-688.8 190.12,-667.19\"/>\n<ellipse fill=\"black\" stroke=\"black\" cx=\"191.16\" cy=\"-666.54\" rx=\"1\" ry=\"1\"/>\n<text text-anchor=\"middle\" x=\"173.5\" y=\"-834\" font-family=\"Times,serif\" font-size=\"10.00\">6</text>\n</g>\n<!-- sys_G118 -->\n<g id=\"node80\" class=\"node\">\n<title>sys_G118</title>\n<text text-anchor=\"middle\" x=\"224\" y=\"-608.3\" font-family=\"Times,serif\" font-size=\"14.00\">sys[6, 0]</text>\n</g>\n<!-- SelectFirstQuantization&#45;&gt;sys_G118 -->\n<g id=\"edge79\" class=\"edge\">\n<title>SelectFirstQuantization:e-&gt;sys_G118:w</title>\n<path fill=\"none\" stroke=\"black\" d=\"M155,-975C174.64,-975 171.93,-634.33 190.17,-613.04\"/>\n<ellipse fill=\"black\" stroke=\"black\" cx=\"191.13\" cy=\"-612.49\" rx=\"1\" ry=\"1\"/>\n<text text-anchor=\"middle\" x=\"173.5\" y=\"-796\" font-family=\"Times,serif\" font-size=\"10.00\">6</text>\n</g>\n<!-- sys_G26 -->\n<g id=\"node81\" class=\"node\">\n<title>sys_G26</title>\n<text text-anchor=\"middle\" x=\"224\" y=\"-554.3\" font-family=\"Times,serif\" font-size=\"14.00\">sys[6, 1]</text>\n</g>\n<!-- SelectFirstQuantization&#45;&gt;sys_G26 -->\n<g id=\"edge80\" class=\"edge\">\n<title>SelectFirstQuantization:e-&gt;sys_G26:w</title>\n<path fill=\"none\" stroke=\"black\" d=\"M155,-954C176.41,-954 170.33,-582.36 190.01,-559.14\"/>\n<ellipse fill=\"black\" stroke=\"black\" cx=\"191.13\" cy=\"-558.5\" rx=\"1\" ry=\"1\"/>\n<text text-anchor=\"middle\" x=\"173.5\" y=\"-770\" font-family=\"Times,serif\" font-size=\"10.00\">6</text>\n</g>\n<!-- sys_G97 -->\n<g id=\"node82\" class=\"node\">\n<title>sys_G97</title>\n<text text-anchor=\"middle\" x=\"224\" y=\"-500.3\" font-family=\"Times,serif\" font-size=\"14.00\">sys[6, 2]</text>\n</g>\n<!-- SelectFirstQuantization&#45;&gt;sys_G97 -->\n<g id=\"edge81\" class=\"edge\">\n<title>SelectFirstQuantization:e-&gt;sys_G97:w</title>\n<path fill=\"none\" stroke=\"black\" d=\"M155,-933C178.27,-933 168.65,-527.14 190.11,-504.94\"/>\n<ellipse fill=\"black\" stroke=\"black\" cx=\"191.11\" cy=\"-504.45\" rx=\"1\" ry=\"1\"/>\n<text text-anchor=\"middle\" x=\"173.5\" y=\"-734\" font-family=\"Times,serif\" font-size=\"10.00\">6</text>\n</g>\n<!-- sys_G107 -->\n<g id=\"node83\" class=\"node\">\n<title>sys_G107</title>\n<text text-anchor=\"middle\" x=\"224\" y=\"-446.3\" font-family=\"Times,serif\" font-size=\"14.00\">sys[7, 0]</text>\n</g>\n<!-- SelectFirstQuantization&#45;&gt;sys_G107 -->\n<g id=\"edge82\" class=\"edge\">\n<title>SelectFirstQuantization:e-&gt;sys_G107:w</title>\n<path fill=\"none\" stroke=\"black\" d=\"M155,-912C167.42,-912 178.33,-481.91 190.65,-451.67\"/>\n<ellipse fill=\"black\" stroke=\"black\" cx=\"191.37\" cy=\"-450.78\" rx=\"1\" ry=\"1\"/>\n<text text-anchor=\"middle\" x=\"173.5\" y=\"-684\" font-family=\"Times,serif\" font-size=\"10.00\">6</text>\n</g>\n<!-- sys_G41 -->\n<g id=\"node84\" class=\"node\">\n<title>sys_G41</title>\n<text text-anchor=\"middle\" x=\"224\" y=\"-392.3\" font-family=\"Times,serif\" font-size=\"14.00\">sys[7, 1]</text>\n</g>\n<!-- SelectFirstQuantization&#45;&gt;sys_G41 -->\n<g id=\"edge83\" class=\"edge\">\n<title>SelectFirstQuantization:e-&gt;sys_G41:w</title>\n<path fill=\"none\" stroke=\"black\" d=\"M155,-891C181.93,-891 165.25,-418.93 190.14,-396.8\"/>\n<ellipse fill=\"black\" stroke=\"black\" cx=\"191.08\" cy=\"-396.4\" rx=\"1\" ry=\"1\"/>\n<text text-anchor=\"middle\" x=\"173.5\" y=\"-661\" font-family=\"Times,serif\" font-size=\"10.00\">6</text>\n</g>\n<!-- sys_G84 -->\n<g id=\"node85\" class=\"node\">\n<title>sys_G84</title>\n<text text-anchor=\"middle\" x=\"224\" y=\"-338.3\" font-family=\"Times,serif\" font-size=\"14.00\">sys[7, 2]</text>\n</g>\n<!-- SelectFirstQuantization&#45;&gt;sys_G84 -->\n<g id=\"edge84\" class=\"edge\">\n<title>SelectFirstQuantization:e-&gt;sys_G84:w</title>\n<path fill=\"none\" stroke=\"black\" d=\"M155,-870C169.24,-870 176.82,-374.48 190.64,-343.51\"/>\n<ellipse fill=\"black\" stroke=\"black\" cx=\"191.33\" cy=\"-342.74\" rx=\"1\" ry=\"1\"/>\n<text text-anchor=\"middle\" x=\"173.5\" y=\"-609\" font-family=\"Times,serif\" font-size=\"10.00\">6</text>\n</g>\n<!-- sys_G99 -->\n<g id=\"node86\" class=\"node\">\n<title>sys_G99</title>\n<text text-anchor=\"middle\" x=\"224\" y=\"-284.3\" font-family=\"Times,serif\" font-size=\"14.00\">sys[8, 0]</text>\n</g>\n<!-- SelectFirstQuantization&#45;&gt;sys_G99 -->\n<g id=\"edge85\" class=\"edge\">\n<title>SelectFirstQuantization:e-&gt;sys_G99:w</title>\n<path fill=\"none\" stroke=\"black\" d=\"M155,-849C170.13,-849 176.01,-322.51 190.56,-289.61\"/>\n<ellipse fill=\"black\" stroke=\"black\" cx=\"191.33\" cy=\"-288.75\" rx=\"1\" ry=\"1\"/>\n<text text-anchor=\"middle\" x=\"173.5\" y=\"-571\" font-family=\"Times,serif\" font-size=\"10.00\">6</text>\n</g>\n<!-- sys_G77 -->\n<g id=\"node87\" class=\"node\">\n<title>sys_G77</title>\n<text text-anchor=\"middle\" x=\"224\" y=\"-230.3\" font-family=\"Times,serif\" font-size=\"14.00\">sys[8, 1]</text>\n</g>\n<!-- SelectFirstQuantization&#45;&gt;sys_G77 -->\n<g id=\"edge86\" class=\"edge\">\n<title>SelectFirstQuantization:e-&gt;sys_G77:w</title>\n<path fill=\"none\" stroke=\"black\" d=\"M155,-828C171.02,-828 175.21,-270.54 190.49,-235.7\"/>\n<ellipse fill=\"black\" stroke=\"black\" cx=\"191.34\" cy=\"-234.75\" rx=\"1\" ry=\"1\"/>\n<text text-anchor=\"middle\" x=\"173.5\" y=\"-534\" font-family=\"Times,serif\" font-size=\"10.00\">6</text>\n</g>\n<!-- sys_G106 -->\n<g id=\"node88\" class=\"node\">\n<title>sys_G106</title>\n<text text-anchor=\"middle\" x=\"224\" y=\"-176.3\" font-family=\"Times,serif\" font-size=\"14.00\">sys[8, 2]</text>\n</g>\n<!-- SelectFirstQuantization&#45;&gt;sys_G106 -->\n<g id=\"edge87\" class=\"edge\">\n<title>SelectFirstQuantization:e-&gt;sys_G106:w</title>\n<path fill=\"none\" stroke=\"black\" d=\"M155,-807C171.9,-807 174.41,-218.58 190.41,-181.8\"/>\n<ellipse fill=\"black\" stroke=\"black\" cx=\"191.34\" cy=\"-180.75\" rx=\"1\" ry=\"1\"/>\n<text text-anchor=\"middle\" x=\"173.5\" y=\"-496\" font-family=\"Times,serif\" font-size=\"10.00\">6</text>\n</g>\n<!-- sys_G88 -->\n<g id=\"node89\" class=\"node\">\n<title>sys_G88</title>\n<text text-anchor=\"middle\" x=\"224\" y=\"-122.3\" font-family=\"Times,serif\" font-size=\"14.00\">sys[9, 0]</text>\n</g>\n<!-- SelectFirstQuantization&#45;&gt;sys_G88 -->\n<g id=\"edge88\" class=\"edge\">\n<title>SelectFirstQuantization:e-&gt;sys_G88:w</title>\n<path fill=\"none\" stroke=\"black\" d=\"M155,-786C172.86,-786 173.61,-161.6 190.53,-127.45\"/>\n<ellipse fill=\"black\" stroke=\"black\" cx=\"191.29\" cy=\"-126.7\" rx=\"1\" ry=\"1\"/>\n<text text-anchor=\"middle\" x=\"173.5\" y=\"-459\" font-family=\"Times,serif\" font-size=\"10.00\">6</text>\n</g>\n<!-- sys_G59 -->\n<g id=\"node90\" class=\"node\">\n<title>sys_G59</title>\n<text text-anchor=\"middle\" x=\"224\" y=\"-68.3\" font-family=\"Times,serif\" font-size=\"14.00\">sys[9, 1]</text>\n</g>\n<!-- SelectFirstQuantization&#45;&gt;sys_G59 -->\n<g id=\"edge89\" class=\"edge\">\n<title>SelectFirstQuantization:e-&gt;sys_G59:w</title>\n<path fill=\"none\" stroke=\"black\" d=\"M155,-765C173.75,-765 172.79,-109.38 190.46,-73.53\"/>\n<ellipse fill=\"black\" stroke=\"black\" cx=\"191.29\" cy=\"-72.7\" rx=\"1\" ry=\"1\"/>\n<text text-anchor=\"middle\" x=\"173.5\" y=\"-422\" font-family=\"Times,serif\" font-size=\"10.00\">6</text>\n</g>\n<!-- sys_G95 -->\n<g id=\"node91\" class=\"node\">\n<title>sys_G95</title>\n<text text-anchor=\"middle\" x=\"224\" y=\"-14.3\" font-family=\"Times,serif\" font-size=\"14.00\">sys[9, 2]</text>\n</g>\n<!-- SelectFirstQuantization&#45;&gt;sys_G95 -->\n<g id=\"edge90\" class=\"edge\">\n<title>SelectFirstQuantization:e-&gt;sys_G95:w</title>\n<path fill=\"none\" stroke=\"black\" d=\"M155,-744C174.64,-744 171.97,-57.16 190.4,-19.6\"/>\n<ellipse fill=\"black\" stroke=\"black\" cx=\"191.29\" cy=\"-18.71\" rx=\"1\" ry=\"1\"/>\n<text text-anchor=\"middle\" x=\"173.5\" y=\"-384\" font-family=\"Times,serif\" font-size=\"10.00\">6</text>\n</g>\n</g>\n</svg>",
          "text/plain": "<IPython.core.display.SVG object>"
         },
         "metadata": {},
         "output_type": "display_data"
        }
       ],
       "tabbable": null,
       "tooltip": null
      }
     },
     "4c541e93daee4f5b829608faa540be31": {
      "model_module": "@jupyter-widgets/output",
      "model_module_version": "1.0.0",
      "model_name": "OutputModel",
      "state": {
       "_dom_classes": [],
       "_model_module": "@jupyter-widgets/output",
       "_model_module_version": "1.0.0",
       "_model_name": "OutputModel",
       "_view_count": null,
       "_view_module": "@jupyter-widgets/output",
       "_view_module_version": "1.0.0",
       "_view_name": "OutputView",
       "layout": "IPY_MODEL_6bdd199f8f984aff8da423d30dfdd5bf",
       "msg_id": "",
       "outputs": [
        {
         "data": {
          "text/markdown": "`prepare_t`",
          "text/plain": "<IPython.core.display.Markdown object>"
         },
         "metadata": {},
         "output_type": "display_data"
        },
        {
         "data": {
          "image/svg+xml": "<svg xmlns=\"http://www.w3.org/2000/svg\" xmlns:xlink=\"http://www.w3.org/1999/xlink\" width=\"239pt\" height=\"152pt\" viewBox=\"0.00 0.00 239.00 152.00\">\n<g id=\"graph0\" class=\"graph\" transform=\"scale(1 1) rotate(0) translate(4 148)\">\n<title>my_graph</title>\n<polygon fill=\"white\" stroke=\"transparent\" points=\"-4,4 -4,-148 235,-148 235,4 -4,4\"/>\n<!-- w_G4 -->\n<g id=\"node1\" class=\"node\">\n<title>w_G4</title>\n<text text-anchor=\"middle\" x=\"27\" y=\"-122.3\" font-family=\"Times,serif\" font-size=\"14.00\">w</text>\n</g>\n<!-- PrepareTFirstQuantization -->\n<g id=\"node4\" class=\"node\">\n<title>PrepareTFirstQuantization</title>\n<polygon fill=\"none\" stroke=\"black\" points=\"91.5,-104 91.5,-121 140.5,-121 140.5,-104 91.5,-104\"/>\n<text text-anchor=\"start\" x=\"94.5\" y=\"-110\" font-family=\"Times,serif\" font-size=\"10.00\">PREP $T$</text>\n<polygon fill=\"none\" stroke=\"black\" points=\"91.5,-83 91.5,-104 140.5,-104 140.5,-83 91.5,-83\"/>\n<text text-anchor=\"start\" x=\"111\" y=\"-89.8\" font-family=\"Times,serif\" font-size=\"14.00\">w</text>\n<polygon fill=\"none\" stroke=\"black\" points=\"91.5,-62 91.5,-83 140.5,-83 140.5,-62 91.5,-62\"/>\n<text text-anchor=\"start\" x=\"113.5\" y=\"-68.8\" font-family=\"Times,serif\" font-size=\"14.00\">r</text>\n<polygon fill=\"none\" stroke=\"black\" points=\"91.5,-41 91.5,-62 140.5,-62 140.5,-41 91.5,-41\"/>\n<text text-anchor=\"start\" x=\"113\" y=\"-47.8\" font-family=\"Times,serif\" font-size=\"14.00\">s</text>\n</g>\n<!-- w_G4&#45;&gt;PrepareTFirstQuantization -->\n<g id=\"edge1\" class=\"edge\">\n<title>w_G4:e-&gt;PrepareTFirstQuantization:w</title>\n<path fill=\"none\" stroke=\"black\" d=\"M54,-126C74.89,-126 69.72,-96.45 88.58,-94.14\"/>\n<ellipse fill=\"black\" stroke=\"black\" cx=\"90\" cy=\"-94.06\" rx=\"1\" ry=\"1\"/>\n<text text-anchor=\"middle\" x=\"72.5\" y=\"-113\" font-family=\"Times,serif\" font-size=\"10.00\">2</text>\n</g>\n<!-- r_G5 -->\n<g id=\"node2\" class=\"node\">\n<title>r_G5</title>\n<text text-anchor=\"middle\" x=\"27\" y=\"-68.3\" font-family=\"Times,serif\" font-size=\"14.00\">r</text>\n</g>\n<!-- r_G5&#45;&gt;PrepareTFirstQuantization -->\n<g id=\"edge2\" class=\"edge\">\n<title>r_G5:e-&gt;PrepareTFirstQuantization:w</title>\n<path fill=\"none\" stroke=\"black\" d=\"M54,-72C69.67,-72 74.14,-72 88.77,-72\"/>\n<ellipse fill=\"black\" stroke=\"black\" cx=\"90\" cy=\"-72\" rx=\"1\" ry=\"1\"/>\n<text text-anchor=\"middle\" x=\"72.5\" y=\"-75\" font-family=\"Times,serif\" font-size=\"10.00\">5</text>\n</g>\n<!-- s_G8 -->\n<g id=\"node3\" class=\"node\">\n<title>s_G8</title>\n<text text-anchor=\"middle\" x=\"27\" y=\"-14.3\" font-family=\"Times,serif\" font-size=\"14.00\">s</text>\n</g>\n<!-- s_G8&#45;&gt;PrepareTFirstQuantization -->\n<g id=\"edge3\" class=\"edge\">\n<title>s_G8:e-&gt;PrepareTFirstQuantization:w</title>\n<path fill=\"none\" stroke=\"black\" d=\"M54,-18C75.17,-18 69.47,-48.47 88.55,-50.85\"/>\n<ellipse fill=\"black\" stroke=\"black\" cx=\"90\" cy=\"-50.94\" rx=\"1\" ry=\"1\"/>\n<text text-anchor=\"middle\" x=\"72.5\" y=\"-39\" font-family=\"Times,serif\" font-size=\"10.00\">5</text>\n</g>\n<!-- w_G6 -->\n<g id=\"node5\" class=\"node\">\n<title>w_G6</title>\n<text text-anchor=\"middle\" x=\"204\" y=\"-122.3\" font-family=\"Times,serif\" font-size=\"14.00\">w</text>\n</g>\n<!-- PrepareTFirstQuantization&#45;&gt;w_G6 -->\n<g id=\"edge4\" class=\"edge\">\n<title>PrepareTFirstQuantization:e-&gt;w_G6:w</title>\n<path fill=\"none\" stroke=\"black\" d=\"M140,-94C160.89,-94 155.72,-123.55 174.58,-125.86\"/>\n<ellipse fill=\"black\" stroke=\"black\" cx=\"176\" cy=\"-125.94\" rx=\"1\" ry=\"1\"/>\n<text text-anchor=\"middle\" x=\"158.5\" y=\"-113\" font-family=\"Times,serif\" font-size=\"10.00\">2</text>\n</g>\n<!-- r_G1 -->\n<g id=\"node6\" class=\"node\">\n<title>r_G1</title>\n<text text-anchor=\"middle\" x=\"204\" y=\"-68.3\" font-family=\"Times,serif\" font-size=\"14.00\">r</text>\n</g>\n<!-- PrepareTFirstQuantization&#45;&gt;r_G1 -->\n<g id=\"edge5\" class=\"edge\">\n<title>PrepareTFirstQuantization:e-&gt;r_G1:w</title>\n<path fill=\"none\" stroke=\"black\" d=\"M140,-72C155.67,-72 160.14,-72 174.77,-72\"/>\n<ellipse fill=\"black\" stroke=\"black\" cx=\"176\" cy=\"-72\" rx=\"1\" ry=\"1\"/>\n<text text-anchor=\"middle\" x=\"158.5\" y=\"-75\" font-family=\"Times,serif\" font-size=\"10.00\">5</text>\n</g>\n<!-- s_G3 -->\n<g id=\"node7\" class=\"node\">\n<title>s_G3</title>\n<text text-anchor=\"middle\" x=\"204\" y=\"-14.3\" font-family=\"Times,serif\" font-size=\"14.00\">s</text>\n</g>\n<!-- PrepareTFirstQuantization&#45;&gt;s_G3 -->\n<g id=\"edge6\" class=\"edge\">\n<title>PrepareTFirstQuantization:e-&gt;s_G3:w</title>\n<path fill=\"none\" stroke=\"black\" d=\"M140,-51C161.17,-51 155.47,-20.53 174.55,-18.15\"/>\n<ellipse fill=\"black\" stroke=\"black\" cx=\"176\" cy=\"-18.06\" rx=\"1\" ry=\"1\"/>\n<text text-anchor=\"middle\" x=\"158.5\" y=\"-39\" font-family=\"Times,serif\" font-size=\"10.00\">5</text>\n</g>\n</g>\n</svg>",
          "text/plain": "<IPython.core.display.SVG object>"
         },
         "metadata": {},
         "output_type": "display_data"
        }
       ],
       "tabbable": null,
       "tooltip": null
      }
     },
     "59217228a0344902997720e214b863bc": {
      "model_module": "@jupyter-widgets/controls",
      "model_module_version": "2.0.0",
      "model_name": "HBoxModel",
      "state": {
       "_dom_classes": [],
       "_model_module": "@jupyter-widgets/controls",
       "_model_module_version": "2.0.0",
       "_model_name": "HBoxModel",
       "_view_count": null,
       "_view_module": "@jupyter-widgets/controls",
       "_view_module_version": "2.0.0",
       "_view_name": "HBoxView",
       "box_style": "",
       "children": [
        "IPY_MODEL_1c768305a7d34aaaa43b0ed8b8e1bef6"
       ],
       "layout": "IPY_MODEL_e9b1b94deba64c8997dca5a84271c703",
       "tabbable": null,
       "tooltip": null
      }
     },
     "68b8c4866f5c41f0a19e0e0e6e305765": {
      "model_module": "@jupyter-widgets/base",
      "model_module_version": "2.0.0",
      "model_name": "LayoutModel",
      "state": {
       "_model_module": "@jupyter-widgets/base",
       "_model_module_version": "2.0.0",
       "_model_name": "LayoutModel",
       "_view_count": null,
       "_view_module": "@jupyter-widgets/base",
       "_view_module_version": "2.0.0",
       "_view_name": "LayoutView",
       "align_content": null,
       "align_items": null,
       "align_self": null,
       "border_bottom": null,
       "border_left": null,
       "border_right": null,
       "border_top": null,
       "bottom": null,
       "display": null,
       "flex": null,
       "flex_flow": null,
       "grid_area": null,
       "grid_auto_columns": null,
       "grid_auto_flow": null,
       "grid_auto_rows": null,
       "grid_column": null,
       "grid_gap": null,
       "grid_row": null,
       "grid_template_areas": null,
       "grid_template_columns": null,
       "grid_template_rows": null,
       "height": null,
       "justify_content": null,
       "justify_items": null,
       "left": null,
       "margin": null,
       "max_height": null,
       "max_width": null,
       "min_height": null,
       "min_width": null,
       "object_fit": null,
       "object_position": null,
       "order": null,
       "overflow": null,
       "padding": null,
       "right": null,
       "top": null,
       "visibility": null,
       "width": null
      }
     },
     "6bdd199f8f984aff8da423d30dfdd5bf": {
      "model_module": "@jupyter-widgets/base",
      "model_module_version": "2.0.0",
      "model_name": "LayoutModel",
      "state": {
       "_model_module": "@jupyter-widgets/base",
       "_model_module_version": "2.0.0",
       "_model_name": "LayoutModel",
       "_view_count": null,
       "_view_module": "@jupyter-widgets/base",
       "_view_module_version": "2.0.0",
       "_view_name": "LayoutView",
       "align_content": null,
       "align_items": null,
       "align_self": null,
       "border_bottom": null,
       "border_left": null,
       "border_right": null,
       "border_top": null,
       "bottom": null,
       "display": null,
       "flex": null,
       "flex_flow": null,
       "grid_area": null,
       "grid_auto_columns": null,
       "grid_auto_flow": null,
       "grid_auto_rows": null,
       "grid_column": null,
       "grid_gap": null,
       "grid_row": null,
       "grid_template_areas": null,
       "grid_template_columns": null,
       "grid_template_rows": null,
       "height": null,
       "justify_content": null,
       "justify_items": null,
       "left": null,
       "margin": null,
       "max_height": null,
       "max_width": null,
       "min_height": null,
       "min_width": null,
       "object_fit": null,
       "object_position": null,
       "order": null,
       "overflow": null,
       "padding": null,
       "right": null,
       "top": null,
       "visibility": null,
       "width": null
      }
     },
     "6cbebaf0693341e9b5b2001de479ea0f": {
      "model_module": "@jupyter-widgets/output",
      "model_module_version": "1.0.0",
      "model_name": "OutputModel",
      "state": {
       "_dom_classes": [],
       "_model_module": "@jupyter-widgets/output",
       "_model_module_version": "1.0.0",
       "_model_name": "OutputModel",
       "_view_count": null,
       "_view_module": "@jupyter-widgets/output",
       "_view_module_version": "1.0.0",
       "_view_name": "OutputView",
       "layout": "IPY_MODEL_af2e8d87c6f2448fb0c927b7fdd400ff",
       "msg_id": "",
       "outputs": [
        {
         "data": {
          "text/markdown": "`prep_first_quant`",
          "text/plain": "<IPython.core.display.Markdown object>"
         },
         "metadata": {},
         "output_type": "display_data"
        },
        {
         "data": {
          "image/svg+xml": "<svg xmlns=\"http://www.w3.org/2000/svg\" xmlns:xlink=\"http://www.w3.org/1999/xlink\" width=\"255pt\" height=\"800pt\" viewBox=\"0.00 0.00 255.00 800.00\">\n<g id=\"graph0\" class=\"graph\" transform=\"scale(1 1) rotate(0) translate(4 796)\">\n<title>my_graph</title>\n<polygon fill=\"white\" stroke=\"transparent\" points=\"-4,4 -4,-796 251,-796 251,4 -4,4\"/>\n<!-- tuv_G35 -->\n<g id=\"node1\" class=\"node\">\n<title>tuv_G35</title>\n<text text-anchor=\"middle\" x=\"30.5\" y=\"-770.3\" font-family=\"Times,serif\" font-size=\"14.00\">tuv</text>\n</g>\n<!-- PrepareFirstQuantization -->\n<g id=\"node16\" class=\"node\">\n<title>PrepareFirstQuantization</title>\n<polygon fill=\"none\" stroke=\"black\" points=\"98.5,-554 98.5,-571 149.5,-571 149.5,-554 98.5,-554\"/>\n<text text-anchor=\"start\" x=\"112\" y=\"-560\" font-family=\"Times,serif\" font-size=\"10.00\">PREP</text>\n<polygon fill=\"none\" stroke=\"black\" points=\"98.5,-533 98.5,-554 149.5,-554 149.5,-533 98.5,-533\"/>\n<text text-anchor=\"start\" x=\"115\" y=\"-539.8\" font-family=\"Times,serif\" font-size=\"14.00\">tuv</text>\n<polygon fill=\"none\" stroke=\"black\" points=\"98.5,-512 98.5,-533 149.5,-533 149.5,-512 98.5,-512\"/>\n<text text-anchor=\"start\" x=\"117\" y=\"-518.8\" font-family=\"Times,serif\" font-size=\"14.00\">uv</text>\n<polygon fill=\"none\" stroke=\"black\" points=\"98.5,-491 98.5,-512 149.5,-512 149.5,-491 98.5,-491\"/>\n<text text-anchor=\"start\" x=\"122\" y=\"-497.8\" font-family=\"Times,serif\" font-size=\"14.00\">i</text>\n<polygon fill=\"none\" stroke=\"black\" points=\"98.5,-470 98.5,-491 149.5,-491 149.5,-470 98.5,-470\"/>\n<text text-anchor=\"start\" x=\"122\" y=\"-476.8\" font-family=\"Times,serif\" font-size=\"14.00\">j</text>\n<polygon fill=\"none\" stroke=\"black\" points=\"98.5,-449 98.5,-470 149.5,-470 149.5,-449 98.5,-449\"/>\n<text text-anchor=\"start\" x=\"119\" y=\"-455.8\" font-family=\"Times,serif\" font-size=\"14.00\">w</text>\n<polygon fill=\"none\" stroke=\"black\" points=\"98.5,-428 98.5,-449 149.5,-449 149.5,-428 98.5,-428\"/>\n<text text-anchor=\"start\" x=\"121.5\" y=\"-434.8\" font-family=\"Times,serif\" font-size=\"14.00\">r</text>\n<polygon fill=\"none\" stroke=\"black\" points=\"98.5,-407 98.5,-428 149.5,-428 149.5,-407 98.5,-407\"/>\n<text text-anchor=\"start\" x=\"121\" y=\"-413.8\" font-family=\"Times,serif\" font-size=\"14.00\">s</text>\n<polygon fill=\"none\" stroke=\"black\" points=\"98.5,-386 98.5,-407 149.5,-407 149.5,-386 98.5,-386\"/>\n<text text-anchor=\"start\" x=\"114.5\" y=\"-392.8\" font-family=\"Times,serif\" font-size=\"14.00\">mu</text>\n<polygon fill=\"none\" stroke=\"black\" points=\"98.5,-365 98.5,-386 149.5,-386 149.5,-365 98.5,-365\"/>\n<text text-anchor=\"start\" x=\"110\" y=\"-371.8\" font-family=\"Times,serif\" font-size=\"14.00\">nu_x</text>\n<polygon fill=\"none\" stroke=\"black\" points=\"98.5,-344 98.5,-365 149.5,-365 149.5,-344 98.5,-344\"/>\n<text text-anchor=\"start\" x=\"110\" y=\"-350.8\" font-family=\"Times,serif\" font-size=\"14.00\">nu_y</text>\n<polygon fill=\"none\" stroke=\"black\" points=\"98.5,-323 98.5,-344 149.5,-344 149.5,-323 98.5,-323\"/>\n<text text-anchor=\"start\" x=\"110.5\" y=\"-329.8\" font-family=\"Times,serif\" font-size=\"14.00\">nu_z</text>\n<polygon fill=\"none\" stroke=\"black\" points=\"98.5,-302 98.5,-323 149.5,-323 149.5,-302 98.5,-302\"/>\n<text text-anchor=\"start\" x=\"118\" y=\"-308.8\" font-family=\"Times,serif\" font-size=\"14.00\">m</text>\n<polygon fill=\"none\" stroke=\"black\" points=\"98.5,-281 98.5,-302 149.5,-302 149.5,-281 98.5,-281\"/>\n<text text-anchor=\"start\" x=\"122\" y=\"-287.8\" font-family=\"Times,serif\" font-size=\"14.00\">l</text>\n<polygon fill=\"none\" stroke=\"black\" points=\"98.5,-260 98.5,-281 149.5,-281 149.5,-260 98.5,-260\"/>\n<text text-anchor=\"start\" x=\"101.5\" y=\"-266.8\" font-family=\"Times,serif\" font-size=\"14.00\">succ_nu</text>\n<polygon fill=\"none\" stroke=\"black\" points=\"98.5,-239 98.5,-260 149.5,-260 149.5,-239 98.5,-239\"/>\n<text text-anchor=\"start\" x=\"107\" y=\"-245.8\" font-family=\"Times,serif\" font-size=\"14.00\">plus_t</text>\n</g>\n<!-- tuv_G35&#45;&gt;PrepareFirstQuantization -->\n<g id=\"edge1\" class=\"edge\">\n<title>tuv_G35:e-&gt;PrepareFirstQuantization:w</title>\n<path fill=\"none\" stroke=\"black\" d=\"M58.5,-774C83.72,-774 72.72,-556.41 95.96,-544.51\"/>\n<ellipse fill=\"black\" stroke=\"black\" cx=\"97.03\" cy=\"-544.24\" rx=\"1\" ry=\"1\"/>\n<text text-anchor=\"middle\" x=\"79.5\" y=\"-648\" font-family=\"Times,serif\" font-size=\"10.00\">1</text>\n</g>\n<!-- uv_G13 -->\n<g id=\"node2\" class=\"node\">\n<title>uv_G13</title>\n<text text-anchor=\"middle\" x=\"30.5\" y=\"-716.3\" font-family=\"Times,serif\" font-size=\"14.00\">uv</text>\n</g>\n<!-- uv_G13&#45;&gt;PrepareFirstQuantization -->\n<g id=\"edge2\" class=\"edge\">\n<title>uv_G13:e-&gt;PrepareFirstQuantization:w</title>\n<path fill=\"none\" stroke=\"black\" d=\"M58.5,-720C80.13,-720 75.97,-535.12 95.99,-523.57\"/>\n<ellipse fill=\"black\" stroke=\"black\" cx=\"97.04\" cy=\"-523.27\" rx=\"1\" ry=\"1\"/>\n<text text-anchor=\"middle\" x=\"79.5\" y=\"-612\" font-family=\"Times,serif\" font-size=\"10.00\">1</text>\n</g>\n<!-- i_G16 -->\n<g id=\"node3\" class=\"node\">\n<title>i_G16</title>\n<text text-anchor=\"middle\" x=\"30.5\" y=\"-662.3\" font-family=\"Times,serif\" font-size=\"14.00\">i</text>\n</g>\n<!-- i_G16&#45;&gt;PrepareFirstQuantization -->\n<g id=\"edge3\" class=\"edge\">\n<title>i_G16:e-&gt;PrepareFirstQuantization:w</title>\n<path fill=\"none\" stroke=\"black\" d=\"M58.5,-666C76.51,-666 79.07,-514.56 95.88,-502.73\"/>\n<ellipse fill=\"black\" stroke=\"black\" cx=\"97.05\" cy=\"-502.33\" rx=\"1\" ry=\"1\"/>\n<text text-anchor=\"middle\" x=\"79.5\" y=\"-577\" font-family=\"Times,serif\" font-size=\"10.00\">4</text>\n</g>\n<!-- j_G21 -->\n<g id=\"node4\" class=\"node\">\n<title>j_G21</title>\n<text text-anchor=\"middle\" x=\"30.5\" y=\"-608.3\" font-family=\"Times,serif\" font-size=\"14.00\">j</text>\n</g>\n<!-- j_G21&#45;&gt;PrepareFirstQuantization -->\n<g id=\"edge4\" class=\"edge\">\n<title>j_G21:e-&gt;PrepareFirstQuantization:w</title>\n<path fill=\"none\" stroke=\"black\" d=\"M58.5,-612C65.63,-612 87.43,-496.86 96.39,-482.47\"/>\n<ellipse fill=\"black\" stroke=\"black\" cx=\"97.26\" cy=\"-481.67\" rx=\"1\" ry=\"1\"/>\n<text text-anchor=\"middle\" x=\"79.5\" y=\"-545\" font-family=\"Times,serif\" font-size=\"10.00\">4</text>\n</g>\n<!-- w_G37 -->\n<g id=\"node5\" class=\"node\">\n<title>w_G37</title>\n<text text-anchor=\"middle\" x=\"30.5\" y=\"-554.3\" font-family=\"Times,serif\" font-size=\"14.00\">w</text>\n</g>\n<!-- w_G37&#45;&gt;PrepareFirstQuantization -->\n<g id=\"edge5\" class=\"edge\">\n<title>w_G37:e-&gt;PrepareFirstQuantization:w</title>\n<path fill=\"none\" stroke=\"black\" d=\"M58.5,-558C104.73,-558 52.72,-463.04 95.87,-460.07\"/>\n<ellipse fill=\"black\" stroke=\"black\" cx=\"97\" cy=\"-460.03\" rx=\"1\" ry=\"1\"/>\n<text text-anchor=\"middle\" x=\"79.5\" y=\"-537\" font-family=\"Times,serif\" font-size=\"10.00\">2</text>\n</g>\n<!-- r_G22 -->\n<g id=\"node6\" class=\"node\">\n<title>r_G22</title>\n<text text-anchor=\"middle\" x=\"30.5\" y=\"-500.3\" font-family=\"Times,serif\" font-size=\"14.00\">r</text>\n</g>\n<!-- r_G22&#45;&gt;PrepareFirstQuantization -->\n<g id=\"edge6\" class=\"edge\">\n<title>r_G22:e-&gt;PrepareFirstQuantization:w</title>\n<path fill=\"none\" stroke=\"black\" d=\"M58.5,-504C91.51,-504 65.48,-442.01 95.72,-439.11\"/>\n<ellipse fill=\"black\" stroke=\"black\" cx=\"97\" cy=\"-439.05\" rx=\"1\" ry=\"1\"/>\n<text text-anchor=\"middle\" x=\"79.5\" y=\"-464\" font-family=\"Times,serif\" font-size=\"10.00\">6</text>\n</g>\n<!-- s_G44 -->\n<g id=\"node7\" class=\"node\">\n<title>s_G44</title>\n<text text-anchor=\"middle\" x=\"30.5\" y=\"-446.3\" font-family=\"Times,serif\" font-size=\"14.00\">s</text>\n</g>\n<!-- s_G44&#45;&gt;PrepareFirstQuantization -->\n<g id=\"edge7\" class=\"edge\">\n<title>s_G44:e-&gt;PrepareFirstQuantization:w</title>\n<path fill=\"none\" stroke=\"black\" d=\"M58.5,-450C80.39,-450 75.73,-419.97 95.96,-418.09\"/>\n<ellipse fill=\"black\" stroke=\"black\" cx=\"97\" cy=\"-418.05\" rx=\"1\" ry=\"1\"/>\n<text text-anchor=\"middle\" x=\"79.5\" y=\"-435\" font-family=\"Times,serif\" font-size=\"10.00\">6</text>\n</g>\n<!-- mu_G34 -->\n<g id=\"node8\" class=\"node\">\n<title>mu_G34</title>\n<text text-anchor=\"middle\" x=\"30.5\" y=\"-392.3\" font-family=\"Times,serif\" font-size=\"14.00\">mu</text>\n</g>\n<!-- mu_G34&#45;&gt;PrepareFirstQuantization -->\n<g id=\"edge8\" class=\"edge\">\n<title>mu_G34:e-&gt;PrepareFirstQuantization:w</title>\n<path fill=\"none\" stroke=\"black\" d=\"M58.5,-396C75.23,-396 80,-396 95.62,-396\"/>\n<ellipse fill=\"black\" stroke=\"black\" cx=\"97\" cy=\"-396\" rx=\"1\" ry=\"1\"/>\n<text text-anchor=\"middle\" x=\"79.5\" y=\"-399\" font-family=\"Times,serif\" font-size=\"10.00\">6</text>\n</g>\n<!-- nu_x_G39 -->\n<g id=\"node9\" class=\"node\">\n<title>nu_x_G39</title>\n<text text-anchor=\"middle\" x=\"30.5\" y=\"-338.3\" font-family=\"Times,serif\" font-size=\"14.00\">nu_x</text>\n</g>\n<!-- nu_x_G39&#45;&gt;PrepareFirstQuantization -->\n<g id=\"edge9\" class=\"edge\">\n<title>nu_x_G39:e-&gt;PrepareFirstQuantization:w</title>\n<path fill=\"none\" stroke=\"black\" d=\"M58.5,-342C80.66,-342 75.49,-372.97 95.94,-374.91\"/>\n<ellipse fill=\"black\" stroke=\"black\" cx=\"97\" cy=\"-374.95\" rx=\"1\" ry=\"1\"/>\n<text text-anchor=\"middle\" x=\"79.5\" y=\"-364\" font-family=\"Times,serif\" font-size=\"10.00\">7</text>\n</g>\n<!-- nu_y_G11 -->\n<g id=\"node10\" class=\"node\">\n<title>nu_y_G11</title>\n<text text-anchor=\"middle\" x=\"30.5\" y=\"-284.3\" font-family=\"Times,serif\" font-size=\"14.00\">nu_y</text>\n</g>\n<!-- nu_y_G11&#45;&gt;PrepareFirstQuantization -->\n<g id=\"edge10\" class=\"edge\">\n<title>nu_y_G11:e-&gt;PrepareFirstQuantization:w</title>\n<path fill=\"none\" stroke=\"black\" d=\"M58.5,-288C91.88,-288 65.13,-350.94 95.7,-353.89\"/>\n<ellipse fill=\"black\" stroke=\"black\" cx=\"97\" cy=\"-353.95\" rx=\"1\" ry=\"1\"/>\n<text text-anchor=\"middle\" x=\"79.5\" y=\"-337\" font-family=\"Times,serif\" font-size=\"10.00\">7</text>\n</g>\n<!-- nu_z_G17 -->\n<g id=\"node11\" class=\"node\">\n<title>nu_z_G17</title>\n<text text-anchor=\"middle\" x=\"30.5\" y=\"-230.3\" font-family=\"Times,serif\" font-size=\"14.00\">nu_z</text>\n</g>\n<!-- nu_z_G17&#45;&gt;PrepareFirstQuantization -->\n<g id=\"edge11\" class=\"edge\">\n<title>nu_z_G17:e-&gt;PrepareFirstQuantization:w</title>\n<path fill=\"none\" stroke=\"black\" d=\"M58.5,-234C105.13,-234 52.33,-329.93 95.85,-332.93\"/>\n<ellipse fill=\"black\" stroke=\"black\" cx=\"97\" cy=\"-332.97\" rx=\"1\" ry=\"1\"/>\n<text text-anchor=\"middle\" x=\"79.5\" y=\"-323\" font-family=\"Times,serif\" font-size=\"10.00\">7</text>\n</g>\n<!-- m_G5 -->\n<g id=\"node12\" class=\"node\">\n<title>m_G5</title>\n<text text-anchor=\"middle\" x=\"30.5\" y=\"-176.3\" font-family=\"Times,serif\" font-size=\"14.00\">m</text>\n</g>\n<!-- m_G5&#45;&gt;PrepareFirstQuantization -->\n<g id=\"edge12\" class=\"edge\">\n<title>m_G5:e-&gt;PrepareFirstQuantization:w</title>\n<path fill=\"none\" stroke=\"black\" d=\"M58.5,-180C59.38,-180 91.39,-292.18 97.14,-309.71\"/>\n<ellipse fill=\"black\" stroke=\"black\" cx=\"97.65\" cy=\"-311.06\" rx=\"1\" ry=\"1\"/>\n<text text-anchor=\"middle\" x=\"79.5\" y=\"-252\" font-family=\"Times,serif\" font-size=\"10.00\">8</text>\n</g>\n<!-- l_G19 -->\n<g id=\"node13\" class=\"node\">\n<title>l_G19</title>\n<text text-anchor=\"middle\" x=\"30.5\" y=\"-122.3\" font-family=\"Times,serif\" font-size=\"14.00\">l</text>\n</g>\n<!-- l_G19&#45;&gt;PrepareFirstQuantization -->\n<g id=\"edge13\" class=\"edge\">\n<title>l_G19:e-&gt;PrepareFirstQuantization:w</title>\n<path fill=\"none\" stroke=\"black\" d=\"M58.5,-126C76.61,-126 78.98,-278.36 95.87,-290.26\"/>\n<ellipse fill=\"black\" stroke=\"black\" cx=\"97.05\" cy=\"-290.67\" rx=\"1\" ry=\"1\"/>\n<text text-anchor=\"middle\" x=\"79.5\" y=\"-221\" font-family=\"Times,serif\" font-size=\"10.00\">4</text>\n</g>\n<!-- succ_nu_G14 -->\n<g id=\"node14\" class=\"node\">\n<title>succ_nu_G14</title>\n<text text-anchor=\"middle\" x=\"30.5\" y=\"-68.3\" font-family=\"Times,serif\" font-size=\"14.00\">succ_nu</text>\n</g>\n<!-- succ_nu_G14&#45;&gt;PrepareFirstQuantization -->\n<g id=\"edge14\" class=\"edge\">\n<title>succ_nu_G14:e-&gt;PrepareFirstQuantization:w</title>\n<path fill=\"none\" stroke=\"black\" d=\"M61,-72C82.68,-72 76.07,-257.82 95.99,-269.43\"/>\n<ellipse fill=\"black\" stroke=\"black\" cx=\"97.04\" cy=\"-269.73\" rx=\"1\" ry=\"1\"/>\n<text text-anchor=\"middle\" x=\"79.5\" y=\"-179\" font-family=\"Times,serif\" font-size=\"10.00\">1</text>\n</g>\n<!-- plus_t_G36 -->\n<g id=\"node15\" class=\"node\">\n<title>plus_t_G36</title>\n<text text-anchor=\"middle\" x=\"30.5\" y=\"-14.3\" font-family=\"Times,serif\" font-size=\"14.00\">plus_t</text>\n</g>\n<!-- plus_t_G36&#45;&gt;PrepareFirstQuantization -->\n<g id=\"edge15\" class=\"edge\">\n<title>plus_t_G36:e-&gt;PrepareFirstQuantization:w</title>\n<path fill=\"none\" stroke=\"black\" d=\"M58.5,-18C70.91,-18 83.72,-227.85 96.17,-247.52\"/>\n<ellipse fill=\"black\" stroke=\"black\" cx=\"97.22\" cy=\"-248.37\" rx=\"1\" ry=\"1\"/>\n<text text-anchor=\"middle\" x=\"79.5\" y=\"-151\" font-family=\"Times,serif\" font-size=\"10.00\">1</text>\n</g>\n<!-- tuv_G29 -->\n<g id=\"node17\" class=\"node\">\n<title>tuv_G29</title>\n<text text-anchor=\"middle\" x=\"216.5\" y=\"-770.3\" font-family=\"Times,serif\" font-size=\"14.00\">tuv</text>\n</g>\n<!-- PrepareFirstQuantization&#45;&gt;tuv_G29 -->\n<g id=\"edge16\" class=\"edge\">\n<title>PrepareFirstQuantization:e-&gt;tuv_G29:w</title>\n<path fill=\"none\" stroke=\"black\" d=\"M149,-544C174.22,-544 163.22,-761.59 186.46,-773.49\"/>\n<ellipse fill=\"black\" stroke=\"black\" cx=\"187.53\" cy=\"-773.76\" rx=\"1\" ry=\"1\"/>\n<text text-anchor=\"middle\" x=\"167.5\" y=\"-648\" font-family=\"Times,serif\" font-size=\"10.00\">1</text>\n</g>\n<!-- uv_G4 -->\n<g id=\"node18\" class=\"node\">\n<title>uv_G4</title>\n<text text-anchor=\"middle\" x=\"216.5\" y=\"-716.3\" font-family=\"Times,serif\" font-size=\"14.00\">uv</text>\n</g>\n<!-- PrepareFirstQuantization&#45;&gt;uv_G4 -->\n<g id=\"edge17\" class=\"edge\">\n<title>PrepareFirstQuantization:e-&gt;uv_G4:w</title>\n<path fill=\"none\" stroke=\"black\" d=\"M149,-523C170.63,-523 166.47,-707.88 186.49,-719.43\"/>\n<ellipse fill=\"black\" stroke=\"black\" cx=\"187.54\" cy=\"-719.73\" rx=\"1\" ry=\"1\"/>\n<text text-anchor=\"middle\" x=\"167.5\" y=\"-612\" font-family=\"Times,serif\" font-size=\"10.00\">1</text>\n</g>\n<!-- i_G7 -->\n<g id=\"node19\" class=\"node\">\n<title>i_G7</title>\n<text text-anchor=\"middle\" x=\"216.5\" y=\"-662.3\" font-family=\"Times,serif\" font-size=\"14.00\">i</text>\n</g>\n<!-- PrepareFirstQuantization&#45;&gt;i_G7 -->\n<g id=\"edge18\" class=\"edge\">\n<title>PrepareFirstQuantization:e-&gt;i_G7:w</title>\n<path fill=\"none\" stroke=\"black\" d=\"M149,-502C167.01,-502 169.57,-653.44 186.38,-665.27\"/>\n<ellipse fill=\"black\" stroke=\"black\" cx=\"187.55\" cy=\"-665.67\" rx=\"1\" ry=\"1\"/>\n<text text-anchor=\"middle\" x=\"167.5\" y=\"-577\" font-family=\"Times,serif\" font-size=\"10.00\">4</text>\n</g>\n<!-- j_G9 -->\n<g id=\"node20\" class=\"node\">\n<title>j_G9</title>\n<text text-anchor=\"middle\" x=\"216.5\" y=\"-608.3\" font-family=\"Times,serif\" font-size=\"14.00\">j</text>\n</g>\n<!-- PrepareFirstQuantization&#45;&gt;j_G9 -->\n<g id=\"edge19\" class=\"edge\">\n<title>PrepareFirstQuantization:e-&gt;j_G9:w</title>\n<path fill=\"none\" stroke=\"black\" d=\"M149,-481C156.13,-481 177.93,-596.14 186.89,-610.53\"/>\n<ellipse fill=\"black\" stroke=\"black\" cx=\"187.76\" cy=\"-611.33\" rx=\"1\" ry=\"1\"/>\n<text text-anchor=\"middle\" x=\"167.5\" y=\"-545\" font-family=\"Times,serif\" font-size=\"10.00\">4</text>\n</g>\n<!-- w_G31 -->\n<g id=\"node21\" class=\"node\">\n<title>w_G31</title>\n<text text-anchor=\"middle\" x=\"216.5\" y=\"-554.3\" font-family=\"Times,serif\" font-size=\"14.00\">w</text>\n</g>\n<!-- PrepareFirstQuantization&#45;&gt;w_G31 -->\n<g id=\"edge20\" class=\"edge\">\n<title>PrepareFirstQuantization:e-&gt;w_G31:w</title>\n<path fill=\"none\" stroke=\"black\" d=\"M149,-460C195.23,-460 143.22,-554.96 186.37,-557.93\"/>\n<ellipse fill=\"black\" stroke=\"black\" cx=\"187.5\" cy=\"-557.97\" rx=\"1\" ry=\"1\"/>\n<text text-anchor=\"middle\" x=\"167.5\" y=\"-537\" font-family=\"Times,serif\" font-size=\"10.00\">2</text>\n</g>\n<!-- r_G15 -->\n<g id=\"node22\" class=\"node\">\n<title>r_G15</title>\n<text text-anchor=\"middle\" x=\"216.5\" y=\"-500.3\" font-family=\"Times,serif\" font-size=\"14.00\">r</text>\n</g>\n<!-- PrepareFirstQuantization&#45;&gt;r_G15 -->\n<g id=\"edge21\" class=\"edge\">\n<title>PrepareFirstQuantization:e-&gt;r_G15:w</title>\n<path fill=\"none\" stroke=\"black\" d=\"M149,-439C182.01,-439 155.98,-500.99 186.22,-503.89\"/>\n<ellipse fill=\"black\" stroke=\"black\" cx=\"187.5\" cy=\"-503.95\" rx=\"1\" ry=\"1\"/>\n<text text-anchor=\"middle\" x=\"167.5\" y=\"-464\" font-family=\"Times,serif\" font-size=\"10.00\">6</text>\n</g>\n<!-- s_G32 -->\n<g id=\"node23\" class=\"node\">\n<title>s_G32</title>\n<text text-anchor=\"middle\" x=\"216.5\" y=\"-446.3\" font-family=\"Times,serif\" font-size=\"14.00\">s</text>\n</g>\n<!-- PrepareFirstQuantization&#45;&gt;s_G32 -->\n<g id=\"edge22\" class=\"edge\">\n<title>PrepareFirstQuantization:e-&gt;s_G32:w</title>\n<path fill=\"none\" stroke=\"black\" d=\"M149,-418C170.89,-418 166.23,-448.03 186.46,-449.91\"/>\n<ellipse fill=\"black\" stroke=\"black\" cx=\"187.5\" cy=\"-449.95\" rx=\"1\" ry=\"1\"/>\n<text text-anchor=\"middle\" x=\"167.5\" y=\"-435\" font-family=\"Times,serif\" font-size=\"10.00\">6</text>\n</g>\n<!-- mu_G30 -->\n<g id=\"node24\" class=\"node\">\n<title>mu_G30</title>\n<text text-anchor=\"middle\" x=\"216.5\" y=\"-392.3\" font-family=\"Times,serif\" font-size=\"14.00\">mu</text>\n</g>\n<!-- PrepareFirstQuantization&#45;&gt;mu_G30 -->\n<g id=\"edge23\" class=\"edge\">\n<title>PrepareFirstQuantization:e-&gt;mu_G30:w</title>\n<path fill=\"none\" stroke=\"black\" d=\"M149,-396C165.73,-396 170.5,-396 186.12,-396\"/>\n<ellipse fill=\"black\" stroke=\"black\" cx=\"187.5\" cy=\"-396\" rx=\"1\" ry=\"1\"/>\n<text text-anchor=\"middle\" x=\"167.5\" y=\"-399\" font-family=\"Times,serif\" font-size=\"10.00\">6</text>\n</g>\n<!-- nu_x_G33 -->\n<g id=\"node25\" class=\"node\">\n<title>nu_x_G33</title>\n<text text-anchor=\"middle\" x=\"216.5\" y=\"-338.3\" font-family=\"Times,serif\" font-size=\"14.00\">nu_x</text>\n</g>\n<!-- PrepareFirstQuantization&#45;&gt;nu_x_G33 -->\n<g id=\"edge24\" class=\"edge\">\n<title>PrepareFirstQuantization:e-&gt;nu_x_G33:w</title>\n<path fill=\"none\" stroke=\"black\" d=\"M149,-375C171.16,-375 165.99,-344.03 186.44,-342.09\"/>\n<ellipse fill=\"black\" stroke=\"black\" cx=\"187.5\" cy=\"-342.05\" rx=\"1\" ry=\"1\"/>\n<text text-anchor=\"middle\" x=\"167.5\" y=\"-364\" font-family=\"Times,serif\" font-size=\"10.00\">7</text>\n</g>\n<!-- nu_y_G2 -->\n<g id=\"node26\" class=\"node\">\n<title>nu_y_G2</title>\n<text text-anchor=\"middle\" x=\"216.5\" y=\"-284.3\" font-family=\"Times,serif\" font-size=\"14.00\">nu_y</text>\n</g>\n<!-- PrepareFirstQuantization&#45;&gt;nu_y_G2 -->\n<g id=\"edge25\" class=\"edge\">\n<title>PrepareFirstQuantization:e-&gt;nu_y_G2:w</title>\n<path fill=\"none\" stroke=\"black\" d=\"M149,-354C182.38,-354 155.63,-291.06 186.2,-288.11\"/>\n<ellipse fill=\"black\" stroke=\"black\" cx=\"187.5\" cy=\"-288.05\" rx=\"1\" ry=\"1\"/>\n<text text-anchor=\"middle\" x=\"167.5\" y=\"-337\" font-family=\"Times,serif\" font-size=\"10.00\">7</text>\n</g>\n<!-- nu_z_G8 -->\n<g id=\"node27\" class=\"node\">\n<title>nu_z_G8</title>\n<text text-anchor=\"middle\" x=\"216.5\" y=\"-230.3\" font-family=\"Times,serif\" font-size=\"14.00\">nu_z</text>\n</g>\n<!-- PrepareFirstQuantization&#45;&gt;nu_z_G8 -->\n<g id=\"edge26\" class=\"edge\">\n<title>PrepareFirstQuantization:e-&gt;nu_z_G8:w</title>\n<path fill=\"none\" stroke=\"black\" d=\"M149,-333C195.63,-333 142.83,-237.07 186.35,-234.07\"/>\n<ellipse fill=\"black\" stroke=\"black\" cx=\"187.5\" cy=\"-234.03\" rx=\"1\" ry=\"1\"/>\n<text text-anchor=\"middle\" x=\"167.5\" y=\"-323\" font-family=\"Times,serif\" font-size=\"10.00\">7</text>\n</g>\n<!-- m_G0 -->\n<g id=\"node28\" class=\"node\">\n<title>m_G0</title>\n<text text-anchor=\"middle\" x=\"216.5\" y=\"-176.3\" font-family=\"Times,serif\" font-size=\"14.00\">m</text>\n</g>\n<!-- PrepareFirstQuantization&#45;&gt;m_G0 -->\n<g id=\"edge27\" class=\"edge\">\n<title>PrepareFirstQuantization:e-&gt;m_G0:w</title>\n<path fill=\"none\" stroke=\"black\" d=\"M149,-312C149.88,-312 181.89,-199.82 187.64,-182.29\"/>\n<ellipse fill=\"black\" stroke=\"black\" cx=\"188.15\" cy=\"-180.94\" rx=\"1\" ry=\"1\"/>\n<text text-anchor=\"middle\" x=\"167.5\" y=\"-252\" font-family=\"Times,serif\" font-size=\"10.00\">8</text>\n</g>\n<!-- l_G12 -->\n<g id=\"node29\" class=\"node\">\n<title>l_G12</title>\n<text text-anchor=\"middle\" x=\"216.5\" y=\"-122.3\" font-family=\"Times,serif\" font-size=\"14.00\">l</text>\n</g>\n<!-- PrepareFirstQuantization&#45;&gt;l_G12 -->\n<g id=\"edge28\" class=\"edge\">\n<title>PrepareFirstQuantization:e-&gt;l_G12:w</title>\n<path fill=\"none\" stroke=\"black\" d=\"M149,-291C167.11,-291 169.48,-138.64 186.37,-126.74\"/>\n<ellipse fill=\"black\" stroke=\"black\" cx=\"187.55\" cy=\"-126.33\" rx=\"1\" ry=\"1\"/>\n<text text-anchor=\"middle\" x=\"167.5\" y=\"-221\" font-family=\"Times,serif\" font-size=\"10.00\">4</text>\n</g>\n<!-- succ_nu_G6 -->\n<g id=\"node30\" class=\"node\">\n<title>succ_nu_G6</title>\n<text text-anchor=\"middle\" x=\"216.5\" y=\"-68.3\" font-family=\"Times,serif\" font-size=\"14.00\">succ_nu</text>\n</g>\n<!-- PrepareFirstQuantization&#45;&gt;succ_nu_G6 -->\n<g id=\"edge29\" class=\"edge\">\n<title>PrepareFirstQuantization:e-&gt;succ_nu_G6:w</title>\n<path fill=\"none\" stroke=\"black\" d=\"M149,-270C170.68,-270 164.07,-84.18 183.99,-72.57\"/>\n<ellipse fill=\"black\" stroke=\"black\" cx=\"185.04\" cy=\"-72.27\" rx=\"1\" ry=\"1\"/>\n<text text-anchor=\"middle\" x=\"167.5\" y=\"-179\" font-family=\"Times,serif\" font-size=\"10.00\">1</text>\n</g>\n<!-- plus_t_G24 -->\n<g id=\"node31\" class=\"node\">\n<title>plus_t_G24</title>\n<text text-anchor=\"middle\" x=\"216.5\" y=\"-14.3\" font-family=\"Times,serif\" font-size=\"14.00\">plus_t</text>\n</g>\n<!-- PrepareFirstQuantization&#45;&gt;plus_t_G24 -->\n<g id=\"edge30\" class=\"edge\">\n<title>PrepareFirstQuantization:e-&gt;plus_t_G24:w</title>\n<path fill=\"none\" stroke=\"black\" d=\"M149,-249C161.41,-249 174.22,-39.15 186.67,-19.48\"/>\n<ellipse fill=\"black\" stroke=\"black\" cx=\"187.72\" cy=\"-18.63\" rx=\"1\" ry=\"1\"/>\n<text text-anchor=\"middle\" x=\"167.5\" y=\"-151\" font-family=\"Times,serif\" font-size=\"10.00\">1</text>\n</g>\n</g>\n</svg>",
          "text/plain": "<IPython.core.display.SVG object>"
         },
         "metadata": {},
         "output_type": "display_data"
        }
       ],
       "tabbable": null,
       "tooltip": null
      }
     },
     "82b2cac9c9e24ceea3e64e78a19f0550": {
      "model_module": "@jupyter-widgets/controls",
      "model_module_version": "2.0.0",
      "model_name": "HBoxModel",
      "state": {
       "_dom_classes": [],
       "_model_module": "@jupyter-widgets/controls",
       "_model_module_version": "2.0.0",
       "_model_name": "HBoxModel",
       "_view_count": null,
       "_view_module": "@jupyter-widgets/controls",
       "_view_module_version": "2.0.0",
       "_view_name": "HBoxView",
       "box_style": "",
       "children": [
        "IPY_MODEL_8b732945006d4b72a40b47b137ddd222"
       ],
       "layout": "IPY_MODEL_0bd5085402344980aa515525a52ea46b",
       "tabbable": null,
       "tooltip": null
      }
     },
     "838dae35ae6648abbf1ccaea05bb1e4c": {
      "model_module": "@jupyter-widgets/controls",
      "model_module_version": "2.0.0",
      "model_name": "HBoxModel",
      "state": {
       "_dom_classes": [],
       "_model_module": "@jupyter-widgets/controls",
       "_model_module_version": "2.0.0",
       "_model_name": "HBoxModel",
       "_view_count": null,
       "_view_module": "@jupyter-widgets/controls",
       "_view_module_version": "2.0.0",
       "_view_name": "HBoxView",
       "box_style": "",
       "children": [
        "IPY_MODEL_9b4fda348993498bb4ee7a0830f9a5ff"
       ],
       "layout": "IPY_MODEL_4430ffb5fcf44b3bb6c405e4ab28a6e7",
       "tabbable": null,
       "tooltip": null
      }
     },
     "8b732945006d4b72a40b47b137ddd222": {
      "model_module": "@jupyter-widgets/output",
      "model_module_version": "1.0.0",
      "model_name": "OutputModel",
      "state": {
       "_dom_classes": [],
       "_model_module": "@jupyter-widgets/output",
       "_model_module_version": "1.0.0",
       "_model_name": "OutputModel",
       "_view_count": null,
       "_view_module": "@jupyter-widgets/output",
       "_view_module_version": "1.0.0",
       "_view_name": "OutputView",
       "layout": "IPY_MODEL_e5343b21a0b7415a94aa7cbe77399aaf",
       "msg_id": "",
       "outputs": [
        {
         "data": {
          "text/markdown": "`prepare_uv`",
          "text/plain": "<IPython.core.display.Markdown object>"
         },
         "metadata": {},
         "output_type": "display_data"
        },
        {
         "data": {
          "image/svg+xml": "<svg xmlns=\"http://www.w3.org/2000/svg\" xmlns:xlink=\"http://www.w3.org/1999/xlink\" width=\"256pt\" height=\"368pt\" viewBox=\"0.00 0.00 256.00 368.00\">\n<g id=\"graph0\" class=\"graph\" transform=\"scale(1 1) rotate(0) translate(4 364)\">\n<title>my_graph</title>\n<polygon fill=\"white\" stroke=\"transparent\" points=\"-4,4 -4,-364 252,-364 252,4 -4,4\"/>\n<!-- mu_G9 -->\n<g id=\"node1\" class=\"node\">\n<title>mu_G9</title>\n<text text-anchor=\"middle\" x=\"29\" y=\"-338.3\" font-family=\"Times,serif\" font-size=\"14.00\">mu</text>\n</g>\n<!-- PrepareUVFirstQuantization -->\n<g id=\"node8\" class=\"node\">\n<title>PrepareUVFirstQuantization</title>\n<polygon fill=\"none\" stroke=\"black\" points=\"95,-254 95,-271 153,-271 153,-254 95,-254\"/>\n<text text-anchor=\"start\" x=\"98\" y=\"-260\" font-family=\"Times,serif\" font-size=\"10.00\">PREP $UV$</text>\n<polygon fill=\"none\" stroke=\"black\" points=\"95,-233 95,-254 153,-254 153,-233 95,-233\"/>\n<text text-anchor=\"start\" x=\"114.5\" y=\"-239.8\" font-family=\"Times,serif\" font-size=\"14.00\">mu</text>\n<polygon fill=\"none\" stroke=\"black\" points=\"95,-212 95,-233 153,-233 153,-212 95,-212\"/>\n<text text-anchor=\"start\" x=\"109\" y=\"-218.8\" font-family=\"Times,serif\" font-size=\"14.00\">nu[0]</text>\n<polygon fill=\"none\" stroke=\"black\" points=\"95,-191 95,-212 153,-212 153,-191 95,-191\"/>\n<text text-anchor=\"start\" x=\"109\" y=\"-197.8\" font-family=\"Times,serif\" font-size=\"14.00\">nu[1]</text>\n<polygon fill=\"none\" stroke=\"black\" points=\"95,-170 95,-191 153,-191 153,-170 95,-170\"/>\n<text text-anchor=\"start\" x=\"109\" y=\"-176.8\" font-family=\"Times,serif\" font-size=\"14.00\">nu[2]</text>\n<polygon fill=\"none\" stroke=\"black\" points=\"95,-149 95,-170 153,-170 153,-149 95,-149\"/>\n<text text-anchor=\"start\" x=\"118\" y=\"-155.8\" font-family=\"Times,serif\" font-size=\"14.00\">m</text>\n<polygon fill=\"none\" stroke=\"black\" points=\"95,-128 95,-149 153,-149 153,-128 95,-128\"/>\n<text text-anchor=\"start\" x=\"122\" y=\"-134.8\" font-family=\"Times,serif\" font-size=\"14.00\">l</text>\n<polygon fill=\"none\" stroke=\"black\" points=\"95,-107 95,-128 153,-128 153,-107 95,-107\"/>\n<text text-anchor=\"start\" x=\"103\" y=\"-113.8\" font-family=\"Times,serif\" font-size=\"14.00\">flag_nu</text>\n</g>\n<!-- mu_G9&#45;&gt;PrepareUVFirstQuantization -->\n<g id=\"edge1\" class=\"edge\">\n<title>mu_G9:e-&gt;PrepareUVFirstQuantization:w</title>\n<path fill=\"none\" stroke=\"black\" d=\"M57,-342C79.63,-342 72.16,-250.03 92.9,-244.28\"/>\n<ellipse fill=\"black\" stroke=\"black\" cx=\"94.01\" cy=\"-244.13\" rx=\"1\" ry=\"1\"/>\n<text text-anchor=\"middle\" x=\"76.5\" y=\"-296\" font-family=\"Times,serif\" font-size=\"10.00\">5</text>\n</g>\n<!-- nu_G16 -->\n<g id=\"node2\" class=\"node\">\n<title>nu_G16</title>\n<text text-anchor=\"middle\" x=\"29\" y=\"-284.3\" font-family=\"Times,serif\" font-size=\"14.00\">nu[0]</text>\n</g>\n<!-- nu_G16&#45;&gt;PrepareUVFirstQuantization -->\n<g id=\"edge2\" class=\"edge\">\n<title>nu_G16:e-&gt;PrepareUVFirstQuantization:w</title>\n<path fill=\"none\" stroke=\"black\" d=\"M57,-288C89.68,-288 62.86,-226.01 92.75,-223.11\"/>\n<ellipse fill=\"black\" stroke=\"black\" cx=\"94\" cy=\"-223.05\" rx=\"1\" ry=\"1\"/>\n<text text-anchor=\"middle\" x=\"76.5\" y=\"-258\" font-family=\"Times,serif\" font-size=\"10.00\">6</text>\n</g>\n<!-- nu_G12 -->\n<g id=\"node3\" class=\"node\">\n<title>nu_G12</title>\n<text text-anchor=\"middle\" x=\"29\" y=\"-230.3\" font-family=\"Times,serif\" font-size=\"14.00\">nu[1]</text>\n</g>\n<!-- nu_G12&#45;&gt;PrepareUVFirstQuantization -->\n<g id=\"edge3\" class=\"edge\">\n<title>nu_G12:e-&gt;PrepareUVFirstQuantization:w</title>\n<path fill=\"none\" stroke=\"black\" d=\"M57,-234C78.22,-234 73.36,-204.45 92.54,-202.14\"/>\n<ellipse fill=\"black\" stroke=\"black\" cx=\"94\" cy=\"-202.06\" rx=\"1\" ry=\"1\"/>\n<text text-anchor=\"middle\" x=\"76.5\" y=\"-221\" font-family=\"Times,serif\" font-size=\"10.00\">6</text>\n</g>\n<!-- nu_G17 -->\n<g id=\"node4\" class=\"node\">\n<title>nu_G17</title>\n<text text-anchor=\"middle\" x=\"29\" y=\"-176.3\" font-family=\"Times,serif\" font-size=\"14.00\">nu[2]</text>\n</g>\n<!-- nu_G17&#45;&gt;PrepareUVFirstQuantization -->\n<g id=\"edge4\" class=\"edge\">\n<title>nu_G17:e-&gt;PrepareUVFirstQuantization:w</title>\n<path fill=\"none\" stroke=\"black\" d=\"M57,-180C73.1,-180 77.69,-180 92.71,-180\"/>\n<ellipse fill=\"black\" stroke=\"black\" cx=\"94\" cy=\"-180\" rx=\"1\" ry=\"1\"/>\n<text text-anchor=\"middle\" x=\"76.5\" y=\"-183\" font-family=\"Times,serif\" font-size=\"10.00\">6</text>\n</g>\n<!-- m_G18 -->\n<g id=\"node5\" class=\"node\">\n<title>m_G18</title>\n<text text-anchor=\"middle\" x=\"29\" y=\"-122.3\" font-family=\"Times,serif\" font-size=\"14.00\">m</text>\n</g>\n<!-- m_G18&#45;&gt;PrepareUVFirstQuantization -->\n<g id=\"edge5\" class=\"edge\">\n<title>m_G18:e-&gt;PrepareUVFirstQuantization:w</title>\n<path fill=\"none\" stroke=\"black\" d=\"M57,-126C78.67,-126 73.02,-156.97 92.99,-158.91\"/>\n<ellipse fill=\"black\" stroke=\"black\" cx=\"94\" cy=\"-158.95\" rx=\"1\" ry=\"1\"/>\n<text text-anchor=\"middle\" x=\"76.5\" y=\"-147\" font-family=\"Times,serif\" font-size=\"10.00\">8</text>\n</g>\n<!-- l_G1 -->\n<g id=\"node6\" class=\"node\">\n<title>l_G1</title>\n<text text-anchor=\"middle\" x=\"29\" y=\"-68.3\" font-family=\"Times,serif\" font-size=\"14.00\">l</text>\n</g>\n<!-- l_G1&#45;&gt;PrepareUVFirstQuantization -->\n<g id=\"edge6\" class=\"edge\">\n<title>l_G1:e-&gt;PrepareUVFirstQuantization:w</title>\n<path fill=\"none\" stroke=\"black\" d=\"M57,-72C90.05,-72 62.51,-134.94 92.72,-137.89\"/>\n<ellipse fill=\"black\" stroke=\"black\" cx=\"94\" cy=\"-137.95\" rx=\"1\" ry=\"1\"/>\n<text text-anchor=\"middle\" x=\"76.5\" y=\"-119\" font-family=\"Times,serif\" font-size=\"10.00\">4</text>\n</g>\n<!-- flag_nu_G19 -->\n<g id=\"node7\" class=\"node\">\n<title>flag_nu_G19</title>\n<text text-anchor=\"middle\" x=\"29\" y=\"-14.3\" font-family=\"Times,serif\" font-size=\"14.00\">flag_nu</text>\n</g>\n<!-- flag_nu_G19&#45;&gt;PrepareUVFirstQuantization -->\n<g id=\"edge7\" class=\"edge\">\n<title>flag_nu_G19:e-&gt;PrepareUVFirstQuantization:w</title>\n<path fill=\"none\" stroke=\"black\" d=\"M58,-18C80.75,-18 72.1,-110.91 92.89,-116.72\"/>\n<ellipse fill=\"black\" stroke=\"black\" cx=\"94.01\" cy=\"-116.87\" rx=\"1\" ry=\"1\"/>\n<text text-anchor=\"middle\" x=\"76.5\" y=\"-74\" font-family=\"Times,serif\" font-size=\"10.00\">1</text>\n</g>\n<!-- mu_G0 -->\n<g id=\"node9\" class=\"node\">\n<title>mu_G0</title>\n<text text-anchor=\"middle\" x=\"219\" y=\"-338.3\" font-family=\"Times,serif\" font-size=\"14.00\">mu</text>\n</g>\n<!-- PrepareUVFirstQuantization&#45;&gt;mu_G0 -->\n<g id=\"edge8\" class=\"edge\">\n<title>PrepareUVFirstQuantization:e-&gt;mu_G0:w</title>\n<path fill=\"none\" stroke=\"black\" d=\"M153,-244C175.63,-244 168.16,-335.97 188.9,-341.72\"/>\n<ellipse fill=\"black\" stroke=\"black\" cx=\"190.01\" cy=\"-341.87\" rx=\"1\" ry=\"1\"/>\n<text text-anchor=\"middle\" x=\"171.5\" y=\"-296\" font-family=\"Times,serif\" font-size=\"10.00\">5</text>\n</g>\n<!-- nu_G6 -->\n<g id=\"node10\" class=\"node\">\n<title>nu_G6</title>\n<text text-anchor=\"middle\" x=\"219\" y=\"-284.3\" font-family=\"Times,serif\" font-size=\"14.00\">nu[0]</text>\n</g>\n<!-- PrepareUVFirstQuantization&#45;&gt;nu_G6 -->\n<g id=\"edge9\" class=\"edge\">\n<title>PrepareUVFirstQuantization:e-&gt;nu_G6:w</title>\n<path fill=\"none\" stroke=\"black\" d=\"M153,-223C185.68,-223 158.86,-284.99 188.75,-287.89\"/>\n<ellipse fill=\"black\" stroke=\"black\" cx=\"190\" cy=\"-287.95\" rx=\"1\" ry=\"1\"/>\n<text text-anchor=\"middle\" x=\"171.5\" y=\"-258\" font-family=\"Times,serif\" font-size=\"10.00\">6</text>\n</g>\n<!-- nu_G3 -->\n<g id=\"node11\" class=\"node\">\n<title>nu_G3</title>\n<text text-anchor=\"middle\" x=\"219\" y=\"-230.3\" font-family=\"Times,serif\" font-size=\"14.00\">nu[1]</text>\n</g>\n<!-- PrepareUVFirstQuantization&#45;&gt;nu_G3 -->\n<g id=\"edge10\" class=\"edge\">\n<title>PrepareUVFirstQuantization:e-&gt;nu_G3:w</title>\n<path fill=\"none\" stroke=\"black\" d=\"M153,-202C174.22,-202 169.36,-231.55 188.54,-233.86\"/>\n<ellipse fill=\"black\" stroke=\"black\" cx=\"190\" cy=\"-233.94\" rx=\"1\" ry=\"1\"/>\n<text text-anchor=\"middle\" x=\"171.5\" y=\"-221\" font-family=\"Times,serif\" font-size=\"10.00\">6</text>\n</g>\n<!-- nu_G8 -->\n<g id=\"node12\" class=\"node\">\n<title>nu_G8</title>\n<text text-anchor=\"middle\" x=\"219\" y=\"-176.3\" font-family=\"Times,serif\" font-size=\"14.00\">nu[2]</text>\n</g>\n<!-- PrepareUVFirstQuantization&#45;&gt;nu_G8 -->\n<g id=\"edge11\" class=\"edge\">\n<title>PrepareUVFirstQuantization:e-&gt;nu_G8:w</title>\n<path fill=\"none\" stroke=\"black\" d=\"M153,-180C169.1,-180 173.69,-180 188.71,-180\"/>\n<ellipse fill=\"black\" stroke=\"black\" cx=\"190\" cy=\"-180\" rx=\"1\" ry=\"1\"/>\n<text text-anchor=\"middle\" x=\"171.5\" y=\"-183\" font-family=\"Times,serif\" font-size=\"10.00\">6</text>\n</g>\n<!-- m_G10 -->\n<g id=\"node13\" class=\"node\">\n<title>m_G10</title>\n<text text-anchor=\"middle\" x=\"219\" y=\"-122.3\" font-family=\"Times,serif\" font-size=\"14.00\">m</text>\n</g>\n<!-- PrepareUVFirstQuantization&#45;&gt;m_G10 -->\n<g id=\"edge12\" class=\"edge\">\n<title>PrepareUVFirstQuantization:e-&gt;m_G10:w</title>\n<path fill=\"none\" stroke=\"black\" d=\"M153,-159C174.67,-159 169.02,-128.03 188.99,-126.09\"/>\n<ellipse fill=\"black\" stroke=\"black\" cx=\"190\" cy=\"-126.05\" rx=\"1\" ry=\"1\"/>\n<text text-anchor=\"middle\" x=\"171.5\" y=\"-147\" font-family=\"Times,serif\" font-size=\"10.00\">8</text>\n</g>\n<!-- l_G15 -->\n<g id=\"node14\" class=\"node\">\n<title>l_G15</title>\n<text text-anchor=\"middle\" x=\"219\" y=\"-68.3\" font-family=\"Times,serif\" font-size=\"14.00\">l</text>\n</g>\n<!-- PrepareUVFirstQuantization&#45;&gt;l_G15 -->\n<g id=\"edge13\" class=\"edge\">\n<title>PrepareUVFirstQuantization:e-&gt;l_G15:w</title>\n<path fill=\"none\" stroke=\"black\" d=\"M153,-138C186.05,-138 158.51,-75.06 188.72,-72.11\"/>\n<ellipse fill=\"black\" stroke=\"black\" cx=\"190\" cy=\"-72.05\" rx=\"1\" ry=\"1\"/>\n<text text-anchor=\"middle\" x=\"171.5\" y=\"-119\" font-family=\"Times,serif\" font-size=\"10.00\">4</text>\n</g>\n<!-- flag_nu_G14 -->\n<g id=\"node15\" class=\"node\">\n<title>flag_nu_G14</title>\n<text text-anchor=\"middle\" x=\"219\" y=\"-14.3\" font-family=\"Times,serif\" font-size=\"14.00\">flag_nu</text>\n</g>\n<!-- PrepareUVFirstQuantization&#45;&gt;flag_nu_G14 -->\n<g id=\"edge14\" class=\"edge\">\n<title>PrepareUVFirstQuantization:e-&gt;flag_nu_G14:w</title>\n<path fill=\"none\" stroke=\"black\" d=\"M153,-117C175.75,-117 167.1,-24.09 187.89,-18.28\"/>\n<ellipse fill=\"black\" stroke=\"black\" cx=\"189.01\" cy=\"-18.13\" rx=\"1\" ry=\"1\"/>\n<text text-anchor=\"middle\" x=\"171.5\" y=\"-74\" font-family=\"Times,serif\" font-size=\"10.00\">1</text>\n</g>\n</g>\n</svg>",
          "text/plain": "<IPython.core.display.SVG object>"
         },
         "metadata": {},
         "output_type": "display_data"
        }
       ],
       "tabbable": null,
       "tooltip": null
      }
     },
     "924fb61263a5428ba850a04b3265a640": {
      "model_module": "@jupyter-widgets/base",
      "model_module_version": "2.0.0",
      "model_name": "LayoutModel",
      "state": {
       "_model_module": "@jupyter-widgets/base",
       "_model_module_version": "2.0.0",
       "_model_name": "LayoutModel",
       "_view_count": null,
       "_view_module": "@jupyter-widgets/base",
       "_view_module_version": "2.0.0",
       "_view_name": "LayoutView",
       "align_content": null,
       "align_items": null,
       "align_self": null,
       "border_bottom": null,
       "border_left": null,
       "border_right": null,
       "border_top": null,
       "bottom": null,
       "display": null,
       "flex": null,
       "flex_flow": null,
       "grid_area": null,
       "grid_auto_columns": null,
       "grid_auto_flow": null,
       "grid_auto_rows": null,
       "grid_column": null,
       "grid_gap": null,
       "grid_row": null,
       "grid_template_areas": null,
       "grid_template_columns": null,
       "grid_template_rows": null,
       "height": null,
       "justify_content": null,
       "justify_items": null,
       "left": null,
       "margin": null,
       "max_height": null,
       "max_width": null,
       "min_height": null,
       "min_width": null,
       "object_fit": null,
       "object_position": null,
       "order": null,
       "overflow": null,
       "padding": null,
       "right": null,
       "top": null,
       "visibility": null,
       "width": null
      }
     },
     "9b4fda348993498bb4ee7a0830f9a5ff": {
      "model_module": "@jupyter-widgets/output",
      "model_module_version": "1.0.0",
      "model_name": "OutputModel",
      "state": {
       "_dom_classes": [],
       "_model_module": "@jupyter-widgets/output",
       "_model_module_version": "1.0.0",
       "_model_name": "OutputModel",
       "_view_count": null,
       "_view_module": "@jupyter-widgets/output",
       "_view_module_version": "1.0.0",
       "_view_name": "OutputView",
       "layout": "IPY_MODEL_d8e855422a434184a5659d05568866b7",
       "msg_id": "",
       "outputs": [
        {
         "data": {
          "text/markdown": "`select_t`",
          "text/plain": "<IPython.core.display.Markdown object>"
         },
         "metadata": {},
         "output_type": "display_data"
        },
        {
         "data": {
          "image/svg+xml": "<svg xmlns=\"http://www.w3.org/2000/svg\" xmlns:xlink=\"http://www.w3.org/1999/xlink\" width=\"233pt\" height=\"422pt\" viewBox=\"0.00 0.00 233.00 422.00\">\n<g id=\"graph0\" class=\"graph\" transform=\"scale(1 1) rotate(0) translate(4 418)\">\n<title>my_graph</title>\n<polygon fill=\"white\" stroke=\"transparent\" points=\"-4,4 -4,-418 229,-418 229,4 -4,4\"/>\n<!-- flag_T_G6 -->\n<g id=\"node1\" class=\"node\">\n<title>flag_T_G6</title>\n<text text-anchor=\"middle\" x=\"27\" y=\"-392.3\" font-family=\"Times,serif\" font-size=\"14.00\">flag_T</text>\n</g>\n<!-- SelectTFirstQuantization -->\n<g id=\"node9\" class=\"node\">\n<title>SelectTFirstQuantization</title>\n<polygon fill=\"none\" stroke=\"black\" points=\"91.5,-291 91.5,-308 134.5,-308 134.5,-291 91.5,-291\"/>\n<text text-anchor=\"start\" x=\"94.5\" y=\"-297\" font-family=\"Times,serif\" font-size=\"10.00\">SEL $T$</text>\n<polygon fill=\"none\" stroke=\"black\" points=\"91.5,-270 91.5,-291 134.5,-291 134.5,-270 91.5,-270\"/>\n<text text-anchor=\"start\" x=\"94.5\" y=\"-276.8\" font-family=\"Times,serif\" font-size=\"14.00\">flag_T</text>\n<polygon fill=\"none\" stroke=\"black\" points=\"91.5,-249 91.5,-270 134.5,-270 134.5,-249 91.5,-249\"/>\n<text text-anchor=\"start\" x=\"101.5\" y=\"-255.8\" font-family=\"Times,serif\" font-size=\"14.00\">plus</text>\n<polygon fill=\"none\" stroke=\"black\" points=\"91.5,-228 91.5,-249 134.5,-249 134.5,-228 91.5,-228\"/>\n<text text-anchor=\"start\" x=\"108\" y=\"-234.8\" font-family=\"Times,serif\" font-size=\"14.00\">w</text>\n<polygon fill=\"none\" stroke=\"black\" points=\"91.5,-207 91.5,-228 134.5,-228 134.5,-207 91.5,-207\"/>\n<text text-anchor=\"start\" x=\"110.5\" y=\"-213.8\" font-family=\"Times,serif\" font-size=\"14.00\">r</text>\n<polygon fill=\"none\" stroke=\"black\" points=\"91.5,-186 91.5,-207 134.5,-207 134.5,-186 91.5,-186\"/>\n<text text-anchor=\"start\" x=\"110\" y=\"-192.8\" font-family=\"Times,serif\" font-size=\"14.00\">s</text>\n<polygon fill=\"none\" stroke=\"black\" points=\"91.5,-165 91.5,-186 134.5,-186 134.5,-165 91.5,-165\"/>\n<text text-anchor=\"start\" x=\"101.5\" y=\"-171.8\" font-family=\"Times,serif\" font-size=\"14.00\">p[0]</text>\n<polygon fill=\"none\" stroke=\"black\" points=\"91.5,-144 91.5,-165 134.5,-165 134.5,-144 91.5,-144\"/>\n<text text-anchor=\"start\" x=\"101.5\" y=\"-150.8\" font-family=\"Times,serif\" font-size=\"14.00\">p[1]</text>\n<polygon fill=\"none\" stroke=\"black\" points=\"91.5,-123 91.5,-144 134.5,-144 134.5,-123 91.5,-123\"/>\n<text text-anchor=\"start\" x=\"101.5\" y=\"-129.8\" font-family=\"Times,serif\" font-size=\"14.00\">p[2]</text>\n</g>\n<!-- flag_T_G6&#45;&gt;SelectTFirstQuantization -->\n<g id=\"edge1\" class=\"edge\">\n<title>flag_T_G6:e-&gt;SelectTFirstQuantization:w</title>\n<path fill=\"none\" stroke=\"black\" d=\"M54,-396C80.11,-396 65.03,-287.2 88.89,-281.25\"/>\n<ellipse fill=\"black\" stroke=\"black\" cx=\"90.01\" cy=\"-281.12\" rx=\"1\" ry=\"1\"/>\n<text text-anchor=\"middle\" x=\"72.5\" y=\"-344\" font-family=\"Times,serif\" font-size=\"10.00\">1</text>\n</g>\n<!-- plus_G21 -->\n<g id=\"node2\" class=\"node\">\n<title>plus_G21</title>\n<text text-anchor=\"middle\" x=\"27\" y=\"-338.3\" font-family=\"Times,serif\" font-size=\"14.00\">plus</text>\n</g>\n<!-- plus_G21&#45;&gt;SelectTFirstQuantization -->\n<g id=\"edge2\" class=\"edge\">\n<title>plus_G21:e-&gt;SelectTFirstQuantization:w</title>\n<path fill=\"none\" stroke=\"black\" d=\"M54,-342C93.2,-342 52.66,-263.17 88.75,-260.09\"/>\n<ellipse fill=\"black\" stroke=\"black\" cx=\"90\" cy=\"-260.04\" rx=\"1\" ry=\"1\"/>\n<text text-anchor=\"middle\" x=\"72.5\" y=\"-327\" font-family=\"Times,serif\" font-size=\"10.00\">1</text>\n</g>\n<!-- w_G3 -->\n<g id=\"node3\" class=\"node\">\n<title>w_G3</title>\n<text text-anchor=\"middle\" x=\"27\" y=\"-284.3\" font-family=\"Times,serif\" font-size=\"14.00\">w</text>\n</g>\n<!-- w_G3&#45;&gt;SelectTFirstQuantization -->\n<g id=\"edge3\" class=\"edge\">\n<title>w_G3:e-&gt;SelectTFirstQuantization:w</title>\n<path fill=\"none\" stroke=\"black\" d=\"M54,-288C80.54,-288 64.64,-241.64 88.86,-239.11\"/>\n<ellipse fill=\"black\" stroke=\"black\" cx=\"90\" cy=\"-239.05\" rx=\"1\" ry=\"1\"/>\n<text text-anchor=\"middle\" x=\"72.5\" y=\"-267\" font-family=\"Times,serif\" font-size=\"10.00\">3</text>\n</g>\n<!-- r_G8 -->\n<g id=\"node4\" class=\"node\">\n<title>r_G8</title>\n<text text-anchor=\"middle\" x=\"27\" y=\"-230.3\" font-family=\"Times,serif\" font-size=\"14.00\">r</text>\n</g>\n<!-- r_G8&#45;&gt;SelectTFirstQuantization -->\n<g id=\"edge4\" class=\"edge\">\n<title>r_G8:e-&gt;SelectTFirstQuantization:w</title>\n<path fill=\"none\" stroke=\"black\" d=\"M54,-234C71.22,-234 72.97,-219.23 88.98,-218.07\"/>\n<ellipse fill=\"black\" stroke=\"black\" cx=\"90\" cy=\"-218.04\" rx=\"1\" ry=\"1\"/>\n<text text-anchor=\"middle\" x=\"72.5\" y=\"-229\" font-family=\"Times,serif\" font-size=\"10.00\">5</text>\n</g>\n<!-- s_G23 -->\n<g id=\"node5\" class=\"node\">\n<title>s_G23</title>\n<text text-anchor=\"middle\" x=\"27\" y=\"-176.3\" font-family=\"Times,serif\" font-size=\"14.00\">s</text>\n</g>\n<!-- s_G23&#45;&gt;SelectTFirstQuantization -->\n<g id=\"edge5\" class=\"edge\">\n<title>s_G23:e-&gt;SelectTFirstQuantization:w</title>\n<path fill=\"none\" stroke=\"black\" d=\"M54,-180C71.22,-180 72.97,-194.77 88.98,-195.93\"/>\n<ellipse fill=\"black\" stroke=\"black\" cx=\"90\" cy=\"-195.96\" rx=\"1\" ry=\"1\"/>\n<text text-anchor=\"middle\" x=\"72.5\" y=\"-191\" font-family=\"Times,serif\" font-size=\"10.00\">5</text>\n</g>\n<!-- p_G4 -->\n<g id=\"node6\" class=\"node\">\n<title>p_G4</title>\n<text text-anchor=\"middle\" x=\"27\" y=\"-122.3\" font-family=\"Times,serif\" font-size=\"14.00\">p[0]</text>\n</g>\n<!-- p_G4&#45;&gt;SelectTFirstQuantization -->\n<g id=\"edge6\" class=\"edge\">\n<title>p_G4:e-&gt;SelectTFirstQuantization:w</title>\n<path fill=\"none\" stroke=\"black\" d=\"M54,-126C80.54,-126 64.64,-172.36 88.86,-174.89\"/>\n<ellipse fill=\"black\" stroke=\"black\" cx=\"90\" cy=\"-174.95\" rx=\"1\" ry=\"1\"/>\n<text text-anchor=\"middle\" x=\"72.5\" y=\"-154\" font-family=\"Times,serif\" font-size=\"10.00\">5</text>\n</g>\n<!-- p_G1 -->\n<g id=\"node7\" class=\"node\">\n<title>p_G1</title>\n<text text-anchor=\"middle\" x=\"27\" y=\"-68.3\" font-family=\"Times,serif\" font-size=\"14.00\">p[1]</text>\n</g>\n<!-- p_G1&#45;&gt;SelectTFirstQuantization -->\n<g id=\"edge7\" class=\"edge\">\n<title>p_G1:e-&gt;SelectTFirstQuantization:w</title>\n<path fill=\"none\" stroke=\"black\" d=\"M54,-72C93.2,-72 52.66,-150.83 88.75,-153.91\"/>\n<ellipse fill=\"black\" stroke=\"black\" cx=\"90\" cy=\"-153.96\" rx=\"1\" ry=\"1\"/>\n<text text-anchor=\"middle\" x=\"72.5\" y=\"-139\" font-family=\"Times,serif\" font-size=\"10.00\">5</text>\n</g>\n<!-- p_G5 -->\n<g id=\"node8\" class=\"node\">\n<title>p_G5</title>\n<text text-anchor=\"middle\" x=\"27\" y=\"-14.3\" font-family=\"Times,serif\" font-size=\"14.00\">p[2]</text>\n</g>\n<!-- p_G5&#45;&gt;SelectTFirstQuantization -->\n<g id=\"edge8\" class=\"edge\">\n<title>p_G5:e-&gt;SelectTFirstQuantization:w</title>\n<path fill=\"none\" stroke=\"black\" d=\"M54,-18C80.11,-18 65.03,-126.8 88.89,-132.75\"/>\n<ellipse fill=\"black\" stroke=\"black\" cx=\"90.01\" cy=\"-132.88\" rx=\"1\" ry=\"1\"/>\n<text text-anchor=\"middle\" x=\"72.5\" y=\"-82\" font-family=\"Times,serif\" font-size=\"10.00\">5</text>\n</g>\n<!-- flag_T_G22 -->\n<g id=\"node10\" class=\"node\">\n<title>flag_T_G22</title>\n<text text-anchor=\"middle\" x=\"198\" y=\"-392.3\" font-family=\"Times,serif\" font-size=\"14.00\">flag_T</text>\n</g>\n<!-- SelectTFirstQuantization&#45;&gt;flag_T_G22 -->\n<g id=\"edge9\" class=\"edge\">\n<title>SelectTFirstQuantization:e-&gt;flag_T_G22:w</title>\n<path fill=\"none\" stroke=\"black\" d=\"M134,-281C160.11,-281 145.03,-389.8 168.89,-395.75\"/>\n<ellipse fill=\"black\" stroke=\"black\" cx=\"170.01\" cy=\"-395.88\" rx=\"1\" ry=\"1\"/>\n<text text-anchor=\"middle\" x=\"152.5\" y=\"-344\" font-family=\"Times,serif\" font-size=\"10.00\">1</text>\n</g>\n<!-- plus_G13 -->\n<g id=\"node11\" class=\"node\">\n<title>plus_G13</title>\n<text text-anchor=\"middle\" x=\"198\" y=\"-338.3\" font-family=\"Times,serif\" font-size=\"14.00\">plus</text>\n</g>\n<!-- SelectTFirstQuantization&#45;&gt;plus_G13 -->\n<g id=\"edge10\" class=\"edge\">\n<title>SelectTFirstQuantization:e-&gt;plus_G13:w</title>\n<path fill=\"none\" stroke=\"black\" d=\"M134,-260C173.2,-260 132.66,-338.83 168.75,-341.91\"/>\n<ellipse fill=\"black\" stroke=\"black\" cx=\"170\" cy=\"-341.96\" rx=\"1\" ry=\"1\"/>\n<text text-anchor=\"middle\" x=\"152.5\" y=\"-327\" font-family=\"Times,serif\" font-size=\"10.00\">1</text>\n</g>\n<!-- w_G19 -->\n<g id=\"node12\" class=\"node\">\n<title>w_G19</title>\n<text text-anchor=\"middle\" x=\"198\" y=\"-284.3\" font-family=\"Times,serif\" font-size=\"14.00\">w</text>\n</g>\n<!-- SelectTFirstQuantization&#45;&gt;w_G19 -->\n<g id=\"edge11\" class=\"edge\">\n<title>SelectTFirstQuantization:e-&gt;w_G19:w</title>\n<path fill=\"none\" stroke=\"black\" d=\"M134,-239C160.54,-239 144.64,-285.36 168.86,-287.89\"/>\n<ellipse fill=\"black\" stroke=\"black\" cx=\"170\" cy=\"-287.95\" rx=\"1\" ry=\"1\"/>\n<text text-anchor=\"middle\" x=\"152.5\" y=\"-267\" font-family=\"Times,serif\" font-size=\"10.00\">3</text>\n</g>\n<!-- r_G2 -->\n<g id=\"node13\" class=\"node\">\n<title>r_G2</title>\n<text text-anchor=\"middle\" x=\"198\" y=\"-230.3\" font-family=\"Times,serif\" font-size=\"14.00\">r</text>\n</g>\n<!-- SelectTFirstQuantization&#45;&gt;r_G2 -->\n<g id=\"edge12\" class=\"edge\">\n<title>SelectTFirstQuantization:e-&gt;r_G2:w</title>\n<path fill=\"none\" stroke=\"black\" d=\"M134,-218C151.22,-218 152.97,-232.77 168.98,-233.93\"/>\n<ellipse fill=\"black\" stroke=\"black\" cx=\"170\" cy=\"-233.96\" rx=\"1\" ry=\"1\"/>\n<text text-anchor=\"middle\" x=\"152.5\" y=\"-229\" font-family=\"Times,serif\" font-size=\"10.00\">5</text>\n</g>\n<!-- s_G15 -->\n<g id=\"node14\" class=\"node\">\n<title>s_G15</title>\n<text text-anchor=\"middle\" x=\"198\" y=\"-176.3\" font-family=\"Times,serif\" font-size=\"14.00\">s</text>\n</g>\n<!-- SelectTFirstQuantization&#45;&gt;s_G15 -->\n<g id=\"edge13\" class=\"edge\">\n<title>SelectTFirstQuantization:e-&gt;s_G15:w</title>\n<path fill=\"none\" stroke=\"black\" d=\"M134,-196C151.22,-196 152.97,-181.23 168.98,-180.07\"/>\n<ellipse fill=\"black\" stroke=\"black\" cx=\"170\" cy=\"-180.04\" rx=\"1\" ry=\"1\"/>\n<text text-anchor=\"middle\" x=\"152.5\" y=\"-191\" font-family=\"Times,serif\" font-size=\"10.00\">5</text>\n</g>\n<!-- p_G10 -->\n<g id=\"node15\" class=\"node\">\n<title>p_G10</title>\n<text text-anchor=\"middle\" x=\"198\" y=\"-122.3\" font-family=\"Times,serif\" font-size=\"14.00\">p[0]</text>\n</g>\n<!-- SelectTFirstQuantization&#45;&gt;p_G10 -->\n<g id=\"edge14\" class=\"edge\">\n<title>SelectTFirstQuantization:e-&gt;p_G10:w</title>\n<path fill=\"none\" stroke=\"black\" d=\"M134,-175C160.54,-175 144.64,-128.64 168.86,-126.11\"/>\n<ellipse fill=\"black\" stroke=\"black\" cx=\"170\" cy=\"-126.05\" rx=\"1\" ry=\"1\"/>\n<text text-anchor=\"middle\" x=\"152.5\" y=\"-154\" font-family=\"Times,serif\" font-size=\"10.00\">5</text>\n</g>\n<!-- p_G7 -->\n<g id=\"node16\" class=\"node\">\n<title>p_G7</title>\n<text text-anchor=\"middle\" x=\"198\" y=\"-68.3\" font-family=\"Times,serif\" font-size=\"14.00\">p[1]</text>\n</g>\n<!-- SelectTFirstQuantization&#45;&gt;p_G7 -->\n<g id=\"edge15\" class=\"edge\">\n<title>SelectTFirstQuantization:e-&gt;p_G7:w</title>\n<path fill=\"none\" stroke=\"black\" d=\"M134,-154C173.2,-154 132.66,-75.17 168.75,-72.09\"/>\n<ellipse fill=\"black\" stroke=\"black\" cx=\"170\" cy=\"-72.04\" rx=\"1\" ry=\"1\"/>\n<text text-anchor=\"middle\" x=\"152.5\" y=\"-139\" font-family=\"Times,serif\" font-size=\"10.00\">5</text>\n</g>\n<!-- p_G17 -->\n<g id=\"node17\" class=\"node\">\n<title>p_G17</title>\n<text text-anchor=\"middle\" x=\"198\" y=\"-14.3\" font-family=\"Times,serif\" font-size=\"14.00\">p[2]</text>\n</g>\n<!-- SelectTFirstQuantization&#45;&gt;p_G17 -->\n<g id=\"edge16\" class=\"edge\">\n<title>SelectTFirstQuantization:e-&gt;p_G17:w</title>\n<path fill=\"none\" stroke=\"black\" d=\"M134,-133C160.11,-133 145.03,-24.2 168.89,-18.25\"/>\n<ellipse fill=\"black\" stroke=\"black\" cx=\"170.01\" cy=\"-18.12\" rx=\"1\" ry=\"1\"/>\n<text text-anchor=\"middle\" x=\"152.5\" y=\"-82\" font-family=\"Times,serif\" font-size=\"10.00\">5</text>\n</g>\n</g>\n</svg>",
          "text/plain": "<IPython.core.display.SVG object>"
         },
         "metadata": {},
         "output_type": "display_data"
        }
       ],
       "tabbable": null,
       "tooltip": null
      }
     },
     "9cb869e9ada647768d4760679e7e5cf1": {
      "model_module": "@jupyter-widgets/controls",
      "model_module_version": "2.0.0",
      "model_name": "HBoxModel",
      "state": {
       "_dom_classes": [],
       "_model_module": "@jupyter-widgets/controls",
       "_model_module_version": "2.0.0",
       "_model_name": "HBoxModel",
       "_view_count": null,
       "_view_module": "@jupyter-widgets/controls",
       "_view_module_version": "2.0.0",
       "_view_name": "HBoxView",
       "box_style": "",
       "children": [
        "IPY_MODEL_4c541e93daee4f5b829608faa540be31"
       ],
       "layout": "IPY_MODEL_68b8c4866f5c41f0a19e0e0e6e305765",
       "tabbable": null,
       "tooltip": null
      }
     },
     "a64a376891374584b5a518270437d9fc": {
      "model_module": "@jupyter-widgets/base",
      "model_module_version": "2.0.0",
      "model_name": "LayoutModel",
      "state": {
       "_model_module": "@jupyter-widgets/base",
       "_model_module_version": "2.0.0",
       "_model_name": "LayoutModel",
       "_view_count": null,
       "_view_module": "@jupyter-widgets/base",
       "_view_module_version": "2.0.0",
       "_view_name": "LayoutView",
       "align_content": null,
       "align_items": null,
       "align_self": null,
       "border_bottom": null,
       "border_left": null,
       "border_right": null,
       "border_top": null,
       "bottom": null,
       "display": null,
       "flex": null,
       "flex_flow": null,
       "grid_area": null,
       "grid_auto_columns": null,
       "grid_auto_flow": null,
       "grid_auto_rows": null,
       "grid_column": null,
       "grid_gap": null,
       "grid_row": null,
       "grid_template_areas": null,
       "grid_template_columns": null,
       "grid_template_rows": null,
       "height": null,
       "justify_content": null,
       "justify_items": null,
       "left": null,
       "margin": null,
       "max_height": null,
       "max_width": null,
       "min_height": null,
       "min_width": null,
       "object_fit": null,
       "object_position": null,
       "order": null,
       "overflow": null,
       "padding": null,
       "right": null,
       "top": null,
       "visibility": null,
       "width": null
      }
     },
     "af2e8d87c6f2448fb0c927b7fdd400ff": {
      "model_module": "@jupyter-widgets/base",
      "model_module_version": "2.0.0",
      "model_name": "LayoutModel",
      "state": {
       "_model_module": "@jupyter-widgets/base",
       "_model_module_version": "2.0.0",
       "_model_name": "LayoutModel",
       "_view_count": null,
       "_view_module": "@jupyter-widgets/base",
       "_view_module_version": "2.0.0",
       "_view_name": "LayoutView",
       "align_content": null,
       "align_items": null,
       "align_self": null,
       "border_bottom": null,
       "border_left": null,
       "border_right": null,
       "border_top": null,
       "bottom": null,
       "display": null,
       "flex": null,
       "flex_flow": null,
       "grid_area": null,
       "grid_auto_columns": null,
       "grid_auto_flow": null,
       "grid_auto_rows": null,
       "grid_column": null,
       "grid_gap": null,
       "grid_row": null,
       "grid_template_areas": null,
       "grid_template_columns": null,
       "grid_template_rows": null,
       "height": null,
       "justify_content": null,
       "justify_items": null,
       "left": null,
       "margin": null,
       "max_height": null,
       "max_width": null,
       "min_height": null,
       "min_width": null,
       "object_fit": null,
       "object_position": null,
       "order": null,
       "overflow": null,
       "padding": null,
       "right": null,
       "top": null,
       "visibility": null,
       "width": null
      }
     },
     "b449bcda431d406cb0818c50a321df73": {
      "model_module": "@jupyter-widgets/controls",
      "model_module_version": "2.0.0",
      "model_name": "HBoxModel",
      "state": {
       "_dom_classes": [],
       "_model_module": "@jupyter-widgets/controls",
       "_model_module_version": "2.0.0",
       "_model_name": "HBoxModel",
       "_view_count": null,
       "_view_module": "@jupyter-widgets/controls",
       "_view_module_version": "2.0.0",
       "_view_name": "HBoxView",
       "box_style": "",
       "children": [
        "IPY_MODEL_6cbebaf0693341e9b5b2001de479ea0f"
       ],
       "layout": "IPY_MODEL_bfd6299b6bbd44f68a51982b0f2e9a19",
       "tabbable": null,
       "tooltip": null
      }
     },
     "bfd6299b6bbd44f68a51982b0f2e9a19": {
      "model_module": "@jupyter-widgets/base",
      "model_module_version": "2.0.0",
      "model_name": "LayoutModel",
      "state": {
       "_model_module": "@jupyter-widgets/base",
       "_model_module_version": "2.0.0",
       "_model_name": "LayoutModel",
       "_view_count": null,
       "_view_module": "@jupyter-widgets/base",
       "_view_module_version": "2.0.0",
       "_view_name": "LayoutView",
       "align_content": null,
       "align_items": null,
       "align_self": null,
       "border_bottom": null,
       "border_left": null,
       "border_right": null,
       "border_top": null,
       "bottom": null,
       "display": null,
       "flex": null,
       "flex_flow": null,
       "grid_area": null,
       "grid_auto_columns": null,
       "grid_auto_flow": null,
       "grid_auto_rows": null,
       "grid_column": null,
       "grid_gap": null,
       "grid_row": null,
       "grid_template_areas": null,
       "grid_template_columns": null,
       "grid_template_rows": null,
       "height": null,
       "justify_content": null,
       "justify_items": null,
       "left": null,
       "margin": null,
       "max_height": null,
       "max_width": null,
       "min_height": null,
       "min_width": null,
       "object_fit": null,
       "object_position": null,
       "order": null,
       "overflow": null,
       "padding": null,
       "right": null,
       "top": null,
       "visibility": null,
       "width": null
      }
     },
     "cef70d93601043b7be68337ccb02872b": {
      "model_module": "@jupyter-widgets/controls",
      "model_module_version": "2.0.0",
      "model_name": "HBoxModel",
      "state": {
       "_dom_classes": [],
       "_model_module": "@jupyter-widgets/controls",
       "_model_module_version": "2.0.0",
       "_model_name": "HBoxModel",
       "_view_count": null,
       "_view_module": "@jupyter-widgets/controls",
       "_view_module_version": "2.0.0",
       "_view_name": "HBoxView",
       "box_style": "",
       "children": [
        "IPY_MODEL_47ac0abc332b4bc5bc8d07f75593e676"
       ],
       "layout": "IPY_MODEL_15306ba038794689b0fac4e32f0b129c",
       "tabbable": null,
       "tooltip": null
      }
     },
     "d8e855422a434184a5659d05568866b7": {
      "model_module": "@jupyter-widgets/base",
      "model_module_version": "2.0.0",
      "model_name": "LayoutModel",
      "state": {
       "_model_module": "@jupyter-widgets/base",
       "_model_module_version": "2.0.0",
       "_model_name": "LayoutModel",
       "_view_count": null,
       "_view_module": "@jupyter-widgets/base",
       "_view_module_version": "2.0.0",
       "_view_name": "LayoutView",
       "align_content": null,
       "align_items": null,
       "align_self": null,
       "border_bottom": null,
       "border_left": null,
       "border_right": null,
       "border_top": null,
       "bottom": null,
       "display": null,
       "flex": null,
       "flex_flow": null,
       "grid_area": null,
       "grid_auto_columns": null,
       "grid_auto_flow": null,
       "grid_auto_rows": null,
       "grid_column": null,
       "grid_gap": null,
       "grid_row": null,
       "grid_template_areas": null,
       "grid_template_columns": null,
       "grid_template_rows": null,
       "height": null,
       "justify_content": null,
       "justify_items": null,
       "left": null,
       "margin": null,
       "max_height": null,
       "max_width": null,
       "min_height": null,
       "min_width": null,
       "object_fit": null,
       "object_position": null,
       "order": null,
       "overflow": null,
       "padding": null,
       "right": null,
       "top": null,
       "visibility": null,
       "width": null
      }
     },
     "e5343b21a0b7415a94aa7cbe77399aaf": {
      "model_module": "@jupyter-widgets/base",
      "model_module_version": "2.0.0",
      "model_name": "LayoutModel",
      "state": {
       "_model_module": "@jupyter-widgets/base",
       "_model_module_version": "2.0.0",
       "_model_name": "LayoutModel",
       "_view_count": null,
       "_view_module": "@jupyter-widgets/base",
       "_view_module_version": "2.0.0",
       "_view_name": "LayoutView",
       "align_content": null,
       "align_items": null,
       "align_self": null,
       "border_bottom": null,
       "border_left": null,
       "border_right": null,
       "border_top": null,
       "bottom": null,
       "display": null,
       "flex": null,
       "flex_flow": null,
       "grid_area": null,
       "grid_auto_columns": null,
       "grid_auto_flow": null,
       "grid_auto_rows": null,
       "grid_column": null,
       "grid_gap": null,
       "grid_row": null,
       "grid_template_areas": null,
       "grid_template_columns": null,
       "grid_template_rows": null,
       "height": null,
       "justify_content": null,
       "justify_items": null,
       "left": null,
       "margin": null,
       "max_height": null,
       "max_width": null,
       "min_height": null,
       "min_width": null,
       "object_fit": null,
       "object_position": null,
       "order": null,
       "overflow": null,
       "padding": null,
       "right": null,
       "top": null,
       "visibility": null,
       "width": null
      }
     },
     "e9b1b94deba64c8997dca5a84271c703": {
      "model_module": "@jupyter-widgets/base",
      "model_module_version": "2.0.0",
      "model_name": "LayoutModel",
      "state": {
       "_model_module": "@jupyter-widgets/base",
       "_model_module_version": "2.0.0",
       "_model_name": "LayoutModel",
       "_view_count": null,
       "_view_module": "@jupyter-widgets/base",
       "_view_module_version": "2.0.0",
       "_view_name": "LayoutView",
       "align_content": null,
       "align_items": null,
       "align_self": null,
       "border_bottom": null,
       "border_left": null,
       "border_right": null,
       "border_top": null,
       "bottom": null,
       "display": null,
       "flex": null,
       "flex_flow": null,
       "grid_area": null,
       "grid_auto_columns": null,
       "grid_auto_flow": null,
       "grid_auto_rows": null,
       "grid_column": null,
       "grid_gap": null,
       "grid_row": null,
       "grid_template_areas": null,
       "grid_template_columns": null,
       "grid_template_rows": null,
       "height": null,
       "justify_content": null,
       "justify_items": null,
       "left": null,
       "margin": null,
       "max_height": null,
       "max_width": null,
       "min_height": null,
       "min_width": null,
       "object_fit": null,
       "object_position": null,
       "order": null,
       "overflow": null,
       "padding": null,
       "right": null,
       "top": null,
       "visibility": null,
       "width": null
      }
     }
    },
    "version_major": 2,
    "version_minor": 0
   }
  }
 },
 "nbformat": 4,
 "nbformat_minor": 5
}
