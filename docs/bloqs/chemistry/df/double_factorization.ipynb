{
 "cells": [
  {
   "cell_type": "markdown",
   "id": "bf3b37d4",
   "metadata": {
    "cq.autogen": "title_cell"
   },
   "source": [
    "# Double Factorization\n",
    "\n",
    "Bloqs for the double-factorized chemistry Hamiltonian in second quantization.\n",
    "\n",
    "Recall that for the single factorized Hamiltonian we have\n",
    "$$\n",
    "    H = \\sum_{pq}T'_{pq} a_p^\\dagger a_q + \\frac{1}{2} \\sum_l \\left(\\sum_{pq}\n",
    "W_{pq}^{(l)} a_p^\\dagger a_q\\right)^2.\n",
    "$$\n",
    "One arrives at the double factorized (DF) Hamiltonian by further factorizing the\n",
    "$W_{pq}^{(l)}$ terms as\n",
    "$$\n",
    "    W^{(l)}_{pq} = \\sum_{k} U^{(l)}_{pk} f_k^{(l)} U^{(l)*}_{qk},\n",
    "$$\n",
    "so that\n",
    "$$\n",
    "    H = \\sum_{pq}T'_{pq} a_p^\\dagger a_q + \\frac{1}{2} \\sum_l U^{(l)}\\left(\\sum_{k}^{\\Xi^{(l)}}\n",
    "        f_k^{(l)} n_k\\right)^2 U^{(l)\\dagger}\n",
    "$$\n",
    "where $\\Xi^{(l)} $ is the rank of second factorization."
   ]
  },
  {
   "cell_type": "code",
   "execution_count": 1,
   "id": "a326aac6",
   "metadata": {
    "cq.autogen": "top_imports"
   },
   "outputs": [],
   "source": [
    "from qualtran import Bloq, CompositeBloq, BloqBuilder, Signature, Register\n",
    "from qualtran import QBit, QInt, QUInt, QAny\n",
    "from qualtran.drawing import show_bloq, show_call_graph, show_counts_sigma\n",
    "from typing import *\n",
    "import numpy as np\n",
    "import sympy\n",
    "import cirq"
   ]
  },
  {
   "cell_type": "markdown",
   "id": "18073b90",
   "metadata": {
    "cq.autogen": "DoubleFactorizationOneBody.bloq_doc.md"
   },
   "source": [
    "## `DoubleFactorizationOneBody`\n",
    "Block encoding of double factorization one-body Hamiltonian.\n",
    "\n",
    "Implements inner \"half\" of Fig. 15 in the reference. This block encoding is\n",
    "applied twice (with a reflection around the inner state preparation\n",
    "registers) to implement (roughly) the square of this one-body operator.\n",
    "\n",
    "#### Parameters\n",
    " - `num_aux`: Dimension of auxiliary index for double factorized Hamiltonian. Call L in Ref[1].\n",
    " - `num_spin_orb`: The number of spin orbitals. Typically called $N$.\n",
    " - `num_eig`: The total number of eigenvalues.\n",
    " - `num_bits_state_prep`: The number of bits of precision for coherent alias sampling. Called $\\aleph$ in the reference.\n",
    " - `num_bits_rot_aa_outer`: Number of bits of precision for single qubit rotation for amplitude amplification. Called $b_r$ in the reference.\n",
    " - `num_bits_rot`: Number of bits of precision for rotations for amplitude amplification in uniform state preparation. Called $\\beth$ in Ref[1]. \n",
    "\n",
    "#### Registers\n",
    " - `succ_l`: control for success for outer state preparation.\n",
    " - `succ_p`: control for success for inner state preparation, this is reused in second application.\n",
    " - `l_ne_zero`: control for one-body part of Hamiltonian.\n",
    " - `xi`: data register for number storing $\\Xi^{(l)}$.\n",
    " - `p`: Register for inner state preparation.\n",
    " - `rot_aa`: A qubit to be rotated for amplitude amplification.\n",
    " - `spin`: A single qubit register for spin superpositions.\n",
    " - `xi`: Register for rank parameter.\n",
    " - `offset`: Offset for p register.\n",
    " - `rot`: Amplitude amplification angles for inner preparations.\n",
    " - `rotations`: Rotations for basis rotations.\n",
    " - `sys`: The system register. \n",
    "\n",
    "Refererences:\n",
    "    [Even More Efficient Quantum Computations of Chemistry Through Tensor\n",
    "        Hypercontraction](https://arxiv.org/abs/2011.03494)"
   ]
  },
  {
   "cell_type": "code",
   "execution_count": 2,
   "id": "47e59621",
   "metadata": {
    "cq.autogen": "DoubleFactorizationOneBody.bloq_doc.py"
   },
   "outputs": [],
   "source": [
    "from qualtran.bloqs.chemistry.df.double_factorization import DoubleFactorizationOneBody"
   ]
  },
  {
   "cell_type": "markdown",
   "id": "e369745c",
   "metadata": {
    "cq.autogen": "DoubleFactorizationOneBody.example_instances.md"
   },
   "source": [
    "### Example Instances"
   ]
  },
  {
   "cell_type": "code",
   "execution_count": 3,
   "id": "089acc0a",
   "metadata": {
    "cq.autogen": "DoubleFactorizationOneBody.df_one_body"
   },
   "outputs": [],
   "source": [
    "num_bits_state_prep = 12\n",
    "num_bits_rot = 7\n",
    "num_spin_orb = 10\n",
    "num_aux = 50\n",
    "num_eig = num_aux * (num_spin_orb // 2)\n",
    "df_one_body = DoubleFactorizationOneBody(\n",
    "    num_aux=num_aux,\n",
    "    num_spin_orb=num_spin_orb,\n",
    "    num_eig=num_eig,\n",
    "    num_bits_state_prep=num_bits_state_prep,\n",
    "    num_bits_rot=num_bits_rot,\n",
    ")"
   ]
  },
  {
   "cell_type": "markdown",
   "id": "e0a9ff54",
   "metadata": {
    "cq.autogen": "DoubleFactorizationOneBody.graphical_signature.md"
   },
   "source": [
    "#### Graphical Signature"
   ]
  },
  {
   "cell_type": "code",
   "execution_count": 4,
   "id": "27b7abca",
   "metadata": {
    "cq.autogen": "DoubleFactorizationOneBody.graphical_signature.py"
   },
   "outputs": [
    {
     "data": {
      "application/vnd.jupyter.widget-view+json": {
       "model_id": "1b6ee32d16b64113b6cb1607013b5627",
       "version_major": 2,
       "version_minor": 0
      },
      "text/plain": [
       "HBox(children=(Output(outputs=({'output_type': 'display_data', 'data': {'text/plain': '<IPython.core.display.M…"
      ]
     },
     "metadata": {},
     "output_type": "display_data"
    }
   ],
   "source": [
    "from qualtran.drawing import show_bloqs\n",
    "show_bloqs([df_one_body],\n",
    "           ['`df_one_body`'])"
   ]
  },
  {
   "cell_type": "markdown",
   "id": "30c20acc",
   "metadata": {
    "cq.autogen": "DoubleFactorizationOneBody.call_graph.md"
   },
   "source": [
    "### Call Graph"
   ]
  },
  {
   "cell_type": "code",
   "execution_count": 5,
   "id": "9312ca7a",
   "metadata": {
    "cq.autogen": "DoubleFactorizationOneBody.call_graph.py"
   },
   "outputs": [
    {
     "data": {
      "image/svg+xml": [
       "<svg xmlns=\"http://www.w3.org/2000/svg\" xmlns:xlink=\"http://www.w3.org/1999/xlink\" width=\"1495pt\" height=\"131pt\" viewBox=\"0.00 0.00 1495.00 131.00\">\n",
       "<g id=\"graph0\" class=\"graph\" transform=\"scale(1 1) rotate(0) translate(4 127)\">\n",
       "<title>counts</title>\n",
       "<polygon fill=\"white\" stroke=\"transparent\" points=\"-4,4 -4,-127 1491,-127 1491,4 -4,4\"/>\n",
       "<!-- b0 -->\n",
       "<g id=\"node1\" class=\"node\">\n",
       "<title>b0</title>\n",
       "<polygon fill=\"none\" stroke=\"black\" points=\"1130,-123 615,-123 615,-87 1130,-87 1130,-123\"/>\n",
       "<text text-anchor=\"start\" x=\"851.5\" y=\"-106.8\" font-family=\"Times,serif\" font-size=\"14.00\">B[H_1]</text>\n",
       "<text text-anchor=\"start\" x=\"623\" y=\"-96\" font-family=\"monospace\" font-size=\"10.00\">num_aux=50, num_spin_orb=10, num_eig=250, num_bits_state_prep=12, [2 addtl fields].</text>\n",
       "</g>\n",
       "<!-- b1 -->\n",
       "<g id=\"node2\" class=\"node\">\n",
       "<title>b1</title>\n",
       "<polygon fill=\"none\" stroke=\"black\" points=\"353,-36 0,-36 0,0 353,0 353,-36\"/>\n",
       "<text text-anchor=\"start\" x=\"150.5\" y=\"-19.8\" font-family=\"Times,serif\" font-size=\"14.00\">Rotations</text>\n",
       "<text text-anchor=\"start\" x=\"8\" y=\"-9\" font-family=\"monospace\" font-size=\"10.00\">num_aux=50, num_spin_orb=10, num_eig=250, num_bits_rot=7</text>\n",
       "</g>\n",
       "<!-- b0&#45;&gt;b1 -->\n",
       "<g id=\"edge1\" class=\"edge\">\n",
       "<title>b0-&gt;b1</title>\n",
       "<path fill=\"none\" stroke=\"black\" d=\"M684.54,-86.98C631.15,-81.71 572.99,-75.55 519.5,-69 444.5,-59.82 360.57,-47.62 294.5,-37.57\"/>\n",
       "<polygon fill=\"black\" stroke=\"black\" points=\"294.88,-34.08 284.47,-36.04 293.82,-41 294.88,-34.08\"/>\n",
       "<text text-anchor=\"middle\" x=\"523\" y=\"-57.8\" font-family=\"Times,serif\" font-size=\"14.00\">1</text>\n",
       "</g>\n",
       "<!-- b2 -->\n",
       "<g id=\"node3\" class=\"node\">\n",
       "<title>b2</title>\n",
       "<polygon fill=\"none\" stroke=\"black\" points=\"442,-36 371,-36 371,0 442,0 442,-36\"/>\n",
       "<text text-anchor=\"start\" x=\"386.5\" y=\"-19.8\" font-family=\"Times,serif\" font-size=\"14.00\">CSwap</text>\n",
       "<text text-anchor=\"start\" x=\"379\" y=\"-9\" font-family=\"monospace\" font-size=\"10.00\">bitsize=5</text>\n",
       "</g>\n",
       "<!-- b0&#45;&gt;b2 -->\n",
       "<g id=\"edge2\" class=\"edge\">\n",
       "<title>b0-&gt;b2</title>\n",
       "<path fill=\"none\" stroke=\"black\" d=\"M718.01,-86.98C640.18,-76.5 544.51,-60.72 452.11,-36.18\"/>\n",
       "<polygon fill=\"black\" stroke=\"black\" points=\"452.88,-32.76 442.31,-33.54 451.06,-39.52 452.88,-32.76\"/>\n",
       "<text text-anchor=\"middle\" x=\"604\" y=\"-57.8\" font-family=\"Times,serif\" font-size=\"14.00\">2</text>\n",
       "</g>\n",
       "<!-- b3 -->\n",
       "<g id=\"node4\" class=\"node\">\n",
       "<title>b3</title>\n",
       "<polygon fill=\"none\" stroke=\"black\" points=\"597,-36 460,-36 460,0 597,0 597,-36\"/>\n",
       "<text text-anchor=\"start\" x=\"504.5\" y=\"-19.8\" font-family=\"Times,serif\" font-size=\"14.00\">In-Prep†</text>\n",
       "<text text-anchor=\"start\" x=\"468\" y=\"-9\" font-family=\"monospace\" font-size=\"10.00\">subbloq=InnerPre ...</text>\n",
       "</g>\n",
       "<!-- b0&#45;&gt;b3 -->\n",
       "<g id=\"edge3\" class=\"edge\">\n",
       "<title>b0-&gt;b3</title>\n",
       "<path fill=\"none\" stroke=\"black\" d=\"M803.3,-86.9C746.55,-72.88 666.21,-53.03 607.05,-38.41\"/>\n",
       "<polygon fill=\"black\" stroke=\"black\" points=\"607.55,-34.93 597,-35.93 605.87,-41.72 607.55,-34.93\"/>\n",
       "<text text-anchor=\"middle\" x=\"725\" y=\"-57.8\" font-family=\"Times,serif\" font-size=\"14.00\">1</text>\n",
       "</g>\n",
       "<!-- b4 -->\n",
       "<g id=\"node5\" class=\"node\">\n",
       "<title>b4</title>\n",
       "<polygon fill=\"none\" stroke=\"black\" points=\"1130,-36 615,-36 615,0 1130,0 1130,-36\"/>\n",
       "<text text-anchor=\"start\" x=\"852\" y=\"-19.8\" font-family=\"Times,serif\" font-size=\"14.00\">In-Prep</text>\n",
       "<text text-anchor=\"start\" x=\"623\" y=\"-9\" font-family=\"monospace\" font-size=\"10.00\">num_aux=50, num_spin_orb=10, num_eig=250, num_bits_rot_aa=8, num_bits_state_prep=12</text>\n",
       "</g>\n",
       "<!-- b0&#45;&gt;b4 -->\n",
       "<g id=\"edge4\" class=\"edge\">\n",
       "<title>b0-&gt;b4</title>\n",
       "<path fill=\"none\" stroke=\"black\" d=\"M872.5,-86.8C872.5,-75.16 872.5,-59.55 872.5,-46.24\"/>\n",
       "<polygon fill=\"black\" stroke=\"black\" points=\"876,-46.18 872.5,-36.18 869,-46.18 876,-46.18\"/>\n",
       "<text text-anchor=\"middle\" x=\"876\" y=\"-57.8\" font-family=\"Times,serif\" font-size=\"14.00\">1</text>\n",
       "</g>\n",
       "<!-- b5 -->\n",
       "<g id=\"node6\" class=\"node\">\n",
       "<title>b5</title>\n",
       "<polygon fill=\"none\" stroke=\"black\" points=\"1203,-36 1148,-36 1148,0 1203,0 1203,-36\"/>\n",
       "<text text-anchor=\"start\" x=\"1156\" y=\"-14.3\" font-family=\"Times,serif\" font-size=\"14.00\">Toffoli</text>\n",
       "</g>\n",
       "<!-- b0&#45;&gt;b5 -->\n",
       "<g id=\"edge5\" class=\"edge\">\n",
       "<title>b0-&gt;b5</title>\n",
       "<path fill=\"none\" stroke=\"black\" d=\"M954.84,-86.99C1007.97,-75.03 1078.18,-57.37 1138.5,-36 1138.6,-35.97 1138.69,-35.93 1138.79,-35.9\"/>\n",
       "<polygon fill=\"black\" stroke=\"black\" points=\"1139.8,-39.26 1147.84,-32.36 1137.25,-32.74 1139.8,-39.26\"/>\n",
       "<text text-anchor=\"middle\" x=\"1085\" y=\"-57.8\" font-family=\"Times,serif\" font-size=\"14.00\">1</text>\n",
       "</g>\n",
       "<!-- b6 -->\n",
       "<g id=\"node7\" class=\"node\">\n",
       "<title>b6</title>\n",
       "<polygon fill=\"none\" stroke=\"black\" points=\"1331.5,-36 1221.5,-36 1221.5,0 1331.5,0 1331.5,-36\"/>\n",
       "<text text-anchor=\"start\" x=\"1229.5\" y=\"-19.8\" font-family=\"Times,serif\" font-size=\"14.00\">ArbitraryClifford</text>\n",
       "<text text-anchor=\"start\" x=\"1267\" y=\"-9\" font-family=\"monospace\" font-size=\"10.00\">n=1</text>\n",
       "</g>\n",
       "<!-- b0&#45;&gt;b6 -->\n",
       "<g id=\"edge6\" class=\"edge\">\n",
       "<title>b0-&gt;b6</title>\n",
       "<path fill=\"none\" stroke=\"black\" d=\"M994.54,-86.98C1026.54,-81.86 1060.93,-75.78 1092.5,-69 1132.44,-60.42 1176.63,-48.5 1211.69,-38.44\"/>\n",
       "<polygon fill=\"black\" stroke=\"black\" points=\"1212.69,-41.8 1221.32,-35.66 1210.74,-35.07 1212.69,-41.8\"/>\n",
       "<text text-anchor=\"middle\" x=\"1158\" y=\"-57.8\" font-family=\"Times,serif\" font-size=\"14.00\">1</text>\n",
       "</g>\n",
       "<!-- b7 -->\n",
       "<g id=\"node8\" class=\"node\">\n",
       "<title>b7</title>\n",
       "<polygon fill=\"none\" stroke=\"black\" points=\"1487,-36 1350,-36 1350,0 1487,0 1487,-36\"/>\n",
       "<text text-anchor=\"start\" x=\"1389\" y=\"-19.8\" font-family=\"Times,serif\" font-size=\"14.00\">Rotations†</text>\n",
       "<text text-anchor=\"start\" x=\"1358\" y=\"-9\" font-family=\"monospace\" font-size=\"10.00\">subbloq=ProgRotG ...</text>\n",
       "</g>\n",
       "<!-- b0&#45;&gt;b7 -->\n",
       "<g id=\"edge7\" class=\"edge\">\n",
       "<title>b0-&gt;b7</title>\n",
       "<path fill=\"none\" stroke=\"black\" d=\"M1031.67,-86.97C1075.15,-81.78 1122.21,-75.66 1165.5,-69 1240.67,-57.44 1261.35,-52.18 1339.76,-36.13\"/>\n",
       "<polygon fill=\"black\" stroke=\"black\" points=\"1340.52,-39.55 1349.62,-34.12 1339.12,-32.69 1340.52,-39.55\"/>\n",
       "<text text-anchor=\"middle\" x=\"1254\" y=\"-57.8\" font-family=\"Times,serif\" font-size=\"14.00\">1</text>\n",
       "</g>\n",
       "</g>\n",
       "</svg>"
      ],
      "text/plain": [
       "<IPython.core.display.SVG object>"
      ]
     },
     "metadata": {},
     "output_type": "display_data"
    },
    {
     "data": {
      "text/markdown": [
       "#### Counts totals:\n",
       " - `Adjoint(subbloq=InnerPrepareDoubleFactorization)`: 1\n",
       " - `Adjoint(subbloq=ProgRotGateArray)`: 1\n",
       " - `ArbitraryClifford(n=1)`: 1\n",
       " - `CSwap`: 2\n",
       " - `InnerPrepareDoubleFactorization`: 1\n",
       " - `ProgRotGateArray`: 1\n",
       " - `Toffoli`: 1"
      ],
      "text/plain": [
       "<IPython.core.display.Markdown object>"
      ]
     },
     "metadata": {},
     "output_type": "display_data"
    }
   ],
   "source": [
    "from qualtran.resource_counting.generalizers import ignore_split_join\n",
    "df_one_body_g, df_one_body_sigma = df_one_body.call_graph(max_depth=1, generalizer=ignore_split_join)\n",
    "show_call_graph(df_one_body_g)\n",
    "show_counts_sigma(df_one_body_sigma)"
   ]
  },
  {
   "cell_type": "markdown",
   "id": "e763d309",
   "metadata": {
    "cq.autogen": "DoubleFactorizationBlockEncoding.bloq_doc.md"
   },
   "source": [
    "## `DoubleFactorizationBlockEncoding`\n",
    "Block encoding of double factorization Hamiltonian.\n",
    "\n",
    "Implements Fig. 15 in the reference.\n",
    "\n",
    "#### Parameters\n",
    " - `num_spin_orb`: The number of spin orbitals. Typically called $N$.\n",
    " - `num_aux`: Dimension of auxiliary index for double factorized Hamiltonian. Typically called $L$.\n",
    " - `num_eig`: The total number of eigenvalues.\n",
    " - `num_bits_state_prep`: The number of bits of precision for coherent alias sampling. Called $\\aleph$ in Ref[1]. We assume this is the same for both outer and inner state preparations.\n",
    " - `num_bits_rot`: Number of bits of precision for rotations amplification in uniform state preparation. Called $\\beth$ in Ref[1].\n",
    " - `num_bits_rot_aa_outer`: Number of bits of precision for single qubit rotation for amplitude amplification in outer state preparation. Called $b_r$ in the reference. Keeping inner and outer separate for consistency with openfermion.\n",
    " - `num_bits_rot_aa_inner`: Number of bits of precision for single qubit rotation for amplitude amplification in inner state preparation. Called $b_r$ in the reference. \n",
    "\n",
    "#### Registers\n",
    " - `ctrl`: Registers used to control application of Hamiltonian terms / preparation.\n",
    " - `l`: Register for outer state preparation.\n",
    " - `p`: Register for inner state preparation.\n",
    " - `rot_aa`: A qubit to be rotated for amplitude amplification.\n",
    " - `spin`: A single qubit register for spin superpositions.\n",
    " - `xi`: Register for rank parameter.\n",
    " - `offset`: Offset for p register.\n",
    " - `rot`: Amplitude amplification angles for inner preparations.\n",
    " - `rotations`: Rotations for basis rotations.\n",
    " - `sys`: The system register. \n",
    "\n",
    "Refererences:\n",
    "    [Even More Efficient Quantum Computations of Chemistry Through Tensor\n",
    "        hypercontraction](https://arxiv.org/abs/2011.03494)"
   ]
  },
  {
   "cell_type": "code",
   "execution_count": 6,
   "id": "bae3b5ae",
   "metadata": {
    "cq.autogen": "DoubleFactorizationBlockEncoding.bloq_doc.py"
   },
   "outputs": [],
   "source": [
    "from qualtran.bloqs.chemistry.df.double_factorization import DoubleFactorizationBlockEncoding"
   ]
  },
  {
   "cell_type": "markdown",
   "id": "58a9f13e",
   "metadata": {
    "cq.autogen": "DoubleFactorizationBlockEncoding.example_instances.md"
   },
   "source": [
    "### Example Instances"
   ]
  },
  {
   "cell_type": "code",
   "execution_count": 7,
   "id": "156d95bb",
   "metadata": {
    "cq.autogen": "DoubleFactorizationBlockEncoding.df_block_encoding"
   },
   "outputs": [],
   "source": [
    "num_spin_orb = 10\n",
    "num_aux = 50\n",
    "num_eig = num_aux * (num_spin_orb // 2)\n",
    "num_bits_state_prep = 12\n",
    "num_bits_rot = 7\n",
    "df_block_encoding = DoubleFactorizationBlockEncoding(\n",
    "    num_spin_orb=num_spin_orb,\n",
    "    num_aux=num_aux,\n",
    "    num_eig=num_eig,\n",
    "    num_bits_state_prep=num_bits_state_prep,\n",
    "    num_bits_rot_aa_outer=1,\n",
    "    num_bits_rot_aa_inner=7,\n",
    "    num_bits_rot=num_bits_rot,\n",
    ")"
   ]
  },
  {
   "cell_type": "markdown",
   "id": "93d8dd08",
   "metadata": {
    "cq.autogen": "DoubleFactorizationBlockEncoding.graphical_signature.md"
   },
   "source": [
    "#### Graphical Signature"
   ]
  },
  {
   "cell_type": "code",
   "execution_count": 8,
   "id": "85a308fa",
   "metadata": {
    "cq.autogen": "DoubleFactorizationBlockEncoding.graphical_signature.py"
   },
   "outputs": [
    {
     "data": {
      "application/vnd.jupyter.widget-view+json": {
       "model_id": "be15e2ba23b4485db4c8d1360f413dec",
       "version_major": 2,
       "version_minor": 0
      },
      "text/plain": [
       "HBox(children=(Output(outputs=({'output_type': 'display_data', 'data': {'text/plain': '<IPython.core.display.M…"
      ]
     },
     "metadata": {},
     "output_type": "display_data"
    }
   ],
   "source": [
    "from qualtran.drawing import show_bloqs\n",
    "show_bloqs([df_block_encoding],\n",
    "           ['`df_block_encoding`'])"
   ]
  },
  {
   "cell_type": "code",
   "execution_count": 9,
   "id": "134b077a",
   "metadata": {},
   "outputs": [
    {
     "data": {
      "image/png": "[encoded data removed]",
      "text/plain": [
       "<Figure size 1400x1000 with 1 Axes>"
      ]
     },
     "metadata": {},
     "output_type": "display_data"
    }
   ],
   "source": [
    "from qualtran.drawing import get_musical_score_data, draw_musical_score\n",
    "msd = get_musical_score_data(df_block_encoding.decompose_bloq())\n",
    "fig, ax = draw_musical_score(msd)\n",
    "fig.set_size_inches(14, 10)"
   ]
  },
  {
   "cell_type": "markdown",
   "id": "1a7b8b68",
   "metadata": {
    "cq.autogen": "DoubleFactorizationBlockEncoding.call_graph.md"
   },
   "source": [
    "### Call Graph"
   ]
  },
  {
   "cell_type": "code",
   "execution_count": 10,
   "id": "2ebe7ba9",
   "metadata": {
    "cq.autogen": "DoubleFactorizationBlockEncoding.call_graph.py"
   },
   "outputs": [
    {
     "data": {
      "image/svg+xml": [
       "<svg xmlns=\"http://www.w3.org/2000/svg\" xmlns:xlink=\"http://www.w3.org/1999/xlink\" width=\"2018pt\" height=\"131pt\" viewBox=\"0.00 0.00 2018.00 131.00\">\n",
       "<g id=\"graph0\" class=\"graph\" transform=\"scale(1 1) rotate(0) translate(4 127)\">\n",
       "<title>counts</title>\n",
       "<polygon fill=\"white\" stroke=\"transparent\" points=\"-4,4 -4,-127 2014,-127 2014,4 -4,4\"/>\n",
       "<!-- b0 -->\n",
       "<g id=\"node1\" class=\"node\">\n",
       "<title>b0</title>\n",
       "<polygon fill=\"none\" stroke=\"black\" points=\"1379,-123 864,-123 864,-87 1379,-87 1379,-123\"/>\n",
       "<text text-anchor=\"start\" x=\"1023.5\" y=\"-106.8\" font-family=\"Times,serif\" font-size=\"14.00\">DoubleFactorizationBlockEncoding</text>\n",
       "<text text-anchor=\"start\" x=\"872\" y=\"-96\" font-family=\"monospace\" font-size=\"10.00\">num_spin_orb=10, num_aux=50, num_eig=250, num_bits_state_prep=12, [3 addtl fields].</text>\n",
       "</g>\n",
       "<!-- b1 -->\n",
       "<g id=\"node2\" class=\"node\">\n",
       "<title>b1</title>\n",
       "<polygon fill=\"none\" stroke=\"black\" points=\"515,-36 0,-36 0,0 515,0 515,-36\"/>\n",
       "<text text-anchor=\"start\" x=\"236.5\" y=\"-19.8\" font-family=\"Times,serif\" font-size=\"14.00\">B[H_1]</text>\n",
       "<text text-anchor=\"start\" x=\"8\" y=\"-9\" font-family=\"monospace\" font-size=\"10.00\">num_aux=50, num_spin_orb=10, num_eig=250, num_bits_state_prep=12, [2 addtl fields].</text>\n",
       "</g>\n",
       "<!-- b0&#45;&gt;b1 -->\n",
       "<g id=\"edge1\" class=\"edge\">\n",
       "<title>b0-&gt;b1</title>\n",
       "<path fill=\"none\" stroke=\"black\" d=\"M948.47,-86.98C801.38,-72.51 590.8,-51.79 440.84,-37.04\"/>\n",
       "<polygon fill=\"black\" stroke=\"black\" points=\"440.9,-33.53 430.6,-36.03 440.21,-40.49 440.9,-33.53\"/>\n",
       "<text text-anchor=\"middle\" x=\"745\" y=\"-57.8\" font-family=\"Times,serif\" font-size=\"14.00\">2</text>\n",
       "</g>\n",
       "<!-- b2 -->\n",
       "<g id=\"node3\" class=\"node\">\n",
       "<title>b2</title>\n",
       "<polygon fill=\"none\" stroke=\"black\" points=\"958,-36 533,-36 533,0 958,0 958,-36\"/>\n",
       "<text text-anchor=\"start\" x=\"680.5\" y=\"-19.8\" font-family=\"Times,serif\" font-size=\"14.00\">ReflectionUsingPrepare</text>\n",
       "<text text-anchor=\"start\" x=\"541\" y=\"-9\" font-family=\"monospace\" font-size=\"10.00\">prepare_gate=PrepareI ..., control_val=1, global_phase=-1, eps=1e-11</text>\n",
       "</g>\n",
       "<!-- b0&#45;&gt;b2 -->\n",
       "<g id=\"edge2\" class=\"edge\">\n",
       "<title>b0-&gt;b2</title>\n",
       "<path fill=\"none\" stroke=\"black\" d=\"M1045.86,-86.9C983.65,-72.84 895.51,-52.91 830.79,-38.28\"/>\n",
       "<polygon fill=\"black\" stroke=\"black\" points=\"831.54,-34.86 821.02,-36.07 830,-41.69 831.54,-34.86\"/>\n",
       "<text text-anchor=\"middle\" x=\"960\" y=\"-57.8\" font-family=\"Times,serif\" font-size=\"14.00\">1</text>\n",
       "</g>\n",
       "<!-- b3 -->\n",
       "<g id=\"node4\" class=\"node\">\n",
       "<title>b3</title>\n",
       "<polygon fill=\"none\" stroke=\"black\" points=\"1113,-36 976,-36 976,0 1113,0 1113,-36\"/>\n",
       "<text text-anchor=\"start\" x=\"1013\" y=\"-19.8\" font-family=\"Times,serif\" font-size=\"14.00\">OuterPrep†</text>\n",
       "<text text-anchor=\"start\" x=\"984\" y=\"-9\" font-family=\"monospace\" font-size=\"10.00\">subbloq=OuterPre ...</text>\n",
       "</g>\n",
       "<!-- b0&#45;&gt;b3 -->\n",
       "<g id=\"edge3\" class=\"edge\">\n",
       "<title>b0-&gt;b3</title>\n",
       "<path fill=\"none\" stroke=\"black\" d=\"M1105.92,-86.8C1094.75,-74.47 1079.54,-57.68 1067.05,-43.89\"/>\n",
       "<polygon fill=\"black\" stroke=\"black\" points=\"1069.37,-41.24 1060.06,-36.18 1064.18,-45.94 1069.37,-41.24\"/>\n",
       "<text text-anchor=\"middle\" x=\"1092\" y=\"-57.8\" font-family=\"Times,serif\" font-size=\"14.00\">1</text>\n",
       "</g>\n",
       "<!-- b4 -->\n",
       "<g id=\"node5\" class=\"node\">\n",
       "<title>b4</title>\n",
       "<polygon fill=\"none\" stroke=\"black\" points=\"1268,-36 1131,-36 1131,0 1268,0 1268,-36\"/>\n",
       "<text text-anchor=\"start\" x=\"1166\" y=\"-19.8\" font-family=\"Times,serif\" font-size=\"14.00\">In_l-data_l†</text>\n",
       "<text text-anchor=\"start\" x=\"1139\" y=\"-9\" font-family=\"monospace\" font-size=\"10.00\">subbloq=OutputIn ...</text>\n",
       "</g>\n",
       "<!-- b0&#45;&gt;b4 -->\n",
       "<g id=\"edge4\" class=\"edge\">\n",
       "<title>b0-&gt;b4</title>\n",
       "<path fill=\"none\" stroke=\"black\" d=\"M1137.28,-86.8C1148.6,-74.47 1164.01,-57.68 1176.66,-43.89\"/>\n",
       "<polygon fill=\"black\" stroke=\"black\" points=\"1179.56,-45.91 1183.74,-36.18 1174.4,-41.18 1179.56,-45.91\"/>\n",
       "<text text-anchor=\"middle\" x=\"1169\" y=\"-57.8\" font-family=\"Times,serif\" font-size=\"14.00\">1</text>\n",
       "</g>\n",
       "<!-- b5 -->\n",
       "<g id=\"node6\" class=\"node\">\n",
       "<title>b5</title>\n",
       "<polygon fill=\"none\" stroke=\"black\" points=\"1657,-36 1286,-36 1286,0 1657,0 1657,-36\"/>\n",
       "<text text-anchor=\"start\" x=\"1441.5\" y=\"-19.8\" font-family=\"Times,serif\" font-size=\"14.00\">In_l-data_l</text>\n",
       "<text text-anchor=\"start\" x=\"1294\" y=\"-9\" font-family=\"monospace\" font-size=\"10.00\">num_aux=50, num_spin_orb=10, num_eig=250, num_bits_rot_aa=7</text>\n",
       "</g>\n",
       "<!-- b0&#45;&gt;b5 -->\n",
       "<g id=\"edge5\" class=\"edge\">\n",
       "<title>b0-&gt;b5</title>\n",
       "<path fill=\"none\" stroke=\"black\" d=\"M1191.91,-86.9C1249.58,-72.89 1331.19,-53.07 1391.36,-38.46\"/>\n",
       "<polygon fill=\"black\" stroke=\"black\" points=\"1392.31,-41.83 1401.21,-36.07 1390.66,-35.03 1392.31,-41.83\"/>\n",
       "<text text-anchor=\"middle\" x=\"1321\" y=\"-57.8\" font-family=\"Times,serif\" font-size=\"14.00\">1</text>\n",
       "</g>\n",
       "<!-- b6 -->\n",
       "<g id=\"node7\" class=\"node\">\n",
       "<title>b6</title>\n",
       "<polygon fill=\"none\" stroke=\"black\" points=\"2010,-36 1675,-36 1675,0 2010,0 2010,-36\"/>\n",
       "<text text-anchor=\"start\" x=\"1814.5\" y=\"-19.8\" font-family=\"Times,serif\" font-size=\"14.00\">OuterPrep</text>\n",
       "<text text-anchor=\"start\" x=\"1683\" y=\"-9\" font-family=\"monospace\" font-size=\"10.00\">num_aux=50, num_bits_state_prep=12, num_bits_rot_aa=1</text>\n",
       "</g>\n",
       "<!-- b0&#45;&gt;b6 -->\n",
       "<g id=\"edge6\" class=\"edge\">\n",
       "<title>b0-&gt;b6</title>\n",
       "<path fill=\"none\" stroke=\"black\" d=\"M1266.1,-86.95C1388.38,-72.54 1563.12,-51.94 1688.09,-37.2\"/>\n",
       "<polygon fill=\"black\" stroke=\"black\" points=\"1688.61,-40.67 1698.14,-36.02 1687.79,-33.71 1688.61,-40.67\"/>\n",
       "<text text-anchor=\"middle\" x=\"1529\" y=\"-57.8\" font-family=\"Times,serif\" font-size=\"14.00\">1</text>\n",
       "</g>\n",
       "</g>\n",
       "</svg>"
      ],
      "text/plain": [
       "<IPython.core.display.SVG object>"
      ]
     },
     "metadata": {},
     "output_type": "display_data"
    },
    {
     "data": {
      "text/markdown": [
       "#### Counts totals:\n",
       " - `Adjoint(subbloq=OuterPrepareDoubleFactorization)`: 1\n",
       " - `Adjoint(subbloq=OutputIndexedData)`: 1\n",
       " - `DoubleFactorizationOneBody`: 2\n",
       " - `OuterPrepareDoubleFactorization`: 1\n",
       " - `OutputIndexedData`: 1\n",
       " - `ReflectionUsingPrepare`: 1"
      ],
      "text/plain": [
       "<IPython.core.display.Markdown object>"
      ]
     },
     "metadata": {},
     "output_type": "display_data"
    }
   ],
   "source": [
    "from qualtran.resource_counting.generalizers import ignore_split_join\n",
    "df_block_encoding_g, df_block_encoding_sigma = df_block_encoding.call_graph(max_depth=1, generalizer=ignore_split_join)\n",
    "show_call_graph(df_block_encoding_g)\n",
    "show_counts_sigma(df_block_encoding_sigma)"
   ]
  }
 ],
 "metadata": {
  "kernelspec": {
   "display_name": "Python 3",
   "language": "python",
   "name": "python3"
  },
  "language_info": {
   "codemirror_mode": {
    "name": "ipython",
    "version": 3
   },
   "file_extension": ".py",
   "mimetype": "text/x-python",
   "name": "python",
   "nbconvert_exporter": "python",
   "pygments_lexer": "ipython3",
   "version": "3.11.8"
  },
  "widgets": {
   "application/vnd.jupyter.widget-state+json": {
    "state": {
     "05fdedfabb314a0e8b7b213316958a2c": {
      "model_module": "@jupyter-widgets/base",
      "model_module_version": "2.0.0",
      "model_name": "LayoutModel",
      "state": {
       "_model_module": "@jupyter-widgets/base",
       "_model_module_version": "2.0.0",
       "_model_name": "LayoutModel",
       "_view_count": null,
       "_view_module": "@jupyter-widgets/base",
       "_view_module_version": "2.0.0",
       "_view_name": "LayoutView",
       "align_content": null,
       "align_items": null,
       "align_self": null,
       "border_bottom": null,
       "border_left": null,
       "border_right": null,
       "border_top": null,
       "bottom": null,
       "display": null,
       "flex": null,
       "flex_flow": null,
       "grid_area": null,
       "grid_auto_columns": null,
       "grid_auto_flow": null,
       "grid_auto_rows": null,
       "grid_column": null,
       "grid_gap": null,
       "grid_row": null,
       "grid_template_areas": null,
       "grid_template_columns": null,
       "grid_template_rows": null,
       "height": null,
       "justify_content": null,
       "justify_items": null,
       "left": null,
       "margin": null,
       "max_height": null,
       "max_width": null,
       "min_height": null,
       "min_width": null,
       "object_fit": null,
       "object_position": null,
       "order": null,
       "overflow": null,
       "padding": null,
       "right": null,
       "top": null,
       "visibility": null,
       "width": null
      }
     },
     "06e2ff2753b24127a8d1c71d0cb219cb": {
      "model_module": "@jupyter-widgets/base",
      "model_module_version": "2.0.0",
      "model_name": "LayoutModel",
      "state": {
       "_model_module": "@jupyter-widgets/base",
       "_model_module_version": "2.0.0",
       "_model_name": "LayoutModel",
       "_view_count": null,
       "_view_module": "@jupyter-widgets/base",
       "_view_module_version": "2.0.0",
       "_view_name": "LayoutView",
       "align_content": null,
       "align_items": null,
       "align_self": null,
       "border_bottom": null,
       "border_left": null,
       "border_right": null,
       "border_top": null,
       "bottom": null,
       "display": null,
       "flex": null,
       "flex_flow": null,
       "grid_area": null,
       "grid_auto_columns": null,
       "grid_auto_flow": null,
       "grid_auto_rows": null,
       "grid_column": null,
       "grid_gap": null,
       "grid_row": null,
       "grid_template_areas": null,
       "grid_template_columns": null,
       "grid_template_rows": null,
       "height": null,
       "justify_content": null,
       "justify_items": null,
       "left": null,
       "margin": null,
       "max_height": null,
       "max_width": null,
       "min_height": null,
       "min_width": null,
       "object_fit": null,
       "object_position": null,
       "order": null,
       "overflow": null,
       "padding": null,
       "right": null,
       "top": null,
       "visibility": null,
       "width": null
      }
     },
     "1b6ee32d16b64113b6cb1607013b5627": {
      "model_module": "@jupyter-widgets/controls",
      "model_module_version": "2.0.0",
      "model_name": "HBoxModel",
      "state": {
       "_dom_classes": [],
       "_model_module": "@jupyter-widgets/controls",
       "_model_module_version": "2.0.0",
       "_model_name": "HBoxModel",
       "_view_count": null,
       "_view_module": "@jupyter-widgets/controls",
       "_view_module_version": "2.0.0",
       "_view_name": "HBoxView",
       "box_style": "",
       "children": [
        "IPY_MODEL_7fac7e9bc7024daf9f5b9507c9f346bc"
       ],
       "layout": "IPY_MODEL_3189b92aee1b4590b31decf8eff46e08",
       "tabbable": null,
       "tooltip": null
      }
     },
     "3189b92aee1b4590b31decf8eff46e08": {
      "model_module": "@jupyter-widgets/base",
      "model_module_version": "2.0.0",
      "model_name": "LayoutModel",
      "state": {
       "_model_module": "@jupyter-widgets/base",
       "_model_module_version": "2.0.0",
       "_model_name": "LayoutModel",
       "_view_count": null,
       "_view_module": "@jupyter-widgets/base",
       "_view_module_version": "2.0.0",
       "_view_name": "LayoutView",
       "align_content": null,
       "align_items": null,
       "align_self": null,
       "border_bottom": null,
       "border_left": null,
       "border_right": null,
       "border_top": null,
       "bottom": null,
       "display": null,
       "flex": null,
       "flex_flow": null,
       "grid_area": null,
       "grid_auto_columns": null,
       "grid_auto_flow": null,
       "grid_auto_rows": null,
       "grid_column": null,
       "grid_gap": null,
       "grid_row": null,
       "grid_template_areas": null,
       "grid_template_columns": null,
       "grid_template_rows": null,
       "height": null,
       "justify_content": null,
       "justify_items": null,
       "left": null,
       "margin": null,
       "max_height": null,
       "max_width": null,
       "min_height": null,
       "min_width": null,
       "object_fit": null,
       "object_position": null,
       "order": null,
       "overflow": null,
       "padding": null,
       "right": null,
       "top": null,
       "visibility": null,
       "width": null
      }
     },
     "7f861f121ea14d55b1a739c2bcd68b2f": {
      "model_module": "@jupyter-widgets/output",
      "model_module_version": "1.0.0",
      "model_name": "OutputModel",
      "state": {
       "_dom_classes": [],
       "_model_module": "@jupyter-widgets/output",
       "_model_module_version": "1.0.0",
       "_model_name": "OutputModel",
       "_view_count": null,
       "_view_module": "@jupyter-widgets/output",
       "_view_module_version": "1.0.0",
       "_view_name": "OutputView",
       "layout": "IPY_MODEL_9f27de9a14424b91a4d0280e2cbc8979",
       "msg_id": "",
       "outputs": [
        {
         "data": {
          "text/markdown": "`df_block_encoding`",
          "text/plain": "<IPython.core.display.Markdown object>"
         },
         "metadata": {},
         "output_type": "display_data"
        },
        {
         "data": {
          "image/svg+xml": "<svg xmlns=\"http://www.w3.org/2000/svg\" xmlns:xlink=\"http://www.w3.org/1999/xlink\" width=\"366pt\" height=\"746pt\" viewBox=\"0.00 0.00 366.00 746.00\">\n<g id=\"graph0\" class=\"graph\" transform=\"scale(1 1) rotate(0) translate(4 742)\">\n<title>my_graph</title>\n<polygon fill=\"white\" stroke=\"transparent\" points=\"-4,4 -4,-742 362,-742 362,4 -4,4\"/>\n<!-- ctrl_G19 -->\n<g id=\"node1\" class=\"node\">\n<title>ctrl_G19</title>\n<text text-anchor=\"middle\" x=\"32\" y=\"-716.3\" font-family=\"Times,serif\" font-size=\"14.00\">ctrl[0]</text>\n</g>\n<!-- DoubleFactorizationBlockEncoding -->\n<g id=\"node15\" class=\"node\">\n<title>DoubleFactorizationBlockEncoding</title>\n<polygon fill=\"none\" stroke=\"black\" points=\"101,-516 101,-533 257,-533 257,-516 101,-516\"/>\n<text text-anchor=\"start\" x=\"104\" y=\"-522\" font-family=\"Times,serif\" font-size=\"10.00\">DoubleFactorizationBlockEncoding</text>\n<polygon fill=\"none\" stroke=\"black\" points=\"101,-495 101,-516 257,-516 257,-495 101,-495\"/>\n<text text-anchor=\"start\" x=\"162\" y=\"-501.8\" font-family=\"Times,serif\" font-size=\"14.00\">ctrl[0]</text>\n<polygon fill=\"none\" stroke=\"black\" points=\"101,-474 101,-495 257,-495 257,-474 101,-474\"/>\n<text text-anchor=\"start\" x=\"162\" y=\"-480.8\" font-family=\"Times,serif\" font-size=\"14.00\">ctrl[1]</text>\n<polygon fill=\"none\" stroke=\"black\" points=\"101,-453 101,-474 257,-474 257,-453 101,-453\"/>\n<text text-anchor=\"start\" x=\"162\" y=\"-459.8\" font-family=\"Times,serif\" font-size=\"14.00\">ctrl[2]</text>\n<polygon fill=\"none\" stroke=\"black\" points=\"101,-432 101,-453 257,-453 257,-432 101,-432\"/>\n<text text-anchor=\"start\" x=\"162\" y=\"-438.8\" font-family=\"Times,serif\" font-size=\"14.00\">ctrl[3]</text>\n<polygon fill=\"none\" stroke=\"black\" points=\"101,-411 101,-432 257,-432 257,-411 101,-411\"/>\n<text text-anchor=\"start\" x=\"177\" y=\"-417.8\" font-family=\"Times,serif\" font-size=\"14.00\">l</text>\n<polygon fill=\"none\" stroke=\"black\" points=\"101,-390 101,-411 257,-411 257,-390 101,-390\"/>\n<text text-anchor=\"start\" x=\"175.5\" y=\"-396.8\" font-family=\"Times,serif\" font-size=\"14.00\">p</text>\n<polygon fill=\"none\" stroke=\"black\" points=\"101,-369 101,-390 257,-390 257,-369 101,-369\"/>\n<text text-anchor=\"start\" x=\"167.5\" y=\"-375.8\" font-family=\"Times,serif\" font-size=\"14.00\">spin</text>\n<polygon fill=\"none\" stroke=\"black\" points=\"101,-348 101,-369 257,-369 257,-348 101,-348\"/>\n<text text-anchor=\"start\" x=\"162\" y=\"-354.8\" font-family=\"Times,serif\" font-size=\"14.00\">rot_aa</text>\n<polygon fill=\"none\" stroke=\"black\" points=\"101,-327 101,-348 257,-348 257,-327 101,-327\"/>\n<text text-anchor=\"start\" x=\"173.5\" y=\"-333.8\" font-family=\"Times,serif\" font-size=\"14.00\">xi</text>\n<polygon fill=\"none\" stroke=\"black\" points=\"101,-306 101,-327 257,-327 257,-306 101,-306\"/>\n<text text-anchor=\"start\" x=\"163.5\" y=\"-312.8\" font-family=\"Times,serif\" font-size=\"14.00\">offset</text>\n<polygon fill=\"none\" stroke=\"black\" points=\"101,-285 101,-306 257,-306 257,-285 101,-285\"/>\n<text text-anchor=\"start\" x=\"171\" y=\"-291.8\" font-family=\"Times,serif\" font-size=\"14.00\">rot</text>\n<polygon fill=\"none\" stroke=\"black\" points=\"101,-264 101,-285 257,-285 257,-264 101,-264\"/>\n<text text-anchor=\"start\" x=\"155\" y=\"-270.8\" font-family=\"Times,serif\" font-size=\"14.00\">rotations</text>\n<polygon fill=\"none\" stroke=\"black\" points=\"101,-243 101,-264 257,-264 257,-243 101,-243\"/>\n<text text-anchor=\"start\" x=\"162\" y=\"-249.8\" font-family=\"Times,serif\" font-size=\"14.00\">sys[0]</text>\n<polygon fill=\"none\" stroke=\"black\" points=\"101,-222 101,-243 257,-243 257,-222 101,-222\"/>\n<text text-anchor=\"start\" x=\"162\" y=\"-228.8\" font-family=\"Times,serif\" font-size=\"14.00\">sys[1]</text>\n</g>\n<!-- ctrl_G19&#45;&gt;DoubleFactorizationBlockEncoding -->\n<g id=\"edge1\" class=\"edge\">\n<title>ctrl_G19:e-&gt;DoubleFactorizationBlockEncoding:w</title>\n<path fill=\"none\" stroke=\"black\" d=\"M60,-720C83.45,-720 77.22,-519.17 98.82,-506.61\"/>\n<ellipse fill=\"black\" stroke=\"black\" cx=\"100.04\" cy=\"-506.27\" rx=\"1\" ry=\"1\"/>\n<text text-anchor=\"middle\" x=\"82.5\" y=\"-596\" font-family=\"Times,serif\" font-size=\"10.00\">1</text>\n</g>\n<!-- ctrl_G37 -->\n<g id=\"node2\" class=\"node\">\n<title>ctrl_G37</title>\n<text text-anchor=\"middle\" x=\"32\" y=\"-662.3\" font-family=\"Times,serif\" font-size=\"14.00\">ctrl[1]</text>\n</g>\n<!-- ctrl_G37&#45;&gt;DoubleFactorizationBlockEncoding -->\n<g id=\"edge2\" class=\"edge\">\n<title>ctrl_G37:e-&gt;DoubleFactorizationBlockEncoding:w</title>\n<path fill=\"none\" stroke=\"black\" d=\"M60,-666C79.82,-666 80.37,-498.86 98.68,-485.81\"/>\n<ellipse fill=\"black\" stroke=\"black\" cx=\"100.06\" cy=\"-485.33\" rx=\"1\" ry=\"1\"/>\n<text text-anchor=\"middle\" x=\"82.5\" y=\"-562\" font-family=\"Times,serif\" font-size=\"10.00\">1</text>\n</g>\n<!-- ctrl_G0 -->\n<g id=\"node3\" class=\"node\">\n<title>ctrl_G0</title>\n<text text-anchor=\"middle\" x=\"32\" y=\"-608.3\" font-family=\"Times,serif\" font-size=\"14.00\">ctrl[2]</text>\n</g>\n<!-- ctrl_G0&#45;&gt;DoubleFactorizationBlockEncoding -->\n<g id=\"edge3\" class=\"edge\">\n<title>ctrl_G0:e-&gt;DoubleFactorizationBlockEncoding:w</title>\n<path fill=\"none\" stroke=\"black\" d=\"M60,-612C93.17,-612 74.11,-572.96 83,-541 87.49,-524.86 83.81,-469.54 98.67,-464.39\"/>\n<ellipse fill=\"black\" stroke=\"black\" cx=\"100.01\" cy=\"-464.16\" rx=\"1\" ry=\"1\"/>\n<text text-anchor=\"middle\" x=\"82.5\" y=\"-547\" font-family=\"Times,serif\" font-size=\"10.00\">1</text>\n</g>\n<!-- ctrl_G7 -->\n<g id=\"node4\" class=\"node\">\n<title>ctrl_G7</title>\n<text text-anchor=\"middle\" x=\"32\" y=\"-554.3\" font-family=\"Times,serif\" font-size=\"14.00\">ctrl[3]</text>\n</g>\n<!-- ctrl_G7&#45;&gt;DoubleFactorizationBlockEncoding -->\n<g id=\"edge4\" class=\"edge\">\n<title>ctrl_G7:e-&gt;DoubleFactorizationBlockEncoding:w</title>\n<path fill=\"none\" stroke=\"black\" d=\"M60,-558C113.52,-558 48.56,-446.12 98.84,-443.06\"/>\n<ellipse fill=\"black\" stroke=\"black\" cx=\"100\" cy=\"-443.03\" rx=\"1\" ry=\"1\"/>\n<text text-anchor=\"middle\" x=\"82.5\" y=\"-539\" font-family=\"Times,serif\" font-size=\"10.00\">1</text>\n</g>\n<!-- l_G25 -->\n<g id=\"node5\" class=\"node\">\n<title>l_G25</title>\n<text text-anchor=\"middle\" x=\"32\" y=\"-500.3\" font-family=\"Times,serif\" font-size=\"14.00\">l</text>\n</g>\n<!-- l_G25&#45;&gt;DoubleFactorizationBlockEncoding -->\n<g id=\"edge5\" class=\"edge\">\n<title>l_G25:e-&gt;DoubleFactorizationBlockEncoding:w</title>\n<path fill=\"none\" stroke=\"black\" d=\"M60,-504C99.95,-504 61.8,-425.17 98.7,-422.09\"/>\n<ellipse fill=\"black\" stroke=\"black\" cx=\"100\" cy=\"-422.04\" rx=\"1\" ry=\"1\"/>\n<text text-anchor=\"middle\" x=\"82.5\" y=\"-440\" font-family=\"Times,serif\" font-size=\"10.00\">6</text>\n</g>\n<!-- p_G31 -->\n<g id=\"node6\" class=\"node\">\n<title>p_G31</title>\n<text text-anchor=\"middle\" x=\"32\" y=\"-446.3\" font-family=\"Times,serif\" font-size=\"14.00\">p</text>\n</g>\n<!-- p_G31&#45;&gt;DoubleFactorizationBlockEncoding -->\n<g id=\"edge6\" class=\"edge\">\n<title>p_G31:e-&gt;DoubleFactorizationBlockEncoding:w</title>\n<path fill=\"none\" stroke=\"black\" d=\"M60,-450C87.62,-450 73.43,-403.64 98.77,-401.11\"/>\n<ellipse fill=\"black\" stroke=\"black\" cx=\"100\" cy=\"-401.05\" rx=\"1\" ry=\"1\"/>\n<text text-anchor=\"middle\" x=\"82.5\" y=\"-422\" font-family=\"Times,serif\" font-size=\"10.00\">3</text>\n</g>\n<!-- spin_G16 -->\n<g id=\"node7\" class=\"node\">\n<title>spin_G16</title>\n<text text-anchor=\"middle\" x=\"32\" y=\"-392.3\" font-family=\"Times,serif\" font-size=\"14.00\">spin</text>\n</g>\n<!-- spin_G16&#45;&gt;DoubleFactorizationBlockEncoding -->\n<g id=\"edge7\" class=\"edge\">\n<title>spin_G16:e-&gt;DoubleFactorizationBlockEncoding:w</title>\n<path fill=\"none\" stroke=\"black\" d=\"M60,-396C78.8,-396 81.27,-381.23 98.79,-380.07\"/>\n<ellipse fill=\"black\" stroke=\"black\" cx=\"100\" cy=\"-380.03\" rx=\"1\" ry=\"1\"/>\n<text text-anchor=\"middle\" x=\"82.5\" y=\"-389\" font-family=\"Times,serif\" font-size=\"10.00\">1</text>\n</g>\n<!-- rot_aa_G38 -->\n<g id=\"node8\" class=\"node\">\n<title>rot_aa_G38</title>\n<text text-anchor=\"middle\" x=\"32\" y=\"-338.3\" font-family=\"Times,serif\" font-size=\"14.00\">rot_aa</text>\n</g>\n<!-- rot_aa_G38&#45;&gt;DoubleFactorizationBlockEncoding -->\n<g id=\"edge8\" class=\"edge\">\n<title>rot_aa_G38:e-&gt;DoubleFactorizationBlockEncoding:w</title>\n<path fill=\"none\" stroke=\"black\" d=\"M60,-342C78.8,-342 81.27,-356.77 98.79,-357.93\"/>\n<ellipse fill=\"black\" stroke=\"black\" cx=\"100\" cy=\"-357.97\" rx=\"1\" ry=\"1\"/>\n<text text-anchor=\"middle\" x=\"82.5\" y=\"-354\" font-family=\"Times,serif\" font-size=\"10.00\">1</text>\n</g>\n<!-- xi_G33 -->\n<g id=\"node9\" class=\"node\">\n<title>xi_G33</title>\n<text text-anchor=\"middle\" x=\"32\" y=\"-284.3\" font-family=\"Times,serif\" font-size=\"14.00\">xi</text>\n</g>\n<!-- xi_G33&#45;&gt;DoubleFactorizationBlockEncoding -->\n<g id=\"edge9\" class=\"edge\">\n<title>xi_G33:e-&gt;DoubleFactorizationBlockEncoding:w</title>\n<path fill=\"none\" stroke=\"black\" d=\"M60,-288C87.62,-288 73.43,-334.36 98.77,-336.89\"/>\n<ellipse fill=\"black\" stroke=\"black\" cx=\"100\" cy=\"-336.95\" rx=\"1\" ry=\"1\"/>\n<text text-anchor=\"middle\" x=\"82.5\" y=\"-324\" font-family=\"Times,serif\" font-size=\"10.00\">3</text>\n</g>\n<!-- offset_G36 -->\n<g id=\"node10\" class=\"node\">\n<title>offset_G36</title>\n<text text-anchor=\"middle\" x=\"32\" y=\"-230.3\" font-family=\"Times,serif\" font-size=\"14.00\">offset</text>\n</g>\n<!-- offset_G36&#45;&gt;DoubleFactorizationBlockEncoding -->\n<g id=\"edge10\" class=\"edge\">\n<title>offset_G36:e-&gt;DoubleFactorizationBlockEncoding:w</title>\n<path fill=\"none\" stroke=\"black\" d=\"M60,-234C99.95,-234 61.8,-312.83 98.7,-315.91\"/>\n<ellipse fill=\"black\" stroke=\"black\" cx=\"100\" cy=\"-315.96\" rx=\"1\" ry=\"1\"/>\n<text text-anchor=\"middle\" x=\"82.5\" y=\"-305\" font-family=\"Times,serif\" font-size=\"10.00\">8</text>\n</g>\n<!-- rot_G26 -->\n<g id=\"node11\" class=\"node\">\n<title>rot_G26</title>\n<text text-anchor=\"middle\" x=\"32\" y=\"-176.3\" font-family=\"Times,serif\" font-size=\"14.00\">rot</text>\n</g>\n<!-- rot_G26&#45;&gt;DoubleFactorizationBlockEncoding -->\n<g id=\"edge11\" class=\"edge\">\n<title>rot_G26:e-&gt;DoubleFactorizationBlockEncoding:w</title>\n<path fill=\"none\" stroke=\"black\" d=\"M60,-180C113.52,-180 48.56,-291.88 98.84,-294.94\"/>\n<ellipse fill=\"black\" stroke=\"black\" cx=\"100\" cy=\"-294.97\" rx=\"1\" ry=\"1\"/>\n<text text-anchor=\"middle\" x=\"82.5\" y=\"-288\" font-family=\"Times,serif\" font-size=\"10.00\">7</text>\n</g>\n<!-- rotations_G12 -->\n<g id=\"node12\" class=\"node\">\n<title>rotations_G12</title>\n<text text-anchor=\"middle\" x=\"32\" y=\"-122.3\" font-family=\"Times,serif\" font-size=\"14.00\">rotations</text>\n</g>\n<!-- rotations_G12&#45;&gt;DoubleFactorizationBlockEncoding -->\n<g id=\"edge12\" class=\"edge\">\n<title>rotations_G12:e-&gt;DoubleFactorizationBlockEncoding:w</title>\n<path fill=\"none\" stroke=\"black\" d=\"M64,-126C96.24,-126 75.15,-164.73 83,-196 87.16,-212.58 83.52,-269.32 99.01,-273.73\"/>\n<ellipse fill=\"black\" stroke=\"black\" cx=\"100.01\" cy=\"-273.86\" rx=\"1\" ry=\"1\"/>\n<text text-anchor=\"middle\" x=\"82.5\" y=\"-199\" font-family=\"Times,serif\" font-size=\"10.00\">35</text>\n</g>\n<!-- sys_G20 -->\n<g id=\"node13\" class=\"node\">\n<title>sys_G20</title>\n<text text-anchor=\"middle\" x=\"32\" y=\"-68.3\" font-family=\"Times,serif\" font-size=\"14.00\">sys[0]</text>\n</g>\n<!-- sys_G20&#45;&gt;DoubleFactorizationBlockEncoding -->\n<g id=\"edge13\" class=\"edge\">\n<title>sys_G20:e-&gt;DoubleFactorizationBlockEncoding:w</title>\n<path fill=\"none\" stroke=\"black\" d=\"M60,-72C90.23,-72 75.56,-106.71 83,-136 89.3,-160.8 75.49,-248.05 98.93,-252.8\"/>\n<ellipse fill=\"black\" stroke=\"black\" cx=\"100\" cy=\"-252.9\" rx=\"1\" ry=\"1\"/>\n<text text-anchor=\"middle\" x=\"82.5\" y=\"-139\" font-family=\"Times,serif\" font-size=\"10.00\">5</text>\n</g>\n<!-- sys_G41 -->\n<g id=\"node14\" class=\"node\">\n<title>sys_G41</title>\n<text text-anchor=\"middle\" x=\"32\" y=\"-14.3\" font-family=\"Times,serif\" font-size=\"14.00\">sys[1]</text>\n</g>\n<!-- sys_G41&#45;&gt;DoubleFactorizationBlockEncoding -->\n<g id=\"edge14\" class=\"edge\">\n<title>sys_G41:e-&gt;DoubleFactorizationBlockEncoding:w</title>\n<path fill=\"none\" stroke=\"black\" d=\"M60,-18C109.95,-18 73.63,-78.94 83,-128 87.26,-150.32 78.15,-227 98.9,-231.77\"/>\n<ellipse fill=\"black\" stroke=\"black\" cx=\"100.01\" cy=\"-231.89\" rx=\"1\" ry=\"1\"/>\n<text text-anchor=\"middle\" x=\"82.5\" y=\"-131\" font-family=\"Times,serif\" font-size=\"10.00\">5</text>\n</g>\n<!-- ctrl_G32 -->\n<g id=\"node16\" class=\"node\">\n<title>ctrl_G32</title>\n<text text-anchor=\"middle\" x=\"326\" y=\"-716.3\" font-family=\"Times,serif\" font-size=\"14.00\">ctrl[0]</text>\n</g>\n<!-- DoubleFactorizationBlockEncoding&#45;&gt;ctrl_G32 -->\n<g id=\"edge15\" class=\"edge\">\n<title>DoubleFactorizationBlockEncoding:e-&gt;ctrl_G32:w</title>\n<path fill=\"none\" stroke=\"black\" d=\"M257,-506C280.45,-506 274.22,-706.83 295.82,-719.39\"/>\n<ellipse fill=\"black\" stroke=\"black\" cx=\"297.04\" cy=\"-719.73\" rx=\"1\" ry=\"1\"/>\n<text text-anchor=\"middle\" x=\"275.5\" y=\"-596\" font-family=\"Times,serif\" font-size=\"10.00\">1</text>\n</g>\n<!-- ctrl_G10 -->\n<g id=\"node17\" class=\"node\">\n<title>ctrl_G10</title>\n<text text-anchor=\"middle\" x=\"326\" y=\"-662.3\" font-family=\"Times,serif\" font-size=\"14.00\">ctrl[1]</text>\n</g>\n<!-- DoubleFactorizationBlockEncoding&#45;&gt;ctrl_G10 -->\n<g id=\"edge16\" class=\"edge\">\n<title>DoubleFactorizationBlockEncoding:e-&gt;ctrl_G10:w</title>\n<path fill=\"none\" stroke=\"black\" d=\"M257,-485C276.82,-485 277.37,-652.14 295.68,-665.19\"/>\n<ellipse fill=\"black\" stroke=\"black\" cx=\"297.06\" cy=\"-665.67\" rx=\"1\" ry=\"1\"/>\n<text text-anchor=\"middle\" x=\"275.5\" y=\"-562\" font-family=\"Times,serif\" font-size=\"10.00\">1</text>\n</g>\n<!-- ctrl_G14 -->\n<g id=\"node18\" class=\"node\">\n<title>ctrl_G14</title>\n<text text-anchor=\"middle\" x=\"326\" y=\"-608.3\" font-family=\"Times,serif\" font-size=\"14.00\">ctrl[2]</text>\n</g>\n<!-- DoubleFactorizationBlockEncoding&#45;&gt;ctrl_G14 -->\n<g id=\"edge17\" class=\"edge\">\n<title>DoubleFactorizationBlockEncoding:e-&gt;ctrl_G14:w</title>\n<path fill=\"none\" stroke=\"black\" d=\"M257,-464C274.57,-464 270.29,-524.07 275,-541 283.69,-572.21 265.71,-610.17 295.75,-611.94\"/>\n<ellipse fill=\"black\" stroke=\"black\" cx=\"297\" cy=\"-611.97\" rx=\"1\" ry=\"1\"/>\n<text text-anchor=\"middle\" x=\"275.5\" y=\"-547\" font-family=\"Times,serif\" font-size=\"10.00\">1</text>\n</g>\n<!-- ctrl_G17 -->\n<g id=\"node19\" class=\"node\">\n<title>ctrl_G17</title>\n<text text-anchor=\"middle\" x=\"326\" y=\"-554.3\" font-family=\"Times,serif\" font-size=\"14.00\">ctrl[3]</text>\n</g>\n<!-- DoubleFactorizationBlockEncoding&#45;&gt;ctrl_G17 -->\n<g id=\"edge18\" class=\"edge\">\n<title>DoubleFactorizationBlockEncoding:e-&gt;ctrl_G17:w</title>\n<path fill=\"none\" stroke=\"black\" d=\"M257,-443C310.52,-443 245.56,-554.88 295.84,-557.94\"/>\n<ellipse fill=\"black\" stroke=\"black\" cx=\"297\" cy=\"-557.97\" rx=\"1\" ry=\"1\"/>\n<text text-anchor=\"middle\" x=\"275.5\" y=\"-539\" font-family=\"Times,serif\" font-size=\"10.00\">1</text>\n</g>\n<!-- l_G1 -->\n<g id=\"node20\" class=\"node\">\n<title>l_G1</title>\n<text text-anchor=\"middle\" x=\"326\" y=\"-500.3\" font-family=\"Times,serif\" font-size=\"14.00\">l</text>\n</g>\n<!-- DoubleFactorizationBlockEncoding&#45;&gt;l_G1 -->\n<g id=\"edge19\" class=\"edge\">\n<title>DoubleFactorizationBlockEncoding:e-&gt;l_G1:w</title>\n<path fill=\"none\" stroke=\"black\" d=\"M257,-422C296.95,-422 258.8,-500.83 295.7,-503.91\"/>\n<ellipse fill=\"black\" stroke=\"black\" cx=\"297\" cy=\"-503.96\" rx=\"1\" ry=\"1\"/>\n<text text-anchor=\"middle\" x=\"275.5\" y=\"-440\" font-family=\"Times,serif\" font-size=\"10.00\">6</text>\n</g>\n<!-- p_G3 -->\n<g id=\"node21\" class=\"node\">\n<title>p_G3</title>\n<text text-anchor=\"middle\" x=\"326\" y=\"-446.3\" font-family=\"Times,serif\" font-size=\"14.00\">p</text>\n</g>\n<!-- DoubleFactorizationBlockEncoding&#45;&gt;p_G3 -->\n<g id=\"edge20\" class=\"edge\">\n<title>DoubleFactorizationBlockEncoding:e-&gt;p_G3:w</title>\n<path fill=\"none\" stroke=\"black\" d=\"M257,-401C284.62,-401 270.43,-447.36 295.77,-449.89\"/>\n<ellipse fill=\"black\" stroke=\"black\" cx=\"297\" cy=\"-449.95\" rx=\"1\" ry=\"1\"/>\n<text text-anchor=\"middle\" x=\"275.5\" y=\"-422\" font-family=\"Times,serif\" font-size=\"10.00\">3</text>\n</g>\n<!-- spin_G28 -->\n<g id=\"node22\" class=\"node\">\n<title>spin_G28</title>\n<text text-anchor=\"middle\" x=\"326\" y=\"-392.3\" font-family=\"Times,serif\" font-size=\"14.00\">spin</text>\n</g>\n<!-- DoubleFactorizationBlockEncoding&#45;&gt;spin_G28 -->\n<g id=\"edge21\" class=\"edge\">\n<title>DoubleFactorizationBlockEncoding:e-&gt;spin_G28:w</title>\n<path fill=\"none\" stroke=\"black\" d=\"M257,-380C275.8,-380 278.27,-394.77 295.79,-395.93\"/>\n<ellipse fill=\"black\" stroke=\"black\" cx=\"297\" cy=\"-395.97\" rx=\"1\" ry=\"1\"/>\n<text text-anchor=\"middle\" x=\"275.5\" y=\"-389\" font-family=\"Times,serif\" font-size=\"10.00\">1</text>\n</g>\n<!-- rot_aa_G9 -->\n<g id=\"node23\" class=\"node\">\n<title>rot_aa_G9</title>\n<text text-anchor=\"middle\" x=\"326\" y=\"-338.3\" font-family=\"Times,serif\" font-size=\"14.00\">rot_aa</text>\n</g>\n<!-- DoubleFactorizationBlockEncoding&#45;&gt;rot_aa_G9 -->\n<g id=\"edge22\" class=\"edge\">\n<title>DoubleFactorizationBlockEncoding:e-&gt;rot_aa_G9:w</title>\n<path fill=\"none\" stroke=\"black\" d=\"M257,-358C275.8,-358 278.27,-343.23 295.79,-342.07\"/>\n<ellipse fill=\"black\" stroke=\"black\" cx=\"297\" cy=\"-342.03\" rx=\"1\" ry=\"1\"/>\n<text text-anchor=\"middle\" x=\"275.5\" y=\"-354\" font-family=\"Times,serif\" font-size=\"10.00\">1</text>\n</g>\n<!-- xi_G5 -->\n<g id=\"node24\" class=\"node\">\n<title>xi_G5</title>\n<text text-anchor=\"middle\" x=\"326\" y=\"-284.3\" font-family=\"Times,serif\" font-size=\"14.00\">xi</text>\n</g>\n<!-- DoubleFactorizationBlockEncoding&#45;&gt;xi_G5 -->\n<g id=\"edge23\" class=\"edge\">\n<title>DoubleFactorizationBlockEncoding:e-&gt;xi_G5:w</title>\n<path fill=\"none\" stroke=\"black\" d=\"M257,-337C284.62,-337 270.43,-290.64 295.77,-288.11\"/>\n<ellipse fill=\"black\" stroke=\"black\" cx=\"297\" cy=\"-288.05\" rx=\"1\" ry=\"1\"/>\n<text text-anchor=\"middle\" x=\"275.5\" y=\"-324\" font-family=\"Times,serif\" font-size=\"10.00\">3</text>\n</g>\n<!-- offset_G8 -->\n<g id=\"node25\" class=\"node\">\n<title>offset_G8</title>\n<text text-anchor=\"middle\" x=\"326\" y=\"-230.3\" font-family=\"Times,serif\" font-size=\"14.00\">offset</text>\n</g>\n<!-- DoubleFactorizationBlockEncoding&#45;&gt;offset_G8 -->\n<g id=\"edge24\" class=\"edge\">\n<title>DoubleFactorizationBlockEncoding:e-&gt;offset_G8:w</title>\n<path fill=\"none\" stroke=\"black\" d=\"M257,-316C296.95,-316 258.8,-237.17 295.7,-234.09\"/>\n<ellipse fill=\"black\" stroke=\"black\" cx=\"297\" cy=\"-234.04\" rx=\"1\" ry=\"1\"/>\n<text text-anchor=\"middle\" x=\"275.5\" y=\"-305\" font-family=\"Times,serif\" font-size=\"10.00\">8</text>\n</g>\n<!-- rot_G2 -->\n<g id=\"node26\" class=\"node\">\n<title>rot_G2</title>\n<text text-anchor=\"middle\" x=\"326\" y=\"-176.3\" font-family=\"Times,serif\" font-size=\"14.00\">rot</text>\n</g>\n<!-- DoubleFactorizationBlockEncoding&#45;&gt;rot_G2 -->\n<g id=\"edge25\" class=\"edge\">\n<title>DoubleFactorizationBlockEncoding:e-&gt;rot_G2:w</title>\n<path fill=\"none\" stroke=\"black\" d=\"M257,-295C310.52,-295 245.56,-183.12 295.84,-180.06\"/>\n<ellipse fill=\"black\" stroke=\"black\" cx=\"297\" cy=\"-180.03\" rx=\"1\" ry=\"1\"/>\n<text text-anchor=\"middle\" x=\"275.5\" y=\"-288\" font-family=\"Times,serif\" font-size=\"10.00\">7</text>\n</g>\n<!-- rotations_G22 -->\n<g id=\"node27\" class=\"node\">\n<title>rotations_G22</title>\n<text text-anchor=\"middle\" x=\"326\" y=\"-122.3\" font-family=\"Times,serif\" font-size=\"14.00\">rotations</text>\n</g>\n<!-- DoubleFactorizationBlockEncoding&#45;&gt;rotations_G22 -->\n<g id=\"edge26\" class=\"edge\">\n<title>DoubleFactorizationBlockEncoding:e-&gt;rotations_G22:w</title>\n<path fill=\"none\" stroke=\"black\" d=\"M257,-274C274.79,-274 270.67,-213.25 275,-196 282.66,-165.47 262.74,-127.81 291.82,-126.06\"/>\n<ellipse fill=\"black\" stroke=\"black\" cx=\"293\" cy=\"-126.03\" rx=\"1\" ry=\"1\"/>\n<text text-anchor=\"middle\" x=\"275.5\" y=\"-199\" font-family=\"Times,serif\" font-size=\"10.00\">35</text>\n</g>\n<!-- sys_G27 -->\n<g id=\"node28\" class=\"node\">\n<title>sys_G27</title>\n<text text-anchor=\"middle\" x=\"326\" y=\"-68.3\" font-family=\"Times,serif\" font-size=\"14.00\">sys[0]</text>\n</g>\n<!-- DoubleFactorizationBlockEncoding&#45;&gt;sys_G27 -->\n<g id=\"edge27\" class=\"edge\">\n<title>DoubleFactorizationBlockEncoding:e-&gt;sys_G27:w</title>\n<path fill=\"none\" stroke=\"black\" d=\"M257,-253C283.31,-253 268.52,-161.5 275,-136 282.27,-107.39 268.45,-73.62 295.95,-72.06\"/>\n<ellipse fill=\"black\" stroke=\"black\" cx=\"297\" cy=\"-72.03\" rx=\"1\" ry=\"1\"/>\n<text text-anchor=\"middle\" x=\"275.5\" y=\"-139\" font-family=\"Times,serif\" font-size=\"10.00\">5</text>\n</g>\n<!-- sys_G6 -->\n<g id=\"node29\" class=\"node\">\n<title>sys_G6</title>\n<text text-anchor=\"middle\" x=\"326\" y=\"-14.3\" font-family=\"Times,serif\" font-size=\"14.00\">sys[1]</text>\n</g>\n<!-- DoubleFactorizationBlockEncoding&#45;&gt;sys_G6 -->\n<g id=\"edge28\" class=\"edge\">\n<title>DoubleFactorizationBlockEncoding:e-&gt;sys_G6:w</title>\n<path fill=\"none\" stroke=\"black\" d=\"M257,-232C280.45,-232 270.6,-151.04 275,-128 284.24,-79.61 249.04,-19.66 296,-18.03\"/>\n<ellipse fill=\"black\" stroke=\"black\" cx=\"297\" cy=\"-18.02\" rx=\"1\" ry=\"1\"/>\n<text text-anchor=\"middle\" x=\"275.5\" y=\"-131\" font-family=\"Times,serif\" font-size=\"10.00\">5</text>\n</g>\n</g>\n</svg>",
          "text/plain": "<IPython.core.display.SVG object>"
         },
         "metadata": {},
         "output_type": "display_data"
        }
       ],
       "tabbable": null,
       "tooltip": null
      }
     },
     "7fac7e9bc7024daf9f5b9507c9f346bc": {
      "model_module": "@jupyter-widgets/output",
      "model_module_version": "1.0.0",
      "model_name": "OutputModel",
      "state": {
       "_dom_classes": [],
       "_model_module": "@jupyter-widgets/output",
       "_model_module_version": "1.0.0",
       "_model_name": "OutputModel",
       "_view_count": null,
       "_view_module": "@jupyter-widgets/output",
       "_view_module_version": "1.0.0",
       "_view_name": "OutputView",
       "layout": "IPY_MODEL_06e2ff2753b24127a8d1c71d0cb219cb",
       "msg_id": "",
       "outputs": [
        {
         "data": {
          "text/markdown": "`df_one_body`",
          "text/plain": "<IPython.core.display.Markdown object>"
         },
         "metadata": {},
         "output_type": "display_data"
        },
        {
         "data": {
          "image/svg+xml": "<svg xmlns=\"http://www.w3.org/2000/svg\" xmlns:xlink=\"http://www.w3.org/1999/xlink\" width=\"353pt\" height=\"638pt\" viewBox=\"0.00 0.00 353.00 638.00\">\n<g id=\"graph0\" class=\"graph\" transform=\"scale(1 1) rotate(0) translate(4 634)\">\n<title>my_graph</title>\n<polygon fill=\"white\" stroke=\"transparent\" points=\"-4,4 -4,-634 349,-634 349,4 -4,4\"/>\n<!-- succ_l_G1 -->\n<g id=\"node1\" class=\"node\">\n<title>succ_l_G1</title>\n<text text-anchor=\"middle\" x=\"35\" y=\"-608.3\" font-family=\"Times,serif\" font-size=\"14.00\">succ_l</text>\n</g>\n<!-- DoubleFactorizationOneBody -->\n<g id=\"node13\" class=\"node\">\n<title>DoubleFactorizationOneBody</title>\n<polygon fill=\"none\" stroke=\"black\" points=\"107.5,-441 107.5,-458 238.5,-458 238.5,-441 107.5,-441\"/>\n<text text-anchor=\"start\" x=\"110.5\" y=\"-447\" font-family=\"Times,serif\" font-size=\"10.00\">DoubleFactorizationOneBody</text>\n<polygon fill=\"none\" stroke=\"black\" points=\"107.5,-420 107.5,-441 238.5,-441 238.5,-420 107.5,-420\"/>\n<text text-anchor=\"start\" x=\"155.5\" y=\"-426.8\" font-family=\"Times,serif\" font-size=\"14.00\">succ_l</text>\n<polygon fill=\"none\" stroke=\"black\" points=\"107.5,-399 107.5,-420 238.5,-420 238.5,-399 107.5,-399\"/>\n<text text-anchor=\"start\" x=\"146\" y=\"-405.8\" font-family=\"Times,serif\" font-size=\"14.00\">l_ne_zero</text>\n<polygon fill=\"none\" stroke=\"black\" points=\"107.5,-378 107.5,-399 238.5,-399 238.5,-378 107.5,-378\"/>\n<text text-anchor=\"start\" x=\"154\" y=\"-384.8\" font-family=\"Times,serif\" font-size=\"14.00\">succ_p</text>\n<polygon fill=\"none\" stroke=\"black\" points=\"107.5,-357 107.5,-378 238.5,-378 238.5,-357 107.5,-357\"/>\n<text text-anchor=\"start\" x=\"169.5\" y=\"-363.8\" font-family=\"Times,serif\" font-size=\"14.00\">p</text>\n<polygon fill=\"none\" stroke=\"black\" points=\"107.5,-336 107.5,-357 238.5,-357 238.5,-336 107.5,-336\"/>\n<text text-anchor=\"start\" x=\"156\" y=\"-342.8\" font-family=\"Times,serif\" font-size=\"14.00\">rot_aa</text>\n<polygon fill=\"none\" stroke=\"black\" points=\"107.5,-315 107.5,-336 238.5,-336 238.5,-315 107.5,-315\"/>\n<text text-anchor=\"start\" x=\"161.5\" y=\"-321.8\" font-family=\"Times,serif\" font-size=\"14.00\">spin</text>\n<polygon fill=\"none\" stroke=\"black\" points=\"107.5,-294 107.5,-315 238.5,-315 238.5,-294 107.5,-294\"/>\n<text text-anchor=\"start\" x=\"167.5\" y=\"-300.8\" font-family=\"Times,serif\" font-size=\"14.00\">xi</text>\n<polygon fill=\"none\" stroke=\"black\" points=\"107.5,-273 107.5,-294 238.5,-294 238.5,-273 107.5,-273\"/>\n<text text-anchor=\"start\" x=\"157.5\" y=\"-279.8\" font-family=\"Times,serif\" font-size=\"14.00\">offset</text>\n<polygon fill=\"none\" stroke=\"black\" points=\"107.5,-252 107.5,-273 238.5,-273 238.5,-252 107.5,-252\"/>\n<text text-anchor=\"start\" x=\"165\" y=\"-258.8\" font-family=\"Times,serif\" font-size=\"14.00\">rot</text>\n<polygon fill=\"none\" stroke=\"black\" points=\"107.5,-231 107.5,-252 238.5,-252 238.5,-231 107.5,-231\"/>\n<text text-anchor=\"start\" x=\"149\" y=\"-237.8\" font-family=\"Times,serif\" font-size=\"14.00\">rotations</text>\n<polygon fill=\"none\" stroke=\"black\" points=\"107.5,-210 107.5,-231 238.5,-231 238.5,-210 107.5,-210\"/>\n<text text-anchor=\"start\" x=\"156\" y=\"-216.8\" font-family=\"Times,serif\" font-size=\"14.00\">sys[0]</text>\n<polygon fill=\"none\" stroke=\"black\" points=\"107.5,-189 107.5,-210 238.5,-210 238.5,-189 107.5,-189\"/>\n<text text-anchor=\"start\" x=\"156\" y=\"-195.8\" font-family=\"Times,serif\" font-size=\"14.00\">sys[1]</text>\n</g>\n<!-- succ_l_G1&#45;&gt;DoubleFactorizationOneBody -->\n<g id=\"edge1\" class=\"edge\">\n<title>succ_l_G1:e-&gt;DoubleFactorizationOneBody:w</title>\n<path fill=\"none\" stroke=\"black\" d=\"M63,-612C82.89,-612 86.07,-444.86 104.66,-431.81\"/>\n<ellipse fill=\"black\" stroke=\"black\" cx=\"106.05\" cy=\"-431.33\" rx=\"1\" ry=\"1\"/>\n<text text-anchor=\"middle\" x=\"88.5\" y=\"-497\" font-family=\"Times,serif\" font-size=\"10.00\">1</text>\n</g>\n<!-- l_ne_zero_G0 -->\n<g id=\"node2\" class=\"node\">\n<title>l_ne_zero_G0</title>\n<text text-anchor=\"middle\" x=\"35\" y=\"-554.3\" font-family=\"Times,serif\" font-size=\"14.00\">l_ne_zero</text>\n</g>\n<!-- l_ne_zero_G0&#45;&gt;DoubleFactorizationOneBody -->\n<g id=\"edge2\" class=\"edge\">\n<title>l_ne_zero_G0:e-&gt;DoubleFactorizationOneBody:w</title>\n<path fill=\"none\" stroke=\"black\" d=\"M70,-558C137.01,-558 41.49,-413.45 104.68,-410.06\"/>\n<ellipse fill=\"black\" stroke=\"black\" cx=\"106\" cy=\"-410.03\" rx=\"1\" ry=\"1\"/>\n<text text-anchor=\"middle\" x=\"88.5\" y=\"-487\" font-family=\"Times,serif\" font-size=\"10.00\">1</text>\n</g>\n<!-- succ_p_G15 -->\n<g id=\"node3\" class=\"node\">\n<title>succ_p_G15</title>\n<text text-anchor=\"middle\" x=\"35\" y=\"-500.3\" font-family=\"Times,serif\" font-size=\"14.00\">succ_p</text>\n</g>\n<!-- succ_p_G15&#45;&gt;DoubleFactorizationOneBody -->\n<g id=\"edge3\" class=\"edge\">\n<title>succ_p_G15:e-&gt;DoubleFactorizationOneBody:w</title>\n<path fill=\"none\" stroke=\"black\" d=\"M63,-504C116.98,-504 54.04,-392.12 104.82,-389.06\"/>\n<ellipse fill=\"black\" stroke=\"black\" cx=\"106\" cy=\"-389.03\" rx=\"1\" ry=\"1\"/>\n<text text-anchor=\"middle\" x=\"88.5\" y=\"-399\" font-family=\"Times,serif\" font-size=\"10.00\">1</text>\n</g>\n<!-- p_G29 -->\n<g id=\"node4\" class=\"node\">\n<title>p_G29</title>\n<text text-anchor=\"middle\" x=\"35\" y=\"-446.3\" font-family=\"Times,serif\" font-size=\"14.00\">p</text>\n</g>\n<!-- p_G29&#45;&gt;DoubleFactorizationOneBody -->\n<g id=\"edge4\" class=\"edge\">\n<title>p_G29:e-&gt;DoubleFactorizationOneBody:w</title>\n<path fill=\"none\" stroke=\"black\" d=\"M63,-450C103.55,-450 67.12,-371.17 104.67,-368.09\"/>\n<ellipse fill=\"black\" stroke=\"black\" cx=\"106\" cy=\"-368.04\" rx=\"1\" ry=\"1\"/>\n<text text-anchor=\"middle\" x=\"88.5\" y=\"-384\" font-family=\"Times,serif\" font-size=\"10.00\">3</text>\n</g>\n<!-- rot_aa_G34 -->\n<g id=\"node5\" class=\"node\">\n<title>rot_aa_G34</title>\n<text text-anchor=\"middle\" x=\"35\" y=\"-392.3\" font-family=\"Times,serif\" font-size=\"14.00\">rot_aa</text>\n</g>\n<!-- rot_aa_G34&#45;&gt;DoubleFactorizationOneBody -->\n<g id=\"edge5\" class=\"edge\">\n<title>rot_aa_G34:e-&gt;DoubleFactorizationOneBody:w</title>\n<path fill=\"none\" stroke=\"black\" d=\"M63,-396C91.47,-396 78.49,-349.64 104.7,-347.11\"/>\n<ellipse fill=\"black\" stroke=\"black\" cx=\"106\" cy=\"-347.05\" rx=\"1\" ry=\"1\"/>\n<text text-anchor=\"middle\" x=\"88.5\" y=\"-364\" font-family=\"Times,serif\" font-size=\"10.00\">1</text>\n</g>\n<!-- spin_G18 -->\n<g id=\"node6\" class=\"node\">\n<title>spin_G18</title>\n<text text-anchor=\"middle\" x=\"35\" y=\"-338.3\" font-family=\"Times,serif\" font-size=\"14.00\">spin</text>\n</g>\n<!-- spin_G18&#45;&gt;DoubleFactorizationOneBody -->\n<g id=\"edge6\" class=\"edge\">\n<title>spin_G18:e-&gt;DoubleFactorizationOneBody:w</title>\n<path fill=\"none\" stroke=\"black\" d=\"M63,-342C83,-342 85.98,-327.23 104.64,-326.07\"/>\n<ellipse fill=\"black\" stroke=\"black\" cx=\"106\" cy=\"-326.03\" rx=\"1\" ry=\"1\"/>\n<text text-anchor=\"middle\" x=\"88.5\" y=\"-334\" font-family=\"Times,serif\" font-size=\"10.00\">1</text>\n</g>\n<!-- xi_G32 -->\n<g id=\"node7\" class=\"node\">\n<title>xi_G32</title>\n<text text-anchor=\"middle\" x=\"35\" y=\"-284.3\" font-family=\"Times,serif\" font-size=\"14.00\">xi</text>\n</g>\n<!-- xi_G32&#45;&gt;DoubleFactorizationOneBody -->\n<g id=\"edge7\" class=\"edge\">\n<title>xi_G32:e-&gt;DoubleFactorizationOneBody:w</title>\n<path fill=\"none\" stroke=\"black\" d=\"M63,-288C83,-288 85.98,-302.77 104.64,-303.93\"/>\n<ellipse fill=\"black\" stroke=\"black\" cx=\"106\" cy=\"-303.97\" rx=\"1\" ry=\"1\"/>\n<text text-anchor=\"middle\" x=\"88.5\" y=\"-301\" font-family=\"Times,serif\" font-size=\"10.00\">3</text>\n</g>\n<!-- offset_G33 -->\n<g id=\"node8\" class=\"node\">\n<title>offset_G33</title>\n<text text-anchor=\"middle\" x=\"35\" y=\"-230.3\" font-family=\"Times,serif\" font-size=\"14.00\">offset</text>\n</g>\n<!-- offset_G33&#45;&gt;DoubleFactorizationOneBody -->\n<g id=\"edge8\" class=\"edge\">\n<title>offset_G33:e-&gt;DoubleFactorizationOneBody:w</title>\n<path fill=\"none\" stroke=\"black\" d=\"M63,-234C91.47,-234 78.49,-280.36 104.7,-282.89\"/>\n<ellipse fill=\"black\" stroke=\"black\" cx=\"106\" cy=\"-282.95\" rx=\"1\" ry=\"1\"/>\n<text text-anchor=\"middle\" x=\"88.5\" y=\"-272\" font-family=\"Times,serif\" font-size=\"10.00\">8</text>\n</g>\n<!-- rot_G8 -->\n<g id=\"node9\" class=\"node\">\n<title>rot_G8</title>\n<text text-anchor=\"middle\" x=\"35\" y=\"-176.3\" font-family=\"Times,serif\" font-size=\"14.00\">rot</text>\n</g>\n<!-- rot_G8&#45;&gt;DoubleFactorizationOneBody -->\n<g id=\"edge9\" class=\"edge\">\n<title>rot_G8:e-&gt;DoubleFactorizationOneBody:w</title>\n<path fill=\"none\" stroke=\"black\" d=\"M63,-180C103.55,-180 67.12,-258.83 104.67,-261.91\"/>\n<ellipse fill=\"black\" stroke=\"black\" cx=\"106\" cy=\"-261.96\" rx=\"1\" ry=\"1\"/>\n<text text-anchor=\"middle\" x=\"88.5\" y=\"-253\" font-family=\"Times,serif\" font-size=\"10.00\">8</text>\n</g>\n<!-- rotations_G12 -->\n<g id=\"node10\" class=\"node\">\n<title>rotations_G12</title>\n<text text-anchor=\"middle\" x=\"35\" y=\"-122.3\" font-family=\"Times,serif\" font-size=\"14.00\">rotations</text>\n</g>\n<!-- rotations_G12&#45;&gt;DoubleFactorizationOneBody -->\n<g id=\"edge10\" class=\"edge\">\n<title>rotations_G12:e-&gt;DoubleFactorizationOneBody:w</title>\n<path fill=\"none\" stroke=\"black\" d=\"M68,-126C121.23,-126 54.89,-237.88 104.85,-240.94\"/>\n<ellipse fill=\"black\" stroke=\"black\" cx=\"106\" cy=\"-240.97\" rx=\"1\" ry=\"1\"/>\n<text text-anchor=\"middle\" x=\"88.5\" y=\"-234\" font-family=\"Times,serif\" font-size=\"10.00\">35</text>\n</g>\n<!-- sys_G21 -->\n<g id=\"node11\" class=\"node\">\n<title>sys_G21</title>\n<text text-anchor=\"middle\" x=\"35\" y=\"-68.3\" font-family=\"Times,serif\" font-size=\"14.00\">sys[0]</text>\n</g>\n<!-- sys_G21&#45;&gt;DoubleFactorizationOneBody -->\n<g id=\"edge11\" class=\"edge\">\n<title>sys_G21:e-&gt;DoubleFactorizationOneBody:w</title>\n<path fill=\"none\" stroke=\"black\" d=\"M63,-72C93.7,-72 79.97,-106.66 89,-136 94.39,-153.53 88.41,-214.94 104.88,-219.71\"/>\n<ellipse fill=\"black\" stroke=\"black\" cx=\"106.01\" cy=\"-219.86\" rx=\"1\" ry=\"1\"/>\n<text text-anchor=\"middle\" x=\"88.5\" y=\"-139\" font-family=\"Times,serif\" font-size=\"10.00\">5</text>\n</g>\n<!-- sys_G35 -->\n<g id=\"node12\" class=\"node\">\n<title>sys_G35</title>\n<text text-anchor=\"middle\" x=\"35\" y=\"-14.3\" font-family=\"Times,serif\" font-size=\"14.00\">sys[1]</text>\n</g>\n<!-- sys_G35&#45;&gt;DoubleFactorizationOneBody -->\n<g id=\"edge12\" class=\"edge\">\n<title>sys_G35:e-&gt;DoubleFactorizationOneBody:w</title>\n<path fill=\"none\" stroke=\"black\" d=\"M63,-18C67.85,-18 97.73,-177.08 105.71,-196.97\"/>\n<ellipse fill=\"black\" stroke=\"black\" cx=\"106.46\" cy=\"-198.16\" rx=\"1\" ry=\"1\"/>\n<text text-anchor=\"middle\" x=\"88.5\" y=\"-128\" font-family=\"Times,serif\" font-size=\"10.00\">5</text>\n</g>\n<!-- succ_l_G14 -->\n<g id=\"node14\" class=\"node\">\n<title>succ_l_G14</title>\n<text text-anchor=\"middle\" x=\"310\" y=\"-608.3\" font-family=\"Times,serif\" font-size=\"14.00\">succ_l</text>\n</g>\n<!-- DoubleFactorizationOneBody&#45;&gt;succ_l_G14 -->\n<g id=\"edge13\" class=\"edge\">\n<title>DoubleFactorizationOneBody:e-&gt;succ_l_G14:w</title>\n<path fill=\"none\" stroke=\"black\" d=\"M238,-431C257.89,-431 261.07,-598.14 279.66,-611.19\"/>\n<ellipse fill=\"black\" stroke=\"black\" cx=\"281.05\" cy=\"-611.67\" rx=\"1\" ry=\"1\"/>\n<text text-anchor=\"middle\" x=\"256.5\" y=\"-497\" font-family=\"Times,serif\" font-size=\"10.00\">1</text>\n</g>\n<!-- l_ne_zero_G7 -->\n<g id=\"node15\" class=\"node\">\n<title>l_ne_zero_G7</title>\n<text text-anchor=\"middle\" x=\"310\" y=\"-554.3\" font-family=\"Times,serif\" font-size=\"14.00\">l_ne_zero</text>\n</g>\n<!-- DoubleFactorizationOneBody&#45;&gt;l_ne_zero_G7 -->\n<g id=\"edge14\" class=\"edge\">\n<title>DoubleFactorizationOneBody:e-&gt;l_ne_zero_G7:w</title>\n<path fill=\"none\" stroke=\"black\" d=\"M238,-410C305.01,-410 209.49,-554.55 272.68,-557.94\"/>\n<ellipse fill=\"black\" stroke=\"black\" cx=\"274\" cy=\"-557.97\" rx=\"1\" ry=\"1\"/>\n<text text-anchor=\"middle\" x=\"256.5\" y=\"-487\" font-family=\"Times,serif\" font-size=\"10.00\">1</text>\n</g>\n<!-- succ_p_G20 -->\n<g id=\"node16\" class=\"node\">\n<title>succ_p_G20</title>\n<text text-anchor=\"middle\" x=\"310\" y=\"-500.3\" font-family=\"Times,serif\" font-size=\"14.00\">succ_p</text>\n</g>\n<!-- DoubleFactorizationOneBody&#45;&gt;succ_p_G20 -->\n<g id=\"edge15\" class=\"edge\">\n<title>DoubleFactorizationOneBody:e-&gt;succ_p_G20:w</title>\n<path fill=\"none\" stroke=\"black\" d=\"M238,-389C291.98,-389 229.04,-500.88 279.82,-503.94\"/>\n<ellipse fill=\"black\" stroke=\"black\" cx=\"281\" cy=\"-503.97\" rx=\"1\" ry=\"1\"/>\n<text text-anchor=\"middle\" x=\"256.5\" y=\"-399\" font-family=\"Times,serif\" font-size=\"10.00\">1</text>\n</g>\n<!-- p_G2 -->\n<g id=\"node17\" class=\"node\">\n<title>p_G2</title>\n<text text-anchor=\"middle\" x=\"310\" y=\"-446.3\" font-family=\"Times,serif\" font-size=\"14.00\">p</text>\n</g>\n<!-- DoubleFactorizationOneBody&#45;&gt;p_G2 -->\n<g id=\"edge16\" class=\"edge\">\n<title>DoubleFactorizationOneBody:e-&gt;p_G2:w</title>\n<path fill=\"none\" stroke=\"black\" d=\"M238,-368C278.55,-368 242.12,-446.83 279.67,-449.91\"/>\n<ellipse fill=\"black\" stroke=\"black\" cx=\"281\" cy=\"-449.96\" rx=\"1\" ry=\"1\"/>\n<text text-anchor=\"middle\" x=\"256.5\" y=\"-384\" font-family=\"Times,serif\" font-size=\"10.00\">3</text>\n</g>\n<!-- rot_aa_G10 -->\n<g id=\"node18\" class=\"node\">\n<title>rot_aa_G10</title>\n<text text-anchor=\"middle\" x=\"310\" y=\"-392.3\" font-family=\"Times,serif\" font-size=\"14.00\">rot_aa</text>\n</g>\n<!-- DoubleFactorizationOneBody&#45;&gt;rot_aa_G10 -->\n<g id=\"edge17\" class=\"edge\">\n<title>DoubleFactorizationOneBody:e-&gt;rot_aa_G10:w</title>\n<path fill=\"none\" stroke=\"black\" d=\"M238,-347C266.47,-347 253.49,-393.36 279.7,-395.89\"/>\n<ellipse fill=\"black\" stroke=\"black\" cx=\"281\" cy=\"-395.95\" rx=\"1\" ry=\"1\"/>\n<text text-anchor=\"middle\" x=\"256.5\" y=\"-364\" font-family=\"Times,serif\" font-size=\"10.00\">1</text>\n</g>\n<!-- spin_G27 -->\n<g id=\"node19\" class=\"node\">\n<title>spin_G27</title>\n<text text-anchor=\"middle\" x=\"310\" y=\"-338.3\" font-family=\"Times,serif\" font-size=\"14.00\">spin</text>\n</g>\n<!-- DoubleFactorizationOneBody&#45;&gt;spin_G27 -->\n<g id=\"edge18\" class=\"edge\">\n<title>DoubleFactorizationOneBody:e-&gt;spin_G27:w</title>\n<path fill=\"none\" stroke=\"black\" d=\"M238,-326C258,-326 260.98,-340.77 279.64,-341.93\"/>\n<ellipse fill=\"black\" stroke=\"black\" cx=\"281\" cy=\"-341.97\" rx=\"1\" ry=\"1\"/>\n<text text-anchor=\"middle\" x=\"256.5\" y=\"-334\" font-family=\"Times,serif\" font-size=\"10.00\">1</text>\n</g>\n<!-- xi_G3 -->\n<g id=\"node20\" class=\"node\">\n<title>xi_G3</title>\n<text text-anchor=\"middle\" x=\"310\" y=\"-284.3\" font-family=\"Times,serif\" font-size=\"14.00\">xi</text>\n</g>\n<!-- DoubleFactorizationOneBody&#45;&gt;xi_G3 -->\n<g id=\"edge19\" class=\"edge\">\n<title>DoubleFactorizationOneBody:e-&gt;xi_G3:w</title>\n<path fill=\"none\" stroke=\"black\" d=\"M238,-304C258,-304 260.98,-289.23 279.64,-288.07\"/>\n<ellipse fill=\"black\" stroke=\"black\" cx=\"281\" cy=\"-288.03\" rx=\"1\" ry=\"1\"/>\n<text text-anchor=\"middle\" x=\"256.5\" y=\"-301\" font-family=\"Times,serif\" font-size=\"10.00\">3</text>\n</g>\n<!-- offset_G5 -->\n<g id=\"node21\" class=\"node\">\n<title>offset_G5</title>\n<text text-anchor=\"middle\" x=\"310\" y=\"-230.3\" font-family=\"Times,serif\" font-size=\"14.00\">offset</text>\n</g>\n<!-- DoubleFactorizationOneBody&#45;&gt;offset_G5 -->\n<g id=\"edge20\" class=\"edge\">\n<title>DoubleFactorizationOneBody:e-&gt;offset_G5:w</title>\n<path fill=\"none\" stroke=\"black\" d=\"M238,-283C266.47,-283 253.49,-236.64 279.7,-234.11\"/>\n<ellipse fill=\"black\" stroke=\"black\" cx=\"281\" cy=\"-234.05\" rx=\"1\" ry=\"1\"/>\n<text text-anchor=\"middle\" x=\"256.5\" y=\"-272\" font-family=\"Times,serif\" font-size=\"10.00\">8</text>\n</g>\n<!-- rot_G22 -->\n<g id=\"node22\" class=\"node\">\n<title>rot_G22</title>\n<text text-anchor=\"middle\" x=\"310\" y=\"-176.3\" font-family=\"Times,serif\" font-size=\"14.00\">rot</text>\n</g>\n<!-- DoubleFactorizationOneBody&#45;&gt;rot_G22 -->\n<g id=\"edge21\" class=\"edge\">\n<title>DoubleFactorizationOneBody:e-&gt;rot_G22:w</title>\n<path fill=\"none\" stroke=\"black\" d=\"M238,-262C278.55,-262 242.12,-183.17 279.67,-180.09\"/>\n<ellipse fill=\"black\" stroke=\"black\" cx=\"281\" cy=\"-180.04\" rx=\"1\" ry=\"1\"/>\n<text text-anchor=\"middle\" x=\"256.5\" y=\"-253\" font-family=\"Times,serif\" font-size=\"10.00\">8</text>\n</g>\n<!-- rotations_G23 -->\n<g id=\"node23\" class=\"node\">\n<title>rotations_G23</title>\n<text text-anchor=\"middle\" x=\"310\" y=\"-122.3\" font-family=\"Times,serif\" font-size=\"14.00\">rotations</text>\n</g>\n<!-- DoubleFactorizationOneBody&#45;&gt;rotations_G23 -->\n<g id=\"edge22\" class=\"edge\">\n<title>DoubleFactorizationOneBody:e-&gt;rotations_G23:w</title>\n<path fill=\"none\" stroke=\"black\" d=\"M238,-241C291.23,-241 224.89,-129.12 274.85,-126.06\"/>\n<ellipse fill=\"black\" stroke=\"black\" cx=\"276\" cy=\"-126.03\" rx=\"1\" ry=\"1\"/>\n<text text-anchor=\"middle\" x=\"256.5\" y=\"-234\" font-family=\"Times,serif\" font-size=\"10.00\">35</text>\n</g>\n<!-- sys_G28 -->\n<g id=\"node24\" class=\"node\">\n<title>sys_G28</title>\n<text text-anchor=\"middle\" x=\"310\" y=\"-68.3\" font-family=\"Times,serif\" font-size=\"14.00\">sys[0]</text>\n</g>\n<!-- DoubleFactorizationOneBody&#45;&gt;sys_G28 -->\n<g id=\"edge23\" class=\"edge\">\n<title>DoubleFactorizationOneBody:e-&gt;sys_G28:w</title>\n<path fill=\"none\" stroke=\"black\" d=\"M238,-220C257.09,-220 250.39,-154.25 256,-136 264.82,-107.34 251.93,-73.62 279.91,-72.06\"/>\n<ellipse fill=\"black\" stroke=\"black\" cx=\"281\" cy=\"-72.03\" rx=\"1\" ry=\"1\"/>\n<text text-anchor=\"middle\" x=\"256.5\" y=\"-139\" font-family=\"Times,serif\" font-size=\"10.00\">5</text>\n</g>\n<!-- sys_G4 -->\n<g id=\"node25\" class=\"node\">\n<title>sys_G4</title>\n<text text-anchor=\"middle\" x=\"310\" y=\"-14.3\" font-family=\"Times,serif\" font-size=\"14.00\">sys[1]</text>\n</g>\n<!-- DoubleFactorizationOneBody&#45;&gt;sys_G4 -->\n<g id=\"edge24\" class=\"edge\">\n<title>DoubleFactorizationOneBody:e-&gt;sys_G4:w</title>\n<path fill=\"none\" stroke=\"black\" d=\"M238,-199C242.85,-199 272.73,-39.92 280.71,-20.03\"/>\n<ellipse fill=\"black\" stroke=\"black\" cx=\"281.46\" cy=\"-18.84\" rx=\"1\" ry=\"1\"/>\n<text text-anchor=\"middle\" x=\"256.5\" y=\"-128\" font-family=\"Times,serif\" font-size=\"10.00\">5</text>\n</g>\n</g>\n</svg>",
          "text/plain": "<IPython.core.display.SVG object>"
         },
         "metadata": {},
         "output_type": "display_data"
        }
       ],
       "tabbable": null,
       "tooltip": null
      }
     },
     "9f27de9a14424b91a4d0280e2cbc8979": {
      "model_module": "@jupyter-widgets/base",
      "model_module_version": "2.0.0",
      "model_name": "LayoutModel",
      "state": {
       "_model_module": "@jupyter-widgets/base",
       "_model_module_version": "2.0.0",
       "_model_name": "LayoutModel",
       "_view_count": null,
       "_view_module": "@jupyter-widgets/base",
       "_view_module_version": "2.0.0",
       "_view_name": "LayoutView",
       "align_content": null,
       "align_items": null,
       "align_self": null,
       "border_bottom": null,
       "border_left": null,
       "border_right": null,
       "border_top": null,
       "bottom": null,
       "display": null,
       "flex": null,
       "flex_flow": null,
       "grid_area": null,
       "grid_auto_columns": null,
       "grid_auto_flow": null,
       "grid_auto_rows": null,
       "grid_column": null,
       "grid_gap": null,
       "grid_row": null,
       "grid_template_areas": null,
       "grid_template_columns": null,
       "grid_template_rows": null,
       "height": null,
       "justify_content": null,
       "justify_items": null,
       "left": null,
       "margin": null,
       "max_height": null,
       "max_width": null,
       "min_height": null,
       "min_width": null,
       "object_fit": null,
       "object_position": null,
       "order": null,
       "overflow": null,
       "padding": null,
       "right": null,
       "top": null,
       "visibility": null,
       "width": null
      }
     },
     "be15e2ba23b4485db4c8d1360f413dec": {
      "model_module": "@jupyter-widgets/controls",
      "model_module_version": "2.0.0",
      "model_name": "HBoxModel",
      "state": {
       "_dom_classes": [],
       "_model_module": "@jupyter-widgets/controls",
       "_model_module_version": "2.0.0",
       "_model_name": "HBoxModel",
       "_view_count": null,
       "_view_module": "@jupyter-widgets/controls",
       "_view_module_version": "2.0.0",
       "_view_name": "HBoxView",
       "box_style": "",
       "children": [
        "IPY_MODEL_7f861f121ea14d55b1a739c2bcd68b2f"
       ],
       "layout": "IPY_MODEL_05fdedfabb314a0e8b7b213316958a2c",
       "tabbable": null,
       "tooltip": null
      }
     }
    },
    "version_major": 2,
    "version_minor": 0
   }
  }
 },
 "nbformat": 4,
 "nbformat_minor": 5
}
