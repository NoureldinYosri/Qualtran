{
 "cells": [
  {
   "cell_type": "markdown",
   "id": "bf3b37d4",
   "metadata": {
    "cq.autogen": "title_cell"
   },
   "source": [
    "# Double Factorization\n",
    "\n",
    "Bloqs for the double-factorized chemistry Hamiltonian in second quantization.\n",
    "\n",
    "Recall that for the single factorized Hamiltonian we have\n",
    "$$\n",
    "    H = \\sum_{pq}T'_{pq} a_p^\\dagger a_q + \\frac{1}{2} \\sum_l \\left(\\sum_{pq}\n",
    "W_{pq}^{(l)} a_p^\\dagger a_q\\right)^2.\n",
    "$$\n",
    "One arrives at the double factorized (DF) Hamiltonian by further factorizing the\n",
    "$W_{pq}^{(l)}$ terms as\n",
    "$$\n",
    "    W^{(l)}_{pq} = \\sum_{k} U^{(l)}_{pk} f_k^{(l)} U^{(l)*}_{qk},\n",
    "$$\n",
    "so that\n",
    "$$\n",
    "    H = \\sum_{pq}T'_{pq} a_p^\\dagger a_q + \\frac{1}{2} \\sum_l U^{(l)}\\left(\\sum_{k}^{\\Xi^{(l)}}\n",
    "        f_k^{(l)} n_k\\right)^2 U^{(l)\\dagger}\n",
    "$$\n",
    "where $\\Xi^{(l)} $ is the rank of second factorization."
   ]
  },
  {
   "cell_type": "code",
   "execution_count": 1,
   "id": "a326aac6",
   "metadata": {
    "cq.autogen": "top_imports"
   },
   "outputs": [],
   "source": [
    "from qualtran import Bloq, CompositeBloq, BloqBuilder, Signature, Register\n",
    "from qualtran import QBit, QInt, QUInt, QAny\n",
    "from qualtran.drawing import show_bloq, show_call_graph, show_counts_sigma\n",
    "from typing import *\n",
    "import numpy as np\n",
    "import sympy\n",
    "import cirq"
   ]
  },
  {
   "cell_type": "markdown",
   "id": "18073b90",
   "metadata": {
    "cq.autogen": "DoubleFactorizationOneBody.bloq_doc.md"
   },
   "source": [
    "## `DoubleFactorizationOneBody`\n",
    "Block encoding of double factorization one-body Hamiltonian.\n",
    "\n",
    "Implements inner \"half\" of Fig. 15 in the reference. This block encoding is\n",
    "applied twice (with a reflection around the inner state preparation\n",
    "registers) to implement (roughly) the square of this one-body operator.\n",
    "\n",
    "#### Parameters\n",
    " - `num_aux`: Dimension of auxiliary index for double factorized Hamiltonian. Call L in Ref[1].\n",
    " - `num_spin_orb`: The number of spin orbitals. Typically called $N$.\n",
    " - `num_eig`: The total number of eigenvalues.\n",
    " - `num_bits_state_prep`: The number of bits of precision for coherent alias sampling. Called $\\aleph$ in the reference.\n",
    " - `num_bits_rot_aa_outer`: Number of bits of precision for single qubit rotation for amplitude amplification. Called $b_r$ in the reference.\n",
    " - `num_bits_rot`: Number of bits of precision for rotations for amplitude amplification in uniform state preparation. Called $\\beth$ in Ref[1]. \n",
    "\n",
    "#### Registers\n",
    " - `succ_l`: control for success for outer state preparation.\n",
    " - `succ_p`: control for success for inner state preparation, this is reused in second application.\n",
    " - `l_ne_zero`: control for one-body part of Hamiltonian.\n",
    " - `xi`: data register for number storing $\\Xi^{(l)}$.\n",
    " - `p`: Register for inner state preparation.\n",
    " - `rot_aa`: A qubit to be rotated for amplitude amplification.\n",
    " - `spin`: A single qubit register for spin superpositions.\n",
    " - `xi`: Register for rank parameter.\n",
    " - `offset`: Offset for p register.\n",
    " - `rot`: Amplitude amplification angles for inner preparations.\n",
    " - `rotations`: Rotations for basis rotations.\n",
    " - `sys`: The system register. \n",
    "\n",
    "Refererences:\n",
    "    [Even More Efficient Quantum Computations of Chemistry Through Tensor\n",
    "        Hypercontraction](https://arxiv.org/abs/2011.03494)"
   ]
  },
  {
   "cell_type": "code",
   "execution_count": 2,
   "id": "47e59621",
   "metadata": {
    "cq.autogen": "DoubleFactorizationOneBody.bloq_doc.py"
   },
   "outputs": [],
   "source": [
    "from qualtran.bloqs.chemistry.df.double_factorization import DoubleFactorizationOneBody"
   ]
  },
  {
   "cell_type": "markdown",
   "id": "e369745c",
   "metadata": {
    "cq.autogen": "DoubleFactorizationOneBody.example_instances.md"
   },
   "source": [
    "### Example Instances"
   ]
  },
  {
   "cell_type": "code",
   "execution_count": 3,
   "id": "089acc0a",
   "metadata": {
    "cq.autogen": "DoubleFactorizationOneBody.df_one_body"
   },
   "outputs": [],
   "source": [
    "num_bits_state_prep = 12\n",
    "num_bits_rot = 7\n",
    "num_spin_orb = 10\n",
    "num_aux = 50\n",
    "num_eig = num_aux * (num_spin_orb // 2)\n",
    "df_one_body = DoubleFactorizationOneBody(\n",
    "    num_aux=num_aux,\n",
    "    num_spin_orb=num_spin_orb,\n",
    "    num_eig=num_eig,\n",
    "    num_bits_state_prep=num_bits_state_prep,\n",
    "    num_bits_rot=num_bits_rot,\n",
    ")"
   ]
  },
  {
   "cell_type": "markdown",
   "id": "e0a9ff54",
   "metadata": {
    "cq.autogen": "DoubleFactorizationOneBody.graphical_signature.md"
   },
   "source": [
    "#### Graphical Signature"
   ]
  },
  {
   "cell_type": "code",
   "execution_count": 4,
   "id": "27b7abca",
   "metadata": {
    "cq.autogen": "DoubleFactorizationOneBody.graphical_signature.py"
   },
   "outputs": [
    {
     "data": {
      "application/vnd.jupyter.widget-view+json": {
       "model_id": "ec63019e1ca64681b462dec71bcb5725",
       "version_major": 2,
       "version_minor": 0
      },
      "text/plain": [
       "HBox(children=(Output(outputs=({'output_type': 'display_data', 'data': {'text/plain': '<IPython.core.display.M…"
      ]
     },
     "metadata": {},
     "output_type": "display_data"
    }
   ],
   "source": [
    "from qualtran.drawing import show_bloqs\n",
    "show_bloqs([df_one_body],\n",
    "           ['`df_one_body`'])"
   ]
  },
  {
   "cell_type": "markdown",
   "id": "30c20acc",
   "metadata": {
    "cq.autogen": "DoubleFactorizationOneBody.call_graph.md"
   },
   "source": [
    "### Call Graph"
   ]
  },
  {
   "cell_type": "code",
   "execution_count": 5,
   "id": "9312ca7a",
   "metadata": {
    "cq.autogen": "DoubleFactorizationOneBody.call_graph.py"
   },
   "outputs": [
    {
     "data": {
      "image/svg+xml": [
       "<svg xmlns=\"http://www.w3.org/2000/svg\" xmlns:xlink=\"http://www.w3.org/1999/xlink\" width=\"1495pt\" height=\"131pt\" viewBox=\"0.00 0.00 1495.00 131.00\">\n",
       "<g id=\"graph0\" class=\"graph\" transform=\"scale(1 1) rotate(0) translate(4 127)\">\n",
       "<title>counts</title>\n",
       "<polygon fill=\"white\" stroke=\"transparent\" points=\"-4,4 -4,-127 1491,-127 1491,4 -4,4\"/>\n",
       "<!-- b0 -->\n",
       "<g id=\"node1\" class=\"node\">\n",
       "<title>b0</title>\n",
       "<polygon fill=\"none\" stroke=\"black\" points=\"898,-123 383,-123 383,-87 898,-87 898,-123\"/>\n",
       "<text text-anchor=\"start\" x=\"559\" y=\"-106.8\" font-family=\"Times,serif\" font-size=\"14.00\">DoubleFactorizationOneBody</text>\n",
       "<text text-anchor=\"start\" x=\"391\" y=\"-96\" font-family=\"monospace\" font-size=\"10.00\">num_aux=50, num_spin_orb=10, num_eig=250, num_bits_state_prep=12, [2 addtl fields].</text>\n",
       "</g>\n",
       "<!-- b1 -->\n",
       "<g id=\"node2\" class=\"node\">\n",
       "<title>b1</title>\n",
       "<polygon fill=\"none\" stroke=\"black\" points=\"137,-36 0,-36 0,0 137,0 137,-36\"/>\n",
       "<text text-anchor=\"start\" x=\"14\" y=\"-19.8\" font-family=\"Times,serif\" font-size=\"14.00\">ProgRotGateArray†</text>\n",
       "<text text-anchor=\"start\" x=\"8\" y=\"-9\" font-family=\"monospace\" font-size=\"10.00\">subbloq=ProgRotG ...</text>\n",
       "</g>\n",
       "<!-- b0&#45;&gt;b1 -->\n",
       "<g id=\"edge1\" class=\"edge\">\n",
       "<title>b0-&gt;b1</title>\n",
       "<path fill=\"none\" stroke=\"black\" d=\"M411.07,-87C365.98,-82.25 319.13,-76.32 275.5,-69 229.62,-61.3 178.83,-49.09 139.04,-38.66\"/>\n",
       "<polygon fill=\"black\" stroke=\"black\" points=\"139.73,-35.22 129.17,-36.05 137.95,-41.99 139.73,-35.22\"/>\n",
       "<text text-anchor=\"middle\" x=\"279\" y=\"-57.8\" font-family=\"Times,serif\" font-size=\"14.00\">1</text>\n",
       "</g>\n",
       "<!-- b2 -->\n",
       "<g id=\"node3\" class=\"node\">\n",
       "<title>b2</title>\n",
       "<polygon fill=\"none\" stroke=\"black\" points=\"210,-36 155,-36 155,0 210,0 210,-36\"/>\n",
       "<text text-anchor=\"start\" x=\"163\" y=\"-14.3\" font-family=\"Times,serif\" font-size=\"14.00\">Toffoli</text>\n",
       "</g>\n",
       "<!-- b0&#45;&gt;b2 -->\n",
       "<g id=\"edge2\" class=\"edge\">\n",
       "<title>b0-&gt;b2</title>\n",
       "<path fill=\"none\" stroke=\"black\" d=\"M465.24,-86.97C391.24,-77.04 304.51,-61.76 219.87,-36\"/>\n",
       "<polygon fill=\"black\" stroke=\"black\" points=\"220.69,-32.59 210.1,-32.98 218.62,-39.28 220.69,-32.59\"/>\n",
       "<text text-anchor=\"middle\" x=\"348\" y=\"-57.8\" font-family=\"Times,serif\" font-size=\"14.00\">1</text>\n",
       "</g>\n",
       "<!-- b3 -->\n",
       "<g id=\"node4\" class=\"node\">\n",
       "<title>b3</title>\n",
       "<polygon fill=\"none\" stroke=\"black\" points=\"365,-36 228,-36 228,0 365,0 365,-36\"/>\n",
       "<text text-anchor=\"start\" x=\"272.5\" y=\"-19.8\" font-family=\"Times,serif\" font-size=\"14.00\">In-Prep†</text>\n",
       "<text text-anchor=\"start\" x=\"236\" y=\"-9\" font-family=\"monospace\" font-size=\"10.00\">subbloq=InnerPre ...</text>\n",
       "</g>\n",
       "<!-- b0&#45;&gt;b3 -->\n",
       "<g id=\"edge3\" class=\"edge\">\n",
       "<title>b0-&gt;b3</title>\n",
       "<path fill=\"none\" stroke=\"black\" d=\"M571.3,-86.9C514.55,-72.88 434.21,-53.03 375.05,-38.41\"/>\n",
       "<polygon fill=\"black\" stroke=\"black\" points=\"375.55,-34.93 365,-35.93 373.87,-41.72 375.55,-34.93\"/>\n",
       "<text text-anchor=\"middle\" x=\"493\" y=\"-57.8\" font-family=\"Times,serif\" font-size=\"14.00\">1</text>\n",
       "</g>\n",
       "<!-- b4 -->\n",
       "<g id=\"node5\" class=\"node\">\n",
       "<title>b4</title>\n",
       "<polygon fill=\"none\" stroke=\"black\" points=\"898,-36 383,-36 383,0 898,0 898,-36\"/>\n",
       "<text text-anchor=\"start\" x=\"620\" y=\"-19.8\" font-family=\"Times,serif\" font-size=\"14.00\">In-Prep</text>\n",
       "<text text-anchor=\"start\" x=\"391\" y=\"-9\" font-family=\"monospace\" font-size=\"10.00\">num_aux=50, num_spin_orb=10, num_eig=250, num_bits_rot_aa=8, num_bits_state_prep=12</text>\n",
       "</g>\n",
       "<!-- b0&#45;&gt;b4 -->\n",
       "<g id=\"edge4\" class=\"edge\">\n",
       "<title>b0-&gt;b4</title>\n",
       "<path fill=\"none\" stroke=\"black\" d=\"M640.5,-86.8C640.5,-75.16 640.5,-59.55 640.5,-46.24\"/>\n",
       "<polygon fill=\"black\" stroke=\"black\" points=\"644,-46.18 640.5,-36.18 637,-46.18 644,-46.18\"/>\n",
       "<text text-anchor=\"middle\" x=\"644\" y=\"-57.8\" font-family=\"Times,serif\" font-size=\"14.00\">1</text>\n",
       "</g>\n",
       "<!-- b5 -->\n",
       "<g id=\"node6\" class=\"node\">\n",
       "<title>b5</title>\n",
       "<polygon fill=\"none\" stroke=\"black\" points=\"987,-36 916,-36 916,0 987,0 987,-36\"/>\n",
       "<text text-anchor=\"start\" x=\"931.5\" y=\"-19.8\" font-family=\"Times,serif\" font-size=\"14.00\">CSwap</text>\n",
       "<text text-anchor=\"start\" x=\"924\" y=\"-9\" font-family=\"monospace\" font-size=\"10.00\">bitsize=5</text>\n",
       "</g>\n",
       "<!-- b0&#45;&gt;b5 -->\n",
       "<g id=\"edge5\" class=\"edge\">\n",
       "<title>b0-&gt;b5</title>\n",
       "<path fill=\"none\" stroke=\"black\" d=\"M716.52,-86.94C767.66,-74.91 836.67,-57.62 905.98,-35.99\"/>\n",
       "<polygon fill=\"black\" stroke=\"black\" points=\"907.28,-39.25 915.76,-32.91 905.17,-32.58 907.28,-39.25\"/>\n",
       "<text text-anchor=\"middle\" x=\"845\" y=\"-57.8\" font-family=\"Times,serif\" font-size=\"14.00\">2</text>\n",
       "</g>\n",
       "<!-- b6 -->\n",
       "<g id=\"node7\" class=\"node\">\n",
       "<title>b6</title>\n",
       "<polygon fill=\"none\" stroke=\"black\" points=\"1115.5,-36 1005.5,-36 1005.5,0 1115.5,0 1115.5,-36\"/>\n",
       "<text text-anchor=\"start\" x=\"1013.5\" y=\"-19.8\" font-family=\"Times,serif\" font-size=\"14.00\">ArbitraryClifford</text>\n",
       "<text text-anchor=\"start\" x=\"1051\" y=\"-9\" font-family=\"monospace\" font-size=\"10.00\">n=1</text>\n",
       "</g>\n",
       "<!-- b0&#45;&gt;b6 -->\n",
       "<g id=\"edge6\" class=\"edge\">\n",
       "<title>b0-&gt;b6</title>\n",
       "<path fill=\"none\" stroke=\"black\" d=\"M751.87,-86.97C784.38,-81.63 819.93,-75.44 852.5,-69 916.49,-56.35 932.16,-51.59 995.5,-36 995.6,-35.98 995.7,-35.95 995.8,-35.93\"/>\n",
       "<polygon fill=\"black\" stroke=\"black\" points=\"996.35,-39.4 1005.21,-33.58 994.66,-32.6 996.35,-39.4\"/>\n",
       "<text text-anchor=\"middle\" x=\"926\" y=\"-57.8\" font-family=\"Times,serif\" font-size=\"14.00\">1</text>\n",
       "</g>\n",
       "<!-- b7 -->\n",
       "<g id=\"node8\" class=\"node\">\n",
       "<title>b7</title>\n",
       "<polygon fill=\"none\" stroke=\"black\" points=\"1487,-36 1134,-36 1134,0 1487,0 1487,-36\"/>\n",
       "<text text-anchor=\"start\" x=\"1259\" y=\"-19.8\" font-family=\"Times,serif\" font-size=\"14.00\">ProgRotGateArray</text>\n",
       "<text text-anchor=\"start\" x=\"1142\" y=\"-9\" font-family=\"monospace\" font-size=\"10.00\">num_aux=50, num_spin_orb=10, num_eig=250, num_bits_rot=7</text>\n",
       "</g>\n",
       "<!-- b0&#45;&gt;b7 -->\n",
       "<g id=\"edge7\" class=\"edge\">\n",
       "<title>b0-&gt;b7</title>\n",
       "<path fill=\"none\" stroke=\"black\" d=\"M786.23,-86.97C833.25,-81.37 885.59,-75.04 933.5,-69 1013.74,-58.89 1103.5,-47.01 1175.31,-37.36\"/>\n",
       "<polygon fill=\"black\" stroke=\"black\" points=\"1175.87,-40.82 1185.32,-36.02 1174.94,-33.88 1175.87,-40.82\"/>\n",
       "<text text-anchor=\"middle\" x=\"1052\" y=\"-57.8\" font-family=\"Times,serif\" font-size=\"14.00\">1</text>\n",
       "</g>\n",
       "</g>\n",
       "</svg>"
      ],
      "text/plain": [
       "<IPython.core.display.SVG object>"
      ]
     },
     "metadata": {},
     "output_type": "display_data"
    },
    {
     "data": {
      "text/markdown": [
       "#### Counts totals:\n",
       " - `Adjoint(subbloq=InnerPrepareDoubleFactorization(num_aux=50, num_spin_orb=10, num_eig=250, num_bits_rot_aa=8, num_bits_state_prep=12))`: 1\n",
       " - `Adjoint(subbloq=ProgRotGateArray(num_aux=50, num_spin_orb=10, num_eig=250, num_bits_rot=7))`: 1\n",
       " - `ArbitraryClifford(n=1)`: 1\n",
       " - `CSwap(bitsize=5)`: 2\n",
       " - `InnerPrepareDoubleFactorization(num_aux=50, num_spin_orb=10, num_eig=250, num_bits_rot_aa=8, num_bits_state_prep=12)`: 1\n",
       " - `ProgRotGateArray(num_aux=50, num_spin_orb=10, num_eig=250, num_bits_rot=7)`: 1\n",
       " - `Toffoli()`: 1"
      ],
      "text/plain": [
       "<IPython.core.display.Markdown object>"
      ]
     },
     "metadata": {},
     "output_type": "display_data"
    }
   ],
   "source": [
    "from qualtran.resource_counting.generalizers import ignore_split_join\n",
    "df_one_body_g, df_one_body_sigma = df_one_body.call_graph(max_depth=1, generalizer=ignore_split_join)\n",
    "show_call_graph(df_one_body_g)\n",
    "show_counts_sigma(df_one_body_sigma)"
   ]
  },
  {
   "cell_type": "markdown",
   "id": "e763d309",
   "metadata": {
    "cq.autogen": "DoubleFactorizationBlockEncoding.bloq_doc.md"
   },
   "source": [
    "## `DoubleFactorizationBlockEncoding`\n",
    "Block encoding of double factorization Hamiltonian.\n",
    "\n",
    "Implements Fig. 15 in the reference.\n",
    "\n",
    "#### Parameters\n",
    " - `num_spin_orb`: The number of spin orbitals. Typically called $N$.\n",
    " - `num_aux`: Dimension of auxiliary index for double factorized Hamiltonian. Typically called $L$.\n",
    " - `num_eig`: The total number of eigenvalues.\n",
    " - `num_bits_state_prep`: The number of bits of precision for coherent alias sampling. Called $\\aleph$ in Ref[1]. We assume this is the same for both outer and inner state preparations.\n",
    " - `num_bits_rot`: Number of bits of precision for rotations amplification in uniform state preparation. Called $\\beth$ in Ref[1].\n",
    " - `num_bits_rot_aa_outer`: Number of bits of precision for single qubit rotation for amplitude amplification in outer state preparation. Called $b_r$ in the reference. Keeping inner and outer separate for consistency with openfermion.\n",
    " - `num_bits_rot_aa_inner`: Number of bits of precision for single qubit rotation for amplitude amplification in inner state preparation. Called $b_r$ in the reference. \n",
    "\n",
    "#### Registers\n",
    " - `ctrl`: Registers used to control application of Hamiltonian terms / preparation.\n",
    " - `l`: Register for outer state preparation.\n",
    " - `p`: Register for inner state preparation.\n",
    " - `rot_aa`: A qubit to be rotated for amplitude amplification.\n",
    " - `spin`: A single qubit register for spin superpositions.\n",
    " - `xi`: Register for rank parameter.\n",
    " - `offset`: Offset for p register.\n",
    " - `rot`: Amplitude amplification angles for inner preparations.\n",
    " - `rotations`: Rotations for basis rotations.\n",
    " - `sys`: The system register. \n",
    "\n",
    "Refererences:\n",
    "    [Even More Efficient Quantum Computations of Chemistry Through Tensor\n",
    "        hypercontraction](https://arxiv.org/abs/2011.03494)"
   ]
  },
  {
   "cell_type": "code",
   "execution_count": 6,
   "id": "bae3b5ae",
   "metadata": {
    "cq.autogen": "DoubleFactorizationBlockEncoding.bloq_doc.py"
   },
   "outputs": [],
   "source": [
    "from qualtran.bloqs.chemistry.df.double_factorization import DoubleFactorizationBlockEncoding"
   ]
  },
  {
   "cell_type": "markdown",
   "id": "58a9f13e",
   "metadata": {
    "cq.autogen": "DoubleFactorizationBlockEncoding.example_instances.md"
   },
   "source": [
    "### Example Instances"
   ]
  },
  {
   "cell_type": "code",
   "execution_count": 7,
   "id": "156d95bb",
   "metadata": {
    "cq.autogen": "DoubleFactorizationBlockEncoding.df_block_encoding"
   },
   "outputs": [],
   "source": [
    "num_spin_orb = 10\n",
    "num_aux = 50\n",
    "num_eig = num_aux * (num_spin_orb // 2)\n",
    "num_bits_state_prep = 12\n",
    "num_bits_rot = 7\n",
    "df_block_encoding = DoubleFactorizationBlockEncoding(\n",
    "    num_spin_orb=num_spin_orb,\n",
    "    num_aux=num_aux,\n",
    "    num_eig=num_eig,\n",
    "    num_bits_state_prep=num_bits_state_prep,\n",
    "    num_bits_rot_aa_outer=1,\n",
    "    num_bits_rot_aa_inner=7,\n",
    "    num_bits_rot=num_bits_rot,\n",
    ")"
   ]
  },
  {
   "cell_type": "markdown",
   "id": "93d8dd08",
   "metadata": {
    "cq.autogen": "DoubleFactorizationBlockEncoding.graphical_signature.md"
   },
   "source": [
    "#### Graphical Signature"
   ]
  },
  {
   "cell_type": "code",
   "execution_count": 8,
   "id": "85a308fa",
   "metadata": {
    "cq.autogen": "DoubleFactorizationBlockEncoding.graphical_signature.py"
   },
   "outputs": [
    {
     "data": {
      "application/vnd.jupyter.widget-view+json": {
       "model_id": "a57b2a28f10c4177a20c8f5ece7938f8",
       "version_major": 2,
       "version_minor": 0
      },
      "text/plain": [
       "HBox(children=(Output(outputs=({'output_type': 'display_data', 'data': {'text/plain': '<IPython.core.display.M…"
      ]
     },
     "metadata": {},
     "output_type": "display_data"
    }
   ],
   "source": [
    "from qualtran.drawing import show_bloqs\n",
    "show_bloqs([df_block_encoding],\n",
    "           ['`df_block_encoding`'])"
   ]
  },
  {
   "cell_type": "code",
   "execution_count": 9,
   "id": "134b077a",
   "metadata": {},
   "outputs": [
    {
     "data": {
      "image/png": "[encoded data removed]",
      "text/plain": [
       "<Figure size 1400x1000 with 1 Axes>"
      ]
     },
     "metadata": {},
     "output_type": "display_data"
    }
   ],
   "source": [
    "from qualtran.drawing import get_musical_score_data, draw_musical_score\n",
    "msd = get_musical_score_data(df_block_encoding.decompose_bloq())\n",
    "fig, ax = draw_musical_score(msd)\n",
    "fig.set_size_inches(14, 10)"
   ]
  },
  {
   "cell_type": "markdown",
   "id": "1a7b8b68",
   "metadata": {
    "cq.autogen": "DoubleFactorizationBlockEncoding.call_graph.md"
   },
   "source": [
    "### Call Graph"
   ]
  },
  {
   "cell_type": "code",
   "execution_count": 10,
   "id": "2ebe7ba9",
   "metadata": {
    "cq.autogen": "DoubleFactorizationBlockEncoding.call_graph.py"
   },
   "outputs": [
    {
     "data": {
      "image/svg+xml": [
       "<svg xmlns=\"http://www.w3.org/2000/svg\" xmlns:xlink=\"http://www.w3.org/1999/xlink\" width=\"1844pt\" height=\"131pt\" viewBox=\"0.00 0.00 1844.00 131.00\">\n",
       "<g id=\"graph0\" class=\"graph\" transform=\"scale(1 1) rotate(0) translate(4 127)\">\n",
       "<title>counts</title>\n",
       "<polygon fill=\"white\" stroke=\"transparent\" points=\"-4,4 -4,-127 1840,-127 1840,4 -4,4\"/>\n",
       "<!-- b0 -->\n",
       "<g id=\"node1\" class=\"node\">\n",
       "<title>b0</title>\n",
       "<polygon fill=\"none\" stroke=\"black\" points=\"1025,-123 510,-123 510,-87 1025,-87 1025,-123\"/>\n",
       "<text text-anchor=\"start\" x=\"669.5\" y=\"-106.8\" font-family=\"Times,serif\" font-size=\"14.00\">DoubleFactorizationBlockEncoding</text>\n",
       "<text text-anchor=\"start\" x=\"518\" y=\"-96\" font-family=\"monospace\" font-size=\"10.00\">num_spin_orb=10, num_aux=50, num_eig=250, num_bits_state_prep=12, [3 addtl fields].</text>\n",
       "</g>\n",
       "<!-- b1 -->\n",
       "<g id=\"node2\" class=\"node\">\n",
       "<title>b1</title>\n",
       "<polygon fill=\"none\" stroke=\"black\" points=\"137,-36 0,-36 0,0 137,0 137,-36\"/>\n",
       "<text text-anchor=\"start\" x=\"35\" y=\"-19.8\" font-family=\"Times,serif\" font-size=\"14.00\">In_l-data_l†</text>\n",
       "<text text-anchor=\"start\" x=\"8\" y=\"-9\" font-family=\"monospace\" font-size=\"10.00\">subbloq=OutputIn ...</text>\n",
       "</g>\n",
       "<!-- b0&#45;&gt;b1 -->\n",
       "<g id=\"edge1\" class=\"edge\">\n",
       "<title>b0-&gt;b1</title>\n",
       "<path fill=\"none\" stroke=\"black\" d=\"M549.94,-87C432.92,-76.19 286.08,-59.98 147.27,-36.23\"/>\n",
       "<polygon fill=\"black\" stroke=\"black\" points=\"147.74,-32.76 137.29,-34.51 146.54,-39.66 147.74,-32.76\"/>\n",
       "<text text-anchor=\"middle\" x=\"371\" y=\"-57.8\" font-family=\"Times,serif\" font-size=\"14.00\">1</text>\n",
       "</g>\n",
       "<!-- b2 -->\n",
       "<g id=\"node3\" class=\"node\">\n",
       "<title>b2</title>\n",
       "<polygon fill=\"none\" stroke=\"black\" points=\"292,-36 155,-36 155,0 292,0 292,-36\"/>\n",
       "<text text-anchor=\"start\" x=\"192\" y=\"-19.8\" font-family=\"Times,serif\" font-size=\"14.00\">OuterPrep†</text>\n",
       "<text text-anchor=\"start\" x=\"163\" y=\"-9\" font-family=\"monospace\" font-size=\"10.00\">subbloq=OuterPre ...</text>\n",
       "</g>\n",
       "<!-- b0&#45;&gt;b2 -->\n",
       "<g id=\"edge2\" class=\"edge\">\n",
       "<title>b0-&gt;b2</title>\n",
       "<path fill=\"none\" stroke=\"black\" d=\"M632.45,-86.98C541.61,-74.9 418.99,-57.39 302.47,-36.3\"/>\n",
       "<polygon fill=\"black\" stroke=\"black\" points=\"302.76,-32.8 292.3,-34.45 301.51,-39.68 302.76,-32.8\"/>\n",
       "<text text-anchor=\"middle\" x=\"496\" y=\"-57.8\" font-family=\"Times,serif\" font-size=\"14.00\">1</text>\n",
       "</g>\n",
       "<!-- b3 -->\n",
       "<g id=\"node4\" class=\"node\">\n",
       "<title>b3</title>\n",
       "<polygon fill=\"none\" stroke=\"black\" points=\"825,-36 310,-36 310,0 825,0 825,-36\"/>\n",
       "<text text-anchor=\"start\" x=\"486\" y=\"-19.8\" font-family=\"Times,serif\" font-size=\"14.00\">DoubleFactorizationOneBody</text>\n",
       "<text text-anchor=\"start\" x=\"318\" y=\"-9\" font-family=\"monospace\" font-size=\"10.00\">num_aux=50, num_spin_orb=10, num_eig=250, num_bits_state_prep=12, [2 addtl fields].</text>\n",
       "</g>\n",
       "<!-- b0&#45;&gt;b3 -->\n",
       "<g id=\"edge3\" class=\"edge\">\n",
       "<title>b0-&gt;b3</title>\n",
       "<path fill=\"none\" stroke=\"black\" d=\"M727.03,-86.8C695.21,-73.27 650.74,-54.38 616.83,-39.97\"/>\n",
       "<polygon fill=\"black\" stroke=\"black\" points=\"618.14,-36.72 607.57,-36.03 615.41,-43.16 618.14,-36.72\"/>\n",
       "<text text-anchor=\"middle\" x=\"683\" y=\"-57.8\" font-family=\"Times,serif\" font-size=\"14.00\">2</text>\n",
       "</g>\n",
       "<!-- b4 -->\n",
       "<g id=\"node5\" class=\"node\">\n",
       "<title>b4</title>\n",
       "<polygon fill=\"none\" stroke=\"black\" points=\"1094,-36 843,-36 843,0 1094,0 1094,-36\"/>\n",
       "<text text-anchor=\"start\" x=\"940\" y=\"-19.8\" font-family=\"Times,serif\" font-size=\"14.00\">Reflection</text>\n",
       "<text text-anchor=\"start\" x=\"851\" y=\"-9\" font-family=\"monospace\" font-size=\"10.00\">bitsizes=(1, 1, 3, 1), cvs=(1, 1, 0, 0)</text>\n",
       "</g>\n",
       "<!-- b0&#45;&gt;b4 -->\n",
       "<g id=\"edge4\" class=\"edge\">\n",
       "<title>b0-&gt;b4</title>\n",
       "<path fill=\"none\" stroke=\"black\" d=\"M808.18,-86.8C840.16,-73.27 884.84,-54.38 918.92,-39.97\"/>\n",
       "<polygon fill=\"black\" stroke=\"black\" points=\"920.38,-43.15 928.23,-36.03 917.66,-36.7 920.38,-43.15\"/>\n",
       "<text text-anchor=\"middle\" x=\"884\" y=\"-57.8\" font-family=\"Times,serif\" font-size=\"14.00\">1</text>\n",
       "</g>\n",
       "<!-- b5 -->\n",
       "<g id=\"node6\" class=\"node\">\n",
       "<title>b5</title>\n",
       "<polygon fill=\"none\" stroke=\"black\" points=\"1447,-36 1112,-36 1112,0 1447,0 1447,-36\"/>\n",
       "<text text-anchor=\"start\" x=\"1251.5\" y=\"-19.8\" font-family=\"Times,serif\" font-size=\"14.00\">OuterPrep</text>\n",
       "<text text-anchor=\"start\" x=\"1120\" y=\"-9\" font-family=\"monospace\" font-size=\"10.00\">num_aux=50, num_bits_state_prep=12, num_bits_rot_aa=1</text>\n",
       "</g>\n",
       "<!-- b0&#45;&gt;b5 -->\n",
       "<g id=\"edge5\" class=\"edge\">\n",
       "<title>b0-&gt;b5</title>\n",
       "<path fill=\"none\" stroke=\"black\" d=\"M870.19,-86.95C956.06,-72.7 1078.37,-52.39 1166.9,-37.69\"/>\n",
       "<polygon fill=\"black\" stroke=\"black\" points=\"1167.69,-41.11 1176.98,-36.02 1166.55,-34.2 1167.69,-41.11\"/>\n",
       "<text text-anchor=\"middle\" x=\"1058\" y=\"-57.8\" font-family=\"Times,serif\" font-size=\"14.00\">1</text>\n",
       "</g>\n",
       "<!-- b6 -->\n",
       "<g id=\"node7\" class=\"node\">\n",
       "<title>b6</title>\n",
       "<polygon fill=\"none\" stroke=\"black\" points=\"1836,-36 1465,-36 1465,0 1836,0 1836,-36\"/>\n",
       "<text text-anchor=\"start\" x=\"1620.5\" y=\"-19.8\" font-family=\"Times,serif\" font-size=\"14.00\">In_l-data_l</text>\n",
       "<text text-anchor=\"start\" x=\"1473\" y=\"-9\" font-family=\"monospace\" font-size=\"10.00\">num_aux=50, num_spin_orb=10, num_eig=250, num_bits_rot_aa=7</text>\n",
       "</g>\n",
       "<!-- b0&#45;&gt;b6 -->\n",
       "<g id=\"edge6\" class=\"edge\">\n",
       "<title>b0-&gt;b6</title>\n",
       "<path fill=\"none\" stroke=\"black\" d=\"M944.33,-86.98C1094.81,-72.49 1310.3,-51.75 1463.59,-36.99\"/>\n",
       "<polygon fill=\"black\" stroke=\"black\" points=\"1463.97,-40.47 1473.59,-36.03 1463.3,-33.5 1463.97,-40.47\"/>\n",
       "<text text-anchor=\"middle\" x=\"1266\" y=\"-57.8\" font-family=\"Times,serif\" font-size=\"14.00\">1</text>\n",
       "</g>\n",
       "</g>\n",
       "</svg>"
      ],
      "text/plain": [
       "<IPython.core.display.SVG object>"
      ]
     },
     "metadata": {},
     "output_type": "display_data"
    },
    {
     "data": {
      "text/markdown": [
       "#### Counts totals:\n",
       " - `Adjoint(subbloq=OuterPrepareDoubleFactorization(num_aux=50, num_bits_state_prep=12, num_bits_rot_aa=1))`: 1\n",
       " - `Adjoint(subbloq=OutputIndexedData(num_aux=50, num_spin_orb=10, num_eig=250, num_bits_rot_aa=7))`: 1\n",
       " - `DoubleFactorizationOneBody(num_aux=50, num_spin_orb=10, num_eig=250, num_bits_state_prep=12, num_bits_rot_aa=7, num_bits_rot=7)`: 2\n",
       " - `OuterPrepareDoubleFactorization(num_aux=50, num_bits_state_prep=12, num_bits_rot_aa=1)`: 1\n",
       " - `OutputIndexedData(num_aux=50, num_spin_orb=10, num_eig=250, num_bits_rot_aa=7)`: 1\n",
       " - `Reflection(bitsizes=(1, 1, 3, 1), cvs=(1, 1, 0, 0))`: 1"
      ],
      "text/plain": [
       "<IPython.core.display.Markdown object>"
      ]
     },
     "metadata": {},
     "output_type": "display_data"
    }
   ],
   "source": [
    "from qualtran.resource_counting.generalizers import ignore_split_join\n",
    "df_block_encoding_g, df_block_encoding_sigma = df_block_encoding.call_graph(max_depth=1, generalizer=ignore_split_join)\n",
    "show_call_graph(df_block_encoding_g)\n",
    "show_counts_sigma(df_block_encoding_sigma)"
   ]
  }
 ],
 "metadata": {
  "kernelspec": {
   "display_name": "Python 3",
   "language": "python",
   "name": "python3"
  },
  "language_info": {
   "codemirror_mode": {
    "name": "ipython",
    "version": 3
   },
   "file_extension": ".py",
   "mimetype": "text/x-python",
   "name": "python",
   "nbconvert_exporter": "python",
   "pygments_lexer": "ipython3",
   "version": "3.11.8"
  },
  "widgets": {
   "application/vnd.jupyter.widget-state+json": {
    "state": {
     "28a8d90bd9844d3b9ce08280aab615fa": {
      "model_module": "@jupyter-widgets/base",
      "model_module_version": "2.0.0",
      "model_name": "LayoutModel",
      "state": {
       "_model_module": "@jupyter-widgets/base",
       "_model_module_version": "2.0.0",
       "_model_name": "LayoutModel",
       "_view_count": null,
       "_view_module": "@jupyter-widgets/base",
       "_view_module_version": "2.0.0",
       "_view_name": "LayoutView",
       "align_content": null,
       "align_items": null,
       "align_self": null,
       "border_bottom": null,
       "border_left": null,
       "border_right": null,
       "border_top": null,
       "bottom": null,
       "display": null,
       "flex": null,
       "flex_flow": null,
       "grid_area": null,
       "grid_auto_columns": null,
       "grid_auto_flow": null,
       "grid_auto_rows": null,
       "grid_column": null,
       "grid_gap": null,
       "grid_row": null,
       "grid_template_areas": null,
       "grid_template_columns": null,
       "grid_template_rows": null,
       "height": null,
       "justify_content": null,
       "justify_items": null,
       "left": null,
       "margin": null,
       "max_height": null,
       "max_width": null,
       "min_height": null,
       "min_width": null,
       "object_fit": null,
       "object_position": null,
       "order": null,
       "overflow": null,
       "padding": null,
       "right": null,
       "top": null,
       "visibility": null,
       "width": null
      }
     },
     "3bc11bc1e03b4588991c4bc0c7b6d997": {
      "model_module": "@jupyter-widgets/output",
      "model_module_version": "1.0.0",
      "model_name": "OutputModel",
      "state": {
       "_dom_classes": [],
       "_model_module": "@jupyter-widgets/output",
       "_model_module_version": "1.0.0",
       "_model_name": "OutputModel",
       "_view_count": null,
       "_view_module": "@jupyter-widgets/output",
       "_view_module_version": "1.0.0",
       "_view_name": "OutputView",
       "layout": "IPY_MODEL_4c8d2988acb544288967b2ee4bcd2f69",
       "msg_id": "",
       "outputs": [
        {
         "data": {
          "text/markdown": "`df_block_encoding`",
          "text/plain": "<IPython.core.display.Markdown object>"
         },
         "metadata": {},
         "output_type": "display_data"
        },
        {
         "data": {
          "image/svg+xml": "<svg xmlns=\"http://www.w3.org/2000/svg\" xmlns:xlink=\"http://www.w3.org/1999/xlink\" width=\"264pt\" height=\"746pt\" viewBox=\"0.00 0.00 264.00 746.00\">\n<g id=\"graph0\" class=\"graph\" transform=\"scale(1 1) rotate(0) translate(4 742)\">\n<title>my_graph</title>\n<polygon fill=\"white\" stroke=\"transparent\" points=\"-4,4 -4,-742 260,-742 260,4 -4,4\"/>\n<!-- ctrl_G29 -->\n<g id=\"node1\" class=\"node\">\n<title>ctrl_G29</title>\n<text text-anchor=\"middle\" x=\"32\" y=\"-716.3\" font-family=\"Times,serif\" font-size=\"14.00\">ctrl[0]</text>\n</g>\n<!-- DoubleFactorizationBlockEncoding -->\n<g id=\"node15\" class=\"node\">\n<title>DoubleFactorizationBlockEncoding</title>\n<polygon fill=\"none\" stroke=\"black\" points=\"101,-516 101,-533 155,-533 155,-516 101,-516\"/>\n<text text-anchor=\"start\" x=\"105\" y=\"-522\" font-family=\"Times,serif\" font-size=\"10.00\">DoubleFa..</text>\n<polygon fill=\"none\" stroke=\"black\" points=\"101,-495 101,-516 155,-516 155,-495 101,-495\"/>\n<text text-anchor=\"start\" x=\"111\" y=\"-501.8\" font-family=\"Times,serif\" font-size=\"14.00\">ctrl[0]</text>\n<polygon fill=\"none\" stroke=\"black\" points=\"101,-474 101,-495 155,-495 155,-474 101,-474\"/>\n<text text-anchor=\"start\" x=\"111\" y=\"-480.8\" font-family=\"Times,serif\" font-size=\"14.00\">ctrl[1]</text>\n<polygon fill=\"none\" stroke=\"black\" points=\"101,-453 101,-474 155,-474 155,-453 101,-453\"/>\n<text text-anchor=\"start\" x=\"111\" y=\"-459.8\" font-family=\"Times,serif\" font-size=\"14.00\">ctrl[2]</text>\n<polygon fill=\"none\" stroke=\"black\" points=\"101,-432 101,-453 155,-453 155,-432 101,-432\"/>\n<text text-anchor=\"start\" x=\"111\" y=\"-438.8\" font-family=\"Times,serif\" font-size=\"14.00\">ctrl[3]</text>\n<polygon fill=\"none\" stroke=\"black\" points=\"101,-411 101,-432 155,-432 155,-411 101,-411\"/>\n<text text-anchor=\"start\" x=\"126\" y=\"-417.8\" font-family=\"Times,serif\" font-size=\"14.00\">l</text>\n<polygon fill=\"none\" stroke=\"black\" points=\"101,-390 101,-411 155,-411 155,-390 101,-390\"/>\n<text text-anchor=\"start\" x=\"124.5\" y=\"-396.8\" font-family=\"Times,serif\" font-size=\"14.00\">p</text>\n<polygon fill=\"none\" stroke=\"black\" points=\"101,-369 101,-390 155,-390 155,-369 101,-369\"/>\n<text text-anchor=\"start\" x=\"116.5\" y=\"-375.8\" font-family=\"Times,serif\" font-size=\"14.00\">spin</text>\n<polygon fill=\"none\" stroke=\"black\" points=\"101,-348 101,-369 155,-369 155,-348 101,-348\"/>\n<text text-anchor=\"start\" x=\"111\" y=\"-354.8\" font-family=\"Times,serif\" font-size=\"14.00\">rot_aa</text>\n<polygon fill=\"none\" stroke=\"black\" points=\"101,-327 101,-348 155,-348 155,-327 101,-327\"/>\n<text text-anchor=\"start\" x=\"122.5\" y=\"-333.8\" font-family=\"Times,serif\" font-size=\"14.00\">xi</text>\n<polygon fill=\"none\" stroke=\"black\" points=\"101,-306 101,-327 155,-327 155,-306 101,-306\"/>\n<text text-anchor=\"start\" x=\"112.5\" y=\"-312.8\" font-family=\"Times,serif\" font-size=\"14.00\">offset</text>\n<polygon fill=\"none\" stroke=\"black\" points=\"101,-285 101,-306 155,-306 155,-285 101,-285\"/>\n<text text-anchor=\"start\" x=\"120\" y=\"-291.8\" font-family=\"Times,serif\" font-size=\"14.00\">rot</text>\n<polygon fill=\"none\" stroke=\"black\" points=\"101,-264 101,-285 155,-285 155,-264 101,-264\"/>\n<text text-anchor=\"start\" x=\"104\" y=\"-270.8\" font-family=\"Times,serif\" font-size=\"14.00\">rotations</text>\n<polygon fill=\"none\" stroke=\"black\" points=\"101,-243 101,-264 155,-264 155,-243 101,-243\"/>\n<text text-anchor=\"start\" x=\"111\" y=\"-249.8\" font-family=\"Times,serif\" font-size=\"14.00\">sys[0]</text>\n<polygon fill=\"none\" stroke=\"black\" points=\"101,-222 101,-243 155,-243 155,-222 101,-222\"/>\n<text text-anchor=\"start\" x=\"111\" y=\"-228.8\" font-family=\"Times,serif\" font-size=\"14.00\">sys[1]</text>\n</g>\n<!-- ctrl_G29&#45;&gt;DoubleFactorizationBlockEncoding -->\n<g id=\"edge1\" class=\"edge\">\n<title>ctrl_G29:e-&gt;DoubleFactorizationBlockEncoding:w</title>\n<path fill=\"none\" stroke=\"black\" d=\"M60,-720C83.45,-720 77.22,-519.17 98.82,-506.61\"/>\n<ellipse fill=\"black\" stroke=\"black\" cx=\"100.04\" cy=\"-506.27\" rx=\"1\" ry=\"1\"/>\n<text text-anchor=\"middle\" x=\"82.5\" y=\"-596\" font-family=\"Times,serif\" font-size=\"10.00\">1</text>\n</g>\n<!-- ctrl_G4 -->\n<g id=\"node2\" class=\"node\">\n<title>ctrl_G4</title>\n<text text-anchor=\"middle\" x=\"32\" y=\"-662.3\" font-family=\"Times,serif\" font-size=\"14.00\">ctrl[1]</text>\n</g>\n<!-- ctrl_G4&#45;&gt;DoubleFactorizationBlockEncoding -->\n<g id=\"edge2\" class=\"edge\">\n<title>ctrl_G4:e-&gt;DoubleFactorizationBlockEncoding:w</title>\n<path fill=\"none\" stroke=\"black\" d=\"M60,-666C79.82,-666 80.37,-498.86 98.68,-485.81\"/>\n<ellipse fill=\"black\" stroke=\"black\" cx=\"100.06\" cy=\"-485.33\" rx=\"1\" ry=\"1\"/>\n<text text-anchor=\"middle\" x=\"82.5\" y=\"-562\" font-family=\"Times,serif\" font-size=\"10.00\">1</text>\n</g>\n<!-- ctrl_G8 -->\n<g id=\"node3\" class=\"node\">\n<title>ctrl_G8</title>\n<text text-anchor=\"middle\" x=\"32\" y=\"-608.3\" font-family=\"Times,serif\" font-size=\"14.00\">ctrl[2]</text>\n</g>\n<!-- ctrl_G8&#45;&gt;DoubleFactorizationBlockEncoding -->\n<g id=\"edge3\" class=\"edge\">\n<title>ctrl_G8:e-&gt;DoubleFactorizationBlockEncoding:w</title>\n<path fill=\"none\" stroke=\"black\" d=\"M60,-612C93.17,-612 74.11,-572.96 83,-541 87.49,-524.86 83.81,-469.54 98.67,-464.39\"/>\n<ellipse fill=\"black\" stroke=\"black\" cx=\"100.01\" cy=\"-464.16\" rx=\"1\" ry=\"1\"/>\n<text text-anchor=\"middle\" x=\"82.5\" y=\"-547\" font-family=\"Times,serif\" font-size=\"10.00\">1</text>\n</g>\n<!-- ctrl_G16 -->\n<g id=\"node4\" class=\"node\">\n<title>ctrl_G16</title>\n<text text-anchor=\"middle\" x=\"32\" y=\"-554.3\" font-family=\"Times,serif\" font-size=\"14.00\">ctrl[3]</text>\n</g>\n<!-- ctrl_G16&#45;&gt;DoubleFactorizationBlockEncoding -->\n<g id=\"edge4\" class=\"edge\">\n<title>ctrl_G16:e-&gt;DoubleFactorizationBlockEncoding:w</title>\n<path fill=\"none\" stroke=\"black\" d=\"M60,-558C113.52,-558 48.56,-446.12 98.84,-443.06\"/>\n<ellipse fill=\"black\" stroke=\"black\" cx=\"100\" cy=\"-443.03\" rx=\"1\" ry=\"1\"/>\n<text text-anchor=\"middle\" x=\"82.5\" y=\"-539\" font-family=\"Times,serif\" font-size=\"10.00\">1</text>\n</g>\n<!-- l_G2 -->\n<g id=\"node5\" class=\"node\">\n<title>l_G2</title>\n<text text-anchor=\"middle\" x=\"32\" y=\"-500.3\" font-family=\"Times,serif\" font-size=\"14.00\">l</text>\n</g>\n<!-- l_G2&#45;&gt;DoubleFactorizationBlockEncoding -->\n<g id=\"edge5\" class=\"edge\">\n<title>l_G2:e-&gt;DoubleFactorizationBlockEncoding:w</title>\n<path fill=\"none\" stroke=\"black\" d=\"M60,-504C99.95,-504 61.8,-425.17 98.7,-422.09\"/>\n<ellipse fill=\"black\" stroke=\"black\" cx=\"100\" cy=\"-422.04\" rx=\"1\" ry=\"1\"/>\n<text text-anchor=\"middle\" x=\"82.5\" y=\"-440\" font-family=\"Times,serif\" font-size=\"10.00\">6</text>\n</g>\n<!-- p_G9 -->\n<g id=\"node6\" class=\"node\">\n<title>p_G9</title>\n<text text-anchor=\"middle\" x=\"32\" y=\"-446.3\" font-family=\"Times,serif\" font-size=\"14.00\">p</text>\n</g>\n<!-- p_G9&#45;&gt;DoubleFactorizationBlockEncoding -->\n<g id=\"edge6\" class=\"edge\">\n<title>p_G9:e-&gt;DoubleFactorizationBlockEncoding:w</title>\n<path fill=\"none\" stroke=\"black\" d=\"M60,-450C87.62,-450 73.43,-403.64 98.77,-401.11\"/>\n<ellipse fill=\"black\" stroke=\"black\" cx=\"100\" cy=\"-401.05\" rx=\"1\" ry=\"1\"/>\n<text text-anchor=\"middle\" x=\"82.5\" y=\"-422\" font-family=\"Times,serif\" font-size=\"10.00\">3</text>\n</g>\n<!-- spin_G18 -->\n<g id=\"node7\" class=\"node\">\n<title>spin_G18</title>\n<text text-anchor=\"middle\" x=\"32\" y=\"-392.3\" font-family=\"Times,serif\" font-size=\"14.00\">spin</text>\n</g>\n<!-- spin_G18&#45;&gt;DoubleFactorizationBlockEncoding -->\n<g id=\"edge7\" class=\"edge\">\n<title>spin_G18:e-&gt;DoubleFactorizationBlockEncoding:w</title>\n<path fill=\"none\" stroke=\"black\" d=\"M60,-396C78.8,-396 81.27,-381.23 98.79,-380.07\"/>\n<ellipse fill=\"black\" stroke=\"black\" cx=\"100\" cy=\"-380.03\" rx=\"1\" ry=\"1\"/>\n<text text-anchor=\"middle\" x=\"82.5\" y=\"-389\" font-family=\"Times,serif\" font-size=\"10.00\">1</text>\n</g>\n<!-- rot_aa_G23 -->\n<g id=\"node8\" class=\"node\">\n<title>rot_aa_G23</title>\n<text text-anchor=\"middle\" x=\"32\" y=\"-338.3\" font-family=\"Times,serif\" font-size=\"14.00\">rot_aa</text>\n</g>\n<!-- rot_aa_G23&#45;&gt;DoubleFactorizationBlockEncoding -->\n<g id=\"edge8\" class=\"edge\">\n<title>rot_aa_G23:e-&gt;DoubleFactorizationBlockEncoding:w</title>\n<path fill=\"none\" stroke=\"black\" d=\"M60,-342C78.8,-342 81.27,-356.77 98.79,-357.93\"/>\n<ellipse fill=\"black\" stroke=\"black\" cx=\"100\" cy=\"-357.97\" rx=\"1\" ry=\"1\"/>\n<text text-anchor=\"middle\" x=\"82.5\" y=\"-354\" font-family=\"Times,serif\" font-size=\"10.00\">1</text>\n</g>\n<!-- xi_G34 -->\n<g id=\"node9\" class=\"node\">\n<title>xi_G34</title>\n<text text-anchor=\"middle\" x=\"32\" y=\"-284.3\" font-family=\"Times,serif\" font-size=\"14.00\">xi</text>\n</g>\n<!-- xi_G34&#45;&gt;DoubleFactorizationBlockEncoding -->\n<g id=\"edge9\" class=\"edge\">\n<title>xi_G34:e-&gt;DoubleFactorizationBlockEncoding:w</title>\n<path fill=\"none\" stroke=\"black\" d=\"M60,-288C87.62,-288 73.43,-334.36 98.77,-336.89\"/>\n<ellipse fill=\"black\" stroke=\"black\" cx=\"100\" cy=\"-336.95\" rx=\"1\" ry=\"1\"/>\n<text text-anchor=\"middle\" x=\"82.5\" y=\"-324\" font-family=\"Times,serif\" font-size=\"10.00\">3</text>\n</g>\n<!-- offset_G14 -->\n<g id=\"node10\" class=\"node\">\n<title>offset_G14</title>\n<text text-anchor=\"middle\" x=\"32\" y=\"-230.3\" font-family=\"Times,serif\" font-size=\"14.00\">offset</text>\n</g>\n<!-- offset_G14&#45;&gt;DoubleFactorizationBlockEncoding -->\n<g id=\"edge10\" class=\"edge\">\n<title>offset_G14:e-&gt;DoubleFactorizationBlockEncoding:w</title>\n<path fill=\"none\" stroke=\"black\" d=\"M60,-234C99.95,-234 61.8,-312.83 98.7,-315.91\"/>\n<ellipse fill=\"black\" stroke=\"black\" cx=\"100\" cy=\"-315.96\" rx=\"1\" ry=\"1\"/>\n<text text-anchor=\"middle\" x=\"82.5\" y=\"-305\" font-family=\"Times,serif\" font-size=\"10.00\">8</text>\n</g>\n<!-- rot_G26 -->\n<g id=\"node11\" class=\"node\">\n<title>rot_G26</title>\n<text text-anchor=\"middle\" x=\"32\" y=\"-176.3\" font-family=\"Times,serif\" font-size=\"14.00\">rot</text>\n</g>\n<!-- rot_G26&#45;&gt;DoubleFactorizationBlockEncoding -->\n<g id=\"edge11\" class=\"edge\">\n<title>rot_G26:e-&gt;DoubleFactorizationBlockEncoding:w</title>\n<path fill=\"none\" stroke=\"black\" d=\"M60,-180C113.52,-180 48.56,-291.88 98.84,-294.94\"/>\n<ellipse fill=\"black\" stroke=\"black\" cx=\"100\" cy=\"-294.97\" rx=\"1\" ry=\"1\"/>\n<text text-anchor=\"middle\" x=\"82.5\" y=\"-288\" font-family=\"Times,serif\" font-size=\"10.00\">7</text>\n</g>\n<!-- rotations_G40 -->\n<g id=\"node12\" class=\"node\">\n<title>rotations_G40</title>\n<text text-anchor=\"middle\" x=\"32\" y=\"-122.3\" font-family=\"Times,serif\" font-size=\"14.00\">rotations</text>\n</g>\n<!-- rotations_G40&#45;&gt;DoubleFactorizationBlockEncoding -->\n<g id=\"edge12\" class=\"edge\">\n<title>rotations_G40:e-&gt;DoubleFactorizationBlockEncoding:w</title>\n<path fill=\"none\" stroke=\"black\" d=\"M64,-126C96.24,-126 75.15,-164.73 83,-196 87.16,-212.58 83.52,-269.32 99.01,-273.73\"/>\n<ellipse fill=\"black\" stroke=\"black\" cx=\"100.01\" cy=\"-273.86\" rx=\"1\" ry=\"1\"/>\n<text text-anchor=\"middle\" x=\"82.5\" y=\"-199\" font-family=\"Times,serif\" font-size=\"10.00\">35</text>\n</g>\n<!-- sys_G0 -->\n<g id=\"node13\" class=\"node\">\n<title>sys_G0</title>\n<text text-anchor=\"middle\" x=\"32\" y=\"-68.3\" font-family=\"Times,serif\" font-size=\"14.00\">sys[0]</text>\n</g>\n<!-- sys_G0&#45;&gt;DoubleFactorizationBlockEncoding -->\n<g id=\"edge13\" class=\"edge\">\n<title>sys_G0:e-&gt;DoubleFactorizationBlockEncoding:w</title>\n<path fill=\"none\" stroke=\"black\" d=\"M60,-72C90.23,-72 75.56,-106.71 83,-136 89.3,-160.8 75.49,-248.05 98.93,-252.8\"/>\n<ellipse fill=\"black\" stroke=\"black\" cx=\"100\" cy=\"-252.9\" rx=\"1\" ry=\"1\"/>\n<text text-anchor=\"middle\" x=\"82.5\" y=\"-139\" font-family=\"Times,serif\" font-size=\"10.00\">5</text>\n</g>\n<!-- sys_G15 -->\n<g id=\"node14\" class=\"node\">\n<title>sys_G15</title>\n<text text-anchor=\"middle\" x=\"32\" y=\"-14.3\" font-family=\"Times,serif\" font-size=\"14.00\">sys[1]</text>\n</g>\n<!-- sys_G15&#45;&gt;DoubleFactorizationBlockEncoding -->\n<g id=\"edge14\" class=\"edge\">\n<title>sys_G15:e-&gt;DoubleFactorizationBlockEncoding:w</title>\n<path fill=\"none\" stroke=\"black\" d=\"M60,-18C109.95,-18 73.63,-78.94 83,-128 87.26,-150.32 78.15,-227 98.9,-231.77\"/>\n<ellipse fill=\"black\" stroke=\"black\" cx=\"100.01\" cy=\"-231.89\" rx=\"1\" ry=\"1\"/>\n<text text-anchor=\"middle\" x=\"82.5\" y=\"-131\" font-family=\"Times,serif\" font-size=\"10.00\">5</text>\n</g>\n<!-- ctrl_G6 -->\n<g id=\"node16\" class=\"node\">\n<title>ctrl_G6</title>\n<text text-anchor=\"middle\" x=\"224\" y=\"-716.3\" font-family=\"Times,serif\" font-size=\"14.00\">ctrl[0]</text>\n</g>\n<!-- DoubleFactorizationBlockEncoding&#45;&gt;ctrl_G6 -->\n<g id=\"edge15\" class=\"edge\">\n<title>DoubleFactorizationBlockEncoding:e-&gt;ctrl_G6:w</title>\n<path fill=\"none\" stroke=\"black\" d=\"M155,-506C178.45,-506 172.22,-706.83 193.82,-719.39\"/>\n<ellipse fill=\"black\" stroke=\"black\" cx=\"195.04\" cy=\"-719.73\" rx=\"1\" ry=\"1\"/>\n<text text-anchor=\"middle\" x=\"173.5\" y=\"-596\" font-family=\"Times,serif\" font-size=\"10.00\">1</text>\n</g>\n<!-- ctrl_G25 -->\n<g id=\"node17\" class=\"node\">\n<title>ctrl_G25</title>\n<text text-anchor=\"middle\" x=\"224\" y=\"-662.3\" font-family=\"Times,serif\" font-size=\"14.00\">ctrl[1]</text>\n</g>\n<!-- DoubleFactorizationBlockEncoding&#45;&gt;ctrl_G25 -->\n<g id=\"edge16\" class=\"edge\">\n<title>DoubleFactorizationBlockEncoding:e-&gt;ctrl_G25:w</title>\n<path fill=\"none\" stroke=\"black\" d=\"M155,-485C174.82,-485 175.37,-652.14 193.68,-665.19\"/>\n<ellipse fill=\"black\" stroke=\"black\" cx=\"195.06\" cy=\"-665.67\" rx=\"1\" ry=\"1\"/>\n<text text-anchor=\"middle\" x=\"173.5\" y=\"-562\" font-family=\"Times,serif\" font-size=\"10.00\">1</text>\n</g>\n<!-- ctrl_G30 -->\n<g id=\"node18\" class=\"node\">\n<title>ctrl_G30</title>\n<text text-anchor=\"middle\" x=\"224\" y=\"-608.3\" font-family=\"Times,serif\" font-size=\"14.00\">ctrl[2]</text>\n</g>\n<!-- DoubleFactorizationBlockEncoding&#45;&gt;ctrl_G30 -->\n<g id=\"edge17\" class=\"edge\">\n<title>DoubleFactorizationBlockEncoding:e-&gt;ctrl_G30:w</title>\n<path fill=\"none\" stroke=\"black\" d=\"M155,-464C172.57,-464 168.29,-524.07 173,-541 181.69,-572.21 163.71,-610.17 193.75,-611.94\"/>\n<ellipse fill=\"black\" stroke=\"black\" cx=\"195\" cy=\"-611.97\" rx=\"1\" ry=\"1\"/>\n<text text-anchor=\"middle\" x=\"173.5\" y=\"-547\" font-family=\"Times,serif\" font-size=\"10.00\">1</text>\n</g>\n<!-- ctrl_G39 -->\n<g id=\"node19\" class=\"node\">\n<title>ctrl_G39</title>\n<text text-anchor=\"middle\" x=\"224\" y=\"-554.3\" font-family=\"Times,serif\" font-size=\"14.00\">ctrl[3]</text>\n</g>\n<!-- DoubleFactorizationBlockEncoding&#45;&gt;ctrl_G39 -->\n<g id=\"edge18\" class=\"edge\">\n<title>DoubleFactorizationBlockEncoding:e-&gt;ctrl_G39:w</title>\n<path fill=\"none\" stroke=\"black\" d=\"M155,-443C208.52,-443 143.56,-554.88 193.84,-557.94\"/>\n<ellipse fill=\"black\" stroke=\"black\" cx=\"195\" cy=\"-557.97\" rx=\"1\" ry=\"1\"/>\n<text text-anchor=\"middle\" x=\"173.5\" y=\"-539\" font-family=\"Times,serif\" font-size=\"10.00\">1</text>\n</g>\n<!-- l_G20 -->\n<g id=\"node20\" class=\"node\">\n<title>l_G20</title>\n<text text-anchor=\"middle\" x=\"224\" y=\"-500.3\" font-family=\"Times,serif\" font-size=\"14.00\">l</text>\n</g>\n<!-- DoubleFactorizationBlockEncoding&#45;&gt;l_G20 -->\n<g id=\"edge19\" class=\"edge\">\n<title>DoubleFactorizationBlockEncoding:e-&gt;l_G20:w</title>\n<path fill=\"none\" stroke=\"black\" d=\"M155,-422C194.95,-422 156.8,-500.83 193.7,-503.91\"/>\n<ellipse fill=\"black\" stroke=\"black\" cx=\"195\" cy=\"-503.96\" rx=\"1\" ry=\"1\"/>\n<text text-anchor=\"middle\" x=\"173.5\" y=\"-440\" font-family=\"Times,serif\" font-size=\"10.00\">6</text>\n</g>\n<!-- p_G21 -->\n<g id=\"node21\" class=\"node\">\n<title>p_G21</title>\n<text text-anchor=\"middle\" x=\"224\" y=\"-446.3\" font-family=\"Times,serif\" font-size=\"14.00\">p</text>\n</g>\n<!-- DoubleFactorizationBlockEncoding&#45;&gt;p_G21 -->\n<g id=\"edge20\" class=\"edge\">\n<title>DoubleFactorizationBlockEncoding:e-&gt;p_G21:w</title>\n<path fill=\"none\" stroke=\"black\" d=\"M155,-401C182.62,-401 168.43,-447.36 193.77,-449.89\"/>\n<ellipse fill=\"black\" stroke=\"black\" cx=\"195\" cy=\"-449.95\" rx=\"1\" ry=\"1\"/>\n<text text-anchor=\"middle\" x=\"173.5\" y=\"-422\" font-family=\"Times,serif\" font-size=\"10.00\">3</text>\n</g>\n<!-- spin_G22 -->\n<g id=\"node22\" class=\"node\">\n<title>spin_G22</title>\n<text text-anchor=\"middle\" x=\"224\" y=\"-392.3\" font-family=\"Times,serif\" font-size=\"14.00\">spin</text>\n</g>\n<!-- DoubleFactorizationBlockEncoding&#45;&gt;spin_G22 -->\n<g id=\"edge21\" class=\"edge\">\n<title>DoubleFactorizationBlockEncoding:e-&gt;spin_G22:w</title>\n<path fill=\"none\" stroke=\"black\" d=\"M155,-380C173.8,-380 176.27,-394.77 193.79,-395.93\"/>\n<ellipse fill=\"black\" stroke=\"black\" cx=\"195\" cy=\"-395.97\" rx=\"1\" ry=\"1\"/>\n<text text-anchor=\"middle\" x=\"173.5\" y=\"-389\" font-family=\"Times,serif\" font-size=\"10.00\">1</text>\n</g>\n<!-- rot_aa_G33 -->\n<g id=\"node23\" class=\"node\">\n<title>rot_aa_G33</title>\n<text text-anchor=\"middle\" x=\"224\" y=\"-338.3\" font-family=\"Times,serif\" font-size=\"14.00\">rot_aa</text>\n</g>\n<!-- DoubleFactorizationBlockEncoding&#45;&gt;rot_aa_G33 -->\n<g id=\"edge22\" class=\"edge\">\n<title>DoubleFactorizationBlockEncoding:e-&gt;rot_aa_G33:w</title>\n<path fill=\"none\" stroke=\"black\" d=\"M155,-358C173.8,-358 176.27,-343.23 193.79,-342.07\"/>\n<ellipse fill=\"black\" stroke=\"black\" cx=\"195\" cy=\"-342.03\" rx=\"1\" ry=\"1\"/>\n<text text-anchor=\"middle\" x=\"173.5\" y=\"-354\" font-family=\"Times,serif\" font-size=\"10.00\">1</text>\n</g>\n<!-- xi_G7 -->\n<g id=\"node24\" class=\"node\">\n<title>xi_G7</title>\n<text text-anchor=\"middle\" x=\"224\" y=\"-284.3\" font-family=\"Times,serif\" font-size=\"14.00\">xi</text>\n</g>\n<!-- DoubleFactorizationBlockEncoding&#45;&gt;xi_G7 -->\n<g id=\"edge23\" class=\"edge\">\n<title>DoubleFactorizationBlockEncoding:e-&gt;xi_G7:w</title>\n<path fill=\"none\" stroke=\"black\" d=\"M155,-337C182.62,-337 168.43,-290.64 193.77,-288.11\"/>\n<ellipse fill=\"black\" stroke=\"black\" cx=\"195\" cy=\"-288.05\" rx=\"1\" ry=\"1\"/>\n<text text-anchor=\"middle\" x=\"173.5\" y=\"-324\" font-family=\"Times,serif\" font-size=\"10.00\">3</text>\n</g>\n<!-- offset_G19 -->\n<g id=\"node25\" class=\"node\">\n<title>offset_G19</title>\n<text text-anchor=\"middle\" x=\"224\" y=\"-230.3\" font-family=\"Times,serif\" font-size=\"14.00\">offset</text>\n</g>\n<!-- DoubleFactorizationBlockEncoding&#45;&gt;offset_G19 -->\n<g id=\"edge24\" class=\"edge\">\n<title>DoubleFactorizationBlockEncoding:e-&gt;offset_G19:w</title>\n<path fill=\"none\" stroke=\"black\" d=\"M155,-316C194.95,-316 156.8,-237.17 193.7,-234.09\"/>\n<ellipse fill=\"black\" stroke=\"black\" cx=\"195\" cy=\"-234.04\" rx=\"1\" ry=\"1\"/>\n<text text-anchor=\"middle\" x=\"173.5\" y=\"-305\" font-family=\"Times,serif\" font-size=\"10.00\">8</text>\n</g>\n<!-- rot_G41 -->\n<g id=\"node26\" class=\"node\">\n<title>rot_G41</title>\n<text text-anchor=\"middle\" x=\"224\" y=\"-176.3\" font-family=\"Times,serif\" font-size=\"14.00\">rot</text>\n</g>\n<!-- DoubleFactorizationBlockEncoding&#45;&gt;rot_G41 -->\n<g id=\"edge25\" class=\"edge\">\n<title>DoubleFactorizationBlockEncoding:e-&gt;rot_G41:w</title>\n<path fill=\"none\" stroke=\"black\" d=\"M155,-295C208.52,-295 143.56,-183.12 193.84,-180.06\"/>\n<ellipse fill=\"black\" stroke=\"black\" cx=\"195\" cy=\"-180.03\" rx=\"1\" ry=\"1\"/>\n<text text-anchor=\"middle\" x=\"173.5\" y=\"-288\" font-family=\"Times,serif\" font-size=\"10.00\">7</text>\n</g>\n<!-- rotations_G10 -->\n<g id=\"node27\" class=\"node\">\n<title>rotations_G10</title>\n<text text-anchor=\"middle\" x=\"224\" y=\"-122.3\" font-family=\"Times,serif\" font-size=\"14.00\">rotations</text>\n</g>\n<!-- DoubleFactorizationBlockEncoding&#45;&gt;rotations_G10 -->\n<g id=\"edge26\" class=\"edge\">\n<title>DoubleFactorizationBlockEncoding:e-&gt;rotations_G10:w</title>\n<path fill=\"none\" stroke=\"black\" d=\"M155,-274C172.79,-274 168.67,-213.25 173,-196 180.66,-165.47 160.74,-127.81 189.82,-126.06\"/>\n<ellipse fill=\"black\" stroke=\"black\" cx=\"191\" cy=\"-126.03\" rx=\"1\" ry=\"1\"/>\n<text text-anchor=\"middle\" x=\"173.5\" y=\"-199\" font-family=\"Times,serif\" font-size=\"10.00\">35</text>\n</g>\n<!-- sys_G5 -->\n<g id=\"node28\" class=\"node\">\n<title>sys_G5</title>\n<text text-anchor=\"middle\" x=\"224\" y=\"-68.3\" font-family=\"Times,serif\" font-size=\"14.00\">sys[0]</text>\n</g>\n<!-- DoubleFactorizationBlockEncoding&#45;&gt;sys_G5 -->\n<g id=\"edge27\" class=\"edge\">\n<title>DoubleFactorizationBlockEncoding:e-&gt;sys_G5:w</title>\n<path fill=\"none\" stroke=\"black\" d=\"M155,-253C181.31,-253 166.52,-161.5 173,-136 180.27,-107.39 166.45,-73.62 193.95,-72.06\"/>\n<ellipse fill=\"black\" stroke=\"black\" cx=\"195\" cy=\"-72.03\" rx=\"1\" ry=\"1\"/>\n<text text-anchor=\"middle\" x=\"173.5\" y=\"-139\" font-family=\"Times,serif\" font-size=\"10.00\">5</text>\n</g>\n<!-- sys_G24 -->\n<g id=\"node29\" class=\"node\">\n<title>sys_G24</title>\n<text text-anchor=\"middle\" x=\"224\" y=\"-14.3\" font-family=\"Times,serif\" font-size=\"14.00\">sys[1]</text>\n</g>\n<!-- DoubleFactorizationBlockEncoding&#45;&gt;sys_G24 -->\n<g id=\"edge28\" class=\"edge\">\n<title>DoubleFactorizationBlockEncoding:e-&gt;sys_G24:w</title>\n<path fill=\"none\" stroke=\"black\" d=\"M155,-232C178.45,-232 168.6,-151.04 173,-128 182.24,-79.61 147.04,-19.66 194,-18.03\"/>\n<ellipse fill=\"black\" stroke=\"black\" cx=\"195\" cy=\"-18.02\" rx=\"1\" ry=\"1\"/>\n<text text-anchor=\"middle\" x=\"173.5\" y=\"-131\" font-family=\"Times,serif\" font-size=\"10.00\">5</text>\n</g>\n</g>\n</svg>",
          "text/plain": "<IPython.core.display.SVG object>"
         },
         "metadata": {},
         "output_type": "display_data"
        }
       ],
       "tabbable": null,
       "tooltip": null
      }
     },
     "4c8d2988acb544288967b2ee4bcd2f69": {
      "model_module": "@jupyter-widgets/base",
      "model_module_version": "2.0.0",
      "model_name": "LayoutModel",
      "state": {
       "_model_module": "@jupyter-widgets/base",
       "_model_module_version": "2.0.0",
       "_model_name": "LayoutModel",
       "_view_count": null,
       "_view_module": "@jupyter-widgets/base",
       "_view_module_version": "2.0.0",
       "_view_name": "LayoutView",
       "align_content": null,
       "align_items": null,
       "align_self": null,
       "border_bottom": null,
       "border_left": null,
       "border_right": null,
       "border_top": null,
       "bottom": null,
       "display": null,
       "flex": null,
       "flex_flow": null,
       "grid_area": null,
       "grid_auto_columns": null,
       "grid_auto_flow": null,
       "grid_auto_rows": null,
       "grid_column": null,
       "grid_gap": null,
       "grid_row": null,
       "grid_template_areas": null,
       "grid_template_columns": null,
       "grid_template_rows": null,
       "height": null,
       "justify_content": null,
       "justify_items": null,
       "left": null,
       "margin": null,
       "max_height": null,
       "max_width": null,
       "min_height": null,
       "min_width": null,
       "object_fit": null,
       "object_position": null,
       "order": null,
       "overflow": null,
       "padding": null,
       "right": null,
       "top": null,
       "visibility": null,
       "width": null
      }
     },
     "5c75c425d6034c0fa688bc596b43d9d9": {
      "model_module": "@jupyter-widgets/output",
      "model_module_version": "1.0.0",
      "model_name": "OutputModel",
      "state": {
       "_dom_classes": [],
       "_model_module": "@jupyter-widgets/output",
       "_model_module_version": "1.0.0",
       "_model_name": "OutputModel",
       "_view_count": null,
       "_view_module": "@jupyter-widgets/output",
       "_view_module_version": "1.0.0",
       "_view_name": "OutputView",
       "layout": "IPY_MODEL_28a8d90bd9844d3b9ce08280aab615fa",
       "msg_id": "",
       "outputs": [
        {
         "data": {
          "text/markdown": "`df_one_body`",
          "text/plain": "<IPython.core.display.Markdown object>"
         },
         "metadata": {},
         "output_type": "display_data"
        },
        {
         "data": {
          "image/svg+xml": "<svg xmlns=\"http://www.w3.org/2000/svg\" xmlns:xlink=\"http://www.w3.org/1999/xlink\" width=\"282pt\" height=\"638pt\" viewBox=\"0.00 0.00 282.00 638.00\">\n<g id=\"graph0\" class=\"graph\" transform=\"scale(1 1) rotate(0) translate(4 634)\">\n<title>my_graph</title>\n<polygon fill=\"white\" stroke=\"transparent\" points=\"-4,4 -4,-634 278,-634 278,4 -4,4\"/>\n<!-- succ_l_G5 -->\n<g id=\"node1\" class=\"node\">\n<title>succ_l_G5</title>\n<text text-anchor=\"middle\" x=\"35\" y=\"-608.3\" font-family=\"Times,serif\" font-size=\"14.00\">succ_l</text>\n</g>\n<!-- DoubleFactorizationOneBody -->\n<g id=\"node13\" class=\"node\">\n<title>DoubleFactorizationOneBody</title>\n<polygon fill=\"none\" stroke=\"black\" points=\"107,-441 107,-458 167,-458 167,-441 107,-441\"/>\n<text text-anchor=\"start\" x=\"116\" y=\"-447\" font-family=\"Times,serif\" font-size=\"10.00\">$B[H_1]$</text>\n<polygon fill=\"none\" stroke=\"black\" points=\"107,-420 107,-441 167,-441 167,-420 107,-420\"/>\n<text text-anchor=\"start\" x=\"119.5\" y=\"-426.8\" font-family=\"Times,serif\" font-size=\"14.00\">succ_l</text>\n<polygon fill=\"none\" stroke=\"black\" points=\"107,-399 107,-420 167,-420 167,-399 107,-399\"/>\n<text text-anchor=\"start\" x=\"110\" y=\"-405.8\" font-family=\"Times,serif\" font-size=\"14.00\">l_ne_zero</text>\n<polygon fill=\"none\" stroke=\"black\" points=\"107,-378 107,-399 167,-399 167,-378 107,-378\"/>\n<text text-anchor=\"start\" x=\"118\" y=\"-384.8\" font-family=\"Times,serif\" font-size=\"14.00\">succ_p</text>\n<polygon fill=\"none\" stroke=\"black\" points=\"107,-357 107,-378 167,-378 167,-357 107,-357\"/>\n<text text-anchor=\"start\" x=\"133.5\" y=\"-363.8\" font-family=\"Times,serif\" font-size=\"14.00\">p</text>\n<polygon fill=\"none\" stroke=\"black\" points=\"107,-336 107,-357 167,-357 167,-336 107,-336\"/>\n<text text-anchor=\"start\" x=\"120\" y=\"-342.8\" font-family=\"Times,serif\" font-size=\"14.00\">rot_aa</text>\n<polygon fill=\"none\" stroke=\"black\" points=\"107,-315 107,-336 167,-336 167,-315 107,-315\"/>\n<text text-anchor=\"start\" x=\"125.5\" y=\"-321.8\" font-family=\"Times,serif\" font-size=\"14.00\">spin</text>\n<polygon fill=\"none\" stroke=\"black\" points=\"107,-294 107,-315 167,-315 167,-294 107,-294\"/>\n<text text-anchor=\"start\" x=\"131.5\" y=\"-300.8\" font-family=\"Times,serif\" font-size=\"14.00\">xi</text>\n<polygon fill=\"none\" stroke=\"black\" points=\"107,-273 107,-294 167,-294 167,-273 107,-273\"/>\n<text text-anchor=\"start\" x=\"121.5\" y=\"-279.8\" font-family=\"Times,serif\" font-size=\"14.00\">offset</text>\n<polygon fill=\"none\" stroke=\"black\" points=\"107,-252 107,-273 167,-273 167,-252 107,-252\"/>\n<text text-anchor=\"start\" x=\"129\" y=\"-258.8\" font-family=\"Times,serif\" font-size=\"14.00\">rot</text>\n<polygon fill=\"none\" stroke=\"black\" points=\"107,-231 107,-252 167,-252 167,-231 107,-231\"/>\n<text text-anchor=\"start\" x=\"113\" y=\"-237.8\" font-family=\"Times,serif\" font-size=\"14.00\">rotations</text>\n<polygon fill=\"none\" stroke=\"black\" points=\"107,-210 107,-231 167,-231 167,-210 107,-210\"/>\n<text text-anchor=\"start\" x=\"120\" y=\"-216.8\" font-family=\"Times,serif\" font-size=\"14.00\">sys[0]</text>\n<polygon fill=\"none\" stroke=\"black\" points=\"107,-189 107,-210 167,-210 167,-189 107,-189\"/>\n<text text-anchor=\"start\" x=\"120\" y=\"-195.8\" font-family=\"Times,serif\" font-size=\"14.00\">sys[1]</text>\n</g>\n<!-- succ_l_G5&#45;&gt;DoubleFactorizationOneBody -->\n<g id=\"edge1\" class=\"edge\">\n<title>succ_l_G5:e-&gt;DoubleFactorizationOneBody:w</title>\n<path fill=\"none\" stroke=\"black\" d=\"M63,-612C82.89,-612 86.07,-444.86 104.66,-431.81\"/>\n<ellipse fill=\"black\" stroke=\"black\" cx=\"106.05\" cy=\"-431.33\" rx=\"1\" ry=\"1\"/>\n<text text-anchor=\"middle\" x=\"88.5\" y=\"-497\" font-family=\"Times,serif\" font-size=\"10.00\">1</text>\n</g>\n<!-- l_ne_zero_G31 -->\n<g id=\"node2\" class=\"node\">\n<title>l_ne_zero_G31</title>\n<text text-anchor=\"middle\" x=\"35\" y=\"-554.3\" font-family=\"Times,serif\" font-size=\"14.00\">l_ne_zero</text>\n</g>\n<!-- l_ne_zero_G31&#45;&gt;DoubleFactorizationOneBody -->\n<g id=\"edge2\" class=\"edge\">\n<title>l_ne_zero_G31:e-&gt;DoubleFactorizationOneBody:w</title>\n<path fill=\"none\" stroke=\"black\" d=\"M70,-558C137.01,-558 41.49,-413.45 104.68,-410.06\"/>\n<ellipse fill=\"black\" stroke=\"black\" cx=\"106\" cy=\"-410.03\" rx=\"1\" ry=\"1\"/>\n<text text-anchor=\"middle\" x=\"88.5\" y=\"-487\" font-family=\"Times,serif\" font-size=\"10.00\">1</text>\n</g>\n<!-- succ_p_G4 -->\n<g id=\"node3\" class=\"node\">\n<title>succ_p_G4</title>\n<text text-anchor=\"middle\" x=\"35\" y=\"-500.3\" font-family=\"Times,serif\" font-size=\"14.00\">succ_p</text>\n</g>\n<!-- succ_p_G4&#45;&gt;DoubleFactorizationOneBody -->\n<g id=\"edge3\" class=\"edge\">\n<title>succ_p_G4:e-&gt;DoubleFactorizationOneBody:w</title>\n<path fill=\"none\" stroke=\"black\" d=\"M63,-504C116.98,-504 54.04,-392.12 104.82,-389.06\"/>\n<ellipse fill=\"black\" stroke=\"black\" cx=\"106\" cy=\"-389.03\" rx=\"1\" ry=\"1\"/>\n<text text-anchor=\"middle\" x=\"88.5\" y=\"-399\" font-family=\"Times,serif\" font-size=\"10.00\">1</text>\n</g>\n<!-- p_G12 -->\n<g id=\"node4\" class=\"node\">\n<title>p_G12</title>\n<text text-anchor=\"middle\" x=\"35\" y=\"-446.3\" font-family=\"Times,serif\" font-size=\"14.00\">p</text>\n</g>\n<!-- p_G12&#45;&gt;DoubleFactorizationOneBody -->\n<g id=\"edge4\" class=\"edge\">\n<title>p_G12:e-&gt;DoubleFactorizationOneBody:w</title>\n<path fill=\"none\" stroke=\"black\" d=\"M63,-450C103.55,-450 67.12,-371.17 104.67,-368.09\"/>\n<ellipse fill=\"black\" stroke=\"black\" cx=\"106\" cy=\"-368.04\" rx=\"1\" ry=\"1\"/>\n<text text-anchor=\"middle\" x=\"88.5\" y=\"-384\" font-family=\"Times,serif\" font-size=\"10.00\">3</text>\n</g>\n<!-- rot_aa_G24 -->\n<g id=\"node5\" class=\"node\">\n<title>rot_aa_G24</title>\n<text text-anchor=\"middle\" x=\"35\" y=\"-392.3\" font-family=\"Times,serif\" font-size=\"14.00\">rot_aa</text>\n</g>\n<!-- rot_aa_G24&#45;&gt;DoubleFactorizationOneBody -->\n<g id=\"edge5\" class=\"edge\">\n<title>rot_aa_G24:e-&gt;DoubleFactorizationOneBody:w</title>\n<path fill=\"none\" stroke=\"black\" d=\"M63,-396C91.47,-396 78.49,-349.64 104.7,-347.11\"/>\n<ellipse fill=\"black\" stroke=\"black\" cx=\"106\" cy=\"-347.05\" rx=\"1\" ry=\"1\"/>\n<text text-anchor=\"middle\" x=\"88.5\" y=\"-364\" font-family=\"Times,serif\" font-size=\"10.00\">1</text>\n</g>\n<!-- spin_G19 -->\n<g id=\"node6\" class=\"node\">\n<title>spin_G19</title>\n<text text-anchor=\"middle\" x=\"35\" y=\"-338.3\" font-family=\"Times,serif\" font-size=\"14.00\">spin</text>\n</g>\n<!-- spin_G19&#45;&gt;DoubleFactorizationOneBody -->\n<g id=\"edge6\" class=\"edge\">\n<title>spin_G19:e-&gt;DoubleFactorizationOneBody:w</title>\n<path fill=\"none\" stroke=\"black\" d=\"M63,-342C83,-342 85.98,-327.23 104.64,-326.07\"/>\n<ellipse fill=\"black\" stroke=\"black\" cx=\"106\" cy=\"-326.03\" rx=\"1\" ry=\"1\"/>\n<text text-anchor=\"middle\" x=\"88.5\" y=\"-334\" font-family=\"Times,serif\" font-size=\"10.00\">1</text>\n</g>\n<!-- xi_G30 -->\n<g id=\"node7\" class=\"node\">\n<title>xi_G30</title>\n<text text-anchor=\"middle\" x=\"35\" y=\"-284.3\" font-family=\"Times,serif\" font-size=\"14.00\">xi</text>\n</g>\n<!-- xi_G30&#45;&gt;DoubleFactorizationOneBody -->\n<g id=\"edge7\" class=\"edge\">\n<title>xi_G30:e-&gt;DoubleFactorizationOneBody:w</title>\n<path fill=\"none\" stroke=\"black\" d=\"M63,-288C83,-288 85.98,-302.77 104.64,-303.93\"/>\n<ellipse fill=\"black\" stroke=\"black\" cx=\"106\" cy=\"-303.97\" rx=\"1\" ry=\"1\"/>\n<text text-anchor=\"middle\" x=\"88.5\" y=\"-301\" font-family=\"Times,serif\" font-size=\"10.00\">3</text>\n</g>\n<!-- offset_G17 -->\n<g id=\"node8\" class=\"node\">\n<title>offset_G17</title>\n<text text-anchor=\"middle\" x=\"35\" y=\"-230.3\" font-family=\"Times,serif\" font-size=\"14.00\">offset</text>\n</g>\n<!-- offset_G17&#45;&gt;DoubleFactorizationOneBody -->\n<g id=\"edge8\" class=\"edge\">\n<title>offset_G17:e-&gt;DoubleFactorizationOneBody:w</title>\n<path fill=\"none\" stroke=\"black\" d=\"M63,-234C91.47,-234 78.49,-280.36 104.7,-282.89\"/>\n<ellipse fill=\"black\" stroke=\"black\" cx=\"106\" cy=\"-282.95\" rx=\"1\" ry=\"1\"/>\n<text text-anchor=\"middle\" x=\"88.5\" y=\"-272\" font-family=\"Times,serif\" font-size=\"10.00\">8</text>\n</g>\n<!-- rot_G2 -->\n<g id=\"node9\" class=\"node\">\n<title>rot_G2</title>\n<text text-anchor=\"middle\" x=\"35\" y=\"-176.3\" font-family=\"Times,serif\" font-size=\"14.00\">rot</text>\n</g>\n<!-- rot_G2&#45;&gt;DoubleFactorizationOneBody -->\n<g id=\"edge9\" class=\"edge\">\n<title>rot_G2:e-&gt;DoubleFactorizationOneBody:w</title>\n<path fill=\"none\" stroke=\"black\" d=\"M63,-180C103.55,-180 67.12,-258.83 104.67,-261.91\"/>\n<ellipse fill=\"black\" stroke=\"black\" cx=\"106\" cy=\"-261.96\" rx=\"1\" ry=\"1\"/>\n<text text-anchor=\"middle\" x=\"88.5\" y=\"-253\" font-family=\"Times,serif\" font-size=\"10.00\">8</text>\n</g>\n<!-- rotations_G34 -->\n<g id=\"node10\" class=\"node\">\n<title>rotations_G34</title>\n<text text-anchor=\"middle\" x=\"35\" y=\"-122.3\" font-family=\"Times,serif\" font-size=\"14.00\">rotations</text>\n</g>\n<!-- rotations_G34&#45;&gt;DoubleFactorizationOneBody -->\n<g id=\"edge10\" class=\"edge\">\n<title>rotations_G34:e-&gt;DoubleFactorizationOneBody:w</title>\n<path fill=\"none\" stroke=\"black\" d=\"M68,-126C121.23,-126 54.89,-237.88 104.85,-240.94\"/>\n<ellipse fill=\"black\" stroke=\"black\" cx=\"106\" cy=\"-240.97\" rx=\"1\" ry=\"1\"/>\n<text text-anchor=\"middle\" x=\"88.5\" y=\"-234\" font-family=\"Times,serif\" font-size=\"10.00\">35</text>\n</g>\n<!-- sys_G0 -->\n<g id=\"node11\" class=\"node\">\n<title>sys_G0</title>\n<text text-anchor=\"middle\" x=\"35\" y=\"-68.3\" font-family=\"Times,serif\" font-size=\"14.00\">sys[0]</text>\n</g>\n<!-- sys_G0&#45;&gt;DoubleFactorizationOneBody -->\n<g id=\"edge11\" class=\"edge\">\n<title>sys_G0:e-&gt;DoubleFactorizationOneBody:w</title>\n<path fill=\"none\" stroke=\"black\" d=\"M63,-72C93.7,-72 79.97,-106.66 89,-136 94.39,-153.53 88.41,-214.94 104.88,-219.71\"/>\n<ellipse fill=\"black\" stroke=\"black\" cx=\"106.01\" cy=\"-219.86\" rx=\"1\" ry=\"1\"/>\n<text text-anchor=\"middle\" x=\"88.5\" y=\"-139\" font-family=\"Times,serif\" font-size=\"10.00\">5</text>\n</g>\n<!-- sys_G18 -->\n<g id=\"node12\" class=\"node\">\n<title>sys_G18</title>\n<text text-anchor=\"middle\" x=\"35\" y=\"-14.3\" font-family=\"Times,serif\" font-size=\"14.00\">sys[1]</text>\n</g>\n<!-- sys_G18&#45;&gt;DoubleFactorizationOneBody -->\n<g id=\"edge12\" class=\"edge\">\n<title>sys_G18:e-&gt;DoubleFactorizationOneBody:w</title>\n<path fill=\"none\" stroke=\"black\" d=\"M63,-18C67.85,-18 97.73,-177.08 105.71,-196.97\"/>\n<ellipse fill=\"black\" stroke=\"black\" cx=\"106.46\" cy=\"-198.16\" rx=\"1\" ry=\"1\"/>\n<text text-anchor=\"middle\" x=\"88.5\" y=\"-128\" font-family=\"Times,serif\" font-size=\"10.00\">5</text>\n</g>\n<!-- succ_l_G15 -->\n<g id=\"node14\" class=\"node\">\n<title>succ_l_G15</title>\n<text text-anchor=\"middle\" x=\"239\" y=\"-608.3\" font-family=\"Times,serif\" font-size=\"14.00\">succ_l</text>\n</g>\n<!-- DoubleFactorizationOneBody&#45;&gt;succ_l_G15 -->\n<g id=\"edge13\" class=\"edge\">\n<title>DoubleFactorizationOneBody:e-&gt;succ_l_G15:w</title>\n<path fill=\"none\" stroke=\"black\" d=\"M167,-431C186.89,-431 190.07,-598.14 208.66,-611.19\"/>\n<ellipse fill=\"black\" stroke=\"black\" cx=\"210.05\" cy=\"-611.67\" rx=\"1\" ry=\"1\"/>\n<text text-anchor=\"middle\" x=\"185.5\" y=\"-497\" font-family=\"Times,serif\" font-size=\"10.00\">1</text>\n</g>\n<!-- l_ne_zero_G1 -->\n<g id=\"node15\" class=\"node\">\n<title>l_ne_zero_G1</title>\n<text text-anchor=\"middle\" x=\"239\" y=\"-554.3\" font-family=\"Times,serif\" font-size=\"14.00\">l_ne_zero</text>\n</g>\n<!-- DoubleFactorizationOneBody&#45;&gt;l_ne_zero_G1 -->\n<g id=\"edge14\" class=\"edge\">\n<title>DoubleFactorizationOneBody:e-&gt;l_ne_zero_G1:w</title>\n<path fill=\"none\" stroke=\"black\" d=\"M167,-410C234.01,-410 138.49,-554.55 201.68,-557.94\"/>\n<ellipse fill=\"black\" stroke=\"black\" cx=\"203\" cy=\"-557.97\" rx=\"1\" ry=\"1\"/>\n<text text-anchor=\"middle\" x=\"185.5\" y=\"-487\" font-family=\"Times,serif\" font-size=\"10.00\">1</text>\n</g>\n<!-- succ_p_G11 -->\n<g id=\"node16\" class=\"node\">\n<title>succ_p_G11</title>\n<text text-anchor=\"middle\" x=\"239\" y=\"-500.3\" font-family=\"Times,serif\" font-size=\"14.00\">succ_p</text>\n</g>\n<!-- DoubleFactorizationOneBody&#45;&gt;succ_p_G11 -->\n<g id=\"edge15\" class=\"edge\">\n<title>DoubleFactorizationOneBody:e-&gt;succ_p_G11:w</title>\n<path fill=\"none\" stroke=\"black\" d=\"M167,-389C220.98,-389 158.04,-500.88 208.82,-503.94\"/>\n<ellipse fill=\"black\" stroke=\"black\" cx=\"210\" cy=\"-503.97\" rx=\"1\" ry=\"1\"/>\n<text text-anchor=\"middle\" x=\"185.5\" y=\"-399\" font-family=\"Times,serif\" font-size=\"10.00\">1</text>\n</g>\n<!-- p_G22 -->\n<g id=\"node17\" class=\"node\">\n<title>p_G22</title>\n<text text-anchor=\"middle\" x=\"239\" y=\"-446.3\" font-family=\"Times,serif\" font-size=\"14.00\">p</text>\n</g>\n<!-- DoubleFactorizationOneBody&#45;&gt;p_G22 -->\n<g id=\"edge16\" class=\"edge\">\n<title>DoubleFactorizationOneBody:e-&gt;p_G22:w</title>\n<path fill=\"none\" stroke=\"black\" d=\"M167,-368C207.55,-368 171.12,-446.83 208.67,-449.91\"/>\n<ellipse fill=\"black\" stroke=\"black\" cx=\"210\" cy=\"-449.96\" rx=\"1\" ry=\"1\"/>\n<text text-anchor=\"middle\" x=\"185.5\" y=\"-384\" font-family=\"Times,serif\" font-size=\"10.00\">3</text>\n</g>\n<!-- rot_aa_G29 -->\n<g id=\"node18\" class=\"node\">\n<title>rot_aa_G29</title>\n<text text-anchor=\"middle\" x=\"239\" y=\"-392.3\" font-family=\"Times,serif\" font-size=\"14.00\">rot_aa</text>\n</g>\n<!-- DoubleFactorizationOneBody&#45;&gt;rot_aa_G29 -->\n<g id=\"edge17\" class=\"edge\">\n<title>DoubleFactorizationOneBody:e-&gt;rot_aa_G29:w</title>\n<path fill=\"none\" stroke=\"black\" d=\"M167,-347C195.47,-347 182.49,-393.36 208.7,-395.89\"/>\n<ellipse fill=\"black\" stroke=\"black\" cx=\"210\" cy=\"-395.95\" rx=\"1\" ry=\"1\"/>\n<text text-anchor=\"middle\" x=\"185.5\" y=\"-364\" font-family=\"Times,serif\" font-size=\"10.00\">1</text>\n</g>\n<!-- spin_G25 -->\n<g id=\"node19\" class=\"node\">\n<title>spin_G25</title>\n<text text-anchor=\"middle\" x=\"239\" y=\"-338.3\" font-family=\"Times,serif\" font-size=\"14.00\">spin</text>\n</g>\n<!-- DoubleFactorizationOneBody&#45;&gt;spin_G25 -->\n<g id=\"edge18\" class=\"edge\">\n<title>DoubleFactorizationOneBody:e-&gt;spin_G25:w</title>\n<path fill=\"none\" stroke=\"black\" d=\"M167,-326C187,-326 189.98,-340.77 208.64,-341.93\"/>\n<ellipse fill=\"black\" stroke=\"black\" cx=\"210\" cy=\"-341.97\" rx=\"1\" ry=\"1\"/>\n<text text-anchor=\"middle\" x=\"185.5\" y=\"-334\" font-family=\"Times,serif\" font-size=\"10.00\">1</text>\n</g>\n<!-- xi_G8 -->\n<g id=\"node20\" class=\"node\">\n<title>xi_G8</title>\n<text text-anchor=\"middle\" x=\"239\" y=\"-284.3\" font-family=\"Times,serif\" font-size=\"14.00\">xi</text>\n</g>\n<!-- DoubleFactorizationOneBody&#45;&gt;xi_G8 -->\n<g id=\"edge19\" class=\"edge\">\n<title>DoubleFactorizationOneBody:e-&gt;xi_G8:w</title>\n<path fill=\"none\" stroke=\"black\" d=\"M167,-304C187,-304 189.98,-289.23 208.64,-288.07\"/>\n<ellipse fill=\"black\" stroke=\"black\" cx=\"210\" cy=\"-288.03\" rx=\"1\" ry=\"1\"/>\n<text text-anchor=\"middle\" x=\"185.5\" y=\"-301\" font-family=\"Times,serif\" font-size=\"10.00\">3</text>\n</g>\n<!-- offset_G21 -->\n<g id=\"node21\" class=\"node\">\n<title>offset_G21</title>\n<text text-anchor=\"middle\" x=\"239\" y=\"-230.3\" font-family=\"Times,serif\" font-size=\"14.00\">offset</text>\n</g>\n<!-- DoubleFactorizationOneBody&#45;&gt;offset_G21 -->\n<g id=\"edge20\" class=\"edge\">\n<title>DoubleFactorizationOneBody:e-&gt;offset_G21:w</title>\n<path fill=\"none\" stroke=\"black\" d=\"M167,-283C195.47,-283 182.49,-236.64 208.7,-234.11\"/>\n<ellipse fill=\"black\" stroke=\"black\" cx=\"210\" cy=\"-234.05\" rx=\"1\" ry=\"1\"/>\n<text text-anchor=\"middle\" x=\"185.5\" y=\"-272\" font-family=\"Times,serif\" font-size=\"10.00\">8</text>\n</g>\n<!-- rot_G9 -->\n<g id=\"node22\" class=\"node\">\n<title>rot_G9</title>\n<text text-anchor=\"middle\" x=\"239\" y=\"-176.3\" font-family=\"Times,serif\" font-size=\"14.00\">rot</text>\n</g>\n<!-- DoubleFactorizationOneBody&#45;&gt;rot_G9 -->\n<g id=\"edge21\" class=\"edge\">\n<title>DoubleFactorizationOneBody:e-&gt;rot_G9:w</title>\n<path fill=\"none\" stroke=\"black\" d=\"M167,-262C207.55,-262 171.12,-183.17 208.67,-180.09\"/>\n<ellipse fill=\"black\" stroke=\"black\" cx=\"210\" cy=\"-180.04\" rx=\"1\" ry=\"1\"/>\n<text text-anchor=\"middle\" x=\"185.5\" y=\"-253\" font-family=\"Times,serif\" font-size=\"10.00\">8</text>\n</g>\n<!-- rotations_G13 -->\n<g id=\"node23\" class=\"node\">\n<title>rotations_G13</title>\n<text text-anchor=\"middle\" x=\"239\" y=\"-122.3\" font-family=\"Times,serif\" font-size=\"14.00\">rotations</text>\n</g>\n<!-- DoubleFactorizationOneBody&#45;&gt;rotations_G13 -->\n<g id=\"edge22\" class=\"edge\">\n<title>DoubleFactorizationOneBody:e-&gt;rotations_G13:w</title>\n<path fill=\"none\" stroke=\"black\" d=\"M167,-241C220.23,-241 153.89,-129.12 203.85,-126.06\"/>\n<ellipse fill=\"black\" stroke=\"black\" cx=\"205\" cy=\"-126.03\" rx=\"1\" ry=\"1\"/>\n<text text-anchor=\"middle\" x=\"185.5\" y=\"-234\" font-family=\"Times,serif\" font-size=\"10.00\">35</text>\n</g>\n<!-- sys_G7 -->\n<g id=\"node24\" class=\"node\">\n<title>sys_G7</title>\n<text text-anchor=\"middle\" x=\"239\" y=\"-68.3\" font-family=\"Times,serif\" font-size=\"14.00\">sys[0]</text>\n</g>\n<!-- DoubleFactorizationOneBody&#45;&gt;sys_G7 -->\n<g id=\"edge23\" class=\"edge\">\n<title>DoubleFactorizationOneBody:e-&gt;sys_G7:w</title>\n<path fill=\"none\" stroke=\"black\" d=\"M167,-220C186.09,-220 179.39,-154.25 185,-136 193.82,-107.34 180.93,-73.62 208.91,-72.06\"/>\n<ellipse fill=\"black\" stroke=\"black\" cx=\"210\" cy=\"-72.03\" rx=\"1\" ry=\"1\"/>\n<text text-anchor=\"middle\" x=\"185.5\" y=\"-139\" font-family=\"Times,serif\" font-size=\"10.00\">5</text>\n</g>\n<!-- sys_G26 -->\n<g id=\"node25\" class=\"node\">\n<title>sys_G26</title>\n<text text-anchor=\"middle\" x=\"239\" y=\"-14.3\" font-family=\"Times,serif\" font-size=\"14.00\">sys[1]</text>\n</g>\n<!-- DoubleFactorizationOneBody&#45;&gt;sys_G26 -->\n<g id=\"edge24\" class=\"edge\">\n<title>DoubleFactorizationOneBody:e-&gt;sys_G26:w</title>\n<path fill=\"none\" stroke=\"black\" d=\"M167,-199C171.85,-199 201.73,-39.92 209.71,-20.03\"/>\n<ellipse fill=\"black\" stroke=\"black\" cx=\"210.46\" cy=\"-18.84\" rx=\"1\" ry=\"1\"/>\n<text text-anchor=\"middle\" x=\"185.5\" y=\"-128\" font-family=\"Times,serif\" font-size=\"10.00\">5</text>\n</g>\n</g>\n</svg>",
          "text/plain": "<IPython.core.display.SVG object>"
         },
         "metadata": {},
         "output_type": "display_data"
        }
       ],
       "tabbable": null,
       "tooltip": null
      }
     },
     "a57b2a28f10c4177a20c8f5ece7938f8": {
      "model_module": "@jupyter-widgets/controls",
      "model_module_version": "2.0.0",
      "model_name": "HBoxModel",
      "state": {
       "_dom_classes": [],
       "_model_module": "@jupyter-widgets/controls",
       "_model_module_version": "2.0.0",
       "_model_name": "HBoxModel",
       "_view_count": null,
       "_view_module": "@jupyter-widgets/controls",
       "_view_module_version": "2.0.0",
       "_view_name": "HBoxView",
       "box_style": "",
       "children": [
        "IPY_MODEL_3bc11bc1e03b4588991c4bc0c7b6d997"
       ],
       "layout": "IPY_MODEL_bfed7478fe6e4d538b1226e3b86fe30c",
       "tabbable": null,
       "tooltip": null
      }
     },
     "bfed7478fe6e4d538b1226e3b86fe30c": {
      "model_module": "@jupyter-widgets/base",
      "model_module_version": "2.0.0",
      "model_name": "LayoutModel",
      "state": {
       "_model_module": "@jupyter-widgets/base",
       "_model_module_version": "2.0.0",
       "_model_name": "LayoutModel",
       "_view_count": null,
       "_view_module": "@jupyter-widgets/base",
       "_view_module_version": "2.0.0",
       "_view_name": "LayoutView",
       "align_content": null,
       "align_items": null,
       "align_self": null,
       "border_bottom": null,
       "border_left": null,
       "border_right": null,
       "border_top": null,
       "bottom": null,
       "display": null,
       "flex": null,
       "flex_flow": null,
       "grid_area": null,
       "grid_auto_columns": null,
       "grid_auto_flow": null,
       "grid_auto_rows": null,
       "grid_column": null,
       "grid_gap": null,
       "grid_row": null,
       "grid_template_areas": null,
       "grid_template_columns": null,
       "grid_template_rows": null,
       "height": null,
       "justify_content": null,
       "justify_items": null,
       "left": null,
       "margin": null,
       "max_height": null,
       "max_width": null,
       "min_height": null,
       "min_width": null,
       "object_fit": null,
       "object_position": null,
       "order": null,
       "overflow": null,
       "padding": null,
       "right": null,
       "top": null,
       "visibility": null,
       "width": null
      }
     },
     "ec63019e1ca64681b462dec71bcb5725": {
      "model_module": "@jupyter-widgets/controls",
      "model_module_version": "2.0.0",
      "model_name": "HBoxModel",
      "state": {
       "_dom_classes": [],
       "_model_module": "@jupyter-widgets/controls",
       "_model_module_version": "2.0.0",
       "_model_name": "HBoxModel",
       "_view_count": null,
       "_view_module": "@jupyter-widgets/controls",
       "_view_module_version": "2.0.0",
       "_view_name": "HBoxView",
       "box_style": "",
       "children": [
        "IPY_MODEL_5c75c425d6034c0fa688bc596b43d9d9"
       ],
       "layout": "IPY_MODEL_eeb159c783c74d40a4c96d4f1dd3047b",
       "tabbable": null,
       "tooltip": null
      }
     },
     "eeb159c783c74d40a4c96d4f1dd3047b": {
      "model_module": "@jupyter-widgets/base",
      "model_module_version": "2.0.0",
      "model_name": "LayoutModel",
      "state": {
       "_model_module": "@jupyter-widgets/base",
       "_model_module_version": "2.0.0",
       "_model_name": "LayoutModel",
       "_view_count": null,
       "_view_module": "@jupyter-widgets/base",
       "_view_module_version": "2.0.0",
       "_view_name": "LayoutView",
       "align_content": null,
       "align_items": null,
       "align_self": null,
       "border_bottom": null,
       "border_left": null,
       "border_right": null,
       "border_top": null,
       "bottom": null,
       "display": null,
       "flex": null,
       "flex_flow": null,
       "grid_area": null,
       "grid_auto_columns": null,
       "grid_auto_flow": null,
       "grid_auto_rows": null,
       "grid_column": null,
       "grid_gap": null,
       "grid_row": null,
       "grid_template_areas": null,
       "grid_template_columns": null,
       "grid_template_rows": null,
       "height": null,
       "justify_content": null,
       "justify_items": null,
       "left": null,
       "margin": null,
       "max_height": null,
       "max_width": null,
       "min_height": null,
       "min_width": null,
       "object_fit": null,
       "object_position": null,
       "order": null,
       "overflow": null,
       "padding": null,
       "right": null,
       "top": null,
       "visibility": null,
       "width": null
      }
     }
    },
    "version_major": 2,
    "version_minor": 0
   }
  }
 },
 "nbformat": 4,
 "nbformat_minor": 5
}
