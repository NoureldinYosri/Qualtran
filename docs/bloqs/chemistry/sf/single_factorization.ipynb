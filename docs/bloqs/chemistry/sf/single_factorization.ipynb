{
 "cells": [
  {
   "cell_type": "markdown",
   "id": "2fae5a66",
   "metadata": {
    "cq.autogen": "title_cell"
   },
   "source": [
    "# Single Factorization\n",
    "\n",
    "Bloqs for the single-factorized chemistry Hamiltonian in second quantization.\n",
    "\n",
    "Recall that for the single factorized Hamiltonian we have\n",
    "$$\n",
    "    H = \\sum_{pq}T'_{pq} a_p^\\dagger a_q + \\frac{1}{2} \\sum_l \\left(\\sum_{pq}\n",
    "W_{pq}^{(l)} a_p^\\dagger a_q\\right)^2.\n",
    "$$\n",
    "where $\\sum_l^L W_{pq}^{(l)} W_{rs}^{(l)} = (pq|rs)$ are the standard chemist's\n",
    "electron repulsion integrals."
   ]
  },
  {
   "cell_type": "code",
   "execution_count": 1,
   "id": "3ac425f4",
   "metadata": {
    "cq.autogen": "top_imports"
   },
   "outputs": [],
   "source": [
    "from qualtran import Bloq, CompositeBloq, BloqBuilder, Signature, Register\n",
    "from qualtran import QBit, QInt, QUInt, QAny\n",
    "from qualtran.drawing import show_bloq, show_call_graph, show_counts_sigma\n",
    "from typing import *\n",
    "import numpy as np\n",
    "import sympy\n",
    "import cirq"
   ]
  },
  {
   "cell_type": "markdown",
   "id": "ab390dee",
   "metadata": {
    "cq.autogen": "SingleFactorizationOneBody.bloq_doc.md"
   },
   "source": [
    "## `SingleFactorizationOneBody`\n",
    "Block encoding of single factorization one-body Hamiltonian.\n",
    "\n",
    "Implements inner \"half\" of Fig. 15 in the reference. This block encoding is\n",
    "applied twice (with a reflection around the inner state preparation\n",
    "registers) to implement (roughly) the square of this one-body operator.\n",
    "\n",
    "#### Parameters\n",
    " - `num_aux`: Dimension of auxiliary index for single factorized Hamiltonian. Called $L$ in the reference.\n",
    " - `num_spin_orb`: The number of spin orbitals. Typically called $N$.\n",
    " - `num_bits_state_prep`: The number of bits of precision for coherent alias sampling. Called $\\aleph$ in the reference.\n",
    " - `num_bits_rot_aa`: Number of bits of precision for rotations for amplitude amplification in uniform state preparation. Called $b_r$ in the reference.\n",
    " - `is_adjoint`: Whether this bloq is daggered or not. This affects the QROM cost.\n",
    " - `kp1`: QROAM blocking factor for data prepared over l (auxiliary) index. Defaults to 1 (i.e. QROM).\n",
    " - `kp1`: QROAM blocking factor for data prepared over pq indicies. Defaults to 1 (i.e.) QROM.\n",
    " - `kp1_inv`: QROAM blocking factor for inverting data prepared over l (auxiliary) index.\n",
    " - `kp1_inv`: QROAM blocking factor for inverting of data prepared over pq. \n",
    "\n",
    "#### Registers\n",
    " - `succ_l`: Flag for success of l state preparation.\n",
    " - `l_ne_zero`: Flag for l != 0.\n",
    " - `succ_pq`: Flag for success of pq.\n",
    " - `l`: register to store L values for auxiliary index.\n",
    " - `p`: spatial orbital index. range(0, num_spin_orb // 2)\n",
    " - `q`: spatial orbital index. range(0, num_spin_orb // 2)\n",
    " - `rot_aa`: Qubit to rotate for amplitude amplification for state preparation.\n",
    " - `swap_pq`: Qubit for controlling swaps over p and q registers.\n",
    " - `spin`: Qubit for controlling swaps over system registers.\n",
    " - `sys`: The system registers. \n",
    "\n",
    "Refererences:\n",
    "    [Even More Efficient Quantum Computations of Chemistry Through Tensor\n",
    "        Hypercontraction](https://arxiv.org/abs/2011.03494) Fig. 15 page 43."
   ]
  },
  {
   "cell_type": "code",
   "execution_count": 2,
   "id": "7e8ff548",
   "metadata": {
    "cq.autogen": "SingleFactorizationOneBody.bloq_doc.py"
   },
   "outputs": [],
   "source": [
    "from qualtran.bloqs.chemistry.sf.single_factorization import SingleFactorizationOneBody"
   ]
  },
  {
   "cell_type": "markdown",
   "id": "eca84002",
   "metadata": {
    "cq.autogen": "SingleFactorizationOneBody.example_instances.md"
   },
   "source": [
    "### Example Instances"
   ]
  },
  {
   "cell_type": "code",
   "execution_count": 3,
   "id": "a3a8eec8",
   "metadata": {
    "cq.autogen": "SingleFactorizationOneBody.sf_one_body"
   },
   "outputs": [],
   "source": [
    "num_aux = 50\n",
    "num_bits_state_prep = 12\n",
    "num_bits_rot_aa = 7\n",
    "num_spin_orb = 10\n",
    "sf_one_body = SingleFactorizationOneBody(\n",
    "    num_aux=num_aux,\n",
    "    num_spin_orb=num_spin_orb,\n",
    "    num_bits_state_prep=num_bits_state_prep,\n",
    "    num_bits_rot_aa=num_bits_rot_aa,\n",
    "    is_adjoint=False,\n",
    ")"
   ]
  },
  {
   "cell_type": "markdown",
   "id": "fb3e5379",
   "metadata": {
    "cq.autogen": "SingleFactorizationOneBody.graphical_signature.md"
   },
   "source": [
    "#### Graphical Signature"
   ]
  },
  {
   "cell_type": "code",
   "execution_count": 4,
   "id": "fa1c807d",
   "metadata": {
    "cq.autogen": "SingleFactorizationOneBody.graphical_signature.py"
   },
   "outputs": [
    {
     "data": {
      "application/vnd.jupyter.widget-view+json": {
       "model_id": "11f480345ae44e28a0165d455abbf939",
       "version_major": 2,
       "version_minor": 0
      },
      "text/plain": [
       "HBox(children=(Output(outputs=({'output_type': 'display_data', 'data': {'text/plain': '<IPython.core.display.M…"
      ]
     },
     "metadata": {},
     "output_type": "display_data"
    }
   ],
   "source": [
    "from qualtran.drawing import show_bloqs\n",
    "show_bloqs([sf_one_body],\n",
    "           ['`sf_one_body`'])"
   ]
  },
  {
   "cell_type": "markdown",
   "id": "679296e6",
   "metadata": {
    "cq.autogen": "SingleFactorizationOneBody.call_graph.md"
   },
   "source": [
    "### Call Graph"
   ]
  },
  {
   "cell_type": "code",
   "execution_count": 5,
   "id": "36b279af",
   "metadata": {
    "cq.autogen": "SingleFactorizationOneBody.call_graph.py"
   },
   "outputs": [
    {
     "data": {
      "image/svg+xml": [
       "<svg xmlns=\"http://www.w3.org/2000/svg\" xmlns:xlink=\"http://www.w3.org/1999/xlink\" width=\"1177pt\" height=\"131pt\" viewBox=\"0.00 0.00 1177.00 131.00\">\n",
       "<g id=\"graph0\" class=\"graph\" transform=\"scale(1 1) rotate(0) translate(4 127)\">\n",
       "<title>counts</title>\n",
       "<polygon fill=\"white\" stroke=\"transparent\" points=\"-4,4 -4,-127 1173,-127 1173,4 -4,4\"/>\n",
       "<!-- b0 -->\n",
       "<g id=\"node1\" class=\"node\">\n",
       "<title>b0</title>\n",
       "<polygon fill=\"none\" stroke=\"black\" points=\"1131,-123 580,-123 580,-87 1131,-87 1131,-123\"/>\n",
       "<text text-anchor=\"start\" x=\"776.5\" y=\"-106.8\" font-family=\"Times,serif\" font-size=\"14.00\">SingleFactorizationOneBody</text>\n",
       "<text text-anchor=\"start\" x=\"588\" y=\"-96\" font-family=\"monospace\" font-size=\"10.00\">num_aux=50, num_spin_orb=10, num_bits_state_prep=12, num_bits_rot_aa=7, [5 addtl fields].</text>\n",
       "</g>\n",
       "<!-- b1 -->\n",
       "<g id=\"node2\" class=\"node\">\n",
       "<title>b1</title>\n",
       "<polygon fill=\"none\" stroke=\"black\" points=\"551,-36 0,-36 0,0 551,0 551,-36\"/>\n",
       "<text text-anchor=\"start\" x=\"255\" y=\"-19.8\" font-family=\"Times,serif\" font-size=\"14.00\">In-Prep</text>\n",
       "<text text-anchor=\"start\" x=\"8\" y=\"-9\" font-family=\"monospace\" font-size=\"10.00\">num_aux=50, num_spin_orb=10, num_bits_state_prep=12, num_bits_rot_aa=7, [2 addtl fields].</text>\n",
       "</g>\n",
       "<!-- b0&#45;&gt;b1 -->\n",
       "<g id=\"edge1\" class=\"edge\">\n",
       "<title>b0-&gt;b1</title>\n",
       "<path fill=\"none\" stroke=\"black\" d=\"M739.17,-86.95C641.4,-72.62 501.94,-52.18 401.53,-37.47\"/>\n",
       "<polygon fill=\"black\" stroke=\"black\" points=\"402.03,-34.01 391.63,-36.02 401.02,-40.93 402.03,-34.01\"/>\n",
       "<text text-anchor=\"middle\" x=\"604\" y=\"-57.8\" font-family=\"Times,serif\" font-size=\"14.00\">1</text>\n",
       "</g>\n",
       "<!-- b2 -->\n",
       "<g id=\"node3\" class=\"node\">\n",
       "<title>b2</title>\n",
       "<polygon fill=\"none\" stroke=\"black\" points=\"706,-36 569,-36 569,0 706,0 706,-36\"/>\n",
       "<text text-anchor=\"start\" x=\"613.5\" y=\"-19.8\" font-family=\"Times,serif\" font-size=\"14.00\">In-Prep†</text>\n",
       "<text text-anchor=\"start\" x=\"577\" y=\"-9\" font-family=\"monospace\" font-size=\"10.00\">subbloq=InnerPre ...</text>\n",
       "</g>\n",
       "<!-- b0&#45;&gt;b2 -->\n",
       "<g id=\"edge2\" class=\"edge\">\n",
       "<title>b0-&gt;b2</title>\n",
       "<path fill=\"none\" stroke=\"black\" d=\"M811.65,-86.9C776.84,-73.33 728.02,-54.29 690.93,-39.83\"/>\n",
       "<polygon fill=\"black\" stroke=\"black\" points=\"691.87,-36.44 681.28,-36.07 689.33,-42.97 691.87,-36.44\"/>\n",
       "<text text-anchor=\"middle\" x=\"764\" y=\"-57.8\" font-family=\"Times,serif\" font-size=\"14.00\">1</text>\n",
       "</g>\n",
       "<!-- b3 -->\n",
       "<g id=\"node4\" class=\"node\">\n",
       "<title>b3</title>\n",
       "<polygon fill=\"none\" stroke=\"black\" points=\"987,-36 724,-36 724,0 987,0 987,-36\"/>\n",
       "<text text-anchor=\"start\" x=\"786\" y=\"-19.8\" font-family=\"Times,serif\" font-size=\"14.00\">SelectSingleFactorization</text>\n",
       "<text text-anchor=\"start\" x=\"732\" y=\"-9\" font-family=\"monospace\" font-size=\"10.00\">num_spin_orb=10, additional_control=False</text>\n",
       "</g>\n",
       "<!-- b0&#45;&gt;b3 -->\n",
       "<g id=\"edge3\" class=\"edge\">\n",
       "<title>b0-&gt;b3</title>\n",
       "<path fill=\"none\" stroke=\"black\" d=\"M855.5,-86.8C855.5,-75.16 855.5,-59.55 855.5,-46.24\"/>\n",
       "<polygon fill=\"black\" stroke=\"black\" points=\"859,-46.18 855.5,-36.18 852,-46.18 859,-46.18\"/>\n",
       "<text text-anchor=\"middle\" x=\"859\" y=\"-57.8\" font-family=\"Times,serif\" font-size=\"14.00\">1</text>\n",
       "</g>\n",
       "<!-- b4 -->\n",
       "<g id=\"node5\" class=\"node\">\n",
       "<title>b4</title>\n",
       "<polygon fill=\"none\" stroke=\"black\" points=\"1079.5,-36 1005.5,-36 1005.5,0 1079.5,0 1079.5,-36\"/>\n",
       "<text text-anchor=\"start\" x=\"1013.5\" y=\"-14.3\" font-family=\"Times,serif\" font-size=\"14.00\">Hadamard</text>\n",
       "</g>\n",
       "<!-- b0&#45;&gt;b4 -->\n",
       "<g id=\"edge4\" class=\"edge\">\n",
       "<title>b0-&gt;b4</title>\n",
       "<path fill=\"none\" stroke=\"black\" d=\"M893.34,-86.8C922.94,-73.35 964.23,-54.58 995.87,-40.2\"/>\n",
       "<polygon fill=\"black\" stroke=\"black\" points=\"997.7,-43.21 1005.35,-35.89 994.8,-36.84 997.7,-43.21\"/>\n",
       "<text text-anchor=\"middle\" x=\"964\" y=\"-57.8\" font-family=\"Times,serif\" font-size=\"14.00\">4</text>\n",
       "</g>\n",
       "<!-- b5 -->\n",
       "<g id=\"node6\" class=\"node\">\n",
       "<title>b5</title>\n",
       "<polygon fill=\"none\" stroke=\"black\" points=\"1169,-36 1098,-36 1098,0 1169,0 1169,-36\"/>\n",
       "<text text-anchor=\"start\" x=\"1113.5\" y=\"-19.8\" font-family=\"Times,serif\" font-size=\"14.00\">CSwap</text>\n",
       "<text text-anchor=\"start\" x=\"1106\" y=\"-9\" font-family=\"monospace\" font-size=\"10.00\">bitsize=3</text>\n",
       "</g>\n",
       "<!-- b0&#45;&gt;b5 -->\n",
       "<g id=\"edge5\" class=\"edge\">\n",
       "<title>b0-&gt;b5</title>\n",
       "<path fill=\"none\" stroke=\"black\" d=\"M918.7,-86.98C963.51,-74.59 1025.17,-56.87 1088.04,-36.03\"/>\n",
       "<polygon fill=\"black\" stroke=\"black\" points=\"1089.35,-39.28 1097.73,-32.8 1087.13,-32.64 1089.35,-39.28\"/>\n",
       "<text text-anchor=\"middle\" x=\"1035\" y=\"-57.8\" font-family=\"Times,serif\" font-size=\"14.00\">2</text>\n",
       "</g>\n",
       "</g>\n",
       "</svg>"
      ],
      "text/plain": [
       "<IPython.core.display.SVG object>"
      ]
     },
     "metadata": {},
     "output_type": "display_data"
    },
    {
     "data": {
      "text/markdown": [
       "#### Counts totals:\n",
       " - `Adjoint(subbloq=InnerPrepareSingleFactorization)`: 1\n",
       " - `CSwap`: 2\n",
       " - `H`: 4\n",
       " - `InnerPrepareSingleFactorization`: 1\n",
       " - `SelectSingleFactorization`: 1"
      ],
      "text/plain": [
       "<IPython.core.display.Markdown object>"
      ]
     },
     "metadata": {},
     "output_type": "display_data"
    }
   ],
   "source": [
    "from qualtran.resource_counting.generalizers import ignore_split_join\n",
    "sf_one_body_g, sf_one_body_sigma = sf_one_body.call_graph(max_depth=1, generalizer=ignore_split_join)\n",
    "show_call_graph(sf_one_body_g)\n",
    "show_counts_sigma(sf_one_body_sigma)"
   ]
  },
  {
   "cell_type": "markdown",
   "id": "e85fe81e",
   "metadata": {
    "cq.autogen": "SingleFactorizationBlockEncoding.bloq_doc.md"
   },
   "source": [
    "## `SingleFactorizationBlockEncoding`\n",
    "Block encoding of single factorization Hamiltonian.\n",
    "\n",
    "Implements Fig. 15 in the reference.\n",
    "\n",
    "#### Parameters\n",
    " - `num_spin_orb`: The number of spin orbitals. Typically called N.\n",
    " - `num_aux`: Dimension of auxiliary index for single factorized Hamiltonian. Called $L$ in the reference.\n",
    " - `num_bits_state_prep`: The number of bits of precision for coherent alias sampling. Called $\\aleph$ in the reference.\n",
    " - `num_bits_rot_aa_outer`: Number of bits of precision for rotations for amplitude amplification in outer uniform state preparation. Called $b_r$ in the reference.\n",
    " - `num_bits_rot_aa_inner`: Number of bits of precision for rotations for amplitude amplification in inner uniform state preparation. Called $b_r$ in the reference.\n",
    " - `kp1`: QROAM blocking factor for data prepared over l (auxiliary) index. Defaults to 1 (i.e. QROM).\n",
    " - `kp1`: QROAM blocking factor for data prepared over pq indicies. Defaults to 1 (i.e.) QROM.\n",
    " - `kp1_inv`: QROAM blocking factor for inverting the data prepared over l (auxiliary) index.\n",
    " - `kp1_inv`: QROAM blocking factor for inverting the data prepared over pq. \n",
    "\n",
    "#### Registers\n",
    " - `ctrl`: Control registers for state preparation.\n",
    " - `l`: register to store L values for auxiliary index.\n",
    " - `p`: spatial orbital index. range(0, num_spin_orb // 2)\n",
    " - `q`: spatial orbital index. range(0, num_spin_orb // 2)\n",
    " - `rot_aa`: Qubit to rotate for amplitude amplification for state preparation.\n",
    " - `swap_pq`: Qubit for controlling swaps over p and q registers.\n",
    " - `spin`: Qubit for controlling swaps over system registers.\n",
    " - `sys`: The system registers. \n",
    "\n",
    "Refererences:\n",
    "    [Even More Efficient Quantum Computations of Chemistry Through Tensor\n",
    "        Hypercontraction](https://arxiv.org/abs/2011.03494) Fig 15, page 43."
   ]
  },
  {
   "cell_type": "code",
   "execution_count": 6,
   "id": "82d05628",
   "metadata": {
    "cq.autogen": "SingleFactorizationBlockEncoding.bloq_doc.py"
   },
   "outputs": [],
   "source": [
    "from qualtran.bloqs.chemistry.sf.single_factorization import SingleFactorizationBlockEncoding"
   ]
  },
  {
   "cell_type": "markdown",
   "id": "265a4c7c",
   "metadata": {
    "cq.autogen": "SingleFactorizationBlockEncoding.example_instances.md"
   },
   "source": [
    "### Example Instances"
   ]
  },
  {
   "cell_type": "code",
   "execution_count": 7,
   "id": "318a995c",
   "metadata": {
    "cq.autogen": "SingleFactorizationBlockEncoding.sf_block_encoding"
   },
   "outputs": [],
   "source": [
    "num_spin_orb = 10\n",
    "num_aux = 50\n",
    "num_bits_state_prep = 12\n",
    "sf_block_encoding = SingleFactorizationBlockEncoding(\n",
    "    num_spin_orb=num_spin_orb,\n",
    "    num_aux=num_aux,\n",
    "    num_bits_state_prep=num_bits_state_prep,\n",
    "    num_bits_rot_aa_outer=7,\n",
    "    num_bits_rot_aa_inner=7,\n",
    ")"
   ]
  },
  {
   "cell_type": "markdown",
   "id": "314be7c7",
   "metadata": {
    "cq.autogen": "SingleFactorizationBlockEncoding.graphical_signature.md"
   },
   "source": [
    "#### Graphical Signature"
   ]
  },
  {
   "cell_type": "code",
   "execution_count": 8,
   "id": "d34eb36a",
   "metadata": {
    "cq.autogen": "SingleFactorizationBlockEncoding.graphical_signature.py"
   },
   "outputs": [
    {
     "data": {
      "application/vnd.jupyter.widget-view+json": {
       "model_id": "45e21d929cba42809163028593389d31",
       "version_major": 2,
       "version_minor": 0
      },
      "text/plain": [
       "HBox(children=(Output(outputs=({'output_type': 'display_data', 'data': {'text/plain': '<IPython.core.display.M…"
      ]
     },
     "metadata": {},
     "output_type": "display_data"
    }
   ],
   "source": [
    "from qualtran.drawing import show_bloqs\n",
    "show_bloqs([sf_block_encoding],\n",
    "           ['`sf_block_encoding`'])"
   ]
  },
  {
   "cell_type": "markdown",
   "id": "e9fe3f4b",
   "metadata": {
    "cq.autogen": "SingleFactorizationBlockEncoding.call_graph.md"
   },
   "source": [
    "### Call Graph"
   ]
  },
  {
   "cell_type": "code",
   "execution_count": 9,
   "id": "704e914e",
   "metadata": {
    "cq.autogen": "SingleFactorizationBlockEncoding.call_graph.py"
   },
   "outputs": [
    {
     "data": {
      "image/svg+xml": [
       "<svg xmlns=\"http://www.w3.org/2000/svg\" xmlns:xlink=\"http://www.w3.org/1999/xlink\" width=\"1510pt\" height=\"131pt\" viewBox=\"0.00 0.00 1510.00 131.00\">\n",
       "<g id=\"graph0\" class=\"graph\" transform=\"scale(1 1) rotate(0) translate(4 127)\">\n",
       "<title>counts</title>\n",
       "<polygon fill=\"white\" stroke=\"transparent\" points=\"-4,4 -4,-127 1506,-127 1506,4 -4,4\"/>\n",
       "<!-- b0 -->\n",
       "<g id=\"node1\" class=\"node\">\n",
       "<title>b0</title>\n",
       "<polygon fill=\"none\" stroke=\"black\" points=\"1274,-123 687,-123 687,-87 1274,-87 1274,-123\"/>\n",
       "<text text-anchor=\"start\" x=\"885.5\" y=\"-106.8\" font-family=\"Times,serif\" font-size=\"14.00\">SingleFactorizationBlockEncoding</text>\n",
       "<text text-anchor=\"start\" x=\"695\" y=\"-96\" font-family=\"monospace\" font-size=\"10.00\">num_spin_orb=10, num_aux=50, num_bits_state_prep=12, num_bits_rot_aa_outer=7, [5 addtl fields].</text>\n",
       "</g>\n",
       "<!-- b1 -->\n",
       "<g id=\"node2\" class=\"node\">\n",
       "<title>b1</title>\n",
       "<polygon fill=\"none\" stroke=\"black\" points=\"551,-36 0,-36 0,0 551,0 551,-36\"/>\n",
       "<text text-anchor=\"start\" x=\"196.5\" y=\"-19.8\" font-family=\"Times,serif\" font-size=\"14.00\">SingleFactorizationOneBody</text>\n",
       "<text text-anchor=\"start\" x=\"8\" y=\"-9\" font-family=\"monospace\" font-size=\"10.00\">num_aux=50, num_spin_orb=10, num_bits_state_prep=12, num_bits_rot_aa=7, [5 addtl fields].</text>\n",
       "</g>\n",
       "<!-- b0&#45;&gt;b1 -->\n",
       "<g id=\"edge1\" class=\"edge\">\n",
       "<title>b0-&gt;b1</title>\n",
       "<path fill=\"none\" stroke=\"black\" d=\"M839.1,-86.95C719.66,-72.55 549.03,-51.98 426.85,-37.25\"/>\n",
       "<polygon fill=\"black\" stroke=\"black\" points=\"427.01,-33.74 416.66,-36.02 426.17,-40.69 427.01,-33.74\"/>\n",
       "<text text-anchor=\"middle\" x=\"674\" y=\"-57.8\" font-family=\"Times,serif\" font-size=\"14.00\">2</text>\n",
       "</g>\n",
       "<!-- b2 -->\n",
       "<g id=\"node3\" class=\"node\">\n",
       "<title>b2</title>\n",
       "<polygon fill=\"none\" stroke=\"black\" points=\"994,-36 569,-36 569,0 994,0 994,-36\"/>\n",
       "<text text-anchor=\"start\" x=\"716.5\" y=\"-19.8\" font-family=\"Times,serif\" font-size=\"14.00\">ReflectionUsingPrepare</text>\n",
       "<text text-anchor=\"start\" x=\"577\" y=\"-9\" font-family=\"monospace\" font-size=\"10.00\">prepare_gate=PrepareI ..., control_val=1, global_phase=-1, eps=1e-11</text>\n",
       "</g>\n",
       "<!-- b0&#45;&gt;b2 -->\n",
       "<g id=\"edge2\" class=\"edge\">\n",
       "<title>b0-&gt;b2</title>\n",
       "<path fill=\"none\" stroke=\"black\" d=\"M940.23,-86.8C908.57,-73.27 864.32,-54.38 830.59,-39.97\"/>\n",
       "<polygon fill=\"black\" stroke=\"black\" points=\"831.94,-36.74 821.37,-36.03 829.19,-43.18 831.94,-36.74\"/>\n",
       "<text text-anchor=\"middle\" x=\"897\" y=\"-57.8\" font-family=\"Times,serif\" font-size=\"14.00\">1</text>\n",
       "</g>\n",
       "<!-- b3 -->\n",
       "<g id=\"node4\" class=\"node\">\n",
       "<title>b3</title>\n",
       "<polygon fill=\"none\" stroke=\"black\" points=\"1347,-36 1012,-36 1012,0 1347,0 1347,-36\"/>\n",
       "<text text-anchor=\"start\" x=\"1151.5\" y=\"-19.8\" font-family=\"Times,serif\" font-size=\"14.00\">OuterPrep</text>\n",
       "<text text-anchor=\"start\" x=\"1020\" y=\"-9\" font-family=\"monospace\" font-size=\"10.00\">num_aux=50, num_bits_state_prep=12, num_bits_rot_aa=7</text>\n",
       "</g>\n",
       "<!-- b0&#45;&gt;b3 -->\n",
       "<g id=\"edge3\" class=\"edge\">\n",
       "<title>b0-&gt;b3</title>\n",
       "<path fill=\"none\" stroke=\"black\" d=\"M1020.77,-86.8C1052.43,-73.27 1096.68,-54.38 1130.41,-39.97\"/>\n",
       "<polygon fill=\"black\" stroke=\"black\" points=\"1131.81,-43.18 1139.63,-36.03 1129.06,-36.74 1131.81,-43.18\"/>\n",
       "<text text-anchor=\"middle\" x=\"1096\" y=\"-57.8\" font-family=\"Times,serif\" font-size=\"14.00\">1</text>\n",
       "</g>\n",
       "<!-- b4 -->\n",
       "<g id=\"node5\" class=\"node\">\n",
       "<title>b4</title>\n",
       "<polygon fill=\"none\" stroke=\"black\" points=\"1502,-36 1365,-36 1365,0 1502,0 1502,-36\"/>\n",
       "<text text-anchor=\"start\" x=\"1402\" y=\"-19.8\" font-family=\"Times,serif\" font-size=\"14.00\">OuterPrep†</text>\n",
       "<text text-anchor=\"start\" x=\"1373\" y=\"-9\" font-family=\"monospace\" font-size=\"10.00\">subbloq=OuterPre ...</text>\n",
       "</g>\n",
       "<!-- b0&#45;&gt;b4 -->\n",
       "<g id=\"edge4\" class=\"edge\">\n",
       "<title>b0-&gt;b4</title>\n",
       "<path fill=\"none\" stroke=\"black\" d=\"M1080.45,-87C1153.88,-74.26 1256.31,-55.96 1354.85,-36.3\"/>\n",
       "<polygon fill=\"black\" stroke=\"black\" points=\"1355.56,-39.73 1364.68,-34.33 1354.19,-32.86 1355.56,-39.73\"/>\n",
       "<text text-anchor=\"middle\" x=\"1257\" y=\"-57.8\" font-family=\"Times,serif\" font-size=\"14.00\">1</text>\n",
       "</g>\n",
       "</g>\n",
       "</svg>"
      ],
      "text/plain": [
       "<IPython.core.display.SVG object>"
      ]
     },
     "metadata": {},
     "output_type": "display_data"
    },
    {
     "data": {
      "text/markdown": [
       "#### Counts totals:\n",
       " - `Adjoint(subbloq=OuterPrepareSingleFactorization)`: 1\n",
       " - `OuterPrepareSingleFactorization`: 1\n",
       " - `ReflectionUsingPrepare`: 1\n",
       " - `SingleFactorizationOneBody`: 2"
      ],
      "text/plain": [
       "<IPython.core.display.Markdown object>"
      ]
     },
     "metadata": {},
     "output_type": "display_data"
    }
   ],
   "source": [
    "from qualtran.resource_counting.generalizers import ignore_split_join\n",
    "sf_block_encoding_g, sf_block_encoding_sigma = sf_block_encoding.call_graph(max_depth=1, generalizer=ignore_split_join)\n",
    "show_call_graph(sf_block_encoding_g)\n",
    "show_counts_sigma(sf_block_encoding_sigma)"
   ]
  }
 ],
 "metadata": {
  "kernelspec": {
   "display_name": "Python 3",
   "language": "python",
   "name": "python3"
  },
  "language_info": {
   "codemirror_mode": {
    "name": "ipython",
    "version": 3
   },
   "file_extension": ".py",
   "mimetype": "text/x-python",
   "name": "python",
   "nbconvert_exporter": "python",
   "pygments_lexer": "ipython3",
   "version": "3.11.8"
  },
  "widgets": {
   "application/vnd.jupyter.widget-state+json": {
    "state": {
     "11f480345ae44e28a0165d455abbf939": {
      "model_module": "@jupyter-widgets/controls",
      "model_module_version": "2.0.0",
      "model_name": "HBoxModel",
      "state": {
       "_dom_classes": [],
       "_model_module": "@jupyter-widgets/controls",
       "_model_module_version": "2.0.0",
       "_model_name": "HBoxModel",
       "_view_count": null,
       "_view_module": "@jupyter-widgets/controls",
       "_view_module_version": "2.0.0",
       "_view_name": "HBoxView",
       "box_style": "",
       "children": [
        "IPY_MODEL_a22d966fd73a4eb79f50774ed6df7413"
       ],
       "layout": "IPY_MODEL_182544571d6a4f39990db78ec759bbe0",
       "tabbable": null,
       "tooltip": null
      }
     },
     "182544571d6a4f39990db78ec759bbe0": {
      "model_module": "@jupyter-widgets/base",
      "model_module_version": "2.0.0",
      "model_name": "LayoutModel",
      "state": {
       "_model_module": "@jupyter-widgets/base",
       "_model_module_version": "2.0.0",
       "_model_name": "LayoutModel",
       "_view_count": null,
       "_view_module": "@jupyter-widgets/base",
       "_view_module_version": "2.0.0",
       "_view_name": "LayoutView",
       "align_content": null,
       "align_items": null,
       "align_self": null,
       "border_bottom": null,
       "border_left": null,
       "border_right": null,
       "border_top": null,
       "bottom": null,
       "display": null,
       "flex": null,
       "flex_flow": null,
       "grid_area": null,
       "grid_auto_columns": null,
       "grid_auto_flow": null,
       "grid_auto_rows": null,
       "grid_column": null,
       "grid_gap": null,
       "grid_row": null,
       "grid_template_areas": null,
       "grid_template_columns": null,
       "grid_template_rows": null,
       "height": null,
       "justify_content": null,
       "justify_items": null,
       "left": null,
       "margin": null,
       "max_height": null,
       "max_width": null,
       "min_height": null,
       "min_width": null,
       "object_fit": null,
       "object_position": null,
       "order": null,
       "overflow": null,
       "padding": null,
       "right": null,
       "top": null,
       "visibility": null,
       "width": null
      }
     },
     "41fa722238b341c2af64a666e1f847d7": {
      "model_module": "@jupyter-widgets/output",
      "model_module_version": "1.0.0",
      "model_name": "OutputModel",
      "state": {
       "_dom_classes": [],
       "_model_module": "@jupyter-widgets/output",
       "_model_module_version": "1.0.0",
       "_model_name": "OutputModel",
       "_view_count": null,
       "_view_module": "@jupyter-widgets/output",
       "_view_module_version": "1.0.0",
       "_view_name": "OutputView",
       "layout": "IPY_MODEL_b92514ed7022415b8fddb69767fef2fa",
       "msg_id": "",
       "outputs": [
        {
         "data": {
          "text/markdown": "`sf_block_encoding`",
          "text/plain": "<IPython.core.display.Markdown object>"
         },
         "metadata": {},
         "output_type": "display_data"
        },
        {
         "data": {
          "image/svg+xml": "<svg xmlns=\"http://www.w3.org/2000/svg\" xmlns:xlink=\"http://www.w3.org/1999/xlink\" width=\"365pt\" height=\"638pt\" viewBox=\"0.00 0.00 365.00 638.00\">\n<g id=\"graph0\" class=\"graph\" transform=\"scale(1 1) rotate(0) translate(4 634)\">\n<title>my_graph</title>\n<polygon fill=\"white\" stroke=\"transparent\" points=\"-4,4 -4,-634 361,-634 361,4 -4,4\"/>\n<!-- ctrl_G30 -->\n<g id=\"node1\" class=\"node\">\n<title>ctrl_G30</title>\n<text text-anchor=\"middle\" x=\"33\" y=\"-608.3\" font-family=\"Times,serif\" font-size=\"14.00\">ctrl[0]</text>\n</g>\n<!-- SingleFactorizationBlockEncoding -->\n<g id=\"node13\" class=\"node\">\n<title>SingleFactorizationBlockEncoding</title>\n<polygon fill=\"none\" stroke=\"black\" points=\"103.5,-441 103.5,-458 254.5,-458 254.5,-441 103.5,-441\"/>\n<text text-anchor=\"start\" x=\"106.5\" y=\"-447\" font-family=\"Times,serif\" font-size=\"10.00\">SingleFactorizationBlockEncoding</text>\n<polygon fill=\"none\" stroke=\"black\" points=\"103.5,-420 103.5,-441 254.5,-441 254.5,-420 103.5,-420\"/>\n<text text-anchor=\"start\" x=\"162\" y=\"-426.8\" font-family=\"Times,serif\" font-size=\"14.00\">ctrl[0]</text>\n<polygon fill=\"none\" stroke=\"black\" points=\"103.5,-399 103.5,-420 254.5,-420 254.5,-399 103.5,-399\"/>\n<text text-anchor=\"start\" x=\"162\" y=\"-405.8\" font-family=\"Times,serif\" font-size=\"14.00\">ctrl[1]</text>\n<polygon fill=\"none\" stroke=\"black\" points=\"103.5,-378 103.5,-399 254.5,-399 254.5,-378 103.5,-378\"/>\n<text text-anchor=\"start\" x=\"162\" y=\"-384.8\" font-family=\"Times,serif\" font-size=\"14.00\">ctrl[2]</text>\n<polygon fill=\"none\" stroke=\"black\" points=\"103.5,-357 103.5,-378 254.5,-378 254.5,-357 103.5,-357\"/>\n<text text-anchor=\"start\" x=\"177\" y=\"-363.8\" font-family=\"Times,serif\" font-size=\"14.00\">l</text>\n<polygon fill=\"none\" stroke=\"black\" points=\"103.5,-336 103.5,-357 254.5,-357 254.5,-336 103.5,-336\"/>\n<text text-anchor=\"start\" x=\"164\" y=\"-342.8\" font-family=\"Times,serif\" font-size=\"14.00\">pq[0]</text>\n<polygon fill=\"none\" stroke=\"black\" points=\"103.5,-315 103.5,-336 254.5,-336 254.5,-315 103.5,-315\"/>\n<text text-anchor=\"start\" x=\"164\" y=\"-321.8\" font-family=\"Times,serif\" font-size=\"14.00\">pq[1]</text>\n<polygon fill=\"none\" stroke=\"black\" points=\"103.5,-294 103.5,-315 254.5,-315 254.5,-294 103.5,-294\"/>\n<text text-anchor=\"start\" x=\"154\" y=\"-300.8\" font-family=\"Times,serif\" font-size=\"14.00\">rot_aa[0]</text>\n<polygon fill=\"none\" stroke=\"black\" points=\"103.5,-273 103.5,-294 254.5,-294 254.5,-273 103.5,-273\"/>\n<text text-anchor=\"start\" x=\"154\" y=\"-279.8\" font-family=\"Times,serif\" font-size=\"14.00\">rot_aa[1]</text>\n<polygon fill=\"none\" stroke=\"black\" points=\"103.5,-252 103.5,-273 254.5,-273 254.5,-252 103.5,-252\"/>\n<text text-anchor=\"start\" x=\"154.5\" y=\"-258.8\" font-family=\"Times,serif\" font-size=\"14.00\">swap_pq</text>\n<polygon fill=\"none\" stroke=\"black\" points=\"103.5,-231 103.5,-252 254.5,-252 254.5,-231 103.5,-231\"/>\n<text text-anchor=\"start\" x=\"167.5\" y=\"-237.8\" font-family=\"Times,serif\" font-size=\"14.00\">spin</text>\n<polygon fill=\"none\" stroke=\"black\" points=\"103.5,-210 103.5,-231 254.5,-231 254.5,-210 103.5,-210\"/>\n<text text-anchor=\"start\" x=\"162\" y=\"-216.8\" font-family=\"Times,serif\" font-size=\"14.00\">sys[0]</text>\n<polygon fill=\"none\" stroke=\"black\" points=\"103.5,-189 103.5,-210 254.5,-210 254.5,-189 103.5,-189\"/>\n<text text-anchor=\"start\" x=\"162\" y=\"-195.8\" font-family=\"Times,serif\" font-size=\"14.00\">sys[1]</text>\n</g>\n<!-- ctrl_G30&#45;&gt;SingleFactorizationBlockEncoding -->\n<g id=\"edge1\" class=\"edge\">\n<title>ctrl_G30:e-&gt;SingleFactorizationBlockEncoding:w</title>\n<path fill=\"none\" stroke=\"black\" d=\"M61,-612C65.84,-612 93.98,-452.92 101.73,-433.03\"/>\n<ellipse fill=\"black\" stroke=\"black\" cx=\"102.47\" cy=\"-431.85\" rx=\"1\" ry=\"1\"/>\n<text text-anchor=\"middle\" x=\"84.5\" y=\"-513\" font-family=\"Times,serif\" font-size=\"10.00\">1</text>\n</g>\n<!-- ctrl_G8 -->\n<g id=\"node2\" class=\"node\">\n<title>ctrl_G8</title>\n<text text-anchor=\"middle\" x=\"33\" y=\"-554.3\" font-family=\"Times,serif\" font-size=\"14.00\">ctrl[1]</text>\n</g>\n<!-- ctrl_G8&#45;&gt;SingleFactorizationBlockEncoding -->\n<g id=\"edge2\" class=\"edge\">\n<title>ctrl_G8:e-&gt;SingleFactorizationBlockEncoding:w</title>\n<path fill=\"none\" stroke=\"black\" d=\"M61,-558C128.57,-558 36.82,-413.45 100.66,-410.06\"/>\n<ellipse fill=\"black\" stroke=\"black\" cx=\"102\" cy=\"-410.03\" rx=\"1\" ry=\"1\"/>\n<text text-anchor=\"middle\" x=\"84.5\" y=\"-504\" font-family=\"Times,serif\" font-size=\"10.00\">1</text>\n</g>\n<!-- ctrl_G14 -->\n<g id=\"node3\" class=\"node\">\n<title>ctrl_G14</title>\n<text text-anchor=\"middle\" x=\"33\" y=\"-500.3\" font-family=\"Times,serif\" font-size=\"14.00\">ctrl[2]</text>\n</g>\n<!-- ctrl_G14&#45;&gt;SingleFactorizationBlockEncoding -->\n<g id=\"edge3\" class=\"edge\">\n<title>ctrl_G14:e-&gt;SingleFactorizationBlockEncoding:w</title>\n<path fill=\"none\" stroke=\"black\" d=\"M61,-504C114.67,-504 50.39,-392.12 100.84,-389.06\"/>\n<ellipse fill=\"black\" stroke=\"black\" cx=\"102\" cy=\"-389.03\" rx=\"1\" ry=\"1\"/>\n<text text-anchor=\"middle\" x=\"84.5\" y=\"-400\" font-family=\"Times,serif\" font-size=\"10.00\">1</text>\n</g>\n<!-- l_G18 -->\n<g id=\"node4\" class=\"node\">\n<title>l_G18</title>\n<text text-anchor=\"middle\" x=\"33\" y=\"-446.3\" font-family=\"Times,serif\" font-size=\"14.00\">l</text>\n</g>\n<!-- l_G18&#45;&gt;SingleFactorizationBlockEncoding -->\n<g id=\"edge4\" class=\"edge\">\n<title>l_G18:e-&gt;SingleFactorizationBlockEncoding:w</title>\n<path fill=\"none\" stroke=\"black\" d=\"M61,-450C101.15,-450 63.58,-371.17 100.69,-368.09\"/>\n<ellipse fill=\"black\" stroke=\"black\" cx=\"102\" cy=\"-368.04\" rx=\"1\" ry=\"1\"/>\n<text text-anchor=\"middle\" x=\"84.5\" y=\"-386\" font-family=\"Times,serif\" font-size=\"10.00\">6</text>\n</g>\n<!-- pq_G27 -->\n<g id=\"node5\" class=\"node\">\n<title>pq_G27</title>\n<text text-anchor=\"middle\" x=\"33\" y=\"-392.3\" font-family=\"Times,serif\" font-size=\"14.00\">pq[0]</text>\n</g>\n<!-- pq_G27&#45;&gt;SingleFactorizationBlockEncoding -->\n<g id=\"edge5\" class=\"edge\">\n<title>pq_G27:e-&gt;SingleFactorizationBlockEncoding:w</title>\n<path fill=\"none\" stroke=\"black\" d=\"M61,-396C88.9,-396 75.12,-349.64 100.74,-347.11\"/>\n<ellipse fill=\"black\" stroke=\"black\" cx=\"102\" cy=\"-347.05\" rx=\"1\" ry=\"1\"/>\n<text text-anchor=\"middle\" x=\"84.5\" y=\"-367\" font-family=\"Times,serif\" font-size=\"10.00\">3</text>\n</g>\n<!-- pq_G6 -->\n<g id=\"node6\" class=\"node\">\n<title>pq_G6</title>\n<text text-anchor=\"middle\" x=\"33\" y=\"-338.3\" font-family=\"Times,serif\" font-size=\"14.00\">pq[1]</text>\n</g>\n<!-- pq_G6&#45;&gt;SingleFactorizationBlockEncoding -->\n<g id=\"edge6\" class=\"edge\">\n<title>pq_G6:e-&gt;SingleFactorizationBlockEncoding:w</title>\n<path fill=\"none\" stroke=\"black\" d=\"M61,-342C80.2,-342 82.84,-327.23 100.74,-326.07\"/>\n<ellipse fill=\"black\" stroke=\"black\" cx=\"102\" cy=\"-326.03\" rx=\"1\" ry=\"1\"/>\n<text text-anchor=\"middle\" x=\"84.5\" y=\"-335\" font-family=\"Times,serif\" font-size=\"10.00\">3</text>\n</g>\n<!-- rot_aa_G10 -->\n<g id=\"node7\" class=\"node\">\n<title>rot_aa_G10</title>\n<text text-anchor=\"middle\" x=\"33\" y=\"-284.3\" font-family=\"Times,serif\" font-size=\"14.00\">rot_aa[0]</text>\n</g>\n<!-- rot_aa_G10&#45;&gt;SingleFactorizationBlockEncoding -->\n<g id=\"edge7\" class=\"edge\">\n<title>rot_aa_G10:e-&gt;SingleFactorizationBlockEncoding:w</title>\n<path fill=\"none\" stroke=\"black\" d=\"M66,-288C83.22,-288 84.97,-302.77 100.98,-303.93\"/>\n<ellipse fill=\"black\" stroke=\"black\" cx=\"102\" cy=\"-303.96\" rx=\"1\" ry=\"1\"/>\n<text text-anchor=\"middle\" x=\"84.5\" y=\"-299\" font-family=\"Times,serif\" font-size=\"10.00\">1</text>\n</g>\n<!-- rot_aa_G25 -->\n<g id=\"node8\" class=\"node\">\n<title>rot_aa_G25</title>\n<text text-anchor=\"middle\" x=\"33\" y=\"-230.3\" font-family=\"Times,serif\" font-size=\"14.00\">rot_aa[1]</text>\n</g>\n<!-- rot_aa_G25&#45;&gt;SingleFactorizationBlockEncoding -->\n<g id=\"edge8\" class=\"edge\">\n<title>rot_aa_G25:e-&gt;SingleFactorizationBlockEncoding:w</title>\n<path fill=\"none\" stroke=\"black\" d=\"M66,-234C92.54,-234 76.64,-280.36 100.86,-282.89\"/>\n<ellipse fill=\"black\" stroke=\"black\" cx=\"102\" cy=\"-282.95\" rx=\"1\" ry=\"1\"/>\n<text text-anchor=\"middle\" x=\"84.5\" y=\"-262\" font-family=\"Times,serif\" font-size=\"10.00\">1</text>\n</g>\n<!-- swap_pq_G7 -->\n<g id=\"node9\" class=\"node\">\n<title>swap_pq_G7</title>\n<text text-anchor=\"middle\" x=\"33\" y=\"-176.3\" font-family=\"Times,serif\" font-size=\"14.00\">swap_pq</text>\n</g>\n<!-- swap_pq_G7&#45;&gt;SingleFactorizationBlockEncoding -->\n<g id=\"edge9\" class=\"edge\">\n<title>swap_pq_G7:e-&gt;SingleFactorizationBlockEncoding:w</title>\n<path fill=\"none\" stroke=\"black\" d=\"M66,-180C105.2,-180 64.66,-258.83 100.75,-261.91\"/>\n<ellipse fill=\"black\" stroke=\"black\" cx=\"102\" cy=\"-261.96\" rx=\"1\" ry=\"1\"/>\n<text text-anchor=\"middle\" x=\"84.5\" y=\"-247\" font-family=\"Times,serif\" font-size=\"10.00\">1</text>\n</g>\n<!-- spin_G19 -->\n<g id=\"node10\" class=\"node\">\n<title>spin_G19</title>\n<text text-anchor=\"middle\" x=\"33\" y=\"-122.3\" font-family=\"Times,serif\" font-size=\"14.00\">spin</text>\n</g>\n<!-- spin_G19&#45;&gt;SingleFactorizationBlockEncoding -->\n<g id=\"edge10\" class=\"edge\">\n<title>spin_G19:e-&gt;SingleFactorizationBlockEncoding:w</title>\n<path fill=\"none\" stroke=\"black\" d=\"M61,-126C61.78,-126 96.09,-223.73 102.12,-239\"/>\n<ellipse fill=\"black\" stroke=\"black\" cx=\"102.6\" cy=\"-240.09\" rx=\"1\" ry=\"1\"/>\n<text text-anchor=\"middle\" x=\"84.5\" y=\"-193\" font-family=\"Times,serif\" font-size=\"10.00\">1</text>\n</g>\n<!-- sys_G9 -->\n<g id=\"node11\" class=\"node\">\n<title>sys_G9</title>\n<text text-anchor=\"middle\" x=\"33\" y=\"-68.3\" font-family=\"Times,serif\" font-size=\"14.00\">sys[0]</text>\n</g>\n<!-- sys_G9&#45;&gt;SingleFactorizationBlockEncoding -->\n<g id=\"edge11\" class=\"edge\">\n<title>sys_G9:e-&gt;SingleFactorizationBlockEncoding:w</title>\n<path fill=\"none\" stroke=\"black\" d=\"M61,-72C77.43,-72 85.28,-208.66 101.04,-219.34\"/>\n<ellipse fill=\"black\" stroke=\"black\" cx=\"102.05\" cy=\"-219.68\" rx=\"1\" ry=\"1\"/>\n<text text-anchor=\"middle\" x=\"84.5\" y=\"-166\" font-family=\"Times,serif\" font-size=\"10.00\">5</text>\n</g>\n<!-- sys_G28 -->\n<g id=\"node12\" class=\"node\">\n<title>sys_G28</title>\n<text text-anchor=\"middle\" x=\"33\" y=\"-14.3\" font-family=\"Times,serif\" font-size=\"14.00\">sys[1]</text>\n</g>\n<!-- sys_G28&#45;&gt;SingleFactorizationBlockEncoding -->\n<g id=\"edge12\" class=\"edge\">\n<title>sys_G28:e-&gt;SingleFactorizationBlockEncoding:w</title>\n<path fill=\"none\" stroke=\"black\" d=\"M61,-18C80.84,-18 82.27,-185.14 100.67,-198.19\"/>\n<ellipse fill=\"black\" stroke=\"black\" cx=\"102.06\" cy=\"-198.67\" rx=\"1\" ry=\"1\"/>\n<text text-anchor=\"middle\" x=\"84.5\" y=\"-134\" font-family=\"Times,serif\" font-size=\"10.00\">5</text>\n</g>\n<!-- ctrl_G12 -->\n<g id=\"node14\" class=\"node\">\n<title>ctrl_G12</title>\n<text text-anchor=\"middle\" x=\"324\" y=\"-608.3\" font-family=\"Times,serif\" font-size=\"14.00\">ctrl[0]</text>\n</g>\n<!-- SingleFactorizationBlockEncoding&#45;&gt;ctrl_G12 -->\n<g id=\"edge13\" class=\"edge\">\n<title>SingleFactorizationBlockEncoding:e-&gt;ctrl_G12:w</title>\n<path fill=\"none\" stroke=\"black\" d=\"M254,-431C258.84,-431 286.98,-590.08 294.73,-609.97\"/>\n<ellipse fill=\"black\" stroke=\"black\" cx=\"295.47\" cy=\"-611.15\" rx=\"1\" ry=\"1\"/>\n<text text-anchor=\"middle\" x=\"272.5\" y=\"-513\" font-family=\"Times,serif\" font-size=\"10.00\">1</text>\n</g>\n<!-- ctrl_G29 -->\n<g id=\"node15\" class=\"node\">\n<title>ctrl_G29</title>\n<text text-anchor=\"middle\" x=\"324\" y=\"-554.3\" font-family=\"Times,serif\" font-size=\"14.00\">ctrl[1]</text>\n</g>\n<!-- SingleFactorizationBlockEncoding&#45;&gt;ctrl_G29 -->\n<g id=\"edge14\" class=\"edge\">\n<title>SingleFactorizationBlockEncoding:e-&gt;ctrl_G29:w</title>\n<path fill=\"none\" stroke=\"black\" d=\"M254,-410C321.57,-410 229.82,-554.55 293.66,-557.94\"/>\n<ellipse fill=\"black\" stroke=\"black\" cx=\"295\" cy=\"-557.97\" rx=\"1\" ry=\"1\"/>\n<text text-anchor=\"middle\" x=\"272.5\" y=\"-504\" font-family=\"Times,serif\" font-size=\"10.00\">1</text>\n</g>\n<!-- ctrl_G32 -->\n<g id=\"node16\" class=\"node\">\n<title>ctrl_G32</title>\n<text text-anchor=\"middle\" x=\"324\" y=\"-500.3\" font-family=\"Times,serif\" font-size=\"14.00\">ctrl[2]</text>\n</g>\n<!-- SingleFactorizationBlockEncoding&#45;&gt;ctrl_G32 -->\n<g id=\"edge15\" class=\"edge\">\n<title>SingleFactorizationBlockEncoding:e-&gt;ctrl_G32:w</title>\n<path fill=\"none\" stroke=\"black\" d=\"M254,-389C307.67,-389 243.39,-500.88 293.84,-503.94\"/>\n<ellipse fill=\"black\" stroke=\"black\" cx=\"295\" cy=\"-503.97\" rx=\"1\" ry=\"1\"/>\n<text text-anchor=\"middle\" x=\"272.5\" y=\"-400\" font-family=\"Times,serif\" font-size=\"10.00\">1</text>\n</g>\n<!-- l_G31 -->\n<g id=\"node17\" class=\"node\">\n<title>l_G31</title>\n<text text-anchor=\"middle\" x=\"324\" y=\"-446.3\" font-family=\"Times,serif\" font-size=\"14.00\">l</text>\n</g>\n<!-- SingleFactorizationBlockEncoding&#45;&gt;l_G31 -->\n<g id=\"edge16\" class=\"edge\">\n<title>SingleFactorizationBlockEncoding:e-&gt;l_G31:w</title>\n<path fill=\"none\" stroke=\"black\" d=\"M254,-368C294.15,-368 256.58,-446.83 293.69,-449.91\"/>\n<ellipse fill=\"black\" stroke=\"black\" cx=\"295\" cy=\"-449.96\" rx=\"1\" ry=\"1\"/>\n<text text-anchor=\"middle\" x=\"272.5\" y=\"-386\" font-family=\"Times,serif\" font-size=\"10.00\">6</text>\n</g>\n<!-- pq_G1 -->\n<g id=\"node18\" class=\"node\">\n<title>pq_G1</title>\n<text text-anchor=\"middle\" x=\"324\" y=\"-392.3\" font-family=\"Times,serif\" font-size=\"14.00\">pq[0]</text>\n</g>\n<!-- SingleFactorizationBlockEncoding&#45;&gt;pq_G1 -->\n<g id=\"edge17\" class=\"edge\">\n<title>SingleFactorizationBlockEncoding:e-&gt;pq_G1:w</title>\n<path fill=\"none\" stroke=\"black\" d=\"M254,-347C281.9,-347 268.12,-393.36 293.74,-395.89\"/>\n<ellipse fill=\"black\" stroke=\"black\" cx=\"295\" cy=\"-395.95\" rx=\"1\" ry=\"1\"/>\n<text text-anchor=\"middle\" x=\"272.5\" y=\"-367\" font-family=\"Times,serif\" font-size=\"10.00\">3</text>\n</g>\n<!-- pq_G17 -->\n<g id=\"node19\" class=\"node\">\n<title>pq_G17</title>\n<text text-anchor=\"middle\" x=\"324\" y=\"-338.3\" font-family=\"Times,serif\" font-size=\"14.00\">pq[1]</text>\n</g>\n<!-- SingleFactorizationBlockEncoding&#45;&gt;pq_G17 -->\n<g id=\"edge18\" class=\"edge\">\n<title>SingleFactorizationBlockEncoding:e-&gt;pq_G17:w</title>\n<path fill=\"none\" stroke=\"black\" d=\"M254,-326C273.2,-326 275.84,-340.77 293.74,-341.93\"/>\n<ellipse fill=\"black\" stroke=\"black\" cx=\"295\" cy=\"-341.97\" rx=\"1\" ry=\"1\"/>\n<text text-anchor=\"middle\" x=\"272.5\" y=\"-335\" font-family=\"Times,serif\" font-size=\"10.00\">3</text>\n</g>\n<!-- rot_aa_G20 -->\n<g id=\"node20\" class=\"node\">\n<title>rot_aa_G20</title>\n<text text-anchor=\"middle\" x=\"324\" y=\"-284.3\" font-family=\"Times,serif\" font-size=\"14.00\">rot_aa[0]</text>\n</g>\n<!-- SingleFactorizationBlockEncoding&#45;&gt;rot_aa_G20 -->\n<g id=\"edge19\" class=\"edge\">\n<title>SingleFactorizationBlockEncoding:e-&gt;rot_aa_G20:w</title>\n<path fill=\"none\" stroke=\"black\" d=\"M254,-304C271.22,-304 272.97,-289.23 288.98,-288.07\"/>\n<ellipse fill=\"black\" stroke=\"black\" cx=\"290\" cy=\"-288.04\" rx=\"1\" ry=\"1\"/>\n<text text-anchor=\"middle\" x=\"272.5\" y=\"-299\" font-family=\"Times,serif\" font-size=\"10.00\">1</text>\n</g>\n<!-- rot_aa_G0 -->\n<g id=\"node21\" class=\"node\">\n<title>rot_aa_G0</title>\n<text text-anchor=\"middle\" x=\"324\" y=\"-230.3\" font-family=\"Times,serif\" font-size=\"14.00\">rot_aa[1]</text>\n</g>\n<!-- SingleFactorizationBlockEncoding&#45;&gt;rot_aa_G0 -->\n<g id=\"edge20\" class=\"edge\">\n<title>SingleFactorizationBlockEncoding:e-&gt;rot_aa_G0:w</title>\n<path fill=\"none\" stroke=\"black\" d=\"M254,-283C280.54,-283 264.64,-236.64 288.86,-234.11\"/>\n<ellipse fill=\"black\" stroke=\"black\" cx=\"290\" cy=\"-234.05\" rx=\"1\" ry=\"1\"/>\n<text text-anchor=\"middle\" x=\"272.5\" y=\"-262\" font-family=\"Times,serif\" font-size=\"10.00\">1</text>\n</g>\n<!-- swap_pq_G15 -->\n<g id=\"node22\" class=\"node\">\n<title>swap_pq_G15</title>\n<text text-anchor=\"middle\" x=\"324\" y=\"-176.3\" font-family=\"Times,serif\" font-size=\"14.00\">swap_pq</text>\n</g>\n<!-- SingleFactorizationBlockEncoding&#45;&gt;swap_pq_G15 -->\n<g id=\"edge21\" class=\"edge\">\n<title>SingleFactorizationBlockEncoding:e-&gt;swap_pq_G15:w</title>\n<path fill=\"none\" stroke=\"black\" d=\"M254,-262C293.2,-262 252.66,-183.17 288.75,-180.09\"/>\n<ellipse fill=\"black\" stroke=\"black\" cx=\"290\" cy=\"-180.04\" rx=\"1\" ry=\"1\"/>\n<text text-anchor=\"middle\" x=\"272.5\" y=\"-247\" font-family=\"Times,serif\" font-size=\"10.00\">1</text>\n</g>\n<!-- spin_G3 -->\n<g id=\"node23\" class=\"node\">\n<title>spin_G3</title>\n<text text-anchor=\"middle\" x=\"324\" y=\"-122.3\" font-family=\"Times,serif\" font-size=\"14.00\">spin</text>\n</g>\n<!-- SingleFactorizationBlockEncoding&#45;&gt;spin_G3 -->\n<g id=\"edge22\" class=\"edge\">\n<title>SingleFactorizationBlockEncoding:e-&gt;spin_G3:w</title>\n<path fill=\"none\" stroke=\"black\" d=\"M254,-241C254.78,-241 289.09,-143.27 295.12,-128\"/>\n<ellipse fill=\"black\" stroke=\"black\" cx=\"295.6\" cy=\"-126.91\" rx=\"1\" ry=\"1\"/>\n<text text-anchor=\"middle\" x=\"272.5\" y=\"-193\" font-family=\"Times,serif\" font-size=\"10.00\">1</text>\n</g>\n<!-- sys_G23 -->\n<g id=\"node24\" class=\"node\">\n<title>sys_G23</title>\n<text text-anchor=\"middle\" x=\"324\" y=\"-68.3\" font-family=\"Times,serif\" font-size=\"14.00\">sys[0]</text>\n</g>\n<!-- SingleFactorizationBlockEncoding&#45;&gt;sys_G23 -->\n<g id=\"edge23\" class=\"edge\">\n<title>SingleFactorizationBlockEncoding:e-&gt;sys_G23:w</title>\n<path fill=\"none\" stroke=\"black\" d=\"M254,-220C270.43,-220 278.28,-83.34 294.04,-72.66\"/>\n<ellipse fill=\"black\" stroke=\"black\" cx=\"295.05\" cy=\"-72.32\" rx=\"1\" ry=\"1\"/>\n<text text-anchor=\"middle\" x=\"272.5\" y=\"-166\" font-family=\"Times,serif\" font-size=\"10.00\">5</text>\n</g>\n<!-- sys_G4 -->\n<g id=\"node25\" class=\"node\">\n<title>sys_G4</title>\n<text text-anchor=\"middle\" x=\"324\" y=\"-14.3\" font-family=\"Times,serif\" font-size=\"14.00\">sys[1]</text>\n</g>\n<!-- SingleFactorizationBlockEncoding&#45;&gt;sys_G4 -->\n<g id=\"edge24\" class=\"edge\">\n<title>SingleFactorizationBlockEncoding:e-&gt;sys_G4:w</title>\n<path fill=\"none\" stroke=\"black\" d=\"M254,-199C273.84,-199 275.27,-31.86 293.67,-18.81\"/>\n<ellipse fill=\"black\" stroke=\"black\" cx=\"295.06\" cy=\"-18.33\" rx=\"1\" ry=\"1\"/>\n<text text-anchor=\"middle\" x=\"272.5\" y=\"-134\" font-family=\"Times,serif\" font-size=\"10.00\">5</text>\n</g>\n</g>\n</svg>",
          "text/plain": "<IPython.core.display.SVG object>"
         },
         "metadata": {},
         "output_type": "display_data"
        }
       ],
       "tabbable": null,
       "tooltip": null
      }
     },
     "45e21d929cba42809163028593389d31": {
      "model_module": "@jupyter-widgets/controls",
      "model_module_version": "2.0.0",
      "model_name": "HBoxModel",
      "state": {
       "_dom_classes": [],
       "_model_module": "@jupyter-widgets/controls",
       "_model_module_version": "2.0.0",
       "_model_name": "HBoxModel",
       "_view_count": null,
       "_view_module": "@jupyter-widgets/controls",
       "_view_module_version": "2.0.0",
       "_view_name": "HBoxView",
       "box_style": "",
       "children": [
        "IPY_MODEL_41fa722238b341c2af64a666e1f847d7"
       ],
       "layout": "IPY_MODEL_8af6171c4dc54b539c275199c5f62f29",
       "tabbable": null,
       "tooltip": null
      }
     },
     "8adbd815249641449349c84fde9ce96d": {
      "model_module": "@jupyter-widgets/base",
      "model_module_version": "2.0.0",
      "model_name": "LayoutModel",
      "state": {
       "_model_module": "@jupyter-widgets/base",
       "_model_module_version": "2.0.0",
       "_model_name": "LayoutModel",
       "_view_count": null,
       "_view_module": "@jupyter-widgets/base",
       "_view_module_version": "2.0.0",
       "_view_name": "LayoutView",
       "align_content": null,
       "align_items": null,
       "align_self": null,
       "border_bottom": null,
       "border_left": null,
       "border_right": null,
       "border_top": null,
       "bottom": null,
       "display": null,
       "flex": null,
       "flex_flow": null,
       "grid_area": null,
       "grid_auto_columns": null,
       "grid_auto_flow": null,
       "grid_auto_rows": null,
       "grid_column": null,
       "grid_gap": null,
       "grid_row": null,
       "grid_template_areas": null,
       "grid_template_columns": null,
       "grid_template_rows": null,
       "height": null,
       "justify_content": null,
       "justify_items": null,
       "left": null,
       "margin": null,
       "max_height": null,
       "max_width": null,
       "min_height": null,
       "min_width": null,
       "object_fit": null,
       "object_position": null,
       "order": null,
       "overflow": null,
       "padding": null,
       "right": null,
       "top": null,
       "visibility": null,
       "width": null
      }
     },
     "8af6171c4dc54b539c275199c5f62f29": {
      "model_module": "@jupyter-widgets/base",
      "model_module_version": "2.0.0",
      "model_name": "LayoutModel",
      "state": {
       "_model_module": "@jupyter-widgets/base",
       "_model_module_version": "2.0.0",
       "_model_name": "LayoutModel",
       "_view_count": null,
       "_view_module": "@jupyter-widgets/base",
       "_view_module_version": "2.0.0",
       "_view_name": "LayoutView",
       "align_content": null,
       "align_items": null,
       "align_self": null,
       "border_bottom": null,
       "border_left": null,
       "border_right": null,
       "border_top": null,
       "bottom": null,
       "display": null,
       "flex": null,
       "flex_flow": null,
       "grid_area": null,
       "grid_auto_columns": null,
       "grid_auto_flow": null,
       "grid_auto_rows": null,
       "grid_column": null,
       "grid_gap": null,
       "grid_row": null,
       "grid_template_areas": null,
       "grid_template_columns": null,
       "grid_template_rows": null,
       "height": null,
       "justify_content": null,
       "justify_items": null,
       "left": null,
       "margin": null,
       "max_height": null,
       "max_width": null,
       "min_height": null,
       "min_width": null,
       "object_fit": null,
       "object_position": null,
       "order": null,
       "overflow": null,
       "padding": null,
       "right": null,
       "top": null,
       "visibility": null,
       "width": null
      }
     },
     "a22d966fd73a4eb79f50774ed6df7413": {
      "model_module": "@jupyter-widgets/output",
      "model_module_version": "1.0.0",
      "model_name": "OutputModel",
      "state": {
       "_dom_classes": [],
       "_model_module": "@jupyter-widgets/output",
       "_model_module_version": "1.0.0",
       "_model_name": "OutputModel",
       "_view_count": null,
       "_view_module": "@jupyter-widgets/output",
       "_view_module_version": "1.0.0",
       "_view_name": "OutputView",
       "layout": "IPY_MODEL_8adbd815249641449349c84fde9ce96d",
       "msg_id": "",
       "outputs": [
        {
         "data": {
          "text/markdown": "`sf_one_body`",
          "text/plain": "<IPython.core.display.Markdown object>"
         },
         "metadata": {},
         "output_type": "display_data"
        },
        {
         "data": {
          "image/svg+xml": "<svg xmlns=\"http://www.w3.org/2000/svg\" xmlns:xlink=\"http://www.w3.org/1999/xlink\" width=\"349pt\" height=\"584pt\" viewBox=\"0.00 0.00 349.00 584.00\">\n<g id=\"graph0\" class=\"graph\" transform=\"scale(1 1) rotate(0) translate(4 580)\">\n<title>my_graph</title>\n<polygon fill=\"white\" stroke=\"transparent\" points=\"-4,4 -4,-580 345,-580 345,4 -4,4\"/>\n<!-- succ_l_G4 -->\n<g id=\"node1\" class=\"node\">\n<title>succ_l_G4</title>\n<text text-anchor=\"middle\" x=\"35\" y=\"-554.3\" font-family=\"Times,serif\" font-size=\"14.00\">succ_l</text>\n</g>\n<!-- SingleFactorizationOneBody -->\n<g id=\"node12\" class=\"node\">\n<title>SingleFactorizationOneBody</title>\n<polygon fill=\"none\" stroke=\"black\" points=\"107.5,-404 107.5,-421 234.5,-421 234.5,-404 107.5,-404\"/>\n<text text-anchor=\"start\" x=\"110.5\" y=\"-410\" font-family=\"Times,serif\" font-size=\"10.00\">SingleFactorizationOneBody</text>\n<polygon fill=\"none\" stroke=\"black\" points=\"107.5,-383 107.5,-404 234.5,-404 234.5,-383 107.5,-383\"/>\n<text text-anchor=\"start\" x=\"153.5\" y=\"-389.8\" font-family=\"Times,serif\" font-size=\"14.00\">succ_l</text>\n<polygon fill=\"none\" stroke=\"black\" points=\"107.5,-362 107.5,-383 234.5,-383 234.5,-362 107.5,-362\"/>\n<text text-anchor=\"start\" x=\"144\" y=\"-368.8\" font-family=\"Times,serif\" font-size=\"14.00\">l_ne_zero</text>\n<polygon fill=\"none\" stroke=\"black\" points=\"107.5,-341 107.5,-362 234.5,-362 234.5,-341 107.5,-341\"/>\n<text text-anchor=\"start\" x=\"148.5\" y=\"-347.8\" font-family=\"Times,serif\" font-size=\"14.00\">succ_pq</text>\n<polygon fill=\"none\" stroke=\"black\" points=\"107.5,-320 107.5,-341 234.5,-341 234.5,-320 107.5,-320\"/>\n<text text-anchor=\"start\" x=\"169\" y=\"-326.8\" font-family=\"Times,serif\" font-size=\"14.00\">l</text>\n<polygon fill=\"none\" stroke=\"black\" points=\"107.5,-299 107.5,-320 234.5,-320 234.5,-299 107.5,-299\"/>\n<text text-anchor=\"start\" x=\"167.5\" y=\"-305.8\" font-family=\"Times,serif\" font-size=\"14.00\">p</text>\n<polygon fill=\"none\" stroke=\"black\" points=\"107.5,-278 107.5,-299 234.5,-299 234.5,-278 107.5,-278\"/>\n<text text-anchor=\"start\" x=\"167.5\" y=\"-284.8\" font-family=\"Times,serif\" font-size=\"14.00\">q</text>\n<polygon fill=\"none\" stroke=\"black\" points=\"107.5,-257 107.5,-278 234.5,-278 234.5,-257 107.5,-257\"/>\n<text text-anchor=\"start\" x=\"154\" y=\"-263.8\" font-family=\"Times,serif\" font-size=\"14.00\">rot_aa</text>\n<polygon fill=\"none\" stroke=\"black\" points=\"107.5,-236 107.5,-257 234.5,-257 234.5,-236 107.5,-236\"/>\n<text text-anchor=\"start\" x=\"146.5\" y=\"-242.8\" font-family=\"Times,serif\" font-size=\"14.00\">swap_pq</text>\n<polygon fill=\"none\" stroke=\"black\" points=\"107.5,-215 107.5,-236 234.5,-236 234.5,-215 107.5,-215\"/>\n<text text-anchor=\"start\" x=\"159.5\" y=\"-221.8\" font-family=\"Times,serif\" font-size=\"14.00\">spin</text>\n<polygon fill=\"none\" stroke=\"black\" points=\"107.5,-194 107.5,-215 234.5,-215 234.5,-194 107.5,-194\"/>\n<text text-anchor=\"start\" x=\"154\" y=\"-200.8\" font-family=\"Times,serif\" font-size=\"14.00\">sys[0]</text>\n<polygon fill=\"none\" stroke=\"black\" points=\"107.5,-173 107.5,-194 234.5,-194 234.5,-173 107.5,-173\"/>\n<text text-anchor=\"start\" x=\"154\" y=\"-179.8\" font-family=\"Times,serif\" font-size=\"14.00\">sys[1]</text>\n</g>\n<!-- succ_l_G4&#45;&gt;SingleFactorizationOneBody -->\n<g id=\"edge1\" class=\"edge\">\n<title>succ_l_G4:e-&gt;SingleFactorizationOneBody:w</title>\n<path fill=\"none\" stroke=\"black\" d=\"M63,-558C81.13,-558 87.62,-406.56 104.85,-394.73\"/>\n<ellipse fill=\"black\" stroke=\"black\" cx=\"106.05\" cy=\"-394.32\" rx=\"1\" ry=\"1\"/>\n<text text-anchor=\"middle\" x=\"88.5\" y=\"-459\" font-family=\"Times,serif\" font-size=\"10.00\">1</text>\n</g>\n<!-- l_ne_zero_G15 -->\n<g id=\"node2\" class=\"node\">\n<title>l_ne_zero_G15</title>\n<text text-anchor=\"middle\" x=\"35\" y=\"-500.3\" font-family=\"Times,serif\" font-size=\"14.00\">l_ne_zero</text>\n</g>\n<!-- l_ne_zero_G15&#45;&gt;SingleFactorizationOneBody -->\n<g id=\"edge2\" class=\"edge\">\n<title>l_ne_zero_G15:e-&gt;SingleFactorizationOneBody:w</title>\n<path fill=\"none\" stroke=\"black\" d=\"M70,-504C129.79,-504 48.45,-376.05 104.93,-373.05\"/>\n<ellipse fill=\"black\" stroke=\"black\" cx=\"106\" cy=\"-373.03\" rx=\"1\" ry=\"1\"/>\n<text text-anchor=\"middle\" x=\"88.5\" y=\"-441\" font-family=\"Times,serif\" font-size=\"10.00\">1</text>\n</g>\n<!-- succ_pq_G16 -->\n<g id=\"node3\" class=\"node\">\n<title>succ_pq_G16</title>\n<text text-anchor=\"middle\" x=\"35\" y=\"-446.3\" font-family=\"Times,serif\" font-size=\"14.00\">succ_pq</text>\n</g>\n<!-- succ_pq_G16&#45;&gt;SingleFactorizationOneBody -->\n<g id=\"edge3\" class=\"edge\">\n<title>succ_pq_G16:e-&gt;SingleFactorizationOneBody:w</title>\n<path fill=\"none\" stroke=\"black\" d=\"M67,-450C113.31,-450 61.62,-355.04 104.87,-352.07\"/>\n<ellipse fill=\"black\" stroke=\"black\" cx=\"106\" cy=\"-352.03\" rx=\"1\" ry=\"1\"/>\n<text text-anchor=\"middle\" x=\"88.5\" y=\"-367\" font-family=\"Times,serif\" font-size=\"10.00\">1</text>\n</g>\n<!-- l_G32 -->\n<g id=\"node4\" class=\"node\">\n<title>l_G32</title>\n<text text-anchor=\"middle\" x=\"35\" y=\"-392.3\" font-family=\"Times,serif\" font-size=\"14.00\">l</text>\n</g>\n<!-- l_G32&#45;&gt;SingleFactorizationOneBody -->\n<g id=\"edge4\" class=\"edge\">\n<title>l_G32:e-&gt;SingleFactorizationOneBody:w</title>\n<path fill=\"none\" stroke=\"black\" d=\"M63,-396C97.07,-396 73.29,-334.01 104.65,-331.11\"/>\n<ellipse fill=\"black\" stroke=\"black\" cx=\"106\" cy=\"-331.04\" rx=\"1\" ry=\"1\"/>\n<text text-anchor=\"middle\" x=\"88.5\" y=\"-349\" font-family=\"Times,serif\" font-size=\"10.00\">6</text>\n</g>\n<!-- p_G9 -->\n<g id=\"node5\" class=\"node\">\n<title>p_G9</title>\n<text text-anchor=\"middle\" x=\"35\" y=\"-338.3\" font-family=\"Times,serif\" font-size=\"14.00\">p</text>\n</g>\n<!-- p_G9&#45;&gt;SingleFactorizationOneBody -->\n<g id=\"edge5\" class=\"edge\">\n<title>p_G9:e-&gt;SingleFactorizationOneBody:w</title>\n<path fill=\"none\" stroke=\"black\" d=\"M63,-342C86.42,-342 83.06,-311.97 104.81,-310.09\"/>\n<ellipse fill=\"black\" stroke=\"black\" cx=\"106\" cy=\"-310.04\" rx=\"1\" ry=\"1\"/>\n<text text-anchor=\"middle\" x=\"88.5\" y=\"-324\" font-family=\"Times,serif\" font-size=\"10.00\">3</text>\n</g>\n<!-- q_G12 -->\n<g id=\"node6\" class=\"node\">\n<title>q_G12</title>\n<text text-anchor=\"middle\" x=\"35\" y=\"-284.3\" font-family=\"Times,serif\" font-size=\"14.00\">q</text>\n</g>\n<!-- q_G12&#45;&gt;SingleFactorizationOneBody -->\n<g id=\"edge6\" class=\"edge\">\n<title>q_G12:e-&gt;SingleFactorizationOneBody:w</title>\n<path fill=\"none\" stroke=\"black\" d=\"M63,-288C81.79,-288 87.04,-288 104.77,-288\"/>\n<ellipse fill=\"black\" stroke=\"black\" cx=\"106\" cy=\"-288\" rx=\"1\" ry=\"1\"/>\n<text text-anchor=\"middle\" x=\"88.5\" y=\"-291\" font-family=\"Times,serif\" font-size=\"10.00\">3</text>\n</g>\n<!-- rot_aa_G21 -->\n<g id=\"node7\" class=\"node\">\n<title>rot_aa_G21</title>\n<text text-anchor=\"middle\" x=\"35\" y=\"-230.3\" font-family=\"Times,serif\" font-size=\"14.00\">rot_aa</text>\n</g>\n<!-- rot_aa_G21&#45;&gt;SingleFactorizationOneBody -->\n<g id=\"edge7\" class=\"edge\">\n<title>rot_aa_G21:e-&gt;SingleFactorizationOneBody:w</title>\n<path fill=\"none\" stroke=\"black\" d=\"M63,-234C86.68,-234 82.83,-264.97 104.79,-266.91\"/>\n<ellipse fill=\"black\" stroke=\"black\" cx=\"106\" cy=\"-266.96\" rx=\"1\" ry=\"1\"/>\n<text text-anchor=\"middle\" x=\"88.5\" y=\"-259\" font-family=\"Times,serif\" font-size=\"10.00\">1</text>\n</g>\n<!-- swap_pq_G31 -->\n<g id=\"node8\" class=\"node\">\n<title>swap_pq_G31</title>\n<text text-anchor=\"middle\" x=\"35\" y=\"-176.3\" font-family=\"Times,serif\" font-size=\"14.00\">swap_pq</text>\n</g>\n<!-- swap_pq_G31&#45;&gt;SingleFactorizationOneBody -->\n<g id=\"edge8\" class=\"edge\">\n<title>swap_pq_G31:e-&gt;SingleFactorizationOneBody:w</title>\n<path fill=\"none\" stroke=\"black\" d=\"M69,-180C102.05,-180 74.51,-242.94 104.72,-245.89\"/>\n<ellipse fill=\"black\" stroke=\"black\" cx=\"106\" cy=\"-245.95\" rx=\"1\" ry=\"1\"/>\n<text text-anchor=\"middle\" x=\"88.5\" y=\"-227\" font-family=\"Times,serif\" font-size=\"10.00\">1</text>\n</g>\n<!-- spin_G14 -->\n<g id=\"node9\" class=\"node\">\n<title>spin_G14</title>\n<text text-anchor=\"middle\" x=\"35\" y=\"-122.3\" font-family=\"Times,serif\" font-size=\"14.00\">spin</text>\n</g>\n<!-- spin_G14&#45;&gt;SingleFactorizationOneBody -->\n<g id=\"edge9\" class=\"edge\">\n<title>spin_G14:e-&gt;SingleFactorizationOneBody:w</title>\n<path fill=\"none\" stroke=\"black\" d=\"M63,-126C86.32,-126 83.16,-218.91 104.82,-224.72\"/>\n<ellipse fill=\"black\" stroke=\"black\" cx=\"106.01\" cy=\"-224.87\" rx=\"1\" ry=\"1\"/>\n<text text-anchor=\"middle\" x=\"88.5\" y=\"-195\" font-family=\"Times,serif\" font-size=\"10.00\">1</text>\n</g>\n<!-- sys_G8 -->\n<g id=\"node10\" class=\"node\">\n<title>sys_G8</title>\n<text text-anchor=\"middle\" x=\"35\" y=\"-68.3\" font-family=\"Times,serif\" font-size=\"14.00\">sys[0]</text>\n</g>\n<!-- sys_G8&#45;&gt;SingleFactorizationOneBody -->\n<g id=\"edge10\" class=\"edge\">\n<title>sys_G8:e-&gt;SingleFactorizationOneBody:w</title>\n<path fill=\"none\" stroke=\"black\" d=\"M63,-72C93.2,-72 76.89,-197.89 104.91,-203.79\"/>\n<ellipse fill=\"black\" stroke=\"black\" cx=\"106.01\" cy=\"-203.9\" rx=\"1\" ry=\"1\"/>\n<text text-anchor=\"middle\" x=\"88.5\" y=\"-171\" font-family=\"Times,serif\" font-size=\"10.00\">5</text>\n</g>\n<!-- sys_G24 -->\n<g id=\"node11\" class=\"node\">\n<title>sys_G24</title>\n<text text-anchor=\"middle\" x=\"35\" y=\"-14.3\" font-family=\"Times,serif\" font-size=\"14.00\">sys[1]</text>\n</g>\n<!-- sys_G24&#45;&gt;SingleFactorizationOneBody -->\n<g id=\"edge11\" class=\"edge\">\n<title>sys_G24:e-&gt;SingleFactorizationOneBody:w</title>\n<path fill=\"none\" stroke=\"black\" d=\"M63,-18C100.21,-18 70.27,-176.62 104.86,-182.81\"/>\n<ellipse fill=\"black\" stroke=\"black\" cx=\"106\" cy=\"-182.91\" rx=\"1\" ry=\"1\"/>\n<text text-anchor=\"middle\" x=\"88.5\" y=\"-154\" font-family=\"Times,serif\" font-size=\"10.00\">5</text>\n</g>\n<!-- succ_l_G11 -->\n<g id=\"node13\" class=\"node\">\n<title>succ_l_G11</title>\n<text text-anchor=\"middle\" x=\"306\" y=\"-554.3\" font-family=\"Times,serif\" font-size=\"14.00\">succ_l</text>\n</g>\n<!-- SingleFactorizationOneBody&#45;&gt;succ_l_G11 -->\n<g id=\"edge12\" class=\"edge\">\n<title>SingleFactorizationOneBody:e-&gt;succ_l_G11:w</title>\n<path fill=\"none\" stroke=\"black\" d=\"M234,-394C252.13,-394 258.62,-545.44 275.85,-557.27\"/>\n<ellipse fill=\"black\" stroke=\"black\" cx=\"277.05\" cy=\"-557.68\" rx=\"1\" ry=\"1\"/>\n<text text-anchor=\"middle\" x=\"252.5\" y=\"-459\" font-family=\"Times,serif\" font-size=\"10.00\">1</text>\n</g>\n<!-- l_ne_zero_G25 -->\n<g id=\"node14\" class=\"node\">\n<title>l_ne_zero_G25</title>\n<text text-anchor=\"middle\" x=\"306\" y=\"-500.3\" font-family=\"Times,serif\" font-size=\"14.00\">l_ne_zero</text>\n</g>\n<!-- SingleFactorizationOneBody&#45;&gt;l_ne_zero_G25 -->\n<g id=\"edge13\" class=\"edge\">\n<title>SingleFactorizationOneBody:e-&gt;l_ne_zero_G25:w</title>\n<path fill=\"none\" stroke=\"black\" d=\"M234,-373C293.79,-373 212.45,-500.95 268.93,-503.95\"/>\n<ellipse fill=\"black\" stroke=\"black\" cx=\"270\" cy=\"-503.97\" rx=\"1\" ry=\"1\"/>\n<text text-anchor=\"middle\" x=\"252.5\" y=\"-441\" font-family=\"Times,serif\" font-size=\"10.00\">1</text>\n</g>\n<!-- succ_pq_G30 -->\n<g id=\"node15\" class=\"node\">\n<title>succ_pq_G30</title>\n<text text-anchor=\"middle\" x=\"306\" y=\"-446.3\" font-family=\"Times,serif\" font-size=\"14.00\">succ_pq</text>\n</g>\n<!-- SingleFactorizationOneBody&#45;&gt;succ_pq_G30 -->\n<g id=\"edge14\" class=\"edge\">\n<title>SingleFactorizationOneBody:e-&gt;succ_pq_G30:w</title>\n<path fill=\"none\" stroke=\"black\" d=\"M234,-352C280.31,-352 228.62,-446.96 271.87,-449.93\"/>\n<ellipse fill=\"black\" stroke=\"black\" cx=\"273\" cy=\"-449.97\" rx=\"1\" ry=\"1\"/>\n<text text-anchor=\"middle\" x=\"252.5\" y=\"-367\" font-family=\"Times,serif\" font-size=\"10.00\">1</text>\n</g>\n<!-- l_G3 -->\n<g id=\"node16\" class=\"node\">\n<title>l_G3</title>\n<text text-anchor=\"middle\" x=\"306\" y=\"-392.3\" font-family=\"Times,serif\" font-size=\"14.00\">l</text>\n</g>\n<!-- SingleFactorizationOneBody&#45;&gt;l_G3 -->\n<g id=\"edge15\" class=\"edge\">\n<title>SingleFactorizationOneBody:e-&gt;l_G3:w</title>\n<path fill=\"none\" stroke=\"black\" d=\"M234,-331C268.07,-331 244.29,-392.99 275.65,-395.89\"/>\n<ellipse fill=\"black\" stroke=\"black\" cx=\"277\" cy=\"-395.96\" rx=\"1\" ry=\"1\"/>\n<text text-anchor=\"middle\" x=\"252.5\" y=\"-349\" font-family=\"Times,serif\" font-size=\"10.00\">6</text>\n</g>\n<!-- p_G13 -->\n<g id=\"node17\" class=\"node\">\n<title>p_G13</title>\n<text text-anchor=\"middle\" x=\"306\" y=\"-338.3\" font-family=\"Times,serif\" font-size=\"14.00\">p</text>\n</g>\n<!-- SingleFactorizationOneBody&#45;&gt;p_G13 -->\n<g id=\"edge16\" class=\"edge\">\n<title>SingleFactorizationOneBody:e-&gt;p_G13:w</title>\n<path fill=\"none\" stroke=\"black\" d=\"M234,-310C257.42,-310 254.06,-340.03 275.81,-341.91\"/>\n<ellipse fill=\"black\" stroke=\"black\" cx=\"277\" cy=\"-341.96\" rx=\"1\" ry=\"1\"/>\n<text text-anchor=\"middle\" x=\"252.5\" y=\"-324\" font-family=\"Times,serif\" font-size=\"10.00\">3</text>\n</g>\n<!-- q_G23 -->\n<g id=\"node18\" class=\"node\">\n<title>q_G23</title>\n<text text-anchor=\"middle\" x=\"306\" y=\"-284.3\" font-family=\"Times,serif\" font-size=\"14.00\">q</text>\n</g>\n<!-- SingleFactorizationOneBody&#45;&gt;q_G23 -->\n<g id=\"edge17\" class=\"edge\">\n<title>SingleFactorizationOneBody:e-&gt;q_G23:w</title>\n<path fill=\"none\" stroke=\"black\" d=\"M234,-288C252.79,-288 258.04,-288 275.77,-288\"/>\n<ellipse fill=\"black\" stroke=\"black\" cx=\"277\" cy=\"-288\" rx=\"1\" ry=\"1\"/>\n<text text-anchor=\"middle\" x=\"252.5\" y=\"-291\" font-family=\"Times,serif\" font-size=\"10.00\">3</text>\n</g>\n<!-- rot_aa_G28 -->\n<g id=\"node19\" class=\"node\">\n<title>rot_aa_G28</title>\n<text text-anchor=\"middle\" x=\"306\" y=\"-230.3\" font-family=\"Times,serif\" font-size=\"14.00\">rot_aa</text>\n</g>\n<!-- SingleFactorizationOneBody&#45;&gt;rot_aa_G28 -->\n<g id=\"edge18\" class=\"edge\">\n<title>SingleFactorizationOneBody:e-&gt;rot_aa_G28:w</title>\n<path fill=\"none\" stroke=\"black\" d=\"M234,-267C257.68,-267 253.83,-236.03 275.79,-234.09\"/>\n<ellipse fill=\"black\" stroke=\"black\" cx=\"277\" cy=\"-234.04\" rx=\"1\" ry=\"1\"/>\n<text text-anchor=\"middle\" x=\"252.5\" y=\"-259\" font-family=\"Times,serif\" font-size=\"10.00\">1</text>\n</g>\n<!-- swap_pq_G7 -->\n<g id=\"node20\" class=\"node\">\n<title>swap_pq_G7</title>\n<text text-anchor=\"middle\" x=\"306\" y=\"-176.3\" font-family=\"Times,serif\" font-size=\"14.00\">swap_pq</text>\n</g>\n<!-- SingleFactorizationOneBody&#45;&gt;swap_pq_G7 -->\n<g id=\"edge19\" class=\"edge\">\n<title>SingleFactorizationOneBody:e-&gt;swap_pq_G7:w</title>\n<path fill=\"none\" stroke=\"black\" d=\"M234,-246C267.05,-246 239.51,-183.06 269.72,-180.11\"/>\n<ellipse fill=\"black\" stroke=\"black\" cx=\"271\" cy=\"-180.05\" rx=\"1\" ry=\"1\"/>\n<text text-anchor=\"middle\" x=\"252.5\" y=\"-227\" font-family=\"Times,serif\" font-size=\"10.00\">1</text>\n</g>\n<!-- spin_G26 -->\n<g id=\"node21\" class=\"node\">\n<title>spin_G26</title>\n<text text-anchor=\"middle\" x=\"306\" y=\"-122.3\" font-family=\"Times,serif\" font-size=\"14.00\">spin</text>\n</g>\n<!-- SingleFactorizationOneBody&#45;&gt;spin_G26 -->\n<g id=\"edge20\" class=\"edge\">\n<title>SingleFactorizationOneBody:e-&gt;spin_G26:w</title>\n<path fill=\"none\" stroke=\"black\" d=\"M234,-225C257.32,-225 254.16,-132.09 275.82,-126.28\"/>\n<ellipse fill=\"black\" stroke=\"black\" cx=\"277.01\" cy=\"-126.13\" rx=\"1\" ry=\"1\"/>\n<text text-anchor=\"middle\" x=\"252.5\" y=\"-195\" font-family=\"Times,serif\" font-size=\"10.00\">1</text>\n</g>\n<!-- sys_G18 -->\n<g id=\"node22\" class=\"node\">\n<title>sys_G18</title>\n<text text-anchor=\"middle\" x=\"306\" y=\"-68.3\" font-family=\"Times,serif\" font-size=\"14.00\">sys[0]</text>\n</g>\n<!-- SingleFactorizationOneBody&#45;&gt;sys_G18 -->\n<g id=\"edge21\" class=\"edge\">\n<title>SingleFactorizationOneBody:e-&gt;sys_G18:w</title>\n<path fill=\"none\" stroke=\"black\" d=\"M234,-204C264.2,-204 247.89,-78.11 275.91,-72.21\"/>\n<ellipse fill=\"black\" stroke=\"black\" cx=\"277.01\" cy=\"-72.1\" rx=\"1\" ry=\"1\"/>\n<text text-anchor=\"middle\" x=\"252.5\" y=\"-171\" font-family=\"Times,serif\" font-size=\"10.00\">5</text>\n</g>\n<!-- sys_G1 -->\n<g id=\"node23\" class=\"node\">\n<title>sys_G1</title>\n<text text-anchor=\"middle\" x=\"306\" y=\"-14.3\" font-family=\"Times,serif\" font-size=\"14.00\">sys[1]</text>\n</g>\n<!-- SingleFactorizationOneBody&#45;&gt;sys_G1 -->\n<g id=\"edge22\" class=\"edge\">\n<title>SingleFactorizationOneBody:e-&gt;sys_G1:w</title>\n<path fill=\"none\" stroke=\"black\" d=\"M234,-183C271.21,-183 241.27,-24.38 275.86,-18.19\"/>\n<ellipse fill=\"black\" stroke=\"black\" cx=\"277\" cy=\"-18.09\" rx=\"1\" ry=\"1\"/>\n<text text-anchor=\"middle\" x=\"252.5\" y=\"-154\" font-family=\"Times,serif\" font-size=\"10.00\">5</text>\n</g>\n</g>\n</svg>",
          "text/plain": "<IPython.core.display.SVG object>"
         },
         "metadata": {},
         "output_type": "display_data"
        }
       ],
       "tabbable": null,
       "tooltip": null
      }
     },
     "b92514ed7022415b8fddb69767fef2fa": {
      "model_module": "@jupyter-widgets/base",
      "model_module_version": "2.0.0",
      "model_name": "LayoutModel",
      "state": {
       "_model_module": "@jupyter-widgets/base",
       "_model_module_version": "2.0.0",
       "_model_name": "LayoutModel",
       "_view_count": null,
       "_view_module": "@jupyter-widgets/base",
       "_view_module_version": "2.0.0",
       "_view_name": "LayoutView",
       "align_content": null,
       "align_items": null,
       "align_self": null,
       "border_bottom": null,
       "border_left": null,
       "border_right": null,
       "border_top": null,
       "bottom": null,
       "display": null,
       "flex": null,
       "flex_flow": null,
       "grid_area": null,
       "grid_auto_columns": null,
       "grid_auto_flow": null,
       "grid_auto_rows": null,
       "grid_column": null,
       "grid_gap": null,
       "grid_row": null,
       "grid_template_areas": null,
       "grid_template_columns": null,
       "grid_template_rows": null,
       "height": null,
       "justify_content": null,
       "justify_items": null,
       "left": null,
       "margin": null,
       "max_height": null,
       "max_width": null,
       "min_height": null,
       "min_width": null,
       "object_fit": null,
       "object_position": null,
       "order": null,
       "overflow": null,
       "padding": null,
       "right": null,
       "top": null,
       "visibility": null,
       "width": null
      }
     }
    },
    "version_major": 2,
    "version_minor": 0
   }
  }
 },
 "nbformat": 4,
 "nbformat_minor": 5
}
