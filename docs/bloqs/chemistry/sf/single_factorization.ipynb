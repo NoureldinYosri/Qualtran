{
 "cells": [
  {
   "cell_type": "markdown",
   "id": "2fae5a66",
   "metadata": {
    "cq.autogen": "title_cell"
   },
   "source": [
    "# Single Factorization\n",
    "\n",
    "Bloqs for the single-factorized chemistry Hamiltonian in second quantization.\n",
    "\n",
    "Recall that for the single factorized Hamiltonian we have\n",
    "$$\n",
    "    H = \\sum_{pq}T'_{pq} a_p^\\dagger a_q + \\frac{1}{2} \\sum_l \\left(\\sum_{pq}\n",
    "W_{pq}^{(l)} a_p^\\dagger a_q\\right)^2.\n",
    "$$\n",
    "where $\\sum_l^L W_{pq}^{(l)} W_{rs}^{(l)} = (pq|rs)$ are the standard chemist's\n",
    "electron repulsion integrals."
   ]
  },
  {
   "cell_type": "code",
   "execution_count": 1,
   "id": "3ac425f4",
   "metadata": {
    "cq.autogen": "top_imports"
   },
   "outputs": [],
   "source": [
    "from qualtran import Bloq, CompositeBloq, BloqBuilder, Signature, Register\n",
    "from qualtran import QBit, QInt, QUInt, QAny\n",
    "from qualtran.drawing import show_bloq, show_call_graph, show_counts_sigma\n",
    "from typing import *\n",
    "import numpy as np\n",
    "import sympy\n",
    "import cirq"
   ]
  },
  {
   "cell_type": "markdown",
   "id": "ab390dee",
   "metadata": {
    "cq.autogen": "SingleFactorizationOneBody.bloq_doc.md"
   },
   "source": [
    "## `SingleFactorizationOneBody`\n",
    "Block encoding of single factorization one-body Hamiltonian.\n",
    "\n",
    "Implements inner \"half\" of Fig. 15 in the reference. This block encoding is\n",
    "applied twice (with a reflection around the inner state preparation\n",
    "registers) to implement (roughly) the square of this one-body operator.\n",
    "\n",
    "#### Parameters\n",
    " - `num_aux`: Dimension of auxiliary index for single factorized Hamiltonian. Called $L$ in the reference.\n",
    " - `num_spin_orb`: The number of spin orbitals. Typically called $N$.\n",
    " - `num_bits_state_prep`: The number of bits of precision for coherent alias sampling. Called $\\aleph$ in the reference.\n",
    " - `num_bits_rot_aa`: Number of bits of precision for rotations for amplitude amplification in uniform state preparation. Called $b_r$ in the reference.\n",
    " - `adjoint`: Whether this bloq is daggered or not. This affects the QROM cost.\n",
    " - `kp1`: QROAM blocking factor for data prepared over l (auxiliary) index. Defaults to 1 (i.e. QROM).\n",
    " - `kp1`: QROAM blocking factor for data prepared over pq indicies. Defaults to 1 (i.e.) QROM.\n",
    " - `kp1_inv`: QROAM blocking factor for inverting data prepared over l (auxiliary) index.\n",
    " - `kp1_inv`: QROAM blocking factor for inverting of data prepared over pq. \n",
    "\n",
    "#### Registers\n",
    " - `succ_l`: Flag for success of l state preparation.\n",
    " - `l_ne_zero`: Flag for l != 0.\n",
    " - `succ_pq`: Flag for success of pq.\n",
    " - `l`: register to store L values for auxiliary index.\n",
    " - `p`: spatial orbital index. range(0, num_spin_orb // 2)\n",
    " - `q`: spatial orbital index. range(0, num_spin_orb // 2)\n",
    " - `rot_aa`: Qubit to rotate for amplitude amplification for state preparation.\n",
    " - `swap_pq`: Qubit for controlling swaps over p and q registers.\n",
    " - `spin`: Qubit for controlling swaps over system registers.\n",
    " - `sys`: The system registers. \n",
    "\n",
    "Refererences:\n",
    "    [Even More Efficient Quantum Computations of Chemistry Through Tensor\n",
    "        Hypercontraction](https://arxiv.org/abs/2011.03494) Fig. 15 page 43."
   ]
  },
  {
   "cell_type": "code",
   "execution_count": 2,
   "id": "7e8ff548",
   "metadata": {
    "cq.autogen": "SingleFactorizationOneBody.bloq_doc.py"
   },
   "outputs": [],
   "source": [
    "from qualtran.bloqs.chemistry.sf.single_factorization import SingleFactorizationOneBody"
   ]
  },
  {
   "cell_type": "markdown",
   "id": "eca84002",
   "metadata": {
    "cq.autogen": "SingleFactorizationOneBody.example_instances.md"
   },
   "source": [
    "### Example Instances"
   ]
  },
  {
   "cell_type": "code",
   "execution_count": 3,
   "id": "a3a8eec8",
   "metadata": {
    "cq.autogen": "SingleFactorizationOneBody.sf_one_body"
   },
   "outputs": [],
   "source": [
    "num_aux = 50\n",
    "num_bits_state_prep = 12\n",
    "num_bits_rot_aa = 7\n",
    "num_spin_orb = 10\n",
    "sf_one_body = SingleFactorizationOneBody(\n",
    "    num_aux=num_aux,\n",
    "    num_spin_orb=num_spin_orb,\n",
    "    num_bits_state_prep=num_bits_state_prep,\n",
    "    num_bits_rot_aa=num_bits_rot_aa,\n",
    "    adjoint=False,\n",
    ")"
   ]
  },
  {
   "cell_type": "markdown",
   "id": "fb3e5379",
   "metadata": {
    "cq.autogen": "SingleFactorizationOneBody.graphical_signature.md"
   },
   "source": [
    "#### Graphical Signature"
   ]
  },
  {
   "cell_type": "code",
   "execution_count": 4,
   "id": "fa1c807d",
   "metadata": {
    "cq.autogen": "SingleFactorizationOneBody.graphical_signature.py"
   },
   "outputs": [
    {
     "data": {
      "application/vnd.jupyter.widget-view+json": {
       "model_id": "a4ec1762ef174a8888a974d82edd1ad4",
       "version_major": 2,
       "version_minor": 0
      },
      "text/plain": [
       "HBox(children=(Output(outputs=({'output_type': 'display_data', 'data': {'text/plain': '<IPython.core.display.M…"
      ]
     },
     "metadata": {},
     "output_type": "display_data"
    }
   ],
   "source": [
    "from qualtran.drawing import show_bloqs\n",
    "show_bloqs([sf_one_body],\n",
    "           ['`sf_one_body`'])"
   ]
  },
  {
   "cell_type": "markdown",
   "id": "679296e6",
   "metadata": {
    "cq.autogen": "SingleFactorizationOneBody.call_graph.md"
   },
   "source": [
    "### Call Graph"
   ]
  },
  {
   "cell_type": "code",
   "execution_count": 5,
   "id": "36b279af",
   "metadata": {
    "cq.autogen": "SingleFactorizationOneBody.call_graph.py"
   },
   "outputs": [
    {
     "data": {
      "image/svg+xml": [
       "<svg xmlns=\"http://www.w3.org/2000/svg\" xmlns:xlink=\"http://www.w3.org/1999/xlink\" width=\"1177pt\" height=\"131pt\" viewBox=\"0.00 0.00 1177.00 131.00\">\n",
       "<g id=\"graph0\" class=\"graph\" transform=\"scale(1 1) rotate(0) translate(4 127)\">\n",
       "<title>counts</title>\n",
       "<polygon fill=\"white\" stroke=\"transparent\" points=\"-4,4 -4,-127 1173,-127 1173,4 -4,4\"/>\n",
       "<!-- b0 -->\n",
       "<g id=\"node1\" class=\"node\">\n",
       "<title>b0</title>\n",
       "<polygon fill=\"none\" stroke=\"black\" points=\"557,-123 6,-123 6,-87 557,-87 557,-123\"/>\n",
       "<text text-anchor=\"start\" x=\"202.5\" y=\"-106.8\" font-family=\"Times,serif\" font-size=\"14.00\">SingleFactorizationOneBody</text>\n",
       "<text text-anchor=\"start\" x=\"14\" y=\"-96\" font-family=\"monospace\" font-size=\"10.00\">num_aux=50, num_spin_orb=10, num_bits_state_prep=12, num_bits_rot_aa=7, [5 addtl fields].</text>\n",
       "</g>\n",
       "<!-- b1 -->\n",
       "<g id=\"node2\" class=\"node\">\n",
       "<title>b1</title>\n",
       "<polygon fill=\"none\" stroke=\"black\" points=\"137,-36 0,-36 0,0 137,0 137,-36\"/>\n",
       "<text text-anchor=\"start\" x=\"44.5\" y=\"-19.8\" font-family=\"Times,serif\" font-size=\"14.00\">In-Prep†</text>\n",
       "<text text-anchor=\"start\" x=\"8\" y=\"-9\" font-family=\"monospace\" font-size=\"10.00\">subbloq=InnerPre ...</text>\n",
       "</g>\n",
       "<!-- b0&#45;&gt;b1 -->\n",
       "<g id=\"edge1\" class=\"edge\">\n",
       "<title>b0-&gt;b1</title>\n",
       "<path fill=\"none\" stroke=\"black\" d=\"M238.65,-86.9C204.64,-73.33 156.94,-54.29 120.7,-39.83\"/>\n",
       "<polygon fill=\"black\" stroke=\"black\" points=\"121.86,-36.53 111.28,-36.07 119.27,-43.03 121.86,-36.53\"/>\n",
       "<text text-anchor=\"middle\" x=\"192\" y=\"-57.8\" font-family=\"Times,serif\" font-size=\"14.00\">1</text>\n",
       "</g>\n",
       "<!-- b2 -->\n",
       "<g id=\"node3\" class=\"node\">\n",
       "<title>b2</title>\n",
       "<polygon fill=\"none\" stroke=\"black\" points=\"226,-36 155,-36 155,0 226,0 226,-36\"/>\n",
       "<text text-anchor=\"start\" x=\"170.5\" y=\"-19.8\" font-family=\"Times,serif\" font-size=\"14.00\">CSwap</text>\n",
       "<text text-anchor=\"start\" x=\"163\" y=\"-9\" font-family=\"monospace\" font-size=\"10.00\">bitsize=3</text>\n",
       "</g>\n",
       "<!-- b0&#45;&gt;b2 -->\n",
       "<g id=\"edge2\" class=\"edge\">\n",
       "<title>b0-&gt;b2</title>\n",
       "<path fill=\"none\" stroke=\"black\" d=\"M263.08,-86.8C249.64,-74.24 231.24,-57.05 216.32,-43.12\"/>\n",
       "<polygon fill=\"black\" stroke=\"black\" points=\"218.58,-40.44 208.89,-36.18 213.81,-45.56 218.58,-40.44\"/>\n",
       "<text text-anchor=\"middle\" x=\"245\" y=\"-57.8\" font-family=\"Times,serif\" font-size=\"14.00\">2</text>\n",
       "</g>\n",
       "<!-- b3 -->\n",
       "<g id=\"node4\" class=\"node\">\n",
       "<title>b3</title>\n",
       "<polygon fill=\"none\" stroke=\"black\" points=\"318.5,-36 244.5,-36 244.5,0 318.5,0 318.5,-36\"/>\n",
       "<text text-anchor=\"start\" x=\"252.5\" y=\"-14.3\" font-family=\"Times,serif\" font-size=\"14.00\">Hadamard</text>\n",
       "</g>\n",
       "<!-- b0&#45;&gt;b3 -->\n",
       "<g id=\"edge3\" class=\"edge\">\n",
       "<title>b0-&gt;b3</title>\n",
       "<path fill=\"none\" stroke=\"black\" d=\"M281.5,-86.8C281.5,-75.16 281.5,-59.55 281.5,-46.24\"/>\n",
       "<polygon fill=\"black\" stroke=\"black\" points=\"285,-46.18 281.5,-36.18 278,-46.18 285,-46.18\"/>\n",
       "<text text-anchor=\"middle\" x=\"285\" y=\"-57.8\" font-family=\"Times,serif\" font-size=\"14.00\">4</text>\n",
       "</g>\n",
       "<!-- b4 -->\n",
       "<g id=\"node5\" class=\"node\">\n",
       "<title>b4</title>\n",
       "<polygon fill=\"none\" stroke=\"black\" points=\"888,-36 337,-36 337,0 888,0 888,-36\"/>\n",
       "<text text-anchor=\"start\" x=\"592\" y=\"-19.8\" font-family=\"Times,serif\" font-size=\"14.00\">In-Prep</text>\n",
       "<text text-anchor=\"start\" x=\"345\" y=\"-9\" font-family=\"monospace\" font-size=\"10.00\">num_aux=50, num_spin_orb=10, num_bits_state_prep=12, num_bits_rot_aa=7, [2 addtl fields].</text>\n",
       "</g>\n",
       "<!-- b0&#45;&gt;b4 -->\n",
       "<g id=\"edge4\" class=\"edge\">\n",
       "<title>b0-&gt;b4</title>\n",
       "<path fill=\"none\" stroke=\"black\" d=\"M348.08,-86.9C402.4,-72.95 479.17,-53.24 536.01,-38.64\"/>\n",
       "<polygon fill=\"black\" stroke=\"black\" points=\"537.21,-41.95 546.02,-36.07 535.47,-35.17 537.21,-41.95\"/>\n",
       "<text text-anchor=\"middle\" x=\"471\" y=\"-57.8\" font-family=\"Times,serif\" font-size=\"14.00\">1</text>\n",
       "</g>\n",
       "<!-- b5 -->\n",
       "<g id=\"node6\" class=\"node\">\n",
       "<title>b5</title>\n",
       "<polygon fill=\"none\" stroke=\"black\" points=\"1169,-36 906,-36 906,0 1169,0 1169,-36\"/>\n",
       "<text text-anchor=\"start\" x=\"968\" y=\"-19.8\" font-family=\"Times,serif\" font-size=\"14.00\">SelectSingleFactorization</text>\n",
       "<text text-anchor=\"start\" x=\"914\" y=\"-9\" font-family=\"monospace\" font-size=\"10.00\">num_spin_orb=10, additional_control=False</text>\n",
       "</g>\n",
       "<!-- b0&#45;&gt;b5 -->\n",
       "<g id=\"edge5\" class=\"edge\">\n",
       "<title>b0-&gt;b5</title>\n",
       "<path fill=\"none\" stroke=\"black\" d=\"M439.23,-86.99C560.94,-73.77 733.84,-54.76 895.64,-36.09\"/>\n",
       "<polygon fill=\"black\" stroke=\"black\" points=\"896.25,-39.55 905.79,-34.92 895.45,-32.59 896.25,-39.55\"/>\n",
       "<text text-anchor=\"middle\" x=\"732\" y=\"-57.8\" font-family=\"Times,serif\" font-size=\"14.00\">1</text>\n",
       "</g>\n",
       "</g>\n",
       "</svg>"
      ],
      "text/plain": [
       "<IPython.core.display.SVG object>"
      ]
     },
     "metadata": {},
     "output_type": "display_data"
    },
    {
     "data": {
      "text/markdown": [
       "#### Counts totals:\n",
       " - `Adjoint(subbloq=InnerPrepareSingleFactorization(num_aux=50, num_spin_orb=10, num_bits_state_prep=12, num_bits_rot_aa=7, kp1=1, kp2=1))`: 1\n",
       " - `CSwap(bitsize=3)`: 2\n",
       " - `Hadamard()`: 4\n",
       " - `InnerPrepareSingleFactorization(num_aux=50, num_spin_orb=10, num_bits_state_prep=12, num_bits_rot_aa=7, kp1=1, kp2=1)`: 1\n",
       " - `SelectSingleFactorization(num_spin_orb=10, additional_control=False)`: 1"
      ],
      "text/plain": [
       "<IPython.core.display.Markdown object>"
      ]
     },
     "metadata": {},
     "output_type": "display_data"
    }
   ],
   "source": [
    "from qualtran.resource_counting.generalizers import ignore_split_join\n",
    "sf_one_body_g, sf_one_body_sigma = sf_one_body.call_graph(max_depth=1, generalizer=ignore_split_join)\n",
    "show_call_graph(sf_one_body_g)\n",
    "show_counts_sigma(sf_one_body_sigma)"
   ]
  },
  {
   "cell_type": "markdown",
   "id": "e85fe81e",
   "metadata": {
    "cq.autogen": "SingleFactorizationBlockEncoding.bloq_doc.md"
   },
   "source": [
    "## `SingleFactorizationBlockEncoding`\n",
    "Block encoding of single factorization Hamiltonian.\n",
    "\n",
    "Implements Fig. 15 in the reference.\n",
    "\n",
    "#### Parameters\n",
    " - `num_spin_orb`: The number of spin orbitals. Typically called N.\n",
    " - `num_aux`: Dimension of auxiliary index for single factorized Hamiltonian. Called $L$ in the reference.\n",
    " - `num_bits_state_prep`: The number of bits of precision for coherent alias sampling. Called $\\aleph$ in the reference.\n",
    " - `num_bits_rot_aa_outer`: Number of bits of precision for rotations for amplitude amplification in outer uniform state preparation. Called $b_r$ in the reference.\n",
    " - `num_bits_rot_aa_inner`: Number of bits of precision for rotations for amplitude amplification in inner uniform state preparation. Called $b_r$ in the reference.\n",
    " - `kp1`: QROAM blocking factor for data prepared over l (auxiliary) index. Defaults to 1 (i.e. QROM).\n",
    " - `kp1`: QROAM blocking factor for data prepared over pq indicies. Defaults to 1 (i.e.) QROM.\n",
    " - `kp1_inv`: QROAM blocking factor for inverting the data prepared over l (auxiliary) index.\n",
    " - `kp1_inv`: QROAM blocking factor for inverting the data prepared over pq. \n",
    "\n",
    "#### Registers\n",
    " - `ctrl`: Control registers for state preparation.\n",
    " - `l`: register to store L values for auxiliary index.\n",
    " - `p`: spatial orbital index. range(0, num_spin_orb // 2)\n",
    " - `q`: spatial orbital index. range(0, num_spin_orb // 2)\n",
    " - `rot_aa`: Qubit to rotate for amplitude amplification for state preparation.\n",
    " - `swap_pq`: Qubit for controlling swaps over p and q registers.\n",
    " - `spin`: Qubit for controlling swaps over system registers.\n",
    " - `sys`: The system registers. \n",
    "\n",
    "Refererences:\n",
    "    [Even More Efficient Quantum Computations of Chemistry Through Tensor\n",
    "        Hypercontraction](https://arxiv.org/abs/2011.03494) Fig 15, page 43."
   ]
  },
  {
   "cell_type": "code",
   "execution_count": 6,
   "id": "82d05628",
   "metadata": {
    "cq.autogen": "SingleFactorizationBlockEncoding.bloq_doc.py"
   },
   "outputs": [],
   "source": [
    "from qualtran.bloqs.chemistry.sf.single_factorization import SingleFactorizationBlockEncoding"
   ]
  },
  {
   "cell_type": "markdown",
   "id": "265a4c7c",
   "metadata": {
    "cq.autogen": "SingleFactorizationBlockEncoding.example_instances.md"
   },
   "source": [
    "### Example Instances"
   ]
  },
  {
   "cell_type": "code",
   "execution_count": 7,
   "id": "318a995c",
   "metadata": {
    "cq.autogen": "SingleFactorizationBlockEncoding.sf_block_encoding"
   },
   "outputs": [],
   "source": [
    "num_spin_orb = 10\n",
    "num_aux = 50\n",
    "num_bits_state_prep = 12\n",
    "sf_block_encoding = SingleFactorizationBlockEncoding(\n",
    "    num_spin_orb=num_spin_orb,\n",
    "    num_aux=num_aux,\n",
    "    num_bits_state_prep=num_bits_state_prep,\n",
    "    num_bits_rot_aa_outer=7,\n",
    "    num_bits_rot_aa_inner=7,\n",
    ")"
   ]
  },
  {
   "cell_type": "markdown",
   "id": "314be7c7",
   "metadata": {
    "cq.autogen": "SingleFactorizationBlockEncoding.graphical_signature.md"
   },
   "source": [
    "#### Graphical Signature"
   ]
  },
  {
   "cell_type": "code",
   "execution_count": 8,
   "id": "d34eb36a",
   "metadata": {
    "cq.autogen": "SingleFactorizationBlockEncoding.graphical_signature.py"
   },
   "outputs": [
    {
     "data": {
      "application/vnd.jupyter.widget-view+json": {
       "model_id": "f6b5fd2771e349d3981a785e374814c7",
       "version_major": 2,
       "version_minor": 0
      },
      "text/plain": [
       "HBox(children=(Output(outputs=({'output_type': 'display_data', 'data': {'text/plain': '<IPython.core.display.M…"
      ]
     },
     "metadata": {},
     "output_type": "display_data"
    }
   ],
   "source": [
    "from qualtran.drawing import show_bloqs\n",
    "show_bloqs([sf_block_encoding],\n",
    "           ['`sf_block_encoding`'])"
   ]
  },
  {
   "cell_type": "markdown",
   "id": "e9fe3f4b",
   "metadata": {
    "cq.autogen": "SingleFactorizationBlockEncoding.call_graph.md"
   },
   "source": [
    "### Call Graph"
   ]
  },
  {
   "cell_type": "code",
   "execution_count": 9,
   "id": "704e914e",
   "metadata": {
    "cq.autogen": "SingleFactorizationBlockEncoding.call_graph.py"
   },
   "outputs": [
    {
     "data": {
      "image/svg+xml": [
       "<svg xmlns=\"http://www.w3.org/2000/svg\" xmlns:xlink=\"http://www.w3.org/1999/xlink\" width=\"1336pt\" height=\"131pt\" viewBox=\"0.00 0.00 1336.00 131.00\">\n",
       "<g id=\"graph0\" class=\"graph\" transform=\"scale(1 1) rotate(0) translate(4 127)\">\n",
       "<title>counts</title>\n",
       "<polygon fill=\"white\" stroke=\"transparent\" points=\"-4,4 -4,-127 1332,-127 1332,4 -4,4\"/>\n",
       "<!-- b0 -->\n",
       "<g id=\"node1\" class=\"node\">\n",
       "<title>b0</title>\n",
       "<polygon fill=\"none\" stroke=\"black\" points=\"1103,-123 516,-123 516,-87 1103,-87 1103,-123\"/>\n",
       "<text text-anchor=\"start\" x=\"714.5\" y=\"-106.8\" font-family=\"Times,serif\" font-size=\"14.00\">SingleFactorizationBlockEncoding</text>\n",
       "<text text-anchor=\"start\" x=\"524\" y=\"-96\" font-family=\"monospace\" font-size=\"10.00\">num_spin_orb=10, num_aux=50, num_bits_state_prep=12, num_bits_rot_aa_outer=7, [5 addtl fields].</text>\n",
       "</g>\n",
       "<!-- b1 -->\n",
       "<g id=\"node2\" class=\"node\">\n",
       "<title>b1</title>\n",
       "<polygon fill=\"none\" stroke=\"black\" points=\"335,-36 0,-36 0,0 335,0 335,-36\"/>\n",
       "<text text-anchor=\"start\" x=\"139.5\" y=\"-19.8\" font-family=\"Times,serif\" font-size=\"14.00\">OuterPrep</text>\n",
       "<text text-anchor=\"start\" x=\"8\" y=\"-9\" font-family=\"monospace\" font-size=\"10.00\">num_aux=50, num_bits_state_prep=12, num_bits_rot_aa=7</text>\n",
       "</g>\n",
       "<!-- b0&#45;&gt;b1 -->\n",
       "<g id=\"edge1\" class=\"edge\">\n",
       "<title>b0-&gt;b1</title>\n",
       "<path fill=\"none\" stroke=\"black\" d=\"M680.74,-86.95C572.19,-72.58 417.21,-52.06 305.99,-37.34\"/>\n",
       "<polygon fill=\"black\" stroke=\"black\" points=\"306.42,-33.86 296.05,-36.02 305.5,-40.8 306.42,-33.86\"/>\n",
       "<text text-anchor=\"middle\" x=\"531\" y=\"-57.8\" font-family=\"Times,serif\" font-size=\"14.00\">1</text>\n",
       "</g>\n",
       "<!-- b2 -->\n",
       "<g id=\"node3\" class=\"node\">\n",
       "<title>b2</title>\n",
       "<polygon fill=\"none\" stroke=\"black\" points=\"904,-36 353,-36 353,0 904,0 904,-36\"/>\n",
       "<text text-anchor=\"start\" x=\"549.5\" y=\"-19.8\" font-family=\"Times,serif\" font-size=\"14.00\">SingleFactorizationOneBody</text>\n",
       "<text text-anchor=\"start\" x=\"361\" y=\"-9\" font-family=\"monospace\" font-size=\"10.00\">num_aux=50, num_spin_orb=10, num_bits_state_prep=12, num_bits_rot_aa=7, [5 addtl fields].</text>\n",
       "</g>\n",
       "<!-- b0&#45;&gt;b2 -->\n",
       "<g id=\"edge2\" class=\"edge\">\n",
       "<title>b0-&gt;b2</title>\n",
       "<path fill=\"none\" stroke=\"black\" d=\"M772.87,-86.8C744.32,-73.39 704.52,-54.7 673.94,-40.34\"/>\n",
       "<polygon fill=\"black\" stroke=\"black\" points=\"675.3,-37.11 664.76,-36.03 672.33,-43.45 675.3,-37.11\"/>\n",
       "<text text-anchor=\"middle\" x=\"734\" y=\"-57.8\" font-family=\"Times,serif\" font-size=\"14.00\">2</text>\n",
       "</g>\n",
       "<!-- b3 -->\n",
       "<g id=\"node4\" class=\"node\">\n",
       "<title>b3</title>\n",
       "<polygon fill=\"none\" stroke=\"black\" points=\"1059,-36 922,-36 922,0 1059,0 1059,-36\"/>\n",
       "<text text-anchor=\"start\" x=\"959\" y=\"-19.8\" font-family=\"Times,serif\" font-size=\"14.00\">OuterPrep†</text>\n",
       "<text text-anchor=\"start\" x=\"930\" y=\"-9\" font-family=\"monospace\" font-size=\"10.00\">subbloq=OuterPre ...</text>\n",
       "</g>\n",
       "<!-- b0&#45;&gt;b3 -->\n",
       "<g id=\"edge3\" class=\"edge\">\n",
       "<title>b0-&gt;b3</title>\n",
       "<path fill=\"none\" stroke=\"black\" d=\"M846.13,-86.8C874.68,-73.39 914.48,-54.7 945.06,-40.34\"/>\n",
       "<polygon fill=\"black\" stroke=\"black\" points=\"946.67,-43.45 954.24,-36.03 943.7,-37.11 946.67,-43.45\"/>\n",
       "<text text-anchor=\"middle\" x=\"915\" y=\"-57.8\" font-family=\"Times,serif\" font-size=\"14.00\">1</text>\n",
       "</g>\n",
       "<!-- b4 -->\n",
       "<g id=\"node5\" class=\"node\">\n",
       "<title>b4</title>\n",
       "<polygon fill=\"none\" stroke=\"black\" points=\"1328,-36 1077,-36 1077,0 1328,0 1328,-36\"/>\n",
       "<text text-anchor=\"start\" x=\"1174\" y=\"-19.8\" font-family=\"Times,serif\" font-size=\"14.00\">Reflection</text>\n",
       "<text text-anchor=\"start\" x=\"1085\" y=\"-9\" font-family=\"monospace\" font-size=\"10.00\">bitsizes=(1, 1, 3 ..., cvs=(1, 1, 0 ...</text>\n",
       "</g>\n",
       "<!-- b0&#45;&gt;b4 -->\n",
       "<g id=\"edge4\" class=\"edge\">\n",
       "<title>b0-&gt;b4</title>\n",
       "<path fill=\"none\" stroke=\"black\" d=\"M888.56,-86.9C953.72,-72.81 1046.09,-52.83 1113.77,-38.19\"/>\n",
       "<polygon fill=\"black\" stroke=\"black\" points=\"1114.54,-41.61 1123.57,-36.07 1113.06,-34.76 1114.54,-41.61\"/>\n",
       "<text text-anchor=\"middle\" x=\"1034\" y=\"-57.8\" font-family=\"Times,serif\" font-size=\"14.00\">1</text>\n",
       "</g>\n",
       "</g>\n",
       "</svg>"
      ],
      "text/plain": [
       "<IPython.core.display.SVG object>"
      ]
     },
     "metadata": {},
     "output_type": "display_data"
    },
    {
     "data": {
      "text/markdown": [
       "#### Counts totals:\n",
       " - `Adjoint(subbloq=OuterPrepareSingleFactorization(num_aux=50, num_bits_state_prep=12, num_bits_rot_aa=7))`: 1\n",
       " - `OuterPrepareSingleFactorization(num_aux=50, num_bits_state_prep=12, num_bits_rot_aa=7)`: 1\n",
       " - `Reflection(bitsizes=(1, 1, 3, 3, 1, 1), cvs=(1, 1, 0, 0, 0, 0))`: 1\n",
       " - `SingleFactorizationOneBody(num_aux=50, num_spin_orb=10, num_bits_state_prep=12, num_bits_rot_aa=7, adjoint=False, kp1=1, kp2=1, kp1_inv=1, kp2_inv=1)`: 2"
      ],
      "text/plain": [
       "<IPython.core.display.Markdown object>"
      ]
     },
     "metadata": {},
     "output_type": "display_data"
    }
   ],
   "source": [
    "from qualtran.resource_counting.generalizers import ignore_split_join\n",
    "sf_block_encoding_g, sf_block_encoding_sigma = sf_block_encoding.call_graph(max_depth=1, generalizer=ignore_split_join)\n",
    "show_call_graph(sf_block_encoding_g)\n",
    "show_counts_sigma(sf_block_encoding_sigma)"
   ]
  }
 ],
 "metadata": {
  "kernelspec": {
   "display_name": "Python 3",
   "language": "python",
   "name": "python3"
  },
  "language_info": {
   "codemirror_mode": {
    "name": "ipython",
    "version": 3
   },
   "file_extension": ".py",
   "mimetype": "text/x-python",
   "name": "python",
   "nbconvert_exporter": "python",
   "pygments_lexer": "ipython3",
   "version": "3.11.8"
  },
  "widgets": {
   "application/vnd.jupyter.widget-state+json": {
    "state": {
     "10db78a8850440329228dc1754cc07b4": {
      "model_module": "@jupyter-widgets/base",
      "model_module_version": "2.0.0",
      "model_name": "LayoutModel",
      "state": {
       "_model_module": "@jupyter-widgets/base",
       "_model_module_version": "2.0.0",
       "_model_name": "LayoutModel",
       "_view_count": null,
       "_view_module": "@jupyter-widgets/base",
       "_view_module_version": "2.0.0",
       "_view_name": "LayoutView",
       "align_content": null,
       "align_items": null,
       "align_self": null,
       "border_bottom": null,
       "border_left": null,
       "border_right": null,
       "border_top": null,
       "bottom": null,
       "display": null,
       "flex": null,
       "flex_flow": null,
       "grid_area": null,
       "grid_auto_columns": null,
       "grid_auto_flow": null,
       "grid_auto_rows": null,
       "grid_column": null,
       "grid_gap": null,
       "grid_row": null,
       "grid_template_areas": null,
       "grid_template_columns": null,
       "grid_template_rows": null,
       "height": null,
       "justify_content": null,
       "justify_items": null,
       "left": null,
       "margin": null,
       "max_height": null,
       "max_width": null,
       "min_height": null,
       "min_width": null,
       "object_fit": null,
       "object_position": null,
       "order": null,
       "overflow": null,
       "padding": null,
       "right": null,
       "top": null,
       "visibility": null,
       "width": null
      }
     },
     "3edf2a5ff1df4518b70a9621a9114ffb": {
      "model_module": "@jupyter-widgets/output",
      "model_module_version": "1.0.0",
      "model_name": "OutputModel",
      "state": {
       "_dom_classes": [],
       "_model_module": "@jupyter-widgets/output",
       "_model_module_version": "1.0.0",
       "_model_name": "OutputModel",
       "_view_count": null,
       "_view_module": "@jupyter-widgets/output",
       "_view_module_version": "1.0.0",
       "_view_name": "OutputView",
       "layout": "IPY_MODEL_10db78a8850440329228dc1754cc07b4",
       "msg_id": "",
       "outputs": [
        {
         "data": {
          "text/markdown": "`sf_block_encoding`",
          "text/plain": "<IPython.core.display.Markdown object>"
         },
         "metadata": {},
         "output_type": "display_data"
        },
        {
         "data": {
          "image/svg+xml": "<svg xmlns=\"http://www.w3.org/2000/svg\" xmlns:xlink=\"http://www.w3.org/1999/xlink\" width=\"270pt\" height=\"638pt\" viewBox=\"0.00 0.00 270.00 638.00\">\n<g id=\"graph0\" class=\"graph\" transform=\"scale(1 1) rotate(0) translate(4 634)\">\n<title>my_graph</title>\n<polygon fill=\"white\" stroke=\"transparent\" points=\"-4,4 -4,-634 266,-634 266,4 -4,4\"/>\n<!-- ctrl_G14 -->\n<g id=\"node1\" class=\"node\">\n<title>ctrl_G14</title>\n<text text-anchor=\"middle\" x=\"33\" y=\"-608.3\" font-family=\"Times,serif\" font-size=\"14.00\">ctrl[0]</text>\n</g>\n<!-- SingleFactorizationBlockEncoding -->\n<g id=\"node13\" class=\"node\">\n<title>SingleFactorizationBlockEncoding</title>\n<polygon fill=\"none\" stroke=\"black\" points=\"103,-441 103,-458 159,-458 159,-441 103,-441\"/>\n<text text-anchor=\"start\" x=\"110.5\" y=\"-447\" font-family=\"Times,serif\" font-size=\"10.00\">SingleFa..</text>\n<polygon fill=\"none\" stroke=\"black\" points=\"103,-420 103,-441 159,-441 159,-420 103,-420\"/>\n<text text-anchor=\"start\" x=\"114\" y=\"-426.8\" font-family=\"Times,serif\" font-size=\"14.00\">ctrl[0]</text>\n<polygon fill=\"none\" stroke=\"black\" points=\"103,-399 103,-420 159,-420 159,-399 103,-399\"/>\n<text text-anchor=\"start\" x=\"114\" y=\"-405.8\" font-family=\"Times,serif\" font-size=\"14.00\">ctrl[1]</text>\n<polygon fill=\"none\" stroke=\"black\" points=\"103,-378 103,-399 159,-399 159,-378 103,-378\"/>\n<text text-anchor=\"start\" x=\"114\" y=\"-384.8\" font-family=\"Times,serif\" font-size=\"14.00\">ctrl[2]</text>\n<polygon fill=\"none\" stroke=\"black\" points=\"103,-357 103,-378 159,-378 159,-357 103,-357\"/>\n<text text-anchor=\"start\" x=\"129\" y=\"-363.8\" font-family=\"Times,serif\" font-size=\"14.00\">l</text>\n<polygon fill=\"none\" stroke=\"black\" points=\"103,-336 103,-357 159,-357 159,-336 103,-336\"/>\n<text text-anchor=\"start\" x=\"116\" y=\"-342.8\" font-family=\"Times,serif\" font-size=\"14.00\">pq[0]</text>\n<polygon fill=\"none\" stroke=\"black\" points=\"103,-315 103,-336 159,-336 159,-315 103,-315\"/>\n<text text-anchor=\"start\" x=\"116\" y=\"-321.8\" font-family=\"Times,serif\" font-size=\"14.00\">pq[1]</text>\n<polygon fill=\"none\" stroke=\"black\" points=\"103,-294 103,-315 159,-315 159,-294 103,-294\"/>\n<text text-anchor=\"start\" x=\"106\" y=\"-300.8\" font-family=\"Times,serif\" font-size=\"14.00\">rot_aa[0]</text>\n<polygon fill=\"none\" stroke=\"black\" points=\"103,-273 103,-294 159,-294 159,-273 103,-273\"/>\n<text text-anchor=\"start\" x=\"106\" y=\"-279.8\" font-family=\"Times,serif\" font-size=\"14.00\">rot_aa[1]</text>\n<polygon fill=\"none\" stroke=\"black\" points=\"103,-252 103,-273 159,-273 159,-252 103,-252\"/>\n<text text-anchor=\"start\" x=\"106.5\" y=\"-258.8\" font-family=\"Times,serif\" font-size=\"14.00\">swap_pq</text>\n<polygon fill=\"none\" stroke=\"black\" points=\"103,-231 103,-252 159,-252 159,-231 103,-231\"/>\n<text text-anchor=\"start\" x=\"119.5\" y=\"-237.8\" font-family=\"Times,serif\" font-size=\"14.00\">spin</text>\n<polygon fill=\"none\" stroke=\"black\" points=\"103,-210 103,-231 159,-231 159,-210 103,-210\"/>\n<text text-anchor=\"start\" x=\"114\" y=\"-216.8\" font-family=\"Times,serif\" font-size=\"14.00\">sys[0]</text>\n<polygon fill=\"none\" stroke=\"black\" points=\"103,-189 103,-210 159,-210 159,-189 103,-189\"/>\n<text text-anchor=\"start\" x=\"114\" y=\"-195.8\" font-family=\"Times,serif\" font-size=\"14.00\">sys[1]</text>\n</g>\n<!-- ctrl_G14&#45;&gt;SingleFactorizationBlockEncoding -->\n<g id=\"edge1\" class=\"edge\">\n<title>ctrl_G14:e-&gt;SingleFactorizationBlockEncoding:w</title>\n<path fill=\"none\" stroke=\"black\" d=\"M61,-612C65.84,-612 93.98,-452.92 101.73,-433.03\"/>\n<ellipse fill=\"black\" stroke=\"black\" cx=\"102.47\" cy=\"-431.85\" rx=\"1\" ry=\"1\"/>\n<text text-anchor=\"middle\" x=\"84.5\" y=\"-513\" font-family=\"Times,serif\" font-size=\"10.00\">1</text>\n</g>\n<!-- ctrl_G30 -->\n<g id=\"node2\" class=\"node\">\n<title>ctrl_G30</title>\n<text text-anchor=\"middle\" x=\"33\" y=\"-554.3\" font-family=\"Times,serif\" font-size=\"14.00\">ctrl[1]</text>\n</g>\n<!-- ctrl_G30&#45;&gt;SingleFactorizationBlockEncoding -->\n<g id=\"edge2\" class=\"edge\">\n<title>ctrl_G30:e-&gt;SingleFactorizationBlockEncoding:w</title>\n<path fill=\"none\" stroke=\"black\" d=\"M61,-558C128.57,-558 36.82,-413.45 100.66,-410.06\"/>\n<ellipse fill=\"black\" stroke=\"black\" cx=\"102\" cy=\"-410.03\" rx=\"1\" ry=\"1\"/>\n<text text-anchor=\"middle\" x=\"84.5\" y=\"-504\" font-family=\"Times,serif\" font-size=\"10.00\">1</text>\n</g>\n<!-- ctrl_G35 -->\n<g id=\"node3\" class=\"node\">\n<title>ctrl_G35</title>\n<text text-anchor=\"middle\" x=\"33\" y=\"-500.3\" font-family=\"Times,serif\" font-size=\"14.00\">ctrl[2]</text>\n</g>\n<!-- ctrl_G35&#45;&gt;SingleFactorizationBlockEncoding -->\n<g id=\"edge3\" class=\"edge\">\n<title>ctrl_G35:e-&gt;SingleFactorizationBlockEncoding:w</title>\n<path fill=\"none\" stroke=\"black\" d=\"M61,-504C114.67,-504 50.39,-392.12 100.84,-389.06\"/>\n<ellipse fill=\"black\" stroke=\"black\" cx=\"102\" cy=\"-389.03\" rx=\"1\" ry=\"1\"/>\n<text text-anchor=\"middle\" x=\"84.5\" y=\"-400\" font-family=\"Times,serif\" font-size=\"10.00\">1</text>\n</g>\n<!-- l_G28 -->\n<g id=\"node4\" class=\"node\">\n<title>l_G28</title>\n<text text-anchor=\"middle\" x=\"33\" y=\"-446.3\" font-family=\"Times,serif\" font-size=\"14.00\">l</text>\n</g>\n<!-- l_G28&#45;&gt;SingleFactorizationBlockEncoding -->\n<g id=\"edge4\" class=\"edge\">\n<title>l_G28:e-&gt;SingleFactorizationBlockEncoding:w</title>\n<path fill=\"none\" stroke=\"black\" d=\"M61,-450C101.15,-450 63.58,-371.17 100.69,-368.09\"/>\n<ellipse fill=\"black\" stroke=\"black\" cx=\"102\" cy=\"-368.04\" rx=\"1\" ry=\"1\"/>\n<text text-anchor=\"middle\" x=\"84.5\" y=\"-386\" font-family=\"Times,serif\" font-size=\"10.00\">6</text>\n</g>\n<!-- pq_G18 -->\n<g id=\"node5\" class=\"node\">\n<title>pq_G18</title>\n<text text-anchor=\"middle\" x=\"33\" y=\"-392.3\" font-family=\"Times,serif\" font-size=\"14.00\">pq[0]</text>\n</g>\n<!-- pq_G18&#45;&gt;SingleFactorizationBlockEncoding -->\n<g id=\"edge5\" class=\"edge\">\n<title>pq_G18:e-&gt;SingleFactorizationBlockEncoding:w</title>\n<path fill=\"none\" stroke=\"black\" d=\"M61,-396C88.9,-396 75.12,-349.64 100.74,-347.11\"/>\n<ellipse fill=\"black\" stroke=\"black\" cx=\"102\" cy=\"-347.05\" rx=\"1\" ry=\"1\"/>\n<text text-anchor=\"middle\" x=\"84.5\" y=\"-367\" font-family=\"Times,serif\" font-size=\"10.00\">3</text>\n</g>\n<!-- pq_G0 -->\n<g id=\"node6\" class=\"node\">\n<title>pq_G0</title>\n<text text-anchor=\"middle\" x=\"33\" y=\"-338.3\" font-family=\"Times,serif\" font-size=\"14.00\">pq[1]</text>\n</g>\n<!-- pq_G0&#45;&gt;SingleFactorizationBlockEncoding -->\n<g id=\"edge6\" class=\"edge\">\n<title>pq_G0:e-&gt;SingleFactorizationBlockEncoding:w</title>\n<path fill=\"none\" stroke=\"black\" d=\"M61,-342C80.2,-342 82.84,-327.23 100.74,-326.07\"/>\n<ellipse fill=\"black\" stroke=\"black\" cx=\"102\" cy=\"-326.03\" rx=\"1\" ry=\"1\"/>\n<text text-anchor=\"middle\" x=\"84.5\" y=\"-335\" font-family=\"Times,serif\" font-size=\"10.00\">3</text>\n</g>\n<!-- rot_aa_G6 -->\n<g id=\"node7\" class=\"node\">\n<title>rot_aa_G6</title>\n<text text-anchor=\"middle\" x=\"33\" y=\"-284.3\" font-family=\"Times,serif\" font-size=\"14.00\">rot_aa[0]</text>\n</g>\n<!-- rot_aa_G6&#45;&gt;SingleFactorizationBlockEncoding -->\n<g id=\"edge7\" class=\"edge\">\n<title>rot_aa_G6:e-&gt;SingleFactorizationBlockEncoding:w</title>\n<path fill=\"none\" stroke=\"black\" d=\"M66,-288C83.22,-288 84.97,-302.77 100.98,-303.93\"/>\n<ellipse fill=\"black\" stroke=\"black\" cx=\"102\" cy=\"-303.96\" rx=\"1\" ry=\"1\"/>\n<text text-anchor=\"middle\" x=\"84.5\" y=\"-299\" font-family=\"Times,serif\" font-size=\"10.00\">1</text>\n</g>\n<!-- rot_aa_G22 -->\n<g id=\"node8\" class=\"node\">\n<title>rot_aa_G22</title>\n<text text-anchor=\"middle\" x=\"33\" y=\"-230.3\" font-family=\"Times,serif\" font-size=\"14.00\">rot_aa[1]</text>\n</g>\n<!-- rot_aa_G22&#45;&gt;SingleFactorizationBlockEncoding -->\n<g id=\"edge8\" class=\"edge\">\n<title>rot_aa_G22:e-&gt;SingleFactorizationBlockEncoding:w</title>\n<path fill=\"none\" stroke=\"black\" d=\"M66,-234C92.54,-234 76.64,-280.36 100.86,-282.89\"/>\n<ellipse fill=\"black\" stroke=\"black\" cx=\"102\" cy=\"-282.95\" rx=\"1\" ry=\"1\"/>\n<text text-anchor=\"middle\" x=\"84.5\" y=\"-262\" font-family=\"Times,serif\" font-size=\"10.00\">1</text>\n</g>\n<!-- swap_pq_G32 -->\n<g id=\"node9\" class=\"node\">\n<title>swap_pq_G32</title>\n<text text-anchor=\"middle\" x=\"33\" y=\"-176.3\" font-family=\"Times,serif\" font-size=\"14.00\">swap_pq</text>\n</g>\n<!-- swap_pq_G32&#45;&gt;SingleFactorizationBlockEncoding -->\n<g id=\"edge9\" class=\"edge\">\n<title>swap_pq_G32:e-&gt;SingleFactorizationBlockEncoding:w</title>\n<path fill=\"none\" stroke=\"black\" d=\"M66,-180C105.2,-180 64.66,-258.83 100.75,-261.91\"/>\n<ellipse fill=\"black\" stroke=\"black\" cx=\"102\" cy=\"-261.96\" rx=\"1\" ry=\"1\"/>\n<text text-anchor=\"middle\" x=\"84.5\" y=\"-247\" font-family=\"Times,serif\" font-size=\"10.00\">1</text>\n</g>\n<!-- spin_G31 -->\n<g id=\"node10\" class=\"node\">\n<title>spin_G31</title>\n<text text-anchor=\"middle\" x=\"33\" y=\"-122.3\" font-family=\"Times,serif\" font-size=\"14.00\">spin</text>\n</g>\n<!-- spin_G31&#45;&gt;SingleFactorizationBlockEncoding -->\n<g id=\"edge10\" class=\"edge\">\n<title>spin_G31:e-&gt;SingleFactorizationBlockEncoding:w</title>\n<path fill=\"none\" stroke=\"black\" d=\"M61,-126C61.78,-126 96.09,-223.73 102.12,-239\"/>\n<ellipse fill=\"black\" stroke=\"black\" cx=\"102.6\" cy=\"-240.09\" rx=\"1\" ry=\"1\"/>\n<text text-anchor=\"middle\" x=\"84.5\" y=\"-193\" font-family=\"Times,serif\" font-size=\"10.00\">1</text>\n</g>\n<!-- sys_G11 -->\n<g id=\"node11\" class=\"node\">\n<title>sys_G11</title>\n<text text-anchor=\"middle\" x=\"33\" y=\"-68.3\" font-family=\"Times,serif\" font-size=\"14.00\">sys[0]</text>\n</g>\n<!-- sys_G11&#45;&gt;SingleFactorizationBlockEncoding -->\n<g id=\"edge11\" class=\"edge\">\n<title>sys_G11:e-&gt;SingleFactorizationBlockEncoding:w</title>\n<path fill=\"none\" stroke=\"black\" d=\"M61,-72C77.43,-72 85.28,-208.66 101.04,-219.34\"/>\n<ellipse fill=\"black\" stroke=\"black\" cx=\"102.05\" cy=\"-219.68\" rx=\"1\" ry=\"1\"/>\n<text text-anchor=\"middle\" x=\"84.5\" y=\"-166\" font-family=\"Times,serif\" font-size=\"10.00\">5</text>\n</g>\n<!-- sys_G25 -->\n<g id=\"node12\" class=\"node\">\n<title>sys_G25</title>\n<text text-anchor=\"middle\" x=\"33\" y=\"-14.3\" font-family=\"Times,serif\" font-size=\"14.00\">sys[1]</text>\n</g>\n<!-- sys_G25&#45;&gt;SingleFactorizationBlockEncoding -->\n<g id=\"edge12\" class=\"edge\">\n<title>sys_G25:e-&gt;SingleFactorizationBlockEncoding:w</title>\n<path fill=\"none\" stroke=\"black\" d=\"M61,-18C80.84,-18 82.27,-185.14 100.67,-198.19\"/>\n<ellipse fill=\"black\" stroke=\"black\" cx=\"102.06\" cy=\"-198.67\" rx=\"1\" ry=\"1\"/>\n<text text-anchor=\"middle\" x=\"84.5\" y=\"-134\" font-family=\"Times,serif\" font-size=\"10.00\">5</text>\n</g>\n<!-- ctrl_G2 -->\n<g id=\"node14\" class=\"node\">\n<title>ctrl_G2</title>\n<text text-anchor=\"middle\" x=\"229\" y=\"-608.3\" font-family=\"Times,serif\" font-size=\"14.00\">ctrl[0]</text>\n</g>\n<!-- SingleFactorizationBlockEncoding&#45;&gt;ctrl_G2 -->\n<g id=\"edge13\" class=\"edge\">\n<title>SingleFactorizationBlockEncoding:e-&gt;ctrl_G2:w</title>\n<path fill=\"none\" stroke=\"black\" d=\"M159,-431C163.84,-431 191.98,-590.08 199.73,-609.97\"/>\n<ellipse fill=\"black\" stroke=\"black\" cx=\"200.47\" cy=\"-611.15\" rx=\"1\" ry=\"1\"/>\n<text text-anchor=\"middle\" x=\"177.5\" y=\"-513\" font-family=\"Times,serif\" font-size=\"10.00\">1</text>\n</g>\n<!-- ctrl_G15 -->\n<g id=\"node15\" class=\"node\">\n<title>ctrl_G15</title>\n<text text-anchor=\"middle\" x=\"229\" y=\"-554.3\" font-family=\"Times,serif\" font-size=\"14.00\">ctrl[1]</text>\n</g>\n<!-- SingleFactorizationBlockEncoding&#45;&gt;ctrl_G15 -->\n<g id=\"edge14\" class=\"edge\">\n<title>SingleFactorizationBlockEncoding:e-&gt;ctrl_G15:w</title>\n<path fill=\"none\" stroke=\"black\" d=\"M159,-410C226.57,-410 134.82,-554.55 198.66,-557.94\"/>\n<ellipse fill=\"black\" stroke=\"black\" cx=\"200\" cy=\"-557.97\" rx=\"1\" ry=\"1\"/>\n<text text-anchor=\"middle\" x=\"177.5\" y=\"-504\" font-family=\"Times,serif\" font-size=\"10.00\">1</text>\n</g>\n<!-- ctrl_G21 -->\n<g id=\"node16\" class=\"node\">\n<title>ctrl_G21</title>\n<text text-anchor=\"middle\" x=\"229\" y=\"-500.3\" font-family=\"Times,serif\" font-size=\"14.00\">ctrl[2]</text>\n</g>\n<!-- SingleFactorizationBlockEncoding&#45;&gt;ctrl_G21 -->\n<g id=\"edge15\" class=\"edge\">\n<title>SingleFactorizationBlockEncoding:e-&gt;ctrl_G21:w</title>\n<path fill=\"none\" stroke=\"black\" d=\"M159,-389C212.67,-389 148.39,-500.88 198.84,-503.94\"/>\n<ellipse fill=\"black\" stroke=\"black\" cx=\"200\" cy=\"-503.97\" rx=\"1\" ry=\"1\"/>\n<text text-anchor=\"middle\" x=\"177.5\" y=\"-400\" font-family=\"Times,serif\" font-size=\"10.00\">1</text>\n</g>\n<!-- l_G12 -->\n<g id=\"node17\" class=\"node\">\n<title>l_G12</title>\n<text text-anchor=\"middle\" x=\"229\" y=\"-446.3\" font-family=\"Times,serif\" font-size=\"14.00\">l</text>\n</g>\n<!-- SingleFactorizationBlockEncoding&#45;&gt;l_G12 -->\n<g id=\"edge16\" class=\"edge\">\n<title>SingleFactorizationBlockEncoding:e-&gt;l_G12:w</title>\n<path fill=\"none\" stroke=\"black\" d=\"M159,-368C199.15,-368 161.58,-446.83 198.69,-449.91\"/>\n<ellipse fill=\"black\" stroke=\"black\" cx=\"200\" cy=\"-449.96\" rx=\"1\" ry=\"1\"/>\n<text text-anchor=\"middle\" x=\"177.5\" y=\"-386\" font-family=\"Times,serif\" font-size=\"10.00\">6</text>\n</g>\n<!-- pq_G7 -->\n<g id=\"node18\" class=\"node\">\n<title>pq_G7</title>\n<text text-anchor=\"middle\" x=\"229\" y=\"-392.3\" font-family=\"Times,serif\" font-size=\"14.00\">pq[0]</text>\n</g>\n<!-- SingleFactorizationBlockEncoding&#45;&gt;pq_G7 -->\n<g id=\"edge17\" class=\"edge\">\n<title>SingleFactorizationBlockEncoding:e-&gt;pq_G7:w</title>\n<path fill=\"none\" stroke=\"black\" d=\"M159,-347C186.9,-347 173.12,-393.36 198.74,-395.89\"/>\n<ellipse fill=\"black\" stroke=\"black\" cx=\"200\" cy=\"-395.95\" rx=\"1\" ry=\"1\"/>\n<text text-anchor=\"middle\" x=\"177.5\" y=\"-367\" font-family=\"Times,serif\" font-size=\"10.00\">3</text>\n</g>\n<!-- pq_G23 -->\n<g id=\"node19\" class=\"node\">\n<title>pq_G23</title>\n<text text-anchor=\"middle\" x=\"229\" y=\"-338.3\" font-family=\"Times,serif\" font-size=\"14.00\">pq[1]</text>\n</g>\n<!-- SingleFactorizationBlockEncoding&#45;&gt;pq_G23 -->\n<g id=\"edge18\" class=\"edge\">\n<title>SingleFactorizationBlockEncoding:e-&gt;pq_G23:w</title>\n<path fill=\"none\" stroke=\"black\" d=\"M159,-326C178.2,-326 180.84,-340.77 198.74,-341.93\"/>\n<ellipse fill=\"black\" stroke=\"black\" cx=\"200\" cy=\"-341.97\" rx=\"1\" ry=\"1\"/>\n<text text-anchor=\"middle\" x=\"177.5\" y=\"-335\" font-family=\"Times,serif\" font-size=\"10.00\">3</text>\n</g>\n<!-- rot_aa_G26 -->\n<g id=\"node20\" class=\"node\">\n<title>rot_aa_G26</title>\n<text text-anchor=\"middle\" x=\"229\" y=\"-284.3\" font-family=\"Times,serif\" font-size=\"14.00\">rot_aa[0]</text>\n</g>\n<!-- SingleFactorizationBlockEncoding&#45;&gt;rot_aa_G26 -->\n<g id=\"edge19\" class=\"edge\">\n<title>SingleFactorizationBlockEncoding:e-&gt;rot_aa_G26:w</title>\n<path fill=\"none\" stroke=\"black\" d=\"M159,-304C176.22,-304 177.97,-289.23 193.98,-288.07\"/>\n<ellipse fill=\"black\" stroke=\"black\" cx=\"195\" cy=\"-288.04\" rx=\"1\" ry=\"1\"/>\n<text text-anchor=\"middle\" x=\"177.5\" y=\"-299\" font-family=\"Times,serif\" font-size=\"10.00\">1</text>\n</g>\n<!-- rot_aa_G9 -->\n<g id=\"node21\" class=\"node\">\n<title>rot_aa_G9</title>\n<text text-anchor=\"middle\" x=\"229\" y=\"-230.3\" font-family=\"Times,serif\" font-size=\"14.00\">rot_aa[1]</text>\n</g>\n<!-- SingleFactorizationBlockEncoding&#45;&gt;rot_aa_G9 -->\n<g id=\"edge20\" class=\"edge\">\n<title>SingleFactorizationBlockEncoding:e-&gt;rot_aa_G9:w</title>\n<path fill=\"none\" stroke=\"black\" d=\"M159,-283C185.54,-283 169.64,-236.64 193.86,-234.11\"/>\n<ellipse fill=\"black\" stroke=\"black\" cx=\"195\" cy=\"-234.05\" rx=\"1\" ry=\"1\"/>\n<text text-anchor=\"middle\" x=\"177.5\" y=\"-262\" font-family=\"Times,serif\" font-size=\"10.00\">1</text>\n</g>\n<!-- swap_pq_G17 -->\n<g id=\"node22\" class=\"node\">\n<title>swap_pq_G17</title>\n<text text-anchor=\"middle\" x=\"229\" y=\"-176.3\" font-family=\"Times,serif\" font-size=\"14.00\">swap_pq</text>\n</g>\n<!-- SingleFactorizationBlockEncoding&#45;&gt;swap_pq_G17 -->\n<g id=\"edge21\" class=\"edge\">\n<title>SingleFactorizationBlockEncoding:e-&gt;swap_pq_G17:w</title>\n<path fill=\"none\" stroke=\"black\" d=\"M159,-262C198.2,-262 157.66,-183.17 193.75,-180.09\"/>\n<ellipse fill=\"black\" stroke=\"black\" cx=\"195\" cy=\"-180.04\" rx=\"1\" ry=\"1\"/>\n<text text-anchor=\"middle\" x=\"177.5\" y=\"-247\" font-family=\"Times,serif\" font-size=\"10.00\">1</text>\n</g>\n<!-- spin_G16 -->\n<g id=\"node23\" class=\"node\">\n<title>spin_G16</title>\n<text text-anchor=\"middle\" x=\"229\" y=\"-122.3\" font-family=\"Times,serif\" font-size=\"14.00\">spin</text>\n</g>\n<!-- SingleFactorizationBlockEncoding&#45;&gt;spin_G16 -->\n<g id=\"edge22\" class=\"edge\">\n<title>SingleFactorizationBlockEncoding:e-&gt;spin_G16:w</title>\n<path fill=\"none\" stroke=\"black\" d=\"M159,-241C159.78,-241 194.09,-143.27 200.12,-128\"/>\n<ellipse fill=\"black\" stroke=\"black\" cx=\"200.6\" cy=\"-126.91\" rx=\"1\" ry=\"1\"/>\n<text text-anchor=\"middle\" x=\"177.5\" y=\"-193\" font-family=\"Times,serif\" font-size=\"10.00\">1</text>\n</g>\n<!-- sys_G27 -->\n<g id=\"node24\" class=\"node\">\n<title>sys_G27</title>\n<text text-anchor=\"middle\" x=\"229\" y=\"-68.3\" font-family=\"Times,serif\" font-size=\"14.00\">sys[0]</text>\n</g>\n<!-- SingleFactorizationBlockEncoding&#45;&gt;sys_G27 -->\n<g id=\"edge23\" class=\"edge\">\n<title>SingleFactorizationBlockEncoding:e-&gt;sys_G27:w</title>\n<path fill=\"none\" stroke=\"black\" d=\"M159,-220C175.43,-220 183.28,-83.34 199.04,-72.66\"/>\n<ellipse fill=\"black\" stroke=\"black\" cx=\"200.05\" cy=\"-72.32\" rx=\"1\" ry=\"1\"/>\n<text text-anchor=\"middle\" x=\"177.5\" y=\"-166\" font-family=\"Times,serif\" font-size=\"10.00\">5</text>\n</g>\n<!-- sys_G10 -->\n<g id=\"node25\" class=\"node\">\n<title>sys_G10</title>\n<text text-anchor=\"middle\" x=\"229\" y=\"-14.3\" font-family=\"Times,serif\" font-size=\"14.00\">sys[1]</text>\n</g>\n<!-- SingleFactorizationBlockEncoding&#45;&gt;sys_G10 -->\n<g id=\"edge24\" class=\"edge\">\n<title>SingleFactorizationBlockEncoding:e-&gt;sys_G10:w</title>\n<path fill=\"none\" stroke=\"black\" d=\"M159,-199C178.84,-199 180.27,-31.86 198.67,-18.81\"/>\n<ellipse fill=\"black\" stroke=\"black\" cx=\"200.06\" cy=\"-18.33\" rx=\"1\" ry=\"1\"/>\n<text text-anchor=\"middle\" x=\"177.5\" y=\"-134\" font-family=\"Times,serif\" font-size=\"10.00\">5</text>\n</g>\n</g>\n</svg>",
          "text/plain": "<IPython.core.display.SVG object>"
         },
         "metadata": {},
         "output_type": "display_data"
        }
       ],
       "tabbable": null,
       "tooltip": null
      }
     },
     "49a890f2f94a474d967105cfae06c355": {
      "model_module": "@jupyter-widgets/output",
      "model_module_version": "1.0.0",
      "model_name": "OutputModel",
      "state": {
       "_dom_classes": [],
       "_model_module": "@jupyter-widgets/output",
       "_model_module_version": "1.0.0",
       "_model_name": "OutputModel",
       "_view_count": null,
       "_view_module": "@jupyter-widgets/output",
       "_view_module_version": "1.0.0",
       "_view_name": "OutputView",
       "layout": "IPY_MODEL_bde51a2b0ba849c4b2e4cb5921c6fabc",
       "msg_id": "",
       "outputs": [
        {
         "data": {
          "text/markdown": "`sf_one_body`",
          "text/plain": "<IPython.core.display.Markdown object>"
         },
         "metadata": {},
         "output_type": "display_data"
        },
        {
         "data": {
          "image/svg+xml": "<svg xmlns=\"http://www.w3.org/2000/svg\" xmlns:xlink=\"http://www.w3.org/1999/xlink\" width=\"282pt\" height=\"584pt\" viewBox=\"0.00 0.00 282.00 584.00\">\n<g id=\"graph0\" class=\"graph\" transform=\"scale(1 1) rotate(0) translate(4 580)\">\n<title>my_graph</title>\n<polygon fill=\"white\" stroke=\"transparent\" points=\"-4,4 -4,-580 278,-580 278,4 -4,4\"/>\n<!-- succ_l_G15 -->\n<g id=\"node1\" class=\"node\">\n<title>succ_l_G15</title>\n<text text-anchor=\"middle\" x=\"35\" y=\"-554.3\" font-family=\"Times,serif\" font-size=\"14.00\">succ_l</text>\n</g>\n<!-- SingleFactorizationOneBody -->\n<g id=\"node12\" class=\"node\">\n<title>SingleFactorizationOneBody</title>\n<polygon fill=\"none\" stroke=\"black\" points=\"107,-404 107,-421 167,-421 167,-404 107,-404\"/>\n<text text-anchor=\"start\" x=\"116.5\" y=\"-410\" font-family=\"Times,serif\" font-size=\"10.00\">SingleFa..</text>\n<polygon fill=\"none\" stroke=\"black\" points=\"107,-383 107,-404 167,-404 167,-383 107,-383\"/>\n<text text-anchor=\"start\" x=\"119.5\" y=\"-389.8\" font-family=\"Times,serif\" font-size=\"14.00\">succ_l</text>\n<polygon fill=\"none\" stroke=\"black\" points=\"107,-362 107,-383 167,-383 167,-362 107,-362\"/>\n<text text-anchor=\"start\" x=\"110\" y=\"-368.8\" font-family=\"Times,serif\" font-size=\"14.00\">l_ne_zero</text>\n<polygon fill=\"none\" stroke=\"black\" points=\"107,-341 107,-362 167,-362 167,-341 107,-341\"/>\n<text text-anchor=\"start\" x=\"114.5\" y=\"-347.8\" font-family=\"Times,serif\" font-size=\"14.00\">succ_pq</text>\n<polygon fill=\"none\" stroke=\"black\" points=\"107,-320 107,-341 167,-341 167,-320 107,-320\"/>\n<text text-anchor=\"start\" x=\"135\" y=\"-326.8\" font-family=\"Times,serif\" font-size=\"14.00\">l</text>\n<polygon fill=\"none\" stroke=\"black\" points=\"107,-299 107,-320 167,-320 167,-299 107,-299\"/>\n<text text-anchor=\"start\" x=\"133.5\" y=\"-305.8\" font-family=\"Times,serif\" font-size=\"14.00\">p</text>\n<polygon fill=\"none\" stroke=\"black\" points=\"107,-278 107,-299 167,-299 167,-278 107,-278\"/>\n<text text-anchor=\"start\" x=\"133.5\" y=\"-284.8\" font-family=\"Times,serif\" font-size=\"14.00\">q</text>\n<polygon fill=\"none\" stroke=\"black\" points=\"107,-257 107,-278 167,-278 167,-257 107,-257\"/>\n<text text-anchor=\"start\" x=\"120\" y=\"-263.8\" font-family=\"Times,serif\" font-size=\"14.00\">rot_aa</text>\n<polygon fill=\"none\" stroke=\"black\" points=\"107,-236 107,-257 167,-257 167,-236 107,-236\"/>\n<text text-anchor=\"start\" x=\"112.5\" y=\"-242.8\" font-family=\"Times,serif\" font-size=\"14.00\">swap_pq</text>\n<polygon fill=\"none\" stroke=\"black\" points=\"107,-215 107,-236 167,-236 167,-215 107,-215\"/>\n<text text-anchor=\"start\" x=\"125.5\" y=\"-221.8\" font-family=\"Times,serif\" font-size=\"14.00\">spin</text>\n<polygon fill=\"none\" stroke=\"black\" points=\"107,-194 107,-215 167,-215 167,-194 107,-194\"/>\n<text text-anchor=\"start\" x=\"120\" y=\"-200.8\" font-family=\"Times,serif\" font-size=\"14.00\">sys[0]</text>\n<polygon fill=\"none\" stroke=\"black\" points=\"107,-173 107,-194 167,-194 167,-173 107,-173\"/>\n<text text-anchor=\"start\" x=\"120\" y=\"-179.8\" font-family=\"Times,serif\" font-size=\"14.00\">sys[1]</text>\n</g>\n<!-- succ_l_G15&#45;&gt;SingleFactorizationOneBody -->\n<g id=\"edge1\" class=\"edge\">\n<title>succ_l_G15:e-&gt;SingleFactorizationOneBody:w</title>\n<path fill=\"none\" stroke=\"black\" d=\"M63,-558C81.13,-558 87.62,-406.56 104.85,-394.73\"/>\n<ellipse fill=\"black\" stroke=\"black\" cx=\"106.05\" cy=\"-394.32\" rx=\"1\" ry=\"1\"/>\n<text text-anchor=\"middle\" x=\"88.5\" y=\"-459\" font-family=\"Times,serif\" font-size=\"10.00\">1</text>\n</g>\n<!-- l_ne_zero_G26 -->\n<g id=\"node2\" class=\"node\">\n<title>l_ne_zero_G26</title>\n<text text-anchor=\"middle\" x=\"35\" y=\"-500.3\" font-family=\"Times,serif\" font-size=\"14.00\">l_ne_zero</text>\n</g>\n<!-- l_ne_zero_G26&#45;&gt;SingleFactorizationOneBody -->\n<g id=\"edge2\" class=\"edge\">\n<title>l_ne_zero_G26:e-&gt;SingleFactorizationOneBody:w</title>\n<path fill=\"none\" stroke=\"black\" d=\"M70,-504C129.79,-504 48.45,-376.05 104.93,-373.05\"/>\n<ellipse fill=\"black\" stroke=\"black\" cx=\"106\" cy=\"-373.03\" rx=\"1\" ry=\"1\"/>\n<text text-anchor=\"middle\" x=\"88.5\" y=\"-441\" font-family=\"Times,serif\" font-size=\"10.00\">1</text>\n</g>\n<!-- succ_pq_G3 -->\n<g id=\"node3\" class=\"node\">\n<title>succ_pq_G3</title>\n<text text-anchor=\"middle\" x=\"35\" y=\"-446.3\" font-family=\"Times,serif\" font-size=\"14.00\">succ_pq</text>\n</g>\n<!-- succ_pq_G3&#45;&gt;SingleFactorizationOneBody -->\n<g id=\"edge3\" class=\"edge\">\n<title>succ_pq_G3:e-&gt;SingleFactorizationOneBody:w</title>\n<path fill=\"none\" stroke=\"black\" d=\"M67,-450C113.31,-450 61.62,-355.04 104.87,-352.07\"/>\n<ellipse fill=\"black\" stroke=\"black\" cx=\"106\" cy=\"-352.03\" rx=\"1\" ry=\"1\"/>\n<text text-anchor=\"middle\" x=\"88.5\" y=\"-367\" font-family=\"Times,serif\" font-size=\"10.00\">1</text>\n</g>\n<!-- l_G19 -->\n<g id=\"node4\" class=\"node\">\n<title>l_G19</title>\n<text text-anchor=\"middle\" x=\"35\" y=\"-392.3\" font-family=\"Times,serif\" font-size=\"14.00\">l</text>\n</g>\n<!-- l_G19&#45;&gt;SingleFactorizationOneBody -->\n<g id=\"edge4\" class=\"edge\">\n<title>l_G19:e-&gt;SingleFactorizationOneBody:w</title>\n<path fill=\"none\" stroke=\"black\" d=\"M63,-396C97.07,-396 73.29,-334.01 104.65,-331.11\"/>\n<ellipse fill=\"black\" stroke=\"black\" cx=\"106\" cy=\"-331.04\" rx=\"1\" ry=\"1\"/>\n<text text-anchor=\"middle\" x=\"88.5\" y=\"-349\" font-family=\"Times,serif\" font-size=\"10.00\">6</text>\n</g>\n<!-- p_G25 -->\n<g id=\"node5\" class=\"node\">\n<title>p_G25</title>\n<text text-anchor=\"middle\" x=\"35\" y=\"-338.3\" font-family=\"Times,serif\" font-size=\"14.00\">p</text>\n</g>\n<!-- p_G25&#45;&gt;SingleFactorizationOneBody -->\n<g id=\"edge5\" class=\"edge\">\n<title>p_G25:e-&gt;SingleFactorizationOneBody:w</title>\n<path fill=\"none\" stroke=\"black\" d=\"M63,-342C86.42,-342 83.06,-311.97 104.81,-310.09\"/>\n<ellipse fill=\"black\" stroke=\"black\" cx=\"106\" cy=\"-310.04\" rx=\"1\" ry=\"1\"/>\n<text text-anchor=\"middle\" x=\"88.5\" y=\"-324\" font-family=\"Times,serif\" font-size=\"10.00\">3</text>\n</g>\n<!-- q_G9 -->\n<g id=\"node6\" class=\"node\">\n<title>q_G9</title>\n<text text-anchor=\"middle\" x=\"35\" y=\"-284.3\" font-family=\"Times,serif\" font-size=\"14.00\">q</text>\n</g>\n<!-- q_G9&#45;&gt;SingleFactorizationOneBody -->\n<g id=\"edge6\" class=\"edge\">\n<title>q_G9:e-&gt;SingleFactorizationOneBody:w</title>\n<path fill=\"none\" stroke=\"black\" d=\"M63,-288C81.79,-288 87.04,-288 104.77,-288\"/>\n<ellipse fill=\"black\" stroke=\"black\" cx=\"106\" cy=\"-288\" rx=\"1\" ry=\"1\"/>\n<text text-anchor=\"middle\" x=\"88.5\" y=\"-291\" font-family=\"Times,serif\" font-size=\"10.00\">3</text>\n</g>\n<!-- rot_aa_G17 -->\n<g id=\"node7\" class=\"node\">\n<title>rot_aa_G17</title>\n<text text-anchor=\"middle\" x=\"35\" y=\"-230.3\" font-family=\"Times,serif\" font-size=\"14.00\">rot_aa</text>\n</g>\n<!-- rot_aa_G17&#45;&gt;SingleFactorizationOneBody -->\n<g id=\"edge7\" class=\"edge\">\n<title>rot_aa_G17:e-&gt;SingleFactorizationOneBody:w</title>\n<path fill=\"none\" stroke=\"black\" d=\"M63,-234C86.68,-234 82.83,-264.97 104.79,-266.91\"/>\n<ellipse fill=\"black\" stroke=\"black\" cx=\"106\" cy=\"-266.96\" rx=\"1\" ry=\"1\"/>\n<text text-anchor=\"middle\" x=\"88.5\" y=\"-259\" font-family=\"Times,serif\" font-size=\"10.00\">1</text>\n</g>\n<!-- swap_pq_G23 -->\n<g id=\"node8\" class=\"node\">\n<title>swap_pq_G23</title>\n<text text-anchor=\"middle\" x=\"35\" y=\"-176.3\" font-family=\"Times,serif\" font-size=\"14.00\">swap_pq</text>\n</g>\n<!-- swap_pq_G23&#45;&gt;SingleFactorizationOneBody -->\n<g id=\"edge8\" class=\"edge\">\n<title>swap_pq_G23:e-&gt;SingleFactorizationOneBody:w</title>\n<path fill=\"none\" stroke=\"black\" d=\"M69,-180C102.05,-180 74.51,-242.94 104.72,-245.89\"/>\n<ellipse fill=\"black\" stroke=\"black\" cx=\"106\" cy=\"-245.95\" rx=\"1\" ry=\"1\"/>\n<text text-anchor=\"middle\" x=\"88.5\" y=\"-227\" font-family=\"Times,serif\" font-size=\"10.00\">1</text>\n</g>\n<!-- spin_G21 -->\n<g id=\"node9\" class=\"node\">\n<title>spin_G21</title>\n<text text-anchor=\"middle\" x=\"35\" y=\"-122.3\" font-family=\"Times,serif\" font-size=\"14.00\">spin</text>\n</g>\n<!-- spin_G21&#45;&gt;SingleFactorizationOneBody -->\n<g id=\"edge9\" class=\"edge\">\n<title>spin_G21:e-&gt;SingleFactorizationOneBody:w</title>\n<path fill=\"none\" stroke=\"black\" d=\"M63,-126C86.32,-126 83.16,-218.91 104.82,-224.72\"/>\n<ellipse fill=\"black\" stroke=\"black\" cx=\"106.01\" cy=\"-224.87\" rx=\"1\" ry=\"1\"/>\n<text text-anchor=\"middle\" x=\"88.5\" y=\"-195\" font-family=\"Times,serif\" font-size=\"10.00\">1</text>\n</g>\n<!-- sys_G7 -->\n<g id=\"node10\" class=\"node\">\n<title>sys_G7</title>\n<text text-anchor=\"middle\" x=\"35\" y=\"-68.3\" font-family=\"Times,serif\" font-size=\"14.00\">sys[0]</text>\n</g>\n<!-- sys_G7&#45;&gt;SingleFactorizationOneBody -->\n<g id=\"edge10\" class=\"edge\">\n<title>sys_G7:e-&gt;SingleFactorizationOneBody:w</title>\n<path fill=\"none\" stroke=\"black\" d=\"M63,-72C93.2,-72 76.89,-197.89 104.91,-203.79\"/>\n<ellipse fill=\"black\" stroke=\"black\" cx=\"106.01\" cy=\"-203.9\" rx=\"1\" ry=\"1\"/>\n<text text-anchor=\"middle\" x=\"88.5\" y=\"-171\" font-family=\"Times,serif\" font-size=\"10.00\">5</text>\n</g>\n<!-- sys_G24 -->\n<g id=\"node11\" class=\"node\">\n<title>sys_G24</title>\n<text text-anchor=\"middle\" x=\"35\" y=\"-14.3\" font-family=\"Times,serif\" font-size=\"14.00\">sys[1]</text>\n</g>\n<!-- sys_G24&#45;&gt;SingleFactorizationOneBody -->\n<g id=\"edge11\" class=\"edge\">\n<title>sys_G24:e-&gt;SingleFactorizationOneBody:w</title>\n<path fill=\"none\" stroke=\"black\" d=\"M63,-18C100.21,-18 70.27,-176.62 104.86,-182.81\"/>\n<ellipse fill=\"black\" stroke=\"black\" cx=\"106\" cy=\"-182.91\" rx=\"1\" ry=\"1\"/>\n<text text-anchor=\"middle\" x=\"88.5\" y=\"-154\" font-family=\"Times,serif\" font-size=\"10.00\">5</text>\n</g>\n<!-- succ_l_G2 -->\n<g id=\"node13\" class=\"node\">\n<title>succ_l_G2</title>\n<text text-anchor=\"middle\" x=\"239\" y=\"-554.3\" font-family=\"Times,serif\" font-size=\"14.00\">succ_l</text>\n</g>\n<!-- SingleFactorizationOneBody&#45;&gt;succ_l_G2 -->\n<g id=\"edge12\" class=\"edge\">\n<title>SingleFactorizationOneBody:e-&gt;succ_l_G2:w</title>\n<path fill=\"none\" stroke=\"black\" d=\"M167,-394C185.13,-394 191.62,-545.44 208.85,-557.27\"/>\n<ellipse fill=\"black\" stroke=\"black\" cx=\"210.05\" cy=\"-557.68\" rx=\"1\" ry=\"1\"/>\n<text text-anchor=\"middle\" x=\"185.5\" y=\"-459\" font-family=\"Times,serif\" font-size=\"10.00\">1</text>\n</g>\n<!-- l_ne_zero_G13 -->\n<g id=\"node14\" class=\"node\">\n<title>l_ne_zero_G13</title>\n<text text-anchor=\"middle\" x=\"239\" y=\"-500.3\" font-family=\"Times,serif\" font-size=\"14.00\">l_ne_zero</text>\n</g>\n<!-- SingleFactorizationOneBody&#45;&gt;l_ne_zero_G13 -->\n<g id=\"edge13\" class=\"edge\">\n<title>SingleFactorizationOneBody:e-&gt;l_ne_zero_G13:w</title>\n<path fill=\"none\" stroke=\"black\" d=\"M167,-373C226.79,-373 145.45,-500.95 201.93,-503.95\"/>\n<ellipse fill=\"black\" stroke=\"black\" cx=\"203\" cy=\"-503.97\" rx=\"1\" ry=\"1\"/>\n<text text-anchor=\"middle\" x=\"185.5\" y=\"-441\" font-family=\"Times,serif\" font-size=\"10.00\">1</text>\n</g>\n<!-- succ_pq_G30 -->\n<g id=\"node15\" class=\"node\">\n<title>succ_pq_G30</title>\n<text text-anchor=\"middle\" x=\"239\" y=\"-446.3\" font-family=\"Times,serif\" font-size=\"14.00\">succ_pq</text>\n</g>\n<!-- SingleFactorizationOneBody&#45;&gt;succ_pq_G30 -->\n<g id=\"edge14\" class=\"edge\">\n<title>SingleFactorizationOneBody:e-&gt;succ_pq_G30:w</title>\n<path fill=\"none\" stroke=\"black\" d=\"M167,-352C213.31,-352 161.62,-446.96 204.87,-449.93\"/>\n<ellipse fill=\"black\" stroke=\"black\" cx=\"206\" cy=\"-449.97\" rx=\"1\" ry=\"1\"/>\n<text text-anchor=\"middle\" x=\"185.5\" y=\"-367\" font-family=\"Times,serif\" font-size=\"10.00\">1</text>\n</g>\n<!-- l_G1 -->\n<g id=\"node16\" class=\"node\">\n<title>l_G1</title>\n<text text-anchor=\"middle\" x=\"239\" y=\"-392.3\" font-family=\"Times,serif\" font-size=\"14.00\">l</text>\n</g>\n<!-- SingleFactorizationOneBody&#45;&gt;l_G1 -->\n<g id=\"edge15\" class=\"edge\">\n<title>SingleFactorizationOneBody:e-&gt;l_G1:w</title>\n<path fill=\"none\" stroke=\"black\" d=\"M167,-331C201.07,-331 177.29,-392.99 208.65,-395.89\"/>\n<ellipse fill=\"black\" stroke=\"black\" cx=\"210\" cy=\"-395.96\" rx=\"1\" ry=\"1\"/>\n<text text-anchor=\"middle\" x=\"185.5\" y=\"-349\" font-family=\"Times,serif\" font-size=\"10.00\">6</text>\n</g>\n<!-- p_G12 -->\n<g id=\"node17\" class=\"node\">\n<title>p_G12</title>\n<text text-anchor=\"middle\" x=\"239\" y=\"-338.3\" font-family=\"Times,serif\" font-size=\"14.00\">p</text>\n</g>\n<!-- SingleFactorizationOneBody&#45;&gt;p_G12 -->\n<g id=\"edge16\" class=\"edge\">\n<title>SingleFactorizationOneBody:e-&gt;p_G12:w</title>\n<path fill=\"none\" stroke=\"black\" d=\"M167,-310C190.42,-310 187.06,-340.03 208.81,-341.91\"/>\n<ellipse fill=\"black\" stroke=\"black\" cx=\"210\" cy=\"-341.96\" rx=\"1\" ry=\"1\"/>\n<text text-anchor=\"middle\" x=\"185.5\" y=\"-324\" font-family=\"Times,serif\" font-size=\"10.00\">3</text>\n</g>\n<!-- q_G0 -->\n<g id=\"node18\" class=\"node\">\n<title>q_G0</title>\n<text text-anchor=\"middle\" x=\"239\" y=\"-284.3\" font-family=\"Times,serif\" font-size=\"14.00\">q</text>\n</g>\n<!-- SingleFactorizationOneBody&#45;&gt;q_G0 -->\n<g id=\"edge17\" class=\"edge\">\n<title>SingleFactorizationOneBody:e-&gt;q_G0:w</title>\n<path fill=\"none\" stroke=\"black\" d=\"M167,-288C185.79,-288 191.04,-288 208.77,-288\"/>\n<ellipse fill=\"black\" stroke=\"black\" cx=\"210\" cy=\"-288\" rx=\"1\" ry=\"1\"/>\n<text text-anchor=\"middle\" x=\"185.5\" y=\"-291\" font-family=\"Times,serif\" font-size=\"10.00\">3</text>\n</g>\n<!-- rot_aa_G5 -->\n<g id=\"node19\" class=\"node\">\n<title>rot_aa_G5</title>\n<text text-anchor=\"middle\" x=\"239\" y=\"-230.3\" font-family=\"Times,serif\" font-size=\"14.00\">rot_aa</text>\n</g>\n<!-- SingleFactorizationOneBody&#45;&gt;rot_aa_G5 -->\n<g id=\"edge18\" class=\"edge\">\n<title>SingleFactorizationOneBody:e-&gt;rot_aa_G5:w</title>\n<path fill=\"none\" stroke=\"black\" d=\"M167,-267C190.68,-267 186.83,-236.03 208.79,-234.09\"/>\n<ellipse fill=\"black\" stroke=\"black\" cx=\"210\" cy=\"-234.04\" rx=\"1\" ry=\"1\"/>\n<text text-anchor=\"middle\" x=\"185.5\" y=\"-259\" font-family=\"Times,serif\" font-size=\"10.00\">1</text>\n</g>\n<!-- swap_pq_G11 -->\n<g id=\"node20\" class=\"node\">\n<title>swap_pq_G11</title>\n<text text-anchor=\"middle\" x=\"239\" y=\"-176.3\" font-family=\"Times,serif\" font-size=\"14.00\">swap_pq</text>\n</g>\n<!-- SingleFactorizationOneBody&#45;&gt;swap_pq_G11 -->\n<g id=\"edge19\" class=\"edge\">\n<title>SingleFactorizationOneBody:e-&gt;swap_pq_G11:w</title>\n<path fill=\"none\" stroke=\"black\" d=\"M167,-246C200.05,-246 172.51,-183.06 202.72,-180.11\"/>\n<ellipse fill=\"black\" stroke=\"black\" cx=\"204\" cy=\"-180.05\" rx=\"1\" ry=\"1\"/>\n<text text-anchor=\"middle\" x=\"185.5\" y=\"-227\" font-family=\"Times,serif\" font-size=\"10.00\">1</text>\n</g>\n<!-- spin_G10 -->\n<g id=\"node21\" class=\"node\">\n<title>spin_G10</title>\n<text text-anchor=\"middle\" x=\"239\" y=\"-122.3\" font-family=\"Times,serif\" font-size=\"14.00\">spin</text>\n</g>\n<!-- SingleFactorizationOneBody&#45;&gt;spin_G10 -->\n<g id=\"edge20\" class=\"edge\">\n<title>SingleFactorizationOneBody:e-&gt;spin_G10:w</title>\n<path fill=\"none\" stroke=\"black\" d=\"M167,-225C190.32,-225 187.16,-132.09 208.82,-126.28\"/>\n<ellipse fill=\"black\" stroke=\"black\" cx=\"210.01\" cy=\"-126.13\" rx=\"1\" ry=\"1\"/>\n<text text-anchor=\"middle\" x=\"185.5\" y=\"-195\" font-family=\"Times,serif\" font-size=\"10.00\">1</text>\n</g>\n<!-- sys_G28 -->\n<g id=\"node22\" class=\"node\">\n<title>sys_G28</title>\n<text text-anchor=\"middle\" x=\"239\" y=\"-68.3\" font-family=\"Times,serif\" font-size=\"14.00\">sys[0]</text>\n</g>\n<!-- SingleFactorizationOneBody&#45;&gt;sys_G28 -->\n<g id=\"edge21\" class=\"edge\">\n<title>SingleFactorizationOneBody:e-&gt;sys_G28:w</title>\n<path fill=\"none\" stroke=\"black\" d=\"M167,-204C197.2,-204 180.89,-78.11 208.91,-72.21\"/>\n<ellipse fill=\"black\" stroke=\"black\" cx=\"210.01\" cy=\"-72.1\" rx=\"1\" ry=\"1\"/>\n<text text-anchor=\"middle\" x=\"185.5\" y=\"-171\" font-family=\"Times,serif\" font-size=\"10.00\">5</text>\n</g>\n<!-- sys_G4 -->\n<g id=\"node23\" class=\"node\">\n<title>sys_G4</title>\n<text text-anchor=\"middle\" x=\"239\" y=\"-14.3\" font-family=\"Times,serif\" font-size=\"14.00\">sys[1]</text>\n</g>\n<!-- SingleFactorizationOneBody&#45;&gt;sys_G4 -->\n<g id=\"edge22\" class=\"edge\">\n<title>SingleFactorizationOneBody:e-&gt;sys_G4:w</title>\n<path fill=\"none\" stroke=\"black\" d=\"M167,-183C204.21,-183 174.27,-24.38 208.86,-18.19\"/>\n<ellipse fill=\"black\" stroke=\"black\" cx=\"210\" cy=\"-18.09\" rx=\"1\" ry=\"1\"/>\n<text text-anchor=\"middle\" x=\"185.5\" y=\"-154\" font-family=\"Times,serif\" font-size=\"10.00\">5</text>\n</g>\n</g>\n</svg>",
          "text/plain": "<IPython.core.display.SVG object>"
         },
         "metadata": {},
         "output_type": "display_data"
        }
       ],
       "tabbable": null,
       "tooltip": null
      }
     },
     "80a364c2b6bc4cc69b0de1c2df3759bd": {
      "model_module": "@jupyter-widgets/base",
      "model_module_version": "2.0.0",
      "model_name": "LayoutModel",
      "state": {
       "_model_module": "@jupyter-widgets/base",
       "_model_module_version": "2.0.0",
       "_model_name": "LayoutModel",
       "_view_count": null,
       "_view_module": "@jupyter-widgets/base",
       "_view_module_version": "2.0.0",
       "_view_name": "LayoutView",
       "align_content": null,
       "align_items": null,
       "align_self": null,
       "border_bottom": null,
       "border_left": null,
       "border_right": null,
       "border_top": null,
       "bottom": null,
       "display": null,
       "flex": null,
       "flex_flow": null,
       "grid_area": null,
       "grid_auto_columns": null,
       "grid_auto_flow": null,
       "grid_auto_rows": null,
       "grid_column": null,
       "grid_gap": null,
       "grid_row": null,
       "grid_template_areas": null,
       "grid_template_columns": null,
       "grid_template_rows": null,
       "height": null,
       "justify_content": null,
       "justify_items": null,
       "left": null,
       "margin": null,
       "max_height": null,
       "max_width": null,
       "min_height": null,
       "min_width": null,
       "object_fit": null,
       "object_position": null,
       "order": null,
       "overflow": null,
       "padding": null,
       "right": null,
       "top": null,
       "visibility": null,
       "width": null
      }
     },
     "a4ec1762ef174a8888a974d82edd1ad4": {
      "model_module": "@jupyter-widgets/controls",
      "model_module_version": "2.0.0",
      "model_name": "HBoxModel",
      "state": {
       "_dom_classes": [],
       "_model_module": "@jupyter-widgets/controls",
       "_model_module_version": "2.0.0",
       "_model_name": "HBoxModel",
       "_view_count": null,
       "_view_module": "@jupyter-widgets/controls",
       "_view_module_version": "2.0.0",
       "_view_name": "HBoxView",
       "box_style": "",
       "children": [
        "IPY_MODEL_49a890f2f94a474d967105cfae06c355"
       ],
       "layout": "IPY_MODEL_d456c44c87554d1982e890ed2b49eaf1",
       "tabbable": null,
       "tooltip": null
      }
     },
     "bde51a2b0ba849c4b2e4cb5921c6fabc": {
      "model_module": "@jupyter-widgets/base",
      "model_module_version": "2.0.0",
      "model_name": "LayoutModel",
      "state": {
       "_model_module": "@jupyter-widgets/base",
       "_model_module_version": "2.0.0",
       "_model_name": "LayoutModel",
       "_view_count": null,
       "_view_module": "@jupyter-widgets/base",
       "_view_module_version": "2.0.0",
       "_view_name": "LayoutView",
       "align_content": null,
       "align_items": null,
       "align_self": null,
       "border_bottom": null,
       "border_left": null,
       "border_right": null,
       "border_top": null,
       "bottom": null,
       "display": null,
       "flex": null,
       "flex_flow": null,
       "grid_area": null,
       "grid_auto_columns": null,
       "grid_auto_flow": null,
       "grid_auto_rows": null,
       "grid_column": null,
       "grid_gap": null,
       "grid_row": null,
       "grid_template_areas": null,
       "grid_template_columns": null,
       "grid_template_rows": null,
       "height": null,
       "justify_content": null,
       "justify_items": null,
       "left": null,
       "margin": null,
       "max_height": null,
       "max_width": null,
       "min_height": null,
       "min_width": null,
       "object_fit": null,
       "object_position": null,
       "order": null,
       "overflow": null,
       "padding": null,
       "right": null,
       "top": null,
       "visibility": null,
       "width": null
      }
     },
     "d456c44c87554d1982e890ed2b49eaf1": {
      "model_module": "@jupyter-widgets/base",
      "model_module_version": "2.0.0",
      "model_name": "LayoutModel",
      "state": {
       "_model_module": "@jupyter-widgets/base",
       "_model_module_version": "2.0.0",
       "_model_name": "LayoutModel",
       "_view_count": null,
       "_view_module": "@jupyter-widgets/base",
       "_view_module_version": "2.0.0",
       "_view_name": "LayoutView",
       "align_content": null,
       "align_items": null,
       "align_self": null,
       "border_bottom": null,
       "border_left": null,
       "border_right": null,
       "border_top": null,
       "bottom": null,
       "display": null,
       "flex": null,
       "flex_flow": null,
       "grid_area": null,
       "grid_auto_columns": null,
       "grid_auto_flow": null,
       "grid_auto_rows": null,
       "grid_column": null,
       "grid_gap": null,
       "grid_row": null,
       "grid_template_areas": null,
       "grid_template_columns": null,
       "grid_template_rows": null,
       "height": null,
       "justify_content": null,
       "justify_items": null,
       "left": null,
       "margin": null,
       "max_height": null,
       "max_width": null,
       "min_height": null,
       "min_width": null,
       "object_fit": null,
       "object_position": null,
       "order": null,
       "overflow": null,
       "padding": null,
       "right": null,
       "top": null,
       "visibility": null,
       "width": null
      }
     },
     "f6b5fd2771e349d3981a785e374814c7": {
      "model_module": "@jupyter-widgets/controls",
      "model_module_version": "2.0.0",
      "model_name": "HBoxModel",
      "state": {
       "_dom_classes": [],
       "_model_module": "@jupyter-widgets/controls",
       "_model_module_version": "2.0.0",
       "_model_name": "HBoxModel",
       "_view_count": null,
       "_view_module": "@jupyter-widgets/controls",
       "_view_module_version": "2.0.0",
       "_view_name": "HBoxView",
       "box_style": "",
       "children": [
        "IPY_MODEL_3edf2a5ff1df4518b70a9621a9114ffb"
       ],
       "layout": "IPY_MODEL_80a364c2b6bc4cc69b0de1c2df3759bd",
       "tabbable": null,
       "tooltip": null
      }
     }
    },
    "version_major": 2,
    "version_minor": 0
   }
  }
 },
 "nbformat": 4,
 "nbformat_minor": 5
}
