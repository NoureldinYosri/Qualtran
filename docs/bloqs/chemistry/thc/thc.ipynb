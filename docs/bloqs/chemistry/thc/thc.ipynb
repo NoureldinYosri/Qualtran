{
 "cells": [
  {
   "cell_type": "markdown",
   "id": "b65b5bd8",
   "metadata": {
    "cq.autogen": "title_cell"
   },
   "source": [
    "# Tensor Hypercontraction\n",
    "\n",
    "SELECT and PREPARE for the second quantized Tensor Hypercontracted (THC) chemistry Hamtiltonian."
   ]
  },
  {
   "cell_type": "code",
   "execution_count": 1,
   "id": "1936da8a",
   "metadata": {
    "cq.autogen": "top_imports"
   },
   "outputs": [],
   "source": [
    "from qualtran import Bloq, CompositeBloq, BloqBuilder, Signature, Register\n",
    "from qualtran import QBit, QInt, QUInt, QAny\n",
    "from qualtran.drawing import show_bloq, show_call_graph, show_counts_sigma\n",
    "from typing import *\n",
    "import numpy as np\n",
    "import sympy\n",
    "import cirq"
   ]
  },
  {
   "cell_type": "markdown",
   "id": "b1c848ea",
   "metadata": {
    "cq.autogen": "UniformSuperpositionTHC.bloq_doc.md"
   },
   "source": [
    "## `UniformSuperpositionTHC`\n",
    "Prepare uniform superposition state for THC.\n",
    "\n",
    "$$\n",
    "    |0\\rangle^{\\otimes 2\\log(M+1)} \\rightarrow \\sum_{\\mu\\le\\nu}^{M} |\\mu\\rangle|\\nu\\rangle\n",
    "    + \\sum_{\\mu}^{N/2}|\\mu\\rangle|\\nu=M+1\\rangle,\n",
    "$$\n",
    "\n",
    "where $M$ is the THC auxiliary dimension, and $N$ is the number of spin orbitals.\n",
    "\n",
    "The toffoli complexity of this gate should be $10 \\log(M+1) + 2 b_r - 9$.\n",
    "Currently it is a good deal larger due to:\n",
    " 1. inverting inequality tests should not need more toffolis.\n",
    " 2. We are not using phase-gradient gate toffoli cost for Ry rotations.\n",
    " 3. Small differences in quoted vs implemented comparator costs.\n",
    "\n",
    "See: https://github.com/quantumlib/Qualtran/issues/390\n",
    "\n",
    "#### Parameters\n",
    " - `num_mu`: THC auxiliary index dimension $M$\n",
    " - `num_spin_orb`: number of spin orbitals $N$ \n",
    "\n",
    "#### Registers\n",
    " - `mu`: $\\mu$ register.\n",
    " - `nu`: $\\nu$ register.\n",
    " - `succ`: ancilla flagging success of amplitude amplification.\n",
    " - `nu_eq_mp1`: ancillas for flagging if $\\nu = M+1$.\n",
    " - `rot`: The ancilla to be rotated for amplitude amplification. \n",
    "\n",
    "#### References\n",
    " - [Even more efficient quantum computations of chemistry through     tensor hypercontraction](https://arxiv.org/pdf/2011.03494.pdf). Eq. 29.\n"
   ]
  },
  {
   "cell_type": "code",
   "execution_count": 2,
   "id": "b5ff7633",
   "metadata": {
    "cq.autogen": "UniformSuperpositionTHC.bloq_doc.py"
   },
   "outputs": [],
   "source": [
    "from qualtran.bloqs.chemistry.thc.prepare import UniformSuperpositionTHC"
   ]
  },
  {
   "cell_type": "markdown",
   "id": "e1fddec5",
   "metadata": {
    "cq.autogen": "UniformSuperpositionTHC.example_instances.md"
   },
   "source": [
    "### Example Instances"
   ]
  },
  {
   "cell_type": "code",
   "execution_count": 3,
   "id": "fdce0654",
   "metadata": {
    "cq.autogen": "UniformSuperpositionTHC.thc_uni"
   },
   "outputs": [],
   "source": [
    "num_mu = 10\n",
    "num_spin_orb = 4\n",
    "thc_uni = UniformSuperpositionTHC(num_mu=num_mu, num_spin_orb=num_spin_orb)"
   ]
  },
  {
   "cell_type": "markdown",
   "id": "9eca0582",
   "metadata": {
    "cq.autogen": "UniformSuperpositionTHC.graphical_signature.md"
   },
   "source": [
    "#### Graphical Signature"
   ]
  },
  {
   "cell_type": "code",
   "execution_count": 4,
   "id": "41eefb04",
   "metadata": {
    "cq.autogen": "UniformSuperpositionTHC.graphical_signature.py"
   },
   "outputs": [
    {
     "data": {
      "application/vnd.jupyter.widget-view+json": {
       "model_id": "4042a32eea294465a68a53ed6fc7851a",
       "version_major": 2,
       "version_minor": 0
      },
      "text/plain": [
       "HBox(children=(Output(outputs=({'output_type': 'display_data', 'data': {'text/plain': '<IPython.core.display.M…"
      ]
     },
     "metadata": {},
     "output_type": "display_data"
    }
   ],
   "source": [
    "from qualtran.drawing import show_bloqs\n",
    "show_bloqs([thc_uni],\n",
    "           ['`thc_uni`'])"
   ]
  },
  {
   "cell_type": "markdown",
   "id": "f7ea50cb",
   "metadata": {
    "cq.autogen": "UniformSuperpositionTHC.call_graph.md"
   },
   "source": [
    "### Call Graph"
   ]
  },
  {
   "cell_type": "code",
   "execution_count": 5,
   "id": "134616a6",
   "metadata": {
    "cq.autogen": "UniformSuperpositionTHC.call_graph.py"
   },
   "outputs": [
    {
     "data": {
      "image/svg+xml": [
       "<svg xmlns=\"http://www.w3.org/2000/svg\" xmlns:xlink=\"http://www.w3.org/1999/xlink\" width=\"2394pt\" height=\"131pt\" viewBox=\"0.00 0.00 2394.00 131.00\">\n",
       "<g id=\"graph0\" class=\"graph\" transform=\"scale(1 1) rotate(0) translate(4 127)\">\n",
       "<title>counts</title>\n",
       "<polygon fill=\"white\" stroke=\"transparent\" points=\"-4,4 -4,-127 2390,-127 2390,4 -4,4\"/>\n",
       "<!-- b0 -->\n",
       "<g id=\"node1\" class=\"node\">\n",
       "<title>b0</title>\n",
       "<polygon fill=\"none\" stroke=\"black\" points=\"1319,-123 1152,-123 1152,-87 1319,-87 1319,-123\"/>\n",
       "<text text-anchor=\"start\" x=\"1160.5\" y=\"-106.8\" font-family=\"Times,serif\" font-size=\"14.00\">UniformSuperpositionTHC</text>\n",
       "<text text-anchor=\"start\" x=\"1160\" y=\"-96\" font-family=\"monospace\" font-size=\"10.00\">num_mu=10, num_spin_orb=4</text>\n",
       "</g>\n",
       "<!-- b1 -->\n",
       "<g id=\"node2\" class=\"node\">\n",
       "<title>b1</title>\n",
       "<polygon fill=\"none\" stroke=\"black\" points=\"125,-36 0,-36 0,0 125,0 125,-36\"/>\n",
       "<text text-anchor=\"start\" x=\"39.5\" y=\"-19.8\" font-family=\"Times,serif\" font-size=\"14.00\">Allocate</text>\n",
       "<text text-anchor=\"start\" x=\"8\" y=\"-9\" font-family=\"monospace\" font-size=\"10.00\">dtype=QAny(bit ...</text>\n",
       "</g>\n",
       "<!-- b0&#45;&gt;b1 -->\n",
       "<g id=\"edge1\" class=\"edge\">\n",
       "<title>b0-&gt;b1</title>\n",
       "<path fill=\"none\" stroke=\"black\" d=\"M1151.89,-101.14C1015.73,-96.22 737.64,-85.12 502.5,-69 341.6,-57.97 297.78,-62.38 135.47,-36.2\"/>\n",
       "<polygon fill=\"black\" stroke=\"black\" points=\"135.55,-32.67 125.12,-34.52 134.43,-39.58 135.55,-32.67\"/>\n",
       "<text text-anchor=\"middle\" x=\"506\" y=\"-57.8\" font-family=\"Times,serif\" font-size=\"14.00\">1</text>\n",
       "</g>\n",
       "<!-- b2 -->\n",
       "<g id=\"node3\" class=\"node\">\n",
       "<title>b2</title>\n",
       "<polygon fill=\"none\" stroke=\"black\" points=\"334,-36 143,-36 143,0 334,0 334,-36\"/>\n",
       "<text text-anchor=\"start\" x=\"230.5\" y=\"-19.8\" font-family=\"Times,serif\" font-size=\"14.00\">Ry</text>\n",
       "<text text-anchor=\"start\" x=\"151\" y=\"-9\" font-family=\"monospace\" font-size=\"10.00\">angle=1.116759 ..., eps=1e-11</text>\n",
       "</g>\n",
       "<!-- b0&#45;&gt;b2 -->\n",
       "<g id=\"edge2\" class=\"edge\">\n",
       "<title>b0-&gt;b2</title>\n",
       "<path fill=\"none\" stroke=\"black\" d=\"M1151.74,-100.94C994.96,-94.47 646.44,-76.69 344.51,-36.24\"/>\n",
       "<polygon fill=\"black\" stroke=\"black\" points=\"344.62,-32.72 334.24,-34.85 343.68,-39.66 344.62,-32.72\"/>\n",
       "<text text-anchor=\"middle\" x=\"640\" y=\"-57.8\" font-family=\"Times,serif\" font-size=\"14.00\">1</text>\n",
       "</g>\n",
       "<!-- b3 -->\n",
       "<g id=\"node4\" class=\"node\">\n",
       "<title>b3</title>\n",
       "<polygon fill=\"none\" stroke=\"black\" points=\"531,-36 352,-36 352,0 531,0 531,-36\"/>\n",
       "<text text-anchor=\"start\" x=\"391\" y=\"-19.8\" font-family=\"Times,serif\" font-size=\"14.00\">LessThanConstant</text>\n",
       "<text text-anchor=\"start\" x=\"360\" y=\"-9\" font-family=\"monospace\" font-size=\"10.00\">bitsize=4, less_than_val=10</text>\n",
       "</g>\n",
       "<!-- b0&#45;&gt;b3 -->\n",
       "<g id=\"edge3\" class=\"edge\">\n",
       "<title>b0-&gt;b3</title>\n",
       "<path fill=\"none\" stroke=\"black\" d=\"M1151.71,-99.31C1058.85,-93.74 904.73,-83.35 772.5,-69 671.67,-58.06 644.44,-52.61 541.11,-36.24\"/>\n",
       "<polygon fill=\"black\" stroke=\"black\" points=\"541.63,-32.78 531.2,-34.68 540.53,-39.69 541.63,-32.78\"/>\n",
       "<text text-anchor=\"middle\" x=\"776\" y=\"-57.8\" font-family=\"Times,serif\" font-size=\"14.00\">4</text>\n",
       "</g>\n",
       "<!-- b4 -->\n",
       "<g id=\"node5\" class=\"node\">\n",
       "<title>b4</title>\n",
       "<polygon fill=\"none\" stroke=\"black\" points=\"668,-36 549,-36 549,0 668,0 668,-36\"/>\n",
       "<text text-anchor=\"start\" x=\"561\" y=\"-19.8\" font-family=\"Times,serif\" font-size=\"14.00\">EqualsAConstant</text>\n",
       "<text text-anchor=\"start\" x=\"557\" y=\"-9\" font-family=\"monospace\" font-size=\"10.00\">bitsize=4, val=11</text>\n",
       "</g>\n",
       "<!-- b0&#45;&gt;b4 -->\n",
       "<g id=\"edge4\" class=\"edge\">\n",
       "<title>b0-&gt;b4</title>\n",
       "<path fill=\"none\" stroke=\"black\" d=\"M1151.59,-97.45C1043.84,-88.23 851.05,-68.97 678.17,-36.22\"/>\n",
       "<polygon fill=\"black\" stroke=\"black\" points=\"678.6,-32.74 668.12,-34.3 677.29,-39.61 678.6,-32.74\"/>\n",
       "<text text-anchor=\"middle\" x=\"879\" y=\"-57.8\" font-family=\"Times,serif\" font-size=\"14.00\">3</text>\n",
       "</g>\n",
       "<!-- b5 -->\n",
       "<g id=\"node6\" class=\"node\">\n",
       "<title>b5</title>\n",
       "<polygon fill=\"none\" stroke=\"black\" points=\"819,-36 686,-36 686,0 819,0 819,-36\"/>\n",
       "<text text-anchor=\"start\" x=\"694\" y=\"-19.8\" font-family=\"Times,serif\" font-size=\"14.00\">GreaterThanConstant</text>\n",
       "<text text-anchor=\"start\" x=\"704\" y=\"-9\" font-family=\"monospace\" font-size=\"10.00\">bitsize=4, val=2</text>\n",
       "</g>\n",
       "<!-- b0&#45;&gt;b5 -->\n",
       "<g id=\"edge5\" class=\"edge\">\n",
       "<title>b0-&gt;b5</title>\n",
       "<path fill=\"none\" stroke=\"black\" d=\"M1151.63,-91.47C1071.23,-79.13 946.25,-59.08 828.98,-36.24\"/>\n",
       "<polygon fill=\"black\" stroke=\"black\" points=\"829.6,-32.8 819.11,-34.31 828.26,-39.67 829.6,-32.8\"/>\n",
       "<text text-anchor=\"middle\" x=\"1010\" y=\"-57.8\" font-family=\"Times,serif\" font-size=\"14.00\">4</text>\n",
       "</g>\n",
       "<!-- b6 -->\n",
       "<g id=\"node7\" class=\"node\">\n",
       "<title>b6</title>\n",
       "<polygon fill=\"none\" stroke=\"black\" points=\"1052,-36 837,-36 837,0 1052,0 1052,-36\"/>\n",
       "<text text-anchor=\"start\" x=\"916\" y=\"-19.8\" font-family=\"Times,serif\" font-size=\"14.00\">Reflection</text>\n",
       "<text text-anchor=\"start\" x=\"845\" y=\"-9\" font-family=\"monospace\" font-size=\"10.00\">bitsizes=(4, 4, 1), cvs=(1, 1, 1)</text>\n",
       "</g>\n",
       "<!-- b0&#45;&gt;b6 -->\n",
       "<g id=\"edge6\" class=\"edge\">\n",
       "<title>b0-&gt;b6</title>\n",
       "<path fill=\"none\" stroke=\"black\" d=\"M1176.96,-86.9C1129.5,-73.04 1062.55,-53.48 1012.68,-38.92\"/>\n",
       "<polygon fill=\"black\" stroke=\"black\" points=\"1013.52,-35.52 1002.94,-36.07 1011.56,-42.23 1013.52,-35.52\"/>\n",
       "<text text-anchor=\"middle\" x=\"1111\" y=\"-57.8\" font-family=\"Times,serif\" font-size=\"14.00\">1</text>\n",
       "</g>\n",
       "<!-- b7 -->\n",
       "<g id=\"node8\" class=\"node\">\n",
       "<title>b7</title>\n",
       "<polygon fill=\"none\" stroke=\"black\" points=\"1261,-36 1070,-36 1070,0 1261,0 1261,-36\"/>\n",
       "<text text-anchor=\"start\" x=\"1157.5\" y=\"-19.8\" font-family=\"Times,serif\" font-size=\"14.00\">Ry</text>\n",
       "<text text-anchor=\"start\" x=\"1078\" y=\"-9\" font-family=\"monospace\" font-size=\"10.00\">angle=-1.11675 ..., eps=1e-11</text>\n",
       "</g>\n",
       "<!-- b0&#45;&gt;b7 -->\n",
       "<g id=\"edge7\" class=\"edge\">\n",
       "<title>b0-&gt;b7</title>\n",
       "<path fill=\"none\" stroke=\"black\" d=\"M1221.33,-86.8C1211.28,-74.59 1197.61,-57.99 1186.32,-44.28\"/>\n",
       "<polygon fill=\"black\" stroke=\"black\" points=\"1188.7,-41.67 1179.64,-36.18 1183.3,-46.12 1188.7,-41.67\"/>\n",
       "<text text-anchor=\"middle\" x=\"1209\" y=\"-57.8\" font-family=\"Times,serif\" font-size=\"14.00\">1</text>\n",
       "</g>\n",
       "<!-- b8 -->\n",
       "<g id=\"node9\" class=\"node\">\n",
       "<title>b8</title>\n",
       "<polygon fill=\"none\" stroke=\"black\" points=\"1333.5,-36 1279.5,-36 1279.5,0 1333.5,0 1333.5,-36\"/>\n",
       "<text text-anchor=\"start\" x=\"1288.5\" y=\"-14.3\" font-family=\"Times,serif\" font-size=\"14.00\">XGate</text>\n",
       "</g>\n",
       "<!-- b0&#45;&gt;b8 -->\n",
       "<g id=\"edge8\" class=\"edge\">\n",
       "<title>b0-&gt;b8</title>\n",
       "<path fill=\"none\" stroke=\"black\" d=\"M1249.87,-86.8C1260.17,-74.47 1274.19,-57.68 1285.71,-43.89\"/>\n",
       "<polygon fill=\"black\" stroke=\"black\" points=\"1288.43,-46.09 1292.15,-36.18 1283.06,-41.61 1288.43,-46.09\"/>\n",
       "<text text-anchor=\"middle\" x=\"1279\" y=\"-57.8\" font-family=\"Times,serif\" font-size=\"14.00\">1</text>\n",
       "</g>\n",
       "<!-- b9 -->\n",
       "<g id=\"node10\" class=\"node\">\n",
       "<title>b9</title>\n",
       "<polygon fill=\"none\" stroke=\"black\" points=\"1567,-36 1352,-36 1352,0 1567,0 1567,-36\"/>\n",
       "<text text-anchor=\"start\" x=\"1409.5\" y=\"-19.8\" font-family=\"Times,serif\" font-size=\"14.00\">MultiControlPauli</text>\n",
       "<text text-anchor=\"start\" x=\"1360\" y=\"-9\" font-family=\"monospace\" font-size=\"10.00\">cvs=(1, 1, 1), target_gate=cirq.X</text>\n",
       "</g>\n",
       "<!-- b0&#45;&gt;b9 -->\n",
       "<g id=\"edge9\" class=\"edge\">\n",
       "<title>b0-&gt;b9</title>\n",
       "<path fill=\"none\" stroke=\"black\" d=\"M1280.56,-86.9C1316.48,-73.27 1366.91,-54.13 1405.09,-39.65\"/>\n",
       "<polygon fill=\"black\" stroke=\"black\" points=\"1406.4,-42.89 1414.51,-36.07 1403.92,-36.35 1406.4,-42.89\"/>\n",
       "<text text-anchor=\"middle\" x=\"1365\" y=\"-57.8\" font-family=\"Times,serif\" font-size=\"14.00\">1</text>\n",
       "</g>\n",
       "<!-- b10 -->\n",
       "<g id=\"node11\" class=\"node\">\n",
       "<title>b10</title>\n",
       "<polygon fill=\"none\" stroke=\"black\" points=\"1836,-36 1585,-36 1585,0 1836,0 1836,-36\"/>\n",
       "<text text-anchor=\"start\" x=\"1682\" y=\"-19.8\" font-family=\"Times,serif\" font-size=\"14.00\">Reflection</text>\n",
       "<text text-anchor=\"start\" x=\"1593\" y=\"-9\" font-family=\"monospace\" font-size=\"10.00\">bitsizes=(1, 1, 1, 1), cvs=(1, 1, 1, 1)</text>\n",
       "</g>\n",
       "<!-- b0&#45;&gt;b10 -->\n",
       "<g id=\"edge10\" class=\"edge\">\n",
       "<title>b0-&gt;b10</title>\n",
       "<path fill=\"none\" stroke=\"black\" d=\"M1319.05,-89.05C1398.69,-74.8 1518.9,-53.29 1605.09,-37.86\"/>\n",
       "<polygon fill=\"black\" stroke=\"black\" points=\"1605.93,-41.27 1615.16,-36.06 1604.7,-34.38 1605.93,-41.27\"/>\n",
       "<text text-anchor=\"middle\" x=\"1505\" y=\"-57.8\" font-family=\"Times,serif\" font-size=\"14.00\">1</text>\n",
       "</g>\n",
       "<!-- b11 -->\n",
       "<g id=\"node12\" class=\"node\">\n",
       "<title>b11</title>\n",
       "<polygon fill=\"none\" stroke=\"black\" points=\"2015,-36 1854,-36 1854,0 2015,0 2015,-36\"/>\n",
       "<text text-anchor=\"start\" x=\"1892\" y=\"-19.8\" font-family=\"Times,serif\" font-size=\"14.00\">LessThanEqual</text>\n",
       "<text text-anchor=\"start\" x=\"1862\" y=\"-9\" font-family=\"monospace\" font-size=\"10.00\">x_bitsize=4, y_bitsize=4</text>\n",
       "</g>\n",
       "<!-- b0&#45;&gt;b11 -->\n",
       "<g id=\"edge11\" class=\"edge\">\n",
       "<title>b0-&gt;b11</title>\n",
       "<path fill=\"none\" stroke=\"black\" d=\"M1319.49,-96.64C1435.19,-86.06 1650.25,-64.77 1843.53,-36.08\"/>\n",
       "<polygon fill=\"black\" stroke=\"black\" points=\"1844.22,-39.52 1853.6,-34.58 1843.19,-32.6 1844.22,-39.52\"/>\n",
       "<text text-anchor=\"middle\" x=\"1715\" y=\"-57.8\" font-family=\"Times,serif\" font-size=\"14.00\">4</text>\n",
       "</g>\n",
       "<!-- b12 -->\n",
       "<g id=\"node13\" class=\"node\">\n",
       "<title>b12</title>\n",
       "<polygon fill=\"none\" stroke=\"black\" points=\"2170,-36 2033,-36 2033,0 2170,0 2170,-36\"/>\n",
       "<text text-anchor=\"start\" x=\"2079.5\" y=\"-19.8\" font-family=\"Times,serif\" font-size=\"14.00\">OnEach</text>\n",
       "<text text-anchor=\"start\" x=\"2041\" y=\"-9\" font-family=\"monospace\" font-size=\"10.00\">n=4, gate=Hadamard()</text>\n",
       "</g>\n",
       "<!-- b0&#45;&gt;b12 -->\n",
       "<g id=\"edge12\" class=\"edge\">\n",
       "<title>b0-&gt;b12</title>\n",
       "<path fill=\"none\" stroke=\"black\" d=\"M1319.12,-100.95C1461.75,-94.83 1761.17,-78.02 2022.61,-36.04\"/>\n",
       "<polygon fill=\"black\" stroke=\"black\" points=\"2023.36,-39.47 2032.67,-34.41 2022.24,-32.56 2023.36,-39.47\"/>\n",
       "<text text-anchor=\"middle\" x=\"1899\" y=\"-57.8\" font-family=\"Times,serif\" font-size=\"14.00\">6</text>\n",
       "</g>\n",
       "<!-- b13 -->\n",
       "<g id=\"node14\" class=\"node\">\n",
       "<title>b13</title>\n",
       "<polygon fill=\"none\" stroke=\"black\" points=\"2243,-36 2188,-36 2188,0 2243,0 2243,-36\"/>\n",
       "<text text-anchor=\"start\" x=\"2196\" y=\"-14.3\" font-family=\"Times,serif\" font-size=\"14.00\">Toffoli</text>\n",
       "</g>\n",
       "<!-- b0&#45;&gt;b13 -->\n",
       "<g id=\"edge13\" class=\"edge\">\n",
       "<title>b0-&gt;b13</title>\n",
       "<path fill=\"none\" stroke=\"black\" d=\"M1319.05,-101.48C1446.1,-97.24 1695.42,-87.29 1906.5,-69 2027.82,-58.49 2061.32,-69.15 2178.5,-36 2178.6,-35.97 2178.7,-35.94 2178.79,-35.92\"/>\n",
       "<polygon fill=\"black\" stroke=\"black\" points=\"2179.65,-39.32 2187.97,-32.76 2177.38,-32.7 2179.65,-39.32\"/>\n",
       "<text text-anchor=\"middle\" x=\"2105\" y=\"-57.8\" font-family=\"Times,serif\" font-size=\"14.00\">4</text>\n",
       "</g>\n",
       "<!-- b14 -->\n",
       "<g id=\"node15\" class=\"node\">\n",
       "<title>b14</title>\n",
       "<polygon fill=\"none\" stroke=\"black\" points=\"2386,-36 2261,-36 2261,0 2386,0 2386,-36\"/>\n",
       "<text text-anchor=\"start\" x=\"2311\" y=\"-19.8\" font-family=\"Times,serif\" font-size=\"14.00\">Free</text>\n",
       "<text text-anchor=\"start\" x=\"2269\" y=\"-9\" font-family=\"monospace\" font-size=\"10.00\">dtype=QAny(bit ...</text>\n",
       "</g>\n",
       "<!-- b0&#45;&gt;b14 -->\n",
       "<g id=\"edge14\" class=\"edge\">\n",
       "<title>b0-&gt;b14</title>\n",
       "<path fill=\"none\" stroke=\"black\" d=\"M1319.24,-102.72C1507.79,-99.49 1960.97,-89.78 2112.5,-69 2160.74,-62.38 2214.09,-49.69 2255.08,-38.75\"/>\n",
       "<polygon fill=\"black\" stroke=\"black\" points=\"2256.21,-42.07 2264.96,-36.08 2254.39,-35.31 2256.21,-42.07\"/>\n",
       "<text text-anchor=\"middle\" x=\"2193\" y=\"-57.8\" font-family=\"Times,serif\" font-size=\"14.00\">1</text>\n",
       "</g>\n",
       "</g>\n",
       "</svg>"
      ],
      "text/plain": [
       "<IPython.core.display.SVG object>"
      ]
     },
     "metadata": {},
     "output_type": "display_data"
    },
    {
     "data": {
      "text/markdown": [
       "#### Counts totals:\n",
       " - `Allocate(dtype=QAny(bitsize=4))`: 1\n",
       " - `EqualsAConstant(bitsize=4, val=11)`: 3\n",
       " - `Free(dtype=QAny(bitsize=4))`: 1\n",
       " - `GreaterThanConstant(bitsize=4, val=2)`: 4\n",
       " - `LessThanConstant(bitsize=4, less_than_val=10)`: 4\n",
       " - `LessThanEqual(x_bitsize=4, y_bitsize=4)`: 4\n",
       " - `MultiControlPauli(cvs=(1, 1, 1), target_gate=cirq.X)`: 1\n",
       " - `OnEach(n=4, gate=Hadamard())`: 6\n",
       " - `Reflection(bitsizes=(1, 1, 1, 1), cvs=(1, 1, 1, 1))`: 1\n",
       " - `Reflection(bitsizes=(4, 4, 1), cvs=(1, 1, 1))`: 1\n",
       " - `Ry(-0.3554757444464634π)`: 1\n",
       " - `Ry(0.3554757444464634π)`: 1\n",
       " - `Toffoli()`: 4\n",
       " - `XGate()`: 1"
      ],
      "text/plain": [
       "<IPython.core.display.Markdown object>"
      ]
     },
     "metadata": {},
     "output_type": "display_data"
    }
   ],
   "source": [
    "from qualtran.resource_counting.generalizers import ignore_split_join\n",
    "thc_uni_g, thc_uni_sigma = thc_uni.call_graph(max_depth=1, generalizer=ignore_split_join)\n",
    "show_call_graph(thc_uni_g)\n",
    "show_counts_sigma(thc_uni_sigma)"
   ]
  },
  {
   "cell_type": "markdown",
   "id": "f2cbc8e6",
   "metadata": {},
   "source": [
    "Let's print out the costs contributing to the TCount."
   ]
  },
  {
   "cell_type": "code",
   "execution_count": 6,
   "id": "fa6858a5",
   "metadata": {},
   "outputs": [
    {
     "name": "stdout",
     "output_type": "stream",
     "text": [
      "arithmetic:     qualtran =   276 vs paper cost =   100.\n",
      "rotation:       qualtran =     0 vs paper cost =    32.\n",
      "reflection:     qualtran =    36 vs paper cost =    40.\n",
      "other:          qualtran =     0 vs paper cost =    12.\n"
     ]
    }
   ],
   "source": [
    "from qualtran.resource_counting.classify_bloqs import classify_t_count_by_bloq_type\n",
    "\n",
    "binned_counts = classify_t_count_by_bloq_type(thc_uni)\n",
    "# number of bits for mu register (nm in THC paper)\n",
    "# note this register should range up to num_mu + 1, not num_mu, hence it's just bit_length not (num_mu - 1).bit_length()\n",
    "nm = thc_uni.num_mu.bit_length()\n",
    "# Costs for THC paper\n",
    "# The factor of 4 is for Toffoli -> T conversion\n",
    "paper_costs = {\n",
    "    'arithmetic': 4*(4*(nm - 1) + (4*nm - 3)), # 4 comparitors of cost nm - 1 Toffolis\n",
    "    'rotation': 4*(4 + 4), # Given as br - 3, br = 7 is the number of bits of precision for rotations.\n",
    "    'reflection': 4*(3 + 2*nm-1), # 5 qubit reflection for comparitors and 2*nm + 1 qubits reflect after hadamards\n",
    "    'other': 4*3, # \"Checking the inequality test\" unclear if this is the multi-control not gate.\n",
    "}\n",
    "for k, v in paper_costs.items():\n",
    "    print(f\"{k+':':15s} qualtran = {binned_counts[k]:5d} vs paper cost = {v:5d}.\")\n",
    "\n",
    "assert binned_counts['arithmetic'] == 276"
   ]
  },
  {
   "cell_type": "markdown",
   "id": "e92c2265",
   "metadata": {},
   "source": [
    "The discrepancies arise from the following issues:\n",
    "\n",
    "1. Comparators: The paper uncomputes the comparators at zero Toffoli cost, whereas we do not. This is nearly a factor of two difference. This leaves us with 144 vs 100. The extra factor of 44 arises from the different costs of the comparators listed in the paper and those in qualtran. The paper uses a cost of $n_m - 1$ for all the comparitors (with the final $\\nu = M+1$ equality test costing $n_m$), whereas the qualtran comparators assume a cost of $n_m - 1$ for equality testing to a classical value, $n_m$ for comparison to a classical value and $2 n_m - 1$ when comparing two quantum registers.\n",
    "2. Rotations: The paper uses a phase gradient register which has a much lower cost than the qualtran cost which assumes a generic synthesis cost. \n",
    "3. Reflections and other: This discrepancy arises because the paper states the first reflection in between the comparators has Toffoli cost of 3, rather than what we have which is 2 Toffolis and 1 Multi-Controlled Z which costs 2 Toffolis. Our costs for the second reflection match. The other discrepancy is for the operations in between the second set of comparators. Here we count 2 Toffolis and 1 Multi-Controlled-Not gate of cost 2 Toffolis.  \n",
    "\n",
    "The leading order Toffoli cost of this state preparation is 10 $n_m$ in the paper which arises from the comparators and the reflection on the $\\mu$ and $\\nu$ registers, i.e. $4(n_m - 1) + 4n_m - 3 + 2n_m -1 \\approx 10 n_m$."
   ]
  },
  {
   "cell_type": "code",
   "execution_count": 7,
   "id": "01436b52",
   "metadata": {},
   "outputs": [
    {
     "data": {
      "image/png": "[encoded data removed]",
      "text/plain": [
       "<Figure size 2000x1000 with 1 Axes>"
      ]
     },
     "metadata": {},
     "output_type": "display_data"
    }
   ],
   "source": [
    "\n",
    "from qualtran.drawing.musical_score import draw_musical_score, get_musical_score_data\n",
    "\n",
    "msd = get_musical_score_data(thc_uni.decompose_bloq())\n",
    "fig, ax = draw_musical_score(msd)\n",
    "fig.set_size_inches(20, 10)"
   ]
  },
  {
   "cell_type": "markdown",
   "id": "c1c26aa0",
   "metadata": {
    "cq.autogen": "PrepareTHC.bloq_doc.md"
   },
   "source": [
    "## `PrepareTHC`\n",
    "State Preparation for THC Hamilontian.\n",
    "\n",
    "Prepares the state\n",
    "\n",
    "$$\n",
    "    \\frac{1}{\\sqrt{\\lambda}}|+\\rangle|+\\rangle\\left[\n",
    "        \\sum_\\ell^{N/2} \\sqrt{t_\\ell}|\\ell\\rangle|M+1\\rangle\n",
    "        + \\frac{1}{\\sqrt{2}} \\sum_{\\mu\\le\\nu}^M \\sqrt{\\zeta_{\\mu\\nu}} |\\mu\\rangle|\\nu\\rangle\n",
    "    \\right].\n",
    "$$\n",
    "\n",
    "Note we use UniformSuperpositionTHC as a subroutine as part of this bloq in\n",
    "contrast to the reference which keeps them separate.\n",
    "\n",
    "#### Parameters\n",
    " - `num_mu`: THC auxiliary index dimension $M$\n",
    " - `num_spin_orb`: number of spin orbitals $N$\n",
    " - `alt_mu`: Alternate values for mu indices.\n",
    " - `alt_nu`: Alternate values for nu indices.\n",
    " - `alt_theta`: Alternate values for theta indices.\n",
    " - `theta`: Signs of lcu coefficients.\n",
    " - `keep`: keep values.\n",
    " - `keep_bitsize`: number of bits for keep register for coherent alias sampling. \n",
    "\n",
    "#### Registers\n",
    " - `mu`: $\\mu$ register.\n",
    " - `nu`: $\\nu$ register.\n",
    " - `plus_mn`: plus state for controlled swaps on mu/nu.\n",
    " - `plus_a / plus_b`: plus state for controlled swaps on spins.\n",
    " - `sigma`: ancilla register for alias sampling.\n",
    " - `rot`: ancilla register for rotation for uniform superposition state.\n",
    " - `succ`: success flag qubit from uniform state preparation\n",
    " - `nu_eq_mp1`: flag for if $nu = M+1$\n",
    " - `theta`: sign register.\n",
    " - `s`: Contiguous index register.\n",
    " - `alt_mn`: Register to store alt mu and nu values.\n",
    " - `alt_theta`: Register for alternate theta values.\n",
    " - `keep`: keep_bitsize-sized register for the keep values from coherent alias sampling.\n",
    " - `less_than`: Single qubit ancilla for alias sampling.\n",
    " - `extra_ctrl`: An extra control register for producing a multi-controlled CSwap. \n",
    "\n",
    "#### References\n",
    " - [Even more efficient quantum computations of chemistry through     tensor hypercontraction](https://arxiv.org/pdf/2011.03494.pdf). Fig. 2 and Fig. 3.\n"
   ]
  },
  {
   "cell_type": "code",
   "execution_count": 8,
   "id": "d6cd1df7",
   "metadata": {
    "cq.autogen": "PrepareTHC.bloq_doc.py"
   },
   "outputs": [],
   "source": [
    "from qualtran.bloqs.chemistry.thc.prepare import PrepareTHC"
   ]
  },
  {
   "cell_type": "markdown",
   "id": "ec7c8839",
   "metadata": {
    "cq.autogen": "PrepareTHC.example_instances.md"
   },
   "source": [
    "### Example Instances"
   ]
  },
  {
   "cell_type": "code",
   "execution_count": 9,
   "id": "fc1ebede",
   "metadata": {
    "cq.autogen": "PrepareTHC.thc_prep"
   },
   "outputs": [],
   "source": [
    "num_spat = 4\n",
    "num_mu = 8\n",
    "t_l = np.random.normal(0, 1, size=num_spat)\n",
    "zeta = np.random.normal(0, 1, size=(num_mu, num_mu))\n",
    "zeta = 0.5 * (zeta + zeta.T)\n",
    "thc_prep = PrepareTHC.from_hamiltonian_coeffs(t_l, zeta, num_bits_state_prep=8)"
   ]
  },
  {
   "cell_type": "markdown",
   "id": "f327eeaf",
   "metadata": {
    "cq.autogen": "PrepareTHC.graphical_signature.md"
   },
   "source": [
    "#### Graphical Signature"
   ]
  },
  {
   "cell_type": "code",
   "execution_count": 10,
   "id": "87f90feb",
   "metadata": {
    "cq.autogen": "PrepareTHC.graphical_signature.py"
   },
   "outputs": [
    {
     "data": {
      "application/vnd.jupyter.widget-view+json": {
       "model_id": "09010fb10868408bbdaef5e60b24d605",
       "version_major": 2,
       "version_minor": 0
      },
      "text/plain": [
       "HBox(children=(Output(outputs=({'output_type': 'display_data', 'data': {'text/plain': '<IPython.core.display.M…"
      ]
     },
     "metadata": {},
     "output_type": "display_data"
    }
   ],
   "source": [
    "from qualtran.drawing import show_bloqs\n",
    "show_bloqs([thc_prep],\n",
    "           ['`thc_prep`'])"
   ]
  },
  {
   "cell_type": "markdown",
   "id": "b60183fb",
   "metadata": {
    "cq.autogen": "PrepareTHC.call_graph.md"
   },
   "source": [
    "### Call Graph"
   ]
  },
  {
   "cell_type": "code",
   "execution_count": 11,
   "id": "d18fe659",
   "metadata": {
    "cq.autogen": "PrepareTHC.call_graph.py"
   },
   "outputs": [
    {
     "data": {
      "image/svg+xml": [
       "<svg xmlns=\"http://www.w3.org/2000/svg\" xmlns:xlink=\"http://www.w3.org/1999/xlink\" width=\"1389pt\" height=\"131pt\" viewBox=\"0.00 0.00 1389.00 131.00\">\n",
       "<g id=\"graph0\" class=\"graph\" transform=\"scale(1 1) rotate(0) translate(4 127)\">\n",
       "<title>counts</title>\n",
       "<polygon fill=\"white\" stroke=\"transparent\" points=\"-4,4 -4,-127 1385,-127 1385,4 -4,4\"/>\n",
       "<!-- b0 -->\n",
       "<g id=\"node1\" class=\"node\">\n",
       "<title>b0</title>\n",
       "<polygon fill=\"none\" stroke=\"black\" points=\"755,-123 228,-123 228,-87 755,-87 755,-123\"/>\n",
       "<text text-anchor=\"start\" x=\"457\" y=\"-106.8\" font-family=\"Times,serif\" font-size=\"14.00\">PrepareTHC</text>\n",
       "<text text-anchor=\"start\" x=\"236\" y=\"-96\" font-family=\"monospace\" font-size=\"10.00\">num_mu=8, num_spin_orb=8, alt_mu=(7, 0, 0 ..., alt_nu=(7, 0, 0 ..., [4 addtl fields].</text>\n",
       "</g>\n",
       "<!-- b1 -->\n",
       "<g id=\"node2\" class=\"node\">\n",
       "<title>b1</title>\n",
       "<polygon fill=\"none\" stroke=\"black\" points=\"137,-36 0,-36 0,0 137,0 137,-36\"/>\n",
       "<text text-anchor=\"start\" x=\"46.5\" y=\"-19.8\" font-family=\"Times,serif\" font-size=\"14.00\">OnEach</text>\n",
       "<text text-anchor=\"start\" x=\"8\" y=\"-9\" font-family=\"monospace\" font-size=\"10.00\">n=8, gate=Hadamard()</text>\n",
       "</g>\n",
       "<!-- b0&#45;&gt;b1 -->\n",
       "<g id=\"edge1\" class=\"edge\">\n",
       "<title>b0-&gt;b1</title>\n",
       "<path fill=\"none\" stroke=\"black\" d=\"M384.89,-86.97C353.16,-81.59 318.36,-75.37 286.5,-69 239.97,-59.7 188.19,-47.88 146.77,-38.08\"/>\n",
       "<polygon fill=\"black\" stroke=\"black\" points=\"147.55,-34.66 137.02,-35.76 145.94,-41.48 147.55,-34.66\"/>\n",
       "<text text-anchor=\"middle\" x=\"290\" y=\"-57.8\" font-family=\"Times,serif\" font-size=\"14.00\">1</text>\n",
       "</g>\n",
       "<!-- b2 -->\n",
       "<g id=\"node3\" class=\"node\">\n",
       "<title>b2</title>\n",
       "<polygon fill=\"none\" stroke=\"black\" points=\"226,-36 155,-36 155,0 226,0 226,-36\"/>\n",
       "<text text-anchor=\"start\" x=\"170.5\" y=\"-19.8\" font-family=\"Times,serif\" font-size=\"14.00\">CSwap</text>\n",
       "<text text-anchor=\"start\" x=\"163\" y=\"-9\" font-family=\"monospace\" font-size=\"10.00\">bitsize=4</text>\n",
       "</g>\n",
       "<!-- b0&#45;&gt;b2 -->\n",
       "<g id=\"edge2\" class=\"edge\">\n",
       "<title>b0-&gt;b2</title>\n",
       "<path fill=\"none\" stroke=\"black\" d=\"M418.6,-86.98C369.24,-74.93 302.46,-57.62 236.18,-36.4\"/>\n",
       "<polygon fill=\"black\" stroke=\"black\" points=\"236.99,-32.99 226.4,-33.24 234.84,-39.65 236.99,-32.99\"/>\n",
       "<text text-anchor=\"middle\" x=\"350\" y=\"-57.8\" font-family=\"Times,serif\" font-size=\"14.00\">3</text>\n",
       "</g>\n",
       "<!-- b3 -->\n",
       "<g id=\"node4\" class=\"node\">\n",
       "<title>b3</title>\n",
       "<polygon fill=\"none\" stroke=\"black\" points=\"393,-36 244,-36 244,0 393,0 393,-36\"/>\n",
       "<text text-anchor=\"start\" x=\"264\" y=\"-19.8\" font-family=\"Times,serif\" font-size=\"14.00\">ToContiguousIndex</text>\n",
       "<text text-anchor=\"start\" x=\"252\" y=\"-9\" font-family=\"monospace\" font-size=\"10.00\">bitsize=4, s_bitsize=6</text>\n",
       "</g>\n",
       "<!-- b0&#45;&gt;b3 -->\n",
       "<g id=\"edge3\" class=\"edge\">\n",
       "<title>b0-&gt;b3</title>\n",
       "<path fill=\"none\" stroke=\"black\" d=\"M456.49,-86.8C429.32,-73.45 391.49,-54.86 362.31,-40.52\"/>\n",
       "<polygon fill=\"black\" stroke=\"black\" points=\"363.68,-37.3 353.16,-36.03 360.59,-43.58 363.68,-37.3\"/>\n",
       "<text text-anchor=\"middle\" x=\"419\" y=\"-57.8\" font-family=\"Times,serif\" font-size=\"14.00\">1</text>\n",
       "</g>\n",
       "<!-- b4 -->\n",
       "<g id=\"node5\" class=\"node\">\n",
       "<title>b4</title>\n",
       "<polygon fill=\"none\" stroke=\"black\" points=\"572,-36 411,-36 411,0 572,0 572,-36\"/>\n",
       "<text text-anchor=\"start\" x=\"449\" y=\"-19.8\" font-family=\"Times,serif\" font-size=\"14.00\">LessThanEqual</text>\n",
       "<text text-anchor=\"start\" x=\"419\" y=\"-9\" font-family=\"monospace\" font-size=\"10.00\">x_bitsize=8, y_bitsize=8</text>\n",
       "</g>\n",
       "<!-- b0&#45;&gt;b4 -->\n",
       "<g id=\"edge4\" class=\"edge\">\n",
       "<title>b0-&gt;b4</title>\n",
       "<path fill=\"none\" stroke=\"black\" d=\"M491.5,-86.8C491.5,-75.16 491.5,-59.55 491.5,-46.24\"/>\n",
       "<polygon fill=\"black\" stroke=\"black\" points=\"495,-46.18 491.5,-36.18 488,-46.18 495,-46.18\"/>\n",
       "<text text-anchor=\"middle\" x=\"495\" y=\"-57.8\" font-family=\"Times,serif\" font-size=\"14.00\">2</text>\n",
       "</g>\n",
       "<!-- b5 -->\n",
       "<g id=\"node6\" class=\"node\">\n",
       "<title>b5</title>\n",
       "<polygon fill=\"none\" stroke=\"black\" points=\"756.5,-36 590.5,-36 590.5,0 756.5,0 756.5,-36\"/>\n",
       "<text text-anchor=\"start\" x=\"598.5\" y=\"-19.8\" font-family=\"Times,serif\" font-size=\"14.00\">UniformSuperpositionTHC</text>\n",
       "<text text-anchor=\"start\" x=\"601\" y=\"-9\" font-family=\"monospace\" font-size=\"10.00\">num_mu=8, num_spin_orb=8</text>\n",
       "</g>\n",
       "<!-- b0&#45;&gt;b5 -->\n",
       "<g id=\"edge5\" class=\"edge\">\n",
       "<title>b0-&gt;b5</title>\n",
       "<path fill=\"none\" stroke=\"black\" d=\"M528.33,-86.8C557.04,-73.39 597.06,-54.7 627.81,-40.34\"/>\n",
       "<polygon fill=\"black\" stroke=\"black\" points=\"629.46,-43.43 637.04,-36.03 626.49,-37.09 629.46,-43.43\"/>\n",
       "<text text-anchor=\"middle\" x=\"597\" y=\"-57.8\" font-family=\"Times,serif\" font-size=\"14.00\">1</text>\n",
       "</g>\n",
       "<!-- b6 -->\n",
       "<g id=\"node7\" class=\"node\">\n",
       "<title>b6</title>\n",
       "<polygon fill=\"none\" stroke=\"black\" points=\"1308,-36 775,-36 775,0 1308,0 1308,-36\"/>\n",
       "<text text-anchor=\"start\" x=\"989\" y=\"-19.8\" font-family=\"Times,serif\" font-size=\"14.00\">SelectSwapQROM</text>\n",
       "<text text-anchor=\"start\" x=\"783\" y=\"-9\" font-family=\"monospace\" font-size=\"10.00\">&lt;qualtran.bloqs.data_loading.select_swap_qrom.SelectSwapQROM object at 0x7f21a030de50&gt;</text>\n",
       "</g>\n",
       "<!-- b0&#45;&gt;b6 -->\n",
       "<g id=\"edge6\" class=\"edge\">\n",
       "<title>b0-&gt;b6</title>\n",
       "<path fill=\"none\" stroke=\"black\" d=\"M601.81,-86.95C694.34,-72.65 826.24,-52.27 921.41,-37.56\"/>\n",
       "<polygon fill=\"black\" stroke=\"black\" points=\"922.03,-41.01 931.37,-36.02 920.96,-34.09 922.03,-41.01\"/>\n",
       "<text text-anchor=\"middle\" x=\"803\" y=\"-57.8\" font-family=\"Times,serif\" font-size=\"14.00\">1</text>\n",
       "</g>\n",
       "<!-- b7 -->\n",
       "<g id=\"node8\" class=\"node\">\n",
       "<title>b7</title>\n",
       "<polygon fill=\"none\" stroke=\"black\" points=\"1381,-36 1326,-36 1326,0 1381,0 1381,-36\"/>\n",
       "<text text-anchor=\"start\" x=\"1334\" y=\"-14.3\" font-family=\"Times,serif\" font-size=\"14.00\">Toffoli</text>\n",
       "</g>\n",
       "<!-- b0&#45;&gt;b7 -->\n",
       "<g id=\"edge7\" class=\"edge\">\n",
       "<title>b0-&gt;b7</title>\n",
       "<path fill=\"none\" stroke=\"black\" d=\"M755.22,-92.2C950.04,-81.67 1199.4,-63.93 1315.76,-35.55\"/>\n",
       "<polygon fill=\"black\" stroke=\"black\" points=\"1316.77,-38.91 1325.59,-33.04 1315.04,-32.12 1316.77,-38.91\"/>\n",
       "<text text-anchor=\"middle\" x=\"1221\" y=\"-57.8\" font-family=\"Times,serif\" font-size=\"14.00\">1</text>\n",
       "</g>\n",
       "</g>\n",
       "</svg>"
      ],
      "text/plain": [
       "<IPython.core.display.SVG object>"
      ]
     },
     "metadata": {},
     "output_type": "display_data"
    },
    {
     "data": {
      "text/markdown": [
       "#### Counts totals:\n",
       " - `<qualtran.bloqs.data_loading.select_swap_qrom.SelectSwapQROM object at 0x7f21a030de50>`: 1\n",
       " - `CSwap(bitsize=4)`: 3\n",
       " - `LessThanEqual(x_bitsize=8, y_bitsize=8)`: 2\n",
       " - `OnEach(n=8, gate=Hadamard())`: 1\n",
       " - `ToContiguousIndex(bitsize=4, s_bitsize=6)`: 1\n",
       " - `Toffoli()`: 1\n",
       " - `UniformSuperpositionTHC(num_mu=8, num_spin_orb=8)`: 1"
      ],
      "text/plain": [
       "<IPython.core.display.Markdown object>"
      ]
     },
     "metadata": {},
     "output_type": "display_data"
    }
   ],
   "source": [
    "from qualtran.resource_counting.generalizers import ignore_split_join\n",
    "thc_prep_g, thc_prep_sigma = thc_prep.call_graph(max_depth=1, generalizer=ignore_split_join)\n",
    "show_call_graph(thc_prep_g)\n",
    "show_counts_sigma(thc_prep_sigma)"
   ]
  },
  {
   "cell_type": "markdown",
   "id": "85818cf5",
   "metadata": {},
   "source": [
    "### Paper Comparison\n",
    "\n",
    "Let's compare our costs to those from the paper. Note we will only look at the cost of prepare. Inverting prepare has the same cost up to the cost of the inverse QROM being reduced to\n",
    "\n",
    "$$\n",
    "\\lceil \\frac{d}{k_{s2}} \\rceil + k_{s2}\n",
    "$$\n"
   ]
  },
  {
   "cell_type": "code",
   "execution_count": 12,
   "id": "5be7dcf4",
   "metadata": {},
   "outputs": [
    {
     "name": "stdout",
     "output_type": "stream",
     "text": [
      "arithmetic:          qualtran =   472 vs paper cost =   108.\n",
      "swaps:               qualtran =    84 vs paper cost =    52.\n",
      "data_loading:        qualtran =   288 vs paper cost =   256.\n",
      "Total cost = 1012\n"
     ]
    }
   ],
   "source": [
    "binned_counts = classify_t_count_by_bloq_type(thc_prep.decompose_bloq())\n",
    "data_size = thc_prep.num_mu * (thc_prep.num_mu + 1) // 2 + thc_prep.num_spin_orb // 2\n",
    "\n",
    "num_bits_mu = thc_prep.num_mu.bit_length() \n",
    "qrom_bitsize = 2 * num_bits_mu + 2 + thc_prep.keep_bitsize\n",
    "paper_costs = {\n",
    "    'arithmetic': 4*(num_bits_mu ** 2 + num_bits_mu - 1) + 4*thc_prep.keep_bitsize,\n",
    "    'swaps': 4*(2 * num_bits_mu + (num_bits_mu + 1)), # Swaps from inequality and swap from from \n",
    "    'data_loading': 4 * (int(np.ceil(data_size/4) + qrom_bitsize * (4 - 1))), # Eq. 31 from THC paper, k = 4 in this specific case.\n",
    "}\n",
    "for k, v in paper_costs.items():\n",
    "    print(f\"{k+':':20s} qualtran = {binned_counts[k]:5d} vs paper cost = {v:5d}.\")\n",
    "\n",
    "print(f\"Total cost = {sum(v for v in binned_counts.values())}\")\n",
    "assert binned_counts['data_loading'] == 288"
   ]
  },
  {
   "cell_type": "markdown",
   "id": "807674de",
   "metadata": {},
   "source": [
    "The main discrepancies arise from QROAM assumptions and the difference in comparator cost seen before. "
   ]
  },
  {
   "cell_type": "code",
   "execution_count": 13,
   "id": "4dc799bb",
   "metadata": {},
   "outputs": [
    {
     "data": {
      "image/png": "[encoded data removed]",
      "text/plain": [
       "<Figure size 1000x1000 with 1 Axes>"
      ]
     },
     "metadata": {},
     "output_type": "display_data"
    }
   ],
   "source": [
    "from qualtran.drawing.musical_score import draw_musical_score, get_musical_score_data\n",
    "\n",
    "\n",
    "msd = get_musical_score_data(thc_prep.decompose_bloq())\n",
    "fig, ax = draw_musical_score(msd)\n",
    "fig.set_size_inches(10, 10)"
   ]
  },
  {
   "cell_type": "markdown",
   "id": "82f5f156",
   "metadata": {
    "cq.autogen": "SelectTHC.bloq_doc.md"
   },
   "source": [
    "## `SelectTHC`\n",
    "SELECT for THC Hamiltonian.\n",
    "\n",
    "#### Parameters\n",
    " - `num_mu`: THC auxiliary index dimension $M$\n",
    " - `num_spin_orb`: number of spin orbitals $N$\n",
    " - `num_bits_theta`: Number of bits of precision for the rotations. Called $\\beth$ in the reference.\n",
    " - `kr1`: block sizes for QROM erasure for outputting rotation angles. See Eq 34.\n",
    " - `kr2`: block sizes for QROM erasure for outputting rotation angles. This is for the second QROM (eq 35)\n",
    " - `control_val`: A control bit for the entire gate.\n",
    " - `keep_bitsize`: number of bits for keep register for coherent alias\n",
    " - `sampling. This can be determined from the PrepareTHC bloq. See`: \n",
    " - `https`: //github.com/quantumlib/Qualtran/issues/549 \n",
    "\n",
    "#### Registers\n",
    " - `succ`: success flag qubit from uniform state preparation\n",
    " - `nu_eq_mp1`: flag for if $nu = M+1$\n",
    " - `mu`: $\\mu$ register.\n",
    " - `nu`: $\\nu$ register.\n",
    " - `theta`: sign register.\n",
    " - `plus_mn`: Flag controlling swaps between mu and nu. Note that as per the Reference, the swaps are NOT performed as part of SELECT as they're acounted for during Prepare.\n",
    " - `plus_a / plus_b`: plus state for controlled swaps on spins.\n",
    " - `sys_a / sys_b`: System registers for (a)lpha/(b)eta orbitals. \n",
    "\n",
    "#### References\n",
    " - [Even more efficient quantum computations of chemistry through     tensor hypercontraction](https://arxiv.org/pdf/2011.03494.pdf). Fig. 7.\n"
   ]
  },
  {
   "cell_type": "code",
   "execution_count": 14,
   "id": "6d60ada0",
   "metadata": {
    "cq.autogen": "SelectTHC.bloq_doc.py"
   },
   "outputs": [],
   "source": [
    "from qualtran.bloqs.chemistry.thc.select_bloq import SelectTHC"
   ]
  },
  {
   "cell_type": "markdown",
   "id": "7c68adb1",
   "metadata": {
    "cq.autogen": "SelectTHC.example_instances.md"
   },
   "source": [
    "### Example Instances"
   ]
  },
  {
   "cell_type": "code",
   "execution_count": 15,
   "id": "9ebf4208",
   "metadata": {
    "cq.autogen": "SelectTHC.thc_sel"
   },
   "outputs": [],
   "source": [
    "num_mu = 8\n",
    "num_mu = 10\n",
    "num_spin_orb = 2 * 4\n",
    "thc_sel = SelectTHC(\n",
    "    num_mu=num_mu, num_spin_orb=num_spin_orb, num_bits_theta=12, keep_bitsize=10\n",
    ")"
   ]
  },
  {
   "cell_type": "markdown",
   "id": "3d34aa4b",
   "metadata": {
    "cq.autogen": "SelectTHC.graphical_signature.md"
   },
   "source": [
    "#### Graphical Signature"
   ]
  },
  {
   "cell_type": "code",
   "execution_count": 16,
   "id": "436ebbcd",
   "metadata": {
    "cq.autogen": "SelectTHC.graphical_signature.py"
   },
   "outputs": [
    {
     "data": {
      "application/vnd.jupyter.widget-view+json": {
       "model_id": "62e724cf9c3c473ebf80d4354c73ab08",
       "version_major": 2,
       "version_minor": 0
      },
      "text/plain": [
       "HBox(children=(Output(outputs=({'output_type': 'display_data', 'data': {'text/plain': '<IPython.core.display.M…"
      ]
     },
     "metadata": {},
     "output_type": "display_data"
    }
   ],
   "source": [
    "from qualtran.drawing import show_bloqs\n",
    "show_bloqs([thc_sel],\n",
    "           ['`thc_sel`'])"
   ]
  },
  {
   "cell_type": "markdown",
   "id": "acd232bb",
   "metadata": {
    "cq.autogen": "SelectTHC.call_graph.md"
   },
   "source": [
    "### Call Graph"
   ]
  },
  {
   "cell_type": "code",
   "execution_count": 17,
   "id": "44fed1ba",
   "metadata": {
    "cq.autogen": "SelectTHC.call_graph.py"
   },
   "outputs": [
    {
     "data": {
      "image/svg+xml": [
       "<svg xmlns=\"http://www.w3.org/2000/svg\" xmlns:xlink=\"http://www.w3.org/1999/xlink\" width=\"2657pt\" height=\"131pt\" viewBox=\"0.00 0.00 2657.00 131.00\">\n",
       "<g id=\"graph0\" class=\"graph\" transform=\"scale(1 1) rotate(0) translate(4 127)\">\n",
       "<title>counts</title>\n",
       "<polygon fill=\"white\" stroke=\"transparent\" points=\"-4,4 -4,-127 2653,-127 2653,4 -4,4\"/>\n",
       "<!-- b0 -->\n",
       "<g id=\"node1\" class=\"node\">\n",
       "<title>b0</title>\n",
       "<polygon fill=\"none\" stroke=\"black\" points=\"1911,-123 1414,-123 1414,-87 1911,-87 1911,-123\"/>\n",
       "<text text-anchor=\"start\" x=\"1632\" y=\"-106.8\" font-family=\"Times,serif\" font-size=\"14.00\">SelectTHC</text>\n",
       "<text text-anchor=\"start\" x=\"1422\" y=\"-96\" font-family=\"monospace\" font-size=\"10.00\">num_mu=10, num_spin_orb=8, num_bits_theta=12, keep_bitsize=10, [3 addtl fields].</text>\n",
       "</g>\n",
       "<!-- b1 -->\n",
       "<g id=\"node2\" class=\"node\">\n",
       "<title>b1</title>\n",
       "<polygon fill=\"none\" stroke=\"black\" points=\"437,-36 0,-36 0,0 437,0 437,-36\"/>\n",
       "<text text-anchor=\"start\" x=\"193.5\" y=\"-19.8\" font-family=\"Times,serif\" font-size=\"14.00\">In_mu-R</text>\n",
       "<text text-anchor=\"start\" x=\"8\" y=\"-9\" font-family=\"monospace\" font-size=\"10.00\">num_mu=10, num_spin_orb=8, num_bits_theta=12, kr1=1, [3 addtl fields].</text>\n",
       "</g>\n",
       "<!-- b0&#45;&gt;b1 -->\n",
       "<g id=\"edge1\" class=\"edge\">\n",
       "<title>b0-&gt;b1</title>\n",
       "<path fill=\"none\" stroke=\"black\" d=\"M1413.78,-91.79C1285.03,-85.32 1125.31,-77.06 982.5,-69 747.03,-55.71 685.73,-52.35 447.19,-36.11\"/>\n",
       "<polygon fill=\"black\" stroke=\"black\" points=\"447.38,-32.62 437.17,-35.43 446.91,-39.6 447.38,-32.62\"/>\n",
       "<text text-anchor=\"middle\" x=\"986\" y=\"-57.8\" font-family=\"Times,serif\" font-size=\"14.00\">1</text>\n",
       "</g>\n",
       "<!-- b2 -->\n",
       "<g id=\"node3\" class=\"node\">\n",
       "<title>b2</title>\n",
       "<polygon fill=\"none\" stroke=\"black\" points=\"892,-36 455,-36 455,0 892,0 892,-36\"/>\n",
       "<text text-anchor=\"start\" x=\"648.5\" y=\"-19.8\" font-family=\"Times,serif\" font-size=\"14.00\">In_mu-R</text>\n",
       "<text text-anchor=\"start\" x=\"463\" y=\"-9\" font-family=\"monospace\" font-size=\"10.00\">num_mu=10, num_spin_orb=8, num_bits_theta=12, kr1=1, [3 addtl fields].</text>\n",
       "</g>\n",
       "<!-- b0&#45;&gt;b2 -->\n",
       "<g id=\"edge2\" class=\"edge\">\n",
       "<title>b0-&gt;b2</title>\n",
       "<path fill=\"none\" stroke=\"black\" d=\"M1413.99,-88.83C1330.23,-83.23 1236.27,-76.42 1150.5,-69 1044.35,-59.81 925.14,-47.32 832.44,-37.12\"/>\n",
       "<polygon fill=\"black\" stroke=\"black\" points=\"832.74,-33.63 822.42,-36.01 831.98,-40.58 832.74,-33.63\"/>\n",
       "<text text-anchor=\"middle\" x=\"1154\" y=\"-57.8\" font-family=\"Times,serif\" font-size=\"14.00\">1</text>\n",
       "</g>\n",
       "<!-- b3 -->\n",
       "<g id=\"node4\" class=\"node\">\n",
       "<title>b3</title>\n",
       "<polygon fill=\"none\" stroke=\"black\" points=\"1035,-36 910,-36 910,0 1035,0 1035,-36\"/>\n",
       "<text text-anchor=\"start\" x=\"960\" y=\"-19.8\" font-family=\"Times,serif\" font-size=\"14.00\">Free</text>\n",
       "<text text-anchor=\"start\" x=\"918\" y=\"-9\" font-family=\"monospace\" font-size=\"10.00\">dtype=QAny(bit ...</text>\n",
       "</g>\n",
       "<!-- b0&#45;&gt;b3 -->\n",
       "<g id=\"edge3\" class=\"edge\">\n",
       "<title>b0-&gt;b3</title>\n",
       "<path fill=\"none\" stroke=\"black\" d=\"M1446.71,-87C1330.14,-76.17 1183.69,-59.94 1045.1,-36.17\"/>\n",
       "<polygon fill=\"black\" stroke=\"black\" points=\"1045.58,-32.7 1035.13,-34.45 1044.39,-39.6 1045.58,-32.7\"/>\n",
       "<text text-anchor=\"middle\" x=\"1268\" y=\"-57.8\" font-family=\"Times,serif\" font-size=\"14.00\">1</text>\n",
       "</g>\n",
       "<!-- b4 -->\n",
       "<g id=\"node5\" class=\"node\">\n",
       "<title>b4</title>\n",
       "<polygon fill=\"none\" stroke=\"black\" points=\"1490,-36 1053,-36 1053,0 1490,0 1490,-36\"/>\n",
       "<text text-anchor=\"start\" x=\"1243\" y=\"-19.8\" font-family=\"Times,serif\" font-size=\"14.00\">In_mu-R†</text>\n",
       "<text text-anchor=\"start\" x=\"1061\" y=\"-9\" font-family=\"monospace\" font-size=\"10.00\">num_mu=10, num_spin_orb=8, num_bits_theta=12, kr1=1, [3 addtl fields].</text>\n",
       "</g>\n",
       "<!-- b0&#45;&gt;b4 -->\n",
       "<g id=\"edge4\" class=\"edge\">\n",
       "<title>b0-&gt;b4</title>\n",
       "<path fill=\"none\" stroke=\"black\" d=\"M1583.85,-86.9C1519.15,-72.84 1427.49,-52.91 1360.19,-38.28\"/>\n",
       "<polygon fill=\"black\" stroke=\"black\" points=\"1360.54,-34.78 1350.03,-36.07 1359.06,-41.62 1360.54,-34.78\"/>\n",
       "<text text-anchor=\"middle\" x=\"1494\" y=\"-57.8\" font-family=\"Times,serif\" font-size=\"14.00\">1</text>\n",
       "</g>\n",
       "<!-- b5 -->\n",
       "<g id=\"node6\" class=\"node\">\n",
       "<title>b5</title>\n",
       "<polygon fill=\"none\" stroke=\"black\" points=\"1579,-36 1508,-36 1508,0 1579,0 1579,-36\"/>\n",
       "<text text-anchor=\"start\" x=\"1523.5\" y=\"-19.8\" font-family=\"Times,serif\" font-size=\"14.00\">CSwap</text>\n",
       "<text text-anchor=\"start\" x=\"1516\" y=\"-9\" font-family=\"monospace\" font-size=\"10.00\">bitsize=1</text>\n",
       "</g>\n",
       "<!-- b0&#45;&gt;b5 -->\n",
       "<g id=\"edge5\" class=\"edge\">\n",
       "<title>b0-&gt;b5</title>\n",
       "<path fill=\"none\" stroke=\"black\" d=\"M1638.42,-86.8C1620.43,-73.95 1595.66,-56.26 1575.93,-42.17\"/>\n",
       "<polygon fill=\"black\" stroke=\"black\" points=\"1577.72,-39.14 1567.55,-36.18 1573.65,-44.84 1577.72,-39.14\"/>\n",
       "<text text-anchor=\"middle\" x=\"1614\" y=\"-57.8\" font-family=\"Times,serif\" font-size=\"14.00\">1</text>\n",
       "</g>\n",
       "<!-- b6 -->\n",
       "<g id=\"node7\" class=\"node\">\n",
       "<title>b6</title>\n",
       "<polygon fill=\"none\" stroke=\"black\" points=\"1728,-36 1597,-36 1597,0 1728,0 1728,-36\"/>\n",
       "<text text-anchor=\"start\" x=\"1609.5\" y=\"-19.8\" font-family=\"Times,serif\" font-size=\"14.00\">ApplyControlledZs</text>\n",
       "<text text-anchor=\"start\" x=\"1605\" y=\"-9\" font-family=\"monospace\" font-size=\"10.00\">cvs=(1,), bitsize=4</text>\n",
       "</g>\n",
       "<!-- b0&#45;&gt;b6 -->\n",
       "<g id=\"edge6\" class=\"edge\">\n",
       "<title>b0-&gt;b6</title>\n",
       "<path fill=\"none\" stroke=\"black\" d=\"M1662.5,-86.8C1662.5,-75.16 1662.5,-59.55 1662.5,-46.24\"/>\n",
       "<polygon fill=\"black\" stroke=\"black\" points=\"1666,-46.18 1662.5,-36.18 1659,-46.18 1666,-46.18\"/>\n",
       "<text text-anchor=\"middle\" x=\"1666\" y=\"-57.8\" font-family=\"Times,serif\" font-size=\"14.00\">1</text>\n",
       "</g>\n",
       "<!-- b7 -->\n",
       "<g id=\"node8\" class=\"node\">\n",
       "<title>b7</title>\n",
       "<polygon fill=\"none\" stroke=\"black\" points=\"1800.5,-36 1746.5,-36 1746.5,0 1800.5,0 1800.5,-36\"/>\n",
       "<text text-anchor=\"start\" x=\"1755.5\" y=\"-14.3\" font-family=\"Times,serif\" font-size=\"14.00\">XGate</text>\n",
       "</g>\n",
       "<!-- b0&#45;&gt;b7 -->\n",
       "<g id=\"edge7\" class=\"edge\">\n",
       "<title>b0-&gt;b7</title>\n",
       "<path fill=\"none\" stroke=\"black\" d=\"M1684.96,-86.8C1701.66,-74.01 1724.64,-56.42 1743,-42.36\"/>\n",
       "<polygon fill=\"black\" stroke=\"black\" points=\"1745.26,-45.03 1751.07,-36.18 1741,-39.48 1745.26,-45.03\"/>\n",
       "<text text-anchor=\"middle\" x=\"1729\" y=\"-57.8\" font-family=\"Times,serif\" font-size=\"14.00\">1</text>\n",
       "</g>\n",
       "<!-- b8 -->\n",
       "<g id=\"node9\" class=\"node\">\n",
       "<title>b8</title>\n",
       "<polygon fill=\"none\" stroke=\"black\" points=\"1890,-36 1819,-36 1819,0 1890,0 1890,-36\"/>\n",
       "<text text-anchor=\"start\" x=\"1834.5\" y=\"-19.8\" font-family=\"Times,serif\" font-size=\"14.00\">CSwap</text>\n",
       "<text text-anchor=\"start\" x=\"1827\" y=\"-9\" font-family=\"monospace\" font-size=\"10.00\">bitsize=4</text>\n",
       "</g>\n",
       "<!-- b0&#45;&gt;b8 -->\n",
       "<g id=\"edge8\" class=\"edge\">\n",
       "<title>b0-&gt;b8</title>\n",
       "<path fill=\"none\" stroke=\"black\" d=\"M1701.35,-86.8C1732.67,-72.94 1776.74,-53.42 1809.57,-38.89\"/>\n",
       "<polygon fill=\"black\" stroke=\"black\" points=\"1811.21,-41.99 1818.94,-34.74 1808.38,-35.59 1811.21,-41.99\"/>\n",
       "<text text-anchor=\"middle\" x=\"1774\" y=\"-57.8\" font-family=\"Times,serif\" font-size=\"14.00\">5</text>\n",
       "</g>\n",
       "<!-- b9 -->\n",
       "<g id=\"node10\" class=\"node\">\n",
       "<title>b9</title>\n",
       "<polygon fill=\"none\" stroke=\"black\" points=\"2051,-36 1908,-36 1908,0 2051,0 2051,-36\"/>\n",
       "<text text-anchor=\"start\" x=\"1926.5\" y=\"-19.8\" font-family=\"Times,serif\" font-size=\"14.00\">ApplyControlledZs</text>\n",
       "<text text-anchor=\"start\" x=\"1916\" y=\"-9\" font-family=\"monospace\" font-size=\"10.00\">cvs=(1, 0), bitsize=4</text>\n",
       "</g>\n",
       "<!-- b0&#45;&gt;b9 -->\n",
       "<g id=\"edge9\" class=\"edge\">\n",
       "<title>b0-&gt;b9</title>\n",
       "<path fill=\"none\" stroke=\"black\" d=\"M1726.27,-86.9C1778.18,-72.98 1851.51,-53.32 1905.91,-38.73\"/>\n",
       "<polygon fill=\"black\" stroke=\"black\" points=\"1907.08,-42.04 1915.83,-36.07 1905.27,-35.28 1907.08,-42.04\"/>\n",
       "<text text-anchor=\"middle\" x=\"1844\" y=\"-57.8\" font-family=\"Times,serif\" font-size=\"14.00\">1</text>\n",
       "</g>\n",
       "<!-- b10 -->\n",
       "<g id=\"node11\" class=\"node\">\n",
       "<title>b10</title>\n",
       "<polygon fill=\"none\" stroke=\"black\" points=\"2506,-36 2069,-36 2069,0 2506,0 2506,-36\"/>\n",
       "<text text-anchor=\"start\" x=\"2259\" y=\"-19.8\" font-family=\"Times,serif\" font-size=\"14.00\">In_mu-R†</text>\n",
       "<text text-anchor=\"start\" x=\"2077\" y=\"-9\" font-family=\"monospace\" font-size=\"10.00\">num_mu=10, num_spin_orb=8, num_bits_theta=12, kr1=1, [3 addtl fields].</text>\n",
       "</g>\n",
       "<!-- b0&#45;&gt;b10 -->\n",
       "<g id=\"edge10\" class=\"edge\">\n",
       "<title>b0-&gt;b10</title>\n",
       "<path fill=\"none\" stroke=\"black\" d=\"M1787.85,-86.95C1893.42,-72.59 2044.1,-52.1 2152.35,-37.38\"/>\n",
       "<polygon fill=\"black\" stroke=\"black\" points=\"2152.92,-40.84 2162.36,-36.02 2151.98,-33.9 2152.92,-40.84\"/>\n",
       "<text text-anchor=\"middle\" x=\"2016\" y=\"-57.8\" font-family=\"Times,serif\" font-size=\"14.00\">1</text>\n",
       "</g>\n",
       "<!-- b11 -->\n",
       "<g id=\"node12\" class=\"node\">\n",
       "<title>b11</title>\n",
       "<polygon fill=\"none\" stroke=\"black\" points=\"2649,-36 2524,-36 2524,0 2649,0 2649,-36\"/>\n",
       "<text text-anchor=\"start\" x=\"2563.5\" y=\"-19.8\" font-family=\"Times,serif\" font-size=\"14.00\">Allocate</text>\n",
       "<text text-anchor=\"start\" x=\"2532\" y=\"-9\" font-family=\"monospace\" font-size=\"10.00\">dtype=QAny(bit ...</text>\n",
       "</g>\n",
       "<!-- b0&#45;&gt;b11 -->\n",
       "<g id=\"edge11\" class=\"edge\">\n",
       "<title>b0-&gt;b11</title>\n",
       "<path fill=\"none\" stroke=\"black\" d=\"M1911.13,-94.15C2079.02,-85.09 2305.55,-68.22 2513.88,-35.95\"/>\n",
       "<polygon fill=\"black\" stroke=\"black\" points=\"2514.44,-39.4 2523.78,-34.4 2513.36,-32.49 2514.44,-39.4\"/>\n",
       "<text text-anchor=\"middle\" x=\"2380\" y=\"-57.8\" font-family=\"Times,serif\" font-size=\"14.00\">1</text>\n",
       "</g>\n",
       "</g>\n",
       "</svg>"
      ],
      "text/plain": [
       "<IPython.core.display.SVG object>"
      ]
     },
     "metadata": {},
     "output_type": "display_data"
    },
    {
     "data": {
      "text/markdown": [
       "#### Counts totals:\n",
       " - `Allocate(dtype=QAny(bitsize=12))`: 1\n",
       " - `ApplyControlledZs(cvs=(1, 0), bitsize=4)`: 1\n",
       " - `ApplyControlledZs(cvs=(1,), bitsize=4)`: 1\n",
       " - `CSwap(bitsize=1)`: 1\n",
       " - `CSwap(bitsize=4)`: 5\n",
       " - `Free(dtype=QAny(bitsize=12))`: 1\n",
       " - `THCRotations(num_mu=10, num_spin_orb=8, num_bits_theta=12, kr1=1, kr2=1, two_body_only=False, adjoint=False)`: 1\n",
       " - `THCRotations(num_mu=10, num_spin_orb=8, num_bits_theta=12, kr1=1, kr2=1, two_body_only=False, adjoint=True)`: 1\n",
       " - `THCRotations(num_mu=10, num_spin_orb=8, num_bits_theta=12, kr1=1, kr2=1, two_body_only=True, adjoint=False)`: 1\n",
       " - `THCRotations(num_mu=10, num_spin_orb=8, num_bits_theta=12, kr1=1, kr2=1, two_body_only=True, adjoint=True)`: 1\n",
       " - `XGate()`: 1"
      ],
      "text/plain": [
       "<IPython.core.display.Markdown object>"
      ]
     },
     "metadata": {},
     "output_type": "display_data"
    }
   ],
   "source": [
    "from qualtran.resource_counting.generalizers import ignore_split_join\n",
    "thc_sel_g, thc_sel_sigma = thc_sel.call_graph(max_depth=1, generalizer=ignore_split_join)\n",
    "show_call_graph(thc_sel_g)\n",
    "show_counts_sigma(thc_sel_sigma)"
   ]
  }
 ],
 "metadata": {
  "kernelspec": {
   "display_name": "Python 3",
   "language": "python",
   "name": "python3"
  },
  "language_info": {
   "codemirror_mode": {
    "name": "ipython",
    "version": 3
   },
   "file_extension": ".py",
   "mimetype": "text/x-python",
   "name": "python",
   "nbconvert_exporter": "python",
   "pygments_lexer": "ipython3",
   "version": "3.11.8"
  },
  "widgets": {
   "application/vnd.jupyter.widget-state+json": {
    "state": {
     "00458394e73840c9876701aa76eacef6": {
      "model_module": "@jupyter-widgets/output",
      "model_module_version": "1.0.0",
      "model_name": "OutputModel",
      "state": {
       "_dom_classes": [],
       "_model_module": "@jupyter-widgets/output",
       "_model_module_version": "1.0.0",
       "_model_name": "OutputModel",
       "_view_count": null,
       "_view_module": "@jupyter-widgets/output",
       "_view_module_version": "1.0.0",
       "_view_name": "OutputView",
       "layout": "IPY_MODEL_72ac76bf059841eb96255edc2e24e687",
       "msg_id": "",
       "outputs": [
        {
         "data": {
          "text/markdown": "`thc_sel`",
          "text/plain": "<IPython.core.display.Markdown object>"
         },
         "metadata": {},
         "output_type": "display_data"
        },
        {
         "data": {
          "image/svg+xml": "<svg xmlns=\"http://www.w3.org/2000/svg\" xmlns:xlink=\"http://www.w3.org/1999/xlink\" width=\"315pt\" height=\"584pt\" viewBox=\"0.00 0.00 315.00 584.00\">\n<g id=\"graph0\" class=\"graph\" transform=\"scale(1 1) rotate(0) translate(4 580)\">\n<title>my_graph</title>\n<polygon fill=\"white\" stroke=\"transparent\" points=\"-4,4 -4,-580 311,-580 311,4 -4,4\"/>\n<!-- succ_G11 -->\n<g id=\"node1\" class=\"node\">\n<title>succ_G11</title>\n<text text-anchor=\"middle\" x=\"40.5\" y=\"-554.3\" font-family=\"Times,serif\" font-size=\"14.00\">succ</text>\n</g>\n<!-- SelectTHC -->\n<g id=\"node12\" class=\"node\">\n<title>SelectTHC</title>\n<polygon fill=\"none\" stroke=\"black\" points=\"118.5,-404 118.5,-421 189.5,-421 189.5,-404 118.5,-404\"/>\n<text text-anchor=\"start\" x=\"131\" y=\"-410\" font-family=\"Times,serif\" font-size=\"10.00\">SelectTHC</text>\n<polygon fill=\"none\" stroke=\"black\" points=\"118.5,-383 118.5,-404 189.5,-404 189.5,-383 118.5,-383\"/>\n<text text-anchor=\"start\" x=\"141.5\" y=\"-389.8\" font-family=\"Times,serif\" font-size=\"14.00\">succ</text>\n<polygon fill=\"none\" stroke=\"black\" points=\"118.5,-362 118.5,-383 189.5,-383 189.5,-362 118.5,-362\"/>\n<text text-anchor=\"start\" x=\"121.5\" y=\"-368.8\" font-family=\"Times,serif\" font-size=\"14.00\">nu_eq_mp1</text>\n<polygon fill=\"none\" stroke=\"black\" points=\"118.5,-341 118.5,-362 189.5,-362 189.5,-341 118.5,-341\"/>\n<text text-anchor=\"start\" x=\"144.5\" y=\"-347.8\" font-family=\"Times,serif\" font-size=\"14.00\">mu</text>\n<polygon fill=\"none\" stroke=\"black\" points=\"118.5,-320 118.5,-341 189.5,-341 189.5,-320 118.5,-320\"/>\n<text text-anchor=\"start\" x=\"147\" y=\"-326.8\" font-family=\"Times,serif\" font-size=\"14.00\">nu</text>\n<polygon fill=\"none\" stroke=\"black\" points=\"118.5,-299 118.5,-320 189.5,-320 189.5,-299 118.5,-299\"/>\n<text text-anchor=\"start\" x=\"130\" y=\"-305.8\" font-family=\"Times,serif\" font-size=\"14.00\">plus_mn</text>\n<polygon fill=\"none\" stroke=\"black\" points=\"118.5,-278 118.5,-299 189.5,-299 189.5,-278 118.5,-278\"/>\n<text text-anchor=\"start\" x=\"136\" y=\"-284.8\" font-family=\"Times,serif\" font-size=\"14.00\">plus_a</text>\n<polygon fill=\"none\" stroke=\"black\" points=\"118.5,-257 118.5,-278 189.5,-278 189.5,-257 118.5,-257\"/>\n<text text-anchor=\"start\" x=\"135.5\" y=\"-263.8\" font-family=\"Times,serif\" font-size=\"14.00\">plus_b</text>\n<polygon fill=\"none\" stroke=\"black\" points=\"118.5,-236 118.5,-257 189.5,-257 189.5,-236 118.5,-236\"/>\n<text text-anchor=\"start\" x=\"137\" y=\"-242.8\" font-family=\"Times,serif\" font-size=\"14.00\">sigma</text>\n<polygon fill=\"none\" stroke=\"black\" points=\"118.5,-215 118.5,-236 189.5,-236 189.5,-215 118.5,-215\"/>\n<text text-anchor=\"start\" x=\"146\" y=\"-221.8\" font-family=\"Times,serif\" font-size=\"14.00\">rot</text>\n<polygon fill=\"none\" stroke=\"black\" points=\"118.5,-194 118.5,-215 189.5,-215 189.5,-194 118.5,-194\"/>\n<text text-anchor=\"start\" x=\"138.5\" y=\"-200.8\" font-family=\"Times,serif\" font-size=\"14.00\">sys_a</text>\n<polygon fill=\"none\" stroke=\"black\" points=\"118.5,-173 118.5,-194 189.5,-194 189.5,-173 118.5,-173\"/>\n<text text-anchor=\"start\" x=\"138.5\" y=\"-179.8\" font-family=\"Times,serif\" font-size=\"14.00\">sys_b</text>\n</g>\n<!-- succ_G11&#45;&gt;SelectTHC -->\n<g id=\"edge1\" class=\"edge\">\n<title>succ_G11:e-&gt;SelectTHC:w</title>\n<path fill=\"none\" stroke=\"black\" d=\"M68.5,-558C81.72,-558 76.48,-543.43 81,-531 83.53,-524.05 106.91,-409.72 116.31,-395.46\"/>\n<ellipse fill=\"black\" stroke=\"black\" cx=\"117.24\" cy=\"-394.65\" rx=\"1\" ry=\"1\"/>\n<text text-anchor=\"middle\" x=\"99.5\" y=\"-454\" font-family=\"Times,serif\" font-size=\"10.00\">1</text>\n</g>\n<!-- nu_eq_mp1_G30 -->\n<g id=\"node2\" class=\"node\">\n<title>nu_eq_mp1_G30</title>\n<text text-anchor=\"middle\" x=\"40.5\" y=\"-500.3\" font-family=\"Times,serif\" font-size=\"14.00\">nu_eq_mp1</text>\n</g>\n<!-- nu_eq_mp1_G30&#45;&gt;SelectTHC -->\n<g id=\"edge2\" class=\"edge\">\n<title>nu_eq_mp1_G30:e-&gt;SelectTHC:w</title>\n<path fill=\"none\" stroke=\"black\" d=\"M81,-504C140.79,-504 59.45,-376.05 115.93,-373.05\"/>\n<ellipse fill=\"black\" stroke=\"black\" cx=\"117\" cy=\"-373.03\" rx=\"1\" ry=\"1\"/>\n<text text-anchor=\"middle\" x=\"99.5\" y=\"-441\" font-family=\"Times,serif\" font-size=\"10.00\">1</text>\n</g>\n<!-- mu_G19 -->\n<g id=\"node3\" class=\"node\">\n<title>mu_G19</title>\n<text text-anchor=\"middle\" x=\"40.5\" y=\"-446.3\" font-family=\"Times,serif\" font-size=\"14.00\">mu</text>\n</g>\n<!-- mu_G19&#45;&gt;SelectTHC -->\n<g id=\"edge3\" class=\"edge\">\n<title>mu_G19:e-&gt;SelectTHC:w</title>\n<path fill=\"none\" stroke=\"black\" d=\"M68.5,-450C116.53,-450 70.68,-355.04 115.78,-352.07\"/>\n<ellipse fill=\"black\" stroke=\"black\" cx=\"117\" cy=\"-352.03\" rx=\"1\" ry=\"1\"/>\n<text text-anchor=\"middle\" x=\"99.5\" y=\"-363\" font-family=\"Times,serif\" font-size=\"10.00\">4</text>\n</g>\n<!-- nu_G26 -->\n<g id=\"node4\" class=\"node\">\n<title>nu_G26</title>\n<text text-anchor=\"middle\" x=\"40.5\" y=\"-392.3\" font-family=\"Times,serif\" font-size=\"14.00\">nu</text>\n</g>\n<!-- nu_G26&#45;&gt;SelectTHC -->\n<g id=\"edge4\" class=\"edge\">\n<title>nu_G26:e-&gt;SelectTHC:w</title>\n<path fill=\"none\" stroke=\"black\" d=\"M68.5,-396C104.1,-396 82.57,-333.51 115.94,-331.07\"/>\n<ellipse fill=\"black\" stroke=\"black\" cx=\"117\" cy=\"-331.04\" rx=\"1\" ry=\"1\"/>\n<text text-anchor=\"middle\" x=\"99.5\" y=\"-344\" font-family=\"Times,serif\" font-size=\"10.00\">4</text>\n</g>\n<!-- plus_mn_G7 -->\n<g id=\"node5\" class=\"node\">\n<title>plus_mn_G7</title>\n<text text-anchor=\"middle\" x=\"40.5\" y=\"-338.3\" font-family=\"Times,serif\" font-size=\"14.00\">plus_mn</text>\n</g>\n<!-- plus_mn_G7&#45;&gt;SelectTHC -->\n<g id=\"edge5\" class=\"edge\">\n<title>plus_mn_G7:e-&gt;SelectTHC:w</title>\n<path fill=\"none\" stroke=\"black\" d=\"M73.5,-342C97.1,-342 93.88,-311.97 115.8,-310.09\"/>\n<ellipse fill=\"black\" stroke=\"black\" cx=\"117\" cy=\"-310.04\" rx=\"1\" ry=\"1\"/>\n<text text-anchor=\"middle\" x=\"99.5\" y=\"-323\" font-family=\"Times,serif\" font-size=\"10.00\">1</text>\n</g>\n<!-- plus_a_G1 -->\n<g id=\"node6\" class=\"node\">\n<title>plus_a_G1</title>\n<text text-anchor=\"middle\" x=\"40.5\" y=\"-284.3\" font-family=\"Times,serif\" font-size=\"14.00\">plus_a</text>\n</g>\n<!-- plus_a_G1&#45;&gt;SelectTHC -->\n<g id=\"edge6\" class=\"edge\">\n<title>plus_a_G1:e-&gt;SelectTHC:w</title>\n<path fill=\"none\" stroke=\"black\" d=\"M68.5,-288C89.81,-288 95.64,-288 115.98,-288\"/>\n<ellipse fill=\"black\" stroke=\"black\" cx=\"117\" cy=\"-288\" rx=\"1\" ry=\"1\"/>\n<text text-anchor=\"middle\" x=\"99.5\" y=\"-291\" font-family=\"Times,serif\" font-size=\"10.00\">1</text>\n</g>\n<!-- plus_b_G15 -->\n<g id=\"node7\" class=\"node\">\n<title>plus_b_G15</title>\n<text text-anchor=\"middle\" x=\"40.5\" y=\"-230.3\" font-family=\"Times,serif\" font-size=\"14.00\">plus_b</text>\n</g>\n<!-- plus_b_G15&#45;&gt;SelectTHC -->\n<g id=\"edge7\" class=\"edge\">\n<title>plus_b_G15:e-&gt;SelectTHC:w</title>\n<path fill=\"none\" stroke=\"black\" d=\"M68.5,-234C94.22,-234 91.72,-265.22 115.9,-266.93\"/>\n<ellipse fill=\"black\" stroke=\"black\" cx=\"117\" cy=\"-266.97\" rx=\"1\" ry=\"1\"/>\n<text text-anchor=\"middle\" x=\"99.5\" y=\"-262\" font-family=\"Times,serif\" font-size=\"10.00\">1</text>\n</g>\n<!-- sigma_G6 -->\n<g id=\"node8\" class=\"node\">\n<title>sigma_G6</title>\n<text text-anchor=\"middle\" x=\"40.5\" y=\"-176.3\" font-family=\"Times,serif\" font-size=\"14.00\">sigma</text>\n</g>\n<!-- sigma_G6&#45;&gt;SelectTHC -->\n<g id=\"edge8\" class=\"edge\">\n<title>sigma_G6:e-&gt;SelectTHC:w</title>\n<path fill=\"none\" stroke=\"black\" d=\"M68.5,-180C104.45,-180 82.24,-243.45 115.92,-245.93\"/>\n<ellipse fill=\"black\" stroke=\"black\" cx=\"117\" cy=\"-245.96\" rx=\"1\" ry=\"1\"/>\n<text text-anchor=\"middle\" x=\"99.5\" y=\"-237\" font-family=\"Times,serif\" font-size=\"10.00\">10</text>\n</g>\n<!-- rot_G9 -->\n<g id=\"node9\" class=\"node\">\n<title>rot_G9</title>\n<text text-anchor=\"middle\" x=\"40.5\" y=\"-122.3\" font-family=\"Times,serif\" font-size=\"14.00\">rot</text>\n</g>\n<!-- rot_G9&#45;&gt;SelectTHC -->\n<g id=\"edge9\" class=\"edge\">\n<title>rot_G9:e-&gt;SelectTHC:w</title>\n<path fill=\"none\" stroke=\"black\" d=\"M68.5,-126C116.92,-126 70.31,-221.93 115.77,-224.93\"/>\n<ellipse fill=\"black\" stroke=\"black\" cx=\"117\" cy=\"-224.97\" rx=\"1\" ry=\"1\"/>\n<text text-anchor=\"middle\" x=\"99.5\" y=\"-219\" font-family=\"Times,serif\" font-size=\"10.00\">1</text>\n</g>\n<!-- sys_a_G29 -->\n<g id=\"node10\" class=\"node\">\n<title>sys_a_G29</title>\n<text text-anchor=\"middle\" x=\"40.5\" y=\"-68.3\" font-family=\"Times,serif\" font-size=\"14.00\">sys_a</text>\n</g>\n<!-- sys_a_G29&#45;&gt;SelectTHC -->\n<g id=\"edge10\" class=\"edge\">\n<title>sys_a_G29:e-&gt;SelectTHC:w</title>\n<path fill=\"none\" stroke=\"black\" d=\"M68.5,-72C130.42,-72 57.1,-200.92 115.85,-203.95\"/>\n<ellipse fill=\"black\" stroke=\"black\" cx=\"117\" cy=\"-203.97\" rx=\"1\" ry=\"1\"/>\n<text text-anchor=\"middle\" x=\"99.5\" y=\"-199\" font-family=\"Times,serif\" font-size=\"10.00\">4</text>\n</g>\n<!-- sys_b_G17 -->\n<g id=\"node11\" class=\"node\">\n<title>sys_b_G17</title>\n<text text-anchor=\"middle\" x=\"40.5\" y=\"-14.3\" font-family=\"Times,serif\" font-size=\"14.00\">sys_b</text>\n</g>\n<!-- sys_b_G17&#45;&gt;SelectTHC -->\n<g id=\"edge11\" class=\"edge\">\n<title>sys_b_G17:e-&gt;SelectTHC:w</title>\n<path fill=\"none\" stroke=\"black\" d=\"M68.5,-18C144.31,-18 43.44,-179.79 115.81,-182.95\"/>\n<ellipse fill=\"black\" stroke=\"black\" cx=\"117\" cy=\"-182.98\" rx=\"1\" ry=\"1\"/>\n<text text-anchor=\"middle\" x=\"99.5\" y=\"-180\" font-family=\"Times,serif\" font-size=\"10.00\">4</text>\n</g>\n<!-- succ_G10 -->\n<g id=\"node13\" class=\"node\">\n<title>succ_G10</title>\n<text text-anchor=\"middle\" x=\"266.5\" y=\"-554.3\" font-family=\"Times,serif\" font-size=\"14.00\">succ</text>\n</g>\n<!-- SelectTHC&#45;&gt;succ_G10 -->\n<g id=\"edge12\" class=\"edge\">\n<title>SelectTHC:e-&gt;succ_G10:w</title>\n<path fill=\"none\" stroke=\"black\" d=\"M189,-394C196.88,-394 223.31,-523.59 226,-531 230.27,-542.75 225.82,-556.41 236.49,-557.87\"/>\n<ellipse fill=\"black\" stroke=\"black\" cx=\"237.5\" cy=\"-557.94\" rx=\"1\" ry=\"1\"/>\n<text text-anchor=\"middle\" x=\"207.5\" y=\"-454\" font-family=\"Times,serif\" font-size=\"10.00\">1</text>\n</g>\n<!-- nu_eq_mp1_G32 -->\n<g id=\"node14\" class=\"node\">\n<title>nu_eq_mp1_G32</title>\n<text text-anchor=\"middle\" x=\"266.5\" y=\"-500.3\" font-family=\"Times,serif\" font-size=\"14.00\">nu_eq_mp1</text>\n</g>\n<!-- SelectTHC&#45;&gt;nu_eq_mp1_G32 -->\n<g id=\"edge13\" class=\"edge\">\n<title>SelectTHC:e-&gt;nu_eq_mp1_G32:w</title>\n<path fill=\"none\" stroke=\"black\" d=\"M189,-373C248.79,-373 167.45,-500.95 223.93,-503.95\"/>\n<ellipse fill=\"black\" stroke=\"black\" cx=\"225\" cy=\"-503.97\" rx=\"1\" ry=\"1\"/>\n<text text-anchor=\"middle\" x=\"207.5\" y=\"-441\" font-family=\"Times,serif\" font-size=\"10.00\">1</text>\n</g>\n<!-- mu_G18 -->\n<g id=\"node15\" class=\"node\">\n<title>mu_G18</title>\n<text text-anchor=\"middle\" x=\"266.5\" y=\"-446.3\" font-family=\"Times,serif\" font-size=\"14.00\">mu</text>\n</g>\n<!-- SelectTHC&#45;&gt;mu_G18 -->\n<g id=\"edge14\" class=\"edge\">\n<title>SelectTHC:e-&gt;mu_G18:w</title>\n<path fill=\"none\" stroke=\"black\" d=\"M189,-352C237.03,-352 191.18,-446.96 236.28,-449.93\"/>\n<ellipse fill=\"black\" stroke=\"black\" cx=\"237.5\" cy=\"-449.97\" rx=\"1\" ry=\"1\"/>\n<text text-anchor=\"middle\" x=\"207.5\" y=\"-363\" font-family=\"Times,serif\" font-size=\"10.00\">4</text>\n</g>\n<!-- nu_G27 -->\n<g id=\"node16\" class=\"node\">\n<title>nu_G27</title>\n<text text-anchor=\"middle\" x=\"266.5\" y=\"-392.3\" font-family=\"Times,serif\" font-size=\"14.00\">nu</text>\n</g>\n<!-- SelectTHC&#45;&gt;nu_G27 -->\n<g id=\"edge15\" class=\"edge\">\n<title>SelectTHC:e-&gt;nu_G27:w</title>\n<path fill=\"none\" stroke=\"black\" d=\"M189,-331C224.6,-331 203.07,-393.49 236.44,-395.93\"/>\n<ellipse fill=\"black\" stroke=\"black\" cx=\"237.5\" cy=\"-395.96\" rx=\"1\" ry=\"1\"/>\n<text text-anchor=\"middle\" x=\"207.5\" y=\"-344\" font-family=\"Times,serif\" font-size=\"10.00\">4</text>\n</g>\n<!-- plus_mn_G3 -->\n<g id=\"node17\" class=\"node\">\n<title>plus_mn_G3</title>\n<text text-anchor=\"middle\" x=\"266.5\" y=\"-338.3\" font-family=\"Times,serif\" font-size=\"14.00\">plus_mn</text>\n</g>\n<!-- SelectTHC&#45;&gt;plus_mn_G3 -->\n<g id=\"edge16\" class=\"edge\">\n<title>SelectTHC:e-&gt;plus_mn_G3:w</title>\n<path fill=\"none\" stroke=\"black\" d=\"M189,-310C212.6,-310 209.38,-340.03 231.3,-341.91\"/>\n<ellipse fill=\"black\" stroke=\"black\" cx=\"232.5\" cy=\"-341.96\" rx=\"1\" ry=\"1\"/>\n<text text-anchor=\"middle\" x=\"207.5\" y=\"-323\" font-family=\"Times,serif\" font-size=\"10.00\">1</text>\n</g>\n<!-- plus_a_G0 -->\n<g id=\"node18\" class=\"node\">\n<title>plus_a_G0</title>\n<text text-anchor=\"middle\" x=\"266.5\" y=\"-284.3\" font-family=\"Times,serif\" font-size=\"14.00\">plus_a</text>\n</g>\n<!-- SelectTHC&#45;&gt;plus_a_G0 -->\n<g id=\"edge17\" class=\"edge\">\n<title>SelectTHC:e-&gt;plus_a_G0:w</title>\n<path fill=\"none\" stroke=\"black\" d=\"M189,-288C210.31,-288 216.14,-288 236.48,-288\"/>\n<ellipse fill=\"black\" stroke=\"black\" cx=\"237.5\" cy=\"-288\" rx=\"1\" ry=\"1\"/>\n<text text-anchor=\"middle\" x=\"207.5\" y=\"-291\" font-family=\"Times,serif\" font-size=\"10.00\">1</text>\n</g>\n<!-- plus_b_G20 -->\n<g id=\"node19\" class=\"node\">\n<title>plus_b_G20</title>\n<text text-anchor=\"middle\" x=\"266.5\" y=\"-230.3\" font-family=\"Times,serif\" font-size=\"14.00\">plus_b</text>\n</g>\n<!-- SelectTHC&#45;&gt;plus_b_G20 -->\n<g id=\"edge18\" class=\"edge\">\n<title>SelectTHC:e-&gt;plus_b_G20:w</title>\n<path fill=\"none\" stroke=\"black\" d=\"M189,-267C214.72,-267 212.22,-235.78 236.4,-234.07\"/>\n<ellipse fill=\"black\" stroke=\"black\" cx=\"237.5\" cy=\"-234.03\" rx=\"1\" ry=\"1\"/>\n<text text-anchor=\"middle\" x=\"207.5\" y=\"-262\" font-family=\"Times,serif\" font-size=\"10.00\">1</text>\n</g>\n<!-- sigma_G5 -->\n<g id=\"node20\" class=\"node\">\n<title>sigma_G5</title>\n<text text-anchor=\"middle\" x=\"266.5\" y=\"-176.3\" font-family=\"Times,serif\" font-size=\"14.00\">sigma</text>\n</g>\n<!-- SelectTHC&#45;&gt;sigma_G5 -->\n<g id=\"edge19\" class=\"edge\">\n<title>SelectTHC:e-&gt;sigma_G5:w</title>\n<path fill=\"none\" stroke=\"black\" d=\"M189,-246C224.95,-246 202.74,-182.55 236.42,-180.07\"/>\n<ellipse fill=\"black\" stroke=\"black\" cx=\"237.5\" cy=\"-180.04\" rx=\"1\" ry=\"1\"/>\n<text text-anchor=\"middle\" x=\"207.5\" y=\"-237\" font-family=\"Times,serif\" font-size=\"10.00\">10</text>\n</g>\n<!-- rot_G4 -->\n<g id=\"node21\" class=\"node\">\n<title>rot_G4</title>\n<text text-anchor=\"middle\" x=\"266.5\" y=\"-122.3\" font-family=\"Times,serif\" font-size=\"14.00\">rot</text>\n</g>\n<!-- SelectTHC&#45;&gt;rot_G4 -->\n<g id=\"edge20\" class=\"edge\">\n<title>SelectTHC:e-&gt;rot_G4:w</title>\n<path fill=\"none\" stroke=\"black\" d=\"M189,-225C237.42,-225 190.81,-129.07 236.27,-126.07\"/>\n<ellipse fill=\"black\" stroke=\"black\" cx=\"237.5\" cy=\"-126.03\" rx=\"1\" ry=\"1\"/>\n<text text-anchor=\"middle\" x=\"207.5\" y=\"-219\" font-family=\"Times,serif\" font-size=\"10.00\">1</text>\n</g>\n<!-- sys_a_G28 -->\n<g id=\"node22\" class=\"node\">\n<title>sys_a_G28</title>\n<text text-anchor=\"middle\" x=\"266.5\" y=\"-68.3\" font-family=\"Times,serif\" font-size=\"14.00\">sys_a</text>\n</g>\n<!-- SelectTHC&#45;&gt;sys_a_G28 -->\n<g id=\"edge21\" class=\"edge\">\n<title>SelectTHC:e-&gt;sys_a_G28:w</title>\n<path fill=\"none\" stroke=\"black\" d=\"M189,-204C250.92,-204 177.6,-75.08 236.35,-72.05\"/>\n<ellipse fill=\"black\" stroke=\"black\" cx=\"237.5\" cy=\"-72.03\" rx=\"1\" ry=\"1\"/>\n<text text-anchor=\"middle\" x=\"207.5\" y=\"-199\" font-family=\"Times,serif\" font-size=\"10.00\">4</text>\n</g>\n<!-- sys_b_G21 -->\n<g id=\"node23\" class=\"node\">\n<title>sys_b_G21</title>\n<text text-anchor=\"middle\" x=\"266.5\" y=\"-14.3\" font-family=\"Times,serif\" font-size=\"14.00\">sys_b</text>\n</g>\n<!-- SelectTHC&#45;&gt;sys_b_G21 -->\n<g id=\"edge22\" class=\"edge\">\n<title>SelectTHC:e-&gt;sys_b_G21:w</title>\n<path fill=\"none\" stroke=\"black\" d=\"M189,-183C264.81,-183 163.94,-21.21 236.31,-18.05\"/>\n<ellipse fill=\"black\" stroke=\"black\" cx=\"237.5\" cy=\"-18.02\" rx=\"1\" ry=\"1\"/>\n<text text-anchor=\"middle\" x=\"207.5\" y=\"-180\" font-family=\"Times,serif\" font-size=\"10.00\">4</text>\n</g>\n</g>\n</svg>",
          "text/plain": "<IPython.core.display.SVG object>"
         },
         "metadata": {},
         "output_type": "display_data"
        }
       ],
       "tabbable": null,
       "tooltip": null
      }
     },
     "07aa595acf0a434ca2fabcda9a816b14": {
      "model_module": "@jupyter-widgets/output",
      "model_module_version": "1.0.0",
      "model_name": "OutputModel",
      "state": {
       "_dom_classes": [],
       "_model_module": "@jupyter-widgets/output",
       "_model_module_version": "1.0.0",
       "_model_name": "OutputModel",
       "_view_count": null,
       "_view_module": "@jupyter-widgets/output",
       "_view_module_version": "1.0.0",
       "_view_name": "OutputView",
       "layout": "IPY_MODEL_cb0998ce98a84f9886ae5a2c3b697b3d",
       "msg_id": "",
       "outputs": [
        {
         "data": {
          "text/markdown": "`thc_prep`",
          "text/plain": "<IPython.core.display.Markdown object>"
         },
         "metadata": {},
         "output_type": "display_data"
        },
        {
         "data": {
          "image/svg+xml": "<svg xmlns=\"http://www.w3.org/2000/svg\" xmlns:xlink=\"http://www.w3.org/1999/xlink\" width=\"315pt\" height=\"908pt\" viewBox=\"0.00 0.00 315.00 908.00\">\n<g id=\"graph0\" class=\"graph\" transform=\"scale(1 1) rotate(0) translate(4 904)\">\n<title>my_graph</title>\n<polygon fill=\"white\" stroke=\"transparent\" points=\"-4,4 -4,-904 311,-904 311,4 -4,4\"/>\n<!-- mu_G36 -->\n<g id=\"node1\" class=\"node\">\n<title>mu_G36</title>\n<text text-anchor=\"middle\" x=\"40.5\" y=\"-878.3\" font-family=\"Times,serif\" font-size=\"14.00\">mu</text>\n</g>\n<!-- PrepareTHC -->\n<g id=\"node18\" class=\"node\">\n<title>PrepareTHC</title>\n<polygon fill=\"none\" stroke=\"black\" points=\"118.5,-629 118.5,-646 189.5,-646 189.5,-629 118.5,-629\"/>\n<text text-anchor=\"start\" x=\"128.5\" y=\"-635\" font-family=\"Times,serif\" font-size=\"10.00\">PrepareTHC</text>\n<polygon fill=\"none\" stroke=\"black\" points=\"118.5,-608 118.5,-629 189.5,-629 189.5,-608 118.5,-608\"/>\n<text text-anchor=\"start\" x=\"144.5\" y=\"-614.8\" font-family=\"Times,serif\" font-size=\"14.00\">mu</text>\n<polygon fill=\"none\" stroke=\"black\" points=\"118.5,-587 118.5,-608 189.5,-608 189.5,-587 118.5,-587\"/>\n<text text-anchor=\"start\" x=\"147\" y=\"-593.8\" font-family=\"Times,serif\" font-size=\"14.00\">nu</text>\n<polygon fill=\"none\" stroke=\"black\" points=\"118.5,-566 118.5,-587 189.5,-587 189.5,-566 118.5,-566\"/>\n<text text-anchor=\"start\" x=\"130\" y=\"-572.8\" font-family=\"Times,serif\" font-size=\"14.00\">plus_mn</text>\n<polygon fill=\"none\" stroke=\"black\" points=\"118.5,-545 118.5,-566 189.5,-566 189.5,-545 118.5,-545\"/>\n<text text-anchor=\"start\" x=\"136\" y=\"-551.8\" font-family=\"Times,serif\" font-size=\"14.00\">plus_a</text>\n<polygon fill=\"none\" stroke=\"black\" points=\"118.5,-524 118.5,-545 189.5,-545 189.5,-524 118.5,-524\"/>\n<text text-anchor=\"start\" x=\"135.5\" y=\"-530.8\" font-family=\"Times,serif\" font-size=\"14.00\">plus_b</text>\n<polygon fill=\"none\" stroke=\"black\" points=\"118.5,-503 118.5,-524 189.5,-524 189.5,-503 118.5,-503\"/>\n<text text-anchor=\"start\" x=\"137\" y=\"-509.8\" font-family=\"Times,serif\" font-size=\"14.00\">sigma</text>\n<polygon fill=\"none\" stroke=\"black\" points=\"118.5,-482 118.5,-503 189.5,-503 189.5,-482 118.5,-482\"/>\n<text text-anchor=\"start\" x=\"146\" y=\"-488.8\" font-family=\"Times,serif\" font-size=\"14.00\">rot</text>\n<polygon fill=\"none\" stroke=\"black\" points=\"118.5,-461 118.5,-482 189.5,-482 189.5,-461 118.5,-461\"/>\n<text text-anchor=\"start\" x=\"141.5\" y=\"-467.8\" font-family=\"Times,serif\" font-size=\"14.00\">succ</text>\n<polygon fill=\"none\" stroke=\"black\" points=\"118.5,-440 118.5,-461 189.5,-461 189.5,-440 118.5,-440\"/>\n<text text-anchor=\"start\" x=\"121.5\" y=\"-446.8\" font-family=\"Times,serif\" font-size=\"14.00\">nu_eq_mp1</text>\n<polygon fill=\"none\" stroke=\"black\" points=\"118.5,-419 118.5,-440 189.5,-440 189.5,-419 118.5,-419\"/>\n<text text-anchor=\"start\" x=\"140.5\" y=\"-425.8\" font-family=\"Times,serif\" font-size=\"14.00\">theta</text>\n<polygon fill=\"none\" stroke=\"black\" points=\"118.5,-398 118.5,-419 189.5,-419 189.5,-398 118.5,-398\"/>\n<text text-anchor=\"start\" x=\"151\" y=\"-404.8\" font-family=\"Times,serif\" font-size=\"14.00\">s</text>\n<polygon fill=\"none\" stroke=\"black\" points=\"118.5,-377 118.5,-398 189.5,-398 189.5,-377 118.5,-377\"/>\n<text text-anchor=\"start\" x=\"126.5\" y=\"-383.8\" font-family=\"Times,serif\" font-size=\"14.00\">alt_mn[0]</text>\n<polygon fill=\"none\" stroke=\"black\" points=\"118.5,-356 118.5,-377 189.5,-377 189.5,-356 118.5,-356\"/>\n<text text-anchor=\"start\" x=\"126.5\" y=\"-362.8\" font-family=\"Times,serif\" font-size=\"14.00\">alt_mn[1]</text>\n<polygon fill=\"none\" stroke=\"black\" points=\"118.5,-335 118.5,-356 189.5,-356 189.5,-335 118.5,-335\"/>\n<text text-anchor=\"start\" x=\"130.5\" y=\"-341.8\" font-family=\"Times,serif\" font-size=\"14.00\">alt_theta</text>\n<polygon fill=\"none\" stroke=\"black\" points=\"118.5,-314 118.5,-335 189.5,-335 189.5,-314 118.5,-314\"/>\n<text text-anchor=\"start\" x=\"141\" y=\"-320.8\" font-family=\"Times,serif\" font-size=\"14.00\">keep</text>\n<polygon fill=\"none\" stroke=\"black\" points=\"118.5,-293 118.5,-314 189.5,-314 189.5,-293 118.5,-293\"/>\n<text text-anchor=\"start\" x=\"128.5\" y=\"-299.8\" font-family=\"Times,serif\" font-size=\"14.00\">less_than</text>\n<polygon fill=\"none\" stroke=\"black\" points=\"118.5,-272 118.5,-293 189.5,-293 189.5,-272 118.5,-272\"/>\n<text text-anchor=\"start\" x=\"128\" y=\"-278.8\" font-family=\"Times,serif\" font-size=\"14.00\">extra_ctrl</text>\n</g>\n<!-- mu_G36&#45;&gt;PrepareTHC -->\n<g id=\"edge1\" class=\"edge\">\n<title>mu_G36:e-&gt;PrepareTHC:w</title>\n<path fill=\"none\" stroke=\"black\" d=\"M68.5,-882C81.72,-882 76.65,-867.49 81,-855 92.87,-820.89 93.71,-811.56 100,-776 102.94,-759.39 100.64,-629.73 116.03,-619.62\"/>\n<ellipse fill=\"black\" stroke=\"black\" cx=\"117.05\" cy=\"-619.3\" rx=\"1\" ry=\"1\"/>\n<text text-anchor=\"middle\" x=\"99.5\" y=\"-783\" font-family=\"Times,serif\" font-size=\"10.00\">4</text>\n</g>\n<!-- nu_G17 -->\n<g id=\"node2\" class=\"node\">\n<title>nu_G17</title>\n<text text-anchor=\"middle\" x=\"40.5\" y=\"-824.3\" font-family=\"Times,serif\" font-size=\"14.00\">nu</text>\n</g>\n<!-- nu_G17&#45;&gt;PrepareTHC -->\n<g id=\"edge2\" class=\"edge\">\n<title>nu_G17:e-&gt;PrepareTHC:w</title>\n<path fill=\"none\" stroke=\"black\" d=\"M68.5,-828C98.62,-828 91.26,-796.82 100,-768 105.3,-750.53 99.5,-609.66 115.89,-598.68\"/>\n<ellipse fill=\"black\" stroke=\"black\" cx=\"117.05\" cy=\"-598.31\" rx=\"1\" ry=\"1\"/>\n<text text-anchor=\"middle\" x=\"99.5\" y=\"-774\" font-family=\"Times,serif\" font-size=\"10.00\">4</text>\n</g>\n<!-- plus_mn_G18 -->\n<g id=\"node3\" class=\"node\">\n<title>plus_mn_G18</title>\n<text text-anchor=\"middle\" x=\"40.5\" y=\"-770.3\" font-family=\"Times,serif\" font-size=\"14.00\">plus_mn</text>\n</g>\n<!-- plus_mn_G18&#45;&gt;PrepareTHC -->\n<g id=\"edge3\" class=\"edge\">\n<title>plus_mn_G18:e-&gt;PrepareTHC:w</title>\n<path fill=\"none\" stroke=\"black\" d=\"M73.5,-774C162.56,-774 30.33,-580.07 115.94,-577.04\"/>\n<ellipse fill=\"black\" stroke=\"black\" cx=\"117\" cy=\"-577.02\" rx=\"1\" ry=\"1\"/>\n<text text-anchor=\"middle\" x=\"99.5\" y=\"-766\" font-family=\"Times,serif\" font-size=\"10.00\">1</text>\n</g>\n<!-- plus_a_G3 -->\n<g id=\"node4\" class=\"node\">\n<title>plus_a_G3</title>\n<text text-anchor=\"middle\" x=\"40.5\" y=\"-716.3\" font-family=\"Times,serif\" font-size=\"14.00\">plus_a</text>\n</g>\n<!-- plus_a_G3&#45;&gt;PrepareTHC -->\n<g id=\"edge4\" class=\"edge\">\n<title>plus_a_G3:e-&gt;PrepareTHC:w</title>\n<path fill=\"none\" stroke=\"black\" d=\"M68.5,-720C143.89,-720 43.85,-559.19 115.82,-556.05\"/>\n<ellipse fill=\"black\" stroke=\"black\" cx=\"117\" cy=\"-556.02\" rx=\"1\" ry=\"1\"/>\n<text text-anchor=\"middle\" x=\"99.5\" y=\"-564\" font-family=\"Times,serif\" font-size=\"10.00\">1</text>\n</g>\n<!-- plus_b_G30 -->\n<g id=\"node5\" class=\"node\">\n<title>plus_b_G30</title>\n<text text-anchor=\"middle\" x=\"40.5\" y=\"-662.3\" font-family=\"Times,serif\" font-size=\"14.00\">plus_b</text>\n</g>\n<!-- plus_b_G30&#45;&gt;PrepareTHC -->\n<g id=\"edge5\" class=\"edge\">\n<title>plus_b_G30:e-&gt;PrepareTHC:w</title>\n<path fill=\"none\" stroke=\"black\" d=\"M68.5,-666C130.01,-666 57.5,-538.05 115.87,-535.05\"/>\n<ellipse fill=\"black\" stroke=\"black\" cx=\"117\" cy=\"-535.03\" rx=\"1\" ry=\"1\"/>\n<text text-anchor=\"middle\" x=\"99.5\" y=\"-544\" font-family=\"Times,serif\" font-size=\"10.00\">1</text>\n</g>\n<!-- sigma_G49 -->\n<g id=\"node6\" class=\"node\">\n<title>sigma_G49</title>\n<text text-anchor=\"middle\" x=\"40.5\" y=\"-608.3\" font-family=\"Times,serif\" font-size=\"14.00\">sigma</text>\n</g>\n<!-- sigma_G49&#45;&gt;PrepareTHC -->\n<g id=\"edge6\" class=\"edge\">\n<title>sigma_G49:e-&gt;PrepareTHC:w</title>\n<path fill=\"none\" stroke=\"black\" d=\"M68.5,-612C116.53,-612 70.68,-517.04 115.78,-514.07\"/>\n<ellipse fill=\"black\" stroke=\"black\" cx=\"117\" cy=\"-514.03\" rx=\"1\" ry=\"1\"/>\n<text text-anchor=\"middle\" x=\"99.5\" y=\"-525\" font-family=\"Times,serif\" font-size=\"10.00\">8</text>\n</g>\n<!-- rot_G21 -->\n<g id=\"node7\" class=\"node\">\n<title>rot_G21</title>\n<text text-anchor=\"middle\" x=\"40.5\" y=\"-554.3\" font-family=\"Times,serif\" font-size=\"14.00\">rot</text>\n</g>\n<!-- rot_G21&#45;&gt;PrepareTHC -->\n<g id=\"edge7\" class=\"edge\">\n<title>rot_G21:e-&gt;PrepareTHC:w</title>\n<path fill=\"none\" stroke=\"black\" d=\"M68.5,-558C104.1,-558 82.57,-495.51 115.94,-493.07\"/>\n<ellipse fill=\"black\" stroke=\"black\" cx=\"117\" cy=\"-493.04\" rx=\"1\" ry=\"1\"/>\n<text text-anchor=\"middle\" x=\"99.5\" y=\"-506\" font-family=\"Times,serif\" font-size=\"10.00\">1</text>\n</g>\n<!-- succ_G14 -->\n<g id=\"node8\" class=\"node\">\n<title>succ_G14</title>\n<text text-anchor=\"middle\" x=\"40.5\" y=\"-500.3\" font-family=\"Times,serif\" font-size=\"14.00\">succ</text>\n</g>\n<!-- succ_G14&#45;&gt;PrepareTHC -->\n<g id=\"edge8\" class=\"edge\">\n<title>succ_G14:e-&gt;PrepareTHC:w</title>\n<path fill=\"none\" stroke=\"black\" d=\"M68.5,-504C93.98,-504 91.94,-473.73 115.92,-472.07\"/>\n<ellipse fill=\"black\" stroke=\"black\" cx=\"117\" cy=\"-472.03\" rx=\"1\" ry=\"1\"/>\n<text text-anchor=\"middle\" x=\"99.5\" y=\"-483\" font-family=\"Times,serif\" font-size=\"10.00\">1</text>\n</g>\n<!-- nu_eq_mp1_G48 -->\n<g id=\"node9\" class=\"node\">\n<title>nu_eq_mp1_G48</title>\n<text text-anchor=\"middle\" x=\"40.5\" y=\"-446.3\" font-family=\"Times,serif\" font-size=\"14.00\">nu_eq_mp1</text>\n</g>\n<!-- nu_eq_mp1_G48&#45;&gt;PrepareTHC -->\n<g id=\"edge9\" class=\"edge\">\n<title>nu_eq_mp1_G48:e-&gt;PrepareTHC:w</title>\n<path fill=\"none\" stroke=\"black\" d=\"M81,-450C96.67,-450 101.14,-450 115.77,-450\"/>\n<ellipse fill=\"black\" stroke=\"black\" cx=\"117\" cy=\"-450\" rx=\"1\" ry=\"1\"/>\n<text text-anchor=\"middle\" x=\"99.5\" y=\"-453\" font-family=\"Times,serif\" font-size=\"10.00\">1</text>\n</g>\n<!-- theta_G34 -->\n<g id=\"node10\" class=\"node\">\n<title>theta_G34</title>\n<text text-anchor=\"middle\" x=\"40.5\" y=\"-392.3\" font-family=\"Times,serif\" font-size=\"14.00\">theta</text>\n</g>\n<!-- theta_G34&#45;&gt;PrepareTHC -->\n<g id=\"edge10\" class=\"edge\">\n<title>theta_G34:e-&gt;PrepareTHC:w</title>\n<path fill=\"none\" stroke=\"black\" d=\"M68.5,-396C94.22,-396 91.72,-427.22 115.9,-428.93\"/>\n<ellipse fill=\"black\" stroke=\"black\" cx=\"117\" cy=\"-428.97\" rx=\"1\" ry=\"1\"/>\n<text text-anchor=\"middle\" x=\"99.5\" y=\"-424\" font-family=\"Times,serif\" font-size=\"10.00\">1</text>\n</g>\n<!-- s_G0 -->\n<g id=\"node11\" class=\"node\">\n<title>s_G0</title>\n<text text-anchor=\"middle\" x=\"40.5\" y=\"-338.3\" font-family=\"Times,serif\" font-size=\"14.00\">s</text>\n</g>\n<!-- s_G0&#45;&gt;PrepareTHC -->\n<g id=\"edge11\" class=\"edge\">\n<title>s_G0:e-&gt;PrepareTHC:w</title>\n<path fill=\"none\" stroke=\"black\" d=\"M68.5,-342C104.45,-342 82.24,-405.45 115.92,-407.93\"/>\n<ellipse fill=\"black\" stroke=\"black\" cx=\"117\" cy=\"-407.96\" rx=\"1\" ry=\"1\"/>\n<text text-anchor=\"middle\" x=\"99.5\" y=\"-399\" font-family=\"Times,serif\" font-size=\"10.00\">6</text>\n</g>\n<!-- alt_mn_G28 -->\n<g id=\"node12\" class=\"node\">\n<title>alt_mn_G28</title>\n<text text-anchor=\"middle\" x=\"40.5\" y=\"-284.3\" font-family=\"Times,serif\" font-size=\"14.00\">alt_mn[0]</text>\n</g>\n<!-- alt_mn_G28&#45;&gt;PrepareTHC -->\n<g id=\"edge12\" class=\"edge\">\n<title>alt_mn_G28:e-&gt;PrepareTHC:w</title>\n<path fill=\"none\" stroke=\"black\" d=\"M77.5,-288C124.3,-288 72.14,-383.93 115.85,-386.93\"/>\n<ellipse fill=\"black\" stroke=\"black\" cx=\"117\" cy=\"-386.97\" rx=\"1\" ry=\"1\"/>\n<text text-anchor=\"middle\" x=\"99.5\" y=\"-377\" font-family=\"Times,serif\" font-size=\"10.00\">4</text>\n</g>\n<!-- alt_mn_G46 -->\n<g id=\"node13\" class=\"node\">\n<title>alt_mn_G46</title>\n<text text-anchor=\"middle\" x=\"40.5\" y=\"-230.3\" font-family=\"Times,serif\" font-size=\"14.00\">alt_mn[1]</text>\n</g>\n<!-- alt_mn_G46&#45;&gt;PrepareTHC -->\n<g id=\"edge13\" class=\"edge\">\n<title>alt_mn_G46:e-&gt;PrepareTHC:w</title>\n<path fill=\"none\" stroke=\"black\" d=\"M77.5,-234C138.15,-234 58.54,-362.92 115.9,-365.95\"/>\n<ellipse fill=\"black\" stroke=\"black\" cx=\"117\" cy=\"-365.97\" rx=\"1\" ry=\"1\"/>\n<text text-anchor=\"middle\" x=\"99.5\" y=\"-361\" font-family=\"Times,serif\" font-size=\"10.00\">4</text>\n</g>\n<!-- alt_theta_G40 -->\n<g id=\"node14\" class=\"node\">\n<title>alt_theta_G40</title>\n<text text-anchor=\"middle\" x=\"40.5\" y=\"-176.3\" font-family=\"Times,serif\" font-size=\"14.00\">alt_theta</text>\n</g>\n<!-- alt_theta_G40&#45;&gt;PrepareTHC -->\n<g id=\"edge14\" class=\"edge\">\n<title>alt_theta_G40:e-&gt;PrepareTHC:w</title>\n<path fill=\"none\" stroke=\"black\" d=\"M73.5,-180C103.47,-180 91.47,-213.27 100,-242 106.4,-263.58 95.49,-340.01 115.92,-344.77\"/>\n<ellipse fill=\"black\" stroke=\"black\" cx=\"117.01\" cy=\"-344.89\" rx=\"1\" ry=\"1\"/>\n<text text-anchor=\"middle\" x=\"99.5\" y=\"-245\" font-family=\"Times,serif\" font-size=\"10.00\">1</text>\n</g>\n<!-- keep_G23 -->\n<g id=\"node15\" class=\"node\">\n<title>keep_G23</title>\n<text text-anchor=\"middle\" x=\"40.5\" y=\"-122.3\" font-family=\"Times,serif\" font-size=\"14.00\">keep</text>\n</g>\n<!-- keep_G23&#45;&gt;PrepareTHC -->\n<g id=\"edge15\" class=\"edge\">\n<title>keep_G23:e-&gt;PrepareTHC:w</title>\n<path fill=\"none\" stroke=\"black\" d=\"M68.5,-126C81.72,-126 76.67,-140.5 81,-153 92.96,-187.53 92.23,-197.29 100,-233 104.21,-252.36 97.92,-318.54 115.71,-323.68\"/>\n<ellipse fill=\"black\" stroke=\"black\" cx=\"117.01\" cy=\"-323.86\" rx=\"1\" ry=\"1\"/>\n<text text-anchor=\"middle\" x=\"99.5\" y=\"-236\" font-family=\"Times,serif\" font-size=\"10.00\">8</text>\n</g>\n<!-- less_than_G7 -->\n<g id=\"node16\" class=\"node\">\n<title>less_than_G7</title>\n<text text-anchor=\"middle\" x=\"40.5\" y=\"-68.3\" font-family=\"Times,serif\" font-size=\"14.00\">less_than</text>\n</g>\n<!-- less_than_G7&#45;&gt;PrepareTHC -->\n<g id=\"edge16\" class=\"edge\">\n<title>less_than_G7:e-&gt;PrepareTHC:w</title>\n<path fill=\"none\" stroke=\"black\" d=\"M75.5,-72C87.94,-72 103.42,-281.85 116.14,-301.52\"/>\n<ellipse fill=\"black\" stroke=\"black\" cx=\"117.22\" cy=\"-302.38\" rx=\"1\" ry=\"1\"/>\n<text text-anchor=\"middle\" x=\"99.5\" y=\"-211\" font-family=\"Times,serif\" font-size=\"10.00\">1</text>\n</g>\n<!-- extra_ctrl_G12 -->\n<g id=\"node17\" class=\"node\">\n<title>extra_ctrl_G12</title>\n<text text-anchor=\"middle\" x=\"40.5\" y=\"-14.3\" font-family=\"Times,serif\" font-size=\"14.00\">extra_ctrl</text>\n</g>\n<!-- extra_ctrl_G12&#45;&gt;PrepareTHC -->\n<g id=\"edge17\" class=\"edge\">\n<title>extra_ctrl_G12:e-&gt;PrepareTHC:w</title>\n<path fill=\"none\" stroke=\"black\" d=\"M75.5,-18C89.78,-18 102.14,-261.78 116.27,-280.82\"/>\n<ellipse fill=\"black\" stroke=\"black\" cx=\"117.17\" cy=\"-281.44\" rx=\"1\" ry=\"1\"/>\n<text text-anchor=\"middle\" x=\"99.5\" y=\"-177\" font-family=\"Times,serif\" font-size=\"10.00\">1</text>\n</g>\n<!-- mu_G35 -->\n<g id=\"node19\" class=\"node\">\n<title>mu_G35</title>\n<text text-anchor=\"middle\" x=\"266.5\" y=\"-878.3\" font-family=\"Times,serif\" font-size=\"14.00\">mu</text>\n</g>\n<!-- PrepareTHC&#45;&gt;mu_G35 -->\n<g id=\"edge18\" class=\"edge\">\n<title>PrepareTHC:e-&gt;mu_G35:w</title>\n<path fill=\"none\" stroke=\"black\" d=\"M189,-619C206.56,-619 203.94,-758.71 207,-776 213.29,-811.56 214.13,-820.89 226,-855 230.11,-866.81 225.8,-880.42 236.49,-881.87\"/>\n<ellipse fill=\"black\" stroke=\"black\" cx=\"237.5\" cy=\"-881.94\" rx=\"1\" ry=\"1\"/>\n<text text-anchor=\"middle\" x=\"207.5\" y=\"-783\" font-family=\"Times,serif\" font-size=\"10.00\">4</text>\n</g>\n<!-- nu_G22 -->\n<g id=\"node20\" class=\"node\">\n<title>nu_G22</title>\n<text text-anchor=\"middle\" x=\"266.5\" y=\"-824.3\" font-family=\"Times,serif\" font-size=\"14.00\">nu</text>\n</g>\n<!-- PrepareTHC&#45;&gt;nu_G22 -->\n<g id=\"edge19\" class=\"edge\">\n<title>PrepareTHC:e-&gt;nu_G22:w</title>\n<path fill=\"none\" stroke=\"black\" d=\"M189,-598C207.99,-598 201.49,-749.82 207,-768 215.54,-796.15 208.72,-826.54 236.44,-827.95\"/>\n<ellipse fill=\"black\" stroke=\"black\" cx=\"237.5\" cy=\"-827.98\" rx=\"1\" ry=\"1\"/>\n<text text-anchor=\"middle\" x=\"207.5\" y=\"-774\" font-family=\"Times,serif\" font-size=\"10.00\">4</text>\n</g>\n<!-- plus_mn_G11 -->\n<g id=\"node21\" class=\"node\">\n<title>plus_mn_G11</title>\n<text text-anchor=\"middle\" x=\"266.5\" y=\"-770.3\" font-family=\"Times,serif\" font-size=\"14.00\">plus_mn</text>\n</g>\n<!-- PrepareTHC&#45;&gt;plus_mn_G11 -->\n<g id=\"edge20\" class=\"edge\">\n<title>PrepareTHC:e-&gt;plus_mn_G11:w</title>\n<path fill=\"none\" stroke=\"black\" d=\"M189,-577C278.06,-577 145.83,-770.93 231.44,-773.96\"/>\n<ellipse fill=\"black\" stroke=\"black\" cx=\"232.5\" cy=\"-773.98\" rx=\"1\" ry=\"1\"/>\n<text text-anchor=\"middle\" x=\"207.5\" y=\"-766\" font-family=\"Times,serif\" font-size=\"10.00\">1</text>\n</g>\n<!-- plus_a_G2 -->\n<g id=\"node22\" class=\"node\">\n<title>plus_a_G2</title>\n<text text-anchor=\"middle\" x=\"266.5\" y=\"-716.3\" font-family=\"Times,serif\" font-size=\"14.00\">plus_a</text>\n</g>\n<!-- PrepareTHC&#45;&gt;plus_a_G2 -->\n<g id=\"edge21\" class=\"edge\">\n<title>PrepareTHC:e-&gt;plus_a_G2:w</title>\n<path fill=\"none\" stroke=\"black\" d=\"M189,-556C264.39,-556 164.35,-716.81 236.32,-719.95\"/>\n<ellipse fill=\"black\" stroke=\"black\" cx=\"237.5\" cy=\"-719.98\" rx=\"1\" ry=\"1\"/>\n<text text-anchor=\"middle\" x=\"207.5\" y=\"-564\" font-family=\"Times,serif\" font-size=\"10.00\">1</text>\n</g>\n<!-- plus_b_G37 -->\n<g id=\"node23\" class=\"node\">\n<title>plus_b_G37</title>\n<text text-anchor=\"middle\" x=\"266.5\" y=\"-662.3\" font-family=\"Times,serif\" font-size=\"14.00\">plus_b</text>\n</g>\n<!-- PrepareTHC&#45;&gt;plus_b_G37 -->\n<g id=\"edge22\" class=\"edge\">\n<title>PrepareTHC:e-&gt;plus_b_G37:w</title>\n<path fill=\"none\" stroke=\"black\" d=\"M189,-535C250.51,-535 178,-662.95 236.37,-665.95\"/>\n<ellipse fill=\"black\" stroke=\"black\" cx=\"237.5\" cy=\"-665.97\" rx=\"1\" ry=\"1\"/>\n<text text-anchor=\"middle\" x=\"207.5\" y=\"-544\" font-family=\"Times,serif\" font-size=\"10.00\">1</text>\n</g>\n<!-- sigma_G5 -->\n<g id=\"node24\" class=\"node\">\n<title>sigma_G5</title>\n<text text-anchor=\"middle\" x=\"266.5\" y=\"-608.3\" font-family=\"Times,serif\" font-size=\"14.00\">sigma</text>\n</g>\n<!-- PrepareTHC&#45;&gt;sigma_G5 -->\n<g id=\"edge23\" class=\"edge\">\n<title>PrepareTHC:e-&gt;sigma_G5:w</title>\n<path fill=\"none\" stroke=\"black\" d=\"M189,-514C237.03,-514 191.18,-608.96 236.28,-611.93\"/>\n<ellipse fill=\"black\" stroke=\"black\" cx=\"237.5\" cy=\"-611.97\" rx=\"1\" ry=\"1\"/>\n<text text-anchor=\"middle\" x=\"207.5\" y=\"-525\" font-family=\"Times,serif\" font-size=\"10.00\">8</text>\n</g>\n<!-- rot_G13 -->\n<g id=\"node25\" class=\"node\">\n<title>rot_G13</title>\n<text text-anchor=\"middle\" x=\"266.5\" y=\"-554.3\" font-family=\"Times,serif\" font-size=\"14.00\">rot</text>\n</g>\n<!-- PrepareTHC&#45;&gt;rot_G13 -->\n<g id=\"edge24\" class=\"edge\">\n<title>PrepareTHC:e-&gt;rot_G13:w</title>\n<path fill=\"none\" stroke=\"black\" d=\"M189,-493C224.6,-493 203.07,-555.49 236.44,-557.93\"/>\n<ellipse fill=\"black\" stroke=\"black\" cx=\"237.5\" cy=\"-557.96\" rx=\"1\" ry=\"1\"/>\n<text text-anchor=\"middle\" x=\"207.5\" y=\"-506\" font-family=\"Times,serif\" font-size=\"10.00\">1</text>\n</g>\n<!-- succ_G20 -->\n<g id=\"node26\" class=\"node\">\n<title>succ_G20</title>\n<text text-anchor=\"middle\" x=\"266.5\" y=\"-500.3\" font-family=\"Times,serif\" font-size=\"14.00\">succ</text>\n</g>\n<!-- PrepareTHC&#45;&gt;succ_G20 -->\n<g id=\"edge25\" class=\"edge\">\n<title>PrepareTHC:e-&gt;succ_G20:w</title>\n<path fill=\"none\" stroke=\"black\" d=\"M189,-472C214.48,-472 212.44,-502.27 236.42,-503.93\"/>\n<ellipse fill=\"black\" stroke=\"black\" cx=\"237.5\" cy=\"-503.97\" rx=\"1\" ry=\"1\"/>\n<text text-anchor=\"middle\" x=\"207.5\" y=\"-483\" font-family=\"Times,serif\" font-size=\"10.00\">1</text>\n</g>\n<!-- nu_eq_mp1_G4 -->\n<g id=\"node27\" class=\"node\">\n<title>nu_eq_mp1_G4</title>\n<text text-anchor=\"middle\" x=\"266.5\" y=\"-446.3\" font-family=\"Times,serif\" font-size=\"14.00\">nu_eq_mp1</text>\n</g>\n<!-- PrepareTHC&#45;&gt;nu_eq_mp1_G4 -->\n<g id=\"edge26\" class=\"edge\">\n<title>PrepareTHC:e-&gt;nu_eq_mp1_G4:w</title>\n<path fill=\"none\" stroke=\"black\" d=\"M189,-450C204.67,-450 209.14,-450 223.77,-450\"/>\n<ellipse fill=\"black\" stroke=\"black\" cx=\"225\" cy=\"-450\" rx=\"1\" ry=\"1\"/>\n<text text-anchor=\"middle\" x=\"207.5\" y=\"-453\" font-family=\"Times,serif\" font-size=\"10.00\">1</text>\n</g>\n<!-- theta_G27 -->\n<g id=\"node28\" class=\"node\">\n<title>theta_G27</title>\n<text text-anchor=\"middle\" x=\"266.5\" y=\"-392.3\" font-family=\"Times,serif\" font-size=\"14.00\">theta</text>\n</g>\n<!-- PrepareTHC&#45;&gt;theta_G27 -->\n<g id=\"edge27\" class=\"edge\">\n<title>PrepareTHC:e-&gt;theta_G27:w</title>\n<path fill=\"none\" stroke=\"black\" d=\"M189,-429C214.72,-429 212.22,-397.78 236.4,-396.07\"/>\n<ellipse fill=\"black\" stroke=\"black\" cx=\"237.5\" cy=\"-396.03\" rx=\"1\" ry=\"1\"/>\n<text text-anchor=\"middle\" x=\"207.5\" y=\"-424\" font-family=\"Times,serif\" font-size=\"10.00\">1</text>\n</g>\n<!-- s_G50 -->\n<g id=\"node29\" class=\"node\">\n<title>s_G50</title>\n<text text-anchor=\"middle\" x=\"266.5\" y=\"-338.3\" font-family=\"Times,serif\" font-size=\"14.00\">s</text>\n</g>\n<!-- PrepareTHC&#45;&gt;s_G50 -->\n<g id=\"edge28\" class=\"edge\">\n<title>PrepareTHC:e-&gt;s_G50:w</title>\n<path fill=\"none\" stroke=\"black\" d=\"M189,-408C224.95,-408 202.74,-344.55 236.42,-342.07\"/>\n<ellipse fill=\"black\" stroke=\"black\" cx=\"237.5\" cy=\"-342.04\" rx=\"1\" ry=\"1\"/>\n<text text-anchor=\"middle\" x=\"207.5\" y=\"-399\" font-family=\"Times,serif\" font-size=\"10.00\">6</text>\n</g>\n<!-- alt_mn_G29 -->\n<g id=\"node30\" class=\"node\">\n<title>alt_mn_G29</title>\n<text text-anchor=\"middle\" x=\"266.5\" y=\"-284.3\" font-family=\"Times,serif\" font-size=\"14.00\">alt_mn[0]</text>\n</g>\n<!-- PrepareTHC&#45;&gt;alt_mn_G29 -->\n<g id=\"edge29\" class=\"edge\">\n<title>PrepareTHC:e-&gt;alt_mn_G29:w</title>\n<path fill=\"none\" stroke=\"black\" d=\"M189,-387C235.8,-387 183.64,-291.07 227.35,-288.07\"/>\n<ellipse fill=\"black\" stroke=\"black\" cx=\"228.5\" cy=\"-288.03\" rx=\"1\" ry=\"1\"/>\n<text text-anchor=\"middle\" x=\"207.5\" y=\"-377\" font-family=\"Times,serif\" font-size=\"10.00\">4</text>\n</g>\n<!-- alt_mn_G45 -->\n<g id=\"node31\" class=\"node\">\n<title>alt_mn_G45</title>\n<text text-anchor=\"middle\" x=\"266.5\" y=\"-230.3\" font-family=\"Times,serif\" font-size=\"14.00\">alt_mn[1]</text>\n</g>\n<!-- PrepareTHC&#45;&gt;alt_mn_G45 -->\n<g id=\"edge30\" class=\"edge\">\n<title>PrepareTHC:e-&gt;alt_mn_G45:w</title>\n<path fill=\"none\" stroke=\"black\" d=\"M189,-366C249.65,-366 170.04,-237.08 227.4,-234.05\"/>\n<ellipse fill=\"black\" stroke=\"black\" cx=\"228.5\" cy=\"-234.03\" rx=\"1\" ry=\"1\"/>\n<text text-anchor=\"middle\" x=\"207.5\" y=\"-361\" font-family=\"Times,serif\" font-size=\"10.00\">4</text>\n</g>\n<!-- alt_theta_G39 -->\n<g id=\"node32\" class=\"node\">\n<title>alt_theta_G39</title>\n<text text-anchor=\"middle\" x=\"266.5\" y=\"-176.3\" font-family=\"Times,serif\" font-size=\"14.00\">alt_theta</text>\n</g>\n<!-- PrepareTHC&#45;&gt;alt_theta_G39 -->\n<g id=\"edge31\" class=\"edge\">\n<title>PrepareTHC:e-&gt;alt_theta_G39:w</title>\n<path fill=\"none\" stroke=\"black\" d=\"M189,-345C212.24,-345 200.39,-264.28 207,-242 215.33,-213.94 204.08,-181.56 231.46,-180.05\"/>\n<ellipse fill=\"black\" stroke=\"black\" cx=\"232.5\" cy=\"-180.03\" rx=\"1\" ry=\"1\"/>\n<text text-anchor=\"middle\" x=\"207.5\" y=\"-245\" font-family=\"Times,serif\" font-size=\"10.00\">1</text>\n</g>\n<!-- keep_G32 -->\n<g id=\"node33\" class=\"node\">\n<title>keep_G32</title>\n<text text-anchor=\"middle\" x=\"266.5\" y=\"-122.3\" font-family=\"Times,serif\" font-size=\"14.00\">keep</text>\n</g>\n<!-- PrepareTHC&#45;&gt;keep_G32 -->\n<g id=\"edge32\" class=\"edge\">\n<title>PrepareTHC:e-&gt;keep_G32:w</title>\n<path fill=\"none\" stroke=\"black\" d=\"M189,-324C209.61,-324 202.62,-253.14 207,-233 214.77,-197.29 214.04,-187.53 226,-153 230.09,-141.19 225.8,-127.58 236.49,-126.13\"/>\n<ellipse fill=\"black\" stroke=\"black\" cx=\"237.5\" cy=\"-126.06\" rx=\"1\" ry=\"1\"/>\n<text text-anchor=\"middle\" x=\"207.5\" y=\"-236\" font-family=\"Times,serif\" font-size=\"10.00\">8</text>\n</g>\n<!-- less_than_G47 -->\n<g id=\"node34\" class=\"node\">\n<title>less_than_G47</title>\n<text text-anchor=\"middle\" x=\"266.5\" y=\"-68.3\" font-family=\"Times,serif\" font-size=\"14.00\">less_than</text>\n</g>\n<!-- PrepareTHC&#45;&gt;less_than_G47 -->\n<g id=\"edge33\" class=\"edge\">\n<title>PrepareTHC:e-&gt;less_than_G47:w</title>\n<path fill=\"none\" stroke=\"black\" d=\"M189,-303C201.44,-303 216.92,-93.15 229.64,-73.48\"/>\n<ellipse fill=\"black\" stroke=\"black\" cx=\"230.72\" cy=\"-72.62\" rx=\"1\" ry=\"1\"/>\n<text text-anchor=\"middle\" x=\"207.5\" y=\"-211\" font-family=\"Times,serif\" font-size=\"10.00\">1</text>\n</g>\n<!-- extra_ctrl_G44 -->\n<g id=\"node35\" class=\"node\">\n<title>extra_ctrl_G44</title>\n<text text-anchor=\"middle\" x=\"266.5\" y=\"-14.3\" font-family=\"Times,serif\" font-size=\"14.00\">extra_ctrl</text>\n</g>\n<!-- PrepareTHC&#45;&gt;extra_ctrl_G44 -->\n<g id=\"edge34\" class=\"edge\">\n<title>PrepareTHC:e-&gt;extra_ctrl_G44:w</title>\n<path fill=\"none\" stroke=\"black\" d=\"M189,-282C203.28,-282 215.64,-38.22 229.77,-19.18\"/>\n<ellipse fill=\"black\" stroke=\"black\" cx=\"230.67\" cy=\"-18.56\" rx=\"1\" ry=\"1\"/>\n<text text-anchor=\"middle\" x=\"207.5\" y=\"-177\" font-family=\"Times,serif\" font-size=\"10.00\">1</text>\n</g>\n</g>\n</svg>",
          "text/plain": "<IPython.core.display.SVG object>"
         },
         "metadata": {},
         "output_type": "display_data"
        }
       ],
       "tabbable": null,
       "tooltip": null
      }
     },
     "09010fb10868408bbdaef5e60b24d605": {
      "model_module": "@jupyter-widgets/controls",
      "model_module_version": "2.0.0",
      "model_name": "HBoxModel",
      "state": {
       "_dom_classes": [],
       "_model_module": "@jupyter-widgets/controls",
       "_model_module_version": "2.0.0",
       "_model_name": "HBoxModel",
       "_view_count": null,
       "_view_module": "@jupyter-widgets/controls",
       "_view_module_version": "2.0.0",
       "_view_name": "HBoxView",
       "box_style": "",
       "children": [
        "IPY_MODEL_07aa595acf0a434ca2fabcda9a816b14"
       ],
       "layout": "IPY_MODEL_6f43e72b0f3c4d37a18a2e54b632ec70",
       "tabbable": null,
       "tooltip": null
      }
     },
     "4042a32eea294465a68a53ed6fc7851a": {
      "model_module": "@jupyter-widgets/controls",
      "model_module_version": "2.0.0",
      "model_name": "HBoxModel",
      "state": {
       "_dom_classes": [],
       "_model_module": "@jupyter-widgets/controls",
       "_model_module_version": "2.0.0",
       "_model_name": "HBoxModel",
       "_view_count": null,
       "_view_module": "@jupyter-widgets/controls",
       "_view_module_version": "2.0.0",
       "_view_name": "HBoxView",
       "box_style": "",
       "children": [
        "IPY_MODEL_abc40891113b4cd7bb98ce1f39b4ef53"
       ],
       "layout": "IPY_MODEL_ffd54f6fe8a84b089e3a688fba8860b7",
       "tabbable": null,
       "tooltip": null
      }
     },
     "62e724cf9c3c473ebf80d4354c73ab08": {
      "model_module": "@jupyter-widgets/controls",
      "model_module_version": "2.0.0",
      "model_name": "HBoxModel",
      "state": {
       "_dom_classes": [],
       "_model_module": "@jupyter-widgets/controls",
       "_model_module_version": "2.0.0",
       "_model_name": "HBoxModel",
       "_view_count": null,
       "_view_module": "@jupyter-widgets/controls",
       "_view_module_version": "2.0.0",
       "_view_name": "HBoxView",
       "box_style": "",
       "children": [
        "IPY_MODEL_00458394e73840c9876701aa76eacef6"
       ],
       "layout": "IPY_MODEL_fce9b41b68fd48e5a1bf096000f392bc",
       "tabbable": null,
       "tooltip": null
      }
     },
     "6f43e72b0f3c4d37a18a2e54b632ec70": {
      "model_module": "@jupyter-widgets/base",
      "model_module_version": "2.0.0",
      "model_name": "LayoutModel",
      "state": {
       "_model_module": "@jupyter-widgets/base",
       "_model_module_version": "2.0.0",
       "_model_name": "LayoutModel",
       "_view_count": null,
       "_view_module": "@jupyter-widgets/base",
       "_view_module_version": "2.0.0",
       "_view_name": "LayoutView",
       "align_content": null,
       "align_items": null,
       "align_self": null,
       "border_bottom": null,
       "border_left": null,
       "border_right": null,
       "border_top": null,
       "bottom": null,
       "display": null,
       "flex": null,
       "flex_flow": null,
       "grid_area": null,
       "grid_auto_columns": null,
       "grid_auto_flow": null,
       "grid_auto_rows": null,
       "grid_column": null,
       "grid_gap": null,
       "grid_row": null,
       "grid_template_areas": null,
       "grid_template_columns": null,
       "grid_template_rows": null,
       "height": null,
       "justify_content": null,
       "justify_items": null,
       "left": null,
       "margin": null,
       "max_height": null,
       "max_width": null,
       "min_height": null,
       "min_width": null,
       "object_fit": null,
       "object_position": null,
       "order": null,
       "overflow": null,
       "padding": null,
       "right": null,
       "top": null,
       "visibility": null,
       "width": null
      }
     },
     "72ac76bf059841eb96255edc2e24e687": {
      "model_module": "@jupyter-widgets/base",
      "model_module_version": "2.0.0",
      "model_name": "LayoutModel",
      "state": {
       "_model_module": "@jupyter-widgets/base",
       "_model_module_version": "2.0.0",
       "_model_name": "LayoutModel",
       "_view_count": null,
       "_view_module": "@jupyter-widgets/base",
       "_view_module_version": "2.0.0",
       "_view_name": "LayoutView",
       "align_content": null,
       "align_items": null,
       "align_self": null,
       "border_bottom": null,
       "border_left": null,
       "border_right": null,
       "border_top": null,
       "bottom": null,
       "display": null,
       "flex": null,
       "flex_flow": null,
       "grid_area": null,
       "grid_auto_columns": null,
       "grid_auto_flow": null,
       "grid_auto_rows": null,
       "grid_column": null,
       "grid_gap": null,
       "grid_row": null,
       "grid_template_areas": null,
       "grid_template_columns": null,
       "grid_template_rows": null,
       "height": null,
       "justify_content": null,
       "justify_items": null,
       "left": null,
       "margin": null,
       "max_height": null,
       "max_width": null,
       "min_height": null,
       "min_width": null,
       "object_fit": null,
       "object_position": null,
       "order": null,
       "overflow": null,
       "padding": null,
       "right": null,
       "top": null,
       "visibility": null,
       "width": null
      }
     },
     "949b00f407254a33b775e8667d012de5": {
      "model_module": "@jupyter-widgets/base",
      "model_module_version": "2.0.0",
      "model_name": "LayoutModel",
      "state": {
       "_model_module": "@jupyter-widgets/base",
       "_model_module_version": "2.0.0",
       "_model_name": "LayoutModel",
       "_view_count": null,
       "_view_module": "@jupyter-widgets/base",
       "_view_module_version": "2.0.0",
       "_view_name": "LayoutView",
       "align_content": null,
       "align_items": null,
       "align_self": null,
       "border_bottom": null,
       "border_left": null,
       "border_right": null,
       "border_top": null,
       "bottom": null,
       "display": null,
       "flex": null,
       "flex_flow": null,
       "grid_area": null,
       "grid_auto_columns": null,
       "grid_auto_flow": null,
       "grid_auto_rows": null,
       "grid_column": null,
       "grid_gap": null,
       "grid_row": null,
       "grid_template_areas": null,
       "grid_template_columns": null,
       "grid_template_rows": null,
       "height": null,
       "justify_content": null,
       "justify_items": null,
       "left": null,
       "margin": null,
       "max_height": null,
       "max_width": null,
       "min_height": null,
       "min_width": null,
       "object_fit": null,
       "object_position": null,
       "order": null,
       "overflow": null,
       "padding": null,
       "right": null,
       "top": null,
       "visibility": null,
       "width": null
      }
     },
     "abc40891113b4cd7bb98ce1f39b4ef53": {
      "model_module": "@jupyter-widgets/output",
      "model_module_version": "1.0.0",
      "model_name": "OutputModel",
      "state": {
       "_dom_classes": [],
       "_model_module": "@jupyter-widgets/output",
       "_model_module_version": "1.0.0",
       "_model_name": "OutputModel",
       "_view_count": null,
       "_view_module": "@jupyter-widgets/output",
       "_view_module_version": "1.0.0",
       "_view_name": "OutputView",
       "layout": "IPY_MODEL_949b00f407254a33b775e8667d012de5",
       "msg_id": "",
       "outputs": [
        {
         "data": {
          "text/markdown": "`thc_uni`",
          "text/plain": "<IPython.core.display.Markdown object>"
         },
         "metadata": {},
         "output_type": "display_data"
        },
        {
         "data": {
          "image/svg+xml": "<svg xmlns=\"http://www.w3.org/2000/svg\" xmlns:xlink=\"http://www.w3.org/1999/xlink\" width=\"397pt\" height=\"260pt\" viewBox=\"0.00 0.00 397.00 260.00\">\n<g id=\"graph0\" class=\"graph\" transform=\"scale(1 1) rotate(0) translate(4 256)\">\n<title>my_graph</title>\n<polygon fill=\"white\" stroke=\"transparent\" points=\"-4,4 -4,-256 393,-256 393,4 -4,4\"/>\n<!-- mu_G1 -->\n<g id=\"node1\" class=\"node\">\n<title>mu_G1</title>\n<text text-anchor=\"middle\" x=\"40.5\" y=\"-230.3\" font-family=\"Times,serif\" font-size=\"14.00\">mu</text>\n</g>\n<!-- UniformSuperpositionTHC -->\n<g id=\"node6\" class=\"node\">\n<title>UniformSuperpositionTHC</title>\n<polygon fill=\"none\" stroke=\"black\" points=\"118.5,-179 118.5,-196 271.5,-196 271.5,-179 118.5,-179\"/>\n<text text-anchor=\"start\" x=\"121.5\" y=\"-185\" font-family=\"Times,serif\" font-size=\"10.00\">$\\sum_{\\mu &lt; \\nu} |\\mu\\nu\\rangle$</text>\n<polygon fill=\"none\" stroke=\"black\" points=\"118.5,-158 118.5,-179 271.5,-179 271.5,-158 118.5,-158\"/>\n<text text-anchor=\"start\" x=\"185.5\" y=\"-164.8\" font-family=\"Times,serif\" font-size=\"14.00\">mu</text>\n<polygon fill=\"none\" stroke=\"black\" points=\"118.5,-137 118.5,-158 271.5,-158 271.5,-137 118.5,-137\"/>\n<text text-anchor=\"start\" x=\"188\" y=\"-143.8\" font-family=\"Times,serif\" font-size=\"14.00\">nu</text>\n<polygon fill=\"none\" stroke=\"black\" points=\"118.5,-116 118.5,-137 271.5,-137 271.5,-116 118.5,-116\"/>\n<text text-anchor=\"start\" x=\"162.5\" y=\"-122.8\" font-family=\"Times,serif\" font-size=\"14.00\">nu_eq_mp1</text>\n<polygon fill=\"none\" stroke=\"black\" points=\"118.5,-95 118.5,-116 271.5,-116 271.5,-95 118.5,-95\"/>\n<text text-anchor=\"start\" x=\"182.5\" y=\"-101.8\" font-family=\"Times,serif\" font-size=\"14.00\">succ</text>\n<polygon fill=\"none\" stroke=\"black\" points=\"118.5,-74 118.5,-95 271.5,-95 271.5,-74 118.5,-74\"/>\n<text text-anchor=\"start\" x=\"187\" y=\"-80.8\" font-family=\"Times,serif\" font-size=\"14.00\">rot</text>\n</g>\n<!-- mu_G1&#45;&gt;UniformSuperpositionTHC -->\n<g id=\"edge1\" class=\"edge\">\n<title>mu_G1:e-&gt;UniformSuperpositionTHC:w</title>\n<path fill=\"none\" stroke=\"black\" d=\"M68.5,-234C104.1,-234 82.57,-171.51 115.94,-169.07\"/>\n<ellipse fill=\"black\" stroke=\"black\" cx=\"117\" cy=\"-169.04\" rx=\"1\" ry=\"1\"/>\n<text text-anchor=\"middle\" x=\"99.5\" y=\"-182\" font-family=\"Times,serif\" font-size=\"10.00\">4</text>\n</g>\n<!-- nu_G0 -->\n<g id=\"node2\" class=\"node\">\n<title>nu_G0</title>\n<text text-anchor=\"middle\" x=\"40.5\" y=\"-176.3\" font-family=\"Times,serif\" font-size=\"14.00\">nu</text>\n</g>\n<!-- nu_G0&#45;&gt;UniformSuperpositionTHC -->\n<g id=\"edge2\" class=\"edge\">\n<title>nu_G0:e-&gt;UniformSuperpositionTHC:w</title>\n<path fill=\"none\" stroke=\"black\" d=\"M68.5,-180C93.98,-180 91.94,-149.73 115.92,-148.07\"/>\n<ellipse fill=\"black\" stroke=\"black\" cx=\"117\" cy=\"-148.03\" rx=\"1\" ry=\"1\"/>\n<text text-anchor=\"middle\" x=\"99.5\" y=\"-159\" font-family=\"Times,serif\" font-size=\"10.00\">4</text>\n</g>\n<!-- nu_eq_mp1_G8 -->\n<g id=\"node3\" class=\"node\">\n<title>nu_eq_mp1_G8</title>\n<text text-anchor=\"middle\" x=\"40.5\" y=\"-122.3\" font-family=\"Times,serif\" font-size=\"14.00\">nu_eq_mp1</text>\n</g>\n<!-- nu_eq_mp1_G8&#45;&gt;UniformSuperpositionTHC -->\n<g id=\"edge3\" class=\"edge\">\n<title>nu_eq_mp1_G8:e-&gt;UniformSuperpositionTHC:w</title>\n<path fill=\"none\" stroke=\"black\" d=\"M81,-126C96.67,-126 101.14,-126 115.77,-126\"/>\n<ellipse fill=\"black\" stroke=\"black\" cx=\"117\" cy=\"-126\" rx=\"1\" ry=\"1\"/>\n<text text-anchor=\"middle\" x=\"99.5\" y=\"-129\" font-family=\"Times,serif\" font-size=\"10.00\">1</text>\n</g>\n<!-- succ_G14 -->\n<g id=\"node4\" class=\"node\">\n<title>succ_G14</title>\n<text text-anchor=\"middle\" x=\"40.5\" y=\"-68.3\" font-family=\"Times,serif\" font-size=\"14.00\">succ</text>\n</g>\n<!-- succ_G14&#45;&gt;UniformSuperpositionTHC -->\n<g id=\"edge4\" class=\"edge\">\n<title>succ_G14:e-&gt;UniformSuperpositionTHC:w</title>\n<path fill=\"none\" stroke=\"black\" d=\"M68.5,-72C94.22,-72 91.72,-103.22 115.9,-104.93\"/>\n<ellipse fill=\"black\" stroke=\"black\" cx=\"117\" cy=\"-104.97\" rx=\"1\" ry=\"1\"/>\n<text text-anchor=\"middle\" x=\"99.5\" y=\"-100\" font-family=\"Times,serif\" font-size=\"10.00\">1</text>\n</g>\n<!-- rot_G11 -->\n<g id=\"node5\" class=\"node\">\n<title>rot_G11</title>\n<text text-anchor=\"middle\" x=\"40.5\" y=\"-14.3\" font-family=\"Times,serif\" font-size=\"14.00\">rot</text>\n</g>\n<!-- rot_G11&#45;&gt;UniformSuperpositionTHC -->\n<g id=\"edge5\" class=\"edge\">\n<title>rot_G11:e-&gt;UniformSuperpositionTHC:w</title>\n<path fill=\"none\" stroke=\"black\" d=\"M68.5,-18C104.45,-18 82.24,-81.45 115.92,-83.93\"/>\n<ellipse fill=\"black\" stroke=\"black\" cx=\"117\" cy=\"-83.96\" rx=\"1\" ry=\"1\"/>\n<text text-anchor=\"middle\" x=\"99.5\" y=\"-75\" font-family=\"Times,serif\" font-size=\"10.00\">1</text>\n</g>\n<!-- mu_G6 -->\n<g id=\"node7\" class=\"node\">\n<title>mu_G6</title>\n<text text-anchor=\"middle\" x=\"348.5\" y=\"-230.3\" font-family=\"Times,serif\" font-size=\"14.00\">mu</text>\n</g>\n<!-- UniformSuperpositionTHC&#45;&gt;mu_G6 -->\n<g id=\"edge6\" class=\"edge\">\n<title>UniformSuperpositionTHC:e-&gt;mu_G6:w</title>\n<path fill=\"none\" stroke=\"black\" d=\"M271,-169C306.6,-169 285.07,-231.49 318.44,-233.93\"/>\n<ellipse fill=\"black\" stroke=\"black\" cx=\"319.5\" cy=\"-233.96\" rx=\"1\" ry=\"1\"/>\n<text text-anchor=\"middle\" x=\"289.5\" y=\"-182\" font-family=\"Times,serif\" font-size=\"10.00\">4</text>\n</g>\n<!-- nu_G10 -->\n<g id=\"node8\" class=\"node\">\n<title>nu_G10</title>\n<text text-anchor=\"middle\" x=\"348.5\" y=\"-176.3\" font-family=\"Times,serif\" font-size=\"14.00\">nu</text>\n</g>\n<!-- UniformSuperpositionTHC&#45;&gt;nu_G10 -->\n<g id=\"edge7\" class=\"edge\">\n<title>UniformSuperpositionTHC:e-&gt;nu_G10:w</title>\n<path fill=\"none\" stroke=\"black\" d=\"M271,-148C296.48,-148 294.44,-178.27 318.42,-179.93\"/>\n<ellipse fill=\"black\" stroke=\"black\" cx=\"319.5\" cy=\"-179.97\" rx=\"1\" ry=\"1\"/>\n<text text-anchor=\"middle\" x=\"289.5\" y=\"-159\" font-family=\"Times,serif\" font-size=\"10.00\">4</text>\n</g>\n<!-- nu_eq_mp1_G2 -->\n<g id=\"node9\" class=\"node\">\n<title>nu_eq_mp1_G2</title>\n<text text-anchor=\"middle\" x=\"348.5\" y=\"-122.3\" font-family=\"Times,serif\" font-size=\"14.00\">nu_eq_mp1</text>\n</g>\n<!-- UniformSuperpositionTHC&#45;&gt;nu_eq_mp1_G2 -->\n<g id=\"edge8\" class=\"edge\">\n<title>UniformSuperpositionTHC:e-&gt;nu_eq_mp1_G2:w</title>\n<path fill=\"none\" stroke=\"black\" d=\"M271,-126C286.67,-126 291.14,-126 305.77,-126\"/>\n<ellipse fill=\"black\" stroke=\"black\" cx=\"307\" cy=\"-126\" rx=\"1\" ry=\"1\"/>\n<text text-anchor=\"middle\" x=\"289.5\" y=\"-129\" font-family=\"Times,serif\" font-size=\"10.00\">1</text>\n</g>\n<!-- succ_G13 -->\n<g id=\"node10\" class=\"node\">\n<title>succ_G13</title>\n<text text-anchor=\"middle\" x=\"348.5\" y=\"-68.3\" font-family=\"Times,serif\" font-size=\"14.00\">succ</text>\n</g>\n<!-- UniformSuperpositionTHC&#45;&gt;succ_G13 -->\n<g id=\"edge9\" class=\"edge\">\n<title>UniformSuperpositionTHC:e-&gt;succ_G13:w</title>\n<path fill=\"none\" stroke=\"black\" d=\"M271,-105C296.72,-105 294.22,-73.78 318.4,-72.07\"/>\n<ellipse fill=\"black\" stroke=\"black\" cx=\"319.5\" cy=\"-72.03\" rx=\"1\" ry=\"1\"/>\n<text text-anchor=\"middle\" x=\"289.5\" y=\"-100\" font-family=\"Times,serif\" font-size=\"10.00\">1</text>\n</g>\n<!-- rot_G4 -->\n<g id=\"node11\" class=\"node\">\n<title>rot_G4</title>\n<text text-anchor=\"middle\" x=\"348.5\" y=\"-14.3\" font-family=\"Times,serif\" font-size=\"14.00\">rot</text>\n</g>\n<!-- UniformSuperpositionTHC&#45;&gt;rot_G4 -->\n<g id=\"edge10\" class=\"edge\">\n<title>UniformSuperpositionTHC:e-&gt;rot_G4:w</title>\n<path fill=\"none\" stroke=\"black\" d=\"M271,-84C306.95,-84 284.74,-20.55 318.42,-18.07\"/>\n<ellipse fill=\"black\" stroke=\"black\" cx=\"319.5\" cy=\"-18.04\" rx=\"1\" ry=\"1\"/>\n<text text-anchor=\"middle\" x=\"289.5\" y=\"-75\" font-family=\"Times,serif\" font-size=\"10.00\">1</text>\n</g>\n</g>\n</svg>",
          "text/plain": "<IPython.core.display.SVG object>"
         },
         "metadata": {},
         "output_type": "display_data"
        }
       ],
       "tabbable": null,
       "tooltip": null
      }
     },
     "cb0998ce98a84f9886ae5a2c3b697b3d": {
      "model_module": "@jupyter-widgets/base",
      "model_module_version": "2.0.0",
      "model_name": "LayoutModel",
      "state": {
       "_model_module": "@jupyter-widgets/base",
       "_model_module_version": "2.0.0",
       "_model_name": "LayoutModel",
       "_view_count": null,
       "_view_module": "@jupyter-widgets/base",
       "_view_module_version": "2.0.0",
       "_view_name": "LayoutView",
       "align_content": null,
       "align_items": null,
       "align_self": null,
       "border_bottom": null,
       "border_left": null,
       "border_right": null,
       "border_top": null,
       "bottom": null,
       "display": null,
       "flex": null,
       "flex_flow": null,
       "grid_area": null,
       "grid_auto_columns": null,
       "grid_auto_flow": null,
       "grid_auto_rows": null,
       "grid_column": null,
       "grid_gap": null,
       "grid_row": null,
       "grid_template_areas": null,
       "grid_template_columns": null,
       "grid_template_rows": null,
       "height": null,
       "justify_content": null,
       "justify_items": null,
       "left": null,
       "margin": null,
       "max_height": null,
       "max_width": null,
       "min_height": null,
       "min_width": null,
       "object_fit": null,
       "object_position": null,
       "order": null,
       "overflow": null,
       "padding": null,
       "right": null,
       "top": null,
       "visibility": null,
       "width": null
      }
     },
     "fce9b41b68fd48e5a1bf096000f392bc": {
      "model_module": "@jupyter-widgets/base",
      "model_module_version": "2.0.0",
      "model_name": "LayoutModel",
      "state": {
       "_model_module": "@jupyter-widgets/base",
       "_model_module_version": "2.0.0",
       "_model_name": "LayoutModel",
       "_view_count": null,
       "_view_module": "@jupyter-widgets/base",
       "_view_module_version": "2.0.0",
       "_view_name": "LayoutView",
       "align_content": null,
       "align_items": null,
       "align_self": null,
       "border_bottom": null,
       "border_left": null,
       "border_right": null,
       "border_top": null,
       "bottom": null,
       "display": null,
       "flex": null,
       "flex_flow": null,
       "grid_area": null,
       "grid_auto_columns": null,
       "grid_auto_flow": null,
       "grid_auto_rows": null,
       "grid_column": null,
       "grid_gap": null,
       "grid_row": null,
       "grid_template_areas": null,
       "grid_template_columns": null,
       "grid_template_rows": null,
       "height": null,
       "justify_content": null,
       "justify_items": null,
       "left": null,
       "margin": null,
       "max_height": null,
       "max_width": null,
       "min_height": null,
       "min_width": null,
       "object_fit": null,
       "object_position": null,
       "order": null,
       "overflow": null,
       "padding": null,
       "right": null,
       "top": null,
       "visibility": null,
       "width": null
      }
     },
     "ffd54f6fe8a84b089e3a688fba8860b7": {
      "model_module": "@jupyter-widgets/base",
      "model_module_version": "2.0.0",
      "model_name": "LayoutModel",
      "state": {
       "_model_module": "@jupyter-widgets/base",
       "_model_module_version": "2.0.0",
       "_model_name": "LayoutModel",
       "_view_count": null,
       "_view_module": "@jupyter-widgets/base",
       "_view_module_version": "2.0.0",
       "_view_name": "LayoutView",
       "align_content": null,
       "align_items": null,
       "align_self": null,
       "border_bottom": null,
       "border_left": null,
       "border_right": null,
       "border_top": null,
       "bottom": null,
       "display": null,
       "flex": null,
       "flex_flow": null,
       "grid_area": null,
       "grid_auto_columns": null,
       "grid_auto_flow": null,
       "grid_auto_rows": null,
       "grid_column": null,
       "grid_gap": null,
       "grid_row": null,
       "grid_template_areas": null,
       "grid_template_columns": null,
       "grid_template_rows": null,
       "height": null,
       "justify_content": null,
       "justify_items": null,
       "left": null,
       "margin": null,
       "max_height": null,
       "max_width": null,
       "min_height": null,
       "min_width": null,
       "object_fit": null,
       "object_position": null,
       "order": null,
       "overflow": null,
       "padding": null,
       "right": null,
       "top": null,
       "visibility": null,
       "width": null
      }
     }
    },
    "version_major": 2,
    "version_minor": 0
   }
  }
 },
 "nbformat": 4,
 "nbformat_minor": 5
}
