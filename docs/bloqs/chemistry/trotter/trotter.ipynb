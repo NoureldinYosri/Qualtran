{
 "cells": [
  {
   "cell_type": "markdown",
   "metadata": {},
   "source": [
    "# Trotter Costs\n",
    "<p style=\"text-align: center;\"><a href=\"mailto:fmalone@google.com\">Fionn Malone</a></p>\n"
   ]
  },
  {
   "cell_type": "markdown",
   "metadata": {},
   "source": [
    "\n",
    "We want to estimate the cost of implementing time evolution of a wavefunction:\n",
    "\n",
    "$$\n",
    "|\\psi(t)\\rangle = e^{-i H t}|\\psi(0)\\rangle\n",
    "$$\n",
    "\n",
    "fault tolerantly using qualtran. In practice applying the unitary directly is challenging as the Hamiltonian is made up of non-commuting terms. Note that if we write \n",
    "$$\n",
    "H = H_1 + H_2,\n",
    "$$\n",
    "we can always write\n",
    "$$\n",
    "e^{-i H t} = \\lim_{n\\rightarrow\\infty} \\left(e^{-iH_1 t/m} e^{-iH_2 t/m}\\right)^{m}.\n",
    "$$\n",
    "With this identity we can use Suzuki-Trotter methods to approximate the exact dynamics through product formulae. For example, the simplest Trotter approximation allows us to approximate the unitary as\n",
    "$$\n",
    "e^{-i H t} = \\prod_m^{N_t} e^{-iH_1 \\delta t} e^{-iH_2 \\delta t} + \\mathcal{O}(\\delta t^2)\n",
    "$$\n",
    "where we have $\\delta_t = t / N_t$ and the errors are proportional to commutators of the terms in the Hamiltonian. More sophisticated Trotter breakups lead to better accuracy, at the cost of more complicated product formula."
   ]
  },
  {
   "cell_type": "markdown",
   "metadata": {},
   "source": [
    "## First Quantized Grid Based Hamiltonian\n",
    "\n",
    "Ultimately we are interested in understanding the dynamics of real chemical systems. This requires us to study the ab-initio chemistry Hamiltonian which is given as (in atomic units)\n",
    "\n",
    "\\begin{align}\n",
    "H &= -\\frac{1}{2} \\sum_i \\nabla_i^2 -\\sum_{i}\\sum_{J} \\frac{\\zeta_J}{|R_J-r_i|} + \\sum_{i < j} \\frac{1}{|r_i-r_j|}  + \\mathrm{constant} \\\\\n",
    "  &= T + U + V.\n",
    "\\end{align}\n",
    "\n",
    "There are many different ways to represent the Hamiltonian, but here we will adopt a real space grid approach.\n",
    "That is, we imagine a collection of electrons in a cubic box of length $L$. We discretize real space with a certain resolution given by $\\Delta = L/(N-1)$ where $N$ is the number of grid points.  \n",
    "With this definition of the grid, then each of our $\\eta$ electrons can live at discrete real space points $r = (x, y, z)$ where $x = n_x \\Delta$, and $n_x \\in [-(N-1)/2, (N-1)/2]$. In fact, it is often more convenient in quantum algorithms to consider the unscaled grid points $\\bar{x} = x / \\Delta$, and work with tuples of integers directly. The scaling factors can be accounted for at a later time. \n",
    "\n",
    "To get a better handle on some of these things consider 1D case, and say we chose our grid to have 30 points in each of the positive and negative $x$ directions.\n",
    "Then $N = 2\\times 30 + 1 = 61$. If $L = 15 a_0 $ then $\\Delta = 15 / (21-1) \\approx 0.25 a_0$, where $a_0$ is the Bohr radius."
   ]
  },
  {
   "cell_type": "code",
   "execution_count": 1,
   "metadata": {
    "execution": {
     "iopub.execute_input": "2023-10-30T23:23:55.208805Z",
     "iopub.status.busy": "2023-10-30T23:23:55.208527Z",
     "iopub.status.idle": "2023-10-30T23:23:55.270769Z",
     "shell.execute_reply": "2023-10-30T23:23:55.270479Z"
    }
   },
   "outputs": [
    {
     "name": "stdout",
     "output_type": "stream",
     "text": [
      "delta =  0.25\n",
      "unscaled grid points = [-30 -29 -28 -27 -26 -25 -24 -23 -22 -21 -20 -19 -18 -17 -16 -15 -14 -13\n",
      " -12 -11 -10  -9  -8  -7  -6  -5  -4  -3  -2  -1   0   1   2   3   4   5\n",
      "   6   7   8   9  10  11  12  13  14  15  16  17  18  19  20  21  22  23\n",
      "  24  25  26  27  28  29  30]\n",
      "scaled grid points   = [-7.5  -7.25 -7.   -6.75 -6.5  -6.25 -6.   -5.75 -5.5  -5.25 -5.   -4.75\n",
      " -4.5  -4.25 -4.   -3.75 -3.5  -3.25 -3.   -2.75 -2.5  -2.25 -2.   -1.75\n",
      " -1.5  -1.25 -1.   -0.75 -0.5  -0.25  0.    0.25  0.5   0.75  1.    1.25\n",
      "  1.5   1.75  2.    2.25  2.5   2.75  3.    3.25  3.5   3.75  4.    4.25\n",
      "  4.5   4.75  5.    5.25  5.5   5.75  6.    6.25  6.5   6.75  7.    7.25\n",
      "  7.5 ]\n"
     ]
    }
   ],
   "source": [
    "import numpy as np\n",
    "ng = 30\n",
    "x_int = np.linspace(-ng, ng, 2*ng+1, dtype=int)\n",
    "L = 15.0\n",
    "delta = L / (len(x_int) - 1)\n",
    "print(\"delta = \", delta)\n",
    "x_scl = delta * x_int\n",
    "assert (x_scl[-1] - x_scl[0]) - L < 1e-12\n",
    "\n",
    "print(f\"unscaled grid points = {x_int}\")\n",
    "print(f\"scaled grid points   = {x_scl}\")\n"
   ]
  },
  {
   "cell_type": "markdown",
   "metadata": {},
   "source": [
    "With our grid we can now visualize the coulomb potential sampled at these grid points: "
   ]
  },
  {
   "cell_type": "code",
   "execution_count": 2,
   "metadata": {
    "execution": {
     "iopub.execute_input": "2023-10-30T23:23:55.272526Z",
     "iopub.status.busy": "2023-10-30T23:23:55.272394Z",
     "iopub.status.idle": "2023-10-30T23:23:55.712179Z",
     "shell.execute_reply": "2023-10-30T23:23:55.711892Z"
    }
   },
   "outputs": [
    {
     "data": {
      "text/plain": [
       "Text(0.5, 1.0, 'Coulomb potential on a grid.')"
      ]
     },
     "execution_count": 2,
     "metadata": {},
     "output_type": "execute_result"
    },
    {
     "data": {
      "image/png": "[encoded data removed]",
      "text/plain": [
       "<Figure size 640x480 with 1 Axes>"
      ]
     },
     "metadata": {},
     "output_type": "display_data"
    }
   ],
   "source": [
    "import matplotlib.pyplot as plt \n",
    "ij_pairs = np.triu_indices(len(x_int), k=1)\n",
    "rij = np.unique(np.sqrt((x_scl[ij_pairs[0]] - x_scl[ij_pairs[1]])**(2)))\n",
    "Vij = 1.0 / rij\n",
    "plt.plot(rij, Vij, marker='o', lw=0, label=\"grid\")\n",
    "xmin = np.min(rij)\n",
    "xmax = np.max(rij)\n",
    "rij_dense = np.linspace(xmin, xmax, 100)\n",
    "plt.plot(rij_dense, 1/rij_dense, lw=1, ls=\":\", label=\"1/r_{ij}\")\n",
    "plt.xlabel(\"$x$\")\n",
    "plt.ylabel(\"$V(x) = 1/x$\")\n",
    "plt.title(\"Coulomb potential on a grid.\")"
   ]
  },
  {
   "cell_type": "markdown",
   "metadata": {},
   "source": [
    "Ok, now let's look at the potential on our integer grid. The maximum distance should be 60 as our grid ranges from -30 to 30."
   ]
  },
  {
   "cell_type": "code",
   "execution_count": 3,
   "metadata": {
    "execution": {
     "iopub.execute_input": "2023-10-30T23:23:55.713933Z",
     "iopub.status.busy": "2023-10-30T23:23:55.713798Z",
     "iopub.status.idle": "2023-10-30T23:23:55.770874Z",
     "shell.execute_reply": "2023-10-30T23:23:55.770600Z"
    }
   },
   "outputs": [
    {
     "name": "stdout",
     "output_type": "stream",
     "text": [
      "xmin = 1, xmax = 60\n"
     ]
    },
    {
     "data": {
      "text/plain": [
       "Text(0.5, 1.0, 'Coulomb potential on a.')"
      ]
     },
     "execution_count": 3,
     "metadata": {},
     "output_type": "execute_result"
    },
    {
     "data": {
      "image/png": "[encoded data removed]",
      "text/plain": [
       "<Figure size 640x480 with 1 Axes>"
      ]
     },
     "metadata": {},
     "output_type": "display_data"
    }
   ],
   "source": [
    "rij_int = np.unique(np.array(np.sqrt((x_int[ij_pairs[0]] - x_int[ij_pairs[1]])**(2)), dtype=int))\n",
    "Vij_int = 1.0 / rij_int\n",
    "plt.plot(rij_int, Vij_int, marker='o', lw=0, label=\"grid\")\n",
    "xmin = np.min(rij_int)\n",
    "xmax = np.max(rij_int)\n",
    "print(f\"xmin = {int(xmin)}, xmax = {int(xmax)}\")\n",
    "rij_dense = np.linspace(xmin, xmax, 100)\n",
    "plt.plot(rij_dense, 1/rij_dense, lw=1, ls=\":\", label=\"1/r_{ij}\")\n",
    "plt.xlabel(r\"$\\bar{x}$\")\n",
    "plt.ylabel(r\"$V(\\bar{x}) = 1/\\bar{x}$\")\n",
    "assert np.allclose(Vij_int/delta, Vij) \n",
    "assert np.allclose(rij_int*delta, rij) \n",
    "plt.title(\"Coulomb potential on a.\")"
   ]
  },
  {
   "cell_type": "markdown",
   "metadata": {},
   "source": [
    "Great! Now that we have a handle on a grid Hamiltonian let's move onto how to simulate it on a quantum computer. \n",
    "\n",
    "Note in the above we assumed that $x>0$ which is not guaranteed. In practice we should this value of the potential to be a very large number."
   ]
  },
  {
   "cell_type": "markdown",
   "metadata": {},
   "source": [
    " \n",
    "## Quantum Algorithm\n",
    "Our goal is to perform time evolution for our first quantized grid based Hamiltonian described above. \n",
    "\n",
    "Note that the Coulomb terms are diagonal in the position basis while the kinetic term is diagonal in the momentum basis. Thus we can employ a QFT to switch between these bases: \n",
    "$$\n",
    "|\\psi(t)\\rangle \\approx \\mathrm{QFT} e^{-i\\delta t T} \\mathrm{QFT}^{\\dagger} e^{-i\\delta t U}  e^{-i \\delta t V} |\\psi(0)\\rangle\n",
    "$$\n",
    "so that all the terms can be implemented via a gate which implements something of the form $e^{-i \\delta t \\phi_\\alpha }$ via phasing gates.\n"
   ]
  },
  {
   "cell_type": "markdown",
   "metadata": {},
   "source": [
    "\n",
    "We can represent our $\\eta$-electron wavefunction as \n",
    "$$\n",
    "|\\psi\\rangle = \\sum_{r_1\\cdots r_\\eta} c(r_1, \\cdots, r_\\eta) |r_1\\cdots r_\\eta\\rangle\n",
    "$$\n",
    "\n",
    "and recall that each $r$ lives on a grid of size $N = (2 N_g + 1)^3$ if $N_g$ is the number of grid points in each spatial dimension. Thus we will need $\\eta$ registers of size $n = 3 \\lceil \\log N^{1/3}\\rceil + 1$ to describe our system.\n",
    "\n",
    "We will use the approach of Jones et al., which provides the following algorithm for implementing a single Trotter step (for the electron-electron interaction $V$, but the other terms are similar)\n",
    "\n",
    "\\begin{align}\n",
    "&\\sum_{r_1\\cdots r_\\eta} c(r_1, \\cdots, r_\\eta) |r_1\\cdots r_\\eta\\rangle \\\\\n",
    " \\rightarrow  &\\sum_{r_1\\cdots r_\\eta} c(r_1, \\cdots, r_\\eta) |r_1\\cdots r_\\eta\\rangle \n",
    "     |V(r_1\\cdots r_\\eta)\\rangle\n",
    "     \\hspace{10.4em} \\text{Compute pairwise potential in ancilla registers} \\\\\n",
    " \\rightarrow  &\\sum_{r_1\\cdots r_\\eta} e^{-i \\delta t V(r_1\\cdots r_\\eta)}\n",
    "     c(r_1, \\cdots, r_\\eta) |r_1\\cdots r_\\eta\\rangle|V(r_1\\cdots r_\\eta)\\rangle\n",
    "     \\hspace{5.5em} \\text{Phase the state with computed potential} \\\\ \n",
    " \\rightarrow &\\sum_{r_1\\cdots r_\\eta} e^{-i \\delta t V(r_1\\cdots r_\\eta)}\n",
    "     c(r_1, \\cdots, r_\\eta) |r_1\\cdots r_\\eta\\rangle|0\\cdots0\\rangle\n",
    "     \\hspace{7.8em} \\text{Uncompute potential in ancilla register} \\\\ \n",
    "\\end{align}\n",
    "in the above the ancilla register storing the value of the potential is of size $> 2n + 2$.\n"
   ]
  },
  {
   "cell_type": "markdown",
   "metadata": {},
   "source": [
    "\n",
    "To compute the potential we need to evaluate $\\frac{1}{r_{ij}} \\equiv \\frac{1}{|r_i - r_j|}$ which can be done in two steps:\n",
    "\n",
    "1. compute $|r_{ij}^2\\rangle = |(x_i - x_j)^2 + (y_i-y_j)^2 + (z_i - z_j)^2\\rangle$ into a register of size $2 n + 2$.\n",
    "2. compute the inverse square root of the number in this register ($r_{ij}^2$).\n",
    "\n",
    "\n",
    "The most challenging and expensive part of this step is computing the inverse square root, which can classically be approximated using the Newton-Raphson method.\n",
    "To do so consider solving $x^{-2} = r_{ij}^2$ which has solution $x^* = \\frac{1}{r_{ij}}$. Our Newton-Raphson iteration is then: \n",
    "\n",
    "\\begin{align}\n",
    "a_{n+1} &= a_{n} - \\frac{a_n^3(1-r_{ij}^2 a_n^2)}{-2 a_n^2} \\\\\n",
    "        &= \\frac{1}{2}a_n\\left(3-a_n^2 r_{ij}^2\\right).\n",
    "\\end{align}\n",
    "\n",
    "In the original work of Jones et al. it was suggested that 5 or more iterations was sufficient to obtain acceptable accuracy. However, one needs a good initial guess for this to be the case, and as the Newton Raphson step is by far the most costly part of the quantum algorithm, it would be nice to reduce this prefactor.\n",
    "\n",
    "In the fusion paper this method is improved upon by using a hybrid approach based upon using QROM to load a good approximation to our function followed by a single step of Newton-Raphson. A further optimization is introduced to include the scaling factors necessary for the potential directly in the Newton-Raphson step (i.e. all the timestep and factors of two.)\n",
    "\n"
   ]
  },
  {
   "cell_type": "markdown",
   "metadata": {},
   "source": [
    "## Function interpolation\n",
    "\n",
    "The basic idea is to first fit a polynomial to $\\frac{1}{r_{ij}}$ to use as input for a Newton-Raphson step. In practice we do not want to try to fit $r_{ij}^{-1}$ over the entire range of values as this will lead to a poor quality fit. Instead we combine two ideas: piecewise interpolation and scaling. Piecewise interpolation allows us to boost the accuracy of our fit by splitting our domain into $k$ subintervals and fitting a polynomial in these smaller subintervals, which can then be pieced together on fly depending on the input value $\\bar{x}$. The second idea is to use the scaling properties of our function to only fit in a small subinterval, and appropriately scaling it if we need to know its value outside of this interval. That is, we know that $\\frac{1}{\\sqrt{x}} = \\frac{1}{\\sqrt{a}\\sqrt{x'}}$ for $x' \\in [1, 2]$, say.\n",
    "\n",
    "In practice we split the interval $[1, 2]$ in half, and fit the polynomial \n",
    "\n",
    "$$\n",
    "\\frac{1}{\\sqrt{x}} \\approx a_0 - a_1 (x-1) + a_2 (x-1)^2 - a_3 (x-1)^3\n",
    "$$\n",
    "\n",
    "for $x \\in [1, 3/2]$ and\n",
    "\n",
    "$$\n",
    "\\frac{1}{\\sqrt{x}} \\approx b_0 - b_1 (x-3/2) + b_2 (x-3/2)^2 - b_3 (x-3/2)^3\n",
    "$$\n",
    "\n",
    "for $x \\in [3/2, 2]$.\n",
    "\n",
    "First let's see how these polynomials compare within their domains of definition:"
   ]
  },
  {
   "cell_type": "code",
   "execution_count": 4,
   "metadata": {
    "execution": {
     "iopub.execute_input": "2023-10-30T23:23:55.772631Z",
     "iopub.status.busy": "2023-10-30T23:23:55.772527Z",
     "iopub.status.idle": "2023-10-30T23:23:57.350857Z",
     "shell.execute_reply": "2023-10-30T23:23:57.350565Z"
    }
   },
   "outputs": [
    {
     "name": "stderr",
     "output_type": "stream",
     "text": [
      "OMP: Info #276: omp_set_nested routine deprecated, please use omp_set_max_active_levels instead.\n"
     ]
    },
    {
     "data": {
      "text/plain": [
       "(1e-06, 0.0001)"
      ]
     },
     "execution_count": 4,
     "metadata": {},
     "output_type": "execute_result"
    },
    {
     "data": {
      "image/png": "[encoded data removed]",
      "text/plain": [
       "<Figure size 640x480 with 1 Axes>"
      ]
     },
     "metadata": {},
     "output_type": "display_data"
    }
   ],
   "source": [
    "from qualtran.bloqs.chemistry.trotter.inverse_sqrt import get_inverse_square_root_poly_coeffs\n",
    "coeffs_one, coeffs_two = get_inverse_square_root_poly_coeffs()\n",
    "a0, a1, a2, a3 = coeffs_one\n",
    "b0, b1, b2, b3 = coeffs_two\n",
    "\n",
    "def polynomial_approx_range_one(x: float):\n",
    "    return a0 - (x-1) * (a1 - (x-1) * (a2 - a3*(x-1)))\n",
    "\n",
    "def polynomial_approx_range_two(x: float):\n",
    "    return b0 - (x-1.5) * (b1 - (x-1.5) * (b2 - b3*(x-1.5)))\n",
    "\n",
    "xs_one = np.linspace(1.0, 1.5, 10)\n",
    "poly_fit_one = polynomial_approx_range_one(xs_one)\n",
    "xs_two = np.linspace(1.5, 2.0, 10)\n",
    "poly_fit_two = polynomial_approx_range_two(xs_two)\n",
    "plt.plot(xs_one, np.abs(1.0 / xs_one**0.5 - poly_fit_one), marker='o', lw=0, label=\"range 1\")\n",
    "plt.plot(xs_two, np.abs(1.0 / xs_two**0.5 - poly_fit_two), marker='x', lw=0, label=\"range 2\")\n",
    "plt.legend()\n",
    "plt.xlabel(\"$x$\")\n",
    "plt.ylabel(\"Absolute Error\")\n",
    "plt.yscale(\"log\")\n",
    "plt.ylim([1e-6, 1e-4])"
   ]
  },
  {
   "cell_type": "markdown",
   "metadata": {},
   "source": [
    "Ok, that's pretty good. How does this compare after our step of Newton Raphson?"
   ]
  },
  {
   "cell_type": "code",
   "execution_count": 5,
   "metadata": {
    "execution": {
     "iopub.execute_input": "2023-10-30T23:23:57.352588Z",
     "iopub.status.busy": "2023-10-30T23:23:57.352388Z",
     "iopub.status.idle": "2023-10-30T23:23:57.354519Z",
     "shell.execute_reply": "2023-10-30T23:23:57.354264Z"
    }
   },
   "outputs": [],
   "source": [
    "def newton_raphson_step(x, y0, delta=0.0):\n",
    "    # This odd delta shift let's us reduce the error by about a factor of two.\n",
    "    # Try commenting it out and see what the max error is after this step.\n",
    "    yprime = 0.5 * y0 * (3 + delta - y0**2 * x) \n",
    "    return yprime\n",
    "delta_range_one = 5.1642030908180720584e-9\n",
    "delta_range_two = 3.6279794522852781448e-10"
   ]
  },
  {
   "cell_type": "code",
   "execution_count": 6,
   "metadata": {
    "execution": {
     "iopub.execute_input": "2023-10-30T23:23:57.356086Z",
     "iopub.status.busy": "2023-10-30T23:23:57.355966Z",
     "iopub.status.idle": "2023-10-30T23:23:57.357615Z",
     "shell.execute_reply": "2023-10-30T23:23:57.357381Z"
    }
   },
   "outputs": [],
   "source": [
    "nr_one = newton_raphson_step(xs_one, poly_fit_one, delta=delta_range_one)"
   ]
  },
  {
   "cell_type": "code",
   "execution_count": 7,
   "metadata": {
    "execution": {
     "iopub.execute_input": "2023-10-30T23:23:57.359043Z",
     "iopub.status.busy": "2023-10-30T23:23:57.358960Z",
     "iopub.status.idle": "2023-10-30T23:23:57.360545Z",
     "shell.execute_reply": "2023-10-30T23:23:57.360320Z"
    }
   },
   "outputs": [],
   "source": [
    "nr_two = newton_raphson_step(xs_two, poly_fit_two, delta=delta_range_two)"
   ]
  },
  {
   "cell_type": "code",
   "execution_count": 8,
   "metadata": {
    "execution": {
     "iopub.execute_input": "2023-10-30T23:23:57.361985Z",
     "iopub.status.busy": "2023-10-30T23:23:57.361897Z",
     "iopub.status.idle": "2023-10-30T23:23:57.485291Z",
     "shell.execute_reply": "2023-10-30T23:23:57.484985Z"
    }
   },
   "outputs": [
    {
     "data": {
      "text/plain": [
       "(1e-12, 1e-08)"
      ]
     },
     "execution_count": 8,
     "metadata": {},
     "output_type": "execute_result"
    },
    {
     "data": {
      "image/png": "[encoded data removed]",
      "text/plain": [
       "<Figure size 640x480 with 1 Axes>"
      ]
     },
     "metadata": {},
     "output_type": "display_data"
    }
   ],
   "source": [
    "plt.plot(xs_one, np.abs(1.0 / xs_one**0.5 - nr_one), marker='o', lw=0, label=\"range 1\")\n",
    "plt.plot(xs_two, np.abs(1.0 / xs_two**0.5 - nr_two), marker='x', lw=0, label=\"range 2\")\n",
    "plt.legend()\n",
    "plt.xlabel(\"$x$\")\n",
    "plt.ylabel(\"Absolute Error\")\n",
    "plt.yscale(\"log\")\n",
    "plt.ylim([1e-12, 1e-8])"
   ]
  },
  {
   "cell_type": "markdown",
   "metadata": {},
   "source": [
    "Ok great! We have a very accurate approximation to our function using if we can load some polynomial coefficients and perform some arithmetic. Next we will describe how we can use variable spaced QROM to efficiently load only a small amount of data to enable this procedure. \n",
    "\n",
    "## Variable Spaced QROM and Fitting the Entire Domain\n",
    "\n",
    "In this section we will discuss how we can use QROM along with function interpolation to approximate our function over the entire domain to high precision. But first let us convince ourselves that our two subintervals are sufficient and we can indeed fit our function by appropriately scaling our polynomial. For reasons that will become clear later, let us first group our allowed values of $r_{ij}^2$ in a logarithmic fashion as $0, 1, 2, 3, [4, 5], [6, 7], [8, 11], [12, 15], [16, 23], [24, 31], ...$ and so on. We can associate each of these integer intervals with our polynomial domains by noting that $[4, 5] = 2^2[1, 3/2]$, $[12, 15] = 2^3[3/2, 2]$, etc. Thus, we can evaluate our function for any value $r_{ij}^2$ after determining which \"bin\" it belongs to, determining the appropriate power of two, and scaling our polynomial appropriately. Let's test this below:"
   ]
  },
  {
   "cell_type": "code",
   "execution_count": 9,
   "metadata": {
    "execution": {
     "iopub.execute_input": "2023-10-30T23:23:57.487016Z",
     "iopub.status.busy": "2023-10-30T23:23:57.486886Z",
     "iopub.status.idle": "2023-10-30T23:23:57.562352Z",
     "shell.execute_reply": "2023-10-30T23:23:57.562031Z"
    }
   },
   "outputs": [
    {
     "name": "stdout",
     "output_type": "stream",
     "text": [
      "max error = 5.8675108801198306e-05 vs expected error = 3.0517578125e-05\n",
      "max error after NR step = 2.5821014215665627e-09\n"
     ]
    },
    {
     "data": {
      "image/png": "[encoded data removed]",
      "text/plain": [
       "<Figure size 640x480 with 1 Axes>"
      ]
     },
     "metadata": {},
     "output_type": "display_data"
    }
   ],
   "source": [
    "from typing import Union\n",
    "from numpy.typing import NDArray\n",
    "# Recall we are using x in place of rij^2 here.\n",
    "def polynomial_approx_range_one_scaling(x: Union[float, NDArray[float]], scale_power: int):\n",
    "    r\"\"\"Evaluate the polynomial approximation to 1/\\sqrt{x}.\n",
    "\n",
    "    Args:\n",
    "        x: Where to evaluate the polynomial. This is rij^2. \n",
    "        scale_power: The power of two required to scale x back into the interval [1, 3/2].\n",
    "    \n",
    "    Returns:\n",
    "        y: The polynomial approximation to 1/\\sqrt{x} (i.e. 1/r_{ij}) in the first interval [1, 3/2].\n",
    "    \"\"\"\n",
    "    a0_scl = a0 / 2**(scale_power/2.0)\n",
    "    a1_scl = a1 / 2**(3*scale_power/2.0)\n",
    "    a2_scl = a2 / 2**(5*scale_power/2.0)\n",
    "    a3_scl = a3 / 2**(7*scale_power/2.0)\n",
    "    return a0_scl - (x-2**scale_power) * (a1_scl - (x-2**scale_power) * (a2_scl - a3_scl*(x-2**scale_power)))\n",
    "\n",
    "def polynomial_approx_range_two_scaling(x: float, scale_power: int=0):\n",
    "    r\"\"\"Evaluate the polynomial approximation to 1/\\sqrt{x}.\n",
    "\n",
    "    Args:\n",
    "        x: Where to evaluate the polynomial. This is rij^2. \n",
    "        scale_power: The power of two required to scale x back into the interval [3/2, 2].\n",
    "    \n",
    "    Returns:\n",
    "        y: The polynomial approximation to 1/\\sqrt{x} (i.e. 1/r_{ij}) in the first interval [3/2, 2].\n",
    "    \"\"\"\n",
    "    b0_scl = b0 / 2**(scale_power/2.0)\n",
    "    b1_scl = b1 / 2**(3*scale_power/2.0)\n",
    "    b2_scl = b2 / 2**(5*scale_power/2.0)\n",
    "    b3_scl = b3 / 2**(7*scale_power/2.0)\n",
    "    return b0_scl - (x-1.5*2**scale_power) * (b1_scl - (x-1.5*2**scale_power) * (b2_scl - b3_scl*(x-1.5*2**scale_power)))\n",
    "\n",
    "# Number of bits to represent the grid\n",
    "nbits = (2*ng + 1).bit_length()\n",
    "# Number of bits for r^2\n",
    "nbits_rsq = 2*nbits + 2\n",
    "# Here we determine the appropriate bins into which we subdivide our r_{ij}^2 values.\n",
    "bins_one = {0: [1], 1: [2]} \n",
    "bins_two = {1: [3]}\n",
    "rsq = 2**2\n",
    "while rsq < 2**nbits_rsq:\n",
    "    bl = int(rsq).bit_length() - 1\n",
    "    bins_one[bl] = [k for k in range(rsq, rsq+2**(bl-1))]\n",
    "    rsq += 2**(bl-1)\n",
    "    bins_two[bl] = [k for k in range(rsq, rsq+2**(bl-1))]\n",
    "    rsq += 2**(bl-1)\n",
    "\n",
    "# Fit the polynomial over the whole range.\n",
    "poly_one = []\n",
    "poly_two = []\n",
    "rsq_one = []\n",
    "rsq_two = []\n",
    "# check for our actual allowed values of r^2 for the grid\n",
    "for rsq in rij_int**2:\n",
    "    bl = int(rsq).bit_length() - 1\n",
    "    if rsq in bins_one[bl]:\n",
    "        poly_one.append(polynomial_approx_range_one_scaling(rsq, scale_power=bl))\n",
    "        rsq_one.append(rsq)\n",
    "    elif rsq in bins_two[bl]:\n",
    "        poly_two.append(polynomial_approx_range_two_scaling(rsq, scale_power=bl))\n",
    "        rsq_two.append(rsq)\n",
    "    else:\n",
    "        raise ValueError(\"Could not find bin for rsq.\")\n",
    "\n",
    "plt.plot(rsq_one, poly_one, marker='o', lw=0, label='range one')\n",
    "plt.plot(rsq_two, poly_two, marker='x', lw=0, label='range two')\n",
    "plt.plot(rij_int**2, 1/rij_int, label='Expected')\n",
    "plt.legend()\n",
    "plt.xlabel(\"$r_{ij}^2$\")\n",
    "plt.ylabel(r\"$\\frac{1}{\\sqrt{r_{ij}^2}}$\")\n",
    "# Check the global error\n",
    "combined_r = np.concatenate([rsq_one, rsq_two])\n",
    "ix = np.argsort(combined_r)\n",
    "combined = np.concatenate([poly_one, poly_two])[ix]\n",
    "nr_one = newton_raphson_step(np.array(rsq_one), np.array(poly_one), delta_range_one)\n",
    "nr_two = newton_raphson_step(np.array(rsq_two), np.array(poly_two), delta_range_two)\n",
    "combined_nr = np.concatenate([nr_one, nr_two])[ix]\n",
    "print(f\"max error = {np.max(np.abs(combined - 1/rij_int))} vs expected error = {2**(-15)}\")\n",
    "print(f\"max error after NR step = {np.max(np.abs(combined_nr - 1/rij_int))}\")"
   ]
  },
  {
   "cell_type": "markdown",
   "metadata": {},
   "source": [
    "Ok! You might be wondering what is special about the intervals we chose to bin our integer $r_{ij}^2$ values by, and how QROM is connected with this. We'll try to explain that now.\n",
    "\n",
    "### QROM\n",
    "Recall that ultimately we need to load our polynomial coefficients onto the quantum computer before we can evaluate the inverse square root. Data loading can be achieved through QROM which implements: \n",
    "\n",
    "$$\n",
    "\\mathrm{QROM}_d \\sum_l \\alpha_l |l\\rangle|0\\rangle = \\sum_l \\alpha_l |l\\rangle|d_l\\rangle.\n",
    "$$\n",
    "\n",
    "That is, given a selection register $l$, QROM can load the binary representation of the $l$-th data element of $d$ into a target register of a given size.\n",
    "In our case $|r_{ij}^2\\rangle$ is the selection register of size $2 n + 2$, and we want to load $b$-bit binary representations of our polynomial coefficients $\\{a_0, a_1, a_2, a_3\\}$ and $\\{b_0, b_1, b_2, b_3\\}$ for the two ranges.\n",
    "\n",
    "In principle we could load all of the (scaled) coefficients for each value of $r_{ij}$ in the register, but this would incur a cost that goes like $L-1$ Toffolis, where $L=2^{2n + 2}$ which would be unacceptably large. But we just saw that much of this data would be duplicated as we only need the coefficients for each subinterval, of which there are a logarithmic amount. Fortunately we can exploit the structure of the unary iteration circuit to exploit this redundancy and significantly reduce our costs and arrive at variably space QROM.\n",
    "\n",
    "To understand where the reduction in cost comes from, consider the unary iteration circuit which is used during QROM construction. There, depending on the particular binary representation of the selection register, different parts of the tree are traversed before writing the data to a register. As we only care about certain subintervals (which were conveniently chosen as powers of two), we can delete parts of our unary iteration circuit where we want to repeat the data for that range of integers. The number of allowed integers in each range is determined in the following way: for the starting integer of the range $l$: if $k$ is the most significant bit of $l$, then the number of integers in our range is $2^{k-2}$ (we only bin integers when $k \\ge 2$). This is identical to how we set up our binning procedure earlier. Below is some code to generate the ranges given the values of the most significant bits of the selection register. "
   ]
  },
  {
   "cell_type": "code",
   "execution_count": 10,
   "metadata": {
    "execution": {
     "iopub.execute_input": "2023-10-30T23:23:57.563973Z",
     "iopub.status.busy": "2023-10-30T23:23:57.563884Z",
     "iopub.status.idle": "2023-10-30T23:23:57.570440Z",
     "shell.execute_reply": "2023-10-30T23:23:57.570195Z"
    }
   },
   "outputs": [
    {
     "name": "stdout",
     "output_type": "stream",
     "text": [
      "L = 16384\n",
      "l = 00000000000100, range = [    4,     5], length =    2 3\n",
      "l = 00000000000110, range = [    6,     7], length =    2 3\n",
      "l = 00000000001000, range = [    8,    11], length =    4 4\n",
      "l = 00000000001100, range = [   12,    15], length =    4 4\n",
      "l = 00000000010000, range = [   16,    23], length =    8 5\n",
      "l = 00000000011000, range = [   24,    31], length =    8 5\n",
      "l = 00000000100000, range = [   32,    47], length =   16 6\n",
      "l = 00000000110000, range = [   48,    63], length =   16 6\n",
      "l = 00000001000000, range = [   64,    95], length =   32 7\n",
      "l = 00000001100000, range = [   96,   127], length =   32 7\n",
      "l = 00000010000000, range = [  128,   191], length =   64 8\n",
      "l = 00000011000000, range = [  192,   255], length =   64 8\n",
      "l = 00000100000000, range = [  256,   383], length =  128 9\n",
      "l = 00000110000000, range = [  384,   511], length =  128 9\n",
      "l = 00001000000000, range = [  512,   767], length =  256 10\n",
      "l = 00001100000000, range = [  768,  1023], length =  256 10\n",
      "l = 00010000000000, range = [ 1024,  1535], length =  512 11\n",
      "l = 00011000000000, range = [ 1536,  2047], length =  512 11\n",
      "l = 00100000000000, range = [ 2048,  3071], length = 1024 12\n",
      "l = 00110000000000, range = [ 3072,  4095], length = 1024 12\n",
      "l = 01000000000000, range = [ 4096,  6143], length = 2048 13\n",
      "l = 01100000000000, range = [ 6144,  8191], length = 2048 13\n",
      "l = 10000000000000, range = [ 8192, 12287], length = 4096 14\n",
      "l = 11000000000000, range = [12288, 16383], length = 4096 14\n",
      "number of distinct regions g = 28. Toffoli cost g - 2 = 26\n"
     ]
    }
   ],
   "source": [
    "nbits = 6\n",
    "nbits_rij_sq = 2 * nbits + 2\n",
    "print(f\"L = {2**nbits_rij_sq}\")\n",
    "hit = True \n",
    "g = 0\n",
    "for l in range(0, 2**nbits_rij_sq):\n",
    "    k = l.bit_length()\n",
    "    if k > 2:\n",
    "        if l & (1 << (k-2)) and not hit:\n",
    "            hit = True\n",
    "            print(f\"l = {l:0{nbits_rij_sq}b}, range = [{l:5d}, {l+2**(k-2)-1:5d}], length = {2**(k-2):>4d} {k}\")\n",
    "            g += 1\n",
    "        if not l & (1 << (k - 2)) and hit:\n",
    "            hit = False\n",
    "            print(f\"l = {l:0{nbits_rij_sq}b}, range = [{l:5d}, {l+2**(k-2)-1:5d}], length = {2**(k-2):>4d} {k}\")\n",
    "            g += 1\n",
    "# Add four to account for 0, 1, 2, 3\n",
    "print(f\"number of distinct regions g = {g + 4}. Toffoli cost g - 2 = {g - 2 + 4}\")"
   ]
  },
  {
   "cell_type": "markdown",
   "metadata": {},
   "source": [
    "We see by the bit pattern that we can use the $k-1$ st bit to toggle between our two ranges [1, 3/2] and [3/2, 2]. The total Toffoli cost is then just g - 2, which is 26 if $r_{ij}^2$ is stored with 14 bits. Note we can store the coefficients to high precision as there is only a small clifford overhead associated with this. In the fusion paper 15 bits of precision is suggested as sufficient. \n",
    "\n",
    "To summarize we:\n",
    "\n",
    "1. Fit our function $1/x$ in two intervals [1, 3/2] and [3/2, 2].\n",
    "2. Given a value of $r_{ij}$, use variably spaced qrom to output the appropriately scaled polynomial coefficients.\n",
    "3. Evaluate the polynomial.\n",
    "4. Perform a single step of Newton Raphson.\n",
    "5. Apply a phase to our wavefunction."
   ]
  },
  {
   "cell_type": "markdown",
   "metadata": {},
   "source": [
    "## Trotter Unitaries\n",
    "\n",
    "Ok, now that we have the setup straight in our heads lets build our bloqs and perform resource estimations!"
   ]
  },
  {
   "cell_type": "markdown",
   "metadata": {},
   "source": [
    "## Kinetic Energy Bloq\n",
    "Recall that the kinetic energy is diagonal in the momentum basis, which we are assuming our state is in following a ```QFT```. The basic algorithm is then\n",
    "\n",
    "1. For each electron $i$ compute $|\\mathbf{k}^2 \\rangle = |k_x^2 + k_y^2 + k_j^2\\rangle$ of size $2n + 2$.\n",
    "2. Apply $e^{-i\\frac{\\delta t}{2} \\sum_i k^2_i }|\\psi\\rangle = \\prod_i e^{-i\\frac{\\delta t}{2} k_i^2}|\\psi\\rangle$, where the equality holds as each term in the sum commutes.\n",
    "\n",
    "Our bloq implementing this is below:"
   ]
  },
  {
   "cell_type": "code",
   "execution_count": 11,
   "metadata": {
    "execution": {
     "iopub.execute_input": "2023-10-30T23:23:57.571971Z",
     "iopub.status.busy": "2023-10-30T23:23:57.571888Z",
     "iopub.status.idle": "2023-10-30T23:23:57.641178Z",
     "shell.execute_reply": "2023-10-30T23:23:57.640835Z"
    }
   },
   "outputs": [
    {
     "data": {
      "image/svg+xml": [
       "<svg xmlns=\"http://www.w3.org/2000/svg\" xmlns:xlink=\"http://www.w3.org/1999/xlink\" width=\"327pt\" height=\"314pt\" viewBox=\"0.00 0.00 327.00 314.00\">\n",
       "<g id=\"graph0\" class=\"graph\" transform=\"scale(1 1) rotate(0) translate(4 310)\">\n",
       "<title>my_graph</title>\n",
       "<polygon fill=\"white\" stroke=\"none\" points=\"-4,4 -4,-310 323,-310 323,4 -4,4\"/>\n",
       "<!-- system_G4 -->\n",
       "<g id=\"node1\" class=\"node\">\n",
       "<title>system_G4</title>\n",
       "<text text-anchor=\"middle\" x=\"42.5\" y=\"-284.3\" font-family=\"Times,serif\" font-size=\"14.00\">system[0, 0]</text>\n",
       "</g>\n",
       "<!-- KineticEnergy -->\n",
       "<g id=\"node7\" class=\"node\">\n",
       "<title>KineticEnergy</title>\n",
       "<polygon fill=\"none\" stroke=\"black\" points=\"122.5,-216 122.5,-233 197.5,-233 197.5,-216 122.5,-216\"/>\n",
       "<text text-anchor=\"start\" x=\"143\" y=\"-222\" font-family=\"Times,serif\" font-size=\"10.00\">U_T(dt)</text>\n",
       "<polygon fill=\"none\" stroke=\"black\" points=\"122.5,-195 122.5,-216 197.5,-216 197.5,-195 122.5,-195\"/>\n",
       "<text text-anchor=\"start\" x=\"125.5\" y=\"-201.8\" font-family=\"Times,serif\" font-size=\"14.00\">system[0, 0]</text>\n",
       "<polygon fill=\"none\" stroke=\"black\" points=\"122.5,-174 122.5,-195 197.5,-195 197.5,-174 122.5,-174\"/>\n",
       "<text text-anchor=\"start\" x=\"125.5\" y=\"-180.8\" font-family=\"Times,serif\" font-size=\"14.00\">system[0, 1]</text>\n",
       "<polygon fill=\"none\" stroke=\"black\" points=\"122.5,-153 122.5,-174 197.5,-174 197.5,-153 122.5,-153\"/>\n",
       "<text text-anchor=\"start\" x=\"125.5\" y=\"-159.8\" font-family=\"Times,serif\" font-size=\"14.00\">system[0, 2]</text>\n",
       "<polygon fill=\"none\" stroke=\"black\" points=\"122.5,-132 122.5,-153 197.5,-153 197.5,-132 122.5,-132\"/>\n",
       "<text text-anchor=\"start\" x=\"125.5\" y=\"-138.8\" font-family=\"Times,serif\" font-size=\"14.00\">system[1, 0]</text>\n",
       "<polygon fill=\"none\" stroke=\"black\" points=\"122.5,-111 122.5,-132 197.5,-132 197.5,-111 122.5,-111\"/>\n",
       "<text text-anchor=\"start\" x=\"125.5\" y=\"-117.8\" font-family=\"Times,serif\" font-size=\"14.00\">system[1, 1]</text>\n",
       "<polygon fill=\"none\" stroke=\"black\" points=\"122.5,-90 122.5,-111 197.5,-111 197.5,-90 122.5,-90\"/>\n",
       "<text text-anchor=\"start\" x=\"125.5\" y=\"-96.8\" font-family=\"Times,serif\" font-size=\"14.00\">system[1, 2]</text>\n",
       "</g>\n",
       "<!-- system_G4&#45;&gt;KineticEnergy -->\n",
       "<g id=\"edge1\" class=\"edge\">\n",
       "<title>system_G4:e-&gt;KineticEnergy:w</title>\n",
       "<path fill=\"none\" stroke=\"black\" d=\"M85,-288C124.2,-288 83.66,-209.17 119.75,-206.09\"/>\n",
       "<ellipse fill=\"black\" stroke=\"black\" cx=\"121\" cy=\"-206.04\" rx=\"1\" ry=\"1\"/>\n",
       "<text text-anchor=\"middle\" x=\"103.5\" y=\"-273\" font-family=\"Times,serif\" font-size=\"10.00\">6</text>\n",
       "</g>\n",
       "<!-- system_G9 -->\n",
       "<g id=\"node2\" class=\"node\">\n",
       "<title>system_G9</title>\n",
       "<text text-anchor=\"middle\" x=\"42.5\" y=\"-230.3\" font-family=\"Times,serif\" font-size=\"14.00\">system[0, 1]</text>\n",
       "</g>\n",
       "<!-- system_G9&#45;&gt;KineticEnergy -->\n",
       "<g id=\"edge2\" class=\"edge\">\n",
       "<title>system_G9:e-&gt;KineticEnergy:w</title>\n",
       "<path fill=\"none\" stroke=\"black\" d=\"M85,-234C111.54,-234 95.64,-187.64 119.86,-185.11\"/>\n",
       "<ellipse fill=\"black\" stroke=\"black\" cx=\"121\" cy=\"-185.05\" rx=\"1\" ry=\"1\"/>\n",
       "<text text-anchor=\"middle\" x=\"103.5\" y=\"-213\" font-family=\"Times,serif\" font-size=\"10.00\">6</text>\n",
       "</g>\n",
       "<!-- system_G8 -->\n",
       "<g id=\"node3\" class=\"node\">\n",
       "<title>system_G8</title>\n",
       "<text text-anchor=\"middle\" x=\"42.5\" y=\"-176.3\" font-family=\"Times,serif\" font-size=\"14.00\">system[0, 2]</text>\n",
       "</g>\n",
       "<!-- system_G8&#45;&gt;KineticEnergy -->\n",
       "<g id=\"edge3\" class=\"edge\">\n",
       "<title>system_G8:e-&gt;KineticEnergy:w</title>\n",
       "<path fill=\"none\" stroke=\"black\" d=\"M85,-180C102.22,-180 103.97,-165.23 119.98,-164.07\"/>\n",
       "<ellipse fill=\"black\" stroke=\"black\" cx=\"121\" cy=\"-164.04\" rx=\"1\" ry=\"1\"/>\n",
       "<text text-anchor=\"middle\" x=\"103.5\" y=\"-175\" font-family=\"Times,serif\" font-size=\"10.00\">6</text>\n",
       "</g>\n",
       "<!-- system_G16 -->\n",
       "<g id=\"node4\" class=\"node\">\n",
       "<title>system_G16</title>\n",
       "<text text-anchor=\"middle\" x=\"42.5\" y=\"-122.3\" font-family=\"Times,serif\" font-size=\"14.00\">system[1, 0]</text>\n",
       "</g>\n",
       "<!-- system_G16&#45;&gt;KineticEnergy -->\n",
       "<g id=\"edge4\" class=\"edge\">\n",
       "<title>system_G16:e-&gt;KineticEnergy:w</title>\n",
       "<path fill=\"none\" stroke=\"black\" d=\"M85,-126C102.22,-126 103.97,-140.77 119.98,-141.93\"/>\n",
       "<ellipse fill=\"black\" stroke=\"black\" cx=\"121\" cy=\"-141.96\" rx=\"1\" ry=\"1\"/>\n",
       "<text text-anchor=\"middle\" x=\"103.5\" y=\"-137\" font-family=\"Times,serif\" font-size=\"10.00\">6</text>\n",
       "</g>\n",
       "<!-- system_G1 -->\n",
       "<g id=\"node5\" class=\"node\">\n",
       "<title>system_G1</title>\n",
       "<text text-anchor=\"middle\" x=\"42.5\" y=\"-68.3\" font-family=\"Times,serif\" font-size=\"14.00\">system[1, 1]</text>\n",
       "</g>\n",
       "<!-- system_G1&#45;&gt;KineticEnergy -->\n",
       "<g id=\"edge5\" class=\"edge\">\n",
       "<title>system_G1:e-&gt;KineticEnergy:w</title>\n",
       "<path fill=\"none\" stroke=\"black\" d=\"M85,-72C111.54,-72 95.64,-118.36 119.86,-120.89\"/>\n",
       "<ellipse fill=\"black\" stroke=\"black\" cx=\"121\" cy=\"-120.95\" rx=\"1\" ry=\"1\"/>\n",
       "<text text-anchor=\"middle\" x=\"103.5\" y=\"-100\" font-family=\"Times,serif\" font-size=\"10.00\">6</text>\n",
       "</g>\n",
       "<!-- system_G6 -->\n",
       "<g id=\"node6\" class=\"node\">\n",
       "<title>system_G6</title>\n",
       "<text text-anchor=\"middle\" x=\"42.5\" y=\"-14.3\" font-family=\"Times,serif\" font-size=\"14.00\">system[1, 2]</text>\n",
       "</g>\n",
       "<!-- system_G6&#45;&gt;KineticEnergy -->\n",
       "<g id=\"edge6\" class=\"edge\">\n",
       "<title>system_G6:e-&gt;KineticEnergy:w</title>\n",
       "<path fill=\"none\" stroke=\"black\" d=\"M85,-18C124.2,-18 83.66,-96.83 119.75,-99.91\"/>\n",
       "<ellipse fill=\"black\" stroke=\"black\" cx=\"121\" cy=\"-99.96\" rx=\"1\" ry=\"1\"/>\n",
       "<text text-anchor=\"middle\" x=\"103.5\" y=\"-85\" font-family=\"Times,serif\" font-size=\"10.00\">6</text>\n",
       "</g>\n",
       "<!-- system_G11 -->\n",
       "<g id=\"node8\" class=\"node\">\n",
       "<title>system_G11</title>\n",
       "<text text-anchor=\"middle\" x=\"276.5\" y=\"-284.3\" font-family=\"Times,serif\" font-size=\"14.00\">system[0, 0]</text>\n",
       "</g>\n",
       "<!-- KineticEnergy&#45;&gt;system_G11 -->\n",
       "<g id=\"edge7\" class=\"edge\">\n",
       "<title>KineticEnergy:e-&gt;system_G11:w</title>\n",
       "<path fill=\"none\" stroke=\"black\" d=\"M197,-206C236.2,-206 195.66,-284.83 231.75,-287.91\"/>\n",
       "<ellipse fill=\"black\" stroke=\"black\" cx=\"233\" cy=\"-287.96\" rx=\"1\" ry=\"1\"/>\n",
       "<text text-anchor=\"middle\" x=\"215.5\" y=\"-273\" font-family=\"Times,serif\" font-size=\"10.00\">6</text>\n",
       "</g>\n",
       "<!-- system_G15 -->\n",
       "<g id=\"node9\" class=\"node\">\n",
       "<title>system_G15</title>\n",
       "<text text-anchor=\"middle\" x=\"276.5\" y=\"-230.3\" font-family=\"Times,serif\" font-size=\"14.00\">system[0, 1]</text>\n",
       "</g>\n",
       "<!-- KineticEnergy&#45;&gt;system_G15 -->\n",
       "<g id=\"edge8\" class=\"edge\">\n",
       "<title>KineticEnergy:e-&gt;system_G15:w</title>\n",
       "<path fill=\"none\" stroke=\"black\" d=\"M197,-185C223.54,-185 207.64,-231.36 231.86,-233.89\"/>\n",
       "<ellipse fill=\"black\" stroke=\"black\" cx=\"233\" cy=\"-233.95\" rx=\"1\" ry=\"1\"/>\n",
       "<text text-anchor=\"middle\" x=\"215.5\" y=\"-213\" font-family=\"Times,serif\" font-size=\"10.00\">6</text>\n",
       "</g>\n",
       "<!-- system_G13 -->\n",
       "<g id=\"node10\" class=\"node\">\n",
       "<title>system_G13</title>\n",
       "<text text-anchor=\"middle\" x=\"276.5\" y=\"-176.3\" font-family=\"Times,serif\" font-size=\"14.00\">system[0, 2]</text>\n",
       "</g>\n",
       "<!-- KineticEnergy&#45;&gt;system_G13 -->\n",
       "<g id=\"edge9\" class=\"edge\">\n",
       "<title>KineticEnergy:e-&gt;system_G13:w</title>\n",
       "<path fill=\"none\" stroke=\"black\" d=\"M197,-164C214.22,-164 215.97,-178.77 231.98,-179.93\"/>\n",
       "<ellipse fill=\"black\" stroke=\"black\" cx=\"233\" cy=\"-179.96\" rx=\"1\" ry=\"1\"/>\n",
       "<text text-anchor=\"middle\" x=\"215.5\" y=\"-175\" font-family=\"Times,serif\" font-size=\"10.00\">6</text>\n",
       "</g>\n",
       "<!-- system_G3 -->\n",
       "<g id=\"node11\" class=\"node\">\n",
       "<title>system_G3</title>\n",
       "<text text-anchor=\"middle\" x=\"276.5\" y=\"-122.3\" font-family=\"Times,serif\" font-size=\"14.00\">system[1, 0]</text>\n",
       "</g>\n",
       "<!-- KineticEnergy&#45;&gt;system_G3 -->\n",
       "<g id=\"edge10\" class=\"edge\">\n",
       "<title>KineticEnergy:e-&gt;system_G3:w</title>\n",
       "<path fill=\"none\" stroke=\"black\" d=\"M197,-142C214.22,-142 215.97,-127.23 231.98,-126.07\"/>\n",
       "<ellipse fill=\"black\" stroke=\"black\" cx=\"233\" cy=\"-126.04\" rx=\"1\" ry=\"1\"/>\n",
       "<text text-anchor=\"middle\" x=\"215.5\" y=\"-137\" font-family=\"Times,serif\" font-size=\"10.00\">6</text>\n",
       "</g>\n",
       "<!-- system_G7 -->\n",
       "<g id=\"node12\" class=\"node\">\n",
       "<title>system_G7</title>\n",
       "<text text-anchor=\"middle\" x=\"276.5\" y=\"-68.3\" font-family=\"Times,serif\" font-size=\"14.00\">system[1, 1]</text>\n",
       "</g>\n",
       "<!-- KineticEnergy&#45;&gt;system_G7 -->\n",
       "<g id=\"edge11\" class=\"edge\">\n",
       "<title>KineticEnergy:e-&gt;system_G7:w</title>\n",
       "<path fill=\"none\" stroke=\"black\" d=\"M197,-121C223.54,-121 207.64,-74.64 231.86,-72.11\"/>\n",
       "<ellipse fill=\"black\" stroke=\"black\" cx=\"233\" cy=\"-72.05\" rx=\"1\" ry=\"1\"/>\n",
       "<text text-anchor=\"middle\" x=\"215.5\" y=\"-100\" font-family=\"Times,serif\" font-size=\"10.00\">6</text>\n",
       "</g>\n",
       "<!-- system_G12 -->\n",
       "<g id=\"node13\" class=\"node\">\n",
       "<title>system_G12</title>\n",
       "<text text-anchor=\"middle\" x=\"276.5\" y=\"-14.3\" font-family=\"Times,serif\" font-size=\"14.00\">system[1, 2]</text>\n",
       "</g>\n",
       "<!-- KineticEnergy&#45;&gt;system_G12 -->\n",
       "<g id=\"edge12\" class=\"edge\">\n",
       "<title>KineticEnergy:e-&gt;system_G12:w</title>\n",
       "<path fill=\"none\" stroke=\"black\" d=\"M197,-100C236.2,-100 195.66,-21.17 231.75,-18.09\"/>\n",
       "<ellipse fill=\"black\" stroke=\"black\" cx=\"233\" cy=\"-18.04\" rx=\"1\" ry=\"1\"/>\n",
       "<text text-anchor=\"middle\" x=\"215.5\" y=\"-85\" font-family=\"Times,serif\" font-size=\"10.00\">6</text>\n",
       "</g>\n",
       "</g>\n",
       "</svg>"
      ],
      "text/plain": [
       "<IPython.core.display.SVG object>"
      ]
     },
     "metadata": {},
     "output_type": "display_data"
    }
   ],
   "source": [
    "from qualtran.bloqs.chemistry.trotter import KineticEnergy \n",
    "from qualtran.drawing import show_bloq\n",
    "num_elec = 2\n",
    "num_grid_each_dim = 2*10 + 1\n",
    "ke_bloq = KineticEnergy(num_elec, num_grid_each_dim)\n",
    "show_bloq(ke_bloq)"
   ]
  },
  {
   "cell_type": "code",
   "execution_count": 12,
   "metadata": {
    "execution": {
     "iopub.execute_input": "2023-10-30T23:23:57.642967Z",
     "iopub.status.busy": "2023-10-30T23:23:57.642856Z",
     "iopub.status.idle": "2023-10-30T23:23:57.645343Z",
     "shell.execute_reply": "2023-10-30T23:23:57.645078Z"
    }
   },
   "outputs": [
    {
     "name": "stdout",
     "output_type": "stream",
     "text": [
      "T-count:   2264\n",
      "Rotations: 0\n",
      "Cliffords: 0\n",
      "\n"
     ]
    }
   ],
   "source": [
    "print(ke_bloq.t_complexity())"
   ]
  },
  {
   "cell_type": "markdown",
   "metadata": {},
   "source": [
    "## Potential Energy Bloq\n",
    "\n",
    "Here we consider the electron-electron interaction\n",
    "\\begin{align}\n",
    "V &= \\sum_{i < j} \\frac{1}{|r_i-r_j|} \\\\\n",
    "  &= \\sum_{i < j} V_{ij}\n",
    "\\end{align}\n",
    "Again, as the individual terms commute (diagonal in our real space grid basis), we can decompose our unitary into a product of $\\eta (\\eta - 1)$ unitaries implementing all of the $V_{ij}$ pair potentials:"
   ]
  },
  {
   "cell_type": "code",
   "execution_count": 13,
   "metadata": {
    "execution": {
     "iopub.execute_input": "2023-10-30T23:23:57.646979Z",
     "iopub.status.busy": "2023-10-30T23:23:57.646871Z",
     "iopub.status.idle": "2023-10-30T23:23:57.754980Z",
     "shell.execute_reply": "2023-10-30T23:23:57.754686Z"
    }
   },
   "outputs": [
    {
     "data": {
      "image/svg+xml": [
       "<svg xmlns=\"http://www.w3.org/2000/svg\" xmlns:xlink=\"http://www.w3.org/1999/xlink\" width=\"323pt\" height=\"314pt\" viewBox=\"0.00 0.00 323.00 314.00\">\n",
       "<g id=\"graph0\" class=\"graph\" transform=\"scale(1 1) rotate(0) translate(4 310)\">\n",
       "<title>my_graph</title>\n",
       "<polygon fill=\"white\" stroke=\"none\" points=\"-4,4 -4,-310 319,-310 319,4 -4,4\"/>\n",
       "<!-- system_G1 -->\n",
       "<g id=\"node1\" class=\"node\">\n",
       "<title>system_G1</title>\n",
       "<text text-anchor=\"middle\" x=\"42.5\" y=\"-284.3\" font-family=\"Times,serif\" font-size=\"14.00\">system[0, 0]</text>\n",
       "</g>\n",
       "<!-- PairPotential -->\n",
       "<g id=\"node7\" class=\"node\">\n",
       "<title>PairPotential</title>\n",
       "<polygon fill=\"none\" stroke=\"black\" points=\"122.5,-216 122.5,-233 193.5,-233 193.5,-216 122.5,-216\"/>\n",
       "<text text-anchor=\"start\" x=\"135\" y=\"-222\" font-family=\"Times,serif\" font-size=\"10.00\">U_V(dt)_ij</text>\n",
       "<polygon fill=\"none\" stroke=\"black\" points=\"122.5,-195 122.5,-216 193.5,-216 193.5,-195 122.5,-195\"/>\n",
       "<text text-anchor=\"start\" x=\"125.5\" y=\"-201.8\" font-family=\"Times,serif\" font-size=\"14.00\">system_i[0]</text>\n",
       "<polygon fill=\"none\" stroke=\"black\" points=\"122.5,-174 122.5,-195 193.5,-195 193.5,-174 122.5,-174\"/>\n",
       "<text text-anchor=\"start\" x=\"125.5\" y=\"-180.8\" font-family=\"Times,serif\" font-size=\"14.00\">system_i[1]</text>\n",
       "<polygon fill=\"none\" stroke=\"black\" points=\"122.5,-153 122.5,-174 193.5,-174 193.5,-153 122.5,-153\"/>\n",
       "<text text-anchor=\"start\" x=\"125.5\" y=\"-159.8\" font-family=\"Times,serif\" font-size=\"14.00\">system_i[2]</text>\n",
       "<polygon fill=\"none\" stroke=\"black\" points=\"122.5,-132 122.5,-153 193.5,-153 193.5,-132 122.5,-132\"/>\n",
       "<text text-anchor=\"start\" x=\"125.5\" y=\"-138.8\" font-family=\"Times,serif\" font-size=\"14.00\">system_j[0]</text>\n",
       "<polygon fill=\"none\" stroke=\"black\" points=\"122.5,-111 122.5,-132 193.5,-132 193.5,-111 122.5,-111\"/>\n",
       "<text text-anchor=\"start\" x=\"125.5\" y=\"-117.8\" font-family=\"Times,serif\" font-size=\"14.00\">system_j[1]</text>\n",
       "<polygon fill=\"none\" stroke=\"black\" points=\"122.5,-90 122.5,-111 193.5,-111 193.5,-90 122.5,-90\"/>\n",
       "<text text-anchor=\"start\" x=\"125.5\" y=\"-96.8\" font-family=\"Times,serif\" font-size=\"14.00\">system_j[2]</text>\n",
       "</g>\n",
       "<!-- system_G1&#45;&gt;PairPotential -->\n",
       "<g id=\"edge1\" class=\"edge\">\n",
       "<title>system_G1:e-&gt;PairPotential:w</title>\n",
       "<path fill=\"none\" stroke=\"black\" d=\"M85,-288C124.2,-288 83.66,-209.17 119.75,-206.09\"/>\n",
       "<ellipse fill=\"black\" stroke=\"black\" cx=\"121\" cy=\"-206.04\" rx=\"1\" ry=\"1\"/>\n",
       "<text text-anchor=\"middle\" x=\"103.5\" y=\"-273\" font-family=\"Times,serif\" font-size=\"10.00\">6</text>\n",
       "</g>\n",
       "<!-- system_G8 -->\n",
       "<g id=\"node2\" class=\"node\">\n",
       "<title>system_G8</title>\n",
       "<text text-anchor=\"middle\" x=\"42.5\" y=\"-230.3\" font-family=\"Times,serif\" font-size=\"14.00\">system[0, 1]</text>\n",
       "</g>\n",
       "<!-- system_G8&#45;&gt;PairPotential -->\n",
       "<g id=\"edge2\" class=\"edge\">\n",
       "<title>system_G8:e-&gt;PairPotential:w</title>\n",
       "<path fill=\"none\" stroke=\"black\" d=\"M85,-234C111.54,-234 95.64,-187.64 119.86,-185.11\"/>\n",
       "<ellipse fill=\"black\" stroke=\"black\" cx=\"121\" cy=\"-185.05\" rx=\"1\" ry=\"1\"/>\n",
       "<text text-anchor=\"middle\" x=\"103.5\" y=\"-213\" font-family=\"Times,serif\" font-size=\"10.00\">6</text>\n",
       "</g>\n",
       "<!-- system_G4 -->\n",
       "<g id=\"node3\" class=\"node\">\n",
       "<title>system_G4</title>\n",
       "<text text-anchor=\"middle\" x=\"42.5\" y=\"-176.3\" font-family=\"Times,serif\" font-size=\"14.00\">system[0, 2]</text>\n",
       "</g>\n",
       "<!-- system_G4&#45;&gt;PairPotential -->\n",
       "<g id=\"edge3\" class=\"edge\">\n",
       "<title>system_G4:e-&gt;PairPotential:w</title>\n",
       "<path fill=\"none\" stroke=\"black\" d=\"M85,-180C102.22,-180 103.97,-165.23 119.98,-164.07\"/>\n",
       "<ellipse fill=\"black\" stroke=\"black\" cx=\"121\" cy=\"-164.04\" rx=\"1\" ry=\"1\"/>\n",
       "<text text-anchor=\"middle\" x=\"103.5\" y=\"-175\" font-family=\"Times,serif\" font-size=\"10.00\">6</text>\n",
       "</g>\n",
       "<!-- system_G16 -->\n",
       "<g id=\"node4\" class=\"node\">\n",
       "<title>system_G16</title>\n",
       "<text text-anchor=\"middle\" x=\"42.5\" y=\"-122.3\" font-family=\"Times,serif\" font-size=\"14.00\">system[1, 0]</text>\n",
       "</g>\n",
       "<!-- system_G16&#45;&gt;PairPotential -->\n",
       "<g id=\"edge4\" class=\"edge\">\n",
       "<title>system_G16:e-&gt;PairPotential:w</title>\n",
       "<path fill=\"none\" stroke=\"black\" d=\"M85,-126C102.22,-126 103.97,-140.77 119.98,-141.93\"/>\n",
       "<ellipse fill=\"black\" stroke=\"black\" cx=\"121\" cy=\"-141.96\" rx=\"1\" ry=\"1\"/>\n",
       "<text text-anchor=\"middle\" x=\"103.5\" y=\"-137\" font-family=\"Times,serif\" font-size=\"10.00\">6</text>\n",
       "</g>\n",
       "<!-- system -->\n",
       "<g id=\"node5\" class=\"node\">\n",
       "<title>system</title>\n",
       "<text text-anchor=\"middle\" x=\"42.5\" y=\"-68.3\" font-family=\"Times,serif\" font-size=\"14.00\">system[1, 1]</text>\n",
       "</g>\n",
       "<!-- system&#45;&gt;PairPotential -->\n",
       "<g id=\"edge5\" class=\"edge\">\n",
       "<title>system:e-&gt;PairPotential:w</title>\n",
       "<path fill=\"none\" stroke=\"black\" d=\"M85,-72C111.54,-72 95.64,-118.36 119.86,-120.89\"/>\n",
       "<ellipse fill=\"black\" stroke=\"black\" cx=\"121\" cy=\"-120.95\" rx=\"1\" ry=\"1\"/>\n",
       "<text text-anchor=\"middle\" x=\"103.5\" y=\"-100\" font-family=\"Times,serif\" font-size=\"10.00\">6</text>\n",
       "</g>\n",
       "<!-- system_G2 -->\n",
       "<g id=\"node6\" class=\"node\">\n",
       "<title>system_G2</title>\n",
       "<text text-anchor=\"middle\" x=\"42.5\" y=\"-14.3\" font-family=\"Times,serif\" font-size=\"14.00\">system[1, 2]</text>\n",
       "</g>\n",
       "<!-- system_G2&#45;&gt;PairPotential -->\n",
       "<g id=\"edge6\" class=\"edge\">\n",
       "<title>system_G2:e-&gt;PairPotential:w</title>\n",
       "<path fill=\"none\" stroke=\"black\" d=\"M85,-18C124.2,-18 83.66,-96.83 119.75,-99.91\"/>\n",
       "<ellipse fill=\"black\" stroke=\"black\" cx=\"121\" cy=\"-99.96\" rx=\"1\" ry=\"1\"/>\n",
       "<text text-anchor=\"middle\" x=\"103.5\" y=\"-85\" font-family=\"Times,serif\" font-size=\"10.00\">6</text>\n",
       "</g>\n",
       "<!-- system_G9 -->\n",
       "<g id=\"node8\" class=\"node\">\n",
       "<title>system_G9</title>\n",
       "<text text-anchor=\"middle\" x=\"272.5\" y=\"-284.3\" font-family=\"Times,serif\" font-size=\"14.00\">system[0, 0]</text>\n",
       "</g>\n",
       "<!-- PairPotential&#45;&gt;system_G9 -->\n",
       "<g id=\"edge7\" class=\"edge\">\n",
       "<title>PairPotential:e-&gt;system_G9:w</title>\n",
       "<path fill=\"none\" stroke=\"black\" d=\"M193,-206C232.2,-206 191.66,-284.83 227.75,-287.91\"/>\n",
       "<ellipse fill=\"black\" stroke=\"black\" cx=\"229\" cy=\"-287.96\" rx=\"1\" ry=\"1\"/>\n",
       "<text text-anchor=\"middle\" x=\"211.5\" y=\"-273\" font-family=\"Times,serif\" font-size=\"10.00\">6</text>\n",
       "</g>\n",
       "<!-- system_G15 -->\n",
       "<g id=\"node9\" class=\"node\">\n",
       "<title>system_G15</title>\n",
       "<text text-anchor=\"middle\" x=\"272.5\" y=\"-230.3\" font-family=\"Times,serif\" font-size=\"14.00\">system[0, 1]</text>\n",
       "</g>\n",
       "<!-- PairPotential&#45;&gt;system_G15 -->\n",
       "<g id=\"edge8\" class=\"edge\">\n",
       "<title>PairPotential:e-&gt;system_G15:w</title>\n",
       "<path fill=\"none\" stroke=\"black\" d=\"M193,-185C219.54,-185 203.64,-231.36 227.86,-233.89\"/>\n",
       "<ellipse fill=\"black\" stroke=\"black\" cx=\"229\" cy=\"-233.95\" rx=\"1\" ry=\"1\"/>\n",
       "<text text-anchor=\"middle\" x=\"211.5\" y=\"-213\" font-family=\"Times,serif\" font-size=\"10.00\">6</text>\n",
       "</g>\n",
       "<!-- system_G14 -->\n",
       "<g id=\"node10\" class=\"node\">\n",
       "<title>system_G14</title>\n",
       "<text text-anchor=\"middle\" x=\"272.5\" y=\"-176.3\" font-family=\"Times,serif\" font-size=\"14.00\">system[0, 2]</text>\n",
       "</g>\n",
       "<!-- PairPotential&#45;&gt;system_G14 -->\n",
       "<g id=\"edge9\" class=\"edge\">\n",
       "<title>PairPotential:e-&gt;system_G14:w</title>\n",
       "<path fill=\"none\" stroke=\"black\" d=\"M193,-164C210.22,-164 211.97,-178.77 227.98,-179.93\"/>\n",
       "<ellipse fill=\"black\" stroke=\"black\" cx=\"229\" cy=\"-179.96\" rx=\"1\" ry=\"1\"/>\n",
       "<text text-anchor=\"middle\" x=\"211.5\" y=\"-175\" font-family=\"Times,serif\" font-size=\"10.00\">6</text>\n",
       "</g>\n",
       "<!-- system_G0 -->\n",
       "<g id=\"node11\" class=\"node\">\n",
       "<title>system_G0</title>\n",
       "<text text-anchor=\"middle\" x=\"272.5\" y=\"-122.3\" font-family=\"Times,serif\" font-size=\"14.00\">system[1, 0]</text>\n",
       "</g>\n",
       "<!-- PairPotential&#45;&gt;system_G0 -->\n",
       "<g id=\"edge10\" class=\"edge\">\n",
       "<title>PairPotential:e-&gt;system_G0:w</title>\n",
       "<path fill=\"none\" stroke=\"black\" d=\"M193,-142C210.22,-142 211.97,-127.23 227.98,-126.07\"/>\n",
       "<ellipse fill=\"black\" stroke=\"black\" cx=\"229\" cy=\"-126.04\" rx=\"1\" ry=\"1\"/>\n",
       "<text text-anchor=\"middle\" x=\"211.5\" y=\"-137\" font-family=\"Times,serif\" font-size=\"10.00\">6</text>\n",
       "</g>\n",
       "<!-- system_G3 -->\n",
       "<g id=\"node12\" class=\"node\">\n",
       "<title>system_G3</title>\n",
       "<text text-anchor=\"middle\" x=\"272.5\" y=\"-68.3\" font-family=\"Times,serif\" font-size=\"14.00\">system[1, 1]</text>\n",
       "</g>\n",
       "<!-- PairPotential&#45;&gt;system_G3 -->\n",
       "<g id=\"edge11\" class=\"edge\">\n",
       "<title>PairPotential:e-&gt;system_G3:w</title>\n",
       "<path fill=\"none\" stroke=\"black\" d=\"M193,-121C219.54,-121 203.64,-74.64 227.86,-72.11\"/>\n",
       "<ellipse fill=\"black\" stroke=\"black\" cx=\"229\" cy=\"-72.05\" rx=\"1\" ry=\"1\"/>\n",
       "<text text-anchor=\"middle\" x=\"211.5\" y=\"-100\" font-family=\"Times,serif\" font-size=\"10.00\">6</text>\n",
       "</g>\n",
       "<!-- system_G12 -->\n",
       "<g id=\"node13\" class=\"node\">\n",
       "<title>system_G12</title>\n",
       "<text text-anchor=\"middle\" x=\"272.5\" y=\"-14.3\" font-family=\"Times,serif\" font-size=\"14.00\">system[1, 2]</text>\n",
       "</g>\n",
       "<!-- PairPotential&#45;&gt;system_G12 -->\n",
       "<g id=\"edge12\" class=\"edge\">\n",
       "<title>PairPotential:e-&gt;system_G12:w</title>\n",
       "<path fill=\"none\" stroke=\"black\" d=\"M193,-100C232.2,-100 191.66,-21.17 227.75,-18.09\"/>\n",
       "<ellipse fill=\"black\" stroke=\"black\" cx=\"229\" cy=\"-18.04\" rx=\"1\" ry=\"1\"/>\n",
       "<text text-anchor=\"middle\" x=\"211.5\" y=\"-85\" font-family=\"Times,serif\" font-size=\"10.00\">6</text>\n",
       "</g>\n",
       "</g>\n",
       "</svg>"
      ],
      "text/plain": [
       "<IPython.core.display.SVG object>"
      ]
     },
     "metadata": {},
     "output_type": "display_data"
    },
    {
     "name": "stdout",
     "output_type": "stream",
     "text": [
      "T-count:   10148\n",
      "Rotations: 0\n",
      "Cliffords: 2477\n",
      "\n"
     ]
    }
   ],
   "source": [
    "from qualtran.bloqs.chemistry.trotter import PotentialEnergy\n",
    "from qualtran.drawing import show_bloq, show_call_graph\n",
    "num_elec = 2\n",
    "num_grid_each_dim = 2*10 + 1\n",
    "coeffs_a = []\n",
    "pe_bloq = PotentialEnergy(num_elec, num_grid_each_dim)\n",
    "show_bloq(pe_bloq.decompose_bloq())\n",
    "print(pe_bloq.t_complexity())"
   ]
  },
  {
   "cell_type": "markdown",
   "metadata": {},
   "source": [
    "Our $V_{ij}$ bloq then implements the steps discussed previously, let's have a look:"
   ]
  },
  {
   "cell_type": "code",
   "execution_count": 14,
   "metadata": {
    "execution": {
     "iopub.execute_input": "2023-10-30T23:23:57.756730Z",
     "iopub.status.busy": "2023-10-30T23:23:57.756613Z",
     "iopub.status.idle": "2023-10-30T23:23:57.772210Z",
     "shell.execute_reply": "2023-10-30T23:23:57.771861Z"
    }
   },
   "outputs": [
    {
     "name": "stdout",
     "output_type": "stream",
     "text": [
      "T-count:   10148\n",
      "Rotations: 0\n",
      "Cliffords: 2477\n"
     ]
    },
    {
     "name": "stdout",
     "output_type": "stream",
     "text": [
      "\n"
     ]
    }
   ],
   "source": [
    "from qualtran.bloqs.chemistry.trotter import PairPotential\n",
    "from qualtran.bloqs.chemistry.trotter.inverse_sqrt import build_qrom_data_for_poly_fit\n",
    "poly_coeffs = get_inverse_square_root_poly_coeffs()\n",
    "num_elec = 2\n",
    "num_grid_each_dim = 2*10 + 1\n",
    "nbits = 6\n",
    "qrom_data = build_qrom_data_for_poly_fit(2*nbits+2, 15, poly_coeffs)\n",
    "qrom_data = tuple(tuple(int(k) for k in d) for d in qrom_data)\n",
    "pp_bloq = PairPotential(nbits, qrom_data, poly_bitsize=15)\n",
    "print(pp_bloq.t_complexity())"
   ]
  },
  {
   "cell_type": "markdown",
   "metadata": {},
   "source": [
    "## Comparison to Costs in Paper\n",
    "\n",
    "We're now in a position to compare our qualtran costs to those in the paper, which were rough estimates."
   ]
  },
  {
   "cell_type": "code",
   "execution_count": 15,
   "metadata": {
    "execution": {
     "iopub.execute_input": "2023-10-30T23:23:57.773739Z",
     "iopub.status.busy": "2023-10-30T23:23:57.773644Z",
     "iopub.status.idle": "2023-10-30T23:23:57.777681Z",
     "shell.execute_reply": "2023-10-30T23:23:57.777381Z"
    }
   },
   "outputs": [],
   "source": [
    "import attrs\n",
    "import cirq\n",
    "\n",
    "from qualtran.resource_counting import SympySymbolAllocator\n",
    "from qualtran.drawing import GraphvizCounts\n",
    "from qualtran.bloqs.util_bloqs import Split, Join, Allocate, Free\n",
    "from qualtran.bloqs.basic_gates.rotation import RotationBloq\n",
    "from qualtran.cirq_interop import CirqGateAsBloq\n",
    "from qualtran.bloqs.and_bloq import And\n",
    "\n",
    "# Ignore some parts of the decomposition which aren't helpful for visualization.\n",
    "ssa = SympySymbolAllocator()\n",
    "phi = ssa.new_symbol('phi')\n",
    "and_cv0 = ssa.new_symbol('cv0')\n",
    "and_cv1 = ssa.new_symbol('cv1')\n",
    "\n",
    "def custom_repr(self):\n",
    "    selection_repr = repr(self.selection_bitsizes)\n",
    "    target_repr = repr(self.target_bitsizes)\n",
    "    return (f\"QROM(selection_bitsizes={selection_repr}, \"\n",
    "        f\"target_bitsizes={target_repr}, num_controls={self.num_controls})\"\n",
    "    )\n",
    "\n",
    "cirq_cliffords_ignore = (\n",
    "    cirq.ops.common_gates.HPowGate,\n",
    "    cirq.ops.common_gates.XPowGate,\n",
    "    cirq.ops.common_gates.YPowGate,\n",
    "    cirq.ops.common_gates.ZPowGate,\n",
    "    cirq.ops.common_gates.CXPowGate,\n",
    ")\n",
    "def generalize(bloq):\n",
    "    if isinstance(bloq, CirqGateAsBloq):\n",
    "        if isinstance(bloq.gate, And) and (len(bloq.gate.cv) == 2):\n",
    "            return And(cv1=and_cv0, cv2=and_cv1, adjoint=bloq.gate.adjoint)\n",
    "        if isinstance(bloq.gate, cirq_cliffords_ignore):\n",
    "            return None\n",
    "    if isinstance(bloq, (Join, Split, Allocate, Free)):\n",
    "        return None\n",
    "    if isinstance(bloq, RotationBloq):\n",
    "        return attrs.evolve(bloq, angle=phi)\n",
    "    return bloq"
   ]
  },
  {
   "cell_type": "code",
   "execution_count": 16,
   "metadata": {
    "execution": {
     "iopub.execute_input": "2023-10-30T23:23:57.779249Z",
     "iopub.status.busy": "2023-10-30T23:23:57.779161Z",
     "iopub.status.idle": "2023-10-30T23:23:57.850179Z",
     "shell.execute_reply": "2023-10-30T23:23:57.849856Z"
    }
   },
   "outputs": [
    {
     "data": {
      "image/svg+xml": [
       "<svg xmlns=\"http://www.w3.org/2000/svg\" xmlns:xlink=\"http://www.w3.org/1999/xlink\" width=\"313pt\" height=\"305pt\" viewBox=\"0.00 0.00 313.00 305.00\">\n",
       "<g id=\"graph0\" class=\"graph\" transform=\"scale(1 1) rotate(0) translate(4 301)\">\n",
       "<title>counts</title>\n",
       "<polygon fill=\"white\" stroke=\"none\" points=\"-4,4 -4,-301 309,-301 309,4 -4,4\"/>\n",
       "<!-- b0 -->\n",
       "<g id=\"node1\" class=\"node\">\n",
       "<title>b0</title>\n",
       "<polygon fill=\"none\" stroke=\"black\" points=\"305,-297 0,-297 0,-261 305,-261 305,-297\"/>\n",
       "<text text-anchor=\"start\" x=\"34\" y=\"-280.8\" font-family=\"Times,serif\" font-size=\"14.00\">PolynmomialEvaluationInverseSquareRoot</text>\n",
       "<text text-anchor=\"start\" x=\"8\" y=\"-270\" font-family=\"monospace\" font-size=\"10.00\">x_sq_bitsize=14, poly_bitsize=15, out_bitsize=24</text>\n",
       "</g>\n",
       "<!-- b1 -->\n",
       "<g id=\"node2\" class=\"node\">\n",
       "<title>b1</title>\n",
       "<polygon fill=\"none\" stroke=\"black\" points=\"133,-210 56,-210 56,-174 133,-174 133,-210\"/>\n",
       "<text text-anchor=\"start\" x=\"82.5\" y=\"-193.8\" font-family=\"Times,serif\" font-size=\"14.00\">Add</text>\n",
       "<text text-anchor=\"start\" x=\"64\" y=\"-183\" font-family=\"monospace\" font-size=\"10.00\">bitsize=15</text>\n",
       "</g>\n",
       "<!-- b0&#45;&gt;b1 -->\n",
       "<g id=\"edge1\" class=\"edge\">\n",
       "<title>b0-&gt;b1</title>\n",
       "<path fill=\"none\" stroke=\"black\" d=\"M140.76,-260.8C132.51,-248.7 121.32,-232.3 112.01,-218.67\"/>\n",
       "<polygon fill=\"black\" stroke=\"black\" points=\"114.75,-216.46 106.22,-210.18 108.97,-220.41 114.75,-216.46\"/>\n",
       "<text text-anchor=\"middle\" x=\"131\" y=\"-231.8\" font-family=\"Times,serif\" font-size=\"14.00\">3</text>\n",
       "</g>\n",
       "<!-- b2 -->\n",
       "<g id=\"node3\" class=\"node\">\n",
       "<title>b2</title>\n",
       "<polygon fill=\"none\" stroke=\"black\" points=\"270,-210 151,-210 151,-174 270,-174 270,-210\"/>\n",
       "<text text-anchor=\"start\" x=\"159\" y=\"-193.8\" font-family=\"Times,serif\" font-size=\"14.00\">MultiplyTwoReals</text>\n",
       "<text text-anchor=\"start\" x=\"180\" y=\"-183\" font-family=\"monospace\" font-size=\"10.00\">bitsize=15</text>\n",
       "</g>\n",
       "<!-- b0&#45;&gt;b2 -->\n",
       "<g id=\"edge2\" class=\"edge\">\n",
       "<title>b0-&gt;b2</title>\n",
       "<path fill=\"none\" stroke=\"black\" d=\"M164.24,-260.8C172.49,-248.7 183.68,-232.3 192.99,-218.67\"/>\n",
       "<polygon fill=\"black\" stroke=\"black\" points=\"196.03,-220.41 198.78,-210.18 190.25,-216.46 196.03,-220.41\"/>\n",
       "<text text-anchor=\"middle\" x=\"189\" y=\"-231.8\" font-family=\"Times,serif\" font-size=\"14.00\">3</text>\n",
       "</g>\n",
       "<!-- b3 -->\n",
       "<g id=\"node4\" class=\"node\">\n",
       "<title>b3</title>\n",
       "<polygon fill=\"none\" stroke=\"black\" points=\"114.5,-123 4.5,-123 4.5,-87 114.5,-87 114.5,-123\"/>\n",
       "<text text-anchor=\"start\" x=\"12.5\" y=\"-106.8\" font-family=\"Times,serif\" font-size=\"14.00\">ArbitraryClifford</text>\n",
       "<text text-anchor=\"start\" x=\"50\" y=\"-96\" font-family=\"monospace\" font-size=\"10.00\">n=1</text>\n",
       "</g>\n",
       "<!-- b1&#45;&gt;b3 -->\n",
       "<g id=\"edge3\" class=\"edge\">\n",
       "<title>b1-&gt;b3</title>\n",
       "<path fill=\"none\" stroke=\"black\" d=\"M87.42,-173.8C82.53,-161.93 75.94,-145.93 70.39,-132.45\"/>\n",
       "<polygon fill=\"black\" stroke=\"black\" points=\"73.62,-131.09 66.57,-123.18 67.14,-133.75 73.62,-131.09\"/>\n",
       "<text text-anchor=\"middle\" x=\"90\" y=\"-144.8\" font-family=\"Times,serif\" font-size=\"14.00\">263</text>\n",
       "</g>\n",
       "<!-- b5 -->\n",
       "<g id=\"node6\" class=\"node\">\n",
       "<title>b5</title>\n",
       "<polygon fill=\"none\" stroke=\"black\" points=\"193.5,-36 139.5,-36 139.5,0 193.5,0 193.5,-36\"/>\n",
       "<text text-anchor=\"start\" x=\"149.5\" y=\"-14.3\" font-family=\"Times,serif\" font-size=\"14.00\">TGate</text>\n",
       "</g>\n",
       "<!-- b1&#45;&gt;b5 -->\n",
       "<g id=\"edge4\" class=\"edge\">\n",
       "<title>b1-&gt;b5</title>\n",
       "<path fill=\"none\" stroke=\"black\" d=\"M101.82,-173.98C107.72,-160.23 116.2,-140.39 123.5,-123 134.54,-96.72 146.96,-66.61 155.6,-45.58\"/>\n",
       "<polygon fill=\"black\" stroke=\"black\" points=\"158.85,-46.9 159.41,-36.32 152.37,-44.24 158.85,-46.9\"/>\n",
       "<text text-anchor=\"middle\" x=\"145.5\" y=\"-101.3\" font-family=\"Times,serif\" font-size=\"14.00\">56</text>\n",
       "</g>\n",
       "<!-- b4 -->\n",
       "<g id=\"node5\" class=\"node\">\n",
       "<title>b4</title>\n",
       "<polygon fill=\"none\" stroke=\"black\" points=\"238,-123 183,-123 183,-87 238,-87 238,-123\"/>\n",
       "<text text-anchor=\"start\" x=\"191\" y=\"-101.3\" font-family=\"Times,serif\" font-size=\"14.00\">Toffoli</text>\n",
       "</g>\n",
       "<!-- b2&#45;&gt;b4 -->\n",
       "<g id=\"edge5\" class=\"edge\">\n",
       "<title>b2-&gt;b4</title>\n",
       "<path fill=\"none\" stroke=\"black\" d=\"M210.5,-173.8C210.5,-162.16 210.5,-146.55 210.5,-133.24\"/>\n",
       "<polygon fill=\"black\" stroke=\"black\" points=\"214,-133.18 210.5,-123.18 207,-133.18 214,-133.18\"/>\n",
       "<text text-anchor=\"middle\" x=\"221\" y=\"-144.8\" font-family=\"Times,serif\" font-size=\"14.00\">209</text>\n",
       "</g>\n",
       "<!-- b4&#45;&gt;b5 -->\n",
       "<g id=\"edge6\" class=\"edge\">\n",
       "<title>b4-&gt;b5</title>\n",
       "<path fill=\"none\" stroke=\"black\" d=\"M201.6,-86.8C195.39,-74.82 187.01,-58.62 179.99,-45.06\"/>\n",
       "<polygon fill=\"black\" stroke=\"black\" points=\"183.1,-43.45 175.39,-36.18 176.88,-46.67 183.1,-43.45\"/>\n",
       "<text text-anchor=\"middle\" x=\"195\" y=\"-57.8\" font-family=\"Times,serif\" font-size=\"14.00\">4</text>\n",
       "</g>\n",
       "</g>\n",
       "</svg>"
      ],
      "text/plain": [
       "<IPython.core.display.SVG object>"
      ]
     },
     "metadata": {},
     "output_type": "display_data"
    }
   ],
   "source": [
    "from qualtran.bloqs.chemistry.trotter.inverse_sqrt import PolynmomialEvaluationInverseSquareRoot \n",
    "poly_eval = PolynmomialEvaluationInverseSquareRoot(14, 15, 24)\n",
    "graph, sigma = poly_eval.call_graph(generalizer=generalize)\n",
    "show_call_graph(graph)"
   ]
  },
  {
   "cell_type": "code",
   "execution_count": 17,
   "metadata": {
    "execution": {
     "iopub.execute_input": "2023-10-30T23:23:57.851825Z",
     "iopub.status.busy": "2023-10-30T23:23:57.851713Z",
     "iopub.status.idle": "2023-10-30T23:23:57.853948Z",
     "shell.execute_reply": "2023-10-30T23:23:57.853663Z"
    }
   },
   "outputs": [
    {
     "name": "stdout",
     "output_type": "stream",
     "text": [
      "qualtran cost = 2676 vs paper_cost = 2880 T gates\n"
     ]
    }
   ],
   "source": [
    "paper_cost = 4 * (3*15**2 + 45)\n",
    "print(f\"qualtran cost = {poly_eval.t_complexity().t} vs paper_cost = {paper_cost} T gates\")"
   ]
  },
  {
   "cell_type": "code",
   "execution_count": 18,
   "metadata": {
    "execution": {
     "iopub.execute_input": "2023-10-30T23:23:57.855386Z",
     "iopub.status.busy": "2023-10-30T23:23:57.855285Z",
     "iopub.status.idle": "2023-10-30T23:23:57.921065Z",
     "shell.execute_reply": "2023-10-30T23:23:57.920647Z"
    }
   },
   "outputs": [
    {
     "data": {
      "image/svg+xml": [
       "<svg xmlns=\"http://www.w3.org/2000/svg\" xmlns:xlink=\"http://www.w3.org/1999/xlink\" width=\"573pt\" height=\"305pt\" viewBox=\"0.00 0.00 572.50 305.00\">\n",
       "<g id=\"graph0\" class=\"graph\" transform=\"scale(1 1) rotate(0) translate(4 301)\">\n",
       "<title>counts</title>\n",
       "<polygon fill=\"white\" stroke=\"none\" points=\"-4,4 -4,-301 568.5,-301 568.5,4 -4,4\"/>\n",
       "<!-- b0 -->\n",
       "<g id=\"node1\" class=\"node\">\n",
       "<title>b0</title>\n",
       "<polygon fill=\"none\" stroke=\"black\" points=\"434,-297 111,-297 111,-261 434,-261 434,-297\"/>\n",
       "<text text-anchor=\"start\" x=\"155\" y=\"-280.8\" font-family=\"Times,serif\" font-size=\"14.00\">NewtonRaphsonApproxInverseSquareRoot</text>\n",
       "<text text-anchor=\"start\" x=\"119\" y=\"-270\" font-family=\"monospace\" font-size=\"10.00\">x_sq_bitsize=14, poly_bitsize=15, target_bitsize=24</text>\n",
       "</g>\n",
       "<!-- b1 -->\n",
       "<g id=\"node2\" class=\"node\">\n",
       "<title>b1</title>\n",
       "<polygon fill=\"none\" stroke=\"black\" points=\"119,-210 0,-210 0,-174 119,-174 119,-210\"/>\n",
       "<text text-anchor=\"start\" x=\"8\" y=\"-193.8\" font-family=\"Times,serif\" font-size=\"14.00\">MultiplyTwoReals</text>\n",
       "<text text-anchor=\"start\" x=\"29\" y=\"-183\" font-family=\"monospace\" font-size=\"10.00\">bitsize=24</text>\n",
       "</g>\n",
       "<!-- b0&#45;&gt;b1 -->\n",
       "<g id=\"edge1\" class=\"edge\">\n",
       "<title>b0-&gt;b1</title>\n",
       "<path fill=\"none\" stroke=\"black\" d=\"M229.65,-260.9C195.64,-247.33 147.94,-228.29 111.7,-213.83\"/>\n",
       "<polygon fill=\"black\" stroke=\"black\" points=\"112.86,-210.53 102.28,-210.07 110.27,-217.03 112.86,-210.53\"/>\n",
       "<text text-anchor=\"middle\" x=\"183\" y=\"-231.8\" font-family=\"Times,serif\" font-size=\"14.00\">2</text>\n",
       "</g>\n",
       "<!-- b2 -->\n",
       "<g id=\"node3\" class=\"node\">\n",
       "<title>b2</title>\n",
       "<polygon fill=\"none\" stroke=\"black\" points=\"310,-210 137,-210 137,-174 310,-174 310,-210\"/>\n",
       "<text text-anchor=\"start\" x=\"181\" y=\"-193.8\" font-family=\"Times,serif\" font-size=\"14.00\">ScaleIntByReal</text>\n",
       "<text text-anchor=\"start\" x=\"145\" y=\"-183\" font-family=\"monospace\" font-size=\"10.00\">r_bitsize=24, i_bitsize=14</text>\n",
       "</g>\n",
       "<!-- b0&#45;&gt;b2 -->\n",
       "<g id=\"edge2\" class=\"edge\">\n",
       "<title>b0-&gt;b2</title>\n",
       "<path fill=\"none\" stroke=\"black\" d=\"M262.58,-260.8C255.68,-248.82 246.34,-232.62 238.52,-219.06\"/>\n",
       "<polygon fill=\"black\" stroke=\"black\" points=\"241.43,-217.09 233.4,-210.18 235.36,-220.59 241.43,-217.09\"/>\n",
       "<text text-anchor=\"middle\" x=\"255\" y=\"-231.8\" font-family=\"Times,serif\" font-size=\"14.00\">1</text>\n",
       "</g>\n",
       "<!-- b3 -->\n",
       "<g id=\"node4\" class=\"node\">\n",
       "<title>b3</title>\n",
       "<polygon fill=\"none\" stroke=\"black\" points=\"548,-210 471,-210 471,-174 548,-174 548,-210\"/>\n",
       "<text text-anchor=\"start\" x=\"497.5\" y=\"-193.8\" font-family=\"Times,serif\" font-size=\"14.00\">Add</text>\n",
       "<text text-anchor=\"start\" x=\"479\" y=\"-183\" font-family=\"monospace\" font-size=\"10.00\">bitsize=24</text>\n",
       "</g>\n",
       "<!-- b0&#45;&gt;b3 -->\n",
       "<g id=\"edge3\" class=\"edge\">\n",
       "<title>b0-&gt;b3</title>\n",
       "<path fill=\"none\" stroke=\"black\" d=\"M320.18,-260.9C361.22,-246.18 420.17,-225.04 461.36,-210.27\"/>\n",
       "<polygon fill=\"black\" stroke=\"black\" points=\"462.67,-213.51 470.9,-206.84 460.3,-206.93 462.67,-213.51\"/>\n",
       "<text text-anchor=\"middle\" x=\"408\" y=\"-231.8\" font-family=\"Times,serif\" font-size=\"14.00\">1</text>\n",
       "</g>\n",
       "<!-- b4 -->\n",
       "<g id=\"node5\" class=\"node\">\n",
       "<title>b4</title>\n",
       "<polygon fill=\"none\" stroke=\"black\" points=\"452.5,-210 328.5,-210 328.5,-174 452.5,-174 452.5,-210\"/>\n",
       "<text text-anchor=\"start\" x=\"336.5\" y=\"-193.8\" font-family=\"Times,serif\" font-size=\"14.00\">SquareRealNumber</text>\n",
       "<text text-anchor=\"start\" x=\"360\" y=\"-183\" font-family=\"monospace\" font-size=\"10.00\">bitsize=15</text>\n",
       "</g>\n",
       "<!-- b0&#45;&gt;b4 -->\n",
       "<g id=\"edge4\" class=\"edge\">\n",
       "<title>b0-&gt;b4</title>\n",
       "<path fill=\"none\" stroke=\"black\" d=\"M296.38,-260.8C314.21,-247.95 338.78,-230.26 358.34,-216.17\"/>\n",
       "<polygon fill=\"black\" stroke=\"black\" points=\"360.59,-218.86 366.66,-210.18 356.5,-213.18 360.59,-218.86\"/>\n",
       "<text text-anchor=\"middle\" x=\"343\" y=\"-231.8\" font-family=\"Times,serif\" font-size=\"14.00\">1</text>\n",
       "</g>\n",
       "<!-- b6 -->\n",
       "<g id=\"node7\" class=\"node\">\n",
       "<title>b6</title>\n",
       "<polygon fill=\"none\" stroke=\"black\" points=\"285,-123 230,-123 230,-87 285,-87 285,-123\"/>\n",
       "<text text-anchor=\"start\" x=\"238\" y=\"-101.3\" font-family=\"Times,serif\" font-size=\"14.00\">Toffoli</text>\n",
       "</g>\n",
       "<!-- b1&#45;&gt;b6 -->\n",
       "<g id=\"edge5\" class=\"edge\">\n",
       "<title>b1-&gt;b6</title>\n",
       "<path fill=\"none\" stroke=\"black\" d=\"M99.57,-173.8C135,-158.59 186.26,-136.58 220.67,-121.81\"/>\n",
       "<polygon fill=\"black\" stroke=\"black\" points=\"222.1,-125.01 229.91,-117.85 219.34,-118.57 222.1,-125.01\"/>\n",
       "<text text-anchor=\"middle\" x=\"181\" y=\"-144.8\" font-family=\"Times,serif\" font-size=\"14.00\">551</text>\n",
       "</g>\n",
       "<!-- b2&#45;&gt;b6 -->\n",
       "<g id=\"edge7\" class=\"edge\">\n",
       "<title>b2-&gt;b6</title>\n",
       "<path fill=\"none\" stroke=\"black\" d=\"M230.38,-173.8C235.08,-162.05 241.4,-146.24 246.76,-132.84\"/>\n",
       "<polygon fill=\"black\" stroke=\"black\" points=\"250.17,-133.76 250.63,-123.18 243.67,-131.16 250.17,-133.76\"/>\n",
       "<text text-anchor=\"middle\" x=\"254\" y=\"-144.8\" font-family=\"Times,serif\" font-size=\"14.00\">452</text>\n",
       "</g>\n",
       "<!-- b5 -->\n",
       "<g id=\"node6\" class=\"node\">\n",
       "<title>b5</title>\n",
       "<polygon fill=\"none\" stroke=\"black\" points=\"564.5,-123 454.5,-123 454.5,-87 564.5,-87 564.5,-123\"/>\n",
       "<text text-anchor=\"start\" x=\"462.5\" y=\"-106.8\" font-family=\"Times,serif\" font-size=\"14.00\">ArbitraryClifford</text>\n",
       "<text text-anchor=\"start\" x=\"500\" y=\"-96\" font-family=\"monospace\" font-size=\"10.00\">n=1</text>\n",
       "</g>\n",
       "<!-- b3&#45;&gt;b5 -->\n",
       "<g id=\"edge9\" class=\"edge\">\n",
       "<title>b3-&gt;b5</title>\n",
       "<path fill=\"none\" stroke=\"black\" d=\"M509.5,-173.8C509.5,-162.16 509.5,-146.55 509.5,-133.24\"/>\n",
       "<polygon fill=\"black\" stroke=\"black\" points=\"513,-133.18 509.5,-123.18 506,-133.18 513,-133.18\"/>\n",
       "<text text-anchor=\"middle\" x=\"520\" y=\"-144.8\" font-family=\"Times,serif\" font-size=\"14.00\">434</text>\n",
       "</g>\n",
       "<!-- b7 -->\n",
       "<g id=\"node8\" class=\"node\">\n",
       "<title>b7</title>\n",
       "<polygon fill=\"none\" stroke=\"black\" points=\"383.5,-36 329.5,-36 329.5,0 383.5,0 383.5,-36\"/>\n",
       "<text text-anchor=\"start\" x=\"339.5\" y=\"-14.3\" font-family=\"Times,serif\" font-size=\"14.00\">TGate</text>\n",
       "</g>\n",
       "<!-- b3&#45;&gt;b7 -->\n",
       "<g id=\"edge8\" class=\"edge\">\n",
       "<title>b3-&gt;b7</title>\n",
       "<path fill=\"none\" stroke=\"black\" d=\"M487.1,-173.77C470.81,-160.71 448.69,-141.85 431.5,-123 408.83,-98.13 386.78,-66.37 372.52,-44.52\"/>\n",
       "<polygon fill=\"black\" stroke=\"black\" points=\"375.45,-42.61 367.09,-36.1 369.57,-46.41 375.45,-42.61\"/>\n",
       "<text text-anchor=\"middle\" x=\"438.5\" y=\"-101.3\" font-family=\"Times,serif\" font-size=\"14.00\">92</text>\n",
       "</g>\n",
       "<!-- b4&#45;&gt;b6 -->\n",
       "<g id=\"edge10\" class=\"edge\">\n",
       "<title>b4-&gt;b6</title>\n",
       "<path fill=\"none\" stroke=\"black\" d=\"M363.59,-173.8C343.21,-160.78 315.05,-142.78 292.86,-128.6\"/>\n",
       "<polygon fill=\"black\" stroke=\"black\" points=\"294.69,-125.61 284.37,-123.18 290.92,-131.51 294.69,-125.61\"/>\n",
       "<text text-anchor=\"middle\" x=\"343\" y=\"-144.8\" font-family=\"Times,serif\" font-size=\"14.00\">108</text>\n",
       "</g>\n",
       "<!-- b6&#45;&gt;b7 -->\n",
       "<g id=\"edge6\" class=\"edge\">\n",
       "<title>b6-&gt;b7</title>\n",
       "<path fill=\"none\" stroke=\"black\" d=\"M277.53,-86.8C292.29,-74.13 312.55,-56.73 328.85,-42.74\"/>\n",
       "<polygon fill=\"black\" stroke=\"black\" points=\"331.19,-45.35 336.5,-36.18 326.63,-40.03 331.19,-45.35\"/>\n",
       "<text text-anchor=\"middle\" x=\"320.5\" y=\"-57.8\" font-family=\"Times,serif\" font-size=\"14.00\">12</text>\n",
       "</g>\n",
       "</g>\n",
       "</svg>"
      ],
      "text/plain": [
       "<IPython.core.display.SVG object>"
      ]
     },
     "metadata": {},
     "output_type": "display_data"
    }
   ],
   "source": [
    "from qualtran.bloqs.chemistry.trotter.inverse_sqrt import NewtonRaphsonApproxInverseSquareRoot\n",
    "nr = NewtonRaphsonApproxInverseSquareRoot(14, 15, 24)\n",
    "graph, sigma = nr.call_graph(generalizer=generalize)\n",
    "show_call_graph(graph)"
   ]
  },
  {
   "cell_type": "code",
   "execution_count": 19,
   "metadata": {
    "execution": {
     "iopub.execute_input": "2023-10-30T23:23:57.922758Z",
     "iopub.status.busy": "2023-10-30T23:23:57.922647Z",
     "iopub.status.idle": "2023-10-30T23:23:57.924869Z",
     "shell.execute_reply": "2023-10-30T23:23:57.924623Z"
    }
   },
   "outputs": [
    {
     "name": "stdout",
     "output_type": "stream",
     "text": [
      "qualtran cost = 5656 vs paper cost = 5664 T gates\n"
     ]
    }
   ],
   "source": [
    "paper_cost = 4 * (2136 - 3*15**2 - 45)\n",
    "print(f\"qualtran cost = {nr.t_complexity().t} vs paper cost = {paper_cost} T gates\")"
   ]
  },
  {
   "cell_type": "code",
   "execution_count": 20,
   "metadata": {
    "execution": {
     "iopub.execute_input": "2023-10-30T23:23:57.926397Z",
     "iopub.status.busy": "2023-10-30T23:23:57.926284Z",
     "iopub.status.idle": "2023-10-30T23:23:57.992926Z",
     "shell.execute_reply": "2023-10-30T23:23:57.992549Z"
    }
   },
   "outputs": [
    {
     "data": {
      "image/svg+xml": [
       "<svg xmlns=\"http://www.w3.org/2000/svg\" xmlns:xlink=\"http://www.w3.org/1999/xlink\" width=\"286pt\" height=\"305pt\" viewBox=\"0.00 0.00 286.00 305.00\">\n",
       "<g id=\"graph0\" class=\"graph\" transform=\"scale(1 1) rotate(0) translate(4 301)\">\n",
       "<title>counts</title>\n",
       "<polygon fill=\"white\" stroke=\"none\" points=\"-4,4 -4,-301 282,-301 282,4 -4,4\"/>\n",
       "<!-- b0 -->\n",
       "<g id=\"node1\" class=\"node\">\n",
       "<title>b0</title>\n",
       "<polygon fill=\"none\" stroke=\"black\" points=\"230,-297 75,-297 75,-261 230,-261 230,-297\"/>\n",
       "<text text-anchor=\"start\" x=\"113\" y=\"-280.8\" font-family=\"Times,serif\" font-size=\"14.00\">KineticEnergy</text>\n",
       "<text text-anchor=\"start\" x=\"83\" y=\"-270\" font-family=\"monospace\" font-size=\"10.00\">num_elec=4, num_grid=21</text>\n",
       "</g>\n",
       "<!-- b1 -->\n",
       "<g id=\"node2\" class=\"node\">\n",
       "<title>b1</title>\n",
       "<polygon fill=\"none\" stroke=\"black\" points=\"159,-210 0,-210 0,-174 159,-174 159,-210\"/>\n",
       "<text text-anchor=\"start\" x=\"8\" y=\"-193.8\" font-family=\"Times,serif\" font-size=\"14.00\">QuantumVariableRotation</text>\n",
       "<text text-anchor=\"start\" x=\"37\" y=\"-183\" font-family=\"monospace\" font-size=\"10.00\">phi_bitsize=14</text>\n",
       "</g>\n",
       "<!-- b0&#45;&gt;b1 -->\n",
       "<g id=\"edge1\" class=\"edge\">\n",
       "<title>b0-&gt;b1</title>\n",
       "<path fill=\"none\" stroke=\"black\" d=\"M137.73,-260.8C127.14,-248.47 112.72,-231.68 100.88,-217.89\"/>\n",
       "<polygon fill=\"black\" stroke=\"black\" points=\"103.42,-215.48 94.25,-210.18 98.11,-220.04 103.42,-215.48\"/>\n",
       "<text text-anchor=\"middle\" x=\"124\" y=\"-231.8\" font-family=\"Times,serif\" font-size=\"14.00\">4</text>\n",
       "</g>\n",
       "<!-- b2 -->\n",
       "<g id=\"node3\" class=\"node\">\n",
       "<title>b2</title>\n",
       "<polygon fill=\"none\" stroke=\"black\" points=\"278,-210 177,-210 177,-174 278,-174 278,-210\"/>\n",
       "<text text-anchor=\"start\" x=\"186\" y=\"-193.8\" font-family=\"Times,serif\" font-size=\"14.00\">SumOfSquares</text>\n",
       "<text text-anchor=\"start\" x=\"185\" y=\"-183\" font-family=\"monospace\" font-size=\"10.00\">bitsize=6, k=3</text>\n",
       "</g>\n",
       "<!-- b0&#45;&gt;b2 -->\n",
       "<g id=\"edge2\" class=\"edge\">\n",
       "<title>b0-&gt;b2</title>\n",
       "<path fill=\"none\" stroke=\"black\" d=\"M167.68,-260.8C178.55,-248.47 193.37,-231.68 205.54,-217.89\"/>\n",
       "<polygon fill=\"black\" stroke=\"black\" points=\"208.35,-219.99 212.35,-210.18 203.1,-215.36 208.35,-219.99\"/>\n",
       "<text text-anchor=\"middle\" x=\"197\" y=\"-231.8\" font-family=\"Times,serif\" font-size=\"14.00\">4</text>\n",
       "</g>\n",
       "<!-- b3 -->\n",
       "<g id=\"node4\" class=\"node\">\n",
       "<title>b3</title>\n",
       "<polygon fill=\"none\" stroke=\"black\" points=\"175,-123 26,-123 26,-87 175,-87 175,-123\"/>\n",
       "<text text-anchor=\"start\" x=\"64\" y=\"-106.8\" font-family=\"Times,serif\" font-size=\"14.00\">RotationBloq</text>\n",
       "<text text-anchor=\"start\" x=\"34\" y=\"-96\" font-family=\"monospace\" font-size=\"10.00\">angle=_phi0, eps=1e-11</text>\n",
       "</g>\n",
       "<!-- b1&#45;&gt;b3 -->\n",
       "<g id=\"edge3\" class=\"edge\">\n",
       "<title>b1-&gt;b3</title>\n",
       "<path fill=\"none\" stroke=\"black\" d=\"M83.75,-173.8C86.62,-162.16 90.48,-146.55 93.77,-133.24\"/>\n",
       "<polygon fill=\"black\" stroke=\"black\" points=\"97.26,-133.72 96.26,-123.18 90.46,-132.04 97.26,-133.72\"/>\n",
       "<text text-anchor=\"middle\" x=\"98.5\" y=\"-144.8\" font-family=\"Times,serif\" font-size=\"14.00\">14</text>\n",
       "</g>\n",
       "<!-- b4 -->\n",
       "<g id=\"node5\" class=\"node\">\n",
       "<title>b4</title>\n",
       "<polygon fill=\"none\" stroke=\"black\" points=\"251,-123 196,-123 196,-87 251,-87 251,-123\"/>\n",
       "<text text-anchor=\"start\" x=\"204\" y=\"-101.3\" font-family=\"Times,serif\" font-size=\"14.00\">Toffoli</text>\n",
       "</g>\n",
       "<!-- b2&#45;&gt;b4 -->\n",
       "<g id=\"edge5\" class=\"edge\">\n",
       "<title>b2-&gt;b4</title>\n",
       "<path fill=\"none\" stroke=\"black\" d=\"M226.69,-173.8C226.14,-162.16 225.41,-146.55 224.78,-133.24\"/>\n",
       "<polygon fill=\"black\" stroke=\"black\" points=\"228.27,-133 224.31,-123.18 221.28,-133.33 228.27,-133\"/>\n",
       "<text text-anchor=\"middle\" x=\"236\" y=\"-144.8\" font-family=\"Times,serif\" font-size=\"14.00\">101</text>\n",
       "</g>\n",
       "<!-- b5 -->\n",
       "<g id=\"node6\" class=\"node\">\n",
       "<title>b5</title>\n",
       "<polygon fill=\"none\" stroke=\"black\" points=\"186.5,-36 132.5,-36 132.5,0 186.5,0 186.5,-36\"/>\n",
       "<text text-anchor=\"start\" x=\"142.5\" y=\"-14.3\" font-family=\"Times,serif\" font-size=\"14.00\">TGate</text>\n",
       "</g>\n",
       "<!-- b3&#45;&gt;b5 -->\n",
       "<g id=\"edge4\" class=\"edge\">\n",
       "<title>b3-&gt;b5</title>\n",
       "<path fill=\"none\" stroke=\"black\" d=\"M112.44,-86.8C120.84,-74.7 132.22,-58.3 141.68,-44.67\"/>\n",
       "<polygon fill=\"black\" stroke=\"black\" points=\"144.75,-46.39 147.58,-36.18 139,-42.39 144.75,-46.39\"/>\n",
       "<text text-anchor=\"middle\" x=\"141.5\" y=\"-57.8\" font-family=\"Times,serif\" font-size=\"14.00\">52</text>\n",
       "</g>\n",
       "<!-- b4&#45;&gt;b5 -->\n",
       "<g id=\"edge6\" class=\"edge\">\n",
       "<title>b4-&gt;b5</title>\n",
       "<path fill=\"none\" stroke=\"black\" d=\"M210.55,-86.8C201.35,-74.59 188.86,-57.99 178.53,-44.28\"/>\n",
       "<polygon fill=\"black\" stroke=\"black\" points=\"181.24,-42.06 172.43,-36.18 175.65,-46.27 181.24,-42.06\"/>\n",
       "<text text-anchor=\"middle\" x=\"198\" y=\"-57.8\" font-family=\"Times,serif\" font-size=\"14.00\">4</text>\n",
       "</g>\n",
       "</g>\n",
       "</svg>"
      ],
      "text/plain": [
       "<IPython.core.display.SVG object>"
      ]
     },
     "metadata": {},
     "output_type": "display_data"
    }
   ],
   "source": [
    "from qualtran.bloqs.chemistry.trotter import KineticEnergy \n",
    "ke = KineticEnergy(4, 21)\n",
    "graph, sigma = ke.call_graph(generalizer=generalize)\n",
    "show_call_graph(graph)"
   ]
  },
  {
   "cell_type": "code",
   "execution_count": 21,
   "metadata": {
    "execution": {
     "iopub.execute_input": "2023-10-30T23:23:57.994650Z",
     "iopub.status.busy": "2023-10-30T23:23:57.994507Z",
     "iopub.status.idle": "2023-10-30T23:23:58.185674Z",
     "shell.execute_reply": "2023-10-30T23:23:58.185311Z"
    }
   },
   "outputs": [
    {
     "data": {
      "image/svg+xml": [
       "<svg xmlns=\"http://www.w3.org/2000/svg\" xmlns:xlink=\"http://www.w3.org/1999/xlink\" width=\"1568pt\" height=\"521pt\" viewBox=\"0.00 0.00 1568.00 521.00\">\n",
       "<g id=\"graph0\" class=\"graph\" transform=\"scale(1 1) rotate(0) translate(4 517)\">\n",
       "<title>counts</title>\n",
       "<polygon fill=\"white\" stroke=\"none\" points=\"-4,4 -4,-517 1564,-517 1564,4 -4,4\"/>\n",
       "<!-- b0 -->\n",
       "<g id=\"node1\" class=\"node\">\n",
       "<title>b0</title>\n",
       "<polygon fill=\"none\" stroke=\"black\" points=\"973,-513 590,-513 590,-477 973,-477 973,-513\"/>\n",
       "<text text-anchor=\"start\" x=\"737.5\" y=\"-496.8\" font-family=\"Times,serif\" font-size=\"14.00\">PotentialEnergy</text>\n",
       "<text text-anchor=\"start\" x=\"598\" y=\"-486\" font-family=\"monospace\" font-size=\"10.00\">num_elec=4, num_grid=21, poly_bitsize=15, label=&amp;#x27;V&amp;#x27;</text>\n",
       "</g>\n",
       "<!-- b1 -->\n",
       "<g id=\"node2\" class=\"node\">\n",
       "<title>b1</title>\n",
       "<polygon fill=\"none\" stroke=\"black\" points=\"1066,-426 497,-426 497,-390 1066,-390 1066,-426\"/>\n",
       "<text text-anchor=\"start\" x=\"746.5\" y=\"-409.8\" font-family=\"Times,serif\" font-size=\"14.00\">PairPotential</text>\n",
       "<text text-anchor=\"start\" x=\"505\" y=\"-399\" font-family=\"monospace\" font-size=\"10.00\">bitsize=6, qrom_data=((0, 163 ..., poly_bitsize=15, inv_sqrt_bitsize=24, label=&amp;#x27;V&amp;#x27;</text>\n",
       "</g>\n",
       "<!-- b0&#45;&gt;b1 -->\n",
       "<g id=\"edge1\" class=\"edge\">\n",
       "<title>b0-&gt;b1</title>\n",
       "<path fill=\"none\" stroke=\"black\" d=\"M781.5,-476.8C781.5,-465.16 781.5,-449.55 781.5,-436.24\"/>\n",
       "<polygon fill=\"black\" stroke=\"black\" points=\"785,-436.18 781.5,-426.18 778,-436.18 785,-436.18\"/>\n",
       "<text text-anchor=\"middle\" x=\"785\" y=\"-447.8\" font-family=\"Times,serif\" font-size=\"14.00\">6</text>\n",
       "</g>\n",
       "<!-- b2 -->\n",
       "<g id=\"node3\" class=\"node\">\n",
       "<title>b2</title>\n",
       "<polygon fill=\"none\" stroke=\"black\" points=\"881,-285 780,-285 780,-249 881,-249 881,-285\"/>\n",
       "<text text-anchor=\"start\" x=\"789\" y=\"-268.8\" font-family=\"Times,serif\" font-size=\"14.00\">SumOfSquares</text>\n",
       "<text text-anchor=\"start\" x=\"788\" y=\"-258\" font-family=\"monospace\" font-size=\"10.00\">bitsize=6, k=3</text>\n",
       "</g>\n",
       "<!-- b1&#45;&gt;b2 -->\n",
       "<g id=\"edge2\" class=\"edge\">\n",
       "<title>b1-&gt;b2</title>\n",
       "<path fill=\"none\" stroke=\"black\" d=\"M787.51,-389.96C795.88,-366.2 811.15,-322.88 821.06,-294.78\"/>\n",
       "<polygon fill=\"black\" stroke=\"black\" points=\"824.42,-295.78 824.44,-285.18 817.82,-293.45 824.42,-295.78\"/>\n",
       "<text text-anchor=\"middle\" x=\"802\" y=\"-360.8\" font-family=\"Times,serif\" font-size=\"14.00\">1</text>\n",
       "</g>\n",
       "<!-- b3 -->\n",
       "<g id=\"node4\" class=\"node\">\n",
       "<title>b3</title>\n",
       "<polygon fill=\"none\" stroke=\"black\" points=\"1560,-339 1255,-339 1255,-303 1560,-303 1560,-339\"/>\n",
       "<text text-anchor=\"start\" x=\"1289\" y=\"-322.8\" font-family=\"Times,serif\" font-size=\"14.00\">PolynmomialEvaluationInverseSquareRoot</text>\n",
       "<text text-anchor=\"start\" x=\"1263\" y=\"-312\" font-family=\"monospace\" font-size=\"10.00\">x_sq_bitsize=14, poly_bitsize=15, out_bitsize=15</text>\n",
       "</g>\n",
       "<!-- b1&#45;&gt;b3 -->\n",
       "<g id=\"edge3\" class=\"edge\">\n",
       "<title>b1-&gt;b3</title>\n",
       "<path fill=\"none\" stroke=\"black\" d=\"M907.05,-389.95C1012.79,-375.59 1163.71,-355.1 1272.13,-340.38\"/>\n",
       "<polygon fill=\"black\" stroke=\"black\" points=\"1272.72,-343.83 1282.16,-339.02 1271.78,-336.9 1272.72,-343.83\"/>\n",
       "<text text-anchor=\"middle\" x=\"1135\" y=\"-360.8\" font-family=\"Times,serif\" font-size=\"14.00\">1</text>\n",
       "</g>\n",
       "<!-- b4 -->\n",
       "<g id=\"node5\" class=\"node\">\n",
       "<title>b4</title>\n",
       "<polygon fill=\"none\" stroke=\"black\" points=\"1151,-339 828,-339 828,-303 1151,-303 1151,-339\"/>\n",
       "<text text-anchor=\"start\" x=\"872\" y=\"-322.8\" font-family=\"Times,serif\" font-size=\"14.00\">NewtonRaphsonApproxInverseSquareRoot</text>\n",
       "<text text-anchor=\"start\" x=\"836\" y=\"-312\" font-family=\"monospace\" font-size=\"10.00\">x_sq_bitsize=14, poly_bitsize=15, target_bitsize=24</text>\n",
       "</g>\n",
       "<!-- b1&#45;&gt;b4 -->\n",
       "<g id=\"edge4\" class=\"edge\">\n",
       "<title>b1-&gt;b4</title>\n",
       "<path fill=\"none\" stroke=\"black\" d=\"M823.59,-389.8C856.69,-376.27 902.93,-357.38 938.19,-342.97\"/>\n",
       "<polygon fill=\"black\" stroke=\"black\" points=\"939.89,-346.05 947.83,-339.03 937.25,-339.57 939.89,-346.05\"/>\n",
       "<text text-anchor=\"middle\" x=\"901\" y=\"-360.8\" font-family=\"Times,serif\" font-size=\"14.00\">1</text>\n",
       "</g>\n",
       "<!-- b5 -->\n",
       "<g id=\"node6\" class=\"node\">\n",
       "<title>b5</title>\n",
       "<polygon fill=\"none\" stroke=\"black\" points=\"678.5,-231 564.5,-231 564.5,-195 678.5,-195 678.5,-231\"/>\n",
       "<text text-anchor=\"start\" x=\"572.5\" y=\"-214.8\" font-family=\"Times,serif\" font-size=\"14.00\">OutOfPlaceAdder</text>\n",
       "<text text-anchor=\"start\" x=\"594\" y=\"-204\" font-family=\"monospace\" font-size=\"10.00\">bitsize=6</text>\n",
       "</g>\n",
       "<!-- b1&#45;&gt;b5 -->\n",
       "<g id=\"edge5\" class=\"edge\">\n",
       "<title>b1-&gt;b5</title>\n",
       "<path fill=\"none\" stroke=\"black\" d=\"M777.17,-389.75C771.05,-367.89 758.25,-329.83 737.5,-303 716.39,-275.7 684.98,-252.29 660.17,-236.34\"/>\n",
       "<polygon fill=\"black\" stroke=\"black\" points=\"662.02,-233.38 651.69,-231.02 658.3,-239.3 662.02,-233.38\"/>\n",
       "<text text-anchor=\"middle\" x=\"761\" y=\"-317.3\" font-family=\"Times,serif\" font-size=\"14.00\">3</text>\n",
       "</g>\n",
       "<!-- b6 -->\n",
       "<g id=\"node7\" class=\"node\">\n",
       "<title>b6</title>\n",
       "<polygon fill=\"none\" stroke=\"black\" points=\"728,-339 177,-339 177,-303 728,-303 728,-339\"/>\n",
       "<text text-anchor=\"start\" x=\"431.5\" y=\"-322.8\" font-family=\"Times,serif\" font-size=\"14.00\">QROM</text>\n",
       "<text text-anchor=\"start\" x=\"185\" y=\"-312\" font-family=\"monospace\" font-size=\"10.00\">data=[array([ ..., selection_bitsizes=(14,), target_bitsizes=(15, 15, ..., num_controls=0</text>\n",
       "</g>\n",
       "<!-- b1&#45;&gt;b6 -->\n",
       "<g id=\"edge6\" class=\"edge\">\n",
       "<title>b1-&gt;b6</title>\n",
       "<path fill=\"none\" stroke=\"black\" d=\"M715.32,-389.9C661.33,-375.95 585.02,-356.24 528.53,-341.64\"/>\n",
       "<polygon fill=\"black\" stroke=\"black\" points=\"529.13,-338.18 518.58,-339.07 527.38,-344.96 529.13,-338.18\"/>\n",
       "<text text-anchor=\"middle\" x=\"640\" y=\"-360.8\" font-family=\"Times,serif\" font-size=\"14.00\">1</text>\n",
       "</g>\n",
       "<!-- b7 -->\n",
       "<g id=\"node8\" class=\"node\">\n",
       "<title>b7</title>\n",
       "<polygon fill=\"none\" stroke=\"black\" points=\"159,-339 0,-339 0,-303 159,-303 159,-339\"/>\n",
       "<text text-anchor=\"start\" x=\"8\" y=\"-322.8\" font-family=\"Times,serif\" font-size=\"14.00\">QuantumVariableRotation</text>\n",
       "<text text-anchor=\"start\" x=\"37\" y=\"-312\" font-family=\"monospace\" font-size=\"10.00\">phi_bitsize=24</text>\n",
       "</g>\n",
       "<!-- b1&#45;&gt;b7 -->\n",
       "<g id=\"edge7\" class=\"edge\">\n",
       "<title>b1-&gt;b7</title>\n",
       "<path fill=\"none\" stroke=\"black\" d=\"M591.86,-389.98C472.98,-378.35 316.41,-361.28 169.21,-339.2\"/>\n",
       "<polygon fill=\"black\" stroke=\"black\" points=\"169.49,-335.7 159.08,-337.67 168.44,-342.62 169.49,-335.7\"/>\n",
       "<text text-anchor=\"middle\" x=\"423\" y=\"-360.8\" font-family=\"Times,serif\" font-size=\"14.00\">1</text>\n",
       "</g>\n",
       "<!-- b18 -->\n",
       "<g id=\"node19\" class=\"node\">\n",
       "<title>b18</title>\n",
       "<polygon fill=\"none\" stroke=\"black\" points=\"908,-123 853,-123 853,-87 908,-87 908,-123\"/>\n",
       "<text text-anchor=\"start\" x=\"861\" y=\"-101.3\" font-family=\"Times,serif\" font-size=\"14.00\">Toffoli</text>\n",
       "</g>\n",
       "<!-- b2&#45;&gt;b18 -->\n",
       "<g id=\"edge8\" class=\"edge\">\n",
       "<title>b2-&gt;b18</title>\n",
       "<path fill=\"none\" stroke=\"black\" d=\"M779.72,-249.94C752.95,-241.35 725.43,-232.28 724.5,-231 715.13,-218.03 716.46,-208.84 724.5,-195 731.26,-183.36 799.91,-146.91 843.86,-124.43\"/>\n",
       "<polygon fill=\"black\" stroke=\"black\" points=\"845.51,-127.52 852.83,-119.86 842.33,-121.28 845.51,-127.52\"/>\n",
       "<text text-anchor=\"middle\" x=\"735\" y=\"-209.3\" font-family=\"Times,serif\" font-size=\"14.00\">101</text>\n",
       "</g>\n",
       "<!-- b8 -->\n",
       "<g id=\"node9\" class=\"node\">\n",
       "<title>b8</title>\n",
       "<polygon fill=\"none\" stroke=\"black\" points=\"1098,-123 1021,-123 1021,-87 1098,-87 1098,-123\"/>\n",
       "<text text-anchor=\"start\" x=\"1047.5\" y=\"-106.8\" font-family=\"Times,serif\" font-size=\"14.00\">Add</text>\n",
       "<text text-anchor=\"start\" x=\"1029\" y=\"-96\" font-family=\"monospace\" font-size=\"10.00\">bitsize=15</text>\n",
       "</g>\n",
       "<!-- b3&#45;&gt;b8 -->\n",
       "<g id=\"edge10\" class=\"edge\">\n",
       "<title>b3-&gt;b8</title>\n",
       "<path fill=\"none\" stroke=\"black\" d=\"M1406.62,-302.99C1403.62,-265.32 1390.42,-175.44 1332.5,-141 1295.63,-119.08 1176.21,-110.69 1108.15,-107.64\"/>\n",
       "<polygon fill=\"black\" stroke=\"black\" points=\"1108.24,-104.14 1098.1,-107.21 1107.94,-111.13 1108.24,-104.14\"/>\n",
       "<text text-anchor=\"middle\" x=\"1396\" y=\"-209.3\" font-family=\"Times,serif\" font-size=\"14.00\">3</text>\n",
       "</g>\n",
       "<!-- b9 -->\n",
       "<g id=\"node10\" class=\"node\">\n",
       "<title>b9</title>\n",
       "<polygon fill=\"none\" stroke=\"black\" points=\"1344,-231 1225,-231 1225,-195 1344,-195 1344,-231\"/>\n",
       "<text text-anchor=\"start\" x=\"1233\" y=\"-214.8\" font-family=\"Times,serif\" font-size=\"14.00\">MultiplyTwoReals</text>\n",
       "<text text-anchor=\"start\" x=\"1254\" y=\"-204\" font-family=\"monospace\" font-size=\"10.00\">bitsize=15</text>\n",
       "</g>\n",
       "<!-- b3&#45;&gt;b9 -->\n",
       "<g id=\"edge11\" class=\"edge\">\n",
       "<title>b3-&gt;b9</title>\n",
       "<path fill=\"none\" stroke=\"black\" d=\"M1387.74,-302.97C1367.33,-285.38 1335.3,-257.78 1312.33,-237.99\"/>\n",
       "<polygon fill=\"black\" stroke=\"black\" points=\"1314.48,-235.22 1304.62,-231.34 1309.91,-240.52 1314.48,-235.22\"/>\n",
       "<text text-anchor=\"middle\" x=\"1367\" y=\"-263.3\" font-family=\"Times,serif\" font-size=\"14.00\">3</text>\n",
       "</g>\n",
       "<!-- b10 -->\n",
       "<g id=\"node11\" class=\"node\">\n",
       "<title>b10</title>\n",
       "<polygon fill=\"none\" stroke=\"black\" points=\"873,-231 754,-231 754,-195 873,-195 873,-231\"/>\n",
       "<text text-anchor=\"start\" x=\"762\" y=\"-214.8\" font-family=\"Times,serif\" font-size=\"14.00\">MultiplyTwoReals</text>\n",
       "<text text-anchor=\"start\" x=\"783\" y=\"-204\" font-family=\"monospace\" font-size=\"10.00\">bitsize=24</text>\n",
       "</g>\n",
       "<!-- b4&#45;&gt;b10 -->\n",
       "<g id=\"edge15\" class=\"edge\">\n",
       "<title>b4-&gt;b10</title>\n",
       "<path fill=\"none\" stroke=\"black\" d=\"M968.3,-302.93C948.79,-287.69 918.7,-265.31 890.5,-249 882.2,-244.2 873.12,-239.57 864.2,-235.34\"/>\n",
       "<polygon fill=\"black\" stroke=\"black\" points=\"865.55,-232.1 855.01,-231.08 862.61,-238.46 865.55,-232.1\"/>\n",
       "<text text-anchor=\"middle\" x=\"946\" y=\"-263.3\" font-family=\"Times,serif\" font-size=\"14.00\">2</text>\n",
       "</g>\n",
       "<!-- b11 -->\n",
       "<g id=\"node12\" class=\"node\">\n",
       "<title>b11</title>\n",
       "<polygon fill=\"none\" stroke=\"black\" points=\"1064,-231 891,-231 891,-195 1064,-195 1064,-231\"/>\n",
       "<text text-anchor=\"start\" x=\"935\" y=\"-214.8\" font-family=\"Times,serif\" font-size=\"14.00\">ScaleIntByReal</text>\n",
       "<text text-anchor=\"start\" x=\"899\" y=\"-204\" font-family=\"monospace\" font-size=\"10.00\">r_bitsize=24, i_bitsize=14</text>\n",
       "</g>\n",
       "<!-- b4&#45;&gt;b11 -->\n",
       "<g id=\"edge16\" class=\"edge\">\n",
       "<title>b4-&gt;b11</title>\n",
       "<path fill=\"none\" stroke=\"black\" d=\"M987.57,-302.97C985.69,-286.38 982.81,-260.88 980.61,-241.43\"/>\n",
       "<polygon fill=\"black\" stroke=\"black\" points=\"984.07,-240.88 979.46,-231.34 977.11,-241.67 984.07,-240.88\"/>\n",
       "<text text-anchor=\"middle\" x=\"988\" y=\"-263.3\" font-family=\"Times,serif\" font-size=\"14.00\">1</text>\n",
       "</g>\n",
       "<!-- b12 -->\n",
       "<g id=\"node13\" class=\"node\">\n",
       "<title>b12</title>\n",
       "<polygon fill=\"none\" stroke=\"black\" points=\"1003,-123 926,-123 926,-87 1003,-87 1003,-123\"/>\n",
       "<text text-anchor=\"start\" x=\"952.5\" y=\"-106.8\" font-family=\"Times,serif\" font-size=\"14.00\">Add</text>\n",
       "<text text-anchor=\"start\" x=\"934\" y=\"-96\" font-family=\"monospace\" font-size=\"10.00\">bitsize=24</text>\n",
       "</g>\n",
       "<!-- b4&#45;&gt;b12 -->\n",
       "<g id=\"edge17\" class=\"edge\">\n",
       "<title>b4-&gt;b12</title>\n",
       "<path fill=\"none\" stroke=\"black\" d=\"M1134.01,-302.98C1223.3,-289.16 1325.93,-266.12 1353.5,-231 1363.38,-218.41 1362.5,-208.23 1353.5,-195 1268.12,-69.58 1168.05,-152.37 1012.85,-122.61\"/>\n",
       "<polygon fill=\"black\" stroke=\"black\" points=\"1013.53,-119.17 1003.03,-120.59 1012.12,-126.03 1013.53,-119.17\"/>\n",
       "<text text-anchor=\"middle\" x=\"1364\" y=\"-209.3\" font-family=\"Times,serif\" font-size=\"14.00\">1</text>\n",
       "</g>\n",
       "<!-- b13 -->\n",
       "<g id=\"node14\" class=\"node\">\n",
       "<title>b13</title>\n",
       "<polygon fill=\"none\" stroke=\"black\" points=\"1206.5,-231 1082.5,-231 1082.5,-195 1206.5,-195 1206.5,-231\"/>\n",
       "<text text-anchor=\"start\" x=\"1090.5\" y=\"-214.8\" font-family=\"Times,serif\" font-size=\"14.00\">SquareRealNumber</text>\n",
       "<text text-anchor=\"start\" x=\"1114\" y=\"-204\" font-family=\"monospace\" font-size=\"10.00\">bitsize=15</text>\n",
       "</g>\n",
       "<!-- b4&#45;&gt;b13 -->\n",
       "<g id=\"edge18\" class=\"edge\">\n",
       "<title>b4-&gt;b13</title>\n",
       "<path fill=\"none\" stroke=\"black\" d=\"M1014.4,-302.97C1040.54,-285.1 1081.78,-256.89 1110.81,-237.04\"/>\n",
       "<polygon fill=\"black\" stroke=\"black\" points=\"1113.12,-239.7 1119.4,-231.16 1109.17,-233.92 1113.12,-239.7\"/>\n",
       "<text text-anchor=\"middle\" x=\"1093\" y=\"-263.3\" font-family=\"Times,serif\" font-size=\"14.00\">1</text>\n",
       "</g>\n",
       "<!-- b14 -->\n",
       "<g id=\"node15\" class=\"node\">\n",
       "<title>b14</title>\n",
       "<polygon fill=\"none\" stroke=\"black\" points=\"835,-123 764,-123 764,-87 835,-87 835,-123\"/>\n",
       "<text text-anchor=\"start\" x=\"787.5\" y=\"-106.8\" font-family=\"Times,serif\" font-size=\"14.00\">Add</text>\n",
       "<text text-anchor=\"start\" x=\"772\" y=\"-96\" font-family=\"monospace\" font-size=\"10.00\">bitsize=6</text>\n",
       "</g>\n",
       "<!-- b5&#45;&gt;b14 -->\n",
       "<g id=\"edge25\" class=\"edge\">\n",
       "<title>b5-&gt;b14</title>\n",
       "<path fill=\"none\" stroke=\"black\" d=\"M634.92,-194.81C648.23,-178.82 669.98,-155.37 693.5,-141 711.95,-129.72 734.44,-121.63 753.96,-116.08\"/>\n",
       "<polygon fill=\"black\" stroke=\"black\" points=\"755.11,-119.4 763.86,-113.41 753.29,-112.64 755.11,-119.4\"/>\n",
       "<text text-anchor=\"middle\" x=\"697\" y=\"-155.3\" font-family=\"Times,serif\" font-size=\"14.00\">1</text>\n",
       "</g>\n",
       "<!-- b20 -->\n",
       "<g id=\"node21\" class=\"node\">\n",
       "<title>b20</title>\n",
       "<polygon fill=\"none\" stroke=\"black\" points=\"514.5,-123 404.5,-123 404.5,-87 514.5,-87 514.5,-123\"/>\n",
       "<text text-anchor=\"start\" x=\"412.5\" y=\"-106.8\" font-family=\"Times,serif\" font-size=\"14.00\">ArbitraryClifford</text>\n",
       "<text text-anchor=\"start\" x=\"450\" y=\"-96\" font-family=\"monospace\" font-size=\"10.00\">n=2</text>\n",
       "</g>\n",
       "<!-- b5&#45;&gt;b20 -->\n",
       "<g id=\"edge24\" class=\"edge\">\n",
       "<title>b5-&gt;b20</title>\n",
       "<path fill=\"none\" stroke=\"black\" d=\"M595.47,-194.97C568.04,-177.02 524.68,-148.65 494.32,-128.78\"/>\n",
       "<polygon fill=\"black\" stroke=\"black\" points=\"496.02,-125.71 485.73,-123.16 492.18,-131.57 496.02,-125.71\"/>\n",
       "<text text-anchor=\"middle\" x=\"567\" y=\"-155.3\" font-family=\"Times,serif\" font-size=\"14.00\">6</text>\n",
       "</g>\n",
       "<!-- b15 -->\n",
       "<g id=\"node16\" class=\"node\">\n",
       "<title>b15</title>\n",
       "<polygon fill=\"none\" stroke=\"black\" points=\"355,-231 176,-231 176,-195 355,-195 355,-231\"/>\n",
       "<text text-anchor=\"start\" x=\"253.5\" y=\"-214.8\" font-family=\"Times,serif\" font-size=\"14.00\">And</text>\n",
       "<text text-anchor=\"start\" x=\"184\" y=\"-204\" font-family=\"monospace\" font-size=\"10.00\">cv1=1, cv2=0, adjoint=False</text>\n",
       "</g>\n",
       "<!-- b6&#45;&gt;b15 -->\n",
       "<g id=\"edge28\" class=\"edge\">\n",
       "<title>b6-&gt;b15</title>\n",
       "<path fill=\"none\" stroke=\"black\" d=\"M422.46,-302.97C390.52,-284.86 339.87,-256.16 304.79,-236.27\"/>\n",
       "<polygon fill=\"black\" stroke=\"black\" points=\"306.21,-233.05 295.78,-231.16 302.75,-239.14 306.21,-233.05\"/>\n",
       "<text text-anchor=\"middle\" x=\"393.5\" y=\"-263.3\" font-family=\"Times,serif\" font-size=\"14.00\">26</text>\n",
       "</g>\n",
       "<!-- b16 -->\n",
       "<g id=\"node17\" class=\"node\">\n",
       "<title>b16</title>\n",
       "<polygon fill=\"none\" stroke=\"black\" points=\"546,-231 373,-231 373,-195 546,-195 546,-231\"/>\n",
       "<text text-anchor=\"start\" x=\"444\" y=\"-214.8\" font-family=\"Times,serif\" font-size=\"14.00\">And†</text>\n",
       "<text text-anchor=\"start\" x=\"381\" y=\"-204\" font-family=\"monospace\" font-size=\"10.00\">cv1=1, cv2=1, adjoint=True</text>\n",
       "</g>\n",
       "<!-- b6&#45;&gt;b16 -->\n",
       "<g id=\"edge29\" class=\"edge\">\n",
       "<title>b6-&gt;b16</title>\n",
       "<path fill=\"none\" stroke=\"black\" d=\"M453.62,-302.97C454.72,-286.38 456.4,-260.88 457.69,-241.43\"/>\n",
       "<polygon fill=\"black\" stroke=\"black\" points=\"461.19,-241.55 458.35,-231.34 454.2,-241.09 461.19,-241.55\"/>\n",
       "<text text-anchor=\"middle\" x=\"463.5\" y=\"-263.3\" font-family=\"Times,serif\" font-size=\"14.00\">26</text>\n",
       "</g>\n",
       "<!-- b17 -->\n",
       "<g id=\"node18\" class=\"node\">\n",
       "<title>b17</title>\n",
       "<polygon fill=\"none\" stroke=\"black\" points=\"249,-177 100,-177 100,-141 249,-141 249,-177\"/>\n",
       "<text text-anchor=\"start\" x=\"138\" y=\"-160.8\" font-family=\"Times,serif\" font-size=\"14.00\">RotationBloq</text>\n",
       "<text text-anchor=\"start\" x=\"108\" y=\"-150\" font-family=\"monospace\" font-size=\"10.00\">angle=_phi0, eps=1e-11</text>\n",
       "</g>\n",
       "<!-- b7&#45;&gt;b17 -->\n",
       "<g id=\"edge33\" class=\"edge\">\n",
       "<title>b7-&gt;b17</title>\n",
       "<path fill=\"none\" stroke=\"black\" d=\"M89.67,-302.88C106.29,-274.88 139.4,-219.11 158.98,-186.14\"/>\n",
       "<polygon fill=\"black\" stroke=\"black\" points=\"162.02,-187.87 164.12,-177.48 156,-184.3 162.02,-187.87\"/>\n",
       "<text text-anchor=\"middle\" x=\"128.5\" y=\"-263.3\" font-family=\"Times,serif\" font-size=\"14.00\">24</text>\n",
       "</g>\n",
       "<!-- b19 -->\n",
       "<g id=\"node20\" class=\"node\">\n",
       "<title>b19</title>\n",
       "<polygon fill=\"none\" stroke=\"black\" points=\"1019.5,-36 909.5,-36 909.5,0 1019.5,0 1019.5,-36\"/>\n",
       "<text text-anchor=\"start\" x=\"917.5\" y=\"-19.8\" font-family=\"Times,serif\" font-size=\"14.00\">ArbitraryClifford</text>\n",
       "<text text-anchor=\"start\" x=\"955\" y=\"-9\" font-family=\"monospace\" font-size=\"10.00\">n=1</text>\n",
       "</g>\n",
       "<!-- b8&#45;&gt;b19 -->\n",
       "<g id=\"edge12\" class=\"edge\">\n",
       "<title>b8-&gt;b19</title>\n",
       "<path fill=\"none\" stroke=\"black\" d=\"M1053.57,-86.57C1049.3,-76.1 1042.68,-63.09 1033.5,-54 1028.69,-49.24 1023.1,-44.99 1017.22,-41.25\"/>\n",
       "<polygon fill=\"black\" stroke=\"black\" points=\"1018.86,-38.15 1008.47,-36.12 1015.32,-44.19 1018.86,-38.15\"/>\n",
       "<text text-anchor=\"middle\" x=\"1055\" y=\"-57.8\" font-family=\"Times,serif\" font-size=\"14.00\">263</text>\n",
       "</g>\n",
       "<!-- b21 -->\n",
       "<g id=\"node22\" class=\"node\">\n",
       "<title>b21</title>\n",
       "<polygon fill=\"none\" stroke=\"black\" points=\"859.5,-36 805.5,-36 805.5,0 859.5,0 859.5,-36\"/>\n",
       "<text text-anchor=\"start\" x=\"815.5\" y=\"-14.3\" font-family=\"Times,serif\" font-size=\"14.00\">TGate</text>\n",
       "</g>\n",
       "<!-- b8&#45;&gt;b21 -->\n",
       "<g id=\"edge13\" class=\"edge\">\n",
       "<title>b8-&gt;b21</title>\n",
       "<path fill=\"none\" stroke=\"black\" d=\"M1037.71,-86.9C1021.15,-74.21 999.57,-58.37 989.5,-54 952.49,-37.92 939.86,-44.9 900.5,-36 890.35,-33.71 879.4,-31.05 869.31,-28.53\"/>\n",
       "<polygon fill=\"black\" stroke=\"black\" points=\"870.12,-25.12 859.57,-26.07 868.4,-31.91 870.12,-25.12\"/>\n",
       "<text text-anchor=\"middle\" x=\"1018.5\" y=\"-57.8\" font-family=\"Times,serif\" font-size=\"14.00\">56</text>\n",
       "</g>\n",
       "<!-- b9&#45;&gt;b18 -->\n",
       "<g id=\"edge14\" class=\"edge\">\n",
       "<title>b9-&gt;b18</title>\n",
       "<path fill=\"none\" stroke=\"black\" d=\"M1244.05,-194.98C1203.26,-178.53 1138.1,-154.23 1079.5,-141 1008.84,-125.05 987.31,-142.37 917.5,-123 917.4,-122.97 917.3,-122.95 917.21,-122.92\"/>\n",
       "<polygon fill=\"black\" stroke=\"black\" points=\"918.61,-119.7 908.02,-119.8 916.36,-126.33 918.61,-119.7\"/>\n",
       "<text text-anchor=\"middle\" x=\"1202\" y=\"-155.3\" font-family=\"Times,serif\" font-size=\"14.00\">209</text>\n",
       "</g>\n",
       "<!-- b10&#45;&gt;b18 -->\n",
       "<g id=\"edge19\" class=\"edge\">\n",
       "<title>b10-&gt;b18</title>\n",
       "<path fill=\"none\" stroke=\"black\" d=\"M824.26,-194.97C835.04,-177.92 851.77,-151.46 864.18,-131.82\"/>\n",
       "<polygon fill=\"black\" stroke=\"black\" points=\"867.16,-133.66 869.54,-123.34 861.24,-129.92 867.16,-133.66\"/>\n",
       "<text text-anchor=\"middle\" x=\"867\" y=\"-155.3\" font-family=\"Times,serif\" font-size=\"14.00\">551</text>\n",
       "</g>\n",
       "<!-- b11&#45;&gt;b18 -->\n",
       "<g id=\"edge20\" class=\"edge\">\n",
       "<title>b11-&gt;b18</title>\n",
       "<path fill=\"none\" stroke=\"black\" d=\"M961.92,-194.97C946.03,-177.61 921.22,-150.5 903.17,-130.77\"/>\n",
       "<polygon fill=\"black\" stroke=\"black\" points=\"905.7,-128.36 896.37,-123.34 900.54,-133.08 905.7,-128.36\"/>\n",
       "<text text-anchor=\"middle\" x=\"953\" y=\"-155.3\" font-family=\"Times,serif\" font-size=\"14.00\">452</text>\n",
       "</g>\n",
       "<!-- b12&#45;&gt;b19 -->\n",
       "<g id=\"edge22\" class=\"edge\">\n",
       "<title>b12-&gt;b19</title>\n",
       "<path fill=\"none\" stroke=\"black\" d=\"M964.5,-86.8C964.5,-75.16 964.5,-59.55 964.5,-46.24\"/>\n",
       "<polygon fill=\"black\" stroke=\"black\" points=\"968,-46.18 964.5,-36.18 961,-46.18 968,-46.18\"/>\n",
       "<text text-anchor=\"middle\" x=\"975\" y=\"-57.8\" font-family=\"Times,serif\" font-size=\"14.00\">434</text>\n",
       "</g>\n",
       "<!-- b12&#45;&gt;b21 -->\n",
       "<g id=\"edge21\" class=\"edge\">\n",
       "<title>b12-&gt;b21</title>\n",
       "<path fill=\"none\" stroke=\"black\" d=\"M937.79,-86.8C917.57,-73.78 889.62,-55.78 867.6,-41.6\"/>\n",
       "<polygon fill=\"black\" stroke=\"black\" points=\"869.48,-38.65 859.17,-36.18 865.69,-44.53 869.48,-38.65\"/>\n",
       "<text text-anchor=\"middle\" x=\"912.5\" y=\"-57.8\" font-family=\"Times,serif\" font-size=\"14.00\">92</text>\n",
       "</g>\n",
       "<!-- b13&#45;&gt;b18 -->\n",
       "<g id=\"edge23\" class=\"edge\">\n",
       "<title>b13-&gt;b18</title>\n",
       "<path fill=\"none\" stroke=\"black\" d=\"M1103.18,-194.94C1067.41,-180.28 1014.23,-158.78 967.5,-141 945.43,-132.6 939.36,-131.94 917.5,-123 917.41,-122.96 917.31,-122.92 917.22,-122.88\"/>\n",
       "<polygon fill=\"black\" stroke=\"black\" points=\"918.84,-119.77 908.27,-119.07 916.09,-126.21 918.84,-119.77\"/>\n",
       "<text text-anchor=\"middle\" x=\"1065\" y=\"-155.3\" font-family=\"Times,serif\" font-size=\"14.00\">108</text>\n",
       "</g>\n",
       "<!-- b14&#45;&gt;b19 -->\n",
       "<g id=\"edge26\" class=\"edge\">\n",
       "<title>b14-&gt;b19</title>\n",
       "<path fill=\"none\" stroke=\"black\" d=\"M808.63,-86.82C815.26,-75.9 825.22,-62.31 837.5,-54 855.81,-41.61 878.41,-33.58 899.44,-28.39\"/>\n",
       "<polygon fill=\"black\" stroke=\"black\" points=\"900.33,-31.78 909.29,-26.14 898.76,-24.96 900.33,-31.78\"/>\n",
       "<text text-anchor=\"middle\" x=\"844.5\" y=\"-57.8\" font-family=\"Times,serif\" font-size=\"14.00\">92</text>\n",
       "</g>\n",
       "<!-- b14&#45;&gt;b21 -->\n",
       "<g id=\"edge27\" class=\"edge\">\n",
       "<title>b14-&gt;b21</title>\n",
       "<path fill=\"none\" stroke=\"black\" d=\"M797.87,-86.74C797.58,-76.82 798.33,-64.32 802.5,-54 803.9,-50.53 805.79,-47.16 807.95,-43.97\"/>\n",
       "<polygon fill=\"black\" stroke=\"black\" points=\"810.76,-46.05 814.11,-36 805.22,-41.77 810.76,-46.05\"/>\n",
       "<text text-anchor=\"middle\" x=\"809.5\" y=\"-57.8\" font-family=\"Times,serif\" font-size=\"14.00\">20</text>\n",
       "</g>\n",
       "<!-- b15&#45;&gt;b20 -->\n",
       "<g id=\"edge31\" class=\"edge\">\n",
       "<title>b15-&gt;b20</title>\n",
       "<path fill=\"none\" stroke=\"black\" d=\"M301.49,-194.83C312.78,-189.29 325.23,-183.02 336.5,-177 365.62,-161.44 397.92,-142.73 422.12,-128.43\"/>\n",
       "<polygon fill=\"black\" stroke=\"black\" points=\"424.16,-131.29 430.97,-123.18 420.58,-125.27 424.16,-131.29\"/>\n",
       "<text text-anchor=\"middle\" x=\"403.5\" y=\"-155.3\" font-family=\"Times,serif\" font-size=\"14.00\">11</text>\n",
       "</g>\n",
       "<!-- b15&#45;&gt;b21 -->\n",
       "<g id=\"edge30\" class=\"edge\">\n",
       "<title>b15-&gt;b21</title>\n",
       "<path fill=\"none\" stroke=\"black\" d=\"M276.75,-194.86C296,-167.09 338.08,-112.78 388.5,-87 459.7,-50.59 701.8,-28.87 795.26,-21.68\"/>\n",
       "<polygon fill=\"black\" stroke=\"black\" points=\"795.68,-25.16 805.39,-20.91 795.15,-18.18 795.68,-25.16\"/>\n",
       "<text text-anchor=\"middle\" x=\"392\" y=\"-101.3\" font-family=\"Times,serif\" font-size=\"14.00\">4</text>\n",
       "</g>\n",
       "<!-- b16&#45;&gt;b20 -->\n",
       "<g id=\"edge32\" class=\"edge\">\n",
       "<title>b16-&gt;b20</title>\n",
       "<path fill=\"none\" stroke=\"black\" d=\"M459.5,-194.97C459.5,-178.38 459.5,-152.88 459.5,-133.43\"/>\n",
       "<polygon fill=\"black\" stroke=\"black\" points=\"463,-133.34 459.5,-123.34 456,-133.34 463,-133.34\"/>\n",
       "<text text-anchor=\"middle\" x=\"463\" y=\"-155.3\" font-family=\"Times,serif\" font-size=\"14.00\">4</text>\n",
       "</g>\n",
       "<!-- b17&#45;&gt;b21 -->\n",
       "<g id=\"edge34\" class=\"edge\">\n",
       "<title>b17-&gt;b21</title>\n",
       "<path fill=\"none\" stroke=\"black\" d=\"M189.82,-140.93C212.83,-116.6 258.95,-72.84 308.5,-54 397.59,-20.13 690.65,-18.24 795.11,-18.68\"/>\n",
       "<polygon fill=\"black\" stroke=\"black\" points=\"795.17,-22.18 805.19,-18.74 795.21,-15.18 795.17,-22.18\"/>\n",
       "<text text-anchor=\"middle\" x=\"254.5\" y=\"-101.3\" font-family=\"Times,serif\" font-size=\"14.00\">52</text>\n",
       "</g>\n",
       "<!-- b18&#45;&gt;b21 -->\n",
       "<g id=\"edge9\" class=\"edge\">\n",
       "<title>b18-&gt;b21</title>\n",
       "<path fill=\"none\" stroke=\"black\" d=\"M872.43,-86.61C867.75,-76.87 861.6,-64.6 855.5,-54 853.74,-50.95 851.82,-47.79 849.87,-44.69\"/>\n",
       "<polygon fill=\"black\" stroke=\"black\" points=\"852.75,-42.69 844.38,-36.19 846.87,-46.49 852.75,-42.69\"/>\n",
       "<text text-anchor=\"middle\" x=\"870.5\" y=\"-57.8\" font-family=\"Times,serif\" font-size=\"14.00\">20</text>\n",
       "</g>\n",
       "</g>\n",
       "</svg>"
      ],
      "text/plain": [
       "<IPython.core.display.SVG object>"
      ]
     },
     "metadata": {},
     "output_type": "display_data"
    }
   ],
   "source": [
    "from qualtran.bloqs.chemistry.trotter import PotentialEnergy \n",
    "pe = PotentialEnergy(4, 21)\n",
    "graph, sigma = pe.call_graph(generalizer=generalize)\n",
    "show_call_graph(graph)"
   ]
  },
  {
   "cell_type": "markdown",
   "metadata": {},
   "source": [
    "Let's look at the costs of doing just the pair potential. Note that the Fusion paper does not count the cost of applying the phase and also our qualtran estimates does not account for the bit shifting necessary to deal with small values of $x$. The bit shifting cost is about $n(n+1) + 15n$, which we do not include in the comparison below. The cost of uncomputing the arithmetic is also ignored in both estimates."
   ]
  },
  {
   "cell_type": "code",
   "execution_count": 22,
   "metadata": {
    "execution": {
     "iopub.execute_input": "2023-10-30T23:23:58.187781Z",
     "iopub.status.busy": "2023-10-30T23:23:58.187617Z",
     "iopub.status.idle": "2023-10-30T23:23:58.279206Z",
     "shell.execute_reply": "2023-10-30T23:23:58.278934Z"
    }
   },
   "outputs": [
    {
     "name": "stdout",
     "output_type": "stream",
     "text": [
      "qualtran_cost = 8900 vs paper_cost = 9052\n"
     ]
    }
   ],
   "source": [
    "from qualtran.bloqs.chemistry.trotter import PairPotential\n",
    "nbits = 6\n",
    "poly_coeffs = get_inverse_square_root_poly_coeffs()\n",
    "qrom_data = build_qrom_data_for_poly_fit(2*nbits+2, 15, poly_coeffs)\n",
    "qrom_data = tuple(tuple(int(k) for k in d) for d in qrom_data)\n",
    "\n",
    "pe = PairPotential(6, qrom_data)\n",
    "graph, sigma = pe.call_graph(generalizer=generalize)\n",
    "paper_cost = (\n",
    "    2136 # poly interp + newton raphson\n",
    "    + (3*nbits**2 - nbits - 1) # sum of squares\n",
    "    + (4*nbits + 2) # QROM\n",
    ")\n",
    "print(f\"qualtran_cost = {pe.t_complexity().t-24*52} vs paper_cost = {4*paper_cost}\")"
   ]
  },
  {
   "cell_type": "markdown",
   "metadata": {},
   "source": [
    "## Appendix\n",
    "\n",
    "Note in practice we really use fixed point representation of floating numbers.\n",
    "\n",
    "### Fixed point and binary arithmetic\n",
    "\n",
    "To evaluate the polynomial and Newton-Raphson step we need fixed-point arithmetic (addition, multiplication, squaring and scaling). Recall that fixed-point real valued (between 0 and 1) numbers are approximated as (using a convention where the most significant bit is yielded first)\n",
    "\n",
    "$$\n",
    "\\kappa = \\sum_{l=0}^{b_r-1} \\kappa_l/2^{l+1}, \\ \\ \\ \\ \\kappa_l \\in \\{0, 1\\}\n",
    "$$\n",
    "\n",
    "while (positive) integers can be represented as\n",
    "\n",
    "$$\n",
    "\\lambda = \\sum_{l=0}^{b_i-1} 2^{b_i - l} \\lambda_l, \\ \\ \\ \\ \\lambda_l \\in \\{0, 1\\}\n",
    "$$"
   ]
  }
 ],
 "metadata": {
  "kernelspec": {
   "display_name": "Python 3 (ipykernel)",
   "language": "python",
   "name": "python3"
  },
  "language_info": {
   "codemirror_mode": {
    "name": "ipython",
    "version": 3
   },
   "file_extension": ".py",
   "mimetype": "text/x-python",
   "name": "python",
   "nbconvert_exporter": "python",
   "pygments_lexer": "ipython3",
   "version": "3.10.9"
  }
 },
 "nbformat": 4,
 "nbformat_minor": 2
}
