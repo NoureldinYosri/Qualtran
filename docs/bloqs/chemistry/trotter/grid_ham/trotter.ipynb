{
 "cells": [
  {
   "cell_type": "markdown",
   "id": "c1a23dc3",
   "metadata": {
    "cq.autogen": "title_cell"
   },
   "source": [
    "# Trotter Bloqs\n",
    "\n",
    "Bloqs for Trotter simulation of the real space grid Hamiltonian."
   ]
  },
  {
   "cell_type": "code",
   "execution_count": 1,
   "id": "9a92a195",
   "metadata": {
    "cq.autogen": "top_imports"
   },
   "outputs": [],
   "source": [
    "from qualtran import Bloq, CompositeBloq, BloqBuilder, Signature, Register\n",
    "from qualtran import QBit, QInt, QUInt, QAny\n",
    "from qualtran.drawing import show_bloq, show_call_graph, show_counts_sigma\n",
    "from typing import *\n",
    "import numpy as np\n",
    "import sympy\n",
    "import cirq"
   ]
  },
  {
   "cell_type": "markdown",
   "id": "03ff98e4",
   "metadata": {
    "cq.autogen": "PolynmomialEvaluationInverseSquareRoot.bloq_doc.md"
   },
   "source": [
    "## `PolynmomialEvaluationInverseSquareRoot`\n",
    "Bloq to evaluate a polynomial approximation to inverse Square root from QROM.\n",
    "\n",
    "#### Parameters\n",
    " - `in_bitsize`: The number of bits encoding the input registers.\n",
    " - `out_bitsize`: The number of bits encoding the input registers. \n",
    "\n",
    "#### Registers\n",
    " - `in_c{0,1,2,3}`: QROM input containing the 4 polynomial coefficients.\n",
    " - `out`: Output register to store polynomial approximation to inverse square root. \n",
    "\n",
    "#### References\n",
    " - [Quantum computation of stopping power for inertial fusion target design](     https://arxiv.org/pdf/2308.12352.pdf)\n"
   ]
  },
  {
   "cell_type": "code",
   "execution_count": 2,
   "id": "c6c171f4",
   "metadata": {
    "cq.autogen": "PolynmomialEvaluationInverseSquareRoot.bloq_doc.py"
   },
   "outputs": [],
   "source": [
    "from qualtran.bloqs.chemistry.trotter.grid_ham.inverse_sqrt import PolynmomialEvaluationInverseSquareRoot"
   ]
  },
  {
   "cell_type": "markdown",
   "id": "b474b1b2",
   "metadata": {
    "cq.autogen": "PolynmomialEvaluationInverseSquareRoot.example_instances.md"
   },
   "source": [
    "### Example Instances"
   ]
  },
  {
   "cell_type": "code",
   "execution_count": 3,
   "id": "61c0ce9e",
   "metadata": {
    "cq.autogen": "PolynmomialEvaluationInverseSquareRoot.poly_inv_sqrt"
   },
   "outputs": [],
   "source": [
    "poly_inv_sqrt = PolynmomialEvaluationInverseSquareRoot(7, 8, 12)"
   ]
  },
  {
   "cell_type": "markdown",
   "id": "48cb524e",
   "metadata": {
    "cq.autogen": "PolynmomialEvaluationInverseSquareRoot.graphical_signature.md"
   },
   "source": [
    "#### Graphical Signature"
   ]
  },
  {
   "cell_type": "code",
   "execution_count": 4,
   "id": "2b06d812",
   "metadata": {
    "cq.autogen": "PolynmomialEvaluationInverseSquareRoot.graphical_signature.py"
   },
   "outputs": [
    {
     "data": {
      "application/vnd.jupyter.widget-view+json": {
       "model_id": "ea39a1bd760a4e8eb1d2370a2725af3b",
       "version_major": 2,
       "version_minor": 0
      },
      "text/plain": [
       "HBox(children=(Output(outputs=({'output_type': 'display_data', 'data': {'text/plain': '<IPython.core.display.M…"
      ]
     },
     "metadata": {},
     "output_type": "display_data"
    }
   ],
   "source": [
    "from qualtran.drawing import show_bloqs\n",
    "show_bloqs([poly_inv_sqrt],\n",
    "           ['`poly_inv_sqrt`'])"
   ]
  },
  {
   "cell_type": "markdown",
   "id": "bfdeaf9a",
   "metadata": {
    "cq.autogen": "PolynmomialEvaluationInverseSquareRoot.call_graph.md"
   },
   "source": [
    "### Call Graph"
   ]
  },
  {
   "cell_type": "code",
   "execution_count": 5,
   "id": "bfe3ebb2",
   "metadata": {
    "cq.autogen": "PolynmomialEvaluationInverseSquareRoot.call_graph.py"
   },
   "outputs": [
    {
     "data": {
      "image/svg+xml": [
       "<svg xmlns=\"http://www.w3.org/2000/svg\" xmlns:xlink=\"http://www.w3.org/1999/xlink\" width=\"301pt\" height=\"131pt\" viewBox=\"0.00 0.00 301.00 131.00\">\n",
       "<g id=\"graph0\" class=\"graph\" transform=\"scale(1 1) rotate(0) translate(4 127)\">\n",
       "<title>counts</title>\n",
       "<polygon fill=\"white\" stroke=\"transparent\" points=\"-4,4 -4,-127 297,-127 297,4 -4,4\"/>\n",
       "<!-- b0 -->\n",
       "<g id=\"node1\" class=\"node\">\n",
       "<title>b0</title>\n",
       "<polygon fill=\"none\" stroke=\"black\" points=\"293,-123 0,-123 0,-87 293,-87 293,-123\"/>\n",
       "<text text-anchor=\"start\" x=\"28\" y=\"-106.8\" font-family=\"Times,serif\" font-size=\"14.00\">PolynmomialEvaluationInverseSquareRoot</text>\n",
       "<text text-anchor=\"start\" x=\"8\" y=\"-96\" font-family=\"monospace\" font-size=\"10.00\">x_sq_bitsize=7, poly_bitsize=8, out_bitsize=12</text>\n",
       "</g>\n",
       "<!-- b1 -->\n",
       "<g id=\"node2\" class=\"node\">\n",
       "<title>b1</title>\n",
       "<polygon fill=\"none\" stroke=\"black\" points=\"139,-36 14,-36 14,0 139,0 139,-36\"/>\n",
       "<text text-anchor=\"start\" x=\"64.5\" y=\"-19.8\" font-family=\"Times,serif\" font-size=\"14.00\">Add</text>\n",
       "<text text-anchor=\"start\" x=\"22\" y=\"-9\" font-family=\"monospace\" font-size=\"10.00\">dtype=QInt(bit ...</text>\n",
       "</g>\n",
       "<!-- b0&#45;&gt;b1 -->\n",
       "<g id=\"edge1\" class=\"edge\">\n",
       "<title>b0-&gt;b1</title>\n",
       "<path fill=\"none\" stroke=\"black\" d=\"M132.33,-86.8C122.28,-74.59 108.61,-57.99 97.32,-44.28\"/>\n",
       "<polygon fill=\"black\" stroke=\"black\" points=\"99.7,-41.67 90.64,-36.18 94.3,-46.12 99.7,-41.67\"/>\n",
       "<text text-anchor=\"middle\" x=\"120\" y=\"-57.8\" font-family=\"Times,serif\" font-size=\"14.00\">3</text>\n",
       "</g>\n",
       "<!-- b2 -->\n",
       "<g id=\"node3\" class=\"node\">\n",
       "<title>b2</title>\n",
       "<polygon fill=\"none\" stroke=\"black\" points=\"276,-36 157,-36 157,0 276,0 276,-36\"/>\n",
       "<text text-anchor=\"start\" x=\"165\" y=\"-19.8\" font-family=\"Times,serif\" font-size=\"14.00\">MultiplyTwoReals</text>\n",
       "<text text-anchor=\"start\" x=\"189\" y=\"-9\" font-family=\"monospace\" font-size=\"10.00\">bitsize=8</text>\n",
       "</g>\n",
       "<!-- b0&#45;&gt;b2 -->\n",
       "<g id=\"edge2\" class=\"edge\">\n",
       "<title>b0-&gt;b2</title>\n",
       "<path fill=\"none\" stroke=\"black\" d=\"M160.67,-86.8C170.72,-74.59 184.39,-57.99 195.68,-44.28\"/>\n",
       "<polygon fill=\"black\" stroke=\"black\" points=\"198.7,-46.12 202.36,-36.18 193.3,-41.67 198.7,-46.12\"/>\n",
       "<text text-anchor=\"middle\" x=\"190\" y=\"-57.8\" font-family=\"Times,serif\" font-size=\"14.00\">3</text>\n",
       "</g>\n",
       "</g>\n",
       "</svg>"
      ],
      "text/plain": [
       "<IPython.core.display.SVG object>"
      ]
     },
     "metadata": {},
     "output_type": "display_data"
    },
    {
     "data": {
      "text/markdown": [
       "#### Counts totals:\n",
       " - `Add(dtype=QInt(bitsize=8))`: 3\n",
       " - `MultiplyTwoReals(bitsize=8)`: 3"
      ],
      "text/plain": [
       "<IPython.core.display.Markdown object>"
      ]
     },
     "metadata": {},
     "output_type": "display_data"
    }
   ],
   "source": [
    "from qualtran.resource_counting.generalizers import ignore_split_join\n",
    "poly_inv_sqrt_g, poly_inv_sqrt_sigma = poly_inv_sqrt.call_graph(max_depth=1, generalizer=ignore_split_join)\n",
    "show_call_graph(poly_inv_sqrt_g)\n",
    "show_counts_sigma(poly_inv_sqrt_sigma)"
   ]
  },
  {
   "cell_type": "markdown",
   "id": "308c0f7a",
   "metadata": {
    "cq.autogen": "NewtonRaphsonApproxInverseSquareRoot.bloq_doc.md"
   },
   "source": [
    "## `NewtonRaphsonApproxInverseSquareRoot`\n",
    "Bloq implementing a single Newton-Raphson step to approximate the inverse square root.\n",
    "\n",
    "Given a (polynomial) approximation for $1/\\sqrt{x}$ (which will be $y_0$)\n",
    "below we can approximate the inverse square root by\n",
    "\n",
    "$$\n",
    "    y_{n+1} = \\frac{1}{2}y_n\\left(3-y_n^2 x\\right)\n",
    "$$\n",
    "\n",
    "For the case of computing the Coulomb potential we want\n",
    "\n",
    "$$\n",
    "    \\frac{1}{|r_i-r_j|} = \\frac{1}{\\sqrt{\\sum_k^3 (x^{k}_i-x^{k}_j)^2}}\n",
    "$$\n",
    "where $x^{k}_i$ is the $i$-th electron's coordinate in 3D and $k \\in \\{x,y,z\\}$.\n",
    "Thus the input register should store $\\sum_{k=x,y,z} (x^{k}_i-x^{k}_j)^2$.\n",
    "\n",
    "#### Parameters\n",
    " - `x_sq_bitsize`: The number of bits encoding the input (integer) register holding (x^2).\n",
    " - `poly_bitsize`: The number of bits encoding the input (fp-real) register holding y0 (the output of PolynomialEvaluation).\n",
    " - `output_bitsize`: The number of bits to store the output of the NewtonRaphson step. \n",
    "\n",
    "#### Registers\n",
    " - `x_sq`: an input_bitsize size register storing the value x^2.\n",
    " - `poly`: an poly_bitsize size register storing the value x^2.\n",
    " - `target`: a target_bitsize size register storing the output of the newton raphson step. \n",
    "\n",
    "#### References\n",
    " - [Faster quantum chemistry simulation on fault-tolerant quantum     computers](https://iopscience.iop.org/article/10.1088/1367-2630/14/11/115023/meta). \n"
   ]
  },
  {
   "cell_type": "code",
   "execution_count": 6,
   "id": "de625b9d",
   "metadata": {
    "cq.autogen": "NewtonRaphsonApproxInverseSquareRoot.bloq_doc.py"
   },
   "outputs": [],
   "source": [
    "from qualtran.bloqs.chemistry.trotter.grid_ham.inverse_sqrt import NewtonRaphsonApproxInverseSquareRoot"
   ]
  },
  {
   "cell_type": "markdown",
   "id": "b782fa6b",
   "metadata": {
    "cq.autogen": "NewtonRaphsonApproxInverseSquareRoot.example_instances.md"
   },
   "source": [
    "### Example Instances"
   ]
  },
  {
   "cell_type": "code",
   "execution_count": 7,
   "id": "f4464632",
   "metadata": {
    "cq.autogen": "NewtonRaphsonApproxInverseSquareRoot.nr_inv_sqrt"
   },
   "outputs": [],
   "source": [
    "nr_inv_sqrt = NewtonRaphsonApproxInverseSquareRoot(7, 8, 12)"
   ]
  },
  {
   "cell_type": "markdown",
   "id": "854f9e6c",
   "metadata": {
    "cq.autogen": "NewtonRaphsonApproxInverseSquareRoot.graphical_signature.md"
   },
   "source": [
    "#### Graphical Signature"
   ]
  },
  {
   "cell_type": "code",
   "execution_count": 8,
   "id": "115b41c5",
   "metadata": {
    "cq.autogen": "NewtonRaphsonApproxInverseSquareRoot.graphical_signature.py"
   },
   "outputs": [
    {
     "data": {
      "application/vnd.jupyter.widget-view+json": {
       "model_id": "682af7c59fde41078bc8d89e01b18d09",
       "version_major": 2,
       "version_minor": 0
      },
      "text/plain": [
       "HBox(children=(Output(outputs=({'output_type': 'display_data', 'data': {'text/plain': '<IPython.core.display.M…"
      ]
     },
     "metadata": {},
     "output_type": "display_data"
    }
   ],
   "source": [
    "from qualtran.drawing import show_bloqs\n",
    "show_bloqs([nr_inv_sqrt],\n",
    "           ['`nr_inv_sqrt`'])"
   ]
  },
  {
   "cell_type": "markdown",
   "id": "dea2dd4a",
   "metadata": {
    "cq.autogen": "NewtonRaphsonApproxInverseSquareRoot.call_graph.md"
   },
   "source": [
    "### Call Graph"
   ]
  },
  {
   "cell_type": "code",
   "execution_count": 9,
   "id": "7c28f4e7",
   "metadata": {
    "cq.autogen": "NewtonRaphsonApproxInverseSquareRoot.call_graph.py"
   },
   "outputs": [
    {
     "data": {
      "image/svg+xml": [
       "<svg xmlns=\"http://www.w3.org/2000/svg\" xmlns:xlink=\"http://www.w3.org/1999/xlink\" width=\"592pt\" height=\"131pt\" viewBox=\"0.00 0.00 592.00 131.00\">\n",
       "<g id=\"graph0\" class=\"graph\" transform=\"scale(1 1) rotate(0) translate(4 127)\">\n",
       "<title>counts</title>\n",
       "<polygon fill=\"white\" stroke=\"transparent\" points=\"-4,4 -4,-127 588,-127 588,4 -4,4\"/>\n",
       "<!-- b0 -->\n",
       "<g id=\"node1\" class=\"node\">\n",
       "<title>b0</title>\n",
       "<polygon fill=\"none\" stroke=\"black\" points=\"459,-123 148,-123 148,-87 459,-87 459,-123\"/>\n",
       "<text text-anchor=\"start\" x=\"186\" y=\"-106.8\" font-family=\"Times,serif\" font-size=\"14.00\">NewtonRaphsonApproxInverseSquareRoot</text>\n",
       "<text text-anchor=\"start\" x=\"156\" y=\"-96\" font-family=\"monospace\" font-size=\"10.00\">x_sq_bitsize=7, poly_bitsize=8, target_bitsize=12</text>\n",
       "</g>\n",
       "<!-- b1 -->\n",
       "<g id=\"node2\" class=\"node\">\n",
       "<title>b1</title>\n",
       "<polygon fill=\"none\" stroke=\"black\" points=\"125,-36 0,-36 0,0 125,0 125,-36\"/>\n",
       "<text text-anchor=\"start\" x=\"50.5\" y=\"-19.8\" font-family=\"Times,serif\" font-size=\"14.00\">Add</text>\n",
       "<text text-anchor=\"start\" x=\"8\" y=\"-9\" font-family=\"monospace\" font-size=\"10.00\">dtype=QInt(bit ...</text>\n",
       "</g>\n",
       "<!-- b0&#45;&gt;b1 -->\n",
       "<g id=\"edge1\" class=\"edge\">\n",
       "<title>b0-&gt;b1</title>\n",
       "<path fill=\"none\" stroke=\"black\" d=\"M255.02,-86.9C216.21,-73.21 161.65,-53.97 120.52,-39.46\"/>\n",
       "<polygon fill=\"black\" stroke=\"black\" points=\"121.5,-36.1 110.9,-36.07 119.17,-42.7 121.5,-36.1\"/>\n",
       "<text text-anchor=\"middle\" x=\"201\" y=\"-57.8\" font-family=\"Times,serif\" font-size=\"14.00\">1</text>\n",
       "</g>\n",
       "<!-- b2 -->\n",
       "<g id=\"node3\" class=\"node\">\n",
       "<title>b2</title>\n",
       "<polygon fill=\"none\" stroke=\"black\" points=\"304,-36 143,-36 143,0 304,0 304,-36\"/>\n",
       "<text text-anchor=\"start\" x=\"181\" y=\"-19.8\" font-family=\"Times,serif\" font-size=\"14.00\">ScaleIntByReal</text>\n",
       "<text text-anchor=\"start\" x=\"151\" y=\"-9\" font-family=\"monospace\" font-size=\"10.00\">r_bitsize=8, i_bitsize=7</text>\n",
       "</g>\n",
       "<!-- b0&#45;&gt;b2 -->\n",
       "<g id=\"edge2\" class=\"edge\">\n",
       "<title>b0-&gt;b2</title>\n",
       "<path fill=\"none\" stroke=\"black\" d=\"M287.31,-86.8C275.6,-74.36 259.61,-57.36 246.56,-43.5\"/>\n",
       "<polygon fill=\"black\" stroke=\"black\" points=\"249.07,-41.06 239.67,-36.18 243.97,-45.86 249.07,-41.06\"/>\n",
       "<text text-anchor=\"middle\" x=\"272\" y=\"-57.8\" font-family=\"Times,serif\" font-size=\"14.00\">1</text>\n",
       "</g>\n",
       "<!-- b3 -->\n",
       "<g id=\"node4\" class=\"node\">\n",
       "<title>b3</title>\n",
       "<polygon fill=\"none\" stroke=\"black\" points=\"446.5,-36 322.5,-36 322.5,0 446.5,0 446.5,-36\"/>\n",
       "<text text-anchor=\"start\" x=\"330.5\" y=\"-19.8\" font-family=\"Times,serif\" font-size=\"14.00\">SquareRealNumber</text>\n",
       "<text text-anchor=\"start\" x=\"357\" y=\"-9\" font-family=\"monospace\" font-size=\"10.00\">bitsize=8</text>\n",
       "</g>\n",
       "<!-- b0&#45;&gt;b3 -->\n",
       "<g id=\"edge3\" class=\"edge\">\n",
       "<title>b0-&gt;b3</title>\n",
       "<path fill=\"none\" stroke=\"black\" d=\"M319.89,-86.8C331.75,-74.36 347.94,-57.36 361.15,-43.5\"/>\n",
       "<polygon fill=\"black\" stroke=\"black\" points=\"363.77,-45.83 368.13,-36.18 358.7,-41 363.77,-45.83\"/>\n",
       "<text text-anchor=\"middle\" x=\"353\" y=\"-57.8\" font-family=\"Times,serif\" font-size=\"14.00\">1</text>\n",
       "</g>\n",
       "<!-- b4 -->\n",
       "<g id=\"node5\" class=\"node\">\n",
       "<title>b4</title>\n",
       "<polygon fill=\"none\" stroke=\"black\" points=\"584,-36 465,-36 465,0 584,0 584,-36\"/>\n",
       "<text text-anchor=\"start\" x=\"473\" y=\"-19.8\" font-family=\"Times,serif\" font-size=\"14.00\">MultiplyTwoReals</text>\n",
       "<text text-anchor=\"start\" x=\"494\" y=\"-9\" font-family=\"monospace\" font-size=\"10.00\">bitsize=12</text>\n",
       "</g>\n",
       "<!-- b0&#45;&gt;b4 -->\n",
       "<g id=\"edge4\" class=\"edge\">\n",
       "<title>b0-&gt;b4</title>\n",
       "<path fill=\"none\" stroke=\"black\" d=\"M347.96,-86.9C383.25,-73.33 432.73,-54.29 470.34,-39.83\"/>\n",
       "<polygon fill=\"black\" stroke=\"black\" points=\"472.04,-42.93 480.11,-36.07 469.52,-36.39 472.04,-42.93\"/>\n",
       "<text text-anchor=\"middle\" x=\"431\" y=\"-57.8\" font-family=\"Times,serif\" font-size=\"14.00\">2</text>\n",
       "</g>\n",
       "</g>\n",
       "</svg>"
      ],
      "text/plain": [
       "<IPython.core.display.SVG object>"
      ]
     },
     "metadata": {},
     "output_type": "display_data"
    },
    {
     "data": {
      "text/markdown": [
       "#### Counts totals:\n",
       " - `Add(dtype=QInt(bitsize=12))`: 1\n",
       " - `MultiplyTwoReals(bitsize=12)`: 2\n",
       " - `ScaleIntByReal(r_bitsize=8, i_bitsize=7)`: 1\n",
       " - `SquareRealNumber(bitsize=8)`: 1"
      ],
      "text/plain": [
       "<IPython.core.display.Markdown object>"
      ]
     },
     "metadata": {},
     "output_type": "display_data"
    }
   ],
   "source": [
    "from qualtran.resource_counting.generalizers import ignore_split_join\n",
    "nr_inv_sqrt_g, nr_inv_sqrt_sigma = nr_inv_sqrt.call_graph(max_depth=1, generalizer=ignore_split_join)\n",
    "show_call_graph(nr_inv_sqrt_g)\n",
    "show_counts_sigma(nr_inv_sqrt_sigma)"
   ]
  },
  {
   "cell_type": "markdown",
   "id": "1068ae9e",
   "metadata": {
    "cq.autogen": "QuantumVariableRotation.bloq_doc.md"
   },
   "source": [
    "## `QuantumVariableRotation`\n",
    "Bloq implementing Quantum Variable Rotation\n",
    "\n",
    "$$\n",
    "    \\sum_j c_j|\\phi_j\\rangle \\rightarrow \\sum_j e^{i \\xi \\phi_j}  c_j | \\phi_j\\rangle\n",
    "$$\n",
    "\n",
    "This is the basic implementation in Fig. 14 of the reference.\n",
    "\n",
    "#### Parameters\n",
    " - `bitsize`: The number of bits encoding the phase angle $\\phi_j$. \n",
    "\n",
    "#### Registers\n",
    " - `phi`: a bitsize size register storing the angle $\\phi_j$. \n",
    "\n",
    "#### References\n",
    " - [Faster quantum chemistry simulation on fault-tolerant quantum     computers](https://iopscience.iop.org/article/10.1088/1367-2630/14/11/115023/meta).     Fig 14.\n"
   ]
  },
  {
   "cell_type": "code",
   "execution_count": 10,
   "id": "846d0bd8",
   "metadata": {
    "cq.autogen": "QuantumVariableRotation.bloq_doc.py"
   },
   "outputs": [],
   "source": [
    "from qualtran.bloqs.chemistry.trotter.grid_ham.qvr import QuantumVariableRotation"
   ]
  },
  {
   "cell_type": "markdown",
   "id": "f774d42b",
   "metadata": {
    "cq.autogen": "QuantumVariableRotation.example_instances.md"
   },
   "source": [
    "### Example Instances"
   ]
  },
  {
   "cell_type": "code",
   "execution_count": 11,
   "id": "fcb030c5",
   "metadata": {
    "cq.autogen": "QuantumVariableRotation.qvr"
   },
   "outputs": [],
   "source": [
    "qvr = QuantumVariableRotation(12)"
   ]
  },
  {
   "cell_type": "markdown",
   "id": "f137e98c",
   "metadata": {
    "cq.autogen": "QuantumVariableRotation.graphical_signature.md"
   },
   "source": [
    "#### Graphical Signature"
   ]
  },
  {
   "cell_type": "code",
   "execution_count": 12,
   "id": "46447039",
   "metadata": {
    "cq.autogen": "QuantumVariableRotation.graphical_signature.py"
   },
   "outputs": [
    {
     "data": {
      "application/vnd.jupyter.widget-view+json": {
       "model_id": "8873176d556540479645548352933656",
       "version_major": 2,
       "version_minor": 0
      },
      "text/plain": [
       "HBox(children=(Output(outputs=({'output_type': 'display_data', 'data': {'text/plain': '<IPython.core.display.M…"
      ]
     },
     "metadata": {},
     "output_type": "display_data"
    }
   ],
   "source": [
    "from qualtran.drawing import show_bloqs\n",
    "show_bloqs([qvr],\n",
    "           ['`qvr`'])"
   ]
  },
  {
   "cell_type": "markdown",
   "id": "6d0dfb35",
   "metadata": {
    "cq.autogen": "QuantumVariableRotation.call_graph.md"
   },
   "source": [
    "### Call Graph"
   ]
  },
  {
   "cell_type": "code",
   "execution_count": 13,
   "id": "bd149558",
   "metadata": {
    "cq.autogen": "QuantumVariableRotation.call_graph.py"
   },
   "outputs": [
    {
     "data": {
      "image/svg+xml": [
       "<svg xmlns=\"http://www.w3.org/2000/svg\" xmlns:xlink=\"http://www.w3.org/1999/xlink\" width=\"169pt\" height=\"131pt\" viewBox=\"0.00 0.00 169.00 131.00\">\n",
       "<g id=\"graph0\" class=\"graph\" transform=\"scale(1 1) rotate(0) translate(4 127)\">\n",
       "<title>counts</title>\n",
       "<polygon fill=\"white\" stroke=\"transparent\" points=\"-4,4 -4,-127 165,-127 165,4 -4,4\"/>\n",
       "<!-- b0 -->\n",
       "<g id=\"node1\" class=\"node\">\n",
       "<title>b0</title>\n",
       "<polygon fill=\"none\" stroke=\"black\" points=\"160,-123 1,-123 1,-87 160,-87 160,-123\"/>\n",
       "<text text-anchor=\"start\" x=\"9\" y=\"-106.8\" font-family=\"Times,serif\" font-size=\"14.00\">QuantumVariableRotation</text>\n",
       "<text text-anchor=\"start\" x=\"38\" y=\"-96\" font-family=\"monospace\" font-size=\"10.00\">phi_bitsize=12</text>\n",
       "</g>\n",
       "<!-- b1 -->\n",
       "<g id=\"node2\" class=\"node\">\n",
       "<title>b1</title>\n",
       "<polygon fill=\"none\" stroke=\"black\" points=\"161,-36 0,-36 0,0 161,0 161,-36\"/>\n",
       "<text text-anchor=\"start\" x=\"72.5\" y=\"-19.8\" font-family=\"Times,serif\" font-size=\"14.00\">Rz</text>\n",
       "<text text-anchor=\"start\" x=\"8\" y=\"-9\" font-family=\"monospace\" font-size=\"10.00\">angle=_theta0, eps=1e-11</text>\n",
       "</g>\n",
       "<!-- b0&#45;&gt;b1 -->\n",
       "<g id=\"edge1\" class=\"edge\">\n",
       "<title>b0-&gt;b1</title>\n",
       "<path fill=\"none\" stroke=\"black\" d=\"M80.5,-86.8C80.5,-75.16 80.5,-59.55 80.5,-46.24\"/>\n",
       "<polygon fill=\"black\" stroke=\"black\" points=\"84,-46.18 80.5,-36.18 77,-46.18 84,-46.18\"/>\n",
       "<text text-anchor=\"middle\" x=\"87.5\" y=\"-57.8\" font-family=\"Times,serif\" font-size=\"14.00\">12</text>\n",
       "</g>\n",
       "</g>\n",
       "</svg>"
      ],
      "text/plain": [
       "<IPython.core.display.SVG object>"
      ]
     },
     "metadata": {},
     "output_type": "display_data"
    },
    {
     "data": {
      "text/markdown": [
       "#### Counts totals:\n",
       " - `Rz(_theta0/piπ)`: 12"
      ],
      "text/plain": [
       "<IPython.core.display.Markdown object>"
      ]
     },
     "metadata": {},
     "output_type": "display_data"
    }
   ],
   "source": [
    "from qualtran.resource_counting.generalizers import ignore_split_join\n",
    "qvr_g, qvr_sigma = qvr.call_graph(max_depth=1, generalizer=ignore_split_join)\n",
    "show_call_graph(qvr_g)\n",
    "show_counts_sigma(qvr_sigma)"
   ]
  },
  {
   "cell_type": "markdown",
   "id": "b5e724f9",
   "metadata": {
    "cq.autogen": "KineticEnergy.bloq_doc.md"
   },
   "source": [
    "## `KineticEnergy`\n",
    "Bloq for the Kinetic energy unitary defined in the reference.\n",
    "\n",
    "#### Parameters\n",
    " - `num_elec`: The number of electrons.\n",
    " - `num_grid`: The number of grid points in each of the x, y and z directions. In total, for a cubic grid, there are $N = \\mathrm{num\\_grid}^3$ grid points. The number of bits required (in each spatial dimension) is thus log N + 1, where the + 1 is for the sign bit. \n",
    "\n",
    "#### Registers\n",
    " - `system`: The system register of size eta * 3 * nb \n",
    "\n",
    "#### References\n",
    " - [Faster quantum chemistry simulation on fault-tolerant quantum     computers](https://iopscience.iop.org/article/10.1088/1367-2630/14/11/115023/meta). \n"
   ]
  },
  {
   "cell_type": "code",
   "execution_count": 14,
   "id": "65d49288",
   "metadata": {
    "cq.autogen": "KineticEnergy.bloq_doc.py"
   },
   "outputs": [],
   "source": [
    "from qualtran.bloqs.chemistry.trotter.grid_ham.kinetic import KineticEnergy"
   ]
  },
  {
   "cell_type": "markdown",
   "id": "af274bd4",
   "metadata": {
    "cq.autogen": "KineticEnergy.example_instances.md"
   },
   "source": [
    "### Example Instances"
   ]
  },
  {
   "cell_type": "code",
   "execution_count": 15,
   "id": "1f178e10",
   "metadata": {
    "cq.autogen": "KineticEnergy.kinetic_energy"
   },
   "outputs": [],
   "source": [
    "nelec = 12\n",
    "ngrid_x = 2 * 8 + 1\n",
    "kinetic_energy = KineticEnergy(nelec, ngrid_x)"
   ]
  },
  {
   "cell_type": "markdown",
   "id": "d4504521",
   "metadata": {
    "cq.autogen": "KineticEnergy.graphical_signature.md"
   },
   "source": [
    "#### Graphical Signature"
   ]
  },
  {
   "cell_type": "code",
   "execution_count": 16,
   "id": "363afaa8",
   "metadata": {
    "cq.autogen": "KineticEnergy.graphical_signature.py"
   },
   "outputs": [
    {
     "data": {
      "application/vnd.jupyter.widget-view+json": {
       "model_id": "de6a5a3a83f549e49f0ecc2b7ae76033",
       "version_major": 2,
       "version_minor": 0
      },
      "text/plain": [
       "HBox(children=(Output(outputs=({'output_type': 'display_data', 'data': {'text/plain': '<IPython.core.display.M…"
      ]
     },
     "metadata": {},
     "output_type": "display_data"
    }
   ],
   "source": [
    "from qualtran.drawing import show_bloqs\n",
    "show_bloqs([kinetic_energy],\n",
    "           ['`kinetic_energy`'])"
   ]
  },
  {
   "cell_type": "markdown",
   "id": "e98215d5",
   "metadata": {
    "cq.autogen": "KineticEnergy.call_graph.md"
   },
   "source": [
    "### Call Graph"
   ]
  },
  {
   "cell_type": "code",
   "execution_count": 17,
   "id": "c9556aab",
   "metadata": {
    "cq.autogen": "KineticEnergy.call_graph.py"
   },
   "outputs": [
    {
     "data": {
      "image/svg+xml": [
       "<svg xmlns=\"http://www.w3.org/2000/svg\" xmlns:xlink=\"http://www.w3.org/1999/xlink\" width=\"429pt\" height=\"131pt\" viewBox=\"0.00 0.00 429.00 131.00\">\n",
       "<g id=\"graph0\" class=\"graph\" transform=\"scale(1 1) rotate(0) translate(4 127)\">\n",
       "<title>counts</title>\n",
       "<polygon fill=\"white\" stroke=\"transparent\" points=\"-4,4 -4,-127 425,-127 425,4 -4,4\"/>\n",
       "<!-- b0 -->\n",
       "<g id=\"node1\" class=\"node\">\n",
       "<title>b0</title>\n",
       "<polygon fill=\"none\" stroke=\"black\" points=\"308,-123 147,-123 147,-87 308,-87 308,-123\"/>\n",
       "<text text-anchor=\"start\" x=\"188\" y=\"-106.8\" font-family=\"Times,serif\" font-size=\"14.00\">KineticEnergy</text>\n",
       "<text text-anchor=\"start\" x=\"155\" y=\"-96\" font-family=\"monospace\" font-size=\"10.00\">num_elec=12, num_grid=17</text>\n",
       "</g>\n",
       "<!-- b1 -->\n",
       "<g id=\"node2\" class=\"node\">\n",
       "<title>b1</title>\n",
       "<polygon fill=\"none\" stroke=\"black\" points=\"159,-36 0,-36 0,0 159,0 159,-36\"/>\n",
       "<text text-anchor=\"start\" x=\"8\" y=\"-19.8\" font-family=\"Times,serif\" font-size=\"14.00\">QuantumVariableRotation</text>\n",
       "<text text-anchor=\"start\" x=\"37\" y=\"-9\" font-family=\"monospace\" font-size=\"10.00\">phi_bitsize=14</text>\n",
       "</g>\n",
       "<!-- b0&#45;&gt;b1 -->\n",
       "<g id=\"edge1\" class=\"edge\">\n",
       "<title>b0-&gt;b1</title>\n",
       "<path fill=\"none\" stroke=\"black\" d=\"M197.55,-86.8C174.61,-73.62 142.78,-55.34 117.95,-41.08\"/>\n",
       "<polygon fill=\"black\" stroke=\"black\" points=\"119.57,-37.98 109.15,-36.03 116.08,-44.05 119.57,-37.98\"/>\n",
       "<text text-anchor=\"middle\" x=\"169.5\" y=\"-57.8\" font-family=\"Times,serif\" font-size=\"14.00\">12</text>\n",
       "</g>\n",
       "<!-- b2 -->\n",
       "<g id=\"node3\" class=\"node\">\n",
       "<title>b2</title>\n",
       "<polygon fill=\"none\" stroke=\"black\" points=\"278,-36 177,-36 177,0 278,0 278,-36\"/>\n",
       "<text text-anchor=\"start\" x=\"186\" y=\"-19.8\" font-family=\"Times,serif\" font-size=\"14.00\">SumOfSquares</text>\n",
       "<text text-anchor=\"start\" x=\"185\" y=\"-9\" font-family=\"monospace\" font-size=\"10.00\">bitsize=6, k=3</text>\n",
       "</g>\n",
       "<!-- b0&#45;&gt;b2 -->\n",
       "<g id=\"edge2\" class=\"edge\">\n",
       "<title>b0-&gt;b2</title>\n",
       "<path fill=\"none\" stroke=\"black\" d=\"M227.5,-86.8C227.5,-75.16 227.5,-59.55 227.5,-46.24\"/>\n",
       "<polygon fill=\"black\" stroke=\"black\" points=\"231,-46.18 227.5,-36.18 224,-46.18 231,-46.18\"/>\n",
       "<text text-anchor=\"middle\" x=\"234.5\" y=\"-57.8\" font-family=\"Times,serif\" font-size=\"14.00\">12</text>\n",
       "</g>\n",
       "<!-- b3 -->\n",
       "<g id=\"node4\" class=\"node\">\n",
       "<title>b3</title>\n",
       "<polygon fill=\"none\" stroke=\"black\" points=\"421,-36 296,-36 296,0 421,0 421,-36\"/>\n",
       "<text text-anchor=\"start\" x=\"346\" y=\"-19.8\" font-family=\"Times,serif\" font-size=\"14.00\">Free</text>\n",
       "<text text-anchor=\"start\" x=\"304\" y=\"-9\" font-family=\"monospace\" font-size=\"10.00\">dtype=QAny(bit ...</text>\n",
       "</g>\n",
       "<!-- b0&#45;&gt;b3 -->\n",
       "<g id=\"edge3\" class=\"edge\">\n",
       "<title>b0-&gt;b3</title>\n",
       "<path fill=\"none\" stroke=\"black\" d=\"M254.01,-86.8C273.99,-73.84 301.57,-55.94 323.38,-41.79\"/>\n",
       "<polygon fill=\"black\" stroke=\"black\" points=\"325.55,-44.55 332.03,-36.18 321.74,-38.68 325.55,-44.55\"/>\n",
       "<text text-anchor=\"middle\" x=\"307.5\" y=\"-57.8\" font-family=\"Times,serif\" font-size=\"14.00\">12</text>\n",
       "</g>\n",
       "</g>\n",
       "</svg>"
      ],
      "text/plain": [
       "<IPython.core.display.SVG object>"
      ]
     },
     "metadata": {},
     "output_type": "display_data"
    },
    {
     "data": {
      "text/markdown": [
       "#### Counts totals:\n",
       " - `Free(dtype=QAny(bitsize=14))`: 12\n",
       " - `QuantumVariableRotation(phi_bitsize=14)`: 12\n",
       " - `SumOfSquares(bitsize=6, k=3)`: 12"
      ],
      "text/plain": [
       "<IPython.core.display.Markdown object>"
      ]
     },
     "metadata": {},
     "output_type": "display_data"
    }
   ],
   "source": [
    "from qualtran.resource_counting.generalizers import ignore_split_join\n",
    "kinetic_energy_g, kinetic_energy_sigma = kinetic_energy.call_graph(max_depth=1, generalizer=ignore_split_join)\n",
    "show_call_graph(kinetic_energy_g)\n",
    "show_counts_sigma(kinetic_energy_sigma)"
   ]
  },
  {
   "cell_type": "markdown",
   "id": "23977639",
   "metadata": {
    "cq.autogen": "PairPotential.bloq_doc.md"
   },
   "source": [
    "## `PairPotential`\n",
    "Potential Energy bloq for single pair of particles i and j.\n",
    "\n",
    "#### Parameters\n",
    " - `bitsize`: The number of bits for a single component of the system register.\n",
    " - `qrom_data`: The polynomial coefficients to load by QROM.\n",
    " - `poly_bitsize`: The number of bits of precision for the polynomial coefficients.\n",
    " - `label`: A label for the bloqs short name. The potential bloq can encode any sort of Coulomb interaction (electron-electron, election-ion, ion-ion,...) so can be reused. This label is to distinguish these different cases. \n",
    "\n",
    "#### Registers\n",
    " - `system_i`: The ith electron's register.\n",
    " - `system_j`: The jth electron's register. \n",
    "\n",
    "#### References\n",
    " - [Faster quantum chemistry simulation on fault-tolerant quantum     computers](https://iopscience.iop.org/article/10.1088/1367-2630/14/11/115023/meta). \n"
   ]
  },
  {
   "cell_type": "code",
   "execution_count": 18,
   "id": "d9319ec8",
   "metadata": {
    "cq.autogen": "PairPotential.bloq_doc.py"
   },
   "outputs": [],
   "source": [
    "from qualtran.bloqs.chemistry.trotter.grid_ham.potential import PairPotential, build_qrom_data_for_poly_fit\n",
    "from qualtran.bloqs.chemistry.trotter.grid_ham.inverse_sqrt import get_inverse_square_root_poly_coeffs"
   ]
  },
  {
   "cell_type": "markdown",
   "id": "2cb5c95b",
   "metadata": {
    "cq.autogen": "PairPotential.example_instances.md"
   },
   "source": [
    "### Example Instances"
   ]
  },
  {
   "cell_type": "code",
   "execution_count": 19,
   "id": "ed901b4c",
   "metadata": {
    "cq.autogen": "PairPotential.pair_potential"
   },
   "outputs": [],
   "source": [
    "bitsize = 7\n",
    "poly_bitsize = 15\n",
    "poly_coeffs = get_inverse_square_root_poly_coeffs()\n",
    "qrom_data = build_qrom_data_for_poly_fit(2 * bitsize + 2, poly_bitsize, poly_coeffs)\n",
    "qrom_data = tuple(tuple(int(k) for k in d) for d in qrom_data)\n",
    "pair_potential = PairPotential(bitsize=bitsize, qrom_data=qrom_data, poly_bitsize=poly_bitsize)"
   ]
  },
  {
   "cell_type": "markdown",
   "id": "451bf52f",
   "metadata": {
    "cq.autogen": "PairPotential.graphical_signature.md"
   },
   "source": [
    "#### Graphical Signature"
   ]
  },
  {
   "cell_type": "code",
   "execution_count": 20,
   "id": "e89df3ef",
   "metadata": {
    "cq.autogen": "PairPotential.graphical_signature.py"
   },
   "outputs": [
    {
     "data": {
      "application/vnd.jupyter.widget-view+json": {
       "model_id": "e80cba67a5044dd68aa6ff6f40eaefc6",
       "version_major": 2,
       "version_minor": 0
      },
      "text/plain": [
       "HBox(children=(Output(outputs=({'output_type': 'display_data', 'data': {'text/plain': '<IPython.core.display.M…"
      ]
     },
     "metadata": {},
     "output_type": "display_data"
    }
   ],
   "source": [
    "from qualtran.drawing import show_bloqs\n",
    "show_bloqs([pair_potential],\n",
    "           ['`pair_potential`'])"
   ]
  },
  {
   "cell_type": "markdown",
   "id": "18a392ea",
   "metadata": {
    "cq.autogen": "PairPotential.call_graph.md"
   },
   "source": [
    "### Call Graph"
   ]
  },
  {
   "cell_type": "code",
   "execution_count": 21,
   "id": "feceece7",
   "metadata": {
    "cq.autogen": "PairPotential.call_graph.py"
   },
   "outputs": [
    {
     "data": {
      "image/svg+xml": [
       "<svg xmlns=\"http://www.w3.org/2000/svg\" xmlns:xlink=\"http://www.w3.org/1999/xlink\" width=\"2586pt\" height=\"131pt\" viewBox=\"0.00 0.00 2586.00 131.00\">\n",
       "<g id=\"graph0\" class=\"graph\" transform=\"scale(1 1) rotate(0) translate(4 127)\">\n",
       "<title>counts</title>\n",
       "<polygon fill=\"white\" stroke=\"transparent\" points=\"-4,4 -4,-127 2582,-127 2582,4 -4,4\"/>\n",
       "<!-- b0 -->\n",
       "<g id=\"node1\" class=\"node\">\n",
       "<title>b0</title>\n",
       "<polygon fill=\"none\" stroke=\"black\" points=\"1969,-123 1460,-123 1460,-87 1969,-87 1969,-123\"/>\n",
       "<text text-anchor=\"start\" x=\"1679.5\" y=\"-106.8\" font-family=\"Times,serif\" font-size=\"14.00\">PairPotential</text>\n",
       "<text text-anchor=\"start\" x=\"1468\" y=\"-96\" font-family=\"monospace\" font-size=\"10.00\">bitsize=7, qrom_data=((0, 163 ..., poly_bitsize=15, inv_sqrt_bitsize=24, label='V'</text>\n",
       "</g>\n",
       "<!-- b1 -->\n",
       "<g id=\"node2\" class=\"node\">\n",
       "<title>b1</title>\n",
       "<polygon fill=\"none\" stroke=\"black\" points=\"305,-36 0,-36 0,0 305,0 305,-36\"/>\n",
       "<text text-anchor=\"start\" x=\"34\" y=\"-19.8\" font-family=\"Times,serif\" font-size=\"14.00\">PolynmomialEvaluationInverseSquareRoot</text>\n",
       "<text text-anchor=\"start\" x=\"8\" y=\"-9\" font-family=\"monospace\" font-size=\"10.00\">x_sq_bitsize=18, poly_bitsize=15, out_bitsize=15</text>\n",
       "</g>\n",
       "<!-- b0&#45;&gt;b1 -->\n",
       "<g id=\"edge1\" class=\"edge\">\n",
       "<title>b0-&gt;b1</title>\n",
       "<path fill=\"none\" stroke=\"black\" d=\"M1459.93,-102.47C1229.08,-99.59 879.57,-91.49 576.5,-69 477.77,-61.67 366.64,-48.38 282.93,-37.34\"/>\n",
       "<polygon fill=\"black\" stroke=\"black\" points=\"283.23,-33.85 272.86,-36.01 282.31,-40.79 283.23,-33.85\"/>\n",
       "<text text-anchor=\"middle\" x=\"580\" y=\"-57.8\" font-family=\"Times,serif\" font-size=\"14.00\">1</text>\n",
       "</g>\n",
       "<!-- b2 -->\n",
       "<g id=\"node3\" class=\"node\">\n",
       "<title>b2</title>\n",
       "<polygon fill=\"none\" stroke=\"black\" points=\"448,-36 323,-36 323,0 448,0 448,-36\"/>\n",
       "<text text-anchor=\"start\" x=\"373\" y=\"-19.8\" font-family=\"Times,serif\" font-size=\"14.00\">Free</text>\n",
       "<text text-anchor=\"start\" x=\"331\" y=\"-9\" font-family=\"monospace\" font-size=\"10.00\">dtype=QAny(bit ...</text>\n",
       "</g>\n",
       "<!-- b0&#45;&gt;b2 -->\n",
       "<g id=\"edge2\" class=\"edge\">\n",
       "<title>b0-&gt;b2</title>\n",
       "<path fill=\"none\" stroke=\"black\" d=\"M1459.68,-98.16C1276.23,-93 1022.91,-83.91 800.5,-69 650.55,-58.94 609.74,-61.17 458.26,-36.18\"/>\n",
       "<polygon fill=\"black\" stroke=\"black\" points=\"458.56,-32.68 448.12,-34.49 457.41,-39.59 458.56,-32.68\"/>\n",
       "<text text-anchor=\"middle\" x=\"804\" y=\"-57.8\" font-family=\"Times,serif\" font-size=\"14.00\">1</text>\n",
       "</g>\n",
       "<!-- b3 -->\n",
       "<g id=\"node4\" class=\"node\">\n",
       "<title>b3</title>\n",
       "<polygon fill=\"none\" stroke=\"black\" points=\"627,-36 466,-36 466,0 627,0 627,-36\"/>\n",
       "<text text-anchor=\"start\" x=\"497.5\" y=\"-19.8\" font-family=\"Times,serif\" font-size=\"14.00\">OutOfPlaceAdder</text>\n",
       "<text text-anchor=\"start\" x=\"474\" y=\"-9\" font-family=\"monospace\" font-size=\"10.00\">bitsize=7, adjoint=False</text>\n",
       "</g>\n",
       "<!-- b0&#45;&gt;b3 -->\n",
       "<g id=\"edge3\" class=\"edge\">\n",
       "<title>b0-&gt;b3</title>\n",
       "<path fill=\"none\" stroke=\"black\" d=\"M1459.94,-96.99C1243.32,-88.89 923.92,-71.93 637.61,-36.19\"/>\n",
       "<polygon fill=\"black\" stroke=\"black\" points=\"637.8,-32.68 627.44,-34.91 636.92,-39.63 637.8,-32.68\"/>\n",
       "<text text-anchor=\"middle\" x=\"965\" y=\"-57.8\" font-family=\"Times,serif\" font-size=\"14.00\">3</text>\n",
       "</g>\n",
       "<!-- b4 -->\n",
       "<g id=\"node5\" class=\"node\">\n",
       "<title>b4</title>\n",
       "<polygon fill=\"none\" stroke=\"black\" points=\"968,-36 645,-36 645,0 968,0 968,-36\"/>\n",
       "<text text-anchor=\"start\" x=\"689\" y=\"-19.8\" font-family=\"Times,serif\" font-size=\"14.00\">NewtonRaphsonApproxInverseSquareRoot</text>\n",
       "<text text-anchor=\"start\" x=\"653\" y=\"-9\" font-family=\"monospace\" font-size=\"10.00\">x_sq_bitsize=18, poly_bitsize=15, target_bitsize=24</text>\n",
       "</g>\n",
       "<!-- b0&#45;&gt;b4 -->\n",
       "<g id=\"edge4\" class=\"edge\">\n",
       "<title>b0-&gt;b4</title>\n",
       "<path fill=\"none\" stroke=\"black\" d=\"M1525.25,-86.97C1378.69,-73.69 1170.28,-54.58 978.03,-36.14\"/>\n",
       "<polygon fill=\"black\" stroke=\"black\" points=\"978.3,-32.65 968.01,-35.18 977.63,-39.62 978.3,-32.65\"/>\n",
       "<text text-anchor=\"middle\" x=\"1324\" y=\"-57.8\" font-family=\"Times,serif\" font-size=\"14.00\">1</text>\n",
       "</g>\n",
       "<!-- b5 -->\n",
       "<g id=\"node6\" class=\"node\">\n",
       "<title>b5</title>\n",
       "<polygon fill=\"none\" stroke=\"black\" points=\"1537,-36 986,-36 986,0 1537,0 1537,-36\"/>\n",
       "<text text-anchor=\"start\" x=\"1240.5\" y=\"-19.8\" font-family=\"Times,serif\" font-size=\"14.00\">QROM</text>\n",
       "<text text-anchor=\"start\" x=\"994\" y=\"-9\" font-family=\"monospace\" font-size=\"10.00\">data=(array([ ..., selection_bitsizes=(18,), target_bitsizes=(15, 15, ..., num_controls=0</text>\n",
       "</g>\n",
       "<!-- b0&#45;&gt;b5 -->\n",
       "<g id=\"edge5\" class=\"edge\">\n",
       "<title>b0-&gt;b5</title>\n",
       "<path fill=\"none\" stroke=\"black\" d=\"M1623.65,-86.95C1547.98,-72.75 1440.33,-52.56 1362.08,-37.87\"/>\n",
       "<polygon fill=\"black\" stroke=\"black\" points=\"1362.68,-34.42 1352.2,-36.02 1361.39,-41.3 1362.68,-34.42\"/>\n",
       "<text text-anchor=\"middle\" x=\"1519\" y=\"-57.8\" font-family=\"Times,serif\" font-size=\"14.00\">1</text>\n",
       "</g>\n",
       "<!-- b6 -->\n",
       "<g id=\"node7\" class=\"node\">\n",
       "<title>b6</title>\n",
       "<polygon fill=\"none\" stroke=\"black\" points=\"1714,-36 1555,-36 1555,0 1714,0 1714,-36\"/>\n",
       "<text text-anchor=\"start\" x=\"1563\" y=\"-19.8\" font-family=\"Times,serif\" font-size=\"14.00\">QuantumVariableRotation</text>\n",
       "<text text-anchor=\"start\" x=\"1592\" y=\"-9\" font-family=\"monospace\" font-size=\"10.00\">phi_bitsize=24</text>\n",
       "</g>\n",
       "<!-- b0&#45;&gt;b6 -->\n",
       "<g id=\"edge6\" class=\"edge\">\n",
       "<title>b0-&gt;b6</title>\n",
       "<path fill=\"none\" stroke=\"black\" d=\"M1698.31,-86.8C1686.6,-74.36 1670.61,-57.36 1657.56,-43.5\"/>\n",
       "<polygon fill=\"black\" stroke=\"black\" points=\"1660.07,-41.06 1650.67,-36.18 1654.97,-45.86 1660.07,-41.06\"/>\n",
       "<text text-anchor=\"middle\" x=\"1683\" y=\"-57.8\" font-family=\"Times,serif\" font-size=\"14.00\">1</text>\n",
       "</g>\n",
       "<!-- b7 -->\n",
       "<g id=\"node8\" class=\"node\">\n",
       "<title>b7</title>\n",
       "<polygon fill=\"none\" stroke=\"black\" points=\"1857,-36 1732,-36 1732,0 1857,0 1857,-36\"/>\n",
       "<text text-anchor=\"start\" x=\"1771.5\" y=\"-19.8\" font-family=\"Times,serif\" font-size=\"14.00\">Allocate</text>\n",
       "<text text-anchor=\"start\" x=\"1740\" y=\"-9\" font-family=\"monospace\" font-size=\"10.00\">dtype=QAny(bit ...</text>\n",
       "</g>\n",
       "<!-- b0&#45;&gt;b7 -->\n",
       "<g id=\"edge7\" class=\"edge\">\n",
       "<title>b0-&gt;b7</title>\n",
       "<path fill=\"none\" stroke=\"black\" d=\"M1730.69,-86.8C1742.4,-74.36 1758.39,-57.36 1771.44,-43.5\"/>\n",
       "<polygon fill=\"black\" stroke=\"black\" points=\"1774.03,-45.86 1778.33,-36.18 1768.93,-41.06 1774.03,-45.86\"/>\n",
       "<text text-anchor=\"middle\" x=\"1763\" y=\"-57.8\" font-family=\"Times,serif\" font-size=\"14.00\">5</text>\n",
       "</g>\n",
       "<!-- b8 -->\n",
       "<g id=\"node9\" class=\"node\">\n",
       "<title>b8</title>\n",
       "<polygon fill=\"none\" stroke=\"black\" points=\"2030,-36 1875,-36 1875,0 2030,0 2030,-36\"/>\n",
       "<text text-anchor=\"start\" x=\"1903.5\" y=\"-19.8\" font-family=\"Times,serif\" font-size=\"14.00\">OutOfPlaceAdder</text>\n",
       "<text text-anchor=\"start\" x=\"1883\" y=\"-9\" font-family=\"monospace\" font-size=\"10.00\">bitsize=7, adjoint=True</text>\n",
       "</g>\n",
       "<!-- b0&#45;&gt;b8 -->\n",
       "<g id=\"edge8\" class=\"edge\">\n",
       "<title>b0-&gt;b8</title>\n",
       "<path fill=\"none\" stroke=\"black\" d=\"M1762.38,-86.9C1800.71,-73.21 1854.58,-53.97 1895.2,-39.46\"/>\n",
       "<polygon fill=\"black\" stroke=\"black\" points=\"1896.46,-42.73 1904.7,-36.07 1894.11,-36.14 1896.46,-42.73\"/>\n",
       "<text text-anchor=\"middle\" x=\"1852\" y=\"-57.8\" font-family=\"Times,serif\" font-size=\"14.00\">3</text>\n",
       "</g>\n",
       "<!-- b9 -->\n",
       "<g id=\"node10\" class=\"node\">\n",
       "<title>b9</title>\n",
       "<polygon fill=\"none\" stroke=\"black\" points=\"2173,-36 2048,-36 2048,0 2173,0 2173,-36\"/>\n",
       "<text text-anchor=\"start\" x=\"2087.5\" y=\"-19.8\" font-family=\"Times,serif\" font-size=\"14.00\">Allocate</text>\n",
       "<text text-anchor=\"start\" x=\"2056\" y=\"-9\" font-family=\"monospace\" font-size=\"10.00\">dtype=QAny(bit ...</text>\n",
       "</g>\n",
       "<!-- b0&#45;&gt;b9 -->\n",
       "<g id=\"edge9\" class=\"edge\">\n",
       "<title>b0-&gt;b9</title>\n",
       "<path fill=\"none\" stroke=\"black\" d=\"M1798.54,-86.96C1861.65,-74.03 1950.46,-55.53 2037.87,-36.11\"/>\n",
       "<polygon fill=\"black\" stroke=\"black\" points=\"2038.69,-39.52 2047.69,-33.93 2037.17,-32.68 2038.69,-39.52\"/>\n",
       "<text text-anchor=\"middle\" x=\"1954\" y=\"-57.8\" font-family=\"Times,serif\" font-size=\"14.00\">1</text>\n",
       "</g>\n",
       "<!-- b10 -->\n",
       "<g id=\"node11\" class=\"node\">\n",
       "<title>b10</title>\n",
       "<polygon fill=\"none\" stroke=\"black\" points=\"2292,-36 2191,-36 2191,0 2292,0 2292,-36\"/>\n",
       "<text text-anchor=\"start\" x=\"2200\" y=\"-19.8\" font-family=\"Times,serif\" font-size=\"14.00\">SumOfSquares</text>\n",
       "<text text-anchor=\"start\" x=\"2199\" y=\"-9\" font-family=\"monospace\" font-size=\"10.00\">bitsize=8, k=3</text>\n",
       "</g>\n",
       "<!-- b0&#45;&gt;b10 -->\n",
       "<g id=\"edge10\" class=\"edge\">\n",
       "<title>b0-&gt;b10</title>\n",
       "<path fill=\"none\" stroke=\"black\" d=\"M1867.92,-86.99C1956.82,-75.85 2070.88,-59.38 2180.92,-35.97\"/>\n",
       "<polygon fill=\"black\" stroke=\"black\" points=\"2181.83,-39.36 2190.87,-33.83 2180.36,-32.51 2181.83,-39.36\"/>\n",
       "<text text-anchor=\"middle\" x=\"2084\" y=\"-57.8\" font-family=\"Times,serif\" font-size=\"14.00\">1</text>\n",
       "</g>\n",
       "<!-- b11 -->\n",
       "<g id=\"node12\" class=\"node\">\n",
       "<title>b11</title>\n",
       "<polygon fill=\"none\" stroke=\"black\" points=\"2435,-36 2310,-36 2310,0 2435,0 2435,-36\"/>\n",
       "<text text-anchor=\"start\" x=\"2360\" y=\"-19.8\" font-family=\"Times,serif\" font-size=\"14.00\">Free</text>\n",
       "<text text-anchor=\"start\" x=\"2318\" y=\"-9\" font-family=\"monospace\" font-size=\"10.00\">dtype=QAny(bit ...</text>\n",
       "</g>\n",
       "<!-- b0&#45;&gt;b11 -->\n",
       "<g id=\"edge11\" class=\"edge\">\n",
       "<title>b0-&gt;b11</title>\n",
       "<path fill=\"none\" stroke=\"black\" d=\"M1933.92,-86.99C2041.96,-76.55 2174.09,-60.69 2300.01,-36.22\"/>\n",
       "<polygon fill=\"black\" stroke=\"black\" points=\"2300.7,-39.65 2309.84,-34.29 2299.35,-32.78 2300.7,-39.65\"/>\n",
       "<text text-anchor=\"middle\" x=\"2193\" y=\"-57.8\" font-family=\"Times,serif\" font-size=\"14.00\">1</text>\n",
       "</g>\n",
       "<!-- b12 -->\n",
       "<g id=\"node13\" class=\"node\">\n",
       "<title>b12</title>\n",
       "<polygon fill=\"none\" stroke=\"black\" points=\"2578,-36 2453,-36 2453,0 2578,0 2578,-36\"/>\n",
       "<text text-anchor=\"start\" x=\"2503\" y=\"-19.8\" font-family=\"Times,serif\" font-size=\"14.00\">Free</text>\n",
       "<text text-anchor=\"start\" x=\"2461\" y=\"-9\" font-family=\"monospace\" font-size=\"10.00\">dtype=QAny(bit ...</text>\n",
       "</g>\n",
       "<!-- b0&#45;&gt;b12 -->\n",
       "<g id=\"edge12\" class=\"edge\">\n",
       "<title>b0-&gt;b12</title>\n",
       "<path fill=\"none\" stroke=\"black\" d=\"M1969.04,-91.79C2107.14,-82.35 2280.66,-65.94 2442.69,-36.24\"/>\n",
       "<polygon fill=\"black\" stroke=\"black\" points=\"2443.66,-39.62 2452.85,-34.36 2442.38,-32.74 2443.66,-39.62\"/>\n",
       "<text text-anchor=\"middle\" x=\"2329\" y=\"-57.8\" font-family=\"Times,serif\" font-size=\"14.00\">5</text>\n",
       "</g>\n",
       "</g>\n",
       "</svg>"
      ],
      "text/plain": [
       "<IPython.core.display.SVG object>"
      ]
     },
     "metadata": {},
     "output_type": "display_data"
    },
    {
     "data": {
      "text/markdown": [
       "#### Counts totals:\n",
       " - `Allocate(dtype=QAny(bitsize=15))`: 5\n",
       " - `Allocate(dtype=QAny(bitsize=24))`: 1\n",
       " - `Free(dtype=QAny(bitsize=15))`: 5\n",
       " - `Free(dtype=QAny(bitsize=18))`: 1\n",
       " - `Free(dtype=QAny(bitsize=24))`: 1\n",
       " - `NewtonRaphsonApproxInverseSquareRoot(x_sq_bitsize=18, poly_bitsize=15, target_bitsize=24)`: 1\n",
       " - `OutOfPlaceAdder(bitsize=7, adjoint=False)`: 3\n",
       " - `OutOfPlaceAdder(bitsize=7, adjoint=True)`: 3\n",
       " - `PolynmomialEvaluationInverseSquareRoot(x_sq_bitsize=18, poly_bitsize=15, out_bitsize=15)`: 1\n",
       " - `QROM(data=(array([    0, 16383, 13377, ...,    73,    73,    73]), array([   0, 8128, 4446, ...,   24,   24,   24]), array([   0, 5449, 2089, ...,   11,   11,   11]), array([   0, 2437,  733, ...,    4,    4,    4])), selection_bitsizes=(18,), target_bitsizes=(15, 15, 15, 15), num_controls=0)`: 1\n",
       " - `QuantumVariableRotation(phi_bitsize=24)`: 1\n",
       " - `SumOfSquares(bitsize=8, k=3)`: 1"
      ],
      "text/plain": [
       "<IPython.core.display.Markdown object>"
      ]
     },
     "metadata": {},
     "output_type": "display_data"
    }
   ],
   "source": [
    "from qualtran.resource_counting.generalizers import ignore_split_join\n",
    "pair_potential_g, pair_potential_sigma = pair_potential.call_graph(max_depth=1, generalizer=ignore_split_join)\n",
    "show_call_graph(pair_potential_g)\n",
    "show_counts_sigma(pair_potential_sigma)"
   ]
  },
  {
   "cell_type": "markdown",
   "id": "a3728b06",
   "metadata": {
    "cq.autogen": "PotentialEnergy.bloq_doc.md"
   },
   "source": [
    "## `PotentialEnergy`\n",
    "Bloq for a Coulombic Unitary.\n",
    "\n",
    "This is a basic implementation which just iterates through num_elec *\n",
    "(num_elec - 1) electron pairs.\n",
    "\n",
    "#### Parameters\n",
    " - `num_elec`: The number of electrons.\n",
    " - `num_grid`: The number of grid points in each of the x, y and z directions. In total, for a cubic grid there are N = num_grid**3 grid points. The number of bits required (in each spatial dimension) is thus log N + 1, where the + 1 is for the sign bit.\n",
    " - `label`: A label for the bloqs short name. The potential bloq can encode any sort of Coulomb interaction (electron-electron, election-ion, ion-ion,...) so can be reused. This label is to distinguish these different cases. \n",
    "\n",
    "#### Registers\n",
    " - `system`: The system register of size eta * 3 * nb \n",
    "\n",
    "#### References\n",
    " - [Faster quantum chemistry simulation on fault-tolerant quantum     computers](https://iopscience.iop.org/article/10.1088/1367-2630/14/11/115023/meta). \n"
   ]
  },
  {
   "cell_type": "code",
   "execution_count": 22,
   "id": "107f7336",
   "metadata": {
    "cq.autogen": "PotentialEnergy.bloq_doc.py"
   },
   "outputs": [],
   "source": [
    "from qualtran.bloqs.chemistry.trotter.grid_ham.potential import PotentialEnergy"
   ]
  },
  {
   "cell_type": "markdown",
   "id": "86aa0dec",
   "metadata": {
    "cq.autogen": "PotentialEnergy.example_instances.md"
   },
   "source": [
    "### Example Instances"
   ]
  },
  {
   "cell_type": "code",
   "execution_count": 23,
   "id": "f2c8ba5e",
   "metadata": {
    "cq.autogen": "PotentialEnergy.potential_energy"
   },
   "outputs": [],
   "source": [
    "nelec = 12\n",
    "ngrid_x = 2 * 8 + 1\n",
    "potential_energy = PotentialEnergy(nelec, ngrid_x)"
   ]
  },
  {
   "cell_type": "markdown",
   "id": "c74d2828",
   "metadata": {
    "cq.autogen": "PotentialEnergy.graphical_signature.md"
   },
   "source": [
    "#### Graphical Signature"
   ]
  },
  {
   "cell_type": "code",
   "execution_count": 24,
   "id": "7509a7f3",
   "metadata": {
    "cq.autogen": "PotentialEnergy.graphical_signature.py"
   },
   "outputs": [
    {
     "data": {
      "application/vnd.jupyter.widget-view+json": {
       "model_id": "2b1e874b24464ad8905fd1833b16fdbb",
       "version_major": 2,
       "version_minor": 0
      },
      "text/plain": [
       "HBox(children=(Output(outputs=({'output_type': 'display_data', 'data': {'text/plain': '<IPython.core.display.M…"
      ]
     },
     "metadata": {},
     "output_type": "display_data"
    }
   ],
   "source": [
    "from qualtran.drawing import show_bloqs\n",
    "show_bloqs([potential_energy],\n",
    "           ['`potential_energy`'])"
   ]
  },
  {
   "cell_type": "markdown",
   "id": "278e75f6",
   "metadata": {
    "cq.autogen": "PotentialEnergy.call_graph.md"
   },
   "source": [
    "### Call Graph"
   ]
  },
  {
   "cell_type": "code",
   "execution_count": 25,
   "id": "c7ee3593",
   "metadata": {
    "cq.autogen": "PotentialEnergy.call_graph.py"
   },
   "outputs": [
    {
     "data": {
      "image/svg+xml": [
       "<svg xmlns=\"http://www.w3.org/2000/svg\" xmlns:xlink=\"http://www.w3.org/1999/xlink\" width=\"517pt\" height=\"131pt\" viewBox=\"0.00 0.00 517.00 131.00\">\n",
       "<g id=\"graph0\" class=\"graph\" transform=\"scale(1 1) rotate(0) translate(4 127)\">\n",
       "<title>counts</title>\n",
       "<polygon fill=\"white\" stroke=\"transparent\" points=\"-4,4 -4,-127 513,-127 513,4 -4,4\"/>\n",
       "<!-- b0 -->\n",
       "<g id=\"node1\" class=\"node\">\n",
       "<title>b0</title>\n",
       "<polygon fill=\"none\" stroke=\"black\" points=\"419,-123 90,-123 90,-87 419,-87 419,-123\"/>\n",
       "<text text-anchor=\"start\" x=\"210.5\" y=\"-106.8\" font-family=\"Times,serif\" font-size=\"14.00\">PotentialEnergy</text>\n",
       "<text text-anchor=\"start\" x=\"98\" y=\"-96\" font-family=\"monospace\" font-size=\"10.00\">num_elec=12, num_grid=17, poly_bitsize=15, label='V'</text>\n",
       "</g>\n",
       "<!-- b1 -->\n",
       "<g id=\"node2\" class=\"node\">\n",
       "<title>b1</title>\n",
       "<polygon fill=\"none\" stroke=\"black\" points=\"509,-36 0,-36 0,0 509,0 509,-36\"/>\n",
       "<text text-anchor=\"start\" x=\"219.5\" y=\"-19.8\" font-family=\"Times,serif\" font-size=\"14.00\">PairPotential</text>\n",
       "<text text-anchor=\"start\" x=\"8\" y=\"-9\" font-family=\"monospace\" font-size=\"10.00\">bitsize=6, qrom_data=((0, 163 ..., poly_bitsize=15, inv_sqrt_bitsize=24, label='V'</text>\n",
       "</g>\n",
       "<!-- b0&#45;&gt;b1 -->\n",
       "<g id=\"edge1\" class=\"edge\">\n",
       "<title>b0-&gt;b1</title>\n",
       "<path fill=\"none\" stroke=\"black\" d=\"M254.5,-86.8C254.5,-75.16 254.5,-59.55 254.5,-46.24\"/>\n",
       "<polygon fill=\"black\" stroke=\"black\" points=\"258,-46.18 254.5,-36.18 251,-46.18 258,-46.18\"/>\n",
       "<text text-anchor=\"middle\" x=\"261.5\" y=\"-57.8\" font-family=\"Times,serif\" font-size=\"14.00\">66</text>\n",
       "</g>\n",
       "</g>\n",
       "</svg>"
      ],
      "text/plain": [
       "<IPython.core.display.SVG object>"
      ]
     },
     "metadata": {},
     "output_type": "display_data"
    },
    {
     "data": {
      "text/markdown": [
       "#### Counts totals:\n",
       " - `PairPotential(bitsize=6, poly_bitsize=15, inv_sqrt_bitsize=24, label='V')`: 66"
      ],
      "text/plain": [
       "<IPython.core.display.Markdown object>"
      ]
     },
     "metadata": {},
     "output_type": "display_data"
    }
   ],
   "source": [
    "from qualtran.resource_counting.generalizers import ignore_split_join\n",
    "potential_energy_g, potential_energy_sigma = potential_energy.call_graph(max_depth=1, generalizer=ignore_split_join)\n",
    "show_call_graph(potential_energy_g)\n",
    "show_counts_sigma(potential_energy_sigma)"
   ]
  }
 ],
 "metadata": {
  "kernelspec": {
   "display_name": "Python 3",
   "language": "python",
   "name": "python3"
  },
  "language_info": {
   "codemirror_mode": {
    "name": "ipython",
    "version": 3
   },
   "file_extension": ".py",
   "mimetype": "text/x-python",
   "name": "python",
   "nbconvert_exporter": "python",
   "pygments_lexer": "ipython3",
   "version": "3.11.8"
  },
  "widgets": {
   "application/vnd.jupyter.widget-state+json": {
    "state": {
     "046e4bf5bb8545efa693da19efcb9efc": {
      "model_module": "@jupyter-widgets/base",
      "model_module_version": "2.0.0",
      "model_name": "LayoutModel",
      "state": {
       "_model_module": "@jupyter-widgets/base",
       "_model_module_version": "2.0.0",
       "_model_name": "LayoutModel",
       "_view_count": null,
       "_view_module": "@jupyter-widgets/base",
       "_view_module_version": "2.0.0",
       "_view_name": "LayoutView",
       "align_content": null,
       "align_items": null,
       "align_self": null,
       "border_bottom": null,
       "border_left": null,
       "border_right": null,
       "border_top": null,
       "bottom": null,
       "display": null,
       "flex": null,
       "flex_flow": null,
       "grid_area": null,
       "grid_auto_columns": null,
       "grid_auto_flow": null,
       "grid_auto_rows": null,
       "grid_column": null,
       "grid_gap": null,
       "grid_row": null,
       "grid_template_areas": null,
       "grid_template_columns": null,
       "grid_template_rows": null,
       "height": null,
       "justify_content": null,
       "justify_items": null,
       "left": null,
       "margin": null,
       "max_height": null,
       "max_width": null,
       "min_height": null,
       "min_width": null,
       "object_fit": null,
       "object_position": null,
       "order": null,
       "overflow": null,
       "padding": null,
       "right": null,
       "top": null,
       "visibility": null,
       "width": null
      }
     },
     "08d03699d69341158d510b16d62b3a3b": {
      "model_module": "@jupyter-widgets/base",
      "model_module_version": "2.0.0",
      "model_name": "LayoutModel",
      "state": {
       "_model_module": "@jupyter-widgets/base",
       "_model_module_version": "2.0.0",
       "_model_name": "LayoutModel",
       "_view_count": null,
       "_view_module": "@jupyter-widgets/base",
       "_view_module_version": "2.0.0",
       "_view_name": "LayoutView",
       "align_content": null,
       "align_items": null,
       "align_self": null,
       "border_bottom": null,
       "border_left": null,
       "border_right": null,
       "border_top": null,
       "bottom": null,
       "display": null,
       "flex": null,
       "flex_flow": null,
       "grid_area": null,
       "grid_auto_columns": null,
       "grid_auto_flow": null,
       "grid_auto_rows": null,
       "grid_column": null,
       "grid_gap": null,
       "grid_row": null,
       "grid_template_areas": null,
       "grid_template_columns": null,
       "grid_template_rows": null,
       "height": null,
       "justify_content": null,
       "justify_items": null,
       "left": null,
       "margin": null,
       "max_height": null,
       "max_width": null,
       "min_height": null,
       "min_width": null,
       "object_fit": null,
       "object_position": null,
       "order": null,
       "overflow": null,
       "padding": null,
       "right": null,
       "top": null,
       "visibility": null,
       "width": null
      }
     },
     "126c956d470841e1ad4b925caba7f505": {
      "model_module": "@jupyter-widgets/base",
      "model_module_version": "2.0.0",
      "model_name": "LayoutModel",
      "state": {
       "_model_module": "@jupyter-widgets/base",
       "_model_module_version": "2.0.0",
       "_model_name": "LayoutModel",
       "_view_count": null,
       "_view_module": "@jupyter-widgets/base",
       "_view_module_version": "2.0.0",
       "_view_name": "LayoutView",
       "align_content": null,
       "align_items": null,
       "align_self": null,
       "border_bottom": null,
       "border_left": null,
       "border_right": null,
       "border_top": null,
       "bottom": null,
       "display": null,
       "flex": null,
       "flex_flow": null,
       "grid_area": null,
       "grid_auto_columns": null,
       "grid_auto_flow": null,
       "grid_auto_rows": null,
       "grid_column": null,
       "grid_gap": null,
       "grid_row": null,
       "grid_template_areas": null,
       "grid_template_columns": null,
       "grid_template_rows": null,
       "height": null,
       "justify_content": null,
       "justify_items": null,
       "left": null,
       "margin": null,
       "max_height": null,
       "max_width": null,
       "min_height": null,
       "min_width": null,
       "object_fit": null,
       "object_position": null,
       "order": null,
       "overflow": null,
       "padding": null,
       "right": null,
       "top": null,
       "visibility": null,
       "width": null
      }
     },
     "2b1e874b24464ad8905fd1833b16fdbb": {
      "model_module": "@jupyter-widgets/controls",
      "model_module_version": "2.0.0",
      "model_name": "HBoxModel",
      "state": {
       "_dom_classes": [],
       "_model_module": "@jupyter-widgets/controls",
       "_model_module_version": "2.0.0",
       "_model_name": "HBoxModel",
       "_view_count": null,
       "_view_module": "@jupyter-widgets/controls",
       "_view_module_version": "2.0.0",
       "_view_name": "HBoxView",
       "box_style": "",
       "children": [
        "IPY_MODEL_afd09fd06ef24fa1878cf50ff67db728"
       ],
       "layout": "IPY_MODEL_32a4bedaf3ad495f9593a29cbc32e75c",
       "tabbable": null,
       "tooltip": null
      }
     },
     "30b93302e44a48669ccee457e5c0f96d": {
      "model_module": "@jupyter-widgets/output",
      "model_module_version": "1.0.0",
      "model_name": "OutputModel",
      "state": {
       "_dom_classes": [],
       "_model_module": "@jupyter-widgets/output",
       "_model_module_version": "1.0.0",
       "_model_name": "OutputModel",
       "_view_count": null,
       "_view_module": "@jupyter-widgets/output",
       "_view_module_version": "1.0.0",
       "_view_name": "OutputView",
       "layout": "IPY_MODEL_046e4bf5bb8545efa693da19efcb9efc",
       "msg_id": "",
       "outputs": [
        {
         "data": {
          "text/markdown": "`qvr`",
          "text/plain": "<IPython.core.display.Markdown object>"
         },
         "metadata": {},
         "output_type": "display_data"
        },
        {
         "data": {
          "image/svg+xml": "<svg xmlns=\"http://www.w3.org/2000/svg\" xmlns:xlink=\"http://www.w3.org/1999/xlink\" width=\"236pt\" height=\"54pt\" viewBox=\"0.00 0.00 236.00 54.00\">\n<g id=\"graph0\" class=\"graph\" transform=\"scale(1 1) rotate(0) translate(4 50)\">\n<title>my_graph</title>\n<polygon fill=\"white\" stroke=\"transparent\" points=\"-4,4 -4,-50 232,-50 232,4 -4,4\"/>\n<!-- phi_G1 -->\n<g id=\"node1\" class=\"node\">\n<title>phi_G1</title>\n<text text-anchor=\"middle\" x=\"27\" y=\"-14.3\" font-family=\"Times,serif\" font-size=\"14.00\">phi</text>\n</g>\n<!-- QuantumVariableRotation -->\n<g id=\"node2\" class=\"node\">\n<title>QuantumVariableRotation</title>\n<polygon fill=\"none\" stroke=\"black\" points=\"91,-29 91,-46 137,-46 137,-29 91,-29\"/>\n<text text-anchor=\"start\" x=\"94\" y=\"-35\" font-family=\"Times,serif\" font-size=\"10.00\">e^{i*phi}</text>\n<polygon fill=\"none\" stroke=\"black\" points=\"91,-8 91,-29 137,-29 137,-8 91,-8\"/>\n<text text-anchor=\"start\" x=\"105\" y=\"-14.8\" font-family=\"Times,serif\" font-size=\"14.00\">phi</text>\n</g>\n<!-- phi_G1&#45;&gt;QuantumVariableRotation -->\n<g id=\"edge1\" class=\"edge\">\n<title>phi_G1:e-&gt;QuantumVariableRotation:w</title>\n<path fill=\"none\" stroke=\"black\" d=\"M54,-18C69.67,-18 74.14,-18 88.77,-18\"/>\n<ellipse fill=\"black\" stroke=\"black\" cx=\"90\" cy=\"-18\" rx=\"1\" ry=\"1\"/>\n<text text-anchor=\"middle\" x=\"72.5\" y=\"-21\" font-family=\"Times,serif\" font-size=\"10.00\">12</text>\n</g>\n<!-- phi_G0 -->\n<g id=\"node3\" class=\"node\">\n<title>phi_G0</title>\n<text text-anchor=\"middle\" x=\"201\" y=\"-14.3\" font-family=\"Times,serif\" font-size=\"14.00\">phi</text>\n</g>\n<!-- QuantumVariableRotation&#45;&gt;phi_G0 -->\n<g id=\"edge2\" class=\"edge\">\n<title>QuantumVariableRotation:e-&gt;phi_G0:w</title>\n<path fill=\"none\" stroke=\"black\" d=\"M137,-18C152.67,-18 157.14,-18 171.77,-18\"/>\n<ellipse fill=\"black\" stroke=\"black\" cx=\"173\" cy=\"-18\" rx=\"1\" ry=\"1\"/>\n<text text-anchor=\"middle\" x=\"155.5\" y=\"-21\" font-family=\"Times,serif\" font-size=\"10.00\">12</text>\n</g>\n</g>\n</svg>",
          "text/plain": "<IPython.core.display.SVG object>"
         },
         "metadata": {},
         "output_type": "display_data"
        }
       ],
       "tabbable": null,
       "tooltip": null
      }
     },
     "32a4bedaf3ad495f9593a29cbc32e75c": {
      "model_module": "@jupyter-widgets/base",
      "model_module_version": "2.0.0",
      "model_name": "LayoutModel",
      "state": {
       "_model_module": "@jupyter-widgets/base",
       "_model_module_version": "2.0.0",
       "_model_name": "LayoutModel",
       "_view_count": null,
       "_view_module": "@jupyter-widgets/base",
       "_view_module_version": "2.0.0",
       "_view_name": "LayoutView",
       "align_content": null,
       "align_items": null,
       "align_self": null,
       "border_bottom": null,
       "border_left": null,
       "border_right": null,
       "border_top": null,
       "bottom": null,
       "display": null,
       "flex": null,
       "flex_flow": null,
       "grid_area": null,
       "grid_auto_columns": null,
       "grid_auto_flow": null,
       "grid_auto_rows": null,
       "grid_column": null,
       "grid_gap": null,
       "grid_row": null,
       "grid_template_areas": null,
       "grid_template_columns": null,
       "grid_template_rows": null,
       "height": null,
       "justify_content": null,
       "justify_items": null,
       "left": null,
       "margin": null,
       "max_height": null,
       "max_width": null,
       "min_height": null,
       "min_width": null,
       "object_fit": null,
       "object_position": null,
       "order": null,
       "overflow": null,
       "padding": null,
       "right": null,
       "top": null,
       "visibility": null,
       "width": null
      }
     },
     "3f3cef079d8b4d0db8d8eddbdeb3c012": {
      "model_module": "@jupyter-widgets/output",
      "model_module_version": "1.0.0",
      "model_name": "OutputModel",
      "state": {
       "_dom_classes": [],
       "_model_module": "@jupyter-widgets/output",
       "_model_module_version": "1.0.0",
       "_model_name": "OutputModel",
       "_view_count": null,
       "_view_module": "@jupyter-widgets/output",
       "_view_module_version": "1.0.0",
       "_view_name": "OutputView",
       "layout": "IPY_MODEL_9d89ca26a38c44058355c02b35b6c2e9",
       "msg_id": "",
       "outputs": [
        {
         "data": {
          "text/markdown": "`pair_potential`",
          "text/plain": "<IPython.core.display.Markdown object>"
         },
         "metadata": {},
         "output_type": "display_data"
        },
        {
         "data": {
          "image/svg+xml": "<svg xmlns=\"http://www.w3.org/2000/svg\" xmlns:xlink=\"http://www.w3.org/1999/xlink\" width=\"315pt\" height=\"314pt\" viewBox=\"0.00 0.00 315.00 314.00\">\n<g id=\"graph0\" class=\"graph\" transform=\"scale(1 1) rotate(0) translate(4 310)\">\n<title>my_graph</title>\n<polygon fill=\"white\" stroke=\"transparent\" points=\"-4,4 -4,-310 311,-310 311,4 -4,4\"/>\n<!-- system_i_G8 -->\n<g id=\"node1\" class=\"node\">\n<title>system_i_G8</title>\n<text text-anchor=\"middle\" x=\"40.5\" y=\"-284.3\" font-family=\"Times,serif\" font-size=\"14.00\">system_i[0]</text>\n</g>\n<!-- PairPotential -->\n<g id=\"node7\" class=\"node\">\n<title>PairPotential</title>\n<polygon fill=\"none\" stroke=\"black\" points=\"118.5,-216 118.5,-233 189.5,-233 189.5,-216 118.5,-216\"/>\n<text text-anchor=\"start\" x=\"131\" y=\"-222\" font-family=\"Times,serif\" font-size=\"10.00\">U_V(dt)_ij</text>\n<polygon fill=\"none\" stroke=\"black\" points=\"118.5,-195 118.5,-216 189.5,-216 189.5,-195 118.5,-195\"/>\n<text text-anchor=\"start\" x=\"121.5\" y=\"-201.8\" font-family=\"Times,serif\" font-size=\"14.00\">system_i[0]</text>\n<polygon fill=\"none\" stroke=\"black\" points=\"118.5,-174 118.5,-195 189.5,-195 189.5,-174 118.5,-174\"/>\n<text text-anchor=\"start\" x=\"121.5\" y=\"-180.8\" font-family=\"Times,serif\" font-size=\"14.00\">system_i[1]</text>\n<polygon fill=\"none\" stroke=\"black\" points=\"118.5,-153 118.5,-174 189.5,-174 189.5,-153 118.5,-153\"/>\n<text text-anchor=\"start\" x=\"121.5\" y=\"-159.8\" font-family=\"Times,serif\" font-size=\"14.00\">system_i[2]</text>\n<polygon fill=\"none\" stroke=\"black\" points=\"118.5,-132 118.5,-153 189.5,-153 189.5,-132 118.5,-132\"/>\n<text text-anchor=\"start\" x=\"121.5\" y=\"-138.8\" font-family=\"Times,serif\" font-size=\"14.00\">system_j[0]</text>\n<polygon fill=\"none\" stroke=\"black\" points=\"118.5,-111 118.5,-132 189.5,-132 189.5,-111 118.5,-111\"/>\n<text text-anchor=\"start\" x=\"121.5\" y=\"-117.8\" font-family=\"Times,serif\" font-size=\"14.00\">system_j[1]</text>\n<polygon fill=\"none\" stroke=\"black\" points=\"118.5,-90 118.5,-111 189.5,-111 189.5,-90 118.5,-90\"/>\n<text text-anchor=\"start\" x=\"121.5\" y=\"-96.8\" font-family=\"Times,serif\" font-size=\"14.00\">system_j[2]</text>\n</g>\n<!-- system_i_G8&#45;&gt;PairPotential -->\n<g id=\"edge1\" class=\"edge\">\n<title>system_i_G8:e-&gt;PairPotential:w</title>\n<path fill=\"none\" stroke=\"black\" d=\"M81,-288C120.2,-288 79.66,-209.17 115.75,-206.09\"/>\n<ellipse fill=\"black\" stroke=\"black\" cx=\"117\" cy=\"-206.04\" rx=\"1\" ry=\"1\"/>\n<text text-anchor=\"middle\" x=\"99.5\" y=\"-273\" font-family=\"Times,serif\" font-size=\"10.00\">7</text>\n</g>\n<!-- system_i_G6 -->\n<g id=\"node2\" class=\"node\">\n<title>system_i_G6</title>\n<text text-anchor=\"middle\" x=\"40.5\" y=\"-230.3\" font-family=\"Times,serif\" font-size=\"14.00\">system_i[1]</text>\n</g>\n<!-- system_i_G6&#45;&gt;PairPotential -->\n<g id=\"edge2\" class=\"edge\">\n<title>system_i_G6:e-&gt;PairPotential:w</title>\n<path fill=\"none\" stroke=\"black\" d=\"M81,-234C107.54,-234 91.64,-187.64 115.86,-185.11\"/>\n<ellipse fill=\"black\" stroke=\"black\" cx=\"117\" cy=\"-185.05\" rx=\"1\" ry=\"1\"/>\n<text text-anchor=\"middle\" x=\"99.5\" y=\"-213\" font-family=\"Times,serif\" font-size=\"10.00\">7</text>\n</g>\n<!-- system_i_G9 -->\n<g id=\"node3\" class=\"node\">\n<title>system_i_G9</title>\n<text text-anchor=\"middle\" x=\"40.5\" y=\"-176.3\" font-family=\"Times,serif\" font-size=\"14.00\">system_i[2]</text>\n</g>\n<!-- system_i_G9&#45;&gt;PairPotential -->\n<g id=\"edge3\" class=\"edge\">\n<title>system_i_G9:e-&gt;PairPotential:w</title>\n<path fill=\"none\" stroke=\"black\" d=\"M81,-180C98.22,-180 99.97,-165.23 115.98,-164.07\"/>\n<ellipse fill=\"black\" stroke=\"black\" cx=\"117\" cy=\"-164.04\" rx=\"1\" ry=\"1\"/>\n<text text-anchor=\"middle\" x=\"99.5\" y=\"-175\" font-family=\"Times,serif\" font-size=\"10.00\">7</text>\n</g>\n<!-- system_j_G5 -->\n<g id=\"node4\" class=\"node\">\n<title>system_j_G5</title>\n<text text-anchor=\"middle\" x=\"40.5\" y=\"-122.3\" font-family=\"Times,serif\" font-size=\"14.00\">system_j[0]</text>\n</g>\n<!-- system_j_G5&#45;&gt;PairPotential -->\n<g id=\"edge4\" class=\"edge\">\n<title>system_j_G5:e-&gt;PairPotential:w</title>\n<path fill=\"none\" stroke=\"black\" d=\"M81,-126C98.22,-126 99.97,-140.77 115.98,-141.93\"/>\n<ellipse fill=\"black\" stroke=\"black\" cx=\"117\" cy=\"-141.96\" rx=\"1\" ry=\"1\"/>\n<text text-anchor=\"middle\" x=\"99.5\" y=\"-137\" font-family=\"Times,serif\" font-size=\"10.00\">7</text>\n</g>\n<!-- system_j_G3 -->\n<g id=\"node5\" class=\"node\">\n<title>system_j_G3</title>\n<text text-anchor=\"middle\" x=\"40.5\" y=\"-68.3\" font-family=\"Times,serif\" font-size=\"14.00\">system_j[1]</text>\n</g>\n<!-- system_j_G3&#45;&gt;PairPotential -->\n<g id=\"edge5\" class=\"edge\">\n<title>system_j_G3:e-&gt;PairPotential:w</title>\n<path fill=\"none\" stroke=\"black\" d=\"M81,-72C107.54,-72 91.64,-118.36 115.86,-120.89\"/>\n<ellipse fill=\"black\" stroke=\"black\" cx=\"117\" cy=\"-120.95\" rx=\"1\" ry=\"1\"/>\n<text text-anchor=\"middle\" x=\"99.5\" y=\"-100\" font-family=\"Times,serif\" font-size=\"10.00\">7</text>\n</g>\n<!-- system_j_G7 -->\n<g id=\"node6\" class=\"node\">\n<title>system_j_G7</title>\n<text text-anchor=\"middle\" x=\"40.5\" y=\"-14.3\" font-family=\"Times,serif\" font-size=\"14.00\">system_j[2]</text>\n</g>\n<!-- system_j_G7&#45;&gt;PairPotential -->\n<g id=\"edge6\" class=\"edge\">\n<title>system_j_G7:e-&gt;PairPotential:w</title>\n<path fill=\"none\" stroke=\"black\" d=\"M81,-18C120.2,-18 79.66,-96.83 115.75,-99.91\"/>\n<ellipse fill=\"black\" stroke=\"black\" cx=\"117\" cy=\"-99.96\" rx=\"1\" ry=\"1\"/>\n<text text-anchor=\"middle\" x=\"99.5\" y=\"-85\" font-family=\"Times,serif\" font-size=\"10.00\">7</text>\n</g>\n<!-- system_i_G1 -->\n<g id=\"node8\" class=\"node\">\n<title>system_i_G1</title>\n<text text-anchor=\"middle\" x=\"266.5\" y=\"-284.3\" font-family=\"Times,serif\" font-size=\"14.00\">system_i[0]</text>\n</g>\n<!-- PairPotential&#45;&gt;system_i_G1 -->\n<g id=\"edge7\" class=\"edge\">\n<title>PairPotential:e-&gt;system_i_G1:w</title>\n<path fill=\"none\" stroke=\"black\" d=\"M189,-206C228.2,-206 187.66,-284.83 223.75,-287.91\"/>\n<ellipse fill=\"black\" stroke=\"black\" cx=\"225\" cy=\"-287.96\" rx=\"1\" ry=\"1\"/>\n<text text-anchor=\"middle\" x=\"207.5\" y=\"-273\" font-family=\"Times,serif\" font-size=\"10.00\">7</text>\n</g>\n<!-- system_i_G14 -->\n<g id=\"node9\" class=\"node\">\n<title>system_i_G14</title>\n<text text-anchor=\"middle\" x=\"266.5\" y=\"-230.3\" font-family=\"Times,serif\" font-size=\"14.00\">system_i[1]</text>\n</g>\n<!-- PairPotential&#45;&gt;system_i_G14 -->\n<g id=\"edge8\" class=\"edge\">\n<title>PairPotential:e-&gt;system_i_G14:w</title>\n<path fill=\"none\" stroke=\"black\" d=\"M189,-185C215.54,-185 199.64,-231.36 223.86,-233.89\"/>\n<ellipse fill=\"black\" stroke=\"black\" cx=\"225\" cy=\"-233.95\" rx=\"1\" ry=\"1\"/>\n<text text-anchor=\"middle\" x=\"207.5\" y=\"-213\" font-family=\"Times,serif\" font-size=\"10.00\">7</text>\n</g>\n<!-- system_i_G2 -->\n<g id=\"node10\" class=\"node\">\n<title>system_i_G2</title>\n<text text-anchor=\"middle\" x=\"266.5\" y=\"-176.3\" font-family=\"Times,serif\" font-size=\"14.00\">system_i[2]</text>\n</g>\n<!-- PairPotential&#45;&gt;system_i_G2 -->\n<g id=\"edge9\" class=\"edge\">\n<title>PairPotential:e-&gt;system_i_G2:w</title>\n<path fill=\"none\" stroke=\"black\" d=\"M189,-164C206.22,-164 207.97,-178.77 223.98,-179.93\"/>\n<ellipse fill=\"black\" stroke=\"black\" cx=\"225\" cy=\"-179.96\" rx=\"1\" ry=\"1\"/>\n<text text-anchor=\"middle\" x=\"207.5\" y=\"-175\" font-family=\"Times,serif\" font-size=\"10.00\">7</text>\n</g>\n<!-- system_j_G12 -->\n<g id=\"node11\" class=\"node\">\n<title>system_j_G12</title>\n<text text-anchor=\"middle\" x=\"266.5\" y=\"-122.3\" font-family=\"Times,serif\" font-size=\"14.00\">system_j[0]</text>\n</g>\n<!-- PairPotential&#45;&gt;system_j_G12 -->\n<g id=\"edge10\" class=\"edge\">\n<title>PairPotential:e-&gt;system_j_G12:w</title>\n<path fill=\"none\" stroke=\"black\" d=\"M189,-142C206.22,-142 207.97,-127.23 223.98,-126.07\"/>\n<ellipse fill=\"black\" stroke=\"black\" cx=\"225\" cy=\"-126.04\" rx=\"1\" ry=\"1\"/>\n<text text-anchor=\"middle\" x=\"207.5\" y=\"-137\" font-family=\"Times,serif\" font-size=\"10.00\">7</text>\n</g>\n<!-- system_j_G10 -->\n<g id=\"node12\" class=\"node\">\n<title>system_j_G10</title>\n<text text-anchor=\"middle\" x=\"266.5\" y=\"-68.3\" font-family=\"Times,serif\" font-size=\"14.00\">system_j[1]</text>\n</g>\n<!-- PairPotential&#45;&gt;system_j_G10 -->\n<g id=\"edge11\" class=\"edge\">\n<title>PairPotential:e-&gt;system_j_G10:w</title>\n<path fill=\"none\" stroke=\"black\" d=\"M189,-121C215.54,-121 199.64,-74.64 223.86,-72.11\"/>\n<ellipse fill=\"black\" stroke=\"black\" cx=\"225\" cy=\"-72.05\" rx=\"1\" ry=\"1\"/>\n<text text-anchor=\"middle\" x=\"207.5\" y=\"-100\" font-family=\"Times,serif\" font-size=\"10.00\">7</text>\n</g>\n<!-- system_j_G15 -->\n<g id=\"node13\" class=\"node\">\n<title>system_j_G15</title>\n<text text-anchor=\"middle\" x=\"266.5\" y=\"-14.3\" font-family=\"Times,serif\" font-size=\"14.00\">system_j[2]</text>\n</g>\n<!-- PairPotential&#45;&gt;system_j_G15 -->\n<g id=\"edge12\" class=\"edge\">\n<title>PairPotential:e-&gt;system_j_G15:w</title>\n<path fill=\"none\" stroke=\"black\" d=\"M189,-100C228.2,-100 187.66,-21.17 223.75,-18.09\"/>\n<ellipse fill=\"black\" stroke=\"black\" cx=\"225\" cy=\"-18.04\" rx=\"1\" ry=\"1\"/>\n<text text-anchor=\"middle\" x=\"207.5\" y=\"-85\" font-family=\"Times,serif\" font-size=\"10.00\">7</text>\n</g>\n</g>\n</svg>",
          "text/plain": "<IPython.core.display.SVG object>"
         },
         "metadata": {},
         "output_type": "display_data"
        }
       ],
       "tabbable": null,
       "tooltip": null
      }
     },
     "46aa769aaaa64c078773462d2289f2bc": {
      "model_module": "@jupyter-widgets/base",
      "model_module_version": "2.0.0",
      "model_name": "LayoutModel",
      "state": {
       "_model_module": "@jupyter-widgets/base",
       "_model_module_version": "2.0.0",
       "_model_name": "LayoutModel",
       "_view_count": null,
       "_view_module": "@jupyter-widgets/base",
       "_view_module_version": "2.0.0",
       "_view_name": "LayoutView",
       "align_content": null,
       "align_items": null,
       "align_self": null,
       "border_bottom": null,
       "border_left": null,
       "border_right": null,
       "border_top": null,
       "bottom": null,
       "display": null,
       "flex": null,
       "flex_flow": null,
       "grid_area": null,
       "grid_auto_columns": null,
       "grid_auto_flow": null,
       "grid_auto_rows": null,
       "grid_column": null,
       "grid_gap": null,
       "grid_row": null,
       "grid_template_areas": null,
       "grid_template_columns": null,
       "grid_template_rows": null,
       "height": null,
       "justify_content": null,
       "justify_items": null,
       "left": null,
       "margin": null,
       "max_height": null,
       "max_width": null,
       "min_height": null,
       "min_width": null,
       "object_fit": null,
       "object_position": null,
       "order": null,
       "overflow": null,
       "padding": null,
       "right": null,
       "top": null,
       "visibility": null,
       "width": null
      }
     },
     "4f80cf76073e44e39e6eb2d78249ed0d": {
      "model_module": "@jupyter-widgets/base",
      "model_module_version": "2.0.0",
      "model_name": "LayoutModel",
      "state": {
       "_model_module": "@jupyter-widgets/base",
       "_model_module_version": "2.0.0",
       "_model_name": "LayoutModel",
       "_view_count": null,
       "_view_module": "@jupyter-widgets/base",
       "_view_module_version": "2.0.0",
       "_view_name": "LayoutView",
       "align_content": null,
       "align_items": null,
       "align_self": null,
       "border_bottom": null,
       "border_left": null,
       "border_right": null,
       "border_top": null,
       "bottom": null,
       "display": null,
       "flex": null,
       "flex_flow": null,
       "grid_area": null,
       "grid_auto_columns": null,
       "grid_auto_flow": null,
       "grid_auto_rows": null,
       "grid_column": null,
       "grid_gap": null,
       "grid_row": null,
       "grid_template_areas": null,
       "grid_template_columns": null,
       "grid_template_rows": null,
       "height": null,
       "justify_content": null,
       "justify_items": null,
       "left": null,
       "margin": null,
       "max_height": null,
       "max_width": null,
       "min_height": null,
       "min_width": null,
       "object_fit": null,
       "object_position": null,
       "order": null,
       "overflow": null,
       "padding": null,
       "right": null,
       "top": null,
       "visibility": null,
       "width": null
      }
     },
     "682af7c59fde41078bc8d89e01b18d09": {
      "model_module": "@jupyter-widgets/controls",
      "model_module_version": "2.0.0",
      "model_name": "HBoxModel",
      "state": {
       "_dom_classes": [],
       "_model_module": "@jupyter-widgets/controls",
       "_model_module_version": "2.0.0",
       "_model_name": "HBoxModel",
       "_view_count": null,
       "_view_module": "@jupyter-widgets/controls",
       "_view_module_version": "2.0.0",
       "_view_name": "HBoxView",
       "box_style": "",
       "children": [
        "IPY_MODEL_b3f320caffde43029ecba074eece9eb1"
       ],
       "layout": "IPY_MODEL_e41a0afa44894aa59d0c98e0981c59ed",
       "tabbable": null,
       "tooltip": null
      }
     },
     "7024f7aa701a4dd8abba2daaa4714928": {
      "model_module": "@jupyter-widgets/base",
      "model_module_version": "2.0.0",
      "model_name": "LayoutModel",
      "state": {
       "_model_module": "@jupyter-widgets/base",
       "_model_module_version": "2.0.0",
       "_model_name": "LayoutModel",
       "_view_count": null,
       "_view_module": "@jupyter-widgets/base",
       "_view_module_version": "2.0.0",
       "_view_name": "LayoutView",
       "align_content": null,
       "align_items": null,
       "align_self": null,
       "border_bottom": null,
       "border_left": null,
       "border_right": null,
       "border_top": null,
       "bottom": null,
       "display": null,
       "flex": null,
       "flex_flow": null,
       "grid_area": null,
       "grid_auto_columns": null,
       "grid_auto_flow": null,
       "grid_auto_rows": null,
       "grid_column": null,
       "grid_gap": null,
       "grid_row": null,
       "grid_template_areas": null,
       "grid_template_columns": null,
       "grid_template_rows": null,
       "height": null,
       "justify_content": null,
       "justify_items": null,
       "left": null,
       "margin": null,
       "max_height": null,
       "max_width": null,
       "min_height": null,
       "min_width": null,
       "object_fit": null,
       "object_position": null,
       "order": null,
       "overflow": null,
       "padding": null,
       "right": null,
       "top": null,
       "visibility": null,
       "width": null
      }
     },
     "7971d7f934e048638aee60297d8fa3ab": {
      "model_module": "@jupyter-widgets/output",
      "model_module_version": "1.0.0",
      "model_name": "OutputModel",
      "state": {
       "_dom_classes": [],
       "_model_module": "@jupyter-widgets/output",
       "_model_module_version": "1.0.0",
       "_model_name": "OutputModel",
       "_view_count": null,
       "_view_module": "@jupyter-widgets/output",
       "_view_module_version": "1.0.0",
       "_view_name": "OutputView",
       "layout": "IPY_MODEL_a6a9b13149044f63a877f559df8cd154",
       "msg_id": "",
       "outputs": [
        {
         "data": {
          "text/markdown": "`poly_inv_sqrt`",
          "text/plain": "<IPython.core.display.Markdown object>"
         },
         "metadata": {},
         "output_type": "display_data"
        },
        {
         "data": {
          "image/svg+xml": "<svg xmlns=\"http://www.w3.org/2000/svg\" xmlns:xlink=\"http://www.w3.org/1999/xlink\" width=\"303pt\" height=\"314pt\" viewBox=\"0.00 0.00 303.00 314.00\">\n<g id=\"graph0\" class=\"graph\" transform=\"scale(1 1) rotate(0) translate(4 310)\">\n<title>my_graph</title>\n<polygon fill=\"white\" stroke=\"transparent\" points=\"-4,4 -4,-310 299,-310 299,4 -4,4\"/>\n<!-- x_sq_G6 -->\n<g id=\"node1\" class=\"node\">\n<title>x_sq_G6</title>\n<text text-anchor=\"middle\" x=\"38.5\" y=\"-284.3\" font-family=\"Times,serif\" font-size=\"14.00\">x_sq</text>\n</g>\n<!-- PolynmomialEvaluationInverseSquareRoot -->\n<g id=\"node7\" class=\"node\">\n<title>PolynmomialEvaluationInverseSquareRoot</title>\n<polygon fill=\"none\" stroke=\"black\" points=\"114.5,-216 114.5,-233 181.5,-233 181.5,-216 114.5,-216\"/>\n<text text-anchor=\"start\" x=\"122.5\" y=\"-222\" font-family=\"Times,serif\" font-size=\"10.00\">y ~ x^{-1/2}</text>\n<polygon fill=\"none\" stroke=\"black\" points=\"114.5,-195 114.5,-216 181.5,-216 181.5,-195 114.5,-195\"/>\n<text text-anchor=\"start\" x=\"135\" y=\"-201.8\" font-family=\"Times,serif\" font-size=\"14.00\">x_sq</text>\n<polygon fill=\"none\" stroke=\"black\" points=\"114.5,-174 114.5,-195 181.5,-195 181.5,-174 114.5,-174\"/>\n<text text-anchor=\"start\" x=\"117.5\" y=\"-180.8\" font-family=\"Times,serif\" font-size=\"14.00\">in_coeff[0]</text>\n<polygon fill=\"none\" stroke=\"black\" points=\"114.5,-153 114.5,-174 181.5,-174 181.5,-153 114.5,-153\"/>\n<text text-anchor=\"start\" x=\"117.5\" y=\"-159.8\" font-family=\"Times,serif\" font-size=\"14.00\">in_coeff[1]</text>\n<polygon fill=\"none\" stroke=\"black\" points=\"114.5,-132 114.5,-153 181.5,-153 181.5,-132 114.5,-132\"/>\n<text text-anchor=\"start\" x=\"117.5\" y=\"-138.8\" font-family=\"Times,serif\" font-size=\"14.00\">in_coeff[2]</text>\n<polygon fill=\"none\" stroke=\"black\" points=\"114.5,-111 114.5,-132 181.5,-132 181.5,-111 114.5,-111\"/>\n<text text-anchor=\"start\" x=\"117.5\" y=\"-117.8\" font-family=\"Times,serif\" font-size=\"14.00\">in_coeff[3]</text>\n<polygon fill=\"none\" stroke=\"black\" points=\"114.5,-90 114.5,-111 181.5,-111 181.5,-90 114.5,-90\"/>\n<text text-anchor=\"start\" x=\"139\" y=\"-96.8\" font-family=\"Times,serif\" font-size=\"14.00\">out</text>\n</g>\n<!-- x_sq_G6&#45;&gt;PolynmomialEvaluationInverseSquareRoot -->\n<g id=\"edge1\" class=\"edge\">\n<title>x_sq_G6:e-&gt;PolynmomialEvaluationInverseSquareRoot:w</title>\n<path fill=\"none\" stroke=\"black\" d=\"M66.5,-288C107.79,-288 73.29,-209.17 111.62,-206.09\"/>\n<ellipse fill=\"black\" stroke=\"black\" cx=\"113\" cy=\"-206.04\" rx=\"1\" ry=\"1\"/>\n<text text-anchor=\"middle\" x=\"95.5\" y=\"-220\" font-family=\"Times,serif\" font-size=\"10.00\">7</text>\n</g>\n<!-- in_coeff_G7 -->\n<g id=\"node2\" class=\"node\">\n<title>in_coeff_G7</title>\n<text text-anchor=\"middle\" x=\"38.5\" y=\"-230.3\" font-family=\"Times,serif\" font-size=\"14.00\">in_coeff[0]</text>\n</g>\n<!-- in_coeff_G7&#45;&gt;PolynmomialEvaluationInverseSquareRoot -->\n<g id=\"edge2\" class=\"edge\">\n<title>in_coeff_G7:e-&gt;PolynmomialEvaluationInverseSquareRoot:w</title>\n<path fill=\"none\" stroke=\"black\" d=\"M77,-234C103.54,-234 87.64,-187.64 111.86,-185.11\"/>\n<ellipse fill=\"black\" stroke=\"black\" cx=\"113\" cy=\"-185.05\" rx=\"1\" ry=\"1\"/>\n<text text-anchor=\"middle\" x=\"95.5\" y=\"-213\" font-family=\"Times,serif\" font-size=\"10.00\">8</text>\n</g>\n<!-- in_coeff_G5 -->\n<g id=\"node3\" class=\"node\">\n<title>in_coeff_G5</title>\n<text text-anchor=\"middle\" x=\"38.5\" y=\"-176.3\" font-family=\"Times,serif\" font-size=\"14.00\">in_coeff[1]</text>\n</g>\n<!-- in_coeff_G5&#45;&gt;PolynmomialEvaluationInverseSquareRoot -->\n<g id=\"edge3\" class=\"edge\">\n<title>in_coeff_G5:e-&gt;PolynmomialEvaluationInverseSquareRoot:w</title>\n<path fill=\"none\" stroke=\"black\" d=\"M77,-180C94.22,-180 95.97,-165.23 111.98,-164.07\"/>\n<ellipse fill=\"black\" stroke=\"black\" cx=\"113\" cy=\"-164.04\" rx=\"1\" ry=\"1\"/>\n<text text-anchor=\"middle\" x=\"95.5\" y=\"-175\" font-family=\"Times,serif\" font-size=\"10.00\">8</text>\n</g>\n<!-- in_coeff_G10 -->\n<g id=\"node4\" class=\"node\">\n<title>in_coeff_G10</title>\n<text text-anchor=\"middle\" x=\"38.5\" y=\"-122.3\" font-family=\"Times,serif\" font-size=\"14.00\">in_coeff[2]</text>\n</g>\n<!-- in_coeff_G10&#45;&gt;PolynmomialEvaluationInverseSquareRoot -->\n<g id=\"edge4\" class=\"edge\">\n<title>in_coeff_G10:e-&gt;PolynmomialEvaluationInverseSquareRoot:w</title>\n<path fill=\"none\" stroke=\"black\" d=\"M77,-126C94.22,-126 95.97,-140.77 111.98,-141.93\"/>\n<ellipse fill=\"black\" stroke=\"black\" cx=\"113\" cy=\"-141.96\" rx=\"1\" ry=\"1\"/>\n<text text-anchor=\"middle\" x=\"95.5\" y=\"-137\" font-family=\"Times,serif\" font-size=\"10.00\">8</text>\n</g>\n<!-- in_coeff_G14 -->\n<g id=\"node5\" class=\"node\">\n<title>in_coeff_G14</title>\n<text text-anchor=\"middle\" x=\"38.5\" y=\"-68.3\" font-family=\"Times,serif\" font-size=\"14.00\">in_coeff[3]</text>\n</g>\n<!-- in_coeff_G14&#45;&gt;PolynmomialEvaluationInverseSquareRoot -->\n<g id=\"edge5\" class=\"edge\">\n<title>in_coeff_G14:e-&gt;PolynmomialEvaluationInverseSquareRoot:w</title>\n<path fill=\"none\" stroke=\"black\" d=\"M77,-72C103.54,-72 87.64,-118.36 111.86,-120.89\"/>\n<ellipse fill=\"black\" stroke=\"black\" cx=\"113\" cy=\"-120.95\" rx=\"1\" ry=\"1\"/>\n<text text-anchor=\"middle\" x=\"95.5\" y=\"-100\" font-family=\"Times,serif\" font-size=\"10.00\">8</text>\n</g>\n<!-- out_G1 -->\n<g id=\"node6\" class=\"node\">\n<title>out_G1</title>\n<text text-anchor=\"middle\" x=\"38.5\" y=\"-14.3\" font-family=\"Times,serif\" font-size=\"14.00\">out</text>\n</g>\n<!-- out_G1&#45;&gt;PolynmomialEvaluationInverseSquareRoot -->\n<g id=\"edge6\" class=\"edge\">\n<title>out_G1:e-&gt;PolynmomialEvaluationInverseSquareRoot:w</title>\n<path fill=\"none\" stroke=\"black\" d=\"M66.5,-18C107.79,-18 73.29,-96.83 111.62,-99.91\"/>\n<ellipse fill=\"black\" stroke=\"black\" cx=\"113\" cy=\"-99.96\" rx=\"1\" ry=\"1\"/>\n<text text-anchor=\"middle\" x=\"95.5\" y=\"-92\" font-family=\"Times,serif\" font-size=\"10.00\">12</text>\n</g>\n<!-- x_sq_G13 -->\n<g id=\"node8\" class=\"node\">\n<title>x_sq_G13</title>\n<text text-anchor=\"middle\" x=\"256.5\" y=\"-284.3\" font-family=\"Times,serif\" font-size=\"14.00\">x_sq</text>\n</g>\n<!-- PolynmomialEvaluationInverseSquareRoot&#45;&gt;x_sq_G13 -->\n<g id=\"edge7\" class=\"edge\">\n<title>PolynmomialEvaluationInverseSquareRoot:e-&gt;x_sq_G13:w</title>\n<path fill=\"none\" stroke=\"black\" d=\"M181,-206C222.29,-206 187.79,-284.83 226.12,-287.91\"/>\n<ellipse fill=\"black\" stroke=\"black\" cx=\"227.5\" cy=\"-287.96\" rx=\"1\" ry=\"1\"/>\n<text text-anchor=\"middle\" x=\"199.5\" y=\"-220\" font-family=\"Times,serif\" font-size=\"10.00\">7</text>\n</g>\n<!-- in_coeff_G0 -->\n<g id=\"node9\" class=\"node\">\n<title>in_coeff_G0</title>\n<text text-anchor=\"middle\" x=\"256.5\" y=\"-230.3\" font-family=\"Times,serif\" font-size=\"14.00\">in_coeff[0]</text>\n</g>\n<!-- PolynmomialEvaluationInverseSquareRoot&#45;&gt;in_coeff_G0 -->\n<g id=\"edge8\" class=\"edge\">\n<title>PolynmomialEvaluationInverseSquareRoot:e-&gt;in_coeff_G0:w</title>\n<path fill=\"none\" stroke=\"black\" d=\"M181,-185C207.54,-185 191.64,-231.36 215.86,-233.89\"/>\n<ellipse fill=\"black\" stroke=\"black\" cx=\"217\" cy=\"-233.95\" rx=\"1\" ry=\"1\"/>\n<text text-anchor=\"middle\" x=\"199.5\" y=\"-213\" font-family=\"Times,serif\" font-size=\"10.00\">8</text>\n</g>\n<!-- in_coeff_G4 -->\n<g id=\"node10\" class=\"node\">\n<title>in_coeff_G4</title>\n<text text-anchor=\"middle\" x=\"256.5\" y=\"-176.3\" font-family=\"Times,serif\" font-size=\"14.00\">in_coeff[1]</text>\n</g>\n<!-- PolynmomialEvaluationInverseSquareRoot&#45;&gt;in_coeff_G4 -->\n<g id=\"edge9\" class=\"edge\">\n<title>PolynmomialEvaluationInverseSquareRoot:e-&gt;in_coeff_G4:w</title>\n<path fill=\"none\" stroke=\"black\" d=\"M181,-164C198.22,-164 199.97,-178.77 215.98,-179.93\"/>\n<ellipse fill=\"black\" stroke=\"black\" cx=\"217\" cy=\"-179.96\" rx=\"1\" ry=\"1\"/>\n<text text-anchor=\"middle\" x=\"199.5\" y=\"-175\" font-family=\"Times,serif\" font-size=\"10.00\">8</text>\n</g>\n<!-- in_coeff_G2 -->\n<g id=\"node11\" class=\"node\">\n<title>in_coeff_G2</title>\n<text text-anchor=\"middle\" x=\"256.5\" y=\"-122.3\" font-family=\"Times,serif\" font-size=\"14.00\">in_coeff[2]</text>\n</g>\n<!-- PolynmomialEvaluationInverseSquareRoot&#45;&gt;in_coeff_G2 -->\n<g id=\"edge10\" class=\"edge\">\n<title>PolynmomialEvaluationInverseSquareRoot:e-&gt;in_coeff_G2:w</title>\n<path fill=\"none\" stroke=\"black\" d=\"M181,-142C198.22,-142 199.97,-127.23 215.98,-126.07\"/>\n<ellipse fill=\"black\" stroke=\"black\" cx=\"217\" cy=\"-126.04\" rx=\"1\" ry=\"1\"/>\n<text text-anchor=\"middle\" x=\"199.5\" y=\"-137\" font-family=\"Times,serif\" font-size=\"10.00\">8</text>\n</g>\n<!-- in_coeff_G8 -->\n<g id=\"node12\" class=\"node\">\n<title>in_coeff_G8</title>\n<text text-anchor=\"middle\" x=\"256.5\" y=\"-68.3\" font-family=\"Times,serif\" font-size=\"14.00\">in_coeff[3]</text>\n</g>\n<!-- PolynmomialEvaluationInverseSquareRoot&#45;&gt;in_coeff_G8 -->\n<g id=\"edge11\" class=\"edge\">\n<title>PolynmomialEvaluationInverseSquareRoot:e-&gt;in_coeff_G8:w</title>\n<path fill=\"none\" stroke=\"black\" d=\"M181,-121C207.54,-121 191.64,-74.64 215.86,-72.11\"/>\n<ellipse fill=\"black\" stroke=\"black\" cx=\"217\" cy=\"-72.05\" rx=\"1\" ry=\"1\"/>\n<text text-anchor=\"middle\" x=\"199.5\" y=\"-100\" font-family=\"Times,serif\" font-size=\"10.00\">8</text>\n</g>\n<!-- out_G16 -->\n<g id=\"node13\" class=\"node\">\n<title>out_G16</title>\n<text text-anchor=\"middle\" x=\"256.5\" y=\"-14.3\" font-family=\"Times,serif\" font-size=\"14.00\">out</text>\n</g>\n<!-- PolynmomialEvaluationInverseSquareRoot&#45;&gt;out_G16 -->\n<g id=\"edge12\" class=\"edge\">\n<title>PolynmomialEvaluationInverseSquareRoot:e-&gt;out_G16:w</title>\n<path fill=\"none\" stroke=\"black\" d=\"M181,-100C222.29,-100 187.79,-21.17 226.12,-18.09\"/>\n<ellipse fill=\"black\" stroke=\"black\" cx=\"227.5\" cy=\"-18.04\" rx=\"1\" ry=\"1\"/>\n<text text-anchor=\"middle\" x=\"199.5\" y=\"-92\" font-family=\"Times,serif\" font-size=\"10.00\">12</text>\n</g>\n</g>\n</svg>",
          "text/plain": "<IPython.core.display.SVG object>"
         },
         "metadata": {},
         "output_type": "display_data"
        }
       ],
       "tabbable": null,
       "tooltip": null
      }
     },
     "8436f8c0f3c940eb85650a446e31d7f6": {
      "model_module": "@jupyter-widgets/output",
      "model_module_version": "1.0.0",
      "model_name": "OutputModel",
      "state": {
       "_dom_classes": [],
       "_model_module": "@jupyter-widgets/output",
       "_model_module_version": "1.0.0",
       "_model_name": "OutputModel",
       "_view_count": null,
       "_view_module": "@jupyter-widgets/output",
       "_view_module_version": "1.0.0",
       "_view_name": "OutputView",
       "layout": "IPY_MODEL_08d03699d69341158d510b16d62b3a3b",
       "msg_id": "",
       "outputs": [
        {
         "data": {
          "text/markdown": "`kinetic_energy`",
          "text/plain": "<IPython.core.display.Markdown object>"
         },
         "metadata": {},
         "output_type": "display_data"
        },
        {
         "data": {
          "image/svg+xml": "<svg xmlns=\"http://www.w3.org/2000/svg\" xmlns:xlink=\"http://www.w3.org/1999/xlink\" width=\"348pt\" height=\"1934pt\" viewBox=\"0.00 0.00 348.00 1934.00\">\n<g id=\"graph0\" class=\"graph\" transform=\"scale(1 1) rotate(0) translate(4 1930)\">\n<title>my_graph</title>\n<polygon fill=\"white\" stroke=\"transparent\" points=\"-4,4 -4,-1930 344,-1930 344,4 -4,4\"/>\n<!-- system_G104 -->\n<g id=\"node1\" class=\"node\">\n<title>system_G104</title>\n<text text-anchor=\"middle\" x=\"46\" y=\"-1904.3\" font-family=\"Times,serif\" font-size=\"14.00\">system[0, 0]</text>\n</g>\n<!-- KineticEnergy -->\n<g id=\"node37\" class=\"node\">\n<title>KineticEnergy</title>\n<polygon fill=\"none\" stroke=\"black\" points=\"129,-1341 129,-1358 211,-1358 211,-1341 129,-1341\"/>\n<text text-anchor=\"start\" x=\"153\" y=\"-1347\" font-family=\"Times,serif\" font-size=\"10.00\">U_T(dt)</text>\n<polygon fill=\"none\" stroke=\"black\" points=\"129,-1320 129,-1341 211,-1341 211,-1320 129,-1320\"/>\n<text text-anchor=\"start\" x=\"135.5\" y=\"-1326.8\" font-family=\"Times,serif\" font-size=\"14.00\">system[0, 0]</text>\n<polygon fill=\"none\" stroke=\"black\" points=\"129,-1299 129,-1320 211,-1320 211,-1299 129,-1299\"/>\n<text text-anchor=\"start\" x=\"135.5\" y=\"-1305.8\" font-family=\"Times,serif\" font-size=\"14.00\">system[0, 1]</text>\n<polygon fill=\"none\" stroke=\"black\" points=\"129,-1278 129,-1299 211,-1299 211,-1278 129,-1278\"/>\n<text text-anchor=\"start\" x=\"135.5\" y=\"-1284.8\" font-family=\"Times,serif\" font-size=\"14.00\">system[0, 2]</text>\n<polygon fill=\"none\" stroke=\"black\" points=\"129,-1257 129,-1278 211,-1278 211,-1257 129,-1257\"/>\n<text text-anchor=\"start\" x=\"135.5\" y=\"-1263.8\" font-family=\"Times,serif\" font-size=\"14.00\">system[1, 0]</text>\n<polygon fill=\"none\" stroke=\"black\" points=\"129,-1236 129,-1257 211,-1257 211,-1236 129,-1236\"/>\n<text text-anchor=\"start\" x=\"135.5\" y=\"-1242.8\" font-family=\"Times,serif\" font-size=\"14.00\">system[1, 1]</text>\n<polygon fill=\"none\" stroke=\"black\" points=\"129,-1215 129,-1236 211,-1236 211,-1215 129,-1215\"/>\n<text text-anchor=\"start\" x=\"135.5\" y=\"-1221.8\" font-family=\"Times,serif\" font-size=\"14.00\">system[1, 2]</text>\n<polygon fill=\"none\" stroke=\"black\" points=\"129,-1194 129,-1215 211,-1215 211,-1194 129,-1194\"/>\n<text text-anchor=\"start\" x=\"135.5\" y=\"-1200.8\" font-family=\"Times,serif\" font-size=\"14.00\">system[2, 0]</text>\n<polygon fill=\"none\" stroke=\"black\" points=\"129,-1173 129,-1194 211,-1194 211,-1173 129,-1173\"/>\n<text text-anchor=\"start\" x=\"135.5\" y=\"-1179.8\" font-family=\"Times,serif\" font-size=\"14.00\">system[2, 1]</text>\n<polygon fill=\"none\" stroke=\"black\" points=\"129,-1152 129,-1173 211,-1173 211,-1152 129,-1152\"/>\n<text text-anchor=\"start\" x=\"135.5\" y=\"-1158.8\" font-family=\"Times,serif\" font-size=\"14.00\">system[2, 2]</text>\n<polygon fill=\"none\" stroke=\"black\" points=\"129,-1131 129,-1152 211,-1152 211,-1131 129,-1131\"/>\n<text text-anchor=\"start\" x=\"135.5\" y=\"-1137.8\" font-family=\"Times,serif\" font-size=\"14.00\">system[3, 0]</text>\n<polygon fill=\"none\" stroke=\"black\" points=\"129,-1110 129,-1131 211,-1131 211,-1110 129,-1110\"/>\n<text text-anchor=\"start\" x=\"135.5\" y=\"-1116.8\" font-family=\"Times,serif\" font-size=\"14.00\">system[3, 1]</text>\n<polygon fill=\"none\" stroke=\"black\" points=\"129,-1089 129,-1110 211,-1110 211,-1089 129,-1089\"/>\n<text text-anchor=\"start\" x=\"135.5\" y=\"-1095.8\" font-family=\"Times,serif\" font-size=\"14.00\">system[3, 2]</text>\n<polygon fill=\"none\" stroke=\"black\" points=\"129,-1068 129,-1089 211,-1089 211,-1068 129,-1068\"/>\n<text text-anchor=\"start\" x=\"135.5\" y=\"-1074.8\" font-family=\"Times,serif\" font-size=\"14.00\">system[4, 0]</text>\n<polygon fill=\"none\" stroke=\"black\" points=\"129,-1047 129,-1068 211,-1068 211,-1047 129,-1047\"/>\n<text text-anchor=\"start\" x=\"135.5\" y=\"-1053.8\" font-family=\"Times,serif\" font-size=\"14.00\">system[4, 1]</text>\n<polygon fill=\"none\" stroke=\"black\" points=\"129,-1026 129,-1047 211,-1047 211,-1026 129,-1026\"/>\n<text text-anchor=\"start\" x=\"135.5\" y=\"-1032.8\" font-family=\"Times,serif\" font-size=\"14.00\">system[4, 2]</text>\n<polygon fill=\"none\" stroke=\"black\" points=\"129,-1005 129,-1026 211,-1026 211,-1005 129,-1005\"/>\n<text text-anchor=\"start\" x=\"135.5\" y=\"-1011.8\" font-family=\"Times,serif\" font-size=\"14.00\">system[5, 0]</text>\n<polygon fill=\"none\" stroke=\"black\" points=\"129,-984 129,-1005 211,-1005 211,-984 129,-984\"/>\n<text text-anchor=\"start\" x=\"135.5\" y=\"-990.8\" font-family=\"Times,serif\" font-size=\"14.00\">system[5, 1]</text>\n<polygon fill=\"none\" stroke=\"black\" points=\"129,-963 129,-984 211,-984 211,-963 129,-963\"/>\n<text text-anchor=\"start\" x=\"135.5\" y=\"-969.8\" font-family=\"Times,serif\" font-size=\"14.00\">system[5, 2]</text>\n<polygon fill=\"none\" stroke=\"black\" points=\"129,-942 129,-963 211,-963 211,-942 129,-942\"/>\n<text text-anchor=\"start\" x=\"135.5\" y=\"-948.8\" font-family=\"Times,serif\" font-size=\"14.00\">system[6, 0]</text>\n<polygon fill=\"none\" stroke=\"black\" points=\"129,-921 129,-942 211,-942 211,-921 129,-921\"/>\n<text text-anchor=\"start\" x=\"135.5\" y=\"-927.8\" font-family=\"Times,serif\" font-size=\"14.00\">system[6, 1]</text>\n<polygon fill=\"none\" stroke=\"black\" points=\"129,-900 129,-921 211,-921 211,-900 129,-900\"/>\n<text text-anchor=\"start\" x=\"135.5\" y=\"-906.8\" font-family=\"Times,serif\" font-size=\"14.00\">system[6, 2]</text>\n<polygon fill=\"none\" stroke=\"black\" points=\"129,-879 129,-900 211,-900 211,-879 129,-879\"/>\n<text text-anchor=\"start\" x=\"135.5\" y=\"-885.8\" font-family=\"Times,serif\" font-size=\"14.00\">system[7, 0]</text>\n<polygon fill=\"none\" stroke=\"black\" points=\"129,-858 129,-879 211,-879 211,-858 129,-858\"/>\n<text text-anchor=\"start\" x=\"135.5\" y=\"-864.8\" font-family=\"Times,serif\" font-size=\"14.00\">system[7, 1]</text>\n<polygon fill=\"none\" stroke=\"black\" points=\"129,-837 129,-858 211,-858 211,-837 129,-837\"/>\n<text text-anchor=\"start\" x=\"135.5\" y=\"-843.8\" font-family=\"Times,serif\" font-size=\"14.00\">system[7, 2]</text>\n<polygon fill=\"none\" stroke=\"black\" points=\"129,-816 129,-837 211,-837 211,-816 129,-816\"/>\n<text text-anchor=\"start\" x=\"135.5\" y=\"-822.8\" font-family=\"Times,serif\" font-size=\"14.00\">system[8, 0]</text>\n<polygon fill=\"none\" stroke=\"black\" points=\"129,-795 129,-816 211,-816 211,-795 129,-795\"/>\n<text text-anchor=\"start\" x=\"135.5\" y=\"-801.8\" font-family=\"Times,serif\" font-size=\"14.00\">system[8, 1]</text>\n<polygon fill=\"none\" stroke=\"black\" points=\"129,-774 129,-795 211,-795 211,-774 129,-774\"/>\n<text text-anchor=\"start\" x=\"135.5\" y=\"-780.8\" font-family=\"Times,serif\" font-size=\"14.00\">system[8, 2]</text>\n<polygon fill=\"none\" stroke=\"black\" points=\"129,-753 129,-774 211,-774 211,-753 129,-753\"/>\n<text text-anchor=\"start\" x=\"135.5\" y=\"-759.8\" font-family=\"Times,serif\" font-size=\"14.00\">system[9, 0]</text>\n<polygon fill=\"none\" stroke=\"black\" points=\"129,-732 129,-753 211,-753 211,-732 129,-732\"/>\n<text text-anchor=\"start\" x=\"135.5\" y=\"-738.8\" font-family=\"Times,serif\" font-size=\"14.00\">system[9, 1]</text>\n<polygon fill=\"none\" stroke=\"black\" points=\"129,-711 129,-732 211,-732 211,-711 129,-711\"/>\n<text text-anchor=\"start\" x=\"135.5\" y=\"-717.8\" font-family=\"Times,serif\" font-size=\"14.00\">system[9, 2]</text>\n<polygon fill=\"none\" stroke=\"black\" points=\"129,-690 129,-711 211,-711 211,-690 129,-690\"/>\n<text text-anchor=\"start\" x=\"132\" y=\"-696.8\" font-family=\"Times,serif\" font-size=\"14.00\">system[10, 0]</text>\n<polygon fill=\"none\" stroke=\"black\" points=\"129,-669 129,-690 211,-690 211,-669 129,-669\"/>\n<text text-anchor=\"start\" x=\"132\" y=\"-675.8\" font-family=\"Times,serif\" font-size=\"14.00\">system[10, 1]</text>\n<polygon fill=\"none\" stroke=\"black\" points=\"129,-648 129,-669 211,-669 211,-648 129,-648\"/>\n<text text-anchor=\"start\" x=\"132\" y=\"-654.8\" font-family=\"Times,serif\" font-size=\"14.00\">system[10, 2]</text>\n<polygon fill=\"none\" stroke=\"black\" points=\"129,-627 129,-648 211,-648 211,-627 129,-627\"/>\n<text text-anchor=\"start\" x=\"132\" y=\"-633.8\" font-family=\"Times,serif\" font-size=\"14.00\">system[11, 0]</text>\n<polygon fill=\"none\" stroke=\"black\" points=\"129,-606 129,-627 211,-627 211,-606 129,-606\"/>\n<text text-anchor=\"start\" x=\"132\" y=\"-612.8\" font-family=\"Times,serif\" font-size=\"14.00\">system[11, 1]</text>\n<polygon fill=\"none\" stroke=\"black\" points=\"129,-585 129,-606 211,-606 211,-585 129,-585\"/>\n<text text-anchor=\"start\" x=\"132\" y=\"-591.8\" font-family=\"Times,serif\" font-size=\"14.00\">system[11, 2]</text>\n</g>\n<!-- system_G104&#45;&gt;KineticEnergy -->\n<g id=\"edge1\" class=\"edge\">\n<title>system_G104:e-&gt;KineticEnergy:w</title>\n<path fill=\"none\" stroke=\"black\" d=\"M90,-1908C105.56,-1908 112.5,-1366.5 127.52,-1332.66\"/>\n<ellipse fill=\"black\" stroke=\"black\" cx=\"128.33\" cy=\"-1331.75\" rx=\"1\" ry=\"1\"/>\n<text text-anchor=\"middle\" x=\"110.5\" y=\"-1605\" font-family=\"Times,serif\" font-size=\"10.00\">6</text>\n</g>\n<!-- system_G0 -->\n<g id=\"node2\" class=\"node\">\n<title>system_G0</title>\n<text text-anchor=\"middle\" x=\"46\" y=\"-1850.3\" font-family=\"Times,serif\" font-size=\"14.00\">system[0, 1]</text>\n</g>\n<!-- system_G0&#45;&gt;KineticEnergy -->\n<g id=\"edge2\" class=\"edge\">\n<title>system_G0:e-&gt;KineticEnergy:w</title>\n<path fill=\"none\" stroke=\"black\" d=\"M90,-1854C104.68,-1854 113.3,-1343.47 127.6,-1311.56\"/>\n<ellipse fill=\"black\" stroke=\"black\" cx=\"128.33\" cy=\"-1310.74\" rx=\"1\" ry=\"1\"/>\n<text text-anchor=\"middle\" x=\"110.5\" y=\"-1568\" font-family=\"Times,serif\" font-size=\"10.00\">6</text>\n</g>\n<!-- system_G76 -->\n<g id=\"node3\" class=\"node\">\n<title>system_G76</title>\n<text text-anchor=\"middle\" x=\"46\" y=\"-1796.3\" font-family=\"Times,serif\" font-size=\"14.00\">system[0, 2]</text>\n</g>\n<!-- system_G76&#45;&gt;KineticEnergy -->\n<g id=\"edge3\" class=\"edge\">\n<title>system_G76:e-&gt;KineticEnergy:w</title>\n<path fill=\"none\" stroke=\"black\" d=\"M90,-1800C103.74,-1800 114.02,-1324.3 127.51,-1290.85\"/>\n<ellipse fill=\"black\" stroke=\"black\" cx=\"128.37\" cy=\"-1289.78\" rx=\"1\" ry=\"1\"/>\n<text text-anchor=\"middle\" x=\"110.5\" y=\"-1532\" font-family=\"Times,serif\" font-size=\"10.00\">6</text>\n</g>\n<!-- system_G92 -->\n<g id=\"node4\" class=\"node\">\n<title>system_G92</title>\n<text text-anchor=\"middle\" x=\"46\" y=\"-1742.3\" font-family=\"Times,serif\" font-size=\"14.00\">system[1, 0]</text>\n</g>\n<!-- system_G92&#45;&gt;KineticEnergy -->\n<g id=\"edge4\" class=\"edge\">\n<title>system_G92:e-&gt;KineticEnergy:w</title>\n<path fill=\"none\" stroke=\"black\" d=\"M90,-1746C115.92,-1746 103.11,-1293.78 126.9,-1269.05\"/>\n<ellipse fill=\"black\" stroke=\"black\" cx=\"128.11\" cy=\"-1268.45\" rx=\"1\" ry=\"1\"/>\n<text text-anchor=\"middle\" x=\"110.5\" y=\"-1481\" font-family=\"Times,serif\" font-size=\"10.00\">6</text>\n</g>\n<!-- system_G41 -->\n<g id=\"node5\" class=\"node\">\n<title>system_G41</title>\n<text text-anchor=\"middle\" x=\"46\" y=\"-1688.3\" font-family=\"Times,serif\" font-size=\"14.00\">system[1, 1]</text>\n</g>\n<!-- system_G41&#45;&gt;KineticEnergy -->\n<g id=\"edge5\" class=\"edge\">\n<title>system_G41:e-&gt;KineticEnergy:w</title>\n<path fill=\"none\" stroke=\"black\" d=\"M90,-1692C114.14,-1692 104.74,-1271 127.04,-1247.98\"/>\n<ellipse fill=\"black\" stroke=\"black\" cx=\"128.11\" cy=\"-1247.45\" rx=\"1\" ry=\"1\"/>\n<text text-anchor=\"middle\" x=\"110.5\" y=\"-1445\" font-family=\"Times,serif\" font-size=\"10.00\">6</text>\n</g>\n<!-- system_G105 -->\n<g id=\"node6\" class=\"node\">\n<title>system_G105</title>\n<text text-anchor=\"middle\" x=\"46\" y=\"-1634.3\" font-family=\"Times,serif\" font-size=\"14.00\">system[1, 2]</text>\n</g>\n<!-- system_G105&#45;&gt;KineticEnergy -->\n<g id=\"edge6\" class=\"edge\">\n<title>system_G105:e-&gt;KineticEnergy:w</title>\n<path fill=\"none\" stroke=\"black\" d=\"M90,-1638C112.36,-1638 106.37,-1248.22 127.18,-1226.91\"/>\n<ellipse fill=\"black\" stroke=\"black\" cx=\"128.11\" cy=\"-1226.45\" rx=\"1\" ry=\"1\"/>\n<text text-anchor=\"middle\" x=\"110.5\" y=\"-1410\" font-family=\"Times,serif\" font-size=\"10.00\">6</text>\n</g>\n<!-- system_G68 -->\n<g id=\"node7\" class=\"node\">\n<title>system_G68</title>\n<text text-anchor=\"middle\" x=\"46\" y=\"-1580.3\" font-family=\"Times,serif\" font-size=\"14.00\">system[2, 0]</text>\n</g>\n<!-- system_G68&#45;&gt;KineticEnergy -->\n<g id=\"edge7\" class=\"edge\">\n<title>system_G68:e-&gt;KineticEnergy:w</title>\n<path fill=\"none\" stroke=\"black\" d=\"M90,-1584C110.51,-1584 108.02,-1228.32 127.09,-1206.09\"/>\n<ellipse fill=\"black\" stroke=\"black\" cx=\"128.13\" cy=\"-1205.49\" rx=\"1\" ry=\"1\"/>\n<text text-anchor=\"middle\" x=\"110.5\" y=\"-1386\" font-family=\"Times,serif\" font-size=\"10.00\">6</text>\n</g>\n<!-- system_G38 -->\n<g id=\"node8\" class=\"node\">\n<title>system_G38</title>\n<text text-anchor=\"middle\" x=\"46\" y=\"-1526.3\" font-family=\"Times,serif\" font-size=\"14.00\">system[2, 1]</text>\n</g>\n<!-- system_G38&#45;&gt;KineticEnergy -->\n<g id=\"edge8\" class=\"edge\">\n<title>system_G38:e-&gt;KineticEnergy:w</title>\n<path fill=\"none\" stroke=\"black\" d=\"M90,-1530C108.74,-1530 109.62,-1205.29 127.24,-1184.99\"/>\n<ellipse fill=\"black\" stroke=\"black\" cx=\"128.13\" cy=\"-1184.49\" rx=\"1\" ry=\"1\"/>\n<text text-anchor=\"middle\" x=\"110.5\" y=\"-1349\" font-family=\"Times,serif\" font-size=\"10.00\">6</text>\n</g>\n<!-- system_G100 -->\n<g id=\"node9\" class=\"node\">\n<title>system_G100</title>\n<text text-anchor=\"middle\" x=\"46\" y=\"-1472.3\" font-family=\"Times,serif\" font-size=\"14.00\">system[2, 2]</text>\n</g>\n<!-- system_G100&#45;&gt;KineticEnergy -->\n<g id=\"edge9\" class=\"edge\">\n<title>system_G100:e-&gt;KineticEnergy:w</title>\n<path fill=\"none\" stroke=\"black\" d=\"M90,-1476C106.91,-1476 111.18,-1184.62 127.2,-1164.13\"/>\n<ellipse fill=\"black\" stroke=\"black\" cx=\"128.15\" cy=\"-1163.53\" rx=\"1\" ry=\"1\"/>\n<text text-anchor=\"middle\" x=\"110.5\" y=\"-1313\" font-family=\"Times,serif\" font-size=\"10.00\">6</text>\n</g>\n<!-- system_G2 -->\n<g id=\"node10\" class=\"node\">\n<title>system_G2</title>\n<text text-anchor=\"middle\" x=\"46\" y=\"-1418.3\" font-family=\"Times,serif\" font-size=\"14.00\">system[3, 0]</text>\n</g>\n<!-- system_G2&#45;&gt;KineticEnergy -->\n<g id=\"edge10\" class=\"edge\">\n<title>system_G2:e-&gt;KineticEnergy:w</title>\n<path fill=\"none\" stroke=\"black\" d=\"M90,-1422C120.68,-1422 98.67,-1154.97 126.88,-1142.45\"/>\n<ellipse fill=\"black\" stroke=\"black\" cx=\"128.02\" cy=\"-1142.21\" rx=\"1\" ry=\"1\"/>\n<text text-anchor=\"middle\" x=\"110.5\" y=\"-1259\" font-family=\"Times,serif\" font-size=\"10.00\">6</text>\n</g>\n<!-- system_G8 -->\n<g id=\"node11\" class=\"node\">\n<title>system_G8</title>\n<text text-anchor=\"middle\" x=\"46\" y=\"-1364.3\" font-family=\"Times,serif\" font-size=\"14.00\">system[3, 1]</text>\n</g>\n<!-- system_G8&#45;&gt;KineticEnergy -->\n<g id=\"edge11\" class=\"edge\">\n<title>system_G8:e-&gt;KineticEnergy:w</title>\n<path fill=\"none\" stroke=\"black\" d=\"M90,-1368C117.02,-1368 102.09,-1134.32 126.82,-1121.54\"/>\n<ellipse fill=\"black\" stroke=\"black\" cx=\"128.03\" cy=\"-1121.24\" rx=\"1\" ry=\"1\"/>\n<text text-anchor=\"middle\" x=\"110.5\" y=\"-1232\" font-family=\"Times,serif\" font-size=\"10.00\">6</text>\n</g>\n<!-- system_G67 -->\n<g id=\"node12\" class=\"node\">\n<title>system_G67</title>\n<text text-anchor=\"middle\" x=\"46\" y=\"-1310.3\" font-family=\"Times,serif\" font-size=\"14.00\">system[3, 2]</text>\n</g>\n<!-- system_G67&#45;&gt;KineticEnergy -->\n<g id=\"edge12\" class=\"edge\">\n<title>system_G67:e-&gt;KineticEnergy:w</title>\n<path fill=\"none\" stroke=\"black\" d=\"M90,-1314C113.41,-1314 105.38,-1113.17 126.83,-1100.61\"/>\n<ellipse fill=\"black\" stroke=\"black\" cx=\"128.04\" cy=\"-1100.27\" rx=\"1\" ry=\"1\"/>\n<text text-anchor=\"middle\" x=\"110.5\" y=\"-1197\" font-family=\"Times,serif\" font-size=\"10.00\">6</text>\n</g>\n<!-- system_G30 -->\n<g id=\"node13\" class=\"node\">\n<title>system_G30</title>\n<text text-anchor=\"middle\" x=\"46\" y=\"-1256.3\" font-family=\"Times,serif\" font-size=\"14.00\">system[4, 0]</text>\n</g>\n<!-- system_G30&#45;&gt;KineticEnergy -->\n<g id=\"edge13\" class=\"edge\">\n<title>system_G30:e-&gt;KineticEnergy:w</title>\n<path fill=\"none\" stroke=\"black\" d=\"M90,-1260C109.77,-1260 108.56,-1092.86 126.69,-1079.81\"/>\n<ellipse fill=\"black\" stroke=\"black\" cx=\"128.06\" cy=\"-1079.33\" rx=\"1\" ry=\"1\"/>\n<text text-anchor=\"middle\" x=\"110.5\" y=\"-1167\" font-family=\"Times,serif\" font-size=\"10.00\">6</text>\n</g>\n<!-- system_G94 -->\n<g id=\"node14\" class=\"node\">\n<title>system_G94</title>\n<text text-anchor=\"middle\" x=\"46\" y=\"-1202.3\" font-family=\"Times,serif\" font-size=\"14.00\">system[4, 1]</text>\n</g>\n<!-- system_G94&#45;&gt;KineticEnergy -->\n<g id=\"edge14\" class=\"edge\">\n<title>system_G94:e-&gt;KineticEnergy:w</title>\n<path fill=\"none\" stroke=\"black\" d=\"M90,-1206C119.94,-1206 103.19,-1170.9 111,-1142 115.79,-1124.29 110.37,-1063.05 126.88,-1058.29\"/>\n<ellipse fill=\"black\" stroke=\"black\" cx=\"128.01\" cy=\"-1058.14\" rx=\"1\" ry=\"1\"/>\n<text text-anchor=\"middle\" x=\"110.5\" y=\"-1148\" font-family=\"Times,serif\" font-size=\"10.00\">6</text>\n</g>\n<!-- system_G63 -->\n<g id=\"node15\" class=\"node\">\n<title>system_G63</title>\n<text text-anchor=\"middle\" x=\"46\" y=\"-1148.3\" font-family=\"Times,serif\" font-size=\"14.00\">system[4, 2]</text>\n</g>\n<!-- system_G63&#45;&gt;KineticEnergy -->\n<g id=\"edge15\" class=\"edge\">\n<title>system_G63:e-&gt;KineticEnergy:w</title>\n<path fill=\"none\" stroke=\"black\" d=\"M90,-1152C143.23,-1152 76.89,-1040.12 126.85,-1037.06\"/>\n<ellipse fill=\"black\" stroke=\"black\" cx=\"128\" cy=\"-1037.03\" rx=\"1\" ry=\"1\"/>\n<text text-anchor=\"middle\" x=\"110.5\" y=\"-1140\" font-family=\"Times,serif\" font-size=\"10.00\">6</text>\n</g>\n<!-- system_G74 -->\n<g id=\"node16\" class=\"node\">\n<title>system_G74</title>\n<text text-anchor=\"middle\" x=\"46\" y=\"-1094.3\" font-family=\"Times,serif\" font-size=\"14.00\">system[5, 0]</text>\n</g>\n<!-- system_G74&#45;&gt;KineticEnergy -->\n<g id=\"edge16\" class=\"edge\">\n<title>system_G74:e-&gt;KineticEnergy:w</title>\n<path fill=\"none\" stroke=\"black\" d=\"M90,-1098C129.57,-1098 90.24,-1019.17 126.73,-1016.09\"/>\n<ellipse fill=\"black\" stroke=\"black\" cx=\"128\" cy=\"-1016.04\" rx=\"1\" ry=\"1\"/>\n<text text-anchor=\"middle\" x=\"110.5\" y=\"-1038\" font-family=\"Times,serif\" font-size=\"10.00\">6</text>\n</g>\n<!-- system_G81 -->\n<g id=\"node17\" class=\"node\">\n<title>system_G81</title>\n<text text-anchor=\"middle\" x=\"46\" y=\"-1040.3\" font-family=\"Times,serif\" font-size=\"14.00\">system[5, 1]</text>\n</g>\n<!-- system_G81&#45;&gt;KineticEnergy -->\n<g id=\"edge17\" class=\"edge\">\n<title>system_G81:e-&gt;KineticEnergy:w</title>\n<path fill=\"none\" stroke=\"black\" d=\"M90,-1044C117.07,-1044 102.04,-997.64 126.81,-995.11\"/>\n<ellipse fill=\"black\" stroke=\"black\" cx=\"128\" cy=\"-995.05\" rx=\"1\" ry=\"1\"/>\n<text text-anchor=\"middle\" x=\"110.5\" y=\"-1019\" font-family=\"Times,serif\" font-size=\"10.00\">6</text>\n</g>\n<!-- system_G48 -->\n<g id=\"node18\" class=\"node\">\n<title>system_G48</title>\n<text text-anchor=\"middle\" x=\"46\" y=\"-986.3\" font-family=\"Times,serif\" font-size=\"14.00\">system[5, 2]</text>\n</g>\n<!-- system_G48&#45;&gt;KineticEnergy -->\n<g id=\"edge18\" class=\"edge\">\n<title>system_G48:e-&gt;KineticEnergy:w</title>\n<path fill=\"none\" stroke=\"black\" d=\"M90,-990C108,-990 110.12,-975.23 126.88,-974.07\"/>\n<ellipse fill=\"black\" stroke=\"black\" cx=\"128\" cy=\"-974.03\" rx=\"1\" ry=\"1\"/>\n<text text-anchor=\"middle\" x=\"110.5\" y=\"-984\" font-family=\"Times,serif\" font-size=\"10.00\">6</text>\n</g>\n<!-- system_G59 -->\n<g id=\"node19\" class=\"node\">\n<title>system_G59</title>\n<text text-anchor=\"middle\" x=\"46\" y=\"-932.3\" font-family=\"Times,serif\" font-size=\"14.00\">system[6, 0]</text>\n</g>\n<!-- system_G59&#45;&gt;KineticEnergy -->\n<g id=\"edge19\" class=\"edge\">\n<title>system_G59:e-&gt;KineticEnergy:w</title>\n<path fill=\"none\" stroke=\"black\" d=\"M90,-936C108,-936 110.12,-950.77 126.88,-951.93\"/>\n<ellipse fill=\"black\" stroke=\"black\" cx=\"128\" cy=\"-951.97\" rx=\"1\" ry=\"1\"/>\n<text text-anchor=\"middle\" x=\"110.5\" y=\"-947\" font-family=\"Times,serif\" font-size=\"10.00\">6</text>\n</g>\n<!-- system_G9 -->\n<g id=\"node20\" class=\"node\">\n<title>system_G9</title>\n<text text-anchor=\"middle\" x=\"46\" y=\"-878.3\" font-family=\"Times,serif\" font-size=\"14.00\">system[6, 1]</text>\n</g>\n<!-- system_G9&#45;&gt;KineticEnergy -->\n<g id=\"edge20\" class=\"edge\">\n<title>system_G9:e-&gt;KineticEnergy:w</title>\n<path fill=\"none\" stroke=\"black\" d=\"M90,-882C117.07,-882 102.04,-928.36 126.81,-930.89\"/>\n<ellipse fill=\"black\" stroke=\"black\" cx=\"128\" cy=\"-930.95\" rx=\"1\" ry=\"1\"/>\n<text text-anchor=\"middle\" x=\"110.5\" y=\"-915\" font-family=\"Times,serif\" font-size=\"10.00\">6</text>\n</g>\n<!-- system_G73 -->\n<g id=\"node21\" class=\"node\">\n<title>system_G73</title>\n<text text-anchor=\"middle\" x=\"46\" y=\"-824.3\" font-family=\"Times,serif\" font-size=\"14.00\">system[6, 2]</text>\n</g>\n<!-- system_G73&#45;&gt;KineticEnergy -->\n<g id=\"edge21\" class=\"edge\">\n<title>system_G73:e-&gt;KineticEnergy:w</title>\n<path fill=\"none\" stroke=\"black\" d=\"M90,-828C129.57,-828 90.24,-906.83 126.73,-909.91\"/>\n<ellipse fill=\"black\" stroke=\"black\" cx=\"128\" cy=\"-909.96\" rx=\"1\" ry=\"1\"/>\n<text text-anchor=\"middle\" x=\"110.5\" y=\"-897\" font-family=\"Times,serif\" font-size=\"10.00\">6</text>\n</g>\n<!-- system_G36 -->\n<g id=\"node22\" class=\"node\">\n<title>system_G36</title>\n<text text-anchor=\"middle\" x=\"46\" y=\"-770.3\" font-family=\"Times,serif\" font-size=\"14.00\">system[7, 0]</text>\n</g>\n<!-- system_G36&#45;&gt;KineticEnergy -->\n<g id=\"edge22\" class=\"edge\">\n<title>system_G36:e-&gt;KineticEnergy:w</title>\n<path fill=\"none\" stroke=\"black\" d=\"M90,-774C143.23,-774 76.89,-885.88 126.85,-888.94\"/>\n<ellipse fill=\"black\" stroke=\"black\" cx=\"128\" cy=\"-888.97\" rx=\"1\" ry=\"1\"/>\n<text text-anchor=\"middle\" x=\"110.5\" y=\"-882\" font-family=\"Times,serif\" font-size=\"10.00\">6</text>\n</g>\n<!-- system_G102 -->\n<g id=\"node23\" class=\"node\">\n<title>system_G102</title>\n<text text-anchor=\"middle\" x=\"46\" y=\"-716.3\" font-family=\"Times,serif\" font-size=\"14.00\">system[7, 1]</text>\n</g>\n<!-- system_G102&#45;&gt;KineticEnergy -->\n<g id=\"edge23\" class=\"edge\">\n<title>system_G102:e-&gt;KineticEnergy:w</title>\n<path fill=\"none\" stroke=\"black\" d=\"M90,-720C119.51,-720 103.26,-754.52 111,-783 115.86,-800.9 110.17,-862.89 126.85,-867.7\"/>\n<ellipse fill=\"black\" stroke=\"black\" cx=\"128.01\" cy=\"-867.86\" rx=\"1\" ry=\"1\"/>\n<text text-anchor=\"middle\" x=\"110.5\" y=\"-786\" font-family=\"Times,serif\" font-size=\"10.00\">6</text>\n</g>\n<!-- system_G54 -->\n<g id=\"node24\" class=\"node\">\n<title>system_G54</title>\n<text text-anchor=\"middle\" x=\"46\" y=\"-662.3\" font-family=\"Times,serif\" font-size=\"14.00\">system[7, 2]</text>\n</g>\n<!-- system_G54&#45;&gt;KineticEnergy -->\n<g id=\"edge24\" class=\"edge\">\n<title>system_G54:e-&gt;KineticEnergy:w</title>\n<path fill=\"none\" stroke=\"black\" d=\"M90,-666C109.77,-666 108.56,-833.14 126.69,-846.19\"/>\n<ellipse fill=\"black\" stroke=\"black\" cx=\"128.06\" cy=\"-846.67\" rx=\"1\" ry=\"1\"/>\n<text text-anchor=\"middle\" x=\"110.5\" y=\"-770\" font-family=\"Times,serif\" font-size=\"10.00\">6</text>\n</g>\n<!-- system_G77 -->\n<g id=\"node25\" class=\"node\">\n<title>system_G77</title>\n<text text-anchor=\"middle\" x=\"46\" y=\"-608.3\" font-family=\"Times,serif\" font-size=\"14.00\">system[8, 0]</text>\n</g>\n<!-- system_G77&#45;&gt;KineticEnergy -->\n<g id=\"edge25\" class=\"edge\">\n<title>system_G77:e-&gt;KineticEnergy:w</title>\n<path fill=\"none\" stroke=\"black\" d=\"M90,-612C113.41,-612 105.38,-812.83 126.83,-825.39\"/>\n<ellipse fill=\"black\" stroke=\"black\" cx=\"128.04\" cy=\"-825.73\" rx=\"1\" ry=\"1\"/>\n<text text-anchor=\"middle\" x=\"110.5\" y=\"-741\" font-family=\"Times,serif\" font-size=\"10.00\">6</text>\n</g>\n<!-- system_G86 -->\n<g id=\"node26\" class=\"node\">\n<title>system_G86</title>\n<text text-anchor=\"middle\" x=\"46\" y=\"-554.3\" font-family=\"Times,serif\" font-size=\"14.00\">system[8, 1]</text>\n</g>\n<!-- system_G86&#45;&gt;KineticEnergy -->\n<g id=\"edge26\" class=\"edge\">\n<title>system_G86:e-&gt;KineticEnergy:w</title>\n<path fill=\"none\" stroke=\"black\" d=\"M90,-558C117.02,-558 102.09,-791.68 126.82,-804.46\"/>\n<ellipse fill=\"black\" stroke=\"black\" cx=\"128.03\" cy=\"-804.76\" rx=\"1\" ry=\"1\"/>\n<text text-anchor=\"middle\" x=\"110.5\" y=\"-713\" font-family=\"Times,serif\" font-size=\"10.00\">6</text>\n</g>\n<!-- system_G35 -->\n<g id=\"node27\" class=\"node\">\n<title>system_G35</title>\n<text text-anchor=\"middle\" x=\"46\" y=\"-500.3\" font-family=\"Times,serif\" font-size=\"14.00\">system[8, 2]</text>\n</g>\n<!-- system_G35&#45;&gt;KineticEnergy -->\n<g id=\"edge27\" class=\"edge\">\n<title>system_G35:e-&gt;KineticEnergy:w</title>\n<path fill=\"none\" stroke=\"black\" d=\"M90,-504C105.09,-504 112.69,-762.55 127.2,-782.75\"/>\n<ellipse fill=\"black\" stroke=\"black\" cx=\"128.18\" cy=\"-783.43\" rx=\"1\" ry=\"1\"/>\n<text text-anchor=\"middle\" x=\"110.5\" y=\"-663\" font-family=\"Times,serif\" font-size=\"10.00\">6</text>\n</g>\n<!-- system_G1 -->\n<g id=\"node28\" class=\"node\">\n<title>system_G1</title>\n<text text-anchor=\"middle\" x=\"46\" y=\"-446.3\" font-family=\"Times,serif\" font-size=\"14.00\">system[9, 0]</text>\n</g>\n<!-- system_G1&#45;&gt;KineticEnergy -->\n<g id=\"edge28\" class=\"edge\">\n<title>system_G1:e-&gt;KineticEnergy:w</title>\n<path fill=\"none\" stroke=\"black\" d=\"M90,-450C106.91,-450 111.18,-741.38 127.2,-761.87\"/>\n<ellipse fill=\"black\" stroke=\"black\" cx=\"128.15\" cy=\"-762.47\" rx=\"1\" ry=\"1\"/>\n<text text-anchor=\"middle\" x=\"110.5\" y=\"-628\" font-family=\"Times,serif\" font-size=\"10.00\">6</text>\n</g>\n<!-- system_G64 -->\n<g id=\"node29\" class=\"node\">\n<title>system_G64</title>\n<text text-anchor=\"middle\" x=\"46\" y=\"-392.3\" font-family=\"Times,serif\" font-size=\"14.00\">system[9, 1]</text>\n</g>\n<!-- system_G64&#45;&gt;KineticEnergy -->\n<g id=\"edge29\" class=\"edge\">\n<title>system_G64:e-&gt;KineticEnergy:w</title>\n<path fill=\"none\" stroke=\"black\" d=\"M90,-396C108.74,-396 109.62,-720.71 127.24,-741.01\"/>\n<ellipse fill=\"black\" stroke=\"black\" cx=\"128.13\" cy=\"-741.51\" rx=\"1\" ry=\"1\"/>\n<text text-anchor=\"middle\" x=\"110.5\" y=\"-592\" font-family=\"Times,serif\" font-size=\"10.00\">6</text>\n</g>\n<!-- system_G15 -->\n<g id=\"node30\" class=\"node\">\n<title>system_G15</title>\n<text text-anchor=\"middle\" x=\"46\" y=\"-338.3\" font-family=\"Times,serif\" font-size=\"14.00\">system[9, 2]</text>\n</g>\n<!-- system_G15&#45;&gt;KineticEnergy -->\n<g id=\"edge30\" class=\"edge\">\n<title>system_G15:e-&gt;KineticEnergy:w</title>\n<path fill=\"none\" stroke=\"black\" d=\"M90,-342C110.51,-342 108.02,-697.68 127.09,-719.91\"/>\n<ellipse fill=\"black\" stroke=\"black\" cx=\"128.13\" cy=\"-720.51\" rx=\"1\" ry=\"1\"/>\n<text text-anchor=\"middle\" x=\"110.5\" y=\"-557\" font-family=\"Times,serif\" font-size=\"10.00\">6</text>\n</g>\n<!-- system_G44 -->\n<g id=\"node31\" class=\"node\">\n<title>system_G44</title>\n<text text-anchor=\"middle\" x=\"46\" y=\"-284.3\" font-family=\"Times,serif\" font-size=\"14.00\">system[10, 0]</text>\n</g>\n<!-- system_G44&#45;&gt;KineticEnergy -->\n<g id=\"edge31\" class=\"edge\">\n<title>system_G44:e-&gt;KineticEnergy:w</title>\n<path fill=\"none\" stroke=\"black\" d=\"M92,-288C114.35,-288 106.49,-677.78 127.19,-699.09\"/>\n<ellipse fill=\"black\" stroke=\"black\" cx=\"128.11\" cy=\"-699.55\" rx=\"1\" ry=\"1\"/>\n<text text-anchor=\"middle\" x=\"110.5\" y=\"-509\" font-family=\"Times,serif\" font-size=\"10.00\">6</text>\n</g>\n<!-- system_G52 -->\n<g id=\"node32\" class=\"node\">\n<title>system_G52</title>\n<text text-anchor=\"middle\" x=\"46\" y=\"-230.3\" font-family=\"Times,serif\" font-size=\"14.00\">system[10, 1]</text>\n</g>\n<!-- system_G52&#45;&gt;KineticEnergy -->\n<g id=\"edge32\" class=\"edge\">\n<title>system_G52:e-&gt;KineticEnergy:w</title>\n<path fill=\"none\" stroke=\"black\" d=\"M92,-234C116.13,-234 104.85,-655 127.05,-678.02\"/>\n<ellipse fill=\"black\" stroke=\"black\" cx=\"128.11\" cy=\"-678.55\" rx=\"1\" ry=\"1\"/>\n<text text-anchor=\"middle\" x=\"110.5\" y=\"-472\" font-family=\"Times,serif\" font-size=\"10.00\">6</text>\n</g>\n<!-- system_G4 -->\n<g id=\"node33\" class=\"node\">\n<title>system_G4</title>\n<text text-anchor=\"middle\" x=\"46\" y=\"-176.3\" font-family=\"Times,serif\" font-size=\"14.00\">system[10, 2]</text>\n</g>\n<!-- system_G4&#45;&gt;KineticEnergy -->\n<g id=\"edge33\" class=\"edge\">\n<title>system_G4:e-&gt;KineticEnergy:w</title>\n<path fill=\"none\" stroke=\"black\" d=\"M92,-180C104.85,-180 114.95,-624.98 127.61,-656.27\"/>\n<ellipse fill=\"black\" stroke=\"black\" cx=\"128.37\" cy=\"-657.22\" rx=\"1\" ry=\"1\"/>\n<text text-anchor=\"middle\" x=\"110.5\" y=\"-422\" font-family=\"Times,serif\" font-size=\"10.00\">6</text>\n</g>\n<!-- system_G26 -->\n<g id=\"node34\" class=\"node\">\n<title>system_G26</title>\n<text text-anchor=\"middle\" x=\"46\" y=\"-122.3\" font-family=\"Times,serif\" font-size=\"14.00\">system[11, 0]</text>\n</g>\n<!-- system_G26&#45;&gt;KineticEnergy -->\n<g id=\"edge34\" class=\"edge\">\n<title>system_G26:e-&gt;KineticEnergy:w</title>\n<path fill=\"none\" stroke=\"black\" d=\"M92,-126C119.8,-126 101.44,-613.33 127.08,-636.17\"/>\n<ellipse fill=\"black\" stroke=\"black\" cx=\"128.08\" cy=\"-636.6\" rx=\"1\" ry=\"1\"/>\n<text text-anchor=\"middle\" x=\"110.5\" y=\"-399\" font-family=\"Times,serif\" font-size=\"10.00\">6</text>\n</g>\n<!-- system_G29 -->\n<g id=\"node35\" class=\"node\">\n<title>system_G29</title>\n<text text-anchor=\"middle\" x=\"46\" y=\"-68.3\" font-family=\"Times,serif\" font-size=\"14.00\">system[11, 1]</text>\n</g>\n<!-- system_G29&#45;&gt;KineticEnergy -->\n<g id=\"edge35\" class=\"edge\">\n<title>system_G29:e-&gt;KineticEnergy:w</title>\n<path fill=\"none\" stroke=\"black\" d=\"M92,-72C106.67,-72 113.43,-582.53 127.6,-614.44\"/>\n<ellipse fill=\"black\" stroke=\"black\" cx=\"128.33\" cy=\"-615.25\" rx=\"1\" ry=\"1\"/>\n<text text-anchor=\"middle\" x=\"110.5\" y=\"-347\" font-family=\"Times,serif\" font-size=\"10.00\">6</text>\n</g>\n<!-- system_G107 -->\n<g id=\"node36\" class=\"node\">\n<title>system_G107</title>\n<text text-anchor=\"middle\" x=\"46\" y=\"-14.3\" font-family=\"Times,serif\" font-size=\"14.00\">system[11, 2]</text>\n</g>\n<!-- system_G107&#45;&gt;KineticEnergy -->\n<g id=\"edge36\" class=\"edge\">\n<title>system_G107:e-&gt;KineticEnergy:w</title>\n<path fill=\"none\" stroke=\"black\" d=\"M92,-18C107.56,-18 112.62,-559.5 127.53,-593.34\"/>\n<ellipse fill=\"black\" stroke=\"black\" cx=\"128.34\" cy=\"-594.25\" rx=\"1\" ry=\"1\"/>\n<text text-anchor=\"middle\" x=\"110.5\" y=\"-310\" font-family=\"Times,serif\" font-size=\"10.00\">6</text>\n</g>\n<!-- system_G85 -->\n<g id=\"node38\" class=\"node\">\n<title>system_G85</title>\n<text text-anchor=\"middle\" x=\"294\" y=\"-1904.3\" font-family=\"Times,serif\" font-size=\"14.00\">system[0, 0]</text>\n</g>\n<!-- KineticEnergy&#45;&gt;system_G85 -->\n<g id=\"edge37\" class=\"edge\">\n<title>KineticEnergy:e-&gt;system_G85:w</title>\n<path fill=\"none\" stroke=\"black\" d=\"M211,-1331C226.56,-1331 233.5,-1872.5 248.52,-1906.34\"/>\n<ellipse fill=\"black\" stroke=\"black\" cx=\"249.33\" cy=\"-1907.25\" rx=\"1\" ry=\"1\"/>\n<text text-anchor=\"middle\" x=\"229.5\" y=\"-1605\" font-family=\"Times,serif\" font-size=\"10.00\">6</text>\n</g>\n<!-- system_G37 -->\n<g id=\"node39\" class=\"node\">\n<title>system_G37</title>\n<text text-anchor=\"middle\" x=\"294\" y=\"-1850.3\" font-family=\"Times,serif\" font-size=\"14.00\">system[0, 1]</text>\n</g>\n<!-- KineticEnergy&#45;&gt;system_G37 -->\n<g id=\"edge38\" class=\"edge\">\n<title>KineticEnergy:e-&gt;system_G37:w</title>\n<path fill=\"none\" stroke=\"black\" d=\"M211,-1310C225.68,-1310 234.3,-1820.53 248.6,-1852.44\"/>\n<ellipse fill=\"black\" stroke=\"black\" cx=\"249.33\" cy=\"-1853.26\" rx=\"1\" ry=\"1\"/>\n<text text-anchor=\"middle\" x=\"229.5\" y=\"-1568\" font-family=\"Times,serif\" font-size=\"10.00\">6</text>\n</g>\n<!-- system_G7 -->\n<g id=\"node40\" class=\"node\">\n<title>system_G7</title>\n<text text-anchor=\"middle\" x=\"294\" y=\"-1796.3\" font-family=\"Times,serif\" font-size=\"14.00\">system[0, 2]</text>\n</g>\n<!-- KineticEnergy&#45;&gt;system_G7 -->\n<g id=\"edge39\" class=\"edge\">\n<title>KineticEnergy:e-&gt;system_G7:w</title>\n<path fill=\"none\" stroke=\"black\" d=\"M211,-1289C224.74,-1289 235.02,-1764.7 248.51,-1798.15\"/>\n<ellipse fill=\"black\" stroke=\"black\" cx=\"249.37\" cy=\"-1799.22\" rx=\"1\" ry=\"1\"/>\n<text text-anchor=\"middle\" x=\"229.5\" y=\"-1532\" font-family=\"Times,serif\" font-size=\"10.00\">6</text>\n</g>\n<!-- system_G21 -->\n<g id=\"node41\" class=\"node\">\n<title>system_G21</title>\n<text text-anchor=\"middle\" x=\"294\" y=\"-1742.3\" font-family=\"Times,serif\" font-size=\"14.00\">system[1, 0]</text>\n</g>\n<!-- KineticEnergy&#45;&gt;system_G21 -->\n<g id=\"edge40\" class=\"edge\">\n<title>KineticEnergy:e-&gt;system_G21:w</title>\n<path fill=\"none\" stroke=\"black\" d=\"M211,-1268C236.92,-1268 224.11,-1720.22 247.9,-1744.95\"/>\n<ellipse fill=\"black\" stroke=\"black\" cx=\"249.11\" cy=\"-1745.55\" rx=\"1\" ry=\"1\"/>\n<text text-anchor=\"middle\" x=\"229.5\" y=\"-1481\" font-family=\"Times,serif\" font-size=\"10.00\">6</text>\n</g>\n<!-- system_G79 -->\n<g id=\"node42\" class=\"node\">\n<title>system_G79</title>\n<text text-anchor=\"middle\" x=\"294\" y=\"-1688.3\" font-family=\"Times,serif\" font-size=\"14.00\">system[1, 1]</text>\n</g>\n<!-- KineticEnergy&#45;&gt;system_G79 -->\n<g id=\"edge41\" class=\"edge\">\n<title>KineticEnergy:e-&gt;system_G79:w</title>\n<path fill=\"none\" stroke=\"black\" d=\"M211,-1247C235.14,-1247 225.74,-1668 248.04,-1691.02\"/>\n<ellipse fill=\"black\" stroke=\"black\" cx=\"249.11\" cy=\"-1691.55\" rx=\"1\" ry=\"1\"/>\n<text text-anchor=\"middle\" x=\"229.5\" y=\"-1445\" font-family=\"Times,serif\" font-size=\"10.00\">6</text>\n</g>\n<!-- system_G87 -->\n<g id=\"node43\" class=\"node\">\n<title>system_G87</title>\n<text text-anchor=\"middle\" x=\"294\" y=\"-1634.3\" font-family=\"Times,serif\" font-size=\"14.00\">system[1, 2]</text>\n</g>\n<!-- KineticEnergy&#45;&gt;system_G87 -->\n<g id=\"edge42\" class=\"edge\">\n<title>KineticEnergy:e-&gt;system_G87:w</title>\n<path fill=\"none\" stroke=\"black\" d=\"M211,-1226C233.36,-1226 227.37,-1615.78 248.18,-1637.09\"/>\n<ellipse fill=\"black\" stroke=\"black\" cx=\"249.11\" cy=\"-1637.55\" rx=\"1\" ry=\"1\"/>\n<text text-anchor=\"middle\" x=\"229.5\" y=\"-1410\" font-family=\"Times,serif\" font-size=\"10.00\">6</text>\n</g>\n<!-- system_G51 -->\n<g id=\"node44\" class=\"node\">\n<title>system_G51</title>\n<text text-anchor=\"middle\" x=\"294\" y=\"-1580.3\" font-family=\"Times,serif\" font-size=\"14.00\">system[2, 0]</text>\n</g>\n<!-- KineticEnergy&#45;&gt;system_G51 -->\n<g id=\"edge43\" class=\"edge\">\n<title>KineticEnergy:e-&gt;system_G51:w</title>\n<path fill=\"none\" stroke=\"black\" d=\"M211,-1205C231.51,-1205 229.02,-1560.68 248.09,-1582.91\"/>\n<ellipse fill=\"black\" stroke=\"black\" cx=\"249.13\" cy=\"-1583.51\" rx=\"1\" ry=\"1\"/>\n<text text-anchor=\"middle\" x=\"229.5\" y=\"-1386\" font-family=\"Times,serif\" font-size=\"10.00\">6</text>\n</g>\n<!-- system_G24 -->\n<g id=\"node45\" class=\"node\">\n<title>system_G24</title>\n<text text-anchor=\"middle\" x=\"294\" y=\"-1526.3\" font-family=\"Times,serif\" font-size=\"14.00\">system[2, 1]</text>\n</g>\n<!-- KineticEnergy&#45;&gt;system_G24 -->\n<g id=\"edge44\" class=\"edge\">\n<title>KineticEnergy:e-&gt;system_G24:w</title>\n<path fill=\"none\" stroke=\"black\" d=\"M211,-1184C229.74,-1184 230.62,-1508.71 248.24,-1529.01\"/>\n<ellipse fill=\"black\" stroke=\"black\" cx=\"249.13\" cy=\"-1529.51\" rx=\"1\" ry=\"1\"/>\n<text text-anchor=\"middle\" x=\"229.5\" y=\"-1349\" font-family=\"Times,serif\" font-size=\"10.00\">6</text>\n</g>\n<!-- system_G80 -->\n<g id=\"node46\" class=\"node\">\n<title>system_G80</title>\n<text text-anchor=\"middle\" x=\"294\" y=\"-1472.3\" font-family=\"Times,serif\" font-size=\"14.00\">system[2, 2]</text>\n</g>\n<!-- KineticEnergy&#45;&gt;system_G80 -->\n<g id=\"edge45\" class=\"edge\">\n<title>KineticEnergy:e-&gt;system_G80:w</title>\n<path fill=\"none\" stroke=\"black\" d=\"M211,-1163C227.91,-1163 232.18,-1454.38 248.2,-1474.87\"/>\n<ellipse fill=\"black\" stroke=\"black\" cx=\"249.15\" cy=\"-1475.47\" rx=\"1\" ry=\"1\"/>\n<text text-anchor=\"middle\" x=\"229.5\" y=\"-1313\" font-family=\"Times,serif\" font-size=\"10.00\">6</text>\n</g>\n<!-- system_G93 -->\n<g id=\"node47\" class=\"node\">\n<title>system_G93</title>\n<text text-anchor=\"middle\" x=\"294\" y=\"-1418.3\" font-family=\"Times,serif\" font-size=\"14.00\">system[3, 0]</text>\n</g>\n<!-- KineticEnergy&#45;&gt;system_G93 -->\n<g id=\"edge46\" class=\"edge\">\n<title>KineticEnergy:e-&gt;system_G93:w</title>\n<path fill=\"none\" stroke=\"black\" d=\"M211,-1142C241.68,-1142 219.67,-1409.03 247.88,-1421.55\"/>\n<ellipse fill=\"black\" stroke=\"black\" cx=\"249.02\" cy=\"-1421.79\" rx=\"1\" ry=\"1\"/>\n<text text-anchor=\"middle\" x=\"229.5\" y=\"-1259\" font-family=\"Times,serif\" font-size=\"10.00\">6</text>\n</g>\n<!-- system_G98 -->\n<g id=\"node48\" class=\"node\">\n<title>system_G98</title>\n<text text-anchor=\"middle\" x=\"294\" y=\"-1364.3\" font-family=\"Times,serif\" font-size=\"14.00\">system[3, 1]</text>\n</g>\n<!-- KineticEnergy&#45;&gt;system_G98 -->\n<g id=\"edge47\" class=\"edge\">\n<title>KineticEnergy:e-&gt;system_G98:w</title>\n<path fill=\"none\" stroke=\"black\" d=\"M211,-1121C238.02,-1121 223.09,-1354.68 247.82,-1367.46\"/>\n<ellipse fill=\"black\" stroke=\"black\" cx=\"249.03\" cy=\"-1367.76\" rx=\"1\" ry=\"1\"/>\n<text text-anchor=\"middle\" x=\"229.5\" y=\"-1232\" font-family=\"Times,serif\" font-size=\"10.00\">6</text>\n</g>\n<!-- system_G47 -->\n<g id=\"node49\" class=\"node\">\n<title>system_G47</title>\n<text text-anchor=\"middle\" x=\"294\" y=\"-1310.3\" font-family=\"Times,serif\" font-size=\"14.00\">system[3, 2]</text>\n</g>\n<!-- KineticEnergy&#45;&gt;system_G47 -->\n<g id=\"edge48\" class=\"edge\">\n<title>KineticEnergy:e-&gt;system_G47:w</title>\n<path fill=\"none\" stroke=\"black\" d=\"M211,-1100C234.41,-1100 226.38,-1300.83 247.83,-1313.39\"/>\n<ellipse fill=\"black\" stroke=\"black\" cx=\"249.04\" cy=\"-1313.73\" rx=\"1\" ry=\"1\"/>\n<text text-anchor=\"middle\" x=\"229.5\" y=\"-1197\" font-family=\"Times,serif\" font-size=\"10.00\">6</text>\n</g>\n<!-- system_G70 -->\n<g id=\"node50\" class=\"node\">\n<title>system_G70</title>\n<text text-anchor=\"middle\" x=\"294\" y=\"-1256.3\" font-family=\"Times,serif\" font-size=\"14.00\">system[4, 0]</text>\n</g>\n<!-- KineticEnergy&#45;&gt;system_G70 -->\n<g id=\"edge49\" class=\"edge\">\n<title>KineticEnergy:e-&gt;system_G70:w</title>\n<path fill=\"none\" stroke=\"black\" d=\"M211,-1079C230.77,-1079 229.56,-1246.14 247.69,-1259.19\"/>\n<ellipse fill=\"black\" stroke=\"black\" cx=\"249.06\" cy=\"-1259.67\" rx=\"1\" ry=\"1\"/>\n<text text-anchor=\"middle\" x=\"229.5\" y=\"-1167\" font-family=\"Times,serif\" font-size=\"10.00\">6</text>\n</g>\n<!-- system_G75 -->\n<g id=\"node51\" class=\"node\">\n<title>system_G75</title>\n<text text-anchor=\"middle\" x=\"294\" y=\"-1202.3\" font-family=\"Times,serif\" font-size=\"14.00\">system[4, 1]</text>\n</g>\n<!-- KineticEnergy&#45;&gt;system_G75 -->\n<g id=\"edge50\" class=\"edge\">\n<title>KineticEnergy:e-&gt;system_G75:w</title>\n<path fill=\"none\" stroke=\"black\" d=\"M211,-1058C230.09,-1058 224.02,-1123.57 229,-1142 236.63,-1170.22 220.84,-1204.36 247.97,-1205.94\"/>\n<ellipse fill=\"black\" stroke=\"black\" cx=\"249\" cy=\"-1205.97\" rx=\"1\" ry=\"1\"/>\n<text text-anchor=\"middle\" x=\"229.5\" y=\"-1148\" font-family=\"Times,serif\" font-size=\"10.00\">6</text>\n</g>\n<!-- system_G42 -->\n<g id=\"node52\" class=\"node\">\n<title>system_G42</title>\n<text text-anchor=\"middle\" x=\"294\" y=\"-1148.3\" font-family=\"Times,serif\" font-size=\"14.00\">system[4, 2]</text>\n</g>\n<!-- KineticEnergy&#45;&gt;system_G42 -->\n<g id=\"edge51\" class=\"edge\">\n<title>KineticEnergy:e-&gt;system_G42:w</title>\n<path fill=\"none\" stroke=\"black\" d=\"M211,-1037C264.23,-1037 197.89,-1148.88 247.85,-1151.94\"/>\n<ellipse fill=\"black\" stroke=\"black\" cx=\"249\" cy=\"-1151.97\" rx=\"1\" ry=\"1\"/>\n<text text-anchor=\"middle\" x=\"229.5\" y=\"-1140\" font-family=\"Times,serif\" font-size=\"10.00\">6</text>\n</g>\n<!-- system_G56 -->\n<g id=\"node53\" class=\"node\">\n<title>system_G56</title>\n<text text-anchor=\"middle\" x=\"294\" y=\"-1094.3\" font-family=\"Times,serif\" font-size=\"14.00\">system[5, 0]</text>\n</g>\n<!-- KineticEnergy&#45;&gt;system_G56 -->\n<g id=\"edge52\" class=\"edge\">\n<title>KineticEnergy:e-&gt;system_G56:w</title>\n<path fill=\"none\" stroke=\"black\" d=\"M211,-1016C250.57,-1016 211.24,-1094.83 247.73,-1097.91\"/>\n<ellipse fill=\"black\" stroke=\"black\" cx=\"249\" cy=\"-1097.96\" rx=\"1\" ry=\"1\"/>\n<text text-anchor=\"middle\" x=\"229.5\" y=\"-1038\" font-family=\"Times,serif\" font-size=\"10.00\">6</text>\n</g>\n<!-- system_G11 -->\n<g id=\"node54\" class=\"node\">\n<title>system_G11</title>\n<text text-anchor=\"middle\" x=\"294\" y=\"-1040.3\" font-family=\"Times,serif\" font-size=\"14.00\">system[5, 1]</text>\n</g>\n<!-- KineticEnergy&#45;&gt;system_G11 -->\n<g id=\"edge53\" class=\"edge\">\n<title>KineticEnergy:e-&gt;system_G11:w</title>\n<path fill=\"none\" stroke=\"black\" d=\"M211,-995C238.07,-995 223.04,-1041.36 247.81,-1043.89\"/>\n<ellipse fill=\"black\" stroke=\"black\" cx=\"249\" cy=\"-1043.95\" rx=\"1\" ry=\"1\"/>\n<text text-anchor=\"middle\" x=\"229.5\" y=\"-1019\" font-family=\"Times,serif\" font-size=\"10.00\">6</text>\n</g>\n<!-- system_G88 -->\n<g id=\"node55\" class=\"node\">\n<title>system_G88</title>\n<text text-anchor=\"middle\" x=\"294\" y=\"-986.3\" font-family=\"Times,serif\" font-size=\"14.00\">system[5, 2]</text>\n</g>\n<!-- KineticEnergy&#45;&gt;system_G88 -->\n<g id=\"edge54\" class=\"edge\">\n<title>KineticEnergy:e-&gt;system_G88:w</title>\n<path fill=\"none\" stroke=\"black\" d=\"M211,-974C229,-974 231.12,-988.77 247.88,-989.93\"/>\n<ellipse fill=\"black\" stroke=\"black\" cx=\"249\" cy=\"-989.97\" rx=\"1\" ry=\"1\"/>\n<text text-anchor=\"middle\" x=\"229.5\" y=\"-984\" font-family=\"Times,serif\" font-size=\"10.00\">6</text>\n</g>\n<!-- system_G99 -->\n<g id=\"node56\" class=\"node\">\n<title>system_G99</title>\n<text text-anchor=\"middle\" x=\"294\" y=\"-932.3\" font-family=\"Times,serif\" font-size=\"14.00\">system[6, 0]</text>\n</g>\n<!-- KineticEnergy&#45;&gt;system_G99 -->\n<g id=\"edge55\" class=\"edge\">\n<title>KineticEnergy:e-&gt;system_G99:w</title>\n<path fill=\"none\" stroke=\"black\" d=\"M211,-952C229,-952 231.12,-937.23 247.88,-936.07\"/>\n<ellipse fill=\"black\" stroke=\"black\" cx=\"249\" cy=\"-936.03\" rx=\"1\" ry=\"1\"/>\n<text text-anchor=\"middle\" x=\"229.5\" y=\"-947\" font-family=\"Times,serif\" font-size=\"10.00\">6</text>\n</g>\n<!-- system_G49 -->\n<g id=\"node57\" class=\"node\">\n<title>system_G49</title>\n<text text-anchor=\"middle\" x=\"294\" y=\"-878.3\" font-family=\"Times,serif\" font-size=\"14.00\">system[6, 1]</text>\n</g>\n<!-- KineticEnergy&#45;&gt;system_G49 -->\n<g id=\"edge56\" class=\"edge\">\n<title>KineticEnergy:e-&gt;system_G49:w</title>\n<path fill=\"none\" stroke=\"black\" d=\"M211,-931C238.07,-931 223.04,-884.64 247.81,-882.11\"/>\n<ellipse fill=\"black\" stroke=\"black\" cx=\"249\" cy=\"-882.05\" rx=\"1\" ry=\"1\"/>\n<text text-anchor=\"middle\" x=\"229.5\" y=\"-915\" font-family=\"Times,serif\" font-size=\"10.00\">6</text>\n</g>\n<!-- system_G55 -->\n<g id=\"node58\" class=\"node\">\n<title>system_G55</title>\n<text text-anchor=\"middle\" x=\"294\" y=\"-824.3\" font-family=\"Times,serif\" font-size=\"14.00\">system[6, 2]</text>\n</g>\n<!-- KineticEnergy&#45;&gt;system_G55 -->\n<g id=\"edge57\" class=\"edge\">\n<title>KineticEnergy:e-&gt;system_G55:w</title>\n<path fill=\"none\" stroke=\"black\" d=\"M211,-910C250.57,-910 211.24,-831.17 247.73,-828.09\"/>\n<ellipse fill=\"black\" stroke=\"black\" cx=\"249\" cy=\"-828.04\" rx=\"1\" ry=\"1\"/>\n<text text-anchor=\"middle\" x=\"229.5\" y=\"-897\" font-family=\"Times,serif\" font-size=\"10.00\">6</text>\n</g>\n<!-- system_G20 -->\n<g id=\"node59\" class=\"node\">\n<title>system_G20</title>\n<text text-anchor=\"middle\" x=\"294\" y=\"-770.3\" font-family=\"Times,serif\" font-size=\"14.00\">system[7, 0]</text>\n</g>\n<!-- KineticEnergy&#45;&gt;system_G20 -->\n<g id=\"edge58\" class=\"edge\">\n<title>KineticEnergy:e-&gt;system_G20:w</title>\n<path fill=\"none\" stroke=\"black\" d=\"M211,-889C264.23,-889 197.89,-777.12 247.85,-774.06\"/>\n<ellipse fill=\"black\" stroke=\"black\" cx=\"249\" cy=\"-774.03\" rx=\"1\" ry=\"1\"/>\n<text text-anchor=\"middle\" x=\"229.5\" y=\"-882\" font-family=\"Times,serif\" font-size=\"10.00\">6</text>\n</g>\n<!-- system_G83 -->\n<g id=\"node60\" class=\"node\">\n<title>system_G83</title>\n<text text-anchor=\"middle\" x=\"294\" y=\"-716.3\" font-family=\"Times,serif\" font-size=\"14.00\">system[7, 1]</text>\n</g>\n<!-- KineticEnergy&#45;&gt;system_G83 -->\n<g id=\"edge59\" class=\"edge\">\n<title>KineticEnergy:e-&gt;system_G83:w</title>\n<path fill=\"none\" stroke=\"black\" d=\"M211,-868C230.31,-868 223.94,-801.63 229,-783 236.55,-755.18 221.23,-721.61 248,-720.06\"/>\n<ellipse fill=\"black\" stroke=\"black\" cx=\"249\" cy=\"-720.03\" rx=\"1\" ry=\"1\"/>\n<text text-anchor=\"middle\" x=\"229.5\" y=\"-786\" font-family=\"Times,serif\" font-size=\"10.00\">6</text>\n</g>\n<!-- system_G32 -->\n<g id=\"node61\" class=\"node\">\n<title>system_G32</title>\n<text text-anchor=\"middle\" x=\"294\" y=\"-662.3\" font-family=\"Times,serif\" font-size=\"14.00\">system[7, 2]</text>\n</g>\n<!-- KineticEnergy&#45;&gt;system_G32 -->\n<g id=\"edge60\" class=\"edge\">\n<title>KineticEnergy:e-&gt;system_G32:w</title>\n<path fill=\"none\" stroke=\"black\" d=\"M211,-847C230.77,-847 229.56,-679.86 247.69,-666.81\"/>\n<ellipse fill=\"black\" stroke=\"black\" cx=\"249.06\" cy=\"-666.33\" rx=\"1\" ry=\"1\"/>\n<text text-anchor=\"middle\" x=\"229.5\" y=\"-770\" font-family=\"Times,serif\" font-size=\"10.00\">6</text>\n</g>\n<!-- system_G61 -->\n<g id=\"node62\" class=\"node\">\n<title>system_G61</title>\n<text text-anchor=\"middle\" x=\"294\" y=\"-608.3\" font-family=\"Times,serif\" font-size=\"14.00\">system[8, 0]</text>\n</g>\n<!-- KineticEnergy&#45;&gt;system_G61 -->\n<g id=\"edge61\" class=\"edge\">\n<title>KineticEnergy:e-&gt;system_G61:w</title>\n<path fill=\"none\" stroke=\"black\" d=\"M211,-826C234.41,-826 226.38,-625.17 247.83,-612.61\"/>\n<ellipse fill=\"black\" stroke=\"black\" cx=\"249.04\" cy=\"-612.27\" rx=\"1\" ry=\"1\"/>\n<text text-anchor=\"middle\" x=\"229.5\" y=\"-741\" font-family=\"Times,serif\" font-size=\"10.00\">6</text>\n</g>\n<!-- system_G66 -->\n<g id=\"node63\" class=\"node\">\n<title>system_G66</title>\n<text text-anchor=\"middle\" x=\"294\" y=\"-554.3\" font-family=\"Times,serif\" font-size=\"14.00\">system[8, 1]</text>\n</g>\n<!-- KineticEnergy&#45;&gt;system_G66 -->\n<g id=\"edge62\" class=\"edge\">\n<title>KineticEnergy:e-&gt;system_G66:w</title>\n<path fill=\"none\" stroke=\"black\" d=\"M211,-805C238.02,-805 223.09,-571.32 247.82,-558.54\"/>\n<ellipse fill=\"black\" stroke=\"black\" cx=\"249.03\" cy=\"-558.24\" rx=\"1\" ry=\"1\"/>\n<text text-anchor=\"middle\" x=\"229.5\" y=\"-713\" font-family=\"Times,serif\" font-size=\"10.00\">6</text>\n</g>\n<!-- system_G19 -->\n<g id=\"node64\" class=\"node\">\n<title>system_G19</title>\n<text text-anchor=\"middle\" x=\"294\" y=\"-500.3\" font-family=\"Times,serif\" font-size=\"14.00\">system[8, 2]</text>\n</g>\n<!-- KineticEnergy&#45;&gt;system_G19 -->\n<g id=\"edge63\" class=\"edge\">\n<title>KineticEnergy:e-&gt;system_G19:w</title>\n<path fill=\"none\" stroke=\"black\" d=\"M211,-784C226.09,-784 233.69,-525.45 248.2,-505.25\"/>\n<ellipse fill=\"black\" stroke=\"black\" cx=\"249.18\" cy=\"-504.57\" rx=\"1\" ry=\"1\"/>\n<text text-anchor=\"middle\" x=\"229.5\" y=\"-663\" font-family=\"Times,serif\" font-size=\"10.00\">6</text>\n</g>\n<!-- system_G39 -->\n<g id=\"node65\" class=\"node\">\n<title>system_G39</title>\n<text text-anchor=\"middle\" x=\"294\" y=\"-446.3\" font-family=\"Times,serif\" font-size=\"14.00\">system[9, 0]</text>\n</g>\n<!-- KineticEnergy&#45;&gt;system_G39 -->\n<g id=\"edge64\" class=\"edge\">\n<title>KineticEnergy:e-&gt;system_G39:w</title>\n<path fill=\"none\" stroke=\"black\" d=\"M211,-763C227.91,-763 232.18,-471.62 248.2,-451.13\"/>\n<ellipse fill=\"black\" stroke=\"black\" cx=\"249.15\" cy=\"-450.53\" rx=\"1\" ry=\"1\"/>\n<text text-anchor=\"middle\" x=\"229.5\" y=\"-628\" font-family=\"Times,serif\" font-size=\"10.00\">6</text>\n</g>\n<!-- system_G45 -->\n<g id=\"node66\" class=\"node\">\n<title>system_G45</title>\n<text text-anchor=\"middle\" x=\"294\" y=\"-392.3\" font-family=\"Times,serif\" font-size=\"14.00\">system[9, 1]</text>\n</g>\n<!-- KineticEnergy&#45;&gt;system_G45 -->\n<g id=\"edge65\" class=\"edge\">\n<title>KineticEnergy:e-&gt;system_G45:w</title>\n<path fill=\"none\" stroke=\"black\" d=\"M211,-742C229.74,-742 230.62,-417.29 248.24,-396.99\"/>\n<ellipse fill=\"black\" stroke=\"black\" cx=\"249.13\" cy=\"-396.49\" rx=\"1\" ry=\"1\"/>\n<text text-anchor=\"middle\" x=\"229.5\" y=\"-592\" font-family=\"Times,serif\" font-size=\"10.00\">6</text>\n</g>\n<!-- system_G106 -->\n<g id=\"node67\" class=\"node\">\n<title>system_G106</title>\n<text text-anchor=\"middle\" x=\"294\" y=\"-338.3\" font-family=\"Times,serif\" font-size=\"14.00\">system[9, 2]</text>\n</g>\n<!-- KineticEnergy&#45;&gt;system_G106 -->\n<g id=\"edge66\" class=\"edge\">\n<title>KineticEnergy:e-&gt;system_G106:w</title>\n<path fill=\"none\" stroke=\"black\" d=\"M211,-721C231.51,-721 229.02,-365.32 248.09,-343.09\"/>\n<ellipse fill=\"black\" stroke=\"black\" cx=\"249.13\" cy=\"-342.49\" rx=\"1\" ry=\"1\"/>\n<text text-anchor=\"middle\" x=\"229.5\" y=\"-557\" font-family=\"Times,serif\" font-size=\"10.00\">6</text>\n</g>\n<!-- system_G27 -->\n<g id=\"node68\" class=\"node\">\n<title>system_G27</title>\n<text text-anchor=\"middle\" x=\"294\" y=\"-284.3\" font-family=\"Times,serif\" font-size=\"14.00\">system[10, 0]</text>\n</g>\n<!-- KineticEnergy&#45;&gt;system_G27 -->\n<g id=\"edge67\" class=\"edge\">\n<title>KineticEnergy:e-&gt;system_G27:w</title>\n<path fill=\"none\" stroke=\"black\" d=\"M211,-700C233.35,-700 225.49,-310.22 246.19,-288.91\"/>\n<ellipse fill=\"black\" stroke=\"black\" cx=\"247.11\" cy=\"-288.45\" rx=\"1\" ry=\"1\"/>\n<text text-anchor=\"middle\" x=\"229.5\" y=\"-509\" font-family=\"Times,serif\" font-size=\"10.00\">6</text>\n</g>\n<!-- system_G91 -->\n<g id=\"node69\" class=\"node\">\n<title>system_G91</title>\n<text text-anchor=\"middle\" x=\"294\" y=\"-230.3\" font-family=\"Times,serif\" font-size=\"14.00\">system[10, 1]</text>\n</g>\n<!-- KineticEnergy&#45;&gt;system_G91 -->\n<g id=\"edge68\" class=\"edge\">\n<title>KineticEnergy:e-&gt;system_G91:w</title>\n<path fill=\"none\" stroke=\"black\" d=\"M211,-679C235.13,-679 223.85,-258 246.05,-234.98\"/>\n<ellipse fill=\"black\" stroke=\"black\" cx=\"247.11\" cy=\"-234.45\" rx=\"1\" ry=\"1\"/>\n<text text-anchor=\"middle\" x=\"229.5\" y=\"-472\" font-family=\"Times,serif\" font-size=\"10.00\">6</text>\n</g>\n<!-- system_G40 -->\n<g id=\"node70\" class=\"node\">\n<title>system_G40</title>\n<text text-anchor=\"middle\" x=\"294\" y=\"-176.3\" font-family=\"Times,serif\" font-size=\"14.00\">system[10, 2]</text>\n</g>\n<!-- KineticEnergy&#45;&gt;system_G40 -->\n<g id=\"edge69\" class=\"edge\">\n<title>KineticEnergy:e-&gt;system_G40:w</title>\n<path fill=\"none\" stroke=\"black\" d=\"M211,-658C223.85,-658 233.95,-213.02 246.61,-181.73\"/>\n<ellipse fill=\"black\" stroke=\"black\" cx=\"247.37\" cy=\"-180.78\" rx=\"1\" ry=\"1\"/>\n<text text-anchor=\"middle\" x=\"229.5\" y=\"-422\" font-family=\"Times,serif\" font-size=\"10.00\">6</text>\n</g>\n<!-- system_G5 -->\n<g id=\"node71\" class=\"node\">\n<title>system_G5</title>\n<text text-anchor=\"middle\" x=\"294\" y=\"-122.3\" font-family=\"Times,serif\" font-size=\"14.00\">system[11, 0]</text>\n</g>\n<!-- KineticEnergy&#45;&gt;system_G5 -->\n<g id=\"edge70\" class=\"edge\">\n<title>KineticEnergy:e-&gt;system_G5:w</title>\n<path fill=\"none\" stroke=\"black\" d=\"M211,-637C238.8,-637 220.44,-149.67 246.08,-126.83\"/>\n<ellipse fill=\"black\" stroke=\"black\" cx=\"247.08\" cy=\"-126.4\" rx=\"1\" ry=\"1\"/>\n<text text-anchor=\"middle\" x=\"229.5\" y=\"-399\" font-family=\"Times,serif\" font-size=\"10.00\">6</text>\n</g>\n<!-- system_G12 -->\n<g id=\"node72\" class=\"node\">\n<title>system_G12</title>\n<text text-anchor=\"middle\" x=\"294\" y=\"-68.3\" font-family=\"Times,serif\" font-size=\"14.00\">system[11, 1]</text>\n</g>\n<!-- KineticEnergy&#45;&gt;system_G12 -->\n<g id=\"edge71\" class=\"edge\">\n<title>KineticEnergy:e-&gt;system_G12:w</title>\n<path fill=\"none\" stroke=\"black\" d=\"M211,-616C225.67,-616 232.43,-105.47 246.6,-73.56\"/>\n<ellipse fill=\"black\" stroke=\"black\" cx=\"247.33\" cy=\"-72.75\" rx=\"1\" ry=\"1\"/>\n<text text-anchor=\"middle\" x=\"229.5\" y=\"-347\" font-family=\"Times,serif\" font-size=\"10.00\">6</text>\n</g>\n<!-- system_G34 -->\n<g id=\"node73\" class=\"node\">\n<title>system_G34</title>\n<text text-anchor=\"middle\" x=\"294\" y=\"-14.3\" font-family=\"Times,serif\" font-size=\"14.00\">system[11, 2]</text>\n</g>\n<!-- KineticEnergy&#45;&gt;system_G34 -->\n<g id=\"edge72\" class=\"edge\">\n<title>KineticEnergy:e-&gt;system_G34:w</title>\n<path fill=\"none\" stroke=\"black\" d=\"M211,-595C226.56,-595 231.62,-53.5 246.53,-19.66\"/>\n<ellipse fill=\"black\" stroke=\"black\" cx=\"247.34\" cy=\"-18.75\" rx=\"1\" ry=\"1\"/>\n<text text-anchor=\"middle\" x=\"229.5\" y=\"-310\" font-family=\"Times,serif\" font-size=\"10.00\">6</text>\n</g>\n</g>\n</svg>",
          "text/plain": "<IPython.core.display.SVG object>"
         },
         "metadata": {},
         "output_type": "display_data"
        }
       ],
       "tabbable": null,
       "tooltip": null
      }
     },
     "8873176d556540479645548352933656": {
      "model_module": "@jupyter-widgets/controls",
      "model_module_version": "2.0.0",
      "model_name": "HBoxModel",
      "state": {
       "_dom_classes": [],
       "_model_module": "@jupyter-widgets/controls",
       "_model_module_version": "2.0.0",
       "_model_name": "HBoxModel",
       "_view_count": null,
       "_view_module": "@jupyter-widgets/controls",
       "_view_module_version": "2.0.0",
       "_view_name": "HBoxView",
       "box_style": "",
       "children": [
        "IPY_MODEL_30b93302e44a48669ccee457e5c0f96d"
       ],
       "layout": "IPY_MODEL_7024f7aa701a4dd8abba2daaa4714928",
       "tabbable": null,
       "tooltip": null
      }
     },
     "94116b55816f48e98f90bcb4abe5304d": {
      "model_module": "@jupyter-widgets/base",
      "model_module_version": "2.0.0",
      "model_name": "LayoutModel",
      "state": {
       "_model_module": "@jupyter-widgets/base",
       "_model_module_version": "2.0.0",
       "_model_name": "LayoutModel",
       "_view_count": null,
       "_view_module": "@jupyter-widgets/base",
       "_view_module_version": "2.0.0",
       "_view_name": "LayoutView",
       "align_content": null,
       "align_items": null,
       "align_self": null,
       "border_bottom": null,
       "border_left": null,
       "border_right": null,
       "border_top": null,
       "bottom": null,
       "display": null,
       "flex": null,
       "flex_flow": null,
       "grid_area": null,
       "grid_auto_columns": null,
       "grid_auto_flow": null,
       "grid_auto_rows": null,
       "grid_column": null,
       "grid_gap": null,
       "grid_row": null,
       "grid_template_areas": null,
       "grid_template_columns": null,
       "grid_template_rows": null,
       "height": null,
       "justify_content": null,
       "justify_items": null,
       "left": null,
       "margin": null,
       "max_height": null,
       "max_width": null,
       "min_height": null,
       "min_width": null,
       "object_fit": null,
       "object_position": null,
       "order": null,
       "overflow": null,
       "padding": null,
       "right": null,
       "top": null,
       "visibility": null,
       "width": null
      }
     },
     "9d89ca26a38c44058355c02b35b6c2e9": {
      "model_module": "@jupyter-widgets/base",
      "model_module_version": "2.0.0",
      "model_name": "LayoutModel",
      "state": {
       "_model_module": "@jupyter-widgets/base",
       "_model_module_version": "2.0.0",
       "_model_name": "LayoutModel",
       "_view_count": null,
       "_view_module": "@jupyter-widgets/base",
       "_view_module_version": "2.0.0",
       "_view_name": "LayoutView",
       "align_content": null,
       "align_items": null,
       "align_self": null,
       "border_bottom": null,
       "border_left": null,
       "border_right": null,
       "border_top": null,
       "bottom": null,
       "display": null,
       "flex": null,
       "flex_flow": null,
       "grid_area": null,
       "grid_auto_columns": null,
       "grid_auto_flow": null,
       "grid_auto_rows": null,
       "grid_column": null,
       "grid_gap": null,
       "grid_row": null,
       "grid_template_areas": null,
       "grid_template_columns": null,
       "grid_template_rows": null,
       "height": null,
       "justify_content": null,
       "justify_items": null,
       "left": null,
       "margin": null,
       "max_height": null,
       "max_width": null,
       "min_height": null,
       "min_width": null,
       "object_fit": null,
       "object_position": null,
       "order": null,
       "overflow": null,
       "padding": null,
       "right": null,
       "top": null,
       "visibility": null,
       "width": null
      }
     },
     "a6a9b13149044f63a877f559df8cd154": {
      "model_module": "@jupyter-widgets/base",
      "model_module_version": "2.0.0",
      "model_name": "LayoutModel",
      "state": {
       "_model_module": "@jupyter-widgets/base",
       "_model_module_version": "2.0.0",
       "_model_name": "LayoutModel",
       "_view_count": null,
       "_view_module": "@jupyter-widgets/base",
       "_view_module_version": "2.0.0",
       "_view_name": "LayoutView",
       "align_content": null,
       "align_items": null,
       "align_self": null,
       "border_bottom": null,
       "border_left": null,
       "border_right": null,
       "border_top": null,
       "bottom": null,
       "display": null,
       "flex": null,
       "flex_flow": null,
       "grid_area": null,
       "grid_auto_columns": null,
       "grid_auto_flow": null,
       "grid_auto_rows": null,
       "grid_column": null,
       "grid_gap": null,
       "grid_row": null,
       "grid_template_areas": null,
       "grid_template_columns": null,
       "grid_template_rows": null,
       "height": null,
       "justify_content": null,
       "justify_items": null,
       "left": null,
       "margin": null,
       "max_height": null,
       "max_width": null,
       "min_height": null,
       "min_width": null,
       "object_fit": null,
       "object_position": null,
       "order": null,
       "overflow": null,
       "padding": null,
       "right": null,
       "top": null,
       "visibility": null,
       "width": null
      }
     },
     "afd09fd06ef24fa1878cf50ff67db728": {
      "model_module": "@jupyter-widgets/output",
      "model_module_version": "1.0.0",
      "model_name": "OutputModel",
      "state": {
       "_dom_classes": [],
       "_model_module": "@jupyter-widgets/output",
       "_model_module_version": "1.0.0",
       "_model_name": "OutputModel",
       "_view_count": null,
       "_view_module": "@jupyter-widgets/output",
       "_view_module_version": "1.0.0",
       "_view_name": "OutputView",
       "layout": "IPY_MODEL_de70567bb3944168803d294bde918201",
       "msg_id": "",
       "outputs": [
        {
         "data": {
          "text/markdown": "`potential_energy`",
          "text/plain": "<IPython.core.display.Markdown object>"
         },
         "metadata": {},
         "output_type": "display_data"
        },
        {
         "data": {
          "image/svg+xml": "<svg xmlns=\"http://www.w3.org/2000/svg\" xmlns:xlink=\"http://www.w3.org/1999/xlink\" width=\"348pt\" height=\"1934pt\" viewBox=\"0.00 0.00 348.00 1934.00\">\n<g id=\"graph0\" class=\"graph\" transform=\"scale(1 1) rotate(0) translate(4 1930)\">\n<title>my_graph</title>\n<polygon fill=\"white\" stroke=\"transparent\" points=\"-4,4 -4,-1930 344,-1930 344,4 -4,4\"/>\n<!-- system_G103 -->\n<g id=\"node1\" class=\"node\">\n<title>system_G103</title>\n<text text-anchor=\"middle\" x=\"46\" y=\"-1904.3\" font-family=\"Times,serif\" font-size=\"14.00\">system[0, 0]</text>\n</g>\n<!-- PotentialEnergy -->\n<g id=\"node37\" class=\"node\">\n<title>PotentialEnergy</title>\n<polygon fill=\"none\" stroke=\"black\" points=\"129,-1341 129,-1358 211,-1358 211,-1341 129,-1341\"/>\n<text text-anchor=\"start\" x=\"152.5\" y=\"-1347\" font-family=\"Times,serif\" font-size=\"10.00\">U_V(dt)</text>\n<polygon fill=\"none\" stroke=\"black\" points=\"129,-1320 129,-1341 211,-1341 211,-1320 129,-1320\"/>\n<text text-anchor=\"start\" x=\"135.5\" y=\"-1326.8\" font-family=\"Times,serif\" font-size=\"14.00\">system[0, 0]</text>\n<polygon fill=\"none\" stroke=\"black\" points=\"129,-1299 129,-1320 211,-1320 211,-1299 129,-1299\"/>\n<text text-anchor=\"start\" x=\"135.5\" y=\"-1305.8\" font-family=\"Times,serif\" font-size=\"14.00\">system[0, 1]</text>\n<polygon fill=\"none\" stroke=\"black\" points=\"129,-1278 129,-1299 211,-1299 211,-1278 129,-1278\"/>\n<text text-anchor=\"start\" x=\"135.5\" y=\"-1284.8\" font-family=\"Times,serif\" font-size=\"14.00\">system[0, 2]</text>\n<polygon fill=\"none\" stroke=\"black\" points=\"129,-1257 129,-1278 211,-1278 211,-1257 129,-1257\"/>\n<text text-anchor=\"start\" x=\"135.5\" y=\"-1263.8\" font-family=\"Times,serif\" font-size=\"14.00\">system[1, 0]</text>\n<polygon fill=\"none\" stroke=\"black\" points=\"129,-1236 129,-1257 211,-1257 211,-1236 129,-1236\"/>\n<text text-anchor=\"start\" x=\"135.5\" y=\"-1242.8\" font-family=\"Times,serif\" font-size=\"14.00\">system[1, 1]</text>\n<polygon fill=\"none\" stroke=\"black\" points=\"129,-1215 129,-1236 211,-1236 211,-1215 129,-1215\"/>\n<text text-anchor=\"start\" x=\"135.5\" y=\"-1221.8\" font-family=\"Times,serif\" font-size=\"14.00\">system[1, 2]</text>\n<polygon fill=\"none\" stroke=\"black\" points=\"129,-1194 129,-1215 211,-1215 211,-1194 129,-1194\"/>\n<text text-anchor=\"start\" x=\"135.5\" y=\"-1200.8\" font-family=\"Times,serif\" font-size=\"14.00\">system[2, 0]</text>\n<polygon fill=\"none\" stroke=\"black\" points=\"129,-1173 129,-1194 211,-1194 211,-1173 129,-1173\"/>\n<text text-anchor=\"start\" x=\"135.5\" y=\"-1179.8\" font-family=\"Times,serif\" font-size=\"14.00\">system[2, 1]</text>\n<polygon fill=\"none\" stroke=\"black\" points=\"129,-1152 129,-1173 211,-1173 211,-1152 129,-1152\"/>\n<text text-anchor=\"start\" x=\"135.5\" y=\"-1158.8\" font-family=\"Times,serif\" font-size=\"14.00\">system[2, 2]</text>\n<polygon fill=\"none\" stroke=\"black\" points=\"129,-1131 129,-1152 211,-1152 211,-1131 129,-1131\"/>\n<text text-anchor=\"start\" x=\"135.5\" y=\"-1137.8\" font-family=\"Times,serif\" font-size=\"14.00\">system[3, 0]</text>\n<polygon fill=\"none\" stroke=\"black\" points=\"129,-1110 129,-1131 211,-1131 211,-1110 129,-1110\"/>\n<text text-anchor=\"start\" x=\"135.5\" y=\"-1116.8\" font-family=\"Times,serif\" font-size=\"14.00\">system[3, 1]</text>\n<polygon fill=\"none\" stroke=\"black\" points=\"129,-1089 129,-1110 211,-1110 211,-1089 129,-1089\"/>\n<text text-anchor=\"start\" x=\"135.5\" y=\"-1095.8\" font-family=\"Times,serif\" font-size=\"14.00\">system[3, 2]</text>\n<polygon fill=\"none\" stroke=\"black\" points=\"129,-1068 129,-1089 211,-1089 211,-1068 129,-1068\"/>\n<text text-anchor=\"start\" x=\"135.5\" y=\"-1074.8\" font-family=\"Times,serif\" font-size=\"14.00\">system[4, 0]</text>\n<polygon fill=\"none\" stroke=\"black\" points=\"129,-1047 129,-1068 211,-1068 211,-1047 129,-1047\"/>\n<text text-anchor=\"start\" x=\"135.5\" y=\"-1053.8\" font-family=\"Times,serif\" font-size=\"14.00\">system[4, 1]</text>\n<polygon fill=\"none\" stroke=\"black\" points=\"129,-1026 129,-1047 211,-1047 211,-1026 129,-1026\"/>\n<text text-anchor=\"start\" x=\"135.5\" y=\"-1032.8\" font-family=\"Times,serif\" font-size=\"14.00\">system[4, 2]</text>\n<polygon fill=\"none\" stroke=\"black\" points=\"129,-1005 129,-1026 211,-1026 211,-1005 129,-1005\"/>\n<text text-anchor=\"start\" x=\"135.5\" y=\"-1011.8\" font-family=\"Times,serif\" font-size=\"14.00\">system[5, 0]</text>\n<polygon fill=\"none\" stroke=\"black\" points=\"129,-984 129,-1005 211,-1005 211,-984 129,-984\"/>\n<text text-anchor=\"start\" x=\"135.5\" y=\"-990.8\" font-family=\"Times,serif\" font-size=\"14.00\">system[5, 1]</text>\n<polygon fill=\"none\" stroke=\"black\" points=\"129,-963 129,-984 211,-984 211,-963 129,-963\"/>\n<text text-anchor=\"start\" x=\"135.5\" y=\"-969.8\" font-family=\"Times,serif\" font-size=\"14.00\">system[5, 2]</text>\n<polygon fill=\"none\" stroke=\"black\" points=\"129,-942 129,-963 211,-963 211,-942 129,-942\"/>\n<text text-anchor=\"start\" x=\"135.5\" y=\"-948.8\" font-family=\"Times,serif\" font-size=\"14.00\">system[6, 0]</text>\n<polygon fill=\"none\" stroke=\"black\" points=\"129,-921 129,-942 211,-942 211,-921 129,-921\"/>\n<text text-anchor=\"start\" x=\"135.5\" y=\"-927.8\" font-family=\"Times,serif\" font-size=\"14.00\">system[6, 1]</text>\n<polygon fill=\"none\" stroke=\"black\" points=\"129,-900 129,-921 211,-921 211,-900 129,-900\"/>\n<text text-anchor=\"start\" x=\"135.5\" y=\"-906.8\" font-family=\"Times,serif\" font-size=\"14.00\">system[6, 2]</text>\n<polygon fill=\"none\" stroke=\"black\" points=\"129,-879 129,-900 211,-900 211,-879 129,-879\"/>\n<text text-anchor=\"start\" x=\"135.5\" y=\"-885.8\" font-family=\"Times,serif\" font-size=\"14.00\">system[7, 0]</text>\n<polygon fill=\"none\" stroke=\"black\" points=\"129,-858 129,-879 211,-879 211,-858 129,-858\"/>\n<text text-anchor=\"start\" x=\"135.5\" y=\"-864.8\" font-family=\"Times,serif\" font-size=\"14.00\">system[7, 1]</text>\n<polygon fill=\"none\" stroke=\"black\" points=\"129,-837 129,-858 211,-858 211,-837 129,-837\"/>\n<text text-anchor=\"start\" x=\"135.5\" y=\"-843.8\" font-family=\"Times,serif\" font-size=\"14.00\">system[7, 2]</text>\n<polygon fill=\"none\" stroke=\"black\" points=\"129,-816 129,-837 211,-837 211,-816 129,-816\"/>\n<text text-anchor=\"start\" x=\"135.5\" y=\"-822.8\" font-family=\"Times,serif\" font-size=\"14.00\">system[8, 0]</text>\n<polygon fill=\"none\" stroke=\"black\" points=\"129,-795 129,-816 211,-816 211,-795 129,-795\"/>\n<text text-anchor=\"start\" x=\"135.5\" y=\"-801.8\" font-family=\"Times,serif\" font-size=\"14.00\">system[8, 1]</text>\n<polygon fill=\"none\" stroke=\"black\" points=\"129,-774 129,-795 211,-795 211,-774 129,-774\"/>\n<text text-anchor=\"start\" x=\"135.5\" y=\"-780.8\" font-family=\"Times,serif\" font-size=\"14.00\">system[8, 2]</text>\n<polygon fill=\"none\" stroke=\"black\" points=\"129,-753 129,-774 211,-774 211,-753 129,-753\"/>\n<text text-anchor=\"start\" x=\"135.5\" y=\"-759.8\" font-family=\"Times,serif\" font-size=\"14.00\">system[9, 0]</text>\n<polygon fill=\"none\" stroke=\"black\" points=\"129,-732 129,-753 211,-753 211,-732 129,-732\"/>\n<text text-anchor=\"start\" x=\"135.5\" y=\"-738.8\" font-family=\"Times,serif\" font-size=\"14.00\">system[9, 1]</text>\n<polygon fill=\"none\" stroke=\"black\" points=\"129,-711 129,-732 211,-732 211,-711 129,-711\"/>\n<text text-anchor=\"start\" x=\"135.5\" y=\"-717.8\" font-family=\"Times,serif\" font-size=\"14.00\">system[9, 2]</text>\n<polygon fill=\"none\" stroke=\"black\" points=\"129,-690 129,-711 211,-711 211,-690 129,-690\"/>\n<text text-anchor=\"start\" x=\"132\" y=\"-696.8\" font-family=\"Times,serif\" font-size=\"14.00\">system[10, 0]</text>\n<polygon fill=\"none\" stroke=\"black\" points=\"129,-669 129,-690 211,-690 211,-669 129,-669\"/>\n<text text-anchor=\"start\" x=\"132\" y=\"-675.8\" font-family=\"Times,serif\" font-size=\"14.00\">system[10, 1]</text>\n<polygon fill=\"none\" stroke=\"black\" points=\"129,-648 129,-669 211,-669 211,-648 129,-648\"/>\n<text text-anchor=\"start\" x=\"132\" y=\"-654.8\" font-family=\"Times,serif\" font-size=\"14.00\">system[10, 2]</text>\n<polygon fill=\"none\" stroke=\"black\" points=\"129,-627 129,-648 211,-648 211,-627 129,-627\"/>\n<text text-anchor=\"start\" x=\"132\" y=\"-633.8\" font-family=\"Times,serif\" font-size=\"14.00\">system[11, 0]</text>\n<polygon fill=\"none\" stroke=\"black\" points=\"129,-606 129,-627 211,-627 211,-606 129,-606\"/>\n<text text-anchor=\"start\" x=\"132\" y=\"-612.8\" font-family=\"Times,serif\" font-size=\"14.00\">system[11, 1]</text>\n<polygon fill=\"none\" stroke=\"black\" points=\"129,-585 129,-606 211,-606 211,-585 129,-585\"/>\n<text text-anchor=\"start\" x=\"132\" y=\"-591.8\" font-family=\"Times,serif\" font-size=\"14.00\">system[11, 2]</text>\n</g>\n<!-- system_G103&#45;&gt;PotentialEnergy -->\n<g id=\"edge1\" class=\"edge\">\n<title>system_G103:e-&gt;PotentialEnergy:w</title>\n<path fill=\"none\" stroke=\"black\" d=\"M90,-1908C105.56,-1908 112.5,-1366.5 127.52,-1332.66\"/>\n<ellipse fill=\"black\" stroke=\"black\" cx=\"128.33\" cy=\"-1331.75\" rx=\"1\" ry=\"1\"/>\n<text text-anchor=\"middle\" x=\"110.5\" y=\"-1605\" font-family=\"Times,serif\" font-size=\"10.00\">6</text>\n</g>\n<!-- system_G1 -->\n<g id=\"node2\" class=\"node\">\n<title>system_G1</title>\n<text text-anchor=\"middle\" x=\"46\" y=\"-1850.3\" font-family=\"Times,serif\" font-size=\"14.00\">system[0, 1]</text>\n</g>\n<!-- system_G1&#45;&gt;PotentialEnergy -->\n<g id=\"edge2\" class=\"edge\">\n<title>system_G1:e-&gt;PotentialEnergy:w</title>\n<path fill=\"none\" stroke=\"black\" d=\"M90,-1854C104.68,-1854 113.3,-1343.47 127.6,-1311.56\"/>\n<ellipse fill=\"black\" stroke=\"black\" cx=\"128.33\" cy=\"-1310.74\" rx=\"1\" ry=\"1\"/>\n<text text-anchor=\"middle\" x=\"110.5\" y=\"-1568\" font-family=\"Times,serif\" font-size=\"10.00\">6</text>\n</g>\n<!-- system_G78 -->\n<g id=\"node3\" class=\"node\">\n<title>system_G78</title>\n<text text-anchor=\"middle\" x=\"46\" y=\"-1796.3\" font-family=\"Times,serif\" font-size=\"14.00\">system[0, 2]</text>\n</g>\n<!-- system_G78&#45;&gt;PotentialEnergy -->\n<g id=\"edge3\" class=\"edge\">\n<title>system_G78:e-&gt;PotentialEnergy:w</title>\n<path fill=\"none\" stroke=\"black\" d=\"M90,-1800C103.74,-1800 114.02,-1324.3 127.51,-1290.85\"/>\n<ellipse fill=\"black\" stroke=\"black\" cx=\"128.37\" cy=\"-1289.78\" rx=\"1\" ry=\"1\"/>\n<text text-anchor=\"middle\" x=\"110.5\" y=\"-1532\" font-family=\"Times,serif\" font-size=\"10.00\">6</text>\n</g>\n<!-- system_G91 -->\n<g id=\"node4\" class=\"node\">\n<title>system_G91</title>\n<text text-anchor=\"middle\" x=\"46\" y=\"-1742.3\" font-family=\"Times,serif\" font-size=\"14.00\">system[1, 0]</text>\n</g>\n<!-- system_G91&#45;&gt;PotentialEnergy -->\n<g id=\"edge4\" class=\"edge\">\n<title>system_G91:e-&gt;PotentialEnergy:w</title>\n<path fill=\"none\" stroke=\"black\" d=\"M90,-1746C115.92,-1746 103.11,-1293.78 126.9,-1269.05\"/>\n<ellipse fill=\"black\" stroke=\"black\" cx=\"128.11\" cy=\"-1268.45\" rx=\"1\" ry=\"1\"/>\n<text text-anchor=\"middle\" x=\"110.5\" y=\"-1481\" font-family=\"Times,serif\" font-size=\"10.00\">6</text>\n</g>\n<!-- system_G42 -->\n<g id=\"node5\" class=\"node\">\n<title>system_G42</title>\n<text text-anchor=\"middle\" x=\"46\" y=\"-1688.3\" font-family=\"Times,serif\" font-size=\"14.00\">system[1, 1]</text>\n</g>\n<!-- system_G42&#45;&gt;PotentialEnergy -->\n<g id=\"edge5\" class=\"edge\">\n<title>system_G42:e-&gt;PotentialEnergy:w</title>\n<path fill=\"none\" stroke=\"black\" d=\"M90,-1692C114.14,-1692 104.74,-1271 127.04,-1247.98\"/>\n<ellipse fill=\"black\" stroke=\"black\" cx=\"128.11\" cy=\"-1247.45\" rx=\"1\" ry=\"1\"/>\n<text text-anchor=\"middle\" x=\"110.5\" y=\"-1445\" font-family=\"Times,serif\" font-size=\"10.00\">6</text>\n</g>\n<!-- system_G105 -->\n<g id=\"node6\" class=\"node\">\n<title>system_G105</title>\n<text text-anchor=\"middle\" x=\"46\" y=\"-1634.3\" font-family=\"Times,serif\" font-size=\"14.00\">system[1, 2]</text>\n</g>\n<!-- system_G105&#45;&gt;PotentialEnergy -->\n<g id=\"edge6\" class=\"edge\">\n<title>system_G105:e-&gt;PotentialEnergy:w</title>\n<path fill=\"none\" stroke=\"black\" d=\"M90,-1638C112.36,-1638 106.37,-1248.22 127.18,-1226.91\"/>\n<ellipse fill=\"black\" stroke=\"black\" cx=\"128.11\" cy=\"-1226.45\" rx=\"1\" ry=\"1\"/>\n<text text-anchor=\"middle\" x=\"110.5\" y=\"-1410\" font-family=\"Times,serif\" font-size=\"10.00\">6</text>\n</g>\n<!-- system_G71 -->\n<g id=\"node7\" class=\"node\">\n<title>system_G71</title>\n<text text-anchor=\"middle\" x=\"46\" y=\"-1580.3\" font-family=\"Times,serif\" font-size=\"14.00\">system[2, 0]</text>\n</g>\n<!-- system_G71&#45;&gt;PotentialEnergy -->\n<g id=\"edge7\" class=\"edge\">\n<title>system_G71:e-&gt;PotentialEnergy:w</title>\n<path fill=\"none\" stroke=\"black\" d=\"M90,-1584C110.51,-1584 108.02,-1228.32 127.09,-1206.09\"/>\n<ellipse fill=\"black\" stroke=\"black\" cx=\"128.13\" cy=\"-1205.49\" rx=\"1\" ry=\"1\"/>\n<text text-anchor=\"middle\" x=\"110.5\" y=\"-1386\" font-family=\"Times,serif\" font-size=\"10.00\">6</text>\n</g>\n<!-- system_G38 -->\n<g id=\"node8\" class=\"node\">\n<title>system_G38</title>\n<text text-anchor=\"middle\" x=\"46\" y=\"-1526.3\" font-family=\"Times,serif\" font-size=\"14.00\">system[2, 1]</text>\n</g>\n<!-- system_G38&#45;&gt;PotentialEnergy -->\n<g id=\"edge8\" class=\"edge\">\n<title>system_G38:e-&gt;PotentialEnergy:w</title>\n<path fill=\"none\" stroke=\"black\" d=\"M90,-1530C108.74,-1530 109.62,-1205.29 127.24,-1184.99\"/>\n<ellipse fill=\"black\" stroke=\"black\" cx=\"128.13\" cy=\"-1184.49\" rx=\"1\" ry=\"1\"/>\n<text text-anchor=\"middle\" x=\"110.5\" y=\"-1349\" font-family=\"Times,serif\" font-size=\"10.00\">6</text>\n</g>\n<!-- system_G100 -->\n<g id=\"node9\" class=\"node\">\n<title>system_G100</title>\n<text text-anchor=\"middle\" x=\"46\" y=\"-1472.3\" font-family=\"Times,serif\" font-size=\"14.00\">system[2, 2]</text>\n</g>\n<!-- system_G100&#45;&gt;PotentialEnergy -->\n<g id=\"edge9\" class=\"edge\">\n<title>system_G100:e-&gt;PotentialEnergy:w</title>\n<path fill=\"none\" stroke=\"black\" d=\"M90,-1476C106.91,-1476 111.18,-1184.62 127.2,-1164.13\"/>\n<ellipse fill=\"black\" stroke=\"black\" cx=\"128.15\" cy=\"-1163.53\" rx=\"1\" ry=\"1\"/>\n<text text-anchor=\"middle\" x=\"110.5\" y=\"-1313\" font-family=\"Times,serif\" font-size=\"10.00\">6</text>\n</g>\n<!-- system_G3 -->\n<g id=\"node10\" class=\"node\">\n<title>system_G3</title>\n<text text-anchor=\"middle\" x=\"46\" y=\"-1418.3\" font-family=\"Times,serif\" font-size=\"14.00\">system[3, 0]</text>\n</g>\n<!-- system_G3&#45;&gt;PotentialEnergy -->\n<g id=\"edge10\" class=\"edge\">\n<title>system_G3:e-&gt;PotentialEnergy:w</title>\n<path fill=\"none\" stroke=\"black\" d=\"M90,-1422C120.68,-1422 98.67,-1154.97 126.88,-1142.45\"/>\n<ellipse fill=\"black\" stroke=\"black\" cx=\"128.02\" cy=\"-1142.21\" rx=\"1\" ry=\"1\"/>\n<text text-anchor=\"middle\" x=\"110.5\" y=\"-1259\" font-family=\"Times,serif\" font-size=\"10.00\">6</text>\n</g>\n<!-- system_G9 -->\n<g id=\"node11\" class=\"node\">\n<title>system_G9</title>\n<text text-anchor=\"middle\" x=\"46\" y=\"-1364.3\" font-family=\"Times,serif\" font-size=\"14.00\">system[3, 1]</text>\n</g>\n<!-- system_G9&#45;&gt;PotentialEnergy -->\n<g id=\"edge11\" class=\"edge\">\n<title>system_G9:e-&gt;PotentialEnergy:w</title>\n<path fill=\"none\" stroke=\"black\" d=\"M90,-1368C117.02,-1368 102.09,-1134.32 126.82,-1121.54\"/>\n<ellipse fill=\"black\" stroke=\"black\" cx=\"128.03\" cy=\"-1121.24\" rx=\"1\" ry=\"1\"/>\n<text text-anchor=\"middle\" x=\"110.5\" y=\"-1232\" font-family=\"Times,serif\" font-size=\"10.00\">6</text>\n</g>\n<!-- system_G70 -->\n<g id=\"node12\" class=\"node\">\n<title>system_G70</title>\n<text text-anchor=\"middle\" x=\"46\" y=\"-1310.3\" font-family=\"Times,serif\" font-size=\"14.00\">system[3, 2]</text>\n</g>\n<!-- system_G70&#45;&gt;PotentialEnergy -->\n<g id=\"edge12\" class=\"edge\">\n<title>system_G70:e-&gt;PotentialEnergy:w</title>\n<path fill=\"none\" stroke=\"black\" d=\"M90,-1314C113.41,-1314 105.38,-1113.17 126.83,-1100.61\"/>\n<ellipse fill=\"black\" stroke=\"black\" cx=\"128.04\" cy=\"-1100.27\" rx=\"1\" ry=\"1\"/>\n<text text-anchor=\"middle\" x=\"110.5\" y=\"-1197\" font-family=\"Times,serif\" font-size=\"10.00\">6</text>\n</g>\n<!-- system_G30 -->\n<g id=\"node13\" class=\"node\">\n<title>system_G30</title>\n<text text-anchor=\"middle\" x=\"46\" y=\"-1256.3\" font-family=\"Times,serif\" font-size=\"14.00\">system[4, 0]</text>\n</g>\n<!-- system_G30&#45;&gt;PotentialEnergy -->\n<g id=\"edge13\" class=\"edge\">\n<title>system_G30:e-&gt;PotentialEnergy:w</title>\n<path fill=\"none\" stroke=\"black\" d=\"M90,-1260C109.77,-1260 108.56,-1092.86 126.69,-1079.81\"/>\n<ellipse fill=\"black\" stroke=\"black\" cx=\"128.06\" cy=\"-1079.33\" rx=\"1\" ry=\"1\"/>\n<text text-anchor=\"middle\" x=\"110.5\" y=\"-1167\" font-family=\"Times,serif\" font-size=\"10.00\">6</text>\n</g>\n<!-- system_G94 -->\n<g id=\"node14\" class=\"node\">\n<title>system_G94</title>\n<text text-anchor=\"middle\" x=\"46\" y=\"-1202.3\" font-family=\"Times,serif\" font-size=\"14.00\">system[4, 1]</text>\n</g>\n<!-- system_G94&#45;&gt;PotentialEnergy -->\n<g id=\"edge14\" class=\"edge\">\n<title>system_G94:e-&gt;PotentialEnergy:w</title>\n<path fill=\"none\" stroke=\"black\" d=\"M90,-1206C119.94,-1206 103.19,-1170.9 111,-1142 115.79,-1124.29 110.37,-1063.05 126.88,-1058.29\"/>\n<ellipse fill=\"black\" stroke=\"black\" cx=\"128.01\" cy=\"-1058.14\" rx=\"1\" ry=\"1\"/>\n<text text-anchor=\"middle\" x=\"110.5\" y=\"-1148\" font-family=\"Times,serif\" font-size=\"10.00\">6</text>\n</g>\n<!-- system_G66 -->\n<g id=\"node15\" class=\"node\">\n<title>system_G66</title>\n<text text-anchor=\"middle\" x=\"46\" y=\"-1148.3\" font-family=\"Times,serif\" font-size=\"14.00\">system[4, 2]</text>\n</g>\n<!-- system_G66&#45;&gt;PotentialEnergy -->\n<g id=\"edge15\" class=\"edge\">\n<title>system_G66:e-&gt;PotentialEnergy:w</title>\n<path fill=\"none\" stroke=\"black\" d=\"M90,-1152C143.23,-1152 76.89,-1040.12 126.85,-1037.06\"/>\n<ellipse fill=\"black\" stroke=\"black\" cx=\"128\" cy=\"-1037.03\" rx=\"1\" ry=\"1\"/>\n<text text-anchor=\"middle\" x=\"110.5\" y=\"-1140\" font-family=\"Times,serif\" font-size=\"10.00\">6</text>\n</g>\n<!-- system_G76 -->\n<g id=\"node16\" class=\"node\">\n<title>system_G76</title>\n<text text-anchor=\"middle\" x=\"46\" y=\"-1094.3\" font-family=\"Times,serif\" font-size=\"14.00\">system[5, 0]</text>\n</g>\n<!-- system_G76&#45;&gt;PotentialEnergy -->\n<g id=\"edge16\" class=\"edge\">\n<title>system_G76:e-&gt;PotentialEnergy:w</title>\n<path fill=\"none\" stroke=\"black\" d=\"M90,-1098C129.57,-1098 90.24,-1019.17 126.73,-1016.09\"/>\n<ellipse fill=\"black\" stroke=\"black\" cx=\"128\" cy=\"-1016.04\" rx=\"1\" ry=\"1\"/>\n<text text-anchor=\"middle\" x=\"110.5\" y=\"-1038\" font-family=\"Times,serif\" font-size=\"10.00\">6</text>\n</g>\n<!-- system_G82 -->\n<g id=\"node17\" class=\"node\">\n<title>system_G82</title>\n<text text-anchor=\"middle\" x=\"46\" y=\"-1040.3\" font-family=\"Times,serif\" font-size=\"14.00\">system[5, 1]</text>\n</g>\n<!-- system_G82&#45;&gt;PotentialEnergy -->\n<g id=\"edge17\" class=\"edge\">\n<title>system_G82:e-&gt;PotentialEnergy:w</title>\n<path fill=\"none\" stroke=\"black\" d=\"M90,-1044C117.07,-1044 102.04,-997.64 126.81,-995.11\"/>\n<ellipse fill=\"black\" stroke=\"black\" cx=\"128\" cy=\"-995.05\" rx=\"1\" ry=\"1\"/>\n<text text-anchor=\"middle\" x=\"110.5\" y=\"-1019\" font-family=\"Times,serif\" font-size=\"10.00\">6</text>\n</g>\n<!-- system_G48 -->\n<g id=\"node18\" class=\"node\">\n<title>system_G48</title>\n<text text-anchor=\"middle\" x=\"46\" y=\"-986.3\" font-family=\"Times,serif\" font-size=\"14.00\">system[5, 2]</text>\n</g>\n<!-- system_G48&#45;&gt;PotentialEnergy -->\n<g id=\"edge18\" class=\"edge\">\n<title>system_G48:e-&gt;PotentialEnergy:w</title>\n<path fill=\"none\" stroke=\"black\" d=\"M90,-990C108,-990 110.12,-975.23 126.88,-974.07\"/>\n<ellipse fill=\"black\" stroke=\"black\" cx=\"128\" cy=\"-974.03\" rx=\"1\" ry=\"1\"/>\n<text text-anchor=\"middle\" x=\"110.5\" y=\"-984\" font-family=\"Times,serif\" font-size=\"10.00\">6</text>\n</g>\n<!-- system_G61 -->\n<g id=\"node19\" class=\"node\">\n<title>system_G61</title>\n<text text-anchor=\"middle\" x=\"46\" y=\"-932.3\" font-family=\"Times,serif\" font-size=\"14.00\">system[6, 0]</text>\n</g>\n<!-- system_G61&#45;&gt;PotentialEnergy -->\n<g id=\"edge19\" class=\"edge\">\n<title>system_G61:e-&gt;PotentialEnergy:w</title>\n<path fill=\"none\" stroke=\"black\" d=\"M90,-936C108,-936 110.12,-950.77 126.88,-951.93\"/>\n<ellipse fill=\"black\" stroke=\"black\" cx=\"128\" cy=\"-951.97\" rx=\"1\" ry=\"1\"/>\n<text text-anchor=\"middle\" x=\"110.5\" y=\"-947\" font-family=\"Times,serif\" font-size=\"10.00\">6</text>\n</g>\n<!-- system_G11 -->\n<g id=\"node20\" class=\"node\">\n<title>system_G11</title>\n<text text-anchor=\"middle\" x=\"46\" y=\"-878.3\" font-family=\"Times,serif\" font-size=\"14.00\">system[6, 1]</text>\n</g>\n<!-- system_G11&#45;&gt;PotentialEnergy -->\n<g id=\"edge20\" class=\"edge\">\n<title>system_G11:e-&gt;PotentialEnergy:w</title>\n<path fill=\"none\" stroke=\"black\" d=\"M90,-882C117.07,-882 102.04,-928.36 126.81,-930.89\"/>\n<ellipse fill=\"black\" stroke=\"black\" cx=\"128\" cy=\"-930.95\" rx=\"1\" ry=\"1\"/>\n<text text-anchor=\"middle\" x=\"110.5\" y=\"-915\" font-family=\"Times,serif\" font-size=\"10.00\">6</text>\n</g>\n<!-- system_G74 -->\n<g id=\"node21\" class=\"node\">\n<title>system_G74</title>\n<text text-anchor=\"middle\" x=\"46\" y=\"-824.3\" font-family=\"Times,serif\" font-size=\"14.00\">system[6, 2]</text>\n</g>\n<!-- system_G74&#45;&gt;PotentialEnergy -->\n<g id=\"edge21\" class=\"edge\">\n<title>system_G74:e-&gt;PotentialEnergy:w</title>\n<path fill=\"none\" stroke=\"black\" d=\"M90,-828C129.57,-828 90.24,-906.83 126.73,-909.91\"/>\n<ellipse fill=\"black\" stroke=\"black\" cx=\"128\" cy=\"-909.96\" rx=\"1\" ry=\"1\"/>\n<text text-anchor=\"middle\" x=\"110.5\" y=\"-897\" font-family=\"Times,serif\" font-size=\"10.00\">6</text>\n</g>\n<!-- system_G36 -->\n<g id=\"node22\" class=\"node\">\n<title>system_G36</title>\n<text text-anchor=\"middle\" x=\"46\" y=\"-770.3\" font-family=\"Times,serif\" font-size=\"14.00\">system[7, 0]</text>\n</g>\n<!-- system_G36&#45;&gt;PotentialEnergy -->\n<g id=\"edge22\" class=\"edge\">\n<title>system_G36:e-&gt;PotentialEnergy:w</title>\n<path fill=\"none\" stroke=\"black\" d=\"M90,-774C143.23,-774 76.89,-885.88 126.85,-888.94\"/>\n<ellipse fill=\"black\" stroke=\"black\" cx=\"128\" cy=\"-888.97\" rx=\"1\" ry=\"1\"/>\n<text text-anchor=\"middle\" x=\"110.5\" y=\"-882\" font-family=\"Times,serif\" font-size=\"10.00\">6</text>\n</g>\n<!-- system_G102 -->\n<g id=\"node23\" class=\"node\">\n<title>system_G102</title>\n<text text-anchor=\"middle\" x=\"46\" y=\"-716.3\" font-family=\"Times,serif\" font-size=\"14.00\">system[7, 1]</text>\n</g>\n<!-- system_G102&#45;&gt;PotentialEnergy -->\n<g id=\"edge23\" class=\"edge\">\n<title>system_G102:e-&gt;PotentialEnergy:w</title>\n<path fill=\"none\" stroke=\"black\" d=\"M90,-720C119.51,-720 103.26,-754.52 111,-783 115.86,-800.9 110.17,-862.89 126.85,-867.7\"/>\n<ellipse fill=\"black\" stroke=\"black\" cx=\"128.01\" cy=\"-867.86\" rx=\"1\" ry=\"1\"/>\n<text text-anchor=\"middle\" x=\"110.5\" y=\"-786\" font-family=\"Times,serif\" font-size=\"10.00\">6</text>\n</g>\n<!-- system_G54 -->\n<g id=\"node24\" class=\"node\">\n<title>system_G54</title>\n<text text-anchor=\"middle\" x=\"46\" y=\"-662.3\" font-family=\"Times,serif\" font-size=\"14.00\">system[7, 2]</text>\n</g>\n<!-- system_G54&#45;&gt;PotentialEnergy -->\n<g id=\"edge24\" class=\"edge\">\n<title>system_G54:e-&gt;PotentialEnergy:w</title>\n<path fill=\"none\" stroke=\"black\" d=\"M90,-666C109.77,-666 108.56,-833.14 126.69,-846.19\"/>\n<ellipse fill=\"black\" stroke=\"black\" cx=\"128.06\" cy=\"-846.67\" rx=\"1\" ry=\"1\"/>\n<text text-anchor=\"middle\" x=\"110.5\" y=\"-770\" font-family=\"Times,serif\" font-size=\"10.00\">6</text>\n</g>\n<!-- system_G79 -->\n<g id=\"node25\" class=\"node\">\n<title>system_G79</title>\n<text text-anchor=\"middle\" x=\"46\" y=\"-608.3\" font-family=\"Times,serif\" font-size=\"14.00\">system[8, 0]</text>\n</g>\n<!-- system_G79&#45;&gt;PotentialEnergy -->\n<g id=\"edge25\" class=\"edge\">\n<title>system_G79:e-&gt;PotentialEnergy:w</title>\n<path fill=\"none\" stroke=\"black\" d=\"M90,-612C113.41,-612 105.38,-812.83 126.83,-825.39\"/>\n<ellipse fill=\"black\" stroke=\"black\" cx=\"128.04\" cy=\"-825.73\" rx=\"1\" ry=\"1\"/>\n<text text-anchor=\"middle\" x=\"110.5\" y=\"-741\" font-family=\"Times,serif\" font-size=\"10.00\">6</text>\n</g>\n<!-- system_G86 -->\n<g id=\"node26\" class=\"node\">\n<title>system_G86</title>\n<text text-anchor=\"middle\" x=\"46\" y=\"-554.3\" font-family=\"Times,serif\" font-size=\"14.00\">system[8, 1]</text>\n</g>\n<!-- system_G86&#45;&gt;PotentialEnergy -->\n<g id=\"edge26\" class=\"edge\">\n<title>system_G86:e-&gt;PotentialEnergy:w</title>\n<path fill=\"none\" stroke=\"black\" d=\"M90,-558C117.02,-558 102.09,-791.68 126.82,-804.46\"/>\n<ellipse fill=\"black\" stroke=\"black\" cx=\"128.03\" cy=\"-804.76\" rx=\"1\" ry=\"1\"/>\n<text text-anchor=\"middle\" x=\"110.5\" y=\"-713\" font-family=\"Times,serif\" font-size=\"10.00\">6</text>\n</g>\n<!-- system_G35 -->\n<g id=\"node27\" class=\"node\">\n<title>system_G35</title>\n<text text-anchor=\"middle\" x=\"46\" y=\"-500.3\" font-family=\"Times,serif\" font-size=\"14.00\">system[8, 2]</text>\n</g>\n<!-- system_G35&#45;&gt;PotentialEnergy -->\n<g id=\"edge27\" class=\"edge\">\n<title>system_G35:e-&gt;PotentialEnergy:w</title>\n<path fill=\"none\" stroke=\"black\" d=\"M90,-504C105.09,-504 112.69,-762.55 127.2,-782.75\"/>\n<ellipse fill=\"black\" stroke=\"black\" cx=\"128.18\" cy=\"-783.43\" rx=\"1\" ry=\"1\"/>\n<text text-anchor=\"middle\" x=\"110.5\" y=\"-663\" font-family=\"Times,serif\" font-size=\"10.00\">6</text>\n</g>\n<!-- system_G2 -->\n<g id=\"node28\" class=\"node\">\n<title>system_G2</title>\n<text text-anchor=\"middle\" x=\"46\" y=\"-446.3\" font-family=\"Times,serif\" font-size=\"14.00\">system[9, 0]</text>\n</g>\n<!-- system_G2&#45;&gt;PotentialEnergy -->\n<g id=\"edge28\" class=\"edge\">\n<title>system_G2:e-&gt;PotentialEnergy:w</title>\n<path fill=\"none\" stroke=\"black\" d=\"M90,-450C106.91,-450 111.18,-741.38 127.2,-761.87\"/>\n<ellipse fill=\"black\" stroke=\"black\" cx=\"128.15\" cy=\"-762.47\" rx=\"1\" ry=\"1\"/>\n<text text-anchor=\"middle\" x=\"110.5\" y=\"-628\" font-family=\"Times,serif\" font-size=\"10.00\">6</text>\n</g>\n<!-- system_G67 -->\n<g id=\"node29\" class=\"node\">\n<title>system_G67</title>\n<text text-anchor=\"middle\" x=\"46\" y=\"-392.3\" font-family=\"Times,serif\" font-size=\"14.00\">system[9, 1]</text>\n</g>\n<!-- system_G67&#45;&gt;PotentialEnergy -->\n<g id=\"edge29\" class=\"edge\">\n<title>system_G67:e-&gt;PotentialEnergy:w</title>\n<path fill=\"none\" stroke=\"black\" d=\"M90,-396C108.74,-396 109.62,-720.71 127.24,-741.01\"/>\n<ellipse fill=\"black\" stroke=\"black\" cx=\"128.13\" cy=\"-741.51\" rx=\"1\" ry=\"1\"/>\n<text text-anchor=\"middle\" x=\"110.5\" y=\"-592\" font-family=\"Times,serif\" font-size=\"10.00\">6</text>\n</g>\n<!-- system_G16 -->\n<g id=\"node30\" class=\"node\">\n<title>system_G16</title>\n<text text-anchor=\"middle\" x=\"46\" y=\"-338.3\" font-family=\"Times,serif\" font-size=\"14.00\">system[9, 2]</text>\n</g>\n<!-- system_G16&#45;&gt;PotentialEnergy -->\n<g id=\"edge30\" class=\"edge\">\n<title>system_G16:e-&gt;PotentialEnergy:w</title>\n<path fill=\"none\" stroke=\"black\" d=\"M90,-342C110.51,-342 108.02,-697.68 127.09,-719.91\"/>\n<ellipse fill=\"black\" stroke=\"black\" cx=\"128.13\" cy=\"-720.51\" rx=\"1\" ry=\"1\"/>\n<text text-anchor=\"middle\" x=\"110.5\" y=\"-557\" font-family=\"Times,serif\" font-size=\"10.00\">6</text>\n</g>\n<!-- system_G44 -->\n<g id=\"node31\" class=\"node\">\n<title>system_G44</title>\n<text text-anchor=\"middle\" x=\"46\" y=\"-284.3\" font-family=\"Times,serif\" font-size=\"14.00\">system[10, 0]</text>\n</g>\n<!-- system_G44&#45;&gt;PotentialEnergy -->\n<g id=\"edge31\" class=\"edge\">\n<title>system_G44:e-&gt;PotentialEnergy:w</title>\n<path fill=\"none\" stroke=\"black\" d=\"M92,-288C114.35,-288 106.49,-677.78 127.19,-699.09\"/>\n<ellipse fill=\"black\" stroke=\"black\" cx=\"128.11\" cy=\"-699.55\" rx=\"1\" ry=\"1\"/>\n<text text-anchor=\"middle\" x=\"110.5\" y=\"-509\" font-family=\"Times,serif\" font-size=\"10.00\">6</text>\n</g>\n<!-- system_G52 -->\n<g id=\"node32\" class=\"node\">\n<title>system_G52</title>\n<text text-anchor=\"middle\" x=\"46\" y=\"-230.3\" font-family=\"Times,serif\" font-size=\"14.00\">system[10, 1]</text>\n</g>\n<!-- system_G52&#45;&gt;PotentialEnergy -->\n<g id=\"edge32\" class=\"edge\">\n<title>system_G52:e-&gt;PotentialEnergy:w</title>\n<path fill=\"none\" stroke=\"black\" d=\"M92,-234C116.13,-234 104.85,-655 127.05,-678.02\"/>\n<ellipse fill=\"black\" stroke=\"black\" cx=\"128.11\" cy=\"-678.55\" rx=\"1\" ry=\"1\"/>\n<text text-anchor=\"middle\" x=\"110.5\" y=\"-472\" font-family=\"Times,serif\" font-size=\"10.00\">6</text>\n</g>\n<!-- system_G5 -->\n<g id=\"node33\" class=\"node\">\n<title>system_G5</title>\n<text text-anchor=\"middle\" x=\"46\" y=\"-176.3\" font-family=\"Times,serif\" font-size=\"14.00\">system[10, 2]</text>\n</g>\n<!-- system_G5&#45;&gt;PotentialEnergy -->\n<g id=\"edge33\" class=\"edge\">\n<title>system_G5:e-&gt;PotentialEnergy:w</title>\n<path fill=\"none\" stroke=\"black\" d=\"M92,-180C104.85,-180 114.95,-624.98 127.61,-656.27\"/>\n<ellipse fill=\"black\" stroke=\"black\" cx=\"128.37\" cy=\"-657.22\" rx=\"1\" ry=\"1\"/>\n<text text-anchor=\"middle\" x=\"110.5\" y=\"-422\" font-family=\"Times,serif\" font-size=\"10.00\">6</text>\n</g>\n<!-- system_G23 -->\n<g id=\"node34\" class=\"node\">\n<title>system_G23</title>\n<text text-anchor=\"middle\" x=\"46\" y=\"-122.3\" font-family=\"Times,serif\" font-size=\"14.00\">system[11, 0]</text>\n</g>\n<!-- system_G23&#45;&gt;PotentialEnergy -->\n<g id=\"edge34\" class=\"edge\">\n<title>system_G23:e-&gt;PotentialEnergy:w</title>\n<path fill=\"none\" stroke=\"black\" d=\"M92,-126C119.8,-126 101.44,-613.33 127.08,-636.17\"/>\n<ellipse fill=\"black\" stroke=\"black\" cx=\"128.08\" cy=\"-636.6\" rx=\"1\" ry=\"1\"/>\n<text text-anchor=\"middle\" x=\"110.5\" y=\"-399\" font-family=\"Times,serif\" font-size=\"10.00\">6</text>\n</g>\n<!-- system_G28 -->\n<g id=\"node35\" class=\"node\">\n<title>system_G28</title>\n<text text-anchor=\"middle\" x=\"46\" y=\"-68.3\" font-family=\"Times,serif\" font-size=\"14.00\">system[11, 1]</text>\n</g>\n<!-- system_G28&#45;&gt;PotentialEnergy -->\n<g id=\"edge35\" class=\"edge\">\n<title>system_G28:e-&gt;PotentialEnergy:w</title>\n<path fill=\"none\" stroke=\"black\" d=\"M92,-72C106.67,-72 113.43,-582.53 127.6,-614.44\"/>\n<ellipse fill=\"black\" stroke=\"black\" cx=\"128.33\" cy=\"-615.25\" rx=\"1\" ry=\"1\"/>\n<text text-anchor=\"middle\" x=\"110.5\" y=\"-347\" font-family=\"Times,serif\" font-size=\"10.00\">6</text>\n</g>\n<!-- system_G107 -->\n<g id=\"node36\" class=\"node\">\n<title>system_G107</title>\n<text text-anchor=\"middle\" x=\"46\" y=\"-14.3\" font-family=\"Times,serif\" font-size=\"14.00\">system[11, 2]</text>\n</g>\n<!-- system_G107&#45;&gt;PotentialEnergy -->\n<g id=\"edge36\" class=\"edge\">\n<title>system_G107:e-&gt;PotentialEnergy:w</title>\n<path fill=\"none\" stroke=\"black\" d=\"M92,-18C107.56,-18 112.62,-559.5 127.53,-593.34\"/>\n<ellipse fill=\"black\" stroke=\"black\" cx=\"128.34\" cy=\"-594.25\" rx=\"1\" ry=\"1\"/>\n<text text-anchor=\"middle\" x=\"110.5\" y=\"-310\" font-family=\"Times,serif\" font-size=\"10.00\">6</text>\n</g>\n<!-- system_G85 -->\n<g id=\"node38\" class=\"node\">\n<title>system_G85</title>\n<text text-anchor=\"middle\" x=\"294\" y=\"-1904.3\" font-family=\"Times,serif\" font-size=\"14.00\">system[0, 0]</text>\n</g>\n<!-- PotentialEnergy&#45;&gt;system_G85 -->\n<g id=\"edge37\" class=\"edge\">\n<title>PotentialEnergy:e-&gt;system_G85:w</title>\n<path fill=\"none\" stroke=\"black\" d=\"M211,-1331C226.56,-1331 233.5,-1872.5 248.52,-1906.34\"/>\n<ellipse fill=\"black\" stroke=\"black\" cx=\"249.33\" cy=\"-1907.25\" rx=\"1\" ry=\"1\"/>\n<text text-anchor=\"middle\" x=\"229.5\" y=\"-1605\" font-family=\"Times,serif\" font-size=\"10.00\">6</text>\n</g>\n<!-- system_G37 -->\n<g id=\"node39\" class=\"node\">\n<title>system_G37</title>\n<text text-anchor=\"middle\" x=\"294\" y=\"-1850.3\" font-family=\"Times,serif\" font-size=\"14.00\">system[0, 1]</text>\n</g>\n<!-- PotentialEnergy&#45;&gt;system_G37 -->\n<g id=\"edge38\" class=\"edge\">\n<title>PotentialEnergy:e-&gt;system_G37:w</title>\n<path fill=\"none\" stroke=\"black\" d=\"M211,-1310C225.68,-1310 234.3,-1820.53 248.6,-1852.44\"/>\n<ellipse fill=\"black\" stroke=\"black\" cx=\"249.33\" cy=\"-1853.26\" rx=\"1\" ry=\"1\"/>\n<text text-anchor=\"middle\" x=\"229.5\" y=\"-1568\" font-family=\"Times,serif\" font-size=\"10.00\">6</text>\n</g>\n<!-- system_G8 -->\n<g id=\"node40\" class=\"node\">\n<title>system_G8</title>\n<text text-anchor=\"middle\" x=\"294\" y=\"-1796.3\" font-family=\"Times,serif\" font-size=\"14.00\">system[0, 2]</text>\n</g>\n<!-- PotentialEnergy&#45;&gt;system_G8 -->\n<g id=\"edge39\" class=\"edge\">\n<title>PotentialEnergy:e-&gt;system_G8:w</title>\n<path fill=\"none\" stroke=\"black\" d=\"M211,-1289C224.74,-1289 235.02,-1764.7 248.51,-1798.15\"/>\n<ellipse fill=\"black\" stroke=\"black\" cx=\"249.37\" cy=\"-1799.22\" rx=\"1\" ry=\"1\"/>\n<text text-anchor=\"middle\" x=\"229.5\" y=\"-1532\" font-family=\"Times,serif\" font-size=\"10.00\">6</text>\n</g>\n<!-- system_G21 -->\n<g id=\"node41\" class=\"node\">\n<title>system_G21</title>\n<text text-anchor=\"middle\" x=\"294\" y=\"-1742.3\" font-family=\"Times,serif\" font-size=\"14.00\">system[1, 0]</text>\n</g>\n<!-- PotentialEnergy&#45;&gt;system_G21 -->\n<g id=\"edge40\" class=\"edge\">\n<title>PotentialEnergy:e-&gt;system_G21:w</title>\n<path fill=\"none\" stroke=\"black\" d=\"M211,-1268C236.92,-1268 224.11,-1720.22 247.9,-1744.95\"/>\n<ellipse fill=\"black\" stroke=\"black\" cx=\"249.11\" cy=\"-1745.55\" rx=\"1\" ry=\"1\"/>\n<text text-anchor=\"middle\" x=\"229.5\" y=\"-1481\" font-family=\"Times,serif\" font-size=\"10.00\">6</text>\n</g>\n<!-- system_G80 -->\n<g id=\"node42\" class=\"node\">\n<title>system_G80</title>\n<text text-anchor=\"middle\" x=\"294\" y=\"-1688.3\" font-family=\"Times,serif\" font-size=\"14.00\">system[1, 1]</text>\n</g>\n<!-- PotentialEnergy&#45;&gt;system_G80 -->\n<g id=\"edge41\" class=\"edge\">\n<title>PotentialEnergy:e-&gt;system_G80:w</title>\n<path fill=\"none\" stroke=\"black\" d=\"M211,-1247C235.14,-1247 225.74,-1668 248.04,-1691.02\"/>\n<ellipse fill=\"black\" stroke=\"black\" cx=\"249.11\" cy=\"-1691.55\" rx=\"1\" ry=\"1\"/>\n<text text-anchor=\"middle\" x=\"229.5\" y=\"-1445\" font-family=\"Times,serif\" font-size=\"10.00\">6</text>\n</g>\n<!-- system_G87 -->\n<g id=\"node43\" class=\"node\">\n<title>system_G87</title>\n<text text-anchor=\"middle\" x=\"294\" y=\"-1634.3\" font-family=\"Times,serif\" font-size=\"14.00\">system[1, 2]</text>\n</g>\n<!-- PotentialEnergy&#45;&gt;system_G87 -->\n<g id=\"edge42\" class=\"edge\">\n<title>PotentialEnergy:e-&gt;system_G87:w</title>\n<path fill=\"none\" stroke=\"black\" d=\"M211,-1226C233.36,-1226 227.37,-1615.78 248.18,-1637.09\"/>\n<ellipse fill=\"black\" stroke=\"black\" cx=\"249.11\" cy=\"-1637.55\" rx=\"1\" ry=\"1\"/>\n<text text-anchor=\"middle\" x=\"229.5\" y=\"-1410\" font-family=\"Times,serif\" font-size=\"10.00\">6</text>\n</g>\n<!-- system_G50 -->\n<g id=\"node44\" class=\"node\">\n<title>system_G50</title>\n<text text-anchor=\"middle\" x=\"294\" y=\"-1580.3\" font-family=\"Times,serif\" font-size=\"14.00\">system[2, 0]</text>\n</g>\n<!-- PotentialEnergy&#45;&gt;system_G50 -->\n<g id=\"edge43\" class=\"edge\">\n<title>PotentialEnergy:e-&gt;system_G50:w</title>\n<path fill=\"none\" stroke=\"black\" d=\"M211,-1205C231.51,-1205 229.02,-1560.68 248.09,-1582.91\"/>\n<ellipse fill=\"black\" stroke=\"black\" cx=\"249.13\" cy=\"-1583.51\" rx=\"1\" ry=\"1\"/>\n<text text-anchor=\"middle\" x=\"229.5\" y=\"-1386\" font-family=\"Times,serif\" font-size=\"10.00\">6</text>\n</g>\n<!-- system_G22 -->\n<g id=\"node45\" class=\"node\">\n<title>system_G22</title>\n<text text-anchor=\"middle\" x=\"294\" y=\"-1526.3\" font-family=\"Times,serif\" font-size=\"14.00\">system[2, 1]</text>\n</g>\n<!-- PotentialEnergy&#45;&gt;system_G22 -->\n<g id=\"edge44\" class=\"edge\">\n<title>PotentialEnergy:e-&gt;system_G22:w</title>\n<path fill=\"none\" stroke=\"black\" d=\"M211,-1184C229.74,-1184 230.62,-1508.71 248.24,-1529.01\"/>\n<ellipse fill=\"black\" stroke=\"black\" cx=\"249.13\" cy=\"-1529.51\" rx=\"1\" ry=\"1\"/>\n<text text-anchor=\"middle\" x=\"229.5\" y=\"-1349\" font-family=\"Times,serif\" font-size=\"10.00\">6</text>\n</g>\n<!-- system_G81 -->\n<g id=\"node46\" class=\"node\">\n<title>system_G81</title>\n<text text-anchor=\"middle\" x=\"294\" y=\"-1472.3\" font-family=\"Times,serif\" font-size=\"14.00\">system[2, 2]</text>\n</g>\n<!-- PotentialEnergy&#45;&gt;system_G81 -->\n<g id=\"edge45\" class=\"edge\">\n<title>PotentialEnergy:e-&gt;system_G81:w</title>\n<path fill=\"none\" stroke=\"black\" d=\"M211,-1163C227.91,-1163 232.18,-1454.38 248.2,-1474.87\"/>\n<ellipse fill=\"black\" stroke=\"black\" cx=\"249.15\" cy=\"-1475.47\" rx=\"1\" ry=\"1\"/>\n<text text-anchor=\"middle\" x=\"229.5\" y=\"-1313\" font-family=\"Times,serif\" font-size=\"10.00\">6</text>\n</g>\n<!-- system_G93 -->\n<g id=\"node47\" class=\"node\">\n<title>system_G93</title>\n<text text-anchor=\"middle\" x=\"294\" y=\"-1418.3\" font-family=\"Times,serif\" font-size=\"14.00\">system[3, 0]</text>\n</g>\n<!-- PotentialEnergy&#45;&gt;system_G93 -->\n<g id=\"edge46\" class=\"edge\">\n<title>PotentialEnergy:e-&gt;system_G93:w</title>\n<path fill=\"none\" stroke=\"black\" d=\"M211,-1142C241.68,-1142 219.67,-1409.03 247.88,-1421.55\"/>\n<ellipse fill=\"black\" stroke=\"black\" cx=\"249.02\" cy=\"-1421.79\" rx=\"1\" ry=\"1\"/>\n<text text-anchor=\"middle\" x=\"229.5\" y=\"-1259\" font-family=\"Times,serif\" font-size=\"10.00\">6</text>\n</g>\n<!-- system_G97 -->\n<g id=\"node48\" class=\"node\">\n<title>system_G97</title>\n<text text-anchor=\"middle\" x=\"294\" y=\"-1364.3\" font-family=\"Times,serif\" font-size=\"14.00\">system[3, 1]</text>\n</g>\n<!-- PotentialEnergy&#45;&gt;system_G97 -->\n<g id=\"edge47\" class=\"edge\">\n<title>PotentialEnergy:e-&gt;system_G97:w</title>\n<path fill=\"none\" stroke=\"black\" d=\"M211,-1121C238.02,-1121 223.09,-1354.68 247.82,-1367.46\"/>\n<ellipse fill=\"black\" stroke=\"black\" cx=\"249.03\" cy=\"-1367.76\" rx=\"1\" ry=\"1\"/>\n<text text-anchor=\"middle\" x=\"229.5\" y=\"-1232\" font-family=\"Times,serif\" font-size=\"10.00\">6</text>\n</g>\n<!-- system_G47 -->\n<g id=\"node49\" class=\"node\">\n<title>system_G47</title>\n<text text-anchor=\"middle\" x=\"294\" y=\"-1310.3\" font-family=\"Times,serif\" font-size=\"14.00\">system[3, 2]</text>\n</g>\n<!-- PotentialEnergy&#45;&gt;system_G47 -->\n<g id=\"edge48\" class=\"edge\">\n<title>PotentialEnergy:e-&gt;system_G47:w</title>\n<path fill=\"none\" stroke=\"black\" d=\"M211,-1100C234.41,-1100 226.38,-1300.83 247.83,-1313.39\"/>\n<ellipse fill=\"black\" stroke=\"black\" cx=\"249.04\" cy=\"-1313.73\" rx=\"1\" ry=\"1\"/>\n<text text-anchor=\"middle\" x=\"229.5\" y=\"-1197\" font-family=\"Times,serif\" font-size=\"10.00\">6</text>\n</g>\n<!-- system_G72 -->\n<g id=\"node50\" class=\"node\">\n<title>system_G72</title>\n<text text-anchor=\"middle\" x=\"294\" y=\"-1256.3\" font-family=\"Times,serif\" font-size=\"14.00\">system[4, 0]</text>\n</g>\n<!-- PotentialEnergy&#45;&gt;system_G72 -->\n<g id=\"edge49\" class=\"edge\">\n<title>PotentialEnergy:e-&gt;system_G72:w</title>\n<path fill=\"none\" stroke=\"black\" d=\"M211,-1079C230.77,-1079 229.56,-1246.14 247.69,-1259.19\"/>\n<ellipse fill=\"black\" stroke=\"black\" cx=\"249.06\" cy=\"-1259.67\" rx=\"1\" ry=\"1\"/>\n<text text-anchor=\"middle\" x=\"229.5\" y=\"-1167\" font-family=\"Times,serif\" font-size=\"10.00\">6</text>\n</g>\n<!-- system_G77 -->\n<g id=\"node51\" class=\"node\">\n<title>system_G77</title>\n<text text-anchor=\"middle\" x=\"294\" y=\"-1202.3\" font-family=\"Times,serif\" font-size=\"14.00\">system[4, 1]</text>\n</g>\n<!-- PotentialEnergy&#45;&gt;system_G77 -->\n<g id=\"edge50\" class=\"edge\">\n<title>PotentialEnergy:e-&gt;system_G77:w</title>\n<path fill=\"none\" stroke=\"black\" d=\"M211,-1058C230.09,-1058 224.02,-1123.57 229,-1142 236.63,-1170.22 220.84,-1204.36 247.97,-1205.94\"/>\n<ellipse fill=\"black\" stroke=\"black\" cx=\"249\" cy=\"-1205.97\" rx=\"1\" ry=\"1\"/>\n<text text-anchor=\"middle\" x=\"229.5\" y=\"-1148\" font-family=\"Times,serif\" font-size=\"10.00\">6</text>\n</g>\n<!-- system_G43 -->\n<g id=\"node52\" class=\"node\">\n<title>system_G43</title>\n<text text-anchor=\"middle\" x=\"294\" y=\"-1148.3\" font-family=\"Times,serif\" font-size=\"14.00\">system[4, 2]</text>\n</g>\n<!-- PotentialEnergy&#45;&gt;system_G43 -->\n<g id=\"edge51\" class=\"edge\">\n<title>PotentialEnergy:e-&gt;system_G43:w</title>\n<path fill=\"none\" stroke=\"black\" d=\"M211,-1037C264.23,-1037 197.89,-1148.88 247.85,-1151.94\"/>\n<ellipse fill=\"black\" stroke=\"black\" cx=\"249\" cy=\"-1151.97\" rx=\"1\" ry=\"1\"/>\n<text text-anchor=\"middle\" x=\"229.5\" y=\"-1140\" font-family=\"Times,serif\" font-size=\"10.00\">6</text>\n</g>\n<!-- system_G60 -->\n<g id=\"node53\" class=\"node\">\n<title>system_G60</title>\n<text text-anchor=\"middle\" x=\"294\" y=\"-1094.3\" font-family=\"Times,serif\" font-size=\"14.00\">system[5, 0]</text>\n</g>\n<!-- PotentialEnergy&#45;&gt;system_G60 -->\n<g id=\"edge52\" class=\"edge\">\n<title>PotentialEnergy:e-&gt;system_G60:w</title>\n<path fill=\"none\" stroke=\"black\" d=\"M211,-1016C250.57,-1016 211.24,-1094.83 247.73,-1097.91\"/>\n<ellipse fill=\"black\" stroke=\"black\" cx=\"249\" cy=\"-1097.96\" rx=\"1\" ry=\"1\"/>\n<text text-anchor=\"middle\" x=\"229.5\" y=\"-1038\" font-family=\"Times,serif\" font-size=\"10.00\">6</text>\n</g>\n<!-- system_G13 -->\n<g id=\"node54\" class=\"node\">\n<title>system_G13</title>\n<text text-anchor=\"middle\" x=\"294\" y=\"-1040.3\" font-family=\"Times,serif\" font-size=\"14.00\">system[5, 1]</text>\n</g>\n<!-- PotentialEnergy&#45;&gt;system_G13 -->\n<g id=\"edge53\" class=\"edge\">\n<title>PotentialEnergy:e-&gt;system_G13:w</title>\n<path fill=\"none\" stroke=\"black\" d=\"M211,-995C238.07,-995 223.04,-1041.36 247.81,-1043.89\"/>\n<ellipse fill=\"black\" stroke=\"black\" cx=\"249\" cy=\"-1043.95\" rx=\"1\" ry=\"1\"/>\n<text text-anchor=\"middle\" x=\"229.5\" y=\"-1019\" font-family=\"Times,serif\" font-size=\"10.00\">6</text>\n</g>\n<!-- system_G88 -->\n<g id=\"node55\" class=\"node\">\n<title>system_G88</title>\n<text text-anchor=\"middle\" x=\"294\" y=\"-986.3\" font-family=\"Times,serif\" font-size=\"14.00\">system[5, 2]</text>\n</g>\n<!-- PotentialEnergy&#45;&gt;system_G88 -->\n<g id=\"edge54\" class=\"edge\">\n<title>PotentialEnergy:e-&gt;system_G88:w</title>\n<path fill=\"none\" stroke=\"black\" d=\"M211,-974C229,-974 231.12,-988.77 247.88,-989.93\"/>\n<ellipse fill=\"black\" stroke=\"black\" cx=\"249\" cy=\"-989.97\" rx=\"1\" ry=\"1\"/>\n<text text-anchor=\"middle\" x=\"229.5\" y=\"-984\" font-family=\"Times,serif\" font-size=\"10.00\">6</text>\n</g>\n<!-- system_G98 -->\n<g id=\"node56\" class=\"node\">\n<title>system_G98</title>\n<text text-anchor=\"middle\" x=\"294\" y=\"-932.3\" font-family=\"Times,serif\" font-size=\"14.00\">system[6, 0]</text>\n</g>\n<!-- PotentialEnergy&#45;&gt;system_G98 -->\n<g id=\"edge55\" class=\"edge\">\n<title>PotentialEnergy:e-&gt;system_G98:w</title>\n<path fill=\"none\" stroke=\"black\" d=\"M211,-952C229,-952 231.12,-937.23 247.88,-936.07\"/>\n<ellipse fill=\"black\" stroke=\"black\" cx=\"249\" cy=\"-936.03\" rx=\"1\" ry=\"1\"/>\n<text text-anchor=\"middle\" x=\"229.5\" y=\"-947\" font-family=\"Times,serif\" font-size=\"10.00\">6</text>\n</g>\n<!-- system_G49 -->\n<g id=\"node57\" class=\"node\">\n<title>system_G49</title>\n<text text-anchor=\"middle\" x=\"294\" y=\"-878.3\" font-family=\"Times,serif\" font-size=\"14.00\">system[6, 1]</text>\n</g>\n<!-- PotentialEnergy&#45;&gt;system_G49 -->\n<g id=\"edge56\" class=\"edge\">\n<title>PotentialEnergy:e-&gt;system_G49:w</title>\n<path fill=\"none\" stroke=\"black\" d=\"M211,-931C238.07,-931 223.04,-884.64 247.81,-882.11\"/>\n<ellipse fill=\"black\" stroke=\"black\" cx=\"249\" cy=\"-882.05\" rx=\"1\" ry=\"1\"/>\n<text text-anchor=\"middle\" x=\"229.5\" y=\"-915\" font-family=\"Times,serif\" font-size=\"10.00\">6</text>\n</g>\n<!-- system_G58 -->\n<g id=\"node58\" class=\"node\">\n<title>system_G58</title>\n<text text-anchor=\"middle\" x=\"294\" y=\"-824.3\" font-family=\"Times,serif\" font-size=\"14.00\">system[6, 2]</text>\n</g>\n<!-- PotentialEnergy&#45;&gt;system_G58 -->\n<g id=\"edge57\" class=\"edge\">\n<title>PotentialEnergy:e-&gt;system_G58:w</title>\n<path fill=\"none\" stroke=\"black\" d=\"M211,-910C250.57,-910 211.24,-831.17 247.73,-828.09\"/>\n<ellipse fill=\"black\" stroke=\"black\" cx=\"249\" cy=\"-828.04\" rx=\"1\" ry=\"1\"/>\n<text text-anchor=\"middle\" x=\"229.5\" y=\"-897\" font-family=\"Times,serif\" font-size=\"10.00\">6</text>\n</g>\n<!-- system_G20 -->\n<g id=\"node59\" class=\"node\">\n<title>system_G20</title>\n<text text-anchor=\"middle\" x=\"294\" y=\"-770.3\" font-family=\"Times,serif\" font-size=\"14.00\">system[7, 0]</text>\n</g>\n<!-- PotentialEnergy&#45;&gt;system_G20 -->\n<g id=\"edge58\" class=\"edge\">\n<title>PotentialEnergy:e-&gt;system_G20:w</title>\n<path fill=\"none\" stroke=\"black\" d=\"M211,-889C264.23,-889 197.89,-777.12 247.85,-774.06\"/>\n<ellipse fill=\"black\" stroke=\"black\" cx=\"249\" cy=\"-774.03\" rx=\"1\" ry=\"1\"/>\n<text text-anchor=\"middle\" x=\"229.5\" y=\"-882\" font-family=\"Times,serif\" font-size=\"10.00\">6</text>\n</g>\n<!-- system_G83 -->\n<g id=\"node60\" class=\"node\">\n<title>system_G83</title>\n<text text-anchor=\"middle\" x=\"294\" y=\"-716.3\" font-family=\"Times,serif\" font-size=\"14.00\">system[7, 1]</text>\n</g>\n<!-- PotentialEnergy&#45;&gt;system_G83 -->\n<g id=\"edge59\" class=\"edge\">\n<title>PotentialEnergy:e-&gt;system_G83:w</title>\n<path fill=\"none\" stroke=\"black\" d=\"M211,-868C230.31,-868 223.94,-801.63 229,-783 236.55,-755.18 221.23,-721.61 248,-720.06\"/>\n<ellipse fill=\"black\" stroke=\"black\" cx=\"249\" cy=\"-720.03\" rx=\"1\" ry=\"1\"/>\n<text text-anchor=\"middle\" x=\"229.5\" y=\"-786\" font-family=\"Times,serif\" font-size=\"10.00\">6</text>\n</g>\n<!-- system_G32 -->\n<g id=\"node61\" class=\"node\">\n<title>system_G32</title>\n<text text-anchor=\"middle\" x=\"294\" y=\"-662.3\" font-family=\"Times,serif\" font-size=\"14.00\">system[7, 2]</text>\n</g>\n<!-- PotentialEnergy&#45;&gt;system_G32 -->\n<g id=\"edge60\" class=\"edge\">\n<title>PotentialEnergy:e-&gt;system_G32:w</title>\n<path fill=\"none\" stroke=\"black\" d=\"M211,-847C230.77,-847 229.56,-679.86 247.69,-666.81\"/>\n<ellipse fill=\"black\" stroke=\"black\" cx=\"249.06\" cy=\"-666.33\" rx=\"1\" ry=\"1\"/>\n<text text-anchor=\"middle\" x=\"229.5\" y=\"-770\" font-family=\"Times,serif\" font-size=\"10.00\">6</text>\n</g>\n<!-- system_G64 -->\n<g id=\"node62\" class=\"node\">\n<title>system_G64</title>\n<text text-anchor=\"middle\" x=\"294\" y=\"-608.3\" font-family=\"Times,serif\" font-size=\"14.00\">system[8, 0]</text>\n</g>\n<!-- PotentialEnergy&#45;&gt;system_G64 -->\n<g id=\"edge61\" class=\"edge\">\n<title>PotentialEnergy:e-&gt;system_G64:w</title>\n<path fill=\"none\" stroke=\"black\" d=\"M211,-826C234.41,-826 226.38,-625.17 247.83,-612.61\"/>\n<ellipse fill=\"black\" stroke=\"black\" cx=\"249.04\" cy=\"-612.27\" rx=\"1\" ry=\"1\"/>\n<text text-anchor=\"middle\" x=\"229.5\" y=\"-741\" font-family=\"Times,serif\" font-size=\"10.00\">6</text>\n</g>\n<!-- system_G69 -->\n<g id=\"node63\" class=\"node\">\n<title>system_G69</title>\n<text text-anchor=\"middle\" x=\"294\" y=\"-554.3\" font-family=\"Times,serif\" font-size=\"14.00\">system[8, 1]</text>\n</g>\n<!-- PotentialEnergy&#45;&gt;system_G69 -->\n<g id=\"edge62\" class=\"edge\">\n<title>PotentialEnergy:e-&gt;system_G69:w</title>\n<path fill=\"none\" stroke=\"black\" d=\"M211,-805C238.02,-805 223.09,-571.32 247.82,-558.54\"/>\n<ellipse fill=\"black\" stroke=\"black\" cx=\"249.03\" cy=\"-558.24\" rx=\"1\" ry=\"1\"/>\n<text text-anchor=\"middle\" x=\"229.5\" y=\"-713\" font-family=\"Times,serif\" font-size=\"10.00\">6</text>\n</g>\n<!-- system_G18 -->\n<g id=\"node64\" class=\"node\">\n<title>system_G18</title>\n<text text-anchor=\"middle\" x=\"294\" y=\"-500.3\" font-family=\"Times,serif\" font-size=\"14.00\">system[8, 2]</text>\n</g>\n<!-- PotentialEnergy&#45;&gt;system_G18 -->\n<g id=\"edge63\" class=\"edge\">\n<title>PotentialEnergy:e-&gt;system_G18:w</title>\n<path fill=\"none\" stroke=\"black\" d=\"M211,-784C226.09,-784 233.69,-525.45 248.2,-505.25\"/>\n<ellipse fill=\"black\" stroke=\"black\" cx=\"249.18\" cy=\"-504.57\" rx=\"1\" ry=\"1\"/>\n<text text-anchor=\"middle\" x=\"229.5\" y=\"-663\" font-family=\"Times,serif\" font-size=\"10.00\">6</text>\n</g>\n<!-- system_G39 -->\n<g id=\"node65\" class=\"node\">\n<title>system_G39</title>\n<text text-anchor=\"middle\" x=\"294\" y=\"-446.3\" font-family=\"Times,serif\" font-size=\"14.00\">system[9, 0]</text>\n</g>\n<!-- PotentialEnergy&#45;&gt;system_G39 -->\n<g id=\"edge64\" class=\"edge\">\n<title>PotentialEnergy:e-&gt;system_G39:w</title>\n<path fill=\"none\" stroke=\"black\" d=\"M211,-763C227.91,-763 232.18,-471.62 248.2,-451.13\"/>\n<ellipse fill=\"black\" stroke=\"black\" cx=\"249.15\" cy=\"-450.53\" rx=\"1\" ry=\"1\"/>\n<text text-anchor=\"middle\" x=\"229.5\" y=\"-628\" font-family=\"Times,serif\" font-size=\"10.00\">6</text>\n</g>\n<!-- system_G45 -->\n<g id=\"node66\" class=\"node\">\n<title>system_G45</title>\n<text text-anchor=\"middle\" x=\"294\" y=\"-392.3\" font-family=\"Times,serif\" font-size=\"14.00\">system[9, 1]</text>\n</g>\n<!-- PotentialEnergy&#45;&gt;system_G45 -->\n<g id=\"edge65\" class=\"edge\">\n<title>PotentialEnergy:e-&gt;system_G45:w</title>\n<path fill=\"none\" stroke=\"black\" d=\"M211,-742C229.74,-742 230.62,-417.29 248.24,-396.99\"/>\n<ellipse fill=\"black\" stroke=\"black\" cx=\"249.13\" cy=\"-396.49\" rx=\"1\" ry=\"1\"/>\n<text text-anchor=\"middle\" x=\"229.5\" y=\"-592\" font-family=\"Times,serif\" font-size=\"10.00\">6</text>\n</g>\n<!-- system_G106 -->\n<g id=\"node67\" class=\"node\">\n<title>system_G106</title>\n<text text-anchor=\"middle\" x=\"294\" y=\"-338.3\" font-family=\"Times,serif\" font-size=\"14.00\">system[9, 2]</text>\n</g>\n<!-- PotentialEnergy&#45;&gt;system_G106 -->\n<g id=\"edge66\" class=\"edge\">\n<title>PotentialEnergy:e-&gt;system_G106:w</title>\n<path fill=\"none\" stroke=\"black\" d=\"M211,-721C231.51,-721 229.02,-365.32 248.09,-343.09\"/>\n<ellipse fill=\"black\" stroke=\"black\" cx=\"249.13\" cy=\"-342.49\" rx=\"1\" ry=\"1\"/>\n<text text-anchor=\"middle\" x=\"229.5\" y=\"-557\" font-family=\"Times,serif\" font-size=\"10.00\">6</text>\n</g>\n<!-- system_G26 -->\n<g id=\"node68\" class=\"node\">\n<title>system_G26</title>\n<text text-anchor=\"middle\" x=\"294\" y=\"-284.3\" font-family=\"Times,serif\" font-size=\"14.00\">system[10, 0]</text>\n</g>\n<!-- PotentialEnergy&#45;&gt;system_G26 -->\n<g id=\"edge67\" class=\"edge\">\n<title>PotentialEnergy:e-&gt;system_G26:w</title>\n<path fill=\"none\" stroke=\"black\" d=\"M211,-700C233.35,-700 225.49,-310.22 246.19,-288.91\"/>\n<ellipse fill=\"black\" stroke=\"black\" cx=\"247.11\" cy=\"-288.45\" rx=\"1\" ry=\"1\"/>\n<text text-anchor=\"middle\" x=\"229.5\" y=\"-509\" font-family=\"Times,serif\" font-size=\"10.00\">6</text>\n</g>\n<!-- system_G90 -->\n<g id=\"node69\" class=\"node\">\n<title>system_G90</title>\n<text text-anchor=\"middle\" x=\"294\" y=\"-230.3\" font-family=\"Times,serif\" font-size=\"14.00\">system[10, 1]</text>\n</g>\n<!-- PotentialEnergy&#45;&gt;system_G90 -->\n<g id=\"edge68\" class=\"edge\">\n<title>PotentialEnergy:e-&gt;system_G90:w</title>\n<path fill=\"none\" stroke=\"black\" d=\"M211,-679C235.13,-679 223.85,-258 246.05,-234.98\"/>\n<ellipse fill=\"black\" stroke=\"black\" cx=\"247.11\" cy=\"-234.45\" rx=\"1\" ry=\"1\"/>\n<text text-anchor=\"middle\" x=\"229.5\" y=\"-472\" font-family=\"Times,serif\" font-size=\"10.00\">6</text>\n</g>\n<!-- system_G41 -->\n<g id=\"node70\" class=\"node\">\n<title>system_G41</title>\n<text text-anchor=\"middle\" x=\"294\" y=\"-176.3\" font-family=\"Times,serif\" font-size=\"14.00\">system[10, 2]</text>\n</g>\n<!-- PotentialEnergy&#45;&gt;system_G41 -->\n<g id=\"edge69\" class=\"edge\">\n<title>PotentialEnergy:e-&gt;system_G41:w</title>\n<path fill=\"none\" stroke=\"black\" d=\"M211,-658C223.85,-658 233.95,-213.02 246.61,-181.73\"/>\n<ellipse fill=\"black\" stroke=\"black\" cx=\"247.37\" cy=\"-180.78\" rx=\"1\" ry=\"1\"/>\n<text text-anchor=\"middle\" x=\"229.5\" y=\"-422\" font-family=\"Times,serif\" font-size=\"10.00\">6</text>\n</g>\n<!-- system_G7 -->\n<g id=\"node71\" class=\"node\">\n<title>system_G7</title>\n<text text-anchor=\"middle\" x=\"294\" y=\"-122.3\" font-family=\"Times,serif\" font-size=\"14.00\">system[11, 0]</text>\n</g>\n<!-- PotentialEnergy&#45;&gt;system_G7 -->\n<g id=\"edge70\" class=\"edge\">\n<title>PotentialEnergy:e-&gt;system_G7:w</title>\n<path fill=\"none\" stroke=\"black\" d=\"M211,-637C238.8,-637 220.44,-149.67 246.08,-126.83\"/>\n<ellipse fill=\"black\" stroke=\"black\" cx=\"247.08\" cy=\"-126.4\" rx=\"1\" ry=\"1\"/>\n<text text-anchor=\"middle\" x=\"229.5\" y=\"-399\" font-family=\"Times,serif\" font-size=\"10.00\">6</text>\n</g>\n<!-- system_G12 -->\n<g id=\"node72\" class=\"node\">\n<title>system_G12</title>\n<text text-anchor=\"middle\" x=\"294\" y=\"-68.3\" font-family=\"Times,serif\" font-size=\"14.00\">system[11, 1]</text>\n</g>\n<!-- PotentialEnergy&#45;&gt;system_G12 -->\n<g id=\"edge71\" class=\"edge\">\n<title>PotentialEnergy:e-&gt;system_G12:w</title>\n<path fill=\"none\" stroke=\"black\" d=\"M211,-616C225.67,-616 232.43,-105.47 246.6,-73.56\"/>\n<ellipse fill=\"black\" stroke=\"black\" cx=\"247.33\" cy=\"-72.75\" rx=\"1\" ry=\"1\"/>\n<text text-anchor=\"middle\" x=\"229.5\" y=\"-347\" font-family=\"Times,serif\" font-size=\"10.00\">6</text>\n</g>\n<!-- system_G34 -->\n<g id=\"node73\" class=\"node\">\n<title>system_G34</title>\n<text text-anchor=\"middle\" x=\"294\" y=\"-14.3\" font-family=\"Times,serif\" font-size=\"14.00\">system[11, 2]</text>\n</g>\n<!-- PotentialEnergy&#45;&gt;system_G34 -->\n<g id=\"edge72\" class=\"edge\">\n<title>PotentialEnergy:e-&gt;system_G34:w</title>\n<path fill=\"none\" stroke=\"black\" d=\"M211,-595C226.56,-595 231.62,-53.5 246.53,-19.66\"/>\n<ellipse fill=\"black\" stroke=\"black\" cx=\"247.34\" cy=\"-18.75\" rx=\"1\" ry=\"1\"/>\n<text text-anchor=\"middle\" x=\"229.5\" y=\"-310\" font-family=\"Times,serif\" font-size=\"10.00\">6</text>\n</g>\n</g>\n</svg>",
          "text/plain": "<IPython.core.display.SVG object>"
         },
         "metadata": {},
         "output_type": "display_data"
        }
       ],
       "tabbable": null,
       "tooltip": null
      }
     },
     "b3f320caffde43029ecba074eece9eb1": {
      "model_module": "@jupyter-widgets/output",
      "model_module_version": "1.0.0",
      "model_name": "OutputModel",
      "state": {
       "_dom_classes": [],
       "_model_module": "@jupyter-widgets/output",
       "_model_module_version": "1.0.0",
       "_model_name": "OutputModel",
       "_view_count": null,
       "_view_module": "@jupyter-widgets/output",
       "_view_module_version": "1.0.0",
       "_view_name": "OutputView",
       "layout": "IPY_MODEL_126c956d470841e1ad4b925caba7f505",
       "msg_id": "",
       "outputs": [
        {
         "data": {
          "text/markdown": "`nr_inv_sqrt`",
          "text/plain": "<IPython.core.display.Markdown object>"
         },
         "metadata": {},
         "output_type": "display_data"
        },
        {
         "data": {
          "image/svg+xml": "<svg xmlns=\"http://www.w3.org/2000/svg\" xmlns:xlink=\"http://www.w3.org/1999/xlink\" width=\"248pt\" height=\"152pt\" viewBox=\"0.00 0.00 248.00 152.00\">\n<g id=\"graph0\" class=\"graph\" transform=\"scale(1 1) rotate(0) translate(4 148)\">\n<title>my_graph</title>\n<polygon fill=\"white\" stroke=\"transparent\" points=\"-4,4 -4,-148 244,-148 244,4 -4,4\"/>\n<!-- x_sq_G7 -->\n<g id=\"node1\" class=\"node\">\n<title>x_sq_G7</title>\n<text text-anchor=\"middle\" x=\"27\" y=\"-122.3\" font-family=\"Times,serif\" font-size=\"14.00\">x_sq</text>\n</g>\n<!-- NewtonRaphsonApproxInverseSquareRoot -->\n<g id=\"node4\" class=\"node\">\n<title>NewtonRaphsonApproxInverseSquareRoot</title>\n<polygon fill=\"none\" stroke=\"black\" points=\"91,-104 91,-121 149,-121 149,-104 91,-104\"/>\n<text text-anchor=\"start\" x=\"94\" y=\"-110\" font-family=\"Times,serif\" font-size=\"10.00\">y = x^{-1/2}</text>\n<polygon fill=\"none\" stroke=\"black\" points=\"91,-83 91,-104 149,-104 149,-83 91,-83\"/>\n<text text-anchor=\"start\" x=\"107\" y=\"-89.8\" font-family=\"Times,serif\" font-size=\"14.00\">x_sq</text>\n<polygon fill=\"none\" stroke=\"black\" points=\"91,-62 91,-83 149,-83 149,-62 91,-62\"/>\n<text text-anchor=\"start\" x=\"107.5\" y=\"-68.8\" font-family=\"Times,serif\" font-size=\"14.00\">poly</text>\n<polygon fill=\"none\" stroke=\"black\" points=\"91,-41 91,-62 149,-62 149,-41 91,-41\"/>\n<text text-anchor=\"start\" x=\"104.5\" y=\"-47.8\" font-family=\"Times,serif\" font-size=\"14.00\">target</text>\n</g>\n<!-- x_sq_G7&#45;&gt;NewtonRaphsonApproxInverseSquareRoot -->\n<g id=\"edge1\" class=\"edge\">\n<title>x_sq_G7:e-&gt;NewtonRaphsonApproxInverseSquareRoot:w</title>\n<path fill=\"none\" stroke=\"black\" d=\"M54,-126C74.89,-126 69.72,-96.45 88.58,-94.14\"/>\n<ellipse fill=\"black\" stroke=\"black\" cx=\"90\" cy=\"-94.06\" rx=\"1\" ry=\"1\"/>\n<text text-anchor=\"middle\" x=\"72.5\" y=\"-113\" font-family=\"Times,serif\" font-size=\"10.00\">7</text>\n</g>\n<!-- poly_G2 -->\n<g id=\"node2\" class=\"node\">\n<title>poly_G2</title>\n<text text-anchor=\"middle\" x=\"27\" y=\"-68.3\" font-family=\"Times,serif\" font-size=\"14.00\">poly</text>\n</g>\n<!-- poly_G2&#45;&gt;NewtonRaphsonApproxInverseSquareRoot -->\n<g id=\"edge2\" class=\"edge\">\n<title>poly_G2:e-&gt;NewtonRaphsonApproxInverseSquareRoot:w</title>\n<path fill=\"none\" stroke=\"black\" d=\"M54,-72C69.67,-72 74.14,-72 88.77,-72\"/>\n<ellipse fill=\"black\" stroke=\"black\" cx=\"90\" cy=\"-72\" rx=\"1\" ry=\"1\"/>\n<text text-anchor=\"middle\" x=\"72.5\" y=\"-75\" font-family=\"Times,serif\" font-size=\"10.00\">8</text>\n</g>\n<!-- target_G0 -->\n<g id=\"node3\" class=\"node\">\n<title>target_G0</title>\n<text text-anchor=\"middle\" x=\"27\" y=\"-14.3\" font-family=\"Times,serif\" font-size=\"14.00\">target</text>\n</g>\n<!-- target_G0&#45;&gt;NewtonRaphsonApproxInverseSquareRoot -->\n<g id=\"edge3\" class=\"edge\">\n<title>target_G0:e-&gt;NewtonRaphsonApproxInverseSquareRoot:w</title>\n<path fill=\"none\" stroke=\"black\" d=\"M54,-18C75.17,-18 69.47,-48.47 88.55,-50.85\"/>\n<ellipse fill=\"black\" stroke=\"black\" cx=\"90\" cy=\"-50.94\" rx=\"1\" ry=\"1\"/>\n<text text-anchor=\"middle\" x=\"72.5\" y=\"-39\" font-family=\"Times,serif\" font-size=\"10.00\">12</text>\n</g>\n<!-- x_sq_G3 -->\n<g id=\"node5\" class=\"node\">\n<title>x_sq_G3</title>\n<text text-anchor=\"middle\" x=\"213\" y=\"-122.3\" font-family=\"Times,serif\" font-size=\"14.00\">x_sq</text>\n</g>\n<!-- NewtonRaphsonApproxInverseSquareRoot&#45;&gt;x_sq_G3 -->\n<g id=\"edge4\" class=\"edge\">\n<title>NewtonRaphsonApproxInverseSquareRoot:e-&gt;x_sq_G3:w</title>\n<path fill=\"none\" stroke=\"black\" d=\"M149,-94C169.89,-94 164.72,-123.55 183.58,-125.86\"/>\n<ellipse fill=\"black\" stroke=\"black\" cx=\"185\" cy=\"-125.94\" rx=\"1\" ry=\"1\"/>\n<text text-anchor=\"middle\" x=\"167.5\" y=\"-113\" font-family=\"Times,serif\" font-size=\"10.00\">7</text>\n</g>\n<!-- poly_G5 -->\n<g id=\"node6\" class=\"node\">\n<title>poly_G5</title>\n<text text-anchor=\"middle\" x=\"213\" y=\"-68.3\" font-family=\"Times,serif\" font-size=\"14.00\">poly</text>\n</g>\n<!-- NewtonRaphsonApproxInverseSquareRoot&#45;&gt;poly_G5 -->\n<g id=\"edge5\" class=\"edge\">\n<title>NewtonRaphsonApproxInverseSquareRoot:e-&gt;poly_G5:w</title>\n<path fill=\"none\" stroke=\"black\" d=\"M149,-72C164.67,-72 169.14,-72 183.77,-72\"/>\n<ellipse fill=\"black\" stroke=\"black\" cx=\"185\" cy=\"-72\" rx=\"1\" ry=\"1\"/>\n<text text-anchor=\"middle\" x=\"167.5\" y=\"-75\" font-family=\"Times,serif\" font-size=\"10.00\">8</text>\n</g>\n<!-- target_G4 -->\n<g id=\"node7\" class=\"node\">\n<title>target_G4</title>\n<text text-anchor=\"middle\" x=\"213\" y=\"-14.3\" font-family=\"Times,serif\" font-size=\"14.00\">target</text>\n</g>\n<!-- NewtonRaphsonApproxInverseSquareRoot&#45;&gt;target_G4 -->\n<g id=\"edge6\" class=\"edge\">\n<title>NewtonRaphsonApproxInverseSquareRoot:e-&gt;target_G4:w</title>\n<path fill=\"none\" stroke=\"black\" d=\"M149,-51C170.17,-51 164.47,-20.53 183.55,-18.15\"/>\n<ellipse fill=\"black\" stroke=\"black\" cx=\"185\" cy=\"-18.06\" rx=\"1\" ry=\"1\"/>\n<text text-anchor=\"middle\" x=\"167.5\" y=\"-39\" font-family=\"Times,serif\" font-size=\"10.00\">12</text>\n</g>\n</g>\n</svg>",
          "text/plain": "<IPython.core.display.SVG object>"
         },
         "metadata": {},
         "output_type": "display_data"
        }
       ],
       "tabbable": null,
       "tooltip": null
      }
     },
     "de6a5a3a83f549e49f0ecc2b7ae76033": {
      "model_module": "@jupyter-widgets/controls",
      "model_module_version": "2.0.0",
      "model_name": "HBoxModel",
      "state": {
       "_dom_classes": [],
       "_model_module": "@jupyter-widgets/controls",
       "_model_module_version": "2.0.0",
       "_model_name": "HBoxModel",
       "_view_count": null,
       "_view_module": "@jupyter-widgets/controls",
       "_view_module_version": "2.0.0",
       "_view_name": "HBoxView",
       "box_style": "",
       "children": [
        "IPY_MODEL_8436f8c0f3c940eb85650a446e31d7f6"
       ],
       "layout": "IPY_MODEL_4f80cf76073e44e39e6eb2d78249ed0d",
       "tabbable": null,
       "tooltip": null
      }
     },
     "de70567bb3944168803d294bde918201": {
      "model_module": "@jupyter-widgets/base",
      "model_module_version": "2.0.0",
      "model_name": "LayoutModel",
      "state": {
       "_model_module": "@jupyter-widgets/base",
       "_model_module_version": "2.0.0",
       "_model_name": "LayoutModel",
       "_view_count": null,
       "_view_module": "@jupyter-widgets/base",
       "_view_module_version": "2.0.0",
       "_view_name": "LayoutView",
       "align_content": null,
       "align_items": null,
       "align_self": null,
       "border_bottom": null,
       "border_left": null,
       "border_right": null,
       "border_top": null,
       "bottom": null,
       "display": null,
       "flex": null,
       "flex_flow": null,
       "grid_area": null,
       "grid_auto_columns": null,
       "grid_auto_flow": null,
       "grid_auto_rows": null,
       "grid_column": null,
       "grid_gap": null,
       "grid_row": null,
       "grid_template_areas": null,
       "grid_template_columns": null,
       "grid_template_rows": null,
       "height": null,
       "justify_content": null,
       "justify_items": null,
       "left": null,
       "margin": null,
       "max_height": null,
       "max_width": null,
       "min_height": null,
       "min_width": null,
       "object_fit": null,
       "object_position": null,
       "order": null,
       "overflow": null,
       "padding": null,
       "right": null,
       "top": null,
       "visibility": null,
       "width": null
      }
     },
     "e41a0afa44894aa59d0c98e0981c59ed": {
      "model_module": "@jupyter-widgets/base",
      "model_module_version": "2.0.0",
      "model_name": "LayoutModel",
      "state": {
       "_model_module": "@jupyter-widgets/base",
       "_model_module_version": "2.0.0",
       "_model_name": "LayoutModel",
       "_view_count": null,
       "_view_module": "@jupyter-widgets/base",
       "_view_module_version": "2.0.0",
       "_view_name": "LayoutView",
       "align_content": null,
       "align_items": null,
       "align_self": null,
       "border_bottom": null,
       "border_left": null,
       "border_right": null,
       "border_top": null,
       "bottom": null,
       "display": null,
       "flex": null,
       "flex_flow": null,
       "grid_area": null,
       "grid_auto_columns": null,
       "grid_auto_flow": null,
       "grid_auto_rows": null,
       "grid_column": null,
       "grid_gap": null,
       "grid_row": null,
       "grid_template_areas": null,
       "grid_template_columns": null,
       "grid_template_rows": null,
       "height": null,
       "justify_content": null,
       "justify_items": null,
       "left": null,
       "margin": null,
       "max_height": null,
       "max_width": null,
       "min_height": null,
       "min_width": null,
       "object_fit": null,
       "object_position": null,
       "order": null,
       "overflow": null,
       "padding": null,
       "right": null,
       "top": null,
       "visibility": null,
       "width": null
      }
     },
     "e80cba67a5044dd68aa6ff6f40eaefc6": {
      "model_module": "@jupyter-widgets/controls",
      "model_module_version": "2.0.0",
      "model_name": "HBoxModel",
      "state": {
       "_dom_classes": [],
       "_model_module": "@jupyter-widgets/controls",
       "_model_module_version": "2.0.0",
       "_model_name": "HBoxModel",
       "_view_count": null,
       "_view_module": "@jupyter-widgets/controls",
       "_view_module_version": "2.0.0",
       "_view_name": "HBoxView",
       "box_style": "",
       "children": [
        "IPY_MODEL_3f3cef079d8b4d0db8d8eddbdeb3c012"
       ],
       "layout": "IPY_MODEL_46aa769aaaa64c078773462d2289f2bc",
       "tabbable": null,
       "tooltip": null
      }
     },
     "ea39a1bd760a4e8eb1d2370a2725af3b": {
      "model_module": "@jupyter-widgets/controls",
      "model_module_version": "2.0.0",
      "model_name": "HBoxModel",
      "state": {
       "_dom_classes": [],
       "_model_module": "@jupyter-widgets/controls",
       "_model_module_version": "2.0.0",
       "_model_name": "HBoxModel",
       "_view_count": null,
       "_view_module": "@jupyter-widgets/controls",
       "_view_module_version": "2.0.0",
       "_view_name": "HBoxView",
       "box_style": "",
       "children": [
        "IPY_MODEL_7971d7f934e048638aee60297d8fa3ab"
       ],
       "layout": "IPY_MODEL_94116b55816f48e98f90bcb4abe5304d",
       "tabbable": null,
       "tooltip": null
      }
     }
    },
    "version_major": 2,
    "version_minor": 0
   }
  }
 },
 "nbformat": 4,
 "nbformat_minor": 5
}
