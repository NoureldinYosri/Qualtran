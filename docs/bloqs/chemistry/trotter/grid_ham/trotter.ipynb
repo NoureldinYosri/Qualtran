{
 "cells": [
  {
   "cell_type": "markdown",
   "id": "c1a23dc3",
   "metadata": {
    "cq.autogen": "title_cell"
   },
   "source": [
    "# Trotter Bloqs\n",
    "\n",
    "Bloqs for Trotter simulation of the real space grid Hamiltonian."
   ]
  },
  {
   "cell_type": "code",
   "execution_count": 1,
   "id": "9a92a195",
   "metadata": {
    "cq.autogen": "top_imports"
   },
   "outputs": [],
   "source": [
    "from qualtran import Bloq, CompositeBloq, BloqBuilder, Signature, Register\n",
    "from qualtran import QBit, QInt, QUInt, QAny\n",
    "from qualtran.drawing import show_bloq, show_call_graph, show_counts_sigma\n",
    "from typing import *\n",
    "import numpy as np\n",
    "import sympy\n",
    "import cirq"
   ]
  },
  {
   "cell_type": "markdown",
   "id": "03ff98e4",
   "metadata": {
    "cq.autogen": "PolynmomialEvaluationInverseSquareRoot.bloq_doc.md"
   },
   "source": [
    "## `PolynmomialEvaluationInverseSquareRoot`\n",
    "Bloq to evaluate a polynomial approximation to inverse Square root from QROM.\n",
    "\n",
    "#### Parameters\n",
    " - `in_bitsize`: The number of bits encoding the input registers.\n",
    " - `out_bitsize`: The number of bits encoding the input registers. \n",
    "\n",
    "#### Registers\n",
    " - `in_c{0,1,2,3}`: QROM input containing the 4 polynomial coefficients.\n",
    " - `out`: Output register to store polynomial approximation to inverse square root. \n",
    "\n",
    "#### References\n",
    " - [Quantum computation of stopping power for inertial fusion target design](     https://arxiv.org/pdf/2308.12352.pdf)\n"
   ]
  },
  {
   "cell_type": "code",
   "execution_count": 2,
   "id": "c6c171f4",
   "metadata": {
    "cq.autogen": "PolynmomialEvaluationInverseSquareRoot.bloq_doc.py"
   },
   "outputs": [],
   "source": [
    "from qualtran.bloqs.chemistry.trotter.grid_ham.inverse_sqrt import PolynmomialEvaluationInverseSquareRoot"
   ]
  },
  {
   "cell_type": "markdown",
   "id": "b474b1b2",
   "metadata": {
    "cq.autogen": "PolynmomialEvaluationInverseSquareRoot.example_instances.md"
   },
   "source": [
    "### Example Instances"
   ]
  },
  {
   "cell_type": "code",
   "execution_count": 3,
   "id": "61c0ce9e",
   "metadata": {
    "cq.autogen": "PolynmomialEvaluationInverseSquareRoot.poly_inv_sqrt"
   },
   "outputs": [],
   "source": [
    "poly_inv_sqrt = PolynmomialEvaluationInverseSquareRoot(7, 8, 12)"
   ]
  },
  {
   "cell_type": "markdown",
   "id": "48cb524e",
   "metadata": {
    "cq.autogen": "PolynmomialEvaluationInverseSquareRoot.graphical_signature.md"
   },
   "source": [
    "#### Graphical Signature"
   ]
  },
  {
   "cell_type": "code",
   "execution_count": 4,
   "id": "2b06d812",
   "metadata": {
    "cq.autogen": "PolynmomialEvaluationInverseSquareRoot.graphical_signature.py"
   },
   "outputs": [
    {
     "data": {
      "application/vnd.jupyter.widget-view+json": {
       "model_id": "d545554cb8514300a28642cc8f770d36",
       "version_major": 2,
       "version_minor": 0
      },
      "text/plain": [
       "HBox(children=(Output(outputs=({'output_type': 'display_data', 'data': {'text/plain': '<IPython.core.display.M…"
      ]
     },
     "metadata": {},
     "output_type": "display_data"
    }
   ],
   "source": [
    "from qualtran.drawing import show_bloqs\n",
    "show_bloqs([poly_inv_sqrt],\n",
    "           ['`poly_inv_sqrt`'])"
   ]
  },
  {
   "cell_type": "markdown",
   "id": "bfdeaf9a",
   "metadata": {
    "cq.autogen": "PolynmomialEvaluationInverseSquareRoot.call_graph.md"
   },
   "source": [
    "### Call Graph"
   ]
  },
  {
   "cell_type": "code",
   "execution_count": 5,
   "id": "bfe3ebb2",
   "metadata": {
    "cq.autogen": "PolynmomialEvaluationInverseSquareRoot.call_graph.py"
   },
   "outputs": [
    {
     "data": {
      "image/svg+xml": [
       "<svg xmlns=\"http://www.w3.org/2000/svg\" xmlns:xlink=\"http://www.w3.org/1999/xlink\" width=\"414pt\" height=\"131pt\" viewBox=\"0.00 0.00 414.00 131.00\">\n",
       "<g id=\"graph0\" class=\"graph\" transform=\"scale(1 1) rotate(0) translate(4 127)\">\n",
       "<title>counts</title>\n",
       "<polygon fill=\"white\" stroke=\"transparent\" points=\"-4,4 -4,-127 410,-127 410,4 -4,4\"/>\n",
       "<!-- b0 -->\n",
       "<g id=\"node1\" class=\"node\">\n",
       "<title>b0</title>\n",
       "<polygon fill=\"none\" stroke=\"black\" points=\"312,-123 19,-123 19,-87 312,-87 312,-123\"/>\n",
       "<text text-anchor=\"start\" x=\"47\" y=\"-106.8\" font-family=\"Times,serif\" font-size=\"14.00\">PolynmomialEvaluationInverseSquareRoot</text>\n",
       "<text text-anchor=\"start\" x=\"27\" y=\"-96\" font-family=\"monospace\" font-size=\"10.00\">x_sq_bitsize=7, poly_bitsize=8, out_bitsize=12</text>\n",
       "</g>\n",
       "<!-- b1 -->\n",
       "<g id=\"node2\" class=\"node\">\n",
       "<title>b1</title>\n",
       "<polygon fill=\"none\" stroke=\"black\" points=\"119,-36 0,-36 0,0 119,0 119,-36\"/>\n",
       "<text text-anchor=\"start\" x=\"8\" y=\"-19.8\" font-family=\"Times,serif\" font-size=\"14.00\">MultiplyTwoReals</text>\n",
       "<text text-anchor=\"start\" x=\"32\" y=\"-9\" font-family=\"monospace\" font-size=\"10.00\">bitsize=8</text>\n",
       "</g>\n",
       "<!-- b0&#45;&gt;b1 -->\n",
       "<g id=\"edge1\" class=\"edge\">\n",
       "<title>b0-&gt;b1</title>\n",
       "<path fill=\"none\" stroke=\"black\" d=\"M144.05,-86.8C128.24,-74.13 106.56,-56.73 89.1,-42.74\"/>\n",
       "<polygon fill=\"black\" stroke=\"black\" points=\"90.91,-39.7 80.92,-36.18 86.53,-45.16 90.91,-39.7\"/>\n",
       "<text text-anchor=\"middle\" x=\"123\" y=\"-57.8\" font-family=\"Times,serif\" font-size=\"14.00\">3</text>\n",
       "</g>\n",
       "<!-- b2 -->\n",
       "<g id=\"node3\" class=\"node\">\n",
       "<title>b2</title>\n",
       "<polygon fill=\"none\" stroke=\"black\" points=\"406,-36 137,-36 137,0 406,0 406,-36\"/>\n",
       "<text text-anchor=\"start\" x=\"259.5\" y=\"-19.8\" font-family=\"Times,serif\" font-size=\"14.00\">Add</text>\n",
       "<text text-anchor=\"start\" x=\"145\" y=\"-9\" font-family=\"monospace\" font-size=\"10.00\">a_dtype=QInt(bit ..., b_dtype=QInt(bit ...</text>\n",
       "</g>\n",
       "<!-- b0&#45;&gt;b2 -->\n",
       "<g id=\"edge2\" class=\"edge\">\n",
       "<title>b0-&gt;b2</title>\n",
       "<path fill=\"none\" stroke=\"black\" d=\"M186.95,-86.8C202.76,-74.13 224.44,-56.73 241.9,-42.74\"/>\n",
       "<polygon fill=\"black\" stroke=\"black\" points=\"244.47,-45.16 250.08,-36.18 240.09,-39.7 244.47,-45.16\"/>\n",
       "<text text-anchor=\"middle\" x=\"229\" y=\"-57.8\" font-family=\"Times,serif\" font-size=\"14.00\">3</text>\n",
       "</g>\n",
       "</g>\n",
       "</svg>"
      ],
      "text/plain": [
       "<IPython.core.display.SVG object>"
      ]
     },
     "metadata": {},
     "output_type": "display_data"
    },
    {
     "data": {
      "text/markdown": [
       "#### Counts totals:\n",
       " - `Add(a_dtype=QInt(bitsize=8), b_dtype=QInt(bitsize=8))`: 3\n",
       " - `MultiplyTwoReals(bitsize=8)`: 3"
      ],
      "text/plain": [
       "<IPython.core.display.Markdown object>"
      ]
     },
     "metadata": {},
     "output_type": "display_data"
    }
   ],
   "source": [
    "from qualtran.resource_counting.generalizers import ignore_split_join\n",
    "poly_inv_sqrt_g, poly_inv_sqrt_sigma = poly_inv_sqrt.call_graph(max_depth=1, generalizer=ignore_split_join)\n",
    "show_call_graph(poly_inv_sqrt_g)\n",
    "show_counts_sigma(poly_inv_sqrt_sigma)"
   ]
  },
  {
   "cell_type": "markdown",
   "id": "308c0f7a",
   "metadata": {
    "cq.autogen": "NewtonRaphsonApproxInverseSquareRoot.bloq_doc.md"
   },
   "source": [
    "## `NewtonRaphsonApproxInverseSquareRoot`\n",
    "Bloq implementing a single Newton-Raphson step to approximate the inverse square root.\n",
    "\n",
    "Given a (polynomial) approximation for $1/\\sqrt{x}$ (which will be $y_0$)\n",
    "below we can approximate the inverse square root by\n",
    "\n",
    "$$\n",
    "    y_{n+1} = \\frac{1}{2}y_n\\left(3-y_n^2 x\\right)\n",
    "$$\n",
    "\n",
    "For the case of computing the Coulomb potential we want\n",
    "\n",
    "$$\n",
    "    \\frac{1}{|r_i-r_j|} = \\frac{1}{\\sqrt{\\sum_k^3 (x^{k}_i-x^{k}_j)^2}}\n",
    "$$\n",
    "where $x^{k}_i$ is the $i$-th electron's coordinate in 3D and $k \\in \\{x,y,z\\}$.\n",
    "Thus the input register should store $\\sum_{k=x,y,z} (x^{k}_i-x^{k}_j)^2$.\n",
    "\n",
    "#### Parameters\n",
    " - `x_sq_bitsize`: The number of bits encoding the input (integer) register holding (x^2).\n",
    " - `poly_bitsize`: The number of bits encoding the input (fp-real) register holding y0 (the output of PolynomialEvaluation).\n",
    " - `output_bitsize`: The number of bits to store the output of the NewtonRaphson step. \n",
    "\n",
    "#### Registers\n",
    " - `x_sq`: an input_bitsize size register storing the value x^2.\n",
    " - `poly`: an poly_bitsize size register storing the value x^2.\n",
    " - `target`: a target_bitsize size register storing the output of the newton raphson step. \n",
    "\n",
    "#### References\n",
    " - [Faster quantum chemistry simulation on fault-tolerant quantum     computers](https://iopscience.iop.org/article/10.1088/1367-2630/14/11/115023/meta). \n"
   ]
  },
  {
   "cell_type": "code",
   "execution_count": 6,
   "id": "de625b9d",
   "metadata": {
    "cq.autogen": "NewtonRaphsonApproxInverseSquareRoot.bloq_doc.py"
   },
   "outputs": [],
   "source": [
    "from qualtran.bloqs.chemistry.trotter.grid_ham.inverse_sqrt import NewtonRaphsonApproxInverseSquareRoot"
   ]
  },
  {
   "cell_type": "markdown",
   "id": "b782fa6b",
   "metadata": {
    "cq.autogen": "NewtonRaphsonApproxInverseSquareRoot.example_instances.md"
   },
   "source": [
    "### Example Instances"
   ]
  },
  {
   "cell_type": "code",
   "execution_count": 7,
   "id": "f4464632",
   "metadata": {
    "cq.autogen": "NewtonRaphsonApproxInverseSquareRoot.nr_inv_sqrt"
   },
   "outputs": [],
   "source": [
    "nr_inv_sqrt = NewtonRaphsonApproxInverseSquareRoot(7, 8, 12)"
   ]
  },
  {
   "cell_type": "markdown",
   "id": "854f9e6c",
   "metadata": {
    "cq.autogen": "NewtonRaphsonApproxInverseSquareRoot.graphical_signature.md"
   },
   "source": [
    "#### Graphical Signature"
   ]
  },
  {
   "cell_type": "code",
   "execution_count": 8,
   "id": "115b41c5",
   "metadata": {
    "cq.autogen": "NewtonRaphsonApproxInverseSquareRoot.graphical_signature.py"
   },
   "outputs": [
    {
     "data": {
      "application/vnd.jupyter.widget-view+json": {
       "model_id": "d01cb506995a4e718059ccb70c60311c",
       "version_major": 2,
       "version_minor": 0
      },
      "text/plain": [
       "HBox(children=(Output(outputs=({'output_type': 'display_data', 'data': {'text/plain': '<IPython.core.display.M…"
      ]
     },
     "metadata": {},
     "output_type": "display_data"
    }
   ],
   "source": [
    "from qualtran.drawing import show_bloqs\n",
    "show_bloqs([nr_inv_sqrt],\n",
    "           ['`nr_inv_sqrt`'])"
   ]
  },
  {
   "cell_type": "markdown",
   "id": "dea2dd4a",
   "metadata": {
    "cq.autogen": "NewtonRaphsonApproxInverseSquareRoot.call_graph.md"
   },
   "source": [
    "### Call Graph"
   ]
  },
  {
   "cell_type": "code",
   "execution_count": 9,
   "id": "7c28f4e7",
   "metadata": {
    "cq.autogen": "NewtonRaphsonApproxInverseSquareRoot.call_graph.py"
   },
   "outputs": [
    {
     "data": {
      "image/svg+xml": [
       "<svg xmlns=\"http://www.w3.org/2000/svg\" xmlns:xlink=\"http://www.w3.org/1999/xlink\" width=\"736pt\" height=\"131pt\" viewBox=\"0.00 0.00 735.50 131.00\">\n",
       "<g id=\"graph0\" class=\"graph\" transform=\"scale(1 1) rotate(0) translate(4 127)\">\n",
       "<title>counts</title>\n",
       "<polygon fill=\"white\" stroke=\"transparent\" points=\"-4,4 -4,-127 731.5,-127 731.5,4 -4,4\"/>\n",
       "<!-- b0 -->\n",
       "<g id=\"node1\" class=\"node\">\n",
       "<title>b0</title>\n",
       "<polygon fill=\"none\" stroke=\"black\" points=\"457.5,-123 146.5,-123 146.5,-87 457.5,-87 457.5,-123\"/>\n",
       "<text text-anchor=\"start\" x=\"184.5\" y=\"-106.8\" font-family=\"Times,serif\" font-size=\"14.00\">NewtonRaphsonApproxInverseSquareRoot</text>\n",
       "<text text-anchor=\"start\" x=\"154.5\" y=\"-96\" font-family=\"monospace\" font-size=\"10.00\">x_sq_bitsize=7, poly_bitsize=8, target_bitsize=12</text>\n",
       "</g>\n",
       "<!-- b1 -->\n",
       "<g id=\"node2\" class=\"node\">\n",
       "<title>b1</title>\n",
       "<polygon fill=\"none\" stroke=\"black\" points=\"124,-36 0,-36 0,0 124,0 124,-36\"/>\n",
       "<text text-anchor=\"start\" x=\"8\" y=\"-19.8\" font-family=\"Times,serif\" font-size=\"14.00\">SquareRealNumber</text>\n",
       "<text text-anchor=\"start\" x=\"34.5\" y=\"-9\" font-family=\"monospace\" font-size=\"10.00\">bitsize=8</text>\n",
       "</g>\n",
       "<!-- b0&#45;&gt;b1 -->\n",
       "<g id=\"edge1\" class=\"edge\">\n",
       "<title>b0-&gt;b1</title>\n",
       "<path fill=\"none\" stroke=\"black\" d=\"M253.72,-86.9C215.07,-73.21 160.74,-53.97 119.78,-39.46\"/>\n",
       "<polygon fill=\"black\" stroke=\"black\" points=\"120.8,-36.11 110.2,-36.07 118.46,-42.71 120.8,-36.11\"/>\n",
       "<text text-anchor=\"middle\" x=\"200.5\" y=\"-57.8\" font-family=\"Times,serif\" font-size=\"14.00\">1</text>\n",
       "</g>\n",
       "<!-- b2 -->\n",
       "<g id=\"node3\" class=\"node\">\n",
       "<title>b2</title>\n",
       "<polygon fill=\"none\" stroke=\"black\" points=\"303.5,-36 142.5,-36 142.5,0 303.5,0 303.5,-36\"/>\n",
       "<text text-anchor=\"start\" x=\"180.5\" y=\"-19.8\" font-family=\"Times,serif\" font-size=\"14.00\">ScaleIntByReal</text>\n",
       "<text text-anchor=\"start\" x=\"150.5\" y=\"-9\" font-family=\"monospace\" font-size=\"10.00\">r_bitsize=8, i_bitsize=7</text>\n",
       "</g>\n",
       "<!-- b0&#45;&gt;b2 -->\n",
       "<g id=\"edge2\" class=\"edge\">\n",
       "<title>b0-&gt;b2</title>\n",
       "<path fill=\"none\" stroke=\"black\" d=\"M286.01,-86.8C274.45,-74.36 258.66,-57.36 245.77,-43.5\"/>\n",
       "<polygon fill=\"black\" stroke=\"black\" points=\"248.33,-41.12 238.96,-36.18 243.21,-45.88 248.33,-41.12\"/>\n",
       "<text text-anchor=\"middle\" x=\"271.5\" y=\"-57.8\" font-family=\"Times,serif\" font-size=\"14.00\">1</text>\n",
       "</g>\n",
       "<!-- b3 -->\n",
       "<g id=\"node4\" class=\"node\">\n",
       "<title>b3</title>\n",
       "<polygon fill=\"none\" stroke=\"black\" points=\"440.5,-36 321.5,-36 321.5,0 440.5,0 440.5,-36\"/>\n",
       "<text text-anchor=\"start\" x=\"329.5\" y=\"-19.8\" font-family=\"Times,serif\" font-size=\"14.00\">MultiplyTwoReals</text>\n",
       "<text text-anchor=\"start\" x=\"350.5\" y=\"-9\" font-family=\"monospace\" font-size=\"10.00\">bitsize=12</text>\n",
       "</g>\n",
       "<!-- b0&#45;&gt;b3 -->\n",
       "<g id=\"edge3\" class=\"edge\">\n",
       "<title>b0-&gt;b3</title>\n",
       "<path fill=\"none\" stroke=\"black\" d=\"M317.99,-86.8C329.55,-74.36 345.34,-57.36 358.23,-43.5\"/>\n",
       "<polygon fill=\"black\" stroke=\"black\" points=\"360.79,-45.88 365.04,-36.18 355.67,-41.12 360.79,-45.88\"/>\n",
       "<text text-anchor=\"middle\" x=\"350.5\" y=\"-57.8\" font-family=\"Times,serif\" font-size=\"14.00\">2</text>\n",
       "</g>\n",
       "<!-- b4 -->\n",
       "<g id=\"node5\" class=\"node\">\n",
       "<title>b4</title>\n",
       "<polygon fill=\"none\" stroke=\"black\" points=\"727.5,-36 458.5,-36 458.5,0 727.5,0 727.5,-36\"/>\n",
       "<text text-anchor=\"start\" x=\"581\" y=\"-19.8\" font-family=\"Times,serif\" font-size=\"14.00\">Add</text>\n",
       "<text text-anchor=\"start\" x=\"466.5\" y=\"-9\" font-family=\"monospace\" font-size=\"10.00\">a_dtype=QInt(bit ..., b_dtype=QInt(bit ...</text>\n",
       "</g>\n",
       "<!-- b0&#45;&gt;b4 -->\n",
       "<g id=\"edge4\" class=\"edge\">\n",
       "<title>b0-&gt;b4</title>\n",
       "<path fill=\"none\" stroke=\"black\" d=\"M360.54,-86.9C408,-73.04 474.95,-53.48 524.82,-38.92\"/>\n",
       "<polygon fill=\"black\" stroke=\"black\" points=\"525.94,-42.23 534.56,-36.07 523.98,-35.52 525.94,-42.23\"/>\n",
       "<text text-anchor=\"middle\" x=\"468.5\" y=\"-57.8\" font-family=\"Times,serif\" font-size=\"14.00\">1</text>\n",
       "</g>\n",
       "</g>\n",
       "</svg>"
      ],
      "text/plain": [
       "<IPython.core.display.SVG object>"
      ]
     },
     "metadata": {},
     "output_type": "display_data"
    },
    {
     "data": {
      "text/markdown": [
       "#### Counts totals:\n",
       " - `Add(a_dtype=QInt(bitsize=12), b_dtype=QInt(bitsize=12))`: 1\n",
       " - `MultiplyTwoReals(bitsize=12)`: 2\n",
       " - `ScaleIntByReal(r_bitsize=8, i_bitsize=7)`: 1\n",
       " - `SquareRealNumber(bitsize=8)`: 1"
      ],
      "text/plain": [
       "<IPython.core.display.Markdown object>"
      ]
     },
     "metadata": {},
     "output_type": "display_data"
    }
   ],
   "source": [
    "from qualtran.resource_counting.generalizers import ignore_split_join\n",
    "nr_inv_sqrt_g, nr_inv_sqrt_sigma = nr_inv_sqrt.call_graph(max_depth=1, generalizer=ignore_split_join)\n",
    "show_call_graph(nr_inv_sqrt_g)\n",
    "show_counts_sigma(nr_inv_sqrt_sigma)"
   ]
  },
  {
   "cell_type": "markdown",
   "id": "1068ae9e",
   "metadata": {
    "cq.autogen": "QuantumVariableRotation.bloq_doc.md"
   },
   "source": [
    "## `QuantumVariableRotation`\n",
    "Bloq implementing Quantum Variable Rotation\n",
    "\n",
    "$$\n",
    "    \\sum_j c_j|\\phi_j\\rangle \\rightarrow \\sum_j e^{i \\xi \\phi_j}  c_j | \\phi_j\\rangle\n",
    "$$\n",
    "\n",
    "This is the basic implementation in Fig. 14 of the reference.\n",
    "\n",
    "#### Parameters\n",
    " - `bitsize`: The number of bits encoding the phase angle $\\phi_j$. \n",
    "\n",
    "#### Registers\n",
    " - `phi`: a bitsize size register storing the angle $\\phi_j$. \n",
    "\n",
    "#### References\n",
    " - [Faster quantum chemistry simulation on fault-tolerant quantum     computers](https://iopscience.iop.org/article/10.1088/1367-2630/14/11/115023/meta).     Fig 14.\n"
   ]
  },
  {
   "cell_type": "code",
   "execution_count": 10,
   "id": "846d0bd8",
   "metadata": {
    "cq.autogen": "QuantumVariableRotation.bloq_doc.py"
   },
   "outputs": [],
   "source": [
    "from qualtran.bloqs.chemistry.trotter.grid_ham.qvr import QuantumVariableRotation"
   ]
  },
  {
   "cell_type": "markdown",
   "id": "f774d42b",
   "metadata": {
    "cq.autogen": "QuantumVariableRotation.example_instances.md"
   },
   "source": [
    "### Example Instances"
   ]
  },
  {
   "cell_type": "code",
   "execution_count": 11,
   "id": "fcb030c5",
   "metadata": {
    "cq.autogen": "QuantumVariableRotation.qvr"
   },
   "outputs": [],
   "source": [
    "qvr = QuantumVariableRotation(12)"
   ]
  },
  {
   "cell_type": "markdown",
   "id": "f137e98c",
   "metadata": {
    "cq.autogen": "QuantumVariableRotation.graphical_signature.md"
   },
   "source": [
    "#### Graphical Signature"
   ]
  },
  {
   "cell_type": "code",
   "execution_count": 12,
   "id": "46447039",
   "metadata": {
    "cq.autogen": "QuantumVariableRotation.graphical_signature.py"
   },
   "outputs": [
    {
     "data": {
      "application/vnd.jupyter.widget-view+json": {
       "model_id": "d9b48405ea924cc089c78ba7494be342",
       "version_major": 2,
       "version_minor": 0
      },
      "text/plain": [
       "HBox(children=(Output(outputs=({'output_type': 'display_data', 'data': {'text/plain': '<IPython.core.display.M…"
      ]
     },
     "metadata": {},
     "output_type": "display_data"
    }
   ],
   "source": [
    "from qualtran.drawing import show_bloqs\n",
    "show_bloqs([qvr],\n",
    "           ['`qvr`'])"
   ]
  },
  {
   "cell_type": "markdown",
   "id": "6d0dfb35",
   "metadata": {
    "cq.autogen": "QuantumVariableRotation.call_graph.md"
   },
   "source": [
    "### Call Graph"
   ]
  },
  {
   "cell_type": "code",
   "execution_count": 13,
   "id": "bd149558",
   "metadata": {
    "cq.autogen": "QuantumVariableRotation.call_graph.py"
   },
   "outputs": [
    {
     "data": {
      "image/svg+xml": [
       "<svg xmlns=\"http://www.w3.org/2000/svg\" xmlns:xlink=\"http://www.w3.org/1999/xlink\" width=\"169pt\" height=\"131pt\" viewBox=\"0.00 0.00 169.00 131.00\">\n",
       "<g id=\"graph0\" class=\"graph\" transform=\"scale(1 1) rotate(0) translate(4 127)\">\n",
       "<title>counts</title>\n",
       "<polygon fill=\"white\" stroke=\"transparent\" points=\"-4,4 -4,-127 165,-127 165,4 -4,4\"/>\n",
       "<!-- b0 -->\n",
       "<g id=\"node1\" class=\"node\">\n",
       "<title>b0</title>\n",
       "<polygon fill=\"none\" stroke=\"black\" points=\"160,-123 1,-123 1,-87 160,-87 160,-123\"/>\n",
       "<text text-anchor=\"start\" x=\"9\" y=\"-106.8\" font-family=\"Times,serif\" font-size=\"14.00\">QuantumVariableRotation</text>\n",
       "<text text-anchor=\"start\" x=\"38\" y=\"-96\" font-family=\"monospace\" font-size=\"10.00\">phi_bitsize=12</text>\n",
       "</g>\n",
       "<!-- b1 -->\n",
       "<g id=\"node2\" class=\"node\">\n",
       "<title>b1</title>\n",
       "<polygon fill=\"none\" stroke=\"black\" points=\"161,-36 0,-36 0,0 161,0 161,-36\"/>\n",
       "<text text-anchor=\"start\" x=\"72.5\" y=\"-19.8\" font-family=\"Times,serif\" font-size=\"14.00\">Rz</text>\n",
       "<text text-anchor=\"start\" x=\"8\" y=\"-9\" font-family=\"monospace\" font-size=\"10.00\">angle=_theta0, eps=1e-11</text>\n",
       "</g>\n",
       "<!-- b0&#45;&gt;b1 -->\n",
       "<g id=\"edge1\" class=\"edge\">\n",
       "<title>b0-&gt;b1</title>\n",
       "<path fill=\"none\" stroke=\"black\" d=\"M80.5,-86.8C80.5,-75.16 80.5,-59.55 80.5,-46.24\"/>\n",
       "<polygon fill=\"black\" stroke=\"black\" points=\"84,-46.18 80.5,-36.18 77,-46.18 84,-46.18\"/>\n",
       "<text text-anchor=\"middle\" x=\"87.5\" y=\"-57.8\" font-family=\"Times,serif\" font-size=\"14.00\">12</text>\n",
       "</g>\n",
       "</g>\n",
       "</svg>"
      ],
      "text/plain": [
       "<IPython.core.display.SVG object>"
      ]
     },
     "metadata": {},
     "output_type": "display_data"
    },
    {
     "data": {
      "text/markdown": [
       "#### Counts totals:\n",
       " - `Rz(_theta0/piπ)`: 12"
      ],
      "text/plain": [
       "<IPython.core.display.Markdown object>"
      ]
     },
     "metadata": {},
     "output_type": "display_data"
    }
   ],
   "source": [
    "from qualtran.resource_counting.generalizers import ignore_split_join\n",
    "qvr_g, qvr_sigma = qvr.call_graph(max_depth=1, generalizer=ignore_split_join)\n",
    "show_call_graph(qvr_g)\n",
    "show_counts_sigma(qvr_sigma)"
   ]
  },
  {
   "cell_type": "markdown",
   "id": "b5e724f9",
   "metadata": {
    "cq.autogen": "KineticEnergy.bloq_doc.md"
   },
   "source": [
    "## `KineticEnergy`\n",
    "Bloq for the Kinetic energy unitary defined in the reference.\n",
    "\n",
    "#### Parameters\n",
    " - `num_elec`: The number of electrons.\n",
    " - `num_grid`: The number of grid points in each of the x, y and z directions. In total, for a cubic grid, there are $N = \\mathrm{num\\_grid}^3$ grid points. The number of bits required (in each spatial dimension) is thus log N + 1, where the + 1 is for the sign bit. \n",
    "\n",
    "#### Registers\n",
    " - `system`: The system register of size eta * 3 * nb \n",
    "\n",
    "#### References\n",
    " - [Faster quantum chemistry simulation on fault-tolerant quantum     computers](https://iopscience.iop.org/article/10.1088/1367-2630/14/11/115023/meta). \n"
   ]
  },
  {
   "cell_type": "code",
   "execution_count": 14,
   "id": "65d49288",
   "metadata": {
    "cq.autogen": "KineticEnergy.bloq_doc.py"
   },
   "outputs": [],
   "source": [
    "from qualtran.bloqs.chemistry.trotter.grid_ham.kinetic import KineticEnergy"
   ]
  },
  {
   "cell_type": "markdown",
   "id": "af274bd4",
   "metadata": {
    "cq.autogen": "KineticEnergy.example_instances.md"
   },
   "source": [
    "### Example Instances"
   ]
  },
  {
   "cell_type": "code",
   "execution_count": 15,
   "id": "1f178e10",
   "metadata": {
    "cq.autogen": "KineticEnergy.kinetic_energy"
   },
   "outputs": [],
   "source": [
    "nelec = 12\n",
    "ngrid_x = 2 * 8 + 1\n",
    "kinetic_energy = KineticEnergy(nelec, ngrid_x)"
   ]
  },
  {
   "cell_type": "markdown",
   "id": "d4504521",
   "metadata": {
    "cq.autogen": "KineticEnergy.graphical_signature.md"
   },
   "source": [
    "#### Graphical Signature"
   ]
  },
  {
   "cell_type": "code",
   "execution_count": 16,
   "id": "363afaa8",
   "metadata": {
    "cq.autogen": "KineticEnergy.graphical_signature.py"
   },
   "outputs": [
    {
     "data": {
      "application/vnd.jupyter.widget-view+json": {
       "model_id": "046c78dbd7e64e12a40353831b5b2c39",
       "version_major": 2,
       "version_minor": 0
      },
      "text/plain": [
       "HBox(children=(Output(outputs=({'output_type': 'display_data', 'data': {'text/plain': '<IPython.core.display.M…"
      ]
     },
     "metadata": {},
     "output_type": "display_data"
    }
   ],
   "source": [
    "from qualtran.drawing import show_bloqs\n",
    "show_bloqs([kinetic_energy],\n",
    "           ['`kinetic_energy`'])"
   ]
  },
  {
   "cell_type": "markdown",
   "id": "e98215d5",
   "metadata": {
    "cq.autogen": "KineticEnergy.call_graph.md"
   },
   "source": [
    "### Call Graph"
   ]
  },
  {
   "cell_type": "code",
   "execution_count": 17,
   "id": "c9556aab",
   "metadata": {
    "cq.autogen": "KineticEnergy.call_graph.py"
   },
   "outputs": [
    {
     "data": {
      "image/svg+xml": [
       "<svg xmlns=\"http://www.w3.org/2000/svg\" xmlns:xlink=\"http://www.w3.org/1999/xlink\" width=\"429pt\" height=\"131pt\" viewBox=\"0.00 0.00 429.00 131.00\">\n",
       "<g id=\"graph0\" class=\"graph\" transform=\"scale(1 1) rotate(0) translate(4 127)\">\n",
       "<title>counts</title>\n",
       "<polygon fill=\"white\" stroke=\"transparent\" points=\"-4,4 -4,-127 425,-127 425,4 -4,4\"/>\n",
       "<!-- b0 -->\n",
       "<g id=\"node1\" class=\"node\">\n",
       "<title>b0</title>\n",
       "<polygon fill=\"none\" stroke=\"black\" points=\"303,-123 142,-123 142,-87 303,-87 303,-123\"/>\n",
       "<text text-anchor=\"start\" x=\"183\" y=\"-106.8\" font-family=\"Times,serif\" font-size=\"14.00\">KineticEnergy</text>\n",
       "<text text-anchor=\"start\" x=\"150\" y=\"-96\" font-family=\"monospace\" font-size=\"10.00\">num_elec=12, num_grid=17</text>\n",
       "</g>\n",
       "<!-- b1 -->\n",
       "<g id=\"node2\" class=\"node\">\n",
       "<title>b1</title>\n",
       "<polygon fill=\"none\" stroke=\"black\" points=\"125,-36 0,-36 0,0 125,0 125,-36\"/>\n",
       "<text text-anchor=\"start\" x=\"50\" y=\"-19.8\" font-family=\"Times,serif\" font-size=\"14.00\">Free</text>\n",
       "<text text-anchor=\"start\" x=\"8\" y=\"-9\" font-family=\"monospace\" font-size=\"10.00\">dtype=QAny(bit ...</text>\n",
       "</g>\n",
       "<!-- b0&#45;&gt;b1 -->\n",
       "<g id=\"edge1\" class=\"edge\">\n",
       "<title>b0-&gt;b1</title>\n",
       "<path fill=\"none\" stroke=\"black\" d=\"M190.12,-86.8C165.21,-73.56 130.61,-55.18 103.72,-40.9\"/>\n",
       "<polygon fill=\"black\" stroke=\"black\" points=\"105.03,-37.63 94.56,-36.03 101.75,-43.81 105.03,-37.63\"/>\n",
       "<text text-anchor=\"middle\" x=\"159.5\" y=\"-57.8\" font-family=\"Times,serif\" font-size=\"14.00\">12</text>\n",
       "</g>\n",
       "<!-- b2 -->\n",
       "<g id=\"node3\" class=\"node\">\n",
       "<title>b2</title>\n",
       "<polygon fill=\"none\" stroke=\"black\" points=\"302,-36 143,-36 143,0 302,0 302,-36\"/>\n",
       "<text text-anchor=\"start\" x=\"151\" y=\"-19.8\" font-family=\"Times,serif\" font-size=\"14.00\">QuantumVariableRotation</text>\n",
       "<text text-anchor=\"start\" x=\"180\" y=\"-9\" font-family=\"monospace\" font-size=\"10.00\">phi_bitsize=14</text>\n",
       "</g>\n",
       "<!-- b0&#45;&gt;b2 -->\n",
       "<g id=\"edge2\" class=\"edge\">\n",
       "<title>b0-&gt;b2</title>\n",
       "<path fill=\"none\" stroke=\"black\" d=\"M222.5,-86.8C222.5,-75.16 222.5,-59.55 222.5,-46.24\"/>\n",
       "<polygon fill=\"black\" stroke=\"black\" points=\"226,-46.18 222.5,-36.18 219,-46.18 226,-46.18\"/>\n",
       "<text text-anchor=\"middle\" x=\"229.5\" y=\"-57.8\" font-family=\"Times,serif\" font-size=\"14.00\">12</text>\n",
       "</g>\n",
       "<!-- b3 -->\n",
       "<g id=\"node4\" class=\"node\">\n",
       "<title>b3</title>\n",
       "<polygon fill=\"none\" stroke=\"black\" points=\"421,-36 320,-36 320,0 421,0 421,-36\"/>\n",
       "<text text-anchor=\"start\" x=\"329\" y=\"-19.8\" font-family=\"Times,serif\" font-size=\"14.00\">SumOfSquares</text>\n",
       "<text text-anchor=\"start\" x=\"328\" y=\"-9\" font-family=\"monospace\" font-size=\"10.00\">bitsize=6, k=3</text>\n",
       "</g>\n",
       "<!-- b0&#45;&gt;b3 -->\n",
       "<g id=\"edge3\" class=\"edge\">\n",
       "<title>b0-&gt;b3</title>\n",
       "<path fill=\"none\" stroke=\"black\" d=\"M252.45,-86.8C275.39,-73.62 307.22,-55.34 332.05,-41.08\"/>\n",
       "<polygon fill=\"black\" stroke=\"black\" points=\"333.92,-44.05 340.85,-36.03 330.43,-37.98 333.92,-44.05\"/>\n",
       "<text text-anchor=\"middle\" x=\"311.5\" y=\"-57.8\" font-family=\"Times,serif\" font-size=\"14.00\">12</text>\n",
       "</g>\n",
       "</g>\n",
       "</svg>"
      ],
      "text/plain": [
       "<IPython.core.display.SVG object>"
      ]
     },
     "metadata": {},
     "output_type": "display_data"
    },
    {
     "data": {
      "text/markdown": [
       "#### Counts totals:\n",
       " - `Free(dtype=QAny(bitsize=14))`: 12\n",
       " - `QuantumVariableRotation(phi_bitsize=14)`: 12\n",
       " - `SumOfSquares(bitsize=6, k=3)`: 12"
      ],
      "text/plain": [
       "<IPython.core.display.Markdown object>"
      ]
     },
     "metadata": {},
     "output_type": "display_data"
    }
   ],
   "source": [
    "from qualtran.resource_counting.generalizers import ignore_split_join\n",
    "kinetic_energy_g, kinetic_energy_sigma = kinetic_energy.call_graph(max_depth=1, generalizer=ignore_split_join)\n",
    "show_call_graph(kinetic_energy_g)\n",
    "show_counts_sigma(kinetic_energy_sigma)"
   ]
  },
  {
   "cell_type": "markdown",
   "id": "23977639",
   "metadata": {
    "cq.autogen": "PairPotential.bloq_doc.md"
   },
   "source": [
    "## `PairPotential`\n",
    "Potential Energy bloq for single pair of particles i and j.\n",
    "\n",
    "#### Parameters\n",
    " - `bitsize`: The number of bits for a single component of the system register.\n",
    " - `qrom_data`: The polynomial coefficients to load by QROM.\n",
    " - `poly_bitsize`: The number of bits of precision for the polynomial coefficients.\n",
    " - `label`: A label for the bloqs short name. The potential bloq can encode any sort of Coulomb interaction (electron-electron, election-ion, ion-ion,...) so can be reused. This label is to distinguish these different cases. \n",
    "\n",
    "#### Registers\n",
    " - `system_i`: The ith electron's register.\n",
    " - `system_j`: The jth electron's register. \n",
    "\n",
    "#### References\n",
    " - [Faster quantum chemistry simulation on fault-tolerant quantum     computers](https://iopscience.iop.org/article/10.1088/1367-2630/14/11/115023/meta). \n"
   ]
  },
  {
   "cell_type": "code",
   "execution_count": 18,
   "id": "d9319ec8",
   "metadata": {
    "cq.autogen": "PairPotential.bloq_doc.py"
   },
   "outputs": [],
   "source": [
    "from qualtran.bloqs.chemistry.trotter.grid_ham.potential import PairPotential, build_qrom_data_for_poly_fit\n",
    "from qualtran.bloqs.chemistry.trotter.grid_ham.inverse_sqrt import get_inverse_square_root_poly_coeffs"
   ]
  },
  {
   "cell_type": "markdown",
   "id": "2cb5c95b",
   "metadata": {
    "cq.autogen": "PairPotential.example_instances.md"
   },
   "source": [
    "### Example Instances"
   ]
  },
  {
   "cell_type": "code",
   "execution_count": 19,
   "id": "ed901b4c",
   "metadata": {
    "cq.autogen": "PairPotential.pair_potential"
   },
   "outputs": [],
   "source": [
    "bitsize = 7\n",
    "poly_bitsize = 15\n",
    "poly_coeffs = get_inverse_square_root_poly_coeffs()\n",
    "qrom_data = build_qrom_data_for_poly_fit(2 * bitsize + 2, poly_bitsize, poly_coeffs)\n",
    "qrom_data = tuple(tuple(int(k) for k in d) for d in qrom_data)\n",
    "pair_potential = PairPotential(bitsize=bitsize, qrom_data=qrom_data, poly_bitsize=poly_bitsize)"
   ]
  },
  {
   "cell_type": "markdown",
   "id": "451bf52f",
   "metadata": {
    "cq.autogen": "PairPotential.graphical_signature.md"
   },
   "source": [
    "#### Graphical Signature"
   ]
  },
  {
   "cell_type": "code",
   "execution_count": 20,
   "id": "e89df3ef",
   "metadata": {
    "cq.autogen": "PairPotential.graphical_signature.py"
   },
   "outputs": [
    {
     "data": {
      "application/vnd.jupyter.widget-view+json": {
       "model_id": "b6b8895db6214105bc1dca27a93f9e67",
       "version_major": 2,
       "version_minor": 0
      },
      "text/plain": [
       "HBox(children=(Output(outputs=({'output_type': 'display_data', 'data': {'text/plain': '<IPython.core.display.M…"
      ]
     },
     "metadata": {},
     "output_type": "display_data"
    }
   ],
   "source": [
    "from qualtran.drawing import show_bloqs\n",
    "show_bloqs([pair_potential],\n",
    "           ['`pair_potential`'])"
   ]
  },
  {
   "cell_type": "markdown",
   "id": "18a392ea",
   "metadata": {
    "cq.autogen": "PairPotential.call_graph.md"
   },
   "source": [
    "### Call Graph"
   ]
  },
  {
   "cell_type": "code",
   "execution_count": 21,
   "id": "feceece7",
   "metadata": {
    "cq.autogen": "PairPotential.call_graph.py"
   },
   "outputs": [
    {
     "data": {
      "image/svg+xml": [
       "<svg xmlns=\"http://www.w3.org/2000/svg\" xmlns:xlink=\"http://www.w3.org/1999/xlink\" width=\"2622pt\" height=\"131pt\" viewBox=\"0.00 0.00 2622.00 131.00\">\n",
       "<g id=\"graph0\" class=\"graph\" transform=\"scale(1 1) rotate(0) translate(4 127)\">\n",
       "<title>counts</title>\n",
       "<polygon fill=\"white\" stroke=\"transparent\" points=\"-4,4 -4,-127 2618,-127 2618,4 -4,4\"/>\n",
       "<!-- b0 -->\n",
       "<g id=\"node1\" class=\"node\">\n",
       "<title>b0</title>\n",
       "<polygon fill=\"none\" stroke=\"black\" points=\"1178,-123 669,-123 669,-87 1178,-87 1178,-123\"/>\n",
       "<text text-anchor=\"start\" x=\"888.5\" y=\"-106.8\" font-family=\"Times,serif\" font-size=\"14.00\">PairPotential</text>\n",
       "<text text-anchor=\"start\" x=\"677\" y=\"-96\" font-family=\"monospace\" font-size=\"10.00\">bitsize=7, qrom_data=((0, 163 ..., poly_bitsize=15, inv_sqrt_bitsize=24, label='V'</text>\n",
       "</g>\n",
       "<!-- b1 -->\n",
       "<g id=\"node2\" class=\"node\">\n",
       "<title>b1</title>\n",
       "<polygon fill=\"none\" stroke=\"black\" points=\"125,-36 0,-36 0,0 125,0 125,-36\"/>\n",
       "<text text-anchor=\"start\" x=\"50\" y=\"-19.8\" font-family=\"Times,serif\" font-size=\"14.00\">Free</text>\n",
       "<text text-anchor=\"start\" x=\"8\" y=\"-9\" font-family=\"monospace\" font-size=\"10.00\">dtype=QAny(bit ...</text>\n",
       "</g>\n",
       "<!-- b0&#45;&gt;b1 -->\n",
       "<g id=\"edge1\" class=\"edge\">\n",
       "<title>b0-&gt;b1</title>\n",
       "<path fill=\"none\" stroke=\"black\" d=\"M668.87,-93.37C569.38,-87.93 454.44,-80.05 350.5,-69 256.62,-59.01 230.88,-54.97 134.98,-36.23\"/>\n",
       "<polygon fill=\"black\" stroke=\"black\" points=\"135.64,-32.79 125.16,-34.3 134.3,-39.66 135.64,-32.79\"/>\n",
       "<text text-anchor=\"middle\" x=\"354\" y=\"-57.8\" font-family=\"Times,serif\" font-size=\"14.00\">5</text>\n",
       "</g>\n",
       "<!-- b2 -->\n",
       "<g id=\"node3\" class=\"node\">\n",
       "<title>b2</title>\n",
       "<polygon fill=\"none\" stroke=\"black\" points=\"244,-36 143,-36 143,0 244,0 244,-36\"/>\n",
       "<text text-anchor=\"start\" x=\"152\" y=\"-19.8\" font-family=\"Times,serif\" font-size=\"14.00\">SumOfSquares</text>\n",
       "<text text-anchor=\"start\" x=\"151\" y=\"-9\" font-family=\"monospace\" font-size=\"10.00\">bitsize=8, k=3</text>\n",
       "</g>\n",
       "<!-- b0&#45;&gt;b2 -->\n",
       "<g id=\"edge2\" class=\"edge\">\n",
       "<title>b0-&gt;b2</title>\n",
       "<path fill=\"none\" stroke=\"black\" d=\"M668.64,-90.89C545.43,-81.42 395.65,-65.28 254.38,-36.25\"/>\n",
       "<polygon fill=\"black\" stroke=\"black\" points=\"254.73,-32.74 244.23,-34.13 253.31,-39.6 254.73,-32.74\"/>\n",
       "<text text-anchor=\"middle\" x=\"439\" y=\"-57.8\" font-family=\"Times,serif\" font-size=\"14.00\">1</text>\n",
       "</g>\n",
       "<!-- b3 -->\n",
       "<g id=\"node4\" class=\"node\">\n",
       "<title>b3</title>\n",
       "<polygon fill=\"none\" stroke=\"black\" points=\"387,-36 262,-36 262,0 387,0 387,-36\"/>\n",
       "<text text-anchor=\"start\" x=\"301.5\" y=\"-19.8\" font-family=\"Times,serif\" font-size=\"14.00\">Allocate</text>\n",
       "<text text-anchor=\"start\" x=\"270\" y=\"-9\" font-family=\"monospace\" font-size=\"10.00\">dtype=QAny(bit ...</text>\n",
       "</g>\n",
       "<!-- b0&#45;&gt;b3 -->\n",
       "<g id=\"edge3\" class=\"edge\">\n",
       "<title>b0-&gt;b3</title>\n",
       "<path fill=\"none\" stroke=\"black\" d=\"M749.04,-87C648.47,-75.87 519.59,-59.38 397.09,-36.22\"/>\n",
       "<polygon fill=\"black\" stroke=\"black\" points=\"397.63,-32.76 387.15,-34.33 396.32,-39.64 397.63,-32.76\"/>\n",
       "<text text-anchor=\"middle\" x=\"602\" y=\"-57.8\" font-family=\"Times,serif\" font-size=\"14.00\">5</text>\n",
       "</g>\n",
       "<!-- b4 -->\n",
       "<g id=\"node5\" class=\"node\">\n",
       "<title>b4</title>\n",
       "<polygon fill=\"none\" stroke=\"black\" points=\"530,-36 405,-36 405,0 530,0 530,-36\"/>\n",
       "<text text-anchor=\"start\" x=\"455\" y=\"-19.8\" font-family=\"Times,serif\" font-size=\"14.00\">Free</text>\n",
       "<text text-anchor=\"start\" x=\"413\" y=\"-9\" font-family=\"monospace\" font-size=\"10.00\">dtype=QAny(bit ...</text>\n",
       "</g>\n",
       "<!-- b0&#45;&gt;b4 -->\n",
       "<g id=\"edge4\" class=\"edge\">\n",
       "<title>b0-&gt;b4</title>\n",
       "<path fill=\"none\" stroke=\"black\" d=\"M816.95,-86.95C741.97,-74.54 639.08,-56.67 540.05,-36.27\"/>\n",
       "<polygon fill=\"black\" stroke=\"black\" points=\"540.68,-32.82 530.17,-34.22 539.26,-39.68 540.68,-32.82\"/>\n",
       "<text text-anchor=\"middle\" x=\"711\" y=\"-57.8\" font-family=\"Times,serif\" font-size=\"14.00\">1</text>\n",
       "</g>\n",
       "<!-- b5 -->\n",
       "<g id=\"node6\" class=\"node\">\n",
       "<title>b5</title>\n",
       "<polygon fill=\"none\" stroke=\"black\" points=\"727,-36 548,-36 548,0 727,0 727,-36\"/>\n",
       "<text text-anchor=\"start\" x=\"588.5\" y=\"-19.8\" font-family=\"Times,serif\" font-size=\"14.00\">OutOfPlaceAdder</text>\n",
       "<text text-anchor=\"start\" x=\"556\" y=\"-9\" font-family=\"monospace\" font-size=\"10.00\">bitsize=7, is_adjoint=False</text>\n",
       "</g>\n",
       "<!-- b0&#45;&gt;b5 -->\n",
       "<g id=\"edge5\" class=\"edge\">\n",
       "<title>b0-&gt;b5</title>\n",
       "<path fill=\"none\" stroke=\"black\" d=\"M865.97,-86.9C819.42,-73.07 753.8,-53.56 704.82,-39.01\"/>\n",
       "<polygon fill=\"black\" stroke=\"black\" points=\"705.52,-35.57 694.94,-36.07 703.53,-42.28 705.52,-35.57\"/>\n",
       "<text text-anchor=\"middle\" x=\"802\" y=\"-57.8\" font-family=\"Times,serif\" font-size=\"14.00\">3</text>\n",
       "</g>\n",
       "<!-- b6 -->\n",
       "<g id=\"node7\" class=\"node\">\n",
       "<title>b6</title>\n",
       "<polygon fill=\"none\" stroke=\"black\" points=\"918,-36 745,-36 745,0 918,0 918,-36\"/>\n",
       "<text text-anchor=\"start\" x=\"782.5\" y=\"-19.8\" font-family=\"Times,serif\" font-size=\"14.00\">OutOfPlaceAdder</text>\n",
       "<text text-anchor=\"start\" x=\"753\" y=\"-9\" font-family=\"monospace\" font-size=\"10.00\">bitsize=7, is_adjoint=True</text>\n",
       "</g>\n",
       "<!-- b0&#45;&gt;b6 -->\n",
       "<g id=\"edge6\" class=\"edge\">\n",
       "<title>b0-&gt;b6</title>\n",
       "<path fill=\"none\" stroke=\"black\" d=\"M904.88,-86.8C891.29,-74.24 872.68,-57.05 857.61,-43.12\"/>\n",
       "<polygon fill=\"black\" stroke=\"black\" points=\"859.81,-40.39 850.09,-36.18 855.06,-45.53 859.81,-40.39\"/>\n",
       "<text text-anchor=\"middle\" x=\"887\" y=\"-57.8\" font-family=\"Times,serif\" font-size=\"14.00\">3</text>\n",
       "</g>\n",
       "<!-- b7 -->\n",
       "<g id=\"node8\" class=\"node\">\n",
       "<title>b7</title>\n",
       "<polygon fill=\"none\" stroke=\"black\" points=\"1095,-36 936,-36 936,0 1095,0 1095,-36\"/>\n",
       "<text text-anchor=\"start\" x=\"944\" y=\"-19.8\" font-family=\"Times,serif\" font-size=\"14.00\">QuantumVariableRotation</text>\n",
       "<text text-anchor=\"start\" x=\"973\" y=\"-9\" font-family=\"monospace\" font-size=\"10.00\">phi_bitsize=24</text>\n",
       "</g>\n",
       "<!-- b0&#45;&gt;b7 -->\n",
       "<g id=\"edge7\" class=\"edge\">\n",
       "<title>b0-&gt;b7</title>\n",
       "<path fill=\"none\" stroke=\"black\" d=\"M942.12,-86.8C955.71,-74.24 974.32,-57.05 989.39,-43.12\"/>\n",
       "<polygon fill=\"black\" stroke=\"black\" points=\"991.94,-45.53 996.91,-36.18 987.19,-40.39 991.94,-45.53\"/>\n",
       "<text text-anchor=\"middle\" x=\"979\" y=\"-57.8\" font-family=\"Times,serif\" font-size=\"14.00\">1</text>\n",
       "</g>\n",
       "<!-- b8 -->\n",
       "<g id=\"node9\" class=\"node\">\n",
       "<title>b8</title>\n",
       "<polygon fill=\"none\" stroke=\"black\" points=\"1238,-36 1113,-36 1113,0 1238,0 1238,-36\"/>\n",
       "<text text-anchor=\"start\" x=\"1163\" y=\"-19.8\" font-family=\"Times,serif\" font-size=\"14.00\">Free</text>\n",
       "<text text-anchor=\"start\" x=\"1121\" y=\"-9\" font-family=\"monospace\" font-size=\"10.00\">dtype=QAny(bit ...</text>\n",
       "</g>\n",
       "<!-- b0&#45;&gt;b8 -->\n",
       "<g id=\"edge8\" class=\"edge\">\n",
       "<title>b0-&gt;b8</title>\n",
       "<path fill=\"none\" stroke=\"black\" d=\"M974.19,-86.9C1014.95,-73.15 1072.3,-53.81 1115.37,-39.28\"/>\n",
       "<polygon fill=\"black\" stroke=\"black\" points=\"1116.53,-42.58 1124.89,-36.07 1114.29,-35.95 1116.53,-42.58\"/>\n",
       "<text text-anchor=\"middle\" x=\"1069\" y=\"-57.8\" font-family=\"Times,serif\" font-size=\"14.00\">1</text>\n",
       "</g>\n",
       "<!-- b9 -->\n",
       "<g id=\"node10\" class=\"node\">\n",
       "<title>b9</title>\n",
       "<polygon fill=\"none\" stroke=\"black\" points=\"1807,-36 1256,-36 1256,0 1807,0 1807,-36\"/>\n",
       "<text text-anchor=\"start\" x=\"1510.5\" y=\"-19.8\" font-family=\"Times,serif\" font-size=\"14.00\">QROM</text>\n",
       "<text text-anchor=\"start\" x=\"1264\" y=\"-9\" font-family=\"monospace\" font-size=\"10.00\">data=(array([ ..., selection_bitsizes=(18,), target_bitsizes=(15, 15, ..., num_controls=0</text>\n",
       "</g>\n",
       "<!-- b0&#45;&gt;b9 -->\n",
       "<g id=\"edge9\" class=\"edge\">\n",
       "<title>b0-&gt;b9</title>\n",
       "<path fill=\"none\" stroke=\"black\" d=\"M1045.44,-86.95C1148.04,-72.61 1294.43,-52.14 1399.7,-37.43\"/>\n",
       "<polygon fill=\"black\" stroke=\"black\" points=\"1400.34,-40.87 1409.76,-36.02 1399.37,-33.94 1400.34,-40.87\"/>\n",
       "<text text-anchor=\"middle\" x=\"1268\" y=\"-57.8\" font-family=\"Times,serif\" font-size=\"14.00\">1</text>\n",
       "</g>\n",
       "<!-- b10 -->\n",
       "<g id=\"node11\" class=\"node\">\n",
       "<title>b10</title>\n",
       "<polygon fill=\"none\" stroke=\"black\" points=\"1950,-36 1825,-36 1825,0 1950,0 1950,-36\"/>\n",
       "<text text-anchor=\"start\" x=\"1864.5\" y=\"-19.8\" font-family=\"Times,serif\" font-size=\"14.00\">Allocate</text>\n",
       "<text text-anchor=\"start\" x=\"1833\" y=\"-9\" font-family=\"monospace\" font-size=\"10.00\">dtype=QAny(bit ...</text>\n",
       "</g>\n",
       "<!-- b0&#45;&gt;b10 -->\n",
       "<g id=\"edge10\" class=\"edge\">\n",
       "<title>b0-&gt;b10</title>\n",
       "<path fill=\"none\" stroke=\"black\" d=\"M1178.47,-95.12C1354.82,-86.44 1594.78,-69.63 1814.66,-35.98\"/>\n",
       "<polygon fill=\"black\" stroke=\"black\" points=\"1815.44,-39.4 1824.78,-34.41 1814.37,-32.48 1815.44,-39.4\"/>\n",
       "<text text-anchor=\"middle\" x=\"1675\" y=\"-57.8\" font-family=\"Times,serif\" font-size=\"14.00\">1</text>\n",
       "</g>\n",
       "<!-- b11 -->\n",
       "<g id=\"node12\" class=\"node\">\n",
       "<title>b11</title>\n",
       "<polygon fill=\"none\" stroke=\"black\" points=\"2291,-36 1968,-36 1968,0 2291,0 2291,-36\"/>\n",
       "<text text-anchor=\"start\" x=\"2012\" y=\"-19.8\" font-family=\"Times,serif\" font-size=\"14.00\">NewtonRaphsonApproxInverseSquareRoot</text>\n",
       "<text text-anchor=\"start\" x=\"1976\" y=\"-9\" font-family=\"monospace\" font-size=\"10.00\">x_sq_bitsize=18, poly_bitsize=15, target_bitsize=24</text>\n",
       "</g>\n",
       "<!-- b0&#45;&gt;b11 -->\n",
       "<g id=\"edge11\" class=\"edge\">\n",
       "<title>b0-&gt;b11</title>\n",
       "<path fill=\"none\" stroke=\"black\" d=\"M1178.06,-96.41C1325.54,-90.98 1514.67,-82.24 1682.5,-69 1784.82,-60.93 1899.9,-47.96 1987.67,-37.26\"/>\n",
       "<polygon fill=\"black\" stroke=\"black\" points=\"1988.19,-40.72 1997.69,-36.03 1987.34,-33.77 1988.19,-40.72\"/>\n",
       "<text text-anchor=\"middle\" x=\"1834\" y=\"-57.8\" font-family=\"Times,serif\" font-size=\"14.00\">1</text>\n",
       "</g>\n",
       "<!-- b12 -->\n",
       "<g id=\"node13\" class=\"node\">\n",
       "<title>b12</title>\n",
       "<polygon fill=\"none\" stroke=\"black\" points=\"2614,-36 2309,-36 2309,0 2614,0 2614,-36\"/>\n",
       "<text text-anchor=\"start\" x=\"2343\" y=\"-19.8\" font-family=\"Times,serif\" font-size=\"14.00\">PolynmomialEvaluationInverseSquareRoot</text>\n",
       "<text text-anchor=\"start\" x=\"2317\" y=\"-9\" font-family=\"monospace\" font-size=\"10.00\">x_sq_bitsize=18, poly_bitsize=15, out_bitsize=15</text>\n",
       "</g>\n",
       "<!-- b0&#45;&gt;b12 -->\n",
       "<g id=\"edge12\" class=\"edge\">\n",
       "<title>b0-&gt;b12</title>\n",
       "<path fill=\"none\" stroke=\"black\" d=\"M1178.35,-96.59C1362.64,-90.66 1617.55,-81.32 1841.5,-69 2042.43,-57.95 2095.09,-54.2 2298.84,-36.14\"/>\n",
       "<polygon fill=\"black\" stroke=\"black\" points=\"2299.32,-39.61 2308.97,-35.24 2298.7,-32.63 2299.32,-39.61\"/>\n",
       "<text text-anchor=\"middle\" x=\"2083\" y=\"-57.8\" font-family=\"Times,serif\" font-size=\"14.00\">1</text>\n",
       "</g>\n",
       "</g>\n",
       "</svg>"
      ],
      "text/plain": [
       "<IPython.core.display.SVG object>"
      ]
     },
     "metadata": {},
     "output_type": "display_data"
    },
    {
     "data": {
      "text/markdown": [
       "#### Counts totals:\n",
       " - `Allocate(dtype=QAny(bitsize=15))`: 5\n",
       " - `Allocate(dtype=QAny(bitsize=24))`: 1\n",
       " - `Free(dtype=QAny(bitsize=15))`: 5\n",
       " - `Free(dtype=QAny(bitsize=18))`: 1\n",
       " - `Free(dtype=QAny(bitsize=24))`: 1\n",
       " - `NewtonRaphsonApproxInverseSquareRoot(x_sq_bitsize=18, poly_bitsize=15, target_bitsize=24)`: 1\n",
       " - `OutOfPlaceAdder(bitsize=7, is_adjoint=False)`: 3\n",
       " - `OutOfPlaceAdder(bitsize=7, is_adjoint=True)`: 3\n",
       " - `PolynmomialEvaluationInverseSquareRoot(x_sq_bitsize=18, poly_bitsize=15, out_bitsize=15)`: 1\n",
       " - `QROM(data=(array([    0, 16383, 13377, ...,    73,    73,    73]), array([   0, 8128, 4446, ...,   24,   24,   24]), array([   0, 5449, 2089, ...,   11,   11,   11]), array([   0, 2437,  733, ...,    4,    4,    4])), selection_bitsizes=(18,), target_bitsizes=(15, 15, 15, 15), num_controls=0)`: 1\n",
       " - `QuantumVariableRotation(phi_bitsize=24)`: 1\n",
       " - `SumOfSquares(bitsize=8, k=3)`: 1"
      ],
      "text/plain": [
       "<IPython.core.display.Markdown object>"
      ]
     },
     "metadata": {},
     "output_type": "display_data"
    }
   ],
   "source": [
    "from qualtran.resource_counting.generalizers import ignore_split_join\n",
    "pair_potential_g, pair_potential_sigma = pair_potential.call_graph(max_depth=1, generalizer=ignore_split_join)\n",
    "show_call_graph(pair_potential_g)\n",
    "show_counts_sigma(pair_potential_sigma)"
   ]
  },
  {
   "cell_type": "markdown",
   "id": "a3728b06",
   "metadata": {
    "cq.autogen": "PotentialEnergy.bloq_doc.md"
   },
   "source": [
    "## `PotentialEnergy`\n",
    "Bloq for a Coulombic Unitary.\n",
    "\n",
    "This is a basic implementation which just iterates through num_elec *\n",
    "(num_elec - 1) electron pairs.\n",
    "\n",
    "#### Parameters\n",
    " - `num_elec`: The number of electrons.\n",
    " - `num_grid`: The number of grid points in each of the x, y and z directions. In total, for a cubic grid there are N = num_grid**3 grid points. The number of bits required (in each spatial dimension) is thus log N + 1, where the + 1 is for the sign bit.\n",
    " - `label`: A label for the bloqs short name. The potential bloq can encode any sort of Coulomb interaction (electron-electron, election-ion, ion-ion,...) so can be reused. This label is to distinguish these different cases. \n",
    "\n",
    "#### Registers\n",
    " - `system`: The system register of size eta * 3 * nb \n",
    "\n",
    "#### References\n",
    " - [Faster quantum chemistry simulation on fault-tolerant quantum     computers](https://iopscience.iop.org/article/10.1088/1367-2630/14/11/115023/meta). \n"
   ]
  },
  {
   "cell_type": "code",
   "execution_count": 22,
   "id": "107f7336",
   "metadata": {
    "cq.autogen": "PotentialEnergy.bloq_doc.py"
   },
   "outputs": [],
   "source": [
    "from qualtran.bloqs.chemistry.trotter.grid_ham.potential import PotentialEnergy"
   ]
  },
  {
   "cell_type": "markdown",
   "id": "86aa0dec",
   "metadata": {
    "cq.autogen": "PotentialEnergy.example_instances.md"
   },
   "source": [
    "### Example Instances"
   ]
  },
  {
   "cell_type": "code",
   "execution_count": 23,
   "id": "f2c8ba5e",
   "metadata": {
    "cq.autogen": "PotentialEnergy.potential_energy"
   },
   "outputs": [],
   "source": [
    "nelec = 12\n",
    "ngrid_x = 2 * 8 + 1\n",
    "potential_energy = PotentialEnergy(nelec, ngrid_x)"
   ]
  },
  {
   "cell_type": "markdown",
   "id": "c74d2828",
   "metadata": {
    "cq.autogen": "PotentialEnergy.graphical_signature.md"
   },
   "source": [
    "#### Graphical Signature"
   ]
  },
  {
   "cell_type": "code",
   "execution_count": 24,
   "id": "7509a7f3",
   "metadata": {
    "cq.autogen": "PotentialEnergy.graphical_signature.py"
   },
   "outputs": [
    {
     "data": {
      "application/vnd.jupyter.widget-view+json": {
       "model_id": "a0ab03abeacc477d99f98c6a6c0d5010",
       "version_major": 2,
       "version_minor": 0
      },
      "text/plain": [
       "HBox(children=(Output(outputs=({'output_type': 'display_data', 'data': {'text/plain': '<IPython.core.display.M…"
      ]
     },
     "metadata": {},
     "output_type": "display_data"
    }
   ],
   "source": [
    "from qualtran.drawing import show_bloqs\n",
    "show_bloqs([potential_energy],\n",
    "           ['`potential_energy`'])"
   ]
  },
  {
   "cell_type": "markdown",
   "id": "278e75f6",
   "metadata": {
    "cq.autogen": "PotentialEnergy.call_graph.md"
   },
   "source": [
    "### Call Graph"
   ]
  },
  {
   "cell_type": "code",
   "execution_count": 25,
   "id": "c7ee3593",
   "metadata": {
    "cq.autogen": "PotentialEnergy.call_graph.py"
   },
   "outputs": [
    {
     "data": {
      "image/svg+xml": [
       "<svg xmlns=\"http://www.w3.org/2000/svg\" xmlns:xlink=\"http://www.w3.org/1999/xlink\" width=\"517pt\" height=\"131pt\" viewBox=\"0.00 0.00 517.00 131.00\">\n",
       "<g id=\"graph0\" class=\"graph\" transform=\"scale(1 1) rotate(0) translate(4 127)\">\n",
       "<title>counts</title>\n",
       "<polygon fill=\"white\" stroke=\"transparent\" points=\"-4,4 -4,-127 513,-127 513,4 -4,4\"/>\n",
       "<!-- b0 -->\n",
       "<g id=\"node1\" class=\"node\">\n",
       "<title>b0</title>\n",
       "<polygon fill=\"none\" stroke=\"black\" points=\"419,-123 90,-123 90,-87 419,-87 419,-123\"/>\n",
       "<text text-anchor=\"start\" x=\"210.5\" y=\"-106.8\" font-family=\"Times,serif\" font-size=\"14.00\">PotentialEnergy</text>\n",
       "<text text-anchor=\"start\" x=\"98\" y=\"-96\" font-family=\"monospace\" font-size=\"10.00\">num_elec=12, num_grid=17, poly_bitsize=15, label='V'</text>\n",
       "</g>\n",
       "<!-- b1 -->\n",
       "<g id=\"node2\" class=\"node\">\n",
       "<title>b1</title>\n",
       "<polygon fill=\"none\" stroke=\"black\" points=\"509,-36 0,-36 0,0 509,0 509,-36\"/>\n",
       "<text text-anchor=\"start\" x=\"219.5\" y=\"-19.8\" font-family=\"Times,serif\" font-size=\"14.00\">PairPotential</text>\n",
       "<text text-anchor=\"start\" x=\"8\" y=\"-9\" font-family=\"monospace\" font-size=\"10.00\">bitsize=6, qrom_data=((0, 163 ..., poly_bitsize=15, inv_sqrt_bitsize=24, label='V'</text>\n",
       "</g>\n",
       "<!-- b0&#45;&gt;b1 -->\n",
       "<g id=\"edge1\" class=\"edge\">\n",
       "<title>b0-&gt;b1</title>\n",
       "<path fill=\"none\" stroke=\"black\" d=\"M254.5,-86.8C254.5,-75.16 254.5,-59.55 254.5,-46.24\"/>\n",
       "<polygon fill=\"black\" stroke=\"black\" points=\"258,-46.18 254.5,-36.18 251,-46.18 258,-46.18\"/>\n",
       "<text text-anchor=\"middle\" x=\"261.5\" y=\"-57.8\" font-family=\"Times,serif\" font-size=\"14.00\">66</text>\n",
       "</g>\n",
       "</g>\n",
       "</svg>"
      ],
      "text/plain": [
       "<IPython.core.display.SVG object>"
      ]
     },
     "metadata": {},
     "output_type": "display_data"
    },
    {
     "data": {
      "text/markdown": [
       "#### Counts totals:\n",
       " - `PairPotential(bitsize=6, poly_bitsize=15, inv_sqrt_bitsize=24, label='V')`: 66"
      ],
      "text/plain": [
       "<IPython.core.display.Markdown object>"
      ]
     },
     "metadata": {},
     "output_type": "display_data"
    }
   ],
   "source": [
    "from qualtran.resource_counting.generalizers import ignore_split_join\n",
    "potential_energy_g, potential_energy_sigma = potential_energy.call_graph(max_depth=1, generalizer=ignore_split_join)\n",
    "show_call_graph(potential_energy_g)\n",
    "show_counts_sigma(potential_energy_sigma)"
   ]
  }
 ],
 "metadata": {
  "kernelspec": {
   "display_name": "Python 3",
   "language": "python",
   "name": "python3"
  },
  "language_info": {
   "codemirror_mode": {
    "name": "ipython",
    "version": 3
   },
   "file_extension": ".py",
   "mimetype": "text/x-python",
   "name": "python",
   "nbconvert_exporter": "python",
   "pygments_lexer": "ipython3",
   "version": "3.11.8"
  },
  "widgets": {
   "application/vnd.jupyter.widget-state+json": {
    "state": {
     "017f6d5150874e748658fd54060db773": {
      "model_module": "@jupyter-widgets/output",
      "model_module_version": "1.0.0",
      "model_name": "OutputModel",
      "state": {
       "_dom_classes": [],
       "_model_module": "@jupyter-widgets/output",
       "_model_module_version": "1.0.0",
       "_model_name": "OutputModel",
       "_view_count": null,
       "_view_module": "@jupyter-widgets/output",
       "_view_module_version": "1.0.0",
       "_view_name": "OutputView",
       "layout": "IPY_MODEL_442180bbaa96447f8cb3ec3240df8a9e",
       "msg_id": "",
       "outputs": [
        {
         "data": {
          "text/markdown": "`potential_energy`",
          "text/plain": "<IPython.core.display.Markdown object>"
         },
         "metadata": {},
         "output_type": "display_data"
        },
        {
         "data": {
          "image/svg+xml": "<svg xmlns=\"http://www.w3.org/2000/svg\" xmlns:xlink=\"http://www.w3.org/1999/xlink\" width=\"348pt\" height=\"1934pt\" viewBox=\"0.00 0.00 348.00 1934.00\">\n<g id=\"graph0\" class=\"graph\" transform=\"scale(1 1) rotate(0) translate(4 1930)\">\n<title>my_graph</title>\n<polygon fill=\"white\" stroke=\"transparent\" points=\"-4,4 -4,-1930 344,-1930 344,4 -4,4\"/>\n<!-- system_G99 -->\n<g id=\"node1\" class=\"node\">\n<title>system_G99</title>\n<text text-anchor=\"middle\" x=\"46\" y=\"-1904.3\" font-family=\"Times,serif\" font-size=\"14.00\">system[0, 0]</text>\n</g>\n<!-- PotentialEnergy -->\n<g id=\"node37\" class=\"node\">\n<title>PotentialEnergy</title>\n<polygon fill=\"none\" stroke=\"black\" points=\"129,-1341 129,-1358 211,-1358 211,-1341 129,-1341\"/>\n<text text-anchor=\"start\" x=\"152.5\" y=\"-1347\" font-family=\"Times,serif\" font-size=\"10.00\">U_V(dt)</text>\n<polygon fill=\"none\" stroke=\"black\" points=\"129,-1320 129,-1341 211,-1341 211,-1320 129,-1320\"/>\n<text text-anchor=\"start\" x=\"135.5\" y=\"-1326.8\" font-family=\"Times,serif\" font-size=\"14.00\">system[0, 0]</text>\n<polygon fill=\"none\" stroke=\"black\" points=\"129,-1299 129,-1320 211,-1320 211,-1299 129,-1299\"/>\n<text text-anchor=\"start\" x=\"135.5\" y=\"-1305.8\" font-family=\"Times,serif\" font-size=\"14.00\">system[0, 1]</text>\n<polygon fill=\"none\" stroke=\"black\" points=\"129,-1278 129,-1299 211,-1299 211,-1278 129,-1278\"/>\n<text text-anchor=\"start\" x=\"135.5\" y=\"-1284.8\" font-family=\"Times,serif\" font-size=\"14.00\">system[0, 2]</text>\n<polygon fill=\"none\" stroke=\"black\" points=\"129,-1257 129,-1278 211,-1278 211,-1257 129,-1257\"/>\n<text text-anchor=\"start\" x=\"135.5\" y=\"-1263.8\" font-family=\"Times,serif\" font-size=\"14.00\">system[1, 0]</text>\n<polygon fill=\"none\" stroke=\"black\" points=\"129,-1236 129,-1257 211,-1257 211,-1236 129,-1236\"/>\n<text text-anchor=\"start\" x=\"135.5\" y=\"-1242.8\" font-family=\"Times,serif\" font-size=\"14.00\">system[1, 1]</text>\n<polygon fill=\"none\" stroke=\"black\" points=\"129,-1215 129,-1236 211,-1236 211,-1215 129,-1215\"/>\n<text text-anchor=\"start\" x=\"135.5\" y=\"-1221.8\" font-family=\"Times,serif\" font-size=\"14.00\">system[1, 2]</text>\n<polygon fill=\"none\" stroke=\"black\" points=\"129,-1194 129,-1215 211,-1215 211,-1194 129,-1194\"/>\n<text text-anchor=\"start\" x=\"135.5\" y=\"-1200.8\" font-family=\"Times,serif\" font-size=\"14.00\">system[2, 0]</text>\n<polygon fill=\"none\" stroke=\"black\" points=\"129,-1173 129,-1194 211,-1194 211,-1173 129,-1173\"/>\n<text text-anchor=\"start\" x=\"135.5\" y=\"-1179.8\" font-family=\"Times,serif\" font-size=\"14.00\">system[2, 1]</text>\n<polygon fill=\"none\" stroke=\"black\" points=\"129,-1152 129,-1173 211,-1173 211,-1152 129,-1152\"/>\n<text text-anchor=\"start\" x=\"135.5\" y=\"-1158.8\" font-family=\"Times,serif\" font-size=\"14.00\">system[2, 2]</text>\n<polygon fill=\"none\" stroke=\"black\" points=\"129,-1131 129,-1152 211,-1152 211,-1131 129,-1131\"/>\n<text text-anchor=\"start\" x=\"135.5\" y=\"-1137.8\" font-family=\"Times,serif\" font-size=\"14.00\">system[3, 0]</text>\n<polygon fill=\"none\" stroke=\"black\" points=\"129,-1110 129,-1131 211,-1131 211,-1110 129,-1110\"/>\n<text text-anchor=\"start\" x=\"135.5\" y=\"-1116.8\" font-family=\"Times,serif\" font-size=\"14.00\">system[3, 1]</text>\n<polygon fill=\"none\" stroke=\"black\" points=\"129,-1089 129,-1110 211,-1110 211,-1089 129,-1089\"/>\n<text text-anchor=\"start\" x=\"135.5\" y=\"-1095.8\" font-family=\"Times,serif\" font-size=\"14.00\">system[3, 2]</text>\n<polygon fill=\"none\" stroke=\"black\" points=\"129,-1068 129,-1089 211,-1089 211,-1068 129,-1068\"/>\n<text text-anchor=\"start\" x=\"135.5\" y=\"-1074.8\" font-family=\"Times,serif\" font-size=\"14.00\">system[4, 0]</text>\n<polygon fill=\"none\" stroke=\"black\" points=\"129,-1047 129,-1068 211,-1068 211,-1047 129,-1047\"/>\n<text text-anchor=\"start\" x=\"135.5\" y=\"-1053.8\" font-family=\"Times,serif\" font-size=\"14.00\">system[4, 1]</text>\n<polygon fill=\"none\" stroke=\"black\" points=\"129,-1026 129,-1047 211,-1047 211,-1026 129,-1026\"/>\n<text text-anchor=\"start\" x=\"135.5\" y=\"-1032.8\" font-family=\"Times,serif\" font-size=\"14.00\">system[4, 2]</text>\n<polygon fill=\"none\" stroke=\"black\" points=\"129,-1005 129,-1026 211,-1026 211,-1005 129,-1005\"/>\n<text text-anchor=\"start\" x=\"135.5\" y=\"-1011.8\" font-family=\"Times,serif\" font-size=\"14.00\">system[5, 0]</text>\n<polygon fill=\"none\" stroke=\"black\" points=\"129,-984 129,-1005 211,-1005 211,-984 129,-984\"/>\n<text text-anchor=\"start\" x=\"135.5\" y=\"-990.8\" font-family=\"Times,serif\" font-size=\"14.00\">system[5, 1]</text>\n<polygon fill=\"none\" stroke=\"black\" points=\"129,-963 129,-984 211,-984 211,-963 129,-963\"/>\n<text text-anchor=\"start\" x=\"135.5\" y=\"-969.8\" font-family=\"Times,serif\" font-size=\"14.00\">system[5, 2]</text>\n<polygon fill=\"none\" stroke=\"black\" points=\"129,-942 129,-963 211,-963 211,-942 129,-942\"/>\n<text text-anchor=\"start\" x=\"135.5\" y=\"-948.8\" font-family=\"Times,serif\" font-size=\"14.00\">system[6, 0]</text>\n<polygon fill=\"none\" stroke=\"black\" points=\"129,-921 129,-942 211,-942 211,-921 129,-921\"/>\n<text text-anchor=\"start\" x=\"135.5\" y=\"-927.8\" font-family=\"Times,serif\" font-size=\"14.00\">system[6, 1]</text>\n<polygon fill=\"none\" stroke=\"black\" points=\"129,-900 129,-921 211,-921 211,-900 129,-900\"/>\n<text text-anchor=\"start\" x=\"135.5\" y=\"-906.8\" font-family=\"Times,serif\" font-size=\"14.00\">system[6, 2]</text>\n<polygon fill=\"none\" stroke=\"black\" points=\"129,-879 129,-900 211,-900 211,-879 129,-879\"/>\n<text text-anchor=\"start\" x=\"135.5\" y=\"-885.8\" font-family=\"Times,serif\" font-size=\"14.00\">system[7, 0]</text>\n<polygon fill=\"none\" stroke=\"black\" points=\"129,-858 129,-879 211,-879 211,-858 129,-858\"/>\n<text text-anchor=\"start\" x=\"135.5\" y=\"-864.8\" font-family=\"Times,serif\" font-size=\"14.00\">system[7, 1]</text>\n<polygon fill=\"none\" stroke=\"black\" points=\"129,-837 129,-858 211,-858 211,-837 129,-837\"/>\n<text text-anchor=\"start\" x=\"135.5\" y=\"-843.8\" font-family=\"Times,serif\" font-size=\"14.00\">system[7, 2]</text>\n<polygon fill=\"none\" stroke=\"black\" points=\"129,-816 129,-837 211,-837 211,-816 129,-816\"/>\n<text text-anchor=\"start\" x=\"135.5\" y=\"-822.8\" font-family=\"Times,serif\" font-size=\"14.00\">system[8, 0]</text>\n<polygon fill=\"none\" stroke=\"black\" points=\"129,-795 129,-816 211,-816 211,-795 129,-795\"/>\n<text text-anchor=\"start\" x=\"135.5\" y=\"-801.8\" font-family=\"Times,serif\" font-size=\"14.00\">system[8, 1]</text>\n<polygon fill=\"none\" stroke=\"black\" points=\"129,-774 129,-795 211,-795 211,-774 129,-774\"/>\n<text text-anchor=\"start\" x=\"135.5\" y=\"-780.8\" font-family=\"Times,serif\" font-size=\"14.00\">system[8, 2]</text>\n<polygon fill=\"none\" stroke=\"black\" points=\"129,-753 129,-774 211,-774 211,-753 129,-753\"/>\n<text text-anchor=\"start\" x=\"135.5\" y=\"-759.8\" font-family=\"Times,serif\" font-size=\"14.00\">system[9, 0]</text>\n<polygon fill=\"none\" stroke=\"black\" points=\"129,-732 129,-753 211,-753 211,-732 129,-732\"/>\n<text text-anchor=\"start\" x=\"135.5\" y=\"-738.8\" font-family=\"Times,serif\" font-size=\"14.00\">system[9, 1]</text>\n<polygon fill=\"none\" stroke=\"black\" points=\"129,-711 129,-732 211,-732 211,-711 129,-711\"/>\n<text text-anchor=\"start\" x=\"135.5\" y=\"-717.8\" font-family=\"Times,serif\" font-size=\"14.00\">system[9, 2]</text>\n<polygon fill=\"none\" stroke=\"black\" points=\"129,-690 129,-711 211,-711 211,-690 129,-690\"/>\n<text text-anchor=\"start\" x=\"132\" y=\"-696.8\" font-family=\"Times,serif\" font-size=\"14.00\">system[10, 0]</text>\n<polygon fill=\"none\" stroke=\"black\" points=\"129,-669 129,-690 211,-690 211,-669 129,-669\"/>\n<text text-anchor=\"start\" x=\"132\" y=\"-675.8\" font-family=\"Times,serif\" font-size=\"14.00\">system[10, 1]</text>\n<polygon fill=\"none\" stroke=\"black\" points=\"129,-648 129,-669 211,-669 211,-648 129,-648\"/>\n<text text-anchor=\"start\" x=\"132\" y=\"-654.8\" font-family=\"Times,serif\" font-size=\"14.00\">system[10, 2]</text>\n<polygon fill=\"none\" stroke=\"black\" points=\"129,-627 129,-648 211,-648 211,-627 129,-627\"/>\n<text text-anchor=\"start\" x=\"132\" y=\"-633.8\" font-family=\"Times,serif\" font-size=\"14.00\">system[11, 0]</text>\n<polygon fill=\"none\" stroke=\"black\" points=\"129,-606 129,-627 211,-627 211,-606 129,-606\"/>\n<text text-anchor=\"start\" x=\"132\" y=\"-612.8\" font-family=\"Times,serif\" font-size=\"14.00\">system[11, 1]</text>\n<polygon fill=\"none\" stroke=\"black\" points=\"129,-585 129,-606 211,-606 211,-585 129,-585\"/>\n<text text-anchor=\"start\" x=\"132\" y=\"-591.8\" font-family=\"Times,serif\" font-size=\"14.00\">system[11, 2]</text>\n</g>\n<!-- system_G99&#45;&gt;PotentialEnergy -->\n<g id=\"edge1\" class=\"edge\">\n<title>system_G99:e-&gt;PotentialEnergy:w</title>\n<path fill=\"none\" stroke=\"black\" d=\"M90,-1908C105.56,-1908 112.5,-1366.5 127.52,-1332.66\"/>\n<ellipse fill=\"black\" stroke=\"black\" cx=\"128.33\" cy=\"-1331.75\" rx=\"1\" ry=\"1\"/>\n<text text-anchor=\"middle\" x=\"110.5\" y=\"-1605\" font-family=\"Times,serif\" font-size=\"10.00\">6</text>\n</g>\n<!-- system_G52 -->\n<g id=\"node2\" class=\"node\">\n<title>system_G52</title>\n<text text-anchor=\"middle\" x=\"46\" y=\"-1850.3\" font-family=\"Times,serif\" font-size=\"14.00\">system[0, 1]</text>\n</g>\n<!-- system_G52&#45;&gt;PotentialEnergy -->\n<g id=\"edge2\" class=\"edge\">\n<title>system_G52:e-&gt;PotentialEnergy:w</title>\n<path fill=\"none\" stroke=\"black\" d=\"M90,-1854C104.68,-1854 113.3,-1343.47 127.6,-1311.56\"/>\n<ellipse fill=\"black\" stroke=\"black\" cx=\"128.33\" cy=\"-1310.74\" rx=\"1\" ry=\"1\"/>\n<text text-anchor=\"middle\" x=\"110.5\" y=\"-1568\" font-family=\"Times,serif\" font-size=\"10.00\">6</text>\n</g>\n<!-- system_G22 -->\n<g id=\"node3\" class=\"node\">\n<title>system_G22</title>\n<text text-anchor=\"middle\" x=\"46\" y=\"-1796.3\" font-family=\"Times,serif\" font-size=\"14.00\">system[0, 2]</text>\n</g>\n<!-- system_G22&#45;&gt;PotentialEnergy -->\n<g id=\"edge3\" class=\"edge\">\n<title>system_G22:e-&gt;PotentialEnergy:w</title>\n<path fill=\"none\" stroke=\"black\" d=\"M90,-1800C103.74,-1800 114.02,-1324.3 127.51,-1290.85\"/>\n<ellipse fill=\"black\" stroke=\"black\" cx=\"128.37\" cy=\"-1289.78\" rx=\"1\" ry=\"1\"/>\n<text text-anchor=\"middle\" x=\"110.5\" y=\"-1532\" font-family=\"Times,serif\" font-size=\"10.00\">6</text>\n</g>\n<!-- system_G36 -->\n<g id=\"node4\" class=\"node\">\n<title>system_G36</title>\n<text text-anchor=\"middle\" x=\"46\" y=\"-1742.3\" font-family=\"Times,serif\" font-size=\"14.00\">system[1, 0]</text>\n</g>\n<!-- system_G36&#45;&gt;PotentialEnergy -->\n<g id=\"edge4\" class=\"edge\">\n<title>system_G36:e-&gt;PotentialEnergy:w</title>\n<path fill=\"none\" stroke=\"black\" d=\"M90,-1746C115.92,-1746 103.11,-1293.78 126.9,-1269.05\"/>\n<ellipse fill=\"black\" stroke=\"black\" cx=\"128.11\" cy=\"-1268.45\" rx=\"1\" ry=\"1\"/>\n<text text-anchor=\"middle\" x=\"110.5\" y=\"-1481\" font-family=\"Times,serif\" font-size=\"10.00\">6</text>\n</g>\n<!-- system_G92 -->\n<g id=\"node5\" class=\"node\">\n<title>system_G92</title>\n<text text-anchor=\"middle\" x=\"46\" y=\"-1688.3\" font-family=\"Times,serif\" font-size=\"14.00\">system[1, 1]</text>\n</g>\n<!-- system_G92&#45;&gt;PotentialEnergy -->\n<g id=\"edge5\" class=\"edge\">\n<title>system_G92:e-&gt;PotentialEnergy:w</title>\n<path fill=\"none\" stroke=\"black\" d=\"M90,-1692C114.14,-1692 104.74,-1271 127.04,-1247.98\"/>\n<ellipse fill=\"black\" stroke=\"black\" cx=\"128.11\" cy=\"-1247.45\" rx=\"1\" ry=\"1\"/>\n<text text-anchor=\"middle\" x=\"110.5\" y=\"-1445\" font-family=\"Times,serif\" font-size=\"10.00\">6</text>\n</g>\n<!-- system_G101 -->\n<g id=\"node6\" class=\"node\">\n<title>system_G101</title>\n<text text-anchor=\"middle\" x=\"46\" y=\"-1634.3\" font-family=\"Times,serif\" font-size=\"14.00\">system[1, 2]</text>\n</g>\n<!-- system_G101&#45;&gt;PotentialEnergy -->\n<g id=\"edge6\" class=\"edge\">\n<title>system_G101:e-&gt;PotentialEnergy:w</title>\n<path fill=\"none\" stroke=\"black\" d=\"M90,-1638C112.36,-1638 106.37,-1248.22 127.18,-1226.91\"/>\n<ellipse fill=\"black\" stroke=\"black\" cx=\"128.11\" cy=\"-1226.45\" rx=\"1\" ry=\"1\"/>\n<text text-anchor=\"middle\" x=\"110.5\" y=\"-1410\" font-family=\"Times,serif\" font-size=\"10.00\">6</text>\n</g>\n<!-- system_G12 -->\n<g id=\"node7\" class=\"node\">\n<title>system_G12</title>\n<text text-anchor=\"middle\" x=\"46\" y=\"-1580.3\" font-family=\"Times,serif\" font-size=\"14.00\">system[2, 0]</text>\n</g>\n<!-- system_G12&#45;&gt;PotentialEnergy -->\n<g id=\"edge7\" class=\"edge\">\n<title>system_G12:e-&gt;PotentialEnergy:w</title>\n<path fill=\"none\" stroke=\"black\" d=\"M90,-1584C110.51,-1584 108.02,-1228.32 127.09,-1206.09\"/>\n<ellipse fill=\"black\" stroke=\"black\" cx=\"128.13\" cy=\"-1205.49\" rx=\"1\" ry=\"1\"/>\n<text text-anchor=\"middle\" x=\"110.5\" y=\"-1386\" font-family=\"Times,serif\" font-size=\"10.00\">6</text>\n</g>\n<!-- system_G38 -->\n<g id=\"node8\" class=\"node\">\n<title>system_G38</title>\n<text text-anchor=\"middle\" x=\"46\" y=\"-1526.3\" font-family=\"Times,serif\" font-size=\"14.00\">system[2, 1]</text>\n</g>\n<!-- system_G38&#45;&gt;PotentialEnergy -->\n<g id=\"edge8\" class=\"edge\">\n<title>system_G38:e-&gt;PotentialEnergy:w</title>\n<path fill=\"none\" stroke=\"black\" d=\"M90,-1530C108.74,-1530 109.62,-1205.29 127.24,-1184.99\"/>\n<ellipse fill=\"black\" stroke=\"black\" cx=\"128.13\" cy=\"-1184.49\" rx=\"1\" ry=\"1\"/>\n<text text-anchor=\"middle\" x=\"110.5\" y=\"-1349\" font-family=\"Times,serif\" font-size=\"10.00\">6</text>\n</g>\n<!-- system_G94 -->\n<g id=\"node9\" class=\"node\">\n<title>system_G94</title>\n<text text-anchor=\"middle\" x=\"46\" y=\"-1472.3\" font-family=\"Times,serif\" font-size=\"14.00\">system[2, 2]</text>\n</g>\n<!-- system_G94&#45;&gt;PotentialEnergy -->\n<g id=\"edge9\" class=\"edge\">\n<title>system_G94:e-&gt;PotentialEnergy:w</title>\n<path fill=\"none\" stroke=\"black\" d=\"M90,-1476C106.91,-1476 111.18,-1184.62 127.2,-1164.13\"/>\n<ellipse fill=\"black\" stroke=\"black\" cx=\"128.15\" cy=\"-1163.53\" rx=\"1\" ry=\"1\"/>\n<text text-anchor=\"middle\" x=\"110.5\" y=\"-1313\" font-family=\"Times,serif\" font-size=\"10.00\">6</text>\n</g>\n<!-- system_G106 -->\n<g id=\"node10\" class=\"node\">\n<title>system_G106</title>\n<text text-anchor=\"middle\" x=\"46\" y=\"-1418.3\" font-family=\"Times,serif\" font-size=\"14.00\">system[3, 0]</text>\n</g>\n<!-- system_G106&#45;&gt;PotentialEnergy -->\n<g id=\"edge10\" class=\"edge\">\n<title>system_G106:e-&gt;PotentialEnergy:w</title>\n<path fill=\"none\" stroke=\"black\" d=\"M90,-1422C120.68,-1422 98.67,-1154.97 126.88,-1142.45\"/>\n<ellipse fill=\"black\" stroke=\"black\" cx=\"128.02\" cy=\"-1142.21\" rx=\"1\" ry=\"1\"/>\n<text text-anchor=\"middle\" x=\"110.5\" y=\"-1259\" font-family=\"Times,serif\" font-size=\"10.00\">6</text>\n</g>\n<!-- system_G59 -->\n<g id=\"node11\" class=\"node\">\n<title>system_G59</title>\n<text text-anchor=\"middle\" x=\"46\" y=\"-1364.3\" font-family=\"Times,serif\" font-size=\"14.00\">system[3, 1]</text>\n</g>\n<!-- system_G59&#45;&gt;PotentialEnergy -->\n<g id=\"edge11\" class=\"edge\">\n<title>system_G59:e-&gt;PotentialEnergy:w</title>\n<path fill=\"none\" stroke=\"black\" d=\"M90,-1368C117.02,-1368 102.09,-1134.32 126.82,-1121.54\"/>\n<ellipse fill=\"black\" stroke=\"black\" cx=\"128.03\" cy=\"-1121.24\" rx=\"1\" ry=\"1\"/>\n<text text-anchor=\"middle\" x=\"110.5\" y=\"-1232\" font-family=\"Times,serif\" font-size=\"10.00\">6</text>\n</g>\n<!-- system_G11 -->\n<g id=\"node12\" class=\"node\">\n<title>system_G11</title>\n<text text-anchor=\"middle\" x=\"46\" y=\"-1310.3\" font-family=\"Times,serif\" font-size=\"14.00\">system[3, 2]</text>\n</g>\n<!-- system_G11&#45;&gt;PotentialEnergy -->\n<g id=\"edge12\" class=\"edge\">\n<title>system_G11:e-&gt;PotentialEnergy:w</title>\n<path fill=\"none\" stroke=\"black\" d=\"M90,-1314C113.41,-1314 105.38,-1113.17 126.83,-1100.61\"/>\n<ellipse fill=\"black\" stroke=\"black\" cx=\"128.04\" cy=\"-1100.27\" rx=\"1\" ry=\"1\"/>\n<text text-anchor=\"middle\" x=\"110.5\" y=\"-1197\" font-family=\"Times,serif\" font-size=\"10.00\">6</text>\n</g>\n<!-- system_G84 -->\n<g id=\"node13\" class=\"node\">\n<title>system_G84</title>\n<text text-anchor=\"middle\" x=\"46\" y=\"-1256.3\" font-family=\"Times,serif\" font-size=\"14.00\">system[4, 0]</text>\n</g>\n<!-- system_G84&#45;&gt;PotentialEnergy -->\n<g id=\"edge13\" class=\"edge\">\n<title>system_G84:e-&gt;PotentialEnergy:w</title>\n<path fill=\"none\" stroke=\"black\" d=\"M90,-1260C109.77,-1260 108.56,-1092.86 126.69,-1079.81\"/>\n<ellipse fill=\"black\" stroke=\"black\" cx=\"128.06\" cy=\"-1079.33\" rx=\"1\" ry=\"1\"/>\n<text text-anchor=\"middle\" x=\"110.5\" y=\"-1167\" font-family=\"Times,serif\" font-size=\"10.00\">6</text>\n</g>\n<!-- system_G42 -->\n<g id=\"node14\" class=\"node\">\n<title>system_G42</title>\n<text text-anchor=\"middle\" x=\"46\" y=\"-1202.3\" font-family=\"Times,serif\" font-size=\"14.00\">system[4, 1]</text>\n</g>\n<!-- system_G42&#45;&gt;PotentialEnergy -->\n<g id=\"edge14\" class=\"edge\">\n<title>system_G42:e-&gt;PotentialEnergy:w</title>\n<path fill=\"none\" stroke=\"black\" d=\"M90,-1206C119.94,-1206 103.19,-1170.9 111,-1142 115.79,-1124.29 110.37,-1063.05 126.88,-1058.29\"/>\n<ellipse fill=\"black\" stroke=\"black\" cx=\"128.01\" cy=\"-1058.14\" rx=\"1\" ry=\"1\"/>\n<text text-anchor=\"middle\" x=\"110.5\" y=\"-1148\" font-family=\"Times,serif\" font-size=\"10.00\">6</text>\n</g>\n<!-- system_G8 -->\n<g id=\"node15\" class=\"node\">\n<title>system_G8</title>\n<text text-anchor=\"middle\" x=\"46\" y=\"-1148.3\" font-family=\"Times,serif\" font-size=\"14.00\">system[4, 2]</text>\n</g>\n<!-- system_G8&#45;&gt;PotentialEnergy -->\n<g id=\"edge15\" class=\"edge\">\n<title>system_G8:e-&gt;PotentialEnergy:w</title>\n<path fill=\"none\" stroke=\"black\" d=\"M90,-1152C143.23,-1152 76.89,-1040.12 126.85,-1037.06\"/>\n<ellipse fill=\"black\" stroke=\"black\" cx=\"128\" cy=\"-1037.03\" rx=\"1\" ry=\"1\"/>\n<text text-anchor=\"middle\" x=\"110.5\" y=\"-1140\" font-family=\"Times,serif\" font-size=\"10.00\">6</text>\n</g>\n<!-- system_G19 -->\n<g id=\"node16\" class=\"node\">\n<title>system_G19</title>\n<text text-anchor=\"middle\" x=\"46\" y=\"-1094.3\" font-family=\"Times,serif\" font-size=\"14.00\">system[5, 0]</text>\n</g>\n<!-- system_G19&#45;&gt;PotentialEnergy -->\n<g id=\"edge16\" class=\"edge\">\n<title>system_G19:e-&gt;PotentialEnergy:w</title>\n<path fill=\"none\" stroke=\"black\" d=\"M90,-1098C129.57,-1098 90.24,-1019.17 126.73,-1016.09\"/>\n<ellipse fill=\"black\" stroke=\"black\" cx=\"128\" cy=\"-1016.04\" rx=\"1\" ry=\"1\"/>\n<text text-anchor=\"middle\" x=\"110.5\" y=\"-1038\" font-family=\"Times,serif\" font-size=\"10.00\">6</text>\n</g>\n<!-- system_G28 -->\n<g id=\"node17\" class=\"node\">\n<title>system_G28</title>\n<text text-anchor=\"middle\" x=\"46\" y=\"-1040.3\" font-family=\"Times,serif\" font-size=\"14.00\">system[5, 1]</text>\n</g>\n<!-- system_G28&#45;&gt;PotentialEnergy -->\n<g id=\"edge17\" class=\"edge\">\n<title>system_G28:e-&gt;PotentialEnergy:w</title>\n<path fill=\"none\" stroke=\"black\" d=\"M90,-1044C117.07,-1044 102.04,-997.64 126.81,-995.11\"/>\n<ellipse fill=\"black\" stroke=\"black\" cx=\"128\" cy=\"-995.05\" rx=\"1\" ry=\"1\"/>\n<text text-anchor=\"middle\" x=\"110.5\" y=\"-1019\" font-family=\"Times,serif\" font-size=\"10.00\">6</text>\n</g>\n<!-- system_G103 -->\n<g id=\"node18\" class=\"node\">\n<title>system_G103</title>\n<text text-anchor=\"middle\" x=\"46\" y=\"-986.3\" font-family=\"Times,serif\" font-size=\"14.00\">system[5, 2]</text>\n</g>\n<!-- system_G103&#45;&gt;PotentialEnergy -->\n<g id=\"edge18\" class=\"edge\">\n<title>system_G103:e-&gt;PotentialEnergy:w</title>\n<path fill=\"none\" stroke=\"black\" d=\"M90,-990C108,-990 110.12,-975.23 126.88,-974.07\"/>\n<ellipse fill=\"black\" stroke=\"black\" cx=\"128\" cy=\"-974.03\" rx=\"1\" ry=\"1\"/>\n<text text-anchor=\"middle\" x=\"110.5\" y=\"-984\" font-family=\"Times,serif\" font-size=\"10.00\">6</text>\n</g>\n<!-- system_G5 -->\n<g id=\"node19\" class=\"node\">\n<title>system_G5</title>\n<text text-anchor=\"middle\" x=\"46\" y=\"-932.3\" font-family=\"Times,serif\" font-size=\"14.00\">system[6, 0]</text>\n</g>\n<!-- system_G5&#45;&gt;PotentialEnergy -->\n<g id=\"edge19\" class=\"edge\">\n<title>system_G5:e-&gt;PotentialEnergy:w</title>\n<path fill=\"none\" stroke=\"black\" d=\"M90,-936C108,-936 110.12,-950.77 126.88,-951.93\"/>\n<ellipse fill=\"black\" stroke=\"black\" cx=\"128\" cy=\"-951.97\" rx=\"1\" ry=\"1\"/>\n<text text-anchor=\"middle\" x=\"110.5\" y=\"-947\" font-family=\"Times,serif\" font-size=\"10.00\">6</text>\n</g>\n<!-- system_G63 -->\n<g id=\"node20\" class=\"node\">\n<title>system_G63</title>\n<text text-anchor=\"middle\" x=\"46\" y=\"-878.3\" font-family=\"Times,serif\" font-size=\"14.00\">system[6, 1]</text>\n</g>\n<!-- system_G63&#45;&gt;PotentialEnergy -->\n<g id=\"edge20\" class=\"edge\">\n<title>system_G63:e-&gt;PotentialEnergy:w</title>\n<path fill=\"none\" stroke=\"black\" d=\"M90,-882C117.07,-882 102.04,-928.36 126.81,-930.89\"/>\n<ellipse fill=\"black\" stroke=\"black\" cx=\"128\" cy=\"-930.95\" rx=\"1\" ry=\"1\"/>\n<text text-anchor=\"middle\" x=\"110.5\" y=\"-915\" font-family=\"Times,serif\" font-size=\"10.00\">6</text>\n</g>\n<!-- system_G72 -->\n<g id=\"node21\" class=\"node\">\n<title>system_G72</title>\n<text text-anchor=\"middle\" x=\"46\" y=\"-824.3\" font-family=\"Times,serif\" font-size=\"14.00\">system[6, 2]</text>\n</g>\n<!-- system_G72&#45;&gt;PotentialEnergy -->\n<g id=\"edge21\" class=\"edge\">\n<title>system_G72:e-&gt;PotentialEnergy:w</title>\n<path fill=\"none\" stroke=\"black\" d=\"M90,-828C129.57,-828 90.24,-906.83 126.73,-909.91\"/>\n<ellipse fill=\"black\" stroke=\"black\" cx=\"128\" cy=\"-909.96\" rx=\"1\" ry=\"1\"/>\n<text text-anchor=\"middle\" x=\"110.5\" y=\"-897\" font-family=\"Times,serif\" font-size=\"10.00\">6</text>\n</g>\n<!-- system_G89 -->\n<g id=\"node22\" class=\"node\">\n<title>system_G89</title>\n<text text-anchor=\"middle\" x=\"46\" y=\"-770.3\" font-family=\"Times,serif\" font-size=\"14.00\">system[7, 0]</text>\n</g>\n<!-- system_G89&#45;&gt;PotentialEnergy -->\n<g id=\"edge22\" class=\"edge\">\n<title>system_G89:e-&gt;PotentialEnergy:w</title>\n<path fill=\"none\" stroke=\"black\" d=\"M90,-774C143.23,-774 76.89,-885.88 126.85,-888.94\"/>\n<ellipse fill=\"black\" stroke=\"black\" cx=\"128\" cy=\"-888.97\" rx=\"1\" ry=\"1\"/>\n<text text-anchor=\"middle\" x=\"110.5\" y=\"-882\" font-family=\"Times,serif\" font-size=\"10.00\">6</text>\n</g>\n<!-- system_G97 -->\n<g id=\"node23\" class=\"node\">\n<title>system_G97</title>\n<text text-anchor=\"middle\" x=\"46\" y=\"-716.3\" font-family=\"Times,serif\" font-size=\"14.00\">system[7, 1]</text>\n</g>\n<!-- system_G97&#45;&gt;PotentialEnergy -->\n<g id=\"edge23\" class=\"edge\">\n<title>system_G97:e-&gt;PotentialEnergy:w</title>\n<path fill=\"none\" stroke=\"black\" d=\"M90,-720C119.51,-720 103.26,-754.52 111,-783 115.86,-800.9 110.17,-862.89 126.85,-867.7\"/>\n<ellipse fill=\"black\" stroke=\"black\" cx=\"128.01\" cy=\"-867.86\" rx=\"1\" ry=\"1\"/>\n<text text-anchor=\"middle\" x=\"110.5\" y=\"-786\" font-family=\"Times,serif\" font-size=\"10.00\">6</text>\n</g>\n<!-- system_G47 -->\n<g id=\"node24\" class=\"node\">\n<title>system_G47</title>\n<text text-anchor=\"middle\" x=\"46\" y=\"-662.3\" font-family=\"Times,serif\" font-size=\"14.00\">system[7, 2]</text>\n</g>\n<!-- system_G47&#45;&gt;PotentialEnergy -->\n<g id=\"edge24\" class=\"edge\">\n<title>system_G47:e-&gt;PotentialEnergy:w</title>\n<path fill=\"none\" stroke=\"black\" d=\"M90,-666C109.77,-666 108.56,-833.14 126.69,-846.19\"/>\n<ellipse fill=\"black\" stroke=\"black\" cx=\"128.06\" cy=\"-846.67\" rx=\"1\" ry=\"1\"/>\n<text text-anchor=\"middle\" x=\"110.5\" y=\"-770\" font-family=\"Times,serif\" font-size=\"10.00\">6</text>\n</g>\n<!-- system_G77 -->\n<g id=\"node25\" class=\"node\">\n<title>system_G77</title>\n<text text-anchor=\"middle\" x=\"46\" y=\"-608.3\" font-family=\"Times,serif\" font-size=\"14.00\">system[8, 0]</text>\n</g>\n<!-- system_G77&#45;&gt;PotentialEnergy -->\n<g id=\"edge25\" class=\"edge\">\n<title>system_G77:e-&gt;PotentialEnergy:w</title>\n<path fill=\"none\" stroke=\"black\" d=\"M90,-612C113.41,-612 105.38,-812.83 126.83,-825.39\"/>\n<ellipse fill=\"black\" stroke=\"black\" cx=\"128.04\" cy=\"-825.73\" rx=\"1\" ry=\"1\"/>\n<text text-anchor=\"middle\" x=\"110.5\" y=\"-741\" font-family=\"Times,serif\" font-size=\"10.00\">6</text>\n</g>\n<!-- system_G34 -->\n<g id=\"node26\" class=\"node\">\n<title>system_G34</title>\n<text text-anchor=\"middle\" x=\"46\" y=\"-554.3\" font-family=\"Times,serif\" font-size=\"14.00\">system[8, 1]</text>\n</g>\n<!-- system_G34&#45;&gt;PotentialEnergy -->\n<g id=\"edge26\" class=\"edge\">\n<title>system_G34:e-&gt;PotentialEnergy:w</title>\n<path fill=\"none\" stroke=\"black\" d=\"M90,-558C117.02,-558 102.09,-791.68 126.82,-804.46\"/>\n<ellipse fill=\"black\" stroke=\"black\" cx=\"128.03\" cy=\"-804.76\" rx=\"1\" ry=\"1\"/>\n<text text-anchor=\"middle\" x=\"110.5\" y=\"-713\" font-family=\"Times,serif\" font-size=\"10.00\">6</text>\n</g>\n<!-- system_G88 -->\n<g id=\"node27\" class=\"node\">\n<title>system_G88</title>\n<text text-anchor=\"middle\" x=\"46\" y=\"-500.3\" font-family=\"Times,serif\" font-size=\"14.00\">system[8, 2]</text>\n</g>\n<!-- system_G88&#45;&gt;PotentialEnergy -->\n<g id=\"edge27\" class=\"edge\">\n<title>system_G88:e-&gt;PotentialEnergy:w</title>\n<path fill=\"none\" stroke=\"black\" d=\"M90,-504C105.09,-504 112.69,-762.55 127.2,-782.75\"/>\n<ellipse fill=\"black\" stroke=\"black\" cx=\"128.18\" cy=\"-783.43\" rx=\"1\" ry=\"1\"/>\n<text text-anchor=\"middle\" x=\"110.5\" y=\"-663\" font-family=\"Times,serif\" font-size=\"10.00\">6</text>\n</g>\n<!-- system_G53 -->\n<g id=\"node28\" class=\"node\">\n<title>system_G53</title>\n<text text-anchor=\"middle\" x=\"46\" y=\"-446.3\" font-family=\"Times,serif\" font-size=\"14.00\">system[9, 0]</text>\n</g>\n<!-- system_G53&#45;&gt;PotentialEnergy -->\n<g id=\"edge28\" class=\"edge\">\n<title>system_G53:e-&gt;PotentialEnergy:w</title>\n<path fill=\"none\" stroke=\"black\" d=\"M90,-450C106.91,-450 111.18,-741.38 127.2,-761.87\"/>\n<ellipse fill=\"black\" stroke=\"black\" cx=\"128.15\" cy=\"-762.47\" rx=\"1\" ry=\"1\"/>\n<text text-anchor=\"middle\" x=\"110.5\" y=\"-628\" font-family=\"Times,serif\" font-size=\"10.00\">6</text>\n</g>\n<!-- system_G9 -->\n<g id=\"node29\" class=\"node\">\n<title>system_G9</title>\n<text text-anchor=\"middle\" x=\"46\" y=\"-392.3\" font-family=\"Times,serif\" font-size=\"14.00\">system[9, 1]</text>\n</g>\n<!-- system_G9&#45;&gt;PotentialEnergy -->\n<g id=\"edge29\" class=\"edge\">\n<title>system_G9:e-&gt;PotentialEnergy:w</title>\n<path fill=\"none\" stroke=\"black\" d=\"M90,-396C108.74,-396 109.62,-720.71 127.24,-741.01\"/>\n<ellipse fill=\"black\" stroke=\"black\" cx=\"128.13\" cy=\"-741.51\" rx=\"1\" ry=\"1\"/>\n<text text-anchor=\"middle\" x=\"110.5\" y=\"-592\" font-family=\"Times,serif\" font-size=\"10.00\">6</text>\n</g>\n<!-- system_G69 -->\n<g id=\"node30\" class=\"node\">\n<title>system_G69</title>\n<text text-anchor=\"middle\" x=\"46\" y=\"-338.3\" font-family=\"Times,serif\" font-size=\"14.00\">system[9, 2]</text>\n</g>\n<!-- system_G69&#45;&gt;PotentialEnergy -->\n<g id=\"edge30\" class=\"edge\">\n<title>system_G69:e-&gt;PotentialEnergy:w</title>\n<path fill=\"none\" stroke=\"black\" d=\"M90,-342C110.51,-342 108.02,-697.68 127.09,-719.91\"/>\n<ellipse fill=\"black\" stroke=\"black\" cx=\"128.13\" cy=\"-720.51\" rx=\"1\" ry=\"1\"/>\n<text text-anchor=\"middle\" x=\"110.5\" y=\"-557\" font-family=\"Times,serif\" font-size=\"10.00\">6</text>\n</g>\n<!-- system_G98 -->\n<g id=\"node31\" class=\"node\">\n<title>system_G98</title>\n<text text-anchor=\"middle\" x=\"46\" y=\"-284.3\" font-family=\"Times,serif\" font-size=\"14.00\">system[10, 0]</text>\n</g>\n<!-- system_G98&#45;&gt;PotentialEnergy -->\n<g id=\"edge31\" class=\"edge\">\n<title>system_G98:e-&gt;PotentialEnergy:w</title>\n<path fill=\"none\" stroke=\"black\" d=\"M92,-288C114.35,-288 106.49,-677.78 127.19,-699.09\"/>\n<ellipse fill=\"black\" stroke=\"black\" cx=\"128.11\" cy=\"-699.55\" rx=\"1\" ry=\"1\"/>\n<text text-anchor=\"middle\" x=\"110.5\" y=\"-509\" font-family=\"Times,serif\" font-size=\"10.00\">6</text>\n</g>\n<!-- system_G56 -->\n<g id=\"node32\" class=\"node\">\n<title>system_G56</title>\n<text text-anchor=\"middle\" x=\"46\" y=\"-230.3\" font-family=\"Times,serif\" font-size=\"14.00\">system[10, 1]</text>\n</g>\n<!-- system_G56&#45;&gt;PotentialEnergy -->\n<g id=\"edge32\" class=\"edge\">\n<title>system_G56:e-&gt;PotentialEnergy:w</title>\n<path fill=\"none\" stroke=\"black\" d=\"M92,-234C116.13,-234 104.85,-655 127.05,-678.02\"/>\n<ellipse fill=\"black\" stroke=\"black\" cx=\"128.11\" cy=\"-678.55\" rx=\"1\" ry=\"1\"/>\n<text text-anchor=\"middle\" x=\"110.5\" y=\"-472\" font-family=\"Times,serif\" font-size=\"10.00\">6</text>\n</g>\n<!-- system_G55 -->\n<g id=\"node33\" class=\"node\">\n<title>system_G55</title>\n<text text-anchor=\"middle\" x=\"46\" y=\"-176.3\" font-family=\"Times,serif\" font-size=\"14.00\">system[10, 2]</text>\n</g>\n<!-- system_G55&#45;&gt;PotentialEnergy -->\n<g id=\"edge33\" class=\"edge\">\n<title>system_G55:e-&gt;PotentialEnergy:w</title>\n<path fill=\"none\" stroke=\"black\" d=\"M92,-180C104.85,-180 114.95,-624.98 127.61,-656.27\"/>\n<ellipse fill=\"black\" stroke=\"black\" cx=\"128.37\" cy=\"-657.22\" rx=\"1\" ry=\"1\"/>\n<text text-anchor=\"middle\" x=\"110.5\" y=\"-422\" font-family=\"Times,serif\" font-size=\"10.00\">6</text>\n</g>\n<!-- system_G18 -->\n<g id=\"node34\" class=\"node\">\n<title>system_G18</title>\n<text text-anchor=\"middle\" x=\"46\" y=\"-122.3\" font-family=\"Times,serif\" font-size=\"14.00\">system[11, 0]</text>\n</g>\n<!-- system_G18&#45;&gt;PotentialEnergy -->\n<g id=\"edge34\" class=\"edge\">\n<title>system_G18:e-&gt;PotentialEnergy:w</title>\n<path fill=\"none\" stroke=\"black\" d=\"M92,-126C119.8,-126 101.44,-613.33 127.08,-636.17\"/>\n<ellipse fill=\"black\" stroke=\"black\" cx=\"128.08\" cy=\"-636.6\" rx=\"1\" ry=\"1\"/>\n<text text-anchor=\"middle\" x=\"110.5\" y=\"-399\" font-family=\"Times,serif\" font-size=\"10.00\">6</text>\n</g>\n<!-- system_G83 -->\n<g id=\"node35\" class=\"node\">\n<title>system_G83</title>\n<text text-anchor=\"middle\" x=\"46\" y=\"-68.3\" font-family=\"Times,serif\" font-size=\"14.00\">system[11, 1]</text>\n</g>\n<!-- system_G83&#45;&gt;PotentialEnergy -->\n<g id=\"edge35\" class=\"edge\">\n<title>system_G83:e-&gt;PotentialEnergy:w</title>\n<path fill=\"none\" stroke=\"black\" d=\"M92,-72C106.67,-72 113.43,-582.53 127.6,-614.44\"/>\n<ellipse fill=\"black\" stroke=\"black\" cx=\"128.33\" cy=\"-615.25\" rx=\"1\" ry=\"1\"/>\n<text text-anchor=\"middle\" x=\"110.5\" y=\"-347\" font-family=\"Times,serif\" font-size=\"10.00\">6</text>\n</g>\n<!-- system_G49 -->\n<g id=\"node36\" class=\"node\">\n<title>system_G49</title>\n<text text-anchor=\"middle\" x=\"46\" y=\"-14.3\" font-family=\"Times,serif\" font-size=\"14.00\">system[11, 2]</text>\n</g>\n<!-- system_G49&#45;&gt;PotentialEnergy -->\n<g id=\"edge36\" class=\"edge\">\n<title>system_G49:e-&gt;PotentialEnergy:w</title>\n<path fill=\"none\" stroke=\"black\" d=\"M92,-18C107.56,-18 112.62,-559.5 127.53,-593.34\"/>\n<ellipse fill=\"black\" stroke=\"black\" cx=\"128.34\" cy=\"-594.25\" rx=\"1\" ry=\"1\"/>\n<text text-anchor=\"middle\" x=\"110.5\" y=\"-310\" font-family=\"Times,serif\" font-size=\"10.00\">6</text>\n</g>\n<!-- system_G62 -->\n<g id=\"node38\" class=\"node\">\n<title>system_G62</title>\n<text text-anchor=\"middle\" x=\"294\" y=\"-1904.3\" font-family=\"Times,serif\" font-size=\"14.00\">system[0, 0]</text>\n</g>\n<!-- PotentialEnergy&#45;&gt;system_G62 -->\n<g id=\"edge37\" class=\"edge\">\n<title>PotentialEnergy:e-&gt;system_G62:w</title>\n<path fill=\"none\" stroke=\"black\" d=\"M211,-1331C226.56,-1331 233.5,-1872.5 248.52,-1906.34\"/>\n<ellipse fill=\"black\" stroke=\"black\" cx=\"249.33\" cy=\"-1907.25\" rx=\"1\" ry=\"1\"/>\n<text text-anchor=\"middle\" x=\"229.5\" y=\"-1605\" font-family=\"Times,serif\" font-size=\"10.00\">6</text>\n</g>\n<!-- system_G71 -->\n<g id=\"node39\" class=\"node\">\n<title>system_G71</title>\n<text text-anchor=\"middle\" x=\"294\" y=\"-1850.3\" font-family=\"Times,serif\" font-size=\"14.00\">system[0, 1]</text>\n</g>\n<!-- PotentialEnergy&#45;&gt;system_G71 -->\n<g id=\"edge38\" class=\"edge\">\n<title>PotentialEnergy:e-&gt;system_G71:w</title>\n<path fill=\"none\" stroke=\"black\" d=\"M211,-1310C225.68,-1310 234.3,-1820.53 248.6,-1852.44\"/>\n<ellipse fill=\"black\" stroke=\"black\" cx=\"249.33\" cy=\"-1853.26\" rx=\"1\" ry=\"1\"/>\n<text text-anchor=\"middle\" x=\"229.5\" y=\"-1568\" font-family=\"Times,serif\" font-size=\"10.00\">6</text>\n</g>\n<!-- system_G96 -->\n<g id=\"node40\" class=\"node\">\n<title>system_G96</title>\n<text text-anchor=\"middle\" x=\"294\" y=\"-1796.3\" font-family=\"Times,serif\" font-size=\"14.00\">system[0, 2]</text>\n</g>\n<!-- PotentialEnergy&#45;&gt;system_G96 -->\n<g id=\"edge39\" class=\"edge\">\n<title>PotentialEnergy:e-&gt;system_G96:w</title>\n<path fill=\"none\" stroke=\"black\" d=\"M211,-1289C224.74,-1289 235.02,-1764.7 248.51,-1798.15\"/>\n<ellipse fill=\"black\" stroke=\"black\" cx=\"249.37\" cy=\"-1799.22\" rx=\"1\" ry=\"1\"/>\n<text text-anchor=\"middle\" x=\"229.5\" y=\"-1532\" font-family=\"Times,serif\" font-size=\"10.00\">6</text>\n</g>\n<!-- system_G51 -->\n<g id=\"node41\" class=\"node\">\n<title>system_G51</title>\n<text text-anchor=\"middle\" x=\"294\" y=\"-1742.3\" font-family=\"Times,serif\" font-size=\"14.00\">system[1, 0]</text>\n</g>\n<!-- PotentialEnergy&#45;&gt;system_G51 -->\n<g id=\"edge40\" class=\"edge\">\n<title>PotentialEnergy:e-&gt;system_G51:w</title>\n<path fill=\"none\" stroke=\"black\" d=\"M211,-1268C236.92,-1268 224.11,-1720.22 247.9,-1744.95\"/>\n<ellipse fill=\"black\" stroke=\"black\" cx=\"249.11\" cy=\"-1745.55\" rx=\"1\" ry=\"1\"/>\n<text text-anchor=\"middle\" x=\"229.5\" y=\"-1481\" font-family=\"Times,serif\" font-size=\"10.00\">6</text>\n</g>\n<!-- system_G4 -->\n<g id=\"node42\" class=\"node\">\n<title>system_G4</title>\n<text text-anchor=\"middle\" x=\"294\" y=\"-1688.3\" font-family=\"Times,serif\" font-size=\"14.00\">system[1, 1]</text>\n</g>\n<!-- PotentialEnergy&#45;&gt;system_G4 -->\n<g id=\"edge41\" class=\"edge\">\n<title>PotentialEnergy:e-&gt;system_G4:w</title>\n<path fill=\"none\" stroke=\"black\" d=\"M211,-1247C235.14,-1247 225.74,-1668 248.04,-1691.02\"/>\n<ellipse fill=\"black\" stroke=\"black\" cx=\"249.11\" cy=\"-1691.55\" rx=\"1\" ry=\"1\"/>\n<text text-anchor=\"middle\" x=\"229.5\" y=\"-1445\" font-family=\"Times,serif\" font-size=\"10.00\">6</text>\n</g>\n<!-- system_G65 -->\n<g id=\"node43\" class=\"node\">\n<title>system_G65</title>\n<text text-anchor=\"middle\" x=\"294\" y=\"-1634.3\" font-family=\"Times,serif\" font-size=\"14.00\">system[1, 2]</text>\n</g>\n<!-- PotentialEnergy&#45;&gt;system_G65 -->\n<g id=\"edge42\" class=\"edge\">\n<title>PotentialEnergy:e-&gt;system_G65:w</title>\n<path fill=\"none\" stroke=\"black\" d=\"M211,-1226C233.36,-1226 227.37,-1615.78 248.18,-1637.09\"/>\n<ellipse fill=\"black\" stroke=\"black\" cx=\"249.11\" cy=\"-1637.55\" rx=\"1\" ry=\"1\"/>\n<text text-anchor=\"middle\" x=\"229.5\" y=\"-1410\" font-family=\"Times,serif\" font-size=\"10.00\">6</text>\n</g>\n<!-- system_G33 -->\n<g id=\"node44\" class=\"node\">\n<title>system_G33</title>\n<text text-anchor=\"middle\" x=\"294\" y=\"-1580.3\" font-family=\"Times,serif\" font-size=\"14.00\">system[2, 0]</text>\n</g>\n<!-- PotentialEnergy&#45;&gt;system_G33 -->\n<g id=\"edge43\" class=\"edge\">\n<title>PotentialEnergy:e-&gt;system_G33:w</title>\n<path fill=\"none\" stroke=\"black\" d=\"M211,-1205C231.51,-1205 229.02,-1560.68 248.09,-1582.91\"/>\n<ellipse fill=\"black\" stroke=\"black\" cx=\"249.13\" cy=\"-1583.51\" rx=\"1\" ry=\"1\"/>\n<text text-anchor=\"middle\" x=\"229.5\" y=\"-1386\" font-family=\"Times,serif\" font-size=\"10.00\">6</text>\n</g>\n<!-- system_G3 -->\n<g id=\"node45\" class=\"node\">\n<title>system_G3</title>\n<text text-anchor=\"middle\" x=\"294\" y=\"-1526.3\" font-family=\"Times,serif\" font-size=\"14.00\">system[2, 1]</text>\n</g>\n<!-- PotentialEnergy&#45;&gt;system_G3 -->\n<g id=\"edge44\" class=\"edge\">\n<title>PotentialEnergy:e-&gt;system_G3:w</title>\n<path fill=\"none\" stroke=\"black\" d=\"M211,-1184C229.74,-1184 230.62,-1508.71 248.24,-1529.01\"/>\n<ellipse fill=\"black\" stroke=\"black\" cx=\"249.13\" cy=\"-1529.51\" rx=\"1\" ry=\"1\"/>\n<text text-anchor=\"middle\" x=\"229.5\" y=\"-1349\" font-family=\"Times,serif\" font-size=\"10.00\">6</text>\n</g>\n<!-- system_G60 -->\n<g id=\"node46\" class=\"node\">\n<title>system_G60</title>\n<text text-anchor=\"middle\" x=\"294\" y=\"-1472.3\" font-family=\"Times,serif\" font-size=\"14.00\">system[2, 2]</text>\n</g>\n<!-- PotentialEnergy&#45;&gt;system_G60 -->\n<g id=\"edge45\" class=\"edge\">\n<title>PotentialEnergy:e-&gt;system_G60:w</title>\n<path fill=\"none\" stroke=\"black\" d=\"M211,-1163C227.91,-1163 232.18,-1454.38 248.2,-1474.87\"/>\n<ellipse fill=\"black\" stroke=\"black\" cx=\"249.15\" cy=\"-1475.47\" rx=\"1\" ry=\"1\"/>\n<text text-anchor=\"middle\" x=\"229.5\" y=\"-1313\" font-family=\"Times,serif\" font-size=\"10.00\">6</text>\n</g>\n<!-- system_G73 -->\n<g id=\"node47\" class=\"node\">\n<title>system_G73</title>\n<text text-anchor=\"middle\" x=\"294\" y=\"-1418.3\" font-family=\"Times,serif\" font-size=\"14.00\">system[3, 0]</text>\n</g>\n<!-- PotentialEnergy&#45;&gt;system_G73 -->\n<g id=\"edge46\" class=\"edge\">\n<title>PotentialEnergy:e-&gt;system_G73:w</title>\n<path fill=\"none\" stroke=\"black\" d=\"M211,-1142C241.68,-1142 219.67,-1409.03 247.88,-1421.55\"/>\n<ellipse fill=\"black\" stroke=\"black\" cx=\"249.02\" cy=\"-1421.79\" rx=\"1\" ry=\"1\"/>\n<text text-anchor=\"middle\" x=\"229.5\" y=\"-1259\" font-family=\"Times,serif\" font-size=\"10.00\">6</text>\n</g>\n<!-- system_G79 -->\n<g id=\"node48\" class=\"node\">\n<title>system_G79</title>\n<text text-anchor=\"middle\" x=\"294\" y=\"-1364.3\" font-family=\"Times,serif\" font-size=\"14.00\">system[3, 1]</text>\n</g>\n<!-- PotentialEnergy&#45;&gt;system_G79 -->\n<g id=\"edge47\" class=\"edge\">\n<title>PotentialEnergy:e-&gt;system_G79:w</title>\n<path fill=\"none\" stroke=\"black\" d=\"M211,-1121C238.02,-1121 223.09,-1354.68 247.82,-1367.46\"/>\n<ellipse fill=\"black\" stroke=\"black\" cx=\"249.03\" cy=\"-1367.76\" rx=\"1\" ry=\"1\"/>\n<text text-anchor=\"middle\" x=\"229.5\" y=\"-1232\" font-family=\"Times,serif\" font-size=\"10.00\">6</text>\n</g>\n<!-- system_G30 -->\n<g id=\"node49\" class=\"node\">\n<title>system_G30</title>\n<text text-anchor=\"middle\" x=\"294\" y=\"-1310.3\" font-family=\"Times,serif\" font-size=\"14.00\">system[3, 2]</text>\n</g>\n<!-- PotentialEnergy&#45;&gt;system_G30 -->\n<g id=\"edge48\" class=\"edge\">\n<title>PotentialEnergy:e-&gt;system_G30:w</title>\n<path fill=\"none\" stroke=\"black\" d=\"M211,-1100C234.41,-1100 226.38,-1300.83 247.83,-1313.39\"/>\n<ellipse fill=\"black\" stroke=\"black\" cx=\"249.04\" cy=\"-1313.73\" rx=\"1\" ry=\"1\"/>\n<text text-anchor=\"middle\" x=\"229.5\" y=\"-1197\" font-family=\"Times,serif\" font-size=\"10.00\">6</text>\n</g>\n<!-- system_G48 -->\n<g id=\"node50\" class=\"node\">\n<title>system_G48</title>\n<text text-anchor=\"middle\" x=\"294\" y=\"-1256.3\" font-family=\"Times,serif\" font-size=\"14.00\">system[4, 0]</text>\n</g>\n<!-- PotentialEnergy&#45;&gt;system_G48 -->\n<g id=\"edge49\" class=\"edge\">\n<title>PotentialEnergy:e-&gt;system_G48:w</title>\n<path fill=\"none\" stroke=\"black\" d=\"M211,-1079C230.77,-1079 229.56,-1246.14 247.69,-1259.19\"/>\n<ellipse fill=\"black\" stroke=\"black\" cx=\"249.06\" cy=\"-1259.67\" rx=\"1\" ry=\"1\"/>\n<text text-anchor=\"middle\" x=\"229.5\" y=\"-1167\" font-family=\"Times,serif\" font-size=\"10.00\">6</text>\n</g>\n<!-- system_G54 -->\n<g id=\"node51\" class=\"node\">\n<title>system_G54</title>\n<text text-anchor=\"middle\" x=\"294\" y=\"-1202.3\" font-family=\"Times,serif\" font-size=\"14.00\">system[4, 1]</text>\n</g>\n<!-- PotentialEnergy&#45;&gt;system_G54 -->\n<g id=\"edge50\" class=\"edge\">\n<title>PotentialEnergy:e-&gt;system_G54:w</title>\n<path fill=\"none\" stroke=\"black\" d=\"M211,-1058C230.09,-1058 224.02,-1123.57 229,-1142 236.63,-1170.22 220.84,-1204.36 247.97,-1205.94\"/>\n<ellipse fill=\"black\" stroke=\"black\" cx=\"249\" cy=\"-1205.97\" rx=\"1\" ry=\"1\"/>\n<text text-anchor=\"middle\" x=\"229.5\" y=\"-1148\" font-family=\"Times,serif\" font-size=\"10.00\">6</text>\n</g>\n<!-- system_G24 -->\n<g id=\"node52\" class=\"node\">\n<title>system_G24</title>\n<text text-anchor=\"middle\" x=\"294\" y=\"-1148.3\" font-family=\"Times,serif\" font-size=\"14.00\">system[4, 2]</text>\n</g>\n<!-- PotentialEnergy&#45;&gt;system_G24 -->\n<g id=\"edge51\" class=\"edge\">\n<title>PotentialEnergy:e-&gt;system_G24:w</title>\n<path fill=\"none\" stroke=\"black\" d=\"M211,-1037C264.23,-1037 197.89,-1148.88 247.85,-1151.94\"/>\n<ellipse fill=\"black\" stroke=\"black\" cx=\"249\" cy=\"-1151.97\" rx=\"1\" ry=\"1\"/>\n<text text-anchor=\"middle\" x=\"229.5\" y=\"-1140\" font-family=\"Times,serif\" font-size=\"10.00\">6</text>\n</g>\n<!-- system_G40 -->\n<g id=\"node53\" class=\"node\">\n<title>system_G40</title>\n<text text-anchor=\"middle\" x=\"294\" y=\"-1094.3\" font-family=\"Times,serif\" font-size=\"14.00\">system[5, 0]</text>\n</g>\n<!-- PotentialEnergy&#45;&gt;system_G40 -->\n<g id=\"edge52\" class=\"edge\">\n<title>PotentialEnergy:e-&gt;system_G40:w</title>\n<path fill=\"none\" stroke=\"black\" d=\"M211,-1016C250.57,-1016 211.24,-1094.83 247.73,-1097.91\"/>\n<ellipse fill=\"black\" stroke=\"black\" cx=\"249\" cy=\"-1097.96\" rx=\"1\" ry=\"1\"/>\n<text text-anchor=\"middle\" x=\"229.5\" y=\"-1038\" font-family=\"Times,serif\" font-size=\"10.00\">6</text>\n</g>\n<!-- system_G44 -->\n<g id=\"node54\" class=\"node\">\n<title>system_G44</title>\n<text text-anchor=\"middle\" x=\"294\" y=\"-1040.3\" font-family=\"Times,serif\" font-size=\"14.00\">system[5, 1]</text>\n</g>\n<!-- PotentialEnergy&#45;&gt;system_G44 -->\n<g id=\"edge53\" class=\"edge\">\n<title>PotentialEnergy:e-&gt;system_G44:w</title>\n<path fill=\"none\" stroke=\"black\" d=\"M211,-995C238.07,-995 223.04,-1041.36 247.81,-1043.89\"/>\n<ellipse fill=\"black\" stroke=\"black\" cx=\"249\" cy=\"-1043.95\" rx=\"1\" ry=\"1\"/>\n<text text-anchor=\"middle\" x=\"229.5\" y=\"-1019\" font-family=\"Times,serif\" font-size=\"10.00\">6</text>\n</g>\n<!-- system_G68 -->\n<g id=\"node55\" class=\"node\">\n<title>system_G68</title>\n<text text-anchor=\"middle\" x=\"294\" y=\"-986.3\" font-family=\"Times,serif\" font-size=\"14.00\">system[5, 2]</text>\n</g>\n<!-- PotentialEnergy&#45;&gt;system_G68 -->\n<g id=\"edge54\" class=\"edge\">\n<title>PotentialEnergy:e-&gt;system_G68:w</title>\n<path fill=\"none\" stroke=\"black\" d=\"M211,-974C229,-974 231.12,-988.77 247.88,-989.93\"/>\n<ellipse fill=\"black\" stroke=\"black\" cx=\"249\" cy=\"-989.97\" rx=\"1\" ry=\"1\"/>\n<text text-anchor=\"middle\" x=\"229.5\" y=\"-984\" font-family=\"Times,serif\" font-size=\"10.00\">6</text>\n</g>\n<!-- system_G21 -->\n<g id=\"node56\" class=\"node\">\n<title>system_G21</title>\n<text text-anchor=\"middle\" x=\"294\" y=\"-932.3\" font-family=\"Times,serif\" font-size=\"14.00\">system[6, 0]</text>\n</g>\n<!-- PotentialEnergy&#45;&gt;system_G21 -->\n<g id=\"edge55\" class=\"edge\">\n<title>PotentialEnergy:e-&gt;system_G21:w</title>\n<path fill=\"none\" stroke=\"black\" d=\"M211,-952C229,-952 231.12,-937.23 247.88,-936.07\"/>\n<ellipse fill=\"black\" stroke=\"black\" cx=\"249\" cy=\"-936.03\" rx=\"1\" ry=\"1\"/>\n<text text-anchor=\"middle\" x=\"229.5\" y=\"-947\" font-family=\"Times,serif\" font-size=\"10.00\">6</text>\n</g>\n<!-- system_G82 -->\n<g id=\"node57\" class=\"node\">\n<title>system_G82</title>\n<text text-anchor=\"middle\" x=\"294\" y=\"-878.3\" font-family=\"Times,serif\" font-size=\"14.00\">system[6, 1]</text>\n</g>\n<!-- PotentialEnergy&#45;&gt;system_G82 -->\n<g id=\"edge56\" class=\"edge\">\n<title>PotentialEnergy:e-&gt;system_G82:w</title>\n<path fill=\"none\" stroke=\"black\" d=\"M211,-931C238.07,-931 223.04,-884.64 247.81,-882.11\"/>\n<ellipse fill=\"black\" stroke=\"black\" cx=\"249\" cy=\"-882.05\" rx=\"1\" ry=\"1\"/>\n<text text-anchor=\"middle\" x=\"229.5\" y=\"-915\" font-family=\"Times,serif\" font-size=\"10.00\">6</text>\n</g>\n<!-- system_G39 -->\n<g id=\"node58\" class=\"node\">\n<title>system_G39</title>\n<text text-anchor=\"middle\" x=\"294\" y=\"-824.3\" font-family=\"Times,serif\" font-size=\"14.00\">system[6, 2]</text>\n</g>\n<!-- PotentialEnergy&#45;&gt;system_G39 -->\n<g id=\"edge57\" class=\"edge\">\n<title>PotentialEnergy:e-&gt;system_G39:w</title>\n<path fill=\"none\" stroke=\"black\" d=\"M211,-910C250.57,-910 211.24,-831.17 247.73,-828.09\"/>\n<ellipse fill=\"black\" stroke=\"black\" cx=\"249\" cy=\"-828.04\" rx=\"1\" ry=\"1\"/>\n<text text-anchor=\"middle\" x=\"229.5\" y=\"-897\" font-family=\"Times,serif\" font-size=\"10.00\">6</text>\n</g>\n<!-- system_G1 -->\n<g id=\"node59\" class=\"node\">\n<title>system_G1</title>\n<text text-anchor=\"middle\" x=\"294\" y=\"-770.3\" font-family=\"Times,serif\" font-size=\"14.00\">system[7, 0]</text>\n</g>\n<!-- PotentialEnergy&#45;&gt;system_G1 -->\n<g id=\"edge58\" class=\"edge\">\n<title>PotentialEnergy:e-&gt;system_G1:w</title>\n<path fill=\"none\" stroke=\"black\" d=\"M211,-889C264.23,-889 197.89,-777.12 247.85,-774.06\"/>\n<ellipse fill=\"black\" stroke=\"black\" cx=\"249\" cy=\"-774.03\" rx=\"1\" ry=\"1\"/>\n<text text-anchor=\"middle\" x=\"229.5\" y=\"-882\" font-family=\"Times,serif\" font-size=\"10.00\">6</text>\n</g>\n<!-- system_G61 -->\n<g id=\"node60\" class=\"node\">\n<title>system_G61</title>\n<text text-anchor=\"middle\" x=\"294\" y=\"-716.3\" font-family=\"Times,serif\" font-size=\"14.00\">system[7, 1]</text>\n</g>\n<!-- PotentialEnergy&#45;&gt;system_G61 -->\n<g id=\"edge59\" class=\"edge\">\n<title>PotentialEnergy:e-&gt;system_G61:w</title>\n<path fill=\"none\" stroke=\"black\" d=\"M211,-868C230.31,-868 223.94,-801.63 229,-783 236.55,-755.18 221.23,-721.61 248,-720.06\"/>\n<ellipse fill=\"black\" stroke=\"black\" cx=\"249\" cy=\"-720.03\" rx=\"1\" ry=\"1\"/>\n<text text-anchor=\"middle\" x=\"229.5\" y=\"-786\" font-family=\"Times,serif\" font-size=\"10.00\">6</text>\n</g>\n<!-- system_G14 -->\n<g id=\"node61\" class=\"node\">\n<title>system_G14</title>\n<text text-anchor=\"middle\" x=\"294\" y=\"-662.3\" font-family=\"Times,serif\" font-size=\"14.00\">system[7, 2]</text>\n</g>\n<!-- PotentialEnergy&#45;&gt;system_G14 -->\n<g id=\"edge60\" class=\"edge\">\n<title>PotentialEnergy:e-&gt;system_G14:w</title>\n<path fill=\"none\" stroke=\"black\" d=\"M211,-847C230.77,-847 229.56,-679.86 247.69,-666.81\"/>\n<ellipse fill=\"black\" stroke=\"black\" cx=\"249.06\" cy=\"-666.33\" rx=\"1\" ry=\"1\"/>\n<text text-anchor=\"middle\" x=\"229.5\" y=\"-770\" font-family=\"Times,serif\" font-size=\"10.00\">6</text>\n</g>\n<!-- system_G43 -->\n<g id=\"node62\" class=\"node\">\n<title>system_G43</title>\n<text text-anchor=\"middle\" x=\"294\" y=\"-608.3\" font-family=\"Times,serif\" font-size=\"14.00\">system[8, 0]</text>\n</g>\n<!-- PotentialEnergy&#45;&gt;system_G43 -->\n<g id=\"edge61\" class=\"edge\">\n<title>PotentialEnergy:e-&gt;system_G43:w</title>\n<path fill=\"none\" stroke=\"black\" d=\"M211,-826C234.41,-826 226.38,-625.17 247.83,-612.61\"/>\n<ellipse fill=\"black\" stroke=\"black\" cx=\"249.04\" cy=\"-612.27\" rx=\"1\" ry=\"1\"/>\n<text text-anchor=\"middle\" x=\"229.5\" y=\"-741\" font-family=\"Times,serif\" font-size=\"10.00\">6</text>\n</g>\n<!-- system_G46 -->\n<g id=\"node63\" class=\"node\">\n<title>system_G46</title>\n<text text-anchor=\"middle\" x=\"294\" y=\"-554.3\" font-family=\"Times,serif\" font-size=\"14.00\">system[8, 1]</text>\n</g>\n<!-- PotentialEnergy&#45;&gt;system_G46 -->\n<g id=\"edge62\" class=\"edge\">\n<title>PotentialEnergy:e-&gt;system_G46:w</title>\n<path fill=\"none\" stroke=\"black\" d=\"M211,-805C238.02,-805 223.09,-571.32 247.82,-558.54\"/>\n<ellipse fill=\"black\" stroke=\"black\" cx=\"249.03\" cy=\"-558.24\" rx=\"1\" ry=\"1\"/>\n<text text-anchor=\"middle\" x=\"229.5\" y=\"-713\" font-family=\"Times,serif\" font-size=\"10.00\">6</text>\n</g>\n<!-- system_G107 -->\n<g id=\"node64\" class=\"node\">\n<title>system_G107</title>\n<text text-anchor=\"middle\" x=\"294\" y=\"-500.3\" font-family=\"Times,serif\" font-size=\"14.00\">system[8, 2]</text>\n</g>\n<!-- PotentialEnergy&#45;&gt;system_G107 -->\n<g id=\"edge63\" class=\"edge\">\n<title>PotentialEnergy:e-&gt;system_G107:w</title>\n<path fill=\"none\" stroke=\"black\" d=\"M211,-784C226.09,-784 233.69,-525.45 248.2,-505.25\"/>\n<ellipse fill=\"black\" stroke=\"black\" cx=\"249.18\" cy=\"-504.57\" rx=\"1\" ry=\"1\"/>\n<text text-anchor=\"middle\" x=\"229.5\" y=\"-663\" font-family=\"Times,serif\" font-size=\"10.00\">6</text>\n</g>\n<!-- system_G17 -->\n<g id=\"node65\" class=\"node\">\n<title>system_G17</title>\n<text text-anchor=\"middle\" x=\"294\" y=\"-446.3\" font-family=\"Times,serif\" font-size=\"14.00\">system[9, 0]</text>\n</g>\n<!-- PotentialEnergy&#45;&gt;system_G17 -->\n<g id=\"edge64\" class=\"edge\">\n<title>PotentialEnergy:e-&gt;system_G17:w</title>\n<path fill=\"none\" stroke=\"black\" d=\"M211,-763C227.91,-763 232.18,-471.62 248.2,-451.13\"/>\n<ellipse fill=\"black\" stroke=\"black\" cx=\"249.15\" cy=\"-450.53\" rx=\"1\" ry=\"1\"/>\n<text text-anchor=\"middle\" x=\"229.5\" y=\"-628\" font-family=\"Times,serif\" font-size=\"10.00\">6</text>\n</g>\n<!-- system_G26 -->\n<g id=\"node66\" class=\"node\">\n<title>system_G26</title>\n<text text-anchor=\"middle\" x=\"294\" y=\"-392.3\" font-family=\"Times,serif\" font-size=\"14.00\">system[9, 1]</text>\n</g>\n<!-- PotentialEnergy&#45;&gt;system_G26 -->\n<g id=\"edge65\" class=\"edge\">\n<title>PotentialEnergy:e-&gt;system_G26:w</title>\n<path fill=\"none\" stroke=\"black\" d=\"M211,-742C229.74,-742 230.62,-417.29 248.24,-396.99\"/>\n<ellipse fill=\"black\" stroke=\"black\" cx=\"249.13\" cy=\"-396.49\" rx=\"1\" ry=\"1\"/>\n<text text-anchor=\"middle\" x=\"229.5\" y=\"-592\" font-family=\"Times,serif\" font-size=\"10.00\">6</text>\n</g>\n<!-- system_G85 -->\n<g id=\"node67\" class=\"node\">\n<title>system_G85</title>\n<text text-anchor=\"middle\" x=\"294\" y=\"-338.3\" font-family=\"Times,serif\" font-size=\"14.00\">system[9, 2]</text>\n</g>\n<!-- PotentialEnergy&#45;&gt;system_G85 -->\n<g id=\"edge66\" class=\"edge\">\n<title>PotentialEnergy:e-&gt;system_G85:w</title>\n<path fill=\"none\" stroke=\"black\" d=\"M211,-721C231.51,-721 229.02,-365.32 248.09,-343.09\"/>\n<ellipse fill=\"black\" stroke=\"black\" cx=\"249.13\" cy=\"-342.49\" rx=\"1\" ry=\"1\"/>\n<text text-anchor=\"middle\" x=\"229.5\" y=\"-557\" font-family=\"Times,serif\" font-size=\"10.00\">6</text>\n</g>\n<!-- system_G7 -->\n<g id=\"node68\" class=\"node\">\n<title>system_G7</title>\n<text text-anchor=\"middle\" x=\"294\" y=\"-284.3\" font-family=\"Times,serif\" font-size=\"14.00\">system[10, 0]</text>\n</g>\n<!-- PotentialEnergy&#45;&gt;system_G7 -->\n<g id=\"edge67\" class=\"edge\">\n<title>PotentialEnergy:e-&gt;system_G7:w</title>\n<path fill=\"none\" stroke=\"black\" d=\"M211,-700C233.35,-700 225.49,-310.22 246.19,-288.91\"/>\n<ellipse fill=\"black\" stroke=\"black\" cx=\"247.11\" cy=\"-288.45\" rx=\"1\" ry=\"1\"/>\n<text text-anchor=\"middle\" x=\"229.5\" y=\"-509\" font-family=\"Times,serif\" font-size=\"10.00\">6</text>\n</g>\n<!-- system_G74 -->\n<g id=\"node69\" class=\"node\">\n<title>system_G74</title>\n<text text-anchor=\"middle\" x=\"294\" y=\"-230.3\" font-family=\"Times,serif\" font-size=\"14.00\">system[10, 1]</text>\n</g>\n<!-- PotentialEnergy&#45;&gt;system_G74 -->\n<g id=\"edge68\" class=\"edge\">\n<title>PotentialEnergy:e-&gt;system_G74:w</title>\n<path fill=\"none\" stroke=\"black\" d=\"M211,-679C235.13,-679 223.85,-258 246.05,-234.98\"/>\n<ellipse fill=\"black\" stroke=\"black\" cx=\"247.11\" cy=\"-234.45\" rx=\"1\" ry=\"1\"/>\n<text text-anchor=\"middle\" x=\"229.5\" y=\"-472\" font-family=\"Times,serif\" font-size=\"10.00\">6</text>\n</g>\n<!-- system_G75 -->\n<g id=\"node70\" class=\"node\">\n<title>system_G75</title>\n<text text-anchor=\"middle\" x=\"294\" y=\"-176.3\" font-family=\"Times,serif\" font-size=\"14.00\">system[10, 2]</text>\n</g>\n<!-- PotentialEnergy&#45;&gt;system_G75 -->\n<g id=\"edge69\" class=\"edge\">\n<title>PotentialEnergy:e-&gt;system_G75:w</title>\n<path fill=\"none\" stroke=\"black\" d=\"M211,-658C223.85,-658 233.95,-213.02 246.61,-181.73\"/>\n<ellipse fill=\"black\" stroke=\"black\" cx=\"247.37\" cy=\"-180.78\" rx=\"1\" ry=\"1\"/>\n<text text-anchor=\"middle\" x=\"229.5\" y=\"-422\" font-family=\"Times,serif\" font-size=\"10.00\">6</text>\n</g>\n<!-- system_G91 -->\n<g id=\"node71\" class=\"node\">\n<title>system_G91</title>\n<text text-anchor=\"middle\" x=\"294\" y=\"-122.3\" font-family=\"Times,serif\" font-size=\"14.00\">system[11, 0]</text>\n</g>\n<!-- PotentialEnergy&#45;&gt;system_G91 -->\n<g id=\"edge70\" class=\"edge\">\n<title>PotentialEnergy:e-&gt;system_G91:w</title>\n<path fill=\"none\" stroke=\"black\" d=\"M211,-637C238.8,-637 220.44,-149.67 246.08,-126.83\"/>\n<ellipse fill=\"black\" stroke=\"black\" cx=\"247.08\" cy=\"-126.4\" rx=\"1\" ry=\"1\"/>\n<text text-anchor=\"middle\" x=\"229.5\" y=\"-399\" font-family=\"Times,serif\" font-size=\"10.00\">6</text>\n</g>\n<!-- system_G100 -->\n<g id=\"node72\" class=\"node\">\n<title>system_G100</title>\n<text text-anchor=\"middle\" x=\"294\" y=\"-68.3\" font-family=\"Times,serif\" font-size=\"14.00\">system[11, 1]</text>\n</g>\n<!-- PotentialEnergy&#45;&gt;system_G100 -->\n<g id=\"edge71\" class=\"edge\">\n<title>PotentialEnergy:e-&gt;system_G100:w</title>\n<path fill=\"none\" stroke=\"black\" d=\"M211,-616C225.67,-616 232.43,-105.47 246.6,-73.56\"/>\n<ellipse fill=\"black\" stroke=\"black\" cx=\"247.33\" cy=\"-72.75\" rx=\"1\" ry=\"1\"/>\n<text text-anchor=\"middle\" x=\"229.5\" y=\"-347\" font-family=\"Times,serif\" font-size=\"10.00\">6</text>\n</g>\n<!-- system_G15 -->\n<g id=\"node73\" class=\"node\">\n<title>system_G15</title>\n<text text-anchor=\"middle\" x=\"294\" y=\"-14.3\" font-family=\"Times,serif\" font-size=\"14.00\">system[11, 2]</text>\n</g>\n<!-- PotentialEnergy&#45;&gt;system_G15 -->\n<g id=\"edge72\" class=\"edge\">\n<title>PotentialEnergy:e-&gt;system_G15:w</title>\n<path fill=\"none\" stroke=\"black\" d=\"M211,-595C226.56,-595 231.62,-53.5 246.53,-19.66\"/>\n<ellipse fill=\"black\" stroke=\"black\" cx=\"247.34\" cy=\"-18.75\" rx=\"1\" ry=\"1\"/>\n<text text-anchor=\"middle\" x=\"229.5\" y=\"-310\" font-family=\"Times,serif\" font-size=\"10.00\">6</text>\n</g>\n</g>\n</svg>",
          "text/plain": "<IPython.core.display.SVG object>"
         },
         "metadata": {},
         "output_type": "display_data"
        }
       ],
       "tabbable": null,
       "tooltip": null
      }
     },
     "046c78dbd7e64e12a40353831b5b2c39": {
      "model_module": "@jupyter-widgets/controls",
      "model_module_version": "2.0.0",
      "model_name": "HBoxModel",
      "state": {
       "_dom_classes": [],
       "_model_module": "@jupyter-widgets/controls",
       "_model_module_version": "2.0.0",
       "_model_name": "HBoxModel",
       "_view_count": null,
       "_view_module": "@jupyter-widgets/controls",
       "_view_module_version": "2.0.0",
       "_view_name": "HBoxView",
       "box_style": "",
       "children": [
        "IPY_MODEL_28aaad49b9784f6496e6c81976c3eac6"
       ],
       "layout": "IPY_MODEL_1f544019181246eab3e51622cc19e0de",
       "tabbable": null,
       "tooltip": null
      }
     },
     "093456ef1d7843f2903efbd039aa679c": {
      "model_module": "@jupyter-widgets/base",
      "model_module_version": "2.0.0",
      "model_name": "LayoutModel",
      "state": {
       "_model_module": "@jupyter-widgets/base",
       "_model_module_version": "2.0.0",
       "_model_name": "LayoutModel",
       "_view_count": null,
       "_view_module": "@jupyter-widgets/base",
       "_view_module_version": "2.0.0",
       "_view_name": "LayoutView",
       "align_content": null,
       "align_items": null,
       "align_self": null,
       "border_bottom": null,
       "border_left": null,
       "border_right": null,
       "border_top": null,
       "bottom": null,
       "display": null,
       "flex": null,
       "flex_flow": null,
       "grid_area": null,
       "grid_auto_columns": null,
       "grid_auto_flow": null,
       "grid_auto_rows": null,
       "grid_column": null,
       "grid_gap": null,
       "grid_row": null,
       "grid_template_areas": null,
       "grid_template_columns": null,
       "grid_template_rows": null,
       "height": null,
       "justify_content": null,
       "justify_items": null,
       "left": null,
       "margin": null,
       "max_height": null,
       "max_width": null,
       "min_height": null,
       "min_width": null,
       "object_fit": null,
       "object_position": null,
       "order": null,
       "overflow": null,
       "padding": null,
       "right": null,
       "top": null,
       "visibility": null,
       "width": null
      }
     },
     "1f544019181246eab3e51622cc19e0de": {
      "model_module": "@jupyter-widgets/base",
      "model_module_version": "2.0.0",
      "model_name": "LayoutModel",
      "state": {
       "_model_module": "@jupyter-widgets/base",
       "_model_module_version": "2.0.0",
       "_model_name": "LayoutModel",
       "_view_count": null,
       "_view_module": "@jupyter-widgets/base",
       "_view_module_version": "2.0.0",
       "_view_name": "LayoutView",
       "align_content": null,
       "align_items": null,
       "align_self": null,
       "border_bottom": null,
       "border_left": null,
       "border_right": null,
       "border_top": null,
       "bottom": null,
       "display": null,
       "flex": null,
       "flex_flow": null,
       "grid_area": null,
       "grid_auto_columns": null,
       "grid_auto_flow": null,
       "grid_auto_rows": null,
       "grid_column": null,
       "grid_gap": null,
       "grid_row": null,
       "grid_template_areas": null,
       "grid_template_columns": null,
       "grid_template_rows": null,
       "height": null,
       "justify_content": null,
       "justify_items": null,
       "left": null,
       "margin": null,
       "max_height": null,
       "max_width": null,
       "min_height": null,
       "min_width": null,
       "object_fit": null,
       "object_position": null,
       "order": null,
       "overflow": null,
       "padding": null,
       "right": null,
       "top": null,
       "visibility": null,
       "width": null
      }
     },
     "21aebcd3ed1342aaa8ee0073d22f2107": {
      "model_module": "@jupyter-widgets/base",
      "model_module_version": "2.0.0",
      "model_name": "LayoutModel",
      "state": {
       "_model_module": "@jupyter-widgets/base",
       "_model_module_version": "2.0.0",
       "_model_name": "LayoutModel",
       "_view_count": null,
       "_view_module": "@jupyter-widgets/base",
       "_view_module_version": "2.0.0",
       "_view_name": "LayoutView",
       "align_content": null,
       "align_items": null,
       "align_self": null,
       "border_bottom": null,
       "border_left": null,
       "border_right": null,
       "border_top": null,
       "bottom": null,
       "display": null,
       "flex": null,
       "flex_flow": null,
       "grid_area": null,
       "grid_auto_columns": null,
       "grid_auto_flow": null,
       "grid_auto_rows": null,
       "grid_column": null,
       "grid_gap": null,
       "grid_row": null,
       "grid_template_areas": null,
       "grid_template_columns": null,
       "grid_template_rows": null,
       "height": null,
       "justify_content": null,
       "justify_items": null,
       "left": null,
       "margin": null,
       "max_height": null,
       "max_width": null,
       "min_height": null,
       "min_width": null,
       "object_fit": null,
       "object_position": null,
       "order": null,
       "overflow": null,
       "padding": null,
       "right": null,
       "top": null,
       "visibility": null,
       "width": null
      }
     },
     "28aaad49b9784f6496e6c81976c3eac6": {
      "model_module": "@jupyter-widgets/output",
      "model_module_version": "1.0.0",
      "model_name": "OutputModel",
      "state": {
       "_dom_classes": [],
       "_model_module": "@jupyter-widgets/output",
       "_model_module_version": "1.0.0",
       "_model_name": "OutputModel",
       "_view_count": null,
       "_view_module": "@jupyter-widgets/output",
       "_view_module_version": "1.0.0",
       "_view_name": "OutputView",
       "layout": "IPY_MODEL_eebedb501db444bfadea64dd0d639a6f",
       "msg_id": "",
       "outputs": [
        {
         "data": {
          "text/markdown": "`kinetic_energy`",
          "text/plain": "<IPython.core.display.Markdown object>"
         },
         "metadata": {},
         "output_type": "display_data"
        },
        {
         "data": {
          "image/svg+xml": "<svg xmlns=\"http://www.w3.org/2000/svg\" xmlns:xlink=\"http://www.w3.org/1999/xlink\" width=\"348pt\" height=\"1934pt\" viewBox=\"0.00 0.00 348.00 1934.00\">\n<g id=\"graph0\" class=\"graph\" transform=\"scale(1 1) rotate(0) translate(4 1930)\">\n<title>my_graph</title>\n<polygon fill=\"white\" stroke=\"transparent\" points=\"-4,4 -4,-1930 344,-1930 344,4 -4,4\"/>\n<!-- system_G99 -->\n<g id=\"node1\" class=\"node\">\n<title>system_G99</title>\n<text text-anchor=\"middle\" x=\"46\" y=\"-1904.3\" font-family=\"Times,serif\" font-size=\"14.00\">system[0, 0]</text>\n</g>\n<!-- KineticEnergy -->\n<g id=\"node37\" class=\"node\">\n<title>KineticEnergy</title>\n<polygon fill=\"none\" stroke=\"black\" points=\"129,-1341 129,-1358 211,-1358 211,-1341 129,-1341\"/>\n<text text-anchor=\"start\" x=\"153\" y=\"-1347\" font-family=\"Times,serif\" font-size=\"10.00\">U_T(dt)</text>\n<polygon fill=\"none\" stroke=\"black\" points=\"129,-1320 129,-1341 211,-1341 211,-1320 129,-1320\"/>\n<text text-anchor=\"start\" x=\"135.5\" y=\"-1326.8\" font-family=\"Times,serif\" font-size=\"14.00\">system[0, 0]</text>\n<polygon fill=\"none\" stroke=\"black\" points=\"129,-1299 129,-1320 211,-1320 211,-1299 129,-1299\"/>\n<text text-anchor=\"start\" x=\"135.5\" y=\"-1305.8\" font-family=\"Times,serif\" font-size=\"14.00\">system[0, 1]</text>\n<polygon fill=\"none\" stroke=\"black\" points=\"129,-1278 129,-1299 211,-1299 211,-1278 129,-1278\"/>\n<text text-anchor=\"start\" x=\"135.5\" y=\"-1284.8\" font-family=\"Times,serif\" font-size=\"14.00\">system[0, 2]</text>\n<polygon fill=\"none\" stroke=\"black\" points=\"129,-1257 129,-1278 211,-1278 211,-1257 129,-1257\"/>\n<text text-anchor=\"start\" x=\"135.5\" y=\"-1263.8\" font-family=\"Times,serif\" font-size=\"14.00\">system[1, 0]</text>\n<polygon fill=\"none\" stroke=\"black\" points=\"129,-1236 129,-1257 211,-1257 211,-1236 129,-1236\"/>\n<text text-anchor=\"start\" x=\"135.5\" y=\"-1242.8\" font-family=\"Times,serif\" font-size=\"14.00\">system[1, 1]</text>\n<polygon fill=\"none\" stroke=\"black\" points=\"129,-1215 129,-1236 211,-1236 211,-1215 129,-1215\"/>\n<text text-anchor=\"start\" x=\"135.5\" y=\"-1221.8\" font-family=\"Times,serif\" font-size=\"14.00\">system[1, 2]</text>\n<polygon fill=\"none\" stroke=\"black\" points=\"129,-1194 129,-1215 211,-1215 211,-1194 129,-1194\"/>\n<text text-anchor=\"start\" x=\"135.5\" y=\"-1200.8\" font-family=\"Times,serif\" font-size=\"14.00\">system[2, 0]</text>\n<polygon fill=\"none\" stroke=\"black\" points=\"129,-1173 129,-1194 211,-1194 211,-1173 129,-1173\"/>\n<text text-anchor=\"start\" x=\"135.5\" y=\"-1179.8\" font-family=\"Times,serif\" font-size=\"14.00\">system[2, 1]</text>\n<polygon fill=\"none\" stroke=\"black\" points=\"129,-1152 129,-1173 211,-1173 211,-1152 129,-1152\"/>\n<text text-anchor=\"start\" x=\"135.5\" y=\"-1158.8\" font-family=\"Times,serif\" font-size=\"14.00\">system[2, 2]</text>\n<polygon fill=\"none\" stroke=\"black\" points=\"129,-1131 129,-1152 211,-1152 211,-1131 129,-1131\"/>\n<text text-anchor=\"start\" x=\"135.5\" y=\"-1137.8\" font-family=\"Times,serif\" font-size=\"14.00\">system[3, 0]</text>\n<polygon fill=\"none\" stroke=\"black\" points=\"129,-1110 129,-1131 211,-1131 211,-1110 129,-1110\"/>\n<text text-anchor=\"start\" x=\"135.5\" y=\"-1116.8\" font-family=\"Times,serif\" font-size=\"14.00\">system[3, 1]</text>\n<polygon fill=\"none\" stroke=\"black\" points=\"129,-1089 129,-1110 211,-1110 211,-1089 129,-1089\"/>\n<text text-anchor=\"start\" x=\"135.5\" y=\"-1095.8\" font-family=\"Times,serif\" font-size=\"14.00\">system[3, 2]</text>\n<polygon fill=\"none\" stroke=\"black\" points=\"129,-1068 129,-1089 211,-1089 211,-1068 129,-1068\"/>\n<text text-anchor=\"start\" x=\"135.5\" y=\"-1074.8\" font-family=\"Times,serif\" font-size=\"14.00\">system[4, 0]</text>\n<polygon fill=\"none\" stroke=\"black\" points=\"129,-1047 129,-1068 211,-1068 211,-1047 129,-1047\"/>\n<text text-anchor=\"start\" x=\"135.5\" y=\"-1053.8\" font-family=\"Times,serif\" font-size=\"14.00\">system[4, 1]</text>\n<polygon fill=\"none\" stroke=\"black\" points=\"129,-1026 129,-1047 211,-1047 211,-1026 129,-1026\"/>\n<text text-anchor=\"start\" x=\"135.5\" y=\"-1032.8\" font-family=\"Times,serif\" font-size=\"14.00\">system[4, 2]</text>\n<polygon fill=\"none\" stroke=\"black\" points=\"129,-1005 129,-1026 211,-1026 211,-1005 129,-1005\"/>\n<text text-anchor=\"start\" x=\"135.5\" y=\"-1011.8\" font-family=\"Times,serif\" font-size=\"14.00\">system[5, 0]</text>\n<polygon fill=\"none\" stroke=\"black\" points=\"129,-984 129,-1005 211,-1005 211,-984 129,-984\"/>\n<text text-anchor=\"start\" x=\"135.5\" y=\"-990.8\" font-family=\"Times,serif\" font-size=\"14.00\">system[5, 1]</text>\n<polygon fill=\"none\" stroke=\"black\" points=\"129,-963 129,-984 211,-984 211,-963 129,-963\"/>\n<text text-anchor=\"start\" x=\"135.5\" y=\"-969.8\" font-family=\"Times,serif\" font-size=\"14.00\">system[5, 2]</text>\n<polygon fill=\"none\" stroke=\"black\" points=\"129,-942 129,-963 211,-963 211,-942 129,-942\"/>\n<text text-anchor=\"start\" x=\"135.5\" y=\"-948.8\" font-family=\"Times,serif\" font-size=\"14.00\">system[6, 0]</text>\n<polygon fill=\"none\" stroke=\"black\" points=\"129,-921 129,-942 211,-942 211,-921 129,-921\"/>\n<text text-anchor=\"start\" x=\"135.5\" y=\"-927.8\" font-family=\"Times,serif\" font-size=\"14.00\">system[6, 1]</text>\n<polygon fill=\"none\" stroke=\"black\" points=\"129,-900 129,-921 211,-921 211,-900 129,-900\"/>\n<text text-anchor=\"start\" x=\"135.5\" y=\"-906.8\" font-family=\"Times,serif\" font-size=\"14.00\">system[6, 2]</text>\n<polygon fill=\"none\" stroke=\"black\" points=\"129,-879 129,-900 211,-900 211,-879 129,-879\"/>\n<text text-anchor=\"start\" x=\"135.5\" y=\"-885.8\" font-family=\"Times,serif\" font-size=\"14.00\">system[7, 0]</text>\n<polygon fill=\"none\" stroke=\"black\" points=\"129,-858 129,-879 211,-879 211,-858 129,-858\"/>\n<text text-anchor=\"start\" x=\"135.5\" y=\"-864.8\" font-family=\"Times,serif\" font-size=\"14.00\">system[7, 1]</text>\n<polygon fill=\"none\" stroke=\"black\" points=\"129,-837 129,-858 211,-858 211,-837 129,-837\"/>\n<text text-anchor=\"start\" x=\"135.5\" y=\"-843.8\" font-family=\"Times,serif\" font-size=\"14.00\">system[7, 2]</text>\n<polygon fill=\"none\" stroke=\"black\" points=\"129,-816 129,-837 211,-837 211,-816 129,-816\"/>\n<text text-anchor=\"start\" x=\"135.5\" y=\"-822.8\" font-family=\"Times,serif\" font-size=\"14.00\">system[8, 0]</text>\n<polygon fill=\"none\" stroke=\"black\" points=\"129,-795 129,-816 211,-816 211,-795 129,-795\"/>\n<text text-anchor=\"start\" x=\"135.5\" y=\"-801.8\" font-family=\"Times,serif\" font-size=\"14.00\">system[8, 1]</text>\n<polygon fill=\"none\" stroke=\"black\" points=\"129,-774 129,-795 211,-795 211,-774 129,-774\"/>\n<text text-anchor=\"start\" x=\"135.5\" y=\"-780.8\" font-family=\"Times,serif\" font-size=\"14.00\">system[8, 2]</text>\n<polygon fill=\"none\" stroke=\"black\" points=\"129,-753 129,-774 211,-774 211,-753 129,-753\"/>\n<text text-anchor=\"start\" x=\"135.5\" y=\"-759.8\" font-family=\"Times,serif\" font-size=\"14.00\">system[9, 0]</text>\n<polygon fill=\"none\" stroke=\"black\" points=\"129,-732 129,-753 211,-753 211,-732 129,-732\"/>\n<text text-anchor=\"start\" x=\"135.5\" y=\"-738.8\" font-family=\"Times,serif\" font-size=\"14.00\">system[9, 1]</text>\n<polygon fill=\"none\" stroke=\"black\" points=\"129,-711 129,-732 211,-732 211,-711 129,-711\"/>\n<text text-anchor=\"start\" x=\"135.5\" y=\"-717.8\" font-family=\"Times,serif\" font-size=\"14.00\">system[9, 2]</text>\n<polygon fill=\"none\" stroke=\"black\" points=\"129,-690 129,-711 211,-711 211,-690 129,-690\"/>\n<text text-anchor=\"start\" x=\"132\" y=\"-696.8\" font-family=\"Times,serif\" font-size=\"14.00\">system[10, 0]</text>\n<polygon fill=\"none\" stroke=\"black\" points=\"129,-669 129,-690 211,-690 211,-669 129,-669\"/>\n<text text-anchor=\"start\" x=\"132\" y=\"-675.8\" font-family=\"Times,serif\" font-size=\"14.00\">system[10, 1]</text>\n<polygon fill=\"none\" stroke=\"black\" points=\"129,-648 129,-669 211,-669 211,-648 129,-648\"/>\n<text text-anchor=\"start\" x=\"132\" y=\"-654.8\" font-family=\"Times,serif\" font-size=\"14.00\">system[10, 2]</text>\n<polygon fill=\"none\" stroke=\"black\" points=\"129,-627 129,-648 211,-648 211,-627 129,-627\"/>\n<text text-anchor=\"start\" x=\"132\" y=\"-633.8\" font-family=\"Times,serif\" font-size=\"14.00\">system[11, 0]</text>\n<polygon fill=\"none\" stroke=\"black\" points=\"129,-606 129,-627 211,-627 211,-606 129,-606\"/>\n<text text-anchor=\"start\" x=\"132\" y=\"-612.8\" font-family=\"Times,serif\" font-size=\"14.00\">system[11, 1]</text>\n<polygon fill=\"none\" stroke=\"black\" points=\"129,-585 129,-606 211,-606 211,-585 129,-585\"/>\n<text text-anchor=\"start\" x=\"132\" y=\"-591.8\" font-family=\"Times,serif\" font-size=\"14.00\">system[11, 2]</text>\n</g>\n<!-- system_G99&#45;&gt;KineticEnergy -->\n<g id=\"edge1\" class=\"edge\">\n<title>system_G99:e-&gt;KineticEnergy:w</title>\n<path fill=\"none\" stroke=\"black\" d=\"M90,-1908C105.56,-1908 112.5,-1366.5 127.52,-1332.66\"/>\n<ellipse fill=\"black\" stroke=\"black\" cx=\"128.33\" cy=\"-1331.75\" rx=\"1\" ry=\"1\"/>\n<text text-anchor=\"middle\" x=\"110.5\" y=\"-1605\" font-family=\"Times,serif\" font-size=\"10.00\">6</text>\n</g>\n<!-- system_G54 -->\n<g id=\"node2\" class=\"node\">\n<title>system_G54</title>\n<text text-anchor=\"middle\" x=\"46\" y=\"-1850.3\" font-family=\"Times,serif\" font-size=\"14.00\">system[0, 1]</text>\n</g>\n<!-- system_G54&#45;&gt;KineticEnergy -->\n<g id=\"edge2\" class=\"edge\">\n<title>system_G54:e-&gt;KineticEnergy:w</title>\n<path fill=\"none\" stroke=\"black\" d=\"M90,-1854C104.68,-1854 113.3,-1343.47 127.6,-1311.56\"/>\n<ellipse fill=\"black\" stroke=\"black\" cx=\"128.33\" cy=\"-1310.74\" rx=\"1\" ry=\"1\"/>\n<text text-anchor=\"middle\" x=\"110.5\" y=\"-1568\" font-family=\"Times,serif\" font-size=\"10.00\">6</text>\n</g>\n<!-- system_G22 -->\n<g id=\"node3\" class=\"node\">\n<title>system_G22</title>\n<text text-anchor=\"middle\" x=\"46\" y=\"-1796.3\" font-family=\"Times,serif\" font-size=\"14.00\">system[0, 2]</text>\n</g>\n<!-- system_G22&#45;&gt;KineticEnergy -->\n<g id=\"edge3\" class=\"edge\">\n<title>system_G22:e-&gt;KineticEnergy:w</title>\n<path fill=\"none\" stroke=\"black\" d=\"M90,-1800C103.74,-1800 114.02,-1324.3 127.51,-1290.85\"/>\n<ellipse fill=\"black\" stroke=\"black\" cx=\"128.37\" cy=\"-1289.78\" rx=\"1\" ry=\"1\"/>\n<text text-anchor=\"middle\" x=\"110.5\" y=\"-1532\" font-family=\"Times,serif\" font-size=\"10.00\">6</text>\n</g>\n<!-- system_G37 -->\n<g id=\"node4\" class=\"node\">\n<title>system_G37</title>\n<text text-anchor=\"middle\" x=\"46\" y=\"-1742.3\" font-family=\"Times,serif\" font-size=\"14.00\">system[1, 0]</text>\n</g>\n<!-- system_G37&#45;&gt;KineticEnergy -->\n<g id=\"edge4\" class=\"edge\">\n<title>system_G37:e-&gt;KineticEnergy:w</title>\n<path fill=\"none\" stroke=\"black\" d=\"M90,-1746C115.92,-1746 103.11,-1293.78 126.9,-1269.05\"/>\n<ellipse fill=\"black\" stroke=\"black\" cx=\"128.11\" cy=\"-1268.45\" rx=\"1\" ry=\"1\"/>\n<text text-anchor=\"middle\" x=\"110.5\" y=\"-1481\" font-family=\"Times,serif\" font-size=\"10.00\">6</text>\n</g>\n<!-- system_G92 -->\n<g id=\"node5\" class=\"node\">\n<title>system_G92</title>\n<text text-anchor=\"middle\" x=\"46\" y=\"-1688.3\" font-family=\"Times,serif\" font-size=\"14.00\">system[1, 1]</text>\n</g>\n<!-- system_G92&#45;&gt;KineticEnergy -->\n<g id=\"edge5\" class=\"edge\">\n<title>system_G92:e-&gt;KineticEnergy:w</title>\n<path fill=\"none\" stroke=\"black\" d=\"M90,-1692C114.14,-1692 104.74,-1271 127.04,-1247.98\"/>\n<ellipse fill=\"black\" stroke=\"black\" cx=\"128.11\" cy=\"-1247.45\" rx=\"1\" ry=\"1\"/>\n<text text-anchor=\"middle\" x=\"110.5\" y=\"-1445\" font-family=\"Times,serif\" font-size=\"10.00\">6</text>\n</g>\n<!-- system_G101 -->\n<g id=\"node6\" class=\"node\">\n<title>system_G101</title>\n<text text-anchor=\"middle\" x=\"46\" y=\"-1634.3\" font-family=\"Times,serif\" font-size=\"14.00\">system[1, 2]</text>\n</g>\n<!-- system_G101&#45;&gt;KineticEnergy -->\n<g id=\"edge6\" class=\"edge\">\n<title>system_G101:e-&gt;KineticEnergy:w</title>\n<path fill=\"none\" stroke=\"black\" d=\"M90,-1638C112.36,-1638 106.37,-1248.22 127.18,-1226.91\"/>\n<ellipse fill=\"black\" stroke=\"black\" cx=\"128.11\" cy=\"-1226.45\" rx=\"1\" ry=\"1\"/>\n<text text-anchor=\"middle\" x=\"110.5\" y=\"-1410\" font-family=\"Times,serif\" font-size=\"10.00\">6</text>\n</g>\n<!-- system_G12 -->\n<g id=\"node7\" class=\"node\">\n<title>system_G12</title>\n<text text-anchor=\"middle\" x=\"46\" y=\"-1580.3\" font-family=\"Times,serif\" font-size=\"14.00\">system[2, 0]</text>\n</g>\n<!-- system_G12&#45;&gt;KineticEnergy -->\n<g id=\"edge7\" class=\"edge\">\n<title>system_G12:e-&gt;KineticEnergy:w</title>\n<path fill=\"none\" stroke=\"black\" d=\"M90,-1584C110.51,-1584 108.02,-1228.32 127.09,-1206.09\"/>\n<ellipse fill=\"black\" stroke=\"black\" cx=\"128.13\" cy=\"-1205.49\" rx=\"1\" ry=\"1\"/>\n<text text-anchor=\"middle\" x=\"110.5\" y=\"-1386\" font-family=\"Times,serif\" font-size=\"10.00\">6</text>\n</g>\n<!-- system_G39 -->\n<g id=\"node8\" class=\"node\">\n<title>system_G39</title>\n<text text-anchor=\"middle\" x=\"46\" y=\"-1526.3\" font-family=\"Times,serif\" font-size=\"14.00\">system[2, 1]</text>\n</g>\n<!-- system_G39&#45;&gt;KineticEnergy -->\n<g id=\"edge8\" class=\"edge\">\n<title>system_G39:e-&gt;KineticEnergy:w</title>\n<path fill=\"none\" stroke=\"black\" d=\"M90,-1530C108.74,-1530 109.62,-1205.29 127.24,-1184.99\"/>\n<ellipse fill=\"black\" stroke=\"black\" cx=\"128.13\" cy=\"-1184.49\" rx=\"1\" ry=\"1\"/>\n<text text-anchor=\"middle\" x=\"110.5\" y=\"-1349\" font-family=\"Times,serif\" font-size=\"10.00\">6</text>\n</g>\n<!-- system_G94 -->\n<g id=\"node9\" class=\"node\">\n<title>system_G94</title>\n<text text-anchor=\"middle\" x=\"46\" y=\"-1472.3\" font-family=\"Times,serif\" font-size=\"14.00\">system[2, 2]</text>\n</g>\n<!-- system_G94&#45;&gt;KineticEnergy -->\n<g id=\"edge9\" class=\"edge\">\n<title>system_G94:e-&gt;KineticEnergy:w</title>\n<path fill=\"none\" stroke=\"black\" d=\"M90,-1476C106.91,-1476 111.18,-1184.62 127.2,-1164.13\"/>\n<ellipse fill=\"black\" stroke=\"black\" cx=\"128.15\" cy=\"-1163.53\" rx=\"1\" ry=\"1\"/>\n<text text-anchor=\"middle\" x=\"110.5\" y=\"-1313\" font-family=\"Times,serif\" font-size=\"10.00\">6</text>\n</g>\n<!-- system_G106 -->\n<g id=\"node10\" class=\"node\">\n<title>system_G106</title>\n<text text-anchor=\"middle\" x=\"46\" y=\"-1418.3\" font-family=\"Times,serif\" font-size=\"14.00\">system[3, 0]</text>\n</g>\n<!-- system_G106&#45;&gt;KineticEnergy -->\n<g id=\"edge10\" class=\"edge\">\n<title>system_G106:e-&gt;KineticEnergy:w</title>\n<path fill=\"none\" stroke=\"black\" d=\"M90,-1422C120.68,-1422 98.67,-1154.97 126.88,-1142.45\"/>\n<ellipse fill=\"black\" stroke=\"black\" cx=\"128.02\" cy=\"-1142.21\" rx=\"1\" ry=\"1\"/>\n<text text-anchor=\"middle\" x=\"110.5\" y=\"-1259\" font-family=\"Times,serif\" font-size=\"10.00\">6</text>\n</g>\n<!-- system_G60 -->\n<g id=\"node11\" class=\"node\">\n<title>system_G60</title>\n<text text-anchor=\"middle\" x=\"46\" y=\"-1364.3\" font-family=\"Times,serif\" font-size=\"14.00\">system[3, 1]</text>\n</g>\n<!-- system_G60&#45;&gt;KineticEnergy -->\n<g id=\"edge11\" class=\"edge\">\n<title>system_G60:e-&gt;KineticEnergy:w</title>\n<path fill=\"none\" stroke=\"black\" d=\"M90,-1368C117.02,-1368 102.09,-1134.32 126.82,-1121.54\"/>\n<ellipse fill=\"black\" stroke=\"black\" cx=\"128.03\" cy=\"-1121.24\" rx=\"1\" ry=\"1\"/>\n<text text-anchor=\"middle\" x=\"110.5\" y=\"-1232\" font-family=\"Times,serif\" font-size=\"10.00\">6</text>\n</g>\n<!-- system_G10 -->\n<g id=\"node12\" class=\"node\">\n<title>system_G10</title>\n<text text-anchor=\"middle\" x=\"46\" y=\"-1310.3\" font-family=\"Times,serif\" font-size=\"14.00\">system[3, 2]</text>\n</g>\n<!-- system_G10&#45;&gt;KineticEnergy -->\n<g id=\"edge12\" class=\"edge\">\n<title>system_G10:e-&gt;KineticEnergy:w</title>\n<path fill=\"none\" stroke=\"black\" d=\"M90,-1314C113.41,-1314 105.38,-1113.17 126.83,-1100.61\"/>\n<ellipse fill=\"black\" stroke=\"black\" cx=\"128.04\" cy=\"-1100.27\" rx=\"1\" ry=\"1\"/>\n<text text-anchor=\"middle\" x=\"110.5\" y=\"-1197\" font-family=\"Times,serif\" font-size=\"10.00\">6</text>\n</g>\n<!-- system_G82 -->\n<g id=\"node13\" class=\"node\">\n<title>system_G82</title>\n<text text-anchor=\"middle\" x=\"46\" y=\"-1256.3\" font-family=\"Times,serif\" font-size=\"14.00\">system[4, 0]</text>\n</g>\n<!-- system_G82&#45;&gt;KineticEnergy -->\n<g id=\"edge13\" class=\"edge\">\n<title>system_G82:e-&gt;KineticEnergy:w</title>\n<path fill=\"none\" stroke=\"black\" d=\"M90,-1260C109.77,-1260 108.56,-1092.86 126.69,-1079.81\"/>\n<ellipse fill=\"black\" stroke=\"black\" cx=\"128.06\" cy=\"-1079.33\" rx=\"1\" ry=\"1\"/>\n<text text-anchor=\"middle\" x=\"110.5\" y=\"-1167\" font-family=\"Times,serif\" font-size=\"10.00\">6</text>\n</g>\n<!-- system_G42 -->\n<g id=\"node14\" class=\"node\">\n<title>system_G42</title>\n<text text-anchor=\"middle\" x=\"46\" y=\"-1202.3\" font-family=\"Times,serif\" font-size=\"14.00\">system[4, 1]</text>\n</g>\n<!-- system_G42&#45;&gt;KineticEnergy -->\n<g id=\"edge14\" class=\"edge\">\n<title>system_G42:e-&gt;KineticEnergy:w</title>\n<path fill=\"none\" stroke=\"black\" d=\"M90,-1206C119.94,-1206 103.19,-1170.9 111,-1142 115.79,-1124.29 110.37,-1063.05 126.88,-1058.29\"/>\n<ellipse fill=\"black\" stroke=\"black\" cx=\"128.01\" cy=\"-1058.14\" rx=\"1\" ry=\"1\"/>\n<text text-anchor=\"middle\" x=\"110.5\" y=\"-1148\" font-family=\"Times,serif\" font-size=\"10.00\">6</text>\n</g>\n<!-- system_G8 -->\n<g id=\"node15\" class=\"node\">\n<title>system_G8</title>\n<text text-anchor=\"middle\" x=\"46\" y=\"-1148.3\" font-family=\"Times,serif\" font-size=\"14.00\">system[4, 2]</text>\n</g>\n<!-- system_G8&#45;&gt;KineticEnergy -->\n<g id=\"edge15\" class=\"edge\">\n<title>system_G8:e-&gt;KineticEnergy:w</title>\n<path fill=\"none\" stroke=\"black\" d=\"M90,-1152C143.23,-1152 76.89,-1040.12 126.85,-1037.06\"/>\n<ellipse fill=\"black\" stroke=\"black\" cx=\"128\" cy=\"-1037.03\" rx=\"1\" ry=\"1\"/>\n<text text-anchor=\"middle\" x=\"110.5\" y=\"-1140\" font-family=\"Times,serif\" font-size=\"10.00\">6</text>\n</g>\n<!-- system_G19 -->\n<g id=\"node16\" class=\"node\">\n<title>system_G19</title>\n<text text-anchor=\"middle\" x=\"46\" y=\"-1094.3\" font-family=\"Times,serif\" font-size=\"14.00\">system[5, 0]</text>\n</g>\n<!-- system_G19&#45;&gt;KineticEnergy -->\n<g id=\"edge16\" class=\"edge\">\n<title>system_G19:e-&gt;KineticEnergy:w</title>\n<path fill=\"none\" stroke=\"black\" d=\"M90,-1098C129.57,-1098 90.24,-1019.17 126.73,-1016.09\"/>\n<ellipse fill=\"black\" stroke=\"black\" cx=\"128\" cy=\"-1016.04\" rx=\"1\" ry=\"1\"/>\n<text text-anchor=\"middle\" x=\"110.5\" y=\"-1038\" font-family=\"Times,serif\" font-size=\"10.00\">6</text>\n</g>\n<!-- system_G28 -->\n<g id=\"node17\" class=\"node\">\n<title>system_G28</title>\n<text text-anchor=\"middle\" x=\"46\" y=\"-1040.3\" font-family=\"Times,serif\" font-size=\"14.00\">system[5, 1]</text>\n</g>\n<!-- system_G28&#45;&gt;KineticEnergy -->\n<g id=\"edge17\" class=\"edge\">\n<title>system_G28:e-&gt;KineticEnergy:w</title>\n<path fill=\"none\" stroke=\"black\" d=\"M90,-1044C117.07,-1044 102.04,-997.64 126.81,-995.11\"/>\n<ellipse fill=\"black\" stroke=\"black\" cx=\"128\" cy=\"-995.05\" rx=\"1\" ry=\"1\"/>\n<text text-anchor=\"middle\" x=\"110.5\" y=\"-1019\" font-family=\"Times,serif\" font-size=\"10.00\">6</text>\n</g>\n<!-- system_G104 -->\n<g id=\"node18\" class=\"node\">\n<title>system_G104</title>\n<text text-anchor=\"middle\" x=\"46\" y=\"-986.3\" font-family=\"Times,serif\" font-size=\"14.00\">system[5, 2]</text>\n</g>\n<!-- system_G104&#45;&gt;KineticEnergy -->\n<g id=\"edge18\" class=\"edge\">\n<title>system_G104:e-&gt;KineticEnergy:w</title>\n<path fill=\"none\" stroke=\"black\" d=\"M90,-990C108,-990 110.12,-975.23 126.88,-974.07\"/>\n<ellipse fill=\"black\" stroke=\"black\" cx=\"128\" cy=\"-974.03\" rx=\"1\" ry=\"1\"/>\n<text text-anchor=\"middle\" x=\"110.5\" y=\"-984\" font-family=\"Times,serif\" font-size=\"10.00\">6</text>\n</g>\n<!-- system_G5 -->\n<g id=\"node19\" class=\"node\">\n<title>system_G5</title>\n<text text-anchor=\"middle\" x=\"46\" y=\"-932.3\" font-family=\"Times,serif\" font-size=\"14.00\">system[6, 0]</text>\n</g>\n<!-- system_G5&#45;&gt;KineticEnergy -->\n<g id=\"edge19\" class=\"edge\">\n<title>system_G5:e-&gt;KineticEnergy:w</title>\n<path fill=\"none\" stroke=\"black\" d=\"M90,-936C108,-936 110.12,-950.77 126.88,-951.93\"/>\n<ellipse fill=\"black\" stroke=\"black\" cx=\"128\" cy=\"-951.97\" rx=\"1\" ry=\"1\"/>\n<text text-anchor=\"middle\" x=\"110.5\" y=\"-947\" font-family=\"Times,serif\" font-size=\"10.00\">6</text>\n</g>\n<!-- system_G65 -->\n<g id=\"node20\" class=\"node\">\n<title>system_G65</title>\n<text text-anchor=\"middle\" x=\"46\" y=\"-878.3\" font-family=\"Times,serif\" font-size=\"14.00\">system[6, 1]</text>\n</g>\n<!-- system_G65&#45;&gt;KineticEnergy -->\n<g id=\"edge20\" class=\"edge\">\n<title>system_G65:e-&gt;KineticEnergy:w</title>\n<path fill=\"none\" stroke=\"black\" d=\"M90,-882C117.07,-882 102.04,-928.36 126.81,-930.89\"/>\n<ellipse fill=\"black\" stroke=\"black\" cx=\"128\" cy=\"-930.95\" rx=\"1\" ry=\"1\"/>\n<text text-anchor=\"middle\" x=\"110.5\" y=\"-915\" font-family=\"Times,serif\" font-size=\"10.00\">6</text>\n</g>\n<!-- system_G72 -->\n<g id=\"node21\" class=\"node\">\n<title>system_G72</title>\n<text text-anchor=\"middle\" x=\"46\" y=\"-824.3\" font-family=\"Times,serif\" font-size=\"14.00\">system[6, 2]</text>\n</g>\n<!-- system_G72&#45;&gt;KineticEnergy -->\n<g id=\"edge21\" class=\"edge\">\n<title>system_G72:e-&gt;KineticEnergy:w</title>\n<path fill=\"none\" stroke=\"black\" d=\"M90,-828C129.57,-828 90.24,-906.83 126.73,-909.91\"/>\n<ellipse fill=\"black\" stroke=\"black\" cx=\"128\" cy=\"-909.96\" rx=\"1\" ry=\"1\"/>\n<text text-anchor=\"middle\" x=\"110.5\" y=\"-897\" font-family=\"Times,serif\" font-size=\"10.00\">6</text>\n</g>\n<!-- system_G87 -->\n<g id=\"node22\" class=\"node\">\n<title>system_G87</title>\n<text text-anchor=\"middle\" x=\"46\" y=\"-770.3\" font-family=\"Times,serif\" font-size=\"14.00\">system[7, 0]</text>\n</g>\n<!-- system_G87&#45;&gt;KineticEnergy -->\n<g id=\"edge22\" class=\"edge\">\n<title>system_G87:e-&gt;KineticEnergy:w</title>\n<path fill=\"none\" stroke=\"black\" d=\"M90,-774C143.23,-774 76.89,-885.88 126.85,-888.94\"/>\n<ellipse fill=\"black\" stroke=\"black\" cx=\"128\" cy=\"-888.97\" rx=\"1\" ry=\"1\"/>\n<text text-anchor=\"middle\" x=\"110.5\" y=\"-882\" font-family=\"Times,serif\" font-size=\"10.00\">6</text>\n</g>\n<!-- system_G95 -->\n<g id=\"node23\" class=\"node\">\n<title>system_G95</title>\n<text text-anchor=\"middle\" x=\"46\" y=\"-716.3\" font-family=\"Times,serif\" font-size=\"14.00\">system[7, 1]</text>\n</g>\n<!-- system_G95&#45;&gt;KineticEnergy -->\n<g id=\"edge23\" class=\"edge\">\n<title>system_G95:e-&gt;KineticEnergy:w</title>\n<path fill=\"none\" stroke=\"black\" d=\"M90,-720C119.51,-720 103.26,-754.52 111,-783 115.86,-800.9 110.17,-862.89 126.85,-867.7\"/>\n<ellipse fill=\"black\" stroke=\"black\" cx=\"128.01\" cy=\"-867.86\" rx=\"1\" ry=\"1\"/>\n<text text-anchor=\"middle\" x=\"110.5\" y=\"-786\" font-family=\"Times,serif\" font-size=\"10.00\">6</text>\n</g>\n<!-- system_G48 -->\n<g id=\"node24\" class=\"node\">\n<title>system_G48</title>\n<text text-anchor=\"middle\" x=\"46\" y=\"-662.3\" font-family=\"Times,serif\" font-size=\"14.00\">system[7, 2]</text>\n</g>\n<!-- system_G48&#45;&gt;KineticEnergy -->\n<g id=\"edge24\" class=\"edge\">\n<title>system_G48:e-&gt;KineticEnergy:w</title>\n<path fill=\"none\" stroke=\"black\" d=\"M90,-666C109.77,-666 108.56,-833.14 126.69,-846.19\"/>\n<ellipse fill=\"black\" stroke=\"black\" cx=\"128.06\" cy=\"-846.67\" rx=\"1\" ry=\"1\"/>\n<text text-anchor=\"middle\" x=\"110.5\" y=\"-770\" font-family=\"Times,serif\" font-size=\"10.00\">6</text>\n</g>\n<!-- system_G77 -->\n<g id=\"node25\" class=\"node\">\n<title>system_G77</title>\n<text text-anchor=\"middle\" x=\"46\" y=\"-608.3\" font-family=\"Times,serif\" font-size=\"14.00\">system[8, 0]</text>\n</g>\n<!-- system_G77&#45;&gt;KineticEnergy -->\n<g id=\"edge25\" class=\"edge\">\n<title>system_G77:e-&gt;KineticEnergy:w</title>\n<path fill=\"none\" stroke=\"black\" d=\"M90,-612C113.41,-612 105.38,-812.83 126.83,-825.39\"/>\n<ellipse fill=\"black\" stroke=\"black\" cx=\"128.04\" cy=\"-825.73\" rx=\"1\" ry=\"1\"/>\n<text text-anchor=\"middle\" x=\"110.5\" y=\"-741\" font-family=\"Times,serif\" font-size=\"10.00\">6</text>\n</g>\n<!-- system_G33 -->\n<g id=\"node26\" class=\"node\">\n<title>system_G33</title>\n<text text-anchor=\"middle\" x=\"46\" y=\"-554.3\" font-family=\"Times,serif\" font-size=\"14.00\">system[8, 1]</text>\n</g>\n<!-- system_G33&#45;&gt;KineticEnergy -->\n<g id=\"edge26\" class=\"edge\">\n<title>system_G33:e-&gt;KineticEnergy:w</title>\n<path fill=\"none\" stroke=\"black\" d=\"M90,-558C117.02,-558 102.09,-791.68 126.82,-804.46\"/>\n<ellipse fill=\"black\" stroke=\"black\" cx=\"128.03\" cy=\"-804.76\" rx=\"1\" ry=\"1\"/>\n<text text-anchor=\"middle\" x=\"110.5\" y=\"-713\" font-family=\"Times,serif\" font-size=\"10.00\">6</text>\n</g>\n<!-- system_G86 -->\n<g id=\"node27\" class=\"node\">\n<title>system_G86</title>\n<text text-anchor=\"middle\" x=\"46\" y=\"-500.3\" font-family=\"Times,serif\" font-size=\"14.00\">system[8, 2]</text>\n</g>\n<!-- system_G86&#45;&gt;KineticEnergy -->\n<g id=\"edge27\" class=\"edge\">\n<title>system_G86:e-&gt;KineticEnergy:w</title>\n<path fill=\"none\" stroke=\"black\" d=\"M90,-504C105.09,-504 112.69,-762.55 127.2,-782.75\"/>\n<ellipse fill=\"black\" stroke=\"black\" cx=\"128.18\" cy=\"-783.43\" rx=\"1\" ry=\"1\"/>\n<text text-anchor=\"middle\" x=\"110.5\" y=\"-663\" font-family=\"Times,serif\" font-size=\"10.00\">6</text>\n</g>\n<!-- system_G55 -->\n<g id=\"node28\" class=\"node\">\n<title>system_G55</title>\n<text text-anchor=\"middle\" x=\"46\" y=\"-446.3\" font-family=\"Times,serif\" font-size=\"14.00\">system[9, 0]</text>\n</g>\n<!-- system_G55&#45;&gt;KineticEnergy -->\n<g id=\"edge28\" class=\"edge\">\n<title>system_G55:e-&gt;KineticEnergy:w</title>\n<path fill=\"none\" stroke=\"black\" d=\"M90,-450C106.91,-450 111.18,-741.38 127.2,-761.87\"/>\n<ellipse fill=\"black\" stroke=\"black\" cx=\"128.15\" cy=\"-762.47\" rx=\"1\" ry=\"1\"/>\n<text text-anchor=\"middle\" x=\"110.5\" y=\"-628\" font-family=\"Times,serif\" font-size=\"10.00\">6</text>\n</g>\n<!-- system_G9 -->\n<g id=\"node29\" class=\"node\">\n<title>system_G9</title>\n<text text-anchor=\"middle\" x=\"46\" y=\"-392.3\" font-family=\"Times,serif\" font-size=\"14.00\">system[9, 1]</text>\n</g>\n<!-- system_G9&#45;&gt;KineticEnergy -->\n<g id=\"edge29\" class=\"edge\">\n<title>system_G9:e-&gt;KineticEnergy:w</title>\n<path fill=\"none\" stroke=\"black\" d=\"M90,-396C108.74,-396 109.62,-720.71 127.24,-741.01\"/>\n<ellipse fill=\"black\" stroke=\"black\" cx=\"128.13\" cy=\"-741.51\" rx=\"1\" ry=\"1\"/>\n<text text-anchor=\"middle\" x=\"110.5\" y=\"-592\" font-family=\"Times,serif\" font-size=\"10.00\">6</text>\n</g>\n<!-- system_G69 -->\n<g id=\"node30\" class=\"node\">\n<title>system_G69</title>\n<text text-anchor=\"middle\" x=\"46\" y=\"-338.3\" font-family=\"Times,serif\" font-size=\"14.00\">system[9, 2]</text>\n</g>\n<!-- system_G69&#45;&gt;KineticEnergy -->\n<g id=\"edge30\" class=\"edge\">\n<title>system_G69:e-&gt;KineticEnergy:w</title>\n<path fill=\"none\" stroke=\"black\" d=\"M90,-342C110.51,-342 108.02,-697.68 127.09,-719.91\"/>\n<ellipse fill=\"black\" stroke=\"black\" cx=\"128.13\" cy=\"-720.51\" rx=\"1\" ry=\"1\"/>\n<text text-anchor=\"middle\" x=\"110.5\" y=\"-557\" font-family=\"Times,serif\" font-size=\"10.00\">6</text>\n</g>\n<!-- system_G97 -->\n<g id=\"node31\" class=\"node\">\n<title>system_G97</title>\n<text text-anchor=\"middle\" x=\"46\" y=\"-284.3\" font-family=\"Times,serif\" font-size=\"14.00\">system[10, 0]</text>\n</g>\n<!-- system_G97&#45;&gt;KineticEnergy -->\n<g id=\"edge31\" class=\"edge\">\n<title>system_G97:e-&gt;KineticEnergy:w</title>\n<path fill=\"none\" stroke=\"black\" d=\"M92,-288C114.35,-288 106.49,-677.78 127.19,-699.09\"/>\n<ellipse fill=\"black\" stroke=\"black\" cx=\"128.11\" cy=\"-699.55\" rx=\"1\" ry=\"1\"/>\n<text text-anchor=\"middle\" x=\"110.5\" y=\"-509\" font-family=\"Times,serif\" font-size=\"10.00\">6</text>\n</g>\n<!-- system_G105 -->\n<g id=\"node32\" class=\"node\">\n<title>system_G105</title>\n<text text-anchor=\"middle\" x=\"46\" y=\"-230.3\" font-family=\"Times,serif\" font-size=\"14.00\">system[10, 1]</text>\n</g>\n<!-- system_G105&#45;&gt;KineticEnergy -->\n<g id=\"edge32\" class=\"edge\">\n<title>system_G105:e-&gt;KineticEnergy:w</title>\n<path fill=\"none\" stroke=\"black\" d=\"M92,-234C116.13,-234 104.85,-655 127.05,-678.02\"/>\n<ellipse fill=\"black\" stroke=\"black\" cx=\"128.11\" cy=\"-678.55\" rx=\"1\" ry=\"1\"/>\n<text text-anchor=\"middle\" x=\"110.5\" y=\"-472\" font-family=\"Times,serif\" font-size=\"10.00\">6</text>\n</g>\n<!-- system_G57 -->\n<g id=\"node33\" class=\"node\">\n<title>system_G57</title>\n<text text-anchor=\"middle\" x=\"46\" y=\"-176.3\" font-family=\"Times,serif\" font-size=\"14.00\">system[10, 2]</text>\n</g>\n<!-- system_G57&#45;&gt;KineticEnergy -->\n<g id=\"edge33\" class=\"edge\">\n<title>system_G57:e-&gt;KineticEnergy:w</title>\n<path fill=\"none\" stroke=\"black\" d=\"M92,-180C104.85,-180 114.95,-624.98 127.61,-656.27\"/>\n<ellipse fill=\"black\" stroke=\"black\" cx=\"128.37\" cy=\"-657.22\" rx=\"1\" ry=\"1\"/>\n<text text-anchor=\"middle\" x=\"110.5\" y=\"-422\" font-family=\"Times,serif\" font-size=\"10.00\">6</text>\n</g>\n<!-- system_G18 -->\n<g id=\"node34\" class=\"node\">\n<title>system_G18</title>\n<text text-anchor=\"middle\" x=\"46\" y=\"-122.3\" font-family=\"Times,serif\" font-size=\"14.00\">system[11, 0]</text>\n</g>\n<!-- system_G18&#45;&gt;KineticEnergy -->\n<g id=\"edge34\" class=\"edge\">\n<title>system_G18:e-&gt;KineticEnergy:w</title>\n<path fill=\"none\" stroke=\"black\" d=\"M92,-126C119.8,-126 101.44,-613.33 127.08,-636.17\"/>\n<ellipse fill=\"black\" stroke=\"black\" cx=\"128.08\" cy=\"-636.6\" rx=\"1\" ry=\"1\"/>\n<text text-anchor=\"middle\" x=\"110.5\" y=\"-399\" font-family=\"Times,serif\" font-size=\"10.00\">6</text>\n</g>\n<!-- system_G81 -->\n<g id=\"node35\" class=\"node\">\n<title>system_G81</title>\n<text text-anchor=\"middle\" x=\"46\" y=\"-68.3\" font-family=\"Times,serif\" font-size=\"14.00\">system[11, 1]</text>\n</g>\n<!-- system_G81&#45;&gt;KineticEnergy -->\n<g id=\"edge35\" class=\"edge\">\n<title>system_G81:e-&gt;KineticEnergy:w</title>\n<path fill=\"none\" stroke=\"black\" d=\"M92,-72C106.67,-72 113.43,-582.53 127.6,-614.44\"/>\n<ellipse fill=\"black\" stroke=\"black\" cx=\"128.33\" cy=\"-615.25\" rx=\"1\" ry=\"1\"/>\n<text text-anchor=\"middle\" x=\"110.5\" y=\"-347\" font-family=\"Times,serif\" font-size=\"10.00\">6</text>\n</g>\n<!-- system_G51 -->\n<g id=\"node36\" class=\"node\">\n<title>system_G51</title>\n<text text-anchor=\"middle\" x=\"46\" y=\"-14.3\" font-family=\"Times,serif\" font-size=\"14.00\">system[11, 2]</text>\n</g>\n<!-- system_G51&#45;&gt;KineticEnergy -->\n<g id=\"edge36\" class=\"edge\">\n<title>system_G51:e-&gt;KineticEnergy:w</title>\n<path fill=\"none\" stroke=\"black\" d=\"M92,-18C107.56,-18 112.62,-559.5 127.53,-593.34\"/>\n<ellipse fill=\"black\" stroke=\"black\" cx=\"128.34\" cy=\"-594.25\" rx=\"1\" ry=\"1\"/>\n<text text-anchor=\"middle\" x=\"110.5\" y=\"-310\" font-family=\"Times,serif\" font-size=\"10.00\">6</text>\n</g>\n<!-- system_G64 -->\n<g id=\"node38\" class=\"node\">\n<title>system_G64</title>\n<text text-anchor=\"middle\" x=\"294\" y=\"-1904.3\" font-family=\"Times,serif\" font-size=\"14.00\">system[0, 0]</text>\n</g>\n<!-- KineticEnergy&#45;&gt;system_G64 -->\n<g id=\"edge37\" class=\"edge\">\n<title>KineticEnergy:e-&gt;system_G64:w</title>\n<path fill=\"none\" stroke=\"black\" d=\"M211,-1331C226.56,-1331 233.5,-1872.5 248.52,-1906.34\"/>\n<ellipse fill=\"black\" stroke=\"black\" cx=\"249.33\" cy=\"-1907.25\" rx=\"1\" ry=\"1\"/>\n<text text-anchor=\"middle\" x=\"229.5\" y=\"-1605\" font-family=\"Times,serif\" font-size=\"10.00\">6</text>\n</g>\n<!-- system_G71 -->\n<g id=\"node39\" class=\"node\">\n<title>system_G71</title>\n<text text-anchor=\"middle\" x=\"294\" y=\"-1850.3\" font-family=\"Times,serif\" font-size=\"14.00\">system[0, 1]</text>\n</g>\n<!-- KineticEnergy&#45;&gt;system_G71 -->\n<g id=\"edge38\" class=\"edge\">\n<title>KineticEnergy:e-&gt;system_G71:w</title>\n<path fill=\"none\" stroke=\"black\" d=\"M211,-1310C225.68,-1310 234.3,-1820.53 248.6,-1852.44\"/>\n<ellipse fill=\"black\" stroke=\"black\" cx=\"249.33\" cy=\"-1853.26\" rx=\"1\" ry=\"1\"/>\n<text text-anchor=\"middle\" x=\"229.5\" y=\"-1568\" font-family=\"Times,serif\" font-size=\"10.00\">6</text>\n</g>\n<!-- system_G93 -->\n<g id=\"node40\" class=\"node\">\n<title>system_G93</title>\n<text text-anchor=\"middle\" x=\"294\" y=\"-1796.3\" font-family=\"Times,serif\" font-size=\"14.00\">system[0, 2]</text>\n</g>\n<!-- KineticEnergy&#45;&gt;system_G93 -->\n<g id=\"edge39\" class=\"edge\">\n<title>KineticEnergy:e-&gt;system_G93:w</title>\n<path fill=\"none\" stroke=\"black\" d=\"M211,-1289C224.74,-1289 235.02,-1764.7 248.51,-1798.15\"/>\n<ellipse fill=\"black\" stroke=\"black\" cx=\"249.37\" cy=\"-1799.22\" rx=\"1\" ry=\"1\"/>\n<text text-anchor=\"middle\" x=\"229.5\" y=\"-1532\" font-family=\"Times,serif\" font-size=\"10.00\">6</text>\n</g>\n<!-- system_G53 -->\n<g id=\"node41\" class=\"node\">\n<title>system_G53</title>\n<text text-anchor=\"middle\" x=\"294\" y=\"-1742.3\" font-family=\"Times,serif\" font-size=\"14.00\">system[1, 0]</text>\n</g>\n<!-- KineticEnergy&#45;&gt;system_G53 -->\n<g id=\"edge40\" class=\"edge\">\n<title>KineticEnergy:e-&gt;system_G53:w</title>\n<path fill=\"none\" stroke=\"black\" d=\"M211,-1268C236.92,-1268 224.11,-1720.22 247.9,-1744.95\"/>\n<ellipse fill=\"black\" stroke=\"black\" cx=\"249.11\" cy=\"-1745.55\" rx=\"1\" ry=\"1\"/>\n<text text-anchor=\"middle\" x=\"229.5\" y=\"-1481\" font-family=\"Times,serif\" font-size=\"10.00\">6</text>\n</g>\n<!-- system_G4 -->\n<g id=\"node42\" class=\"node\">\n<title>system_G4</title>\n<text text-anchor=\"middle\" x=\"294\" y=\"-1688.3\" font-family=\"Times,serif\" font-size=\"14.00\">system[1, 1]</text>\n</g>\n<!-- KineticEnergy&#45;&gt;system_G4 -->\n<g id=\"edge41\" class=\"edge\">\n<title>KineticEnergy:e-&gt;system_G4:w</title>\n<path fill=\"none\" stroke=\"black\" d=\"M211,-1247C235.14,-1247 225.74,-1668 248.04,-1691.02\"/>\n<ellipse fill=\"black\" stroke=\"black\" cx=\"249.11\" cy=\"-1691.55\" rx=\"1\" ry=\"1\"/>\n<text text-anchor=\"middle\" x=\"229.5\" y=\"-1445\" font-family=\"Times,serif\" font-size=\"10.00\">6</text>\n</g>\n<!-- system_G66 -->\n<g id=\"node43\" class=\"node\">\n<title>system_G66</title>\n<text text-anchor=\"middle\" x=\"294\" y=\"-1634.3\" font-family=\"Times,serif\" font-size=\"14.00\">system[1, 2]</text>\n</g>\n<!-- KineticEnergy&#45;&gt;system_G66 -->\n<g id=\"edge42\" class=\"edge\">\n<title>KineticEnergy:e-&gt;system_G66:w</title>\n<path fill=\"none\" stroke=\"black\" d=\"M211,-1226C233.36,-1226 227.37,-1615.78 248.18,-1637.09\"/>\n<ellipse fill=\"black\" stroke=\"black\" cx=\"249.11\" cy=\"-1637.55\" rx=\"1\" ry=\"1\"/>\n<text text-anchor=\"middle\" x=\"229.5\" y=\"-1410\" font-family=\"Times,serif\" font-size=\"10.00\">6</text>\n</g>\n<!-- system_G32 -->\n<g id=\"node44\" class=\"node\">\n<title>system_G32</title>\n<text text-anchor=\"middle\" x=\"294\" y=\"-1580.3\" font-family=\"Times,serif\" font-size=\"14.00\">system[2, 0]</text>\n</g>\n<!-- KineticEnergy&#45;&gt;system_G32 -->\n<g id=\"edge43\" class=\"edge\">\n<title>KineticEnergy:e-&gt;system_G32:w</title>\n<path fill=\"none\" stroke=\"black\" d=\"M211,-1205C231.51,-1205 229.02,-1560.68 248.09,-1582.91\"/>\n<ellipse fill=\"black\" stroke=\"black\" cx=\"249.13\" cy=\"-1583.51\" rx=\"1\" ry=\"1\"/>\n<text text-anchor=\"middle\" x=\"229.5\" y=\"-1386\" font-family=\"Times,serif\" font-size=\"10.00\">6</text>\n</g>\n<!-- system_G2 -->\n<g id=\"node45\" class=\"node\">\n<title>system_G2</title>\n<text text-anchor=\"middle\" x=\"294\" y=\"-1526.3\" font-family=\"Times,serif\" font-size=\"14.00\">system[2, 1]</text>\n</g>\n<!-- KineticEnergy&#45;&gt;system_G2 -->\n<g id=\"edge44\" class=\"edge\">\n<title>KineticEnergy:e-&gt;system_G2:w</title>\n<path fill=\"none\" stroke=\"black\" d=\"M211,-1184C229.74,-1184 230.62,-1508.71 248.24,-1529.01\"/>\n<ellipse fill=\"black\" stroke=\"black\" cx=\"249.13\" cy=\"-1529.51\" rx=\"1\" ry=\"1\"/>\n<text text-anchor=\"middle\" x=\"229.5\" y=\"-1349\" font-family=\"Times,serif\" font-size=\"10.00\">6</text>\n</g>\n<!-- system_G61 -->\n<g id=\"node46\" class=\"node\">\n<title>system_G61</title>\n<text text-anchor=\"middle\" x=\"294\" y=\"-1472.3\" font-family=\"Times,serif\" font-size=\"14.00\">system[2, 2]</text>\n</g>\n<!-- KineticEnergy&#45;&gt;system_G61 -->\n<g id=\"edge45\" class=\"edge\">\n<title>KineticEnergy:e-&gt;system_G61:w</title>\n<path fill=\"none\" stroke=\"black\" d=\"M211,-1163C227.91,-1163 232.18,-1454.38 248.2,-1474.87\"/>\n<ellipse fill=\"black\" stroke=\"black\" cx=\"249.15\" cy=\"-1475.47\" rx=\"1\" ry=\"1\"/>\n<text text-anchor=\"middle\" x=\"229.5\" y=\"-1313\" font-family=\"Times,serif\" font-size=\"10.00\">6</text>\n</g>\n<!-- system_G73 -->\n<g id=\"node47\" class=\"node\">\n<title>system_G73</title>\n<text text-anchor=\"middle\" x=\"294\" y=\"-1418.3\" font-family=\"Times,serif\" font-size=\"14.00\">system[3, 0]</text>\n</g>\n<!-- KineticEnergy&#45;&gt;system_G73 -->\n<g id=\"edge46\" class=\"edge\">\n<title>KineticEnergy:e-&gt;system_G73:w</title>\n<path fill=\"none\" stroke=\"black\" d=\"M211,-1142C241.68,-1142 219.67,-1409.03 247.88,-1421.55\"/>\n<ellipse fill=\"black\" stroke=\"black\" cx=\"249.02\" cy=\"-1421.79\" rx=\"1\" ry=\"1\"/>\n<text text-anchor=\"middle\" x=\"229.5\" y=\"-1259\" font-family=\"Times,serif\" font-size=\"10.00\">6</text>\n</g>\n<!-- system_G78 -->\n<g id=\"node48\" class=\"node\">\n<title>system_G78</title>\n<text text-anchor=\"middle\" x=\"294\" y=\"-1364.3\" font-family=\"Times,serif\" font-size=\"14.00\">system[3, 1]</text>\n</g>\n<!-- KineticEnergy&#45;&gt;system_G78 -->\n<g id=\"edge47\" class=\"edge\">\n<title>KineticEnergy:e-&gt;system_G78:w</title>\n<path fill=\"none\" stroke=\"black\" d=\"M211,-1121C238.02,-1121 223.09,-1354.68 247.82,-1367.46\"/>\n<ellipse fill=\"black\" stroke=\"black\" cx=\"249.03\" cy=\"-1367.76\" rx=\"1\" ry=\"1\"/>\n<text text-anchor=\"middle\" x=\"229.5\" y=\"-1232\" font-family=\"Times,serif\" font-size=\"10.00\">6</text>\n</g>\n<!-- system_G30 -->\n<g id=\"node49\" class=\"node\">\n<title>system_G30</title>\n<text text-anchor=\"middle\" x=\"294\" y=\"-1310.3\" font-family=\"Times,serif\" font-size=\"14.00\">system[3, 2]</text>\n</g>\n<!-- KineticEnergy&#45;&gt;system_G30 -->\n<g id=\"edge48\" class=\"edge\">\n<title>KineticEnergy:e-&gt;system_G30:w</title>\n<path fill=\"none\" stroke=\"black\" d=\"M211,-1100C234.41,-1100 226.38,-1300.83 247.83,-1313.39\"/>\n<ellipse fill=\"black\" stroke=\"black\" cx=\"249.04\" cy=\"-1313.73\" rx=\"1\" ry=\"1\"/>\n<text text-anchor=\"middle\" x=\"229.5\" y=\"-1197\" font-family=\"Times,serif\" font-size=\"10.00\">6</text>\n</g>\n<!-- system_G50 -->\n<g id=\"node50\" class=\"node\">\n<title>system_G50</title>\n<text text-anchor=\"middle\" x=\"294\" y=\"-1256.3\" font-family=\"Times,serif\" font-size=\"14.00\">system[4, 0]</text>\n</g>\n<!-- KineticEnergy&#45;&gt;system_G50 -->\n<g id=\"edge49\" class=\"edge\">\n<title>KineticEnergy:e-&gt;system_G50:w</title>\n<path fill=\"none\" stroke=\"black\" d=\"M211,-1079C230.77,-1079 229.56,-1246.14 247.69,-1259.19\"/>\n<ellipse fill=\"black\" stroke=\"black\" cx=\"249.06\" cy=\"-1259.67\" rx=\"1\" ry=\"1\"/>\n<text text-anchor=\"middle\" x=\"229.5\" y=\"-1167\" font-family=\"Times,serif\" font-size=\"10.00\">6</text>\n</g>\n<!-- system_G56 -->\n<g id=\"node51\" class=\"node\">\n<title>system_G56</title>\n<text text-anchor=\"middle\" x=\"294\" y=\"-1202.3\" font-family=\"Times,serif\" font-size=\"14.00\">system[4, 1]</text>\n</g>\n<!-- KineticEnergy&#45;&gt;system_G56 -->\n<g id=\"edge50\" class=\"edge\">\n<title>KineticEnergy:e-&gt;system_G56:w</title>\n<path fill=\"none\" stroke=\"black\" d=\"M211,-1058C230.09,-1058 224.02,-1123.57 229,-1142 236.63,-1170.22 220.84,-1204.36 247.97,-1205.94\"/>\n<ellipse fill=\"black\" stroke=\"black\" cx=\"249\" cy=\"-1205.97\" rx=\"1\" ry=\"1\"/>\n<text text-anchor=\"middle\" x=\"229.5\" y=\"-1148\" font-family=\"Times,serif\" font-size=\"10.00\">6</text>\n</g>\n<!-- system_G24 -->\n<g id=\"node52\" class=\"node\">\n<title>system_G24</title>\n<text text-anchor=\"middle\" x=\"294\" y=\"-1148.3\" font-family=\"Times,serif\" font-size=\"14.00\">system[4, 2]</text>\n</g>\n<!-- KineticEnergy&#45;&gt;system_G24 -->\n<g id=\"edge51\" class=\"edge\">\n<title>KineticEnergy:e-&gt;system_G24:w</title>\n<path fill=\"none\" stroke=\"black\" d=\"M211,-1037C264.23,-1037 197.89,-1148.88 247.85,-1151.94\"/>\n<ellipse fill=\"black\" stroke=\"black\" cx=\"249\" cy=\"-1151.97\" rx=\"1\" ry=\"1\"/>\n<text text-anchor=\"middle\" x=\"229.5\" y=\"-1140\" font-family=\"Times,serif\" font-size=\"10.00\">6</text>\n</g>\n<!-- system_G41 -->\n<g id=\"node53\" class=\"node\">\n<title>system_G41</title>\n<text text-anchor=\"middle\" x=\"294\" y=\"-1094.3\" font-family=\"Times,serif\" font-size=\"14.00\">system[5, 0]</text>\n</g>\n<!-- KineticEnergy&#45;&gt;system_G41 -->\n<g id=\"edge52\" class=\"edge\">\n<title>KineticEnergy:e-&gt;system_G41:w</title>\n<path fill=\"none\" stroke=\"black\" d=\"M211,-1016C250.57,-1016 211.24,-1094.83 247.73,-1097.91\"/>\n<ellipse fill=\"black\" stroke=\"black\" cx=\"249\" cy=\"-1097.96\" rx=\"1\" ry=\"1\"/>\n<text text-anchor=\"middle\" x=\"229.5\" y=\"-1038\" font-family=\"Times,serif\" font-size=\"10.00\">6</text>\n</g>\n<!-- system_G45 -->\n<g id=\"node54\" class=\"node\">\n<title>system_G45</title>\n<text text-anchor=\"middle\" x=\"294\" y=\"-1040.3\" font-family=\"Times,serif\" font-size=\"14.00\">system[5, 1]</text>\n</g>\n<!-- KineticEnergy&#45;&gt;system_G45 -->\n<g id=\"edge53\" class=\"edge\">\n<title>KineticEnergy:e-&gt;system_G45:w</title>\n<path fill=\"none\" stroke=\"black\" d=\"M211,-995C238.07,-995 223.04,-1041.36 247.81,-1043.89\"/>\n<ellipse fill=\"black\" stroke=\"black\" cx=\"249\" cy=\"-1043.95\" rx=\"1\" ry=\"1\"/>\n<text text-anchor=\"middle\" x=\"229.5\" y=\"-1019\" font-family=\"Times,serif\" font-size=\"10.00\">6</text>\n</g>\n<!-- system_G67 -->\n<g id=\"node55\" class=\"node\">\n<title>system_G67</title>\n<text text-anchor=\"middle\" x=\"294\" y=\"-986.3\" font-family=\"Times,serif\" font-size=\"14.00\">system[5, 2]</text>\n</g>\n<!-- KineticEnergy&#45;&gt;system_G67 -->\n<g id=\"edge54\" class=\"edge\">\n<title>KineticEnergy:e-&gt;system_G67:w</title>\n<path fill=\"none\" stroke=\"black\" d=\"M211,-974C229,-974 231.12,-988.77 247.88,-989.93\"/>\n<ellipse fill=\"black\" stroke=\"black\" cx=\"249\" cy=\"-989.97\" rx=\"1\" ry=\"1\"/>\n<text text-anchor=\"middle\" x=\"229.5\" y=\"-984\" font-family=\"Times,serif\" font-size=\"10.00\">6</text>\n</g>\n<!-- system_G23 -->\n<g id=\"node56\" class=\"node\">\n<title>system_G23</title>\n<text text-anchor=\"middle\" x=\"294\" y=\"-932.3\" font-family=\"Times,serif\" font-size=\"14.00\">system[6, 0]</text>\n</g>\n<!-- KineticEnergy&#45;&gt;system_G23 -->\n<g id=\"edge55\" class=\"edge\">\n<title>KineticEnergy:e-&gt;system_G23:w</title>\n<path fill=\"none\" stroke=\"black\" d=\"M211,-952C229,-952 231.12,-937.23 247.88,-936.07\"/>\n<ellipse fill=\"black\" stroke=\"black\" cx=\"249\" cy=\"-936.03\" rx=\"1\" ry=\"1\"/>\n<text text-anchor=\"middle\" x=\"229.5\" y=\"-947\" font-family=\"Times,serif\" font-size=\"10.00\">6</text>\n</g>\n<!-- system_G80 -->\n<g id=\"node57\" class=\"node\">\n<title>system_G80</title>\n<text text-anchor=\"middle\" x=\"294\" y=\"-878.3\" font-family=\"Times,serif\" font-size=\"14.00\">system[6, 1]</text>\n</g>\n<!-- KineticEnergy&#45;&gt;system_G80 -->\n<g id=\"edge56\" class=\"edge\">\n<title>KineticEnergy:e-&gt;system_G80:w</title>\n<path fill=\"none\" stroke=\"black\" d=\"M211,-931C238.07,-931 223.04,-884.64 247.81,-882.11\"/>\n<ellipse fill=\"black\" stroke=\"black\" cx=\"249\" cy=\"-882.05\" rx=\"1\" ry=\"1\"/>\n<text text-anchor=\"middle\" x=\"229.5\" y=\"-915\" font-family=\"Times,serif\" font-size=\"10.00\">6</text>\n</g>\n<!-- system_G40 -->\n<g id=\"node58\" class=\"node\">\n<title>system_G40</title>\n<text text-anchor=\"middle\" x=\"294\" y=\"-824.3\" font-family=\"Times,serif\" font-size=\"14.00\">system[6, 2]</text>\n</g>\n<!-- KineticEnergy&#45;&gt;system_G40 -->\n<g id=\"edge57\" class=\"edge\">\n<title>KineticEnergy:e-&gt;system_G40:w</title>\n<path fill=\"none\" stroke=\"black\" d=\"M211,-910C250.57,-910 211.24,-831.17 247.73,-828.09\"/>\n<ellipse fill=\"black\" stroke=\"black\" cx=\"249\" cy=\"-828.04\" rx=\"1\" ry=\"1\"/>\n<text text-anchor=\"middle\" x=\"229.5\" y=\"-897\" font-family=\"Times,serif\" font-size=\"10.00\">6</text>\n</g>\n<!-- system_G0 -->\n<g id=\"node59\" class=\"node\">\n<title>system_G0</title>\n<text text-anchor=\"middle\" x=\"294\" y=\"-770.3\" font-family=\"Times,serif\" font-size=\"14.00\">system[7, 0]</text>\n</g>\n<!-- KineticEnergy&#45;&gt;system_G0 -->\n<g id=\"edge58\" class=\"edge\">\n<title>KineticEnergy:e-&gt;system_G0:w</title>\n<path fill=\"none\" stroke=\"black\" d=\"M211,-889C264.23,-889 197.89,-777.12 247.85,-774.06\"/>\n<ellipse fill=\"black\" stroke=\"black\" cx=\"249\" cy=\"-774.03\" rx=\"1\" ry=\"1\"/>\n<text text-anchor=\"middle\" x=\"229.5\" y=\"-882\" font-family=\"Times,serif\" font-size=\"10.00\">6</text>\n</g>\n<!-- system_G62 -->\n<g id=\"node60\" class=\"node\">\n<title>system_G62</title>\n<text text-anchor=\"middle\" x=\"294\" y=\"-716.3\" font-family=\"Times,serif\" font-size=\"14.00\">system[7, 1]</text>\n</g>\n<!-- KineticEnergy&#45;&gt;system_G62 -->\n<g id=\"edge59\" class=\"edge\">\n<title>KineticEnergy:e-&gt;system_G62:w</title>\n<path fill=\"none\" stroke=\"black\" d=\"M211,-868C230.31,-868 223.94,-801.63 229,-783 236.55,-755.18 221.23,-721.61 248,-720.06\"/>\n<ellipse fill=\"black\" stroke=\"black\" cx=\"249\" cy=\"-720.03\" rx=\"1\" ry=\"1\"/>\n<text text-anchor=\"middle\" x=\"229.5\" y=\"-786\" font-family=\"Times,serif\" font-size=\"10.00\">6</text>\n</g>\n<!-- system_G14 -->\n<g id=\"node61\" class=\"node\">\n<title>system_G14</title>\n<text text-anchor=\"middle\" x=\"294\" y=\"-662.3\" font-family=\"Times,serif\" font-size=\"14.00\">system[7, 2]</text>\n</g>\n<!-- KineticEnergy&#45;&gt;system_G14 -->\n<g id=\"edge60\" class=\"edge\">\n<title>KineticEnergy:e-&gt;system_G14:w</title>\n<path fill=\"none\" stroke=\"black\" d=\"M211,-847C230.77,-847 229.56,-679.86 247.69,-666.81\"/>\n<ellipse fill=\"black\" stroke=\"black\" cx=\"249.06\" cy=\"-666.33\" rx=\"1\" ry=\"1\"/>\n<text text-anchor=\"middle\" x=\"229.5\" y=\"-770\" font-family=\"Times,serif\" font-size=\"10.00\">6</text>\n</g>\n<!-- system_G43 -->\n<g id=\"node62\" class=\"node\">\n<title>system_G43</title>\n<text text-anchor=\"middle\" x=\"294\" y=\"-608.3\" font-family=\"Times,serif\" font-size=\"14.00\">system[8, 0]</text>\n</g>\n<!-- KineticEnergy&#45;&gt;system_G43 -->\n<g id=\"edge61\" class=\"edge\">\n<title>KineticEnergy:e-&gt;system_G43:w</title>\n<path fill=\"none\" stroke=\"black\" d=\"M211,-826C234.41,-826 226.38,-625.17 247.83,-612.61\"/>\n<ellipse fill=\"black\" stroke=\"black\" cx=\"249.04\" cy=\"-612.27\" rx=\"1\" ry=\"1\"/>\n<text text-anchor=\"middle\" x=\"229.5\" y=\"-741\" font-family=\"Times,serif\" font-size=\"10.00\">6</text>\n</g>\n<!-- system_G47 -->\n<g id=\"node63\" class=\"node\">\n<title>system_G47</title>\n<text text-anchor=\"middle\" x=\"294\" y=\"-554.3\" font-family=\"Times,serif\" font-size=\"14.00\">system[8, 1]</text>\n</g>\n<!-- KineticEnergy&#45;&gt;system_G47 -->\n<g id=\"edge62\" class=\"edge\">\n<title>KineticEnergy:e-&gt;system_G47:w</title>\n<path fill=\"none\" stroke=\"black\" d=\"M211,-805C238.02,-805 223.09,-571.32 247.82,-558.54\"/>\n<ellipse fill=\"black\" stroke=\"black\" cx=\"249.03\" cy=\"-558.24\" rx=\"1\" ry=\"1\"/>\n<text text-anchor=\"middle\" x=\"229.5\" y=\"-713\" font-family=\"Times,serif\" font-size=\"10.00\">6</text>\n</g>\n<!-- system_G107 -->\n<g id=\"node64\" class=\"node\">\n<title>system_G107</title>\n<text text-anchor=\"middle\" x=\"294\" y=\"-500.3\" font-family=\"Times,serif\" font-size=\"14.00\">system[8, 2]</text>\n</g>\n<!-- KineticEnergy&#45;&gt;system_G107 -->\n<g id=\"edge63\" class=\"edge\">\n<title>KineticEnergy:e-&gt;system_G107:w</title>\n<path fill=\"none\" stroke=\"black\" d=\"M211,-784C226.09,-784 233.69,-525.45 248.2,-505.25\"/>\n<ellipse fill=\"black\" stroke=\"black\" cx=\"249.18\" cy=\"-504.57\" rx=\"1\" ry=\"1\"/>\n<text text-anchor=\"middle\" x=\"229.5\" y=\"-663\" font-family=\"Times,serif\" font-size=\"10.00\">6</text>\n</g>\n<!-- system_G16 -->\n<g id=\"node65\" class=\"node\">\n<title>system_G16</title>\n<text text-anchor=\"middle\" x=\"294\" y=\"-446.3\" font-family=\"Times,serif\" font-size=\"14.00\">system[9, 0]</text>\n</g>\n<!-- KineticEnergy&#45;&gt;system_G16 -->\n<g id=\"edge64\" class=\"edge\">\n<title>KineticEnergy:e-&gt;system_G16:w</title>\n<path fill=\"none\" stroke=\"black\" d=\"M211,-763C227.91,-763 232.18,-471.62 248.2,-451.13\"/>\n<ellipse fill=\"black\" stroke=\"black\" cx=\"249.15\" cy=\"-450.53\" rx=\"1\" ry=\"1\"/>\n<text text-anchor=\"middle\" x=\"229.5\" y=\"-628\" font-family=\"Times,serif\" font-size=\"10.00\">6</text>\n</g>\n<!-- system_G26 -->\n<g id=\"node66\" class=\"node\">\n<title>system_G26</title>\n<text text-anchor=\"middle\" x=\"294\" y=\"-392.3\" font-family=\"Times,serif\" font-size=\"14.00\">system[9, 1]</text>\n</g>\n<!-- KineticEnergy&#45;&gt;system_G26 -->\n<g id=\"edge65\" class=\"edge\">\n<title>KineticEnergy:e-&gt;system_G26:w</title>\n<path fill=\"none\" stroke=\"black\" d=\"M211,-742C229.74,-742 230.62,-417.29 248.24,-396.99\"/>\n<ellipse fill=\"black\" stroke=\"black\" cx=\"249.13\" cy=\"-396.49\" rx=\"1\" ry=\"1\"/>\n<text text-anchor=\"middle\" x=\"229.5\" y=\"-592\" font-family=\"Times,serif\" font-size=\"10.00\">6</text>\n</g>\n<!-- system_G83 -->\n<g id=\"node67\" class=\"node\">\n<title>system_G83</title>\n<text text-anchor=\"middle\" x=\"294\" y=\"-338.3\" font-family=\"Times,serif\" font-size=\"14.00\">system[9, 2]</text>\n</g>\n<!-- KineticEnergy&#45;&gt;system_G83 -->\n<g id=\"edge66\" class=\"edge\">\n<title>KineticEnergy:e-&gt;system_G83:w</title>\n<path fill=\"none\" stroke=\"black\" d=\"M211,-721C231.51,-721 229.02,-365.32 248.09,-343.09\"/>\n<ellipse fill=\"black\" stroke=\"black\" cx=\"249.13\" cy=\"-342.49\" rx=\"1\" ry=\"1\"/>\n<text text-anchor=\"middle\" x=\"229.5\" y=\"-557\" font-family=\"Times,serif\" font-size=\"10.00\">6</text>\n</g>\n<!-- system_G7 -->\n<g id=\"node68\" class=\"node\">\n<title>system_G7</title>\n<text text-anchor=\"middle\" x=\"294\" y=\"-284.3\" font-family=\"Times,serif\" font-size=\"14.00\">system[10, 0]</text>\n</g>\n<!-- KineticEnergy&#45;&gt;system_G7 -->\n<g id=\"edge67\" class=\"edge\">\n<title>KineticEnergy:e-&gt;system_G7:w</title>\n<path fill=\"none\" stroke=\"black\" d=\"M211,-700C233.35,-700 225.49,-310.22 246.19,-288.91\"/>\n<ellipse fill=\"black\" stroke=\"black\" cx=\"247.11\" cy=\"-288.45\" rx=\"1\" ry=\"1\"/>\n<text text-anchor=\"middle\" x=\"229.5\" y=\"-509\" font-family=\"Times,serif\" font-size=\"10.00\">6</text>\n</g>\n<!-- system_G70 -->\n<g id=\"node69\" class=\"node\">\n<title>system_G70</title>\n<text text-anchor=\"middle\" x=\"294\" y=\"-230.3\" font-family=\"Times,serif\" font-size=\"14.00\">system[10, 1]</text>\n</g>\n<!-- KineticEnergy&#45;&gt;system_G70 -->\n<g id=\"edge68\" class=\"edge\">\n<title>KineticEnergy:e-&gt;system_G70:w</title>\n<path fill=\"none\" stroke=\"black\" d=\"M211,-679C235.13,-679 223.85,-258 246.05,-234.98\"/>\n<ellipse fill=\"black\" stroke=\"black\" cx=\"247.11\" cy=\"-234.45\" rx=\"1\" ry=\"1\"/>\n<text text-anchor=\"middle\" x=\"229.5\" y=\"-472\" font-family=\"Times,serif\" font-size=\"10.00\">6</text>\n</g>\n<!-- system_G74 -->\n<g id=\"node70\" class=\"node\">\n<title>system_G74</title>\n<text text-anchor=\"middle\" x=\"294\" y=\"-176.3\" font-family=\"Times,serif\" font-size=\"14.00\">system[10, 2]</text>\n</g>\n<!-- KineticEnergy&#45;&gt;system_G74 -->\n<g id=\"edge69\" class=\"edge\">\n<title>KineticEnergy:e-&gt;system_G74:w</title>\n<path fill=\"none\" stroke=\"black\" d=\"M211,-658C223.85,-658 233.95,-213.02 246.61,-181.73\"/>\n<ellipse fill=\"black\" stroke=\"black\" cx=\"247.37\" cy=\"-180.78\" rx=\"1\" ry=\"1\"/>\n<text text-anchor=\"middle\" x=\"229.5\" y=\"-422\" font-family=\"Times,serif\" font-size=\"10.00\">6</text>\n</g>\n<!-- system_G90 -->\n<g id=\"node71\" class=\"node\">\n<title>system_G90</title>\n<text text-anchor=\"middle\" x=\"294\" y=\"-122.3\" font-family=\"Times,serif\" font-size=\"14.00\">system[11, 0]</text>\n</g>\n<!-- KineticEnergy&#45;&gt;system_G90 -->\n<g id=\"edge70\" class=\"edge\">\n<title>KineticEnergy:e-&gt;system_G90:w</title>\n<path fill=\"none\" stroke=\"black\" d=\"M211,-637C238.8,-637 220.44,-149.67 246.08,-126.83\"/>\n<ellipse fill=\"black\" stroke=\"black\" cx=\"247.08\" cy=\"-126.4\" rx=\"1\" ry=\"1\"/>\n<text text-anchor=\"middle\" x=\"229.5\" y=\"-399\" font-family=\"Times,serif\" font-size=\"10.00\">6</text>\n</g>\n<!-- system_G100 -->\n<g id=\"node72\" class=\"node\">\n<title>system_G100</title>\n<text text-anchor=\"middle\" x=\"294\" y=\"-68.3\" font-family=\"Times,serif\" font-size=\"14.00\">system[11, 1]</text>\n</g>\n<!-- KineticEnergy&#45;&gt;system_G100 -->\n<g id=\"edge71\" class=\"edge\">\n<title>KineticEnergy:e-&gt;system_G100:w</title>\n<path fill=\"none\" stroke=\"black\" d=\"M211,-616C225.67,-616 232.43,-105.47 246.6,-73.56\"/>\n<ellipse fill=\"black\" stroke=\"black\" cx=\"247.33\" cy=\"-72.75\" rx=\"1\" ry=\"1\"/>\n<text text-anchor=\"middle\" x=\"229.5\" y=\"-347\" font-family=\"Times,serif\" font-size=\"10.00\">6</text>\n</g>\n<!-- system_G15 -->\n<g id=\"node73\" class=\"node\">\n<title>system_G15</title>\n<text text-anchor=\"middle\" x=\"294\" y=\"-14.3\" font-family=\"Times,serif\" font-size=\"14.00\">system[11, 2]</text>\n</g>\n<!-- KineticEnergy&#45;&gt;system_G15 -->\n<g id=\"edge72\" class=\"edge\">\n<title>KineticEnergy:e-&gt;system_G15:w</title>\n<path fill=\"none\" stroke=\"black\" d=\"M211,-595C226.56,-595 231.62,-53.5 246.53,-19.66\"/>\n<ellipse fill=\"black\" stroke=\"black\" cx=\"247.34\" cy=\"-18.75\" rx=\"1\" ry=\"1\"/>\n<text text-anchor=\"middle\" x=\"229.5\" y=\"-310\" font-family=\"Times,serif\" font-size=\"10.00\">6</text>\n</g>\n</g>\n</svg>",
          "text/plain": "<IPython.core.display.SVG object>"
         },
         "metadata": {},
         "output_type": "display_data"
        }
       ],
       "tabbable": null,
       "tooltip": null
      }
     },
     "3704eadc372a418c94084a0786d78935": {
      "model_module": "@jupyter-widgets/output",
      "model_module_version": "1.0.0",
      "model_name": "OutputModel",
      "state": {
       "_dom_classes": [],
       "_model_module": "@jupyter-widgets/output",
       "_model_module_version": "1.0.0",
       "_model_name": "OutputModel",
       "_view_count": null,
       "_view_module": "@jupyter-widgets/output",
       "_view_module_version": "1.0.0",
       "_view_name": "OutputView",
       "layout": "IPY_MODEL_89bed58536cd4441a50beb5dfbdc2760",
       "msg_id": "",
       "outputs": [
        {
         "data": {
          "text/markdown": "`qvr`",
          "text/plain": "<IPython.core.display.Markdown object>"
         },
         "metadata": {},
         "output_type": "display_data"
        },
        {
         "data": {
          "image/svg+xml": "<svg xmlns=\"http://www.w3.org/2000/svg\" xmlns:xlink=\"http://www.w3.org/1999/xlink\" width=\"236pt\" height=\"54pt\" viewBox=\"0.00 0.00 236.00 54.00\">\n<g id=\"graph0\" class=\"graph\" transform=\"scale(1 1) rotate(0) translate(4 50)\">\n<title>my_graph</title>\n<polygon fill=\"white\" stroke=\"transparent\" points=\"-4,4 -4,-50 232,-50 232,4 -4,4\"/>\n<!-- phi_G0 -->\n<g id=\"node1\" class=\"node\">\n<title>phi_G0</title>\n<text text-anchor=\"middle\" x=\"27\" y=\"-14.3\" font-family=\"Times,serif\" font-size=\"14.00\">phi</text>\n</g>\n<!-- QuantumVariableRotation -->\n<g id=\"node2\" class=\"node\">\n<title>QuantumVariableRotation</title>\n<polygon fill=\"none\" stroke=\"black\" points=\"91,-29 91,-46 137,-46 137,-29 91,-29\"/>\n<text text-anchor=\"start\" x=\"94\" y=\"-35\" font-family=\"Times,serif\" font-size=\"10.00\">e^{i*phi}</text>\n<polygon fill=\"none\" stroke=\"black\" points=\"91,-8 91,-29 137,-29 137,-8 91,-8\"/>\n<text text-anchor=\"start\" x=\"105\" y=\"-14.8\" font-family=\"Times,serif\" font-size=\"14.00\">phi</text>\n</g>\n<!-- phi_G0&#45;&gt;QuantumVariableRotation -->\n<g id=\"edge1\" class=\"edge\">\n<title>phi_G0:e-&gt;QuantumVariableRotation:w</title>\n<path fill=\"none\" stroke=\"black\" d=\"M54,-18C69.67,-18 74.14,-18 88.77,-18\"/>\n<ellipse fill=\"black\" stroke=\"black\" cx=\"90\" cy=\"-18\" rx=\"1\" ry=\"1\"/>\n<text text-anchor=\"middle\" x=\"72.5\" y=\"-21\" font-family=\"Times,serif\" font-size=\"10.00\">12</text>\n</g>\n<!-- phi_G1 -->\n<g id=\"node3\" class=\"node\">\n<title>phi_G1</title>\n<text text-anchor=\"middle\" x=\"201\" y=\"-14.3\" font-family=\"Times,serif\" font-size=\"14.00\">phi</text>\n</g>\n<!-- QuantumVariableRotation&#45;&gt;phi_G1 -->\n<g id=\"edge2\" class=\"edge\">\n<title>QuantumVariableRotation:e-&gt;phi_G1:w</title>\n<path fill=\"none\" stroke=\"black\" d=\"M137,-18C152.67,-18 157.14,-18 171.77,-18\"/>\n<ellipse fill=\"black\" stroke=\"black\" cx=\"173\" cy=\"-18\" rx=\"1\" ry=\"1\"/>\n<text text-anchor=\"middle\" x=\"155.5\" y=\"-21\" font-family=\"Times,serif\" font-size=\"10.00\">12</text>\n</g>\n</g>\n</svg>",
          "text/plain": "<IPython.core.display.SVG object>"
         },
         "metadata": {},
         "output_type": "display_data"
        }
       ],
       "tabbable": null,
       "tooltip": null
      }
     },
     "442180bbaa96447f8cb3ec3240df8a9e": {
      "model_module": "@jupyter-widgets/base",
      "model_module_version": "2.0.0",
      "model_name": "LayoutModel",
      "state": {
       "_model_module": "@jupyter-widgets/base",
       "_model_module_version": "2.0.0",
       "_model_name": "LayoutModel",
       "_view_count": null,
       "_view_module": "@jupyter-widgets/base",
       "_view_module_version": "2.0.0",
       "_view_name": "LayoutView",
       "align_content": null,
       "align_items": null,
       "align_self": null,
       "border_bottom": null,
       "border_left": null,
       "border_right": null,
       "border_top": null,
       "bottom": null,
       "display": null,
       "flex": null,
       "flex_flow": null,
       "grid_area": null,
       "grid_auto_columns": null,
       "grid_auto_flow": null,
       "grid_auto_rows": null,
       "grid_column": null,
       "grid_gap": null,
       "grid_row": null,
       "grid_template_areas": null,
       "grid_template_columns": null,
       "grid_template_rows": null,
       "height": null,
       "justify_content": null,
       "justify_items": null,
       "left": null,
       "margin": null,
       "max_height": null,
       "max_width": null,
       "min_height": null,
       "min_width": null,
       "object_fit": null,
       "object_position": null,
       "order": null,
       "overflow": null,
       "padding": null,
       "right": null,
       "top": null,
       "visibility": null,
       "width": null
      }
     },
     "520ae319c35143c2973d499d75b8bc4b": {
      "model_module": "@jupyter-widgets/base",
      "model_module_version": "2.0.0",
      "model_name": "LayoutModel",
      "state": {
       "_model_module": "@jupyter-widgets/base",
       "_model_module_version": "2.0.0",
       "_model_name": "LayoutModel",
       "_view_count": null,
       "_view_module": "@jupyter-widgets/base",
       "_view_module_version": "2.0.0",
       "_view_name": "LayoutView",
       "align_content": null,
       "align_items": null,
       "align_self": null,
       "border_bottom": null,
       "border_left": null,
       "border_right": null,
       "border_top": null,
       "bottom": null,
       "display": null,
       "flex": null,
       "flex_flow": null,
       "grid_area": null,
       "grid_auto_columns": null,
       "grid_auto_flow": null,
       "grid_auto_rows": null,
       "grid_column": null,
       "grid_gap": null,
       "grid_row": null,
       "grid_template_areas": null,
       "grid_template_columns": null,
       "grid_template_rows": null,
       "height": null,
       "justify_content": null,
       "justify_items": null,
       "left": null,
       "margin": null,
       "max_height": null,
       "max_width": null,
       "min_height": null,
       "min_width": null,
       "object_fit": null,
       "object_position": null,
       "order": null,
       "overflow": null,
       "padding": null,
       "right": null,
       "top": null,
       "visibility": null,
       "width": null
      }
     },
     "86d3882cf11240e580e304b12e4495cf": {
      "model_module": "@jupyter-widgets/base",
      "model_module_version": "2.0.0",
      "model_name": "LayoutModel",
      "state": {
       "_model_module": "@jupyter-widgets/base",
       "_model_module_version": "2.0.0",
       "_model_name": "LayoutModel",
       "_view_count": null,
       "_view_module": "@jupyter-widgets/base",
       "_view_module_version": "2.0.0",
       "_view_name": "LayoutView",
       "align_content": null,
       "align_items": null,
       "align_self": null,
       "border_bottom": null,
       "border_left": null,
       "border_right": null,
       "border_top": null,
       "bottom": null,
       "display": null,
       "flex": null,
       "flex_flow": null,
       "grid_area": null,
       "grid_auto_columns": null,
       "grid_auto_flow": null,
       "grid_auto_rows": null,
       "grid_column": null,
       "grid_gap": null,
       "grid_row": null,
       "grid_template_areas": null,
       "grid_template_columns": null,
       "grid_template_rows": null,
       "height": null,
       "justify_content": null,
       "justify_items": null,
       "left": null,
       "margin": null,
       "max_height": null,
       "max_width": null,
       "min_height": null,
       "min_width": null,
       "object_fit": null,
       "object_position": null,
       "order": null,
       "overflow": null,
       "padding": null,
       "right": null,
       "top": null,
       "visibility": null,
       "width": null
      }
     },
     "89bed58536cd4441a50beb5dfbdc2760": {
      "model_module": "@jupyter-widgets/base",
      "model_module_version": "2.0.0",
      "model_name": "LayoutModel",
      "state": {
       "_model_module": "@jupyter-widgets/base",
       "_model_module_version": "2.0.0",
       "_model_name": "LayoutModel",
       "_view_count": null,
       "_view_module": "@jupyter-widgets/base",
       "_view_module_version": "2.0.0",
       "_view_name": "LayoutView",
       "align_content": null,
       "align_items": null,
       "align_self": null,
       "border_bottom": null,
       "border_left": null,
       "border_right": null,
       "border_top": null,
       "bottom": null,
       "display": null,
       "flex": null,
       "flex_flow": null,
       "grid_area": null,
       "grid_auto_columns": null,
       "grid_auto_flow": null,
       "grid_auto_rows": null,
       "grid_column": null,
       "grid_gap": null,
       "grid_row": null,
       "grid_template_areas": null,
       "grid_template_columns": null,
       "grid_template_rows": null,
       "height": null,
       "justify_content": null,
       "justify_items": null,
       "left": null,
       "margin": null,
       "max_height": null,
       "max_width": null,
       "min_height": null,
       "min_width": null,
       "object_fit": null,
       "object_position": null,
       "order": null,
       "overflow": null,
       "padding": null,
       "right": null,
       "top": null,
       "visibility": null,
       "width": null
      }
     },
     "8a68c1fd3b254030ae3ea7e17054f7b2": {
      "model_module": "@jupyter-widgets/base",
      "model_module_version": "2.0.0",
      "model_name": "LayoutModel",
      "state": {
       "_model_module": "@jupyter-widgets/base",
       "_model_module_version": "2.0.0",
       "_model_name": "LayoutModel",
       "_view_count": null,
       "_view_module": "@jupyter-widgets/base",
       "_view_module_version": "2.0.0",
       "_view_name": "LayoutView",
       "align_content": null,
       "align_items": null,
       "align_self": null,
       "border_bottom": null,
       "border_left": null,
       "border_right": null,
       "border_top": null,
       "bottom": null,
       "display": null,
       "flex": null,
       "flex_flow": null,
       "grid_area": null,
       "grid_auto_columns": null,
       "grid_auto_flow": null,
       "grid_auto_rows": null,
       "grid_column": null,
       "grid_gap": null,
       "grid_row": null,
       "grid_template_areas": null,
       "grid_template_columns": null,
       "grid_template_rows": null,
       "height": null,
       "justify_content": null,
       "justify_items": null,
       "left": null,
       "margin": null,
       "max_height": null,
       "max_width": null,
       "min_height": null,
       "min_width": null,
       "object_fit": null,
       "object_position": null,
       "order": null,
       "overflow": null,
       "padding": null,
       "right": null,
       "top": null,
       "visibility": null,
       "width": null
      }
     },
     "8fe1c386a19840ef9396bc4c96419e42": {
      "model_module": "@jupyter-widgets/output",
      "model_module_version": "1.0.0",
      "model_name": "OutputModel",
      "state": {
       "_dom_classes": [],
       "_model_module": "@jupyter-widgets/output",
       "_model_module_version": "1.0.0",
       "_model_name": "OutputModel",
       "_view_count": null,
       "_view_module": "@jupyter-widgets/output",
       "_view_module_version": "1.0.0",
       "_view_name": "OutputView",
       "layout": "IPY_MODEL_b9f39814b2034d6ca97a949d6b4c4cd0",
       "msg_id": "",
       "outputs": [
        {
         "data": {
          "text/markdown": "`poly_inv_sqrt`",
          "text/plain": "<IPython.core.display.Markdown object>"
         },
         "metadata": {},
         "output_type": "display_data"
        },
        {
         "data": {
          "image/svg+xml": "<svg xmlns=\"http://www.w3.org/2000/svg\" xmlns:xlink=\"http://www.w3.org/1999/xlink\" width=\"303pt\" height=\"314pt\" viewBox=\"0.00 0.00 303.00 314.00\">\n<g id=\"graph0\" class=\"graph\" transform=\"scale(1 1) rotate(0) translate(4 310)\">\n<title>my_graph</title>\n<polygon fill=\"white\" stroke=\"transparent\" points=\"-4,4 -4,-310 299,-310 299,4 -4,4\"/>\n<!-- x_sq_G5 -->\n<g id=\"node1\" class=\"node\">\n<title>x_sq_G5</title>\n<text text-anchor=\"middle\" x=\"38.5\" y=\"-284.3\" font-family=\"Times,serif\" font-size=\"14.00\">x_sq</text>\n</g>\n<!-- PolynmomialEvaluationInverseSquareRoot -->\n<g id=\"node7\" class=\"node\">\n<title>PolynmomialEvaluationInverseSquareRoot</title>\n<polygon fill=\"none\" stroke=\"black\" points=\"114.5,-216 114.5,-233 181.5,-233 181.5,-216 114.5,-216\"/>\n<text text-anchor=\"start\" x=\"122.5\" y=\"-222\" font-family=\"Times,serif\" font-size=\"10.00\">y ~ x^{-1/2}</text>\n<polygon fill=\"none\" stroke=\"black\" points=\"114.5,-195 114.5,-216 181.5,-216 181.5,-195 114.5,-195\"/>\n<text text-anchor=\"start\" x=\"135\" y=\"-201.8\" font-family=\"Times,serif\" font-size=\"14.00\">x_sq</text>\n<polygon fill=\"none\" stroke=\"black\" points=\"114.5,-174 114.5,-195 181.5,-195 181.5,-174 114.5,-174\"/>\n<text text-anchor=\"start\" x=\"117.5\" y=\"-180.8\" font-family=\"Times,serif\" font-size=\"14.00\">in_coeff[0]</text>\n<polygon fill=\"none\" stroke=\"black\" points=\"114.5,-153 114.5,-174 181.5,-174 181.5,-153 114.5,-153\"/>\n<text text-anchor=\"start\" x=\"117.5\" y=\"-159.8\" font-family=\"Times,serif\" font-size=\"14.00\">in_coeff[1]</text>\n<polygon fill=\"none\" stroke=\"black\" points=\"114.5,-132 114.5,-153 181.5,-153 181.5,-132 114.5,-132\"/>\n<text text-anchor=\"start\" x=\"117.5\" y=\"-138.8\" font-family=\"Times,serif\" font-size=\"14.00\">in_coeff[2]</text>\n<polygon fill=\"none\" stroke=\"black\" points=\"114.5,-111 114.5,-132 181.5,-132 181.5,-111 114.5,-111\"/>\n<text text-anchor=\"start\" x=\"117.5\" y=\"-117.8\" font-family=\"Times,serif\" font-size=\"14.00\">in_coeff[3]</text>\n<polygon fill=\"none\" stroke=\"black\" points=\"114.5,-90 114.5,-111 181.5,-111 181.5,-90 114.5,-90\"/>\n<text text-anchor=\"start\" x=\"139\" y=\"-96.8\" font-family=\"Times,serif\" font-size=\"14.00\">out</text>\n</g>\n<!-- x_sq_G5&#45;&gt;PolynmomialEvaluationInverseSquareRoot -->\n<g id=\"edge1\" class=\"edge\">\n<title>x_sq_G5:e-&gt;PolynmomialEvaluationInverseSquareRoot:w</title>\n<path fill=\"none\" stroke=\"black\" d=\"M66.5,-288C107.79,-288 73.29,-209.17 111.62,-206.09\"/>\n<ellipse fill=\"black\" stroke=\"black\" cx=\"113\" cy=\"-206.04\" rx=\"1\" ry=\"1\"/>\n<text text-anchor=\"middle\" x=\"95.5\" y=\"-220\" font-family=\"Times,serif\" font-size=\"10.00\">7</text>\n</g>\n<!-- in_coeff_G7 -->\n<g id=\"node2\" class=\"node\">\n<title>in_coeff_G7</title>\n<text text-anchor=\"middle\" x=\"38.5\" y=\"-230.3\" font-family=\"Times,serif\" font-size=\"14.00\">in_coeff[0]</text>\n</g>\n<!-- in_coeff_G7&#45;&gt;PolynmomialEvaluationInverseSquareRoot -->\n<g id=\"edge2\" class=\"edge\">\n<title>in_coeff_G7:e-&gt;PolynmomialEvaluationInverseSquareRoot:w</title>\n<path fill=\"none\" stroke=\"black\" d=\"M77,-234C103.54,-234 87.64,-187.64 111.86,-185.11\"/>\n<ellipse fill=\"black\" stroke=\"black\" cx=\"113\" cy=\"-185.05\" rx=\"1\" ry=\"1\"/>\n<text text-anchor=\"middle\" x=\"95.5\" y=\"-213\" font-family=\"Times,serif\" font-size=\"10.00\">8</text>\n</g>\n<!-- in_coeff_G6 -->\n<g id=\"node3\" class=\"node\">\n<title>in_coeff_G6</title>\n<text text-anchor=\"middle\" x=\"38.5\" y=\"-176.3\" font-family=\"Times,serif\" font-size=\"14.00\">in_coeff[1]</text>\n</g>\n<!-- in_coeff_G6&#45;&gt;PolynmomialEvaluationInverseSquareRoot -->\n<g id=\"edge3\" class=\"edge\">\n<title>in_coeff_G6:e-&gt;PolynmomialEvaluationInverseSquareRoot:w</title>\n<path fill=\"none\" stroke=\"black\" d=\"M77,-180C94.22,-180 95.97,-165.23 111.98,-164.07\"/>\n<ellipse fill=\"black\" stroke=\"black\" cx=\"113\" cy=\"-164.04\" rx=\"1\" ry=\"1\"/>\n<text text-anchor=\"middle\" x=\"95.5\" y=\"-175\" font-family=\"Times,serif\" font-size=\"10.00\">8</text>\n</g>\n<!-- in_coeff_G10 -->\n<g id=\"node4\" class=\"node\">\n<title>in_coeff_G10</title>\n<text text-anchor=\"middle\" x=\"38.5\" y=\"-122.3\" font-family=\"Times,serif\" font-size=\"14.00\">in_coeff[2]</text>\n</g>\n<!-- in_coeff_G10&#45;&gt;PolynmomialEvaluationInverseSquareRoot -->\n<g id=\"edge4\" class=\"edge\">\n<title>in_coeff_G10:e-&gt;PolynmomialEvaluationInverseSquareRoot:w</title>\n<path fill=\"none\" stroke=\"black\" d=\"M77,-126C94.22,-126 95.97,-140.77 111.98,-141.93\"/>\n<ellipse fill=\"black\" stroke=\"black\" cx=\"113\" cy=\"-141.96\" rx=\"1\" ry=\"1\"/>\n<text text-anchor=\"middle\" x=\"95.5\" y=\"-137\" font-family=\"Times,serif\" font-size=\"10.00\">8</text>\n</g>\n<!-- in_coeff_G17 -->\n<g id=\"node5\" class=\"node\">\n<title>in_coeff_G17</title>\n<text text-anchor=\"middle\" x=\"38.5\" y=\"-68.3\" font-family=\"Times,serif\" font-size=\"14.00\">in_coeff[3]</text>\n</g>\n<!-- in_coeff_G17&#45;&gt;PolynmomialEvaluationInverseSquareRoot -->\n<g id=\"edge5\" class=\"edge\">\n<title>in_coeff_G17:e-&gt;PolynmomialEvaluationInverseSquareRoot:w</title>\n<path fill=\"none\" stroke=\"black\" d=\"M77,-72C103.54,-72 87.64,-118.36 111.86,-120.89\"/>\n<ellipse fill=\"black\" stroke=\"black\" cx=\"113\" cy=\"-120.95\" rx=\"1\" ry=\"1\"/>\n<text text-anchor=\"middle\" x=\"95.5\" y=\"-100\" font-family=\"Times,serif\" font-size=\"10.00\">8</text>\n</g>\n<!-- out_G13 -->\n<g id=\"node6\" class=\"node\">\n<title>out_G13</title>\n<text text-anchor=\"middle\" x=\"38.5\" y=\"-14.3\" font-family=\"Times,serif\" font-size=\"14.00\">out</text>\n</g>\n<!-- out_G13&#45;&gt;PolynmomialEvaluationInverseSquareRoot -->\n<g id=\"edge6\" class=\"edge\">\n<title>out_G13:e-&gt;PolynmomialEvaluationInverseSquareRoot:w</title>\n<path fill=\"none\" stroke=\"black\" d=\"M66.5,-18C107.79,-18 73.29,-96.83 111.62,-99.91\"/>\n<ellipse fill=\"black\" stroke=\"black\" cx=\"113\" cy=\"-99.96\" rx=\"1\" ry=\"1\"/>\n<text text-anchor=\"middle\" x=\"95.5\" y=\"-92\" font-family=\"Times,serif\" font-size=\"10.00\">12</text>\n</g>\n<!-- x_sq_G14 -->\n<g id=\"node8\" class=\"node\">\n<title>x_sq_G14</title>\n<text text-anchor=\"middle\" x=\"256.5\" y=\"-284.3\" font-family=\"Times,serif\" font-size=\"14.00\">x_sq</text>\n</g>\n<!-- PolynmomialEvaluationInverseSquareRoot&#45;&gt;x_sq_G14 -->\n<g id=\"edge7\" class=\"edge\">\n<title>PolynmomialEvaluationInverseSquareRoot:e-&gt;x_sq_G14:w</title>\n<path fill=\"none\" stroke=\"black\" d=\"M181,-206C222.29,-206 187.79,-284.83 226.12,-287.91\"/>\n<ellipse fill=\"black\" stroke=\"black\" cx=\"227.5\" cy=\"-287.96\" rx=\"1\" ry=\"1\"/>\n<text text-anchor=\"middle\" x=\"199.5\" y=\"-220\" font-family=\"Times,serif\" font-size=\"10.00\">7</text>\n</g>\n<!-- in_coeff_G3 -->\n<g id=\"node9\" class=\"node\">\n<title>in_coeff_G3</title>\n<text text-anchor=\"middle\" x=\"256.5\" y=\"-230.3\" font-family=\"Times,serif\" font-size=\"14.00\">in_coeff[0]</text>\n</g>\n<!-- PolynmomialEvaluationInverseSquareRoot&#45;&gt;in_coeff_G3 -->\n<g id=\"edge8\" class=\"edge\">\n<title>PolynmomialEvaluationInverseSquareRoot:e-&gt;in_coeff_G3:w</title>\n<path fill=\"none\" stroke=\"black\" d=\"M181,-185C207.54,-185 191.64,-231.36 215.86,-233.89\"/>\n<ellipse fill=\"black\" stroke=\"black\" cx=\"217\" cy=\"-233.95\" rx=\"1\" ry=\"1\"/>\n<text text-anchor=\"middle\" x=\"199.5\" y=\"-213\" font-family=\"Times,serif\" font-size=\"10.00\">8</text>\n</g>\n<!-- in_coeff_G2 -->\n<g id=\"node10\" class=\"node\">\n<title>in_coeff_G2</title>\n<text text-anchor=\"middle\" x=\"256.5\" y=\"-176.3\" font-family=\"Times,serif\" font-size=\"14.00\">in_coeff[1]</text>\n</g>\n<!-- PolynmomialEvaluationInverseSquareRoot&#45;&gt;in_coeff_G2 -->\n<g id=\"edge9\" class=\"edge\">\n<title>PolynmomialEvaluationInverseSquareRoot:e-&gt;in_coeff_G2:w</title>\n<path fill=\"none\" stroke=\"black\" d=\"M181,-164C198.22,-164 199.97,-178.77 215.98,-179.93\"/>\n<ellipse fill=\"black\" stroke=\"black\" cx=\"217\" cy=\"-179.96\" rx=\"1\" ry=\"1\"/>\n<text text-anchor=\"middle\" x=\"199.5\" y=\"-175\" font-family=\"Times,serif\" font-size=\"10.00\">8</text>\n</g>\n<!-- in_coeff_G4 -->\n<g id=\"node11\" class=\"node\">\n<title>in_coeff_G4</title>\n<text text-anchor=\"middle\" x=\"256.5\" y=\"-122.3\" font-family=\"Times,serif\" font-size=\"14.00\">in_coeff[2]</text>\n</g>\n<!-- PolynmomialEvaluationInverseSquareRoot&#45;&gt;in_coeff_G4 -->\n<g id=\"edge10\" class=\"edge\">\n<title>PolynmomialEvaluationInverseSquareRoot:e-&gt;in_coeff_G4:w</title>\n<path fill=\"none\" stroke=\"black\" d=\"M181,-142C198.22,-142 199.97,-127.23 215.98,-126.07\"/>\n<ellipse fill=\"black\" stroke=\"black\" cx=\"217\" cy=\"-126.04\" rx=\"1\" ry=\"1\"/>\n<text text-anchor=\"middle\" x=\"199.5\" y=\"-137\" font-family=\"Times,serif\" font-size=\"10.00\">8</text>\n</g>\n<!-- in_coeff_G8 -->\n<g id=\"node12\" class=\"node\">\n<title>in_coeff_G8</title>\n<text text-anchor=\"middle\" x=\"256.5\" y=\"-68.3\" font-family=\"Times,serif\" font-size=\"14.00\">in_coeff[3]</text>\n</g>\n<!-- PolynmomialEvaluationInverseSquareRoot&#45;&gt;in_coeff_G8 -->\n<g id=\"edge11\" class=\"edge\">\n<title>PolynmomialEvaluationInverseSquareRoot:e-&gt;in_coeff_G8:w</title>\n<path fill=\"none\" stroke=\"black\" d=\"M181,-121C207.54,-121 191.64,-74.64 215.86,-72.11\"/>\n<ellipse fill=\"black\" stroke=\"black\" cx=\"217\" cy=\"-72.05\" rx=\"1\" ry=\"1\"/>\n<text text-anchor=\"middle\" x=\"199.5\" y=\"-100\" font-family=\"Times,serif\" font-size=\"10.00\">8</text>\n</g>\n<!-- out_G11 -->\n<g id=\"node13\" class=\"node\">\n<title>out_G11</title>\n<text text-anchor=\"middle\" x=\"256.5\" y=\"-14.3\" font-family=\"Times,serif\" font-size=\"14.00\">out</text>\n</g>\n<!-- PolynmomialEvaluationInverseSquareRoot&#45;&gt;out_G11 -->\n<g id=\"edge12\" class=\"edge\">\n<title>PolynmomialEvaluationInverseSquareRoot:e-&gt;out_G11:w</title>\n<path fill=\"none\" stroke=\"black\" d=\"M181,-100C222.29,-100 187.79,-21.17 226.12,-18.09\"/>\n<ellipse fill=\"black\" stroke=\"black\" cx=\"227.5\" cy=\"-18.04\" rx=\"1\" ry=\"1\"/>\n<text text-anchor=\"middle\" x=\"199.5\" y=\"-92\" font-family=\"Times,serif\" font-size=\"10.00\">12</text>\n</g>\n</g>\n</svg>",
          "text/plain": "<IPython.core.display.SVG object>"
         },
         "metadata": {},
         "output_type": "display_data"
        }
       ],
       "tabbable": null,
       "tooltip": null
      }
     },
     "91ae119c17f44d928224be3925ad1c5e": {
      "model_module": "@jupyter-widgets/base",
      "model_module_version": "2.0.0",
      "model_name": "LayoutModel",
      "state": {
       "_model_module": "@jupyter-widgets/base",
       "_model_module_version": "2.0.0",
       "_model_name": "LayoutModel",
       "_view_count": null,
       "_view_module": "@jupyter-widgets/base",
       "_view_module_version": "2.0.0",
       "_view_name": "LayoutView",
       "align_content": null,
       "align_items": null,
       "align_self": null,
       "border_bottom": null,
       "border_left": null,
       "border_right": null,
       "border_top": null,
       "bottom": null,
       "display": null,
       "flex": null,
       "flex_flow": null,
       "grid_area": null,
       "grid_auto_columns": null,
       "grid_auto_flow": null,
       "grid_auto_rows": null,
       "grid_column": null,
       "grid_gap": null,
       "grid_row": null,
       "grid_template_areas": null,
       "grid_template_columns": null,
       "grid_template_rows": null,
       "height": null,
       "justify_content": null,
       "justify_items": null,
       "left": null,
       "margin": null,
       "max_height": null,
       "max_width": null,
       "min_height": null,
       "min_width": null,
       "object_fit": null,
       "object_position": null,
       "order": null,
       "overflow": null,
       "padding": null,
       "right": null,
       "top": null,
       "visibility": null,
       "width": null
      }
     },
     "a0ab03abeacc477d99f98c6a6c0d5010": {
      "model_module": "@jupyter-widgets/controls",
      "model_module_version": "2.0.0",
      "model_name": "HBoxModel",
      "state": {
       "_dom_classes": [],
       "_model_module": "@jupyter-widgets/controls",
       "_model_module_version": "2.0.0",
       "_model_name": "HBoxModel",
       "_view_count": null,
       "_view_module": "@jupyter-widgets/controls",
       "_view_module_version": "2.0.0",
       "_view_name": "HBoxView",
       "box_style": "",
       "children": [
        "IPY_MODEL_017f6d5150874e748658fd54060db773"
       ],
       "layout": "IPY_MODEL_86d3882cf11240e580e304b12e4495cf",
       "tabbable": null,
       "tooltip": null
      }
     },
     "add2d6dc6b5d49c1a7e54c8f79e92700": {
      "model_module": "@jupyter-widgets/base",
      "model_module_version": "2.0.0",
      "model_name": "LayoutModel",
      "state": {
       "_model_module": "@jupyter-widgets/base",
       "_model_module_version": "2.0.0",
       "_model_name": "LayoutModel",
       "_view_count": null,
       "_view_module": "@jupyter-widgets/base",
       "_view_module_version": "2.0.0",
       "_view_name": "LayoutView",
       "align_content": null,
       "align_items": null,
       "align_self": null,
       "border_bottom": null,
       "border_left": null,
       "border_right": null,
       "border_top": null,
       "bottom": null,
       "display": null,
       "flex": null,
       "flex_flow": null,
       "grid_area": null,
       "grid_auto_columns": null,
       "grid_auto_flow": null,
       "grid_auto_rows": null,
       "grid_column": null,
       "grid_gap": null,
       "grid_row": null,
       "grid_template_areas": null,
       "grid_template_columns": null,
       "grid_template_rows": null,
       "height": null,
       "justify_content": null,
       "justify_items": null,
       "left": null,
       "margin": null,
       "max_height": null,
       "max_width": null,
       "min_height": null,
       "min_width": null,
       "object_fit": null,
       "object_position": null,
       "order": null,
       "overflow": null,
       "padding": null,
       "right": null,
       "top": null,
       "visibility": null,
       "width": null
      }
     },
     "b0249a93e4d94ab4ac68dacc1ab37abc": {
      "model_module": "@jupyter-widgets/output",
      "model_module_version": "1.0.0",
      "model_name": "OutputModel",
      "state": {
       "_dom_classes": [],
       "_model_module": "@jupyter-widgets/output",
       "_model_module_version": "1.0.0",
       "_model_name": "OutputModel",
       "_view_count": null,
       "_view_module": "@jupyter-widgets/output",
       "_view_module_version": "1.0.0",
       "_view_name": "OutputView",
       "layout": "IPY_MODEL_91ae119c17f44d928224be3925ad1c5e",
       "msg_id": "",
       "outputs": [
        {
         "data": {
          "text/markdown": "`pair_potential`",
          "text/plain": "<IPython.core.display.Markdown object>"
         },
         "metadata": {},
         "output_type": "display_data"
        },
        {
         "data": {
          "image/svg+xml": "<svg xmlns=\"http://www.w3.org/2000/svg\" xmlns:xlink=\"http://www.w3.org/1999/xlink\" width=\"315pt\" height=\"314pt\" viewBox=\"0.00 0.00 315.00 314.00\">\n<g id=\"graph0\" class=\"graph\" transform=\"scale(1 1) rotate(0) translate(4 310)\">\n<title>my_graph</title>\n<polygon fill=\"white\" stroke=\"transparent\" points=\"-4,4 -4,-310 311,-310 311,4 -4,4\"/>\n<!-- system_i_G6 -->\n<g id=\"node1\" class=\"node\">\n<title>system_i_G6</title>\n<text text-anchor=\"middle\" x=\"40.5\" y=\"-284.3\" font-family=\"Times,serif\" font-size=\"14.00\">system_i[0]</text>\n</g>\n<!-- PairPotential -->\n<g id=\"node7\" class=\"node\">\n<title>PairPotential</title>\n<polygon fill=\"none\" stroke=\"black\" points=\"118.5,-216 118.5,-233 189.5,-233 189.5,-216 118.5,-216\"/>\n<text text-anchor=\"start\" x=\"131\" y=\"-222\" font-family=\"Times,serif\" font-size=\"10.00\">U_V(dt)_ij</text>\n<polygon fill=\"none\" stroke=\"black\" points=\"118.5,-195 118.5,-216 189.5,-216 189.5,-195 118.5,-195\"/>\n<text text-anchor=\"start\" x=\"121.5\" y=\"-201.8\" font-family=\"Times,serif\" font-size=\"14.00\">system_i[0]</text>\n<polygon fill=\"none\" stroke=\"black\" points=\"118.5,-174 118.5,-195 189.5,-195 189.5,-174 118.5,-174\"/>\n<text text-anchor=\"start\" x=\"121.5\" y=\"-180.8\" font-family=\"Times,serif\" font-size=\"14.00\">system_i[1]</text>\n<polygon fill=\"none\" stroke=\"black\" points=\"118.5,-153 118.5,-174 189.5,-174 189.5,-153 118.5,-153\"/>\n<text text-anchor=\"start\" x=\"121.5\" y=\"-159.8\" font-family=\"Times,serif\" font-size=\"14.00\">system_i[2]</text>\n<polygon fill=\"none\" stroke=\"black\" points=\"118.5,-132 118.5,-153 189.5,-153 189.5,-132 118.5,-132\"/>\n<text text-anchor=\"start\" x=\"121.5\" y=\"-138.8\" font-family=\"Times,serif\" font-size=\"14.00\">system_j[0]</text>\n<polygon fill=\"none\" stroke=\"black\" points=\"118.5,-111 118.5,-132 189.5,-132 189.5,-111 118.5,-111\"/>\n<text text-anchor=\"start\" x=\"121.5\" y=\"-117.8\" font-family=\"Times,serif\" font-size=\"14.00\">system_j[1]</text>\n<polygon fill=\"none\" stroke=\"black\" points=\"118.5,-90 118.5,-111 189.5,-111 189.5,-90 118.5,-90\"/>\n<text text-anchor=\"start\" x=\"121.5\" y=\"-96.8\" font-family=\"Times,serif\" font-size=\"14.00\">system_j[2]</text>\n</g>\n<!-- system_i_G6&#45;&gt;PairPotential -->\n<g id=\"edge1\" class=\"edge\">\n<title>system_i_G6:e-&gt;PairPotential:w</title>\n<path fill=\"none\" stroke=\"black\" d=\"M81,-288C120.2,-288 79.66,-209.17 115.75,-206.09\"/>\n<ellipse fill=\"black\" stroke=\"black\" cx=\"117\" cy=\"-206.04\" rx=\"1\" ry=\"1\"/>\n<text text-anchor=\"middle\" x=\"99.5\" y=\"-273\" font-family=\"Times,serif\" font-size=\"10.00\">7</text>\n</g>\n<!-- system_i_G5 -->\n<g id=\"node2\" class=\"node\">\n<title>system_i_G5</title>\n<text text-anchor=\"middle\" x=\"40.5\" y=\"-230.3\" font-family=\"Times,serif\" font-size=\"14.00\">system_i[1]</text>\n</g>\n<!-- system_i_G5&#45;&gt;PairPotential -->\n<g id=\"edge2\" class=\"edge\">\n<title>system_i_G5:e-&gt;PairPotential:w</title>\n<path fill=\"none\" stroke=\"black\" d=\"M81,-234C107.54,-234 91.64,-187.64 115.86,-185.11\"/>\n<ellipse fill=\"black\" stroke=\"black\" cx=\"117\" cy=\"-185.05\" rx=\"1\" ry=\"1\"/>\n<text text-anchor=\"middle\" x=\"99.5\" y=\"-213\" font-family=\"Times,serif\" font-size=\"10.00\">7</text>\n</g>\n<!-- system_i_G10 -->\n<g id=\"node3\" class=\"node\">\n<title>system_i_G10</title>\n<text text-anchor=\"middle\" x=\"40.5\" y=\"-176.3\" font-family=\"Times,serif\" font-size=\"14.00\">system_i[2]</text>\n</g>\n<!-- system_i_G10&#45;&gt;PairPotential -->\n<g id=\"edge3\" class=\"edge\">\n<title>system_i_G10:e-&gt;PairPotential:w</title>\n<path fill=\"none\" stroke=\"black\" d=\"M81,-180C98.22,-180 99.97,-165.23 115.98,-164.07\"/>\n<ellipse fill=\"black\" stroke=\"black\" cx=\"117\" cy=\"-164.04\" rx=\"1\" ry=\"1\"/>\n<text text-anchor=\"middle\" x=\"99.5\" y=\"-175\" font-family=\"Times,serif\" font-size=\"10.00\">7</text>\n</g>\n<!-- system_j_G4 -->\n<g id=\"node4\" class=\"node\">\n<title>system_j_G4</title>\n<text text-anchor=\"middle\" x=\"40.5\" y=\"-122.3\" font-family=\"Times,serif\" font-size=\"14.00\">system_j[0]</text>\n</g>\n<!-- system_j_G4&#45;&gt;PairPotential -->\n<g id=\"edge4\" class=\"edge\">\n<title>system_j_G4:e-&gt;PairPotential:w</title>\n<path fill=\"none\" stroke=\"black\" d=\"M81,-126C98.22,-126 99.97,-140.77 115.98,-141.93\"/>\n<ellipse fill=\"black\" stroke=\"black\" cx=\"117\" cy=\"-141.96\" rx=\"1\" ry=\"1\"/>\n<text text-anchor=\"middle\" x=\"99.5\" y=\"-137\" font-family=\"Times,serif\" font-size=\"10.00\">7</text>\n</g>\n<!-- system_j_G3 -->\n<g id=\"node5\" class=\"node\">\n<title>system_j_G3</title>\n<text text-anchor=\"middle\" x=\"40.5\" y=\"-68.3\" font-family=\"Times,serif\" font-size=\"14.00\">system_j[1]</text>\n</g>\n<!-- system_j_G3&#45;&gt;PairPotential -->\n<g id=\"edge5\" class=\"edge\">\n<title>system_j_G3:e-&gt;PairPotential:w</title>\n<path fill=\"none\" stroke=\"black\" d=\"M81,-72C107.54,-72 91.64,-118.36 115.86,-120.89\"/>\n<ellipse fill=\"black\" stroke=\"black\" cx=\"117\" cy=\"-120.95\" rx=\"1\" ry=\"1\"/>\n<text text-anchor=\"middle\" x=\"99.5\" y=\"-100\" font-family=\"Times,serif\" font-size=\"10.00\">7</text>\n</g>\n<!-- system_j_G8 -->\n<g id=\"node6\" class=\"node\">\n<title>system_j_G8</title>\n<text text-anchor=\"middle\" x=\"40.5\" y=\"-14.3\" font-family=\"Times,serif\" font-size=\"14.00\">system_j[2]</text>\n</g>\n<!-- system_j_G8&#45;&gt;PairPotential -->\n<g id=\"edge6\" class=\"edge\">\n<title>system_j_G8:e-&gt;PairPotential:w</title>\n<path fill=\"none\" stroke=\"black\" d=\"M81,-18C120.2,-18 79.66,-96.83 115.75,-99.91\"/>\n<ellipse fill=\"black\" stroke=\"black\" cx=\"117\" cy=\"-99.96\" rx=\"1\" ry=\"1\"/>\n<text text-anchor=\"middle\" x=\"99.5\" y=\"-85\" font-family=\"Times,serif\" font-size=\"10.00\">7</text>\n</g>\n<!-- system_i_G1 -->\n<g id=\"node8\" class=\"node\">\n<title>system_i_G1</title>\n<text text-anchor=\"middle\" x=\"266.5\" y=\"-284.3\" font-family=\"Times,serif\" font-size=\"14.00\">system_i[0]</text>\n</g>\n<!-- PairPotential&#45;&gt;system_i_G1 -->\n<g id=\"edge7\" class=\"edge\">\n<title>PairPotential:e-&gt;system_i_G1:w</title>\n<path fill=\"none\" stroke=\"black\" d=\"M189,-206C228.2,-206 187.66,-284.83 223.75,-287.91\"/>\n<ellipse fill=\"black\" stroke=\"black\" cx=\"225\" cy=\"-287.96\" rx=\"1\" ry=\"1\"/>\n<text text-anchor=\"middle\" x=\"207.5\" y=\"-273\" font-family=\"Times,serif\" font-size=\"10.00\">7</text>\n</g>\n<!-- system_i_G0 -->\n<g id=\"node9\" class=\"node\">\n<title>system_i_G0</title>\n<text text-anchor=\"middle\" x=\"266.5\" y=\"-230.3\" font-family=\"Times,serif\" font-size=\"14.00\">system_i[1]</text>\n</g>\n<!-- PairPotential&#45;&gt;system_i_G0 -->\n<g id=\"edge8\" class=\"edge\">\n<title>PairPotential:e-&gt;system_i_G0:w</title>\n<path fill=\"none\" stroke=\"black\" d=\"M189,-185C215.54,-185 199.64,-231.36 223.86,-233.89\"/>\n<ellipse fill=\"black\" stroke=\"black\" cx=\"225\" cy=\"-233.95\" rx=\"1\" ry=\"1\"/>\n<text text-anchor=\"middle\" x=\"207.5\" y=\"-213\" font-family=\"Times,serif\" font-size=\"10.00\">7</text>\n</g>\n<!-- system_i_G2 -->\n<g id=\"node10\" class=\"node\">\n<title>system_i_G2</title>\n<text text-anchor=\"middle\" x=\"266.5\" y=\"-176.3\" font-family=\"Times,serif\" font-size=\"14.00\">system_i[2]</text>\n</g>\n<!-- PairPotential&#45;&gt;system_i_G2 -->\n<g id=\"edge9\" class=\"edge\">\n<title>PairPotential:e-&gt;system_i_G2:w</title>\n<path fill=\"none\" stroke=\"black\" d=\"M189,-164C206.22,-164 207.97,-178.77 223.98,-179.93\"/>\n<ellipse fill=\"black\" stroke=\"black\" cx=\"225\" cy=\"-179.96\" rx=\"1\" ry=\"1\"/>\n<text text-anchor=\"middle\" x=\"207.5\" y=\"-175\" font-family=\"Times,serif\" font-size=\"10.00\">7</text>\n</g>\n<!-- system_j_G16 -->\n<g id=\"node11\" class=\"node\">\n<title>system_j_G16</title>\n<text text-anchor=\"middle\" x=\"266.5\" y=\"-122.3\" font-family=\"Times,serif\" font-size=\"14.00\">system_j[0]</text>\n</g>\n<!-- PairPotential&#45;&gt;system_j_G16 -->\n<g id=\"edge10\" class=\"edge\">\n<title>PairPotential:e-&gt;system_j_G16:w</title>\n<path fill=\"none\" stroke=\"black\" d=\"M189,-142C206.22,-142 207.97,-127.23 223.98,-126.07\"/>\n<ellipse fill=\"black\" stroke=\"black\" cx=\"225\" cy=\"-126.04\" rx=\"1\" ry=\"1\"/>\n<text text-anchor=\"middle\" x=\"207.5\" y=\"-137\" font-family=\"Times,serif\" font-size=\"10.00\">7</text>\n</g>\n<!-- system_j_G11 -->\n<g id=\"node12\" class=\"node\">\n<title>system_j_G11</title>\n<text text-anchor=\"middle\" x=\"266.5\" y=\"-68.3\" font-family=\"Times,serif\" font-size=\"14.00\">system_j[1]</text>\n</g>\n<!-- PairPotential&#45;&gt;system_j_G11 -->\n<g id=\"edge11\" class=\"edge\">\n<title>PairPotential:e-&gt;system_j_G11:w</title>\n<path fill=\"none\" stroke=\"black\" d=\"M189,-121C215.54,-121 199.64,-74.64 223.86,-72.11\"/>\n<ellipse fill=\"black\" stroke=\"black\" cx=\"225\" cy=\"-72.05\" rx=\"1\" ry=\"1\"/>\n<text text-anchor=\"middle\" x=\"207.5\" y=\"-100\" font-family=\"Times,serif\" font-size=\"10.00\">7</text>\n</g>\n<!-- system_j_G17 -->\n<g id=\"node13\" class=\"node\">\n<title>system_j_G17</title>\n<text text-anchor=\"middle\" x=\"266.5\" y=\"-14.3\" font-family=\"Times,serif\" font-size=\"14.00\">system_j[2]</text>\n</g>\n<!-- PairPotential&#45;&gt;system_j_G17 -->\n<g id=\"edge12\" class=\"edge\">\n<title>PairPotential:e-&gt;system_j_G17:w</title>\n<path fill=\"none\" stroke=\"black\" d=\"M189,-100C228.2,-100 187.66,-21.17 223.75,-18.09\"/>\n<ellipse fill=\"black\" stroke=\"black\" cx=\"225\" cy=\"-18.04\" rx=\"1\" ry=\"1\"/>\n<text text-anchor=\"middle\" x=\"207.5\" y=\"-85\" font-family=\"Times,serif\" font-size=\"10.00\">7</text>\n</g>\n</g>\n</svg>",
          "text/plain": "<IPython.core.display.SVG object>"
         },
         "metadata": {},
         "output_type": "display_data"
        }
       ],
       "tabbable": null,
       "tooltip": null
      }
     },
     "b6b8895db6214105bc1dca27a93f9e67": {
      "model_module": "@jupyter-widgets/controls",
      "model_module_version": "2.0.0",
      "model_name": "HBoxModel",
      "state": {
       "_dom_classes": [],
       "_model_module": "@jupyter-widgets/controls",
       "_model_module_version": "2.0.0",
       "_model_name": "HBoxModel",
       "_view_count": null,
       "_view_module": "@jupyter-widgets/controls",
       "_view_module_version": "2.0.0",
       "_view_name": "HBoxView",
       "box_style": "",
       "children": [
        "IPY_MODEL_b0249a93e4d94ab4ac68dacc1ab37abc"
       ],
       "layout": "IPY_MODEL_add2d6dc6b5d49c1a7e54c8f79e92700",
       "tabbable": null,
       "tooltip": null
      }
     },
     "b9f39814b2034d6ca97a949d6b4c4cd0": {
      "model_module": "@jupyter-widgets/base",
      "model_module_version": "2.0.0",
      "model_name": "LayoutModel",
      "state": {
       "_model_module": "@jupyter-widgets/base",
       "_model_module_version": "2.0.0",
       "_model_name": "LayoutModel",
       "_view_count": null,
       "_view_module": "@jupyter-widgets/base",
       "_view_module_version": "2.0.0",
       "_view_name": "LayoutView",
       "align_content": null,
       "align_items": null,
       "align_self": null,
       "border_bottom": null,
       "border_left": null,
       "border_right": null,
       "border_top": null,
       "bottom": null,
       "display": null,
       "flex": null,
       "flex_flow": null,
       "grid_area": null,
       "grid_auto_columns": null,
       "grid_auto_flow": null,
       "grid_auto_rows": null,
       "grid_column": null,
       "grid_gap": null,
       "grid_row": null,
       "grid_template_areas": null,
       "grid_template_columns": null,
       "grid_template_rows": null,
       "height": null,
       "justify_content": null,
       "justify_items": null,
       "left": null,
       "margin": null,
       "max_height": null,
       "max_width": null,
       "min_height": null,
       "min_width": null,
       "object_fit": null,
       "object_position": null,
       "order": null,
       "overflow": null,
       "padding": null,
       "right": null,
       "top": null,
       "visibility": null,
       "width": null
      }
     },
     "cb9319a1b84942e7967d0f50ad7c20f0": {
      "model_module": "@jupyter-widgets/output",
      "model_module_version": "1.0.0",
      "model_name": "OutputModel",
      "state": {
       "_dom_classes": [],
       "_model_module": "@jupyter-widgets/output",
       "_model_module_version": "1.0.0",
       "_model_name": "OutputModel",
       "_view_count": null,
       "_view_module": "@jupyter-widgets/output",
       "_view_module_version": "1.0.0",
       "_view_name": "OutputView",
       "layout": "IPY_MODEL_21aebcd3ed1342aaa8ee0073d22f2107",
       "msg_id": "",
       "outputs": [
        {
         "data": {
          "text/markdown": "`nr_inv_sqrt`",
          "text/plain": "<IPython.core.display.Markdown object>"
         },
         "metadata": {},
         "output_type": "display_data"
        },
        {
         "data": {
          "image/svg+xml": "<svg xmlns=\"http://www.w3.org/2000/svg\" xmlns:xlink=\"http://www.w3.org/1999/xlink\" width=\"248pt\" height=\"152pt\" viewBox=\"0.00 0.00 248.00 152.00\">\n<g id=\"graph0\" class=\"graph\" transform=\"scale(1 1) rotate(0) translate(4 148)\">\n<title>my_graph</title>\n<polygon fill=\"white\" stroke=\"transparent\" points=\"-4,4 -4,-148 244,-148 244,4 -4,4\"/>\n<!-- x_sq_G8 -->\n<g id=\"node1\" class=\"node\">\n<title>x_sq_G8</title>\n<text text-anchor=\"middle\" x=\"27\" y=\"-122.3\" font-family=\"Times,serif\" font-size=\"14.00\">x_sq</text>\n</g>\n<!-- NewtonRaphsonApproxInverseSquareRoot -->\n<g id=\"node4\" class=\"node\">\n<title>NewtonRaphsonApproxInverseSquareRoot</title>\n<polygon fill=\"none\" stroke=\"black\" points=\"91,-104 91,-121 149,-121 149,-104 91,-104\"/>\n<text text-anchor=\"start\" x=\"94\" y=\"-110\" font-family=\"Times,serif\" font-size=\"10.00\">y = x^{-1/2}</text>\n<polygon fill=\"none\" stroke=\"black\" points=\"91,-83 91,-104 149,-104 149,-83 91,-83\"/>\n<text text-anchor=\"start\" x=\"107\" y=\"-89.8\" font-family=\"Times,serif\" font-size=\"14.00\">x_sq</text>\n<polygon fill=\"none\" stroke=\"black\" points=\"91,-62 91,-83 149,-83 149,-62 91,-62\"/>\n<text text-anchor=\"start\" x=\"107.5\" y=\"-68.8\" font-family=\"Times,serif\" font-size=\"14.00\">poly</text>\n<polygon fill=\"none\" stroke=\"black\" points=\"91,-41 91,-62 149,-62 149,-41 91,-41\"/>\n<text text-anchor=\"start\" x=\"104.5\" y=\"-47.8\" font-family=\"Times,serif\" font-size=\"14.00\">target</text>\n</g>\n<!-- x_sq_G8&#45;&gt;NewtonRaphsonApproxInverseSquareRoot -->\n<g id=\"edge1\" class=\"edge\">\n<title>x_sq_G8:e-&gt;NewtonRaphsonApproxInverseSquareRoot:w</title>\n<path fill=\"none\" stroke=\"black\" d=\"M54,-126C74.89,-126 69.72,-96.45 88.58,-94.14\"/>\n<ellipse fill=\"black\" stroke=\"black\" cx=\"90\" cy=\"-94.06\" rx=\"1\" ry=\"1\"/>\n<text text-anchor=\"middle\" x=\"72.5\" y=\"-113\" font-family=\"Times,serif\" font-size=\"10.00\">7</text>\n</g>\n<!-- poly_G4 -->\n<g id=\"node2\" class=\"node\">\n<title>poly_G4</title>\n<text text-anchor=\"middle\" x=\"27\" y=\"-68.3\" font-family=\"Times,serif\" font-size=\"14.00\">poly</text>\n</g>\n<!-- poly_G4&#45;&gt;NewtonRaphsonApproxInverseSquareRoot -->\n<g id=\"edge2\" class=\"edge\">\n<title>poly_G4:e-&gt;NewtonRaphsonApproxInverseSquareRoot:w</title>\n<path fill=\"none\" stroke=\"black\" d=\"M54,-72C69.67,-72 74.14,-72 88.77,-72\"/>\n<ellipse fill=\"black\" stroke=\"black\" cx=\"90\" cy=\"-72\" rx=\"1\" ry=\"1\"/>\n<text text-anchor=\"middle\" x=\"72.5\" y=\"-75\" font-family=\"Times,serif\" font-size=\"10.00\">8</text>\n</g>\n<!-- target_G2 -->\n<g id=\"node3\" class=\"node\">\n<title>target_G2</title>\n<text text-anchor=\"middle\" x=\"27\" y=\"-14.3\" font-family=\"Times,serif\" font-size=\"14.00\">target</text>\n</g>\n<!-- target_G2&#45;&gt;NewtonRaphsonApproxInverseSquareRoot -->\n<g id=\"edge3\" class=\"edge\">\n<title>target_G2:e-&gt;NewtonRaphsonApproxInverseSquareRoot:w</title>\n<path fill=\"none\" stroke=\"black\" d=\"M54,-18C75.17,-18 69.47,-48.47 88.55,-50.85\"/>\n<ellipse fill=\"black\" stroke=\"black\" cx=\"90\" cy=\"-50.94\" rx=\"1\" ry=\"1\"/>\n<text text-anchor=\"middle\" x=\"72.5\" y=\"-39\" font-family=\"Times,serif\" font-size=\"10.00\">12</text>\n</g>\n<!-- x_sq_G7 -->\n<g id=\"node5\" class=\"node\">\n<title>x_sq_G7</title>\n<text text-anchor=\"middle\" x=\"213\" y=\"-122.3\" font-family=\"Times,serif\" font-size=\"14.00\">x_sq</text>\n</g>\n<!-- NewtonRaphsonApproxInverseSquareRoot&#45;&gt;x_sq_G7 -->\n<g id=\"edge4\" class=\"edge\">\n<title>NewtonRaphsonApproxInverseSquareRoot:e-&gt;x_sq_G7:w</title>\n<path fill=\"none\" stroke=\"black\" d=\"M149,-94C169.89,-94 164.72,-123.55 183.58,-125.86\"/>\n<ellipse fill=\"black\" stroke=\"black\" cx=\"185\" cy=\"-125.94\" rx=\"1\" ry=\"1\"/>\n<text text-anchor=\"middle\" x=\"167.5\" y=\"-113\" font-family=\"Times,serif\" font-size=\"10.00\">7</text>\n</g>\n<!-- poly_G3 -->\n<g id=\"node6\" class=\"node\">\n<title>poly_G3</title>\n<text text-anchor=\"middle\" x=\"213\" y=\"-68.3\" font-family=\"Times,serif\" font-size=\"14.00\">poly</text>\n</g>\n<!-- NewtonRaphsonApproxInverseSquareRoot&#45;&gt;poly_G3 -->\n<g id=\"edge5\" class=\"edge\">\n<title>NewtonRaphsonApproxInverseSquareRoot:e-&gt;poly_G3:w</title>\n<path fill=\"none\" stroke=\"black\" d=\"M149,-72C164.67,-72 169.14,-72 183.77,-72\"/>\n<ellipse fill=\"black\" stroke=\"black\" cx=\"185\" cy=\"-72\" rx=\"1\" ry=\"1\"/>\n<text text-anchor=\"middle\" x=\"167.5\" y=\"-75\" font-family=\"Times,serif\" font-size=\"10.00\">8</text>\n</g>\n<!-- target_G5 -->\n<g id=\"node7\" class=\"node\">\n<title>target_G5</title>\n<text text-anchor=\"middle\" x=\"213\" y=\"-14.3\" font-family=\"Times,serif\" font-size=\"14.00\">target</text>\n</g>\n<!-- NewtonRaphsonApproxInverseSquareRoot&#45;&gt;target_G5 -->\n<g id=\"edge6\" class=\"edge\">\n<title>NewtonRaphsonApproxInverseSquareRoot:e-&gt;target_G5:w</title>\n<path fill=\"none\" stroke=\"black\" d=\"M149,-51C170.17,-51 164.47,-20.53 183.55,-18.15\"/>\n<ellipse fill=\"black\" stroke=\"black\" cx=\"185\" cy=\"-18.06\" rx=\"1\" ry=\"1\"/>\n<text text-anchor=\"middle\" x=\"167.5\" y=\"-39\" font-family=\"Times,serif\" font-size=\"10.00\">12</text>\n</g>\n</g>\n</svg>",
          "text/plain": "<IPython.core.display.SVG object>"
         },
         "metadata": {},
         "output_type": "display_data"
        }
       ],
       "tabbable": null,
       "tooltip": null
      }
     },
     "d01cb506995a4e718059ccb70c60311c": {
      "model_module": "@jupyter-widgets/controls",
      "model_module_version": "2.0.0",
      "model_name": "HBoxModel",
      "state": {
       "_dom_classes": [],
       "_model_module": "@jupyter-widgets/controls",
       "_model_module_version": "2.0.0",
       "_model_name": "HBoxModel",
       "_view_count": null,
       "_view_module": "@jupyter-widgets/controls",
       "_view_module_version": "2.0.0",
       "_view_name": "HBoxView",
       "box_style": "",
       "children": [
        "IPY_MODEL_cb9319a1b84942e7967d0f50ad7c20f0"
       ],
       "layout": "IPY_MODEL_8a68c1fd3b254030ae3ea7e17054f7b2",
       "tabbable": null,
       "tooltip": null
      }
     },
     "d545554cb8514300a28642cc8f770d36": {
      "model_module": "@jupyter-widgets/controls",
      "model_module_version": "2.0.0",
      "model_name": "HBoxModel",
      "state": {
       "_dom_classes": [],
       "_model_module": "@jupyter-widgets/controls",
       "_model_module_version": "2.0.0",
       "_model_name": "HBoxModel",
       "_view_count": null,
       "_view_module": "@jupyter-widgets/controls",
       "_view_module_version": "2.0.0",
       "_view_name": "HBoxView",
       "box_style": "",
       "children": [
        "IPY_MODEL_8fe1c386a19840ef9396bc4c96419e42"
       ],
       "layout": "IPY_MODEL_520ae319c35143c2973d499d75b8bc4b",
       "tabbable": null,
       "tooltip": null
      }
     },
     "d9b48405ea924cc089c78ba7494be342": {
      "model_module": "@jupyter-widgets/controls",
      "model_module_version": "2.0.0",
      "model_name": "HBoxModel",
      "state": {
       "_dom_classes": [],
       "_model_module": "@jupyter-widgets/controls",
       "_model_module_version": "2.0.0",
       "_model_name": "HBoxModel",
       "_view_count": null,
       "_view_module": "@jupyter-widgets/controls",
       "_view_module_version": "2.0.0",
       "_view_name": "HBoxView",
       "box_style": "",
       "children": [
        "IPY_MODEL_3704eadc372a418c94084a0786d78935"
       ],
       "layout": "IPY_MODEL_093456ef1d7843f2903efbd039aa679c",
       "tabbable": null,
       "tooltip": null
      }
     },
     "eebedb501db444bfadea64dd0d639a6f": {
      "model_module": "@jupyter-widgets/base",
      "model_module_version": "2.0.0",
      "model_name": "LayoutModel",
      "state": {
       "_model_module": "@jupyter-widgets/base",
       "_model_module_version": "2.0.0",
       "_model_name": "LayoutModel",
       "_view_count": null,
       "_view_module": "@jupyter-widgets/base",
       "_view_module_version": "2.0.0",
       "_view_name": "LayoutView",
       "align_content": null,
       "align_items": null,
       "align_self": null,
       "border_bottom": null,
       "border_left": null,
       "border_right": null,
       "border_top": null,
       "bottom": null,
       "display": null,
       "flex": null,
       "flex_flow": null,
       "grid_area": null,
       "grid_auto_columns": null,
       "grid_auto_flow": null,
       "grid_auto_rows": null,
       "grid_column": null,
       "grid_gap": null,
       "grid_row": null,
       "grid_template_areas": null,
       "grid_template_columns": null,
       "grid_template_rows": null,
       "height": null,
       "justify_content": null,
       "justify_items": null,
       "left": null,
       "margin": null,
       "max_height": null,
       "max_width": null,
       "min_height": null,
       "min_width": null,
       "object_fit": null,
       "object_position": null,
       "order": null,
       "overflow": null,
       "padding": null,
       "right": null,
       "top": null,
       "visibility": null,
       "width": null
      }
     }
    },
    "version_major": 2,
    "version_minor": 0
   }
  }
 },
 "nbformat": 4,
 "nbformat_minor": 5
}
