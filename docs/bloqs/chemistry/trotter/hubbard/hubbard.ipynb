{
 "cells": [
  {
   "cell_type": "markdown",
   "id": "1e593ef8",
   "metadata": {
    "cq.autogen": "title_cell"
   },
   "source": [
    "# Trotterized Hubbard\n",
    "\n",
    "Bloqs implementing Trotterized unitary evolution under the Hubbard Hamiltonian.\n",
    "\n",
    "The Hubbard model is given as a sum of two terms\n",
    "\n",
    "$$\n",
    "H = H_h + H_I\n",
    "$$\n",
    "\n",
    "where the hopping hamiltonian is given as \n",
    "$$\n",
    "H_h = -\\tau \\sum_{\\langle p, q\\rangle, \\sigma} \n",
    "    \\left(a_{p\\sigma}^{\\dagger} a_{q\\sigma} + \\mathrm{h.c.} \\right)\n",
    "$$\n",
    "where the sum is over nearest neighbour lattice sites (under periodic boundary conditions).\n",
    "\n",
    "Following the [reference](https://arxiv.org/abs/2012.09238) we assume the\n",
    "shifted form of the interacting Hamiltonian:\n",
    "$$\n",
    "H_I = \\frac{u}{4} \\sum_{p} z_{p\\uparrow}z_{p\\downarrow}\n",
    "$$\n",
    "where $z_{p\\sigma} = (2 n_{p\\sigma} - 1)$.\n",
    "\n",
    "\n",
    "For Trotterization we assume the plaquette splitting from the \n",
    "[reference](https://arxiv.org/abs/2012.09238).\n",
    "The plaquette splitting rewrites $H_h$ as a sum of $H_h^p$ and $H_h^g$ (for pink and gold \n",
    "respectively) which when combined tile the entire lattice. Each plaquette\n",
    "contains four sites and paritions the lattice such that each edge of the lattice\n",
    "belongs to a single plaquette. Each term within a grouping commutes so that the\n",
    "unitary can be be implemented as\n",
    "$$\n",
    "e^{i H_h^{x}} = \\prod_{k\\sigma} e^{i H_h^{x(k,\\sigma)}}\n",
    "$$\n",
    "without further trotter error."
   ]
  },
  {
   "cell_type": "code",
   "execution_count": 1,
   "id": "05a9568d",
   "metadata": {
    "cq.autogen": "top_imports"
   },
   "outputs": [],
   "source": [
    "from qualtran import Bloq, CompositeBloq, BloqBuilder, Signature, Register\n",
    "from qualtran import QBit, QInt, QUInt, QAny\n",
    "from qualtran.drawing import show_bloq, show_call_graph, show_counts_sigma\n",
    "from typing import *\n",
    "import numpy as np\n",
    "import sympy\n",
    "import cirq"
   ]
  },
  {
   "cell_type": "markdown",
   "id": "f77ffe9c",
   "metadata": {
    "cq.autogen": "HoppingTile.bloq_doc.md"
   },
   "source": [
    "## `HoppingTile`\n",
    "Bloq implementing a \"tile\" of the one-body hopping unitary.\n",
    "\n",
    "Implements the unitary\n",
    "$$\n",
    "e^{i H_h^{x}} = \\prod_{k\\sigma} e^{i t H_h^{x(k,\\sigma)}}\n",
    "$$\n",
    "for a particular choise of of plaquette hamiltonian $H_h^x$, where $x$ = pink or gold.\n",
    "\n",
    "#### Parameters\n",
    " - `length`: Lattice side length L.\n",
    " - `angle`: The prefactor scaling the Hopping hamiltonian in the unitary (`t` above). This should contain any relevant prefactors including the time step and any splitting coefficients.\n",
    " - `tau`: The Hopping hamiltonian parameter. Typically the hubbard model is defined relative to $\\tau$ so it's defaulted to 1.\n",
    " - `eps`: The precision of the single qubit rotations.\n",
    " - `pink`: The colour of the plaquette. \n",
    "\n",
    "#### Registers\n",
    " - `system`: The system register of size 2 `length`. \n",
    "\n",
    "#### References\n",
    " - [Early fault-tolerant simulations of the Hubbard model](https://arxiv.org/abs/2012.09238). see Eq. 21 and App E.\n"
   ]
  },
  {
   "cell_type": "code",
   "execution_count": 2,
   "id": "85e250cb",
   "metadata": {
    "cq.autogen": "HoppingTile.bloq_doc.py"
   },
   "outputs": [],
   "source": [
    "from qualtran.bloqs.chemistry.trotter.hubbard.hopping import HoppingTile"
   ]
  },
  {
   "cell_type": "markdown",
   "id": "b6d95ae1",
   "metadata": {
    "cq.autogen": "HoppingTile.example_instances.md"
   },
   "source": [
    "### Example Instances"
   ]
  },
  {
   "cell_type": "code",
   "execution_count": 3,
   "id": "e48f160a",
   "metadata": {
    "cq.autogen": "HoppingTile.hopping_tile"
   },
   "outputs": [],
   "source": [
    "length = 8\n",
    "angle = 0.5\n",
    "hopping_tile = HoppingTile(length, angle)"
   ]
  },
  {
   "cell_type": "markdown",
   "id": "672adf17",
   "metadata": {
    "cq.autogen": "HoppingTile.graphical_signature.md"
   },
   "source": [
    "#### Graphical Signature"
   ]
  },
  {
   "cell_type": "code",
   "execution_count": 4,
   "id": "467e12a7",
   "metadata": {
    "cq.autogen": "HoppingTile.graphical_signature.py"
   },
   "outputs": [
    {
     "data": {
      "application/vnd.jupyter.widget-view+json": {
       "model_id": "d081858bc70f4b078c30855e63782227",
       "version_major": 2,
       "version_minor": 0
      },
      "text/plain": [
       "HBox(children=(Output(outputs=({'output_type': 'display_data', 'data': {'text/plain': '<IPython.core.display.M…"
      ]
     },
     "metadata": {},
     "output_type": "display_data"
    }
   ],
   "source": [
    "from qualtran.drawing import show_bloqs\n",
    "show_bloqs([hopping_tile],\n",
    "           ['`hopping_tile`'])"
   ]
  },
  {
   "cell_type": "markdown",
   "id": "7fbdb423",
   "metadata": {
    "cq.autogen": "HoppingTile.call_graph.md"
   },
   "source": [
    "### Call Graph"
   ]
  },
  {
   "cell_type": "code",
   "execution_count": 5,
   "id": "499da704",
   "metadata": {
    "cq.autogen": "HoppingTile.call_graph.py"
   },
   "outputs": [
    {
     "data": {
      "image/svg+xml": [
       "<svg xmlns=\"http://www.w3.org/2000/svg\" xmlns:xlink=\"http://www.w3.org/1999/xlink\" width=\"325pt\" height=\"131pt\" viewBox=\"0.00 0.00 325.00 131.00\">\n",
       "<g id=\"graph0\" class=\"graph\" transform=\"scale(1 1) rotate(0) translate(4 127)\">\n",
       "<title>counts</title>\n",
       "<polygon fill=\"white\" stroke=\"transparent\" points=\"-4,4 -4,-127 321,-127 321,4 -4,4\"/>\n",
       "<!-- b0 -->\n",
       "<g id=\"node1\" class=\"node\">\n",
       "<title>b0</title>\n",
       "<polygon fill=\"none\" stroke=\"black\" points=\"317,-123 0,-123 0,-87 317,-87 317,-123\"/>\n",
       "<text text-anchor=\"start\" x=\"123.5\" y=\"-106.8\" font-family=\"Times,serif\" font-size=\"14.00\">HoppingTile</text>\n",
       "<text text-anchor=\"start\" x=\"8\" y=\"-96\" font-family=\"monospace\" font-size=\"10.00\">length=8, angle=0.5, tau=1.0, eps=1e-09, pink=True</text>\n",
       "</g>\n",
       "<!-- b1 -->\n",
       "<g id=\"node2\" class=\"node\">\n",
       "<title>b1</title>\n",
       "<polygon fill=\"none\" stroke=\"black\" points=\"227,-36 90,-36 90,0 227,0 227,-36\"/>\n",
       "<text text-anchor=\"start\" x=\"109.5\" y=\"-19.8\" font-family=\"Times,serif\" font-size=\"14.00\">HoppingPlaquette</text>\n",
       "<text text-anchor=\"start\" x=\"98\" y=\"-9\" font-family=\"monospace\" font-size=\"10.00\">kappa=0.5, eps=1e-09</text>\n",
       "</g>\n",
       "<!-- b0&#45;&gt;b1 -->\n",
       "<g id=\"edge1\" class=\"edge\">\n",
       "<title>b0-&gt;b1</title>\n",
       "<path fill=\"none\" stroke=\"black\" d=\"M158.5,-86.8C158.5,-75.16 158.5,-59.55 158.5,-46.24\"/>\n",
       "<polygon fill=\"black\" stroke=\"black\" points=\"162,-46.18 158.5,-36.18 155,-46.18 162,-46.18\"/>\n",
       "<text text-anchor=\"middle\" x=\"165.5\" y=\"-57.8\" font-family=\"Times,serif\" font-size=\"14.00\">32</text>\n",
       "</g>\n",
       "</g>\n",
       "</svg>"
      ],
      "text/plain": [
       "<IPython.core.display.SVG object>"
      ]
     },
     "metadata": {},
     "output_type": "display_data"
    },
    {
     "data": {
      "text/markdown": [
       "#### Counts totals:\n",
       " - `HoppingPlaquette(kappa=0.5, eps=1e-09)`: 32"
      ],
      "text/plain": [
       "<IPython.core.display.Markdown object>"
      ]
     },
     "metadata": {},
     "output_type": "display_data"
    }
   ],
   "source": [
    "from qualtran.resource_counting.generalizers import ignore_split_join\n",
    "hopping_tile_g, hopping_tile_sigma = hopping_tile.call_graph(max_depth=1, generalizer=ignore_split_join)\n",
    "show_call_graph(hopping_tile_g)\n",
    "show_counts_sigma(hopping_tile_sigma)"
   ]
  },
  {
   "cell_type": "markdown",
   "id": "a6d226f9",
   "metadata": {
    "cq.autogen": "Interaction.bloq_doc.md"
   },
   "source": [
    "## `Interaction`\n",
    "Bloq implementing the hubbard U part of the hamiltonian.\n",
    "\n",
    "Specifically:\n",
    "$$\n",
    "    U_I = e^{i t H_I}\n",
    "$$\n",
    "which can be implemented using equal angle single-qubit Z rotations.\n",
    "\n",
    "#### Parameters\n",
    " - `length`: Lattice length L. \n",
    "\n",
    "#### Registers\n",
    " - `system`: The system register of size 2 `length`. \n",
    "\n",
    "#### References\n",
    " - [Early fault-tolerant simulations of the Hubbard model](https://arxiv.org/abs/2012.09238). Eq. 6 page 2 and page 13 paragraph 1.\n"
   ]
  },
  {
   "cell_type": "code",
   "execution_count": 6,
   "id": "f59ebbcf",
   "metadata": {
    "cq.autogen": "Interaction.bloq_doc.py"
   },
   "outputs": [],
   "source": [
    "from qualtran.bloqs.chemistry.trotter.hubbard.interaction import Interaction"
   ]
  },
  {
   "cell_type": "markdown",
   "id": "abbc8d48",
   "metadata": {
    "cq.autogen": "Interaction.example_instances.md"
   },
   "source": [
    "### Example Instances"
   ]
  },
  {
   "cell_type": "code",
   "execution_count": 7,
   "id": "28c8162e",
   "metadata": {
    "cq.autogen": "Interaction.interaction"
   },
   "outputs": [],
   "source": [
    "length = 8\n",
    "angle = 0.5\n",
    "interaction = Interaction(length, angle)"
   ]
  },
  {
   "cell_type": "markdown",
   "id": "1eb36835",
   "metadata": {
    "cq.autogen": "Interaction.graphical_signature.md"
   },
   "source": [
    "#### Graphical Signature"
   ]
  },
  {
   "cell_type": "code",
   "execution_count": 8,
   "id": "8a6eba22",
   "metadata": {
    "cq.autogen": "Interaction.graphical_signature.py"
   },
   "outputs": [
    {
     "data": {
      "application/vnd.jupyter.widget-view+json": {
       "model_id": "bc751eaf16d44300bc766bec0dcf0c81",
       "version_major": 2,
       "version_minor": 0
      },
      "text/plain": [
       "HBox(children=(Output(outputs=({'output_type': 'display_data', 'data': {'text/plain': '<IPython.core.display.M…"
      ]
     },
     "metadata": {},
     "output_type": "display_data"
    }
   ],
   "source": [
    "from qualtran.drawing import show_bloqs\n",
    "show_bloqs([interaction],\n",
    "           ['`interaction`'])"
   ]
  },
  {
   "cell_type": "markdown",
   "id": "e4cb2793",
   "metadata": {
    "cq.autogen": "Interaction.call_graph.md"
   },
   "source": [
    "### Call Graph"
   ]
  },
  {
   "cell_type": "code",
   "execution_count": 9,
   "id": "4efb569f",
   "metadata": {
    "cq.autogen": "Interaction.call_graph.py"
   },
   "outputs": [
    {
     "data": {
      "image/svg+xml": [
       "<svg xmlns=\"http://www.w3.org/2000/svg\" xmlns:xlink=\"http://www.w3.org/1999/xlink\" width=\"205pt\" height=\"131pt\" viewBox=\"0.00 0.00 205.00 131.00\">\n",
       "<g id=\"graph0\" class=\"graph\" transform=\"scale(1 1) rotate(0) translate(4 127)\">\n",
       "<title>counts</title>\n",
       "<polygon fill=\"white\" stroke=\"transparent\" points=\"-4,4 -4,-127 201,-127 201,4 -4,4\"/>\n",
       "<!-- b0 -->\n",
       "<g id=\"node1\" class=\"node\">\n",
       "<title>b0</title>\n",
       "<polygon fill=\"none\" stroke=\"black\" points=\"197,-123 0,-123 0,-87 197,-87 197,-123\"/>\n",
       "<text text-anchor=\"start\" x=\"69\" y=\"-106.8\" font-family=\"Times,serif\" font-size=\"14.00\">Interaction</text>\n",
       "<text text-anchor=\"start\" x=\"8\" y=\"-96\" font-family=\"monospace\" font-size=\"10.00\">length=8, angle=0.5, eps=1e-09</text>\n",
       "</g>\n",
       "<!-- b1 -->\n",
       "<g id=\"node2\" class=\"node\">\n",
       "<title>b1</title>\n",
       "<polygon fill=\"none\" stroke=\"black\" points=\"167,-36 30,-36 30,0 167,0 167,-36\"/>\n",
       "<text text-anchor=\"start\" x=\"90.5\" y=\"-19.8\" font-family=\"Times,serif\" font-size=\"14.00\">Rz</text>\n",
       "<text text-anchor=\"start\" x=\"38\" y=\"-9\" font-family=\"monospace\" font-size=\"10.00\">angle=0.5, eps=1e-09</text>\n",
       "</g>\n",
       "<!-- b0&#45;&gt;b1 -->\n",
       "<g id=\"edge1\" class=\"edge\">\n",
       "<title>b0-&gt;b1</title>\n",
       "<path fill=\"none\" stroke=\"black\" d=\"M98.5,-86.8C98.5,-75.16 98.5,-59.55 98.5,-46.24\"/>\n",
       "<polygon fill=\"black\" stroke=\"black\" points=\"102,-46.18 98.5,-36.18 95,-46.18 102,-46.18\"/>\n",
       "<text text-anchor=\"middle\" x=\"105.5\" y=\"-57.8\" font-family=\"Times,serif\" font-size=\"14.00\">64</text>\n",
       "</g>\n",
       "</g>\n",
       "</svg>"
      ],
      "text/plain": [
       "<IPython.core.display.SVG object>"
      ]
     },
     "metadata": {},
     "output_type": "display_data"
    },
    {
     "data": {
      "text/markdown": [
       "#### Counts totals:\n",
       " - `Rz(0.15915494309189535π)`: 64"
      ],
      "text/plain": [
       "<IPython.core.display.Markdown object>"
      ]
     },
     "metadata": {},
     "output_type": "display_data"
    }
   ],
   "source": [
    "from qualtran.resource_counting.generalizers import ignore_split_join\n",
    "interaction_g, interaction_sigma = interaction.call_graph(max_depth=1, generalizer=ignore_split_join)\n",
    "show_call_graph(interaction_g)\n",
    "show_counts_sigma(interaction_sigma)"
   ]
  },
  {
   "cell_type": "markdown",
   "id": "2b193a28",
   "metadata": {
    "cq.autogen": "HoppingPlaquette.bloq_doc.md"
   },
   "source": [
    "## `HoppingPlaquette`\n",
    "A bloq implementing a single plaquette unitary.\n",
    "\n",
    "The bloq implements\n",
    "$$\n",
    "    e^{i \\kappa R_\\mathrm{plaq}}\n",
    "$$\n",
    "where $\\tau R^{k\\sigma}_\\mathrm{plaq} = H_h^{x(k,\\sigma)}$, i.e. R is\n",
    "non-zero only in the subploq relevant for the particular indexed plaquette.\n",
    "\n",
    "The plaquette operator is given by\n",
    "$$\n",
    "    \\sum_{i,j} [R_{\\mathrm{plaq}}]_{i,j} a_{i\\sigma}^\\dagger a_{j\\sigma}\n",
    "$$\n",
    "where the non-zero sub-bloq of R_{\\mathrm{plaq}} is\n",
    "\n",
    "$$\n",
    "    R_{\\mathrm{plaq}} =\n",
    "    \\begin{bmatrix}\n",
    "        0 & 1 & 0 & 1 \\\\\n",
    "        1 & 0 & 1 & 0 \\\\\n",
    "        0 & 1 & 0 & 1 \\\\\n",
    "        1 & 0 & 1 & 0\n",
    "    \\end{bmatrix}\n",
    "$$\n",
    "\n",
    "#### Parameters\n",
    " - `kappa`: The scalar prefactor appearing in the definition of the unitary. Usually a combination of the timestep and the hopping parameter $\\tau$.\n",
    " - `eps`: The precision of the single qubit rotations. \n",
    "\n",
    "#### Registers\n",
    " - `qubits`: A register of four qubits this unitary should act on. \n",
    "\n",
    "#### References\n",
    " - [Early fault-tolerant simulations of the Hubbard model](https://arxiv.org/abs/2012.09238). page 13 Eq. E4 and E5 (Appendix E)\n"
   ]
  },
  {
   "cell_type": "code",
   "execution_count": 10,
   "id": "a59efbf4",
   "metadata": {
    "cq.autogen": "HoppingPlaquette.bloq_doc.py"
   },
   "outputs": [],
   "source": [
    "from qualtran.bloqs.chemistry.trotter.hubbard.hopping import HoppingPlaquette"
   ]
  },
  {
   "cell_type": "markdown",
   "id": "69c95c9f",
   "metadata": {
    "cq.autogen": "HoppingPlaquette.example_instances.md"
   },
   "source": [
    "### Example Instances"
   ]
  },
  {
   "cell_type": "code",
   "execution_count": 11,
   "id": "9a0fe775",
   "metadata": {
    "cq.autogen": "HoppingPlaquette.plaquette"
   },
   "outputs": [],
   "source": [
    "length = 8\n",
    "angle = 0.15\n",
    "plaquette = HoppingPlaquette(length, angle)"
   ]
  },
  {
   "cell_type": "markdown",
   "id": "920fcb61",
   "metadata": {
    "cq.autogen": "HoppingPlaquette.graphical_signature.md"
   },
   "source": [
    "#### Graphical Signature"
   ]
  },
  {
   "cell_type": "code",
   "execution_count": 12,
   "id": "e59cefe6",
   "metadata": {
    "cq.autogen": "HoppingPlaquette.graphical_signature.py"
   },
   "outputs": [
    {
     "data": {
      "application/vnd.jupyter.widget-view+json": {
       "model_id": "7c5c3bbae5b9440a91fc1ee62c75b306",
       "version_major": 2,
       "version_minor": 0
      },
      "text/plain": [
       "HBox(children=(Output(outputs=({'output_type': 'display_data', 'data': {'text/plain': '<IPython.core.display.M…"
      ]
     },
     "metadata": {},
     "output_type": "display_data"
    }
   ],
   "source": [
    "from qualtran.drawing import show_bloqs\n",
    "show_bloqs([plaquette],\n",
    "           ['`plaquette`'])"
   ]
  },
  {
   "cell_type": "markdown",
   "id": "c834968c",
   "metadata": {
    "cq.autogen": "HoppingPlaquette.call_graph.md"
   },
   "source": [
    "### Call Graph"
   ]
  },
  {
   "cell_type": "code",
   "execution_count": 13,
   "id": "db248fc5",
   "metadata": {
    "cq.autogen": "HoppingPlaquette.call_graph.py"
   },
   "outputs": [
    {
     "data": {
      "image/svg+xml": [
       "<svg xmlns=\"http://www.w3.org/2000/svg\" xmlns:xlink=\"http://www.w3.org/1999/xlink\" width=\"384pt\" height=\"131pt\" viewBox=\"0.00 0.00 384.00 131.00\">\n",
       "<g id=\"graph0\" class=\"graph\" transform=\"scale(1 1) rotate(0) translate(4 127)\">\n",
       "<title>counts</title>\n",
       "<polygon fill=\"white\" stroke=\"transparent\" points=\"-4,4 -4,-127 380,-127 380,4 -4,4\"/>\n",
       "<!-- b0 -->\n",
       "<g id=\"node1\" class=\"node\">\n",
       "<title>b0</title>\n",
       "<polygon fill=\"none\" stroke=\"black\" points=\"277,-123 158,-123 158,-87 277,-87 277,-123\"/>\n",
       "<text text-anchor=\"start\" x=\"168.5\" y=\"-106.8\" font-family=\"Times,serif\" font-size=\"14.00\">HoppingPlaquette</text>\n",
       "<text text-anchor=\"start\" x=\"166\" y=\"-96\" font-family=\"monospace\" font-size=\"10.00\">kappa=8, eps=0.15</text>\n",
       "</g>\n",
       "<!-- b1 -->\n",
       "<g id=\"node2\" class=\"node\">\n",
       "<title>b1</title>\n",
       "<polygon fill=\"none\" stroke=\"black\" points=\"239,-36 0,-36 0,0 239,0 239,-36\"/>\n",
       "<text text-anchor=\"start\" x=\"83\" y=\"-19.8\" font-family=\"Times,serif\" font-size=\"14.00\">TwoBitFFFT</text>\n",
       "<text text-anchor=\"start\" x=\"8\" y=\"-9\" font-family=\"monospace\" font-size=\"10.00\">k=0, n=1, eps=1e-10, is_adjoint=False</text>\n",
       "</g>\n",
       "<!-- b0&#45;&gt;b1 -->\n",
       "<g id=\"edge1\" class=\"edge\">\n",
       "<title>b0-&gt;b1</title>\n",
       "<path fill=\"none\" stroke=\"black\" d=\"M197.67,-86.8C183.06,-74.13 163,-56.73 146.87,-42.74\"/>\n",
       "<polygon fill=\"black\" stroke=\"black\" points=\"149.15,-40.08 139.3,-36.18 144.56,-45.37 149.15,-40.08\"/>\n",
       "<text text-anchor=\"middle\" x=\"178\" y=\"-57.8\" font-family=\"Times,serif\" font-size=\"14.00\">4</text>\n",
       "</g>\n",
       "<!-- b2 -->\n",
       "<g id=\"node3\" class=\"node\">\n",
       "<title>b2</title>\n",
       "<polygon fill=\"none\" stroke=\"black\" points=\"376,-36 257,-36 257,0 376,0 376,-36\"/>\n",
       "<text text-anchor=\"start\" x=\"308.5\" y=\"-19.8\" font-family=\"Times,serif\" font-size=\"14.00\">Rz</text>\n",
       "<text text-anchor=\"start\" x=\"265\" y=\"-9\" font-family=\"monospace\" font-size=\"10.00\">angle=8, eps=0.15</text>\n",
       "</g>\n",
       "<!-- b0&#45;&gt;b2 -->\n",
       "<g id=\"edge2\" class=\"edge\">\n",
       "<title>b0-&gt;b2</title>\n",
       "<path fill=\"none\" stroke=\"black\" d=\"M237.53,-86.8C252.29,-74.13 272.55,-56.73 288.85,-42.74\"/>\n",
       "<polygon fill=\"black\" stroke=\"black\" points=\"291.19,-45.35 296.5,-36.18 286.63,-40.03 291.19,-45.35\"/>\n",
       "<text text-anchor=\"middle\" x=\"277\" y=\"-57.8\" font-family=\"Times,serif\" font-size=\"14.00\">2</text>\n",
       "</g>\n",
       "</g>\n",
       "</svg>"
      ],
      "text/plain": [
       "<IPython.core.display.SVG object>"
      ]
     },
     "metadata": {},
     "output_type": "display_data"
    },
    {
     "data": {
      "text/markdown": [
       "#### Counts totals:\n",
       " - `Rz(2.5464790894703255π)`: 2\n",
       " - `TwoBitFFFT(k=0, n=1, eps=1e-10, is_adjoint=False)`: 4"
      ],
      "text/plain": [
       "<IPython.core.display.Markdown object>"
      ]
     },
     "metadata": {},
     "output_type": "display_data"
    }
   ],
   "source": [
    "from qualtran.resource_counting.generalizers import ignore_split_join\n",
    "plaquette_g, plaquette_sigma = plaquette.call_graph(max_depth=1, generalizer=ignore_split_join)\n",
    "show_call_graph(plaquette_g)\n",
    "show_counts_sigma(plaquette_sigma)"
   ]
  }
 ],
 "metadata": {
  "kernelspec": {
   "display_name": "Python 3",
   "language": "python",
   "name": "python3"
  },
  "language_info": {
   "codemirror_mode": {
    "name": "ipython",
    "version": 3
   },
   "file_extension": ".py",
   "mimetype": "text/x-python",
   "name": "python",
   "nbconvert_exporter": "python",
   "pygments_lexer": "ipython3",
   "version": "3.11.8"
  },
  "widgets": {
   "application/vnd.jupyter.widget-state+json": {
    "state": {
     "1ac494c6af7d47679b9a88b898e2a2e0": {
      "model_module": "@jupyter-widgets/output",
      "model_module_version": "1.0.0",
      "model_name": "OutputModel",
      "state": {
       "_dom_classes": [],
       "_model_module": "@jupyter-widgets/output",
       "_model_module_version": "1.0.0",
       "_model_name": "OutputModel",
       "_view_count": null,
       "_view_module": "@jupyter-widgets/output",
       "_view_module_version": "1.0.0",
       "_view_name": "OutputView",
       "layout": "IPY_MODEL_3aac6daa572d48b98f12342ab26b8e79",
       "msg_id": "",
       "outputs": [
        {
         "data": {
          "text/markdown": "`plaquette`",
          "text/plain": "<IPython.core.display.Markdown object>"
         },
         "metadata": {},
         "output_type": "display_data"
        },
        {
         "data": {
          "image/svg+xml": "<svg xmlns=\"http://www.w3.org/2000/svg\" xmlns:xlink=\"http://www.w3.org/1999/xlink\" width=\"267pt\" height=\"206pt\" viewBox=\"0.00 0.00 267.00 206.00\">\n<g id=\"graph0\" class=\"graph\" transform=\"scale(1 1) rotate(0) translate(4 202)\">\n<title>my_graph</title>\n<polygon fill=\"white\" stroke=\"transparent\" points=\"-4,4 -4,-202 263,-202 263,4 -4,4\"/>\n<!-- qubits_G2 -->\n<g id=\"node1\" class=\"node\">\n<title>qubits_G2</title>\n<text text-anchor=\"middle\" x=\"32.5\" y=\"-176.3\" font-family=\"Times,serif\" font-size=\"14.00\">qubits[0]</text>\n</g>\n<!-- HoppingPlaquette -->\n<g id=\"node5\" class=\"node\">\n<title>HoppingPlaquette</title>\n<polygon fill=\"none\" stroke=\"black\" points=\"102.5,-141 102.5,-158 157.5,-158 157.5,-141 102.5,-141\"/>\n<text text-anchor=\"start\" x=\"106.5\" y=\"-147\" font-family=\"Times,serif\" font-size=\"10.00\">HoppingP..</text>\n<polygon fill=\"none\" stroke=\"black\" points=\"102.5,-120 102.5,-141 157.5,-141 157.5,-120 102.5,-120\"/>\n<text text-anchor=\"start\" x=\"105.5\" y=\"-126.8\" font-family=\"Times,serif\" font-size=\"14.00\">qubits[0]</text>\n<polygon fill=\"none\" stroke=\"black\" points=\"102.5,-99 102.5,-120 157.5,-120 157.5,-99 102.5,-99\"/>\n<text text-anchor=\"start\" x=\"105.5\" y=\"-105.8\" font-family=\"Times,serif\" font-size=\"14.00\">qubits[1]</text>\n<polygon fill=\"none\" stroke=\"black\" points=\"102.5,-78 102.5,-99 157.5,-99 157.5,-78 102.5,-78\"/>\n<text text-anchor=\"start\" x=\"105.5\" y=\"-84.8\" font-family=\"Times,serif\" font-size=\"14.00\">qubits[2]</text>\n<polygon fill=\"none\" stroke=\"black\" points=\"102.5,-57 102.5,-78 157.5,-78 157.5,-57 102.5,-57\"/>\n<text text-anchor=\"start\" x=\"105.5\" y=\"-63.8\" font-family=\"Times,serif\" font-size=\"14.00\">qubits[3]</text>\n</g>\n<!-- qubits_G2&#45;&gt;HoppingPlaquette -->\n<g id=\"edge1\" class=\"edge\">\n<title>qubits_G2:e-&gt;HoppingPlaquette:w</title>\n<path fill=\"none\" stroke=\"black\" d=\"M65,-180C91.54,-180 75.64,-133.64 99.86,-131.11\"/>\n<ellipse fill=\"black\" stroke=\"black\" cx=\"101\" cy=\"-131.05\" rx=\"1\" ry=\"1\"/>\n<text text-anchor=\"middle\" x=\"83.5\" y=\"-159\" font-family=\"Times,serif\" font-size=\"10.00\">1</text>\n</g>\n<!-- qubits_G10 -->\n<g id=\"node2\" class=\"node\">\n<title>qubits_G10</title>\n<text text-anchor=\"middle\" x=\"32.5\" y=\"-122.3\" font-family=\"Times,serif\" font-size=\"14.00\">qubits[1]</text>\n</g>\n<!-- qubits_G10&#45;&gt;HoppingPlaquette -->\n<g id=\"edge2\" class=\"edge\">\n<title>qubits_G10:e-&gt;HoppingPlaquette:w</title>\n<path fill=\"none\" stroke=\"black\" d=\"M65,-126C82.22,-126 83.97,-111.23 99.98,-110.07\"/>\n<ellipse fill=\"black\" stroke=\"black\" cx=\"101\" cy=\"-110.04\" rx=\"1\" ry=\"1\"/>\n<text text-anchor=\"middle\" x=\"83.5\" y=\"-121\" font-family=\"Times,serif\" font-size=\"10.00\">1</text>\n</g>\n<!-- qubits_G4 -->\n<g id=\"node3\" class=\"node\">\n<title>qubits_G4</title>\n<text text-anchor=\"middle\" x=\"32.5\" y=\"-68.3\" font-family=\"Times,serif\" font-size=\"14.00\">qubits[2]</text>\n</g>\n<!-- qubits_G4&#45;&gt;HoppingPlaquette -->\n<g id=\"edge3\" class=\"edge\">\n<title>qubits_G4:e-&gt;HoppingPlaquette:w</title>\n<path fill=\"none\" stroke=\"black\" d=\"M65,-72C82.22,-72 83.97,-86.77 99.98,-87.93\"/>\n<ellipse fill=\"black\" stroke=\"black\" cx=\"101\" cy=\"-87.96\" rx=\"1\" ry=\"1\"/>\n<text text-anchor=\"middle\" x=\"83.5\" y=\"-83\" font-family=\"Times,serif\" font-size=\"10.00\">1</text>\n</g>\n<!-- qubits_G0 -->\n<g id=\"node4\" class=\"node\">\n<title>qubits_G0</title>\n<text text-anchor=\"middle\" x=\"32.5\" y=\"-14.3\" font-family=\"Times,serif\" font-size=\"14.00\">qubits[3]</text>\n</g>\n<!-- qubits_G0&#45;&gt;HoppingPlaquette -->\n<g id=\"edge4\" class=\"edge\">\n<title>qubits_G0:e-&gt;HoppingPlaquette:w</title>\n<path fill=\"none\" stroke=\"black\" d=\"M65,-18C91.54,-18 75.64,-64.36 99.86,-66.89\"/>\n<ellipse fill=\"black\" stroke=\"black\" cx=\"101\" cy=\"-66.95\" rx=\"1\" ry=\"1\"/>\n<text text-anchor=\"middle\" x=\"83.5\" y=\"-47\" font-family=\"Times,serif\" font-size=\"10.00\">1</text>\n</g>\n<!-- qubits_G1 -->\n<g id=\"node6\" class=\"node\">\n<title>qubits_G1</title>\n<text text-anchor=\"middle\" x=\"226.5\" y=\"-176.3\" font-family=\"Times,serif\" font-size=\"14.00\">qubits[0]</text>\n</g>\n<!-- HoppingPlaquette&#45;&gt;qubits_G1 -->\n<g id=\"edge5\" class=\"edge\">\n<title>HoppingPlaquette:e-&gt;qubits_G1:w</title>\n<path fill=\"none\" stroke=\"black\" d=\"M157,-131C183.54,-131 167.64,-177.36 191.86,-179.89\"/>\n<ellipse fill=\"black\" stroke=\"black\" cx=\"193\" cy=\"-179.95\" rx=\"1\" ry=\"1\"/>\n<text text-anchor=\"middle\" x=\"175.5\" y=\"-159\" font-family=\"Times,serif\" font-size=\"10.00\">1</text>\n</g>\n<!-- qubits_G9 -->\n<g id=\"node7\" class=\"node\">\n<title>qubits_G9</title>\n<text text-anchor=\"middle\" x=\"226.5\" y=\"-122.3\" font-family=\"Times,serif\" font-size=\"14.00\">qubits[1]</text>\n</g>\n<!-- HoppingPlaquette&#45;&gt;qubits_G9 -->\n<g id=\"edge6\" class=\"edge\">\n<title>HoppingPlaquette:e-&gt;qubits_G9:w</title>\n<path fill=\"none\" stroke=\"black\" d=\"M157,-110C174.22,-110 175.97,-124.77 191.98,-125.93\"/>\n<ellipse fill=\"black\" stroke=\"black\" cx=\"193\" cy=\"-125.96\" rx=\"1\" ry=\"1\"/>\n<text text-anchor=\"middle\" x=\"175.5\" y=\"-121\" font-family=\"Times,serif\" font-size=\"10.00\">1</text>\n</g>\n<!-- qubits_G3 -->\n<g id=\"node8\" class=\"node\">\n<title>qubits_G3</title>\n<text text-anchor=\"middle\" x=\"226.5\" y=\"-68.3\" font-family=\"Times,serif\" font-size=\"14.00\">qubits[2]</text>\n</g>\n<!-- HoppingPlaquette&#45;&gt;qubits_G3 -->\n<g id=\"edge7\" class=\"edge\">\n<title>HoppingPlaquette:e-&gt;qubits_G3:w</title>\n<path fill=\"none\" stroke=\"black\" d=\"M157,-88C174.22,-88 175.97,-73.23 191.98,-72.07\"/>\n<ellipse fill=\"black\" stroke=\"black\" cx=\"193\" cy=\"-72.04\" rx=\"1\" ry=\"1\"/>\n<text text-anchor=\"middle\" x=\"175.5\" y=\"-83\" font-family=\"Times,serif\" font-size=\"10.00\">1</text>\n</g>\n<!-- qubits_G11 -->\n<g id=\"node9\" class=\"node\">\n<title>qubits_G11</title>\n<text text-anchor=\"middle\" x=\"226.5\" y=\"-14.3\" font-family=\"Times,serif\" font-size=\"14.00\">qubits[3]</text>\n</g>\n<!-- HoppingPlaquette&#45;&gt;qubits_G11 -->\n<g id=\"edge8\" class=\"edge\">\n<title>HoppingPlaquette:e-&gt;qubits_G11:w</title>\n<path fill=\"none\" stroke=\"black\" d=\"M157,-67C183.54,-67 167.64,-20.64 191.86,-18.11\"/>\n<ellipse fill=\"black\" stroke=\"black\" cx=\"193\" cy=\"-18.05\" rx=\"1\" ry=\"1\"/>\n<text text-anchor=\"middle\" x=\"175.5\" y=\"-47\" font-family=\"Times,serif\" font-size=\"10.00\">1</text>\n</g>\n</g>\n</svg>",
          "text/plain": "<IPython.core.display.SVG object>"
         },
         "metadata": {},
         "output_type": "display_data"
        }
       ],
       "tabbable": null,
       "tooltip": null
      }
     },
     "3aac6daa572d48b98f12342ab26b8e79": {
      "model_module": "@jupyter-widgets/base",
      "model_module_version": "2.0.0",
      "model_name": "LayoutModel",
      "state": {
       "_model_module": "@jupyter-widgets/base",
       "_model_module_version": "2.0.0",
       "_model_name": "LayoutModel",
       "_view_count": null,
       "_view_module": "@jupyter-widgets/base",
       "_view_module_version": "2.0.0",
       "_view_name": "LayoutView",
       "align_content": null,
       "align_items": null,
       "align_self": null,
       "border_bottom": null,
       "border_left": null,
       "border_right": null,
       "border_top": null,
       "bottom": null,
       "display": null,
       "flex": null,
       "flex_flow": null,
       "grid_area": null,
       "grid_auto_columns": null,
       "grid_auto_flow": null,
       "grid_auto_rows": null,
       "grid_column": null,
       "grid_gap": null,
       "grid_row": null,
       "grid_template_areas": null,
       "grid_template_columns": null,
       "grid_template_rows": null,
       "height": null,
       "justify_content": null,
       "justify_items": null,
       "left": null,
       "margin": null,
       "max_height": null,
       "max_width": null,
       "min_height": null,
       "min_width": null,
       "object_fit": null,
       "object_position": null,
       "order": null,
       "overflow": null,
       "padding": null,
       "right": null,
       "top": null,
       "visibility": null,
       "width": null
      }
     },
     "5cb1fce6f2474007a6b027f4a1c71acd": {
      "model_module": "@jupyter-widgets/output",
      "model_module_version": "1.0.0",
      "model_name": "OutputModel",
      "state": {
       "_dom_classes": [],
       "_model_module": "@jupyter-widgets/output",
       "_model_module_version": "1.0.0",
       "_model_name": "OutputModel",
       "_view_count": null,
       "_view_module": "@jupyter-widgets/output",
       "_view_module_version": "1.0.0",
       "_view_name": "OutputView",
       "layout": "IPY_MODEL_821f9bde75eb4569bfb7b82588bc6513",
       "msg_id": "",
       "outputs": [
        {
         "data": {
          "text/markdown": "`interaction`",
          "text/plain": "<IPython.core.display.Markdown object>"
         },
         "metadata": {},
         "output_type": "display_data"
        },
        {
         "data": {
          "image/svg+xml": "<svg xmlns=\"http://www.w3.org/2000/svg\" xmlns:xlink=\"http://www.w3.org/1999/xlink\" width=\"285pt\" height=\"98pt\" viewBox=\"0.00 0.00 285.00 98.00\">\n<g id=\"graph0\" class=\"graph\" transform=\"scale(1 1) rotate(0) translate(4 94)\">\n<title>my_graph</title>\n<polygon fill=\"white\" stroke=\"transparent\" points=\"-4,4 -4,-94 281,-94 281,4 -4,4\"/>\n<!-- system_G5 -->\n<g id=\"node1\" class=\"node\">\n<title>system_G5</title>\n<text text-anchor=\"middle\" x=\"35.5\" y=\"-68.3\" font-family=\"Times,serif\" font-size=\"14.00\">system[0]</text>\n</g>\n<!-- Interaction -->\n<g id=\"node3\" class=\"node\">\n<title>Interaction</title>\n<polygon fill=\"none\" stroke=\"black\" points=\"108.5,-66 108.5,-83 169.5,-83 169.5,-66 108.5,-66\"/>\n<text text-anchor=\"start\" x=\"121\" y=\"-72\" font-family=\"Times,serif\" font-size=\"10.00\">Interact..</text>\n<polygon fill=\"none\" stroke=\"black\" points=\"108.5,-45 108.5,-66 169.5,-66 169.5,-45 108.5,-45\"/>\n<text text-anchor=\"start\" x=\"111.5\" y=\"-51.8\" font-family=\"Times,serif\" font-size=\"14.00\">system[0]</text>\n<polygon fill=\"none\" stroke=\"black\" points=\"108.5,-24 108.5,-45 169.5,-45 169.5,-24 108.5,-24\"/>\n<text text-anchor=\"start\" x=\"111.5\" y=\"-30.8\" font-family=\"Times,serif\" font-size=\"14.00\">system[1]</text>\n</g>\n<!-- system_G5&#45;&gt;Interaction -->\n<g id=\"edge1\" class=\"edge\">\n<title>system_G5:e-&gt;Interaction:w</title>\n<path fill=\"none\" stroke=\"black\" d=\"M71,-72C88.22,-72 89.97,-57.23 105.98,-56.07\"/>\n<ellipse fill=\"black\" stroke=\"black\" cx=\"107\" cy=\"-56.04\" rx=\"1\" ry=\"1\"/>\n<text text-anchor=\"middle\" x=\"89.5\" y=\"-67\" font-family=\"Times,serif\" font-size=\"10.00\">8</text>\n</g>\n<!-- system_G2 -->\n<g id=\"node2\" class=\"node\">\n<title>system_G2</title>\n<text text-anchor=\"middle\" x=\"35.5\" y=\"-14.3\" font-family=\"Times,serif\" font-size=\"14.00\">system[1]</text>\n</g>\n<!-- system_G2&#45;&gt;Interaction -->\n<g id=\"edge2\" class=\"edge\">\n<title>system_G2:e-&gt;Interaction:w</title>\n<path fill=\"none\" stroke=\"black\" d=\"M71,-18C88.22,-18 89.97,-32.77 105.98,-33.93\"/>\n<ellipse fill=\"black\" stroke=\"black\" cx=\"107\" cy=\"-33.96\" rx=\"1\" ry=\"1\"/>\n<text text-anchor=\"middle\" x=\"89.5\" y=\"-29\" font-family=\"Times,serif\" font-size=\"10.00\">8</text>\n</g>\n<!-- system_G4 -->\n<g id=\"node4\" class=\"node\">\n<title>system_G4</title>\n<text text-anchor=\"middle\" x=\"241.5\" y=\"-68.3\" font-family=\"Times,serif\" font-size=\"14.00\">system[0]</text>\n</g>\n<!-- Interaction&#45;&gt;system_G4 -->\n<g id=\"edge3\" class=\"edge\">\n<title>Interaction:e-&gt;system_G4:w</title>\n<path fill=\"none\" stroke=\"black\" d=\"M169,-56C186.22,-56 187.97,-70.77 203.98,-71.93\"/>\n<ellipse fill=\"black\" stroke=\"black\" cx=\"205\" cy=\"-71.96\" rx=\"1\" ry=\"1\"/>\n<text text-anchor=\"middle\" x=\"187.5\" y=\"-67\" font-family=\"Times,serif\" font-size=\"10.00\">8</text>\n</g>\n<!-- system_G1 -->\n<g id=\"node5\" class=\"node\">\n<title>system_G1</title>\n<text text-anchor=\"middle\" x=\"241.5\" y=\"-14.3\" font-family=\"Times,serif\" font-size=\"14.00\">system[1]</text>\n</g>\n<!-- Interaction&#45;&gt;system_G1 -->\n<g id=\"edge4\" class=\"edge\">\n<title>Interaction:e-&gt;system_G1:w</title>\n<path fill=\"none\" stroke=\"black\" d=\"M169,-34C186.22,-34 187.97,-19.23 203.98,-18.07\"/>\n<ellipse fill=\"black\" stroke=\"black\" cx=\"205\" cy=\"-18.04\" rx=\"1\" ry=\"1\"/>\n<text text-anchor=\"middle\" x=\"187.5\" y=\"-29\" font-family=\"Times,serif\" font-size=\"10.00\">8</text>\n</g>\n</g>\n</svg>",
          "text/plain": "<IPython.core.display.SVG object>"
         },
         "metadata": {},
         "output_type": "display_data"
        }
       ],
       "tabbable": null,
       "tooltip": null
      }
     },
     "7b05a9e7dd294324be07f05d0437005b": {
      "model_module": "@jupyter-widgets/base",
      "model_module_version": "2.0.0",
      "model_name": "LayoutModel",
      "state": {
       "_model_module": "@jupyter-widgets/base",
       "_model_module_version": "2.0.0",
       "_model_name": "LayoutModel",
       "_view_count": null,
       "_view_module": "@jupyter-widgets/base",
       "_view_module_version": "2.0.0",
       "_view_name": "LayoutView",
       "align_content": null,
       "align_items": null,
       "align_self": null,
       "border_bottom": null,
       "border_left": null,
       "border_right": null,
       "border_top": null,
       "bottom": null,
       "display": null,
       "flex": null,
       "flex_flow": null,
       "grid_area": null,
       "grid_auto_columns": null,
       "grid_auto_flow": null,
       "grid_auto_rows": null,
       "grid_column": null,
       "grid_gap": null,
       "grid_row": null,
       "grid_template_areas": null,
       "grid_template_columns": null,
       "grid_template_rows": null,
       "height": null,
       "justify_content": null,
       "justify_items": null,
       "left": null,
       "margin": null,
       "max_height": null,
       "max_width": null,
       "min_height": null,
       "min_width": null,
       "object_fit": null,
       "object_position": null,
       "order": null,
       "overflow": null,
       "padding": null,
       "right": null,
       "top": null,
       "visibility": null,
       "width": null
      }
     },
     "7c5c3bbae5b9440a91fc1ee62c75b306": {
      "model_module": "@jupyter-widgets/controls",
      "model_module_version": "2.0.0",
      "model_name": "HBoxModel",
      "state": {
       "_dom_classes": [],
       "_model_module": "@jupyter-widgets/controls",
       "_model_module_version": "2.0.0",
       "_model_name": "HBoxModel",
       "_view_count": null,
       "_view_module": "@jupyter-widgets/controls",
       "_view_module_version": "2.0.0",
       "_view_name": "HBoxView",
       "box_style": "",
       "children": [
        "IPY_MODEL_1ac494c6af7d47679b9a88b898e2a2e0"
       ],
       "layout": "IPY_MODEL_7b05a9e7dd294324be07f05d0437005b",
       "tabbable": null,
       "tooltip": null
      }
     },
     "821f9bde75eb4569bfb7b82588bc6513": {
      "model_module": "@jupyter-widgets/base",
      "model_module_version": "2.0.0",
      "model_name": "LayoutModel",
      "state": {
       "_model_module": "@jupyter-widgets/base",
       "_model_module_version": "2.0.0",
       "_model_name": "LayoutModel",
       "_view_count": null,
       "_view_module": "@jupyter-widgets/base",
       "_view_module_version": "2.0.0",
       "_view_name": "LayoutView",
       "align_content": null,
       "align_items": null,
       "align_self": null,
       "border_bottom": null,
       "border_left": null,
       "border_right": null,
       "border_top": null,
       "bottom": null,
       "display": null,
       "flex": null,
       "flex_flow": null,
       "grid_area": null,
       "grid_auto_columns": null,
       "grid_auto_flow": null,
       "grid_auto_rows": null,
       "grid_column": null,
       "grid_gap": null,
       "grid_row": null,
       "grid_template_areas": null,
       "grid_template_columns": null,
       "grid_template_rows": null,
       "height": null,
       "justify_content": null,
       "justify_items": null,
       "left": null,
       "margin": null,
       "max_height": null,
       "max_width": null,
       "min_height": null,
       "min_width": null,
       "object_fit": null,
       "object_position": null,
       "order": null,
       "overflow": null,
       "padding": null,
       "right": null,
       "top": null,
       "visibility": null,
       "width": null
      }
     },
     "8fa93f70b374459e99cfbd03cf6e3353": {
      "model_module": "@jupyter-widgets/base",
      "model_module_version": "2.0.0",
      "model_name": "LayoutModel",
      "state": {
       "_model_module": "@jupyter-widgets/base",
       "_model_module_version": "2.0.0",
       "_model_name": "LayoutModel",
       "_view_count": null,
       "_view_module": "@jupyter-widgets/base",
       "_view_module_version": "2.0.0",
       "_view_name": "LayoutView",
       "align_content": null,
       "align_items": null,
       "align_self": null,
       "border_bottom": null,
       "border_left": null,
       "border_right": null,
       "border_top": null,
       "bottom": null,
       "display": null,
       "flex": null,
       "flex_flow": null,
       "grid_area": null,
       "grid_auto_columns": null,
       "grid_auto_flow": null,
       "grid_auto_rows": null,
       "grid_column": null,
       "grid_gap": null,
       "grid_row": null,
       "grid_template_areas": null,
       "grid_template_columns": null,
       "grid_template_rows": null,
       "height": null,
       "justify_content": null,
       "justify_items": null,
       "left": null,
       "margin": null,
       "max_height": null,
       "max_width": null,
       "min_height": null,
       "min_width": null,
       "object_fit": null,
       "object_position": null,
       "order": null,
       "overflow": null,
       "padding": null,
       "right": null,
       "top": null,
       "visibility": null,
       "width": null
      }
     },
     "9c64690543ae43dfa8bfe19a0ebb1f38": {
      "model_module": "@jupyter-widgets/base",
      "model_module_version": "2.0.0",
      "model_name": "LayoutModel",
      "state": {
       "_model_module": "@jupyter-widgets/base",
       "_model_module_version": "2.0.0",
       "_model_name": "LayoutModel",
       "_view_count": null,
       "_view_module": "@jupyter-widgets/base",
       "_view_module_version": "2.0.0",
       "_view_name": "LayoutView",
       "align_content": null,
       "align_items": null,
       "align_self": null,
       "border_bottom": null,
       "border_left": null,
       "border_right": null,
       "border_top": null,
       "bottom": null,
       "display": null,
       "flex": null,
       "flex_flow": null,
       "grid_area": null,
       "grid_auto_columns": null,
       "grid_auto_flow": null,
       "grid_auto_rows": null,
       "grid_column": null,
       "grid_gap": null,
       "grid_row": null,
       "grid_template_areas": null,
       "grid_template_columns": null,
       "grid_template_rows": null,
       "height": null,
       "justify_content": null,
       "justify_items": null,
       "left": null,
       "margin": null,
       "max_height": null,
       "max_width": null,
       "min_height": null,
       "min_width": null,
       "object_fit": null,
       "object_position": null,
       "order": null,
       "overflow": null,
       "padding": null,
       "right": null,
       "top": null,
       "visibility": null,
       "width": null
      }
     },
     "b23201ba7e8c4d1cb8129182f971afb7": {
      "model_module": "@jupyter-widgets/base",
      "model_module_version": "2.0.0",
      "model_name": "LayoutModel",
      "state": {
       "_model_module": "@jupyter-widgets/base",
       "_model_module_version": "2.0.0",
       "_model_name": "LayoutModel",
       "_view_count": null,
       "_view_module": "@jupyter-widgets/base",
       "_view_module_version": "2.0.0",
       "_view_name": "LayoutView",
       "align_content": null,
       "align_items": null,
       "align_self": null,
       "border_bottom": null,
       "border_left": null,
       "border_right": null,
       "border_top": null,
       "bottom": null,
       "display": null,
       "flex": null,
       "flex_flow": null,
       "grid_area": null,
       "grid_auto_columns": null,
       "grid_auto_flow": null,
       "grid_auto_rows": null,
       "grid_column": null,
       "grid_gap": null,
       "grid_row": null,
       "grid_template_areas": null,
       "grid_template_columns": null,
       "grid_template_rows": null,
       "height": null,
       "justify_content": null,
       "justify_items": null,
       "left": null,
       "margin": null,
       "max_height": null,
       "max_width": null,
       "min_height": null,
       "min_width": null,
       "object_fit": null,
       "object_position": null,
       "order": null,
       "overflow": null,
       "padding": null,
       "right": null,
       "top": null,
       "visibility": null,
       "width": null
      }
     },
     "bc751eaf16d44300bc766bec0dcf0c81": {
      "model_module": "@jupyter-widgets/controls",
      "model_module_version": "2.0.0",
      "model_name": "HBoxModel",
      "state": {
       "_dom_classes": [],
       "_model_module": "@jupyter-widgets/controls",
       "_model_module_version": "2.0.0",
       "_model_name": "HBoxModel",
       "_view_count": null,
       "_view_module": "@jupyter-widgets/controls",
       "_view_module_version": "2.0.0",
       "_view_name": "HBoxView",
       "box_style": "",
       "children": [
        "IPY_MODEL_5cb1fce6f2474007a6b027f4a1c71acd"
       ],
       "layout": "IPY_MODEL_b23201ba7e8c4d1cb8129182f971afb7",
       "tabbable": null,
       "tooltip": null
      }
     },
     "d081858bc70f4b078c30855e63782227": {
      "model_module": "@jupyter-widgets/controls",
      "model_module_version": "2.0.0",
      "model_name": "HBoxModel",
      "state": {
       "_dom_classes": [],
       "_model_module": "@jupyter-widgets/controls",
       "_model_module_version": "2.0.0",
       "_model_name": "HBoxModel",
       "_view_count": null,
       "_view_module": "@jupyter-widgets/controls",
       "_view_module_version": "2.0.0",
       "_view_name": "HBoxView",
       "box_style": "",
       "children": [
        "IPY_MODEL_e3e96c4ed8404f518d11197a8f5f2018"
       ],
       "layout": "IPY_MODEL_9c64690543ae43dfa8bfe19a0ebb1f38",
       "tabbable": null,
       "tooltip": null
      }
     },
     "e3e96c4ed8404f518d11197a8f5f2018": {
      "model_module": "@jupyter-widgets/output",
      "model_module_version": "1.0.0",
      "model_name": "OutputModel",
      "state": {
       "_dom_classes": [],
       "_model_module": "@jupyter-widgets/output",
       "_model_module_version": "1.0.0",
       "_model_name": "OutputModel",
       "_view_count": null,
       "_view_module": "@jupyter-widgets/output",
       "_view_module_version": "1.0.0",
       "_view_name": "OutputView",
       "layout": "IPY_MODEL_8fa93f70b374459e99cfbd03cf6e3353",
       "msg_id": "",
       "outputs": [
        {
         "data": {
          "text/markdown": "`hopping_tile`",
          "text/plain": "<IPython.core.display.Markdown object>"
         },
         "metadata": {},
         "output_type": "display_data"
        },
        {
         "data": {
          "image/svg+xml": "<svg xmlns=\"http://www.w3.org/2000/svg\" xmlns:xlink=\"http://www.w3.org/1999/xlink\" width=\"285pt\" height=\"98pt\" viewBox=\"0.00 0.00 285.00 98.00\">\n<g id=\"graph0\" class=\"graph\" transform=\"scale(1 1) rotate(0) translate(4 94)\">\n<title>my_graph</title>\n<polygon fill=\"white\" stroke=\"transparent\" points=\"-4,4 -4,-94 281,-94 281,4 -4,4\"/>\n<!-- system_G5 -->\n<g id=\"node1\" class=\"node\">\n<title>system_G5</title>\n<text text-anchor=\"middle\" x=\"35.5\" y=\"-68.3\" font-family=\"Times,serif\" font-size=\"14.00\">system[0]</text>\n</g>\n<!-- HoppingTile -->\n<g id=\"node3\" class=\"node\">\n<title>HoppingTile</title>\n<polygon fill=\"none\" stroke=\"black\" points=\"108.5,-66 108.5,-83 169.5,-83 169.5,-66 108.5,-66\"/>\n<text text-anchor=\"start\" x=\"125\" y=\"-72\" font-family=\"Times,serif\" font-size=\"10.00\">H_h^p</text>\n<polygon fill=\"none\" stroke=\"black\" points=\"108.5,-45 108.5,-66 169.5,-66 169.5,-45 108.5,-45\"/>\n<text text-anchor=\"start\" x=\"111.5\" y=\"-51.8\" font-family=\"Times,serif\" font-size=\"14.00\">system[0]</text>\n<polygon fill=\"none\" stroke=\"black\" points=\"108.5,-24 108.5,-45 169.5,-45 169.5,-24 108.5,-24\"/>\n<text text-anchor=\"start\" x=\"111.5\" y=\"-30.8\" font-family=\"Times,serif\" font-size=\"14.00\">system[1]</text>\n</g>\n<!-- system_G5&#45;&gt;HoppingTile -->\n<g id=\"edge1\" class=\"edge\">\n<title>system_G5:e-&gt;HoppingTile:w</title>\n<path fill=\"none\" stroke=\"black\" d=\"M71,-72C88.22,-72 89.97,-57.23 105.98,-56.07\"/>\n<ellipse fill=\"black\" stroke=\"black\" cx=\"107\" cy=\"-56.04\" rx=\"1\" ry=\"1\"/>\n<text text-anchor=\"middle\" x=\"89.5\" y=\"-67\" font-family=\"Times,serif\" font-size=\"10.00\">8</text>\n</g>\n<!-- system_G2 -->\n<g id=\"node2\" class=\"node\">\n<title>system_G2</title>\n<text text-anchor=\"middle\" x=\"35.5\" y=\"-14.3\" font-family=\"Times,serif\" font-size=\"14.00\">system[1]</text>\n</g>\n<!-- system_G2&#45;&gt;HoppingTile -->\n<g id=\"edge2\" class=\"edge\">\n<title>system_G2:e-&gt;HoppingTile:w</title>\n<path fill=\"none\" stroke=\"black\" d=\"M71,-18C88.22,-18 89.97,-32.77 105.98,-33.93\"/>\n<ellipse fill=\"black\" stroke=\"black\" cx=\"107\" cy=\"-33.96\" rx=\"1\" ry=\"1\"/>\n<text text-anchor=\"middle\" x=\"89.5\" y=\"-29\" font-family=\"Times,serif\" font-size=\"10.00\">8</text>\n</g>\n<!-- system_G3 -->\n<g id=\"node4\" class=\"node\">\n<title>system_G3</title>\n<text text-anchor=\"middle\" x=\"241.5\" y=\"-68.3\" font-family=\"Times,serif\" font-size=\"14.00\">system[0]</text>\n</g>\n<!-- HoppingTile&#45;&gt;system_G3 -->\n<g id=\"edge3\" class=\"edge\">\n<title>HoppingTile:e-&gt;system_G3:w</title>\n<path fill=\"none\" stroke=\"black\" d=\"M169,-56C186.22,-56 187.97,-70.77 203.98,-71.93\"/>\n<ellipse fill=\"black\" stroke=\"black\" cx=\"205\" cy=\"-71.96\" rx=\"1\" ry=\"1\"/>\n<text text-anchor=\"middle\" x=\"187.5\" y=\"-67\" font-family=\"Times,serif\" font-size=\"10.00\">8</text>\n</g>\n<!-- system_G0 -->\n<g id=\"node5\" class=\"node\">\n<title>system_G0</title>\n<text text-anchor=\"middle\" x=\"241.5\" y=\"-14.3\" font-family=\"Times,serif\" font-size=\"14.00\">system[1]</text>\n</g>\n<!-- HoppingTile&#45;&gt;system_G0 -->\n<g id=\"edge4\" class=\"edge\">\n<title>HoppingTile:e-&gt;system_G0:w</title>\n<path fill=\"none\" stroke=\"black\" d=\"M169,-34C186.22,-34 187.97,-19.23 203.98,-18.07\"/>\n<ellipse fill=\"black\" stroke=\"black\" cx=\"205\" cy=\"-18.04\" rx=\"1\" ry=\"1\"/>\n<text text-anchor=\"middle\" x=\"187.5\" y=\"-29\" font-family=\"Times,serif\" font-size=\"10.00\">8</text>\n</g>\n</g>\n</svg>",
          "text/plain": "<IPython.core.display.SVG object>"
         },
         "metadata": {},
         "output_type": "display_data"
        }
       ],
       "tabbable": null,
       "tooltip": null
      }
     }
    },
    "version_major": 2,
    "version_minor": 0
   }
  }
 },
 "nbformat": 4,
 "nbformat_minor": 5
}
