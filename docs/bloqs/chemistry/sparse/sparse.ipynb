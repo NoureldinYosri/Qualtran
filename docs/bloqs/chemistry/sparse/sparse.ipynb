{
 "cells": [
  {
   "cell_type": "markdown",
   "id": "6ce87bae",
   "metadata": {
    "cq.autogen": "title_cell"
   },
   "source": [
    "# Sparse\n",
    "\n",
    "SELECT and PREPARE for the second quantized sparse chemistry Hamiltonian.\n",
    "\n",
    "Starting from the traditional second quantized chemistry Hamiltonian\n",
    "$$\n",
    "H = \\sum_\\sigma \\sum_{pq} T_{pq} a_{p\\sigma}^\\dagger a_{q\\sigma}\n",
    "+\n",
    "\\frac{1}{2}\\sum_{\\alpha\\beta}\n",
    "\\sum_{pqrs}\n",
    "V_{pqrs} a_{p\\sigma}^\\dagger a_{r\\beta}^\\dagger a_{s\\beta} a_{q\\alpha},\n",
    "$$\n",
    "where $a_{p\\sigma}$ ($a_{q\\sigma}^\\dagger$) annihilate (create) an electron in the\n",
    "$p$-th orbital of spin $\\sigma$.\n",
    "We can rewrite this expression using the Jordan-Wigner transformation as\n",
    "$$\n",
    "H = T' + V',\n",
    "$$\n",
    "where\n",
    "$$\n",
    "T' = \\frac{1}{2} \\sum_\\sigma \\sum_{pq} T_{pq}'Q_{pq\\sigma},\n",
    "$$\n",
    "$$\n",
    "V' = \\sum_{\\alpha\\beta}\\sum_{pqrs}V_{pqrs}Q_{pq\\alpha}Q_{rs\\beta},\n",
    "$$\n",
    "and $V = (pq|rs)$ are the usual two-electron integrals in chemist's notation,\n",
    "$$\n",
    "T'_{pq} = T_{pq} - \\sum_r V_{pqrr},\n",
    "$$\n",
    "and\n",
    "$$\n",
    "Q_{pq\\sigma} =\n",
    "\\begin{cases}\n",
    "X_{p\\sigma}\\vec{Z}X_{q\\sigma} & p < q \\\\\n",
    "Y_{p\\sigma}\\vec{Z}Y_{q\\sigma} & p > q \\\\\n",
    "-Z_{p\\sigma} & p = q\n",
    "\\end{cases}.\n",
    "$$\n",
    "The sparse Hamiltonian simply sets to zero any term in the Hamiltonian where\n",
    "$|V_{pqrs}|$ is less than some threshold. This reduces the\n",
    "amount of data that is required to be loaded during state preparation as only\n",
    "non-zero symmetry inequivalent terms are required (the two electron integrals\n",
    "exhibit 8-fold permutational symmetry). Symmetries are restored by initially\n",
    "appropriately weighting these non-zero terms and then using $|+\\rangle$ states\n",
    "to perform control swaps between the $pqrs$ registers."
   ]
  },
  {
   "cell_type": "code",
   "execution_count": 1,
   "id": "d176a9ce",
   "metadata": {
    "cq.autogen": "top_imports"
   },
   "outputs": [],
   "source": [
    "from qualtran import Bloq, CompositeBloq, BloqBuilder, Signature, Register\n",
    "from qualtran import QBit, QInt, QUInt, QAny\n",
    "from qualtran.drawing import show_bloq, show_call_graph, show_counts_sigma\n",
    "from typing import *\n",
    "import numpy as np\n",
    "import sympy\n",
    "import cirq"
   ]
  },
  {
   "cell_type": "markdown",
   "id": "aede18a0",
   "metadata": {
    "cq.autogen": "PrepareSparse.bloq_doc.md"
   },
   "source": [
    "## `PrepareSparse`\n",
    "Prepare oracle for the sparse chemistry Hamiltonian\n",
    "\n",
    "Prepare the state:\n",
    "\n",
    "$$\n",
    "    |0\\rangle|+\\rangle|0\\rangle|0\\rangle\n",
    "    \\sum_{\\sigma}\\sum_{pq}\n",
    "    \\sqrt{\\frac{T_{pq}'}{2\\lambda}}\n",
    "    |\\theta_{pq}^T\\rangle|pq\\sigma\\rangle|000\\rangle\n",
    "    +|1\\rangle|+\\rangle|+\\rangle|+\\rangle\n",
    "    \\sum_{\\alpha\\beta}\n",
    "    \\sum_{pqrs}\n",
    "    \\sqrt{\\frac{\\tilde{V}_{pqrs}'}{2\\lambda}}\n",
    "    |\\theta_{pqrs}^V\\rangle|pq\\alpha\\rangle|rs\\beta\\rangle\n",
    "$$\n",
    "\n",
    "#### Parameters\n",
    " - `num_spin_orb`: The number of spin orbitals.\n",
    " - `num_non_zero`: The number of non-zero matrix elements.\n",
    " - `num_bits_state_prep`: the number of bits of precision for state preparation. This will control the size of the keep register.\n",
    " - `num_bits_rot_aa`: The number of bits of precision for the single-qubit rotation for amplitude amplification during the uniform state preparation. Default 8.\n",
    " - `is_adjoint`: Whether we are apply PREPARE or PREPARE^dag\n",
    " - `qroam_block_size`: qroam blocking factor. \n",
    "\n",
    "#### Registers\n",
    " - `d`: the register indexing non-zero matrix elements.\n",
    " - `pqrs`: the register to store the spatial orbital index.\n",
    " - `sigma`: the register prepared for alias sampling.\n",
    " - `alpha`: spin for (pq) indicies.\n",
    " - `beta`: spin for (rs) indicies.\n",
    " - `rot_aa`: the qubit rotated for amplitude amplification.\n",
    " - `swap_pq`: a |+> state to restore the symmetries of the p and q indices.\n",
    " - `swap_rs`: a |+> state to restore the symmetries of the r and s indices.\n",
    " - `swap_pqrs`: a |+> state to restore the symmetries of between (pq) and (rs).\n",
    " - `theta`: sign qubit.\n",
    " - `alt_pqrs`: the register to store the alternate values for the spatial orbital indices.\n",
    " - `theta`: A two qubit register for the sign bit and it's alternate value.\n",
    " - `keep`: The register containing the keep values for alias sampling.\n",
    " - `less_than`: A single qubit for the result of the inequality test during alias sampling.\n",
    " - `flag_1b`: a single qubit register indicating whether to apply only the one-body SELECT.\n",
    " - `alt_flag_1b`: alternate value for flag_1b \n",
    "\n",
    "Refererences:\n",
    "    [Even More Efficient Quantum Computations of Chemistry Through Tensor\n",
    "        hypercontraction](https://arxiv.org/abs/2011.03494) Eq. A11."
   ]
  },
  {
   "cell_type": "code",
   "execution_count": 2,
   "id": "7bf1a246",
   "metadata": {
    "cq.autogen": "PrepareSparse.bloq_doc.py"
   },
   "outputs": [],
   "source": [
    "from qualtran.bloqs.chemistry.sparse.prepare import PrepareSparse"
   ]
  },
  {
   "cell_type": "markdown",
   "id": "65741ad4",
   "metadata": {
    "cq.autogen": "PrepareSparse.example_instances.md"
   },
   "source": [
    "### Example Instances"
   ]
  },
  {
   "cell_type": "code",
   "execution_count": 3,
   "id": "31ff8735",
   "metadata": {
    "cq.autogen": "PrepareSparse.prep_sparse"
   },
   "outputs": [],
   "source": [
    "from qualtran.bloqs.chemistry.sparse.prepare_test import build_random_test_integrals\n",
    "\n",
    "num_spin_orb = 4\n",
    "tpq, eris = build_random_test_integrals(num_spin_orb // 2)\n",
    "prep_sparse = PrepareSparse.from_hamiltonian_coeffs(num_spin_orb, tpq, eris)"
   ]
  },
  {
   "cell_type": "markdown",
   "id": "60980ea8",
   "metadata": {
    "cq.autogen": "PrepareSparse.graphical_signature.md"
   },
   "source": [
    "#### Graphical Signature"
   ]
  },
  {
   "cell_type": "code",
   "execution_count": 4,
   "id": "b3182720",
   "metadata": {
    "cq.autogen": "PrepareSparse.graphical_signature.py"
   },
   "outputs": [
    {
     "data": {
      "application/vnd.jupyter.widget-view+json": {
       "model_id": "b112354599764a5b8063e3e8bd51b02d",
       "version_major": 2,
       "version_minor": 0
      },
      "text/plain": [
       "HBox(children=(Output(outputs=({'output_type': 'display_data', 'data': {'text/plain': '<IPython.core.display.M…"
      ]
     },
     "metadata": {},
     "output_type": "display_data"
    }
   ],
   "source": [
    "from qualtran.drawing import show_bloqs\n",
    "show_bloqs([prep_sparse],\n",
    "           ['`prep_sparse`'])"
   ]
  },
  {
   "cell_type": "markdown",
   "id": "e69da753",
   "metadata": {
    "cq.autogen": "PrepareSparse.call_graph.md"
   },
   "source": [
    "### Call Graph"
   ]
  },
  {
   "cell_type": "code",
   "execution_count": 5,
   "id": "64a63e15",
   "metadata": {
    "cq.autogen": "PrepareSparse.call_graph.py"
   },
   "outputs": [
    {
     "data": {
      "image/svg+xml": [
       "<svg xmlns=\"http://www.w3.org/2000/svg\" xmlns:xlink=\"http://www.w3.org/1999/xlink\" width=\"1506pt\" height=\"131pt\" viewBox=\"0.00 0.00 1506.00 131.00\">\n",
       "<g id=\"graph0\" class=\"graph\" transform=\"scale(1 1) rotate(0) translate(4 127)\">\n",
       "<title>counts</title>\n",
       "<polygon fill=\"white\" stroke=\"transparent\" points=\"-4,4 -4,-127 1502,-127 1502,4 -4,4\"/>\n",
       "<!-- b0 -->\n",
       "<g id=\"node1\" class=\"node\">\n",
       "<title>b0</title>\n",
       "<polygon fill=\"none\" stroke=\"black\" points=\"671,-123 84,-123 84,-87 671,-87 671,-123\"/>\n",
       "<text text-anchor=\"start\" x=\"338.5\" y=\"-106.8\" font-family=\"Times,serif\" font-size=\"14.00\">PrepareSparse</text>\n",
       "<text text-anchor=\"start\" x=\"92\" y=\"-96\" font-family=\"monospace\" font-size=\"10.00\">num_spin_orb=4, num_non_zero=9, num_bits_state_prep=8, alt_pqrs=((0, 0,  ..., [9 addtl fields].</text>\n",
       "</g>\n",
       "<!-- b1 -->\n",
       "<g id=\"node2\" class=\"node\">\n",
       "<title>b1</title>\n",
       "<polygon fill=\"none\" stroke=\"black\" points=\"161,-36 0,-36 0,0 161,0 161,-36\"/>\n",
       "<text text-anchor=\"start\" x=\"38\" y=\"-19.8\" font-family=\"Times,serif\" font-size=\"14.00\">LessThanEqual</text>\n",
       "<text text-anchor=\"start\" x=\"8\" y=\"-9\" font-family=\"monospace\" font-size=\"10.00\">x_bitsize=8, y_bitsize=8</text>\n",
       "</g>\n",
       "<!-- b0&#45;&gt;b1 -->\n",
       "<g id=\"edge1\" class=\"edge\">\n",
       "<title>b0-&gt;b1</title>\n",
       "<path fill=\"none\" stroke=\"black\" d=\"M317.75,-86.9C269.22,-73.01 200.7,-53.4 149.77,-38.82\"/>\n",
       "<polygon fill=\"black\" stroke=\"black\" points=\"150.73,-35.46 140.15,-36.07 148.8,-42.19 150.73,-35.46\"/>\n",
       "<text text-anchor=\"middle\" x=\"251\" y=\"-57.8\" font-family=\"Times,serif\" font-size=\"14.00\">1</text>\n",
       "</g>\n",
       "<!-- b2 -->\n",
       "<g id=\"node3\" class=\"node\">\n",
       "<title>b2</title>\n",
       "<polygon fill=\"none\" stroke=\"black\" points=\"250,-36 179,-36 179,0 250,0 250,-36\"/>\n",
       "<text text-anchor=\"start\" x=\"194.5\" y=\"-19.8\" font-family=\"Times,serif\" font-size=\"14.00\">CSwap</text>\n",
       "<text text-anchor=\"start\" x=\"187\" y=\"-9\" font-family=\"monospace\" font-size=\"10.00\">bitsize=1</text>\n",
       "</g>\n",
       "<!-- b0&#45;&gt;b2 -->\n",
       "<g id=\"edge2\" class=\"edge\">\n",
       "<title>b0-&gt;b2</title>\n",
       "<path fill=\"none\" stroke=\"black\" d=\"M344.51,-86.8C319.02,-73.51 283.58,-55.02 256.13,-40.71\"/>\n",
       "<polygon fill=\"black\" stroke=\"black\" points=\"257.64,-37.55 247.16,-36.03 254.41,-43.76 257.64,-37.55\"/>\n",
       "<text text-anchor=\"middle\" x=\"310\" y=\"-57.8\" font-family=\"Times,serif\" font-size=\"14.00\">9</text>\n",
       "</g>\n",
       "<!-- b3 -->\n",
       "<g id=\"node4\" class=\"node\">\n",
       "<title>b3</title>\n",
       "<polygon fill=\"none\" stroke=\"black\" points=\"342.5,-36 268.5,-36 268.5,0 342.5,0 342.5,-36\"/>\n",
       "<text text-anchor=\"start\" x=\"276.5\" y=\"-14.3\" font-family=\"Times,serif\" font-size=\"14.00\">Hadamard</text>\n",
       "</g>\n",
       "<!-- b0&#45;&gt;b3 -->\n",
       "<g id=\"edge3\" class=\"edge\">\n",
       "<title>b0-&gt;b3</title>\n",
       "<path fill=\"none\" stroke=\"black\" d=\"M362.93,-86.8C352.49,-74.47 338.26,-57.68 326.58,-43.89\"/>\n",
       "<polygon fill=\"black\" stroke=\"black\" points=\"329.18,-41.54 320.05,-36.18 323.84,-46.07 329.18,-41.54\"/>\n",
       "<text text-anchor=\"middle\" x=\"350\" y=\"-57.8\" font-family=\"Times,serif\" font-size=\"14.00\">3</text>\n",
       "</g>\n",
       "<!-- b4 -->\n",
       "<g id=\"node5\" class=\"node\">\n",
       "<title>b4</title>\n",
       "<polygon fill=\"none\" stroke=\"black\" points=\"540.5,-36 360.5,-36 360.5,0 540.5,0 540.5,-36\"/>\n",
       "<text text-anchor=\"start\" x=\"368.5\" y=\"-19.8\" font-family=\"Times,serif\" font-size=\"14.00\">PrepareUniformSuperposition</text>\n",
       "<text text-anchor=\"start\" x=\"417\" y=\"-9\" font-family=\"monospace\" font-size=\"10.00\">n=9, cvs=()</text>\n",
       "</g>\n",
       "<!-- b0&#45;&gt;b4 -->\n",
       "<g id=\"edge4\" class=\"edge\">\n",
       "<title>b0-&gt;b4</title>\n",
       "<path fill=\"none\" stroke=\"black\" d=\"M392.27,-86.8C402.86,-74.47 417.28,-57.68 429.12,-43.89\"/>\n",
       "<polygon fill=\"black\" stroke=\"black\" points=\"431.89,-46.04 435.75,-36.18 426.58,-41.48 431.89,-46.04\"/>\n",
       "<text text-anchor=\"middle\" x=\"422\" y=\"-57.8\" font-family=\"Times,serif\" font-size=\"14.00\">1</text>\n",
       "</g>\n",
       "<!-- b5 -->\n",
       "<g id=\"node6\" class=\"node\">\n",
       "<title>b5</title>\n",
       "<polygon fill=\"none\" stroke=\"black\" points=\"1343,-36 558,-36 558,0 1343,0 1343,-36\"/>\n",
       "<text text-anchor=\"start\" x=\"898\" y=\"-19.8\" font-family=\"Times,serif\" font-size=\"14.00\">SelectSwapQROM</text>\n",
       "<text text-anchor=\"start\" x=\"566\" y=\"-9\" font-family=\"monospace\" font-size=\"10.00\">data_or_shape=(array([ ..., selection_bitsizes=(4,), target_bitsizes=(1, 1, 1 ..., target_shapes=((), (), ..., [3 addtl fields].</text>\n",
       "</g>\n",
       "<!-- b0&#45;&gt;b5 -->\n",
       "<g id=\"edge5\" class=\"edge\">\n",
       "<title>b0-&gt;b5</title>\n",
       "<path fill=\"none\" stroke=\"black\" d=\"M492.42,-86.95C588.92,-72.64 726.52,-52.23 825.69,-37.51\"/>\n",
       "<polygon fill=\"black\" stroke=\"black\" points=\"826.39,-40.95 835.77,-36.02 825.36,-34.02 826.39,-40.95\"/>\n",
       "<text text-anchor=\"middle\" x=\"702\" y=\"-57.8\" font-family=\"Times,serif\" font-size=\"14.00\">1</text>\n",
       "</g>\n",
       "<!-- b6 -->\n",
       "<g id=\"node7\" class=\"node\">\n",
       "<title>b6</title>\n",
       "<polygon fill=\"none\" stroke=\"black\" points=\"1498,-36 1361,-36 1361,0 1498,0 1498,-36\"/>\n",
       "<text text-anchor=\"start\" x=\"1407.5\" y=\"-19.8\" font-family=\"Times,serif\" font-size=\"14.00\">OnEach</text>\n",
       "<text text-anchor=\"start\" x=\"1369\" y=\"-9\" font-family=\"monospace\" font-size=\"10.00\">n=8, gate=Hadamard()</text>\n",
       "</g>\n",
       "<!-- b0&#45;&gt;b6 -->\n",
       "<g id=\"edge6\" class=\"edge\">\n",
       "<title>b0-&gt;b6</title>\n",
       "<path fill=\"none\" stroke=\"black\" d=\"M671.16,-94.59C862.32,-85.78 1117.01,-68.99 1350.64,-35.99\"/>\n",
       "<polygon fill=\"black\" stroke=\"black\" points=\"1351.29,-39.44 1360.69,-34.56 1350.3,-32.51 1351.29,-39.44\"/>\n",
       "<text text-anchor=\"middle\" x=\"1197\" y=\"-57.8\" font-family=\"Times,serif\" font-size=\"14.00\">1</text>\n",
       "</g>\n",
       "</g>\n",
       "</svg>"
      ],
      "text/plain": [
       "<IPython.core.display.SVG object>"
      ]
     },
     "metadata": {},
     "output_type": "display_data"
    },
    {
     "data": {
      "text/markdown": [
       "#### Counts totals:\n",
       " - `CSwap`: 9\n",
       " - `H`: 3\n",
       " - `H⨂8`: 1\n",
       " - `LessThanEqual`: 1\n",
       " - `PrepareUniformSuperposition`: 1\n",
       " - `SelectSwapQROM`: 1"
      ],
      "text/plain": [
       "<IPython.core.display.Markdown object>"
      ]
     },
     "metadata": {},
     "output_type": "display_data"
    }
   ],
   "source": [
    "from qualtran.resource_counting.generalizers import ignore_split_join\n",
    "prep_sparse_g, prep_sparse_sigma = prep_sparse.call_graph(max_depth=1, generalizer=ignore_split_join)\n",
    "show_call_graph(prep_sparse_g)\n",
    "show_counts_sigma(prep_sparse_sigma)"
   ]
  },
  {
   "cell_type": "markdown",
   "id": "e9458750",
   "metadata": {
    "cq.autogen": "SelectSparse.bloq_doc.md"
   },
   "source": [
    "## `SelectSparse`\n",
    "SELECT oracle for the sparse Hamiltonian.\n",
    "\n",
    "Implements the two applications of Fig. 13.\n",
    "\n",
    "#### Parameters\n",
    " - `num_spin_orb`: The number of spin orbitals. Typically called N.\n",
    " - `control_val`: The control value. If None, then the bloq is not controlled. \n",
    "\n",
    "#### Registers\n",
    " - `flag_1b`: a single qubit to flag whether the one-body Hamiltonian is to be applied or not during SELECT.\n",
    " - `swap_pq`: a |+> state to restore the symmetries of the p and q indices.\n",
    " - `swap_rs`: a |+> state to restore the symmetries of the r and s indices.\n",
    " - `swap_pqrs`: a |+> state to restore the symmetries of between (pq) and (rs).\n",
    " - `theta`: sign qubit.\n",
    " - `pqrs`: the register to store the spatial orbital index.\n",
    " - `alpha`: spin for (pq) indicies.\n",
    " - `beta`: spin for (rs) indicies. \n",
    "\n",
    "Refererences:\n",
    "    [Even More Efficient Quantum Computations of Chemistry Through Tensor\n",
    "        hypercontraction](https://arxiv.org/abs/2011.03494) Fig 13."
   ]
  },
  {
   "cell_type": "code",
   "execution_count": 6,
   "id": "51d1ee6f",
   "metadata": {
    "cq.autogen": "SelectSparse.bloq_doc.py"
   },
   "outputs": [],
   "source": [
    "from qualtran.bloqs.chemistry.sparse.select_bloq import SelectSparse"
   ]
  },
  {
   "cell_type": "markdown",
   "id": "678e33e3",
   "metadata": {
    "cq.autogen": "SelectSparse.example_instances.md"
   },
   "source": [
    "### Example Instances"
   ]
  },
  {
   "cell_type": "code",
   "execution_count": 7,
   "id": "3855993c",
   "metadata": {
    "cq.autogen": "SelectSparse.sel_sparse"
   },
   "outputs": [],
   "source": [
    "num_spin_orb = 4\n",
    "sel_sparse = SelectSparse(num_spin_orb)"
   ]
  },
  {
   "cell_type": "markdown",
   "id": "98285824",
   "metadata": {
    "cq.autogen": "SelectSparse.graphical_signature.md"
   },
   "source": [
    "#### Graphical Signature"
   ]
  },
  {
   "cell_type": "code",
   "execution_count": 8,
   "id": "d004038c",
   "metadata": {
    "cq.autogen": "SelectSparse.graphical_signature.py"
   },
   "outputs": [
    {
     "data": {
      "application/vnd.jupyter.widget-view+json": {
       "model_id": "85515f504bbd4f68bffabcee5f0e424a",
       "version_major": 2,
       "version_minor": 0
      },
      "text/plain": [
       "HBox(children=(Output(outputs=({'output_type': 'display_data', 'data': {'text/plain': '<IPython.core.display.M…"
      ]
     },
     "metadata": {},
     "output_type": "display_data"
    }
   ],
   "source": [
    "from qualtran.drawing import show_bloqs\n",
    "show_bloqs([sel_sparse],\n",
    "           ['`sel_sparse`'])"
   ]
  },
  {
   "cell_type": "markdown",
   "id": "e424340b",
   "metadata": {
    "cq.autogen": "SelectSparse.call_graph.md"
   },
   "source": [
    "### Call Graph"
   ]
  },
  {
   "cell_type": "code",
   "execution_count": 9,
   "id": "7039385b",
   "metadata": {
    "cq.autogen": "SelectSparse.call_graph.py"
   },
   "outputs": [
    {
     "data": {
      "image/svg+xml": [
       "<svg xmlns=\"http://www.w3.org/2000/svg\" xmlns:xlink=\"http://www.w3.org/1999/xlink\" width=\"1917pt\" height=\"131pt\" viewBox=\"0.00 0.00 1917.00 131.00\">\n",
       "<g id=\"graph0\" class=\"graph\" transform=\"scale(1 1) rotate(0) translate(4 127)\">\n",
       "<title>counts</title>\n",
       "<polygon fill=\"white\" stroke=\"transparent\" points=\"-4,4 -4,-127 1913,-127 1913,4 -4,4\"/>\n",
       "<!-- b0 -->\n",
       "<g id=\"node1\" class=\"node\">\n",
       "<title>b0</title>\n",
       "<polygon fill=\"none\" stroke=\"black\" points=\"1059,-123 850,-123 850,-87 1059,-87 1059,-123\"/>\n",
       "<text text-anchor=\"start\" x=\"919.5\" y=\"-106.8\" font-family=\"Times,serif\" font-size=\"14.00\">SelectSparse</text>\n",
       "<text text-anchor=\"start\" x=\"858\" y=\"-96\" font-family=\"monospace\" font-size=\"10.00\">num_spin_orb=4, control_val=None</text>\n",
       "</g>\n",
       "<!-- b1 -->\n",
       "<g id=\"node2\" class=\"node\">\n",
       "<title>b1</title>\n",
       "<polygon fill=\"none\" stroke=\"black\" points=\"461,-36 0,-36 0,0 461,0 461,-36\"/>\n",
       "<text text-anchor=\"start\" x=\"158\" y=\"-19.8\" font-family=\"Times,serif\" font-size=\"14.00\">SelectedMajoranaFermion</text>\n",
       "<text text-anchor=\"start\" x=\"8\" y=\"-9\" font-family=\"monospace\" font-size=\"10.00\">selection_regs=(Registe ..., control_regs=(Registe ..., target_gate=cirq.Y</text>\n",
       "</g>\n",
       "<!-- b0&#45;&gt;b1 -->\n",
       "<g id=\"edge1\" class=\"edge\">\n",
       "<title>b0-&gt;b1</title>\n",
       "<path fill=\"none\" stroke=\"black\" d=\"M850,-91.73C728.2,-77.43 525.76,-53.66 385.61,-37.21\"/>\n",
       "<polygon fill=\"black\" stroke=\"black\" points=\"385.97,-33.73 375.63,-36.04 385.15,-40.68 385.97,-33.73\"/>\n",
       "<text text-anchor=\"middle\" x=\"640\" y=\"-57.8\" font-family=\"Times,serif\" font-size=\"14.00\">1</text>\n",
       "</g>\n",
       "<!-- b2 -->\n",
       "<g id=\"node3\" class=\"node\">\n",
       "<title>b2</title>\n",
       "<polygon fill=\"none\" stroke=\"black\" points=\"880,-36 479,-36 479,0 880,0 880,-36\"/>\n",
       "<text text-anchor=\"start\" x=\"607\" y=\"-19.8\" font-family=\"Times,serif\" font-size=\"14.00\">SelectedMajoranaFermion</text>\n",
       "<text text-anchor=\"start\" x=\"487\" y=\"-9\" font-family=\"monospace\" font-size=\"10.00\">selection_regs=(Registe ..., control_regs=(), target_gate=cirq.X</text>\n",
       "</g>\n",
       "<!-- b0&#45;&gt;b2 -->\n",
       "<g id=\"edge2\" class=\"edge\">\n",
       "<title>b0-&gt;b2</title>\n",
       "<path fill=\"none\" stroke=\"black\" d=\"M899.18,-86.9C854.52,-73.1 791.59,-53.65 744.52,-39.1\"/>\n",
       "<polygon fill=\"black\" stroke=\"black\" points=\"745.32,-35.68 734.73,-36.07 743.25,-42.37 745.32,-35.68\"/>\n",
       "<text text-anchor=\"middle\" x=\"837\" y=\"-57.8\" font-family=\"Times,serif\" font-size=\"14.00\">1</text>\n",
       "</g>\n",
       "<!-- b3 -->\n",
       "<g id=\"node4\" class=\"node\">\n",
       "<title>b3</title>\n",
       "<polygon fill=\"none\" stroke=\"black\" points=\"1011,-36 898,-36 898,0 1011,0 1011,-36\"/>\n",
       "<text text-anchor=\"start\" x=\"950.5\" y=\"-19.8\" font-family=\"Times,serif\" font-size=\"14.00\">S</text>\n",
       "<text text-anchor=\"start\" x=\"906\" y=\"-9\" font-family=\"monospace\" font-size=\"10.00\">is_adjoint=False</text>\n",
       "</g>\n",
       "<!-- b0&#45;&gt;b3 -->\n",
       "<g id=\"edge3\" class=\"edge\">\n",
       "<title>b0-&gt;b3</title>\n",
       "<path fill=\"none\" stroke=\"black\" d=\"M954.5,-86.8C954.5,-75.16 954.5,-59.55 954.5,-46.24\"/>\n",
       "<polygon fill=\"black\" stroke=\"black\" points=\"958,-46.18 954.5,-36.18 951,-46.18 958,-46.18\"/>\n",
       "<text text-anchor=\"middle\" x=\"958\" y=\"-57.8\" font-family=\"Times,serif\" font-size=\"14.00\">1</text>\n",
       "</g>\n",
       "<!-- b4 -->\n",
       "<g id=\"node5\" class=\"node\">\n",
       "<title>b4</title>\n",
       "<polygon fill=\"none\" stroke=\"black\" points=\"1490,-36 1029,-36 1029,0 1490,0 1490,-36\"/>\n",
       "<text text-anchor=\"start\" x=\"1187\" y=\"-19.8\" font-family=\"Times,serif\" font-size=\"14.00\">SelectedMajoranaFermion</text>\n",
       "<text text-anchor=\"start\" x=\"1037\" y=\"-9\" font-family=\"monospace\" font-size=\"10.00\">selection_regs=(Registe ..., control_regs=(Registe ..., target_gate=cirq.X</text>\n",
       "</g>\n",
       "<!-- b0&#45;&gt;b4 -->\n",
       "<g id=\"edge4\" class=\"edge\">\n",
       "<title>b0-&gt;b4</title>\n",
       "<path fill=\"none\" stroke=\"black\" d=\"M1015.85,-86.9C1065.7,-73.01 1136.06,-53.4 1188.37,-38.82\"/>\n",
       "<polygon fill=\"black\" stroke=\"black\" points=\"1189.55,-42.13 1198.24,-36.07 1187.67,-35.38 1189.55,-42.13\"/>\n",
       "<text text-anchor=\"middle\" x=\"1129\" y=\"-57.8\" font-family=\"Times,serif\" font-size=\"14.00\">1</text>\n",
       "</g>\n",
       "<!-- b5 -->\n",
       "<g id=\"node6\" class=\"node\">\n",
       "<title>b5</title>\n",
       "<polygon fill=\"none\" stroke=\"black\" points=\"1909,-36 1508,-36 1508,0 1909,0 1909,-36\"/>\n",
       "<text text-anchor=\"start\" x=\"1636\" y=\"-19.8\" font-family=\"Times,serif\" font-size=\"14.00\">SelectedMajoranaFermion</text>\n",
       "<text text-anchor=\"start\" x=\"1516\" y=\"-9\" font-family=\"monospace\" font-size=\"10.00\">selection_regs=(Registe ..., control_regs=(), target_gate=cirq.Y</text>\n",
       "</g>\n",
       "<!-- b0&#45;&gt;b5 -->\n",
       "<g id=\"edge5\" class=\"edge\">\n",
       "<title>b0-&gt;b5</title>\n",
       "<path fill=\"none\" stroke=\"black\" d=\"M1059.34,-92.18C1185.82,-77.92 1399.81,-53.8 1547.32,-37.17\"/>\n",
       "<polygon fill=\"black\" stroke=\"black\" points=\"1547.84,-40.63 1557.38,-36.04 1547.05,-33.68 1547.84,-40.63\"/>\n",
       "<text text-anchor=\"middle\" x=\"1381\" y=\"-57.8\" font-family=\"Times,serif\" font-size=\"14.00\">1</text>\n",
       "</g>\n",
       "</g>\n",
       "</svg>"
      ],
      "text/plain": [
       "<IPython.core.display.SVG object>"
      ]
     },
     "metadata": {},
     "output_type": "display_data"
    },
    {
     "data": {
      "text/markdown": [
       "#### Counts totals:\n",
       " - `SGate`: 1\n",
       " - `SelectedMajoranaFermion(X)`: 1\n",
       " - `SelectedMajoranaFermion(X)`: 1\n",
       " - `SelectedMajoranaFermion(Y)`: 1\n",
       " - `SelectedMajoranaFermion(Y)`: 1"
      ],
      "text/plain": [
       "<IPython.core.display.Markdown object>"
      ]
     },
     "metadata": {},
     "output_type": "display_data"
    }
   ],
   "source": [
    "from qualtran.resource_counting.generalizers import ignore_split_join\n",
    "sel_sparse_g, sel_sparse_sigma = sel_sparse.call_graph(max_depth=1, generalizer=ignore_split_join)\n",
    "show_call_graph(sel_sparse_g)\n",
    "show_counts_sigma(sel_sparse_sigma)"
   ]
  }
 ],
 "metadata": {
  "kernelspec": {
   "display_name": "Python 3",
   "language": "python",
   "name": "python3"
  },
  "language_info": {
   "codemirror_mode": {
    "name": "ipython",
    "version": 3
   },
   "file_extension": ".py",
   "mimetype": "text/x-python",
   "name": "python",
   "nbconvert_exporter": "python",
   "pygments_lexer": "ipython3",
   "version": "3.11.8"
  },
  "widgets": {
   "application/vnd.jupyter.widget-state+json": {
    "state": {
     "0b7e831eeffd4e29b49c3aaf01e92cc3": {
      "model_module": "@jupyter-widgets/base",
      "model_module_version": "2.0.0",
      "model_name": "LayoutModel",
      "state": {
       "_model_module": "@jupyter-widgets/base",
       "_model_module_version": "2.0.0",
       "_model_name": "LayoutModel",
       "_view_count": null,
       "_view_module": "@jupyter-widgets/base",
       "_view_module_version": "2.0.0",
       "_view_name": "LayoutView",
       "align_content": null,
       "align_items": null,
       "align_self": null,
       "border_bottom": null,
       "border_left": null,
       "border_right": null,
       "border_top": null,
       "bottom": null,
       "display": null,
       "flex": null,
       "flex_flow": null,
       "grid_area": null,
       "grid_auto_columns": null,
       "grid_auto_flow": null,
       "grid_auto_rows": null,
       "grid_column": null,
       "grid_gap": null,
       "grid_row": null,
       "grid_template_areas": null,
       "grid_template_columns": null,
       "grid_template_rows": null,
       "height": null,
       "justify_content": null,
       "justify_items": null,
       "left": null,
       "margin": null,
       "max_height": null,
       "max_width": null,
       "min_height": null,
       "min_width": null,
       "object_fit": null,
       "object_position": null,
       "order": null,
       "overflow": null,
       "padding": null,
       "right": null,
       "top": null,
       "visibility": null,
       "width": null
      }
     },
     "532026a7cff34a5ebd44ea00539109db": {
      "model_module": "@jupyter-widgets/base",
      "model_module_version": "2.0.0",
      "model_name": "LayoutModel",
      "state": {
       "_model_module": "@jupyter-widgets/base",
       "_model_module_version": "2.0.0",
       "_model_name": "LayoutModel",
       "_view_count": null,
       "_view_module": "@jupyter-widgets/base",
       "_view_module_version": "2.0.0",
       "_view_name": "LayoutView",
       "align_content": null,
       "align_items": null,
       "align_self": null,
       "border_bottom": null,
       "border_left": null,
       "border_right": null,
       "border_top": null,
       "bottom": null,
       "display": null,
       "flex": null,
       "flex_flow": null,
       "grid_area": null,
       "grid_auto_columns": null,
       "grid_auto_flow": null,
       "grid_auto_rows": null,
       "grid_column": null,
       "grid_gap": null,
       "grid_row": null,
       "grid_template_areas": null,
       "grid_template_columns": null,
       "grid_template_rows": null,
       "height": null,
       "justify_content": null,
       "justify_items": null,
       "left": null,
       "margin": null,
       "max_height": null,
       "max_width": null,
       "min_height": null,
       "min_width": null,
       "object_fit": null,
       "object_position": null,
       "order": null,
       "overflow": null,
       "padding": null,
       "right": null,
       "top": null,
       "visibility": null,
       "width": null
      }
     },
     "85515f504bbd4f68bffabcee5f0e424a": {
      "model_module": "@jupyter-widgets/controls",
      "model_module_version": "2.0.0",
      "model_name": "HBoxModel",
      "state": {
       "_dom_classes": [],
       "_model_module": "@jupyter-widgets/controls",
       "_model_module_version": "2.0.0",
       "_model_name": "HBoxModel",
       "_view_count": null,
       "_view_module": "@jupyter-widgets/controls",
       "_view_module_version": "2.0.0",
       "_view_name": "HBoxView",
       "box_style": "",
       "children": [
        "IPY_MODEL_f131b61e9cf24c8a96609f3be77420fe"
       ],
       "layout": "IPY_MODEL_532026a7cff34a5ebd44ea00539109db",
       "tabbable": null,
       "tooltip": null
      }
     },
     "910da6352ef642478e69baa576b21c34": {
      "model_module": "@jupyter-widgets/base",
      "model_module_version": "2.0.0",
      "model_name": "LayoutModel",
      "state": {
       "_model_module": "@jupyter-widgets/base",
       "_model_module_version": "2.0.0",
       "_model_name": "LayoutModel",
       "_view_count": null,
       "_view_module": "@jupyter-widgets/base",
       "_view_module_version": "2.0.0",
       "_view_name": "LayoutView",
       "align_content": null,
       "align_items": null,
       "align_self": null,
       "border_bottom": null,
       "border_left": null,
       "border_right": null,
       "border_top": null,
       "bottom": null,
       "display": null,
       "flex": null,
       "flex_flow": null,
       "grid_area": null,
       "grid_auto_columns": null,
       "grid_auto_flow": null,
       "grid_auto_rows": null,
       "grid_column": null,
       "grid_gap": null,
       "grid_row": null,
       "grid_template_areas": null,
       "grid_template_columns": null,
       "grid_template_rows": null,
       "height": null,
       "justify_content": null,
       "justify_items": null,
       "left": null,
       "margin": null,
       "max_height": null,
       "max_width": null,
       "min_height": null,
       "min_width": null,
       "object_fit": null,
       "object_position": null,
       "order": null,
       "overflow": null,
       "padding": null,
       "right": null,
       "top": null,
       "visibility": null,
       "width": null
      }
     },
     "b112354599764a5b8063e3e8bd51b02d": {
      "model_module": "@jupyter-widgets/controls",
      "model_module_version": "2.0.0",
      "model_name": "HBoxModel",
      "state": {
       "_dom_classes": [],
       "_model_module": "@jupyter-widgets/controls",
       "_model_module_version": "2.0.0",
       "_model_name": "HBoxModel",
       "_view_count": null,
       "_view_module": "@jupyter-widgets/controls",
       "_view_module_version": "2.0.0",
       "_view_name": "HBoxView",
       "box_style": "",
       "children": [
        "IPY_MODEL_bdacf9b06209480f9893b61f8960e673"
       ],
       "layout": "IPY_MODEL_910da6352ef642478e69baa576b21c34",
       "tabbable": null,
       "tooltip": null
      }
     },
     "bdacf9b06209480f9893b61f8960e673": {
      "model_module": "@jupyter-widgets/output",
      "model_module_version": "1.0.0",
      "model_name": "OutputModel",
      "state": {
       "_dom_classes": [],
       "_model_module": "@jupyter-widgets/output",
       "_model_module_version": "1.0.0",
       "_model_name": "OutputModel",
       "_view_count": null,
       "_view_module": "@jupyter-widgets/output",
       "_view_module_version": "1.0.0",
       "_view_name": "OutputView",
       "layout": "IPY_MODEL_0b7e831eeffd4e29b49c3aaf01e92cc3",
       "msg_id": "",
       "outputs": [
        {
         "data": {
          "text/markdown": "`prep_sparse`",
          "text/plain": "<IPython.core.display.Markdown object>"
         },
         "metadata": {},
         "output_type": "display_data"
        },
        {
         "data": {
          "image/svg+xml": "<svg xmlns=\"http://www.w3.org/2000/svg\" xmlns:xlink=\"http://www.w3.org/1999/xlink\" width=\"306pt\" height=\"1178pt\" viewBox=\"0.00 0.00 306.00 1178.00\">\n<g id=\"graph0\" class=\"graph\" transform=\"scale(1 1) rotate(0) translate(4 1174)\">\n<title>my_graph</title>\n<polygon fill=\"white\" stroke=\"transparent\" points=\"-4,4 -4,-1174 302,-1174 302,4 -4,4\"/>\n<!-- d_G63 -->\n<g id=\"node1\" class=\"node\">\n<title>d_G63</title>\n<text text-anchor=\"middle\" x=\"39\" y=\"-1148.3\" font-family=\"Times,serif\" font-size=\"14.00\">d</text>\n</g>\n<!-- PrepareSparse -->\n<g id=\"node23\" class=\"node\">\n<title>PrepareSparse</title>\n<polygon fill=\"none\" stroke=\"black\" points=\"115,-816 115,-833 183,-833 183,-816 115,-816\"/>\n<text text-anchor=\"start\" x=\"120.5\" y=\"-822\" font-family=\"Times,serif\" font-size=\"10.00\">PrepareSparse</text>\n<polygon fill=\"none\" stroke=\"black\" points=\"115,-795 115,-816 183,-816 183,-795 115,-795\"/>\n<text text-anchor=\"start\" x=\"145.5\" y=\"-801.8\" font-family=\"Times,serif\" font-size=\"14.00\">d</text>\n<polygon fill=\"none\" stroke=\"black\" points=\"115,-774 115,-795 183,-795 183,-774 115,-774\"/>\n<text text-anchor=\"start\" x=\"145.5\" y=\"-780.8\" font-family=\"Times,serif\" font-size=\"14.00\">p</text>\n<polygon fill=\"none\" stroke=\"black\" points=\"115,-753 115,-774 183,-774 183,-753 115,-753\"/>\n<text text-anchor=\"start\" x=\"145.5\" y=\"-759.8\" font-family=\"Times,serif\" font-size=\"14.00\">q</text>\n<polygon fill=\"none\" stroke=\"black\" points=\"115,-732 115,-753 183,-753 183,-732 115,-732\"/>\n<text text-anchor=\"start\" x=\"146.5\" y=\"-738.8\" font-family=\"Times,serif\" font-size=\"14.00\">r</text>\n<polygon fill=\"none\" stroke=\"black\" points=\"115,-711 115,-732 183,-732 183,-711 115,-711\"/>\n<text text-anchor=\"start\" x=\"146\" y=\"-717.8\" font-family=\"Times,serif\" font-size=\"14.00\">s</text>\n<polygon fill=\"none\" stroke=\"black\" points=\"115,-690 115,-711 183,-711 183,-690 115,-690\"/>\n<text text-anchor=\"start\" x=\"132\" y=\"-696.8\" font-family=\"Times,serif\" font-size=\"14.00\">sigma</text>\n<polygon fill=\"none\" stroke=\"black\" points=\"115,-669 115,-690 183,-690 183,-669 115,-669\"/>\n<text text-anchor=\"start\" x=\"134\" y=\"-675.8\" font-family=\"Times,serif\" font-size=\"14.00\">alpha</text>\n<polygon fill=\"none\" stroke=\"black\" points=\"115,-648 115,-669 183,-669 183,-648 115,-648\"/>\n<text text-anchor=\"start\" x=\"137.5\" y=\"-654.8\" font-family=\"Times,serif\" font-size=\"14.00\">beta</text>\n<polygon fill=\"none\" stroke=\"black\" points=\"115,-627 115,-648 183,-648 183,-627 115,-627\"/>\n<text text-anchor=\"start\" x=\"132\" y=\"-633.8\" font-family=\"Times,serif\" font-size=\"14.00\">rot_aa</text>\n<polygon fill=\"none\" stroke=\"black\" points=\"115,-606 115,-627 183,-627 183,-606 115,-606\"/>\n<text text-anchor=\"start\" x=\"124.5\" y=\"-612.8\" font-family=\"Times,serif\" font-size=\"14.00\">swap_pq</text>\n<polygon fill=\"none\" stroke=\"black\" points=\"115,-585 115,-606 183,-606 183,-585 115,-585\"/>\n<text text-anchor=\"start\" x=\"126.5\" y=\"-591.8\" font-family=\"Times,serif\" font-size=\"14.00\">swap_rs</text>\n<polygon fill=\"none\" stroke=\"black\" points=\"115,-564 115,-585 183,-585 183,-564 115,-564\"/>\n<text text-anchor=\"start\" x=\"120\" y=\"-570.8\" font-family=\"Times,serif\" font-size=\"14.00\">swap_pqrs</text>\n<polygon fill=\"none\" stroke=\"black\" points=\"115,-543 115,-564 183,-564 183,-543 115,-543\"/>\n<text text-anchor=\"start\" x=\"128\" y=\"-549.8\" font-family=\"Times,serif\" font-size=\"14.00\">flag_1b</text>\n<polygon fill=\"none\" stroke=\"black\" points=\"115,-522 115,-543 183,-543 183,-522 115,-522\"/>\n<text text-anchor=\"start\" x=\"119\" y=\"-528.8\" font-family=\"Times,serif\" font-size=\"14.00\">alt_pqrs[0]</text>\n<polygon fill=\"none\" stroke=\"black\" points=\"115,-501 115,-522 183,-522 183,-501 115,-501\"/>\n<text text-anchor=\"start\" x=\"119\" y=\"-507.8\" font-family=\"Times,serif\" font-size=\"14.00\">alt_pqrs[1]</text>\n<polygon fill=\"none\" stroke=\"black\" points=\"115,-480 115,-501 183,-501 183,-480 115,-480\"/>\n<text text-anchor=\"start\" x=\"119\" y=\"-486.8\" font-family=\"Times,serif\" font-size=\"14.00\">alt_pqrs[2]</text>\n<polygon fill=\"none\" stroke=\"black\" points=\"115,-459 115,-480 183,-480 183,-459 115,-459\"/>\n<text text-anchor=\"start\" x=\"119\" y=\"-465.8\" font-family=\"Times,serif\" font-size=\"14.00\">alt_pqrs[3]</text>\n<polygon fill=\"none\" stroke=\"black\" points=\"115,-438 115,-459 183,-459 183,-438 115,-438\"/>\n<text text-anchor=\"start\" x=\"127.5\" y=\"-444.8\" font-family=\"Times,serif\" font-size=\"14.00\">theta[0]</text>\n<polygon fill=\"none\" stroke=\"black\" points=\"115,-417 115,-438 183,-438 183,-417 115,-417\"/>\n<text text-anchor=\"start\" x=\"127.5\" y=\"-423.8\" font-family=\"Times,serif\" font-size=\"14.00\">theta[1]</text>\n<polygon fill=\"none\" stroke=\"black\" points=\"115,-396 115,-417 183,-417 183,-396 115,-396\"/>\n<text text-anchor=\"start\" x=\"136\" y=\"-402.8\" font-family=\"Times,serif\" font-size=\"14.00\">keep</text>\n<polygon fill=\"none\" stroke=\"black\" points=\"115,-375 115,-396 183,-396 183,-375 115,-375\"/>\n<text text-anchor=\"start\" x=\"123.5\" y=\"-381.8\" font-family=\"Times,serif\" font-size=\"14.00\">less_than</text>\n<polygon fill=\"none\" stroke=\"black\" points=\"115,-354 115,-375 183,-375 183,-354 115,-354\"/>\n<text text-anchor=\"start\" x=\"118\" y=\"-360.8\" font-family=\"Times,serif\" font-size=\"14.00\">alt_flag_1b</text>\n</g>\n<!-- d_G63&#45;&gt;PrepareSparse -->\n<g id=\"edge1\" class=\"edge\">\n<title>d_G63:e-&gt;PrepareSparse:w</title>\n<path fill=\"none\" stroke=\"black\" d=\"M67,-1152C79.96,-1152 74.78,-1137.55 78,-1125 80.12,-1116.73 103.9,-832.11 113.76,-807.67\"/>\n<ellipse fill=\"black\" stroke=\"black\" cx=\"114.4\" cy=\"-806.8\" rx=\"1\" ry=\"1\"/>\n<text text-anchor=\"middle\" x=\"96.5\" y=\"-937\" font-family=\"Times,serif\" font-size=\"10.00\">4</text>\n</g>\n<!-- p_G26 -->\n<g id=\"node2\" class=\"node\">\n<title>p_G26</title>\n<text text-anchor=\"middle\" x=\"39\" y=\"-1094.3\" font-family=\"Times,serif\" font-size=\"14.00\">p</text>\n</g>\n<!-- p_G26&#45;&gt;PrepareSparse -->\n<g id=\"edge2\" class=\"edge\">\n<title>p_G26:e-&gt;PrepareSparse:w</title>\n<path fill=\"none\" stroke=\"black\" d=\"M67,-1098C79.96,-1098 74.7,-1083.53 78,-1071 79.95,-1063.62 104.52,-810.49 113.75,-786.78\"/>\n<ellipse fill=\"black\" stroke=\"black\" cx=\"114.43\" cy=\"-785.82\" rx=\"1\" ry=\"1\"/>\n<text text-anchor=\"middle\" x=\"96.5\" y=\"-911\" font-family=\"Times,serif\" font-size=\"10.00\">1</text>\n</g>\n<!-- q_G60 -->\n<g id=\"node3\" class=\"node\">\n<title>q_G60</title>\n<text text-anchor=\"middle\" x=\"39\" y=\"-1040.3\" font-family=\"Times,serif\" font-size=\"14.00\">q</text>\n</g>\n<!-- q_G60&#45;&gt;PrepareSparse -->\n<g id=\"edge3\" class=\"edge\">\n<title>q_G60:e-&gt;PrepareSparse:w</title>\n<path fill=\"none\" stroke=\"black\" d=\"M67,-1044C79.96,-1044 74.59,-1029.5 78,-1017 78.44,-1015.38 109.53,-790.74 114.42,-766.17\"/>\n<ellipse fill=\"black\" stroke=\"black\" cx=\"114.74\" cy=\"-764.97\" rx=\"1\" ry=\"1\"/>\n<text text-anchor=\"middle\" x=\"96.5\" y=\"-892\" font-family=\"Times,serif\" font-size=\"10.00\">1</text>\n</g>\n<!-- r_G27 -->\n<g id=\"node4\" class=\"node\">\n<title>r_G27</title>\n<text text-anchor=\"middle\" x=\"39\" y=\"-986.3\" font-family=\"Times,serif\" font-size=\"14.00\">r</text>\n</g>\n<!-- r_G27&#45;&gt;PrepareSparse -->\n<g id=\"edge4\" class=\"edge\">\n<title>r_G27:e-&gt;PrepareSparse:w</title>\n<path fill=\"none\" stroke=\"black\" d=\"M67,-990C79.96,-990 74.2,-975.39 78,-963 89.98,-923.91 89.97,-913.27 97,-873 99.39,-859.31 100.33,-753.62 113.04,-743.74\"/>\n<ellipse fill=\"black\" stroke=\"black\" cx=\"114.06\" cy=\"-743.35\" rx=\"1\" ry=\"1\"/>\n<text text-anchor=\"middle\" x=\"96.5\" y=\"-880\" font-family=\"Times,serif\" font-size=\"10.00\">1</text>\n</g>\n<!-- s_G57 -->\n<g id=\"node5\" class=\"node\">\n<title>s_G57</title>\n<text text-anchor=\"middle\" x=\"39\" y=\"-932.3\" font-family=\"Times,serif\" font-size=\"14.00\">s</text>\n</g>\n<!-- s_G57&#45;&gt;PrepareSparse -->\n<g id=\"edge5\" class=\"edge\">\n<title>s_G57:e-&gt;PrepareSparse:w</title>\n<path fill=\"none\" stroke=\"black\" d=\"M67,-936C101.67,-936 88.07,-897.5 97,-864 105,-833.98 84.21,-727.17 112.85,-722.18\"/>\n<ellipse fill=\"black\" stroke=\"black\" cx=\"114\" cy=\"-722.08\" rx=\"1\" ry=\"1\"/>\n<text text-anchor=\"middle\" x=\"96.5\" y=\"-871\" font-family=\"Times,serif\" font-size=\"10.00\">1</text>\n</g>\n<!-- sigma_G64 -->\n<g id=\"node6\" class=\"node\">\n<title>sigma_G64</title>\n<text text-anchor=\"middle\" x=\"39\" y=\"-878.3\" font-family=\"Times,serif\" font-size=\"14.00\">sigma</text>\n</g>\n<!-- sigma_G64&#45;&gt;PrepareSparse -->\n<g id=\"edge6\" class=\"edge\">\n<title>sigma_G64:e-&gt;PrepareSparse:w</title>\n<path fill=\"none\" stroke=\"black\" d=\"M67,-882C149.41,-882 34.07,-704.52 112.62,-701.05\"/>\n<ellipse fill=\"black\" stroke=\"black\" cx=\"114\" cy=\"-701.02\" rx=\"1\" ry=\"1\"/>\n<text text-anchor=\"middle\" x=\"96.5\" y=\"-862\" font-family=\"Times,serif\" font-size=\"10.00\">8</text>\n</g>\n<!-- alpha_G6 -->\n<g id=\"node7\" class=\"node\">\n<title>alpha_G6</title>\n<text text-anchor=\"middle\" x=\"39\" y=\"-824.3\" font-family=\"Times,serif\" font-size=\"14.00\">alpha</text>\n</g>\n<!-- alpha_G6&#45;&gt;PrepareSparse -->\n<g id=\"edge7\" class=\"edge\">\n<title>alpha_G6:e-&gt;PrepareSparse:w</title>\n<path fill=\"none\" stroke=\"black\" d=\"M67,-828C135.34,-828 47.94,-683.45 112.63,-680.06\"/>\n<ellipse fill=\"black\" stroke=\"black\" cx=\"114\" cy=\"-680.03\" rx=\"1\" ry=\"1\"/>\n<text text-anchor=\"middle\" x=\"96.5\" y=\"-688\" font-family=\"Times,serif\" font-size=\"10.00\">1</text>\n</g>\n<!-- beta_G4 -->\n<g id=\"node8\" class=\"node\">\n<title>beta_G4</title>\n<text text-anchor=\"middle\" x=\"39\" y=\"-770.3\" font-family=\"Times,serif\" font-size=\"14.00\">beta</text>\n</g>\n<!-- beta_G4&#45;&gt;PrepareSparse -->\n<g id=\"edge8\" class=\"edge\">\n<title>beta_G4:e-&gt;PrepareSparse:w</title>\n<path fill=\"none\" stroke=\"black\" d=\"M67,-774C121.63,-774 61.31,-662.12 112.79,-659.06\"/>\n<ellipse fill=\"black\" stroke=\"black\" cx=\"114\" cy=\"-659.03\" rx=\"1\" ry=\"1\"/>\n<text text-anchor=\"middle\" x=\"96.5\" y=\"-669\" font-family=\"Times,serif\" font-size=\"10.00\">1</text>\n</g>\n<!-- rot_aa_G3 -->\n<g id=\"node9\" class=\"node\">\n<title>rot_aa_G3</title>\n<text text-anchor=\"middle\" x=\"39\" y=\"-716.3\" font-family=\"Times,serif\" font-size=\"14.00\">rot_aa</text>\n</g>\n<!-- rot_aa_G3&#45;&gt;PrepareSparse -->\n<g id=\"edge9\" class=\"edge\">\n<title>rot_aa_G3:e-&gt;PrepareSparse:w</title>\n<path fill=\"none\" stroke=\"black\" d=\"M67,-720C108.4,-720 74.16,-641.17 112.61,-638.09\"/>\n<ellipse fill=\"black\" stroke=\"black\" cx=\"114\" cy=\"-638.04\" rx=\"1\" ry=\"1\"/>\n<text text-anchor=\"middle\" x=\"96.5\" y=\"-652\" font-family=\"Times,serif\" font-size=\"10.00\">1</text>\n</g>\n<!-- swap_pq_G50 -->\n<g id=\"node10\" class=\"node\">\n<title>swap_pq_G50</title>\n<text text-anchor=\"middle\" x=\"39\" y=\"-662.3\" font-family=\"Times,serif\" font-size=\"14.00\">swap_pq</text>\n</g>\n<!-- swap_pq_G50&#45;&gt;PrepareSparse -->\n<g id=\"edge10\" class=\"edge\">\n<title>swap_pq_G50:e-&gt;PrepareSparse:w</title>\n<path fill=\"none\" stroke=\"black\" d=\"M73,-666C100.9,-666 87.12,-619.64 112.74,-617.11\"/>\n<ellipse fill=\"black\" stroke=\"black\" cx=\"114\" cy=\"-617.05\" rx=\"1\" ry=\"1\"/>\n<text text-anchor=\"middle\" x=\"96.5\" y=\"-637\" font-family=\"Times,serif\" font-size=\"10.00\">1</text>\n</g>\n<!-- swap_rs_G58 -->\n<g id=\"node11\" class=\"node\">\n<title>swap_rs_G58</title>\n<text text-anchor=\"middle\" x=\"39\" y=\"-608.3\" font-family=\"Times,serif\" font-size=\"14.00\">swap_rs</text>\n</g>\n<!-- swap_rs_G58&#45;&gt;PrepareSparse -->\n<g id=\"edge11\" class=\"edge\">\n<title>swap_rs_G58:e-&gt;PrepareSparse:w</title>\n<path fill=\"none\" stroke=\"black\" d=\"M71,-612C91,-612 93.98,-597.23 112.64,-596.07\"/>\n<ellipse fill=\"black\" stroke=\"black\" cx=\"114\" cy=\"-596.03\" rx=\"1\" ry=\"1\"/>\n<text text-anchor=\"middle\" x=\"96.5\" y=\"-604\" font-family=\"Times,serif\" font-size=\"10.00\">1</text>\n</g>\n<!-- swap_pqrs_G10 -->\n<g id=\"node12\" class=\"node\">\n<title>swap_pqrs_G10</title>\n<text text-anchor=\"middle\" x=\"39\" y=\"-554.3\" font-family=\"Times,serif\" font-size=\"14.00\">swap_pqrs</text>\n</g>\n<!-- swap_pqrs_G10&#45;&gt;PrepareSparse -->\n<g id=\"edge12\" class=\"edge\">\n<title>swap_pqrs_G10:e-&gt;PrepareSparse:w</title>\n<path fill=\"none\" stroke=\"black\" d=\"M77,-558C94.61,-558 96.54,-572.77 112.93,-573.93\"/>\n<ellipse fill=\"black\" stroke=\"black\" cx=\"114\" cy=\"-573.97\" rx=\"1\" ry=\"1\"/>\n<text text-anchor=\"middle\" x=\"96.5\" y=\"-569\" font-family=\"Times,serif\" font-size=\"10.00\">1</text>\n</g>\n<!-- flag_1b_G7 -->\n<g id=\"node13\" class=\"node\">\n<title>flag_1b_G7</title>\n<text text-anchor=\"middle\" x=\"39\" y=\"-500.3\" font-family=\"Times,serif\" font-size=\"14.00\">flag_1b</text>\n</g>\n<!-- flag_1b_G7&#45;&gt;PrepareSparse -->\n<g id=\"edge13\" class=\"edge\">\n<title>flag_1b_G7:e-&gt;PrepareSparse:w</title>\n<path fill=\"none\" stroke=\"black\" d=\"M69,-504C98.17,-504 85.75,-550.73 112.97,-552.92\"/>\n<ellipse fill=\"black\" stroke=\"black\" cx=\"114\" cy=\"-552.96\" rx=\"1\" ry=\"1\"/>\n<text text-anchor=\"middle\" x=\"96.5\" y=\"-544\" font-family=\"Times,serif\" font-size=\"10.00\">1</text>\n</g>\n<!-- alt_pqrs_G33 -->\n<g id=\"node14\" class=\"node\">\n<title>alt_pqrs_G33</title>\n<text text-anchor=\"middle\" x=\"39\" y=\"-446.3\" font-family=\"Times,serif\" font-size=\"14.00\">alt_pqrs[0]</text>\n</g>\n<!-- alt_pqrs_G33&#45;&gt;PrepareSparse -->\n<g id=\"edge14\" class=\"edge\">\n<title>alt_pqrs_G33:e-&gt;PrepareSparse:w</title>\n<path fill=\"none\" stroke=\"black\" d=\"M78,-450C117.2,-450 76.66,-528.83 112.75,-531.91\"/>\n<ellipse fill=\"black\" stroke=\"black\" cx=\"114\" cy=\"-531.96\" rx=\"1\" ry=\"1\"/>\n<text text-anchor=\"middle\" x=\"96.5\" y=\"-517\" font-family=\"Times,serif\" font-size=\"10.00\">1</text>\n</g>\n<!-- alt_pqrs_G13 -->\n<g id=\"node15\" class=\"node\">\n<title>alt_pqrs_G13</title>\n<text text-anchor=\"middle\" x=\"39\" y=\"-392.3\" font-family=\"Times,serif\" font-size=\"14.00\">alt_pqrs[1]</text>\n</g>\n<!-- alt_pqrs_G13&#45;&gt;PrepareSparse -->\n<g id=\"edge15\" class=\"edge\">\n<title>alt_pqrs_G13:e-&gt;PrepareSparse:w</title>\n<path fill=\"none\" stroke=\"black\" d=\"M78,-396C104.11,-396 89.03,-504.8 112.89,-510.75\"/>\n<ellipse fill=\"black\" stroke=\"black\" cx=\"114.01\" cy=\"-510.88\" rx=\"1\" ry=\"1\"/>\n<text text-anchor=\"middle\" x=\"96.5\" y=\"-459\" font-family=\"Times,serif\" font-size=\"10.00\">1</text>\n</g>\n<!-- alt_pqrs_G51 -->\n<g id=\"node16\" class=\"node\">\n<title>alt_pqrs_G51</title>\n<text text-anchor=\"middle\" x=\"39\" y=\"-338.3\" font-family=\"Times,serif\" font-size=\"14.00\">alt_pqrs[2]</text>\n</g>\n<!-- alt_pqrs_G51&#45;&gt;PrepareSparse -->\n<g id=\"edge16\" class=\"edge\">\n<title>alt_pqrs_G51:e-&gt;PrepareSparse:w</title>\n<path fill=\"none\" stroke=\"black\" d=\"M78,-342C111.11,-342 82.51,-483.14 112.72,-489.76\"/>\n<ellipse fill=\"black\" stroke=\"black\" cx=\"114.01\" cy=\"-489.9\" rx=\"1\" ry=\"1\"/>\n<text text-anchor=\"middle\" x=\"96.5\" y=\"-436\" font-family=\"Times,serif\" font-size=\"10.00\">1</text>\n</g>\n<!-- alt_pqrs_G56 -->\n<g id=\"node17\" class=\"node\">\n<title>alt_pqrs_G56</title>\n<text text-anchor=\"middle\" x=\"39\" y=\"-284.3\" font-family=\"Times,serif\" font-size=\"14.00\">alt_pqrs[3]</text>\n</g>\n<!-- alt_pqrs_G56&#45;&gt;PrepareSparse -->\n<g id=\"edge17\" class=\"edge\">\n<title>alt_pqrs_G56:e-&gt;PrepareSparse:w</title>\n<path fill=\"none\" stroke=\"black\" d=\"M78,-288C97.73,-288 94.75,-455.14 112.7,-468.19\"/>\n<ellipse fill=\"black\" stroke=\"black\" cx=\"114.06\" cy=\"-468.67\" rx=\"1\" ry=\"1\"/>\n<text text-anchor=\"middle\" x=\"96.5\" y=\"-386\" font-family=\"Times,serif\" font-size=\"10.00\">1</text>\n</g>\n<!-- theta_G36 -->\n<g id=\"node18\" class=\"node\">\n<title>theta_G36</title>\n<text text-anchor=\"middle\" x=\"39\" y=\"-230.3\" font-family=\"Times,serif\" font-size=\"14.00\">theta[0]</text>\n</g>\n<!-- theta_G36&#45;&gt;PrepareSparse -->\n<g id=\"edge18\" class=\"edge\">\n<title>theta_G36:e-&gt;PrepareSparse:w</title>\n<path fill=\"none\" stroke=\"black\" d=\"M70,-234C82.52,-234 75,-248.85 78,-261 79.19,-265.82 106.01,-425.96 113.73,-445.96\"/>\n<ellipse fill=\"black\" stroke=\"black\" cx=\"114.47\" cy=\"-447.15\" rx=\"1\" ry=\"1\"/>\n<text text-anchor=\"middle\" x=\"96.5\" y=\"-364\" font-family=\"Times,serif\" font-size=\"10.00\">1</text>\n</g>\n<!-- theta_G16 -->\n<g id=\"node19\" class=\"node\">\n<title>theta_G16</title>\n<text text-anchor=\"middle\" x=\"39\" y=\"-176.3\" font-family=\"Times,serif\" font-size=\"14.00\">theta[1]</text>\n</g>\n<!-- theta_G16&#45;&gt;PrepareSparse -->\n<g id=\"edge19\" class=\"edge\">\n<title>theta_G16:e-&gt;PrepareSparse:w</title>\n<path fill=\"none\" stroke=\"black\" d=\"M70,-180C83.29,-180 99.46,-404.39 113.02,-425.42\"/>\n<ellipse fill=\"black\" stroke=\"black\" cx=\"114.22\" cy=\"-426.38\" rx=\"1\" ry=\"1\"/>\n<text text-anchor=\"middle\" x=\"96.5\" y=\"-335\" font-family=\"Times,serif\" font-size=\"10.00\">1</text>\n</g>\n<!-- keep_G61 -->\n<g id=\"node20\" class=\"node\">\n<title>keep_G61</title>\n<text text-anchor=\"middle\" x=\"39\" y=\"-122.3\" font-family=\"Times,serif\" font-size=\"14.00\">keep</text>\n</g>\n<!-- keep_G61&#45;&gt;PrepareSparse -->\n<g id=\"edge20\" class=\"edge\">\n<title>keep_G61:e-&gt;PrepareSparse:w</title>\n<path fill=\"none\" stroke=\"black\" d=\"M67,-126C79.96,-126 74.59,-140.5 78,-153 81.56,-166.06 99.04,-384.06 112.97,-404.47\"/>\n<ellipse fill=\"black\" stroke=\"black\" cx=\"114.2\" cy=\"-405.4\" rx=\"1\" ry=\"1\"/>\n<text text-anchor=\"middle\" x=\"96.5\" y=\"-323\" font-family=\"Times,serif\" font-size=\"10.00\">8</text>\n</g>\n<!-- less_than_G44 -->\n<g id=\"node21\" class=\"node\">\n<title>less_than_G44</title>\n<text text-anchor=\"middle\" x=\"39\" y=\"-68.3\" font-family=\"Times,serif\" font-size=\"14.00\">less_than</text>\n</g>\n<!-- less_than_G44&#45;&gt;PrepareSparse -->\n<g id=\"edge21\" class=\"edge\">\n<title>less_than_G44:e-&gt;PrepareSparse:w</title>\n<path fill=\"none\" stroke=\"black\" d=\"M74,-72C90.92,-72 97.03,-363.38 113.19,-383.87\"/>\n<ellipse fill=\"black\" stroke=\"black\" cx=\"114.15\" cy=\"-384.47\" rx=\"1\" ry=\"1\"/>\n<text text-anchor=\"middle\" x=\"96.5\" y=\"-259\" font-family=\"Times,serif\" font-size=\"10.00\">1</text>\n</g>\n<!-- alt_flag_1b_G49 -->\n<g id=\"node22\" class=\"node\">\n<title>alt_flag_1b_G49</title>\n<text text-anchor=\"middle\" x=\"39\" y=\"-14.3\" font-family=\"Times,serif\" font-size=\"14.00\">alt_flag_1b</text>\n</g>\n<!-- alt_flag_1b_G49&#45;&gt;PrepareSparse -->\n<g id=\"edge22\" class=\"edge\">\n<title>alt_flag_1b_G49:e-&gt;PrepareSparse:w</title>\n<path fill=\"none\" stroke=\"black\" d=\"M78,-18C96.73,-18 95.75,-342.71 113.25,-363.01\"/>\n<ellipse fill=\"black\" stroke=\"black\" cx=\"114.13\" cy=\"-363.51\" rx=\"1\" ry=\"1\"/>\n<text text-anchor=\"middle\" x=\"96.5\" y=\"-194\" font-family=\"Times,serif\" font-size=\"10.00\">1</text>\n</g>\n<!-- d_G28 -->\n<g id=\"node24\" class=\"node\">\n<title>d_G28</title>\n<text text-anchor=\"middle\" x=\"259\" y=\"-1148.3\" font-family=\"Times,serif\" font-size=\"14.00\">d</text>\n</g>\n<!-- PrepareSparse&#45;&gt;d_G28 -->\n<g id=\"edge23\" class=\"edge\">\n<title>PrepareSparse:e-&gt;d_G28:w</title>\n<path fill=\"none\" stroke=\"black\" d=\"M183,-806C191.92,-806 217.78,-1116.36 220,-1125 223.02,-1136.77 218.66,-1150.2 228.78,-1151.83\"/>\n<ellipse fill=\"black\" stroke=\"black\" cx=\"230\" cy=\"-1151.93\" rx=\"1\" ry=\"1\"/>\n<text text-anchor=\"middle\" x=\"201.5\" y=\"-937\" font-family=\"Times,serif\" font-size=\"10.00\">4</text>\n</g>\n<!-- p_G21 -->\n<g id=\"node25\" class=\"node\">\n<title>p_G21</title>\n<text text-anchor=\"middle\" x=\"259\" y=\"-1094.3\" font-family=\"Times,serif\" font-size=\"14.00\">p</text>\n</g>\n<!-- PrepareSparse&#45;&gt;p_G21 -->\n<g id=\"edge24\" class=\"edge\">\n<title>PrepareSparse:e-&gt;p_G21:w</title>\n<path fill=\"none\" stroke=\"black\" d=\"M183,-785C191.01,-785 217.96,-1063.25 220,-1071 223.1,-1082.75 218.67,-1096.2 228.78,-1097.83\"/>\n<ellipse fill=\"black\" stroke=\"black\" cx=\"230\" cy=\"-1097.93\" rx=\"1\" ry=\"1\"/>\n<text text-anchor=\"middle\" x=\"201.5\" y=\"-911\" font-family=\"Times,serif\" font-size=\"10.00\">1</text>\n</g>\n<!-- q_G23 -->\n<g id=\"node26\" class=\"node\">\n<title>q_G23</title>\n<text text-anchor=\"middle\" x=\"259\" y=\"-1040.3\" font-family=\"Times,serif\" font-size=\"14.00\">q</text>\n</g>\n<!-- PrepareSparse&#45;&gt;q_G23 -->\n<g id=\"edge25\" class=\"edge\">\n<title>PrepareSparse:e-&gt;q_G23:w</title>\n<path fill=\"none\" stroke=\"black\" d=\"M183,-764C184.78,-764 219.53,-1015.29 220,-1017 223.19,-1028.72 218.68,-1042.2 228.78,-1043.83\"/>\n<ellipse fill=\"black\" stroke=\"black\" cx=\"230\" cy=\"-1043.93\" rx=\"1\" ry=\"1\"/>\n<text text-anchor=\"middle\" x=\"201.5\" y=\"-892\" font-family=\"Times,serif\" font-size=\"10.00\">1</text>\n</g>\n<!-- r_G24 -->\n<g id=\"node27\" class=\"node\">\n<title>r_G24</title>\n<text text-anchor=\"middle\" x=\"259\" y=\"-986.3\" font-family=\"Times,serif\" font-size=\"14.00\">r</text>\n</g>\n<!-- PrepareSparse&#45;&gt;r_G24 -->\n<g id=\"edge26\" class=\"edge\">\n<title>PrepareSparse:e-&gt;r_G24:w</title>\n<path fill=\"none\" stroke=\"black\" d=\"M183,-743C197.58,-743 198.49,-858.63 201,-873 208.03,-913.27 208.02,-923.91 220,-963 223.56,-974.61 218.72,-988.18 228.78,-989.83\"/>\n<ellipse fill=\"black\" stroke=\"black\" cx=\"230\" cy=\"-989.92\" rx=\"1\" ry=\"1\"/>\n<text text-anchor=\"middle\" x=\"201.5\" y=\"-880\" font-family=\"Times,serif\" font-size=\"10.00\">1</text>\n</g>\n<!-- s_G18 -->\n<g id=\"node28\" class=\"node\">\n<title>s_G18</title>\n<text text-anchor=\"middle\" x=\"259\" y=\"-932.3\" font-family=\"Times,serif\" font-size=\"14.00\">s</text>\n</g>\n<!-- PrepareSparse&#45;&gt;s_G18 -->\n<g id=\"edge27\" class=\"edge\">\n<title>PrepareSparse:e-&gt;s_G18:w</title>\n<path fill=\"none\" stroke=\"black\" d=\"M183,-722C214.81,-722 192.81,-833.26 201,-864 209.72,-896.71 196.96,-934.2 228.64,-935.94\"/>\n<ellipse fill=\"black\" stroke=\"black\" cx=\"230\" cy=\"-935.97\" rx=\"1\" ry=\"1\"/>\n<text text-anchor=\"middle\" x=\"201.5\" y=\"-871\" font-family=\"Times,serif\" font-size=\"10.00\">1</text>\n</g>\n<!-- sigma_G31 -->\n<g id=\"node29\" class=\"node\">\n<title>sigma_G31</title>\n<text text-anchor=\"middle\" x=\"259\" y=\"-878.3\" font-family=\"Times,serif\" font-size=\"14.00\">sigma</text>\n</g>\n<!-- PrepareSparse&#45;&gt;sigma_G31 -->\n<g id=\"edge28\" class=\"edge\">\n<title>PrepareSparse:e-&gt;sigma_G31:w</title>\n<path fill=\"none\" stroke=\"black\" d=\"M183,-701C265.41,-701 150.07,-878.48 228.62,-881.95\"/>\n<ellipse fill=\"black\" stroke=\"black\" cx=\"230\" cy=\"-881.98\" rx=\"1\" ry=\"1\"/>\n<text text-anchor=\"middle\" x=\"201.5\" y=\"-862\" font-family=\"Times,serif\" font-size=\"10.00\">8</text>\n</g>\n<!-- alpha_G32 -->\n<g id=\"node30\" class=\"node\">\n<title>alpha_G32</title>\n<text text-anchor=\"middle\" x=\"259\" y=\"-824.3\" font-family=\"Times,serif\" font-size=\"14.00\">alpha</text>\n</g>\n<!-- PrepareSparse&#45;&gt;alpha_G32 -->\n<g id=\"edge29\" class=\"edge\">\n<title>PrepareSparse:e-&gt;alpha_G32:w</title>\n<path fill=\"none\" stroke=\"black\" d=\"M183,-680C251.34,-680 163.94,-824.55 228.63,-827.94\"/>\n<ellipse fill=\"black\" stroke=\"black\" cx=\"230\" cy=\"-827.97\" rx=\"1\" ry=\"1\"/>\n<text text-anchor=\"middle\" x=\"201.5\" y=\"-688\" font-family=\"Times,serif\" font-size=\"10.00\">1</text>\n</g>\n<!-- beta_G0 -->\n<g id=\"node31\" class=\"node\">\n<title>beta_G0</title>\n<text text-anchor=\"middle\" x=\"259\" y=\"-770.3\" font-family=\"Times,serif\" font-size=\"14.00\">beta</text>\n</g>\n<!-- PrepareSparse&#45;&gt;beta_G0 -->\n<g id=\"edge30\" class=\"edge\">\n<title>PrepareSparse:e-&gt;beta_G0:w</title>\n<path fill=\"none\" stroke=\"black\" d=\"M183,-659C237.63,-659 177.31,-770.88 228.79,-773.94\"/>\n<ellipse fill=\"black\" stroke=\"black\" cx=\"230\" cy=\"-773.97\" rx=\"1\" ry=\"1\"/>\n<text text-anchor=\"middle\" x=\"201.5\" y=\"-669\" font-family=\"Times,serif\" font-size=\"10.00\">1</text>\n</g>\n<!-- rot_aa_G39 -->\n<g id=\"node32\" class=\"node\">\n<title>rot_aa_G39</title>\n<text text-anchor=\"middle\" x=\"259\" y=\"-716.3\" font-family=\"Times,serif\" font-size=\"14.00\">rot_aa</text>\n</g>\n<!-- PrepareSparse&#45;&gt;rot_aa_G39 -->\n<g id=\"edge31\" class=\"edge\">\n<title>PrepareSparse:e-&gt;rot_aa_G39:w</title>\n<path fill=\"none\" stroke=\"black\" d=\"M183,-638C224.4,-638 190.16,-716.83 228.61,-719.91\"/>\n<ellipse fill=\"black\" stroke=\"black\" cx=\"230\" cy=\"-719.96\" rx=\"1\" ry=\"1\"/>\n<text text-anchor=\"middle\" x=\"201.5\" y=\"-652\" font-family=\"Times,serif\" font-size=\"10.00\">1</text>\n</g>\n<!-- swap_pq_G15 -->\n<g id=\"node33\" class=\"node\">\n<title>swap_pq_G15</title>\n<text text-anchor=\"middle\" x=\"259\" y=\"-662.3\" font-family=\"Times,serif\" font-size=\"14.00\">swap_pq</text>\n</g>\n<!-- PrepareSparse&#45;&gt;swap_pq_G15 -->\n<g id=\"edge32\" class=\"edge\">\n<title>PrepareSparse:e-&gt;swap_pq_G15:w</title>\n<path fill=\"none\" stroke=\"black\" d=\"M183,-617C210.9,-617 197.12,-663.36 222.74,-665.89\"/>\n<ellipse fill=\"black\" stroke=\"black\" cx=\"224\" cy=\"-665.95\" rx=\"1\" ry=\"1\"/>\n<text text-anchor=\"middle\" x=\"201.5\" y=\"-637\" font-family=\"Times,serif\" font-size=\"10.00\">1</text>\n</g>\n<!-- swap_rs_G20 -->\n<g id=\"node34\" class=\"node\">\n<title>swap_rs_G20</title>\n<text text-anchor=\"middle\" x=\"259\" y=\"-608.3\" font-family=\"Times,serif\" font-size=\"14.00\">swap_rs</text>\n</g>\n<!-- PrepareSparse&#45;&gt;swap_rs_G20 -->\n<g id=\"edge33\" class=\"edge\">\n<title>PrepareSparse:e-&gt;swap_rs_G20:w</title>\n<path fill=\"none\" stroke=\"black\" d=\"M183,-596C203,-596 205.98,-610.77 224.64,-611.93\"/>\n<ellipse fill=\"black\" stroke=\"black\" cx=\"226\" cy=\"-611.97\" rx=\"1\" ry=\"1\"/>\n<text text-anchor=\"middle\" x=\"201.5\" y=\"-604\" font-family=\"Times,serif\" font-size=\"10.00\">1</text>\n</g>\n<!-- swap_pqrs_G40 -->\n<g id=\"node35\" class=\"node\">\n<title>swap_pqrs_G40</title>\n<text text-anchor=\"middle\" x=\"259\" y=\"-554.3\" font-family=\"Times,serif\" font-size=\"14.00\">swap_pqrs</text>\n</g>\n<!-- PrepareSparse&#45;&gt;swap_pqrs_G40 -->\n<g id=\"edge34\" class=\"edge\">\n<title>PrepareSparse:e-&gt;swap_pqrs_G40:w</title>\n<path fill=\"none\" stroke=\"black\" d=\"M183,-574C200.61,-574 202.54,-559.23 218.93,-558.07\"/>\n<ellipse fill=\"black\" stroke=\"black\" cx=\"220\" cy=\"-558.03\" rx=\"1\" ry=\"1\"/>\n<text text-anchor=\"middle\" x=\"201.5\" y=\"-569\" font-family=\"Times,serif\" font-size=\"10.00\">1</text>\n</g>\n<!-- flag_1b_G2 -->\n<g id=\"node36\" class=\"node\">\n<title>flag_1b_G2</title>\n<text text-anchor=\"middle\" x=\"259\" y=\"-500.3\" font-family=\"Times,serif\" font-size=\"14.00\">flag_1b</text>\n</g>\n<!-- PrepareSparse&#45;&gt;flag_1b_G2 -->\n<g id=\"edge35\" class=\"edge\">\n<title>PrepareSparse:e-&gt;flag_1b_G2:w</title>\n<path fill=\"none\" stroke=\"black\" d=\"M183,-553C212.17,-553 199.75,-506.27 226.97,-504.08\"/>\n<ellipse fill=\"black\" stroke=\"black\" cx=\"228\" cy=\"-504.04\" rx=\"1\" ry=\"1\"/>\n<text text-anchor=\"middle\" x=\"201.5\" y=\"-544\" font-family=\"Times,serif\" font-size=\"10.00\">1</text>\n</g>\n<!-- alt_pqrs_G30 -->\n<g id=\"node37\" class=\"node\">\n<title>alt_pqrs_G30</title>\n<text text-anchor=\"middle\" x=\"259\" y=\"-446.3\" font-family=\"Times,serif\" font-size=\"14.00\">alt_pqrs[0]</text>\n</g>\n<!-- PrepareSparse&#45;&gt;alt_pqrs_G30 -->\n<g id=\"edge36\" class=\"edge\">\n<title>PrepareSparse:e-&gt;alt_pqrs_G30:w</title>\n<path fill=\"none\" stroke=\"black\" d=\"M183,-532C222.2,-532 181.66,-453.17 217.75,-450.09\"/>\n<ellipse fill=\"black\" stroke=\"black\" cx=\"219\" cy=\"-450.04\" rx=\"1\" ry=\"1\"/>\n<text text-anchor=\"middle\" x=\"201.5\" y=\"-517\" font-family=\"Times,serif\" font-size=\"10.00\">1</text>\n</g>\n<!-- alt_pqrs_G42 -->\n<g id=\"node38\" class=\"node\">\n<title>alt_pqrs_G42</title>\n<text text-anchor=\"middle\" x=\"259\" y=\"-392.3\" font-family=\"Times,serif\" font-size=\"14.00\">alt_pqrs[1]</text>\n</g>\n<!-- PrepareSparse&#45;&gt;alt_pqrs_G42 -->\n<g id=\"edge37\" class=\"edge\">\n<title>PrepareSparse:e-&gt;alt_pqrs_G42:w</title>\n<path fill=\"none\" stroke=\"black\" d=\"M183,-511C209.11,-511 194.03,-402.2 217.89,-396.25\"/>\n<ellipse fill=\"black\" stroke=\"black\" cx=\"219.01\" cy=\"-396.12\" rx=\"1\" ry=\"1\"/>\n<text text-anchor=\"middle\" x=\"201.5\" y=\"-459\" font-family=\"Times,serif\" font-size=\"10.00\">1</text>\n</g>\n<!-- alt_pqrs_G11 -->\n<g id=\"node39\" class=\"node\">\n<title>alt_pqrs_G11</title>\n<text text-anchor=\"middle\" x=\"259\" y=\"-338.3\" font-family=\"Times,serif\" font-size=\"14.00\">alt_pqrs[2]</text>\n</g>\n<!-- PrepareSparse&#45;&gt;alt_pqrs_G11 -->\n<g id=\"edge38\" class=\"edge\">\n<title>PrepareSparse:e-&gt;alt_pqrs_G11:w</title>\n<path fill=\"none\" stroke=\"black\" d=\"M183,-490C216.11,-490 187.51,-348.86 217.72,-342.24\"/>\n<ellipse fill=\"black\" stroke=\"black\" cx=\"219.01\" cy=\"-342.1\" rx=\"1\" ry=\"1\"/>\n<text text-anchor=\"middle\" x=\"201.5\" y=\"-436\" font-family=\"Times,serif\" font-size=\"10.00\">1</text>\n</g>\n<!-- alt_pqrs_G53 -->\n<g id=\"node40\" class=\"node\">\n<title>alt_pqrs_G53</title>\n<text text-anchor=\"middle\" x=\"259\" y=\"-284.3\" font-family=\"Times,serif\" font-size=\"14.00\">alt_pqrs[3]</text>\n</g>\n<!-- PrepareSparse&#45;&gt;alt_pqrs_G53 -->\n<g id=\"edge39\" class=\"edge\">\n<title>PrepareSparse:e-&gt;alt_pqrs_G53:w</title>\n<path fill=\"none\" stroke=\"black\" d=\"M183,-469C202.73,-469 199.75,-301.86 217.7,-288.81\"/>\n<ellipse fill=\"black\" stroke=\"black\" cx=\"219.06\" cy=\"-288.33\" rx=\"1\" ry=\"1\"/>\n<text text-anchor=\"middle\" x=\"201.5\" y=\"-386\" font-family=\"Times,serif\" font-size=\"10.00\">1</text>\n</g>\n<!-- theta_G35 -->\n<g id=\"node41\" class=\"node\">\n<title>theta_G35</title>\n<text text-anchor=\"middle\" x=\"259\" y=\"-230.3\" font-family=\"Times,serif\" font-size=\"14.00\">theta[0]</text>\n</g>\n<!-- PrepareSparse&#45;&gt;theta_G35 -->\n<g id=\"edge40\" class=\"edge\">\n<title>PrepareSparse:e-&gt;theta_G35:w</title>\n<path fill=\"none\" stroke=\"black\" d=\"M183,-448C188.3,-448 218.73,-266.14 220,-261 222.81,-249.61 216.38,-235.85 225.88,-234.17\"/>\n<ellipse fill=\"black\" stroke=\"black\" cx=\"227\" cy=\"-234.08\" rx=\"1\" ry=\"1\"/>\n<text text-anchor=\"middle\" x=\"201.5\" y=\"-364\" font-family=\"Times,serif\" font-size=\"10.00\">1</text>\n</g>\n<!-- theta_G14 -->\n<g id=\"node42\" class=\"node\">\n<title>theta_G14</title>\n<text text-anchor=\"middle\" x=\"259\" y=\"-176.3\" font-family=\"Times,serif\" font-size=\"14.00\">theta[1]</text>\n</g>\n<!-- PrepareSparse&#45;&gt;theta_G14 -->\n<g id=\"edge41\" class=\"edge\">\n<title>PrepareSparse:e-&gt;theta_G14:w</title>\n<path fill=\"none\" stroke=\"black\" d=\"M183,-427C196.29,-427 212.46,-202.61 226.02,-181.58\"/>\n<ellipse fill=\"black\" stroke=\"black\" cx=\"227.22\" cy=\"-180.62\" rx=\"1\" ry=\"1\"/>\n<text text-anchor=\"middle\" x=\"201.5\" y=\"-335\" font-family=\"Times,serif\" font-size=\"10.00\">1</text>\n</g>\n<!-- keep_G25 -->\n<g id=\"node43\" class=\"node\">\n<title>keep_G25</title>\n<text text-anchor=\"middle\" x=\"259\" y=\"-122.3\" font-family=\"Times,serif\" font-size=\"14.00\">keep</text>\n</g>\n<!-- PrepareSparse&#45;&gt;keep_G25 -->\n<g id=\"edge42\" class=\"edge\">\n<title>PrepareSparse:e-&gt;keep_G25:w</title>\n<path fill=\"none\" stroke=\"black\" d=\"M183,-406C197.21,-406 216.27,-166.71 220,-153 223.19,-141.28 218.68,-127.8 228.78,-126.17\"/>\n<ellipse fill=\"black\" stroke=\"black\" cx=\"230\" cy=\"-126.07\" rx=\"1\" ry=\"1\"/>\n<text text-anchor=\"middle\" x=\"201.5\" y=\"-323\" font-family=\"Times,serif\" font-size=\"10.00\">8</text>\n</g>\n<!-- less_than_G12 -->\n<g id=\"node44\" class=\"node\">\n<title>less_than_G12</title>\n<text text-anchor=\"middle\" x=\"259\" y=\"-68.3\" font-family=\"Times,serif\" font-size=\"14.00\">less_than</text>\n</g>\n<!-- PrepareSparse&#45;&gt;less_than_G12 -->\n<g id=\"edge43\" class=\"edge\">\n<title>PrepareSparse:e-&gt;less_than_G12:w</title>\n<path fill=\"none\" stroke=\"black\" d=\"M183,-385C199.92,-385 206.03,-93.62 222.19,-73.13\"/>\n<ellipse fill=\"black\" stroke=\"black\" cx=\"223.15\" cy=\"-72.53\" rx=\"1\" ry=\"1\"/>\n<text text-anchor=\"middle\" x=\"201.5\" y=\"-259\" font-family=\"Times,serif\" font-size=\"10.00\">1</text>\n</g>\n<!-- alt_flag_1b_G46 -->\n<g id=\"node45\" class=\"node\">\n<title>alt_flag_1b_G46</title>\n<text text-anchor=\"middle\" x=\"259\" y=\"-14.3\" font-family=\"Times,serif\" font-size=\"14.00\">alt_flag_1b</text>\n</g>\n<!-- PrepareSparse&#45;&gt;alt_flag_1b_G46 -->\n<g id=\"edge44\" class=\"edge\">\n<title>PrepareSparse:e-&gt;alt_flag_1b_G46:w</title>\n<path fill=\"none\" stroke=\"black\" d=\"M183,-364C201.73,-364 200.75,-39.29 218.25,-18.99\"/>\n<ellipse fill=\"black\" stroke=\"black\" cx=\"219.13\" cy=\"-18.49\" rx=\"1\" ry=\"1\"/>\n<text text-anchor=\"middle\" x=\"201.5\" y=\"-194\" font-family=\"Times,serif\" font-size=\"10.00\">1</text>\n</g>\n</g>\n</svg>",
          "text/plain": "<IPython.core.display.SVG object>"
         },
         "metadata": {},
         "output_type": "display_data"
        }
       ],
       "tabbable": null,
       "tooltip": null
      }
     },
     "d588229c7fd04b96a6d6d350132e2cc4": {
      "model_module": "@jupyter-widgets/base",
      "model_module_version": "2.0.0",
      "model_name": "LayoutModel",
      "state": {
       "_model_module": "@jupyter-widgets/base",
       "_model_module_version": "2.0.0",
       "_model_name": "LayoutModel",
       "_view_count": null,
       "_view_module": "@jupyter-widgets/base",
       "_view_module_version": "2.0.0",
       "_view_name": "LayoutView",
       "align_content": null,
       "align_items": null,
       "align_self": null,
       "border_bottom": null,
       "border_left": null,
       "border_right": null,
       "border_top": null,
       "bottom": null,
       "display": null,
       "flex": null,
       "flex_flow": null,
       "grid_area": null,
       "grid_auto_columns": null,
       "grid_auto_flow": null,
       "grid_auto_rows": null,
       "grid_column": null,
       "grid_gap": null,
       "grid_row": null,
       "grid_template_areas": null,
       "grid_template_columns": null,
       "grid_template_rows": null,
       "height": null,
       "justify_content": null,
       "justify_items": null,
       "left": null,
       "margin": null,
       "max_height": null,
       "max_width": null,
       "min_height": null,
       "min_width": null,
       "object_fit": null,
       "object_position": null,
       "order": null,
       "overflow": null,
       "padding": null,
       "right": null,
       "top": null,
       "visibility": null,
       "width": null
      }
     },
     "f131b61e9cf24c8a96609f3be77420fe": {
      "model_module": "@jupyter-widgets/output",
      "model_module_version": "1.0.0",
      "model_name": "OutputModel",
      "state": {
       "_dom_classes": [],
       "_model_module": "@jupyter-widgets/output",
       "_model_module_version": "1.0.0",
       "_model_name": "OutputModel",
       "_view_count": null,
       "_view_module": "@jupyter-widgets/output",
       "_view_module_version": "1.0.0",
       "_view_name": "OutputView",
       "layout": "IPY_MODEL_d588229c7fd04b96a6d6d350132e2cc4",
       "msg_id": "",
       "outputs": [
        {
         "data": {
          "text/markdown": "`sel_sparse`",
          "text/plain": "<IPython.core.display.Markdown object>"
         },
         "metadata": {},
         "output_type": "display_data"
        },
        {
         "data": {
          "image/svg+xml": "<svg xmlns=\"http://www.w3.org/2000/svg\" xmlns:xlink=\"http://www.w3.org/1999/xlink\" width=\"256pt\" height=\"422pt\" viewBox=\"0.00 0.00 256.00 422.00\">\n<g id=\"graph0\" class=\"graph\" transform=\"scale(1 1) rotate(0) translate(4 418)\">\n<title>my_graph</title>\n<polygon fill=\"white\" stroke=\"transparent\" points=\"-4,4 -4,-418 252,-418 252,4 -4,4\"/>\n<!-- p_G18 -->\n<g id=\"node1\" class=\"node\">\n<title>p_G18</title>\n<text text-anchor=\"middle\" x=\"29\" y=\"-392.3\" font-family=\"Times,serif\" font-size=\"14.00\">p</text>\n</g>\n<!-- SelectSparse -->\n<g id=\"node9\" class=\"node\">\n<title>SelectSparse</title>\n<polygon fill=\"none\" stroke=\"black\" points=\"95,-291 95,-308 153,-308 153,-291 95,-291\"/>\n<text text-anchor=\"start\" x=\"98\" y=\"-297\" font-family=\"Times,serif\" font-size=\"10.00\">SelectSparse</text>\n<polygon fill=\"none\" stroke=\"black\" points=\"95,-270 95,-291 153,-291 153,-270 95,-270\"/>\n<text text-anchor=\"start\" x=\"120.5\" y=\"-276.8\" font-family=\"Times,serif\" font-size=\"14.00\">p</text>\n<polygon fill=\"none\" stroke=\"black\" points=\"95,-249 95,-270 153,-270 153,-249 95,-249\"/>\n<text text-anchor=\"start\" x=\"120.5\" y=\"-255.8\" font-family=\"Times,serif\" font-size=\"14.00\">q</text>\n<polygon fill=\"none\" stroke=\"black\" points=\"95,-228 95,-249 153,-249 153,-228 95,-228\"/>\n<text text-anchor=\"start\" x=\"121.5\" y=\"-234.8\" font-family=\"Times,serif\" font-size=\"14.00\">r</text>\n<polygon fill=\"none\" stroke=\"black\" points=\"95,-207 95,-228 153,-228 153,-207 95,-207\"/>\n<text text-anchor=\"start\" x=\"121\" y=\"-213.8\" font-family=\"Times,serif\" font-size=\"14.00\">s</text>\n<polygon fill=\"none\" stroke=\"black\" points=\"95,-186 95,-207 153,-207 153,-186 95,-186\"/>\n<text text-anchor=\"start\" x=\"109\" y=\"-192.8\" font-family=\"Times,serif\" font-size=\"14.00\">alpha</text>\n<polygon fill=\"none\" stroke=\"black\" points=\"95,-165 95,-186 153,-186 153,-165 95,-165\"/>\n<text text-anchor=\"start\" x=\"112.5\" y=\"-171.8\" font-family=\"Times,serif\" font-size=\"14.00\">beta</text>\n<polygon fill=\"none\" stroke=\"black\" points=\"95,-144 95,-165 153,-165 153,-144 95,-144\"/>\n<text text-anchor=\"start\" x=\"103\" y=\"-150.8\" font-family=\"Times,serif\" font-size=\"14.00\">flag_1b</text>\n<polygon fill=\"none\" stroke=\"black\" points=\"95,-123 95,-144 153,-144 153,-123 95,-123\"/>\n<text text-anchor=\"start\" x=\"115\" y=\"-129.8\" font-family=\"Times,serif\" font-size=\"14.00\">sys</text>\n</g>\n<!-- p_G18&#45;&gt;SelectSparse -->\n<g id=\"edge1\" class=\"edge\">\n<title>p_G18:e-&gt;SelectSparse:w</title>\n<path fill=\"none\" stroke=\"black\" d=\"M57,-396C83.18,-396 68.92,-287.2 92.89,-281.25\"/>\n<ellipse fill=\"black\" stroke=\"black\" cx=\"94.01\" cy=\"-281.12\" rx=\"1\" ry=\"1\"/>\n<text text-anchor=\"middle\" x=\"76.5\" y=\"-341\" font-family=\"Times,serif\" font-size=\"10.00\">1</text>\n</g>\n<!-- q_G9 -->\n<g id=\"node2\" class=\"node\">\n<title>q_G9</title>\n<text text-anchor=\"middle\" x=\"29\" y=\"-338.3\" font-family=\"Times,serif\" font-size=\"14.00\">q</text>\n</g>\n<!-- q_G9&#45;&gt;SelectSparse -->\n<g id=\"edge2\" class=\"edge\">\n<title>q_G9:e-&gt;SelectSparse:w</title>\n<path fill=\"none\" stroke=\"black\" d=\"M57,-342C96.38,-342 56.45,-263.17 92.74,-260.09\"/>\n<ellipse fill=\"black\" stroke=\"black\" cx=\"94\" cy=\"-260.04\" rx=\"1\" ry=\"1\"/>\n<text text-anchor=\"middle\" x=\"76.5\" y=\"-320\" font-family=\"Times,serif\" font-size=\"10.00\">1</text>\n</g>\n<!-- r_G19 -->\n<g id=\"node3\" class=\"node\">\n<title>r_G19</title>\n<text text-anchor=\"middle\" x=\"29\" y=\"-284.3\" font-family=\"Times,serif\" font-size=\"14.00\">r</text>\n</g>\n<!-- r_G19&#45;&gt;SelectSparse -->\n<g id=\"edge3\" class=\"edge\">\n<title>r_G19:e-&gt;SelectSparse:w</title>\n<path fill=\"none\" stroke=\"black\" d=\"M57,-288C83.81,-288 68.34,-241.64 92.84,-239.11\"/>\n<ellipse fill=\"black\" stroke=\"black\" cx=\"94\" cy=\"-239.05\" rx=\"1\" ry=\"1\"/>\n<text text-anchor=\"middle\" x=\"76.5\" y=\"-266\" font-family=\"Times,serif\" font-size=\"10.00\">1</text>\n</g>\n<!-- s_G4 -->\n<g id=\"node4\" class=\"node\">\n<title>s_G4</title>\n<text text-anchor=\"middle\" x=\"29\" y=\"-230.3\" font-family=\"Times,serif\" font-size=\"14.00\">s</text>\n</g>\n<!-- s_G4&#45;&gt;SelectSparse -->\n<g id=\"edge4\" class=\"edge\">\n<title>s_G4:e-&gt;SelectSparse:w</title>\n<path fill=\"none\" stroke=\"black\" d=\"M57,-234C74.61,-234 76.54,-219.23 92.93,-218.07\"/>\n<ellipse fill=\"black\" stroke=\"black\" cx=\"94\" cy=\"-218.03\" rx=\"1\" ry=\"1\"/>\n<text text-anchor=\"middle\" x=\"76.5\" y=\"-229\" font-family=\"Times,serif\" font-size=\"10.00\">1</text>\n</g>\n<!-- alpha_G5 -->\n<g id=\"node5\" class=\"node\">\n<title>alpha_G5</title>\n<text text-anchor=\"middle\" x=\"29\" y=\"-176.3\" font-family=\"Times,serif\" font-size=\"14.00\">alpha</text>\n</g>\n<!-- alpha_G5&#45;&gt;SelectSparse -->\n<g id=\"edge5\" class=\"edge\">\n<title>alpha_G5:e-&gt;SelectSparse:w</title>\n<path fill=\"none\" stroke=\"black\" d=\"M57,-180C74.61,-180 76.54,-194.77 92.93,-195.93\"/>\n<ellipse fill=\"black\" stroke=\"black\" cx=\"94\" cy=\"-195.97\" rx=\"1\" ry=\"1\"/>\n<text text-anchor=\"middle\" x=\"76.5\" y=\"-191\" font-family=\"Times,serif\" font-size=\"10.00\">1</text>\n</g>\n<!-- beta_G3 -->\n<g id=\"node6\" class=\"node\">\n<title>beta_G3</title>\n<text text-anchor=\"middle\" x=\"29\" y=\"-122.3\" font-family=\"Times,serif\" font-size=\"14.00\">beta</text>\n</g>\n<!-- beta_G3&#45;&gt;SelectSparse -->\n<g id=\"edge6\" class=\"edge\">\n<title>beta_G3:e-&gt;SelectSparse:w</title>\n<path fill=\"none\" stroke=\"black\" d=\"M57,-126C83.81,-126 68.34,-172.36 92.84,-174.89\"/>\n<ellipse fill=\"black\" stroke=\"black\" cx=\"94\" cy=\"-174.95\" rx=\"1\" ry=\"1\"/>\n<text text-anchor=\"middle\" x=\"76.5\" y=\"-157\" font-family=\"Times,serif\" font-size=\"10.00\">1</text>\n</g>\n<!-- flag_1b_G8 -->\n<g id=\"node7\" class=\"node\">\n<title>flag_1b_G8</title>\n<text text-anchor=\"middle\" x=\"29\" y=\"-68.3\" font-family=\"Times,serif\" font-size=\"14.00\">flag_1b</text>\n</g>\n<!-- flag_1b_G8&#45;&gt;SelectSparse -->\n<g id=\"edge7\" class=\"edge\">\n<title>flag_1b_G8:e-&gt;SelectSparse:w</title>\n<path fill=\"none\" stroke=\"black\" d=\"M58,-72C97.2,-72 56.66,-150.83 92.75,-153.91\"/>\n<ellipse fill=\"black\" stroke=\"black\" cx=\"94\" cy=\"-153.96\" rx=\"1\" ry=\"1\"/>\n<text text-anchor=\"middle\" x=\"76.5\" y=\"-139\" font-family=\"Times,serif\" font-size=\"10.00\">1</text>\n</g>\n<!-- sys_G14 -->\n<g id=\"node8\" class=\"node\">\n<title>sys_G14</title>\n<text text-anchor=\"middle\" x=\"29\" y=\"-14.3\" font-family=\"Times,serif\" font-size=\"14.00\">sys</text>\n</g>\n<!-- sys_G14&#45;&gt;SelectSparse -->\n<g id=\"edge8\" class=\"edge\">\n<title>sys_G14:e-&gt;SelectSparse:w</title>\n<path fill=\"none\" stroke=\"black\" d=\"M57,-18C69.83,-18 80.5,-122.47 93.12,-132.27\"/>\n<ellipse fill=\"black\" stroke=\"black\" cx=\"94.07\" cy=\"-132.64\" rx=\"1\" ry=\"1\"/>\n<text text-anchor=\"middle\" x=\"76.5\" y=\"-82\" font-family=\"Times,serif\" font-size=\"10.00\">4</text>\n</g>\n<!-- p_G11 -->\n<g id=\"node10\" class=\"node\">\n<title>p_G11</title>\n<text text-anchor=\"middle\" x=\"219\" y=\"-392.3\" font-family=\"Times,serif\" font-size=\"14.00\">p</text>\n</g>\n<!-- SelectSparse&#45;&gt;p_G11 -->\n<g id=\"edge9\" class=\"edge\">\n<title>SelectSparse:e-&gt;p_G11:w</title>\n<path fill=\"none\" stroke=\"black\" d=\"M153,-281C179.18,-281 164.92,-389.8 188.89,-395.75\"/>\n<ellipse fill=\"black\" stroke=\"black\" cx=\"190.01\" cy=\"-395.88\" rx=\"1\" ry=\"1\"/>\n<text text-anchor=\"middle\" x=\"171.5\" y=\"-341\" font-family=\"Times,serif\" font-size=\"10.00\">1</text>\n</g>\n<!-- q_G13 -->\n<g id=\"node11\" class=\"node\">\n<title>q_G13</title>\n<text text-anchor=\"middle\" x=\"219\" y=\"-338.3\" font-family=\"Times,serif\" font-size=\"14.00\">q</text>\n</g>\n<!-- SelectSparse&#45;&gt;q_G13 -->\n<g id=\"edge10\" class=\"edge\">\n<title>SelectSparse:e-&gt;q_G13:w</title>\n<path fill=\"none\" stroke=\"black\" d=\"M153,-260C192.38,-260 152.45,-338.83 188.74,-341.91\"/>\n<ellipse fill=\"black\" stroke=\"black\" cx=\"190\" cy=\"-341.96\" rx=\"1\" ry=\"1\"/>\n<text text-anchor=\"middle\" x=\"171.5\" y=\"-320\" font-family=\"Times,serif\" font-size=\"10.00\">1</text>\n</g>\n<!-- r_G16 -->\n<g id=\"node12\" class=\"node\">\n<title>r_G16</title>\n<text text-anchor=\"middle\" x=\"219\" y=\"-284.3\" font-family=\"Times,serif\" font-size=\"14.00\">r</text>\n</g>\n<!-- SelectSparse&#45;&gt;r_G16 -->\n<g id=\"edge11\" class=\"edge\">\n<title>SelectSparse:e-&gt;r_G16:w</title>\n<path fill=\"none\" stroke=\"black\" d=\"M153,-239C179.81,-239 164.34,-285.36 188.84,-287.89\"/>\n<ellipse fill=\"black\" stroke=\"black\" cx=\"190\" cy=\"-287.95\" rx=\"1\" ry=\"1\"/>\n<text text-anchor=\"middle\" x=\"171.5\" y=\"-266\" font-family=\"Times,serif\" font-size=\"10.00\">1</text>\n</g>\n<!-- s_G6 -->\n<g id=\"node13\" class=\"node\">\n<title>s_G6</title>\n<text text-anchor=\"middle\" x=\"219\" y=\"-230.3\" font-family=\"Times,serif\" font-size=\"14.00\">s</text>\n</g>\n<!-- SelectSparse&#45;&gt;s_G6 -->\n<g id=\"edge12\" class=\"edge\">\n<title>SelectSparse:e-&gt;s_G6:w</title>\n<path fill=\"none\" stroke=\"black\" d=\"M153,-218C170.61,-218 172.54,-232.77 188.93,-233.93\"/>\n<ellipse fill=\"black\" stroke=\"black\" cx=\"190\" cy=\"-233.97\" rx=\"1\" ry=\"1\"/>\n<text text-anchor=\"middle\" x=\"171.5\" y=\"-229\" font-family=\"Times,serif\" font-size=\"10.00\">1</text>\n</g>\n<!-- alpha_G22 -->\n<g id=\"node14\" class=\"node\">\n<title>alpha_G22</title>\n<text text-anchor=\"middle\" x=\"219\" y=\"-176.3\" font-family=\"Times,serif\" font-size=\"14.00\">alpha</text>\n</g>\n<!-- SelectSparse&#45;&gt;alpha_G22 -->\n<g id=\"edge13\" class=\"edge\">\n<title>SelectSparse:e-&gt;alpha_G22:w</title>\n<path fill=\"none\" stroke=\"black\" d=\"M153,-196C170.61,-196 172.54,-181.23 188.93,-180.07\"/>\n<ellipse fill=\"black\" stroke=\"black\" cx=\"190\" cy=\"-180.03\" rx=\"1\" ry=\"1\"/>\n<text text-anchor=\"middle\" x=\"171.5\" y=\"-191\" font-family=\"Times,serif\" font-size=\"10.00\">1</text>\n</g>\n<!-- beta_G0 -->\n<g id=\"node15\" class=\"node\">\n<title>beta_G0</title>\n<text text-anchor=\"middle\" x=\"219\" y=\"-122.3\" font-family=\"Times,serif\" font-size=\"14.00\">beta</text>\n</g>\n<!-- SelectSparse&#45;&gt;beta_G0 -->\n<g id=\"edge14\" class=\"edge\">\n<title>SelectSparse:e-&gt;beta_G0:w</title>\n<path fill=\"none\" stroke=\"black\" d=\"M153,-175C179.81,-175 164.34,-128.64 188.84,-126.11\"/>\n<ellipse fill=\"black\" stroke=\"black\" cx=\"190\" cy=\"-126.05\" rx=\"1\" ry=\"1\"/>\n<text text-anchor=\"middle\" x=\"171.5\" y=\"-157\" font-family=\"Times,serif\" font-size=\"10.00\">1</text>\n</g>\n<!-- flag_1b_G1 -->\n<g id=\"node16\" class=\"node\">\n<title>flag_1b_G1</title>\n<text text-anchor=\"middle\" x=\"219\" y=\"-68.3\" font-family=\"Times,serif\" font-size=\"14.00\">flag_1b</text>\n</g>\n<!-- SelectSparse&#45;&gt;flag_1b_G1 -->\n<g id=\"edge15\" class=\"edge\">\n<title>SelectSparse:e-&gt;flag_1b_G1:w</title>\n<path fill=\"none\" stroke=\"black\" d=\"M153,-154C192.2,-154 151.66,-75.17 187.75,-72.09\"/>\n<ellipse fill=\"black\" stroke=\"black\" cx=\"189\" cy=\"-72.04\" rx=\"1\" ry=\"1\"/>\n<text text-anchor=\"middle\" x=\"171.5\" y=\"-139\" font-family=\"Times,serif\" font-size=\"10.00\">1</text>\n</g>\n<!-- sys_G2 -->\n<g id=\"node17\" class=\"node\">\n<title>sys_G2</title>\n<text text-anchor=\"middle\" x=\"219\" y=\"-14.3\" font-family=\"Times,serif\" font-size=\"14.00\">sys</text>\n</g>\n<!-- SelectSparse&#45;&gt;sys_G2 -->\n<g id=\"edge16\" class=\"edge\">\n<title>SelectSparse:e-&gt;sys_G2:w</title>\n<path fill=\"none\" stroke=\"black\" d=\"M153,-133C165.83,-133 176.5,-28.53 189.12,-18.73\"/>\n<ellipse fill=\"black\" stroke=\"black\" cx=\"190.07\" cy=\"-18.36\" rx=\"1\" ry=\"1\"/>\n<text text-anchor=\"middle\" x=\"171.5\" y=\"-82\" font-family=\"Times,serif\" font-size=\"10.00\">4</text>\n</g>\n</g>\n</svg>",
          "text/plain": "<IPython.core.display.SVG object>"
         },
         "metadata": {},
         "output_type": "display_data"
        }
       ],
       "tabbable": null,
       "tooltip": null
      }
     }
    },
    "version_major": 2,
    "version_minor": 0
   }
  }
 },
 "nbformat": 4,
 "nbformat_minor": 5
}
