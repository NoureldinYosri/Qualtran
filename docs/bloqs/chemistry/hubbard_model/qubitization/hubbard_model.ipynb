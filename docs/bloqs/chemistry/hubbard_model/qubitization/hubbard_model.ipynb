{
 "cells": [
  {
   "cell_type": "markdown",
   "id": "69133d73",
   "metadata": {
    "cq.autogen": "title_cell"
   },
   "source": [
    "# Qubitized Hubbard Model\n",
    "\n",
    "Simulating the Hubbard model Hamiltonian using qubitization.\n",
    "\n",
    "This module follows section V. of Encoding Electronic Spectra in Quantum Circuits with Linear T\n",
    "Complexity. Babbush et. al. 2018. [arxiv:1805.03662](https://arxiv.org/abs/1805.03662).\n",
    "\n",
    "The 2D Hubbard model is a special case of the electronic structure Hamiltonian\n",
    "restricted to spins on a planar grid.\n",
    "\n",
    "$$\n",
    "H = -t \\sum_{\\langle p,q \\rangle, \\sigma} a_{p,\\sigma}^\\dagger a_{q,\\sigma}\n",
    "    + \\frac{u}{2} \\sum_{p,\\alpha\\ne\\beta} n_{p, \\alpha} n_{p, \\beta}\n",
    "$$\n",
    "\n",
    "Under the Jordan-Wigner transformation to Pauli operators, this is\n",
    "\n",
    "$$\n",
    "\\def\\Zvec{\\overrightarrow{Z}}\n",
    "\\def\\hop#1{#1_{p,\\sigma} \\Zvec #1_{q,\\sigma}}\n",
    "H = -\\frac{t}{2} \\sum_{\\langle p,q \\rangle, \\sigma} (\\hop{X} + \\hop{Y})\n",
    "  + \\frac{u}{8} \\sum_{p,\\alpha\\ne\\beta} Z_{p,\\alpha}Z_{p,\\beta}\n",
    "  - \\frac{u}{4} \\sum_{p,\\sigma} Z_{p,\\sigma} + \\frac{uN}{4}\\mathbb{1}\n",
    "$$\n",
    "\n",
    "This can be simulated using a qubitization circuit, which consists of PREPARE and SELECT\n",
    "operations. This module contains `SelectHubbard` and `PrepareHubbard`, with particular\n",
    "compilation optimizations for the Hubbard model. For more insight into how Select and Prepare\n",
    "operations can be combined into a quantum walk, please see\n",
    "[Qubitization Walk Operator](./qubitization_walk_operator.ipynb).\n",
    "\n",
    "With these operators, our selection register has indices\n",
    "for $p$, $\\alpha$, $q$, and $\\beta$ as well as two indicator bits $U$ and $V$. There are four cases\n",
    "considered in both the PREPARE and SELECT operations corresponding to the terms in the Hamiltonian:\n",
    "\n",
    " - $U=1$, single-body Z\n",
    " - $V=1$, spin-spin ZZ term\n",
    " - $p<q$, XZX term\n",
    " - $p>q$, YZY term."
   ]
  },
  {
   "cell_type": "code",
   "execution_count": 1,
   "id": "1159189f",
   "metadata": {
    "cq.autogen": "top_imports"
   },
   "outputs": [],
   "source": [
    "from qualtran import Bloq, CompositeBloq, BloqBuilder, Signature, Register\n",
    "from qualtran import QBit, QInt, QUInt, QAny\n",
    "from qualtran.drawing import show_bloq, show_call_graph, show_counts_sigma\n",
    "from typing import *\n",
    "import numpy as np\n",
    "import sympy\n",
    "import cirq"
   ]
  },
  {
   "cell_type": "markdown",
   "id": "b715659d",
   "metadata": {
    "cq.autogen": "SelectHubbard.bloq_doc.md"
   },
   "source": [
    "## `SelectHubbard`\n",
    "The SELECT operation optimized for the 2D Hubbard model.\n",
    "\n",
    "In contrast to SELECT for an arbitrary chemistry Hamiltonian, we:\n",
    " - explicitly consider the two dimensions of indices to permit optimization of the circuits.\n",
    " - dispense with the `theta` index for phases.\n",
    "\n",
    "If neither $U$ nor $V$ is set we apply the kinetic terms of the Hamiltonian:\n",
    "\n",
    "$$\n",
    "-\\hop{X} \\quad p < q \\\\\n",
    "-\\hop{Y} \\quad p > q\n",
    "$$\n",
    "\n",
    "If $U$ is set we know $(p,\\alpha)=(q,\\beta)$ and apply the single-body term: $-Z_{p,\\alpha}$.\n",
    "If $V$ is set we know $p=q, \\alpha=0$, and $\\beta=1$ and apply the spin term:\n",
    "$Z_{p,\\alpha}Z_{p,\\beta}$\n",
    "\n",
    "`SelectHubbard`'s construction uses $10 * N + log(N)$ T-gates.\n",
    "\n",
    "#### Parameters\n",
    " - `x_dim`: the number of sites along the x axis.\n",
    " - `y_dim`: the number of sites along the y axis.\n",
    " - `control_val`: Optional bit specifying the control value for constructing a controlled version of this gate. Defaults to None, which means un-controlled. \n",
    "\n",
    "#### Registers\n",
    " - `control`: A control bit for the entire gate.\n",
    " - `U`: Whether we're applying the single-site part of the potential.\n",
    " - `V`: Whether we're applying the pairwise part of the potential.\n",
    " - `p_x`: First set of site indices, x component.\n",
    " - `p_y`: First set of site indices, y component.\n",
    " - `alpha`: First set of sites' spin indicator.\n",
    " - `q_x`: Second set of site indices, x component.\n",
    " - `q_y`: Second set of site indices, y component.\n",
    " - `beta`: Second set of sites' spin indicator.\n",
    " - `target`: The system register to apply the select operation. \n",
    "\n",
    "#### References\n",
    " - [Encoding Electronic Spectra in Quantum Circuits with Linear T Complexity](https://arxiv.org/abs/1805.03662). Section V. and Fig. 19.\n"
   ]
  },
  {
   "cell_type": "code",
   "execution_count": 2,
   "id": "24845fa2",
   "metadata": {
    "cq.autogen": "SelectHubbard.bloq_doc.py"
   },
   "outputs": [],
   "source": [
    "from qualtran.bloqs.chemistry.hubbard_model.qubitization import SelectHubbard"
   ]
  },
  {
   "cell_type": "markdown",
   "id": "1fc9d9ec",
   "metadata": {
    "cq.autogen": "SelectHubbard.example_instances.md"
   },
   "source": [
    "### Example Instances"
   ]
  },
  {
   "cell_type": "code",
   "execution_count": 3,
   "id": "f8513a4b",
   "metadata": {
    "cq.autogen": "SelectHubbard.sel_hubb"
   },
   "outputs": [],
   "source": [
    "x_dim = 4\n",
    "y_dim = 4\n",
    "sel_hubb = SelectHubbard(x_dim, y_dim)"
   ]
  },
  {
   "cell_type": "markdown",
   "id": "084571f0",
   "metadata": {
    "cq.autogen": "SelectHubbard.graphical_signature.md"
   },
   "source": [
    "#### Graphical Signature"
   ]
  },
  {
   "cell_type": "code",
   "execution_count": 4,
   "id": "564970cd",
   "metadata": {
    "cq.autogen": "SelectHubbard.graphical_signature.py"
   },
   "outputs": [
    {
     "data": {
      "application/vnd.jupyter.widget-view+json": {
       "model_id": "e244018874c14e66b128edec689976f8",
       "version_major": 2,
       "version_minor": 0
      },
      "text/plain": [
       "HBox(children=(Output(outputs=({'output_type': 'display_data', 'data': {'text/plain': '<IPython.core.display.M…"
      ]
     },
     "metadata": {},
     "output_type": "display_data"
    }
   ],
   "source": [
    "from qualtran.drawing import show_bloqs\n",
    "show_bloqs([sel_hubb],\n",
    "           ['`sel_hubb`'])"
   ]
  },
  {
   "cell_type": "markdown",
   "id": "541a6b1b",
   "metadata": {
    "cq.autogen": "SelectHubbard.call_graph.md"
   },
   "source": [
    "### Call Graph"
   ]
  },
  {
   "cell_type": "code",
   "execution_count": 5,
   "id": "49bcec57",
   "metadata": {
    "cq.autogen": "SelectHubbard.call_graph.py"
   },
   "outputs": [
    {
     "data": {
      "image/svg+xml": [
       "<svg xmlns=\"http://www.w3.org/2000/svg\" xmlns:xlink=\"http://www.w3.org/1999/xlink\" width=\"1791pt\" height=\"131pt\" viewBox=\"0.00 0.00 1791.00 131.00\">\n",
       "<g id=\"graph0\" class=\"graph\" transform=\"scale(1 1) rotate(0) translate(4 127)\">\n",
       "<title>counts</title>\n",
       "<polygon fill=\"white\" stroke=\"transparent\" points=\"-4,4 -4,-127 1787,-127 1787,4 -4,4\"/>\n",
       "<!-- b0 -->\n",
       "<g id=\"node1\" class=\"node\">\n",
       "<title>b0</title>\n",
       "<polygon fill=\"none\" stroke=\"black\" points=\"460,-123 239,-123 239,-87 460,-87 460,-123\"/>\n",
       "<text text-anchor=\"start\" x=\"309\" y=\"-106.8\" font-family=\"Times,serif\" font-size=\"14.00\">SelectHubbard</text>\n",
       "<text text-anchor=\"start\" x=\"247\" y=\"-96\" font-family=\"monospace\" font-size=\"10.00\">x_dim=4, y_dim=4, control_val=None</text>\n",
       "</g>\n",
       "<!-- b1 -->\n",
       "<g id=\"node2\" class=\"node\">\n",
       "<title>b1</title>\n",
       "<polygon fill=\"none\" stroke=\"black\" points=\"71,-36 0,-36 0,0 71,0 71,-36\"/>\n",
       "<text text-anchor=\"start\" x=\"15.5\" y=\"-19.8\" font-family=\"Times,serif\" font-size=\"14.00\">CSwap</text>\n",
       "<text text-anchor=\"start\" x=\"8\" y=\"-9\" font-family=\"monospace\" font-size=\"10.00\">bitsize=1</text>\n",
       "</g>\n",
       "<!-- b0&#45;&gt;b1 -->\n",
       "<g id=\"edge1\" class=\"edge\">\n",
       "<title>b0-&gt;b1</title>\n",
       "<path fill=\"none\" stroke=\"black\" d=\"M265.75,-86.98C241.09,-81.62 214.13,-75.41 189.5,-69 143.39,-57 129.97,-52.78 80.88,-36.04\"/>\n",
       "<polygon fill=\"black\" stroke=\"black\" points=\"81.88,-32.68 71.28,-32.77 79.62,-39.31 81.88,-32.68\"/>\n",
       "<text text-anchor=\"middle\" x=\"193\" y=\"-57.8\" font-family=\"Times,serif\" font-size=\"14.00\">2</text>\n",
       "</g>\n",
       "<!-- b2 -->\n",
       "<g id=\"node3\" class=\"node\">\n",
       "<title>b2</title>\n",
       "<polygon fill=\"none\" stroke=\"black\" points=\"143.5,-36 89.5,-36 89.5,0 143.5,0 143.5,-36\"/>\n",
       "<text text-anchor=\"start\" x=\"99.5\" y=\"-14.3\" font-family=\"Times,serif\" font-size=\"14.00\">ZGate</text>\n",
       "</g>\n",
       "<!-- b0&#45;&gt;b2 -->\n",
       "<g id=\"edge2\" class=\"edge\">\n",
       "<title>b0-&gt;b2</title>\n",
       "<path fill=\"none\" stroke=\"black\" d=\"M294.98,-86.95C257.36,-74.78 206.12,-57.42 153.39,-36.17\"/>\n",
       "<polygon fill=\"black\" stroke=\"black\" points=\"154.46,-32.83 143.88,-32.31 151.83,-39.32 154.46,-32.83\"/>\n",
       "<text text-anchor=\"middle\" x=\"242\" y=\"-57.8\" font-family=\"Times,serif\" font-size=\"14.00\">1</text>\n",
       "</g>\n",
       "<!-- b3 -->\n",
       "<g id=\"node4\" class=\"node\">\n",
       "<title>b3</title>\n",
       "<polygon fill=\"none\" stroke=\"black\" points=\"233,-36 162,-36 162,0 233,0 233,-36\"/>\n",
       "<text text-anchor=\"start\" x=\"177.5\" y=\"-19.8\" font-family=\"Times,serif\" font-size=\"14.00\">CSwap</text>\n",
       "<text text-anchor=\"start\" x=\"170\" y=\"-9\" font-family=\"monospace\" font-size=\"10.00\">bitsize=2</text>\n",
       "</g>\n",
       "<!-- b0&#45;&gt;b3 -->\n",
       "<g id=\"edge3\" class=\"edge\">\n",
       "<title>b0-&gt;b3</title>\n",
       "<path fill=\"none\" stroke=\"black\" d=\"M318.74,-86.8C295.18,-73.62 262.49,-55.34 236.99,-41.08\"/>\n",
       "<polygon fill=\"black\" stroke=\"black\" points=\"238.39,-37.86 227.95,-36.03 234.97,-43.97 238.39,-37.86\"/>\n",
       "<text text-anchor=\"middle\" x=\"287\" y=\"-57.8\" font-family=\"Times,serif\" font-size=\"14.00\">4</text>\n",
       "</g>\n",
       "<!-- b4 -->\n",
       "<g id=\"node5\" class=\"node\">\n",
       "<title>b4</title>\n",
       "<polygon fill=\"none\" stroke=\"black\" points=\"448,-36 251,-36 251,0 448,0 448,-36\"/>\n",
       "<text text-anchor=\"start\" x=\"328.5\" y=\"-19.8\" font-family=\"Times,serif\" font-size=\"14.00\">GPhase</text>\n",
       "<text text-anchor=\"start\" x=\"259\" y=\"-9\" font-family=\"monospace\" font-size=\"10.00\">coefficient=(-0-1j), eps=1e-11</text>\n",
       "</g>\n",
       "<!-- b0&#45;&gt;b4 -->\n",
       "<g id=\"edge4\" class=\"edge\">\n",
       "<title>b0-&gt;b4</title>\n",
       "<path fill=\"none\" stroke=\"black\" d=\"M349.5,-86.8C349.5,-75.16 349.5,-59.55 349.5,-46.24\"/>\n",
       "<polygon fill=\"black\" stroke=\"black\" points=\"353,-46.18 349.5,-36.18 346,-46.18 353,-46.18\"/>\n",
       "<text text-anchor=\"middle\" x=\"353\" y=\"-57.8\" font-family=\"Times,serif\" font-size=\"14.00\">1</text>\n",
       "</g>\n",
       "<!-- b5 -->\n",
       "<g id=\"node6\" class=\"node\">\n",
       "<title>b5</title>\n",
       "<polygon fill=\"none\" stroke=\"black\" points=\"945,-36 466,-36 466,0 945,0 945,-36\"/>\n",
       "<text text-anchor=\"start\" x=\"643.5\" y=\"-19.8\" font-family=\"Times,serif\" font-size=\"14.00\">ApplyGateToLthQubit</text>\n",
       "<text text-anchor=\"start\" x=\"474\" y=\"-9\" font-family=\"monospace\" font-size=\"10.00\">selection_regs=(Registe ..., nth_gate=&lt;functio ..., control_regs=(Registe ...</text>\n",
       "</g>\n",
       "<!-- b0&#45;&gt;b5 -->\n",
       "<g id=\"edge5\" class=\"edge\">\n",
       "<title>b0-&gt;b5</title>\n",
       "<path fill=\"none\" stroke=\"black\" d=\"M421.11,-86.9C479.78,-72.89 562.79,-53.07 623.99,-38.46\"/>\n",
       "<polygon fill=\"black\" stroke=\"black\" points=\"625.09,-41.8 634,-36.07 623.46,-34.99 625.09,-41.8\"/>\n",
       "<text text-anchor=\"middle\" x=\"553\" y=\"-57.8\" font-family=\"Times,serif\" font-size=\"14.00\">1</text>\n",
       "</g>\n",
       "<!-- b6 -->\n",
       "<g id=\"node7\" class=\"node\">\n",
       "<title>b6</title>\n",
       "<polygon fill=\"none\" stroke=\"black\" points=\"1364,-36 963,-36 963,0 1364,0 1364,-36\"/>\n",
       "<text text-anchor=\"start\" x=\"1091\" y=\"-19.8\" font-family=\"Times,serif\" font-size=\"14.00\">SelectedMajoranaFermion</text>\n",
       "<text text-anchor=\"start\" x=\"971\" y=\"-9\" font-family=\"monospace\" font-size=\"10.00\">selection_regs=(Registe ..., control_regs=(), target_gate=cirq.Y</text>\n",
       "</g>\n",
       "<!-- b0&#45;&gt;b6 -->\n",
       "<g id=\"edge6\" class=\"edge\">\n",
       "<title>b0-&gt;b6</title>\n",
       "<path fill=\"none\" stroke=\"black\" d=\"M460.13,-92.45C596.59,-78.2 830.14,-53.81 990.41,-37.07\"/>\n",
       "<polygon fill=\"black\" stroke=\"black\" points=\"990.8,-40.55 1000.38,-36.03 990.07,-33.59 990.8,-40.55\"/>\n",
       "<text text-anchor=\"middle\" x=\"809\" y=\"-57.8\" font-family=\"Times,serif\" font-size=\"14.00\">1</text>\n",
       "</g>\n",
       "<!-- b7 -->\n",
       "<g id=\"node8\" class=\"node\">\n",
       "<title>b7</title>\n",
       "<polygon fill=\"none\" stroke=\"black\" points=\"1783,-36 1382,-36 1382,0 1783,0 1783,-36\"/>\n",
       "<text text-anchor=\"start\" x=\"1510\" y=\"-19.8\" font-family=\"Times,serif\" font-size=\"14.00\">SelectedMajoranaFermion</text>\n",
       "<text text-anchor=\"start\" x=\"1390\" y=\"-9\" font-family=\"monospace\" font-size=\"10.00\">selection_regs=(Registe ..., control_regs=(), target_gate=cirq.X</text>\n",
       "</g>\n",
       "<!-- b0&#45;&gt;b7 -->\n",
       "<g id=\"edge7\" class=\"edge\">\n",
       "<title>b0-&gt;b7</title>\n",
       "<path fill=\"none\" stroke=\"black\" d=\"M460.05,-97.18C645.87,-85.59 1032.89,-60.95 1371.86,-36.04\"/>\n",
       "<polygon fill=\"black\" stroke=\"black\" points=\"1372.16,-39.53 1381.87,-35.3 1371.64,-32.55 1372.16,-39.53\"/>\n",
       "<text text-anchor=\"middle\" x=\"1096\" y=\"-57.8\" font-family=\"Times,serif\" font-size=\"14.00\">1</text>\n",
       "</g>\n",
       "</g>\n",
       "</svg>"
      ],
      "text/plain": [
       "<IPython.core.display.SVG object>"
      ]
     },
     "metadata": {},
     "output_type": "display_data"
    },
    {
     "data": {
      "text/markdown": [
       "#### Counts totals:\n",
       " - `ApplyGateToLthQubit`: 1\n",
       " - `CSwap`: 2\n",
       " - `CSwap`: 4\n",
       " - `GPhase((-0-1j))`: 1\n",
       " - `SelectedMajoranaFermion(X)`: 1\n",
       " - `SelectedMajoranaFermion(Y)`: 1\n",
       " - `ZGate`: 1"
      ],
      "text/plain": [
       "<IPython.core.display.Markdown object>"
      ]
     },
     "metadata": {},
     "output_type": "display_data"
    }
   ],
   "source": [
    "from qualtran.resource_counting.generalizers import ignore_split_join\n",
    "sel_hubb_g, sel_hubb_sigma = sel_hubb.call_graph(max_depth=1, generalizer=ignore_split_join)\n",
    "show_call_graph(sel_hubb_g)\n",
    "show_counts_sigma(sel_hubb_sigma)"
   ]
  },
  {
   "cell_type": "markdown",
   "id": "61d5efd1",
   "metadata": {
    "cq.autogen": "PrepareHubbard.bloq_doc.md"
   },
   "source": [
    "## `PrepareHubbard`\n",
    "The PREPARE operation optimized for the 2D Hubbard model.\n",
    "\n",
    "In contrast to PREPARE for an arbitrary chemistry Hamiltonian, we:\n",
    " - explicitly consider the two dimensions of indices to permit optimization of the circuits.\n",
    " - dispense with the `theta` index for phases.\n",
    "\n",
    "`PrepareHubbard` uses $O(\\log(N))$ T gates and $O(1)$ single-qubit rotations.\n",
    "\n",
    "#### Parameters\n",
    " - `x_dim`: the number of sites along the x axis.\n",
    " - `y_dim`: the number of sites along the y axis.\n",
    " - `t`: coefficient for hopping terms in the Hubbard model hamiltonian.\n",
    " - `u`: coefficient for single body Z term and two-body ZZ terms in the Hubbard model hamiltonian. \n",
    "\n",
    "#### Registers\n",
    " - `control`: A control bit for the entire gate.\n",
    " - `U`: Whether we're applying the single-site part of the potential.\n",
    " - `V`: Whether we're applying the pairwise part of the potential.\n",
    " - `p_x`: First set of site indices, x component.\n",
    " - `p_y`: First set of site indices, y component.\n",
    " - `alpha`: First set of sites' spin indicator.\n",
    " - `q_x`: Second set of site indices, x component.\n",
    " - `q_y`: Second set of site indices, y component.\n",
    " - `beta`: Second set of sites' spin indicator.\n",
    " - `target`: The system register to apply the select operation.\n",
    " - `junk`: Temporary Work space. \n",
    "\n",
    "#### References\n",
    " - [Encoding Electronic Spectra in Quantum Circuits with Linear T Complexity](https://arxiv.org/abs/1805.03662). Section V. and Fig. 20.\n"
   ]
  },
  {
   "cell_type": "code",
   "execution_count": 6,
   "id": "df46d758",
   "metadata": {
    "cq.autogen": "PrepareHubbard.bloq_doc.py"
   },
   "outputs": [],
   "source": [
    "from qualtran.bloqs.chemistry.hubbard_model.qubitization import PrepareHubbard"
   ]
  },
  {
   "cell_type": "markdown",
   "id": "480bd24c",
   "metadata": {
    "cq.autogen": "PrepareHubbard.example_instances.md"
   },
   "source": [
    "### Example Instances"
   ]
  },
  {
   "cell_type": "code",
   "execution_count": 7,
   "id": "48bb8a87",
   "metadata": {
    "cq.autogen": "PrepareHubbard.prep_hubb"
   },
   "outputs": [],
   "source": [
    "x_dim = 4\n",
    "y_dim = 4\n",
    "t = 1.0\n",
    "u = 4.0 / t\n",
    "prep_hubb = PrepareHubbard(x_dim, y_dim, t=t, u=u)"
   ]
  },
  {
   "cell_type": "markdown",
   "id": "32fcb935",
   "metadata": {
    "cq.autogen": "PrepareHubbard.graphical_signature.md"
   },
   "source": [
    "#### Graphical Signature"
   ]
  },
  {
   "cell_type": "code",
   "execution_count": 8,
   "id": "305f3934",
   "metadata": {
    "cq.autogen": "PrepareHubbard.graphical_signature.py"
   },
   "outputs": [
    {
     "data": {
      "application/vnd.jupyter.widget-view+json": {
       "model_id": "71c68bb4433346839335a6a0cb5dbbaf",
       "version_major": 2,
       "version_minor": 0
      },
      "text/plain": [
       "HBox(children=(Output(outputs=({'output_type': 'display_data', 'data': {'text/plain': '<IPython.core.display.M…"
      ]
     },
     "metadata": {},
     "output_type": "display_data"
    }
   ],
   "source": [
    "from qualtran.drawing import show_bloqs\n",
    "show_bloqs([prep_hubb],\n",
    "           ['`prep_hubb`'])"
   ]
  },
  {
   "cell_type": "markdown",
   "id": "8325e95d",
   "metadata": {
    "cq.autogen": "PrepareHubbard.call_graph.md"
   },
   "source": [
    "### Call Graph"
   ]
  },
  {
   "cell_type": "code",
   "execution_count": 9,
   "id": "89bb04df",
   "metadata": {
    "cq.autogen": "PrepareHubbard.call_graph.py"
   },
   "outputs": [
    {
     "data": {
      "image/svg+xml": [
       "<svg xmlns=\"http://www.w3.org/2000/svg\" xmlns:xlink=\"http://www.w3.org/1999/xlink\" width=\"1938pt\" height=\"131pt\" viewBox=\"0.00 0.00 1938.00 131.00\">\n",
       "<g id=\"graph0\" class=\"graph\" transform=\"scale(1 1) rotate(0) translate(4 127)\">\n",
       "<title>counts</title>\n",
       "<polygon fill=\"white\" stroke=\"transparent\" points=\"-4,4 -4,-127 1934,-127 1934,4 -4,4\"/>\n",
       "<!-- b0 -->\n",
       "<g id=\"node1\" class=\"node\">\n",
       "<title>b0</title>\n",
       "<polygon fill=\"none\" stroke=\"black\" points=\"1137,-123 940,-123 940,-87 1137,-87 1137,-123\"/>\n",
       "<text text-anchor=\"start\" x=\"994\" y=\"-106.8\" font-family=\"Times,serif\" font-size=\"14.00\">PrepareHubbard</text>\n",
       "<text text-anchor=\"start\" x=\"948\" y=\"-96\" font-family=\"monospace\" font-size=\"10.00\">x_dim=4, y_dim=4, t=1.0, u=4.0</text>\n",
       "</g>\n",
       "<!-- b1 -->\n",
       "<g id=\"node2\" class=\"node\">\n",
       "<title>b1</title>\n",
       "<polygon fill=\"none\" stroke=\"black\" points=\"71,-36 0,-36 0,0 71,0 71,-36\"/>\n",
       "<text text-anchor=\"start\" x=\"15.5\" y=\"-19.8\" font-family=\"Times,serif\" font-size=\"14.00\">CSwap</text>\n",
       "<text text-anchor=\"start\" x=\"8\" y=\"-9\" font-family=\"monospace\" font-size=\"10.00\">bitsize=2</text>\n",
       "</g>\n",
       "<!-- b0&#45;&gt;b1 -->\n",
       "<g id=\"edge1\" class=\"edge\">\n",
       "<title>b0-&gt;b1</title>\n",
       "<path fill=\"none\" stroke=\"black\" d=\"M939.94,-101.48C804.13,-97.46 551.88,-88.03 337.5,-69 225.61,-59.07 193.38,-64.07 81.3,-36.16\"/>\n",
       "<polygon fill=\"black\" stroke=\"black\" points=\"81.84,-32.69 71.29,-33.64 80.13,-39.48 81.84,-32.69\"/>\n",
       "<text text-anchor=\"middle\" x=\"341\" y=\"-57.8\" font-family=\"Times,serif\" font-size=\"14.00\">2</text>\n",
       "</g>\n",
       "<!-- b2 -->\n",
       "<g id=\"node3\" class=\"node\">\n",
       "<title>b2</title>\n",
       "<polygon fill=\"none\" stroke=\"black\" points=\"280,-36 89,-36 89,0 280,0 280,-36\"/>\n",
       "<text text-anchor=\"start\" x=\"176.5\" y=\"-19.8\" font-family=\"Times,serif\" font-size=\"14.00\">Ry</text>\n",
       "<text text-anchor=\"start\" x=\"97\" y=\"-9\" font-family=\"monospace\" font-size=\"10.00\">angle=2.094395 ..., eps=1e-11</text>\n",
       "</g>\n",
       "<!-- b0&#45;&gt;b2 -->\n",
       "<g id=\"edge2\" class=\"edge\">\n",
       "<title>b0-&gt;b2</title>\n",
       "<path fill=\"none\" stroke=\"black\" d=\"M939.98,-102.29C821.14,-99.29 615.51,-91.11 440.5,-69 382.39,-61.66 317.65,-48.97 267.82,-38.22\"/>\n",
       "<polygon fill=\"black\" stroke=\"black\" points=\"268.25,-34.73 257.74,-36.02 266.76,-41.57 268.25,-34.73\"/>\n",
       "<text text-anchor=\"middle\" x=\"444\" y=\"-57.8\" font-family=\"Times,serif\" font-size=\"14.00\">1</text>\n",
       "</g>\n",
       "<!-- b3 -->\n",
       "<g id=\"node4\" class=\"node\">\n",
       "<title>b3</title>\n",
       "<polygon fill=\"none\" stroke=\"black\" points=\"352.5,-36 298.5,-36 298.5,0 352.5,0 352.5,-36\"/>\n",
       "<text text-anchor=\"start\" x=\"307.5\" y=\"-14.3\" font-family=\"Times,serif\" font-size=\"14.00\">XGate</text>\n",
       "</g>\n",
       "<!-- b0&#45;&gt;b3 -->\n",
       "<g id=\"edge3\" class=\"edge\">\n",
       "<title>b0-&gt;b3</title>\n",
       "<path fill=\"none\" stroke=\"black\" d=\"M939.89,-104.51C808.44,-102.89 569.31,-91.89 362.47,-35.7\"/>\n",
       "<polygon fill=\"black\" stroke=\"black\" points=\"363.22,-32.28 352.65,-32.99 361.36,-39.03 363.22,-32.28\"/>\n",
       "<text text-anchor=\"middle\" x=\"511\" y=\"-57.8\" font-family=\"Times,serif\" font-size=\"14.00\">3</text>\n",
       "</g>\n",
       "<!-- b4 -->\n",
       "<g id=\"node5\" class=\"node\">\n",
       "<title>b4</title>\n",
       "<polygon fill=\"none\" stroke=\"black\" points=\"640,-36 371,-36 371,0 640,0 640,-36\"/>\n",
       "<text text-anchor=\"start\" x=\"467.5\" y=\"-19.8\" font-family=\"Times,serif\" font-size=\"14.00\">C[Hadamard]</text>\n",
       "<text text-anchor=\"start\" x=\"379\" y=\"-9\" font-family=\"monospace\" font-size=\"10.00\">subbloq=Hadamard(), ctrl_spec=CtrlSpec ...</text>\n",
       "</g>\n",
       "<!-- b0&#45;&gt;b4 -->\n",
       "<g id=\"edge4\" class=\"edge\">\n",
       "<title>b0-&gt;b4</title>\n",
       "<path fill=\"none\" stroke=\"black\" d=\"M939.81,-88.26C850,-73.94 717.33,-52.78 622.28,-37.62\"/>\n",
       "<polygon fill=\"black\" stroke=\"black\" points=\"622.76,-34.16 612.33,-36.04 621.65,-41.07 622.76,-34.16\"/>\n",
       "<text text-anchor=\"middle\" x=\"808\" y=\"-57.8\" font-family=\"Times,serif\" font-size=\"14.00\">1</text>\n",
       "</g>\n",
       "<!-- b5 -->\n",
       "<g id=\"node6\" class=\"node\">\n",
       "<title>b5</title>\n",
       "<polygon fill=\"none\" stroke=\"black\" points=\"838.5,-36 658.5,-36 658.5,0 838.5,0 838.5,-36\"/>\n",
       "<text text-anchor=\"start\" x=\"666.5\" y=\"-19.8\" font-family=\"Times,serif\" font-size=\"14.00\">PrepareUniformSuperposition</text>\n",
       "<text text-anchor=\"start\" x=\"715\" y=\"-9\" font-family=\"monospace\" font-size=\"10.00\">n=4, cvs=()</text>\n",
       "</g>\n",
       "<!-- b0&#45;&gt;b5 -->\n",
       "<g id=\"edge5\" class=\"edge\">\n",
       "<title>b0-&gt;b5</title>\n",
       "<path fill=\"none\" stroke=\"black\" d=\"M980.16,-86.9C932.87,-73.04 866.15,-53.48 816.45,-38.92\"/>\n",
       "<polygon fill=\"black\" stroke=\"black\" points=\"817.32,-35.53 806.74,-36.07 815.36,-42.24 817.32,-35.53\"/>\n",
       "<text text-anchor=\"middle\" x=\"915\" y=\"-57.8\" font-family=\"Times,serif\" font-size=\"14.00\">2</text>\n",
       "</g>\n",
       "<!-- b6 -->\n",
       "<g id=\"node7\" class=\"node\">\n",
       "<title>b6</title>\n",
       "<polygon fill=\"none\" stroke=\"black\" points=\"994,-36 857,-36 857,0 994,0 994,-36\"/>\n",
       "<text text-anchor=\"start\" x=\"895\" y=\"-19.8\" font-family=\"Times,serif\" font-size=\"14.00\">MultiAnd†</text>\n",
       "<text text-anchor=\"start\" x=\"865\" y=\"-9\" font-family=\"monospace\" font-size=\"10.00\">subbloq=MultiAnd ...</text>\n",
       "</g>\n",
       "<!-- b0&#45;&gt;b6 -->\n",
       "<g id=\"edge6\" class=\"edge\">\n",
       "<title>b0-&gt;b6</title>\n",
       "<path fill=\"none\" stroke=\"black\" d=\"M1015.63,-86.8C998.63,-74.01 975.24,-56.42 956.55,-42.36\"/>\n",
       "<polygon fill=\"black\" stroke=\"black\" points=\"958.43,-39.39 948.33,-36.18 954.22,-44.98 958.43,-39.39\"/>\n",
       "<text text-anchor=\"middle\" x=\"993\" y=\"-57.8\" font-family=\"Times,serif\" font-size=\"14.00\">1</text>\n",
       "</g>\n",
       "<!-- b7 -->\n",
       "<g id=\"node8\" class=\"node\">\n",
       "<title>b7</title>\n",
       "<polygon fill=\"none\" stroke=\"black\" points=\"1293,-36 1012,-36 1012,0 1293,0 1293,-36\"/>\n",
       "<text text-anchor=\"start\" x=\"1135.5\" y=\"-19.8\" font-family=\"Times,serif\" font-size=\"14.00\">C[Ry]</text>\n",
       "<text text-anchor=\"start\" x=\"1020\" y=\"-9\" font-family=\"monospace\" font-size=\"10.00\">subbloq=Ry(angle ..., ctrl_spec=CtrlSpec ...</text>\n",
       "</g>\n",
       "<!-- b0&#45;&gt;b7 -->\n",
       "<g id=\"edge7\" class=\"edge\">\n",
       "<title>b0-&gt;b7</title>\n",
       "<path fill=\"none\" stroke=\"black\" d=\"M1061.57,-86.8C1078.8,-73.95 1102.53,-56.26 1121.43,-42.17\"/>\n",
       "<polygon fill=\"black\" stroke=\"black\" points=\"1123.54,-44.96 1129.46,-36.18 1119.36,-39.35 1123.54,-44.96\"/>\n",
       "<text text-anchor=\"middle\" x=\"1106\" y=\"-57.8\" font-family=\"Times,serif\" font-size=\"14.00\">1</text>\n",
       "</g>\n",
       "<!-- b8 -->\n",
       "<g id=\"node9\" class=\"node\">\n",
       "<title>b8</title>\n",
       "<polygon fill=\"none\" stroke=\"black\" points=\"1562,-36 1311,-36 1311,0 1562,0 1562,-36\"/>\n",
       "<text text-anchor=\"start\" x=\"1406.5\" y=\"-19.8\" font-family=\"Times,serif\" font-size=\"14.00\">ModAddK</text>\n",
       "<text text-anchor=\"start\" x=\"1319\" y=\"-9\" font-family=\"monospace\" font-size=\"10.00\">bitsize=2, mod=4, add_val=1, cvs=(0, 0)</text>\n",
       "</g>\n",
       "<!-- b0&#45;&gt;b8 -->\n",
       "<g id=\"edge8\" class=\"edge\">\n",
       "<title>b0-&gt;b8</title>\n",
       "<path fill=\"none\" stroke=\"black\" d=\"M1118.56,-86.9C1184.55,-72.81 1278.1,-52.83 1346.64,-38.19\"/>\n",
       "<polygon fill=\"black\" stroke=\"black\" points=\"1347.52,-41.58 1356.57,-36.07 1346.05,-34.74 1347.52,-41.58\"/>\n",
       "<text text-anchor=\"middle\" x=\"1265\" y=\"-57.8\" font-family=\"Times,serif\" font-size=\"14.00\">1</text>\n",
       "</g>\n",
       "<!-- b9 -->\n",
       "<g id=\"node10\" class=\"node\">\n",
       "<title>b9</title>\n",
       "<polygon fill=\"none\" stroke=\"black\" points=\"1634.5,-36 1580.5,-36 1580.5,0 1634.5,0 1634.5,-36\"/>\n",
       "<text text-anchor=\"start\" x=\"1589\" y=\"-14.3\" font-family=\"Times,serif\" font-size=\"14.00\">CNOT</text>\n",
       "</g>\n",
       "<!-- b0&#45;&gt;b9 -->\n",
       "<g id=\"edge9\" class=\"edge\">\n",
       "<title>b0-&gt;b9</title>\n",
       "<path fill=\"none\" stroke=\"black\" d=\"M1137.37,-100.31C1245.57,-94.22 1423.25,-78.17 1570.5,-36 1570.6,-35.97 1570.7,-35.94 1570.81,-35.91\"/>\n",
       "<polygon fill=\"black\" stroke=\"black\" points=\"1572.08,-39.17 1580.38,-32.58 1569.78,-32.56 1572.08,-39.17\"/>\n",
       "<text text-anchor=\"middle\" x=\"1489\" y=\"-57.8\" font-family=\"Times,serif\" font-size=\"14.00\">7</text>\n",
       "</g>\n",
       "<!-- b10 -->\n",
       "<g id=\"node11\" class=\"node\">\n",
       "<title>b10</title>\n",
       "<polygon fill=\"none\" stroke=\"black\" points=\"1724,-36 1653,-36 1653,0 1724,0 1724,-36\"/>\n",
       "<text text-anchor=\"start\" x=\"1668.5\" y=\"-19.8\" font-family=\"Times,serif\" font-size=\"14.00\">CSwap</text>\n",
       "<text text-anchor=\"start\" x=\"1661\" y=\"-9\" font-family=\"monospace\" font-size=\"10.00\">bitsize=5</text>\n",
       "</g>\n",
       "<!-- b0&#45;&gt;b10 -->\n",
       "<g id=\"edge10\" class=\"edge\">\n",
       "<title>b0-&gt;b10</title>\n",
       "<path fill=\"none\" stroke=\"black\" d=\"M1137.24,-100.58C1230.31,-96.38 1373.47,-87.41 1496.5,-69 1559.62,-59.55 1577.69,-55.59 1642.83,-36.01\"/>\n",
       "<polygon fill=\"black\" stroke=\"black\" points=\"1644.23,-39.24 1652.79,-33.01 1642.21,-32.54 1644.23,-39.24\"/>\n",
       "<text text-anchor=\"middle\" x=\"1582\" y=\"-57.8\" font-family=\"Times,serif\" font-size=\"14.00\">1</text>\n",
       "</g>\n",
       "<!-- b11 -->\n",
       "<g id=\"node12\" class=\"node\">\n",
       "<title>b11</title>\n",
       "<polygon fill=\"none\" stroke=\"black\" points=\"1816.5,-36 1742.5,-36 1742.5,0 1816.5,0 1816.5,-36\"/>\n",
       "<text text-anchor=\"start\" x=\"1750.5\" y=\"-14.3\" font-family=\"Times,serif\" font-size=\"14.00\">Hadamard</text>\n",
       "</g>\n",
       "<!-- b0&#45;&gt;b11 -->\n",
       "<g id=\"edge11\" class=\"edge\">\n",
       "<title>b0-&gt;b11</title>\n",
       "<path fill=\"none\" stroke=\"black\" d=\"M1137.04,-102.58C1247.68,-99.87 1432.29,-91.97 1589.5,-69 1654.04,-59.57 1669.94,-54.46 1732.5,-36 1732.6,-35.97 1732.7,-35.94 1732.8,-35.91\"/>\n",
       "<polygon fill=\"black\" stroke=\"black\" points=\"1733.95,-39.22 1742.44,-32.87 1731.85,-32.54 1733.95,-39.22\"/>\n",
       "<text text-anchor=\"middle\" x=\"1673\" y=\"-57.8\" font-family=\"Times,serif\" font-size=\"14.00\">2</text>\n",
       "</g>\n",
       "<!-- b12 -->\n",
       "<g id=\"node13\" class=\"node\">\n",
       "<title>b12</title>\n",
       "<polygon fill=\"none\" stroke=\"black\" points=\"1930,-36 1835,-36 1835,0 1930,0 1930,-36\"/>\n",
       "<text text-anchor=\"start\" x=\"1855\" y=\"-19.8\" font-family=\"Times,serif\" font-size=\"14.00\">MultiAnd</text>\n",
       "<text text-anchor=\"start\" x=\"1843\" y=\"-9\" font-family=\"monospace\" font-size=\"10.00\">cvs=(0, 0, 1)</text>\n",
       "</g>\n",
       "<!-- b0&#45;&gt;b12 -->\n",
       "<g id=\"edge12\" class=\"edge\">\n",
       "<title>b0-&gt;b12</title>\n",
       "<path fill=\"none\" stroke=\"black\" d=\"M1137.16,-103.79C1263.63,-102.34 1489.39,-95.76 1680.5,-69 1729.98,-62.07 1784.94,-48.04 1825.03,-36.6\"/>\n",
       "<polygon fill=\"black\" stroke=\"black\" points=\"1826.25,-39.89 1834.89,-33.75 1824.31,-33.16 1826.25,-39.89\"/>\n",
       "<text text-anchor=\"middle\" x=\"1757\" y=\"-57.8\" font-family=\"Times,serif\" font-size=\"14.00\">1</text>\n",
       "</g>\n",
       "</g>\n",
       "</svg>"
      ],
      "text/plain": [
       "<IPython.core.display.SVG object>"
      ]
     },
     "metadata": {},
     "output_type": "display_data"
    },
    {
     "data": {
      "text/markdown": [
       "#### Counts totals:\n",
       " - `Adjoint(subbloq=MultiAnd(n=3))`: 1\n",
       " - `CNOT`: 7\n",
       " - `CSwap`: 1\n",
       " - `CSwap`: 2\n",
       " - `C[H]`: 1\n",
       " - `C[Ry(0.7048327646991335π)]`: 1\n",
       " - `H`: 2\n",
       " - `ModAddK`: 1\n",
       " - `MultiAnd(n=3)`: 1\n",
       " - `PrepareUniformSuperposition`: 2\n",
       " - `Ry(0.6666666666666667π)`: 1\n",
       " - `XGate`: 3"
      ],
      "text/plain": [
       "<IPython.core.display.Markdown object>"
      ]
     },
     "metadata": {},
     "output_type": "display_data"
    }
   ],
   "source": [
    "from qualtran.resource_counting.generalizers import ignore_split_join\n",
    "prep_hubb_g, prep_hubb_sigma = prep_hubb.call_graph(max_depth=1, generalizer=ignore_split_join)\n",
    "show_call_graph(prep_hubb_g)\n",
    "show_counts_sigma(prep_hubb_sigma)"
   ]
  }
 ],
 "metadata": {
  "kernelspec": {
   "display_name": "Python 3",
   "language": "python",
   "name": "python3"
  },
  "language_info": {
   "codemirror_mode": {
    "name": "ipython",
    "version": 3
   },
   "file_extension": ".py",
   "mimetype": "text/x-python",
   "name": "python",
   "nbconvert_exporter": "python",
   "pygments_lexer": "ipython3",
   "version": "3.11.8"
  },
  "widgets": {
   "application/vnd.jupyter.widget-state+json": {
    "state": {
     "09b3691a366c41a9ae85843f74889bd2": {
      "model_module": "@jupyter-widgets/base",
      "model_module_version": "2.0.0",
      "model_name": "LayoutModel",
      "state": {
       "_model_module": "@jupyter-widgets/base",
       "_model_module_version": "2.0.0",
       "_model_name": "LayoutModel",
       "_view_count": null,
       "_view_module": "@jupyter-widgets/base",
       "_view_module_version": "2.0.0",
       "_view_name": "LayoutView",
       "align_content": null,
       "align_items": null,
       "align_self": null,
       "border_bottom": null,
       "border_left": null,
       "border_right": null,
       "border_top": null,
       "bottom": null,
       "display": null,
       "flex": null,
       "flex_flow": null,
       "grid_area": null,
       "grid_auto_columns": null,
       "grid_auto_flow": null,
       "grid_auto_rows": null,
       "grid_column": null,
       "grid_gap": null,
       "grid_row": null,
       "grid_template_areas": null,
       "grid_template_columns": null,
       "grid_template_rows": null,
       "height": null,
       "justify_content": null,
       "justify_items": null,
       "left": null,
       "margin": null,
       "max_height": null,
       "max_width": null,
       "min_height": null,
       "min_width": null,
       "object_fit": null,
       "object_position": null,
       "order": null,
       "overflow": null,
       "padding": null,
       "right": null,
       "top": null,
       "visibility": null,
       "width": null
      }
     },
     "16391cfdef5440a792cfe644ead5b99c": {
      "model_module": "@jupyter-widgets/output",
      "model_module_version": "1.0.0",
      "model_name": "OutputModel",
      "state": {
       "_dom_classes": [],
       "_model_module": "@jupyter-widgets/output",
       "_model_module_version": "1.0.0",
       "_model_name": "OutputModel",
       "_view_count": null,
       "_view_module": "@jupyter-widgets/output",
       "_view_module_version": "1.0.0",
       "_view_name": "OutputView",
       "layout": "IPY_MODEL_d6cf18431af94c6ea9810d1768d7eb2b",
       "msg_id": "",
       "outputs": [
        {
         "data": {
          "text/markdown": "`sel_hubb`",
          "text/plain": "<IPython.core.display.Markdown object>"
         },
         "metadata": {},
         "output_type": "display_data"
        },
        {
         "data": {
          "image/svg+xml": "<svg xmlns=\"http://www.w3.org/2000/svg\" xmlns:xlink=\"http://www.w3.org/1999/xlink\" width=\"278pt\" height=\"476pt\" viewBox=\"0.00 0.00 278.00 476.00\">\n<g id=\"graph0\" class=\"graph\" transform=\"scale(1 1) rotate(0) translate(4 472)\">\n<title>my_graph</title>\n<polygon fill=\"white\" stroke=\"transparent\" points=\"-4,4 -4,-472 274,-472 274,4 -4,4\"/>\n<!-- U_G25 -->\n<g id=\"node1\" class=\"node\">\n<title>U_G25</title>\n<text text-anchor=\"middle\" x=\"27\" y=\"-446.3\" font-family=\"Times,serif\" font-size=\"14.00\">U</text>\n</g>\n<!-- SelectHubbard -->\n<g id=\"node10\" class=\"node\">\n<title>SelectHubbard</title>\n<polygon fill=\"none\" stroke=\"black\" points=\"91,-329 91,-346 179,-346 179,-329 91,-329\"/>\n<text text-anchor=\"start\" x=\"94\" y=\"-335\" font-family=\"Times,serif\" font-size=\"10.00\">SelectHubbard(4, 4)</text>\n<polygon fill=\"none\" stroke=\"black\" points=\"91,-308 91,-329 179,-329 179,-308 91,-308\"/>\n<text text-anchor=\"start\" x=\"130\" y=\"-314.8\" font-family=\"Times,serif\" font-size=\"14.00\">U</text>\n<polygon fill=\"none\" stroke=\"black\" points=\"91,-287 91,-308 179,-308 179,-287 91,-287\"/>\n<text text-anchor=\"start\" x=\"130\" y=\"-293.8\" font-family=\"Times,serif\" font-size=\"14.00\">V</text>\n<polygon fill=\"none\" stroke=\"black\" points=\"91,-266 91,-287 179,-287 179,-266 91,-266\"/>\n<text text-anchor=\"start\" x=\"124.5\" y=\"-272.8\" font-family=\"Times,serif\" font-size=\"14.00\">p_x</text>\n<polygon fill=\"none\" stroke=\"black\" points=\"91,-245 91,-266 179,-266 179,-245 91,-245\"/>\n<text text-anchor=\"start\" x=\"124.5\" y=\"-251.8\" font-family=\"Times,serif\" font-size=\"14.00\">p_y</text>\n<polygon fill=\"none\" stroke=\"black\" points=\"91,-224 91,-245 179,-245 179,-224 91,-224\"/>\n<text text-anchor=\"start\" x=\"120\" y=\"-230.8\" font-family=\"Times,serif\" font-size=\"14.00\">alpha</text>\n<polygon fill=\"none\" stroke=\"black\" points=\"91,-203 91,-224 179,-224 179,-203 91,-203\"/>\n<text text-anchor=\"start\" x=\"124.5\" y=\"-209.8\" font-family=\"Times,serif\" font-size=\"14.00\">q_x</text>\n<polygon fill=\"none\" stroke=\"black\" points=\"91,-182 91,-203 179,-203 179,-182 91,-182\"/>\n<text text-anchor=\"start\" x=\"124.5\" y=\"-188.8\" font-family=\"Times,serif\" font-size=\"14.00\">q_y</text>\n<polygon fill=\"none\" stroke=\"black\" points=\"91,-161 91,-182 179,-182 179,-161 91,-161\"/>\n<text text-anchor=\"start\" x=\"123.5\" y=\"-167.8\" font-family=\"Times,serif\" font-size=\"14.00\">beta</text>\n<polygon fill=\"none\" stroke=\"black\" points=\"91,-140 91,-161 179,-161 179,-140 91,-140\"/>\n<text text-anchor=\"start\" x=\"119.5\" y=\"-146.8\" font-family=\"Times,serif\" font-size=\"14.00\">target</text>\n</g>\n<!-- U_G25&#45;&gt;SelectHubbard -->\n<g id=\"edge1\" class=\"edge\">\n<title>U_G25:e-&gt;SelectHubbard:w</title>\n<path fill=\"none\" stroke=\"black\" d=\"M54,-450C83.54,-450 61.82,-325.07 88.96,-319.21\"/>\n<ellipse fill=\"black\" stroke=\"black\" cx=\"90.01\" cy=\"-319.1\" rx=\"1\" ry=\"1\"/>\n<text text-anchor=\"middle\" x=\"72.5\" y=\"-395\" font-family=\"Times,serif\" font-size=\"10.00\">1</text>\n</g>\n<!-- V_G22 -->\n<g id=\"node2\" class=\"node\">\n<title>V_G22</title>\n<text text-anchor=\"middle\" x=\"27\" y=\"-392.3\" font-family=\"Times,serif\" font-size=\"14.00\">V</text>\n</g>\n<!-- V_G22&#45;&gt;SelectHubbard -->\n<g id=\"edge2\" class=\"edge\">\n<title>V_G22:e-&gt;SelectHubbard:w</title>\n<path fill=\"none\" stroke=\"black\" d=\"M54,-396C76.55,-396 68.29,-304.03 88.91,-298.28\"/>\n<ellipse fill=\"black\" stroke=\"black\" cx=\"90.01\" cy=\"-298.13\" rx=\"1\" ry=\"1\"/>\n<text text-anchor=\"middle\" x=\"72.5\" y=\"-352\" font-family=\"Times,serif\" font-size=\"10.00\">1</text>\n</g>\n<!-- p_x_G10 -->\n<g id=\"node3\" class=\"node\">\n<title>p_x_G10</title>\n<text text-anchor=\"middle\" x=\"27\" y=\"-338.3\" font-family=\"Times,serif\" font-size=\"14.00\">p_x</text>\n</g>\n<!-- p_x_G10&#45;&gt;SelectHubbard -->\n<g id=\"edge3\" class=\"edge\">\n<title>p_x_G10:e-&gt;SelectHubbard:w</title>\n<path fill=\"none\" stroke=\"black\" d=\"M54,-342C86.46,-342 59.11,-280.01 88.76,-277.11\"/>\n<ellipse fill=\"black\" stroke=\"black\" cx=\"90\" cy=\"-277.05\" rx=\"1\" ry=\"1\"/>\n<text text-anchor=\"middle\" x=\"72.5\" y=\"-318\" font-family=\"Times,serif\" font-size=\"10.00\">2</text>\n</g>\n<!-- p_y_G15 -->\n<g id=\"node4\" class=\"node\">\n<title>p_y_G15</title>\n<text text-anchor=\"middle\" x=\"27\" y=\"-284.3\" font-family=\"Times,serif\" font-size=\"14.00\">p_y</text>\n</g>\n<!-- p_y_G15&#45;&gt;SelectHubbard -->\n<g id=\"edge4\" class=\"edge\">\n<title>p_y_G15:e-&gt;SelectHubbard:w</title>\n<path fill=\"none\" stroke=\"black\" d=\"M54,-288C74.89,-288 69.72,-258.45 88.58,-256.14\"/>\n<ellipse fill=\"black\" stroke=\"black\" cx=\"90\" cy=\"-256.06\" rx=\"1\" ry=\"1\"/>\n<text text-anchor=\"middle\" x=\"72.5\" y=\"-275\" font-family=\"Times,serif\" font-size=\"10.00\">2</text>\n</g>\n<!-- alpha_G18 -->\n<g id=\"node5\" class=\"node\">\n<title>alpha_G18</title>\n<text text-anchor=\"middle\" x=\"27\" y=\"-230.3\" font-family=\"Times,serif\" font-size=\"14.00\">alpha</text>\n</g>\n<!-- alpha_G18&#45;&gt;SelectHubbard -->\n<g id=\"edge5\" class=\"edge\">\n<title>alpha_G18:e-&gt;SelectHubbard:w</title>\n<path fill=\"none\" stroke=\"black\" d=\"M54,-234C69.67,-234 74.14,-234 88.77,-234\"/>\n<ellipse fill=\"black\" stroke=\"black\" cx=\"90\" cy=\"-234\" rx=\"1\" ry=\"1\"/>\n<text text-anchor=\"middle\" x=\"72.5\" y=\"-237\" font-family=\"Times,serif\" font-size=\"10.00\">1</text>\n</g>\n<!-- q_x_G3 -->\n<g id=\"node6\" class=\"node\">\n<title>q_x_G3</title>\n<text text-anchor=\"middle\" x=\"27\" y=\"-176.3\" font-family=\"Times,serif\" font-size=\"14.00\">q_x</text>\n</g>\n<!-- q_x_G3&#45;&gt;SelectHubbard -->\n<g id=\"edge6\" class=\"edge\">\n<title>q_x_G3:e-&gt;SelectHubbard:w</title>\n<path fill=\"none\" stroke=\"black\" d=\"M54,-180C75.17,-180 69.47,-210.47 88.55,-212.85\"/>\n<ellipse fill=\"black\" stroke=\"black\" cx=\"90\" cy=\"-212.94\" rx=\"1\" ry=\"1\"/>\n<text text-anchor=\"middle\" x=\"72.5\" y=\"-200\" font-family=\"Times,serif\" font-size=\"10.00\">2</text>\n</g>\n<!-- q_y_G17 -->\n<g id=\"node7\" class=\"node\">\n<title>q_y_G17</title>\n<text text-anchor=\"middle\" x=\"27\" y=\"-122.3\" font-family=\"Times,serif\" font-size=\"14.00\">q_y</text>\n</g>\n<!-- q_y_G17&#45;&gt;SelectHubbard -->\n<g id=\"edge7\" class=\"edge\">\n<title>q_y_G17:e-&gt;SelectHubbard:w</title>\n<path fill=\"none\" stroke=\"black\" d=\"M54,-126C86.84,-126 58.75,-188.94 88.74,-191.89\"/>\n<ellipse fill=\"black\" stroke=\"black\" cx=\"90\" cy=\"-191.95\" rx=\"1\" ry=\"1\"/>\n<text text-anchor=\"middle\" x=\"72.5\" y=\"-169\" font-family=\"Times,serif\" font-size=\"10.00\">2</text>\n</g>\n<!-- beta_G6 -->\n<g id=\"node8\" class=\"node\">\n<title>beta_G6</title>\n<text text-anchor=\"middle\" x=\"27\" y=\"-68.3\" font-family=\"Times,serif\" font-size=\"14.00\">beta</text>\n</g>\n<!-- beta_G6&#45;&gt;SelectHubbard -->\n<g id=\"edge8\" class=\"edge\">\n<title>beta_G6:e-&gt;SelectHubbard:w</title>\n<path fill=\"none\" stroke=\"black\" d=\"M54,-72C76.75,-72 68.1,-164.91 88.89,-170.72\"/>\n<ellipse fill=\"black\" stroke=\"black\" cx=\"90.01\" cy=\"-170.87\" rx=\"1\" ry=\"1\"/>\n<text text-anchor=\"middle\" x=\"72.5\" y=\"-127\" font-family=\"Times,serif\" font-size=\"10.00\">1</text>\n</g>\n<!-- target_G13 -->\n<g id=\"node9\" class=\"node\">\n<title>target_G13</title>\n<text text-anchor=\"middle\" x=\"27\" y=\"-14.3\" font-family=\"Times,serif\" font-size=\"14.00\">target</text>\n</g>\n<!-- target_G13&#45;&gt;SelectHubbard -->\n<g id=\"edge9\" class=\"edge\">\n<title>target_G13:e-&gt;SelectHubbard:w</title>\n<path fill=\"none\" stroke=\"black\" d=\"M54,-18C83.75,-18 61.63,-143.89 88.95,-149.79\"/>\n<ellipse fill=\"black\" stroke=\"black\" cx=\"90.01\" cy=\"-149.9\" rx=\"1\" ry=\"1\"/>\n<text text-anchor=\"middle\" x=\"72.5\" y=\"-95\" font-family=\"Times,serif\" font-size=\"10.00\">32</text>\n</g>\n<!-- U_G5 -->\n<g id=\"node11\" class=\"node\">\n<title>U_G5</title>\n<text text-anchor=\"middle\" x=\"243\" y=\"-446.3\" font-family=\"Times,serif\" font-size=\"14.00\">U</text>\n</g>\n<!-- SelectHubbard&#45;&gt;U_G5 -->\n<g id=\"edge10\" class=\"edge\">\n<title>SelectHubbard:e-&gt;U_G5:w</title>\n<path fill=\"none\" stroke=\"black\" d=\"M179,-319C208.54,-319 186.82,-443.93 213.96,-449.79\"/>\n<ellipse fill=\"black\" stroke=\"black\" cx=\"215.01\" cy=\"-449.9\" rx=\"1\" ry=\"1\"/>\n<text text-anchor=\"middle\" x=\"197.5\" y=\"-395\" font-family=\"Times,serif\" font-size=\"10.00\">1</text>\n</g>\n<!-- V_G11 -->\n<g id=\"node12\" class=\"node\">\n<title>V_G11</title>\n<text text-anchor=\"middle\" x=\"243\" y=\"-392.3\" font-family=\"Times,serif\" font-size=\"14.00\">V</text>\n</g>\n<!-- SelectHubbard&#45;&gt;V_G11 -->\n<g id=\"edge11\" class=\"edge\">\n<title>SelectHubbard:e-&gt;V_G11:w</title>\n<path fill=\"none\" stroke=\"black\" d=\"M179,-298C201.55,-298 193.29,-389.97 213.91,-395.72\"/>\n<ellipse fill=\"black\" stroke=\"black\" cx=\"215.01\" cy=\"-395.87\" rx=\"1\" ry=\"1\"/>\n<text text-anchor=\"middle\" x=\"197.5\" y=\"-352\" font-family=\"Times,serif\" font-size=\"10.00\">1</text>\n</g>\n<!-- p_x_G16 -->\n<g id=\"node13\" class=\"node\">\n<title>p_x_G16</title>\n<text text-anchor=\"middle\" x=\"243\" y=\"-338.3\" font-family=\"Times,serif\" font-size=\"14.00\">p_x</text>\n</g>\n<!-- SelectHubbard&#45;&gt;p_x_G16 -->\n<g id=\"edge12\" class=\"edge\">\n<title>SelectHubbard:e-&gt;p_x_G16:w</title>\n<path fill=\"none\" stroke=\"black\" d=\"M179,-277C211.46,-277 184.11,-338.99 213.76,-341.89\"/>\n<ellipse fill=\"black\" stroke=\"black\" cx=\"215\" cy=\"-341.95\" rx=\"1\" ry=\"1\"/>\n<text text-anchor=\"middle\" x=\"197.5\" y=\"-318\" font-family=\"Times,serif\" font-size=\"10.00\">2</text>\n</g>\n<!-- p_y_G2 -->\n<g id=\"node14\" class=\"node\">\n<title>p_y_G2</title>\n<text text-anchor=\"middle\" x=\"243\" y=\"-284.3\" font-family=\"Times,serif\" font-size=\"14.00\">p_y</text>\n</g>\n<!-- SelectHubbard&#45;&gt;p_y_G2 -->\n<g id=\"edge13\" class=\"edge\">\n<title>SelectHubbard:e-&gt;p_y_G2:w</title>\n<path fill=\"none\" stroke=\"black\" d=\"M179,-256C199.89,-256 194.72,-285.55 213.58,-287.86\"/>\n<ellipse fill=\"black\" stroke=\"black\" cx=\"215\" cy=\"-287.94\" rx=\"1\" ry=\"1\"/>\n<text text-anchor=\"middle\" x=\"197.5\" y=\"-275\" font-family=\"Times,serif\" font-size=\"10.00\">2</text>\n</g>\n<!-- alpha_G26 -->\n<g id=\"node15\" class=\"node\">\n<title>alpha_G26</title>\n<text text-anchor=\"middle\" x=\"243\" y=\"-230.3\" font-family=\"Times,serif\" font-size=\"14.00\">alpha</text>\n</g>\n<!-- SelectHubbard&#45;&gt;alpha_G26 -->\n<g id=\"edge14\" class=\"edge\">\n<title>SelectHubbard:e-&gt;alpha_G26:w</title>\n<path fill=\"none\" stroke=\"black\" d=\"M179,-234C194.67,-234 199.14,-234 213.77,-234\"/>\n<ellipse fill=\"black\" stroke=\"black\" cx=\"215\" cy=\"-234\" rx=\"1\" ry=\"1\"/>\n<text text-anchor=\"middle\" x=\"197.5\" y=\"-237\" font-family=\"Times,serif\" font-size=\"10.00\">1</text>\n</g>\n<!-- q_x_G14 -->\n<g id=\"node16\" class=\"node\">\n<title>q_x_G14</title>\n<text text-anchor=\"middle\" x=\"243\" y=\"-176.3\" font-family=\"Times,serif\" font-size=\"14.00\">q_x</text>\n</g>\n<!-- SelectHubbard&#45;&gt;q_x_G14 -->\n<g id=\"edge15\" class=\"edge\">\n<title>SelectHubbard:e-&gt;q_x_G14:w</title>\n<path fill=\"none\" stroke=\"black\" d=\"M179,-213C200.17,-213 194.47,-182.53 213.55,-180.15\"/>\n<ellipse fill=\"black\" stroke=\"black\" cx=\"215\" cy=\"-180.06\" rx=\"1\" ry=\"1\"/>\n<text text-anchor=\"middle\" x=\"197.5\" y=\"-200\" font-family=\"Times,serif\" font-size=\"10.00\">2</text>\n</g>\n<!-- q_y_G8 -->\n<g id=\"node17\" class=\"node\">\n<title>q_y_G8</title>\n<text text-anchor=\"middle\" x=\"243\" y=\"-122.3\" font-family=\"Times,serif\" font-size=\"14.00\">q_y</text>\n</g>\n<!-- SelectHubbard&#45;&gt;q_y_G8 -->\n<g id=\"edge16\" class=\"edge\">\n<title>SelectHubbard:e-&gt;q_y_G8:w</title>\n<path fill=\"none\" stroke=\"black\" d=\"M179,-192C211.84,-192 183.75,-129.06 213.74,-126.11\"/>\n<ellipse fill=\"black\" stroke=\"black\" cx=\"215\" cy=\"-126.05\" rx=\"1\" ry=\"1\"/>\n<text text-anchor=\"middle\" x=\"197.5\" y=\"-169\" font-family=\"Times,serif\" font-size=\"10.00\">2</text>\n</g>\n<!-- beta_G23 -->\n<g id=\"node18\" class=\"node\">\n<title>beta_G23</title>\n<text text-anchor=\"middle\" x=\"243\" y=\"-68.3\" font-family=\"Times,serif\" font-size=\"14.00\">beta</text>\n</g>\n<!-- SelectHubbard&#45;&gt;beta_G23 -->\n<g id=\"edge17\" class=\"edge\">\n<title>SelectHubbard:e-&gt;beta_G23:w</title>\n<path fill=\"none\" stroke=\"black\" d=\"M179,-171C201.75,-171 193.1,-78.09 213.89,-72.28\"/>\n<ellipse fill=\"black\" stroke=\"black\" cx=\"215.01\" cy=\"-72.13\" rx=\"1\" ry=\"1\"/>\n<text text-anchor=\"middle\" x=\"197.5\" y=\"-127\" font-family=\"Times,serif\" font-size=\"10.00\">1</text>\n</g>\n<!-- target_G4 -->\n<g id=\"node19\" class=\"node\">\n<title>target_G4</title>\n<text text-anchor=\"middle\" x=\"243\" y=\"-14.3\" font-family=\"Times,serif\" font-size=\"14.00\">target</text>\n</g>\n<!-- SelectHubbard&#45;&gt;target_G4 -->\n<g id=\"edge18\" class=\"edge\">\n<title>SelectHubbard:e-&gt;target_G4:w</title>\n<path fill=\"none\" stroke=\"black\" d=\"M179,-150C208.75,-150 186.63,-24.11 213.95,-18.21\"/>\n<ellipse fill=\"black\" stroke=\"black\" cx=\"215.01\" cy=\"-18.1\" rx=\"1\" ry=\"1\"/>\n<text text-anchor=\"middle\" x=\"197.5\" y=\"-95\" font-family=\"Times,serif\" font-size=\"10.00\">32</text>\n</g>\n</g>\n</svg>",
          "text/plain": "<IPython.core.display.SVG object>"
         },
         "metadata": {},
         "output_type": "display_data"
        }
       ],
       "tabbable": null,
       "tooltip": null
      }
     },
     "42c59aaaf01043faaeafaf7e582b5c74": {
      "model_module": "@jupyter-widgets/base",
      "model_module_version": "2.0.0",
      "model_name": "LayoutModel",
      "state": {
       "_model_module": "@jupyter-widgets/base",
       "_model_module_version": "2.0.0",
       "_model_name": "LayoutModel",
       "_view_count": null,
       "_view_module": "@jupyter-widgets/base",
       "_view_module_version": "2.0.0",
       "_view_name": "LayoutView",
       "align_content": null,
       "align_items": null,
       "align_self": null,
       "border_bottom": null,
       "border_left": null,
       "border_right": null,
       "border_top": null,
       "bottom": null,
       "display": null,
       "flex": null,
       "flex_flow": null,
       "grid_area": null,
       "grid_auto_columns": null,
       "grid_auto_flow": null,
       "grid_auto_rows": null,
       "grid_column": null,
       "grid_gap": null,
       "grid_row": null,
       "grid_template_areas": null,
       "grid_template_columns": null,
       "grid_template_rows": null,
       "height": null,
       "justify_content": null,
       "justify_items": null,
       "left": null,
       "margin": null,
       "max_height": null,
       "max_width": null,
       "min_height": null,
       "min_width": null,
       "object_fit": null,
       "object_position": null,
       "order": null,
       "overflow": null,
       "padding": null,
       "right": null,
       "top": null,
       "visibility": null,
       "width": null
      }
     },
     "71c68bb4433346839335a6a0cb5dbbaf": {
      "model_module": "@jupyter-widgets/controls",
      "model_module_version": "2.0.0",
      "model_name": "HBoxModel",
      "state": {
       "_dom_classes": [],
       "_model_module": "@jupyter-widgets/controls",
       "_model_module_version": "2.0.0",
       "_model_name": "HBoxModel",
       "_view_count": null,
       "_view_module": "@jupyter-widgets/controls",
       "_view_module_version": "2.0.0",
       "_view_name": "HBoxView",
       "box_style": "",
       "children": [
        "IPY_MODEL_75fd7c09b30044ad818a0416324fb1e4"
       ],
       "layout": "IPY_MODEL_09b3691a366c41a9ae85843f74889bd2",
       "tabbable": null,
       "tooltip": null
      }
     },
     "75fd7c09b30044ad818a0416324fb1e4": {
      "model_module": "@jupyter-widgets/output",
      "model_module_version": "1.0.0",
      "model_name": "OutputModel",
      "state": {
       "_dom_classes": [],
       "_model_module": "@jupyter-widgets/output",
       "_model_module_version": "1.0.0",
       "_model_name": "OutputModel",
       "_view_count": null,
       "_view_module": "@jupyter-widgets/output",
       "_view_module_version": "1.0.0",
       "_view_name": "OutputView",
       "layout": "IPY_MODEL_42c59aaaf01043faaeafaf7e582b5c74",
       "msg_id": "",
       "outputs": [
        {
         "data": {
          "text/markdown": "`prep_hubb`",
          "text/plain": "<IPython.core.display.Markdown object>"
         },
         "metadata": {},
         "output_type": "display_data"
        },
        {
         "data": {
          "image/svg+xml": "<svg xmlns=\"http://www.w3.org/2000/svg\" xmlns:xlink=\"http://www.w3.org/1999/xlink\" width=\"263pt\" height=\"476pt\" viewBox=\"0.00 0.00 263.00 476.00\">\n<g id=\"graph0\" class=\"graph\" transform=\"scale(1 1) rotate(0) translate(4 472)\">\n<title>my_graph</title>\n<polygon fill=\"white\" stroke=\"transparent\" points=\"-4,4 -4,-472 259,-472 259,4 -4,4\"/>\n<!-- U_G25 -->\n<g id=\"node1\" class=\"node\">\n<title>U_G25</title>\n<text text-anchor=\"middle\" x=\"27\" y=\"-446.3\" font-family=\"Times,serif\" font-size=\"14.00\">U</text>\n</g>\n<!-- PrepareHubbard -->\n<g id=\"node10\" class=\"node\">\n<title>PrepareHubbard</title>\n<polygon fill=\"none\" stroke=\"black\" points=\"91.5,-329 91.5,-346 164.5,-346 164.5,-329 91.5,-329\"/>\n<text text-anchor=\"start\" x=\"94.5\" y=\"-335\" font-family=\"Times,serif\" font-size=\"10.00\">PrepareHubbard</text>\n<polygon fill=\"none\" stroke=\"black\" points=\"91.5,-308 91.5,-329 164.5,-329 164.5,-308 91.5,-308\"/>\n<text text-anchor=\"start\" x=\"123\" y=\"-314.8\" font-family=\"Times,serif\" font-size=\"14.00\">U</text>\n<polygon fill=\"none\" stroke=\"black\" points=\"91.5,-287 91.5,-308 164.5,-308 164.5,-287 91.5,-287\"/>\n<text text-anchor=\"start\" x=\"123\" y=\"-293.8\" font-family=\"Times,serif\" font-size=\"14.00\">V</text>\n<polygon fill=\"none\" stroke=\"black\" points=\"91.5,-266 91.5,-287 164.5,-287 164.5,-266 91.5,-266\"/>\n<text text-anchor=\"start\" x=\"117.5\" y=\"-272.8\" font-family=\"Times,serif\" font-size=\"14.00\">p_x</text>\n<polygon fill=\"none\" stroke=\"black\" points=\"91.5,-245 91.5,-266 164.5,-266 164.5,-245 91.5,-245\"/>\n<text text-anchor=\"start\" x=\"117.5\" y=\"-251.8\" font-family=\"Times,serif\" font-size=\"14.00\">p_y</text>\n<polygon fill=\"none\" stroke=\"black\" points=\"91.5,-224 91.5,-245 164.5,-245 164.5,-224 91.5,-224\"/>\n<text text-anchor=\"start\" x=\"113\" y=\"-230.8\" font-family=\"Times,serif\" font-size=\"14.00\">alpha</text>\n<polygon fill=\"none\" stroke=\"black\" points=\"91.5,-203 91.5,-224 164.5,-224 164.5,-203 91.5,-203\"/>\n<text text-anchor=\"start\" x=\"117.5\" y=\"-209.8\" font-family=\"Times,serif\" font-size=\"14.00\">q_x</text>\n<polygon fill=\"none\" stroke=\"black\" points=\"91.5,-182 91.5,-203 164.5,-203 164.5,-182 91.5,-182\"/>\n<text text-anchor=\"start\" x=\"117.5\" y=\"-188.8\" font-family=\"Times,serif\" font-size=\"14.00\">q_y</text>\n<polygon fill=\"none\" stroke=\"black\" points=\"91.5,-161 91.5,-182 164.5,-182 164.5,-161 91.5,-161\"/>\n<text text-anchor=\"start\" x=\"116.5\" y=\"-167.8\" font-family=\"Times,serif\" font-size=\"14.00\">beta</text>\n<polygon fill=\"none\" stroke=\"black\" points=\"91.5,-140 91.5,-161 164.5,-161 164.5,-140 91.5,-140\"/>\n<text text-anchor=\"start\" x=\"114\" y=\"-146.8\" font-family=\"Times,serif\" font-size=\"14.00\">temp</text>\n</g>\n<!-- U_G25&#45;&gt;PrepareHubbard -->\n<g id=\"edge1\" class=\"edge\">\n<title>U_G25:e-&gt;PrepareHubbard:w</title>\n<path fill=\"none\" stroke=\"black\" d=\"M54,-450C83.54,-450 61.82,-325.07 88.96,-319.21\"/>\n<ellipse fill=\"black\" stroke=\"black\" cx=\"90.01\" cy=\"-319.1\" rx=\"1\" ry=\"1\"/>\n<text text-anchor=\"middle\" x=\"72.5\" y=\"-395\" font-family=\"Times,serif\" font-size=\"10.00\">1</text>\n</g>\n<!-- V_G21 -->\n<g id=\"node2\" class=\"node\">\n<title>V_G21</title>\n<text text-anchor=\"middle\" x=\"27\" y=\"-392.3\" font-family=\"Times,serif\" font-size=\"14.00\">V</text>\n</g>\n<!-- V_G21&#45;&gt;PrepareHubbard -->\n<g id=\"edge2\" class=\"edge\">\n<title>V_G21:e-&gt;PrepareHubbard:w</title>\n<path fill=\"none\" stroke=\"black\" d=\"M54,-396C76.55,-396 68.29,-304.03 88.91,-298.28\"/>\n<ellipse fill=\"black\" stroke=\"black\" cx=\"90.01\" cy=\"-298.13\" rx=\"1\" ry=\"1\"/>\n<text text-anchor=\"middle\" x=\"72.5\" y=\"-352\" font-family=\"Times,serif\" font-size=\"10.00\">1</text>\n</g>\n<!-- p_x_G11 -->\n<g id=\"node3\" class=\"node\">\n<title>p_x_G11</title>\n<text text-anchor=\"middle\" x=\"27\" y=\"-338.3\" font-family=\"Times,serif\" font-size=\"14.00\">p_x</text>\n</g>\n<!-- p_x_G11&#45;&gt;PrepareHubbard -->\n<g id=\"edge3\" class=\"edge\">\n<title>p_x_G11:e-&gt;PrepareHubbard:w</title>\n<path fill=\"none\" stroke=\"black\" d=\"M54,-342C86.46,-342 59.11,-280.01 88.76,-277.11\"/>\n<ellipse fill=\"black\" stroke=\"black\" cx=\"90\" cy=\"-277.05\" rx=\"1\" ry=\"1\"/>\n<text text-anchor=\"middle\" x=\"72.5\" y=\"-318\" font-family=\"Times,serif\" font-size=\"10.00\">2</text>\n</g>\n<!-- p_y_G15 -->\n<g id=\"node4\" class=\"node\">\n<title>p_y_G15</title>\n<text text-anchor=\"middle\" x=\"27\" y=\"-284.3\" font-family=\"Times,serif\" font-size=\"14.00\">p_y</text>\n</g>\n<!-- p_y_G15&#45;&gt;PrepareHubbard -->\n<g id=\"edge4\" class=\"edge\">\n<title>p_y_G15:e-&gt;PrepareHubbard:w</title>\n<path fill=\"none\" stroke=\"black\" d=\"M54,-288C74.89,-288 69.72,-258.45 88.58,-256.14\"/>\n<ellipse fill=\"black\" stroke=\"black\" cx=\"90\" cy=\"-256.06\" rx=\"1\" ry=\"1\"/>\n<text text-anchor=\"middle\" x=\"72.5\" y=\"-275\" font-family=\"Times,serif\" font-size=\"10.00\">2</text>\n</g>\n<!-- alpha_G18 -->\n<g id=\"node5\" class=\"node\">\n<title>alpha_G18</title>\n<text text-anchor=\"middle\" x=\"27\" y=\"-230.3\" font-family=\"Times,serif\" font-size=\"14.00\">alpha</text>\n</g>\n<!-- alpha_G18&#45;&gt;PrepareHubbard -->\n<g id=\"edge5\" class=\"edge\">\n<title>alpha_G18:e-&gt;PrepareHubbard:w</title>\n<path fill=\"none\" stroke=\"black\" d=\"M54,-234C69.67,-234 74.14,-234 88.77,-234\"/>\n<ellipse fill=\"black\" stroke=\"black\" cx=\"90\" cy=\"-234\" rx=\"1\" ry=\"1\"/>\n<text text-anchor=\"middle\" x=\"72.5\" y=\"-237\" font-family=\"Times,serif\" font-size=\"10.00\">1</text>\n</g>\n<!-- q_x_G4 -->\n<g id=\"node6\" class=\"node\">\n<title>q_x_G4</title>\n<text text-anchor=\"middle\" x=\"27\" y=\"-176.3\" font-family=\"Times,serif\" font-size=\"14.00\">q_x</text>\n</g>\n<!-- q_x_G4&#45;&gt;PrepareHubbard -->\n<g id=\"edge6\" class=\"edge\">\n<title>q_x_G4:e-&gt;PrepareHubbard:w</title>\n<path fill=\"none\" stroke=\"black\" d=\"M54,-180C75.17,-180 69.47,-210.47 88.55,-212.85\"/>\n<ellipse fill=\"black\" stroke=\"black\" cx=\"90\" cy=\"-212.94\" rx=\"1\" ry=\"1\"/>\n<text text-anchor=\"middle\" x=\"72.5\" y=\"-200\" font-family=\"Times,serif\" font-size=\"10.00\">2</text>\n</g>\n<!-- q_y_G17 -->\n<g id=\"node7\" class=\"node\">\n<title>q_y_G17</title>\n<text text-anchor=\"middle\" x=\"27\" y=\"-122.3\" font-family=\"Times,serif\" font-size=\"14.00\">q_y</text>\n</g>\n<!-- q_y_G17&#45;&gt;PrepareHubbard -->\n<g id=\"edge7\" class=\"edge\">\n<title>q_y_G17:e-&gt;PrepareHubbard:w</title>\n<path fill=\"none\" stroke=\"black\" d=\"M54,-126C86.84,-126 58.75,-188.94 88.74,-191.89\"/>\n<ellipse fill=\"black\" stroke=\"black\" cx=\"90\" cy=\"-191.95\" rx=\"1\" ry=\"1\"/>\n<text text-anchor=\"middle\" x=\"72.5\" y=\"-169\" font-family=\"Times,serif\" font-size=\"10.00\">2</text>\n</g>\n<!-- beta_G6 -->\n<g id=\"node8\" class=\"node\">\n<title>beta_G6</title>\n<text text-anchor=\"middle\" x=\"27\" y=\"-68.3\" font-family=\"Times,serif\" font-size=\"14.00\">beta</text>\n</g>\n<!-- beta_G6&#45;&gt;PrepareHubbard -->\n<g id=\"edge8\" class=\"edge\">\n<title>beta_G6:e-&gt;PrepareHubbard:w</title>\n<path fill=\"none\" stroke=\"black\" d=\"M54,-72C76.75,-72 68.1,-164.91 88.89,-170.72\"/>\n<ellipse fill=\"black\" stroke=\"black\" cx=\"90.01\" cy=\"-170.87\" rx=\"1\" ry=\"1\"/>\n<text text-anchor=\"middle\" x=\"72.5\" y=\"-127\" font-family=\"Times,serif\" font-size=\"10.00\">1</text>\n</g>\n<!-- temp_G22 -->\n<g id=\"node9\" class=\"node\">\n<title>temp_G22</title>\n<text text-anchor=\"middle\" x=\"27\" y=\"-14.3\" font-family=\"Times,serif\" font-size=\"14.00\">temp</text>\n</g>\n<!-- temp_G22&#45;&gt;PrepareHubbard -->\n<g id=\"edge9\" class=\"edge\">\n<title>temp_G22:e-&gt;PrepareHubbard:w</title>\n<path fill=\"none\" stroke=\"black\" d=\"M54,-18C83.75,-18 61.63,-143.89 88.95,-149.79\"/>\n<ellipse fill=\"black\" stroke=\"black\" cx=\"90.01\" cy=\"-149.9\" rx=\"1\" ry=\"1\"/>\n<text text-anchor=\"middle\" x=\"72.5\" y=\"-95\" font-family=\"Times,serif\" font-size=\"10.00\">2</text>\n</g>\n<!-- U_G5 -->\n<g id=\"node11\" class=\"node\">\n<title>U_G5</title>\n<text text-anchor=\"middle\" x=\"228\" y=\"-446.3\" font-family=\"Times,serif\" font-size=\"14.00\">U</text>\n</g>\n<!-- PrepareHubbard&#45;&gt;U_G5 -->\n<g id=\"edge10\" class=\"edge\">\n<title>PrepareHubbard:e-&gt;U_G5:w</title>\n<path fill=\"none\" stroke=\"black\" d=\"M164,-319C193.54,-319 171.82,-443.93 198.96,-449.79\"/>\n<ellipse fill=\"black\" stroke=\"black\" cx=\"200.01\" cy=\"-449.9\" rx=\"1\" ry=\"1\"/>\n<text text-anchor=\"middle\" x=\"182.5\" y=\"-395\" font-family=\"Times,serif\" font-size=\"10.00\">1</text>\n</g>\n<!-- V_G12 -->\n<g id=\"node12\" class=\"node\">\n<title>V_G12</title>\n<text text-anchor=\"middle\" x=\"228\" y=\"-392.3\" font-family=\"Times,serif\" font-size=\"14.00\">V</text>\n</g>\n<!-- PrepareHubbard&#45;&gt;V_G12 -->\n<g id=\"edge11\" class=\"edge\">\n<title>PrepareHubbard:e-&gt;V_G12:w</title>\n<path fill=\"none\" stroke=\"black\" d=\"M164,-298C186.55,-298 178.29,-389.97 198.91,-395.72\"/>\n<ellipse fill=\"black\" stroke=\"black\" cx=\"200.01\" cy=\"-395.87\" rx=\"1\" ry=\"1\"/>\n<text text-anchor=\"middle\" x=\"182.5\" y=\"-352\" font-family=\"Times,serif\" font-size=\"10.00\">1</text>\n</g>\n<!-- p_x_G16 -->\n<g id=\"node13\" class=\"node\">\n<title>p_x_G16</title>\n<text text-anchor=\"middle\" x=\"228\" y=\"-338.3\" font-family=\"Times,serif\" font-size=\"14.00\">p_x</text>\n</g>\n<!-- PrepareHubbard&#45;&gt;p_x_G16 -->\n<g id=\"edge12\" class=\"edge\">\n<title>PrepareHubbard:e-&gt;p_x_G16:w</title>\n<path fill=\"none\" stroke=\"black\" d=\"M164,-277C196.46,-277 169.11,-338.99 198.76,-341.89\"/>\n<ellipse fill=\"black\" stroke=\"black\" cx=\"200\" cy=\"-341.95\" rx=\"1\" ry=\"1\"/>\n<text text-anchor=\"middle\" x=\"182.5\" y=\"-318\" font-family=\"Times,serif\" font-size=\"10.00\">2</text>\n</g>\n<!-- p_y_G2 -->\n<g id=\"node14\" class=\"node\">\n<title>p_y_G2</title>\n<text text-anchor=\"middle\" x=\"228\" y=\"-284.3\" font-family=\"Times,serif\" font-size=\"14.00\">p_y</text>\n</g>\n<!-- PrepareHubbard&#45;&gt;p_y_G2 -->\n<g id=\"edge13\" class=\"edge\">\n<title>PrepareHubbard:e-&gt;p_y_G2:w</title>\n<path fill=\"none\" stroke=\"black\" d=\"M164,-256C184.89,-256 179.72,-285.55 198.58,-287.86\"/>\n<ellipse fill=\"black\" stroke=\"black\" cx=\"200\" cy=\"-287.94\" rx=\"1\" ry=\"1\"/>\n<text text-anchor=\"middle\" x=\"182.5\" y=\"-275\" font-family=\"Times,serif\" font-size=\"10.00\">2</text>\n</g>\n<!-- alpha_G24 -->\n<g id=\"node15\" class=\"node\">\n<title>alpha_G24</title>\n<text text-anchor=\"middle\" x=\"228\" y=\"-230.3\" font-family=\"Times,serif\" font-size=\"14.00\">alpha</text>\n</g>\n<!-- PrepareHubbard&#45;&gt;alpha_G24 -->\n<g id=\"edge14\" class=\"edge\">\n<title>PrepareHubbard:e-&gt;alpha_G24:w</title>\n<path fill=\"none\" stroke=\"black\" d=\"M164,-234C179.67,-234 184.14,-234 198.77,-234\"/>\n<ellipse fill=\"black\" stroke=\"black\" cx=\"200\" cy=\"-234\" rx=\"1\" ry=\"1\"/>\n<text text-anchor=\"middle\" x=\"182.5\" y=\"-237\" font-family=\"Times,serif\" font-size=\"10.00\">1</text>\n</g>\n<!-- q_x_G14 -->\n<g id=\"node16\" class=\"node\">\n<title>q_x_G14</title>\n<text text-anchor=\"middle\" x=\"228\" y=\"-176.3\" font-family=\"Times,serif\" font-size=\"14.00\">q_x</text>\n</g>\n<!-- PrepareHubbard&#45;&gt;q_x_G14 -->\n<g id=\"edge15\" class=\"edge\">\n<title>PrepareHubbard:e-&gt;q_x_G14:w</title>\n<path fill=\"none\" stroke=\"black\" d=\"M164,-213C185.17,-213 179.47,-182.53 198.55,-180.15\"/>\n<ellipse fill=\"black\" stroke=\"black\" cx=\"200\" cy=\"-180.06\" rx=\"1\" ry=\"1\"/>\n<text text-anchor=\"middle\" x=\"182.5\" y=\"-200\" font-family=\"Times,serif\" font-size=\"10.00\">2</text>\n</g>\n<!-- q_y_G7 -->\n<g id=\"node17\" class=\"node\">\n<title>q_y_G7</title>\n<text text-anchor=\"middle\" x=\"228\" y=\"-122.3\" font-family=\"Times,serif\" font-size=\"14.00\">q_y</text>\n</g>\n<!-- PrepareHubbard&#45;&gt;q_y_G7 -->\n<g id=\"edge16\" class=\"edge\">\n<title>PrepareHubbard:e-&gt;q_y_G7:w</title>\n<path fill=\"none\" stroke=\"black\" d=\"M164,-192C196.84,-192 168.75,-129.06 198.74,-126.11\"/>\n<ellipse fill=\"black\" stroke=\"black\" cx=\"200\" cy=\"-126.05\" rx=\"1\" ry=\"1\"/>\n<text text-anchor=\"middle\" x=\"182.5\" y=\"-169\" font-family=\"Times,serif\" font-size=\"10.00\">2</text>\n</g>\n<!-- beta_G23 -->\n<g id=\"node18\" class=\"node\">\n<title>beta_G23</title>\n<text text-anchor=\"middle\" x=\"228\" y=\"-68.3\" font-family=\"Times,serif\" font-size=\"14.00\">beta</text>\n</g>\n<!-- PrepareHubbard&#45;&gt;beta_G23 -->\n<g id=\"edge17\" class=\"edge\">\n<title>PrepareHubbard:e-&gt;beta_G23:w</title>\n<path fill=\"none\" stroke=\"black\" d=\"M164,-171C186.75,-171 178.1,-78.09 198.89,-72.28\"/>\n<ellipse fill=\"black\" stroke=\"black\" cx=\"200.01\" cy=\"-72.13\" rx=\"1\" ry=\"1\"/>\n<text text-anchor=\"middle\" x=\"182.5\" y=\"-127\" font-family=\"Times,serif\" font-size=\"10.00\">1</text>\n</g>\n<!-- temp_G13 -->\n<g id=\"node19\" class=\"node\">\n<title>temp_G13</title>\n<text text-anchor=\"middle\" x=\"228\" y=\"-14.3\" font-family=\"Times,serif\" font-size=\"14.00\">temp</text>\n</g>\n<!-- PrepareHubbard&#45;&gt;temp_G13 -->\n<g id=\"edge18\" class=\"edge\">\n<title>PrepareHubbard:e-&gt;temp_G13:w</title>\n<path fill=\"none\" stroke=\"black\" d=\"M164,-150C193.75,-150 171.63,-24.11 198.95,-18.21\"/>\n<ellipse fill=\"black\" stroke=\"black\" cx=\"200.01\" cy=\"-18.1\" rx=\"1\" ry=\"1\"/>\n<text text-anchor=\"middle\" x=\"182.5\" y=\"-95\" font-family=\"Times,serif\" font-size=\"10.00\">2</text>\n</g>\n</g>\n</svg>",
          "text/plain": "<IPython.core.display.SVG object>"
         },
         "metadata": {},
         "output_type": "display_data"
        }
       ],
       "tabbable": null,
       "tooltip": null
      }
     },
     "94414a8c363440deaee0ca29a5935077": {
      "model_module": "@jupyter-widgets/base",
      "model_module_version": "2.0.0",
      "model_name": "LayoutModel",
      "state": {
       "_model_module": "@jupyter-widgets/base",
       "_model_module_version": "2.0.0",
       "_model_name": "LayoutModel",
       "_view_count": null,
       "_view_module": "@jupyter-widgets/base",
       "_view_module_version": "2.0.0",
       "_view_name": "LayoutView",
       "align_content": null,
       "align_items": null,
       "align_self": null,
       "border_bottom": null,
       "border_left": null,
       "border_right": null,
       "border_top": null,
       "bottom": null,
       "display": null,
       "flex": null,
       "flex_flow": null,
       "grid_area": null,
       "grid_auto_columns": null,
       "grid_auto_flow": null,
       "grid_auto_rows": null,
       "grid_column": null,
       "grid_gap": null,
       "grid_row": null,
       "grid_template_areas": null,
       "grid_template_columns": null,
       "grid_template_rows": null,
       "height": null,
       "justify_content": null,
       "justify_items": null,
       "left": null,
       "margin": null,
       "max_height": null,
       "max_width": null,
       "min_height": null,
       "min_width": null,
       "object_fit": null,
       "object_position": null,
       "order": null,
       "overflow": null,
       "padding": null,
       "right": null,
       "top": null,
       "visibility": null,
       "width": null
      }
     },
     "d6cf18431af94c6ea9810d1768d7eb2b": {
      "model_module": "@jupyter-widgets/base",
      "model_module_version": "2.0.0",
      "model_name": "LayoutModel",
      "state": {
       "_model_module": "@jupyter-widgets/base",
       "_model_module_version": "2.0.0",
       "_model_name": "LayoutModel",
       "_view_count": null,
       "_view_module": "@jupyter-widgets/base",
       "_view_module_version": "2.0.0",
       "_view_name": "LayoutView",
       "align_content": null,
       "align_items": null,
       "align_self": null,
       "border_bottom": null,
       "border_left": null,
       "border_right": null,
       "border_top": null,
       "bottom": null,
       "display": null,
       "flex": null,
       "flex_flow": null,
       "grid_area": null,
       "grid_auto_columns": null,
       "grid_auto_flow": null,
       "grid_auto_rows": null,
       "grid_column": null,
       "grid_gap": null,
       "grid_row": null,
       "grid_template_areas": null,
       "grid_template_columns": null,
       "grid_template_rows": null,
       "height": null,
       "justify_content": null,
       "justify_items": null,
       "left": null,
       "margin": null,
       "max_height": null,
       "max_width": null,
       "min_height": null,
       "min_width": null,
       "object_fit": null,
       "object_position": null,
       "order": null,
       "overflow": null,
       "padding": null,
       "right": null,
       "top": null,
       "visibility": null,
       "width": null
      }
     },
     "e244018874c14e66b128edec689976f8": {
      "model_module": "@jupyter-widgets/controls",
      "model_module_version": "2.0.0",
      "model_name": "HBoxModel",
      "state": {
       "_dom_classes": [],
       "_model_module": "@jupyter-widgets/controls",
       "_model_module_version": "2.0.0",
       "_model_name": "HBoxModel",
       "_view_count": null,
       "_view_module": "@jupyter-widgets/controls",
       "_view_module_version": "2.0.0",
       "_view_name": "HBoxView",
       "box_style": "",
       "children": [
        "IPY_MODEL_16391cfdef5440a792cfe644ead5b99c"
       ],
       "layout": "IPY_MODEL_94414a8c363440deaee0ca29a5935077",
       "tabbable": null,
       "tooltip": null
      }
     }
    },
    "version_major": 2,
    "version_minor": 0
   }
  }
 },
 "nbformat": 4,
 "nbformat_minor": 5
}
