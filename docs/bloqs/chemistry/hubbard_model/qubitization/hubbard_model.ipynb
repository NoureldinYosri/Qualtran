{
 "cells": [
  {
   "cell_type": "markdown",
   "id": "69133d73",
   "metadata": {
    "cq.autogen": "title_cell"
   },
   "source": [
    "# Qubitized Hubbard Model\n",
    "\n",
    "Simulating the Hubbard model Hamiltonian using qubitization.\n",
    "\n",
    "This module follows section V. of Encoding Electronic Spectra in Quantum Circuits with Linear T\n",
    "Complexity. Babbush et. al. 2018. [arxiv:1805.03662](https://arxiv.org/abs/1805.03662).\n",
    "\n",
    "The 2D Hubbard model is a special case of the electronic structure Hamiltonian\n",
    "restricted to spins on a planar grid.\n",
    "\n",
    "$$\n",
    "H = -t \\sum_{\\langle p,q \\rangle, \\sigma} a_{p,\\sigma}^\\dagger a_{q,\\sigma}\n",
    "    + \\frac{u}{2} \\sum_{p,\\alpha\\ne\\beta} n_{p, \\alpha} n_{p, \\beta}\n",
    "$$\n",
    "\n",
    "Under the Jordan-Wigner transformation to Pauli operators, this is\n",
    "\n",
    "$$\n",
    "\\def\\Zvec{\\overrightarrow{Z}}\n",
    "\\def\\hop#1{#1_{p,\\sigma} \\Zvec #1_{q,\\sigma}}\n",
    "H = -\\frac{t}{2} \\sum_{\\langle p,q \\rangle, \\sigma} (\\hop{X} + \\hop{Y})\n",
    "  + \\frac{u}{8} \\sum_{p,\\alpha\\ne\\beta} Z_{p,\\alpha}Z_{p,\\beta}\n",
    "  - \\frac{u}{4} \\sum_{p,\\sigma} Z_{p,\\sigma} + \\frac{uN}{4}\\mathbb{1}\n",
    "$$\n",
    "\n",
    "This can be simulated using a qubitization circuit, which consists of PREPARE and SELECT\n",
    "operations. This module contains `SelectHubbard` and `PrepareHubbard`, with particular\n",
    "compilation optimizations for the Hubbard model. For more insight into how Select and Prepare\n",
    "operations can be combined into a quantum walk, please see\n",
    "[Qubitization Walk Operator](./qubitization_walk_operator.ipynb).\n",
    "\n",
    "With these operators, our selection register has indices\n",
    "for $p$, $\\alpha$, $q$, and $\\beta$ as well as two indicator bits $U$ and $V$. There are four cases\n",
    "considered in both the PREPARE and SELECT operations corresponding to the terms in the Hamiltonian:\n",
    "\n",
    " - $U=1$, single-body Z\n",
    " - $V=1$, spin-spin ZZ term\n",
    " - $p<q$, XZX term\n",
    " - $p>q$, YZY term."
   ]
  },
  {
   "cell_type": "code",
   "execution_count": 1,
   "id": "1159189f",
   "metadata": {
    "cq.autogen": "top_imports"
   },
   "outputs": [],
   "source": [
    "from qualtran import Bloq, CompositeBloq, BloqBuilder, Signature, Register\n",
    "from qualtran import QBit, QInt, QUInt, QAny\n",
    "from qualtran.drawing import show_bloq, show_call_graph, show_counts_sigma\n",
    "from typing import *\n",
    "import numpy as np\n",
    "import sympy\n",
    "import cirq"
   ]
  },
  {
   "cell_type": "markdown",
   "id": "b715659d",
   "metadata": {
    "cq.autogen": "SelectHubbard.bloq_doc.md"
   },
   "source": [
    "## `SelectHubbard`\n",
    "The SELECT operation optimized for the 2D Hubbard model.\n",
    "\n",
    "In contrast to SELECT for an arbitrary chemistry Hamiltonian, we:\n",
    " - explicitly consider the two dimensions of indices to permit optimization of the circuits.\n",
    " - dispense with the `theta` index for phases.\n",
    "\n",
    "If neither $U$ nor $V$ is set we apply the kinetic terms of the Hamiltonian:\n",
    "\n",
    "$$\n",
    "-\\hop{X} \\quad p < q \\\\\n",
    "-\\hop{Y} \\quad p > q\n",
    "$$\n",
    "\n",
    "If $U$ is set we know $(p,\\alpha)=(q,\\beta)$ and apply the single-body term: $-Z_{p,\\alpha}$.\n",
    "If $V$ is set we know $p=q, \\alpha=0$, and $\\beta=1$ and apply the spin term:\n",
    "$Z_{p,\\alpha}Z_{p,\\beta}$\n",
    "\n",
    "`SelectHubbard`'s construction uses $10 * N + log(N)$ T-gates.\n",
    "\n",
    "#### Parameters\n",
    " - `x_dim`: the number of sites along the x axis.\n",
    " - `y_dim`: the number of sites along the y axis.\n",
    " - `control_val`: Optional bit specifying the control value for constructing a controlled version of this gate. Defaults to None, which means un-controlled. \n",
    "\n",
    "#### Registers\n",
    " - `control`: A control bit for the entire gate.\n",
    " - `U`: Whether we're applying the single-site part of the potential.\n",
    " - `V`: Whether we're applying the pairwise part of the potential.\n",
    " - `p_x`: First set of site indices, x component.\n",
    " - `p_y`: First set of site indices, y component.\n",
    " - `alpha`: First set of sites' spin indicator.\n",
    " - `q_x`: Second set of site indices, x component.\n",
    " - `q_y`: Second set of site indices, y component.\n",
    " - `beta`: Second set of sites' spin indicator.\n",
    " - `target`: The system register to apply the select operation. \n",
    "\n",
    "#### References\n",
    " - [Encoding Electronic Spectra in Quantum Circuits with Linear T Complexity](https://arxiv.org/abs/1805.03662). Section V. and Fig. 19.\n"
   ]
  },
  {
   "cell_type": "code",
   "execution_count": 2,
   "id": "24845fa2",
   "metadata": {
    "cq.autogen": "SelectHubbard.bloq_doc.py"
   },
   "outputs": [],
   "source": [
    "from qualtran.bloqs.chemistry.hubbard_model.qubitization import SelectHubbard"
   ]
  },
  {
   "cell_type": "markdown",
   "id": "1fc9d9ec",
   "metadata": {
    "cq.autogen": "SelectHubbard.example_instances.md"
   },
   "source": [
    "### Example Instances"
   ]
  },
  {
   "cell_type": "code",
   "execution_count": 3,
   "id": "f8513a4b",
   "metadata": {
    "cq.autogen": "SelectHubbard.sel_hubb"
   },
   "outputs": [],
   "source": [
    "x_dim = 4\n",
    "y_dim = 4\n",
    "sel_hubb = SelectHubbard(x_dim, y_dim)"
   ]
  },
  {
   "cell_type": "markdown",
   "id": "084571f0",
   "metadata": {
    "cq.autogen": "SelectHubbard.graphical_signature.md"
   },
   "source": [
    "#### Graphical Signature"
   ]
  },
  {
   "cell_type": "code",
   "execution_count": 4,
   "id": "564970cd",
   "metadata": {
    "cq.autogen": "SelectHubbard.graphical_signature.py"
   },
   "outputs": [
    {
     "data": {
      "application/vnd.jupyter.widget-view+json": {
       "model_id": "1faa1218182d4490b5c65471b43e181e",
       "version_major": 2,
       "version_minor": 0
      },
      "text/plain": [
       "HBox(children=(Output(outputs=({'output_type': 'display_data', 'data': {'text/plain': '<IPython.core.display.M…"
      ]
     },
     "metadata": {},
     "output_type": "display_data"
    }
   ],
   "source": [
    "from qualtran.drawing import show_bloqs\n",
    "show_bloqs([sel_hubb],\n",
    "           ['`sel_hubb`'])"
   ]
  },
  {
   "cell_type": "markdown",
   "id": "541a6b1b",
   "metadata": {
    "cq.autogen": "SelectHubbard.call_graph.md"
   },
   "source": [
    "### Call Graph"
   ]
  },
  {
   "cell_type": "code",
   "execution_count": 5,
   "id": "49bcec57",
   "metadata": {
    "cq.autogen": "SelectHubbard.call_graph.py"
   },
   "outputs": [
    {
     "data": {
      "image/svg+xml": [
       "<svg xmlns=\"http://www.w3.org/2000/svg\" xmlns:xlink=\"http://www.w3.org/1999/xlink\" width=\"1754pt\" height=\"131pt\" viewBox=\"0.00 0.00 1754.00 131.00\">\n",
       "<g id=\"graph0\" class=\"graph\" transform=\"scale(1 1) rotate(0) translate(4 127)\">\n",
       "<title>counts</title>\n",
       "<polygon fill=\"white\" stroke=\"transparent\" points=\"-4,4 -4,-127 1750,-127 1750,4 -4,4\"/>\n",
       "<!-- b0 -->\n",
       "<g id=\"node1\" class=\"node\">\n",
       "<title>b0</title>\n",
       "<polygon fill=\"none\" stroke=\"black\" points=\"1037,-123 816,-123 816,-87 1037,-87 1037,-123\"/>\n",
       "<text text-anchor=\"start\" x=\"886\" y=\"-106.8\" font-family=\"Times,serif\" font-size=\"14.00\">SelectHubbard</text>\n",
       "<text text-anchor=\"start\" x=\"824\" y=\"-96\" font-family=\"monospace\" font-size=\"10.00\">x_dim=4, y_dim=4, control_val=None</text>\n",
       "</g>\n",
       "<!-- b1 -->\n",
       "<g id=\"node2\" class=\"node\">\n",
       "<title>b1</title>\n",
       "<polygon fill=\"none\" stroke=\"black\" points=\"401,-36 0,-36 0,0 401,0 401,-36\"/>\n",
       "<text text-anchor=\"start\" x=\"128\" y=\"-19.8\" font-family=\"Times,serif\" font-size=\"14.00\">SelectedMajoranaFermion</text>\n",
       "<text text-anchor=\"start\" x=\"8\" y=\"-9\" font-family=\"monospace\" font-size=\"10.00\">selection_regs=(Registe ..., control_regs=(), target_gate=cirq.X</text>\n",
       "</g>\n",
       "<!-- b0&#45;&gt;b1 -->\n",
       "<g id=\"edge1\" class=\"edge\">\n",
       "<title>b0-&gt;b1</title>\n",
       "<path fill=\"none\" stroke=\"black\" d=\"M815.91,-94.27C745.11,-87.77 651.31,-78.67 568.5,-69 488.39,-59.64 398.69,-47.49 327.92,-37.51\"/>\n",
       "<polygon fill=\"black\" stroke=\"black\" points=\"328.01,-33.99 317.61,-36.06 327.03,-40.92 328.01,-33.99\"/>\n",
       "<text text-anchor=\"middle\" x=\"572\" y=\"-57.8\" font-family=\"Times,serif\" font-size=\"14.00\">1</text>\n",
       "</g>\n",
       "<!-- b2 -->\n",
       "<g id=\"node3\" class=\"node\">\n",
       "<title>b2</title>\n",
       "<polygon fill=\"none\" stroke=\"black\" points=\"490,-36 419,-36 419,0 490,0 490,-36\"/>\n",
       "<text text-anchor=\"start\" x=\"434.5\" y=\"-19.8\" font-family=\"Times,serif\" font-size=\"14.00\">CSwap</text>\n",
       "<text text-anchor=\"start\" x=\"427\" y=\"-9\" font-family=\"monospace\" font-size=\"10.00\">bitsize=2</text>\n",
       "</g>\n",
       "<!-- b0&#45;&gt;b2 -->\n",
       "<g id=\"edge2\" class=\"edge\">\n",
       "<title>b0-&gt;b2</title>\n",
       "<path fill=\"none\" stroke=\"black\" d=\"M815.64,-92.9C730.9,-82.9 611.38,-65.54 500.03,-36.15\"/>\n",
       "<polygon fill=\"black\" stroke=\"black\" points=\"500.88,-32.75 490.31,-33.55 499.07,-39.51 500.88,-32.75\"/>\n",
       "<text text-anchor=\"middle\" x=\"654\" y=\"-57.8\" font-family=\"Times,serif\" font-size=\"14.00\">4</text>\n",
       "</g>\n",
       "<!-- b3 -->\n",
       "<g id=\"node4\" class=\"node\">\n",
       "<title>b3</title>\n",
       "<polygon fill=\"none\" stroke=\"black\" points=\"669,-36 508,-36 508,0 669,0 669,-36\"/>\n",
       "<text text-anchor=\"start\" x=\"567.5\" y=\"-19.8\" font-family=\"Times,serif\" font-size=\"14.00\">GPhase</text>\n",
       "<text text-anchor=\"start\" x=\"516\" y=\"-9\" font-family=\"monospace\" font-size=\"10.00\">exponent=-0.5, eps=1e-11</text>\n",
       "</g>\n",
       "<!-- b0&#45;&gt;b3 -->\n",
       "<g id=\"edge3\" class=\"edge\">\n",
       "<title>b0-&gt;b3</title>\n",
       "<path fill=\"none\" stroke=\"black\" d=\"M858.51,-86.9C802.93,-72.92 724.32,-53.16 666.25,-38.55\"/>\n",
       "<polygon fill=\"black\" stroke=\"black\" points=\"666.94,-35.12 656.38,-36.07 665.23,-41.9 666.94,-35.12\"/>\n",
       "<text text-anchor=\"middle\" x=\"782\" y=\"-57.8\" font-family=\"Times,serif\" font-size=\"14.00\">1</text>\n",
       "</g>\n",
       "<!-- b4 -->\n",
       "<g id=\"node5\" class=\"node\">\n",
       "<title>b4</title>\n",
       "<polygon fill=\"none\" stroke=\"black\" points=\"1166,-36 687,-36 687,0 1166,0 1166,-36\"/>\n",
       "<text text-anchor=\"start\" x=\"864.5\" y=\"-19.8\" font-family=\"Times,serif\" font-size=\"14.00\">ApplyGateToLthQubit</text>\n",
       "<text text-anchor=\"start\" x=\"695\" y=\"-9\" font-family=\"monospace\" font-size=\"10.00\">selection_regs=(Registe ..., nth_gate=&lt;functio ..., control_regs=(Registe ...</text>\n",
       "</g>\n",
       "<!-- b0&#45;&gt;b4 -->\n",
       "<g id=\"edge4\" class=\"edge\">\n",
       "<title>b0-&gt;b4</title>\n",
       "<path fill=\"none\" stroke=\"black\" d=\"M926.5,-86.8C926.5,-75.16 926.5,-59.55 926.5,-46.24\"/>\n",
       "<polygon fill=\"black\" stroke=\"black\" points=\"930,-46.18 926.5,-36.18 923,-46.18 930,-46.18\"/>\n",
       "<text text-anchor=\"middle\" x=\"930\" y=\"-57.8\" font-family=\"Times,serif\" font-size=\"14.00\">1</text>\n",
       "</g>\n",
       "<!-- b5 -->\n",
       "<g id=\"node6\" class=\"node\">\n",
       "<title>b5</title>\n",
       "<polygon fill=\"none\" stroke=\"black\" points=\"1238.5,-36 1184.5,-36 1184.5,0 1238.5,0 1238.5,-36\"/>\n",
       "<text text-anchor=\"start\" x=\"1194.5\" y=\"-14.3\" font-family=\"Times,serif\" font-size=\"14.00\">ZGate</text>\n",
       "</g>\n",
       "<!-- b0&#45;&gt;b5 -->\n",
       "<g id=\"edge5\" class=\"edge\">\n",
       "<title>b0-&gt;b5</title>\n",
       "<path fill=\"none\" stroke=\"black\" d=\"M1001.01,-86.94C1050.78,-74.73 1117.34,-56.81 1174.5,-36 1174.6,-35.96 1174.7,-35.93 1174.8,-35.89\"/>\n",
       "<polygon fill=\"black\" stroke=\"black\" points=\"1176.24,-39.09 1184.23,-32.13 1173.64,-32.58 1176.24,-39.09\"/>\n",
       "<text text-anchor=\"middle\" x=\"1118\" y=\"-57.8\" font-family=\"Times,serif\" font-size=\"14.00\">1</text>\n",
       "</g>\n",
       "<!-- b6 -->\n",
       "<g id=\"node7\" class=\"node\">\n",
       "<title>b6</title>\n",
       "<polygon fill=\"none\" stroke=\"black\" points=\"1657,-36 1256,-36 1256,0 1657,0 1657,-36\"/>\n",
       "<text text-anchor=\"start\" x=\"1384\" y=\"-19.8\" font-family=\"Times,serif\" font-size=\"14.00\">SelectedMajoranaFermion</text>\n",
       "<text text-anchor=\"start\" x=\"1264\" y=\"-9\" font-family=\"monospace\" font-size=\"10.00\">selection_regs=(Registe ..., control_regs=(), target_gate=cirq.Y</text>\n",
       "</g>\n",
       "<!-- b0&#45;&gt;b6 -->\n",
       "<g id=\"edge6\" class=\"edge\">\n",
       "<title>b0-&gt;b6</title>\n",
       "<path fill=\"none\" stroke=\"black\" d=\"M1032.8,-86.95C1121.87,-72.67 1248.81,-52.31 1340.5,-37.6\"/>\n",
       "<polygon fill=\"black\" stroke=\"black\" points=\"1341.06,-41.06 1350.38,-36.02 1339.95,-34.15 1341.06,-41.06\"/>\n",
       "<text text-anchor=\"middle\" x=\"1227\" y=\"-57.8\" font-family=\"Times,serif\" font-size=\"14.00\">1</text>\n",
       "</g>\n",
       "<!-- b7 -->\n",
       "<g id=\"node8\" class=\"node\">\n",
       "<title>b7</title>\n",
       "<polygon fill=\"none\" stroke=\"black\" points=\"1746,-36 1675,-36 1675,0 1746,0 1746,-36\"/>\n",
       "<text text-anchor=\"start\" x=\"1690.5\" y=\"-19.8\" font-family=\"Times,serif\" font-size=\"14.00\">CSwap</text>\n",
       "<text text-anchor=\"start\" x=\"1683\" y=\"-9\" font-family=\"monospace\" font-size=\"10.00\">bitsize=1</text>\n",
       "</g>\n",
       "<!-- b0&#45;&gt;b7 -->\n",
       "<g id=\"edge7\" class=\"edge\">\n",
       "<title>b0-&gt;b7</title>\n",
       "<path fill=\"none\" stroke=\"black\" d=\"M1037.21,-103.06C1180.88,-99.77 1438.88,-86.84 1664.85,-35.74\"/>\n",
       "<polygon fill=\"black\" stroke=\"black\" points=\"1665.94,-39.08 1674.91,-33.44 1664.38,-32.26 1665.94,-39.08\"/>\n",
       "<text text-anchor=\"middle\" x=\"1571\" y=\"-57.8\" font-family=\"Times,serif\" font-size=\"14.00\">2</text>\n",
       "</g>\n",
       "</g>\n",
       "</svg>"
      ],
      "text/plain": [
       "<IPython.core.display.SVG object>"
      ]
     },
     "metadata": {},
     "output_type": "display_data"
    },
    {
     "data": {
      "text/markdown": [
       "#### Counts totals:\n",
       " - `ApplyGateToLthQubit`: 1\n",
       " - `CSwap`: 2\n",
       " - `CSwap`: 4\n",
       " - `GPhase((6.123233995736766e-17-1j))`: 1\n",
       " - `SelectedMajoranaFermion(X)`: 1\n",
       " - `SelectedMajoranaFermion(Y)`: 1\n",
       " - `ZGate`: 1"
      ],
      "text/plain": [
       "<IPython.core.display.Markdown object>"
      ]
     },
     "metadata": {},
     "output_type": "display_data"
    }
   ],
   "source": [
    "from qualtran.resource_counting.generalizers import ignore_split_join\n",
    "sel_hubb_g, sel_hubb_sigma = sel_hubb.call_graph(max_depth=1, generalizer=ignore_split_join)\n",
    "show_call_graph(sel_hubb_g)\n",
    "show_counts_sigma(sel_hubb_sigma)"
   ]
  },
  {
   "cell_type": "markdown",
   "id": "61d5efd1",
   "metadata": {
    "cq.autogen": "PrepareHubbard.bloq_doc.md"
   },
   "source": [
    "## `PrepareHubbard`\n",
    "The PREPARE operation optimized for the 2D Hubbard model.\n",
    "\n",
    "In contrast to PREPARE for an arbitrary chemistry Hamiltonian, we:\n",
    " - explicitly consider the two dimensions of indices to permit optimization of the circuits.\n",
    " - dispense with the `theta` index for phases.\n",
    "\n",
    "`PrepareHubbard` uses $O(\\log(N))$ T gates and $O(1)$ single-qubit rotations.\n",
    "\n",
    "#### Parameters\n",
    " - `x_dim`: the number of sites along the x axis.\n",
    " - `y_dim`: the number of sites along the y axis.\n",
    " - `t`: coefficient for hopping terms in the Hubbard model hamiltonian.\n",
    " - `u`: coefficient for single body Z term and two-body ZZ terms in the Hubbard model hamiltonian. \n",
    "\n",
    "#### Registers\n",
    " - `control`: A control bit for the entire gate.\n",
    " - `U`: Whether we're applying the single-site part of the potential.\n",
    " - `V`: Whether we're applying the pairwise part of the potential.\n",
    " - `p_x`: First set of site indices, x component.\n",
    " - `p_y`: First set of site indices, y component.\n",
    " - `alpha`: First set of sites' spin indicator.\n",
    " - `q_x`: Second set of site indices, x component.\n",
    " - `q_y`: Second set of site indices, y component.\n",
    " - `beta`: Second set of sites' spin indicator.\n",
    " - `target`: The system register to apply the select operation.\n",
    " - `junk`: Temporary Work space. \n",
    "\n",
    "#### References\n",
    " - [Encoding Electronic Spectra in Quantum Circuits with Linear T Complexity](https://arxiv.org/abs/1805.03662). Section V. and Fig. 20.\n"
   ]
  },
  {
   "cell_type": "code",
   "execution_count": 6,
   "id": "df46d758",
   "metadata": {
    "cq.autogen": "PrepareHubbard.bloq_doc.py"
   },
   "outputs": [],
   "source": [
    "from qualtran.bloqs.chemistry.hubbard_model.qubitization import PrepareHubbard"
   ]
  },
  {
   "cell_type": "markdown",
   "id": "480bd24c",
   "metadata": {
    "cq.autogen": "PrepareHubbard.example_instances.md"
   },
   "source": [
    "### Example Instances"
   ]
  },
  {
   "cell_type": "code",
   "execution_count": 7,
   "id": "48bb8a87",
   "metadata": {
    "cq.autogen": "PrepareHubbard.prep_hubb"
   },
   "outputs": [],
   "source": [
    "x_dim = 4\n",
    "y_dim = 4\n",
    "t = 1.0\n",
    "u = 4.0 / t\n",
    "prep_hubb = PrepareHubbard(x_dim, y_dim, t=t, u=u)"
   ]
  },
  {
   "cell_type": "markdown",
   "id": "32fcb935",
   "metadata": {
    "cq.autogen": "PrepareHubbard.graphical_signature.md"
   },
   "source": [
    "#### Graphical Signature"
   ]
  },
  {
   "cell_type": "code",
   "execution_count": 8,
   "id": "305f3934",
   "metadata": {
    "cq.autogen": "PrepareHubbard.graphical_signature.py"
   },
   "outputs": [
    {
     "data": {
      "application/vnd.jupyter.widget-view+json": {
       "model_id": "d685403de5fe4d83bc783b24bc1d63fb",
       "version_major": 2,
       "version_minor": 0
      },
      "text/plain": [
       "HBox(children=(Output(outputs=({'output_type': 'display_data', 'data': {'text/plain': '<IPython.core.display.M…"
      ]
     },
     "metadata": {},
     "output_type": "display_data"
    }
   ],
   "source": [
    "from qualtran.drawing import show_bloqs\n",
    "show_bloqs([prep_hubb],\n",
    "           ['`prep_hubb`'])"
   ]
  },
  {
   "cell_type": "markdown",
   "id": "8325e95d",
   "metadata": {
    "cq.autogen": "PrepareHubbard.call_graph.md"
   },
   "source": [
    "### Call Graph"
   ]
  },
  {
   "cell_type": "code",
   "execution_count": 9,
   "id": "89bb04df",
   "metadata": {
    "cq.autogen": "PrepareHubbard.call_graph.py"
   },
   "outputs": [
    {
     "data": {
      "image/svg+xml": [
       "<svg xmlns=\"http://www.w3.org/2000/svg\" xmlns:xlink=\"http://www.w3.org/1999/xlink\" width=\"1751pt\" height=\"131pt\" viewBox=\"0.00 0.00 1751.00 131.00\">\n",
       "<g id=\"graph0\" class=\"graph\" transform=\"scale(1 1) rotate(0) translate(4 127)\">\n",
       "<title>counts</title>\n",
       "<polygon fill=\"white\" stroke=\"transparent\" points=\"-4,4 -4,-127 1747,-127 1747,4 -4,4\"/>\n",
       "<!-- b0 -->\n",
       "<g id=\"node1\" class=\"node\">\n",
       "<title>b0</title>\n",
       "<polygon fill=\"none\" stroke=\"black\" points=\"841,-123 644,-123 644,-87 841,-87 841,-123\"/>\n",
       "<text text-anchor=\"start\" x=\"698\" y=\"-106.8\" font-family=\"Times,serif\" font-size=\"14.00\">PrepareHubbard</text>\n",
       "<text text-anchor=\"start\" x=\"652\" y=\"-96\" font-family=\"monospace\" font-size=\"10.00\">x_dim=4, y_dim=4, t=1.0, u=4.0</text>\n",
       "</g>\n",
       "<!-- b1 -->\n",
       "<g id=\"node2\" class=\"node\">\n",
       "<title>b1</title>\n",
       "<polygon fill=\"none\" stroke=\"black\" points=\"95,-36 0,-36 0,0 95,0 95,-36\"/>\n",
       "<text text-anchor=\"start\" x=\"20\" y=\"-19.8\" font-family=\"Times,serif\" font-size=\"14.00\">MultiAnd</text>\n",
       "<text text-anchor=\"start\" x=\"8\" y=\"-9\" font-family=\"monospace\" font-size=\"10.00\">cvs=(0, 0, 1)</text>\n",
       "</g>\n",
       "<!-- b0&#45;&gt;b1 -->\n",
       "<g id=\"edge1\" class=\"edge\">\n",
       "<title>b0-&gt;b1</title>\n",
       "<path fill=\"none\" stroke=\"black\" d=\"M643.91,-99.33C519.72,-92.15 299.93,-75.1 104.86,-36.08\"/>\n",
       "<polygon fill=\"black\" stroke=\"black\" points=\"105.5,-32.64 95,-34.08 104.11,-39.5 105.5,-32.64\"/>\n",
       "<text text-anchor=\"middle\" x=\"299\" y=\"-57.8\" font-family=\"Times,serif\" font-size=\"14.00\">1</text>\n",
       "</g>\n",
       "<!-- b2 -->\n",
       "<g id=\"node3\" class=\"node\">\n",
       "<title>b2</title>\n",
       "<polygon fill=\"none\" stroke=\"black\" points=\"364,-36 113,-36 113,0 364,0 364,-36\"/>\n",
       "<text text-anchor=\"start\" x=\"208.5\" y=\"-19.8\" font-family=\"Times,serif\" font-size=\"14.00\">ModAddK</text>\n",
       "<text text-anchor=\"start\" x=\"121\" y=\"-9\" font-family=\"monospace\" font-size=\"10.00\">bitsize=2, mod=4, add_val=1, cvs=(0, 0)</text>\n",
       "</g>\n",
       "<!-- b0&#45;&gt;b2 -->\n",
       "<g id=\"edge2\" class=\"edge\">\n",
       "<title>b0-&gt;b2</title>\n",
       "<path fill=\"none\" stroke=\"black\" d=\"M643.8,-90.93C599.32,-84.76 546.19,-77 498.5,-69 443.05,-59.7 381.23,-47.87 331.78,-38.05\"/>\n",
       "<polygon fill=\"black\" stroke=\"black\" points=\"332.24,-34.57 321.75,-36.05 330.87,-41.44 332.24,-34.57\"/>\n",
       "<text text-anchor=\"middle\" x=\"502\" y=\"-57.8\" font-family=\"Times,serif\" font-size=\"14.00\">1</text>\n",
       "</g>\n",
       "<!-- b3 -->\n",
       "<g id=\"node4\" class=\"node\">\n",
       "<title>b3</title>\n",
       "<polygon fill=\"none\" stroke=\"black\" points=\"436.5,-36 382.5,-36 382.5,0 436.5,0 436.5,-36\"/>\n",
       "<text text-anchor=\"start\" x=\"391\" y=\"-14.3\" font-family=\"Times,serif\" font-size=\"14.00\">CNOT</text>\n",
       "</g>\n",
       "<!-- b0&#45;&gt;b3 -->\n",
       "<g id=\"edge3\" class=\"edge\">\n",
       "<title>b0-&gt;b3</title>\n",
       "<path fill=\"none\" stroke=\"black\" d=\"M643.91,-87.35C587.83,-76.49 516.5,-60.34 446.23,-35.92\"/>\n",
       "<polygon fill=\"black\" stroke=\"black\" points=\"447.37,-32.61 436.78,-32.58 445.04,-39.21 447.37,-32.61\"/>\n",
       "<text text-anchor=\"middle\" x=\"562\" y=\"-57.8\" font-family=\"Times,serif\" font-size=\"14.00\">7</text>\n",
       "</g>\n",
       "<!-- b4 -->\n",
       "<g id=\"node5\" class=\"node\">\n",
       "<title>b4</title>\n",
       "<polygon fill=\"none\" stroke=\"black\" points=\"526,-36 455,-36 455,0 526,0 526,-36\"/>\n",
       "<text text-anchor=\"start\" x=\"470.5\" y=\"-19.8\" font-family=\"Times,serif\" font-size=\"14.00\">CSwap</text>\n",
       "<text text-anchor=\"start\" x=\"463\" y=\"-9\" font-family=\"monospace\" font-size=\"10.00\">bitsize=5</text>\n",
       "</g>\n",
       "<!-- b0&#45;&gt;b4 -->\n",
       "<g id=\"edge4\" class=\"edge\">\n",
       "<title>b0-&gt;b4</title>\n",
       "<path fill=\"none\" stroke=\"black\" d=\"M687.49,-86.89C647.71,-74.31 592.48,-56.45 536.23,-36.55\"/>\n",
       "<polygon fill=\"black\" stroke=\"black\" points=\"537.06,-33.12 526.46,-33.07 534.71,-39.72 537.06,-33.12\"/>\n",
       "<text text-anchor=\"middle\" x=\"635\" y=\"-57.8\" font-family=\"Times,serif\" font-size=\"14.00\">1</text>\n",
       "</g>\n",
       "<!-- b5 -->\n",
       "<g id=\"node6\" class=\"node\">\n",
       "<title>b5</title>\n",
       "<polygon fill=\"none\" stroke=\"black\" points=\"627,-36 544,-36 544,0 627,0 627,-36\"/>\n",
       "<text text-anchor=\"start\" x=\"552\" y=\"-14.3\" font-family=\"Times,serif\" font-size=\"14.00\">CHadamard</text>\n",
       "</g>\n",
       "<!-- b0&#45;&gt;b5 -->\n",
       "<g id=\"edge5\" class=\"edge\">\n",
       "<title>b0-&gt;b5</title>\n",
       "<path fill=\"none\" stroke=\"black\" d=\"M710.73,-86.8C686.28,-73.56 652.33,-55.18 625.95,-40.9\"/>\n",
       "<polygon fill=\"black\" stroke=\"black\" points=\"627.42,-37.71 616.96,-36.03 624.08,-43.87 627.42,-37.71\"/>\n",
       "<text text-anchor=\"middle\" x=\"677\" y=\"-57.8\" font-family=\"Times,serif\" font-size=\"14.00\">1</text>\n",
       "</g>\n",
       "<!-- b6 -->\n",
       "<g id=\"node7\" class=\"node\">\n",
       "<title>b6</title>\n",
       "<polygon fill=\"none\" stroke=\"black\" points=\"699.5,-36 645.5,-36 645.5,0 699.5,0 699.5,-36\"/>\n",
       "<text text-anchor=\"start\" x=\"654.5\" y=\"-14.3\" font-family=\"Times,serif\" font-size=\"14.00\">XGate</text>\n",
       "</g>\n",
       "<!-- b0&#45;&gt;b6 -->\n",
       "<g id=\"edge6\" class=\"edge\">\n",
       "<title>b0-&gt;b6</title>\n",
       "<path fill=\"none\" stroke=\"black\" d=\"M728.33,-86.8C718.28,-74.59 704.61,-57.99 693.32,-44.28\"/>\n",
       "<polygon fill=\"black\" stroke=\"black\" points=\"695.7,-41.67 686.64,-36.18 690.3,-46.12 695.7,-41.67\"/>\n",
       "<text text-anchor=\"middle\" x=\"716\" y=\"-57.8\" font-family=\"Times,serif\" font-size=\"14.00\">3</text>\n",
       "</g>\n",
       "<!-- b7 -->\n",
       "<g id=\"node8\" class=\"node\">\n",
       "<title>b7</title>\n",
       "<polygon fill=\"none\" stroke=\"black\" points=\"909,-36 718,-36 718,0 909,0 909,-36\"/>\n",
       "<text text-anchor=\"start\" x=\"805.5\" y=\"-19.8\" font-family=\"Times,serif\" font-size=\"14.00\">Ry</text>\n",
       "<text text-anchor=\"start\" x=\"726\" y=\"-9\" font-family=\"monospace\" font-size=\"10.00\">angle=2.094395 ..., eps=1e-11</text>\n",
       "</g>\n",
       "<!-- b0&#45;&gt;b7 -->\n",
       "<g id=\"edge7\" class=\"edge\">\n",
       "<title>b0-&gt;b7</title>\n",
       "<path fill=\"none\" stroke=\"black\" d=\"M756.87,-86.8C767.17,-74.47 781.19,-57.68 792.71,-43.89\"/>\n",
       "<polygon fill=\"black\" stroke=\"black\" points=\"795.43,-46.09 799.15,-36.18 790.06,-41.61 795.43,-46.09\"/>\n",
       "<text text-anchor=\"middle\" x=\"786\" y=\"-57.8\" font-family=\"Times,serif\" font-size=\"14.00\">1</text>\n",
       "</g>\n",
       "<!-- b8 -->\n",
       "<g id=\"node9\" class=\"node\">\n",
       "<title>b8</title>\n",
       "<polygon fill=\"none\" stroke=\"black\" points=\"1208,-36 927,-36 927,0 1208,0 1208,-36\"/>\n",
       "<text text-anchor=\"start\" x=\"1050.5\" y=\"-19.8\" font-family=\"Times,serif\" font-size=\"14.00\">C[Ry]</text>\n",
       "<text text-anchor=\"start\" x=\"935\" y=\"-9\" font-family=\"monospace\" font-size=\"10.00\">subbloq=Ry(angle ..., ctrl_spec=CtrlSpec ...</text>\n",
       "</g>\n",
       "<!-- b0&#45;&gt;b8 -->\n",
       "<g id=\"edge8\" class=\"edge\">\n",
       "<title>b0-&gt;b8</title>\n",
       "<path fill=\"none\" stroke=\"black\" d=\"M807.88,-86.9C861.21,-72.95 936.59,-53.24 992.4,-38.64\"/>\n",
       "<polygon fill=\"black\" stroke=\"black\" points=\"993.44,-41.99 1002.23,-36.07 991.67,-35.22 993.44,-41.99\"/>\n",
       "<text text-anchor=\"middle\" x=\"928\" y=\"-57.8\" font-family=\"Times,serif\" font-size=\"14.00\">1</text>\n",
       "</g>\n",
       "<!-- b9 -->\n",
       "<g id=\"node10\" class=\"node\">\n",
       "<title>b9</title>\n",
       "<polygon fill=\"none\" stroke=\"black\" points=\"1300.5,-36 1226.5,-36 1226.5,0 1300.5,0 1300.5,-36\"/>\n",
       "<text text-anchor=\"start\" x=\"1234.5\" y=\"-14.3\" font-family=\"Times,serif\" font-size=\"14.00\">Hadamard</text>\n",
       "</g>\n",
       "<!-- b0&#45;&gt;b9 -->\n",
       "<g id=\"edge9\" class=\"edge\">\n",
       "<title>b0-&gt;b9</title>\n",
       "<path fill=\"none\" stroke=\"black\" d=\"M841.22,-95.77C937.9,-86.33 1088.86,-67.88 1216.5,-36 1216.6,-35.98 1216.7,-35.95 1216.8,-35.92\"/>\n",
       "<polygon fill=\"black\" stroke=\"black\" points=\"1217.59,-39.34 1226.26,-33.25 1215.68,-32.6 1217.59,-39.34\"/>\n",
       "<text text-anchor=\"middle\" x=\"1131\" y=\"-57.8\" font-family=\"Times,serif\" font-size=\"14.00\">2</text>\n",
       "</g>\n",
       "<!-- b10 -->\n",
       "<g id=\"node11\" class=\"node\">\n",
       "<title>b10</title>\n",
       "<polygon fill=\"none\" stroke=\"black\" points=\"1498.5,-36 1318.5,-36 1318.5,0 1498.5,0 1498.5,-36\"/>\n",
       "<text text-anchor=\"start\" x=\"1326.5\" y=\"-19.8\" font-family=\"Times,serif\" font-size=\"14.00\">PrepareUniformSuperposition</text>\n",
       "<text text-anchor=\"start\" x=\"1375\" y=\"-9\" font-family=\"monospace\" font-size=\"10.00\">n=4, cvs=()</text>\n",
       "</g>\n",
       "<!-- b0&#45;&gt;b10 -->\n",
       "<g id=\"edge10\" class=\"edge\">\n",
       "<title>b0-&gt;b10</title>\n",
       "<path fill=\"none\" stroke=\"black\" d=\"M841.25,-97.89C921.54,-92.29 1037.63,-82.77 1138.5,-69 1198.52,-60.81 1265.47,-48.43 1317.69,-38.04\"/>\n",
       "<polygon fill=\"black\" stroke=\"black\" points=\"1318.48,-41.45 1327.6,-36.06 1317.1,-34.59 1318.48,-41.45\"/>\n",
       "<text text-anchor=\"middle\" x=\"1232\" y=\"-57.8\" font-family=\"Times,serif\" font-size=\"14.00\">2</text>\n",
       "</g>\n",
       "<!-- b11 -->\n",
       "<g id=\"node12\" class=\"node\">\n",
       "<title>b11</title>\n",
       "<polygon fill=\"none\" stroke=\"black\" points=\"1588,-36 1517,-36 1517,0 1588,0 1588,-36\"/>\n",
       "<text text-anchor=\"start\" x=\"1532.5\" y=\"-19.8\" font-family=\"Times,serif\" font-size=\"14.00\">CSwap</text>\n",
       "<text text-anchor=\"start\" x=\"1525\" y=\"-9\" font-family=\"monospace\" font-size=\"10.00\">bitsize=2</text>\n",
       "</g>\n",
       "<!-- b0&#45;&gt;b11 -->\n",
       "<g id=\"edge11\" class=\"edge\">\n",
       "<title>b0-&gt;b11</title>\n",
       "<path fill=\"none\" stroke=\"black\" d=\"M841.17,-98.57C941.54,-92.7 1101.53,-82.34 1239.5,-69 1355.8,-57.75 1389.23,-64.37 1507.12,-35.74\"/>\n",
       "<polygon fill=\"black\" stroke=\"black\" points=\"1508.01,-39.12 1516.88,-33.33 1506.34,-32.33 1508.01,-39.12\"/>\n",
       "<text text-anchor=\"middle\" x=\"1420\" y=\"-57.8\" font-family=\"Times,serif\" font-size=\"14.00\">2</text>\n",
       "</g>\n",
       "<!-- b12 -->\n",
       "<g id=\"node13\" class=\"node\">\n",
       "<title>b12</title>\n",
       "<polygon fill=\"none\" stroke=\"black\" points=\"1743,-36 1606,-36 1606,0 1743,0 1743,-36\"/>\n",
       "<text text-anchor=\"start\" x=\"1644\" y=\"-19.8\" font-family=\"Times,serif\" font-size=\"14.00\">MultiAnd†</text>\n",
       "<text text-anchor=\"start\" x=\"1614\" y=\"-9\" font-family=\"monospace\" font-size=\"10.00\">subbloq=MultiAnd ...</text>\n",
       "</g>\n",
       "<!-- b0&#45;&gt;b12 -->\n",
       "<g id=\"edge12\" class=\"edge\">\n",
       "<title>b0-&gt;b12</title>\n",
       "<path fill=\"none\" stroke=\"black\" d=\"M841.28,-103.34C974.76,-101.45 1219.92,-94.44 1427.5,-69 1484.38,-62.03 1547.71,-49.1 1596.01,-38.14\"/>\n",
       "<polygon fill=\"black\" stroke=\"black\" points=\"1596.8,-41.55 1605.77,-35.91 1595.24,-34.73 1596.8,-41.55\"/>\n",
       "<text text-anchor=\"middle\" x=\"1520\" y=\"-57.8\" font-family=\"Times,serif\" font-size=\"14.00\">1</text>\n",
       "</g>\n",
       "</g>\n",
       "</svg>"
      ],
      "text/plain": [
       "<IPython.core.display.SVG object>"
      ]
     },
     "metadata": {},
     "output_type": "display_data"
    },
    {
     "data": {
      "text/markdown": [
       "#### Counts totals:\n",
       " - `Adjoint(subbloq=MultiAnd(n=3))`: 1\n",
       " - `CHadamard`: 1\n",
       " - `CNOT`: 7\n",
       " - `CSwap`: 1\n",
       " - `CSwap`: 2\n",
       " - `C[Ry(0.7048327646991335π)]`: 1\n",
       " - `H`: 2\n",
       " - `ModAddK`: 1\n",
       " - `MultiAnd(n=3)`: 1\n",
       " - `PrepareUniformSuperposition`: 2\n",
       " - `Ry(0.6666666666666667π)`: 1\n",
       " - `XGate`: 3"
      ],
      "text/plain": [
       "<IPython.core.display.Markdown object>"
      ]
     },
     "metadata": {},
     "output_type": "display_data"
    }
   ],
   "source": [
    "from qualtran.resource_counting.generalizers import ignore_split_join\n",
    "prep_hubb_g, prep_hubb_sigma = prep_hubb.call_graph(max_depth=1, generalizer=ignore_split_join)\n",
    "show_call_graph(prep_hubb_g)\n",
    "show_counts_sigma(prep_hubb_sigma)"
   ]
  }
 ],
 "metadata": {
  "kernelspec": {
   "display_name": "Python 3",
   "language": "python",
   "name": "python3"
  },
  "language_info": {
   "codemirror_mode": {
    "name": "ipython",
    "version": 3
   },
   "file_extension": ".py",
   "mimetype": "text/x-python",
   "name": "python",
   "nbconvert_exporter": "python",
   "pygments_lexer": "ipython3",
   "version": "3.11.8"
  },
  "widgets": {
   "application/vnd.jupyter.widget-state+json": {
    "state": {
     "03ebab466456483ca7b4354eb13fd5c5": {
      "model_module": "@jupyter-widgets/base",
      "model_module_version": "2.0.0",
      "model_name": "LayoutModel",
      "state": {
       "_model_module": "@jupyter-widgets/base",
       "_model_module_version": "2.0.0",
       "_model_name": "LayoutModel",
       "_view_count": null,
       "_view_module": "@jupyter-widgets/base",
       "_view_module_version": "2.0.0",
       "_view_name": "LayoutView",
       "align_content": null,
       "align_items": null,
       "align_self": null,
       "border_bottom": null,
       "border_left": null,
       "border_right": null,
       "border_top": null,
       "bottom": null,
       "display": null,
       "flex": null,
       "flex_flow": null,
       "grid_area": null,
       "grid_auto_columns": null,
       "grid_auto_flow": null,
       "grid_auto_rows": null,
       "grid_column": null,
       "grid_gap": null,
       "grid_row": null,
       "grid_template_areas": null,
       "grid_template_columns": null,
       "grid_template_rows": null,
       "height": null,
       "justify_content": null,
       "justify_items": null,
       "left": null,
       "margin": null,
       "max_height": null,
       "max_width": null,
       "min_height": null,
       "min_width": null,
       "object_fit": null,
       "object_position": null,
       "order": null,
       "overflow": null,
       "padding": null,
       "right": null,
       "top": null,
       "visibility": null,
       "width": null
      }
     },
     "173663f416764940afc0ec2c2bf5418e": {
      "model_module": "@jupyter-widgets/output",
      "model_module_version": "1.0.0",
      "model_name": "OutputModel",
      "state": {
       "_dom_classes": [],
       "_model_module": "@jupyter-widgets/output",
       "_model_module_version": "1.0.0",
       "_model_name": "OutputModel",
       "_view_count": null,
       "_view_module": "@jupyter-widgets/output",
       "_view_module_version": "1.0.0",
       "_view_name": "OutputView",
       "layout": "IPY_MODEL_e43e714e0f3a48198069c52edf476aed",
       "msg_id": "",
       "outputs": [
        {
         "data": {
          "text/markdown": "`prep_hubb`",
          "text/plain": "<IPython.core.display.Markdown object>"
         },
         "metadata": {},
         "output_type": "display_data"
        },
        {
         "data": {
          "image/svg+xml": "<svg xmlns=\"http://www.w3.org/2000/svg\" xmlns:xlink=\"http://www.w3.org/1999/xlink\" width=\"263pt\" height=\"476pt\" viewBox=\"0.00 0.00 263.00 476.00\">\n<g id=\"graph0\" class=\"graph\" transform=\"scale(1 1) rotate(0) translate(4 472)\">\n<title>my_graph</title>\n<polygon fill=\"white\" stroke=\"transparent\" points=\"-4,4 -4,-472 259,-472 259,4 -4,4\"/>\n<!-- U_G11 -->\n<g id=\"node1\" class=\"node\">\n<title>U_G11</title>\n<text text-anchor=\"middle\" x=\"27\" y=\"-446.3\" font-family=\"Times,serif\" font-size=\"14.00\">U</text>\n</g>\n<!-- PrepareHubbard -->\n<g id=\"node10\" class=\"node\">\n<title>PrepareHubbard</title>\n<polygon fill=\"none\" stroke=\"black\" points=\"91.5,-329 91.5,-346 164.5,-346 164.5,-329 91.5,-329\"/>\n<text text-anchor=\"start\" x=\"94.5\" y=\"-335\" font-family=\"Times,serif\" font-size=\"10.00\">PrepareHubbard</text>\n<polygon fill=\"none\" stroke=\"black\" points=\"91.5,-308 91.5,-329 164.5,-329 164.5,-308 91.5,-308\"/>\n<text text-anchor=\"start\" x=\"123\" y=\"-314.8\" font-family=\"Times,serif\" font-size=\"14.00\">U</text>\n<polygon fill=\"none\" stroke=\"black\" points=\"91.5,-287 91.5,-308 164.5,-308 164.5,-287 91.5,-287\"/>\n<text text-anchor=\"start\" x=\"123\" y=\"-293.8\" font-family=\"Times,serif\" font-size=\"14.00\">V</text>\n<polygon fill=\"none\" stroke=\"black\" points=\"91.5,-266 91.5,-287 164.5,-287 164.5,-266 91.5,-266\"/>\n<text text-anchor=\"start\" x=\"117.5\" y=\"-272.8\" font-family=\"Times,serif\" font-size=\"14.00\">p_x</text>\n<polygon fill=\"none\" stroke=\"black\" points=\"91.5,-245 91.5,-266 164.5,-266 164.5,-245 91.5,-245\"/>\n<text text-anchor=\"start\" x=\"117.5\" y=\"-251.8\" font-family=\"Times,serif\" font-size=\"14.00\">p_y</text>\n<polygon fill=\"none\" stroke=\"black\" points=\"91.5,-224 91.5,-245 164.5,-245 164.5,-224 91.5,-224\"/>\n<text text-anchor=\"start\" x=\"113\" y=\"-230.8\" font-family=\"Times,serif\" font-size=\"14.00\">alpha</text>\n<polygon fill=\"none\" stroke=\"black\" points=\"91.5,-203 91.5,-224 164.5,-224 164.5,-203 91.5,-203\"/>\n<text text-anchor=\"start\" x=\"117.5\" y=\"-209.8\" font-family=\"Times,serif\" font-size=\"14.00\">q_x</text>\n<polygon fill=\"none\" stroke=\"black\" points=\"91.5,-182 91.5,-203 164.5,-203 164.5,-182 91.5,-182\"/>\n<text text-anchor=\"start\" x=\"117.5\" y=\"-188.8\" font-family=\"Times,serif\" font-size=\"14.00\">q_y</text>\n<polygon fill=\"none\" stroke=\"black\" points=\"91.5,-161 91.5,-182 164.5,-182 164.5,-161 91.5,-161\"/>\n<text text-anchor=\"start\" x=\"116.5\" y=\"-167.8\" font-family=\"Times,serif\" font-size=\"14.00\">beta</text>\n<polygon fill=\"none\" stroke=\"black\" points=\"91.5,-140 91.5,-161 164.5,-161 164.5,-140 91.5,-140\"/>\n<text text-anchor=\"start\" x=\"114\" y=\"-146.8\" font-family=\"Times,serif\" font-size=\"14.00\">temp</text>\n</g>\n<!-- U_G11&#45;&gt;PrepareHubbard -->\n<g id=\"edge1\" class=\"edge\">\n<title>U_G11:e-&gt;PrepareHubbard:w</title>\n<path fill=\"none\" stroke=\"black\" d=\"M54,-450C83.54,-450 61.82,-325.07 88.96,-319.21\"/>\n<ellipse fill=\"black\" stroke=\"black\" cx=\"90.01\" cy=\"-319.1\" rx=\"1\" ry=\"1\"/>\n<text text-anchor=\"middle\" x=\"72.5\" y=\"-395\" font-family=\"Times,serif\" font-size=\"10.00\">1</text>\n</g>\n<!-- V_G25 -->\n<g id=\"node2\" class=\"node\">\n<title>V_G25</title>\n<text text-anchor=\"middle\" x=\"27\" y=\"-392.3\" font-family=\"Times,serif\" font-size=\"14.00\">V</text>\n</g>\n<!-- V_G25&#45;&gt;PrepareHubbard -->\n<g id=\"edge2\" class=\"edge\">\n<title>V_G25:e-&gt;PrepareHubbard:w</title>\n<path fill=\"none\" stroke=\"black\" d=\"M54,-396C76.55,-396 68.29,-304.03 88.91,-298.28\"/>\n<ellipse fill=\"black\" stroke=\"black\" cx=\"90.01\" cy=\"-298.13\" rx=\"1\" ry=\"1\"/>\n<text text-anchor=\"middle\" x=\"72.5\" y=\"-352\" font-family=\"Times,serif\" font-size=\"10.00\">1</text>\n</g>\n<!-- p_x_G8 -->\n<g id=\"node3\" class=\"node\">\n<title>p_x_G8</title>\n<text text-anchor=\"middle\" x=\"27\" y=\"-338.3\" font-family=\"Times,serif\" font-size=\"14.00\">p_x</text>\n</g>\n<!-- p_x_G8&#45;&gt;PrepareHubbard -->\n<g id=\"edge3\" class=\"edge\">\n<title>p_x_G8:e-&gt;PrepareHubbard:w</title>\n<path fill=\"none\" stroke=\"black\" d=\"M54,-342C86.46,-342 59.11,-280.01 88.76,-277.11\"/>\n<ellipse fill=\"black\" stroke=\"black\" cx=\"90\" cy=\"-277.05\" rx=\"1\" ry=\"1\"/>\n<text text-anchor=\"middle\" x=\"72.5\" y=\"-318\" font-family=\"Times,serif\" font-size=\"10.00\">2</text>\n</g>\n<!-- p_y_G7 -->\n<g id=\"node4\" class=\"node\">\n<title>p_y_G7</title>\n<text text-anchor=\"middle\" x=\"27\" y=\"-284.3\" font-family=\"Times,serif\" font-size=\"14.00\">p_y</text>\n</g>\n<!-- p_y_G7&#45;&gt;PrepareHubbard -->\n<g id=\"edge4\" class=\"edge\">\n<title>p_y_G7:e-&gt;PrepareHubbard:w</title>\n<path fill=\"none\" stroke=\"black\" d=\"M54,-288C74.89,-288 69.72,-258.45 88.58,-256.14\"/>\n<ellipse fill=\"black\" stroke=\"black\" cx=\"90\" cy=\"-256.06\" rx=\"1\" ry=\"1\"/>\n<text text-anchor=\"middle\" x=\"72.5\" y=\"-275\" font-family=\"Times,serif\" font-size=\"10.00\">2</text>\n</g>\n<!-- alpha_G22 -->\n<g id=\"node5\" class=\"node\">\n<title>alpha_G22</title>\n<text text-anchor=\"middle\" x=\"27\" y=\"-230.3\" font-family=\"Times,serif\" font-size=\"14.00\">alpha</text>\n</g>\n<!-- alpha_G22&#45;&gt;PrepareHubbard -->\n<g id=\"edge5\" class=\"edge\">\n<title>alpha_G22:e-&gt;PrepareHubbard:w</title>\n<path fill=\"none\" stroke=\"black\" d=\"M54,-234C69.67,-234 74.14,-234 88.77,-234\"/>\n<ellipse fill=\"black\" stroke=\"black\" cx=\"90\" cy=\"-234\" rx=\"1\" ry=\"1\"/>\n<text text-anchor=\"middle\" x=\"72.5\" y=\"-237\" font-family=\"Times,serif\" font-size=\"10.00\">1</text>\n</g>\n<!-- q_x_G9 -->\n<g id=\"node6\" class=\"node\">\n<title>q_x_G9</title>\n<text text-anchor=\"middle\" x=\"27\" y=\"-176.3\" font-family=\"Times,serif\" font-size=\"14.00\">q_x</text>\n</g>\n<!-- q_x_G9&#45;&gt;PrepareHubbard -->\n<g id=\"edge6\" class=\"edge\">\n<title>q_x_G9:e-&gt;PrepareHubbard:w</title>\n<path fill=\"none\" stroke=\"black\" d=\"M54,-180C75.17,-180 69.47,-210.47 88.55,-212.85\"/>\n<ellipse fill=\"black\" stroke=\"black\" cx=\"90\" cy=\"-212.94\" rx=\"1\" ry=\"1\"/>\n<text text-anchor=\"middle\" x=\"72.5\" y=\"-200\" font-family=\"Times,serif\" font-size=\"10.00\">2</text>\n</g>\n<!-- q_y_G4 -->\n<g id=\"node7\" class=\"node\">\n<title>q_y_G4</title>\n<text text-anchor=\"middle\" x=\"27\" y=\"-122.3\" font-family=\"Times,serif\" font-size=\"14.00\">q_y</text>\n</g>\n<!-- q_y_G4&#45;&gt;PrepareHubbard -->\n<g id=\"edge7\" class=\"edge\">\n<title>q_y_G4:e-&gt;PrepareHubbard:w</title>\n<path fill=\"none\" stroke=\"black\" d=\"M54,-126C86.84,-126 58.75,-188.94 88.74,-191.89\"/>\n<ellipse fill=\"black\" stroke=\"black\" cx=\"90\" cy=\"-191.95\" rx=\"1\" ry=\"1\"/>\n<text text-anchor=\"middle\" x=\"72.5\" y=\"-169\" font-family=\"Times,serif\" font-size=\"10.00\">2</text>\n</g>\n<!-- beta_G20 -->\n<g id=\"node8\" class=\"node\">\n<title>beta_G20</title>\n<text text-anchor=\"middle\" x=\"27\" y=\"-68.3\" font-family=\"Times,serif\" font-size=\"14.00\">beta</text>\n</g>\n<!-- beta_G20&#45;&gt;PrepareHubbard -->\n<g id=\"edge8\" class=\"edge\">\n<title>beta_G20:e-&gt;PrepareHubbard:w</title>\n<path fill=\"none\" stroke=\"black\" d=\"M54,-72C76.75,-72 68.1,-164.91 88.89,-170.72\"/>\n<ellipse fill=\"black\" stroke=\"black\" cx=\"90.01\" cy=\"-170.87\" rx=\"1\" ry=\"1\"/>\n<text text-anchor=\"middle\" x=\"72.5\" y=\"-127\" font-family=\"Times,serif\" font-size=\"10.00\">1</text>\n</g>\n<!-- temp_G6 -->\n<g id=\"node9\" class=\"node\">\n<title>temp_G6</title>\n<text text-anchor=\"middle\" x=\"27\" y=\"-14.3\" font-family=\"Times,serif\" font-size=\"14.00\">temp</text>\n</g>\n<!-- temp_G6&#45;&gt;PrepareHubbard -->\n<g id=\"edge9\" class=\"edge\">\n<title>temp_G6:e-&gt;PrepareHubbard:w</title>\n<path fill=\"none\" stroke=\"black\" d=\"M54,-18C83.75,-18 61.63,-143.89 88.95,-149.79\"/>\n<ellipse fill=\"black\" stroke=\"black\" cx=\"90.01\" cy=\"-149.9\" rx=\"1\" ry=\"1\"/>\n<text text-anchor=\"middle\" x=\"72.5\" y=\"-95\" font-family=\"Times,serif\" font-size=\"10.00\">2</text>\n</g>\n<!-- U_G21 -->\n<g id=\"node11\" class=\"node\">\n<title>U_G21</title>\n<text text-anchor=\"middle\" x=\"228\" y=\"-446.3\" font-family=\"Times,serif\" font-size=\"14.00\">U</text>\n</g>\n<!-- PrepareHubbard&#45;&gt;U_G21 -->\n<g id=\"edge10\" class=\"edge\">\n<title>PrepareHubbard:e-&gt;U_G21:w</title>\n<path fill=\"none\" stroke=\"black\" d=\"M164,-319C193.54,-319 171.82,-443.93 198.96,-449.79\"/>\n<ellipse fill=\"black\" stroke=\"black\" cx=\"200.01\" cy=\"-449.9\" rx=\"1\" ry=\"1\"/>\n<text text-anchor=\"middle\" x=\"182.5\" y=\"-395\" font-family=\"Times,serif\" font-size=\"10.00\">1</text>\n</g>\n<!-- V_G5 -->\n<g id=\"node12\" class=\"node\">\n<title>V_G5</title>\n<text text-anchor=\"middle\" x=\"228\" y=\"-392.3\" font-family=\"Times,serif\" font-size=\"14.00\">V</text>\n</g>\n<!-- PrepareHubbard&#45;&gt;V_G5 -->\n<g id=\"edge11\" class=\"edge\">\n<title>PrepareHubbard:e-&gt;V_G5:w</title>\n<path fill=\"none\" stroke=\"black\" d=\"M164,-298C186.55,-298 178.29,-389.97 198.91,-395.72\"/>\n<ellipse fill=\"black\" stroke=\"black\" cx=\"200.01\" cy=\"-395.87\" rx=\"1\" ry=\"1\"/>\n<text text-anchor=\"middle\" x=\"182.5\" y=\"-352\" font-family=\"Times,serif\" font-size=\"10.00\">1</text>\n</g>\n<!-- p_x_G18 -->\n<g id=\"node13\" class=\"node\">\n<title>p_x_G18</title>\n<text text-anchor=\"middle\" x=\"228\" y=\"-338.3\" font-family=\"Times,serif\" font-size=\"14.00\">p_x</text>\n</g>\n<!-- PrepareHubbard&#45;&gt;p_x_G18 -->\n<g id=\"edge12\" class=\"edge\">\n<title>PrepareHubbard:e-&gt;p_x_G18:w</title>\n<path fill=\"none\" stroke=\"black\" d=\"M164,-277C196.46,-277 169.11,-338.99 198.76,-341.89\"/>\n<ellipse fill=\"black\" stroke=\"black\" cx=\"200\" cy=\"-341.95\" rx=\"1\" ry=\"1\"/>\n<text text-anchor=\"middle\" x=\"182.5\" y=\"-318\" font-family=\"Times,serif\" font-size=\"10.00\">2</text>\n</g>\n<!-- p_y_G16 -->\n<g id=\"node14\" class=\"node\">\n<title>p_y_G16</title>\n<text text-anchor=\"middle\" x=\"228\" y=\"-284.3\" font-family=\"Times,serif\" font-size=\"14.00\">p_y</text>\n</g>\n<!-- PrepareHubbard&#45;&gt;p_y_G16 -->\n<g id=\"edge13\" class=\"edge\">\n<title>PrepareHubbard:e-&gt;p_y_G16:w</title>\n<path fill=\"none\" stroke=\"black\" d=\"M164,-256C184.89,-256 179.72,-285.55 198.58,-287.86\"/>\n<ellipse fill=\"black\" stroke=\"black\" cx=\"200\" cy=\"-287.94\" rx=\"1\" ry=\"1\"/>\n<text text-anchor=\"middle\" x=\"182.5\" y=\"-275\" font-family=\"Times,serif\" font-size=\"10.00\">2</text>\n</g>\n<!-- alpha_G1 -->\n<g id=\"node15\" class=\"node\">\n<title>alpha_G1</title>\n<text text-anchor=\"middle\" x=\"228\" y=\"-230.3\" font-family=\"Times,serif\" font-size=\"14.00\">alpha</text>\n</g>\n<!-- PrepareHubbard&#45;&gt;alpha_G1 -->\n<g id=\"edge14\" class=\"edge\">\n<title>PrepareHubbard:e-&gt;alpha_G1:w</title>\n<path fill=\"none\" stroke=\"black\" d=\"M164,-234C179.67,-234 184.14,-234 198.77,-234\"/>\n<ellipse fill=\"black\" stroke=\"black\" cx=\"200\" cy=\"-234\" rx=\"1\" ry=\"1\"/>\n<text text-anchor=\"middle\" x=\"182.5\" y=\"-237\" font-family=\"Times,serif\" font-size=\"10.00\">1</text>\n</g>\n<!-- q_x_G17 -->\n<g id=\"node16\" class=\"node\">\n<title>q_x_G17</title>\n<text text-anchor=\"middle\" x=\"228\" y=\"-176.3\" font-family=\"Times,serif\" font-size=\"14.00\">q_x</text>\n</g>\n<!-- PrepareHubbard&#45;&gt;q_x_G17 -->\n<g id=\"edge15\" class=\"edge\">\n<title>PrepareHubbard:e-&gt;q_x_G17:w</title>\n<path fill=\"none\" stroke=\"black\" d=\"M164,-213C185.17,-213 179.47,-182.53 198.55,-180.15\"/>\n<ellipse fill=\"black\" stroke=\"black\" cx=\"200\" cy=\"-180.06\" rx=\"1\" ry=\"1\"/>\n<text text-anchor=\"middle\" x=\"182.5\" y=\"-200\" font-family=\"Times,serif\" font-size=\"10.00\">2</text>\n</g>\n<!-- q_y_G13 -->\n<g id=\"node17\" class=\"node\">\n<title>q_y_G13</title>\n<text text-anchor=\"middle\" x=\"228\" y=\"-122.3\" font-family=\"Times,serif\" font-size=\"14.00\">q_y</text>\n</g>\n<!-- PrepareHubbard&#45;&gt;q_y_G13 -->\n<g id=\"edge16\" class=\"edge\">\n<title>PrepareHubbard:e-&gt;q_y_G13:w</title>\n<path fill=\"none\" stroke=\"black\" d=\"M164,-192C196.84,-192 168.75,-129.06 198.74,-126.11\"/>\n<ellipse fill=\"black\" stroke=\"black\" cx=\"200\" cy=\"-126.05\" rx=\"1\" ry=\"1\"/>\n<text text-anchor=\"middle\" x=\"182.5\" y=\"-169\" font-family=\"Times,serif\" font-size=\"10.00\">2</text>\n</g>\n<!-- beta_G19 -->\n<g id=\"node18\" class=\"node\">\n<title>beta_G19</title>\n<text text-anchor=\"middle\" x=\"228\" y=\"-68.3\" font-family=\"Times,serif\" font-size=\"14.00\">beta</text>\n</g>\n<!-- PrepareHubbard&#45;&gt;beta_G19 -->\n<g id=\"edge17\" class=\"edge\">\n<title>PrepareHubbard:e-&gt;beta_G19:w</title>\n<path fill=\"none\" stroke=\"black\" d=\"M164,-171C186.75,-171 178.1,-78.09 198.89,-72.28\"/>\n<ellipse fill=\"black\" stroke=\"black\" cx=\"200.01\" cy=\"-72.13\" rx=\"1\" ry=\"1\"/>\n<text text-anchor=\"middle\" x=\"182.5\" y=\"-127\" font-family=\"Times,serif\" font-size=\"10.00\">1</text>\n</g>\n<!-- temp_G14 -->\n<g id=\"node19\" class=\"node\">\n<title>temp_G14</title>\n<text text-anchor=\"middle\" x=\"228\" y=\"-14.3\" font-family=\"Times,serif\" font-size=\"14.00\">temp</text>\n</g>\n<!-- PrepareHubbard&#45;&gt;temp_G14 -->\n<g id=\"edge18\" class=\"edge\">\n<title>PrepareHubbard:e-&gt;temp_G14:w</title>\n<path fill=\"none\" stroke=\"black\" d=\"M164,-150C193.75,-150 171.63,-24.11 198.95,-18.21\"/>\n<ellipse fill=\"black\" stroke=\"black\" cx=\"200.01\" cy=\"-18.1\" rx=\"1\" ry=\"1\"/>\n<text text-anchor=\"middle\" x=\"182.5\" y=\"-95\" font-family=\"Times,serif\" font-size=\"10.00\">2</text>\n</g>\n</g>\n</svg>",
          "text/plain": "<IPython.core.display.SVG object>"
         },
         "metadata": {},
         "output_type": "display_data"
        }
       ],
       "tabbable": null,
       "tooltip": null
      }
     },
     "1faa1218182d4490b5c65471b43e181e": {
      "model_module": "@jupyter-widgets/controls",
      "model_module_version": "2.0.0",
      "model_name": "HBoxModel",
      "state": {
       "_dom_classes": [],
       "_model_module": "@jupyter-widgets/controls",
       "_model_module_version": "2.0.0",
       "_model_name": "HBoxModel",
       "_view_count": null,
       "_view_module": "@jupyter-widgets/controls",
       "_view_module_version": "2.0.0",
       "_view_name": "HBoxView",
       "box_style": "",
       "children": [
        "IPY_MODEL_3267a05a088e4e9da3854fb398a3be3b"
       ],
       "layout": "IPY_MODEL_221937f0ae154ef0a310022fe7819283",
       "tabbable": null,
       "tooltip": null
      }
     },
     "221937f0ae154ef0a310022fe7819283": {
      "model_module": "@jupyter-widgets/base",
      "model_module_version": "2.0.0",
      "model_name": "LayoutModel",
      "state": {
       "_model_module": "@jupyter-widgets/base",
       "_model_module_version": "2.0.0",
       "_model_name": "LayoutModel",
       "_view_count": null,
       "_view_module": "@jupyter-widgets/base",
       "_view_module_version": "2.0.0",
       "_view_name": "LayoutView",
       "align_content": null,
       "align_items": null,
       "align_self": null,
       "border_bottom": null,
       "border_left": null,
       "border_right": null,
       "border_top": null,
       "bottom": null,
       "display": null,
       "flex": null,
       "flex_flow": null,
       "grid_area": null,
       "grid_auto_columns": null,
       "grid_auto_flow": null,
       "grid_auto_rows": null,
       "grid_column": null,
       "grid_gap": null,
       "grid_row": null,
       "grid_template_areas": null,
       "grid_template_columns": null,
       "grid_template_rows": null,
       "height": null,
       "justify_content": null,
       "justify_items": null,
       "left": null,
       "margin": null,
       "max_height": null,
       "max_width": null,
       "min_height": null,
       "min_width": null,
       "object_fit": null,
       "object_position": null,
       "order": null,
       "overflow": null,
       "padding": null,
       "right": null,
       "top": null,
       "visibility": null,
       "width": null
      }
     },
     "3267a05a088e4e9da3854fb398a3be3b": {
      "model_module": "@jupyter-widgets/output",
      "model_module_version": "1.0.0",
      "model_name": "OutputModel",
      "state": {
       "_dom_classes": [],
       "_model_module": "@jupyter-widgets/output",
       "_model_module_version": "1.0.0",
       "_model_name": "OutputModel",
       "_view_count": null,
       "_view_module": "@jupyter-widgets/output",
       "_view_module_version": "1.0.0",
       "_view_name": "OutputView",
       "layout": "IPY_MODEL_03ebab466456483ca7b4354eb13fd5c5",
       "msg_id": "",
       "outputs": [
        {
         "data": {
          "text/markdown": "`sel_hubb`",
          "text/plain": "<IPython.core.display.Markdown object>"
         },
         "metadata": {},
         "output_type": "display_data"
        },
        {
         "data": {
          "image/svg+xml": "<svg xmlns=\"http://www.w3.org/2000/svg\" xmlns:xlink=\"http://www.w3.org/1999/xlink\" width=\"278pt\" height=\"476pt\" viewBox=\"0.00 0.00 278.00 476.00\">\n<g id=\"graph0\" class=\"graph\" transform=\"scale(1 1) rotate(0) translate(4 472)\">\n<title>my_graph</title>\n<polygon fill=\"white\" stroke=\"transparent\" points=\"-4,4 -4,-472 274,-472 274,4 -4,4\"/>\n<!-- U_G8 -->\n<g id=\"node1\" class=\"node\">\n<title>U_G8</title>\n<text text-anchor=\"middle\" x=\"27\" y=\"-446.3\" font-family=\"Times,serif\" font-size=\"14.00\">U</text>\n</g>\n<!-- SelectHubbard -->\n<g id=\"node10\" class=\"node\">\n<title>SelectHubbard</title>\n<polygon fill=\"none\" stroke=\"black\" points=\"91,-329 91,-346 179,-346 179,-329 91,-329\"/>\n<text text-anchor=\"start\" x=\"94\" y=\"-335\" font-family=\"Times,serif\" font-size=\"10.00\">SelectHubbard(4, 4)</text>\n<polygon fill=\"none\" stroke=\"black\" points=\"91,-308 91,-329 179,-329 179,-308 91,-308\"/>\n<text text-anchor=\"start\" x=\"130\" y=\"-314.8\" font-family=\"Times,serif\" font-size=\"14.00\">U</text>\n<polygon fill=\"none\" stroke=\"black\" points=\"91,-287 91,-308 179,-308 179,-287 91,-287\"/>\n<text text-anchor=\"start\" x=\"130\" y=\"-293.8\" font-family=\"Times,serif\" font-size=\"14.00\">V</text>\n<polygon fill=\"none\" stroke=\"black\" points=\"91,-266 91,-287 179,-287 179,-266 91,-266\"/>\n<text text-anchor=\"start\" x=\"124.5\" y=\"-272.8\" font-family=\"Times,serif\" font-size=\"14.00\">p_x</text>\n<polygon fill=\"none\" stroke=\"black\" points=\"91,-245 91,-266 179,-266 179,-245 91,-245\"/>\n<text text-anchor=\"start\" x=\"124.5\" y=\"-251.8\" font-family=\"Times,serif\" font-size=\"14.00\">p_y</text>\n<polygon fill=\"none\" stroke=\"black\" points=\"91,-224 91,-245 179,-245 179,-224 91,-224\"/>\n<text text-anchor=\"start\" x=\"120\" y=\"-230.8\" font-family=\"Times,serif\" font-size=\"14.00\">alpha</text>\n<polygon fill=\"none\" stroke=\"black\" points=\"91,-203 91,-224 179,-224 179,-203 91,-203\"/>\n<text text-anchor=\"start\" x=\"124.5\" y=\"-209.8\" font-family=\"Times,serif\" font-size=\"14.00\">q_x</text>\n<polygon fill=\"none\" stroke=\"black\" points=\"91,-182 91,-203 179,-203 179,-182 91,-182\"/>\n<text text-anchor=\"start\" x=\"124.5\" y=\"-188.8\" font-family=\"Times,serif\" font-size=\"14.00\">q_y</text>\n<polygon fill=\"none\" stroke=\"black\" points=\"91,-161 91,-182 179,-182 179,-161 91,-161\"/>\n<text text-anchor=\"start\" x=\"123.5\" y=\"-167.8\" font-family=\"Times,serif\" font-size=\"14.00\">beta</text>\n<polygon fill=\"none\" stroke=\"black\" points=\"91,-140 91,-161 179,-161 179,-140 91,-140\"/>\n<text text-anchor=\"start\" x=\"119.5\" y=\"-146.8\" font-family=\"Times,serif\" font-size=\"14.00\">target</text>\n</g>\n<!-- U_G8&#45;&gt;SelectHubbard -->\n<g id=\"edge1\" class=\"edge\">\n<title>U_G8:e-&gt;SelectHubbard:w</title>\n<path fill=\"none\" stroke=\"black\" d=\"M54,-450C83.54,-450 61.82,-325.07 88.96,-319.21\"/>\n<ellipse fill=\"black\" stroke=\"black\" cx=\"90.01\" cy=\"-319.1\" rx=\"1\" ry=\"1\"/>\n<text text-anchor=\"middle\" x=\"72.5\" y=\"-395\" font-family=\"Times,serif\" font-size=\"10.00\">1</text>\n</g>\n<!-- V_G26 -->\n<g id=\"node2\" class=\"node\">\n<title>V_G26</title>\n<text text-anchor=\"middle\" x=\"27\" y=\"-392.3\" font-family=\"Times,serif\" font-size=\"14.00\">V</text>\n</g>\n<!-- V_G26&#45;&gt;SelectHubbard -->\n<g id=\"edge2\" class=\"edge\">\n<title>V_G26:e-&gt;SelectHubbard:w</title>\n<path fill=\"none\" stroke=\"black\" d=\"M54,-396C76.55,-396 68.29,-304.03 88.91,-298.28\"/>\n<ellipse fill=\"black\" stroke=\"black\" cx=\"90.01\" cy=\"-298.13\" rx=\"1\" ry=\"1\"/>\n<text text-anchor=\"middle\" x=\"72.5\" y=\"-352\" font-family=\"Times,serif\" font-size=\"10.00\">1</text>\n</g>\n<!-- p_x_G5 -->\n<g id=\"node3\" class=\"node\">\n<title>p_x_G5</title>\n<text text-anchor=\"middle\" x=\"27\" y=\"-338.3\" font-family=\"Times,serif\" font-size=\"14.00\">p_x</text>\n</g>\n<!-- p_x_G5&#45;&gt;SelectHubbard -->\n<g id=\"edge3\" class=\"edge\">\n<title>p_x_G5:e-&gt;SelectHubbard:w</title>\n<path fill=\"none\" stroke=\"black\" d=\"M54,-342C86.46,-342 59.11,-280.01 88.76,-277.11\"/>\n<ellipse fill=\"black\" stroke=\"black\" cx=\"90\" cy=\"-277.05\" rx=\"1\" ry=\"1\"/>\n<text text-anchor=\"middle\" x=\"72.5\" y=\"-318\" font-family=\"Times,serif\" font-size=\"10.00\">2</text>\n</g>\n<!-- p_y_G4 -->\n<g id=\"node4\" class=\"node\">\n<title>p_y_G4</title>\n<text text-anchor=\"middle\" x=\"27\" y=\"-284.3\" font-family=\"Times,serif\" font-size=\"14.00\">p_y</text>\n</g>\n<!-- p_y_G4&#45;&gt;SelectHubbard -->\n<g id=\"edge4\" class=\"edge\">\n<title>p_y_G4:e-&gt;SelectHubbard:w</title>\n<path fill=\"none\" stroke=\"black\" d=\"M54,-288C74.89,-288 69.72,-258.45 88.58,-256.14\"/>\n<ellipse fill=\"black\" stroke=\"black\" cx=\"90\" cy=\"-256.06\" rx=\"1\" ry=\"1\"/>\n<text text-anchor=\"middle\" x=\"72.5\" y=\"-275\" font-family=\"Times,serif\" font-size=\"10.00\">2</text>\n</g>\n<!-- alpha_G24 -->\n<g id=\"node5\" class=\"node\">\n<title>alpha_G24</title>\n<text text-anchor=\"middle\" x=\"27\" y=\"-230.3\" font-family=\"Times,serif\" font-size=\"14.00\">alpha</text>\n</g>\n<!-- alpha_G24&#45;&gt;SelectHubbard -->\n<g id=\"edge5\" class=\"edge\">\n<title>alpha_G24:e-&gt;SelectHubbard:w</title>\n<path fill=\"none\" stroke=\"black\" d=\"M54,-234C69.67,-234 74.14,-234 88.77,-234\"/>\n<ellipse fill=\"black\" stroke=\"black\" cx=\"90\" cy=\"-234\" rx=\"1\" ry=\"1\"/>\n<text text-anchor=\"middle\" x=\"72.5\" y=\"-237\" font-family=\"Times,serif\" font-size=\"10.00\">1</text>\n</g>\n<!-- q_x_G11 -->\n<g id=\"node6\" class=\"node\">\n<title>q_x_G11</title>\n<text text-anchor=\"middle\" x=\"27\" y=\"-176.3\" font-family=\"Times,serif\" font-size=\"14.00\">q_x</text>\n</g>\n<!-- q_x_G11&#45;&gt;SelectHubbard -->\n<g id=\"edge6\" class=\"edge\">\n<title>q_x_G11:e-&gt;SelectHubbard:w</title>\n<path fill=\"none\" stroke=\"black\" d=\"M54,-180C75.17,-180 69.47,-210.47 88.55,-212.85\"/>\n<ellipse fill=\"black\" stroke=\"black\" cx=\"90\" cy=\"-212.94\" rx=\"1\" ry=\"1\"/>\n<text text-anchor=\"middle\" x=\"72.5\" y=\"-200\" font-family=\"Times,serif\" font-size=\"10.00\">2</text>\n</g>\n<!-- q_y_G2 -->\n<g id=\"node7\" class=\"node\">\n<title>q_y_G2</title>\n<text text-anchor=\"middle\" x=\"27\" y=\"-122.3\" font-family=\"Times,serif\" font-size=\"14.00\">q_y</text>\n</g>\n<!-- q_y_G2&#45;&gt;SelectHubbard -->\n<g id=\"edge7\" class=\"edge\">\n<title>q_y_G2:e-&gt;SelectHubbard:w</title>\n<path fill=\"none\" stroke=\"black\" d=\"M54,-126C86.84,-126 58.75,-188.94 88.74,-191.89\"/>\n<ellipse fill=\"black\" stroke=\"black\" cx=\"90\" cy=\"-191.95\" rx=\"1\" ry=\"1\"/>\n<text text-anchor=\"middle\" x=\"72.5\" y=\"-169\" font-family=\"Times,serif\" font-size=\"10.00\">2</text>\n</g>\n<!-- beta_G21 -->\n<g id=\"node8\" class=\"node\">\n<title>beta_G21</title>\n<text text-anchor=\"middle\" x=\"27\" y=\"-68.3\" font-family=\"Times,serif\" font-size=\"14.00\">beta</text>\n</g>\n<!-- beta_G21&#45;&gt;SelectHubbard -->\n<g id=\"edge8\" class=\"edge\">\n<title>beta_G21:e-&gt;SelectHubbard:w</title>\n<path fill=\"none\" stroke=\"black\" d=\"M54,-72C76.75,-72 68.1,-164.91 88.89,-170.72\"/>\n<ellipse fill=\"black\" stroke=\"black\" cx=\"90.01\" cy=\"-170.87\" rx=\"1\" ry=\"1\"/>\n<text text-anchor=\"middle\" x=\"72.5\" y=\"-127\" font-family=\"Times,serif\" font-size=\"10.00\">1</text>\n</g>\n<!-- target_G25 -->\n<g id=\"node9\" class=\"node\">\n<title>target_G25</title>\n<text text-anchor=\"middle\" x=\"27\" y=\"-14.3\" font-family=\"Times,serif\" font-size=\"14.00\">target</text>\n</g>\n<!-- target_G25&#45;&gt;SelectHubbard -->\n<g id=\"edge9\" class=\"edge\">\n<title>target_G25:e-&gt;SelectHubbard:w</title>\n<path fill=\"none\" stroke=\"black\" d=\"M54,-18C83.75,-18 61.63,-143.89 88.95,-149.79\"/>\n<ellipse fill=\"black\" stroke=\"black\" cx=\"90.01\" cy=\"-149.9\" rx=\"1\" ry=\"1\"/>\n<text text-anchor=\"middle\" x=\"72.5\" y=\"-95\" font-family=\"Times,serif\" font-size=\"10.00\">32</text>\n</g>\n<!-- U_G23 -->\n<g id=\"node11\" class=\"node\">\n<title>U_G23</title>\n<text text-anchor=\"middle\" x=\"243\" y=\"-446.3\" font-family=\"Times,serif\" font-size=\"14.00\">U</text>\n</g>\n<!-- SelectHubbard&#45;&gt;U_G23 -->\n<g id=\"edge10\" class=\"edge\">\n<title>SelectHubbard:e-&gt;U_G23:w</title>\n<path fill=\"none\" stroke=\"black\" d=\"M179,-319C208.54,-319 186.82,-443.93 213.96,-449.79\"/>\n<ellipse fill=\"black\" stroke=\"black\" cx=\"215.01\" cy=\"-449.9\" rx=\"1\" ry=\"1\"/>\n<text text-anchor=\"middle\" x=\"197.5\" y=\"-395\" font-family=\"Times,serif\" font-size=\"10.00\">1</text>\n</g>\n<!-- V_G3 -->\n<g id=\"node12\" class=\"node\">\n<title>V_G3</title>\n<text text-anchor=\"middle\" x=\"243\" y=\"-392.3\" font-family=\"Times,serif\" font-size=\"14.00\">V</text>\n</g>\n<!-- SelectHubbard&#45;&gt;V_G3 -->\n<g id=\"edge11\" class=\"edge\">\n<title>SelectHubbard:e-&gt;V_G3:w</title>\n<path fill=\"none\" stroke=\"black\" d=\"M179,-298C201.55,-298 193.29,-389.97 213.91,-395.72\"/>\n<ellipse fill=\"black\" stroke=\"black\" cx=\"215.01\" cy=\"-395.87\" rx=\"1\" ry=\"1\"/>\n<text text-anchor=\"middle\" x=\"197.5\" y=\"-352\" font-family=\"Times,serif\" font-size=\"10.00\">1</text>\n</g>\n<!-- p_x_G18 -->\n<g id=\"node13\" class=\"node\">\n<title>p_x_G18</title>\n<text text-anchor=\"middle\" x=\"243\" y=\"-338.3\" font-family=\"Times,serif\" font-size=\"14.00\">p_x</text>\n</g>\n<!-- SelectHubbard&#45;&gt;p_x_G18 -->\n<g id=\"edge12\" class=\"edge\">\n<title>SelectHubbard:e-&gt;p_x_G18:w</title>\n<path fill=\"none\" stroke=\"black\" d=\"M179,-277C211.46,-277 184.11,-338.99 213.76,-341.89\"/>\n<ellipse fill=\"black\" stroke=\"black\" cx=\"215\" cy=\"-341.95\" rx=\"1\" ry=\"1\"/>\n<text text-anchor=\"middle\" x=\"197.5\" y=\"-318\" font-family=\"Times,serif\" font-size=\"10.00\">2</text>\n</g>\n<!-- p_y_G14 -->\n<g id=\"node14\" class=\"node\">\n<title>p_y_G14</title>\n<text text-anchor=\"middle\" x=\"243\" y=\"-284.3\" font-family=\"Times,serif\" font-size=\"14.00\">p_y</text>\n</g>\n<!-- SelectHubbard&#45;&gt;p_y_G14 -->\n<g id=\"edge13\" class=\"edge\">\n<title>SelectHubbard:e-&gt;p_y_G14:w</title>\n<path fill=\"none\" stroke=\"black\" d=\"M179,-256C199.89,-256 194.72,-285.55 213.58,-287.86\"/>\n<ellipse fill=\"black\" stroke=\"black\" cx=\"215\" cy=\"-287.94\" rx=\"1\" ry=\"1\"/>\n<text text-anchor=\"middle\" x=\"197.5\" y=\"-275\" font-family=\"Times,serif\" font-size=\"10.00\">2</text>\n</g>\n<!-- alpha_G0 -->\n<g id=\"node15\" class=\"node\">\n<title>alpha_G0</title>\n<text text-anchor=\"middle\" x=\"243\" y=\"-230.3\" font-family=\"Times,serif\" font-size=\"14.00\">alpha</text>\n</g>\n<!-- SelectHubbard&#45;&gt;alpha_G0 -->\n<g id=\"edge14\" class=\"edge\">\n<title>SelectHubbard:e-&gt;alpha_G0:w</title>\n<path fill=\"none\" stroke=\"black\" d=\"M179,-234C194.67,-234 199.14,-234 213.77,-234\"/>\n<ellipse fill=\"black\" stroke=\"black\" cx=\"215\" cy=\"-234\" rx=\"1\" ry=\"1\"/>\n<text text-anchor=\"middle\" x=\"197.5\" y=\"-237\" font-family=\"Times,serif\" font-size=\"10.00\">1</text>\n</g>\n<!-- q_x_G15 -->\n<g id=\"node16\" class=\"node\">\n<title>q_x_G15</title>\n<text text-anchor=\"middle\" x=\"243\" y=\"-176.3\" font-family=\"Times,serif\" font-size=\"14.00\">q_x</text>\n</g>\n<!-- SelectHubbard&#45;&gt;q_x_G15 -->\n<g id=\"edge15\" class=\"edge\">\n<title>SelectHubbard:e-&gt;q_x_G15:w</title>\n<path fill=\"none\" stroke=\"black\" d=\"M179,-213C200.17,-213 194.47,-182.53 213.55,-180.15\"/>\n<ellipse fill=\"black\" stroke=\"black\" cx=\"215\" cy=\"-180.06\" rx=\"1\" ry=\"1\"/>\n<text text-anchor=\"middle\" x=\"197.5\" y=\"-200\" font-family=\"Times,serif\" font-size=\"10.00\">2</text>\n</g>\n<!-- q_y_G13 -->\n<g id=\"node17\" class=\"node\">\n<title>q_y_G13</title>\n<text text-anchor=\"middle\" x=\"243\" y=\"-122.3\" font-family=\"Times,serif\" font-size=\"14.00\">q_y</text>\n</g>\n<!-- SelectHubbard&#45;&gt;q_y_G13 -->\n<g id=\"edge16\" class=\"edge\">\n<title>SelectHubbard:e-&gt;q_y_G13:w</title>\n<path fill=\"none\" stroke=\"black\" d=\"M179,-192C211.84,-192 183.75,-129.06 213.74,-126.11\"/>\n<ellipse fill=\"black\" stroke=\"black\" cx=\"215\" cy=\"-126.05\" rx=\"1\" ry=\"1\"/>\n<text text-anchor=\"middle\" x=\"197.5\" y=\"-169\" font-family=\"Times,serif\" font-size=\"10.00\">2</text>\n</g>\n<!-- beta_G17 -->\n<g id=\"node18\" class=\"node\">\n<title>beta_G17</title>\n<text text-anchor=\"middle\" x=\"243\" y=\"-68.3\" font-family=\"Times,serif\" font-size=\"14.00\">beta</text>\n</g>\n<!-- SelectHubbard&#45;&gt;beta_G17 -->\n<g id=\"edge17\" class=\"edge\">\n<title>SelectHubbard:e-&gt;beta_G17:w</title>\n<path fill=\"none\" stroke=\"black\" d=\"M179,-171C201.75,-171 193.1,-78.09 213.89,-72.28\"/>\n<ellipse fill=\"black\" stroke=\"black\" cx=\"215.01\" cy=\"-72.13\" rx=\"1\" ry=\"1\"/>\n<text text-anchor=\"middle\" x=\"197.5\" y=\"-127\" font-family=\"Times,serif\" font-size=\"10.00\">1</text>\n</g>\n<!-- target_G10 -->\n<g id=\"node19\" class=\"node\">\n<title>target_G10</title>\n<text text-anchor=\"middle\" x=\"243\" y=\"-14.3\" font-family=\"Times,serif\" font-size=\"14.00\">target</text>\n</g>\n<!-- SelectHubbard&#45;&gt;target_G10 -->\n<g id=\"edge18\" class=\"edge\">\n<title>SelectHubbard:e-&gt;target_G10:w</title>\n<path fill=\"none\" stroke=\"black\" d=\"M179,-150C208.75,-150 186.63,-24.11 213.95,-18.21\"/>\n<ellipse fill=\"black\" stroke=\"black\" cx=\"215.01\" cy=\"-18.1\" rx=\"1\" ry=\"1\"/>\n<text text-anchor=\"middle\" x=\"197.5\" y=\"-95\" font-family=\"Times,serif\" font-size=\"10.00\">32</text>\n</g>\n</g>\n</svg>",
          "text/plain": "<IPython.core.display.SVG object>"
         },
         "metadata": {},
         "output_type": "display_data"
        }
       ],
       "tabbable": null,
       "tooltip": null
      }
     },
     "d0a86fae43bb4d8eb36fbccbfaed9493": {
      "model_module": "@jupyter-widgets/base",
      "model_module_version": "2.0.0",
      "model_name": "LayoutModel",
      "state": {
       "_model_module": "@jupyter-widgets/base",
       "_model_module_version": "2.0.0",
       "_model_name": "LayoutModel",
       "_view_count": null,
       "_view_module": "@jupyter-widgets/base",
       "_view_module_version": "2.0.0",
       "_view_name": "LayoutView",
       "align_content": null,
       "align_items": null,
       "align_self": null,
       "border_bottom": null,
       "border_left": null,
       "border_right": null,
       "border_top": null,
       "bottom": null,
       "display": null,
       "flex": null,
       "flex_flow": null,
       "grid_area": null,
       "grid_auto_columns": null,
       "grid_auto_flow": null,
       "grid_auto_rows": null,
       "grid_column": null,
       "grid_gap": null,
       "grid_row": null,
       "grid_template_areas": null,
       "grid_template_columns": null,
       "grid_template_rows": null,
       "height": null,
       "justify_content": null,
       "justify_items": null,
       "left": null,
       "margin": null,
       "max_height": null,
       "max_width": null,
       "min_height": null,
       "min_width": null,
       "object_fit": null,
       "object_position": null,
       "order": null,
       "overflow": null,
       "padding": null,
       "right": null,
       "top": null,
       "visibility": null,
       "width": null
      }
     },
     "d685403de5fe4d83bc783b24bc1d63fb": {
      "model_module": "@jupyter-widgets/controls",
      "model_module_version": "2.0.0",
      "model_name": "HBoxModel",
      "state": {
       "_dom_classes": [],
       "_model_module": "@jupyter-widgets/controls",
       "_model_module_version": "2.0.0",
       "_model_name": "HBoxModel",
       "_view_count": null,
       "_view_module": "@jupyter-widgets/controls",
       "_view_module_version": "2.0.0",
       "_view_name": "HBoxView",
       "box_style": "",
       "children": [
        "IPY_MODEL_173663f416764940afc0ec2c2bf5418e"
       ],
       "layout": "IPY_MODEL_d0a86fae43bb4d8eb36fbccbfaed9493",
       "tabbable": null,
       "tooltip": null
      }
     },
     "e43e714e0f3a48198069c52edf476aed": {
      "model_module": "@jupyter-widgets/base",
      "model_module_version": "2.0.0",
      "model_name": "LayoutModel",
      "state": {
       "_model_module": "@jupyter-widgets/base",
       "_model_module_version": "2.0.0",
       "_model_name": "LayoutModel",
       "_view_count": null,
       "_view_module": "@jupyter-widgets/base",
       "_view_module_version": "2.0.0",
       "_view_name": "LayoutView",
       "align_content": null,
       "align_items": null,
       "align_self": null,
       "border_bottom": null,
       "border_left": null,
       "border_right": null,
       "border_top": null,
       "bottom": null,
       "display": null,
       "flex": null,
       "flex_flow": null,
       "grid_area": null,
       "grid_auto_columns": null,
       "grid_auto_flow": null,
       "grid_auto_rows": null,
       "grid_column": null,
       "grid_gap": null,
       "grid_row": null,
       "grid_template_areas": null,
       "grid_template_columns": null,
       "grid_template_rows": null,
       "height": null,
       "justify_content": null,
       "justify_items": null,
       "left": null,
       "margin": null,
       "max_height": null,
       "max_width": null,
       "min_height": null,
       "min_width": null,
       "object_fit": null,
       "object_position": null,
       "order": null,
       "overflow": null,
       "padding": null,
       "right": null,
       "top": null,
       "visibility": null,
       "width": null
      }
     }
    },
    "version_major": 2,
    "version_minor": 0
   }
  }
 },
 "nbformat": 4,
 "nbformat_minor": 5
}
