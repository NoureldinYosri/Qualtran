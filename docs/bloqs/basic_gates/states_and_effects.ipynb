{
 "cells": [
  {
   "cell_type": "markdown",
   "id": "6d0f2201",
   "metadata": {
    "cq.autogen": "title_cell"
   },
   "source": [
    "# States and Effects"
   ]
  },
  {
   "cell_type": "code",
   "execution_count": 1,
   "id": "db7ec1e7",
   "metadata": {
    "cq.autogen": "top_imports"
   },
   "outputs": [],
   "source": [
    "from qualtran import Bloq, CompositeBloq, BloqBuilder, Signature, Register\n",
    "from qualtran import QBit, QInt, QUInt, QAny\n",
    "from qualtran.drawing import show_bloq, show_call_graph, show_counts_sigma\n",
    "from typing import *\n",
    "import numpy as np\n",
    "import sympy\n",
    "import cirq"
   ]
  },
  {
   "cell_type": "markdown",
   "id": "4dee16ba",
   "metadata": {
    "cq.autogen": "ZeroState.bloq_doc.md"
   },
   "source": [
    "## `ZeroState`\n",
    "The state |0>"
   ]
  },
  {
   "cell_type": "code",
   "execution_count": 2,
   "id": "36865033",
   "metadata": {
    "cq.autogen": "ZeroState.bloq_doc.py"
   },
   "outputs": [],
   "source": [
    "from qualtran.bloqs.basic_gates import ZeroState"
   ]
  },
  {
   "cell_type": "markdown",
   "id": "9131bf1b",
   "metadata": {
    "cq.autogen": "ZeroState.example_instances.md"
   },
   "source": [
    "### Example Instances"
   ]
  },
  {
   "cell_type": "code",
   "execution_count": 3,
   "id": "aaed87fa",
   "metadata": {
    "cq.autogen": "ZeroState.zero_state"
   },
   "outputs": [],
   "source": [
    "zero_state = ZeroState()"
   ]
  },
  {
   "cell_type": "markdown",
   "id": "3f1e3fa2",
   "metadata": {
    "cq.autogen": "ZeroState.graphical_signature.md"
   },
   "source": [
    "#### Graphical Signature"
   ]
  },
  {
   "cell_type": "code",
   "execution_count": 4,
   "id": "9dcfbfb2",
   "metadata": {
    "cq.autogen": "ZeroState.graphical_signature.py"
   },
   "outputs": [
    {
     "data": {
      "application/vnd.jupyter.widget-view+json": {
       "model_id": "72ab381223274e89b51d44f6df02459a",
       "version_major": 2,
       "version_minor": 0
      },
      "text/plain": [
       "HBox(children=(Output(outputs=({'output_type': 'display_data', 'data': {'text/plain': '<IPython.core.display.M…"
      ]
     },
     "metadata": {},
     "output_type": "display_data"
    }
   ],
   "source": [
    "from qualtran.drawing import show_bloqs\n",
    "show_bloqs([zero_state],\n",
    "           ['`zero_state`'])"
   ]
  },
  {
   "cell_type": "markdown",
   "id": "93f6f6ec",
   "metadata": {
    "cq.autogen": "ZeroState.call_graph.md"
   },
   "source": [
    "### Call Graph"
   ]
  },
  {
   "cell_type": "code",
   "execution_count": 5,
   "id": "4668b9f8",
   "metadata": {
    "cq.autogen": "ZeroState.call_graph.py"
   },
   "outputs": [
    {
     "data": {
      "image/svg+xml": [
       "<svg xmlns=\"http://www.w3.org/2000/svg\" xmlns:xlink=\"http://www.w3.org/1999/xlink\" width=\"181pt\" height=\"44pt\" viewBox=\"0.00 0.00 181.00 44.00\">\n",
       "<g id=\"graph0\" class=\"graph\" transform=\"scale(1 1) rotate(0) translate(4 40)\">\n",
       "<title>counts</title>\n",
       "<polygon fill=\"white\" stroke=\"transparent\" points=\"-4,4 -4,-40 177,-40 177,4 -4,4\"/>\n",
       "<!-- b0 -->\n",
       "<g id=\"node1\" class=\"node\">\n",
       "<title>b0</title>\n",
       "<polygon fill=\"none\" stroke=\"black\" points=\"173,-36 0,-36 0,0 173,0 173,-36\"/>\n",
       "<text text-anchor=\"start\" x=\"77\" y=\"-19.8\" font-family=\"Times,serif\" font-size=\"14.00\">|0&gt;</text>\n",
       "<text text-anchor=\"start\" x=\"8\" y=\"-9\" font-family=\"monospace\" font-size=\"10.00\">bit=False, state=True, n=1</text>\n",
       "</g>\n",
       "</g>\n",
       "</svg>"
      ],
      "text/plain": [
       "<IPython.core.display.SVG object>"
      ]
     },
     "metadata": {},
     "output_type": "display_data"
    },
    {
     "data": {
      "text/markdown": [
       "#### Counts totals:\n",
       " - `ZeroState(n=1)`: 1"
      ],
      "text/plain": [
       "<IPython.core.display.Markdown object>"
      ]
     },
     "metadata": {},
     "output_type": "display_data"
    }
   ],
   "source": [
    "from qualtran.resource_counting.generalizers import ignore_split_join\n",
    "zero_state_g, zero_state_sigma = zero_state.call_graph(max_depth=1, generalizer=ignore_split_join)\n",
    "show_call_graph(zero_state_g)\n",
    "show_counts_sigma(zero_state_sigma)"
   ]
  },
  {
   "cell_type": "markdown",
   "id": "ccc0c092",
   "metadata": {
    "cq.autogen": "ZeroEffect.bloq_doc.md"
   },
   "source": [
    "## `ZeroEffect`\n",
    "The effect <0|"
   ]
  },
  {
   "cell_type": "code",
   "execution_count": 6,
   "id": "72678f90",
   "metadata": {
    "cq.autogen": "ZeroEffect.bloq_doc.py"
   },
   "outputs": [],
   "source": [
    "from qualtran.bloqs.basic_gates import ZeroEffect"
   ]
  },
  {
   "cell_type": "markdown",
   "id": "a7598e23",
   "metadata": {
    "cq.autogen": "ZeroEffect.example_instances.md"
   },
   "source": [
    "### Example Instances"
   ]
  },
  {
   "cell_type": "code",
   "execution_count": 7,
   "id": "569bdccb",
   "metadata": {
    "cq.autogen": "ZeroEffect.zero_effect"
   },
   "outputs": [],
   "source": [
    "zero_effect = ZeroEffect()"
   ]
  },
  {
   "cell_type": "markdown",
   "id": "92d0e1ef",
   "metadata": {
    "cq.autogen": "ZeroEffect.graphical_signature.md"
   },
   "source": [
    "#### Graphical Signature"
   ]
  },
  {
   "cell_type": "code",
   "execution_count": 8,
   "id": "7eb749fc",
   "metadata": {
    "cq.autogen": "ZeroEffect.graphical_signature.py"
   },
   "outputs": [
    {
     "data": {
      "application/vnd.jupyter.widget-view+json": {
       "model_id": "6427a0404fc640628336739b2b3051f4",
       "version_major": 2,
       "version_minor": 0
      },
      "text/plain": [
       "HBox(children=(Output(outputs=({'output_type': 'display_data', 'data': {'text/plain': '<IPython.core.display.M…"
      ]
     },
     "metadata": {},
     "output_type": "display_data"
    }
   ],
   "source": [
    "from qualtran.drawing import show_bloqs\n",
    "show_bloqs([zero_effect],\n",
    "           ['`zero_effect`'])"
   ]
  },
  {
   "cell_type": "markdown",
   "id": "11703907",
   "metadata": {
    "cq.autogen": "ZeroEffect.call_graph.md"
   },
   "source": [
    "### Call Graph"
   ]
  },
  {
   "cell_type": "code",
   "execution_count": 9,
   "id": "53d49c0e",
   "metadata": {
    "cq.autogen": "ZeroEffect.call_graph.py"
   },
   "outputs": [
    {
     "data": {
      "image/svg+xml": [
       "<svg xmlns=\"http://www.w3.org/2000/svg\" xmlns:xlink=\"http://www.w3.org/1999/xlink\" width=\"187pt\" height=\"44pt\" viewBox=\"0.00 0.00 187.00 44.00\">\n",
       "<g id=\"graph0\" class=\"graph\" transform=\"scale(1 1) rotate(0) translate(4 40)\">\n",
       "<title>counts</title>\n",
       "<polygon fill=\"white\" stroke=\"transparent\" points=\"-4,4 -4,-40 183,-40 183,4 -4,4\"/>\n",
       "<!-- b0 -->\n",
       "<g id=\"node1\" class=\"node\">\n",
       "<title>b0</title>\n",
       "<polygon fill=\"none\" stroke=\"black\" points=\"179,-36 0,-36 0,0 179,0 179,-36\"/>\n",
       "<text text-anchor=\"start\" x=\"80\" y=\"-19.8\" font-family=\"Times,serif\" font-size=\"14.00\">&lt;0|</text>\n",
       "<text text-anchor=\"start\" x=\"8\" y=\"-9\" font-family=\"monospace\" font-size=\"10.00\">bit=False, state=False, n=1</text>\n",
       "</g>\n",
       "</g>\n",
       "</svg>"
      ],
      "text/plain": [
       "<IPython.core.display.SVG object>"
      ]
     },
     "metadata": {},
     "output_type": "display_data"
    },
    {
     "data": {
      "text/markdown": [
       "#### Counts totals:\n",
       " - `ZeroEffect(n=1)`: 1"
      ],
      "text/plain": [
       "<IPython.core.display.Markdown object>"
      ]
     },
     "metadata": {},
     "output_type": "display_data"
    }
   ],
   "source": [
    "from qualtran.resource_counting.generalizers import ignore_split_join\n",
    "zero_effect_g, zero_effect_sigma = zero_effect.call_graph(max_depth=1, generalizer=ignore_split_join)\n",
    "show_call_graph(zero_effect_g)\n",
    "show_counts_sigma(zero_effect_sigma)"
   ]
  },
  {
   "cell_type": "markdown",
   "id": "ffac197a",
   "metadata": {
    "cq.autogen": "OneState.bloq_doc.md"
   },
   "source": [
    "## `OneState`\n",
    "The state |1>"
   ]
  },
  {
   "cell_type": "code",
   "execution_count": 10,
   "id": "0fed83fa",
   "metadata": {
    "cq.autogen": "OneState.bloq_doc.py"
   },
   "outputs": [],
   "source": [
    "from qualtran.bloqs.basic_gates import OneState"
   ]
  },
  {
   "cell_type": "markdown",
   "id": "a5bd8ee1",
   "metadata": {
    "cq.autogen": "OneState.example_instances.md"
   },
   "source": [
    "### Example Instances"
   ]
  },
  {
   "cell_type": "code",
   "execution_count": 11,
   "id": "2a1b9387",
   "metadata": {
    "cq.autogen": "OneState.one_state"
   },
   "outputs": [],
   "source": [
    "one_state = OneState()"
   ]
  },
  {
   "cell_type": "markdown",
   "id": "dba14a26",
   "metadata": {
    "cq.autogen": "OneState.graphical_signature.md"
   },
   "source": [
    "#### Graphical Signature"
   ]
  },
  {
   "cell_type": "code",
   "execution_count": 12,
   "id": "60a73137",
   "metadata": {
    "cq.autogen": "OneState.graphical_signature.py"
   },
   "outputs": [
    {
     "data": {
      "application/vnd.jupyter.widget-view+json": {
       "model_id": "36c58b7123084f56b92cb28805a918cf",
       "version_major": 2,
       "version_minor": 0
      },
      "text/plain": [
       "HBox(children=(Output(outputs=({'output_type': 'display_data', 'data': {'text/plain': '<IPython.core.display.M…"
      ]
     },
     "metadata": {},
     "output_type": "display_data"
    }
   ],
   "source": [
    "from qualtran.drawing import show_bloqs\n",
    "show_bloqs([one_state],\n",
    "           ['`one_state`'])"
   ]
  },
  {
   "cell_type": "markdown",
   "id": "1aa80735",
   "metadata": {
    "cq.autogen": "OneState.call_graph.md"
   },
   "source": [
    "### Call Graph"
   ]
  },
  {
   "cell_type": "code",
   "execution_count": 13,
   "id": "f10e900d",
   "metadata": {
    "cq.autogen": "OneState.call_graph.py"
   },
   "outputs": [
    {
     "data": {
      "image/svg+xml": [
       "<svg xmlns=\"http://www.w3.org/2000/svg\" xmlns:xlink=\"http://www.w3.org/1999/xlink\" width=\"175pt\" height=\"44pt\" viewBox=\"0.00 0.00 175.00 44.00\">\n",
       "<g id=\"graph0\" class=\"graph\" transform=\"scale(1 1) rotate(0) translate(4 40)\">\n",
       "<title>counts</title>\n",
       "<polygon fill=\"white\" stroke=\"transparent\" points=\"-4,4 -4,-40 171,-40 171,4 -4,4\"/>\n",
       "<!-- b0 -->\n",
       "<g id=\"node1\" class=\"node\">\n",
       "<title>b0</title>\n",
       "<polygon fill=\"none\" stroke=\"black\" points=\"167,-36 0,-36 0,0 167,0 167,-36\"/>\n",
       "<text text-anchor=\"start\" x=\"74\" y=\"-19.8\" font-family=\"Times,serif\" font-size=\"14.00\">|1&gt;</text>\n",
       "<text text-anchor=\"start\" x=\"8\" y=\"-9\" font-family=\"monospace\" font-size=\"10.00\">bit=True, state=True, n=1</text>\n",
       "</g>\n",
       "</g>\n",
       "</svg>"
      ],
      "text/plain": [
       "<IPython.core.display.SVG object>"
      ]
     },
     "metadata": {},
     "output_type": "display_data"
    },
    {
     "data": {
      "text/markdown": [
       "#### Counts totals:\n",
       " - `OneState(n=1)`: 1"
      ],
      "text/plain": [
       "<IPython.core.display.Markdown object>"
      ]
     },
     "metadata": {},
     "output_type": "display_data"
    }
   ],
   "source": [
    "from qualtran.resource_counting.generalizers import ignore_split_join\n",
    "one_state_g, one_state_sigma = one_state.call_graph(max_depth=1, generalizer=ignore_split_join)\n",
    "show_call_graph(one_state_g)\n",
    "show_counts_sigma(one_state_sigma)"
   ]
  },
  {
   "cell_type": "markdown",
   "id": "a844b23f",
   "metadata": {
    "cq.autogen": "OneEffect.bloq_doc.md"
   },
   "source": [
    "## `OneEffect`\n",
    "The effect <1|"
   ]
  },
  {
   "cell_type": "code",
   "execution_count": 14,
   "id": "a73b8207",
   "metadata": {
    "cq.autogen": "OneEffect.bloq_doc.py"
   },
   "outputs": [],
   "source": [
    "from qualtran.bloqs.basic_gates import OneEffect"
   ]
  },
  {
   "cell_type": "markdown",
   "id": "511d61ae",
   "metadata": {
    "cq.autogen": "OneEffect.example_instances.md"
   },
   "source": [
    "### Example Instances"
   ]
  },
  {
   "cell_type": "code",
   "execution_count": 15,
   "id": "1e5c4f26",
   "metadata": {
    "cq.autogen": "OneEffect.one_effect"
   },
   "outputs": [],
   "source": [
    "one_effect = OneEffect()"
   ]
  },
  {
   "cell_type": "markdown",
   "id": "1aebe8aa",
   "metadata": {
    "cq.autogen": "OneEffect.graphical_signature.md"
   },
   "source": [
    "#### Graphical Signature"
   ]
  },
  {
   "cell_type": "code",
   "execution_count": 16,
   "id": "7e492bb6",
   "metadata": {
    "cq.autogen": "OneEffect.graphical_signature.py"
   },
   "outputs": [
    {
     "data": {
      "application/vnd.jupyter.widget-view+json": {
       "model_id": "9d204c87c3fa4e94aa77c1f510061db4",
       "version_major": 2,
       "version_minor": 0
      },
      "text/plain": [
       "HBox(children=(Output(outputs=({'output_type': 'display_data', 'data': {'text/plain': '<IPython.core.display.M…"
      ]
     },
     "metadata": {},
     "output_type": "display_data"
    }
   ],
   "source": [
    "from qualtran.drawing import show_bloqs\n",
    "show_bloqs([one_effect],\n",
    "           ['`one_effect`'])"
   ]
  },
  {
   "cell_type": "markdown",
   "id": "423fea39",
   "metadata": {
    "cq.autogen": "OneEffect.call_graph.md"
   },
   "source": [
    "### Call Graph"
   ]
  },
  {
   "cell_type": "code",
   "execution_count": 17,
   "id": "b6ccdfc9",
   "metadata": {
    "cq.autogen": "OneEffect.call_graph.py"
   },
   "outputs": [
    {
     "data": {
      "image/svg+xml": [
       "<svg xmlns=\"http://www.w3.org/2000/svg\" xmlns:xlink=\"http://www.w3.org/1999/xlink\" width=\"181pt\" height=\"44pt\" viewBox=\"0.00 0.00 181.00 44.00\">\n",
       "<g id=\"graph0\" class=\"graph\" transform=\"scale(1 1) rotate(0) translate(4 40)\">\n",
       "<title>counts</title>\n",
       "<polygon fill=\"white\" stroke=\"transparent\" points=\"-4,4 -4,-40 177,-40 177,4 -4,4\"/>\n",
       "<!-- b0 -->\n",
       "<g id=\"node1\" class=\"node\">\n",
       "<title>b0</title>\n",
       "<polygon fill=\"none\" stroke=\"black\" points=\"173,-36 0,-36 0,0 173,0 173,-36\"/>\n",
       "<text text-anchor=\"start\" x=\"77\" y=\"-19.8\" font-family=\"Times,serif\" font-size=\"14.00\">&lt;1|</text>\n",
       "<text text-anchor=\"start\" x=\"8\" y=\"-9\" font-family=\"monospace\" font-size=\"10.00\">bit=True, state=False, n=1</text>\n",
       "</g>\n",
       "</g>\n",
       "</svg>"
      ],
      "text/plain": [
       "<IPython.core.display.SVG object>"
      ]
     },
     "metadata": {},
     "output_type": "display_data"
    },
    {
     "data": {
      "text/markdown": [
       "#### Counts totals:\n",
       " - `OneEffect(n=1)`: 1"
      ],
      "text/plain": [
       "<IPython.core.display.Markdown object>"
      ]
     },
     "metadata": {},
     "output_type": "display_data"
    }
   ],
   "source": [
    "from qualtran.resource_counting.generalizers import ignore_split_join\n",
    "one_effect_g, one_effect_sigma = one_effect.call_graph(max_depth=1, generalizer=ignore_split_join)\n",
    "show_call_graph(one_effect_g)\n",
    "show_counts_sigma(one_effect_sigma)"
   ]
  },
  {
   "cell_type": "markdown",
   "id": "265284e0",
   "metadata": {
    "cq.autogen": "IntState.bloq_doc.md"
   },
   "source": [
    "## `IntState`\n",
    "The state |val> for non-negative integer val\n",
    "\n",
    "#### Parameters\n",
    " - `val`: the classical value\n",
    " - `bitsize`: The bitsize of the register \n",
    "\n",
    "#### Registers\n",
    " - `val`: The register of size `bitsize` which initializes the value `val`.\n"
   ]
  },
  {
   "cell_type": "code",
   "execution_count": 18,
   "id": "5b8e22fe",
   "metadata": {
    "cq.autogen": "IntState.bloq_doc.py"
   },
   "outputs": [],
   "source": [
    "from qualtran.bloqs.basic_gates import IntState"
   ]
  },
  {
   "cell_type": "markdown",
   "id": "4c13bd35",
   "metadata": {
    "cq.autogen": "IntState.example_instances.md"
   },
   "source": [
    "### Example Instances"
   ]
  },
  {
   "cell_type": "code",
   "execution_count": 19,
   "id": "780e697d",
   "metadata": {
    "cq.autogen": "IntState.int_state"
   },
   "outputs": [],
   "source": [
    "int_state = IntState(55, bitsize=8)"
   ]
  },
  {
   "cell_type": "markdown",
   "id": "abf1cf71",
   "metadata": {
    "cq.autogen": "IntState.graphical_signature.md"
   },
   "source": [
    "#### Graphical Signature"
   ]
  },
  {
   "cell_type": "code",
   "execution_count": 20,
   "id": "0f359756",
   "metadata": {
    "cq.autogen": "IntState.graphical_signature.py"
   },
   "outputs": [
    {
     "data": {
      "application/vnd.jupyter.widget-view+json": {
       "model_id": "fd43c429e54446c5a79bbeadd0cb7c87",
       "version_major": 2,
       "version_minor": 0
      },
      "text/plain": [
       "HBox(children=(Output(outputs=({'output_type': 'display_data', 'data': {'text/plain': '<IPython.core.display.M…"
      ]
     },
     "metadata": {},
     "output_type": "display_data"
    }
   ],
   "source": [
    "from qualtran.drawing import show_bloqs\n",
    "show_bloqs([int_state],\n",
    "           ['`int_state`'])"
   ]
  },
  {
   "cell_type": "markdown",
   "id": "a2e439f2",
   "metadata": {
    "cq.autogen": "IntState.call_graph.md"
   },
   "source": [
    "### Call Graph"
   ]
  },
  {
   "cell_type": "code",
   "execution_count": 21,
   "id": "9d09b2f0",
   "metadata": {
    "cq.autogen": "IntState.call_graph.py"
   },
   "outputs": [
    {
     "data": {
      "image/svg+xml": [
       "<svg xmlns=\"http://www.w3.org/2000/svg\" xmlns:xlink=\"http://www.w3.org/1999/xlink\" width=\"199pt\" height=\"131pt\" viewBox=\"0.00 0.00 199.00 131.00\">\n",
       "<g id=\"graph0\" class=\"graph\" transform=\"scale(1 1) rotate(0) translate(4 127)\">\n",
       "<title>counts</title>\n",
       "<polygon fill=\"white\" stroke=\"transparent\" points=\"-4,4 -4,-127 195,-127 195,4 -4,4\"/>\n",
       "<!-- b0 -->\n",
       "<g id=\"node1\" class=\"node\">\n",
       "<title>b0</title>\n",
       "<polygon fill=\"none\" stroke=\"black\" points=\"191,-123 0,-123 0,-87 191,-87 191,-123\"/>\n",
       "<text text-anchor=\"start\" x=\"83\" y=\"-106.8\" font-family=\"Times,serif\" font-size=\"14.00\">|55&gt;</text>\n",
       "<text text-anchor=\"start\" x=\"8\" y=\"-96\" font-family=\"monospace\" font-size=\"10.00\">val=55, bitsize=8, state=True</text>\n",
       "</g>\n",
       "<!-- b1 -->\n",
       "<g id=\"node2\" class=\"node\">\n",
       "<title>b1</title>\n",
       "<polygon fill=\"none\" stroke=\"black\" points=\"150.5,-36 40.5,-36 40.5,0 150.5,0 150.5,-36\"/>\n",
       "<text text-anchor=\"start\" x=\"48.5\" y=\"-19.8\" font-family=\"Times,serif\" font-size=\"14.00\">ArbitraryClifford</text>\n",
       "<text text-anchor=\"start\" x=\"86\" y=\"-9\" font-family=\"monospace\" font-size=\"10.00\">n=8</text>\n",
       "</g>\n",
       "<!-- b0&#45;&gt;b1 -->\n",
       "<g id=\"edge1\" class=\"edge\">\n",
       "<title>b0-&gt;b1</title>\n",
       "<path fill=\"none\" stroke=\"black\" d=\"M95.5,-86.8C95.5,-75.16 95.5,-59.55 95.5,-46.24\"/>\n",
       "<polygon fill=\"black\" stroke=\"black\" points=\"99,-46.18 95.5,-36.18 92,-46.18 99,-46.18\"/>\n",
       "<text text-anchor=\"middle\" x=\"99\" y=\"-57.8\" font-family=\"Times,serif\" font-size=\"14.00\">1</text>\n",
       "</g>\n",
       "</g>\n",
       "</svg>"
      ],
      "text/plain": [
       "<IPython.core.display.SVG object>"
      ]
     },
     "metadata": {},
     "output_type": "display_data"
    },
    {
     "data": {
      "text/markdown": [
       "#### Counts totals:\n",
       " - `ArbitraryClifford(n=8)`: 1"
      ],
      "text/plain": [
       "<IPython.core.display.Markdown object>"
      ]
     },
     "metadata": {},
     "output_type": "display_data"
    }
   ],
   "source": [
    "from qualtran.resource_counting.generalizers import ignore_split_join\n",
    "int_state_g, int_state_sigma = int_state.call_graph(max_depth=1, generalizer=ignore_split_join)\n",
    "show_call_graph(int_state_g)\n",
    "show_counts_sigma(int_state_sigma)"
   ]
  },
  {
   "cell_type": "markdown",
   "id": "24987094",
   "metadata": {
    "cq.autogen": "IntEffect.bloq_doc.md"
   },
   "source": [
    "## `IntEffect`\n",
    "The effect <val| for non-negative integer val\n",
    "\n",
    "#### Parameters\n",
    " - `val`: the classical value\n",
    " - `bitsize`: The bitsize of the register \n",
    "\n",
    "#### Registers\n",
    " - `val`: The register of size `bitsize` which de-allocates the value `val`.\n"
   ]
  },
  {
   "cell_type": "code",
   "execution_count": 22,
   "id": "7281a61e",
   "metadata": {
    "cq.autogen": "IntEffect.bloq_doc.py"
   },
   "outputs": [],
   "source": [
    "from qualtran.bloqs.basic_gates import IntEffect"
   ]
  },
  {
   "cell_type": "markdown",
   "id": "a9d594a4",
   "metadata": {
    "cq.autogen": "IntEffect.example_instances.md"
   },
   "source": [
    "### Example Instances"
   ]
  },
  {
   "cell_type": "code",
   "execution_count": 23,
   "id": "46fa8456",
   "metadata": {
    "cq.autogen": "IntEffect.int_effect"
   },
   "outputs": [],
   "source": [
    "int_effect = IntEffect(55, bitsize=8)"
   ]
  },
  {
   "cell_type": "markdown",
   "id": "5581465d",
   "metadata": {
    "cq.autogen": "IntEffect.graphical_signature.md"
   },
   "source": [
    "#### Graphical Signature"
   ]
  },
  {
   "cell_type": "code",
   "execution_count": 24,
   "id": "bf1426a0",
   "metadata": {
    "cq.autogen": "IntEffect.graphical_signature.py"
   },
   "outputs": [
    {
     "data": {
      "application/vnd.jupyter.widget-view+json": {
       "model_id": "5cf5436f02d54cb9a954ea0e6fca3beb",
       "version_major": 2,
       "version_minor": 0
      },
      "text/plain": [
       "HBox(children=(Output(outputs=({'output_type': 'display_data', 'data': {'text/plain': '<IPython.core.display.M…"
      ]
     },
     "metadata": {},
     "output_type": "display_data"
    }
   ],
   "source": [
    "from qualtran.drawing import show_bloqs\n",
    "show_bloqs([int_effect],\n",
    "           ['`int_effect`'])"
   ]
  },
  {
   "cell_type": "markdown",
   "id": "19821a22",
   "metadata": {
    "cq.autogen": "IntEffect.call_graph.md"
   },
   "source": [
    "### Call Graph"
   ]
  },
  {
   "cell_type": "code",
   "execution_count": 25,
   "id": "de2f05d0",
   "metadata": {
    "cq.autogen": "IntEffect.call_graph.py"
   },
   "outputs": [
    {
     "data": {
      "image/svg+xml": [
       "<svg xmlns=\"http://www.w3.org/2000/svg\" xmlns:xlink=\"http://www.w3.org/1999/xlink\" width=\"205pt\" height=\"131pt\" viewBox=\"0.00 0.00 205.00 131.00\">\n",
       "<g id=\"graph0\" class=\"graph\" transform=\"scale(1 1) rotate(0) translate(4 127)\">\n",
       "<title>counts</title>\n",
       "<polygon fill=\"white\" stroke=\"transparent\" points=\"-4,4 -4,-127 201,-127 201,4 -4,4\"/>\n",
       "<!-- b0 -->\n",
       "<g id=\"node1\" class=\"node\">\n",
       "<title>b0</title>\n",
       "<polygon fill=\"none\" stroke=\"black\" points=\"197,-123 0,-123 0,-87 197,-87 197,-123\"/>\n",
       "<text text-anchor=\"start\" x=\"86\" y=\"-106.8\" font-family=\"Times,serif\" font-size=\"14.00\">&lt;55|</text>\n",
       "<text text-anchor=\"start\" x=\"8\" y=\"-96\" font-family=\"monospace\" font-size=\"10.00\">val=55, bitsize=8, state=False</text>\n",
       "</g>\n",
       "<!-- b1 -->\n",
       "<g id=\"node2\" class=\"node\">\n",
       "<title>b1</title>\n",
       "<polygon fill=\"none\" stroke=\"black\" points=\"153.5,-36 43.5,-36 43.5,0 153.5,0 153.5,-36\"/>\n",
       "<text text-anchor=\"start\" x=\"51.5\" y=\"-19.8\" font-family=\"Times,serif\" font-size=\"14.00\">ArbitraryClifford</text>\n",
       "<text text-anchor=\"start\" x=\"89\" y=\"-9\" font-family=\"monospace\" font-size=\"10.00\">n=8</text>\n",
       "</g>\n",
       "<!-- b0&#45;&gt;b1 -->\n",
       "<g id=\"edge1\" class=\"edge\">\n",
       "<title>b0-&gt;b1</title>\n",
       "<path fill=\"none\" stroke=\"black\" d=\"M98.5,-86.8C98.5,-75.16 98.5,-59.55 98.5,-46.24\"/>\n",
       "<polygon fill=\"black\" stroke=\"black\" points=\"102,-46.18 98.5,-36.18 95,-46.18 102,-46.18\"/>\n",
       "<text text-anchor=\"middle\" x=\"102\" y=\"-57.8\" font-family=\"Times,serif\" font-size=\"14.00\">1</text>\n",
       "</g>\n",
       "</g>\n",
       "</svg>"
      ],
      "text/plain": [
       "<IPython.core.display.SVG object>"
      ]
     },
     "metadata": {},
     "output_type": "display_data"
    },
    {
     "data": {
      "text/markdown": [
       "#### Counts totals:\n",
       " - `ArbitraryClifford(n=8)`: 1"
      ],
      "text/plain": [
       "<IPython.core.display.Markdown object>"
      ]
     },
     "metadata": {},
     "output_type": "display_data"
    }
   ],
   "source": [
    "from qualtran.resource_counting.generalizers import ignore_split_join\n",
    "int_effect_g, int_effect_sigma = int_effect.call_graph(max_depth=1, generalizer=ignore_split_join)\n",
    "show_call_graph(int_effect_g)\n",
    "show_counts_sigma(int_effect_sigma)"
   ]
  },
  {
   "cell_type": "markdown",
   "id": "6ecc5e6f",
   "metadata": {
    "cq.autogen": "PlusState.bloq_doc.md"
   },
   "source": [
    "## `PlusState`\n",
    "The state |+>"
   ]
  },
  {
   "cell_type": "code",
   "execution_count": 26,
   "id": "3e300a86",
   "metadata": {
    "cq.autogen": "PlusState.bloq_doc.py"
   },
   "outputs": [],
   "source": [
    "from qualtran.bloqs.basic_gates import PlusState"
   ]
  },
  {
   "cell_type": "markdown",
   "id": "bcfe31e5",
   "metadata": {
    "cq.autogen": "PlusState.example_instances.md"
   },
   "source": [
    "### Example Instances"
   ]
  },
  {
   "cell_type": "code",
   "execution_count": 27,
   "id": "6a957583",
   "metadata": {
    "cq.autogen": "PlusState.plus_state"
   },
   "outputs": [],
   "source": [
    "plus_state = PlusState()"
   ]
  },
  {
   "cell_type": "markdown",
   "id": "b80ec3e7",
   "metadata": {
    "cq.autogen": "PlusState.graphical_signature.md"
   },
   "source": [
    "#### Graphical Signature"
   ]
  },
  {
   "cell_type": "code",
   "execution_count": 28,
   "id": "c4d0c580",
   "metadata": {
    "cq.autogen": "PlusState.graphical_signature.py"
   },
   "outputs": [
    {
     "data": {
      "application/vnd.jupyter.widget-view+json": {
       "model_id": "62ea8f38216e417cae4a134a3356f209",
       "version_major": 2,
       "version_minor": 0
      },
      "text/plain": [
       "HBox(children=(Output(outputs=({'output_type': 'display_data', 'data': {'text/plain': '<IPython.core.display.M…"
      ]
     },
     "metadata": {},
     "output_type": "display_data"
    }
   ],
   "source": [
    "from qualtran.drawing import show_bloqs\n",
    "show_bloqs([plus_state],\n",
    "           ['`plus_state`'])"
   ]
  },
  {
   "cell_type": "markdown",
   "id": "6d9a4075",
   "metadata": {
    "cq.autogen": "PlusState.call_graph.md"
   },
   "source": [
    "### Call Graph"
   ]
  },
  {
   "cell_type": "code",
   "execution_count": 29,
   "id": "49aa154d",
   "metadata": {
    "cq.autogen": "PlusState.call_graph.py"
   },
   "outputs": [
    {
     "data": {
      "image/svg+xml": [
       "<svg xmlns=\"http://www.w3.org/2000/svg\" xmlns:xlink=\"http://www.w3.org/1999/xlink\" width=\"181pt\" height=\"44pt\" viewBox=\"0.00 0.00 181.00 44.00\">\n",
       "<g id=\"graph0\" class=\"graph\" transform=\"scale(1 1) rotate(0) translate(4 40)\">\n",
       "<title>counts</title>\n",
       "<polygon fill=\"white\" stroke=\"transparent\" points=\"-4,4 -4,-40 177,-40 177,4 -4,4\"/>\n",
       "<!-- b0 -->\n",
       "<g id=\"node1\" class=\"node\">\n",
       "<title>b0</title>\n",
       "<polygon fill=\"none\" stroke=\"black\" points=\"173,-36 0,-36 0,0 173,0 173,-36\"/>\n",
       "<text text-anchor=\"start\" x=\"76.5\" y=\"-19.8\" font-family=\"Times,serif\" font-size=\"14.00\">|+&gt;</text>\n",
       "<text text-anchor=\"start\" x=\"8\" y=\"-9\" font-family=\"monospace\" font-size=\"10.00\">bit=False, state=True, n=1</text>\n",
       "</g>\n",
       "</g>\n",
       "</svg>"
      ],
      "text/plain": [
       "<IPython.core.display.SVG object>"
      ]
     },
     "metadata": {},
     "output_type": "display_data"
    },
    {
     "data": {
      "text/markdown": [
       "#### Counts totals:\n",
       " - `PlusState(n=1)`: 1"
      ],
      "text/plain": [
       "<IPython.core.display.Markdown object>"
      ]
     },
     "metadata": {},
     "output_type": "display_data"
    }
   ],
   "source": [
    "from qualtran.resource_counting.generalizers import ignore_split_join\n",
    "plus_state_g, plus_state_sigma = plus_state.call_graph(max_depth=1, generalizer=ignore_split_join)\n",
    "show_call_graph(plus_state_g)\n",
    "show_counts_sigma(plus_state_sigma)"
   ]
  },
  {
   "cell_type": "markdown",
   "id": "285d0f64",
   "metadata": {
    "cq.autogen": "PlusEffect.bloq_doc.md"
   },
   "source": [
    "## `PlusEffect`\n",
    "The effect <+|"
   ]
  },
  {
   "cell_type": "code",
   "execution_count": 30,
   "id": "06c673cb",
   "metadata": {
    "cq.autogen": "PlusEffect.bloq_doc.py"
   },
   "outputs": [],
   "source": [
    "from qualtran.bloqs.basic_gates import PlusEffect"
   ]
  },
  {
   "cell_type": "markdown",
   "id": "b28bca45",
   "metadata": {
    "cq.autogen": "PlusEffect.example_instances.md"
   },
   "source": [
    "### Example Instances"
   ]
  },
  {
   "cell_type": "code",
   "execution_count": 31,
   "id": "59511109",
   "metadata": {
    "cq.autogen": "PlusEffect.plus_effect"
   },
   "outputs": [],
   "source": [
    "plus_effect = PlusEffect()"
   ]
  },
  {
   "cell_type": "markdown",
   "id": "5eaaabb7",
   "metadata": {
    "cq.autogen": "PlusEffect.graphical_signature.md"
   },
   "source": [
    "#### Graphical Signature"
   ]
  },
  {
   "cell_type": "code",
   "execution_count": 32,
   "id": "8c0f7cf1",
   "metadata": {
    "cq.autogen": "PlusEffect.graphical_signature.py"
   },
   "outputs": [
    {
     "data": {
      "application/vnd.jupyter.widget-view+json": {
       "model_id": "7148bd25cc5a4d6eac11394c23e924b4",
       "version_major": 2,
       "version_minor": 0
      },
      "text/plain": [
       "HBox(children=(Output(outputs=({'output_type': 'display_data', 'data': {'text/plain': '<IPython.core.display.M…"
      ]
     },
     "metadata": {},
     "output_type": "display_data"
    }
   ],
   "source": [
    "from qualtran.drawing import show_bloqs\n",
    "show_bloqs([plus_effect],\n",
    "           ['`plus_effect`'])"
   ]
  },
  {
   "cell_type": "markdown",
   "id": "591e79f3",
   "metadata": {
    "cq.autogen": "PlusEffect.call_graph.md"
   },
   "source": [
    "### Call Graph"
   ]
  },
  {
   "cell_type": "code",
   "execution_count": 33,
   "id": "28401875",
   "metadata": {
    "cq.autogen": "PlusEffect.call_graph.py"
   },
   "outputs": [
    {
     "data": {
      "image/svg+xml": [
       "<svg xmlns=\"http://www.w3.org/2000/svg\" xmlns:xlink=\"http://www.w3.org/1999/xlink\" width=\"187pt\" height=\"44pt\" viewBox=\"0.00 0.00 187.00 44.00\">\n",
       "<g id=\"graph0\" class=\"graph\" transform=\"scale(1 1) rotate(0) translate(4 40)\">\n",
       "<title>counts</title>\n",
       "<polygon fill=\"white\" stroke=\"transparent\" points=\"-4,4 -4,-40 183,-40 183,4 -4,4\"/>\n",
       "<!-- b0 -->\n",
       "<g id=\"node1\" class=\"node\">\n",
       "<title>b0</title>\n",
       "<polygon fill=\"none\" stroke=\"black\" points=\"179,-36 0,-36 0,0 179,0 179,-36\"/>\n",
       "<text text-anchor=\"start\" x=\"79.5\" y=\"-19.8\" font-family=\"Times,serif\" font-size=\"14.00\">&lt;+|</text>\n",
       "<text text-anchor=\"start\" x=\"8\" y=\"-9\" font-family=\"monospace\" font-size=\"10.00\">bit=False, state=False, n=1</text>\n",
       "</g>\n",
       "</g>\n",
       "</svg>"
      ],
      "text/plain": [
       "<IPython.core.display.SVG object>"
      ]
     },
     "metadata": {},
     "output_type": "display_data"
    },
    {
     "data": {
      "text/markdown": [
       "#### Counts totals:\n",
       " - `PlusEffect(n=1)`: 1"
      ],
      "text/plain": [
       "<IPython.core.display.Markdown object>"
      ]
     },
     "metadata": {},
     "output_type": "display_data"
    }
   ],
   "source": [
    "from qualtran.resource_counting.generalizers import ignore_split_join\n",
    "plus_effect_g, plus_effect_sigma = plus_effect.call_graph(max_depth=1, generalizer=ignore_split_join)\n",
    "show_call_graph(plus_effect_g)\n",
    "show_counts_sigma(plus_effect_sigma)"
   ]
  },
  {
   "cell_type": "markdown",
   "id": "172f565a",
   "metadata": {
    "cq.autogen": "MinusState.bloq_doc.md"
   },
   "source": [
    "## `MinusState`\n",
    "The state |->"
   ]
  },
  {
   "cell_type": "code",
   "execution_count": 34,
   "id": "46838c6f",
   "metadata": {
    "cq.autogen": "MinusState.bloq_doc.py"
   },
   "outputs": [],
   "source": [
    "from qualtran.bloqs.basic_gates import MinusState"
   ]
  },
  {
   "cell_type": "markdown",
   "id": "2c4b9224",
   "metadata": {
    "cq.autogen": "MinusState.example_instances.md"
   },
   "source": [
    "### Example Instances"
   ]
  },
  {
   "cell_type": "code",
   "execution_count": 35,
   "id": "98838314",
   "metadata": {
    "cq.autogen": "MinusState.minus_state"
   },
   "outputs": [],
   "source": [
    "minus_state = MinusState()"
   ]
  },
  {
   "cell_type": "markdown",
   "id": "947e657c",
   "metadata": {
    "cq.autogen": "MinusState.graphical_signature.md"
   },
   "source": [
    "#### Graphical Signature"
   ]
  },
  {
   "cell_type": "code",
   "execution_count": 36,
   "id": "2e4279bc",
   "metadata": {
    "cq.autogen": "MinusState.graphical_signature.py"
   },
   "outputs": [
    {
     "data": {
      "application/vnd.jupyter.widget-view+json": {
       "model_id": "4737f0ba108346188324f1c3dc507bc4",
       "version_major": 2,
       "version_minor": 0
      },
      "text/plain": [
       "HBox(children=(Output(outputs=({'output_type': 'display_data', 'data': {'text/plain': '<IPython.core.display.M…"
      ]
     },
     "metadata": {},
     "output_type": "display_data"
    }
   ],
   "source": [
    "from qualtran.drawing import show_bloqs\n",
    "show_bloqs([minus_state],\n",
    "           ['`minus_state`'])"
   ]
  },
  {
   "cell_type": "markdown",
   "id": "e9653d97",
   "metadata": {
    "cq.autogen": "MinusState.call_graph.md"
   },
   "source": [
    "### Call Graph"
   ]
  },
  {
   "cell_type": "code",
   "execution_count": 37,
   "id": "6b97f8ac",
   "metadata": {
    "cq.autogen": "MinusState.call_graph.py"
   },
   "outputs": [
    {
     "data": {
      "image/svg+xml": [
       "<svg xmlns=\"http://www.w3.org/2000/svg\" xmlns:xlink=\"http://www.w3.org/1999/xlink\" width=\"175pt\" height=\"44pt\" viewBox=\"0.00 0.00 175.00 44.00\">\n",
       "<g id=\"graph0\" class=\"graph\" transform=\"scale(1 1) rotate(0) translate(4 40)\">\n",
       "<title>counts</title>\n",
       "<polygon fill=\"white\" stroke=\"transparent\" points=\"-4,4 -4,-40 171,-40 171,4 -4,4\"/>\n",
       "<!-- b0 -->\n",
       "<g id=\"node1\" class=\"node\">\n",
       "<title>b0</title>\n",
       "<polygon fill=\"none\" stroke=\"black\" points=\"167,-36 0,-36 0,0 167,0 167,-36\"/>\n",
       "<text text-anchor=\"start\" x=\"75.5\" y=\"-19.8\" font-family=\"Times,serif\" font-size=\"14.00\">|-&gt;</text>\n",
       "<text text-anchor=\"start\" x=\"8\" y=\"-9\" font-family=\"monospace\" font-size=\"10.00\">bit=True, state=True, n=1</text>\n",
       "</g>\n",
       "</g>\n",
       "</svg>"
      ],
      "text/plain": [
       "<IPython.core.display.SVG object>"
      ]
     },
     "metadata": {},
     "output_type": "display_data"
    },
    {
     "data": {
      "text/markdown": [
       "#### Counts totals:\n",
       " - `MinusState(n=1)`: 1"
      ],
      "text/plain": [
       "<IPython.core.display.Markdown object>"
      ]
     },
     "metadata": {},
     "output_type": "display_data"
    }
   ],
   "source": [
    "from qualtran.resource_counting.generalizers import ignore_split_join\n",
    "minus_state_g, minus_state_sigma = minus_state.call_graph(max_depth=1, generalizer=ignore_split_join)\n",
    "show_call_graph(minus_state_g)\n",
    "show_counts_sigma(minus_state_sigma)"
   ]
  },
  {
   "cell_type": "markdown",
   "id": "7cb29dfb",
   "metadata": {
    "cq.autogen": "MinusEffect.bloq_doc.md"
   },
   "source": [
    "## `MinusEffect`\n",
    "The effect <-|"
   ]
  },
  {
   "cell_type": "code",
   "execution_count": 38,
   "id": "bf1a296c",
   "metadata": {
    "cq.autogen": "MinusEffect.bloq_doc.py"
   },
   "outputs": [],
   "source": [
    "from qualtran.bloqs.basic_gates import MinusEffect"
   ]
  },
  {
   "cell_type": "markdown",
   "id": "2fd33f98",
   "metadata": {
    "cq.autogen": "MinusEffect.example_instances.md"
   },
   "source": [
    "### Example Instances"
   ]
  },
  {
   "cell_type": "code",
   "execution_count": 39,
   "id": "8772b615",
   "metadata": {
    "cq.autogen": "MinusEffect.minus_effect"
   },
   "outputs": [],
   "source": [
    "minus_effect = MinusEffect()"
   ]
  },
  {
   "cell_type": "markdown",
   "id": "d8ad4018",
   "metadata": {
    "cq.autogen": "MinusEffect.graphical_signature.md"
   },
   "source": [
    "#### Graphical Signature"
   ]
  },
  {
   "cell_type": "code",
   "execution_count": 40,
   "id": "03b42d54",
   "metadata": {
    "cq.autogen": "MinusEffect.graphical_signature.py"
   },
   "outputs": [
    {
     "data": {
      "application/vnd.jupyter.widget-view+json": {
       "model_id": "3fc0e4e0f8564db8b03e0c9e9e3b3a66",
       "version_major": 2,
       "version_minor": 0
      },
      "text/plain": [
       "HBox(children=(Output(outputs=({'output_type': 'display_data', 'data': {'text/plain': '<IPython.core.display.M…"
      ]
     },
     "metadata": {},
     "output_type": "display_data"
    }
   ],
   "source": [
    "from qualtran.drawing import show_bloqs\n",
    "show_bloqs([minus_effect],\n",
    "           ['`minus_effect`'])"
   ]
  },
  {
   "cell_type": "markdown",
   "id": "b0a65b9a",
   "metadata": {
    "cq.autogen": "MinusEffect.call_graph.md"
   },
   "source": [
    "### Call Graph"
   ]
  },
  {
   "cell_type": "code",
   "execution_count": 41,
   "id": "3a6473de",
   "metadata": {
    "cq.autogen": "MinusEffect.call_graph.py"
   },
   "outputs": [
    {
     "data": {
      "image/svg+xml": [
       "<svg xmlns=\"http://www.w3.org/2000/svg\" xmlns:xlink=\"http://www.w3.org/1999/xlink\" width=\"181pt\" height=\"44pt\" viewBox=\"0.00 0.00 181.00 44.00\">\n",
       "<g id=\"graph0\" class=\"graph\" transform=\"scale(1 1) rotate(0) translate(4 40)\">\n",
       "<title>counts</title>\n",
       "<polygon fill=\"white\" stroke=\"transparent\" points=\"-4,4 -4,-40 177,-40 177,4 -4,4\"/>\n",
       "<!-- b0 -->\n",
       "<g id=\"node1\" class=\"node\">\n",
       "<title>b0</title>\n",
       "<polygon fill=\"none\" stroke=\"black\" points=\"173,-36 0,-36 0,0 173,0 173,-36\"/>\n",
       "<text text-anchor=\"start\" x=\"78.5\" y=\"-19.8\" font-family=\"Times,serif\" font-size=\"14.00\">&lt;-|</text>\n",
       "<text text-anchor=\"start\" x=\"8\" y=\"-9\" font-family=\"monospace\" font-size=\"10.00\">bit=True, state=False, n=1</text>\n",
       "</g>\n",
       "</g>\n",
       "</svg>"
      ],
      "text/plain": [
       "<IPython.core.display.SVG object>"
      ]
     },
     "metadata": {},
     "output_type": "display_data"
    },
    {
     "data": {
      "text/markdown": [
       "#### Counts totals:\n",
       " - `MinusEffect(n=1)`: 1"
      ],
      "text/plain": [
       "<IPython.core.display.Markdown object>"
      ]
     },
     "metadata": {},
     "output_type": "display_data"
    }
   ],
   "source": [
    "from qualtran.resource_counting.generalizers import ignore_split_join\n",
    "minus_effect_g, minus_effect_sigma = minus_effect.call_graph(max_depth=1, generalizer=ignore_split_join)\n",
    "show_call_graph(minus_effect_g)\n",
    "show_counts_sigma(minus_effect_sigma)"
   ]
  },
  {
   "cell_type": "markdown",
   "id": "191c9e35-a2e2-4c9a-852d-22e04b51cb45",
   "metadata": {},
   "source": [
    "## Properties and Relations"
   ]
  },
  {
   "cell_type": "markdown",
   "id": "a50cd3ac-849a-4ecf-aa49-e95bdbc67746",
   "metadata": {},
   "source": [
    "### Creating a Bell state\n",
    "\n",
    "We can create a bell state ($|00\\rangle + |11\\rangle$) by cnotting a $|+\\rangle$ state into a $|0\\rangle$ state."
   ]
  },
  {
   "cell_type": "code",
   "execution_count": 42,
   "id": "760442e4-882b-4d63-8211-725a28ea4dfa",
   "metadata": {},
   "outputs": [
    {
     "data": {
      "image/svg+xml": [
       "<svg xmlns=\"http://www.w3.org/2000/svg\" xmlns:xlink=\"http://www.w3.org/1999/xlink\" width=\"192pt\" height=\"109pt\" viewBox=\"0.00 0.00 192.00 109.00\">\n",
       "<g id=\"graph0\" class=\"graph\" transform=\"scale(1 1) rotate(0) translate(4 105)\">\n",
       "<title>my_graph</title>\n",
       "<polygon fill=\"white\" stroke=\"transparent\" points=\"-4,4 -4,-105 188,-105 188,4 -4,4\"/>\n",
       "<!-- PlusState -->\n",
       "<g id=\"node1\" class=\"node\">\n",
       "<title>PlusState</title>\n",
       "<polygon fill=\"none\" stroke=\"black\" points=\"0.5,-84 0.5,-101 19.5,-101 19.5,-84 0.5,-84\"/>\n",
       "<text text-anchor=\"start\" x=\"6.5\" y=\"-90\" font-family=\"Times,serif\" font-size=\"10.00\">+</text>\n",
       "<polygon fill=\"none\" stroke=\"black\" points=\"0.5,-63 0.5,-84 6.5,-84 6.5,-63 0.5,-63\"/>\n",
       "<polygon fill=\"none\" stroke=\"black\" points=\"6.5,-63 6.5,-84 19.5,-84 19.5,-63 6.5,-63\"/>\n",
       "<text text-anchor=\"start\" x=\"9.5\" y=\"-69.8\" font-family=\"Times,serif\" font-size=\"14.00\">q</text>\n",
       "</g>\n",
       "<!-- CNOT -->\n",
       "<g id=\"node3\" class=\"node\">\n",
       "<title>CNOT</title>\n",
       "<polygon fill=\"none\" stroke=\"black\" points=\"56.5,-66 56.5,-83 93.5,-83 93.5,-66 56.5,-66\"/>\n",
       "<text text-anchor=\"start\" x=\"61\" y=\"-72\" font-family=\"Times,serif\" font-size=\"10.00\">CNOT</text>\n",
       "<polygon fill=\"none\" stroke=\"black\" points=\"56.5,-45 56.5,-66 93.5,-66 93.5,-45 56.5,-45\"/>\n",
       "<text text-anchor=\"start\" x=\"65.5\" y=\"-51.8\" font-family=\"Times,serif\" font-size=\"14.00\">ctrl</text>\n",
       "<polygon fill=\"none\" stroke=\"black\" points=\"56.5,-24 56.5,-45 93.5,-45 93.5,-24 56.5,-24\"/>\n",
       "<text text-anchor=\"start\" x=\"59.5\" y=\"-30.8\" font-family=\"Times,serif\" font-size=\"14.00\">target</text>\n",
       "</g>\n",
       "<!-- PlusState&#45;&gt;CNOT -->\n",
       "<g id=\"edge1\" class=\"edge\">\n",
       "<title>PlusState:e-&gt;CNOT:w</title>\n",
       "<path fill=\"none\" stroke=\"black\" d=\"M19,-73C36.39,-73 37.81,-57.3 53.96,-56.08\"/>\n",
       "<ellipse fill=\"black\" stroke=\"black\" cx=\"55\" cy=\"-56.04\" rx=\"1\" ry=\"1\"/>\n",
       "<text text-anchor=\"middle\" x=\"37.5\" y=\"-67\" font-family=\"Times,serif\" font-size=\"10.00\">1</text>\n",
       "</g>\n",
       "<!-- ZeroState -->\n",
       "<g id=\"node2\" class=\"node\">\n",
       "<title>ZeroState</title>\n",
       "<polygon fill=\"none\" stroke=\"black\" points=\"0.5,-28 0.5,-45 19.5,-45 19.5,-28 0.5,-28\"/>\n",
       "<text text-anchor=\"start\" x=\"7\" y=\"-34\" font-family=\"Times,serif\" font-size=\"10.00\">0</text>\n",
       "<polygon fill=\"none\" stroke=\"black\" points=\"0.5,-7 0.5,-28 6.5,-28 6.5,-7 0.5,-7\"/>\n",
       "<polygon fill=\"none\" stroke=\"black\" points=\"6.5,-7 6.5,-28 19.5,-28 19.5,-7 6.5,-7\"/>\n",
       "<text text-anchor=\"start\" x=\"9.5\" y=\"-13.8\" font-family=\"Times,serif\" font-size=\"14.00\">q</text>\n",
       "</g>\n",
       "<!-- ZeroState&#45;&gt;CNOT -->\n",
       "<g id=\"edge2\" class=\"edge\">\n",
       "<title>ZeroState:e-&gt;CNOT:w</title>\n",
       "<path fill=\"none\" stroke=\"black\" d=\"M19,-17C36.39,-17 37.81,-32.7 53.96,-33.92\"/>\n",
       "<ellipse fill=\"black\" stroke=\"black\" cx=\"55\" cy=\"-33.96\" rx=\"1\" ry=\"1\"/>\n",
       "<text text-anchor=\"middle\" x=\"37.5\" y=\"-29\" font-family=\"Times,serif\" font-size=\"10.00\">1</text>\n",
       "</g>\n",
       "<!-- q0 -->\n",
       "<g id=\"node4\" class=\"node\">\n",
       "<title>q0</title>\n",
       "<text text-anchor=\"middle\" x=\"157\" y=\"-68.3\" font-family=\"Times,serif\" font-size=\"14.00\">q0</text>\n",
       "</g>\n",
       "<!-- CNOT&#45;&gt;q0 -->\n",
       "<g id=\"edge3\" class=\"edge\">\n",
       "<title>CNOT:e-&gt;q0:w</title>\n",
       "<path fill=\"none\" stroke=\"black\" d=\"M93,-56C110.22,-56 111.97,-70.77 127.98,-71.93\"/>\n",
       "<ellipse fill=\"black\" stroke=\"black\" cx=\"129\" cy=\"-71.96\" rx=\"1\" ry=\"1\"/>\n",
       "<text text-anchor=\"middle\" x=\"111.5\" y=\"-67\" font-family=\"Times,serif\" font-size=\"10.00\">1</text>\n",
       "</g>\n",
       "<!-- q1 -->\n",
       "<g id=\"node5\" class=\"node\">\n",
       "<title>q1</title>\n",
       "<text text-anchor=\"middle\" x=\"157\" y=\"-14.3\" font-family=\"Times,serif\" font-size=\"14.00\">q1</text>\n",
       "</g>\n",
       "<!-- CNOT&#45;&gt;q1 -->\n",
       "<g id=\"edge4\" class=\"edge\">\n",
       "<title>CNOT:e-&gt;q1:w</title>\n",
       "<path fill=\"none\" stroke=\"black\" d=\"M93,-34C110.22,-34 111.97,-19.23 127.98,-18.07\"/>\n",
       "<ellipse fill=\"black\" stroke=\"black\" cx=\"129\" cy=\"-18.04\" rx=\"1\" ry=\"1\"/>\n",
       "<text text-anchor=\"middle\" x=\"111.5\" y=\"-29\" font-family=\"Times,serif\" font-size=\"10.00\">1</text>\n",
       "</g>\n",
       "</g>\n",
       "</svg>"
      ],
      "text/plain": [
       "<IPython.core.display.SVG object>"
      ]
     },
     "metadata": {},
     "output_type": "display_data"
    },
    {
     "name": "stdout",
     "output_type": "stream",
     "text": [
      "[0.70710678+0.j 0.        +0.j 0.        +0.j 0.70710678+0.j]\n"
     ]
    }
   ],
   "source": [
    "from qualtran.bloqs.basic_gates import CNOT\n",
    "\n",
    "bb = BloqBuilder()\n",
    "\n",
    "q0 = bb.add(PlusState())\n",
    "q1 = bb.add(ZeroState())\n",
    "\n",
    "q0, q1 = bb.add(CNOT(), ctrl=q0, target=q1)\n",
    "\n",
    "cbloq = bb.finalize(q0=q0, q1=q1)\n",
    "show_bloq(cbloq)\n",
    "print(cbloq.tensor_contract())"
   ]
  },
  {
   "cell_type": "markdown",
   "id": "084cc54f-7fa5-43dd-bc96-5eab0934b543",
   "metadata": {},
   "source": [
    "`PlusState` and `ZeroState` provide `as_cirq_op` methods for Cirq interoperability, resulting in the familiar `cirq.Circuit` for constructing a Bell state."
   ]
  },
  {
   "cell_type": "code",
   "execution_count": 43,
   "id": "4983b2f1-edc8-4f51-a276-a3ddb7ad37fe",
   "metadata": {},
   "outputs": [
    {
     "data": {
      "image/svg+xml": [
       "<svg xmlns=\"http://www.w3.org/2000/svg\" width=\"227.7483203125\" height=\"100.0\"><line x1=\"33.87416015625\" x2=\"197.7483203125\" y1=\"25.0\" y2=\"25.0\" stroke=\"#1967d2\" stroke-width=\"1\" /><line x1=\"33.87416015625\" x2=\"197.7483203125\" y1=\"75.0\" y2=\"75.0\" stroke=\"#1967d2\" stroke-width=\"1\" /><line x1=\"157.7483203125\" x2=\"157.7483203125\" y1=\"25.0\" y2=\"75.0\" stroke=\"black\" stroke-width=\"3\" /><rect x=\"10.0\" y=\"5.0\" width=\"47.7483203125\" height=\"40\" stroke=\"black\" fill=\"white\" stroke-width=\"0\" /><text x=\"33.87416015625\" y=\"25.0\" dominant-baseline=\"middle\" text-anchor=\"middle\" font-size=\"14px\" font-family=\"sans\\-serif:style=normal:variant=normal:weight=normal:stretch=normal:size=10.0\">_c(0): </text><rect x=\"10.0\" y=\"55.0\" width=\"47.7483203125\" height=\"40\" stroke=\"black\" fill=\"white\" stroke-width=\"0\" /><text x=\"33.87416015625\" y=\"75.0\" dominant-baseline=\"middle\" text-anchor=\"middle\" font-size=\"14px\" font-family=\"sans\\-serif:style=normal:variant=normal:weight=normal:stretch=normal:size=10.0\">_c(1): </text><rect x=\"77.7483203125\" y=\"5.0\" width=\"40\" height=\"40\" stroke=\"black\" fill=\"white\" stroke-width=\"1\" /><text x=\"97.7483203125\" y=\"25.0\" dominant-baseline=\"middle\" text-anchor=\"middle\" font-size=\"18px\" font-family=\"sans\\-serif:style=normal:variant=normal:weight=normal:stretch=normal:size=10.0\">H</text><circle cx=\"157.7483203125\" cy=\"25.0\" r=\"10.0\" /><rect x=\"137.7483203125\" y=\"55.0\" width=\"40\" height=\"40\" stroke=\"black\" fill=\"white\" stroke-width=\"1\" /><text x=\"157.7483203125\" y=\"75.0\" dominant-baseline=\"middle\" text-anchor=\"middle\" font-size=\"18px\" font-family=\"sans\\-serif:style=normal:variant=normal:weight=normal:stretch=normal:size=10.0\">X</text></svg>"
      ],
      "text/plain": [
       "<cirq.contrib.svg.svg.SVGCircuit at 0x7f6457e24a50>"
      ]
     },
     "execution_count": 43,
     "metadata": {},
     "output_type": "execute_result"
    }
   ],
   "source": [
    "from cirq.contrib.svg import SVGCircuit\n",
    "circuit, qubits = cbloq.to_cirq_circuit()\n",
    "SVGCircuit(circuit)"
   ]
  }
 ],
 "metadata": {
  "kernelspec": {
   "display_name": "Python 3 (ipykernel)",
   "language": "python",
   "name": "python3"
  },
  "language_info": {
   "codemirror_mode": {
    "name": "ipython",
    "version": 3
   },
   "file_extension": ".py",
   "mimetype": "text/x-python",
   "name": "python",
   "nbconvert_exporter": "python",
   "pygments_lexer": "ipython3",
   "version": "3.11.8"
  },
  "widgets": {
   "application/vnd.jupyter.widget-state+json": {
    "state": {
     "132d3ae277414443883e0e93a3c750e5": {
      "model_module": "@jupyter-widgets/base",
      "model_module_version": "2.0.0",
      "model_name": "LayoutModel",
      "state": {
       "_model_module": "@jupyter-widgets/base",
       "_model_module_version": "2.0.0",
       "_model_name": "LayoutModel",
       "_view_count": null,
       "_view_module": "@jupyter-widgets/base",
       "_view_module_version": "2.0.0",
       "_view_name": "LayoutView",
       "align_content": null,
       "align_items": null,
       "align_self": null,
       "border_bottom": null,
       "border_left": null,
       "border_right": null,
       "border_top": null,
       "bottom": null,
       "display": null,
       "flex": null,
       "flex_flow": null,
       "grid_area": null,
       "grid_auto_columns": null,
       "grid_auto_flow": null,
       "grid_auto_rows": null,
       "grid_column": null,
       "grid_gap": null,
       "grid_row": null,
       "grid_template_areas": null,
       "grid_template_columns": null,
       "grid_template_rows": null,
       "height": null,
       "justify_content": null,
       "justify_items": null,
       "left": null,
       "margin": null,
       "max_height": null,
       "max_width": null,
       "min_height": null,
       "min_width": null,
       "object_fit": null,
       "object_position": null,
       "order": null,
       "overflow": null,
       "padding": null,
       "right": null,
       "top": null,
       "visibility": null,
       "width": null
      }
     },
     "177990a48b544ba89d552b72ba431f79": {
      "model_module": "@jupyter-widgets/base",
      "model_module_version": "2.0.0",
      "model_name": "LayoutModel",
      "state": {
       "_model_module": "@jupyter-widgets/base",
       "_model_module_version": "2.0.0",
       "_model_name": "LayoutModel",
       "_view_count": null,
       "_view_module": "@jupyter-widgets/base",
       "_view_module_version": "2.0.0",
       "_view_name": "LayoutView",
       "align_content": null,
       "align_items": null,
       "align_self": null,
       "border_bottom": null,
       "border_left": null,
       "border_right": null,
       "border_top": null,
       "bottom": null,
       "display": null,
       "flex": null,
       "flex_flow": null,
       "grid_area": null,
       "grid_auto_columns": null,
       "grid_auto_flow": null,
       "grid_auto_rows": null,
       "grid_column": null,
       "grid_gap": null,
       "grid_row": null,
       "grid_template_areas": null,
       "grid_template_columns": null,
       "grid_template_rows": null,
       "height": null,
       "justify_content": null,
       "justify_items": null,
       "left": null,
       "margin": null,
       "max_height": null,
       "max_width": null,
       "min_height": null,
       "min_width": null,
       "object_fit": null,
       "object_position": null,
       "order": null,
       "overflow": null,
       "padding": null,
       "right": null,
       "top": null,
       "visibility": null,
       "width": null
      }
     },
     "1be75f944d55427ea3cddce5b390a5ed": {
      "model_module": "@jupyter-widgets/output",
      "model_module_version": "1.0.0",
      "model_name": "OutputModel",
      "state": {
       "_dom_classes": [],
       "_model_module": "@jupyter-widgets/output",
       "_model_module_version": "1.0.0",
       "_model_name": "OutputModel",
       "_view_count": null,
       "_view_module": "@jupyter-widgets/output",
       "_view_module_version": "1.0.0",
       "_view_name": "OutputView",
       "layout": "IPY_MODEL_611c1dd4d744452d83f572b8dabb1873",
       "msg_id": "",
       "outputs": [
        {
         "data": {
          "text/markdown": "`minus_state`",
          "text/plain": "<IPython.core.display.Markdown object>"
         },
         "metadata": {},
         "output_type": "display_data"
        },
        {
         "data": {
          "image/svg+xml": "<svg xmlns=\"http://www.w3.org/2000/svg\" xmlns:xlink=\"http://www.w3.org/1999/xlink\" width=\"118pt\" height=\"54pt\" viewBox=\"0.00 0.00 118.00 54.00\">\n<g id=\"graph0\" class=\"graph\" transform=\"scale(1 1) rotate(0) translate(4 50)\">\n<title>my_graph</title>\n<polygon fill=\"white\" stroke=\"transparent\" points=\"-4,4 -4,-50 114,-50 114,4 -4,4\"/>\n<!-- MinusState -->\n<g id=\"node1\" class=\"node\">\n<title>MinusState</title>\n<polygon fill=\"none\" stroke=\"black\" points=\"0.5,-29 0.5,-46 19.5,-46 19.5,-29 0.5,-29\"/>\n<text text-anchor=\"start\" x=\"8\" y=\"-35\" font-family=\"Times,serif\" font-size=\"10.00\">-</text>\n<polygon fill=\"none\" stroke=\"black\" points=\"0.5,-8 0.5,-29 6.5,-29 6.5,-8 0.5,-8\"/>\n<polygon fill=\"none\" stroke=\"black\" points=\"6.5,-8 6.5,-29 19.5,-29 19.5,-8 6.5,-8\"/>\n<text text-anchor=\"start\" x=\"9.5\" y=\"-14.8\" font-family=\"Times,serif\" font-size=\"14.00\">q</text>\n</g>\n<!-- q_G0 -->\n<g id=\"node2\" class=\"node\">\n<title>q_G0</title>\n<text text-anchor=\"middle\" x=\"83\" y=\"-14.3\" font-family=\"Times,serif\" font-size=\"14.00\">q</text>\n</g>\n<!-- MinusState&#45;&gt;q_G0 -->\n<g id=\"edge1\" class=\"edge\">\n<title>MinusState:e-&gt;q_G0:w</title>\n<path fill=\"none\" stroke=\"black\" d=\"M19,-18C34.67,-18 39.14,-18 53.77,-18\"/>\n<ellipse fill=\"black\" stroke=\"black\" cx=\"55\" cy=\"-18\" rx=\"1\" ry=\"1\"/>\n<text text-anchor=\"middle\" x=\"37.5\" y=\"-21\" font-family=\"Times,serif\" font-size=\"10.00\">1</text>\n</g>\n</g>\n</svg>",
          "text/plain": "<IPython.core.display.SVG object>"
         },
         "metadata": {},
         "output_type": "display_data"
        }
       ],
       "tabbable": null,
       "tooltip": null
      }
     },
     "1c42009ea9c54ea18466594794efce13": {
      "model_module": "@jupyter-widgets/base",
      "model_module_version": "2.0.0",
      "model_name": "LayoutModel",
      "state": {
       "_model_module": "@jupyter-widgets/base",
       "_model_module_version": "2.0.0",
       "_model_name": "LayoutModel",
       "_view_count": null,
       "_view_module": "@jupyter-widgets/base",
       "_view_module_version": "2.0.0",
       "_view_name": "LayoutView",
       "align_content": null,
       "align_items": null,
       "align_self": null,
       "border_bottom": null,
       "border_left": null,
       "border_right": null,
       "border_top": null,
       "bottom": null,
       "display": null,
       "flex": null,
       "flex_flow": null,
       "grid_area": null,
       "grid_auto_columns": null,
       "grid_auto_flow": null,
       "grid_auto_rows": null,
       "grid_column": null,
       "grid_gap": null,
       "grid_row": null,
       "grid_template_areas": null,
       "grid_template_columns": null,
       "grid_template_rows": null,
       "height": null,
       "justify_content": null,
       "justify_items": null,
       "left": null,
       "margin": null,
       "max_height": null,
       "max_width": null,
       "min_height": null,
       "min_width": null,
       "object_fit": null,
       "object_position": null,
       "order": null,
       "overflow": null,
       "padding": null,
       "right": null,
       "top": null,
       "visibility": null,
       "width": null
      }
     },
     "218776c3e7c549f199163e88ee213a5c": {
      "model_module": "@jupyter-widgets/base",
      "model_module_version": "2.0.0",
      "model_name": "LayoutModel",
      "state": {
       "_model_module": "@jupyter-widgets/base",
       "_model_module_version": "2.0.0",
       "_model_name": "LayoutModel",
       "_view_count": null,
       "_view_module": "@jupyter-widgets/base",
       "_view_module_version": "2.0.0",
       "_view_name": "LayoutView",
       "align_content": null,
       "align_items": null,
       "align_self": null,
       "border_bottom": null,
       "border_left": null,
       "border_right": null,
       "border_top": null,
       "bottom": null,
       "display": null,
       "flex": null,
       "flex_flow": null,
       "grid_area": null,
       "grid_auto_columns": null,
       "grid_auto_flow": null,
       "grid_auto_rows": null,
       "grid_column": null,
       "grid_gap": null,
       "grid_row": null,
       "grid_template_areas": null,
       "grid_template_columns": null,
       "grid_template_rows": null,
       "height": null,
       "justify_content": null,
       "justify_items": null,
       "left": null,
       "margin": null,
       "max_height": null,
       "max_width": null,
       "min_height": null,
       "min_width": null,
       "object_fit": null,
       "object_position": null,
       "order": null,
       "overflow": null,
       "padding": null,
       "right": null,
       "top": null,
       "visibility": null,
       "width": null
      }
     },
     "282b2241b8e941189ee03c52310b97ea": {
      "model_module": "@jupyter-widgets/output",
      "model_module_version": "1.0.0",
      "model_name": "OutputModel",
      "state": {
       "_dom_classes": [],
       "_model_module": "@jupyter-widgets/output",
       "_model_module_version": "1.0.0",
       "_model_name": "OutputModel",
       "_view_count": null,
       "_view_module": "@jupyter-widgets/output",
       "_view_module_version": "1.0.0",
       "_view_name": "OutputView",
       "layout": "IPY_MODEL_d3ac8ad6790548c394fd12aa8fff78d7",
       "msg_id": "",
       "outputs": [
        {
         "data": {
          "text/markdown": "`plus_effect`",
          "text/plain": "<IPython.core.display.Markdown object>"
         },
         "metadata": {},
         "output_type": "display_data"
        },
        {
         "data": {
          "image/svg+xml": "<svg xmlns=\"http://www.w3.org/2000/svg\" xmlns:xlink=\"http://www.w3.org/1999/xlink\" width=\"118pt\" height=\"54pt\" viewBox=\"0.00 0.00 118.00 54.00\">\n<g id=\"graph0\" class=\"graph\" transform=\"scale(1 1) rotate(0) translate(4 50)\">\n<title>my_graph</title>\n<polygon fill=\"white\" stroke=\"transparent\" points=\"-4,4 -4,-50 114,-50 114,4 -4,4\"/>\n<!-- q_G1 -->\n<g id=\"node1\" class=\"node\">\n<title>q_G1</title>\n<text text-anchor=\"middle\" x=\"27\" y=\"-14.3\" font-family=\"Times,serif\" font-size=\"14.00\">q</text>\n</g>\n<!-- PlusEffect -->\n<g id=\"node2\" class=\"node\">\n<title>PlusEffect</title>\n<polygon fill=\"none\" stroke=\"black\" points=\"91.5,-29 91.5,-46 110.5,-46 110.5,-29 91.5,-29\"/>\n<text text-anchor=\"start\" x=\"97.5\" y=\"-35\" font-family=\"Times,serif\" font-size=\"10.00\">+</text>\n<polygon fill=\"none\" stroke=\"black\" points=\"91.5,-8 91.5,-29 104.5,-29 104.5,-8 91.5,-8\"/>\n<text text-anchor=\"start\" x=\"94.5\" y=\"-14.8\" font-family=\"Times,serif\" font-size=\"14.00\">q</text>\n<polygon fill=\"none\" stroke=\"black\" points=\"104.5,-8 104.5,-29 110.5,-29 110.5,-8 104.5,-8\"/>\n</g>\n<!-- q_G1&#45;&gt;PlusEffect -->\n<g id=\"edge1\" class=\"edge\">\n<title>q_G1:e-&gt;PlusEffect:w</title>\n<path fill=\"none\" stroke=\"black\" d=\"M54,-18C69.67,-18 74.14,-18 88.77,-18\"/>\n<ellipse fill=\"black\" stroke=\"black\" cx=\"90\" cy=\"-18\" rx=\"1\" ry=\"1\"/>\n<text text-anchor=\"middle\" x=\"72.5\" y=\"-21\" font-family=\"Times,serif\" font-size=\"10.00\">1</text>\n</g>\n</g>\n</svg>",
          "text/plain": "<IPython.core.display.SVG object>"
         },
         "metadata": {},
         "output_type": "display_data"
        }
       ],
       "tabbable": null,
       "tooltip": null
      }
     },
     "2c11c4343de440718c02fc242649f768": {
      "model_module": "@jupyter-widgets/base",
      "model_module_version": "2.0.0",
      "model_name": "LayoutModel",
      "state": {
       "_model_module": "@jupyter-widgets/base",
       "_model_module_version": "2.0.0",
       "_model_name": "LayoutModel",
       "_view_count": null,
       "_view_module": "@jupyter-widgets/base",
       "_view_module_version": "2.0.0",
       "_view_name": "LayoutView",
       "align_content": null,
       "align_items": null,
       "align_self": null,
       "border_bottom": null,
       "border_left": null,
       "border_right": null,
       "border_top": null,
       "bottom": null,
       "display": null,
       "flex": null,
       "flex_flow": null,
       "grid_area": null,
       "grid_auto_columns": null,
       "grid_auto_flow": null,
       "grid_auto_rows": null,
       "grid_column": null,
       "grid_gap": null,
       "grid_row": null,
       "grid_template_areas": null,
       "grid_template_columns": null,
       "grid_template_rows": null,
       "height": null,
       "justify_content": null,
       "justify_items": null,
       "left": null,
       "margin": null,
       "max_height": null,
       "max_width": null,
       "min_height": null,
       "min_width": null,
       "object_fit": null,
       "object_position": null,
       "order": null,
       "overflow": null,
       "padding": null,
       "right": null,
       "top": null,
       "visibility": null,
       "width": null
      }
     },
     "2d3633444559418e80dbb9cb64c76566": {
      "model_module": "@jupyter-widgets/base",
      "model_module_version": "2.0.0",
      "model_name": "LayoutModel",
      "state": {
       "_model_module": "@jupyter-widgets/base",
       "_model_module_version": "2.0.0",
       "_model_name": "LayoutModel",
       "_view_count": null,
       "_view_module": "@jupyter-widgets/base",
       "_view_module_version": "2.0.0",
       "_view_name": "LayoutView",
       "align_content": null,
       "align_items": null,
       "align_self": null,
       "border_bottom": null,
       "border_left": null,
       "border_right": null,
       "border_top": null,
       "bottom": null,
       "display": null,
       "flex": null,
       "flex_flow": null,
       "grid_area": null,
       "grid_auto_columns": null,
       "grid_auto_flow": null,
       "grid_auto_rows": null,
       "grid_column": null,
       "grid_gap": null,
       "grid_row": null,
       "grid_template_areas": null,
       "grid_template_columns": null,
       "grid_template_rows": null,
       "height": null,
       "justify_content": null,
       "justify_items": null,
       "left": null,
       "margin": null,
       "max_height": null,
       "max_width": null,
       "min_height": null,
       "min_width": null,
       "object_fit": null,
       "object_position": null,
       "order": null,
       "overflow": null,
       "padding": null,
       "right": null,
       "top": null,
       "visibility": null,
       "width": null
      }
     },
     "2eb737bcbfc64309ab6d30dfd7f9f47e": {
      "model_module": "@jupyter-widgets/output",
      "model_module_version": "1.0.0",
      "model_name": "OutputModel",
      "state": {
       "_dom_classes": [],
       "_model_module": "@jupyter-widgets/output",
       "_model_module_version": "1.0.0",
       "_model_name": "OutputModel",
       "_view_count": null,
       "_view_module": "@jupyter-widgets/output",
       "_view_module_version": "1.0.0",
       "_view_name": "OutputView",
       "layout": "IPY_MODEL_9c6819ef8fb3491f9319a481de7a3a39",
       "msg_id": "",
       "outputs": [
        {
         "data": {
          "text/markdown": "`zero_state`",
          "text/plain": "<IPython.core.display.Markdown object>"
         },
         "metadata": {},
         "output_type": "display_data"
        },
        {
         "data": {
          "image/svg+xml": "<svg xmlns=\"http://www.w3.org/2000/svg\" xmlns:xlink=\"http://www.w3.org/1999/xlink\" width=\"118pt\" height=\"54pt\" viewBox=\"0.00 0.00 118.00 54.00\">\n<g id=\"graph0\" class=\"graph\" transform=\"scale(1 1) rotate(0) translate(4 50)\">\n<title>my_graph</title>\n<polygon fill=\"white\" stroke=\"transparent\" points=\"-4,4 -4,-50 114,-50 114,4 -4,4\"/>\n<!-- ZeroState -->\n<g id=\"node1\" class=\"node\">\n<title>ZeroState</title>\n<polygon fill=\"none\" stroke=\"black\" points=\"0.5,-29 0.5,-46 19.5,-46 19.5,-29 0.5,-29\"/>\n<text text-anchor=\"start\" x=\"7\" y=\"-35\" font-family=\"Times,serif\" font-size=\"10.00\">0</text>\n<polygon fill=\"none\" stroke=\"black\" points=\"0.5,-8 0.5,-29 6.5,-29 6.5,-8 0.5,-8\"/>\n<polygon fill=\"none\" stroke=\"black\" points=\"6.5,-8 6.5,-29 19.5,-29 19.5,-8 6.5,-8\"/>\n<text text-anchor=\"start\" x=\"9.5\" y=\"-14.8\" font-family=\"Times,serif\" font-size=\"14.00\">q</text>\n</g>\n<!-- q_G1 -->\n<g id=\"node2\" class=\"node\">\n<title>q_G1</title>\n<text text-anchor=\"middle\" x=\"83\" y=\"-14.3\" font-family=\"Times,serif\" font-size=\"14.00\">q</text>\n</g>\n<!-- ZeroState&#45;&gt;q_G1 -->\n<g id=\"edge1\" class=\"edge\">\n<title>ZeroState:e-&gt;q_G1:w</title>\n<path fill=\"none\" stroke=\"black\" d=\"M19,-18C34.67,-18 39.14,-18 53.77,-18\"/>\n<ellipse fill=\"black\" stroke=\"black\" cx=\"55\" cy=\"-18\" rx=\"1\" ry=\"1\"/>\n<text text-anchor=\"middle\" x=\"37.5\" y=\"-21\" font-family=\"Times,serif\" font-size=\"10.00\">1</text>\n</g>\n</g>\n</svg>",
          "text/plain": "<IPython.core.display.SVG object>"
         },
         "metadata": {},
         "output_type": "display_data"
        }
       ],
       "tabbable": null,
       "tooltip": null
      }
     },
     "36c58b7123084f56b92cb28805a918cf": {
      "model_module": "@jupyter-widgets/controls",
      "model_module_version": "2.0.0",
      "model_name": "HBoxModel",
      "state": {
       "_dom_classes": [],
       "_model_module": "@jupyter-widgets/controls",
       "_model_module_version": "2.0.0",
       "_model_name": "HBoxModel",
       "_view_count": null,
       "_view_module": "@jupyter-widgets/controls",
       "_view_module_version": "2.0.0",
       "_view_name": "HBoxView",
       "box_style": "",
       "children": [
        "IPY_MODEL_a5a3fd1cb8a54b11b45b1557424fcd51"
       ],
       "layout": "IPY_MODEL_b87df228db07465a9ad9dfcf702cefbb",
       "tabbable": null,
       "tooltip": null
      }
     },
     "3fc0e4e0f8564db8b03e0c9e9e3b3a66": {
      "model_module": "@jupyter-widgets/controls",
      "model_module_version": "2.0.0",
      "model_name": "HBoxModel",
      "state": {
       "_dom_classes": [],
       "_model_module": "@jupyter-widgets/controls",
       "_model_module_version": "2.0.0",
       "_model_name": "HBoxModel",
       "_view_count": null,
       "_view_module": "@jupyter-widgets/controls",
       "_view_module_version": "2.0.0",
       "_view_name": "HBoxView",
       "box_style": "",
       "children": [
        "IPY_MODEL_f96f4ac0d9d240899a5bbdea438e812b"
       ],
       "layout": "IPY_MODEL_92635badb3d94959ad8b7b040307017e",
       "tabbable": null,
       "tooltip": null
      }
     },
     "434537719880468d941da5f4fa8bc468": {
      "model_module": "@jupyter-widgets/base",
      "model_module_version": "2.0.0",
      "model_name": "LayoutModel",
      "state": {
       "_model_module": "@jupyter-widgets/base",
       "_model_module_version": "2.0.0",
       "_model_name": "LayoutModel",
       "_view_count": null,
       "_view_module": "@jupyter-widgets/base",
       "_view_module_version": "2.0.0",
       "_view_name": "LayoutView",
       "align_content": null,
       "align_items": null,
       "align_self": null,
       "border_bottom": null,
       "border_left": null,
       "border_right": null,
       "border_top": null,
       "bottom": null,
       "display": null,
       "flex": null,
       "flex_flow": null,
       "grid_area": null,
       "grid_auto_columns": null,
       "grid_auto_flow": null,
       "grid_auto_rows": null,
       "grid_column": null,
       "grid_gap": null,
       "grid_row": null,
       "grid_template_areas": null,
       "grid_template_columns": null,
       "grid_template_rows": null,
       "height": null,
       "justify_content": null,
       "justify_items": null,
       "left": null,
       "margin": null,
       "max_height": null,
       "max_width": null,
       "min_height": null,
       "min_width": null,
       "object_fit": null,
       "object_position": null,
       "order": null,
       "overflow": null,
       "padding": null,
       "right": null,
       "top": null,
       "visibility": null,
       "width": null
      }
     },
     "4737f0ba108346188324f1c3dc507bc4": {
      "model_module": "@jupyter-widgets/controls",
      "model_module_version": "2.0.0",
      "model_name": "HBoxModel",
      "state": {
       "_dom_classes": [],
       "_model_module": "@jupyter-widgets/controls",
       "_model_module_version": "2.0.0",
       "_model_name": "HBoxModel",
       "_view_count": null,
       "_view_module": "@jupyter-widgets/controls",
       "_view_module_version": "2.0.0",
       "_view_name": "HBoxView",
       "box_style": "",
       "children": [
        "IPY_MODEL_1be75f944d55427ea3cddce5b390a5ed"
       ],
       "layout": "IPY_MODEL_218776c3e7c549f199163e88ee213a5c",
       "tabbable": null,
       "tooltip": null
      }
     },
     "490b85c0d14f4497a588cf8c3ef4497e": {
      "model_module": "@jupyter-widgets/base",
      "model_module_version": "2.0.0",
      "model_name": "LayoutModel",
      "state": {
       "_model_module": "@jupyter-widgets/base",
       "_model_module_version": "2.0.0",
       "_model_name": "LayoutModel",
       "_view_count": null,
       "_view_module": "@jupyter-widgets/base",
       "_view_module_version": "2.0.0",
       "_view_name": "LayoutView",
       "align_content": null,
       "align_items": null,
       "align_self": null,
       "border_bottom": null,
       "border_left": null,
       "border_right": null,
       "border_top": null,
       "bottom": null,
       "display": null,
       "flex": null,
       "flex_flow": null,
       "grid_area": null,
       "grid_auto_columns": null,
       "grid_auto_flow": null,
       "grid_auto_rows": null,
       "grid_column": null,
       "grid_gap": null,
       "grid_row": null,
       "grid_template_areas": null,
       "grid_template_columns": null,
       "grid_template_rows": null,
       "height": null,
       "justify_content": null,
       "justify_items": null,
       "left": null,
       "margin": null,
       "max_height": null,
       "max_width": null,
       "min_height": null,
       "min_width": null,
       "object_fit": null,
       "object_position": null,
       "order": null,
       "overflow": null,
       "padding": null,
       "right": null,
       "top": null,
       "visibility": null,
       "width": null
      }
     },
     "5664c9fe235c45f1a09d4ef1216a4e8e": {
      "model_module": "@jupyter-widgets/output",
      "model_module_version": "1.0.0",
      "model_name": "OutputModel",
      "state": {
       "_dom_classes": [],
       "_model_module": "@jupyter-widgets/output",
       "_model_module_version": "1.0.0",
       "_model_name": "OutputModel",
       "_view_count": null,
       "_view_module": "@jupyter-widgets/output",
       "_view_module_version": "1.0.0",
       "_view_name": "OutputView",
       "layout": "IPY_MODEL_f8727e4daede4253b587e9a7074bfe6f",
       "msg_id": "",
       "outputs": [
        {
         "data": {
          "text/markdown": "`int_effect`",
          "text/plain": "<IPython.core.display.Markdown object>"
         },
         "metadata": {},
         "output_type": "display_data"
        },
        {
         "data": {
          "image/svg+xml": "<svg xmlns=\"http://www.w3.org/2000/svg\" xmlns:xlink=\"http://www.w3.org/1999/xlink\" width=\"128pt\" height=\"54pt\" viewBox=\"0.00 0.00 128.00 54.00\">\n<g id=\"graph0\" class=\"graph\" transform=\"scale(1 1) rotate(0) translate(4 50)\">\n<title>my_graph</title>\n<polygon fill=\"white\" stroke=\"transparent\" points=\"-4,4 -4,-50 124,-50 124,4 -4,4\"/>\n<!-- val_G0 -->\n<g id=\"node1\" class=\"node\">\n<title>val_G0</title>\n<text text-anchor=\"middle\" x=\"27\" y=\"-14.3\" font-family=\"Times,serif\" font-size=\"14.00\">val</text>\n</g>\n<!-- IntEffect -->\n<g id=\"node2\" class=\"node\">\n<title>IntEffect</title>\n<polygon fill=\"none\" stroke=\"black\" points=\"91.5,-29 91.5,-46 120.5,-46 120.5,-29 91.5,-29\"/>\n<text text-anchor=\"start\" x=\"100.5\" y=\"-35\" font-family=\"Times,serif\" font-size=\"10.00\">55</text>\n<polygon fill=\"none\" stroke=\"black\" points=\"91.5,-8 91.5,-29 114.5,-29 114.5,-8 91.5,-8\"/>\n<text text-anchor=\"start\" x=\"94.5\" y=\"-14.8\" font-family=\"Times,serif\" font-size=\"14.00\">val</text>\n<polygon fill=\"none\" stroke=\"black\" points=\"114.5,-8 114.5,-29 120.5,-29 120.5,-8 114.5,-8\"/>\n</g>\n<!-- val_G0&#45;&gt;IntEffect -->\n<g id=\"edge1\" class=\"edge\">\n<title>val_G0:e-&gt;IntEffect:w</title>\n<path fill=\"none\" stroke=\"black\" d=\"M54,-18C69.67,-18 74.14,-18 88.77,-18\"/>\n<ellipse fill=\"black\" stroke=\"black\" cx=\"90\" cy=\"-18\" rx=\"1\" ry=\"1\"/>\n<text text-anchor=\"middle\" x=\"72.5\" y=\"-21\" font-family=\"Times,serif\" font-size=\"10.00\">8</text>\n</g>\n</g>\n</svg>",
          "text/plain": "<IPython.core.display.SVG object>"
         },
         "metadata": {},
         "output_type": "display_data"
        }
       ],
       "tabbable": null,
       "tooltip": null
      }
     },
     "5cf5436f02d54cb9a954ea0e6fca3beb": {
      "model_module": "@jupyter-widgets/controls",
      "model_module_version": "2.0.0",
      "model_name": "HBoxModel",
      "state": {
       "_dom_classes": [],
       "_model_module": "@jupyter-widgets/controls",
       "_model_module_version": "2.0.0",
       "_model_name": "HBoxModel",
       "_view_count": null,
       "_view_module": "@jupyter-widgets/controls",
       "_view_module_version": "2.0.0",
       "_view_name": "HBoxView",
       "box_style": "",
       "children": [
        "IPY_MODEL_5664c9fe235c45f1a09d4ef1216a4e8e"
       ],
       "layout": "IPY_MODEL_490b85c0d14f4497a588cf8c3ef4497e",
       "tabbable": null,
       "tooltip": null
      }
     },
     "611c1dd4d744452d83f572b8dabb1873": {
      "model_module": "@jupyter-widgets/base",
      "model_module_version": "2.0.0",
      "model_name": "LayoutModel",
      "state": {
       "_model_module": "@jupyter-widgets/base",
       "_model_module_version": "2.0.0",
       "_model_name": "LayoutModel",
       "_view_count": null,
       "_view_module": "@jupyter-widgets/base",
       "_view_module_version": "2.0.0",
       "_view_name": "LayoutView",
       "align_content": null,
       "align_items": null,
       "align_self": null,
       "border_bottom": null,
       "border_left": null,
       "border_right": null,
       "border_top": null,
       "bottom": null,
       "display": null,
       "flex": null,
       "flex_flow": null,
       "grid_area": null,
       "grid_auto_columns": null,
       "grid_auto_flow": null,
       "grid_auto_rows": null,
       "grid_column": null,
       "grid_gap": null,
       "grid_row": null,
       "grid_template_areas": null,
       "grid_template_columns": null,
       "grid_template_rows": null,
       "height": null,
       "justify_content": null,
       "justify_items": null,
       "left": null,
       "margin": null,
       "max_height": null,
       "max_width": null,
       "min_height": null,
       "min_width": null,
       "object_fit": null,
       "object_position": null,
       "order": null,
       "overflow": null,
       "padding": null,
       "right": null,
       "top": null,
       "visibility": null,
       "width": null
      }
     },
     "62ea8f38216e417cae4a134a3356f209": {
      "model_module": "@jupyter-widgets/controls",
      "model_module_version": "2.0.0",
      "model_name": "HBoxModel",
      "state": {
       "_dom_classes": [],
       "_model_module": "@jupyter-widgets/controls",
       "_model_module_version": "2.0.0",
       "_model_name": "HBoxModel",
       "_view_count": null,
       "_view_module": "@jupyter-widgets/controls",
       "_view_module_version": "2.0.0",
       "_view_name": "HBoxView",
       "box_style": "",
       "children": [
        "IPY_MODEL_b4b602b7e38446308f27a574b821d9da"
       ],
       "layout": "IPY_MODEL_2c11c4343de440718c02fc242649f768",
       "tabbable": null,
       "tooltip": null
      }
     },
     "6427a0404fc640628336739b2b3051f4": {
      "model_module": "@jupyter-widgets/controls",
      "model_module_version": "2.0.0",
      "model_name": "HBoxModel",
      "state": {
       "_dom_classes": [],
       "_model_module": "@jupyter-widgets/controls",
       "_model_module_version": "2.0.0",
       "_model_name": "HBoxModel",
       "_view_count": null,
       "_view_module": "@jupyter-widgets/controls",
       "_view_module_version": "2.0.0",
       "_view_name": "HBoxView",
       "box_style": "",
       "children": [
        "IPY_MODEL_c392913f45e1487db6d3f01d405fec89"
       ],
       "layout": "IPY_MODEL_e17185c1c4104931bb107d913acdea57",
       "tabbable": null,
       "tooltip": null
      }
     },
     "7148bd25cc5a4d6eac11394c23e924b4": {
      "model_module": "@jupyter-widgets/controls",
      "model_module_version": "2.0.0",
      "model_name": "HBoxModel",
      "state": {
       "_dom_classes": [],
       "_model_module": "@jupyter-widgets/controls",
       "_model_module_version": "2.0.0",
       "_model_name": "HBoxModel",
       "_view_count": null,
       "_view_module": "@jupyter-widgets/controls",
       "_view_module_version": "2.0.0",
       "_view_name": "HBoxView",
       "box_style": "",
       "children": [
        "IPY_MODEL_282b2241b8e941189ee03c52310b97ea"
       ],
       "layout": "IPY_MODEL_ad9e353f328d4af3b7702b758208d602",
       "tabbable": null,
       "tooltip": null
      }
     },
     "72ab381223274e89b51d44f6df02459a": {
      "model_module": "@jupyter-widgets/controls",
      "model_module_version": "2.0.0",
      "model_name": "HBoxModel",
      "state": {
       "_dom_classes": [],
       "_model_module": "@jupyter-widgets/controls",
       "_model_module_version": "2.0.0",
       "_model_name": "HBoxModel",
       "_view_count": null,
       "_view_module": "@jupyter-widgets/controls",
       "_view_module_version": "2.0.0",
       "_view_name": "HBoxView",
       "box_style": "",
       "children": [
        "IPY_MODEL_2eb737bcbfc64309ab6d30dfd7f9f47e"
       ],
       "layout": "IPY_MODEL_434537719880468d941da5f4fa8bc468",
       "tabbable": null,
       "tooltip": null
      }
     },
     "92635badb3d94959ad8b7b040307017e": {
      "model_module": "@jupyter-widgets/base",
      "model_module_version": "2.0.0",
      "model_name": "LayoutModel",
      "state": {
       "_model_module": "@jupyter-widgets/base",
       "_model_module_version": "2.0.0",
       "_model_name": "LayoutModel",
       "_view_count": null,
       "_view_module": "@jupyter-widgets/base",
       "_view_module_version": "2.0.0",
       "_view_name": "LayoutView",
       "align_content": null,
       "align_items": null,
       "align_self": null,
       "border_bottom": null,
       "border_left": null,
       "border_right": null,
       "border_top": null,
       "bottom": null,
       "display": null,
       "flex": null,
       "flex_flow": null,
       "grid_area": null,
       "grid_auto_columns": null,
       "grid_auto_flow": null,
       "grid_auto_rows": null,
       "grid_column": null,
       "grid_gap": null,
       "grid_row": null,
       "grid_template_areas": null,
       "grid_template_columns": null,
       "grid_template_rows": null,
       "height": null,
       "justify_content": null,
       "justify_items": null,
       "left": null,
       "margin": null,
       "max_height": null,
       "max_width": null,
       "min_height": null,
       "min_width": null,
       "object_fit": null,
       "object_position": null,
       "order": null,
       "overflow": null,
       "padding": null,
       "right": null,
       "top": null,
       "visibility": null,
       "width": null
      }
     },
     "96b5c7f9d7d2476cbbc159ceedc30317": {
      "model_module": "@jupyter-widgets/output",
      "model_module_version": "1.0.0",
      "model_name": "OutputModel",
      "state": {
       "_dom_classes": [],
       "_model_module": "@jupyter-widgets/output",
       "_model_module_version": "1.0.0",
       "_model_name": "OutputModel",
       "_view_count": null,
       "_view_module": "@jupyter-widgets/output",
       "_view_module_version": "1.0.0",
       "_view_name": "OutputView",
       "layout": "IPY_MODEL_c4c85deeefd14653993820c6e423ec75",
       "msg_id": "",
       "outputs": [
        {
         "data": {
          "text/markdown": "`int_state`",
          "text/plain": "<IPython.core.display.Markdown object>"
         },
         "metadata": {},
         "output_type": "display_data"
        },
        {
         "data": {
          "image/svg+xml": "<svg xmlns=\"http://www.w3.org/2000/svg\" xmlns:xlink=\"http://www.w3.org/1999/xlink\" width=\"128pt\" height=\"54pt\" viewBox=\"0.00 0.00 128.00 54.00\">\n<g id=\"graph0\" class=\"graph\" transform=\"scale(1 1) rotate(0) translate(4 50)\">\n<title>my_graph</title>\n<polygon fill=\"white\" stroke=\"transparent\" points=\"-4,4 -4,-50 124,-50 124,4 -4,4\"/>\n<!-- IntState -->\n<g id=\"node1\" class=\"node\">\n<title>IntState</title>\n<polygon fill=\"none\" stroke=\"black\" points=\"0.5,-29 0.5,-46 29.5,-46 29.5,-29 0.5,-29\"/>\n<text text-anchor=\"start\" x=\"9.5\" y=\"-35\" font-family=\"Times,serif\" font-size=\"10.00\">55</text>\n<polygon fill=\"none\" stroke=\"black\" points=\"0.5,-8 0.5,-29 6.5,-29 6.5,-8 0.5,-8\"/>\n<polygon fill=\"none\" stroke=\"black\" points=\"6.5,-8 6.5,-29 29.5,-29 29.5,-8 6.5,-8\"/>\n<text text-anchor=\"start\" x=\"9.5\" y=\"-14.8\" font-family=\"Times,serif\" font-size=\"14.00\">val</text>\n</g>\n<!-- val_G0 -->\n<g id=\"node2\" class=\"node\">\n<title>val_G0</title>\n<text text-anchor=\"middle\" x=\"93\" y=\"-14.3\" font-family=\"Times,serif\" font-size=\"14.00\">val</text>\n</g>\n<!-- IntState&#45;&gt;val_G0 -->\n<g id=\"edge1\" class=\"edge\">\n<title>IntState:e-&gt;val_G0:w</title>\n<path fill=\"none\" stroke=\"black\" d=\"M29,-18C44.67,-18 49.14,-18 63.77,-18\"/>\n<ellipse fill=\"black\" stroke=\"black\" cx=\"65\" cy=\"-18\" rx=\"1\" ry=\"1\"/>\n<text text-anchor=\"middle\" x=\"47.5\" y=\"-21\" font-family=\"Times,serif\" font-size=\"10.00\">8</text>\n</g>\n</g>\n</svg>",
          "text/plain": "<IPython.core.display.SVG object>"
         },
         "metadata": {},
         "output_type": "display_data"
        }
       ],
       "tabbable": null,
       "tooltip": null
      }
     },
     "9c6819ef8fb3491f9319a481de7a3a39": {
      "model_module": "@jupyter-widgets/base",
      "model_module_version": "2.0.0",
      "model_name": "LayoutModel",
      "state": {
       "_model_module": "@jupyter-widgets/base",
       "_model_module_version": "2.0.0",
       "_model_name": "LayoutModel",
       "_view_count": null,
       "_view_module": "@jupyter-widgets/base",
       "_view_module_version": "2.0.0",
       "_view_name": "LayoutView",
       "align_content": null,
       "align_items": null,
       "align_self": null,
       "border_bottom": null,
       "border_left": null,
       "border_right": null,
       "border_top": null,
       "bottom": null,
       "display": null,
       "flex": null,
       "flex_flow": null,
       "grid_area": null,
       "grid_auto_columns": null,
       "grid_auto_flow": null,
       "grid_auto_rows": null,
       "grid_column": null,
       "grid_gap": null,
       "grid_row": null,
       "grid_template_areas": null,
       "grid_template_columns": null,
       "grid_template_rows": null,
       "height": null,
       "justify_content": null,
       "justify_items": null,
       "left": null,
       "margin": null,
       "max_height": null,
       "max_width": null,
       "min_height": null,
       "min_width": null,
       "object_fit": null,
       "object_position": null,
       "order": null,
       "overflow": null,
       "padding": null,
       "right": null,
       "top": null,
       "visibility": null,
       "width": null
      }
     },
     "9d204c87c3fa4e94aa77c1f510061db4": {
      "model_module": "@jupyter-widgets/controls",
      "model_module_version": "2.0.0",
      "model_name": "HBoxModel",
      "state": {
       "_dom_classes": [],
       "_model_module": "@jupyter-widgets/controls",
       "_model_module_version": "2.0.0",
       "_model_name": "HBoxModel",
       "_view_count": null,
       "_view_module": "@jupyter-widgets/controls",
       "_view_module_version": "2.0.0",
       "_view_name": "HBoxView",
       "box_style": "",
       "children": [
        "IPY_MODEL_d91b27fe6cbb48e0a1cbe47e4d4b97b0"
       ],
       "layout": "IPY_MODEL_132d3ae277414443883e0e93a3c750e5",
       "tabbable": null,
       "tooltip": null
      }
     },
     "a5a3fd1cb8a54b11b45b1557424fcd51": {
      "model_module": "@jupyter-widgets/output",
      "model_module_version": "1.0.0",
      "model_name": "OutputModel",
      "state": {
       "_dom_classes": [],
       "_model_module": "@jupyter-widgets/output",
       "_model_module_version": "1.0.0",
       "_model_name": "OutputModel",
       "_view_count": null,
       "_view_module": "@jupyter-widgets/output",
       "_view_module_version": "1.0.0",
       "_view_name": "OutputView",
       "layout": "IPY_MODEL_177990a48b544ba89d552b72ba431f79",
       "msg_id": "",
       "outputs": [
        {
         "data": {
          "text/markdown": "`one_state`",
          "text/plain": "<IPython.core.display.Markdown object>"
         },
         "metadata": {},
         "output_type": "display_data"
        },
        {
         "data": {
          "image/svg+xml": "<svg xmlns=\"http://www.w3.org/2000/svg\" xmlns:xlink=\"http://www.w3.org/1999/xlink\" width=\"118pt\" height=\"54pt\" viewBox=\"0.00 0.00 118.00 54.00\">\n<g id=\"graph0\" class=\"graph\" transform=\"scale(1 1) rotate(0) translate(4 50)\">\n<title>my_graph</title>\n<polygon fill=\"white\" stroke=\"transparent\" points=\"-4,4 -4,-50 114,-50 114,4 -4,4\"/>\n<!-- OneState -->\n<g id=\"node1\" class=\"node\">\n<title>OneState</title>\n<polygon fill=\"none\" stroke=\"black\" points=\"0.5,-29 0.5,-46 19.5,-46 19.5,-29 0.5,-29\"/>\n<text text-anchor=\"start\" x=\"7\" y=\"-35\" font-family=\"Times,serif\" font-size=\"10.00\">1</text>\n<polygon fill=\"none\" stroke=\"black\" points=\"0.5,-8 0.5,-29 6.5,-29 6.5,-8 0.5,-8\"/>\n<polygon fill=\"none\" stroke=\"black\" points=\"6.5,-8 6.5,-29 19.5,-29 19.5,-8 6.5,-8\"/>\n<text text-anchor=\"start\" x=\"9.5\" y=\"-14.8\" font-family=\"Times,serif\" font-size=\"14.00\">q</text>\n</g>\n<!-- q_G1 -->\n<g id=\"node2\" class=\"node\">\n<title>q_G1</title>\n<text text-anchor=\"middle\" x=\"83\" y=\"-14.3\" font-family=\"Times,serif\" font-size=\"14.00\">q</text>\n</g>\n<!-- OneState&#45;&gt;q_G1 -->\n<g id=\"edge1\" class=\"edge\">\n<title>OneState:e-&gt;q_G1:w</title>\n<path fill=\"none\" stroke=\"black\" d=\"M19,-18C34.67,-18 39.14,-18 53.77,-18\"/>\n<ellipse fill=\"black\" stroke=\"black\" cx=\"55\" cy=\"-18\" rx=\"1\" ry=\"1\"/>\n<text text-anchor=\"middle\" x=\"37.5\" y=\"-21\" font-family=\"Times,serif\" font-size=\"10.00\">1</text>\n</g>\n</g>\n</svg>",
          "text/plain": "<IPython.core.display.SVG object>"
         },
         "metadata": {},
         "output_type": "display_data"
        }
       ],
       "tabbable": null,
       "tooltip": null
      }
     },
     "ad9e353f328d4af3b7702b758208d602": {
      "model_module": "@jupyter-widgets/base",
      "model_module_version": "2.0.0",
      "model_name": "LayoutModel",
      "state": {
       "_model_module": "@jupyter-widgets/base",
       "_model_module_version": "2.0.0",
       "_model_name": "LayoutModel",
       "_view_count": null,
       "_view_module": "@jupyter-widgets/base",
       "_view_module_version": "2.0.0",
       "_view_name": "LayoutView",
       "align_content": null,
       "align_items": null,
       "align_self": null,
       "border_bottom": null,
       "border_left": null,
       "border_right": null,
       "border_top": null,
       "bottom": null,
       "display": null,
       "flex": null,
       "flex_flow": null,
       "grid_area": null,
       "grid_auto_columns": null,
       "grid_auto_flow": null,
       "grid_auto_rows": null,
       "grid_column": null,
       "grid_gap": null,
       "grid_row": null,
       "grid_template_areas": null,
       "grid_template_columns": null,
       "grid_template_rows": null,
       "height": null,
       "justify_content": null,
       "justify_items": null,
       "left": null,
       "margin": null,
       "max_height": null,
       "max_width": null,
       "min_height": null,
       "min_width": null,
       "object_fit": null,
       "object_position": null,
       "order": null,
       "overflow": null,
       "padding": null,
       "right": null,
       "top": null,
       "visibility": null,
       "width": null
      }
     },
     "b4b602b7e38446308f27a574b821d9da": {
      "model_module": "@jupyter-widgets/output",
      "model_module_version": "1.0.0",
      "model_name": "OutputModel",
      "state": {
       "_dom_classes": [],
       "_model_module": "@jupyter-widgets/output",
       "_model_module_version": "1.0.0",
       "_model_name": "OutputModel",
       "_view_count": null,
       "_view_module": "@jupyter-widgets/output",
       "_view_module_version": "1.0.0",
       "_view_name": "OutputView",
       "layout": "IPY_MODEL_2d3633444559418e80dbb9cb64c76566",
       "msg_id": "",
       "outputs": [
        {
         "data": {
          "text/markdown": "`plus_state`",
          "text/plain": "<IPython.core.display.Markdown object>"
         },
         "metadata": {},
         "output_type": "display_data"
        },
        {
         "data": {
          "image/svg+xml": "<svg xmlns=\"http://www.w3.org/2000/svg\" xmlns:xlink=\"http://www.w3.org/1999/xlink\" width=\"118pt\" height=\"54pt\" viewBox=\"0.00 0.00 118.00 54.00\">\n<g id=\"graph0\" class=\"graph\" transform=\"scale(1 1) rotate(0) translate(4 50)\">\n<title>my_graph</title>\n<polygon fill=\"white\" stroke=\"transparent\" points=\"-4,4 -4,-50 114,-50 114,4 -4,4\"/>\n<!-- PlusState -->\n<g id=\"node1\" class=\"node\">\n<title>PlusState</title>\n<polygon fill=\"none\" stroke=\"black\" points=\"0.5,-29 0.5,-46 19.5,-46 19.5,-29 0.5,-29\"/>\n<text text-anchor=\"start\" x=\"6.5\" y=\"-35\" font-family=\"Times,serif\" font-size=\"10.00\">+</text>\n<polygon fill=\"none\" stroke=\"black\" points=\"0.5,-8 0.5,-29 6.5,-29 6.5,-8 0.5,-8\"/>\n<polygon fill=\"none\" stroke=\"black\" points=\"6.5,-8 6.5,-29 19.5,-29 19.5,-8 6.5,-8\"/>\n<text text-anchor=\"start\" x=\"9.5\" y=\"-14.8\" font-family=\"Times,serif\" font-size=\"14.00\">q</text>\n</g>\n<!-- q_G1 -->\n<g id=\"node2\" class=\"node\">\n<title>q_G1</title>\n<text text-anchor=\"middle\" x=\"83\" y=\"-14.3\" font-family=\"Times,serif\" font-size=\"14.00\">q</text>\n</g>\n<!-- PlusState&#45;&gt;q_G1 -->\n<g id=\"edge1\" class=\"edge\">\n<title>PlusState:e-&gt;q_G1:w</title>\n<path fill=\"none\" stroke=\"black\" d=\"M19,-18C34.67,-18 39.14,-18 53.77,-18\"/>\n<ellipse fill=\"black\" stroke=\"black\" cx=\"55\" cy=\"-18\" rx=\"1\" ry=\"1\"/>\n<text text-anchor=\"middle\" x=\"37.5\" y=\"-21\" font-family=\"Times,serif\" font-size=\"10.00\">1</text>\n</g>\n</g>\n</svg>",
          "text/plain": "<IPython.core.display.SVG object>"
         },
         "metadata": {},
         "output_type": "display_data"
        }
       ],
       "tabbable": null,
       "tooltip": null
      }
     },
     "b87df228db07465a9ad9dfcf702cefbb": {
      "model_module": "@jupyter-widgets/base",
      "model_module_version": "2.0.0",
      "model_name": "LayoutModel",
      "state": {
       "_model_module": "@jupyter-widgets/base",
       "_model_module_version": "2.0.0",
       "_model_name": "LayoutModel",
       "_view_count": null,
       "_view_module": "@jupyter-widgets/base",
       "_view_module_version": "2.0.0",
       "_view_name": "LayoutView",
       "align_content": null,
       "align_items": null,
       "align_self": null,
       "border_bottom": null,
       "border_left": null,
       "border_right": null,
       "border_top": null,
       "bottom": null,
       "display": null,
       "flex": null,
       "flex_flow": null,
       "grid_area": null,
       "grid_auto_columns": null,
       "grid_auto_flow": null,
       "grid_auto_rows": null,
       "grid_column": null,
       "grid_gap": null,
       "grid_row": null,
       "grid_template_areas": null,
       "grid_template_columns": null,
       "grid_template_rows": null,
       "height": null,
       "justify_content": null,
       "justify_items": null,
       "left": null,
       "margin": null,
       "max_height": null,
       "max_width": null,
       "min_height": null,
       "min_width": null,
       "object_fit": null,
       "object_position": null,
       "order": null,
       "overflow": null,
       "padding": null,
       "right": null,
       "top": null,
       "visibility": null,
       "width": null
      }
     },
     "baf132bb28c54dfa8906183e780e2755": {
      "model_module": "@jupyter-widgets/base",
      "model_module_version": "2.0.0",
      "model_name": "LayoutModel",
      "state": {
       "_model_module": "@jupyter-widgets/base",
       "_model_module_version": "2.0.0",
       "_model_name": "LayoutModel",
       "_view_count": null,
       "_view_module": "@jupyter-widgets/base",
       "_view_module_version": "2.0.0",
       "_view_name": "LayoutView",
       "align_content": null,
       "align_items": null,
       "align_self": null,
       "border_bottom": null,
       "border_left": null,
       "border_right": null,
       "border_top": null,
       "bottom": null,
       "display": null,
       "flex": null,
       "flex_flow": null,
       "grid_area": null,
       "grid_auto_columns": null,
       "grid_auto_flow": null,
       "grid_auto_rows": null,
       "grid_column": null,
       "grid_gap": null,
       "grid_row": null,
       "grid_template_areas": null,
       "grid_template_columns": null,
       "grid_template_rows": null,
       "height": null,
       "justify_content": null,
       "justify_items": null,
       "left": null,
       "margin": null,
       "max_height": null,
       "max_width": null,
       "min_height": null,
       "min_width": null,
       "object_fit": null,
       "object_position": null,
       "order": null,
       "overflow": null,
       "padding": null,
       "right": null,
       "top": null,
       "visibility": null,
       "width": null
      }
     },
     "c392913f45e1487db6d3f01d405fec89": {
      "model_module": "@jupyter-widgets/output",
      "model_module_version": "1.0.0",
      "model_name": "OutputModel",
      "state": {
       "_dom_classes": [],
       "_model_module": "@jupyter-widgets/output",
       "_model_module_version": "1.0.0",
       "_model_name": "OutputModel",
       "_view_count": null,
       "_view_module": "@jupyter-widgets/output",
       "_view_module_version": "1.0.0",
       "_view_name": "OutputView",
       "layout": "IPY_MODEL_1c42009ea9c54ea18466594794efce13",
       "msg_id": "",
       "outputs": [
        {
         "data": {
          "text/markdown": "`zero_effect`",
          "text/plain": "<IPython.core.display.Markdown object>"
         },
         "metadata": {},
         "output_type": "display_data"
        },
        {
         "data": {
          "image/svg+xml": "<svg xmlns=\"http://www.w3.org/2000/svg\" xmlns:xlink=\"http://www.w3.org/1999/xlink\" width=\"118pt\" height=\"54pt\" viewBox=\"0.00 0.00 118.00 54.00\">\n<g id=\"graph0\" class=\"graph\" transform=\"scale(1 1) rotate(0) translate(4 50)\">\n<title>my_graph</title>\n<polygon fill=\"white\" stroke=\"transparent\" points=\"-4,4 -4,-50 114,-50 114,4 -4,4\"/>\n<!-- q_G0 -->\n<g id=\"node1\" class=\"node\">\n<title>q_G0</title>\n<text text-anchor=\"middle\" x=\"27\" y=\"-14.3\" font-family=\"Times,serif\" font-size=\"14.00\">q</text>\n</g>\n<!-- ZeroEffect -->\n<g id=\"node2\" class=\"node\">\n<title>ZeroEffect</title>\n<polygon fill=\"none\" stroke=\"black\" points=\"91.5,-29 91.5,-46 110.5,-46 110.5,-29 91.5,-29\"/>\n<text text-anchor=\"start\" x=\"98\" y=\"-35\" font-family=\"Times,serif\" font-size=\"10.00\">0</text>\n<polygon fill=\"none\" stroke=\"black\" points=\"91.5,-8 91.5,-29 104.5,-29 104.5,-8 91.5,-8\"/>\n<text text-anchor=\"start\" x=\"94.5\" y=\"-14.8\" font-family=\"Times,serif\" font-size=\"14.00\">q</text>\n<polygon fill=\"none\" stroke=\"black\" points=\"104.5,-8 104.5,-29 110.5,-29 110.5,-8 104.5,-8\"/>\n</g>\n<!-- q_G0&#45;&gt;ZeroEffect -->\n<g id=\"edge1\" class=\"edge\">\n<title>q_G0:e-&gt;ZeroEffect:w</title>\n<path fill=\"none\" stroke=\"black\" d=\"M54,-18C69.67,-18 74.14,-18 88.77,-18\"/>\n<ellipse fill=\"black\" stroke=\"black\" cx=\"90\" cy=\"-18\" rx=\"1\" ry=\"1\"/>\n<text text-anchor=\"middle\" x=\"72.5\" y=\"-21\" font-family=\"Times,serif\" font-size=\"10.00\">1</text>\n</g>\n</g>\n</svg>",
          "text/plain": "<IPython.core.display.SVG object>"
         },
         "metadata": {},
         "output_type": "display_data"
        }
       ],
       "tabbable": null,
       "tooltip": null
      }
     },
     "c4c85deeefd14653993820c6e423ec75": {
      "model_module": "@jupyter-widgets/base",
      "model_module_version": "2.0.0",
      "model_name": "LayoutModel",
      "state": {
       "_model_module": "@jupyter-widgets/base",
       "_model_module_version": "2.0.0",
       "_model_name": "LayoutModel",
       "_view_count": null,
       "_view_module": "@jupyter-widgets/base",
       "_view_module_version": "2.0.0",
       "_view_name": "LayoutView",
       "align_content": null,
       "align_items": null,
       "align_self": null,
       "border_bottom": null,
       "border_left": null,
       "border_right": null,
       "border_top": null,
       "bottom": null,
       "display": null,
       "flex": null,
       "flex_flow": null,
       "grid_area": null,
       "grid_auto_columns": null,
       "grid_auto_flow": null,
       "grid_auto_rows": null,
       "grid_column": null,
       "grid_gap": null,
       "grid_row": null,
       "grid_template_areas": null,
       "grid_template_columns": null,
       "grid_template_rows": null,
       "height": null,
       "justify_content": null,
       "justify_items": null,
       "left": null,
       "margin": null,
       "max_height": null,
       "max_width": null,
       "min_height": null,
       "min_width": null,
       "object_fit": null,
       "object_position": null,
       "order": null,
       "overflow": null,
       "padding": null,
       "right": null,
       "top": null,
       "visibility": null,
       "width": null
      }
     },
     "d3ac8ad6790548c394fd12aa8fff78d7": {
      "model_module": "@jupyter-widgets/base",
      "model_module_version": "2.0.0",
      "model_name": "LayoutModel",
      "state": {
       "_model_module": "@jupyter-widgets/base",
       "_model_module_version": "2.0.0",
       "_model_name": "LayoutModel",
       "_view_count": null,
       "_view_module": "@jupyter-widgets/base",
       "_view_module_version": "2.0.0",
       "_view_name": "LayoutView",
       "align_content": null,
       "align_items": null,
       "align_self": null,
       "border_bottom": null,
       "border_left": null,
       "border_right": null,
       "border_top": null,
       "bottom": null,
       "display": null,
       "flex": null,
       "flex_flow": null,
       "grid_area": null,
       "grid_auto_columns": null,
       "grid_auto_flow": null,
       "grid_auto_rows": null,
       "grid_column": null,
       "grid_gap": null,
       "grid_row": null,
       "grid_template_areas": null,
       "grid_template_columns": null,
       "grid_template_rows": null,
       "height": null,
       "justify_content": null,
       "justify_items": null,
       "left": null,
       "margin": null,
       "max_height": null,
       "max_width": null,
       "min_height": null,
       "min_width": null,
       "object_fit": null,
       "object_position": null,
       "order": null,
       "overflow": null,
       "padding": null,
       "right": null,
       "top": null,
       "visibility": null,
       "width": null
      }
     },
     "d91b27fe6cbb48e0a1cbe47e4d4b97b0": {
      "model_module": "@jupyter-widgets/output",
      "model_module_version": "1.0.0",
      "model_name": "OutputModel",
      "state": {
       "_dom_classes": [],
       "_model_module": "@jupyter-widgets/output",
       "_model_module_version": "1.0.0",
       "_model_name": "OutputModel",
       "_view_count": null,
       "_view_module": "@jupyter-widgets/output",
       "_view_module_version": "1.0.0",
       "_view_name": "OutputView",
       "layout": "IPY_MODEL_dfead5a58d264c08b8e896e9845a2559",
       "msg_id": "",
       "outputs": [
        {
         "data": {
          "text/markdown": "`one_effect`",
          "text/plain": "<IPython.core.display.Markdown object>"
         },
         "metadata": {},
         "output_type": "display_data"
        },
        {
         "data": {
          "image/svg+xml": "<svg xmlns=\"http://www.w3.org/2000/svg\" xmlns:xlink=\"http://www.w3.org/1999/xlink\" width=\"118pt\" height=\"54pt\" viewBox=\"0.00 0.00 118.00 54.00\">\n<g id=\"graph0\" class=\"graph\" transform=\"scale(1 1) rotate(0) translate(4 50)\">\n<title>my_graph</title>\n<polygon fill=\"white\" stroke=\"transparent\" points=\"-4,4 -4,-50 114,-50 114,4 -4,4\"/>\n<!-- q_G1 -->\n<g id=\"node1\" class=\"node\">\n<title>q_G1</title>\n<text text-anchor=\"middle\" x=\"27\" y=\"-14.3\" font-family=\"Times,serif\" font-size=\"14.00\">q</text>\n</g>\n<!-- OneEffect -->\n<g id=\"node2\" class=\"node\">\n<title>OneEffect</title>\n<polygon fill=\"none\" stroke=\"black\" points=\"91.5,-29 91.5,-46 110.5,-46 110.5,-29 91.5,-29\"/>\n<text text-anchor=\"start\" x=\"98\" y=\"-35\" font-family=\"Times,serif\" font-size=\"10.00\">1</text>\n<polygon fill=\"none\" stroke=\"black\" points=\"91.5,-8 91.5,-29 104.5,-29 104.5,-8 91.5,-8\"/>\n<text text-anchor=\"start\" x=\"94.5\" y=\"-14.8\" font-family=\"Times,serif\" font-size=\"14.00\">q</text>\n<polygon fill=\"none\" stroke=\"black\" points=\"104.5,-8 104.5,-29 110.5,-29 110.5,-8 104.5,-8\"/>\n</g>\n<!-- q_G1&#45;&gt;OneEffect -->\n<g id=\"edge1\" class=\"edge\">\n<title>q_G1:e-&gt;OneEffect:w</title>\n<path fill=\"none\" stroke=\"black\" d=\"M54,-18C69.67,-18 74.14,-18 88.77,-18\"/>\n<ellipse fill=\"black\" stroke=\"black\" cx=\"90\" cy=\"-18\" rx=\"1\" ry=\"1\"/>\n<text text-anchor=\"middle\" x=\"72.5\" y=\"-21\" font-family=\"Times,serif\" font-size=\"10.00\">1</text>\n</g>\n</g>\n</svg>",
          "text/plain": "<IPython.core.display.SVG object>"
         },
         "metadata": {},
         "output_type": "display_data"
        }
       ],
       "tabbable": null,
       "tooltip": null
      }
     },
     "dc7c3d3b61774d32918826af3058877a": {
      "model_module": "@jupyter-widgets/base",
      "model_module_version": "2.0.0",
      "model_name": "LayoutModel",
      "state": {
       "_model_module": "@jupyter-widgets/base",
       "_model_module_version": "2.0.0",
       "_model_name": "LayoutModel",
       "_view_count": null,
       "_view_module": "@jupyter-widgets/base",
       "_view_module_version": "2.0.0",
       "_view_name": "LayoutView",
       "align_content": null,
       "align_items": null,
       "align_self": null,
       "border_bottom": null,
       "border_left": null,
       "border_right": null,
       "border_top": null,
       "bottom": null,
       "display": null,
       "flex": null,
       "flex_flow": null,
       "grid_area": null,
       "grid_auto_columns": null,
       "grid_auto_flow": null,
       "grid_auto_rows": null,
       "grid_column": null,
       "grid_gap": null,
       "grid_row": null,
       "grid_template_areas": null,
       "grid_template_columns": null,
       "grid_template_rows": null,
       "height": null,
       "justify_content": null,
       "justify_items": null,
       "left": null,
       "margin": null,
       "max_height": null,
       "max_width": null,
       "min_height": null,
       "min_width": null,
       "object_fit": null,
       "object_position": null,
       "order": null,
       "overflow": null,
       "padding": null,
       "right": null,
       "top": null,
       "visibility": null,
       "width": null
      }
     },
     "dfead5a58d264c08b8e896e9845a2559": {
      "model_module": "@jupyter-widgets/base",
      "model_module_version": "2.0.0",
      "model_name": "LayoutModel",
      "state": {
       "_model_module": "@jupyter-widgets/base",
       "_model_module_version": "2.0.0",
       "_model_name": "LayoutModel",
       "_view_count": null,
       "_view_module": "@jupyter-widgets/base",
       "_view_module_version": "2.0.0",
       "_view_name": "LayoutView",
       "align_content": null,
       "align_items": null,
       "align_self": null,
       "border_bottom": null,
       "border_left": null,
       "border_right": null,
       "border_top": null,
       "bottom": null,
       "display": null,
       "flex": null,
       "flex_flow": null,
       "grid_area": null,
       "grid_auto_columns": null,
       "grid_auto_flow": null,
       "grid_auto_rows": null,
       "grid_column": null,
       "grid_gap": null,
       "grid_row": null,
       "grid_template_areas": null,
       "grid_template_columns": null,
       "grid_template_rows": null,
       "height": null,
       "justify_content": null,
       "justify_items": null,
       "left": null,
       "margin": null,
       "max_height": null,
       "max_width": null,
       "min_height": null,
       "min_width": null,
       "object_fit": null,
       "object_position": null,
       "order": null,
       "overflow": null,
       "padding": null,
       "right": null,
       "top": null,
       "visibility": null,
       "width": null
      }
     },
     "e17185c1c4104931bb107d913acdea57": {
      "model_module": "@jupyter-widgets/base",
      "model_module_version": "2.0.0",
      "model_name": "LayoutModel",
      "state": {
       "_model_module": "@jupyter-widgets/base",
       "_model_module_version": "2.0.0",
       "_model_name": "LayoutModel",
       "_view_count": null,
       "_view_module": "@jupyter-widgets/base",
       "_view_module_version": "2.0.0",
       "_view_name": "LayoutView",
       "align_content": null,
       "align_items": null,
       "align_self": null,
       "border_bottom": null,
       "border_left": null,
       "border_right": null,
       "border_top": null,
       "bottom": null,
       "display": null,
       "flex": null,
       "flex_flow": null,
       "grid_area": null,
       "grid_auto_columns": null,
       "grid_auto_flow": null,
       "grid_auto_rows": null,
       "grid_column": null,
       "grid_gap": null,
       "grid_row": null,
       "grid_template_areas": null,
       "grid_template_columns": null,
       "grid_template_rows": null,
       "height": null,
       "justify_content": null,
       "justify_items": null,
       "left": null,
       "margin": null,
       "max_height": null,
       "max_width": null,
       "min_height": null,
       "min_width": null,
       "object_fit": null,
       "object_position": null,
       "order": null,
       "overflow": null,
       "padding": null,
       "right": null,
       "top": null,
       "visibility": null,
       "width": null
      }
     },
     "f8727e4daede4253b587e9a7074bfe6f": {
      "model_module": "@jupyter-widgets/base",
      "model_module_version": "2.0.0",
      "model_name": "LayoutModel",
      "state": {
       "_model_module": "@jupyter-widgets/base",
       "_model_module_version": "2.0.0",
       "_model_name": "LayoutModel",
       "_view_count": null,
       "_view_module": "@jupyter-widgets/base",
       "_view_module_version": "2.0.0",
       "_view_name": "LayoutView",
       "align_content": null,
       "align_items": null,
       "align_self": null,
       "border_bottom": null,
       "border_left": null,
       "border_right": null,
       "border_top": null,
       "bottom": null,
       "display": null,
       "flex": null,
       "flex_flow": null,
       "grid_area": null,
       "grid_auto_columns": null,
       "grid_auto_flow": null,
       "grid_auto_rows": null,
       "grid_column": null,
       "grid_gap": null,
       "grid_row": null,
       "grid_template_areas": null,
       "grid_template_columns": null,
       "grid_template_rows": null,
       "height": null,
       "justify_content": null,
       "justify_items": null,
       "left": null,
       "margin": null,
       "max_height": null,
       "max_width": null,
       "min_height": null,
       "min_width": null,
       "object_fit": null,
       "object_position": null,
       "order": null,
       "overflow": null,
       "padding": null,
       "right": null,
       "top": null,
       "visibility": null,
       "width": null
      }
     },
     "f96f4ac0d9d240899a5bbdea438e812b": {
      "model_module": "@jupyter-widgets/output",
      "model_module_version": "1.0.0",
      "model_name": "OutputModel",
      "state": {
       "_dom_classes": [],
       "_model_module": "@jupyter-widgets/output",
       "_model_module_version": "1.0.0",
       "_model_name": "OutputModel",
       "_view_count": null,
       "_view_module": "@jupyter-widgets/output",
       "_view_module_version": "1.0.0",
       "_view_name": "OutputView",
       "layout": "IPY_MODEL_dc7c3d3b61774d32918826af3058877a",
       "msg_id": "",
       "outputs": [
        {
         "data": {
          "text/markdown": "`minus_effect`",
          "text/plain": "<IPython.core.display.Markdown object>"
         },
         "metadata": {},
         "output_type": "display_data"
        },
        {
         "data": {
          "image/svg+xml": "<svg xmlns=\"http://www.w3.org/2000/svg\" xmlns:xlink=\"http://www.w3.org/1999/xlink\" width=\"118pt\" height=\"54pt\" viewBox=\"0.00 0.00 118.00 54.00\">\n<g id=\"graph0\" class=\"graph\" transform=\"scale(1 1) rotate(0) translate(4 50)\">\n<title>my_graph</title>\n<polygon fill=\"white\" stroke=\"transparent\" points=\"-4,4 -4,-50 114,-50 114,4 -4,4\"/>\n<!-- q_G0 -->\n<g id=\"node1\" class=\"node\">\n<title>q_G0</title>\n<text text-anchor=\"middle\" x=\"27\" y=\"-14.3\" font-family=\"Times,serif\" font-size=\"14.00\">q</text>\n</g>\n<!-- MinusEffect -->\n<g id=\"node2\" class=\"node\">\n<title>MinusEffect</title>\n<polygon fill=\"none\" stroke=\"black\" points=\"91.5,-29 91.5,-46 110.5,-46 110.5,-29 91.5,-29\"/>\n<text text-anchor=\"start\" x=\"99\" y=\"-35\" font-family=\"Times,serif\" font-size=\"10.00\">-</text>\n<polygon fill=\"none\" stroke=\"black\" points=\"91.5,-8 91.5,-29 104.5,-29 104.5,-8 91.5,-8\"/>\n<text text-anchor=\"start\" x=\"94.5\" y=\"-14.8\" font-family=\"Times,serif\" font-size=\"14.00\">q</text>\n<polygon fill=\"none\" stroke=\"black\" points=\"104.5,-8 104.5,-29 110.5,-29 110.5,-8 104.5,-8\"/>\n</g>\n<!-- q_G0&#45;&gt;MinusEffect -->\n<g id=\"edge1\" class=\"edge\">\n<title>q_G0:e-&gt;MinusEffect:w</title>\n<path fill=\"none\" stroke=\"black\" d=\"M54,-18C69.67,-18 74.14,-18 88.77,-18\"/>\n<ellipse fill=\"black\" stroke=\"black\" cx=\"90\" cy=\"-18\" rx=\"1\" ry=\"1\"/>\n<text text-anchor=\"middle\" x=\"72.5\" y=\"-21\" font-family=\"Times,serif\" font-size=\"10.00\">1</text>\n</g>\n</g>\n</svg>",
          "text/plain": "<IPython.core.display.SVG object>"
         },
         "metadata": {},
         "output_type": "display_data"
        }
       ],
       "tabbable": null,
       "tooltip": null
      }
     },
     "fd43c429e54446c5a79bbeadd0cb7c87": {
      "model_module": "@jupyter-widgets/controls",
      "model_module_version": "2.0.0",
      "model_name": "HBoxModel",
      "state": {
       "_dom_classes": [],
       "_model_module": "@jupyter-widgets/controls",
       "_model_module_version": "2.0.0",
       "_model_name": "HBoxModel",
       "_view_count": null,
       "_view_module": "@jupyter-widgets/controls",
       "_view_module_version": "2.0.0",
       "_view_name": "HBoxView",
       "box_style": "",
       "children": [
        "IPY_MODEL_96b5c7f9d7d2476cbbc159ceedc30317"
       ],
       "layout": "IPY_MODEL_baf132bb28c54dfa8906183e780e2755",
       "tabbable": null,
       "tooltip": null
      }
     }
    },
    "version_major": 2,
    "version_minor": 0
   }
  }
 },
 "nbformat": 4,
 "nbformat_minor": 5
}
