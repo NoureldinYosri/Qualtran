{
 "cells": [
  {
   "cell_type": "markdown",
   "id": "d6d914da",
   "metadata": {
    "cq.autogen": "title_cell"
   },
   "source": [
    "# SU2 Rotation"
   ]
  },
  {
   "cell_type": "code",
   "execution_count": 1,
   "id": "ded96bc8",
   "metadata": {
    "cq.autogen": "top_imports"
   },
   "outputs": [],
   "source": [
    "from qualtran import Bloq, CompositeBloq, BloqBuilder, Signature, Register\n",
    "from qualtran import QBit, QInt, QUInt, QAny\n",
    "from qualtran.drawing import show_bloq, show_call_graph, show_counts_sigma\n",
    "from typing import *\n",
    "import numpy as np\n",
    "import sympy\n",
    "import cirq"
   ]
  },
  {
   "cell_type": "markdown",
   "id": "4b2a9c14",
   "metadata": {
    "cq.autogen": "SU2RotationGate.bloq_doc.md"
   },
   "source": [
    "## `SU2RotationGate`\n",
    "Implements an arbitrary SU(2) rotation.\n",
    "\n",
    "The rotation is represented by the matrix:\n",
    "\n",
    "$$\n",
    "    e^{i \\alpha}\n",
    "    \\begin{pmatrix}\n",
    "    e^{i(\\lambda + \\phi)} \\cos(\\theta) & e^{i\\phi} \\sin(\\theta) \\\\\n",
    "    e^{i\\lambda} \\sin(\\theta) & - \\cos(\\theta)\n",
    "    \\end{pmatrix}\n",
    "$$\n",
    "\n",
    "#### Parameters\n",
    " - `theta`: rotation angle $\\theta$ in the above matrix.\n",
    " - `phi`: phase angle $\\phi$ in the above matrix.\n",
    " - `lambd`: phase angle $\\lambda$ in the above matrix.\n",
    " - `global_shift`: phase angle $\\alpha$, i.e. apply a global phase shift of $e^{i \\alpha}$. \n",
    "\n",
    "#### References\n",
    " - [Generalized Quantum Signal Processing](https://arxiv.org/abs/2308.01501). Motlagh and Wiebe. (2023). Equation 7.\n"
   ]
  },
  {
   "cell_type": "code",
   "execution_count": 2,
   "id": "950a1fe9",
   "metadata": {
    "cq.autogen": "SU2RotationGate.bloq_doc.py"
   },
   "outputs": [],
   "source": [
    "from qualtran.bloqs.basic_gates import SU2RotationGate"
   ]
  },
  {
   "cell_type": "markdown",
   "id": "26277091",
   "metadata": {
    "cq.autogen": "SU2RotationGate.example_instances.md"
   },
   "source": [
    "### Example Instances"
   ]
  },
  {
   "cell_type": "code",
   "execution_count": 3,
   "id": "5d165eae",
   "metadata": {
    "cq.autogen": "SU2RotationGate.su2_rotation_gate"
   },
   "outputs": [],
   "source": [
    "su2_rotation_gate = SU2RotationGate(np.pi / 4, np.pi / 2, np.pi / 2)"
   ]
  },
  {
   "cell_type": "code",
   "execution_count": 4,
   "id": "6b034a9b",
   "metadata": {
    "cq.autogen": "SU2RotationGate.hadamard"
   },
   "outputs": [],
   "source": [
    "hadamard = SU2RotationGate(np.pi / 4, 0, 0)"
   ]
  },
  {
   "cell_type": "code",
   "execution_count": 5,
   "id": "baa38dac",
   "metadata": {
    "cq.autogen": "SU2RotationGate.t_gate"
   },
   "outputs": [],
   "source": [
    "t_gate = SU2RotationGate(0, 3 * np.pi / 4, 0, -3 * np.pi / 4)"
   ]
  },
  {
   "cell_type": "markdown",
   "id": "e85d6f3f",
   "metadata": {
    "cq.autogen": "SU2RotationGate.graphical_signature.md"
   },
   "source": [
    "#### Graphical Signature"
   ]
  },
  {
   "cell_type": "code",
   "execution_count": 6,
   "id": "1469a240",
   "metadata": {
    "cq.autogen": "SU2RotationGate.graphical_signature.py"
   },
   "outputs": [
    {
     "data": {
      "application/vnd.jupyter.widget-view+json": {
       "model_id": "66b0e9c079964418a701b9b6ee5a556b",
       "version_major": 2,
       "version_minor": 0
      },
      "text/plain": [
       "HBox(children=(Output(outputs=({'output_type': 'display_data', 'data': {'text/plain': '<IPython.core.display.M…"
      ]
     },
     "metadata": {},
     "output_type": "display_data"
    }
   ],
   "source": [
    "from qualtran.drawing import show_bloqs\n",
    "show_bloqs([su2_rotation_gate, hadamard, t_gate],\n",
    "           ['`su2_rotation_gate`', '`hadamard`', '`t_gate`'])"
   ]
  },
  {
   "cell_type": "markdown",
   "id": "eb5742c2",
   "metadata": {
    "cq.autogen": "SU2RotationGate.call_graph.md"
   },
   "source": [
    "### Call Graph"
   ]
  },
  {
   "cell_type": "code",
   "execution_count": 7,
   "id": "1198abe9",
   "metadata": {
    "cq.autogen": "SU2RotationGate.call_graph.py"
   },
   "outputs": [
    {
     "data": {
      "image/svg+xml": [
       "<svg xmlns=\"http://www.w3.org/2000/svg\" xmlns:xlink=\"http://www.w3.org/1999/xlink\" width=\"1018pt\" height=\"131pt\" viewBox=\"0.00 0.00 1018.00 131.00\">\n",
       "<g id=\"graph0\" class=\"graph\" transform=\"scale(1 1) rotate(0) translate(4 127)\">\n",
       "<title>counts</title>\n",
       "<polygon fill=\"white\" stroke=\"transparent\" points=\"-4,4 -4,-127 1014,-127 1014,4 -4,4\"/>\n",
       "<!-- b0 -->\n",
       "<g id=\"node1\" class=\"node\">\n",
       "<title>b0</title>\n",
       "<polygon fill=\"none\" stroke=\"black\" points=\"758,-123 243,-123 243,-87 758,-87 758,-123\"/>\n",
       "<text text-anchor=\"start\" x=\"485\" y=\"-106.8\" font-family=\"Times,serif\" font-size=\"14.00\">SU_2</text>\n",
       "<text text-anchor=\"start\" x=\"251\" y=\"-96\" font-family=\"monospace\" font-size=\"10.00\">theta=0.785398 ..., phi=1.570796 ..., lambd=1.570796 ..., global_shift=0, eps=1e-11</text>\n",
       "</g>\n",
       "<!-- b1 -->\n",
       "<g id=\"node2\" class=\"node\">\n",
       "<title>b1</title>\n",
       "<polygon fill=\"none\" stroke=\"black\" points=\"203,-36 0,-36 0,0 203,0 203,-36\"/>\n",
       "<text text-anchor=\"start\" x=\"93.5\" y=\"-19.8\" font-family=\"Times,serif\" font-size=\"14.00\">Ry</text>\n",
       "<text text-anchor=\"start\" x=\"8\" y=\"-9\" font-family=\"monospace\" font-size=\"10.00\">angle=1.570796 ..., eps=2.5e-12</text>\n",
       "</g>\n",
       "<!-- b0&#45;&gt;b1 -->\n",
       "<g id=\"edge1\" class=\"edge\">\n",
       "<title>b0-&gt;b1</title>\n",
       "<path fill=\"none\" stroke=\"black\" d=\"M420.24,-86.9C354.08,-72.81 260.3,-52.83 191.59,-38.19\"/>\n",
       "<polygon fill=\"black\" stroke=\"black\" points=\"192.15,-34.73 181.64,-36.07 190.69,-41.58 192.15,-34.73\"/>\n",
       "<text text-anchor=\"middle\" x=\"329\" y=\"-57.8\" font-family=\"Times,serif\" font-size=\"14.00\">1</text>\n",
       "</g>\n",
       "<!-- b2 -->\n",
       "<g id=\"node3\" class=\"node\">\n",
       "<title>b2</title>\n",
       "<polygon fill=\"none\" stroke=\"black\" points=\"490,-36 221,-36 221,0 490,0 490,-36\"/>\n",
       "<text text-anchor=\"start\" x=\"326.5\" y=\"-19.8\" font-family=\"Times,serif\" font-size=\"14.00\">ZPowGate</text>\n",
       "<text text-anchor=\"start\" x=\"229\" y=\"-9\" font-family=\"monospace\" font-size=\"10.00\">exponent=0.5, global_shift=-1, eps=2.5e-12</text>\n",
       "</g>\n",
       "<!-- b0&#45;&gt;b2 -->\n",
       "<g id=\"edge2\" class=\"edge\">\n",
       "<title>b0-&gt;b2</title>\n",
       "<path fill=\"none\" stroke=\"black\" d=\"M471.16,-86.8C448.85,-73.72 417.97,-55.62 393.73,-41.41\"/>\n",
       "<polygon fill=\"black\" stroke=\"black\" points=\"395.2,-38.21 384.8,-36.18 391.66,-44.25 395.2,-38.21\"/>\n",
       "<text text-anchor=\"middle\" x=\"441\" y=\"-57.8\" font-family=\"Times,serif\" font-size=\"14.00\">1</text>\n",
       "</g>\n",
       "<!-- b3 -->\n",
       "<g id=\"node4\" class=\"node\">\n",
       "<title>b3</title>\n",
       "<polygon fill=\"none\" stroke=\"black\" points=\"783,-36 508,-36 508,0 783,0 783,-36\"/>\n",
       "<text text-anchor=\"start\" x=\"616.5\" y=\"-19.8\" font-family=\"Times,serif\" font-size=\"14.00\">ZPowGate</text>\n",
       "<text text-anchor=\"start\" x=\"516\" y=\"-9\" font-family=\"monospace\" font-size=\"10.00\">exponent=-0.5, global_shift=-1, eps=2.5e-12</text>\n",
       "</g>\n",
       "<!-- b0&#45;&gt;b3 -->\n",
       "<g id=\"edge3\" class=\"edge\">\n",
       "<title>b0-&gt;b3</title>\n",
       "<path fill=\"none\" stroke=\"black\" d=\"M529.84,-86.8C552.15,-73.72 583.03,-55.62 607.27,-41.41\"/>\n",
       "<polygon fill=\"black\" stroke=\"black\" points=\"609.34,-44.25 616.2,-36.18 605.8,-38.21 609.34,-44.25\"/>\n",
       "<text text-anchor=\"middle\" x=\"586\" y=\"-57.8\" font-family=\"Times,serif\" font-size=\"14.00\">1</text>\n",
       "</g>\n",
       "<!-- b4 -->\n",
       "<g id=\"node5\" class=\"node\">\n",
       "<title>b4</title>\n",
       "<polygon fill=\"none\" stroke=\"black\" points=\"1010,-36 801,-36 801,0 1010,0 1010,-36\"/>\n",
       "<text text-anchor=\"start\" x=\"884.5\" y=\"-19.8\" font-family=\"Times,serif\" font-size=\"14.00\">GPhase</text>\n",
       "<text text-anchor=\"start\" x=\"809\" y=\"-9\" font-family=\"monospace\" font-size=\"10.00\">coefficient=(-1-0j), eps=2.5e-12</text>\n",
       "</g>\n",
       "<!-- b0&#45;&gt;b4 -->\n",
       "<g id=\"edge4\" class=\"edge\">\n",
       "<title>b0-&gt;b4</title>\n",
       "<path fill=\"none\" stroke=\"black\" d=\"M581.97,-86.9C649.12,-72.81 744.31,-52.83 814.06,-38.19\"/>\n",
       "<polygon fill=\"black\" stroke=\"black\" points=\"815.09,-41.55 824.16,-36.07 813.65,-34.7 815.09,-41.55\"/>\n",
       "<text text-anchor=\"middle\" x=\"731\" y=\"-57.8\" font-family=\"Times,serif\" font-size=\"14.00\">1</text>\n",
       "</g>\n",
       "</g>\n",
       "</svg>"
      ],
      "text/plain": [
       "<IPython.core.display.SVG object>"
      ]
     },
     "metadata": {},
     "output_type": "display_data"
    },
    {
     "data": {
      "text/markdown": [
       "#### Counts totals:\n",
       " - `(-1-0j)`: 1\n",
       " - `Ry(0.5π)`: 1\n",
       " - `ZPowGate(exponent=-0.5, global_shift=-1)`: 1\n",
       " - `ZPowGate(exponent=0.5, global_shift=-1)`: 1"
      ],
      "text/plain": [
       "<IPython.core.display.Markdown object>"
      ]
     },
     "metadata": {},
     "output_type": "display_data"
    }
   ],
   "source": [
    "from qualtran.resource_counting.generalizers import ignore_split_join\n",
    "su2_rotation_gate_g, su2_rotation_gate_sigma = su2_rotation_gate.call_graph(max_depth=1, generalizer=ignore_split_join)\n",
    "show_call_graph(su2_rotation_gate_g)\n",
    "show_counts_sigma(su2_rotation_gate_sigma)"
   ]
  }
 ],
 "metadata": {
  "kernelspec": {
   "display_name": "Python 3",
   "language": "python",
   "name": "python3"
  },
  "language_info": {
   "codemirror_mode": {
    "name": "ipython",
    "version": 3
   },
   "file_extension": ".py",
   "mimetype": "text/x-python",
   "name": "python",
   "nbconvert_exporter": "python",
   "pygments_lexer": "ipython3",
   "version": "3.11.8"
  },
  "widgets": {
   "application/vnd.jupyter.widget-state+json": {
    "state": {
     "0c7a5b218ee541f1bd755f61b6d674e9": {
      "model_module": "@jupyter-widgets/base",
      "model_module_version": "2.0.0",
      "model_name": "LayoutModel",
      "state": {
       "_model_module": "@jupyter-widgets/base",
       "_model_module_version": "2.0.0",
       "_model_name": "LayoutModel",
       "_view_count": null,
       "_view_module": "@jupyter-widgets/base",
       "_view_module_version": "2.0.0",
       "_view_name": "LayoutView",
       "align_content": null,
       "align_items": null,
       "align_self": null,
       "border_bottom": null,
       "border_left": null,
       "border_right": null,
       "border_top": null,
       "bottom": null,
       "display": null,
       "flex": null,
       "flex_flow": null,
       "grid_area": null,
       "grid_auto_columns": null,
       "grid_auto_flow": null,
       "grid_auto_rows": null,
       "grid_column": null,
       "grid_gap": null,
       "grid_row": null,
       "grid_template_areas": null,
       "grid_template_columns": null,
       "grid_template_rows": null,
       "height": null,
       "justify_content": null,
       "justify_items": null,
       "left": null,
       "margin": null,
       "max_height": null,
       "max_width": null,
       "min_height": null,
       "min_width": null,
       "object_fit": null,
       "object_position": null,
       "order": null,
       "overflow": null,
       "padding": null,
       "right": null,
       "top": null,
       "visibility": null,
       "width": null
      }
     },
     "3115af1ec6a34810b69de33757953192": {
      "model_module": "@jupyter-widgets/base",
      "model_module_version": "2.0.0",
      "model_name": "LayoutModel",
      "state": {
       "_model_module": "@jupyter-widgets/base",
       "_model_module_version": "2.0.0",
       "_model_name": "LayoutModel",
       "_view_count": null,
       "_view_module": "@jupyter-widgets/base",
       "_view_module_version": "2.0.0",
       "_view_name": "LayoutView",
       "align_content": null,
       "align_items": null,
       "align_self": null,
       "border_bottom": null,
       "border_left": null,
       "border_right": null,
       "border_top": null,
       "bottom": null,
       "display": null,
       "flex": null,
       "flex_flow": null,
       "grid_area": null,
       "grid_auto_columns": null,
       "grid_auto_flow": null,
       "grid_auto_rows": null,
       "grid_column": null,
       "grid_gap": null,
       "grid_row": null,
       "grid_template_areas": null,
       "grid_template_columns": null,
       "grid_template_rows": null,
       "height": null,
       "justify_content": null,
       "justify_items": null,
       "left": null,
       "margin": null,
       "max_height": null,
       "max_width": null,
       "min_height": null,
       "min_width": null,
       "object_fit": null,
       "object_position": null,
       "order": null,
       "overflow": null,
       "padding": null,
       "right": null,
       "top": null,
       "visibility": null,
       "width": null
      }
     },
     "351588dc135c42b68c5dfbfb0bfeb46a": {
      "model_module": "@jupyter-widgets/base",
      "model_module_version": "2.0.0",
      "model_name": "LayoutModel",
      "state": {
       "_model_module": "@jupyter-widgets/base",
       "_model_module_version": "2.0.0",
       "_model_name": "LayoutModel",
       "_view_count": null,
       "_view_module": "@jupyter-widgets/base",
       "_view_module_version": "2.0.0",
       "_view_name": "LayoutView",
       "align_content": null,
       "align_items": null,
       "align_self": null,
       "border_bottom": null,
       "border_left": null,
       "border_right": null,
       "border_top": null,
       "bottom": null,
       "display": null,
       "flex": null,
       "flex_flow": null,
       "grid_area": null,
       "grid_auto_columns": null,
       "grid_auto_flow": null,
       "grid_auto_rows": null,
       "grid_column": null,
       "grid_gap": null,
       "grid_row": null,
       "grid_template_areas": null,
       "grid_template_columns": null,
       "grid_template_rows": null,
       "height": null,
       "justify_content": null,
       "justify_items": null,
       "left": null,
       "margin": null,
       "max_height": null,
       "max_width": null,
       "min_height": null,
       "min_width": null,
       "object_fit": null,
       "object_position": null,
       "order": null,
       "overflow": null,
       "padding": null,
       "right": null,
       "top": null,
       "visibility": null,
       "width": null
      }
     },
     "66b0e9c079964418a701b9b6ee5a556b": {
      "model_module": "@jupyter-widgets/controls",
      "model_module_version": "2.0.0",
      "model_name": "HBoxModel",
      "state": {
       "_dom_classes": [],
       "_model_module": "@jupyter-widgets/controls",
       "_model_module_version": "2.0.0",
       "_model_name": "HBoxModel",
       "_view_count": null,
       "_view_module": "@jupyter-widgets/controls",
       "_view_module_version": "2.0.0",
       "_view_name": "HBoxView",
       "box_style": "",
       "children": [
        "IPY_MODEL_a3db849ccb2349cb982cf92f3303593d",
        "IPY_MODEL_b00438f3219f4a08931df6f485fb6b19",
        "IPY_MODEL_8a50c82d42174e268368ee6b63feb19e"
       ],
       "layout": "IPY_MODEL_0c7a5b218ee541f1bd755f61b6d674e9",
       "tabbable": null,
       "tooltip": null
      }
     },
     "8a50c82d42174e268368ee6b63feb19e": {
      "model_module": "@jupyter-widgets/output",
      "model_module_version": "1.0.0",
      "model_name": "OutputModel",
      "state": {
       "_dom_classes": [],
       "_model_module": "@jupyter-widgets/output",
       "_model_module_version": "1.0.0",
       "_model_name": "OutputModel",
       "_view_count": null,
       "_view_module": "@jupyter-widgets/output",
       "_view_module_version": "1.0.0",
       "_view_name": "OutputView",
       "layout": "IPY_MODEL_351588dc135c42b68c5dfbfb0bfeb46a",
       "msg_id": "",
       "outputs": [
        {
         "data": {
          "text/markdown": "`t_gate`",
          "text/plain": "<IPython.core.display.Markdown object>"
         },
         "metadata": {},
         "output_type": "display_data"
        },
        {
         "data": {
          "image/svg+xml": "<svg xmlns=\"http://www.w3.org/2000/svg\" xmlns:xlink=\"http://www.w3.org/1999/xlink\" width=\"220pt\" height=\"54pt\" viewBox=\"0.00 0.00 220.00 54.00\">\n<g id=\"graph0\" class=\"graph\" transform=\"scale(1 1) rotate(0) translate(4 50)\">\n<title>my_graph</title>\n<polygon fill=\"white\" stroke=\"transparent\" points=\"-4,4 -4,-50 216,-50 216,4 -4,4\"/>\n<!-- q_G1 -->\n<g id=\"node1\" class=\"node\">\n<title>q_G1</title>\n<text text-anchor=\"middle\" x=\"27\" y=\"-14.3\" font-family=\"Times,serif\" font-size=\"14.00\">q</text>\n</g>\n<!-- SU2RotationGate -->\n<g id=\"node2\" class=\"node\">\n<title>SU2RotationGate</title>\n<polygon fill=\"none\" stroke=\"black\" points=\"91,-29 91,-46 121,-46 121,-29 91,-29\"/>\n<text text-anchor=\"start\" x=\"94\" y=\"-35\" font-family=\"Times,serif\" font-size=\"10.00\">SU_2</text>\n<polygon fill=\"none\" stroke=\"black\" points=\"91,-8 91,-29 121,-29 121,-8 91,-8\"/>\n<text text-anchor=\"start\" x=\"102.5\" y=\"-14.8\" font-family=\"Times,serif\" font-size=\"14.00\">q</text>\n</g>\n<!-- q_G1&#45;&gt;SU2RotationGate -->\n<g id=\"edge1\" class=\"edge\">\n<title>q_G1:e-&gt;SU2RotationGate:w</title>\n<path fill=\"none\" stroke=\"black\" d=\"M54,-18C69.67,-18 74.14,-18 88.77,-18\"/>\n<ellipse fill=\"black\" stroke=\"black\" cx=\"90\" cy=\"-18\" rx=\"1\" ry=\"1\"/>\n<text text-anchor=\"middle\" x=\"72.5\" y=\"-21\" font-family=\"Times,serif\" font-size=\"10.00\">1</text>\n</g>\n<!-- q_G0 -->\n<g id=\"node3\" class=\"node\">\n<title>q_G0</title>\n<text text-anchor=\"middle\" x=\"185\" y=\"-14.3\" font-family=\"Times,serif\" font-size=\"14.00\">q</text>\n</g>\n<!-- SU2RotationGate&#45;&gt;q_G0 -->\n<g id=\"edge2\" class=\"edge\">\n<title>SU2RotationGate:e-&gt;q_G0:w</title>\n<path fill=\"none\" stroke=\"black\" d=\"M121,-18C136.67,-18 141.14,-18 155.77,-18\"/>\n<ellipse fill=\"black\" stroke=\"black\" cx=\"157\" cy=\"-18\" rx=\"1\" ry=\"1\"/>\n<text text-anchor=\"middle\" x=\"139.5\" y=\"-21\" font-family=\"Times,serif\" font-size=\"10.00\">1</text>\n</g>\n</g>\n</svg>",
          "text/plain": "<IPython.core.display.SVG object>"
         },
         "metadata": {},
         "output_type": "display_data"
        }
       ],
       "tabbable": null,
       "tooltip": null
      }
     },
     "a3db849ccb2349cb982cf92f3303593d": {
      "model_module": "@jupyter-widgets/output",
      "model_module_version": "1.0.0",
      "model_name": "OutputModel",
      "state": {
       "_dom_classes": [],
       "_model_module": "@jupyter-widgets/output",
       "_model_module_version": "1.0.0",
       "_model_name": "OutputModel",
       "_view_count": null,
       "_view_module": "@jupyter-widgets/output",
       "_view_module_version": "1.0.0",
       "_view_name": "OutputView",
       "layout": "IPY_MODEL_baf42b6e1a174acfbadd3e1078801292",
       "msg_id": "",
       "outputs": [
        {
         "data": {
          "text/markdown": "`su2_rotation_gate`",
          "text/plain": "<IPython.core.display.Markdown object>"
         },
         "metadata": {},
         "output_type": "display_data"
        },
        {
         "data": {
          "image/svg+xml": "<svg xmlns=\"http://www.w3.org/2000/svg\" xmlns:xlink=\"http://www.w3.org/1999/xlink\" width=\"220pt\" height=\"54pt\" viewBox=\"0.00 0.00 220.00 54.00\">\n<g id=\"graph0\" class=\"graph\" transform=\"scale(1 1) rotate(0) translate(4 50)\">\n<title>my_graph</title>\n<polygon fill=\"white\" stroke=\"transparent\" points=\"-4,4 -4,-50 216,-50 216,4 -4,4\"/>\n<!-- q_G1 -->\n<g id=\"node1\" class=\"node\">\n<title>q_G1</title>\n<text text-anchor=\"middle\" x=\"27\" y=\"-14.3\" font-family=\"Times,serif\" font-size=\"14.00\">q</text>\n</g>\n<!-- SU2RotationGate -->\n<g id=\"node2\" class=\"node\">\n<title>SU2RotationGate</title>\n<polygon fill=\"none\" stroke=\"black\" points=\"91,-29 91,-46 121,-46 121,-29 91,-29\"/>\n<text text-anchor=\"start\" x=\"94\" y=\"-35\" font-family=\"Times,serif\" font-size=\"10.00\">SU_2</text>\n<polygon fill=\"none\" stroke=\"black\" points=\"91,-8 91,-29 121,-29 121,-8 91,-8\"/>\n<text text-anchor=\"start\" x=\"102.5\" y=\"-14.8\" font-family=\"Times,serif\" font-size=\"14.00\">q</text>\n</g>\n<!-- q_G1&#45;&gt;SU2RotationGate -->\n<g id=\"edge1\" class=\"edge\">\n<title>q_G1:e-&gt;SU2RotationGate:w</title>\n<path fill=\"none\" stroke=\"black\" d=\"M54,-18C69.67,-18 74.14,-18 88.77,-18\"/>\n<ellipse fill=\"black\" stroke=\"black\" cx=\"90\" cy=\"-18\" rx=\"1\" ry=\"1\"/>\n<text text-anchor=\"middle\" x=\"72.5\" y=\"-21\" font-family=\"Times,serif\" font-size=\"10.00\">1</text>\n</g>\n<!-- q_G0 -->\n<g id=\"node3\" class=\"node\">\n<title>q_G0</title>\n<text text-anchor=\"middle\" x=\"185\" y=\"-14.3\" font-family=\"Times,serif\" font-size=\"14.00\">q</text>\n</g>\n<!-- SU2RotationGate&#45;&gt;q_G0 -->\n<g id=\"edge2\" class=\"edge\">\n<title>SU2RotationGate:e-&gt;q_G0:w</title>\n<path fill=\"none\" stroke=\"black\" d=\"M121,-18C136.67,-18 141.14,-18 155.77,-18\"/>\n<ellipse fill=\"black\" stroke=\"black\" cx=\"157\" cy=\"-18\" rx=\"1\" ry=\"1\"/>\n<text text-anchor=\"middle\" x=\"139.5\" y=\"-21\" font-family=\"Times,serif\" font-size=\"10.00\">1</text>\n</g>\n</g>\n</svg>",
          "text/plain": "<IPython.core.display.SVG object>"
         },
         "metadata": {},
         "output_type": "display_data"
        }
       ],
       "tabbable": null,
       "tooltip": null
      }
     },
     "b00438f3219f4a08931df6f485fb6b19": {
      "model_module": "@jupyter-widgets/output",
      "model_module_version": "1.0.0",
      "model_name": "OutputModel",
      "state": {
       "_dom_classes": [],
       "_model_module": "@jupyter-widgets/output",
       "_model_module_version": "1.0.0",
       "_model_name": "OutputModel",
       "_view_count": null,
       "_view_module": "@jupyter-widgets/output",
       "_view_module_version": "1.0.0",
       "_view_name": "OutputView",
       "layout": "IPY_MODEL_3115af1ec6a34810b69de33757953192",
       "msg_id": "",
       "outputs": [
        {
         "data": {
          "text/markdown": "`hadamard`",
          "text/plain": "<IPython.core.display.Markdown object>"
         },
         "metadata": {},
         "output_type": "display_data"
        },
        {
         "data": {
          "image/svg+xml": "<svg xmlns=\"http://www.w3.org/2000/svg\" xmlns:xlink=\"http://www.w3.org/1999/xlink\" width=\"220pt\" height=\"54pt\" viewBox=\"0.00 0.00 220.00 54.00\">\n<g id=\"graph0\" class=\"graph\" transform=\"scale(1 1) rotate(0) translate(4 50)\">\n<title>my_graph</title>\n<polygon fill=\"white\" stroke=\"transparent\" points=\"-4,4 -4,-50 216,-50 216,4 -4,4\"/>\n<!-- q_G1 -->\n<g id=\"node1\" class=\"node\">\n<title>q_G1</title>\n<text text-anchor=\"middle\" x=\"27\" y=\"-14.3\" font-family=\"Times,serif\" font-size=\"14.00\">q</text>\n</g>\n<!-- SU2RotationGate -->\n<g id=\"node2\" class=\"node\">\n<title>SU2RotationGate</title>\n<polygon fill=\"none\" stroke=\"black\" points=\"91,-29 91,-46 121,-46 121,-29 91,-29\"/>\n<text text-anchor=\"start\" x=\"94\" y=\"-35\" font-family=\"Times,serif\" font-size=\"10.00\">SU_2</text>\n<polygon fill=\"none\" stroke=\"black\" points=\"91,-8 91,-29 121,-29 121,-8 91,-8\"/>\n<text text-anchor=\"start\" x=\"102.5\" y=\"-14.8\" font-family=\"Times,serif\" font-size=\"14.00\">q</text>\n</g>\n<!-- q_G1&#45;&gt;SU2RotationGate -->\n<g id=\"edge1\" class=\"edge\">\n<title>q_G1:e-&gt;SU2RotationGate:w</title>\n<path fill=\"none\" stroke=\"black\" d=\"M54,-18C69.67,-18 74.14,-18 88.77,-18\"/>\n<ellipse fill=\"black\" stroke=\"black\" cx=\"90\" cy=\"-18\" rx=\"1\" ry=\"1\"/>\n<text text-anchor=\"middle\" x=\"72.5\" y=\"-21\" font-family=\"Times,serif\" font-size=\"10.00\">1</text>\n</g>\n<!-- q_G0 -->\n<g id=\"node3\" class=\"node\">\n<title>q_G0</title>\n<text text-anchor=\"middle\" x=\"185\" y=\"-14.3\" font-family=\"Times,serif\" font-size=\"14.00\">q</text>\n</g>\n<!-- SU2RotationGate&#45;&gt;q_G0 -->\n<g id=\"edge2\" class=\"edge\">\n<title>SU2RotationGate:e-&gt;q_G0:w</title>\n<path fill=\"none\" stroke=\"black\" d=\"M121,-18C136.67,-18 141.14,-18 155.77,-18\"/>\n<ellipse fill=\"black\" stroke=\"black\" cx=\"157\" cy=\"-18\" rx=\"1\" ry=\"1\"/>\n<text text-anchor=\"middle\" x=\"139.5\" y=\"-21\" font-family=\"Times,serif\" font-size=\"10.00\">1</text>\n</g>\n</g>\n</svg>",
          "text/plain": "<IPython.core.display.SVG object>"
         },
         "metadata": {},
         "output_type": "display_data"
        }
       ],
       "tabbable": null,
       "tooltip": null
      }
     },
     "baf42b6e1a174acfbadd3e1078801292": {
      "model_module": "@jupyter-widgets/base",
      "model_module_version": "2.0.0",
      "model_name": "LayoutModel",
      "state": {
       "_model_module": "@jupyter-widgets/base",
       "_model_module_version": "2.0.0",
       "_model_name": "LayoutModel",
       "_view_count": null,
       "_view_module": "@jupyter-widgets/base",
       "_view_module_version": "2.0.0",
       "_view_name": "LayoutView",
       "align_content": null,
       "align_items": null,
       "align_self": null,
       "border_bottom": null,
       "border_left": null,
       "border_right": null,
       "border_top": null,
       "bottom": null,
       "display": null,
       "flex": null,
       "flex_flow": null,
       "grid_area": null,
       "grid_auto_columns": null,
       "grid_auto_flow": null,
       "grid_auto_rows": null,
       "grid_column": null,
       "grid_gap": null,
       "grid_row": null,
       "grid_template_areas": null,
       "grid_template_columns": null,
       "grid_template_rows": null,
       "height": null,
       "justify_content": null,
       "justify_items": null,
       "left": null,
       "margin": null,
       "max_height": null,
       "max_width": null,
       "min_height": null,
       "min_width": null,
       "object_fit": null,
       "object_position": null,
       "order": null,
       "overflow": null,
       "padding": null,
       "right": null,
       "top": null,
       "visibility": null,
       "width": null
      }
     }
    },
    "version_major": 2,
    "version_minor": 0
   }
  }
 },
 "nbformat": 4,
 "nbformat_minor": 5
}
