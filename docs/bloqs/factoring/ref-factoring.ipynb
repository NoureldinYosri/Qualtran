{
 "cells": [
  {
   "cell_type": "markdown",
   "id": "0e934f87",
   "metadata": {
    "cq.autogen": "title_cell"
   },
   "source": [
    "# Modular arithmetic"
   ]
  },
  {
   "cell_type": "markdown",
   "id": "7309b0ba",
   "metadata": {},
   "source": [
    "This notebook documents the modular arithmetic bloqs needed to implement the \"reference\" implementation in [GE2019]."
   ]
  },
  {
   "cell_type": "code",
   "execution_count": 1,
   "id": "7dd20f34",
   "metadata": {
    "cq.autogen": "top_imports"
   },
   "outputs": [],
   "source": [
    "from qualtran import Bloq, CompositeBloq, BloqBuilder, Signature, Register\n",
    "from qualtran.drawing import show_bloq, show_call_graph, show_counts_sigma\n",
    "from typing import *\n",
    "import numpy as np\n",
    "import sympy\n",
    "import cirq"
   ]
  },
  {
   "cell_type": "markdown",
   "id": "bbdbc39b",
   "metadata": {
    "cq.autogen": "_make_modexp.md"
   },
   "source": [
    "## `ModExp`\n",
    "Perform $b^e \\mod{m}$ for constant `base` $b$, `mod` $m$, and quantum `exponent` $e$.\n",
    "\n",
    "Modular exponentiation is the main computational primitive for quantum factoring algorithms.\n",
    "We follow [GE2019]'s \"reference implementation\" for factoring. See `ModExp.make_for_shor`\n",
    "to set the class attributes for a factoring run.\n",
    "\n",
    "This bloq decomposes into controlled modular exponentiation for each exponent bit.\n",
    "\n",
    "#### Parameters\n",
    " - `base`: The integer base of the exponentiation\n",
    " - `mod`: The integer modulus\n",
    " - `exp_bitsize`: The size of the `exponent` thru-register\n",
    " - `x_bitsize`: The size of the `x` right-register \n",
    "\n",
    "#### Registers\n",
    " - `exponent`: The exponent\n",
    " - `x [right]`: The output register containing the result of the exponentiation \n",
    "\n",
    "#### References\n",
    "[GE2019] How to factor 2048 bit RSA integers in 8 hours using 20 million noisy qubits.\n",
    "[arxiv:1905.09749](https://arxiv.org/abs/1905.09749). Gidney and Ekerå. 2019.\n"
   ]
  },
  {
   "cell_type": "code",
   "execution_count": 2,
   "id": "10ce5e42",
   "metadata": {
    "cq.autogen": "_make_modexp.py"
   },
   "outputs": [
    {
     "data": {
      "image/svg+xml": [
       "<svg xmlns=\"http://www.w3.org/2000/svg\" xmlns:xlink=\"http://www.w3.org/1999/xlink\" width=\"270pt\" height=\"98pt\" viewBox=\"0.00 0.00 270.00 98.00\">\n",
       "<g id=\"graph0\" class=\"graph\" transform=\"scale(1 1) rotate(0) translate(4 94)\">\n",
       "<title>my_graph</title>\n",
       "<polygon fill=\"white\" stroke=\"transparent\" points=\"-4,4 -4,-94 266,-94 266,4 -4,4\"/>\n",
       "<!-- exponent_G2 -->\n",
       "<g id=\"node1\" class=\"node\">\n",
       "<title>exponent_G2</title>\n",
       "<text text-anchor=\"middle\" x=\"33\" y=\"-52.3\" font-family=\"Times,serif\" font-size=\"14.00\">exponent</text>\n",
       "</g>\n",
       "<!-- ModExp -->\n",
       "<g id=\"node2\" class=\"node\">\n",
       "<title>ModExp</title>\n",
       "<polygon fill=\"none\" stroke=\"black\" points=\"103,-66 103,-83 159,-83 159,-66 103,-66\"/>\n",
       "<text text-anchor=\"start\" x=\"112\" y=\"-72\" font-family=\"Times,serif\" font-size=\"10.00\">3^e % 15</text>\n",
       "<polygon fill=\"none\" stroke=\"black\" points=\"103,-45 103,-66 159,-66 159,-45 103,-45\"/>\n",
       "<text text-anchor=\"start\" x=\"106\" y=\"-51.8\" font-family=\"Times,serif\" font-size=\"14.00\">exponent</text>\n",
       "<polygon fill=\"none\" stroke=\"black\" points=\"103,-24 103,-45 127,-45 127,-24 103,-24\"/>\n",
       "<polygon fill=\"none\" stroke=\"black\" points=\"127,-24 127,-45 159,-45 159,-24 127,-24\"/>\n",
       "<text text-anchor=\"start\" x=\"139.5\" y=\"-30.8\" font-family=\"Times,serif\" font-size=\"14.00\">x</text>\n",
       "</g>\n",
       "<!-- exponent_G2&#45;&gt;ModExp -->\n",
       "<g id=\"edge1\" class=\"edge\">\n",
       "<title>exponent_G2:e-&gt;ModExp:w</title>\n",
       "<path fill=\"none\" stroke=\"black\" d=\"M66,-56C81.67,-56 86.14,-56 100.77,-56\"/>\n",
       "<ellipse fill=\"black\" stroke=\"black\" cx=\"102\" cy=\"-56\" rx=\"1\" ry=\"1\"/>\n",
       "<text text-anchor=\"middle\" x=\"84.5\" y=\"-59\" font-family=\"Times,serif\" font-size=\"10.00\">3</text>\n",
       "</g>\n",
       "<!-- exponent_G3 -->\n",
       "<g id=\"node3\" class=\"node\">\n",
       "<title>exponent_G3</title>\n",
       "<text text-anchor=\"middle\" x=\"229\" y=\"-68.3\" font-family=\"Times,serif\" font-size=\"14.00\">exponent</text>\n",
       "</g>\n",
       "<!-- ModExp&#45;&gt;exponent_G3 -->\n",
       "<g id=\"edge2\" class=\"edge\">\n",
       "<title>ModExp:e-&gt;exponent_G3:w</title>\n",
       "<path fill=\"none\" stroke=\"black\" d=\"M159,-56C176.22,-56 177.97,-70.77 193.98,-71.93\"/>\n",
       "<ellipse fill=\"black\" stroke=\"black\" cx=\"195\" cy=\"-71.96\" rx=\"1\" ry=\"1\"/>\n",
       "<text text-anchor=\"middle\" x=\"177.5\" y=\"-67\" font-family=\"Times,serif\" font-size=\"10.00\">3</text>\n",
       "</g>\n",
       "<!-- x_G1 -->\n",
       "<g id=\"node4\" class=\"node\">\n",
       "<title>x_G1</title>\n",
       "<text text-anchor=\"middle\" x=\"229\" y=\"-14.3\" font-family=\"Times,serif\" font-size=\"14.00\">x</text>\n",
       "</g>\n",
       "<!-- ModExp&#45;&gt;x_G1 -->\n",
       "<g id=\"edge3\" class=\"edge\">\n",
       "<title>ModExp:e-&gt;x_G1:w</title>\n",
       "<path fill=\"none\" stroke=\"black\" d=\"M159,-34C178.2,-34 180.84,-19.23 198.74,-18.07\"/>\n",
       "<ellipse fill=\"black\" stroke=\"black\" cx=\"200\" cy=\"-18.03\" rx=\"1\" ry=\"1\"/>\n",
       "<text text-anchor=\"middle\" x=\"177.5\" y=\"-31\" font-family=\"Times,serif\" font-size=\"10.00\">2048</text>\n",
       "</g>\n",
       "</g>\n",
       "</svg>"
      ],
      "text/plain": [
       "<IPython.core.display.SVG object>"
      ]
     },
     "metadata": {},
     "output_type": "display_data"
    }
   ],
   "source": [
    "from qualtran.bloqs.factoring.mod_exp import ModExp\n",
    "\n",
    "bloq = ModExp(base=3, mod=15, exp_bitsize=3, x_bitsize=2048)\n",
    "show_bloq(bloq)"
   ]
  },
  {
   "cell_type": "code",
   "execution_count": 3,
   "id": "1948589e",
   "metadata": {},
   "outputs": [
    {
     "data": {
      "image/svg+xml": [
       "<svg xmlns=\"http://www.w3.org/2000/svg\" xmlns:xlink=\"http://www.w3.org/1999/xlink\" width=\"571pt\" height=\"179pt\" viewBox=\"0.00 0.00 571.00 178.50\">\n",
       "<g id=\"graph0\" class=\"graph\" transform=\"scale(1 1) rotate(0) translate(4 174.5)\">\n",
       "<title>my_graph</title>\n",
       "<polygon fill=\"white\" stroke=\"transparent\" points=\"-4,4 -4,-174.5 567,-174.5 567,4 -4,4\"/>\n",
       "<!-- exponent -->\n",
       "<g id=\"node1\" class=\"node\">\n",
       "<title>exponent</title>\n",
       "<text text-anchor=\"middle\" x=\"33\" y=\"-92.3\" font-family=\"Times,serif\" font-size=\"14.00\">exponent</text>\n",
       "</g>\n",
       "<!-- Split -->\n",
       "<g id=\"node3\" class=\"node\">\n",
       "<title>Split</title>\n",
       "<polygon fill=\"none\" stroke=\"black\" points=\"111.5,-105 111.5,-111 123.5,-111 123.5,-105 111.5,-105\"/>\n",
       "<polygon fill=\"none\" stroke=\"black\" points=\"111.5,-87 111.5,-105 117.5,-105 117.5,-87 111.5,-87\"/>\n",
       "<polygon fill=\"none\" stroke=\"black\" points=\"117.5,-99 117.5,-105 123.5,-105 123.5,-99 117.5,-99\"/>\n",
       "<polygon fill=\"none\" stroke=\"black\" points=\"117.5,-93 117.5,-99 123.5,-99 123.5,-93 117.5,-93\"/>\n",
       "<polygon fill=\"none\" stroke=\"black\" points=\"117.5,-87 117.5,-93 123.5,-93 123.5,-87 117.5,-87\"/>\n",
       "</g>\n",
       "<!-- exponent&#45;&gt;Split -->\n",
       "<g id=\"edge1\" class=\"edge\">\n",
       "<title>exponent:e-&gt;Split:w</title>\n",
       "<path fill=\"none\" stroke=\"black\" d=\"M66,-96C85.01,-96 90.31,-96 108.25,-96\"/>\n",
       "<ellipse fill=\"black\" stroke=\"black\" cx=\"109.5\" cy=\"-96\" rx=\"1\" ry=\"1\"/>\n",
       "<text text-anchor=\"middle\" x=\"84.5\" y=\"-99\" font-family=\"Times,serif\" font-size=\"10.00\">3</text>\n",
       "</g>\n",
       "<!-- IntState -->\n",
       "<g id=\"node2\" class=\"node\">\n",
       "<title>IntState</title>\n",
       "<polygon fill=\"none\" stroke=\"black\" points=\"103.5,-21 103.5,-38 132.5,-38 132.5,-21 103.5,-21\"/>\n",
       "<text text-anchor=\"start\" x=\"115\" y=\"-27\" font-family=\"Times,serif\" font-size=\"10.00\">1</text>\n",
       "<polygon fill=\"none\" stroke=\"black\" points=\"103.5,0 103.5,-21 109.5,-21 109.5,0 103.5,0\"/>\n",
       "<polygon fill=\"none\" stroke=\"black\" points=\"109.5,0 109.5,-21 132.5,-21 132.5,0 109.5,0\"/>\n",
       "<text text-anchor=\"start\" x=\"112.5\" y=\"-6.8\" font-family=\"Times,serif\" font-size=\"14.00\">val</text>\n",
       "</g>\n",
       "<!-- CtrlModMul_G0 -->\n",
       "<g id=\"node5\" class=\"node\">\n",
       "<title>CtrlModMul_G0</title>\n",
       "<polygon fill=\"none\" stroke=\"black\" points=\"169,-42 169,-59 225,-59 225,-42 169,-42\"/>\n",
       "<text text-anchor=\"start\" x=\"172\" y=\"-48\" font-family=\"Times,serif\" font-size=\"10.00\">x *= 3 % 15</text>\n",
       "<polygon fill=\"none\" stroke=\"black\" points=\"169,-21 169,-42 225,-42 225,-21 169,-21\"/>\n",
       "<text text-anchor=\"start\" x=\"187.5\" y=\"-27.8\" font-family=\"Times,serif\" font-size=\"14.00\">ctrl</text>\n",
       "<polygon fill=\"none\" stroke=\"black\" points=\"169,0 169,-21 225,-21 225,0 169,0\"/>\n",
       "<text text-anchor=\"start\" x=\"193.5\" y=\"-6.8\" font-family=\"Times,serif\" font-size=\"14.00\">x</text>\n",
       "</g>\n",
       "<!-- IntState&#45;&gt;CtrlModMul_G0 -->\n",
       "<g id=\"edge3\" class=\"edge\">\n",
       "<title>IntState:e-&gt;CtrlModMul_G0:w</title>\n",
       "<path fill=\"none\" stroke=\"black\" d=\"M132,-10C147.67,-10 152.14,-10 166.77,-10\"/>\n",
       "<ellipse fill=\"black\" stroke=\"black\" cx=\"168\" cy=\"-10\" rx=\"1\" ry=\"1\"/>\n",
       "<text text-anchor=\"middle\" x=\"150.5\" y=\"-13\" font-family=\"Times,serif\" font-size=\"10.00\">2048</text>\n",
       "</g>\n",
       "<!-- CtrlModMul -->\n",
       "<g id=\"node4\" class=\"node\">\n",
       "<title>CtrlModMul</title>\n",
       "<polygon fill=\"none\" stroke=\"black\" points=\"262,-100 262,-117 318,-117 318,-100 262,-100\"/>\n",
       "<text text-anchor=\"start\" x=\"265\" y=\"-106\" font-family=\"Times,serif\" font-size=\"10.00\">x *= 9 % 15</text>\n",
       "<polygon fill=\"none\" stroke=\"black\" points=\"262,-79 262,-100 318,-100 318,-79 262,-79\"/>\n",
       "<text text-anchor=\"start\" x=\"280.5\" y=\"-85.8\" font-family=\"Times,serif\" font-size=\"14.00\">ctrl</text>\n",
       "<polygon fill=\"none\" stroke=\"black\" points=\"262,-58 262,-79 318,-79 318,-58 262,-58\"/>\n",
       "<text text-anchor=\"start\" x=\"286.5\" y=\"-64.8\" font-family=\"Times,serif\" font-size=\"14.00\">x</text>\n",
       "</g>\n",
       "<!-- Split&#45;&gt;CtrlModMul -->\n",
       "<g id=\"edge4\" class=\"edge\">\n",
       "<title>Split:e-&gt;CtrlModMul:w</title>\n",
       "<path fill=\"none\" stroke=\"black\" d=\"M124.5,-96C184.95,-96 200.47,-90.14 259.87,-90\"/>\n",
       "<ellipse fill=\"black\" stroke=\"black\" cx=\"261\" cy=\"-90\" rx=\"1\" ry=\"1\"/>\n",
       "<text text-anchor=\"middle\" x=\"197\" y=\"-98\" font-family=\"Times,serif\" font-size=\"10.00\">1</text>\n",
       "</g>\n",
       "<!-- Split&#45;&gt;CtrlModMul_G0 -->\n",
       "<g id=\"edge2\" class=\"edge\">\n",
       "<title>Split:e-&gt;CtrlModMul_G0:w</title>\n",
       "<path fill=\"none\" stroke=\"black\" d=\"M124.5,-90C156.23,-90 137.44,-34.69 166.8,-32.09\"/>\n",
       "<ellipse fill=\"black\" stroke=\"black\" cx=\"168\" cy=\"-32.04\" rx=\"1\" ry=\"1\"/>\n",
       "<text text-anchor=\"middle\" x=\"150.5\" y=\"-51\" font-family=\"Times,serif\" font-size=\"10.00\">1</text>\n",
       "</g>\n",
       "<!-- CtrlModMul_G3 -->\n",
       "<g id=\"node6\" class=\"node\">\n",
       "<title>CtrlModMul_G3</title>\n",
       "<polygon fill=\"none\" stroke=\"black\" points=\"355,-153 355,-170 411,-170 411,-153 355,-153\"/>\n",
       "<text text-anchor=\"start\" x=\"358\" y=\"-159\" font-family=\"Times,serif\" font-size=\"10.00\">x *= 6 % 15</text>\n",
       "<polygon fill=\"none\" stroke=\"black\" points=\"355,-132 355,-153 411,-153 411,-132 355,-132\"/>\n",
       "<text text-anchor=\"start\" x=\"373.5\" y=\"-138.8\" font-family=\"Times,serif\" font-size=\"14.00\">ctrl</text>\n",
       "<polygon fill=\"none\" stroke=\"black\" points=\"355,-111 355,-132 411,-132 411,-111 355,-111\"/>\n",
       "<text text-anchor=\"start\" x=\"379.5\" y=\"-117.8\" font-family=\"Times,serif\" font-size=\"14.00\">x</text>\n",
       "</g>\n",
       "<!-- Split&#45;&gt;CtrlModMul_G3 -->\n",
       "<g id=\"edge6\" class=\"edge\">\n",
       "<title>Split:e-&gt;CtrlModMul_G3:w</title>\n",
       "<path fill=\"none\" stroke=\"black\" d=\"M124.5,-102C136.38,-102 138.44,-107.27 150,-110 239.11,-131.04 262.35,-142.82 352.85,-143\"/>\n",
       "<ellipse fill=\"black\" stroke=\"black\" cx=\"354\" cy=\"-143\" rx=\"1\" ry=\"1\"/>\n",
       "<text text-anchor=\"middle\" x=\"243.5\" y=\"-136\" font-family=\"Times,serif\" font-size=\"10.00\">1</text>\n",
       "</g>\n",
       "<!-- CtrlModMul&#45;&gt;CtrlModMul_G3 -->\n",
       "<g id=\"edge7\" class=\"edge\">\n",
       "<title>CtrlModMul:e-&gt;CtrlModMul_G3:w</title>\n",
       "<path fill=\"none\" stroke=\"black\" d=\"M318,-68C345.94,-68 327.35,-118.14 352.75,-120.88\"/>\n",
       "<ellipse fill=\"black\" stroke=\"black\" cx=\"354\" cy=\"-120.95\" rx=\"1\" ry=\"1\"/>\n",
       "<text text-anchor=\"middle\" x=\"336.5\" y=\"-100\" font-family=\"Times,serif\" font-size=\"10.00\">2048</text>\n",
       "</g>\n",
       "<!-- Join -->\n",
       "<g id=\"node7\" class=\"node\">\n",
       "<title>Join</title>\n",
       "<polygon fill=\"none\" stroke=\"black\" points=\"448,-71 448,-77 460,-77 460,-71 448,-71\"/>\n",
       "<polygon fill=\"none\" stroke=\"black\" points=\"448,-65 448,-71 454,-71 454,-65 448,-65\"/>\n",
       "<polygon fill=\"none\" stroke=\"black\" points=\"454,-53 454,-71 460,-71 460,-53 454,-53\"/>\n",
       "<polygon fill=\"none\" stroke=\"black\" points=\"448,-59 448,-65 454,-65 454,-59 448,-59\"/>\n",
       "<polygon fill=\"none\" stroke=\"black\" points=\"448,-53 448,-59 454,-59 454,-53 448,-53\"/>\n",
       "</g>\n",
       "<!-- CtrlModMul&#45;&gt;Join -->\n",
       "<g id=\"edge9\" class=\"edge\">\n",
       "<title>CtrlModMul:e-&gt;Join:w</title>\n",
       "<path fill=\"none\" stroke=\"black\" d=\"M318,-90C376.41,-90 388.61,-62.65 445.94,-62.01\"/>\n",
       "<ellipse fill=\"black\" stroke=\"black\" cx=\"447\" cy=\"-62.01\" rx=\"1\" ry=\"1\"/>\n",
       "<text text-anchor=\"middle\" x=\"383\" y=\"-89\" font-family=\"Times,serif\" font-size=\"10.00\">1</text>\n",
       "</g>\n",
       "<!-- CtrlModMul_G0&#45;&gt;CtrlModMul -->\n",
       "<g id=\"edge5\" class=\"edge\">\n",
       "<title>CtrlModMul_G0:e-&gt;CtrlModMul:w</title>\n",
       "<path fill=\"none\" stroke=\"black\" d=\"M225,-10C254.86,-10 232.53,-65.31 259.94,-67.91\"/>\n",
       "<ellipse fill=\"black\" stroke=\"black\" cx=\"261\" cy=\"-67.95\" rx=\"1\" ry=\"1\"/>\n",
       "<text text-anchor=\"middle\" x=\"243.5\" y=\"-46\" font-family=\"Times,serif\" font-size=\"10.00\">2048</text>\n",
       "</g>\n",
       "<!-- CtrlModMul_G0&#45;&gt;Join -->\n",
       "<g id=\"edge10\" class=\"edge\">\n",
       "<title>CtrlModMul_G0:e-&gt;Join:w</title>\n",
       "<path fill=\"none\" stroke=\"black\" d=\"M225,-32C324,-32 347.99,-55.67 445.97,-56\"/>\n",
       "<ellipse fill=\"black\" stroke=\"black\" cx=\"447\" cy=\"-56\" rx=\"1\" ry=\"1\"/>\n",
       "<text text-anchor=\"middle\" x=\"336.5\" y=\"-47\" font-family=\"Times,serif\" font-size=\"10.00\">1</text>\n",
       "</g>\n",
       "<!-- CtrlModMul_G3&#45;&gt;Join -->\n",
       "<g id=\"edge8\" class=\"edge\">\n",
       "<title>CtrlModMul_G3:e-&gt;Join:w</title>\n",
       "<path fill=\"none\" stroke=\"black\" d=\"M411,-143C428.86,-143 429.4,-73.74 445.91,-68.33\"/>\n",
       "<ellipse fill=\"black\" stroke=\"black\" cx=\"447.01\" cy=\"-68.16\" rx=\"1\" ry=\"1\"/>\n",
       "<text text-anchor=\"middle\" x=\"429.5\" y=\"-109\" font-family=\"Times,serif\" font-size=\"10.00\">1</text>\n",
       "</g>\n",
       "<!-- x_G18 -->\n",
       "<g id=\"node9\" class=\"node\">\n",
       "<title>x_G18</title>\n",
       "<text text-anchor=\"middle\" x=\"530\" y=\"-111.3\" font-family=\"Times,serif\" font-size=\"14.00\">x</text>\n",
       "</g>\n",
       "<!-- CtrlModMul_G3&#45;&gt;x_G18 -->\n",
       "<g id=\"edge12\" class=\"edge\">\n",
       "<title>CtrlModMul_G3:e-&gt;x_G18:w</title>\n",
       "<path fill=\"none\" stroke=\"black\" d=\"M411,-121C450.74,-121 461.07,-115.23 499.66,-115.01\"/>\n",
       "<ellipse fill=\"black\" stroke=\"black\" cx=\"501\" cy=\"-115\" rx=\"1\" ry=\"1\"/>\n",
       "<text text-anchor=\"middle\" x=\"454\" y=\"-122\" font-family=\"Times,serif\" font-size=\"10.00\">2048</text>\n",
       "</g>\n",
       "<!-- exponent_G15 -->\n",
       "<g id=\"node8\" class=\"node\">\n",
       "<title>exponent_G15</title>\n",
       "<text text-anchor=\"middle\" x=\"530\" y=\"-57.3\" font-family=\"Times,serif\" font-size=\"14.00\">exponent</text>\n",
       "</g>\n",
       "<!-- Join&#45;&gt;exponent_G15 -->\n",
       "<g id=\"edge11\" class=\"edge\">\n",
       "<title>Join:e-&gt;exponent_G15:w</title>\n",
       "<path fill=\"none\" stroke=\"black\" d=\"M460,-62C475.68,-62 480.14,-61.09 494.77,-61.01\"/>\n",
       "<ellipse fill=\"black\" stroke=\"black\" cx=\"496\" cy=\"-61\" rx=\"1\" ry=\"1\"/>\n",
       "<text text-anchor=\"middle\" x=\"478.5\" y=\"-65\" font-family=\"Times,serif\" font-size=\"10.00\">3</text>\n",
       "</g>\n",
       "</g>\n",
       "</svg>"
      ],
      "text/plain": [
       "<IPython.core.display.SVG object>"
      ]
     },
     "metadata": {},
     "output_type": "display_data"
    }
   ],
   "source": [
    "cbloq = bloq.decompose_bloq()\n",
    "show_bloq(cbloq)"
   ]
  },
  {
   "cell_type": "markdown",
   "id": "dd1b1238",
   "metadata": {},
   "source": [
    "### Larger exponent\n",
    "\n",
    "The number of `CtrlModMul` scales with the exponent bitsize."
   ]
  },
  {
   "cell_type": "code",
   "execution_count": 4,
   "id": "65944027",
   "metadata": {},
   "outputs": [
    {
     "data": {
      "image/png": "[encoded data removed]",
      "text/plain": [
       "<Figure size 800x600 with 1 Axes>"
      ]
     },
     "metadata": {},
     "output_type": "display_data"
    }
   ],
   "source": [
    "from qualtran.drawing import (\n",
    "    get_musical_score_data, draw_musical_score, dump_musical_score)\n",
    "\n",
    "bloq = ModExp(base=3, mod=15, exp_bitsize=8, x_bitsize=2048)\n",
    "msd_bloq = get_musical_score_data(bloq)\n",
    "dump_musical_score(msd_bloq, 'mod_exp_bloq')\n",
    "\n",
    "msd_cbloq = get_musical_score_data(bloq.decompose_bloq())\n",
    "dump_musical_score(msd_cbloq, 'mod_exp_cbloq')\n",
    "\n",
    "fig, ax = draw_musical_score(msd_cbloq)\n",
    "ax.axis('equal')\n",
    "ax.axis('off')\n",
    "fig.tight_layout()"
   ]
  },
  {
   "cell_type": "code",
   "execution_count": 5,
   "id": "358157b9",
   "metadata": {},
   "outputs": [
    {
     "data": {
      "text/plain": [
       "TComplexity(t=30294, clifford=1620, rotations=0)"
      ]
     },
     "execution_count": 5,
     "metadata": {},
     "output_type": "execute_result"
    }
   ],
   "source": [
    "# We can quickly count up the number of T-gates required to factor a number\n",
    "ModExp.make_for_shor(17*19, g=8).t_complexity()"
   ]
  },
  {
   "cell_type": "markdown",
   "id": "bdd6f948",
   "metadata": {},
   "source": [
    "### Symbolic\n",
    "\n",
    "`ModExp` supports symbolic parameters. If we use the `make_for_shors` constructor, everything is in terms of the ceil of the base-two logarithm of the composite number."
   ]
  },
  {
   "cell_type": "code",
   "execution_count": 6,
   "id": "38fb1969",
   "metadata": {},
   "outputs": [
    {
     "data": {
      "text/plain": [
       "'exponent'"
      ]
     },
     "metadata": {},
     "output_type": "display_data"
    },
    {
     "data": {
      "text/latex": [
       "$\\displaystyle 2 \\left\\lceil{\\frac{\\log{\\left(N \\right)}}{\\log{\\left(2 \\right)}}}\\right\\rceil$"
      ],
      "text/plain": [
       "2*ceiling(log(N)/log(2))"
      ]
     },
     "metadata": {},
     "output_type": "display_data"
    },
    {
     "data": {
      "text/plain": [
       "'x'"
      ]
     },
     "metadata": {},
     "output_type": "display_data"
    },
    {
     "data": {
      "text/latex": [
       "$\\displaystyle \\left\\lceil{\\frac{\\log{\\left(N \\right)}}{\\log{\\left(2 \\right)}}}\\right\\rceil$"
      ],
      "text/plain": [
       "ceiling(log(N)/log(2))"
      ]
     },
     "metadata": {},
     "output_type": "display_data"
    }
   ],
   "source": [
    "import sympy\n",
    "g, N = sympy.symbols('g N')\n",
    "bloq = ModExp.make_for_shor(big_n=N, g=g)\n",
    "for reg in bloq.signature:\n",
    "    display(reg.name, reg.bitsize)"
   ]
  },
  {
   "cell_type": "markdown",
   "id": "d461fabc",
   "metadata": {},
   "source": [
    "To avoid clutter, we'll use more specific sympy symbols"
   ]
  },
  {
   "cell_type": "code",
   "execution_count": 7,
   "id": "a370b2ba",
   "metadata": {},
   "outputs": [
    {
     "data": {
      "image/svg+xml": [
       "<svg xmlns=\"http://www.w3.org/2000/svg\" xmlns:xlink=\"http://www.w3.org/1999/xlink\" width=\"270pt\" height=\"98pt\" viewBox=\"0.00 0.00 270.00 98.00\">\n",
       "<g id=\"graph0\" class=\"graph\" transform=\"scale(1 1) rotate(0) translate(4 94)\">\n",
       "<title>my_graph</title>\n",
       "<polygon fill=\"white\" stroke=\"transparent\" points=\"-4,4 -4,-94 266,-94 266,4 -4,4\"/>\n",
       "<!-- exponent_G2 -->\n",
       "<g id=\"node1\" class=\"node\">\n",
       "<title>exponent_G2</title>\n",
       "<text text-anchor=\"middle\" x=\"33\" y=\"-52.3\" font-family=\"Times,serif\" font-size=\"14.00\">exponent</text>\n",
       "</g>\n",
       "<!-- ModExp -->\n",
       "<g id=\"node2\" class=\"node\">\n",
       "<title>ModExp</title>\n",
       "<polygon fill=\"none\" stroke=\"black\" points=\"103,-66 103,-83 159,-83 159,-66 103,-66\"/>\n",
       "<text text-anchor=\"start\" x=\"113.5\" y=\"-72\" font-family=\"Times,serif\" font-size=\"10.00\">g^e % N</text>\n",
       "<polygon fill=\"none\" stroke=\"black\" points=\"103,-45 103,-66 159,-66 159,-45 103,-45\"/>\n",
       "<text text-anchor=\"start\" x=\"106\" y=\"-51.8\" font-family=\"Times,serif\" font-size=\"14.00\">exponent</text>\n",
       "<polygon fill=\"none\" stroke=\"black\" points=\"103,-24 103,-45 127,-45 127,-24 103,-24\"/>\n",
       "<polygon fill=\"none\" stroke=\"black\" points=\"127,-24 127,-45 159,-45 159,-24 127,-24\"/>\n",
       "<text text-anchor=\"start\" x=\"139.5\" y=\"-30.8\" font-family=\"Times,serif\" font-size=\"14.00\">x</text>\n",
       "</g>\n",
       "<!-- exponent_G2&#45;&gt;ModExp -->\n",
       "<g id=\"edge1\" class=\"edge\">\n",
       "<title>exponent_G2:e-&gt;ModExp:w</title>\n",
       "<path fill=\"none\" stroke=\"black\" d=\"M66,-56C81.67,-56 86.14,-56 100.77,-56\"/>\n",
       "<ellipse fill=\"black\" stroke=\"black\" cx=\"102\" cy=\"-56\" rx=\"1\" ry=\"1\"/>\n",
       "<text text-anchor=\"middle\" x=\"84.5\" y=\"-59\" font-family=\"Times,serif\" font-size=\"10.00\">n_e</text>\n",
       "</g>\n",
       "<!-- exponent_G4 -->\n",
       "<g id=\"node3\" class=\"node\">\n",
       "<title>exponent_G4</title>\n",
       "<text text-anchor=\"middle\" x=\"229\" y=\"-68.3\" font-family=\"Times,serif\" font-size=\"14.00\">exponent</text>\n",
       "</g>\n",
       "<!-- ModExp&#45;&gt;exponent_G4 -->\n",
       "<g id=\"edge2\" class=\"edge\">\n",
       "<title>ModExp:e-&gt;exponent_G4:w</title>\n",
       "<path fill=\"none\" stroke=\"black\" d=\"M159,-56C176.22,-56 177.97,-70.77 193.98,-71.93\"/>\n",
       "<ellipse fill=\"black\" stroke=\"black\" cx=\"195\" cy=\"-71.96\" rx=\"1\" ry=\"1\"/>\n",
       "<text text-anchor=\"middle\" x=\"177.5\" y=\"-67\" font-family=\"Times,serif\" font-size=\"10.00\">n_e</text>\n",
       "</g>\n",
       "<!-- x_G1 -->\n",
       "<g id=\"node4\" class=\"node\">\n",
       "<title>x_G1</title>\n",
       "<text text-anchor=\"middle\" x=\"229\" y=\"-14.3\" font-family=\"Times,serif\" font-size=\"14.00\">x</text>\n",
       "</g>\n",
       "<!-- ModExp&#45;&gt;x_G1 -->\n",
       "<g id=\"edge3\" class=\"edge\">\n",
       "<title>ModExp:e-&gt;x_G1:w</title>\n",
       "<path fill=\"none\" stroke=\"black\" d=\"M159,-34C178.2,-34 180.84,-19.23 198.74,-18.07\"/>\n",
       "<ellipse fill=\"black\" stroke=\"black\" cx=\"200\" cy=\"-18.03\" rx=\"1\" ry=\"1\"/>\n",
       "<text text-anchor=\"middle\" x=\"177.5\" y=\"-31\" font-family=\"Times,serif\" font-size=\"10.00\">n_x</text>\n",
       "</g>\n",
       "</g>\n",
       "</svg>"
      ],
      "text/plain": [
       "<IPython.core.display.SVG object>"
      ]
     },
     "metadata": {},
     "output_type": "display_data"
    }
   ],
   "source": [
    "g, N, n_e, n_x = sympy.symbols('g N n_e, n_x')\n",
    "bloq = ModExp(base=g, mod=N, exp_bitsize=n_e, x_bitsize=n_x)\n",
    "show_bloq(bloq)"
   ]
  },
  {
   "cell_type": "code",
   "execution_count": 8,
   "id": "5d08252a",
   "metadata": {},
   "outputs": [
    {
     "data": {
      "text/latex": [
       "$\\displaystyle g^{b} \\bmod N$"
      ],
      "text/plain": [
       "Mod(g**b, N)"
      ]
     },
     "execution_count": 8,
     "metadata": {},
     "output_type": "execute_result"
    }
   ],
   "source": [
    "b, x = bloq.call_classically(exponent=sympy.Symbol('b'))\n",
    "x"
   ]
  },
  {
   "cell_type": "markdown",
   "id": "e60ed071",
   "metadata": {},
   "source": [
    "### Bloq counts\n",
    "\n",
    "We can see how the modular arithmetic functions decompose into other bloqs until we get to something that can be expressed with T gates."
   ]
  },
  {
   "cell_type": "code",
   "execution_count": 9,
   "id": "da17e8e3",
   "metadata": {
    "scrolled": false
   },
   "outputs": [
    {
     "data": {
      "image/svg+xml": [
       "<svg xmlns=\"http://www.w3.org/2000/svg\" xmlns:xlink=\"http://www.w3.org/1999/xlink\" width=\"478pt\" height=\"479pt\" viewBox=\"0.00 0.00 477.50 479.00\">\n",
       "<g id=\"graph0\" class=\"graph\" transform=\"scale(1 1) rotate(0) translate(4 475)\">\n",
       "<title>counts</title>\n",
       "<polygon fill=\"white\" stroke=\"transparent\" points=\"-4,4 -4,-475 473.5,-475 473.5,4 -4,4\"/>\n",
       "<!-- b0 -->\n",
       "<g id=\"node1\" class=\"node\">\n",
       "<title>b0</title>\n",
       "<polygon fill=\"none\" stroke=\"black\" points=\"342,-471 55,-471 55,-435 342,-435 342,-471\"/>\n",
       "<text text-anchor=\"start\" x=\"174\" y=\"-454.8\" font-family=\"Times,serif\" font-size=\"14.00\">ModExp</text>\n",
       "<text text-anchor=\"start\" x=\"63\" y=\"-444\" font-family=\"monospace\" font-size=\"10.00\">base=g, mod=N, exp_bitsize=n_e, x_bitsize=n_x</text>\n",
       "</g>\n",
       "<!-- b1 -->\n",
       "<g id=\"node2\" class=\"node\">\n",
       "<title>b1</title>\n",
       "<polygon fill=\"none\" stroke=\"black\" points=\"197,-384 0,-384 0,-348 197,-348 197,-384\"/>\n",
       "<text text-anchor=\"start\" x=\"89\" y=\"-367.8\" font-family=\"Times,serif\" font-size=\"14.00\">|1&gt;</text>\n",
       "<text text-anchor=\"start\" x=\"8\" y=\"-357\" font-family=\"monospace\" font-size=\"10.00\">val=1, bitsize=n_x, state=True</text>\n",
       "</g>\n",
       "<!-- b0&#45;&gt;b1 -->\n",
       "<g id=\"edge1\" class=\"edge\">\n",
       "<title>b0-&gt;b1</title>\n",
       "<path fill=\"none\" stroke=\"black\" d=\"M178.26,-434.8C163.35,-422.13 142.89,-404.73 126.43,-390.74\"/>\n",
       "<polygon fill=\"black\" stroke=\"black\" points=\"128.59,-387.99 118.71,-384.18 124.06,-393.32 128.59,-387.99\"/>\n",
       "<text text-anchor=\"middle\" x=\"158\" y=\"-405.8\" font-family=\"Times,serif\" font-size=\"14.00\">1</text>\n",
       "</g>\n",
       "<!-- b2 -->\n",
       "<g id=\"node3\" class=\"node\">\n",
       "<title>b2</title>\n",
       "<polygon fill=\"none\" stroke=\"black\" points=\"382,-384 215,-384 215,-348 382,-348 382,-384\"/>\n",
       "<text text-anchor=\"start\" x=\"263\" y=\"-367.8\" font-family=\"Times,serif\" font-size=\"14.00\">CtrlModMul</text>\n",
       "<text text-anchor=\"start\" x=\"223\" y=\"-357\" font-family=\"monospace\" font-size=\"10.00\">k=_k0, mod=N, bitsize=n_x</text>\n",
       "</g>\n",
       "<!-- b0&#45;&gt;b2 -->\n",
       "<g id=\"edge2\" class=\"edge\">\n",
       "<title>b0-&gt;b2</title>\n",
       "<path fill=\"none\" stroke=\"black\" d=\"M218.74,-434.8C233.65,-422.13 254.11,-404.73 270.57,-390.74\"/>\n",
       "<polygon fill=\"black\" stroke=\"black\" points=\"272.94,-393.32 278.29,-384.18 268.41,-387.99 272.94,-393.32\"/>\n",
       "<text text-anchor=\"middle\" x=\"260\" y=\"-405.8\" font-family=\"Times,serif\" font-size=\"14.00\">nₑ</text>\n",
       "</g>\n",
       "<!-- b3 -->\n",
       "<g id=\"node4\" class=\"node\">\n",
       "<title>b3</title>\n",
       "<polygon fill=\"none\" stroke=\"black\" points=\"153.5,-297 43.5,-297 43.5,-261 153.5,-261 153.5,-297\"/>\n",
       "<text text-anchor=\"start\" x=\"51.5\" y=\"-280.8\" font-family=\"Times,serif\" font-size=\"14.00\">ArbitraryClifford</text>\n",
       "<text text-anchor=\"start\" x=\"83\" y=\"-270\" font-family=\"monospace\" font-size=\"10.00\">n=n_x</text>\n",
       "</g>\n",
       "<!-- b1&#45;&gt;b3 -->\n",
       "<g id=\"edge3\" class=\"edge\">\n",
       "<title>b1-&gt;b3</title>\n",
       "<path fill=\"none\" stroke=\"black\" d=\"M98.5,-347.8C98.5,-336.16 98.5,-320.55 98.5,-307.24\"/>\n",
       "<polygon fill=\"black\" stroke=\"black\" points=\"102,-307.18 98.5,-297.18 95,-307.18 102,-307.18\"/>\n",
       "<text text-anchor=\"middle\" x=\"111.5\" y=\"-318.8\" font-family=\"Times,serif\" font-size=\"14.00\">O(1)</text>\n",
       "</g>\n",
       "<!-- b4 -->\n",
       "<g id=\"node5\" class=\"node\">\n",
       "<title>b4</title>\n",
       "<polygon fill=\"none\" stroke=\"black\" points=\"345,-297 178,-297 178,-261 345,-261 345,-297\"/>\n",
       "<text text-anchor=\"start\" x=\"211.5\" y=\"-280.8\" font-family=\"Times,serif\" font-size=\"14.00\">CtrlScaleModAdd</text>\n",
       "<text text-anchor=\"start\" x=\"186\" y=\"-270\" font-family=\"monospace\" font-size=\"10.00\">k=_k1, mod=N, bitsize=n_x</text>\n",
       "</g>\n",
       "<!-- b2&#45;&gt;b4 -->\n",
       "<g id=\"edge4\" class=\"edge\">\n",
       "<title>b2-&gt;b4</title>\n",
       "<path fill=\"none\" stroke=\"black\" d=\"M291.01,-347.8C285.85,-335.93 278.88,-319.93 273.01,-306.45\"/>\n",
       "<polygon fill=\"black\" stroke=\"black\" points=\"276.18,-304.95 268.98,-297.18 269.76,-307.74 276.18,-304.95\"/>\n",
       "<text text-anchor=\"middle\" x=\"286\" y=\"-318.8\" font-family=\"Times,serif\" font-size=\"14.00\">2</text>\n",
       "</g>\n",
       "<!-- b5 -->\n",
       "<g id=\"node6\" class=\"node\">\n",
       "<title>b5</title>\n",
       "<polygon fill=\"none\" stroke=\"black\" points=\"448,-297 365,-297 365,-261 448,-261 448,-297\"/>\n",
       "<text text-anchor=\"start\" x=\"386.5\" y=\"-280.8\" font-family=\"Times,serif\" font-size=\"14.00\">CSwap</text>\n",
       "<text text-anchor=\"start\" x=\"373\" y=\"-270\" font-family=\"monospace\" font-size=\"10.00\">bitsize=n_x</text>\n",
       "</g>\n",
       "<!-- b2&#45;&gt;b5 -->\n",
       "<g id=\"edge5\" class=\"edge\">\n",
       "<title>b2-&gt;b5</title>\n",
       "<path fill=\"none\" stroke=\"black\" d=\"M320.36,-347.8C336.46,-335.13 358.56,-317.73 376.34,-303.74\"/>\n",
       "<polygon fill=\"black\" stroke=\"black\" points=\"378.98,-306.11 384.68,-297.18 374.65,-300.61 378.98,-306.11\"/>\n",
       "<text text-anchor=\"middle\" x=\"363\" y=\"-318.8\" font-family=\"Times,serif\" font-size=\"14.00\">1</text>\n",
       "</g>\n",
       "<!-- b6 -->\n",
       "<g id=\"node7\" class=\"node\">\n",
       "<title>b6</title>\n",
       "<polygon fill=\"none\" stroke=\"black\" points=\"341,-210 174,-210 174,-174 341,-174 341,-210\"/>\n",
       "<text text-anchor=\"start\" x=\"217\" y=\"-193.8\" font-family=\"Times,serif\" font-size=\"14.00\">CtrlModAddK</text>\n",
       "<text text-anchor=\"start\" x=\"182\" y=\"-183\" font-family=\"monospace\" font-size=\"10.00\">k=_k2, mod=N, bitsize=n_x</text>\n",
       "</g>\n",
       "<!-- b4&#45;&gt;b6 -->\n",
       "<g id=\"edge6\" class=\"edge\">\n",
       "<title>b4-&gt;b6</title>\n",
       "<path fill=\"none\" stroke=\"black\" d=\"M260.69,-260.8C260.14,-249.16 259.41,-233.55 258.78,-220.24\"/>\n",
       "<polygon fill=\"black\" stroke=\"black\" points=\"262.27,-220 258.31,-210.18 255.28,-220.33 262.27,-220\"/>\n",
       "<text text-anchor=\"middle\" x=\"266\" y=\"-231.8\" font-family=\"Times,serif\" font-size=\"14.00\">nₓ</text>\n",
       "</g>\n",
       "<!-- b7 -->\n",
       "<g id=\"node8\" class=\"node\">\n",
       "<title>b7</title>\n",
       "<polygon fill=\"none\" stroke=\"black\" points=\"456,-210 359,-210 359,-174 456,-174 456,-210\"/>\n",
       "<text text-anchor=\"start\" x=\"367\" y=\"-188.3\" font-family=\"Times,serif\" font-size=\"14.00\">TwoBitCSwap</text>\n",
       "</g>\n",
       "<!-- b5&#45;&gt;b7 -->\n",
       "<g id=\"edge9\" class=\"edge\">\n",
       "<title>b5-&gt;b7</title>\n",
       "<path fill=\"none\" stroke=\"black\" d=\"M406.7,-260.8C406.84,-249.16 407.02,-233.55 407.18,-220.24\"/>\n",
       "<polygon fill=\"black\" stroke=\"black\" points=\"410.68,-220.22 407.3,-210.18 403.68,-220.13 410.68,-220.22\"/>\n",
       "<text text-anchor=\"middle\" x=\"413\" y=\"-231.8\" font-family=\"Times,serif\" font-size=\"14.00\">nₓ</text>\n",
       "</g>\n",
       "<!-- b8 -->\n",
       "<g id=\"node9\" class=\"node\">\n",
       "<title>b8</title>\n",
       "<polygon fill=\"none\" stroke=\"black\" points=\"320,-123 195,-123 195,-87 320,-87 320,-123\"/>\n",
       "<text text-anchor=\"start\" x=\"230\" y=\"-106.8\" font-family=\"Times,serif\" font-size=\"14.00\">CtrlAddK</text>\n",
       "<text text-anchor=\"start\" x=\"203\" y=\"-96\" font-family=\"monospace\" font-size=\"10.00\">k=_k3, bitsize=n_x</text>\n",
       "</g>\n",
       "<!-- b6&#45;&gt;b8 -->\n",
       "<g id=\"edge7\" class=\"edge\">\n",
       "<title>b6-&gt;b8</title>\n",
       "<path fill=\"none\" stroke=\"black\" d=\"M257.5,-173.8C257.5,-162.16 257.5,-146.55 257.5,-133.24\"/>\n",
       "<polygon fill=\"black\" stroke=\"black\" points=\"261,-133.18 257.5,-123.18 254,-133.18 261,-133.18\"/>\n",
       "<text text-anchor=\"middle\" x=\"261\" y=\"-144.8\" font-family=\"Times,serif\" font-size=\"14.00\">5</text>\n",
       "</g>\n",
       "<!-- b9 -->\n",
       "<g id=\"node10\" class=\"node\">\n",
       "<title>b9</title>\n",
       "<polygon fill=\"none\" stroke=\"black\" points=\"448.5,-123 338.5,-123 338.5,-87 448.5,-87 448.5,-123\"/>\n",
       "<text text-anchor=\"start\" x=\"346.5\" y=\"-106.8\" font-family=\"Times,serif\" font-size=\"14.00\">ArbitraryClifford</text>\n",
       "<text text-anchor=\"start\" x=\"384\" y=\"-96\" font-family=\"monospace\" font-size=\"10.00\">n=3</text>\n",
       "</g>\n",
       "<!-- b7&#45;&gt;b9 -->\n",
       "<g id=\"edge11\" class=\"edge\">\n",
       "<title>b7-&gt;b9</title>\n",
       "<path fill=\"none\" stroke=\"black\" d=\"M404.67,-173.8C402.75,-162.16 400.18,-146.55 397.99,-133.24\"/>\n",
       "<polygon fill=\"black\" stroke=\"black\" points=\"401.41,-132.47 396.33,-123.18 394.5,-133.61 401.41,-132.47\"/>\n",
       "<text text-anchor=\"middle\" x=\"408.5\" y=\"-144.8\" font-family=\"Times,serif\" font-size=\"14.00\">10</text>\n",
       "</g>\n",
       "<!-- b10 -->\n",
       "<g id=\"node11\" class=\"node\">\n",
       "<title>b10</title>\n",
       "<polygon fill=\"none\" stroke=\"black\" points=\"427,-36 314,-36 314,0 427,0 427,-36\"/>\n",
       "<text text-anchor=\"start\" x=\"366\" y=\"-19.8\" font-family=\"Times,serif\" font-size=\"14.00\">T</text>\n",
       "<text text-anchor=\"start\" x=\"322\" y=\"-9\" font-family=\"monospace\" font-size=\"10.00\">is_adjoint=False</text>\n",
       "</g>\n",
       "<!-- b7&#45;&gt;b10 -->\n",
       "<g id=\"edge10\" class=\"edge\">\n",
       "<title>b7-&gt;b10</title>\n",
       "<path fill=\"none\" stroke=\"black\" d=\"M426.04,-173.67C445.8,-153.01 472.34,-117.43 457.5,-87 448.27,-68.07 430.94,-52.87 414.16,-41.67\"/>\n",
       "<polygon fill=\"black\" stroke=\"black\" points=\"415.81,-38.57 405.49,-36.19 412.07,-44.49 415.81,-38.57\"/>\n",
       "<text text-anchor=\"middle\" x=\"466\" y=\"-101.3\" font-family=\"Times,serif\" font-size=\"14.00\">7</text>\n",
       "</g>\n",
       "<!-- b8&#45;&gt;b10 -->\n",
       "<g id=\"edge8\" class=\"edge\">\n",
       "<title>b8-&gt;b10</title>\n",
       "<path fill=\"none\" stroke=\"black\" d=\"M280.37,-86.8C297.37,-74.01 320.76,-56.42 339.45,-42.36\"/>\n",
       "<polygon fill=\"black\" stroke=\"black\" points=\"341.78,-44.98 347.67,-36.18 337.57,-39.39 341.78,-44.98\"/>\n",
       "<text text-anchor=\"middle\" x=\"332.5\" y=\"-57.8\" font-family=\"Times,serif\" font-size=\"14.00\">2⋅nₓ</text>\n",
       "</g>\n",
       "</g>\n",
       "</svg>"
      ],
      "text/plain": [
       "<IPython.core.display.SVG object>"
      ]
     },
     "metadata": {},
     "output_type": "display_data"
    },
    {
     "data": {
      "text/markdown": [
       "#### Counts totals:\n",
       " - `ArbitraryClifford(n=3)`: $\\displaystyle 10 n_{e} n_{x}$\n",
       " - `ArbitraryClifford(n=n_x)`: $\\displaystyle O\\left(1\\right)$\n",
       " - `TGate()`: $\\displaystyle n_{e} \\left(20 n_{x}^{2} + 7 n_{x}\\right)$"
      ],
      "text/plain": [
       "<IPython.core.display.Markdown object>"
      ]
     },
     "metadata": {},
     "output_type": "display_data"
    }
   ],
   "source": [
    "from qualtran.drawing import show_call_graph, show_counts_sigma\n",
    "\n",
    "g, sigma = bloq.call_graph()\n",
    "show_call_graph(g)\n",
    "show_counts_sigma(sigma)"
   ]
  },
  {
   "cell_type": "markdown",
   "id": "55250b32",
   "metadata": {
    "cq.autogen": "_make_modmul.md"
   },
   "source": [
    "## `CtrlModMul`\n",
    "Perform controlled `x *= k mod m` for constant k, m and variable x.\n",
    "\n",
    "#### Parameters\n",
    " - `k`: The integer multiplicative constant.\n",
    " - `mod`: The integer modulus.\n",
    " - `bitsize`: The size of the `x` register. \n",
    "\n",
    "#### Registers\n",
    " - `ctrl`: The control bit\n",
    " - `x`: The integer being multiplied\n"
   ]
  },
  {
   "cell_type": "code",
   "execution_count": 10,
   "id": "7cefa340",
   "metadata": {
    "cq.autogen": "_make_modmul.py"
   },
   "outputs": [
    {
     "data": {
      "image/svg+xml": [
       "<svg xmlns=\"http://www.w3.org/2000/svg\" xmlns:xlink=\"http://www.w3.org/1999/xlink\" width=\"262pt\" height=\"98pt\" viewBox=\"0.00 0.00 262.00 98.00\">\n",
       "<g id=\"graph0\" class=\"graph\" transform=\"scale(1 1) rotate(0) translate(4 94)\">\n",
       "<title>my_graph</title>\n",
       "<polygon fill=\"white\" stroke=\"transparent\" points=\"-4,4 -4,-94 258,-94 258,4 -4,4\"/>\n",
       "<!-- ctrl_G5 -->\n",
       "<g id=\"node1\" class=\"node\">\n",
       "<title>ctrl_G5</title>\n",
       "<text text-anchor=\"middle\" x=\"27\" y=\"-68.3\" font-family=\"Times,serif\" font-size=\"14.00\">ctrl</text>\n",
       "</g>\n",
       "<!-- CtrlModMul -->\n",
       "<g id=\"node3\" class=\"node\">\n",
       "<title>CtrlModMul</title>\n",
       "<polygon fill=\"none\" stroke=\"black\" points=\"91,-66 91,-83 163,-83 163,-66 91,-66\"/>\n",
       "<text text-anchor=\"start\" x=\"94\" y=\"-72\" font-family=\"Times,serif\" font-size=\"10.00\">x *= 123 % 221</text>\n",
       "<polygon fill=\"none\" stroke=\"black\" points=\"91,-45 91,-66 163,-66 163,-45 91,-45\"/>\n",
       "<text text-anchor=\"start\" x=\"117.5\" y=\"-51.8\" font-family=\"Times,serif\" font-size=\"14.00\">ctrl</text>\n",
       "<polygon fill=\"none\" stroke=\"black\" points=\"91,-24 91,-45 163,-45 163,-24 91,-24\"/>\n",
       "<text text-anchor=\"start\" x=\"123.5\" y=\"-30.8\" font-family=\"Times,serif\" font-size=\"14.00\">x</text>\n",
       "</g>\n",
       "<!-- ctrl_G5&#45;&gt;CtrlModMul -->\n",
       "<g id=\"edge1\" class=\"edge\">\n",
       "<title>ctrl_G5:e-&gt;CtrlModMul:w</title>\n",
       "<path fill=\"none\" stroke=\"black\" d=\"M54,-72C71.22,-72 72.97,-57.23 88.98,-56.07\"/>\n",
       "<ellipse fill=\"black\" stroke=\"black\" cx=\"90\" cy=\"-56.04\" rx=\"1\" ry=\"1\"/>\n",
       "<text text-anchor=\"middle\" x=\"72.5\" y=\"-67\" font-family=\"Times,serif\" font-size=\"10.00\">1</text>\n",
       "</g>\n",
       "<!-- x_G3 -->\n",
       "<g id=\"node2\" class=\"node\">\n",
       "<title>x_G3</title>\n",
       "<text text-anchor=\"middle\" x=\"27\" y=\"-14.3\" font-family=\"Times,serif\" font-size=\"14.00\">x</text>\n",
       "</g>\n",
       "<!-- x_G3&#45;&gt;CtrlModMul -->\n",
       "<g id=\"edge2\" class=\"edge\">\n",
       "<title>x_G3:e-&gt;CtrlModMul:w</title>\n",
       "<path fill=\"none\" stroke=\"black\" d=\"M54,-18C71.22,-18 72.97,-32.77 88.98,-33.93\"/>\n",
       "<ellipse fill=\"black\" stroke=\"black\" cx=\"90\" cy=\"-33.96\" rx=\"1\" ry=\"1\"/>\n",
       "<text text-anchor=\"middle\" x=\"72.5\" y=\"-29\" font-family=\"Times,serif\" font-size=\"10.00\">8</text>\n",
       "</g>\n",
       "<!-- ctrl_G0 -->\n",
       "<g id=\"node4\" class=\"node\">\n",
       "<title>ctrl_G0</title>\n",
       "<text text-anchor=\"middle\" x=\"227\" y=\"-68.3\" font-family=\"Times,serif\" font-size=\"14.00\">ctrl</text>\n",
       "</g>\n",
       "<!-- CtrlModMul&#45;&gt;ctrl_G0 -->\n",
       "<g id=\"edge3\" class=\"edge\">\n",
       "<title>CtrlModMul:e-&gt;ctrl_G0:w</title>\n",
       "<path fill=\"none\" stroke=\"black\" d=\"M163,-56C180.22,-56 181.97,-70.77 197.98,-71.93\"/>\n",
       "<ellipse fill=\"black\" stroke=\"black\" cx=\"199\" cy=\"-71.96\" rx=\"1\" ry=\"1\"/>\n",
       "<text text-anchor=\"middle\" x=\"181.5\" y=\"-67\" font-family=\"Times,serif\" font-size=\"10.00\">1</text>\n",
       "</g>\n",
       "<!-- x_G1 -->\n",
       "<g id=\"node5\" class=\"node\">\n",
       "<title>x_G1</title>\n",
       "<text text-anchor=\"middle\" x=\"227\" y=\"-14.3\" font-family=\"Times,serif\" font-size=\"14.00\">x</text>\n",
       "</g>\n",
       "<!-- CtrlModMul&#45;&gt;x_G1 -->\n",
       "<g id=\"edge4\" class=\"edge\">\n",
       "<title>CtrlModMul:e-&gt;x_G1:w</title>\n",
       "<path fill=\"none\" stroke=\"black\" d=\"M163,-34C180.22,-34 181.97,-19.23 197.98,-18.07\"/>\n",
       "<ellipse fill=\"black\" stroke=\"black\" cx=\"199\" cy=\"-18.04\" rx=\"1\" ry=\"1\"/>\n",
       "<text text-anchor=\"middle\" x=\"181.5\" y=\"-29\" font-family=\"Times,serif\" font-size=\"10.00\">8</text>\n",
       "</g>\n",
       "</g>\n",
       "</svg>"
      ],
      "text/plain": [
       "<IPython.core.display.SVG object>"
      ]
     },
     "metadata": {},
     "output_type": "display_data"
    }
   ],
   "source": [
    "from qualtran.bloqs.factoring.mod_mul import CtrlModMul\n",
    "\n",
    "bloq = CtrlModMul(k=123, mod=13 * 17, bitsize=8)\n",
    "show_bloq(bloq)"
   ]
  },
  {
   "cell_type": "code",
   "execution_count": 11,
   "id": "6986e674",
   "metadata": {},
   "outputs": [
    {
     "data": {
      "image/svg+xml": [
       "<svg xmlns=\"http://www.w3.org/2000/svg\" xmlns:xlink=\"http://www.w3.org/1999/xlink\" width=\"521pt\" height=\"158pt\" viewBox=\"0.00 0.00 521.00 158.00\">\n",
       "<g id=\"graph0\" class=\"graph\" transform=\"scale(1 1) rotate(0) translate(4 154)\">\n",
       "<title>my_graph</title>\n",
       "<polygon fill=\"white\" stroke=\"transparent\" points=\"-4,4 -4,-154 517,-154 517,4 -4,4\"/>\n",
       "<!-- ctrl_G21 -->\n",
       "<g id=\"node1\" class=\"node\">\n",
       "<title>ctrl_G21</title>\n",
       "<text text-anchor=\"middle\" x=\"27\" y=\"-124.3\" font-family=\"Times,serif\" font-size=\"14.00\">ctrl</text>\n",
       "</g>\n",
       "<!-- CtrlScaleModAdd -->\n",
       "<g id=\"node4\" class=\"node\">\n",
       "<title>CtrlScaleModAdd</title>\n",
       "<polygon fill=\"none\" stroke=\"black\" points=\"91.5,-106 91.5,-123 174.5,-123 174.5,-106 91.5,-106\"/>\n",
       "<text text-anchor=\"start\" x=\"94.5\" y=\"-112\" font-family=\"Times,serif\" font-size=\"10.00\">y += x*123 % 221</text>\n",
       "<polygon fill=\"none\" stroke=\"black\" points=\"91.5,-85 91.5,-106 174.5,-106 174.5,-85 91.5,-85\"/>\n",
       "<text text-anchor=\"start\" x=\"123.5\" y=\"-91.8\" font-family=\"Times,serif\" font-size=\"14.00\">ctrl</text>\n",
       "<polygon fill=\"none\" stroke=\"black\" points=\"91.5,-64 91.5,-85 174.5,-85 174.5,-64 91.5,-64\"/>\n",
       "<text text-anchor=\"start\" x=\"129.5\" y=\"-70.8\" font-family=\"Times,serif\" font-size=\"14.00\">x</text>\n",
       "<polygon fill=\"none\" stroke=\"black\" points=\"91.5,-43 91.5,-64 174.5,-64 174.5,-43 91.5,-43\"/>\n",
       "<text text-anchor=\"start\" x=\"129.5\" y=\"-49.8\" font-family=\"Times,serif\" font-size=\"14.00\">y</text>\n",
       "</g>\n",
       "<!-- ctrl_G21&#45;&gt;CtrlScaleModAdd -->\n",
       "<g id=\"edge1\" class=\"edge\">\n",
       "<title>ctrl_G21:e-&gt;CtrlScaleModAdd:w</title>\n",
       "<path fill=\"none\" stroke=\"black\" d=\"M54,-128C74.89,-128 69.72,-98.45 88.58,-96.14\"/>\n",
       "<ellipse fill=\"black\" stroke=\"black\" cx=\"90\" cy=\"-96.06\" rx=\"1\" ry=\"1\"/>\n",
       "<text text-anchor=\"middle\" x=\"72.5\" y=\"-115\" font-family=\"Times,serif\" font-size=\"10.00\">1</text>\n",
       "</g>\n",
       "<!-- x_G18 -->\n",
       "<g id=\"node2\" class=\"node\">\n",
       "<title>x_G18</title>\n",
       "<text text-anchor=\"middle\" x=\"27\" y=\"-70.3\" font-family=\"Times,serif\" font-size=\"14.00\">x</text>\n",
       "</g>\n",
       "<!-- x_G18&#45;&gt;CtrlScaleModAdd -->\n",
       "<g id=\"edge2\" class=\"edge\">\n",
       "<title>x_G18:e-&gt;CtrlScaleModAdd:w</title>\n",
       "<path fill=\"none\" stroke=\"black\" d=\"M54,-74C69.67,-74 74.14,-74 88.77,-74\"/>\n",
       "<ellipse fill=\"black\" stroke=\"black\" cx=\"90\" cy=\"-74\" rx=\"1\" ry=\"1\"/>\n",
       "<text text-anchor=\"middle\" x=\"72.5\" y=\"-77\" font-family=\"Times,serif\" font-size=\"10.00\">8</text>\n",
       "</g>\n",
       "<!-- CSwap -->\n",
       "<g id=\"node3\" class=\"node\">\n",
       "<title>CSwap</title>\n",
       "<polygon fill=\"none\" stroke=\"black\" points=\"333.5,-110 333.5,-127 422.5,-127 422.5,-110 333.5,-110\"/>\n",
       "<text text-anchor=\"start\" x=\"336.5\" y=\"-116\" font-family=\"Times,serif\" font-size=\"10.00\">$x\\leftrightarrow y$</text>\n",
       "<polygon fill=\"none\" stroke=\"black\" points=\"333.5,-89 333.5,-110 422.5,-110 422.5,-89 333.5,-89\"/>\n",
       "<text text-anchor=\"start\" x=\"368.5\" y=\"-95.8\" font-family=\"Times,serif\" font-size=\"14.00\">ctrl</text>\n",
       "<polygon fill=\"none\" stroke=\"black\" points=\"333.5,-68 333.5,-89 422.5,-89 422.5,-68 333.5,-68\"/>\n",
       "<text text-anchor=\"start\" x=\"374.5\" y=\"-74.8\" font-family=\"Times,serif\" font-size=\"14.00\">x</text>\n",
       "<polygon fill=\"none\" stroke=\"black\" points=\"333.5,-47 333.5,-68 422.5,-68 422.5,-47 333.5,-47\"/>\n",
       "<text text-anchor=\"start\" x=\"374.5\" y=\"-53.8\" font-family=\"Times,serif\" font-size=\"14.00\">y</text>\n",
       "</g>\n",
       "<!-- Free -->\n",
       "<g id=\"node6\" class=\"node\">\n",
       "<title>Free</title>\n",
       "<polygon fill=\"none\" stroke=\"black\" points=\"471,-25 471,-42 501,-42 501,-25 471,-25\"/>\n",
       "<text text-anchor=\"start\" x=\"477\" y=\"-31\" font-family=\"Times,serif\" font-size=\"10.00\">Free</text>\n",
       "<polygon fill=\"none\" stroke=\"black\" points=\"471,-4 471,-25 495,-25 495,-4 471,-4\"/>\n",
       "<text text-anchor=\"start\" x=\"474\" y=\"-10.8\" font-family=\"Times,serif\" font-size=\"14.00\">reg</text>\n",
       "<polygon fill=\"none\" stroke=\"black\" points=\"495,-4 495,-25 501,-25 501,-4 495,-4\"/>\n",
       "</g>\n",
       "<!-- CSwap&#45;&gt;Free -->\n",
       "<g id=\"edge10\" class=\"edge\">\n",
       "<title>CSwap:e-&gt;Free:w</title>\n",
       "<path fill=\"none\" stroke=\"black\" d=\"M422,-57C449.86,-57 441.84,-16.32 467.73,-14.09\"/>\n",
       "<ellipse fill=\"black\" stroke=\"black\" cx=\"469\" cy=\"-14.04\" rx=\"1\" ry=\"1\"/>\n",
       "<text text-anchor=\"middle\" x=\"440.5\" y=\"-49\" font-family=\"Times,serif\" font-size=\"10.00\">8</text>\n",
       "</g>\n",
       "<!-- ctrl_G16 -->\n",
       "<g id=\"node8\" class=\"node\">\n",
       "<title>ctrl_G16</title>\n",
       "<text text-anchor=\"middle\" x=\"486\" y=\"-128.3\" font-family=\"Times,serif\" font-size=\"14.00\">ctrl</text>\n",
       "</g>\n",
       "<!-- CSwap&#45;&gt;ctrl_G16 -->\n",
       "<g id=\"edge11\" class=\"edge\">\n",
       "<title>CSwap:e-&gt;ctrl_G16:w</title>\n",
       "<path fill=\"none\" stroke=\"black\" d=\"M422,-100C442.89,-100 437.72,-129.55 456.58,-131.86\"/>\n",
       "<ellipse fill=\"black\" stroke=\"black\" cx=\"458\" cy=\"-131.94\" rx=\"1\" ry=\"1\"/>\n",
       "<text text-anchor=\"middle\" x=\"440.5\" y=\"-119\" font-family=\"Times,serif\" font-size=\"10.00\">1</text>\n",
       "</g>\n",
       "<!-- x_G17 -->\n",
       "<g id=\"node9\" class=\"node\">\n",
       "<title>x_G17</title>\n",
       "<text text-anchor=\"middle\" x=\"486\" y=\"-74.3\" font-family=\"Times,serif\" font-size=\"14.00\">x</text>\n",
       "</g>\n",
       "<!-- CSwap&#45;&gt;x_G17 -->\n",
       "<g id=\"edge12\" class=\"edge\">\n",
       "<title>CSwap:e-&gt;x_G17:w</title>\n",
       "<path fill=\"none\" stroke=\"black\" d=\"M422,-78C437.67,-78 442.14,-78 456.77,-78\"/>\n",
       "<ellipse fill=\"black\" stroke=\"black\" cx=\"458\" cy=\"-78\" rx=\"1\" ry=\"1\"/>\n",
       "<text text-anchor=\"middle\" x=\"440.5\" y=\"-81\" font-family=\"Times,serif\" font-size=\"10.00\">8</text>\n",
       "</g>\n",
       "<!-- CtrlScaleModAdd_G3 -->\n",
       "<g id=\"node5\" class=\"node\">\n",
       "<title>CtrlScaleModAdd_G3</title>\n",
       "<polygon fill=\"none\" stroke=\"black\" points=\"211.5,-108 211.5,-125 296.5,-125 296.5,-108 211.5,-108\"/>\n",
       "<text text-anchor=\"start\" x=\"214.5\" y=\"-114\" font-family=\"Times,serif\" font-size=\"10.00\">y += x*-115 % 221</text>\n",
       "<polygon fill=\"none\" stroke=\"black\" points=\"211.5,-87 211.5,-108 296.5,-108 296.5,-87 211.5,-87\"/>\n",
       "<text text-anchor=\"start\" x=\"244.5\" y=\"-93.8\" font-family=\"Times,serif\" font-size=\"14.00\">ctrl</text>\n",
       "<polygon fill=\"none\" stroke=\"black\" points=\"211.5,-66 211.5,-87 296.5,-87 296.5,-66 211.5,-66\"/>\n",
       "<text text-anchor=\"start\" x=\"250.5\" y=\"-72.8\" font-family=\"Times,serif\" font-size=\"14.00\">x</text>\n",
       "<polygon fill=\"none\" stroke=\"black\" points=\"211.5,-45 211.5,-66 296.5,-66 296.5,-45 211.5,-45\"/>\n",
       "<text text-anchor=\"start\" x=\"250.5\" y=\"-51.8\" font-family=\"Times,serif\" font-size=\"14.00\">y</text>\n",
       "</g>\n",
       "<!-- CtrlScaleModAdd&#45;&gt;CtrlScaleModAdd_G3 -->\n",
       "<g id=\"edge4\" class=\"edge\">\n",
       "<title>CtrlScaleModAdd:e-&gt;CtrlScaleModAdd_G3:w</title>\n",
       "<path fill=\"none\" stroke=\"black\" d=\"M174,-96C189.7,-96 194.12,-97.82 208.76,-97.99\"/>\n",
       "<ellipse fill=\"black\" stroke=\"black\" cx=\"210\" cy=\"-97.99\" rx=\"1\" ry=\"1\"/>\n",
       "<text text-anchor=\"middle\" x=\"192.5\" y=\"-100\" font-family=\"Times,serif\" font-size=\"10.00\">1</text>\n",
       "</g>\n",
       "<!-- CtrlScaleModAdd&#45;&gt;CtrlScaleModAdd_G3 -->\n",
       "<g id=\"edge5\" class=\"edge\">\n",
       "<title>CtrlScaleModAdd:e-&gt;CtrlScaleModAdd_G3:w</title>\n",
       "<path fill=\"none\" stroke=\"black\" d=\"M174,-53C182.86,-53 185.37,-54.51 193,-59 201.75,-64.14 200.31,-74.25 208.66,-75.8\"/>\n",
       "<ellipse fill=\"black\" stroke=\"black\" cx=\"210\" cy=\"-75.91\" rx=\"1\" ry=\"1\"/>\n",
       "<text text-anchor=\"middle\" x=\"192.5\" y=\"-62\" font-family=\"Times,serif\" font-size=\"10.00\">8</text>\n",
       "</g>\n",
       "<!-- CtrlScaleModAdd&#45;&gt;CtrlScaleModAdd_G3 -->\n",
       "<g id=\"edge6\" class=\"edge\">\n",
       "<title>CtrlScaleModAdd:e-&gt;CtrlScaleModAdd_G3:w</title>\n",
       "<path fill=\"none\" stroke=\"black\" d=\"M174,-74C191.76,-74 192.48,-56.46 208.92,-55.08\"/>\n",
       "<ellipse fill=\"black\" stroke=\"black\" cx=\"210\" cy=\"-55.04\" rx=\"1\" ry=\"1\"/>\n",
       "<text text-anchor=\"middle\" x=\"192.5\" y=\"-67\" font-family=\"Times,serif\" font-size=\"10.00\">8</text>\n",
       "</g>\n",
       "<!-- CtrlScaleModAdd_G3&#45;&gt;CSwap -->\n",
       "<g id=\"edge7\" class=\"edge\">\n",
       "<title>CtrlScaleModAdd_G3:e-&gt;CSwap:w</title>\n",
       "<path fill=\"none\" stroke=\"black\" d=\"M296,-98C311.7,-98 316.12,-99.82 330.76,-99.99\"/>\n",
       "<ellipse fill=\"black\" stroke=\"black\" cx=\"332\" cy=\"-99.99\" rx=\"1\" ry=\"1\"/>\n",
       "<text text-anchor=\"middle\" x=\"314.5\" y=\"-102\" font-family=\"Times,serif\" font-size=\"10.00\">1</text>\n",
       "</g>\n",
       "<!-- CtrlScaleModAdd_G3&#45;&gt;CSwap -->\n",
       "<g id=\"edge8\" class=\"edge\">\n",
       "<title>CtrlScaleModAdd_G3:e-&gt;CSwap:w</title>\n",
       "<path fill=\"none\" stroke=\"black\" d=\"M296,-55C304.86,-55 307.37,-56.51 315,-61 323.75,-66.14 322.31,-76.25 330.66,-77.8\"/>\n",
       "<ellipse fill=\"black\" stroke=\"black\" cx=\"332\" cy=\"-77.91\" rx=\"1\" ry=\"1\"/>\n",
       "<text text-anchor=\"middle\" x=\"314.5\" y=\"-64\" font-family=\"Times,serif\" font-size=\"10.00\">8</text>\n",
       "</g>\n",
       "<!-- CtrlScaleModAdd_G3&#45;&gt;CSwap -->\n",
       "<g id=\"edge9\" class=\"edge\">\n",
       "<title>CtrlScaleModAdd_G3:e-&gt;CSwap:w</title>\n",
       "<path fill=\"none\" stroke=\"black\" d=\"M296,-76C313.76,-76 314.48,-58.46 330.92,-57.08\"/>\n",
       "<ellipse fill=\"black\" stroke=\"black\" cx=\"332\" cy=\"-57.04\" rx=\"1\" ry=\"1\"/>\n",
       "<text text-anchor=\"middle\" x=\"314.5\" y=\"-69\" font-family=\"Times,serif\" font-size=\"10.00\">8</text>\n",
       "</g>\n",
       "<!-- Allocate -->\n",
       "<g id=\"node7\" class=\"node\">\n",
       "<title>Allocate</title>\n",
       "<polygon fill=\"none\" stroke=\"black\" points=\"6,-21 6,-38 48,-38 48,-21 6,-21\"/>\n",
       "<text text-anchor=\"start\" x=\"9\" y=\"-27\" font-family=\"Times,serif\" font-size=\"10.00\">Allocate</text>\n",
       "<polygon fill=\"none\" stroke=\"black\" points=\"6,0 6,-21 18,-21 18,0 6,0\"/>\n",
       "<polygon fill=\"none\" stroke=\"black\" points=\"18,0 18,-21 48,-21 48,0 18,0\"/>\n",
       "<text text-anchor=\"start\" x=\"24\" y=\"-6.8\" font-family=\"Times,serif\" font-size=\"14.00\">reg</text>\n",
       "</g>\n",
       "<!-- Allocate&#45;&gt;CtrlScaleModAdd -->\n",
       "<g id=\"edge3\" class=\"edge\">\n",
       "<title>Allocate:e-&gt;CtrlScaleModAdd:w</title>\n",
       "<path fill=\"none\" stroke=\"black\" d=\"M49,-10C74.98,-10 64.88,-50.68 88.89,-52.91\"/>\n",
       "<ellipse fill=\"black\" stroke=\"black\" cx=\"90\" cy=\"-52.96\" rx=\"1\" ry=\"1\"/>\n",
       "<text text-anchor=\"middle\" x=\"72.5\" y=\"-43\" font-family=\"Times,serif\" font-size=\"10.00\">8</text>\n",
       "</g>\n",
       "</g>\n",
       "</svg>"
      ],
      "text/plain": [
       "<IPython.core.display.SVG object>"
      ]
     },
     "metadata": {},
     "output_type": "display_data"
    }
   ],
   "source": [
    "show_bloq(bloq.decompose_bloq())"
   ]
  }
 ],
 "metadata": {
  "kernelspec": {
   "display_name": "Python 3 (ipykernel)",
   "language": "python",
   "name": "python3"
  },
  "language_info": {
   "codemirror_mode": {
    "name": "ipython",
    "version": 3
   },
   "file_extension": ".py",
   "mimetype": "text/x-python",
   "name": "python",
   "nbconvert_exporter": "python",
   "pygments_lexer": "ipython3",
   "version": "3.10.12"
  }
 },
 "nbformat": 4,
 "nbformat_minor": 5
}
