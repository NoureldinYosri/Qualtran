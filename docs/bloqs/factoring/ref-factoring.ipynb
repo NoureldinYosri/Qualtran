{
 "cells": [
  {
   "cell_type": "markdown",
   "id": "0e934f87",
   "metadata": {
    "cq.autogen": "title_cell"
   },
   "source": [
    "# Modular arithmetic"
   ]
  },
  {
   "cell_type": "markdown",
   "id": "7309b0ba",
   "metadata": {},
   "source": [
    "This notebook documents the modular arithmetic bloqs needed to implement the \"reference\" implementation in [GE2019]."
   ]
  },
  {
   "cell_type": "code",
   "execution_count": 1,
   "id": "7dd20f34",
   "metadata": {
    "cq.autogen": "top_imports",
    "execution": {
     "iopub.execute_input": "2023-07-21T13:43:15.165825Z",
     "iopub.status.busy": "2023-07-21T13:43:15.165554Z",
     "iopub.status.idle": "2023-07-21T13:43:16.091782Z",
     "shell.execute_reply": "2023-07-21T13:43:16.091415Z"
    }
   },
   "outputs": [],
   "source": [
    "from qualtran import Bloq, CompositeBloq, BloqBuilder, Signature, Register\n",
    "from qualtran.drawing import show_bloq\n",
    "from typing import *\n",
    "import numpy as np"
   ]
  },
  {
   "cell_type": "markdown",
   "id": "bbdbc39b",
   "metadata": {
    "cq.autogen": "_make_modexp.md"
   },
   "source": [
    "## `ModExp`\n",
    "Perform $b^e \\mod{m}$ for constant `base` $b$, `mod` $m$, and quantum `exponent` $e$.\n",
    "\n",
    "Modular exponentiation is the main computational primitive for quantum factoring algorithms.\n",
    "We follow [GE2019]'s \"reference implementation\" for factoring. See `ModExp.make_for_shor`\n",
    "to set the class attributes for a factoring run.\n",
    "\n",
    "This bloq decomposes into controlled modular exponentiation for each exponent bit.\n",
    "\n",
    "#### Parameters\n",
    " - `base`: The integer base of the exponentiation\n",
    " - `mod`: The integer modulus\n",
    " - `exp_bitsize`: The size of the `exponent` thru-register\n",
    " - `x_bitsize`: The size of the `x` right-register \n",
    "\n",
    "Registers:\n",
    " - exponent: The exponent\n",
    " - x [right]: The output register containing the result of the exponentiation\n",
    "\n",
    "#### References\n",
    "[GE2019] How to factor 2048 bit RSA integers in 8 hours using 20 million noisy qubits. [arxiv:1905.09749](https://arxiv.org/abs/1905.09749). Gidney and Ekerå. 2019.\n"
   ]
  },
  {
   "cell_type": "code",
   "execution_count": 2,
   "id": "10ce5e42",
   "metadata": {
    "cq.autogen": "_make_modexp.py",
    "execution": {
     "iopub.execute_input": "2023-07-21T13:43:16.093999Z",
     "iopub.status.busy": "2023-07-21T13:43:16.093801Z",
     "iopub.status.idle": "2023-07-21T13:43:16.919131Z",
     "shell.execute_reply": "2023-07-21T13:43:16.918755Z"
    }
   },
   "outputs": [
    {
     "data": {
      "image/svg+xml": [
       "<svg xmlns=\"http://www.w3.org/2000/svg\" xmlns:xlink=\"http://www.w3.org/1999/xlink\" width=\"270pt\" height=\"98pt\" viewBox=\"0.00 0.00 270.00 98.00\">\n",
       "<g id=\"graph0\" class=\"graph\" transform=\"scale(1 1) rotate(0) translate(4 94)\">\n",
       "<title>my_graph</title>\n",
       "<polygon fill=\"white\" stroke=\"none\" points=\"-4,4 -4,-94 266,-94 266,4 -4,4\"/>\n",
       "<!-- exponent_G2 -->\n",
       "<g id=\"node1\" class=\"node\">\n",
       "<title>exponent_G2</title>\n",
       "<text text-anchor=\"middle\" x=\"33\" y=\"-52.3\" font-family=\"Times,serif\" font-size=\"14.00\">exponent</text>\n",
       "</g>\n",
       "<!-- ModExp -->\n",
       "<g id=\"node2\" class=\"node\">\n",
       "<title>ModExp</title>\n",
       "<polygon fill=\"none\" stroke=\"black\" points=\"103,-66 103,-83 159,-83 159,-66 103,-66\"/>\n",
       "<text text-anchor=\"start\" x=\"112\" y=\"-72\" font-family=\"Times,serif\" font-size=\"10.00\">3^e % 15</text>\n",
       "<polygon fill=\"none\" stroke=\"black\" points=\"103,-45 103,-66 159,-66 159,-45 103,-45\"/>\n",
       "<text text-anchor=\"start\" x=\"106\" y=\"-51.8\" font-family=\"Times,serif\" font-size=\"14.00\">exponent</text>\n",
       "<polygon fill=\"none\" stroke=\"black\" points=\"103,-24 103,-45 127,-45 127,-24 103,-24\"/>\n",
       "<polygon fill=\"none\" stroke=\"black\" points=\"127,-24 127,-45 159,-45 159,-24 127,-24\"/>\n",
       "<text text-anchor=\"start\" x=\"139.5\" y=\"-30.8\" font-family=\"Times,serif\" font-size=\"14.00\">x</text>\n",
       "</g>\n",
       "<!-- exponent_G2&#45;&gt;ModExp -->\n",
       "<g id=\"edge1\" class=\"edge\">\n",
       "<title>exponent_G2:e-&gt;ModExp:w</title>\n",
       "<path fill=\"none\" stroke=\"black\" d=\"M66,-56C81.67,-56 86.14,-56 100.77,-56\"/>\n",
       "<ellipse fill=\"black\" stroke=\"black\" cx=\"102\" cy=\"-56\" rx=\"1\" ry=\"1\"/>\n",
       "<text text-anchor=\"middle\" x=\"84.5\" y=\"-59\" font-family=\"Times,serif\" font-size=\"10.00\">3</text>\n",
       "</g>\n",
       "<!-- exponent_G1 -->\n",
       "<g id=\"node3\" class=\"node\">\n",
       "<title>exponent_G1</title>\n",
       "<text text-anchor=\"middle\" x=\"229\" y=\"-68.3\" font-family=\"Times,serif\" font-size=\"14.00\">exponent</text>\n",
       "</g>\n",
       "<!-- ModExp&#45;&gt;exponent_G1 -->\n",
       "<g id=\"edge2\" class=\"edge\">\n",
       "<title>ModExp:e-&gt;exponent_G1:w</title>\n",
       "<path fill=\"none\" stroke=\"black\" d=\"M159,-56C176.22,-56 177.97,-70.77 193.98,-71.93\"/>\n",
       "<ellipse fill=\"black\" stroke=\"black\" cx=\"195\" cy=\"-71.96\" rx=\"1\" ry=\"1\"/>\n",
       "<text text-anchor=\"middle\" x=\"177.5\" y=\"-67\" font-family=\"Times,serif\" font-size=\"10.00\">3</text>\n",
       "</g>\n",
       "<!-- x_G0 -->\n",
       "<g id=\"node4\" class=\"node\">\n",
       "<title>x_G0</title>\n",
       "<text text-anchor=\"middle\" x=\"229\" y=\"-14.3\" font-family=\"Times,serif\" font-size=\"14.00\">x</text>\n",
       "</g>\n",
       "<!-- ModExp&#45;&gt;x_G0 -->\n",
       "<g id=\"edge3\" class=\"edge\">\n",
       "<title>ModExp:e-&gt;x_G0:w</title>\n",
       "<path fill=\"none\" stroke=\"black\" d=\"M159,-34C178.2,-34 180.84,-19.23 198.74,-18.07\"/>\n",
       "<ellipse fill=\"black\" stroke=\"black\" cx=\"200\" cy=\"-18.03\" rx=\"1\" ry=\"1\"/>\n",
       "<text text-anchor=\"middle\" x=\"177.5\" y=\"-31\" font-family=\"Times,serif\" font-size=\"10.00\">2048</text>\n",
       "</g>\n",
       "</g>\n",
       "</svg>"
      ],
      "text/plain": [
       "<IPython.core.display.SVG object>"
      ]
     },
     "metadata": {},
     "output_type": "display_data"
    }
   ],
   "source": [
    "from qualtran.bloqs.factoring.mod_exp import ModExp\n",
    "\n",
    "bloq = ModExp(base=3, mod=15, exp_bitsize=3, x_bitsize=2048)\n",
    "show_bloq(bloq)"
   ]
  },
  {
   "cell_type": "code",
   "execution_count": 3,
   "id": "1948589e",
   "metadata": {
    "execution": {
     "iopub.execute_input": "2023-07-21T13:43:16.920869Z",
     "iopub.status.busy": "2023-07-21T13:43:16.920739Z",
     "iopub.status.idle": "2023-07-21T13:43:16.984435Z",
     "shell.execute_reply": "2023-07-21T13:43:16.984018Z"
    }
   },
   "outputs": [
    {
     "data": {
      "image/svg+xml": [
       "<svg xmlns=\"http://www.w3.org/2000/svg\" xmlns:xlink=\"http://www.w3.org/1999/xlink\" width=\"571pt\" height=\"179pt\" viewBox=\"0.00 0.00 571.00 178.50\">\n",
       "<g id=\"graph0\" class=\"graph\" transform=\"scale(1 1) rotate(0) translate(4 174.5)\">\n",
       "<title>my_graph</title>\n",
       "<polygon fill=\"white\" stroke=\"none\" points=\"-4,4 -4,-174.5 567,-174.5 567,4 -4,4\"/>\n",
       "<!-- exponent_G18 -->\n",
       "<g id=\"node1\" class=\"node\">\n",
       "<title>exponent_G18</title>\n",
       "<text text-anchor=\"middle\" x=\"33\" y=\"-92.3\" font-family=\"Times,serif\" font-size=\"14.00\">exponent</text>\n",
       "</g>\n",
       "<!-- Split -->\n",
       "<g id=\"node2\" class=\"node\">\n",
       "<title>Split</title>\n",
       "<polygon fill=\"none\" stroke=\"black\" points=\"111.5,-105 111.5,-111 123.5,-111 123.5,-105 111.5,-105\"/>\n",
       "<polygon fill=\"none\" stroke=\"black\" points=\"111.5,-87 111.5,-105 117.5,-105 117.5,-87 111.5,-87\"/>\n",
       "<polygon fill=\"none\" stroke=\"black\" points=\"117.5,-99 117.5,-105 123.5,-105 123.5,-99 117.5,-99\"/>\n",
       "<polygon fill=\"none\" stroke=\"black\" points=\"117.5,-93 117.5,-99 123.5,-99 123.5,-93 117.5,-93\"/>\n",
       "<polygon fill=\"none\" stroke=\"black\" points=\"117.5,-87 117.5,-93 123.5,-93 123.5,-87 117.5,-87\"/>\n",
       "</g>\n",
       "<!-- exponent_G18&#45;&gt;Split -->\n",
       "<g id=\"edge1\" class=\"edge\">\n",
       "<title>exponent_G18:e-&gt;Split:w</title>\n",
       "<path fill=\"none\" stroke=\"black\" d=\"M66,-96C85.01,-96 90.31,-96 108.25,-96\"/>\n",
       "<ellipse fill=\"black\" stroke=\"black\" cx=\"109.5\" cy=\"-96\" rx=\"1\" ry=\"1\"/>\n",
       "<text text-anchor=\"middle\" x=\"84.5\" y=\"-99\" font-family=\"Times,serif\" font-size=\"10.00\">3</text>\n",
       "</g>\n",
       "<!-- CtrlModMul -->\n",
       "<g id=\"node3\" class=\"node\">\n",
       "<title>CtrlModMul</title>\n",
       "<polygon fill=\"none\" stroke=\"black\" points=\"262,-100 262,-117 318,-117 318,-100 262,-100\"/>\n",
       "<text text-anchor=\"start\" x=\"265\" y=\"-106\" font-family=\"Times,serif\" font-size=\"10.00\">x *= 9 % 15</text>\n",
       "<polygon fill=\"none\" stroke=\"black\" points=\"262,-79 262,-100 318,-100 318,-79 262,-79\"/>\n",
       "<text text-anchor=\"start\" x=\"280.5\" y=\"-85.8\" font-family=\"Times,serif\" font-size=\"14.00\">ctrl</text>\n",
       "<polygon fill=\"none\" stroke=\"black\" points=\"262,-58 262,-79 318,-79 318,-58 262,-58\"/>\n",
       "<text text-anchor=\"start\" x=\"286.5\" y=\"-64.8\" font-family=\"Times,serif\" font-size=\"14.00\">x</text>\n",
       "</g>\n",
       "<!-- Split&#45;&gt;CtrlModMul -->\n",
       "<g id=\"edge4\" class=\"edge\">\n",
       "<title>Split:e-&gt;CtrlModMul:w</title>\n",
       "<path fill=\"none\" stroke=\"black\" d=\"M124.5,-96C184.95,-96 200.47,-90.14 259.87,-90\"/>\n",
       "<ellipse fill=\"black\" stroke=\"black\" cx=\"261\" cy=\"-90\" rx=\"1\" ry=\"1\"/>\n",
       "<text text-anchor=\"middle\" x=\"197\" y=\"-98\" font-family=\"Times,serif\" font-size=\"10.00\">1</text>\n",
       "</g>\n",
       "<!-- CtrlModMul_G0 -->\n",
       "<g id=\"node4\" class=\"node\">\n",
       "<title>CtrlModMul_G0</title>\n",
       "<polygon fill=\"none\" stroke=\"black\" points=\"169,-42 169,-59 225,-59 225,-42 169,-42\"/>\n",
       "<text text-anchor=\"start\" x=\"172\" y=\"-48\" font-family=\"Times,serif\" font-size=\"10.00\">x *= 3 % 15</text>\n",
       "<polygon fill=\"none\" stroke=\"black\" points=\"169,-21 169,-42 225,-42 225,-21 169,-21\"/>\n",
       "<text text-anchor=\"start\" x=\"187.5\" y=\"-27.8\" font-family=\"Times,serif\" font-size=\"14.00\">ctrl</text>\n",
       "<polygon fill=\"none\" stroke=\"black\" points=\"169,0 169,-21 225,-21 225,0 169,0\"/>\n",
       "<text text-anchor=\"start\" x=\"193.5\" y=\"-6.8\" font-family=\"Times,serif\" font-size=\"14.00\">x</text>\n",
       "</g>\n",
       "<!-- Split&#45;&gt;CtrlModMul_G0 -->\n",
       "<g id=\"edge2\" class=\"edge\">\n",
       "<title>Split:e-&gt;CtrlModMul_G0:w</title>\n",
       "<path fill=\"none\" stroke=\"black\" d=\"M124.5,-90C156.23,-90 137.44,-34.69 166.8,-32.09\"/>\n",
       "<ellipse fill=\"black\" stroke=\"black\" cx=\"168\" cy=\"-32.04\" rx=\"1\" ry=\"1\"/>\n",
       "<text text-anchor=\"middle\" x=\"150.5\" y=\"-51\" font-family=\"Times,serif\" font-size=\"10.00\">1</text>\n",
       "</g>\n",
       "<!-- CtrlModMul_G3 -->\n",
       "<g id=\"node6\" class=\"node\">\n",
       "<title>CtrlModMul_G3</title>\n",
       "<polygon fill=\"none\" stroke=\"black\" points=\"355,-153 355,-170 411,-170 411,-153 355,-153\"/>\n",
       "<text text-anchor=\"start\" x=\"358\" y=\"-159\" font-family=\"Times,serif\" font-size=\"10.00\">x *= 6 % 15</text>\n",
       "<polygon fill=\"none\" stroke=\"black\" points=\"355,-132 355,-153 411,-153 411,-132 355,-132\"/>\n",
       "<text text-anchor=\"start\" x=\"373.5\" y=\"-138.8\" font-family=\"Times,serif\" font-size=\"14.00\">ctrl</text>\n",
       "<polygon fill=\"none\" stroke=\"black\" points=\"355,-111 355,-132 411,-132 411,-111 355,-111\"/>\n",
       "<text text-anchor=\"start\" x=\"379.5\" y=\"-117.8\" font-family=\"Times,serif\" font-size=\"14.00\">x</text>\n",
       "</g>\n",
       "<!-- Split&#45;&gt;CtrlModMul_G3 -->\n",
       "<g id=\"edge6\" class=\"edge\">\n",
       "<title>Split:e-&gt;CtrlModMul_G3:w</title>\n",
       "<path fill=\"none\" stroke=\"black\" d=\"M124.5,-102C136.38,-102 138.44,-107.27 150,-110 239.11,-131.04 262.35,-142.82 352.85,-143\"/>\n",
       "<ellipse fill=\"black\" stroke=\"black\" cx=\"354\" cy=\"-143\" rx=\"1\" ry=\"1\"/>\n",
       "<text text-anchor=\"middle\" x=\"243.5\" y=\"-135\" font-family=\"Times,serif\" font-size=\"10.00\">1</text>\n",
       "</g>\n",
       "<!-- Join -->\n",
       "<g id=\"node5\" class=\"node\">\n",
       "<title>Join</title>\n",
       "<polygon fill=\"none\" stroke=\"black\" points=\"448,-71 448,-77 460,-77 460,-71 448,-71\"/>\n",
       "<polygon fill=\"none\" stroke=\"black\" points=\"448,-65 448,-71 454,-71 454,-65 448,-65\"/>\n",
       "<polygon fill=\"none\" stroke=\"black\" points=\"454,-53 454,-71 460,-71 460,-53 454,-53\"/>\n",
       "<polygon fill=\"none\" stroke=\"black\" points=\"448,-59 448,-65 454,-65 454,-59 448,-59\"/>\n",
       "<polygon fill=\"none\" stroke=\"black\" points=\"448,-53 448,-59 454,-59 454,-53 448,-53\"/>\n",
       "</g>\n",
       "<!-- CtrlModMul&#45;&gt;Join -->\n",
       "<g id=\"edge9\" class=\"edge\">\n",
       "<title>CtrlModMul:e-&gt;Join:w</title>\n",
       "<path fill=\"none\" stroke=\"black\" d=\"M318,-90C376.41,-90 388.61,-62.65 445.94,-62.01\"/>\n",
       "<ellipse fill=\"black\" stroke=\"black\" cx=\"447\" cy=\"-62.01\" rx=\"1\" ry=\"1\"/>\n",
       "<text text-anchor=\"middle\" x=\"383\" y=\"-89\" font-family=\"Times,serif\" font-size=\"10.00\">1</text>\n",
       "</g>\n",
       "<!-- CtrlModMul&#45;&gt;CtrlModMul_G3 -->\n",
       "<g id=\"edge7\" class=\"edge\">\n",
       "<title>CtrlModMul:e-&gt;CtrlModMul_G3:w</title>\n",
       "<path fill=\"none\" stroke=\"black\" d=\"M318,-68C345.94,-68 327.35,-118.14 352.75,-120.88\"/>\n",
       "<ellipse fill=\"black\" stroke=\"black\" cx=\"354\" cy=\"-120.95\" rx=\"1\" ry=\"1\"/>\n",
       "<text text-anchor=\"middle\" x=\"336.5\" y=\"-100\" font-family=\"Times,serif\" font-size=\"10.00\">2048</text>\n",
       "</g>\n",
       "<!-- CtrlModMul_G0&#45;&gt;CtrlModMul -->\n",
       "<g id=\"edge5\" class=\"edge\">\n",
       "<title>CtrlModMul_G0:e-&gt;CtrlModMul:w</title>\n",
       "<path fill=\"none\" stroke=\"black\" d=\"M225,-10C254.86,-10 232.53,-65.31 259.94,-67.91\"/>\n",
       "<ellipse fill=\"black\" stroke=\"black\" cx=\"261\" cy=\"-67.95\" rx=\"1\" ry=\"1\"/>\n",
       "<text text-anchor=\"middle\" x=\"243.5\" y=\"-46\" font-family=\"Times,serif\" font-size=\"10.00\">2048</text>\n",
       "</g>\n",
       "<!-- CtrlModMul_G0&#45;&gt;Join -->\n",
       "<g id=\"edge10\" class=\"edge\">\n",
       "<title>CtrlModMul_G0:e-&gt;Join:w</title>\n",
       "<path fill=\"none\" stroke=\"black\" d=\"M225,-32C324,-32 347.99,-55.67 445.97,-56\"/>\n",
       "<ellipse fill=\"black\" stroke=\"black\" cx=\"447\" cy=\"-56\" rx=\"1\" ry=\"1\"/>\n",
       "<text text-anchor=\"middle\" x=\"336.5\" y=\"-47\" font-family=\"Times,serif\" font-size=\"10.00\">1</text>\n",
       "</g>\n",
       "<!-- exponent -->\n",
       "<g id=\"node8\" class=\"node\">\n",
       "<title>exponent</title>\n",
       "<text text-anchor=\"middle\" x=\"530\" y=\"-57.3\" font-family=\"Times,serif\" font-size=\"14.00\">exponent</text>\n",
       "</g>\n",
       "<!-- Join&#45;&gt;exponent -->\n",
       "<g id=\"edge11\" class=\"edge\">\n",
       "<title>Join:e-&gt;exponent:w</title>\n",
       "<path fill=\"none\" stroke=\"black\" d=\"M460,-62C475.68,-62 480.14,-61.09 494.77,-61.01\"/>\n",
       "<ellipse fill=\"black\" stroke=\"black\" cx=\"496\" cy=\"-61\" rx=\"1\" ry=\"1\"/>\n",
       "<text text-anchor=\"middle\" x=\"478.5\" y=\"-65\" font-family=\"Times,serif\" font-size=\"10.00\">3</text>\n",
       "</g>\n",
       "<!-- CtrlModMul_G3&#45;&gt;Join -->\n",
       "<g id=\"edge8\" class=\"edge\">\n",
       "<title>CtrlModMul_G3:e-&gt;Join:w</title>\n",
       "<path fill=\"none\" stroke=\"black\" d=\"M411,-143C428.86,-143 429.4,-73.74 445.91,-68.33\"/>\n",
       "<ellipse fill=\"black\" stroke=\"black\" cx=\"447.01\" cy=\"-68.16\" rx=\"1\" ry=\"1\"/>\n",
       "<text text-anchor=\"middle\" x=\"429.5\" y=\"-109\" font-family=\"Times,serif\" font-size=\"10.00\">1</text>\n",
       "</g>\n",
       "<!-- x_G6 -->\n",
       "<g id=\"node9\" class=\"node\">\n",
       "<title>x_G6</title>\n",
       "<text text-anchor=\"middle\" x=\"530\" y=\"-111.3\" font-family=\"Times,serif\" font-size=\"14.00\">x</text>\n",
       "</g>\n",
       "<!-- CtrlModMul_G3&#45;&gt;x_G6 -->\n",
       "<g id=\"edge12\" class=\"edge\">\n",
       "<title>CtrlModMul_G3:e-&gt;x_G6:w</title>\n",
       "<path fill=\"none\" stroke=\"black\" d=\"M411,-121C450.74,-121 461.07,-115.23 499.66,-115.01\"/>\n",
       "<ellipse fill=\"black\" stroke=\"black\" cx=\"501\" cy=\"-115\" rx=\"1\" ry=\"1\"/>\n",
       "<text text-anchor=\"middle\" x=\"454\" y=\"-122\" font-family=\"Times,serif\" font-size=\"10.00\">2048</text>\n",
       "</g>\n",
       "<!-- IntState -->\n",
       "<g id=\"node7\" class=\"node\">\n",
       "<title>IntState</title>\n",
       "<polygon fill=\"none\" stroke=\"black\" points=\"103.5,-21 103.5,-38 132.5,-38 132.5,-21 103.5,-21\"/>\n",
       "<text text-anchor=\"start\" x=\"115\" y=\"-27\" font-family=\"Times,serif\" font-size=\"10.00\">1</text>\n",
       "<polygon fill=\"none\" stroke=\"black\" points=\"103.5,0 103.5,-21 109.5,-21 109.5,0 103.5,0\"/>\n",
       "<polygon fill=\"none\" stroke=\"black\" points=\"109.5,0 109.5,-21 132.5,-21 132.5,0 109.5,0\"/>\n",
       "<text text-anchor=\"start\" x=\"112.5\" y=\"-6.8\" font-family=\"Times,serif\" font-size=\"14.00\">val</text>\n",
       "</g>\n",
       "<!-- IntState&#45;&gt;CtrlModMul_G0 -->\n",
       "<g id=\"edge3\" class=\"edge\">\n",
       "<title>IntState:e-&gt;CtrlModMul_G0:w</title>\n",
       "<path fill=\"none\" stroke=\"black\" d=\"M132,-10C147.67,-10 152.14,-10 166.77,-10\"/>\n",
       "<ellipse fill=\"black\" stroke=\"black\" cx=\"168\" cy=\"-10\" rx=\"1\" ry=\"1\"/>\n",
       "<text text-anchor=\"middle\" x=\"150.5\" y=\"-13\" font-family=\"Times,serif\" font-size=\"10.00\">2048</text>\n",
       "</g>\n",
       "</g>\n",
       "</svg>"
      ],
      "text/plain": [
       "<IPython.core.display.SVG object>"
      ]
     },
     "metadata": {},
     "output_type": "display_data"
    }
   ],
   "source": [
    "cbloq = bloq.decompose_bloq()\n",
    "show_bloq(cbloq)"
   ]
  },
  {
   "cell_type": "markdown",
   "id": "dd1b1238",
   "metadata": {},
   "source": [
    "### Larger exponent\n",
    "\n",
    "The number of `CtrlModMul` scales with the exponent bitsize."
   ]
  },
  {
   "cell_type": "code",
   "execution_count": 4,
   "id": "65944027",
   "metadata": {
    "execution": {
     "iopub.execute_input": "2023-07-21T13:43:16.986185Z",
     "iopub.status.busy": "2023-07-21T13:43:16.986056Z",
     "iopub.status.idle": "2023-07-21T13:43:17.092966Z",
     "shell.execute_reply": "2023-07-21T13:43:17.092629Z"
    }
   },
   "outputs": [
    {
     "data": {
      "image/png": "[encoded data removed]",
      "text/plain": [
       "<Figure size 680x500 with 1 Axes>"
      ]
     },
     "metadata": {},
     "output_type": "display_data"
    }
   ],
   "source": [
    "from qualtran.drawing import (\n",
    "    get_musical_score_data, draw_musical_score, dump_musical_score)\n",
    "\n",
    "bloq = ModExp(base=3, mod=15, exp_bitsize=8, x_bitsize=2048)\n",
    "msd_bloq = get_musical_score_data(bloq)\n",
    "dump_musical_score(msd_bloq, 'mod_exp_bloq')\n",
    "\n",
    "msd_cbloq = get_musical_score_data(bloq.decompose_bloq())\n",
    "dump_musical_score(msd_cbloq, 'mod_exp_cbloq')\n",
    "\n",
    "fig, ax = draw_musical_score(msd_cbloq)\n",
    "ax.axis('equal')\n",
    "ax.axis('off')\n",
    "fig.tight_layout()"
   ]
  },
  {
   "cell_type": "code",
   "execution_count": 5,
   "id": "358157b9",
   "metadata": {
    "execution": {
     "iopub.execute_input": "2023-07-21T13:43:17.094588Z",
     "iopub.status.busy": "2023-07-21T13:43:17.094477Z",
     "iopub.status.idle": "2023-07-21T13:43:17.107481Z",
     "shell.execute_reply": "2023-07-21T13:43:17.107200Z"
    }
   },
   "outputs": [
    {
     "data": {
      "text/plain": [
       "TComplexity(t=30294, clifford=1620, rotations=0)"
      ]
     },
     "execution_count": 5,
     "metadata": {},
     "output_type": "execute_result"
    }
   ],
   "source": [
    "# We can quickly count up the number of T-gates required to factor a number\n",
    "ModExp.make_for_shor(17*19, g=8).t_complexity()"
   ]
  },
  {
   "cell_type": "markdown",
   "id": "bdd6f948",
   "metadata": {},
   "source": [
    "### Symbolic\n",
    "\n",
    "`ModExp` supports symbolic parameters. If we use the `make_for_shors` constructor, everything is in terms of the ceil of the base-two logarithm of the composite number."
   ]
  },
  {
   "cell_type": "code",
   "execution_count": 6,
   "id": "38fb1969",
   "metadata": {
    "execution": {
     "iopub.execute_input": "2023-07-21T13:43:17.109120Z",
     "iopub.status.busy": "2023-07-21T13:43:17.108994Z",
     "iopub.status.idle": "2023-07-21T13:43:17.210780Z",
     "shell.execute_reply": "2023-07-21T13:43:17.210502Z"
    }
   },
   "outputs": [
    {
     "data": {
      "text/plain": [
       "'exponent'"
      ]
     },
     "metadata": {},
     "output_type": "display_data"
    },
    {
     "data": {
      "text/latex": [
       "$\\displaystyle 2 \\left\\lceil{\\frac{\\log{\\left(N \\right)}}{\\log{\\left(2 \\right)}}}\\right\\rceil$"
      ],
      "text/plain": [
       "2*ceiling(log(N)/log(2))"
      ]
     },
     "metadata": {},
     "output_type": "display_data"
    },
    {
     "data": {
      "text/plain": [
       "'x'"
      ]
     },
     "metadata": {},
     "output_type": "display_data"
    },
    {
     "data": {
      "text/latex": [
       "$\\displaystyle \\left\\lceil{\\frac{\\log{\\left(N \\right)}}{\\log{\\left(2 \\right)}}}\\right\\rceil$"
      ],
      "text/plain": [
       "ceiling(log(N)/log(2))"
      ]
     },
     "metadata": {},
     "output_type": "display_data"
    }
   ],
   "source": [
    "import sympy\n",
    "g, N = sympy.symbols('g N')\n",
    "bloq = ModExp.make_for_shor(big_n=N, g=g)\n",
    "for reg in bloq.signature:\n",
    "    display(reg.name, reg.bitsize)"
   ]
  },
  {
   "cell_type": "markdown",
   "id": "d461fabc",
   "metadata": {},
   "source": [
    "To avoid clutter, we'll use more specific sympy symbols"
   ]
  },
  {
   "cell_type": "code",
   "execution_count": 7,
   "id": "a370b2ba",
   "metadata": {
    "execution": {
     "iopub.execute_input": "2023-07-21T13:43:17.212342Z",
     "iopub.status.busy": "2023-07-21T13:43:17.212232Z",
     "iopub.status.idle": "2023-07-21T13:43:17.335497Z",
     "shell.execute_reply": "2023-07-21T13:43:17.335127Z"
    }
   },
   "outputs": [
    {
     "data": {
      "image/svg+xml": [
       "<svg xmlns=\"http://www.w3.org/2000/svg\" xmlns:xlink=\"http://www.w3.org/1999/xlink\" width=\"270pt\" height=\"98pt\" viewBox=\"0.00 0.00 270.00 98.00\">\n",
       "<g id=\"graph0\" class=\"graph\" transform=\"scale(1 1) rotate(0) translate(4 94)\">\n",
       "<title>my_graph</title>\n",
       "<polygon fill=\"white\" stroke=\"none\" points=\"-4,4 -4,-94 266,-94 266,4 -4,4\"/>\n",
       "<!-- exponent_G4 -->\n",
       "<g id=\"node1\" class=\"node\">\n",
       "<title>exponent_G4</title>\n",
       "<text text-anchor=\"middle\" x=\"33\" y=\"-52.3\" font-family=\"Times,serif\" font-size=\"14.00\">exponent</text>\n",
       "</g>\n",
       "<!-- ModExp -->\n",
       "<g id=\"node2\" class=\"node\">\n",
       "<title>ModExp</title>\n",
       "<polygon fill=\"none\" stroke=\"black\" points=\"103,-66 103,-83 159,-83 159,-66 103,-66\"/>\n",
       "<text text-anchor=\"start\" x=\"113.5\" y=\"-72\" font-family=\"Times,serif\" font-size=\"10.00\">g^e % N</text>\n",
       "<polygon fill=\"none\" stroke=\"black\" points=\"103,-45 103,-66 159,-66 159,-45 103,-45\"/>\n",
       "<text text-anchor=\"start\" x=\"106\" y=\"-51.8\" font-family=\"Times,serif\" font-size=\"14.00\">exponent</text>\n",
       "<polygon fill=\"none\" stroke=\"black\" points=\"103,-24 103,-45 127,-45 127,-24 103,-24\"/>\n",
       "<polygon fill=\"none\" stroke=\"black\" points=\"127,-24 127,-45 159,-45 159,-24 127,-24\"/>\n",
       "<text text-anchor=\"start\" x=\"139.5\" y=\"-30.8\" font-family=\"Times,serif\" font-size=\"14.00\">x</text>\n",
       "</g>\n",
       "<!-- exponent_G4&#45;&gt;ModExp -->\n",
       "<g id=\"edge1\" class=\"edge\">\n",
       "<title>exponent_G4:e-&gt;ModExp:w</title>\n",
       "<path fill=\"none\" stroke=\"black\" d=\"M66,-56C81.67,-56 86.14,-56 100.77,-56\"/>\n",
       "<ellipse fill=\"black\" stroke=\"black\" cx=\"102\" cy=\"-56\" rx=\"1\" ry=\"1\"/>\n",
       "<text text-anchor=\"middle\" x=\"84.5\" y=\"-59\" font-family=\"Times,serif\" font-size=\"10.00\">n_e</text>\n",
       "</g>\n",
       "<!-- exponent_G1 -->\n",
       "<g id=\"node3\" class=\"node\">\n",
       "<title>exponent_G1</title>\n",
       "<text text-anchor=\"middle\" x=\"229\" y=\"-68.3\" font-family=\"Times,serif\" font-size=\"14.00\">exponent</text>\n",
       "</g>\n",
       "<!-- ModExp&#45;&gt;exponent_G1 -->\n",
       "<g id=\"edge2\" class=\"edge\">\n",
       "<title>ModExp:e-&gt;exponent_G1:w</title>\n",
       "<path fill=\"none\" stroke=\"black\" d=\"M159,-56C176.22,-56 177.97,-70.77 193.98,-71.93\"/>\n",
       "<ellipse fill=\"black\" stroke=\"black\" cx=\"195\" cy=\"-71.96\" rx=\"1\" ry=\"1\"/>\n",
       "<text text-anchor=\"middle\" x=\"177.5\" y=\"-67\" font-family=\"Times,serif\" font-size=\"10.00\">n_e</text>\n",
       "</g>\n",
       "<!-- x_G2 -->\n",
       "<g id=\"node4\" class=\"node\">\n",
       "<title>x_G2</title>\n",
       "<text text-anchor=\"middle\" x=\"229\" y=\"-14.3\" font-family=\"Times,serif\" font-size=\"14.00\">x</text>\n",
       "</g>\n",
       "<!-- ModExp&#45;&gt;x_G2 -->\n",
       "<g id=\"edge3\" class=\"edge\">\n",
       "<title>ModExp:e-&gt;x_G2:w</title>\n",
       "<path fill=\"none\" stroke=\"black\" d=\"M159,-34C178.2,-34 180.84,-19.23 198.74,-18.07\"/>\n",
       "<ellipse fill=\"black\" stroke=\"black\" cx=\"200\" cy=\"-18.03\" rx=\"1\" ry=\"1\"/>\n",
       "<text text-anchor=\"middle\" x=\"177.5\" y=\"-31\" font-family=\"Times,serif\" font-size=\"10.00\">n_x</text>\n",
       "</g>\n",
       "</g>\n",
       "</svg>"
      ],
      "text/plain": [
       "<IPython.core.display.SVG object>"
      ]
     },
     "metadata": {},
     "output_type": "display_data"
    }
   ],
   "source": [
    "g, N, n_e, n_x = sympy.symbols('g N n_e, n_x')\n",
    "bloq = ModExp(base=g, mod=N, exp_bitsize=n_e, x_bitsize=n_x)\n",
    "show_bloq(bloq)"
   ]
  },
  {
   "cell_type": "code",
   "execution_count": 8,
   "id": "5d08252a",
   "metadata": {
    "execution": {
     "iopub.execute_input": "2023-07-21T13:43:17.337316Z",
     "iopub.status.busy": "2023-07-21T13:43:17.337110Z",
     "iopub.status.idle": "2023-07-21T13:43:17.343769Z",
     "shell.execute_reply": "2023-07-21T13:43:17.343499Z"
    }
   },
   "outputs": [
    {
     "data": {
      "text/latex": [
       "$\\displaystyle g^{b} \\bmod N$"
      ],
      "text/plain": [
       "Mod(g**b, N)"
      ]
     },
     "execution_count": 8,
     "metadata": {},
     "output_type": "execute_result"
    }
   ],
   "source": [
    "b, x = bloq.call_classically(exponent=sympy.Symbol('b'))\n",
    "x"
   ]
  },
  {
   "cell_type": "markdown",
   "id": "e60ed071",
   "metadata": {},
   "source": [
    "### Bloq counts\n",
    "\n",
    "We can see how the modular arithmetic functions decompose into other bloqs until we get to something that can be expressed with T gates."
   ]
  },
  {
   "cell_type": "code",
   "execution_count": 9,
   "id": "da17e8e3",
   "metadata": {
    "execution": {
     "iopub.execute_input": "2023-07-21T13:43:17.345261Z",
     "iopub.status.busy": "2023-07-21T13:43:17.345157Z",
     "iopub.status.idle": "2023-07-21T13:43:17.418139Z",
     "shell.execute_reply": "2023-07-21T13:43:17.417779Z"
    },
    "scrolled": false
   },
   "outputs": [
    {
     "data": {
      "image/svg+xml": [
       "<svg xmlns=\"http://www.w3.org/2000/svg\" xmlns:xlink=\"http://www.w3.org/1999/xlink\" width=\"609pt\" height=\"479pt\" viewBox=\"0.00 0.00 609.00 479.00\">\n",
       "<g id=\"graph0\" class=\"graph\" transform=\"scale(1 1) rotate(0) translate(4 475)\">\n",
       "<title>counts</title>\n",
       "<polygon fill=\"white\" stroke=\"none\" points=\"-4,4 -4,-475 605,-475 605,4 -4,4\"/>\n",
       "<!-- b0 -->\n",
       "<g id=\"node1\" class=\"node\">\n",
       "<title>b0</title>\n",
       "<polygon fill=\"none\" stroke=\"black\" points=\"375,-471 40,-471 40,-435 375,-435 375,-471\"/>\n",
       "<text text-anchor=\"start\" x=\"183\" y=\"-454.8\" font-family=\"Times,serif\" font-size=\"14.00\">ModExp</text>\n",
       "<text text-anchor=\"start\" x=\"48\" y=\"-444\" font-family=\"monospace\" font-size=\"10.00\">ModExp(base=g, mod=N, exp_bitsize=n_e, x_bitsize=n_x)</text>\n",
       "</g>\n",
       "<!-- b1 -->\n",
       "<g id=\"node2\" class=\"node\">\n",
       "<title>b1</title>\n",
       "<polygon fill=\"none\" stroke=\"black\" points=\"185,-384 0,-384 0,-348 185,-348 185,-384\"/>\n",
       "<text text-anchor=\"start\" x=\"83\" y=\"-367.8\" font-family=\"Times,serif\" font-size=\"14.00\">|1&gt;</text>\n",
       "<text text-anchor=\"start\" x=\"8\" y=\"-357\" font-family=\"monospace\" font-size=\"10.00\">IntState(val=1, bitsize=n_x)</text>\n",
       "</g>\n",
       "<!-- b0&#45;&gt;b1 -->\n",
       "<g id=\"edge1\" class=\"edge\">\n",
       "<title>b0-&gt;b1</title>\n",
       "<path fill=\"none\" stroke=\"black\" d=\"M184.23,-434.8C166.85,-421.95 142.91,-404.26 123.84,-390.17\"/>\n",
       "<polygon fill=\"black\" stroke=\"black\" points=\"125.86,-387.3 115.74,-384.18 121.7,-392.93 125.86,-387.3\"/>\n",
       "<text text-anchor=\"middle\" x=\"161\" y=\"-405.8\" font-family=\"Times,serif\" font-size=\"14.00\">1</text>\n",
       "</g>\n",
       "<!-- b2 -->\n",
       "<g id=\"node3\" class=\"node\">\n",
       "<title>b2</title>\n",
       "<polygon fill=\"none\" stroke=\"black\" points=\"443,-384 204,-384 204,-348 443,-348 443,-384\"/>\n",
       "<text text-anchor=\"start\" x=\"288\" y=\"-367.8\" font-family=\"Times,serif\" font-size=\"14.00\">CtrlModMul</text>\n",
       "<text text-anchor=\"start\" x=\"212\" y=\"-357\" font-family=\"monospace\" font-size=\"10.00\">CtrlModMul(k=_k0, mod=N, bitsize=n_x)</text>\n",
       "</g>\n",
       "<!-- b0&#45;&gt;b2 -->\n",
       "<g id=\"edge2\" class=\"edge\">\n",
       "<title>b0-&gt;b2</title>\n",
       "<path fill=\"none\" stroke=\"black\" d=\"M230.97,-434.8C248.51,-421.95 272.65,-404.26 291.88,-390.17\"/>\n",
       "<polygon fill=\"black\" stroke=\"black\" points=\"294.06,-392.91 300.06,-384.18 289.93,-387.26 294.06,-392.91\"/>\n",
       "<text text-anchor=\"middle\" x=\"277\" y=\"-405.8\" font-family=\"Times,serif\" font-size=\"14.00\">nₑ</text>\n",
       "</g>\n",
       "<!-- b3 -->\n",
       "<g id=\"node4\" class=\"node\">\n",
       "<title>b3</title>\n",
       "<polygon fill=\"none\" stroke=\"black\" points=\"171,-297 10,-297 10,-261 171,-261 171,-297\"/>\n",
       "<text text-anchor=\"start\" x=\"43.5\" y=\"-280.8\" font-family=\"Times,serif\" font-size=\"14.00\">ArbitraryClifford</text>\n",
       "<text text-anchor=\"start\" x=\"18\" y=\"-270\" font-family=\"monospace\" font-size=\"10.00\">ArbitraryClifford(n=n_x)</text>\n",
       "</g>\n",
       "<!-- b1&#45;&gt;b3 -->\n",
       "<g id=\"edge3\" class=\"edge\">\n",
       "<title>b1-&gt;b3</title>\n",
       "<path fill=\"none\" stroke=\"black\" d=\"M92.1,-347.8C91.82,-336.16 91.45,-320.55 91.14,-307.24\"/>\n",
       "<polygon fill=\"black\" stroke=\"black\" points=\"94.64,-307.09 90.9,-297.18 87.64,-307.26 94.64,-307.09\"/>\n",
       "<text text-anchor=\"middle\" x=\"105.5\" y=\"-318.8\" font-family=\"Times,serif\" font-size=\"14.00\">O(1)</text>\n",
       "</g>\n",
       "<!-- b4 -->\n",
       "<g id=\"node5\" class=\"node\">\n",
       "<title>b4</title>\n",
       "<polygon fill=\"none\" stroke=\"black\" points=\"458,-297 189,-297 189,-261 458,-261 458,-297\"/>\n",
       "<text text-anchor=\"start\" x=\"273.5\" y=\"-280.8\" font-family=\"Times,serif\" font-size=\"14.00\">CtrlScaleModAdd</text>\n",
       "<text text-anchor=\"start\" x=\"197\" y=\"-270\" font-family=\"monospace\" font-size=\"10.00\">CtrlScaleModAdd(k=_k1, mod=N, bitsize=n_x)</text>\n",
       "</g>\n",
       "<!-- b2&#45;&gt;b4 -->\n",
       "<g id=\"edge4\" class=\"edge\">\n",
       "<title>b2-&gt;b4</title>\n",
       "<path fill=\"none\" stroke=\"black\" d=\"M323.5,-347.8C323.5,-336.16 323.5,-320.55 323.5,-307.24\"/>\n",
       "<polygon fill=\"black\" stroke=\"black\" points=\"327,-307.18 323.5,-297.18 320,-307.18 327,-307.18\"/>\n",
       "<text text-anchor=\"middle\" x=\"327\" y=\"-318.8\" font-family=\"Times,serif\" font-size=\"14.00\">2</text>\n",
       "</g>\n",
       "<!-- b5 -->\n",
       "<g id=\"node6\" class=\"node\">\n",
       "<title>b5</title>\n",
       "<polygon fill=\"none\" stroke=\"black\" points=\"601,-297 476,-297 476,-261 601,-261 601,-297\"/>\n",
       "<text text-anchor=\"start\" x=\"518.5\" y=\"-280.8\" font-family=\"Times,serif\" font-size=\"14.00\">CSwap</text>\n",
       "<text text-anchor=\"start\" x=\"484\" y=\"-270\" font-family=\"monospace\" font-size=\"10.00\">CSwap(bitsize=n_x)</text>\n",
       "</g>\n",
       "<!-- b2&#45;&gt;b5 -->\n",
       "<g id=\"edge5\" class=\"edge\">\n",
       "<title>b2-&gt;b5</title>\n",
       "<path fill=\"none\" stroke=\"black\" d=\"M366.75,-347.9C401.08,-334.33 449.22,-315.29 485.81,-300.83\"/>\n",
       "<polygon fill=\"black\" stroke=\"black\" points=\"487.31,-304 495.32,-297.07 484.73,-297.49 487.31,-304\"/>\n",
       "<text text-anchor=\"middle\" x=\"447\" y=\"-318.8\" font-family=\"Times,serif\" font-size=\"14.00\">1</text>\n",
       "</g>\n",
       "<!-- b6 -->\n",
       "<g id=\"node7\" class=\"node\">\n",
       "<title>b6</title>\n",
       "<polygon fill=\"none\" stroke=\"black\" points=\"446,-210 201,-210 201,-174 446,-174 446,-210\"/>\n",
       "<text text-anchor=\"start\" x=\"283\" y=\"-193.8\" font-family=\"Times,serif\" font-size=\"14.00\">CtrlModAddK</text>\n",
       "<text text-anchor=\"start\" x=\"209\" y=\"-183\" font-family=\"monospace\" font-size=\"10.00\">CtrlModAddK(k=_k2, mod=N, bitsize=n_x)</text>\n",
       "</g>\n",
       "<!-- b4&#45;&gt;b6 -->\n",
       "<g id=\"edge6\" class=\"edge\">\n",
       "<title>b4-&gt;b6</title>\n",
       "<path fill=\"none\" stroke=\"black\" d=\"M323.5,-260.8C323.5,-249.16 323.5,-233.55 323.5,-220.24\"/>\n",
       "<polygon fill=\"black\" stroke=\"black\" points=\"327,-220.18 323.5,-210.18 320,-220.18 327,-220.18\"/>\n",
       "<text text-anchor=\"middle\" x=\"329\" y=\"-231.8\" font-family=\"Times,serif\" font-size=\"14.00\">nₓ</text>\n",
       "</g>\n",
       "<!-- b7 -->\n",
       "<g id=\"node8\" class=\"node\">\n",
       "<title>b7</title>\n",
       "<polygon fill=\"none\" stroke=\"black\" points=\"587,-210 490,-210 490,-174 587,-174 587,-210\"/>\n",
       "<text text-anchor=\"start\" x=\"498\" y=\"-193.8\" font-family=\"Times,serif\" font-size=\"14.00\">TwoBitCSwap</text>\n",
       "<text text-anchor=\"start\" x=\"499\" y=\"-183\" font-family=\"monospace\" font-size=\"10.00\">TwoBitCSwap()</text>\n",
       "</g>\n",
       "<!-- b5&#45;&gt;b7 -->\n",
       "<g id=\"edge9\" class=\"edge\">\n",
       "<title>b5-&gt;b7</title>\n",
       "<path fill=\"none\" stroke=\"black\" d=\"M538.5,-260.8C538.5,-249.16 538.5,-233.55 538.5,-220.24\"/>\n",
       "<polygon fill=\"black\" stroke=\"black\" points=\"542,-220.18 538.5,-210.18 535,-220.18 542,-220.18\"/>\n",
       "<text text-anchor=\"middle\" x=\"544\" y=\"-231.8\" font-family=\"Times,serif\" font-size=\"14.00\">nₓ</text>\n",
       "</g>\n",
       "<!-- b8 -->\n",
       "<g id=\"node9\" class=\"node\">\n",
       "<title>b8</title>\n",
       "<polygon fill=\"none\" stroke=\"black\" points=\"416,-123 231,-123 231,-87 416,-87 416,-123\"/>\n",
       "<text text-anchor=\"start\" x=\"296\" y=\"-106.8\" font-family=\"Times,serif\" font-size=\"14.00\">CtrlAddK</text>\n",
       "<text text-anchor=\"start\" x=\"239\" y=\"-96\" font-family=\"monospace\" font-size=\"10.00\">CtrlAddK(k=_k3, bitsize=n_x)</text>\n",
       "</g>\n",
       "<!-- b6&#45;&gt;b8 -->\n",
       "<g id=\"edge7\" class=\"edge\">\n",
       "<title>b6-&gt;b8</title>\n",
       "<path fill=\"none\" stroke=\"black\" d=\"M323.5,-173.8C323.5,-162.16 323.5,-146.55 323.5,-133.24\"/>\n",
       "<polygon fill=\"black\" stroke=\"black\" points=\"327,-133.18 323.5,-123.18 320,-133.18 327,-133.18\"/>\n",
       "<text text-anchor=\"middle\" x=\"327\" y=\"-144.8\" font-family=\"Times,serif\" font-size=\"14.00\">5</text>\n",
       "</g>\n",
       "<!-- b9 -->\n",
       "<g id=\"node10\" class=\"node\">\n",
       "<title>b9</title>\n",
       "<polygon fill=\"none\" stroke=\"black\" points=\"353,-36 294,-36 294,0 353,0 353,-36\"/>\n",
       "<text text-anchor=\"start\" x=\"306.5\" y=\"-19.8\" font-family=\"Times,serif\" font-size=\"14.00\">TGate</text>\n",
       "<text text-anchor=\"start\" x=\"302\" y=\"-9\" font-family=\"monospace\" font-size=\"10.00\">TGate()</text>\n",
       "</g>\n",
       "<!-- b8&#45;&gt;b9 -->\n",
       "<g id=\"edge8\" class=\"edge\">\n",
       "<title>b8-&gt;b9</title>\n",
       "<path fill=\"none\" stroke=\"black\" d=\"M323.5,-86.8C323.5,-75.16 323.5,-59.55 323.5,-46.24\"/>\n",
       "<polygon fill=\"black\" stroke=\"black\" points=\"327,-46.18 323.5,-36.18 320,-46.18 327,-46.18\"/>\n",
       "<text text-anchor=\"middle\" x=\"334.5\" y=\"-57.8\" font-family=\"Times,serif\" font-size=\"14.00\">2⋅nₓ</text>\n",
       "</g>\n",
       "</g>\n",
       "</svg>"
      ],
      "text/plain": [
       "<IPython.core.display.SVG object>"
      ]
     },
     "execution_count": 9,
     "metadata": {},
     "output_type": "execute_result"
    }
   ],
   "source": [
    "from qualtran.resource_counting import get_bloq_counts_graph, GraphvizCounts, markdown_counts_sigma\n",
    "g, sigma = get_bloq_counts_graph(bloq)\n",
    "GraphvizCounts(g).get_svg()"
   ]
  },
  {
   "cell_type": "code",
   "execution_count": 10,
   "id": "18e83743",
   "metadata": {
    "execution": {
     "iopub.execute_input": "2023-07-21T13:43:17.419834Z",
     "iopub.status.busy": "2023-07-21T13:43:17.419726Z",
     "iopub.status.idle": "2023-07-21T13:43:17.422942Z",
     "shell.execute_reply": "2023-07-21T13:43:17.422620Z"
    }
   },
   "outputs": [
    {
     "data": {
      "text/markdown": [
       " - `ArbitraryClifford(n=n_x)`: $\\displaystyle O\\left(1\\right)$\n",
       " - `TGate()`: $\\displaystyle 20 n_{e} n_{x}^{2}$\n",
       " - `TwoBitCSwap()`: $\\displaystyle n_{e} n_{x}$"
      ],
      "text/plain": [
       "<IPython.core.display.Markdown object>"
      ]
     },
     "execution_count": 10,
     "metadata": {},
     "output_type": "execute_result"
    }
   ],
   "source": [
    "markdown_counts_sigma(sigma)"
   ]
  },
  {
   "cell_type": "markdown",
   "id": "55250b32",
   "metadata": {
    "cq.autogen": "_make_modmul.md"
   },
   "source": [
    "## `CtrlModMul`\n",
    "Perform controlled `x *= k mod m` for constant k, m and variable x.\n",
    "\n",
    "#### Parameters\n",
    " - `k`: The integer multiplicative constant.\n",
    " - `mod`: The integer modulus.\n",
    " - `bitsize`: The size of the `x` register. \n",
    "\n",
    "Registers:\n",
    " - ctrl: The control bit\n",
    " - x: The integer being multiplied"
   ]
  },
  {
   "cell_type": "code",
   "execution_count": 11,
   "id": "7cefa340",
   "metadata": {
    "cq.autogen": "_make_modmul.py",
    "execution": {
     "iopub.execute_input": "2023-07-21T13:43:17.424560Z",
     "iopub.status.busy": "2023-07-21T13:43:17.424456Z",
     "iopub.status.idle": "2023-07-21T13:43:17.486444Z",
     "shell.execute_reply": "2023-07-21T13:43:17.486050Z"
    }
   },
   "outputs": [
    {
     "data": {
      "image/svg+xml": [
       "<svg xmlns=\"http://www.w3.org/2000/svg\" xmlns:xlink=\"http://www.w3.org/1999/xlink\" width=\"262pt\" height=\"98pt\" viewBox=\"0.00 0.00 262.00 98.00\">\n",
       "<g id=\"graph0\" class=\"graph\" transform=\"scale(1 1) rotate(0) translate(4 94)\">\n",
       "<title>my_graph</title>\n",
       "<polygon fill=\"white\" stroke=\"none\" points=\"-4,4 -4,-94 258,-94 258,4 -4,4\"/>\n",
       "<!-- ctrl_G1 -->\n",
       "<g id=\"node1\" class=\"node\">\n",
       "<title>ctrl_G1</title>\n",
       "<text text-anchor=\"middle\" x=\"27\" y=\"-68.3\" font-family=\"Times,serif\" font-size=\"14.00\">ctrl</text>\n",
       "</g>\n",
       "<!-- CtrlModMul -->\n",
       "<g id=\"node3\" class=\"node\">\n",
       "<title>CtrlModMul</title>\n",
       "<polygon fill=\"none\" stroke=\"black\" points=\"91,-66 91,-83 163,-83 163,-66 91,-66\"/>\n",
       "<text text-anchor=\"start\" x=\"94\" y=\"-72\" font-family=\"Times,serif\" font-size=\"10.00\">x *= 123 % 221</text>\n",
       "<polygon fill=\"none\" stroke=\"black\" points=\"91,-45 91,-66 163,-66 163,-45 91,-45\"/>\n",
       "<text text-anchor=\"start\" x=\"117.5\" y=\"-51.8\" font-family=\"Times,serif\" font-size=\"14.00\">ctrl</text>\n",
       "<polygon fill=\"none\" stroke=\"black\" points=\"91,-24 91,-45 163,-45 163,-24 91,-24\"/>\n",
       "<text text-anchor=\"start\" x=\"123.5\" y=\"-30.8\" font-family=\"Times,serif\" font-size=\"14.00\">x</text>\n",
       "</g>\n",
       "<!-- ctrl_G1&#45;&gt;CtrlModMul -->\n",
       "<g id=\"edge1\" class=\"edge\">\n",
       "<title>ctrl_G1:e-&gt;CtrlModMul:w</title>\n",
       "<path fill=\"none\" stroke=\"black\" d=\"M54,-72C71.22,-72 72.97,-57.23 88.98,-56.07\"/>\n",
       "<ellipse fill=\"black\" stroke=\"black\" cx=\"90\" cy=\"-56.04\" rx=\"1\" ry=\"1\"/>\n",
       "<text text-anchor=\"middle\" x=\"72.5\" y=\"-67\" font-family=\"Times,serif\" font-size=\"10.00\">1</text>\n",
       "</g>\n",
       "<!-- x_G5 -->\n",
       "<g id=\"node2\" class=\"node\">\n",
       "<title>x_G5</title>\n",
       "<text text-anchor=\"middle\" x=\"27\" y=\"-14.3\" font-family=\"Times,serif\" font-size=\"14.00\">x</text>\n",
       "</g>\n",
       "<!-- x_G5&#45;&gt;CtrlModMul -->\n",
       "<g id=\"edge2\" class=\"edge\">\n",
       "<title>x_G5:e-&gt;CtrlModMul:w</title>\n",
       "<path fill=\"none\" stroke=\"black\" d=\"M54,-18C71.22,-18 72.97,-32.77 88.98,-33.93\"/>\n",
       "<ellipse fill=\"black\" stroke=\"black\" cx=\"90\" cy=\"-33.96\" rx=\"1\" ry=\"1\"/>\n",
       "<text text-anchor=\"middle\" x=\"72.5\" y=\"-29\" font-family=\"Times,serif\" font-size=\"10.00\">8</text>\n",
       "</g>\n",
       "<!-- ctrl_G0 -->\n",
       "<g id=\"node4\" class=\"node\">\n",
       "<title>ctrl_G0</title>\n",
       "<text text-anchor=\"middle\" x=\"227\" y=\"-68.3\" font-family=\"Times,serif\" font-size=\"14.00\">ctrl</text>\n",
       "</g>\n",
       "<!-- CtrlModMul&#45;&gt;ctrl_G0 -->\n",
       "<g id=\"edge3\" class=\"edge\">\n",
       "<title>CtrlModMul:e-&gt;ctrl_G0:w</title>\n",
       "<path fill=\"none\" stroke=\"black\" d=\"M163,-56C180.22,-56 181.97,-70.77 197.98,-71.93\"/>\n",
       "<ellipse fill=\"black\" stroke=\"black\" cx=\"199\" cy=\"-71.96\" rx=\"1\" ry=\"1\"/>\n",
       "<text text-anchor=\"middle\" x=\"181.5\" y=\"-67\" font-family=\"Times,serif\" font-size=\"10.00\">1</text>\n",
       "</g>\n",
       "<!-- x_G3 -->\n",
       "<g id=\"node5\" class=\"node\">\n",
       "<title>x_G3</title>\n",
       "<text text-anchor=\"middle\" x=\"227\" y=\"-14.3\" font-family=\"Times,serif\" font-size=\"14.00\">x</text>\n",
       "</g>\n",
       "<!-- CtrlModMul&#45;&gt;x_G3 -->\n",
       "<g id=\"edge4\" class=\"edge\">\n",
       "<title>CtrlModMul:e-&gt;x_G3:w</title>\n",
       "<path fill=\"none\" stroke=\"black\" d=\"M163,-34C180.22,-34 181.97,-19.23 197.98,-18.07\"/>\n",
       "<ellipse fill=\"black\" stroke=\"black\" cx=\"199\" cy=\"-18.04\" rx=\"1\" ry=\"1\"/>\n",
       "<text text-anchor=\"middle\" x=\"181.5\" y=\"-29\" font-family=\"Times,serif\" font-size=\"10.00\">8</text>\n",
       "</g>\n",
       "</g>\n",
       "</svg>"
      ],
      "text/plain": [
       "<IPython.core.display.SVG object>"
      ]
     },
     "metadata": {},
     "output_type": "display_data"
    }
   ],
   "source": [
    "from qualtran.bloqs.factoring.mod_mul import CtrlModMul\n",
    "\n",
    "bloq = CtrlModMul(k=123, mod=13 * 17, bitsize=8)\n",
    "show_bloq(bloq)"
   ]
  },
  {
   "cell_type": "code",
   "execution_count": 12,
   "id": "6986e674",
   "metadata": {
    "execution": {
     "iopub.execute_input": "2023-07-21T13:43:17.488200Z",
     "iopub.status.busy": "2023-07-21T13:43:17.488074Z",
     "iopub.status.idle": "2023-07-21T13:43:17.555598Z",
     "shell.execute_reply": "2023-07-21T13:43:17.555200Z"
    }
   },
   "outputs": [
    {
     "data": {
      "image/svg+xml": [
       "<svg xmlns=\"http://www.w3.org/2000/svg\" xmlns:xlink=\"http://www.w3.org/1999/xlink\" width=\"460pt\" height=\"158pt\" viewBox=\"0.00 0.00 460.00 158.00\">\n",
       "<g id=\"graph0\" class=\"graph\" transform=\"scale(1 1) rotate(0) translate(4 154)\">\n",
       "<title>my_graph</title>\n",
       "<polygon fill=\"white\" stroke=\"none\" points=\"-4,4 -4,-154 456,-154 456,4 -4,4\"/>\n",
       "<!-- ctrl_G7 -->\n",
       "<g id=\"node1\" class=\"node\">\n",
       "<title>ctrl_G7</title>\n",
       "<text text-anchor=\"middle\" x=\"27\" y=\"-124.3\" font-family=\"Times,serif\" font-size=\"14.00\">ctrl</text>\n",
       "</g>\n",
       "<!-- CtrlScaleModAdd_G0 -->\n",
       "<g id=\"node5\" class=\"node\">\n",
       "<title>CtrlScaleModAdd_G0</title>\n",
       "<polygon fill=\"none\" stroke=\"black\" points=\"91.5,-106 91.5,-123 174.5,-123 174.5,-106 91.5,-106\"/>\n",
       "<text text-anchor=\"start\" x=\"94.5\" y=\"-112\" font-family=\"Times,serif\" font-size=\"10.00\">y += x*123 % 221</text>\n",
       "<polygon fill=\"none\" stroke=\"black\" points=\"91.5,-85 91.5,-106 174.5,-106 174.5,-85 91.5,-85\"/>\n",
       "<text text-anchor=\"start\" x=\"123.5\" y=\"-91.8\" font-family=\"Times,serif\" font-size=\"14.00\">ctrl</text>\n",
       "<polygon fill=\"none\" stroke=\"black\" points=\"91.5,-64 91.5,-85 174.5,-85 174.5,-64 91.5,-64\"/>\n",
       "<text text-anchor=\"start\" x=\"129.5\" y=\"-70.8\" font-family=\"Times,serif\" font-size=\"14.00\">x</text>\n",
       "<polygon fill=\"none\" stroke=\"black\" points=\"91.5,-43 91.5,-64 174.5,-64 174.5,-43 91.5,-43\"/>\n",
       "<text text-anchor=\"start\" x=\"129.5\" y=\"-49.8\" font-family=\"Times,serif\" font-size=\"14.00\">y</text>\n",
       "</g>\n",
       "<!-- ctrl_G7&#45;&gt;CtrlScaleModAdd_G0 -->\n",
       "<g id=\"edge1\" class=\"edge\">\n",
       "<title>ctrl_G7:e-&gt;CtrlScaleModAdd_G0:w</title>\n",
       "<path fill=\"none\" stroke=\"black\" d=\"M54,-128C74.89,-128 69.72,-98.45 88.58,-96.14\"/>\n",
       "<ellipse fill=\"black\" stroke=\"black\" cx=\"90\" cy=\"-96.06\" rx=\"1\" ry=\"1\"/>\n",
       "<text text-anchor=\"middle\" x=\"72.5\" y=\"-115\" font-family=\"Times,serif\" font-size=\"10.00\">1</text>\n",
       "</g>\n",
       "<!-- x_G13 -->\n",
       "<g id=\"node2\" class=\"node\">\n",
       "<title>x_G13</title>\n",
       "<text text-anchor=\"middle\" x=\"27\" y=\"-70.3\" font-family=\"Times,serif\" font-size=\"14.00\">x</text>\n",
       "</g>\n",
       "<!-- x_G13&#45;&gt;CtrlScaleModAdd_G0 -->\n",
       "<g id=\"edge2\" class=\"edge\">\n",
       "<title>x_G13:e-&gt;CtrlScaleModAdd_G0:w</title>\n",
       "<path fill=\"none\" stroke=\"black\" d=\"M54,-74C69.67,-74 74.14,-74 88.77,-74\"/>\n",
       "<ellipse fill=\"black\" stroke=\"black\" cx=\"90\" cy=\"-74\" rx=\"1\" ry=\"1\"/>\n",
       "<text text-anchor=\"middle\" x=\"72.5\" y=\"-77\" font-family=\"Times,serif\" font-size=\"10.00\">8</text>\n",
       "</g>\n",
       "<!-- CtrlScaleModAdd -->\n",
       "<g id=\"node3\" class=\"node\">\n",
       "<title>CtrlScaleModAdd</title>\n",
       "<polygon fill=\"none\" stroke=\"black\" points=\"211.5,-108 211.5,-125 296.5,-125 296.5,-108 211.5,-108\"/>\n",
       "<text text-anchor=\"start\" x=\"214.5\" y=\"-114\" font-family=\"Times,serif\" font-size=\"10.00\">y += x*-115 % 221</text>\n",
       "<polygon fill=\"none\" stroke=\"black\" points=\"211.5,-87 211.5,-108 296.5,-108 296.5,-87 211.5,-87\"/>\n",
       "<text text-anchor=\"start\" x=\"244.5\" y=\"-93.8\" font-family=\"Times,serif\" font-size=\"14.00\">ctrl</text>\n",
       "<polygon fill=\"none\" stroke=\"black\" points=\"211.5,-66 211.5,-87 296.5,-87 296.5,-66 211.5,-66\"/>\n",
       "<text text-anchor=\"start\" x=\"250.5\" y=\"-72.8\" font-family=\"Times,serif\" font-size=\"14.00\">x</text>\n",
       "<polygon fill=\"none\" stroke=\"black\" points=\"211.5,-45 211.5,-66 296.5,-66 296.5,-45 211.5,-45\"/>\n",
       "<text text-anchor=\"start\" x=\"250.5\" y=\"-51.8\" font-family=\"Times,serif\" font-size=\"14.00\">y</text>\n",
       "</g>\n",
       "<!-- CSwap -->\n",
       "<g id=\"node7\" class=\"node\">\n",
       "<title>CSwap</title>\n",
       "<polygon fill=\"none\" stroke=\"black\" points=\"333,-110 333,-127 361,-127 361,-110 333,-110\"/>\n",
       "<text text-anchor=\"start\" x=\"336\" y=\"-116\" font-family=\"Times,serif\" font-size=\"10.00\">swap</text>\n",
       "<polygon fill=\"none\" stroke=\"black\" points=\"333,-89 333,-110 361,-110 361,-89 333,-89\"/>\n",
       "<text text-anchor=\"start\" x=\"337.5\" y=\"-95.8\" font-family=\"Times,serif\" font-size=\"14.00\">ctrl</text>\n",
       "<polygon fill=\"none\" stroke=\"black\" points=\"333,-68 333,-89 361,-89 361,-68 333,-68\"/>\n",
       "<text text-anchor=\"start\" x=\"343.5\" y=\"-74.8\" font-family=\"Times,serif\" font-size=\"14.00\">x</text>\n",
       "<polygon fill=\"none\" stroke=\"black\" points=\"333,-47 333,-68 361,-68 361,-47 333,-47\"/>\n",
       "<text text-anchor=\"start\" x=\"343.5\" y=\"-53.8\" font-family=\"Times,serif\" font-size=\"14.00\">y</text>\n",
       "</g>\n",
       "<!-- CtrlScaleModAdd&#45;&gt;CSwap -->\n",
       "<g id=\"edge7\" class=\"edge\">\n",
       "<title>CtrlScaleModAdd:e-&gt;CSwap:w</title>\n",
       "<path fill=\"none\" stroke=\"black\" d=\"M296,-98C311.7,-98 316.12,-99.82 330.76,-99.99\"/>\n",
       "<ellipse fill=\"black\" stroke=\"black\" cx=\"332\" cy=\"-99.99\" rx=\"1\" ry=\"1\"/>\n",
       "<text text-anchor=\"middle\" x=\"314.5\" y=\"-102\" font-family=\"Times,serif\" font-size=\"10.00\">1</text>\n",
       "</g>\n",
       "<!-- CtrlScaleModAdd&#45;&gt;CSwap -->\n",
       "<g id=\"edge8\" class=\"edge\">\n",
       "<title>CtrlScaleModAdd:e-&gt;CSwap:w</title>\n",
       "<path fill=\"none\" stroke=\"black\" d=\"M296,-55C304.86,-55 307.37,-56.51 315,-61 323.75,-66.14 322.31,-76.25 330.66,-77.8\"/>\n",
       "<ellipse fill=\"black\" stroke=\"black\" cx=\"332\" cy=\"-77.91\" rx=\"1\" ry=\"1\"/>\n",
       "<text text-anchor=\"middle\" x=\"314.5\" y=\"-64\" font-family=\"Times,serif\" font-size=\"10.00\">8</text>\n",
       "</g>\n",
       "<!-- CtrlScaleModAdd&#45;&gt;CSwap -->\n",
       "<g id=\"edge9\" class=\"edge\">\n",
       "<title>CtrlScaleModAdd:e-&gt;CSwap:w</title>\n",
       "<path fill=\"none\" stroke=\"black\" d=\"M296,-76C313.76,-76 314.48,-58.46 330.92,-57.08\"/>\n",
       "<ellipse fill=\"black\" stroke=\"black\" cx=\"332\" cy=\"-57.04\" rx=\"1\" ry=\"1\"/>\n",
       "<text text-anchor=\"middle\" x=\"314.5\" y=\"-69\" font-family=\"Times,serif\" font-size=\"10.00\">8</text>\n",
       "</g>\n",
       "<!-- Allocate -->\n",
       "<g id=\"node4\" class=\"node\">\n",
       "<title>Allocate</title>\n",
       "<polygon fill=\"none\" stroke=\"black\" points=\"6,-21 6,-38 48,-38 48,-21 6,-21\"/>\n",
       "<text text-anchor=\"start\" x=\"9\" y=\"-27\" font-family=\"Times,serif\" font-size=\"10.00\">Allocate</text>\n",
       "<polygon fill=\"none\" stroke=\"black\" points=\"6,0 6,-21 13,-21 13,0 6,0\"/>\n",
       "<polygon fill=\"none\" stroke=\"black\" points=\"13,0 13,-21 48,-21 48,0 13,0\"/>\n",
       "<text text-anchor=\"start\" x=\"17\" y=\"-6.8\" font-family=\"Times,serif\" font-size=\"14.00\">alloc</text>\n",
       "</g>\n",
       "<!-- Allocate&#45;&gt;CtrlScaleModAdd_G0 -->\n",
       "<g id=\"edge3\" class=\"edge\">\n",
       "<title>Allocate:e-&gt;CtrlScaleModAdd_G0:w</title>\n",
       "<path fill=\"none\" stroke=\"black\" d=\"M49,-10C74.98,-10 64.88,-50.68 88.89,-52.91\"/>\n",
       "<ellipse fill=\"black\" stroke=\"black\" cx=\"90\" cy=\"-52.96\" rx=\"1\" ry=\"1\"/>\n",
       "<text text-anchor=\"middle\" x=\"72.5\" y=\"-43\" font-family=\"Times,serif\" font-size=\"10.00\">8</text>\n",
       "</g>\n",
       "<!-- CtrlScaleModAdd_G0&#45;&gt;CtrlScaleModAdd -->\n",
       "<g id=\"edge4\" class=\"edge\">\n",
       "<title>CtrlScaleModAdd_G0:e-&gt;CtrlScaleModAdd:w</title>\n",
       "<path fill=\"none\" stroke=\"black\" d=\"M174,-96C189.7,-96 194.12,-97.82 208.76,-97.99\"/>\n",
       "<ellipse fill=\"black\" stroke=\"black\" cx=\"210\" cy=\"-97.99\" rx=\"1\" ry=\"1\"/>\n",
       "<text text-anchor=\"middle\" x=\"192.5\" y=\"-100\" font-family=\"Times,serif\" font-size=\"10.00\">1</text>\n",
       "</g>\n",
       "<!-- CtrlScaleModAdd_G0&#45;&gt;CtrlScaleModAdd -->\n",
       "<g id=\"edge5\" class=\"edge\">\n",
       "<title>CtrlScaleModAdd_G0:e-&gt;CtrlScaleModAdd:w</title>\n",
       "<path fill=\"none\" stroke=\"black\" d=\"M174,-53C182.86,-53 185.37,-54.51 193,-59 201.75,-64.14 200.31,-74.25 208.66,-75.8\"/>\n",
       "<ellipse fill=\"black\" stroke=\"black\" cx=\"210\" cy=\"-75.91\" rx=\"1\" ry=\"1\"/>\n",
       "<text text-anchor=\"middle\" x=\"192.5\" y=\"-62\" font-family=\"Times,serif\" font-size=\"10.00\">8</text>\n",
       "</g>\n",
       "<!-- CtrlScaleModAdd_G0&#45;&gt;CtrlScaleModAdd -->\n",
       "<g id=\"edge6\" class=\"edge\">\n",
       "<title>CtrlScaleModAdd_G0:e-&gt;CtrlScaleModAdd:w</title>\n",
       "<path fill=\"none\" stroke=\"black\" d=\"M174,-74C191.76,-74 192.48,-56.46 208.92,-55.08\"/>\n",
       "<ellipse fill=\"black\" stroke=\"black\" cx=\"210\" cy=\"-55.04\" rx=\"1\" ry=\"1\"/>\n",
       "<text text-anchor=\"middle\" x=\"192.5\" y=\"-67\" font-family=\"Times,serif\" font-size=\"10.00\">8</text>\n",
       "</g>\n",
       "<!-- Free -->\n",
       "<g id=\"node6\" class=\"node\">\n",
       "<title>Free</title>\n",
       "<polygon fill=\"none\" stroke=\"black\" points=\"408,-25 408,-42 442,-42 442,-25 408,-25\"/>\n",
       "<text text-anchor=\"start\" x=\"416\" y=\"-31\" font-family=\"Times,serif\" font-size=\"10.00\">Free</text>\n",
       "<polygon fill=\"none\" stroke=\"black\" points=\"408,-4 408,-25 436,-25 436,-4 408,-4\"/>\n",
       "<text text-anchor=\"start\" x=\"411\" y=\"-10.8\" font-family=\"Times,serif\" font-size=\"14.00\">free</text>\n",
       "<polygon fill=\"none\" stroke=\"black\" points=\"436,-4 436,-25 442,-25 442,-4 436,-4\"/>\n",
       "</g>\n",
       "<!-- CSwap&#45;&gt;Free -->\n",
       "<g id=\"edge10\" class=\"edge\">\n",
       "<title>CSwap:e-&gt;Free:w</title>\n",
       "<path fill=\"none\" stroke=\"black\" d=\"M361,-57C388.22,-57 379.53,-16.32 404.79,-14.09\"/>\n",
       "<ellipse fill=\"black\" stroke=\"black\" cx=\"406\" cy=\"-14.04\" rx=\"1\" ry=\"1\"/>\n",
       "<text text-anchor=\"middle\" x=\"379.5\" y=\"-48\" font-family=\"Times,serif\" font-size=\"10.00\">8</text>\n",
       "</g>\n",
       "<!-- ctrl_G15 -->\n",
       "<g id=\"node8\" class=\"node\">\n",
       "<title>ctrl_G15</title>\n",
       "<text text-anchor=\"middle\" x=\"425\" y=\"-128.3\" font-family=\"Times,serif\" font-size=\"14.00\">ctrl</text>\n",
       "</g>\n",
       "<!-- CSwap&#45;&gt;ctrl_G15 -->\n",
       "<g id=\"edge11\" class=\"edge\">\n",
       "<title>CSwap:e-&gt;ctrl_G15:w</title>\n",
       "<path fill=\"none\" stroke=\"black\" d=\"M361,-100C381.89,-100 376.72,-129.55 395.58,-131.86\"/>\n",
       "<ellipse fill=\"black\" stroke=\"black\" cx=\"397\" cy=\"-131.94\" rx=\"1\" ry=\"1\"/>\n",
       "<text text-anchor=\"middle\" x=\"379.5\" y=\"-119\" font-family=\"Times,serif\" font-size=\"10.00\">1</text>\n",
       "</g>\n",
       "<!-- x_G11 -->\n",
       "<g id=\"node9\" class=\"node\">\n",
       "<title>x_G11</title>\n",
       "<text text-anchor=\"middle\" x=\"425\" y=\"-74.3\" font-family=\"Times,serif\" font-size=\"14.00\">x</text>\n",
       "</g>\n",
       "<!-- CSwap&#45;&gt;x_G11 -->\n",
       "<g id=\"edge12\" class=\"edge\">\n",
       "<title>CSwap:e-&gt;x_G11:w</title>\n",
       "<path fill=\"none\" stroke=\"black\" d=\"M361,-78C376.67,-78 381.14,-78 395.77,-78\"/>\n",
       "<ellipse fill=\"black\" stroke=\"black\" cx=\"397\" cy=\"-78\" rx=\"1\" ry=\"1\"/>\n",
       "<text text-anchor=\"middle\" x=\"379.5\" y=\"-81\" font-family=\"Times,serif\" font-size=\"10.00\">8</text>\n",
       "</g>\n",
       "</g>\n",
       "</svg>"
      ],
      "text/plain": [
       "<IPython.core.display.SVG object>"
      ]
     },
     "metadata": {},
     "output_type": "display_data"
    }
   ],
   "source": [
    "show_bloq(bloq.decompose_bloq())"
   ]
  }
 ],
 "metadata": {
  "kernelspec": {
   "display_name": "Python 3 (ipykernel)",
   "language": "python",
   "name": "python3"
  },
  "language_info": {
   "codemirror_mode": {
    "name": "ipython",
    "version": 3
   },
   "file_extension": ".py",
   "mimetype": "text/x-python",
   "name": "python",
   "nbconvert_exporter": "python",
   "pygments_lexer": "ipython3",
   "version": "3.10.9"
  }
 },
 "nbformat": 4,
 "nbformat_minor": 5
}
