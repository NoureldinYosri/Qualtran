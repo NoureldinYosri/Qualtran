{
 "cells": [
  {
   "cell_type": "markdown",
   "id": "02f5b269",
   "metadata": {
    "cq.autogen": "title_cell"
   },
   "source": [
    "# Modular Multiplication"
   ]
  },
  {
   "cell_type": "code",
   "execution_count": 1,
   "id": "f50d4b6a",
   "metadata": {
    "cq.autogen": "top_imports"
   },
   "outputs": [],
   "source": [
    "from qualtran import Bloq, CompositeBloq, BloqBuilder, Signature, Register\n",
    "from qualtran import QBit, QInt, QUInt, QAny\n",
    "from qualtran.drawing import show_bloq, show_call_graph, show_counts_sigma\n",
    "from typing import *\n",
    "import numpy as np\n",
    "import sympy\n",
    "import cirq"
   ]
  },
  {
   "cell_type": "markdown",
   "id": "cb2566d8",
   "metadata": {
    "cq.autogen": "CtrlModMul.bloq_doc.md"
   },
   "source": [
    "## `CtrlModMul`\n",
    "Perform controlled `x *= k mod m` for constant k, m and variable x.\n",
    "\n",
    "#### Parameters\n",
    " - `k`: The integer multiplicative constant.\n",
    " - `mod`: The integer modulus.\n",
    " - `bitsize`: The size of the `x` register. \n",
    "\n",
    "#### Registers\n",
    " - `ctrl`: The control bit\n",
    " - `x`: The integer being multiplied\n"
   ]
  },
  {
   "cell_type": "code",
   "execution_count": 2,
   "id": "96c87e53",
   "metadata": {
    "cq.autogen": "CtrlModMul.bloq_doc.py"
   },
   "outputs": [],
   "source": [
    "from qualtran.bloqs.factoring.mod_mul import CtrlModMul"
   ]
  },
  {
   "cell_type": "markdown",
   "id": "fb267af1",
   "metadata": {
    "cq.autogen": "CtrlModMul.example_instances.md"
   },
   "source": [
    "### Example Instances"
   ]
  },
  {
   "cell_type": "code",
   "execution_count": 3,
   "id": "305b2135",
   "metadata": {
    "cq.autogen": "CtrlModMul.modmul"
   },
   "outputs": [],
   "source": [
    "modmul = CtrlModMul(k=123, mod=13 * 17, bitsize=8)"
   ]
  },
  {
   "cell_type": "code",
   "execution_count": 4,
   "id": "17775149",
   "metadata": {
    "cq.autogen": "CtrlModMul.modmul_symb"
   },
   "outputs": [],
   "source": [
    "import sympy\n",
    "\n",
    "k, N, n_x = sympy.symbols('k N n_x')\n",
    "modmul_symb = CtrlModMul(k=k, mod=N, bitsize=n_x)"
   ]
  },
  {
   "cell_type": "markdown",
   "id": "9b4d86fd",
   "metadata": {
    "cq.autogen": "CtrlModMul.graphical_signature.md"
   },
   "source": [
    "#### Graphical Signature"
   ]
  },
  {
   "cell_type": "code",
   "execution_count": 5,
   "id": "a2bf9f39",
   "metadata": {
    "cq.autogen": "CtrlModMul.graphical_signature.py"
   },
   "outputs": [
    {
     "data": {
      "application/vnd.jupyter.widget-view+json": {
       "model_id": "057a7ca1d46d43d1a2a103e276776417",
       "version_major": 2,
       "version_minor": 0
      },
      "text/plain": [
       "HBox(children=(Output(outputs=({'output_type': 'display_data', 'data': {'text/plain': '<IPython.core.display.M…"
      ]
     },
     "metadata": {},
     "output_type": "display_data"
    }
   ],
   "source": [
    "from qualtran.drawing import show_bloqs\n",
    "show_bloqs([modmul_symb, modmul],\n",
    "           ['`modmul_symb`', '`modmul`'])"
   ]
  },
  {
   "cell_type": "markdown",
   "id": "d1ace88b",
   "metadata": {},
   "source": [
    "### Decomposition"
   ]
  },
  {
   "cell_type": "code",
   "execution_count": 6,
   "id": "98553706",
   "metadata": {},
   "outputs": [
    {
     "data": {
      "image/png": "[encoded data removed]",
      "text/plain": [
       "<Figure size 640x280 with 1 Axes>"
      ]
     },
     "metadata": {},
     "output_type": "display_data"
    }
   ],
   "source": [
    "show_bloq(modmul.decompose_bloq(), type='musical_score')"
   ]
  },
  {
   "cell_type": "markdown",
   "id": "88fde26e",
   "metadata": {
    "cq.autogen": "CtrlModMul.call_graph.md"
   },
   "source": [
    "### Call Graph"
   ]
  },
  {
   "cell_type": "code",
   "execution_count": 7,
   "id": "82769839",
   "metadata": {
    "cq.autogen": "CtrlModMul.call_graph.py"
   },
   "outputs": [
    {
     "data": {
      "image/svg+xml": [
       "<svg xmlns=\"http://www.w3.org/2000/svg\" xmlns:xlink=\"http://www.w3.org/1999/xlink\" width=\"276pt\" height=\"131pt\" viewBox=\"0.00 0.00 276.00 131.00\">\n",
       "<g id=\"graph0\" class=\"graph\" transform=\"scale(1 1) rotate(0) translate(4 127)\">\n",
       "<title>counts</title>\n",
       "<polygon fill=\"white\" stroke=\"transparent\" points=\"-4,4 -4,-127 272,-127 272,4 -4,4\"/>\n",
       "<!-- b0 -->\n",
       "<g id=\"node1\" class=\"node\">\n",
       "<title>b0</title>\n",
       "<polygon fill=\"none\" stroke=\"black\" points=\"232,-123 77,-123 77,-87 232,-87 232,-123\"/>\n",
       "<text text-anchor=\"start\" x=\"119\" y=\"-106.8\" font-family=\"Times,serif\" font-size=\"14.00\">CtrlModMul</text>\n",
       "<text text-anchor=\"start\" x=\"85\" y=\"-96\" font-family=\"monospace\" font-size=\"10.00\">k=k, mod=N, bitsize=n_x</text>\n",
       "</g>\n",
       "<!-- b1 -->\n",
       "<g id=\"node2\" class=\"node\">\n",
       "<title>b1</title>\n",
       "<polygon fill=\"none\" stroke=\"black\" points=\"167,-36 0,-36 0,0 167,0 167,-36\"/>\n",
       "<text text-anchor=\"start\" x=\"33.5\" y=\"-19.8\" font-family=\"Times,serif\" font-size=\"14.00\">CtrlScaleModAdd</text>\n",
       "<text text-anchor=\"start\" x=\"8\" y=\"-9\" font-family=\"monospace\" font-size=\"10.00\">k=_k0, mod=N, bitsize=n_x</text>\n",
       "</g>\n",
       "<!-- b0&#45;&gt;b1 -->\n",
       "<g id=\"edge1\" class=\"edge\">\n",
       "<title>b0-&gt;b1</title>\n",
       "<path fill=\"none\" stroke=\"black\" d=\"M140.13,-86.8C129.83,-74.47 115.81,-57.68 104.29,-43.89\"/>\n",
       "<polygon fill=\"black\" stroke=\"black\" points=\"106.94,-41.61 97.85,-36.18 101.57,-46.09 106.94,-41.61\"/>\n",
       "<text text-anchor=\"middle\" x=\"127\" y=\"-57.8\" font-family=\"Times,serif\" font-size=\"14.00\">2</text>\n",
       "</g>\n",
       "<!-- b2 -->\n",
       "<g id=\"node3\" class=\"node\">\n",
       "<title>b2</title>\n",
       "<polygon fill=\"none\" stroke=\"black\" points=\"268,-36 185,-36 185,0 268,0 268,-36\"/>\n",
       "<text text-anchor=\"start\" x=\"206.5\" y=\"-19.8\" font-family=\"Times,serif\" font-size=\"14.00\">CSwap</text>\n",
       "<text text-anchor=\"start\" x=\"193\" y=\"-9\" font-family=\"monospace\" font-size=\"10.00\">bitsize=n_x</text>\n",
       "</g>\n",
       "<!-- b0&#45;&gt;b2 -->\n",
       "<g id=\"edge2\" class=\"edge\">\n",
       "<title>b0-&gt;b2</title>\n",
       "<path fill=\"none\" stroke=\"black\" d=\"M169.07,-86.8C179.51,-74.47 193.74,-57.68 205.42,-43.89\"/>\n",
       "<polygon fill=\"black\" stroke=\"black\" points=\"208.16,-46.07 211.95,-36.18 202.82,-41.54 208.16,-46.07\"/>\n",
       "<text text-anchor=\"middle\" x=\"199\" y=\"-57.8\" font-family=\"Times,serif\" font-size=\"14.00\">1</text>\n",
       "</g>\n",
       "</g>\n",
       "</svg>"
      ],
      "text/plain": [
       "<IPython.core.display.SVG object>"
      ]
     },
     "metadata": {},
     "output_type": "display_data"
    },
    {
     "data": {
      "text/markdown": [
       "#### Counts totals:\n",
       " - `CSwap(bitsize=n_x)`: 1\n",
       " - `CtrlScaleModAdd(k=_k0, mod=N, bitsize=n_x)`: 2"
      ],
      "text/plain": [
       "<IPython.core.display.Markdown object>"
      ]
     },
     "metadata": {},
     "output_type": "display_data"
    }
   ],
   "source": [
    "from qualtran.resource_counting.generalizers import ignore_split_join\n",
    "modmul_symb_g, modmul_symb_sigma = modmul_symb.call_graph(max_depth=1, generalizer=ignore_split_join)\n",
    "show_call_graph(modmul_symb_g)\n",
    "show_counts_sigma(modmul_symb_sigma)"
   ]
  }
 ],
 "metadata": {
  "kernelspec": {
   "display_name": "Python 3 (ipykernel)",
   "language": "python",
   "name": "python3"
  },
  "language_info": {
   "codemirror_mode": {
    "name": "ipython",
    "version": 3
   },
   "file_extension": ".py",
   "mimetype": "text/x-python",
   "name": "python",
   "nbconvert_exporter": "python",
   "pygments_lexer": "ipython3",
   "version": "3.11.8"
  },
  "widgets": {
   "application/vnd.jupyter.widget-state+json": {
    "state": {
     "057a7ca1d46d43d1a2a103e276776417": {
      "model_module": "@jupyter-widgets/controls",
      "model_module_version": "2.0.0",
      "model_name": "HBoxModel",
      "state": {
       "_dom_classes": [],
       "_model_module": "@jupyter-widgets/controls",
       "_model_module_version": "2.0.0",
       "_model_name": "HBoxModel",
       "_view_count": null,
       "_view_module": "@jupyter-widgets/controls",
       "_view_module_version": "2.0.0",
       "_view_name": "HBoxView",
       "box_style": "",
       "children": [
        "IPY_MODEL_1905e6f3e4c1477e8e2e612037ba395b",
        "IPY_MODEL_65c86350f4fc43b59bb452f4d3b6b93e"
       ],
       "layout": "IPY_MODEL_374b1dea6e444989a151071b845ee766",
       "tabbable": null,
       "tooltip": null
      }
     },
     "1905e6f3e4c1477e8e2e612037ba395b": {
      "model_module": "@jupyter-widgets/output",
      "model_module_version": "1.0.0",
      "model_name": "OutputModel",
      "state": {
       "_dom_classes": [],
       "_model_module": "@jupyter-widgets/output",
       "_model_module_version": "1.0.0",
       "_model_name": "OutputModel",
       "_view_count": null,
       "_view_module": "@jupyter-widgets/output",
       "_view_module_version": "1.0.0",
       "_view_name": "OutputView",
       "layout": "IPY_MODEL_dc7ad99f264a462eab31d2cc0475900a",
       "msg_id": "",
       "outputs": [
        {
         "data": {
          "text/markdown": "`modmul_symb`",
          "text/plain": "<IPython.core.display.Markdown object>"
         },
         "metadata": {},
         "output_type": "display_data"
        },
        {
         "data": {
          "image/svg+xml": "<svg xmlns=\"http://www.w3.org/2000/svg\" xmlns:xlink=\"http://www.w3.org/1999/xlink\" width=\"243pt\" height=\"98pt\" viewBox=\"0.00 0.00 243.00 98.00\">\n<g id=\"graph0\" class=\"graph\" transform=\"scale(1 1) rotate(0) translate(4 94)\">\n<title>my_graph</title>\n<polygon fill=\"white\" stroke=\"transparent\" points=\"-4,4 -4,-94 239,-94 239,4 -4,4\"/>\n<!-- ctrl_G1 -->\n<g id=\"node1\" class=\"node\">\n<title>ctrl_G1</title>\n<text text-anchor=\"middle\" x=\"27\" y=\"-68.3\" font-family=\"Times,serif\" font-size=\"14.00\">ctrl</text>\n</g>\n<!-- CtrlModMul -->\n<g id=\"node3\" class=\"node\">\n<title>CtrlModMul</title>\n<polygon fill=\"none\" stroke=\"black\" points=\"91.5,-66 91.5,-83 144.5,-83 144.5,-66 91.5,-66\"/>\n<text text-anchor=\"start\" x=\"94.5\" y=\"-72\" font-family=\"Times,serif\" font-size=\"10.00\">x *= k % N</text>\n<polygon fill=\"none\" stroke=\"black\" points=\"91.5,-45 91.5,-66 144.5,-66 144.5,-45 91.5,-45\"/>\n<text text-anchor=\"start\" x=\"108.5\" y=\"-51.8\" font-family=\"Times,serif\" font-size=\"14.00\">ctrl</text>\n<polygon fill=\"none\" stroke=\"black\" points=\"91.5,-24 91.5,-45 144.5,-45 144.5,-24 91.5,-24\"/>\n<text text-anchor=\"start\" x=\"114.5\" y=\"-30.8\" font-family=\"Times,serif\" font-size=\"14.00\">x</text>\n</g>\n<!-- ctrl_G1&#45;&gt;CtrlModMul -->\n<g id=\"edge1\" class=\"edge\">\n<title>ctrl_G1:e-&gt;CtrlModMul:w</title>\n<path fill=\"none\" stroke=\"black\" d=\"M54,-72C71.22,-72 72.97,-57.23 88.98,-56.07\"/>\n<ellipse fill=\"black\" stroke=\"black\" cx=\"90\" cy=\"-56.04\" rx=\"1\" ry=\"1\"/>\n<text text-anchor=\"middle\" x=\"72.5\" y=\"-67\" font-family=\"Times,serif\" font-size=\"10.00\">1</text>\n</g>\n<!-- x_G2 -->\n<g id=\"node2\" class=\"node\">\n<title>x_G2</title>\n<text text-anchor=\"middle\" x=\"27\" y=\"-14.3\" font-family=\"Times,serif\" font-size=\"14.00\">x</text>\n</g>\n<!-- x_G2&#45;&gt;CtrlModMul -->\n<g id=\"edge2\" class=\"edge\">\n<title>x_G2:e-&gt;CtrlModMul:w</title>\n<path fill=\"none\" stroke=\"black\" d=\"M54,-18C71.22,-18 72.97,-32.77 88.98,-33.93\"/>\n<ellipse fill=\"black\" stroke=\"black\" cx=\"90\" cy=\"-33.96\" rx=\"1\" ry=\"1\"/>\n<text text-anchor=\"middle\" x=\"72.5\" y=\"-29\" font-family=\"Times,serif\" font-size=\"10.00\">n_x</text>\n</g>\n<!-- ctrl_G4 -->\n<g id=\"node4\" class=\"node\">\n<title>ctrl_G4</title>\n<text text-anchor=\"middle\" x=\"208\" y=\"-68.3\" font-family=\"Times,serif\" font-size=\"14.00\">ctrl</text>\n</g>\n<!-- CtrlModMul&#45;&gt;ctrl_G4 -->\n<g id=\"edge3\" class=\"edge\">\n<title>CtrlModMul:e-&gt;ctrl_G4:w</title>\n<path fill=\"none\" stroke=\"black\" d=\"M144,-56C161.22,-56 162.97,-70.77 178.98,-71.93\"/>\n<ellipse fill=\"black\" stroke=\"black\" cx=\"180\" cy=\"-71.96\" rx=\"1\" ry=\"1\"/>\n<text text-anchor=\"middle\" x=\"162.5\" y=\"-67\" font-family=\"Times,serif\" font-size=\"10.00\">1</text>\n</g>\n<!-- x_G0 -->\n<g id=\"node5\" class=\"node\">\n<title>x_G0</title>\n<text text-anchor=\"middle\" x=\"208\" y=\"-14.3\" font-family=\"Times,serif\" font-size=\"14.00\">x</text>\n</g>\n<!-- CtrlModMul&#45;&gt;x_G0 -->\n<g id=\"edge4\" class=\"edge\">\n<title>CtrlModMul:e-&gt;x_G0:w</title>\n<path fill=\"none\" stroke=\"black\" d=\"M144,-34C161.22,-34 162.97,-19.23 178.98,-18.07\"/>\n<ellipse fill=\"black\" stroke=\"black\" cx=\"180\" cy=\"-18.04\" rx=\"1\" ry=\"1\"/>\n<text text-anchor=\"middle\" x=\"162.5\" y=\"-29\" font-family=\"Times,serif\" font-size=\"10.00\">n_x</text>\n</g>\n</g>\n</svg>",
          "text/plain": "<IPython.core.display.SVG object>"
         },
         "metadata": {},
         "output_type": "display_data"
        }
       ],
       "tabbable": null,
       "tooltip": null
      }
     },
     "374b1dea6e444989a151071b845ee766": {
      "model_module": "@jupyter-widgets/base",
      "model_module_version": "2.0.0",
      "model_name": "LayoutModel",
      "state": {
       "_model_module": "@jupyter-widgets/base",
       "_model_module_version": "2.0.0",
       "_model_name": "LayoutModel",
       "_view_count": null,
       "_view_module": "@jupyter-widgets/base",
       "_view_module_version": "2.0.0",
       "_view_name": "LayoutView",
       "align_content": null,
       "align_items": null,
       "align_self": null,
       "border_bottom": null,
       "border_left": null,
       "border_right": null,
       "border_top": null,
       "bottom": null,
       "display": null,
       "flex": null,
       "flex_flow": null,
       "grid_area": null,
       "grid_auto_columns": null,
       "grid_auto_flow": null,
       "grid_auto_rows": null,
       "grid_column": null,
       "grid_gap": null,
       "grid_row": null,
       "grid_template_areas": null,
       "grid_template_columns": null,
       "grid_template_rows": null,
       "height": null,
       "justify_content": null,
       "justify_items": null,
       "left": null,
       "margin": null,
       "max_height": null,
       "max_width": null,
       "min_height": null,
       "min_width": null,
       "object_fit": null,
       "object_position": null,
       "order": null,
       "overflow": null,
       "padding": null,
       "right": null,
       "top": null,
       "visibility": null,
       "width": null
      }
     },
     "65c86350f4fc43b59bb452f4d3b6b93e": {
      "model_module": "@jupyter-widgets/output",
      "model_module_version": "1.0.0",
      "model_name": "OutputModel",
      "state": {
       "_dom_classes": [],
       "_model_module": "@jupyter-widgets/output",
       "_model_module_version": "1.0.0",
       "_model_name": "OutputModel",
       "_view_count": null,
       "_view_module": "@jupyter-widgets/output",
       "_view_module_version": "1.0.0",
       "_view_name": "OutputView",
       "layout": "IPY_MODEL_bdb61ef42b7a4c8c99aad4f28b70039c",
       "msg_id": "",
       "outputs": [
        {
         "data": {
          "text/markdown": "`modmul`",
          "text/plain": "<IPython.core.display.Markdown object>"
         },
         "metadata": {},
         "output_type": "display_data"
        },
        {
         "data": {
          "image/svg+xml": "<svg xmlns=\"http://www.w3.org/2000/svg\" xmlns:xlink=\"http://www.w3.org/1999/xlink\" width=\"262pt\" height=\"98pt\" viewBox=\"0.00 0.00 262.00 98.00\">\n<g id=\"graph0\" class=\"graph\" transform=\"scale(1 1) rotate(0) translate(4 94)\">\n<title>my_graph</title>\n<polygon fill=\"white\" stroke=\"transparent\" points=\"-4,4 -4,-94 258,-94 258,4 -4,4\"/>\n<!-- ctrl_G1 -->\n<g id=\"node1\" class=\"node\">\n<title>ctrl_G1</title>\n<text text-anchor=\"middle\" x=\"27\" y=\"-68.3\" font-family=\"Times,serif\" font-size=\"14.00\">ctrl</text>\n</g>\n<!-- CtrlModMul -->\n<g id=\"node3\" class=\"node\">\n<title>CtrlModMul</title>\n<polygon fill=\"none\" stroke=\"black\" points=\"91,-66 91,-83 163,-83 163,-66 91,-66\"/>\n<text text-anchor=\"start\" x=\"94\" y=\"-72\" font-family=\"Times,serif\" font-size=\"10.00\">x *= 123 % 221</text>\n<polygon fill=\"none\" stroke=\"black\" points=\"91,-45 91,-66 163,-66 163,-45 91,-45\"/>\n<text text-anchor=\"start\" x=\"117.5\" y=\"-51.8\" font-family=\"Times,serif\" font-size=\"14.00\">ctrl</text>\n<polygon fill=\"none\" stroke=\"black\" points=\"91,-24 91,-45 163,-45 163,-24 91,-24\"/>\n<text text-anchor=\"start\" x=\"123.5\" y=\"-30.8\" font-family=\"Times,serif\" font-size=\"14.00\">x</text>\n</g>\n<!-- ctrl_G1&#45;&gt;CtrlModMul -->\n<g id=\"edge1\" class=\"edge\">\n<title>ctrl_G1:e-&gt;CtrlModMul:w</title>\n<path fill=\"none\" stroke=\"black\" d=\"M54,-72C71.22,-72 72.97,-57.23 88.98,-56.07\"/>\n<ellipse fill=\"black\" stroke=\"black\" cx=\"90\" cy=\"-56.04\" rx=\"1\" ry=\"1\"/>\n<text text-anchor=\"middle\" x=\"72.5\" y=\"-67\" font-family=\"Times,serif\" font-size=\"10.00\">1</text>\n</g>\n<!-- x_G0 -->\n<g id=\"node2\" class=\"node\">\n<title>x_G0</title>\n<text text-anchor=\"middle\" x=\"27\" y=\"-14.3\" font-family=\"Times,serif\" font-size=\"14.00\">x</text>\n</g>\n<!-- x_G0&#45;&gt;CtrlModMul -->\n<g id=\"edge2\" class=\"edge\">\n<title>x_G0:e-&gt;CtrlModMul:w</title>\n<path fill=\"none\" stroke=\"black\" d=\"M54,-18C71.22,-18 72.97,-32.77 88.98,-33.93\"/>\n<ellipse fill=\"black\" stroke=\"black\" cx=\"90\" cy=\"-33.96\" rx=\"1\" ry=\"1\"/>\n<text text-anchor=\"middle\" x=\"72.5\" y=\"-29\" font-family=\"Times,serif\" font-size=\"10.00\">8</text>\n</g>\n<!-- ctrl_G4 -->\n<g id=\"node4\" class=\"node\">\n<title>ctrl_G4</title>\n<text text-anchor=\"middle\" x=\"227\" y=\"-68.3\" font-family=\"Times,serif\" font-size=\"14.00\">ctrl</text>\n</g>\n<!-- CtrlModMul&#45;&gt;ctrl_G4 -->\n<g id=\"edge3\" class=\"edge\">\n<title>CtrlModMul:e-&gt;ctrl_G4:w</title>\n<path fill=\"none\" stroke=\"black\" d=\"M163,-56C180.22,-56 181.97,-70.77 197.98,-71.93\"/>\n<ellipse fill=\"black\" stroke=\"black\" cx=\"199\" cy=\"-71.96\" rx=\"1\" ry=\"1\"/>\n<text text-anchor=\"middle\" x=\"181.5\" y=\"-67\" font-family=\"Times,serif\" font-size=\"10.00\">1</text>\n</g>\n<!-- x_G5 -->\n<g id=\"node5\" class=\"node\">\n<title>x_G5</title>\n<text text-anchor=\"middle\" x=\"227\" y=\"-14.3\" font-family=\"Times,serif\" font-size=\"14.00\">x</text>\n</g>\n<!-- CtrlModMul&#45;&gt;x_G5 -->\n<g id=\"edge4\" class=\"edge\">\n<title>CtrlModMul:e-&gt;x_G5:w</title>\n<path fill=\"none\" stroke=\"black\" d=\"M163,-34C180.22,-34 181.97,-19.23 197.98,-18.07\"/>\n<ellipse fill=\"black\" stroke=\"black\" cx=\"199\" cy=\"-18.04\" rx=\"1\" ry=\"1\"/>\n<text text-anchor=\"middle\" x=\"181.5\" y=\"-29\" font-family=\"Times,serif\" font-size=\"10.00\">8</text>\n</g>\n</g>\n</svg>",
          "text/plain": "<IPython.core.display.SVG object>"
         },
         "metadata": {},
         "output_type": "display_data"
        }
       ],
       "tabbable": null,
       "tooltip": null
      }
     },
     "bdb61ef42b7a4c8c99aad4f28b70039c": {
      "model_module": "@jupyter-widgets/base",
      "model_module_version": "2.0.0",
      "model_name": "LayoutModel",
      "state": {
       "_model_module": "@jupyter-widgets/base",
       "_model_module_version": "2.0.0",
       "_model_name": "LayoutModel",
       "_view_count": null,
       "_view_module": "@jupyter-widgets/base",
       "_view_module_version": "2.0.0",
       "_view_name": "LayoutView",
       "align_content": null,
       "align_items": null,
       "align_self": null,
       "border_bottom": null,
       "border_left": null,
       "border_right": null,
       "border_top": null,
       "bottom": null,
       "display": null,
       "flex": null,
       "flex_flow": null,
       "grid_area": null,
       "grid_auto_columns": null,
       "grid_auto_flow": null,
       "grid_auto_rows": null,
       "grid_column": null,
       "grid_gap": null,
       "grid_row": null,
       "grid_template_areas": null,
       "grid_template_columns": null,
       "grid_template_rows": null,
       "height": null,
       "justify_content": null,
       "justify_items": null,
       "left": null,
       "margin": null,
       "max_height": null,
       "max_width": null,
       "min_height": null,
       "min_width": null,
       "object_fit": null,
       "object_position": null,
       "order": null,
       "overflow": null,
       "padding": null,
       "right": null,
       "top": null,
       "visibility": null,
       "width": null
      }
     },
     "dc7ad99f264a462eab31d2cc0475900a": {
      "model_module": "@jupyter-widgets/base",
      "model_module_version": "2.0.0",
      "model_name": "LayoutModel",
      "state": {
       "_model_module": "@jupyter-widgets/base",
       "_model_module_version": "2.0.0",
       "_model_name": "LayoutModel",
       "_view_count": null,
       "_view_module": "@jupyter-widgets/base",
       "_view_module_version": "2.0.0",
       "_view_name": "LayoutView",
       "align_content": null,
       "align_items": null,
       "align_self": null,
       "border_bottom": null,
       "border_left": null,
       "border_right": null,
       "border_top": null,
       "bottom": null,
       "display": null,
       "flex": null,
       "flex_flow": null,
       "grid_area": null,
       "grid_auto_columns": null,
       "grid_auto_flow": null,
       "grid_auto_rows": null,
       "grid_column": null,
       "grid_gap": null,
       "grid_row": null,
       "grid_template_areas": null,
       "grid_template_columns": null,
       "grid_template_rows": null,
       "height": null,
       "justify_content": null,
       "justify_items": null,
       "left": null,
       "margin": null,
       "max_height": null,
       "max_width": null,
       "min_height": null,
       "min_width": null,
       "object_fit": null,
       "object_position": null,
       "order": null,
       "overflow": null,
       "padding": null,
       "right": null,
       "top": null,
       "visibility": null,
       "width": null
      }
     }
    },
    "version_major": 2,
    "version_minor": 0
   }
  }
 },
 "nbformat": 4,
 "nbformat_minor": 5
}
