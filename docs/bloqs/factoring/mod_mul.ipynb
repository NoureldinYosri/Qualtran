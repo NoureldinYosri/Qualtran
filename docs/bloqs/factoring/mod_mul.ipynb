{
 "cells": [
  {
   "cell_type": "markdown",
   "id": "02f5b269",
   "metadata": {
    "cq.autogen": "title_cell"
   },
   "source": [
    "# Modular Multiplication"
   ]
  },
  {
   "cell_type": "code",
   "execution_count": 1,
   "id": "f50d4b6a",
   "metadata": {
    "cq.autogen": "top_imports"
   },
   "outputs": [],
   "source": [
    "from qualtran import Bloq, CompositeBloq, BloqBuilder, Signature, Register\n",
    "from qualtran.drawing import show_bloq, show_call_graph, show_counts_sigma\n",
    "from typing import *\n",
    "import numpy as np\n",
    "import sympy\n",
    "import cirq"
   ]
  },
  {
   "cell_type": "markdown",
   "id": "cb2566d8",
   "metadata": {
    "cq.autogen": "CtrlModMul.bloq_doc.md"
   },
   "source": [
    "## `CtrlModMul`\n",
    "Perform controlled `x *= k mod m` for constant k, m and variable x.\n",
    "\n",
    "#### Parameters\n",
    " - `k`: The integer multiplicative constant.\n",
    " - `mod`: The integer modulus.\n",
    " - `bitsize`: The size of the `x` register. \n",
    "\n",
    "#### Registers\n",
    " - `ctrl`: The control bit\n",
    " - `x`: The integer being multiplied\n"
   ]
  },
  {
   "cell_type": "code",
   "execution_count": 2,
   "id": "96c87e53",
   "metadata": {
    "cq.autogen": "CtrlModMul.bloq_doc.py"
   },
   "outputs": [],
   "source": [
    "from qualtran.bloqs.factoring.mod_mul import CtrlModMul"
   ]
  },
  {
   "cell_type": "markdown",
   "id": "fb267af1",
   "metadata": {
    "cq.autogen": "CtrlModMul.example_instances.md"
   },
   "source": [
    "### Example Instances"
   ]
  },
  {
   "cell_type": "code",
   "execution_count": 3,
   "id": "305b2135",
   "metadata": {
    "cq.autogen": "CtrlModMul.modmul"
   },
   "outputs": [],
   "source": [
    "modmul = CtrlModMul(k=123, mod=13 * 17, bitsize=8)"
   ]
  },
  {
   "cell_type": "code",
   "execution_count": 4,
   "id": "17775149",
   "metadata": {
    "cq.autogen": "CtrlModMul.modmul_symb"
   },
   "outputs": [],
   "source": [
    "import sympy\n",
    "\n",
    "k, N, n_x = sympy.symbols('k N n_x')\n",
    "modmul_symb = CtrlModMul(k=k, mod=N, bitsize=n_x)"
   ]
  },
  {
   "cell_type": "markdown",
   "id": "9b4d86fd",
   "metadata": {
    "cq.autogen": "CtrlModMul.graphical_signature.md"
   },
   "source": [
    "#### Graphical Signature"
   ]
  },
  {
   "cell_type": "code",
   "execution_count": 5,
   "id": "a2bf9f39",
   "metadata": {
    "cq.autogen": "CtrlModMul.graphical_signature.py"
   },
   "outputs": [
    {
     "data": {
      "application/vnd.jupyter.widget-view+json": {
       "model_id": "708c7aa6d09f4a9b8a888aa0efa81bd0",
       "version_major": 2,
       "version_minor": 0
      },
      "text/plain": [
       "HBox(children=(Output(outputs=({'output_type': 'display_data', 'data': {'text/plain': '<IPython.core.display.M…"
      ]
     },
     "metadata": {},
     "output_type": "display_data"
    }
   ],
   "source": [
    "from qualtran.drawing import show_bloqs\n",
    "show_bloqs([modmul_symb, modmul],\n",
    "           ['`modmul_symb`', '`modmul`'])"
   ]
  },
  {
   "cell_type": "markdown",
   "id": "88fde26e",
   "metadata": {
    "cq.autogen": "CtrlModMul.call_graph.md"
   },
   "source": [
    "### Call Graph"
   ]
  },
  {
   "cell_type": "code",
   "execution_count": 6,
   "id": "82769839",
   "metadata": {
    "cq.autogen": "CtrlModMul.call_graph.py"
   },
   "outputs": [
    {
     "data": {
      "image/svg+xml": [
       "<svg xmlns=\"http://www.w3.org/2000/svg\" xmlns:xlink=\"http://www.w3.org/1999/xlink\" width=\"303pt\" height=\"392pt\" viewBox=\"0.00 0.00 302.50 392.00\">\n",
       "<g id=\"graph0\" class=\"graph\" transform=\"scale(1 1) rotate(0) translate(4 388)\">\n",
       "<title>counts</title>\n",
       "<polygon fill=\"white\" stroke=\"transparent\" points=\"-4,4 -4,-388 298.5,-388 298.5,4 -4,4\"/>\n",
       "<!-- b0 -->\n",
       "<g id=\"node1\" class=\"node\">\n",
       "<title>b0</title>\n",
       "<polygon fill=\"none\" stroke=\"black\" points=\"237,-384 82,-384 82,-348 237,-348 237,-384\"/>\n",
       "<text text-anchor=\"start\" x=\"124\" y=\"-367.8\" font-family=\"Times,serif\" font-size=\"14.00\">CtrlModMul</text>\n",
       "<text text-anchor=\"start\" x=\"90\" y=\"-357\" font-family=\"monospace\" font-size=\"10.00\">k=k, mod=N, bitsize=n_x</text>\n",
       "</g>\n",
       "<!-- b1 -->\n",
       "<g id=\"node2\" class=\"node\">\n",
       "<title>b1</title>\n",
       "<polygon fill=\"none\" stroke=\"black\" points=\"172,-297 5,-297 5,-261 172,-261 172,-297\"/>\n",
       "<text text-anchor=\"start\" x=\"38.5\" y=\"-280.8\" font-family=\"Times,serif\" font-size=\"14.00\">CtrlScaleModAdd</text>\n",
       "<text text-anchor=\"start\" x=\"13\" y=\"-270\" font-family=\"monospace\" font-size=\"10.00\">k=_k0, mod=N, bitsize=n_x</text>\n",
       "</g>\n",
       "<!-- b0&#45;&gt;b1 -->\n",
       "<g id=\"edge1\" class=\"edge\">\n",
       "<title>b0-&gt;b1</title>\n",
       "<path fill=\"none\" stroke=\"black\" d=\"M145.13,-347.8C134.83,-335.47 120.81,-318.68 109.29,-304.89\"/>\n",
       "<polygon fill=\"black\" stroke=\"black\" points=\"111.94,-302.61 102.85,-297.18 106.57,-307.09 111.94,-302.61\"/>\n",
       "<text text-anchor=\"middle\" x=\"132\" y=\"-318.8\" font-family=\"Times,serif\" font-size=\"14.00\">2</text>\n",
       "</g>\n",
       "<!-- b2 -->\n",
       "<g id=\"node3\" class=\"node\">\n",
       "<title>b2</title>\n",
       "<polygon fill=\"none\" stroke=\"black\" points=\"274,-297 191,-297 191,-261 274,-261 274,-297\"/>\n",
       "<text text-anchor=\"start\" x=\"212.5\" y=\"-280.8\" font-family=\"Times,serif\" font-size=\"14.00\">CSwap</text>\n",
       "<text text-anchor=\"start\" x=\"199\" y=\"-270\" font-family=\"monospace\" font-size=\"10.00\">bitsize=n_x</text>\n",
       "</g>\n",
       "<!-- b0&#45;&gt;b2 -->\n",
       "<g id=\"edge2\" class=\"edge\">\n",
       "<title>b0-&gt;b2</title>\n",
       "<path fill=\"none\" stroke=\"black\" d=\"M174.27,-347.8C184.86,-335.47 199.28,-318.68 211.12,-304.89\"/>\n",
       "<polygon fill=\"black\" stroke=\"black\" points=\"213.89,-307.04 217.75,-297.18 208.58,-302.48 213.89,-307.04\"/>\n",
       "<text text-anchor=\"middle\" x=\"204\" y=\"-318.8\" font-family=\"Times,serif\" font-size=\"14.00\">1</text>\n",
       "</g>\n",
       "<!-- b3 -->\n",
       "<g id=\"node4\" class=\"node\">\n",
       "<title>b3</title>\n",
       "<polygon fill=\"none\" stroke=\"black\" points=\"167,-210 0,-210 0,-174 167,-174 167,-210\"/>\n",
       "<text text-anchor=\"start\" x=\"43\" y=\"-193.8\" font-family=\"Times,serif\" font-size=\"14.00\">CtrlModAddK</text>\n",
       "<text text-anchor=\"start\" x=\"8\" y=\"-183\" font-family=\"monospace\" font-size=\"10.00\">k=_k1, mod=N, bitsize=n_x</text>\n",
       "</g>\n",
       "<!-- b1&#45;&gt;b3 -->\n",
       "<g id=\"edge3\" class=\"edge\">\n",
       "<title>b1-&gt;b3</title>\n",
       "<path fill=\"none\" stroke=\"black\" d=\"M87.49,-260.8C86.8,-249.16 85.89,-233.55 85.1,-220.24\"/>\n",
       "<polygon fill=\"black\" stroke=\"black\" points=\"88.59,-219.95 84.51,-210.18 81.6,-220.36 88.59,-219.95\"/>\n",
       "<text text-anchor=\"middle\" x=\"92\" y=\"-231.8\" font-family=\"Times,serif\" font-size=\"14.00\">nₓ</text>\n",
       "</g>\n",
       "<!-- b4 -->\n",
       "<g id=\"node5\" class=\"node\">\n",
       "<title>b4</title>\n",
       "<polygon fill=\"none\" stroke=\"black\" points=\"282,-210 185,-210 185,-174 282,-174 282,-210\"/>\n",
       "<text text-anchor=\"start\" x=\"193\" y=\"-188.3\" font-family=\"Times,serif\" font-size=\"14.00\">TwoBitCSwap</text>\n",
       "</g>\n",
       "<!-- b2&#45;&gt;b4 -->\n",
       "<g id=\"edge6\" class=\"edge\">\n",
       "<title>b2-&gt;b4</title>\n",
       "<path fill=\"none\" stroke=\"black\" d=\"M232.7,-260.8C232.84,-249.16 233.02,-233.55 233.18,-220.24\"/>\n",
       "<polygon fill=\"black\" stroke=\"black\" points=\"236.68,-220.22 233.3,-210.18 229.68,-220.13 236.68,-220.22\"/>\n",
       "<text text-anchor=\"middle\" x=\"238\" y=\"-231.8\" font-family=\"Times,serif\" font-size=\"14.00\">nₓ</text>\n",
       "</g>\n",
       "<!-- b5 -->\n",
       "<g id=\"node6\" class=\"node\">\n",
       "<title>b5</title>\n",
       "<polygon fill=\"none\" stroke=\"black\" points=\"146,-123 21,-123 21,-87 146,-87 146,-123\"/>\n",
       "<text text-anchor=\"start\" x=\"56\" y=\"-106.8\" font-family=\"Times,serif\" font-size=\"14.00\">CtrlAddK</text>\n",
       "<text text-anchor=\"start\" x=\"29\" y=\"-96\" font-family=\"monospace\" font-size=\"10.00\">k=_k2, bitsize=n_x</text>\n",
       "</g>\n",
       "<!-- b3&#45;&gt;b5 -->\n",
       "<g id=\"edge4\" class=\"edge\">\n",
       "<title>b3-&gt;b5</title>\n",
       "<path fill=\"none\" stroke=\"black\" d=\"M83.5,-173.8C83.5,-162.16 83.5,-146.55 83.5,-133.24\"/>\n",
       "<polygon fill=\"black\" stroke=\"black\" points=\"87,-133.18 83.5,-123.18 80,-133.18 87,-133.18\"/>\n",
       "<text text-anchor=\"middle\" x=\"87\" y=\"-144.8\" font-family=\"Times,serif\" font-size=\"14.00\">5</text>\n",
       "</g>\n",
       "<!-- b6 -->\n",
       "<g id=\"node7\" class=\"node\">\n",
       "<title>b6</title>\n",
       "<polygon fill=\"none\" stroke=\"black\" points=\"274.5,-123 164.5,-123 164.5,-87 274.5,-87 274.5,-123\"/>\n",
       "<text text-anchor=\"start\" x=\"172.5\" y=\"-106.8\" font-family=\"Times,serif\" font-size=\"14.00\">ArbitraryClifford</text>\n",
       "<text text-anchor=\"start\" x=\"210\" y=\"-96\" font-family=\"monospace\" font-size=\"10.00\">n=3</text>\n",
       "</g>\n",
       "<!-- b4&#45;&gt;b6 -->\n",
       "<g id=\"edge8\" class=\"edge\">\n",
       "<title>b4-&gt;b6</title>\n",
       "<path fill=\"none\" stroke=\"black\" d=\"M230.67,-173.8C228.75,-162.16 226.18,-146.55 223.99,-133.24\"/>\n",
       "<polygon fill=\"black\" stroke=\"black\" points=\"227.41,-132.47 222.33,-123.18 220.5,-133.61 227.41,-132.47\"/>\n",
       "<text text-anchor=\"middle\" x=\"233.5\" y=\"-144.8\" font-family=\"Times,serif\" font-size=\"14.00\">10</text>\n",
       "</g>\n",
       "<!-- b7 -->\n",
       "<g id=\"node8\" class=\"node\">\n",
       "<title>b7</title>\n",
       "<polygon fill=\"none\" stroke=\"black\" points=\"253,-36 140,-36 140,0 253,0 253,-36\"/>\n",
       "<text text-anchor=\"start\" x=\"192\" y=\"-19.8\" font-family=\"Times,serif\" font-size=\"14.00\">T</text>\n",
       "<text text-anchor=\"start\" x=\"148\" y=\"-9\" font-family=\"monospace\" font-size=\"10.00\">is_adjoint=False</text>\n",
       "</g>\n",
       "<!-- b4&#45;&gt;b7 -->\n",
       "<g id=\"edge7\" class=\"edge\">\n",
       "<title>b4-&gt;b7</title>\n",
       "<path fill=\"none\" stroke=\"black\" d=\"M252.04,-173.67C271.8,-153.01 298.34,-117.43 283.5,-87 274.27,-68.07 256.94,-52.87 240.16,-41.67\"/>\n",
       "<polygon fill=\"black\" stroke=\"black\" points=\"241.81,-38.57 231.49,-36.19 238.07,-44.49 241.81,-38.57\"/>\n",
       "<text text-anchor=\"middle\" x=\"291\" y=\"-101.3\" font-family=\"Times,serif\" font-size=\"14.00\">7</text>\n",
       "</g>\n",
       "<!-- b5&#45;&gt;b7 -->\n",
       "<g id=\"edge5\" class=\"edge\">\n",
       "<title>b5-&gt;b7</title>\n",
       "<path fill=\"none\" stroke=\"black\" d=\"M106.37,-86.8C123.37,-74.01 146.76,-56.42 165.45,-42.36\"/>\n",
       "<polygon fill=\"black\" stroke=\"black\" points=\"167.78,-44.98 173.67,-36.18 163.57,-39.39 167.78,-44.98\"/>\n",
       "<text text-anchor=\"middle\" x=\"158.5\" y=\"-57.8\" font-family=\"Times,serif\" font-size=\"14.00\">2⋅nₓ</text>\n",
       "</g>\n",
       "</g>\n",
       "</svg>"
      ],
      "text/plain": [
       "<IPython.core.display.SVG object>"
      ]
     },
     "metadata": {},
     "output_type": "display_data"
    },
    {
     "data": {
      "text/markdown": [
       "#### Counts totals:\n",
       " - `ArbitraryClifford(n=3)`: $\\displaystyle 10 n_{x}$\n",
       " - `TGate()`: $\\displaystyle 20 n_{x}^{2} + 7 n_{x}$"
      ],
      "text/plain": [
       "<IPython.core.display.Markdown object>"
      ]
     },
     "metadata": {},
     "output_type": "display_data"
    }
   ],
   "source": [
    "modmul_symb_g, modmul_symb_sigma = modmul_symb.call_graph()\n",
    "show_call_graph(modmul_symb_g)\n",
    "show_counts_sigma(modmul_symb_sigma)"
   ]
  }
 ],
 "metadata": {
  "kernelspec": {
   "display_name": "Python 3 (ipykernel)",
   "language": "python",
   "name": "python3"
  },
  "language_info": {
   "codemirror_mode": {
    "name": "ipython",
    "version": 3
   },
   "file_extension": ".py",
   "mimetype": "text/x-python",
   "name": "python",
   "nbconvert_exporter": "python",
   "pygments_lexer": "ipython3",
   "version": "3.10.12"
  },
  "widgets": {
   "application/vnd.jupyter.widget-state+json": {
    "state": {
     "199753b3d1104b30b6fd2cad1b8e9b17": {
      "model_module": "@jupyter-widgets/base",
      "model_module_version": "2.0.0",
      "model_name": "LayoutModel",
      "state": {
       "_model_module": "@jupyter-widgets/base",
       "_model_module_version": "2.0.0",
       "_model_name": "LayoutModel",
       "_view_count": null,
       "_view_module": "@jupyter-widgets/base",
       "_view_module_version": "2.0.0",
       "_view_name": "LayoutView",
       "align_content": null,
       "align_items": null,
       "align_self": null,
       "border_bottom": null,
       "border_left": null,
       "border_right": null,
       "border_top": null,
       "bottom": null,
       "display": null,
       "flex": null,
       "flex_flow": null,
       "grid_area": null,
       "grid_auto_columns": null,
       "grid_auto_flow": null,
       "grid_auto_rows": null,
       "grid_column": null,
       "grid_gap": null,
       "grid_row": null,
       "grid_template_areas": null,
       "grid_template_columns": null,
       "grid_template_rows": null,
       "height": null,
       "justify_content": null,
       "justify_items": null,
       "left": null,
       "margin": null,
       "max_height": null,
       "max_width": null,
       "min_height": null,
       "min_width": null,
       "object_fit": null,
       "object_position": null,
       "order": null,
       "overflow": null,
       "padding": null,
       "right": null,
       "top": null,
       "visibility": null,
       "width": null
      }
     },
     "30b65f15184f41aa9a896592e917bf3e": {
      "model_module": "@jupyter-widgets/base",
      "model_module_version": "2.0.0",
      "model_name": "LayoutModel",
      "state": {
       "_model_module": "@jupyter-widgets/base",
       "_model_module_version": "2.0.0",
       "_model_name": "LayoutModel",
       "_view_count": null,
       "_view_module": "@jupyter-widgets/base",
       "_view_module_version": "2.0.0",
       "_view_name": "LayoutView",
       "align_content": null,
       "align_items": null,
       "align_self": null,
       "border_bottom": null,
       "border_left": null,
       "border_right": null,
       "border_top": null,
       "bottom": null,
       "display": null,
       "flex": null,
       "flex_flow": null,
       "grid_area": null,
       "grid_auto_columns": null,
       "grid_auto_flow": null,
       "grid_auto_rows": null,
       "grid_column": null,
       "grid_gap": null,
       "grid_row": null,
       "grid_template_areas": null,
       "grid_template_columns": null,
       "grid_template_rows": null,
       "height": null,
       "justify_content": null,
       "justify_items": null,
       "left": null,
       "margin": null,
       "max_height": null,
       "max_width": null,
       "min_height": null,
       "min_width": null,
       "object_fit": null,
       "object_position": null,
       "order": null,
       "overflow": null,
       "padding": null,
       "right": null,
       "top": null,
       "visibility": null,
       "width": null
      }
     },
     "708c7aa6d09f4a9b8a888aa0efa81bd0": {
      "model_module": "@jupyter-widgets/controls",
      "model_module_version": "2.0.0",
      "model_name": "HBoxModel",
      "state": {
       "_dom_classes": [],
       "_model_module": "@jupyter-widgets/controls",
       "_model_module_version": "2.0.0",
       "_model_name": "HBoxModel",
       "_view_count": null,
       "_view_module": "@jupyter-widgets/controls",
       "_view_module_version": "2.0.0",
       "_view_name": "HBoxView",
       "box_style": "",
       "children": [
        "IPY_MODEL_914bca3f09334c718ba099fe26127787",
        "IPY_MODEL_ceea0439c9c140f8955b6a2a88597122"
       ],
       "layout": "IPY_MODEL_30b65f15184f41aa9a896592e917bf3e",
       "tabbable": null,
       "tooltip": null
      }
     },
     "75bfd30b2fcf41de802f35ad69c49f2b": {
      "model_module": "@jupyter-widgets/base",
      "model_module_version": "2.0.0",
      "model_name": "LayoutModel",
      "state": {
       "_model_module": "@jupyter-widgets/base",
       "_model_module_version": "2.0.0",
       "_model_name": "LayoutModel",
       "_view_count": null,
       "_view_module": "@jupyter-widgets/base",
       "_view_module_version": "2.0.0",
       "_view_name": "LayoutView",
       "align_content": null,
       "align_items": null,
       "align_self": null,
       "border_bottom": null,
       "border_left": null,
       "border_right": null,
       "border_top": null,
       "bottom": null,
       "display": null,
       "flex": null,
       "flex_flow": null,
       "grid_area": null,
       "grid_auto_columns": null,
       "grid_auto_flow": null,
       "grid_auto_rows": null,
       "grid_column": null,
       "grid_gap": null,
       "grid_row": null,
       "grid_template_areas": null,
       "grid_template_columns": null,
       "grid_template_rows": null,
       "height": null,
       "justify_content": null,
       "justify_items": null,
       "left": null,
       "margin": null,
       "max_height": null,
       "max_width": null,
       "min_height": null,
       "min_width": null,
       "object_fit": null,
       "object_position": null,
       "order": null,
       "overflow": null,
       "padding": null,
       "right": null,
       "top": null,
       "visibility": null,
       "width": null
      }
     },
     "914bca3f09334c718ba099fe26127787": {
      "model_module": "@jupyter-widgets/output",
      "model_module_version": "1.0.0",
      "model_name": "OutputModel",
      "state": {
       "_dom_classes": [],
       "_model_module": "@jupyter-widgets/output",
       "_model_module_version": "1.0.0",
       "_model_name": "OutputModel",
       "_view_count": null,
       "_view_module": "@jupyter-widgets/output",
       "_view_module_version": "1.0.0",
       "_view_name": "OutputView",
       "layout": "IPY_MODEL_75bfd30b2fcf41de802f35ad69c49f2b",
       "msg_id": "",
       "outputs": [
        {
         "data": {
          "text/markdown": "`modmul_symb`",
          "text/plain": "<IPython.core.display.Markdown object>"
         },
         "metadata": {},
         "output_type": "display_data"
        },
        {
         "data": {
          "image/svg+xml": "<svg xmlns=\"http://www.w3.org/2000/svg\" xmlns:xlink=\"http://www.w3.org/1999/xlink\" width=\"243pt\" height=\"98pt\" viewBox=\"0.00 0.00 243.00 98.00\">\n<g id=\"graph0\" class=\"graph\" transform=\"scale(1 1) rotate(0) translate(4 94)\">\n<title>my_graph</title>\n<polygon fill=\"white\" stroke=\"transparent\" points=\"-4,4 -4,-94 239,-94 239,4 -4,4\"/>\n<!-- ctrl_G0 -->\n<g id=\"node1\" class=\"node\">\n<title>ctrl_G0</title>\n<text text-anchor=\"middle\" x=\"27\" y=\"-68.3\" font-family=\"Times,serif\" font-size=\"14.00\">ctrl</text>\n</g>\n<!-- CtrlModMul -->\n<g id=\"node3\" class=\"node\">\n<title>CtrlModMul</title>\n<polygon fill=\"none\" stroke=\"black\" points=\"91.5,-66 91.5,-83 144.5,-83 144.5,-66 91.5,-66\"/>\n<text text-anchor=\"start\" x=\"94.5\" y=\"-72\" font-family=\"Times,serif\" font-size=\"10.00\">x *= k % N</text>\n<polygon fill=\"none\" stroke=\"black\" points=\"91.5,-45 91.5,-66 144.5,-66 144.5,-45 91.5,-45\"/>\n<text text-anchor=\"start\" x=\"108.5\" y=\"-51.8\" font-family=\"Times,serif\" font-size=\"14.00\">ctrl</text>\n<polygon fill=\"none\" stroke=\"black\" points=\"91.5,-24 91.5,-45 144.5,-45 144.5,-24 91.5,-24\"/>\n<text text-anchor=\"start\" x=\"114.5\" y=\"-30.8\" font-family=\"Times,serif\" font-size=\"14.00\">x</text>\n</g>\n<!-- ctrl_G0&#45;&gt;CtrlModMul -->\n<g id=\"edge1\" class=\"edge\">\n<title>ctrl_G0:e-&gt;CtrlModMul:w</title>\n<path fill=\"none\" stroke=\"black\" d=\"M54,-72C71.22,-72 72.97,-57.23 88.98,-56.07\"/>\n<ellipse fill=\"black\" stroke=\"black\" cx=\"90\" cy=\"-56.04\" rx=\"1\" ry=\"1\"/>\n<text text-anchor=\"middle\" x=\"72.5\" y=\"-67\" font-family=\"Times,serif\" font-size=\"10.00\">1</text>\n</g>\n<!-- x_G3 -->\n<g id=\"node2\" class=\"node\">\n<title>x_G3</title>\n<text text-anchor=\"middle\" x=\"27\" y=\"-14.3\" font-family=\"Times,serif\" font-size=\"14.00\">x</text>\n</g>\n<!-- x_G3&#45;&gt;CtrlModMul -->\n<g id=\"edge2\" class=\"edge\">\n<title>x_G3:e-&gt;CtrlModMul:w</title>\n<path fill=\"none\" stroke=\"black\" d=\"M54,-18C71.22,-18 72.97,-32.77 88.98,-33.93\"/>\n<ellipse fill=\"black\" stroke=\"black\" cx=\"90\" cy=\"-33.96\" rx=\"1\" ry=\"1\"/>\n<text text-anchor=\"middle\" x=\"72.5\" y=\"-29\" font-family=\"Times,serif\" font-size=\"10.00\">n_x</text>\n</g>\n<!-- ctrl_G5 -->\n<g id=\"node4\" class=\"node\">\n<title>ctrl_G5</title>\n<text text-anchor=\"middle\" x=\"208\" y=\"-68.3\" font-family=\"Times,serif\" font-size=\"14.00\">ctrl</text>\n</g>\n<!-- CtrlModMul&#45;&gt;ctrl_G5 -->\n<g id=\"edge3\" class=\"edge\">\n<title>CtrlModMul:e-&gt;ctrl_G5:w</title>\n<path fill=\"none\" stroke=\"black\" d=\"M144,-56C161.22,-56 162.97,-70.77 178.98,-71.93\"/>\n<ellipse fill=\"black\" stroke=\"black\" cx=\"180\" cy=\"-71.96\" rx=\"1\" ry=\"1\"/>\n<text text-anchor=\"middle\" x=\"162.5\" y=\"-67\" font-family=\"Times,serif\" font-size=\"10.00\">1</text>\n</g>\n<!-- x_G1 -->\n<g id=\"node5\" class=\"node\">\n<title>x_G1</title>\n<text text-anchor=\"middle\" x=\"208\" y=\"-14.3\" font-family=\"Times,serif\" font-size=\"14.00\">x</text>\n</g>\n<!-- CtrlModMul&#45;&gt;x_G1 -->\n<g id=\"edge4\" class=\"edge\">\n<title>CtrlModMul:e-&gt;x_G1:w</title>\n<path fill=\"none\" stroke=\"black\" d=\"M144,-34C161.22,-34 162.97,-19.23 178.98,-18.07\"/>\n<ellipse fill=\"black\" stroke=\"black\" cx=\"180\" cy=\"-18.04\" rx=\"1\" ry=\"1\"/>\n<text text-anchor=\"middle\" x=\"162.5\" y=\"-29\" font-family=\"Times,serif\" font-size=\"10.00\">n_x</text>\n</g>\n</g>\n</svg>",
          "text/plain": "<IPython.core.display.SVG object>"
         },
         "metadata": {},
         "output_type": "display_data"
        }
       ],
       "tabbable": null,
       "tooltip": null
      }
     },
     "ceea0439c9c140f8955b6a2a88597122": {
      "model_module": "@jupyter-widgets/output",
      "model_module_version": "1.0.0",
      "model_name": "OutputModel",
      "state": {
       "_dom_classes": [],
       "_model_module": "@jupyter-widgets/output",
       "_model_module_version": "1.0.0",
       "_model_name": "OutputModel",
       "_view_count": null,
       "_view_module": "@jupyter-widgets/output",
       "_view_module_version": "1.0.0",
       "_view_name": "OutputView",
       "layout": "IPY_MODEL_199753b3d1104b30b6fd2cad1b8e9b17",
       "msg_id": "",
       "outputs": [
        {
         "data": {
          "text/markdown": "`modmul`",
          "text/plain": "<IPython.core.display.Markdown object>"
         },
         "metadata": {},
         "output_type": "display_data"
        },
        {
         "data": {
          "image/svg+xml": "<svg xmlns=\"http://www.w3.org/2000/svg\" xmlns:xlink=\"http://www.w3.org/1999/xlink\" width=\"262pt\" height=\"98pt\" viewBox=\"0.00 0.00 262.00 98.00\">\n<g id=\"graph0\" class=\"graph\" transform=\"scale(1 1) rotate(0) translate(4 94)\">\n<title>my_graph</title>\n<polygon fill=\"white\" stroke=\"transparent\" points=\"-4,4 -4,-94 258,-94 258,4 -4,4\"/>\n<!-- ctrl_G1 -->\n<g id=\"node1\" class=\"node\">\n<title>ctrl_G1</title>\n<text text-anchor=\"middle\" x=\"27\" y=\"-68.3\" font-family=\"Times,serif\" font-size=\"14.00\">ctrl</text>\n</g>\n<!-- CtrlModMul -->\n<g id=\"node3\" class=\"node\">\n<title>CtrlModMul</title>\n<polygon fill=\"none\" stroke=\"black\" points=\"91,-66 91,-83 163,-83 163,-66 91,-66\"/>\n<text text-anchor=\"start\" x=\"94\" y=\"-72\" font-family=\"Times,serif\" font-size=\"10.00\">x *= 123 % 221</text>\n<polygon fill=\"none\" stroke=\"black\" points=\"91,-45 91,-66 163,-66 163,-45 91,-45\"/>\n<text text-anchor=\"start\" x=\"117.5\" y=\"-51.8\" font-family=\"Times,serif\" font-size=\"14.00\">ctrl</text>\n<polygon fill=\"none\" stroke=\"black\" points=\"91,-24 91,-45 163,-45 163,-24 91,-24\"/>\n<text text-anchor=\"start\" x=\"123.5\" y=\"-30.8\" font-family=\"Times,serif\" font-size=\"14.00\">x</text>\n</g>\n<!-- ctrl_G1&#45;&gt;CtrlModMul -->\n<g id=\"edge1\" class=\"edge\">\n<title>ctrl_G1:e-&gt;CtrlModMul:w</title>\n<path fill=\"none\" stroke=\"black\" d=\"M54,-72C71.22,-72 72.97,-57.23 88.98,-56.07\"/>\n<ellipse fill=\"black\" stroke=\"black\" cx=\"90\" cy=\"-56.04\" rx=\"1\" ry=\"1\"/>\n<text text-anchor=\"middle\" x=\"72.5\" y=\"-67\" font-family=\"Times,serif\" font-size=\"10.00\">1</text>\n</g>\n<!-- x_G2 -->\n<g id=\"node2\" class=\"node\">\n<title>x_G2</title>\n<text text-anchor=\"middle\" x=\"27\" y=\"-14.3\" font-family=\"Times,serif\" font-size=\"14.00\">x</text>\n</g>\n<!-- x_G2&#45;&gt;CtrlModMul -->\n<g id=\"edge2\" class=\"edge\">\n<title>x_G2:e-&gt;CtrlModMul:w</title>\n<path fill=\"none\" stroke=\"black\" d=\"M54,-18C71.22,-18 72.97,-32.77 88.98,-33.93\"/>\n<ellipse fill=\"black\" stroke=\"black\" cx=\"90\" cy=\"-33.96\" rx=\"1\" ry=\"1\"/>\n<text text-anchor=\"middle\" x=\"72.5\" y=\"-29\" font-family=\"Times,serif\" font-size=\"10.00\">8</text>\n</g>\n<!-- ctrl_G4 -->\n<g id=\"node4\" class=\"node\">\n<title>ctrl_G4</title>\n<text text-anchor=\"middle\" x=\"227\" y=\"-68.3\" font-family=\"Times,serif\" font-size=\"14.00\">ctrl</text>\n</g>\n<!-- CtrlModMul&#45;&gt;ctrl_G4 -->\n<g id=\"edge3\" class=\"edge\">\n<title>CtrlModMul:e-&gt;ctrl_G4:w</title>\n<path fill=\"none\" stroke=\"black\" d=\"M163,-56C180.22,-56 181.97,-70.77 197.98,-71.93\"/>\n<ellipse fill=\"black\" stroke=\"black\" cx=\"199\" cy=\"-71.96\" rx=\"1\" ry=\"1\"/>\n<text text-anchor=\"middle\" x=\"181.5\" y=\"-67\" font-family=\"Times,serif\" font-size=\"10.00\">1</text>\n</g>\n<!-- x_G0 -->\n<g id=\"node5\" class=\"node\">\n<title>x_G0</title>\n<text text-anchor=\"middle\" x=\"227\" y=\"-14.3\" font-family=\"Times,serif\" font-size=\"14.00\">x</text>\n</g>\n<!-- CtrlModMul&#45;&gt;x_G0 -->\n<g id=\"edge4\" class=\"edge\">\n<title>CtrlModMul:e-&gt;x_G0:w</title>\n<path fill=\"none\" stroke=\"black\" d=\"M163,-34C180.22,-34 181.97,-19.23 197.98,-18.07\"/>\n<ellipse fill=\"black\" stroke=\"black\" cx=\"199\" cy=\"-18.04\" rx=\"1\" ry=\"1\"/>\n<text text-anchor=\"middle\" x=\"181.5\" y=\"-29\" font-family=\"Times,serif\" font-size=\"10.00\">8</text>\n</g>\n</g>\n</svg>",
          "text/plain": "<IPython.core.display.SVG object>"
         },
         "metadata": {},
         "output_type": "display_data"
        }
       ],
       "tabbable": null,
       "tooltip": null
      }
     }
    },
    "version_major": 2,
    "version_minor": 0
   }
  }
 },
 "nbformat": 4,
 "nbformat_minor": 5
}
