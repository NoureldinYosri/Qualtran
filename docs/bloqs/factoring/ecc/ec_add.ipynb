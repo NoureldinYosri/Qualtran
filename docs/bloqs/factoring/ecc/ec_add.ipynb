{
 "cells": [
  {
   "cell_type": "markdown",
   "id": "e29a137f",
   "metadata": {
    "cq.autogen": "title_cell"
   },
   "source": [
    "# Elliptic Curve Addition"
   ]
  },
  {
   "cell_type": "code",
   "execution_count": 1,
   "id": "06da449a",
   "metadata": {
    "cq.autogen": "top_imports"
   },
   "outputs": [],
   "source": [
    "from qualtran import Bloq, CompositeBloq, BloqBuilder, Signature, Register\n",
    "from qualtran import QBit, QInt, QUInt, QAny\n",
    "from qualtran.drawing import show_bloq, show_call_graph, show_counts_sigma\n",
    "from typing import *\n",
    "import numpy as np\n",
    "import sympy\n",
    "import cirq"
   ]
  },
  {
   "cell_type": "markdown",
   "id": "dc1d3b04",
   "metadata": {
    "cq.autogen": "ECAdd.bloq_doc.md"
   },
   "source": [
    "## `ECAdd`\n",
    "Add two elliptic curve points.\n",
    "\n",
    "This takes elliptic curve points given by (a, b) and (x, y)\n",
    "and outputs the sum (x_r, y_r) in the second pair of registers.\n",
    "\n",
    "#### Parameters\n",
    " - `n`: The bitsize of the two registers storing the elliptic curve point\n",
    " - `mod`: The modulus of the field in which we do the addition. \n",
    "\n",
    "#### Registers\n",
    " - `a`: The x component of the first input elliptic curve point of bitsize `n`.\n",
    " - `b`: The y component of the first input elliptic curve point of bitsize `n`.\n",
    " - `x`: The x component of the second input elliptic curve point of bitsize `n`, which will contain the x component of the resultant curve point.\n",
    " - `y`: The y component of the second input elliptic curve point of bitsize `n`, which will contain the y component of the resultant curve point.\n",
    " - `lam`: The precomputed lambda slope used in the addition operation. \n",
    "\n",
    "#### References\n",
    " - [How to compute a 256-bit elliptic curve private key with only 50 million Toffoli gates](https://arxiv.org/abs/2306.08585). Litinski. 2023. Fig 5.\n"
   ]
  },
  {
   "cell_type": "code",
   "execution_count": 2,
   "id": "68605201",
   "metadata": {
    "cq.autogen": "ECAdd.bloq_doc.py"
   },
   "outputs": [],
   "source": [
    "from qualtran.bloqs.factoring.ecc import ECAdd"
   ]
  },
  {
   "cell_type": "markdown",
   "id": "bba2f42d",
   "metadata": {
    "cq.autogen": "ECAdd.example_instances.md"
   },
   "source": [
    "### Example Instances"
   ]
  },
  {
   "cell_type": "code",
   "execution_count": 3,
   "id": "0d051c3b",
   "metadata": {
    "cq.autogen": "ECAdd.ec_add"
   },
   "outputs": [],
   "source": [
    "n, p = sympy.symbols('n p')\n",
    "ec_add = ECAdd(n, mod=p)"
   ]
  },
  {
   "cell_type": "markdown",
   "id": "39210af4",
   "metadata": {
    "cq.autogen": "ECAdd.graphical_signature.md"
   },
   "source": [
    "#### Graphical Signature"
   ]
  },
  {
   "cell_type": "code",
   "execution_count": 4,
   "id": "d353f0ec",
   "metadata": {
    "cq.autogen": "ECAdd.graphical_signature.py"
   },
   "outputs": [
    {
     "data": {
      "application/vnd.jupyter.widget-view+json": {
       "model_id": "79bda3385626413e9ff7f71b5717debc",
       "version_major": 2,
       "version_minor": 0
      },
      "text/plain": [
       "HBox(children=(Output(outputs=({'output_type': 'display_data', 'data': {'text/plain': '<IPython.core.display.M…"
      ]
     },
     "metadata": {},
     "output_type": "display_data"
    }
   ],
   "source": [
    "from qualtran.drawing import show_bloqs\n",
    "show_bloqs([ec_add],\n",
    "           ['`ec_add`'])"
   ]
  },
  {
   "cell_type": "markdown",
   "id": "d7fcd725",
   "metadata": {
    "cq.autogen": "ECAdd.call_graph.md"
   },
   "source": [
    "### Call Graph"
   ]
  },
  {
   "cell_type": "code",
   "execution_count": 5,
   "id": "976398e1",
   "metadata": {
    "cq.autogen": "ECAdd.call_graph.py"
   },
   "outputs": [
    {
     "data": {
      "image/svg+xml": [
       "<svg xmlns=\"http://www.w3.org/2000/svg\" xmlns:xlink=\"http://www.w3.org/1999/xlink\" width=\"1642pt\" height=\"131pt\" viewBox=\"0.00 0.00 1642.00 131.00\">\n",
       "<g id=\"graph0\" class=\"graph\" transform=\"scale(1 1) rotate(0) translate(4 127)\">\n",
       "<title>counts</title>\n",
       "<polygon fill=\"white\" stroke=\"transparent\" points=\"-4,4 -4,-127 1638,-127 1638,4 -4,4\"/>\n",
       "<!-- b0 -->\n",
       "<g id=\"node1\" class=\"node\">\n",
       "<title>b0</title>\n",
       "<polygon fill=\"none\" stroke=\"black\" points=\"837,-123 760,-123 760,-87 837,-87 837,-123\"/>\n",
       "<text text-anchor=\"start\" x=\"778\" y=\"-106.8\" font-family=\"Times,serif\" font-size=\"14.00\">ECAdd</text>\n",
       "<text text-anchor=\"start\" x=\"768\" y=\"-96\" font-family=\"monospace\" font-size=\"10.00\">n=n, mod=p</text>\n",
       "</g>\n",
       "<!-- b1 -->\n",
       "<g id=\"node2\" class=\"node\">\n",
       "<title>b1</title>\n",
       "<polygon fill=\"none\" stroke=\"black\" points=\"167,-36 0,-36 0,0 167,0 167,-36\"/>\n",
       "<text text-anchor=\"start\" x=\"59.5\" y=\"-19.8\" font-family=\"Times,serif\" font-size=\"14.00\">ModSub</text>\n",
       "<text text-anchor=\"start\" x=\"8\" y=\"-9\" font-family=\"monospace\" font-size=\"10.00\">dtype=QUInt(bi ..., mod=p</text>\n",
       "</g>\n",
       "<!-- b0&#45;&gt;b1 -->\n",
       "<g id=\"edge1\" class=\"edge\">\n",
       "<title>b0-&gt;b1</title>\n",
       "<path fill=\"none\" stroke=\"black\" d=\"M759.88,-102.34C682.37,-98.71 502.46,-88.77 352.5,-69 292.22,-61.05 224.97,-48.55 172.79,-38.04\"/>\n",
       "<polygon fill=\"black\" stroke=\"black\" points=\"173.39,-34.59 162.89,-36.03 172,-41.45 173.39,-34.59\"/>\n",
       "<text text-anchor=\"middle\" x=\"356\" y=\"-57.8\" font-family=\"Times,serif\" font-size=\"14.00\">2</text>\n",
       "</g>\n",
       "<!-- b2 -->\n",
       "<g id=\"node3\" class=\"node\">\n",
       "<title>b2</title>\n",
       "<polygon fill=\"none\" stroke=\"black\" points=\"280,-36 185,-36 185,0 280,0 280,-36\"/>\n",
       "<text text-anchor=\"start\" x=\"193\" y=\"-19.8\" font-family=\"Times,serif\" font-size=\"14.00\">MultiCToffoli</text>\n",
       "<text text-anchor=\"start\" x=\"223\" y=\"-9\" font-family=\"monospace\" font-size=\"10.00\">n=n</text>\n",
       "</g>\n",
       "<!-- b0&#45;&gt;b2 -->\n",
       "<g id=\"edge2\" class=\"edge\">\n",
       "<title>b0-&gt;b2</title>\n",
       "<path fill=\"none\" stroke=\"black\" d=\"M759.82,-101.57C694.55,-97.17 558.48,-86.64 444.5,-69 377.61,-58.65 358.8,-54.06 290.11,-36.34\"/>\n",
       "<polygon fill=\"black\" stroke=\"black\" points=\"290.64,-32.86 280.08,-33.75 288.89,-39.64 290.64,-32.86\"/>\n",
       "<text text-anchor=\"middle\" x=\"451.5\" y=\"-57.8\" font-family=\"Times,serif\" font-size=\"14.00\">18</text>\n",
       "</g>\n",
       "<!-- b3 -->\n",
       "<g id=\"node4\" class=\"node\">\n",
       "<title>b3</title>\n",
       "<polygon fill=\"none\" stroke=\"black\" points=\"375,-36 298,-36 298,0 375,0 375,-36\"/>\n",
       "<text text-anchor=\"start\" x=\"311.5\" y=\"-19.8\" font-family=\"Times,serif\" font-size=\"14.00\">ModMul</text>\n",
       "<text text-anchor=\"start\" x=\"306\" y=\"-9\" font-family=\"monospace\" font-size=\"10.00\">n=n, mod=p</text>\n",
       "</g>\n",
       "<!-- b0&#45;&gt;b3 -->\n",
       "<g id=\"edge3\" class=\"edge\">\n",
       "<title>b0-&gt;b3</title>\n",
       "<path fill=\"none\" stroke=\"black\" d=\"M759.96,-100.09C687.72,-92.25 527.11,-72.38 384.83,-36.11\"/>\n",
       "<polygon fill=\"black\" stroke=\"black\" points=\"385.61,-32.7 375.05,-33.58 383.86,-39.47 385.61,-32.7\"/>\n",
       "<text text-anchor=\"middle\" x=\"537.5\" y=\"-57.8\" font-family=\"Times,serif\" font-size=\"14.00\">10</text>\n",
       "</g>\n",
       "<!-- b4 -->\n",
       "<g id=\"node5\" class=\"node\">\n",
       "<title>b4</title>\n",
       "<polygon fill=\"none\" stroke=\"black\" points=\"596,-36 393,-36 393,0 596,0 596,-36\"/>\n",
       "<text text-anchor=\"start\" x=\"466\" y=\"-19.8\" font-family=\"Times,serif\" font-size=\"14.00\">CModSub</text>\n",
       "<text text-anchor=\"start\" x=\"401\" y=\"-9\" font-family=\"monospace\" font-size=\"10.00\">dtype=QUInt(bi ..., mod=p, cv=1</text>\n",
       "</g>\n",
       "<!-- b0&#45;&gt;b4 -->\n",
       "<g id=\"edge4\" class=\"edge\">\n",
       "<title>b0-&gt;b4</title>\n",
       "<path fill=\"none\" stroke=\"black\" d=\"M760,-93.23C711.19,-79.59 626.11,-55.8 565.41,-38.83\"/>\n",
       "<polygon fill=\"black\" stroke=\"black\" points=\"566.09,-35.38 555.51,-36.06 564.2,-42.12 566.09,-35.38\"/>\n",
       "<text text-anchor=\"middle\" x=\"669\" y=\"-57.8\" font-family=\"Times,serif\" font-size=\"14.00\">4</text>\n",
       "</g>\n",
       "<!-- b5 -->\n",
       "<g id=\"node6\" class=\"node\">\n",
       "<title>b5</title>\n",
       "<polygon fill=\"none\" stroke=\"black\" points=\"781,-36 614,-36 614,0 781,0 781,-36\"/>\n",
       "<text text-anchor=\"start\" x=\"674\" y=\"-19.8\" font-family=\"Times,serif\" font-size=\"14.00\">ModDbl</text>\n",
       "<text text-anchor=\"start\" x=\"622\" y=\"-9\" font-family=\"monospace\" font-size=\"10.00\">dtype=QUInt(bi ..., mod=p</text>\n",
       "</g>\n",
       "<!-- b0&#45;&gt;b5 -->\n",
       "<g id=\"edge5\" class=\"edge\">\n",
       "<title>b0-&gt;b5</title>\n",
       "<path fill=\"none\" stroke=\"black\" d=\"M778.06,-86.8C763,-74.13 742.34,-56.73 725.71,-42.74\"/>\n",
       "<polygon fill=\"black\" stroke=\"black\" points=\"727.81,-39.94 717.91,-36.18 723.31,-45.29 727.81,-39.94\"/>\n",
       "<text text-anchor=\"middle\" x=\"758\" y=\"-57.8\" font-family=\"Times,serif\" font-size=\"14.00\">2</text>\n",
       "</g>\n",
       "<!-- b6 -->\n",
       "<g id=\"node7\" class=\"node\">\n",
       "<title>b6</title>\n",
       "<polygon fill=\"none\" stroke=\"black\" points=\"1002,-36 799,-36 799,0 1002,0 1002,-36\"/>\n",
       "<text text-anchor=\"start\" x=\"871.5\" y=\"-19.8\" font-family=\"Times,serif\" font-size=\"14.00\">CModNeg</text>\n",
       "<text text-anchor=\"start\" x=\"807\" y=\"-9\" font-family=\"monospace\" font-size=\"10.00\">dtype=QUInt(bi ..., mod=p, cv=1</text>\n",
       "</g>\n",
       "<!-- b0&#45;&gt;b6 -->\n",
       "<g id=\"edge6\" class=\"edge\">\n",
       "<title>b0-&gt;b6</title>\n",
       "<path fill=\"none\" stroke=\"black\" d=\"M819.14,-86.8C834.35,-74.13 855.22,-56.73 872.01,-42.74\"/>\n",
       "<polygon fill=\"black\" stroke=\"black\" points=\"874.45,-45.27 879.89,-36.18 869.97,-39.89 874.45,-45.27\"/>\n",
       "<text text-anchor=\"middle\" x=\"860\" y=\"-57.8\" font-family=\"Times,serif\" font-size=\"14.00\">1</text>\n",
       "</g>\n",
       "<!-- b7 -->\n",
       "<g id=\"node8\" class=\"node\">\n",
       "<title>b7</title>\n",
       "<polygon fill=\"none\" stroke=\"black\" points=\"1097,-36 1020,-36 1020,0 1097,0 1097,-36\"/>\n",
       "<text text-anchor=\"start\" x=\"1036\" y=\"-19.8\" font-family=\"Times,serif\" font-size=\"14.00\">ModInv</text>\n",
       "<text text-anchor=\"start\" x=\"1028\" y=\"-9\" font-family=\"monospace\" font-size=\"10.00\">n=n, mod=p</text>\n",
       "</g>\n",
       "<!-- b0&#45;&gt;b7 -->\n",
       "<g id=\"edge7\" class=\"edge\">\n",
       "<title>b0-&gt;b7</title>\n",
       "<path fill=\"none\" stroke=\"black\" d=\"M837.3,-91.94C877.9,-79.23 943.72,-58.4 1009.98,-36.13\"/>\n",
       "<polygon fill=\"black\" stroke=\"black\" points=\"1011.4,-39.34 1019.76,-32.83 1009.17,-32.71 1011.4,-39.34\"/>\n",
       "<text text-anchor=\"middle\" x=\"956\" y=\"-57.8\" font-family=\"Times,serif\" font-size=\"14.00\">4</text>\n",
       "</g>\n",
       "<!-- b8 -->\n",
       "<g id=\"node9\" class=\"node\">\n",
       "<title>b8</title>\n",
       "<polygon fill=\"none\" stroke=\"black\" points=\"1318,-36 1115,-36 1115,0 1318,0 1318,-36\"/>\n",
       "<text text-anchor=\"start\" x=\"1187\" y=\"-19.8\" font-family=\"Times,serif\" font-size=\"14.00\">CModAdd</text>\n",
       "<text text-anchor=\"start\" x=\"1123\" y=\"-9\" font-family=\"monospace\" font-size=\"10.00\">dtype=QUInt(bi ..., mod=p, cv=1</text>\n",
       "</g>\n",
       "<!-- b0&#45;&gt;b8 -->\n",
       "<g id=\"edge8\" class=\"edge\">\n",
       "<title>b0-&gt;b8</title>\n",
       "<path fill=\"none\" stroke=\"black\" d=\"M837.08,-96.16C901.56,-83.04 1033,-56.31 1122.92,-38.03\"/>\n",
       "<polygon fill=\"black\" stroke=\"black\" points=\"1123.75,-41.43 1132.85,-36.01 1122.36,-34.57 1123.75,-41.43\"/>\n",
       "<text text-anchor=\"middle\" x=\"1037\" y=\"-57.8\" font-family=\"Times,serif\" font-size=\"14.00\">2</text>\n",
       "</g>\n",
       "<!-- b9 -->\n",
       "<g id=\"node10\" class=\"node\">\n",
       "<title>b9</title>\n",
       "<polygon fill=\"none\" stroke=\"black\" points=\"1449,-36 1336,-36 1336,0 1449,0 1449,-36\"/>\n",
       "<text text-anchor=\"start\" x=\"1367.5\" y=\"-19.8\" font-family=\"Times,serif\" font-size=\"14.00\">ModAdd</text>\n",
       "<text text-anchor=\"start\" x=\"1344\" y=\"-9\" font-family=\"monospace\" font-size=\"10.00\">bitsize=n, mod=p</text>\n",
       "</g>\n",
       "<!-- b0&#45;&gt;b9 -->\n",
       "<g id=\"edge9\" class=\"edge\">\n",
       "<title>b0-&gt;b9</title>\n",
       "<path fill=\"none\" stroke=\"black\" d=\"M837.19,-100.68C923.28,-92.92 1137.28,-71.69 1325.63,-36.03\"/>\n",
       "<polygon fill=\"black\" stroke=\"black\" points=\"1326.55,-39.42 1335.72,-34.1 1325.24,-32.54 1326.55,-39.42\"/>\n",
       "<text text-anchor=\"middle\" x=\"1216\" y=\"-57.8\" font-family=\"Times,serif\" font-size=\"14.00\">3</text>\n",
       "</g>\n",
       "<!-- b10 -->\n",
       "<g id=\"node11\" class=\"node\">\n",
       "<title>b10</title>\n",
       "<polygon fill=\"none\" stroke=\"black\" points=\"1634,-36 1467,-36 1467,0 1634,0 1634,-36\"/>\n",
       "<text text-anchor=\"start\" x=\"1526\" y=\"-19.8\" font-family=\"Times,serif\" font-size=\"14.00\">ModNeg</text>\n",
       "<text text-anchor=\"start\" x=\"1475\" y=\"-9\" font-family=\"monospace\" font-size=\"10.00\">dtype=QUInt(bi ..., mod=p</text>\n",
       "</g>\n",
       "<!-- b0&#45;&gt;b10 -->\n",
       "<g id=\"edge10\" class=\"edge\">\n",
       "<title>b0-&gt;b10</title>\n",
       "<path fill=\"none\" stroke=\"black\" d=\"M837.25,-101.56C912.05,-96.67 1081.49,-84.81 1223.5,-69 1325.15,-57.69 1352.75,-53.19 1456.81,-36.25\"/>\n",
       "<polygon fill=\"black\" stroke=\"black\" points=\"1457.48,-39.69 1466.79,-34.63 1456.36,-32.78 1457.48,-39.69\"/>\n",
       "<text text-anchor=\"middle\" x=\"1344\" y=\"-57.8\" font-family=\"Times,serif\" font-size=\"14.00\">2</text>\n",
       "</g>\n",
       "</g>\n",
       "</svg>"
      ],
      "text/plain": [
       "<IPython.core.display.SVG object>"
      ]
     },
     "metadata": {},
     "output_type": "display_data"
    },
    {
     "data": {
      "text/markdown": [
       "#### Counts totals:\n",
       " - `CModAdd`: 2\n",
       " - `CModNeg`: 1\n",
       " - `CModSub`: 4\n",
       " - `ModAdd`: 3\n",
       " - `ModDbl`: 2\n",
       " - `ModInv`: 4\n",
       " - `ModMul`: 10\n",
       " - `ModNeg`: 2\n",
       " - `ModSub`: 2\n",
       " - `MultiCToffoli`: 18"
      ],
      "text/plain": [
       "<IPython.core.display.Markdown object>"
      ]
     },
     "metadata": {},
     "output_type": "display_data"
    }
   ],
   "source": [
    "from qualtran.resource_counting.generalizers import ignore_split_join\n",
    "ec_add_g, ec_add_sigma = ec_add.call_graph(max_depth=1, generalizer=ignore_split_join)\n",
    "show_call_graph(ec_add_g)\n",
    "show_counts_sigma(ec_add_sigma)"
   ]
  }
 ],
 "metadata": {
  "kernelspec": {
   "display_name": "Python 3 (ipykernel)",
   "language": "python",
   "name": "python3"
  },
  "language_info": {
   "codemirror_mode": {
    "name": "ipython",
    "version": 3
   },
   "file_extension": ".py",
   "mimetype": "text/x-python",
   "name": "python",
   "nbconvert_exporter": "python",
   "pygments_lexer": "ipython3",
   "version": "3.11.8"
  },
  "widgets": {
   "application/vnd.jupyter.widget-state+json": {
    "state": {
     "4b8ca1a306504f98b0e666c8a67d4aa5": {
      "model_module": "@jupyter-widgets/base",
      "model_module_version": "2.0.0",
      "model_name": "LayoutModel",
      "state": {
       "_model_module": "@jupyter-widgets/base",
       "_model_module_version": "2.0.0",
       "_model_name": "LayoutModel",
       "_view_count": null,
       "_view_module": "@jupyter-widgets/base",
       "_view_module_version": "2.0.0",
       "_view_name": "LayoutView",
       "align_content": null,
       "align_items": null,
       "align_self": null,
       "border_bottom": null,
       "border_left": null,
       "border_right": null,
       "border_top": null,
       "bottom": null,
       "display": null,
       "flex": null,
       "flex_flow": null,
       "grid_area": null,
       "grid_auto_columns": null,
       "grid_auto_flow": null,
       "grid_auto_rows": null,
       "grid_column": null,
       "grid_gap": null,
       "grid_row": null,
       "grid_template_areas": null,
       "grid_template_columns": null,
       "grid_template_rows": null,
       "height": null,
       "justify_content": null,
       "justify_items": null,
       "left": null,
       "margin": null,
       "max_height": null,
       "max_width": null,
       "min_height": null,
       "min_width": null,
       "object_fit": null,
       "object_position": null,
       "order": null,
       "overflow": null,
       "padding": null,
       "right": null,
       "top": null,
       "visibility": null,
       "width": null
      }
     },
     "79bda3385626413e9ff7f71b5717debc": {
      "model_module": "@jupyter-widgets/controls",
      "model_module_version": "2.0.0",
      "model_name": "HBoxModel",
      "state": {
       "_dom_classes": [],
       "_model_module": "@jupyter-widgets/controls",
       "_model_module_version": "2.0.0",
       "_model_name": "HBoxModel",
       "_view_count": null,
       "_view_module": "@jupyter-widgets/controls",
       "_view_module_version": "2.0.0",
       "_view_name": "HBoxView",
       "box_style": "",
       "children": [
        "IPY_MODEL_f4dcdb806ad8491eaeff496962a1e84d"
       ],
       "layout": "IPY_MODEL_4b8ca1a306504f98b0e666c8a67d4aa5",
       "tabbable": null,
       "tooltip": null
      }
     },
     "802b39397bea464e82981c127763c200": {
      "model_module": "@jupyter-widgets/base",
      "model_module_version": "2.0.0",
      "model_name": "LayoutModel",
      "state": {
       "_model_module": "@jupyter-widgets/base",
       "_model_module_version": "2.0.0",
       "_model_name": "LayoutModel",
       "_view_count": null,
       "_view_module": "@jupyter-widgets/base",
       "_view_module_version": "2.0.0",
       "_view_name": "LayoutView",
       "align_content": null,
       "align_items": null,
       "align_self": null,
       "border_bottom": null,
       "border_left": null,
       "border_right": null,
       "border_top": null,
       "bottom": null,
       "display": null,
       "flex": null,
       "flex_flow": null,
       "grid_area": null,
       "grid_auto_columns": null,
       "grid_auto_flow": null,
       "grid_auto_rows": null,
       "grid_column": null,
       "grid_gap": null,
       "grid_row": null,
       "grid_template_areas": null,
       "grid_template_columns": null,
       "grid_template_rows": null,
       "height": null,
       "justify_content": null,
       "justify_items": null,
       "left": null,
       "margin": null,
       "max_height": null,
       "max_width": null,
       "min_height": null,
       "min_width": null,
       "object_fit": null,
       "object_position": null,
       "order": null,
       "overflow": null,
       "padding": null,
       "right": null,
       "top": null,
       "visibility": null,
       "width": null
      }
     },
     "f4dcdb806ad8491eaeff496962a1e84d": {
      "model_module": "@jupyter-widgets/output",
      "model_module_version": "1.0.0",
      "model_name": "OutputModel",
      "state": {
       "_dom_classes": [],
       "_model_module": "@jupyter-widgets/output",
       "_model_module_version": "1.0.0",
       "_model_name": "OutputModel",
       "_view_count": null,
       "_view_module": "@jupyter-widgets/output",
       "_view_module_version": "1.0.0",
       "_view_name": "OutputView",
       "layout": "IPY_MODEL_802b39397bea464e82981c127763c200",
       "msg_id": "",
       "outputs": [
        {
         "data": {
          "text/markdown": "`ec_add`",
          "text/plain": "<IPython.core.display.Markdown object>"
         },
         "metadata": {},
         "output_type": "display_data"
        },
        {
         "data": {
          "image/svg+xml": "<svg xmlns=\"http://www.w3.org/2000/svg\" xmlns:xlink=\"http://www.w3.org/1999/xlink\" width=\"227pt\" height=\"260pt\" viewBox=\"0.00 0.00 227.00 260.00\">\n<g id=\"graph0\" class=\"graph\" transform=\"scale(1 1) rotate(0) translate(4 256)\">\n<title>my_graph</title>\n<polygon fill=\"white\" stroke=\"transparent\" points=\"-4,4 -4,-256 223,-256 223,4 -4,4\"/>\n<!-- a_G14 -->\n<g id=\"node1\" class=\"node\">\n<title>a_G14</title>\n<text text-anchor=\"middle\" x=\"27\" y=\"-230.3\" font-family=\"Times,serif\" font-size=\"14.00\">a</text>\n</g>\n<!-- ECAdd -->\n<g id=\"node6\" class=\"node\">\n<title>ECAdd</title>\n<polygon fill=\"none\" stroke=\"black\" points=\"91.5,-179 91.5,-196 128.5,-196 128.5,-179 91.5,-179\"/>\n<text text-anchor=\"start\" x=\"94.5\" y=\"-185\" font-family=\"Times,serif\" font-size=\"10.00\">ECAdd</text>\n<polygon fill=\"none\" stroke=\"black\" points=\"91.5,-158 91.5,-179 128.5,-179 128.5,-158 91.5,-158\"/>\n<text text-anchor=\"start\" x=\"106.5\" y=\"-164.8\" font-family=\"Times,serif\" font-size=\"14.00\">a</text>\n<polygon fill=\"none\" stroke=\"black\" points=\"91.5,-137 91.5,-158 128.5,-158 128.5,-137 91.5,-137\"/>\n<text text-anchor=\"start\" x=\"106.5\" y=\"-143.8\" font-family=\"Times,serif\" font-size=\"14.00\">b</text>\n<polygon fill=\"none\" stroke=\"black\" points=\"91.5,-116 91.5,-137 128.5,-137 128.5,-116 91.5,-116\"/>\n<text text-anchor=\"start\" x=\"106.5\" y=\"-122.8\" font-family=\"Times,serif\" font-size=\"14.00\">x</text>\n<polygon fill=\"none\" stroke=\"black\" points=\"91.5,-95 91.5,-116 128.5,-116 128.5,-95 91.5,-95\"/>\n<text text-anchor=\"start\" x=\"106.5\" y=\"-101.8\" font-family=\"Times,serif\" font-size=\"14.00\">y</text>\n<polygon fill=\"none\" stroke=\"black\" points=\"91.5,-74 91.5,-95 128.5,-95 128.5,-74 91.5,-74\"/>\n<text text-anchor=\"start\" x=\"99\" y=\"-80.8\" font-family=\"Times,serif\" font-size=\"14.00\">lam</text>\n</g>\n<!-- a_G14&#45;&gt;ECAdd -->\n<g id=\"edge1\" class=\"edge\">\n<title>a_G14:e-&gt;ECAdd:w</title>\n<path fill=\"none\" stroke=\"black\" d=\"M54,-234C86.46,-234 59.11,-172.01 88.76,-169.11\"/>\n<ellipse fill=\"black\" stroke=\"black\" cx=\"90\" cy=\"-169.05\" rx=\"1\" ry=\"1\"/>\n<text text-anchor=\"middle\" x=\"72.5\" y=\"-210\" font-family=\"Times,serif\" font-size=\"10.00\">n</text>\n</g>\n<!-- b_G4 -->\n<g id=\"node2\" class=\"node\">\n<title>b_G4</title>\n<text text-anchor=\"middle\" x=\"27\" y=\"-176.3\" font-family=\"Times,serif\" font-size=\"14.00\">b</text>\n</g>\n<!-- b_G4&#45;&gt;ECAdd -->\n<g id=\"edge2\" class=\"edge\">\n<title>b_G4:e-&gt;ECAdd:w</title>\n<path fill=\"none\" stroke=\"black\" d=\"M54,-180C74.89,-180 69.72,-150.45 88.58,-148.14\"/>\n<ellipse fill=\"black\" stroke=\"black\" cx=\"90\" cy=\"-148.06\" rx=\"1\" ry=\"1\"/>\n<text text-anchor=\"middle\" x=\"72.5\" y=\"-167\" font-family=\"Times,serif\" font-size=\"10.00\">n</text>\n</g>\n<!-- x_G3 -->\n<g id=\"node3\" class=\"node\">\n<title>x_G3</title>\n<text text-anchor=\"middle\" x=\"27\" y=\"-122.3\" font-family=\"Times,serif\" font-size=\"14.00\">x</text>\n</g>\n<!-- x_G3&#45;&gt;ECAdd -->\n<g id=\"edge3\" class=\"edge\">\n<title>x_G3:e-&gt;ECAdd:w</title>\n<path fill=\"none\" stroke=\"black\" d=\"M54,-126C69.67,-126 74.14,-126 88.77,-126\"/>\n<ellipse fill=\"black\" stroke=\"black\" cx=\"90\" cy=\"-126\" rx=\"1\" ry=\"1\"/>\n<text text-anchor=\"middle\" x=\"72.5\" y=\"-129\" font-family=\"Times,serif\" font-size=\"10.00\">n</text>\n</g>\n<!-- y_G10 -->\n<g id=\"node4\" class=\"node\">\n<title>y_G10</title>\n<text text-anchor=\"middle\" x=\"27\" y=\"-68.3\" font-family=\"Times,serif\" font-size=\"14.00\">y</text>\n</g>\n<!-- y_G10&#45;&gt;ECAdd -->\n<g id=\"edge4\" class=\"edge\">\n<title>y_G10:e-&gt;ECAdd:w</title>\n<path fill=\"none\" stroke=\"black\" d=\"M54,-72C75.17,-72 69.47,-102.47 88.55,-104.85\"/>\n<ellipse fill=\"black\" stroke=\"black\" cx=\"90\" cy=\"-104.94\" rx=\"1\" ry=\"1\"/>\n<text text-anchor=\"middle\" x=\"72.5\" y=\"-92\" font-family=\"Times,serif\" font-size=\"10.00\">n</text>\n</g>\n<!-- lam_G11 -->\n<g id=\"node5\" class=\"node\">\n<title>lam_G11</title>\n<text text-anchor=\"middle\" x=\"27\" y=\"-14.3\" font-family=\"Times,serif\" font-size=\"14.00\">lam</text>\n</g>\n<!-- lam_G11&#45;&gt;ECAdd -->\n<g id=\"edge5\" class=\"edge\">\n<title>lam_G11:e-&gt;ECAdd:w</title>\n<path fill=\"none\" stroke=\"black\" d=\"M54,-18C86.84,-18 58.75,-80.94 88.74,-83.89\"/>\n<ellipse fill=\"black\" stroke=\"black\" cx=\"90\" cy=\"-83.95\" rx=\"1\" ry=\"1\"/>\n<text text-anchor=\"middle\" x=\"72.5\" y=\"-62\" font-family=\"Times,serif\" font-size=\"10.00\">n</text>\n</g>\n<!-- a_G1 -->\n<g id=\"node7\" class=\"node\">\n<title>a_G1</title>\n<text text-anchor=\"middle\" x=\"192\" y=\"-230.3\" font-family=\"Times,serif\" font-size=\"14.00\">a</text>\n</g>\n<!-- ECAdd&#45;&gt;a_G1 -->\n<g id=\"edge6\" class=\"edge\">\n<title>ECAdd:e-&gt;a_G1:w</title>\n<path fill=\"none\" stroke=\"black\" d=\"M128,-169C160.46,-169 133.11,-230.99 162.76,-233.89\"/>\n<ellipse fill=\"black\" stroke=\"black\" cx=\"164\" cy=\"-233.95\" rx=\"1\" ry=\"1\"/>\n<text text-anchor=\"middle\" x=\"146.5\" y=\"-210\" font-family=\"Times,serif\" font-size=\"10.00\">n</text>\n</g>\n<!-- b_G13 -->\n<g id=\"node8\" class=\"node\">\n<title>b_G13</title>\n<text text-anchor=\"middle\" x=\"192\" y=\"-176.3\" font-family=\"Times,serif\" font-size=\"14.00\">b</text>\n</g>\n<!-- ECAdd&#45;&gt;b_G13 -->\n<g id=\"edge7\" class=\"edge\">\n<title>ECAdd:e-&gt;b_G13:w</title>\n<path fill=\"none\" stroke=\"black\" d=\"M128,-148C148.89,-148 143.72,-177.55 162.58,-179.86\"/>\n<ellipse fill=\"black\" stroke=\"black\" cx=\"164\" cy=\"-179.94\" rx=\"1\" ry=\"1\"/>\n<text text-anchor=\"middle\" x=\"146.5\" y=\"-167\" font-family=\"Times,serif\" font-size=\"10.00\">n</text>\n</g>\n<!-- x_G2 -->\n<g id=\"node9\" class=\"node\">\n<title>x_G2</title>\n<text text-anchor=\"middle\" x=\"192\" y=\"-122.3\" font-family=\"Times,serif\" font-size=\"14.00\">x</text>\n</g>\n<!-- ECAdd&#45;&gt;x_G2 -->\n<g id=\"edge8\" class=\"edge\">\n<title>ECAdd:e-&gt;x_G2:w</title>\n<path fill=\"none\" stroke=\"black\" d=\"M128,-126C143.67,-126 148.14,-126 162.77,-126\"/>\n<ellipse fill=\"black\" stroke=\"black\" cx=\"164\" cy=\"-126\" rx=\"1\" ry=\"1\"/>\n<text text-anchor=\"middle\" x=\"146.5\" y=\"-129\" font-family=\"Times,serif\" font-size=\"10.00\">n</text>\n</g>\n<!-- y_G0 -->\n<g id=\"node10\" class=\"node\">\n<title>y_G0</title>\n<text text-anchor=\"middle\" x=\"192\" y=\"-68.3\" font-family=\"Times,serif\" font-size=\"14.00\">y</text>\n</g>\n<!-- ECAdd&#45;&gt;y_G0 -->\n<g id=\"edge9\" class=\"edge\">\n<title>ECAdd:e-&gt;y_G0:w</title>\n<path fill=\"none\" stroke=\"black\" d=\"M128,-105C149.17,-105 143.47,-74.53 162.55,-72.15\"/>\n<ellipse fill=\"black\" stroke=\"black\" cx=\"164\" cy=\"-72.06\" rx=\"1\" ry=\"1\"/>\n<text text-anchor=\"middle\" x=\"146.5\" y=\"-92\" font-family=\"Times,serif\" font-size=\"10.00\">n</text>\n</g>\n<!-- lam_G6 -->\n<g id=\"node11\" class=\"node\">\n<title>lam_G6</title>\n<text text-anchor=\"middle\" x=\"192\" y=\"-14.3\" font-family=\"Times,serif\" font-size=\"14.00\">lam</text>\n</g>\n<!-- ECAdd&#45;&gt;lam_G6 -->\n<g id=\"edge10\" class=\"edge\">\n<title>ECAdd:e-&gt;lam_G6:w</title>\n<path fill=\"none\" stroke=\"black\" d=\"M128,-84C160.84,-84 132.75,-21.06 162.74,-18.11\"/>\n<ellipse fill=\"black\" stroke=\"black\" cx=\"164\" cy=\"-18.05\" rx=\"1\" ry=\"1\"/>\n<text text-anchor=\"middle\" x=\"146.5\" y=\"-62\" font-family=\"Times,serif\" font-size=\"10.00\">n</text>\n</g>\n</g>\n</svg>",
          "text/plain": "<IPython.core.display.SVG object>"
         },
         "metadata": {},
         "output_type": "display_data"
        }
       ],
       "tabbable": null,
       "tooltip": null
      }
     }
    },
    "version_major": 2,
    "version_minor": 0
   }
  }
 },
 "nbformat": 4,
 "nbformat_minor": 5
}
