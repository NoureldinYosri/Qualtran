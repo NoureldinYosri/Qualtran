{
 "cells": [
  {
   "cell_type": "markdown",
   "id": "e29a137f",
   "metadata": {
    "cq.autogen": "title_cell"
   },
   "source": [
    "# Elliptic Curve Addition"
   ]
  },
  {
   "cell_type": "code",
   "execution_count": 1,
   "id": "06da449a",
   "metadata": {
    "cq.autogen": "top_imports"
   },
   "outputs": [],
   "source": [
    "from qualtran import Bloq, CompositeBloq, BloqBuilder, Signature, Register\n",
    "from qualtran import QBit, QInt, QUInt, QAny\n",
    "from qualtran.drawing import show_bloq, show_call_graph, show_counts_sigma\n",
    "from typing import *\n",
    "import numpy as np\n",
    "import sympy\n",
    "import cirq"
   ]
  },
  {
   "cell_type": "markdown",
   "id": "dc1d3b04",
   "metadata": {
    "cq.autogen": "ECAdd.bloq_doc.md"
   },
   "source": [
    "## `ECAdd`\n",
    "Add two elliptic curve points.\n",
    "\n",
    "This takes elliptic curve points given by (a, b) and (x, y)\n",
    "and outputs the sum (x_r, y_r) in the second pair of registers.\n",
    "\n",
    "#### Parameters\n",
    " - `n`: The bitsize of the two registers storing the elliptic curve point\n",
    " - `mod`: The modulus of the field in which we do the addition. \n",
    "\n",
    "#### Registers\n",
    " - `a`: The x component of the first input elliptic curve point of bitsize `n`.\n",
    " - `b`: The y component of the first input elliptic curve point of bitsize `n`.\n",
    " - `x`: The x component of the second input elliptic curve point of bitsize `n`, which will contain the x component of the resultant curve point.\n",
    " - `y`: The y component of the second input elliptic curve point of bitsize `n`, which will contain the y component of the resultant curve point.\n",
    " - `lam`: The precomputed lambda slope used in the addition operation. \n",
    "\n",
    "#### References\n",
    " - [How to compute a 256-bit elliptic curve private key with only 50 million Toffoli gates](https://arxiv.org/abs/2306.08585). Litinski. 2023. Fig 5.\n"
   ]
  },
  {
   "cell_type": "code",
   "execution_count": 2,
   "id": "68605201",
   "metadata": {
    "cq.autogen": "ECAdd.bloq_doc.py"
   },
   "outputs": [],
   "source": [
    "from qualtran.bloqs.factoring.ecc import ECAdd"
   ]
  },
  {
   "cell_type": "markdown",
   "id": "bba2f42d",
   "metadata": {
    "cq.autogen": "ECAdd.example_instances.md"
   },
   "source": [
    "### Example Instances"
   ]
  },
  {
   "cell_type": "code",
   "execution_count": 3,
   "id": "0d051c3b",
   "metadata": {
    "cq.autogen": "ECAdd.ec_add"
   },
   "outputs": [],
   "source": [
    "n, p = sympy.symbols('n p')\n",
    "ec_add = ECAdd(n, mod=p)"
   ]
  },
  {
   "cell_type": "markdown",
   "id": "39210af4",
   "metadata": {
    "cq.autogen": "ECAdd.graphical_signature.md"
   },
   "source": [
    "#### Graphical Signature"
   ]
  },
  {
   "cell_type": "code",
   "execution_count": 4,
   "id": "d353f0ec",
   "metadata": {
    "cq.autogen": "ECAdd.graphical_signature.py"
   },
   "outputs": [
    {
     "data": {
      "application/vnd.jupyter.widget-view+json": {
       "model_id": "e7bc567394fb41d39df4df63b2ebc8b0",
       "version_major": 2,
       "version_minor": 0
      },
      "text/plain": [
       "HBox(children=(Output(outputs=({'output_type': 'display_data', 'data': {'text/plain': '<IPython.core.display.M…"
      ]
     },
     "metadata": {},
     "output_type": "display_data"
    }
   ],
   "source": [
    "from qualtran.drawing import show_bloqs\n",
    "show_bloqs([ec_add],\n",
    "           ['`ec_add`'])"
   ]
  },
  {
   "cell_type": "markdown",
   "id": "d7fcd725",
   "metadata": {
    "cq.autogen": "ECAdd.call_graph.md"
   },
   "source": [
    "### Call Graph"
   ]
  },
  {
   "cell_type": "code",
   "execution_count": 5,
   "id": "976398e1",
   "metadata": {
    "cq.autogen": "ECAdd.call_graph.py"
   },
   "outputs": [
    {
     "data": {
      "image/svg+xml": [
       "<svg xmlns=\"http://www.w3.org/2000/svg\" xmlns:xlink=\"http://www.w3.org/1999/xlink\" width=\"958pt\" height=\"131pt\" viewBox=\"0.00 0.00 958.00 131.00\">\n",
       "<g id=\"graph0\" class=\"graph\" transform=\"scale(1 1) rotate(0) translate(4 127)\">\n",
       "<title>counts</title>\n",
       "<polygon fill=\"white\" stroke=\"transparent\" points=\"-4,4 -4,-127 954,-127 954,4 -4,4\"/>\n",
       "<!-- b0 -->\n",
       "<g id=\"node1\" class=\"node\">\n",
       "<title>b0</title>\n",
       "<polygon fill=\"none\" stroke=\"black\" points=\"522,-123 445,-123 445,-87 522,-87 522,-123\"/>\n",
       "<text text-anchor=\"start\" x=\"463\" y=\"-106.8\" font-family=\"Times,serif\" font-size=\"14.00\">ECAdd</text>\n",
       "<text text-anchor=\"start\" x=\"453\" y=\"-96\" font-family=\"monospace\" font-size=\"10.00\">n=n, mod=p</text>\n",
       "</g>\n",
       "<!-- b1 -->\n",
       "<g id=\"node2\" class=\"node\">\n",
       "<title>b1</title>\n",
       "<polygon fill=\"none\" stroke=\"black\" points=\"77,-36 0,-36 0,0 77,0 77,-36\"/>\n",
       "<text text-anchor=\"start\" x=\"13.5\" y=\"-19.8\" font-family=\"Times,serif\" font-size=\"14.00\">ModMul</text>\n",
       "<text text-anchor=\"start\" x=\"8\" y=\"-9\" font-family=\"monospace\" font-size=\"10.00\">n=n, mod=p</text>\n",
       "</g>\n",
       "<!-- b0&#45;&gt;b1 -->\n",
       "<g id=\"edge1\" class=\"edge\">\n",
       "<title>b0-&gt;b1</title>\n",
       "<path fill=\"none\" stroke=\"black\" d=\"M444.78,-100.07C374.63,-92.37 222,-72.98 86.78,-36.15\"/>\n",
       "<polygon fill=\"black\" stroke=\"black\" points=\"87.65,-32.76 77.08,-33.47 85.79,-39.51 87.65,-32.76\"/>\n",
       "<text text-anchor=\"middle\" x=\"233.5\" y=\"-57.8\" font-family=\"Times,serif\" font-size=\"14.00\">10</text>\n",
       "</g>\n",
       "<!-- b2 -->\n",
       "<g id=\"node3\" class=\"node\">\n",
       "<title>b2</title>\n",
       "<polygon fill=\"none\" stroke=\"black\" points=\"190,-36 95,-36 95,0 190,0 190,-36\"/>\n",
       "<text text-anchor=\"start\" x=\"103\" y=\"-19.8\" font-family=\"Times,serif\" font-size=\"14.00\">MultiCToffoli</text>\n",
       "<text text-anchor=\"start\" x=\"133\" y=\"-9\" font-family=\"monospace\" font-size=\"10.00\">n=n</text>\n",
       "</g>\n",
       "<!-- b0&#45;&gt;b2 -->\n",
       "<g id=\"edge2\" class=\"edge\">\n",
       "<title>b0-&gt;b2</title>\n",
       "<path fill=\"none\" stroke=\"black\" d=\"M444.54,-95.68C391.32,-84.09 292.76,-61.88 199.95,-36.34\"/>\n",
       "<polygon fill=\"black\" stroke=\"black\" points=\"200.69,-32.92 190.12,-33.62 198.82,-39.66 200.69,-32.92\"/>\n",
       "<text text-anchor=\"middle\" x=\"330.5\" y=\"-57.8\" font-family=\"Times,serif\" font-size=\"14.00\">18</text>\n",
       "</g>\n",
       "<!-- b3 -->\n",
       "<g id=\"node4\" class=\"node\">\n",
       "<title>b3</title>\n",
       "<polygon fill=\"none\" stroke=\"black\" points=\"285,-36 208,-36 208,0 285,0 285,-36\"/>\n",
       "<text text-anchor=\"start\" x=\"222\" y=\"-19.8\" font-family=\"Times,serif\" font-size=\"14.00\">ModNeg</text>\n",
       "<text text-anchor=\"start\" x=\"216\" y=\"-9\" font-family=\"monospace\" font-size=\"10.00\">n=n, mod=p</text>\n",
       "</g>\n",
       "<!-- b0&#45;&gt;b3 -->\n",
       "<g id=\"edge3\" class=\"edge\">\n",
       "<title>b0-&gt;b3</title>\n",
       "<path fill=\"none\" stroke=\"black\" d=\"M444.91,-90.23C408.54,-77.25 352.25,-57.12 294.82,-36.47\"/>\n",
       "<polygon fill=\"black\" stroke=\"black\" points=\"295.82,-33.11 285.22,-33.02 293.45,-39.7 295.82,-33.11\"/>\n",
       "<text text-anchor=\"middle\" x=\"386\" y=\"-57.8\" font-family=\"Times,serif\" font-size=\"14.00\">2</text>\n",
       "</g>\n",
       "<!-- b4 -->\n",
       "<g id=\"node5\" class=\"node\">\n",
       "<title>b4</title>\n",
       "<polygon fill=\"none\" stroke=\"black\" points=\"380,-36 303,-36 303,0 380,0 380,-36\"/>\n",
       "<text text-anchor=\"start\" x=\"312.5\" y=\"-19.8\" font-family=\"Times,serif\" font-size=\"14.00\">CModNeg</text>\n",
       "<text text-anchor=\"start\" x=\"311\" y=\"-9\" font-family=\"monospace\" font-size=\"10.00\">n=n, mod=p</text>\n",
       "</g>\n",
       "<!-- b0&#45;&gt;b4 -->\n",
       "<g id=\"edge4\" class=\"edge\">\n",
       "<title>b0-&gt;b4</title>\n",
       "<path fill=\"none\" stroke=\"black\" d=\"M454.76,-86.8C432.92,-73.72 402.68,-55.62 378.94,-41.41\"/>\n",
       "<polygon fill=\"black\" stroke=\"black\" points=\"380.57,-38.31 370.19,-36.18 376.98,-44.31 380.57,-38.31\"/>\n",
       "<text text-anchor=\"middle\" x=\"425\" y=\"-57.8\" font-family=\"Times,serif\" font-size=\"14.00\">1</text>\n",
       "</g>\n",
       "<!-- b5 -->\n",
       "<g id=\"node6\" class=\"node\">\n",
       "<title>b5</title>\n",
       "<polygon fill=\"none\" stroke=\"black\" points=\"475,-36 398,-36 398,0 475,0 475,-36\"/>\n",
       "<text text-anchor=\"start\" x=\"411.5\" y=\"-19.8\" font-family=\"Times,serif\" font-size=\"14.00\">ModAdd</text>\n",
       "<text text-anchor=\"start\" x=\"406\" y=\"-9\" font-family=\"monospace\" font-size=\"10.00\">n=n, mod=p</text>\n",
       "</g>\n",
       "<!-- b0&#45;&gt;b5 -->\n",
       "<g id=\"edge5\" class=\"edge\">\n",
       "<title>b0-&gt;b5</title>\n",
       "<path fill=\"none\" stroke=\"black\" d=\"M473.99,-86.8C467.36,-74.82 458.41,-58.62 450.91,-45.06\"/>\n",
       "<polygon fill=\"black\" stroke=\"black\" points=\"453.9,-43.23 446,-36.18 447.77,-46.62 453.9,-43.23\"/>\n",
       "<text text-anchor=\"middle\" x=\"467\" y=\"-57.8\" font-family=\"Times,serif\" font-size=\"14.00\">3</text>\n",
       "</g>\n",
       "<!-- b6 -->\n",
       "<g id=\"node7\" class=\"node\">\n",
       "<title>b6</title>\n",
       "<polygon fill=\"none\" stroke=\"black\" points=\"570,-36 493,-36 493,0 570,0 570,-36\"/>\n",
       "<text text-anchor=\"start\" x=\"509\" y=\"-19.8\" font-family=\"Times,serif\" font-size=\"14.00\">ModInv</text>\n",
       "<text text-anchor=\"start\" x=\"501\" y=\"-9\" font-family=\"monospace\" font-size=\"10.00\">n=n, mod=p</text>\n",
       "</g>\n",
       "<!-- b0&#45;&gt;b6 -->\n",
       "<g id=\"edge6\" class=\"edge\">\n",
       "<title>b0-&gt;b6</title>\n",
       "<path fill=\"none\" stroke=\"black\" d=\"M493.21,-86.8C499.98,-74.82 509.13,-58.62 516.79,-45.06\"/>\n",
       "<polygon fill=\"black\" stroke=\"black\" points=\"519.93,-46.6 521.8,-36.18 513.84,-43.16 519.93,-46.6\"/>\n",
       "<text text-anchor=\"middle\" x=\"514\" y=\"-57.8\" font-family=\"Times,serif\" font-size=\"14.00\">4</text>\n",
       "</g>\n",
       "<!-- b7 -->\n",
       "<g id=\"node8\" class=\"node\">\n",
       "<title>b7</title>\n",
       "<polygon fill=\"none\" stroke=\"black\" points=\"665,-36 588,-36 588,0 665,0 665,-36\"/>\n",
       "<text text-anchor=\"start\" x=\"603\" y=\"-19.8\" font-family=\"Times,serif\" font-size=\"14.00\">ModDbl</text>\n",
       "<text text-anchor=\"start\" x=\"596\" y=\"-9\" font-family=\"monospace\" font-size=\"10.00\">n=n, mod=p</text>\n",
       "</g>\n",
       "<!-- b0&#45;&gt;b7 -->\n",
       "<g id=\"edge7\" class=\"edge\">\n",
       "<title>b0-&gt;b7</title>\n",
       "<path fill=\"none\" stroke=\"black\" d=\"M512.44,-86.8C534.44,-73.72 564.89,-55.62 588.79,-41.41\"/>\n",
       "<polygon fill=\"black\" stroke=\"black\" points=\"590.8,-44.29 597.6,-36.18 587.22,-38.28 590.8,-44.29\"/>\n",
       "<text text-anchor=\"middle\" x=\"568\" y=\"-57.8\" font-family=\"Times,serif\" font-size=\"14.00\">2</text>\n",
       "</g>\n",
       "<!-- b8 -->\n",
       "<g id=\"node9\" class=\"node\">\n",
       "<title>b8</title>\n",
       "<polygon fill=\"none\" stroke=\"black\" points=\"760,-36 683,-36 683,0 760,0 760,-36\"/>\n",
       "<text text-anchor=\"start\" x=\"692\" y=\"-19.8\" font-family=\"Times,serif\" font-size=\"14.00\">CModAdd</text>\n",
       "<text text-anchor=\"start\" x=\"691\" y=\"-9\" font-family=\"monospace\" font-size=\"10.00\">n=n, mod=p</text>\n",
       "</g>\n",
       "<!-- b0&#45;&gt;b8 -->\n",
       "<g id=\"edge8\" class=\"edge\">\n",
       "<title>b0-&gt;b8</title>\n",
       "<path fill=\"none\" stroke=\"black\" d=\"M522.3,-90.25C558.87,-77.28 615.46,-57.17 673.14,-36.48\"/>\n",
       "<polygon fill=\"black\" stroke=\"black\" points=\"674.55,-39.7 682.78,-33.02 672.18,-33.11 674.55,-39.7\"/>\n",
       "<text text-anchor=\"middle\" x=\"626\" y=\"-57.8\" font-family=\"Times,serif\" font-size=\"14.00\">2</text>\n",
       "</g>\n",
       "<!-- b9 -->\n",
       "<g id=\"node10\" class=\"node\">\n",
       "<title>b9</title>\n",
       "<polygon fill=\"none\" stroke=\"black\" points=\"855,-36 778,-36 778,0 855,0 855,-36\"/>\n",
       "<text text-anchor=\"start\" x=\"792.5\" y=\"-19.8\" font-family=\"Times,serif\" font-size=\"14.00\">ModSub</text>\n",
       "<text text-anchor=\"start\" x=\"786\" y=\"-9\" font-family=\"monospace\" font-size=\"10.00\">n=n, mod=p</text>\n",
       "</g>\n",
       "<!-- b0&#45;&gt;b9 -->\n",
       "<g id=\"edge9\" class=\"edge\">\n",
       "<title>b0-&gt;b9</title>\n",
       "<path fill=\"none\" stroke=\"black\" d=\"M522.28,-96.3C575.75,-85.36 675.17,-63.81 768.05,-36.29\"/>\n",
       "<polygon fill=\"black\" stroke=\"black\" points=\"769.31,-39.57 777.88,-33.35 767.3,-32.86 769.31,-39.57\"/>\n",
       "<text text-anchor=\"middle\" x=\"703\" y=\"-57.8\" font-family=\"Times,serif\" font-size=\"14.00\">2</text>\n",
       "</g>\n",
       "<!-- b10 -->\n",
       "<g id=\"node11\" class=\"node\">\n",
       "<title>b10</title>\n",
       "<polygon fill=\"none\" stroke=\"black\" points=\"950,-36 873,-36 873,0 950,0 950,-36\"/>\n",
       "<text text-anchor=\"start\" x=\"883\" y=\"-19.8\" font-family=\"Times,serif\" font-size=\"14.00\">CModSub</text>\n",
       "<text text-anchor=\"start\" x=\"881\" y=\"-9\" font-family=\"monospace\" font-size=\"10.00\">n=n, mod=p</text>\n",
       "</g>\n",
       "<!-- b0&#45;&gt;b10 -->\n",
       "<g id=\"edge10\" class=\"edge\">\n",
       "<title>b0-&gt;b10</title>\n",
       "<path fill=\"none\" stroke=\"black\" d=\"M522.22,-99.75C590.05,-91.74 734.65,-72.11 863.28,-36.16\"/>\n",
       "<polygon fill=\"black\" stroke=\"black\" points=\"864.24,-39.53 872.91,-33.43 862.33,-32.79 864.24,-39.53\"/>\n",
       "<text text-anchor=\"middle\" x=\"796\" y=\"-57.8\" font-family=\"Times,serif\" font-size=\"14.00\">4</text>\n",
       "</g>\n",
       "</g>\n",
       "</svg>"
      ],
      "text/plain": [
       "<IPython.core.display.SVG object>"
      ]
     },
     "metadata": {},
     "output_type": "display_data"
    },
    {
     "data": {
      "text/markdown": [
       "#### Counts totals:\n",
       " - `CModAdd(n=n, mod=p)`: 2\n",
       " - `CModNeg`: 1\n",
       " - `CModSub`: 4\n",
       " - `ModAdd(n=n, mod=p)`: 3\n",
       " - `ModDbl`: 2\n",
       " - `ModInv`: 4\n",
       " - `ModMul`: 10\n",
       " - `ModNeg`: 2\n",
       " - `ModSub(n=n, mod=p)`: 2\n",
       " - `MultiCToffoli(n=n)`: 18"
      ],
      "text/plain": [
       "<IPython.core.display.Markdown object>"
      ]
     },
     "metadata": {},
     "output_type": "display_data"
    }
   ],
   "source": [
    "from qualtran.resource_counting.generalizers import ignore_split_join\n",
    "ec_add_g, ec_add_sigma = ec_add.call_graph(max_depth=1, generalizer=ignore_split_join)\n",
    "show_call_graph(ec_add_g)\n",
    "show_counts_sigma(ec_add_sigma)"
   ]
  }
 ],
 "metadata": {
  "kernelspec": {
   "display_name": "Python 3 (ipykernel)",
   "language": "python",
   "name": "python3"
  },
  "language_info": {
   "codemirror_mode": {
    "name": "ipython",
    "version": 3
   },
   "file_extension": ".py",
   "mimetype": "text/x-python",
   "name": "python",
   "nbconvert_exporter": "python",
   "pygments_lexer": "ipython3",
   "version": "3.11.8"
  },
  "widgets": {
   "application/vnd.jupyter.widget-state+json": {
    "state": {
     "5f680d68836e49ddbc28f0731b421f3e": {
      "model_module": "@jupyter-widgets/base",
      "model_module_version": "2.0.0",
      "model_name": "LayoutModel",
      "state": {
       "_model_module": "@jupyter-widgets/base",
       "_model_module_version": "2.0.0",
       "_model_name": "LayoutModel",
       "_view_count": null,
       "_view_module": "@jupyter-widgets/base",
       "_view_module_version": "2.0.0",
       "_view_name": "LayoutView",
       "align_content": null,
       "align_items": null,
       "align_self": null,
       "border_bottom": null,
       "border_left": null,
       "border_right": null,
       "border_top": null,
       "bottom": null,
       "display": null,
       "flex": null,
       "flex_flow": null,
       "grid_area": null,
       "grid_auto_columns": null,
       "grid_auto_flow": null,
       "grid_auto_rows": null,
       "grid_column": null,
       "grid_gap": null,
       "grid_row": null,
       "grid_template_areas": null,
       "grid_template_columns": null,
       "grid_template_rows": null,
       "height": null,
       "justify_content": null,
       "justify_items": null,
       "left": null,
       "margin": null,
       "max_height": null,
       "max_width": null,
       "min_height": null,
       "min_width": null,
       "object_fit": null,
       "object_position": null,
       "order": null,
       "overflow": null,
       "padding": null,
       "right": null,
       "top": null,
       "visibility": null,
       "width": null
      }
     },
     "a7ca89a2114d4fbcb9c22d5fea75cf00": {
      "model_module": "@jupyter-widgets/base",
      "model_module_version": "2.0.0",
      "model_name": "LayoutModel",
      "state": {
       "_model_module": "@jupyter-widgets/base",
       "_model_module_version": "2.0.0",
       "_model_name": "LayoutModel",
       "_view_count": null,
       "_view_module": "@jupyter-widgets/base",
       "_view_module_version": "2.0.0",
       "_view_name": "LayoutView",
       "align_content": null,
       "align_items": null,
       "align_self": null,
       "border_bottom": null,
       "border_left": null,
       "border_right": null,
       "border_top": null,
       "bottom": null,
       "display": null,
       "flex": null,
       "flex_flow": null,
       "grid_area": null,
       "grid_auto_columns": null,
       "grid_auto_flow": null,
       "grid_auto_rows": null,
       "grid_column": null,
       "grid_gap": null,
       "grid_row": null,
       "grid_template_areas": null,
       "grid_template_columns": null,
       "grid_template_rows": null,
       "height": null,
       "justify_content": null,
       "justify_items": null,
       "left": null,
       "margin": null,
       "max_height": null,
       "max_width": null,
       "min_height": null,
       "min_width": null,
       "object_fit": null,
       "object_position": null,
       "order": null,
       "overflow": null,
       "padding": null,
       "right": null,
       "top": null,
       "visibility": null,
       "width": null
      }
     },
     "e7bc567394fb41d39df4df63b2ebc8b0": {
      "model_module": "@jupyter-widgets/controls",
      "model_module_version": "2.0.0",
      "model_name": "HBoxModel",
      "state": {
       "_dom_classes": [],
       "_model_module": "@jupyter-widgets/controls",
       "_model_module_version": "2.0.0",
       "_model_name": "HBoxModel",
       "_view_count": null,
       "_view_module": "@jupyter-widgets/controls",
       "_view_module_version": "2.0.0",
       "_view_name": "HBoxView",
       "box_style": "",
       "children": [
        "IPY_MODEL_fa758c39c89947b2b38cca62438a6d5f"
       ],
       "layout": "IPY_MODEL_5f680d68836e49ddbc28f0731b421f3e",
       "tabbable": null,
       "tooltip": null
      }
     },
     "fa758c39c89947b2b38cca62438a6d5f": {
      "model_module": "@jupyter-widgets/output",
      "model_module_version": "1.0.0",
      "model_name": "OutputModel",
      "state": {
       "_dom_classes": [],
       "_model_module": "@jupyter-widgets/output",
       "_model_module_version": "1.0.0",
       "_model_name": "OutputModel",
       "_view_count": null,
       "_view_module": "@jupyter-widgets/output",
       "_view_module_version": "1.0.0",
       "_view_name": "OutputView",
       "layout": "IPY_MODEL_a7ca89a2114d4fbcb9c22d5fea75cf00",
       "msg_id": "",
       "outputs": [
        {
         "data": {
          "text/markdown": "`ec_add`",
          "text/plain": "<IPython.core.display.Markdown object>"
         },
         "metadata": {},
         "output_type": "display_data"
        },
        {
         "data": {
          "image/svg+xml": "<svg xmlns=\"http://www.w3.org/2000/svg\" xmlns:xlink=\"http://www.w3.org/1999/xlink\" width=\"227pt\" height=\"260pt\" viewBox=\"0.00 0.00 227.00 260.00\">\n<g id=\"graph0\" class=\"graph\" transform=\"scale(1 1) rotate(0) translate(4 256)\">\n<title>my_graph</title>\n<polygon fill=\"white\" stroke=\"transparent\" points=\"-4,4 -4,-256 223,-256 223,4 -4,4\"/>\n<!-- a_G1 -->\n<g id=\"node1\" class=\"node\">\n<title>a_G1</title>\n<text text-anchor=\"middle\" x=\"27\" y=\"-230.3\" font-family=\"Times,serif\" font-size=\"14.00\">a</text>\n</g>\n<!-- ECAdd -->\n<g id=\"node6\" class=\"node\">\n<title>ECAdd</title>\n<polygon fill=\"none\" stroke=\"black\" points=\"91.5,-179 91.5,-196 128.5,-196 128.5,-179 91.5,-179\"/>\n<text text-anchor=\"start\" x=\"94.5\" y=\"-185\" font-family=\"Times,serif\" font-size=\"10.00\">ECAdd</text>\n<polygon fill=\"none\" stroke=\"black\" points=\"91.5,-158 91.5,-179 128.5,-179 128.5,-158 91.5,-158\"/>\n<text text-anchor=\"start\" x=\"106.5\" y=\"-164.8\" font-family=\"Times,serif\" font-size=\"14.00\">a</text>\n<polygon fill=\"none\" stroke=\"black\" points=\"91.5,-137 91.5,-158 128.5,-158 128.5,-137 91.5,-137\"/>\n<text text-anchor=\"start\" x=\"106.5\" y=\"-143.8\" font-family=\"Times,serif\" font-size=\"14.00\">b</text>\n<polygon fill=\"none\" stroke=\"black\" points=\"91.5,-116 91.5,-137 128.5,-137 128.5,-116 91.5,-116\"/>\n<text text-anchor=\"start\" x=\"106.5\" y=\"-122.8\" font-family=\"Times,serif\" font-size=\"14.00\">x</text>\n<polygon fill=\"none\" stroke=\"black\" points=\"91.5,-95 91.5,-116 128.5,-116 128.5,-95 91.5,-95\"/>\n<text text-anchor=\"start\" x=\"106.5\" y=\"-101.8\" font-family=\"Times,serif\" font-size=\"14.00\">y</text>\n<polygon fill=\"none\" stroke=\"black\" points=\"91.5,-74 91.5,-95 128.5,-95 128.5,-74 91.5,-74\"/>\n<text text-anchor=\"start\" x=\"99\" y=\"-80.8\" font-family=\"Times,serif\" font-size=\"14.00\">lam</text>\n</g>\n<!-- a_G1&#45;&gt;ECAdd -->\n<g id=\"edge1\" class=\"edge\">\n<title>a_G1:e-&gt;ECAdd:w</title>\n<path fill=\"none\" stroke=\"black\" d=\"M54,-234C86.46,-234 59.11,-172.01 88.76,-169.11\"/>\n<ellipse fill=\"black\" stroke=\"black\" cx=\"90\" cy=\"-169.05\" rx=\"1\" ry=\"1\"/>\n<text text-anchor=\"middle\" x=\"72.5\" y=\"-210\" font-family=\"Times,serif\" font-size=\"10.00\">n</text>\n</g>\n<!-- b_G8 -->\n<g id=\"node2\" class=\"node\">\n<title>b_G8</title>\n<text text-anchor=\"middle\" x=\"27\" y=\"-176.3\" font-family=\"Times,serif\" font-size=\"14.00\">b</text>\n</g>\n<!-- b_G8&#45;&gt;ECAdd -->\n<g id=\"edge2\" class=\"edge\">\n<title>b_G8:e-&gt;ECAdd:w</title>\n<path fill=\"none\" stroke=\"black\" d=\"M54,-180C74.89,-180 69.72,-150.45 88.58,-148.14\"/>\n<ellipse fill=\"black\" stroke=\"black\" cx=\"90\" cy=\"-148.06\" rx=\"1\" ry=\"1\"/>\n<text text-anchor=\"middle\" x=\"72.5\" y=\"-167\" font-family=\"Times,serif\" font-size=\"10.00\">n</text>\n</g>\n<!-- x_G3 -->\n<g id=\"node3\" class=\"node\">\n<title>x_G3</title>\n<text text-anchor=\"middle\" x=\"27\" y=\"-122.3\" font-family=\"Times,serif\" font-size=\"14.00\">x</text>\n</g>\n<!-- x_G3&#45;&gt;ECAdd -->\n<g id=\"edge3\" class=\"edge\">\n<title>x_G3:e-&gt;ECAdd:w</title>\n<path fill=\"none\" stroke=\"black\" d=\"M54,-126C69.67,-126 74.14,-126 88.77,-126\"/>\n<ellipse fill=\"black\" stroke=\"black\" cx=\"90\" cy=\"-126\" rx=\"1\" ry=\"1\"/>\n<text text-anchor=\"middle\" x=\"72.5\" y=\"-129\" font-family=\"Times,serif\" font-size=\"10.00\">n</text>\n</g>\n<!-- y_G12 -->\n<g id=\"node4\" class=\"node\">\n<title>y_G12</title>\n<text text-anchor=\"middle\" x=\"27\" y=\"-68.3\" font-family=\"Times,serif\" font-size=\"14.00\">y</text>\n</g>\n<!-- y_G12&#45;&gt;ECAdd -->\n<g id=\"edge4\" class=\"edge\">\n<title>y_G12:e-&gt;ECAdd:w</title>\n<path fill=\"none\" stroke=\"black\" d=\"M54,-72C75.17,-72 69.47,-102.47 88.55,-104.85\"/>\n<ellipse fill=\"black\" stroke=\"black\" cx=\"90\" cy=\"-104.94\" rx=\"1\" ry=\"1\"/>\n<text text-anchor=\"middle\" x=\"72.5\" y=\"-92\" font-family=\"Times,serif\" font-size=\"10.00\">n</text>\n</g>\n<!-- lam_G2 -->\n<g id=\"node5\" class=\"node\">\n<title>lam_G2</title>\n<text text-anchor=\"middle\" x=\"27\" y=\"-14.3\" font-family=\"Times,serif\" font-size=\"14.00\">lam</text>\n</g>\n<!-- lam_G2&#45;&gt;ECAdd -->\n<g id=\"edge5\" class=\"edge\">\n<title>lam_G2:e-&gt;ECAdd:w</title>\n<path fill=\"none\" stroke=\"black\" d=\"M54,-18C86.84,-18 58.75,-80.94 88.74,-83.89\"/>\n<ellipse fill=\"black\" stroke=\"black\" cx=\"90\" cy=\"-83.95\" rx=\"1\" ry=\"1\"/>\n<text text-anchor=\"middle\" x=\"72.5\" y=\"-62\" font-family=\"Times,serif\" font-size=\"10.00\">n</text>\n</g>\n<!-- a_G11 -->\n<g id=\"node7\" class=\"node\">\n<title>a_G11</title>\n<text text-anchor=\"middle\" x=\"192\" y=\"-230.3\" font-family=\"Times,serif\" font-size=\"14.00\">a</text>\n</g>\n<!-- ECAdd&#45;&gt;a_G11 -->\n<g id=\"edge6\" class=\"edge\">\n<title>ECAdd:e-&gt;a_G11:w</title>\n<path fill=\"none\" stroke=\"black\" d=\"M128,-169C160.46,-169 133.11,-230.99 162.76,-233.89\"/>\n<ellipse fill=\"black\" stroke=\"black\" cx=\"164\" cy=\"-233.95\" rx=\"1\" ry=\"1\"/>\n<text text-anchor=\"middle\" x=\"146.5\" y=\"-210\" font-family=\"Times,serif\" font-size=\"10.00\">n</text>\n</g>\n<!-- b_G10 -->\n<g id=\"node8\" class=\"node\">\n<title>b_G10</title>\n<text text-anchor=\"middle\" x=\"192\" y=\"-176.3\" font-family=\"Times,serif\" font-size=\"14.00\">b</text>\n</g>\n<!-- ECAdd&#45;&gt;b_G10 -->\n<g id=\"edge7\" class=\"edge\">\n<title>ECAdd:e-&gt;b_G10:w</title>\n<path fill=\"none\" stroke=\"black\" d=\"M128,-148C148.89,-148 143.72,-177.55 162.58,-179.86\"/>\n<ellipse fill=\"black\" stroke=\"black\" cx=\"164\" cy=\"-179.94\" rx=\"1\" ry=\"1\"/>\n<text text-anchor=\"middle\" x=\"146.5\" y=\"-167\" font-family=\"Times,serif\" font-size=\"10.00\">n</text>\n</g>\n<!-- x_G4 -->\n<g id=\"node9\" class=\"node\">\n<title>x_G4</title>\n<text text-anchor=\"middle\" x=\"192\" y=\"-122.3\" font-family=\"Times,serif\" font-size=\"14.00\">x</text>\n</g>\n<!-- ECAdd&#45;&gt;x_G4 -->\n<g id=\"edge8\" class=\"edge\">\n<title>ECAdd:e-&gt;x_G4:w</title>\n<path fill=\"none\" stroke=\"black\" d=\"M128,-126C143.67,-126 148.14,-126 162.77,-126\"/>\n<ellipse fill=\"black\" stroke=\"black\" cx=\"164\" cy=\"-126\" rx=\"1\" ry=\"1\"/>\n<text text-anchor=\"middle\" x=\"146.5\" y=\"-129\" font-family=\"Times,serif\" font-size=\"10.00\">n</text>\n</g>\n<!-- y_G5 -->\n<g id=\"node10\" class=\"node\">\n<title>y_G5</title>\n<text text-anchor=\"middle\" x=\"192\" y=\"-68.3\" font-family=\"Times,serif\" font-size=\"14.00\">y</text>\n</g>\n<!-- ECAdd&#45;&gt;y_G5 -->\n<g id=\"edge9\" class=\"edge\">\n<title>ECAdd:e-&gt;y_G5:w</title>\n<path fill=\"none\" stroke=\"black\" d=\"M128,-105C149.17,-105 143.47,-74.53 162.55,-72.15\"/>\n<ellipse fill=\"black\" stroke=\"black\" cx=\"164\" cy=\"-72.06\" rx=\"1\" ry=\"1\"/>\n<text text-anchor=\"middle\" x=\"146.5\" y=\"-92\" font-family=\"Times,serif\" font-size=\"10.00\">n</text>\n</g>\n<!-- lam_G13 -->\n<g id=\"node11\" class=\"node\">\n<title>lam_G13</title>\n<text text-anchor=\"middle\" x=\"192\" y=\"-14.3\" font-family=\"Times,serif\" font-size=\"14.00\">lam</text>\n</g>\n<!-- ECAdd&#45;&gt;lam_G13 -->\n<g id=\"edge10\" class=\"edge\">\n<title>ECAdd:e-&gt;lam_G13:w</title>\n<path fill=\"none\" stroke=\"black\" d=\"M128,-84C160.84,-84 132.75,-21.06 162.74,-18.11\"/>\n<ellipse fill=\"black\" stroke=\"black\" cx=\"164\" cy=\"-18.05\" rx=\"1\" ry=\"1\"/>\n<text text-anchor=\"middle\" x=\"146.5\" y=\"-62\" font-family=\"Times,serif\" font-size=\"10.00\">n</text>\n</g>\n</g>\n</svg>",
          "text/plain": "<IPython.core.display.SVG object>"
         },
         "metadata": {},
         "output_type": "display_data"
        }
       ],
       "tabbable": null,
       "tooltip": null
      }
     }
    },
    "version_major": 2,
    "version_minor": 0
   }
  }
 },
 "nbformat": 4,
 "nbformat_minor": 5
}
