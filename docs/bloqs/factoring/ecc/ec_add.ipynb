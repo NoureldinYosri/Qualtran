{
 "cells": [
  {
   "cell_type": "markdown",
   "id": "e29a137f",
   "metadata": {
    "cq.autogen": "title_cell"
   },
   "source": [
    "# Elliptic Curve Addition"
   ]
  },
  {
   "cell_type": "code",
   "execution_count": 1,
   "id": "06da449a",
   "metadata": {
    "cq.autogen": "top_imports"
   },
   "outputs": [],
   "source": [
    "from qualtran import Bloq, CompositeBloq, BloqBuilder, Signature, Register\n",
    "from qualtran import QBit, QInt, QUInt, QAny\n",
    "from qualtran.drawing import show_bloq, show_call_graph, show_counts_sigma\n",
    "from typing import *\n",
    "import numpy as np\n",
    "import sympy\n",
    "import cirq"
   ]
  },
  {
   "cell_type": "markdown",
   "id": "dc1d3b04",
   "metadata": {
    "cq.autogen": "ECAdd.bloq_doc.md"
   },
   "source": [
    "## `ECAdd`\n",
    "Add two elliptic curve points.\n",
    "\n",
    "This takes elliptic curve points given by (a, b) and (x, y)\n",
    "and outputs the sum (x_r, y_r) in the second pair of registers.\n",
    "\n",
    "#### Parameters\n",
    " - `n`: The bitsize of the two registers storing the elliptic curve point\n",
    " - `mod`: The modulus of the field in which we do the addition. \n",
    "\n",
    "#### Registers\n",
    " - `a`: The x component of the first input elliptic curve point of bitsize `n`.\n",
    " - `b`: The y component of the first input elliptic curve point of bitsize `n`.\n",
    " - `x`: The x component of the second input elliptic curve point of bitsize `n`, which will contain the x component of the resultant curve point.\n",
    " - `y`: The y component of the second input elliptic curve point of bitsize `n`, which will contain the y component of the resultant curve point.\n",
    " - `lam`: The precomputed lambda slope used in the addition operation. \n",
    "\n",
    "#### References\n",
    " - [How to compute a 256-bit elliptic curve private key with only 50 million Toffoli gates](https://arxiv.org/abs/2306.08585). Litinski. 2023. Fig 5.\n"
   ]
  },
  {
   "cell_type": "code",
   "execution_count": 2,
   "id": "68605201",
   "metadata": {
    "cq.autogen": "ECAdd.bloq_doc.py"
   },
   "outputs": [],
   "source": [
    "from qualtran.bloqs.factoring.ecc import ECAdd"
   ]
  },
  {
   "cell_type": "markdown",
   "id": "bba2f42d",
   "metadata": {
    "cq.autogen": "ECAdd.example_instances.md"
   },
   "source": [
    "### Example Instances"
   ]
  },
  {
   "cell_type": "code",
   "execution_count": 3,
   "id": "0d051c3b",
   "metadata": {
    "cq.autogen": "ECAdd.ec_add"
   },
   "outputs": [],
   "source": [
    "n, p = sympy.symbols('n p')\n",
    "ec_add = ECAdd(n, mod=p)"
   ]
  },
  {
   "cell_type": "markdown",
   "id": "39210af4",
   "metadata": {
    "cq.autogen": "ECAdd.graphical_signature.md"
   },
   "source": [
    "#### Graphical Signature"
   ]
  },
  {
   "cell_type": "code",
   "execution_count": 4,
   "id": "d353f0ec",
   "metadata": {
    "cq.autogen": "ECAdd.graphical_signature.py"
   },
   "outputs": [
    {
     "data": {
      "application/vnd.jupyter.widget-view+json": {
       "model_id": "3a45b9bae35b4e41bbd0ae264d6a3796",
       "version_major": 2,
       "version_minor": 0
      },
      "text/plain": [
       "HBox(children=(Output(outputs=({'output_type': 'display_data', 'data': {'text/plain': '<IPython.core.display.M…"
      ]
     },
     "metadata": {},
     "output_type": "display_data"
    }
   ],
   "source": [
    "from qualtran.drawing import show_bloqs\n",
    "show_bloqs([ec_add],\n",
    "           ['`ec_add`'])"
   ]
  },
  {
   "cell_type": "markdown",
   "id": "d7fcd725",
   "metadata": {
    "cq.autogen": "ECAdd.call_graph.md"
   },
   "source": [
    "### Call Graph"
   ]
  },
  {
   "cell_type": "code",
   "execution_count": 5,
   "id": "976398e1",
   "metadata": {
    "cq.autogen": "ECAdd.call_graph.py"
   },
   "outputs": [
    {
     "data": {
      "image/svg+xml": [
       "<svg xmlns=\"http://www.w3.org/2000/svg\" xmlns:xlink=\"http://www.w3.org/1999/xlink\" width=\"994pt\" height=\"131pt\" viewBox=\"0.00 0.00 994.00 131.00\">\n",
       "<g id=\"graph0\" class=\"graph\" transform=\"scale(1 1) rotate(0) translate(4 127)\">\n",
       "<title>counts</title>\n",
       "<polygon fill=\"white\" stroke=\"transparent\" points=\"-4,4 -4,-127 990,-127 990,4 -4,4\"/>\n",
       "<!-- b0 -->\n",
       "<g id=\"node1\" class=\"node\">\n",
       "<title>b0</title>\n",
       "<polygon fill=\"none\" stroke=\"black\" points=\"549,-123 472,-123 472,-87 549,-87 549,-123\"/>\n",
       "<text text-anchor=\"start\" x=\"490\" y=\"-106.8\" font-family=\"Times,serif\" font-size=\"14.00\">ECAdd</text>\n",
       "<text text-anchor=\"start\" x=\"480\" y=\"-96\" font-family=\"monospace\" font-size=\"10.00\">n=n, mod=p</text>\n",
       "</g>\n",
       "<!-- b1 -->\n",
       "<g id=\"node2\" class=\"node\">\n",
       "<title>b1</title>\n",
       "<polygon fill=\"none\" stroke=\"black\" points=\"95,-36 0,-36 0,0 95,0 95,-36\"/>\n",
       "<text text-anchor=\"start\" x=\"8\" y=\"-19.8\" font-family=\"Times,serif\" font-size=\"14.00\">MultiCToffoli</text>\n",
       "<text text-anchor=\"start\" x=\"38\" y=\"-9\" font-family=\"monospace\" font-size=\"10.00\">n=n</text>\n",
       "</g>\n",
       "<!-- b0&#45;&gt;b1 -->\n",
       "<g id=\"edge1\" class=\"edge\">\n",
       "<title>b0-&gt;b1</title>\n",
       "<path fill=\"none\" stroke=\"black\" d=\"M471.71,-99.93C420.41,-94.3 327.31,-83.2 248.5,-69 186.5,-57.83 169,-53.37 104.9,-36.31\"/>\n",
       "<polygon fill=\"black\" stroke=\"black\" points=\"105.66,-32.89 95.09,-33.7 103.86,-39.65 105.66,-32.89\"/>\n",
       "<text text-anchor=\"middle\" x=\"255.5\" y=\"-57.8\" font-family=\"Times,serif\" font-size=\"14.00\">18</text>\n",
       "</g>\n",
       "<!-- b2 -->\n",
       "<g id=\"node3\" class=\"node\">\n",
       "<title>b2</title>\n",
       "<polygon fill=\"none\" stroke=\"black\" points=\"190,-36 113,-36 113,0 190,0 190,-36\"/>\n",
       "<text text-anchor=\"start\" x=\"122.5\" y=\"-19.8\" font-family=\"Times,serif\" font-size=\"14.00\">CModNeg</text>\n",
       "<text text-anchor=\"start\" x=\"121\" y=\"-9\" font-family=\"monospace\" font-size=\"10.00\">n=n, mod=p</text>\n",
       "</g>\n",
       "<!-- b0&#45;&gt;b2 -->\n",
       "<g id=\"edge2\" class=\"edge\">\n",
       "<title>b0-&gt;b2</title>\n",
       "<path fill=\"none\" stroke=\"black\" d=\"M471.63,-97.38C414.01,-87.16 302.54,-65.87 200,-36.27\"/>\n",
       "<polygon fill=\"black\" stroke=\"black\" points=\"200.69,-32.83 190.11,-33.39 198.72,-39.55 200.69,-32.83\"/>\n",
       "<text text-anchor=\"middle\" x=\"330\" y=\"-57.8\" font-family=\"Times,serif\" font-size=\"14.00\">1</text>\n",
       "</g>\n",
       "<!-- b3 -->\n",
       "<g id=\"node4\" class=\"node\">\n",
       "<title>b3</title>\n",
       "<polygon fill=\"none\" stroke=\"black\" points=\"285,-36 208,-36 208,0 285,0 285,-36\"/>\n",
       "<text text-anchor=\"start\" x=\"222.5\" y=\"-19.8\" font-family=\"Times,serif\" font-size=\"14.00\">ModSub</text>\n",
       "<text text-anchor=\"start\" x=\"216\" y=\"-9\" font-family=\"monospace\" font-size=\"10.00\">n=n, mod=p</text>\n",
       "</g>\n",
       "<!-- b0&#45;&gt;b3 -->\n",
       "<g id=\"edge3\" class=\"edge\">\n",
       "<title>b0-&gt;b3</title>\n",
       "<path fill=\"none\" stroke=\"black\" d=\"M471.92,-92.46C430.36,-79.91 362.08,-58.94 294.68,-36.34\"/>\n",
       "<polygon fill=\"black\" stroke=\"black\" points=\"295.78,-33.02 285.18,-33.14 293.54,-39.65 295.78,-33.02\"/>\n",
       "<text text-anchor=\"middle\" x=\"398\" y=\"-57.8\" font-family=\"Times,serif\" font-size=\"14.00\">2</text>\n",
       "</g>\n",
       "<!-- b4 -->\n",
       "<g id=\"node5\" class=\"node\">\n",
       "<title>b4</title>\n",
       "<polygon fill=\"none\" stroke=\"black\" points=\"380,-36 303,-36 303,0 380,0 380,-36\"/>\n",
       "<text text-anchor=\"start\" x=\"312\" y=\"-19.8\" font-family=\"Times,serif\" font-size=\"14.00\">CModAdd</text>\n",
       "<text text-anchor=\"start\" x=\"311\" y=\"-9\" font-family=\"monospace\" font-size=\"10.00\">n=n, mod=p</text>\n",
       "</g>\n",
       "<!-- b0&#45;&gt;b4 -->\n",
       "<g id=\"edge4\" class=\"edge\">\n",
       "<title>b0-&gt;b4</title>\n",
       "<path fill=\"none\" stroke=\"black\" d=\"M476.3,-86.8C449.76,-73.45 412.8,-54.86 384.29,-40.52\"/>\n",
       "<polygon fill=\"black\" stroke=\"black\" points=\"385.87,-37.4 375.36,-36.03 382.72,-43.65 385.87,-37.4\"/>\n",
       "<text text-anchor=\"middle\" x=\"440\" y=\"-57.8\" font-family=\"Times,serif\" font-size=\"14.00\">2</text>\n",
       "</g>\n",
       "<!-- b5 -->\n",
       "<g id=\"node6\" class=\"node\">\n",
       "<title>b5</title>\n",
       "<polygon fill=\"none\" stroke=\"black\" points=\"511,-36 398,-36 398,0 511,0 511,-36\"/>\n",
       "<text text-anchor=\"start\" x=\"429.5\" y=\"-19.8\" font-family=\"Times,serif\" font-size=\"14.00\">ModAdd</text>\n",
       "<text text-anchor=\"start\" x=\"406\" y=\"-9\" font-family=\"monospace\" font-size=\"10.00\">bitsize=n, mod=p</text>\n",
       "</g>\n",
       "<!-- b0&#45;&gt;b5 -->\n",
       "<g id=\"edge5\" class=\"edge\">\n",
       "<title>b0-&gt;b5</title>\n",
       "<path fill=\"none\" stroke=\"black\" d=\"M499.17,-86.8C491.2,-74.7 480.39,-58.3 471.41,-44.67\"/>\n",
       "<polygon fill=\"black\" stroke=\"black\" points=\"474.24,-42.6 465.82,-36.18 468.39,-46.45 474.24,-42.6\"/>\n",
       "<text text-anchor=\"middle\" x=\"490\" y=\"-57.8\" font-family=\"Times,serif\" font-size=\"14.00\">3</text>\n",
       "</g>\n",
       "<!-- b6 -->\n",
       "<g id=\"node7\" class=\"node\">\n",
       "<title>b6</title>\n",
       "<polygon fill=\"none\" stroke=\"black\" points=\"606,-36 529,-36 529,0 606,0 606,-36\"/>\n",
       "<text text-anchor=\"start\" x=\"539\" y=\"-19.8\" font-family=\"Times,serif\" font-size=\"14.00\">CModSub</text>\n",
       "<text text-anchor=\"start\" x=\"537\" y=\"-9\" font-family=\"monospace\" font-size=\"10.00\">n=n, mod=p</text>\n",
       "</g>\n",
       "<!-- b0&#45;&gt;b6 -->\n",
       "<g id=\"edge6\" class=\"edge\">\n",
       "<title>b0-&gt;b6</title>\n",
       "<path fill=\"none\" stroke=\"black\" d=\"M522.03,-86.8C530.15,-74.7 541.14,-58.3 550.29,-44.67\"/>\n",
       "<polygon fill=\"black\" stroke=\"black\" points=\"553.32,-46.43 555.98,-36.18 547.51,-42.53 553.32,-46.43\"/>\n",
       "<text text-anchor=\"middle\" x=\"546\" y=\"-57.8\" font-family=\"Times,serif\" font-size=\"14.00\">4</text>\n",
       "</g>\n",
       "<!-- b7 -->\n",
       "<g id=\"node8\" class=\"node\">\n",
       "<title>b7</title>\n",
       "<polygon fill=\"none\" stroke=\"black\" points=\"701,-36 624,-36 624,0 701,0 701,-36\"/>\n",
       "<text text-anchor=\"start\" x=\"637.5\" y=\"-19.8\" font-family=\"Times,serif\" font-size=\"14.00\">ModMul</text>\n",
       "<text text-anchor=\"start\" x=\"632\" y=\"-9\" font-family=\"monospace\" font-size=\"10.00\">n=n, mod=p</text>\n",
       "</g>\n",
       "<!-- b0&#45;&gt;b7 -->\n",
       "<g id=\"edge7\" class=\"edge\">\n",
       "<title>b0-&gt;b7</title>\n",
       "<path fill=\"none\" stroke=\"black\" d=\"M541.26,-86.8C564.82,-73.62 597.51,-55.34 623.01,-41.08\"/>\n",
       "<polygon fill=\"black\" stroke=\"black\" points=\"625.03,-43.97 632.05,-36.03 621.61,-37.86 625.03,-43.97\"/>\n",
       "<text text-anchor=\"middle\" x=\"603.5\" y=\"-57.8\" font-family=\"Times,serif\" font-size=\"14.00\">10</text>\n",
       "</g>\n",
       "<!-- b8 -->\n",
       "<g id=\"node9\" class=\"node\">\n",
       "<title>b8</title>\n",
       "<polygon fill=\"none\" stroke=\"black\" points=\"796,-36 719,-36 719,0 796,0 796,-36\"/>\n",
       "<text text-anchor=\"start\" x=\"735\" y=\"-19.8\" font-family=\"Times,serif\" font-size=\"14.00\">ModInv</text>\n",
       "<text text-anchor=\"start\" x=\"727\" y=\"-9\" font-family=\"monospace\" font-size=\"10.00\">n=n, mod=p</text>\n",
       "</g>\n",
       "<!-- b0&#45;&gt;b8 -->\n",
       "<g id=\"edge8\" class=\"edge\">\n",
       "<title>b0-&gt;b8</title>\n",
       "<path fill=\"none\" stroke=\"black\" d=\"M549.3,-91.1C587.62,-78.29 648.11,-57.9 709.01,-36.5\"/>\n",
       "<polygon fill=\"black\" stroke=\"black\" points=\"710.52,-39.68 718.79,-33.06 708.19,-33.08 710.52,-39.68\"/>\n",
       "<text text-anchor=\"middle\" x=\"660\" y=\"-57.8\" font-family=\"Times,serif\" font-size=\"14.00\">4</text>\n",
       "</g>\n",
       "<!-- b9 -->\n",
       "<g id=\"node10\" class=\"node\">\n",
       "<title>b9</title>\n",
       "<polygon fill=\"none\" stroke=\"black\" points=\"891,-36 814,-36 814,0 891,0 891,-36\"/>\n",
       "<text text-anchor=\"start\" x=\"828\" y=\"-19.8\" font-family=\"Times,serif\" font-size=\"14.00\">ModNeg</text>\n",
       "<text text-anchor=\"start\" x=\"822\" y=\"-9\" font-family=\"monospace\" font-size=\"10.00\">n=n, mod=p</text>\n",
       "</g>\n",
       "<!-- b0&#45;&gt;b9 -->\n",
       "<g id=\"edge9\" class=\"edge\">\n",
       "<title>b0-&gt;b9</title>\n",
       "<path fill=\"none\" stroke=\"black\" d=\"M549.1,-96.75C604.02,-86.08 707.9,-64.58 804.28,-36.21\"/>\n",
       "<polygon fill=\"black\" stroke=\"black\" points=\"805.3,-39.56 813.89,-33.36 803.3,-32.85 805.3,-39.56\"/>\n",
       "<text text-anchor=\"middle\" x=\"736\" y=\"-57.8\" font-family=\"Times,serif\" font-size=\"14.00\">2</text>\n",
       "</g>\n",
       "<!-- b10 -->\n",
       "<g id=\"node11\" class=\"node\">\n",
       "<title>b10</title>\n",
       "<polygon fill=\"none\" stroke=\"black\" points=\"986,-36 909,-36 909,0 986,0 986,-36\"/>\n",
       "<text text-anchor=\"start\" x=\"924\" y=\"-19.8\" font-family=\"Times,serif\" font-size=\"14.00\">ModDbl</text>\n",
       "<text text-anchor=\"start\" x=\"917\" y=\"-9\" font-family=\"monospace\" font-size=\"10.00\">n=n, mod=p</text>\n",
       "</g>\n",
       "<!-- b0&#45;&gt;b10 -->\n",
       "<g id=\"edge10\" class=\"edge\">\n",
       "<title>b0-&gt;b10</title>\n",
       "<path fill=\"none\" stroke=\"black\" d=\"M549.02,-99.99C617.97,-92.23 766.9,-72.85 899.02,-36.22\"/>\n",
       "<polygon fill=\"black\" stroke=\"black\" points=\"900.23,-39.52 908.91,-33.44 898.34,-32.78 900.23,-39.52\"/>\n",
       "<text text-anchor=\"middle\" x=\"830\" y=\"-57.8\" font-family=\"Times,serif\" font-size=\"14.00\">2</text>\n",
       "</g>\n",
       "</g>\n",
       "</svg>"
      ],
      "text/plain": [
       "<IPython.core.display.SVG object>"
      ]
     },
     "metadata": {},
     "output_type": "display_data"
    },
    {
     "data": {
      "text/markdown": [
       "#### Counts totals:\n",
       " - `CModAdd`: 2\n",
       " - `CModNeg`: 1\n",
       " - `CModSub`: 4\n",
       " - `ModAdd`: 3\n",
       " - `ModDbl`: 2\n",
       " - `ModInv`: 4\n",
       " - `ModMul`: 10\n",
       " - `ModNeg`: 2\n",
       " - `ModSub`: 2\n",
       " - `MultiCToffoli`: 18"
      ],
      "text/plain": [
       "<IPython.core.display.Markdown object>"
      ]
     },
     "metadata": {},
     "output_type": "display_data"
    }
   ],
   "source": [
    "from qualtran.resource_counting.generalizers import ignore_split_join\n",
    "ec_add_g, ec_add_sigma = ec_add.call_graph(max_depth=1, generalizer=ignore_split_join)\n",
    "show_call_graph(ec_add_g)\n",
    "show_counts_sigma(ec_add_sigma)"
   ]
  }
 ],
 "metadata": {
  "kernelspec": {
   "display_name": "Python 3 (ipykernel)",
   "language": "python",
   "name": "python3"
  },
  "language_info": {
   "codemirror_mode": {
    "name": "ipython",
    "version": 3
   },
   "file_extension": ".py",
   "mimetype": "text/x-python",
   "name": "python",
   "nbconvert_exporter": "python",
   "pygments_lexer": "ipython3",
   "version": "3.11.8"
  },
  "widgets": {
   "application/vnd.jupyter.widget-state+json": {
    "state": {
     "0c752416a1da43738476b63b9ca0f664": {
      "model_module": "@jupyter-widgets/base",
      "model_module_version": "2.0.0",
      "model_name": "LayoutModel",
      "state": {
       "_model_module": "@jupyter-widgets/base",
       "_model_module_version": "2.0.0",
       "_model_name": "LayoutModel",
       "_view_count": null,
       "_view_module": "@jupyter-widgets/base",
       "_view_module_version": "2.0.0",
       "_view_name": "LayoutView",
       "align_content": null,
       "align_items": null,
       "align_self": null,
       "border_bottom": null,
       "border_left": null,
       "border_right": null,
       "border_top": null,
       "bottom": null,
       "display": null,
       "flex": null,
       "flex_flow": null,
       "grid_area": null,
       "grid_auto_columns": null,
       "grid_auto_flow": null,
       "grid_auto_rows": null,
       "grid_column": null,
       "grid_gap": null,
       "grid_row": null,
       "grid_template_areas": null,
       "grid_template_columns": null,
       "grid_template_rows": null,
       "height": null,
       "justify_content": null,
       "justify_items": null,
       "left": null,
       "margin": null,
       "max_height": null,
       "max_width": null,
       "min_height": null,
       "min_width": null,
       "object_fit": null,
       "object_position": null,
       "order": null,
       "overflow": null,
       "padding": null,
       "right": null,
       "top": null,
       "visibility": null,
       "width": null
      }
     },
     "2e816f7e7b7a41d4a9fd40bfcbe0b97c": {
      "model_module": "@jupyter-widgets/output",
      "model_module_version": "1.0.0",
      "model_name": "OutputModel",
      "state": {
       "_dom_classes": [],
       "_model_module": "@jupyter-widgets/output",
       "_model_module_version": "1.0.0",
       "_model_name": "OutputModel",
       "_view_count": null,
       "_view_module": "@jupyter-widgets/output",
       "_view_module_version": "1.0.0",
       "_view_name": "OutputView",
       "layout": "IPY_MODEL_a7ef5a10072746c08b9b3f42e0562871",
       "msg_id": "",
       "outputs": [
        {
         "data": {
          "text/markdown": "`ec_add`",
          "text/plain": "<IPython.core.display.Markdown object>"
         },
         "metadata": {},
         "output_type": "display_data"
        },
        {
         "data": {
          "image/svg+xml": "<svg xmlns=\"http://www.w3.org/2000/svg\" xmlns:xlink=\"http://www.w3.org/1999/xlink\" width=\"227pt\" height=\"260pt\" viewBox=\"0.00 0.00 227.00 260.00\">\n<g id=\"graph0\" class=\"graph\" transform=\"scale(1 1) rotate(0) translate(4 256)\">\n<title>my_graph</title>\n<polygon fill=\"white\" stroke=\"transparent\" points=\"-4,4 -4,-256 223,-256 223,4 -4,4\"/>\n<!-- a_G3 -->\n<g id=\"node1\" class=\"node\">\n<title>a_G3</title>\n<text text-anchor=\"middle\" x=\"27\" y=\"-230.3\" font-family=\"Times,serif\" font-size=\"14.00\">a</text>\n</g>\n<!-- ECAdd -->\n<g id=\"node6\" class=\"node\">\n<title>ECAdd</title>\n<polygon fill=\"none\" stroke=\"black\" points=\"91.5,-179 91.5,-196 128.5,-196 128.5,-179 91.5,-179\"/>\n<text text-anchor=\"start\" x=\"94.5\" y=\"-185\" font-family=\"Times,serif\" font-size=\"10.00\">ECAdd</text>\n<polygon fill=\"none\" stroke=\"black\" points=\"91.5,-158 91.5,-179 128.5,-179 128.5,-158 91.5,-158\"/>\n<text text-anchor=\"start\" x=\"106.5\" y=\"-164.8\" font-family=\"Times,serif\" font-size=\"14.00\">a</text>\n<polygon fill=\"none\" stroke=\"black\" points=\"91.5,-137 91.5,-158 128.5,-158 128.5,-137 91.5,-137\"/>\n<text text-anchor=\"start\" x=\"106.5\" y=\"-143.8\" font-family=\"Times,serif\" font-size=\"14.00\">b</text>\n<polygon fill=\"none\" stroke=\"black\" points=\"91.5,-116 91.5,-137 128.5,-137 128.5,-116 91.5,-116\"/>\n<text text-anchor=\"start\" x=\"106.5\" y=\"-122.8\" font-family=\"Times,serif\" font-size=\"14.00\">x</text>\n<polygon fill=\"none\" stroke=\"black\" points=\"91.5,-95 91.5,-116 128.5,-116 128.5,-95 91.5,-95\"/>\n<text text-anchor=\"start\" x=\"106.5\" y=\"-101.8\" font-family=\"Times,serif\" font-size=\"14.00\">y</text>\n<polygon fill=\"none\" stroke=\"black\" points=\"91.5,-74 91.5,-95 128.5,-95 128.5,-74 91.5,-74\"/>\n<text text-anchor=\"start\" x=\"99\" y=\"-80.8\" font-family=\"Times,serif\" font-size=\"14.00\">lam</text>\n</g>\n<!-- a_G3&#45;&gt;ECAdd -->\n<g id=\"edge1\" class=\"edge\">\n<title>a_G3:e-&gt;ECAdd:w</title>\n<path fill=\"none\" stroke=\"black\" d=\"M54,-234C86.46,-234 59.11,-172.01 88.76,-169.11\"/>\n<ellipse fill=\"black\" stroke=\"black\" cx=\"90\" cy=\"-169.05\" rx=\"1\" ry=\"1\"/>\n<text text-anchor=\"middle\" x=\"72.5\" y=\"-210\" font-family=\"Times,serif\" font-size=\"10.00\">n</text>\n</g>\n<!-- b_G7 -->\n<g id=\"node2\" class=\"node\">\n<title>b_G7</title>\n<text text-anchor=\"middle\" x=\"27\" y=\"-176.3\" font-family=\"Times,serif\" font-size=\"14.00\">b</text>\n</g>\n<!-- b_G7&#45;&gt;ECAdd -->\n<g id=\"edge2\" class=\"edge\">\n<title>b_G7:e-&gt;ECAdd:w</title>\n<path fill=\"none\" stroke=\"black\" d=\"M54,-180C74.89,-180 69.72,-150.45 88.58,-148.14\"/>\n<ellipse fill=\"black\" stroke=\"black\" cx=\"90\" cy=\"-148.06\" rx=\"1\" ry=\"1\"/>\n<text text-anchor=\"middle\" x=\"72.5\" y=\"-167\" font-family=\"Times,serif\" font-size=\"10.00\">n</text>\n</g>\n<!-- x_G11 -->\n<g id=\"node3\" class=\"node\">\n<title>x_G11</title>\n<text text-anchor=\"middle\" x=\"27\" y=\"-122.3\" font-family=\"Times,serif\" font-size=\"14.00\">x</text>\n</g>\n<!-- x_G11&#45;&gt;ECAdd -->\n<g id=\"edge3\" class=\"edge\">\n<title>x_G11:e-&gt;ECAdd:w</title>\n<path fill=\"none\" stroke=\"black\" d=\"M54,-126C69.67,-126 74.14,-126 88.77,-126\"/>\n<ellipse fill=\"black\" stroke=\"black\" cx=\"90\" cy=\"-126\" rx=\"1\" ry=\"1\"/>\n<text text-anchor=\"middle\" x=\"72.5\" y=\"-129\" font-family=\"Times,serif\" font-size=\"10.00\">n</text>\n</g>\n<!-- y_G12 -->\n<g id=\"node4\" class=\"node\">\n<title>y_G12</title>\n<text text-anchor=\"middle\" x=\"27\" y=\"-68.3\" font-family=\"Times,serif\" font-size=\"14.00\">y</text>\n</g>\n<!-- y_G12&#45;&gt;ECAdd -->\n<g id=\"edge4\" class=\"edge\">\n<title>y_G12:e-&gt;ECAdd:w</title>\n<path fill=\"none\" stroke=\"black\" d=\"M54,-72C75.17,-72 69.47,-102.47 88.55,-104.85\"/>\n<ellipse fill=\"black\" stroke=\"black\" cx=\"90\" cy=\"-104.94\" rx=\"1\" ry=\"1\"/>\n<text text-anchor=\"middle\" x=\"72.5\" y=\"-92\" font-family=\"Times,serif\" font-size=\"10.00\">n</text>\n</g>\n<!-- lam_G14 -->\n<g id=\"node5\" class=\"node\">\n<title>lam_G14</title>\n<text text-anchor=\"middle\" x=\"27\" y=\"-14.3\" font-family=\"Times,serif\" font-size=\"14.00\">lam</text>\n</g>\n<!-- lam_G14&#45;&gt;ECAdd -->\n<g id=\"edge5\" class=\"edge\">\n<title>lam_G14:e-&gt;ECAdd:w</title>\n<path fill=\"none\" stroke=\"black\" d=\"M54,-18C86.84,-18 58.75,-80.94 88.74,-83.89\"/>\n<ellipse fill=\"black\" stroke=\"black\" cx=\"90\" cy=\"-83.95\" rx=\"1\" ry=\"1\"/>\n<text text-anchor=\"middle\" x=\"72.5\" y=\"-62\" font-family=\"Times,serif\" font-size=\"10.00\">n</text>\n</g>\n<!-- a_G9 -->\n<g id=\"node7\" class=\"node\">\n<title>a_G9</title>\n<text text-anchor=\"middle\" x=\"192\" y=\"-230.3\" font-family=\"Times,serif\" font-size=\"14.00\">a</text>\n</g>\n<!-- ECAdd&#45;&gt;a_G9 -->\n<g id=\"edge6\" class=\"edge\">\n<title>ECAdd:e-&gt;a_G9:w</title>\n<path fill=\"none\" stroke=\"black\" d=\"M128,-169C160.46,-169 133.11,-230.99 162.76,-233.89\"/>\n<ellipse fill=\"black\" stroke=\"black\" cx=\"164\" cy=\"-233.95\" rx=\"1\" ry=\"1\"/>\n<text text-anchor=\"middle\" x=\"146.5\" y=\"-210\" font-family=\"Times,serif\" font-size=\"10.00\">n</text>\n</g>\n<!-- b_G6 -->\n<g id=\"node8\" class=\"node\">\n<title>b_G6</title>\n<text text-anchor=\"middle\" x=\"192\" y=\"-176.3\" font-family=\"Times,serif\" font-size=\"14.00\">b</text>\n</g>\n<!-- ECAdd&#45;&gt;b_G6 -->\n<g id=\"edge7\" class=\"edge\">\n<title>ECAdd:e-&gt;b_G6:w</title>\n<path fill=\"none\" stroke=\"black\" d=\"M128,-148C148.89,-148 143.72,-177.55 162.58,-179.86\"/>\n<ellipse fill=\"black\" stroke=\"black\" cx=\"164\" cy=\"-179.94\" rx=\"1\" ry=\"1\"/>\n<text text-anchor=\"middle\" x=\"146.5\" y=\"-167\" font-family=\"Times,serif\" font-size=\"10.00\">n</text>\n</g>\n<!-- x_G4 -->\n<g id=\"node9\" class=\"node\">\n<title>x_G4</title>\n<text text-anchor=\"middle\" x=\"192\" y=\"-122.3\" font-family=\"Times,serif\" font-size=\"14.00\">x</text>\n</g>\n<!-- ECAdd&#45;&gt;x_G4 -->\n<g id=\"edge8\" class=\"edge\">\n<title>ECAdd:e-&gt;x_G4:w</title>\n<path fill=\"none\" stroke=\"black\" d=\"M128,-126C143.67,-126 148.14,-126 162.77,-126\"/>\n<ellipse fill=\"black\" stroke=\"black\" cx=\"164\" cy=\"-126\" rx=\"1\" ry=\"1\"/>\n<text text-anchor=\"middle\" x=\"146.5\" y=\"-129\" font-family=\"Times,serif\" font-size=\"10.00\">n</text>\n</g>\n<!-- y_G1 -->\n<g id=\"node10\" class=\"node\">\n<title>y_G1</title>\n<text text-anchor=\"middle\" x=\"192\" y=\"-68.3\" font-family=\"Times,serif\" font-size=\"14.00\">y</text>\n</g>\n<!-- ECAdd&#45;&gt;y_G1 -->\n<g id=\"edge9\" class=\"edge\">\n<title>ECAdd:e-&gt;y_G1:w</title>\n<path fill=\"none\" stroke=\"black\" d=\"M128,-105C149.17,-105 143.47,-74.53 162.55,-72.15\"/>\n<ellipse fill=\"black\" stroke=\"black\" cx=\"164\" cy=\"-72.06\" rx=\"1\" ry=\"1\"/>\n<text text-anchor=\"middle\" x=\"146.5\" y=\"-92\" font-family=\"Times,serif\" font-size=\"10.00\">n</text>\n</g>\n<!-- lam_G2 -->\n<g id=\"node11\" class=\"node\">\n<title>lam_G2</title>\n<text text-anchor=\"middle\" x=\"192\" y=\"-14.3\" font-family=\"Times,serif\" font-size=\"14.00\">lam</text>\n</g>\n<!-- ECAdd&#45;&gt;lam_G2 -->\n<g id=\"edge10\" class=\"edge\">\n<title>ECAdd:e-&gt;lam_G2:w</title>\n<path fill=\"none\" stroke=\"black\" d=\"M128,-84C160.84,-84 132.75,-21.06 162.74,-18.11\"/>\n<ellipse fill=\"black\" stroke=\"black\" cx=\"164\" cy=\"-18.05\" rx=\"1\" ry=\"1\"/>\n<text text-anchor=\"middle\" x=\"146.5\" y=\"-62\" font-family=\"Times,serif\" font-size=\"10.00\">n</text>\n</g>\n</g>\n</svg>",
          "text/plain": "<IPython.core.display.SVG object>"
         },
         "metadata": {},
         "output_type": "display_data"
        }
       ],
       "tabbable": null,
       "tooltip": null
      }
     },
     "3a45b9bae35b4e41bbd0ae264d6a3796": {
      "model_module": "@jupyter-widgets/controls",
      "model_module_version": "2.0.0",
      "model_name": "HBoxModel",
      "state": {
       "_dom_classes": [],
       "_model_module": "@jupyter-widgets/controls",
       "_model_module_version": "2.0.0",
       "_model_name": "HBoxModel",
       "_view_count": null,
       "_view_module": "@jupyter-widgets/controls",
       "_view_module_version": "2.0.0",
       "_view_name": "HBoxView",
       "box_style": "",
       "children": [
        "IPY_MODEL_2e816f7e7b7a41d4a9fd40bfcbe0b97c"
       ],
       "layout": "IPY_MODEL_0c752416a1da43738476b63b9ca0f664",
       "tabbable": null,
       "tooltip": null
      }
     },
     "a7ef5a10072746c08b9b3f42e0562871": {
      "model_module": "@jupyter-widgets/base",
      "model_module_version": "2.0.0",
      "model_name": "LayoutModel",
      "state": {
       "_model_module": "@jupyter-widgets/base",
       "_model_module_version": "2.0.0",
       "_model_name": "LayoutModel",
       "_view_count": null,
       "_view_module": "@jupyter-widgets/base",
       "_view_module_version": "2.0.0",
       "_view_name": "LayoutView",
       "align_content": null,
       "align_items": null,
       "align_self": null,
       "border_bottom": null,
       "border_left": null,
       "border_right": null,
       "border_top": null,
       "bottom": null,
       "display": null,
       "flex": null,
       "flex_flow": null,
       "grid_area": null,
       "grid_auto_columns": null,
       "grid_auto_flow": null,
       "grid_auto_rows": null,
       "grid_column": null,
       "grid_gap": null,
       "grid_row": null,
       "grid_template_areas": null,
       "grid_template_columns": null,
       "grid_template_rows": null,
       "height": null,
       "justify_content": null,
       "justify_items": null,
       "left": null,
       "margin": null,
       "max_height": null,
       "max_width": null,
       "min_height": null,
       "min_width": null,
       "object_fit": null,
       "object_position": null,
       "order": null,
       "overflow": null,
       "padding": null,
       "right": null,
       "top": null,
       "visibility": null,
       "width": null
      }
     }
    },
    "version_major": 2,
    "version_minor": 0
   }
  }
 },
 "nbformat": 4,
 "nbformat_minor": 5
}
