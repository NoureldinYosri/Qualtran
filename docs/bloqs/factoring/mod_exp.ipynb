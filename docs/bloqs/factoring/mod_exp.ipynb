{
 "cells": [
  {
   "cell_type": "markdown",
   "id": "5947b041",
   "metadata": {
    "cq.autogen": "title_cell"
   },
   "source": [
    "# Modular Exponentiation"
   ]
  },
  {
   "cell_type": "code",
   "execution_count": 1,
   "id": "ce6b0d51",
   "metadata": {
    "cq.autogen": "top_imports"
   },
   "outputs": [],
   "source": [
    "from qualtran import Bloq, CompositeBloq, BloqBuilder, Signature, Register\n",
    "from qualtran import QBit, QInt, QUInt, QAny\n",
    "from qualtran.drawing import show_bloq, show_call_graph, show_counts_sigma\n",
    "from typing import *\n",
    "import numpy as np\n",
    "import sympy\n",
    "import cirq"
   ]
  },
  {
   "cell_type": "markdown",
   "id": "2f68374c",
   "metadata": {
    "cq.autogen": "ModExp.bloq_doc.md"
   },
   "source": [
    "## `ModExp`\n",
    "Perform $b^e \\mod{m}$ for constant `base` $b$, `mod` $m$, and quantum `exponent` $e$.\n",
    "\n",
    "Modular exponentiation is the main computational primitive for quantum factoring algorithms.\n",
    "We follow [GE2019]'s \"reference implementation\" for factoring. See `ModExp.make_for_shor`\n",
    "to set the class attributes for a factoring run.\n",
    "\n",
    "This bloq decomposes into controlled modular exponentiation for each exponent bit.\n",
    "\n",
    "#### Parameters\n",
    " - `base`: The integer base of the exponentiation\n",
    " - `mod`: The integer modulus\n",
    " - `exp_bitsize`: The size of the `exponent` thru-register\n",
    " - `x_bitsize`: The size of the `x` right-register \n",
    "\n",
    "#### Registers\n",
    " - `exponent`: The exponent\n",
    " - `x [right]`: The output register containing the result of the exponentiation \n",
    "\n",
    "#### References\n",
    " - [How to factor 2048 bit RSA integers in 8 hours using 20 million noisy qubits](https://arxiv.org/abs/1905.09749). Gidney and Ekerå. 2019.\n"
   ]
  },
  {
   "cell_type": "code",
   "execution_count": 2,
   "id": "4a1b8a2a",
   "metadata": {
    "cq.autogen": "ModExp.bloq_doc.py"
   },
   "outputs": [],
   "source": [
    "from qualtran.bloqs.factoring import ModExp"
   ]
  },
  {
   "cell_type": "markdown",
   "id": "902ec939",
   "metadata": {
    "cq.autogen": "ModExp.example_instances.md"
   },
   "source": [
    "### Example Instances"
   ]
  },
  {
   "cell_type": "code",
   "execution_count": 3,
   "id": "4c5aac47",
   "metadata": {
    "cq.autogen": "ModExp.modexp_small"
   },
   "outputs": [],
   "source": [
    "modexp_small = ModExp(base=3, mod=15, exp_bitsize=3, x_bitsize=2048)"
   ]
  },
  {
   "cell_type": "code",
   "execution_count": 4,
   "id": "41d94c81",
   "metadata": {
    "cq.autogen": "ModExp.modexp"
   },
   "outputs": [],
   "source": [
    "modexp = ModExp.make_for_shor(big_n=15 * 17, g=9)"
   ]
  },
  {
   "cell_type": "code",
   "execution_count": 5,
   "id": "5c0c6c06",
   "metadata": {
    "cq.autogen": "ModExp.modexp_symb"
   },
   "outputs": [],
   "source": [
    "g, N, n_e, n_x = sympy.symbols('g N n_e, n_x')\n",
    "modexp_symb = ModExp(base=g, mod=N, exp_bitsize=n_e, x_bitsize=n_x)"
   ]
  },
  {
   "cell_type": "markdown",
   "id": "a55a51df",
   "metadata": {
    "cq.autogen": "ModExp.graphical_signature.md"
   },
   "source": [
    "#### Graphical Signature"
   ]
  },
  {
   "cell_type": "code",
   "execution_count": 6,
   "id": "ce953a6d",
   "metadata": {
    "cq.autogen": "ModExp.graphical_signature.py"
   },
   "outputs": [
    {
     "data": {
      "application/vnd.jupyter.widget-view+json": {
       "model_id": "6d171af6c1584946a5d472f5829072cb",
       "version_major": 2,
       "version_minor": 0
      },
      "text/plain": [
       "HBox(children=(Output(outputs=({'output_type': 'display_data', 'data': {'text/plain': '<IPython.core.display.M…"
      ]
     },
     "metadata": {},
     "output_type": "display_data"
    }
   ],
   "source": [
    "from qualtran.drawing import show_bloqs\n",
    "show_bloqs([modexp_symb, modexp_small, modexp],\n",
    "           ['`modexp_symb`', '`modexp_small`', '`modexp`'])"
   ]
  },
  {
   "cell_type": "markdown",
   "id": "83ba4b54",
   "metadata": {},
   "source": [
    "### Decomposition"
   ]
  },
  {
   "cell_type": "code",
   "execution_count": 7,
   "id": "a0e53334",
   "metadata": {},
   "outputs": [
    {
     "data": {
      "image/svg+xml": [
       "<svg xmlns=\"http://www.w3.org/2000/svg\" xmlns:xlink=\"http://www.w3.org/1999/xlink\" width=\"597pt\" height=\"181pt\" viewBox=\"0.00 0.00 597.00 180.50\">\n",
       "<g id=\"graph0\" class=\"graph\" transform=\"scale(1 1) rotate(0) translate(4 176.5)\">\n",
       "<title>my_graph</title>\n",
       "<polygon fill=\"white\" stroke=\"transparent\" points=\"-4,4 -4,-176.5 593,-176.5 593,4 -4,4\"/>\n",
       "<!-- exponent -->\n",
       "<g id=\"node1\" class=\"node\">\n",
       "<title>exponent</title>\n",
       "<text text-anchor=\"middle\" x=\"33\" y=\"-92.3\" font-family=\"Times,serif\" font-size=\"14.00\">exponent</text>\n",
       "</g>\n",
       "<!-- Split -->\n",
       "<g id=\"node3\" class=\"node\">\n",
       "<title>Split</title>\n",
       "<polygon fill=\"none\" stroke=\"black\" points=\"121.5,-105 121.5,-111 133.5,-111 133.5,-105 121.5,-105\"/>\n",
       "<polygon fill=\"none\" stroke=\"black\" points=\"121.5,-87 121.5,-105 127.5,-105 127.5,-87 121.5,-87\"/>\n",
       "<polygon fill=\"none\" stroke=\"black\" points=\"127.5,-99 127.5,-105 133.5,-105 133.5,-99 127.5,-99\"/>\n",
       "<polygon fill=\"none\" stroke=\"black\" points=\"127.5,-93 127.5,-99 133.5,-99 133.5,-93 127.5,-93\"/>\n",
       "<polygon fill=\"none\" stroke=\"black\" points=\"127.5,-87 127.5,-93 133.5,-93 133.5,-87 127.5,-87\"/>\n",
       "</g>\n",
       "<!-- exponent&#45;&gt;Split -->\n",
       "<g id=\"edge1\" class=\"edge\">\n",
       "<title>exponent:e-&gt;Split:w</title>\n",
       "<path fill=\"none\" stroke=\"black\" d=\"M66,-96C89.47,-96 95.88,-96 118.28,-96\"/>\n",
       "<ellipse fill=\"black\" stroke=\"black\" cx=\"119.5\" cy=\"-96\" rx=\"1\" ry=\"1\"/>\n",
       "<text text-anchor=\"middle\" x=\"84.5\" y=\"-99\" font-family=\"Times,serif\" font-size=\"10.00\">3</text>\n",
       "</g>\n",
       "<!-- Join -->\n",
       "<g id=\"node2\" class=\"node\">\n",
       "<title>Join</title>\n",
       "<polygon fill=\"none\" stroke=\"black\" points=\"474,-70 474,-76 486,-76 486,-70 474,-70\"/>\n",
       "<polygon fill=\"none\" stroke=\"black\" points=\"474,-64 474,-70 480,-70 480,-64 474,-64\"/>\n",
       "<polygon fill=\"none\" stroke=\"black\" points=\"480,-52 480,-70 486,-70 486,-52 480,-52\"/>\n",
       "<polygon fill=\"none\" stroke=\"black\" points=\"474,-58 474,-64 480,-64 480,-58 474,-58\"/>\n",
       "<polygon fill=\"none\" stroke=\"black\" points=\"474,-52 474,-58 480,-58 480,-52 474,-52\"/>\n",
       "</g>\n",
       "<!-- exponent_G18 -->\n",
       "<g id=\"node8\" class=\"node\">\n",
       "<title>exponent_G18</title>\n",
       "<text text-anchor=\"middle\" x=\"556\" y=\"-56.3\" font-family=\"Times,serif\" font-size=\"14.00\">exponent</text>\n",
       "</g>\n",
       "<!-- Join&#45;&gt;exponent_G18 -->\n",
       "<g id=\"edge11\" class=\"edge\">\n",
       "<title>Join:e-&gt;exponent_G18:w</title>\n",
       "<path fill=\"none\" stroke=\"black\" d=\"M486,-61C501.68,-61 506.14,-60.09 520.77,-60.01\"/>\n",
       "<ellipse fill=\"black\" stroke=\"black\" cx=\"522\" cy=\"-60\" rx=\"1\" ry=\"1\"/>\n",
       "<text text-anchor=\"middle\" x=\"504.5\" y=\"-64\" font-family=\"Times,serif\" font-size=\"10.00\">3</text>\n",
       "</g>\n",
       "<!-- CModMulK -->\n",
       "<g id=\"node5\" class=\"node\">\n",
       "<title>CModMulK</title>\n",
       "<polygon fill=\"none\" stroke=\"black\" points=\"379,-155 379,-172 437,-172 437,-155 379,-155\"/>\n",
       "<text text-anchor=\"start\" x=\"382\" y=\"-161\" font-family=\"Times,serif\" font-size=\"10.00\">CModMulK</text>\n",
       "<polygon fill=\"none\" stroke=\"black\" points=\"379,-134 379,-155 437,-155 437,-134 379,-134\"/>\n",
       "<text text-anchor=\"start\" x=\"398.5\" y=\"-140.8\" font-family=\"Times,serif\" font-size=\"14.00\">ctrl</text>\n",
       "<polygon fill=\"none\" stroke=\"black\" points=\"379,-113 379,-134 437,-134 437,-113 379,-113\"/>\n",
       "<text text-anchor=\"start\" x=\"404.5\" y=\"-119.8\" font-family=\"Times,serif\" font-size=\"14.00\">x</text>\n",
       "</g>\n",
       "<!-- Split&#45;&gt;CModMulK -->\n",
       "<g id=\"edge6\" class=\"edge\">\n",
       "<title>Split:e-&gt;CModMulK:w</title>\n",
       "<path fill=\"none\" stroke=\"black\" d=\"M134.5,-102C150.67,-102 154.13,-106.89 170,-110 261.7,-128 284.46,-144.74 376.81,-145\"/>\n",
       "<ellipse fill=\"black\" stroke=\"black\" cx=\"378\" cy=\"-145\" rx=\"1\" ry=\"1\"/>\n",
       "<text text-anchor=\"middle\" x=\"265.5\" y=\"-135\" font-family=\"Times,serif\" font-size=\"10.00\">1</text>\n",
       "</g>\n",
       "<!-- CModMulK_G1 -->\n",
       "<g id=\"node6\" class=\"node\">\n",
       "<title>CModMulK_G1</title>\n",
       "<polygon fill=\"none\" stroke=\"black\" points=\"284,-100 284,-117 342,-117 342,-100 284,-100\"/>\n",
       "<text text-anchor=\"start\" x=\"287\" y=\"-106\" font-family=\"Times,serif\" font-size=\"10.00\">CModMulK</text>\n",
       "<polygon fill=\"none\" stroke=\"black\" points=\"284,-79 284,-100 342,-100 342,-79 284,-79\"/>\n",
       "<text text-anchor=\"start\" x=\"303.5\" y=\"-85.8\" font-family=\"Times,serif\" font-size=\"14.00\">ctrl</text>\n",
       "<polygon fill=\"none\" stroke=\"black\" points=\"284,-58 284,-79 342,-79 342,-58 284,-58\"/>\n",
       "<text text-anchor=\"start\" x=\"309.5\" y=\"-64.8\" font-family=\"Times,serif\" font-size=\"14.00\">x</text>\n",
       "</g>\n",
       "<!-- Split&#45;&gt;CModMulK_G1 -->\n",
       "<g id=\"edge4\" class=\"edge\">\n",
       "<title>Split:e-&gt;CModMulK_G1:w</title>\n",
       "<path fill=\"none\" stroke=\"black\" d=\"M134.5,-96C200.22,-96 217.11,-90.14 281.68,-90\"/>\n",
       "<ellipse fill=\"black\" stroke=\"black\" cx=\"283\" cy=\"-90\" rx=\"1\" ry=\"1\"/>\n",
       "<text text-anchor=\"middle\" x=\"218\" y=\"-98\" font-family=\"Times,serif\" font-size=\"10.00\">1</text>\n",
       "</g>\n",
       "<!-- CModMulK_G4 -->\n",
       "<g id=\"node7\" class=\"node\">\n",
       "<title>CModMulK_G4</title>\n",
       "<polygon fill=\"none\" stroke=\"black\" points=\"189,-42 189,-59 247,-59 247,-42 189,-42\"/>\n",
       "<text text-anchor=\"start\" x=\"192\" y=\"-48\" font-family=\"Times,serif\" font-size=\"10.00\">CModMulK</text>\n",
       "<polygon fill=\"none\" stroke=\"black\" points=\"189,-21 189,-42 247,-42 247,-21 189,-21\"/>\n",
       "<text text-anchor=\"start\" x=\"208.5\" y=\"-27.8\" font-family=\"Times,serif\" font-size=\"14.00\">ctrl</text>\n",
       "<polygon fill=\"none\" stroke=\"black\" points=\"189,0 189,-21 247,-21 247,0 189,0\"/>\n",
       "<text text-anchor=\"start\" x=\"214.5\" y=\"-6.8\" font-family=\"Times,serif\" font-size=\"14.00\">x</text>\n",
       "</g>\n",
       "<!-- Split&#45;&gt;CModMulK_G4 -->\n",
       "<g id=\"edge2\" class=\"edge\">\n",
       "<title>Split:e-&gt;CModMulK_G4:w</title>\n",
       "<path fill=\"none\" stroke=\"black\" d=\"M134.5,-90C169.18,-90 154.24,-34.24 186.99,-32.07\"/>\n",
       "<ellipse fill=\"black\" stroke=\"black\" cx=\"188\" cy=\"-32.03\" rx=\"1\" ry=\"1\"/>\n",
       "<text text-anchor=\"middle\" x=\"170.5\" y=\"-45\" font-family=\"Times,serif\" font-size=\"10.00\">1</text>\n",
       "</g>\n",
       "<!-- IntState -->\n",
       "<g id=\"node4\" class=\"node\">\n",
       "<title>IntState</title>\n",
       "<polygon fill=\"none\" stroke=\"black\" points=\"103.5,-21 103.5,-38 152.5,-38 152.5,-21 103.5,-21\"/>\n",
       "<text text-anchor=\"start\" x=\"106.5\" y=\"-27\" font-family=\"Times,serif\" font-size=\"10.00\">IntState(1)</text>\n",
       "<polygon fill=\"none\" stroke=\"black\" points=\"103.5,0 103.5,-21 119.5,-21 119.5,0 103.5,0\"/>\n",
       "<polygon fill=\"none\" stroke=\"black\" points=\"119.5,0 119.5,-21 152.5,-21 152.5,0 119.5,0\"/>\n",
       "<text text-anchor=\"start\" x=\"127.5\" y=\"-6.8\" font-family=\"Times,serif\" font-size=\"14.00\">val</text>\n",
       "</g>\n",
       "<!-- IntState&#45;&gt;CModMulK_G4 -->\n",
       "<g id=\"edge3\" class=\"edge\">\n",
       "<title>IntState:e-&gt;CModMulK_G4:w</title>\n",
       "<path fill=\"none\" stroke=\"black\" d=\"M152,-10C167.67,-10 172.14,-10 186.77,-10\"/>\n",
       "<ellipse fill=\"black\" stroke=\"black\" cx=\"188\" cy=\"-10\" rx=\"1\" ry=\"1\"/>\n",
       "<text text-anchor=\"middle\" x=\"170.5\" y=\"-13\" font-family=\"Times,serif\" font-size=\"10.00\">2048</text>\n",
       "</g>\n",
       "<!-- CModMulK&#45;&gt;Join -->\n",
       "<g id=\"edge8\" class=\"edge\">\n",
       "<title>CModMulK:e-&gt;Join:w</title>\n",
       "<path fill=\"none\" stroke=\"black\" d=\"M437,-145C455.44,-145 454.89,-72.97 471.84,-67.35\"/>\n",
       "<ellipse fill=\"black\" stroke=\"black\" cx=\"473.01\" cy=\"-67.16\" rx=\"1\" ry=\"1\"/>\n",
       "<text text-anchor=\"middle\" x=\"455.5\" y=\"-109\" font-family=\"Times,serif\" font-size=\"10.00\">1</text>\n",
       "</g>\n",
       "<!-- x_G9 -->\n",
       "<g id=\"node9\" class=\"node\">\n",
       "<title>x_G9</title>\n",
       "<text text-anchor=\"middle\" x=\"556\" y=\"-110.3\" font-family=\"Times,serif\" font-size=\"14.00\">x</text>\n",
       "</g>\n",
       "<!-- CModMulK&#45;&gt;x_G9 -->\n",
       "<g id=\"edge12\" class=\"edge\">\n",
       "<title>CModMulK:e-&gt;x_G9:w</title>\n",
       "<path fill=\"none\" stroke=\"black\" d=\"M437,-123C476.85,-123 486.97,-114.35 525.65,-114.01\"/>\n",
       "<ellipse fill=\"black\" stroke=\"black\" cx=\"527\" cy=\"-114\" rx=\"1\" ry=\"1\"/>\n",
       "<text text-anchor=\"middle\" x=\"480\" y=\"-122\" font-family=\"Times,serif\" font-size=\"10.00\">2048</text>\n",
       "</g>\n",
       "<!-- CModMulK_G1&#45;&gt;Join -->\n",
       "<g id=\"edge9\" class=\"edge\">\n",
       "<title>CModMulK_G1:e-&gt;Join:w</title>\n",
       "<path fill=\"none\" stroke=\"black\" d=\"M342,-90C401.36,-90 413.65,-61.68 471.91,-61.01\"/>\n",
       "<ellipse fill=\"black\" stroke=\"black\" cx=\"473\" cy=\"-61.01\" rx=\"1\" ry=\"1\"/>\n",
       "<text text-anchor=\"middle\" x=\"408\" y=\"-89\" font-family=\"Times,serif\" font-size=\"10.00\">1</text>\n",
       "</g>\n",
       "<!-- CModMulK_G1&#45;&gt;CModMulK -->\n",
       "<g id=\"edge7\" class=\"edge\">\n",
       "<title>CModMulK_G1:e-&gt;CModMulK:w</title>\n",
       "<path fill=\"none\" stroke=\"black\" d=\"M342,-68C370.66,-68 350.7,-120.03 376.7,-122.88\"/>\n",
       "<ellipse fill=\"black\" stroke=\"black\" cx=\"378\" cy=\"-122.95\" rx=\"1\" ry=\"1\"/>\n",
       "<text text-anchor=\"middle\" x=\"360.5\" y=\"-102\" font-family=\"Times,serif\" font-size=\"10.00\">2048</text>\n",
       "</g>\n",
       "<!-- CModMulK_G4&#45;&gt;Join -->\n",
       "<g id=\"edge10\" class=\"edge\">\n",
       "<title>CModMulK_G4:e-&gt;Join:w</title>\n",
       "<path fill=\"none\" stroke=\"black\" d=\"M247,-32C347.71,-32 372.26,-54.69 471.93,-55\"/>\n",
       "<ellipse fill=\"black\" stroke=\"black\" cx=\"473\" cy=\"-55\" rx=\"1\" ry=\"1\"/>\n",
       "<text text-anchor=\"middle\" x=\"360.5\" y=\"-47\" font-family=\"Times,serif\" font-size=\"10.00\">1</text>\n",
       "</g>\n",
       "<!-- CModMulK_G4&#45;&gt;CModMulK_G1 -->\n",
       "<g id=\"edge5\" class=\"edge\">\n",
       "<title>CModMulK_G4:e-&gt;CModMulK_G1:w</title>\n",
       "<path fill=\"none\" stroke=\"black\" d=\"M247,-10C276.86,-10 254.53,-65.31 281.94,-67.91\"/>\n",
       "<ellipse fill=\"black\" stroke=\"black\" cx=\"283\" cy=\"-67.95\" rx=\"1\" ry=\"1\"/>\n",
       "<text text-anchor=\"middle\" x=\"265.5\" y=\"-46\" font-family=\"Times,serif\" font-size=\"10.00\">2048</text>\n",
       "</g>\n",
       "</g>\n",
       "</svg>"
      ],
      "text/plain": [
       "<IPython.core.display.SVG object>"
      ]
     },
     "metadata": {},
     "output_type": "display_data"
    }
   ],
   "source": [
    "show_bloq(modexp_small.decompose_bloq())"
   ]
  },
  {
   "cell_type": "markdown",
   "id": "8662fa01",
   "metadata": {
    "cq.autogen": "ModExp.call_graph.md"
   },
   "source": [
    "### Call Graph"
   ]
  },
  {
   "cell_type": "code",
   "execution_count": 8,
   "id": "9a7d9f5a",
   "metadata": {
    "cq.autogen": "ModExp.call_graph.py"
   },
   "outputs": [
    {
     "data": {
      "image/svg+xml": [
       "<svg xmlns=\"http://www.w3.org/2000/svg\" xmlns:xlink=\"http://www.w3.org/1999/xlink\" width=\"432pt\" height=\"131pt\" viewBox=\"0.00 0.00 432.00 131.00\">\n",
       "<g id=\"graph0\" class=\"graph\" transform=\"scale(1 1) rotate(0) translate(4 127)\">\n",
       "<title>counts</title>\n",
       "<polygon fill=\"white\" stroke=\"transparent\" points=\"-4,4 -4,-127 428,-127 428,4 -4,4\"/>\n",
       "<!-- b0 -->\n",
       "<g id=\"node1\" class=\"node\">\n",
       "<title>b0</title>\n",
       "<polygon fill=\"none\" stroke=\"black\" points=\"358,-123 71,-123 71,-87 358,-87 358,-123\"/>\n",
       "<text text-anchor=\"start\" x=\"190\" y=\"-106.8\" font-family=\"Times,serif\" font-size=\"14.00\">ModExp</text>\n",
       "<text text-anchor=\"start\" x=\"79\" y=\"-96\" font-family=\"monospace\" font-size=\"10.00\">base=g, mod=N, exp_bitsize=n_e, x_bitsize=n_x</text>\n",
       "</g>\n",
       "<!-- b1 -->\n",
       "<g id=\"node2\" class=\"node\">\n",
       "<title>b1</title>\n",
       "<polygon fill=\"none\" stroke=\"black\" points=\"209,-36 0,-36 0,0 209,0 209,-36\"/>\n",
       "<text text-anchor=\"start\" x=\"70\" y=\"-19.8\" font-family=\"Times,serif\" font-size=\"14.00\">CModMulK</text>\n",
       "<text text-anchor=\"start\" x=\"8\" y=\"-9\" font-family=\"monospace\" font-size=\"10.00\">dtype=QUInt(bi ..., k=_k0, mod=N</text>\n",
       "</g>\n",
       "<!-- b0&#45;&gt;b1 -->\n",
       "<g id=\"edge1\" class=\"edge\">\n",
       "<title>b0-&gt;b1</title>\n",
       "<path fill=\"none\" stroke=\"black\" d=\"M192.24,-86.8C175.69,-74.01 152.92,-56.42 134.73,-42.36\"/>\n",
       "<polygon fill=\"black\" stroke=\"black\" points=\"136.78,-39.52 126.73,-36.18 132.5,-45.06 136.78,-39.52\"/>\n",
       "<text text-anchor=\"middle\" x=\"172\" y=\"-57.8\" font-family=\"Times,serif\" font-size=\"14.00\">nₑ</text>\n",
       "</g>\n",
       "<!-- b2 -->\n",
       "<g id=\"node3\" class=\"node\">\n",
       "<title>b2</title>\n",
       "<polygon fill=\"none\" stroke=\"black\" points=\"424,-36 227,-36 227,0 424,0 424,-36\"/>\n",
       "<text text-anchor=\"start\" x=\"316\" y=\"-19.8\" font-family=\"Times,serif\" font-size=\"14.00\">|1&gt;</text>\n",
       "<text text-anchor=\"start\" x=\"235\" y=\"-9\" font-family=\"monospace\" font-size=\"10.00\">val=1, bitsize=n_x, state=True</text>\n",
       "</g>\n",
       "<!-- b0&#45;&gt;b2 -->\n",
       "<g id=\"edge2\" class=\"edge\">\n",
       "<title>b0-&gt;b2</title>\n",
       "<path fill=\"none\" stroke=\"black\" d=\"M236.96,-86.8C253.66,-74.01 276.64,-56.42 295,-42.36\"/>\n",
       "<polygon fill=\"black\" stroke=\"black\" points=\"297.26,-45.03 303.07,-36.18 293,-39.48 297.26,-45.03\"/>\n",
       "<text text-anchor=\"middle\" x=\"281\" y=\"-57.8\" font-family=\"Times,serif\" font-size=\"14.00\">1</text>\n",
       "</g>\n",
       "</g>\n",
       "</svg>"
      ],
      "text/plain": [
       "<IPython.core.display.SVG object>"
      ]
     },
     "metadata": {},
     "output_type": "display_data"
    },
    {
     "data": {
      "text/markdown": [
       "#### Counts totals:\n",
       " - `CModMulK`: $\\displaystyle n_{e}$\n",
       " - `IntState(1)`: 1"
      ],
      "text/plain": [
       "<IPython.core.display.Markdown object>"
      ]
     },
     "metadata": {},
     "output_type": "display_data"
    }
   ],
   "source": [
    "from qualtran.resource_counting.generalizers import ignore_split_join\n",
    "modexp_symb_g, modexp_symb_sigma = modexp_symb.call_graph(max_depth=1, generalizer=ignore_split_join)\n",
    "show_call_graph(modexp_symb_g)\n",
    "show_counts_sigma(modexp_symb_sigma)"
   ]
  }
 ],
 "metadata": {
  "kernelspec": {
   "display_name": "Python 3 (ipykernel)",
   "language": "python",
   "name": "python3"
  },
  "language_info": {
   "codemirror_mode": {
    "name": "ipython",
    "version": 3
   },
   "file_extension": ".py",
   "mimetype": "text/x-python",
   "name": "python",
   "nbconvert_exporter": "python",
   "pygments_lexer": "ipython3",
   "version": "3.11.8"
  },
  "widgets": {
   "application/vnd.jupyter.widget-state+json": {
    "state": {
     "033ec51743f54c0a9e3639cf53b09a38": {
      "model_module": "@jupyter-widgets/base",
      "model_module_version": "2.0.0",
      "model_name": "LayoutModel",
      "state": {
       "_model_module": "@jupyter-widgets/base",
       "_model_module_version": "2.0.0",
       "_model_name": "LayoutModel",
       "_view_count": null,
       "_view_module": "@jupyter-widgets/base",
       "_view_module_version": "2.0.0",
       "_view_name": "LayoutView",
       "align_content": null,
       "align_items": null,
       "align_self": null,
       "border_bottom": null,
       "border_left": null,
       "border_right": null,
       "border_top": null,
       "bottom": null,
       "display": null,
       "flex": null,
       "flex_flow": null,
       "grid_area": null,
       "grid_auto_columns": null,
       "grid_auto_flow": null,
       "grid_auto_rows": null,
       "grid_column": null,
       "grid_gap": null,
       "grid_row": null,
       "grid_template_areas": null,
       "grid_template_columns": null,
       "grid_template_rows": null,
       "height": null,
       "justify_content": null,
       "justify_items": null,
       "left": null,
       "margin": null,
       "max_height": null,
       "max_width": null,
       "min_height": null,
       "min_width": null,
       "object_fit": null,
       "object_position": null,
       "order": null,
       "overflow": null,
       "padding": null,
       "right": null,
       "top": null,
       "visibility": null,
       "width": null
      }
     },
     "06f52915722548f9b7ddebc9f7272520": {
      "model_module": "@jupyter-widgets/output",
      "model_module_version": "1.0.0",
      "model_name": "OutputModel",
      "state": {
       "_dom_classes": [],
       "_model_module": "@jupyter-widgets/output",
       "_model_module_version": "1.0.0",
       "_model_name": "OutputModel",
       "_view_count": null,
       "_view_module": "@jupyter-widgets/output",
       "_view_module_version": "1.0.0",
       "_view_name": "OutputView",
       "layout": "IPY_MODEL_4758400d47084f19b58fd7f4c7a1f3ac",
       "msg_id": "",
       "outputs": [
        {
         "data": {
          "text/markdown": "`modexp_small`",
          "text/plain": "<IPython.core.display.Markdown object>"
         },
         "metadata": {},
         "output_type": "display_data"
        },
        {
         "data": {
          "image/svg+xml": "<svg xmlns=\"http://www.w3.org/2000/svg\" xmlns:xlink=\"http://www.w3.org/1999/xlink\" width=\"270pt\" height=\"98pt\" viewBox=\"0.00 0.00 270.00 98.00\">\n<g id=\"graph0\" class=\"graph\" transform=\"scale(1 1) rotate(0) translate(4 94)\">\n<title>my_graph</title>\n<polygon fill=\"white\" stroke=\"transparent\" points=\"-4,4 -4,-94 266,-94 266,4 -4,4\"/>\n<!-- exponent_G2 -->\n<g id=\"node1\" class=\"node\">\n<title>exponent_G2</title>\n<text text-anchor=\"middle\" x=\"33\" y=\"-52.3\" font-family=\"Times,serif\" font-size=\"14.00\">exponent</text>\n</g>\n<!-- ModExp -->\n<g id=\"node2\" class=\"node\">\n<title>ModExp</title>\n<polygon fill=\"none\" stroke=\"black\" points=\"103,-66 103,-83 159,-83 159,-66 103,-66\"/>\n<text text-anchor=\"start\" x=\"112.5\" y=\"-72\" font-family=\"Times,serif\" font-size=\"10.00\">ModExp</text>\n<polygon fill=\"none\" stroke=\"black\" points=\"103,-45 103,-66 159,-66 159,-45 103,-45\"/>\n<text text-anchor=\"start\" x=\"106\" y=\"-51.8\" font-family=\"Times,serif\" font-size=\"14.00\">exponent</text>\n<polygon fill=\"none\" stroke=\"black\" points=\"103,-24 103,-45 127,-45 127,-24 103,-24\"/>\n<polygon fill=\"none\" stroke=\"black\" points=\"127,-24 127,-45 159,-45 159,-24 127,-24\"/>\n<text text-anchor=\"start\" x=\"139.5\" y=\"-30.8\" font-family=\"Times,serif\" font-size=\"14.00\">x</text>\n</g>\n<!-- exponent_G2&#45;&gt;ModExp -->\n<g id=\"edge1\" class=\"edge\">\n<title>exponent_G2:e-&gt;ModExp:w</title>\n<path fill=\"none\" stroke=\"black\" d=\"M66,-56C81.67,-56 86.14,-56 100.77,-56\"/>\n<ellipse fill=\"black\" stroke=\"black\" cx=\"102\" cy=\"-56\" rx=\"1\" ry=\"1\"/>\n<text text-anchor=\"middle\" x=\"84.5\" y=\"-59\" font-family=\"Times,serif\" font-size=\"10.00\">3</text>\n</g>\n<!-- exponent_G1 -->\n<g id=\"node3\" class=\"node\">\n<title>exponent_G1</title>\n<text text-anchor=\"middle\" x=\"229\" y=\"-68.3\" font-family=\"Times,serif\" font-size=\"14.00\">exponent</text>\n</g>\n<!-- ModExp&#45;&gt;exponent_G1 -->\n<g id=\"edge2\" class=\"edge\">\n<title>ModExp:e-&gt;exponent_G1:w</title>\n<path fill=\"none\" stroke=\"black\" d=\"M159,-56C176.22,-56 177.97,-70.77 193.98,-71.93\"/>\n<ellipse fill=\"black\" stroke=\"black\" cx=\"195\" cy=\"-71.96\" rx=\"1\" ry=\"1\"/>\n<text text-anchor=\"middle\" x=\"177.5\" y=\"-67\" font-family=\"Times,serif\" font-size=\"10.00\">3</text>\n</g>\n<!-- x_G3 -->\n<g id=\"node4\" class=\"node\">\n<title>x_G3</title>\n<text text-anchor=\"middle\" x=\"229\" y=\"-14.3\" font-family=\"Times,serif\" font-size=\"14.00\">x</text>\n</g>\n<!-- ModExp&#45;&gt;x_G3 -->\n<g id=\"edge3\" class=\"edge\">\n<title>ModExp:e-&gt;x_G3:w</title>\n<path fill=\"none\" stroke=\"black\" d=\"M159,-34C178.2,-34 180.84,-19.23 198.74,-18.07\"/>\n<ellipse fill=\"black\" stroke=\"black\" cx=\"200\" cy=\"-18.03\" rx=\"1\" ry=\"1\"/>\n<text text-anchor=\"middle\" x=\"177.5\" y=\"-31\" font-family=\"Times,serif\" font-size=\"10.00\">2048</text>\n</g>\n</g>\n</svg>",
          "text/plain": "<IPython.core.display.SVG object>"
         },
         "metadata": {},
         "output_type": "display_data"
        }
       ],
       "tabbable": null,
       "tooltip": null
      }
     },
     "1379146238f74b4abb877688a860649d": {
      "model_module": "@jupyter-widgets/base",
      "model_module_version": "2.0.0",
      "model_name": "LayoutModel",
      "state": {
       "_model_module": "@jupyter-widgets/base",
       "_model_module_version": "2.0.0",
       "_model_name": "LayoutModel",
       "_view_count": null,
       "_view_module": "@jupyter-widgets/base",
       "_view_module_version": "2.0.0",
       "_view_name": "LayoutView",
       "align_content": null,
       "align_items": null,
       "align_self": null,
       "border_bottom": null,
       "border_left": null,
       "border_right": null,
       "border_top": null,
       "bottom": null,
       "display": null,
       "flex": null,
       "flex_flow": null,
       "grid_area": null,
       "grid_auto_columns": null,
       "grid_auto_flow": null,
       "grid_auto_rows": null,
       "grid_column": null,
       "grid_gap": null,
       "grid_row": null,
       "grid_template_areas": null,
       "grid_template_columns": null,
       "grid_template_rows": null,
       "height": null,
       "justify_content": null,
       "justify_items": null,
       "left": null,
       "margin": null,
       "max_height": null,
       "max_width": null,
       "min_height": null,
       "min_width": null,
       "object_fit": null,
       "object_position": null,
       "order": null,
       "overflow": null,
       "padding": null,
       "right": null,
       "top": null,
       "visibility": null,
       "width": null
      }
     },
     "2792b6b8dd6e46ec801c8c89ede2b0e3": {
      "model_module": "@jupyter-widgets/output",
      "model_module_version": "1.0.0",
      "model_name": "OutputModel",
      "state": {
       "_dom_classes": [],
       "_model_module": "@jupyter-widgets/output",
       "_model_module_version": "1.0.0",
       "_model_name": "OutputModel",
       "_view_count": null,
       "_view_module": "@jupyter-widgets/output",
       "_view_module_version": "1.0.0",
       "_view_name": "OutputView",
       "layout": "IPY_MODEL_41b0c445bfe84a16a91d9b806e1586ba",
       "msg_id": "",
       "outputs": [
        {
         "data": {
          "text/markdown": "`modexp`",
          "text/plain": "<IPython.core.display.Markdown object>"
         },
         "metadata": {},
         "output_type": "display_data"
        },
        {
         "data": {
          "image/svg+xml": "<svg xmlns=\"http://www.w3.org/2000/svg\" xmlns:xlink=\"http://www.w3.org/1999/xlink\" width=\"270pt\" height=\"98pt\" viewBox=\"0.00 0.00 270.00 98.00\">\n<g id=\"graph0\" class=\"graph\" transform=\"scale(1 1) rotate(0) translate(4 94)\">\n<title>my_graph</title>\n<polygon fill=\"white\" stroke=\"transparent\" points=\"-4,4 -4,-94 266,-94 266,4 -4,4\"/>\n<!-- exponent_G4 -->\n<g id=\"node1\" class=\"node\">\n<title>exponent_G4</title>\n<text text-anchor=\"middle\" x=\"33\" y=\"-52.3\" font-family=\"Times,serif\" font-size=\"14.00\">exponent</text>\n</g>\n<!-- ModExp -->\n<g id=\"node2\" class=\"node\">\n<title>ModExp</title>\n<polygon fill=\"none\" stroke=\"black\" points=\"103,-66 103,-83 159,-83 159,-66 103,-66\"/>\n<text text-anchor=\"start\" x=\"112.5\" y=\"-72\" font-family=\"Times,serif\" font-size=\"10.00\">ModExp</text>\n<polygon fill=\"none\" stroke=\"black\" points=\"103,-45 103,-66 159,-66 159,-45 103,-45\"/>\n<text text-anchor=\"start\" x=\"106\" y=\"-51.8\" font-family=\"Times,serif\" font-size=\"14.00\">exponent</text>\n<polygon fill=\"none\" stroke=\"black\" points=\"103,-24 103,-45 127,-45 127,-24 103,-24\"/>\n<polygon fill=\"none\" stroke=\"black\" points=\"127,-24 127,-45 159,-45 159,-24 127,-24\"/>\n<text text-anchor=\"start\" x=\"139.5\" y=\"-30.8\" font-family=\"Times,serif\" font-size=\"14.00\">x</text>\n</g>\n<!-- exponent_G4&#45;&gt;ModExp -->\n<g id=\"edge1\" class=\"edge\">\n<title>exponent_G4:e-&gt;ModExp:w</title>\n<path fill=\"none\" stroke=\"black\" d=\"M66,-56C81.67,-56 86.14,-56 100.77,-56\"/>\n<ellipse fill=\"black\" stroke=\"black\" cx=\"102\" cy=\"-56\" rx=\"1\" ry=\"1\"/>\n<text text-anchor=\"middle\" x=\"84.5\" y=\"-59\" font-family=\"Times,serif\" font-size=\"10.00\">16</text>\n</g>\n<!-- exponent_G3 -->\n<g id=\"node3\" class=\"node\">\n<title>exponent_G3</title>\n<text text-anchor=\"middle\" x=\"229\" y=\"-68.3\" font-family=\"Times,serif\" font-size=\"14.00\">exponent</text>\n</g>\n<!-- ModExp&#45;&gt;exponent_G3 -->\n<g id=\"edge2\" class=\"edge\">\n<title>ModExp:e-&gt;exponent_G3:w</title>\n<path fill=\"none\" stroke=\"black\" d=\"M159,-56C176.22,-56 177.97,-70.77 193.98,-71.93\"/>\n<ellipse fill=\"black\" stroke=\"black\" cx=\"195\" cy=\"-71.96\" rx=\"1\" ry=\"1\"/>\n<text text-anchor=\"middle\" x=\"177.5\" y=\"-67\" font-family=\"Times,serif\" font-size=\"10.00\">16</text>\n</g>\n<!-- x_G2 -->\n<g id=\"node4\" class=\"node\">\n<title>x_G2</title>\n<text text-anchor=\"middle\" x=\"229\" y=\"-14.3\" font-family=\"Times,serif\" font-size=\"14.00\">x</text>\n</g>\n<!-- ModExp&#45;&gt;x_G2 -->\n<g id=\"edge3\" class=\"edge\">\n<title>ModExp:e-&gt;x_G2:w</title>\n<path fill=\"none\" stroke=\"black\" d=\"M159,-34C178.2,-34 180.84,-19.23 198.74,-18.07\"/>\n<ellipse fill=\"black\" stroke=\"black\" cx=\"200\" cy=\"-18.03\" rx=\"1\" ry=\"1\"/>\n<text text-anchor=\"middle\" x=\"177.5\" y=\"-31\" font-family=\"Times,serif\" font-size=\"10.00\">8</text>\n</g>\n</g>\n</svg>",
          "text/plain": "<IPython.core.display.SVG object>"
         },
         "metadata": {},
         "output_type": "display_data"
        }
       ],
       "tabbable": null,
       "tooltip": null
      }
     },
     "41b0c445bfe84a16a91d9b806e1586ba": {
      "model_module": "@jupyter-widgets/base",
      "model_module_version": "2.0.0",
      "model_name": "LayoutModel",
      "state": {
       "_model_module": "@jupyter-widgets/base",
       "_model_module_version": "2.0.0",
       "_model_name": "LayoutModel",
       "_view_count": null,
       "_view_module": "@jupyter-widgets/base",
       "_view_module_version": "2.0.0",
       "_view_name": "LayoutView",
       "align_content": null,
       "align_items": null,
       "align_self": null,
       "border_bottom": null,
       "border_left": null,
       "border_right": null,
       "border_top": null,
       "bottom": null,
       "display": null,
       "flex": null,
       "flex_flow": null,
       "grid_area": null,
       "grid_auto_columns": null,
       "grid_auto_flow": null,
       "grid_auto_rows": null,
       "grid_column": null,
       "grid_gap": null,
       "grid_row": null,
       "grid_template_areas": null,
       "grid_template_columns": null,
       "grid_template_rows": null,
       "height": null,
       "justify_content": null,
       "justify_items": null,
       "left": null,
       "margin": null,
       "max_height": null,
       "max_width": null,
       "min_height": null,
       "min_width": null,
       "object_fit": null,
       "object_position": null,
       "order": null,
       "overflow": null,
       "padding": null,
       "right": null,
       "top": null,
       "visibility": null,
       "width": null
      }
     },
     "4758400d47084f19b58fd7f4c7a1f3ac": {
      "model_module": "@jupyter-widgets/base",
      "model_module_version": "2.0.0",
      "model_name": "LayoutModel",
      "state": {
       "_model_module": "@jupyter-widgets/base",
       "_model_module_version": "2.0.0",
       "_model_name": "LayoutModel",
       "_view_count": null,
       "_view_module": "@jupyter-widgets/base",
       "_view_module_version": "2.0.0",
       "_view_name": "LayoutView",
       "align_content": null,
       "align_items": null,
       "align_self": null,
       "border_bottom": null,
       "border_left": null,
       "border_right": null,
       "border_top": null,
       "bottom": null,
       "display": null,
       "flex": null,
       "flex_flow": null,
       "grid_area": null,
       "grid_auto_columns": null,
       "grid_auto_flow": null,
       "grid_auto_rows": null,
       "grid_column": null,
       "grid_gap": null,
       "grid_row": null,
       "grid_template_areas": null,
       "grid_template_columns": null,
       "grid_template_rows": null,
       "height": null,
       "justify_content": null,
       "justify_items": null,
       "left": null,
       "margin": null,
       "max_height": null,
       "max_width": null,
       "min_height": null,
       "min_width": null,
       "object_fit": null,
       "object_position": null,
       "order": null,
       "overflow": null,
       "padding": null,
       "right": null,
       "top": null,
       "visibility": null,
       "width": null
      }
     },
     "4f6275ff6be645d58007f328c8d78312": {
      "model_module": "@jupyter-widgets/output",
      "model_module_version": "1.0.0",
      "model_name": "OutputModel",
      "state": {
       "_dom_classes": [],
       "_model_module": "@jupyter-widgets/output",
       "_model_module_version": "1.0.0",
       "_model_name": "OutputModel",
       "_view_count": null,
       "_view_module": "@jupyter-widgets/output",
       "_view_module_version": "1.0.0",
       "_view_name": "OutputView",
       "layout": "IPY_MODEL_1379146238f74b4abb877688a860649d",
       "msg_id": "",
       "outputs": [
        {
         "data": {
          "text/markdown": "`modexp_symb`",
          "text/plain": "<IPython.core.display.Markdown object>"
         },
         "metadata": {},
         "output_type": "display_data"
        },
        {
         "data": {
          "image/svg+xml": "<svg xmlns=\"http://www.w3.org/2000/svg\" xmlns:xlink=\"http://www.w3.org/1999/xlink\" width=\"270pt\" height=\"98pt\" viewBox=\"0.00 0.00 270.00 98.00\">\n<g id=\"graph0\" class=\"graph\" transform=\"scale(1 1) rotate(0) translate(4 94)\">\n<title>my_graph</title>\n<polygon fill=\"white\" stroke=\"transparent\" points=\"-4,4 -4,-94 266,-94 266,4 -4,4\"/>\n<!-- exponent_G0 -->\n<g id=\"node1\" class=\"node\">\n<title>exponent_G0</title>\n<text text-anchor=\"middle\" x=\"33\" y=\"-52.3\" font-family=\"Times,serif\" font-size=\"14.00\">exponent</text>\n</g>\n<!-- ModExp -->\n<g id=\"node2\" class=\"node\">\n<title>ModExp</title>\n<polygon fill=\"none\" stroke=\"black\" points=\"103,-66 103,-83 159,-83 159,-66 103,-66\"/>\n<text text-anchor=\"start\" x=\"112.5\" y=\"-72\" font-family=\"Times,serif\" font-size=\"10.00\">ModExp</text>\n<polygon fill=\"none\" stroke=\"black\" points=\"103,-45 103,-66 159,-66 159,-45 103,-45\"/>\n<text text-anchor=\"start\" x=\"106\" y=\"-51.8\" font-family=\"Times,serif\" font-size=\"14.00\">exponent</text>\n<polygon fill=\"none\" stroke=\"black\" points=\"103,-24 103,-45 127,-45 127,-24 103,-24\"/>\n<polygon fill=\"none\" stroke=\"black\" points=\"127,-24 127,-45 159,-45 159,-24 127,-24\"/>\n<text text-anchor=\"start\" x=\"139.5\" y=\"-30.8\" font-family=\"Times,serif\" font-size=\"14.00\">x</text>\n</g>\n<!-- exponent_G0&#45;&gt;ModExp -->\n<g id=\"edge1\" class=\"edge\">\n<title>exponent_G0:e-&gt;ModExp:w</title>\n<path fill=\"none\" stroke=\"black\" d=\"M66,-56C81.67,-56 86.14,-56 100.77,-56\"/>\n<ellipse fill=\"black\" stroke=\"black\" cx=\"102\" cy=\"-56\" rx=\"1\" ry=\"1\"/>\n<text text-anchor=\"middle\" x=\"84.5\" y=\"-59\" font-family=\"Times,serif\" font-size=\"10.00\">n_e</text>\n</g>\n<!-- exponent_G1 -->\n<g id=\"node3\" class=\"node\">\n<title>exponent_G1</title>\n<text text-anchor=\"middle\" x=\"229\" y=\"-68.3\" font-family=\"Times,serif\" font-size=\"14.00\">exponent</text>\n</g>\n<!-- ModExp&#45;&gt;exponent_G1 -->\n<g id=\"edge2\" class=\"edge\">\n<title>ModExp:e-&gt;exponent_G1:w</title>\n<path fill=\"none\" stroke=\"black\" d=\"M159,-56C176.22,-56 177.97,-70.77 193.98,-71.93\"/>\n<ellipse fill=\"black\" stroke=\"black\" cx=\"195\" cy=\"-71.96\" rx=\"1\" ry=\"1\"/>\n<text text-anchor=\"middle\" x=\"177.5\" y=\"-67\" font-family=\"Times,serif\" font-size=\"10.00\">n_e</text>\n</g>\n<!-- x_G3 -->\n<g id=\"node4\" class=\"node\">\n<title>x_G3</title>\n<text text-anchor=\"middle\" x=\"229\" y=\"-14.3\" font-family=\"Times,serif\" font-size=\"14.00\">x</text>\n</g>\n<!-- ModExp&#45;&gt;x_G3 -->\n<g id=\"edge3\" class=\"edge\">\n<title>ModExp:e-&gt;x_G3:w</title>\n<path fill=\"none\" stroke=\"black\" d=\"M159,-34C178.2,-34 180.84,-19.23 198.74,-18.07\"/>\n<ellipse fill=\"black\" stroke=\"black\" cx=\"200\" cy=\"-18.03\" rx=\"1\" ry=\"1\"/>\n<text text-anchor=\"middle\" x=\"177.5\" y=\"-31\" font-family=\"Times,serif\" font-size=\"10.00\">n_x</text>\n</g>\n</g>\n</svg>",
          "text/plain": "<IPython.core.display.SVG object>"
         },
         "metadata": {},
         "output_type": "display_data"
        }
       ],
       "tabbable": null,
       "tooltip": null
      }
     },
     "6d171af6c1584946a5d472f5829072cb": {
      "model_module": "@jupyter-widgets/controls",
      "model_module_version": "2.0.0",
      "model_name": "HBoxModel",
      "state": {
       "_dom_classes": [],
       "_model_module": "@jupyter-widgets/controls",
       "_model_module_version": "2.0.0",
       "_model_name": "HBoxModel",
       "_view_count": null,
       "_view_module": "@jupyter-widgets/controls",
       "_view_module_version": "2.0.0",
       "_view_name": "HBoxView",
       "box_style": "",
       "children": [
        "IPY_MODEL_4f6275ff6be645d58007f328c8d78312",
        "IPY_MODEL_06f52915722548f9b7ddebc9f7272520",
        "IPY_MODEL_2792b6b8dd6e46ec801c8c89ede2b0e3"
       ],
       "layout": "IPY_MODEL_033ec51743f54c0a9e3639cf53b09a38",
       "tabbable": null,
       "tooltip": null
      }
     }
    },
    "version_major": 2,
    "version_minor": 0
   }
  }
 },
 "nbformat": 4,
 "nbformat_minor": 5
}
