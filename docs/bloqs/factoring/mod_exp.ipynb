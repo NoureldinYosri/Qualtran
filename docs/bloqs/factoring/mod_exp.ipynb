{
 "cells": [
  {
   "cell_type": "markdown",
   "id": "5947b041",
   "metadata": {
    "cq.autogen": "title_cell"
   },
   "source": [
    "# Modular Exponentiation"
   ]
  },
  {
   "cell_type": "code",
   "execution_count": 1,
   "id": "ce6b0d51",
   "metadata": {
    "cq.autogen": "top_imports"
   },
   "outputs": [],
   "source": [
    "from qualtran import Bloq, CompositeBloq, BloqBuilder, Signature, Register\n",
    "from qualtran import QBit, QInt, QUInt, QAny\n",
    "from qualtran.drawing import show_bloq, show_call_graph, show_counts_sigma\n",
    "from typing import *\n",
    "import numpy as np\n",
    "import sympy\n",
    "import cirq"
   ]
  },
  {
   "cell_type": "markdown",
   "id": "2f68374c",
   "metadata": {
    "cq.autogen": "ModExp.bloq_doc.md"
   },
   "source": [
    "## `ModExp`\n",
    "Perform $b^e \\mod{m}$ for constant `base` $b$, `mod` $m$, and quantum `exponent` $e$.\n",
    "\n",
    "Modular exponentiation is the main computational primitive for quantum factoring algorithms.\n",
    "We follow [GE2019]'s \"reference implementation\" for factoring. See `ModExp.make_for_shor`\n",
    "to set the class attributes for a factoring run.\n",
    "\n",
    "This bloq decomposes into controlled modular exponentiation for each exponent bit.\n",
    "\n",
    "#### Parameters\n",
    " - `base`: The integer base of the exponentiation\n",
    " - `mod`: The integer modulus\n",
    " - `exp_bitsize`: The size of the `exponent` thru-register\n",
    " - `x_bitsize`: The size of the `x` right-register \n",
    "\n",
    "#### Registers\n",
    " - `exponent`: The exponent\n",
    " - `x [right]`: The output register containing the result of the exponentiation \n",
    "\n",
    "#### References\n",
    " - [How to factor 2048 bit RSA integers in 8 hours using 20 million noisy qubits](https://arxiv.org/abs/1905.09749). Gidney and Ekerå. 2019.\n"
   ]
  },
  {
   "cell_type": "code",
   "execution_count": 2,
   "id": "4a1b8a2a",
   "metadata": {
    "cq.autogen": "ModExp.bloq_doc.py"
   },
   "outputs": [],
   "source": [
    "from qualtran.bloqs.factoring.mod_exp import ModExp"
   ]
  },
  {
   "cell_type": "markdown",
   "id": "902ec939",
   "metadata": {
    "cq.autogen": "ModExp.example_instances.md"
   },
   "source": [
    "### Example Instances"
   ]
  },
  {
   "cell_type": "code",
   "execution_count": 3,
   "id": "4c5aac47",
   "metadata": {
    "cq.autogen": "ModExp.modexp_small"
   },
   "outputs": [],
   "source": [
    "modexp_small = ModExp(base=3, mod=15, exp_bitsize=3, x_bitsize=2048)"
   ]
  },
  {
   "cell_type": "code",
   "execution_count": 4,
   "id": "41d94c81",
   "metadata": {
    "cq.autogen": "ModExp.modexp"
   },
   "outputs": [],
   "source": [
    "modexp = ModExp.make_for_shor(big_n=15 * 17, g=9)"
   ]
  },
  {
   "cell_type": "code",
   "execution_count": 5,
   "id": "5c0c6c06",
   "metadata": {
    "cq.autogen": "ModExp.modexp_symb"
   },
   "outputs": [],
   "source": [
    "g, N, n_e, n_x = sympy.symbols('g N n_e, n_x')\n",
    "modexp_symb = ModExp(base=g, mod=N, exp_bitsize=n_e, x_bitsize=n_x)"
   ]
  },
  {
   "cell_type": "markdown",
   "id": "a55a51df",
   "metadata": {
    "cq.autogen": "ModExp.graphical_signature.md"
   },
   "source": [
    "#### Graphical Signature"
   ]
  },
  {
   "cell_type": "code",
   "execution_count": 6,
   "id": "ce953a6d",
   "metadata": {
    "cq.autogen": "ModExp.graphical_signature.py"
   },
   "outputs": [
    {
     "data": {
      "application/vnd.jupyter.widget-view+json": {
       "model_id": "bcc8d6aca0fd4ae4b29ec8b4709e20d5",
       "version_major": 2,
       "version_minor": 0
      },
      "text/plain": [
       "HBox(children=(Output(outputs=({'output_type': 'display_data', 'data': {'text/plain': '<IPython.core.display.M…"
      ]
     },
     "metadata": {},
     "output_type": "display_data"
    }
   ],
   "source": [
    "from qualtran.drawing import show_bloqs\n",
    "show_bloqs([modexp_symb, modexp_small, modexp],\n",
    "           ['`modexp_symb`', '`modexp_small`', '`modexp`'])"
   ]
  },
  {
   "cell_type": "markdown",
   "id": "83ba4b54",
   "metadata": {},
   "source": [
    "### Decomposition"
   ]
  },
  {
   "cell_type": "code",
   "execution_count": 7,
   "id": "a0e53334",
   "metadata": {},
   "outputs": [
    {
     "data": {
      "image/svg+xml": [
       "<svg xmlns=\"http://www.w3.org/2000/svg\" xmlns:xlink=\"http://www.w3.org/1999/xlink\" width=\"571pt\" height=\"181pt\" viewBox=\"0.00 0.00 571.00 180.50\">\n",
       "<g id=\"graph0\" class=\"graph\" transform=\"scale(1 1) rotate(0) translate(4 176.5)\">\n",
       "<title>my_graph</title>\n",
       "<polygon fill=\"white\" stroke=\"transparent\" points=\"-4,4 -4,-176.5 567,-176.5 567,4 -4,4\"/>\n",
       "<!-- exponent_G16 -->\n",
       "<g id=\"node1\" class=\"node\">\n",
       "<title>exponent_G16</title>\n",
       "<text text-anchor=\"middle\" x=\"33\" y=\"-92.3\" font-family=\"Times,serif\" font-size=\"14.00\">exponent</text>\n",
       "</g>\n",
       "<!-- Split -->\n",
       "<g id=\"node2\" class=\"node\">\n",
       "<title>Split</title>\n",
       "<polygon fill=\"none\" stroke=\"black\" points=\"111.5,-105 111.5,-111 123.5,-111 123.5,-105 111.5,-105\"/>\n",
       "<polygon fill=\"none\" stroke=\"black\" points=\"111.5,-87 111.5,-105 117.5,-105 117.5,-87 111.5,-87\"/>\n",
       "<polygon fill=\"none\" stroke=\"black\" points=\"117.5,-99 117.5,-105 123.5,-105 123.5,-99 117.5,-99\"/>\n",
       "<polygon fill=\"none\" stroke=\"black\" points=\"117.5,-93 117.5,-99 123.5,-99 123.5,-93 117.5,-93\"/>\n",
       "<polygon fill=\"none\" stroke=\"black\" points=\"117.5,-87 117.5,-93 123.5,-93 123.5,-87 117.5,-87\"/>\n",
       "</g>\n",
       "<!-- exponent_G16&#45;&gt;Split -->\n",
       "<g id=\"edge1\" class=\"edge\">\n",
       "<title>exponent_G16:e-&gt;Split:w</title>\n",
       "<path fill=\"none\" stroke=\"black\" d=\"M66,-96C85.01,-96 90.31,-96 108.25,-96\"/>\n",
       "<ellipse fill=\"black\" stroke=\"black\" cx=\"109.5\" cy=\"-96\" rx=\"1\" ry=\"1\"/>\n",
       "<text text-anchor=\"middle\" x=\"84.5\" y=\"-99\" font-family=\"Times,serif\" font-size=\"10.00\">3</text>\n",
       "</g>\n",
       "<!-- CtrlModMul -->\n",
       "<g id=\"node5\" class=\"node\">\n",
       "<title>CtrlModMul</title>\n",
       "<polygon fill=\"none\" stroke=\"black\" points=\"169,-42 169,-59 225,-59 225,-42 169,-42\"/>\n",
       "<text text-anchor=\"start\" x=\"172\" y=\"-48\" font-family=\"Times,serif\" font-size=\"10.00\">x *= 3 % 15</text>\n",
       "<polygon fill=\"none\" stroke=\"black\" points=\"169,-21 169,-42 225,-42 225,-21 169,-21\"/>\n",
       "<text text-anchor=\"start\" x=\"187.5\" y=\"-27.8\" font-family=\"Times,serif\" font-size=\"14.00\">ctrl</text>\n",
       "<polygon fill=\"none\" stroke=\"black\" points=\"169,0 169,-21 225,-21 225,0 169,0\"/>\n",
       "<text text-anchor=\"start\" x=\"193.5\" y=\"-6.8\" font-family=\"Times,serif\" font-size=\"14.00\">x</text>\n",
       "</g>\n",
       "<!-- Split&#45;&gt;CtrlModMul -->\n",
       "<g id=\"edge2\" class=\"edge\">\n",
       "<title>Split:e-&gt;CtrlModMul:w</title>\n",
       "<path fill=\"none\" stroke=\"black\" d=\"M124.5,-90C156.23,-90 137.44,-34.69 166.8,-32.09\"/>\n",
       "<ellipse fill=\"black\" stroke=\"black\" cx=\"168\" cy=\"-32.04\" rx=\"1\" ry=\"1\"/>\n",
       "<text text-anchor=\"middle\" x=\"150.5\" y=\"-51\" font-family=\"Times,serif\" font-size=\"10.00\">1</text>\n",
       "</g>\n",
       "<!-- CtrlModMul_G1 -->\n",
       "<g id=\"node6\" class=\"node\">\n",
       "<title>CtrlModMul_G1</title>\n",
       "<polygon fill=\"none\" stroke=\"black\" points=\"262,-100 262,-117 318,-117 318,-100 262,-100\"/>\n",
       "<text text-anchor=\"start\" x=\"265\" y=\"-106\" font-family=\"Times,serif\" font-size=\"10.00\">x *= 9 % 15</text>\n",
       "<polygon fill=\"none\" stroke=\"black\" points=\"262,-79 262,-100 318,-100 318,-79 262,-79\"/>\n",
       "<text text-anchor=\"start\" x=\"280.5\" y=\"-85.8\" font-family=\"Times,serif\" font-size=\"14.00\">ctrl</text>\n",
       "<polygon fill=\"none\" stroke=\"black\" points=\"262,-58 262,-79 318,-79 318,-58 262,-58\"/>\n",
       "<text text-anchor=\"start\" x=\"286.5\" y=\"-64.8\" font-family=\"Times,serif\" font-size=\"14.00\">x</text>\n",
       "</g>\n",
       "<!-- Split&#45;&gt;CtrlModMul_G1 -->\n",
       "<g id=\"edge4\" class=\"edge\">\n",
       "<title>Split:e-&gt;CtrlModMul_G1:w</title>\n",
       "<path fill=\"none\" stroke=\"black\" d=\"M124.5,-96C184.95,-96 200.47,-90.14 259.87,-90\"/>\n",
       "<ellipse fill=\"black\" stroke=\"black\" cx=\"261\" cy=\"-90\" rx=\"1\" ry=\"1\"/>\n",
       "<text text-anchor=\"middle\" x=\"197\" y=\"-97\" font-family=\"Times,serif\" font-size=\"10.00\">1</text>\n",
       "</g>\n",
       "<!-- CtrlModMul_G4 -->\n",
       "<g id=\"node7\" class=\"node\">\n",
       "<title>CtrlModMul_G4</title>\n",
       "<polygon fill=\"none\" stroke=\"black\" points=\"355,-155 355,-172 411,-172 411,-155 355,-155\"/>\n",
       "<text text-anchor=\"start\" x=\"358\" y=\"-161\" font-family=\"Times,serif\" font-size=\"10.00\">x *= 6 % 15</text>\n",
       "<polygon fill=\"none\" stroke=\"black\" points=\"355,-134 355,-155 411,-155 411,-134 355,-134\"/>\n",
       "<text text-anchor=\"start\" x=\"373.5\" y=\"-140.8\" font-family=\"Times,serif\" font-size=\"14.00\">ctrl</text>\n",
       "<polygon fill=\"none\" stroke=\"black\" points=\"355,-113 355,-134 411,-134 411,-113 355,-113\"/>\n",
       "<text text-anchor=\"start\" x=\"379.5\" y=\"-119.8\" font-family=\"Times,serif\" font-size=\"14.00\">x</text>\n",
       "</g>\n",
       "<!-- Split&#45;&gt;CtrlModMul_G4 -->\n",
       "<g id=\"edge6\" class=\"edge\">\n",
       "<title>Split:e-&gt;CtrlModMul_G4:w</title>\n",
       "<path fill=\"none\" stroke=\"black\" d=\"M124.5,-102C136.25,-102 138.53,-106.43 150,-109 239.55,-129.11 262.14,-144.75 352.84,-145\"/>\n",
       "<ellipse fill=\"black\" stroke=\"black\" cx=\"354\" cy=\"-145\" rx=\"1\" ry=\"1\"/>\n",
       "<text text-anchor=\"middle\" x=\"243.5\" y=\"-135\" font-family=\"Times,serif\" font-size=\"10.00\">1</text>\n",
       "</g>\n",
       "<!-- IntState -->\n",
       "<g id=\"node3\" class=\"node\">\n",
       "<title>IntState</title>\n",
       "<polygon fill=\"none\" stroke=\"black\" points=\"103.5,-21 103.5,-38 132.5,-38 132.5,-21 103.5,-21\"/>\n",
       "<text text-anchor=\"start\" x=\"115\" y=\"-27\" font-family=\"Times,serif\" font-size=\"10.00\">1</text>\n",
       "<polygon fill=\"none\" stroke=\"black\" points=\"103.5,0 103.5,-21 109.5,-21 109.5,0 103.5,0\"/>\n",
       "<polygon fill=\"none\" stroke=\"black\" points=\"109.5,0 109.5,-21 132.5,-21 132.5,0 109.5,0\"/>\n",
       "<text text-anchor=\"start\" x=\"112.5\" y=\"-6.8\" font-family=\"Times,serif\" font-size=\"14.00\">val</text>\n",
       "</g>\n",
       "<!-- IntState&#45;&gt;CtrlModMul -->\n",
       "<g id=\"edge3\" class=\"edge\">\n",
       "<title>IntState:e-&gt;CtrlModMul:w</title>\n",
       "<path fill=\"none\" stroke=\"black\" d=\"M132,-10C147.67,-10 152.14,-10 166.77,-10\"/>\n",
       "<ellipse fill=\"black\" stroke=\"black\" cx=\"168\" cy=\"-10\" rx=\"1\" ry=\"1\"/>\n",
       "<text text-anchor=\"middle\" x=\"150.5\" y=\"-13\" font-family=\"Times,serif\" font-size=\"10.00\">2048</text>\n",
       "</g>\n",
       "<!-- Join -->\n",
       "<g id=\"node4\" class=\"node\">\n",
       "<title>Join</title>\n",
       "<polygon fill=\"none\" stroke=\"black\" points=\"448,-70 448,-76 460,-76 460,-70 448,-70\"/>\n",
       "<polygon fill=\"none\" stroke=\"black\" points=\"448,-64 448,-70 454,-70 454,-64 448,-64\"/>\n",
       "<polygon fill=\"none\" stroke=\"black\" points=\"454,-52 454,-70 460,-70 460,-52 454,-52\"/>\n",
       "<polygon fill=\"none\" stroke=\"black\" points=\"448,-58 448,-64 454,-64 454,-58 448,-58\"/>\n",
       "<polygon fill=\"none\" stroke=\"black\" points=\"448,-52 448,-58 454,-58 454,-52 448,-52\"/>\n",
       "</g>\n",
       "<!-- exponent -->\n",
       "<g id=\"node8\" class=\"node\">\n",
       "<title>exponent</title>\n",
       "<text text-anchor=\"middle\" x=\"530\" y=\"-56.3\" font-family=\"Times,serif\" font-size=\"14.00\">exponent</text>\n",
       "</g>\n",
       "<!-- Join&#45;&gt;exponent -->\n",
       "<g id=\"edge11\" class=\"edge\">\n",
       "<title>Join:e-&gt;exponent:w</title>\n",
       "<path fill=\"none\" stroke=\"black\" d=\"M460,-61C475.68,-61 480.14,-60.09 494.77,-60.01\"/>\n",
       "<ellipse fill=\"black\" stroke=\"black\" cx=\"496\" cy=\"-60\" rx=\"1\" ry=\"1\"/>\n",
       "<text text-anchor=\"middle\" x=\"478.5\" y=\"-63\" font-family=\"Times,serif\" font-size=\"10.00\">3</text>\n",
       "</g>\n",
       "<!-- CtrlModMul&#45;&gt;Join -->\n",
       "<g id=\"edge10\" class=\"edge\">\n",
       "<title>CtrlModMul:e-&gt;Join:w</title>\n",
       "<path fill=\"none\" stroke=\"black\" d=\"M225,-32C323.96,-32 348.04,-54.69 445.97,-55\"/>\n",
       "<ellipse fill=\"black\" stroke=\"black\" cx=\"447\" cy=\"-55\" rx=\"1\" ry=\"1\"/>\n",
       "<text text-anchor=\"middle\" x=\"336.5\" y=\"-47\" font-family=\"Times,serif\" font-size=\"10.00\">1</text>\n",
       "</g>\n",
       "<!-- CtrlModMul&#45;&gt;CtrlModMul_G1 -->\n",
       "<g id=\"edge5\" class=\"edge\">\n",
       "<title>CtrlModMul:e-&gt;CtrlModMul_G1:w</title>\n",
       "<path fill=\"none\" stroke=\"black\" d=\"M225,-10C254.86,-10 232.53,-65.31 259.94,-67.91\"/>\n",
       "<ellipse fill=\"black\" stroke=\"black\" cx=\"261\" cy=\"-67.95\" rx=\"1\" ry=\"1\"/>\n",
       "<text text-anchor=\"middle\" x=\"243.5\" y=\"-46\" font-family=\"Times,serif\" font-size=\"10.00\">2048</text>\n",
       "</g>\n",
       "<!-- CtrlModMul_G1&#45;&gt;Join -->\n",
       "<g id=\"edge9\" class=\"edge\">\n",
       "<title>CtrlModMul_G1:e-&gt;Join:w</title>\n",
       "<path fill=\"none\" stroke=\"black\" d=\"M318,-90C376.5,-90 388.52,-61.68 445.94,-61.01\"/>\n",
       "<ellipse fill=\"black\" stroke=\"black\" cx=\"447\" cy=\"-61.01\" rx=\"1\" ry=\"1\"/>\n",
       "<text text-anchor=\"middle\" x=\"383\" y=\"-88\" font-family=\"Times,serif\" font-size=\"10.00\">1</text>\n",
       "</g>\n",
       "<!-- CtrlModMul_G1&#45;&gt;CtrlModMul_G4 -->\n",
       "<g id=\"edge7\" class=\"edge\">\n",
       "<title>CtrlModMul_G1:e-&gt;CtrlModMul_G4:w</title>\n",
       "<path fill=\"none\" stroke=\"black\" d=\"M318,-68C346.66,-68 326.7,-120.03 352.7,-122.88\"/>\n",
       "<ellipse fill=\"black\" stroke=\"black\" cx=\"354\" cy=\"-122.95\" rx=\"1\" ry=\"1\"/>\n",
       "<text text-anchor=\"middle\" x=\"336.5\" y=\"-101\" font-family=\"Times,serif\" font-size=\"10.00\">2048</text>\n",
       "</g>\n",
       "<!-- CtrlModMul_G4&#45;&gt;Join -->\n",
       "<g id=\"edge8\" class=\"edge\">\n",
       "<title>CtrlModMul_G4:e-&gt;Join:w</title>\n",
       "<path fill=\"none\" stroke=\"black\" d=\"M411,-145C429.44,-145 428.89,-72.97 445.84,-67.35\"/>\n",
       "<ellipse fill=\"black\" stroke=\"black\" cx=\"447.01\" cy=\"-67.16\" rx=\"1\" ry=\"1\"/>\n",
       "<text text-anchor=\"middle\" x=\"429.5\" y=\"-109\" font-family=\"Times,serif\" font-size=\"10.00\">1</text>\n",
       "</g>\n",
       "<!-- x_G18 -->\n",
       "<g id=\"node9\" class=\"node\">\n",
       "<title>x_G18</title>\n",
       "<text text-anchor=\"middle\" x=\"530\" y=\"-110.3\" font-family=\"Times,serif\" font-size=\"14.00\">x</text>\n",
       "</g>\n",
       "<!-- CtrlModMul_G4&#45;&gt;x_G18 -->\n",
       "<g id=\"edge12\" class=\"edge\">\n",
       "<title>CtrlModMul_G4:e-&gt;x_G18:w</title>\n",
       "<path fill=\"none\" stroke=\"black\" d=\"M411,-123C450.85,-123 460.97,-114.35 499.65,-114.01\"/>\n",
       "<ellipse fill=\"black\" stroke=\"black\" cx=\"501\" cy=\"-114\" rx=\"1\" ry=\"1\"/>\n",
       "<text text-anchor=\"middle\" x=\"454\" y=\"-122\" font-family=\"Times,serif\" font-size=\"10.00\">2048</text>\n",
       "</g>\n",
       "</g>\n",
       "</svg>"
      ],
      "text/plain": [
       "<IPython.core.display.SVG object>"
      ]
     },
     "metadata": {},
     "output_type": "display_data"
    }
   ],
   "source": [
    "show_bloq(modexp_small.decompose_bloq())"
   ]
  },
  {
   "cell_type": "markdown",
   "id": "8662fa01",
   "metadata": {
    "cq.autogen": "ModExp.call_graph.md"
   },
   "source": [
    "### Call Graph"
   ]
  },
  {
   "cell_type": "code",
   "execution_count": 8,
   "id": "9a7d9f5a",
   "metadata": {
    "cq.autogen": "ModExp.call_graph.py"
   },
   "outputs": [
    {
     "data": {
      "image/svg+xml": [
       "<svg xmlns=\"http://www.w3.org/2000/svg\" xmlns:xlink=\"http://www.w3.org/1999/xlink\" width=\"390pt\" height=\"131pt\" viewBox=\"0.00 0.00 390.00 131.00\">\n",
       "<g id=\"graph0\" class=\"graph\" transform=\"scale(1 1) rotate(0) translate(4 127)\">\n",
       "<title>counts</title>\n",
       "<polygon fill=\"white\" stroke=\"transparent\" points=\"-4,4 -4,-127 386,-127 386,4 -4,4\"/>\n",
       "<!-- b0 -->\n",
       "<g id=\"node1\" class=\"node\">\n",
       "<title>b0</title>\n",
       "<polygon fill=\"none\" stroke=\"black\" points=\"342,-123 55,-123 55,-87 342,-87 342,-123\"/>\n",
       "<text text-anchor=\"start\" x=\"174\" y=\"-106.8\" font-family=\"Times,serif\" font-size=\"14.00\">ModExp</text>\n",
       "<text text-anchor=\"start\" x=\"63\" y=\"-96\" font-family=\"monospace\" font-size=\"10.00\">base=g, mod=N, exp_bitsize=n_e, x_bitsize=n_x</text>\n",
       "</g>\n",
       "<!-- b1 -->\n",
       "<g id=\"node2\" class=\"node\">\n",
       "<title>b1</title>\n",
       "<polygon fill=\"none\" stroke=\"black\" points=\"197,-36 0,-36 0,0 197,0 197,-36\"/>\n",
       "<text text-anchor=\"start\" x=\"89\" y=\"-19.8\" font-family=\"Times,serif\" font-size=\"14.00\">|1&gt;</text>\n",
       "<text text-anchor=\"start\" x=\"8\" y=\"-9\" font-family=\"monospace\" font-size=\"10.00\">val=1, bitsize=n_x, state=True</text>\n",
       "</g>\n",
       "<!-- b0&#45;&gt;b1 -->\n",
       "<g id=\"edge1\" class=\"edge\">\n",
       "<title>b0-&gt;b1</title>\n",
       "<path fill=\"none\" stroke=\"black\" d=\"M178.26,-86.8C163.35,-74.13 142.89,-56.73 126.43,-42.74\"/>\n",
       "<polygon fill=\"black\" stroke=\"black\" points=\"128.59,-39.99 118.71,-36.18 124.06,-45.32 128.59,-39.99\"/>\n",
       "<text text-anchor=\"middle\" x=\"158\" y=\"-57.8\" font-family=\"Times,serif\" font-size=\"14.00\">1</text>\n",
       "</g>\n",
       "<!-- b2 -->\n",
       "<g id=\"node3\" class=\"node\">\n",
       "<title>b2</title>\n",
       "<polygon fill=\"none\" stroke=\"black\" points=\"382,-36 215,-36 215,0 382,0 382,-36\"/>\n",
       "<text text-anchor=\"start\" x=\"263\" y=\"-19.8\" font-family=\"Times,serif\" font-size=\"14.00\">CtrlModMul</text>\n",
       "<text text-anchor=\"start\" x=\"223\" y=\"-9\" font-family=\"monospace\" font-size=\"10.00\">k=_k0, mod=N, bitsize=n_x</text>\n",
       "</g>\n",
       "<!-- b0&#45;&gt;b2 -->\n",
       "<g id=\"edge2\" class=\"edge\">\n",
       "<title>b0-&gt;b2</title>\n",
       "<path fill=\"none\" stroke=\"black\" d=\"M218.74,-86.8C233.65,-74.13 254.11,-56.73 270.57,-42.74\"/>\n",
       "<polygon fill=\"black\" stroke=\"black\" points=\"272.94,-45.32 278.29,-36.18 268.41,-39.99 272.94,-45.32\"/>\n",
       "<text text-anchor=\"middle\" x=\"260\" y=\"-57.8\" font-family=\"Times,serif\" font-size=\"14.00\">nₑ</text>\n",
       "</g>\n",
       "</g>\n",
       "</svg>"
      ],
      "text/plain": [
       "<IPython.core.display.SVG object>"
      ]
     },
     "metadata": {},
     "output_type": "display_data"
    },
    {
     "data": {
      "text/markdown": [
       "#### Counts totals:\n",
       " - `CtrlModMul(k=_k0, mod=N, bitsize=n_x)`: $\\displaystyle n_{e}$\n",
       " - `IntState(val=1, bitsize=n_x)`: 1"
      ],
      "text/plain": [
       "<IPython.core.display.Markdown object>"
      ]
     },
     "metadata": {},
     "output_type": "display_data"
    }
   ],
   "source": [
    "from qualtran.resource_counting.generalizers import ignore_split_join\n",
    "modexp_symb_g, modexp_symb_sigma = modexp_symb.call_graph(max_depth=1, generalizer=ignore_split_join)\n",
    "show_call_graph(modexp_symb_g)\n",
    "show_counts_sigma(modexp_symb_sigma)"
   ]
  }
 ],
 "metadata": {
  "kernelspec": {
   "display_name": "Python 3 (ipykernel)",
   "language": "python",
   "name": "python3"
  },
  "language_info": {
   "codemirror_mode": {
    "name": "ipython",
    "version": 3
   },
   "file_extension": ".py",
   "mimetype": "text/x-python",
   "name": "python",
   "nbconvert_exporter": "python",
   "pygments_lexer": "ipython3",
   "version": "3.11.8"
  },
  "widgets": {
   "application/vnd.jupyter.widget-state+json": {
    "state": {
     "1ce465680ecc40b38eb05e85db18a827": {
      "model_module": "@jupyter-widgets/base",
      "model_module_version": "2.0.0",
      "model_name": "LayoutModel",
      "state": {
       "_model_module": "@jupyter-widgets/base",
       "_model_module_version": "2.0.0",
       "_model_name": "LayoutModel",
       "_view_count": null,
       "_view_module": "@jupyter-widgets/base",
       "_view_module_version": "2.0.0",
       "_view_name": "LayoutView",
       "align_content": null,
       "align_items": null,
       "align_self": null,
       "border_bottom": null,
       "border_left": null,
       "border_right": null,
       "border_top": null,
       "bottom": null,
       "display": null,
       "flex": null,
       "flex_flow": null,
       "grid_area": null,
       "grid_auto_columns": null,
       "grid_auto_flow": null,
       "grid_auto_rows": null,
       "grid_column": null,
       "grid_gap": null,
       "grid_row": null,
       "grid_template_areas": null,
       "grid_template_columns": null,
       "grid_template_rows": null,
       "height": null,
       "justify_content": null,
       "justify_items": null,
       "left": null,
       "margin": null,
       "max_height": null,
       "max_width": null,
       "min_height": null,
       "min_width": null,
       "object_fit": null,
       "object_position": null,
       "order": null,
       "overflow": null,
       "padding": null,
       "right": null,
       "top": null,
       "visibility": null,
       "width": null
      }
     },
     "4eda37cff3bb40bf977997c793eeb64f": {
      "model_module": "@jupyter-widgets/output",
      "model_module_version": "1.0.0",
      "model_name": "OutputModel",
      "state": {
       "_dom_classes": [],
       "_model_module": "@jupyter-widgets/output",
       "_model_module_version": "1.0.0",
       "_model_name": "OutputModel",
       "_view_count": null,
       "_view_module": "@jupyter-widgets/output",
       "_view_module_version": "1.0.0",
       "_view_name": "OutputView",
       "layout": "IPY_MODEL_1ce465680ecc40b38eb05e85db18a827",
       "msg_id": "",
       "outputs": [
        {
         "data": {
          "text/markdown": "`modexp`",
          "text/plain": "<IPython.core.display.Markdown object>"
         },
         "metadata": {},
         "output_type": "display_data"
        },
        {
         "data": {
          "image/svg+xml": "<svg xmlns=\"http://www.w3.org/2000/svg\" xmlns:xlink=\"http://www.w3.org/1999/xlink\" width=\"270pt\" height=\"98pt\" viewBox=\"0.00 0.00 270.00 98.00\">\n<g id=\"graph0\" class=\"graph\" transform=\"scale(1 1) rotate(0) translate(4 94)\">\n<title>my_graph</title>\n<polygon fill=\"white\" stroke=\"transparent\" points=\"-4,4 -4,-94 266,-94 266,4 -4,4\"/>\n<!-- exponent_G3 -->\n<g id=\"node1\" class=\"node\">\n<title>exponent_G3</title>\n<text text-anchor=\"middle\" x=\"33\" y=\"-52.3\" font-family=\"Times,serif\" font-size=\"14.00\">exponent</text>\n</g>\n<!-- ModExp -->\n<g id=\"node2\" class=\"node\">\n<title>ModExp</title>\n<polygon fill=\"none\" stroke=\"black\" points=\"103,-66 103,-83 159,-83 159,-66 103,-66\"/>\n<text text-anchor=\"start\" x=\"109.5\" y=\"-72\" font-family=\"Times,serif\" font-size=\"10.00\">9^e % 255</text>\n<polygon fill=\"none\" stroke=\"black\" points=\"103,-45 103,-66 159,-66 159,-45 103,-45\"/>\n<text text-anchor=\"start\" x=\"106\" y=\"-51.8\" font-family=\"Times,serif\" font-size=\"14.00\">exponent</text>\n<polygon fill=\"none\" stroke=\"black\" points=\"103,-24 103,-45 127,-45 127,-24 103,-24\"/>\n<polygon fill=\"none\" stroke=\"black\" points=\"127,-24 127,-45 159,-45 159,-24 127,-24\"/>\n<text text-anchor=\"start\" x=\"139.5\" y=\"-30.8\" font-family=\"Times,serif\" font-size=\"14.00\">x</text>\n</g>\n<!-- exponent_G3&#45;&gt;ModExp -->\n<g id=\"edge1\" class=\"edge\">\n<title>exponent_G3:e-&gt;ModExp:w</title>\n<path fill=\"none\" stroke=\"black\" d=\"M66,-56C81.67,-56 86.14,-56 100.77,-56\"/>\n<ellipse fill=\"black\" stroke=\"black\" cx=\"102\" cy=\"-56\" rx=\"1\" ry=\"1\"/>\n<text text-anchor=\"middle\" x=\"84.5\" y=\"-59\" font-family=\"Times,serif\" font-size=\"10.00\">16</text>\n</g>\n<!-- exponent_G1 -->\n<g id=\"node3\" class=\"node\">\n<title>exponent_G1</title>\n<text text-anchor=\"middle\" x=\"229\" y=\"-68.3\" font-family=\"Times,serif\" font-size=\"14.00\">exponent</text>\n</g>\n<!-- ModExp&#45;&gt;exponent_G1 -->\n<g id=\"edge2\" class=\"edge\">\n<title>ModExp:e-&gt;exponent_G1:w</title>\n<path fill=\"none\" stroke=\"black\" d=\"M159,-56C176.22,-56 177.97,-70.77 193.98,-71.93\"/>\n<ellipse fill=\"black\" stroke=\"black\" cx=\"195\" cy=\"-71.96\" rx=\"1\" ry=\"1\"/>\n<text text-anchor=\"middle\" x=\"177.5\" y=\"-67\" font-family=\"Times,serif\" font-size=\"10.00\">16</text>\n</g>\n<!-- x_G4 -->\n<g id=\"node4\" class=\"node\">\n<title>x_G4</title>\n<text text-anchor=\"middle\" x=\"229\" y=\"-14.3\" font-family=\"Times,serif\" font-size=\"14.00\">x</text>\n</g>\n<!-- ModExp&#45;&gt;x_G4 -->\n<g id=\"edge3\" class=\"edge\">\n<title>ModExp:e-&gt;x_G4:w</title>\n<path fill=\"none\" stroke=\"black\" d=\"M159,-34C178.2,-34 180.84,-19.23 198.74,-18.07\"/>\n<ellipse fill=\"black\" stroke=\"black\" cx=\"200\" cy=\"-18.03\" rx=\"1\" ry=\"1\"/>\n<text text-anchor=\"middle\" x=\"177.5\" y=\"-31\" font-family=\"Times,serif\" font-size=\"10.00\">8</text>\n</g>\n</g>\n</svg>",
          "text/plain": "<IPython.core.display.SVG object>"
         },
         "metadata": {},
         "output_type": "display_data"
        }
       ],
       "tabbable": null,
       "tooltip": null
      }
     },
     "56ceebbeae8f4f059004b00d3959ced2": {
      "model_module": "@jupyter-widgets/output",
      "model_module_version": "1.0.0",
      "model_name": "OutputModel",
      "state": {
       "_dom_classes": [],
       "_model_module": "@jupyter-widgets/output",
       "_model_module_version": "1.0.0",
       "_model_name": "OutputModel",
       "_view_count": null,
       "_view_module": "@jupyter-widgets/output",
       "_view_module_version": "1.0.0",
       "_view_name": "OutputView",
       "layout": "IPY_MODEL_aee0f202fef341e3b0644ddb82caab52",
       "msg_id": "",
       "outputs": [
        {
         "data": {
          "text/markdown": "`modexp_small`",
          "text/plain": "<IPython.core.display.Markdown object>"
         },
         "metadata": {},
         "output_type": "display_data"
        },
        {
         "data": {
          "image/svg+xml": "<svg xmlns=\"http://www.w3.org/2000/svg\" xmlns:xlink=\"http://www.w3.org/1999/xlink\" width=\"270pt\" height=\"98pt\" viewBox=\"0.00 0.00 270.00 98.00\">\n<g id=\"graph0\" class=\"graph\" transform=\"scale(1 1) rotate(0) translate(4 94)\">\n<title>my_graph</title>\n<polygon fill=\"white\" stroke=\"transparent\" points=\"-4,4 -4,-94 266,-94 266,4 -4,4\"/>\n<!-- exponent_G3 -->\n<g id=\"node1\" class=\"node\">\n<title>exponent_G3</title>\n<text text-anchor=\"middle\" x=\"33\" y=\"-52.3\" font-family=\"Times,serif\" font-size=\"14.00\">exponent</text>\n</g>\n<!-- ModExp -->\n<g id=\"node2\" class=\"node\">\n<title>ModExp</title>\n<polygon fill=\"none\" stroke=\"black\" points=\"103,-66 103,-83 159,-83 159,-66 103,-66\"/>\n<text text-anchor=\"start\" x=\"112\" y=\"-72\" font-family=\"Times,serif\" font-size=\"10.00\">3^e % 15</text>\n<polygon fill=\"none\" stroke=\"black\" points=\"103,-45 103,-66 159,-66 159,-45 103,-45\"/>\n<text text-anchor=\"start\" x=\"106\" y=\"-51.8\" font-family=\"Times,serif\" font-size=\"14.00\">exponent</text>\n<polygon fill=\"none\" stroke=\"black\" points=\"103,-24 103,-45 127,-45 127,-24 103,-24\"/>\n<polygon fill=\"none\" stroke=\"black\" points=\"127,-24 127,-45 159,-45 159,-24 127,-24\"/>\n<text text-anchor=\"start\" x=\"139.5\" y=\"-30.8\" font-family=\"Times,serif\" font-size=\"14.00\">x</text>\n</g>\n<!-- exponent_G3&#45;&gt;ModExp -->\n<g id=\"edge1\" class=\"edge\">\n<title>exponent_G3:e-&gt;ModExp:w</title>\n<path fill=\"none\" stroke=\"black\" d=\"M66,-56C81.67,-56 86.14,-56 100.77,-56\"/>\n<ellipse fill=\"black\" stroke=\"black\" cx=\"102\" cy=\"-56\" rx=\"1\" ry=\"1\"/>\n<text text-anchor=\"middle\" x=\"84.5\" y=\"-59\" font-family=\"Times,serif\" font-size=\"10.00\">3</text>\n</g>\n<!-- exponent_G1 -->\n<g id=\"node3\" class=\"node\">\n<title>exponent_G1</title>\n<text text-anchor=\"middle\" x=\"229\" y=\"-68.3\" font-family=\"Times,serif\" font-size=\"14.00\">exponent</text>\n</g>\n<!-- ModExp&#45;&gt;exponent_G1 -->\n<g id=\"edge2\" class=\"edge\">\n<title>ModExp:e-&gt;exponent_G1:w</title>\n<path fill=\"none\" stroke=\"black\" d=\"M159,-56C176.22,-56 177.97,-70.77 193.98,-71.93\"/>\n<ellipse fill=\"black\" stroke=\"black\" cx=\"195\" cy=\"-71.96\" rx=\"1\" ry=\"1\"/>\n<text text-anchor=\"middle\" x=\"177.5\" y=\"-67\" font-family=\"Times,serif\" font-size=\"10.00\">3</text>\n</g>\n<!-- x_G4 -->\n<g id=\"node4\" class=\"node\">\n<title>x_G4</title>\n<text text-anchor=\"middle\" x=\"229\" y=\"-14.3\" font-family=\"Times,serif\" font-size=\"14.00\">x</text>\n</g>\n<!-- ModExp&#45;&gt;x_G4 -->\n<g id=\"edge3\" class=\"edge\">\n<title>ModExp:e-&gt;x_G4:w</title>\n<path fill=\"none\" stroke=\"black\" d=\"M159,-34C178.2,-34 180.84,-19.23 198.74,-18.07\"/>\n<ellipse fill=\"black\" stroke=\"black\" cx=\"200\" cy=\"-18.03\" rx=\"1\" ry=\"1\"/>\n<text text-anchor=\"middle\" x=\"177.5\" y=\"-31\" font-family=\"Times,serif\" font-size=\"10.00\">2048</text>\n</g>\n</g>\n</svg>",
          "text/plain": "<IPython.core.display.SVG object>"
         },
         "metadata": {},
         "output_type": "display_data"
        }
       ],
       "tabbable": null,
       "tooltip": null
      }
     },
     "8d5997aa0d774242a22b163355d16929": {
      "model_module": "@jupyter-widgets/base",
      "model_module_version": "2.0.0",
      "model_name": "LayoutModel",
      "state": {
       "_model_module": "@jupyter-widgets/base",
       "_model_module_version": "2.0.0",
       "_model_name": "LayoutModel",
       "_view_count": null,
       "_view_module": "@jupyter-widgets/base",
       "_view_module_version": "2.0.0",
       "_view_name": "LayoutView",
       "align_content": null,
       "align_items": null,
       "align_self": null,
       "border_bottom": null,
       "border_left": null,
       "border_right": null,
       "border_top": null,
       "bottom": null,
       "display": null,
       "flex": null,
       "flex_flow": null,
       "grid_area": null,
       "grid_auto_columns": null,
       "grid_auto_flow": null,
       "grid_auto_rows": null,
       "grid_column": null,
       "grid_gap": null,
       "grid_row": null,
       "grid_template_areas": null,
       "grid_template_columns": null,
       "grid_template_rows": null,
       "height": null,
       "justify_content": null,
       "justify_items": null,
       "left": null,
       "margin": null,
       "max_height": null,
       "max_width": null,
       "min_height": null,
       "min_width": null,
       "object_fit": null,
       "object_position": null,
       "order": null,
       "overflow": null,
       "padding": null,
       "right": null,
       "top": null,
       "visibility": null,
       "width": null
      }
     },
     "aee0f202fef341e3b0644ddb82caab52": {
      "model_module": "@jupyter-widgets/base",
      "model_module_version": "2.0.0",
      "model_name": "LayoutModel",
      "state": {
       "_model_module": "@jupyter-widgets/base",
       "_model_module_version": "2.0.0",
       "_model_name": "LayoutModel",
       "_view_count": null,
       "_view_module": "@jupyter-widgets/base",
       "_view_module_version": "2.0.0",
       "_view_name": "LayoutView",
       "align_content": null,
       "align_items": null,
       "align_self": null,
       "border_bottom": null,
       "border_left": null,
       "border_right": null,
       "border_top": null,
       "bottom": null,
       "display": null,
       "flex": null,
       "flex_flow": null,
       "grid_area": null,
       "grid_auto_columns": null,
       "grid_auto_flow": null,
       "grid_auto_rows": null,
       "grid_column": null,
       "grid_gap": null,
       "grid_row": null,
       "grid_template_areas": null,
       "grid_template_columns": null,
       "grid_template_rows": null,
       "height": null,
       "justify_content": null,
       "justify_items": null,
       "left": null,
       "margin": null,
       "max_height": null,
       "max_width": null,
       "min_height": null,
       "min_width": null,
       "object_fit": null,
       "object_position": null,
       "order": null,
       "overflow": null,
       "padding": null,
       "right": null,
       "top": null,
       "visibility": null,
       "width": null
      }
     },
     "bcc8d6aca0fd4ae4b29ec8b4709e20d5": {
      "model_module": "@jupyter-widgets/controls",
      "model_module_version": "2.0.0",
      "model_name": "HBoxModel",
      "state": {
       "_dom_classes": [],
       "_model_module": "@jupyter-widgets/controls",
       "_model_module_version": "2.0.0",
       "_model_name": "HBoxModel",
       "_view_count": null,
       "_view_module": "@jupyter-widgets/controls",
       "_view_module_version": "2.0.0",
       "_view_name": "HBoxView",
       "box_style": "",
       "children": [
        "IPY_MODEL_f91d4fe61b64423f845adf3a4a45bc05",
        "IPY_MODEL_56ceebbeae8f4f059004b00d3959ced2",
        "IPY_MODEL_4eda37cff3bb40bf977997c793eeb64f"
       ],
       "layout": "IPY_MODEL_8d5997aa0d774242a22b163355d16929",
       "tabbable": null,
       "tooltip": null
      }
     },
     "cb918052cdb843d195003f772f1783bb": {
      "model_module": "@jupyter-widgets/base",
      "model_module_version": "2.0.0",
      "model_name": "LayoutModel",
      "state": {
       "_model_module": "@jupyter-widgets/base",
       "_model_module_version": "2.0.0",
       "_model_name": "LayoutModel",
       "_view_count": null,
       "_view_module": "@jupyter-widgets/base",
       "_view_module_version": "2.0.0",
       "_view_name": "LayoutView",
       "align_content": null,
       "align_items": null,
       "align_self": null,
       "border_bottom": null,
       "border_left": null,
       "border_right": null,
       "border_top": null,
       "bottom": null,
       "display": null,
       "flex": null,
       "flex_flow": null,
       "grid_area": null,
       "grid_auto_columns": null,
       "grid_auto_flow": null,
       "grid_auto_rows": null,
       "grid_column": null,
       "grid_gap": null,
       "grid_row": null,
       "grid_template_areas": null,
       "grid_template_columns": null,
       "grid_template_rows": null,
       "height": null,
       "justify_content": null,
       "justify_items": null,
       "left": null,
       "margin": null,
       "max_height": null,
       "max_width": null,
       "min_height": null,
       "min_width": null,
       "object_fit": null,
       "object_position": null,
       "order": null,
       "overflow": null,
       "padding": null,
       "right": null,
       "top": null,
       "visibility": null,
       "width": null
      }
     },
     "f91d4fe61b64423f845adf3a4a45bc05": {
      "model_module": "@jupyter-widgets/output",
      "model_module_version": "1.0.0",
      "model_name": "OutputModel",
      "state": {
       "_dom_classes": [],
       "_model_module": "@jupyter-widgets/output",
       "_model_module_version": "1.0.0",
       "_model_name": "OutputModel",
       "_view_count": null,
       "_view_module": "@jupyter-widgets/output",
       "_view_module_version": "1.0.0",
       "_view_name": "OutputView",
       "layout": "IPY_MODEL_cb918052cdb843d195003f772f1783bb",
       "msg_id": "",
       "outputs": [
        {
         "data": {
          "text/markdown": "`modexp_symb`",
          "text/plain": "<IPython.core.display.Markdown object>"
         },
         "metadata": {},
         "output_type": "display_data"
        },
        {
         "data": {
          "image/svg+xml": "<svg xmlns=\"http://www.w3.org/2000/svg\" xmlns:xlink=\"http://www.w3.org/1999/xlink\" width=\"270pt\" height=\"98pt\" viewBox=\"0.00 0.00 270.00 98.00\">\n<g id=\"graph0\" class=\"graph\" transform=\"scale(1 1) rotate(0) translate(4 94)\">\n<title>my_graph</title>\n<polygon fill=\"white\" stroke=\"transparent\" points=\"-4,4 -4,-94 266,-94 266,4 -4,4\"/>\n<!-- exponent_G4 -->\n<g id=\"node1\" class=\"node\">\n<title>exponent_G4</title>\n<text text-anchor=\"middle\" x=\"33\" y=\"-52.3\" font-family=\"Times,serif\" font-size=\"14.00\">exponent</text>\n</g>\n<!-- ModExp -->\n<g id=\"node2\" class=\"node\">\n<title>ModExp</title>\n<polygon fill=\"none\" stroke=\"black\" points=\"103,-66 103,-83 159,-83 159,-66 103,-66\"/>\n<text text-anchor=\"start\" x=\"113.5\" y=\"-72\" font-family=\"Times,serif\" font-size=\"10.00\">g^e % N</text>\n<polygon fill=\"none\" stroke=\"black\" points=\"103,-45 103,-66 159,-66 159,-45 103,-45\"/>\n<text text-anchor=\"start\" x=\"106\" y=\"-51.8\" font-family=\"Times,serif\" font-size=\"14.00\">exponent</text>\n<polygon fill=\"none\" stroke=\"black\" points=\"103,-24 103,-45 127,-45 127,-24 103,-24\"/>\n<polygon fill=\"none\" stroke=\"black\" points=\"127,-24 127,-45 159,-45 159,-24 127,-24\"/>\n<text text-anchor=\"start\" x=\"139.5\" y=\"-30.8\" font-family=\"Times,serif\" font-size=\"14.00\">x</text>\n</g>\n<!-- exponent_G4&#45;&gt;ModExp -->\n<g id=\"edge1\" class=\"edge\">\n<title>exponent_G4:e-&gt;ModExp:w</title>\n<path fill=\"none\" stroke=\"black\" d=\"M66,-56C81.67,-56 86.14,-56 100.77,-56\"/>\n<ellipse fill=\"black\" stroke=\"black\" cx=\"102\" cy=\"-56\" rx=\"1\" ry=\"1\"/>\n<text text-anchor=\"middle\" x=\"84.5\" y=\"-59\" font-family=\"Times,serif\" font-size=\"10.00\">n_e</text>\n</g>\n<!-- exponent_G3 -->\n<g id=\"node3\" class=\"node\">\n<title>exponent_G3</title>\n<text text-anchor=\"middle\" x=\"229\" y=\"-68.3\" font-family=\"Times,serif\" font-size=\"14.00\">exponent</text>\n</g>\n<!-- ModExp&#45;&gt;exponent_G3 -->\n<g id=\"edge2\" class=\"edge\">\n<title>ModExp:e-&gt;exponent_G3:w</title>\n<path fill=\"none\" stroke=\"black\" d=\"M159,-56C176.22,-56 177.97,-70.77 193.98,-71.93\"/>\n<ellipse fill=\"black\" stroke=\"black\" cx=\"195\" cy=\"-71.96\" rx=\"1\" ry=\"1\"/>\n<text text-anchor=\"middle\" x=\"177.5\" y=\"-67\" font-family=\"Times,serif\" font-size=\"10.00\">n_e</text>\n</g>\n<!-- x_G2 -->\n<g id=\"node4\" class=\"node\">\n<title>x_G2</title>\n<text text-anchor=\"middle\" x=\"229\" y=\"-14.3\" font-family=\"Times,serif\" font-size=\"14.00\">x</text>\n</g>\n<!-- ModExp&#45;&gt;x_G2 -->\n<g id=\"edge3\" class=\"edge\">\n<title>ModExp:e-&gt;x_G2:w</title>\n<path fill=\"none\" stroke=\"black\" d=\"M159,-34C178.2,-34 180.84,-19.23 198.74,-18.07\"/>\n<ellipse fill=\"black\" stroke=\"black\" cx=\"200\" cy=\"-18.03\" rx=\"1\" ry=\"1\"/>\n<text text-anchor=\"middle\" x=\"177.5\" y=\"-31\" font-family=\"Times,serif\" font-size=\"10.00\">n_x</text>\n</g>\n</g>\n</svg>",
          "text/plain": "<IPython.core.display.SVG object>"
         },
         "metadata": {},
         "output_type": "display_data"
        }
       ],
       "tabbable": null,
       "tooltip": null
      }
     }
    },
    "version_major": 2,
    "version_minor": 0
   }
  }
 },
 "nbformat": 4,
 "nbformat_minor": 5
}
