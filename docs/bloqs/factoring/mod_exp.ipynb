{
 "cells": [
  {
   "cell_type": "markdown",
   "id": "5947b041",
   "metadata": {
    "cq.autogen": "title_cell"
   },
   "source": [
    "# Modular Exponentiation"
   ]
  },
  {
   "cell_type": "code",
   "execution_count": 1,
   "id": "ce6b0d51",
   "metadata": {
    "cq.autogen": "top_imports"
   },
   "outputs": [],
   "source": [
    "from qualtran import Bloq, CompositeBloq, BloqBuilder, Signature, Register\n",
    "from qualtran.drawing import show_bloq, show_call_graph, show_counts_sigma\n",
    "from typing import *\n",
    "import numpy as np\n",
    "import sympy\n",
    "import cirq"
   ]
  },
  {
   "cell_type": "markdown",
   "id": "2f68374c",
   "metadata": {
    "cq.autogen": "ModExp.bloq_doc.md"
   },
   "source": [
    "## `ModExp`\n",
    "Perform $b^e \\mod{m}$ for constant `base` $b$, `mod` $m$, and quantum `exponent` $e$.\n",
    "\n",
    "Modular exponentiation is the main computational primitive for quantum factoring algorithms.\n",
    "We follow [GE2019]'s \"reference implementation\" for factoring. See `ModExp.make_for_shor`\n",
    "to set the class attributes for a factoring run.\n",
    "\n",
    "This bloq decomposes into controlled modular exponentiation for each exponent bit.\n",
    "\n",
    "#### Parameters\n",
    " - `base`: The integer base of the exponentiation\n",
    " - `mod`: The integer modulus\n",
    " - `exp_bitsize`: The size of the `exponent` thru-register\n",
    " - `x_bitsize`: The size of the `x` right-register \n",
    "\n",
    "#### Registers\n",
    " - `exponent`: The exponent\n",
    " - `x [right]`: The output register containing the result of the exponentiation \n",
    "\n",
    "#### References\n",
    "[GE2019] How to factor 2048 bit RSA integers in 8 hours using 20 million noisy qubits.\n",
    "[arxiv:1905.09749](https://arxiv.org/abs/1905.09749). Gidney and Ekerå. 2019.\n"
   ]
  },
  {
   "cell_type": "code",
   "execution_count": 2,
   "id": "4a1b8a2a",
   "metadata": {
    "cq.autogen": "ModExp.bloq_doc.py"
   },
   "outputs": [],
   "source": [
    "from qualtran.bloqs.factoring.mod_exp import ModExp"
   ]
  },
  {
   "cell_type": "markdown",
   "id": "902ec939",
   "metadata": {
    "cq.autogen": "ModExp.example_instances.md"
   },
   "source": [
    "### Example Instances"
   ]
  },
  {
   "cell_type": "code",
   "execution_count": 3,
   "id": "4c5aac47",
   "metadata": {
    "cq.autogen": "ModExp.modexp_small"
   },
   "outputs": [],
   "source": [
    "modexp_small = ModExp(base=3, mod=15, exp_bitsize=3, x_bitsize=2048)"
   ]
  },
  {
   "cell_type": "code",
   "execution_count": 4,
   "id": "41d94c81",
   "metadata": {
    "cq.autogen": "ModExp.modexp"
   },
   "outputs": [],
   "source": [
    "modexp = ModExp.make_for_shor(big_n=15 * 17, g=9)"
   ]
  },
  {
   "cell_type": "code",
   "execution_count": 5,
   "id": "5c0c6c06",
   "metadata": {
    "cq.autogen": "ModExp.modexp_symb"
   },
   "outputs": [],
   "source": [
    "g, N, n_e, n_x = sympy.symbols('g N n_e, n_x')\n",
    "modexp_symb = ModExp(base=g, mod=N, exp_bitsize=n_e, x_bitsize=n_x)"
   ]
  },
  {
   "cell_type": "markdown",
   "id": "a55a51df",
   "metadata": {
    "cq.autogen": "ModExp.graphical_signature.md"
   },
   "source": [
    "#### Graphical Signature"
   ]
  },
  {
   "cell_type": "code",
   "execution_count": 6,
   "id": "ce953a6d",
   "metadata": {
    "cq.autogen": "ModExp.graphical_signature.py"
   },
   "outputs": [
    {
     "data": {
      "application/vnd.jupyter.widget-view+json": {
       "model_id": "238ee7b9afc8407cad61186c1412fe10",
       "version_major": 2,
       "version_minor": 0
      },
      "text/plain": [
       "HBox(children=(Output(outputs=({'output_type': 'display_data', 'data': {'text/plain': '<IPython.core.display.M…"
      ]
     },
     "metadata": {},
     "output_type": "display_data"
    }
   ],
   "source": [
    "from qualtran.drawing import show_bloqs\n",
    "show_bloqs([modexp_symb, modexp_small, modexp],\n",
    "           ['`modexp_symb`', '`modexp_small`', '`modexp`'])"
   ]
  },
  {
   "cell_type": "code",
   "execution_count": 7,
   "id": "a0e53334",
   "metadata": {},
   "outputs": [
    {
     "data": {
      "image/svg+xml": [
       "<svg xmlns=\"http://www.w3.org/2000/svg\" xmlns:xlink=\"http://www.w3.org/1999/xlink\" width=\"571pt\" height=\"181pt\" viewBox=\"0.00 0.00 571.00 180.50\">\n",
       "<g id=\"graph0\" class=\"graph\" transform=\"scale(1 1) rotate(0) translate(4 176.5)\">\n",
       "<title>my_graph</title>\n",
       "<polygon fill=\"white\" stroke=\"transparent\" points=\"-4,4 -4,-176.5 567,-176.5 567,4 -4,4\"/>\n",
       "<!-- exponent -->\n",
       "<g id=\"node1\" class=\"node\">\n",
       "<title>exponent</title>\n",
       "<text text-anchor=\"middle\" x=\"33\" y=\"-92.3\" font-family=\"Times,serif\" font-size=\"14.00\">exponent</text>\n",
       "</g>\n",
       "<!-- Split -->\n",
       "<g id=\"node7\" class=\"node\">\n",
       "<title>Split</title>\n",
       "<polygon fill=\"none\" stroke=\"black\" points=\"111.5,-105 111.5,-111 123.5,-111 123.5,-105 111.5,-105\"/>\n",
       "<polygon fill=\"none\" stroke=\"black\" points=\"111.5,-87 111.5,-105 117.5,-105 117.5,-87 111.5,-87\"/>\n",
       "<polygon fill=\"none\" stroke=\"black\" points=\"117.5,-99 117.5,-105 123.5,-105 123.5,-99 117.5,-99\"/>\n",
       "<polygon fill=\"none\" stroke=\"black\" points=\"117.5,-93 117.5,-99 123.5,-99 123.5,-93 117.5,-93\"/>\n",
       "<polygon fill=\"none\" stroke=\"black\" points=\"117.5,-87 117.5,-93 123.5,-93 123.5,-87 117.5,-87\"/>\n",
       "</g>\n",
       "<!-- exponent&#45;&gt;Split -->\n",
       "<g id=\"edge1\" class=\"edge\">\n",
       "<title>exponent:e-&gt;Split:w</title>\n",
       "<path fill=\"none\" stroke=\"black\" d=\"M66,-96C85.01,-96 90.31,-96 108.25,-96\"/>\n",
       "<ellipse fill=\"black\" stroke=\"black\" cx=\"109.5\" cy=\"-96\" rx=\"1\" ry=\"1\"/>\n",
       "<text text-anchor=\"middle\" x=\"84.5\" y=\"-99\" font-family=\"Times,serif\" font-size=\"10.00\">3</text>\n",
       "</g>\n",
       "<!-- CtrlModMul -->\n",
       "<g id=\"node2\" class=\"node\">\n",
       "<title>CtrlModMul</title>\n",
       "<polygon fill=\"none\" stroke=\"black\" points=\"169,-42 169,-59 225,-59 225,-42 169,-42\"/>\n",
       "<text text-anchor=\"start\" x=\"172\" y=\"-48\" font-family=\"Times,serif\" font-size=\"10.00\">x *= 3 % 15</text>\n",
       "<polygon fill=\"none\" stroke=\"black\" points=\"169,-21 169,-42 225,-42 225,-21 169,-21\"/>\n",
       "<text text-anchor=\"start\" x=\"187.5\" y=\"-27.8\" font-family=\"Times,serif\" font-size=\"14.00\">ctrl</text>\n",
       "<polygon fill=\"none\" stroke=\"black\" points=\"169,0 169,-21 225,-21 225,0 169,0\"/>\n",
       "<text text-anchor=\"start\" x=\"193.5\" y=\"-6.8\" font-family=\"Times,serif\" font-size=\"14.00\">x</text>\n",
       "</g>\n",
       "<!-- Join -->\n",
       "<g id=\"node3\" class=\"node\">\n",
       "<title>Join</title>\n",
       "<polygon fill=\"none\" stroke=\"black\" points=\"448,-70 448,-76 460,-76 460,-70 448,-70\"/>\n",
       "<polygon fill=\"none\" stroke=\"black\" points=\"448,-64 448,-70 454,-70 454,-64 448,-64\"/>\n",
       "<polygon fill=\"none\" stroke=\"black\" points=\"454,-52 454,-70 460,-70 460,-52 454,-52\"/>\n",
       "<polygon fill=\"none\" stroke=\"black\" points=\"448,-58 448,-64 454,-64 454,-58 448,-58\"/>\n",
       "<polygon fill=\"none\" stroke=\"black\" points=\"448,-52 448,-58 454,-58 454,-52 448,-52\"/>\n",
       "</g>\n",
       "<!-- CtrlModMul&#45;&gt;Join -->\n",
       "<g id=\"edge10\" class=\"edge\">\n",
       "<title>CtrlModMul:e-&gt;Join:w</title>\n",
       "<path fill=\"none\" stroke=\"black\" d=\"M225,-32C323.96,-32 348.04,-54.69 445.97,-55\"/>\n",
       "<ellipse fill=\"black\" stroke=\"black\" cx=\"447\" cy=\"-55\" rx=\"1\" ry=\"1\"/>\n",
       "<text text-anchor=\"middle\" x=\"336.5\" y=\"-47\" font-family=\"Times,serif\" font-size=\"10.00\">1</text>\n",
       "</g>\n",
       "<!-- CtrlModMul_G3 -->\n",
       "<g id=\"node6\" class=\"node\">\n",
       "<title>CtrlModMul_G3</title>\n",
       "<polygon fill=\"none\" stroke=\"black\" points=\"262,-100 262,-117 318,-117 318,-100 262,-100\"/>\n",
       "<text text-anchor=\"start\" x=\"265\" y=\"-106\" font-family=\"Times,serif\" font-size=\"10.00\">x *= 9 % 15</text>\n",
       "<polygon fill=\"none\" stroke=\"black\" points=\"262,-79 262,-100 318,-100 318,-79 262,-79\"/>\n",
       "<text text-anchor=\"start\" x=\"280.5\" y=\"-85.8\" font-family=\"Times,serif\" font-size=\"14.00\">ctrl</text>\n",
       "<polygon fill=\"none\" stroke=\"black\" points=\"262,-58 262,-79 318,-79 318,-58 262,-58\"/>\n",
       "<text text-anchor=\"start\" x=\"286.5\" y=\"-64.8\" font-family=\"Times,serif\" font-size=\"14.00\">x</text>\n",
       "</g>\n",
       "<!-- CtrlModMul&#45;&gt;CtrlModMul_G3 -->\n",
       "<g id=\"edge5\" class=\"edge\">\n",
       "<title>CtrlModMul:e-&gt;CtrlModMul_G3:w</title>\n",
       "<path fill=\"none\" stroke=\"black\" d=\"M225,-10C254.86,-10 232.53,-65.31 259.94,-67.91\"/>\n",
       "<ellipse fill=\"black\" stroke=\"black\" cx=\"261\" cy=\"-67.95\" rx=\"1\" ry=\"1\"/>\n",
       "<text text-anchor=\"middle\" x=\"243.5\" y=\"-46\" font-family=\"Times,serif\" font-size=\"10.00\">2048</text>\n",
       "</g>\n",
       "<!-- exponent_G13 -->\n",
       "<g id=\"node8\" class=\"node\">\n",
       "<title>exponent_G13</title>\n",
       "<text text-anchor=\"middle\" x=\"530\" y=\"-56.3\" font-family=\"Times,serif\" font-size=\"14.00\">exponent</text>\n",
       "</g>\n",
       "<!-- Join&#45;&gt;exponent_G13 -->\n",
       "<g id=\"edge11\" class=\"edge\">\n",
       "<title>Join:e-&gt;exponent_G13:w</title>\n",
       "<path fill=\"none\" stroke=\"black\" d=\"M460,-61C475.68,-61 480.14,-60.09 494.77,-60.01\"/>\n",
       "<ellipse fill=\"black\" stroke=\"black\" cx=\"496\" cy=\"-60\" rx=\"1\" ry=\"1\"/>\n",
       "<text text-anchor=\"middle\" x=\"478.5\" y=\"-64\" font-family=\"Times,serif\" font-size=\"10.00\">3</text>\n",
       "</g>\n",
       "<!-- IntState -->\n",
       "<g id=\"node4\" class=\"node\">\n",
       "<title>IntState</title>\n",
       "<polygon fill=\"none\" stroke=\"black\" points=\"103.5,-21 103.5,-38 132.5,-38 132.5,-21 103.5,-21\"/>\n",
       "<text text-anchor=\"start\" x=\"115\" y=\"-27\" font-family=\"Times,serif\" font-size=\"10.00\">1</text>\n",
       "<polygon fill=\"none\" stroke=\"black\" points=\"103.5,0 103.5,-21 109.5,-21 109.5,0 103.5,0\"/>\n",
       "<polygon fill=\"none\" stroke=\"black\" points=\"109.5,0 109.5,-21 132.5,-21 132.5,0 109.5,0\"/>\n",
       "<text text-anchor=\"start\" x=\"112.5\" y=\"-6.8\" font-family=\"Times,serif\" font-size=\"14.00\">val</text>\n",
       "</g>\n",
       "<!-- IntState&#45;&gt;CtrlModMul -->\n",
       "<g id=\"edge3\" class=\"edge\">\n",
       "<title>IntState:e-&gt;CtrlModMul:w</title>\n",
       "<path fill=\"none\" stroke=\"black\" d=\"M132,-10C147.67,-10 152.14,-10 166.77,-10\"/>\n",
       "<ellipse fill=\"black\" stroke=\"black\" cx=\"168\" cy=\"-10\" rx=\"1\" ry=\"1\"/>\n",
       "<text text-anchor=\"middle\" x=\"150.5\" y=\"-13\" font-family=\"Times,serif\" font-size=\"10.00\">2048</text>\n",
       "</g>\n",
       "<!-- CtrlModMul_G0 -->\n",
       "<g id=\"node5\" class=\"node\">\n",
       "<title>CtrlModMul_G0</title>\n",
       "<polygon fill=\"none\" stroke=\"black\" points=\"355,-155 355,-172 411,-172 411,-155 355,-155\"/>\n",
       "<text text-anchor=\"start\" x=\"358\" y=\"-161\" font-family=\"Times,serif\" font-size=\"10.00\">x *= 6 % 15</text>\n",
       "<polygon fill=\"none\" stroke=\"black\" points=\"355,-134 355,-155 411,-155 411,-134 355,-134\"/>\n",
       "<text text-anchor=\"start\" x=\"373.5\" y=\"-140.8\" font-family=\"Times,serif\" font-size=\"14.00\">ctrl</text>\n",
       "<polygon fill=\"none\" stroke=\"black\" points=\"355,-113 355,-134 411,-134 411,-113 355,-113\"/>\n",
       "<text text-anchor=\"start\" x=\"379.5\" y=\"-119.8\" font-family=\"Times,serif\" font-size=\"14.00\">x</text>\n",
       "</g>\n",
       "<!-- CtrlModMul_G0&#45;&gt;Join -->\n",
       "<g id=\"edge8\" class=\"edge\">\n",
       "<title>CtrlModMul_G0:e-&gt;Join:w</title>\n",
       "<path fill=\"none\" stroke=\"black\" d=\"M411,-145C429.44,-145 428.89,-72.97 445.84,-67.35\"/>\n",
       "<ellipse fill=\"black\" stroke=\"black\" cx=\"447.01\" cy=\"-67.16\" rx=\"1\" ry=\"1\"/>\n",
       "<text text-anchor=\"middle\" x=\"429.5\" y=\"-109\" font-family=\"Times,serif\" font-size=\"10.00\">1</text>\n",
       "</g>\n",
       "<!-- x_G10 -->\n",
       "<g id=\"node9\" class=\"node\">\n",
       "<title>x_G10</title>\n",
       "<text text-anchor=\"middle\" x=\"530\" y=\"-110.3\" font-family=\"Times,serif\" font-size=\"14.00\">x</text>\n",
       "</g>\n",
       "<!-- CtrlModMul_G0&#45;&gt;x_G10 -->\n",
       "<g id=\"edge12\" class=\"edge\">\n",
       "<title>CtrlModMul_G0:e-&gt;x_G10:w</title>\n",
       "<path fill=\"none\" stroke=\"black\" d=\"M411,-123C450.85,-123 460.97,-114.35 499.65,-114.01\"/>\n",
       "<ellipse fill=\"black\" stroke=\"black\" cx=\"501\" cy=\"-114\" rx=\"1\" ry=\"1\"/>\n",
       "<text text-anchor=\"middle\" x=\"454\" y=\"-122\" font-family=\"Times,serif\" font-size=\"10.00\">2048</text>\n",
       "</g>\n",
       "<!-- CtrlModMul_G3&#45;&gt;Join -->\n",
       "<g id=\"edge9\" class=\"edge\">\n",
       "<title>CtrlModMul_G3:e-&gt;Join:w</title>\n",
       "<path fill=\"none\" stroke=\"black\" d=\"M318,-90C376.5,-90 388.52,-61.68 445.94,-61.01\"/>\n",
       "<ellipse fill=\"black\" stroke=\"black\" cx=\"447\" cy=\"-61.01\" rx=\"1\" ry=\"1\"/>\n",
       "<text text-anchor=\"middle\" x=\"383\" y=\"-88\" font-family=\"Times,serif\" font-size=\"10.00\">1</text>\n",
       "</g>\n",
       "<!-- CtrlModMul_G3&#45;&gt;CtrlModMul_G0 -->\n",
       "<g id=\"edge7\" class=\"edge\">\n",
       "<title>CtrlModMul_G3:e-&gt;CtrlModMul_G0:w</title>\n",
       "<path fill=\"none\" stroke=\"black\" d=\"M318,-68C346.66,-68 326.7,-120.03 352.7,-122.88\"/>\n",
       "<ellipse fill=\"black\" stroke=\"black\" cx=\"354\" cy=\"-122.95\" rx=\"1\" ry=\"1\"/>\n",
       "<text text-anchor=\"middle\" x=\"336.5\" y=\"-101\" font-family=\"Times,serif\" font-size=\"10.00\">2048</text>\n",
       "</g>\n",
       "<!-- Split&#45;&gt;CtrlModMul -->\n",
       "<g id=\"edge2\" class=\"edge\">\n",
       "<title>Split:e-&gt;CtrlModMul:w</title>\n",
       "<path fill=\"none\" stroke=\"black\" d=\"M124.5,-90C156.23,-90 137.44,-34.69 166.8,-32.09\"/>\n",
       "<ellipse fill=\"black\" stroke=\"black\" cx=\"168\" cy=\"-32.04\" rx=\"1\" ry=\"1\"/>\n",
       "<text text-anchor=\"middle\" x=\"150.5\" y=\"-51\" font-family=\"Times,serif\" font-size=\"10.00\">1</text>\n",
       "</g>\n",
       "<!-- Split&#45;&gt;CtrlModMul_G0 -->\n",
       "<g id=\"edge6\" class=\"edge\">\n",
       "<title>Split:e-&gt;CtrlModMul_G0:w</title>\n",
       "<path fill=\"none\" stroke=\"black\" d=\"M124.5,-102C136.25,-102 138.53,-106.43 150,-109 239.55,-129.11 262.14,-144.75 352.84,-145\"/>\n",
       "<ellipse fill=\"black\" stroke=\"black\" cx=\"354\" cy=\"-145\" rx=\"1\" ry=\"1\"/>\n",
       "<text text-anchor=\"middle\" x=\"243.5\" y=\"-135\" font-family=\"Times,serif\" font-size=\"10.00\">1</text>\n",
       "</g>\n",
       "<!-- Split&#45;&gt;CtrlModMul_G3 -->\n",
       "<g id=\"edge4\" class=\"edge\">\n",
       "<title>Split:e-&gt;CtrlModMul_G3:w</title>\n",
       "<path fill=\"none\" stroke=\"black\" d=\"M124.5,-96C184.95,-96 200.47,-90.14 259.87,-90\"/>\n",
       "<ellipse fill=\"black\" stroke=\"black\" cx=\"261\" cy=\"-90\" rx=\"1\" ry=\"1\"/>\n",
       "<text text-anchor=\"middle\" x=\"197\" y=\"-97\" font-family=\"Times,serif\" font-size=\"10.00\">1</text>\n",
       "</g>\n",
       "</g>\n",
       "</svg>"
      ],
      "text/plain": [
       "<IPython.core.display.SVG object>"
      ]
     },
     "metadata": {},
     "output_type": "display_data"
    }
   ],
   "source": [
    "show_bloq(modexp_small.decompose_bloq())"
   ]
  },
  {
   "cell_type": "code",
   "execution_count": 8,
   "id": "ba4aab4e",
   "metadata": {},
   "outputs": [
    {
     "data": {
      "image/png": "[encoded data removed]",
      "text/plain": [
       "<Figure size 800x672.727 with 1 Axes>"
      ]
     },
     "metadata": {},
     "output_type": "display_data"
    }
   ],
   "source": [
    "from qualtran.drawing import (\n",
    "    get_musical_score_data, draw_musical_score, dump_musical_score)\n",
    "\n",
    "msd_bloq = get_musical_score_data(modexp)\n",
    "dump_musical_score(msd_bloq, 'mod_exp_bloq')\n",
    "\n",
    "msd_cbloq = get_musical_score_data(modexp.decompose_bloq())\n",
    "dump_musical_score(msd_cbloq, 'mod_exp_cbloq')\n",
    "\n",
    "fig, ax = draw_musical_score(msd_cbloq)\n",
    "ax.axis('equal')\n",
    "ax.axis('off')\n",
    "fig.tight_layout()"
   ]
  },
  {
   "cell_type": "markdown",
   "id": "8662fa01",
   "metadata": {
    "cq.autogen": "ModExp.call_graph.md"
   },
   "source": [
    "### Call Graph"
   ]
  },
  {
   "cell_type": "code",
   "execution_count": 9,
   "id": "9a7d9f5a",
   "metadata": {
    "cq.autogen": "ModExp.call_graph.py"
   },
   "outputs": [
    {
     "data": {
      "image/svg+xml": [
       "<svg xmlns=\"http://www.w3.org/2000/svg\" xmlns:xlink=\"http://www.w3.org/1999/xlink\" width=\"475pt\" height=\"479pt\" viewBox=\"0.00 0.00 475.00 479.00\">\n",
       "<g id=\"graph0\" class=\"graph\" transform=\"scale(1 1) rotate(0) translate(4 475)\">\n",
       "<title>counts</title>\n",
       "<polygon fill=\"white\" stroke=\"transparent\" points=\"-4,4 -4,-475 471,-475 471,4 -4,4\"/>\n",
       "<!-- b0 -->\n",
       "<g id=\"node1\" class=\"node\">\n",
       "<title>b0</title>\n",
       "<polygon fill=\"none\" stroke=\"black\" points=\"412,-471 125,-471 125,-435 412,-435 412,-471\"/>\n",
       "<text text-anchor=\"start\" x=\"244\" y=\"-454.8\" font-family=\"Times,serif\" font-size=\"14.00\">ModExp</text>\n",
       "<text text-anchor=\"start\" x=\"133\" y=\"-444\" font-family=\"monospace\" font-size=\"10.00\">base=g, mod=N, exp_bitsize=n_e, x_bitsize=n_x</text>\n",
       "</g>\n",
       "<!-- b1 -->\n",
       "<g id=\"node2\" class=\"node\">\n",
       "<title>b1</title>\n",
       "<polygon fill=\"none\" stroke=\"black\" points=\"252,-384 85,-384 85,-348 252,-348 252,-384\"/>\n",
       "<text text-anchor=\"start\" x=\"133\" y=\"-367.8\" font-family=\"Times,serif\" font-size=\"14.00\">CtrlModMul</text>\n",
       "<text text-anchor=\"start\" x=\"93\" y=\"-357\" font-family=\"monospace\" font-size=\"10.00\">k=_k0, mod=N, bitsize=n_x</text>\n",
       "</g>\n",
       "<!-- b0&#45;&gt;b1 -->\n",
       "<g id=\"edge1\" class=\"edge\">\n",
       "<title>b0-&gt;b1</title>\n",
       "<path fill=\"none\" stroke=\"black\" d=\"M248.26,-434.8C233.35,-422.13 212.89,-404.73 196.43,-390.74\"/>\n",
       "<polygon fill=\"black\" stroke=\"black\" points=\"198.59,-387.99 188.71,-384.18 194.06,-393.32 198.59,-387.99\"/>\n",
       "<text text-anchor=\"middle\" x=\"230\" y=\"-405.8\" font-family=\"Times,serif\" font-size=\"14.00\">nₑ</text>\n",
       "</g>\n",
       "<!-- b2 -->\n",
       "<g id=\"node3\" class=\"node\">\n",
       "<title>b2</title>\n",
       "<polygon fill=\"none\" stroke=\"black\" points=\"467,-384 270,-384 270,-348 467,-348 467,-384\"/>\n",
       "<text text-anchor=\"start\" x=\"359\" y=\"-367.8\" font-family=\"Times,serif\" font-size=\"14.00\">|1&gt;</text>\n",
       "<text text-anchor=\"start\" x=\"278\" y=\"-357\" font-family=\"monospace\" font-size=\"10.00\">val=1, bitsize=n_x, state=True</text>\n",
       "</g>\n",
       "<!-- b0&#45;&gt;b2 -->\n",
       "<g id=\"edge2\" class=\"edge\">\n",
       "<title>b0-&gt;b2</title>\n",
       "<path fill=\"none\" stroke=\"black\" d=\"M288.74,-434.8C303.65,-422.13 324.11,-404.73 340.57,-390.74\"/>\n",
       "<polygon fill=\"black\" stroke=\"black\" points=\"342.94,-393.32 348.29,-384.18 338.41,-387.99 342.94,-393.32\"/>\n",
       "<text text-anchor=\"middle\" x=\"328\" y=\"-405.8\" font-family=\"Times,serif\" font-size=\"14.00\">1</text>\n",
       "</g>\n",
       "<!-- b3 -->\n",
       "<g id=\"node4\" class=\"node\">\n",
       "<title>b3</title>\n",
       "<polygon fill=\"none\" stroke=\"black\" points=\"172,-297 5,-297 5,-261 172,-261 172,-297\"/>\n",
       "<text text-anchor=\"start\" x=\"38.5\" y=\"-280.8\" font-family=\"Times,serif\" font-size=\"14.00\">CtrlScaleModAdd</text>\n",
       "<text text-anchor=\"start\" x=\"13\" y=\"-270\" font-family=\"monospace\" font-size=\"10.00\">k=_k1, mod=N, bitsize=n_x</text>\n",
       "</g>\n",
       "<!-- b1&#45;&gt;b3 -->\n",
       "<g id=\"edge3\" class=\"edge\">\n",
       "<title>b1-&gt;b3</title>\n",
       "<path fill=\"none\" stroke=\"black\" d=\"M152.31,-347.8C140.6,-335.36 124.61,-318.36 111.56,-304.5\"/>\n",
       "<polygon fill=\"black\" stroke=\"black\" points=\"114.07,-302.06 104.67,-297.18 108.97,-306.86 114.07,-302.06\"/>\n",
       "<text text-anchor=\"middle\" x=\"137\" y=\"-318.8\" font-family=\"Times,serif\" font-size=\"14.00\">2</text>\n",
       "</g>\n",
       "<!-- b4 -->\n",
       "<g id=\"node5\" class=\"node\">\n",
       "<title>b4</title>\n",
       "<polygon fill=\"none\" stroke=\"black\" points=\"274,-297 191,-297 191,-261 274,-261 274,-297\"/>\n",
       "<text text-anchor=\"start\" x=\"212.5\" y=\"-280.8\" font-family=\"Times,serif\" font-size=\"14.00\">CSwap</text>\n",
       "<text text-anchor=\"start\" x=\"199\" y=\"-270\" font-family=\"monospace\" font-size=\"10.00\">bitsize=n_x</text>\n",
       "</g>\n",
       "<!-- b1&#45;&gt;b4 -->\n",
       "<g id=\"edge4\" class=\"edge\">\n",
       "<title>b1-&gt;b4</title>\n",
       "<path fill=\"none\" stroke=\"black\" d=\"M181.45,-347.8C190.65,-335.59 203.14,-318.99 213.47,-305.28\"/>\n",
       "<polygon fill=\"black\" stroke=\"black\" points=\"216.35,-307.27 219.57,-297.18 210.76,-303.06 216.35,-307.27\"/>\n",
       "<text text-anchor=\"middle\" x=\"208\" y=\"-318.8\" font-family=\"Times,serif\" font-size=\"14.00\">1</text>\n",
       "</g>\n",
       "<!-- b5 -->\n",
       "<g id=\"node6\" class=\"node\">\n",
       "<title>b5</title>\n",
       "<polygon fill=\"none\" stroke=\"black\" points=\"423.5,-297 313.5,-297 313.5,-261 423.5,-261 423.5,-297\"/>\n",
       "<text text-anchor=\"start\" x=\"321.5\" y=\"-280.8\" font-family=\"Times,serif\" font-size=\"14.00\">ArbitraryClifford</text>\n",
       "<text text-anchor=\"start\" x=\"353\" y=\"-270\" font-family=\"monospace\" font-size=\"10.00\">n=n_x</text>\n",
       "</g>\n",
       "<!-- b2&#45;&gt;b5 -->\n",
       "<g id=\"edge11\" class=\"edge\">\n",
       "<title>b2-&gt;b5</title>\n",
       "<path fill=\"none\" stroke=\"black\" d=\"M368.5,-347.8C368.5,-336.16 368.5,-320.55 368.5,-307.24\"/>\n",
       "<polygon fill=\"black\" stroke=\"black\" points=\"372,-307.18 368.5,-297.18 365,-307.18 372,-307.18\"/>\n",
       "<text text-anchor=\"middle\" x=\"381.5\" y=\"-318.8\" font-family=\"Times,serif\" font-size=\"14.00\">O(1)</text>\n",
       "</g>\n",
       "<!-- b6 -->\n",
       "<g id=\"node7\" class=\"node\">\n",
       "<title>b6</title>\n",
       "<polygon fill=\"none\" stroke=\"black\" points=\"167,-210 0,-210 0,-174 167,-174 167,-210\"/>\n",
       "<text text-anchor=\"start\" x=\"43\" y=\"-193.8\" font-family=\"Times,serif\" font-size=\"14.00\">CtrlModAddK</text>\n",
       "<text text-anchor=\"start\" x=\"8\" y=\"-183\" font-family=\"monospace\" font-size=\"10.00\">k=_k2, mod=N, bitsize=n_x</text>\n",
       "</g>\n",
       "<!-- b3&#45;&gt;b6 -->\n",
       "<g id=\"edge5\" class=\"edge\">\n",
       "<title>b3-&gt;b6</title>\n",
       "<path fill=\"none\" stroke=\"black\" d=\"M87.49,-260.8C86.8,-249.16 85.89,-233.55 85.1,-220.24\"/>\n",
       "<polygon fill=\"black\" stroke=\"black\" points=\"88.59,-219.95 84.51,-210.18 81.6,-220.36 88.59,-219.95\"/>\n",
       "<text text-anchor=\"middle\" x=\"92\" y=\"-231.8\" font-family=\"Times,serif\" font-size=\"14.00\">nₓ</text>\n",
       "</g>\n",
       "<!-- b7 -->\n",
       "<g id=\"node8\" class=\"node\">\n",
       "<title>b7</title>\n",
       "<polygon fill=\"none\" stroke=\"black\" points=\"282,-210 185,-210 185,-174 282,-174 282,-210\"/>\n",
       "<text text-anchor=\"start\" x=\"193\" y=\"-188.3\" font-family=\"Times,serif\" font-size=\"14.00\">TwoBitCSwap</text>\n",
       "</g>\n",
       "<!-- b4&#45;&gt;b7 -->\n",
       "<g id=\"edge8\" class=\"edge\">\n",
       "<title>b4-&gt;b7</title>\n",
       "<path fill=\"none\" stroke=\"black\" d=\"M232.7,-260.8C232.84,-249.16 233.02,-233.55 233.18,-220.24\"/>\n",
       "<polygon fill=\"black\" stroke=\"black\" points=\"236.68,-220.22 233.3,-210.18 229.68,-220.13 236.68,-220.22\"/>\n",
       "<text text-anchor=\"middle\" x=\"239\" y=\"-231.8\" font-family=\"Times,serif\" font-size=\"14.00\">nₓ</text>\n",
       "</g>\n",
       "<!-- b8 -->\n",
       "<g id=\"node9\" class=\"node\">\n",
       "<title>b8</title>\n",
       "<polygon fill=\"none\" stroke=\"black\" points=\"146,-123 21,-123 21,-87 146,-87 146,-123\"/>\n",
       "<text text-anchor=\"start\" x=\"56\" y=\"-106.8\" font-family=\"Times,serif\" font-size=\"14.00\">CtrlAddK</text>\n",
       "<text text-anchor=\"start\" x=\"29\" y=\"-96\" font-family=\"monospace\" font-size=\"10.00\">k=_k3, bitsize=n_x</text>\n",
       "</g>\n",
       "<!-- b6&#45;&gt;b8 -->\n",
       "<g id=\"edge6\" class=\"edge\">\n",
       "<title>b6-&gt;b8</title>\n",
       "<path fill=\"none\" stroke=\"black\" d=\"M83.5,-173.8C83.5,-162.16 83.5,-146.55 83.5,-133.24\"/>\n",
       "<polygon fill=\"black\" stroke=\"black\" points=\"87,-133.18 83.5,-123.18 80,-133.18 87,-133.18\"/>\n",
       "<text text-anchor=\"middle\" x=\"87\" y=\"-144.8\" font-family=\"Times,serif\" font-size=\"14.00\">5</text>\n",
       "</g>\n",
       "<!-- b9 -->\n",
       "<g id=\"node10\" class=\"node\">\n",
       "<title>b9</title>\n",
       "<polygon fill=\"none\" stroke=\"black\" points=\"274.5,-123 164.5,-123 164.5,-87 274.5,-87 274.5,-123\"/>\n",
       "<text text-anchor=\"start\" x=\"172.5\" y=\"-106.8\" font-family=\"Times,serif\" font-size=\"14.00\">ArbitraryClifford</text>\n",
       "<text text-anchor=\"start\" x=\"210\" y=\"-96\" font-family=\"monospace\" font-size=\"10.00\">n=3</text>\n",
       "</g>\n",
       "<!-- b7&#45;&gt;b9 -->\n",
       "<g id=\"edge10\" class=\"edge\">\n",
       "<title>b7-&gt;b9</title>\n",
       "<path fill=\"none\" stroke=\"black\" d=\"M230.67,-173.8C228.75,-162.16 226.18,-146.55 223.99,-133.24\"/>\n",
       "<polygon fill=\"black\" stroke=\"black\" points=\"227.41,-132.47 222.33,-123.18 220.5,-133.61 227.41,-132.47\"/>\n",
       "<text text-anchor=\"middle\" x=\"234.5\" y=\"-144.8\" font-family=\"Times,serif\" font-size=\"14.00\">10</text>\n",
       "</g>\n",
       "<!-- b10 -->\n",
       "<g id=\"node11\" class=\"node\">\n",
       "<title>b10</title>\n",
       "<polygon fill=\"none\" stroke=\"black\" points=\"253,-36 140,-36 140,0 253,0 253,-36\"/>\n",
       "<text text-anchor=\"start\" x=\"192\" y=\"-19.8\" font-family=\"Times,serif\" font-size=\"14.00\">T</text>\n",
       "<text text-anchor=\"start\" x=\"148\" y=\"-9\" font-family=\"monospace\" font-size=\"10.00\">is_adjoint=False</text>\n",
       "</g>\n",
       "<!-- b7&#45;&gt;b10 -->\n",
       "<g id=\"edge9\" class=\"edge\">\n",
       "<title>b7-&gt;b10</title>\n",
       "<path fill=\"none\" stroke=\"black\" d=\"M252.04,-173.67C271.8,-153.01 298.34,-117.43 283.5,-87 274.27,-68.07 256.94,-52.87 240.16,-41.67\"/>\n",
       "<polygon fill=\"black\" stroke=\"black\" points=\"241.81,-38.57 231.49,-36.19 238.07,-44.49 241.81,-38.57\"/>\n",
       "<text text-anchor=\"middle\" x=\"292\" y=\"-101.3\" font-family=\"Times,serif\" font-size=\"14.00\">7</text>\n",
       "</g>\n",
       "<!-- b8&#45;&gt;b10 -->\n",
       "<g id=\"edge7\" class=\"edge\">\n",
       "<title>b8-&gt;b10</title>\n",
       "<path fill=\"none\" stroke=\"black\" d=\"M106.37,-86.8C123.37,-74.01 146.76,-56.42 165.45,-42.36\"/>\n",
       "<polygon fill=\"black\" stroke=\"black\" points=\"167.78,-44.98 173.67,-36.18 163.57,-39.39 167.78,-44.98\"/>\n",
       "<text text-anchor=\"middle\" x=\"158.5\" y=\"-57.8\" font-family=\"Times,serif\" font-size=\"14.00\">2⋅nₓ</text>\n",
       "</g>\n",
       "</g>\n",
       "</svg>"
      ],
      "text/plain": [
       "<IPython.core.display.SVG object>"
      ]
     },
     "metadata": {},
     "output_type": "display_data"
    },
    {
     "data": {
      "text/markdown": [
       "#### Counts totals:\n",
       " - `ArbitraryClifford(n=3)`: $\\displaystyle 10 n_{e} n_{x}$\n",
       " - `ArbitraryClifford(n=n_x)`: $\\displaystyle O\\left(1\\right)$\n",
       " - `TGate()`: $\\displaystyle n_{e} \\left(20 n_{x}^{2} + 7 n_{x}\\right)$"
      ],
      "text/plain": [
       "<IPython.core.display.Markdown object>"
      ]
     },
     "metadata": {},
     "output_type": "display_data"
    }
   ],
   "source": [
    "modexp_symb_g, modexp_symb_sigma = modexp_symb.call_graph()\n",
    "show_call_graph(modexp_symb_g)\n",
    "show_counts_sigma(modexp_symb_sigma)"
   ]
  }
 ],
 "metadata": {
  "kernelspec": {
   "display_name": "Python 3 (ipykernel)",
   "language": "python",
   "name": "python3"
  },
  "language_info": {
   "codemirror_mode": {
    "name": "ipython",
    "version": 3
   },
   "file_extension": ".py",
   "mimetype": "text/x-python",
   "name": "python",
   "nbconvert_exporter": "python",
   "pygments_lexer": "ipython3",
   "version": "3.10.12"
  },
  "widgets": {
   "application/vnd.jupyter.widget-state+json": {
    "state": {
     "238ee7b9afc8407cad61186c1412fe10": {
      "model_module": "@jupyter-widgets/controls",
      "model_module_version": "2.0.0",
      "model_name": "HBoxModel",
      "state": {
       "_dom_classes": [],
       "_model_module": "@jupyter-widgets/controls",
       "_model_module_version": "2.0.0",
       "_model_name": "HBoxModel",
       "_view_count": null,
       "_view_module": "@jupyter-widgets/controls",
       "_view_module_version": "2.0.0",
       "_view_name": "HBoxView",
       "box_style": "",
       "children": [
        "IPY_MODEL_9a5b603fbca1416b92114bb4f60c874d",
        "IPY_MODEL_60bd78a1df474e8dad0fc9b6b1651718",
        "IPY_MODEL_cd3fba8679634776bca2037fa48b0d5f"
       ],
       "layout": "IPY_MODEL_c797e0f0c05641aaa32d9042dd8038a5",
       "tabbable": null,
       "tooltip": null
      }
     },
     "60bd78a1df474e8dad0fc9b6b1651718": {
      "model_module": "@jupyter-widgets/output",
      "model_module_version": "1.0.0",
      "model_name": "OutputModel",
      "state": {
       "_dom_classes": [],
       "_model_module": "@jupyter-widgets/output",
       "_model_module_version": "1.0.0",
       "_model_name": "OutputModel",
       "_view_count": null,
       "_view_module": "@jupyter-widgets/output",
       "_view_module_version": "1.0.0",
       "_view_name": "OutputView",
       "layout": "IPY_MODEL_f269c5e768d54613987e6457b35301a1",
       "msg_id": "",
       "outputs": [
        {
         "data": {
          "text/markdown": "`modexp_small`",
          "text/plain": "<IPython.core.display.Markdown object>"
         },
         "metadata": {},
         "output_type": "display_data"
        },
        {
         "data": {
          "image/svg+xml": "<svg xmlns=\"http://www.w3.org/2000/svg\" xmlns:xlink=\"http://www.w3.org/1999/xlink\" width=\"270pt\" height=\"98pt\" viewBox=\"0.00 0.00 270.00 98.00\">\n<g id=\"graph0\" class=\"graph\" transform=\"scale(1 1) rotate(0) translate(4 94)\">\n<title>my_graph</title>\n<polygon fill=\"white\" stroke=\"transparent\" points=\"-4,4 -4,-94 266,-94 266,4 -4,4\"/>\n<!-- exponent_G2 -->\n<g id=\"node1\" class=\"node\">\n<title>exponent_G2</title>\n<text text-anchor=\"middle\" x=\"33\" y=\"-52.3\" font-family=\"Times,serif\" font-size=\"14.00\">exponent</text>\n</g>\n<!-- ModExp -->\n<g id=\"node2\" class=\"node\">\n<title>ModExp</title>\n<polygon fill=\"none\" stroke=\"black\" points=\"103,-66 103,-83 159,-83 159,-66 103,-66\"/>\n<text text-anchor=\"start\" x=\"112\" y=\"-72\" font-family=\"Times,serif\" font-size=\"10.00\">3^e % 15</text>\n<polygon fill=\"none\" stroke=\"black\" points=\"103,-45 103,-66 159,-66 159,-45 103,-45\"/>\n<text text-anchor=\"start\" x=\"106\" y=\"-51.8\" font-family=\"Times,serif\" font-size=\"14.00\">exponent</text>\n<polygon fill=\"none\" stroke=\"black\" points=\"103,-24 103,-45 127,-45 127,-24 103,-24\"/>\n<polygon fill=\"none\" stroke=\"black\" points=\"127,-24 127,-45 159,-45 159,-24 127,-24\"/>\n<text text-anchor=\"start\" x=\"139.5\" y=\"-30.8\" font-family=\"Times,serif\" font-size=\"14.00\">x</text>\n</g>\n<!-- exponent_G2&#45;&gt;ModExp -->\n<g id=\"edge1\" class=\"edge\">\n<title>exponent_G2:e-&gt;ModExp:w</title>\n<path fill=\"none\" stroke=\"black\" d=\"M66,-56C81.67,-56 86.14,-56 100.77,-56\"/>\n<ellipse fill=\"black\" stroke=\"black\" cx=\"102\" cy=\"-56\" rx=\"1\" ry=\"1\"/>\n<text text-anchor=\"middle\" x=\"84.5\" y=\"-59\" font-family=\"Times,serif\" font-size=\"10.00\">3</text>\n</g>\n<!-- exponent_G3 -->\n<g id=\"node3\" class=\"node\">\n<title>exponent_G3</title>\n<text text-anchor=\"middle\" x=\"229\" y=\"-68.3\" font-family=\"Times,serif\" font-size=\"14.00\">exponent</text>\n</g>\n<!-- ModExp&#45;&gt;exponent_G3 -->\n<g id=\"edge2\" class=\"edge\">\n<title>ModExp:e-&gt;exponent_G3:w</title>\n<path fill=\"none\" stroke=\"black\" d=\"M159,-56C176.22,-56 177.97,-70.77 193.98,-71.93\"/>\n<ellipse fill=\"black\" stroke=\"black\" cx=\"195\" cy=\"-71.96\" rx=\"1\" ry=\"1\"/>\n<text text-anchor=\"middle\" x=\"177.5\" y=\"-67\" font-family=\"Times,serif\" font-size=\"10.00\">3</text>\n</g>\n<!-- x_G0 -->\n<g id=\"node4\" class=\"node\">\n<title>x_G0</title>\n<text text-anchor=\"middle\" x=\"229\" y=\"-14.3\" font-family=\"Times,serif\" font-size=\"14.00\">x</text>\n</g>\n<!-- ModExp&#45;&gt;x_G0 -->\n<g id=\"edge3\" class=\"edge\">\n<title>ModExp:e-&gt;x_G0:w</title>\n<path fill=\"none\" stroke=\"black\" d=\"M159,-34C178.2,-34 180.84,-19.23 198.74,-18.07\"/>\n<ellipse fill=\"black\" stroke=\"black\" cx=\"200\" cy=\"-18.03\" rx=\"1\" ry=\"1\"/>\n<text text-anchor=\"middle\" x=\"177.5\" y=\"-31\" font-family=\"Times,serif\" font-size=\"10.00\">2048</text>\n</g>\n</g>\n</svg>",
          "text/plain": "<IPython.core.display.SVG object>"
         },
         "metadata": {},
         "output_type": "display_data"
        }
       ],
       "tabbable": null,
       "tooltip": null
      }
     },
     "733bbf6fa4c5429987d1c6ca3a82ed95": {
      "model_module": "@jupyter-widgets/base",
      "model_module_version": "2.0.0",
      "model_name": "LayoutModel",
      "state": {
       "_model_module": "@jupyter-widgets/base",
       "_model_module_version": "2.0.0",
       "_model_name": "LayoutModel",
       "_view_count": null,
       "_view_module": "@jupyter-widgets/base",
       "_view_module_version": "2.0.0",
       "_view_name": "LayoutView",
       "align_content": null,
       "align_items": null,
       "align_self": null,
       "border_bottom": null,
       "border_left": null,
       "border_right": null,
       "border_top": null,
       "bottom": null,
       "display": null,
       "flex": null,
       "flex_flow": null,
       "grid_area": null,
       "grid_auto_columns": null,
       "grid_auto_flow": null,
       "grid_auto_rows": null,
       "grid_column": null,
       "grid_gap": null,
       "grid_row": null,
       "grid_template_areas": null,
       "grid_template_columns": null,
       "grid_template_rows": null,
       "height": null,
       "justify_content": null,
       "justify_items": null,
       "left": null,
       "margin": null,
       "max_height": null,
       "max_width": null,
       "min_height": null,
       "min_width": null,
       "object_fit": null,
       "object_position": null,
       "order": null,
       "overflow": null,
       "padding": null,
       "right": null,
       "top": null,
       "visibility": null,
       "width": null
      }
     },
     "80d9ba3a2950482b99d174ff60c898d2": {
      "model_module": "@jupyter-widgets/base",
      "model_module_version": "2.0.0",
      "model_name": "LayoutModel",
      "state": {
       "_model_module": "@jupyter-widgets/base",
       "_model_module_version": "2.0.0",
       "_model_name": "LayoutModel",
       "_view_count": null,
       "_view_module": "@jupyter-widgets/base",
       "_view_module_version": "2.0.0",
       "_view_name": "LayoutView",
       "align_content": null,
       "align_items": null,
       "align_self": null,
       "border_bottom": null,
       "border_left": null,
       "border_right": null,
       "border_top": null,
       "bottom": null,
       "display": null,
       "flex": null,
       "flex_flow": null,
       "grid_area": null,
       "grid_auto_columns": null,
       "grid_auto_flow": null,
       "grid_auto_rows": null,
       "grid_column": null,
       "grid_gap": null,
       "grid_row": null,
       "grid_template_areas": null,
       "grid_template_columns": null,
       "grid_template_rows": null,
       "height": null,
       "justify_content": null,
       "justify_items": null,
       "left": null,
       "margin": null,
       "max_height": null,
       "max_width": null,
       "min_height": null,
       "min_width": null,
       "object_fit": null,
       "object_position": null,
       "order": null,
       "overflow": null,
       "padding": null,
       "right": null,
       "top": null,
       "visibility": null,
       "width": null
      }
     },
     "9a5b603fbca1416b92114bb4f60c874d": {
      "model_module": "@jupyter-widgets/output",
      "model_module_version": "1.0.0",
      "model_name": "OutputModel",
      "state": {
       "_dom_classes": [],
       "_model_module": "@jupyter-widgets/output",
       "_model_module_version": "1.0.0",
       "_model_name": "OutputModel",
       "_view_count": null,
       "_view_module": "@jupyter-widgets/output",
       "_view_module_version": "1.0.0",
       "_view_name": "OutputView",
       "layout": "IPY_MODEL_733bbf6fa4c5429987d1c6ca3a82ed95",
       "msg_id": "",
       "outputs": [
        {
         "data": {
          "text/markdown": "`modexp_symb`",
          "text/plain": "<IPython.core.display.Markdown object>"
         },
         "metadata": {},
         "output_type": "display_data"
        },
        {
         "data": {
          "image/svg+xml": "<svg xmlns=\"http://www.w3.org/2000/svg\" xmlns:xlink=\"http://www.w3.org/1999/xlink\" width=\"270pt\" height=\"98pt\" viewBox=\"0.00 0.00 270.00 98.00\">\n<g id=\"graph0\" class=\"graph\" transform=\"scale(1 1) rotate(0) translate(4 94)\">\n<title>my_graph</title>\n<polygon fill=\"white\" stroke=\"transparent\" points=\"-4,4 -4,-94 266,-94 266,4 -4,4\"/>\n<!-- exponent_G1 -->\n<g id=\"node1\" class=\"node\">\n<title>exponent_G1</title>\n<text text-anchor=\"middle\" x=\"33\" y=\"-52.3\" font-family=\"Times,serif\" font-size=\"14.00\">exponent</text>\n</g>\n<!-- ModExp -->\n<g id=\"node2\" class=\"node\">\n<title>ModExp</title>\n<polygon fill=\"none\" stroke=\"black\" points=\"103,-66 103,-83 159,-83 159,-66 103,-66\"/>\n<text text-anchor=\"start\" x=\"113.5\" y=\"-72\" font-family=\"Times,serif\" font-size=\"10.00\">g^e % N</text>\n<polygon fill=\"none\" stroke=\"black\" points=\"103,-45 103,-66 159,-66 159,-45 103,-45\"/>\n<text text-anchor=\"start\" x=\"106\" y=\"-51.8\" font-family=\"Times,serif\" font-size=\"14.00\">exponent</text>\n<polygon fill=\"none\" stroke=\"black\" points=\"103,-24 103,-45 127,-45 127,-24 103,-24\"/>\n<polygon fill=\"none\" stroke=\"black\" points=\"127,-24 127,-45 159,-45 159,-24 127,-24\"/>\n<text text-anchor=\"start\" x=\"139.5\" y=\"-30.8\" font-family=\"Times,serif\" font-size=\"14.00\">x</text>\n</g>\n<!-- exponent_G1&#45;&gt;ModExp -->\n<g id=\"edge1\" class=\"edge\">\n<title>exponent_G1:e-&gt;ModExp:w</title>\n<path fill=\"none\" stroke=\"black\" d=\"M66,-56C81.67,-56 86.14,-56 100.77,-56\"/>\n<ellipse fill=\"black\" stroke=\"black\" cx=\"102\" cy=\"-56\" rx=\"1\" ry=\"1\"/>\n<text text-anchor=\"middle\" x=\"84.5\" y=\"-59\" font-family=\"Times,serif\" font-size=\"10.00\">n_e</text>\n</g>\n<!-- exponent_G4 -->\n<g id=\"node3\" class=\"node\">\n<title>exponent_G4</title>\n<text text-anchor=\"middle\" x=\"229\" y=\"-68.3\" font-family=\"Times,serif\" font-size=\"14.00\">exponent</text>\n</g>\n<!-- ModExp&#45;&gt;exponent_G4 -->\n<g id=\"edge2\" class=\"edge\">\n<title>ModExp:e-&gt;exponent_G4:w</title>\n<path fill=\"none\" stroke=\"black\" d=\"M159,-56C176.22,-56 177.97,-70.77 193.98,-71.93\"/>\n<ellipse fill=\"black\" stroke=\"black\" cx=\"195\" cy=\"-71.96\" rx=\"1\" ry=\"1\"/>\n<text text-anchor=\"middle\" x=\"177.5\" y=\"-67\" font-family=\"Times,serif\" font-size=\"10.00\">n_e</text>\n</g>\n<!-- x_G3 -->\n<g id=\"node4\" class=\"node\">\n<title>x_G3</title>\n<text text-anchor=\"middle\" x=\"229\" y=\"-14.3\" font-family=\"Times,serif\" font-size=\"14.00\">x</text>\n</g>\n<!-- ModExp&#45;&gt;x_G3 -->\n<g id=\"edge3\" class=\"edge\">\n<title>ModExp:e-&gt;x_G3:w</title>\n<path fill=\"none\" stroke=\"black\" d=\"M159,-34C178.2,-34 180.84,-19.23 198.74,-18.07\"/>\n<ellipse fill=\"black\" stroke=\"black\" cx=\"200\" cy=\"-18.03\" rx=\"1\" ry=\"1\"/>\n<text text-anchor=\"middle\" x=\"177.5\" y=\"-31\" font-family=\"Times,serif\" font-size=\"10.00\">n_x</text>\n</g>\n</g>\n</svg>",
          "text/plain": "<IPython.core.display.SVG object>"
         },
         "metadata": {},
         "output_type": "display_data"
        }
       ],
       "tabbable": null,
       "tooltip": null
      }
     },
     "c797e0f0c05641aaa32d9042dd8038a5": {
      "model_module": "@jupyter-widgets/base",
      "model_module_version": "2.0.0",
      "model_name": "LayoutModel",
      "state": {
       "_model_module": "@jupyter-widgets/base",
       "_model_module_version": "2.0.0",
       "_model_name": "LayoutModel",
       "_view_count": null,
       "_view_module": "@jupyter-widgets/base",
       "_view_module_version": "2.0.0",
       "_view_name": "LayoutView",
       "align_content": null,
       "align_items": null,
       "align_self": null,
       "border_bottom": null,
       "border_left": null,
       "border_right": null,
       "border_top": null,
       "bottom": null,
       "display": null,
       "flex": null,
       "flex_flow": null,
       "grid_area": null,
       "grid_auto_columns": null,
       "grid_auto_flow": null,
       "grid_auto_rows": null,
       "grid_column": null,
       "grid_gap": null,
       "grid_row": null,
       "grid_template_areas": null,
       "grid_template_columns": null,
       "grid_template_rows": null,
       "height": null,
       "justify_content": null,
       "justify_items": null,
       "left": null,
       "margin": null,
       "max_height": null,
       "max_width": null,
       "min_height": null,
       "min_width": null,
       "object_fit": null,
       "object_position": null,
       "order": null,
       "overflow": null,
       "padding": null,
       "right": null,
       "top": null,
       "visibility": null,
       "width": null
      }
     },
     "cd3fba8679634776bca2037fa48b0d5f": {
      "model_module": "@jupyter-widgets/output",
      "model_module_version": "1.0.0",
      "model_name": "OutputModel",
      "state": {
       "_dom_classes": [],
       "_model_module": "@jupyter-widgets/output",
       "_model_module_version": "1.0.0",
       "_model_name": "OutputModel",
       "_view_count": null,
       "_view_module": "@jupyter-widgets/output",
       "_view_module_version": "1.0.0",
       "_view_name": "OutputView",
       "layout": "IPY_MODEL_80d9ba3a2950482b99d174ff60c898d2",
       "msg_id": "",
       "outputs": [
        {
         "data": {
          "text/markdown": "`modexp`",
          "text/plain": "<IPython.core.display.Markdown object>"
         },
         "metadata": {},
         "output_type": "display_data"
        },
        {
         "data": {
          "image/svg+xml": "<svg xmlns=\"http://www.w3.org/2000/svg\" xmlns:xlink=\"http://www.w3.org/1999/xlink\" width=\"270pt\" height=\"98pt\" viewBox=\"0.00 0.00 270.00 98.00\">\n<g id=\"graph0\" class=\"graph\" transform=\"scale(1 1) rotate(0) translate(4 94)\">\n<title>my_graph</title>\n<polygon fill=\"white\" stroke=\"transparent\" points=\"-4,4 -4,-94 266,-94 266,4 -4,4\"/>\n<!-- exponent_G2 -->\n<g id=\"node1\" class=\"node\">\n<title>exponent_G2</title>\n<text text-anchor=\"middle\" x=\"33\" y=\"-52.3\" font-family=\"Times,serif\" font-size=\"14.00\">exponent</text>\n</g>\n<!-- ModExp -->\n<g id=\"node2\" class=\"node\">\n<title>ModExp</title>\n<polygon fill=\"none\" stroke=\"black\" points=\"103,-66 103,-83 159,-83 159,-66 103,-66\"/>\n<text text-anchor=\"start\" x=\"109.5\" y=\"-72\" font-family=\"Times,serif\" font-size=\"10.00\">9^e % 255</text>\n<polygon fill=\"none\" stroke=\"black\" points=\"103,-45 103,-66 159,-66 159,-45 103,-45\"/>\n<text text-anchor=\"start\" x=\"106\" y=\"-51.8\" font-family=\"Times,serif\" font-size=\"14.00\">exponent</text>\n<polygon fill=\"none\" stroke=\"black\" points=\"103,-24 103,-45 127,-45 127,-24 103,-24\"/>\n<polygon fill=\"none\" stroke=\"black\" points=\"127,-24 127,-45 159,-45 159,-24 127,-24\"/>\n<text text-anchor=\"start\" x=\"139.5\" y=\"-30.8\" font-family=\"Times,serif\" font-size=\"14.00\">x</text>\n</g>\n<!-- exponent_G2&#45;&gt;ModExp -->\n<g id=\"edge1\" class=\"edge\">\n<title>exponent_G2:e-&gt;ModExp:w</title>\n<path fill=\"none\" stroke=\"black\" d=\"M66,-56C81.67,-56 86.14,-56 100.77,-56\"/>\n<ellipse fill=\"black\" stroke=\"black\" cx=\"102\" cy=\"-56\" rx=\"1\" ry=\"1\"/>\n<text text-anchor=\"middle\" x=\"84.5\" y=\"-59\" font-family=\"Times,serif\" font-size=\"10.00\">16</text>\n</g>\n<!-- exponent_G0 -->\n<g id=\"node3\" class=\"node\">\n<title>exponent_G0</title>\n<text text-anchor=\"middle\" x=\"229\" y=\"-68.3\" font-family=\"Times,serif\" font-size=\"14.00\">exponent</text>\n</g>\n<!-- ModExp&#45;&gt;exponent_G0 -->\n<g id=\"edge2\" class=\"edge\">\n<title>ModExp:e-&gt;exponent_G0:w</title>\n<path fill=\"none\" stroke=\"black\" d=\"M159,-56C176.22,-56 177.97,-70.77 193.98,-71.93\"/>\n<ellipse fill=\"black\" stroke=\"black\" cx=\"195\" cy=\"-71.96\" rx=\"1\" ry=\"1\"/>\n<text text-anchor=\"middle\" x=\"177.5\" y=\"-67\" font-family=\"Times,serif\" font-size=\"10.00\">16</text>\n</g>\n<!-- x_G3 -->\n<g id=\"node4\" class=\"node\">\n<title>x_G3</title>\n<text text-anchor=\"middle\" x=\"229\" y=\"-14.3\" font-family=\"Times,serif\" font-size=\"14.00\">x</text>\n</g>\n<!-- ModExp&#45;&gt;x_G3 -->\n<g id=\"edge3\" class=\"edge\">\n<title>ModExp:e-&gt;x_G3:w</title>\n<path fill=\"none\" stroke=\"black\" d=\"M159,-34C178.2,-34 180.84,-19.23 198.74,-18.07\"/>\n<ellipse fill=\"black\" stroke=\"black\" cx=\"200\" cy=\"-18.03\" rx=\"1\" ry=\"1\"/>\n<text text-anchor=\"middle\" x=\"177.5\" y=\"-31\" font-family=\"Times,serif\" font-size=\"10.00\">8</text>\n</g>\n</g>\n</svg>",
          "text/plain": "<IPython.core.display.SVG object>"
         },
         "metadata": {},
         "output_type": "display_data"
        }
       ],
       "tabbable": null,
       "tooltip": null
      }
     },
     "f269c5e768d54613987e6457b35301a1": {
      "model_module": "@jupyter-widgets/base",
      "model_module_version": "2.0.0",
      "model_name": "LayoutModel",
      "state": {
       "_model_module": "@jupyter-widgets/base",
       "_model_module_version": "2.0.0",
       "_model_name": "LayoutModel",
       "_view_count": null,
       "_view_module": "@jupyter-widgets/base",
       "_view_module_version": "2.0.0",
       "_view_name": "LayoutView",
       "align_content": null,
       "align_items": null,
       "align_self": null,
       "border_bottom": null,
       "border_left": null,
       "border_right": null,
       "border_top": null,
       "bottom": null,
       "display": null,
       "flex": null,
       "flex_flow": null,
       "grid_area": null,
       "grid_auto_columns": null,
       "grid_auto_flow": null,
       "grid_auto_rows": null,
       "grid_column": null,
       "grid_gap": null,
       "grid_row": null,
       "grid_template_areas": null,
       "grid_template_columns": null,
       "grid_template_rows": null,
       "height": null,
       "justify_content": null,
       "justify_items": null,
       "left": null,
       "margin": null,
       "max_height": null,
       "max_width": null,
       "min_height": null,
       "min_width": null,
       "object_fit": null,
       "object_position": null,
       "order": null,
       "overflow": null,
       "padding": null,
       "right": null,
       "top": null,
       "visibility": null,
       "width": null
      }
     }
    },
    "version_major": 2,
    "version_minor": 0
   }
  }
 },
 "nbformat": 4,
 "nbformat_minor": 5
}
