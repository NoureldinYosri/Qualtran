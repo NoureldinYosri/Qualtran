{
 "cells": [
  {
   "cell_type": "code",
   "execution_count": null,
   "id": "b6c49ab4",
   "metadata": {},
   "outputs": [],
   "source": [
    "import glob\n",
    "from pathlib import Path"
   ]
  },
  {
   "cell_type": "code",
   "execution_count": null,
   "id": "2a54a0db",
   "metadata": {},
   "outputs": [],
   "source": [
    "paths = list(Path('reference/cirq_qubitization').glob('quantum_graph/**/*.md'))\n",
    "paths"
   ]
  },
  {
   "cell_type": "code",
   "execution_count": null,
   "id": "fa1a2bfc",
   "metadata": {},
   "outputs": [],
   "source": [
    "from collections import defaultdict\n",
    "pp = defaultdict(list)\n",
    "for path in paths:\n",
    "    pp[path.parent].append(path)\n",
    "    \n",
    "pp"
   ]
  },
  {
   "cell_type": "code",
   "execution_count": null,
   "id": "57d7208c",
   "metadata": {},
   "outputs": [],
   "source": [
    "child.relative_to('reference')"
   ]
  },
  {
   "cell_type": "code",
   "execution_count": null,
   "id": "7cac430d",
   "metadata": {},
   "outputs": [],
   "source": [
    "for parent in sorted(pp, key=lambda p: len(p.parts)):\n",
    "    print('\\n'.join([\n",
    "         '.. toctree::',\n",
    "         '   :maxdepth: 2',\n",
    "        f'   :caption: {parent.name}',\n",
    "         '',\n",
    "    ]))\n",
    "    children = pp[parent]\n",
    "    for child in sorted(children):\n",
    "        print('  ', child.relative_to('reference'))\n",
    "    print()"
   ]
  },
  {
   "cell_type": "code",
   "execution_count": null,
   "id": "c03c7917",
   "metadata": {},
   "outputs": [],
   "source": [
    "{len(path.parts): path for path in paths}"
   ]
  },
  {
   "cell_type": "code",
   "execution_count": null,
   "id": "bd22d4e2",
   "metadata": {},
   "outputs": [],
   "source": [
    "path = paths[0]"
   ]
  },
  {
   "cell_type": "code",
   "execution_count": null,
   "id": "e58ea835",
   "metadata": {},
   "outputs": [],
   "source": [
    "len(path.parts)"
   ]
  },
  {
   "cell_type": "code",
   "execution_count": null,
   "id": "d6e9298d",
   "metadata": {},
   "outputs": [],
   "source": [
    "from mph_doc import *"
   ]
  },
  {
   "cell_type": "code",
   "execution_count": null,
   "id": "d7e26914",
   "metadata": {},
   "outputs": [],
   "source": [
    "import cirq_qubitization.quantum_graph\n",
    "reporoot = get_git_root()\n",
    "\n",
    "# This is the ordinary main entry point on which we call `build`. Here, we use it\n",
    "# just to walk the AST and give us a `parser_config`.\n",
    "doc_generator = DocGenerator(\n",
    "    root_title=\"Qualtran\",\n",
    "    py_modules=[(\"cirq_qubitization.quantum_graph\", cirq_qubitization.quantum_graph)],\n",
    "    code_url_prefix=\"https://github.com/quantumlib/cirq-qubitization/blob/master/\",\n",
    "    base_dir=str(reporoot/'cirq_qubitization/quantum_graph'),\n",
    "    callbacks=[local_definitions_filter, filter_type_checking],\n",
    ")\n",
    "parser_config = doc_generator.run_extraction()\n",
    "parser_config"
   ]
  },
  {
   "cell_type": "code",
   "execution_count": null,
   "id": "3af5faeb",
   "metadata": {},
   "outputs": [],
   "source": [
    "parser_config.reference_resolver._link_prefix = '.'"
   ]
  },
  {
   "cell_type": "code",
   "execution_count": null,
   "id": "4926f34d",
   "metadata": {},
   "outputs": [],
   "source": [
    "parser_config.__dict__.keys()"
   ]
  },
  {
   "cell_type": "code",
   "execution_count": null,
   "id": "da10fe70",
   "metadata": {},
   "outputs": [],
   "source": [
    "api_nodes = list(parser_config.api_tree.iter_nodes())"
   ]
  },
  {
   "cell_type": "code",
   "execution_count": null,
   "id": "0787318f",
   "metadata": {},
   "outputs": [],
   "source": [
    "len(api_nodes)"
   ]
  },
  {
   "cell_type": "code",
   "execution_count": null,
   "id": "f13cca8b",
   "metadata": {},
   "outputs": [],
   "source": [
    "api_nodes"
   ]
  },
  {
   "cell_type": "code",
   "execution_count": null,
   "id": "c5a17ae6",
   "metadata": {},
   "outputs": [],
   "source": [
    "n, = [n for n in api_nodes if n.short_name == 'CompositeBloq']"
   ]
  },
  {
   "cell_type": "code",
   "execution_count": null,
   "id": "4d99e89e",
   "metadata": {},
   "outputs": [],
   "source": [
    "page_info = docs_for_object(\n",
    "    api_node=n,\n",
    "    parser_config=parser_config,\n",
    "    extra_docs=None,\n",
    "    page_builder_classes=my_page_builders,\n",
    ")\n",
    "page_info"
   ]
  },
  {
   "cell_type": "code",
   "execution_count": null,
   "id": "d428483f",
   "metadata": {},
   "outputs": [],
   "source": [
    "page_info.aliases"
   ]
  },
  {
   "cell_type": "code",
   "execution_count": null,
   "id": "24d61525",
   "metadata": {},
   "outputs": [],
   "source": [
    "from dataclasses import fields\n",
    "for f in fields(n):\n",
    "    print(f.name, f.type)"
   ]
  },
  {
   "cell_type": "code",
   "execution_count": null,
   "id": "77f2ed2e",
   "metadata": {},
   "outputs": [],
   "source": [
    "n.path"
   ]
  },
  {
   "cell_type": "code",
   "execution_count": null,
   "id": "2dd4bd30",
   "metadata": {},
   "outputs": [],
   "source": [
    "n.py_object"
   ]
  },
  {
   "cell_type": "code",
   "execution_count": null,
   "id": "3dccdb41",
   "metadata": {},
   "outputs": [],
   "source": [
    "n.parent"
   ]
  },
  {
   "cell_type": "code",
   "execution_count": null,
   "id": "b99e9676",
   "metadata": {},
   "outputs": [],
   "source": [
    "n.children"
   ]
  },
  {
   "cell_type": "code",
   "execution_count": null,
   "id": "fe2d27b9",
   "metadata": {},
   "outputs": [],
   "source": [
    "n.aliases"
   ]
  },
  {
   "cell_type": "code",
   "execution_count": null,
   "id": "c787f5ff",
   "metadata": {},
   "outputs": [],
   "source": [
    "n.physical_path"
   ]
  },
  {
   "cell_type": "code",
   "execution_count": null,
   "id": "c0dc78a2",
   "metadata": {},
   "outputs": [],
   "source": [
    "list(n.py_object.__dict__.keys())"
   ]
  },
  {
   "cell_type": "markdown",
   "id": "bd5720e0",
   "metadata": {},
   "source": [
    "## page info"
   ]
  },
  {
   "cell_type": "code",
   "execution_count": null,
   "id": "f6122aad",
   "metadata": {},
   "outputs": [],
   "source": [
    "doc, aliases, defined_in = page_info_logic(n, parser_config)"
   ]
  },
  {
   "cell_type": "code",
   "execution_count": null,
   "id": "ab60c7d8",
   "metadata": {},
   "outputs": [],
   "source": [
    "aliases"
   ]
  },
  {
   "cell_type": "code",
   "execution_count": null,
   "id": "b6b003b7",
   "metadata": {},
   "outputs": [],
   "source": [
    "defined_in"
   ]
  },
  {
   "cell_type": "code",
   "execution_count": null,
   "id": "2cf4a4fb",
   "metadata": {},
   "outputs": [],
   "source": [
    "defined_in.url"
   ]
  },
  {
   "cell_type": "code",
   "execution_count": null,
   "id": "81334801",
   "metadata": {},
   "outputs": [],
   "source": [
    "doc.brief"
   ]
  },
  {
   "cell_type": "code",
   "execution_count": null,
   "id": "6769a4b6",
   "metadata": {},
   "outputs": [],
   "source": [
    "for b in doc.docstring_parts:\n",
    "    print(repr(b))\n",
    "    print()"
   ]
  },
  {
   "cell_type": "code",
   "execution_count": null,
   "id": "daffa47b",
   "metadata": {},
   "outputs": [],
   "source": [
    "print(str(b))"
   ]
  },
  {
   "cell_type": "code",
   "execution_count": null,
   "id": "d92ea688",
   "metadata": {},
   "outputs": [],
   "source": [
    "print(b.table_view())"
   ]
  },
  {
   "cell_type": "code",
   "execution_count": null,
   "id": "c34785ea",
   "metadata": {},
   "outputs": [],
   "source": [
    "doc.compatibility"
   ]
  },
  {
   "cell_type": "code",
   "execution_count": null,
   "id": "701ffc5f",
   "metadata": {},
   "outputs": [],
   "source": [
    "bases = class_collect_bases(n, parser_config)\n",
    "for base in bases:\n",
    "    print(base.short_name, base.url)"
   ]
  },
  {
   "cell_type": "code",
   "execution_count": null,
   "id": "ad325f54",
   "metadata": {},
   "outputs": [],
   "source": [
    "methods,properties = class_collect_members(n, parser_config)\n"
   ]
  },
  {
   "cell_type": "code",
   "execution_count": null,
   "id": "11ddc565",
   "metadata": {},
   "outputs": [],
   "source": [
    "mi, = [meth for meth in methods if meth.short_name == 'flatten']\n",
    "mi"
   ]
  },
  {
   "cell_type": "code",
   "execution_count": null,
   "id": "32e4760b",
   "metadata": {},
   "outputs": [],
   "source": [
    "mi.short_name"
   ]
  },
  {
   "cell_type": "code",
   "execution_count": null,
   "id": "3fcb7c15",
   "metadata": {},
   "outputs": [],
   "source": [
    "mi.full_name"
   ]
  },
  {
   "cell_type": "code",
   "execution_count": null,
   "id": "b2517872",
   "metadata": {},
   "outputs": [],
   "source": [
    "mi.py_object"
   ]
  },
  {
   "cell_type": "code",
   "execution_count": null,
   "id": "3b992b37",
   "metadata": {},
   "outputs": [],
   "source": [
    "mi.doc"
   ]
  },
  {
   "cell_type": "code",
   "execution_count": null,
   "id": "1e5039e8",
   "metadata": {},
   "outputs": [],
   "source": [
    "mi.url"
   ]
  },
  {
   "cell_type": "markdown",
   "id": "04500700",
   "metadata": {},
   "source": [
    "## Put it together"
   ]
  },
  {
   "cell_type": "code",
   "execution_count": null,
   "id": "2e1ef9fa",
   "metadata": {},
   "outputs": [],
   "source": [
    "f'## {n.short_name}'"
   ]
  },
  {
   "cell_type": "code",
   "execution_count": null,
   "id": "cd1a7d59",
   "metadata": {},
   "outputs": [],
   "source": [
    "f'`{n.full_name}`'"
   ]
  },
  {
   "cell_type": "code",
   "execution_count": null,
   "id": "30a28c75",
   "metadata": {},
   "outputs": [],
   "source": [
    "doc.brief"
   ]
  },
  {
   "cell_type": "code",
   "execution_count": null,
   "id": "4b45dd76",
   "metadata": {},
   "outputs": [],
   "source": [
    "'Inherits from: ' + ', '.join([f'[{base.short_name}]({base.url})' for base in bases])"
   ]
  },
  {
   "cell_type": "code",
   "execution_count": null,
   "id": "ed55ee09",
   "metadata": {},
   "outputs": [],
   "source": [
    "for part in doc.docstring_parts:\n",
    "    print(render_part(part))    "
   ]
  },
  {
   "cell_type": "code",
   "execution_count": null,
   "id": "02732f09",
   "metadata": {},
   "outputs": [],
   "source": [
    "'### Methods'"
   ]
  },
  {
   "cell_type": "code",
   "execution_count": null,
   "id": "49d6cf36",
   "metadata": {},
   "outputs": [],
   "source": [
    "f'#### `{mi.short_name}`'"
   ]
  },
  {
   "cell_type": "code",
   "execution_count": null,
   "id": "e9eb2347",
   "metadata": {},
   "outputs": [],
   "source": [
    "mi.doc.brief"
   ]
  },
  {
   "cell_type": "code",
   "execution_count": null,
   "id": "ef0db946",
   "metadata": {},
   "outputs": [],
   "source": [
    "for part in mi.doc.docstring_parts:\n",
    "    print(render_part(part))"
   ]
  },
  {
   "cell_type": "code",
   "execution_count": null,
   "id": "1532ef1f",
   "metadata": {},
   "outputs": [],
   "source": [
    "mi.decorators"
   ]
  },
  {
   "cell_type": "code",
   "execution_count": null,
   "id": "f764b7d5",
   "metadata": {},
   "outputs": [],
   "source": [
    "mi.defined_in"
   ]
  },
  {
   "cell_type": "code",
   "execution_count": null,
   "id": "1d305248",
   "metadata": {},
   "outputs": [],
   "source": [
    "print('\\n'.join(method_doc(mi)))"
   ]
  },
  {
   "cell_type": "markdown",
   "id": "ab16183b",
   "metadata": {},
   "source": [
    "## Full"
   ]
  },
  {
   "cell_type": "code",
   "execution_count": null,
   "id": "1d1e2077",
   "metadata": {
    "scrolled": false
   },
   "outputs": [],
   "source": [
    "from IPython.display import Markdown\n",
    "Markdown('\\n'.join(class_doc(n, doc, bases, methods, properties)))"
   ]
  },
  {
   "cell_type": "code",
   "execution_count": null,
   "id": "e3b0e865",
   "metadata": {},
   "outputs": [],
   "source": []
  },
  {
   "cell_type": "code",
   "execution_count": null,
   "id": "0fa8a96e",
   "metadata": {},
   "outputs": [],
   "source": [
    "with open('reference/cirq_qubitization/quantum_graph/composite_bloq.md', 'w') as f:\n",
    "    f.write(\"# Composite Bloq\\n\\n\")\n",
    "    f.write(\"`cirq_qubitization.quantum_graph.composite_bloq`\\n\\n\")\n",
    "    f.write('\\n'.join(class_doc(n, doc, bases, methods, properties)))"
   ]
  },
  {
   "cell_type": "markdown",
   "id": "687caf41",
   "metadata": {},
   "source": [
    "# module"
   ]
  },
  {
   "cell_type": "code",
   "execution_count": null,
   "id": "f2e5da6c",
   "metadata": {},
   "outputs": [],
   "source": [
    "m, = [n for n in api_nodes if n.short_name == 'composite_bloq']\n",
    "m"
   ]
  },
  {
   "cell_type": "code",
   "execution_count": null,
   "id": "546e3837",
   "metadata": {},
   "outputs": [],
   "source": [
    "mpi = ModulePageInfo(api_node=m, parser_config=parser_config)\n",
    "mpi.docs_for_object()\n",
    "mpi"
   ]
  },
  {
   "cell_type": "code",
   "execution_count": null,
   "id": "9c6809e5",
   "metadata": {},
   "outputs": [],
   "source": [
    "membs = module_collect_members(m, parser_config)\n",
    "[memb.short_name for memb in membs]"
   ]
  },
  {
   "cell_type": "code",
   "execution_count": null,
   "id": "df4c6695",
   "metadata": {},
   "outputs": [],
   "source": [
    "membs = filter_and_sort_members(m.py_object, membs)\n",
    "[memb.short_name for memb in membs]"
   ]
  },
  {
   "cell_type": "code",
   "execution_count": null,
   "id": "32e18a13",
   "metadata": {},
   "outputs": [],
   "source": [
    "mpi.modules"
   ]
  },
  {
   "cell_type": "code",
   "execution_count": null,
   "id": "52e31842",
   "metadata": {},
   "outputs": [],
   "source": [
    "mpi.other_members"
   ]
  },
  {
   "cell_type": "code",
   "execution_count": null,
   "id": "d684297b",
   "metadata": {},
   "outputs": [],
   "source": [
    "membs[1]"
   ]
  },
  {
   "cell_type": "code",
   "execution_count": null,
   "id": "e766735e",
   "metadata": {},
   "outputs": [],
   "source": [
    "m.path"
   ]
  },
  {
   "cell_type": "code",
   "execution_count": null,
   "id": "a3318fcb",
   "metadata": {},
   "outputs": [],
   "source": [
    "m"
   ]
  },
  {
   "cell_type": "code",
   "execution_count": null,
   "id": "ee5111f3",
   "metadata": {},
   "outputs": [],
   "source": [
    "parser_config.path_tree[m.path].children"
   ]
  },
  {
   "cell_type": "code",
   "execution_count": null,
   "id": "1c1ac202",
   "metadata": {},
   "outputs": [],
   "source": []
  }
 ],
 "metadata": {
  "kernelspec": {
   "display_name": "Python 3 (ipykernel)",
   "language": "python",
   "name": "python3"
  },
  "language_info": {
   "codemirror_mode": {
    "name": "ipython",
    "version": 3
   },
   "file_extension": ".py",
   "mimetype": "text/x-python",
   "name": "python",
   "nbconvert_exporter": "python",
   "pygments_lexer": "ipython3",
   "version": "3.10.9"
  }
 },
 "nbformat": 4,
 "nbformat_minor": 5
}
