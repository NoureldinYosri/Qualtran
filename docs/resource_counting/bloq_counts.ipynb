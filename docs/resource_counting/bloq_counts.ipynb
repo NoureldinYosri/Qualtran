{
 "cells": [
  {
   "cell_type": "markdown",
   "id": "1fd2bad2",
   "metadata": {},
   "source": [
    "# The Call Graph Protocol\n",
    "\n",
    "The call graph protocol lets you query which subbloq are called in a bloq's decomposition. Proper accounting of the quantity of subroutine calls is a crucial tool in estimating resource requirements for an algorithm. For example, you can expand the call graph until you reach 'expensive' gates like `TGate` or `Toffoli`. The total number of these gates set the runtime of the algorithm."
   ]
  },
  {
   "cell_type": "code",
   "execution_count": 1,
   "id": "2482bd7e",
   "metadata": {},
   "outputs": [
    {
     "data": {
      "image/svg+xml": [
       "<svg xmlns=\"http://www.w3.org/2000/svg\" xmlns:xlink=\"http://www.w3.org/1999/xlink\" width=\"250pt\" height=\"218pt\" viewBox=\"0.00 0.00 249.50 218.00\">\n",
       "<g id=\"graph0\" class=\"graph\" transform=\"scale(1 1) rotate(0) translate(4 214)\">\n",
       "<title>counts</title>\n",
       "<polygon fill=\"white\" stroke=\"transparent\" points=\"-4,4 -4,-214 245.5,-214 245.5,4 -4,4\"/>\n",
       "<!-- b0 -->\n",
       "<g id=\"node1\" class=\"node\">\n",
       "<title>b0</title>\n",
       "<polygon fill=\"none\" stroke=\"black\" points=\"176.5,-210 63.5,-210 63.5,-174 176.5,-174 176.5,-210\"/>\n",
       "<text text-anchor=\"start\" x=\"92.5\" y=\"-193.8\" font-family=\"Times,serif\" font-size=\"14.00\">MultiAnd</text>\n",
       "<text text-anchor=\"start\" x=\"71.5\" y=\"-183\" font-family=\"monospace\" font-size=\"10.00\">cvs=(1, 1, 1 ...</text>\n",
       "</g>\n",
       "<!-- b1 -->\n",
       "<g id=\"node2\" class=\"node\">\n",
       "<title>b1</title>\n",
       "<polygon fill=\"none\" stroke=\"black\" points=\"215.5,-123 24.5,-123 24.5,-87 215.5,-87 215.5,-123\"/>\n",
       "<text text-anchor=\"start\" x=\"108\" y=\"-106.8\" font-family=\"Times,serif\" font-size=\"14.00\">And</text>\n",
       "<text text-anchor=\"start\" x=\"32.5\" y=\"-96\" font-family=\"monospace\" font-size=\"10.00\">cv1=1, cv2=1, uncompute=False</text>\n",
       "</g>\n",
       "<!-- b0&#45;&gt;b1 -->\n",
       "<g id=\"edge1\" class=\"edge\">\n",
       "<title>b0-&gt;b1</title>\n",
       "<path fill=\"none\" stroke=\"black\" d=\"M120,-173.8C120,-162.16 120,-146.55 120,-133.24\"/>\n",
       "<polygon fill=\"black\" stroke=\"black\" points=\"123.5,-133.18 120,-123.18 116.5,-133.18 123.5,-133.18\"/>\n",
       "<text text-anchor=\"middle\" x=\"123.5\" y=\"-144.8\" font-family=\"Times,serif\" font-size=\"14.00\">5</text>\n",
       "</g>\n",
       "<!-- b2 -->\n",
       "<g id=\"node3\" class=\"node\">\n",
       "<title>b2</title>\n",
       "<polygon fill=\"none\" stroke=\"black\" points=\"110,-36 0,-36 0,0 110,0 110,-36\"/>\n",
       "<text text-anchor=\"start\" x=\"8\" y=\"-19.8\" font-family=\"Times,serif\" font-size=\"14.00\">ArbitraryClifford</text>\n",
       "<text text-anchor=\"start\" x=\"45.5\" y=\"-9\" font-family=\"monospace\" font-size=\"10.00\">n=2</text>\n",
       "</g>\n",
       "<!-- b1&#45;&gt;b2 -->\n",
       "<g id=\"edge2\" class=\"edge\">\n",
       "<title>b1-&gt;b2</title>\n",
       "<path fill=\"none\" stroke=\"black\" d=\"M106.85,-86.8C97.51,-74.59 84.82,-57.99 74.33,-44.28\"/>\n",
       "<polygon fill=\"black\" stroke=\"black\" points=\"76.99,-41.99 68.13,-36.18 71.43,-46.25 76.99,-41.99\"/>\n",
       "<text text-anchor=\"middle\" x=\"95.5\" y=\"-57.8\" font-family=\"Times,serif\" font-size=\"14.00\">9</text>\n",
       "</g>\n",
       "<!-- b3 -->\n",
       "<g id=\"node4\" class=\"node\">\n",
       "<title>b3</title>\n",
       "<polygon fill=\"none\" stroke=\"black\" points=\"241.5,-36 128.5,-36 128.5,0 241.5,0 241.5,-36\"/>\n",
       "<text text-anchor=\"start\" x=\"180.5\" y=\"-19.8\" font-family=\"Times,serif\" font-size=\"14.00\">T</text>\n",
       "<text text-anchor=\"start\" x=\"136.5\" y=\"-9\" font-family=\"monospace\" font-size=\"10.00\">is_adjoint=False</text>\n",
       "</g>\n",
       "<!-- b1&#45;&gt;b3 -->\n",
       "<g id=\"edge3\" class=\"edge\">\n",
       "<title>b1-&gt;b3</title>\n",
       "<path fill=\"none\" stroke=\"black\" d=\"M133.15,-86.8C142.49,-74.59 155.18,-57.99 165.67,-44.28\"/>\n",
       "<polygon fill=\"black\" stroke=\"black\" points=\"168.57,-46.25 171.87,-36.18 163.01,-41.99 168.57,-46.25\"/>\n",
       "<text text-anchor=\"middle\" x=\"159.5\" y=\"-57.8\" font-family=\"Times,serif\" font-size=\"14.00\">4</text>\n",
       "</g>\n",
       "</g>\n",
       "</svg>"
      ],
      "text/plain": [
       "<IPython.core.display.SVG object>"
      ]
     },
     "metadata": {},
     "output_type": "display_data"
    },
    {
     "data": {
      "text/markdown": [
       "#### Counts totals:\n",
       " - `ArbitraryClifford(n=2)`: 45\n",
       " - `TGate()`: 20"
      ],
      "text/plain": [
       "<IPython.core.display.Markdown object>"
      ]
     },
     "metadata": {},
     "output_type": "display_data"
    }
   ],
   "source": [
    "from qualtran.drawing import show_call_graph, show_counts_sigma\n",
    "from qualtran.bloqs.and_bloq import MultiAnd, And\n",
    "\n",
    "graph, sigma = MultiAnd(cvs=(1,)*6).call_graph()\n",
    "\n",
    "show_call_graph(graph)\n",
    "show_counts_sigma(sigma)"
   ]
  },
  {
   "cell_type": "markdown",
   "id": "ae6d16de",
   "metadata": {},
   "source": [
    "## Interface\n",
    "\n",
    "The primary method for accessing the call graph of a bloq is `Bloq.call_graph()`. It returns a networkx graph as well as a dictionary of totals for \"leaf\" bloqs. \n",
    "\n",
    "Another method is `Bloq.bloq_counts`, which will return a dictionary of immediate children."
   ]
  },
  {
   "cell_type": "code",
   "execution_count": 2,
   "id": "22557f46",
   "metadata": {},
   "outputs": [
    {
     "data": {
      "text/plain": [
       "{ArbitraryClifford(n=2): 9, TGate(is_adjoint=False): 4}"
      ]
     },
     "execution_count": 2,
     "metadata": {},
     "output_type": "execute_result"
    }
   ],
   "source": [
    "And().bloq_counts()"
   ]
  },
  {
   "cell_type": "markdown",
   "id": "2e4aa56b",
   "metadata": {},
   "source": [
    "These methods both take a `generalizer` argument.\n",
    "\n",
    "Often, bloqs have attributes that are important for describing their specific action but don't affect the bloq's resource cost. For example, `Rx(0.12)` and `Rx(0.13)` should probably be considered equal when counting the number of operations. Another example is given below where we group all two-bit `And` operations no matter their control values. \n",
    "\n",
    "The `generalizer` argument is an optional callable that takes specific bloqs to general bloqs. In the next cell, we build a call graph with non-homogenous control values for `MultiAnd` which results in two different nodes for two-bit `And` showing up in the call-graph."
   ]
  },
  {
   "cell_type": "code",
   "execution_count": 3,
   "id": "3c9f2b05",
   "metadata": {},
   "outputs": [
    {
     "data": {
      "image/svg+xml": [
       "<svg xmlns=\"http://www.w3.org/2000/svg\" xmlns:xlink=\"http://www.w3.org/1999/xlink\" width=\"408pt\" height=\"218pt\" viewBox=\"0.00 0.00 408.00 218.00\">\n",
       "<g id=\"graph0\" class=\"graph\" transform=\"scale(1 1) rotate(0) translate(4 214)\">\n",
       "<title>counts</title>\n",
       "<polygon fill=\"white\" stroke=\"transparent\" points=\"-4,4 -4,-214 404,-214 404,4 -4,4\"/>\n",
       "<!-- b0 -->\n",
       "<g id=\"node1\" class=\"node\">\n",
       "<title>b0</title>\n",
       "<polygon fill=\"none\" stroke=\"black\" points=\"256,-210 143,-210 143,-174 256,-174 256,-210\"/>\n",
       "<text text-anchor=\"start\" x=\"172\" y=\"-193.8\" font-family=\"Times,serif\" font-size=\"14.00\">MultiAnd</text>\n",
       "<text text-anchor=\"start\" x=\"151\" y=\"-183\" font-family=\"monospace\" font-size=\"10.00\">cvs=(1, 0, 1 ...</text>\n",
       "</g>\n",
       "<!-- b1 -->\n",
       "<g id=\"node2\" class=\"node\">\n",
       "<title>b1</title>\n",
       "<polygon fill=\"none\" stroke=\"black\" points=\"191,-123 0,-123 0,-87 191,-87 191,-123\"/>\n",
       "<text text-anchor=\"start\" x=\"83.5\" y=\"-106.8\" font-family=\"Times,serif\" font-size=\"14.00\">And</text>\n",
       "<text text-anchor=\"start\" x=\"8\" y=\"-96\" font-family=\"monospace\" font-size=\"10.00\">cv1=1, cv2=0, uncompute=False</text>\n",
       "</g>\n",
       "<!-- b0&#45;&gt;b1 -->\n",
       "<g id=\"edge1\" class=\"edge\">\n",
       "<title>b0-&gt;b1</title>\n",
       "<path fill=\"none\" stroke=\"black\" d=\"M178.45,-173.8C162.95,-161.13 141.67,-143.73 124.54,-129.74\"/>\n",
       "<polygon fill=\"black\" stroke=\"black\" points=\"126.47,-126.79 116.51,-123.18 122.04,-132.21 126.47,-126.79\"/>\n",
       "<text text-anchor=\"middle\" x=\"158\" y=\"-144.8\" font-family=\"Times,serif\" font-size=\"14.00\">3</text>\n",
       "</g>\n",
       "<!-- b2 -->\n",
       "<g id=\"node3\" class=\"node\">\n",
       "<title>b2</title>\n",
       "<polygon fill=\"none\" stroke=\"black\" points=\"400,-123 209,-123 209,-87 400,-87 400,-123\"/>\n",
       "<text text-anchor=\"start\" x=\"292.5\" y=\"-106.8\" font-family=\"Times,serif\" font-size=\"14.00\">And</text>\n",
       "<text text-anchor=\"start\" x=\"217\" y=\"-96\" font-family=\"monospace\" font-size=\"10.00\">cv1=1, cv2=1, uncompute=False</text>\n",
       "</g>\n",
       "<!-- b0&#45;&gt;b2 -->\n",
       "<g id=\"edge2\" class=\"edge\">\n",
       "<title>b0-&gt;b2</title>\n",
       "<path fill=\"none\" stroke=\"black\" d=\"M220.75,-173.8C236.4,-161.13 257.89,-143.73 275.18,-129.74\"/>\n",
       "<polygon fill=\"black\" stroke=\"black\" points=\"277.71,-132.19 283.28,-123.18 273.31,-126.75 277.71,-132.19\"/>\n",
       "<text text-anchor=\"middle\" x=\"262\" y=\"-144.8\" font-family=\"Times,serif\" font-size=\"14.00\">2</text>\n",
       "</g>\n",
       "<!-- b3 -->\n",
       "<g id=\"node4\" class=\"node\">\n",
       "<title>b3</title>\n",
       "<polygon fill=\"none\" stroke=\"black\" points=\"209.5,-36 99.5,-36 99.5,0 209.5,0 209.5,-36\"/>\n",
       "<text text-anchor=\"start\" x=\"107.5\" y=\"-19.8\" font-family=\"Times,serif\" font-size=\"14.00\">ArbitraryClifford</text>\n",
       "<text text-anchor=\"start\" x=\"145\" y=\"-9\" font-family=\"monospace\" font-size=\"10.00\">n=2</text>\n",
       "</g>\n",
       "<!-- b1&#45;&gt;b3 -->\n",
       "<g id=\"edge3\" class=\"edge\">\n",
       "<title>b1-&gt;b3</title>\n",
       "<path fill=\"none\" stroke=\"black\" d=\"M107.44,-86.8C115.84,-74.7 127.22,-58.3 136.68,-44.67\"/>\n",
       "<polygon fill=\"black\" stroke=\"black\" points=\"139.75,-46.39 142.58,-36.18 134,-42.39 139.75,-46.39\"/>\n",
       "<text text-anchor=\"middle\" x=\"136.5\" y=\"-57.8\" font-family=\"Times,serif\" font-size=\"14.00\">11</text>\n",
       "</g>\n",
       "<!-- b4 -->\n",
       "<g id=\"node5\" class=\"node\">\n",
       "<title>b4</title>\n",
       "<polygon fill=\"none\" stroke=\"black\" points=\"351,-36 238,-36 238,0 351,0 351,-36\"/>\n",
       "<text text-anchor=\"start\" x=\"290\" y=\"-19.8\" font-family=\"Times,serif\" font-size=\"14.00\">T</text>\n",
       "<text text-anchor=\"start\" x=\"246\" y=\"-9\" font-family=\"monospace\" font-size=\"10.00\">is_adjoint=False</text>\n",
       "</g>\n",
       "<!-- b1&#45;&gt;b4 -->\n",
       "<g id=\"edge4\" class=\"edge\">\n",
       "<title>b1-&gt;b4</title>\n",
       "<path fill=\"none\" stroke=\"black\" d=\"M134.29,-86.96C156.56,-77.22 185.06,-64.83 210.5,-54 221.18,-49.45 232.65,-44.63 243.58,-40.07\"/>\n",
       "<polygon fill=\"black\" stroke=\"black\" points=\"245.12,-43.22 253,-36.14 242.43,-36.76 245.12,-43.22\"/>\n",
       "<text text-anchor=\"middle\" x=\"214\" y=\"-57.8\" font-family=\"Times,serif\" font-size=\"14.00\">4</text>\n",
       "</g>\n",
       "<!-- b2&#45;&gt;b3 -->\n",
       "<g id=\"edge5\" class=\"edge\">\n",
       "<title>b2-&gt;b3</title>\n",
       "<path fill=\"none\" stroke=\"black\" d=\"M274.15,-86.8C250.89,-73.62 218.63,-55.34 193.47,-41.08\"/>\n",
       "<polygon fill=\"black\" stroke=\"black\" points=\"194.98,-37.92 184.55,-36.03 191.53,-44.01 194.98,-37.92\"/>\n",
       "<text text-anchor=\"middle\" x=\"242\" y=\"-57.8\" font-family=\"Times,serif\" font-size=\"14.00\">9</text>\n",
       "</g>\n",
       "<!-- b2&#45;&gt;b4 -->\n",
       "<g id=\"edge6\" class=\"edge\">\n",
       "<title>b2-&gt;b4</title>\n",
       "<path fill=\"none\" stroke=\"black\" d=\"M302.48,-86.8C301.11,-75.16 299.27,-59.55 297.7,-46.24\"/>\n",
       "<polygon fill=\"black\" stroke=\"black\" points=\"301.17,-45.7 296.52,-36.18 294.21,-46.52 301.17,-45.7\"/>\n",
       "<text text-anchor=\"middle\" x=\"303\" y=\"-57.8\" font-family=\"Times,serif\" font-size=\"14.00\">4</text>\n",
       "</g>\n",
       "</g>\n",
       "</svg>"
      ],
      "text/plain": [
       "<IPython.core.display.SVG object>"
      ]
     },
     "metadata": {},
     "output_type": "display_data"
    },
    {
     "data": {
      "text/markdown": [
       "#### Counts totals:\n",
       " - `ArbitraryClifford(n=2)`: 51\n",
       " - `TGate()`: 20"
      ],
      "text/plain": [
       "<IPython.core.display.Markdown object>"
      ]
     },
     "metadata": {},
     "output_type": "display_data"
    }
   ],
   "source": [
    "graph, sigma = MultiAnd(cvs=(1,0)*3).call_graph()\n",
    "show_call_graph(graph)\n",
    "show_counts_sigma(sigma)"
   ]
  },
  {
   "cell_type": "markdown",
   "id": "8ae5743b",
   "metadata": {},
   "source": [
    "This level of detail might not be relevant for your particular research. Below, we define a `generalize` function that replaces all control values with placeholder symbol values."
   ]
  },
  {
   "cell_type": "code",
   "execution_count": 4,
   "id": "f5e33995",
   "metadata": {},
   "outputs": [
    {
     "data": {
      "image/svg+xml": [
       "<svg xmlns=\"http://www.w3.org/2000/svg\" xmlns:xlink=\"http://www.w3.org/1999/xlink\" width=\"250pt\" height=\"218pt\" viewBox=\"0.00 0.00 249.50 218.00\">\n",
       "<g id=\"graph0\" class=\"graph\" transform=\"scale(1 1) rotate(0) translate(4 214)\">\n",
       "<title>counts</title>\n",
       "<polygon fill=\"white\" stroke=\"transparent\" points=\"-4,4 -4,-214 245.5,-214 245.5,4 -4,4\"/>\n",
       "<!-- b0 -->\n",
       "<g id=\"node1\" class=\"node\">\n",
       "<title>b0</title>\n",
       "<polygon fill=\"none\" stroke=\"black\" points=\"176.5,-210 63.5,-210 63.5,-174 176.5,-174 176.5,-210\"/>\n",
       "<text text-anchor=\"start\" x=\"92.5\" y=\"-193.8\" font-family=\"Times,serif\" font-size=\"14.00\">MultiAnd</text>\n",
       "<text text-anchor=\"start\" x=\"71.5\" y=\"-183\" font-family=\"monospace\" font-size=\"10.00\">cvs=(1, 0, 1 ...</text>\n",
       "</g>\n",
       "<!-- b1 -->\n",
       "<g id=\"node2\" class=\"node\">\n",
       "<title>b1</title>\n",
       "<polygon fill=\"none\" stroke=\"black\" points=\"239.5,-123 0.5,-123 0.5,-87 239.5,-87 239.5,-123\"/>\n",
       "<text text-anchor=\"start\" x=\"108\" y=\"-106.8\" font-family=\"Times,serif\" font-size=\"14.00\">And</text>\n",
       "<text text-anchor=\"start\" x=\"8.5\" y=\"-96\" font-family=\"monospace\" font-size=\"10.00\">cv1=_cv10, cv2=_cv20, uncompute=False</text>\n",
       "</g>\n",
       "<!-- b0&#45;&gt;b1 -->\n",
       "<g id=\"edge1\" class=\"edge\">\n",
       "<title>b0-&gt;b1</title>\n",
       "<path fill=\"none\" stroke=\"black\" d=\"M120,-173.8C120,-162.16 120,-146.55 120,-133.24\"/>\n",
       "<polygon fill=\"black\" stroke=\"black\" points=\"123.5,-133.18 120,-123.18 116.5,-133.18 123.5,-133.18\"/>\n",
       "<text text-anchor=\"middle\" x=\"123.5\" y=\"-144.8\" font-family=\"Times,serif\" font-size=\"14.00\">5</text>\n",
       "</g>\n",
       "<!-- b2 -->\n",
       "<g id=\"node3\" class=\"node\">\n",
       "<title>b2</title>\n",
       "<polygon fill=\"none\" stroke=\"black\" points=\"110,-36 0,-36 0,0 110,0 110,-36\"/>\n",
       "<text text-anchor=\"start\" x=\"8\" y=\"-19.8\" font-family=\"Times,serif\" font-size=\"14.00\">ArbitraryClifford</text>\n",
       "<text text-anchor=\"start\" x=\"45.5\" y=\"-9\" font-family=\"monospace\" font-size=\"10.00\">n=2</text>\n",
       "</g>\n",
       "<!-- b1&#45;&gt;b2 -->\n",
       "<g id=\"edge2\" class=\"edge\">\n",
       "<title>b1-&gt;b2</title>\n",
       "<path fill=\"none\" stroke=\"black\" d=\"M106.85,-86.8C97.51,-74.59 84.82,-57.99 74.33,-44.28\"/>\n",
       "<polygon fill=\"black\" stroke=\"black\" points=\"76.99,-41.99 68.13,-36.18 71.43,-46.25 76.99,-41.99\"/>\n",
       "<text text-anchor=\"middle\" x=\"105\" y=\"-57.8\" font-family=\"Times,serif\" font-size=\"14.00\">O(1)</text>\n",
       "</g>\n",
       "<!-- b3 -->\n",
       "<g id=\"node4\" class=\"node\">\n",
       "<title>b3</title>\n",
       "<polygon fill=\"none\" stroke=\"black\" points=\"241.5,-36 128.5,-36 128.5,0 241.5,0 241.5,-36\"/>\n",
       "<text text-anchor=\"start\" x=\"180.5\" y=\"-19.8\" font-family=\"Times,serif\" font-size=\"14.00\">T</text>\n",
       "<text text-anchor=\"start\" x=\"136.5\" y=\"-9\" font-family=\"monospace\" font-size=\"10.00\">is_adjoint=False</text>\n",
       "</g>\n",
       "<!-- b1&#45;&gt;b3 -->\n",
       "<g id=\"edge3\" class=\"edge\">\n",
       "<title>b1-&gt;b3</title>\n",
       "<path fill=\"none\" stroke=\"black\" d=\"M133.15,-86.8C142.49,-74.59 155.18,-57.99 165.67,-44.28\"/>\n",
       "<polygon fill=\"black\" stroke=\"black\" points=\"168.57,-46.25 171.87,-36.18 163.01,-41.99 168.57,-46.25\"/>\n",
       "<text text-anchor=\"middle\" x=\"159.5\" y=\"-57.8\" font-family=\"Times,serif\" font-size=\"14.00\">4</text>\n",
       "</g>\n",
       "</g>\n",
       "</svg>"
      ],
      "text/plain": [
       "<IPython.core.display.SVG object>"
      ]
     },
     "metadata": {},
     "output_type": "display_data"
    },
    {
     "data": {
      "text/markdown": [
       "#### Counts totals:\n",
       " - `ArbitraryClifford(n=2)`: $\\displaystyle O\\left(1\\right)$\n",
       " - `TGate()`: 20"
      ],
      "text/plain": [
       "<IPython.core.display.Markdown object>"
      ]
     },
     "metadata": {},
     "output_type": "display_data"
    }
   ],
   "source": [
    "from qualtran.resource_counting import SympySymbolAllocator\n",
    "import attrs\n",
    "\n",
    "ssa = SympySymbolAllocator()\n",
    "cv1 = ssa.new_symbol('cv1')\n",
    "cv2 = ssa.new_symbol('cv2')\n",
    "\n",
    "def ignore_cv(bloq):\n",
    "    if isinstance(bloq, And):\n",
    "        return attrs.evolve(bloq, cv1=cv1, cv2=cv2)\n",
    "    \n",
    "    return bloq\n",
    "\n",
    "graph, sigma = MultiAnd(cvs=(1,0)*3).call_graph(generalizer=ignore_cv)\n",
    "show_call_graph(graph)\n",
    "show_counts_sigma(sigma)"
   ]
  },
  {
   "cell_type": "markdown",
   "id": "0f649914",
   "metadata": {},
   "source": [
    "We no longer have a specific clifford count (it has been replaced with `O(1)`), but we have a much simpler graph topology."
   ]
  },
  {
   "cell_type": "markdown",
   "id": "efcaaac7",
   "metadata": {},
   "source": [
    "## Additional functionality"
   ]
  },
  {
   "cell_type": "markdown",
   "id": "3c02f2e1",
   "metadata": {},
   "source": [
    "The `qualtran.resource_counting` module provides the functionality for building and manipulating call graphs."
   ]
  },
  {
   "cell_type": "markdown",
   "id": "d9cc2b96",
   "metadata": {},
   "source": [
    "## Implementation"
   ]
  },
  {
   "cell_type": "markdown",
   "id": "7ea0cb33",
   "metadata": {},
   "source": [
    "The call graph functionality relies on the `Bloq.build_call_graph(...)` method to implement the protocol. This is where a given bloq's callees is actually encoded.\n",
    "\n",
    "Bloq authors may want to override this method. The system will provide a `SympySymbolAllocator` when calling this method to assist with symbolic resource estimates. Below, we sketch out a bloq with custom bloq counts."
   ]
  },
  {
   "cell_type": "code",
   "execution_count": 5,
   "id": "7211add4",
   "metadata": {},
   "outputs": [],
   "source": [
    "from functools import cached_property\n",
    "from typing import Dict, Optional, Set, Union\n",
    "\n",
    "from attrs import frozen\n",
    "\n",
    "from qualtran import Bloq, BloqBuilder, Register, Side, Signature, SoquetT\n",
    "from qualtran.resource_counting import BloqCountT, SympySymbolAllocator\n",
    "\n",
    "import sympy\n",
    "\n",
    "from qualtran.bloqs.basic_gates import CNOT\n",
    "\n",
    "@frozen\n",
    "class MyFunc(Bloq):\n",
    "    n: Union[int, sympy.Expr]\n",
    "\n",
    "    @cached_property\n",
    "    def signature(self) -> 'Signature':\n",
    "        return Signature.build(x=self.n)\n",
    "\n",
    "    def build_call_graph(self, ssa: 'SympySymbolAllocator') -> Set['BloqCountT']:\n",
    "        return {\n",
    "            (And(), 2*self.n),\n",
    "            (CNOT(), 5),\n",
    "        }"
   ]
  },
  {
   "cell_type": "code",
   "execution_count": 6,
   "id": "ef5d73b6",
   "metadata": {},
   "outputs": [
    {
     "data": {
      "image/svg+xml": [
       "<svg xmlns=\"http://www.w3.org/2000/svg\" xmlns:xlink=\"http://www.w3.org/1999/xlink\" width=\"296pt\" height=\"218pt\" viewBox=\"0.00 0.00 296.00 218.00\">\n",
       "<g id=\"graph0\" class=\"graph\" transform=\"scale(1 1) rotate(0) translate(4 214)\">\n",
       "<title>counts</title>\n",
       "<polygon fill=\"white\" stroke=\"transparent\" points=\"-4,4 -4,-214 292,-214 292,4 -4,4\"/>\n",
       "<!-- b0 -->\n",
       "<g id=\"node1\" class=\"node\">\n",
       "<title>b0</title>\n",
       "<polygon fill=\"none\" stroke=\"black\" points=\"222.5,-210 159.5,-210 159.5,-174 222.5,-174 222.5,-210\"/>\n",
       "<text text-anchor=\"start\" x=\"167.5\" y=\"-193.8\" font-family=\"Times,serif\" font-size=\"14.00\">MyFunc</text>\n",
       "<text text-anchor=\"start\" x=\"181.5\" y=\"-183\" font-family=\"monospace\" font-size=\"10.00\">n=n</text>\n",
       "</g>\n",
       "<!-- b1 -->\n",
       "<g id=\"node2\" class=\"node\">\n",
       "<title>b1</title>\n",
       "<polygon fill=\"none\" stroke=\"black\" points=\"215.5,-123 24.5,-123 24.5,-87 215.5,-87 215.5,-123\"/>\n",
       "<text text-anchor=\"start\" x=\"108\" y=\"-106.8\" font-family=\"Times,serif\" font-size=\"14.00\">And</text>\n",
       "<text text-anchor=\"start\" x=\"32.5\" y=\"-96\" font-family=\"monospace\" font-size=\"10.00\">cv1=1, cv2=1, uncompute=False</text>\n",
       "</g>\n",
       "<!-- b0&#45;&gt;b1 -->\n",
       "<g id=\"edge1\" class=\"edge\">\n",
       "<title>b0-&gt;b1</title>\n",
       "<path fill=\"none\" stroke=\"black\" d=\"M176.63,-173.8C166.33,-161.47 152.31,-144.68 140.79,-130.89\"/>\n",
       "<polygon fill=\"black\" stroke=\"black\" points=\"143.44,-128.61 134.35,-123.18 138.07,-133.09 143.44,-128.61\"/>\n",
       "<text text-anchor=\"middle\" x=\"169.5\" y=\"-144.8\" font-family=\"Times,serif\" font-size=\"14.00\">2⋅n</text>\n",
       "</g>\n",
       "<!-- b2 -->\n",
       "<g id=\"node3\" class=\"node\">\n",
       "<title>b2</title>\n",
       "<polygon fill=\"none\" stroke=\"black\" points=\"288,-123 234,-123 234,-87 288,-87 288,-123\"/>\n",
       "<text text-anchor=\"start\" x=\"242.5\" y=\"-101.3\" font-family=\"Times,serif\" font-size=\"14.00\">CNOT</text>\n",
       "</g>\n",
       "<!-- b0&#45;&gt;b2 -->\n",
       "<g id=\"edge2\" class=\"edge\">\n",
       "<title>b0-&gt;b2</title>\n",
       "<path fill=\"none\" stroke=\"black\" d=\"M205.17,-173.8C215.22,-161.59 228.89,-144.99 240.18,-131.28\"/>\n",
       "<polygon fill=\"black\" stroke=\"black\" points=\"243.2,-133.12 246.86,-123.18 237.8,-128.67 243.2,-133.12\"/>\n",
       "<text text-anchor=\"middle\" x=\"234.5\" y=\"-144.8\" font-family=\"Times,serif\" font-size=\"14.00\">5</text>\n",
       "</g>\n",
       "<!-- b3 -->\n",
       "<g id=\"node4\" class=\"node\">\n",
       "<title>b3</title>\n",
       "<polygon fill=\"none\" stroke=\"black\" points=\"110,-36 0,-36 0,0 110,0 110,-36\"/>\n",
       "<text text-anchor=\"start\" x=\"8\" y=\"-19.8\" font-family=\"Times,serif\" font-size=\"14.00\">ArbitraryClifford</text>\n",
       "<text text-anchor=\"start\" x=\"45.5\" y=\"-9\" font-family=\"monospace\" font-size=\"10.00\">n=2</text>\n",
       "</g>\n",
       "<!-- b1&#45;&gt;b3 -->\n",
       "<g id=\"edge3\" class=\"edge\">\n",
       "<title>b1-&gt;b3</title>\n",
       "<path fill=\"none\" stroke=\"black\" d=\"M106.85,-86.8C97.51,-74.59 84.82,-57.99 74.33,-44.28\"/>\n",
       "<polygon fill=\"black\" stroke=\"black\" points=\"76.99,-41.99 68.13,-36.18 71.43,-46.25 76.99,-41.99\"/>\n",
       "<text text-anchor=\"middle\" x=\"95.5\" y=\"-57.8\" font-family=\"Times,serif\" font-size=\"14.00\">9</text>\n",
       "</g>\n",
       "<!-- b4 -->\n",
       "<g id=\"node5\" class=\"node\">\n",
       "<title>b4</title>\n",
       "<polygon fill=\"none\" stroke=\"black\" points=\"241.5,-36 128.5,-36 128.5,0 241.5,0 241.5,-36\"/>\n",
       "<text text-anchor=\"start\" x=\"180.5\" y=\"-19.8\" font-family=\"Times,serif\" font-size=\"14.00\">T</text>\n",
       "<text text-anchor=\"start\" x=\"136.5\" y=\"-9\" font-family=\"monospace\" font-size=\"10.00\">is_adjoint=False</text>\n",
       "</g>\n",
       "<!-- b1&#45;&gt;b4 -->\n",
       "<g id=\"edge4\" class=\"edge\">\n",
       "<title>b1-&gt;b4</title>\n",
       "<path fill=\"none\" stroke=\"black\" d=\"M133.15,-86.8C142.49,-74.59 155.18,-57.99 165.67,-44.28\"/>\n",
       "<polygon fill=\"black\" stroke=\"black\" points=\"168.57,-46.25 171.87,-36.18 163.01,-41.99 168.57,-46.25\"/>\n",
       "<text text-anchor=\"middle\" x=\"160.5\" y=\"-57.8\" font-family=\"Times,serif\" font-size=\"14.00\">4</text>\n",
       "</g>\n",
       "</g>\n",
       "</svg>"
      ],
      "text/plain": [
       "<IPython.core.display.SVG object>"
      ]
     },
     "metadata": {},
     "output_type": "display_data"
    },
    {
     "data": {
      "text/markdown": [
       "#### Counts totals:\n",
       " - `ArbitraryClifford(n=2)`: $\\displaystyle 18 n$\n",
       " - `CNOT()`: 5\n",
       " - `TGate()`: $\\displaystyle 8 n$"
      ],
      "text/plain": [
       "<IPython.core.display.Markdown object>"
      ]
     },
     "metadata": {},
     "output_type": "display_data"
    }
   ],
   "source": [
    "myfunc = MyFunc(n=sympy.sympify('n'))\n",
    "graph, sigma = myfunc.call_graph()\n",
    "show_call_graph(graph)\n",
    "show_counts_sigma(sigma)"
   ]
  },
  {
   "cell_type": "markdown",
   "id": "df53c923",
   "metadata": {},
   "source": [
    "## Default Fallback\n",
    "\n",
    "If a bloq does not override `build_call_graph(...)`, the default fallback will be used by Qualtran to support the call graph protocol.\n",
    "\n",
    "By default, Qualtran will use the decomposition to count subbloqs called by the bloq. For example, below we author a `SWAP` bloq. We define a decomposition but do not explicitly provide the call graph counts."
   ]
  },
  {
   "cell_type": "code",
   "execution_count": 7,
   "id": "2621b1eb",
   "metadata": {},
   "outputs": [],
   "source": [
    "@frozen\n",
    "class MySwap(Bloq):\n",
    "\n",
    "    @cached_property\n",
    "    def signature(self) -> 'Signature':\n",
    "        return Signature.build(q0=1, q1=1)\n",
    "    \n",
    "    def build_composite_bloq(self, bb, q0, q1):\n",
    "        q0, q1 = bb.add(CNOT(), ctrl=q0, target=q1)\n",
    "        q1, q0 = bb.add(CNOT(), ctrl=q1, target=q0)\n",
    "        q0, q1 = bb.add(CNOT(), ctrl=q0, target=q1)\n",
    "        return {'q0': q0, 'q1': q1}"
   ]
  },
  {
   "cell_type": "markdown",
   "id": "c66f0fd2",
   "metadata": {},
   "source": [
    "The system will simply decompose the bloq and count up the children."
   ]
  },
  {
   "cell_type": "code",
   "execution_count": 8,
   "id": "a6226763",
   "metadata": {},
   "outputs": [
    {
     "data": {
      "image/svg+xml": [
       "<svg xmlns=\"http://www.w3.org/2000/svg\" xmlns:xlink=\"http://www.w3.org/1999/xlink\" width=\"74pt\" height=\"131pt\" viewBox=\"0.00 0.00 74.00 131.00\">\n",
       "<g id=\"graph0\" class=\"graph\" transform=\"scale(1 1) rotate(0) translate(4 127)\">\n",
       "<title>counts</title>\n",
       "<polygon fill=\"white\" stroke=\"transparent\" points=\"-4,4 -4,-127 70,-127 70,4 -4,4\"/>\n",
       "<!-- b0 -->\n",
       "<g id=\"node1\" class=\"node\">\n",
       "<title>b0</title>\n",
       "<polygon fill=\"none\" stroke=\"black\" points=\"66,-123 0,-123 0,-87 66,-87 66,-123\"/>\n",
       "<text text-anchor=\"start\" x=\"8\" y=\"-101.3\" font-family=\"Times,serif\" font-size=\"14.00\">MySwap</text>\n",
       "</g>\n",
       "<!-- b1 -->\n",
       "<g id=\"node2\" class=\"node\">\n",
       "<title>b1</title>\n",
       "<polygon fill=\"none\" stroke=\"black\" points=\"60,-36 6,-36 6,0 60,0 60,-36\"/>\n",
       "<text text-anchor=\"start\" x=\"14.5\" y=\"-14.3\" font-family=\"Times,serif\" font-size=\"14.00\">CNOT</text>\n",
       "</g>\n",
       "<!-- b0&#45;&gt;b1 -->\n",
       "<g id=\"edge1\" class=\"edge\">\n",
       "<title>b0-&gt;b1</title>\n",
       "<path fill=\"none\" stroke=\"black\" d=\"M33,-86.8C33,-75.16 33,-59.55 33,-46.24\"/>\n",
       "<polygon fill=\"black\" stroke=\"black\" points=\"36.5,-46.18 33,-36.18 29.5,-46.18 36.5,-46.18\"/>\n",
       "<text text-anchor=\"middle\" x=\"36.5\" y=\"-57.8\" font-family=\"Times,serif\" font-size=\"14.00\">3</text>\n",
       "</g>\n",
       "</g>\n",
       "</svg>"
      ],
      "text/plain": [
       "<IPython.core.display.SVG object>"
      ]
     },
     "metadata": {},
     "output_type": "display_data"
    },
    {
     "data": {
      "text/markdown": [
       "#### Counts totals:\n",
       " - `CNOT()`: 3"
      ],
      "text/plain": [
       "<IPython.core.display.Markdown object>"
      ]
     },
     "metadata": {},
     "output_type": "display_data"
    }
   ],
   "source": [
    "graph, sigma = MySwap().call_graph()\n",
    "show_call_graph(graph)\n",
    "show_counts_sigma(sigma)"
   ]
  }
 ],
 "metadata": {
  "kernelspec": {
   "display_name": "Python 3 (ipykernel)",
   "language": "python",
   "name": "python3"
  },
  "language_info": {
   "codemirror_mode": {
    "name": "ipython",
    "version": 3
   },
   "file_extension": ".py",
   "mimetype": "text/x-python",
   "name": "python",
   "nbconvert_exporter": "python",
   "pygments_lexer": "ipython3",
   "version": "3.10.12"
  }
 },
 "nbformat": 4,
 "nbformat_minor": 5
}
