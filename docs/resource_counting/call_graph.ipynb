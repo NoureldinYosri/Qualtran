{
 "cells": [
  {
   "cell_type": "markdown",
   "id": "1fd2bad2",
   "metadata": {},
   "source": [
    "# The Call Graph Protocol\n",
    "\n",
    "The call graph protocol lets you query which subbloq are called in a bloq's decomposition. Proper accounting of the quantity of subroutine calls is a crucial tool in estimating resource requirements for an algorithm. For example, the number of 'expensive' gates like `TGate` or `Toffoli` required by a bloq is the sum of the number of those gates used by the bloq's callees."
   ]
  },
  {
   "cell_type": "code",
   "execution_count": 1,
   "id": "2482bd7e",
   "metadata": {},
   "outputs": [
    {
     "data": {
      "image/svg+xml": [
       "<svg xmlns=\"http://www.w3.org/2000/svg\" xmlns:xlink=\"http://www.w3.org/1999/xlink\" width=\"250pt\" height=\"218pt\" viewBox=\"0.00 0.00 249.50 218.00\">\n",
       "<g id=\"graph0\" class=\"graph\" transform=\"scale(1 1) rotate(0) translate(4 214)\">\n",
       "<title>counts</title>\n",
       "<polygon fill=\"white\" stroke=\"transparent\" points=\"-4,4 -4,-214 245.5,-214 245.5,4 -4,4\"/>\n",
       "<!-- b0 -->\n",
       "<g id=\"node1\" class=\"node\">\n",
       "<title>b0</title>\n",
       "<polygon fill=\"none\" stroke=\"black\" points=\"176.5,-210 63.5,-210 63.5,-174 176.5,-174 176.5,-210\"/>\n",
       "<text text-anchor=\"start\" x=\"92.5\" y=\"-193.8\" font-family=\"Times,serif\" font-size=\"14.00\">MultiAnd</text>\n",
       "<text text-anchor=\"start\" x=\"71.5\" y=\"-183\" font-family=\"monospace\" font-size=\"10.00\">cvs=(1, 1, 1 ...</text>\n",
       "</g>\n",
       "<!-- b1 -->\n",
       "<g id=\"node2\" class=\"node\">\n",
       "<title>b1</title>\n",
       "<polygon fill=\"none\" stroke=\"black\" points=\"215.5,-123 24.5,-123 24.5,-87 215.5,-87 215.5,-123\"/>\n",
       "<text text-anchor=\"start\" x=\"108\" y=\"-106.8\" font-family=\"Times,serif\" font-size=\"14.00\">And</text>\n",
       "<text text-anchor=\"start\" x=\"32.5\" y=\"-96\" font-family=\"monospace\" font-size=\"10.00\">cv1=1, cv2=1, uncompute=False</text>\n",
       "</g>\n",
       "<!-- b0&#45;&gt;b1 -->\n",
       "<g id=\"edge1\" class=\"edge\">\n",
       "<title>b0-&gt;b1</title>\n",
       "<path fill=\"none\" stroke=\"black\" d=\"M120,-173.8C120,-162.16 120,-146.55 120,-133.24\"/>\n",
       "<polygon fill=\"black\" stroke=\"black\" points=\"123.5,-133.18 120,-123.18 116.5,-133.18 123.5,-133.18\"/>\n",
       "<text text-anchor=\"middle\" x=\"123.5\" y=\"-144.8\" font-family=\"Times,serif\" font-size=\"14.00\">5</text>\n",
       "</g>\n",
       "<!-- b2 -->\n",
       "<g id=\"node3\" class=\"node\">\n",
       "<title>b2</title>\n",
       "<polygon fill=\"none\" stroke=\"black\" points=\"110,-36 0,-36 0,0 110,0 110,-36\"/>\n",
       "<text text-anchor=\"start\" x=\"8\" y=\"-19.8\" font-family=\"Times,serif\" font-size=\"14.00\">ArbitraryClifford</text>\n",
       "<text text-anchor=\"start\" x=\"45.5\" y=\"-9\" font-family=\"monospace\" font-size=\"10.00\">n=2</text>\n",
       "</g>\n",
       "<!-- b1&#45;&gt;b2 -->\n",
       "<g id=\"edge2\" class=\"edge\">\n",
       "<title>b1-&gt;b2</title>\n",
       "<path fill=\"none\" stroke=\"black\" d=\"M106.85,-86.8C97.51,-74.59 84.82,-57.99 74.33,-44.28\"/>\n",
       "<polygon fill=\"black\" stroke=\"black\" points=\"76.99,-41.99 68.13,-36.18 71.43,-46.25 76.99,-41.99\"/>\n",
       "<text text-anchor=\"middle\" x=\"95.5\" y=\"-57.8\" font-family=\"Times,serif\" font-size=\"14.00\">9</text>\n",
       "</g>\n",
       "<!-- b3 -->\n",
       "<g id=\"node4\" class=\"node\">\n",
       "<title>b3</title>\n",
       "<polygon fill=\"none\" stroke=\"black\" points=\"241.5,-36 128.5,-36 128.5,0 241.5,0 241.5,-36\"/>\n",
       "<text text-anchor=\"start\" x=\"180.5\" y=\"-19.8\" font-family=\"Times,serif\" font-size=\"14.00\">T</text>\n",
       "<text text-anchor=\"start\" x=\"136.5\" y=\"-9\" font-family=\"monospace\" font-size=\"10.00\">is_adjoint=False</text>\n",
       "</g>\n",
       "<!-- b1&#45;&gt;b3 -->\n",
       "<g id=\"edge3\" class=\"edge\">\n",
       "<title>b1-&gt;b3</title>\n",
       "<path fill=\"none\" stroke=\"black\" d=\"M133.15,-86.8C142.49,-74.59 155.18,-57.99 165.67,-44.28\"/>\n",
       "<polygon fill=\"black\" stroke=\"black\" points=\"168.57,-46.25 171.87,-36.18 163.01,-41.99 168.57,-46.25\"/>\n",
       "<text text-anchor=\"middle\" x=\"159.5\" y=\"-57.8\" font-family=\"Times,serif\" font-size=\"14.00\">4</text>\n",
       "</g>\n",
       "</g>\n",
       "</svg>"
      ],
      "text/plain": [
       "<IPython.core.display.SVG object>"
      ]
     },
     "metadata": {},
     "output_type": "display_data"
    }
   ],
   "source": [
    "from qualtran.drawing import show_call_graph, show_counts_sigma\n",
    "from qualtran.bloqs.mcmt import MultiAnd, And\n",
    "\n",
    "graph, _ = MultiAnd(cvs=(1,)*6).call_graph()\n",
    "show_call_graph(graph)"
   ]
  },
  {
   "cell_type": "markdown",
   "id": "ae6d16de",
   "metadata": {},
   "source": [
    "## Interface\n",
    "\n",
    "The primary method for accessing the call graph of a bloq is `Bloq.call_graph()`. It returns a networkx graph as well as an accounting of total bloq counts for \"leaf\" bloqs. \n",
    "\n",
    "Another method is `Bloq.bloq_counts`, which will return a dictionary of immediate children."
   ]
  },
  {
   "cell_type": "code",
   "execution_count": 2,
   "id": "22557f46",
   "metadata": {},
   "outputs": [
    {
     "data": {
      "text/plain": [
       "{ArbitraryClifford(n=2): 9, TGate(is_adjoint=False): 4}"
      ]
     },
     "execution_count": 2,
     "metadata": {},
     "output_type": "execute_result"
    }
   ],
   "source": [
    "And().bloq_counts()"
   ]
  },
  {
   "cell_type": "markdown",
   "id": "2e4aa56b",
   "metadata": {},
   "source": [
    "These methods both take a `generalizer` argument.\n",
    "\n",
    "Often, bloqs have attributes that are important for describing their specific action but don't affect the bloq's resource cost. For example, `Rx(0.12)` and `Rx(0.13)` should probably be considered equal when counting the number of operations. Another example is given below where we group all two-bit `And` operations no matter their control values. \n",
    "\n",
    "The `generalizer` argument is an optional callable that takes specific bloqs to general bloqs. In the next cell, we build a call graph with non-homogenous control values for `MultiAnd` which results in two different nodes for two-bit `And` showing up in the call-graph."
   ]
  },
  {
   "cell_type": "code",
   "execution_count": 3,
   "id": "3c9f2b05",
   "metadata": {},
   "outputs": [
    {
     "data": {
      "image/svg+xml": [
       "<svg xmlns=\"http://www.w3.org/2000/svg\" xmlns:xlink=\"http://www.w3.org/1999/xlink\" width=\"312pt\" height=\"218pt\" viewBox=\"0.00 0.00 312.00 218.00\">\n",
       "<g id=\"graph0\" class=\"graph\" transform=\"scale(1 1) rotate(0) translate(4 214)\">\n",
       "<title>counts</title>\n",
       "<polygon fill=\"white\" stroke=\"transparent\" points=\"-4,4 -4,-214 308,-214 308,4 -4,4\"/>\n",
       "<!-- b0 -->\n",
       "<g id=\"node1\" class=\"node\">\n",
       "<title>b0</title>\n",
       "<polygon fill=\"none\" stroke=\"black\" points=\"113,-210 0,-210 0,-174 113,-174 113,-210\"/>\n",
       "<text text-anchor=\"start\" x=\"29\" y=\"-193.8\" font-family=\"Times,serif\" font-size=\"14.00\">MultiAnd</text>\n",
       "<text text-anchor=\"start\" x=\"8\" y=\"-183\" font-family=\"monospace\" font-size=\"10.00\">cvs=(1, 0, 1 ...</text>\n",
       "</g>\n",
       "<!-- b1 -->\n",
       "<g id=\"node2\" class=\"node\">\n",
       "<title>b1</title>\n",
       "<polygon fill=\"none\" stroke=\"black\" points=\"68.5,-123 14.5,-123 14.5,-87 68.5,-87 68.5,-123\"/>\n",
       "<text text-anchor=\"start\" x=\"23.5\" y=\"-101.3\" font-family=\"Times,serif\" font-size=\"14.00\">XGate</text>\n",
       "</g>\n",
       "<!-- b0&#45;&gt;b1 -->\n",
       "<g id=\"edge1\" class=\"edge\">\n",
       "<title>b0-&gt;b1</title>\n",
       "<path fill=\"none\" stroke=\"black\" d=\"M53.46,-173.8C51.41,-162.16 48.66,-146.55 46.31,-133.24\"/>\n",
       "<polygon fill=\"black\" stroke=\"black\" points=\"49.72,-132.41 44.53,-123.18 42.82,-133.63 49.72,-132.41\"/>\n",
       "<text text-anchor=\"middle\" x=\"54\" y=\"-144.8\" font-family=\"Times,serif\" font-size=\"14.00\">6</text>\n",
       "</g>\n",
       "<!-- b2 -->\n",
       "<g id=\"node3\" class=\"node\">\n",
       "<title>b2</title>\n",
       "<polygon fill=\"none\" stroke=\"black\" points=\"278,-123 87,-123 87,-87 278,-87 278,-123\"/>\n",
       "<text text-anchor=\"start\" x=\"170.5\" y=\"-106.8\" font-family=\"Times,serif\" font-size=\"14.00\">And</text>\n",
       "<text text-anchor=\"start\" x=\"95\" y=\"-96\" font-family=\"monospace\" font-size=\"10.00\">cv1=1, cv2=1, uncompute=False</text>\n",
       "</g>\n",
       "<!-- b0&#45;&gt;b2 -->\n",
       "<g id=\"edge2\" class=\"edge\">\n",
       "<title>b0-&gt;b2</title>\n",
       "<path fill=\"none\" stroke=\"black\" d=\"M82,-173.8C101.21,-160.84 127.74,-142.94 148.72,-128.79\"/>\n",
       "<polygon fill=\"black\" stroke=\"black\" points=\"150.71,-131.67 157.04,-123.18 146.79,-125.87 150.71,-131.67\"/>\n",
       "<text text-anchor=\"middle\" x=\"131\" y=\"-144.8\" font-family=\"Times,serif\" font-size=\"14.00\">5</text>\n",
       "</g>\n",
       "<!-- b3 -->\n",
       "<g id=\"node4\" class=\"node\">\n",
       "<title>b3</title>\n",
       "<polygon fill=\"none\" stroke=\"black\" points=\"172.5,-36 62.5,-36 62.5,0 172.5,0 172.5,-36\"/>\n",
       "<text text-anchor=\"start\" x=\"70.5\" y=\"-19.8\" font-family=\"Times,serif\" font-size=\"14.00\">ArbitraryClifford</text>\n",
       "<text text-anchor=\"start\" x=\"108\" y=\"-9\" font-family=\"monospace\" font-size=\"10.00\">n=2</text>\n",
       "</g>\n",
       "<!-- b2&#45;&gt;b3 -->\n",
       "<g id=\"edge3\" class=\"edge\">\n",
       "<title>b2-&gt;b3</title>\n",
       "<path fill=\"none\" stroke=\"black\" d=\"M169.35,-86.8C160.01,-74.59 147.32,-57.99 136.83,-44.28\"/>\n",
       "<polygon fill=\"black\" stroke=\"black\" points=\"139.49,-41.99 130.63,-36.18 133.93,-46.25 139.49,-41.99\"/>\n",
       "<text text-anchor=\"middle\" x=\"158\" y=\"-57.8\" font-family=\"Times,serif\" font-size=\"14.00\">9</text>\n",
       "</g>\n",
       "<!-- b4 -->\n",
       "<g id=\"node5\" class=\"node\">\n",
       "<title>b4</title>\n",
       "<polygon fill=\"none\" stroke=\"black\" points=\"304,-36 191,-36 191,0 304,0 304,-36\"/>\n",
       "<text text-anchor=\"start\" x=\"243\" y=\"-19.8\" font-family=\"Times,serif\" font-size=\"14.00\">T</text>\n",
       "<text text-anchor=\"start\" x=\"199\" y=\"-9\" font-family=\"monospace\" font-size=\"10.00\">is_adjoint=False</text>\n",
       "</g>\n",
       "<!-- b2&#45;&gt;b4 -->\n",
       "<g id=\"edge4\" class=\"edge\">\n",
       "<title>b2-&gt;b4</title>\n",
       "<path fill=\"none\" stroke=\"black\" d=\"M195.65,-86.8C204.99,-74.59 217.68,-57.99 228.17,-44.28\"/>\n",
       "<polygon fill=\"black\" stroke=\"black\" points=\"231.07,-46.25 234.37,-36.18 225.51,-41.99 231.07,-46.25\"/>\n",
       "<text text-anchor=\"middle\" x=\"222\" y=\"-57.8\" font-family=\"Times,serif\" font-size=\"14.00\">4</text>\n",
       "</g>\n",
       "</g>\n",
       "</svg>"
      ],
      "text/plain": [
       "<IPython.core.display.SVG object>"
      ]
     },
     "metadata": {},
     "output_type": "display_data"
    },
    {
     "data": {
      "text/markdown": [
       "#### Counts totals:\n",
       " - `ArbitraryClifford(n=2)`: 45\n",
       " - `T`: 20\n",
       " - `XGate`: 6"
      ],
      "text/plain": [
       "<IPython.core.display.Markdown object>"
      ]
     },
     "metadata": {},
     "output_type": "display_data"
    }
   ],
   "source": [
    "graph, sigma = MultiAnd(cvs=(1,0)*3).call_graph()\n",
    "show_call_graph(graph)\n",
    "show_counts_sigma(sigma)"
   ]
  },
  {
   "cell_type": "markdown",
   "id": "8ae5743b",
   "metadata": {},
   "source": [
    "This level of detail might not be relevant for your particular research. Below, we define a `generalize` function that replaces all control values with placeholder symbol values."
   ]
  },
  {
   "cell_type": "code",
   "execution_count": 4,
   "id": "f5e33995",
   "metadata": {},
   "outputs": [
    {
     "data": {
      "image/svg+xml": [
       "<svg xmlns=\"http://www.w3.org/2000/svg\" xmlns:xlink=\"http://www.w3.org/1999/xlink\" width=\"336pt\" height=\"218pt\" viewBox=\"0.00 0.00 336.00 218.00\">\n",
       "<g id=\"graph0\" class=\"graph\" transform=\"scale(1 1) rotate(0) translate(4 214)\">\n",
       "<title>counts</title>\n",
       "<polygon fill=\"white\" stroke=\"transparent\" points=\"-4,4 -4,-214 332,-214 332,4 -4,4\"/>\n",
       "<!-- b0 -->\n",
       "<g id=\"node1\" class=\"node\">\n",
       "<title>b0</title>\n",
       "<polygon fill=\"none\" stroke=\"black\" points=\"113,-210 0,-210 0,-174 113,-174 113,-210\"/>\n",
       "<text text-anchor=\"start\" x=\"29\" y=\"-193.8\" font-family=\"Times,serif\" font-size=\"14.00\">MultiAnd</text>\n",
       "<text text-anchor=\"start\" x=\"8\" y=\"-183\" font-family=\"monospace\" font-size=\"10.00\">cvs=(1, 0, 1 ...</text>\n",
       "</g>\n",
       "<!-- b1 -->\n",
       "<g id=\"node2\" class=\"node\">\n",
       "<title>b1</title>\n",
       "<polygon fill=\"none\" stroke=\"black\" points=\"68.5,-123 14.5,-123 14.5,-87 68.5,-87 68.5,-123\"/>\n",
       "<text text-anchor=\"start\" x=\"23.5\" y=\"-101.3\" font-family=\"Times,serif\" font-size=\"14.00\">XGate</text>\n",
       "</g>\n",
       "<!-- b0&#45;&gt;b1 -->\n",
       "<g id=\"edge1\" class=\"edge\">\n",
       "<title>b0-&gt;b1</title>\n",
       "<path fill=\"none\" stroke=\"black\" d=\"M53.46,-173.8C51.41,-162.16 48.66,-146.55 46.31,-133.24\"/>\n",
       "<polygon fill=\"black\" stroke=\"black\" points=\"49.72,-132.41 44.53,-123.18 42.82,-133.63 49.72,-132.41\"/>\n",
       "<text text-anchor=\"middle\" x=\"54\" y=\"-144.8\" font-family=\"Times,serif\" font-size=\"14.00\">6</text>\n",
       "</g>\n",
       "<!-- b2 -->\n",
       "<g id=\"node3\" class=\"node\">\n",
       "<title>b2</title>\n",
       "<polygon fill=\"none\" stroke=\"black\" points=\"326,-123 87,-123 87,-87 326,-87 326,-123\"/>\n",
       "<text text-anchor=\"start\" x=\"194.5\" y=\"-106.8\" font-family=\"Times,serif\" font-size=\"14.00\">And</text>\n",
       "<text text-anchor=\"start\" x=\"95\" y=\"-96\" font-family=\"monospace\" font-size=\"10.00\">cv1=_cv10, cv2=_cv20, uncompute=False</text>\n",
       "</g>\n",
       "<!-- b0&#45;&gt;b2 -->\n",
       "<g id=\"edge2\" class=\"edge\">\n",
       "<title>b0-&gt;b2</title>\n",
       "<path fill=\"none\" stroke=\"black\" d=\"M86.85,-173.8C110.11,-160.62 142.37,-142.34 167.53,-128.08\"/>\n",
       "<polygon fill=\"black\" stroke=\"black\" points=\"169.47,-131.01 176.45,-123.03 166.02,-124.92 169.47,-131.01\"/>\n",
       "<text text-anchor=\"middle\" x=\"144\" y=\"-144.8\" font-family=\"Times,serif\" font-size=\"14.00\">5</text>\n",
       "</g>\n",
       "<!-- b3 -->\n",
       "<g id=\"node4\" class=\"node\">\n",
       "<title>b3</title>\n",
       "<polygon fill=\"none\" stroke=\"black\" points=\"196.5,-36 86.5,-36 86.5,0 196.5,0 196.5,-36\"/>\n",
       "<text text-anchor=\"start\" x=\"94.5\" y=\"-19.8\" font-family=\"Times,serif\" font-size=\"14.00\">ArbitraryClifford</text>\n",
       "<text text-anchor=\"start\" x=\"132\" y=\"-9\" font-family=\"monospace\" font-size=\"10.00\">n=2</text>\n",
       "</g>\n",
       "<!-- b2&#45;&gt;b3 -->\n",
       "<g id=\"edge3\" class=\"edge\">\n",
       "<title>b2-&gt;b3</title>\n",
       "<path fill=\"none\" stroke=\"black\" d=\"M193.35,-86.8C184.01,-74.59 171.32,-57.99 160.83,-44.28\"/>\n",
       "<polygon fill=\"black\" stroke=\"black\" points=\"163.49,-41.99 154.63,-36.18 157.93,-46.25 163.49,-41.99\"/>\n",
       "<text text-anchor=\"middle\" x=\"191.5\" y=\"-57.8\" font-family=\"Times,serif\" font-size=\"14.00\">O(1)</text>\n",
       "</g>\n",
       "<!-- b4 -->\n",
       "<g id=\"node5\" class=\"node\">\n",
       "<title>b4</title>\n",
       "<polygon fill=\"none\" stroke=\"black\" points=\"328,-36 215,-36 215,0 328,0 328,-36\"/>\n",
       "<text text-anchor=\"start\" x=\"267\" y=\"-19.8\" font-family=\"Times,serif\" font-size=\"14.00\">T</text>\n",
       "<text text-anchor=\"start\" x=\"223\" y=\"-9\" font-family=\"monospace\" font-size=\"10.00\">is_adjoint=False</text>\n",
       "</g>\n",
       "<!-- b2&#45;&gt;b4 -->\n",
       "<g id=\"edge4\" class=\"edge\">\n",
       "<title>b2-&gt;b4</title>\n",
       "<path fill=\"none\" stroke=\"black\" d=\"M219.65,-86.8C228.99,-74.59 241.68,-57.99 252.17,-44.28\"/>\n",
       "<polygon fill=\"black\" stroke=\"black\" points=\"255.07,-46.25 258.37,-36.18 249.51,-41.99 255.07,-46.25\"/>\n",
       "<text text-anchor=\"middle\" x=\"246\" y=\"-57.8\" font-family=\"Times,serif\" font-size=\"14.00\">4</text>\n",
       "</g>\n",
       "</g>\n",
       "</svg>"
      ],
      "text/plain": [
       "<IPython.core.display.SVG object>"
      ]
     },
     "metadata": {},
     "output_type": "display_data"
    },
    {
     "data": {
      "text/markdown": [
       "#### Counts totals:\n",
       " - `ArbitraryClifford(n=2)`: $\\displaystyle O\\left(1\\right)$\n",
       " - `T`: 20\n",
       " - `XGate`: 6"
      ],
      "text/plain": [
       "<IPython.core.display.Markdown object>"
      ]
     },
     "metadata": {},
     "output_type": "display_data"
    }
   ],
   "source": [
    "from qualtran.resource_counting import SympySymbolAllocator\n",
    "import attrs\n",
    "\n",
    "ssa = SympySymbolAllocator()\n",
    "cv1 = ssa.new_symbol('cv1')\n",
    "cv2 = ssa.new_symbol('cv2')\n",
    "\n",
    "def ignore_cv(bloq):\n",
    "    if isinstance(bloq, And):\n",
    "        return attrs.evolve(bloq, cv1=cv1, cv2=cv2)\n",
    "    \n",
    "    return bloq\n",
    "\n",
    "graph, sigma = MultiAnd(cvs=(1,0)*3).call_graph(generalizer=ignore_cv)\n",
    "show_call_graph(graph)\n",
    "show_counts_sigma(sigma)"
   ]
  },
  {
   "cell_type": "markdown",
   "id": "0f649914",
   "metadata": {},
   "source": [
    "We no longer have a specific clifford count (it has been replaced with `O(1)`), but we have a much simpler graph topology."
   ]
  },
  {
   "cell_type": "markdown",
   "id": "efcaaac7",
   "metadata": {},
   "source": [
    "## Additional functionality"
   ]
  },
  {
   "cell_type": "markdown",
   "id": "3c02f2e1",
   "metadata": {},
   "source": [
    "The `qualtran.resource_counting` module provides the functionality for building and manipulating call graphs."
   ]
  },
  {
   "cell_type": "markdown",
   "id": "d9cc2b96",
   "metadata": {},
   "source": [
    "## Implementation"
   ]
  },
  {
   "cell_type": "markdown",
   "id": "7ea0cb33",
   "metadata": {},
   "source": [
    "The call graph functionality relies on the `Bloq.build_call_graph(...)` method to implement the protocol. This is where a given bloq's callees is actually encoded.\n",
    "\n",
    "Bloq authors may want to override this method. The system will provide a `SympySymbolAllocator` when calling this method to assist with symbolic resource estimates. Below, we sketch out a bloq with custom bloq counts."
   ]
  },
  {
   "cell_type": "code",
   "execution_count": 5,
   "id": "7211add4",
   "metadata": {},
   "outputs": [],
   "source": [
    "from functools import cached_property\n",
    "from typing import Dict, Optional, Set, Union\n",
    "\n",
    "from attrs import frozen\n",
    "\n",
    "from qualtran import Bloq, BloqBuilder, Register, Side, Signature, SoquetT\n",
    "from qualtran.resource_counting import BloqCountT, SympySymbolAllocator\n",
    "\n",
    "import sympy\n",
    "\n",
    "from qualtran.bloqs.basic_gates import CNOT\n",
    "\n",
    "@frozen\n",
    "class MyFunc(Bloq):\n",
    "    n: Union[int, sympy.Expr]\n",
    "\n",
    "    @cached_property\n",
    "    def signature(self) -> 'Signature':\n",
    "        return Signature.build(x=self.n)\n",
    "\n",
    "    def build_call_graph(self, ssa: 'SympySymbolAllocator') -> Set['BloqCountT']:\n",
    "        return {\n",
    "            (And(), 2*self.n),\n",
    "            (CNOT(), 5),\n",
    "        }"
   ]
  },
  {
   "cell_type": "code",
   "execution_count": 6,
   "id": "ef5d73b6",
   "metadata": {},
   "outputs": [
    {
     "data": {
      "image/svg+xml": [
       "<svg xmlns=\"http://www.w3.org/2000/svg\" xmlns:xlink=\"http://www.w3.org/1999/xlink\" width=\"298pt\" height=\"218pt\" viewBox=\"0.00 0.00 297.50 218.00\">\n",
       "<g id=\"graph0\" class=\"graph\" transform=\"scale(1 1) rotate(0) translate(4 214)\">\n",
       "<title>counts</title>\n",
       "<polygon fill=\"white\" stroke=\"transparent\" points=\"-4,4 -4,-214 293.5,-214 293.5,4 -4,4\"/>\n",
       "<!-- b0 -->\n",
       "<g id=\"node1\" class=\"node\">\n",
       "<title>b0</title>\n",
       "<polygon fill=\"none\" stroke=\"black\" points=\"73.5,-210 10.5,-210 10.5,-174 73.5,-174 73.5,-210\"/>\n",
       "<text text-anchor=\"start\" x=\"18.5\" y=\"-193.8\" font-family=\"Times,serif\" font-size=\"14.00\">MyFunc</text>\n",
       "<text text-anchor=\"start\" x=\"32.5\" y=\"-183\" font-family=\"monospace\" font-size=\"10.00\">n=n</text>\n",
       "</g>\n",
       "<!-- b1 -->\n",
       "<g id=\"node2\" class=\"node\">\n",
       "<title>b1</title>\n",
       "<polygon fill=\"none\" stroke=\"black\" points=\"54,-123 0,-123 0,-87 54,-87 54,-123\"/>\n",
       "<text text-anchor=\"start\" x=\"8.5\" y=\"-101.3\" font-family=\"Times,serif\" font-size=\"14.00\">CNOT</text>\n",
       "</g>\n",
       "<!-- b0&#45;&gt;b1 -->\n",
       "<g id=\"edge1\" class=\"edge\">\n",
       "<title>b0-&gt;b1</title>\n",
       "<path fill=\"none\" stroke=\"black\" d=\"M38.96,-173.8C36.91,-162.16 34.16,-146.55 31.81,-133.24\"/>\n",
       "<polygon fill=\"black\" stroke=\"black\" points=\"35.22,-132.41 30.03,-123.18 28.32,-133.63 35.22,-132.41\"/>\n",
       "<text text-anchor=\"middle\" x=\"39.5\" y=\"-144.8\" font-family=\"Times,serif\" font-size=\"14.00\">5</text>\n",
       "</g>\n",
       "<!-- b2 -->\n",
       "<g id=\"node3\" class=\"node\">\n",
       "<title>b2</title>\n",
       "<polygon fill=\"none\" stroke=\"black\" points=\"263.5,-123 72.5,-123 72.5,-87 263.5,-87 263.5,-123\"/>\n",
       "<text text-anchor=\"start\" x=\"156\" y=\"-106.8\" font-family=\"Times,serif\" font-size=\"14.00\">And</text>\n",
       "<text text-anchor=\"start\" x=\"80.5\" y=\"-96\" font-family=\"monospace\" font-size=\"10.00\">cv1=1, cv2=1, uncompute=False</text>\n",
       "</g>\n",
       "<!-- b0&#45;&gt;b2 -->\n",
       "<g id=\"edge2\" class=\"edge\">\n",
       "<title>b0-&gt;b2</title>\n",
       "<path fill=\"none\" stroke=\"black\" d=\"M67.5,-173.8C86.71,-160.84 113.24,-142.94 134.22,-128.79\"/>\n",
       "<polygon fill=\"black\" stroke=\"black\" points=\"136.21,-131.67 142.54,-123.18 132.29,-125.87 136.21,-131.67\"/>\n",
       "<text text-anchor=\"middle\" x=\"122.5\" y=\"-144.8\" font-family=\"Times,serif\" font-size=\"14.00\">2⋅n</text>\n",
       "</g>\n",
       "<!-- b3 -->\n",
       "<g id=\"node4\" class=\"node\">\n",
       "<title>b3</title>\n",
       "<polygon fill=\"none\" stroke=\"black\" points=\"158,-36 48,-36 48,0 158,0 158,-36\"/>\n",
       "<text text-anchor=\"start\" x=\"56\" y=\"-19.8\" font-family=\"Times,serif\" font-size=\"14.00\">ArbitraryClifford</text>\n",
       "<text text-anchor=\"start\" x=\"93.5\" y=\"-9\" font-family=\"monospace\" font-size=\"10.00\">n=2</text>\n",
       "</g>\n",
       "<!-- b2&#45;&gt;b3 -->\n",
       "<g id=\"edge3\" class=\"edge\">\n",
       "<title>b2-&gt;b3</title>\n",
       "<path fill=\"none\" stroke=\"black\" d=\"M154.85,-86.8C145.51,-74.59 132.82,-57.99 122.33,-44.28\"/>\n",
       "<polygon fill=\"black\" stroke=\"black\" points=\"124.99,-41.99 116.13,-36.18 119.43,-46.25 124.99,-41.99\"/>\n",
       "<text text-anchor=\"middle\" x=\"143.5\" y=\"-57.8\" font-family=\"Times,serif\" font-size=\"14.00\">9</text>\n",
       "</g>\n",
       "<!-- b4 -->\n",
       "<g id=\"node5\" class=\"node\">\n",
       "<title>b4</title>\n",
       "<polygon fill=\"none\" stroke=\"black\" points=\"289.5,-36 176.5,-36 176.5,0 289.5,0 289.5,-36\"/>\n",
       "<text text-anchor=\"start\" x=\"228.5\" y=\"-19.8\" font-family=\"Times,serif\" font-size=\"14.00\">T</text>\n",
       "<text text-anchor=\"start\" x=\"184.5\" y=\"-9\" font-family=\"monospace\" font-size=\"10.00\">is_adjoint=False</text>\n",
       "</g>\n",
       "<!-- b2&#45;&gt;b4 -->\n",
       "<g id=\"edge4\" class=\"edge\">\n",
       "<title>b2-&gt;b4</title>\n",
       "<path fill=\"none\" stroke=\"black\" d=\"M181.15,-86.8C190.49,-74.59 203.18,-57.99 213.67,-44.28\"/>\n",
       "<polygon fill=\"black\" stroke=\"black\" points=\"216.57,-46.25 219.87,-36.18 211.01,-41.99 216.57,-46.25\"/>\n",
       "<text text-anchor=\"middle\" x=\"207.5\" y=\"-57.8\" font-family=\"Times,serif\" font-size=\"14.00\">4</text>\n",
       "</g>\n",
       "</g>\n",
       "</svg>"
      ],
      "text/plain": [
       "<IPython.core.display.SVG object>"
      ]
     },
     "metadata": {},
     "output_type": "display_data"
    }
   ],
   "source": [
    "myfunc = MyFunc(n=sympy.sympify('n'))\n",
    "graph, sigma = myfunc.call_graph()\n",
    "show_call_graph(graph)"
   ]
  },
  {
   "cell_type": "markdown",
   "id": "df53c923",
   "metadata": {},
   "source": [
    "## Default Fallback\n",
    "\n",
    "If a bloq does not override `build_call_graph(...)`, the default fallback will be used by Qualtran to support the call graph protocol.\n",
    "\n",
    "By default, Qualtran will extract the call graph from the full decomposition. For example, below we author a `SWAP` bloq. We define a decomposition but do not explicitly override `build_call_graph`."
   ]
  },
  {
   "cell_type": "code",
   "execution_count": 7,
   "id": "2621b1eb",
   "metadata": {},
   "outputs": [],
   "source": [
    "@frozen\n",
    "class MySwap(Bloq):\n",
    "\n",
    "    @cached_property\n",
    "    def signature(self) -> 'Signature':\n",
    "        return Signature.build(q0=1, q1=1)\n",
    "    \n",
    "    def build_composite_bloq(self, bb, q0, q1):\n",
    "        q0, q1 = bb.add(CNOT(), ctrl=q0, target=q1)\n",
    "        q1, q0 = bb.add(CNOT(), ctrl=q1, target=q0)\n",
    "        q0, q1 = bb.add(CNOT(), ctrl=q0, target=q1)\n",
    "        return {'q0': q0, 'q1': q1}"
   ]
  },
  {
   "cell_type": "markdown",
   "id": "c66f0fd2",
   "metadata": {},
   "source": [
    "The system will simply decompose the bloq and count up the children."
   ]
  },
  {
   "cell_type": "code",
   "execution_count": 8,
   "id": "a6226763",
   "metadata": {},
   "outputs": [
    {
     "data": {
      "image/svg+xml": [
       "<svg xmlns=\"http://www.w3.org/2000/svg\" xmlns:xlink=\"http://www.w3.org/1999/xlink\" width=\"74pt\" height=\"131pt\" viewBox=\"0.00 0.00 74.00 131.00\">\n",
       "<g id=\"graph0\" class=\"graph\" transform=\"scale(1 1) rotate(0) translate(4 127)\">\n",
       "<title>counts</title>\n",
       "<polygon fill=\"white\" stroke=\"transparent\" points=\"-4,4 -4,-127 70,-127 70,4 -4,4\"/>\n",
       "<!-- b0 -->\n",
       "<g id=\"node1\" class=\"node\">\n",
       "<title>b0</title>\n",
       "<polygon fill=\"none\" stroke=\"black\" points=\"66,-123 0,-123 0,-87 66,-87 66,-123\"/>\n",
       "<text text-anchor=\"start\" x=\"8\" y=\"-101.3\" font-family=\"Times,serif\" font-size=\"14.00\">MySwap</text>\n",
       "</g>\n",
       "<!-- b1 -->\n",
       "<g id=\"node2\" class=\"node\">\n",
       "<title>b1</title>\n",
       "<polygon fill=\"none\" stroke=\"black\" points=\"60,-36 6,-36 6,0 60,0 60,-36\"/>\n",
       "<text text-anchor=\"start\" x=\"14.5\" y=\"-14.3\" font-family=\"Times,serif\" font-size=\"14.00\">CNOT</text>\n",
       "</g>\n",
       "<!-- b0&#45;&gt;b1 -->\n",
       "<g id=\"edge1\" class=\"edge\">\n",
       "<title>b0-&gt;b1</title>\n",
       "<path fill=\"none\" stroke=\"black\" d=\"M33,-86.8C33,-75.16 33,-59.55 33,-46.24\"/>\n",
       "<polygon fill=\"black\" stroke=\"black\" points=\"36.5,-46.18 33,-36.18 29.5,-46.18 36.5,-46.18\"/>\n",
       "<text text-anchor=\"middle\" x=\"36.5\" y=\"-57.8\" font-family=\"Times,serif\" font-size=\"14.00\">3</text>\n",
       "</g>\n",
       "</g>\n",
       "</svg>"
      ],
      "text/plain": [
       "<IPython.core.display.SVG object>"
      ]
     },
     "metadata": {},
     "output_type": "display_data"
    },
    {
     "data": {
      "text/markdown": [
       "#### Counts totals:\n",
       " - `CNOT`: 3"
      ],
      "text/plain": [
       "<IPython.core.display.Markdown object>"
      ]
     },
     "metadata": {},
     "output_type": "display_data"
    }
   ],
   "source": [
    "graph, sigma = MySwap().call_graph()\n",
    "show_call_graph(graph)\n",
    "show_counts_sigma(sigma)"
   ]
  },
  {
   "cell_type": "markdown",
   "id": "250474d1",
   "metadata": {},
   "source": [
    "## Testing\n",
    "\n",
    "`qlt_testing.check_equivalent_bloq_example_counts` is used to automatically compare manually-annotated counts against those derived from the bloq's decomposition. If they match, the check returns `PASS`. If there is only one source of bloq counts, the check returns `UNVERIFIED`. If there are no bloq counts (either via annotation or decomposition), the check returns `MISSING`. If the bloq counts do not match, the check returns `FAIL` with more information about the mismatch. \n",
    "\n",
    "`BloqExample`s have an optional `generalizer` attribute that this check will use during the comparison."
   ]
  },
  {
   "cell_type": "code",
   "execution_count": 9,
   "id": "6c88072d",
   "metadata": {},
   "outputs": [
    {
     "data": {
      "text/plain": [
       "(<BloqCheckResult.PASS: 0>, '')"
      ]
     },
     "execution_count": 9,
     "metadata": {},
     "output_type": "execute_result"
    }
   ],
   "source": [
    "import qualtran.testing as qlt_testing\n",
    "from qualtran.bloqs.mcmt.and_bloq import _multi_and as MULTI_AND_BLOQ_EXAMPLE\n",
    "\n",
    "qlt_testing.check_equivalent_bloq_example_counts(MULTI_AND_BLOQ_EXAMPLE)"
   ]
  }
 ],
 "metadata": {
  "kernelspec": {
   "display_name": "Python 3 (ipykernel)",
   "language": "python",
   "name": "python3"
  },
  "language_info": {
   "codemirror_mode": {
    "name": "ipython",
    "version": 3
   },
   "file_extension": ".py",
   "mimetype": "text/x-python",
   "name": "python",
   "nbconvert_exporter": "python",
   "pygments_lexer": "ipython3",
   "version": "3.11.8"
  }
 },
 "nbformat": 4,
 "nbformat_minor": 5
}
