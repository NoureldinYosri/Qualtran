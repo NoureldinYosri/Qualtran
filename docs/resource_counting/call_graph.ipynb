{
 "cells": [
  {
   "cell_type": "markdown",
   "id": "1fd2bad2",
   "metadata": {},
   "source": [
    "# The Call Graph Protocol\n",
    "\n",
    "The call graph protocol lets you query which subbloq are called in a bloq's decomposition. Proper accounting of the quantity of subroutine calls is a crucial tool in estimating resource requirements for an algorithm. For example, the number of 'expensive' gates like `TGate` or `Toffoli` required by a bloq is the sum of the number of those gates used by the bloq's callees."
   ]
  },
  {
   "cell_type": "code",
   "execution_count": 1,
   "id": "2482bd7e",
   "metadata": {},
   "outputs": [
    {
     "data": {
      "image/svg+xml": [
       "<svg xmlns=\"http://www.w3.org/2000/svg\" xmlns:xlink=\"http://www.w3.org/1999/xlink\" width=\"250pt\" height=\"218pt\" viewBox=\"0.00 0.00 249.50 218.00\">\n",
       "<g id=\"graph0\" class=\"graph\" transform=\"scale(1 1) rotate(0) translate(4 214)\">\n",
       "<title>counts</title>\n",
       "<polygon fill=\"white\" stroke=\"transparent\" points=\"-4,4 -4,-214 245.5,-214 245.5,4 -4,4\"/>\n",
       "<!-- b0 -->\n",
       "<g id=\"node1\" class=\"node\">\n",
       "<title>b0</title>\n",
       "<polygon fill=\"none\" stroke=\"black\" points=\"178,-210 65,-210 65,-174 178,-174 178,-210\"/>\n",
       "<text text-anchor=\"start\" x=\"94\" y=\"-193.8\" font-family=\"Times,serif\" font-size=\"14.00\">MultiAnd</text>\n",
       "<text text-anchor=\"start\" x=\"73\" y=\"-183\" font-family=\"monospace\" font-size=\"10.00\">cvs=(1, 1, 1 ...</text>\n",
       "</g>\n",
       "<!-- b1 -->\n",
       "<g id=\"node2\" class=\"node\">\n",
       "<title>b1</title>\n",
       "<polygon fill=\"none\" stroke=\"black\" points=\"217,-123 26,-123 26,-87 217,-87 217,-123\"/>\n",
       "<text text-anchor=\"start\" x=\"109.5\" y=\"-106.8\" font-family=\"Times,serif\" font-size=\"14.00\">And</text>\n",
       "<text text-anchor=\"start\" x=\"34\" y=\"-96\" font-family=\"monospace\" font-size=\"10.00\">cv1=1, cv2=1, uncompute=False</text>\n",
       "</g>\n",
       "<!-- b0&#45;&gt;b1 -->\n",
       "<g id=\"edge1\" class=\"edge\">\n",
       "<title>b0-&gt;b1</title>\n",
       "<path fill=\"none\" stroke=\"black\" d=\"M121.5,-173.8C121.5,-162.16 121.5,-146.55 121.5,-133.24\"/>\n",
       "<polygon fill=\"black\" stroke=\"black\" points=\"125,-133.18 121.5,-123.18 118,-133.18 125,-133.18\"/>\n",
       "<text text-anchor=\"middle\" x=\"125\" y=\"-144.8\" font-family=\"Times,serif\" font-size=\"14.00\">5</text>\n",
       "</g>\n",
       "<!-- b2 -->\n",
       "<g id=\"node3\" class=\"node\">\n",
       "<title>b2</title>\n",
       "<polygon fill=\"none\" stroke=\"black\" points=\"113,-36 0,-36 0,0 113,0 113,-36\"/>\n",
       "<text text-anchor=\"start\" x=\"52\" y=\"-19.8\" font-family=\"Times,serif\" font-size=\"14.00\">T</text>\n",
       "<text text-anchor=\"start\" x=\"8\" y=\"-9\" font-family=\"monospace\" font-size=\"10.00\">is_adjoint=False</text>\n",
       "</g>\n",
       "<!-- b1&#45;&gt;b2 -->\n",
       "<g id=\"edge2\" class=\"edge\">\n",
       "<title>b1-&gt;b2</title>\n",
       "<path fill=\"none\" stroke=\"black\" d=\"M108.35,-86.8C99.01,-74.59 86.32,-57.99 75.83,-44.28\"/>\n",
       "<polygon fill=\"black\" stroke=\"black\" points=\"78.49,-41.99 69.63,-36.18 72.93,-46.25 78.49,-41.99\"/>\n",
       "<text text-anchor=\"middle\" x=\"97\" y=\"-57.8\" font-family=\"Times,serif\" font-size=\"14.00\">4</text>\n",
       "</g>\n",
       "<!-- b3 -->\n",
       "<g id=\"node4\" class=\"node\">\n",
       "<title>b3</title>\n",
       "<polygon fill=\"none\" stroke=\"black\" points=\"241.5,-36 131.5,-36 131.5,0 241.5,0 241.5,-36\"/>\n",
       "<text text-anchor=\"start\" x=\"139.5\" y=\"-19.8\" font-family=\"Times,serif\" font-size=\"14.00\">ArbitraryClifford</text>\n",
       "<text text-anchor=\"start\" x=\"177\" y=\"-9\" font-family=\"monospace\" font-size=\"10.00\">n=2</text>\n",
       "</g>\n",
       "<!-- b1&#45;&gt;b3 -->\n",
       "<g id=\"edge3\" class=\"edge\">\n",
       "<title>b1-&gt;b3</title>\n",
       "<path fill=\"none\" stroke=\"black\" d=\"M134.65,-86.8C143.99,-74.59 156.68,-57.99 167.17,-44.28\"/>\n",
       "<polygon fill=\"black\" stroke=\"black\" points=\"170.07,-46.25 173.37,-36.18 164.51,-41.99 170.07,-46.25\"/>\n",
       "<text text-anchor=\"middle\" x=\"161\" y=\"-57.8\" font-family=\"Times,serif\" font-size=\"14.00\">9</text>\n",
       "</g>\n",
       "</g>\n",
       "</svg>"
      ],
      "text/plain": [
       "<IPython.core.display.SVG object>"
      ]
     },
     "metadata": {},
     "output_type": "display_data"
    }
   ],
   "source": [
    "from qualtran.drawing import show_call_graph, show_counts_sigma\n",
    "from qualtran.bloqs.mcmt import MultiAnd, And\n",
    "\n",
    "graph, _ = MultiAnd(cvs=(1,)*6).call_graph()\n",
    "show_call_graph(graph)"
   ]
  },
  {
   "cell_type": "markdown",
   "id": "ae6d16de",
   "metadata": {},
   "source": [
    "## Interface\n",
    "\n",
    "The primary method for accessing the call graph of a bloq is `Bloq.call_graph()`. It returns a networkx graph as well as an accounting of total bloq counts for \"leaf\" bloqs. \n",
    "\n",
    "Another method is `Bloq.bloq_counts`, which will return a dictionary of immediate children."
   ]
  },
  {
   "cell_type": "code",
   "execution_count": 2,
   "id": "22557f46",
   "metadata": {},
   "outputs": [
    {
     "data": {
      "text/plain": [
       "{TGate(is_adjoint=False): 4, ArbitraryClifford(n=2): 9}"
      ]
     },
     "execution_count": 2,
     "metadata": {},
     "output_type": "execute_result"
    }
   ],
   "source": [
    "And().bloq_counts()"
   ]
  },
  {
   "cell_type": "markdown",
   "id": "2e4aa56b",
   "metadata": {},
   "source": [
    "These methods both take a `generalizer` argument.\n",
    "\n",
    "Often, bloqs have attributes that are important for describing their specific action but don't affect the bloq's resource cost. For example, `Rx(0.12)` and `Rx(0.13)` should probably be considered equal when counting the number of operations. Another example is given below where we group all two-bit `And` operations no matter their control values. \n",
    "\n",
    "The `generalizer` argument is an optional callable that takes specific bloqs to general bloqs. In the next cell, we build a call graph with non-homogenous control values for `MultiAnd` which results in two different nodes for two-bit `And` showing up in the call-graph."
   ]
  },
  {
   "cell_type": "code",
   "execution_count": 3,
   "id": "3c9f2b05",
   "metadata": {},
   "outputs": [
    {
     "data": {
      "image/svg+xml": [
       "<svg xmlns=\"http://www.w3.org/2000/svg\" xmlns:xlink=\"http://www.w3.org/1999/xlink\" width=\"250pt\" height=\"218pt\" viewBox=\"0.00 0.00 249.50 218.00\">\n",
       "<g id=\"graph0\" class=\"graph\" transform=\"scale(1 1) rotate(0) translate(4 214)\">\n",
       "<title>counts</title>\n",
       "<polygon fill=\"white\" stroke=\"transparent\" points=\"-4,4 -4,-214 245.5,-214 245.5,4 -4,4\"/>\n",
       "<!-- b0 -->\n",
       "<g id=\"node1\" class=\"node\">\n",
       "<title>b0</title>\n",
       "<polygon fill=\"none\" stroke=\"black\" points=\"178,-210 65,-210 65,-174 178,-174 178,-210\"/>\n",
       "<text text-anchor=\"start\" x=\"94\" y=\"-193.8\" font-family=\"Times,serif\" font-size=\"14.00\">MultiAnd</text>\n",
       "<text text-anchor=\"start\" x=\"73\" y=\"-183\" font-family=\"monospace\" font-size=\"10.00\">cvs=(1, 0, 1 ...</text>\n",
       "</g>\n",
       "<!-- b1 -->\n",
       "<g id=\"node2\" class=\"node\">\n",
       "<title>b1</title>\n",
       "<polygon fill=\"none\" stroke=\"black\" points=\"217,-123 26,-123 26,-87 217,-87 217,-123\"/>\n",
       "<text text-anchor=\"start\" x=\"109.5\" y=\"-106.8\" font-family=\"Times,serif\" font-size=\"14.00\">And</text>\n",
       "<text text-anchor=\"start\" x=\"34\" y=\"-96\" font-family=\"monospace\" font-size=\"10.00\">cv1=1, cv2=1, uncompute=False</text>\n",
       "</g>\n",
       "<!-- b0&#45;&gt;b1 -->\n",
       "<g id=\"edge1\" class=\"edge\">\n",
       "<title>b0-&gt;b1</title>\n",
       "<path fill=\"none\" stroke=\"black\" d=\"M121.5,-173.8C121.5,-162.16 121.5,-146.55 121.5,-133.24\"/>\n",
       "<polygon fill=\"black\" stroke=\"black\" points=\"125,-133.18 121.5,-123.18 118,-133.18 125,-133.18\"/>\n",
       "<text text-anchor=\"middle\" x=\"125\" y=\"-144.8\" font-family=\"Times,serif\" font-size=\"14.00\">5</text>\n",
       "</g>\n",
       "<!-- b2 -->\n",
       "<g id=\"node3\" class=\"node\">\n",
       "<title>b2</title>\n",
       "<polygon fill=\"none\" stroke=\"black\" points=\"113,-36 0,-36 0,0 113,0 113,-36\"/>\n",
       "<text text-anchor=\"start\" x=\"52\" y=\"-19.8\" font-family=\"Times,serif\" font-size=\"14.00\">T</text>\n",
       "<text text-anchor=\"start\" x=\"8\" y=\"-9\" font-family=\"monospace\" font-size=\"10.00\">is_adjoint=False</text>\n",
       "</g>\n",
       "<!-- b1&#45;&gt;b2 -->\n",
       "<g id=\"edge2\" class=\"edge\">\n",
       "<title>b1-&gt;b2</title>\n",
       "<path fill=\"none\" stroke=\"black\" d=\"M108.35,-86.8C99.01,-74.59 86.32,-57.99 75.83,-44.28\"/>\n",
       "<polygon fill=\"black\" stroke=\"black\" points=\"78.49,-41.99 69.63,-36.18 72.93,-46.25 78.49,-41.99\"/>\n",
       "<text text-anchor=\"middle\" x=\"97\" y=\"-57.8\" font-family=\"Times,serif\" font-size=\"14.00\">4</text>\n",
       "</g>\n",
       "<!-- b3 -->\n",
       "<g id=\"node4\" class=\"node\">\n",
       "<title>b3</title>\n",
       "<polygon fill=\"none\" stroke=\"black\" points=\"241.5,-36 131.5,-36 131.5,0 241.5,0 241.5,-36\"/>\n",
       "<text text-anchor=\"start\" x=\"139.5\" y=\"-19.8\" font-family=\"Times,serif\" font-size=\"14.00\">ArbitraryClifford</text>\n",
       "<text text-anchor=\"start\" x=\"177\" y=\"-9\" font-family=\"monospace\" font-size=\"10.00\">n=2</text>\n",
       "</g>\n",
       "<!-- b1&#45;&gt;b3 -->\n",
       "<g id=\"edge3\" class=\"edge\">\n",
       "<title>b1-&gt;b3</title>\n",
       "<path fill=\"none\" stroke=\"black\" d=\"M134.65,-86.8C143.99,-74.59 156.68,-57.99 167.17,-44.28\"/>\n",
       "<polygon fill=\"black\" stroke=\"black\" points=\"170.07,-46.25 173.37,-36.18 164.51,-41.99 170.07,-46.25\"/>\n",
       "<text text-anchor=\"middle\" x=\"161\" y=\"-57.8\" font-family=\"Times,serif\" font-size=\"14.00\">9</text>\n",
       "</g>\n",
       "</g>\n",
       "</svg>"
      ],
      "text/plain": [
       "<IPython.core.display.SVG object>"
      ]
     },
     "metadata": {},
     "output_type": "display_data"
    },
    {
     "data": {
      "text/markdown": [
       "#### Counts totals:\n",
       " - `ArbitraryClifford(n=2)`: 45\n",
       " - `TGate()`: 20"
      ],
      "text/plain": [
       "<IPython.core.display.Markdown object>"
      ]
     },
     "metadata": {},
     "output_type": "display_data"
    }
   ],
   "source": [
    "graph, sigma = MultiAnd(cvs=(1,0)*3).call_graph()\n",
    "show_call_graph(graph)\n",
    "show_counts_sigma(sigma)"
   ]
  },
  {
   "cell_type": "markdown",
   "id": "8ae5743b",
   "metadata": {},
   "source": [
    "This level of detail might not be relevant for your particular research. Below, we define a `generalize` function that replaces all control values with placeholder symbol values."
   ]
  },
  {
   "cell_type": "code",
   "execution_count": 4,
   "id": "f5e33995",
   "metadata": {},
   "outputs": [
    {
     "data": {
      "image/svg+xml": [
       "<svg xmlns=\"http://www.w3.org/2000/svg\" xmlns:xlink=\"http://www.w3.org/1999/xlink\" width=\"250pt\" height=\"218pt\" viewBox=\"0.00 0.00 249.50 218.00\">\n",
       "<g id=\"graph0\" class=\"graph\" transform=\"scale(1 1) rotate(0) translate(4 214)\">\n",
       "<title>counts</title>\n",
       "<polygon fill=\"white\" stroke=\"transparent\" points=\"-4,4 -4,-214 245.5,-214 245.5,4 -4,4\"/>\n",
       "<!-- b0 -->\n",
       "<g id=\"node1\" class=\"node\">\n",
       "<title>b0</title>\n",
       "<polygon fill=\"none\" stroke=\"black\" points=\"178,-210 65,-210 65,-174 178,-174 178,-210\"/>\n",
       "<text text-anchor=\"start\" x=\"94\" y=\"-193.8\" font-family=\"Times,serif\" font-size=\"14.00\">MultiAnd</text>\n",
       "<text text-anchor=\"start\" x=\"73\" y=\"-183\" font-family=\"monospace\" font-size=\"10.00\">cvs=(1, 0, 1 ...</text>\n",
       "</g>\n",
       "<!-- b1 -->\n",
       "<g id=\"node2\" class=\"node\">\n",
       "<title>b1</title>\n",
       "<polygon fill=\"none\" stroke=\"black\" points=\"241,-123 2,-123 2,-87 241,-87 241,-123\"/>\n",
       "<text text-anchor=\"start\" x=\"109.5\" y=\"-106.8\" font-family=\"Times,serif\" font-size=\"14.00\">And</text>\n",
       "<text text-anchor=\"start\" x=\"10\" y=\"-96\" font-family=\"monospace\" font-size=\"10.00\">cv1=_cv10, cv2=_cv20, uncompute=False</text>\n",
       "</g>\n",
       "<!-- b0&#45;&gt;b1 -->\n",
       "<g id=\"edge1\" class=\"edge\">\n",
       "<title>b0-&gt;b1</title>\n",
       "<path fill=\"none\" stroke=\"black\" d=\"M121.5,-173.8C121.5,-162.16 121.5,-146.55 121.5,-133.24\"/>\n",
       "<polygon fill=\"black\" stroke=\"black\" points=\"125,-133.18 121.5,-123.18 118,-133.18 125,-133.18\"/>\n",
       "<text text-anchor=\"middle\" x=\"125\" y=\"-144.8\" font-family=\"Times,serif\" font-size=\"14.00\">5</text>\n",
       "</g>\n",
       "<!-- b2 -->\n",
       "<g id=\"node3\" class=\"node\">\n",
       "<title>b2</title>\n",
       "<polygon fill=\"none\" stroke=\"black\" points=\"113,-36 0,-36 0,0 113,0 113,-36\"/>\n",
       "<text text-anchor=\"start\" x=\"52\" y=\"-19.8\" font-family=\"Times,serif\" font-size=\"14.00\">T</text>\n",
       "<text text-anchor=\"start\" x=\"8\" y=\"-9\" font-family=\"monospace\" font-size=\"10.00\">is_adjoint=False</text>\n",
       "</g>\n",
       "<!-- b1&#45;&gt;b2 -->\n",
       "<g id=\"edge2\" class=\"edge\">\n",
       "<title>b1-&gt;b2</title>\n",
       "<path fill=\"none\" stroke=\"black\" d=\"M108.35,-86.8C99.01,-74.59 86.32,-57.99 75.83,-44.28\"/>\n",
       "<polygon fill=\"black\" stroke=\"black\" points=\"78.49,-41.99 69.63,-36.18 72.93,-46.25 78.49,-41.99\"/>\n",
       "<text text-anchor=\"middle\" x=\"97\" y=\"-57.8\" font-family=\"Times,serif\" font-size=\"14.00\">4</text>\n",
       "</g>\n",
       "<!-- b3 -->\n",
       "<g id=\"node4\" class=\"node\">\n",
       "<title>b3</title>\n",
       "<polygon fill=\"none\" stroke=\"black\" points=\"241.5,-36 131.5,-36 131.5,0 241.5,0 241.5,-36\"/>\n",
       "<text text-anchor=\"start\" x=\"139.5\" y=\"-19.8\" font-family=\"Times,serif\" font-size=\"14.00\">ArbitraryClifford</text>\n",
       "<text text-anchor=\"start\" x=\"177\" y=\"-9\" font-family=\"monospace\" font-size=\"10.00\">n=2</text>\n",
       "</g>\n",
       "<!-- b1&#45;&gt;b3 -->\n",
       "<g id=\"edge3\" class=\"edge\">\n",
       "<title>b1-&gt;b3</title>\n",
       "<path fill=\"none\" stroke=\"black\" d=\"M134.65,-86.8C143.99,-74.59 156.68,-57.99 167.17,-44.28\"/>\n",
       "<polygon fill=\"black\" stroke=\"black\" points=\"170.07,-46.25 173.37,-36.18 164.51,-41.99 170.07,-46.25\"/>\n",
       "<text text-anchor=\"middle\" x=\"170.5\" y=\"-57.8\" font-family=\"Times,serif\" font-size=\"14.00\">O(1)</text>\n",
       "</g>\n",
       "</g>\n",
       "</svg>"
      ],
      "text/plain": [
       "<IPython.core.display.SVG object>"
      ]
     },
     "metadata": {},
     "output_type": "display_data"
    },
    {
     "data": {
      "text/markdown": [
       "#### Counts totals:\n",
       " - `ArbitraryClifford(n=2)`: $\\displaystyle O\\left(1\\right)$\n",
       " - `TGate()`: 20"
      ],
      "text/plain": [
       "<IPython.core.display.Markdown object>"
      ]
     },
     "metadata": {},
     "output_type": "display_data"
    }
   ],
   "source": [
    "from qualtran.resource_counting import SympySymbolAllocator\n",
    "import attrs\n",
    "\n",
    "ssa = SympySymbolAllocator()\n",
    "cv1 = ssa.new_symbol('cv1')\n",
    "cv2 = ssa.new_symbol('cv2')\n",
    "\n",
    "def ignore_cv(bloq):\n",
    "    if isinstance(bloq, And):\n",
    "        return attrs.evolve(bloq, cv1=cv1, cv2=cv2)\n",
    "    \n",
    "    return bloq\n",
    "\n",
    "graph, sigma = MultiAnd(cvs=(1,0)*3).call_graph(generalizer=ignore_cv)\n",
    "show_call_graph(graph)\n",
    "show_counts_sigma(sigma)"
   ]
  },
  {
   "cell_type": "markdown",
   "id": "0f649914",
   "metadata": {},
   "source": [
    "We no longer have a specific clifford count (it has been replaced with `O(1)`), but we have a much simpler graph topology."
   ]
  },
  {
   "cell_type": "markdown",
   "id": "efcaaac7",
   "metadata": {},
   "source": [
    "## Additional functionality"
   ]
  },
  {
   "cell_type": "markdown",
   "id": "3c02f2e1",
   "metadata": {},
   "source": [
    "The `qualtran.resource_counting` module provides the functionality for building and manipulating call graphs."
   ]
  },
  {
   "cell_type": "markdown",
   "id": "d9cc2b96",
   "metadata": {},
   "source": [
    "## Implementation"
   ]
  },
  {
   "cell_type": "markdown",
   "id": "7ea0cb33",
   "metadata": {},
   "source": [
    "The call graph functionality relies on the `Bloq.build_call_graph(...)` method to implement the protocol. This is where a given bloq's callees is actually encoded.\n",
    "\n",
    "Bloq authors may want to override this method. The system will provide a `SympySymbolAllocator` when calling this method to assist with symbolic resource estimates. Below, we sketch out a bloq with custom bloq counts."
   ]
  },
  {
   "cell_type": "code",
   "execution_count": 5,
   "id": "7211add4",
   "metadata": {},
   "outputs": [],
   "source": [
    "from functools import cached_property\n",
    "from typing import Dict, Optional, Set, Union\n",
    "\n",
    "from attrs import frozen\n",
    "\n",
    "from qualtran import Bloq, BloqBuilder, Register, Side, Signature, SoquetT\n",
    "from qualtran.resource_counting import BloqCountT, SympySymbolAllocator\n",
    "\n",
    "import sympy\n",
    "\n",
    "from qualtran.bloqs.basic_gates import CNOT\n",
    "\n",
    "@frozen\n",
    "class MyFunc(Bloq):\n",
    "    n: Union[int, sympy.Expr]\n",
    "\n",
    "    @cached_property\n",
    "    def signature(self) -> 'Signature':\n",
    "        return Signature.build(x=self.n)\n",
    "\n",
    "    def build_call_graph(self, ssa: 'SympySymbolAllocator') -> Set['BloqCountT']:\n",
    "        return {\n",
    "            (And(), 2*self.n),\n",
    "            (CNOT(), 5),\n",
    "        }"
   ]
  },
  {
   "cell_type": "code",
   "execution_count": 6,
   "id": "ef5d73b6",
   "metadata": {},
   "outputs": [
    {
     "data": {
      "image/svg+xml": [
       "<svg xmlns=\"http://www.w3.org/2000/svg\" xmlns:xlink=\"http://www.w3.org/1999/xlink\" width=\"298pt\" height=\"218pt\" viewBox=\"0.00 0.00 297.50 218.00\">\n",
       "<g id=\"graph0\" class=\"graph\" transform=\"scale(1 1) rotate(0) translate(4 214)\">\n",
       "<title>counts</title>\n",
       "<polygon fill=\"white\" stroke=\"transparent\" points=\"-4,4 -4,-214 293.5,-214 293.5,4 -4,4\"/>\n",
       "<!-- b0 -->\n",
       "<g id=\"node1\" class=\"node\">\n",
       "<title>b0</title>\n",
       "<polygon fill=\"none\" stroke=\"black\" points=\"224,-210 161,-210 161,-174 224,-174 224,-210\"/>\n",
       "<text text-anchor=\"start\" x=\"169\" y=\"-193.8\" font-family=\"Times,serif\" font-size=\"14.00\">MyFunc</text>\n",
       "<text text-anchor=\"start\" x=\"183\" y=\"-183\" font-family=\"monospace\" font-size=\"10.00\">n=n</text>\n",
       "</g>\n",
       "<!-- b1 -->\n",
       "<g id=\"node2\" class=\"node\">\n",
       "<title>b1</title>\n",
       "<polygon fill=\"none\" stroke=\"black\" points=\"217,-123 26,-123 26,-87 217,-87 217,-123\"/>\n",
       "<text text-anchor=\"start\" x=\"109.5\" y=\"-106.8\" font-family=\"Times,serif\" font-size=\"14.00\">And</text>\n",
       "<text text-anchor=\"start\" x=\"34\" y=\"-96\" font-family=\"monospace\" font-size=\"10.00\">cv1=1, cv2=1, uncompute=False</text>\n",
       "</g>\n",
       "<!-- b0&#45;&gt;b1 -->\n",
       "<g id=\"edge1\" class=\"edge\">\n",
       "<title>b0-&gt;b1</title>\n",
       "<path fill=\"none\" stroke=\"black\" d=\"M178.13,-173.8C167.83,-161.47 153.81,-144.68 142.29,-130.89\"/>\n",
       "<polygon fill=\"black\" stroke=\"black\" points=\"144.94,-128.61 135.85,-123.18 139.57,-133.09 144.94,-128.61\"/>\n",
       "<text text-anchor=\"middle\" x=\"171\" y=\"-144.8\" font-family=\"Times,serif\" font-size=\"14.00\">2⋅n</text>\n",
       "</g>\n",
       "<!-- b2 -->\n",
       "<g id=\"node3\" class=\"node\">\n",
       "<title>b2</title>\n",
       "<polygon fill=\"none\" stroke=\"black\" points=\"289.5,-123 235.5,-123 235.5,-87 289.5,-87 289.5,-123\"/>\n",
       "<text text-anchor=\"start\" x=\"244\" y=\"-101.3\" font-family=\"Times,serif\" font-size=\"14.00\">CNOT</text>\n",
       "</g>\n",
       "<!-- b0&#45;&gt;b2 -->\n",
       "<g id=\"edge2\" class=\"edge\">\n",
       "<title>b0-&gt;b2</title>\n",
       "<path fill=\"none\" stroke=\"black\" d=\"M206.67,-173.8C216.72,-161.59 230.39,-144.99 241.68,-131.28\"/>\n",
       "<polygon fill=\"black\" stroke=\"black\" points=\"244.7,-133.12 248.36,-123.18 239.3,-128.67 244.7,-133.12\"/>\n",
       "<text text-anchor=\"middle\" x=\"236\" y=\"-144.8\" font-family=\"Times,serif\" font-size=\"14.00\">5</text>\n",
       "</g>\n",
       "<!-- b3 -->\n",
       "<g id=\"node4\" class=\"node\">\n",
       "<title>b3</title>\n",
       "<polygon fill=\"none\" stroke=\"black\" points=\"113,-36 0,-36 0,0 113,0 113,-36\"/>\n",
       "<text text-anchor=\"start\" x=\"52\" y=\"-19.8\" font-family=\"Times,serif\" font-size=\"14.00\">T</text>\n",
       "<text text-anchor=\"start\" x=\"8\" y=\"-9\" font-family=\"monospace\" font-size=\"10.00\">is_adjoint=False</text>\n",
       "</g>\n",
       "<!-- b1&#45;&gt;b3 -->\n",
       "<g id=\"edge3\" class=\"edge\">\n",
       "<title>b1-&gt;b3</title>\n",
       "<path fill=\"none\" stroke=\"black\" d=\"M108.35,-86.8C99.01,-74.59 86.32,-57.99 75.83,-44.28\"/>\n",
       "<polygon fill=\"black\" stroke=\"black\" points=\"78.49,-41.99 69.63,-36.18 72.93,-46.25 78.49,-41.99\"/>\n",
       "<text text-anchor=\"middle\" x=\"97\" y=\"-57.8\" font-family=\"Times,serif\" font-size=\"14.00\">4</text>\n",
       "</g>\n",
       "<!-- b4 -->\n",
       "<g id=\"node5\" class=\"node\">\n",
       "<title>b4</title>\n",
       "<polygon fill=\"none\" stroke=\"black\" points=\"241.5,-36 131.5,-36 131.5,0 241.5,0 241.5,-36\"/>\n",
       "<text text-anchor=\"start\" x=\"139.5\" y=\"-19.8\" font-family=\"Times,serif\" font-size=\"14.00\">ArbitraryClifford</text>\n",
       "<text text-anchor=\"start\" x=\"177\" y=\"-9\" font-family=\"monospace\" font-size=\"10.00\">n=2</text>\n",
       "</g>\n",
       "<!-- b1&#45;&gt;b4 -->\n",
       "<g id=\"edge4\" class=\"edge\">\n",
       "<title>b1-&gt;b4</title>\n",
       "<path fill=\"none\" stroke=\"black\" d=\"M134.65,-86.8C143.99,-74.59 156.68,-57.99 167.17,-44.28\"/>\n",
       "<polygon fill=\"black\" stroke=\"black\" points=\"170.07,-46.25 173.37,-36.18 164.51,-41.99 170.07,-46.25\"/>\n",
       "<text text-anchor=\"middle\" x=\"162\" y=\"-57.8\" font-family=\"Times,serif\" font-size=\"14.00\">9</text>\n",
       "</g>\n",
       "</g>\n",
       "</svg>"
      ],
      "text/plain": [
       "<IPython.core.display.SVG object>"
      ]
     },
     "metadata": {},
     "output_type": "display_data"
    }
   ],
   "source": [
    "myfunc = MyFunc(n=sympy.sympify('n'))\n",
    "graph, sigma = myfunc.call_graph()\n",
    "show_call_graph(graph)"
   ]
  },
  {
   "cell_type": "markdown",
   "id": "df53c923",
   "metadata": {},
   "source": [
    "## Default Fallback\n",
    "\n",
    "If a bloq does not override `build_call_graph(...)`, the default fallback will be used by Qualtran to support the call graph protocol.\n",
    "\n",
    "By default, Qualtran will extract the call graph from the full decomposition. For example, below we author a `SWAP` bloq. We define a decomposition but do not explicitly override `build_call_graph`."
   ]
  },
  {
   "cell_type": "code",
   "execution_count": 7,
   "id": "2621b1eb",
   "metadata": {},
   "outputs": [],
   "source": [
    "@frozen\n",
    "class MySwap(Bloq):\n",
    "\n",
    "    @cached_property\n",
    "    def signature(self) -> 'Signature':\n",
    "        return Signature.build(q0=1, q1=1)\n",
    "    \n",
    "    def build_composite_bloq(self, bb, q0, q1):\n",
    "        q0, q1 = bb.add(CNOT(), ctrl=q0, target=q1)\n",
    "        q1, q0 = bb.add(CNOT(), ctrl=q1, target=q0)\n",
    "        q0, q1 = bb.add(CNOT(), ctrl=q0, target=q1)\n",
    "        return {'q0': q0, 'q1': q1}"
   ]
  },
  {
   "cell_type": "markdown",
   "id": "c66f0fd2",
   "metadata": {},
   "source": [
    "The system will simply decompose the bloq and count up the children."
   ]
  },
  {
   "cell_type": "code",
   "execution_count": 8,
   "id": "a6226763",
   "metadata": {},
   "outputs": [
    {
     "data": {
      "image/svg+xml": [
       "<svg xmlns=\"http://www.w3.org/2000/svg\" xmlns:xlink=\"http://www.w3.org/1999/xlink\" width=\"74pt\" height=\"131pt\" viewBox=\"0.00 0.00 74.00 131.00\">\n",
       "<g id=\"graph0\" class=\"graph\" transform=\"scale(1 1) rotate(0) translate(4 127)\">\n",
       "<title>counts</title>\n",
       "<polygon fill=\"white\" stroke=\"transparent\" points=\"-4,4 -4,-127 70,-127 70,4 -4,4\"/>\n",
       "<!-- b0 -->\n",
       "<g id=\"node1\" class=\"node\">\n",
       "<title>b0</title>\n",
       "<polygon fill=\"none\" stroke=\"black\" points=\"66,-123 0,-123 0,-87 66,-87 66,-123\"/>\n",
       "<text text-anchor=\"start\" x=\"8\" y=\"-101.3\" font-family=\"Times,serif\" font-size=\"14.00\">MySwap</text>\n",
       "</g>\n",
       "<!-- b1 -->\n",
       "<g id=\"node2\" class=\"node\">\n",
       "<title>b1</title>\n",
       "<polygon fill=\"none\" stroke=\"black\" points=\"60,-36 6,-36 6,0 60,0 60,-36\"/>\n",
       "<text text-anchor=\"start\" x=\"14.5\" y=\"-14.3\" font-family=\"Times,serif\" font-size=\"14.00\">CNOT</text>\n",
       "</g>\n",
       "<!-- b0&#45;&gt;b1 -->\n",
       "<g id=\"edge1\" class=\"edge\">\n",
       "<title>b0-&gt;b1</title>\n",
       "<path fill=\"none\" stroke=\"black\" d=\"M33,-86.8C33,-75.16 33,-59.55 33,-46.24\"/>\n",
       "<polygon fill=\"black\" stroke=\"black\" points=\"36.5,-46.18 33,-36.18 29.5,-46.18 36.5,-46.18\"/>\n",
       "<text text-anchor=\"middle\" x=\"36.5\" y=\"-57.8\" font-family=\"Times,serif\" font-size=\"14.00\">3</text>\n",
       "</g>\n",
       "</g>\n",
       "</svg>"
      ],
      "text/plain": [
       "<IPython.core.display.SVG object>"
      ]
     },
     "metadata": {},
     "output_type": "display_data"
    },
    {
     "data": {
      "text/markdown": [
       "#### Counts totals:\n",
       " - `CNOT()`: 3"
      ],
      "text/plain": [
       "<IPython.core.display.Markdown object>"
      ]
     },
     "metadata": {},
     "output_type": "display_data"
    }
   ],
   "source": [
    "graph, sigma = MySwap().call_graph()\n",
    "show_call_graph(graph)\n",
    "show_counts_sigma(sigma)"
   ]
  },
  {
   "cell_type": "markdown",
   "id": "250474d1",
   "metadata": {},
   "source": [
    "## Testing\n",
    "\n",
    "`qlt_testing.check_equivalent_bloq_example_counts` is used to automatically compare manually-annotated counts against those derived from the bloq's decomposition. If they match, the check returns `PASS`. If there is only one source of bloq counts, the check returns `UNVERIFIED`. If there are no bloq counts (either via annotation or decomposition), the check returns `MISSING`. If the bloq counts do not match, the check returns `FAIL` with more information about the mismatch. \n",
    "\n",
    "`BloqExample`s have an optional `generalizer` attribute that this check will use during the comparison."
   ]
  },
  {
   "cell_type": "code",
   "execution_count": 9,
   "id": "6c88072d",
   "metadata": {},
   "outputs": [
    {
     "data": {
      "text/plain": [
       "(<BloqCheckResult.PASS: 0>, '')"
      ]
     },
     "execution_count": 9,
     "metadata": {},
     "output_type": "execute_result"
    }
   ],
   "source": [
    "import qualtran.testing as qlt_testing\n",
    "from qualtran.bloqs.mcmt.and_bloq import _multi_and as MULTI_AND_BLOQ_EXAMPLE\n",
    "\n",
    "qlt_testing.check_equivalent_bloq_example_counts(MULTI_AND_BLOQ_EXAMPLE)"
   ]
  }
 ],
 "metadata": {
  "kernelspec": {
   "display_name": "Python 3 (ipykernel)",
   "language": "python",
   "name": "python3"
  },
  "language_info": {
   "codemirror_mode": {
    "name": "ipython",
    "version": 3
   },
   "file_extension": ".py",
   "mimetype": "text/x-python",
   "name": "python",
   "nbconvert_exporter": "python",
   "pygments_lexer": "ipython3",
   "version": "3.11.8"
  }
 },
 "nbformat": 4,
 "nbformat_minor": 5
}
