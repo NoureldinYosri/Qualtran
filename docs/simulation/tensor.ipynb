{
 "cells": [
  {
   "cell_type": "markdown",
   "id": "8cad0714",
   "metadata": {},
   "source": [
    "# Tensor\n",
    "\n",
    "The tensor protocol lets you query the tensor (vector, matrix, etc.) representation of a bloq. For example, we can easily inspect the familiar unitary matrix representing the controlled-not operation:"
   ]
  },
  {
   "cell_type": "code",
   "execution_count": 1,
   "id": "26e14784",
   "metadata": {},
   "outputs": [
    {
     "data": {
      "text/plain": [
       "array([[1., 0., 0., 0.],\n",
       "       [0., 1., 0., 0.],\n",
       "       [0., 0., 0., 1.],\n",
       "       [0., 0., 1., 0.]])"
      ]
     },
     "execution_count": 1,
     "metadata": {},
     "output_type": "execute_result"
    }
   ],
   "source": [
    "from qualtran.bloqs.basic_gates import CNOT\n",
    "\n",
    "cnot = CNOT()\n",
    "cnot.tensor_contract().real"
   ]
  },
  {
   "cell_type": "markdown",
   "id": "5a2f84d3",
   "metadata": {},
   "source": [
    "Bloqs can represent states, effects, and non-unitary operations. Below, we see the vector representation of the plus state and zero effect."
   ]
  },
  {
   "cell_type": "code",
   "execution_count": 2,
   "id": "077910f6",
   "metadata": {},
   "outputs": [
    {
     "name": "stdout",
     "output_type": "stream",
     "text": [
      "|+> \t [0.70710678+0.j 0.70710678+0.j]\n",
      "<0| \t [1.+0.j 0.+0.j]\n"
     ]
    }
   ],
   "source": [
    "from qualtran.bloqs.basic_gates import PlusState, ZeroEffect\n",
    "\n",
    "print('|+> \\t', PlusState().tensor_contract())  # state\n",
    "print('<0| \\t', ZeroEffect().tensor_contract()) # effect"
   ]
  },
  {
   "cell_type": "markdown",
   "id": "6861ae75",
   "metadata": {},
   "source": [
    "We can also look at the non-unitary `And` operation which outputs its result to a new qubit. As such, it's shape is $(2^3, 2^2)$ instead of being a square matrix."
   ]
  },
  {
   "cell_type": "code",
   "execution_count": 3,
   "id": "d7a36b4f",
   "metadata": {},
   "outputs": [
    {
     "data": {
      "text/plain": [
       "(8, 4)"
      ]
     },
     "execution_count": 3,
     "metadata": {},
     "output_type": "execute_result"
    }
   ],
   "source": [
    "from qualtran.bloqs.and_bloq import And\n",
    "\n",
    "And().tensor_contract().shape"
   ]
  },
  {
   "cell_type": "markdown",
   "id": "912fb914",
   "metadata": {},
   "source": [
    "## Interface\n",
    "\n",
    "The main way of accessing the dense, contracted, tensor representation of a bloq or composite bloq is through the `Bloq.tensor_contract()` method as we've seen.\n",
    "\n",
    "All functionality for the tensor protocol is contained in the `qualtran.simulation.tensor` module. For example: `Bloq.tensor_contract()` is an alias for `bloq_to_dense(bloq: Bloq)` within that module. "
   ]
  },
  {
   "cell_type": "code",
   "execution_count": 4,
   "id": "f24e2248",
   "metadata": {},
   "outputs": [
    {
     "data": {
      "text/plain": [
       "True"
      ]
     },
     "execution_count": 4,
     "metadata": {},
     "output_type": "execute_result"
    }
   ],
   "source": [
    "import numpy as np\n",
    "from qualtran.simulation.tensor import bloq_to_dense\n",
    "\n",
    "np.array_equal(\n",
    "    cnot.tensor_contract(),\n",
    "    bloq_to_dense(cnot)\n",
    ")"
   ]
  },
  {
   "cell_type": "markdown",
   "id": "050e7f90",
   "metadata": {},
   "source": [
    "## Additional functionality\n",
    "\n",
    "A composite bloq has a 1-to-1 mapping with a tensor network. We use [Quimb](https://quimb.readthedocs.io/) to handle efficient contraction of such networks.\n",
    "\n",
    "The most important library function is `qualtran.simulation.tensor.cbloq_to_quimb`. This will build a quimb `qtn.TensorNetwork` tensor network representation of the composite bloq. You may want to manipulate this object directly using the full Quimb API. Otherwise, this function is used as the workhorse behind the public functions and methods like `Bloq.tensor_contract()`. \n",
    "\n",
    "As an example below, we decompose `MultiAnd` into a [`CompositeBloq`](/reference/qualtran/CompositeBloq.md) consisting of a ladder of two-bit `And`s."
   ]
  },
  {
   "cell_type": "code",
   "execution_count": 5,
   "id": "58a0a012",
   "metadata": {},
   "outputs": [
    {
     "data": {
      "image/svg+xml": [
       "<svg xmlns=\"http://www.w3.org/2000/svg\" xmlns:xlink=\"http://www.w3.org/1999/xlink\" width=\"395pt\" height=\"368pt\" viewBox=\"0.00 0.00 395.00 368.00\">\n",
       "<g id=\"graph0\" class=\"graph\" transform=\"scale(1 1) rotate(0) translate(4 364)\">\n",
       "<title>my_graph</title>\n",
       "<polygon fill=\"white\" stroke=\"transparent\" points=\"-4,4 -4,-364 391,-364 391,4 -4,4\"/>\n",
       "<!-- ctrl_G8 -->\n",
       "<g id=\"node1\" class=\"node\">\n",
       "<title>ctrl_G8</title>\n",
       "<text text-anchor=\"middle\" x=\"27\" y=\"-316.3\" font-family=\"Times,serif\" font-size=\"14.00\">ctrl[0]</text>\n",
       "</g>\n",
       "<!-- And -->\n",
       "<g id=\"node5\" class=\"node\">\n",
       "<title>And</title>\n",
       "<polygon fill=\"none\" stroke=\"black\" points=\"91.5,-320 91.5,-337 134.5,-337 134.5,-320 91.5,-320\"/>\n",
       "<text text-anchor=\"start\" x=\"103.5\" y=\"-326\" font-family=\"Times,serif\" font-size=\"10.00\">And</text>\n",
       "<polygon fill=\"none\" stroke=\"black\" points=\"91.5,-299 91.5,-320 134.5,-320 134.5,-299 91.5,-299\"/>\n",
       "<text text-anchor=\"start\" x=\"96\" y=\"-305.8\" font-family=\"Times,serif\" font-size=\"14.00\">ctrl[0]</text>\n",
       "<polygon fill=\"none\" stroke=\"black\" points=\"91.5,-278 91.5,-299 134.5,-299 134.5,-278 91.5,-278\"/>\n",
       "<text text-anchor=\"start\" x=\"96\" y=\"-284.8\" font-family=\"Times,serif\" font-size=\"14.00\">ctrl[1]</text>\n",
       "<polygon fill=\"none\" stroke=\"black\" points=\"91.5,-257 91.5,-278 97.5,-278 97.5,-257 91.5,-257\"/>\n",
       "<polygon fill=\"none\" stroke=\"black\" points=\"97.5,-257 97.5,-278 134.5,-278 134.5,-257 97.5,-257\"/>\n",
       "<text text-anchor=\"start\" x=\"100.5\" y=\"-263.8\" font-family=\"Times,serif\" font-size=\"14.00\">target</text>\n",
       "</g>\n",
       "<!-- ctrl_G8&#45;&gt;And -->\n",
       "<g id=\"edge1\" class=\"edge\">\n",
       "<title>ctrl_G8:e-&gt;And:w</title>\n",
       "<path fill=\"none\" stroke=\"black\" d=\"M54,-320C70.24,-320 73.66,-310.92 88.69,-310.06\"/>\n",
       "<ellipse fill=\"black\" stroke=\"black\" cx=\"90\" cy=\"-310.03\" rx=\"1\" ry=\"1\"/>\n",
       "<text text-anchor=\"middle\" x=\"72.5\" y=\"-318\" font-family=\"Times,serif\" font-size=\"10.00\">1</text>\n",
       "</g>\n",
       "<!-- ctrl_G7 -->\n",
       "<g id=\"node2\" class=\"node\">\n",
       "<title>ctrl_G7</title>\n",
       "<text text-anchor=\"middle\" x=\"27\" y=\"-262.3\" font-family=\"Times,serif\" font-size=\"14.00\">ctrl[1]</text>\n",
       "</g>\n",
       "<!-- ctrl_G7&#45;&gt;And -->\n",
       "<g id=\"edge2\" class=\"edge\">\n",
       "<title>ctrl_G7:e-&gt;And:w</title>\n",
       "<path fill=\"none\" stroke=\"black\" d=\"M54,-266C72.38,-266 71.94,-286.31 88.85,-287.9\"/>\n",
       "<ellipse fill=\"black\" stroke=\"black\" cx=\"90\" cy=\"-287.95\" rx=\"1\" ry=\"1\"/>\n",
       "<text text-anchor=\"middle\" x=\"72.5\" y=\"-280\" font-family=\"Times,serif\" font-size=\"10.00\">1</text>\n",
       "</g>\n",
       "<!-- ctrl_G12 -->\n",
       "<g id=\"node3\" class=\"node\">\n",
       "<title>ctrl_G12</title>\n",
       "<text text-anchor=\"middle\" x=\"27\" y=\"-197.3\" font-family=\"Times,serif\" font-size=\"14.00\">ctrl[2]</text>\n",
       "</g>\n",
       "<!-- And_G0 -->\n",
       "<g id=\"node6\" class=\"node\">\n",
       "<title>And_G0</title>\n",
       "<polygon fill=\"none\" stroke=\"black\" points=\"171.5,-233 171.5,-250 214.5,-250 214.5,-233 171.5,-233\"/>\n",
       "<text text-anchor=\"start\" x=\"183.5\" y=\"-239\" font-family=\"Times,serif\" font-size=\"10.00\">And</text>\n",
       "<polygon fill=\"none\" stroke=\"black\" points=\"171.5,-212 171.5,-233 214.5,-233 214.5,-212 171.5,-212\"/>\n",
       "<text text-anchor=\"start\" x=\"176\" y=\"-218.8\" font-family=\"Times,serif\" font-size=\"14.00\">ctrl[0]</text>\n",
       "<polygon fill=\"none\" stroke=\"black\" points=\"171.5,-191 171.5,-212 214.5,-212 214.5,-191 171.5,-191\"/>\n",
       "<text text-anchor=\"start\" x=\"176\" y=\"-197.8\" font-family=\"Times,serif\" font-size=\"14.00\">ctrl[1]</text>\n",
       "<polygon fill=\"none\" stroke=\"black\" points=\"171.5,-170 171.5,-191 177.5,-191 177.5,-170 171.5,-170\"/>\n",
       "<polygon fill=\"none\" stroke=\"black\" points=\"177.5,-170 177.5,-191 214.5,-191 214.5,-170 177.5,-170\"/>\n",
       "<text text-anchor=\"start\" x=\"180.5\" y=\"-176.8\" font-family=\"Times,serif\" font-size=\"14.00\">target</text>\n",
       "</g>\n",
       "<!-- ctrl_G12&#45;&gt;And_G0 -->\n",
       "<g id=\"edge4\" class=\"edge\">\n",
       "<title>ctrl_G12:e-&gt;And_G0:w</title>\n",
       "<path fill=\"none\" stroke=\"black\" d=\"M54,-201C105.29,-201 118.64,-201 168.89,-201\"/>\n",
       "<ellipse fill=\"black\" stroke=\"black\" cx=\"170\" cy=\"-201\" rx=\"1\" ry=\"1\"/>\n",
       "<text text-anchor=\"middle\" x=\"112.5\" y=\"-204\" font-family=\"Times,serif\" font-size=\"10.00\">1</text>\n",
       "</g>\n",
       "<!-- ctrl_G16 -->\n",
       "<g id=\"node4\" class=\"node\">\n",
       "<title>ctrl_G16</title>\n",
       "<text text-anchor=\"middle\" x=\"27\" y=\"-80.3\" font-family=\"Times,serif\" font-size=\"14.00\">ctrl[3]</text>\n",
       "</g>\n",
       "<!-- And_G3 -->\n",
       "<g id=\"node7\" class=\"node\">\n",
       "<title>And_G3</title>\n",
       "<polygon fill=\"none\" stroke=\"black\" points=\"251.5,-116 251.5,-133 294.5,-133 294.5,-116 251.5,-116\"/>\n",
       "<text text-anchor=\"start\" x=\"263.5\" y=\"-122\" font-family=\"Times,serif\" font-size=\"10.00\">And</text>\n",
       "<polygon fill=\"none\" stroke=\"black\" points=\"251.5,-95 251.5,-116 294.5,-116 294.5,-95 251.5,-95\"/>\n",
       "<text text-anchor=\"start\" x=\"256\" y=\"-101.8\" font-family=\"Times,serif\" font-size=\"14.00\">ctrl[0]</text>\n",
       "<polygon fill=\"none\" stroke=\"black\" points=\"251.5,-74 251.5,-95 294.5,-95 294.5,-74 251.5,-74\"/>\n",
       "<text text-anchor=\"start\" x=\"256\" y=\"-80.8\" font-family=\"Times,serif\" font-size=\"14.00\">ctrl[1]</text>\n",
       "<polygon fill=\"none\" stroke=\"black\" points=\"251.5,-53 251.5,-74 257.5,-74 257.5,-53 251.5,-53\"/>\n",
       "<polygon fill=\"none\" stroke=\"black\" points=\"257.5,-53 257.5,-74 294.5,-74 294.5,-53 257.5,-53\"/>\n",
       "<text text-anchor=\"start\" x=\"260.5\" y=\"-59.8\" font-family=\"Times,serif\" font-size=\"14.00\">target</text>\n",
       "</g>\n",
       "<!-- ctrl_G16&#45;&gt;And_G3 -->\n",
       "<g id=\"edge6\" class=\"edge\">\n",
       "<title>ctrl_G16:e-&gt;And_G3:w</title>\n",
       "<path fill=\"none\" stroke=\"black\" d=\"M54,-84C140.87,-84 163.1,-84 248.96,-84\"/>\n",
       "<ellipse fill=\"black\" stroke=\"black\" cx=\"250\" cy=\"-84\" rx=\"1\" ry=\"1\"/>\n",
       "<text text-anchor=\"middle\" x=\"152.5\" y=\"-87\" font-family=\"Times,serif\" font-size=\"10.00\">1</text>\n",
       "</g>\n",
       "<!-- And&#45;&gt;And_G0 -->\n",
       "<g id=\"edge3\" class=\"edge\">\n",
       "<title>And:e-&gt;And_G0:w</title>\n",
       "<path fill=\"none\" stroke=\"black\" d=\"M134,-267C158.85,-267 146.19,-225.37 168.99,-223.1\"/>\n",
       "<ellipse fill=\"black\" stroke=\"black\" cx=\"170\" cy=\"-223.05\" rx=\"1\" ry=\"1\"/>\n",
       "<text text-anchor=\"middle\" x=\"152.5\" y=\"-249\" font-family=\"Times,serif\" font-size=\"10.00\">1</text>\n",
       "</g>\n",
       "<!-- ctrl_G20 -->\n",
       "<g id=\"node8\" class=\"node\">\n",
       "<title>ctrl_G20</title>\n",
       "<text text-anchor=\"middle\" x=\"359\" y=\"-338.3\" font-family=\"Times,serif\" font-size=\"14.00\">ctrl[0]</text>\n",
       "</g>\n",
       "<!-- And&#45;&gt;ctrl_G20 -->\n",
       "<g id=\"edge7\" class=\"edge\">\n",
       "<title>And:e-&gt;ctrl_G20:w</title>\n",
       "<path fill=\"none\" stroke=\"black\" d=\"M134,-310C222.01,-310 241.99,-341.5 328.93,-341.99\"/>\n",
       "<ellipse fill=\"black\" stroke=\"black\" cx=\"330\" cy=\"-342\" rx=\"1\" ry=\"1\"/>\n",
       "<text text-anchor=\"middle\" x=\"232.5\" y=\"-329\" font-family=\"Times,serif\" font-size=\"10.00\">1</text>\n",
       "</g>\n",
       "<!-- ctrl_G18 -->\n",
       "<g id=\"node9\" class=\"node\">\n",
       "<title>ctrl_G18</title>\n",
       "<text text-anchor=\"middle\" x=\"359\" y=\"-284.3\" font-family=\"Times,serif\" font-size=\"14.00\">ctrl[1]</text>\n",
       "</g>\n",
       "<!-- And&#45;&gt;ctrl_G18 -->\n",
       "<g id=\"edge8\" class=\"edge\">\n",
       "<title>And:e-&gt;ctrl_G18:w</title>\n",
       "<path fill=\"none\" stroke=\"black\" d=\"M134,-288C220.87,-288 243.1,-288 328.96,-288\"/>\n",
       "<ellipse fill=\"black\" stroke=\"black\" cx=\"330\" cy=\"-288\" rx=\"1\" ry=\"1\"/>\n",
       "<text text-anchor=\"middle\" x=\"232.5\" y=\"-291\" font-family=\"Times,serif\" font-size=\"10.00\">1</text>\n",
       "</g>\n",
       "<!-- And_G0&#45;&gt;And_G3 -->\n",
       "<g id=\"edge5\" class=\"edge\">\n",
       "<title>And_G0:e-&gt;And_G3:w</title>\n",
       "<path fill=\"none\" stroke=\"black\" d=\"M214,-180C250.05,-180 215.63,-108.86 248.93,-106.08\"/>\n",
       "<ellipse fill=\"black\" stroke=\"black\" cx=\"250\" cy=\"-106.04\" rx=\"1\" ry=\"1\"/>\n",
       "<text text-anchor=\"middle\" x=\"232.5\" y=\"-162\" font-family=\"Times,serif\" font-size=\"10.00\">1</text>\n",
       "</g>\n",
       "<!-- ctrl_G11 -->\n",
       "<g id=\"node10\" class=\"node\">\n",
       "<title>ctrl_G11</title>\n",
       "<text text-anchor=\"middle\" x=\"359\" y=\"-176.3\" font-family=\"Times,serif\" font-size=\"14.00\">ctrl[2]</text>\n",
       "</g>\n",
       "<!-- And_G0&#45;&gt;ctrl_G11 -->\n",
       "<g id=\"edge9\" class=\"edge\">\n",
       "<title>And_G0:e-&gt;ctrl_G11:w</title>\n",
       "<path fill=\"none\" stroke=\"black\" d=\"M214,-201C266.11,-201 277.85,-180.57 328.86,-180.01\"/>\n",
       "<ellipse fill=\"black\" stroke=\"black\" cx=\"330\" cy=\"-180.01\" rx=\"1\" ry=\"1\"/>\n",
       "<text text-anchor=\"middle\" x=\"272.5\" y=\"-200\" font-family=\"Times,serif\" font-size=\"10.00\">1</text>\n",
       "</g>\n",
       "<!-- junk_G15 -->\n",
       "<g id=\"node12\" class=\"node\">\n",
       "<title>junk_G15</title>\n",
       "<text text-anchor=\"middle\" x=\"359\" y=\"-230.3\" font-family=\"Times,serif\" font-size=\"14.00\">junk[0]</text>\n",
       "</g>\n",
       "<!-- And_G0&#45;&gt;junk_G15 -->\n",
       "<g id=\"edge11\" class=\"edge\">\n",
       "<title>And_G0:e-&gt;junk_G15:w</title>\n",
       "<path fill=\"none\" stroke=\"black\" d=\"M214,-223C265.52,-223 278.42,-233.7 328.88,-233.99\"/>\n",
       "<ellipse fill=\"black\" stroke=\"black\" cx=\"330\" cy=\"-234\" rx=\"1\" ry=\"1\"/>\n",
       "<text text-anchor=\"middle\" x=\"272.5\" y=\"-234\" font-family=\"Times,serif\" font-size=\"10.00\">1</text>\n",
       "</g>\n",
       "<!-- ctrl_G9 -->\n",
       "<g id=\"node11\" class=\"node\">\n",
       "<title>ctrl_G9</title>\n",
       "<text text-anchor=\"middle\" x=\"359\" y=\"-68.3\" font-family=\"Times,serif\" font-size=\"14.00\">ctrl[3]</text>\n",
       "</g>\n",
       "<!-- And_G3&#45;&gt;ctrl_G9 -->\n",
       "<g id=\"edge10\" class=\"edge\">\n",
       "<title>And_G3:e-&gt;ctrl_G9:w</title>\n",
       "<path fill=\"none\" stroke=\"black\" d=\"M294,-84C310.48,-84 313.45,-73.1 328.66,-72.08\"/>\n",
       "<ellipse fill=\"black\" stroke=\"black\" cx=\"330\" cy=\"-72.03\" rx=\"1\" ry=\"1\"/>\n",
       "<text text-anchor=\"middle\" x=\"312.5\" y=\"-81\" font-family=\"Times,serif\" font-size=\"10.00\">1</text>\n",
       "</g>\n",
       "<!-- junk -->\n",
       "<g id=\"node13\" class=\"node\">\n",
       "<title>junk</title>\n",
       "<text text-anchor=\"middle\" x=\"359\" y=\"-122.3\" font-family=\"Times,serif\" font-size=\"14.00\">junk[1]</text>\n",
       "</g>\n",
       "<!-- And_G3&#45;&gt;junk -->\n",
       "<g id=\"edge12\" class=\"edge\">\n",
       "<title>And_G3:e-&gt;junk:w</title>\n",
       "<path fill=\"none\" stroke=\"black\" d=\"M294,-106C311.96,-106 312.31,-124.47 328.89,-125.91\"/>\n",
       "<ellipse fill=\"black\" stroke=\"black\" cx=\"330\" cy=\"-125.96\" rx=\"1\" ry=\"1\"/>\n",
       "<text text-anchor=\"middle\" x=\"312.5\" y=\"-119\" font-family=\"Times,serif\" font-size=\"10.00\">1</text>\n",
       "</g>\n",
       "<!-- target_G13 -->\n",
       "<g id=\"node14\" class=\"node\">\n",
       "<title>target_G13</title>\n",
       "<text text-anchor=\"middle\" x=\"359\" y=\"-14.3\" font-family=\"Times,serif\" font-size=\"14.00\">target</text>\n",
       "</g>\n",
       "<!-- And_G3&#45;&gt;target_G13 -->\n",
       "<g id=\"edge13\" class=\"edge\">\n",
       "<title>And_G3:e-&gt;target_G13:w</title>\n",
       "<path fill=\"none\" stroke=\"black\" d=\"M294,-63C319.18,-63 305.89,-20.43 328.97,-18.1\"/>\n",
       "<ellipse fill=\"black\" stroke=\"black\" cx=\"330\" cy=\"-18.05\" rx=\"1\" ry=\"1\"/>\n",
       "<text text-anchor=\"middle\" x=\"312.5\" y=\"-45\" font-family=\"Times,serif\" font-size=\"10.00\">1</text>\n",
       "</g>\n",
       "</g>\n",
       "</svg>"
      ],
      "text/plain": [
       "<IPython.core.display.SVG object>"
      ]
     },
     "metadata": {},
     "output_type": "display_data"
    }
   ],
   "source": [
    "from qualtran.bloqs.and_bloq import MultiAnd\n",
    "from qualtran.drawing import show_bloq\n",
    "\n",
    "bloq = MultiAnd(cvs=(1,)*4)\n",
    "cbloq = bloq.decompose_bloq()\n",
    "show_bloq(cbloq)"
   ]
  },
  {
   "cell_type": "markdown",
   "id": "2dd02b3b",
   "metadata": {},
   "source": [
    "This composite bloq graph can be transformed into a quimb tensor network. Some of the visual flair has been lost, but the topology of the graph is the same."
   ]
  },
  {
   "cell_type": "code",
   "execution_count": 6,
   "id": "04cd38d8",
   "metadata": {},
   "outputs": [
    {
     "data": {
      "image/png": "[encoded data removed]",
      "text/plain": [
       "<Figure size 600x600 with 1 Axes>"
      ]
     },
     "metadata": {
      "needs_background": "light"
     },
     "output_type": "display_data"
    }
   ],
   "source": [
    "from qualtran.simulation.tensor import cbloq_to_quimb\n",
    "\n",
    "tn, fix = cbloq_to_quimb(cbloq)\n",
    "tn.draw(show_inds=False)"
   ]
  },
  {
   "cell_type": "markdown",
   "id": "f18e1f2d",
   "metadata": {},
   "source": [
    "The entire suite of Quimb tools are now available."
   ]
  },
  {
   "cell_type": "code",
   "execution_count": 7,
   "id": "8365af84",
   "metadata": {},
   "outputs": [
    {
     "data": {
      "text/plain": [
       "  Complete contraction:  abcde,efghi,ijklm->abcdfghjklm\n",
       "         Naive scaling:  13\n",
       "     Optimized scaling:  12\n",
       "      Naive FLOP count:  2.458e+4\n",
       "  Optimized FLOP count:  9.216e+3\n",
       "   Theoretical speedup:  2.667e+0\n",
       "  Largest intermediate:  2.048e+3 elements\n",
       "--------------------------------------------------------------------------------\n",
       "scaling        BLAS                current                             remaining\n",
       "--------------------------------------------------------------------------------\n",
       "   9           GEMM  efghi,abcde->fghiabcd           ijklm,fghiabcd->abcdfghjklm\n",
       "  12           TDOT fghiabcd,ijklm->abcdfghjklm         abcdfghjklm->abcdfghjklm"
      ]
     },
     "execution_count": 7,
     "metadata": {},
     "output_type": "execute_result"
    }
   ],
   "source": [
    "tn.contraction_info()"
   ]
  },
  {
   "cell_type": "markdown",
   "id": "85fb5d5f",
   "metadata": {},
   "source": [
    "## Implementation\n",
    "\n",
    "The `qualtran.simulation.tensor` functions rely on the `Bloq.add_my_tensors(...)` method to implement the protocol. This is where a bloq's tensor information is actually encoded.\n",
    "\n",
    "Bloq authors may want to override this method. The library will provide a (partial) `qtn.TensorNetwork` as well as dictionaries of incoming and outgoing indices (keyed by register name) to asist the author in matching up dimensions of their `np.ndarray` to the incoming and outgoing wires. Bloq authors are encouraged to read the docstring for this method for more details.\n",
    "\n",
    "Below, we write our own `CNOT` bloq with custom tensors."
   ]
  },
  {
   "cell_type": "code",
   "execution_count": 8,
   "id": "0ff904cd",
   "metadata": {},
   "outputs": [],
   "source": [
    "from functools import cached_property\n",
    "from typing import Any, Dict, Tuple\n",
    "\n",
    "import numpy as np\n",
    "import quimb.tensor as qtn\n",
    "from attrs import frozen\n",
    "\n",
    "from qualtran import Bloq, Signature, Soquet, SoquetT, Register, Side\n",
    "\n",
    "@frozen\n",
    "class MyCNOT(Bloq):\n",
    "    @cached_property\n",
    "    def signature(self) -> 'Signature':\n",
    "        return Signature.build(ctrl=1, target=1)\n",
    "\n",
    "    def add_my_tensors(\n",
    "        self, tn: qtn.TensorNetwork, tag: Any,\n",
    "        *, incoming: Dict[str, SoquetT], outgoing: Dict[str, SoquetT],\n",
    "    ):\n",
    "        # The familiar CNOT matrix. We make sure to\n",
    "        # cast this to np.complex128 so we don't accidentally\n",
    "        # lose precision anywhere else in the contraction.\n",
    "        matrix = np.array([\n",
    "            [1, 0, 0, 0],\n",
    "            [0, 1, 0, 0],\n",
    "            [0, 0, 0, 1],\n",
    "            [0, 0, 1, 0],\n",
    "        ], dtype=np.complex128)\n",
    "        \n",
    "        # According to our signature, we have two thru-registers.\n",
    "        # This means two incoming and two outgoing wires.\n",
    "        # We'll reshape our matrix into the more natural n-dimensional\n",
    "        # tensor form.\n",
    "        tensor = matrix.reshape((2,2,2,2))\n",
    "        \n",
    "\n",
    "        tn.add(qtn.Tensor(\n",
    "            data=tensor, \n",
    "            inds=(outgoing['ctrl'], outgoing['target'], \n",
    "                  incoming['ctrl'], incoming['target']),\n",
    "            tags = ['cnot', tag],\n",
    "        ))"
   ]
  },
  {
   "cell_type": "code",
   "execution_count": 9,
   "id": "aea735aa",
   "metadata": {},
   "outputs": [
    {
     "data": {
      "text/plain": [
       "array([[1.+0.j, 0.+0.j, 0.+0.j, 0.+0.j],\n",
       "       [0.+0.j, 1.+0.j, 0.+0.j, 0.+0.j],\n",
       "       [0.+0.j, 0.+0.j, 0.+0.j, 1.+0.j],\n",
       "       [0.+0.j, 0.+0.j, 1.+0.j, 0.+0.j]])"
      ]
     },
     "execution_count": 9,
     "metadata": {},
     "output_type": "execute_result"
    }
   ],
   "source": [
    "# Sanity check\n",
    "MyCNOT().tensor_contract()"
   ]
  },
  {
   "cell_type": "markdown",
   "id": "e30eec6e",
   "metadata": {},
   "source": [
    "## Default Fallback\n",
    "\n",
    "If a bloq does not override `add_my_tensors(...)`, the default fallback will be used by `qualtran` to support the tensor protocol.\n",
    "\n",
    "By default, qualtran will fall back on the tensor contraction of the decomposition. This recursion will continue until each leaf bloq defines `add_my_tensors` or a bloq cannot be further decomposed.\n",
    "\n",
    "Specifically, the system will:\n",
    "\n",
    " - decompose the bloq with `bloq.decompose_bloq()` into a composite bloq.\n",
    " - use the result of `cbloq_as_contracted_tensor(...)` as the bloq's tensor.\n",
    " \n",
    " \n",
    "For example, below we author a `BellState` bloq. We define a decomposition but do not explicitly provide tensor information."
   ]
  },
  {
   "cell_type": "code",
   "execution_count": 10,
   "id": "5a58c7cc",
   "metadata": {},
   "outputs": [],
   "source": [
    "from qualtran.bloqs.basic_gates import PlusState, ZeroState\n",
    "\n",
    "@frozen\n",
    "class BellState(Bloq):\n",
    "    @cached_property\n",
    "    def signature(self) -> 'Signature':\n",
    "        return Signature([\n",
    "            Register('q0', 1, side=Side.RIGHT),\n",
    "            Register('q1', 1, side=Side.RIGHT)\n",
    "        ])\n",
    "\n",
    "    def build_composite_bloq(self, bb):\n",
    "        q0 = bb.add(PlusState())\n",
    "        q1 = bb.add(ZeroState())\n",
    "\n",
    "        q0, q1 = bb.add(CNOT(), ctrl=q0, target=q1)\n",
    "        return {'q0': q0, 'q1': q1}\n"
   ]
  },
  {
   "cell_type": "markdown",
   "id": "d0eebfb4",
   "metadata": {},
   "source": [
    "Nevertheless, the system can recursively determine the tensor form:"
   ]
  },
  {
   "cell_type": "code",
   "execution_count": 11,
   "id": "7ef8f831",
   "metadata": {},
   "outputs": [
    {
     "name": "stdout",
     "output_type": "stream",
     "text": [
      "[0.70710678+0.j 0.        +0.j 0.        +0.j 0.70710678+0.j]\n"
     ]
    }
   ],
   "source": [
    "print(BellState().tensor_contract())"
   ]
  },
  {
   "cell_type": "markdown",
   "id": "ebbe9a2a",
   "metadata": {},
   "source": [
    "Note that the composite bloq is fully contracted to a dense tensor at each level of decomposition, which likely will prevent quimb from finding the best contraction ordering. See `flatten_for_tensor_contraction` if this is an issue."
   ]
  }
 ],
 "metadata": {
  "kernelspec": {
   "display_name": "Python 3 (ipykernel)",
   "language": "python",
   "name": "python3"
  },
  "language_info": {
   "codemirror_mode": {
    "name": "ipython",
    "version": 3
   },
   "file_extension": ".py",
   "mimetype": "text/x-python",
   "name": "python",
   "nbconvert_exporter": "python",
   "pygments_lexer": "ipython3",
   "version": "3.10.12"
  }
 },
 "nbformat": 4,
 "nbformat_minor": 5
}
