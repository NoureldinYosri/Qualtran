{
 "cells": [
  {
   "cell_type": "markdown",
   "id": "19c8aede",
   "metadata": {},
   "source": [
    "# Classical Simulation\n",
    "\n",
    "Many quantum information subroutines are reversible classical operations. The catch is that they are operated on superpositions of classical bitstrings. However, we can unit test these operations by checking against specific bitstrings through the `call_classically` bloqs protocol."
   ]
  },
  {
   "cell_type": "code",
   "execution_count": 1,
   "id": "689149fc",
   "metadata": {},
   "outputs": [],
   "source": [
    "from typing import *\n",
    "\n",
    "import numpy as np\n",
    "from attrs import frozen\n",
    "from numpy.typing import NDArray\n",
    "\n",
    "from qualtran import Bloq, BloqBuilder, Register, Signature, Side\n",
    "from qualtran.drawing import show_bloq"
   ]
  },
  {
   "cell_type": "markdown",
   "id": "71193328",
   "metadata": {},
   "source": [
    "## CNOT\n",
    "\n",
    "The simplest classical gate is the controlled not. This flips the target bit if `ctrl` is set. We can implement the `on_classical_vals` method to encode this behavior."
   ]
  },
  {
   "cell_type": "code",
   "execution_count": 2,
   "id": "3f251026",
   "metadata": {},
   "outputs": [],
   "source": [
    "@frozen\n",
    "class CNOTExample(Bloq):\n",
    "    @property\n",
    "    def signature(self) -> 'Signature':\n",
    "        return Signature.build(ctrl=1, target=1)\n",
    "\n",
    "    def on_classical_vals(\n",
    "        self, ctrl: NDArray[np.uint8], target: NDArray[np.uint8]\n",
    "    ) -> Dict[str, NDArray[np.uint8]]:\n",
    "        target_out = (ctrl + target) % 2\n",
    "        return {'ctrl': ctrl, 'target': target_out}"
   ]
  },
  {
   "cell_type": "markdown",
   "id": "62a974c9",
   "metadata": {},
   "source": [
    "We can call the Bloq on classical inputs by using `Bloq.call_classically()`. "
   ]
  },
  {
   "cell_type": "code",
   "execution_count": 3,
   "id": "84d2ee13",
   "metadata": {},
   "outputs": [
    {
     "data": {
      "text/plain": [
       "(1, 1)"
      ]
     },
     "execution_count": 3,
     "metadata": {},
     "output_type": "execute_result"
    }
   ],
   "source": [
    "CNOTExample().call_classically(ctrl=1, target=0)"
   ]
  },
  {
   "cell_type": "code",
   "execution_count": 4,
   "id": "4d5fd4dc",
   "metadata": {},
   "outputs": [
    {
     "name": "stdout",
     "output_type": "stream",
     "text": [
      "00 -> 00\n",
      "01 -> 01\n",
      "10 -> 11\n",
      "11 -> 10\n"
     ]
    }
   ],
   "source": [
    "import itertools\n",
    "for c, t in itertools.product([0,1], repeat=2):\n",
    "    out_c, out_t = CNOTExample().call_classically(ctrl=c, target=t)\n",
    "    print(f'{c}{t} -> {out_c}{out_t}')"
   ]
  },
  {
   "cell_type": "markdown",
   "id": "5a9e2ec0",
   "metadata": {},
   "source": [
    "### Drawing\n",
    "\n",
    "We can draw the flow of classical values as well using `ClassicalSimGraphDrawer`"
   ]
  },
  {
   "cell_type": "code",
   "execution_count": 5,
   "id": "4653d4f9",
   "metadata": {},
   "outputs": [
    {
     "data": {
      "image/svg+xml": [
       "<svg xmlns=\"http://www.w3.org/2000/svg\" xmlns:xlink=\"http://www.w3.org/1999/xlink\" width=\"252pt\" height=\"98pt\" viewBox=\"0.00 0.00 252.00 98.00\">\n",
       "<g id=\"graph0\" class=\"graph\" transform=\"scale(1 1) rotate(0) translate(4 94)\">\n",
       "<title>my_graph</title>\n",
       "<polygon fill=\"white\" stroke=\"transparent\" points=\"-4,4 -4,-94 248,-94 248,4 -4,4\"/>\n",
       "<!-- ctrl_G3 -->\n",
       "<g id=\"node1\" class=\"node\">\n",
       "<title>ctrl_G3</title>\n",
       "<text text-anchor=\"middle\" x=\"27\" y=\"-68.3\" font-family=\"Times,serif\" font-size=\"14.00\">ctrl</text>\n",
       "</g>\n",
       "<!-- CNOTExample -->\n",
       "<g id=\"node3\" class=\"node\">\n",
       "<title>CNOTExample</title>\n",
       "<polygon fill=\"none\" stroke=\"black\" points=\"91,-66 91,-83 153,-83 153,-66 91,-66\"/>\n",
       "<text text-anchor=\"start\" x=\"94\" y=\"-72\" font-family=\"Times,serif\" font-size=\"10.00\">CNOTExam..</text>\n",
       "<polygon fill=\"none\" stroke=\"black\" points=\"91,-45 91,-66 153,-66 153,-45 91,-45\"/>\n",
       "<text text-anchor=\"start\" x=\"112.5\" y=\"-51.8\" font-family=\"Times,serif\" font-size=\"14.00\">ctrl</text>\n",
       "<polygon fill=\"none\" stroke=\"black\" points=\"91,-24 91,-45 153,-45 153,-24 91,-24\"/>\n",
       "<text text-anchor=\"start\" x=\"106.5\" y=\"-30.8\" font-family=\"Times,serif\" font-size=\"14.00\">target</text>\n",
       "</g>\n",
       "<!-- ctrl_G3&#45;&gt;CNOTExample -->\n",
       "<g id=\"edge1\" class=\"edge\">\n",
       "<title>ctrl_G3:e-&gt;CNOTExample:w</title>\n",
       "<path fill=\"none\" stroke=\"black\" d=\"M54,-72C71.22,-72 72.97,-57.23 88.98,-56.07\"/>\n",
       "<ellipse fill=\"black\" stroke=\"black\" cx=\"90\" cy=\"-56.04\" rx=\"1\" ry=\"1\"/>\n",
       "<text text-anchor=\"middle\" x=\"72.5\" y=\"-67\" font-family=\"Times,serif\" font-size=\"10.00\" fill=\"darkblue\">1</text>\n",
       "</g>\n",
       "<!-- target_G4 -->\n",
       "<g id=\"node2\" class=\"node\">\n",
       "<title>target_G4</title>\n",
       "<text text-anchor=\"middle\" x=\"27\" y=\"-14.3\" font-family=\"Times,serif\" font-size=\"14.00\">target</text>\n",
       "</g>\n",
       "<!-- target_G4&#45;&gt;CNOTExample -->\n",
       "<g id=\"edge2\" class=\"edge\">\n",
       "<title>target_G4:e-&gt;CNOTExample:w</title>\n",
       "<path fill=\"none\" stroke=\"black\" d=\"M54,-18C71.22,-18 72.97,-32.77 88.98,-33.93\"/>\n",
       "<ellipse fill=\"black\" stroke=\"black\" cx=\"90\" cy=\"-33.96\" rx=\"1\" ry=\"1\"/>\n",
       "<text text-anchor=\"middle\" x=\"72.5\" y=\"-29\" font-family=\"Times,serif\" font-size=\"10.00\" fill=\"darkblue\">0</text>\n",
       "</g>\n",
       "<!-- ctrl_G5 -->\n",
       "<g id=\"node4\" class=\"node\">\n",
       "<title>ctrl_G5</title>\n",
       "<text text-anchor=\"middle\" x=\"217\" y=\"-68.3\" font-family=\"Times,serif\" font-size=\"14.00\">ctrl</text>\n",
       "</g>\n",
       "<!-- CNOTExample&#45;&gt;ctrl_G5 -->\n",
       "<g id=\"edge3\" class=\"edge\">\n",
       "<title>CNOTExample:e-&gt;ctrl_G5:w</title>\n",
       "<path fill=\"none\" stroke=\"black\" d=\"M153,-56C170.22,-56 171.97,-70.77 187.98,-71.93\"/>\n",
       "<ellipse fill=\"black\" stroke=\"black\" cx=\"189\" cy=\"-71.96\" rx=\"1\" ry=\"1\"/>\n",
       "<text text-anchor=\"middle\" x=\"171.5\" y=\"-67\" font-family=\"Times,serif\" font-size=\"10.00\" fill=\"darkblue\">1</text>\n",
       "</g>\n",
       "<!-- target_G1 -->\n",
       "<g id=\"node5\" class=\"node\">\n",
       "<title>target_G1</title>\n",
       "<text text-anchor=\"middle\" x=\"217\" y=\"-14.3\" font-family=\"Times,serif\" font-size=\"14.00\">target</text>\n",
       "</g>\n",
       "<!-- CNOTExample&#45;&gt;target_G1 -->\n",
       "<g id=\"edge4\" class=\"edge\">\n",
       "<title>CNOTExample:e-&gt;target_G1:w</title>\n",
       "<path fill=\"none\" stroke=\"black\" d=\"M153,-34C170.22,-34 171.97,-19.23 187.98,-18.07\"/>\n",
       "<ellipse fill=\"black\" stroke=\"black\" cx=\"189\" cy=\"-18.04\" rx=\"1\" ry=\"1\"/>\n",
       "<text text-anchor=\"middle\" x=\"171.5\" y=\"-29\" font-family=\"Times,serif\" font-size=\"10.00\" fill=\"darkblue\">1</text>\n",
       "</g>\n",
       "</g>\n",
       "</svg>"
      ],
      "text/plain": [
       "<IPython.core.display.SVG object>"
      ]
     },
     "execution_count": 5,
     "metadata": {},
     "output_type": "execute_result"
    }
   ],
   "source": [
    "from qualtran.drawing import ClassicalSimGraphDrawer\n",
    "\n",
    "drawer = ClassicalSimGraphDrawer(CNOTExample(), vals=dict(ctrl=1, target=0))\n",
    "drawer.get_svg()"
   ]
  },
  {
   "cell_type": "code",
   "execution_count": 6,
   "id": "8b62e282",
   "metadata": {},
   "outputs": [
    {
     "data": {
      "image/svg+xml": [
       "<svg xmlns=\"http://www.w3.org/2000/svg\" xmlns:xlink=\"http://www.w3.org/1999/xlink\" width=\"450pt\" height=\"98pt\" viewBox=\"0.00 0.00 450.00 98.00\">\n",
       "<g id=\"graph0\" class=\"graph\" transform=\"scale(1 1) rotate(0) translate(4 94)\">\n",
       "<title>my_graph</title>\n",
       "<polygon fill=\"white\" stroke=\"transparent\" points=\"-4,4 -4,-94 446,-94 446,4 -4,4\"/>\n",
       "<!-- q0_G13 -->\n",
       "<g id=\"node1\" class=\"node\">\n",
       "<title>q0_G13</title>\n",
       "<text text-anchor=\"middle\" x=\"27\" y=\"-68.3\" font-family=\"Times,serif\" font-size=\"14.00\">q0</text>\n",
       "</g>\n",
       "<!-- CNOTExample -->\n",
       "<g id=\"node3\" class=\"node\">\n",
       "<title>CNOTExample</title>\n",
       "<polygon fill=\"none\" stroke=\"black\" points=\"91,-66 91,-83 153,-83 153,-66 91,-66\"/>\n",
       "<text text-anchor=\"start\" x=\"94\" y=\"-72\" font-family=\"Times,serif\" font-size=\"10.00\">CNOTExam..</text>\n",
       "<polygon fill=\"none\" stroke=\"black\" points=\"91,-45 91,-66 153,-66 153,-45 91,-45\"/>\n",
       "<text text-anchor=\"start\" x=\"112.5\" y=\"-51.8\" font-family=\"Times,serif\" font-size=\"14.00\">ctrl</text>\n",
       "<polygon fill=\"none\" stroke=\"black\" points=\"91,-24 91,-45 153,-45 153,-24 91,-24\"/>\n",
       "<text text-anchor=\"start\" x=\"106.5\" y=\"-30.8\" font-family=\"Times,serif\" font-size=\"14.00\">target</text>\n",
       "</g>\n",
       "<!-- q0_G13&#45;&gt;CNOTExample -->\n",
       "<g id=\"edge1\" class=\"edge\">\n",
       "<title>q0_G13:e-&gt;CNOTExample:w</title>\n",
       "<path fill=\"none\" stroke=\"black\" d=\"M54,-72C71.22,-72 72.97,-57.23 88.98,-56.07\"/>\n",
       "<ellipse fill=\"black\" stroke=\"black\" cx=\"90\" cy=\"-56.04\" rx=\"1\" ry=\"1\"/>\n",
       "<text text-anchor=\"middle\" x=\"72.5\" y=\"-67\" font-family=\"Times,serif\" font-size=\"10.00\" fill=\"darkblue\">1</text>\n",
       "</g>\n",
       "<!-- q1_G7 -->\n",
       "<g id=\"node2\" class=\"node\">\n",
       "<title>q1_G7</title>\n",
       "<text text-anchor=\"middle\" x=\"27\" y=\"-14.3\" font-family=\"Times,serif\" font-size=\"14.00\">q1</text>\n",
       "</g>\n",
       "<!-- q1_G7&#45;&gt;CNOTExample -->\n",
       "<g id=\"edge2\" class=\"edge\">\n",
       "<title>q1_G7:e-&gt;CNOTExample:w</title>\n",
       "<path fill=\"none\" stroke=\"black\" d=\"M54,-18C71.22,-18 72.97,-32.77 88.98,-33.93\"/>\n",
       "<ellipse fill=\"black\" stroke=\"black\" cx=\"90\" cy=\"-33.96\" rx=\"1\" ry=\"1\"/>\n",
       "<text text-anchor=\"middle\" x=\"72.5\" y=\"-29\" font-family=\"Times,serif\" font-size=\"10.00\" fill=\"darkblue\">0</text>\n",
       "</g>\n",
       "<!-- CNOTExample_G0 -->\n",
       "<g id=\"node4\" class=\"node\">\n",
       "<title>CNOTExample_G0</title>\n",
       "<polygon fill=\"none\" stroke=\"black\" points=\"190,-66 190,-83 252,-83 252,-66 190,-66\"/>\n",
       "<text text-anchor=\"start\" x=\"193\" y=\"-72\" font-family=\"Times,serif\" font-size=\"10.00\">CNOTExam..</text>\n",
       "<polygon fill=\"none\" stroke=\"black\" points=\"190,-45 190,-66 252,-66 252,-45 190,-45\"/>\n",
       "<text text-anchor=\"start\" x=\"211.5\" y=\"-51.8\" font-family=\"Times,serif\" font-size=\"14.00\">ctrl</text>\n",
       "<polygon fill=\"none\" stroke=\"black\" points=\"190,-24 190,-45 252,-45 252,-24 190,-24\"/>\n",
       "<text text-anchor=\"start\" x=\"205.5\" y=\"-30.8\" font-family=\"Times,serif\" font-size=\"14.00\">target</text>\n",
       "</g>\n",
       "<!-- CNOTExample&#45;&gt;CNOTExample_G0 -->\n",
       "<g id=\"edge3\" class=\"edge\">\n",
       "<title>CNOTExample:e-&gt;CNOTExample_G0:w</title>\n",
       "<path fill=\"none\" stroke=\"black\" d=\"M153,-34C162.16,-34 164.09,-37.37 172,-42 180.06,-46.72 179.94,-54.64 187.82,-55.84\"/>\n",
       "<ellipse fill=\"black\" stroke=\"black\" cx=\"189\" cy=\"-55.93\" rx=\"1\" ry=\"1\"/>\n",
       "<text text-anchor=\"middle\" x=\"171.5\" y=\"-45\" font-family=\"Times,serif\" font-size=\"10.00\" fill=\"darkblue\">1</text>\n",
       "</g>\n",
       "<!-- CNOTExample&#45;&gt;CNOTExample_G0 -->\n",
       "<g id=\"edge4\" class=\"edge\">\n",
       "<title>CNOTExample:e-&gt;CNOTExample_G0:w</title>\n",
       "<path fill=\"none\" stroke=\"black\" d=\"M153,-56C171.38,-56 170.94,-35.69 187.85,-34.1\"/>\n",
       "<ellipse fill=\"black\" stroke=\"black\" cx=\"189\" cy=\"-34.05\" rx=\"1\" ry=\"1\"/>\n",
       "<text text-anchor=\"middle\" x=\"171.5\" y=\"-48\" font-family=\"Times,serif\" font-size=\"10.00\" fill=\"darkblue\">1</text>\n",
       "</g>\n",
       "<!-- CNOTExample_G3 -->\n",
       "<g id=\"node5\" class=\"node\">\n",
       "<title>CNOTExample_G3</title>\n",
       "<polygon fill=\"none\" stroke=\"black\" points=\"289,-66 289,-83 351,-83 351,-66 289,-66\"/>\n",
       "<text text-anchor=\"start\" x=\"292\" y=\"-72\" font-family=\"Times,serif\" font-size=\"10.00\">CNOTExam..</text>\n",
       "<polygon fill=\"none\" stroke=\"black\" points=\"289,-45 289,-66 351,-66 351,-45 289,-45\"/>\n",
       "<text text-anchor=\"start\" x=\"310.5\" y=\"-51.8\" font-family=\"Times,serif\" font-size=\"14.00\">ctrl</text>\n",
       "<polygon fill=\"none\" stroke=\"black\" points=\"289,-24 289,-45 351,-45 351,-24 289,-24\"/>\n",
       "<text text-anchor=\"start\" x=\"304.5\" y=\"-30.8\" font-family=\"Times,serif\" font-size=\"14.00\">target</text>\n",
       "</g>\n",
       "<!-- CNOTExample_G0&#45;&gt;CNOTExample_G3 -->\n",
       "<g id=\"edge5\" class=\"edge\">\n",
       "<title>CNOTExample_G0:e-&gt;CNOTExample_G3:w</title>\n",
       "<path fill=\"none\" stroke=\"black\" d=\"M252,-34C261.16,-34 263.09,-37.37 271,-42 279.06,-46.72 278.94,-54.64 286.82,-55.84\"/>\n",
       "<ellipse fill=\"black\" stroke=\"black\" cx=\"288\" cy=\"-55.93\" rx=\"1\" ry=\"1\"/>\n",
       "<text text-anchor=\"middle\" x=\"270.5\" y=\"-45\" font-family=\"Times,serif\" font-size=\"10.00\" fill=\"darkblue\">0</text>\n",
       "</g>\n",
       "<!-- CNOTExample_G0&#45;&gt;CNOTExample_G3 -->\n",
       "<g id=\"edge6\" class=\"edge\">\n",
       "<title>CNOTExample_G0:e-&gt;CNOTExample_G3:w</title>\n",
       "<path fill=\"none\" stroke=\"black\" d=\"M252,-56C270.38,-56 269.94,-35.69 286.85,-34.1\"/>\n",
       "<ellipse fill=\"black\" stroke=\"black\" cx=\"288\" cy=\"-34.05\" rx=\"1\" ry=\"1\"/>\n",
       "<text text-anchor=\"middle\" x=\"270.5\" y=\"-48\" font-family=\"Times,serif\" font-size=\"10.00\" fill=\"darkblue\">1</text>\n",
       "</g>\n",
       "<!-- q0 -->\n",
       "<g id=\"node6\" class=\"node\">\n",
       "<title>q0</title>\n",
       "<text text-anchor=\"middle\" x=\"415\" y=\"-68.3\" font-family=\"Times,serif\" font-size=\"14.00\">q0</text>\n",
       "</g>\n",
       "<!-- CNOTExample_G3&#45;&gt;q0 -->\n",
       "<g id=\"edge7\" class=\"edge\">\n",
       "<title>CNOTExample_G3:e-&gt;q0:w</title>\n",
       "<path fill=\"none\" stroke=\"black\" d=\"M351,-56C368.22,-56 369.97,-70.77 385.98,-71.93\"/>\n",
       "<ellipse fill=\"black\" stroke=\"black\" cx=\"387\" cy=\"-71.96\" rx=\"1\" ry=\"1\"/>\n",
       "<text text-anchor=\"middle\" x=\"369.5\" y=\"-67\" font-family=\"Times,serif\" font-size=\"10.00\" fill=\"darkblue\">0</text>\n",
       "</g>\n",
       "<!-- q1 -->\n",
       "<g id=\"node7\" class=\"node\">\n",
       "<title>q1</title>\n",
       "<text text-anchor=\"middle\" x=\"415\" y=\"-14.3\" font-family=\"Times,serif\" font-size=\"14.00\">q1</text>\n",
       "</g>\n",
       "<!-- CNOTExample_G3&#45;&gt;q1 -->\n",
       "<g id=\"edge8\" class=\"edge\">\n",
       "<title>CNOTExample_G3:e-&gt;q1:w</title>\n",
       "<path fill=\"none\" stroke=\"black\" d=\"M351,-34C368.22,-34 369.97,-19.23 385.98,-18.07\"/>\n",
       "<ellipse fill=\"black\" stroke=\"black\" cx=\"387\" cy=\"-18.04\" rx=\"1\" ry=\"1\"/>\n",
       "<text text-anchor=\"middle\" x=\"369.5\" y=\"-29\" font-family=\"Times,serif\" font-size=\"10.00\" fill=\"darkblue\">1</text>\n",
       "</g>\n",
       "</g>\n",
       "</svg>"
      ],
      "text/plain": [
       "<IPython.core.display.SVG object>"
      ]
     },
     "execution_count": 6,
     "metadata": {},
     "output_type": "execute_result"
    }
   ],
   "source": [
    "# Build a SWAP circuit\n",
    "bb = BloqBuilder()\n",
    "q0 = bb.add_register('q0', 1)\n",
    "q1 = bb.add_register('q1', 1)\n",
    "q0, q1 = bb.add(CNOTExample(), ctrl=q0, target=q1)\n",
    "q1, q0 = bb.add(CNOTExample(), ctrl=q1, target=q0)\n",
    "q0, q1 = bb.add(CNOTExample(), ctrl=q0, target=q1)\n",
    "cbloq = bb.finalize(q0=q0, q1=q1)\n",
    "\n",
    "drawer = ClassicalSimGraphDrawer(cbloq, vals=dict(q0=1, q1=0))\n",
    "drawer.get_svg()"
   ]
  }
 ],
 "metadata": {
  "kernelspec": {
   "display_name": "Python 3 (ipykernel)",
   "language": "python",
   "name": "python3"
  },
  "language_info": {
   "codemirror_mode": {
    "name": "ipython",
    "version": 3
   },
   "file_extension": ".py",
   "mimetype": "text/x-python",
   "name": "python",
   "nbconvert_exporter": "python",
   "pygments_lexer": "ipython3",
   "version": "3.10.12"
  }
 },
 "nbformat": 4,
 "nbformat_minor": 5
}
