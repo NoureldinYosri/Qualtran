{
 "cells": [
  {
   "cell_type": "markdown",
   "id": "9ac46a05",
   "metadata": {},
   "source": [
    "# Cross-checking Classical Simulation\n",
    "\n",
    "In this notebook, we will demonstrate how classical reversible logic bloqs can combine\n",
    "the quantum simulation and classical simulation protocols to cross check their logic. \n",
    "\n",
    "We'll use a provided library function to wrap a bloq in allocations and de-allocations\n",
    "following the bloq's classical logic so that when we contract the resultant tensor network\n",
    "we get a value of `1` (corresponding to a normalized, unitary universe) if everything\n",
    "checks out.\n",
    "\n",
    "The function `flank_with_classical_vectors` will set up the [`CompositeBloq`](/reference/qualtran/CompositeBloq.md) we need."
   ]
  },
  {
   "cell_type": "code",
   "execution_count": 1,
   "id": "b6e1a637",
   "metadata": {},
   "outputs": [],
   "source": [
    "from qualtran.drawing import show_bloq\n",
    "from qualtran.simulation.xcheck_classical_quimb import flank_with_classical_vectors"
   ]
  },
  {
   "cell_type": "markdown",
   "id": "aafd5764",
   "metadata": {},
   "source": [
    "## `XGate`\n",
    "\n",
    "The X gate flips a given bit. "
   ]
  },
  {
   "cell_type": "code",
   "execution_count": 2,
   "id": "d5266adb",
   "metadata": {},
   "outputs": [],
   "source": [
    "from qualtran.bloqs.basic_gates import XGate\n",
    "x = XGate()"
   ]
  },
  {
   "cell_type": "markdown",
   "id": "283e8856",
   "metadata": {},
   "source": [
    "If we start in the `0` basis state, we better end up in the `1` basis state.\n",
    "`flank_wht_classical_vectors` will use the classical simulation protocol to determine\n",
    "the correct output state given the provided input state, and the `assert tensor_contract()`\n",
    "will use the quantum simulation (tensor network) protocol to check if the input/output\n",
    "pair is valid for the bloq."
   ]
  },
  {
   "cell_type": "code",
   "execution_count": 3,
   "id": "16fd0377",
   "metadata": {},
   "outputs": [
    {
     "data": {
      "image/png": "[encoded data removed]",
      "text/plain": [
       "<Figure size 400x120 with 1 Axes>"
      ]
     },
     "metadata": {},
     "output_type": "display_data"
    }
   ],
   "source": [
    "x_tt = flank_with_classical_vectors(x, {'q': 0})\n",
    "\n",
    "assert x_tt.tensor_contract() == 1.0\n",
    "show_bloq(x_tt, type='musical_score')"
   ]
  },
  {
   "cell_type": "markdown",
   "id": "0712ab04",
   "metadata": {},
   "source": [
    "`flank_with_classical_vectors` will use the classical simulation protocol to determine the correct output values. We can override them with our own. Below, we make a [`CompositeBloq`](/reference/qualtran/CompositeBloq.md) where the inputs and outputs are both the `0` vector. This doesn't match the expected behavior of the X gate, so the tensor network contracts to zero."
   ]
  },
  {
   "cell_type": "code",
   "execution_count": 4,
   "id": "d43ab207",
   "metadata": {},
   "outputs": [
    {
     "name": "stdout",
     "output_type": "stream",
     "text": [
      "Tensor contracted to 0. The universe has been annihilated.\n"
     ]
    }
   ],
   "source": [
    "result = flank_with_classical_vectors(x, in_vals={'q':0}, out_vals={'q': 0}).tensor_contract()\n",
    "if result == 0.0:\n",
    "    print('Tensor contracted to 0. The universe has been annihilated.')"
   ]
  },
  {
   "cell_type": "markdown",
   "id": "a8f51723",
   "metadata": {},
   "source": [
    "## `CNOT`\n",
    "\n",
    "We can check other bloqs that support both classical simulation and quantum simulation. In this notebook, we've hardcoded some input values but you could try random inputs or use `itertools.product` to check all possible inputs."
   ]
  },
  {
   "cell_type": "code",
   "execution_count": 5,
   "id": "6a0f283f",
   "metadata": {},
   "outputs": [],
   "source": [
    "from qualtran.bloqs.basic_gates import CNOT\n",
    "cnot = CNOT()"
   ]
  },
  {
   "cell_type": "code",
   "execution_count": 6,
   "id": "1ac2e2c8",
   "metadata": {},
   "outputs": [
    {
     "data": {
      "image/png": "[encoded data removed]",
      "text/plain": [
       "<Figure size 560x200 with 1 Axes>"
      ]
     },
     "metadata": {},
     "output_type": "display_data"
    }
   ],
   "source": [
    "cnot_tt = flank_with_classical_vectors(cnot, {'ctrl': 1, 'target': 0})\n",
    "\n",
    "assert cnot_tt.tensor_contract() == 1.0\n",
    "show_bloq(cnot_tt, type='musical_score')"
   ]
  },
  {
   "cell_type": "markdown",
   "id": "db35b6bd",
   "metadata": {},
   "source": [
    "## `Toffoli`"
   ]
  },
  {
   "cell_type": "code",
   "execution_count": 7,
   "id": "4f4fe64e",
   "metadata": {},
   "outputs": [],
   "source": [
    "from qualtran.bloqs.basic_gates import Toffoli\n",
    "tof = Toffoli()"
   ]
  },
  {
   "cell_type": "code",
   "execution_count": 8,
   "id": "0339e796",
   "metadata": {},
   "outputs": [
    {
     "data": {
      "image/png": "[encoded data removed]",
      "text/plain": [
       "<Figure size 720x280 with 1 Axes>"
      ]
     },
     "metadata": {},
     "output_type": "display_data"
    }
   ],
   "source": [
    "tof_tt = flank_with_classical_vectors(tof, {'ctrl': [1, 1], 'target': 0})\n",
    "\n",
    "assert tof_tt.tensor_contract() == 1.0\n",
    "show_bloq(tof_tt, type='musical_score')"
   ]
  },
  {
   "cell_type": "markdown",
   "id": "db7b2da7",
   "metadata": {},
   "source": [
    "## `Add`"
   ]
  },
  {
   "cell_type": "code",
   "execution_count": 9,
   "id": "ac60d1fe",
   "metadata": {},
   "outputs": [],
   "source": [
    "from qualtran import QUInt\n",
    "from qualtran.bloqs.arithmetic import Add\n",
    "add = Add(QUInt(bitsize=5))"
   ]
  },
  {
   "cell_type": "code",
   "execution_count": 10,
   "id": "82e374f9",
   "metadata": {},
   "outputs": [
    {
     "data": {
      "image/png": "[encoded data removed]",
      "text/plain": [
       "<Figure size 560x200 with 1 Axes>"
      ]
     },
     "metadata": {},
     "output_type": "display_data"
    }
   ],
   "source": [
    "add_tt = flank_with_classical_vectors(add, {'a': 2, 'b': 3})\n",
    "\n",
    "assert add_tt.tensor_contract() == 1.0\n",
    "show_bloq(add_tt, type='musical_score')"
   ]
  }
 ],
 "metadata": {
  "kernelspec": {
   "display_name": "Python 3 (ipykernel)",
   "language": "python",
   "name": "python3"
  },
  "language_info": {
   "codemirror_mode": {
    "name": "ipython",
    "version": 3
   },
   "file_extension": ".py",
   "mimetype": "text/x-python",
   "name": "python",
   "nbconvert_exporter": "python",
   "pygments_lexer": "ipython3",
   "version": "3.11.8"
  }
 },
 "nbformat": 4,
 "nbformat_minor": 5
}
