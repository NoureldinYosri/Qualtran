{
 "cells": [
  {
   "cell_type": "markdown",
   "id": "9640a40f",
   "metadata": {},
   "source": [
    "# Bloqs Tutorial\n",
    "\n",
    "Qualtran lets you represent high-level quantum programs and subroutines as a hierarchical\n",
    "collection of Python objects. The main interface is the `Bloq` abstract base class."
   ]
  },
  {
   "cell_type": "code",
   "execution_count": 1,
   "id": "37c9b7ce",
   "metadata": {
    "execution": {
     "iopub.execute_input": "2023-07-21T13:42:53.291840Z",
     "iopub.status.busy": "2023-07-21T13:42:53.291575Z",
     "iopub.status.idle": "2023-07-21T13:42:53.301212Z",
     "shell.execute_reply": "2023-07-21T13:42:53.300655Z"
    }
   },
   "outputs": [],
   "source": [
    "import abc\n",
    "from typing import *\n",
    "\n",
    "\n",
    "class Bloq(metaclass=abc.ABCMeta):\n",
    "    ..."
   ]
  },
  {
   "attachments": {},
   "cell_type": "markdown",
   "id": "d4169ffa",
   "metadata": {},
   "source": [
    "We use a graph-like container to wire up collections of bloqs to define new bloqs.\n",
    "\n",
    "By the end of this tutorial, you should understand how to declare bloqs, wire them up, use named registers, use high-bitsize registers, use 'bookkeeping' operations to split and join wires, represent allocations as operations in the graph, and use linear logic to prevent violations of the no cloning theorem."
   ]
  },
  {
   "cell_type": "markdown",
   "id": "7a3d76e5",
   "metadata": {},
   "source": [
    "## Basics\n",
    "\n",
    "There are two important flavors of implementations of the `Bloq` interface. The first flavor\n",
    "consists of bloqs implemented by you, the user-developer to express quantum operations of\n",
    "interest. For example:"
   ]
  },
  {
   "cell_type": "code",
   "execution_count": 2,
   "id": "4aaf9451",
   "metadata": {
    "execution": {
     "iopub.execute_input": "2023-07-21T13:42:53.304165Z",
     "iopub.status.busy": "2023-07-21T13:42:53.303959Z",
     "iopub.status.idle": "2023-07-21T13:42:53.306427Z",
     "shell.execute_reply": "2023-07-21T13:42:53.306030Z"
    }
   },
   "outputs": [],
   "source": [
    "class ShorsAlgorithm(Bloq):\n",
    "    ..."
   ]
  },
  {
   "cell_type": "markdown",
   "id": "9b504f60",
   "metadata": {},
   "source": [
    "The other important `Bloq` subclass is `CompositeBloq`, which is a container type for a\n",
    "collection of sub-bloqs. We'll investigate this class more later. First, let's define a\n",
    "bloq for a simple quantum operation: the controlled-not (CNOT)."
   ]
  },
  {
   "cell_type": "code",
   "execution_count": 3,
   "id": "114b1560",
   "metadata": {
    "execution": {
     "iopub.execute_input": "2023-07-21T13:42:53.308744Z",
     "iopub.status.busy": "2023-07-21T13:42:53.308573Z",
     "iopub.status.idle": "2023-07-21T13:42:53.310929Z",
     "shell.execute_reply": "2023-07-21T13:42:53.310494Z"
    }
   },
   "outputs": [],
   "source": [
    "class CNOT(Bloq):\n",
    "    ..."
   ]
  },
  {
   "cell_type": "markdown",
   "id": "c632807b",
   "metadata": {},
   "source": [
    "There is only one mandatory method we must implement to have a well-formed `Bloq`. There\n",
    "are many other methods we can optionally implement to encode more information about the\n",
    "bloq, which we will add as we go along.\n",
    "\n",
    "The mandatory method is the `Bloq.signature` property. This declares what the inputs and\n",
    "outputs are for our bloq, and is a list of registers. A register has a name and quantum-type\n",
    "information. By default, a register declares both an input and an output allowing quantum\n",
    "data to pass through it, like the \"control\" register below. We call these `THRU` registers.\n",
    "\n",
    "The `Bloq.signature` property can be thought of as analogous\n",
    "to the function signature in ordinary programming. You can think of a bloq\n",
    "with just this property implemented like a function\n",
    "declarations in a C header (`*.h`) file."
   ]
  },
  {
   "cell_type": "code",
   "execution_count": 4,
   "id": "22d8749d",
   "metadata": {
    "execution": {
     "iopub.execute_input": "2023-07-21T13:42:53.313300Z",
     "iopub.status.busy": "2023-07-21T13:42:53.313143Z",
     "iopub.status.idle": "2023-07-21T13:42:54.541495Z",
     "shell.execute_reply": "2023-07-21T13:42:54.541207Z"
    }
   },
   "outputs": [
    {
     "data": {
      "text/plain": [
       "Register(name='control', bitsize=1, shape=(), side=<Side.THRU: 3>)"
      ]
     },
     "execution_count": 4,
     "metadata": {},
     "output_type": "execute_result"
    }
   ],
   "source": [
    "from qualtran import Register\n",
    "\n",
    "Register('control', bitsize=1)"
   ]
  },
  {
   "cell_type": "markdown",
   "id": "11e163ca",
   "metadata": {},
   "source": [
    "The above declares a register named \"control\" with a size of 1. We'll return this as well\n",
    "as a register for the \"target\" input/output of the CNOT bloq wrapped in the `Signature`\n",
    "container. <div class=\"alert alert-block alert-info\">The `attrs.frozen` annotation removes some of the boilerplate to write an immutable Python class with a pre-defined set of attributes.</div>"
   ]
  },
  {
   "cell_type": "code",
   "execution_count": 5,
   "id": "34a159c4",
   "metadata": {
    "execution": {
     "iopub.execute_input": "2023-07-21T13:42:54.543404Z",
     "iopub.status.busy": "2023-07-21T13:42:54.543219Z",
     "iopub.status.idle": "2023-07-21T13:42:54.545699Z",
     "shell.execute_reply": "2023-07-21T13:42:54.545453Z"
    }
   },
   "outputs": [],
   "source": [
    "import attrs\n",
    "from qualtran import Bloq, Signature\n",
    "\n",
    "@attrs.frozen\n",
    "class CNOT(Bloq):\n",
    "    @property\n",
    "    def signature(self):\n",
    "        return Signature([\n",
    "            Register('control', bitsize=1),\n",
    "            Register('target', bitsize=1),\n",
    "        ])"
   ]
  },
  {
   "cell_type": "markdown",
   "id": "8533a7f5",
   "metadata": {},
   "source": [
    "We now have a well-formed bloq. We can instantiate it and visualize it."
   ]
  },
  {
   "cell_type": "code",
   "execution_count": 6,
   "id": "5cec9aff",
   "metadata": {
    "execution": {
     "iopub.execute_input": "2023-07-21T13:42:54.547087Z",
     "iopub.status.busy": "2023-07-21T13:42:54.546987Z",
     "iopub.status.idle": "2023-07-21T13:42:55.476954Z",
     "shell.execute_reply": "2023-07-21T13:42:55.476513Z"
    }
   },
   "outputs": [
    {
     "data": {
      "image/svg+xml": [
       "<svg xmlns=\"http://www.w3.org/2000/svg\" xmlns:xlink=\"http://www.w3.org/1999/xlink\" width=\"237pt\" height=\"98pt\" viewBox=\"0.00 0.00 237.00 98.00\">\n",
       "<g id=\"graph0\" class=\"graph\" transform=\"scale(1 1) rotate(0) translate(4 94)\">\n",
       "<title>my_graph</title>\n",
       "<polygon fill=\"white\" stroke=\"none\" points=\"-4,4 -4,-94 233,-94 233,4 -4,4\"/>\n",
       "<!-- control_G2 -->\n",
       "<g id=\"node1\" class=\"node\">\n",
       "<title>control_G2</title>\n",
       "<text text-anchor=\"middle\" x=\"27.5\" y=\"-68.3\" font-family=\"Times,serif\" font-size=\"14.00\">control</text>\n",
       "</g>\n",
       "<!-- CNOT -->\n",
       "<g id=\"node3\" class=\"node\">\n",
       "<title>CNOT</title>\n",
       "<polygon fill=\"none\" stroke=\"black\" points=\"92.5,-66 92.5,-83 137.5,-83 137.5,-66 92.5,-66\"/>\n",
       "<text text-anchor=\"start\" x=\"101\" y=\"-72\" font-family=\"Times,serif\" font-size=\"10.00\">CNOT</text>\n",
       "<polygon fill=\"none\" stroke=\"black\" points=\"92.5,-45 92.5,-66 137.5,-66 137.5,-45 92.5,-45\"/>\n",
       "<text text-anchor=\"start\" x=\"95.5\" y=\"-51.8\" font-family=\"Times,serif\" font-size=\"14.00\">control</text>\n",
       "<polygon fill=\"none\" stroke=\"black\" points=\"92.5,-24 92.5,-45 137.5,-45 137.5,-24 92.5,-24\"/>\n",
       "<text text-anchor=\"start\" x=\"99.5\" y=\"-30.8\" font-family=\"Times,serif\" font-size=\"14.00\">target</text>\n",
       "</g>\n",
       "<!-- control_G2&#45;&gt;CNOT -->\n",
       "<g id=\"edge1\" class=\"edge\">\n",
       "<title>control_G2:e-&gt;CNOT:w</title>\n",
       "<path fill=\"none\" stroke=\"black\" d=\"M55,-72C72.22,-72 73.97,-57.23 89.98,-56.07\"/>\n",
       "<ellipse fill=\"black\" stroke=\"black\" cx=\"91\" cy=\"-56.04\" rx=\"1\" ry=\"1\"/>\n",
       "<text text-anchor=\"middle\" x=\"73.5\" y=\"-67\" font-family=\"Times,serif\" font-size=\"10.00\">1</text>\n",
       "</g>\n",
       "<!-- target_G1 -->\n",
       "<g id=\"node2\" class=\"node\">\n",
       "<title>target_G1</title>\n",
       "<text text-anchor=\"middle\" x=\"27.5\" y=\"-14.3\" font-family=\"Times,serif\" font-size=\"14.00\">target</text>\n",
       "</g>\n",
       "<!-- target_G1&#45;&gt;CNOT -->\n",
       "<g id=\"edge2\" class=\"edge\">\n",
       "<title>target_G1:e-&gt;CNOT:w</title>\n",
       "<path fill=\"none\" stroke=\"black\" d=\"M55,-18C72.22,-18 73.97,-32.77 89.98,-33.93\"/>\n",
       "<ellipse fill=\"black\" stroke=\"black\" cx=\"91\" cy=\"-33.96\" rx=\"1\" ry=\"1\"/>\n",
       "<text text-anchor=\"middle\" x=\"73.5\" y=\"-29\" font-family=\"Times,serif\" font-size=\"10.00\">1</text>\n",
       "</g>\n",
       "<!-- control_G4 -->\n",
       "<g id=\"node4\" class=\"node\">\n",
       "<title>control_G4</title>\n",
       "<text text-anchor=\"middle\" x=\"201.5\" y=\"-68.3\" font-family=\"Times,serif\" font-size=\"14.00\">control</text>\n",
       "</g>\n",
       "<!-- CNOT&#45;&gt;control_G4 -->\n",
       "<g id=\"edge3\" class=\"edge\">\n",
       "<title>CNOT:e-&gt;control_G4:w</title>\n",
       "<path fill=\"none\" stroke=\"black\" d=\"M137,-56C154.22,-56 155.97,-70.77 171.98,-71.93\"/>\n",
       "<ellipse fill=\"black\" stroke=\"black\" cx=\"173\" cy=\"-71.96\" rx=\"1\" ry=\"1\"/>\n",
       "<text text-anchor=\"middle\" x=\"155.5\" y=\"-67\" font-family=\"Times,serif\" font-size=\"10.00\">1</text>\n",
       "</g>\n",
       "<!-- target_G3 -->\n",
       "<g id=\"node5\" class=\"node\">\n",
       "<title>target_G3</title>\n",
       "<text text-anchor=\"middle\" x=\"201.5\" y=\"-14.3\" font-family=\"Times,serif\" font-size=\"14.00\">target</text>\n",
       "</g>\n",
       "<!-- CNOT&#45;&gt;target_G3 -->\n",
       "<g id=\"edge4\" class=\"edge\">\n",
       "<title>CNOT:e-&gt;target_G3:w</title>\n",
       "<path fill=\"none\" stroke=\"black\" d=\"M137,-34C154.22,-34 155.97,-19.23 171.98,-18.07\"/>\n",
       "<ellipse fill=\"black\" stroke=\"black\" cx=\"173\" cy=\"-18.04\" rx=\"1\" ry=\"1\"/>\n",
       "<text text-anchor=\"middle\" x=\"155.5\" y=\"-29\" font-family=\"Times,serif\" font-size=\"10.00\">1</text>\n",
       "</g>\n",
       "</g>\n",
       "</svg>"
      ],
      "text/plain": [
       "<IPython.core.display.SVG object>"
      ]
     },
     "metadata": {},
     "output_type": "display_data"
    }
   ],
   "source": [
    "from qualtran.drawing import show_bloq\n",
    "\n",
    "cnot = CNOT()\n",
    "show_bloq(cnot)"
   ]
  },
  {
   "cell_type": "markdown",
   "id": "da9baea0",
   "metadata": {},
   "source": [
    "This is the absolute minimum amount of information needed to define a Bloq: a name (i.e.\n",
    "the class name) and a `signature` property. <div class=\"alert alert-block alert-warning\">If you're familiar with Cirq, you can consider\n",
    "a `cirq.Gate` to be analogous to a `Bloq` with one register named \"qubits\" of size `n`. In\n",
    "fact, `CirqGateAsBloq` lets you wrap any Cirq gate in\n",
    "this way.</div>"
   ]
  },
  {
   "cell_type": "markdown",
   "id": "9b36a23d",
   "metadata": {},
   "source": [
    "## Decomposing Bloqs\n",
    "\n",
    "As you can probably guess, such a simple block-box model of an operation has limited utility.\n",
    "We now turn our attention to a second bloq: SWAP -- which we will define in terms of its\n",
    "decomposition into three CNOTs."
   ]
  },
  {
   "cell_type": "code",
   "execution_count": 7,
   "id": "c2bf35bf",
   "metadata": {
    "execution": {
     "iopub.execute_input": "2023-07-21T13:42:55.478750Z",
     "iopub.status.busy": "2023-07-21T13:42:55.478620Z",
     "iopub.status.idle": "2023-07-21T13:42:55.480477Z",
     "shell.execute_reply": "2023-07-21T13:42:55.480243Z"
    }
   },
   "outputs": [],
   "source": [
    "class SwapTwoBits(Bloq):\n",
    "    ..."
   ]
  },
  {
   "cell_type": "markdown",
   "id": "1bdf983c",
   "metadata": {},
   "source": [
    "As before, we must define the function signature by naming and sizing the registers on\n",
    "which it operates. We'll implement a bloq that swaps two (qu)bits. We'll name the arguments\n",
    "`x` and `y`, but you have some creative freedom with these choices. <div class=\"alert alert-block alert-info\">We've been filling in the `name` and `bitsize`\n",
    "attributes for our registers. The other two attributes are for more advanced usage and\n",
    "will be covered later. In simple cases, we could use the convenience method\n",
    "`Signature.build(x=1, y=1)` for the same object below.</div>"
   ]
  },
  {
   "cell_type": "code",
   "execution_count": 8,
   "id": "9e548b5f",
   "metadata": {
    "execution": {
     "iopub.execute_input": "2023-07-21T13:42:55.481820Z",
     "iopub.status.busy": "2023-07-21T13:42:55.481726Z",
     "iopub.status.idle": "2023-07-21T13:42:55.483585Z",
     "shell.execute_reply": "2023-07-21T13:42:55.483365Z"
    }
   },
   "outputs": [],
   "source": [
    "class SwapTwoBits(Bloq):\n",
    "    @property\n",
    "    def signature(self):\n",
    "        return Signature([\n",
    "            Register('x', 1),\n",
    "            Register('y', 1),\n",
    "        ])"
   ]
  },
  {
   "cell_type": "markdown",
   "id": "54bf8781",
   "metadata": {},
   "source": [
    "Now, for the moment you've been waiting for. We can define the implementation of SWAP in terms\n",
    "of sub-operations. `Bloq.decompose_bloq()` will decompose a bloq into its component parts.\n",
    "The return type of this operation is `CompositeBloq` -- our bloq container type which itself\n",
    "follows the `Bloq` interface.\n",
    "\n",
    "Instead of overriding `decompose_bloq()` directly, we override `build_composite_bloq`, which\n",
    "makes it easier for you, the user-developer, to write decompositions."
   ]
  },
  {
   "cell_type": "code",
   "execution_count": 9,
   "id": "305ad1ed",
   "metadata": {
    "execution": {
     "iopub.execute_input": "2023-07-21T13:42:55.485023Z",
     "iopub.status.busy": "2023-07-21T13:42:55.484915Z",
     "iopub.status.idle": "2023-07-21T13:42:55.487037Z",
     "shell.execute_reply": "2023-07-21T13:42:55.486768Z"
    }
   },
   "outputs": [],
   "source": [
    "from qualtran import BloqBuilder\n",
    "\n",
    "class SwapTwoBits(Bloq):\n",
    "    ...\n",
    "\n",
    "    def build_composite_bloq(self, bb: BloqBuilder, *, x, y):\n",
    "        ..."
   ]
  },
  {
   "cell_type": "markdown",
   "id": "dfdfc199",
   "metadata": {},
   "source": [
    "The bloqs infrastructure will pass in keyword arguments for each of the input registers,\n",
    "here `x` and `y`. I stress that these names must match the names of the registers declared\n",
    "in the `.signatures` property. The infrastructure also passes in a `BloqBuilder`\n",
    "which is what you will use to add suboperations to the composite bloq storing your\n",
    "decomposition.\n",
    "\n",
    "We use `bb.add(...)` to add sub-operations. For our swap operation, we will need to call\n",
    "`add` three times for each of the CNOTs. The signature is: `bb.add(bloq, **bloq_args)` where\n",
    "the first argument is an instantiation of the bloq we want to add, and then keyword arguments\n",
    "providing the input quantum variables. This call will return quantum variables representing\n",
    "the outputs of the operation that are suitable for using as inputs to subsequent operations.\n",
    "\n",
    "The method returns a dictionary mapping (output) register names to the final quantum variables."
   ]
  },
  {
   "cell_type": "code",
   "execution_count": 10,
   "id": "1b2af153",
   "metadata": {
    "execution": {
     "iopub.execute_input": "2023-07-21T13:42:55.488587Z",
     "iopub.status.busy": "2023-07-21T13:42:55.488465Z",
     "iopub.status.idle": "2023-07-21T13:42:55.490860Z",
     "shell.execute_reply": "2023-07-21T13:42:55.490626Z"
    }
   },
   "outputs": [],
   "source": [
    "class SwapTwoBits(Bloq):\n",
    "    @property\n",
    "    def signature(self):\n",
    "        return Signature([\n",
    "            Register('x', 1),\n",
    "            Register('y', 1),\n",
    "        ])\n",
    "\n",
    "    def build_composite_bloq(self, bb: BloqBuilder, *, x, y):\n",
    "        x, y = bb.add(CNOT(), control=x, target=y)\n",
    "        y, x = bb.add(CNOT(), control=y, target=x)\n",
    "        x, y = bb.add(CNOT(), control=x, target=y)\n",
    "        return {'x': x, 'y': y}"
   ]
  },
  {
   "cell_type": "markdown",
   "id": "9ade0bc3",
   "metadata": {},
   "source": [
    "Note that each CNOT operation takes two arguments named \"control\" and \"target\" and returns\n",
    "two quantum variables which are ordered according to the ordering of the registers\n",
    "in `CNOT.signature` (so in this case: control, target).\n",
    "\n",
    "Let's see what this looks like."
   ]
  },
  {
   "cell_type": "code",
   "execution_count": 11,
   "id": "676dddd5",
   "metadata": {
    "execution": {
     "iopub.execute_input": "2023-07-21T13:42:55.492524Z",
     "iopub.status.busy": "2023-07-21T13:42:55.492415Z",
     "iopub.status.idle": "2023-07-21T13:42:55.552337Z",
     "shell.execute_reply": "2023-07-21T13:42:55.551967Z"
    }
   },
   "outputs": [
    {
     "data": {
      "image/svg+xml": [
       "<svg xmlns=\"http://www.w3.org/2000/svg\" xmlns:xlink=\"http://www.w3.org/1999/xlink\" width=\"236pt\" height=\"98pt\" viewBox=\"0.00 0.00 236.00 98.00\">\n",
       "<g id=\"graph0\" class=\"graph\" transform=\"scale(1 1) rotate(0) translate(4 94)\">\n",
       "<title>my_graph</title>\n",
       "<polygon fill=\"white\" stroke=\"none\" points=\"-4,4 -4,-94 232,-94 232,4 -4,4\"/>\n",
       "<!-- x_G2 -->\n",
       "<g id=\"node1\" class=\"node\">\n",
       "<title>x_G2</title>\n",
       "<text text-anchor=\"middle\" x=\"27\" y=\"-68.3\" font-family=\"Times,serif\" font-size=\"14.00\">x</text>\n",
       "</g>\n",
       "<!-- SwapTwoBits -->\n",
       "<g id=\"node3\" class=\"node\">\n",
       "<title>SwapTwoBits</title>\n",
       "<polygon fill=\"none\" stroke=\"black\" points=\"91,-66 91,-83 137,-83 137,-66 91,-66\"/>\n",
       "<text text-anchor=\"start\" x=\"94\" y=\"-72\" font-family=\"Times,serif\" font-size=\"10.00\">SwapTw..</text>\n",
       "<polygon fill=\"none\" stroke=\"black\" points=\"91,-45 91,-66 137,-66 137,-45 91,-45\"/>\n",
       "<text text-anchor=\"start\" x=\"110.5\" y=\"-51.8\" font-family=\"Times,serif\" font-size=\"14.00\">x</text>\n",
       "<polygon fill=\"none\" stroke=\"black\" points=\"91,-24 91,-45 137,-45 137,-24 91,-24\"/>\n",
       "<text text-anchor=\"start\" x=\"110.5\" y=\"-30.8\" font-family=\"Times,serif\" font-size=\"14.00\">y</text>\n",
       "</g>\n",
       "<!-- x_G2&#45;&gt;SwapTwoBits -->\n",
       "<g id=\"edge1\" class=\"edge\">\n",
       "<title>x_G2:e-&gt;SwapTwoBits:w</title>\n",
       "<path fill=\"none\" stroke=\"black\" d=\"M54,-72C71.22,-72 72.97,-57.23 88.98,-56.07\"/>\n",
       "<ellipse fill=\"black\" stroke=\"black\" cx=\"90\" cy=\"-56.04\" rx=\"1\" ry=\"1\"/>\n",
       "<text text-anchor=\"middle\" x=\"72.5\" y=\"-67\" font-family=\"Times,serif\" font-size=\"10.00\">1</text>\n",
       "</g>\n",
       "<!-- y_G5 -->\n",
       "<g id=\"node2\" class=\"node\">\n",
       "<title>y_G5</title>\n",
       "<text text-anchor=\"middle\" x=\"27\" y=\"-14.3\" font-family=\"Times,serif\" font-size=\"14.00\">y</text>\n",
       "</g>\n",
       "<!-- y_G5&#45;&gt;SwapTwoBits -->\n",
       "<g id=\"edge2\" class=\"edge\">\n",
       "<title>y_G5:e-&gt;SwapTwoBits:w</title>\n",
       "<path fill=\"none\" stroke=\"black\" d=\"M54,-18C71.22,-18 72.97,-32.77 88.98,-33.93\"/>\n",
       "<ellipse fill=\"black\" stroke=\"black\" cx=\"90\" cy=\"-33.96\" rx=\"1\" ry=\"1\"/>\n",
       "<text text-anchor=\"middle\" x=\"72.5\" y=\"-29\" font-family=\"Times,serif\" font-size=\"10.00\">1</text>\n",
       "</g>\n",
       "<!-- x_G3 -->\n",
       "<g id=\"node4\" class=\"node\">\n",
       "<title>x_G3</title>\n",
       "<text text-anchor=\"middle\" x=\"201\" y=\"-68.3\" font-family=\"Times,serif\" font-size=\"14.00\">x</text>\n",
       "</g>\n",
       "<!-- SwapTwoBits&#45;&gt;x_G3 -->\n",
       "<g id=\"edge3\" class=\"edge\">\n",
       "<title>SwapTwoBits:e-&gt;x_G3:w</title>\n",
       "<path fill=\"none\" stroke=\"black\" d=\"M137,-56C154.22,-56 155.97,-70.77 171.98,-71.93\"/>\n",
       "<ellipse fill=\"black\" stroke=\"black\" cx=\"173\" cy=\"-71.96\" rx=\"1\" ry=\"1\"/>\n",
       "<text text-anchor=\"middle\" x=\"155.5\" y=\"-67\" font-family=\"Times,serif\" font-size=\"10.00\">1</text>\n",
       "</g>\n",
       "<!-- y_G0 -->\n",
       "<g id=\"node5\" class=\"node\">\n",
       "<title>y_G0</title>\n",
       "<text text-anchor=\"middle\" x=\"201\" y=\"-14.3\" font-family=\"Times,serif\" font-size=\"14.00\">y</text>\n",
       "</g>\n",
       "<!-- SwapTwoBits&#45;&gt;y_G0 -->\n",
       "<g id=\"edge4\" class=\"edge\">\n",
       "<title>SwapTwoBits:e-&gt;y_G0:w</title>\n",
       "<path fill=\"none\" stroke=\"black\" d=\"M137,-34C154.22,-34 155.97,-19.23 171.98,-18.07\"/>\n",
       "<ellipse fill=\"black\" stroke=\"black\" cx=\"173\" cy=\"-18.04\" rx=\"1\" ry=\"1\"/>\n",
       "<text text-anchor=\"middle\" x=\"155.5\" y=\"-29\" font-family=\"Times,serif\" font-size=\"10.00\">1</text>\n",
       "</g>\n",
       "</g>\n",
       "</svg>"
      ],
      "text/plain": [
       "<IPython.core.display.SVG object>"
      ]
     },
     "metadata": {},
     "output_type": "display_data"
    }
   ],
   "source": [
    "swap = SwapTwoBits()\n",
    "show_bloq(swap)"
   ]
  },
  {
   "cell_type": "markdown",
   "id": "87172163",
   "metadata": {},
   "source": [
    "Wait! This is still just a two-bit black box! I thought we defined the bloq by its decomposition.\n",
    "The Bloq object always represents the atomic operation and `CompositeBloq` always represents\n",
    "a collection of sub-operations. We have to explicitly request the decomposition if that's\n",
    "what we want to visualize."
   ]
  },
  {
   "cell_type": "code",
   "execution_count": 12,
   "id": "f08bb50b",
   "metadata": {
    "execution": {
     "iopub.execute_input": "2023-07-21T13:42:55.554062Z",
     "iopub.status.busy": "2023-07-21T13:42:55.553942Z",
     "iopub.status.idle": "2023-07-21T13:42:55.615781Z",
     "shell.execute_reply": "2023-07-21T13:42:55.615334Z"
    }
   },
   "outputs": [
    {
     "data": {
      "image/svg+xml": [
       "<svg xmlns=\"http://www.w3.org/2000/svg\" xmlns:xlink=\"http://www.w3.org/1999/xlink\" width=\"399pt\" height=\"98pt\" viewBox=\"0.00 0.00 399.00 98.00\">\n",
       "<g id=\"graph0\" class=\"graph\" transform=\"scale(1 1) rotate(0) translate(4 94)\">\n",
       "<title>my_graph</title>\n",
       "<polygon fill=\"white\" stroke=\"none\" points=\"-4,4 -4,-94 395,-94 395,4 -4,4\"/>\n",
       "<!-- x_G11 -->\n",
       "<g id=\"node1\" class=\"node\">\n",
       "<title>x_G11</title>\n",
       "<text text-anchor=\"middle\" x=\"27\" y=\"-68.3\" font-family=\"Times,serif\" font-size=\"14.00\">x</text>\n",
       "</g>\n",
       "<!-- CNOT -->\n",
       "<g id=\"node3\" class=\"node\">\n",
       "<title>CNOT</title>\n",
       "<polygon fill=\"none\" stroke=\"black\" points=\"91.5,-66 91.5,-83 136.5,-83 136.5,-66 91.5,-66\"/>\n",
       "<text text-anchor=\"start\" x=\"100\" y=\"-72\" font-family=\"Times,serif\" font-size=\"10.00\">CNOT</text>\n",
       "<polygon fill=\"none\" stroke=\"black\" points=\"91.5,-45 91.5,-66 136.5,-66 136.5,-45 91.5,-45\"/>\n",
       "<text text-anchor=\"start\" x=\"94.5\" y=\"-51.8\" font-family=\"Times,serif\" font-size=\"14.00\">control</text>\n",
       "<polygon fill=\"none\" stroke=\"black\" points=\"91.5,-24 91.5,-45 136.5,-45 136.5,-24 91.5,-24\"/>\n",
       "<text text-anchor=\"start\" x=\"98.5\" y=\"-30.8\" font-family=\"Times,serif\" font-size=\"14.00\">target</text>\n",
       "</g>\n",
       "<!-- x_G11&#45;&gt;CNOT -->\n",
       "<g id=\"edge1\" class=\"edge\">\n",
       "<title>x_G11:e-&gt;CNOT:w</title>\n",
       "<path fill=\"none\" stroke=\"black\" d=\"M54,-72C71.22,-72 72.97,-57.23 88.98,-56.07\"/>\n",
       "<ellipse fill=\"black\" stroke=\"black\" cx=\"90\" cy=\"-56.04\" rx=\"1\" ry=\"1\"/>\n",
       "<text text-anchor=\"middle\" x=\"72.5\" y=\"-67\" font-family=\"Times,serif\" font-size=\"10.00\">1</text>\n",
       "</g>\n",
       "<!-- y -->\n",
       "<g id=\"node2\" class=\"node\">\n",
       "<title>y</title>\n",
       "<text text-anchor=\"middle\" x=\"27\" y=\"-14.3\" font-family=\"Times,serif\" font-size=\"14.00\">y</text>\n",
       "</g>\n",
       "<!-- y&#45;&gt;CNOT -->\n",
       "<g id=\"edge2\" class=\"edge\">\n",
       "<title>y:e-&gt;CNOT:w</title>\n",
       "<path fill=\"none\" stroke=\"black\" d=\"M54,-18C71.22,-18 72.97,-32.77 88.98,-33.93\"/>\n",
       "<ellipse fill=\"black\" stroke=\"black\" cx=\"90\" cy=\"-33.96\" rx=\"1\" ry=\"1\"/>\n",
       "<text text-anchor=\"middle\" x=\"72.5\" y=\"-29\" font-family=\"Times,serif\" font-size=\"10.00\">1</text>\n",
       "</g>\n",
       "<!-- CNOT_G0 -->\n",
       "<g id=\"node4\" class=\"node\">\n",
       "<title>CNOT_G0</title>\n",
       "<polygon fill=\"none\" stroke=\"black\" points=\"173.5,-66 173.5,-83 218.5,-83 218.5,-66 173.5,-66\"/>\n",
       "<text text-anchor=\"start\" x=\"182\" y=\"-72\" font-family=\"Times,serif\" font-size=\"10.00\">CNOT</text>\n",
       "<polygon fill=\"none\" stroke=\"black\" points=\"173.5,-45 173.5,-66 218.5,-66 218.5,-45 173.5,-45\"/>\n",
       "<text text-anchor=\"start\" x=\"176.5\" y=\"-51.8\" font-family=\"Times,serif\" font-size=\"14.00\">control</text>\n",
       "<polygon fill=\"none\" stroke=\"black\" points=\"173.5,-24 173.5,-45 218.5,-45 218.5,-24 173.5,-24\"/>\n",
       "<text text-anchor=\"start\" x=\"180.5\" y=\"-30.8\" font-family=\"Times,serif\" font-size=\"14.00\">target</text>\n",
       "</g>\n",
       "<!-- CNOT&#45;&gt;CNOT_G0 -->\n",
       "<g id=\"edge3\" class=\"edge\">\n",
       "<title>CNOT:e-&gt;CNOT_G0:w</title>\n",
       "<path fill=\"none\" stroke=\"black\" d=\"M136,-34C145.16,-34 147.09,-37.37 155,-42 163.06,-46.72 162.94,-54.64 170.82,-55.84\"/>\n",
       "<ellipse fill=\"black\" stroke=\"black\" cx=\"172\" cy=\"-55.93\" rx=\"1\" ry=\"1\"/>\n",
       "<text text-anchor=\"middle\" x=\"154.5\" y=\"-45\" font-family=\"Times,serif\" font-size=\"10.00\">1</text>\n",
       "</g>\n",
       "<!-- CNOT&#45;&gt;CNOT_G0 -->\n",
       "<g id=\"edge4\" class=\"edge\">\n",
       "<title>CNOT:e-&gt;CNOT_G0:w</title>\n",
       "<path fill=\"none\" stroke=\"black\" d=\"M136,-56C154.38,-56 153.94,-35.69 170.85,-34.1\"/>\n",
       "<ellipse fill=\"black\" stroke=\"black\" cx=\"172\" cy=\"-34.05\" rx=\"1\" ry=\"1\"/>\n",
       "<text text-anchor=\"middle\" x=\"154.5\" y=\"-48\" font-family=\"Times,serif\" font-size=\"10.00\">1</text>\n",
       "</g>\n",
       "<!-- CNOT_G3 -->\n",
       "<g id=\"node5\" class=\"node\">\n",
       "<title>CNOT_G3</title>\n",
       "<polygon fill=\"none\" stroke=\"black\" points=\"255.5,-66 255.5,-83 300.5,-83 300.5,-66 255.5,-66\"/>\n",
       "<text text-anchor=\"start\" x=\"264\" y=\"-72\" font-family=\"Times,serif\" font-size=\"10.00\">CNOT</text>\n",
       "<polygon fill=\"none\" stroke=\"black\" points=\"255.5,-45 255.5,-66 300.5,-66 300.5,-45 255.5,-45\"/>\n",
       "<text text-anchor=\"start\" x=\"258.5\" y=\"-51.8\" font-family=\"Times,serif\" font-size=\"14.00\">control</text>\n",
       "<polygon fill=\"none\" stroke=\"black\" points=\"255.5,-24 255.5,-45 300.5,-45 300.5,-24 255.5,-24\"/>\n",
       "<text text-anchor=\"start\" x=\"262.5\" y=\"-30.8\" font-family=\"Times,serif\" font-size=\"14.00\">target</text>\n",
       "</g>\n",
       "<!-- CNOT_G0&#45;&gt;CNOT_G3 -->\n",
       "<g id=\"edge5\" class=\"edge\">\n",
       "<title>CNOT_G0:e-&gt;CNOT_G3:w</title>\n",
       "<path fill=\"none\" stroke=\"black\" d=\"M218,-34C227.16,-34 229.09,-37.37 237,-42 245.06,-46.72 244.94,-54.64 252.82,-55.84\"/>\n",
       "<ellipse fill=\"black\" stroke=\"black\" cx=\"254\" cy=\"-55.93\" rx=\"1\" ry=\"1\"/>\n",
       "<text text-anchor=\"middle\" x=\"236.5\" y=\"-45\" font-family=\"Times,serif\" font-size=\"10.00\">1</text>\n",
       "</g>\n",
       "<!-- CNOT_G0&#45;&gt;CNOT_G3 -->\n",
       "<g id=\"edge6\" class=\"edge\">\n",
       "<title>CNOT_G0:e-&gt;CNOT_G3:w</title>\n",
       "<path fill=\"none\" stroke=\"black\" d=\"M218,-56C236.38,-56 235.94,-35.69 252.85,-34.1\"/>\n",
       "<ellipse fill=\"black\" stroke=\"black\" cx=\"254\" cy=\"-34.05\" rx=\"1\" ry=\"1\"/>\n",
       "<text text-anchor=\"middle\" x=\"236.5\" y=\"-48\" font-family=\"Times,serif\" font-size=\"10.00\">1</text>\n",
       "</g>\n",
       "<!-- x -->\n",
       "<g id=\"node6\" class=\"node\">\n",
       "<title>x</title>\n",
       "<text text-anchor=\"middle\" x=\"364\" y=\"-68.3\" font-family=\"Times,serif\" font-size=\"14.00\">x</text>\n",
       "</g>\n",
       "<!-- CNOT_G3&#45;&gt;x -->\n",
       "<g id=\"edge7\" class=\"edge\">\n",
       "<title>CNOT_G3:e-&gt;x:w</title>\n",
       "<path fill=\"none\" stroke=\"black\" d=\"M300,-56C317.22,-56 318.97,-70.77 334.98,-71.93\"/>\n",
       "<ellipse fill=\"black\" stroke=\"black\" cx=\"336\" cy=\"-71.96\" rx=\"1\" ry=\"1\"/>\n",
       "<text text-anchor=\"middle\" x=\"318.5\" y=\"-67\" font-family=\"Times,serif\" font-size=\"10.00\">1</text>\n",
       "</g>\n",
       "<!-- y_G9 -->\n",
       "<g id=\"node7\" class=\"node\">\n",
       "<title>y_G9</title>\n",
       "<text text-anchor=\"middle\" x=\"364\" y=\"-14.3\" font-family=\"Times,serif\" font-size=\"14.00\">y</text>\n",
       "</g>\n",
       "<!-- CNOT_G3&#45;&gt;y_G9 -->\n",
       "<g id=\"edge8\" class=\"edge\">\n",
       "<title>CNOT_G3:e-&gt;y_G9:w</title>\n",
       "<path fill=\"none\" stroke=\"black\" d=\"M300,-34C317.22,-34 318.97,-19.23 334.98,-18.07\"/>\n",
       "<ellipse fill=\"black\" stroke=\"black\" cx=\"336\" cy=\"-18.04\" rx=\"1\" ry=\"1\"/>\n",
       "<text text-anchor=\"middle\" x=\"318.5\" y=\"-29\" font-family=\"Times,serif\" font-size=\"10.00\">1</text>\n",
       "</g>\n",
       "</g>\n",
       "</svg>"
      ],
      "text/plain": [
       "<IPython.core.display.SVG object>"
      ]
     },
     "metadata": {},
     "output_type": "display_data"
    }
   ],
   "source": [
    "show_bloq(swap.decompose_bloq())"
   ]
  },
  {
   "cell_type": "markdown",
   "id": "5cf1a3d8",
   "metadata": {},
   "source": [
    "### Using `BloqBuilder` directly\n",
    "\n",
    "You can build a standalone `CompositeBloq` (i.e. not as part of the decomposition of\n",
    "another bloq) as well. This can come in handy for testing or prototyping. Simply\n",
    "instantiate a `BloqBuilder`. You need to manually\n",
    "manage your registers with `bb.add_register(...)` and you must finish your building session\n",
    "by calling `bb.finalize(...)` to freeze your composite-bloq-under-construction into an\n",
    "immutable `CompositeBloq`."
   ]
  },
  {
   "cell_type": "code",
   "execution_count": 13,
   "id": "d23ab186",
   "metadata": {
    "execution": {
     "iopub.execute_input": "2023-07-21T13:42:55.617842Z",
     "iopub.status.busy": "2023-07-21T13:42:55.617694Z",
     "iopub.status.idle": "2023-07-21T13:42:55.681346Z",
     "shell.execute_reply": "2023-07-21T13:42:55.681005Z"
    }
   },
   "outputs": [
    {
     "data": {
      "image/svg+xml": [
       "<svg xmlns=\"http://www.w3.org/2000/svg\" xmlns:xlink=\"http://www.w3.org/1999/xlink\" width=\"399pt\" height=\"98pt\" viewBox=\"0.00 0.00 399.00 98.00\">\n",
       "<g id=\"graph0\" class=\"graph\" transform=\"scale(1 1) rotate(0) translate(4 94)\">\n",
       "<title>my_graph</title>\n",
       "<polygon fill=\"white\" stroke=\"none\" points=\"-4,4 -4,-94 395,-94 395,4 -4,4\"/>\n",
       "<!-- x_G11 -->\n",
       "<g id=\"node1\" class=\"node\">\n",
       "<title>x_G11</title>\n",
       "<text text-anchor=\"middle\" x=\"27\" y=\"-68.3\" font-family=\"Times,serif\" font-size=\"14.00\">x</text>\n",
       "</g>\n",
       "<!-- CNOT -->\n",
       "<g id=\"node3\" class=\"node\">\n",
       "<title>CNOT</title>\n",
       "<polygon fill=\"none\" stroke=\"black\" points=\"91.5,-66 91.5,-83 136.5,-83 136.5,-66 91.5,-66\"/>\n",
       "<text text-anchor=\"start\" x=\"100\" y=\"-72\" font-family=\"Times,serif\" font-size=\"10.00\">CNOT</text>\n",
       "<polygon fill=\"none\" stroke=\"black\" points=\"91.5,-45 91.5,-66 136.5,-66 136.5,-45 91.5,-45\"/>\n",
       "<text text-anchor=\"start\" x=\"94.5\" y=\"-51.8\" font-family=\"Times,serif\" font-size=\"14.00\">control</text>\n",
       "<polygon fill=\"none\" stroke=\"black\" points=\"91.5,-24 91.5,-45 136.5,-45 136.5,-24 91.5,-24\"/>\n",
       "<text text-anchor=\"start\" x=\"98.5\" y=\"-30.8\" font-family=\"Times,serif\" font-size=\"14.00\">target</text>\n",
       "</g>\n",
       "<!-- x_G11&#45;&gt;CNOT -->\n",
       "<g id=\"edge1\" class=\"edge\">\n",
       "<title>x_G11:e-&gt;CNOT:w</title>\n",
       "<path fill=\"none\" stroke=\"black\" d=\"M54,-72C71.22,-72 72.97,-57.23 88.98,-56.07\"/>\n",
       "<ellipse fill=\"black\" stroke=\"black\" cx=\"90\" cy=\"-56.04\" rx=\"1\" ry=\"1\"/>\n",
       "<text text-anchor=\"middle\" x=\"72.5\" y=\"-67\" font-family=\"Times,serif\" font-size=\"10.00\">1</text>\n",
       "</g>\n",
       "<!-- y -->\n",
       "<g id=\"node2\" class=\"node\">\n",
       "<title>y</title>\n",
       "<text text-anchor=\"middle\" x=\"27\" y=\"-14.3\" font-family=\"Times,serif\" font-size=\"14.00\">y</text>\n",
       "</g>\n",
       "<!-- y&#45;&gt;CNOT -->\n",
       "<g id=\"edge2\" class=\"edge\">\n",
       "<title>y:e-&gt;CNOT:w</title>\n",
       "<path fill=\"none\" stroke=\"black\" d=\"M54,-18C71.22,-18 72.97,-32.77 88.98,-33.93\"/>\n",
       "<ellipse fill=\"black\" stroke=\"black\" cx=\"90\" cy=\"-33.96\" rx=\"1\" ry=\"1\"/>\n",
       "<text text-anchor=\"middle\" x=\"72.5\" y=\"-29\" font-family=\"Times,serif\" font-size=\"10.00\">1</text>\n",
       "</g>\n",
       "<!-- CNOT_G0 -->\n",
       "<g id=\"node4\" class=\"node\">\n",
       "<title>CNOT_G0</title>\n",
       "<polygon fill=\"none\" stroke=\"black\" points=\"173.5,-66 173.5,-83 218.5,-83 218.5,-66 173.5,-66\"/>\n",
       "<text text-anchor=\"start\" x=\"182\" y=\"-72\" font-family=\"Times,serif\" font-size=\"10.00\">CNOT</text>\n",
       "<polygon fill=\"none\" stroke=\"black\" points=\"173.5,-45 173.5,-66 218.5,-66 218.5,-45 173.5,-45\"/>\n",
       "<text text-anchor=\"start\" x=\"176.5\" y=\"-51.8\" font-family=\"Times,serif\" font-size=\"14.00\">control</text>\n",
       "<polygon fill=\"none\" stroke=\"black\" points=\"173.5,-24 173.5,-45 218.5,-45 218.5,-24 173.5,-24\"/>\n",
       "<text text-anchor=\"start\" x=\"180.5\" y=\"-30.8\" font-family=\"Times,serif\" font-size=\"14.00\">target</text>\n",
       "</g>\n",
       "<!-- CNOT&#45;&gt;CNOT_G0 -->\n",
       "<g id=\"edge3\" class=\"edge\">\n",
       "<title>CNOT:e-&gt;CNOT_G0:w</title>\n",
       "<path fill=\"none\" stroke=\"black\" d=\"M136,-34C145.16,-34 147.09,-37.37 155,-42 163.06,-46.72 162.94,-54.64 170.82,-55.84\"/>\n",
       "<ellipse fill=\"black\" stroke=\"black\" cx=\"172\" cy=\"-55.93\" rx=\"1\" ry=\"1\"/>\n",
       "<text text-anchor=\"middle\" x=\"154.5\" y=\"-45\" font-family=\"Times,serif\" font-size=\"10.00\">1</text>\n",
       "</g>\n",
       "<!-- CNOT&#45;&gt;CNOT_G0 -->\n",
       "<g id=\"edge4\" class=\"edge\">\n",
       "<title>CNOT:e-&gt;CNOT_G0:w</title>\n",
       "<path fill=\"none\" stroke=\"black\" d=\"M136,-56C154.38,-56 153.94,-35.69 170.85,-34.1\"/>\n",
       "<ellipse fill=\"black\" stroke=\"black\" cx=\"172\" cy=\"-34.05\" rx=\"1\" ry=\"1\"/>\n",
       "<text text-anchor=\"middle\" x=\"154.5\" y=\"-48\" font-family=\"Times,serif\" font-size=\"10.00\">1</text>\n",
       "</g>\n",
       "<!-- CNOT_G3 -->\n",
       "<g id=\"node5\" class=\"node\">\n",
       "<title>CNOT_G3</title>\n",
       "<polygon fill=\"none\" stroke=\"black\" points=\"255.5,-66 255.5,-83 300.5,-83 300.5,-66 255.5,-66\"/>\n",
       "<text text-anchor=\"start\" x=\"264\" y=\"-72\" font-family=\"Times,serif\" font-size=\"10.00\">CNOT</text>\n",
       "<polygon fill=\"none\" stroke=\"black\" points=\"255.5,-45 255.5,-66 300.5,-66 300.5,-45 255.5,-45\"/>\n",
       "<text text-anchor=\"start\" x=\"258.5\" y=\"-51.8\" font-family=\"Times,serif\" font-size=\"14.00\">control</text>\n",
       "<polygon fill=\"none\" stroke=\"black\" points=\"255.5,-24 255.5,-45 300.5,-45 300.5,-24 255.5,-24\"/>\n",
       "<text text-anchor=\"start\" x=\"262.5\" y=\"-30.8\" font-family=\"Times,serif\" font-size=\"14.00\">target</text>\n",
       "</g>\n",
       "<!-- CNOT_G0&#45;&gt;CNOT_G3 -->\n",
       "<g id=\"edge5\" class=\"edge\">\n",
       "<title>CNOT_G0:e-&gt;CNOT_G3:w</title>\n",
       "<path fill=\"none\" stroke=\"black\" d=\"M218,-34C227.16,-34 229.09,-37.37 237,-42 245.06,-46.72 244.94,-54.64 252.82,-55.84\"/>\n",
       "<ellipse fill=\"black\" stroke=\"black\" cx=\"254\" cy=\"-55.93\" rx=\"1\" ry=\"1\"/>\n",
       "<text text-anchor=\"middle\" x=\"236.5\" y=\"-45\" font-family=\"Times,serif\" font-size=\"10.00\">1</text>\n",
       "</g>\n",
       "<!-- CNOT_G0&#45;&gt;CNOT_G3 -->\n",
       "<g id=\"edge6\" class=\"edge\">\n",
       "<title>CNOT_G0:e-&gt;CNOT_G3:w</title>\n",
       "<path fill=\"none\" stroke=\"black\" d=\"M218,-56C236.38,-56 235.94,-35.69 252.85,-34.1\"/>\n",
       "<ellipse fill=\"black\" stroke=\"black\" cx=\"254\" cy=\"-34.05\" rx=\"1\" ry=\"1\"/>\n",
       "<text text-anchor=\"middle\" x=\"236.5\" y=\"-48\" font-family=\"Times,serif\" font-size=\"10.00\">1</text>\n",
       "</g>\n",
       "<!-- x -->\n",
       "<g id=\"node6\" class=\"node\">\n",
       "<title>x</title>\n",
       "<text text-anchor=\"middle\" x=\"364\" y=\"-68.3\" font-family=\"Times,serif\" font-size=\"14.00\">x</text>\n",
       "</g>\n",
       "<!-- CNOT_G3&#45;&gt;x -->\n",
       "<g id=\"edge7\" class=\"edge\">\n",
       "<title>CNOT_G3:e-&gt;x:w</title>\n",
       "<path fill=\"none\" stroke=\"black\" d=\"M300,-56C317.22,-56 318.97,-70.77 334.98,-71.93\"/>\n",
       "<ellipse fill=\"black\" stroke=\"black\" cx=\"336\" cy=\"-71.96\" rx=\"1\" ry=\"1\"/>\n",
       "<text text-anchor=\"middle\" x=\"318.5\" y=\"-67\" font-family=\"Times,serif\" font-size=\"10.00\">1</text>\n",
       "</g>\n",
       "<!-- y_G9 -->\n",
       "<g id=\"node7\" class=\"node\">\n",
       "<title>y_G9</title>\n",
       "<text text-anchor=\"middle\" x=\"364\" y=\"-14.3\" font-family=\"Times,serif\" font-size=\"14.00\">y</text>\n",
       "</g>\n",
       "<!-- CNOT_G3&#45;&gt;y_G9 -->\n",
       "<g id=\"edge8\" class=\"edge\">\n",
       "<title>CNOT_G3:e-&gt;y_G9:w</title>\n",
       "<path fill=\"none\" stroke=\"black\" d=\"M300,-34C317.22,-34 318.97,-19.23 334.98,-18.07\"/>\n",
       "<ellipse fill=\"black\" stroke=\"black\" cx=\"336\" cy=\"-18.04\" rx=\"1\" ry=\"1\"/>\n",
       "<text text-anchor=\"middle\" x=\"318.5\" y=\"-29\" font-family=\"Times,serif\" font-size=\"10.00\">1</text>\n",
       "</g>\n",
       "</g>\n",
       "</svg>"
      ],
      "text/plain": [
       "<IPython.core.display.SVG object>"
      ]
     },
     "metadata": {},
     "output_type": "display_data"
    }
   ],
   "source": [
    "bb = BloqBuilder()\n",
    "x = bb.add_register('x', 1)\n",
    "y = bb.add_register('y', 1)\n",
    "x, y = bb.add(CNOT(), control=x, target=y)\n",
    "y, x = bb.add(CNOT(), control=y, target=x)\n",
    "x, y = bb.add(CNOT(), control=x, target=y)\n",
    "cbloq = bb.finalize(x=x, y=y)\n",
    "show_bloq(cbloq)"
   ]
  },
  {
   "cell_type": "markdown",
   "id": "a63a9531",
   "metadata": {},
   "source": [
    "## Quantum variables and `Soquet`s.\n",
    "\n",
    "What are the types of `x` and `y`? They represent quantum variables used to \"wire up\" sub\n",
    "operations by providing them as inputs and receiving them as outputs during calls to `bb.add`. <div class=\"alert alert-block alert-warning\">If you're familiar with Cirq, you might think\n",
    "that they are equivalent to `cirq.Qubit`s. Whereas a cirq.Circuit has a fixed pool of qubits\n",
    "on which many operations act, these quantum variables follow different rules &mdash; read on!</div>\n",
    "\n",
    "The rules of quantum mechanics makes these quantum variables behave very differently than\n",
    "normal variables. The most salient rules are the no-cloning theorem and its dual, the\n",
    "[no-deleting theorem](https://en.wikipedia.org/wiki/No-deleting_theorem). In the parlance\n",
    "of programming language research, our variables follow \"linear logic\". A linear variable\n",
    "must be used once and only once.\n",
    "\n",
    "The following snippets show improper use of our quantum variables. Luckily, the bloq builder will\n",
    "raise an error if the rules of quantum mechanics are not followed!"
   ]
  },
  {
   "cell_type": "code",
   "execution_count": 14,
   "id": "85da3eb7",
   "metadata": {
    "execution": {
     "iopub.execute_input": "2023-07-21T13:42:55.683105Z",
     "iopub.status.busy": "2023-07-21T13:42:55.682976Z",
     "iopub.status.idle": "2023-07-21T13:42:55.685918Z",
     "shell.execute_reply": "2023-07-21T13:42:55.685642Z"
    }
   },
   "outputs": [
    {
     "name": "stdout",
     "output_type": "stream",
     "text": [
      "Can't use a variable as both control and target!\n",
      "LeftDangle.x is not an available Soquet for `CNOT().target`.\n"
     ]
    }
   ],
   "source": [
    "from qualtran import BloqError\n",
    "\n",
    "bb = BloqBuilder()\n",
    "x = bb.add_register('x', 1)\n",
    "y = bb.add_register('y', 1)\n",
    "\n",
    "try:\n",
    "    _ = bb.add(CNOT(), control=x, target=x)\n",
    "except BloqError as e:\n",
    "    print(\"Can't use a variable as both control and target!\")\n",
    "    print(e)"
   ]
  },
  {
   "cell_type": "code",
   "execution_count": 15,
   "id": "cfe23c3e",
   "metadata": {
    "execution": {
     "iopub.execute_input": "2023-07-21T13:42:55.687521Z",
     "iopub.status.busy": "2023-07-21T13:42:55.687406Z",
     "iopub.status.idle": "2023-07-21T13:42:55.689860Z",
     "shell.execute_reply": "2023-07-21T13:42:55.689605Z"
    }
   },
   "outputs": [
    {
     "name": "stdout",
     "output_type": "stream",
     "text": [
      "`x` and `y` were consumed by the first call to `add`.\n",
      "Returned quantum variables are *new, immutable* variables that you use\n",
      "in subsequent operations\n",
      "LeftDangle.x is not an available Soquet for `CNOT().control`.\n"
     ]
    }
   ],
   "source": [
    "bb = BloqBuilder()\n",
    "x = bb.add_register('x', 1)\n",
    "y = bb.add_register('y', 1)\n",
    "x2, y2 = bb.add(CNOT(), control=x, target=y)\n",
    "\n",
    "try:\n",
    "    x3, y3 = bb.add(CNOT(), control=x, target=y)\n",
    "except BloqError as e:\n",
    "    print(\"`x` and `y` were consumed by the first call to `add`.\")\n",
    "    print(\"Returned quantum variables are *new, immutable* variables that you use\")\n",
    "    print(\"in subsequent operations\")\n",
    "    print(e)"
   ]
  },
  {
   "cell_type": "code",
   "execution_count": 16,
   "id": "3b07af73",
   "metadata": {
    "execution": {
     "iopub.execute_input": "2023-07-21T13:42:55.691327Z",
     "iopub.status.busy": "2023-07-21T13:42:55.691220Z",
     "iopub.status.idle": "2023-07-21T13:42:55.693659Z",
     "shell.execute_reply": "2023-07-21T13:42:55.693412Z"
    }
   },
   "outputs": [
    {
     "name": "stdout",
     "output_type": "stream",
     "text": [
      "Any unused variables must be 'passed on' to `finalize` to be outputs.\n",
      "Finalizing requires a Soquet named `y`.\n"
     ]
    }
   ],
   "source": [
    "bb = BloqBuilder()\n",
    "x = bb.add_register('x', 1)\n",
    "y = bb.add_register('y', 1)\n",
    "\n",
    "# The following line turns on the additional checks needed to\n",
    "# raise an exception in this case:\n",
    "bb.add_register_allowed = False\n",
    "\n",
    "x2, y2 = bb.add(CNOT(), control=x, target=y)\n",
    "x3, y3 = bb.add(CNOT(), control=x2, target=y2)\n",
    "\n",
    "try:\n",
    "    bb.finalize(x=x3)\n",
    "except BloqError as e:\n",
    "    print(\"Any unused variables must be 'passed on' to `finalize` to be outputs.\")\n",
    "    print(e)"
   ]
  },
  {
   "cell_type": "markdown",
   "id": "432b4c75",
   "metadata": {},
   "source": [
    "The actual Python type of these objects is `Soquet`, which you will see in type annotations,\n",
    "but you should never instantiate a `Soquet` directly, nor should you use or set its attributes.\n",
    "Soquets should be constructed and managed by `BloqBuilder` and other infrastructure. <div class=\"alert alert-block alert-warning\">Another opaque, infrastructural class that\n",
    "    you may see but should not be manipulating directly is `BloqInstance`. This simple wrapper\n",
    "lets us distinguish between two *instances* of e.g. a CNOT bloq. Usually we want value\n",
    "equality semantics between bloqs.</div>"
   ]
  },
  {
   "cell_type": "markdown",
   "id": "4f44f287",
   "metadata": {},
   "source": [
    "## Larger registers\n",
    "\n",
    "Our two bloqs have still been operating at the level of individual bits. We now consider\n",
    "a general swap between two `n`-sized registers. <div class=\"alert alert-block alert-info\">The `n: int` line means our class has one attribute named `n` of type `int`. The attrs annotation will automatically generate an `__init__` function.</div>"
   ]
  },
  {
   "cell_type": "code",
   "execution_count": 17,
   "id": "145c65b6",
   "metadata": {
    "execution": {
     "iopub.execute_input": "2023-07-21T13:42:55.695129Z",
     "iopub.status.busy": "2023-07-21T13:42:55.695027Z",
     "iopub.status.idle": "2023-07-21T13:42:55.697522Z",
     "shell.execute_reply": "2023-07-21T13:42:55.697273Z"
    }
   },
   "outputs": [],
   "source": [
    "@attrs.frozen\n",
    "class Swap(Bloq):\n",
    "    n: int\n",
    "\n",
    "    @property\n",
    "    def signature(self):\n",
    "        return Signature([\n",
    "            Register('x', bitsize=self.n),\n",
    "            Register('y', bitsize=self.n),\n",
    "        ])"
   ]
  },
  {
   "cell_type": "markdown",
   "id": "1513500c",
   "metadata": {},
   "source": [
    "Note that our bloq now has an attrs attribute `n` that lets us configure the exact parameters\n",
    "of the bloq without defining a new class. This is analogous to a template parameter in C++,\n",
    "for example. Bloqs should be immutable and hashable."
   ]
  },
  {
   "cell_type": "code",
   "execution_count": 18,
   "id": "4bcc3e93",
   "metadata": {
    "execution": {
     "iopub.execute_input": "2023-07-21T13:42:55.698938Z",
     "iopub.status.busy": "2023-07-21T13:42:55.698835Z",
     "iopub.status.idle": "2023-07-21T13:42:55.700399Z",
     "shell.execute_reply": "2023-07-21T13:42:55.700156Z"
    }
   },
   "outputs": [],
   "source": [
    "assert Swap(5) == Swap(5)\n",
    "assert Swap(5) != Swap(6)"
   ]
  },
  {
   "cell_type": "code",
   "execution_count": 19,
   "id": "2ebf0d70",
   "metadata": {
    "execution": {
     "iopub.execute_input": "2023-07-21T13:42:55.701858Z",
     "iopub.status.busy": "2023-07-21T13:42:55.701781Z",
     "iopub.status.idle": "2023-07-21T13:42:55.704622Z",
     "shell.execute_reply": "2023-07-21T13:42:55.704374Z"
    }
   },
   "outputs": [],
   "source": [
    "from qualtran import SoquetT\n",
    "\n",
    "@attrs.frozen\n",
    "class Swap(Bloq):\n",
    "    n: int\n",
    "\n",
    "    @property\n",
    "    def signature(self):\n",
    "        return Signature.build(x=self.n, y=self.n)\n",
    "\n",
    "    def build_composite_bloq(\n",
    "            self, bb: BloqBuilder, *, x: SoquetT, y: SoquetT\n",
    "    ) -> Dict[str, SoquetT]:\n",
    "        # THIS WON'T ACTUALLY WORK! Read on.\n",
    "        for i in range(self.n):\n",
    "            x[i], y[i] = bb.add(SwapTwoBits(), x=x[i], y=y[i])\n",
    "        return {'x': x, 'y': y}"
   ]
  },
  {
   "cell_type": "markdown",
   "id": "3db1bfa8",
   "metadata": {},
   "source": [
    "For our first attempt, we will straightforwardly decompose our swap between two n-bit registers\n",
    "into n swaps over each bit in the two registers. There's a note that this won't actually work.\n",
    "Let's see what happens."
   ]
  },
  {
   "cell_type": "code",
   "execution_count": 20,
   "id": "b08436af",
   "metadata": {
    "execution": {
     "iopub.execute_input": "2023-07-21T13:42:55.706157Z",
     "iopub.status.busy": "2023-07-21T13:42:55.706047Z",
     "iopub.status.idle": "2023-07-21T13:42:55.767353Z",
     "shell.execute_reply": "2023-07-21T13:42:55.766978Z"
    }
   },
   "outputs": [
    {
     "data": {
      "image/svg+xml": [
       "<svg xmlns=\"http://www.w3.org/2000/svg\" xmlns:xlink=\"http://www.w3.org/1999/xlink\" width=\"219pt\" height=\"98pt\" viewBox=\"0.00 0.00 219.00 98.00\">\n",
       "<g id=\"graph0\" class=\"graph\" transform=\"scale(1 1) rotate(0) translate(4 94)\">\n",
       "<title>my_graph</title>\n",
       "<polygon fill=\"white\" stroke=\"none\" points=\"-4,4 -4,-94 215,-94 215,4 -4,4\"/>\n",
       "<!-- x_G0 -->\n",
       "<g id=\"node1\" class=\"node\">\n",
       "<title>x_G0</title>\n",
       "<text text-anchor=\"middle\" x=\"27\" y=\"-68.3\" font-family=\"Times,serif\" font-size=\"14.00\">x</text>\n",
       "</g>\n",
       "<!-- Swap -->\n",
       "<g id=\"node3\" class=\"node\">\n",
       "<title>Swap</title>\n",
       "<polygon fill=\"none\" stroke=\"black\" points=\"91.5,-66 91.5,-83 120.5,-83 120.5,-66 91.5,-66\"/>\n",
       "<text text-anchor=\"start\" x=\"94.5\" y=\"-72\" font-family=\"Times,serif\" font-size=\"10.00\">Swap</text>\n",
       "<polygon fill=\"none\" stroke=\"black\" points=\"91.5,-45 91.5,-66 120.5,-66 120.5,-45 91.5,-45\"/>\n",
       "<text text-anchor=\"start\" x=\"102.5\" y=\"-51.8\" font-family=\"Times,serif\" font-size=\"14.00\">x</text>\n",
       "<polygon fill=\"none\" stroke=\"black\" points=\"91.5,-24 91.5,-45 120.5,-45 120.5,-24 91.5,-24\"/>\n",
       "<text text-anchor=\"start\" x=\"102.5\" y=\"-30.8\" font-family=\"Times,serif\" font-size=\"14.00\">y</text>\n",
       "</g>\n",
       "<!-- x_G0&#45;&gt;Swap -->\n",
       "<g id=\"edge1\" class=\"edge\">\n",
       "<title>x_G0:e-&gt;Swap:w</title>\n",
       "<path fill=\"none\" stroke=\"black\" d=\"M54,-72C71.22,-72 72.97,-57.23 88.98,-56.07\"/>\n",
       "<ellipse fill=\"black\" stroke=\"black\" cx=\"90\" cy=\"-56.04\" rx=\"1\" ry=\"1\"/>\n",
       "<text text-anchor=\"middle\" x=\"72.5\" y=\"-67\" font-family=\"Times,serif\" font-size=\"10.00\">5</text>\n",
       "</g>\n",
       "<!-- y_G3 -->\n",
       "<g id=\"node2\" class=\"node\">\n",
       "<title>y_G3</title>\n",
       "<text text-anchor=\"middle\" x=\"27\" y=\"-14.3\" font-family=\"Times,serif\" font-size=\"14.00\">y</text>\n",
       "</g>\n",
       "<!-- y_G3&#45;&gt;Swap -->\n",
       "<g id=\"edge2\" class=\"edge\">\n",
       "<title>y_G3:e-&gt;Swap:w</title>\n",
       "<path fill=\"none\" stroke=\"black\" d=\"M54,-18C71.22,-18 72.97,-32.77 88.98,-33.93\"/>\n",
       "<ellipse fill=\"black\" stroke=\"black\" cx=\"90\" cy=\"-33.96\" rx=\"1\" ry=\"1\"/>\n",
       "<text text-anchor=\"middle\" x=\"72.5\" y=\"-29\" font-family=\"Times,serif\" font-size=\"10.00\">5</text>\n",
       "</g>\n",
       "<!-- x_G1 -->\n",
       "<g id=\"node4\" class=\"node\">\n",
       "<title>x_G1</title>\n",
       "<text text-anchor=\"middle\" x=\"184\" y=\"-68.3\" font-family=\"Times,serif\" font-size=\"14.00\">x</text>\n",
       "</g>\n",
       "<!-- Swap&#45;&gt;x_G1 -->\n",
       "<g id=\"edge3\" class=\"edge\">\n",
       "<title>Swap:e-&gt;x_G1:w</title>\n",
       "<path fill=\"none\" stroke=\"black\" d=\"M120,-56C137.22,-56 138.97,-70.77 154.98,-71.93\"/>\n",
       "<ellipse fill=\"black\" stroke=\"black\" cx=\"156\" cy=\"-71.96\" rx=\"1\" ry=\"1\"/>\n",
       "<text text-anchor=\"middle\" x=\"138.5\" y=\"-67\" font-family=\"Times,serif\" font-size=\"10.00\">5</text>\n",
       "</g>\n",
       "<!-- y_G4 -->\n",
       "<g id=\"node5\" class=\"node\">\n",
       "<title>y_G4</title>\n",
       "<text text-anchor=\"middle\" x=\"184\" y=\"-14.3\" font-family=\"Times,serif\" font-size=\"14.00\">y</text>\n",
       "</g>\n",
       "<!-- Swap&#45;&gt;y_G4 -->\n",
       "<g id=\"edge4\" class=\"edge\">\n",
       "<title>Swap:e-&gt;y_G4:w</title>\n",
       "<path fill=\"none\" stroke=\"black\" d=\"M120,-34C137.22,-34 138.97,-19.23 154.98,-18.07\"/>\n",
       "<ellipse fill=\"black\" stroke=\"black\" cx=\"156\" cy=\"-18.04\" rx=\"1\" ry=\"1\"/>\n",
       "<text text-anchor=\"middle\" x=\"138.5\" y=\"-29\" font-family=\"Times,serif\" font-size=\"10.00\">5</text>\n",
       "</g>\n",
       "</g>\n",
       "</svg>"
      ],
      "text/plain": [
       "<IPython.core.display.SVG object>"
      ]
     },
     "metadata": {},
     "output_type": "display_data"
    }
   ],
   "source": [
    "show_bloq(Swap(n=5))"
   ]
  },
  {
   "cell_type": "markdown",
   "id": "fdc991f3",
   "metadata": {},
   "source": [
    "That looks fine... In fact: you can see a useful property of bloqs. Instead of representing\n",
    "each qubit as its own quantum variable, the size of our register is just a property annotated\n",
    "on the graph. We can make it arbitrarily large with no performance penalty"
   ]
  },
  {
   "cell_type": "code",
   "execution_count": 21,
   "id": "fba876e0",
   "metadata": {
    "execution": {
     "iopub.execute_input": "2023-07-21T13:42:55.769113Z",
     "iopub.status.busy": "2023-07-21T13:42:55.768988Z",
     "iopub.status.idle": "2023-07-21T13:42:55.827379Z",
     "shell.execute_reply": "2023-07-21T13:42:55.826998Z"
    }
   },
   "outputs": [
    {
     "data": {
      "image/svg+xml": [
       "<svg xmlns=\"http://www.w3.org/2000/svg\" xmlns:xlink=\"http://www.w3.org/1999/xlink\" width=\"219pt\" height=\"98pt\" viewBox=\"0.00 0.00 219.00 98.00\">\n",
       "<g id=\"graph0\" class=\"graph\" transform=\"scale(1 1) rotate(0) translate(4 94)\">\n",
       "<title>my_graph</title>\n",
       "<polygon fill=\"white\" stroke=\"none\" points=\"-4,4 -4,-94 215,-94 215,4 -4,4\"/>\n",
       "<!-- x_G2 -->\n",
       "<g id=\"node1\" class=\"node\">\n",
       "<title>x_G2</title>\n",
       "<text text-anchor=\"middle\" x=\"27\" y=\"-68.3\" font-family=\"Times,serif\" font-size=\"14.00\">x</text>\n",
       "</g>\n",
       "<!-- Swap -->\n",
       "<g id=\"node3\" class=\"node\">\n",
       "<title>Swap</title>\n",
       "<polygon fill=\"none\" stroke=\"black\" points=\"91.5,-66 91.5,-83 120.5,-83 120.5,-66 91.5,-66\"/>\n",
       "<text text-anchor=\"start\" x=\"94.5\" y=\"-72\" font-family=\"Times,serif\" font-size=\"10.00\">Swap</text>\n",
       "<polygon fill=\"none\" stroke=\"black\" points=\"91.5,-45 91.5,-66 120.5,-66 120.5,-45 91.5,-45\"/>\n",
       "<text text-anchor=\"start\" x=\"102.5\" y=\"-51.8\" font-family=\"Times,serif\" font-size=\"14.00\">x</text>\n",
       "<polygon fill=\"none\" stroke=\"black\" points=\"91.5,-24 91.5,-45 120.5,-45 120.5,-24 91.5,-24\"/>\n",
       "<text text-anchor=\"start\" x=\"102.5\" y=\"-30.8\" font-family=\"Times,serif\" font-size=\"14.00\">y</text>\n",
       "</g>\n",
       "<!-- x_G2&#45;&gt;Swap -->\n",
       "<g id=\"edge1\" class=\"edge\">\n",
       "<title>x_G2:e-&gt;Swap:w</title>\n",
       "<path fill=\"none\" stroke=\"black\" d=\"M54,-72C71.22,-72 72.97,-57.23 88.98,-56.07\"/>\n",
       "<ellipse fill=\"black\" stroke=\"black\" cx=\"90\" cy=\"-56.04\" rx=\"1\" ry=\"1\"/>\n",
       "<text text-anchor=\"middle\" x=\"72.5\" y=\"-67\" font-family=\"Times,serif\" font-size=\"10.00\">10000</text>\n",
       "</g>\n",
       "<!-- y_G4 -->\n",
       "<g id=\"node2\" class=\"node\">\n",
       "<title>y_G4</title>\n",
       "<text text-anchor=\"middle\" x=\"27\" y=\"-14.3\" font-family=\"Times,serif\" font-size=\"14.00\">y</text>\n",
       "</g>\n",
       "<!-- y_G4&#45;&gt;Swap -->\n",
       "<g id=\"edge2\" class=\"edge\">\n",
       "<title>y_G4:e-&gt;Swap:w</title>\n",
       "<path fill=\"none\" stroke=\"black\" d=\"M54,-18C71.22,-18 72.97,-32.77 88.98,-33.93\"/>\n",
       "<ellipse fill=\"black\" stroke=\"black\" cx=\"90\" cy=\"-33.96\" rx=\"1\" ry=\"1\"/>\n",
       "<text text-anchor=\"middle\" x=\"72.5\" y=\"-29\" font-family=\"Times,serif\" font-size=\"10.00\">10000</text>\n",
       "</g>\n",
       "<!-- x_G3 -->\n",
       "<g id=\"node4\" class=\"node\">\n",
       "<title>x_G3</title>\n",
       "<text text-anchor=\"middle\" x=\"184\" y=\"-68.3\" font-family=\"Times,serif\" font-size=\"14.00\">x</text>\n",
       "</g>\n",
       "<!-- Swap&#45;&gt;x_G3 -->\n",
       "<g id=\"edge3\" class=\"edge\">\n",
       "<title>Swap:e-&gt;x_G3:w</title>\n",
       "<path fill=\"none\" stroke=\"black\" d=\"M120,-56C137.22,-56 138.97,-70.77 154.98,-71.93\"/>\n",
       "<ellipse fill=\"black\" stroke=\"black\" cx=\"156\" cy=\"-71.96\" rx=\"1\" ry=\"1\"/>\n",
       "<text text-anchor=\"middle\" x=\"138.5\" y=\"-67\" font-family=\"Times,serif\" font-size=\"10.00\">10000</text>\n",
       "</g>\n",
       "<!-- y_G0 -->\n",
       "<g id=\"node5\" class=\"node\">\n",
       "<title>y_G0</title>\n",
       "<text text-anchor=\"middle\" x=\"184\" y=\"-14.3\" font-family=\"Times,serif\" font-size=\"14.00\">y</text>\n",
       "</g>\n",
       "<!-- Swap&#45;&gt;y_G0 -->\n",
       "<g id=\"edge4\" class=\"edge\">\n",
       "<title>Swap:e-&gt;y_G0:w</title>\n",
       "<path fill=\"none\" stroke=\"black\" d=\"M120,-34C137.22,-34 138.97,-19.23 154.98,-18.07\"/>\n",
       "<ellipse fill=\"black\" stroke=\"black\" cx=\"156\" cy=\"-18.04\" rx=\"1\" ry=\"1\"/>\n",
       "<text text-anchor=\"middle\" x=\"138.5\" y=\"-29\" font-family=\"Times,serif\" font-size=\"10.00\">10000</text>\n",
       "</g>\n",
       "</g>\n",
       "</svg>"
      ],
      "text/plain": [
       "<IPython.core.display.SVG object>"
      ]
     },
     "metadata": {},
     "output_type": "display_data"
    }
   ],
   "source": [
    "show_bloq(Swap(n=10_000))"
   ]
  },
  {
   "cell_type": "markdown",
   "id": "ec5150d2",
   "metadata": {},
   "source": [
    "The problem occurs when we decompose our bloq."
   ]
  },
  {
   "cell_type": "code",
   "execution_count": 22,
   "id": "48648ac4",
   "metadata": {
    "execution": {
     "iopub.execute_input": "2023-07-21T13:42:55.829155Z",
     "iopub.status.busy": "2023-07-21T13:42:55.829028Z",
     "iopub.status.idle": "2023-07-21T13:42:55.832612Z",
     "shell.execute_reply": "2023-07-21T13:42:55.832223Z"
    }
   },
   "outputs": [
    {
     "name": "stdout",
     "output_type": "stream",
     "text": [
      "Traceback (most recent call last):\n",
      "  File \"/var/folders/3l/4zd2bgl54gb8xfx5hn66g6fr00m48r/T/ipykernel_65705/2679143270.py\", line 4, in <module>\n",
      "    cbloq = Swap(n=5).decompose_bloq()\n",
      "  File \"/Users/mpharrigan/qutran/qutran/qualtran/_infra/bloq.py\", line 118, in decompose_bloq\n",
      "    return _decompose_from_build_composite_bloq(self)\n",
      "  File \"/Users/mpharrigan/qutran/qutran/qualtran/_infra/bloq.py\", line 38, in _decompose_from_build_composite_bloq\n",
      "    out_soqs = bloq.build_composite_bloq(bb=bb, **initial_soqs)\n",
      "  File \"/var/folders/3l/4zd2bgl54gb8xfx5hn66g6fr00m48r/T/ipykernel_65705/1590169855.py\", line 16, in build_composite_bloq\n",
      "    x[i], y[i] = bb.add(SwapTwoBits(), x=x[i], y=y[i])\n",
      "TypeError: 'Soquet' object is not subscriptable\n",
      "\n"
     ]
    }
   ],
   "source": [
    "import traceback\n",
    "\n",
    "try:\n",
    "    cbloq = Swap(n=5).decompose_bloq()\n",
    "except TypeError as e:\n",
    "    print(traceback.format_exc())"
   ]
  },
  {
   "cell_type": "markdown",
   "id": "d029bf65",
   "metadata": {},
   "source": [
    "Can you figure out what's happening? The very advantage alluded to above has come back\n",
    "to bite us! If we have one object representing an n-bit register, we can't index into it\n",
    "to do bit-twiddling in our decomposition. We'll take a second look at `Register` to see\n",
    "if we can modify our signature declaration to make this work.\n",
    "\n",
    "`Register` can represent an n-dimensional array of quantum bits. For example, I can\n",
    "declare a 3x3 matrix of 32-bit quantum variables:"
   ]
  },
  {
   "cell_type": "code",
   "execution_count": 23,
   "id": "c98fa648",
   "metadata": {
    "execution": {
     "iopub.execute_input": "2023-07-21T13:42:55.834118Z",
     "iopub.status.busy": "2023-07-21T13:42:55.834030Z",
     "iopub.status.idle": "2023-07-21T13:42:55.836064Z",
     "shell.execute_reply": "2023-07-21T13:42:55.835775Z"
    }
   },
   "outputs": [
    {
     "name": "stdout",
     "output_type": "stream",
     "text": [
      "total bits: 288\n"
     ]
    }
   ],
   "source": [
    "arr_reg = Register('arr', bitsize=32, shape=(3, 3))\n",
    "print('total bits:', arr_reg.total_bits())"
   ]
  },
  {
   "cell_type": "markdown",
   "id": "91d649ca",
   "metadata": {},
   "source": [
    "<div class=\"alert alert-block alert-info\">`shape` is like `np.ndarray.shape`.</div>\n",
    "\n",
    "In computing, we can think of all data as an ndarray of bits or qubits, but -- analogous to\n",
    "classical data types -- it's preferable to treat a certain number of bits (or qubits) as\n",
    "our atomic datatype. For example, in C, an array of `int32 x[10];` does not let you index\n",
    "into individual bits like `x[3][31]`. Unlike in C, you are not limited by machine word size\n",
    "for atomic type sizes, which is why above we could define a register of `bitsize=5`.\n",
    "\n",
    "In the `SwapTwoBits` example everything was `bitsize=1` and we could write our decomposition\n",
    "without slicing into the registers. Let's write a version of `Swap` that uses an array\n",
    "of `bitsize=1` values."
   ]
  },
  {
   "cell_type": "code",
   "execution_count": 24,
   "id": "7095d363",
   "metadata": {
    "execution": {
     "iopub.execute_input": "2023-07-21T13:42:55.837501Z",
     "iopub.status.busy": "2023-07-21T13:42:55.837422Z",
     "iopub.status.idle": "2023-07-21T13:42:55.840544Z",
     "shell.execute_reply": "2023-07-21T13:42:55.840310Z"
    }
   },
   "outputs": [],
   "source": [
    "@attrs.frozen\n",
    "class SwapManyBits(Bloq):\n",
    "    n: int\n",
    "\n",
    "    @property\n",
    "    def signature(self):\n",
    "        # Not ideal; read on.\n",
    "        return Signature([\n",
    "            Register('x', bitsize=1, shape=(self.n,)),\n",
    "            Register('y', bitsize=1, shape=(self.n,)),\n",
    "        ])\n",
    "\n",
    "    def build_composite_bloq(\n",
    "            self, bb: BloqBuilder, *, x: SoquetT, y: SoquetT\n",
    "    ) -> Dict[str, SoquetT]:\n",
    "        for i in range(self.n):\n",
    "            x[i], y[i] = bb.add(SwapTwoBits(), x=x[i], y=y[i])\n",
    "        return {'x': x, 'y': y}"
   ]
  },
  {
   "cell_type": "markdown",
   "id": "6a5649f3",
   "metadata": {},
   "source": [
    "Now since we've moved our `n` dimension of our inputs into the `shape` part of\n",
    "the register declaration, slicing should work:"
   ]
  },
  {
   "cell_type": "code",
   "execution_count": 25,
   "id": "6db17a87",
   "metadata": {
    "execution": {
     "iopub.execute_input": "2023-07-21T13:42:55.842020Z",
     "iopub.status.busy": "2023-07-21T13:42:55.841941Z",
     "iopub.status.idle": "2023-07-21T13:42:55.908143Z",
     "shell.execute_reply": "2023-07-21T13:42:55.907775Z"
    }
   },
   "outputs": [
    {
     "data": {
      "image/svg+xml": [
       "<svg xmlns=\"http://www.w3.org/2000/svg\" xmlns:xlink=\"http://www.w3.org/1999/xlink\" width=\"236pt\" height=\"442pt\" viewBox=\"0.00 0.00 236.00 442.00\">\n",
       "<g id=\"graph0\" class=\"graph\" transform=\"scale(1 1) rotate(0) translate(4 438)\">\n",
       "<title>my_graph</title>\n",
       "<polygon fill=\"white\" stroke=\"none\" points=\"-4,4 -4,-438 232,-438 232,4 -4,4\"/>\n",
       "<!-- x_G32 -->\n",
       "<g id=\"node1\" class=\"node\">\n",
       "<title>x_G32</title>\n",
       "<text text-anchor=\"middle\" x=\"27\" y=\"-68.3\" font-family=\"Times,serif\" font-size=\"14.00\">x[0]</text>\n",
       "</g>\n",
       "<!-- SwapTwoBits_G0 -->\n",
       "<g id=\"node10\" class=\"node\">\n",
       "<title>SwapTwoBits_G0</title>\n",
       "<polygon fill=\"none\" stroke=\"black\" points=\"91,-66 91,-83 137,-83 137,-66 91,-66\"/>\n",
       "<text text-anchor=\"start\" x=\"94\" y=\"-72\" font-family=\"Times,serif\" font-size=\"10.00\">SwapTw..</text>\n",
       "<polygon fill=\"none\" stroke=\"black\" points=\"91,-45 91,-66 137,-66 137,-45 91,-45\"/>\n",
       "<text text-anchor=\"start\" x=\"110.5\" y=\"-51.8\" font-family=\"Times,serif\" font-size=\"14.00\">x</text>\n",
       "<polygon fill=\"none\" stroke=\"black\" points=\"91,-24 91,-45 137,-45 137,-24 91,-24\"/>\n",
       "<text text-anchor=\"start\" x=\"110.5\" y=\"-30.8\" font-family=\"Times,serif\" font-size=\"14.00\">y</text>\n",
       "</g>\n",
       "<!-- x_G32&#45;&gt;SwapTwoBits_G0 -->\n",
       "<g id=\"edge1\" class=\"edge\">\n",
       "<title>x_G32:e-&gt;SwapTwoBits_G0:w</title>\n",
       "<path fill=\"none\" stroke=\"black\" d=\"M54,-72C71.22,-72 72.97,-57.23 88.98,-56.07\"/>\n",
       "<ellipse fill=\"black\" stroke=\"black\" cx=\"90\" cy=\"-56.04\" rx=\"1\" ry=\"1\"/>\n",
       "<text text-anchor=\"middle\" x=\"72.5\" y=\"-67\" font-family=\"Times,serif\" font-size=\"10.00\">1</text>\n",
       "</g>\n",
       "<!-- x_G29 -->\n",
       "<g id=\"node2\" class=\"node\">\n",
       "<title>x_G29</title>\n",
       "<text text-anchor=\"middle\" x=\"27\" y=\"-188.3\" font-family=\"Times,serif\" font-size=\"14.00\">x[1]</text>\n",
       "</g>\n",
       "<!-- SwapTwoBits_G3 -->\n",
       "<g id=\"node11\" class=\"node\">\n",
       "<title>SwapTwoBits_G3</title>\n",
       "<polygon fill=\"none\" stroke=\"black\" points=\"91,-178 91,-195 137,-195 137,-178 91,-178\"/>\n",
       "<text text-anchor=\"start\" x=\"94\" y=\"-184\" font-family=\"Times,serif\" font-size=\"10.00\">SwapTw..</text>\n",
       "<polygon fill=\"none\" stroke=\"black\" points=\"91,-157 91,-178 137,-178 137,-157 91,-157\"/>\n",
       "<text text-anchor=\"start\" x=\"110.5\" y=\"-163.8\" font-family=\"Times,serif\" font-size=\"14.00\">x</text>\n",
       "<polygon fill=\"none\" stroke=\"black\" points=\"91,-136 91,-157 137,-157 137,-136 91,-136\"/>\n",
       "<text text-anchor=\"start\" x=\"110.5\" y=\"-142.8\" font-family=\"Times,serif\" font-size=\"14.00\">y</text>\n",
       "</g>\n",
       "<!-- x_G29&#45;&gt;SwapTwoBits_G3 -->\n",
       "<g id=\"edge3\" class=\"edge\">\n",
       "<title>x_G29:e-&gt;SwapTwoBits_G3:w</title>\n",
       "<path fill=\"none\" stroke=\"black\" d=\"M54,-192C72.84,-192 71.54,-169.84 88.8,-168.11\"/>\n",
       "<ellipse fill=\"black\" stroke=\"black\" cx=\"90\" cy=\"-168.05\" rx=\"1\" ry=\"1\"/>\n",
       "<text text-anchor=\"middle\" x=\"72.5\" y=\"-183\" font-family=\"Times,serif\" font-size=\"10.00\">1</text>\n",
       "</g>\n",
       "<!-- x_G9 -->\n",
       "<g id=\"node3\" class=\"node\">\n",
       "<title>x_G9</title>\n",
       "<text text-anchor=\"middle\" x=\"27\" y=\"-296.3\" font-family=\"Times,serif\" font-size=\"14.00\">x[2]</text>\n",
       "</g>\n",
       "<!-- SwapTwoBits -->\n",
       "<g id=\"node9\" class=\"node\">\n",
       "<title>SwapTwoBits</title>\n",
       "<polygon fill=\"none\" stroke=\"black\" points=\"91,-310 91,-327 137,-327 137,-310 91,-310\"/>\n",
       "<text text-anchor=\"start\" x=\"94\" y=\"-316\" font-family=\"Times,serif\" font-size=\"10.00\">SwapTw..</text>\n",
       "<polygon fill=\"none\" stroke=\"black\" points=\"91,-289 91,-310 137,-310 137,-289 91,-289\"/>\n",
       "<text text-anchor=\"start\" x=\"110.5\" y=\"-295.8\" font-family=\"Times,serif\" font-size=\"14.00\">x</text>\n",
       "<polygon fill=\"none\" stroke=\"black\" points=\"91,-268 91,-289 137,-289 137,-268 91,-268\"/>\n",
       "<text text-anchor=\"start\" x=\"110.5\" y=\"-274.8\" font-family=\"Times,serif\" font-size=\"14.00\">y</text>\n",
       "</g>\n",
       "<!-- x_G9&#45;&gt;SwapTwoBits -->\n",
       "<g id=\"edge5\" class=\"edge\">\n",
       "<title>x_G9:e-&gt;SwapTwoBits:w</title>\n",
       "<path fill=\"none\" stroke=\"black\" d=\"M54,-300C69.67,-300 74.14,-300 88.77,-300\"/>\n",
       "<ellipse fill=\"black\" stroke=\"black\" cx=\"90\" cy=\"-300\" rx=\"1\" ry=\"1\"/>\n",
       "<text text-anchor=\"middle\" x=\"72.5\" y=\"-303\" font-family=\"Times,serif\" font-size=\"10.00\">1</text>\n",
       "</g>\n",
       "<!-- x_G18 -->\n",
       "<g id=\"node4\" class=\"node\">\n",
       "<title>x_G18</title>\n",
       "<text text-anchor=\"middle\" x=\"27\" y=\"-412.3\" font-family=\"Times,serif\" font-size=\"14.00\">x[3]</text>\n",
       "</g>\n",
       "<!-- SwapTwoBits_G6 -->\n",
       "<g id=\"node12\" class=\"node\">\n",
       "<title>SwapTwoBits_G6</title>\n",
       "<polygon fill=\"none\" stroke=\"black\" points=\"91,-410 91,-427 137,-427 137,-410 91,-410\"/>\n",
       "<text text-anchor=\"start\" x=\"94\" y=\"-416\" font-family=\"Times,serif\" font-size=\"10.00\">SwapTw..</text>\n",
       "<polygon fill=\"none\" stroke=\"black\" points=\"91,-389 91,-410 137,-410 137,-389 91,-389\"/>\n",
       "<text text-anchor=\"start\" x=\"110.5\" y=\"-395.8\" font-family=\"Times,serif\" font-size=\"14.00\">x</text>\n",
       "<polygon fill=\"none\" stroke=\"black\" points=\"91,-368 91,-389 137,-389 137,-368 91,-368\"/>\n",
       "<text text-anchor=\"start\" x=\"110.5\" y=\"-374.8\" font-family=\"Times,serif\" font-size=\"14.00\">y</text>\n",
       "</g>\n",
       "<!-- x_G18&#45;&gt;SwapTwoBits_G6 -->\n",
       "<g id=\"edge7\" class=\"edge\">\n",
       "<title>x_G18:e-&gt;SwapTwoBits_G6:w</title>\n",
       "<path fill=\"none\" stroke=\"black\" d=\"M54,-416C71.22,-416 72.97,-401.23 88.98,-400.07\"/>\n",
       "<ellipse fill=\"black\" stroke=\"black\" cx=\"90\" cy=\"-400.04\" rx=\"1\" ry=\"1\"/>\n",
       "<text text-anchor=\"middle\" x=\"72.5\" y=\"-411\" font-family=\"Times,serif\" font-size=\"10.00\">1</text>\n",
       "</g>\n",
       "<!-- y_G27 -->\n",
       "<g id=\"node5\" class=\"node\">\n",
       "<title>y_G27</title>\n",
       "<text text-anchor=\"middle\" x=\"27\" y=\"-14.3\" font-family=\"Times,serif\" font-size=\"14.00\">y[0]</text>\n",
       "</g>\n",
       "<!-- y_G27&#45;&gt;SwapTwoBits_G0 -->\n",
       "<g id=\"edge2\" class=\"edge\">\n",
       "<title>y_G27:e-&gt;SwapTwoBits_G0:w</title>\n",
       "<path fill=\"none\" stroke=\"black\" d=\"M54,-18C71.22,-18 72.97,-32.77 88.98,-33.93\"/>\n",
       "<ellipse fill=\"black\" stroke=\"black\" cx=\"90\" cy=\"-33.96\" rx=\"1\" ry=\"1\"/>\n",
       "<text text-anchor=\"middle\" x=\"72.5\" y=\"-29\" font-family=\"Times,serif\" font-size=\"10.00\">1</text>\n",
       "</g>\n",
       "<!-- y_G24 -->\n",
       "<g id=\"node6\" class=\"node\">\n",
       "<title>y_G24</title>\n",
       "<text text-anchor=\"middle\" x=\"27\" y=\"-134.3\" font-family=\"Times,serif\" font-size=\"14.00\">y[1]</text>\n",
       "</g>\n",
       "<!-- y_G24&#45;&gt;SwapTwoBits_G3 -->\n",
       "<g id=\"edge4\" class=\"edge\">\n",
       "<title>y_G24:e-&gt;SwapTwoBits_G3:w</title>\n",
       "<path fill=\"none\" stroke=\"black\" d=\"M54,-138C70.04,-138 73.83,-145.27 88.72,-145.95\"/>\n",
       "<ellipse fill=\"black\" stroke=\"black\" cx=\"90\" cy=\"-145.98\" rx=\"1\" ry=\"1\"/>\n",
       "<text text-anchor=\"middle\" x=\"72.5\" y=\"-145\" font-family=\"Times,serif\" font-size=\"10.00\">1</text>\n",
       "</g>\n",
       "<!-- y_G28 -->\n",
       "<g id=\"node7\" class=\"node\">\n",
       "<title>y_G28</title>\n",
       "<text text-anchor=\"middle\" x=\"27\" y=\"-242.3\" font-family=\"Times,serif\" font-size=\"14.00\">y[2]</text>\n",
       "</g>\n",
       "<!-- y_G28&#45;&gt;SwapTwoBits -->\n",
       "<g id=\"edge6\" class=\"edge\">\n",
       "<title>y_G28:e-&gt;SwapTwoBits:w</title>\n",
       "<path fill=\"none\" stroke=\"black\" d=\"M54,-246C74.89,-246 69.72,-275.55 88.58,-277.86\"/>\n",
       "<ellipse fill=\"black\" stroke=\"black\" cx=\"90\" cy=\"-277.94\" rx=\"1\" ry=\"1\"/>\n",
       "<text text-anchor=\"middle\" x=\"72.5\" y=\"-265\" font-family=\"Times,serif\" font-size=\"10.00\">1</text>\n",
       "</g>\n",
       "<!-- y_G16 -->\n",
       "<g id=\"node8\" class=\"node\">\n",
       "<title>y_G16</title>\n",
       "<text text-anchor=\"middle\" x=\"27\" y=\"-358.3\" font-family=\"Times,serif\" font-size=\"14.00\">y[3]</text>\n",
       "</g>\n",
       "<!-- y_G16&#45;&gt;SwapTwoBits_G6 -->\n",
       "<g id=\"edge8\" class=\"edge\">\n",
       "<title>y_G16:e-&gt;SwapTwoBits_G6:w</title>\n",
       "<path fill=\"none\" stroke=\"black\" d=\"M54,-362C71.22,-362 72.97,-376.77 88.98,-377.93\"/>\n",
       "<ellipse fill=\"black\" stroke=\"black\" cx=\"90\" cy=\"-377.96\" rx=\"1\" ry=\"1\"/>\n",
       "<text text-anchor=\"middle\" x=\"72.5\" y=\"-373\" font-family=\"Times,serif\" font-size=\"10.00\">1</text>\n",
       "</g>\n",
       "<!-- x_G25 -->\n",
       "<g id=\"node15\" class=\"node\">\n",
       "<title>x_G25</title>\n",
       "<text text-anchor=\"middle\" x=\"201\" y=\"-296.3\" font-family=\"Times,serif\" font-size=\"14.00\">x[2]</text>\n",
       "</g>\n",
       "<!-- SwapTwoBits&#45;&gt;x_G25 -->\n",
       "<g id=\"edge11\" class=\"edge\">\n",
       "<title>SwapTwoBits:e-&gt;x_G25:w</title>\n",
       "<path fill=\"none\" stroke=\"black\" d=\"M137,-300C152.67,-300 157.14,-300 171.77,-300\"/>\n",
       "<ellipse fill=\"black\" stroke=\"black\" cx=\"173\" cy=\"-300\" rx=\"1\" ry=\"1\"/>\n",
       "<text text-anchor=\"middle\" x=\"155.5\" y=\"-303\" font-family=\"Times,serif\" font-size=\"10.00\">1</text>\n",
       "</g>\n",
       "<!-- y_G31 -->\n",
       "<g id=\"node19\" class=\"node\">\n",
       "<title>y_G31</title>\n",
       "<text text-anchor=\"middle\" x=\"201\" y=\"-242.3\" font-family=\"Times,serif\" font-size=\"14.00\">y[2]</text>\n",
       "</g>\n",
       "<!-- SwapTwoBits&#45;&gt;y_G31 -->\n",
       "<g id=\"edge15\" class=\"edge\">\n",
       "<title>SwapTwoBits:e-&gt;y_G31:w</title>\n",
       "<path fill=\"none\" stroke=\"black\" d=\"M137,-278C157.89,-278 152.72,-248.45 171.58,-246.14\"/>\n",
       "<ellipse fill=\"black\" stroke=\"black\" cx=\"173\" cy=\"-246.06\" rx=\"1\" ry=\"1\"/>\n",
       "<text text-anchor=\"middle\" x=\"155.5\" y=\"-265\" font-family=\"Times,serif\" font-size=\"10.00\">1</text>\n",
       "</g>\n",
       "<!-- x_G22 -->\n",
       "<g id=\"node13\" class=\"node\">\n",
       "<title>x_G22</title>\n",
       "<text text-anchor=\"middle\" x=\"201\" y=\"-72.3\" font-family=\"Times,serif\" font-size=\"14.00\">x[0]</text>\n",
       "</g>\n",
       "<!-- SwapTwoBits_G0&#45;&gt;x_G22 -->\n",
       "<g id=\"edge9\" class=\"edge\">\n",
       "<title>SwapTwoBits_G0:e-&gt;x_G22:w</title>\n",
       "<path fill=\"none\" stroke=\"black\" d=\"M137,-56C154.96,-56 155.31,-74.47 171.89,-75.91\"/>\n",
       "<ellipse fill=\"black\" stroke=\"black\" cx=\"173\" cy=\"-75.96\" rx=\"1\" ry=\"1\"/>\n",
       "<text text-anchor=\"middle\" x=\"155.5\" y=\"-69\" font-family=\"Times,serif\" font-size=\"10.00\">1</text>\n",
       "</g>\n",
       "<!-- y_G30 -->\n",
       "<g id=\"node17\" class=\"node\">\n",
       "<title>y_G30</title>\n",
       "<text text-anchor=\"middle\" x=\"201\" y=\"-18.3\" font-family=\"Times,serif\" font-size=\"14.00\">y[0]</text>\n",
       "</g>\n",
       "<!-- SwapTwoBits_G0&#45;&gt;y_G30 -->\n",
       "<g id=\"edge13\" class=\"edge\">\n",
       "<title>SwapTwoBits_G0:e-&gt;y_G30:w</title>\n",
       "<path fill=\"none\" stroke=\"black\" d=\"M137,-34C153.48,-34 156.45,-23.1 171.66,-22.08\"/>\n",
       "<ellipse fill=\"black\" stroke=\"black\" cx=\"173\" cy=\"-22.03\" rx=\"1\" ry=\"1\"/>\n",
       "<text text-anchor=\"middle\" x=\"155.5\" y=\"-31\" font-family=\"Times,serif\" font-size=\"10.00\">1</text>\n",
       "</g>\n",
       "<!-- x_G20 -->\n",
       "<g id=\"node14\" class=\"node\">\n",
       "<title>x_G20</title>\n",
       "<text text-anchor=\"middle\" x=\"201\" y=\"-180.3\" font-family=\"Times,serif\" font-size=\"14.00\">x[1]</text>\n",
       "</g>\n",
       "<!-- SwapTwoBits_G3&#45;&gt;x_G20 -->\n",
       "<g id=\"edge10\" class=\"edge\">\n",
       "<title>SwapTwoBits_G3:e-&gt;x_G20:w</title>\n",
       "<path fill=\"none\" stroke=\"black\" d=\"M137,-168C154.22,-168 155.97,-182.77 171.98,-183.93\"/>\n",
       "<ellipse fill=\"black\" stroke=\"black\" cx=\"173\" cy=\"-183.96\" rx=\"1\" ry=\"1\"/>\n",
       "<text text-anchor=\"middle\" x=\"155.5\" y=\"-179\" font-family=\"Times,serif\" font-size=\"10.00\">1</text>\n",
       "</g>\n",
       "<!-- y_G23 -->\n",
       "<g id=\"node18\" class=\"node\">\n",
       "<title>y_G23</title>\n",
       "<text text-anchor=\"middle\" x=\"201\" y=\"-126.3\" font-family=\"Times,serif\" font-size=\"14.00\">y[1]</text>\n",
       "</g>\n",
       "<!-- SwapTwoBits_G3&#45;&gt;y_G23 -->\n",
       "<g id=\"edge14\" class=\"edge\">\n",
       "<title>SwapTwoBits_G3:e-&gt;y_G23:w</title>\n",
       "<path fill=\"none\" stroke=\"black\" d=\"M137,-146C154.22,-146 155.97,-131.23 171.98,-130.07\"/>\n",
       "<ellipse fill=\"black\" stroke=\"black\" cx=\"173\" cy=\"-130.04\" rx=\"1\" ry=\"1\"/>\n",
       "<text text-anchor=\"middle\" x=\"155.5\" y=\"-141\" font-family=\"Times,serif\" font-size=\"10.00\">1</text>\n",
       "</g>\n",
       "<!-- x_G13 -->\n",
       "<g id=\"node16\" class=\"node\">\n",
       "<title>x_G13</title>\n",
       "<text text-anchor=\"middle\" x=\"201\" y=\"-404.3\" font-family=\"Times,serif\" font-size=\"14.00\">x[3]</text>\n",
       "</g>\n",
       "<!-- SwapTwoBits_G6&#45;&gt;x_G13 -->\n",
       "<g id=\"edge12\" class=\"edge\">\n",
       "<title>SwapTwoBits_G6:e-&gt;x_G13:w</title>\n",
       "<path fill=\"none\" stroke=\"black\" d=\"M137,-400C153.04,-400 156.83,-407.27 171.72,-407.95\"/>\n",
       "<ellipse fill=\"black\" stroke=\"black\" cx=\"173\" cy=\"-407.98\" rx=\"1\" ry=\"1\"/>\n",
       "<text text-anchor=\"middle\" x=\"155.5\" y=\"-407\" font-family=\"Times,serif\" font-size=\"10.00\">1</text>\n",
       "</g>\n",
       "<!-- y_G17 -->\n",
       "<g id=\"node20\" class=\"node\">\n",
       "<title>y_G17</title>\n",
       "<text text-anchor=\"middle\" x=\"201\" y=\"-350.3\" font-family=\"Times,serif\" font-size=\"14.00\">y[3]</text>\n",
       "</g>\n",
       "<!-- SwapTwoBits_G6&#45;&gt;y_G17 -->\n",
       "<g id=\"edge16\" class=\"edge\">\n",
       "<title>SwapTwoBits_G6:e-&gt;y_G17:w</title>\n",
       "<path fill=\"none\" stroke=\"black\" d=\"M137,-378C155.84,-378 154.54,-355.84 171.8,-354.11\"/>\n",
       "<ellipse fill=\"black\" stroke=\"black\" cx=\"173\" cy=\"-354.05\" rx=\"1\" ry=\"1\"/>\n",
       "<text text-anchor=\"middle\" x=\"155.5\" y=\"-369\" font-family=\"Times,serif\" font-size=\"10.00\">1</text>\n",
       "</g>\n",
       "</g>\n",
       "</svg>"
      ],
      "text/plain": [
       "<IPython.core.display.SVG object>"
      ]
     },
     "metadata": {},
     "output_type": "display_data"
    }
   ],
   "source": [
    "cbloq = SwapManyBits(n=4).decompose_bloq()\n",
    "show_bloq(cbloq)"
   ]
  },
  {
   "cell_type": "markdown",
   "id": "41a1cb9a",
   "metadata": {},
   "source": [
    "The problem is now we (once again) have a Python object constructed for each bit:"
   ]
  },
  {
   "cell_type": "code",
   "execution_count": 26,
   "id": "a301b582",
   "metadata": {
    "execution": {
     "iopub.execute_input": "2023-07-21T13:42:55.909983Z",
     "iopub.status.busy": "2023-07-21T13:42:55.909847Z",
     "iopub.status.idle": "2023-07-21T13:42:55.978956Z",
     "shell.execute_reply": "2023-07-21T13:42:55.978525Z"
    }
   },
   "outputs": [
    {
     "data": {
      "image/svg+xml": [
       "<svg xmlns=\"http://www.w3.org/2000/svg\" xmlns:xlink=\"http://www.w3.org/1999/xlink\" width=\"237pt\" height=\"422pt\" viewBox=\"0.00 0.00 237.00 422.00\">\n",
       "<g id=\"graph0\" class=\"graph\" transform=\"scale(1 1) rotate(0) translate(4 418)\">\n",
       "<title>my_graph</title>\n",
       "<polygon fill=\"white\" stroke=\"none\" points=\"-4,4 -4,-418 233,-418 233,4 -4,4\"/>\n",
       "<!-- x_G23 -->\n",
       "<g id=\"node1\" class=\"node\">\n",
       "<title>x_G23</title>\n",
       "<text text-anchor=\"middle\" x=\"27\" y=\"-392.3\" font-family=\"Times,serif\" font-size=\"14.00\">x[0]</text>\n",
       "</g>\n",
       "<!-- SwapManyBits -->\n",
       "<g id=\"node9\" class=\"node\">\n",
       "<title>SwapManyBits</title>\n",
       "<polygon fill=\"none\" stroke=\"black\" points=\"91.5,-291 91.5,-308 138.5,-308 138.5,-291 91.5,-291\"/>\n",
       "<text text-anchor=\"start\" x=\"94.5\" y=\"-297\" font-family=\"Times,serif\" font-size=\"10.00\">SwapMa..</text>\n",
       "<polygon fill=\"none\" stroke=\"black\" points=\"91.5,-270 91.5,-291 138.5,-291 138.5,-270 91.5,-270\"/>\n",
       "<text text-anchor=\"start\" x=\"103.5\" y=\"-276.8\" font-family=\"Times,serif\" font-size=\"14.00\">x[0]</text>\n",
       "<polygon fill=\"none\" stroke=\"black\" points=\"91.5,-249 91.5,-270 138.5,-270 138.5,-249 91.5,-249\"/>\n",
       "<text text-anchor=\"start\" x=\"103.5\" y=\"-255.8\" font-family=\"Times,serif\" font-size=\"14.00\">x[1]</text>\n",
       "<polygon fill=\"none\" stroke=\"black\" points=\"91.5,-228 91.5,-249 138.5,-249 138.5,-228 91.5,-228\"/>\n",
       "<text text-anchor=\"start\" x=\"103.5\" y=\"-234.8\" font-family=\"Times,serif\" font-size=\"14.00\">x[2]</text>\n",
       "<polygon fill=\"none\" stroke=\"black\" points=\"91.5,-207 91.5,-228 138.5,-228 138.5,-207 91.5,-207\"/>\n",
       "<text text-anchor=\"start\" x=\"103.5\" y=\"-213.8\" font-family=\"Times,serif\" font-size=\"14.00\">x[3]</text>\n",
       "<polygon fill=\"none\" stroke=\"black\" points=\"91.5,-186 91.5,-207 138.5,-207 138.5,-186 91.5,-186\"/>\n",
       "<text text-anchor=\"start\" x=\"103.5\" y=\"-192.8\" font-family=\"Times,serif\" font-size=\"14.00\">y[0]</text>\n",
       "<polygon fill=\"none\" stroke=\"black\" points=\"91.5,-165 91.5,-186 138.5,-186 138.5,-165 91.5,-165\"/>\n",
       "<text text-anchor=\"start\" x=\"103.5\" y=\"-171.8\" font-family=\"Times,serif\" font-size=\"14.00\">y[1]</text>\n",
       "<polygon fill=\"none\" stroke=\"black\" points=\"91.5,-144 91.5,-165 138.5,-165 138.5,-144 91.5,-144\"/>\n",
       "<text text-anchor=\"start\" x=\"103.5\" y=\"-150.8\" font-family=\"Times,serif\" font-size=\"14.00\">y[2]</text>\n",
       "<polygon fill=\"none\" stroke=\"black\" points=\"91.5,-123 91.5,-144 138.5,-144 138.5,-123 91.5,-123\"/>\n",
       "<text text-anchor=\"start\" x=\"103.5\" y=\"-129.8\" font-family=\"Times,serif\" font-size=\"14.00\">y[3]</text>\n",
       "</g>\n",
       "<!-- x_G23&#45;&gt;SwapManyBits -->\n",
       "<g id=\"edge1\" class=\"edge\">\n",
       "<title>x_G23:e-&gt;SwapManyBits:w</title>\n",
       "<path fill=\"none\" stroke=\"black\" d=\"M54,-396C80.11,-396 65.03,-287.2 88.89,-281.25\"/>\n",
       "<ellipse fill=\"black\" stroke=\"black\" cx=\"90.01\" cy=\"-281.12\" rx=\"1\" ry=\"1\"/>\n",
       "<text text-anchor=\"middle\" x=\"72.5\" y=\"-344\" font-family=\"Times,serif\" font-size=\"10.00\">1</text>\n",
       "</g>\n",
       "<!-- x_G20 -->\n",
       "<g id=\"node2\" class=\"node\">\n",
       "<title>x_G20</title>\n",
       "<text text-anchor=\"middle\" x=\"27\" y=\"-338.3\" font-family=\"Times,serif\" font-size=\"14.00\">x[1]</text>\n",
       "</g>\n",
       "<!-- x_G20&#45;&gt;SwapManyBits -->\n",
       "<g id=\"edge2\" class=\"edge\">\n",
       "<title>x_G20:e-&gt;SwapManyBits:w</title>\n",
       "<path fill=\"none\" stroke=\"black\" d=\"M54,-342C93.2,-342 52.66,-263.17 88.75,-260.09\"/>\n",
       "<ellipse fill=\"black\" stroke=\"black\" cx=\"90\" cy=\"-260.04\" rx=\"1\" ry=\"1\"/>\n",
       "<text text-anchor=\"middle\" x=\"72.5\" y=\"-327\" font-family=\"Times,serif\" font-size=\"10.00\">1</text>\n",
       "</g>\n",
       "<!-- x_G0 -->\n",
       "<g id=\"node3\" class=\"node\">\n",
       "<title>x_G0</title>\n",
       "<text text-anchor=\"middle\" x=\"27\" y=\"-284.3\" font-family=\"Times,serif\" font-size=\"14.00\">x[2]</text>\n",
       "</g>\n",
       "<!-- x_G0&#45;&gt;SwapManyBits -->\n",
       "<g id=\"edge3\" class=\"edge\">\n",
       "<title>x_G0:e-&gt;SwapManyBits:w</title>\n",
       "<path fill=\"none\" stroke=\"black\" d=\"M54,-288C80.54,-288 64.64,-241.64 88.86,-239.11\"/>\n",
       "<ellipse fill=\"black\" stroke=\"black\" cx=\"90\" cy=\"-239.05\" rx=\"1\" ry=\"1\"/>\n",
       "<text text-anchor=\"middle\" x=\"72.5\" y=\"-267\" font-family=\"Times,serif\" font-size=\"10.00\">1</text>\n",
       "</g>\n",
       "<!-- x_G5 -->\n",
       "<g id=\"node4\" class=\"node\">\n",
       "<title>x_G5</title>\n",
       "<text text-anchor=\"middle\" x=\"27\" y=\"-230.3\" font-family=\"Times,serif\" font-size=\"14.00\">x[3]</text>\n",
       "</g>\n",
       "<!-- x_G5&#45;&gt;SwapManyBits -->\n",
       "<g id=\"edge4\" class=\"edge\">\n",
       "<title>x_G5:e-&gt;SwapManyBits:w</title>\n",
       "<path fill=\"none\" stroke=\"black\" d=\"M54,-234C71.22,-234 72.97,-219.23 88.98,-218.07\"/>\n",
       "<ellipse fill=\"black\" stroke=\"black\" cx=\"90\" cy=\"-218.04\" rx=\"1\" ry=\"1\"/>\n",
       "<text text-anchor=\"middle\" x=\"72.5\" y=\"-229\" font-family=\"Times,serif\" font-size=\"10.00\">1</text>\n",
       "</g>\n",
       "<!-- y_G18 -->\n",
       "<g id=\"node5\" class=\"node\">\n",
       "<title>y_G18</title>\n",
       "<text text-anchor=\"middle\" x=\"27\" y=\"-176.3\" font-family=\"Times,serif\" font-size=\"14.00\">y[0]</text>\n",
       "</g>\n",
       "<!-- y_G18&#45;&gt;SwapManyBits -->\n",
       "<g id=\"edge5\" class=\"edge\">\n",
       "<title>y_G18:e-&gt;SwapManyBits:w</title>\n",
       "<path fill=\"none\" stroke=\"black\" d=\"M54,-180C71.22,-180 72.97,-194.77 88.98,-195.93\"/>\n",
       "<ellipse fill=\"black\" stroke=\"black\" cx=\"90\" cy=\"-195.96\" rx=\"1\" ry=\"1\"/>\n",
       "<text text-anchor=\"middle\" x=\"72.5\" y=\"-191\" font-family=\"Times,serif\" font-size=\"10.00\">1</text>\n",
       "</g>\n",
       "<!-- y_G14 -->\n",
       "<g id=\"node6\" class=\"node\">\n",
       "<title>y_G14</title>\n",
       "<text text-anchor=\"middle\" x=\"27\" y=\"-122.3\" font-family=\"Times,serif\" font-size=\"14.00\">y[1]</text>\n",
       "</g>\n",
       "<!-- y_G14&#45;&gt;SwapManyBits -->\n",
       "<g id=\"edge6\" class=\"edge\">\n",
       "<title>y_G14:e-&gt;SwapManyBits:w</title>\n",
       "<path fill=\"none\" stroke=\"black\" d=\"M54,-126C80.54,-126 64.64,-172.36 88.86,-174.89\"/>\n",
       "<ellipse fill=\"black\" stroke=\"black\" cx=\"90\" cy=\"-174.95\" rx=\"1\" ry=\"1\"/>\n",
       "<text text-anchor=\"middle\" x=\"72.5\" y=\"-154\" font-family=\"Times,serif\" font-size=\"10.00\">1</text>\n",
       "</g>\n",
       "<!-- y_G10 -->\n",
       "<g id=\"node7\" class=\"node\">\n",
       "<title>y_G10</title>\n",
       "<text text-anchor=\"middle\" x=\"27\" y=\"-68.3\" font-family=\"Times,serif\" font-size=\"14.00\">y[2]</text>\n",
       "</g>\n",
       "<!-- y_G10&#45;&gt;SwapManyBits -->\n",
       "<g id=\"edge7\" class=\"edge\">\n",
       "<title>y_G10:e-&gt;SwapManyBits:w</title>\n",
       "<path fill=\"none\" stroke=\"black\" d=\"M54,-72C93.2,-72 52.66,-150.83 88.75,-153.91\"/>\n",
       "<ellipse fill=\"black\" stroke=\"black\" cx=\"90\" cy=\"-153.96\" rx=\"1\" ry=\"1\"/>\n",
       "<text text-anchor=\"middle\" x=\"72.5\" y=\"-139\" font-family=\"Times,serif\" font-size=\"10.00\">1</text>\n",
       "</g>\n",
       "<!-- y_G3 -->\n",
       "<g id=\"node8\" class=\"node\">\n",
       "<title>y_G3</title>\n",
       "<text text-anchor=\"middle\" x=\"27\" y=\"-14.3\" font-family=\"Times,serif\" font-size=\"14.00\">y[3]</text>\n",
       "</g>\n",
       "<!-- y_G3&#45;&gt;SwapManyBits -->\n",
       "<g id=\"edge8\" class=\"edge\">\n",
       "<title>y_G3:e-&gt;SwapManyBits:w</title>\n",
       "<path fill=\"none\" stroke=\"black\" d=\"M54,-18C80.11,-18 65.03,-126.8 88.89,-132.75\"/>\n",
       "<ellipse fill=\"black\" stroke=\"black\" cx=\"90.01\" cy=\"-132.88\" rx=\"1\" ry=\"1\"/>\n",
       "<text text-anchor=\"middle\" x=\"72.5\" y=\"-82\" font-family=\"Times,serif\" font-size=\"10.00\">1</text>\n",
       "</g>\n",
       "<!-- x_G11 -->\n",
       "<g id=\"node10\" class=\"node\">\n",
       "<title>x_G11</title>\n",
       "<text text-anchor=\"middle\" x=\"202\" y=\"-392.3\" font-family=\"Times,serif\" font-size=\"14.00\">x[0]</text>\n",
       "</g>\n",
       "<!-- SwapManyBits&#45;&gt;x_G11 -->\n",
       "<g id=\"edge9\" class=\"edge\">\n",
       "<title>SwapManyBits:e-&gt;x_G11:w</title>\n",
       "<path fill=\"none\" stroke=\"black\" d=\"M138,-281C164.11,-281 149.03,-389.8 172.89,-395.75\"/>\n",
       "<ellipse fill=\"black\" stroke=\"black\" cx=\"174.01\" cy=\"-395.88\" rx=\"1\" ry=\"1\"/>\n",
       "<text text-anchor=\"middle\" x=\"156.5\" y=\"-344\" font-family=\"Times,serif\" font-size=\"10.00\">1</text>\n",
       "</g>\n",
       "<!-- x_G8 -->\n",
       "<g id=\"node11\" class=\"node\">\n",
       "<title>x_G8</title>\n",
       "<text text-anchor=\"middle\" x=\"202\" y=\"-338.3\" font-family=\"Times,serif\" font-size=\"14.00\">x[1]</text>\n",
       "</g>\n",
       "<!-- SwapManyBits&#45;&gt;x_G8 -->\n",
       "<g id=\"edge10\" class=\"edge\">\n",
       "<title>SwapManyBits:e-&gt;x_G8:w</title>\n",
       "<path fill=\"none\" stroke=\"black\" d=\"M138,-260C177.2,-260 136.66,-338.83 172.75,-341.91\"/>\n",
       "<ellipse fill=\"black\" stroke=\"black\" cx=\"174\" cy=\"-341.96\" rx=\"1\" ry=\"1\"/>\n",
       "<text text-anchor=\"middle\" x=\"156.5\" y=\"-327\" font-family=\"Times,serif\" font-size=\"10.00\">1</text>\n",
       "</g>\n",
       "<!-- x_G15 -->\n",
       "<g id=\"node12\" class=\"node\">\n",
       "<title>x_G15</title>\n",
       "<text text-anchor=\"middle\" x=\"202\" y=\"-284.3\" font-family=\"Times,serif\" font-size=\"14.00\">x[2]</text>\n",
       "</g>\n",
       "<!-- SwapManyBits&#45;&gt;x_G15 -->\n",
       "<g id=\"edge11\" class=\"edge\">\n",
       "<title>SwapManyBits:e-&gt;x_G15:w</title>\n",
       "<path fill=\"none\" stroke=\"black\" d=\"M138,-239C164.54,-239 148.64,-285.36 172.86,-287.89\"/>\n",
       "<ellipse fill=\"black\" stroke=\"black\" cx=\"174\" cy=\"-287.95\" rx=\"1\" ry=\"1\"/>\n",
       "<text text-anchor=\"middle\" x=\"156.5\" y=\"-267\" font-family=\"Times,serif\" font-size=\"10.00\">1</text>\n",
       "</g>\n",
       "<!-- x_G1 -->\n",
       "<g id=\"node13\" class=\"node\">\n",
       "<title>x_G1</title>\n",
       "<text text-anchor=\"middle\" x=\"202\" y=\"-230.3\" font-family=\"Times,serif\" font-size=\"14.00\">x[3]</text>\n",
       "</g>\n",
       "<!-- SwapManyBits&#45;&gt;x_G1 -->\n",
       "<g id=\"edge12\" class=\"edge\">\n",
       "<title>SwapManyBits:e-&gt;x_G1:w</title>\n",
       "<path fill=\"none\" stroke=\"black\" d=\"M138,-218C155.22,-218 156.97,-232.77 172.98,-233.93\"/>\n",
       "<ellipse fill=\"black\" stroke=\"black\" cx=\"174\" cy=\"-233.96\" rx=\"1\" ry=\"1\"/>\n",
       "<text text-anchor=\"middle\" x=\"156.5\" y=\"-229\" font-family=\"Times,serif\" font-size=\"10.00\">1</text>\n",
       "</g>\n",
       "<!-- y_G21 -->\n",
       "<g id=\"node14\" class=\"node\">\n",
       "<title>y_G21</title>\n",
       "<text text-anchor=\"middle\" x=\"202\" y=\"-176.3\" font-family=\"Times,serif\" font-size=\"14.00\">y[0]</text>\n",
       "</g>\n",
       "<!-- SwapManyBits&#45;&gt;y_G21 -->\n",
       "<g id=\"edge13\" class=\"edge\">\n",
       "<title>SwapManyBits:e-&gt;y_G21:w</title>\n",
       "<path fill=\"none\" stroke=\"black\" d=\"M138,-196C155.22,-196 156.97,-181.23 172.98,-180.07\"/>\n",
       "<ellipse fill=\"black\" stroke=\"black\" cx=\"174\" cy=\"-180.04\" rx=\"1\" ry=\"1\"/>\n",
       "<text text-anchor=\"middle\" x=\"156.5\" y=\"-191\" font-family=\"Times,serif\" font-size=\"10.00\">1</text>\n",
       "</g>\n",
       "<!-- y_G13 -->\n",
       "<g id=\"node15\" class=\"node\">\n",
       "<title>y_G13</title>\n",
       "<text text-anchor=\"middle\" x=\"202\" y=\"-122.3\" font-family=\"Times,serif\" font-size=\"14.00\">y[1]</text>\n",
       "</g>\n",
       "<!-- SwapManyBits&#45;&gt;y_G13 -->\n",
       "<g id=\"edge14\" class=\"edge\">\n",
       "<title>SwapManyBits:e-&gt;y_G13:w</title>\n",
       "<path fill=\"none\" stroke=\"black\" d=\"M138,-175C164.54,-175 148.64,-128.64 172.86,-126.11\"/>\n",
       "<ellipse fill=\"black\" stroke=\"black\" cx=\"174\" cy=\"-126.05\" rx=\"1\" ry=\"1\"/>\n",
       "<text text-anchor=\"middle\" x=\"156.5\" y=\"-154\" font-family=\"Times,serif\" font-size=\"10.00\">1</text>\n",
       "</g>\n",
       "<!-- y_G22 -->\n",
       "<g id=\"node16\" class=\"node\">\n",
       "<title>y_G22</title>\n",
       "<text text-anchor=\"middle\" x=\"202\" y=\"-68.3\" font-family=\"Times,serif\" font-size=\"14.00\">y[2]</text>\n",
       "</g>\n",
       "<!-- SwapManyBits&#45;&gt;y_G22 -->\n",
       "<g id=\"edge15\" class=\"edge\">\n",
       "<title>SwapManyBits:e-&gt;y_G22:w</title>\n",
       "<path fill=\"none\" stroke=\"black\" d=\"M138,-154C177.2,-154 136.66,-75.17 172.75,-72.09\"/>\n",
       "<ellipse fill=\"black\" stroke=\"black\" cx=\"174\" cy=\"-72.04\" rx=\"1\" ry=\"1\"/>\n",
       "<text text-anchor=\"middle\" x=\"156.5\" y=\"-139\" font-family=\"Times,serif\" font-size=\"10.00\">1</text>\n",
       "</g>\n",
       "<!-- y_G4 -->\n",
       "<g id=\"node17\" class=\"node\">\n",
       "<title>y_G4</title>\n",
       "<text text-anchor=\"middle\" x=\"202\" y=\"-14.3\" font-family=\"Times,serif\" font-size=\"14.00\">y[3]</text>\n",
       "</g>\n",
       "<!-- SwapManyBits&#45;&gt;y_G4 -->\n",
       "<g id=\"edge16\" class=\"edge\">\n",
       "<title>SwapManyBits:e-&gt;y_G4:w</title>\n",
       "<path fill=\"none\" stroke=\"black\" d=\"M138,-133C164.11,-133 149.03,-24.2 172.89,-18.25\"/>\n",
       "<ellipse fill=\"black\" stroke=\"black\" cx=\"174.01\" cy=\"-18.12\" rx=\"1\" ry=\"1\"/>\n",
       "<text text-anchor=\"middle\" x=\"156.5\" y=\"-82\" font-family=\"Times,serif\" font-size=\"10.00\">1</text>\n",
       "</g>\n",
       "</g>\n",
       "</svg>"
      ],
      "text/plain": [
       "<IPython.core.display.SVG object>"
      ]
     },
     "metadata": {},
     "output_type": "display_data"
    }
   ],
   "source": [
    "show_bloq(SwapManyBits(n=4))"
   ]
  },
  {
   "cell_type": "markdown",
   "id": "57f16270",
   "metadata": {},
   "source": [
    "<div class=\"alert alert-block alert-info\">Forget about trying to show `n=10_000`.</div>\n",
    "\n",
    "Can we have the best of both worlds? Yes: the general technique is to represent the Bloq\n",
    "definition in as high-level terms as practical and use `bb.split(...)` and `bb.join(...)`\n",
    "to break apart registers during decomposition. This way a user can use the Bloq as a black-box\n",
    "without incurring the performance overhead of representing each bit if they do not care about\n",
    "the decomposition. If they *are* interested in the decomposition, then the cost will only be\n",
    "paid when actually doing the decomposition."
   ]
  },
  {
   "cell_type": "code",
   "execution_count": 27,
   "id": "99f9fd52",
   "metadata": {
    "execution": {
     "iopub.execute_input": "2023-07-21T13:42:55.980877Z",
     "iopub.status.busy": "2023-07-21T13:42:55.980716Z",
     "iopub.status.idle": "2023-07-21T13:42:55.984312Z",
     "shell.execute_reply": "2023-07-21T13:42:55.984002Z"
    }
   },
   "outputs": [],
   "source": [
    "@attrs.frozen\n",
    "class Swap(Bloq):\n",
    "    n: int\n",
    "\n",
    "    @property\n",
    "    def signature(self):\n",
    "        return Signature.build(x=self.n, y=self.n)\n",
    "\n",
    "    def build_composite_bloq(\n",
    "            self, bb: BloqBuilder, *, x: SoquetT, y: SoquetT\n",
    "    ) -> Dict[str, SoquetT]:\n",
    "        xs = bb.split(x)\n",
    "        ys = bb.split(y)\n",
    "\n",
    "        for i in range(self.n):\n",
    "            xs[i], ys[i] = bb.add(SwapTwoBits(), x=xs[i], y=ys[i])\n",
    "        return {\n",
    "            'x': bb.join(xs),\n",
    "            'y': bb.join(ys),\n",
    "        }"
   ]
  },
  {
   "cell_type": "code",
   "execution_count": 28,
   "id": "c5932695",
   "metadata": {
    "execution": {
     "iopub.execute_input": "2023-07-21T13:42:55.986028Z",
     "iopub.status.busy": "2023-07-21T13:42:55.985932Z",
     "iopub.status.idle": "2023-07-21T13:42:56.055336Z",
     "shell.execute_reply": "2023-07-21T13:42:56.054921Z"
    }
   },
   "outputs": [
    {
     "data": {
      "image/svg+xml": [
       "<svg xmlns=\"http://www.w3.org/2000/svg\" xmlns:xlink=\"http://www.w3.org/1999/xlink\" width=\"334pt\" height=\"375pt\" viewBox=\"0.00 0.00 334.00 375.00\">\n",
       "<g id=\"graph0\" class=\"graph\" transform=\"scale(1 1) rotate(0) translate(4 371)\">\n",
       "<title>my_graph</title>\n",
       "<polygon fill=\"white\" stroke=\"none\" points=\"-4,4 -4,-371 330,-371 330,4 -4,4\"/>\n",
       "<!-- x_G21 -->\n",
       "<g id=\"node1\" class=\"node\">\n",
       "<title>x_G21</title>\n",
       "<text text-anchor=\"middle\" x=\"27\" y=\"-214.8\" font-family=\"Times,serif\" font-size=\"14.00\">x</text>\n",
       "</g>\n",
       "<!-- Split_G14 -->\n",
       "<g id=\"node11\" class=\"node\">\n",
       "<title>Split_G14</title>\n",
       "<polygon fill=\"none\" stroke=\"black\" points=\"91,-233.5 91,-239.5 103,-239.5 103,-233.5 91,-233.5\"/>\n",
       "<polygon fill=\"none\" stroke=\"black\" points=\"91,-203.5 91,-233.5 97,-233.5 97,-203.5 91,-203.5\"/>\n",
       "<polygon fill=\"none\" stroke=\"black\" points=\"97,-227.5 97,-233.5 103,-233.5 103,-227.5 97,-227.5\"/>\n",
       "<polygon fill=\"none\" stroke=\"black\" points=\"97,-221.5 97,-227.5 103,-227.5 103,-221.5 97,-221.5\"/>\n",
       "<polygon fill=\"none\" stroke=\"black\" points=\"97,-215.5 97,-221.5 103,-221.5 103,-215.5 97,-215.5\"/>\n",
       "<polygon fill=\"none\" stroke=\"black\" points=\"97,-209.5 97,-215.5 103,-215.5 103,-209.5 97,-209.5\"/>\n",
       "<polygon fill=\"none\" stroke=\"black\" points=\"97,-203.5 97,-209.5 103,-209.5 103,-203.5 97,-203.5\"/>\n",
       "</g>\n",
       "<!-- x_G21&#45;&gt;Split_G14 -->\n",
       "<g id=\"edge1\" class=\"edge\">\n",
       "<title>x_G21:e-&gt;Split_G14:w</title>\n",
       "<path fill=\"none\" stroke=\"black\" d=\"M54,-218.5C69.67,-218.5 74.14,-218.5 88.77,-218.5\"/>\n",
       "<ellipse fill=\"black\" stroke=\"black\" cx=\"90\" cy=\"-218.5\" rx=\"1\" ry=\"1\"/>\n",
       "<text text-anchor=\"middle\" x=\"72.5\" y=\"-221.5\" font-family=\"Times,serif\" font-size=\"10.00\">5</text>\n",
       "</g>\n",
       "<!-- y_G32 -->\n",
       "<g id=\"node2\" class=\"node\">\n",
       "<title>y_G32</title>\n",
       "<text text-anchor=\"middle\" x=\"27\" y=\"-118.8\" font-family=\"Times,serif\" font-size=\"14.00\">y</text>\n",
       "</g>\n",
       "<!-- Split -->\n",
       "<g id=\"node8\" class=\"node\">\n",
       "<title>Split</title>\n",
       "<polygon fill=\"none\" stroke=\"black\" points=\"91,-137.5 91,-143.5 103,-143.5 103,-137.5 91,-137.5\"/>\n",
       "<polygon fill=\"none\" stroke=\"black\" points=\"91,-107.5 91,-137.5 97,-137.5 97,-107.5 91,-107.5\"/>\n",
       "<polygon fill=\"none\" stroke=\"black\" points=\"97,-131.5 97,-137.5 103,-137.5 103,-131.5 97,-131.5\"/>\n",
       "<polygon fill=\"none\" stroke=\"black\" points=\"97,-125.5 97,-131.5 103,-131.5 103,-125.5 97,-125.5\"/>\n",
       "<polygon fill=\"none\" stroke=\"black\" points=\"97,-119.5 97,-125.5 103,-125.5 103,-119.5 97,-119.5\"/>\n",
       "<polygon fill=\"none\" stroke=\"black\" points=\"97,-113.5 97,-119.5 103,-119.5 103,-113.5 97,-113.5\"/>\n",
       "<polygon fill=\"none\" stroke=\"black\" points=\"97,-107.5 97,-113.5 103,-113.5 103,-107.5 97,-107.5\"/>\n",
       "</g>\n",
       "<!-- y_G32&#45;&gt;Split -->\n",
       "<g id=\"edge2\" class=\"edge\">\n",
       "<title>y_G32:e-&gt;Split:w</title>\n",
       "<path fill=\"none\" stroke=\"black\" d=\"M54,-122.5C69.67,-122.5 74.14,-122.5 88.77,-122.5\"/>\n",
       "<ellipse fill=\"black\" stroke=\"black\" cx=\"90\" cy=\"-122.5\" rx=\"1\" ry=\"1\"/>\n",
       "<text text-anchor=\"middle\" x=\"72.5\" y=\"-125.5\" font-family=\"Times,serif\" font-size=\"10.00\">5</text>\n",
       "</g>\n",
       "<!-- SwapTwoBits -->\n",
       "<g id=\"node3\" class=\"node\">\n",
       "<title>SwapTwoBits</title>\n",
       "<polygon fill=\"none\" stroke=\"black\" points=\"140,-195.5 140,-212.5 186,-212.5 186,-195.5 140,-195.5\"/>\n",
       "<text text-anchor=\"start\" x=\"143\" y=\"-201.5\" font-family=\"Times,serif\" font-size=\"10.00\">SwapTw..</text>\n",
       "<polygon fill=\"none\" stroke=\"black\" points=\"140,-174.5 140,-195.5 186,-195.5 186,-174.5 140,-174.5\"/>\n",
       "<text text-anchor=\"start\" x=\"159.5\" y=\"-181.3\" font-family=\"Times,serif\" font-size=\"14.00\">x</text>\n",
       "<polygon fill=\"none\" stroke=\"black\" points=\"140,-153.5 140,-174.5 186,-174.5 186,-153.5 140,-153.5\"/>\n",
       "<text text-anchor=\"start\" x=\"159.5\" y=\"-160.3\" font-family=\"Times,serif\" font-size=\"14.00\">y</text>\n",
       "</g>\n",
       "<!-- Join -->\n",
       "<g id=\"node6\" class=\"node\">\n",
       "<title>Join</title>\n",
       "<polygon fill=\"none\" stroke=\"black\" points=\"223,-228.5 223,-234.5 235,-234.5 235,-228.5 223,-228.5\"/>\n",
       "<polygon fill=\"none\" stroke=\"black\" points=\"223,-222.5 223,-228.5 229,-228.5 229,-222.5 223,-222.5\"/>\n",
       "<polygon fill=\"none\" stroke=\"black\" points=\"229,-198.5 229,-228.5 235,-228.5 235,-198.5 229,-198.5\"/>\n",
       "<polygon fill=\"none\" stroke=\"black\" points=\"223,-216.5 223,-222.5 229,-222.5 229,-216.5 223,-216.5\"/>\n",
       "<polygon fill=\"none\" stroke=\"black\" points=\"223,-210.5 223,-216.5 229,-216.5 229,-210.5 223,-210.5\"/>\n",
       "<polygon fill=\"none\" stroke=\"black\" points=\"223,-204.5 223,-210.5 229,-210.5 229,-204.5 223,-204.5\"/>\n",
       "<polygon fill=\"none\" stroke=\"black\" points=\"223,-198.5 223,-204.5 229,-204.5 229,-198.5 223,-198.5\"/>\n",
       "</g>\n",
       "<!-- SwapTwoBits&#45;&gt;Join -->\n",
       "<g id=\"edge15\" class=\"edge\">\n",
       "<title>SwapTwoBits:e-&gt;Join:w</title>\n",
       "<path fill=\"none\" stroke=\"black\" d=\"M186,-185.5C205.82,-185.5 202.67,-211.36 220.69,-213.38\"/>\n",
       "<ellipse fill=\"black\" stroke=\"black\" cx=\"222\" cy=\"-213.45\" rx=\"1\" ry=\"1\"/>\n",
       "<text text-anchor=\"middle\" x=\"204.5\" y=\"-202.5\" font-family=\"Times,serif\" font-size=\"10.00\">1</text>\n",
       "</g>\n",
       "<!-- Join_G12 -->\n",
       "<g id=\"node10\" class=\"node\">\n",
       "<title>Join_G12</title>\n",
       "<polygon fill=\"none\" stroke=\"black\" points=\"223,-156.5 223,-162.5 235,-162.5 235,-156.5 223,-156.5\"/>\n",
       "<polygon fill=\"none\" stroke=\"black\" points=\"223,-150.5 223,-156.5 229,-156.5 229,-150.5 223,-150.5\"/>\n",
       "<polygon fill=\"none\" stroke=\"black\" points=\"229,-126.5 229,-156.5 235,-156.5 235,-126.5 229,-126.5\"/>\n",
       "<polygon fill=\"none\" stroke=\"black\" points=\"223,-144.5 223,-150.5 229,-150.5 229,-144.5 223,-144.5\"/>\n",
       "<polygon fill=\"none\" stroke=\"black\" points=\"223,-138.5 223,-144.5 229,-144.5 229,-138.5 223,-138.5\"/>\n",
       "<polygon fill=\"none\" stroke=\"black\" points=\"223,-132.5 223,-138.5 229,-138.5 229,-132.5 223,-132.5\"/>\n",
       "<polygon fill=\"none\" stroke=\"black\" points=\"223,-126.5 223,-132.5 229,-132.5 229,-126.5 223,-126.5\"/>\n",
       "</g>\n",
       "<!-- SwapTwoBits&#45;&gt;Join_G12 -->\n",
       "<g id=\"edge20\" class=\"edge\">\n",
       "<title>SwapTwoBits:e-&gt;Join_G12:w</title>\n",
       "<path fill=\"none\" stroke=\"black\" d=\"M186,-163.5C195.87,-163.5 195.51,-155.52 204,-150.5 211.41,-146.12 213.36,-142.17 220.94,-141.58\"/>\n",
       "<ellipse fill=\"black\" stroke=\"black\" cx=\"222\" cy=\"-141.54\" rx=\"1\" ry=\"1\"/>\n",
       "<text text-anchor=\"middle\" x=\"204.5\" y=\"-153.5\" font-family=\"Times,serif\" font-size=\"10.00\">1</text>\n",
       "</g>\n",
       "<!-- SwapTwoBits_G0 -->\n",
       "<g id=\"node4\" class=\"node\">\n",
       "<title>SwapTwoBits_G0</title>\n",
       "<polygon fill=\"none\" stroke=\"black\" points=\"140,-41.5 140,-58.5 186,-58.5 186,-41.5 140,-41.5\"/>\n",
       "<text text-anchor=\"start\" x=\"143\" y=\"-47.5\" font-family=\"Times,serif\" font-size=\"10.00\">SwapTw..</text>\n",
       "<polygon fill=\"none\" stroke=\"black\" points=\"140,-20.5 140,-41.5 186,-41.5 186,-20.5 140,-20.5\"/>\n",
       "<text text-anchor=\"start\" x=\"159.5\" y=\"-27.3\" font-family=\"Times,serif\" font-size=\"14.00\">x</text>\n",
       "<polygon fill=\"none\" stroke=\"black\" points=\"140,0.5 140,-20.5 186,-20.5 186,0.5 140,0.5\"/>\n",
       "<text text-anchor=\"start\" x=\"159.5\" y=\"-6.3\" font-family=\"Times,serif\" font-size=\"14.00\">y</text>\n",
       "</g>\n",
       "<!-- SwapTwoBits_G0&#45;&gt;Join -->\n",
       "<g id=\"edge17\" class=\"edge\">\n",
       "<title>SwapTwoBits_G0:e-&gt;Join:w</title>\n",
       "<path fill=\"none\" stroke=\"black\" d=\"M186,-31.5C204.58,-31.5 203.77,-188.48 220.83,-200.74\"/>\n",
       "<ellipse fill=\"black\" stroke=\"black\" cx=\"222.06\" cy=\"-201.17\" rx=\"1\" ry=\"1\"/>\n",
       "<text text-anchor=\"middle\" x=\"204.5\" y=\"-119.5\" font-family=\"Times,serif\" font-size=\"10.00\">1</text>\n",
       "</g>\n",
       "<!-- SwapTwoBits_G0&#45;&gt;Join_G12 -->\n",
       "<g id=\"edge22\" class=\"edge\">\n",
       "<title>SwapTwoBits_G0:e-&gt;Join_G12:w</title>\n",
       "<path fill=\"none\" stroke=\"black\" d=\"M186,-9.5C213.14,-9.5 196.09,-123.03 220.81,-129.24\"/>\n",
       "<ellipse fill=\"black\" stroke=\"black\" cx=\"222.01\" cy=\"-129.38\" rx=\"1\" ry=\"1\"/>\n",
       "<text text-anchor=\"middle\" x=\"204.5\" y=\"-75.5\" font-family=\"Times,serif\" font-size=\"10.00\">1</text>\n",
       "</g>\n",
       "<!-- SwapTwoBits_G3 -->\n",
       "<g id=\"node5\" class=\"node\">\n",
       "<title>SwapTwoBits_G3</title>\n",
       "<polygon fill=\"none\" stroke=\"black\" points=\"140,-272.5 140,-289.5 186,-289.5 186,-272.5 140,-272.5\"/>\n",
       "<text text-anchor=\"start\" x=\"143\" y=\"-278.5\" font-family=\"Times,serif\" font-size=\"10.00\">SwapTw..</text>\n",
       "<polygon fill=\"none\" stroke=\"black\" points=\"140,-251.5 140,-272.5 186,-272.5 186,-251.5 140,-251.5\"/>\n",
       "<text text-anchor=\"start\" x=\"159.5\" y=\"-258.3\" font-family=\"Times,serif\" font-size=\"14.00\">x</text>\n",
       "<polygon fill=\"none\" stroke=\"black\" points=\"140,-230.5 140,-251.5 186,-251.5 186,-230.5 140,-230.5\"/>\n",
       "<text text-anchor=\"start\" x=\"159.5\" y=\"-237.3\" font-family=\"Times,serif\" font-size=\"14.00\">y</text>\n",
       "</g>\n",
       "<!-- SwapTwoBits_G3&#45;&gt;Join -->\n",
       "<g id=\"edge14\" class=\"edge\">\n",
       "<title>SwapTwoBits_G3:e-&gt;Join:w</title>\n",
       "<path fill=\"none\" stroke=\"black\" d=\"M186,-262.5C197.92,-262.5 209.1,-224.07 220.94,-219.87\"/>\n",
       "<ellipse fill=\"black\" stroke=\"black\" cx=\"222.02\" cy=\"-219.68\" rx=\"1\" ry=\"1\"/>\n",
       "<text text-anchor=\"middle\" x=\"204.5\" y=\"-243.5\" font-family=\"Times,serif\" font-size=\"10.00\">1</text>\n",
       "</g>\n",
       "<!-- SwapTwoBits_G3&#45;&gt;Join_G12 -->\n",
       "<g id=\"edge19\" class=\"edge\">\n",
       "<title>SwapTwoBits_G3:e-&gt;Join_G12:w</title>\n",
       "<path fill=\"none\" stroke=\"black\" d=\"M186,-240.5C207.55,-240.5 201.2,-153.22 221,-147.77\"/>\n",
       "<ellipse fill=\"black\" stroke=\"black\" cx=\"222.01\" cy=\"-147.63\" rx=\"1\" ry=\"1\"/>\n",
       "<text text-anchor=\"middle\" x=\"204.5\" y=\"-199.5\" font-family=\"Times,serif\" font-size=\"10.00\">1</text>\n",
       "</g>\n",
       "<!-- x_G39 -->\n",
       "<g id=\"node12\" class=\"node\">\n",
       "<title>x_G39</title>\n",
       "<text text-anchor=\"middle\" x=\"299\" y=\"-209.8\" font-family=\"Times,serif\" font-size=\"14.00\">x</text>\n",
       "</g>\n",
       "<!-- Join&#45;&gt;x_G39 -->\n",
       "<g id=\"edge23\" class=\"edge\">\n",
       "<title>Join:e-&gt;x_G39:w</title>\n",
       "<path fill=\"none\" stroke=\"black\" d=\"M235,-213.5C250.67,-213.5 255.14,-213.5 269.77,-213.5\"/>\n",
       "<ellipse fill=\"black\" stroke=\"black\" cx=\"271\" cy=\"-213.5\" rx=\"1\" ry=\"1\"/>\n",
       "<text text-anchor=\"middle\" x=\"253.5\" y=\"-216.5\" font-family=\"Times,serif\" font-size=\"10.00\">5</text>\n",
       "</g>\n",
       "<!-- SwapTwoBits_G6 -->\n",
       "<g id=\"node7\" class=\"node\">\n",
       "<title>SwapTwoBits_G6</title>\n",
       "<polygon fill=\"none\" stroke=\"black\" points=\"140,-349.5 140,-366.5 186,-366.5 186,-349.5 140,-349.5\"/>\n",
       "<text text-anchor=\"start\" x=\"143\" y=\"-355.5\" font-family=\"Times,serif\" font-size=\"10.00\">SwapTw..</text>\n",
       "<polygon fill=\"none\" stroke=\"black\" points=\"140,-328.5 140,-349.5 186,-349.5 186,-328.5 140,-328.5\"/>\n",
       "<text text-anchor=\"start\" x=\"159.5\" y=\"-335.3\" font-family=\"Times,serif\" font-size=\"14.00\">x</text>\n",
       "<polygon fill=\"none\" stroke=\"black\" points=\"140,-307.5 140,-328.5 186,-328.5 186,-307.5 140,-307.5\"/>\n",
       "<text text-anchor=\"start\" x=\"159.5\" y=\"-314.3\" font-family=\"Times,serif\" font-size=\"14.00\">y</text>\n",
       "</g>\n",
       "<!-- SwapTwoBits_G6&#45;&gt;Join -->\n",
       "<g id=\"edge13\" class=\"edge\">\n",
       "<title>SwapTwoBits_G6:e-&gt;Join:w</title>\n",
       "<path fill=\"none\" stroke=\"black\" d=\"M186,-339.5C211.91,-339.5 197.22,-231.65 220.91,-225.75\"/>\n",
       "<ellipse fill=\"black\" stroke=\"black\" cx=\"222.01\" cy=\"-225.62\" rx=\"1\" ry=\"1\"/>\n",
       "<text text-anchor=\"middle\" x=\"204.5\" y=\"-288.5\" font-family=\"Times,serif\" font-size=\"10.00\">1</text>\n",
       "</g>\n",
       "<!-- SwapTwoBits_G6&#45;&gt;Join_G12 -->\n",
       "<g id=\"edge18\" class=\"edge\">\n",
       "<title>SwapTwoBits_G6:e-&gt;Join_G12:w</title>\n",
       "<path fill=\"none\" stroke=\"black\" d=\"M186,-317.5C203.95,-317.5 204.32,-166.06 220.9,-154.23\"/>\n",
       "<ellipse fill=\"black\" stroke=\"black\" cx=\"222.06\" cy=\"-153.83\" rx=\"1\" ry=\"1\"/>\n",
       "<text text-anchor=\"middle\" x=\"204.5\" y=\"-238.5\" font-family=\"Times,serif\" font-size=\"10.00\">1</text>\n",
       "</g>\n",
       "<!-- Split&#45;&gt;SwapTwoBits -->\n",
       "<g id=\"edge8\" class=\"edge\">\n",
       "<title>Split:e-&gt;SwapTwoBits:w</title>\n",
       "<path fill=\"none\" stroke=\"black\" d=\"M103,-122.5C112.34,-122.5 115.17,-125.13 122,-131.5 133.38,-142.11 124.59,-161.56 137.88,-163.37\"/>\n",
       "<ellipse fill=\"black\" stroke=\"black\" cx=\"139\" cy=\"-163.44\" rx=\"1\" ry=\"1\"/>\n",
       "<text text-anchor=\"middle\" x=\"121.5\" y=\"-134.5\" font-family=\"Times,serif\" font-size=\"10.00\">1</text>\n",
       "</g>\n",
       "<!-- Split&#45;&gt;SwapTwoBits_G0 -->\n",
       "<g id=\"edge12\" class=\"edge\">\n",
       "<title>Split:e-&gt;SwapTwoBits_G0:w</title>\n",
       "<path fill=\"none\" stroke=\"black\" d=\"M103,-110.5C126.16,-110.5 116.74,-15.71 137.86,-9.79\"/>\n",
       "<ellipse fill=\"black\" stroke=\"black\" cx=\"139.01\" cy=\"-9.63\" rx=\"1\" ry=\"1\"/>\n",
       "<text text-anchor=\"middle\" x=\"121.5\" y=\"-65.5\" font-family=\"Times,serif\" font-size=\"10.00\">1</text>\n",
       "</g>\n",
       "<!-- Split&#45;&gt;SwapTwoBits_G3 -->\n",
       "<g id=\"edge6\" class=\"edge\">\n",
       "<title>Split:e-&gt;SwapTwoBits_G3:w</title>\n",
       "<path fill=\"none\" stroke=\"black\" d=\"M103,-128.5C117.67,-128.5 116.14,-142.05 122,-155.5 129.41,-172.51 121.37,-235.32 137.86,-240.2\"/>\n",
       "<ellipse fill=\"black\" stroke=\"black\" cx=\"139.01\" cy=\"-240.36\" rx=\"1\" ry=\"1\"/>\n",
       "<text text-anchor=\"middle\" x=\"121.5\" y=\"-158.5\" font-family=\"Times,serif\" font-size=\"10.00\">1</text>\n",
       "</g>\n",
       "<!-- Split&#45;&gt;SwapTwoBits_G6 -->\n",
       "<g id=\"edge4\" class=\"edge\">\n",
       "<title>Split:e-&gt;SwapTwoBits_G6:w</title>\n",
       "<path fill=\"none\" stroke=\"black\" d=\"M103,-134.5C128.87,-134.5 115.51,-224.22 121,-249.5 127.5,-279.45 109.5,-315.75 137.88,-317.44\"/>\n",
       "<ellipse fill=\"black\" stroke=\"black\" cx=\"139\" cy=\"-317.47\" rx=\"1\" ry=\"1\"/>\n",
       "<text text-anchor=\"middle\" x=\"121.5\" y=\"-306.5\" font-family=\"Times,serif\" font-size=\"10.00\">1</text>\n",
       "</g>\n",
       "<!-- SwapTwoBits_G9 -->\n",
       "<g id=\"node9\" class=\"node\">\n",
       "<title>SwapTwoBits_G9</title>\n",
       "<polygon fill=\"none\" stroke=\"black\" points=\"140,-118.5 140,-135.5 186,-135.5 186,-118.5 140,-118.5\"/>\n",
       "<text text-anchor=\"start\" x=\"143\" y=\"-124.5\" font-family=\"Times,serif\" font-size=\"10.00\">SwapTw..</text>\n",
       "<polygon fill=\"none\" stroke=\"black\" points=\"140,-97.5 140,-118.5 186,-118.5 186,-97.5 140,-97.5\"/>\n",
       "<text text-anchor=\"start\" x=\"159.5\" y=\"-104.3\" font-family=\"Times,serif\" font-size=\"14.00\">x</text>\n",
       "<polygon fill=\"none\" stroke=\"black\" points=\"140,-76.5 140,-97.5 186,-97.5 186,-76.5 140,-76.5\"/>\n",
       "<text text-anchor=\"start\" x=\"159.5\" y=\"-83.3\" font-family=\"Times,serif\" font-size=\"14.00\">y</text>\n",
       "</g>\n",
       "<!-- Split&#45;&gt;SwapTwoBits_G9 -->\n",
       "<g id=\"edge10\" class=\"edge\">\n",
       "<title>Split:e-&gt;SwapTwoBits_G9:w</title>\n",
       "<path fill=\"none\" stroke=\"black\" d=\"M103,-116.5C114,-116.5 112.43,-106.41 121,-99.5 128.34,-93.58 129.6,-87.53 137.77,-86.62\"/>\n",
       "<ellipse fill=\"black\" stroke=\"black\" cx=\"139\" cy=\"-86.55\" rx=\"1\" ry=\"1\"/>\n",
       "<text text-anchor=\"middle\" x=\"121.5\" y=\"-102.5\" font-family=\"Times,serif\" font-size=\"10.00\">1</text>\n",
       "</g>\n",
       "<!-- SwapTwoBits_G9&#45;&gt;Join -->\n",
       "<g id=\"edge16\" class=\"edge\">\n",
       "<title>SwapTwoBits_G9:e-&gt;Join:w</title>\n",
       "<path fill=\"none\" stroke=\"black\" d=\"M186,-108.5C208.75,-108.5 200.1,-201.41 220.89,-207.22\"/>\n",
       "<ellipse fill=\"black\" stroke=\"black\" cx=\"222.01\" cy=\"-207.37\" rx=\"1\" ry=\"1\"/>\n",
       "<text text-anchor=\"middle\" x=\"204.5\" y=\"-163.5\" font-family=\"Times,serif\" font-size=\"10.00\">1</text>\n",
       "</g>\n",
       "<!-- SwapTwoBits_G9&#45;&gt;Join_G12 -->\n",
       "<g id=\"edge21\" class=\"edge\">\n",
       "<title>SwapTwoBits_G9:e-&gt;Join_G12:w</title>\n",
       "<path fill=\"none\" stroke=\"black\" d=\"M186,-86.5C196.23,-86.5 198.27,-91.79 205,-99.5 216.21,-112.35 206.15,-133.41 220.67,-135.35\"/>\n",
       "<ellipse fill=\"black\" stroke=\"black\" cx=\"222\" cy=\"-135.44\" rx=\"1\" ry=\"1\"/>\n",
       "<text text-anchor=\"middle\" x=\"204.5\" y=\"-102.5\" font-family=\"Times,serif\" font-size=\"10.00\">1</text>\n",
       "</g>\n",
       "<!-- y_G53 -->\n",
       "<g id=\"node13\" class=\"node\">\n",
       "<title>y_G53</title>\n",
       "<text text-anchor=\"middle\" x=\"299\" y=\"-137.8\" font-family=\"Times,serif\" font-size=\"14.00\">y</text>\n",
       "</g>\n",
       "<!-- Join_G12&#45;&gt;y_G53 -->\n",
       "<g id=\"edge24\" class=\"edge\">\n",
       "<title>Join_G12:e-&gt;y_G53:w</title>\n",
       "<path fill=\"none\" stroke=\"black\" d=\"M235,-141.5C250.67,-141.5 255.14,-141.5 269.77,-141.5\"/>\n",
       "<ellipse fill=\"black\" stroke=\"black\" cx=\"271\" cy=\"-141.5\" rx=\"1\" ry=\"1\"/>\n",
       "<text text-anchor=\"middle\" x=\"253.5\" y=\"-144.5\" font-family=\"Times,serif\" font-size=\"10.00\">5</text>\n",
       "</g>\n",
       "<!-- Split_G14&#45;&gt;SwapTwoBits -->\n",
       "<g id=\"edge7\" class=\"edge\">\n",
       "<title>Split_G14:e-&gt;SwapTwoBits:w</title>\n",
       "<path fill=\"none\" stroke=\"black\" d=\"M103,-218.5C124.17,-218.5 118.47,-188.03 137.55,-185.65\"/>\n",
       "<ellipse fill=\"black\" stroke=\"black\" cx=\"139\" cy=\"-185.56\" rx=\"1\" ry=\"1\"/>\n",
       "<text text-anchor=\"middle\" x=\"121.5\" y=\"-205.5\" font-family=\"Times,serif\" font-size=\"10.00\">1</text>\n",
       "</g>\n",
       "<!-- Split_G14&#45;&gt;SwapTwoBits_G0 -->\n",
       "<g id=\"edge11\" class=\"edge\">\n",
       "<title>Split_G14:e-&gt;SwapTwoBits_G0:w</title>\n",
       "<path fill=\"none\" stroke=\"black\" d=\"M103,-206.5C130.13,-206.5 115.69,-174.88 122,-148.5 127.95,-123.61 114.47,-36.45 137.93,-31.7\"/>\n",
       "<ellipse fill=\"black\" stroke=\"black\" cx=\"139\" cy=\"-31.6\" rx=\"1\" ry=\"1\"/>\n",
       "<text text-anchor=\"middle\" x=\"121.5\" y=\"-155.5\" font-family=\"Times,serif\" font-size=\"10.00\">1</text>\n",
       "</g>\n",
       "<!-- Split_G14&#45;&gt;SwapTwoBits_G3 -->\n",
       "<g id=\"edge5\" class=\"edge\">\n",
       "<title>Split_G14:e-&gt;SwapTwoBits_G3:w</title>\n",
       "<path fill=\"none\" stroke=\"black\" d=\"M103,-224.5C125.84,-224.5 117.03,-260.16 137.89,-262.39\"/>\n",
       "<ellipse fill=\"black\" stroke=\"black\" cx=\"139\" cy=\"-262.45\" rx=\"1\" ry=\"1\"/>\n",
       "<text text-anchor=\"middle\" x=\"121.5\" y=\"-247.5\" font-family=\"Times,serif\" font-size=\"10.00\">1</text>\n",
       "</g>\n",
       "<!-- Split_G14&#45;&gt;SwapTwoBits_G6 -->\n",
       "<g id=\"edge3\" class=\"edge\">\n",
       "<title>Split_G14:e-&gt;SwapTwoBits_G6:w</title>\n",
       "<path fill=\"none\" stroke=\"black\" d=\"M103,-230.5C136.42,-230.5 109.11,-272.27 121,-303.5 127.18,-319.75 122.32,-338.01 137.99,-339.41\"/>\n",
       "<ellipse fill=\"black\" stroke=\"black\" cx=\"139\" cy=\"-339.46\" rx=\"1\" ry=\"1\"/>\n",
       "<text text-anchor=\"middle\" x=\"121.5\" y=\"-308.5\" font-family=\"Times,serif\" font-size=\"10.00\">1</text>\n",
       "</g>\n",
       "<!-- Split_G14&#45;&gt;SwapTwoBits_G9 -->\n",
       "<g id=\"edge9\" class=\"edge\">\n",
       "<title>Split_G14:e-&gt;SwapTwoBits_G9:w</title>\n",
       "<path fill=\"none\" stroke=\"black\" d=\"M103,-212.5C122.68,-212.5 115.09,-190.93 122,-172.5 132.09,-145.59 111.63,-110.48 137.69,-108.58\"/>\n",
       "<ellipse fill=\"black\" stroke=\"black\" cx=\"139\" cy=\"-108.53\" rx=\"1\" ry=\"1\"/>\n",
       "<text text-anchor=\"middle\" x=\"121.5\" y=\"-177.5\" font-family=\"Times,serif\" font-size=\"10.00\">1</text>\n",
       "</g>\n",
       "</g>\n",
       "</svg>"
      ],
      "text/plain": [
       "<IPython.core.display.SVG object>"
      ]
     },
     "metadata": {},
     "output_type": "display_data"
    }
   ],
   "source": [
    "cbloq = Swap(n=5).decompose_bloq()\n",
    "show_bloq(cbloq)"
   ]
  },
  {
   "cell_type": "markdown",
   "id": "c20817f9",
   "metadata": {},
   "source": [
    "The interleaved wires can get a little confusing. An alternative method of visualization via the familiar \"musical score\" diagram is also available"
   ]
  },
  {
   "cell_type": "code",
   "execution_count": 29,
   "id": "5e35b5bb",
   "metadata": {
    "execution": {
     "iopub.execute_input": "2023-07-21T13:42:56.057182Z",
     "iopub.status.busy": "2023-07-21T13:42:56.057051Z",
     "iopub.status.idle": "2023-07-21T13:42:56.185574Z",
     "shell.execute_reply": "2023-07-21T13:42:56.185269Z"
    }
   },
   "outputs": [
    {
     "data": {
      "image/png": "[encoded data removed]",
      "text/plain": [
       "<Figure size 900x500 with 1 Axes>"
      ]
     },
     "metadata": {},
     "output_type": "display_data"
    }
   ],
   "source": [
    "from qualtran.drawing import get_musical_score_data, draw_musical_score\n",
    "msd = get_musical_score_data(cbloq)\n",
    "fig, ax = draw_musical_score(msd)\n",
    "fig.set_figwidth(9)"
   ]
  },
  {
   "cell_type": "markdown",
   "id": "a56b18da",
   "metadata": {},
   "source": [
    "## Allocations and de-allocations\n",
    "\n",
    "We can encode operations that allocate and/or de-allocate quantum data as well. Each `Register` has an attribute called `side`. By default, it is set to `THRU` meaning that the quantum data moves through the register and that register is available for use as both an input and an output."
   ]
  },
  {
   "cell_type": "code",
   "execution_count": 30,
   "id": "2b195829",
   "metadata": {
    "execution": {
     "iopub.execute_input": "2023-07-21T13:42:56.187241Z",
     "iopub.status.busy": "2023-07-21T13:42:56.187134Z",
     "iopub.status.idle": "2023-07-21T13:42:56.189454Z",
     "shell.execute_reply": "2023-07-21T13:42:56.189207Z"
    }
   },
   "outputs": [
    {
     "data": {
      "text/plain": [
       "<Side.THRU: 3>"
      ]
     },
     "execution_count": 30,
     "metadata": {},
     "output_type": "execute_result"
    }
   ],
   "source": [
    "reg = Register('ctrl', 1)\n",
    "reg.side"
   ]
  },
  {
   "cell_type": "markdown",
   "id": "4788d0c9",
   "metadata": {},
   "source": [
    "### `LEFT` and `RIGHT`\n",
    "\n",
    "We can declare registers that are input-only (\"LEFT\") or output-only (\"RIGHT\"). Pure-state quantum evolution is unitary; so using registers like these implies you're encoding a non-unitary operation. For example: bloqs which allocate a new qubit or discard an existing qubit would have asymmetric registers."
   ]
  },
  {
   "cell_type": "code",
   "execution_count": 31,
   "id": "02d510b9",
   "metadata": {
    "execution": {
     "iopub.execute_input": "2023-07-21T13:42:56.190931Z",
     "iopub.status.busy": "2023-07-21T13:42:56.190820Z",
     "iopub.status.idle": "2023-07-21T13:42:56.252534Z",
     "shell.execute_reply": "2023-07-21T13:42:56.252144Z"
    }
   },
   "outputs": [
    {
     "data": {
      "image/svg+xml": [
       "<svg xmlns=\"http://www.w3.org/2000/svg\" xmlns:xlink=\"http://www.w3.org/1999/xlink\" width=\"376pt\" height=\"76pt\" viewBox=\"0.00 0.00 376.00 75.50\">\n",
       "<g id=\"graph0\" class=\"graph\" transform=\"scale(1 1) rotate(0) translate(4 71.5)\">\n",
       "<title>my_graph</title>\n",
       "<polygon fill=\"white\" stroke=\"none\" points=\"-4,4 -4,-71.5 372,-71.5 372,4 -4,4\"/>\n",
       "<!-- input_only_G1 -->\n",
       "<g id=\"node1\" class=\"node\">\n",
       "<title>input_only_G1</title>\n",
       "<text text-anchor=\"middle\" x=\"37.5\" y=\"-36.3\" font-family=\"Times,serif\" font-size=\"14.00\">input_only</text>\n",
       "</g>\n",
       "<!-- ReAlloc -->\n",
       "<g id=\"node2\" class=\"node\">\n",
       "<title>ReAlloc</title>\n",
       "<polygon fill=\"none\" stroke=\"black\" points=\"112.5,-50 112.5,-67 249.5,-67 249.5,-50 112.5,-50\"/>\n",
       "<text text-anchor=\"start\" x=\"163.5\" y=\"-56\" font-family=\"Times,serif\" font-size=\"10.00\">ReAlloc</text>\n",
       "<polygon fill=\"none\" stroke=\"black\" points=\"112.5,-29 112.5,-50 177.5,-50 177.5,-29 112.5,-29\"/>\n",
       "<text text-anchor=\"start\" x=\"115.5\" y=\"-35.8\" font-family=\"Times,serif\" font-size=\"14.00\">input_only</text>\n",
       "<polygon fill=\"none\" stroke=\"black\" points=\"177.5,-29 177.5,-50 249.5,-50 249.5,-29 177.5,-29\"/>\n",
       "<polygon fill=\"none\" stroke=\"black\" points=\"112.5,-8 112.5,-29 177.5,-29 177.5,-8 112.5,-8\"/>\n",
       "<polygon fill=\"none\" stroke=\"black\" points=\"177.5,-8 177.5,-29 249.5,-29 249.5,-8 177.5,-8\"/>\n",
       "<text text-anchor=\"start\" x=\"180.5\" y=\"-14.8\" font-family=\"Times,serif\" font-size=\"14.00\">output_only</text>\n",
       "</g>\n",
       "<!-- input_only_G1&#45;&gt;ReAlloc -->\n",
       "<g id=\"edge1\" class=\"edge\">\n",
       "<title>input_only_G1:e-&gt;ReAlloc:w</title>\n",
       "<path fill=\"none\" stroke=\"black\" d=\"M75,-40C90.67,-40 95.14,-40 109.77,-40\"/>\n",
       "<ellipse fill=\"black\" stroke=\"black\" cx=\"111\" cy=\"-40\" rx=\"1\" ry=\"1\"/>\n",
       "<text text-anchor=\"middle\" x=\"93.5\" y=\"-43\" font-family=\"Times,serif\" font-size=\"10.00\">1</text>\n",
       "</g>\n",
       "<!-- output_only_G2 -->\n",
       "<g id=\"node3\" class=\"node\">\n",
       "<title>output_only_G2</title>\n",
       "<text text-anchor=\"middle\" x=\"327\" y=\"-14.3\" font-family=\"Times,serif\" font-size=\"14.00\">output_only</text>\n",
       "</g>\n",
       "<!-- ReAlloc&#45;&gt;output_only_G2 -->\n",
       "<g id=\"edge2\" class=\"edge\">\n",
       "<title>ReAlloc:e-&gt;output_only_G2:w</title>\n",
       "<path fill=\"none\" stroke=\"black\" d=\"M249,-18C264.67,-18 269.14,-18 283.77,-18\"/>\n",
       "<ellipse fill=\"black\" stroke=\"black\" cx=\"285\" cy=\"-18\" rx=\"1\" ry=\"1\"/>\n",
       "<text text-anchor=\"middle\" x=\"267.5\" y=\"-21\" font-family=\"Times,serif\" font-size=\"10.00\">1</text>\n",
       "</g>\n",
       "</g>\n",
       "</svg>"
      ],
      "text/plain": [
       "<IPython.core.display.SVG object>"
      ]
     },
     "metadata": {},
     "output_type": "display_data"
    }
   ],
   "source": [
    "from qualtran import Side\n",
    "\n",
    "@attrs.frozen\n",
    "class ReAlloc(Bloq):\n",
    "    @property\n",
    "    def signature(self):\n",
    "        return Signature([\n",
    "            Register('input_only', bitsize=1, side=Side.LEFT),\n",
    "            Register('output_only', bitsize=1, side=Side.RIGHT),\n",
    "        ])\n",
    "    \n",
    "show_bloq(ReAlloc())"
   ]
  },
  {
   "cell_type": "markdown",
   "id": "1537693c",
   "metadata": {},
   "source": [
    "Of course, the signature *only* provides the `side` of the register. It is up to the bloq author to give it functionality by providing a decomposition or annotating it with simulation information. We'll use the `State` and `Effect` one-qubit bloqs provided by the library to explore their behavior under simulation."
   ]
  },
  {
   "cell_type": "code",
   "execution_count": 32,
   "id": "ad7b8708",
   "metadata": {
    "execution": {
     "iopub.execute_input": "2023-07-21T13:42:56.254338Z",
     "iopub.status.busy": "2023-07-21T13:42:56.254199Z",
     "iopub.status.idle": "2023-07-21T13:42:56.392781Z",
     "shell.execute_reply": "2023-07-21T13:42:56.392465Z"
    }
   },
   "outputs": [
    {
     "data": {
      "image/svg+xml": [
       "<svg xmlns=\"http://www.w3.org/2000/svg\" xmlns:xlink=\"http://www.w3.org/1999/xlink\" width=\"118pt\" height=\"54pt\" viewBox=\"0.00 0.00 118.00 54.00\">\n",
       "<g id=\"graph0\" class=\"graph\" transform=\"scale(1 1) rotate(0) translate(4 50)\">\n",
       "<title>my_graph</title>\n",
       "<polygon fill=\"white\" stroke=\"none\" points=\"-4,4 -4,-50 114,-50 114,4 -4,4\"/>\n",
       "<!-- ZeroState -->\n",
       "<g id=\"node1\" class=\"node\">\n",
       "<title>ZeroState</title>\n",
       "<polygon fill=\"none\" stroke=\"black\" points=\"0.5,-29 0.5,-46 19.5,-46 19.5,-29 0.5,-29\"/>\n",
       "<text text-anchor=\"start\" x=\"7\" y=\"-35\" font-family=\"Times,serif\" font-size=\"10.00\">0</text>\n",
       "<polygon fill=\"none\" stroke=\"black\" points=\"0.5,-8 0.5,-29 6.5,-29 6.5,-8 0.5,-8\"/>\n",
       "<polygon fill=\"none\" stroke=\"black\" points=\"6.5,-8 6.5,-29 19.5,-29 19.5,-8 6.5,-8\"/>\n",
       "<text text-anchor=\"start\" x=\"9.5\" y=\"-14.8\" font-family=\"Times,serif\" font-size=\"14.00\">q</text>\n",
       "</g>\n",
       "<!-- q_G0 -->\n",
       "<g id=\"node2\" class=\"node\">\n",
       "<title>q_G0</title>\n",
       "<text text-anchor=\"middle\" x=\"83\" y=\"-14.3\" font-family=\"Times,serif\" font-size=\"14.00\">q</text>\n",
       "</g>\n",
       "<!-- ZeroState&#45;&gt;q_G0 -->\n",
       "<g id=\"edge1\" class=\"edge\">\n",
       "<title>ZeroState:e-&gt;q_G0:w</title>\n",
       "<path fill=\"none\" stroke=\"black\" d=\"M19,-18C34.67,-18 39.14,-18 53.77,-18\"/>\n",
       "<ellipse fill=\"black\" stroke=\"black\" cx=\"55\" cy=\"-18\" rx=\"1\" ry=\"1\"/>\n",
       "<text text-anchor=\"middle\" x=\"37.5\" y=\"-21\" font-family=\"Times,serif\" font-size=\"10.00\">1</text>\n",
       "</g>\n",
       "</g>\n",
       "</svg>"
      ],
      "text/plain": [
       "<IPython.core.display.SVG object>"
      ]
     },
     "metadata": {},
     "output_type": "display_data"
    },
    {
     "data": {
      "text/plain": [
       "array([1.+0.j, 0.+0.j])"
      ]
     },
     "execution_count": 32,
     "metadata": {},
     "output_type": "execute_result"
    }
   ],
   "source": [
    "from qualtran.bloqs.basic_gates import ZeroState\n",
    "\n",
    "# Show a simple allocating bloq and its tensor representation\n",
    "show_bloq(ZeroState())\n",
    "ZeroState().tensor_contract()"
   ]
  },
  {
   "cell_type": "code",
   "execution_count": 33,
   "id": "b5a764f7",
   "metadata": {
    "execution": {
     "iopub.execute_input": "2023-07-21T13:42:56.394482Z",
     "iopub.status.busy": "2023-07-21T13:42:56.394260Z",
     "iopub.status.idle": "2023-07-21T13:42:56.457791Z",
     "shell.execute_reply": "2023-07-21T13:42:56.457439Z"
    }
   },
   "outputs": [
    {
     "data": {
      "image/svg+xml": [
       "<svg xmlns=\"http://www.w3.org/2000/svg\" xmlns:xlink=\"http://www.w3.org/1999/xlink\" width=\"83pt\" height=\"46pt\" viewBox=\"0.00 0.00 83.00 46.00\">\n",
       "<g id=\"graph0\" class=\"graph\" transform=\"scale(1 1) rotate(0) translate(4 42)\">\n",
       "<title>my_graph</title>\n",
       "<polygon fill=\"white\" stroke=\"none\" points=\"-4,4 -4,-42 79,-42 79,4 -4,4\"/>\n",
       "<!-- PlusState -->\n",
       "<g id=\"node1\" class=\"node\">\n",
       "<title>PlusState</title>\n",
       "<polygon fill=\"none\" stroke=\"black\" points=\"0.5,-21 0.5,-38 19.5,-38 19.5,-21 0.5,-21\"/>\n",
       "<text text-anchor=\"start\" x=\"6.5\" y=\"-27\" font-family=\"Times,serif\" font-size=\"10.00\">+</text>\n",
       "<polygon fill=\"none\" stroke=\"black\" points=\"0.5,0 0.5,-21 6.5,-21 6.5,0 0.5,0\"/>\n",
       "<polygon fill=\"none\" stroke=\"black\" points=\"6.5,0 6.5,-21 19.5,-21 19.5,0 6.5,0\"/>\n",
       "<text text-anchor=\"start\" x=\"9.5\" y=\"-6.8\" font-family=\"Times,serif\" font-size=\"14.00\">q</text>\n",
       "</g>\n",
       "<!-- ZeroEffect -->\n",
       "<g id=\"node2\" class=\"node\">\n",
       "<title>ZeroEffect</title>\n",
       "<polygon fill=\"none\" stroke=\"black\" points=\"56.5,-21 56.5,-38 75.5,-38 75.5,-21 56.5,-21\"/>\n",
       "<text text-anchor=\"start\" x=\"63\" y=\"-27\" font-family=\"Times,serif\" font-size=\"10.00\">0</text>\n",
       "<polygon fill=\"none\" stroke=\"black\" points=\"56.5,0 56.5,-21 69.5,-21 69.5,0 56.5,0\"/>\n",
       "<text text-anchor=\"start\" x=\"59.5\" y=\"-6.8\" font-family=\"Times,serif\" font-size=\"14.00\">q</text>\n",
       "<polygon fill=\"none\" stroke=\"black\" points=\"69.5,0 69.5,-21 75.5,-21 75.5,0 69.5,0\"/>\n",
       "</g>\n",
       "<!-- PlusState&#45;&gt;ZeroEffect -->\n",
       "<g id=\"edge1\" class=\"edge\">\n",
       "<title>PlusState:e-&gt;ZeroEffect:w</title>\n",
       "<path fill=\"none\" stroke=\"black\" d=\"M19,-10C34.67,-10 39.14,-10 53.77,-10\"/>\n",
       "<ellipse fill=\"black\" stroke=\"black\" cx=\"55\" cy=\"-10\" rx=\"1\" ry=\"1\"/>\n",
       "<text text-anchor=\"middle\" x=\"37.5\" y=\"-13\" font-family=\"Times,serif\" font-size=\"10.00\">1</text>\n",
       "</g>\n",
       "</g>\n",
       "</svg>"
      ],
      "text/plain": [
       "<IPython.core.display.SVG object>"
      ]
     },
     "metadata": {},
     "output_type": "display_data"
    },
    {
     "data": {
      "text/plain": [
       "0.4999999999999999"
      ]
     },
     "execution_count": 33,
     "metadata": {},
     "output_type": "execute_result"
    }
   ],
   "source": [
    "from qualtran.bloqs.basic_gates import PlusState, ZeroEffect\n",
    "\n",
    "bb = BloqBuilder()\n",
    "\n",
    "# Wire up <+|0>\n",
    "q = bb.add(PlusState())\n",
    "bb.add(ZeroEffect(), q=q)\n",
    "\n",
    "# Show it and find its probability\n",
    "cbloq = bb.finalize()\n",
    "show_bloq(cbloq)\n",
    "cbloq.tensor_contract() ** 2"
   ]
  },
  {
   "cell_type": "markdown",
   "id": "83c0a66d",
   "metadata": {},
   "source": [
    "## Algorithms\n",
    "\n",
    "We've been looking at small, familiar bloqs to get acquainted with the functionality. Bloqs can represent quantum operations at any level of complexity, but are particularly useful for reasining about high-level algorithms. For example, Qualtran includes a reference implementation of modular exponentiation (the limiting operation for Shor's factoring)"
   ]
  },
  {
   "cell_type": "code",
   "execution_count": 34,
   "id": "f5fd2783",
   "metadata": {
    "execution": {
     "iopub.execute_input": "2023-07-21T13:42:56.459654Z",
     "iopub.status.busy": "2023-07-21T13:42:56.459541Z",
     "iopub.status.idle": "2023-07-21T13:42:56.526916Z",
     "shell.execute_reply": "2023-07-21T13:42:56.526563Z"
    }
   },
   "outputs": [
    {
     "data": {
      "image/svg+xml": [
       "<svg xmlns=\"http://www.w3.org/2000/svg\" xmlns:xlink=\"http://www.w3.org/1999/xlink\" width=\"270pt\" height=\"98pt\" viewBox=\"0.00 0.00 270.00 98.00\">\n",
       "<g id=\"graph0\" class=\"graph\" transform=\"scale(1 1) rotate(0) translate(4 94)\">\n",
       "<title>my_graph</title>\n",
       "<polygon fill=\"white\" stroke=\"none\" points=\"-4,4 -4,-94 266,-94 266,4 -4,4\"/>\n",
       "<!-- exponent_G4 -->\n",
       "<g id=\"node1\" class=\"node\">\n",
       "<title>exponent_G4</title>\n",
       "<text text-anchor=\"middle\" x=\"33\" y=\"-52.3\" font-family=\"Times,serif\" font-size=\"14.00\">exponent</text>\n",
       "</g>\n",
       "<!-- ModExp -->\n",
       "<g id=\"node2\" class=\"node\">\n",
       "<title>ModExp</title>\n",
       "<polygon fill=\"none\" stroke=\"black\" points=\"103,-66 103,-83 159,-83 159,-66 103,-66\"/>\n",
       "<text text-anchor=\"start\" x=\"109.5\" y=\"-72\" font-family=\"Times,serif\" font-size=\"10.00\">8^e % 221</text>\n",
       "<polygon fill=\"none\" stroke=\"black\" points=\"103,-45 103,-66 159,-66 159,-45 103,-45\"/>\n",
       "<text text-anchor=\"start\" x=\"106\" y=\"-51.8\" font-family=\"Times,serif\" font-size=\"14.00\">exponent</text>\n",
       "<polygon fill=\"none\" stroke=\"black\" points=\"103,-24 103,-45 127,-45 127,-24 103,-24\"/>\n",
       "<polygon fill=\"none\" stroke=\"black\" points=\"127,-24 127,-45 159,-45 159,-24 127,-24\"/>\n",
       "<text text-anchor=\"start\" x=\"139.5\" y=\"-30.8\" font-family=\"Times,serif\" font-size=\"14.00\">x</text>\n",
       "</g>\n",
       "<!-- exponent_G4&#45;&gt;ModExp -->\n",
       "<g id=\"edge1\" class=\"edge\">\n",
       "<title>exponent_G4:e-&gt;ModExp:w</title>\n",
       "<path fill=\"none\" stroke=\"black\" d=\"M66,-56C81.67,-56 86.14,-56 100.77,-56\"/>\n",
       "<ellipse fill=\"black\" stroke=\"black\" cx=\"102\" cy=\"-56\" rx=\"1\" ry=\"1\"/>\n",
       "<text text-anchor=\"middle\" x=\"84.5\" y=\"-59\" font-family=\"Times,serif\" font-size=\"10.00\">3</text>\n",
       "</g>\n",
       "<!-- exponent_G1 -->\n",
       "<g id=\"node3\" class=\"node\">\n",
       "<title>exponent_G1</title>\n",
       "<text text-anchor=\"middle\" x=\"229\" y=\"-68.3\" font-family=\"Times,serif\" font-size=\"14.00\">exponent</text>\n",
       "</g>\n",
       "<!-- ModExp&#45;&gt;exponent_G1 -->\n",
       "<g id=\"edge2\" class=\"edge\">\n",
       "<title>ModExp:e-&gt;exponent_G1:w</title>\n",
       "<path fill=\"none\" stroke=\"black\" d=\"M159,-56C176.22,-56 177.97,-70.77 193.98,-71.93\"/>\n",
       "<ellipse fill=\"black\" stroke=\"black\" cx=\"195\" cy=\"-71.96\" rx=\"1\" ry=\"1\"/>\n",
       "<text text-anchor=\"middle\" x=\"177.5\" y=\"-67\" font-family=\"Times,serif\" font-size=\"10.00\">3</text>\n",
       "</g>\n",
       "<!-- x_G0 -->\n",
       "<g id=\"node4\" class=\"node\">\n",
       "<title>x_G0</title>\n",
       "<text text-anchor=\"middle\" x=\"229\" y=\"-14.3\" font-family=\"Times,serif\" font-size=\"14.00\">x</text>\n",
       "</g>\n",
       "<!-- ModExp&#45;&gt;x_G0 -->\n",
       "<g id=\"edge3\" class=\"edge\">\n",
       "<title>ModExp:e-&gt;x_G0:w</title>\n",
       "<path fill=\"none\" stroke=\"black\" d=\"M159,-34C178.2,-34 180.84,-19.23 198.74,-18.07\"/>\n",
       "<ellipse fill=\"black\" stroke=\"black\" cx=\"200\" cy=\"-18.03\" rx=\"1\" ry=\"1\"/>\n",
       "<text text-anchor=\"middle\" x=\"177.5\" y=\"-31\" font-family=\"Times,serif\" font-size=\"10.00\">1024</text>\n",
       "</g>\n",
       "</g>\n",
       "</svg>"
      ],
      "text/plain": [
       "<IPython.core.display.SVG object>"
      ]
     },
     "metadata": {},
     "output_type": "display_data"
    }
   ],
   "source": [
    "from qualtran.bloqs.factoring import ModExp\n",
    "\n",
    "mod_exp = ModExp(base=8, mod=13*17, exp_bitsize=3, x_bitsize=1024)\n",
    "show_bloq(mod_exp)"
   ]
  },
  {
   "cell_type": "markdown",
   "id": "e6ff4cfd",
   "metadata": {},
   "source": [
    "High-level bloqs should be defined in terms of only-slightly-less high-level bloqs to keep each step of the decomposition understandable. The `ModExp` bloq's decomposition is:"
   ]
  },
  {
   "cell_type": "code",
   "execution_count": 35,
   "id": "7f5bf452",
   "metadata": {
    "execution": {
     "iopub.execute_input": "2023-07-21T13:42:56.528687Z",
     "iopub.status.busy": "2023-07-21T13:42:56.528558Z",
     "iopub.status.idle": "2023-07-21T13:42:56.531492Z",
     "shell.execute_reply": "2023-07-21T13:42:56.531222Z"
    }
   },
   "outputs": [],
   "source": [
    "def build_composite_bloq(self, bb: 'BloqBuilder', exponent: 'SoquetT') -> Dict[str, 'SoquetT']:\n",
    "    x = bb.add(IntState(val=1, bitsize=self.x_bitsize))\n",
    "    exponent = bb.split(exponent)\n",
    "\n",
    "    # https://en.wikipedia.org/wiki/Modular_exponentiation#Right-to-left_binary_method\n",
    "    base = self.base\n",
    "    for j in range(self.exp_bitsize - 1, 0 - 1, -1):\n",
    "        exponent[j], x = bb.add(self._CtrlModMul(k=base), ctrl=exponent[j], x=x)\n",
    "        base = base * base % self.mod\n",
    "\n",
    "    return {'exponent': bb.join(exponent), 'x': x}"
   ]
  },
  {
   "cell_type": "markdown",
   "id": "5a17bad6",
   "metadata": {},
   "source": [
    "In addition to decomposing and visualizing, we can use other protocols to query properties of the bloq or test its correctness. "
   ]
  },
  {
   "cell_type": "code",
   "execution_count": 36,
   "id": "c2268b3c",
   "metadata": {
    "execution": {
     "iopub.execute_input": "2023-07-21T13:42:56.533027Z",
     "iopub.status.busy": "2023-07-21T13:42:56.532922Z",
     "iopub.status.idle": "2023-07-21T13:42:56.598821Z",
     "shell.execute_reply": "2023-07-21T13:42:56.598496Z"
    }
   },
   "outputs": [
    {
     "data": {
      "image/svg+xml": [
       "<svg xmlns=\"http://www.w3.org/2000/svg\" xmlns:xlink=\"http://www.w3.org/1999/xlink\" width=\"601pt\" height=\"179pt\" viewBox=\"0.00 0.00 601.00 178.50\">\n",
       "<g id=\"graph0\" class=\"graph\" transform=\"scale(1 1) rotate(0) translate(4 174.5)\">\n",
       "<title>my_graph</title>\n",
       "<polygon fill=\"white\" stroke=\"none\" points=\"-4,4 -4,-174.5 597,-174.5 597,4 -4,4\"/>\n",
       "<!-- exponent -->\n",
       "<g id=\"node1\" class=\"node\">\n",
       "<title>exponent</title>\n",
       "<text text-anchor=\"middle\" x=\"33\" y=\"-92.3\" font-family=\"Times,serif\" font-size=\"14.00\">exponent</text>\n",
       "</g>\n",
       "<!-- Split -->\n",
       "<g id=\"node6\" class=\"node\">\n",
       "<title>Split</title>\n",
       "<polygon fill=\"none\" stroke=\"black\" points=\"111.5,-105 111.5,-111 123.5,-111 123.5,-105 111.5,-105\"/>\n",
       "<polygon fill=\"none\" stroke=\"black\" points=\"111.5,-87 111.5,-105 117.5,-105 117.5,-87 111.5,-87\"/>\n",
       "<polygon fill=\"none\" stroke=\"black\" points=\"117.5,-99 117.5,-105 123.5,-105 123.5,-99 117.5,-99\"/>\n",
       "<polygon fill=\"none\" stroke=\"black\" points=\"117.5,-93 117.5,-99 123.5,-99 123.5,-93 117.5,-93\"/>\n",
       "<polygon fill=\"none\" stroke=\"black\" points=\"117.5,-87 117.5,-93 123.5,-93 123.5,-87 117.5,-87\"/>\n",
       "</g>\n",
       "<!-- exponent&#45;&gt;Split -->\n",
       "<g id=\"edge1\" class=\"edge\">\n",
       "<title>exponent:e-&gt;Split:w</title>\n",
       "<path fill=\"none\" stroke=\"black\" d=\"M66,-96C85.01,-96 90.31,-96 108.25,-96\"/>\n",
       "<ellipse fill=\"black\" stroke=\"black\" cx=\"109.5\" cy=\"-96\" rx=\"1\" ry=\"1\"/>\n",
       "<text text-anchor=\"middle\" x=\"84.5\" y=\"-99\" font-family=\"Times,serif\" font-size=\"10.00\">3</text>\n",
       "</g>\n",
       "<!-- Join -->\n",
       "<g id=\"node2\" class=\"node\">\n",
       "<title>Join</title>\n",
       "<polygon fill=\"none\" stroke=\"black\" points=\"478,-71 478,-77 490,-77 490,-71 478,-71\"/>\n",
       "<polygon fill=\"none\" stroke=\"black\" points=\"478,-65 478,-71 484,-71 484,-65 478,-65\"/>\n",
       "<polygon fill=\"none\" stroke=\"black\" points=\"484,-53 484,-71 490,-71 490,-53 484,-53\"/>\n",
       "<polygon fill=\"none\" stroke=\"black\" points=\"478,-59 478,-65 484,-65 484,-59 478,-59\"/>\n",
       "<polygon fill=\"none\" stroke=\"black\" points=\"478,-53 478,-59 484,-59 484,-53 478,-53\"/>\n",
       "</g>\n",
       "<!-- exponent_G16 -->\n",
       "<g id=\"node8\" class=\"node\">\n",
       "<title>exponent_G16</title>\n",
       "<text text-anchor=\"middle\" x=\"560\" y=\"-57.3\" font-family=\"Times,serif\" font-size=\"14.00\">exponent</text>\n",
       "</g>\n",
       "<!-- Join&#45;&gt;exponent_G16 -->\n",
       "<g id=\"edge11\" class=\"edge\">\n",
       "<title>Join:e-&gt;exponent_G16:w</title>\n",
       "<path fill=\"none\" stroke=\"black\" d=\"M490,-62C505.68,-62 510.14,-61.09 524.77,-61.01\"/>\n",
       "<ellipse fill=\"black\" stroke=\"black\" cx=\"526\" cy=\"-61\" rx=\"1\" ry=\"1\"/>\n",
       "<text text-anchor=\"middle\" x=\"508.5\" y=\"-65\" font-family=\"Times,serif\" font-size=\"10.00\">3</text>\n",
       "</g>\n",
       "<!-- IntState -->\n",
       "<g id=\"node3\" class=\"node\">\n",
       "<title>IntState</title>\n",
       "<polygon fill=\"none\" stroke=\"black\" points=\"103.5,-21 103.5,-38 132.5,-38 132.5,-21 103.5,-21\"/>\n",
       "<text text-anchor=\"start\" x=\"115\" y=\"-27\" font-family=\"Times,serif\" font-size=\"10.00\">1</text>\n",
       "<polygon fill=\"none\" stroke=\"black\" points=\"103.5,0 103.5,-21 109.5,-21 109.5,0 103.5,0\"/>\n",
       "<polygon fill=\"none\" stroke=\"black\" points=\"109.5,0 109.5,-21 132.5,-21 132.5,0 109.5,0\"/>\n",
       "<text text-anchor=\"start\" x=\"112.5\" y=\"-6.8\" font-family=\"Times,serif\" font-size=\"14.00\">val</text>\n",
       "</g>\n",
       "<!-- CtrlModMul_G3 -->\n",
       "<g id=\"node7\" class=\"node\">\n",
       "<title>CtrlModMul_G3</title>\n",
       "<polygon fill=\"none\" stroke=\"black\" points=\"169.5,-42 169.5,-59 230.5,-59 230.5,-42 169.5,-42\"/>\n",
       "<text text-anchor=\"start\" x=\"172.5\" y=\"-48\" font-family=\"Times,serif\" font-size=\"10.00\">x *= 8 % 221</text>\n",
       "<polygon fill=\"none\" stroke=\"black\" points=\"169.5,-21 169.5,-42 230.5,-42 230.5,-21 169.5,-21\"/>\n",
       "<text text-anchor=\"start\" x=\"190.5\" y=\"-27.8\" font-family=\"Times,serif\" font-size=\"14.00\">ctrl</text>\n",
       "<polygon fill=\"none\" stroke=\"black\" points=\"169.5,0 169.5,-21 230.5,-21 230.5,0 169.5,0\"/>\n",
       "<text text-anchor=\"start\" x=\"196.5\" y=\"-6.8\" font-family=\"Times,serif\" font-size=\"14.00\">x</text>\n",
       "</g>\n",
       "<!-- IntState&#45;&gt;CtrlModMul_G3 -->\n",
       "<g id=\"edge3\" class=\"edge\">\n",
       "<title>IntState:e-&gt;CtrlModMul_G3:w</title>\n",
       "<path fill=\"none\" stroke=\"black\" d=\"M132,-10C147.67,-10 152.14,-10 166.77,-10\"/>\n",
       "<ellipse fill=\"black\" stroke=\"black\" cx=\"168\" cy=\"-10\" rx=\"1\" ry=\"1\"/>\n",
       "<text text-anchor=\"middle\" x=\"150.5\" y=\"-13\" font-family=\"Times,serif\" font-size=\"10.00\">1024</text>\n",
       "</g>\n",
       "<!-- CtrlModMul -->\n",
       "<g id=\"node4\" class=\"node\">\n",
       "<title>CtrlModMul</title>\n",
       "<polygon fill=\"none\" stroke=\"black\" points=\"267.5,-100 267.5,-117 334.5,-117 334.5,-100 267.5,-100\"/>\n",
       "<text text-anchor=\"start\" x=\"270.5\" y=\"-106\" font-family=\"Times,serif\" font-size=\"10.00\">x *= 64 % 221</text>\n",
       "<polygon fill=\"none\" stroke=\"black\" points=\"267.5,-79 267.5,-100 334.5,-100 334.5,-79 267.5,-79\"/>\n",
       "<text text-anchor=\"start\" x=\"291.5\" y=\"-85.8\" font-family=\"Times,serif\" font-size=\"14.00\">ctrl</text>\n",
       "<polygon fill=\"none\" stroke=\"black\" points=\"267.5,-58 267.5,-79 334.5,-79 334.5,-58 267.5,-58\"/>\n",
       "<text text-anchor=\"start\" x=\"297.5\" y=\"-64.8\" font-family=\"Times,serif\" font-size=\"14.00\">x</text>\n",
       "</g>\n",
       "<!-- CtrlModMul&#45;&gt;Join -->\n",
       "<g id=\"edge9\" class=\"edge\">\n",
       "<title>CtrlModMul:e-&gt;Join:w</title>\n",
       "<path fill=\"none\" stroke=\"black\" d=\"M334,-90C398.43,-90 412.48,-62.65 475.73,-62.01\"/>\n",
       "<ellipse fill=\"black\" stroke=\"black\" cx=\"477\" cy=\"-62.01\" rx=\"1\" ry=\"1\"/>\n",
       "<text text-anchor=\"middle\" x=\"406\" y=\"-89\" font-family=\"Times,serif\" font-size=\"10.00\">1</text>\n",
       "</g>\n",
       "<!-- CtrlModMul_G0 -->\n",
       "<g id=\"node5\" class=\"node\">\n",
       "<title>CtrlModMul_G0</title>\n",
       "<polygon fill=\"none\" stroke=\"black\" points=\"371,-153 371,-170 441,-170 441,-153 371,-153\"/>\n",
       "<text text-anchor=\"start\" x=\"374\" y=\"-159\" font-family=\"Times,serif\" font-size=\"10.00\">x *= 118 % 221</text>\n",
       "<polygon fill=\"none\" stroke=\"black\" points=\"371,-132 371,-153 441,-153 441,-132 371,-132\"/>\n",
       "<text text-anchor=\"start\" x=\"396.5\" y=\"-138.8\" font-family=\"Times,serif\" font-size=\"14.00\">ctrl</text>\n",
       "<polygon fill=\"none\" stroke=\"black\" points=\"371,-111 371,-132 441,-132 441,-111 371,-111\"/>\n",
       "<text text-anchor=\"start\" x=\"402.5\" y=\"-117.8\" font-family=\"Times,serif\" font-size=\"14.00\">x</text>\n",
       "</g>\n",
       "<!-- CtrlModMul&#45;&gt;CtrlModMul_G0 -->\n",
       "<g id=\"edge7\" class=\"edge\">\n",
       "<title>CtrlModMul:e-&gt;CtrlModMul_G0:w</title>\n",
       "<path fill=\"none\" stroke=\"black\" d=\"M334,-68C361.94,-68 343.35,-118.14 368.75,-120.88\"/>\n",
       "<ellipse fill=\"black\" stroke=\"black\" cx=\"370\" cy=\"-120.95\" rx=\"1\" ry=\"1\"/>\n",
       "<text text-anchor=\"middle\" x=\"352.5\" y=\"-99\" font-family=\"Times,serif\" font-size=\"10.00\">1024</text>\n",
       "</g>\n",
       "<!-- CtrlModMul_G0&#45;&gt;Join -->\n",
       "<g id=\"edge8\" class=\"edge\">\n",
       "<title>CtrlModMul_G0:e-&gt;Join:w</title>\n",
       "<path fill=\"none\" stroke=\"black\" d=\"M441,-143C458.86,-143 459.4,-73.74 475.91,-68.33\"/>\n",
       "<ellipse fill=\"black\" stroke=\"black\" cx=\"477.01\" cy=\"-68.16\" rx=\"1\" ry=\"1\"/>\n",
       "<text text-anchor=\"middle\" x=\"459.5\" y=\"-108\" font-family=\"Times,serif\" font-size=\"10.00\">1</text>\n",
       "</g>\n",
       "<!-- x_G12 -->\n",
       "<g id=\"node9\" class=\"node\">\n",
       "<title>x_G12</title>\n",
       "<text text-anchor=\"middle\" x=\"560\" y=\"-111.3\" font-family=\"Times,serif\" font-size=\"14.00\">x</text>\n",
       "</g>\n",
       "<!-- CtrlModMul_G0&#45;&gt;x_G12 -->\n",
       "<g id=\"edge12\" class=\"edge\">\n",
       "<title>CtrlModMul_G0:e-&gt;x_G12:w</title>\n",
       "<path fill=\"none\" stroke=\"black\" d=\"M441,-121C480.74,-121 491.07,-115.23 529.66,-115.01\"/>\n",
       "<ellipse fill=\"black\" stroke=\"black\" cx=\"531\" cy=\"-115\" rx=\"1\" ry=\"1\"/>\n",
       "<text text-anchor=\"middle\" x=\"484\" y=\"-121\" font-family=\"Times,serif\" font-size=\"10.00\">1024</text>\n",
       "</g>\n",
       "<!-- Split&#45;&gt;CtrlModMul -->\n",
       "<g id=\"edge4\" class=\"edge\">\n",
       "<title>Split:e-&gt;CtrlModMul:w</title>\n",
       "<path fill=\"none\" stroke=\"black\" d=\"M124.5,-96C187.15,-96 203.24,-90.14 264.79,-90\"/>\n",
       "<ellipse fill=\"black\" stroke=\"black\" cx=\"266\" cy=\"-90\" rx=\"1\" ry=\"1\"/>\n",
       "<text text-anchor=\"middle\" x=\"199.5\" y=\"-97\" font-family=\"Times,serif\" font-size=\"10.00\">1</text>\n",
       "</g>\n",
       "<!-- Split&#45;&gt;CtrlModMul_G0 -->\n",
       "<g id=\"edge6\" class=\"edge\">\n",
       "<title>Split:e-&gt;CtrlModMul_G0:w</title>\n",
       "<path fill=\"none\" stroke=\"black\" d=\"M124.5,-102C136.25,-102 138.51,-106.55 150,-109 246.52,-129.6 271.28,-142.82 368.97,-143\"/>\n",
       "<ellipse fill=\"black\" stroke=\"black\" cx=\"370\" cy=\"-143\" rx=\"1\" ry=\"1\"/>\n",
       "<text text-anchor=\"middle\" x=\"248.5\" y=\"-134\" font-family=\"Times,serif\" font-size=\"10.00\">1</text>\n",
       "</g>\n",
       "<!-- Split&#45;&gt;CtrlModMul_G3 -->\n",
       "<g id=\"edge2\" class=\"edge\">\n",
       "<title>Split:e-&gt;CtrlModMul_G3:w</title>\n",
       "<path fill=\"none\" stroke=\"black\" d=\"M124.5,-90C156.23,-90 137.44,-34.69 166.8,-32.09\"/>\n",
       "<ellipse fill=\"black\" stroke=\"black\" cx=\"168\" cy=\"-32.04\" rx=\"1\" ry=\"1\"/>\n",
       "<text text-anchor=\"middle\" x=\"150.5\" y=\"-51\" font-family=\"Times,serif\" font-size=\"10.00\">1</text>\n",
       "</g>\n",
       "<!-- CtrlModMul_G3&#45;&gt;Join -->\n",
       "<g id=\"edge10\" class=\"edge\">\n",
       "<title>CtrlModMul_G3:e-&gt;Join:w</title>\n",
       "<path fill=\"none\" stroke=\"black\" d=\"M230,-32C339.98,-32 366.9,-55.67 475.74,-56\"/>\n",
       "<ellipse fill=\"black\" stroke=\"black\" cx=\"477\" cy=\"-56\" rx=\"1\" ry=\"1\"/>\n",
       "<text text-anchor=\"middle\" x=\"352.5\" y=\"-47\" font-family=\"Times,serif\" font-size=\"10.00\">1</text>\n",
       "</g>\n",
       "<!-- CtrlModMul_G3&#45;&gt;CtrlModMul -->\n",
       "<g id=\"edge5\" class=\"edge\">\n",
       "<title>CtrlModMul_G3:e-&gt;CtrlModMul:w</title>\n",
       "<path fill=\"none\" stroke=\"black\" d=\"M230,-10C259.86,-10 237.53,-65.31 264.94,-67.91\"/>\n",
       "<ellipse fill=\"black\" stroke=\"black\" cx=\"266\" cy=\"-67.95\" rx=\"1\" ry=\"1\"/>\n",
       "<text text-anchor=\"middle\" x=\"248.5\" y=\"-46\" font-family=\"Times,serif\" font-size=\"10.00\">1024</text>\n",
       "</g>\n",
       "</g>\n",
       "</svg>"
      ],
      "text/plain": [
       "<IPython.core.display.SVG object>"
      ]
     },
     "metadata": {},
     "output_type": "display_data"
    }
   ],
   "source": [
    "show_bloq(mod_exp.decompose_bloq())"
   ]
  },
  {
   "cell_type": "markdown",
   "id": "e74ee2b3",
   "metadata": {},
   "source": [
    "## Bloq protocols\n",
    "\n",
    "Bloqs support a growing list of protocols that let you annotate a given `Bloq` with more\n",
    "definitions or known information. In the following table we summarize the available protocols. Please note that the method you override as a bloq writer is often different than the method you call as a bloq user.\n",
    "\n",
    "| What                 | Call this                   | Override this               | Docs                                                    |\n",
    "|----------------------|-----------------------------|-----------------------------|---------------------------------------------------------|\n",
    "| Bloq decomposition   | `decompose_bloq()`          | `build_composite_bloq(...)` | [Composite bloq](/_infra/composite_bloq.ipynb)          |\n",
    "| Numerical simulation | `tensor_contract()`         | `add_my_tensors(...)`       |                                                         |\n",
    "| Classical simulation | `call_classically(**vals)`  | `on_classical_vals(...)`    | [Classical simulation](/simulation/classical_sim.ipynb) |\n",
    "| Resource counting    | `bloq_counts()`             | `bloq_counts()`             | [Bloq counts](/resource_counting/bloq_counts.ipynb)     |\n",
    "| Conversion to Cirq   | `to_cirq_circuit(**quregs)` | `as_cirq_op(...)`           | [Cirq Interop](/cirq_interop/cirq_interop.ipynb)        |"
   ]
  }
 ],
 "metadata": {
  "kernelspec": {
   "display_name": "Python 3 (ipykernel)",
   "language": "python",
   "name": "python3"
  },
  "language_info": {
   "codemirror_mode": {
    "name": "ipython",
    "version": 3
   },
   "file_extension": ".py",
   "mimetype": "text/x-python",
   "name": "python",
   "nbconvert_exporter": "python",
   "pygments_lexer": "ipython3",
   "version": "3.10.9"
  }
 },
 "nbformat": 4,
 "nbformat_minor": 5
}
